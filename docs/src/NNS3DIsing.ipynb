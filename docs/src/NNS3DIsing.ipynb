{
 "cells": [
  {
   "cell_type": "markdown",
   "metadata": {},
   "source": [
    "# Ising model on a nearest neighbor random graph\n",
    "This is another example including Ising model where the underlying graph is a random nearest neighbor graph on plane. "
   ]
  },
  {
   "cell_type": "code",
   "execution_count": 1,
   "metadata": {
    "scrolled": true
   },
   "outputs": [
    {
     "name": "stderr",
     "output_type": "stream",
     "text": [
      "\u001b[32m\u001b[1m  Activating\u001b[22m\u001b[39m project at `~/Documents/EasyABM`\n",
      "\u001b[36m\u001b[1m[ \u001b[22m\u001b[39m\u001b[36m\u001b[1mInfo: \u001b[22m\u001b[39mPrecompiling EasyABM [2ab8e4d3-e1e9-4248-86a3-8419d2d242e9]\n"
     ]
    },
    {
     "data": {
      "application/vnd.webio.node+json": {
       "children": [],
       "instanceArgs": {
        "namespace": "html",
        "tag": "div"
       },
       "nodeType": "DOM",
       "props": {},
       "type": "node"
      },
      "text/html": [
       "<div style=\"padding: 1em; background-color: #f8d6da; border: 1px solid #f5c6cb; font-weight: bold;\">\n",
       "<p>The WebIO Jupyter extension was not detected. See the\n",
       "<a href=\"https://juliagizmos.github.io/WebIO.jl/latest/providers/ijulia/\" target=\"_blank\">\n",
       "    WebIO Jupyter integration documentation\n",
       "</a>\n",
       "for more information.\n",
       "</div>\n"
      ],
      "text/plain": [
       "WebIO._IJuliaInit()"
      ]
     },
     "metadata": {
      "application/vnd.webio.node+json": {
       "kernelId": "ee887205-ec53-45cb-8b2e-aa981d735b89"
      }
     },
     "output_type": "display_data"
    }
   ],
   "source": [
    "using Pkg, Revise\n",
    "Pkg.activate(joinpath(@__DIR__, \"../..\"))\n",
    "using EasyABM"
   ]
  },
  {
   "cell_type": "markdown",
   "metadata": {},
   "source": [
    "## Step 1: Create Model\n",
    "\n",
    "In this model we will work solely with the graph and won't need agents. We initially create an empty graph and then create our model as follows. "
   ]
  },
  {
   "cell_type": "code",
   "execution_count": 2,
   "metadata": {
    "scrolled": true
   },
   "outputs": [
    {
     "data": {
      "text/plain": [
       "SimplePropGraph\n",
       "vertices: Int64[]\n",
       "edges: \n"
      ]
     },
     "execution_count": 2,
     "metadata": {},
     "output_type": "execute_result"
    }
   ],
   "source": [
    "graph = dynamic_simple_graph(0)"
   ]
  },
  {
   "cell_type": "code",
   "execution_count": 3,
   "metadata": {
    "scrolled": false
   },
   "outputs": [
    {
     "data": {
      "text/plain": [
       "EasyABM GraphModel{EasyABM.MortalType, EasyABM.StaticType, EasyABM.SimGType}: In a {EasyABM.MortalType, EasyABM.StaticType} model graph topology can change and agents number is fixed.\n"
      ]
     },
     "execution_count": 3,
     "metadata": {},
     "output_type": "execute_result"
    }
   ],
   "source": [
    "model = create_graph_model(graph, temp = 2.0, coupl = 2.5, nns = 5, vis_space=\"3d\")"
   ]
  },
  {
   "cell_type": "markdown",
   "metadata": {},
   "source": [
    "# Step 2: Initialise the model\n",
    "\n",
    " In the `initialiser!` function we create a list of n = 100 random points in the plane and fill our graph with n nodes and set the position of ith node to the ith random point. We then link each node to its `nns` number of nearest neighbors and randomly set each node's color to either `cl\"black\"` or `cl\"red\"` and set spin value to +1 for `cl\"black\"` nodes and -1 for `cl\"red\"` nodes. In the `init_model!` function, the argument `props_to_record` specifies the nodes properties which we want to record during model run.  "
   ]
  },
  {
   "cell_type": "code",
   "execution_count": 5,
   "metadata": {},
   "outputs": [],
   "source": [
    "using NearestNeighbors"
   ]
  },
  {
   "cell_type": "code",
   "execution_count": 6,
   "metadata": {},
   "outputs": [],
   "source": [
    "const n=100;"
   ]
  },
  {
   "cell_type": "code",
   "execution_count": 7,
   "metadata": {},
   "outputs": [
    {
     "data": {
      "text/plain": [
       "initialiser! (generic function with 1 method)"
      ]
     },
     "execution_count": 7,
     "metadata": {},
     "output_type": "execute_result"
    }
   ],
   "source": [
    "vecs = rand(3, n) .* 10\n",
    "kdtree = KDTree(vecs,leafsize=1)\n",
    "\n",
    "function initialiser!(model)\n",
    "    flush_graph!(model) # deletes all nodes and edges\n",
    "    add_nodes!(n, model, color = cl\"black\", spin =1) # adds n nodes to model's graph with all the nodes having color black and spin 1\n",
    "    for i in 1:n \n",
    "        model.graph.nodesprops[i].pos3 = (vecs[1,i], vecs[2,i], vecs[3,i]) # set positions of nodes in the 2d plane\n",
    "        indices, _ = knn(kdtree, vecs[:,i], model.parameters.nns, true) # indices of nearest neighboring vectors\n",
    "        for j in indices\n",
    "            if j!=i\n",
    "                create_edge!(i,j, model)\n",
    "            end\n",
    "        end\n",
    "        if rand()<0.5\n",
    "            model.graph.nodesprops[i].spin = 1\n",
    "            model.graph.nodesprops[i].color = cl\"black\"\n",
    "        else\n",
    "            model.graph.nodesprops[i].spin = -1\n",
    "            model.graph.nodesprops[i].color = cl\"red\"\n",
    "        end\n",
    "    end\n",
    "end"
   ]
  },
  {
   "cell_type": "code",
   "execution_count": 8,
   "metadata": {},
   "outputs": [],
   "source": [
    "init_model!(model, initialiser= initialiser!, props_to_record = Dict(\"nodes\"=>Set([:color, :spin]))) "
   ]
  },
  {
   "cell_type": "code",
   "execution_count": 31,
   "metadata": {
    "scrolled": true
   },
   "outputs": [
    {
     "name": "stderr",
     "output_type": "stream",
     "text": [
      "\u001b[36m\u001b[1m[ \u001b[22m\u001b[39m\u001b[36m\u001b[1mInfo: \u001b[22m\u001b[39mListening on: 127.0.0.1:8701, thread id: 1\n",
      "\u001b[36m\u001b[1m┌ \u001b[22m\u001b[39m\u001b[36m\u001b[1mInfo: \u001b[22m\u001b[39mMeshCat server started. You can open the visualizer by visiting the following URL in your browser:\n",
      "\u001b[36m\u001b[1m└ \u001b[22m\u001b[39mhttp://127.0.0.1:8701\n"
     ]
    },
    {
     "data": {
      "text/html": [
       "    <div style=\"height: 500px; width: 100%; overflow-x: auto; overflow-y: hidden; resize: both\">\n",
       "    <iframe src=\"http://127.0.0.1:8701\" style=\"width: 100%; height: 100%; border: none\"></iframe>\n",
       "    </div>\n"
      ],
      "text/plain": [
       "MeshCat.DisplayedVisualizer(MeshCat.CoreVisualizer(MeshCat.SceneTrees.SceneNode(nothing, nothing, Dict{String, Vector{UInt8}}(), nothing, Dict{String, MeshCat.SceneTrees.SceneNode}(\"meshcat\" => MeshCat.SceneTrees.SceneNode(nothing, UInt8[0x83, 0xa6, 0x6d, 0x61, 0x74, 0x72, 0x69, 0x78, 0xc7, 0x40  …  0x68, 0xa8, 0x2f, 0x6d, 0x65, 0x73, 0x68, 0x63, 0x61, 0x74], Dict{String, Vector{UInt8}}(), nothing, Dict{String, MeshCat.SceneTrees.SceneNode}(\"nodes\" => MeshCat.SceneTrees.SceneNode(nothing, nothing, Dict{String, Vector{UInt8}}(), nothing, Dict{String, MeshCat.SceneTrees.SceneNode}(\"32\" => MeshCat.SceneTrees.SceneNode(UInt8[0x83, 0xa6, 0x6f, 0x62, 0x6a, 0x65, 0x63, 0x74, 0x84, 0xaa  …  0x74, 0x2f, 0x6e, 0x6f, 0x64, 0x65, 0x73, 0x2f, 0x33, 0x32], UInt8[0x83, 0xa6, 0x6d, 0x61, 0x74, 0x72, 0x69, 0x78, 0xc7, 0x40  …  0x74, 0x2f, 0x6e, 0x6f, 0x64, 0x65, 0x73, 0x2f, 0x33, 0x32], Dict{String, Vector{UInt8}}(), nothing, Dict{String, MeshCat.SceneTrees.SceneNode}()), \"29\" => MeshCat.SceneTrees.SceneNode(UInt8[0x83, 0xa6, 0x6f, 0x62, 0x6a, 0x65, 0x63, 0x74, 0x84, 0xaa  …  0x74, 0x2f, 0x6e, 0x6f, 0x64, 0x65, 0x73, 0x2f, 0x32, 0x39], UInt8[0x83, 0xa6, 0x6d, 0x61, 0x74, 0x72, 0x69, 0x78, 0xc7, 0x40  …  0x74, 0x2f, 0x6e, 0x6f, 0x64, 0x65, 0x73, 0x2f, 0x32, 0x39], Dict{String, Vector{UInt8}}(), nothing, Dict{String, MeshCat.SceneTrees.SceneNode}()), \"1\" => MeshCat.SceneTrees.SceneNode(UInt8[0x83, 0xa6, 0x6f, 0x62, 0x6a, 0x65, 0x63, 0x74, 0x84, 0xaa  …  0x61, 0x74, 0x2f, 0x6e, 0x6f, 0x64, 0x65, 0x73, 0x2f, 0x31], UInt8[0x83, 0xa6, 0x6d, 0x61, 0x74, 0x72, 0x69, 0x78, 0xc7, 0x40  …  0x61, 0x74, 0x2f, 0x6e, 0x6f, 0x64, 0x65, 0x73, 0x2f, 0x31], Dict{String, Vector{UInt8}}(), nothing, Dict{String, MeshCat.SceneTrees.SceneNode}()), \"54\" => MeshCat.SceneTrees.SceneNode(UInt8[0x83, 0xa6, 0x6f, 0x62, 0x6a, 0x65, 0x63, 0x74, 0x84, 0xaa  …  0x74, 0x2f, 0x6e, 0x6f, 0x64, 0x65, 0x73, 0x2f, 0x35, 0x34], UInt8[0x83, 0xa6, 0x6d, 0x61, 0x74, 0x72, 0x69, 0x78, 0xc7, 0x40  …  0x74, 0x2f, 0x6e, 0x6f, 0x64, 0x65, 0x73, 0x2f, 0x35, 0x34], Dict{String, Vector{UInt8}}(), nothing, Dict{String, MeshCat.SceneTrees.SceneNode}()), \"78\" => MeshCat.SceneTrees.SceneNode(UInt8[0x83, 0xa6, 0x6f, 0x62, 0x6a, 0x65, 0x63, 0x74, 0x84, 0xaa  …  0x74, 0x2f, 0x6e, 0x6f, 0x64, 0x65, 0x73, 0x2f, 0x37, 0x38], UInt8[0x83, 0xa6, 0x6d, 0x61, 0x74, 0x72, 0x69, 0x78, 0xc7, 0x40  …  0x74, 0x2f, 0x6e, 0x6f, 0x64, 0x65, 0x73, 0x2f, 0x37, 0x38], Dict{String, Vector{UInt8}}(), nothing, Dict{String, MeshCat.SceneTrees.SceneNode}()), \"81\" => MeshCat.SceneTrees.SceneNode(UInt8[0x83, 0xa6, 0x6f, 0x62, 0x6a, 0x65, 0x63, 0x74, 0x84, 0xaa  …  0x74, 0x2f, 0x6e, 0x6f, 0x64, 0x65, 0x73, 0x2f, 0x38, 0x31], UInt8[0x83, 0xa6, 0x6d, 0x61, 0x74, 0x72, 0x69, 0x78, 0xc7, 0x40  …  0x74, 0x2f, 0x6e, 0x6f, 0x64, 0x65, 0x73, 0x2f, 0x38, 0x31], Dict{String, Vector{UInt8}}(), nothing, Dict{String, MeshCat.SceneTrees.SceneNode}()), \"2\" => MeshCat.SceneTrees.SceneNode(UInt8[0x83, 0xa6, 0x6f, 0x62, 0x6a, 0x65, 0x63, 0x74, 0x84, 0xaa  …  0x61, 0x74, 0x2f, 0x6e, 0x6f, 0x64, 0x65, 0x73, 0x2f, 0x32], UInt8[0x83, 0xa6, 0x6d, 0x61, 0x74, 0x72, 0x69, 0x78, 0xc7, 0x40  …  0x61, 0x74, 0x2f, 0x6e, 0x6f, 0x64, 0x65, 0x73, 0x2f, 0x32], Dict{String, Vector{UInt8}}(), nothing, Dict{String, MeshCat.SceneTrees.SceneNode}()), \"74\" => MeshCat.SceneTrees.SceneNode(UInt8[0x83, 0xa6, 0x6f, 0x62, 0x6a, 0x65, 0x63, 0x74, 0x84, 0xaa  …  0x74, 0x2f, 0x6e, 0x6f, 0x64, 0x65, 0x73, 0x2f, 0x37, 0x34], UInt8[0x83, 0xa6, 0x6d, 0x61, 0x74, 0x72, 0x69, 0x78, 0xc7, 0x40  …  0x74, 0x2f, 0x6e, 0x6f, 0x64, 0x65, 0x73, 0x2f, 0x37, 0x34], Dict{String, Vector{UInt8}}(), nothing, Dict{String, MeshCat.SceneTrees.SceneNode}()), \"41\" => MeshCat.SceneTrees.SceneNode(UInt8[0x83, 0xa6, 0x6f, 0x62, 0x6a, 0x65, 0x63, 0x74, 0x84, 0xaa  …  0x74, 0x2f, 0x6e, 0x6f, 0x64, 0x65, 0x73, 0x2f, 0x34, 0x31], UInt8[0x83, 0xa6, 0x6d, 0x61, 0x74, 0x72, 0x69, 0x78, 0xc7, 0x40  …  0x74, 0x2f, 0x6e, 0x6f, 0x64, 0x65, 0x73, 0x2f, 0x34, 0x31], Dict{String, Vector{UInt8}}(), nothing, Dict{String, MeshCat.SceneTrees.SceneNode}()), \"65\" => MeshCat.SceneTrees.SceneNode(UInt8[0x83, 0xa6, 0x6f, 0x62, 0x6a, 0x65, 0x63, 0x74, 0x84, 0xaa  …  0x74, 0x2f, 0x6e, 0x6f, 0x64, 0x65, 0x73, 0x2f, 0x36, 0x35], UInt8[0x83, 0xa6, 0x6d, 0x61, 0x74, 0x72, 0x69, 0x78, 0xc7, 0x40  …  0x74, 0x2f, 0x6e, 0x6f, 0x64, 0x65, 0x73, 0x2f, 0x36, 0x35], Dict{String, Vector{UInt8}}(), nothing, Dict{String, MeshCat.SceneTrees.SceneNode}())…)), \"bbox_line_segments\" => MeshCat.SceneTrees.SceneNode(nothing, nothing, Dict{String, Vector{UInt8}}(), nothing, Dict{String, MeshCat.SceneTrees.SceneNode}(\"4\" => MeshCat.SceneTrees.SceneNode(UInt8[0x83, 0xa6, 0x6f, 0x62, 0x6a, 0x65, 0x63, 0x74, 0x84, 0xaa  …  0x73, 0x65, 0x67, 0x6d, 0x65, 0x6e, 0x74, 0x73, 0x2f, 0x34], nothing, Dict{String, Vector{UInt8}}(), nothing, Dict{String, MeshCat.SceneTrees.SceneNode}()), \"1\" => MeshCat.SceneTrees.SceneNode(UInt8[0x83, 0xa6, 0x6f, 0x62, 0x6a, 0x65, 0x63, 0x74, 0x84, 0xaa  …  0x73, 0x65, 0x67, 0x6d, 0x65, 0x6e, 0x74, 0x73, 0x2f, 0x31], nothing, Dict{String, Vector{UInt8}}(), nothing, Dict{String, MeshCat.SceneTrees.SceneNode}()), \"12\" => MeshCat.SceneTrees.SceneNode(UInt8[0x83, 0xa6, 0x6f, 0x62, 0x6a, 0x65, 0x63, 0x74, 0x84, 0xaa  …  0x65, 0x67, 0x6d, 0x65, 0x6e, 0x74, 0x73, 0x2f, 0x31, 0x32], nothing, Dict{String, Vector{UInt8}}(), nothing, Dict{String, MeshCat.SceneTrees.SceneNode}()), \"2\" => MeshCat.SceneTrees.SceneNode(UInt8[0x83, 0xa6, 0x6f, 0x62, 0x6a, 0x65, 0x63, 0x74, 0x84, 0xaa  …  0x73, 0x65, 0x67, 0x6d, 0x65, 0x6e, 0x74, 0x73, 0x2f, 0x32], nothing, Dict{String, Vector{UInt8}}(), nothing, Dict{String, MeshCat.SceneTrees.SceneNode}()), \"6\" => MeshCat.SceneTrees.SceneNode(UInt8[0x83, 0xa6, 0x6f, 0x62, 0x6a, 0x65, 0x63, 0x74, 0x84, 0xaa  …  0x73, 0x65, 0x67, 0x6d, 0x65, 0x6e, 0x74, 0x73, 0x2f, 0x36], nothing, Dict{String, Vector{UInt8}}(), nothing, Dict{String, MeshCat.SceneTrees.SceneNode}()), \"11\" => MeshCat.SceneTrees.SceneNode(UInt8[0x83, 0xa6, 0x6f, 0x62, 0x6a, 0x65, 0x63, 0x74, 0x84, 0xaa  …  0x65, 0x67, 0x6d, 0x65, 0x6e, 0x74, 0x73, 0x2f, 0x31, 0x31], nothing, Dict{String, Vector{UInt8}}(), nothing, Dict{String, MeshCat.SceneTrees.SceneNode}()), \"5\" => MeshCat.SceneTrees.SceneNode(UInt8[0x83, 0xa6, 0x6f, 0x62, 0x6a, 0x65, 0x63, 0x74, 0x84, 0xaa  …  0x73, 0x65, 0x67, 0x6d, 0x65, 0x6e, 0x74, 0x73, 0x2f, 0x35], nothing, Dict{String, Vector{UInt8}}(), nothing, Dict{String, MeshCat.SceneTrees.SceneNode}()), \"7\" => MeshCat.SceneTrees.SceneNode(UInt8[0x83, 0xa6, 0x6f, 0x62, 0x6a, 0x65, 0x63, 0x74, 0x84, 0xaa  …  0x73, 0x65, 0x67, 0x6d, 0x65, 0x6e, 0x74, 0x73, 0x2f, 0x37], nothing, Dict{String, Vector{UInt8}}(), nothing, Dict{String, MeshCat.SceneTrees.SceneNode}()), \"8\" => MeshCat.SceneTrees.SceneNode(UInt8[0x83, 0xa6, 0x6f, 0x62, 0x6a, 0x65, 0x63, 0x74, 0x84, 0xaa  …  0x73, 0x65, 0x67, 0x6d, 0x65, 0x6e, 0x74, 0x73, 0x2f, 0x38], nothing, Dict{String, Vector{UInt8}}(), nothing, Dict{String, MeshCat.SceneTrees.SceneNode}()), \"10\" => MeshCat.SceneTrees.SceneNode(UInt8[0x83, 0xa6, 0x6f, 0x62, 0x6a, 0x65, 0x63, 0x74, 0x84, 0xaa  …  0x65, 0x67, 0x6d, 0x65, 0x6e, 0x74, 0x73, 0x2f, 0x31, 0x30], nothing, Dict{String, Vector{UInt8}}(), nothing, Dict{String, MeshCat.SceneTrees.SceneNode}())…)), \"edges\" => MeshCat.SceneTrees.SceneNode(nothing, nothing, Dict{String, Vector{UInt8}}(), nothing, Dict{String, MeshCat.SceneTrees.SceneNode}(\"(16, 95)\" => MeshCat.SceneTrees.SceneNode(UInt8[0x83, 0xa6, 0x6f, 0x62, 0x6a, 0x65, 0x63, 0x74, 0x84, 0xaa  …  0x73, 0x2f, 0x28, 0x31, 0x36, 0x2c, 0x20, 0x39, 0x35, 0x29], UInt8[0x83, 0xa6, 0x6d, 0x61, 0x74, 0x72, 0x69, 0x78, 0xc7, 0x40  …  0x73, 0x2f, 0x28, 0x31, 0x36, 0x2c, 0x20, 0x39, 0x35, 0x29], Dict{String, Vector{UInt8}}(\"scale\" => [0x84, 0xa8, 0x70, 0x72, 0x6f, 0x70, 0x65, 0x72, 0x74, 0x79  …  0x73, 0x2f, 0x28, 0x31, 0x36, 0x2c, 0x20, 0x39, 0x35, 0x29]), nothing, Dict{String, MeshCat.SceneTrees.SceneNode}()), \"(75, 76)\" => MeshCat.SceneTrees.SceneNode(UInt8[0x83, 0xa6, 0x6f, 0x62, 0x6a, 0x65, 0x63, 0x74, 0x84, 0xaa  …  0x73, 0x2f, 0x28, 0x37, 0x35, 0x2c, 0x20, 0x37, 0x36, 0x29], UInt8[0x83, 0xa6, 0x6d, 0x61, 0x74, 0x72, 0x69, 0x78, 0xc7, 0x40  …  0x73, 0x2f, 0x28, 0x37, 0x35, 0x2c, 0x20, 0x37, 0x36, 0x29], Dict{String, Vector{UInt8}}(\"scale\" => [0x84, 0xa8, 0x70, 0x72, 0x6f, 0x70, 0x65, 0x72, 0x74, 0x79  …  0x73, 0x2f, 0x28, 0x37, 0x35, 0x2c, 0x20, 0x37, 0x36, 0x29]), nothing, Dict{String, MeshCat.SceneTrees.SceneNode}()), \"(59, 76)\" => MeshCat.SceneTrees.SceneNode(UInt8[0x83, 0xa6, 0x6f, 0x62, 0x6a, 0x65, 0x63, 0x74, 0x84, 0xaa  …  0x73, 0x2f, 0x28, 0x35, 0x39, 0x2c, 0x20, 0x37, 0x36, 0x29], UInt8[0x83, 0xa6, 0x6d, 0x61, 0x74, 0x72, 0x69, 0x78, 0xc7, 0x40  …  0x73, 0x2f, 0x28, 0x35, 0x39, 0x2c, 0x20, 0x37, 0x36, 0x29], Dict{String, Vector{UInt8}}(\"scale\" => [0x84, 0xa8, 0x70, 0x72, 0x6f, 0x70, 0x65, 0x72, 0x74, 0x79  …  0x73, 0x2f, 0x28, 0x35, 0x39, 0x2c, 0x20, 0x37, 0x36, 0x29]), nothing, Dict{String, MeshCat.SceneTrees.SceneNode}()), \"(55, 86)\" => MeshCat.SceneTrees.SceneNode(UInt8[0x83, 0xa6, 0x6f, 0x62, 0x6a, 0x65, 0x63, 0x74, 0x84, 0xaa  …  0x73, 0x2f, 0x28, 0x35, 0x35, 0x2c, 0x20, 0x38, 0x36, 0x29], UInt8[0x83, 0xa6, 0x6d, 0x61, 0x74, 0x72, 0x69, 0x78, 0xc7, 0x40  …  0x73, 0x2f, 0x28, 0x35, 0x35, 0x2c, 0x20, 0x38, 0x36, 0x29], Dict{String, Vector{UInt8}}(\"scale\" => [0x84, 0xa8, 0x70, 0x72, 0x6f, 0x70, 0x65, 0x72, 0x74, 0x79  …  0x73, 0x2f, 0x28, 0x35, 0x35, 0x2c, 0x20, 0x38, 0x36, 0x29]), nothing, Dict{String, MeshCat.SceneTrees.SceneNode}()), \"(82, 92)\" => MeshCat.SceneTrees.SceneNode(UInt8[0x83, 0xa6, 0x6f, 0x62, 0x6a, 0x65, 0x63, 0x74, 0x84, 0xaa  …  0x73, 0x2f, 0x28, 0x38, 0x32, 0x2c, 0x20, 0x39, 0x32, 0x29], UInt8[0x83, 0xa6, 0x6d, 0x61, 0x74, 0x72, 0x69, 0x78, 0xc7, 0x40  …  0x73, 0x2f, 0x28, 0x38, 0x32, 0x2c, 0x20, 0x39, 0x32, 0x29], Dict{String, Vector{UInt8}}(\"scale\" => [0x84, 0xa8, 0x70, 0x72, 0x6f, 0x70, 0x65, 0x72, 0x74, 0x79  …  0x73, 0x2f, 0x28, 0x38, 0x32, 0x2c, 0x20, 0x39, 0x32, 0x29]), nothing, Dict{String, MeshCat.SceneTrees.SceneNode}()), \"(3, 13)\" => MeshCat.SceneTrees.SceneNode(UInt8[0x83, 0xa6, 0x6f, 0x62, 0x6a, 0x65, 0x63, 0x74, 0x84, 0xaa  …  0x65, 0x73, 0x2f, 0x28, 0x33, 0x2c, 0x20, 0x31, 0x33, 0x29], UInt8[0x83, 0xa6, 0x6d, 0x61, 0x74, 0x72, 0x69, 0x78, 0xc7, 0x40  …  0x65, 0x73, 0x2f, 0x28, 0x33, 0x2c, 0x20, 0x31, 0x33, 0x29], Dict{String, Vector{UInt8}}(\"scale\" => [0x84, 0xa8, 0x70, 0x72, 0x6f, 0x70, 0x65, 0x72, 0x74, 0x79  …  0x65, 0x73, 0x2f, 0x28, 0x33, 0x2c, 0x20, 0x31, 0x33, 0x29]), nothing, Dict{String, MeshCat.SceneTrees.SceneNode}()), \"(11, 67)\" => MeshCat.SceneTrees.SceneNode(UInt8[0x83, 0xa6, 0x6f, 0x62, 0x6a, 0x65, 0x63, 0x74, 0x84, 0xaa  …  0x73, 0x2f, 0x28, 0x31, 0x31, 0x2c, 0x20, 0x36, 0x37, 0x29], UInt8[0x83, 0xa6, 0x6d, 0x61, 0x74, 0x72, 0x69, 0x78, 0xc7, 0x40  …  0x73, 0x2f, 0x28, 0x31, 0x31, 0x2c, 0x20, 0x36, 0x37, 0x29], Dict{String, Vector{UInt8}}(\"scale\" => [0x84, 0xa8, 0x70, 0x72, 0x6f, 0x70, 0x65, 0x72, 0x74, 0x79  …  0x73, 0x2f, 0x28, 0x31, 0x31, 0x2c, 0x20, 0x36, 0x37, 0x29]), nothing, Dict{String, MeshCat.SceneTrees.SceneNode}()), \"(74, 83)\" => MeshCat.SceneTrees.SceneNode(UInt8[0x83, 0xa6, 0x6f, 0x62, 0x6a, 0x65, 0x63, 0x74, 0x84, 0xaa  …  0x73, 0x2f, 0x28, 0x37, 0x34, 0x2c, 0x20, 0x38, 0x33, 0x29], UInt8[0x83, 0xa6, 0x6d, 0x61, 0x74, 0x72, 0x69, 0x78, 0xc7, 0x40  …  0x73, 0x2f, 0x28, 0x37, 0x34, 0x2c, 0x20, 0x38, 0x33, 0x29], Dict{String, Vector{UInt8}}(\"scale\" => [0x84, 0xa8, 0x70, 0x72, 0x6f, 0x70, 0x65, 0x72, 0x74, 0x79  …  0x73, 0x2f, 0x28, 0x37, 0x34, 0x2c, 0x20, 0x38, 0x33, 0x29]), nothing, Dict{String, MeshCat.SceneTrees.SceneNode}()), \"(25, 87)\" => MeshCat.SceneTrees.SceneNode(UInt8[0x83, 0xa6, 0x6f, 0x62, 0x6a, 0x65, 0x63, 0x74, 0x84, 0xaa  …  0x73, 0x2f, 0x28, 0x32, 0x35, 0x2c, 0x20, 0x38, 0x37, 0x29], UInt8[0x83, 0xa6, 0x6d, 0x61, 0x74, 0x72, 0x69, 0x78, 0xc7, 0x40  …  0x73, 0x2f, 0x28, 0x32, 0x35, 0x2c, 0x20, 0x38, 0x37, 0x29], Dict{String, Vector{UInt8}}(\"scale\" => [0x84, 0xa8, 0x70, 0x72, 0x6f, 0x70, 0x65, 0x72, 0x74, 0x79  …  0x73, 0x2f, 0x28, 0x32, 0x35, 0x2c, 0x20, 0x38, 0x37, 0x29]), nothing, Dict{String, MeshCat.SceneTrees.SceneNode}()), \"(36, 60)\" => MeshCat.SceneTrees.SceneNode(UInt8[0x83, 0xa6, 0x6f, 0x62, 0x6a, 0x65, 0x63, 0x74, 0x84, 0xaa  …  0x73, 0x2f, 0x28, 0x33, 0x36, 0x2c, 0x20, 0x36, 0x30, 0x29], UInt8[0x83, 0xa6, 0x6d, 0x61, 0x74, 0x72, 0x69, 0x78, 0xc7, 0x40  …  0x73, 0x2f, 0x28, 0x33, 0x36, 0x2c, 0x20, 0x36, 0x30, 0x29], Dict{String, Vector{UInt8}}(\"scale\" => [0x84, 0xa8, 0x70, 0x72, 0x6f, 0x70, 0x65, 0x72, 0x74, 0x79  …  0x73, 0x2f, 0x28, 0x33, 0x36, 0x2c, 0x20, 0x36, 0x30, 0x29]), nothing, Dict{String, MeshCat.SceneTrees.SceneNode}())…)))), \"Axes\" => MeshCat.SceneTrees.SceneNode(nothing, nothing, Dict{String, Vector{UInt8}}(), nothing, Dict{String, MeshCat.SceneTrees.SceneNode}(\"<object>\" => MeshCat.SceneTrees.SceneNode(UInt8[0x83, 0xa6, 0x6f, 0x62, 0x6a, 0x65, 0x63, 0x74, 0x84, 0xaa  …  0x73, 0x2f, 0x3c, 0x6f, 0x62, 0x6a, 0x65, 0x63, 0x74, 0x3e], UInt8[0x83, 0xa6, 0x6d, 0x61, 0x74, 0x72, 0x69, 0x78, 0xc7, 0x40  …  0x73, 0x2f, 0x3c, 0x6f, 0x62, 0x6a, 0x65, 0x63, 0x74, 0x3e], Dict{String, Vector{UInt8}}(), nothing, Dict{String, MeshCat.SceneTrees.SceneNode}()))))), Set{HTTP.WebSockets.WebSocket}(), ip\"127.0.0.1\", 8701))"
      ]
     },
     "execution_count": 31,
     "metadata": {},
     "output_type": "execute_result"
    }
   ],
   "source": [
    "draw_graph3d(model.graph)"
   ]
  },
  {
   "cell_type": "markdown",
   "metadata": {},
   "source": [
    "## Step 3: Defining the step_rule! and running the model\n",
    "\n",
    "In this step we implement the step logic of the Ising model in the `step_rule!` function and run the model for 100 steps. At each step of the simulation we take 100 Monte Carlo steps, where in each Monte Carlo step a node is selected at random and its spin and color values are flipped if the Ising energy condition is satisfied. "
   ]
  },
  {
   "cell_type": "code",
   "execution_count": 9,
   "metadata": {},
   "outputs": [
    {
     "data": {
      "text/plain": [
       "step_rule! (generic function with 1 method)"
      ]
     },
     "execution_count": 9,
     "metadata": {},
     "output_type": "execute_result"
    }
   ],
   "source": [
    "function step_rule!(model)\n",
    "    for i in 1:100\n",
    "        random_node = rand(1:n)\n",
    "        spin = model.graph.nodesprops[random_node].spin\n",
    "        nbr_nodes = neighbor_nodes(random_node, model)\n",
    "        de = 0.0\n",
    "        for node in nbr_nodes\n",
    "            nbr_spin = model.graph.nodesprops[node].spin\n",
    "            de += spin*nbr_spin\n",
    "        end\n",
    "        de = 2*model.parameters.coupl * de\n",
    "        if (de < 0) || (rand() < exp(-de/model.parameters.temp))\n",
    "            model.graph.nodesprops[random_node].spin = - spin\n",
    "            model.graph.nodesprops[random_node].color = spin == -1 ? cl\"black\" : cl\"red\"\n",
    "        end\n",
    "    end\n",
    "end"
   ]
  },
  {
   "cell_type": "code",
   "execution_count": 10,
   "metadata": {},
   "outputs": [],
   "source": [
    "run_model!(model, steps = 100, step_rule = step_rule!)"
   ]
  },
  {
   "cell_type": "markdown",
   "metadata": {},
   "source": [
    "## Step 4: Visualisation\n",
    "In order to draw the model at a specific frame, say 4th, one can do"
   ]
  },
  {
   "cell_type": "code",
   "execution_count": 34,
   "metadata": {},
   "outputs": [
    {
     "name": "stderr",
     "output_type": "stream",
     "text": [
      "\u001b[36m\u001b[1m[ \u001b[22m\u001b[39m\u001b[36m\u001b[1mInfo: \u001b[22m\u001b[39mListening on: 127.0.0.1:8702, thread id: 1\n",
      "\u001b[36m\u001b[1m┌ \u001b[22m\u001b[39m\u001b[36m\u001b[1mInfo: \u001b[22m\u001b[39mMeshCat server started. You can open the visualizer by visiting the following URL in your browser:\n",
      "\u001b[36m\u001b[1m└ \u001b[22m\u001b[39mhttp://127.0.0.1:8702\n"
     ]
    },
    {
     "data": {
      "text/html": [
       "    <div style=\"height: 500px; width: 100%; overflow-x: auto; overflow-y: hidden; resize: both\">\n",
       "    <iframe src=\"http://127.0.0.1:8702\" style=\"width: 100%; height: 100%; border: none\"></iframe>\n",
       "    </div>\n"
      ],
      "text/plain": [
       "MeshCat.DisplayedVisualizer(MeshCat.CoreVisualizer(MeshCat.SceneTrees.SceneNode(nothing, nothing, Dict{String, Vector{UInt8}}(), nothing, Dict{String, MeshCat.SceneTrees.SceneNode}(\"meshcat\" => MeshCat.SceneTrees.SceneNode(nothing, UInt8[0x83, 0xa6, 0x6d, 0x61, 0x74, 0x72, 0x69, 0x78, 0xc7, 0x40  …  0x68, 0xa8, 0x2f, 0x6d, 0x65, 0x73, 0x68, 0x63, 0x61, 0x74], Dict{String, Vector{UInt8}}(), nothing, Dict{String, MeshCat.SceneTrees.SceneNode}(\"nodes\" => MeshCat.SceneTrees.SceneNode(nothing, nothing, Dict{String, Vector{UInt8}}(), nothing, Dict{String, MeshCat.SceneTrees.SceneNode}(\"32\" => MeshCat.SceneTrees.SceneNode(UInt8[0x83, 0xa6, 0x6f, 0x62, 0x6a, 0x65, 0x63, 0x74, 0x84, 0xaa  …  0x74, 0x2f, 0x6e, 0x6f, 0x64, 0x65, 0x73, 0x2f, 0x33, 0x32], UInt8[0x83, 0xa6, 0x6d, 0x61, 0x74, 0x72, 0x69, 0x78, 0xc7, 0x40  …  0x74, 0x2f, 0x6e, 0x6f, 0x64, 0x65, 0x73, 0x2f, 0x33, 0x32], Dict{String, Vector{UInt8}}(), nothing, Dict{String, MeshCat.SceneTrees.SceneNode}()), \"29\" => MeshCat.SceneTrees.SceneNode(UInt8[0x83, 0xa6, 0x6f, 0x62, 0x6a, 0x65, 0x63, 0x74, 0x84, 0xaa  …  0x74, 0x2f, 0x6e, 0x6f, 0x64, 0x65, 0x73, 0x2f, 0x32, 0x39], UInt8[0x83, 0xa6, 0x6d, 0x61, 0x74, 0x72, 0x69, 0x78, 0xc7, 0x40  …  0x74, 0x2f, 0x6e, 0x6f, 0x64, 0x65, 0x73, 0x2f, 0x32, 0x39], Dict{String, Vector{UInt8}}(), nothing, Dict{String, MeshCat.SceneTrees.SceneNode}()), \"1\" => MeshCat.SceneTrees.SceneNode(UInt8[0x83, 0xa6, 0x6f, 0x62, 0x6a, 0x65, 0x63, 0x74, 0x84, 0xaa  …  0x61, 0x74, 0x2f, 0x6e, 0x6f, 0x64, 0x65, 0x73, 0x2f, 0x31], UInt8[0x83, 0xa6, 0x6d, 0x61, 0x74, 0x72, 0x69, 0x78, 0xc7, 0x40  …  0x61, 0x74, 0x2f, 0x6e, 0x6f, 0x64, 0x65, 0x73, 0x2f, 0x31], Dict{String, Vector{UInt8}}(), nothing, Dict{String, MeshCat.SceneTrees.SceneNode}()), \"54\" => MeshCat.SceneTrees.SceneNode(UInt8[0x83, 0xa6, 0x6f, 0x62, 0x6a, 0x65, 0x63, 0x74, 0x84, 0xaa  …  0x74, 0x2f, 0x6e, 0x6f, 0x64, 0x65, 0x73, 0x2f, 0x35, 0x34], UInt8[0x83, 0xa6, 0x6d, 0x61, 0x74, 0x72, 0x69, 0x78, 0xc7, 0x40  …  0x74, 0x2f, 0x6e, 0x6f, 0x64, 0x65, 0x73, 0x2f, 0x35, 0x34], Dict{String, Vector{UInt8}}(), nothing, Dict{String, MeshCat.SceneTrees.SceneNode}()), \"78\" => MeshCat.SceneTrees.SceneNode(UInt8[0x83, 0xa6, 0x6f, 0x62, 0x6a, 0x65, 0x63, 0x74, 0x84, 0xaa  …  0x74, 0x2f, 0x6e, 0x6f, 0x64, 0x65, 0x73, 0x2f, 0x37, 0x38], UInt8[0x83, 0xa6, 0x6d, 0x61, 0x74, 0x72, 0x69, 0x78, 0xc7, 0x40  …  0x74, 0x2f, 0x6e, 0x6f, 0x64, 0x65, 0x73, 0x2f, 0x37, 0x38], Dict{String, Vector{UInt8}}(), nothing, Dict{String, MeshCat.SceneTrees.SceneNode}()), \"81\" => MeshCat.SceneTrees.SceneNode(UInt8[0x83, 0xa6, 0x6f, 0x62, 0x6a, 0x65, 0x63, 0x74, 0x84, 0xaa  …  0x74, 0x2f, 0x6e, 0x6f, 0x64, 0x65, 0x73, 0x2f, 0x38, 0x31], UInt8[0x83, 0xa6, 0x6d, 0x61, 0x74, 0x72, 0x69, 0x78, 0xc7, 0x40  …  0x74, 0x2f, 0x6e, 0x6f, 0x64, 0x65, 0x73, 0x2f, 0x38, 0x31], Dict{String, Vector{UInt8}}(), nothing, Dict{String, MeshCat.SceneTrees.SceneNode}()), \"2\" => MeshCat.SceneTrees.SceneNode(UInt8[0x83, 0xa6, 0x6f, 0x62, 0x6a, 0x65, 0x63, 0x74, 0x84, 0xaa  …  0x61, 0x74, 0x2f, 0x6e, 0x6f, 0x64, 0x65, 0x73, 0x2f, 0x32], UInt8[0x83, 0xa6, 0x6d, 0x61, 0x74, 0x72, 0x69, 0x78, 0xc7, 0x40  …  0x61, 0x74, 0x2f, 0x6e, 0x6f, 0x64, 0x65, 0x73, 0x2f, 0x32], Dict{String, Vector{UInt8}}(), nothing, Dict{String, MeshCat.SceneTrees.SceneNode}()), \"74\" => MeshCat.SceneTrees.SceneNode(UInt8[0x83, 0xa6, 0x6f, 0x62, 0x6a, 0x65, 0x63, 0x74, 0x84, 0xaa  …  0x74, 0x2f, 0x6e, 0x6f, 0x64, 0x65, 0x73, 0x2f, 0x37, 0x34], UInt8[0x83, 0xa6, 0x6d, 0x61, 0x74, 0x72, 0x69, 0x78, 0xc7, 0x40  …  0x74, 0x2f, 0x6e, 0x6f, 0x64, 0x65, 0x73, 0x2f, 0x37, 0x34], Dict{String, Vector{UInt8}}(), nothing, Dict{String, MeshCat.SceneTrees.SceneNode}()), \"41\" => MeshCat.SceneTrees.SceneNode(UInt8[0x83, 0xa6, 0x6f, 0x62, 0x6a, 0x65, 0x63, 0x74, 0x84, 0xaa  …  0x74, 0x2f, 0x6e, 0x6f, 0x64, 0x65, 0x73, 0x2f, 0x34, 0x31], UInt8[0x83, 0xa6, 0x6d, 0x61, 0x74, 0x72, 0x69, 0x78, 0xc7, 0x40  …  0x74, 0x2f, 0x6e, 0x6f, 0x64, 0x65, 0x73, 0x2f, 0x34, 0x31], Dict{String, Vector{UInt8}}(), nothing, Dict{String, MeshCat.SceneTrees.SceneNode}()), \"65\" => MeshCat.SceneTrees.SceneNode(UInt8[0x83, 0xa6, 0x6f, 0x62, 0x6a, 0x65, 0x63, 0x74, 0x84, 0xaa  …  0x74, 0x2f, 0x6e, 0x6f, 0x64, 0x65, 0x73, 0x2f, 0x36, 0x35], UInt8[0x83, 0xa6, 0x6d, 0x61, 0x74, 0x72, 0x69, 0x78, 0xc7, 0x40  …  0x74, 0x2f, 0x6e, 0x6f, 0x64, 0x65, 0x73, 0x2f, 0x36, 0x35], Dict{String, Vector{UInt8}}(), nothing, Dict{String, MeshCat.SceneTrees.SceneNode}())…)), \"bbox_line_segments\" => MeshCat.SceneTrees.SceneNode(nothing, nothing, Dict{String, Vector{UInt8}}(), nothing, Dict{String, MeshCat.SceneTrees.SceneNode}(\"4\" => MeshCat.SceneTrees.SceneNode(UInt8[0x83, 0xa6, 0x6f, 0x62, 0x6a, 0x65, 0x63, 0x74, 0x84, 0xaa  …  0x73, 0x65, 0x67, 0x6d, 0x65, 0x6e, 0x74, 0x73, 0x2f, 0x34], nothing, Dict{String, Vector{UInt8}}(), nothing, Dict{String, MeshCat.SceneTrees.SceneNode}()), \"1\" => MeshCat.SceneTrees.SceneNode(UInt8[0x83, 0xa6, 0x6f, 0x62, 0x6a, 0x65, 0x63, 0x74, 0x84, 0xaa  …  0x73, 0x65, 0x67, 0x6d, 0x65, 0x6e, 0x74, 0x73, 0x2f, 0x31], nothing, Dict{String, Vector{UInt8}}(), nothing, Dict{String, MeshCat.SceneTrees.SceneNode}()), \"12\" => MeshCat.SceneTrees.SceneNode(UInt8[0x83, 0xa6, 0x6f, 0x62, 0x6a, 0x65, 0x63, 0x74, 0x84, 0xaa  …  0x65, 0x67, 0x6d, 0x65, 0x6e, 0x74, 0x73, 0x2f, 0x31, 0x32], nothing, Dict{String, Vector{UInt8}}(), nothing, Dict{String, MeshCat.SceneTrees.SceneNode}()), \"2\" => MeshCat.SceneTrees.SceneNode(UInt8[0x83, 0xa6, 0x6f, 0x62, 0x6a, 0x65, 0x63, 0x74, 0x84, 0xaa  …  0x73, 0x65, 0x67, 0x6d, 0x65, 0x6e, 0x74, 0x73, 0x2f, 0x32], nothing, Dict{String, Vector{UInt8}}(), nothing, Dict{String, MeshCat.SceneTrees.SceneNode}()), \"6\" => MeshCat.SceneTrees.SceneNode(UInt8[0x83, 0xa6, 0x6f, 0x62, 0x6a, 0x65, 0x63, 0x74, 0x84, 0xaa  …  0x73, 0x65, 0x67, 0x6d, 0x65, 0x6e, 0x74, 0x73, 0x2f, 0x36], nothing, Dict{String, Vector{UInt8}}(), nothing, Dict{String, MeshCat.SceneTrees.SceneNode}()), \"11\" => MeshCat.SceneTrees.SceneNode(UInt8[0x83, 0xa6, 0x6f, 0x62, 0x6a, 0x65, 0x63, 0x74, 0x84, 0xaa  …  0x65, 0x67, 0x6d, 0x65, 0x6e, 0x74, 0x73, 0x2f, 0x31, 0x31], nothing, Dict{String, Vector{UInt8}}(), nothing, Dict{String, MeshCat.SceneTrees.SceneNode}()), \"5\" => MeshCat.SceneTrees.SceneNode(UInt8[0x83, 0xa6, 0x6f, 0x62, 0x6a, 0x65, 0x63, 0x74, 0x84, 0xaa  …  0x73, 0x65, 0x67, 0x6d, 0x65, 0x6e, 0x74, 0x73, 0x2f, 0x35], nothing, Dict{String, Vector{UInt8}}(), nothing, Dict{String, MeshCat.SceneTrees.SceneNode}()), \"7\" => MeshCat.SceneTrees.SceneNode(UInt8[0x83, 0xa6, 0x6f, 0x62, 0x6a, 0x65, 0x63, 0x74, 0x84, 0xaa  …  0x73, 0x65, 0x67, 0x6d, 0x65, 0x6e, 0x74, 0x73, 0x2f, 0x37], nothing, Dict{String, Vector{UInt8}}(), nothing, Dict{String, MeshCat.SceneTrees.SceneNode}()), \"8\" => MeshCat.SceneTrees.SceneNode(UInt8[0x83, 0xa6, 0x6f, 0x62, 0x6a, 0x65, 0x63, 0x74, 0x84, 0xaa  …  0x73, 0x65, 0x67, 0x6d, 0x65, 0x6e, 0x74, 0x73, 0x2f, 0x38], nothing, Dict{String, Vector{UInt8}}(), nothing, Dict{String, MeshCat.SceneTrees.SceneNode}()), \"10\" => MeshCat.SceneTrees.SceneNode(UInt8[0x83, 0xa6, 0x6f, 0x62, 0x6a, 0x65, 0x63, 0x74, 0x84, 0xaa  …  0x65, 0x67, 0x6d, 0x65, 0x6e, 0x74, 0x73, 0x2f, 0x31, 0x30], nothing, Dict{String, Vector{UInt8}}(), nothing, Dict{String, MeshCat.SceneTrees.SceneNode}())…)), \"edges\" => MeshCat.SceneTrees.SceneNode(nothing, nothing, Dict{String, Vector{UInt8}}(), nothing, Dict{String, MeshCat.SceneTrees.SceneNode}(\"(16, 95)\" => MeshCat.SceneTrees.SceneNode(UInt8[0x83, 0xa6, 0x6f, 0x62, 0x6a, 0x65, 0x63, 0x74, 0x84, 0xaa  …  0x73, 0x2f, 0x28, 0x31, 0x36, 0x2c, 0x20, 0x39, 0x35, 0x29], UInt8[0x83, 0xa6, 0x6d, 0x61, 0x74, 0x72, 0x69, 0x78, 0xc7, 0x40  …  0x73, 0x2f, 0x28, 0x31, 0x36, 0x2c, 0x20, 0x39, 0x35, 0x29], Dict{String, Vector{UInt8}}(\"scale\" => [0x84, 0xa8, 0x70, 0x72, 0x6f, 0x70, 0x65, 0x72, 0x74, 0x79  …  0x73, 0x2f, 0x28, 0x31, 0x36, 0x2c, 0x20, 0x39, 0x35, 0x29]), nothing, Dict{String, MeshCat.SceneTrees.SceneNode}()), \"(75, 76)\" => MeshCat.SceneTrees.SceneNode(UInt8[0x83, 0xa6, 0x6f, 0x62, 0x6a, 0x65, 0x63, 0x74, 0x84, 0xaa  …  0x73, 0x2f, 0x28, 0x37, 0x35, 0x2c, 0x20, 0x37, 0x36, 0x29], UInt8[0x83, 0xa6, 0x6d, 0x61, 0x74, 0x72, 0x69, 0x78, 0xc7, 0x40  …  0x73, 0x2f, 0x28, 0x37, 0x35, 0x2c, 0x20, 0x37, 0x36, 0x29], Dict{String, Vector{UInt8}}(\"scale\" => [0x84, 0xa8, 0x70, 0x72, 0x6f, 0x70, 0x65, 0x72, 0x74, 0x79  …  0x73, 0x2f, 0x28, 0x37, 0x35, 0x2c, 0x20, 0x37, 0x36, 0x29]), nothing, Dict{String, MeshCat.SceneTrees.SceneNode}()), \"(59, 76)\" => MeshCat.SceneTrees.SceneNode(UInt8[0x83, 0xa6, 0x6f, 0x62, 0x6a, 0x65, 0x63, 0x74, 0x84, 0xaa  …  0x73, 0x2f, 0x28, 0x35, 0x39, 0x2c, 0x20, 0x37, 0x36, 0x29], UInt8[0x83, 0xa6, 0x6d, 0x61, 0x74, 0x72, 0x69, 0x78, 0xc7, 0x40  …  0x73, 0x2f, 0x28, 0x35, 0x39, 0x2c, 0x20, 0x37, 0x36, 0x29], Dict{String, Vector{UInt8}}(\"scale\" => [0x84, 0xa8, 0x70, 0x72, 0x6f, 0x70, 0x65, 0x72, 0x74, 0x79  …  0x73, 0x2f, 0x28, 0x35, 0x39, 0x2c, 0x20, 0x37, 0x36, 0x29]), nothing, Dict{String, MeshCat.SceneTrees.SceneNode}()), \"(55, 86)\" => MeshCat.SceneTrees.SceneNode(UInt8[0x83, 0xa6, 0x6f, 0x62, 0x6a, 0x65, 0x63, 0x74, 0x84, 0xaa  …  0x73, 0x2f, 0x28, 0x35, 0x35, 0x2c, 0x20, 0x38, 0x36, 0x29], UInt8[0x83, 0xa6, 0x6d, 0x61, 0x74, 0x72, 0x69, 0x78, 0xc7, 0x40  …  0x73, 0x2f, 0x28, 0x35, 0x35, 0x2c, 0x20, 0x38, 0x36, 0x29], Dict{String, Vector{UInt8}}(\"scale\" => [0x84, 0xa8, 0x70, 0x72, 0x6f, 0x70, 0x65, 0x72, 0x74, 0x79  …  0x73, 0x2f, 0x28, 0x35, 0x35, 0x2c, 0x20, 0x38, 0x36, 0x29]), nothing, Dict{String, MeshCat.SceneTrees.SceneNode}()), \"(82, 92)\" => MeshCat.SceneTrees.SceneNode(UInt8[0x83, 0xa6, 0x6f, 0x62, 0x6a, 0x65, 0x63, 0x74, 0x84, 0xaa  …  0x73, 0x2f, 0x28, 0x38, 0x32, 0x2c, 0x20, 0x39, 0x32, 0x29], UInt8[0x83, 0xa6, 0x6d, 0x61, 0x74, 0x72, 0x69, 0x78, 0xc7, 0x40  …  0x73, 0x2f, 0x28, 0x38, 0x32, 0x2c, 0x20, 0x39, 0x32, 0x29], Dict{String, Vector{UInt8}}(\"scale\" => [0x84, 0xa8, 0x70, 0x72, 0x6f, 0x70, 0x65, 0x72, 0x74, 0x79  …  0x73, 0x2f, 0x28, 0x38, 0x32, 0x2c, 0x20, 0x39, 0x32, 0x29]), nothing, Dict{String, MeshCat.SceneTrees.SceneNode}()), \"(3, 13)\" => MeshCat.SceneTrees.SceneNode(UInt8[0x83, 0xa6, 0x6f, 0x62, 0x6a, 0x65, 0x63, 0x74, 0x84, 0xaa  …  0x65, 0x73, 0x2f, 0x28, 0x33, 0x2c, 0x20, 0x31, 0x33, 0x29], UInt8[0x83, 0xa6, 0x6d, 0x61, 0x74, 0x72, 0x69, 0x78, 0xc7, 0x40  …  0x65, 0x73, 0x2f, 0x28, 0x33, 0x2c, 0x20, 0x31, 0x33, 0x29], Dict{String, Vector{UInt8}}(\"scale\" => [0x84, 0xa8, 0x70, 0x72, 0x6f, 0x70, 0x65, 0x72, 0x74, 0x79  …  0x65, 0x73, 0x2f, 0x28, 0x33, 0x2c, 0x20, 0x31, 0x33, 0x29]), nothing, Dict{String, MeshCat.SceneTrees.SceneNode}()), \"(11, 67)\" => MeshCat.SceneTrees.SceneNode(UInt8[0x83, 0xa6, 0x6f, 0x62, 0x6a, 0x65, 0x63, 0x74, 0x84, 0xaa  …  0x73, 0x2f, 0x28, 0x31, 0x31, 0x2c, 0x20, 0x36, 0x37, 0x29], UInt8[0x83, 0xa6, 0x6d, 0x61, 0x74, 0x72, 0x69, 0x78, 0xc7, 0x40  …  0x73, 0x2f, 0x28, 0x31, 0x31, 0x2c, 0x20, 0x36, 0x37, 0x29], Dict{String, Vector{UInt8}}(\"scale\" => [0x84, 0xa8, 0x70, 0x72, 0x6f, 0x70, 0x65, 0x72, 0x74, 0x79  …  0x73, 0x2f, 0x28, 0x31, 0x31, 0x2c, 0x20, 0x36, 0x37, 0x29]), nothing, Dict{String, MeshCat.SceneTrees.SceneNode}()), \"(74, 83)\" => MeshCat.SceneTrees.SceneNode(UInt8[0x83, 0xa6, 0x6f, 0x62, 0x6a, 0x65, 0x63, 0x74, 0x84, 0xaa  …  0x73, 0x2f, 0x28, 0x37, 0x34, 0x2c, 0x20, 0x38, 0x33, 0x29], UInt8[0x83, 0xa6, 0x6d, 0x61, 0x74, 0x72, 0x69, 0x78, 0xc7, 0x40  …  0x73, 0x2f, 0x28, 0x37, 0x34, 0x2c, 0x20, 0x38, 0x33, 0x29], Dict{String, Vector{UInt8}}(\"scale\" => [0x84, 0xa8, 0x70, 0x72, 0x6f, 0x70, 0x65, 0x72, 0x74, 0x79  …  0x73, 0x2f, 0x28, 0x37, 0x34, 0x2c, 0x20, 0x38, 0x33, 0x29]), nothing, Dict{String, MeshCat.SceneTrees.SceneNode}()), \"(25, 87)\" => MeshCat.SceneTrees.SceneNode(UInt8[0x83, 0xa6, 0x6f, 0x62, 0x6a, 0x65, 0x63, 0x74, 0x84, 0xaa  …  0x73, 0x2f, 0x28, 0x32, 0x35, 0x2c, 0x20, 0x38, 0x37, 0x29], UInt8[0x83, 0xa6, 0x6d, 0x61, 0x74, 0x72, 0x69, 0x78, 0xc7, 0x40  …  0x73, 0x2f, 0x28, 0x32, 0x35, 0x2c, 0x20, 0x38, 0x37, 0x29], Dict{String, Vector{UInt8}}(\"scale\" => [0x84, 0xa8, 0x70, 0x72, 0x6f, 0x70, 0x65, 0x72, 0x74, 0x79  …  0x73, 0x2f, 0x28, 0x32, 0x35, 0x2c, 0x20, 0x38, 0x37, 0x29]), nothing, Dict{String, MeshCat.SceneTrees.SceneNode}()), \"(36, 60)\" => MeshCat.SceneTrees.SceneNode(UInt8[0x83, 0xa6, 0x6f, 0x62, 0x6a, 0x65, 0x63, 0x74, 0x84, 0xaa  …  0x73, 0x2f, 0x28, 0x33, 0x36, 0x2c, 0x20, 0x36, 0x30, 0x29], UInt8[0x83, 0xa6, 0x6d, 0x61, 0x74, 0x72, 0x69, 0x78, 0xc7, 0x40  …  0x73, 0x2f, 0x28, 0x33, 0x36, 0x2c, 0x20, 0x36, 0x30, 0x29], Dict{String, Vector{UInt8}}(\"scale\" => [0x84, 0xa8, 0x70, 0x72, 0x6f, 0x70, 0x65, 0x72, 0x74, 0x79  …  0x73, 0x2f, 0x28, 0x33, 0x36, 0x2c, 0x20, 0x36, 0x30, 0x29]), nothing, Dict{String, MeshCat.SceneTrees.SceneNode}())…)))), \"Axes\" => MeshCat.SceneTrees.SceneNode(nothing, nothing, Dict{String, Vector{UInt8}}(), nothing, Dict{String, MeshCat.SceneTrees.SceneNode}(\"<object>\" => MeshCat.SceneTrees.SceneNode(UInt8[0x83, 0xa6, 0x6f, 0x62, 0x6a, 0x65, 0x63, 0x74, 0x84, 0xaa  …  0x73, 0x2f, 0x3c, 0x6f, 0x62, 0x6a, 0x65, 0x63, 0x74, 0x3e], UInt8[0x83, 0xa6, 0x6d, 0x61, 0x74, 0x72, 0x69, 0x78, 0xc7, 0x40  …  0x73, 0x2f, 0x3c, 0x6f, 0x62, 0x6a, 0x65, 0x63, 0x74, 0x3e], Dict{String, Vector{UInt8}}(), nothing, Dict{String, MeshCat.SceneTrees.SceneNode}()))))), Set{HTTP.WebSockets.WebSocket}(), ip\"127.0.0.1\", 8702))"
      ]
     },
     "execution_count": 34,
     "metadata": {},
     "output_type": "execute_result"
    }
   ],
   "source": [
    "draw_frame(model, frame = 4)"
   ]
  },
  {
   "cell_type": "markdown",
   "metadata": {},
   "source": [
    "If one wants to see the animation of the model run, it can be done as "
   ]
  },
  {
   "cell_type": "code",
   "execution_count": 11,
   "metadata": {
    "scrolled": true
   },
   "outputs": [
    {
     "name": "stderr",
     "output_type": "stream",
     "text": [
      "\u001b[36m\u001b[1m[ \u001b[22m\u001b[39m\u001b[36m\u001b[1mInfo: \u001b[22m\u001b[39mListening on: 127.0.0.1:8700, thread id: 1\n",
      "\u001b[36m\u001b[1m┌ \u001b[22m\u001b[39m\u001b[36m\u001b[1mInfo: \u001b[22m\u001b[39mMeshCat server started. You can open the visualizer by visiting the following URL in your browser:\n",
      "\u001b[36m\u001b[1m└ \u001b[22m\u001b[39mhttp://127.0.0.1:8700\n"
     ]
    },
    {
     "data": {
      "application/vnd.webio.node+json": {
       "children": [
        {
         "children": [
          {
           "children": [
            {
             "children": [
              {
               "children": [
                {
                 "children": [
                  {
                   "children": [
                    {
                     "children": [
                      "time"
                     ],
                     "instanceArgs": {
                      "namespace": "html",
                      "tag": "label"
                     },
                     "nodeType": "DOM",
                     "props": {
                      "className": "interact ",
                      "style": {
                       "padding": "5px 10px 0px 10px"
                      }
                     },
                     "type": "node"
                    }
                   ],
                   "instanceArgs": {
                    "namespace": "html",
                    "tag": "div"
                   },
                   "nodeType": "DOM",
                   "props": {
                    "className": "interact-flex-row-left"
                   },
                   "type": "node"
                  },
                  {
                   "children": [
                    {
                     "children": [],
                     "instanceArgs": {
                      "namespace": "html",
                      "tag": "input"
                     },
                     "nodeType": "DOM",
                     "props": {
                      "attributes": {
                       "data-bind": "numericValue: index, valueUpdate: 'input', event: {change: function (){this.changes(this.changes()+1)}}",
                       "orient": "horizontal",
                       "type": "range"
                      },
                      "className": "slider slider is-fullwidth",
                      "max": 101,
                      "min": 1,
                      "step": 1,
                      "style": {}
                     },
                     "type": "node"
                    }
                   ],
                   "instanceArgs": {
                    "namespace": "html",
                    "tag": "div"
                   },
                   "nodeType": "DOM",
                   "props": {
                    "className": "interact-flex-row-center"
                   },
                   "type": "node"
                  },
                  {
                   "children": [
                    {
                     "children": [],
                     "instanceArgs": {
                      "namespace": "html",
                      "tag": "p"
                     },
                     "nodeType": "DOM",
                     "props": {
                      "attributes": {
                       "data-bind": "text: formatted_val"
                      }
                     },
                     "type": "node"
                    }
                   ],
                   "instanceArgs": {
                    "namespace": "html",
                    "tag": "div"
                   },
                   "nodeType": "DOM",
                   "props": {
                    "className": "interact-flex-row-right"
                   },
                   "type": "node"
                  }
                 ],
                 "instanceArgs": {
                  "namespace": "html",
                  "tag": "div"
                 },
                 "nodeType": "DOM",
                 "props": {
                  "className": "interact-flex-row interact-widget"
                 },
                 "type": "node"
                }
               ],
               "instanceArgs": {
                "handlers": {
                 "changes": [
                  "(function (val){return (val!=this.model[\"changes\"]()) ? (this.valueFromJulia[\"changes\"]=true, this.model[\"changes\"](val)) : undefined})"
                 ],
                 "index": [
                  "(function (val){return (val!=this.model[\"index\"]()) ? (this.valueFromJulia[\"index\"]=true, this.model[\"index\"](val)) : undefined})"
                 ]
                },
                "id": "16036422046144295791",
                "imports": {
                 "data": [
                  {
                   "name": "knockout",
                   "type": "js",
                   "url": "/assetserver/727383f2a47bd31570b7da84eee7b022dd6d7c78-knockout.js"
                  },
                  {
                   "name": "knockout_punches",
                   "type": "js",
                   "url": "/assetserver/382b41b3b1bd9f26f75861d360bad7f8beea211f-knockout_punches.js"
                  },
                  {
                   "name": null,
                   "type": "js",
                   "url": "/assetserver/5ab20f1060420992a9b82a65b735dee4d81ef413-all.js"
                  },
                  {
                   "name": null,
                   "type": "css",
                   "url": "/assetserver/1cc0ed62837210b80a182cc3676512f895dab686-style.css"
                  },
                  {
                   "name": null,
                   "type": "css",
                   "url": "/assetserver/2eee816f616df3549d7044d45e744fbf8d42bfa1-bulma_confined.min.css"
                  }
                 ],
                 "type": "async_block"
                },
                "mount_callbacks": [
                 "function () {\n    var handler = (function (ko, koPunches) {\n    ko.punches.enableAll();\n    ko.bindingHandlers.numericValue = {\n        init: function(element, valueAccessor, allBindings, data, context) {\n            var stringified = ko.observable(ko.unwrap(valueAccessor()));\n            stringified.subscribe(function(value) {\n                var val = parseFloat(value);\n                if (!isNaN(val)) {\n                    valueAccessor()(val);\n                }\n            });\n            valueAccessor().subscribe(function(value) {\n                var str = JSON.stringify(value);\n                if ((str == \"0\") && ([\"-0\", \"-0.\"].indexOf(stringified()) >= 0))\n                     return;\n                 if ([\"null\", \"\"].indexOf(str) >= 0)\n                     return;\n                stringified(str);\n            });\n            ko.applyBindingsToNode(\n                element,\n                {\n                    value: stringified,\n                    valueUpdate: allBindings.get('valueUpdate'),\n                },\n                context,\n            );\n        }\n    };\n    var json_data = {\"formatted_vals\":[\"1\",\"2\",\"3\",\"4\",\"5\",\"6\",\"7\",\"8\",\"9\",\"10\",\"11\",\"12\",\"13\",\"14\",\"15\",\"16\",\"17\",\"18\",\"19\",\"20\",\"21\",\"22\",\"23\",\"24\",\"25\",\"26\",\"27\",\"28\",\"29\",\"30\",\"31\",\"32\",\"33\",\"34\",\"35\",\"36\",\"37\",\"38\",\"39\",\"40\",\"41\",\"42\",\"43\",\"44\",\"45\",\"46\",\"47\",\"48\",\"49\",\"50\",\"51\",\"52\",\"53\",\"54\",\"55\",\"56\",\"57\",\"58\",\"59\",\"60\",\"61\",\"62\",\"63\",\"64\",\"65\",\"66\",\"67\",\"68\",\"69\",\"70\",\"71\",\"72\",\"73\",\"74\",\"75\",\"76\",\"77\",\"78\",\"79\",\"80\",\"81\",\"82\",\"83\",\"84\",\"85\",\"86\",\"87\",\"88\",\"89\",\"90\",\"91\",\"92\",\"93\",\"94\",\"95\",\"96\",\"97\",\"98\",\"99\",\"100\",\"101\"],\"changes\":WebIO.getval({\"name\":\"changes\",\"scope\":\"16036422046144295791\",\"id\":\"18416914248442779030\",\"type\":\"observable\"}),\"index\":WebIO.getval({\"name\":\"index\",\"scope\":\"16036422046144295791\",\"id\":\"857918341609075528\",\"type\":\"observable\"})};\n    var self = this;\n    function AppViewModel() {\n        for (var key in json_data) {\n            var el = json_data[key];\n            this[key] = Array.isArray(el) ? ko.observableArray(el) : ko.observable(el);\n        }\n        \n        [this[\"formatted_val\"]=ko.computed(    function(){\n        return this.formatted_vals()[parseInt(this.index())-(1)];\n    }\n,this)]\n        [this[\"changes\"].subscribe((function (val){!(this.valueFromJulia[\"changes\"]) ? (WebIO.setval({\"name\":\"changes\",\"scope\":\"16036422046144295791\",\"id\":\"18416914248442779030\",\"type\":\"observable\"},val)) : undefined; return this.valueFromJulia[\"changes\"]=false}),self),this[\"index\"].subscribe((function (val){!(this.valueFromJulia[\"index\"]) ? (WebIO.setval({\"name\":\"index\",\"scope\":\"16036422046144295791\",\"id\":\"857918341609075528\",\"type\":\"observable\"},val)) : undefined; return this.valueFromJulia[\"index\"]=false}),self)]\n        \n    }\n    self.model = new AppViewModel();\n    self.valueFromJulia = {};\n    for (var key in json_data) {\n        self.valueFromJulia[key] = false;\n    }\n    ko.applyBindings(self.model, self.dom);\n}\n);\n    (WebIO.importBlock({\"data\":[{\"name\":\"knockout\",\"type\":\"js\",\"url\":\"/assetserver/727383f2a47bd31570b7da84eee7b022dd6d7c78-knockout.js\"},{\"name\":\"knockout_punches\",\"type\":\"js\",\"url\":\"/assetserver/382b41b3b1bd9f26f75861d360bad7f8beea211f-knockout_punches.js\"}],\"type\":\"async_block\"})).then((imports) => handler.apply(this, imports));\n}\n"
                ],
                "observables": {
                 "changes": {
                  "id": "18416914248442779030",
                  "sync": false,
                  "value": 0
                 },
                 "index": {
                  "id": "857918341609075528",
                  "sync": true,
                  "value": 51
                 }
                },
                "systemjs_options": null
               },
               "nodeType": "Scope",
               "props": {},
               "type": "node"
              }
             ],
             "instanceArgs": {
              "namespace": "html",
              "tag": "div"
             },
             "nodeType": "DOM",
             "props": {
              "className": "field interact-widget"
             },
             "type": "node"
            },
            {
             "children": [
              {
               "children": [
                {
                 "children": [
                  {
                   "children": [
                    {
                     "children": [
                      "scale"
                     ],
                     "instanceArgs": {
                      "namespace": "html",
                      "tag": "label"
                     },
                     "nodeType": "DOM",
                     "props": {
                      "className": "interact ",
                      "style": {
                       "padding": "5px 10px 0px 10px"
                      }
                     },
                     "type": "node"
                    }
                   ],
                   "instanceArgs": {
                    "namespace": "html",
                    "tag": "div"
                   },
                   "nodeType": "DOM",
                   "props": {
                    "className": "interact-flex-row-left"
                   },
                   "type": "node"
                  },
                  {
                   "children": [
                    {
                     "children": [],
                     "instanceArgs": {
                      "namespace": "html",
                      "tag": "input"
                     },
                     "nodeType": "DOM",
                     "props": {
                      "attributes": {
                       "data-bind": "numericValue: index, valueUpdate: 'input', event: {change: function (){this.changes(this.changes()+1)}}",
                       "orient": "horizontal",
                       "type": "range"
                      },
                      "className": "slider slider is-fullwidth",
                      "max": 20,
                      "min": 1,
                      "step": 1,
                      "style": {}
                     },
                     "type": "node"
                    }
                   ],
                   "instanceArgs": {
                    "namespace": "html",
                    "tag": "div"
                   },
                   "nodeType": "DOM",
                   "props": {
                    "className": "interact-flex-row-center"
                   },
                   "type": "node"
                  },
                  {
                   "children": [
                    {
                     "children": [],
                     "instanceArgs": {
                      "namespace": "html",
                      "tag": "p"
                     },
                     "nodeType": "DOM",
                     "props": {
                      "attributes": {
                       "data-bind": "text: formatted_val"
                      }
                     },
                     "type": "node"
                    }
                   ],
                   "instanceArgs": {
                    "namespace": "html",
                    "tag": "div"
                   },
                   "nodeType": "DOM",
                   "props": {
                    "className": "interact-flex-row-right"
                   },
                   "type": "node"
                  }
                 ],
                 "instanceArgs": {
                  "namespace": "html",
                  "tag": "div"
                 },
                 "nodeType": "DOM",
                 "props": {
                  "className": "interact-flex-row interact-widget"
                 },
                 "type": "node"
                }
               ],
               "instanceArgs": {
                "handlers": {
                 "changes": [
                  "(function (val){return (val!=this.model[\"changes\"]()) ? (this.valueFromJulia[\"changes\"]=true, this.model[\"changes\"](val)) : undefined})"
                 ],
                 "index": [
                  "(function (val){return (val!=this.model[\"index\"]()) ? (this.valueFromJulia[\"index\"]=true, this.model[\"index\"](val)) : undefined})"
                 ]
                },
                "id": "6742262548706069561",
                "imports": {
                 "data": [
                  {
                   "name": "knockout",
                   "type": "js",
                   "url": "/assetserver/727383f2a47bd31570b7da84eee7b022dd6d7c78-knockout.js"
                  },
                  {
                   "name": "knockout_punches",
                   "type": "js",
                   "url": "/assetserver/382b41b3b1bd9f26f75861d360bad7f8beea211f-knockout_punches.js"
                  },
                  {
                   "name": null,
                   "type": "js",
                   "url": "/assetserver/5ab20f1060420992a9b82a65b735dee4d81ef413-all.js"
                  },
                  {
                   "name": null,
                   "type": "css",
                   "url": "/assetserver/1cc0ed62837210b80a182cc3676512f895dab686-style.css"
                  },
                  {
                   "name": null,
                   "type": "css",
                   "url": "/assetserver/2eee816f616df3549d7044d45e744fbf8d42bfa1-bulma_confined.min.css"
                  }
                 ],
                 "type": "async_block"
                },
                "mount_callbacks": [
                 "function () {\n    var handler = (function (ko, koPunches) {\n    ko.punches.enableAll();\n    ko.bindingHandlers.numericValue = {\n        init: function(element, valueAccessor, allBindings, data, context) {\n            var stringified = ko.observable(ko.unwrap(valueAccessor()));\n            stringified.subscribe(function(value) {\n                var val = parseFloat(value);\n                if (!isNaN(val)) {\n                    valueAccessor()(val);\n                }\n            });\n            valueAccessor().subscribe(function(value) {\n                var str = JSON.stringify(value);\n                if ((str == \"0\") && ([\"-0\", \"-0.\"].indexOf(stringified()) >= 0))\n                     return;\n                 if ([\"null\", \"\"].indexOf(str) >= 0)\n                     return;\n                stringified(str);\n            });\n            ko.applyBindingsToNode(\n                element,\n                {\n                    value: stringified,\n                    valueUpdate: allBindings.get('valueUpdate'),\n                },\n                context,\n            );\n        }\n    };\n    var json_data = {\"formatted_vals\":[\"0.1\",\"0.2\",\"0.3\",\"0.4\",\"0.5\",\"0.6\",\"0.7\",\"0.8\",\"0.9\",\"1.0\",\"1.1\",\"1.2\",\"1.3\",\"1.4\",\"1.5\",\"1.6\",\"1.7\",\"1.8\",\"1.9\",\"2.0\"],\"changes\":WebIO.getval({\"name\":\"changes\",\"scope\":\"6742262548706069561\",\"id\":\"7106096667055274409\",\"type\":\"observable\"}),\"index\":WebIO.getval({\"name\":\"index\",\"scope\":\"6742262548706069561\",\"id\":\"17056204579672623911\",\"type\":\"observable\"})};\n    var self = this;\n    function AppViewModel() {\n        for (var key in json_data) {\n            var el = json_data[key];\n            this[key] = Array.isArray(el) ? ko.observableArray(el) : ko.observable(el);\n        }\n        \n        [this[\"formatted_val\"]=ko.computed(    function(){\n        return this.formatted_vals()[parseInt(this.index())-(1)];\n    }\n,this)]\n        [this[\"changes\"].subscribe((function (val){!(this.valueFromJulia[\"changes\"]) ? (WebIO.setval({\"name\":\"changes\",\"scope\":\"6742262548706069561\",\"id\":\"7106096667055274409\",\"type\":\"observable\"},val)) : undefined; return this.valueFromJulia[\"changes\"]=false}),self),this[\"index\"].subscribe((function (val){!(this.valueFromJulia[\"index\"]) ? (WebIO.setval({\"name\":\"index\",\"scope\":\"6742262548706069561\",\"id\":\"17056204579672623911\",\"type\":\"observable\"},val)) : undefined; return this.valueFromJulia[\"index\"]=false}),self)]\n        \n    }\n    self.model = new AppViewModel();\n    self.valueFromJulia = {};\n    for (var key in json_data) {\n        self.valueFromJulia[key] = false;\n    }\n    ko.applyBindings(self.model, self.dom);\n}\n);\n    (WebIO.importBlock({\"data\":[{\"name\":\"knockout\",\"type\":\"js\",\"url\":\"/assetserver/727383f2a47bd31570b7da84eee7b022dd6d7c78-knockout.js\"},{\"name\":\"knockout_punches\",\"type\":\"js\",\"url\":\"/assetserver/382b41b3b1bd9f26f75861d360bad7f8beea211f-knockout_punches.js\"}],\"type\":\"async_block\"})).then((imports) => handler.apply(this, imports));\n}\n"
                ],
                "observables": {
                 "changes": {
                  "id": "7106096667055274409",
                  "sync": false,
                  "value": 0
                 },
                 "index": {
                  "id": "17056204579672623911",
                  "sync": true,
                  "value": 10
                 }
                },
                "systemjs_options": null
               },
               "nodeType": "Scope",
               "props": {},
               "type": "node"
              }
             ],
             "instanceArgs": {
              "namespace": "html",
              "tag": "div"
             },
             "nodeType": "DOM",
             "props": {
              "className": "field interact-widget"
             },
             "type": "node"
            },
            {
             "children": [
              {
               "children": [
                {
                 "children": [
                  {
                   "children": [],
                   "instanceArgs": {
                    "namespace": "html",
                    "tag": "div"
                   },
                   "nodeType": "DOM",
                   "props": {
                    "id": "container"
                   },
                   "type": "node"
                  }
                 ],
                 "instanceArgs": {
                  "handlers": {
                   "value": [
                    "(function (txt){return this.k.render(txt,this.container)})"
                   ]
                  },
                  "id": "5563796551605108028",
                  "imports": {
                   "data": [
                    {
                     "name": null,
                     "type": "js",
                     "url": "/assetserver/dd22ed1bf1896c2748f3fe616ce0b838adc895c1-katex.min.js"
                    },
                    {
                     "name": null,
                     "type": "css",
                     "url": "/assetserver/46517a424aa5e6cffc1360d7e0848b601c584ee3-katex.min.css"
                    }
                   ],
                   "type": "async_block"
                  },
                  "mount_callbacks": [
                   "function () {\n    var handler = ((function (k){this.k=k; this.container=this.dom.querySelector(\"#container\"); return k.render(\"\\\\;\\\\;\",this.container)}));\n    (WebIO.importBlock({\"data\":[{\"name\":null,\"type\":\"js\",\"url\":\"/assetserver/dd22ed1bf1896c2748f3fe616ce0b838adc895c1-katex.min.js\"},{\"name\":null,\"type\":\"css\",\"url\":\"/assetserver/46517a424aa5e6cffc1360d7e0848b601c584ee3-katex.min.css\"}],\"type\":\"async_block\"})).then((imports) => handler.apply(this, imports));\n}\n"
                  ],
                  "observables": {
                   "value": {
                    "id": "10847626786919710503",
                    "sync": false,
                    "value": "\\;\\;"
                   }
                  },
                  "systemjs_options": null
                 },
                 "nodeType": "Scope",
                 "props": {},
                 "type": "node"
                }
               ],
               "instanceArgs": {
                "namespace": "html",
                "tag": "div"
               },
               "nodeType": "DOM",
               "props": {
                "className": "interact-widget"
               },
               "type": "node"
              },
              {
               "children": [
                {
                 "children": [
                  {
                   "children": [
                    "run"
                   ],
                   "instanceArgs": {
                    "namespace": "html",
                    "tag": "button"
                   },
                   "nodeType": "DOM",
                   "props": {
                    "attributes": {
                     "data-bind": "click: function (){this.clicks(this.clicks()+1)}, css: {'is-loading' : loading}"
                    },
                    "className": "is-medium button is-primary",
                    "style": {}
                   },
                   "type": "node"
                  }
                 ],
                 "instanceArgs": {
                  "handlers": {
                   "clicks": [
                    "(function (val){return (val!=this.model[\"clicks\"]()) ? (this.valueFromJulia[\"clicks\"]=true, this.model[\"clicks\"](val)) : undefined})"
                   ],
                   "loading": [
                    "(function (val){return (val!=this.model[\"loading\"]()) ? (this.valueFromJulia[\"loading\"]=true, this.model[\"loading\"](val)) : undefined})"
                   ]
                  },
                  "id": "16170003652946793350",
                  "imports": {
                   "data": [
                    {
                     "name": "knockout",
                     "type": "js",
                     "url": "/assetserver/727383f2a47bd31570b7da84eee7b022dd6d7c78-knockout.js"
                    },
                    {
                     "name": "knockout_punches",
                     "type": "js",
                     "url": "/assetserver/382b41b3b1bd9f26f75861d360bad7f8beea211f-knockout_punches.js"
                    },
                    {
                     "name": null,
                     "type": "js",
                     "url": "/assetserver/5ab20f1060420992a9b82a65b735dee4d81ef413-all.js"
                    },
                    {
                     "name": null,
                     "type": "css",
                     "url": "/assetserver/1cc0ed62837210b80a182cc3676512f895dab686-style.css"
                    },
                    {
                     "name": null,
                     "type": "css",
                     "url": "/assetserver/2eee816f616df3549d7044d45e744fbf8d42bfa1-bulma_confined.min.css"
                    }
                   ],
                   "type": "async_block"
                  },
                  "mount_callbacks": [
                   "function () {\n    var handler = (function (ko, koPunches) {\n    ko.punches.enableAll();\n    ko.bindingHandlers.numericValue = {\n        init: function(element, valueAccessor, allBindings, data, context) {\n            var stringified = ko.observable(ko.unwrap(valueAccessor()));\n            stringified.subscribe(function(value) {\n                var val = parseFloat(value);\n                if (!isNaN(val)) {\n                    valueAccessor()(val);\n                }\n            });\n            valueAccessor().subscribe(function(value) {\n                var str = JSON.stringify(value);\n                if ((str == \"0\") && ([\"-0\", \"-0.\"].indexOf(stringified()) >= 0))\n                     return;\n                 if ([\"null\", \"\"].indexOf(str) >= 0)\n                     return;\n                stringified(str);\n            });\n            ko.applyBindingsToNode(\n                element,\n                {\n                    value: stringified,\n                    valueUpdate: allBindings.get('valueUpdate'),\n                },\n                context,\n            );\n        }\n    };\n    var json_data = {\"loading\":WebIO.getval({\"name\":\"loading\",\"scope\":\"16170003652946793350\",\"id\":\"9030344926754266975\",\"type\":\"observable\"}),\"clicks\":WebIO.getval({\"name\":\"clicks\",\"scope\":\"16170003652946793350\",\"id\":\"15705355246932285968\",\"type\":\"observable\"})};\n    var self = this;\n    function AppViewModel() {\n        for (var key in json_data) {\n            var el = json_data[key];\n            this[key] = Array.isArray(el) ? ko.observableArray(el) : ko.observable(el);\n        }\n        \n        \n        [this[\"loading\"].subscribe((function (val){!(this.valueFromJulia[\"loading\"]) ? (WebIO.setval({\"name\":\"loading\",\"scope\":\"16170003652946793350\",\"id\":\"9030344926754266975\",\"type\":\"observable\"},val)) : undefined; return this.valueFromJulia[\"loading\"]=false}),self),this[\"clicks\"].subscribe((function (val){!(this.valueFromJulia[\"clicks\"]) ? (WebIO.setval({\"name\":\"clicks\",\"scope\":\"16170003652946793350\",\"id\":\"15705355246932285968\",\"type\":\"observable\"},val)) : undefined; return this.valueFromJulia[\"clicks\"]=false}),self)]\n        \n    }\n    self.model = new AppViewModel();\n    self.valueFromJulia = {};\n    for (var key in json_data) {\n        self.valueFromJulia[key] = false;\n    }\n    ko.applyBindings(self.model, self.dom);\n}\n);\n    (WebIO.importBlock({\"data\":[{\"name\":\"knockout\",\"type\":\"js\",\"url\":\"/assetserver/727383f2a47bd31570b7da84eee7b022dd6d7c78-knockout.js\"},{\"name\":\"knockout_punches\",\"type\":\"js\",\"url\":\"/assetserver/382b41b3b1bd9f26f75861d360bad7f8beea211f-knockout_punches.js\"}],\"type\":\"async_block\"})).then((imports) => handler.apply(this, imports));\n}\n"
                  ],
                  "observables": {
                   "clicks": {
                    "id": "15705355246932285968",
                    "sync": true,
                    "value": 0
                   },
                   "loading": {
                    "id": "9030344926754266975",
                    "sync": false,
                    "value": false
                   }
                  },
                  "systemjs_options": null
                 },
                 "nodeType": "Scope",
                 "props": {},
                 "type": "node"
                }
               ],
               "instanceArgs": {
                "namespace": "html",
                "tag": "div"
               },
               "nodeType": "DOM",
               "props": {
                "className": "field interact-widget"
               },
               "type": "node"
              },
              {
               "children": [
                {
                 "children": [
                  {
                   "children": [],
                   "instanceArgs": {
                    "namespace": "html",
                    "tag": "div"
                   },
                   "nodeType": "DOM",
                   "props": {
                    "id": "container"
                   },
                   "type": "node"
                  }
                 ],
                 "instanceArgs": {
                  "handlers": {
                   "value": [
                    "(function (txt){return this.k.render(txt,this.container)})"
                   ]
                  },
                  "id": "5563796551605108028",
                  "imports": {
                   "data": [
                    {
                     "name": null,
                     "type": "js",
                     "url": "/assetserver/dd22ed1bf1896c2748f3fe616ce0b838adc895c1-katex.min.js"
                    },
                    {
                     "name": null,
                     "type": "css",
                     "url": "/assetserver/46517a424aa5e6cffc1360d7e0848b601c584ee3-katex.min.css"
                    }
                   ],
                   "type": "async_block"
                  },
                  "mount_callbacks": [
                   "function () {\n    var handler = ((function (k){this.k=k; this.container=this.dom.querySelector(\"#container\"); return k.render(\"\\\\;\\\\;\",this.container)}));\n    (WebIO.importBlock({\"data\":[{\"name\":null,\"type\":\"js\",\"url\":\"/assetserver/dd22ed1bf1896c2748f3fe616ce0b838adc895c1-katex.min.js\"},{\"name\":null,\"type\":\"css\",\"url\":\"/assetserver/46517a424aa5e6cffc1360d7e0848b601c584ee3-katex.min.css\"}],\"type\":\"async_block\"})).then((imports) => handler.apply(this, imports));\n}\n"
                  ],
                  "observables": {
                   "value": {
                    "id": "10847626786919710503",
                    "sync": false,
                    "value": "\\;\\;"
                   }
                  },
                  "systemjs_options": null
                 },
                 "nodeType": "Scope",
                 "props": {},
                 "type": "node"
                }
               ],
               "instanceArgs": {
                "namespace": "html",
                "tag": "div"
               },
               "nodeType": "DOM",
               "props": {
                "className": "interact-widget"
               },
               "type": "node"
              },
              {
               "children": [
                {
                 "children": [
                  {
                   "children": [
                    "stop"
                   ],
                   "instanceArgs": {
                    "namespace": "html",
                    "tag": "button"
                   },
                   "nodeType": "DOM",
                   "props": {
                    "attributes": {
                     "data-bind": "click: function (){this.clicks(this.clicks()+1)}, css: {'is-loading' : loading}"
                    },
                    "className": "is-medium button is-primary",
                    "style": {}
                   },
                   "type": "node"
                  }
                 ],
                 "instanceArgs": {
                  "handlers": {
                   "clicks": [
                    "(function (val){return (val!=this.model[\"clicks\"]()) ? (this.valueFromJulia[\"clicks\"]=true, this.model[\"clicks\"](val)) : undefined})"
                   ],
                   "loading": [
                    "(function (val){return (val!=this.model[\"loading\"]()) ? (this.valueFromJulia[\"loading\"]=true, this.model[\"loading\"](val)) : undefined})"
                   ]
                  },
                  "id": "9030327594758647594",
                  "imports": {
                   "data": [
                    {
                     "name": "knockout",
                     "type": "js",
                     "url": "/assetserver/727383f2a47bd31570b7da84eee7b022dd6d7c78-knockout.js"
                    },
                    {
                     "name": "knockout_punches",
                     "type": "js",
                     "url": "/assetserver/382b41b3b1bd9f26f75861d360bad7f8beea211f-knockout_punches.js"
                    },
                    {
                     "name": null,
                     "type": "js",
                     "url": "/assetserver/5ab20f1060420992a9b82a65b735dee4d81ef413-all.js"
                    },
                    {
                     "name": null,
                     "type": "css",
                     "url": "/assetserver/1cc0ed62837210b80a182cc3676512f895dab686-style.css"
                    },
                    {
                     "name": null,
                     "type": "css",
                     "url": "/assetserver/2eee816f616df3549d7044d45e744fbf8d42bfa1-bulma_confined.min.css"
                    }
                   ],
                   "type": "async_block"
                  },
                  "mount_callbacks": [
                   "function () {\n    var handler = (function (ko, koPunches) {\n    ko.punches.enableAll();\n    ko.bindingHandlers.numericValue = {\n        init: function(element, valueAccessor, allBindings, data, context) {\n            var stringified = ko.observable(ko.unwrap(valueAccessor()));\n            stringified.subscribe(function(value) {\n                var val = parseFloat(value);\n                if (!isNaN(val)) {\n                    valueAccessor()(val);\n                }\n            });\n            valueAccessor().subscribe(function(value) {\n                var str = JSON.stringify(value);\n                if ((str == \"0\") && ([\"-0\", \"-0.\"].indexOf(stringified()) >= 0))\n                     return;\n                 if ([\"null\", \"\"].indexOf(str) >= 0)\n                     return;\n                stringified(str);\n            });\n            ko.applyBindingsToNode(\n                element,\n                {\n                    value: stringified,\n                    valueUpdate: allBindings.get('valueUpdate'),\n                },\n                context,\n            );\n        }\n    };\n    var json_data = {\"loading\":WebIO.getval({\"name\":\"loading\",\"scope\":\"9030327594758647594\",\"id\":\"17649981766356900316\",\"type\":\"observable\"}),\"clicks\":WebIO.getval({\"name\":\"clicks\",\"scope\":\"9030327594758647594\",\"id\":\"4806140182815459177\",\"type\":\"observable\"})};\n    var self = this;\n    function AppViewModel() {\n        for (var key in json_data) {\n            var el = json_data[key];\n            this[key] = Array.isArray(el) ? ko.observableArray(el) : ko.observable(el);\n        }\n        \n        \n        [this[\"loading\"].subscribe((function (val){!(this.valueFromJulia[\"loading\"]) ? (WebIO.setval({\"name\":\"loading\",\"scope\":\"9030327594758647594\",\"id\":\"17649981766356900316\",\"type\":\"observable\"},val)) : undefined; return this.valueFromJulia[\"loading\"]=false}),self),this[\"clicks\"].subscribe((function (val){!(this.valueFromJulia[\"clicks\"]) ? (WebIO.setval({\"name\":\"clicks\",\"scope\":\"9030327594758647594\",\"id\":\"4806140182815459177\",\"type\":\"observable\"},val)) : undefined; return this.valueFromJulia[\"clicks\"]=false}),self)]\n        \n    }\n    self.model = new AppViewModel();\n    self.valueFromJulia = {};\n    for (var key in json_data) {\n        self.valueFromJulia[key] = false;\n    }\n    ko.applyBindings(self.model, self.dom);\n}\n);\n    (WebIO.importBlock({\"data\":[{\"name\":\"knockout\",\"type\":\"js\",\"url\":\"/assetserver/727383f2a47bd31570b7da84eee7b022dd6d7c78-knockout.js\"},{\"name\":\"knockout_punches\",\"type\":\"js\",\"url\":\"/assetserver/382b41b3b1bd9f26f75861d360bad7f8beea211f-knockout_punches.js\"}],\"type\":\"async_block\"})).then((imports) => handler.apply(this, imports));\n}\n"
                  ],
                  "observables": {
                   "clicks": {
                    "id": "4806140182815459177",
                    "sync": true,
                    "value": 0
                   },
                   "loading": {
                    "id": "17649981766356900316",
                    "sync": false,
                    "value": false
                   }
                  },
                  "systemjs_options": null
                 },
                 "nodeType": "Scope",
                 "props": {},
                 "type": "node"
                }
               ],
               "instanceArgs": {
                "namespace": "html",
                "tag": "div"
               },
               "nodeType": "DOM",
               "props": {
                "className": "field interact-widget"
               },
               "type": "node"
              }
             ],
             "instanceArgs": {
              "namespace": "html",
              "tag": "div"
             },
             "nodeType": "DOM",
             "props": {
              "style": {
               "display": "flex",
               "flex-direction": "row"
              }
             },
             "type": "node"
            }
           ],
           "instanceArgs": {
            "namespace": "html",
            "tag": "div"
           },
           "nodeType": "DOM",
           "props": {
            "style": {
             "display": "flex",
             "flex-direction": "column"
            }
           },
           "type": "node"
          },
          {
           "children": [
            {
             "children": [],
             "instanceArgs": {
              "namespace": "html",
              "tag": "div"
             },
             "nodeType": "DOM",
             "props": {
              "className": "webio-observable",
              "setInnerHtml": "    <div style=\"height: 500px; width: 100%; overflow-x: auto; overflow-y: hidden; resize: both\">\n    <iframe src=\"http://127.0.0.1:8700\" style=\"width: 100%; height: 100%; border: none\"></iframe>\n    </div>\n"
             },
             "type": "node"
            }
           ],
           "instanceArgs": {
            "handlers": {
             "obs-output": [
              "function (value, scope) {\n    scope.setInnerHTML(value);\n}\n"
             ]
            },
            "id": "7760960141010333605",
            "imports": {
             "data": [],
             "type": "async_block"
            },
            "mount_callbacks": [],
            "observables": {
             "obs-output": {
              "id": "5071139787773713085",
              "sync": false,
              "value": "    <div style=\"height: 500px; width: 100%; overflow-x: auto; overflow-y: hidden; resize: both\">\n    <iframe src=\"http://127.0.0.1:8700\" style=\"width: 100%; height: 100%; border: none\"></iframe>\n    </div>\n"
             }
            },
            "systemjs_options": null
           },
           "nodeType": "Scope",
           "props": {},
           "type": "node"
          },
          {
           "children": [
            {
             "children": [
              {
               "children": [],
               "instanceArgs": {
                "namespace": "html",
                "tag": "div"
               },
               "nodeType": "DOM",
               "props": {
                "id": "container"
               },
               "type": "node"
              }
             ],
             "instanceArgs": {
              "handlers": {
               "value": [
                "(function (txt){return this.k.render(txt,this.container)})"
               ]
              },
              "id": "5563796551605108028",
              "imports": {
               "data": [
                {
                 "name": null,
                 "type": "js",
                 "url": "/assetserver/dd22ed1bf1896c2748f3fe616ce0b838adc895c1-katex.min.js"
                },
                {
                 "name": null,
                 "type": "css",
                 "url": "/assetserver/46517a424aa5e6cffc1360d7e0848b601c584ee3-katex.min.css"
                }
               ],
               "type": "async_block"
              },
              "mount_callbacks": [
               "function () {\n    var handler = ((function (k){this.k=k; this.container=this.dom.querySelector(\"#container\"); return k.render(\"\\\\;\\\\;\",this.container)}));\n    (WebIO.importBlock({\"data\":[{\"name\":null,\"type\":\"js\",\"url\":\"/assetserver/dd22ed1bf1896c2748f3fe616ce0b838adc895c1-katex.min.js\"},{\"name\":null,\"type\":\"css\",\"url\":\"/assetserver/46517a424aa5e6cffc1360d7e0848b601c584ee3-katex.min.css\"}],\"type\":\"async_block\"})).then((imports) => handler.apply(this, imports));\n}\n"
              ],
              "observables": {
               "value": {
                "id": "10847626786919710503",
                "sync": false,
                "value": "\\;\\;"
               }
              },
              "systemjs_options": null
             },
             "nodeType": "Scope",
             "props": {},
             "type": "node"
            }
           ],
           "instanceArgs": {
            "namespace": "html",
            "tag": "div"
           },
           "nodeType": "DOM",
           "props": {
            "className": "interact-widget"
           },
           "type": "node"
          },
          {
           "children": [],
           "instanceArgs": {
            "namespace": "html",
            "tag": "div"
           },
           "nodeType": "DOM",
           "props": {
            "style": {
             "display": "flex",
             "flex-direction": "column"
            }
           },
           "type": "node"
          }
         ],
         "instanceArgs": {
          "namespace": "html",
          "tag": "div"
         },
         "nodeType": "DOM",
         "props": {
          "style": {
           "display": "flex",
           "flex-direction": "row"
          }
         },
         "type": "node"
        }
       ],
       "instanceArgs": {
        "namespace": "html",
        "tag": "div"
       },
       "nodeType": "DOM",
       "props": {
        "style": {
         "display": "flex",
         "flex-direction": "column"
        }
       },
       "type": "node"
      },
      "text/html": [
       "<div\n",
       "    class=\"webio-mountpoint\"\n",
       "    data-webio-mountpoint=\"15279056691689697958\"\n",
       ">\n",
       "    <script>\n",
       "    (function(){\n",
       "    // Some integrations (namely, IJulia/Jupyter) use an alternate render pathway than\n",
       "    // just putting the html on the page. If WebIO isn't defined, then it's pretty likely\n",
       "    // that we're in one of those situations and the integration just isn't installed\n",
       "    // correctly.\n",
       "    if (typeof window.WebIO === \"undefined\") {\n",
       "        document\n",
       "            .querySelector('[data-webio-mountpoint=\"15279056691689697958\"]')\n",
       "            .innerHTML = (\n",
       "                '<div style=\"padding: 1em; background-color: #f8d6da; border: 1px solid #f5c6cb; font-weight: bold;\">' +\n",
       "                '<p><strong>WebIO not detected.</strong></p>' +\n",
       "                '<p>Please read ' +\n",
       "                '<a href=\"https://juliagizmos.github.io/WebIO.jl/latest/troubleshooting/not-detected/\" target=\"_blank\">the troubleshooting guide</a> ' +\n",
       "                'for more information on how to resolve this issue.</p>' +\n",
       "                '<p><a href=\"https://juliagizmos.github.io/WebIO.jl/latest/troubleshooting/not-detected/\" target=\"_blank\">https://juliagizmos.github.io/WebIO.jl/latest/troubleshooting/not-detected/</a></p>' +\n",
       "                '</div>'\n",
       "            );\n",
       "        return;\n",
       "    }\n",
       "    WebIO.mount(\n",
       "        document.querySelector('[data-webio-mountpoint=\"15279056691689697958\"]'),\n",
       "        {\"props\":{\"style\":{\"display\":\"flex\",\"flex-direction\":\"column\"}},\"nodeType\":\"DOM\",\"type\":\"node\",\"instanceArgs\":{\"namespace\":\"html\",\"tag\":\"div\"},\"children\":[{\"props\":{\"style\":{\"display\":\"flex\",\"flex-direction\":\"row\"}},\"nodeType\":\"DOM\",\"type\":\"node\",\"instanceArgs\":{\"namespace\":\"html\",\"tag\":\"div\"},\"children\":[{\"props\":{\"style\":{\"display\":\"flex\",\"flex-direction\":\"column\"}},\"nodeType\":\"DOM\",\"type\":\"node\",\"instanceArgs\":{\"namespace\":\"html\",\"tag\":\"div\"},\"children\":[{\"props\":{\"className\":\"field interact-widget\"},\"nodeType\":\"DOM\",\"type\":\"node\",\"instanceArgs\":{\"namespace\":\"html\",\"tag\":\"div\"},\"children\":[{\"props\":{},\"nodeType\":\"Scope\",\"type\":\"node\",\"instanceArgs\":{\"imports\":{\"data\":[{\"name\":\"knockout\",\"type\":\"js\",\"url\":\"\\/assetserver\\/727383f2a47bd31570b7da84eee7b022dd6d7c78-knockout.js\"},{\"name\":\"knockout_punches\",\"type\":\"js\",\"url\":\"\\/assetserver\\/382b41b3b1bd9f26f75861d360bad7f8beea211f-knockout_punches.js\"},{\"name\":null,\"type\":\"js\",\"url\":\"\\/assetserver\\/5ab20f1060420992a9b82a65b735dee4d81ef413-all.js\"},{\"name\":null,\"type\":\"css\",\"url\":\"\\/assetserver\\/1cc0ed62837210b80a182cc3676512f895dab686-style.css\"},{\"name\":null,\"type\":\"css\",\"url\":\"\\/assetserver\\/2eee816f616df3549d7044d45e744fbf8d42bfa1-bulma_confined.min.css\"}],\"type\":\"async_block\"},\"id\":\"16036422046144295791\",\"handlers\":{\"changes\":[\"(function (val){return (val!=this.model[\\\"changes\\\"]()) ? (this.valueFromJulia[\\\"changes\\\"]=true, this.model[\\\"changes\\\"](val)) : undefined})\"],\"index\":[\"(function (val){return (val!=this.model[\\\"index\\\"]()) ? (this.valueFromJulia[\\\"index\\\"]=true, this.model[\\\"index\\\"](val)) : undefined})\"]},\"systemjs_options\":null,\"mount_callbacks\":[\"function () {\\n    var handler = (function (ko, koPunches) {\\n    ko.punches.enableAll();\\n    ko.bindingHandlers.numericValue = {\\n        init: function(element, valueAccessor, allBindings, data, context) {\\n            var stringified = ko.observable(ko.unwrap(valueAccessor()));\\n            stringified.subscribe(function(value) {\\n                var val = parseFloat(value);\\n                if (!isNaN(val)) {\\n                    valueAccessor()(val);\\n                }\\n            });\\n            valueAccessor().subscribe(function(value) {\\n                var str = JSON.stringify(value);\\n                if ((str == \\\"0\\\") && ([\\\"-0\\\", \\\"-0.\\\"].indexOf(stringified()) >= 0))\\n                     return;\\n                 if ([\\\"null\\\", \\\"\\\"].indexOf(str) >= 0)\\n                     return;\\n                stringified(str);\\n            });\\n            ko.applyBindingsToNode(\\n                element,\\n                {\\n                    value: stringified,\\n                    valueUpdate: allBindings.get('valueUpdate'),\\n                },\\n                context,\\n            );\\n        }\\n    };\\n    var json_data = {\\\"formatted_vals\\\":[\\\"1\\\",\\\"2\\\",\\\"3\\\",\\\"4\\\",\\\"5\\\",\\\"6\\\",\\\"7\\\",\\\"8\\\",\\\"9\\\",\\\"10\\\",\\\"11\\\",\\\"12\\\",\\\"13\\\",\\\"14\\\",\\\"15\\\",\\\"16\\\",\\\"17\\\",\\\"18\\\",\\\"19\\\",\\\"20\\\",\\\"21\\\",\\\"22\\\",\\\"23\\\",\\\"24\\\",\\\"25\\\",\\\"26\\\",\\\"27\\\",\\\"28\\\",\\\"29\\\",\\\"30\\\",\\\"31\\\",\\\"32\\\",\\\"33\\\",\\\"34\\\",\\\"35\\\",\\\"36\\\",\\\"37\\\",\\\"38\\\",\\\"39\\\",\\\"40\\\",\\\"41\\\",\\\"42\\\",\\\"43\\\",\\\"44\\\",\\\"45\\\",\\\"46\\\",\\\"47\\\",\\\"48\\\",\\\"49\\\",\\\"50\\\",\\\"51\\\",\\\"52\\\",\\\"53\\\",\\\"54\\\",\\\"55\\\",\\\"56\\\",\\\"57\\\",\\\"58\\\",\\\"59\\\",\\\"60\\\",\\\"61\\\",\\\"62\\\",\\\"63\\\",\\\"64\\\",\\\"65\\\",\\\"66\\\",\\\"67\\\",\\\"68\\\",\\\"69\\\",\\\"70\\\",\\\"71\\\",\\\"72\\\",\\\"73\\\",\\\"74\\\",\\\"75\\\",\\\"76\\\",\\\"77\\\",\\\"78\\\",\\\"79\\\",\\\"80\\\",\\\"81\\\",\\\"82\\\",\\\"83\\\",\\\"84\\\",\\\"85\\\",\\\"86\\\",\\\"87\\\",\\\"88\\\",\\\"89\\\",\\\"90\\\",\\\"91\\\",\\\"92\\\",\\\"93\\\",\\\"94\\\",\\\"95\\\",\\\"96\\\",\\\"97\\\",\\\"98\\\",\\\"99\\\",\\\"100\\\",\\\"101\\\"],\\\"changes\\\":WebIO.getval({\\\"name\\\":\\\"changes\\\",\\\"scope\\\":\\\"16036422046144295791\\\",\\\"id\\\":\\\"18416914248442779030\\\",\\\"type\\\":\\\"observable\\\"}),\\\"index\\\":WebIO.getval({\\\"name\\\":\\\"index\\\",\\\"scope\\\":\\\"16036422046144295791\\\",\\\"id\\\":\\\"857918341609075528\\\",\\\"type\\\":\\\"observable\\\"})};\\n    var self = this;\\n    function AppViewModel() {\\n        for (var key in json_data) {\\n            var el = json_data[key];\\n            this[key] = Array.isArray(el) ? ko.observableArray(el) : ko.observable(el);\\n        }\\n        \\n        [this[\\\"formatted_val\\\"]=ko.computed(    function(){\\n        return this.formatted_vals()[parseInt(this.index())-(1)];\\n    }\\n,this)]\\n        [this[\\\"changes\\\"].subscribe((function (val){!(this.valueFromJulia[\\\"changes\\\"]) ? (WebIO.setval({\\\"name\\\":\\\"changes\\\",\\\"scope\\\":\\\"16036422046144295791\\\",\\\"id\\\":\\\"18416914248442779030\\\",\\\"type\\\":\\\"observable\\\"},val)) : undefined; return this.valueFromJulia[\\\"changes\\\"]=false}),self),this[\\\"index\\\"].subscribe((function (val){!(this.valueFromJulia[\\\"index\\\"]) ? (WebIO.setval({\\\"name\\\":\\\"index\\\",\\\"scope\\\":\\\"16036422046144295791\\\",\\\"id\\\":\\\"857918341609075528\\\",\\\"type\\\":\\\"observable\\\"},val)) : undefined; return this.valueFromJulia[\\\"index\\\"]=false}),self)]\\n        \\n    }\\n    self.model = new AppViewModel();\\n    self.valueFromJulia = {};\\n    for (var key in json_data) {\\n        self.valueFromJulia[key] = false;\\n    }\\n    ko.applyBindings(self.model, self.dom);\\n}\\n);\\n    (WebIO.importBlock({\\\"data\\\":[{\\\"name\\\":\\\"knockout\\\",\\\"type\\\":\\\"js\\\",\\\"url\\\":\\\"\\/assetserver\\/727383f2a47bd31570b7da84eee7b022dd6d7c78-knockout.js\\\"},{\\\"name\\\":\\\"knockout_punches\\\",\\\"type\\\":\\\"js\\\",\\\"url\\\":\\\"\\/assetserver\\/382b41b3b1bd9f26f75861d360bad7f8beea211f-knockout_punches.js\\\"}],\\\"type\\\":\\\"async_block\\\"})).then((imports) => handler.apply(this, imports));\\n}\\n\"],\"observables\":{\"changes\":{\"sync\":false,\"id\":\"18416914248442779030\",\"value\":0},\"index\":{\"sync\":true,\"id\":\"857918341609075528\",\"value\":51}}},\"children\":[{\"props\":{\"className\":\"interact-flex-row interact-widget\"},\"nodeType\":\"DOM\",\"type\":\"node\",\"instanceArgs\":{\"namespace\":\"html\",\"tag\":\"div\"},\"children\":[{\"props\":{\"className\":\"interact-flex-row-left\"},\"nodeType\":\"DOM\",\"type\":\"node\",\"instanceArgs\":{\"namespace\":\"html\",\"tag\":\"div\"},\"children\":[{\"props\":{\"className\":\"interact \",\"style\":{\"padding\":\"5px 10px 0px 10px\"}},\"nodeType\":\"DOM\",\"type\":\"node\",\"instanceArgs\":{\"namespace\":\"html\",\"tag\":\"label\"},\"children\":[\"time\"]}]},{\"props\":{\"className\":\"interact-flex-row-center\"},\"nodeType\":\"DOM\",\"type\":\"node\",\"instanceArgs\":{\"namespace\":\"html\",\"tag\":\"div\"},\"children\":[{\"props\":{\"max\":101,\"min\":1,\"attributes\":{\"type\":\"range\",\"data-bind\":\"numericValue: index, valueUpdate: 'input', event: {change: function (){this.changes(this.changes()+1)}}\",\"orient\":\"horizontal\"},\"step\":1,\"className\":\"slider slider is-fullwidth\",\"style\":{}},\"nodeType\":\"DOM\",\"type\":\"node\",\"instanceArgs\":{\"namespace\":\"html\",\"tag\":\"input\"},\"children\":[]}]},{\"props\":{\"className\":\"interact-flex-row-right\"},\"nodeType\":\"DOM\",\"type\":\"node\",\"instanceArgs\":{\"namespace\":\"html\",\"tag\":\"div\"},\"children\":[{\"props\":{\"attributes\":{\"data-bind\":\"text: formatted_val\"}},\"nodeType\":\"DOM\",\"type\":\"node\",\"instanceArgs\":{\"namespace\":\"html\",\"tag\":\"p\"},\"children\":[]}]}]}]}]},{\"props\":{\"className\":\"field interact-widget\"},\"nodeType\":\"DOM\",\"type\":\"node\",\"instanceArgs\":{\"namespace\":\"html\",\"tag\":\"div\"},\"children\":[{\"props\":{},\"nodeType\":\"Scope\",\"type\":\"node\",\"instanceArgs\":{\"imports\":{\"data\":[{\"name\":\"knockout\",\"type\":\"js\",\"url\":\"\\/assetserver\\/727383f2a47bd31570b7da84eee7b022dd6d7c78-knockout.js\"},{\"name\":\"knockout_punches\",\"type\":\"js\",\"url\":\"\\/assetserver\\/382b41b3b1bd9f26f75861d360bad7f8beea211f-knockout_punches.js\"},{\"name\":null,\"type\":\"js\",\"url\":\"\\/assetserver\\/5ab20f1060420992a9b82a65b735dee4d81ef413-all.js\"},{\"name\":null,\"type\":\"css\",\"url\":\"\\/assetserver\\/1cc0ed62837210b80a182cc3676512f895dab686-style.css\"},{\"name\":null,\"type\":\"css\",\"url\":\"\\/assetserver\\/2eee816f616df3549d7044d45e744fbf8d42bfa1-bulma_confined.min.css\"}],\"type\":\"async_block\"},\"id\":\"6742262548706069561\",\"handlers\":{\"changes\":[\"(function (val){return (val!=this.model[\\\"changes\\\"]()) ? (this.valueFromJulia[\\\"changes\\\"]=true, this.model[\\\"changes\\\"](val)) : undefined})\"],\"index\":[\"(function (val){return (val!=this.model[\\\"index\\\"]()) ? (this.valueFromJulia[\\\"index\\\"]=true, this.model[\\\"index\\\"](val)) : undefined})\"]},\"systemjs_options\":null,\"mount_callbacks\":[\"function () {\\n    var handler = (function (ko, koPunches) {\\n    ko.punches.enableAll();\\n    ko.bindingHandlers.numericValue = {\\n        init: function(element, valueAccessor, allBindings, data, context) {\\n            var stringified = ko.observable(ko.unwrap(valueAccessor()));\\n            stringified.subscribe(function(value) {\\n                var val = parseFloat(value);\\n                if (!isNaN(val)) {\\n                    valueAccessor()(val);\\n                }\\n            });\\n            valueAccessor().subscribe(function(value) {\\n                var str = JSON.stringify(value);\\n                if ((str == \\\"0\\\") && ([\\\"-0\\\", \\\"-0.\\\"].indexOf(stringified()) >= 0))\\n                     return;\\n                 if ([\\\"null\\\", \\\"\\\"].indexOf(str) >= 0)\\n                     return;\\n                stringified(str);\\n            });\\n            ko.applyBindingsToNode(\\n                element,\\n                {\\n                    value: stringified,\\n                    valueUpdate: allBindings.get('valueUpdate'),\\n                },\\n                context,\\n            );\\n        }\\n    };\\n    var json_data = {\\\"formatted_vals\\\":[\\\"0.1\\\",\\\"0.2\\\",\\\"0.3\\\",\\\"0.4\\\",\\\"0.5\\\",\\\"0.6\\\",\\\"0.7\\\",\\\"0.8\\\",\\\"0.9\\\",\\\"1.0\\\",\\\"1.1\\\",\\\"1.2\\\",\\\"1.3\\\",\\\"1.4\\\",\\\"1.5\\\",\\\"1.6\\\",\\\"1.7\\\",\\\"1.8\\\",\\\"1.9\\\",\\\"2.0\\\"],\\\"changes\\\":WebIO.getval({\\\"name\\\":\\\"changes\\\",\\\"scope\\\":\\\"6742262548706069561\\\",\\\"id\\\":\\\"7106096667055274409\\\",\\\"type\\\":\\\"observable\\\"}),\\\"index\\\":WebIO.getval({\\\"name\\\":\\\"index\\\",\\\"scope\\\":\\\"6742262548706069561\\\",\\\"id\\\":\\\"17056204579672623911\\\",\\\"type\\\":\\\"observable\\\"})};\\n    var self = this;\\n    function AppViewModel() {\\n        for (var key in json_data) {\\n            var el = json_data[key];\\n            this[key] = Array.isArray(el) ? ko.observableArray(el) : ko.observable(el);\\n        }\\n        \\n        [this[\\\"formatted_val\\\"]=ko.computed(    function(){\\n        return this.formatted_vals()[parseInt(this.index())-(1)];\\n    }\\n,this)]\\n        [this[\\\"changes\\\"].subscribe((function (val){!(this.valueFromJulia[\\\"changes\\\"]) ? (WebIO.setval({\\\"name\\\":\\\"changes\\\",\\\"scope\\\":\\\"6742262548706069561\\\",\\\"id\\\":\\\"7106096667055274409\\\",\\\"type\\\":\\\"observable\\\"},val)) : undefined; return this.valueFromJulia[\\\"changes\\\"]=false}),self),this[\\\"index\\\"].subscribe((function (val){!(this.valueFromJulia[\\\"index\\\"]) ? (WebIO.setval({\\\"name\\\":\\\"index\\\",\\\"scope\\\":\\\"6742262548706069561\\\",\\\"id\\\":\\\"17056204579672623911\\\",\\\"type\\\":\\\"observable\\\"},val)) : undefined; return this.valueFromJulia[\\\"index\\\"]=false}),self)]\\n        \\n    }\\n    self.model = new AppViewModel();\\n    self.valueFromJulia = {};\\n    for (var key in json_data) {\\n        self.valueFromJulia[key] = false;\\n    }\\n    ko.applyBindings(self.model, self.dom);\\n}\\n);\\n    (WebIO.importBlock({\\\"data\\\":[{\\\"name\\\":\\\"knockout\\\",\\\"type\\\":\\\"js\\\",\\\"url\\\":\\\"\\/assetserver\\/727383f2a47bd31570b7da84eee7b022dd6d7c78-knockout.js\\\"},{\\\"name\\\":\\\"knockout_punches\\\",\\\"type\\\":\\\"js\\\",\\\"url\\\":\\\"\\/assetserver\\/382b41b3b1bd9f26f75861d360bad7f8beea211f-knockout_punches.js\\\"}],\\\"type\\\":\\\"async_block\\\"})).then((imports) => handler.apply(this, imports));\\n}\\n\"],\"observables\":{\"changes\":{\"sync\":false,\"id\":\"7106096667055274409\",\"value\":0},\"index\":{\"sync\":true,\"id\":\"17056204579672623911\",\"value\":10}}},\"children\":[{\"props\":{\"className\":\"interact-flex-row interact-widget\"},\"nodeType\":\"DOM\",\"type\":\"node\",\"instanceArgs\":{\"namespace\":\"html\",\"tag\":\"div\"},\"children\":[{\"props\":{\"className\":\"interact-flex-row-left\"},\"nodeType\":\"DOM\",\"type\":\"node\",\"instanceArgs\":{\"namespace\":\"html\",\"tag\":\"div\"},\"children\":[{\"props\":{\"className\":\"interact \",\"style\":{\"padding\":\"5px 10px 0px 10px\"}},\"nodeType\":\"DOM\",\"type\":\"node\",\"instanceArgs\":{\"namespace\":\"html\",\"tag\":\"label\"},\"children\":[\"scale\"]}]},{\"props\":{\"className\":\"interact-flex-row-center\"},\"nodeType\":\"DOM\",\"type\":\"node\",\"instanceArgs\":{\"namespace\":\"html\",\"tag\":\"div\"},\"children\":[{\"props\":{\"max\":20,\"min\":1,\"attributes\":{\"type\":\"range\",\"data-bind\":\"numericValue: index, valueUpdate: 'input', event: {change: function (){this.changes(this.changes()+1)}}\",\"orient\":\"horizontal\"},\"step\":1,\"className\":\"slider slider is-fullwidth\",\"style\":{}},\"nodeType\":\"DOM\",\"type\":\"node\",\"instanceArgs\":{\"namespace\":\"html\",\"tag\":\"input\"},\"children\":[]}]},{\"props\":{\"className\":\"interact-flex-row-right\"},\"nodeType\":\"DOM\",\"type\":\"node\",\"instanceArgs\":{\"namespace\":\"html\",\"tag\":\"div\"},\"children\":[{\"props\":{\"attributes\":{\"data-bind\":\"text: formatted_val\"}},\"nodeType\":\"DOM\",\"type\":\"node\",\"instanceArgs\":{\"namespace\":\"html\",\"tag\":\"p\"},\"children\":[]}]}]}]}]},{\"props\":{\"style\":{\"display\":\"flex\",\"flex-direction\":\"row\"}},\"nodeType\":\"DOM\",\"type\":\"node\",\"instanceArgs\":{\"namespace\":\"html\",\"tag\":\"div\"},\"children\":[{\"props\":{\"className\":\"interact-widget\"},\"nodeType\":\"DOM\",\"type\":\"node\",\"instanceArgs\":{\"namespace\":\"html\",\"tag\":\"div\"},\"children\":[{\"props\":{},\"nodeType\":\"Scope\",\"type\":\"node\",\"instanceArgs\":{\"imports\":{\"data\":[{\"name\":null,\"type\":\"js\",\"url\":\"\\/assetserver\\/dd22ed1bf1896c2748f3fe616ce0b838adc895c1-katex.min.js\"},{\"name\":null,\"type\":\"css\",\"url\":\"\\/assetserver\\/46517a424aa5e6cffc1360d7e0848b601c584ee3-katex.min.css\"}],\"type\":\"async_block\"},\"id\":\"5563796551605108028\",\"handlers\":{\"value\":[\"(function (txt){return this.k.render(txt,this.container)})\"]},\"systemjs_options\":null,\"mount_callbacks\":[\"function () {\\n    var handler = ((function (k){this.k=k; this.container=this.dom.querySelector(\\\"#container\\\"); return k.render(\\\"\\\\\\\\;\\\\\\\\;\\\",this.container)}));\\n    (WebIO.importBlock({\\\"data\\\":[{\\\"name\\\":null,\\\"type\\\":\\\"js\\\",\\\"url\\\":\\\"\\/assetserver\\/dd22ed1bf1896c2748f3fe616ce0b838adc895c1-katex.min.js\\\"},{\\\"name\\\":null,\\\"type\\\":\\\"css\\\",\\\"url\\\":\\\"\\/assetserver\\/46517a424aa5e6cffc1360d7e0848b601c584ee3-katex.min.css\\\"}],\\\"type\\\":\\\"async_block\\\"})).then((imports) => handler.apply(this, imports));\\n}\\n\"],\"observables\":{\"value\":{\"sync\":false,\"id\":\"10847626786919710503\",\"value\":\"\\\\;\\\\;\"}}},\"children\":[{\"props\":{\"id\":\"container\"},\"nodeType\":\"DOM\",\"type\":\"node\",\"instanceArgs\":{\"namespace\":\"html\",\"tag\":\"div\"},\"children\":[]}]}]},{\"props\":{\"className\":\"field interact-widget\"},\"nodeType\":\"DOM\",\"type\":\"node\",\"instanceArgs\":{\"namespace\":\"html\",\"tag\":\"div\"},\"children\":[{\"props\":{},\"nodeType\":\"Scope\",\"type\":\"node\",\"instanceArgs\":{\"imports\":{\"data\":[{\"name\":\"knockout\",\"type\":\"js\",\"url\":\"\\/assetserver\\/727383f2a47bd31570b7da84eee7b022dd6d7c78-knockout.js\"},{\"name\":\"knockout_punches\",\"type\":\"js\",\"url\":\"\\/assetserver\\/382b41b3b1bd9f26f75861d360bad7f8beea211f-knockout_punches.js\"},{\"name\":null,\"type\":\"js\",\"url\":\"\\/assetserver\\/5ab20f1060420992a9b82a65b735dee4d81ef413-all.js\"},{\"name\":null,\"type\":\"css\",\"url\":\"\\/assetserver\\/1cc0ed62837210b80a182cc3676512f895dab686-style.css\"},{\"name\":null,\"type\":\"css\",\"url\":\"\\/assetserver\\/2eee816f616df3549d7044d45e744fbf8d42bfa1-bulma_confined.min.css\"}],\"type\":\"async_block\"},\"id\":\"16170003652946793350\",\"handlers\":{\"loading\":[\"(function (val){return (val!=this.model[\\\"loading\\\"]()) ? (this.valueFromJulia[\\\"loading\\\"]=true, this.model[\\\"loading\\\"](val)) : undefined})\"],\"clicks\":[\"(function (val){return (val!=this.model[\\\"clicks\\\"]()) ? (this.valueFromJulia[\\\"clicks\\\"]=true, this.model[\\\"clicks\\\"](val)) : undefined})\"]},\"systemjs_options\":null,\"mount_callbacks\":[\"function () {\\n    var handler = (function (ko, koPunches) {\\n    ko.punches.enableAll();\\n    ko.bindingHandlers.numericValue = {\\n        init: function(element, valueAccessor, allBindings, data, context) {\\n            var stringified = ko.observable(ko.unwrap(valueAccessor()));\\n            stringified.subscribe(function(value) {\\n                var val = parseFloat(value);\\n                if (!isNaN(val)) {\\n                    valueAccessor()(val);\\n                }\\n            });\\n            valueAccessor().subscribe(function(value) {\\n                var str = JSON.stringify(value);\\n                if ((str == \\\"0\\\") && ([\\\"-0\\\", \\\"-0.\\\"].indexOf(stringified()) >= 0))\\n                     return;\\n                 if ([\\\"null\\\", \\\"\\\"].indexOf(str) >= 0)\\n                     return;\\n                stringified(str);\\n            });\\n            ko.applyBindingsToNode(\\n                element,\\n                {\\n                    value: stringified,\\n                    valueUpdate: allBindings.get('valueUpdate'),\\n                },\\n                context,\\n            );\\n        }\\n    };\\n    var json_data = {\\\"loading\\\":WebIO.getval({\\\"name\\\":\\\"loading\\\",\\\"scope\\\":\\\"16170003652946793350\\\",\\\"id\\\":\\\"9030344926754266975\\\",\\\"type\\\":\\\"observable\\\"}),\\\"clicks\\\":WebIO.getval({\\\"name\\\":\\\"clicks\\\",\\\"scope\\\":\\\"16170003652946793350\\\",\\\"id\\\":\\\"15705355246932285968\\\",\\\"type\\\":\\\"observable\\\"})};\\n    var self = this;\\n    function AppViewModel() {\\n        for (var key in json_data) {\\n            var el = json_data[key];\\n            this[key] = Array.isArray(el) ? ko.observableArray(el) : ko.observable(el);\\n        }\\n        \\n        \\n        [this[\\\"loading\\\"].subscribe((function (val){!(this.valueFromJulia[\\\"loading\\\"]) ? (WebIO.setval({\\\"name\\\":\\\"loading\\\",\\\"scope\\\":\\\"16170003652946793350\\\",\\\"id\\\":\\\"9030344926754266975\\\",\\\"type\\\":\\\"observable\\\"},val)) : undefined; return this.valueFromJulia[\\\"loading\\\"]=false}),self),this[\\\"clicks\\\"].subscribe((function (val){!(this.valueFromJulia[\\\"clicks\\\"]) ? (WebIO.setval({\\\"name\\\":\\\"clicks\\\",\\\"scope\\\":\\\"16170003652946793350\\\",\\\"id\\\":\\\"15705355246932285968\\\",\\\"type\\\":\\\"observable\\\"},val)) : undefined; return this.valueFromJulia[\\\"clicks\\\"]=false}),self)]\\n        \\n    }\\n    self.model = new AppViewModel();\\n    self.valueFromJulia = {};\\n    for (var key in json_data) {\\n        self.valueFromJulia[key] = false;\\n    }\\n    ko.applyBindings(self.model, self.dom);\\n}\\n);\\n    (WebIO.importBlock({\\\"data\\\":[{\\\"name\\\":\\\"knockout\\\",\\\"type\\\":\\\"js\\\",\\\"url\\\":\\\"\\/assetserver\\/727383f2a47bd31570b7da84eee7b022dd6d7c78-knockout.js\\\"},{\\\"name\\\":\\\"knockout_punches\\\",\\\"type\\\":\\\"js\\\",\\\"url\\\":\\\"\\/assetserver\\/382b41b3b1bd9f26f75861d360bad7f8beea211f-knockout_punches.js\\\"}],\\\"type\\\":\\\"async_block\\\"})).then((imports) => handler.apply(this, imports));\\n}\\n\"],\"observables\":{\"loading\":{\"sync\":false,\"id\":\"9030344926754266975\",\"value\":false},\"clicks\":{\"sync\":true,\"id\":\"15705355246932285968\",\"value\":0}}},\"children\":[{\"props\":{\"attributes\":{\"data-bind\":\"click: function (){this.clicks(this.clicks()+1)}, css: {'is-loading' : loading}\"},\"className\":\"is-medium button is-primary\",\"style\":{}},\"nodeType\":\"DOM\",\"type\":\"node\",\"instanceArgs\":{\"namespace\":\"html\",\"tag\":\"button\"},\"children\":[\"run\"]}]}]},{\"props\":{\"className\":\"interact-widget\"},\"nodeType\":\"DOM\",\"type\":\"node\",\"instanceArgs\":{\"namespace\":\"html\",\"tag\":\"div\"},\"children\":[{\"props\":{},\"nodeType\":\"Scope\",\"type\":\"node\",\"instanceArgs\":{\"imports\":{\"data\":[{\"name\":null,\"type\":\"js\",\"url\":\"\\/assetserver\\/dd22ed1bf1896c2748f3fe616ce0b838adc895c1-katex.min.js\"},{\"name\":null,\"type\":\"css\",\"url\":\"\\/assetserver\\/46517a424aa5e6cffc1360d7e0848b601c584ee3-katex.min.css\"}],\"type\":\"async_block\"},\"id\":\"5563796551605108028\",\"handlers\":{\"value\":[\"(function (txt){return this.k.render(txt,this.container)})\"]},\"systemjs_options\":null,\"mount_callbacks\":[\"function () {\\n    var handler = ((function (k){this.k=k; this.container=this.dom.querySelector(\\\"#container\\\"); return k.render(\\\"\\\\\\\\;\\\\\\\\;\\\",this.container)}));\\n    (WebIO.importBlock({\\\"data\\\":[{\\\"name\\\":null,\\\"type\\\":\\\"js\\\",\\\"url\\\":\\\"\\/assetserver\\/dd22ed1bf1896c2748f3fe616ce0b838adc895c1-katex.min.js\\\"},{\\\"name\\\":null,\\\"type\\\":\\\"css\\\",\\\"url\\\":\\\"\\/assetserver\\/46517a424aa5e6cffc1360d7e0848b601c584ee3-katex.min.css\\\"}],\\\"type\\\":\\\"async_block\\\"})).then((imports) => handler.apply(this, imports));\\n}\\n\"],\"observables\":{\"value\":{\"sync\":false,\"id\":\"10847626786919710503\",\"value\":\"\\\\;\\\\;\"}}},\"children\":[{\"props\":{\"id\":\"container\"},\"nodeType\":\"DOM\",\"type\":\"node\",\"instanceArgs\":{\"namespace\":\"html\",\"tag\":\"div\"},\"children\":[]}]}]},{\"props\":{\"className\":\"field interact-widget\"},\"nodeType\":\"DOM\",\"type\":\"node\",\"instanceArgs\":{\"namespace\":\"html\",\"tag\":\"div\"},\"children\":[{\"props\":{},\"nodeType\":\"Scope\",\"type\":\"node\",\"instanceArgs\":{\"imports\":{\"data\":[{\"name\":\"knockout\",\"type\":\"js\",\"url\":\"\\/assetserver\\/727383f2a47bd31570b7da84eee7b022dd6d7c78-knockout.js\"},{\"name\":\"knockout_punches\",\"type\":\"js\",\"url\":\"\\/assetserver\\/382b41b3b1bd9f26f75861d360bad7f8beea211f-knockout_punches.js\"},{\"name\":null,\"type\":\"js\",\"url\":\"\\/assetserver\\/5ab20f1060420992a9b82a65b735dee4d81ef413-all.js\"},{\"name\":null,\"type\":\"css\",\"url\":\"\\/assetserver\\/1cc0ed62837210b80a182cc3676512f895dab686-style.css\"},{\"name\":null,\"type\":\"css\",\"url\":\"\\/assetserver\\/2eee816f616df3549d7044d45e744fbf8d42bfa1-bulma_confined.min.css\"}],\"type\":\"async_block\"},\"id\":\"9030327594758647594\",\"handlers\":{\"loading\":[\"(function (val){return (val!=this.model[\\\"loading\\\"]()) ? (this.valueFromJulia[\\\"loading\\\"]=true, this.model[\\\"loading\\\"](val)) : undefined})\"],\"clicks\":[\"(function (val){return (val!=this.model[\\\"clicks\\\"]()) ? (this.valueFromJulia[\\\"clicks\\\"]=true, this.model[\\\"clicks\\\"](val)) : undefined})\"]},\"systemjs_options\":null,\"mount_callbacks\":[\"function () {\\n    var handler = (function (ko, koPunches) {\\n    ko.punches.enableAll();\\n    ko.bindingHandlers.numericValue = {\\n        init: function(element, valueAccessor, allBindings, data, context) {\\n            var stringified = ko.observable(ko.unwrap(valueAccessor()));\\n            stringified.subscribe(function(value) {\\n                var val = parseFloat(value);\\n                if (!isNaN(val)) {\\n                    valueAccessor()(val);\\n                }\\n            });\\n            valueAccessor().subscribe(function(value) {\\n                var str = JSON.stringify(value);\\n                if ((str == \\\"0\\\") && ([\\\"-0\\\", \\\"-0.\\\"].indexOf(stringified()) >= 0))\\n                     return;\\n                 if ([\\\"null\\\", \\\"\\\"].indexOf(str) >= 0)\\n                     return;\\n                stringified(str);\\n            });\\n            ko.applyBindingsToNode(\\n                element,\\n                {\\n                    value: stringified,\\n                    valueUpdate: allBindings.get('valueUpdate'),\\n                },\\n                context,\\n            );\\n        }\\n    };\\n    var json_data = {\\\"loading\\\":WebIO.getval({\\\"name\\\":\\\"loading\\\",\\\"scope\\\":\\\"9030327594758647594\\\",\\\"id\\\":\\\"17649981766356900316\\\",\\\"type\\\":\\\"observable\\\"}),\\\"clicks\\\":WebIO.getval({\\\"name\\\":\\\"clicks\\\",\\\"scope\\\":\\\"9030327594758647594\\\",\\\"id\\\":\\\"4806140182815459177\\\",\\\"type\\\":\\\"observable\\\"})};\\n    var self = this;\\n    function AppViewModel() {\\n        for (var key in json_data) {\\n            var el = json_data[key];\\n            this[key] = Array.isArray(el) ? ko.observableArray(el) : ko.observable(el);\\n        }\\n        \\n        \\n        [this[\\\"loading\\\"].subscribe((function (val){!(this.valueFromJulia[\\\"loading\\\"]) ? (WebIO.setval({\\\"name\\\":\\\"loading\\\",\\\"scope\\\":\\\"9030327594758647594\\\",\\\"id\\\":\\\"17649981766356900316\\\",\\\"type\\\":\\\"observable\\\"},val)) : undefined; return this.valueFromJulia[\\\"loading\\\"]=false}),self),this[\\\"clicks\\\"].subscribe((function (val){!(this.valueFromJulia[\\\"clicks\\\"]) ? (WebIO.setval({\\\"name\\\":\\\"clicks\\\",\\\"scope\\\":\\\"9030327594758647594\\\",\\\"id\\\":\\\"4806140182815459177\\\",\\\"type\\\":\\\"observable\\\"},val)) : undefined; return this.valueFromJulia[\\\"clicks\\\"]=false}),self)]\\n        \\n    }\\n    self.model = new AppViewModel();\\n    self.valueFromJulia = {};\\n    for (var key in json_data) {\\n        self.valueFromJulia[key] = false;\\n    }\\n    ko.applyBindings(self.model, self.dom);\\n}\\n);\\n    (WebIO.importBlock({\\\"data\\\":[{\\\"name\\\":\\\"knockout\\\",\\\"type\\\":\\\"js\\\",\\\"url\\\":\\\"\\/assetserver\\/727383f2a47bd31570b7da84eee7b022dd6d7c78-knockout.js\\\"},{\\\"name\\\":\\\"knockout_punches\\\",\\\"type\\\":\\\"js\\\",\\\"url\\\":\\\"\\/assetserver\\/382b41b3b1bd9f26f75861d360bad7f8beea211f-knockout_punches.js\\\"}],\\\"type\\\":\\\"async_block\\\"})).then((imports) => handler.apply(this, imports));\\n}\\n\"],\"observables\":{\"loading\":{\"sync\":false,\"id\":\"17649981766356900316\",\"value\":false},\"clicks\":{\"sync\":true,\"id\":\"4806140182815459177\",\"value\":0}}},\"children\":[{\"props\":{\"attributes\":{\"data-bind\":\"click: function (){this.clicks(this.clicks()+1)}, css: {'is-loading' : loading}\"},\"className\":\"is-medium button is-primary\",\"style\":{}},\"nodeType\":\"DOM\",\"type\":\"node\",\"instanceArgs\":{\"namespace\":\"html\",\"tag\":\"button\"},\"children\":[\"stop\"]}]}]}]}]},{\"props\":{},\"nodeType\":\"Scope\",\"type\":\"node\",\"instanceArgs\":{\"imports\":{\"data\":[],\"type\":\"async_block\"},\"id\":\"12935275485222568168\",\"handlers\":{\"obs-output\":[\"function (value, scope) {\\n    scope.setInnerHTML(value);\\n}\\n\"]},\"systemjs_options\":null,\"mount_callbacks\":[],\"observables\":{\"obs-output\":{\"sync\":false,\"id\":\"2875500283773855252\",\"value\":\"    <div style=\\\"height: 500px; width: 100%; overflow-x: auto; overflow-y: hidden; resize: both\\\">\\n    <iframe src=\\\"http:\\/\\/127.0.0.1:8700\\\" style=\\\"width: 100%; height: 100%; border: none\\\"><\\/iframe>\\n    <\\/div>\\n\"}}},\"children\":[{\"props\":{\"className\":\"webio-observable\",\"setInnerHtml\":\"    <div style=\\\"height: 500px; width: 100%; overflow-x: auto; overflow-y: hidden; resize: both\\\">\\n    <iframe src=\\\"http:\\/\\/127.0.0.1:8700\\\" style=\\\"width: 100%; height: 100%; border: none\\\"><\\/iframe>\\n    <\\/div>\\n\"},\"nodeType\":\"DOM\",\"type\":\"node\",\"instanceArgs\":{\"namespace\":\"html\",\"tag\":\"div\"},\"children\":[]}]},{\"props\":{\"className\":\"interact-widget\"},\"nodeType\":\"DOM\",\"type\":\"node\",\"instanceArgs\":{\"namespace\":\"html\",\"tag\":\"div\"},\"children\":[{\"props\":{},\"nodeType\":\"Scope\",\"type\":\"node\",\"instanceArgs\":{\"imports\":{\"data\":[{\"name\":null,\"type\":\"js\",\"url\":\"\\/assetserver\\/dd22ed1bf1896c2748f3fe616ce0b838adc895c1-katex.min.js\"},{\"name\":null,\"type\":\"css\",\"url\":\"\\/assetserver\\/46517a424aa5e6cffc1360d7e0848b601c584ee3-katex.min.css\"}],\"type\":\"async_block\"},\"id\":\"5563796551605108028\",\"handlers\":{\"value\":[\"(function (txt){return this.k.render(txt,this.container)})\"]},\"systemjs_options\":null,\"mount_callbacks\":[\"function () {\\n    var handler = ((function (k){this.k=k; this.container=this.dom.querySelector(\\\"#container\\\"); return k.render(\\\"\\\\\\\\;\\\\\\\\;\\\",this.container)}));\\n    (WebIO.importBlock({\\\"data\\\":[{\\\"name\\\":null,\\\"type\\\":\\\"js\\\",\\\"url\\\":\\\"\\/assetserver\\/dd22ed1bf1896c2748f3fe616ce0b838adc895c1-katex.min.js\\\"},{\\\"name\\\":null,\\\"type\\\":\\\"css\\\",\\\"url\\\":\\\"\\/assetserver\\/46517a424aa5e6cffc1360d7e0848b601c584ee3-katex.min.css\\\"}],\\\"type\\\":\\\"async_block\\\"})).then((imports) => handler.apply(this, imports));\\n}\\n\"],\"observables\":{\"value\":{\"sync\":false,\"id\":\"10847626786919710503\",\"value\":\"\\\\;\\\\;\"}}},\"children\":[{\"props\":{\"id\":\"container\"},\"nodeType\":\"DOM\",\"type\":\"node\",\"instanceArgs\":{\"namespace\":\"html\",\"tag\":\"div\"},\"children\":[]}]}]},{\"props\":{\"style\":{\"display\":\"flex\",\"flex-direction\":\"column\"}},\"nodeType\":\"DOM\",\"type\":\"node\",\"instanceArgs\":{\"namespace\":\"html\",\"tag\":\"div\"},\"children\":[]}]}]},\n",
       "        window,\n",
       "    );\n",
       "    })()\n",
       "    </script>\n",
       "</div>\n"
      ],
      "text/plain": [
       "WebIO.Node{WebIO.DOM}(WebIO.DOM(:html, :div), Any[WebIO.Node{WebIO.DOM}(WebIO.DOM(:html, :div), Any[WebIO.Node{WebIO.DOM}(WebIO.DOM(:html, :div), Any[WebIO.Node{WebIO.DOM}(WebIO.DOM(:html, :div), Any[WebIO.Scope(WebIO.Node{WebIO.DOM}(WebIO.DOM(:html, :div), Any[WebIO.Node{WebIO.DOM}(WebIO.DOM(:html, :div), Any[WebIO.Node{WebIO.DOM}(WebIO.DOM(:html, :label), Any[\"time\"], Dict{Symbol, Any}(:className => \"interact \", :style => Dict{Any, Any}(:padding => \"5px 10px 0px 10px\")))], Dict{Symbol, Any}(:className => \"interact-flex-row-left\")), WebIO.Node{WebIO.DOM}(WebIO.DOM(:html, :div), Any[WebIO.Node{WebIO.DOM}(WebIO.DOM(:html, :input), Any[], Dict{Symbol, Any}(:max => 101, :min => 1, :attributes => Dict{Any, Any}(:type => \"range\", Symbol(\"data-bind\") => \"numericValue: index, valueUpdate: 'input', event: {change: function (){this.changes(this.changes()+1)}}\", \"orient\" => \"horizontal\"), :step => 1, :className => \"slider slider is-fullwidth\", :style => Dict{Any, Any}()))], Dict{Symbol, Any}(:className => \"interact-flex-row-center\")), WebIO.Node{WebIO.DOM}(WebIO.DOM(:html, :div), Any[WebIO.Node{WebIO.DOM}(WebIO.DOM(:html, :p), Any[], Dict{Symbol, Any}(:attributes => Dict(\"data-bind\" => \"text: formatted_val\")))], Dict{Symbol, Any}(:className => \"interact-flex-row-right\"))], Dict{Symbol, Any}(:className => \"interact-flex-row interact-widget\")), Dict{String, Tuple{Observables.AbstractObservable, Union{Nothing, Bool}}}(\"changes\" => (Observable(0), nothing), \"index\" => (Observable(51), nothing)), Set{String}(), nothing, WebIO.Asset[WebIO.Asset(\"js\", \"knockout\", \"/home/dushya/.julia/packages/Knockout/HReiN/src/../assets/knockout.js\"), WebIO.Asset(\"js\", \"knockout_punches\", \"/home/dushya/.julia/packages/Knockout/HReiN/src/../assets/knockout_punches.js\"), WebIO.Asset(\"js\", nothing, \"/home/dushya/.julia/packages/InteractBase/LJXv3/src/../assets/all.js\"), WebIO.Asset(\"css\", nothing, \"/home/dushya/.julia/packages/InteractBase/LJXv3/src/../assets/style.css\"), WebIO.Asset(\"css\", nothing, \"/home/dushya/.julia/packages/Interact/PENUy/src/../assets/bulma_confined.min.css\")], Dict{Any, Any}(\"changes\" => Any[WebIO.JSString(\"(function (val){return (val!=this.model[\\\"changes\\\"]()) ? (this.valueFromJulia[\\\"changes\\\"]=true, this.model[\\\"changes\\\"](val)) : undefined})\")], \"index\" => Any[WebIO.JSString(\"(function (val){return (val!=this.model[\\\"index\\\"]()) ? (this.valueFromJulia[\\\"index\\\"]=true, this.model[\\\"index\\\"](val)) : undefined})\")]), WebIO.ConnectionPool(Channel{Any}(32), Set{WebIO.AbstractConnection}(), Base.GenericCondition{ReentrantLock}(Base.IntrusiveLinkedList{Task}(Task (runnable) @0x00007f02869184c0, Task (runnable) @0x00007f02869184c0), ReentrantLock(nothing, 0x00000000, 0x00, Base.GenericCondition{Base.Threads.SpinLock}(Base.IntrusiveLinkedList{Task}(nothing, nothing), Base.Threads.SpinLock(0)), (326, 139648805039264, 0)))), WebIO.JSString[WebIO.JSString(\"function () {\\n    var handler = (function (ko, koPunches) {\\n    ko.punches.enableAll();\\n    ko.bindingHandlers.numericValue = {\\n        init: function(element, valueAccessor, allBindings, data, context) {\\n            var stringified = ko.observable(ko.unwrap(valueAccessor()));\\n            stringified.subscribe(function(value) {\\n                var val = parseFloat(value);\\n                if (!isNaN(val)) {\\n                    valueAccessor()(val);\\n                }\\n            });\\n            valueAccessor().subscribe(function(value) {\\n                var str = JSON.stringify(value);\\n                if ((str == \\\"0\\\") && ([\\\"-0\\\", \\\"-0.\\\"].indexOf(stringified()) >= 0))\\n                     return;\\n                 if ([\\\"null\\\", \\\"\\\"].indexOf(str) >= 0)\\n                     return;\\n                stringified(str);\\n            });\\n            ko.applyBindingsToNode(\\n                element,\\n                {\\n                    value: stringified,\\n                    valueUpdate: allBindings.get('valueUpdate'),\\n                },\\n                context,\\n            );\\n        }\\n    };\\n    var json_data = {\\\"formatted_vals\\\":[\\\"1\\\",\\\"2\\\",\\\"3\\\",\\\"4\\\",\\\"5\\\",\\\"6\\\",\\\"7\\\",\\\"8\\\",\\\"9\\\",\\\"10\\\",\\\"11\\\",\\\"12\\\",\\\"13\\\",\\\"14\\\",\\\"15\\\",\\\"16\\\",\\\"17\\\",\\\"18\\\",\\\"19\\\",\\\"20\\\",\\\"21\\\",\\\"22\\\",\\\"23\\\",\\\"24\\\",\\\"25\\\",\\\"26\\\",\\\"27\\\",\\\"28\\\",\\\"29\\\",\\\"30\\\",\\\"31\\\",\\\"32\\\",\\\"33\\\",\\\"34\\\",\\\"35\\\",\\\"36\\\",\\\"37\\\",\\\"38\\\",\\\"39\\\",\\\"40\\\",\\\"41\\\",\\\"42\\\",\\\"43\\\",\\\"44\\\",\\\"45\\\",\\\"46\\\",\\\"47\\\",\\\"48\\\",\\\"49\\\",\\\"50\\\",\\\"51\\\",\\\"52\\\",\\\"53\\\",\\\"54\\\",\\\"55\\\",\\\"56\\\",\\\"57\\\",\\\"58\\\",\\\"59\\\",\\\"60\\\",\\\"61\\\",\\\"62\\\",\\\"63\\\",\\\"64\\\",\\\"65\\\",\\\"66\\\",\\\"67\\\",\\\"68\\\",\\\"69\\\",\\\"70\\\",\\\"71\\\",\\\"72\\\",\\\"73\\\",\\\"74\\\",\\\"75\\\",\\\"76\\\",\\\"77\\\",\\\"78\\\",\\\"79\\\",\\\"80\\\",\\\"81\\\",\\\"82\\\",\\\"83\\\",\\\"84\\\",\\\"85\\\",\\\"86\\\",\\\"87\\\",\\\"88\\\",\\\"89\\\",\\\"90\\\",\\\"91\\\",\\\"92\\\",\\\"93\\\",\\\"94\\\",\\\"95\\\",\\\"96\\\",\\\"97\\\",\\\"98\\\",\\\"99\\\",\\\"100\\\",\\\"101\\\"],\\\"changes\\\":WebIO.getval({\\\"name\\\":\\\"changes\\\",\\\"scope\\\":\\\"16036422046144295791\\\",\\\"id\\\":\\\"18416914248442779030\\\",\\\"type\\\":\\\"observable\\\"}),\\\"index\\\":WebIO.getval({\\\"name\\\":\\\"index\\\",\\\"scope\\\":\\\"16036422046144295791\\\",\\\"id\\\":\\\"857918341609075528\\\",\\\"type\\\":\\\"observable\\\"})};\\n    var self = this;\\n    function AppViewModel() {\\n        for (var key in json_data) {\\n            var el = json_data[key];\\n            this[key] = Array.isArray(el) ? ko.observableArray(el) : ko.observable(el);\\n        }\\n        \\n        [this[\\\"formatted_val\\\"]=ko.computed(    function(){\\n        return this.formatted_vals()[parseInt(this.index())-(1)];\\n    }\\n,this)]\\n        [this[\\\"changes\\\"].subscribe((function (val){!(this.valueFromJulia[\\\"changes\\\"]) ? (WebIO.setval({\\\"name\\\":\\\"changes\\\",\\\"scope\\\":\\\"16036422046144295791\\\",\\\"id\\\":\\\"18416914248442779030\\\",\\\"type\\\":\\\"observable\\\"},val)) : undefined; return this.valueFromJulia[\\\"changes\\\"]=false}),self),this[\\\"index\\\"].subscribe((function (val){!(this.valueFromJulia[\\\"index\\\"]) ? (WebIO.setval({\\\"name\\\":\\\"index\\\",\\\"scope\\\":\\\"16036422046144295791\\\",\\\"id\\\":\\\"857918341609075528\\\",\\\"type\\\":\\\"observable\\\"},val)) : undefined; return this.valueFromJulia[\\\"index\\\"]=false}),self)]\\n        \\n    }\\n    self.model = new AppViewModel();\\n    self.valueFromJulia = {};\\n    for (var key in json_data) {\\n        self.valueFromJulia[key] = false;\\n    }\\n    ko.applyBindings(self.model, self.dom);\\n}\\n);\\n    (WebIO.importBlock({\\\"data\\\":[{\\\"name\\\":\\\"knockout\\\",\\\"type\\\":\\\"js\\\",\\\"url\\\":\\\"/assetserver/727383f2a47bd31570b7da84eee7b022dd6d7c78-knockout.js\\\"},{\\\"name\\\":\\\"knockout_punches\\\",\\\"type\\\":\\\"js\\\",\\\"url\\\":\\\"/assetserver/382b41b3b1bd9f26f75861d360bad7f8beea211f-knockout_punches.js\\\"}],\\\"type\\\":\\\"async_block\\\"})).then((imports) => handler.apply(this, imports));\\n}\\n\")])], Dict{Symbol, Any}(:className => \"field interact-widget\")), WebIO.Node{WebIO.DOM}(WebIO.DOM(:html, :div), Any[WebIO.Scope(WebIO.Node{WebIO.DOM}(WebIO.DOM(:html, :div), Any[WebIO.Node{WebIO.DOM}(WebIO.DOM(:html, :div), Any[WebIO.Node{WebIO.DOM}(WebIO.DOM(:html, :label), Any[\"scale\"], Dict{Symbol, Any}(:className => \"interact \", :style => Dict{Any, Any}(:padding => \"5px 10px 0px 10px\")))], Dict{Symbol, Any}(:className => \"interact-flex-row-left\")), WebIO.Node{WebIO.DOM}(WebIO.DOM(:html, :div), Any[WebIO.Node{WebIO.DOM}(WebIO.DOM(:html, :input), Any[], Dict{Symbol, Any}(:max => 20, :min => 1, :attributes => Dict{Any, Any}(:type => \"range\", Symbol(\"data-bind\") => \"numericValue: index, valueUpdate: 'input', event: {change: function (){this.changes(this.changes()+1)}}\", \"orient\" => \"horizontal\"), :step => 1, :className => \"slider slider is-fullwidth\", :style => Dict{Any, Any}()))], Dict{Symbol, Any}(:className => \"interact-flex-row-center\")), WebIO.Node{WebIO.DOM}(WebIO.DOM(:html, :div), Any[WebIO.Node{WebIO.DOM}(WebIO.DOM(:html, :p), Any[], Dict{Symbol, Any}(:attributes => Dict(\"data-bind\" => \"text: formatted_val\")))], Dict{Symbol, Any}(:className => \"interact-flex-row-right\"))], Dict{Symbol, Any}(:className => \"interact-flex-row interact-widget\")), Dict{String, Tuple{Observables.AbstractObservable, Union{Nothing, Bool}}}(\"changes\" => (Observable(0), nothing), \"index\" => (Observable{Any}(10), nothing)), Set{String}(), nothing, WebIO.Asset[WebIO.Asset(\"js\", \"knockout\", \"/home/dushya/.julia/packages/Knockout/HReiN/src/../assets/knockout.js\"), WebIO.Asset(\"js\", \"knockout_punches\", \"/home/dushya/.julia/packages/Knockout/HReiN/src/../assets/knockout_punches.js\"), WebIO.Asset(\"js\", nothing, \"/home/dushya/.julia/packages/InteractBase/LJXv3/src/../assets/all.js\"), WebIO.Asset(\"css\", nothing, \"/home/dushya/.julia/packages/InteractBase/LJXv3/src/../assets/style.css\"), WebIO.Asset(\"css\", nothing, \"/home/dushya/.julia/packages/Interact/PENUy/src/../assets/bulma_confined.min.css\")], Dict{Any, Any}(\"changes\" => Any[WebIO.JSString(\"(function (val){return (val!=this.model[\\\"changes\\\"]()) ? (this.valueFromJulia[\\\"changes\\\"]=true, this.model[\\\"changes\\\"](val)) : undefined})\")], \"index\" => Any[WebIO.JSString(\"(function (val){return (val!=this.model[\\\"index\\\"]()) ? (this.valueFromJulia[\\\"index\\\"]=true, this.model[\\\"index\\\"](val)) : undefined})\")]), WebIO.ConnectionPool(Channel{Any}(32), Set{WebIO.AbstractConnection}(), Base.GenericCondition{ReentrantLock}(Base.IntrusiveLinkedList{Task}(Task (runnable) @0x00007f0286d2aa40, Task (runnable) @0x00007f0286d2aa40), ReentrantLock(nothing, 0x00000000, 0x00, Base.GenericCondition{Base.Threads.SpinLock}(Base.IntrusiveLinkedList{Task}(nothing, nothing), Base.Threads.SpinLock(0)), (2, 139649871145040, 139649850879824)))), WebIO.JSString[WebIO.JSString(\"function () {\\n    var handler = (function (ko, koPunches) {\\n    ko.punches.enableAll();\\n    ko.bindingHandlers.numericValue = {\\n        init: function(element, valueAccessor, allBindings, data, context) {\\n            var stringified = ko.observable(ko.unwrap(valueAccessor()));\\n            stringified.subscribe(function(value) {\\n                var val = parseFloat(value);\\n                if (!isNaN(val)) {\\n                    valueAccessor()(val);\\n                }\\n            });\\n            valueAccessor().subscribe(function(value) {\\n                var str = JSON.stringify(value);\\n                if ((str == \\\"0\\\") && ([\\\"-0\\\", \\\"-0.\\\"].indexOf(stringified()) >= 0))\\n                     return;\\n                 if ([\\\"null\\\", \\\"\\\"].indexOf(str) >= 0)\\n                     return;\\n                stringified(str);\\n            });\\n            ko.applyBindingsToNode(\\n                element,\\n                {\\n                    value: stringified,\\n                    valueUpdate: allBindings.get('valueUpdate'),\\n                },\\n                context,\\n            );\\n        }\\n    };\\n    var json_data = {\\\"formatted_vals\\\":[\\\"0.1\\\",\\\"0.2\\\",\\\"0.3\\\",\\\"0.4\\\",\\\"0.5\\\",\\\"0.6\\\",\\\"0.7\\\",\\\"0.8\\\",\\\"0.9\\\",\\\"1.0\\\",\\\"1.1\\\",\\\"1.2\\\",\\\"1.3\\\",\\\"1.4\\\",\\\"1.5\\\",\\\"1.6\\\",\\\"1.7\\\",\\\"1.8\\\",\\\"1.9\\\",\\\"2.0\\\"],\\\"changes\\\":WebIO.getval({\\\"name\\\":\\\"changes\\\",\\\"scope\\\":\\\"6742262548706069561\\\",\\\"id\\\":\\\"7106096667055274409\\\",\\\"type\\\":\\\"observable\\\"}),\\\"index\\\":WebIO.getval({\\\"name\\\":\\\"index\\\",\\\"scope\\\":\\\"6742262548706069561\\\",\\\"id\\\":\\\"17056204579672623911\\\",\\\"type\\\":\\\"observable\\\"})};\\n    var self = this;\\n    function AppViewModel() {\\n        for (var key in json_data) {\\n            var el = json_data[key];\\n            this[key] = Array.isArray(el) ? ko.observableArray(el) : ko.observable(el);\\n        }\\n        \\n        [this[\\\"formatted_val\\\"]=ko.computed(    function(){\\n        return this.formatted_vals()[parseInt(this.index())-(1)];\\n    }\\n,this)]\\n        [this[\\\"changes\\\"].subscribe((function (val){!(this.valueFromJulia[\\\"changes\\\"]) ? (WebIO.setval({\\\"name\\\":\\\"changes\\\",\\\"scope\\\":\\\"6742262548706069561\\\",\\\"id\\\":\\\"7106096667055274409\\\",\\\"type\\\":\\\"observable\\\"},val)) : undefined; return this.valueFromJulia[\\\"changes\\\"]=false}),self),this[\\\"index\\\"].subscribe((function (val){!(this.valueFromJulia[\\\"index\\\"]) ? (WebIO.setval({\\\"name\\\":\\\"index\\\",\\\"scope\\\":\\\"6742262548706069561\\\",\\\"id\\\":\\\"17056204579672623911\\\",\\\"type\\\":\\\"observable\\\"},val)) : undefined; return this.valueFromJulia[\\\"index\\\"]=false}),self)]\\n        \\n    }\\n    self.model = new AppViewModel();\\n    self.valueFromJulia = {};\\n    for (var key in json_data) {\\n        self.valueFromJulia[key] = false;\\n    }\\n    ko.applyBindings(self.model, self.dom);\\n}\\n);\\n    (WebIO.importBlock({\\\"data\\\":[{\\\"name\\\":\\\"knockout\\\",\\\"type\\\":\\\"js\\\",\\\"url\\\":\\\"/assetserver/727383f2a47bd31570b7da84eee7b022dd6d7c78-knockout.js\\\"},{\\\"name\\\":\\\"knockout_punches\\\",\\\"type\\\":\\\"js\\\",\\\"url\\\":\\\"/assetserver/382b41b3b1bd9f26f75861d360bad7f8beea211f-knockout_punches.js\\\"}],\\\"type\\\":\\\"async_block\\\"})).then((imports) => handler.apply(this, imports));\\n}\\n\")])], Dict{Symbol, Any}(:className => \"field interact-widget\")), WebIO.Node{WebIO.DOM}(WebIO.DOM(:html, :div), Any[WebIO.Node{WebIO.DOM}(WebIO.DOM(:html, :div), Any[WebIO.Scope(WebIO.Node{WebIO.DOM}(WebIO.DOM(:html, :div), Any[], Dict{Symbol, Any}(:id => \"container\")), Dict{String, Tuple{Observables.AbstractObservable, Union{Nothing, Bool}}}(\"value\" => (Observable(\"\\\\;\\\\;\"), nothing)), Set{String}(), nothing, WebIO.Asset[WebIO.Asset(\"js\", nothing, \"/home/dushya/.julia/packages/InteractBase/LJXv3/src/../assets/katex.min.js\"), WebIO.Asset(\"css\", nothing, \"/home/dushya/.julia/packages/InteractBase/LJXv3/src/../assets/katex.min.css\")], Dict{Any, Any}(\"value\" => Any[WebIO.JSString(\"(function (txt){return this.k.render(txt,this.container)})\")]), WebIO.ConnectionPool(Channel{Any}(32), Set{WebIO.AbstractConnection}(), Base.GenericCondition{ReentrantLock}(Base.IntrusiveLinkedList{Task}(Task (runnable) @0x00007f02c48895f0, Task (runnable) @0x00007f02c48895f0), ReentrantLock(nothing, 0x00000000, 0x00, Base.GenericCondition{Base.Threads.SpinLock}(Base.IntrusiveLinkedList{Task}(nothing, nothing), Base.Threads.SpinLock(0)), (2, 139650521614960, 139648872516672)))), WebIO.JSString[WebIO.JSString(\"function () {\\n    var handler = ((function (k){this.k=k; this.container=this.dom.querySelector(\\\"#container\\\"); return k.render(\\\"\\\\\\\\;\\\\\\\\;\\\",this.container)}));\\n    (WebIO.importBlock({\\\"data\\\":[{\\\"name\\\":null,\\\"type\\\":\\\"js\\\",\\\"url\\\":\\\"/assetserver/dd22ed1bf1896c2748f3fe616ce0b838adc895c1-katex.min.js\\\"},{\\\"name\\\":null,\\\"type\\\":\\\"css\\\",\\\"url\\\":\\\"/assetserver/46517a424aa5e6cffc1360d7e0848b601c584ee3-katex.min.css\\\"}],\\\"type\\\":\\\"async_block\\\"})).then((imports) => handler.apply(this, imports));\\n}\\n\")])], Dict{Symbol, Any}(:className => \"interact-widget\")), WebIO.Node{WebIO.DOM}(WebIO.DOM(:html, :div), Any[WebIO.Scope(WebIO.Node{WebIO.DOM}(WebIO.DOM(:html, :button), Any[\"run\"], Dict{Symbol, Any}(:attributes => Dict{Any, Any}(\"data-bind\" => \"click: function (){this.clicks(this.clicks()+1)}, css: {'is-loading' : loading}\"), :className => \"is-medium button is-primary\", :style => Dict{String, Any}())), Dict{String, Tuple{Observables.AbstractObservable, Union{Nothing, Bool}}}(\"loading\" => (Observable(false), nothing), \"clicks\" => (Observable(0), nothing)), Set{String}(), nothing, WebIO.Asset[WebIO.Asset(\"js\", \"knockout\", \"/home/dushya/.julia/packages/Knockout/HReiN/src/../assets/knockout.js\"), WebIO.Asset(\"js\", \"knockout_punches\", \"/home/dushya/.julia/packages/Knockout/HReiN/src/../assets/knockout_punches.js\"), WebIO.Asset(\"js\", nothing, \"/home/dushya/.julia/packages/InteractBase/LJXv3/src/../assets/all.js\"), WebIO.Asset(\"css\", nothing, \"/home/dushya/.julia/packages/InteractBase/LJXv3/src/../assets/style.css\"), WebIO.Asset(\"css\", nothing, \"/home/dushya/.julia/packages/Interact/PENUy/src/../assets/bulma_confined.min.css\")], Dict{Any, Any}(\"loading\" => Any[WebIO.JSString(\"(function (val){return (val!=this.model[\\\"loading\\\"]()) ? (this.valueFromJulia[\\\"loading\\\"]=true, this.model[\\\"loading\\\"](val)) : undefined})\")], \"clicks\" => Any[WebIO.JSString(\"(function (val){return (val!=this.model[\\\"clicks\\\"]()) ? (this.valueFromJulia[\\\"clicks\\\"]=true, this.model[\\\"clicks\\\"](val)) : undefined})\")]), WebIO.ConnectionPool(Channel{Any}(32), Set{WebIO.AbstractConnection}(), Base.GenericCondition{ReentrantLock}(Base.IntrusiveLinkedList{Task}(Task (runnable) @0x00007f02c65501a0, Task (runnable) @0x00007f02c65501a0), ReentrantLock(nothing, 0x00000000, 0x00, Base.GenericCondition{Base.Threads.SpinLock}(Base.IntrusiveLinkedList{Task}(nothing, nothing), Base.Threads.SpinLock(0)), (8, 139650746283584, 139650709513232)))), WebIO.JSString[WebIO.JSString(\"function () {\\n    var handler = (function (ko, koPunches) {\\n    ko.punches.enableAll();\\n    ko.bindingHandlers.numericValue = {\\n        init: function(element, valueAccessor, allBindings, data, context) {\\n            var stringified = ko.observable(ko.unwrap(valueAccessor()));\\n            stringified.subscribe(function(value) {\\n                var val = parseFloat(value);\\n                if (!isNaN(val)) {\\n                    valueAccessor()(val);\\n                }\\n            });\\n            valueAccessor().subscribe(function(value) {\\n                var str = JSON.stringify(value);\\n                if ((str == \\\"0\\\") && ([\\\"-0\\\", \\\"-0.\\\"].indexOf(stringified()) >= 0))\\n                     return;\\n                 if ([\\\"null\\\", \\\"\\\"].indexOf(str) >= 0)\\n                     return;\\n                stringified(str);\\n            });\\n            ko.applyBindingsToNode(\\n                element,\\n                {\\n                    value: stringified,\\n                    valueUpdate: allBindings.get('valueUpdate'),\\n                },\\n                context,\\n            );\\n        }\\n    };\\n    var json_data = {\\\"loading\\\":WebIO.getval({\\\"name\\\":\\\"loading\\\",\\\"scope\\\":\\\"16170003652946793350\\\",\\\"id\\\":\\\"9030344926754266975\\\",\\\"type\\\":\\\"observable\\\"}),\\\"clicks\\\":WebIO.getval({\\\"name\\\":\\\"clicks\\\",\\\"scope\\\":\\\"16170003652946793350\\\",\\\"id\\\":\\\"15705355246932285968\\\",\\\"type\\\":\\\"observable\\\"})};\\n    var self = this;\\n    function AppViewModel() {\\n        for (var key in json_data) {\\n            var el = json_data[key];\\n            this[key] = Array.isArray(el) ? ko.observableArray(el) : ko.observable(el);\\n        }\\n        \\n        \\n        [this[\\\"loading\\\"].subscribe((function (val){!(this.valueFromJulia[\\\"loading\\\"]) ? (WebIO.setval({\\\"name\\\":\\\"loading\\\",\\\"scope\\\":\\\"16170003652946793350\\\",\\\"id\\\":\\\"9030344926754266975\\\",\\\"type\\\":\\\"observable\\\"},val)) : undefined; return this.valueFromJulia[\\\"loading\\\"]=false}),self),this[\\\"clicks\\\"].subscribe((function (val){!(this.valueFromJulia[\\\"clicks\\\"]) ? (WebIO.setval({\\\"name\\\":\\\"clicks\\\",\\\"scope\\\":\\\"16170003652946793350\\\",\\\"id\\\":\\\"15705355246932285968\\\",\\\"type\\\":\\\"observable\\\"},val)) : undefined; return this.valueFromJulia[\\\"clicks\\\"]=false}),self)]\\n        \\n    }\\n    self.model = new AppViewModel();\\n    self.valueFromJulia = {};\\n    for (var key in json_data) {\\n        self.valueFromJulia[key] = false;\\n    }\\n    ko.applyBindings(self.model, self.dom);\\n}\\n);\\n    (WebIO.importBlock({\\\"data\\\":[{\\\"name\\\":\\\"knockout\\\",\\\"type\\\":\\\"js\\\",\\\"url\\\":\\\"/assetserver/727383f2a47bd31570b7da84eee7b022dd6d7c78-knockout.js\\\"},{\\\"name\\\":\\\"knockout_punches\\\",\\\"type\\\":\\\"js\\\",\\\"url\\\":\\\"/assetserver/382b41b3b1bd9f26f75861d360bad7f8beea211f-knockout_punches.js\\\"}],\\\"type\\\":\\\"async_block\\\"})).then((imports) => handler.apply(this, imports));\\n}\\n\")])], Dict{Symbol, Any}(:className => \"field interact-widget\")), WebIO.Node{WebIO.DOM}(WebIO.DOM(:html, :div), Any[WebIO.Scope(WebIO.Node{WebIO.DOM}(WebIO.DOM(:html, :div), Any[], Dict{Symbol, Any}(:id => \"container\")), Dict{String, Tuple{Observables.AbstractObservable, Union{Nothing, Bool}}}(\"value\" => (Observable(\"\\\\;\\\\;\"), nothing)), Set{String}(), nothing, WebIO.Asset[WebIO.Asset(\"js\", nothing, \"/home/dushya/.julia/packages/InteractBase/LJXv3/src/../assets/katex.min.js\"), WebIO.Asset(\"css\", nothing, \"/home/dushya/.julia/packages/InteractBase/LJXv3/src/../assets/katex.min.css\")], Dict{Any, Any}(\"value\" => Any[WebIO.JSString(\"(function (txt){return this.k.render(txt,this.container)})\")]), WebIO.ConnectionPool(Channel{Any}(32), Set{WebIO.AbstractConnection}(), Base.GenericCondition{ReentrantLock}(Base.IntrusiveLinkedList{Task}(Task (runnable) @0x00007f02c48895f0, Task (runnable) @0x00007f02c48895f0), ReentrantLock(nothing, 0x00000000, 0x00, Base.GenericCondition{Base.Threads.SpinLock}(Base.IntrusiveLinkedList{Task}(nothing, nothing), Base.Threads.SpinLock(0)), (2, 139650521614960, 139648872516672)))), WebIO.JSString[WebIO.JSString(\"function () {\\n    var handler = ((function (k){this.k=k; this.container=this.dom.querySelector(\\\"#container\\\"); return k.render(\\\"\\\\\\\\;\\\\\\\\;\\\",this.container)}));\\n    (WebIO.importBlock({\\\"data\\\":[{\\\"name\\\":null,\\\"type\\\":\\\"js\\\",\\\"url\\\":\\\"/assetserver/dd22ed1bf1896c2748f3fe616ce0b838adc895c1-katex.min.js\\\"},{\\\"name\\\":null,\\\"type\\\":\\\"css\\\",\\\"url\\\":\\\"/assetserver/46517a424aa5e6cffc1360d7e0848b601c584ee3-katex.min.css\\\"}],\\\"type\\\":\\\"async_block\\\"})).then((imports) => handler.apply(this, imports));\\n}\\n\")])], Dict{Symbol, Any}(:className => \"interact-widget\")), WebIO.Node{WebIO.DOM}(WebIO.DOM(:html, :div), Any[WebIO.Scope(WebIO.Node{WebIO.DOM}(WebIO.DOM(:html, :button), Any[\"stop\"], Dict{Symbol, Any}(:attributes => Dict{Any, Any}(\"data-bind\" => \"click: function (){this.clicks(this.clicks()+1)}, css: {'is-loading' : loading}\"), :className => \"is-medium button is-primary\", :style => Dict{String, Any}())), Dict{String, Tuple{Observables.AbstractObservable, Union{Nothing, Bool}}}(\"loading\" => (Observable(false), nothing), \"clicks\" => (Observable(0), nothing)), Set{String}(), nothing, WebIO.Asset[WebIO.Asset(\"js\", \"knockout\", \"/home/dushya/.julia/packages/Knockout/HReiN/src/../assets/knockout.js\"), WebIO.Asset(\"js\", \"knockout_punches\", \"/home/dushya/.julia/packages/Knockout/HReiN/src/../assets/knockout_punches.js\"), WebIO.Asset(\"js\", nothing, \"/home/dushya/.julia/packages/InteractBase/LJXv3/src/../assets/all.js\"), WebIO.Asset(\"css\", nothing, \"/home/dushya/.julia/packages/InteractBase/LJXv3/src/../assets/style.css\"), WebIO.Asset(\"css\", nothing, \"/home/dushya/.julia/packages/Interact/PENUy/src/../assets/bulma_confined.min.css\")], Dict{Any, Any}(\"loading\" => Any[WebIO.JSString(\"(function (val){return (val!=this.model[\\\"loading\\\"]()) ? (this.valueFromJulia[\\\"loading\\\"]=true, this.model[\\\"loading\\\"](val)) : undefined})\")], \"clicks\" => Any[WebIO.JSString(\"(function (val){return (val!=this.model[\\\"clicks\\\"]()) ? (this.valueFromJulia[\\\"clicks\\\"]=true, this.model[\\\"clicks\\\"](val)) : undefined})\")]), WebIO.ConnectionPool(Channel{Any}(32), Set{WebIO.AbstractConnection}(), Base.GenericCondition{ReentrantLock}(Base.IntrusiveLinkedList{Task}(Task (runnable) @0x00007f02f63fdf50, Task (runnable) @0x00007f02f63fdf50), ReentrantLock(nothing, 0x00000000, 0x00, Base.GenericCondition{Base.Threads.SpinLock}(Base.IntrusiveLinkedList{Task}(nothing, nothing), Base.Threads.SpinLock(0)), (0, 139646566662144, 139649891701584)))), WebIO.JSString[WebIO.JSString(\"function () {\\n    var handler = (function (ko, koPunches) {\\n    ko.punches.enableAll();\\n    ko.bindingHandlers.numericValue = {\\n        init: function(element, valueAccessor, allBindings, data, context) {\\n            var stringified = ko.observable(ko.unwrap(valueAccessor()));\\n            stringified.subscribe(function(value) {\\n                var val = parseFloat(value);\\n                if (!isNaN(val)) {\\n                    valueAccessor()(val);\\n                }\\n            });\\n            valueAccessor().subscribe(function(value) {\\n                var str = JSON.stringify(value);\\n                if ((str == \\\"0\\\") && ([\\\"-0\\\", \\\"-0.\\\"].indexOf(stringified()) >= 0))\\n                     return;\\n                 if ([\\\"null\\\", \\\"\\\"].indexOf(str) >= 0)\\n                     return;\\n                stringified(str);\\n            });\\n            ko.applyBindingsToNode(\\n                element,\\n                {\\n                    value: stringified,\\n                    valueUpdate: allBindings.get('valueUpdate'),\\n                },\\n                context,\\n            );\\n        }\\n    };\\n    var json_data = {\\\"loading\\\":WebIO.getval({\\\"name\\\":\\\"loading\\\",\\\"scope\\\":\\\"9030327594758647594\\\",\\\"id\\\":\\\"17649981766356900316\\\",\\\"type\\\":\\\"observable\\\"}),\\\"clicks\\\":WebIO.getval({\\\"name\\\":\\\"clicks\\\",\\\"scope\\\":\\\"9030327594758647594\\\",\\\"id\\\":\\\"4806140182815459177\\\",\\\"type\\\":\\\"observable\\\"})};\\n    var self = this;\\n    function AppViewModel() {\\n        for (var key in json_data) {\\n            var el = json_data[key];\\n            this[key] = Array.isArray(el) ? ko.observableArray(el) : ko.observable(el);\\n        }\\n        \\n        \\n        [this[\\\"loading\\\"].subscribe((function (val){!(this.valueFromJulia[\\\"loading\\\"]) ? (WebIO.setval({\\\"name\\\":\\\"loading\\\",\\\"scope\\\":\\\"9030327594758647594\\\",\\\"id\\\":\\\"17649981766356900316\\\",\\\"type\\\":\\\"observable\\\"},val)) : undefined; return this.valueFromJulia[\\\"loading\\\"]=false}),self),this[\\\"clicks\\\"].subscribe((function (val){!(this.valueFromJulia[\\\"clicks\\\"]) ? (WebIO.setval({\\\"name\\\":\\\"clicks\\\",\\\"scope\\\":\\\"9030327594758647594\\\",\\\"id\\\":\\\"4806140182815459177\\\",\\\"type\\\":\\\"observable\\\"},val)) : undefined; return this.valueFromJulia[\\\"clicks\\\"]=false}),self)]\\n        \\n    }\\n    self.model = new AppViewModel();\\n    self.valueFromJulia = {};\\n    for (var key in json_data) {\\n        self.valueFromJulia[key] = false;\\n    }\\n    ko.applyBindings(self.model, self.dom);\\n}\\n);\\n    (WebIO.importBlock({\\\"data\\\":[{\\\"name\\\":\\\"knockout\\\",\\\"type\\\":\\\"js\\\",\\\"url\\\":\\\"/assetserver/727383f2a47bd31570b7da84eee7b022dd6d7c78-knockout.js\\\"},{\\\"name\\\":\\\"knockout_punches\\\",\\\"type\\\":\\\"js\\\",\\\"url\\\":\\\"/assetserver/382b41b3b1bd9f26f75861d360bad7f8beea211f-knockout_punches.js\\\"}],\\\"type\\\":\\\"async_block\\\"})).then((imports) => handler.apply(this, imports));\\n}\\n\")])], Dict{Symbol, Any}(:className => \"field interact-widget\"))], Dict{Symbol, Any}(:style => Dict(\"display\" => \"flex\", \"flex-direction\" => \"row\")))], Dict{Symbol, Any}(:style => Dict(\"display\" => \"flex\", \"flex-direction\" => \"column\"))), Observable(MeshCat.DisplayedVisualizer(MeshCat.CoreVisualizer(MeshCat.SceneTrees.SceneNode(nothing, nothing, Dict{String, Vector{UInt8}}(), nothing, Dict{String, MeshCat.SceneTrees.SceneNode}(\"meshcat\" => MeshCat.SceneTrees.SceneNode(nothing, UInt8[0x83, 0xa6, 0x6d, 0x61, 0x74, 0x72, 0x69, 0x78, 0xc7, 0x40  …  0x68, 0xa8, 0x2f, 0x6d, 0x65, 0x73, 0x68, 0x63, 0x61, 0x74], Dict{String, Vector{UInt8}}(), nothing, Dict{String, MeshCat.SceneTrees.SceneNode}(\"nodes\" => MeshCat.SceneTrees.SceneNode(nothing, nothing, Dict{String, Vector{UInt8}}(), nothing, Dict{String, MeshCat.SceneTrees.SceneNode}(\"32\" => MeshCat.SceneTrees.SceneNode(nothing, UInt8[0x83, 0xa6, 0x6d, 0x61, 0x74, 0x72, 0x69, 0x78, 0xc7, 0x40  …  0x74, 0x2f, 0x6e, 0x6f, 0x64, 0x65, 0x73, 0x2f, 0x33, 0x32], Dict{String, Vector{UInt8}}(\"scale\" => [0x84, 0xa8, 0x70, 0x72, 0x6f, 0x70, 0x65, 0x72, 0x74, 0x79  …  0x74, 0x2f, 0x6e, 0x6f, 0x64, 0x65, 0x73, 0x2f, 0x33, 0x32]), nothing, Dict{String, MeshCat.SceneTrees.SceneNode}(\"(0.0N0f8, 0.0N0f8, 0.0N0f8, 1.0N0f8)\" => MeshCat.SceneTrees.SceneNode(UInt8[0x83, 0xa6, 0x6f, 0x62, 0x6a, 0x65, 0x63, 0x74, 0x84, 0xaa  …  0x2c, 0x20, 0x31, 0x2e, 0x30, 0x4e, 0x30, 0x66, 0x38, 0x29], nothing, Dict{String, Vector{UInt8}}(\"visible\" => [0x84, 0xa8, 0x70, 0x72, 0x6f, 0x70, 0x65, 0x72, 0x74, 0x79  …  0x2c, 0x20, 0x31, 0x2e, 0x30, 0x4e, 0x30, 0x66, 0x38, 0x29]), nothing, Dict{String, MeshCat.SceneTrees.SceneNode}()))), \"29\" => MeshCat.SceneTrees.SceneNode(nothing, UInt8[0x83, 0xa6, 0x6d, 0x61, 0x74, 0x72, 0x69, 0x78, 0xc7, 0x40  …  0x74, 0x2f, 0x6e, 0x6f, 0x64, 0x65, 0x73, 0x2f, 0x32, 0x39], Dict{String, Vector{UInt8}}(\"scale\" => [0x84, 0xa8, 0x70, 0x72, 0x6f, 0x70, 0x65, 0x72, 0x74, 0x79  …  0x74, 0x2f, 0x6e, 0x6f, 0x64, 0x65, 0x73, 0x2f, 0x32, 0x39]), nothing, Dict{String, MeshCat.SceneTrees.SceneNode}(\"(0.0N0f8, 0.0N0f8, 0.0N0f8, 1.0N0f8)\" => MeshCat.SceneTrees.SceneNode(UInt8[0x83, 0xa6, 0x6f, 0x62, 0x6a, 0x65, 0x63, 0x74, 0x84, 0xaa  …  0x2c, 0x20, 0x31, 0x2e, 0x30, 0x4e, 0x30, 0x66, 0x38, 0x29], nothing, Dict{String, Vector{UInt8}}(\"visible\" => [0x84, 0xa8, 0x70, 0x72, 0x6f, 0x70, 0x65, 0x72, 0x74, 0x79  …  0x2c, 0x20, 0x31, 0x2e, 0x30, 0x4e, 0x30, 0x66, 0x38, 0x29]), nothing, Dict{String, MeshCat.SceneTrees.SceneNode}()))), \"1\" => MeshCat.SceneTrees.SceneNode(nothing, UInt8[0x83, 0xa6, 0x6d, 0x61, 0x74, 0x72, 0x69, 0x78, 0xc7, 0x40  …  0x61, 0x74, 0x2f, 0x6e, 0x6f, 0x64, 0x65, 0x73, 0x2f, 0x31], Dict{String, Vector{UInt8}}(\"scale\" => [0x84, 0xa8, 0x70, 0x72, 0x6f, 0x70, 0x65, 0x72, 0x74, 0x79  …  0x61, 0x74, 0x2f, 0x6e, 0x6f, 0x64, 0x65, 0x73, 0x2f, 0x31]), nothing, Dict{String, MeshCat.SceneTrees.SceneNode}(\"(0.0N0f8, 0.0N0f8, 0.0N0f8, 1.0N0f8)\" => MeshCat.SceneTrees.SceneNode(UInt8[0x83, 0xa6, 0x6f, 0x62, 0x6a, 0x65, 0x63, 0x74, 0x84, 0xaa  …  0x2c, 0x20, 0x31, 0x2e, 0x30, 0x4e, 0x30, 0x66, 0x38, 0x29], nothing, Dict{String, Vector{UInt8}}(\"visible\" => [0x84, 0xa8, 0x70, 0x72, 0x6f, 0x70, 0x65, 0x72, 0x74, 0x79  …  0x2c, 0x20, 0x31, 0x2e, 0x30, 0x4e, 0x30, 0x66, 0x38, 0x29]), nothing, Dict{String, MeshCat.SceneTrees.SceneNode}()), \"(1.0N0f8, 0.0N0f8, 0.0N0f8, 1.0N0f8)\" => MeshCat.SceneTrees.SceneNode(UInt8[0x83, 0xa6, 0x6f, 0x62, 0x6a, 0x65, 0x63, 0x74, 0x84, 0xaa  …  0x2c, 0x20, 0x31, 0x2e, 0x30, 0x4e, 0x30, 0x66, 0x38, 0x29], nothing, Dict{String, Vector{UInt8}}(\"visible\" => [0x84, 0xa8, 0x70, 0x72, 0x6f, 0x70, 0x65, 0x72, 0x74, 0x79  …  0x2c, 0x20, 0x31, 0x2e, 0x30, 0x4e, 0x30, 0x66, 0x38, 0x29]), nothing, Dict{String, MeshCat.SceneTrees.SceneNode}()))), \"54\" => MeshCat.SceneTrees.SceneNode(nothing, UInt8[0x83, 0xa6, 0x6d, 0x61, 0x74, 0x72, 0x69, 0x78, 0xc7, 0x40  …  0x74, 0x2f, 0x6e, 0x6f, 0x64, 0x65, 0x73, 0x2f, 0x35, 0x34], Dict{String, Vector{UInt8}}(\"scale\" => [0x84, 0xa8, 0x70, 0x72, 0x6f, 0x70, 0x65, 0x72, 0x74, 0x79  …  0x74, 0x2f, 0x6e, 0x6f, 0x64, 0x65, 0x73, 0x2f, 0x35, 0x34]), nothing, Dict{String, MeshCat.SceneTrees.SceneNode}(\"(0.0N0f8, 0.0N0f8, 0.0N0f8, 1.0N0f8)\" => MeshCat.SceneTrees.SceneNode(UInt8[0x83, 0xa6, 0x6f, 0x62, 0x6a, 0x65, 0x63, 0x74, 0x84, 0xaa  …  0x2c, 0x20, 0x31, 0x2e, 0x30, 0x4e, 0x30, 0x66, 0x38, 0x29], nothing, Dict{String, Vector{UInt8}}(\"visible\" => [0x84, 0xa8, 0x70, 0x72, 0x6f, 0x70, 0x65, 0x72, 0x74, 0x79  …  0x2c, 0x20, 0x31, 0x2e, 0x30, 0x4e, 0x30, 0x66, 0x38, 0x29]), nothing, Dict{String, MeshCat.SceneTrees.SceneNode}()), \"(1.0N0f8, 0.0N0f8, 0.0N0f8, 1.0N0f8)\" => MeshCat.SceneTrees.SceneNode(UInt8[0x83, 0xa6, 0x6f, 0x62, 0x6a, 0x65, 0x63, 0x74, 0x84, 0xaa  …  0x2c, 0x20, 0x31, 0x2e, 0x30, 0x4e, 0x30, 0x66, 0x38, 0x29], nothing, Dict{String, Vector{UInt8}}(\"visible\" => [0x84, 0xa8, 0x70, 0x72, 0x6f, 0x70, 0x65, 0x72, 0x74, 0x79  …  0x2c, 0x20, 0x31, 0x2e, 0x30, 0x4e, 0x30, 0x66, 0x38, 0x29]), nothing, Dict{String, MeshCat.SceneTrees.SceneNode}()))), \"78\" => MeshCat.SceneTrees.SceneNode(nothing, UInt8[0x83, 0xa6, 0x6d, 0x61, 0x74, 0x72, 0x69, 0x78, 0xc7, 0x40  …  0x74, 0x2f, 0x6e, 0x6f, 0x64, 0x65, 0x73, 0x2f, 0x37, 0x38], Dict{String, Vector{UInt8}}(\"scale\" => [0x84, 0xa8, 0x70, 0x72, 0x6f, 0x70, 0x65, 0x72, 0x74, 0x79  …  0x74, 0x2f, 0x6e, 0x6f, 0x64, 0x65, 0x73, 0x2f, 0x37, 0x38]), nothing, Dict{String, MeshCat.SceneTrees.SceneNode}(\"(0.0N0f8, 0.0N0f8, 0.0N0f8, 1.0N0f8)\" => MeshCat.SceneTrees.SceneNode(UInt8[0x83, 0xa6, 0x6f, 0x62, 0x6a, 0x65, 0x63, 0x74, 0x84, 0xaa  …  0x2c, 0x20, 0x31, 0x2e, 0x30, 0x4e, 0x30, 0x66, 0x38, 0x29], nothing, Dict{String, Vector{UInt8}}(\"visible\" => [0x84, 0xa8, 0x70, 0x72, 0x6f, 0x70, 0x65, 0x72, 0x74, 0x79  …  0x2c, 0x20, 0x31, 0x2e, 0x30, 0x4e, 0x30, 0x66, 0x38, 0x29]), nothing, Dict{String, MeshCat.SceneTrees.SceneNode}()), \"(1.0N0f8, 0.0N0f8, 0.0N0f8, 1.0N0f8)\" => MeshCat.SceneTrees.SceneNode(UInt8[0x83, 0xa6, 0x6f, 0x62, 0x6a, 0x65, 0x63, 0x74, 0x84, 0xaa  …  0x2c, 0x20, 0x31, 0x2e, 0x30, 0x4e, 0x30, 0x66, 0x38, 0x29], nothing, Dict{String, Vector{UInt8}}(\"visible\" => [0x84, 0xa8, 0x70, 0x72, 0x6f, 0x70, 0x65, 0x72, 0x74, 0x79  …  0x2c, 0x20, 0x31, 0x2e, 0x30, 0x4e, 0x30, 0x66, 0x38, 0x29]), nothing, Dict{String, MeshCat.SceneTrees.SceneNode}()))), \"81\" => MeshCat.SceneTrees.SceneNode(nothing, UInt8[0x83, 0xa6, 0x6d, 0x61, 0x74, 0x72, 0x69, 0x78, 0xc7, 0x40  …  0x74, 0x2f, 0x6e, 0x6f, 0x64, 0x65, 0x73, 0x2f, 0x38, 0x31], Dict{String, Vector{UInt8}}(\"scale\" => [0x84, 0xa8, 0x70, 0x72, 0x6f, 0x70, 0x65, 0x72, 0x74, 0x79  …  0x74, 0x2f, 0x6e, 0x6f, 0x64, 0x65, 0x73, 0x2f, 0x38, 0x31]), nothing, Dict{String, MeshCat.SceneTrees.SceneNode}(\"(0.0N0f8, 0.0N0f8, 0.0N0f8, 1.0N0f8)\" => MeshCat.SceneTrees.SceneNode(UInt8[0x83, 0xa6, 0x6f, 0x62, 0x6a, 0x65, 0x63, 0x74, 0x84, 0xaa  …  0x2c, 0x20, 0x31, 0x2e, 0x30, 0x4e, 0x30, 0x66, 0x38, 0x29], nothing, Dict{String, Vector{UInt8}}(\"visible\" => [0x84, 0xa8, 0x70, 0x72, 0x6f, 0x70, 0x65, 0x72, 0x74, 0x79  …  0x2c, 0x20, 0x31, 0x2e, 0x30, 0x4e, 0x30, 0x66, 0x38, 0x29]), nothing, Dict{String, MeshCat.SceneTrees.SceneNode}()))), \"2\" => MeshCat.SceneTrees.SceneNode(nothing, UInt8[0x83, 0xa6, 0x6d, 0x61, 0x74, 0x72, 0x69, 0x78, 0xc7, 0x40  …  0x61, 0x74, 0x2f, 0x6e, 0x6f, 0x64, 0x65, 0x73, 0x2f, 0x32], Dict{String, Vector{UInt8}}(\"scale\" => [0x84, 0xa8, 0x70, 0x72, 0x6f, 0x70, 0x65, 0x72, 0x74, 0x79  …  0x61, 0x74, 0x2f, 0x6e, 0x6f, 0x64, 0x65, 0x73, 0x2f, 0x32]), nothing, Dict{String, MeshCat.SceneTrees.SceneNode}(\"(1.0N0f8, 0.0N0f8, 0.0N0f8, 1.0N0f8)\" => MeshCat.SceneTrees.SceneNode(UInt8[0x83, 0xa6, 0x6f, 0x62, 0x6a, 0x65, 0x63, 0x74, 0x84, 0xaa  …  0x2c, 0x20, 0x31, 0x2e, 0x30, 0x4e, 0x30, 0x66, 0x38, 0x29], nothing, Dict{String, Vector{UInt8}}(\"visible\" => [0x84, 0xa8, 0x70, 0x72, 0x6f, 0x70, 0x65, 0x72, 0x74, 0x79  …  0x2c, 0x20, 0x31, 0x2e, 0x30, 0x4e, 0x30, 0x66, 0x38, 0x29]), nothing, Dict{String, MeshCat.SceneTrees.SceneNode}()), \"(0.0N0f8, 0.0N0f8, 0.0N0f8, 1.0N0f8)\" => MeshCat.SceneTrees.SceneNode(UInt8[0x83, 0xa6, 0x6f, 0x62, 0x6a, 0x65, 0x63, 0x74, 0x84, 0xaa  …  0x2c, 0x20, 0x31, 0x2e, 0x30, 0x4e, 0x30, 0x66, 0x38, 0x29], nothing, Dict{String, Vector{UInt8}}(\"visible\" => [0x84, 0xa8, 0x70, 0x72, 0x6f, 0x70, 0x65, 0x72, 0x74, 0x79  …  0x2c, 0x20, 0x31, 0x2e, 0x30, 0x4e, 0x30, 0x66, 0x38, 0x29]), nothing, Dict{String, MeshCat.SceneTrees.SceneNode}()))), \"74\" => MeshCat.SceneTrees.SceneNode(nothing, UInt8[0x83, 0xa6, 0x6d, 0x61, 0x74, 0x72, 0x69, 0x78, 0xc7, 0x40  …  0x74, 0x2f, 0x6e, 0x6f, 0x64, 0x65, 0x73, 0x2f, 0x37, 0x34], Dict{String, Vector{UInt8}}(\"scale\" => [0x84, 0xa8, 0x70, 0x72, 0x6f, 0x70, 0x65, 0x72, 0x74, 0x79  …  0x74, 0x2f, 0x6e, 0x6f, 0x64, 0x65, 0x73, 0x2f, 0x37, 0x34]), nothing, Dict{String, MeshCat.SceneTrees.SceneNode}(\"(1.0N0f8, 0.0N0f8, 0.0N0f8, 1.0N0f8)\" => MeshCat.SceneTrees.SceneNode(UInt8[0x83, 0xa6, 0x6f, 0x62, 0x6a, 0x65, 0x63, 0x74, 0x84, 0xaa  …  0x2c, 0x20, 0x31, 0x2e, 0x30, 0x4e, 0x30, 0x66, 0x38, 0x29], nothing, Dict{String, Vector{UInt8}}(\"visible\" => [0x84, 0xa8, 0x70, 0x72, 0x6f, 0x70, 0x65, 0x72, 0x74, 0x79  …  0x2c, 0x20, 0x31, 0x2e, 0x30, 0x4e, 0x30, 0x66, 0x38, 0x29]), nothing, Dict{String, MeshCat.SceneTrees.SceneNode}()), \"(0.0N0f8, 0.0N0f8, 0.0N0f8, 1.0N0f8)\" => MeshCat.SceneTrees.SceneNode(UInt8[0x83, 0xa6, 0x6f, 0x62, 0x6a, 0x65, 0x63, 0x74, 0x84, 0xaa  …  0x2c, 0x20, 0x31, 0x2e, 0x30, 0x4e, 0x30, 0x66, 0x38, 0x29], nothing, Dict{String, Vector{UInt8}}(\"visible\" => [0x84, 0xa8, 0x70, 0x72, 0x6f, 0x70, 0x65, 0x72, 0x74, 0x79  …  0x2c, 0x20, 0x31, 0x2e, 0x30, 0x4e, 0x30, 0x66, 0x38, 0x29]), nothing, Dict{String, MeshCat.SceneTrees.SceneNode}()))), \"41\" => MeshCat.SceneTrees.SceneNode(nothing, UInt8[0x83, 0xa6, 0x6d, 0x61, 0x74, 0x72, 0x69, 0x78, 0xc7, 0x40  …  0x74, 0x2f, 0x6e, 0x6f, 0x64, 0x65, 0x73, 0x2f, 0x34, 0x31], Dict{String, Vector{UInt8}}(\"scale\" => [0x84, 0xa8, 0x70, 0x72, 0x6f, 0x70, 0x65, 0x72, 0x74, 0x79  …  0x74, 0x2f, 0x6e, 0x6f, 0x64, 0x65, 0x73, 0x2f, 0x34, 0x31]), nothing, Dict{String, MeshCat.SceneTrees.SceneNode}(\"(1.0N0f8, 0.0N0f8, 0.0N0f8, 1.0N0f8)\" => MeshCat.SceneTrees.SceneNode(UInt8[0x83, 0xa6, 0x6f, 0x62, 0x6a, 0x65, 0x63, 0x74, 0x84, 0xaa  …  0x2c, 0x20, 0x31, 0x2e, 0x30, 0x4e, 0x30, 0x66, 0x38, 0x29], nothing, Dict{String, Vector{UInt8}}(\"visible\" => [0x84, 0xa8, 0x70, 0x72, 0x6f, 0x70, 0x65, 0x72, 0x74, 0x79  …  0x2c, 0x20, 0x31, 0x2e, 0x30, 0x4e, 0x30, 0x66, 0x38, 0x29]), nothing, Dict{String, MeshCat.SceneTrees.SceneNode}()))), \"65\" => MeshCat.SceneTrees.SceneNode(nothing, UInt8[0x83, 0xa6, 0x6d, 0x61, 0x74, 0x72, 0x69, 0x78, 0xc7, 0x40  …  0x74, 0x2f, 0x6e, 0x6f, 0x64, 0x65, 0x73, 0x2f, 0x36, 0x35], Dict{String, Vector{UInt8}}(\"scale\" => [0x84, 0xa8, 0x70, 0x72, 0x6f, 0x70, 0x65, 0x72, 0x74, 0x79  …  0x74, 0x2f, 0x6e, 0x6f, 0x64, 0x65, 0x73, 0x2f, 0x36, 0x35]), nothing, Dict{String, MeshCat.SceneTrees.SceneNode}(\"(0.0N0f8, 0.0N0f8, 0.0N0f8, 1.0N0f8)\" => MeshCat.SceneTrees.SceneNode(UInt8[0x83, 0xa6, 0x6f, 0x62, 0x6a, 0x65, 0x63, 0x74, 0x84, 0xaa  …  0x2c, 0x20, 0x31, 0x2e, 0x30, 0x4e, 0x30, 0x66, 0x38, 0x29], nothing, Dict{String, Vector{UInt8}}(\"visible\" => [0x84, 0xa8, 0x70, 0x72, 0x6f, 0x70, 0x65, 0x72, 0x74, 0x79  …  0x2c, 0x20, 0x31, 0x2e, 0x30, 0x4e, 0x30, 0x66, 0x38, 0x29]), nothing, Dict{String, MeshCat.SceneTrees.SceneNode}()), \"(1.0N0f8, 0.0N0f8, 0.0N0f8, 1.0N0f8)\" => MeshCat.SceneTrees.SceneNode(UInt8[0x83, 0xa6, 0x6f, 0x62, 0x6a, 0x65, 0x63, 0x74, 0x84, 0xaa  …  0x2c, 0x20, 0x31, 0x2e, 0x30, 0x4e, 0x30, 0x66, 0x38, 0x29], nothing, Dict{String, Vector{UInt8}}(\"visible\" => [0x84, 0xa8, 0x70, 0x72, 0x6f, 0x70, 0x65, 0x72, 0x74, 0x79  …  0x2c, 0x20, 0x31, 0x2e, 0x30, 0x4e, 0x30, 0x66, 0x38, 0x29]), nothing, Dict{String, MeshCat.SceneTrees.SceneNode}())))…)), \"bbox_line_segments\" => MeshCat.SceneTrees.SceneNode(nothing, nothing, Dict{String, Vector{UInt8}}(), nothing, Dict{String, MeshCat.SceneTrees.SceneNode}(\"4\" => MeshCat.SceneTrees.SceneNode(UInt8[0x83, 0xa6, 0x6f, 0x62, 0x6a, 0x65, 0x63, 0x74, 0x84, 0xaa  …  0x73, 0x65, 0x67, 0x6d, 0x65, 0x6e, 0x74, 0x73, 0x2f, 0x34], nothing, Dict{String, Vector{UInt8}}(), nothing, Dict{String, MeshCat.SceneTrees.SceneNode}()), \"1\" => MeshCat.SceneTrees.SceneNode(UInt8[0x83, 0xa6, 0x6f, 0x62, 0x6a, 0x65, 0x63, 0x74, 0x84, 0xaa  …  0x73, 0x65, 0x67, 0x6d, 0x65, 0x6e, 0x74, 0x73, 0x2f, 0x31], nothing, Dict{String, Vector{UInt8}}(), nothing, Dict{String, MeshCat.SceneTrees.SceneNode}()), \"12\" => MeshCat.SceneTrees.SceneNode(UInt8[0x83, 0xa6, 0x6f, 0x62, 0x6a, 0x65, 0x63, 0x74, 0x84, 0xaa  …  0x65, 0x67, 0x6d, 0x65, 0x6e, 0x74, 0x73, 0x2f, 0x31, 0x32], nothing, Dict{String, Vector{UInt8}}(), nothing, Dict{String, MeshCat.SceneTrees.SceneNode}()), \"2\" => MeshCat.SceneTrees.SceneNode(UInt8[0x83, 0xa6, 0x6f, 0x62, 0x6a, 0x65, 0x63, 0x74, 0x84, 0xaa  …  0x73, 0x65, 0x67, 0x6d, 0x65, 0x6e, 0x74, 0x73, 0x2f, 0x32], nothing, Dict{String, Vector{UInt8}}(), nothing, Dict{String, MeshCat.SceneTrees.SceneNode}()), \"6\" => MeshCat.SceneTrees.SceneNode(UInt8[0x83, 0xa6, 0x6f, 0x62, 0x6a, 0x65, 0x63, 0x74, 0x84, 0xaa  …  0x73, 0x65, 0x67, 0x6d, 0x65, 0x6e, 0x74, 0x73, 0x2f, 0x36], nothing, Dict{String, Vector{UInt8}}(), nothing, Dict{String, MeshCat.SceneTrees.SceneNode}()), \"11\" => MeshCat.SceneTrees.SceneNode(UInt8[0x83, 0xa6, 0x6f, 0x62, 0x6a, 0x65, 0x63, 0x74, 0x84, 0xaa  …  0x65, 0x67, 0x6d, 0x65, 0x6e, 0x74, 0x73, 0x2f, 0x31, 0x31], nothing, Dict{String, Vector{UInt8}}(), nothing, Dict{String, MeshCat.SceneTrees.SceneNode}()), \"5\" => MeshCat.SceneTrees.SceneNode(UInt8[0x83, 0xa6, 0x6f, 0x62, 0x6a, 0x65, 0x63, 0x74, 0x84, 0xaa  …  0x73, 0x65, 0x67, 0x6d, 0x65, 0x6e, 0x74, 0x73, 0x2f, 0x35], nothing, Dict{String, Vector{UInt8}}(), nothing, Dict{String, MeshCat.SceneTrees.SceneNode}()), \"7\" => MeshCat.SceneTrees.SceneNode(UInt8[0x83, 0xa6, 0x6f, 0x62, 0x6a, 0x65, 0x63, 0x74, 0x84, 0xaa  …  0x73, 0x65, 0x67, 0x6d, 0x65, 0x6e, 0x74, 0x73, 0x2f, 0x37], nothing, Dict{String, Vector{UInt8}}(), nothing, Dict{String, MeshCat.SceneTrees.SceneNode}()), \"8\" => MeshCat.SceneTrees.SceneNode(UInt8[0x83, 0xa6, 0x6f, 0x62, 0x6a, 0x65, 0x63, 0x74, 0x84, 0xaa  …  0x73, 0x65, 0x67, 0x6d, 0x65, 0x6e, 0x74, 0x73, 0x2f, 0x38], nothing, Dict{String, Vector{UInt8}}(), nothing, Dict{String, MeshCat.SceneTrees.SceneNode}()), \"10\" => MeshCat.SceneTrees.SceneNode(UInt8[0x83, 0xa6, 0x6f, 0x62, 0x6a, 0x65, 0x63, 0x74, 0x84, 0xaa  …  0x65, 0x67, 0x6d, 0x65, 0x6e, 0x74, 0x73, 0x2f, 0x31, 0x30], nothing, Dict{String, Vector{UInt8}}(), nothing, Dict{String, MeshCat.SceneTrees.SceneNode}())…)), \"edges\" => MeshCat.SceneTrees.SceneNode(nothing, nothing, Dict{String, Vector{UInt8}}(), nothing, Dict{String, MeshCat.SceneTrees.SceneNode}(\"(48, 96)\" => MeshCat.SceneTrees.SceneNode(nothing, UInt8[0x83, 0xa6, 0x6d, 0x61, 0x74, 0x72, 0x69, 0x78, 0xc7, 0x40  …  0x73, 0x2f, 0x28, 0x34, 0x38, 0x2c, 0x20, 0x39, 0x36, 0x29], Dict{String, Vector{UInt8}}(\"scale\" => [0x84, 0xa8, 0x70, 0x72, 0x6f, 0x70, 0x65, 0x72, 0x74, 0x79  …  0x73, 0x2f, 0x28, 0x34, 0x38, 0x2c, 0x20, 0x39, 0x36, 0x29]), nothing, Dict{String, MeshCat.SceneTrees.SceneNode}(\"(0.0N0f8, 0.0N0f8, 1.0N0f8, 1.0N0f8)\" => MeshCat.SceneTrees.SceneNode(UInt8[0x83, 0xa6, 0x6f, 0x62, 0x6a, 0x65, 0x63, 0x74, 0x84, 0xaa  …  0x2c, 0x20, 0x31, 0x2e, 0x30, 0x4e, 0x30, 0x66, 0x38, 0x29], nothing, Dict{String, Vector{UInt8}}(\"visible\" => [0x84, 0xa8, 0x70, 0x72, 0x6f, 0x70, 0x65, 0x72, 0x74, 0x79  …  0x2c, 0x20, 0x31, 0x2e, 0x30, 0x4e, 0x30, 0x66, 0x38, 0x29]), nothing, Dict{String, MeshCat.SceneTrees.SceneNode}()))), \"(44, 97)\" => MeshCat.SceneTrees.SceneNode(nothing, UInt8[0x83, 0xa6, 0x6d, 0x61, 0x74, 0x72, 0x69, 0x78, 0xc7, 0x40  …  0x73, 0x2f, 0x28, 0x34, 0x34, 0x2c, 0x20, 0x39, 0x37, 0x29], Dict{String, Vector{UInt8}}(\"scale\" => [0x84, 0xa8, 0x70, 0x72, 0x6f, 0x70, 0x65, 0x72, 0x74, 0x79  …  0x73, 0x2f, 0x28, 0x34, 0x34, 0x2c, 0x20, 0x39, 0x37, 0x29]), nothing, Dict{String, MeshCat.SceneTrees.SceneNode}(\"(0.0N0f8, 0.0N0f8, 1.0N0f8, 1.0N0f8)\" => MeshCat.SceneTrees.SceneNode(UInt8[0x83, 0xa6, 0x6f, 0x62, 0x6a, 0x65, 0x63, 0x74, 0x84, 0xaa  …  0x2c, 0x20, 0x31, 0x2e, 0x30, 0x4e, 0x30, 0x66, 0x38, 0x29], nothing, Dict{String, Vector{UInt8}}(\"visible\" => [0x84, 0xa8, 0x70, 0x72, 0x6f, 0x70, 0x65, 0x72, 0x74, 0x79  …  0x2c, 0x20, 0x31, 0x2e, 0x30, 0x4e, 0x30, 0x66, 0x38, 0x29]), nothing, Dict{String, MeshCat.SceneTrees.SceneNode}()))), \"(59, 76)\" => MeshCat.SceneTrees.SceneNode(nothing, UInt8[0x83, 0xa6, 0x6d, 0x61, 0x74, 0x72, 0x69, 0x78, 0xc7, 0x40  …  0x73, 0x2f, 0x28, 0x35, 0x39, 0x2c, 0x20, 0x37, 0x36, 0x29], Dict{String, Vector{UInt8}}(\"scale\" => [0x84, 0xa8, 0x70, 0x72, 0x6f, 0x70, 0x65, 0x72, 0x74, 0x79  …  0x73, 0x2f, 0x28, 0x35, 0x39, 0x2c, 0x20, 0x37, 0x36, 0x29]), nothing, Dict{String, MeshCat.SceneTrees.SceneNode}(\"(0.0N0f8, 0.0N0f8, 1.0N0f8, 1.0N0f8)\" => MeshCat.SceneTrees.SceneNode(UInt8[0x83, 0xa6, 0x6f, 0x62, 0x6a, 0x65, 0x63, 0x74, 0x84, 0xaa  …  0x2c, 0x20, 0x31, 0x2e, 0x30, 0x4e, 0x30, 0x66, 0x38, 0x29], nothing, Dict{String, Vector{UInt8}}(\"visible\" => [0x84, 0xa8, 0x70, 0x72, 0x6f, 0x70, 0x65, 0x72, 0x74, 0x79  …  0x2c, 0x20, 0x31, 0x2e, 0x30, 0x4e, 0x30, 0x66, 0x38, 0x29]), nothing, Dict{String, MeshCat.SceneTrees.SceneNode}()))), \"(71, 92)\" => MeshCat.SceneTrees.SceneNode(nothing, UInt8[0x83, 0xa6, 0x6d, 0x61, 0x74, 0x72, 0x69, 0x78, 0xc7, 0x40  …  0x73, 0x2f, 0x28, 0x37, 0x31, 0x2c, 0x20, 0x39, 0x32, 0x29], Dict{String, Vector{UInt8}}(\"scale\" => [0x84, 0xa8, 0x70, 0x72, 0x6f, 0x70, 0x65, 0x72, 0x74, 0x79  …  0x73, 0x2f, 0x28, 0x37, 0x31, 0x2c, 0x20, 0x39, 0x32, 0x29]), nothing, Dict{String, MeshCat.SceneTrees.SceneNode}(\"(0.0N0f8, 0.0N0f8, 1.0N0f8, 1.0N0f8)\" => MeshCat.SceneTrees.SceneNode(UInt8[0x83, 0xa6, 0x6f, 0x62, 0x6a, 0x65, 0x63, 0x74, 0x84, 0xaa  …  0x2c, 0x20, 0x31, 0x2e, 0x30, 0x4e, 0x30, 0x66, 0x38, 0x29], nothing, Dict{String, Vector{UInt8}}(\"visible\" => [0x84, 0xa8, 0x70, 0x72, 0x6f, 0x70, 0x65, 0x72, 0x74, 0x79  …  0x2c, 0x20, 0x31, 0x2e, 0x30, 0x4e, 0x30, 0x66, 0x38, 0x29]), nothing, Dict{String, MeshCat.SceneTrees.SceneNode}()))), \"(27, 95)\" => MeshCat.SceneTrees.SceneNode(nothing, UInt8[0x83, 0xa6, 0x6d, 0x61, 0x74, 0x72, 0x69, 0x78, 0xc7, 0x40  …  0x73, 0x2f, 0x28, 0x32, 0x37, 0x2c, 0x20, 0x39, 0x35, 0x29], Dict{String, Vector{UInt8}}(\"scale\" => [0x84, 0xa8, 0x70, 0x72, 0x6f, 0x70, 0x65, 0x72, 0x74, 0x79  …  0x73, 0x2f, 0x28, 0x32, 0x37, 0x2c, 0x20, 0x39, 0x35, 0x29]), nothing, Dict{String, MeshCat.SceneTrees.SceneNode}(\"(0.0N0f8, 0.0N0f8, 1.0N0f8, 1.0N0f8)\" => MeshCat.SceneTrees.SceneNode(UInt8[0x83, 0xa6, 0x6f, 0x62, 0x6a, 0x65, 0x63, 0x74, 0x84, 0xaa  …  0x2c, 0x20, 0x31, 0x2e, 0x30, 0x4e, 0x30, 0x66, 0x38, 0x29], nothing, Dict{String, Vector{UInt8}}(\"visible\" => [0x84, 0xa8, 0x70, 0x72, 0x6f, 0x70, 0x65, 0x72, 0x74, 0x79  …  0x2c, 0x20, 0x31, 0x2e, 0x30, 0x4e, 0x30, 0x66, 0x38, 0x29]), nothing, Dict{String, MeshCat.SceneTrees.SceneNode}()))), \"(17, 34)\" => MeshCat.SceneTrees.SceneNode(nothing, UInt8[0x83, 0xa6, 0x6d, 0x61, 0x74, 0x72, 0x69, 0x78, 0xc7, 0x40  …  0x73, 0x2f, 0x28, 0x31, 0x37, 0x2c, 0x20, 0x33, 0x34, 0x29], Dict{String, Vector{UInt8}}(\"scale\" => [0x84, 0xa8, 0x70, 0x72, 0x6f, 0x70, 0x65, 0x72, 0x74, 0x79  …  0x73, 0x2f, 0x28, 0x31, 0x37, 0x2c, 0x20, 0x33, 0x34, 0x29]), nothing, Dict{String, MeshCat.SceneTrees.SceneNode}(\"(0.0N0f8, 0.0N0f8, 1.0N0f8, 1.0N0f8)\" => MeshCat.SceneTrees.SceneNode(UInt8[0x83, 0xa6, 0x6f, 0x62, 0x6a, 0x65, 0x63, 0x74, 0x84, 0xaa  …  0x2c, 0x20, 0x31, 0x2e, 0x30, 0x4e, 0x30, 0x66, 0x38, 0x29], nothing, Dict{String, Vector{UInt8}}(\"visible\" => [0x84, 0xa8, 0x70, 0x72, 0x6f, 0x70, 0x65, 0x72, 0x74, 0x79  …  0x2c, 0x20, 0x31, 0x2e, 0x30, 0x4e, 0x30, 0x66, 0x38, 0x29]), nothing, Dict{String, MeshCat.SceneTrees.SceneNode}()))), \"(43, 76)\" => MeshCat.SceneTrees.SceneNode(nothing, UInt8[0x83, 0xa6, 0x6d, 0x61, 0x74, 0x72, 0x69, 0x78, 0xc7, 0x40  …  0x73, 0x2f, 0x28, 0x34, 0x33, 0x2c, 0x20, 0x37, 0x36, 0x29], Dict{String, Vector{UInt8}}(\"scale\" => [0x84, 0xa8, 0x70, 0x72, 0x6f, 0x70, 0x65, 0x72, 0x74, 0x79  …  0x73, 0x2f, 0x28, 0x34, 0x33, 0x2c, 0x20, 0x37, 0x36, 0x29]), nothing, Dict{String, MeshCat.SceneTrees.SceneNode}(\"(0.0N0f8, 0.0N0f8, 1.0N0f8, 1.0N0f8)\" => MeshCat.SceneTrees.SceneNode(UInt8[0x83, 0xa6, 0x6f, 0x62, 0x6a, 0x65, 0x63, 0x74, 0x84, 0xaa  …  0x2c, 0x20, 0x31, 0x2e, 0x30, 0x4e, 0x30, 0x66, 0x38, 0x29], nothing, Dict{String, Vector{UInt8}}(\"visible\" => [0x84, 0xa8, 0x70, 0x72, 0x6f, 0x70, 0x65, 0x72, 0x74, 0x79  …  0x2c, 0x20, 0x31, 0x2e, 0x30, 0x4e, 0x30, 0x66, 0x38, 0x29]), nothing, Dict{String, MeshCat.SceneTrees.SceneNode}()))), \"(3, 13)\" => MeshCat.SceneTrees.SceneNode(nothing, UInt8[0x83, 0xa6, 0x6d, 0x61, 0x74, 0x72, 0x69, 0x78, 0xc7, 0x40  …  0x65, 0x73, 0x2f, 0x28, 0x33, 0x2c, 0x20, 0x31, 0x33, 0x29], Dict{String, Vector{UInt8}}(\"scale\" => [0x84, 0xa8, 0x70, 0x72, 0x6f, 0x70, 0x65, 0x72, 0x74, 0x79  …  0x65, 0x73, 0x2f, 0x28, 0x33, 0x2c, 0x20, 0x31, 0x33, 0x29]), nothing, Dict{String, MeshCat.SceneTrees.SceneNode}(\"(0.0N0f8, 0.0N0f8, 1.0N0f8, 1.0N0f8)\" => MeshCat.SceneTrees.SceneNode(UInt8[0x83, 0xa6, 0x6f, 0x62, 0x6a, 0x65, 0x63, 0x74, 0x84, 0xaa  …  0x2c, 0x20, 0x31, 0x2e, 0x30, 0x4e, 0x30, 0x66, 0x38, 0x29], nothing, Dict{String, Vector{UInt8}}(\"visible\" => [0x84, 0xa8, 0x70, 0x72, 0x6f, 0x70, 0x65, 0x72, 0x74, 0x79  …  0x2c, 0x20, 0x31, 0x2e, 0x30, 0x4e, 0x30, 0x66, 0x38, 0x29]), nothing, Dict{String, MeshCat.SceneTrees.SceneNode}()))), \"(8, 94)\" => MeshCat.SceneTrees.SceneNode(nothing, UInt8[0x83, 0xa6, 0x6d, 0x61, 0x74, 0x72, 0x69, 0x78, 0xc7, 0x40  …  0x65, 0x73, 0x2f, 0x28, 0x38, 0x2c, 0x20, 0x39, 0x34, 0x29], Dict{String, Vector{UInt8}}(\"scale\" => [0x84, 0xa8, 0x70, 0x72, 0x6f, 0x70, 0x65, 0x72, 0x74, 0x79  …  0x65, 0x73, 0x2f, 0x28, 0x38, 0x2c, 0x20, 0x39, 0x34, 0x29]), nothing, Dict{String, MeshCat.SceneTrees.SceneNode}(\"(0.0N0f8, 0.0N0f8, 1.0N0f8, 1.0N0f8)\" => MeshCat.SceneTrees.SceneNode(UInt8[0x83, 0xa6, 0x6f, 0x62, 0x6a, 0x65, 0x63, 0x74, 0x84, 0xaa  …  0x2c, 0x20, 0x31, 0x2e, 0x30, 0x4e, 0x30, 0x66, 0x38, 0x29], nothing, Dict{String, Vector{UInt8}}(\"visible\" => [0x84, 0xa8, 0x70, 0x72, 0x6f, 0x70, 0x65, 0x72, 0x74, 0x79  …  0x2c, 0x20, 0x31, 0x2e, 0x30, 0x4e, 0x30, 0x66, 0x38, 0x29]), nothing, Dict{String, MeshCat.SceneTrees.SceneNode}()))), \"(68, 69)\" => MeshCat.SceneTrees.SceneNode(nothing, UInt8[0x83, 0xa6, 0x6d, 0x61, 0x74, 0x72, 0x69, 0x78, 0xc7, 0x40  …  0x73, 0x2f, 0x28, 0x36, 0x38, 0x2c, 0x20, 0x36, 0x39, 0x29], Dict{String, Vector{UInt8}}(\"scale\" => [0x84, 0xa8, 0x70, 0x72, 0x6f, 0x70, 0x65, 0x72, 0x74, 0x79  …  0x73, 0x2f, 0x28, 0x36, 0x38, 0x2c, 0x20, 0x36, 0x39, 0x29]), nothing, Dict{String, MeshCat.SceneTrees.SceneNode}(\"(0.0N0f8, 0.0N0f8, 1.0N0f8, 1.0N0f8)\" => MeshCat.SceneTrees.SceneNode(UInt8[0x83, 0xa6, 0x6f, 0x62, 0x6a, 0x65, 0x63, 0x74, 0x84, 0xaa  …  0x2c, 0x20, 0x31, 0x2e, 0x30, 0x4e, 0x30, 0x66, 0x38, 0x29], nothing, Dict{String, Vector{UInt8}}(\"visible\" => [0x84, 0xa8, 0x70, 0x72, 0x6f, 0x70, 0x65, 0x72, 0x74, 0x79  …  0x2c, 0x20, 0x31, 0x2e, 0x30, 0x4e, 0x30, 0x66, 0x38, 0x29]), nothing, Dict{String, MeshCat.SceneTrees.SceneNode}())))…)))), \"Axes\" => MeshCat.SceneTrees.SceneNode(nothing, nothing, Dict{String, Vector{UInt8}}(), nothing, Dict{String, MeshCat.SceneTrees.SceneNode}(\"<object>\" => MeshCat.SceneTrees.SceneNode(UInt8[0x83, 0xa6, 0x6f, 0x62, 0x6a, 0x65, 0x63, 0x74, 0x84, 0xaa  …  0x73, 0x2f, 0x3c, 0x6f, 0x62, 0x6a, 0x65, 0x63, 0x74, 0x3e], UInt8[0x83, 0xa6, 0x6d, 0x61, 0x74, 0x72, 0x69, 0x78, 0xc7, 0x40  …  0x73, 0x2f, 0x3c, 0x6f, 0x62, 0x6a, 0x65, 0x63, 0x74, 0x3e], Dict{String, Vector{UInt8}}(), nothing, Dict{String, MeshCat.SceneTrees.SceneNode}()))))), Set{HTTP.WebSockets.WebSocket}(), ip\"127.0.0.1\", 8700))), WebIO.Node{WebIO.DOM}(WebIO.DOM(:html, :div), Any[WebIO.Scope(WebIO.Node{WebIO.DOM}(WebIO.DOM(:html, :div), Any[], Dict{Symbol, Any}(:id => \"container\")), Dict{String, Tuple{Observables.AbstractObservable, Union{Nothing, Bool}}}(\"value\" => (Observable(\"\\\\;\\\\;\"), nothing)), Set{String}(), nothing, WebIO.Asset[WebIO.Asset(\"js\", nothing, \"/home/dushya/.julia/packages/InteractBase/LJXv3/src/../assets/katex.min.js\"), WebIO.Asset(\"css\", nothing, \"/home/dushya/.julia/packages/InteractBase/LJXv3/src/../assets/katex.min.css\")], Dict{Any, Any}(\"value\" => Any[WebIO.JSString(\"(function (txt){return this.k.render(txt,this.container)})\")]), WebIO.ConnectionPool(Channel{Any}(32), Set{WebIO.AbstractConnection}(), Base.GenericCondition{ReentrantLock}(Base.IntrusiveLinkedList{Task}(Task (runnable) @0x00007f02c48895f0, Task (runnable) @0x00007f02c48895f0), ReentrantLock(nothing, 0x00000000, 0x00, Base.GenericCondition{Base.Threads.SpinLock}(Base.IntrusiveLinkedList{Task}(nothing, nothing), Base.Threads.SpinLock(0)), (2, 139650521614960, 139648872516672)))), WebIO.JSString[WebIO.JSString(\"function () {\\n    var handler = ((function (k){this.k=k; this.container=this.dom.querySelector(\\\"#container\\\"); return k.render(\\\"\\\\\\\\;\\\\\\\\;\\\",this.container)}));\\n    (WebIO.importBlock({\\\"data\\\":[{\\\"name\\\":null,\\\"type\\\":\\\"js\\\",\\\"url\\\":\\\"/assetserver/dd22ed1bf1896c2748f3fe616ce0b838adc895c1-katex.min.js\\\"},{\\\"name\\\":null,\\\"type\\\":\\\"css\\\",\\\"url\\\":\\\"/assetserver/46517a424aa5e6cffc1360d7e0848b601c584ee3-katex.min.css\\\"}],\\\"type\\\":\\\"async_block\\\"})).then((imports) => handler.apply(this, imports));\\n}\\n\")])], Dict{Symbol, Any}(:className => \"interact-widget\")), WebIO.Node{WebIO.DOM}(WebIO.DOM(:html, :div), Any[], Dict{Symbol, Any}(:style => Dict(\"display\" => \"flex\", \"flex-direction\" => \"column\")))], Dict{Symbol, Any}(:style => Dict(\"display\" => \"flex\", \"flex-direction\" => \"row\")))], Dict{Symbol, Any}(:style => Dict(\"display\" => \"flex\", \"flex-direction\" => \"column\")))"
      ]
     },
     "execution_count": 11,
     "metadata": {
      "application/vnd.webio.node+json": {
       "kernelId": "ee887205-ec53-45cb-8b2e-aa981d735b89"
      }
     },
     "output_type": "execute_result"
    }
   ],
   "source": [
    "animate_sim(model)"
   ]
  },
  {
   "cell_type": "markdown",
   "metadata": {},
   "source": [
    "After defining the `step_rule!` function we can also choose to create an interactive application (which currently works in Jupyter with WebIO installation) as "
   ]
  },
  {
   "cell_type": "code",
   "execution_count": 12,
   "metadata": {},
   "outputs": [
    {
     "name": "stderr",
     "output_type": "stream",
     "text": [
      "\u001b[36m\u001b[1m[ \u001b[22m\u001b[39m\u001b[36m\u001b[1mInfo: \u001b[22m\u001b[39mListening on: 127.0.0.1:8701, thread id: 1\n",
      "\u001b[36m\u001b[1m┌ \u001b[22m\u001b[39m\u001b[36m\u001b[1mInfo: \u001b[22m\u001b[39mMeshCat server started. You can open the visualizer by visiting the following URL in your browser:\n",
      "\u001b[36m\u001b[1m└ \u001b[22m\u001b[39mhttp://127.0.0.1:8701\n"
     ]
    },
    {
     "data": {
      "application/vnd.webio.node+json": {
       "children": [
        {
         "children": [
          {
           "children": [
            {
             "children": [
              {
               "children": [
                {
                 "children": [
                  {
                   "children": [
                    {
                     "children": [
                      "time"
                     ],
                     "instanceArgs": {
                      "namespace": "html",
                      "tag": "label"
                     },
                     "nodeType": "DOM",
                     "props": {
                      "className": "interact ",
                      "style": {
                       "padding": "5px 10px 0px 10px"
                      }
                     },
                     "type": "node"
                    }
                   ],
                   "instanceArgs": {
                    "namespace": "html",
                    "tag": "div"
                   },
                   "nodeType": "DOM",
                   "props": {
                    "className": "interact-flex-row-left"
                   },
                   "type": "node"
                  },
                  {
                   "children": [
                    {
                     "children": [],
                     "instanceArgs": {
                      "namespace": "html",
                      "tag": "input"
                     },
                     "nodeType": "DOM",
                     "props": {
                      "attributes": {
                       "data-bind": "numericValue: index, valueUpdate: 'input', event: {change: function (){this.changes(this.changes()+1)}}",
                       "orient": "horizontal",
                       "type": "range"
                      },
                      "className": "slider slider is-fullwidth",
                      "max": 100,
                      "min": 1,
                      "step": 1,
                      "style": {}
                     },
                     "type": "node"
                    }
                   ],
                   "instanceArgs": {
                    "namespace": "html",
                    "tag": "div"
                   },
                   "nodeType": "DOM",
                   "props": {
                    "className": "interact-flex-row-center"
                   },
                   "type": "node"
                  },
                  {
                   "children": [
                    {
                     "children": [],
                     "instanceArgs": {
                      "namespace": "html",
                      "tag": "p"
                     },
                     "nodeType": "DOM",
                     "props": {
                      "attributes": {
                       "data-bind": "text: formatted_val"
                      }
                     },
                     "type": "node"
                    }
                   ],
                   "instanceArgs": {
                    "namespace": "html",
                    "tag": "div"
                   },
                   "nodeType": "DOM",
                   "props": {
                    "className": "interact-flex-row-right"
                   },
                   "type": "node"
                  }
                 ],
                 "instanceArgs": {
                  "namespace": "html",
                  "tag": "div"
                 },
                 "nodeType": "DOM",
                 "props": {
                  "className": "interact-flex-row interact-widget"
                 },
                 "type": "node"
                }
               ],
               "instanceArgs": {
                "handlers": {
                 "changes": [
                  "(function (val){return (val!=this.model[\"changes\"]()) ? (this.valueFromJulia[\"changes\"]=true, this.model[\"changes\"](val)) : undefined})"
                 ],
                 "index": [
                  "(function (val){return (val!=this.model[\"index\"]()) ? (this.valueFromJulia[\"index\"]=true, this.model[\"index\"](val)) : undefined})"
                 ]
                },
                "id": "10258479415669740413",
                "imports": {
                 "data": [
                  {
                   "name": "knockout",
                   "type": "js",
                   "url": "/assetserver/727383f2a47bd31570b7da84eee7b022dd6d7c78-knockout.js"
                  },
                  {
                   "name": "knockout_punches",
                   "type": "js",
                   "url": "/assetserver/382b41b3b1bd9f26f75861d360bad7f8beea211f-knockout_punches.js"
                  },
                  {
                   "name": null,
                   "type": "js",
                   "url": "/assetserver/5ab20f1060420992a9b82a65b735dee4d81ef413-all.js"
                  },
                  {
                   "name": null,
                   "type": "css",
                   "url": "/assetserver/1cc0ed62837210b80a182cc3676512f895dab686-style.css"
                  },
                  {
                   "name": null,
                   "type": "css",
                   "url": "/assetserver/2eee816f616df3549d7044d45e744fbf8d42bfa1-bulma_confined.min.css"
                  }
                 ],
                 "type": "async_block"
                },
                "mount_callbacks": [
                 "function () {\n    var handler = (function (ko, koPunches) {\n    ko.punches.enableAll();\n    ko.bindingHandlers.numericValue = {\n        init: function(element, valueAccessor, allBindings, data, context) {\n            var stringified = ko.observable(ko.unwrap(valueAccessor()));\n            stringified.subscribe(function(value) {\n                var val = parseFloat(value);\n                if (!isNaN(val)) {\n                    valueAccessor()(val);\n                }\n            });\n            valueAccessor().subscribe(function(value) {\n                var str = JSON.stringify(value);\n                if ((str == \"0\") && ([\"-0\", \"-0.\"].indexOf(stringified()) >= 0))\n                     return;\n                 if ([\"null\", \"\"].indexOf(str) >= 0)\n                     return;\n                stringified(str);\n            });\n            ko.applyBindingsToNode(\n                element,\n                {\n                    value: stringified,\n                    valueUpdate: allBindings.get('valueUpdate'),\n                },\n                context,\n            );\n        }\n    };\n    var json_data = {\"formatted_vals\":[\"1\",\"2\",\"3\",\"4\",\"5\",\"6\",\"7\",\"8\",\"9\",\"10\",\"11\",\"12\",\"13\",\"14\",\"15\",\"16\",\"17\",\"18\",\"19\",\"20\",\"21\",\"22\",\"23\",\"24\",\"25\",\"26\",\"27\",\"28\",\"29\",\"30\",\"31\",\"32\",\"33\",\"34\",\"35\",\"36\",\"37\",\"38\",\"39\",\"40\",\"41\",\"42\",\"43\",\"44\",\"45\",\"46\",\"47\",\"48\",\"49\",\"50\",\"51\",\"52\",\"53\",\"54\",\"55\",\"56\",\"57\",\"58\",\"59\",\"60\",\"61\",\"62\",\"63\",\"64\",\"65\",\"66\",\"67\",\"68\",\"69\",\"70\",\"71\",\"72\",\"73\",\"74\",\"75\",\"76\",\"77\",\"78\",\"79\",\"80\",\"81\",\"82\",\"83\",\"84\",\"85\",\"86\",\"87\",\"88\",\"89\",\"90\",\"91\",\"92\",\"93\",\"94\",\"95\",\"96\",\"97\",\"98\",\"99\",\"100\"],\"changes\":WebIO.getval({\"name\":\"changes\",\"scope\":\"10258479415669740413\",\"id\":\"11541358685889468826\",\"type\":\"observable\"}),\"index\":WebIO.getval({\"name\":\"index\",\"scope\":\"10258479415669740413\",\"id\":\"7142534577498101358\",\"type\":\"observable\"})};\n    var self = this;\n    function AppViewModel() {\n        for (var key in json_data) {\n            var el = json_data[key];\n            this[key] = Array.isArray(el) ? ko.observableArray(el) : ko.observable(el);\n        }\n        \n        [this[\"formatted_val\"]=ko.computed(    function(){\n        return this.formatted_vals()[parseInt(this.index())-(1)];\n    }\n,this)]\n        [this[\"changes\"].subscribe((function (val){!(this.valueFromJulia[\"changes\"]) ? (WebIO.setval({\"name\":\"changes\",\"scope\":\"10258479415669740413\",\"id\":\"11541358685889468826\",\"type\":\"observable\"},val)) : undefined; return this.valueFromJulia[\"changes\"]=false}),self),this[\"index\"].subscribe((function (val){!(this.valueFromJulia[\"index\"]) ? (WebIO.setval({\"name\":\"index\",\"scope\":\"10258479415669740413\",\"id\":\"7142534577498101358\",\"type\":\"observable\"},val)) : undefined; return this.valueFromJulia[\"index\"]=false}),self)]\n        \n    }\n    self.model = new AppViewModel();\n    self.valueFromJulia = {};\n    for (var key in json_data) {\n        self.valueFromJulia[key] = false;\n    }\n    ko.applyBindings(self.model, self.dom);\n}\n);\n    (WebIO.importBlock({\"data\":[{\"name\":\"knockout\",\"type\":\"js\",\"url\":\"/assetserver/727383f2a47bd31570b7da84eee7b022dd6d7c78-knockout.js\"},{\"name\":\"knockout_punches\",\"type\":\"js\",\"url\":\"/assetserver/382b41b3b1bd9f26f75861d360bad7f8beea211f-knockout_punches.js\"}],\"type\":\"async_block\"})).then((imports) => handler.apply(this, imports));\n}\n"
                ],
                "observables": {
                 "changes": {
                  "id": "11541358685889468826",
                  "sync": false,
                  "value": 0
                 },
                 "index": {
                  "id": "7142534577498101358",
                  "sync": true,
                  "value": 1
                 }
                },
                "systemjs_options": null
               },
               "nodeType": "Scope",
               "props": {},
               "type": "node"
              }
             ],
             "instanceArgs": {
              "namespace": "html",
              "tag": "div"
             },
             "nodeType": "DOM",
             "props": {
              "className": "field interact-widget"
             },
             "type": "node"
            },
            {
             "children": [
              {
               "children": [
                {
                 "children": [
                  {
                   "children": [
                    {
                     "children": [
                      "scale"
                     ],
                     "instanceArgs": {
                      "namespace": "html",
                      "tag": "label"
                     },
                     "nodeType": "DOM",
                     "props": {
                      "className": "interact ",
                      "style": {
                       "padding": "5px 10px 0px 10px"
                      }
                     },
                     "type": "node"
                    }
                   ],
                   "instanceArgs": {
                    "namespace": "html",
                    "tag": "div"
                   },
                   "nodeType": "DOM",
                   "props": {
                    "className": "interact-flex-row-left"
                   },
                   "type": "node"
                  },
                  {
                   "children": [
                    {
                     "children": [],
                     "instanceArgs": {
                      "namespace": "html",
                      "tag": "input"
                     },
                     "nodeType": "DOM",
                     "props": {
                      "attributes": {
                       "data-bind": "numericValue: index, valueUpdate: 'input', event: {change: function (){this.changes(this.changes()+1)}}",
                       "orient": "horizontal",
                       "type": "range"
                      },
                      "className": "slider slider is-fullwidth",
                      "max": 20,
                      "min": 1,
                      "step": 1,
                      "style": {}
                     },
                     "type": "node"
                    }
                   ],
                   "instanceArgs": {
                    "namespace": "html",
                    "tag": "div"
                   },
                   "nodeType": "DOM",
                   "props": {
                    "className": "interact-flex-row-center"
                   },
                   "type": "node"
                  },
                  {
                   "children": [
                    {
                     "children": [],
                     "instanceArgs": {
                      "namespace": "html",
                      "tag": "p"
                     },
                     "nodeType": "DOM",
                     "props": {
                      "attributes": {
                       "data-bind": "text: formatted_val"
                      }
                     },
                     "type": "node"
                    }
                   ],
                   "instanceArgs": {
                    "namespace": "html",
                    "tag": "div"
                   },
                   "nodeType": "DOM",
                   "props": {
                    "className": "interact-flex-row-right"
                   },
                   "type": "node"
                  }
                 ],
                 "instanceArgs": {
                  "namespace": "html",
                  "tag": "div"
                 },
                 "nodeType": "DOM",
                 "props": {
                  "className": "interact-flex-row interact-widget"
                 },
                 "type": "node"
                }
               ],
               "instanceArgs": {
                "handlers": {
                 "changes": [
                  "(function (val){return (val!=this.model[\"changes\"]()) ? (this.valueFromJulia[\"changes\"]=true, this.model[\"changes\"](val)) : undefined})"
                 ],
                 "index": [
                  "(function (val){return (val!=this.model[\"index\"]()) ? (this.valueFromJulia[\"index\"]=true, this.model[\"index\"](val)) : undefined})"
                 ]
                },
                "id": "16392149104733727859",
                "imports": {
                 "data": [
                  {
                   "name": "knockout",
                   "type": "js",
                   "url": "/assetserver/727383f2a47bd31570b7da84eee7b022dd6d7c78-knockout.js"
                  },
                  {
                   "name": "knockout_punches",
                   "type": "js",
                   "url": "/assetserver/382b41b3b1bd9f26f75861d360bad7f8beea211f-knockout_punches.js"
                  },
                  {
                   "name": null,
                   "type": "js",
                   "url": "/assetserver/5ab20f1060420992a9b82a65b735dee4d81ef413-all.js"
                  },
                  {
                   "name": null,
                   "type": "css",
                   "url": "/assetserver/1cc0ed62837210b80a182cc3676512f895dab686-style.css"
                  },
                  {
                   "name": null,
                   "type": "css",
                   "url": "/assetserver/2eee816f616df3549d7044d45e744fbf8d42bfa1-bulma_confined.min.css"
                  }
                 ],
                 "type": "async_block"
                },
                "mount_callbacks": [
                 "function () {\n    var handler = (function (ko, koPunches) {\n    ko.punches.enableAll();\n    ko.bindingHandlers.numericValue = {\n        init: function(element, valueAccessor, allBindings, data, context) {\n            var stringified = ko.observable(ko.unwrap(valueAccessor()));\n            stringified.subscribe(function(value) {\n                var val = parseFloat(value);\n                if (!isNaN(val)) {\n                    valueAccessor()(val);\n                }\n            });\n            valueAccessor().subscribe(function(value) {\n                var str = JSON.stringify(value);\n                if ((str == \"0\") && ([\"-0\", \"-0.\"].indexOf(stringified()) >= 0))\n                     return;\n                 if ([\"null\", \"\"].indexOf(str) >= 0)\n                     return;\n                stringified(str);\n            });\n            ko.applyBindingsToNode(\n                element,\n                {\n                    value: stringified,\n                    valueUpdate: allBindings.get('valueUpdate'),\n                },\n                context,\n            );\n        }\n    };\n    var json_data = {\"formatted_vals\":[\"0.1\",\"0.2\",\"0.3\",\"0.4\",\"0.5\",\"0.6\",\"0.7\",\"0.8\",\"0.9\",\"1.0\",\"1.1\",\"1.2\",\"1.3\",\"1.4\",\"1.5\",\"1.6\",\"1.7\",\"1.8\",\"1.9\",\"2.0\"],\"changes\":WebIO.getval({\"name\":\"changes\",\"scope\":\"16392149104733727859\",\"id\":\"5487759554619206363\",\"type\":\"observable\"}),\"index\":WebIO.getval({\"name\":\"index\",\"scope\":\"16392149104733727859\",\"id\":\"2994690289075158276\",\"type\":\"observable\"})};\n    var self = this;\n    function AppViewModel() {\n        for (var key in json_data) {\n            var el = json_data[key];\n            this[key] = Array.isArray(el) ? ko.observableArray(el) : ko.observable(el);\n        }\n        \n        [this[\"formatted_val\"]=ko.computed(    function(){\n        return this.formatted_vals()[parseInt(this.index())-(1)];\n    }\n,this)]\n        [this[\"changes\"].subscribe((function (val){!(this.valueFromJulia[\"changes\"]) ? (WebIO.setval({\"name\":\"changes\",\"scope\":\"16392149104733727859\",\"id\":\"5487759554619206363\",\"type\":\"observable\"},val)) : undefined; return this.valueFromJulia[\"changes\"]=false}),self),this[\"index\"].subscribe((function (val){!(this.valueFromJulia[\"index\"]) ? (WebIO.setval({\"name\":\"index\",\"scope\":\"16392149104733727859\",\"id\":\"2994690289075158276\",\"type\":\"observable\"},val)) : undefined; return this.valueFromJulia[\"index\"]=false}),self)]\n        \n    }\n    self.model = new AppViewModel();\n    self.valueFromJulia = {};\n    for (var key in json_data) {\n        self.valueFromJulia[key] = false;\n    }\n    ko.applyBindings(self.model, self.dom);\n}\n);\n    (WebIO.importBlock({\"data\":[{\"name\":\"knockout\",\"type\":\"js\",\"url\":\"/assetserver/727383f2a47bd31570b7da84eee7b022dd6d7c78-knockout.js\"},{\"name\":\"knockout_punches\",\"type\":\"js\",\"url\":\"/assetserver/382b41b3b1bd9f26f75861d360bad7f8beea211f-knockout_punches.js\"}],\"type\":\"async_block\"})).then((imports) => handler.apply(this, imports));\n}\n"
                ],
                "observables": {
                 "changes": {
                  "id": "5487759554619206363",
                  "sync": false,
                  "value": 0
                 },
                 "index": {
                  "id": "2994690289075158276",
                  "sync": true,
                  "value": 10
                 }
                },
                "systemjs_options": null
               },
               "nodeType": "Scope",
               "props": {},
               "type": "node"
              }
             ],
             "instanceArgs": {
              "namespace": "html",
              "tag": "div"
             },
             "nodeType": "DOM",
             "props": {
              "className": "field interact-widget"
             },
             "type": "node"
            },
            {
             "children": [],
             "instanceArgs": {
              "namespace": "html",
              "tag": "div"
             },
             "nodeType": "DOM",
             "props": {
              "style": {
               "display": "flex",
               "flex-direction": "column"
              }
             },
             "type": "node"
            },
            {
             "children": [
              {
               "children": [
                {
                 "children": [
                  {
                   "children": [
                    {
                     "children": [
                      {
                       "children": [
                        "temp"
                       ],
                       "instanceArgs": {
                        "namespace": "html",
                        "tag": "label"
                       },
                       "nodeType": "DOM",
                       "props": {
                        "className": "interact ",
                        "style": {
                         "padding": "5px 10px 0px 10px"
                        }
                       },
                       "type": "node"
                      }
                     ],
                     "instanceArgs": {
                      "namespace": "html",
                      "tag": "div"
                     },
                     "nodeType": "DOM",
                     "props": {
                      "className": "interact-flex-row-left"
                     },
                     "type": "node"
                    },
                    {
                     "children": [
                      {
                       "children": [],
                       "instanceArgs": {
                        "namespace": "html",
                        "tag": "input"
                       },
                       "nodeType": "DOM",
                       "props": {
                        "attributes": {
                         "data-bind": "numericValue: index, valueUpdate: 'input', event: {change: function (){this.changes(this.changes()+1)}}",
                         "orient": "horizontal",
                         "type": "range"
                        },
                        "className": "slider slider is-fullwidth",
                        "max": 100,
                        "min": 1,
                        "step": 1,
                        "style": {}
                       },
                       "type": "node"
                      }
                     ],
                     "instanceArgs": {
                      "namespace": "html",
                      "tag": "div"
                     },
                     "nodeType": "DOM",
                     "props": {
                      "className": "interact-flex-row-center"
                     },
                     "type": "node"
                    },
                    {
                     "children": [
                      {
                       "children": [],
                       "instanceArgs": {
                        "namespace": "html",
                        "tag": "p"
                       },
                       "nodeType": "DOM",
                       "props": {
                        "attributes": {
                         "data-bind": "text: formatted_val"
                        }
                       },
                       "type": "node"
                      }
                     ],
                     "instanceArgs": {
                      "namespace": "html",
                      "tag": "div"
                     },
                     "nodeType": "DOM",
                     "props": {
                      "className": "interact-flex-row-right"
                     },
                     "type": "node"
                    }
                   ],
                   "instanceArgs": {
                    "namespace": "html",
                    "tag": "div"
                   },
                   "nodeType": "DOM",
                   "props": {
                    "className": "interact-flex-row interact-widget"
                   },
                   "type": "node"
                  }
                 ],
                 "instanceArgs": {
                  "handlers": {
                   "changes": [
                    "(function (val){return (val!=this.model[\"changes\"]()) ? (this.valueFromJulia[\"changes\"]=true, this.model[\"changes\"](val)) : undefined})"
                   ],
                   "index": [
                    "(function (val){return (val!=this.model[\"index\"]()) ? (this.valueFromJulia[\"index\"]=true, this.model[\"index\"](val)) : undefined})"
                   ]
                  },
                  "id": "18149941216062870204",
                  "imports": {
                   "data": [
                    {
                     "name": "knockout",
                     "type": "js",
                     "url": "/assetserver/727383f2a47bd31570b7da84eee7b022dd6d7c78-knockout.js"
                    },
                    {
                     "name": "knockout_punches",
                     "type": "js",
                     "url": "/assetserver/382b41b3b1bd9f26f75861d360bad7f8beea211f-knockout_punches.js"
                    },
                    {
                     "name": null,
                     "type": "js",
                     "url": "/assetserver/5ab20f1060420992a9b82a65b735dee4d81ef413-all.js"
                    },
                    {
                     "name": null,
                     "type": "css",
                     "url": "/assetserver/1cc0ed62837210b80a182cc3676512f895dab686-style.css"
                    },
                    {
                     "name": null,
                     "type": "css",
                     "url": "/assetserver/2eee816f616df3549d7044d45e744fbf8d42bfa1-bulma_confined.min.css"
                    }
                   ],
                   "type": "async_block"
                  },
                  "mount_callbacks": [
                   "function () {\n    var handler = (function (ko, koPunches) {\n    ko.punches.enableAll();\n    ko.bindingHandlers.numericValue = {\n        init: function(element, valueAccessor, allBindings, data, context) {\n            var stringified = ko.observable(ko.unwrap(valueAccessor()));\n            stringified.subscribe(function(value) {\n                var val = parseFloat(value);\n                if (!isNaN(val)) {\n                    valueAccessor()(val);\n                }\n            });\n            valueAccessor().subscribe(function(value) {\n                var str = JSON.stringify(value);\n                if ((str == \"0\") && ([\"-0\", \"-0.\"].indexOf(stringified()) >= 0))\n                     return;\n                 if ([\"null\", \"\"].indexOf(str) >= 0)\n                     return;\n                stringified(str);\n            });\n            ko.applyBindingsToNode(\n                element,\n                {\n                    value: stringified,\n                    valueUpdate: allBindings.get('valueUpdate'),\n                },\n                context,\n            );\n        }\n    };\n    var json_data = {\"formatted_vals\":[\"0.05\",\"0.1\",\"0.15\",\"0.2\",\"0.25\",\"0.3\",\"0.35\",\"0.4\",\"0.45\",\"0.5\",\"0.55\",\"0.6\",\"0.65\",\"0.7\",\"0.75\",\"0.8\",\"0.85\",\"0.9\",\"0.95\",\"1.0\",\"1.05\",\"1.1\",\"1.15\",\"1.2\",\"1.25\",\"1.3\",\"1.35\",\"1.4\",\"1.45\",\"1.5\",\"1.55\",\"1.6\",\"1.65\",\"1.7\",\"1.75\",\"1.8\",\"1.85\",\"1.9\",\"1.95\",\"2.0\",\"2.05\",\"2.1\",\"2.15\",\"2.2\",\"2.25\",\"2.3\",\"2.35\",\"2.4\",\"2.45\",\"2.5\",\"2.55\",\"2.6\",\"2.65\",\"2.7\",\"2.75\",\"2.8\",\"2.85\",\"2.9\",\"2.95\",\"3.0\",\"3.05\",\"3.1\",\"3.15\",\"3.2\",\"3.25\",\"3.3\",\"3.35\",\"3.4\",\"3.45\",\"3.5\",\"3.55\",\"3.6\",\"3.65\",\"3.7\",\"3.75\",\"3.8\",\"3.85\",\"3.9\",\"3.95\",\"4.0\",\"4.05\",\"4.1\",\"4.15\",\"4.2\",\"4.25\",\"4.3\",\"4.35\",\"4.4\",\"4.45\",\"4.5\",\"4.55\",\"4.6\",\"4.65\",\"4.7\",\"4.75\",\"4.8\",\"4.85\",\"4.9\",\"4.95\",\"5.0\"],\"changes\":WebIO.getval({\"name\":\"changes\",\"scope\":\"18149941216062870204\",\"id\":\"6644966120718903714\",\"type\":\"observable\"}),\"index\":WebIO.getval({\"name\":\"index\",\"scope\":\"18149941216062870204\",\"id\":\"16966047374917787003\",\"type\":\"observable\"})};\n    var self = this;\n    function AppViewModel() {\n        for (var key in json_data) {\n            var el = json_data[key];\n            this[key] = Array.isArray(el) ? ko.observableArray(el) : ko.observable(el);\n        }\n        \n        [this[\"formatted_val\"]=ko.computed(    function(){\n        return this.formatted_vals()[parseInt(this.index())-(1)];\n    }\n,this)]\n        [this[\"changes\"].subscribe((function (val){!(this.valueFromJulia[\"changes\"]) ? (WebIO.setval({\"name\":\"changes\",\"scope\":\"18149941216062870204\",\"id\":\"6644966120718903714\",\"type\":\"observable\"},val)) : undefined; return this.valueFromJulia[\"changes\"]=false}),self),this[\"index\"].subscribe((function (val){!(this.valueFromJulia[\"index\"]) ? (WebIO.setval({\"name\":\"index\",\"scope\":\"18149941216062870204\",\"id\":\"16966047374917787003\",\"type\":\"observable\"},val)) : undefined; return this.valueFromJulia[\"index\"]=false}),self)]\n        \n    }\n    self.model = new AppViewModel();\n    self.valueFromJulia = {};\n    for (var key in json_data) {\n        self.valueFromJulia[key] = false;\n    }\n    ko.applyBindings(self.model, self.dom);\n}\n);\n    (WebIO.importBlock({\"data\":[{\"name\":\"knockout\",\"type\":\"js\",\"url\":\"/assetserver/727383f2a47bd31570b7da84eee7b022dd6d7c78-knockout.js\"},{\"name\":\"knockout_punches\",\"type\":\"js\",\"url\":\"/assetserver/382b41b3b1bd9f26f75861d360bad7f8beea211f-knockout_punches.js\"}],\"type\":\"async_block\"})).then((imports) => handler.apply(this, imports));\n}\n"
                  ],
                  "observables": {
                   "changes": {
                    "id": "6644966120718903714",
                    "sync": false,
                    "value": 0
                   },
                   "index": {
                    "id": "16966047374917787003",
                    "sync": true,
                    "value": 50
                   }
                  },
                  "systemjs_options": null
                 },
                 "nodeType": "Scope",
                 "props": {},
                 "type": "node"
                }
               ],
               "instanceArgs": {
                "namespace": "html",
                "tag": "div"
               },
               "nodeType": "DOM",
               "props": {
                "className": "field interact-widget"
               },
               "type": "node"
              },
              {
               "children": [
                {
                 "children": [
                  {
                   "children": [
                    {
                     "children": [
                      {
                       "children": [
                        "coupl"
                       ],
                       "instanceArgs": {
                        "namespace": "html",
                        "tag": "label"
                       },
                       "nodeType": "DOM",
                       "props": {
                        "className": "interact ",
                        "style": {
                         "padding": "5px 10px 0px 10px"
                        }
                       },
                       "type": "node"
                      }
                     ],
                     "instanceArgs": {
                      "namespace": "html",
                      "tag": "div"
                     },
                     "nodeType": "DOM",
                     "props": {
                      "className": "interact-flex-row-left"
                     },
                     "type": "node"
                    },
                    {
                     "children": [
                      {
                       "children": [],
                       "instanceArgs": {
                        "namespace": "html",
                        "tag": "input"
                       },
                       "nodeType": "DOM",
                       "props": {
                        "attributes": {
                         "data-bind": "numericValue: index, valueUpdate: 'input', event: {change: function (){this.changes(this.changes()+1)}}",
                         "orient": "horizontal",
                         "type": "range"
                        },
                        "className": "slider slider is-fullwidth",
                        "max": 50,
                        "min": 1,
                        "step": 1,
                        "style": {}
                       },
                       "type": "node"
                      }
                     ],
                     "instanceArgs": {
                      "namespace": "html",
                      "tag": "div"
                     },
                     "nodeType": "DOM",
                     "props": {
                      "className": "interact-flex-row-center"
                     },
                     "type": "node"
                    },
                    {
                     "children": [
                      {
                       "children": [],
                       "instanceArgs": {
                        "namespace": "html",
                        "tag": "p"
                       },
                       "nodeType": "DOM",
                       "props": {
                        "attributes": {
                         "data-bind": "text: formatted_val"
                        }
                       },
                       "type": "node"
                      }
                     ],
                     "instanceArgs": {
                      "namespace": "html",
                      "tag": "div"
                     },
                     "nodeType": "DOM",
                     "props": {
                      "className": "interact-flex-row-right"
                     },
                     "type": "node"
                    }
                   ],
                   "instanceArgs": {
                    "namespace": "html",
                    "tag": "div"
                   },
                   "nodeType": "DOM",
                   "props": {
                    "className": "interact-flex-row interact-widget"
                   },
                   "type": "node"
                  }
                 ],
                 "instanceArgs": {
                  "handlers": {
                   "changes": [
                    "(function (val){return (val!=this.model[\"changes\"]()) ? (this.valueFromJulia[\"changes\"]=true, this.model[\"changes\"](val)) : undefined})"
                   ],
                   "index": [
                    "(function (val){return (val!=this.model[\"index\"]()) ? (this.valueFromJulia[\"index\"]=true, this.model[\"index\"](val)) : undefined})"
                   ]
                  },
                  "id": "17005452033100227982",
                  "imports": {
                   "data": [
                    {
                     "name": "knockout",
                     "type": "js",
                     "url": "/assetserver/727383f2a47bd31570b7da84eee7b022dd6d7c78-knockout.js"
                    },
                    {
                     "name": "knockout_punches",
                     "type": "js",
                     "url": "/assetserver/382b41b3b1bd9f26f75861d360bad7f8beea211f-knockout_punches.js"
                    },
                    {
                     "name": null,
                     "type": "js",
                     "url": "/assetserver/5ab20f1060420992a9b82a65b735dee4d81ef413-all.js"
                    },
                    {
                     "name": null,
                     "type": "css",
                     "url": "/assetserver/1cc0ed62837210b80a182cc3676512f895dab686-style.css"
                    },
                    {
                     "name": null,
                     "type": "css",
                     "url": "/assetserver/2eee816f616df3549d7044d45e744fbf8d42bfa1-bulma_confined.min.css"
                    }
                   ],
                   "type": "async_block"
                  },
                  "mount_callbacks": [
                   "function () {\n    var handler = (function (ko, koPunches) {\n    ko.punches.enableAll();\n    ko.bindingHandlers.numericValue = {\n        init: function(element, valueAccessor, allBindings, data, context) {\n            var stringified = ko.observable(ko.unwrap(valueAccessor()));\n            stringified.subscribe(function(value) {\n                var val = parseFloat(value);\n                if (!isNaN(val)) {\n                    valueAccessor()(val);\n                }\n            });\n            valueAccessor().subscribe(function(value) {\n                var str = JSON.stringify(value);\n                if ((str == \"0\") && ([\"-0\", \"-0.\"].indexOf(stringified()) >= 0))\n                     return;\n                 if ([\"null\", \"\"].indexOf(str) >= 0)\n                     return;\n                stringified(str);\n            });\n            ko.applyBindingsToNode(\n                element,\n                {\n                    value: stringified,\n                    valueUpdate: allBindings.get('valueUpdate'),\n                },\n                context,\n            );\n        }\n    };\n    var json_data = {\"formatted_vals\":[\"0.01\",\"0.11\",\"0.21\",\"0.31\",\"0.41\",\"0.51\",\"0.61\",\"0.71\",\"0.81\",\"0.91\",\"1.01\",\"1.11\",\"1.21\",\"1.31\",\"1.41\",\"1.51\",\"1.61\",\"1.71\",\"1.81\",\"1.91\",\"2.01\",\"2.11\",\"2.21\",\"2.31\",\"2.41\",\"2.51\",\"2.61\",\"2.71\",\"2.81\",\"2.91\",\"3.01\",\"3.11\",\"3.21\",\"3.31\",\"3.41\",\"3.51\",\"3.61\",\"3.71\",\"3.81\",\"3.91\",\"4.01\",\"4.11\",\"4.21\",\"4.31\",\"4.41\",\"4.51\",\"4.61\",\"4.71\",\"4.81\",\"4.91\"],\"changes\":WebIO.getval({\"name\":\"changes\",\"scope\":\"17005452033100227982\",\"id\":\"17544612017221048495\",\"type\":\"observable\"}),\"index\":WebIO.getval({\"name\":\"index\",\"scope\":\"17005452033100227982\",\"id\":\"14720154450184222989\",\"type\":\"observable\"})};\n    var self = this;\n    function AppViewModel() {\n        for (var key in json_data) {\n            var el = json_data[key];\n            this[key] = Array.isArray(el) ? ko.observableArray(el) : ko.observable(el);\n        }\n        \n        [this[\"formatted_val\"]=ko.computed(    function(){\n        return this.formatted_vals()[parseInt(this.index())-(1)];\n    }\n,this)]\n        [this[\"changes\"].subscribe((function (val){!(this.valueFromJulia[\"changes\"]) ? (WebIO.setval({\"name\":\"changes\",\"scope\":\"17005452033100227982\",\"id\":\"17544612017221048495\",\"type\":\"observable\"},val)) : undefined; return this.valueFromJulia[\"changes\"]=false}),self),this[\"index\"].subscribe((function (val){!(this.valueFromJulia[\"index\"]) ? (WebIO.setval({\"name\":\"index\",\"scope\":\"17005452033100227982\",\"id\":\"14720154450184222989\",\"type\":\"observable\"},val)) : undefined; return this.valueFromJulia[\"index\"]=false}),self)]\n        \n    }\n    self.model = new AppViewModel();\n    self.valueFromJulia = {};\n    for (var key in json_data) {\n        self.valueFromJulia[key] = false;\n    }\n    ko.applyBindings(self.model, self.dom);\n}\n);\n    (WebIO.importBlock({\"data\":[{\"name\":\"knockout\",\"type\":\"js\",\"url\":\"/assetserver/727383f2a47bd31570b7da84eee7b022dd6d7c78-knockout.js\"},{\"name\":\"knockout_punches\",\"type\":\"js\",\"url\":\"/assetserver/382b41b3b1bd9f26f75861d360bad7f8beea211f-knockout_punches.js\"}],\"type\":\"async_block\"})).then((imports) => handler.apply(this, imports));\n}\n"
                  ],
                  "observables": {
                   "changes": {
                    "id": "17544612017221048495",
                    "sync": false,
                    "value": 0
                   },
                   "index": {
                    "id": "14720154450184222989",
                    "sync": true,
                    "value": 25
                   }
                  },
                  "systemjs_options": null
                 },
                 "nodeType": "Scope",
                 "props": {},
                 "type": "node"
                }
               ],
               "instanceArgs": {
                "namespace": "html",
                "tag": "div"
               },
               "nodeType": "DOM",
               "props": {
                "className": "field interact-widget"
               },
               "type": "node"
              },
              {
               "children": [
                {
                 "children": [
                  {
                   "children": [
                    {
                     "children": [
                      {
                       "children": [
                        "nns"
                       ],
                       "instanceArgs": {
                        "namespace": "html",
                        "tag": "label"
                       },
                       "nodeType": "DOM",
                       "props": {
                        "className": "interact ",
                        "style": {
                         "padding": "5px 10px 0px 10px"
                        }
                       },
                       "type": "node"
                      }
                     ],
                     "instanceArgs": {
                      "namespace": "html",
                      "tag": "div"
                     },
                     "nodeType": "DOM",
                     "props": {
                      "className": "interact-flex-row-left"
                     },
                     "type": "node"
                    },
                    {
                     "children": [
                      {
                       "children": [],
                       "instanceArgs": {
                        "namespace": "html",
                        "tag": "input"
                       },
                       "nodeType": "DOM",
                       "props": {
                        "attributes": {
                         "data-bind": "numericValue: index, valueUpdate: 'input', event: {change: function (){this.changes(this.changes()+1)}}",
                         "orient": "horizontal",
                         "type": "range"
                        },
                        "className": "slider slider is-fullwidth",
                        "max": 10,
                        "min": 2,
                        "step": 1,
                        "style": {}
                       },
                       "type": "node"
                      }
                     ],
                     "instanceArgs": {
                      "namespace": "html",
                      "tag": "div"
                     },
                     "nodeType": "DOM",
                     "props": {
                      "className": "interact-flex-row-center"
                     },
                     "type": "node"
                    },
                    {
                     "children": [
                      {
                       "children": [],
                       "instanceArgs": {
                        "namespace": "html",
                        "tag": "p"
                       },
                       "nodeType": "DOM",
                       "props": {
                        "attributes": {
                         "data-bind": "text: formatted_val"
                        }
                       },
                       "type": "node"
                      }
                     ],
                     "instanceArgs": {
                      "namespace": "html",
                      "tag": "div"
                     },
                     "nodeType": "DOM",
                     "props": {
                      "className": "interact-flex-row-right"
                     },
                     "type": "node"
                    }
                   ],
                   "instanceArgs": {
                    "namespace": "html",
                    "tag": "div"
                   },
                   "nodeType": "DOM",
                   "props": {
                    "className": "interact-flex-row interact-widget"
                   },
                   "type": "node"
                  }
                 ],
                 "instanceArgs": {
                  "handlers": {
                   "changes": [
                    "(function (val){return (val!=this.model[\"changes\"]()) ? (this.valueFromJulia[\"changes\"]=true, this.model[\"changes\"](val)) : undefined})"
                   ],
                   "index": [
                    "(function (val){return (val!=this.model[\"index\"]()) ? (this.valueFromJulia[\"index\"]=true, this.model[\"index\"](val)) : undefined})"
                   ]
                  },
                  "id": "18183295861232194227",
                  "imports": {
                   "data": [
                    {
                     "name": "knockout",
                     "type": "js",
                     "url": "/assetserver/727383f2a47bd31570b7da84eee7b022dd6d7c78-knockout.js"
                    },
                    {
                     "name": "knockout_punches",
                     "type": "js",
                     "url": "/assetserver/382b41b3b1bd9f26f75861d360bad7f8beea211f-knockout_punches.js"
                    },
                    {
                     "name": null,
                     "type": "js",
                     "url": "/assetserver/5ab20f1060420992a9b82a65b735dee4d81ef413-all.js"
                    },
                    {
                     "name": null,
                     "type": "css",
                     "url": "/assetserver/1cc0ed62837210b80a182cc3676512f895dab686-style.css"
                    },
                    {
                     "name": null,
                     "type": "css",
                     "url": "/assetserver/2eee816f616df3549d7044d45e744fbf8d42bfa1-bulma_confined.min.css"
                    }
                   ],
                   "type": "async_block"
                  },
                  "mount_callbacks": [
                   "function () {\n    var handler = (function (ko, koPunches) {\n    ko.punches.enableAll();\n    ko.bindingHandlers.numericValue = {\n        init: function(element, valueAccessor, allBindings, data, context) {\n            var stringified = ko.observable(ko.unwrap(valueAccessor()));\n            stringified.subscribe(function(value) {\n                var val = parseFloat(value);\n                if (!isNaN(val)) {\n                    valueAccessor()(val);\n                }\n            });\n            valueAccessor().subscribe(function(value) {\n                var str = JSON.stringify(value);\n                if ((str == \"0\") && ([\"-0\", \"-0.\"].indexOf(stringified()) >= 0))\n                     return;\n                 if ([\"null\", \"\"].indexOf(str) >= 0)\n                     return;\n                stringified(str);\n            });\n            ko.applyBindingsToNode(\n                element,\n                {\n                    value: stringified,\n                    valueUpdate: allBindings.get('valueUpdate'),\n                },\n                context,\n            );\n        }\n    };\n    var json_data = {\"formatted_vals\":[\"2\",\"3\",\"4\",\"5\",\"6\",\"7\",\"8\",\"9\",\"10\"],\"changes\":WebIO.getval({\"name\":\"changes\",\"scope\":\"18183295861232194227\",\"id\":\"10139535343269084516\",\"type\":\"observable\"}),\"index\":WebIO.getval({\"name\":\"index\",\"scope\":\"18183295861232194227\",\"id\":\"3466951331806112005\",\"type\":\"observable\"})};\n    var self = this;\n    function AppViewModel() {\n        for (var key in json_data) {\n            var el = json_data[key];\n            this[key] = Array.isArray(el) ? ko.observableArray(el) : ko.observable(el);\n        }\n        \n        [this[\"formatted_val\"]=ko.computed(    function(){\n        return this.formatted_vals()[parseInt(this.index())-(2)];\n    }\n,this)]\n        [this[\"changes\"].subscribe((function (val){!(this.valueFromJulia[\"changes\"]) ? (WebIO.setval({\"name\":\"changes\",\"scope\":\"18183295861232194227\",\"id\":\"10139535343269084516\",\"type\":\"observable\"},val)) : undefined; return this.valueFromJulia[\"changes\"]=false}),self),this[\"index\"].subscribe((function (val){!(this.valueFromJulia[\"index\"]) ? (WebIO.setval({\"name\":\"index\",\"scope\":\"18183295861232194227\",\"id\":\"3466951331806112005\",\"type\":\"observable\"},val)) : undefined; return this.valueFromJulia[\"index\"]=false}),self)]\n        \n    }\n    self.model = new AppViewModel();\n    self.valueFromJulia = {};\n    for (var key in json_data) {\n        self.valueFromJulia[key] = false;\n    }\n    ko.applyBindings(self.model, self.dom);\n}\n);\n    (WebIO.importBlock({\"data\":[{\"name\":\"knockout\",\"type\":\"js\",\"url\":\"/assetserver/727383f2a47bd31570b7da84eee7b022dd6d7c78-knockout.js\"},{\"name\":\"knockout_punches\",\"type\":\"js\",\"url\":\"/assetserver/382b41b3b1bd9f26f75861d360bad7f8beea211f-knockout_punches.js\"}],\"type\":\"async_block\"})).then((imports) => handler.apply(this, imports));\n}\n"
                  ],
                  "observables": {
                   "changes": {
                    "id": "10139535343269084516",
                    "sync": false,
                    "value": 0
                   },
                   "index": {
                    "id": "3466951331806112005",
                    "sync": true,
                    "value": 6
                   }
                  },
                  "systemjs_options": null
                 },
                 "nodeType": "Scope",
                 "props": {},
                 "type": "node"
                }
               ],
               "instanceArgs": {
                "namespace": "html",
                "tag": "div"
               },
               "nodeType": "DOM",
               "props": {
                "className": "field interact-widget"
               },
               "type": "node"
              }
             ],
             "instanceArgs": {
              "namespace": "html",
              "tag": "div"
             },
             "nodeType": "DOM",
             "props": {
              "style": {
               "display": "flex",
               "flex-direction": "column"
              }
             },
             "type": "node"
            },
            {
             "children": [
              {
               "children": [
                {
                 "children": [
                  {
                   "children": [],
                   "instanceArgs": {
                    "namespace": "html",
                    "tag": "div"
                   },
                   "nodeType": "DOM",
                   "props": {
                    "id": "container"
                   },
                   "type": "node"
                  }
                 ],
                 "instanceArgs": {
                  "handlers": {
                   "value": [
                    "(function (txt){return this.k.render(txt,this.container)})"
                   ]
                  },
                  "id": "15155723812437631898",
                  "imports": {
                   "data": [
                    {
                     "name": null,
                     "type": "js",
                     "url": "/assetserver/dd22ed1bf1896c2748f3fe616ce0b838adc895c1-katex.min.js"
                    },
                    {
                     "name": null,
                     "type": "css",
                     "url": "/assetserver/46517a424aa5e6cffc1360d7e0848b601c584ee3-katex.min.css"
                    }
                   ],
                   "type": "async_block"
                  },
                  "mount_callbacks": [
                   "function () {\n    var handler = ((function (k){this.k=k; this.container=this.dom.querySelector(\"#container\"); return k.render(\"\\\\;\\\\;\",this.container)}));\n    (WebIO.importBlock({\"data\":[{\"name\":null,\"type\":\"js\",\"url\":\"/assetserver/dd22ed1bf1896c2748f3fe616ce0b838adc895c1-katex.min.js\"},{\"name\":null,\"type\":\"css\",\"url\":\"/assetserver/46517a424aa5e6cffc1360d7e0848b601c584ee3-katex.min.css\"}],\"type\":\"async_block\"})).then((imports) => handler.apply(this, imports));\n}\n"
                  ],
                  "observables": {
                   "value": {
                    "id": "11080017874471824166",
                    "sync": false,
                    "value": "\\;\\;"
                   }
                  },
                  "systemjs_options": null
                 },
                 "nodeType": "Scope",
                 "props": {},
                 "type": "node"
                }
               ],
               "instanceArgs": {
                "namespace": "html",
                "tag": "div"
               },
               "nodeType": "DOM",
               "props": {
                "className": "interact-widget"
               },
               "type": "node"
              },
              {
               "children": [
                {
                 "children": [
                  {
                   "children": [
                    "run"
                   ],
                   "instanceArgs": {
                    "namespace": "html",
                    "tag": "button"
                   },
                   "nodeType": "DOM",
                   "props": {
                    "attributes": {
                     "data-bind": "click: function (){this.clicks(this.clicks()+1)}, css: {'is-loading' : loading}"
                    },
                    "className": "is-medium button is-primary",
                    "style": {}
                   },
                   "type": "node"
                  }
                 ],
                 "instanceArgs": {
                  "handlers": {
                   "clicks": [
                    "(function (val){return (val!=this.model[\"clicks\"]()) ? (this.valueFromJulia[\"clicks\"]=true, this.model[\"clicks\"](val)) : undefined})"
                   ],
                   "loading": [
                    "(function (val){return (val!=this.model[\"loading\"]()) ? (this.valueFromJulia[\"loading\"]=true, this.model[\"loading\"](val)) : undefined})"
                   ]
                  },
                  "id": "2083045978238375240",
                  "imports": {
                   "data": [
                    {
                     "name": "knockout",
                     "type": "js",
                     "url": "/assetserver/727383f2a47bd31570b7da84eee7b022dd6d7c78-knockout.js"
                    },
                    {
                     "name": "knockout_punches",
                     "type": "js",
                     "url": "/assetserver/382b41b3b1bd9f26f75861d360bad7f8beea211f-knockout_punches.js"
                    },
                    {
                     "name": null,
                     "type": "js",
                     "url": "/assetserver/5ab20f1060420992a9b82a65b735dee4d81ef413-all.js"
                    },
                    {
                     "name": null,
                     "type": "css",
                     "url": "/assetserver/1cc0ed62837210b80a182cc3676512f895dab686-style.css"
                    },
                    {
                     "name": null,
                     "type": "css",
                     "url": "/assetserver/2eee816f616df3549d7044d45e744fbf8d42bfa1-bulma_confined.min.css"
                    }
                   ],
                   "type": "async_block"
                  },
                  "mount_callbacks": [
                   "function () {\n    var handler = (function (ko, koPunches) {\n    ko.punches.enableAll();\n    ko.bindingHandlers.numericValue = {\n        init: function(element, valueAccessor, allBindings, data, context) {\n            var stringified = ko.observable(ko.unwrap(valueAccessor()));\n            stringified.subscribe(function(value) {\n                var val = parseFloat(value);\n                if (!isNaN(val)) {\n                    valueAccessor()(val);\n                }\n            });\n            valueAccessor().subscribe(function(value) {\n                var str = JSON.stringify(value);\n                if ((str == \"0\") && ([\"-0\", \"-0.\"].indexOf(stringified()) >= 0))\n                     return;\n                 if ([\"null\", \"\"].indexOf(str) >= 0)\n                     return;\n                stringified(str);\n            });\n            ko.applyBindingsToNode(\n                element,\n                {\n                    value: stringified,\n                    valueUpdate: allBindings.get('valueUpdate'),\n                },\n                context,\n            );\n        }\n    };\n    var json_data = {\"loading\":WebIO.getval({\"name\":\"loading\",\"scope\":\"2083045978238375240\",\"id\":\"11808509038400534899\",\"type\":\"observable\"}),\"clicks\":WebIO.getval({\"name\":\"clicks\",\"scope\":\"2083045978238375240\",\"id\":\"3830272362973502800\",\"type\":\"observable\"})};\n    var self = this;\n    function AppViewModel() {\n        for (var key in json_data) {\n            var el = json_data[key];\n            this[key] = Array.isArray(el) ? ko.observableArray(el) : ko.observable(el);\n        }\n        \n        \n        [this[\"loading\"].subscribe((function (val){!(this.valueFromJulia[\"loading\"]) ? (WebIO.setval({\"name\":\"loading\",\"scope\":\"2083045978238375240\",\"id\":\"11808509038400534899\",\"type\":\"observable\"},val)) : undefined; return this.valueFromJulia[\"loading\"]=false}),self),this[\"clicks\"].subscribe((function (val){!(this.valueFromJulia[\"clicks\"]) ? (WebIO.setval({\"name\":\"clicks\",\"scope\":\"2083045978238375240\",\"id\":\"3830272362973502800\",\"type\":\"observable\"},val)) : undefined; return this.valueFromJulia[\"clicks\"]=false}),self)]\n        \n    }\n    self.model = new AppViewModel();\n    self.valueFromJulia = {};\n    for (var key in json_data) {\n        self.valueFromJulia[key] = false;\n    }\n    ko.applyBindings(self.model, self.dom);\n}\n);\n    (WebIO.importBlock({\"data\":[{\"name\":\"knockout\",\"type\":\"js\",\"url\":\"/assetserver/727383f2a47bd31570b7da84eee7b022dd6d7c78-knockout.js\"},{\"name\":\"knockout_punches\",\"type\":\"js\",\"url\":\"/assetserver/382b41b3b1bd9f26f75861d360bad7f8beea211f-knockout_punches.js\"}],\"type\":\"async_block\"})).then((imports) => handler.apply(this, imports));\n}\n"
                  ],
                  "observables": {
                   "clicks": {
                    "id": "3830272362973502800",
                    "sync": true,
                    "value": 0
                   },
                   "loading": {
                    "id": "11808509038400534899",
                    "sync": false,
                    "value": false
                   }
                  },
                  "systemjs_options": null
                 },
                 "nodeType": "Scope",
                 "props": {},
                 "type": "node"
                }
               ],
               "instanceArgs": {
                "namespace": "html",
                "tag": "div"
               },
               "nodeType": "DOM",
               "props": {
                "className": "field interact-widget"
               },
               "type": "node"
              },
              {
               "children": [
                {
                 "children": [
                  {
                   "children": [],
                   "instanceArgs": {
                    "namespace": "html",
                    "tag": "div"
                   },
                   "nodeType": "DOM",
                   "props": {
                    "id": "container"
                   },
                   "type": "node"
                  }
                 ],
                 "instanceArgs": {
                  "handlers": {
                   "value": [
                    "(function (txt){return this.k.render(txt,this.container)})"
                   ]
                  },
                  "id": "15155723812437631898",
                  "imports": {
                   "data": [
                    {
                     "name": null,
                     "type": "js",
                     "url": "/assetserver/dd22ed1bf1896c2748f3fe616ce0b838adc895c1-katex.min.js"
                    },
                    {
                     "name": null,
                     "type": "css",
                     "url": "/assetserver/46517a424aa5e6cffc1360d7e0848b601c584ee3-katex.min.css"
                    }
                   ],
                   "type": "async_block"
                  },
                  "mount_callbacks": [
                   "function () {\n    var handler = ((function (k){this.k=k; this.container=this.dom.querySelector(\"#container\"); return k.render(\"\\\\;\\\\;\",this.container)}));\n    (WebIO.importBlock({\"data\":[{\"name\":null,\"type\":\"js\",\"url\":\"/assetserver/dd22ed1bf1896c2748f3fe616ce0b838adc895c1-katex.min.js\"},{\"name\":null,\"type\":\"css\",\"url\":\"/assetserver/46517a424aa5e6cffc1360d7e0848b601c584ee3-katex.min.css\"}],\"type\":\"async_block\"})).then((imports) => handler.apply(this, imports));\n}\n"
                  ],
                  "observables": {
                   "value": {
                    "id": "11080017874471824166",
                    "sync": false,
                    "value": "\\;\\;"
                   }
                  },
                  "systemjs_options": null
                 },
                 "nodeType": "Scope",
                 "props": {},
                 "type": "node"
                }
               ],
               "instanceArgs": {
                "namespace": "html",
                "tag": "div"
               },
               "nodeType": "DOM",
               "props": {
                "className": "interact-widget"
               },
               "type": "node"
              },
              {
               "children": [
                {
                 "children": [
                  {
                   "children": [
                    "stop"
                   ],
                   "instanceArgs": {
                    "namespace": "html",
                    "tag": "button"
                   },
                   "nodeType": "DOM",
                   "props": {
                    "attributes": {
                     "data-bind": "click: function (){this.clicks(this.clicks()+1)}, css: {'is-loading' : loading}"
                    },
                    "className": "is-medium button is-primary",
                    "style": {}
                   },
                   "type": "node"
                  }
                 ],
                 "instanceArgs": {
                  "handlers": {
                   "clicks": [
                    "(function (val){return (val!=this.model[\"clicks\"]()) ? (this.valueFromJulia[\"clicks\"]=true, this.model[\"clicks\"](val)) : undefined})"
                   ],
                   "loading": [
                    "(function (val){return (val!=this.model[\"loading\"]()) ? (this.valueFromJulia[\"loading\"]=true, this.model[\"loading\"](val)) : undefined})"
                   ]
                  },
                  "id": "16866994390630665286",
                  "imports": {
                   "data": [
                    {
                     "name": "knockout",
                     "type": "js",
                     "url": "/assetserver/727383f2a47bd31570b7da84eee7b022dd6d7c78-knockout.js"
                    },
                    {
                     "name": "knockout_punches",
                     "type": "js",
                     "url": "/assetserver/382b41b3b1bd9f26f75861d360bad7f8beea211f-knockout_punches.js"
                    },
                    {
                     "name": null,
                     "type": "js",
                     "url": "/assetserver/5ab20f1060420992a9b82a65b735dee4d81ef413-all.js"
                    },
                    {
                     "name": null,
                     "type": "css",
                     "url": "/assetserver/1cc0ed62837210b80a182cc3676512f895dab686-style.css"
                    },
                    {
                     "name": null,
                     "type": "css",
                     "url": "/assetserver/2eee816f616df3549d7044d45e744fbf8d42bfa1-bulma_confined.min.css"
                    }
                   ],
                   "type": "async_block"
                  },
                  "mount_callbacks": [
                   "function () {\n    var handler = (function (ko, koPunches) {\n    ko.punches.enableAll();\n    ko.bindingHandlers.numericValue = {\n        init: function(element, valueAccessor, allBindings, data, context) {\n            var stringified = ko.observable(ko.unwrap(valueAccessor()));\n            stringified.subscribe(function(value) {\n                var val = parseFloat(value);\n                if (!isNaN(val)) {\n                    valueAccessor()(val);\n                }\n            });\n            valueAccessor().subscribe(function(value) {\n                var str = JSON.stringify(value);\n                if ((str == \"0\") && ([\"-0\", \"-0.\"].indexOf(stringified()) >= 0))\n                     return;\n                 if ([\"null\", \"\"].indexOf(str) >= 0)\n                     return;\n                stringified(str);\n            });\n            ko.applyBindingsToNode(\n                element,\n                {\n                    value: stringified,\n                    valueUpdate: allBindings.get('valueUpdate'),\n                },\n                context,\n            );\n        }\n    };\n    var json_data = {\"loading\":WebIO.getval({\"name\":\"loading\",\"scope\":\"16866994390630665286\",\"id\":\"3758046953773732975\",\"type\":\"observable\"}),\"clicks\":WebIO.getval({\"name\":\"clicks\",\"scope\":\"16866994390630665286\",\"id\":\"4084128795262565637\",\"type\":\"observable\"})};\n    var self = this;\n    function AppViewModel() {\n        for (var key in json_data) {\n            var el = json_data[key];\n            this[key] = Array.isArray(el) ? ko.observableArray(el) : ko.observable(el);\n        }\n        \n        \n        [this[\"loading\"].subscribe((function (val){!(this.valueFromJulia[\"loading\"]) ? (WebIO.setval({\"name\":\"loading\",\"scope\":\"16866994390630665286\",\"id\":\"3758046953773732975\",\"type\":\"observable\"},val)) : undefined; return this.valueFromJulia[\"loading\"]=false}),self),this[\"clicks\"].subscribe((function (val){!(this.valueFromJulia[\"clicks\"]) ? (WebIO.setval({\"name\":\"clicks\",\"scope\":\"16866994390630665286\",\"id\":\"4084128795262565637\",\"type\":\"observable\"},val)) : undefined; return this.valueFromJulia[\"clicks\"]=false}),self)]\n        \n    }\n    self.model = new AppViewModel();\n    self.valueFromJulia = {};\n    for (var key in json_data) {\n        self.valueFromJulia[key] = false;\n    }\n    ko.applyBindings(self.model, self.dom);\n}\n);\n    (WebIO.importBlock({\"data\":[{\"name\":\"knockout\",\"type\":\"js\",\"url\":\"/assetserver/727383f2a47bd31570b7da84eee7b022dd6d7c78-knockout.js\"},{\"name\":\"knockout_punches\",\"type\":\"js\",\"url\":\"/assetserver/382b41b3b1bd9f26f75861d360bad7f8beea211f-knockout_punches.js\"}],\"type\":\"async_block\"})).then((imports) => handler.apply(this, imports));\n}\n"
                  ],
                  "observables": {
                   "clicks": {
                    "id": "4084128795262565637",
                    "sync": true,
                    "value": 0
                   },
                   "loading": {
                    "id": "3758046953773732975",
                    "sync": false,
                    "value": false
                   }
                  },
                  "systemjs_options": null
                 },
                 "nodeType": "Scope",
                 "props": {},
                 "type": "node"
                }
               ],
               "instanceArgs": {
                "namespace": "html",
                "tag": "div"
               },
               "nodeType": "DOM",
               "props": {
                "className": "field interact-widget"
               },
               "type": "node"
              },
              {
               "children": [
                {
                 "children": [
                  {
                   "children": [],
                   "instanceArgs": {
                    "namespace": "html",
                    "tag": "div"
                   },
                   "nodeType": "DOM",
                   "props": {
                    "id": "container"
                   },
                   "type": "node"
                  }
                 ],
                 "instanceArgs": {
                  "handlers": {
                   "value": [
                    "(function (txt){return this.k.render(txt,this.container)})"
                   ]
                  },
                  "id": "15155723812437631898",
                  "imports": {
                   "data": [
                    {
                     "name": null,
                     "type": "js",
                     "url": "/assetserver/dd22ed1bf1896c2748f3fe616ce0b838adc895c1-katex.min.js"
                    },
                    {
                     "name": null,
                     "type": "css",
                     "url": "/assetserver/46517a424aa5e6cffc1360d7e0848b601c584ee3-katex.min.css"
                    }
                   ],
                   "type": "async_block"
                  },
                  "mount_callbacks": [
                   "function () {\n    var handler = ((function (k){this.k=k; this.container=this.dom.querySelector(\"#container\"); return k.render(\"\\\\;\\\\;\",this.container)}));\n    (WebIO.importBlock({\"data\":[{\"name\":null,\"type\":\"js\",\"url\":\"/assetserver/dd22ed1bf1896c2748f3fe616ce0b838adc895c1-katex.min.js\"},{\"name\":null,\"type\":\"css\",\"url\":\"/assetserver/46517a424aa5e6cffc1360d7e0848b601c584ee3-katex.min.css\"}],\"type\":\"async_block\"})).then((imports) => handler.apply(this, imports));\n}\n"
                  ],
                  "observables": {
                   "value": {
                    "id": "11080017874471824166",
                    "sync": false,
                    "value": "\\;\\;"
                   }
                  },
                  "systemjs_options": null
                 },
                 "nodeType": "Scope",
                 "props": {},
                 "type": "node"
                }
               ],
               "instanceArgs": {
                "namespace": "html",
                "tag": "div"
               },
               "nodeType": "DOM",
               "props": {
                "className": "interact-widget"
               },
               "type": "node"
              },
              {
               "children": [
                {
                 "children": [
                  {
                   "children": [
                    "reset"
                   ],
                   "instanceArgs": {
                    "namespace": "html",
                    "tag": "button"
                   },
                   "nodeType": "DOM",
                   "props": {
                    "attributes": {
                     "data-bind": "click: function (){this.clicks(this.clicks()+1)}, css: {'is-loading' : loading}"
                    },
                    "className": "is-medium button is-primary",
                    "style": {}
                   },
                   "type": "node"
                  }
                 ],
                 "instanceArgs": {
                  "handlers": {
                   "clicks": [
                    "(function (val){return (val!=this.model[\"clicks\"]()) ? (this.valueFromJulia[\"clicks\"]=true, this.model[\"clicks\"](val)) : undefined})"
                   ],
                   "loading": [
                    "(function (val){return (val!=this.model[\"loading\"]()) ? (this.valueFromJulia[\"loading\"]=true, this.model[\"loading\"](val)) : undefined})"
                   ]
                  },
                  "id": "17320944422252559906",
                  "imports": {
                   "data": [
                    {
                     "name": "knockout",
                     "type": "js",
                     "url": "/assetserver/727383f2a47bd31570b7da84eee7b022dd6d7c78-knockout.js"
                    },
                    {
                     "name": "knockout_punches",
                     "type": "js",
                     "url": "/assetserver/382b41b3b1bd9f26f75861d360bad7f8beea211f-knockout_punches.js"
                    },
                    {
                     "name": null,
                     "type": "js",
                     "url": "/assetserver/5ab20f1060420992a9b82a65b735dee4d81ef413-all.js"
                    },
                    {
                     "name": null,
                     "type": "css",
                     "url": "/assetserver/1cc0ed62837210b80a182cc3676512f895dab686-style.css"
                    },
                    {
                     "name": null,
                     "type": "css",
                     "url": "/assetserver/2eee816f616df3549d7044d45e744fbf8d42bfa1-bulma_confined.min.css"
                    }
                   ],
                   "type": "async_block"
                  },
                  "mount_callbacks": [
                   "function () {\n    var handler = (function (ko, koPunches) {\n    ko.punches.enableAll();\n    ko.bindingHandlers.numericValue = {\n        init: function(element, valueAccessor, allBindings, data, context) {\n            var stringified = ko.observable(ko.unwrap(valueAccessor()));\n            stringified.subscribe(function(value) {\n                var val = parseFloat(value);\n                if (!isNaN(val)) {\n                    valueAccessor()(val);\n                }\n            });\n            valueAccessor().subscribe(function(value) {\n                var str = JSON.stringify(value);\n                if ((str == \"0\") && ([\"-0\", \"-0.\"].indexOf(stringified()) >= 0))\n                     return;\n                 if ([\"null\", \"\"].indexOf(str) >= 0)\n                     return;\n                stringified(str);\n            });\n            ko.applyBindingsToNode(\n                element,\n                {\n                    value: stringified,\n                    valueUpdate: allBindings.get('valueUpdate'),\n                },\n                context,\n            );\n        }\n    };\n    var json_data = {\"loading\":WebIO.getval({\"name\":\"loading\",\"scope\":\"17320944422252559906\",\"id\":\"13471163810146355128\",\"type\":\"observable\"}),\"clicks\":WebIO.getval({\"name\":\"clicks\",\"scope\":\"17320944422252559906\",\"id\":\"3529442354368749459\",\"type\":\"observable\"})};\n    var self = this;\n    function AppViewModel() {\n        for (var key in json_data) {\n            var el = json_data[key];\n            this[key] = Array.isArray(el) ? ko.observableArray(el) : ko.observable(el);\n        }\n        \n        \n        [this[\"loading\"].subscribe((function (val){!(this.valueFromJulia[\"loading\"]) ? (WebIO.setval({\"name\":\"loading\",\"scope\":\"17320944422252559906\",\"id\":\"13471163810146355128\",\"type\":\"observable\"},val)) : undefined; return this.valueFromJulia[\"loading\"]=false}),self),this[\"clicks\"].subscribe((function (val){!(this.valueFromJulia[\"clicks\"]) ? (WebIO.setval({\"name\":\"clicks\",\"scope\":\"17320944422252559906\",\"id\":\"3529442354368749459\",\"type\":\"observable\"},val)) : undefined; return this.valueFromJulia[\"clicks\"]=false}),self)]\n        \n    }\n    self.model = new AppViewModel();\n    self.valueFromJulia = {};\n    for (var key in json_data) {\n        self.valueFromJulia[key] = false;\n    }\n    ko.applyBindings(self.model, self.dom);\n}\n);\n    (WebIO.importBlock({\"data\":[{\"name\":\"knockout\",\"type\":\"js\",\"url\":\"/assetserver/727383f2a47bd31570b7da84eee7b022dd6d7c78-knockout.js\"},{\"name\":\"knockout_punches\",\"type\":\"js\",\"url\":\"/assetserver/382b41b3b1bd9f26f75861d360bad7f8beea211f-knockout_punches.js\"}],\"type\":\"async_block\"})).then((imports) => handler.apply(this, imports));\n}\n"
                  ],
                  "observables": {
                   "clicks": {
                    "id": "3529442354368749459",
                    "sync": true,
                    "value": 0
                   },
                   "loading": {
                    "id": "13471163810146355128",
                    "sync": false,
                    "value": false
                   }
                  },
                  "systemjs_options": null
                 },
                 "nodeType": "Scope",
                 "props": {},
                 "type": "node"
                }
               ],
               "instanceArgs": {
                "namespace": "html",
                "tag": "div"
               },
               "nodeType": "DOM",
               "props": {
                "className": "field interact-widget"
               },
               "type": "node"
              }
             ],
             "instanceArgs": {
              "namespace": "html",
              "tag": "div"
             },
             "nodeType": "DOM",
             "props": {
              "style": {
               "display": "flex",
               "flex-direction": "row"
              }
             },
             "type": "node"
            }
           ],
           "instanceArgs": {
            "namespace": "html",
            "tag": "div"
           },
           "nodeType": "DOM",
           "props": {
            "style": {
             "display": "flex",
             "flex-direction": "column"
            }
           },
           "type": "node"
          },
          {
           "children": [
            {
             "children": [],
             "instanceArgs": {
              "namespace": "html",
              "tag": "div"
             },
             "nodeType": "DOM",
             "props": {
              "className": "webio-observable",
              "setInnerHtml": "    <div style=\"height: 500px; width: 100%; overflow-x: auto; overflow-y: hidden; resize: both\">\n    <iframe src=\"http://127.0.0.1:8701\" style=\"width: 100%; height: 100%; border: none\"></iframe>\n    </div>\n"
             },
             "type": "node"
            }
           ],
           "instanceArgs": {
            "handlers": {
             "obs-output": [
              "function (value, scope) {\n    scope.setInnerHTML(value);\n}\n"
             ]
            },
            "id": "4582611843662340727",
            "imports": {
             "data": [],
             "type": "async_block"
            },
            "mount_callbacks": [],
            "observables": {
             "obs-output": {
              "id": "13034366153314910017",
              "sync": false,
              "value": "    <div style=\"height: 500px; width: 100%; overflow-x: auto; overflow-y: hidden; resize: both\">\n    <iframe src=\"http://127.0.0.1:8701\" style=\"width: 100%; height: 100%; border: none\"></iframe>\n    </div>\n"
             }
            },
            "systemjs_options": null
           },
           "nodeType": "Scope",
           "props": {},
           "type": "node"
          },
          {
           "children": [
            {
             "children": [
              {
               "children": [],
               "instanceArgs": {
                "namespace": "html",
                "tag": "div"
               },
               "nodeType": "DOM",
               "props": {
                "id": "container"
               },
               "type": "node"
              }
             ],
             "instanceArgs": {
              "handlers": {
               "value": [
                "(function (txt){return this.k.render(txt,this.container)})"
               ]
              },
              "id": "15155723812437631898",
              "imports": {
               "data": [
                {
                 "name": null,
                 "type": "js",
                 "url": "/assetserver/dd22ed1bf1896c2748f3fe616ce0b838adc895c1-katex.min.js"
                },
                {
                 "name": null,
                 "type": "css",
                 "url": "/assetserver/46517a424aa5e6cffc1360d7e0848b601c584ee3-katex.min.css"
                }
               ],
               "type": "async_block"
              },
              "mount_callbacks": [
               "function () {\n    var handler = ((function (k){this.k=k; this.container=this.dom.querySelector(\"#container\"); return k.render(\"\\\\;\\\\;\",this.container)}));\n    (WebIO.importBlock({\"data\":[{\"name\":null,\"type\":\"js\",\"url\":\"/assetserver/dd22ed1bf1896c2748f3fe616ce0b838adc895c1-katex.min.js\"},{\"name\":null,\"type\":\"css\",\"url\":\"/assetserver/46517a424aa5e6cffc1360d7e0848b601c584ee3-katex.min.css\"}],\"type\":\"async_block\"})).then((imports) => handler.apply(this, imports));\n}\n"
              ],
              "observables": {
               "value": {
                "id": "11080017874471824166",
                "sync": false,
                "value": "\\;\\;"
               }
              },
              "systemjs_options": null
             },
             "nodeType": "Scope",
             "props": {},
             "type": "node"
            }
           ],
           "instanceArgs": {
            "namespace": "html",
            "tag": "div"
           },
           "nodeType": "DOM",
           "props": {
            "className": "interact-widget"
           },
           "type": "node"
          },
          {
           "children": [
            {
             "children": [
              {
               "children": [],
               "instanceArgs": {
                "namespace": "html",
                "tag": "div"
               },
               "nodeType": "DOM",
               "props": {
                "className": "webio-observable",
                "setInnerHtml": "<img src=\"data:image/png;base64,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\" />"
               },
               "type": "node"
              }
             ],
             "instanceArgs": {
              "handlers": {
               "obs-output": [
                "function (value, scope) {\n    scope.setInnerHTML(value);\n}\n"
               ]
              },
              "id": "10520977955762266113",
              "imports": {
               "data": [],
               "type": "async_block"
              },
              "mount_callbacks": [],
              "observables": {
               "obs-output": {
                "id": "16790732659868696694",
                "sync": false,
                "value": "<img src=\"data:image/png;base64,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\" />"
               }
              },
              "systemjs_options": null
             },
             "nodeType": "Scope",
             "props": {},
             "type": "node"
            }
           ],
           "instanceArgs": {
            "namespace": "html",
            "tag": "div"
           },
           "nodeType": "DOM",
           "props": {
            "style": {
             "display": "flex",
             "flex-direction": "column"
            }
           },
           "type": "node"
          }
         ],
         "instanceArgs": {
          "namespace": "html",
          "tag": "div"
         },
         "nodeType": "DOM",
         "props": {
          "style": {
           "display": "flex",
           "flex-direction": "row"
          }
         },
         "type": "node"
        }
       ],
       "instanceArgs": {
        "namespace": "html",
        "tag": "div"
       },
       "nodeType": "DOM",
       "props": {
        "style": {
         "display": "flex",
         "flex-direction": "column"
        }
       },
       "type": "node"
      },
      "text/html": [
       "<div\n",
       "    class=\"webio-mountpoint\"\n",
       "    data-webio-mountpoint=\"7740576805175131003\"\n",
       ">\n",
       "    <script>\n",
       "    (function(){\n",
       "    // Some integrations (namely, IJulia/Jupyter) use an alternate render pathway than\n",
       "    // just putting the html on the page. If WebIO isn't defined, then it's pretty likely\n",
       "    // that we're in one of those situations and the integration just isn't installed\n",
       "    // correctly.\n",
       "    if (typeof window.WebIO === \"undefined\") {\n",
       "        document\n",
       "            .querySelector('[data-webio-mountpoint=\"7740576805175131003\"]')\n",
       "            .innerHTML = (\n",
       "                '<div style=\"padding: 1em; background-color: #f8d6da; border: 1px solid #f5c6cb; font-weight: bold;\">' +\n",
       "                '<p><strong>WebIO not detected.</strong></p>' +\n",
       "                '<p>Please read ' +\n",
       "                '<a href=\"https://juliagizmos.github.io/WebIO.jl/latest/troubleshooting/not-detected/\" target=\"_blank\">the troubleshooting guide</a> ' +\n",
       "                'for more information on how to resolve this issue.</p>' +\n",
       "                '<p><a href=\"https://juliagizmos.github.io/WebIO.jl/latest/troubleshooting/not-detected/\" target=\"_blank\">https://juliagizmos.github.io/WebIO.jl/latest/troubleshooting/not-detected/</a></p>' +\n",
       "                '</div>'\n",
       "            );\n",
       "        return;\n",
       "    }\n",
       "    WebIO.mount(\n",
       "        document.querySelector('[data-webio-mountpoint=\"7740576805175131003\"]'),\n",
       "        {\"props\":{\"style\":{\"display\":\"flex\",\"flex-direction\":\"column\"}},\"nodeType\":\"DOM\",\"type\":\"node\",\"instanceArgs\":{\"namespace\":\"html\",\"tag\":\"div\"},\"children\":[{\"props\":{\"style\":{\"display\":\"flex\",\"flex-direction\":\"row\"}},\"nodeType\":\"DOM\",\"type\":\"node\",\"instanceArgs\":{\"namespace\":\"html\",\"tag\":\"div\"},\"children\":[{\"props\":{\"style\":{\"display\":\"flex\",\"flex-direction\":\"column\"}},\"nodeType\":\"DOM\",\"type\":\"node\",\"instanceArgs\":{\"namespace\":\"html\",\"tag\":\"div\"},\"children\":[{\"props\":{\"className\":\"field interact-widget\"},\"nodeType\":\"DOM\",\"type\":\"node\",\"instanceArgs\":{\"namespace\":\"html\",\"tag\":\"div\"},\"children\":[{\"props\":{},\"nodeType\":\"Scope\",\"type\":\"node\",\"instanceArgs\":{\"imports\":{\"data\":[{\"name\":\"knockout\",\"type\":\"js\",\"url\":\"\\/assetserver\\/727383f2a47bd31570b7da84eee7b022dd6d7c78-knockout.js\"},{\"name\":\"knockout_punches\",\"type\":\"js\",\"url\":\"\\/assetserver\\/382b41b3b1bd9f26f75861d360bad7f8beea211f-knockout_punches.js\"},{\"name\":null,\"type\":\"js\",\"url\":\"\\/assetserver\\/5ab20f1060420992a9b82a65b735dee4d81ef413-all.js\"},{\"name\":null,\"type\":\"css\",\"url\":\"\\/assetserver\\/1cc0ed62837210b80a182cc3676512f895dab686-style.css\"},{\"name\":null,\"type\":\"css\",\"url\":\"\\/assetserver\\/2eee816f616df3549d7044d45e744fbf8d42bfa1-bulma_confined.min.css\"}],\"type\":\"async_block\"},\"id\":\"10258479415669740413\",\"handlers\":{\"changes\":[\"(function (val){return (val!=this.model[\\\"changes\\\"]()) ? (this.valueFromJulia[\\\"changes\\\"]=true, this.model[\\\"changes\\\"](val)) : undefined})\"],\"index\":[\"(function (val){return (val!=this.model[\\\"index\\\"]()) ? (this.valueFromJulia[\\\"index\\\"]=true, this.model[\\\"index\\\"](val)) : undefined})\"]},\"systemjs_options\":null,\"mount_callbacks\":[\"function () {\\n    var handler = (function (ko, koPunches) {\\n    ko.punches.enableAll();\\n    ko.bindingHandlers.numericValue = {\\n        init: function(element, valueAccessor, allBindings, data, context) {\\n            var stringified = ko.observable(ko.unwrap(valueAccessor()));\\n            stringified.subscribe(function(value) {\\n                var val = parseFloat(value);\\n                if (!isNaN(val)) {\\n                    valueAccessor()(val);\\n                }\\n            });\\n            valueAccessor().subscribe(function(value) {\\n                var str = JSON.stringify(value);\\n                if ((str == \\\"0\\\") && ([\\\"-0\\\", \\\"-0.\\\"].indexOf(stringified()) >= 0))\\n                     return;\\n                 if ([\\\"null\\\", \\\"\\\"].indexOf(str) >= 0)\\n                     return;\\n                stringified(str);\\n            });\\n            ko.applyBindingsToNode(\\n                element,\\n                {\\n                    value: stringified,\\n                    valueUpdate: allBindings.get('valueUpdate'),\\n                },\\n                context,\\n            );\\n        }\\n    };\\n    var json_data = {\\\"formatted_vals\\\":[\\\"1\\\",\\\"2\\\",\\\"3\\\",\\\"4\\\",\\\"5\\\",\\\"6\\\",\\\"7\\\",\\\"8\\\",\\\"9\\\",\\\"10\\\",\\\"11\\\",\\\"12\\\",\\\"13\\\",\\\"14\\\",\\\"15\\\",\\\"16\\\",\\\"17\\\",\\\"18\\\",\\\"19\\\",\\\"20\\\",\\\"21\\\",\\\"22\\\",\\\"23\\\",\\\"24\\\",\\\"25\\\",\\\"26\\\",\\\"27\\\",\\\"28\\\",\\\"29\\\",\\\"30\\\",\\\"31\\\",\\\"32\\\",\\\"33\\\",\\\"34\\\",\\\"35\\\",\\\"36\\\",\\\"37\\\",\\\"38\\\",\\\"39\\\",\\\"40\\\",\\\"41\\\",\\\"42\\\",\\\"43\\\",\\\"44\\\",\\\"45\\\",\\\"46\\\",\\\"47\\\",\\\"48\\\",\\\"49\\\",\\\"50\\\",\\\"51\\\",\\\"52\\\",\\\"53\\\",\\\"54\\\",\\\"55\\\",\\\"56\\\",\\\"57\\\",\\\"58\\\",\\\"59\\\",\\\"60\\\",\\\"61\\\",\\\"62\\\",\\\"63\\\",\\\"64\\\",\\\"65\\\",\\\"66\\\",\\\"67\\\",\\\"68\\\",\\\"69\\\",\\\"70\\\",\\\"71\\\",\\\"72\\\",\\\"73\\\",\\\"74\\\",\\\"75\\\",\\\"76\\\",\\\"77\\\",\\\"78\\\",\\\"79\\\",\\\"80\\\",\\\"81\\\",\\\"82\\\",\\\"83\\\",\\\"84\\\",\\\"85\\\",\\\"86\\\",\\\"87\\\",\\\"88\\\",\\\"89\\\",\\\"90\\\",\\\"91\\\",\\\"92\\\",\\\"93\\\",\\\"94\\\",\\\"95\\\",\\\"96\\\",\\\"97\\\",\\\"98\\\",\\\"99\\\",\\\"100\\\"],\\\"changes\\\":WebIO.getval({\\\"name\\\":\\\"changes\\\",\\\"scope\\\":\\\"10258479415669740413\\\",\\\"id\\\":\\\"11541358685889468826\\\",\\\"type\\\":\\\"observable\\\"}),\\\"index\\\":WebIO.getval({\\\"name\\\":\\\"index\\\",\\\"scope\\\":\\\"10258479415669740413\\\",\\\"id\\\":\\\"7142534577498101358\\\",\\\"type\\\":\\\"observable\\\"})};\\n    var self = this;\\n    function AppViewModel() {\\n        for (var key in json_data) {\\n            var el = json_data[key];\\n            this[key] = Array.isArray(el) ? ko.observableArray(el) : ko.observable(el);\\n        }\\n        \\n        [this[\\\"formatted_val\\\"]=ko.computed(    function(){\\n        return this.formatted_vals()[parseInt(this.index())-(1)];\\n    }\\n,this)]\\n        [this[\\\"changes\\\"].subscribe((function (val){!(this.valueFromJulia[\\\"changes\\\"]) ? (WebIO.setval({\\\"name\\\":\\\"changes\\\",\\\"scope\\\":\\\"10258479415669740413\\\",\\\"id\\\":\\\"11541358685889468826\\\",\\\"type\\\":\\\"observable\\\"},val)) : undefined; return this.valueFromJulia[\\\"changes\\\"]=false}),self),this[\\\"index\\\"].subscribe((function (val){!(this.valueFromJulia[\\\"index\\\"]) ? (WebIO.setval({\\\"name\\\":\\\"index\\\",\\\"scope\\\":\\\"10258479415669740413\\\",\\\"id\\\":\\\"7142534577498101358\\\",\\\"type\\\":\\\"observable\\\"},val)) : undefined; return this.valueFromJulia[\\\"index\\\"]=false}),self)]\\n        \\n    }\\n    self.model = new AppViewModel();\\n    self.valueFromJulia = {};\\n    for (var key in json_data) {\\n        self.valueFromJulia[key] = false;\\n    }\\n    ko.applyBindings(self.model, self.dom);\\n}\\n);\\n    (WebIO.importBlock({\\\"data\\\":[{\\\"name\\\":\\\"knockout\\\",\\\"type\\\":\\\"js\\\",\\\"url\\\":\\\"\\/assetserver\\/727383f2a47bd31570b7da84eee7b022dd6d7c78-knockout.js\\\"},{\\\"name\\\":\\\"knockout_punches\\\",\\\"type\\\":\\\"js\\\",\\\"url\\\":\\\"\\/assetserver\\/382b41b3b1bd9f26f75861d360bad7f8beea211f-knockout_punches.js\\\"}],\\\"type\\\":\\\"async_block\\\"})).then((imports) => handler.apply(this, imports));\\n}\\n\"],\"observables\":{\"changes\":{\"sync\":false,\"id\":\"11541358685889468826\",\"value\":0},\"index\":{\"sync\":true,\"id\":\"7142534577498101358\",\"value\":1}}},\"children\":[{\"props\":{\"className\":\"interact-flex-row interact-widget\"},\"nodeType\":\"DOM\",\"type\":\"node\",\"instanceArgs\":{\"namespace\":\"html\",\"tag\":\"div\"},\"children\":[{\"props\":{\"className\":\"interact-flex-row-left\"},\"nodeType\":\"DOM\",\"type\":\"node\",\"instanceArgs\":{\"namespace\":\"html\",\"tag\":\"div\"},\"children\":[{\"props\":{\"className\":\"interact \",\"style\":{\"padding\":\"5px 10px 0px 10px\"}},\"nodeType\":\"DOM\",\"type\":\"node\",\"instanceArgs\":{\"namespace\":\"html\",\"tag\":\"label\"},\"children\":[\"time\"]}]},{\"props\":{\"className\":\"interact-flex-row-center\"},\"nodeType\":\"DOM\",\"type\":\"node\",\"instanceArgs\":{\"namespace\":\"html\",\"tag\":\"div\"},\"children\":[{\"props\":{\"max\":100,\"min\":1,\"attributes\":{\"type\":\"range\",\"data-bind\":\"numericValue: index, valueUpdate: 'input', event: {change: function (){this.changes(this.changes()+1)}}\",\"orient\":\"horizontal\"},\"step\":1,\"className\":\"slider slider is-fullwidth\",\"style\":{}},\"nodeType\":\"DOM\",\"type\":\"node\",\"instanceArgs\":{\"namespace\":\"html\",\"tag\":\"input\"},\"children\":[]}]},{\"props\":{\"className\":\"interact-flex-row-right\"},\"nodeType\":\"DOM\",\"type\":\"node\",\"instanceArgs\":{\"namespace\":\"html\",\"tag\":\"div\"},\"children\":[{\"props\":{\"attributes\":{\"data-bind\":\"text: formatted_val\"}},\"nodeType\":\"DOM\",\"type\":\"node\",\"instanceArgs\":{\"namespace\":\"html\",\"tag\":\"p\"},\"children\":[]}]}]}]}]},{\"props\":{\"className\":\"field interact-widget\"},\"nodeType\":\"DOM\",\"type\":\"node\",\"instanceArgs\":{\"namespace\":\"html\",\"tag\":\"div\"},\"children\":[{\"props\":{},\"nodeType\":\"Scope\",\"type\":\"node\",\"instanceArgs\":{\"imports\":{\"data\":[{\"name\":\"knockout\",\"type\":\"js\",\"url\":\"\\/assetserver\\/727383f2a47bd31570b7da84eee7b022dd6d7c78-knockout.js\"},{\"name\":\"knockout_punches\",\"type\":\"js\",\"url\":\"\\/assetserver\\/382b41b3b1bd9f26f75861d360bad7f8beea211f-knockout_punches.js\"},{\"name\":null,\"type\":\"js\",\"url\":\"\\/assetserver\\/5ab20f1060420992a9b82a65b735dee4d81ef413-all.js\"},{\"name\":null,\"type\":\"css\",\"url\":\"\\/assetserver\\/1cc0ed62837210b80a182cc3676512f895dab686-style.css\"},{\"name\":null,\"type\":\"css\",\"url\":\"\\/assetserver\\/2eee816f616df3549d7044d45e744fbf8d42bfa1-bulma_confined.min.css\"}],\"type\":\"async_block\"},\"id\":\"16392149104733727859\",\"handlers\":{\"changes\":[\"(function (val){return (val!=this.model[\\\"changes\\\"]()) ? (this.valueFromJulia[\\\"changes\\\"]=true, this.model[\\\"changes\\\"](val)) : undefined})\"],\"index\":[\"(function (val){return (val!=this.model[\\\"index\\\"]()) ? (this.valueFromJulia[\\\"index\\\"]=true, this.model[\\\"index\\\"](val)) : undefined})\"]},\"systemjs_options\":null,\"mount_callbacks\":[\"function () {\\n    var handler = (function (ko, koPunches) {\\n    ko.punches.enableAll();\\n    ko.bindingHandlers.numericValue = {\\n        init: function(element, valueAccessor, allBindings, data, context) {\\n            var stringified = ko.observable(ko.unwrap(valueAccessor()));\\n            stringified.subscribe(function(value) {\\n                var val = parseFloat(value);\\n                if (!isNaN(val)) {\\n                    valueAccessor()(val);\\n                }\\n            });\\n            valueAccessor().subscribe(function(value) {\\n                var str = JSON.stringify(value);\\n                if ((str == \\\"0\\\") && ([\\\"-0\\\", \\\"-0.\\\"].indexOf(stringified()) >= 0))\\n                     return;\\n                 if ([\\\"null\\\", \\\"\\\"].indexOf(str) >= 0)\\n                     return;\\n                stringified(str);\\n            });\\n            ko.applyBindingsToNode(\\n                element,\\n                {\\n                    value: stringified,\\n                    valueUpdate: allBindings.get('valueUpdate'),\\n                },\\n                context,\\n            );\\n        }\\n    };\\n    var json_data = {\\\"formatted_vals\\\":[\\\"0.1\\\",\\\"0.2\\\",\\\"0.3\\\",\\\"0.4\\\",\\\"0.5\\\",\\\"0.6\\\",\\\"0.7\\\",\\\"0.8\\\",\\\"0.9\\\",\\\"1.0\\\",\\\"1.1\\\",\\\"1.2\\\",\\\"1.3\\\",\\\"1.4\\\",\\\"1.5\\\",\\\"1.6\\\",\\\"1.7\\\",\\\"1.8\\\",\\\"1.9\\\",\\\"2.0\\\"],\\\"changes\\\":WebIO.getval({\\\"name\\\":\\\"changes\\\",\\\"scope\\\":\\\"16392149104733727859\\\",\\\"id\\\":\\\"5487759554619206363\\\",\\\"type\\\":\\\"observable\\\"}),\\\"index\\\":WebIO.getval({\\\"name\\\":\\\"index\\\",\\\"scope\\\":\\\"16392149104733727859\\\",\\\"id\\\":\\\"2994690289075158276\\\",\\\"type\\\":\\\"observable\\\"})};\\n    var self = this;\\n    function AppViewModel() {\\n        for (var key in json_data) {\\n            var el = json_data[key];\\n            this[key] = Array.isArray(el) ? ko.observableArray(el) : ko.observable(el);\\n        }\\n        \\n        [this[\\\"formatted_val\\\"]=ko.computed(    function(){\\n        return this.formatted_vals()[parseInt(this.index())-(1)];\\n    }\\n,this)]\\n        [this[\\\"changes\\\"].subscribe((function (val){!(this.valueFromJulia[\\\"changes\\\"]) ? (WebIO.setval({\\\"name\\\":\\\"changes\\\",\\\"scope\\\":\\\"16392149104733727859\\\",\\\"id\\\":\\\"5487759554619206363\\\",\\\"type\\\":\\\"observable\\\"},val)) : undefined; return this.valueFromJulia[\\\"changes\\\"]=false}),self),this[\\\"index\\\"].subscribe((function (val){!(this.valueFromJulia[\\\"index\\\"]) ? (WebIO.setval({\\\"name\\\":\\\"index\\\",\\\"scope\\\":\\\"16392149104733727859\\\",\\\"id\\\":\\\"2994690289075158276\\\",\\\"type\\\":\\\"observable\\\"},val)) : undefined; return this.valueFromJulia[\\\"index\\\"]=false}),self)]\\n        \\n    }\\n    self.model = new AppViewModel();\\n    self.valueFromJulia = {};\\n    for (var key in json_data) {\\n        self.valueFromJulia[key] = false;\\n    }\\n    ko.applyBindings(self.model, self.dom);\\n}\\n);\\n    (WebIO.importBlock({\\\"data\\\":[{\\\"name\\\":\\\"knockout\\\",\\\"type\\\":\\\"js\\\",\\\"url\\\":\\\"\\/assetserver\\/727383f2a47bd31570b7da84eee7b022dd6d7c78-knockout.js\\\"},{\\\"name\\\":\\\"knockout_punches\\\",\\\"type\\\":\\\"js\\\",\\\"url\\\":\\\"\\/assetserver\\/382b41b3b1bd9f26f75861d360bad7f8beea211f-knockout_punches.js\\\"}],\\\"type\\\":\\\"async_block\\\"})).then((imports) => handler.apply(this, imports));\\n}\\n\"],\"observables\":{\"changes\":{\"sync\":false,\"id\":\"5487759554619206363\",\"value\":0},\"index\":{\"sync\":true,\"id\":\"2994690289075158276\",\"value\":10}}},\"children\":[{\"props\":{\"className\":\"interact-flex-row interact-widget\"},\"nodeType\":\"DOM\",\"type\":\"node\",\"instanceArgs\":{\"namespace\":\"html\",\"tag\":\"div\"},\"children\":[{\"props\":{\"className\":\"interact-flex-row-left\"},\"nodeType\":\"DOM\",\"type\":\"node\",\"instanceArgs\":{\"namespace\":\"html\",\"tag\":\"div\"},\"children\":[{\"props\":{\"className\":\"interact \",\"style\":{\"padding\":\"5px 10px 0px 10px\"}},\"nodeType\":\"DOM\",\"type\":\"node\",\"instanceArgs\":{\"namespace\":\"html\",\"tag\":\"label\"},\"children\":[\"scale\"]}]},{\"props\":{\"className\":\"interact-flex-row-center\"},\"nodeType\":\"DOM\",\"type\":\"node\",\"instanceArgs\":{\"namespace\":\"html\",\"tag\":\"div\"},\"children\":[{\"props\":{\"max\":20,\"min\":1,\"attributes\":{\"type\":\"range\",\"data-bind\":\"numericValue: index, valueUpdate: 'input', event: {change: function (){this.changes(this.changes()+1)}}\",\"orient\":\"horizontal\"},\"step\":1,\"className\":\"slider slider is-fullwidth\",\"style\":{}},\"nodeType\":\"DOM\",\"type\":\"node\",\"instanceArgs\":{\"namespace\":\"html\",\"tag\":\"input\"},\"children\":[]}]},{\"props\":{\"className\":\"interact-flex-row-right\"},\"nodeType\":\"DOM\",\"type\":\"node\",\"instanceArgs\":{\"namespace\":\"html\",\"tag\":\"div\"},\"children\":[{\"props\":{\"attributes\":{\"data-bind\":\"text: formatted_val\"}},\"nodeType\":\"DOM\",\"type\":\"node\",\"instanceArgs\":{\"namespace\":\"html\",\"tag\":\"p\"},\"children\":[]}]}]}]}]},{\"props\":{\"style\":{\"display\":\"flex\",\"flex-direction\":\"column\"}},\"nodeType\":\"DOM\",\"type\":\"node\",\"instanceArgs\":{\"namespace\":\"html\",\"tag\":\"div\"},\"children\":[]},{\"props\":{\"style\":{\"display\":\"flex\",\"flex-direction\":\"column\"}},\"nodeType\":\"DOM\",\"type\":\"node\",\"instanceArgs\":{\"namespace\":\"html\",\"tag\":\"div\"},\"children\":[{\"props\":{\"className\":\"field interact-widget\"},\"nodeType\":\"DOM\",\"type\":\"node\",\"instanceArgs\":{\"namespace\":\"html\",\"tag\":\"div\"},\"children\":[{\"props\":{},\"nodeType\":\"Scope\",\"type\":\"node\",\"instanceArgs\":{\"imports\":{\"data\":[{\"name\":\"knockout\",\"type\":\"js\",\"url\":\"\\/assetserver\\/727383f2a47bd31570b7da84eee7b022dd6d7c78-knockout.js\"},{\"name\":\"knockout_punches\",\"type\":\"js\",\"url\":\"\\/assetserver\\/382b41b3b1bd9f26f75861d360bad7f8beea211f-knockout_punches.js\"},{\"name\":null,\"type\":\"js\",\"url\":\"\\/assetserver\\/5ab20f1060420992a9b82a65b735dee4d81ef413-all.js\"},{\"name\":null,\"type\":\"css\",\"url\":\"\\/assetserver\\/1cc0ed62837210b80a182cc3676512f895dab686-style.css\"},{\"name\":null,\"type\":\"css\",\"url\":\"\\/assetserver\\/2eee816f616df3549d7044d45e744fbf8d42bfa1-bulma_confined.min.css\"}],\"type\":\"async_block\"},\"id\":\"18149941216062870204\",\"handlers\":{\"changes\":[\"(function (val){return (val!=this.model[\\\"changes\\\"]()) ? (this.valueFromJulia[\\\"changes\\\"]=true, this.model[\\\"changes\\\"](val)) : undefined})\"],\"index\":[\"(function (val){return (val!=this.model[\\\"index\\\"]()) ? (this.valueFromJulia[\\\"index\\\"]=true, this.model[\\\"index\\\"](val)) : undefined})\"]},\"systemjs_options\":null,\"mount_callbacks\":[\"function () {\\n    var handler = (function (ko, koPunches) {\\n    ko.punches.enableAll();\\n    ko.bindingHandlers.numericValue = {\\n        init: function(element, valueAccessor, allBindings, data, context) {\\n            var stringified = ko.observable(ko.unwrap(valueAccessor()));\\n            stringified.subscribe(function(value) {\\n                var val = parseFloat(value);\\n                if (!isNaN(val)) {\\n                    valueAccessor()(val);\\n                }\\n            });\\n            valueAccessor().subscribe(function(value) {\\n                var str = JSON.stringify(value);\\n                if ((str == \\\"0\\\") && ([\\\"-0\\\", \\\"-0.\\\"].indexOf(stringified()) >= 0))\\n                     return;\\n                 if ([\\\"null\\\", \\\"\\\"].indexOf(str) >= 0)\\n                     return;\\n                stringified(str);\\n            });\\n            ko.applyBindingsToNode(\\n                element,\\n                {\\n                    value: stringified,\\n                    valueUpdate: allBindings.get('valueUpdate'),\\n                },\\n                context,\\n            );\\n        }\\n    };\\n    var json_data = {\\\"formatted_vals\\\":[\\\"0.05\\\",\\\"0.1\\\",\\\"0.15\\\",\\\"0.2\\\",\\\"0.25\\\",\\\"0.3\\\",\\\"0.35\\\",\\\"0.4\\\",\\\"0.45\\\",\\\"0.5\\\",\\\"0.55\\\",\\\"0.6\\\",\\\"0.65\\\",\\\"0.7\\\",\\\"0.75\\\",\\\"0.8\\\",\\\"0.85\\\",\\\"0.9\\\",\\\"0.95\\\",\\\"1.0\\\",\\\"1.05\\\",\\\"1.1\\\",\\\"1.15\\\",\\\"1.2\\\",\\\"1.25\\\",\\\"1.3\\\",\\\"1.35\\\",\\\"1.4\\\",\\\"1.45\\\",\\\"1.5\\\",\\\"1.55\\\",\\\"1.6\\\",\\\"1.65\\\",\\\"1.7\\\",\\\"1.75\\\",\\\"1.8\\\",\\\"1.85\\\",\\\"1.9\\\",\\\"1.95\\\",\\\"2.0\\\",\\\"2.05\\\",\\\"2.1\\\",\\\"2.15\\\",\\\"2.2\\\",\\\"2.25\\\",\\\"2.3\\\",\\\"2.35\\\",\\\"2.4\\\",\\\"2.45\\\",\\\"2.5\\\",\\\"2.55\\\",\\\"2.6\\\",\\\"2.65\\\",\\\"2.7\\\",\\\"2.75\\\",\\\"2.8\\\",\\\"2.85\\\",\\\"2.9\\\",\\\"2.95\\\",\\\"3.0\\\",\\\"3.05\\\",\\\"3.1\\\",\\\"3.15\\\",\\\"3.2\\\",\\\"3.25\\\",\\\"3.3\\\",\\\"3.35\\\",\\\"3.4\\\",\\\"3.45\\\",\\\"3.5\\\",\\\"3.55\\\",\\\"3.6\\\",\\\"3.65\\\",\\\"3.7\\\",\\\"3.75\\\",\\\"3.8\\\",\\\"3.85\\\",\\\"3.9\\\",\\\"3.95\\\",\\\"4.0\\\",\\\"4.05\\\",\\\"4.1\\\",\\\"4.15\\\",\\\"4.2\\\",\\\"4.25\\\",\\\"4.3\\\",\\\"4.35\\\",\\\"4.4\\\",\\\"4.45\\\",\\\"4.5\\\",\\\"4.55\\\",\\\"4.6\\\",\\\"4.65\\\",\\\"4.7\\\",\\\"4.75\\\",\\\"4.8\\\",\\\"4.85\\\",\\\"4.9\\\",\\\"4.95\\\",\\\"5.0\\\"],\\\"changes\\\":WebIO.getval({\\\"name\\\":\\\"changes\\\",\\\"scope\\\":\\\"18149941216062870204\\\",\\\"id\\\":\\\"6644966120718903714\\\",\\\"type\\\":\\\"observable\\\"}),\\\"index\\\":WebIO.getval({\\\"name\\\":\\\"index\\\",\\\"scope\\\":\\\"18149941216062870204\\\",\\\"id\\\":\\\"16966047374917787003\\\",\\\"type\\\":\\\"observable\\\"})};\\n    var self = this;\\n    function AppViewModel() {\\n        for (var key in json_data) {\\n            var el = json_data[key];\\n            this[key] = Array.isArray(el) ? ko.observableArray(el) : ko.observable(el);\\n        }\\n        \\n        [this[\\\"formatted_val\\\"]=ko.computed(    function(){\\n        return this.formatted_vals()[parseInt(this.index())-(1)];\\n    }\\n,this)]\\n        [this[\\\"changes\\\"].subscribe((function (val){!(this.valueFromJulia[\\\"changes\\\"]) ? (WebIO.setval({\\\"name\\\":\\\"changes\\\",\\\"scope\\\":\\\"18149941216062870204\\\",\\\"id\\\":\\\"6644966120718903714\\\",\\\"type\\\":\\\"observable\\\"},val)) : undefined; return this.valueFromJulia[\\\"changes\\\"]=false}),self),this[\\\"index\\\"].subscribe((function (val){!(this.valueFromJulia[\\\"index\\\"]) ? (WebIO.setval({\\\"name\\\":\\\"index\\\",\\\"scope\\\":\\\"18149941216062870204\\\",\\\"id\\\":\\\"16966047374917787003\\\",\\\"type\\\":\\\"observable\\\"},val)) : undefined; return this.valueFromJulia[\\\"index\\\"]=false}),self)]\\n        \\n    }\\n    self.model = new AppViewModel();\\n    self.valueFromJulia = {};\\n    for (var key in json_data) {\\n        self.valueFromJulia[key] = false;\\n    }\\n    ko.applyBindings(self.model, self.dom);\\n}\\n);\\n    (WebIO.importBlock({\\\"data\\\":[{\\\"name\\\":\\\"knockout\\\",\\\"type\\\":\\\"js\\\",\\\"url\\\":\\\"\\/assetserver\\/727383f2a47bd31570b7da84eee7b022dd6d7c78-knockout.js\\\"},{\\\"name\\\":\\\"knockout_punches\\\",\\\"type\\\":\\\"js\\\",\\\"url\\\":\\\"\\/assetserver\\/382b41b3b1bd9f26f75861d360bad7f8beea211f-knockout_punches.js\\\"}],\\\"type\\\":\\\"async_block\\\"})).then((imports) => handler.apply(this, imports));\\n}\\n\"],\"observables\":{\"changes\":{\"sync\":false,\"id\":\"6644966120718903714\",\"value\":0},\"index\":{\"sync\":true,\"id\":\"16966047374917787003\",\"value\":50}}},\"children\":[{\"props\":{\"className\":\"interact-flex-row interact-widget\"},\"nodeType\":\"DOM\",\"type\":\"node\",\"instanceArgs\":{\"namespace\":\"html\",\"tag\":\"div\"},\"children\":[{\"props\":{\"className\":\"interact-flex-row-left\"},\"nodeType\":\"DOM\",\"type\":\"node\",\"instanceArgs\":{\"namespace\":\"html\",\"tag\":\"div\"},\"children\":[{\"props\":{\"className\":\"interact \",\"style\":{\"padding\":\"5px 10px 0px 10px\"}},\"nodeType\":\"DOM\",\"type\":\"node\",\"instanceArgs\":{\"namespace\":\"html\",\"tag\":\"label\"},\"children\":[\"temp\"]}]},{\"props\":{\"className\":\"interact-flex-row-center\"},\"nodeType\":\"DOM\",\"type\":\"node\",\"instanceArgs\":{\"namespace\":\"html\",\"tag\":\"div\"},\"children\":[{\"props\":{\"max\":100,\"min\":1,\"attributes\":{\"type\":\"range\",\"data-bind\":\"numericValue: index, valueUpdate: 'input', event: {change: function (){this.changes(this.changes()+1)}}\",\"orient\":\"horizontal\"},\"step\":1,\"className\":\"slider slider is-fullwidth\",\"style\":{}},\"nodeType\":\"DOM\",\"type\":\"node\",\"instanceArgs\":{\"namespace\":\"html\",\"tag\":\"input\"},\"children\":[]}]},{\"props\":{\"className\":\"interact-flex-row-right\"},\"nodeType\":\"DOM\",\"type\":\"node\",\"instanceArgs\":{\"namespace\":\"html\",\"tag\":\"div\"},\"children\":[{\"props\":{\"attributes\":{\"data-bind\":\"text: formatted_val\"}},\"nodeType\":\"DOM\",\"type\":\"node\",\"instanceArgs\":{\"namespace\":\"html\",\"tag\":\"p\"},\"children\":[]}]}]}]}]},{\"props\":{\"className\":\"field interact-widget\"},\"nodeType\":\"DOM\",\"type\":\"node\",\"instanceArgs\":{\"namespace\":\"html\",\"tag\":\"div\"},\"children\":[{\"props\":{},\"nodeType\":\"Scope\",\"type\":\"node\",\"instanceArgs\":{\"imports\":{\"data\":[{\"name\":\"knockout\",\"type\":\"js\",\"url\":\"\\/assetserver\\/727383f2a47bd31570b7da84eee7b022dd6d7c78-knockout.js\"},{\"name\":\"knockout_punches\",\"type\":\"js\",\"url\":\"\\/assetserver\\/382b41b3b1bd9f26f75861d360bad7f8beea211f-knockout_punches.js\"},{\"name\":null,\"type\":\"js\",\"url\":\"\\/assetserver\\/5ab20f1060420992a9b82a65b735dee4d81ef413-all.js\"},{\"name\":null,\"type\":\"css\",\"url\":\"\\/assetserver\\/1cc0ed62837210b80a182cc3676512f895dab686-style.css\"},{\"name\":null,\"type\":\"css\",\"url\":\"\\/assetserver\\/2eee816f616df3549d7044d45e744fbf8d42bfa1-bulma_confined.min.css\"}],\"type\":\"async_block\"},\"id\":\"17005452033100227982\",\"handlers\":{\"changes\":[\"(function (val){return (val!=this.model[\\\"changes\\\"]()) ? (this.valueFromJulia[\\\"changes\\\"]=true, this.model[\\\"changes\\\"](val)) : undefined})\"],\"index\":[\"(function (val){return (val!=this.model[\\\"index\\\"]()) ? (this.valueFromJulia[\\\"index\\\"]=true, this.model[\\\"index\\\"](val)) : undefined})\"]},\"systemjs_options\":null,\"mount_callbacks\":[\"function () {\\n    var handler = (function (ko, koPunches) {\\n    ko.punches.enableAll();\\n    ko.bindingHandlers.numericValue = {\\n        init: function(element, valueAccessor, allBindings, data, context) {\\n            var stringified = ko.observable(ko.unwrap(valueAccessor()));\\n            stringified.subscribe(function(value) {\\n                var val = parseFloat(value);\\n                if (!isNaN(val)) {\\n                    valueAccessor()(val);\\n                }\\n            });\\n            valueAccessor().subscribe(function(value) {\\n                var str = JSON.stringify(value);\\n                if ((str == \\\"0\\\") && ([\\\"-0\\\", \\\"-0.\\\"].indexOf(stringified()) >= 0))\\n                     return;\\n                 if ([\\\"null\\\", \\\"\\\"].indexOf(str) >= 0)\\n                     return;\\n                stringified(str);\\n            });\\n            ko.applyBindingsToNode(\\n                element,\\n                {\\n                    value: stringified,\\n                    valueUpdate: allBindings.get('valueUpdate'),\\n                },\\n                context,\\n            );\\n        }\\n    };\\n    var json_data = {\\\"formatted_vals\\\":[\\\"0.01\\\",\\\"0.11\\\",\\\"0.21\\\",\\\"0.31\\\",\\\"0.41\\\",\\\"0.51\\\",\\\"0.61\\\",\\\"0.71\\\",\\\"0.81\\\",\\\"0.91\\\",\\\"1.01\\\",\\\"1.11\\\",\\\"1.21\\\",\\\"1.31\\\",\\\"1.41\\\",\\\"1.51\\\",\\\"1.61\\\",\\\"1.71\\\",\\\"1.81\\\",\\\"1.91\\\",\\\"2.01\\\",\\\"2.11\\\",\\\"2.21\\\",\\\"2.31\\\",\\\"2.41\\\",\\\"2.51\\\",\\\"2.61\\\",\\\"2.71\\\",\\\"2.81\\\",\\\"2.91\\\",\\\"3.01\\\",\\\"3.11\\\",\\\"3.21\\\",\\\"3.31\\\",\\\"3.41\\\",\\\"3.51\\\",\\\"3.61\\\",\\\"3.71\\\",\\\"3.81\\\",\\\"3.91\\\",\\\"4.01\\\",\\\"4.11\\\",\\\"4.21\\\",\\\"4.31\\\",\\\"4.41\\\",\\\"4.51\\\",\\\"4.61\\\",\\\"4.71\\\",\\\"4.81\\\",\\\"4.91\\\"],\\\"changes\\\":WebIO.getval({\\\"name\\\":\\\"changes\\\",\\\"scope\\\":\\\"17005452033100227982\\\",\\\"id\\\":\\\"17544612017221048495\\\",\\\"type\\\":\\\"observable\\\"}),\\\"index\\\":WebIO.getval({\\\"name\\\":\\\"index\\\",\\\"scope\\\":\\\"17005452033100227982\\\",\\\"id\\\":\\\"14720154450184222989\\\",\\\"type\\\":\\\"observable\\\"})};\\n    var self = this;\\n    function AppViewModel() {\\n        for (var key in json_data) {\\n            var el = json_data[key];\\n            this[key] = Array.isArray(el) ? ko.observableArray(el) : ko.observable(el);\\n        }\\n        \\n        [this[\\\"formatted_val\\\"]=ko.computed(    function(){\\n        return this.formatted_vals()[parseInt(this.index())-(1)];\\n    }\\n,this)]\\n        [this[\\\"changes\\\"].subscribe((function (val){!(this.valueFromJulia[\\\"changes\\\"]) ? (WebIO.setval({\\\"name\\\":\\\"changes\\\",\\\"scope\\\":\\\"17005452033100227982\\\",\\\"id\\\":\\\"17544612017221048495\\\",\\\"type\\\":\\\"observable\\\"},val)) : undefined; return this.valueFromJulia[\\\"changes\\\"]=false}),self),this[\\\"index\\\"].subscribe((function (val){!(this.valueFromJulia[\\\"index\\\"]) ? (WebIO.setval({\\\"name\\\":\\\"index\\\",\\\"scope\\\":\\\"17005452033100227982\\\",\\\"id\\\":\\\"14720154450184222989\\\",\\\"type\\\":\\\"observable\\\"},val)) : undefined; return this.valueFromJulia[\\\"index\\\"]=false}),self)]\\n        \\n    }\\n    self.model = new AppViewModel();\\n    self.valueFromJulia = {};\\n    for (var key in json_data) {\\n        self.valueFromJulia[key] = false;\\n    }\\n    ko.applyBindings(self.model, self.dom);\\n}\\n);\\n    (WebIO.importBlock({\\\"data\\\":[{\\\"name\\\":\\\"knockout\\\",\\\"type\\\":\\\"js\\\",\\\"url\\\":\\\"\\/assetserver\\/727383f2a47bd31570b7da84eee7b022dd6d7c78-knockout.js\\\"},{\\\"name\\\":\\\"knockout_punches\\\",\\\"type\\\":\\\"js\\\",\\\"url\\\":\\\"\\/assetserver\\/382b41b3b1bd9f26f75861d360bad7f8beea211f-knockout_punches.js\\\"}],\\\"type\\\":\\\"async_block\\\"})).then((imports) => handler.apply(this, imports));\\n}\\n\"],\"observables\":{\"changes\":{\"sync\":false,\"id\":\"17544612017221048495\",\"value\":0},\"index\":{\"sync\":true,\"id\":\"14720154450184222989\",\"value\":25}}},\"children\":[{\"props\":{\"className\":\"interact-flex-row interact-widget\"},\"nodeType\":\"DOM\",\"type\":\"node\",\"instanceArgs\":{\"namespace\":\"html\",\"tag\":\"div\"},\"children\":[{\"props\":{\"className\":\"interact-flex-row-left\"},\"nodeType\":\"DOM\",\"type\":\"node\",\"instanceArgs\":{\"namespace\":\"html\",\"tag\":\"div\"},\"children\":[{\"props\":{\"className\":\"interact \",\"style\":{\"padding\":\"5px 10px 0px 10px\"}},\"nodeType\":\"DOM\",\"type\":\"node\",\"instanceArgs\":{\"namespace\":\"html\",\"tag\":\"label\"},\"children\":[\"coupl\"]}]},{\"props\":{\"className\":\"interact-flex-row-center\"},\"nodeType\":\"DOM\",\"type\":\"node\",\"instanceArgs\":{\"namespace\":\"html\",\"tag\":\"div\"},\"children\":[{\"props\":{\"max\":50,\"min\":1,\"attributes\":{\"type\":\"range\",\"data-bind\":\"numericValue: index, valueUpdate: 'input', event: {change: function (){this.changes(this.changes()+1)}}\",\"orient\":\"horizontal\"},\"step\":1,\"className\":\"slider slider is-fullwidth\",\"style\":{}},\"nodeType\":\"DOM\",\"type\":\"node\",\"instanceArgs\":{\"namespace\":\"html\",\"tag\":\"input\"},\"children\":[]}]},{\"props\":{\"className\":\"interact-flex-row-right\"},\"nodeType\":\"DOM\",\"type\":\"node\",\"instanceArgs\":{\"namespace\":\"html\",\"tag\":\"div\"},\"children\":[{\"props\":{\"attributes\":{\"data-bind\":\"text: formatted_val\"}},\"nodeType\":\"DOM\",\"type\":\"node\",\"instanceArgs\":{\"namespace\":\"html\",\"tag\":\"p\"},\"children\":[]}]}]}]}]},{\"props\":{\"className\":\"field interact-widget\"},\"nodeType\":\"DOM\",\"type\":\"node\",\"instanceArgs\":{\"namespace\":\"html\",\"tag\":\"div\"},\"children\":[{\"props\":{},\"nodeType\":\"Scope\",\"type\":\"node\",\"instanceArgs\":{\"imports\":{\"data\":[{\"name\":\"knockout\",\"type\":\"js\",\"url\":\"\\/assetserver\\/727383f2a47bd31570b7da84eee7b022dd6d7c78-knockout.js\"},{\"name\":\"knockout_punches\",\"type\":\"js\",\"url\":\"\\/assetserver\\/382b41b3b1bd9f26f75861d360bad7f8beea211f-knockout_punches.js\"},{\"name\":null,\"type\":\"js\",\"url\":\"\\/assetserver\\/5ab20f1060420992a9b82a65b735dee4d81ef413-all.js\"},{\"name\":null,\"type\":\"css\",\"url\":\"\\/assetserver\\/1cc0ed62837210b80a182cc3676512f895dab686-style.css\"},{\"name\":null,\"type\":\"css\",\"url\":\"\\/assetserver\\/2eee816f616df3549d7044d45e744fbf8d42bfa1-bulma_confined.min.css\"}],\"type\":\"async_block\"},\"id\":\"18183295861232194227\",\"handlers\":{\"changes\":[\"(function (val){return (val!=this.model[\\\"changes\\\"]()) ? (this.valueFromJulia[\\\"changes\\\"]=true, this.model[\\\"changes\\\"](val)) : undefined})\"],\"index\":[\"(function (val){return (val!=this.model[\\\"index\\\"]()) ? (this.valueFromJulia[\\\"index\\\"]=true, this.model[\\\"index\\\"](val)) : undefined})\"]},\"systemjs_options\":null,\"mount_callbacks\":[\"function () {\\n    var handler = (function (ko, koPunches) {\\n    ko.punches.enableAll();\\n    ko.bindingHandlers.numericValue = {\\n        init: function(element, valueAccessor, allBindings, data, context) {\\n            var stringified = ko.observable(ko.unwrap(valueAccessor()));\\n            stringified.subscribe(function(value) {\\n                var val = parseFloat(value);\\n                if (!isNaN(val)) {\\n                    valueAccessor()(val);\\n                }\\n            });\\n            valueAccessor().subscribe(function(value) {\\n                var str = JSON.stringify(value);\\n                if ((str == \\\"0\\\") && ([\\\"-0\\\", \\\"-0.\\\"].indexOf(stringified()) >= 0))\\n                     return;\\n                 if ([\\\"null\\\", \\\"\\\"].indexOf(str) >= 0)\\n                     return;\\n                stringified(str);\\n            });\\n            ko.applyBindingsToNode(\\n                element,\\n                {\\n                    value: stringified,\\n                    valueUpdate: allBindings.get('valueUpdate'),\\n                },\\n                context,\\n            );\\n        }\\n    };\\n    var json_data = {\\\"formatted_vals\\\":[\\\"2\\\",\\\"3\\\",\\\"4\\\",\\\"5\\\",\\\"6\\\",\\\"7\\\",\\\"8\\\",\\\"9\\\",\\\"10\\\"],\\\"changes\\\":WebIO.getval({\\\"name\\\":\\\"changes\\\",\\\"scope\\\":\\\"18183295861232194227\\\",\\\"id\\\":\\\"10139535343269084516\\\",\\\"type\\\":\\\"observable\\\"}),\\\"index\\\":WebIO.getval({\\\"name\\\":\\\"index\\\",\\\"scope\\\":\\\"18183295861232194227\\\",\\\"id\\\":\\\"3466951331806112005\\\",\\\"type\\\":\\\"observable\\\"})};\\n    var self = this;\\n    function AppViewModel() {\\n        for (var key in json_data) {\\n            var el = json_data[key];\\n            this[key] = Array.isArray(el) ? ko.observableArray(el) : ko.observable(el);\\n        }\\n        \\n        [this[\\\"formatted_val\\\"]=ko.computed(    function(){\\n        return this.formatted_vals()[parseInt(this.index())-(2)];\\n    }\\n,this)]\\n        [this[\\\"changes\\\"].subscribe((function (val){!(this.valueFromJulia[\\\"changes\\\"]) ? (WebIO.setval({\\\"name\\\":\\\"changes\\\",\\\"scope\\\":\\\"18183295861232194227\\\",\\\"id\\\":\\\"10139535343269084516\\\",\\\"type\\\":\\\"observable\\\"},val)) : undefined; return this.valueFromJulia[\\\"changes\\\"]=false}),self),this[\\\"index\\\"].subscribe((function (val){!(this.valueFromJulia[\\\"index\\\"]) ? (WebIO.setval({\\\"name\\\":\\\"index\\\",\\\"scope\\\":\\\"18183295861232194227\\\",\\\"id\\\":\\\"3466951331806112005\\\",\\\"type\\\":\\\"observable\\\"},val)) : undefined; return this.valueFromJulia[\\\"index\\\"]=false}),self)]\\n        \\n    }\\n    self.model = new AppViewModel();\\n    self.valueFromJulia = {};\\n    for (var key in json_data) {\\n        self.valueFromJulia[key] = false;\\n    }\\n    ko.applyBindings(self.model, self.dom);\\n}\\n);\\n    (WebIO.importBlock({\\\"data\\\":[{\\\"name\\\":\\\"knockout\\\",\\\"type\\\":\\\"js\\\",\\\"url\\\":\\\"\\/assetserver\\/727383f2a47bd31570b7da84eee7b022dd6d7c78-knockout.js\\\"},{\\\"name\\\":\\\"knockout_punches\\\",\\\"type\\\":\\\"js\\\",\\\"url\\\":\\\"\\/assetserver\\/382b41b3b1bd9f26f75861d360bad7f8beea211f-knockout_punches.js\\\"}],\\\"type\\\":\\\"async_block\\\"})).then((imports) => handler.apply(this, imports));\\n}\\n\"],\"observables\":{\"changes\":{\"sync\":false,\"id\":\"10139535343269084516\",\"value\":0},\"index\":{\"sync\":true,\"id\":\"3466951331806112005\",\"value\":6}}},\"children\":[{\"props\":{\"className\":\"interact-flex-row interact-widget\"},\"nodeType\":\"DOM\",\"type\":\"node\",\"instanceArgs\":{\"namespace\":\"html\",\"tag\":\"div\"},\"children\":[{\"props\":{\"className\":\"interact-flex-row-left\"},\"nodeType\":\"DOM\",\"type\":\"node\",\"instanceArgs\":{\"namespace\":\"html\",\"tag\":\"div\"},\"children\":[{\"props\":{\"className\":\"interact \",\"style\":{\"padding\":\"5px 10px 0px 10px\"}},\"nodeType\":\"DOM\",\"type\":\"node\",\"instanceArgs\":{\"namespace\":\"html\",\"tag\":\"label\"},\"children\":[\"nns\"]}]},{\"props\":{\"className\":\"interact-flex-row-center\"},\"nodeType\":\"DOM\",\"type\":\"node\",\"instanceArgs\":{\"namespace\":\"html\",\"tag\":\"div\"},\"children\":[{\"props\":{\"max\":10,\"min\":2,\"attributes\":{\"type\":\"range\",\"data-bind\":\"numericValue: index, valueUpdate: 'input', event: {change: function (){this.changes(this.changes()+1)}}\",\"orient\":\"horizontal\"},\"step\":1,\"className\":\"slider slider is-fullwidth\",\"style\":{}},\"nodeType\":\"DOM\",\"type\":\"node\",\"instanceArgs\":{\"namespace\":\"html\",\"tag\":\"input\"},\"children\":[]}]},{\"props\":{\"className\":\"interact-flex-row-right\"},\"nodeType\":\"DOM\",\"type\":\"node\",\"instanceArgs\":{\"namespace\":\"html\",\"tag\":\"div\"},\"children\":[{\"props\":{\"attributes\":{\"data-bind\":\"text: formatted_val\"}},\"nodeType\":\"DOM\",\"type\":\"node\",\"instanceArgs\":{\"namespace\":\"html\",\"tag\":\"p\"},\"children\":[]}]}]}]}]}]},{\"props\":{\"style\":{\"display\":\"flex\",\"flex-direction\":\"row\"}},\"nodeType\":\"DOM\",\"type\":\"node\",\"instanceArgs\":{\"namespace\":\"html\",\"tag\":\"div\"},\"children\":[{\"props\":{\"className\":\"interact-widget\"},\"nodeType\":\"DOM\",\"type\":\"node\",\"instanceArgs\":{\"namespace\":\"html\",\"tag\":\"div\"},\"children\":[{\"props\":{},\"nodeType\":\"Scope\",\"type\":\"node\",\"instanceArgs\":{\"imports\":{\"data\":[{\"name\":null,\"type\":\"js\",\"url\":\"\\/assetserver\\/dd22ed1bf1896c2748f3fe616ce0b838adc895c1-katex.min.js\"},{\"name\":null,\"type\":\"css\",\"url\":\"\\/assetserver\\/46517a424aa5e6cffc1360d7e0848b601c584ee3-katex.min.css\"}],\"type\":\"async_block\"},\"id\":\"15155723812437631898\",\"handlers\":{\"value\":[\"(function (txt){return this.k.render(txt,this.container)})\"]},\"systemjs_options\":null,\"mount_callbacks\":[\"function () {\\n    var handler = ((function (k){this.k=k; this.container=this.dom.querySelector(\\\"#container\\\"); return k.render(\\\"\\\\\\\\;\\\\\\\\;\\\",this.container)}));\\n    (WebIO.importBlock({\\\"data\\\":[{\\\"name\\\":null,\\\"type\\\":\\\"js\\\",\\\"url\\\":\\\"\\/assetserver\\/dd22ed1bf1896c2748f3fe616ce0b838adc895c1-katex.min.js\\\"},{\\\"name\\\":null,\\\"type\\\":\\\"css\\\",\\\"url\\\":\\\"\\/assetserver\\/46517a424aa5e6cffc1360d7e0848b601c584ee3-katex.min.css\\\"}],\\\"type\\\":\\\"async_block\\\"})).then((imports) => handler.apply(this, imports));\\n}\\n\"],\"observables\":{\"value\":{\"sync\":false,\"id\":\"11080017874471824166\",\"value\":\"\\\\;\\\\;\"}}},\"children\":[{\"props\":{\"id\":\"container\"},\"nodeType\":\"DOM\",\"type\":\"node\",\"instanceArgs\":{\"namespace\":\"html\",\"tag\":\"div\"},\"children\":[]}]}]},{\"props\":{\"className\":\"field interact-widget\"},\"nodeType\":\"DOM\",\"type\":\"node\",\"instanceArgs\":{\"namespace\":\"html\",\"tag\":\"div\"},\"children\":[{\"props\":{},\"nodeType\":\"Scope\",\"type\":\"node\",\"instanceArgs\":{\"imports\":{\"data\":[{\"name\":\"knockout\",\"type\":\"js\",\"url\":\"\\/assetserver\\/727383f2a47bd31570b7da84eee7b022dd6d7c78-knockout.js\"},{\"name\":\"knockout_punches\",\"type\":\"js\",\"url\":\"\\/assetserver\\/382b41b3b1bd9f26f75861d360bad7f8beea211f-knockout_punches.js\"},{\"name\":null,\"type\":\"js\",\"url\":\"\\/assetserver\\/5ab20f1060420992a9b82a65b735dee4d81ef413-all.js\"},{\"name\":null,\"type\":\"css\",\"url\":\"\\/assetserver\\/1cc0ed62837210b80a182cc3676512f895dab686-style.css\"},{\"name\":null,\"type\":\"css\",\"url\":\"\\/assetserver\\/2eee816f616df3549d7044d45e744fbf8d42bfa1-bulma_confined.min.css\"}],\"type\":\"async_block\"},\"id\":\"2083045978238375240\",\"handlers\":{\"loading\":[\"(function (val){return (val!=this.model[\\\"loading\\\"]()) ? (this.valueFromJulia[\\\"loading\\\"]=true, this.model[\\\"loading\\\"](val)) : undefined})\"],\"clicks\":[\"(function (val){return (val!=this.model[\\\"clicks\\\"]()) ? (this.valueFromJulia[\\\"clicks\\\"]=true, this.model[\\\"clicks\\\"](val)) : undefined})\"]},\"systemjs_options\":null,\"mount_callbacks\":[\"function () {\\n    var handler = (function (ko, koPunches) {\\n    ko.punches.enableAll();\\n    ko.bindingHandlers.numericValue = {\\n        init: function(element, valueAccessor, allBindings, data, context) {\\n            var stringified = ko.observable(ko.unwrap(valueAccessor()));\\n            stringified.subscribe(function(value) {\\n                var val = parseFloat(value);\\n                if (!isNaN(val)) {\\n                    valueAccessor()(val);\\n                }\\n            });\\n            valueAccessor().subscribe(function(value) {\\n                var str = JSON.stringify(value);\\n                if ((str == \\\"0\\\") && ([\\\"-0\\\", \\\"-0.\\\"].indexOf(stringified()) >= 0))\\n                     return;\\n                 if ([\\\"null\\\", \\\"\\\"].indexOf(str) >= 0)\\n                     return;\\n                stringified(str);\\n            });\\n            ko.applyBindingsToNode(\\n                element,\\n                {\\n                    value: stringified,\\n                    valueUpdate: allBindings.get('valueUpdate'),\\n                },\\n                context,\\n            );\\n        }\\n    };\\n    var json_data = {\\\"loading\\\":WebIO.getval({\\\"name\\\":\\\"loading\\\",\\\"scope\\\":\\\"2083045978238375240\\\",\\\"id\\\":\\\"11808509038400534899\\\",\\\"type\\\":\\\"observable\\\"}),\\\"clicks\\\":WebIO.getval({\\\"name\\\":\\\"clicks\\\",\\\"scope\\\":\\\"2083045978238375240\\\",\\\"id\\\":\\\"3830272362973502800\\\",\\\"type\\\":\\\"observable\\\"})};\\n    var self = this;\\n    function AppViewModel() {\\n        for (var key in json_data) {\\n            var el = json_data[key];\\n            this[key] = Array.isArray(el) ? ko.observableArray(el) : ko.observable(el);\\n        }\\n        \\n        \\n        [this[\\\"loading\\\"].subscribe((function (val){!(this.valueFromJulia[\\\"loading\\\"]) ? (WebIO.setval({\\\"name\\\":\\\"loading\\\",\\\"scope\\\":\\\"2083045978238375240\\\",\\\"id\\\":\\\"11808509038400534899\\\",\\\"type\\\":\\\"observable\\\"},val)) : undefined; return this.valueFromJulia[\\\"loading\\\"]=false}),self),this[\\\"clicks\\\"].subscribe((function (val){!(this.valueFromJulia[\\\"clicks\\\"]) ? (WebIO.setval({\\\"name\\\":\\\"clicks\\\",\\\"scope\\\":\\\"2083045978238375240\\\",\\\"id\\\":\\\"3830272362973502800\\\",\\\"type\\\":\\\"observable\\\"},val)) : undefined; return this.valueFromJulia[\\\"clicks\\\"]=false}),self)]\\n        \\n    }\\n    self.model = new AppViewModel();\\n    self.valueFromJulia = {};\\n    for (var key in json_data) {\\n        self.valueFromJulia[key] = false;\\n    }\\n    ko.applyBindings(self.model, self.dom);\\n}\\n);\\n    (WebIO.importBlock({\\\"data\\\":[{\\\"name\\\":\\\"knockout\\\",\\\"type\\\":\\\"js\\\",\\\"url\\\":\\\"\\/assetserver\\/727383f2a47bd31570b7da84eee7b022dd6d7c78-knockout.js\\\"},{\\\"name\\\":\\\"knockout_punches\\\",\\\"type\\\":\\\"js\\\",\\\"url\\\":\\\"\\/assetserver\\/382b41b3b1bd9f26f75861d360bad7f8beea211f-knockout_punches.js\\\"}],\\\"type\\\":\\\"async_block\\\"})).then((imports) => handler.apply(this, imports));\\n}\\n\"],\"observables\":{\"loading\":{\"sync\":false,\"id\":\"11808509038400534899\",\"value\":false},\"clicks\":{\"sync\":true,\"id\":\"3830272362973502800\",\"value\":0}}},\"children\":[{\"props\":{\"attributes\":{\"data-bind\":\"click: function (){this.clicks(this.clicks()+1)}, css: {'is-loading' : loading}\"},\"className\":\"is-medium button is-primary\",\"style\":{}},\"nodeType\":\"DOM\",\"type\":\"node\",\"instanceArgs\":{\"namespace\":\"html\",\"tag\":\"button\"},\"children\":[\"run\"]}]}]},{\"props\":{\"className\":\"interact-widget\"},\"nodeType\":\"DOM\",\"type\":\"node\",\"instanceArgs\":{\"namespace\":\"html\",\"tag\":\"div\"},\"children\":[{\"props\":{},\"nodeType\":\"Scope\",\"type\":\"node\",\"instanceArgs\":{\"imports\":{\"data\":[{\"name\":null,\"type\":\"js\",\"url\":\"\\/assetserver\\/dd22ed1bf1896c2748f3fe616ce0b838adc895c1-katex.min.js\"},{\"name\":null,\"type\":\"css\",\"url\":\"\\/assetserver\\/46517a424aa5e6cffc1360d7e0848b601c584ee3-katex.min.css\"}],\"type\":\"async_block\"},\"id\":\"15155723812437631898\",\"handlers\":{\"value\":[\"(function (txt){return this.k.render(txt,this.container)})\"]},\"systemjs_options\":null,\"mount_callbacks\":[\"function () {\\n    var handler = ((function (k){this.k=k; this.container=this.dom.querySelector(\\\"#container\\\"); return k.render(\\\"\\\\\\\\;\\\\\\\\;\\\",this.container)}));\\n    (WebIO.importBlock({\\\"data\\\":[{\\\"name\\\":null,\\\"type\\\":\\\"js\\\",\\\"url\\\":\\\"\\/assetserver\\/dd22ed1bf1896c2748f3fe616ce0b838adc895c1-katex.min.js\\\"},{\\\"name\\\":null,\\\"type\\\":\\\"css\\\",\\\"url\\\":\\\"\\/assetserver\\/46517a424aa5e6cffc1360d7e0848b601c584ee3-katex.min.css\\\"}],\\\"type\\\":\\\"async_block\\\"})).then((imports) => handler.apply(this, imports));\\n}\\n\"],\"observables\":{\"value\":{\"sync\":false,\"id\":\"11080017874471824166\",\"value\":\"\\\\;\\\\;\"}}},\"children\":[{\"props\":{\"id\":\"container\"},\"nodeType\":\"DOM\",\"type\":\"node\",\"instanceArgs\":{\"namespace\":\"html\",\"tag\":\"div\"},\"children\":[]}]}]},{\"props\":{\"className\":\"field interact-widget\"},\"nodeType\":\"DOM\",\"type\":\"node\",\"instanceArgs\":{\"namespace\":\"html\",\"tag\":\"div\"},\"children\":[{\"props\":{},\"nodeType\":\"Scope\",\"type\":\"node\",\"instanceArgs\":{\"imports\":{\"data\":[{\"name\":\"knockout\",\"type\":\"js\",\"url\":\"\\/assetserver\\/727383f2a47bd31570b7da84eee7b022dd6d7c78-knockout.js\"},{\"name\":\"knockout_punches\",\"type\":\"js\",\"url\":\"\\/assetserver\\/382b41b3b1bd9f26f75861d360bad7f8beea211f-knockout_punches.js\"},{\"name\":null,\"type\":\"js\",\"url\":\"\\/assetserver\\/5ab20f1060420992a9b82a65b735dee4d81ef413-all.js\"},{\"name\":null,\"type\":\"css\",\"url\":\"\\/assetserver\\/1cc0ed62837210b80a182cc3676512f895dab686-style.css\"},{\"name\":null,\"type\":\"css\",\"url\":\"\\/assetserver\\/2eee816f616df3549d7044d45e744fbf8d42bfa1-bulma_confined.min.css\"}],\"type\":\"async_block\"},\"id\":\"16866994390630665286\",\"handlers\":{\"loading\":[\"(function (val){return (val!=this.model[\\\"loading\\\"]()) ? (this.valueFromJulia[\\\"loading\\\"]=true, this.model[\\\"loading\\\"](val)) : undefined})\"],\"clicks\":[\"(function (val){return (val!=this.model[\\\"clicks\\\"]()) ? (this.valueFromJulia[\\\"clicks\\\"]=true, this.model[\\\"clicks\\\"](val)) : undefined})\"]},\"systemjs_options\":null,\"mount_callbacks\":[\"function () {\\n    var handler = (function (ko, koPunches) {\\n    ko.punches.enableAll();\\n    ko.bindingHandlers.numericValue = {\\n        init: function(element, valueAccessor, allBindings, data, context) {\\n            var stringified = ko.observable(ko.unwrap(valueAccessor()));\\n            stringified.subscribe(function(value) {\\n                var val = parseFloat(value);\\n                if (!isNaN(val)) {\\n                    valueAccessor()(val);\\n                }\\n            });\\n            valueAccessor().subscribe(function(value) {\\n                var str = JSON.stringify(value);\\n                if ((str == \\\"0\\\") && ([\\\"-0\\\", \\\"-0.\\\"].indexOf(stringified()) >= 0))\\n                     return;\\n                 if ([\\\"null\\\", \\\"\\\"].indexOf(str) >= 0)\\n                     return;\\n                stringified(str);\\n            });\\n            ko.applyBindingsToNode(\\n                element,\\n                {\\n                    value: stringified,\\n                    valueUpdate: allBindings.get('valueUpdate'),\\n                },\\n                context,\\n            );\\n        }\\n    };\\n    var json_data = {\\\"loading\\\":WebIO.getval({\\\"name\\\":\\\"loading\\\",\\\"scope\\\":\\\"16866994390630665286\\\",\\\"id\\\":\\\"3758046953773732975\\\",\\\"type\\\":\\\"observable\\\"}),\\\"clicks\\\":WebIO.getval({\\\"name\\\":\\\"clicks\\\",\\\"scope\\\":\\\"16866994390630665286\\\",\\\"id\\\":\\\"4084128795262565637\\\",\\\"type\\\":\\\"observable\\\"})};\\n    var self = this;\\n    function AppViewModel() {\\n        for (var key in json_data) {\\n            var el = json_data[key];\\n            this[key] = Array.isArray(el) ? ko.observableArray(el) : ko.observable(el);\\n        }\\n        \\n        \\n        [this[\\\"loading\\\"].subscribe((function (val){!(this.valueFromJulia[\\\"loading\\\"]) ? (WebIO.setval({\\\"name\\\":\\\"loading\\\",\\\"scope\\\":\\\"16866994390630665286\\\",\\\"id\\\":\\\"3758046953773732975\\\",\\\"type\\\":\\\"observable\\\"},val)) : undefined; return this.valueFromJulia[\\\"loading\\\"]=false}),self),this[\\\"clicks\\\"].subscribe((function (val){!(this.valueFromJulia[\\\"clicks\\\"]) ? (WebIO.setval({\\\"name\\\":\\\"clicks\\\",\\\"scope\\\":\\\"16866994390630665286\\\",\\\"id\\\":\\\"4084128795262565637\\\",\\\"type\\\":\\\"observable\\\"},val)) : undefined; return this.valueFromJulia[\\\"clicks\\\"]=false}),self)]\\n        \\n    }\\n    self.model = new AppViewModel();\\n    self.valueFromJulia = {};\\n    for (var key in json_data) {\\n        self.valueFromJulia[key] = false;\\n    }\\n    ko.applyBindings(self.model, self.dom);\\n}\\n);\\n    (WebIO.importBlock({\\\"data\\\":[{\\\"name\\\":\\\"knockout\\\",\\\"type\\\":\\\"js\\\",\\\"url\\\":\\\"\\/assetserver\\/727383f2a47bd31570b7da84eee7b022dd6d7c78-knockout.js\\\"},{\\\"name\\\":\\\"knockout_punches\\\",\\\"type\\\":\\\"js\\\",\\\"url\\\":\\\"\\/assetserver\\/382b41b3b1bd9f26f75861d360bad7f8beea211f-knockout_punches.js\\\"}],\\\"type\\\":\\\"async_block\\\"})).then((imports) => handler.apply(this, imports));\\n}\\n\"],\"observables\":{\"loading\":{\"sync\":false,\"id\":\"3758046953773732975\",\"value\":false},\"clicks\":{\"sync\":true,\"id\":\"4084128795262565637\",\"value\":0}}},\"children\":[{\"props\":{\"attributes\":{\"data-bind\":\"click: function (){this.clicks(this.clicks()+1)}, css: {'is-loading' : loading}\"},\"className\":\"is-medium button is-primary\",\"style\":{}},\"nodeType\":\"DOM\",\"type\":\"node\",\"instanceArgs\":{\"namespace\":\"html\",\"tag\":\"button\"},\"children\":[\"stop\"]}]}]},{\"props\":{\"className\":\"interact-widget\"},\"nodeType\":\"DOM\",\"type\":\"node\",\"instanceArgs\":{\"namespace\":\"html\",\"tag\":\"div\"},\"children\":[{\"props\":{},\"nodeType\":\"Scope\",\"type\":\"node\",\"instanceArgs\":{\"imports\":{\"data\":[{\"name\":null,\"type\":\"js\",\"url\":\"\\/assetserver\\/dd22ed1bf1896c2748f3fe616ce0b838adc895c1-katex.min.js\"},{\"name\":null,\"type\":\"css\",\"url\":\"\\/assetserver\\/46517a424aa5e6cffc1360d7e0848b601c584ee3-katex.min.css\"}],\"type\":\"async_block\"},\"id\":\"15155723812437631898\",\"handlers\":{\"value\":[\"(function (txt){return this.k.render(txt,this.container)})\"]},\"systemjs_options\":null,\"mount_callbacks\":[\"function () {\\n    var handler = ((function (k){this.k=k; this.container=this.dom.querySelector(\\\"#container\\\"); return k.render(\\\"\\\\\\\\;\\\\\\\\;\\\",this.container)}));\\n    (WebIO.importBlock({\\\"data\\\":[{\\\"name\\\":null,\\\"type\\\":\\\"js\\\",\\\"url\\\":\\\"\\/assetserver\\/dd22ed1bf1896c2748f3fe616ce0b838adc895c1-katex.min.js\\\"},{\\\"name\\\":null,\\\"type\\\":\\\"css\\\",\\\"url\\\":\\\"\\/assetserver\\/46517a424aa5e6cffc1360d7e0848b601c584ee3-katex.min.css\\\"}],\\\"type\\\":\\\"async_block\\\"})).then((imports) => handler.apply(this, imports));\\n}\\n\"],\"observables\":{\"value\":{\"sync\":false,\"id\":\"11080017874471824166\",\"value\":\"\\\\;\\\\;\"}}},\"children\":[{\"props\":{\"id\":\"container\"},\"nodeType\":\"DOM\",\"type\":\"node\",\"instanceArgs\":{\"namespace\":\"html\",\"tag\":\"div\"},\"children\":[]}]}]},{\"props\":{\"className\":\"field interact-widget\"},\"nodeType\":\"DOM\",\"type\":\"node\",\"instanceArgs\":{\"namespace\":\"html\",\"tag\":\"div\"},\"children\":[{\"props\":{},\"nodeType\":\"Scope\",\"type\":\"node\",\"instanceArgs\":{\"imports\":{\"data\":[{\"name\":\"knockout\",\"type\":\"js\",\"url\":\"\\/assetserver\\/727383f2a47bd31570b7da84eee7b022dd6d7c78-knockout.js\"},{\"name\":\"knockout_punches\",\"type\":\"js\",\"url\":\"\\/assetserver\\/382b41b3b1bd9f26f75861d360bad7f8beea211f-knockout_punches.js\"},{\"name\":null,\"type\":\"js\",\"url\":\"\\/assetserver\\/5ab20f1060420992a9b82a65b735dee4d81ef413-all.js\"},{\"name\":null,\"type\":\"css\",\"url\":\"\\/assetserver\\/1cc0ed62837210b80a182cc3676512f895dab686-style.css\"},{\"name\":null,\"type\":\"css\",\"url\":\"\\/assetserver\\/2eee816f616df3549d7044d45e744fbf8d42bfa1-bulma_confined.min.css\"}],\"type\":\"async_block\"},\"id\":\"17320944422252559906\",\"handlers\":{\"loading\":[\"(function (val){return (val!=this.model[\\\"loading\\\"]()) ? (this.valueFromJulia[\\\"loading\\\"]=true, this.model[\\\"loading\\\"](val)) : undefined})\"],\"clicks\":[\"(function (val){return (val!=this.model[\\\"clicks\\\"]()) ? (this.valueFromJulia[\\\"clicks\\\"]=true, this.model[\\\"clicks\\\"](val)) : undefined})\"]},\"systemjs_options\":null,\"mount_callbacks\":[\"function () {\\n    var handler = (function (ko, koPunches) {\\n    ko.punches.enableAll();\\n    ko.bindingHandlers.numericValue = {\\n        init: function(element, valueAccessor, allBindings, data, context) {\\n            var stringified = ko.observable(ko.unwrap(valueAccessor()));\\n            stringified.subscribe(function(value) {\\n                var val = parseFloat(value);\\n                if (!isNaN(val)) {\\n                    valueAccessor()(val);\\n                }\\n            });\\n            valueAccessor().subscribe(function(value) {\\n                var str = JSON.stringify(value);\\n                if ((str == \\\"0\\\") && ([\\\"-0\\\", \\\"-0.\\\"].indexOf(stringified()) >= 0))\\n                     return;\\n                 if ([\\\"null\\\", \\\"\\\"].indexOf(str) >= 0)\\n                     return;\\n                stringified(str);\\n            });\\n            ko.applyBindingsToNode(\\n                element,\\n                {\\n                    value: stringified,\\n                    valueUpdate: allBindings.get('valueUpdate'),\\n                },\\n                context,\\n            );\\n        }\\n    };\\n    var json_data = {\\\"loading\\\":WebIO.getval({\\\"name\\\":\\\"loading\\\",\\\"scope\\\":\\\"17320944422252559906\\\",\\\"id\\\":\\\"13471163810146355128\\\",\\\"type\\\":\\\"observable\\\"}),\\\"clicks\\\":WebIO.getval({\\\"name\\\":\\\"clicks\\\",\\\"scope\\\":\\\"17320944422252559906\\\",\\\"id\\\":\\\"3529442354368749459\\\",\\\"type\\\":\\\"observable\\\"})};\\n    var self = this;\\n    function AppViewModel() {\\n        for (var key in json_data) {\\n            var el = json_data[key];\\n            this[key] = Array.isArray(el) ? ko.observableArray(el) : ko.observable(el);\\n        }\\n        \\n        \\n        [this[\\\"loading\\\"].subscribe((function (val){!(this.valueFromJulia[\\\"loading\\\"]) ? (WebIO.setval({\\\"name\\\":\\\"loading\\\",\\\"scope\\\":\\\"17320944422252559906\\\",\\\"id\\\":\\\"13471163810146355128\\\",\\\"type\\\":\\\"observable\\\"},val)) : undefined; return this.valueFromJulia[\\\"loading\\\"]=false}),self),this[\\\"clicks\\\"].subscribe((function (val){!(this.valueFromJulia[\\\"clicks\\\"]) ? (WebIO.setval({\\\"name\\\":\\\"clicks\\\",\\\"scope\\\":\\\"17320944422252559906\\\",\\\"id\\\":\\\"3529442354368749459\\\",\\\"type\\\":\\\"observable\\\"},val)) : undefined; return this.valueFromJulia[\\\"clicks\\\"]=false}),self)]\\n        \\n    }\\n    self.model = new AppViewModel();\\n    self.valueFromJulia = {};\\n    for (var key in json_data) {\\n        self.valueFromJulia[key] = false;\\n    }\\n    ko.applyBindings(self.model, self.dom);\\n}\\n);\\n    (WebIO.importBlock({\\\"data\\\":[{\\\"name\\\":\\\"knockout\\\",\\\"type\\\":\\\"js\\\",\\\"url\\\":\\\"\\/assetserver\\/727383f2a47bd31570b7da84eee7b022dd6d7c78-knockout.js\\\"},{\\\"name\\\":\\\"knockout_punches\\\",\\\"type\\\":\\\"js\\\",\\\"url\\\":\\\"\\/assetserver\\/382b41b3b1bd9f26f75861d360bad7f8beea211f-knockout_punches.js\\\"}],\\\"type\\\":\\\"async_block\\\"})).then((imports) => handler.apply(this, imports));\\n}\\n\"],\"observables\":{\"loading\":{\"sync\":false,\"id\":\"13471163810146355128\",\"value\":false},\"clicks\":{\"sync\":true,\"id\":\"3529442354368749459\",\"value\":0}}},\"children\":[{\"props\":{\"attributes\":{\"data-bind\":\"click: function (){this.clicks(this.clicks()+1)}, css: {'is-loading' : loading}\"},\"className\":\"is-medium button is-primary\",\"style\":{}},\"nodeType\":\"DOM\",\"type\":\"node\",\"instanceArgs\":{\"namespace\":\"html\",\"tag\":\"button\"},\"children\":[\"reset\"]}]}]}]}]},{\"props\":{},\"nodeType\":\"Scope\",\"type\":\"node\",\"instanceArgs\":{\"imports\":{\"data\":[],\"type\":\"async_block\"},\"id\":\"5741543412387009964\",\"handlers\":{\"obs-output\":[\"function (value, scope) {\\n    scope.setInnerHTML(value);\\n}\\n\"]},\"systemjs_options\":null,\"mount_callbacks\":[],\"observables\":{\"obs-output\":{\"sync\":false,\"id\":\"16403371141604677388\",\"value\":\"    <div style=\\\"height: 500px; width: 100%; overflow-x: auto; overflow-y: hidden; resize: both\\\">\\n    <iframe src=\\\"http:\\/\\/127.0.0.1:8701\\\" style=\\\"width: 100%; height: 100%; border: none\\\"><\\/iframe>\\n    <\\/div>\\n\"}}},\"children\":[{\"props\":{\"className\":\"webio-observable\",\"setInnerHtml\":\"    <div style=\\\"height: 500px; width: 100%; overflow-x: auto; overflow-y: hidden; resize: both\\\">\\n    <iframe src=\\\"http:\\/\\/127.0.0.1:8701\\\" style=\\\"width: 100%; height: 100%; border: none\\\"><\\/iframe>\\n    <\\/div>\\n\"},\"nodeType\":\"DOM\",\"type\":\"node\",\"instanceArgs\":{\"namespace\":\"html\",\"tag\":\"div\"},\"children\":[]}]},{\"props\":{\"className\":\"interact-widget\"},\"nodeType\":\"DOM\",\"type\":\"node\",\"instanceArgs\":{\"namespace\":\"html\",\"tag\":\"div\"},\"children\":[{\"props\":{},\"nodeType\":\"Scope\",\"type\":\"node\",\"instanceArgs\":{\"imports\":{\"data\":[{\"name\":null,\"type\":\"js\",\"url\":\"\\/assetserver\\/dd22ed1bf1896c2748f3fe616ce0b838adc895c1-katex.min.js\"},{\"name\":null,\"type\":\"css\",\"url\":\"\\/assetserver\\/46517a424aa5e6cffc1360d7e0848b601c584ee3-katex.min.css\"}],\"type\":\"async_block\"},\"id\":\"15155723812437631898\",\"handlers\":{\"value\":[\"(function (txt){return this.k.render(txt,this.container)})\"]},\"systemjs_options\":null,\"mount_callbacks\":[\"function () {\\n    var handler = ((function (k){this.k=k; this.container=this.dom.querySelector(\\\"#container\\\"); return k.render(\\\"\\\\\\\\;\\\\\\\\;\\\",this.container)}));\\n    (WebIO.importBlock({\\\"data\\\":[{\\\"name\\\":null,\\\"type\\\":\\\"js\\\",\\\"url\\\":\\\"\\/assetserver\\/dd22ed1bf1896c2748f3fe616ce0b838adc895c1-katex.min.js\\\"},{\\\"name\\\":null,\\\"type\\\":\\\"css\\\",\\\"url\\\":\\\"\\/assetserver\\/46517a424aa5e6cffc1360d7e0848b601c584ee3-katex.min.css\\\"}],\\\"type\\\":\\\"async_block\\\"})).then((imports) => handler.apply(this, imports));\\n}\\n\"],\"observables\":{\"value\":{\"sync\":false,\"id\":\"11080017874471824166\",\"value\":\"\\\\;\\\\;\"}}},\"children\":[{\"props\":{\"id\":\"container\"},\"nodeType\":\"DOM\",\"type\":\"node\",\"instanceArgs\":{\"namespace\":\"html\",\"tag\":\"div\"},\"children\":[]}]}]},{\"props\":{\"style\":{\"display\":\"flex\",\"flex-direction\":\"column\"}},\"nodeType\":\"DOM\",\"type\":\"node\",\"instanceArgs\":{\"namespace\":\"html\",\"tag\":\"div\"},\"children\":[{\"props\":{},\"nodeType\":\"Scope\",\"type\":\"node\",\"instanceArgs\":{\"imports\":{\"data\":[],\"type\":\"async_block\"},\"id\":\"6487301069086703345\",\"handlers\":{\"obs-output\":[\"function (value, scope) {\\n    scope.setInnerHTML(value);\\n}\\n\"]},\"systemjs_options\":null,\"mount_callbacks\":[],\"observables\":{\"obs-output\":{\"sync\":false,\"id\":\"190655164675990243\",\"value\":\"<img src=\\\"data:image\\/png;base64,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\\\" \\/>\"}}},\"children\":[{\"props\":{\"className\":\"webio-observable\",\"setInnerHtml\":\"<img src=\\\"data:image\\/png;base64,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\\\" \\/>\"},\"nodeType\":\"DOM\",\"type\":\"node\",\"instanceArgs\":{\"namespace\":\"html\",\"tag\":\"div\"},\"children\":[]}]}]}]}]},\n",
       "        window,\n",
       "    );\n",
       "    })()\n",
       "    </script>\n",
       "</div>\n"
      ],
      "text/plain": [
       "WebIO.Node{WebIO.DOM}(WebIO.DOM(:html, :div), Any[WebIO.Node{WebIO.DOM}(WebIO.DOM(:html, :div), Any[WebIO.Node{WebIO.DOM}(WebIO.DOM(:html, :div), Any[WebIO.Node{WebIO.DOM}(WebIO.DOM(:html, :div), Any[WebIO.Scope(WebIO.Node{WebIO.DOM}(WebIO.DOM(:html, :div), Any[WebIO.Node{WebIO.DOM}(WebIO.DOM(:html, :div), Any[WebIO.Node{WebIO.DOM}(WebIO.DOM(:html, :label), Any[\"time\"], Dict{Symbol, Any}(:className => \"interact \", :style => Dict{Any, Any}(:padding => \"5px 10px 0px 10px\")))], Dict{Symbol, Any}(:className => \"interact-flex-row-left\")), WebIO.Node{WebIO.DOM}(WebIO.DOM(:html, :div), Any[WebIO.Node{WebIO.DOM}(WebIO.DOM(:html, :input), Any[], Dict{Symbol, Any}(:max => 100, :min => 1, :attributes => Dict{Any, Any}(:type => \"range\", Symbol(\"data-bind\") => \"numericValue: index, valueUpdate: 'input', event: {change: function (){this.changes(this.changes()+1)}}\", \"orient\" => \"horizontal\"), :step => 1, :className => \"slider slider is-fullwidth\", :style => Dict{Any, Any}()))], Dict{Symbol, Any}(:className => \"interact-flex-row-center\")), WebIO.Node{WebIO.DOM}(WebIO.DOM(:html, :div), Any[WebIO.Node{WebIO.DOM}(WebIO.DOM(:html, :p), Any[], Dict{Symbol, Any}(:attributes => Dict(\"data-bind\" => \"text: formatted_val\")))], Dict{Symbol, Any}(:className => \"interact-flex-row-right\"))], Dict{Symbol, Any}(:className => \"interact-flex-row interact-widget\")), Dict{String, Tuple{Observables.AbstractObservable, Union{Nothing, Bool}}}(\"changes\" => (Observable(0), nothing), \"index\" => (Observable(1), nothing)), Set{String}(), nothing, WebIO.Asset[WebIO.Asset(\"js\", \"knockout\", \"/home/dushya/.julia/packages/Knockout/HReiN/src/../assets/knockout.js\"), WebIO.Asset(\"js\", \"knockout_punches\", \"/home/dushya/.julia/packages/Knockout/HReiN/src/../assets/knockout_punches.js\"), WebIO.Asset(\"js\", nothing, \"/home/dushya/.julia/packages/InteractBase/LJXv3/src/../assets/all.js\"), WebIO.Asset(\"css\", nothing, \"/home/dushya/.julia/packages/InteractBase/LJXv3/src/../assets/style.css\"), WebIO.Asset(\"css\", nothing, \"/home/dushya/.julia/packages/Interact/PENUy/src/../assets/bulma_confined.min.css\")], Dict{Any, Any}(\"changes\" => Any[WebIO.JSString(\"(function (val){return (val!=this.model[\\\"changes\\\"]()) ? (this.valueFromJulia[\\\"changes\\\"]=true, this.model[\\\"changes\\\"](val)) : undefined})\")], \"index\" => Any[WebIO.JSString(\"(function (val){return (val!=this.model[\\\"index\\\"]()) ? (this.valueFromJulia[\\\"index\\\"]=true, this.model[\\\"index\\\"](val)) : undefined})\")]), WebIO.ConnectionPool(Channel{Any}(32), Set{WebIO.AbstractConnection}(), Base.GenericCondition{ReentrantLock}(Base.IntrusiveLinkedList{Task}(Task (runnable) @0x00007f02c4e80c90, Task (runnable) @0x00007f02c4e80c90), ReentrantLock(nothing, 0x00000000, 0x00, Base.GenericCondition{Base.Threads.SpinLock}(Base.IntrusiveLinkedList{Task}(nothing, nothing), Base.Threads.SpinLock(0)), (0, 139650602701888, 139649894722720)))), WebIO.JSString[WebIO.JSString(\"function () {\\n    var handler = (function (ko, koPunches) {\\n    ko.punches.enableAll();\\n    ko.bindingHandlers.numericValue = {\\n        init: function(element, valueAccessor, allBindings, data, context) {\\n            var stringified = ko.observable(ko.unwrap(valueAccessor()));\\n            stringified.subscribe(function(value) {\\n                var val = parseFloat(value);\\n                if (!isNaN(val)) {\\n                    valueAccessor()(val);\\n                }\\n            });\\n            valueAccessor().subscribe(function(value) {\\n                var str = JSON.stringify(value);\\n                if ((str == \\\"0\\\") && ([\\\"-0\\\", \\\"-0.\\\"].indexOf(stringified()) >= 0))\\n                     return;\\n                 if ([\\\"null\\\", \\\"\\\"].indexOf(str) >= 0)\\n                     return;\\n                stringified(str);\\n            });\\n            ko.applyBindingsToNode(\\n                element,\\n                {\\n                    value: stringified,\\n                    valueUpdate: allBindings.get('valueUpdate'),\\n                },\\n                context,\\n            );\\n        }\\n    };\\n    var json_data = {\\\"formatted_vals\\\":[\\\"1\\\",\\\"2\\\",\\\"3\\\",\\\"4\\\",\\\"5\\\",\\\"6\\\",\\\"7\\\",\\\"8\\\",\\\"9\\\",\\\"10\\\",\\\"11\\\",\\\"12\\\",\\\"13\\\",\\\"14\\\",\\\"15\\\",\\\"16\\\",\\\"17\\\",\\\"18\\\",\\\"19\\\",\\\"20\\\",\\\"21\\\",\\\"22\\\",\\\"23\\\",\\\"24\\\",\\\"25\\\",\\\"26\\\",\\\"27\\\",\\\"28\\\",\\\"29\\\",\\\"30\\\",\\\"31\\\",\\\"32\\\",\\\"33\\\",\\\"34\\\",\\\"35\\\",\\\"36\\\",\\\"37\\\",\\\"38\\\",\\\"39\\\",\\\"40\\\",\\\"41\\\",\\\"42\\\",\\\"43\\\",\\\"44\\\",\\\"45\\\",\\\"46\\\",\\\"47\\\",\\\"48\\\",\\\"49\\\",\\\"50\\\",\\\"51\\\",\\\"52\\\",\\\"53\\\",\\\"54\\\",\\\"55\\\",\\\"56\\\",\\\"57\\\",\\\"58\\\",\\\"59\\\",\\\"60\\\",\\\"61\\\",\\\"62\\\",\\\"63\\\",\\\"64\\\",\\\"65\\\",\\\"66\\\",\\\"67\\\",\\\"68\\\",\\\"69\\\",\\\"70\\\",\\\"71\\\",\\\"72\\\",\\\"73\\\",\\\"74\\\",\\\"75\\\",\\\"76\\\",\\\"77\\\",\\\"78\\\",\\\"79\\\",\\\"80\\\",\\\"81\\\",\\\"82\\\",\\\"83\\\",\\\"84\\\",\\\"85\\\",\\\"86\\\",\\\"87\\\",\\\"88\\\",\\\"89\\\",\\\"90\\\",\\\"91\\\",\\\"92\\\",\\\"93\\\",\\\"94\\\",\\\"95\\\",\\\"96\\\",\\\"97\\\",\\\"98\\\",\\\"99\\\",\\\"100\\\"],\\\"changes\\\":WebIO.getval({\\\"name\\\":\\\"changes\\\",\\\"scope\\\":\\\"10258479415669740413\\\",\\\"id\\\":\\\"11541358685889468826\\\",\\\"type\\\":\\\"observable\\\"}),\\\"index\\\":WebIO.getval({\\\"name\\\":\\\"index\\\",\\\"scope\\\":\\\"10258479415669740413\\\",\\\"id\\\":\\\"7142534577498101358\\\",\\\"type\\\":\\\"observable\\\"})};\\n    var self = this;\\n    function AppViewModel() {\\n        for (var key in json_data) {\\n            var el = json_data[key];\\n            this[key] = Array.isArray(el) ? ko.observableArray(el) : ko.observable(el);\\n        }\\n        \\n        [this[\\\"formatted_val\\\"]=ko.computed(    function(){\\n        return this.formatted_vals()[parseInt(this.index())-(1)];\\n    }\\n,this)]\\n        [this[\\\"changes\\\"].subscribe((function (val){!(this.valueFromJulia[\\\"changes\\\"]) ? (WebIO.setval({\\\"name\\\":\\\"changes\\\",\\\"scope\\\":\\\"10258479415669740413\\\",\\\"id\\\":\\\"11541358685889468826\\\",\\\"type\\\":\\\"observable\\\"},val)) : undefined; return this.valueFromJulia[\\\"changes\\\"]=false}),self),this[\\\"index\\\"].subscribe((function (val){!(this.valueFromJulia[\\\"index\\\"]) ? (WebIO.setval({\\\"name\\\":\\\"index\\\",\\\"scope\\\":\\\"10258479415669740413\\\",\\\"id\\\":\\\"7142534577498101358\\\",\\\"type\\\":\\\"observable\\\"},val)) : undefined; return this.valueFromJulia[\\\"index\\\"]=false}),self)]\\n        \\n    }\\n    self.model = new AppViewModel();\\n    self.valueFromJulia = {};\\n    for (var key in json_data) {\\n        self.valueFromJulia[key] = false;\\n    }\\n    ko.applyBindings(self.model, self.dom);\\n}\\n);\\n    (WebIO.importBlock({\\\"data\\\":[{\\\"name\\\":\\\"knockout\\\",\\\"type\\\":\\\"js\\\",\\\"url\\\":\\\"/assetserver/727383f2a47bd31570b7da84eee7b022dd6d7c78-knockout.js\\\"},{\\\"name\\\":\\\"knockout_punches\\\",\\\"type\\\":\\\"js\\\",\\\"url\\\":\\\"/assetserver/382b41b3b1bd9f26f75861d360bad7f8beea211f-knockout_punches.js\\\"}],\\\"type\\\":\\\"async_block\\\"})).then((imports) => handler.apply(this, imports));\\n}\\n\")])], Dict{Symbol, Any}(:className => \"field interact-widget\")), WebIO.Node{WebIO.DOM}(WebIO.DOM(:html, :div), Any[WebIO.Scope(WebIO.Node{WebIO.DOM}(WebIO.DOM(:html, :div), Any[WebIO.Node{WebIO.DOM}(WebIO.DOM(:html, :div), Any[WebIO.Node{WebIO.DOM}(WebIO.DOM(:html, :label), Any[\"scale\"], Dict{Symbol, Any}(:className => \"interact \", :style => Dict{Any, Any}(:padding => \"5px 10px 0px 10px\")))], Dict{Symbol, Any}(:className => \"interact-flex-row-left\")), WebIO.Node{WebIO.DOM}(WebIO.DOM(:html, :div), Any[WebIO.Node{WebIO.DOM}(WebIO.DOM(:html, :input), Any[], Dict{Symbol, Any}(:max => 20, :min => 1, :attributes => Dict{Any, Any}(:type => \"range\", Symbol(\"data-bind\") => \"numericValue: index, valueUpdate: 'input', event: {change: function (){this.changes(this.changes()+1)}}\", \"orient\" => \"horizontal\"), :step => 1, :className => \"slider slider is-fullwidth\", :style => Dict{Any, Any}()))], Dict{Symbol, Any}(:className => \"interact-flex-row-center\")), WebIO.Node{WebIO.DOM}(WebIO.DOM(:html, :div), Any[WebIO.Node{WebIO.DOM}(WebIO.DOM(:html, :p), Any[], Dict{Symbol, Any}(:attributes => Dict(\"data-bind\" => \"text: formatted_val\")))], Dict{Symbol, Any}(:className => \"interact-flex-row-right\"))], Dict{Symbol, Any}(:className => \"interact-flex-row interact-widget\")), Dict{String, Tuple{Observables.AbstractObservable, Union{Nothing, Bool}}}(\"changes\" => (Observable(0), nothing), \"index\" => (Observable{Any}(10), nothing)), Set{String}(), nothing, WebIO.Asset[WebIO.Asset(\"js\", \"knockout\", \"/home/dushya/.julia/packages/Knockout/HReiN/src/../assets/knockout.js\"), WebIO.Asset(\"js\", \"knockout_punches\", \"/home/dushya/.julia/packages/Knockout/HReiN/src/../assets/knockout_punches.js\"), WebIO.Asset(\"js\", nothing, \"/home/dushya/.julia/packages/InteractBase/LJXv3/src/../assets/all.js\"), WebIO.Asset(\"css\", nothing, \"/home/dushya/.julia/packages/InteractBase/LJXv3/src/../assets/style.css\"), WebIO.Asset(\"css\", nothing, \"/home/dushya/.julia/packages/Interact/PENUy/src/../assets/bulma_confined.min.css\")], Dict{Any, Any}(\"changes\" => Any[WebIO.JSString(\"(function (val){return (val!=this.model[\\\"changes\\\"]()) ? (this.valueFromJulia[\\\"changes\\\"]=true, this.model[\\\"changes\\\"](val)) : undefined})\")], \"index\" => Any[WebIO.JSString(\"(function (val){return (val!=this.model[\\\"index\\\"]()) ? (this.valueFromJulia[\\\"index\\\"]=true, this.model[\\\"index\\\"](val)) : undefined})\")]), WebIO.ConnectionPool(Channel{Any}(32), Set{WebIO.AbstractConnection}(), Base.GenericCondition{ReentrantLock}(Base.IntrusiveLinkedList{Task}(Task (runnable) @0x00007f02c4e839e0, Task (runnable) @0x00007f02c4e839e0), ReentrantLock(nothing, 0x00000000, 0x00, Base.GenericCondition{Base.Threads.SpinLock}(Base.IntrusiveLinkedList{Task}(nothing, nothing), Base.Threads.SpinLock(0)), (1, 139649894768288, 1)))), WebIO.JSString[WebIO.JSString(\"function () {\\n    var handler = (function (ko, koPunches) {\\n    ko.punches.enableAll();\\n    ko.bindingHandlers.numericValue = {\\n        init: function(element, valueAccessor, allBindings, data, context) {\\n            var stringified = ko.observable(ko.unwrap(valueAccessor()));\\n            stringified.subscribe(function(value) {\\n                var val = parseFloat(value);\\n                if (!isNaN(val)) {\\n                    valueAccessor()(val);\\n                }\\n            });\\n            valueAccessor().subscribe(function(value) {\\n                var str = JSON.stringify(value);\\n                if ((str == \\\"0\\\") && ([\\\"-0\\\", \\\"-0.\\\"].indexOf(stringified()) >= 0))\\n                     return;\\n                 if ([\\\"null\\\", \\\"\\\"].indexOf(str) >= 0)\\n                     return;\\n                stringified(str);\\n            });\\n            ko.applyBindingsToNode(\\n                element,\\n                {\\n                    value: stringified,\\n                    valueUpdate: allBindings.get('valueUpdate'),\\n                },\\n                context,\\n            );\\n        }\\n    };\\n    var json_data = {\\\"formatted_vals\\\":[\\\"0.1\\\",\\\"0.2\\\",\\\"0.3\\\",\\\"0.4\\\",\\\"0.5\\\",\\\"0.6\\\",\\\"0.7\\\",\\\"0.8\\\",\\\"0.9\\\",\\\"1.0\\\",\\\"1.1\\\",\\\"1.2\\\",\\\"1.3\\\",\\\"1.4\\\",\\\"1.5\\\",\\\"1.6\\\",\\\"1.7\\\",\\\"1.8\\\",\\\"1.9\\\",\\\"2.0\\\"],\\\"changes\\\":WebIO.getval({\\\"name\\\":\\\"changes\\\",\\\"scope\\\":\\\"16392149104733727859\\\",\\\"id\\\":\\\"5487759554619206363\\\",\\\"type\\\":\\\"observable\\\"}),\\\"index\\\":WebIO.getval({\\\"name\\\":\\\"index\\\",\\\"scope\\\":\\\"16392149104733727859\\\",\\\"id\\\":\\\"2994690289075158276\\\",\\\"type\\\":\\\"observable\\\"})};\\n    var self = this;\\n    function AppViewModel() {\\n        for (var key in json_data) {\\n            var el = json_data[key];\\n            this[key] = Array.isArray(el) ? ko.observableArray(el) : ko.observable(el);\\n        }\\n        \\n        [this[\\\"formatted_val\\\"]=ko.computed(    function(){\\n        return this.formatted_vals()[parseInt(this.index())-(1)];\\n    }\\n,this)]\\n        [this[\\\"changes\\\"].subscribe((function (val){!(this.valueFromJulia[\\\"changes\\\"]) ? (WebIO.setval({\\\"name\\\":\\\"changes\\\",\\\"scope\\\":\\\"16392149104733727859\\\",\\\"id\\\":\\\"5487759554619206363\\\",\\\"type\\\":\\\"observable\\\"},val)) : undefined; return this.valueFromJulia[\\\"changes\\\"]=false}),self),this[\\\"index\\\"].subscribe((function (val){!(this.valueFromJulia[\\\"index\\\"]) ? (WebIO.setval({\\\"name\\\":\\\"index\\\",\\\"scope\\\":\\\"16392149104733727859\\\",\\\"id\\\":\\\"2994690289075158276\\\",\\\"type\\\":\\\"observable\\\"},val)) : undefined; return this.valueFromJulia[\\\"index\\\"]=false}),self)]\\n        \\n    }\\n    self.model = new AppViewModel();\\n    self.valueFromJulia = {};\\n    for (var key in json_data) {\\n        self.valueFromJulia[key] = false;\\n    }\\n    ko.applyBindings(self.model, self.dom);\\n}\\n);\\n    (WebIO.importBlock({\\\"data\\\":[{\\\"name\\\":\\\"knockout\\\",\\\"type\\\":\\\"js\\\",\\\"url\\\":\\\"/assetserver/727383f2a47bd31570b7da84eee7b022dd6d7c78-knockout.js\\\"},{\\\"name\\\":\\\"knockout_punches\\\",\\\"type\\\":\\\"js\\\",\\\"url\\\":\\\"/assetserver/382b41b3b1bd9f26f75861d360bad7f8beea211f-knockout_punches.js\\\"}],\\\"type\\\":\\\"async_block\\\"})).then((imports) => handler.apply(this, imports));\\n}\\n\")])], Dict{Symbol, Any}(:className => \"field interact-widget\")), WebIO.Node{WebIO.DOM}(WebIO.DOM(:html, :div), Any[], Dict{Symbol, Any}(:style => Dict(\"display\" => \"flex\", \"flex-direction\" => \"column\"))), WebIO.Node{WebIO.DOM}(WebIO.DOM(:html, :div), Any[WebIO.Node{WebIO.DOM}(WebIO.DOM(:html, :div), Any[WebIO.Scope(WebIO.Node{WebIO.DOM}(WebIO.DOM(:html, :div), Any[WebIO.Node{WebIO.DOM}(WebIO.DOM(:html, :div), Any[WebIO.Node{WebIO.DOM}(WebIO.DOM(:html, :label), Any[\"temp\"], Dict{Symbol, Any}(:className => \"interact \", :style => Dict{Any, Any}(:padding => \"5px 10px 0px 10px\")))], Dict{Symbol, Any}(:className => \"interact-flex-row-left\")), WebIO.Node{WebIO.DOM}(WebIO.DOM(:html, :div), Any[WebIO.Node{WebIO.DOM}(WebIO.DOM(:html, :input), Any[], Dict{Symbol, Any}(:max => 100, :min => 1, :attributes => Dict{Any, Any}(:type => \"range\", Symbol(\"data-bind\") => \"numericValue: index, valueUpdate: 'input', event: {change: function (){this.changes(this.changes()+1)}}\", \"orient\" => \"horizontal\"), :step => 1, :className => \"slider slider is-fullwidth\", :style => Dict{Any, Any}()))], Dict{Symbol, Any}(:className => \"interact-flex-row-center\")), WebIO.Node{WebIO.DOM}(WebIO.DOM(:html, :div), Any[WebIO.Node{WebIO.DOM}(WebIO.DOM(:html, :p), Any[], Dict{Symbol, Any}(:attributes => Dict(\"data-bind\" => \"text: formatted_val\")))], Dict{Symbol, Any}(:className => \"interact-flex-row-right\"))], Dict{Symbol, Any}(:className => \"interact-flex-row interact-widget\")), Dict{String, Tuple{Observables.AbstractObservable, Union{Nothing, Bool}}}(\"changes\" => (Observable(0), nothing), \"index\" => (Observable{Any}(50), nothing)), Set{String}(), nothing, WebIO.Asset[WebIO.Asset(\"js\", \"knockout\", \"/home/dushya/.julia/packages/Knockout/HReiN/src/../assets/knockout.js\"), WebIO.Asset(\"js\", \"knockout_punches\", \"/home/dushya/.julia/packages/Knockout/HReiN/src/../assets/knockout_punches.js\"), WebIO.Asset(\"js\", nothing, \"/home/dushya/.julia/packages/InteractBase/LJXv3/src/../assets/all.js\"), WebIO.Asset(\"css\", nothing, \"/home/dushya/.julia/packages/InteractBase/LJXv3/src/../assets/style.css\"), WebIO.Asset(\"css\", nothing, \"/home/dushya/.julia/packages/Interact/PENUy/src/../assets/bulma_confined.min.css\")], Dict{Any, Any}(\"changes\" => Any[WebIO.JSString(\"(function (val){return (val!=this.model[\\\"changes\\\"]()) ? (this.valueFromJulia[\\\"changes\\\"]=true, this.model[\\\"changes\\\"](val)) : undefined})\")], \"index\" => Any[WebIO.JSString(\"(function (val){return (val!=this.model[\\\"index\\\"]()) ? (this.valueFromJulia[\\\"index\\\"]=true, this.model[\\\"index\\\"](val)) : undefined})\")]), WebIO.ConnectionPool(Channel{Any}(32), Set{WebIO.AbstractConnection}(), Base.GenericCondition{ReentrantLock}(Base.IntrusiveLinkedList{Task}(Task (runnable) @0x00007f02c4f79aa0, Task (runnable) @0x00007f02c4f79aa0), ReentrantLock(nothing, 0x00000000, 0x00, Base.GenericCondition{Base.Threads.SpinLock}(Base.IntrusiveLinkedList{Task}(nothing, nothing), Base.Threads.SpinLock(0)), (2, 139649894722208, 139650746282288)))), WebIO.JSString[WebIO.JSString(\"function () {\\n    var handler = (function (ko, koPunches) {\\n    ko.punches.enableAll();\\n    ko.bindingHandlers.numericValue = {\\n        init: function(element, valueAccessor, allBindings, data, context) {\\n            var stringified = ko.observable(ko.unwrap(valueAccessor()));\\n            stringified.subscribe(function(value) {\\n                var val = parseFloat(value);\\n                if (!isNaN(val)) {\\n                    valueAccessor()(val);\\n                }\\n            });\\n            valueAccessor().subscribe(function(value) {\\n                var str = JSON.stringify(value);\\n                if ((str == \\\"0\\\") && ([\\\"-0\\\", \\\"-0.\\\"].indexOf(stringified()) >= 0))\\n                     return;\\n                 if ([\\\"null\\\", \\\"\\\"].indexOf(str) >= 0)\\n                     return;\\n                stringified(str);\\n            });\\n            ko.applyBindingsToNode(\\n                element,\\n                {\\n                    value: stringified,\\n                    valueUpdate: allBindings.get('valueUpdate'),\\n                },\\n                context,\\n            );\\n        }\\n    };\\n    var json_data = {\\\"formatted_vals\\\":[\\\"0.05\\\",\\\"0.1\\\",\\\"0.15\\\",\\\"0.2\\\",\\\"0.25\\\",\\\"0.3\\\",\\\"0.35\\\",\\\"0.4\\\",\\\"0.45\\\",\\\"0.5\\\",\\\"0.55\\\",\\\"0.6\\\",\\\"0.65\\\",\\\"0.7\\\",\\\"0.75\\\",\\\"0.8\\\",\\\"0.85\\\",\\\"0.9\\\",\\\"0.95\\\",\\\"1.0\\\",\\\"1.05\\\",\\\"1.1\\\",\\\"1.15\\\",\\\"1.2\\\",\\\"1.25\\\",\\\"1.3\\\",\\\"1.35\\\",\\\"1.4\\\",\\\"1.45\\\",\\\"1.5\\\",\\\"1.55\\\",\\\"1.6\\\",\\\"1.65\\\",\\\"1.7\\\",\\\"1.75\\\",\\\"1.8\\\",\\\"1.85\\\",\\\"1.9\\\",\\\"1.95\\\",\\\"2.0\\\",\\\"2.05\\\",\\\"2.1\\\",\\\"2.15\\\",\\\"2.2\\\",\\\"2.25\\\",\\\"2.3\\\",\\\"2.35\\\",\\\"2.4\\\",\\\"2.45\\\",\\\"2.5\\\",\\\"2.55\\\",\\\"2.6\\\",\\\"2.65\\\",\\\"2.7\\\",\\\"2.75\\\",\\\"2.8\\\",\\\"2.85\\\",\\\"2.9\\\",\\\"2.95\\\",\\\"3.0\\\",\\\"3.05\\\",\\\"3.1\\\",\\\"3.15\\\",\\\"3.2\\\",\\\"3.25\\\",\\\"3.3\\\",\\\"3.35\\\",\\\"3.4\\\",\\\"3.45\\\",\\\"3.5\\\",\\\"3.55\\\",\\\"3.6\\\",\\\"3.65\\\",\\\"3.7\\\",\\\"3.75\\\",\\\"3.8\\\",\\\"3.85\\\",\\\"3.9\\\",\\\"3.95\\\",\\\"4.0\\\",\\\"4.05\\\",\\\"4.1\\\",\\\"4.15\\\",\\\"4.2\\\",\\\"4.25\\\",\\\"4.3\\\",\\\"4.35\\\",\\\"4.4\\\",\\\"4.45\\\",\\\"4.5\\\",\\\"4.55\\\",\\\"4.6\\\",\\\"4.65\\\",\\\"4.7\\\",\\\"4.75\\\",\\\"4.8\\\",\\\"4.85\\\",\\\"4.9\\\",\\\"4.95\\\",\\\"5.0\\\"],\\\"changes\\\":WebIO.getval({\\\"name\\\":\\\"changes\\\",\\\"scope\\\":\\\"18149941216062870204\\\",\\\"id\\\":\\\"6644966120718903714\\\",\\\"type\\\":\\\"observable\\\"}),\\\"index\\\":WebIO.getval({\\\"name\\\":\\\"index\\\",\\\"scope\\\":\\\"18149941216062870204\\\",\\\"id\\\":\\\"16966047374917787003\\\",\\\"type\\\":\\\"observable\\\"})};\\n    var self = this;\\n    function AppViewModel() {\\n        for (var key in json_data) {\\n            var el = json_data[key];\\n            this[key] = Array.isArray(el) ? ko.observableArray(el) : ko.observable(el);\\n        }\\n        \\n        [this[\\\"formatted_val\\\"]=ko.computed(    function(){\\n        return this.formatted_vals()[parseInt(this.index())-(1)];\\n    }\\n,this)]\\n        [this[\\\"changes\\\"].subscribe((function (val){!(this.valueFromJulia[\\\"changes\\\"]) ? (WebIO.setval({\\\"name\\\":\\\"changes\\\",\\\"scope\\\":\\\"18149941216062870204\\\",\\\"id\\\":\\\"6644966120718903714\\\",\\\"type\\\":\\\"observable\\\"},val)) : undefined; return this.valueFromJulia[\\\"changes\\\"]=false}),self),this[\\\"index\\\"].subscribe((function (val){!(this.valueFromJulia[\\\"index\\\"]) ? (WebIO.setval({\\\"name\\\":\\\"index\\\",\\\"scope\\\":\\\"18149941216062870204\\\",\\\"id\\\":\\\"16966047374917787003\\\",\\\"type\\\":\\\"observable\\\"},val)) : undefined; return this.valueFromJulia[\\\"index\\\"]=false}),self)]\\n        \\n    }\\n    self.model = new AppViewModel();\\n    self.valueFromJulia = {};\\n    for (var key in json_data) {\\n        self.valueFromJulia[key] = false;\\n    }\\n    ko.applyBindings(self.model, self.dom);\\n}\\n);\\n    (WebIO.importBlock({\\\"data\\\":[{\\\"name\\\":\\\"knockout\\\",\\\"type\\\":\\\"js\\\",\\\"url\\\":\\\"/assetserver/727383f2a47bd31570b7da84eee7b022dd6d7c78-knockout.js\\\"},{\\\"name\\\":\\\"knockout_punches\\\",\\\"type\\\":\\\"js\\\",\\\"url\\\":\\\"/assetserver/382b41b3b1bd9f26f75861d360bad7f8beea211f-knockout_punches.js\\\"}],\\\"type\\\":\\\"async_block\\\"})).then((imports) => handler.apply(this, imports));\\n}\\n\")])], Dict{Symbol, Any}(:className => \"field interact-widget\")), WebIO.Node{WebIO.DOM}(WebIO.DOM(:html, :div), Any[WebIO.Scope(WebIO.Node{WebIO.DOM}(WebIO.DOM(:html, :div), Any[WebIO.Node{WebIO.DOM}(WebIO.DOM(:html, :div), Any[WebIO.Node{WebIO.DOM}(WebIO.DOM(:html, :label), Any[\"coupl\"], Dict{Symbol, Any}(:className => \"interact \", :style => Dict{Any, Any}(:padding => \"5px 10px 0px 10px\")))], Dict{Symbol, Any}(:className => \"interact-flex-row-left\")), WebIO.Node{WebIO.DOM}(WebIO.DOM(:html, :div), Any[WebIO.Node{WebIO.DOM}(WebIO.DOM(:html, :input), Any[], Dict{Symbol, Any}(:max => 50, :min => 1, :attributes => Dict{Any, Any}(:type => \"range\", Symbol(\"data-bind\") => \"numericValue: index, valueUpdate: 'input', event: {change: function (){this.changes(this.changes()+1)}}\", \"orient\" => \"horizontal\"), :step => 1, :className => \"slider slider is-fullwidth\", :style => Dict{Any, Any}()))], Dict{Symbol, Any}(:className => \"interact-flex-row-center\")), WebIO.Node{WebIO.DOM}(WebIO.DOM(:html, :div), Any[WebIO.Node{WebIO.DOM}(WebIO.DOM(:html, :p), Any[], Dict{Symbol, Any}(:attributes => Dict(\"data-bind\" => \"text: formatted_val\")))], Dict{Symbol, Any}(:className => \"interact-flex-row-right\"))], Dict{Symbol, Any}(:className => \"interact-flex-row interact-widget\")), Dict{String, Tuple{Observables.AbstractObservable, Union{Nothing, Bool}}}(\"changes\" => (Observable(0), nothing), \"index\" => (Observable{Any}(25), nothing)), Set{String}(), nothing, WebIO.Asset[WebIO.Asset(\"js\", \"knockout\", \"/home/dushya/.julia/packages/Knockout/HReiN/src/../assets/knockout.js\"), WebIO.Asset(\"js\", \"knockout_punches\", \"/home/dushya/.julia/packages/Knockout/HReiN/src/../assets/knockout_punches.js\"), WebIO.Asset(\"js\", nothing, \"/home/dushya/.julia/packages/InteractBase/LJXv3/src/../assets/all.js\"), WebIO.Asset(\"css\", nothing, \"/home/dushya/.julia/packages/InteractBase/LJXv3/src/../assets/style.css\"), WebIO.Asset(\"css\", nothing, \"/home/dushya/.julia/packages/Interact/PENUy/src/../assets/bulma_confined.min.css\")], Dict{Any, Any}(\"changes\" => Any[WebIO.JSString(\"(function (val){return (val!=this.model[\\\"changes\\\"]()) ? (this.valueFromJulia[\\\"changes\\\"]=true, this.model[\\\"changes\\\"](val)) : undefined})\")], \"index\" => Any[WebIO.JSString(\"(function (val){return (val!=this.model[\\\"index\\\"]()) ? (this.valueFromJulia[\\\"index\\\"]=true, this.model[\\\"index\\\"](val)) : undefined})\")]), WebIO.ConnectionPool(Channel{Any}(32), Set{WebIO.AbstractConnection}(), Base.GenericCondition{ReentrantLock}(Base.IntrusiveLinkedList{Task}(Task (runnable) @0x00007f02c4fb8330, Task (runnable) @0x00007f02c4fb8330), ReentrantLock(nothing, 0x00000000, 0x00, Base.GenericCondition{Base.Threads.SpinLock}(Base.IntrusiveLinkedList{Task}(nothing, nothing), Base.Threads.SpinLock(0)), (8, 139650746282096, 1)))), WebIO.JSString[WebIO.JSString(\"function () {\\n    var handler = (function (ko, koPunches) {\\n    ko.punches.enableAll();\\n    ko.bindingHandlers.numericValue = {\\n        init: function(element, valueAccessor, allBindings, data, context) {\\n            var stringified = ko.observable(ko.unwrap(valueAccessor()));\\n            stringified.subscribe(function(value) {\\n                var val = parseFloat(value);\\n                if (!isNaN(val)) {\\n                    valueAccessor()(val);\\n                }\\n            });\\n            valueAccessor().subscribe(function(value) {\\n                var str = JSON.stringify(value);\\n                if ((str == \\\"0\\\") && ([\\\"-0\\\", \\\"-0.\\\"].indexOf(stringified()) >= 0))\\n                     return;\\n                 if ([\\\"null\\\", \\\"\\\"].indexOf(str) >= 0)\\n                     return;\\n                stringified(str);\\n            });\\n            ko.applyBindingsToNode(\\n                element,\\n                {\\n                    value: stringified,\\n                    valueUpdate: allBindings.get('valueUpdate'),\\n                },\\n                context,\\n            );\\n        }\\n    };\\n    var json_data = {\\\"formatted_vals\\\":[\\\"0.01\\\",\\\"0.11\\\",\\\"0.21\\\",\\\"0.31\\\",\\\"0.41\\\",\\\"0.51\\\",\\\"0.61\\\",\\\"0.71\\\",\\\"0.81\\\",\\\"0.91\\\",\\\"1.01\\\",\\\"1.11\\\",\\\"1.21\\\",\\\"1.31\\\",\\\"1.41\\\",\\\"1.51\\\",\\\"1.61\\\",\\\"1.71\\\",\\\"1.81\\\",\\\"1.91\\\",\\\"2.01\\\",\\\"2.11\\\",\\\"2.21\\\",\\\"2.31\\\",\\\"2.41\\\",\\\"2.51\\\",\\\"2.61\\\",\\\"2.71\\\",\\\"2.81\\\",\\\"2.91\\\",\\\"3.01\\\",\\\"3.11\\\",\\\"3.21\\\",\\\"3.31\\\",\\\"3.41\\\",\\\"3.51\\\",\\\"3.61\\\",\\\"3.71\\\",\\\"3.81\\\",\\\"3.91\\\",\\\"4.01\\\",\\\"4.11\\\",\\\"4.21\\\",\\\"4.31\\\",\\\"4.41\\\",\\\"4.51\\\",\\\"4.61\\\",\\\"4.71\\\",\\\"4.81\\\",\\\"4.91\\\"],\\\"changes\\\":WebIO.getval({\\\"name\\\":\\\"changes\\\",\\\"scope\\\":\\\"17005452033100227982\\\",\\\"id\\\":\\\"17544612017221048495\\\",\\\"type\\\":\\\"observable\\\"}),\\\"index\\\":WebIO.getval({\\\"name\\\":\\\"index\\\",\\\"scope\\\":\\\"17005452033100227982\\\",\\\"id\\\":\\\"14720154450184222989\\\",\\\"type\\\":\\\"observable\\\"})};\\n    var self = this;\\n    function AppViewModel() {\\n        for (var key in json_data) {\\n            var el = json_data[key];\\n            this[key] = Array.isArray(el) ? ko.observableArray(el) : ko.observable(el);\\n        }\\n        \\n        [this[\\\"formatted_val\\\"]=ko.computed(    function(){\\n        return this.formatted_vals()[parseInt(this.index())-(1)];\\n    }\\n,this)]\\n        [this[\\\"changes\\\"].subscribe((function (val){!(this.valueFromJulia[\\\"changes\\\"]) ? (WebIO.setval({\\\"name\\\":\\\"changes\\\",\\\"scope\\\":\\\"17005452033100227982\\\",\\\"id\\\":\\\"17544612017221048495\\\",\\\"type\\\":\\\"observable\\\"},val)) : undefined; return this.valueFromJulia[\\\"changes\\\"]=false}),self),this[\\\"index\\\"].subscribe((function (val){!(this.valueFromJulia[\\\"index\\\"]) ? (WebIO.setval({\\\"name\\\":\\\"index\\\",\\\"scope\\\":\\\"17005452033100227982\\\",\\\"id\\\":\\\"14720154450184222989\\\",\\\"type\\\":\\\"observable\\\"},val)) : undefined; return this.valueFromJulia[\\\"index\\\"]=false}),self)]\\n        \\n    }\\n    self.model = new AppViewModel();\\n    self.valueFromJulia = {};\\n    for (var key in json_data) {\\n        self.valueFromJulia[key] = false;\\n    }\\n    ko.applyBindings(self.model, self.dom);\\n}\\n);\\n    (WebIO.importBlock({\\\"data\\\":[{\\\"name\\\":\\\"knockout\\\",\\\"type\\\":\\\"js\\\",\\\"url\\\":\\\"/assetserver/727383f2a47bd31570b7da84eee7b022dd6d7c78-knockout.js\\\"},{\\\"name\\\":\\\"knockout_punches\\\",\\\"type\\\":\\\"js\\\",\\\"url\\\":\\\"/assetserver/382b41b3b1bd9f26f75861d360bad7f8beea211f-knockout_punches.js\\\"}],\\\"type\\\":\\\"async_block\\\"})).then((imports) => handler.apply(this, imports));\\n}\\n\")])], Dict{Symbol, Any}(:className => \"field interact-widget\")), WebIO.Node{WebIO.DOM}(WebIO.DOM(:html, :div), Any[WebIO.Scope(WebIO.Node{WebIO.DOM}(WebIO.DOM(:html, :div), Any[WebIO.Node{WebIO.DOM}(WebIO.DOM(:html, :div), Any[WebIO.Node{WebIO.DOM}(WebIO.DOM(:html, :label), Any[\"nns\"], Dict{Symbol, Any}(:className => \"interact \", :style => Dict{Any, Any}(:padding => \"5px 10px 0px 10px\")))], Dict{Symbol, Any}(:className => \"interact-flex-row-left\")), WebIO.Node{WebIO.DOM}(WebIO.DOM(:html, :div), Any[WebIO.Node{WebIO.DOM}(WebIO.DOM(:html, :input), Any[], Dict{Symbol, Any}(:max => 10, :min => 2, :attributes => Dict{Any, Any}(:type => \"range\", Symbol(\"data-bind\") => \"numericValue: index, valueUpdate: 'input', event: {change: function (){this.changes(this.changes()+1)}}\", \"orient\" => \"horizontal\"), :step => 1, :className => \"slider slider is-fullwidth\", :style => Dict{Any, Any}()))], Dict{Symbol, Any}(:className => \"interact-flex-row-center\")), WebIO.Node{WebIO.DOM}(WebIO.DOM(:html, :div), Any[WebIO.Node{WebIO.DOM}(WebIO.DOM(:html, :p), Any[], Dict{Symbol, Any}(:attributes => Dict(\"data-bind\" => \"text: formatted_val\")))], Dict{Symbol, Any}(:className => \"interact-flex-row-right\"))], Dict{Symbol, Any}(:className => \"interact-flex-row interact-widget\")), Dict{String, Tuple{Observables.AbstractObservable, Union{Nothing, Bool}}}(\"changes\" => (Observable(0), nothing), \"index\" => (Observable(6), nothing)), Set{String}(), nothing, WebIO.Asset[WebIO.Asset(\"js\", \"knockout\", \"/home/dushya/.julia/packages/Knockout/HReiN/src/../assets/knockout.js\"), WebIO.Asset(\"js\", \"knockout_punches\", \"/home/dushya/.julia/packages/Knockout/HReiN/src/../assets/knockout_punches.js\"), WebIO.Asset(\"js\", nothing, \"/home/dushya/.julia/packages/InteractBase/LJXv3/src/../assets/all.js\"), WebIO.Asset(\"css\", nothing, \"/home/dushya/.julia/packages/InteractBase/LJXv3/src/../assets/style.css\"), WebIO.Asset(\"css\", nothing, \"/home/dushya/.julia/packages/Interact/PENUy/src/../assets/bulma_confined.min.css\")], Dict{Any, Any}(\"changes\" => Any[WebIO.JSString(\"(function (val){return (val!=this.model[\\\"changes\\\"]()) ? (this.valueFromJulia[\\\"changes\\\"]=true, this.model[\\\"changes\\\"](val)) : undefined})\")], \"index\" => Any[WebIO.JSString(\"(function (val){return (val!=this.model[\\\"index\\\"]()) ? (this.valueFromJulia[\\\"index\\\"]=true, this.model[\\\"index\\\"](val)) : undefined})\")]), WebIO.ConnectionPool(Channel{Any}(32), Set{WebIO.AbstractConnection}(), Base.GenericCondition{ReentrantLock}(Base.IntrusiveLinkedList{Task}(Task (runnable) @0x00007f02c4fbb3a0, Task (runnable) @0x00007f02c4fbb3a0), ReentrantLock(nothing, 0x00000000, 0x00, Base.GenericCondition{Base.Threads.SpinLock}(Base.IntrusiveLinkedList{Task}(nothing, nothing), Base.Threads.SpinLock(0)), (0, 139639590514800, 0)))), WebIO.JSString[WebIO.JSString(\"function () {\\n    var handler = (function (ko, koPunches) {\\n    ko.punches.enableAll();\\n    ko.bindingHandlers.numericValue = {\\n        init: function(element, valueAccessor, allBindings, data, context) {\\n            var stringified = ko.observable(ko.unwrap(valueAccessor()));\\n            stringified.subscribe(function(value) {\\n                var val = parseFloat(value);\\n                if (!isNaN(val)) {\\n                    valueAccessor()(val);\\n                }\\n            });\\n            valueAccessor().subscribe(function(value) {\\n                var str = JSON.stringify(value);\\n                if ((str == \\\"0\\\") && ([\\\"-0\\\", \\\"-0.\\\"].indexOf(stringified()) >= 0))\\n                     return;\\n                 if ([\\\"null\\\", \\\"\\\"].indexOf(str) >= 0)\\n                     return;\\n                stringified(str);\\n            });\\n            ko.applyBindingsToNode(\\n                element,\\n                {\\n                    value: stringified,\\n                    valueUpdate: allBindings.get('valueUpdate'),\\n                },\\n                context,\\n            );\\n        }\\n    };\\n    var json_data = {\\\"formatted_vals\\\":[\\\"2\\\",\\\"3\\\",\\\"4\\\",\\\"5\\\",\\\"6\\\",\\\"7\\\",\\\"8\\\",\\\"9\\\",\\\"10\\\"],\\\"changes\\\":WebIO.getval({\\\"name\\\":\\\"changes\\\",\\\"scope\\\":\\\"18183295861232194227\\\",\\\"id\\\":\\\"10139535343269084516\\\",\\\"type\\\":\\\"observable\\\"}),\\\"index\\\":WebIO.getval({\\\"name\\\":\\\"index\\\",\\\"scope\\\":\\\"18183295861232194227\\\",\\\"id\\\":\\\"3466951331806112005\\\",\\\"type\\\":\\\"observable\\\"})};\\n    var self = this;\\n    function AppViewModel() {\\n        for (var key in json_data) {\\n            var el = json_data[key];\\n            this[key] = Array.isArray(el) ? ko.observableArray(el) : ko.observable(el);\\n        }\\n        \\n        [this[\\\"formatted_val\\\"]=ko.computed(    function(){\\n        return this.formatted_vals()[parseInt(this.index())-(2)];\\n    }\\n,this)]\\n        [this[\\\"changes\\\"].subscribe((function (val){!(this.valueFromJulia[\\\"changes\\\"]) ? (WebIO.setval({\\\"name\\\":\\\"changes\\\",\\\"scope\\\":\\\"18183295861232194227\\\",\\\"id\\\":\\\"10139535343269084516\\\",\\\"type\\\":\\\"observable\\\"},val)) : undefined; return this.valueFromJulia[\\\"changes\\\"]=false}),self),this[\\\"index\\\"].subscribe((function (val){!(this.valueFromJulia[\\\"index\\\"]) ? (WebIO.setval({\\\"name\\\":\\\"index\\\",\\\"scope\\\":\\\"18183295861232194227\\\",\\\"id\\\":\\\"3466951331806112005\\\",\\\"type\\\":\\\"observable\\\"},val)) : undefined; return this.valueFromJulia[\\\"index\\\"]=false}),self)]\\n        \\n    }\\n    self.model = new AppViewModel();\\n    self.valueFromJulia = {};\\n    for (var key in json_data) {\\n        self.valueFromJulia[key] = false;\\n    }\\n    ko.applyBindings(self.model, self.dom);\\n}\\n);\\n    (WebIO.importBlock({\\\"data\\\":[{\\\"name\\\":\\\"knockout\\\",\\\"type\\\":\\\"js\\\",\\\"url\\\":\\\"/assetserver/727383f2a47bd31570b7da84eee7b022dd6d7c78-knockout.js\\\"},{\\\"name\\\":\\\"knockout_punches\\\",\\\"type\\\":\\\"js\\\",\\\"url\\\":\\\"/assetserver/382b41b3b1bd9f26f75861d360bad7f8beea211f-knockout_punches.js\\\"}],\\\"type\\\":\\\"async_block\\\"})).then((imports) => handler.apply(this, imports));\\n}\\n\")])], Dict{Symbol, Any}(:className => \"field interact-widget\"))], Dict{Symbol, Any}(:style => Dict(\"display\" => \"flex\", \"flex-direction\" => \"column\"))), WebIO.Node{WebIO.DOM}(WebIO.DOM(:html, :div), Any[WebIO.Node{WebIO.DOM}(WebIO.DOM(:html, :div), Any[WebIO.Scope(WebIO.Node{WebIO.DOM}(WebIO.DOM(:html, :div), Any[], Dict{Symbol, Any}(:id => \"container\")), Dict{String, Tuple{Observables.AbstractObservable, Union{Nothing, Bool}}}(\"value\" => (Observable(\"\\\\;\\\\;\"), nothing)), Set{String}(), nothing, WebIO.Asset[WebIO.Asset(\"js\", nothing, \"/home/dushya/.julia/packages/InteractBase/LJXv3/src/../assets/katex.min.js\"), WebIO.Asset(\"css\", nothing, \"/home/dushya/.julia/packages/InteractBase/LJXv3/src/../assets/katex.min.css\")], Dict{Any, Any}(\"value\" => Any[WebIO.JSString(\"(function (txt){return this.k.render(txt,this.container)})\")]), WebIO.ConnectionPool(Channel{Any}(32), Set{WebIO.AbstractConnection}(), Base.GenericCondition{ReentrantLock}(Base.IntrusiveLinkedList{Task}(Task (runnable) @0x00007f02c5ad5780, Task (runnable) @0x00007f02c5ad5780), ReentrantLock(nothing, 0x00000000, 0x00, Base.GenericCondition{Base.Threads.SpinLock}(Base.IntrusiveLinkedList{Task}(nothing, nothing), Base.Threads.SpinLock(0)), (2, 139650602701888, 8589934592)))), WebIO.JSString[WebIO.JSString(\"function () {\\n    var handler = ((function (k){this.k=k; this.container=this.dom.querySelector(\\\"#container\\\"); return k.render(\\\"\\\\\\\\;\\\\\\\\;\\\",this.container)}));\\n    (WebIO.importBlock({\\\"data\\\":[{\\\"name\\\":null,\\\"type\\\":\\\"js\\\",\\\"url\\\":\\\"/assetserver/dd22ed1bf1896c2748f3fe616ce0b838adc895c1-katex.min.js\\\"},{\\\"name\\\":null,\\\"type\\\":\\\"css\\\",\\\"url\\\":\\\"/assetserver/46517a424aa5e6cffc1360d7e0848b601c584ee3-katex.min.css\\\"}],\\\"type\\\":\\\"async_block\\\"})).then((imports) => handler.apply(this, imports));\\n}\\n\")])], Dict{Symbol, Any}(:className => \"interact-widget\")), WebIO.Node{WebIO.DOM}(WebIO.DOM(:html, :div), Any[WebIO.Scope(WebIO.Node{WebIO.DOM}(WebIO.DOM(:html, :button), Any[\"run\"], Dict{Symbol, Any}(:attributes => Dict{Any, Any}(\"data-bind\" => \"click: function (){this.clicks(this.clicks()+1)}, css: {'is-loading' : loading}\"), :className => \"is-medium button is-primary\", :style => Dict{String, Any}())), Dict{String, Tuple{Observables.AbstractObservable, Union{Nothing, Bool}}}(\"loading\" => (Observable(false), nothing), \"clicks\" => (Observable(0), nothing)), Set{String}(), nothing, WebIO.Asset[WebIO.Asset(\"js\", \"knockout\", \"/home/dushya/.julia/packages/Knockout/HReiN/src/../assets/knockout.js\"), WebIO.Asset(\"js\", \"knockout_punches\", \"/home/dushya/.julia/packages/Knockout/HReiN/src/../assets/knockout_punches.js\"), WebIO.Asset(\"js\", nothing, \"/home/dushya/.julia/packages/InteractBase/LJXv3/src/../assets/all.js\"), WebIO.Asset(\"css\", nothing, \"/home/dushya/.julia/packages/InteractBase/LJXv3/src/../assets/style.css\"), WebIO.Asset(\"css\", nothing, \"/home/dushya/.julia/packages/Interact/PENUy/src/../assets/bulma_confined.min.css\")], Dict{Any, Any}(\"loading\" => Any[WebIO.JSString(\"(function (val){return (val!=this.model[\\\"loading\\\"]()) ? (this.valueFromJulia[\\\"loading\\\"]=true, this.model[\\\"loading\\\"](val)) : undefined})\")], \"clicks\" => Any[WebIO.JSString(\"(function (val){return (val!=this.model[\\\"clicks\\\"]()) ? (this.valueFromJulia[\\\"clicks\\\"]=true, this.model[\\\"clicks\\\"](val)) : undefined})\")]), WebIO.ConnectionPool(Channel{Any}(32), Set{WebIO.AbstractConnection}(), Base.GenericCondition{ReentrantLock}(Base.IntrusiveLinkedList{Task}(Task (runnable) @0x00007f02c5058b00, Task (runnable) @0x00007f02c5058b00), ReentrantLock(nothing, 0x00000000, 0x00, Base.GenericCondition{Base.Threads.SpinLock}(Base.IntrusiveLinkedList{Task}(nothing, nothing), Base.Threads.SpinLock(0)), (41, 139650602701888, 139649896338080)))), WebIO.JSString[WebIO.JSString(\"function () {\\n    var handler = (function (ko, koPunches) {\\n    ko.punches.enableAll();\\n    ko.bindingHandlers.numericValue = {\\n        init: function(element, valueAccessor, allBindings, data, context) {\\n            var stringified = ko.observable(ko.unwrap(valueAccessor()));\\n            stringified.subscribe(function(value) {\\n                var val = parseFloat(value);\\n                if (!isNaN(val)) {\\n                    valueAccessor()(val);\\n                }\\n            });\\n            valueAccessor().subscribe(function(value) {\\n                var str = JSON.stringify(value);\\n                if ((str == \\\"0\\\") && ([\\\"-0\\\", \\\"-0.\\\"].indexOf(stringified()) >= 0))\\n                     return;\\n                 if ([\\\"null\\\", \\\"\\\"].indexOf(str) >= 0)\\n                     return;\\n                stringified(str);\\n            });\\n            ko.applyBindingsToNode(\\n                element,\\n                {\\n                    value: stringified,\\n                    valueUpdate: allBindings.get('valueUpdate'),\\n                },\\n                context,\\n            );\\n        }\\n    };\\n    var json_data = {\\\"loading\\\":WebIO.getval({\\\"name\\\":\\\"loading\\\",\\\"scope\\\":\\\"2083045978238375240\\\",\\\"id\\\":\\\"11808509038400534899\\\",\\\"type\\\":\\\"observable\\\"}),\\\"clicks\\\":WebIO.getval({\\\"name\\\":\\\"clicks\\\",\\\"scope\\\":\\\"2083045978238375240\\\",\\\"id\\\":\\\"3830272362973502800\\\",\\\"type\\\":\\\"observable\\\"})};\\n    var self = this;\\n    function AppViewModel() {\\n        for (var key in json_data) {\\n            var el = json_data[key];\\n            this[key] = Array.isArray(el) ? ko.observableArray(el) : ko.observable(el);\\n        }\\n        \\n        \\n        [this[\\\"loading\\\"].subscribe((function (val){!(this.valueFromJulia[\\\"loading\\\"]) ? (WebIO.setval({\\\"name\\\":\\\"loading\\\",\\\"scope\\\":\\\"2083045978238375240\\\",\\\"id\\\":\\\"11808509038400534899\\\",\\\"type\\\":\\\"observable\\\"},val)) : undefined; return this.valueFromJulia[\\\"loading\\\"]=false}),self),this[\\\"clicks\\\"].subscribe((function (val){!(this.valueFromJulia[\\\"clicks\\\"]) ? (WebIO.setval({\\\"name\\\":\\\"clicks\\\",\\\"scope\\\":\\\"2083045978238375240\\\",\\\"id\\\":\\\"3830272362973502800\\\",\\\"type\\\":\\\"observable\\\"},val)) : undefined; return this.valueFromJulia[\\\"clicks\\\"]=false}),self)]\\n        \\n    }\\n    self.model = new AppViewModel();\\n    self.valueFromJulia = {};\\n    for (var key in json_data) {\\n        self.valueFromJulia[key] = false;\\n    }\\n    ko.applyBindings(self.model, self.dom);\\n}\\n);\\n    (WebIO.importBlock({\\\"data\\\":[{\\\"name\\\":\\\"knockout\\\",\\\"type\\\":\\\"js\\\",\\\"url\\\":\\\"/assetserver/727383f2a47bd31570b7da84eee7b022dd6d7c78-knockout.js\\\"},{\\\"name\\\":\\\"knockout_punches\\\",\\\"type\\\":\\\"js\\\",\\\"url\\\":\\\"/assetserver/382b41b3b1bd9f26f75861d360bad7f8beea211f-knockout_punches.js\\\"}],\\\"type\\\":\\\"async_block\\\"})).then((imports) => handler.apply(this, imports));\\n}\\n\")])], Dict{Symbol, Any}(:className => \"field interact-widget\")), WebIO.Node{WebIO.DOM}(WebIO.DOM(:html, :div), Any[WebIO.Scope(WebIO.Node{WebIO.DOM}(WebIO.DOM(:html, :div), Any[], Dict{Symbol, Any}(:id => \"container\")), Dict{String, Tuple{Observables.AbstractObservable, Union{Nothing, Bool}}}(\"value\" => (Observable(\"\\\\;\\\\;\"), nothing)), Set{String}(), nothing, WebIO.Asset[WebIO.Asset(\"js\", nothing, \"/home/dushya/.julia/packages/InteractBase/LJXv3/src/../assets/katex.min.js\"), WebIO.Asset(\"css\", nothing, \"/home/dushya/.julia/packages/InteractBase/LJXv3/src/../assets/katex.min.css\")], Dict{Any, Any}(\"value\" => Any[WebIO.JSString(\"(function (txt){return this.k.render(txt,this.container)})\")]), WebIO.ConnectionPool(Channel{Any}(32), Set{WebIO.AbstractConnection}(), Base.GenericCondition{ReentrantLock}(Base.IntrusiveLinkedList{Task}(Task (runnable) @0x00007f02c5ad5780, Task (runnable) @0x00007f02c5ad5780), ReentrantLock(nothing, 0x00000000, 0x00, Base.GenericCondition{Base.Threads.SpinLock}(Base.IntrusiveLinkedList{Task}(nothing, nothing), Base.Threads.SpinLock(0)), (2, 139650602701888, 8589934592)))), WebIO.JSString[WebIO.JSString(\"function () {\\n    var handler = ((function (k){this.k=k; this.container=this.dom.querySelector(\\\"#container\\\"); return k.render(\\\"\\\\\\\\;\\\\\\\\;\\\",this.container)}));\\n    (WebIO.importBlock({\\\"data\\\":[{\\\"name\\\":null,\\\"type\\\":\\\"js\\\",\\\"url\\\":\\\"/assetserver/dd22ed1bf1896c2748f3fe616ce0b838adc895c1-katex.min.js\\\"},{\\\"name\\\":null,\\\"type\\\":\\\"css\\\",\\\"url\\\":\\\"/assetserver/46517a424aa5e6cffc1360d7e0848b601c584ee3-katex.min.css\\\"}],\\\"type\\\":\\\"async_block\\\"})).then((imports) => handler.apply(this, imports));\\n}\\n\")])], Dict{Symbol, Any}(:className => \"interact-widget\")), WebIO.Node{WebIO.DOM}(WebIO.DOM(:html, :div), Any[WebIO.Scope(WebIO.Node{WebIO.DOM}(WebIO.DOM(:html, :button), Any[\"stop\"], Dict{Symbol, Any}(:attributes => Dict{Any, Any}(\"data-bind\" => \"click: function (){this.clicks(this.clicks()+1)}, css: {'is-loading' : loading}\"), :className => \"is-medium button is-primary\", :style => Dict{String, Any}())), Dict{String, Tuple{Observables.AbstractObservable, Union{Nothing, Bool}}}(\"loading\" => (Observable(false), nothing), \"clicks\" => (Observable(0), nothing)), Set{String}(), nothing, WebIO.Asset[WebIO.Asset(\"js\", \"knockout\", \"/home/dushya/.julia/packages/Knockout/HReiN/src/../assets/knockout.js\"), WebIO.Asset(\"js\", \"knockout_punches\", \"/home/dushya/.julia/packages/Knockout/HReiN/src/../assets/knockout_punches.js\"), WebIO.Asset(\"js\", nothing, \"/home/dushya/.julia/packages/InteractBase/LJXv3/src/../assets/all.js\"), WebIO.Asset(\"css\", nothing, \"/home/dushya/.julia/packages/InteractBase/LJXv3/src/../assets/style.css\"), WebIO.Asset(\"css\", nothing, \"/home/dushya/.julia/packages/Interact/PENUy/src/../assets/bulma_confined.min.css\")], Dict{Any, Any}(\"loading\" => Any[WebIO.JSString(\"(function (val){return (val!=this.model[\\\"loading\\\"]()) ? (this.valueFromJulia[\\\"loading\\\"]=true, this.model[\\\"loading\\\"](val)) : undefined})\")], \"clicks\" => Any[WebIO.JSString(\"(function (val){return (val!=this.model[\\\"clicks\\\"]()) ? (this.valueFromJulia[\\\"clicks\\\"]=true, this.model[\\\"clicks\\\"](val)) : undefined})\")]), WebIO.ConnectionPool(Channel{Any}(32), Set{WebIO.AbstractConnection}(), Base.GenericCondition{ReentrantLock}(Base.IntrusiveLinkedList{Task}(Task (runnable) @0x00007f02c505b850, Task (runnable) @0x00007f02c505b850), ReentrantLock(nothing, 0x00000000, 0x00, Base.GenericCondition{Base.Threads.SpinLock}(Base.IntrusiveLinkedList{Task}(nothing, nothing), Base.Threads.SpinLock(0)), (2, 139650746284720, 139650746284784)))), WebIO.JSString[WebIO.JSString(\"function () {\\n    var handler = (function (ko, koPunches) {\\n    ko.punches.enableAll();\\n    ko.bindingHandlers.numericValue = {\\n        init: function(element, valueAccessor, allBindings, data, context) {\\n            var stringified = ko.observable(ko.unwrap(valueAccessor()));\\n            stringified.subscribe(function(value) {\\n                var val = parseFloat(value);\\n                if (!isNaN(val)) {\\n                    valueAccessor()(val);\\n                }\\n            });\\n            valueAccessor().subscribe(function(value) {\\n                var str = JSON.stringify(value);\\n                if ((str == \\\"0\\\") && ([\\\"-0\\\", \\\"-0.\\\"].indexOf(stringified()) >= 0))\\n                     return;\\n                 if ([\\\"null\\\", \\\"\\\"].indexOf(str) >= 0)\\n                     return;\\n                stringified(str);\\n            });\\n            ko.applyBindingsToNode(\\n                element,\\n                {\\n                    value: stringified,\\n                    valueUpdate: allBindings.get('valueUpdate'),\\n                },\\n                context,\\n            );\\n        }\\n    };\\n    var json_data = {\\\"loading\\\":WebIO.getval({\\\"name\\\":\\\"loading\\\",\\\"scope\\\":\\\"16866994390630665286\\\",\\\"id\\\":\\\"3758046953773732975\\\",\\\"type\\\":\\\"observable\\\"}),\\\"clicks\\\":WebIO.getval({\\\"name\\\":\\\"clicks\\\",\\\"scope\\\":\\\"16866994390630665286\\\",\\\"id\\\":\\\"4084128795262565637\\\",\\\"type\\\":\\\"observable\\\"})};\\n    var self = this;\\n    function AppViewModel() {\\n        for (var key in json_data) {\\n            var el = json_data[key];\\n            this[key] = Array.isArray(el) ? ko.observableArray(el) : ko.observable(el);\\n        }\\n        \\n        \\n        [this[\\\"loading\\\"].subscribe((function (val){!(this.valueFromJulia[\\\"loading\\\"]) ? (WebIO.setval({\\\"name\\\":\\\"loading\\\",\\\"scope\\\":\\\"16866994390630665286\\\",\\\"id\\\":\\\"3758046953773732975\\\",\\\"type\\\":\\\"observable\\\"},val)) : undefined; return this.valueFromJulia[\\\"loading\\\"]=false}),self),this[\\\"clicks\\\"].subscribe((function (val){!(this.valueFromJulia[\\\"clicks\\\"]) ? (WebIO.setval({\\\"name\\\":\\\"clicks\\\",\\\"scope\\\":\\\"16866994390630665286\\\",\\\"id\\\":\\\"4084128795262565637\\\",\\\"type\\\":\\\"observable\\\"},val)) : undefined; return this.valueFromJulia[\\\"clicks\\\"]=false}),self)]\\n        \\n    }\\n    self.model = new AppViewModel();\\n    self.valueFromJulia = {};\\n    for (var key in json_data) {\\n        self.valueFromJulia[key] = false;\\n    }\\n    ko.applyBindings(self.model, self.dom);\\n}\\n);\\n    (WebIO.importBlock({\\\"data\\\":[{\\\"name\\\":\\\"knockout\\\",\\\"type\\\":\\\"js\\\",\\\"url\\\":\\\"/assetserver/727383f2a47bd31570b7da84eee7b022dd6d7c78-knockout.js\\\"},{\\\"name\\\":\\\"knockout_punches\\\",\\\"type\\\":\\\"js\\\",\\\"url\\\":\\\"/assetserver/382b41b3b1bd9f26f75861d360bad7f8beea211f-knockout_punches.js\\\"}],\\\"type\\\":\\\"async_block\\\"})).then((imports) => handler.apply(this, imports));\\n}\\n\")])], Dict{Symbol, Any}(:className => \"field interact-widget\")), WebIO.Node{WebIO.DOM}(WebIO.DOM(:html, :div), Any[WebIO.Scope(WebIO.Node{WebIO.DOM}(WebIO.DOM(:html, :div), Any[], Dict{Symbol, Any}(:id => \"container\")), Dict{String, Tuple{Observables.AbstractObservable, Union{Nothing, Bool}}}(\"value\" => (Observable(\"\\\\;\\\\;\"), nothing)), Set{String}(), nothing, WebIO.Asset[WebIO.Asset(\"js\", nothing, \"/home/dushya/.julia/packages/InteractBase/LJXv3/src/../assets/katex.min.js\"), WebIO.Asset(\"css\", nothing, \"/home/dushya/.julia/packages/InteractBase/LJXv3/src/../assets/katex.min.css\")], Dict{Any, Any}(\"value\" => Any[WebIO.JSString(\"(function (txt){return this.k.render(txt,this.container)})\")]), WebIO.ConnectionPool(Channel{Any}(32), Set{WebIO.AbstractConnection}(), Base.GenericCondition{ReentrantLock}(Base.IntrusiveLinkedList{Task}(Task (runnable) @0x00007f02c5ad5780, Task (runnable) @0x00007f02c5ad5780), ReentrantLock(nothing, 0x00000000, 0x00, Base.GenericCondition{Base.Threads.SpinLock}(Base.IntrusiveLinkedList{Task}(nothing, nothing), Base.Threads.SpinLock(0)), (2, 139650602701888, 8589934592)))), WebIO.JSString[WebIO.JSString(\"function () {\\n    var handler = ((function (k){this.k=k; this.container=this.dom.querySelector(\\\"#container\\\"); return k.render(\\\"\\\\\\\\;\\\\\\\\;\\\",this.container)}));\\n    (WebIO.importBlock({\\\"data\\\":[{\\\"name\\\":null,\\\"type\\\":\\\"js\\\",\\\"url\\\":\\\"/assetserver/dd22ed1bf1896c2748f3fe616ce0b838adc895c1-katex.min.js\\\"},{\\\"name\\\":null,\\\"type\\\":\\\"css\\\",\\\"url\\\":\\\"/assetserver/46517a424aa5e6cffc1360d7e0848b601c584ee3-katex.min.css\\\"}],\\\"type\\\":\\\"async_block\\\"})).then((imports) => handler.apply(this, imports));\\n}\\n\")])], Dict{Symbol, Any}(:className => \"interact-widget\")), WebIO.Node{WebIO.DOM}(WebIO.DOM(:html, :div), Any[WebIO.Scope(WebIO.Node{WebIO.DOM}(WebIO.DOM(:html, :button), Any[\"reset\"], Dict{Symbol, Any}(:attributes => Dict{Any, Any}(\"data-bind\" => \"click: function (){this.clicks(this.clicks()+1)}, css: {'is-loading' : loading}\"), :className => \"is-medium button is-primary\", :style => Dict{String, Any}())), Dict{String, Tuple{Observables.AbstractObservable, Union{Nothing, Bool}}}(\"loading\" => (Observable(false), nothing), \"clicks\" => (Observable(0), nothing)), Set{String}(), nothing, WebIO.Asset[WebIO.Asset(\"js\", \"knockout\", \"/home/dushya/.julia/packages/Knockout/HReiN/src/../assets/knockout.js\"), WebIO.Asset(\"js\", \"knockout_punches\", \"/home/dushya/.julia/packages/Knockout/HReiN/src/../assets/knockout_punches.js\"), WebIO.Asset(\"js\", nothing, \"/home/dushya/.julia/packages/InteractBase/LJXv3/src/../assets/all.js\"), WebIO.Asset(\"css\", nothing, \"/home/dushya/.julia/packages/InteractBase/LJXv3/src/../assets/style.css\"), WebIO.Asset(\"css\", nothing, \"/home/dushya/.julia/packages/Interact/PENUy/src/../assets/bulma_confined.min.css\")], Dict{Any, Any}(\"loading\" => Any[WebIO.JSString(\"(function (val){return (val!=this.model[\\\"loading\\\"]()) ? (this.valueFromJulia[\\\"loading\\\"]=true, this.model[\\\"loading\\\"](val)) : undefined})\")], \"clicks\" => Any[WebIO.JSString(\"(function (val){return (val!=this.model[\\\"clicks\\\"]()) ? (this.valueFromJulia[\\\"clicks\\\"]=true, this.model[\\\"clicks\\\"](val)) : undefined})\")]), WebIO.ConnectionPool(Channel{Any}(32), Set{WebIO.AbstractConnection}(), Base.GenericCondition{ReentrantLock}(Base.IntrusiveLinkedList{Task}(Task (runnable) @0x00007f02c50ea8b0, Task (runnable) @0x00007f02c50ea8b0), ReentrantLock(nothing, 0x00000000, 0x00, Base.GenericCondition{Base.Threads.SpinLock}(Base.IntrusiveLinkedList{Task}(nothing, nothing), Base.Threads.SpinLock(0)), (0, 0, 139779710648320)))), WebIO.JSString[WebIO.JSString(\"function () {\\n    var handler = (function (ko, koPunches) {\\n    ko.punches.enableAll();\\n    ko.bindingHandlers.numericValue = {\\n        init: function(element, valueAccessor, allBindings, data, context) {\\n            var stringified = ko.observable(ko.unwrap(valueAccessor()));\\n            stringified.subscribe(function(value) {\\n                var val = parseFloat(value);\\n                if (!isNaN(val)) {\\n                    valueAccessor()(val);\\n                }\\n            });\\n            valueAccessor().subscribe(function(value) {\\n                var str = JSON.stringify(value);\\n                if ((str == \\\"0\\\") && ([\\\"-0\\\", \\\"-0.\\\"].indexOf(stringified()) >= 0))\\n                     return;\\n                 if ([\\\"null\\\", \\\"\\\"].indexOf(str) >= 0)\\n                     return;\\n                stringified(str);\\n            });\\n            ko.applyBindingsToNode(\\n                element,\\n                {\\n                    value: stringified,\\n                    valueUpdate: allBindings.get('valueUpdate'),\\n                },\\n                context,\\n            );\\n        }\\n    };\\n    var json_data = {\\\"loading\\\":WebIO.getval({\\\"name\\\":\\\"loading\\\",\\\"scope\\\":\\\"17320944422252559906\\\",\\\"id\\\":\\\"13471163810146355128\\\",\\\"type\\\":\\\"observable\\\"}),\\\"clicks\\\":WebIO.getval({\\\"name\\\":\\\"clicks\\\",\\\"scope\\\":\\\"17320944422252559906\\\",\\\"id\\\":\\\"3529442354368749459\\\",\\\"type\\\":\\\"observable\\\"})};\\n    var self = this;\\n    function AppViewModel() {\\n        for (var key in json_data) {\\n            var el = json_data[key];\\n            this[key] = Array.isArray(el) ? ko.observableArray(el) : ko.observable(el);\\n        }\\n        \\n        \\n        [this[\\\"loading\\\"].subscribe((function (val){!(this.valueFromJulia[\\\"loading\\\"]) ? (WebIO.setval({\\\"name\\\":\\\"loading\\\",\\\"scope\\\":\\\"17320944422252559906\\\",\\\"id\\\":\\\"13471163810146355128\\\",\\\"type\\\":\\\"observable\\\"},val)) : undefined; return this.valueFromJulia[\\\"loading\\\"]=false}),self),this[\\\"clicks\\\"].subscribe((function (val){!(this.valueFromJulia[\\\"clicks\\\"]) ? (WebIO.setval({\\\"name\\\":\\\"clicks\\\",\\\"scope\\\":\\\"17320944422252559906\\\",\\\"id\\\":\\\"3529442354368749459\\\",\\\"type\\\":\\\"observable\\\"},val)) : undefined; return this.valueFromJulia[\\\"clicks\\\"]=false}),self)]\\n        \\n    }\\n    self.model = new AppViewModel();\\n    self.valueFromJulia = {};\\n    for (var key in json_data) {\\n        self.valueFromJulia[key] = false;\\n    }\\n    ko.applyBindings(self.model, self.dom);\\n}\\n);\\n    (WebIO.importBlock({\\\"data\\\":[{\\\"name\\\":\\\"knockout\\\",\\\"type\\\":\\\"js\\\",\\\"url\\\":\\\"/assetserver/727383f2a47bd31570b7da84eee7b022dd6d7c78-knockout.js\\\"},{\\\"name\\\":\\\"knockout_punches\\\",\\\"type\\\":\\\"js\\\",\\\"url\\\":\\\"/assetserver/382b41b3b1bd9f26f75861d360bad7f8beea211f-knockout_punches.js\\\"}],\\\"type\\\":\\\"async_block\\\"})).then((imports) => handler.apply(this, imports));\\n}\\n\")])], Dict{Symbol, Any}(:className => \"field interact-widget\"))], Dict{Symbol, Any}(:style => Dict(\"display\" => \"flex\", \"flex-direction\" => \"row\")))], Dict{Symbol, Any}(:style => Dict(\"display\" => \"flex\", \"flex-direction\" => \"column\"))), Observable(MeshCat.DisplayedVisualizer(MeshCat.CoreVisualizer(MeshCat.SceneTrees.SceneNode(nothing, nothing, Dict{String, Vector{UInt8}}(), nothing, Dict{String, MeshCat.SceneTrees.SceneNode}(\"meshcat\" => MeshCat.SceneTrees.SceneNode(nothing, UInt8[0x83, 0xa6, 0x6d, 0x61, 0x74, 0x72, 0x69, 0x78, 0xc7, 0x40  …  0x68, 0xa8, 0x2f, 0x6d, 0x65, 0x73, 0x68, 0x63, 0x61, 0x74], Dict{String, Vector{UInt8}}(), nothing, Dict{String, MeshCat.SceneTrees.SceneNode}(\"nodes\" => MeshCat.SceneTrees.SceneNode(nothing, nothing, Dict{String, Vector{UInt8}}(), nothing, Dict{String, MeshCat.SceneTrees.SceneNode}(\"32\" => MeshCat.SceneTrees.SceneNode(nothing, UInt8[0x83, 0xa6, 0x6d, 0x61, 0x74, 0x72, 0x69, 0x78, 0xc7, 0x40  …  0x74, 0x2f, 0x6e, 0x6f, 0x64, 0x65, 0x73, 0x2f, 0x33, 0x32], Dict{String, Vector{UInt8}}(\"scale\" => [0x84, 0xa8, 0x70, 0x72, 0x6f, 0x70, 0x65, 0x72, 0x74, 0x79  …  0x74, 0x2f, 0x6e, 0x6f, 0x64, 0x65, 0x73, 0x2f, 0x33, 0x32]), nothing, Dict{String, MeshCat.SceneTrees.SceneNode}(\"(1.0N0f8, 0.0N0f8, 0.0N0f8, 1.0N0f8)\" => MeshCat.SceneTrees.SceneNode(UInt8[0x83, 0xa6, 0x6f, 0x62, 0x6a, 0x65, 0x63, 0x74, 0x84, 0xaa  …  0x2c, 0x20, 0x31, 0x2e, 0x30, 0x4e, 0x30, 0x66, 0x38, 0x29], nothing, Dict{String, Vector{UInt8}}(\"visible\" => [0x84, 0xa8, 0x70, 0x72, 0x6f, 0x70, 0x65, 0x72, 0x74, 0x79  …  0x2c, 0x20, 0x31, 0x2e, 0x30, 0x4e, 0x30, 0x66, 0x38, 0x29]), nothing, Dict{String, MeshCat.SceneTrees.SceneNode}()))), \"29\" => MeshCat.SceneTrees.SceneNode(nothing, UInt8[0x83, 0xa6, 0x6d, 0x61, 0x74, 0x72, 0x69, 0x78, 0xc7, 0x40  …  0x74, 0x2f, 0x6e, 0x6f, 0x64, 0x65, 0x73, 0x2f, 0x32, 0x39], Dict{String, Vector{UInt8}}(\"scale\" => [0x84, 0xa8, 0x70, 0x72, 0x6f, 0x70, 0x65, 0x72, 0x74, 0x79  …  0x74, 0x2f, 0x6e, 0x6f, 0x64, 0x65, 0x73, 0x2f, 0x32, 0x39]), nothing, Dict{String, MeshCat.SceneTrees.SceneNode}(\"(0.0N0f8, 0.0N0f8, 0.0N0f8, 1.0N0f8)\" => MeshCat.SceneTrees.SceneNode(UInt8[0x83, 0xa6, 0x6f, 0x62, 0x6a, 0x65, 0x63, 0x74, 0x84, 0xaa  …  0x2c, 0x20, 0x31, 0x2e, 0x30, 0x4e, 0x30, 0x66, 0x38, 0x29], nothing, Dict{String, Vector{UInt8}}(\"visible\" => [0x84, 0xa8, 0x70, 0x72, 0x6f, 0x70, 0x65, 0x72, 0x74, 0x79  …  0x2c, 0x20, 0x31, 0x2e, 0x30, 0x4e, 0x30, 0x66, 0x38, 0x29]), nothing, Dict{String, MeshCat.SceneTrees.SceneNode}()))), \"1\" => MeshCat.SceneTrees.SceneNode(nothing, UInt8[0x83, 0xa6, 0x6d, 0x61, 0x74, 0x72, 0x69, 0x78, 0xc7, 0x40  …  0x61, 0x74, 0x2f, 0x6e, 0x6f, 0x64, 0x65, 0x73, 0x2f, 0x31], Dict{String, Vector{UInt8}}(\"scale\" => [0x84, 0xa8, 0x70, 0x72, 0x6f, 0x70, 0x65, 0x72, 0x74, 0x79  …  0x61, 0x74, 0x2f, 0x6e, 0x6f, 0x64, 0x65, 0x73, 0x2f, 0x31]), nothing, Dict{String, MeshCat.SceneTrees.SceneNode}(\"(0.0N0f8, 0.0N0f8, 0.0N0f8, 1.0N0f8)\" => MeshCat.SceneTrees.SceneNode(UInt8[0x83, 0xa6, 0x6f, 0x62, 0x6a, 0x65, 0x63, 0x74, 0x84, 0xaa  …  0x2c, 0x20, 0x31, 0x2e, 0x30, 0x4e, 0x30, 0x66, 0x38, 0x29], nothing, Dict{String, Vector{UInt8}}(\"visible\" => [0x84, 0xa8, 0x70, 0x72, 0x6f, 0x70, 0x65, 0x72, 0x74, 0x79  …  0x2c, 0x20, 0x31, 0x2e, 0x30, 0x4e, 0x30, 0x66, 0x38, 0x29]), nothing, Dict{String, MeshCat.SceneTrees.SceneNode}()), \"(1.0N0f8, 0.0N0f8, 0.0N0f8, 1.0N0f8)\" => MeshCat.SceneTrees.SceneNode(UInt8[0x83, 0xa6, 0x6f, 0x62, 0x6a, 0x65, 0x63, 0x74, 0x84, 0xaa  …  0x2c, 0x20, 0x31, 0x2e, 0x30, 0x4e, 0x30, 0x66, 0x38, 0x29], nothing, Dict{String, Vector{UInt8}}(\"visible\" => [0x84, 0xa8, 0x70, 0x72, 0x6f, 0x70, 0x65, 0x72, 0x74, 0x79  …  0x2c, 0x20, 0x31, 0x2e, 0x30, 0x4e, 0x30, 0x66, 0x38, 0x29]), nothing, Dict{String, MeshCat.SceneTrees.SceneNode}()))), \"54\" => MeshCat.SceneTrees.SceneNode(nothing, UInt8[0x83, 0xa6, 0x6d, 0x61, 0x74, 0x72, 0x69, 0x78, 0xc7, 0x40  …  0x74, 0x2f, 0x6e, 0x6f, 0x64, 0x65, 0x73, 0x2f, 0x35, 0x34], Dict{String, Vector{UInt8}}(\"scale\" => [0x84, 0xa8, 0x70, 0x72, 0x6f, 0x70, 0x65, 0x72, 0x74, 0x79  …  0x74, 0x2f, 0x6e, 0x6f, 0x64, 0x65, 0x73, 0x2f, 0x35, 0x34]), nothing, Dict{String, MeshCat.SceneTrees.SceneNode}(\"(0.0N0f8, 0.0N0f8, 0.0N0f8, 1.0N0f8)\" => MeshCat.SceneTrees.SceneNode(UInt8[0x83, 0xa6, 0x6f, 0x62, 0x6a, 0x65, 0x63, 0x74, 0x84, 0xaa  …  0x2c, 0x20, 0x31, 0x2e, 0x30, 0x4e, 0x30, 0x66, 0x38, 0x29], nothing, Dict{String, Vector{UInt8}}(\"visible\" => [0x84, 0xa8, 0x70, 0x72, 0x6f, 0x70, 0x65, 0x72, 0x74, 0x79  …  0x2c, 0x20, 0x31, 0x2e, 0x30, 0x4e, 0x30, 0x66, 0x38, 0x29]), nothing, Dict{String, MeshCat.SceneTrees.SceneNode}()))), \"78\" => MeshCat.SceneTrees.SceneNode(nothing, UInt8[0x83, 0xa6, 0x6d, 0x61, 0x74, 0x72, 0x69, 0x78, 0xc7, 0x40  …  0x74, 0x2f, 0x6e, 0x6f, 0x64, 0x65, 0x73, 0x2f, 0x37, 0x38], Dict{String, Vector{UInt8}}(\"scale\" => [0x84, 0xa8, 0x70, 0x72, 0x6f, 0x70, 0x65, 0x72, 0x74, 0x79  …  0x74, 0x2f, 0x6e, 0x6f, 0x64, 0x65, 0x73, 0x2f, 0x37, 0x38]), nothing, Dict{String, MeshCat.SceneTrees.SceneNode}(\"(0.0N0f8, 0.0N0f8, 0.0N0f8, 1.0N0f8)\" => MeshCat.SceneTrees.SceneNode(UInt8[0x83, 0xa6, 0x6f, 0x62, 0x6a, 0x65, 0x63, 0x74, 0x84, 0xaa  …  0x2c, 0x20, 0x31, 0x2e, 0x30, 0x4e, 0x30, 0x66, 0x38, 0x29], nothing, Dict{String, Vector{UInt8}}(\"visible\" => [0x84, 0xa8, 0x70, 0x72, 0x6f, 0x70, 0x65, 0x72, 0x74, 0x79  …  0x2c, 0x20, 0x31, 0x2e, 0x30, 0x4e, 0x30, 0x66, 0x38, 0x29]), nothing, Dict{String, MeshCat.SceneTrees.SceneNode}()))), \"81\" => MeshCat.SceneTrees.SceneNode(nothing, UInt8[0x83, 0xa6, 0x6d, 0x61, 0x74, 0x72, 0x69, 0x78, 0xc7, 0x40  …  0x74, 0x2f, 0x6e, 0x6f, 0x64, 0x65, 0x73, 0x2f, 0x38, 0x31], Dict{String, Vector{UInt8}}(\"scale\" => [0x84, 0xa8, 0x70, 0x72, 0x6f, 0x70, 0x65, 0x72, 0x74, 0x79  …  0x74, 0x2f, 0x6e, 0x6f, 0x64, 0x65, 0x73, 0x2f, 0x38, 0x31]), nothing, Dict{String, MeshCat.SceneTrees.SceneNode}(\"(1.0N0f8, 0.0N0f8, 0.0N0f8, 1.0N0f8)\" => MeshCat.SceneTrees.SceneNode(UInt8[0x83, 0xa6, 0x6f, 0x62, 0x6a, 0x65, 0x63, 0x74, 0x84, 0xaa  …  0x2c, 0x20, 0x31, 0x2e, 0x30, 0x4e, 0x30, 0x66, 0x38, 0x29], nothing, Dict{String, Vector{UInt8}}(\"visible\" => [0x84, 0xa8, 0x70, 0x72, 0x6f, 0x70, 0x65, 0x72, 0x74, 0x79  …  0x2c, 0x20, 0x31, 0x2e, 0x30, 0x4e, 0x30, 0x66, 0x38, 0x29]), nothing, Dict{String, MeshCat.SceneTrees.SceneNode}()), \"(0.0N0f8, 0.0N0f8, 0.0N0f8, 1.0N0f8)\" => MeshCat.SceneTrees.SceneNode(UInt8[0x83, 0xa6, 0x6f, 0x62, 0x6a, 0x65, 0x63, 0x74, 0x84, 0xaa  …  0x2c, 0x20, 0x31, 0x2e, 0x30, 0x4e, 0x30, 0x66, 0x38, 0x29], nothing, Dict{String, Vector{UInt8}}(\"visible\" => [0x84, 0xa8, 0x70, 0x72, 0x6f, 0x70, 0x65, 0x72, 0x74, 0x79  …  0x2c, 0x20, 0x31, 0x2e, 0x30, 0x4e, 0x30, 0x66, 0x38, 0x29]), nothing, Dict{String, MeshCat.SceneTrees.SceneNode}()))), \"2\" => MeshCat.SceneTrees.SceneNode(nothing, UInt8[0x83, 0xa6, 0x6d, 0x61, 0x74, 0x72, 0x69, 0x78, 0xc7, 0x40  …  0x61, 0x74, 0x2f, 0x6e, 0x6f, 0x64, 0x65, 0x73, 0x2f, 0x32], Dict{String, Vector{UInt8}}(\"scale\" => [0x84, 0xa8, 0x70, 0x72, 0x6f, 0x70, 0x65, 0x72, 0x74, 0x79  …  0x61, 0x74, 0x2f, 0x6e, 0x6f, 0x64, 0x65, 0x73, 0x2f, 0x32]), nothing, Dict{String, MeshCat.SceneTrees.SceneNode}(\"(1.0N0f8, 0.0N0f8, 0.0N0f8, 1.0N0f8)\" => MeshCat.SceneTrees.SceneNode(UInt8[0x83, 0xa6, 0x6f, 0x62, 0x6a, 0x65, 0x63, 0x74, 0x84, 0xaa  …  0x2c, 0x20, 0x31, 0x2e, 0x30, 0x4e, 0x30, 0x66, 0x38, 0x29], nothing, Dict{String, Vector{UInt8}}(\"visible\" => [0x84, 0xa8, 0x70, 0x72, 0x6f, 0x70, 0x65, 0x72, 0x74, 0x79  …  0x2c, 0x20, 0x31, 0x2e, 0x30, 0x4e, 0x30, 0x66, 0x38, 0x29]), nothing, Dict{String, MeshCat.SceneTrees.SceneNode}()))), \"74\" => MeshCat.SceneTrees.SceneNode(nothing, UInt8[0x83, 0xa6, 0x6d, 0x61, 0x74, 0x72, 0x69, 0x78, 0xc7, 0x40  …  0x74, 0x2f, 0x6e, 0x6f, 0x64, 0x65, 0x73, 0x2f, 0x37, 0x34], Dict{String, Vector{UInt8}}(\"scale\" => [0x84, 0xa8, 0x70, 0x72, 0x6f, 0x70, 0x65, 0x72, 0x74, 0x79  …  0x74, 0x2f, 0x6e, 0x6f, 0x64, 0x65, 0x73, 0x2f, 0x37, 0x34]), nothing, Dict{String, MeshCat.SceneTrees.SceneNode}(\"(1.0N0f8, 0.0N0f8, 0.0N0f8, 1.0N0f8)\" => MeshCat.SceneTrees.SceneNode(UInt8[0x83, 0xa6, 0x6f, 0x62, 0x6a, 0x65, 0x63, 0x74, 0x84, 0xaa  …  0x2c, 0x20, 0x31, 0x2e, 0x30, 0x4e, 0x30, 0x66, 0x38, 0x29], nothing, Dict{String, Vector{UInt8}}(\"visible\" => [0x84, 0xa8, 0x70, 0x72, 0x6f, 0x70, 0x65, 0x72, 0x74, 0x79  …  0x2c, 0x20, 0x31, 0x2e, 0x30, 0x4e, 0x30, 0x66, 0x38, 0x29]), nothing, Dict{String, MeshCat.SceneTrees.SceneNode}()))), \"41\" => MeshCat.SceneTrees.SceneNode(nothing, UInt8[0x83, 0xa6, 0x6d, 0x61, 0x74, 0x72, 0x69, 0x78, 0xc7, 0x40  …  0x74, 0x2f, 0x6e, 0x6f, 0x64, 0x65, 0x73, 0x2f, 0x34, 0x31], Dict{String, Vector{UInt8}}(\"scale\" => [0x84, 0xa8, 0x70, 0x72, 0x6f, 0x70, 0x65, 0x72, 0x74, 0x79  …  0x74, 0x2f, 0x6e, 0x6f, 0x64, 0x65, 0x73, 0x2f, 0x34, 0x31]), nothing, Dict{String, MeshCat.SceneTrees.SceneNode}(\"(0.0N0f8, 0.0N0f8, 0.0N0f8, 1.0N0f8)\" => MeshCat.SceneTrees.SceneNode(UInt8[0x83, 0xa6, 0x6f, 0x62, 0x6a, 0x65, 0x63, 0x74, 0x84, 0xaa  …  0x2c, 0x20, 0x31, 0x2e, 0x30, 0x4e, 0x30, 0x66, 0x38, 0x29], nothing, Dict{String, Vector{UInt8}}(\"visible\" => [0x84, 0xa8, 0x70, 0x72, 0x6f, 0x70, 0x65, 0x72, 0x74, 0x79  …  0x2c, 0x20, 0x31, 0x2e, 0x30, 0x4e, 0x30, 0x66, 0x38, 0x29]), nothing, Dict{String, MeshCat.SceneTrees.SceneNode}()), \"(1.0N0f8, 0.0N0f8, 0.0N0f8, 1.0N0f8)\" => MeshCat.SceneTrees.SceneNode(UInt8[0x83, 0xa6, 0x6f, 0x62, 0x6a, 0x65, 0x63, 0x74, 0x84, 0xaa  …  0x2c, 0x20, 0x31, 0x2e, 0x30, 0x4e, 0x30, 0x66, 0x38, 0x29], nothing, Dict{String, Vector{UInt8}}(\"visible\" => [0x84, 0xa8, 0x70, 0x72, 0x6f, 0x70, 0x65, 0x72, 0x74, 0x79  …  0x2c, 0x20, 0x31, 0x2e, 0x30, 0x4e, 0x30, 0x66, 0x38, 0x29]), nothing, Dict{String, MeshCat.SceneTrees.SceneNode}()))), \"65\" => MeshCat.SceneTrees.SceneNode(nothing, UInt8[0x83, 0xa6, 0x6d, 0x61, 0x74, 0x72, 0x69, 0x78, 0xc7, 0x40  …  0x74, 0x2f, 0x6e, 0x6f, 0x64, 0x65, 0x73, 0x2f, 0x36, 0x35], Dict{String, Vector{UInt8}}(\"scale\" => [0x84, 0xa8, 0x70, 0x72, 0x6f, 0x70, 0x65, 0x72, 0x74, 0x79  …  0x74, 0x2f, 0x6e, 0x6f, 0x64, 0x65, 0x73, 0x2f, 0x36, 0x35]), nothing, Dict{String, MeshCat.SceneTrees.SceneNode}(\"(1.0N0f8, 0.0N0f8, 0.0N0f8, 1.0N0f8)\" => MeshCat.SceneTrees.SceneNode(UInt8[0x83, 0xa6, 0x6f, 0x62, 0x6a, 0x65, 0x63, 0x74, 0x84, 0xaa  …  0x2c, 0x20, 0x31, 0x2e, 0x30, 0x4e, 0x30, 0x66, 0x38, 0x29], nothing, Dict{String, Vector{UInt8}}(\"visible\" => [0x84, 0xa8, 0x70, 0x72, 0x6f, 0x70, 0x65, 0x72, 0x74, 0x79  …  0x2c, 0x20, 0x31, 0x2e, 0x30, 0x4e, 0x30, 0x66, 0x38, 0x29]), nothing, Dict{String, MeshCat.SceneTrees.SceneNode}()), \"(0.0N0f8, 0.0N0f8, 0.0N0f8, 1.0N0f8)\" => MeshCat.SceneTrees.SceneNode(UInt8[0x83, 0xa6, 0x6f, 0x62, 0x6a, 0x65, 0x63, 0x74, 0x84, 0xaa  …  0x2c, 0x20, 0x31, 0x2e, 0x30, 0x4e, 0x30, 0x66, 0x38, 0x29], nothing, Dict{String, Vector{UInt8}}(\"visible\" => [0x84, 0xa8, 0x70, 0x72, 0x6f, 0x70, 0x65, 0x72, 0x74, 0x79  …  0x2c, 0x20, 0x31, 0x2e, 0x30, 0x4e, 0x30, 0x66, 0x38, 0x29]), nothing, Dict{String, MeshCat.SceneTrees.SceneNode}())))…)), \"bbox_line_segments\" => MeshCat.SceneTrees.SceneNode(nothing, nothing, Dict{String, Vector{UInt8}}(), nothing, Dict{String, MeshCat.SceneTrees.SceneNode}(\"4\" => MeshCat.SceneTrees.SceneNode(UInt8[0x83, 0xa6, 0x6f, 0x62, 0x6a, 0x65, 0x63, 0x74, 0x84, 0xaa  …  0x73, 0x65, 0x67, 0x6d, 0x65, 0x6e, 0x74, 0x73, 0x2f, 0x34], nothing, Dict{String, Vector{UInt8}}(), nothing, Dict{String, MeshCat.SceneTrees.SceneNode}()), \"1\" => MeshCat.SceneTrees.SceneNode(UInt8[0x83, 0xa6, 0x6f, 0x62, 0x6a, 0x65, 0x63, 0x74, 0x84, 0xaa  …  0x73, 0x65, 0x67, 0x6d, 0x65, 0x6e, 0x74, 0x73, 0x2f, 0x31], nothing, Dict{String, Vector{UInt8}}(), nothing, Dict{String, MeshCat.SceneTrees.SceneNode}()), \"12\" => MeshCat.SceneTrees.SceneNode(UInt8[0x83, 0xa6, 0x6f, 0x62, 0x6a, 0x65, 0x63, 0x74, 0x84, 0xaa  …  0x65, 0x67, 0x6d, 0x65, 0x6e, 0x74, 0x73, 0x2f, 0x31, 0x32], nothing, Dict{String, Vector{UInt8}}(), nothing, Dict{String, MeshCat.SceneTrees.SceneNode}()), \"2\" => MeshCat.SceneTrees.SceneNode(UInt8[0x83, 0xa6, 0x6f, 0x62, 0x6a, 0x65, 0x63, 0x74, 0x84, 0xaa  …  0x73, 0x65, 0x67, 0x6d, 0x65, 0x6e, 0x74, 0x73, 0x2f, 0x32], nothing, Dict{String, Vector{UInt8}}(), nothing, Dict{String, MeshCat.SceneTrees.SceneNode}()), \"6\" => MeshCat.SceneTrees.SceneNode(UInt8[0x83, 0xa6, 0x6f, 0x62, 0x6a, 0x65, 0x63, 0x74, 0x84, 0xaa  …  0x73, 0x65, 0x67, 0x6d, 0x65, 0x6e, 0x74, 0x73, 0x2f, 0x36], nothing, Dict{String, Vector{UInt8}}(), nothing, Dict{String, MeshCat.SceneTrees.SceneNode}()), \"11\" => MeshCat.SceneTrees.SceneNode(UInt8[0x83, 0xa6, 0x6f, 0x62, 0x6a, 0x65, 0x63, 0x74, 0x84, 0xaa  …  0x65, 0x67, 0x6d, 0x65, 0x6e, 0x74, 0x73, 0x2f, 0x31, 0x31], nothing, Dict{String, Vector{UInt8}}(), nothing, Dict{String, MeshCat.SceneTrees.SceneNode}()), \"5\" => MeshCat.SceneTrees.SceneNode(UInt8[0x83, 0xa6, 0x6f, 0x62, 0x6a, 0x65, 0x63, 0x74, 0x84, 0xaa  …  0x73, 0x65, 0x67, 0x6d, 0x65, 0x6e, 0x74, 0x73, 0x2f, 0x35], nothing, Dict{String, Vector{UInt8}}(), nothing, Dict{String, MeshCat.SceneTrees.SceneNode}()), \"7\" => MeshCat.SceneTrees.SceneNode(UInt8[0x83, 0xa6, 0x6f, 0x62, 0x6a, 0x65, 0x63, 0x74, 0x84, 0xaa  …  0x73, 0x65, 0x67, 0x6d, 0x65, 0x6e, 0x74, 0x73, 0x2f, 0x37], nothing, Dict{String, Vector{UInt8}}(), nothing, Dict{String, MeshCat.SceneTrees.SceneNode}()), \"8\" => MeshCat.SceneTrees.SceneNode(UInt8[0x83, 0xa6, 0x6f, 0x62, 0x6a, 0x65, 0x63, 0x74, 0x84, 0xaa  …  0x73, 0x65, 0x67, 0x6d, 0x65, 0x6e, 0x74, 0x73, 0x2f, 0x38], nothing, Dict{String, Vector{UInt8}}(), nothing, Dict{String, MeshCat.SceneTrees.SceneNode}()), \"10\" => MeshCat.SceneTrees.SceneNode(UInt8[0x83, 0xa6, 0x6f, 0x62, 0x6a, 0x65, 0x63, 0x74, 0x84, 0xaa  …  0x65, 0x67, 0x6d, 0x65, 0x6e, 0x74, 0x73, 0x2f, 0x31, 0x30], nothing, Dict{String, Vector{UInt8}}(), nothing, Dict{String, MeshCat.SceneTrees.SceneNode}())…)), \"edges\" => MeshCat.SceneTrees.SceneNode(nothing, nothing, Dict{String, Vector{UInt8}}(), nothing, Dict{String, MeshCat.SceneTrees.SceneNode}(\"(48, 96)\" => MeshCat.SceneTrees.SceneNode(nothing, UInt8[0x83, 0xa6, 0x6d, 0x61, 0x74, 0x72, 0x69, 0x78, 0xc7, 0x40  …  0x73, 0x2f, 0x28, 0x34, 0x38, 0x2c, 0x20, 0x39, 0x36, 0x29], Dict{String, Vector{UInt8}}(\"scale\" => [0x84, 0xa8, 0x70, 0x72, 0x6f, 0x70, 0x65, 0x72, 0x74, 0x79  …  0x73, 0x2f, 0x28, 0x34, 0x38, 0x2c, 0x20, 0x39, 0x36, 0x29]), nothing, Dict{String, MeshCat.SceneTrees.SceneNode}(\"(0.0N0f8, 0.0N0f8, 1.0N0f8, 1.0N0f8)\" => MeshCat.SceneTrees.SceneNode(UInt8[0x83, 0xa6, 0x6f, 0x62, 0x6a, 0x65, 0x63, 0x74, 0x84, 0xaa  …  0x2c, 0x20, 0x31, 0x2e, 0x30, 0x4e, 0x30, 0x66, 0x38, 0x29], nothing, Dict{String, Vector{UInt8}}(\"visible\" => [0x84, 0xa8, 0x70, 0x72, 0x6f, 0x70, 0x65, 0x72, 0x74, 0x79  …  0x2c, 0x20, 0x31, 0x2e, 0x30, 0x4e, 0x30, 0x66, 0x38, 0x29]), nothing, Dict{String, MeshCat.SceneTrees.SceneNode}()))), \"(44, 97)\" => MeshCat.SceneTrees.SceneNode(nothing, UInt8[0x83, 0xa6, 0x6d, 0x61, 0x74, 0x72, 0x69, 0x78, 0xc7, 0x40  …  0x73, 0x2f, 0x28, 0x34, 0x34, 0x2c, 0x20, 0x39, 0x37, 0x29], Dict{String, Vector{UInt8}}(\"scale\" => [0x84, 0xa8, 0x70, 0x72, 0x6f, 0x70, 0x65, 0x72, 0x74, 0x79  …  0x73, 0x2f, 0x28, 0x34, 0x34, 0x2c, 0x20, 0x39, 0x37, 0x29]), nothing, Dict{String, MeshCat.SceneTrees.SceneNode}(\"(0.0N0f8, 0.0N0f8, 1.0N0f8, 1.0N0f8)\" => MeshCat.SceneTrees.SceneNode(UInt8[0x83, 0xa6, 0x6f, 0x62, 0x6a, 0x65, 0x63, 0x74, 0x84, 0xaa  …  0x2c, 0x20, 0x31, 0x2e, 0x30, 0x4e, 0x30, 0x66, 0x38, 0x29], nothing, Dict{String, Vector{UInt8}}(\"visible\" => [0x84, 0xa8, 0x70, 0x72, 0x6f, 0x70, 0x65, 0x72, 0x74, 0x79  …  0x2c, 0x20, 0x31, 0x2e, 0x30, 0x4e, 0x30, 0x66, 0x38, 0x29]), nothing, Dict{String, MeshCat.SceneTrees.SceneNode}()))), \"(59, 76)\" => MeshCat.SceneTrees.SceneNode(nothing, UInt8[0x83, 0xa6, 0x6d, 0x61, 0x74, 0x72, 0x69, 0x78, 0xc7, 0x40  …  0x73, 0x2f, 0x28, 0x35, 0x39, 0x2c, 0x20, 0x37, 0x36, 0x29], Dict{String, Vector{UInt8}}(\"scale\" => [0x84, 0xa8, 0x70, 0x72, 0x6f, 0x70, 0x65, 0x72, 0x74, 0x79  …  0x73, 0x2f, 0x28, 0x35, 0x39, 0x2c, 0x20, 0x37, 0x36, 0x29]), nothing, Dict{String, MeshCat.SceneTrees.SceneNode}(\"(0.0N0f8, 0.0N0f8, 1.0N0f8, 1.0N0f8)\" => MeshCat.SceneTrees.SceneNode(UInt8[0x83, 0xa6, 0x6f, 0x62, 0x6a, 0x65, 0x63, 0x74, 0x84, 0xaa  …  0x2c, 0x20, 0x31, 0x2e, 0x30, 0x4e, 0x30, 0x66, 0x38, 0x29], nothing, Dict{String, Vector{UInt8}}(\"visible\" => [0x84, 0xa8, 0x70, 0x72, 0x6f, 0x70, 0x65, 0x72, 0x74, 0x79  …  0x2c, 0x20, 0x31, 0x2e, 0x30, 0x4e, 0x30, 0x66, 0x38, 0x29]), nothing, Dict{String, MeshCat.SceneTrees.SceneNode}()))), \"(71, 92)\" => MeshCat.SceneTrees.SceneNode(nothing, UInt8[0x83, 0xa6, 0x6d, 0x61, 0x74, 0x72, 0x69, 0x78, 0xc7, 0x40  …  0x73, 0x2f, 0x28, 0x37, 0x31, 0x2c, 0x20, 0x39, 0x32, 0x29], Dict{String, Vector{UInt8}}(\"scale\" => [0x84, 0xa8, 0x70, 0x72, 0x6f, 0x70, 0x65, 0x72, 0x74, 0x79  …  0x73, 0x2f, 0x28, 0x37, 0x31, 0x2c, 0x20, 0x39, 0x32, 0x29]), nothing, Dict{String, MeshCat.SceneTrees.SceneNode}(\"(0.0N0f8, 0.0N0f8, 1.0N0f8, 1.0N0f8)\" => MeshCat.SceneTrees.SceneNode(UInt8[0x83, 0xa6, 0x6f, 0x62, 0x6a, 0x65, 0x63, 0x74, 0x84, 0xaa  …  0x2c, 0x20, 0x31, 0x2e, 0x30, 0x4e, 0x30, 0x66, 0x38, 0x29], nothing, Dict{String, Vector{UInt8}}(\"visible\" => [0x84, 0xa8, 0x70, 0x72, 0x6f, 0x70, 0x65, 0x72, 0x74, 0x79  …  0x2c, 0x20, 0x31, 0x2e, 0x30, 0x4e, 0x30, 0x66, 0x38, 0x29]), nothing, Dict{String, MeshCat.SceneTrees.SceneNode}()))), \"(27, 95)\" => MeshCat.SceneTrees.SceneNode(nothing, UInt8[0x83, 0xa6, 0x6d, 0x61, 0x74, 0x72, 0x69, 0x78, 0xc7, 0x40  …  0x73, 0x2f, 0x28, 0x32, 0x37, 0x2c, 0x20, 0x39, 0x35, 0x29], Dict{String, Vector{UInt8}}(\"scale\" => [0x84, 0xa8, 0x70, 0x72, 0x6f, 0x70, 0x65, 0x72, 0x74, 0x79  …  0x73, 0x2f, 0x28, 0x32, 0x37, 0x2c, 0x20, 0x39, 0x35, 0x29]), nothing, Dict{String, MeshCat.SceneTrees.SceneNode}(\"(0.0N0f8, 0.0N0f8, 1.0N0f8, 1.0N0f8)\" => MeshCat.SceneTrees.SceneNode(UInt8[0x83, 0xa6, 0x6f, 0x62, 0x6a, 0x65, 0x63, 0x74, 0x84, 0xaa  …  0x2c, 0x20, 0x31, 0x2e, 0x30, 0x4e, 0x30, 0x66, 0x38, 0x29], nothing, Dict{String, Vector{UInt8}}(\"visible\" => [0x84, 0xa8, 0x70, 0x72, 0x6f, 0x70, 0x65, 0x72, 0x74, 0x79  …  0x2c, 0x20, 0x31, 0x2e, 0x30, 0x4e, 0x30, 0x66, 0x38, 0x29]), nothing, Dict{String, MeshCat.SceneTrees.SceneNode}()))), \"(17, 34)\" => MeshCat.SceneTrees.SceneNode(nothing, UInt8[0x83, 0xa6, 0x6d, 0x61, 0x74, 0x72, 0x69, 0x78, 0xc7, 0x40  …  0x73, 0x2f, 0x28, 0x31, 0x37, 0x2c, 0x20, 0x33, 0x34, 0x29], Dict{String, Vector{UInt8}}(\"scale\" => [0x84, 0xa8, 0x70, 0x72, 0x6f, 0x70, 0x65, 0x72, 0x74, 0x79  …  0x73, 0x2f, 0x28, 0x31, 0x37, 0x2c, 0x20, 0x33, 0x34, 0x29]), nothing, Dict{String, MeshCat.SceneTrees.SceneNode}(\"(0.0N0f8, 0.0N0f8, 1.0N0f8, 1.0N0f8)\" => MeshCat.SceneTrees.SceneNode(UInt8[0x83, 0xa6, 0x6f, 0x62, 0x6a, 0x65, 0x63, 0x74, 0x84, 0xaa  …  0x2c, 0x20, 0x31, 0x2e, 0x30, 0x4e, 0x30, 0x66, 0x38, 0x29], nothing, Dict{String, Vector{UInt8}}(\"visible\" => [0x84, 0xa8, 0x70, 0x72, 0x6f, 0x70, 0x65, 0x72, 0x74, 0x79  …  0x2c, 0x20, 0x31, 0x2e, 0x30, 0x4e, 0x30, 0x66, 0x38, 0x29]), nothing, Dict{String, MeshCat.SceneTrees.SceneNode}()))), \"(43, 76)\" => MeshCat.SceneTrees.SceneNode(nothing, UInt8[0x83, 0xa6, 0x6d, 0x61, 0x74, 0x72, 0x69, 0x78, 0xc7, 0x40  …  0x73, 0x2f, 0x28, 0x34, 0x33, 0x2c, 0x20, 0x37, 0x36, 0x29], Dict{String, Vector{UInt8}}(\"scale\" => [0x84, 0xa8, 0x70, 0x72, 0x6f, 0x70, 0x65, 0x72, 0x74, 0x79  …  0x73, 0x2f, 0x28, 0x34, 0x33, 0x2c, 0x20, 0x37, 0x36, 0x29]), nothing, Dict{String, MeshCat.SceneTrees.SceneNode}(\"(0.0N0f8, 0.0N0f8, 1.0N0f8, 1.0N0f8)\" => MeshCat.SceneTrees.SceneNode(UInt8[0x83, 0xa6, 0x6f, 0x62, 0x6a, 0x65, 0x63, 0x74, 0x84, 0xaa  …  0x2c, 0x20, 0x31, 0x2e, 0x30, 0x4e, 0x30, 0x66, 0x38, 0x29], nothing, Dict{String, Vector{UInt8}}(\"visible\" => [0x84, 0xa8, 0x70, 0x72, 0x6f, 0x70, 0x65, 0x72, 0x74, 0x79  …  0x2c, 0x20, 0x31, 0x2e, 0x30, 0x4e, 0x30, 0x66, 0x38, 0x29]), nothing, Dict{String, MeshCat.SceneTrees.SceneNode}()))), \"(3, 13)\" => MeshCat.SceneTrees.SceneNode(nothing, UInt8[0x83, 0xa6, 0x6d, 0x61, 0x74, 0x72, 0x69, 0x78, 0xc7, 0x40  …  0x65, 0x73, 0x2f, 0x28, 0x33, 0x2c, 0x20, 0x31, 0x33, 0x29], Dict{String, Vector{UInt8}}(\"scale\" => [0x84, 0xa8, 0x70, 0x72, 0x6f, 0x70, 0x65, 0x72, 0x74, 0x79  …  0x65, 0x73, 0x2f, 0x28, 0x33, 0x2c, 0x20, 0x31, 0x33, 0x29]), nothing, Dict{String, MeshCat.SceneTrees.SceneNode}(\"(0.0N0f8, 0.0N0f8, 1.0N0f8, 1.0N0f8)\" => MeshCat.SceneTrees.SceneNode(UInt8[0x83, 0xa6, 0x6f, 0x62, 0x6a, 0x65, 0x63, 0x74, 0x84, 0xaa  …  0x2c, 0x20, 0x31, 0x2e, 0x30, 0x4e, 0x30, 0x66, 0x38, 0x29], nothing, Dict{String, Vector{UInt8}}(\"visible\" => [0x84, 0xa8, 0x70, 0x72, 0x6f, 0x70, 0x65, 0x72, 0x74, 0x79  …  0x2c, 0x20, 0x31, 0x2e, 0x30, 0x4e, 0x30, 0x66, 0x38, 0x29]), nothing, Dict{String, MeshCat.SceneTrees.SceneNode}()))), \"(8, 94)\" => MeshCat.SceneTrees.SceneNode(nothing, UInt8[0x83, 0xa6, 0x6d, 0x61, 0x74, 0x72, 0x69, 0x78, 0xc7, 0x40  …  0x65, 0x73, 0x2f, 0x28, 0x38, 0x2c, 0x20, 0x39, 0x34, 0x29], Dict{String, Vector{UInt8}}(\"scale\" => [0x84, 0xa8, 0x70, 0x72, 0x6f, 0x70, 0x65, 0x72, 0x74, 0x79  …  0x65, 0x73, 0x2f, 0x28, 0x38, 0x2c, 0x20, 0x39, 0x34, 0x29]), nothing, Dict{String, MeshCat.SceneTrees.SceneNode}(\"(0.0N0f8, 0.0N0f8, 1.0N0f8, 1.0N0f8)\" => MeshCat.SceneTrees.SceneNode(UInt8[0x83, 0xa6, 0x6f, 0x62, 0x6a, 0x65, 0x63, 0x74, 0x84, 0xaa  …  0x2c, 0x20, 0x31, 0x2e, 0x30, 0x4e, 0x30, 0x66, 0x38, 0x29], nothing, Dict{String, Vector{UInt8}}(\"visible\" => [0x84, 0xa8, 0x70, 0x72, 0x6f, 0x70, 0x65, 0x72, 0x74, 0x79  …  0x2c, 0x20, 0x31, 0x2e, 0x30, 0x4e, 0x30, 0x66, 0x38, 0x29]), nothing, Dict{String, MeshCat.SceneTrees.SceneNode}()))), \"(68, 69)\" => MeshCat.SceneTrees.SceneNode(nothing, UInt8[0x83, 0xa6, 0x6d, 0x61, 0x74, 0x72, 0x69, 0x78, 0xc7, 0x40  …  0x73, 0x2f, 0x28, 0x36, 0x38, 0x2c, 0x20, 0x36, 0x39, 0x29], Dict{String, Vector{UInt8}}(\"scale\" => [0x84, 0xa8, 0x70, 0x72, 0x6f, 0x70, 0x65, 0x72, 0x74, 0x79  …  0x73, 0x2f, 0x28, 0x36, 0x38, 0x2c, 0x20, 0x36, 0x39, 0x29]), nothing, Dict{String, MeshCat.SceneTrees.SceneNode}(\"(0.0N0f8, 0.0N0f8, 1.0N0f8, 1.0N0f8)\" => MeshCat.SceneTrees.SceneNode(UInt8[0x83, 0xa6, 0x6f, 0x62, 0x6a, 0x65, 0x63, 0x74, 0x84, 0xaa  …  0x2c, 0x20, 0x31, 0x2e, 0x30, 0x4e, 0x30, 0x66, 0x38, 0x29], nothing, Dict{String, Vector{UInt8}}(\"visible\" => [0x84, 0xa8, 0x70, 0x72, 0x6f, 0x70, 0x65, 0x72, 0x74, 0x79  …  0x2c, 0x20, 0x31, 0x2e, 0x30, 0x4e, 0x30, 0x66, 0x38, 0x29]), nothing, Dict{String, MeshCat.SceneTrees.SceneNode}())))…)))), \"Axes\" => MeshCat.SceneTrees.SceneNode(nothing, nothing, Dict{String, Vector{UInt8}}(), nothing, Dict{String, MeshCat.SceneTrees.SceneNode}(\"<object>\" => MeshCat.SceneTrees.SceneNode(UInt8[0x83, 0xa6, 0x6f, 0x62, 0x6a, 0x65, 0x63, 0x74, 0x84, 0xaa  …  0x73, 0x2f, 0x3c, 0x6f, 0x62, 0x6a, 0x65, 0x63, 0x74, 0x3e], UInt8[0x83, 0xa6, 0x6d, 0x61, 0x74, 0x72, 0x69, 0x78, 0xc7, 0x40  …  0x73, 0x2f, 0x3c, 0x6f, 0x62, 0x6a, 0x65, 0x63, 0x74, 0x3e], Dict{String, Vector{UInt8}}(), nothing, Dict{String, MeshCat.SceneTrees.SceneNode}()))))), Set{HTTP.WebSockets.WebSocket}(), ip\"127.0.0.1\", 8701))), WebIO.Node{WebIO.DOM}(WebIO.DOM(:html, :div), Any[WebIO.Scope(WebIO.Node{WebIO.DOM}(WebIO.DOM(:html, :div), Any[], Dict{Symbol, Any}(:id => \"container\")), Dict{String, Tuple{Observables.AbstractObservable, Union{Nothing, Bool}}}(\"value\" => (Observable(\"\\\\;\\\\;\"), nothing)), Set{String}(), nothing, WebIO.Asset[WebIO.Asset(\"js\", nothing, \"/home/dushya/.julia/packages/InteractBase/LJXv3/src/../assets/katex.min.js\"), WebIO.Asset(\"css\", nothing, \"/home/dushya/.julia/packages/InteractBase/LJXv3/src/../assets/katex.min.css\")], Dict{Any, Any}(\"value\" => Any[WebIO.JSString(\"(function (txt){return this.k.render(txt,this.container)})\")]), WebIO.ConnectionPool(Channel{Any}(32), Set{WebIO.AbstractConnection}(), Base.GenericCondition{ReentrantLock}(Base.IntrusiveLinkedList{Task}(Task (runnable) @0x00007f02c5ad5780, Task (runnable) @0x00007f02c5ad5780), ReentrantLock(nothing, 0x00000000, 0x00, Base.GenericCondition{Base.Threads.SpinLock}(Base.IntrusiveLinkedList{Task}(nothing, nothing), Base.Threads.SpinLock(0)), (2, 139650602701888, 8589934592)))), WebIO.JSString[WebIO.JSString(\"function () {\\n    var handler = ((function (k){this.k=k; this.container=this.dom.querySelector(\\\"#container\\\"); return k.render(\\\"\\\\\\\\;\\\\\\\\;\\\",this.container)}));\\n    (WebIO.importBlock({\\\"data\\\":[{\\\"name\\\":null,\\\"type\\\":\\\"js\\\",\\\"url\\\":\\\"/assetserver/dd22ed1bf1896c2748f3fe616ce0b838adc895c1-katex.min.js\\\"},{\\\"name\\\":null,\\\"type\\\":\\\"css\\\",\\\"url\\\":\\\"/assetserver/46517a424aa5e6cffc1360d7e0848b601c584ee3-katex.min.css\\\"}],\\\"type\\\":\\\"async_block\\\"})).then((imports) => handler.apply(this, imports));\\n}\\n\")])], Dict{Symbol, Any}(:className => \"interact-widget\")), WebIO.Node{WebIO.DOM}(WebIO.DOM(:html, :div), Any[Observable(Plot{Plots.GRBackend() n=1})], Dict{Symbol, Any}(:style => Dict(\"display\" => \"flex\", \"flex-direction\" => \"column\")))], Dict{Symbol, Any}(:style => Dict(\"display\" => \"flex\", \"flex-direction\" => \"row\")))], Dict{Symbol, Any}(:style => Dict(\"display\" => \"flex\", \"flex-direction\" => \"column\")))"
      ]
     },
     "execution_count": 12,
     "metadata": {
      "application/vnd.webio.node+json": {
       "kernelId": "ee887205-ec53-45cb-8b2e-aa981d735b89"
      }
     },
     "output_type": "execute_result"
    }
   ],
   "source": [
    "create_interactive_app(model, initialiser= initialiser!,\n",
    "    props_to_record = Dict(\"nodes\"=>Set([:color, :spin])),\n",
    "    step_rule= step_rule!,\n",
    "    model_controls=[(:temp, \"slider\", 0.05:0.05:5.0), \n",
    "        (:coupl, \"slider\", 0.01:0.1:5.0),\n",
    "        (:nns, \"slider\", 2:10)],\n",
    "    node_plots = Dict(\"magnetisation\"=> x -> x.spin),\n",
    "    frames=100) "
   ]
  },
  {
   "cell_type": "markdown",
   "metadata": {},
   "source": [
    "##### Step 4: Fetch Data \n",
    "\n",
    "In this step we fetch the data of average spin of nodes (also called magnetisation) and plot the result as follows."
   ]
  },
  {
   "cell_type": "code",
   "execution_count": 13,
   "metadata": {},
   "outputs": [
    {
     "data": {
      "image/png": "[encoded data removed]",
      "image/svg+xml": [
       "<?xml version=\"1.0\" encoding=\"utf-8\"?>\n",
       "<svg xmlns=\"http://www.w3.org/2000/svg\" xmlns:xlink=\"http://www.w3.org/1999/xlink\" width=\"600\" height=\"400\" viewBox=\"0 0 2400 1600\">\n",
       "<defs>\n",
       "  <clipPath id=\"clip560\">\n",
       "    <rect x=\"0\" y=\"0\" width=\"2400\" height=\"1600\"/>\n",
       "  </clipPath>\n",
       "</defs>\n",
       "<path clip-path=\"url(#clip560)\" d=\"M0 1600 L2400 1600 L2400 0 L0 0  Z\" fill=\"#ffffff\" fill-rule=\"evenodd\" fill-opacity=\"1\"/>\n",
       "<defs>\n",
       "  <clipPath id=\"clip561\">\n",
       "    <rect x=\"480\" y=\"0\" width=\"1681\" height=\"1600\"/>\n",
       "  </clipPath>\n",
       "</defs>\n",
       "<path clip-path=\"url(#clip560)\" d=\"M186.274 1423.18 L2352.76 1423.18 L2352.76 47.2441 L186.274 47.2441  Z\" fill=\"#ffffff\" fill-rule=\"evenodd\" fill-opacity=\"1\"/>\n",
       "<defs>\n",
       "  <clipPath id=\"clip562\">\n",
       "    <rect x=\"186\" y=\"47\" width=\"2167\" height=\"1377\"/>\n",
       "  </clipPath>\n",
       "</defs>\n",
       "<polyline clip-path=\"url(#clip562)\" style=\"stroke:#000000; stroke-linecap:round; stroke-linejoin:round; stroke-width:2; stroke-opacity:0.1; fill:none\" points=\"227.151,1423.18 227.151,47.2441 \"/>\n",
       "<polyline clip-path=\"url(#clip562)\" style=\"stroke:#000000; stroke-linecap:round; stroke-linejoin:round; stroke-width:2; stroke-opacity:0.1; fill:none\" points=\"738.114,1423.18 738.114,47.2441 \"/>\n",
       "<polyline clip-path=\"url(#clip562)\" style=\"stroke:#000000; stroke-linecap:round; stroke-linejoin:round; stroke-width:2; stroke-opacity:0.1; fill:none\" points=\"1249.08,1423.18 1249.08,47.2441 \"/>\n",
       "<polyline clip-path=\"url(#clip562)\" style=\"stroke:#000000; stroke-linecap:round; stroke-linejoin:round; stroke-width:2; stroke-opacity:0.1; fill:none\" points=\"1760.04,1423.18 1760.04,47.2441 \"/>\n",
       "<polyline clip-path=\"url(#clip562)\" style=\"stroke:#000000; stroke-linecap:round; stroke-linejoin:round; stroke-width:2; stroke-opacity:0.1; fill:none\" points=\"2271,1423.18 2271,47.2441 \"/>\n",
       "<polyline clip-path=\"url(#clip560)\" style=\"stroke:#000000; stroke-linecap:round; stroke-linejoin:round; stroke-width:4; stroke-opacity:1; fill:none\" points=\"186.274,1423.18 2352.76,1423.18 \"/>\n",
       "<polyline clip-path=\"url(#clip560)\" style=\"stroke:#000000; stroke-linecap:round; stroke-linejoin:round; stroke-width:4; stroke-opacity:1; fill:none\" points=\"227.151,1423.18 227.151,1404.28 \"/>\n",
       "<polyline clip-path=\"url(#clip560)\" style=\"stroke:#000000; stroke-linecap:round; stroke-linejoin:round; stroke-width:4; stroke-opacity:1; fill:none\" points=\"738.114,1423.18 738.114,1404.28 \"/>\n",
       "<polyline clip-path=\"url(#clip560)\" style=\"stroke:#000000; stroke-linecap:round; stroke-linejoin:round; stroke-width:4; stroke-opacity:1; fill:none\" points=\"1249.08,1423.18 1249.08,1404.28 \"/>\n",
       "<polyline clip-path=\"url(#clip560)\" style=\"stroke:#000000; stroke-linecap:round; stroke-linejoin:round; stroke-width:4; stroke-opacity:1; fill:none\" points=\"1760.04,1423.18 1760.04,1404.28 \"/>\n",
       "<polyline clip-path=\"url(#clip560)\" style=\"stroke:#000000; stroke-linecap:round; stroke-linejoin:round; stroke-width:4; stroke-opacity:1; fill:none\" points=\"2271,1423.18 2271,1404.28 \"/>\n",
       "<path clip-path=\"url(#clip560)\" d=\"M227.151 1454.1 Q223.54 1454.1 221.711 1457.66 Q219.906 1461.2 219.906 1468.33 Q219.906 1475.44 221.711 1479.01 Q223.54 1482.55 227.151 1482.55 Q230.785 1482.55 232.591 1479.01 Q234.419 1475.44 234.419 1468.33 Q234.419 1461.2 232.591 1457.66 Q230.785 1454.1 227.151 1454.1 M227.151 1450.39 Q232.961 1450.39 236.017 1455 Q239.095 1459.58 239.095 1468.33 Q239.095 1477.06 236.017 1481.67 Q232.961 1486.25 227.151 1486.25 Q221.341 1486.25 218.262 1481.67 Q215.207 1477.06 215.207 1468.33 Q215.207 1459.58 218.262 1455 Q221.341 1450.39 227.151 1450.39 Z\" fill=\"#000000\" fill-rule=\"nonzero\" fill-opacity=\"1\" /><path clip-path=\"url(#clip560)\" d=\"M717.385 1481.64 L733.704 1481.64 L733.704 1485.58 L711.76 1485.58 L711.76 1481.64 Q714.422 1478.89 719.005 1474.26 Q723.611 1469.61 724.792 1468.27 Q727.037 1465.74 727.917 1464.01 Q728.82 1462.25 728.82 1460.56 Q728.82 1457.8 726.875 1456.07 Q724.954 1454.33 721.852 1454.33 Q719.653 1454.33 717.199 1455.09 Q714.769 1455.86 711.991 1457.41 L711.991 1452.69 Q714.815 1451.55 717.269 1450.97 Q719.723 1450.39 721.76 1450.39 Q727.13 1450.39 730.324 1453.08 Q733.519 1455.77 733.519 1460.26 Q733.519 1462.39 732.709 1464.31 Q731.922 1466.2 729.815 1468.8 Q729.236 1469.47 726.135 1472.69 Q723.033 1475.88 717.385 1481.64 Z\" fill=\"#000000\" fill-rule=\"nonzero\" fill-opacity=\"1\" /><path clip-path=\"url(#clip560)\" d=\"M743.565 1451.02 L761.921 1451.02 L761.921 1454.96 L747.847 1454.96 L747.847 1463.43 Q748.866 1463.08 749.885 1462.92 Q750.903 1462.73 751.922 1462.73 Q757.709 1462.73 761.088 1465.9 Q764.468 1469.08 764.468 1474.49 Q764.468 1480.07 760.996 1483.17 Q757.523 1486.25 751.204 1486.25 Q749.028 1486.25 746.76 1485.88 Q744.514 1485.51 742.107 1484.77 L742.107 1480.07 Q744.19 1481.2 746.412 1481.76 Q748.635 1482.32 751.111 1482.32 Q755.116 1482.32 757.454 1480.21 Q759.792 1478.1 759.792 1474.49 Q759.792 1470.88 757.454 1468.77 Q755.116 1466.67 751.111 1466.67 Q749.236 1466.67 747.361 1467.08 Q745.51 1467.5 743.565 1468.38 L743.565 1451.02 Z\" fill=\"#000000\" fill-rule=\"nonzero\" fill-opacity=\"1\" /><path clip-path=\"url(#clip560)\" d=\"M1223.78 1451.02 L1242.13 1451.02 L1242.13 1454.96 L1228.06 1454.96 L1228.06 1463.43 Q1229.08 1463.08 1230.1 1462.92 Q1231.11 1462.73 1232.13 1462.73 Q1237.92 1462.73 1241.3 1465.9 Q1244.68 1469.08 1244.68 1474.49 Q1244.68 1480.07 1241.21 1483.17 Q1237.73 1486.25 1231.41 1486.25 Q1229.24 1486.25 1226.97 1485.88 Q1224.72 1485.51 1222.32 1484.77 L1222.32 1480.07 Q1224.4 1481.2 1226.62 1481.76 Q1228.85 1482.32 1231.32 1482.32 Q1235.33 1482.32 1237.66 1480.21 Q1240 1478.1 1240 1474.49 Q1240 1470.88 1237.66 1468.77 Q1235.33 1466.67 1231.32 1466.67 Q1229.45 1466.67 1227.57 1467.08 Q1225.72 1467.5 1223.78 1468.38 L1223.78 1451.02 Z\" fill=\"#000000\" fill-rule=\"nonzero\" fill-opacity=\"1\" /><path clip-path=\"url(#clip560)\" d=\"M1263.89 1454.1 Q1260.28 1454.1 1258.45 1457.66 Q1256.65 1461.2 1256.65 1468.33 Q1256.65 1475.44 1258.45 1479.01 Q1260.28 1482.55 1263.89 1482.55 Q1267.53 1482.55 1269.33 1479.01 Q1271.16 1475.44 1271.16 1468.33 Q1271.16 1461.2 1269.33 1457.66 Q1267.53 1454.1 1263.89 1454.1 M1263.89 1450.39 Q1269.7 1450.39 1272.76 1455 Q1275.84 1459.58 1275.84 1468.33 Q1275.84 1477.06 1272.76 1481.67 Q1269.7 1486.25 1263.89 1486.25 Q1258.08 1486.25 1255 1481.67 Q1251.95 1477.06 1251.95 1468.33 Q1251.95 1459.58 1255 1455 Q1258.08 1450.39 1263.89 1450.39 Z\" fill=\"#000000\" fill-rule=\"nonzero\" fill-opacity=\"1\" /><path clip-path=\"url(#clip560)\" d=\"M1733.89 1451.02 L1756.12 1451.02 L1756.12 1453.01 L1743.57 1485.58 L1738.69 1485.58 L1750.49 1454.96 L1733.89 1454.96 L1733.89 1451.02 Z\" fill=\"#000000\" fill-rule=\"nonzero\" fill-opacity=\"1\" /><path clip-path=\"url(#clip560)\" d=\"M1765.28 1451.02 L1783.64 1451.02 L1783.64 1454.96 L1769.56 1454.96 L1769.56 1463.43 Q1770.58 1463.08 1771.6 1462.92 Q1772.62 1462.73 1773.64 1462.73 Q1779.43 1462.73 1782.81 1465.9 Q1786.18 1469.08 1786.18 1474.49 Q1786.18 1480.07 1782.71 1483.17 Q1779.24 1486.25 1772.92 1486.25 Q1770.75 1486.25 1768.48 1485.88 Q1766.23 1485.51 1763.82 1484.77 L1763.82 1480.07 Q1765.91 1481.2 1768.13 1481.76 Q1770.35 1482.32 1772.83 1482.32 Q1776.83 1482.32 1779.17 1480.21 Q1781.51 1478.1 1781.51 1474.49 Q1781.51 1470.88 1779.17 1468.77 Q1776.83 1466.67 1772.83 1466.67 Q1770.95 1466.67 1769.08 1467.08 Q1767.23 1467.5 1765.28 1468.38 L1765.28 1451.02 Z\" fill=\"#000000\" fill-rule=\"nonzero\" fill-opacity=\"1\" /><path clip-path=\"url(#clip560)\" d=\"M2230.61 1481.64 L2238.25 1481.64 L2238.25 1455.28 L2229.94 1456.95 L2229.94 1452.69 L2238.2 1451.02 L2242.88 1451.02 L2242.88 1481.64 L2250.52 1481.64 L2250.52 1485.58 L2230.61 1485.58 L2230.61 1481.64 Z\" fill=\"#000000\" fill-rule=\"nonzero\" fill-opacity=\"1\" /><path clip-path=\"url(#clip560)\" d=\"M2269.96 1454.1 Q2266.35 1454.1 2264.52 1457.66 Q2262.71 1461.2 2262.71 1468.33 Q2262.71 1475.44 2264.52 1479.01 Q2266.35 1482.55 2269.96 1482.55 Q2273.59 1482.55 2275.4 1479.01 Q2277.23 1475.44 2277.23 1468.33 Q2277.23 1461.2 2275.4 1457.66 Q2273.59 1454.1 2269.96 1454.1 M2269.96 1450.39 Q2275.77 1450.39 2278.83 1455 Q2281.9 1459.58 2281.9 1468.33 Q2281.9 1477.06 2278.83 1481.67 Q2275.77 1486.25 2269.96 1486.25 Q2264.15 1486.25 2261.07 1481.67 Q2258.02 1477.06 2258.02 1468.33 Q2258.02 1459.58 2261.07 1455 Q2264.15 1450.39 2269.96 1450.39 Z\" fill=\"#000000\" fill-rule=\"nonzero\" fill-opacity=\"1\" /><path clip-path=\"url(#clip560)\" d=\"M2300.12 1454.1 Q2296.51 1454.1 2294.68 1457.66 Q2292.88 1461.2 2292.88 1468.33 Q2292.88 1475.44 2294.68 1479.01 Q2296.51 1482.55 2300.12 1482.55 Q2303.76 1482.55 2305.56 1479.01 Q2307.39 1475.44 2307.39 1468.33 Q2307.39 1461.2 2305.56 1457.66 Q2303.76 1454.1 2300.12 1454.1 M2300.12 1450.39 Q2305.93 1450.39 2308.99 1455 Q2312.07 1459.58 2312.07 1468.33 Q2312.07 1477.06 2308.99 1481.67 Q2305.93 1486.25 2300.12 1486.25 Q2294.31 1486.25 2291.23 1481.67 Q2288.18 1477.06 2288.18 1468.33 Q2288.18 1459.58 2291.23 1455 Q2294.31 1450.39 2300.12 1450.39 Z\" fill=\"#000000\" fill-rule=\"nonzero\" fill-opacity=\"1\" /><path clip-path=\"url(#clip560)\" d=\"M1206.56 1522.27 L1206.56 1532.4 L1218.62 1532.4 L1218.62 1536.95 L1206.56 1536.95 L1206.56 1556.3 Q1206.56 1560.66 1207.74 1561.9 Q1208.95 1563.14 1212.61 1563.14 L1218.62 1563.14 L1218.62 1568.04 L1212.61 1568.04 Q1205.83 1568.04 1203.25 1565.53 Q1200.67 1562.98 1200.67 1556.3 L1200.67 1536.95 L1196.37 1536.95 L1196.37 1532.4 L1200.67 1532.4 L1200.67 1522.27 L1206.56 1522.27 Z\" fill=\"#000000\" fill-rule=\"nonzero\" fill-opacity=\"1\" /><path clip-path=\"url(#clip560)\" d=\"M1226.32 1532.4 L1232.18 1532.4 L1232.18 1568.04 L1226.32 1568.04 L1226.32 1532.4 M1226.32 1518.52 L1232.18 1518.52 L1232.18 1525.93 L1226.32 1525.93 L1226.32 1518.52 Z\" fill=\"#000000\" fill-rule=\"nonzero\" fill-opacity=\"1\" /><path clip-path=\"url(#clip560)\" d=\"M1270.09 1533.76 L1270.09 1539.24 Q1267.61 1537.87 1265.09 1537.2 Q1262.61 1536.5 1260.06 1536.5 Q1254.36 1536.5 1251.21 1540.13 Q1248.06 1543.73 1248.06 1550.25 Q1248.06 1556.78 1251.21 1560.4 Q1254.36 1564 1260.06 1564 Q1262.61 1564 1265.09 1563.33 Q1267.61 1562.63 1270.09 1561.26 L1270.09 1566.68 Q1267.64 1567.82 1265 1568.39 Q1262.39 1568.97 1259.43 1568.97 Q1251.37 1568.97 1246.63 1563.91 Q1241.89 1558.85 1241.89 1550.25 Q1241.89 1541.53 1246.66 1536.53 Q1251.47 1531.54 1259.81 1531.54 Q1262.51 1531.54 1265.09 1532.11 Q1267.67 1532.65 1270.09 1533.76 Z\" fill=\"#000000\" fill-rule=\"nonzero\" fill-opacity=\"1\" /><path clip-path=\"url(#clip560)\" d=\"M1280.05 1518.52 L1285.94 1518.52 L1285.94 1547.77 L1303.41 1532.4 L1310.89 1532.4 L1291.99 1549.07 L1311.69 1568.04 L1304.05 1568.04 L1285.94 1550.63 L1285.94 1568.04 L1280.05 1568.04 L1280.05 1518.52 Z\" fill=\"#000000\" fill-rule=\"nonzero\" fill-opacity=\"1\" /><path clip-path=\"url(#clip560)\" d=\"M1340.75 1533.45 L1340.75 1538.98 Q1338.26 1537.71 1335.59 1537.07 Q1332.92 1536.44 1330.05 1536.44 Q1325.69 1536.44 1323.5 1537.77 Q1321.33 1539.11 1321.33 1541.79 Q1321.33 1543.82 1322.89 1545 Q1324.45 1546.15 1329.16 1547.2 L1331.17 1547.64 Q1337.41 1548.98 1340.02 1551.43 Q1342.66 1553.85 1342.66 1558.21 Q1342.66 1563.17 1338.71 1566.07 Q1334.8 1568.97 1327.92 1568.97 Q1325.06 1568.97 1321.94 1568.39 Q1318.85 1567.85 1315.41 1566.74 L1315.41 1560.69 Q1318.66 1562.38 1321.81 1563.24 Q1324.96 1564.07 1328.05 1564.07 Q1332.19 1564.07 1334.41 1562.66 Q1336.64 1561.23 1336.64 1558.65 Q1336.64 1556.27 1335.02 1554.99 Q1333.43 1553.72 1327.98 1552.54 L1325.95 1552.07 Q1320.5 1550.92 1318.09 1548.56 Q1315.67 1546.18 1315.67 1542.04 Q1315.67 1537.01 1319.23 1534.27 Q1322.8 1531.54 1329.35 1531.54 Q1332.6 1531.54 1335.46 1532.01 Q1338.33 1532.49 1340.75 1533.45 Z\" fill=\"#000000\" fill-rule=\"nonzero\" fill-opacity=\"1\" /><polyline clip-path=\"url(#clip562)\" style=\"stroke:#000000; stroke-linecap:round; stroke-linejoin:round; stroke-width:2; stroke-opacity:0.1; fill:none\" points=\"186.274,1384.24 2352.76,1384.24 \"/>\n",
       "<polyline clip-path=\"url(#clip562)\" style=\"stroke:#000000; stroke-linecap:round; stroke-linejoin:round; stroke-width:2; stroke-opacity:0.1; fill:none\" points=\"186.274,1026.46 2352.76,1026.46 \"/>\n",
       "<polyline clip-path=\"url(#clip562)\" style=\"stroke:#000000; stroke-linecap:round; stroke-linejoin:round; stroke-width:2; stroke-opacity:0.1; fill:none\" points=\"186.274,668.688 2352.76,668.688 \"/>\n",
       "<polyline clip-path=\"url(#clip562)\" style=\"stroke:#000000; stroke-linecap:round; stroke-linejoin:round; stroke-width:2; stroke-opacity:0.1; fill:none\" points=\"186.274,310.912 2352.76,310.912 \"/>\n",
       "<polyline clip-path=\"url(#clip560)\" style=\"stroke:#000000; stroke-linecap:round; stroke-linejoin:round; stroke-width:4; stroke-opacity:1; fill:none\" points=\"186.274,1423.18 186.274,47.2441 \"/>\n",
       "<polyline clip-path=\"url(#clip560)\" style=\"stroke:#000000; stroke-linecap:round; stroke-linejoin:round; stroke-width:4; stroke-opacity:1; fill:none\" points=\"186.274,1384.24 205.172,1384.24 \"/>\n",
       "<polyline clip-path=\"url(#clip560)\" style=\"stroke:#000000; stroke-linecap:round; stroke-linejoin:round; stroke-width:4; stroke-opacity:1; fill:none\" points=\"186.274,1026.46 205.172,1026.46 \"/>\n",
       "<polyline clip-path=\"url(#clip560)\" style=\"stroke:#000000; stroke-linecap:round; stroke-linejoin:round; stroke-width:4; stroke-opacity:1; fill:none\" points=\"186.274,668.688 205.172,668.688 \"/>\n",
       "<polyline clip-path=\"url(#clip560)\" style=\"stroke:#000000; stroke-linecap:round; stroke-linejoin:round; stroke-width:4; stroke-opacity:1; fill:none\" points=\"186.274,310.912 205.172,310.912 \"/>\n",
       "<path clip-path=\"url(#clip560)\" d=\"M62.9365 1370.04 Q59.3254 1370.04 57.4967 1373.6 Q55.6912 1377.14 55.6912 1384.27 Q55.6912 1391.38 57.4967 1394.94 Q59.3254 1398.49 62.9365 1398.49 Q66.5707 1398.49 68.3763 1394.94 Q70.205 1391.38 70.205 1384.27 Q70.205 1377.14 68.3763 1373.6 Q66.5707 1370.04 62.9365 1370.04 M62.9365 1366.33 Q68.7467 1366.33 71.8022 1370.94 Q74.8809 1375.52 74.8809 1384.27 Q74.8809 1393 71.8022 1397.61 Q68.7467 1402.19 62.9365 1402.19 Q57.1264 1402.19 54.0477 1397.61 Q50.9921 1393 50.9921 1384.27 Q50.9921 1375.52 54.0477 1370.94 Q57.1264 1366.33 62.9365 1366.33 Z\" fill=\"#000000\" fill-rule=\"nonzero\" fill-opacity=\"1\" /><path clip-path=\"url(#clip560)\" d=\"M83.0984 1395.64 L87.9827 1395.64 L87.9827 1401.52 L83.0984 1401.52 L83.0984 1395.64 Z\" fill=\"#000000\" fill-rule=\"nonzero\" fill-opacity=\"1\" /><path clip-path=\"url(#clip560)\" d=\"M108.168 1370.04 Q104.557 1370.04 102.728 1373.6 Q100.922 1377.14 100.922 1384.27 Q100.922 1391.38 102.728 1394.94 Q104.557 1398.49 108.168 1398.49 Q111.802 1398.49 113.608 1394.94 Q115.436 1391.38 115.436 1384.27 Q115.436 1377.14 113.608 1373.6 Q111.802 1370.04 108.168 1370.04 M108.168 1366.33 Q113.978 1366.33 117.033 1370.94 Q120.112 1375.52 120.112 1384.27 Q120.112 1393 117.033 1397.61 Q113.978 1402.19 108.168 1402.19 Q102.358 1402.19 99.2789 1397.61 Q96.2234 1393 96.2234 1384.27 Q96.2234 1375.52 99.2789 1370.94 Q102.358 1366.33 108.168 1366.33 Z\" fill=\"#000000\" fill-rule=\"nonzero\" fill-opacity=\"1\" /><path clip-path=\"url(#clip560)\" d=\"M138.33 1370.04 Q134.719 1370.04 132.89 1373.6 Q131.084 1377.14 131.084 1384.27 Q131.084 1391.38 132.89 1394.94 Q134.719 1398.49 138.33 1398.49 Q141.964 1398.49 143.769 1394.94 Q145.598 1391.38 145.598 1384.27 Q145.598 1377.14 143.769 1373.6 Q141.964 1370.04 138.33 1370.04 M138.33 1366.33 Q144.14 1366.33 147.195 1370.94 Q150.274 1375.52 150.274 1384.27 Q150.274 1393 147.195 1397.61 Q144.14 1402.19 138.33 1402.19 Q132.519 1402.19 129.441 1397.61 Q126.385 1393 126.385 1384.27 Q126.385 1375.52 129.441 1370.94 Q132.519 1366.33 138.33 1366.33 Z\" fill=\"#000000\" fill-rule=\"nonzero\" fill-opacity=\"1\" /><path clip-path=\"url(#clip560)\" d=\"M63.9319 1012.26 Q60.3208 1012.26 58.4921 1015.83 Q56.6865 1019.37 56.6865 1026.5 Q56.6865 1033.6 58.4921 1037.17 Q60.3208 1040.71 63.9319 1040.71 Q67.5661 1040.71 69.3717 1037.17 Q71.2004 1033.6 71.2004 1026.5 Q71.2004 1019.37 69.3717 1015.83 Q67.5661 1012.26 63.9319 1012.26 M63.9319 1008.56 Q69.742 1008.56 72.7976 1013.16 Q75.8763 1017.75 75.8763 1026.5 Q75.8763 1035.22 72.7976 1039.83 Q69.742 1044.41 63.9319 1044.41 Q58.1217 1044.41 55.043 1039.83 Q51.9875 1035.22 51.9875 1026.5 Q51.9875 1017.75 55.043 1013.16 Q58.1217 1008.56 63.9319 1008.56 Z\" fill=\"#000000\" fill-rule=\"nonzero\" fill-opacity=\"1\" /><path clip-path=\"url(#clip560)\" d=\"M84.0938 1037.86 L88.978 1037.86 L88.978 1043.74 L84.0938 1043.74 L84.0938 1037.86 Z\" fill=\"#000000\" fill-rule=\"nonzero\" fill-opacity=\"1\" /><path clip-path=\"url(#clip560)\" d=\"M109.163 1012.26 Q105.552 1012.26 103.723 1015.83 Q101.918 1019.37 101.918 1026.5 Q101.918 1033.6 103.723 1037.17 Q105.552 1040.71 109.163 1040.71 Q112.797 1040.71 114.603 1037.17 Q116.432 1033.6 116.432 1026.5 Q116.432 1019.37 114.603 1015.83 Q112.797 1012.26 109.163 1012.26 M109.163 1008.56 Q114.973 1008.56 118.029 1013.16 Q121.107 1017.75 121.107 1026.5 Q121.107 1035.22 118.029 1039.83 Q114.973 1044.41 109.163 1044.41 Q103.353 1044.41 100.274 1039.83 Q97.2187 1035.22 97.2187 1026.5 Q97.2187 1017.75 100.274 1013.16 Q103.353 1008.56 109.163 1008.56 Z\" fill=\"#000000\" fill-rule=\"nonzero\" fill-opacity=\"1\" /><path clip-path=\"url(#clip560)\" d=\"M129.371 1009.18 L147.728 1009.18 L147.728 1013.12 L133.654 1013.12 L133.654 1021.59 Q134.672 1021.24 135.691 1021.08 Q136.709 1020.9 137.728 1020.9 Q143.515 1020.9 146.894 1024.07 Q150.274 1027.24 150.274 1032.66 Q150.274 1038.23 146.802 1041.34 Q143.33 1044.41 137.01 1044.41 Q134.834 1044.41 132.566 1044.04 Q130.32 1043.67 127.913 1042.93 L127.913 1038.23 Q129.996 1039.37 132.219 1039.92 Q134.441 1040.48 136.918 1040.48 Q140.922 1040.48 143.26 1038.37 Q145.598 1036.27 145.598 1032.66 Q145.598 1029.04 143.26 1026.94 Q140.922 1024.83 136.918 1024.83 Q135.043 1024.83 133.168 1025.25 Q131.316 1025.66 129.371 1026.54 L129.371 1009.18 Z\" fill=\"#000000\" fill-rule=\"nonzero\" fill-opacity=\"1\" /><path clip-path=\"url(#clip560)\" d=\"M62.9365 654.486 Q59.3254 654.486 57.4967 658.051 Q55.6912 661.593 55.6912 668.722 Q55.6912 675.829 57.4967 679.394 Q59.3254 682.935 62.9365 682.935 Q66.5707 682.935 68.3763 679.394 Q70.205 675.829 70.205 668.722 Q70.205 661.593 68.3763 658.051 Q66.5707 654.486 62.9365 654.486 M62.9365 650.783 Q68.7467 650.783 71.8022 655.389 Q74.8809 659.972 74.8809 668.722 Q74.8809 677.449 71.8022 682.056 Q68.7467 686.639 62.9365 686.639 Q57.1264 686.639 54.0477 682.056 Q50.9921 677.449 50.9921 668.722 Q50.9921 659.972 54.0477 655.389 Q57.1264 650.783 62.9365 650.783 Z\" fill=\"#000000\" fill-rule=\"nonzero\" fill-opacity=\"1\" /><path clip-path=\"url(#clip560)\" d=\"M83.0984 680.088 L87.9827 680.088 L87.9827 685.968 L83.0984 685.968 L83.0984 680.088 Z\" fill=\"#000000\" fill-rule=\"nonzero\" fill-opacity=\"1\" /><path clip-path=\"url(#clip560)\" d=\"M98.978 682.032 L106.617 682.032 L106.617 655.667 L98.3067 657.333 L98.3067 653.074 L106.571 651.408 L111.246 651.408 L111.246 682.032 L118.885 682.032 L118.885 685.968 L98.978 685.968 L98.978 682.032 Z\" fill=\"#000000\" fill-rule=\"nonzero\" fill-opacity=\"1\" /><path clip-path=\"url(#clip560)\" d=\"M138.33 654.486 Q134.719 654.486 132.89 658.051 Q131.084 661.593 131.084 668.722 Q131.084 675.829 132.89 679.394 Q134.719 682.935 138.33 682.935 Q141.964 682.935 143.769 679.394 Q145.598 675.829 145.598 668.722 Q145.598 661.593 143.769 658.051 Q141.964 654.486 138.33 654.486 M138.33 650.783 Q144.14 650.783 147.195 655.389 Q150.274 659.972 150.274 668.722 Q150.274 677.449 147.195 682.056 Q144.14 686.639 138.33 686.639 Q132.519 686.639 129.441 682.056 Q126.385 677.449 126.385 668.722 Q126.385 659.972 129.441 655.389 Q132.519 650.783 138.33 650.783 Z\" fill=\"#000000\" fill-rule=\"nonzero\" fill-opacity=\"1\" /><path clip-path=\"url(#clip560)\" d=\"M63.9319 296.711 Q60.3208 296.711 58.4921 300.276 Q56.6865 303.817 56.6865 310.947 Q56.6865 318.053 58.4921 321.618 Q60.3208 325.16 63.9319 325.16 Q67.5661 325.16 69.3717 321.618 Q71.2004 318.053 71.2004 310.947 Q71.2004 303.817 69.3717 300.276 Q67.5661 296.711 63.9319 296.711 M63.9319 293.007 Q69.742 293.007 72.7976 297.614 Q75.8763 302.197 75.8763 310.947 Q75.8763 319.674 72.7976 324.28 Q69.742 328.863 63.9319 328.863 Q58.1217 328.863 55.043 324.28 Q51.9875 319.674 51.9875 310.947 Q51.9875 302.197 55.043 297.614 Q58.1217 293.007 63.9319 293.007 Z\" fill=\"#000000\" fill-rule=\"nonzero\" fill-opacity=\"1\" /><path clip-path=\"url(#clip560)\" d=\"M84.0938 322.313 L88.978 322.313 L88.978 328.192 L84.0938 328.192 L84.0938 322.313 Z\" fill=\"#000000\" fill-rule=\"nonzero\" fill-opacity=\"1\" /><path clip-path=\"url(#clip560)\" d=\"M99.9733 324.257 L107.612 324.257 L107.612 297.891 L99.3021 299.558 L99.3021 295.299 L107.566 293.632 L112.242 293.632 L112.242 324.257 L119.881 324.257 L119.881 328.192 L99.9733 328.192 L99.9733 324.257 Z\" fill=\"#000000\" fill-rule=\"nonzero\" fill-opacity=\"1\" /><path clip-path=\"url(#clip560)\" d=\"M129.371 293.632 L147.728 293.632 L147.728 297.567 L133.654 297.567 L133.654 306.039 Q134.672 305.692 135.691 305.53 Q136.709 305.345 137.728 305.345 Q143.515 305.345 146.894 308.516 Q150.274 311.688 150.274 317.104 Q150.274 322.683 146.802 325.785 Q143.33 328.863 137.01 328.863 Q134.834 328.863 132.566 328.493 Q130.32 328.123 127.913 327.382 L127.913 322.683 Q129.996 323.817 132.219 324.373 Q134.441 324.928 136.918 324.928 Q140.922 324.928 143.26 322.822 Q145.598 320.715 145.598 317.104 Q145.598 313.493 143.26 311.387 Q140.922 309.28 136.918 309.28 Q135.043 309.28 133.168 309.697 Q131.316 310.114 129.371 310.993 L129.371 293.632 Z\" fill=\"#000000\" fill-rule=\"nonzero\" fill-opacity=\"1\" /><polyline clip-path=\"url(#clip562)\" style=\"stroke:#009af9; stroke-linecap:round; stroke-linejoin:round; stroke-width:4; stroke-opacity:1; fill:none\" points=\"247.59,954.908 268.028,1236.83 288.467,953.434 308.905,1093.71 329.344,1238.22 349.782,1096.56 370.221,1095.14 390.659,952.017 411.098,807.476 431.536,1092.25 451.975,951.988 472.413,1093.7 492.852,952.002 513.29,807.475 533.729,1092.25 554.167,951.988 574.606,950.585 595.044,1093.68 615.483,1095.11 635.921,1095.13 656.36,1095.13 676.798,1238.24 697.237,1239.67 717.675,1382.79 738.114,1384.22 758.552,1384.24 778.991,811.798 799.429,806.073 819.868,1092.24 840.306,1095.1 860.745,1095.13 881.183,1095.13 901.622,808.907 922.06,806.044 942.499,949.126 962.937,378.116 983.376,86.1857 1003.81,369.487 1024.25,372.32 1044.69,515.458 1065.13,660 1085.57,661.445 1106.01,947.68 1126.45,950.542 1146.88,950.571 1167.32,664.351 1187.76,804.599 1208.2,806.001 1228.64,949.126 1249.08,807.447 1269.51,806.03 1289.95,806.016 1310.39,519.795 1330.83,946.263 1351.27,807.418 1371.71,519.809 1392.15,660.043 1412.58,804.556 1433.02,949.111 1453.46,807.446 1473.9,806.03 1494.34,949.126 1514.78,1093.67 1535.22,952.002 1555.65,950.586 1576.09,1093.68 1596.53,952.002 1616.97,1093.7 1637.41,808.892 1657.85,662.934 1678.29,804.585 1698.72,806.001 1719.16,949.126 1739.6,950.557 1760.04,950.571 1780.48,807.461 1800.92,806.03 1821.35,806.016 1841.79,806.016 1862.23,949.126 1882.67,807.447 1903.11,806.03 1923.55,949.126 1943.99,807.447 1964.42,806.03 1984.86,949.126 2005.3,950.557 2025.74,950.571 2046.18,950.571 2066.62,664.351 2087.06,661.489 2107.49,661.46 2127.93,804.57 2148.37,806.001 2168.81,949.126 2189.25,807.447 2209.69,949.14 2230.12,950.557 2250.56,807.461 2271,949.14 2291.44,950.557 \"/>\n",
       "<path clip-path=\"url(#clip560)\" d=\"M1731.37 196.789 L2280.54 196.789 L2280.54 93.1086 L1731.37 93.1086  Z\" fill=\"#ffffff\" fill-rule=\"evenodd\" fill-opacity=\"1\"/>\n",
       "<polyline clip-path=\"url(#clip560)\" style=\"stroke:#000000; stroke-linecap:round; stroke-linejoin:round; stroke-width:4; stroke-opacity:1; fill:none\" points=\"1731.37,196.789 2280.54,196.789 2280.54,93.1086 1731.37,93.1086 1731.37,196.789 \"/>\n",
       "<polyline clip-path=\"url(#clip560)\" style=\"stroke:#009af9; stroke-linecap:round; stroke-linejoin:round; stroke-width:4; stroke-opacity:1; fill:none\" points=\"1755.44,144.949 1899.87,144.949 \"/>\n",
       "<path clip-path=\"url(#clip560)\" d=\"M1944.29 141.28 Q1945.89 138.409 1948.11 137.044 Q1950.34 135.678 1953.34 135.678 Q1957.4 135.678 1959.59 138.525 Q1961.79 141.349 1961.79 146.581 L1961.79 162.229 L1957.51 162.229 L1957.51 146.719 Q1957.51 142.993 1956.19 141.187 Q1954.87 139.382 1952.16 139.382 Q1948.85 139.382 1946.93 141.581 Q1945.01 143.78 1945.01 147.576 L1945.01 162.229 L1940.73 162.229 L1940.73 146.719 Q1940.73 142.969 1939.41 141.187 Q1938.09 139.382 1935.34 139.382 Q1932.07 139.382 1930.15 141.604 Q1928.23 143.803 1928.23 147.576 L1928.23 162.229 L1923.95 162.229 L1923.95 136.303 L1928.23 136.303 L1928.23 140.331 Q1929.69 137.946 1931.72 136.812 Q1933.76 135.678 1936.56 135.678 Q1939.39 135.678 1941.35 137.113 Q1943.34 138.548 1944.29 141.28 Z\" fill=\"#000000\" fill-rule=\"nonzero\" fill-opacity=\"1\" /><path clip-path=\"url(#clip560)\" d=\"M1982.07 149.196 Q1976.91 149.196 1974.92 150.377 Q1972.93 151.557 1972.93 154.405 Q1972.93 156.673 1974.41 158.016 Q1975.91 159.335 1978.48 159.335 Q1982.02 159.335 1984.15 156.835 Q1986.31 154.312 1986.31 150.145 L1986.31 149.196 L1982.07 149.196 M1990.57 147.437 L1990.57 162.229 L1986.31 162.229 L1986.31 158.293 Q1984.85 160.655 1982.67 161.789 Q1980.5 162.9 1977.35 162.9 Q1973.37 162.9 1971.01 160.678 Q1968.67 158.432 1968.67 154.682 Q1968.67 150.307 1971.59 148.085 Q1974.52 145.863 1980.34 145.863 L1986.31 145.863 L1986.31 145.446 Q1986.31 142.507 1984.36 140.909 Q1982.44 139.289 1978.95 139.289 Q1976.72 139.289 1974.62 139.821 Q1972.51 140.354 1970.57 141.419 L1970.57 137.483 Q1972.9 136.581 1975.1 136.141 Q1977.3 135.678 1979.39 135.678 Q1985.01 135.678 1987.79 138.594 Q1990.57 141.511 1990.57 147.437 Z\" fill=\"#000000\" fill-rule=\"nonzero\" fill-opacity=\"1\" /><path clip-path=\"url(#clip560)\" d=\"M2016.4 148.965 Q2016.4 144.335 2014.48 141.789 Q2012.58 139.243 2009.13 139.243 Q2005.71 139.243 2003.78 141.789 Q2001.89 144.335 2001.89 148.965 Q2001.89 153.571 2003.78 156.118 Q2005.71 158.664 2009.13 158.664 Q2012.58 158.664 2014.48 156.118 Q2016.4 153.571 2016.4 148.965 M2020.66 159.011 Q2020.66 165.631 2017.72 168.849 Q2014.78 172.09 2008.71 172.09 Q2006.47 172.09 2004.48 171.742 Q2002.49 171.418 2000.61 170.724 L2000.61 166.58 Q2002.49 167.599 2004.32 168.085 Q2006.15 168.571 2008.04 168.571 Q2012.23 168.571 2014.32 166.372 Q2016.4 164.196 2016.4 159.775 L2016.4 157.668 Q2015.08 159.96 2013.02 161.094 Q2010.96 162.229 2008.09 162.229 Q2003.32 162.229 2000.4 158.594 Q1997.49 154.96 1997.49 148.965 Q1997.49 142.946 2000.4 139.312 Q2003.32 135.678 2008.09 135.678 Q2010.96 135.678 2013.02 136.812 Q2015.08 137.946 2016.4 140.238 L2016.4 136.303 L2020.66 136.303 L2020.66 159.011 Z\" fill=\"#000000\" fill-rule=\"nonzero\" fill-opacity=\"1\" /><path clip-path=\"url(#clip560)\" d=\"M2050.98 146.581 L2050.98 162.229 L2046.72 162.229 L2046.72 146.719 Q2046.72 143.039 2045.29 141.21 Q2043.85 139.382 2040.98 139.382 Q2037.53 139.382 2035.54 141.581 Q2033.55 143.78 2033.55 147.576 L2033.55 162.229 L2029.27 162.229 L2029.27 136.303 L2033.55 136.303 L2033.55 140.331 Q2035.08 137.993 2037.14 136.835 Q2039.22 135.678 2041.93 135.678 Q2046.4 135.678 2048.69 138.456 Q2050.98 141.21 2050.98 146.581 Z\" fill=\"#000000\" fill-rule=\"nonzero\" fill-opacity=\"1\" /><path clip-path=\"url(#clip560)\" d=\"M2081.65 148.201 L2081.65 150.284 L2062.07 150.284 Q2062.35 154.682 2064.71 156.997 Q2067.09 159.289 2071.33 159.289 Q2073.78 159.289 2076.08 158.687 Q2078.39 158.085 2080.66 156.881 L2080.66 160.909 Q2078.37 161.881 2075.96 162.391 Q2073.55 162.9 2071.08 162.9 Q2064.87 162.9 2061.24 159.289 Q2057.63 155.678 2057.63 149.52 Q2057.63 143.155 2061.05 139.428 Q2064.5 135.678 2070.33 135.678 Q2075.57 135.678 2078.6 139.057 Q2081.65 142.414 2081.65 148.201 M2077.39 146.951 Q2077.35 143.456 2075.43 141.372 Q2073.53 139.289 2070.38 139.289 Q2066.82 139.289 2064.66 141.303 Q2062.53 143.317 2062.21 146.974 L2077.39 146.951 Z\" fill=\"#000000\" fill-rule=\"nonzero\" fill-opacity=\"1\" /><path clip-path=\"url(#clip560)\" d=\"M2092.86 128.942 L2092.86 136.303 L2101.63 136.303 L2101.63 139.613 L2092.86 139.613 L2092.86 153.687 Q2092.86 156.858 2093.71 157.761 Q2094.59 158.664 2097.26 158.664 L2101.63 158.664 L2101.63 162.229 L2097.26 162.229 Q2092.33 162.229 2090.45 160.4 Q2088.58 158.548 2088.58 153.687 L2088.58 139.613 L2085.45 139.613 L2085.45 136.303 L2088.58 136.303 L2088.58 128.942 L2092.86 128.942 Z\" fill=\"#000000\" fill-rule=\"nonzero\" fill-opacity=\"1\" /><path clip-path=\"url(#clip560)\" d=\"M2107.23 136.303 L2111.49 136.303 L2111.49 162.229 L2107.23 162.229 L2107.23 136.303 M2107.23 126.21 L2111.49 126.21 L2111.49 131.604 L2107.23 131.604 L2107.23 126.21 Z\" fill=\"#000000\" fill-rule=\"nonzero\" fill-opacity=\"1\" /><path clip-path=\"url(#clip560)\" d=\"M2136.93 137.067 L2136.93 141.094 Q2135.13 140.169 2133.18 139.706 Q2131.24 139.243 2129.15 139.243 Q2125.98 139.243 2124.39 140.215 Q2122.81 141.187 2122.81 143.131 Q2122.81 144.613 2123.95 145.469 Q2125.08 146.303 2128.51 147.067 L2129.96 147.391 Q2134.5 148.363 2136.4 150.145 Q2138.32 151.905 2138.32 155.076 Q2138.32 158.687 2135.45 160.793 Q2132.6 162.9 2127.6 162.9 Q2125.52 162.9 2123.25 162.483 Q2121.01 162.09 2118.51 161.28 L2118.51 156.881 Q2120.87 158.108 2123.16 158.733 Q2125.45 159.335 2127.7 159.335 Q2130.7 159.335 2132.32 158.317 Q2133.95 157.275 2133.95 155.4 Q2133.95 153.664 2132.76 152.738 Q2131.61 151.812 2127.65 150.956 L2126.17 150.608 Q2122.21 149.775 2120.45 148.062 Q2118.69 146.326 2118.69 143.317 Q2118.69 139.659 2121.28 137.669 Q2123.88 135.678 2128.64 135.678 Q2131.01 135.678 2133.09 136.025 Q2135.17 136.372 2136.93 137.067 Z\" fill=\"#000000\" fill-rule=\"nonzero\" fill-opacity=\"1\" /><path clip-path=\"url(#clip560)\" d=\"M2156.89 149.196 Q2151.72 149.196 2149.73 150.377 Q2147.74 151.557 2147.74 154.405 Q2147.74 156.673 2149.22 158.016 Q2150.73 159.335 2153.3 159.335 Q2156.84 159.335 2158.97 156.835 Q2161.12 154.312 2161.12 150.145 L2161.12 149.196 L2156.89 149.196 M2165.38 147.437 L2165.38 162.229 L2161.12 162.229 L2161.12 158.293 Q2159.66 160.655 2157.49 161.789 Q2155.31 162.9 2152.16 162.9 Q2148.18 162.9 2145.82 160.678 Q2143.48 158.432 2143.48 154.682 Q2143.48 150.307 2146.4 148.085 Q2149.34 145.863 2155.15 145.863 L2161.12 145.863 L2161.12 145.446 Q2161.12 142.507 2159.18 140.909 Q2157.26 139.289 2153.76 139.289 Q2151.54 139.289 2149.43 139.821 Q2147.32 140.354 2145.38 141.419 L2145.38 137.483 Q2147.72 136.581 2149.92 136.141 Q2152.12 135.678 2154.2 135.678 Q2159.82 135.678 2162.6 138.594 Q2165.38 141.511 2165.38 147.437 Z\" fill=\"#000000\" fill-rule=\"nonzero\" fill-opacity=\"1\" /><path clip-path=\"url(#clip560)\" d=\"M2178.37 128.942 L2178.37 136.303 L2187.14 136.303 L2187.14 139.613 L2178.37 139.613 L2178.37 153.687 Q2178.37 156.858 2179.22 157.761 Q2180.1 158.664 2182.76 158.664 L2187.14 158.664 L2187.14 162.229 L2182.76 162.229 Q2177.83 162.229 2175.96 160.4 Q2174.08 158.548 2174.08 153.687 L2174.08 139.613 L2170.96 139.613 L2170.96 136.303 L2174.08 136.303 L2174.08 128.942 L2178.37 128.942 Z\" fill=\"#000000\" fill-rule=\"nonzero\" fill-opacity=\"1\" /><path clip-path=\"url(#clip560)\" d=\"M2192.74 136.303 L2197 136.303 L2197 162.229 L2192.74 162.229 L2192.74 136.303 M2192.74 126.21 L2197 126.21 L2197 131.604 L2192.74 131.604 L2192.74 126.21 Z\" fill=\"#000000\" fill-rule=\"nonzero\" fill-opacity=\"1\" /><path clip-path=\"url(#clip560)\" d=\"M2215.96 139.289 Q2212.53 139.289 2210.54 141.974 Q2208.55 144.636 2208.55 149.289 Q2208.55 153.942 2210.52 156.627 Q2212.51 159.289 2215.96 159.289 Q2219.36 159.289 2221.35 156.604 Q2223.34 153.918 2223.34 149.289 Q2223.34 144.682 2221.35 141.997 Q2219.36 139.289 2215.96 139.289 M2215.96 135.678 Q2221.51 135.678 2224.69 139.289 Q2227.86 142.9 2227.86 149.289 Q2227.86 155.655 2224.69 159.289 Q2221.51 162.9 2215.96 162.9 Q2210.38 162.9 2207.21 159.289 Q2204.06 155.655 2204.06 149.289 Q2204.06 142.9 2207.21 139.289 Q2210.38 135.678 2215.96 135.678 Z\" fill=\"#000000\" fill-rule=\"nonzero\" fill-opacity=\"1\" /><path clip-path=\"url(#clip560)\" d=\"M2256.47 146.581 L2256.47 162.229 L2252.21 162.229 L2252.21 146.719 Q2252.21 143.039 2250.77 141.21 Q2249.34 139.382 2246.47 139.382 Q2243.02 139.382 2241.03 141.581 Q2239.04 143.78 2239.04 147.576 L2239.04 162.229 L2234.75 162.229 L2234.75 136.303 L2239.04 136.303 L2239.04 140.331 Q2240.57 137.993 2242.63 136.835 Q2244.71 135.678 2247.42 135.678 Q2251.88 135.678 2254.18 138.456 Q2256.47 141.21 2256.47 146.581 Z\" fill=\"#000000\" fill-rule=\"nonzero\" fill-opacity=\"1\" /></svg>\n"
      ],
      "text/html": [
       "<img src=\"data:image/png;base64,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\" />"
      ]
     },
     "metadata": {},
     "output_type": "display_data"
    },
    {
     "data": {
      "text/html": [
       "<div><div style = \"float: left;\"><span>101×1 DataFrame</span></div><div style = \"float: right;\"><span style = \"font-style: italic;\">76 rows omitted</span></div><div style = \"clear: both;\"></div></div><div class = \"data-frame\" style = \"overflow-x: scroll;\"><table class = \"data-frame\" style = \"margin-bottom: 6px;\"><thead><tr class = \"header\"><th class = \"rowNumber\" style = \"font-weight: bold; text-align: right;\">Row</th><th style = \"text-align: left;\">magnetisation</th></tr><tr class = \"subheader headerLastRow\"><th class = \"rowNumber\" style = \"font-weight: bold; text-align: right;\"></th><th title = \"Float64\" style = \"text-align: left;\">Float64</th></tr></thead><tbody><tr><td class = \"rowNumber\" style = \"font-weight: bold; text-align: right;\">1</td><td style = \"text-align: right;\">0.06</td></tr><tr><td class = \"rowNumber\" style = \"font-weight: bold; text-align: right;\">2</td><td style = \"text-align: right;\">0.0206</td></tr><tr><td class = \"rowNumber\" style = \"font-weight: bold; text-align: right;\">3</td><td style = \"text-align: right;\">0.060206</td></tr><tr><td class = \"rowNumber\" style = \"font-weight: bold; text-align: right;\">4</td><td style = \"text-align: right;\">0.0406021</td></tr><tr><td class = \"rowNumber\" style = \"font-weight: bold; text-align: right;\">5</td><td style = \"text-align: right;\">0.020406</td></tr><tr><td class = \"rowNumber\" style = \"font-weight: bold; text-align: right;\">6</td><td style = \"text-align: right;\">0.0402041</td></tr><tr><td class = \"rowNumber\" style = \"font-weight: bold; text-align: right;\">7</td><td style = \"text-align: right;\">0.040402</td></tr><tr><td class = \"rowNumber\" style = \"font-weight: bold; text-align: right;\">8</td><td style = \"text-align: right;\">0.060404</td></tr><tr><td class = \"rowNumber\" style = \"font-weight: bold; text-align: right;\">9</td><td style = \"text-align: right;\">0.080604</td></tr><tr><td class = \"rowNumber\" style = \"font-weight: bold; text-align: right;\">10</td><td style = \"text-align: right;\">0.040806</td></tr><tr><td class = \"rowNumber\" style = \"font-weight: bold; text-align: right;\">11</td><td style = \"text-align: right;\">0.0604081</td></tr><tr><td class = \"rowNumber\" style = \"font-weight: bold; text-align: right;\">12</td><td style = \"text-align: right;\">0.0406041</td></tr><tr><td class = \"rowNumber\" style = \"font-weight: bold; text-align: right;\">13</td><td style = \"text-align: right;\">0.060406</td></tr><tr><td style = \"text-align: right;\">&vellip;</td><td style = \"text-align: right;\">&vellip;</td></tr><tr><td class = \"rowNumber\" style = \"font-weight: bold; text-align: right;\">90</td><td style = \"text-align: right;\">0.100606</td></tr><tr><td class = \"rowNumber\" style = \"font-weight: bold; text-align: right;\">91</td><td style = \"text-align: right;\">0.101006</td></tr><tr><td class = \"rowNumber\" style = \"font-weight: bold; text-align: right;\">92</td><td style = \"text-align: right;\">0.10101</td></tr><tr><td class = \"rowNumber\" style = \"font-weight: bold; text-align: right;\">93</td><td style = \"text-align: right;\">0.0810101</td></tr><tr><td class = \"rowNumber\" style = \"font-weight: bold; text-align: right;\">94</td><td style = \"text-align: right;\">0.0808101</td></tr><tr><td class = \"rowNumber\" style = \"font-weight: bold; text-align: right;\">95</td><td style = \"text-align: right;\">0.0608081</td></tr><tr><td class = \"rowNumber\" style = \"font-weight: bold; text-align: right;\">96</td><td style = \"text-align: right;\">0.0806081</td></tr><tr><td class = \"rowNumber\" style = \"font-weight: bold; text-align: right;\">97</td><td style = \"text-align: right;\">0.0608061</td></tr><tr><td class = \"rowNumber\" style = \"font-weight: bold; text-align: right;\">98</td><td style = \"text-align: right;\">0.0606081</td></tr><tr><td class = \"rowNumber\" style = \"font-weight: bold; text-align: right;\">99</td><td style = \"text-align: right;\">0.0806061</td></tr><tr><td class = \"rowNumber\" style = \"font-weight: bold; text-align: right;\">100</td><td style = \"text-align: right;\">0.0608061</td></tr><tr><td class = \"rowNumber\" style = \"font-weight: bold; text-align: right;\">101</td><td style = \"text-align: right;\">0.0606081</td></tr></tbody></table></div>"
      ],
      "text/latex": [
       "\\begin{tabular}{r|c}\n",
       "\t& magnetisation\\\\\n",
       "\t\\hline\n",
       "\t& Float64\\\\\n",
       "\t\\hline\n",
       "\t1 & 0.06 \\\\\n",
       "\t2 & 0.0206 \\\\\n",
       "\t3 & 0.060206 \\\\\n",
       "\t4 & 0.0406021 \\\\\n",
       "\t5 & 0.020406 \\\\\n",
       "\t6 & 0.0402041 \\\\\n",
       "\t7 & 0.040402 \\\\\n",
       "\t8 & 0.060404 \\\\\n",
       "\t9 & 0.080604 \\\\\n",
       "\t10 & 0.040806 \\\\\n",
       "\t11 & 0.0604081 \\\\\n",
       "\t12 & 0.0406041 \\\\\n",
       "\t13 & 0.060406 \\\\\n",
       "\t14 & 0.0806041 \\\\\n",
       "\t15 & 0.040806 \\\\\n",
       "\t16 & 0.0604081 \\\\\n",
       "\t17 & 0.0606041 \\\\\n",
       "\t18 & 0.040606 \\\\\n",
       "\t19 & 0.0404061 \\\\\n",
       "\t20 & 0.0404041 \\\\\n",
       "\t21 & 0.040404 \\\\\n",
       "\t22 & 0.020404 \\\\\n",
       "\t23 & 0.020204 \\\\\n",
       "\t24 & 0.00020204 \\\\\n",
       "\t25 & 2.0204e-6 \\\\\n",
       "\t26 & 2.0204e-8 \\\\\n",
       "\t27 & 0.08 \\\\\n",
       "\t28 & 0.0808 \\\\\n",
       "\t29 & 0.040808 \\\\\n",
       "\t30 & 0.0404081 \\\\\n",
       "\t$\\dots$ & $\\dots$ \\\\\n",
       "\\end{tabular}\n"
      ],
      "text/plain": [
       "\u001b[1m101×1 DataFrame\u001b[0m\n",
       "\u001b[1m Row \u001b[0m│\u001b[1m magnetisation \u001b[0m\n",
       "     │\u001b[90m Float64       \u001b[0m\n",
       "─────┼───────────────\n",
       "   1 │     0.06\n",
       "   2 │     0.0206\n",
       "   3 │     0.060206\n",
       "   4 │     0.0406021\n",
       "   5 │     0.020406\n",
       "   6 │     0.0402041\n",
       "   7 │     0.040402\n",
       "   8 │     0.060404\n",
       "   9 │     0.080604\n",
       "  10 │     0.040806\n",
       "  11 │     0.0604081\n",
       "  ⋮  │       ⋮\n",
       "  92 │     0.10101\n",
       "  93 │     0.0810101\n",
       "  94 │     0.0808101\n",
       "  95 │     0.0608081\n",
       "  96 │     0.0806081\n",
       "  97 │     0.0608061\n",
       "  98 │     0.0606081\n",
       "  99 │     0.0806061\n",
       " 100 │     0.0608061\n",
       " 101 │     0.0606081\n",
       "\u001b[36m      80 rows omitted\u001b[0m"
      ]
     },
     "execution_count": 13,
     "metadata": {},
     "output_type": "execute_result"
    }
   ],
   "source": [
    "df = get_nodes_avg_props(model, node -> node.spin, labels=[\"magnetisation\"], plot_result = true)"
   ]
  },
  {
   "cell_type": "code",
   "execution_count": null,
   "metadata": {},
   "outputs": [],
   "source": []
  }
 ],
 "metadata": {
  "@webio": {
   "lastCommId": "858c82681f8442b58c18bda4a3082832",
   "lastKernelId": "ee887205-ec53-45cb-8b2e-aa981d735b89"
  },
  "kernelspec": {
   "display_name": "Julia 1.9.2",
   "language": "julia",
   "name": "julia-1.9"
  },
  "language_info": {
   "file_extension": ".jl",
   "mimetype": "application/julia",
   "name": "julia",
   "version": "1.9.2"
  }
 },
 "nbformat": 4,
 "nbformat_minor": 4
}
