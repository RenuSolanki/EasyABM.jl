{
 "cells": [
  {
   "cell_type": "markdown",
   "metadata": {},
   "source": [
    "# Rock Paper Scissor"
   ]
  },
  {
   "cell_type": "code",
   "execution_count": 1,
   "metadata": {},
   "outputs": [
    {
     "name": "stderr",
     "output_type": "stream",
     "text": [
      "\u001b[32m\u001b[1m  Activating\u001b[22m\u001b[39m project at `~/Documents/EasyABM`\n"
     ]
    },
    {
     "data": {
      "application/vnd.webio.node+json": {
       "children": [],
       "instanceArgs": {
        "namespace": "html",
        "tag": "div"
       },
       "nodeType": "DOM",
       "props": {},
       "type": "node"
      },
      "text/html": [
       "<div style=\"padding: 1em; background-color: #f8d6da; border: 1px solid #f5c6cb; font-weight: bold;\">\n",
       "<p>The WebIO Jupyter extension was not detected. See the\n",
       "<a href=\"https://juliagizmos.github.io/WebIO.jl/latest/providers/ijulia/\" target=\"_blank\">\n",
       "    WebIO Jupyter integration documentation\n",
       "</a>\n",
       "for more information.\n",
       "</div>\n"
      ],
      "text/plain": [
       "WebIO._IJuliaInit()"
      ]
     },
     "metadata": {
      "application/vnd.webio.node+json": {
       "kernelId": "82c7a13c-6049-444f-a63b-4c4ff3aaf528"
      }
     },
     "output_type": "display_data"
    }
   ],
   "source": [
    "using Pkg, Revise\n",
    "Pkg.activate(joinpath(@__DIR__, \"../..\"))\n",
    "using EasyABM"
   ]
  },
  {
   "cell_type": "markdown",
   "metadata": {},
   "source": [
    "## Step 1: Create Model\n",
    "\n",
    "In this model, we work with patches only. We set `grid_size` to (50,50), set `space_type` to Periodic and define an additional model parameter `threshold` whose value is set to 3. "
   ]
  },
  {
   "cell_type": "code",
   "execution_count": 2,
   "metadata": {},
   "outputs": [
    {
     "data": {
      "text/plain": [
       "EasyABM SpaceModel2D{EasyABM.StaticType, Int64, EasyABM.PeriodicType}: In a EasyABM.StaticType model number of agents is fixed.\n"
      ]
     },
     "execution_count": 2,
     "metadata": {},
     "output_type": "execute_result"
    }
   ],
   "source": [
    "model = create_2d_model(size = (50,50), space_type=Periodic, threshold = 3)"
   ]
  },
  {
   "cell_type": "markdown",
   "metadata": {},
   "source": [
    "## Step 2: Initialise the model\n",
    "\n",
    "In the second step we initialise the patches by defining `initialiser!` function and sending it as an argument to `init_model!`. In the `initialiser!` function we randomly assign `cl\"red\"` (for stone), `cl\"green\"` (for paper) and `cl\"blue\"` (for scissor) color to patches. Then we initialise the model using `init_model!` function, in which through the argument `props_to_record`, we tell EasyABM to record the `:color` property of patches during time evolution. Note that, in EasyABM animations are created with the recorded data, therefore if in the present model, the color of patches is not recorded there will be no animation to see. "
   ]
  },
  {
   "cell_type": "code",
   "execution_count": 3,
   "metadata": {},
   "outputs": [],
   "source": [
    "function initialiser!(model)\n",
    "    for j in 1:model.size[2]\n",
    "        for i in 1:model.size[1]\n",
    "            num = rand()\n",
    "            if num<0.33\n",
    "                model.patches[i,j].color = cl\"red\" # stone => red, paper => green, scissor => blue\n",
    "            elseif num>0.66\n",
    "                model.patches[i,j].color = cl\"green\"\n",
    "            else\n",
    "                model.patches[i,j].color = cl\"blue\"\n",
    "            end\n",
    "        end\n",
    "    end\n",
    "end\n",
    "\n",
    "init_model!(model, initialiser = initialiser!, props_to_record = Dict(\"patches\" => Set([:color])))"
   ]
  },
  {
   "cell_type": "markdown",
   "metadata": {},
   "source": [
    "## Step 3: Defining the step_rule! and running the model\n",
    "\n",
    "In this step we define the `step_rule!` function and run the model for 400 steps. The rule of the game is very simple. The `cl\"red\"` color of a patch will change to `cl\"green\"` if number of neighboring patches with color `cl\"green\"` exceeds the threshold( which we set to be 3 in the beginning). Similarly, if a `cl\"green\"` patch finds larger than the threshold number of `cl\"blue\"` patches in its neighborhood, it will change to `cl\"blue\"`, and if a `cl\"blue\"` patch finds larger than threshold number of `cl\"red\"` patches in its neighborhood it will change to `cl\"red\"`. Each step of the model consists of 500 Monte-Carlo steps in which a patch is selected at random and the above mentioned rule applied to it. "
   ]
  },
  {
   "cell_type": "code",
   "execution_count": 4,
   "metadata": {
    "scrolled": true
   },
   "outputs": [
    {
     "data": {
      "text/plain": [
       "Dict{Col, Col} with 3 entries:\n",
       "  RGBA{N0f8}(1.0,0.0,0.0,1.0… => RGBA{N0f8}(0.0,1.0,0.0,1.0)…\n",
       "  RGBA{N0f8}(0.0,1.0,0.0,1.0… => RGBA{N0f8}(0.0,0.0,1.0,1.0)…\n",
       "  RGBA{N0f8}(0.0,0.0,1.0,1.0… => RGBA{N0f8}(1.0,0.0,0.0,1.0)…"
      ]
     },
     "execution_count": 4,
     "metadata": {},
     "output_type": "execute_result"
    }
   ],
   "source": [
    "const who_wins_against = Dict(cl\"red\" => cl\"green\", cl\"green\" => cl\"blue\", cl\"blue\" => cl\"red\")"
   ]
  },
  {
   "cell_type": "code",
   "execution_count": 5,
   "metadata": {},
   "outputs": [
    {
     "data": {
      "text/plain": [
       "step_rule! (generic function with 1 method)"
      ]
     },
     "execution_count": 5,
     "metadata": {},
     "output_type": "execute_result"
    }
   ],
   "source": [
    "function step_rule!(model)\n",
    "    for _ in 1:500\n",
    "        i = rand(1:model.size[1])\n",
    "        j = rand(1:model.size[2])\n",
    "        nbr_patches = neighbor_patches_moore((i,j), model, 1)\n",
    "        col = model.patches[i,j].color\n",
    "        winner_col = who_wins_against[col]\n",
    "        count = 0 \n",
    "        for patch in nbr_patches\n",
    "            if model.patches[patch...].color == winner_col\n",
    "                count+=1\n",
    "            end\n",
    "        end\n",
    "        if count > model.parameters.threshold\n",
    "            model.patches[i,j].color = winner_col\n",
    "        end\n",
    "    end\n",
    "end"
   ]
  },
  {
   "cell_type": "code",
   "execution_count": 6,
   "metadata": {},
   "outputs": [],
   "source": [
    "run_model!(model, steps = 400, step_rule = step_rule!)"
   ]
  },
  {
   "cell_type": "markdown",
   "metadata": {},
   "source": [
    "## Step 4: Visualisation"
   ]
  },
  {
   "cell_type": "markdown",
   "metadata": {},
   "source": [
    "In order to draw the model at a specific frame, say 4th, one can use"
   ]
  },
  {
   "cell_type": "code",
   "execution_count": 7,
   "metadata": {
    "scrolled": true
   },
   "outputs": [
    {
     "data": {
      "image/png": "[encoded data removed]",
      "text/plain": []
     },
     "execution_count": 7,
     "metadata": {},
     "output_type": "execute_result"
    }
   ],
   "source": [
    "draw_frame(model, frame = 4, show_patches=true)"
   ]
  },
  {
   "cell_type": "markdown",
   "metadata": {},
   "source": [
    "If one wants to see the animation of the model run, it can be done as "
   ]
  },
  {
   "cell_type": "code",
   "execution_count": 8,
   "metadata": {},
   "outputs": [
    {
     "data": {
      "application/vnd.webio.node+json": {
       "children": [
        {
         "children": [
          {
           "children": [
            {
             "children": [
              {
               "children": [
                {
                 "children": [
                  {
                   "children": [
                    {
                     "children": [
                      "time"
                     ],
                     "instanceArgs": {
                      "namespace": "html",
                      "tag": "label"
                     },
                     "nodeType": "DOM",
                     "props": {
                      "className": "interact ",
                      "style": {
                       "padding": "5px 10px 0px 10px"
                      }
                     },
                     "type": "node"
                    }
                   ],
                   "instanceArgs": {
                    "namespace": "html",
                    "tag": "div"
                   },
                   "nodeType": "DOM",
                   "props": {
                    "className": "interact-flex-row-left"
                   },
                   "type": "node"
                  },
                  {
                   "children": [
                    {
                     "children": [],
                     "instanceArgs": {
                      "namespace": "html",
                      "tag": "input"
                     },
                     "nodeType": "DOM",
                     "props": {
                      "attributes": {
                       "data-bind": "numericValue: index, valueUpdate: 'input', event: {change: function (){this.changes(this.changes()+1)}}",
                       "orient": "horizontal",
                       "type": "range"
                      },
                      "className": "slider slider is-fullwidth",
                      "max": 401,
                      "min": 1,
                      "step": 1,
                      "style": {}
                     },
                     "type": "node"
                    }
                   ],
                   "instanceArgs": {
                    "namespace": "html",
                    "tag": "div"
                   },
                   "nodeType": "DOM",
                   "props": {
                    "className": "interact-flex-row-center"
                   },
                   "type": "node"
                  },
                  {
                   "children": [
                    {
                     "children": [],
                     "instanceArgs": {
                      "namespace": "html",
                      "tag": "p"
                     },
                     "nodeType": "DOM",
                     "props": {
                      "attributes": {
                       "data-bind": "text: formatted_val"
                      }
                     },
                     "type": "node"
                    }
                   ],
                   "instanceArgs": {
                    "namespace": "html",
                    "tag": "div"
                   },
                   "nodeType": "DOM",
                   "props": {
                    "className": "interact-flex-row-right"
                   },
                   "type": "node"
                  }
                 ],
                 "instanceArgs": {
                  "namespace": "html",
                  "tag": "div"
                 },
                 "nodeType": "DOM",
                 "props": {
                  "className": "interact-flex-row interact-widget"
                 },
                 "type": "node"
                }
               ],
               "instanceArgs": {
                "handlers": {
                 "changes": [
                  "(function (val){return (val!=this.model[\"changes\"]()) ? (this.valueFromJulia[\"changes\"]=true, this.model[\"changes\"](val)) : undefined})"
                 ],
                 "index": [
                  "(function (val){return (val!=this.model[\"index\"]()) ? (this.valueFromJulia[\"index\"]=true, this.model[\"index\"](val)) : undefined})"
                 ]
                },
                "id": "2828802018653336131",
                "imports": {
                 "data": [
                  {
                   "name": "knockout",
                   "type": "js",
                   "url": "/assetserver/727383f2a47bd31570b7da84eee7b022dd6d7c78-knockout.js"
                  },
                  {
                   "name": "knockout_punches",
                   "type": "js",
                   "url": "/assetserver/382b41b3b1bd9f26f75861d360bad7f8beea211f-knockout_punches.js"
                  },
                  {
                   "name": null,
                   "type": "js",
                   "url": "/assetserver/5ab20f1060420992a9b82a65b735dee4d81ef413-all.js"
                  },
                  {
                   "name": null,
                   "type": "css",
                   "url": "/assetserver/1cc0ed62837210b80a182cc3676512f895dab686-style.css"
                  },
                  {
                   "name": null,
                   "type": "css",
                   "url": "/assetserver/2eee816f616df3549d7044d45e744fbf8d42bfa1-bulma_confined.min.css"
                  }
                 ],
                 "type": "async_block"
                },
                "mount_callbacks": [
                 "function () {\n    var handler = (function (ko, koPunches) {\n    ko.punches.enableAll();\n    ko.bindingHandlers.numericValue = {\n        init: function(element, valueAccessor, allBindings, data, context) {\n            var stringified = ko.observable(ko.unwrap(valueAccessor()));\n            stringified.subscribe(function(value) {\n                var val = parseFloat(value);\n                if (!isNaN(val)) {\n                    valueAccessor()(val);\n                }\n            });\n            valueAccessor().subscribe(function(value) {\n                var str = JSON.stringify(value);\n                if ((str == \"0\") && ([\"-0\", \"-0.\"].indexOf(stringified()) >= 0))\n                     return;\n                 if ([\"null\", \"\"].indexOf(str) >= 0)\n                     return;\n                stringified(str);\n            });\n            ko.applyBindingsToNode(\n                element,\n                {\n                    value: stringified,\n                    valueUpdate: allBindings.get('valueUpdate'),\n                },\n                context,\n            );\n        }\n    };\n    var json_data = {\"formatted_vals\":[\"1\",\"2\",\"3\",\"4\",\"5\",\"6\",\"7\",\"8\",\"9\",\"10\",\"11\",\"12\",\"13\",\"14\",\"15\",\"16\",\"17\",\"18\",\"19\",\"20\",\"21\",\"22\",\"23\",\"24\",\"25\",\"26\",\"27\",\"28\",\"29\",\"30\",\"31\",\"32\",\"33\",\"34\",\"35\",\"36\",\"37\",\"38\",\"39\",\"40\",\"41\",\"42\",\"43\",\"44\",\"45\",\"46\",\"47\",\"48\",\"49\",\"50\",\"51\",\"52\",\"53\",\"54\",\"55\",\"56\",\"57\",\"58\",\"59\",\"60\",\"61\",\"62\",\"63\",\"64\",\"65\",\"66\",\"67\",\"68\",\"69\",\"70\",\"71\",\"72\",\"73\",\"74\",\"75\",\"76\",\"77\",\"78\",\"79\",\"80\",\"81\",\"82\",\"83\",\"84\",\"85\",\"86\",\"87\",\"88\",\"89\",\"90\",\"91\",\"92\",\"93\",\"94\",\"95\",\"96\",\"97\",\"98\",\"99\",\"100\",\"101\",\"102\",\"103\",\"104\",\"105\",\"106\",\"107\",\"108\",\"109\",\"110\",\"111\",\"112\",\"113\",\"114\",\"115\",\"116\",\"117\",\"118\",\"119\",\"120\",\"121\",\"122\",\"123\",\"124\",\"125\",\"126\",\"127\",\"128\",\"129\",\"130\",\"131\",\"132\",\"133\",\"134\",\"135\",\"136\",\"137\",\"138\",\"139\",\"140\",\"141\",\"142\",\"143\",\"144\",\"145\",\"146\",\"147\",\"148\",\"149\",\"150\",\"151\",\"152\",\"153\",\"154\",\"155\",\"156\",\"157\",\"158\",\"159\",\"160\",\"161\",\"162\",\"163\",\"164\",\"165\",\"166\",\"167\",\"168\",\"169\",\"170\",\"171\",\"172\",\"173\",\"174\",\"175\",\"176\",\"177\",\"178\",\"179\",\"180\",\"181\",\"182\",\"183\",\"184\",\"185\",\"186\",\"187\",\"188\",\"189\",\"190\",\"191\",\"192\",\"193\",\"194\",\"195\",\"196\",\"197\",\"198\",\"199\",\"200\",\"201\",\"202\",\"203\",\"204\",\"205\",\"206\",\"207\",\"208\",\"209\",\"210\",\"211\",\"212\",\"213\",\"214\",\"215\",\"216\",\"217\",\"218\",\"219\",\"220\",\"221\",\"222\",\"223\",\"224\",\"225\",\"226\",\"227\",\"228\",\"229\",\"230\",\"231\",\"232\",\"233\",\"234\",\"235\",\"236\",\"237\",\"238\",\"239\",\"240\",\"241\",\"242\",\"243\",\"244\",\"245\",\"246\",\"247\",\"248\",\"249\",\"250\",\"251\",\"252\",\"253\",\"254\",\"255\",\"256\",\"257\",\"258\",\"259\",\"260\",\"261\",\"262\",\"263\",\"264\",\"265\",\"266\",\"267\",\"268\",\"269\",\"270\",\"271\",\"272\",\"273\",\"274\",\"275\",\"276\",\"277\",\"278\",\"279\",\"280\",\"281\",\"282\",\"283\",\"284\",\"285\",\"286\",\"287\",\"288\",\"289\",\"290\",\"291\",\"292\",\"293\",\"294\",\"295\",\"296\",\"297\",\"298\",\"299\",\"300\",\"301\",\"302\",\"303\",\"304\",\"305\",\"306\",\"307\",\"308\",\"309\",\"310\",\"311\",\"312\",\"313\",\"314\",\"315\",\"316\",\"317\",\"318\",\"319\",\"320\",\"321\",\"322\",\"323\",\"324\",\"325\",\"326\",\"327\",\"328\",\"329\",\"330\",\"331\",\"332\",\"333\",\"334\",\"335\",\"336\",\"337\",\"338\",\"339\",\"340\",\"341\",\"342\",\"343\",\"344\",\"345\",\"346\",\"347\",\"348\",\"349\",\"350\",\"351\",\"352\",\"353\",\"354\",\"355\",\"356\",\"357\",\"358\",\"359\",\"360\",\"361\",\"362\",\"363\",\"364\",\"365\",\"366\",\"367\",\"368\",\"369\",\"370\",\"371\",\"372\",\"373\",\"374\",\"375\",\"376\",\"377\",\"378\",\"379\",\"380\",\"381\",\"382\",\"383\",\"384\",\"385\",\"386\",\"387\",\"388\",\"389\",\"390\",\"391\",\"392\",\"393\",\"394\",\"395\",\"396\",\"397\",\"398\",\"399\",\"400\",\"401\"],\"changes\":WebIO.getval({\"name\":\"changes\",\"scope\":\"2828802018653336131\",\"id\":\"14931214141451821779\",\"type\":\"observable\"}),\"index\":WebIO.getval({\"name\":\"index\",\"scope\":\"2828802018653336131\",\"id\":\"3617184661110744201\",\"type\":\"observable\"})};\n    var self = this;\n    function AppViewModel() {\n        for (var key in json_data) {\n            var el = json_data[key];\n            this[key] = Array.isArray(el) ? ko.observableArray(el) : ko.observable(el);\n        }\n        \n        [this[\"formatted_val\"]=ko.computed(    function(){\n        return this.formatted_vals()[parseInt(this.index())-(1)];\n    }\n,this)]\n        [this[\"changes\"].subscribe((function (val){!(this.valueFromJulia[\"changes\"]) ? (WebIO.setval({\"name\":\"changes\",\"scope\":\"2828802018653336131\",\"id\":\"14931214141451821779\",\"type\":\"observable\"},val)) : undefined; return this.valueFromJulia[\"changes\"]=false}),self),this[\"index\"].subscribe((function (val){!(this.valueFromJulia[\"index\"]) ? (WebIO.setval({\"name\":\"index\",\"scope\":\"2828802018653336131\",\"id\":\"3617184661110744201\",\"type\":\"observable\"},val)) : undefined; return this.valueFromJulia[\"index\"]=false}),self)]\n        \n    }\n    self.model = new AppViewModel();\n    self.valueFromJulia = {};\n    for (var key in json_data) {\n        self.valueFromJulia[key] = false;\n    }\n    ko.applyBindings(self.model, self.dom);\n}\n);\n    (WebIO.importBlock({\"data\":[{\"name\":\"knockout\",\"type\":\"js\",\"url\":\"/assetserver/727383f2a47bd31570b7da84eee7b022dd6d7c78-knockout.js\"},{\"name\":\"knockout_punches\",\"type\":\"js\",\"url\":\"/assetserver/382b41b3b1bd9f26f75861d360bad7f8beea211f-knockout_punches.js\"}],\"type\":\"async_block\"})).then((imports) => handler.apply(this, imports));\n}\n"
                ],
                "observables": {
                 "changes": {
                  "id": "14931214141451821779",
                  "sync": false,
                  "value": 0
                 },
                 "index": {
                  "id": "3617184661110744201",
                  "sync": true,
                  "value": 201
                 }
                },
                "systemjs_options": null
               },
               "nodeType": "Scope",
               "props": {},
               "type": "node"
              }
             ],
             "instanceArgs": {
              "namespace": "html",
              "tag": "div"
             },
             "nodeType": "DOM",
             "props": {
              "className": "field interact-widget"
             },
             "type": "node"
            },
            {
             "children": [
              {
               "children": [
                {
                 "children": [
                  {
                   "children": [
                    {
                     "children": [
                      "scale"
                     ],
                     "instanceArgs": {
                      "namespace": "html",
                      "tag": "label"
                     },
                     "nodeType": "DOM",
                     "props": {
                      "className": "interact ",
                      "style": {
                       "padding": "5px 10px 0px 10px"
                      }
                     },
                     "type": "node"
                    }
                   ],
                   "instanceArgs": {
                    "namespace": "html",
                    "tag": "div"
                   },
                   "nodeType": "DOM",
                   "props": {
                    "className": "interact-flex-row-left"
                   },
                   "type": "node"
                  },
                  {
                   "children": [
                    {
                     "children": [],
                     "instanceArgs": {
                      "namespace": "html",
                      "tag": "input"
                     },
                     "nodeType": "DOM",
                     "props": {
                      "attributes": {
                       "data-bind": "numericValue: index, valueUpdate: 'input', event: {change: function (){this.changes(this.changes()+1)}}",
                       "orient": "horizontal",
                       "type": "range"
                      },
                      "className": "slider slider is-fullwidth",
                      "max": 20,
                      "min": 1,
                      "step": 1,
                      "style": {}
                     },
                     "type": "node"
                    }
                   ],
                   "instanceArgs": {
                    "namespace": "html",
                    "tag": "div"
                   },
                   "nodeType": "DOM",
                   "props": {
                    "className": "interact-flex-row-center"
                   },
                   "type": "node"
                  },
                  {
                   "children": [
                    {
                     "children": [],
                     "instanceArgs": {
                      "namespace": "html",
                      "tag": "p"
                     },
                     "nodeType": "DOM",
                     "props": {
                      "attributes": {
                       "data-bind": "text: formatted_val"
                      }
                     },
                     "type": "node"
                    }
                   ],
                   "instanceArgs": {
                    "namespace": "html",
                    "tag": "div"
                   },
                   "nodeType": "DOM",
                   "props": {
                    "className": "interact-flex-row-right"
                   },
                   "type": "node"
                  }
                 ],
                 "instanceArgs": {
                  "namespace": "html",
                  "tag": "div"
                 },
                 "nodeType": "DOM",
                 "props": {
                  "className": "interact-flex-row interact-widget"
                 },
                 "type": "node"
                }
               ],
               "instanceArgs": {
                "handlers": {
                 "changes": [
                  "(function (val){return (val!=this.model[\"changes\"]()) ? (this.valueFromJulia[\"changes\"]=true, this.model[\"changes\"](val)) : undefined})"
                 ],
                 "index": [
                  "(function (val){return (val!=this.model[\"index\"]()) ? (this.valueFromJulia[\"index\"]=true, this.model[\"index\"](val)) : undefined})"
                 ]
                },
                "id": "16498735700453560803",
                "imports": {
                 "data": [
                  {
                   "name": "knockout",
                   "type": "js",
                   "url": "/assetserver/727383f2a47bd31570b7da84eee7b022dd6d7c78-knockout.js"
                  },
                  {
                   "name": "knockout_punches",
                   "type": "js",
                   "url": "/assetserver/382b41b3b1bd9f26f75861d360bad7f8beea211f-knockout_punches.js"
                  },
                  {
                   "name": null,
                   "type": "js",
                   "url": "/assetserver/5ab20f1060420992a9b82a65b735dee4d81ef413-all.js"
                  },
                  {
                   "name": null,
                   "type": "css",
                   "url": "/assetserver/1cc0ed62837210b80a182cc3676512f895dab686-style.css"
                  },
                  {
                   "name": null,
                   "type": "css",
                   "url": "/assetserver/2eee816f616df3549d7044d45e744fbf8d42bfa1-bulma_confined.min.css"
                  }
                 ],
                 "type": "async_block"
                },
                "mount_callbacks": [
                 "function () {\n    var handler = (function (ko, koPunches) {\n    ko.punches.enableAll();\n    ko.bindingHandlers.numericValue = {\n        init: function(element, valueAccessor, allBindings, data, context) {\n            var stringified = ko.observable(ko.unwrap(valueAccessor()));\n            stringified.subscribe(function(value) {\n                var val = parseFloat(value);\n                if (!isNaN(val)) {\n                    valueAccessor()(val);\n                }\n            });\n            valueAccessor().subscribe(function(value) {\n                var str = JSON.stringify(value);\n                if ((str == \"0\") && ([\"-0\", \"-0.\"].indexOf(stringified()) >= 0))\n                     return;\n                 if ([\"null\", \"\"].indexOf(str) >= 0)\n                     return;\n                stringified(str);\n            });\n            ko.applyBindingsToNode(\n                element,\n                {\n                    value: stringified,\n                    valueUpdate: allBindings.get('valueUpdate'),\n                },\n                context,\n            );\n        }\n    };\n    var json_data = {\"formatted_vals\":[\"0.1\",\"0.2\",\"0.3\",\"0.4\",\"0.5\",\"0.6\",\"0.7\",\"0.8\",\"0.9\",\"1.0\",\"1.1\",\"1.2\",\"1.3\",\"1.4\",\"1.5\",\"1.6\",\"1.7\",\"1.8\",\"1.9\",\"2.0\"],\"changes\":WebIO.getval({\"name\":\"changes\",\"scope\":\"16498735700453560803\",\"id\":\"15783053459124127704\",\"type\":\"observable\"}),\"index\":WebIO.getval({\"name\":\"index\",\"scope\":\"16498735700453560803\",\"id\":\"3483148988098115375\",\"type\":\"observable\"})};\n    var self = this;\n    function AppViewModel() {\n        for (var key in json_data) {\n            var el = json_data[key];\n            this[key] = Array.isArray(el) ? ko.observableArray(el) : ko.observable(el);\n        }\n        \n        [this[\"formatted_val\"]=ko.computed(    function(){\n        return this.formatted_vals()[parseInt(this.index())-(1)];\n    }\n,this)]\n        [this[\"changes\"].subscribe((function (val){!(this.valueFromJulia[\"changes\"]) ? (WebIO.setval({\"name\":\"changes\",\"scope\":\"16498735700453560803\",\"id\":\"15783053459124127704\",\"type\":\"observable\"},val)) : undefined; return this.valueFromJulia[\"changes\"]=false}),self),this[\"index\"].subscribe((function (val){!(this.valueFromJulia[\"index\"]) ? (WebIO.setval({\"name\":\"index\",\"scope\":\"16498735700453560803\",\"id\":\"3483148988098115375\",\"type\":\"observable\"},val)) : undefined; return this.valueFromJulia[\"index\"]=false}),self)]\n        \n    }\n    self.model = new AppViewModel();\n    self.valueFromJulia = {};\n    for (var key in json_data) {\n        self.valueFromJulia[key] = false;\n    }\n    ko.applyBindings(self.model, self.dom);\n}\n);\n    (WebIO.importBlock({\"data\":[{\"name\":\"knockout\",\"type\":\"js\",\"url\":\"/assetserver/727383f2a47bd31570b7da84eee7b022dd6d7c78-knockout.js\"},{\"name\":\"knockout_punches\",\"type\":\"js\",\"url\":\"/assetserver/382b41b3b1bd9f26f75861d360bad7f8beea211f-knockout_punches.js\"}],\"type\":\"async_block\"})).then((imports) => handler.apply(this, imports));\n}\n"
                ],
                "observables": {
                 "changes": {
                  "id": "15783053459124127704",
                  "sync": false,
                  "value": 0
                 },
                 "index": {
                  "id": "3483148988098115375",
                  "sync": true,
                  "value": 10
                 }
                },
                "systemjs_options": null
               },
               "nodeType": "Scope",
               "props": {},
               "type": "node"
              }
             ],
             "instanceArgs": {
              "namespace": "html",
              "tag": "div"
             },
             "nodeType": "DOM",
             "props": {
              "className": "field interact-widget"
             },
             "type": "node"
            },
            {
             "children": [
              {
               "children": [
                {
                 "children": [
                  {
                   "children": [],
                   "instanceArgs": {
                    "namespace": "html",
                    "tag": "div"
                   },
                   "nodeType": "DOM",
                   "props": {
                    "id": "container"
                   },
                   "type": "node"
                  }
                 ],
                 "instanceArgs": {
                  "handlers": {
                   "value": [
                    "(function (txt){return this.k.render(txt,this.container)})"
                   ]
                  },
                  "id": "7040905238505092397",
                  "imports": {
                   "data": [
                    {
                     "name": null,
                     "type": "js",
                     "url": "/assetserver/dd22ed1bf1896c2748f3fe616ce0b838adc895c1-katex.min.js"
                    },
                    {
                     "name": null,
                     "type": "css",
                     "url": "/assetserver/46517a424aa5e6cffc1360d7e0848b601c584ee3-katex.min.css"
                    }
                   ],
                   "type": "async_block"
                  },
                  "mount_callbacks": [
                   "function () {\n    var handler = ((function (k){this.k=k; this.container=this.dom.querySelector(\"#container\"); return k.render(\"\\\\;\\\\;\",this.container)}));\n    (WebIO.importBlock({\"data\":[{\"name\":null,\"type\":\"js\",\"url\":\"/assetserver/dd22ed1bf1896c2748f3fe616ce0b838adc895c1-katex.min.js\"},{\"name\":null,\"type\":\"css\",\"url\":\"/assetserver/46517a424aa5e6cffc1360d7e0848b601c584ee3-katex.min.css\"}],\"type\":\"async_block\"})).then((imports) => handler.apply(this, imports));\n}\n"
                  ],
                  "observables": {
                   "value": {
                    "id": "13580760025057972177",
                    "sync": false,
                    "value": "\\;\\;"
                   }
                  },
                  "systemjs_options": null
                 },
                 "nodeType": "Scope",
                 "props": {},
                 "type": "node"
                }
               ],
               "instanceArgs": {
                "namespace": "html",
                "tag": "div"
               },
               "nodeType": "DOM",
               "props": {
                "className": "interact-widget"
               },
               "type": "node"
              },
              {
               "children": [
                {
                 "children": [
                  {
                   "children": [
                    "run"
                   ],
                   "instanceArgs": {
                    "namespace": "html",
                    "tag": "button"
                   },
                   "nodeType": "DOM",
                   "props": {
                    "attributes": {
                     "data-bind": "click: function (){this.clicks(this.clicks()+1)}, css: {'is-loading' : loading}"
                    },
                    "className": "is-medium button is-primary",
                    "style": {}
                   },
                   "type": "node"
                  }
                 ],
                 "instanceArgs": {
                  "handlers": {
                   "clicks": [
                    "(function (val){return (val!=this.model[\"clicks\"]()) ? (this.valueFromJulia[\"clicks\"]=true, this.model[\"clicks\"](val)) : undefined})"
                   ],
                   "loading": [
                    "(function (val){return (val!=this.model[\"loading\"]()) ? (this.valueFromJulia[\"loading\"]=true, this.model[\"loading\"](val)) : undefined})"
                   ]
                  },
                  "id": "2028339394068314505",
                  "imports": {
                   "data": [
                    {
                     "name": "knockout",
                     "type": "js",
                     "url": "/assetserver/727383f2a47bd31570b7da84eee7b022dd6d7c78-knockout.js"
                    },
                    {
                     "name": "knockout_punches",
                     "type": "js",
                     "url": "/assetserver/382b41b3b1bd9f26f75861d360bad7f8beea211f-knockout_punches.js"
                    },
                    {
                     "name": null,
                     "type": "js",
                     "url": "/assetserver/5ab20f1060420992a9b82a65b735dee4d81ef413-all.js"
                    },
                    {
                     "name": null,
                     "type": "css",
                     "url": "/assetserver/1cc0ed62837210b80a182cc3676512f895dab686-style.css"
                    },
                    {
                     "name": null,
                     "type": "css",
                     "url": "/assetserver/2eee816f616df3549d7044d45e744fbf8d42bfa1-bulma_confined.min.css"
                    }
                   ],
                   "type": "async_block"
                  },
                  "mount_callbacks": [
                   "function () {\n    var handler = (function (ko, koPunches) {\n    ko.punches.enableAll();\n    ko.bindingHandlers.numericValue = {\n        init: function(element, valueAccessor, allBindings, data, context) {\n            var stringified = ko.observable(ko.unwrap(valueAccessor()));\n            stringified.subscribe(function(value) {\n                var val = parseFloat(value);\n                if (!isNaN(val)) {\n                    valueAccessor()(val);\n                }\n            });\n            valueAccessor().subscribe(function(value) {\n                var str = JSON.stringify(value);\n                if ((str == \"0\") && ([\"-0\", \"-0.\"].indexOf(stringified()) >= 0))\n                     return;\n                 if ([\"null\", \"\"].indexOf(str) >= 0)\n                     return;\n                stringified(str);\n            });\n            ko.applyBindingsToNode(\n                element,\n                {\n                    value: stringified,\n                    valueUpdate: allBindings.get('valueUpdate'),\n                },\n                context,\n            );\n        }\n    };\n    var json_data = {\"loading\":WebIO.getval({\"name\":\"loading\",\"scope\":\"2028339394068314505\",\"id\":\"3220907456855557412\",\"type\":\"observable\"}),\"clicks\":WebIO.getval({\"name\":\"clicks\",\"scope\":\"2028339394068314505\",\"id\":\"16464033542064102078\",\"type\":\"observable\"})};\n    var self = this;\n    function AppViewModel() {\n        for (var key in json_data) {\n            var el = json_data[key];\n            this[key] = Array.isArray(el) ? ko.observableArray(el) : ko.observable(el);\n        }\n        \n        \n        [this[\"loading\"].subscribe((function (val){!(this.valueFromJulia[\"loading\"]) ? (WebIO.setval({\"name\":\"loading\",\"scope\":\"2028339394068314505\",\"id\":\"3220907456855557412\",\"type\":\"observable\"},val)) : undefined; return this.valueFromJulia[\"loading\"]=false}),self),this[\"clicks\"].subscribe((function (val){!(this.valueFromJulia[\"clicks\"]) ? (WebIO.setval({\"name\":\"clicks\",\"scope\":\"2028339394068314505\",\"id\":\"16464033542064102078\",\"type\":\"observable\"},val)) : undefined; return this.valueFromJulia[\"clicks\"]=false}),self)]\n        \n    }\n    self.model = new AppViewModel();\n    self.valueFromJulia = {};\n    for (var key in json_data) {\n        self.valueFromJulia[key] = false;\n    }\n    ko.applyBindings(self.model, self.dom);\n}\n);\n    (WebIO.importBlock({\"data\":[{\"name\":\"knockout\",\"type\":\"js\",\"url\":\"/assetserver/727383f2a47bd31570b7da84eee7b022dd6d7c78-knockout.js\"},{\"name\":\"knockout_punches\",\"type\":\"js\",\"url\":\"/assetserver/382b41b3b1bd9f26f75861d360bad7f8beea211f-knockout_punches.js\"}],\"type\":\"async_block\"})).then((imports) => handler.apply(this, imports));\n}\n"
                  ],
                  "observables": {
                   "clicks": {
                    "id": "16464033542064102078",
                    "sync": true,
                    "value": 0
                   },
                   "loading": {
                    "id": "3220907456855557412",
                    "sync": false,
                    "value": false
                   }
                  },
                  "systemjs_options": null
                 },
                 "nodeType": "Scope",
                 "props": {},
                 "type": "node"
                }
               ],
               "instanceArgs": {
                "namespace": "html",
                "tag": "div"
               },
               "nodeType": "DOM",
               "props": {
                "className": "field interact-widget"
               },
               "type": "node"
              },
              {
               "children": [
                {
                 "children": [
                  {
                   "children": [],
                   "instanceArgs": {
                    "namespace": "html",
                    "tag": "div"
                   },
                   "nodeType": "DOM",
                   "props": {
                    "id": "container"
                   },
                   "type": "node"
                  }
                 ],
                 "instanceArgs": {
                  "handlers": {
                   "value": [
                    "(function (txt){return this.k.render(txt,this.container)})"
                   ]
                  },
                  "id": "7040905238505092397",
                  "imports": {
                   "data": [
                    {
                     "name": null,
                     "type": "js",
                     "url": "/assetserver/dd22ed1bf1896c2748f3fe616ce0b838adc895c1-katex.min.js"
                    },
                    {
                     "name": null,
                     "type": "css",
                     "url": "/assetserver/46517a424aa5e6cffc1360d7e0848b601c584ee3-katex.min.css"
                    }
                   ],
                   "type": "async_block"
                  },
                  "mount_callbacks": [
                   "function () {\n    var handler = ((function (k){this.k=k; this.container=this.dom.querySelector(\"#container\"); return k.render(\"\\\\;\\\\;\",this.container)}));\n    (WebIO.importBlock({\"data\":[{\"name\":null,\"type\":\"js\",\"url\":\"/assetserver/dd22ed1bf1896c2748f3fe616ce0b838adc895c1-katex.min.js\"},{\"name\":null,\"type\":\"css\",\"url\":\"/assetserver/46517a424aa5e6cffc1360d7e0848b601c584ee3-katex.min.css\"}],\"type\":\"async_block\"})).then((imports) => handler.apply(this, imports));\n}\n"
                  ],
                  "observables": {
                   "value": {
                    "id": "13580760025057972177",
                    "sync": false,
                    "value": "\\;\\;"
                   }
                  },
                  "systemjs_options": null
                 },
                 "nodeType": "Scope",
                 "props": {},
                 "type": "node"
                }
               ],
               "instanceArgs": {
                "namespace": "html",
                "tag": "div"
               },
               "nodeType": "DOM",
               "props": {
                "className": "interact-widget"
               },
               "type": "node"
              },
              {
               "children": [
                {
                 "children": [
                  {
                   "children": [
                    "stop"
                   ],
                   "instanceArgs": {
                    "namespace": "html",
                    "tag": "button"
                   },
                   "nodeType": "DOM",
                   "props": {
                    "attributes": {
                     "data-bind": "click: function (){this.clicks(this.clicks()+1)}, css: {'is-loading' : loading}"
                    },
                    "className": "is-medium button is-primary",
                    "style": {}
                   },
                   "type": "node"
                  }
                 ],
                 "instanceArgs": {
                  "handlers": {
                   "clicks": [
                    "(function (val){return (val!=this.model[\"clicks\"]()) ? (this.valueFromJulia[\"clicks\"]=true, this.model[\"clicks\"](val)) : undefined})"
                   ],
                   "loading": [
                    "(function (val){return (val!=this.model[\"loading\"]()) ? (this.valueFromJulia[\"loading\"]=true, this.model[\"loading\"](val)) : undefined})"
                   ]
                  },
                  "id": "16690436472563897096",
                  "imports": {
                   "data": [
                    {
                     "name": "knockout",
                     "type": "js",
                     "url": "/assetserver/727383f2a47bd31570b7da84eee7b022dd6d7c78-knockout.js"
                    },
                    {
                     "name": "knockout_punches",
                     "type": "js",
                     "url": "/assetserver/382b41b3b1bd9f26f75861d360bad7f8beea211f-knockout_punches.js"
                    },
                    {
                     "name": null,
                     "type": "js",
                     "url": "/assetserver/5ab20f1060420992a9b82a65b735dee4d81ef413-all.js"
                    },
                    {
                     "name": null,
                     "type": "css",
                     "url": "/assetserver/1cc0ed62837210b80a182cc3676512f895dab686-style.css"
                    },
                    {
                     "name": null,
                     "type": "css",
                     "url": "/assetserver/2eee816f616df3549d7044d45e744fbf8d42bfa1-bulma_confined.min.css"
                    }
                   ],
                   "type": "async_block"
                  },
                  "mount_callbacks": [
                   "function () {\n    var handler = (function (ko, koPunches) {\n    ko.punches.enableAll();\n    ko.bindingHandlers.numericValue = {\n        init: function(element, valueAccessor, allBindings, data, context) {\n            var stringified = ko.observable(ko.unwrap(valueAccessor()));\n            stringified.subscribe(function(value) {\n                var val = parseFloat(value);\n                if (!isNaN(val)) {\n                    valueAccessor()(val);\n                }\n            });\n            valueAccessor().subscribe(function(value) {\n                var str = JSON.stringify(value);\n                if ((str == \"0\") && ([\"-0\", \"-0.\"].indexOf(stringified()) >= 0))\n                     return;\n                 if ([\"null\", \"\"].indexOf(str) >= 0)\n                     return;\n                stringified(str);\n            });\n            ko.applyBindingsToNode(\n                element,\n                {\n                    value: stringified,\n                    valueUpdate: allBindings.get('valueUpdate'),\n                },\n                context,\n            );\n        }\n    };\n    var json_data = {\"loading\":WebIO.getval({\"name\":\"loading\",\"scope\":\"16690436472563897096\",\"id\":\"3747319973401009926\",\"type\":\"observable\"}),\"clicks\":WebIO.getval({\"name\":\"clicks\",\"scope\":\"16690436472563897096\",\"id\":\"12279917443100525080\",\"type\":\"observable\"})};\n    var self = this;\n    function AppViewModel() {\n        for (var key in json_data) {\n            var el = json_data[key];\n            this[key] = Array.isArray(el) ? ko.observableArray(el) : ko.observable(el);\n        }\n        \n        \n        [this[\"loading\"].subscribe((function (val){!(this.valueFromJulia[\"loading\"]) ? (WebIO.setval({\"name\":\"loading\",\"scope\":\"16690436472563897096\",\"id\":\"3747319973401009926\",\"type\":\"observable\"},val)) : undefined; return this.valueFromJulia[\"loading\"]=false}),self),this[\"clicks\"].subscribe((function (val){!(this.valueFromJulia[\"clicks\"]) ? (WebIO.setval({\"name\":\"clicks\",\"scope\":\"16690436472563897096\",\"id\":\"12279917443100525080\",\"type\":\"observable\"},val)) : undefined; return this.valueFromJulia[\"clicks\"]=false}),self)]\n        \n    }\n    self.model = new AppViewModel();\n    self.valueFromJulia = {};\n    for (var key in json_data) {\n        self.valueFromJulia[key] = false;\n    }\n    ko.applyBindings(self.model, self.dom);\n}\n);\n    (WebIO.importBlock({\"data\":[{\"name\":\"knockout\",\"type\":\"js\",\"url\":\"/assetserver/727383f2a47bd31570b7da84eee7b022dd6d7c78-knockout.js\"},{\"name\":\"knockout_punches\",\"type\":\"js\",\"url\":\"/assetserver/382b41b3b1bd9f26f75861d360bad7f8beea211f-knockout_punches.js\"}],\"type\":\"async_block\"})).then((imports) => handler.apply(this, imports));\n}\n"
                  ],
                  "observables": {
                   "clicks": {
                    "id": "12279917443100525080",
                    "sync": true,
                    "value": 0
                   },
                   "loading": {
                    "id": "3747319973401009926",
                    "sync": false,
                    "value": false
                   }
                  },
                  "systemjs_options": null
                 },
                 "nodeType": "Scope",
                 "props": {},
                 "type": "node"
                }
               ],
               "instanceArgs": {
                "namespace": "html",
                "tag": "div"
               },
               "nodeType": "DOM",
               "props": {
                "className": "field interact-widget"
               },
               "type": "node"
              },
              {
               "children": [
                {
                 "children": [
                  {
                   "children": [],
                   "instanceArgs": {
                    "namespace": "html",
                    "tag": "div"
                   },
                   "nodeType": "DOM",
                   "props": {
                    "id": "container"
                   },
                   "type": "node"
                  }
                 ],
                 "instanceArgs": {
                  "handlers": {
                   "value": [
                    "(function (txt){return this.k.render(txt,this.container)})"
                   ]
                  },
                  "id": "7040905238505092397",
                  "imports": {
                   "data": [
                    {
                     "name": null,
                     "type": "js",
                     "url": "/assetserver/dd22ed1bf1896c2748f3fe616ce0b838adc895c1-katex.min.js"
                    },
                    {
                     "name": null,
                     "type": "css",
                     "url": "/assetserver/46517a424aa5e6cffc1360d7e0848b601c584ee3-katex.min.css"
                    }
                   ],
                   "type": "async_block"
                  },
                  "mount_callbacks": [
                   "function () {\n    var handler = ((function (k){this.k=k; this.container=this.dom.querySelector(\"#container\"); return k.render(\"\\\\;\\\\;\",this.container)}));\n    (WebIO.importBlock({\"data\":[{\"name\":null,\"type\":\"js\",\"url\":\"/assetserver/dd22ed1bf1896c2748f3fe616ce0b838adc895c1-katex.min.js\"},{\"name\":null,\"type\":\"css\",\"url\":\"/assetserver/46517a424aa5e6cffc1360d7e0848b601c584ee3-katex.min.css\"}],\"type\":\"async_block\"})).then((imports) => handler.apply(this, imports));\n}\n"
                  ],
                  "observables": {
                   "value": {
                    "id": "13580760025057972177",
                    "sync": false,
                    "value": "\\;\\;"
                   }
                  },
                  "systemjs_options": null
                 },
                 "nodeType": "Scope",
                 "props": {},
                 "type": "node"
                }
               ],
               "instanceArgs": {
                "namespace": "html",
                "tag": "div"
               },
               "nodeType": "DOM",
               "props": {
                "className": "interact-widget"
               },
               "type": "node"
              },
              {
               "children": [
                {
                 "children": [
                  {
                   "children": [
                    "save"
                   ],
                   "instanceArgs": {
                    "namespace": "html",
                    "tag": "button"
                   },
                   "nodeType": "DOM",
                   "props": {
                    "attributes": {
                     "data-bind": "click: function (){this.clicks(this.clicks()+1)}, css: {'is-loading' : loading}"
                    },
                    "className": "is-medium button is-primary",
                    "style": {}
                   },
                   "type": "node"
                  }
                 ],
                 "instanceArgs": {
                  "handlers": {
                   "clicks": [
                    "(function (val){return (val!=this.model[\"clicks\"]()) ? (this.valueFromJulia[\"clicks\"]=true, this.model[\"clicks\"](val)) : undefined})"
                   ],
                   "loading": [
                    "(function (val){return (val!=this.model[\"loading\"]()) ? (this.valueFromJulia[\"loading\"]=true, this.model[\"loading\"](val)) : undefined})"
                   ]
                  },
                  "id": "13479127191643957767",
                  "imports": {
                   "data": [
                    {
                     "name": "knockout",
                     "type": "js",
                     "url": "/assetserver/727383f2a47bd31570b7da84eee7b022dd6d7c78-knockout.js"
                    },
                    {
                     "name": "knockout_punches",
                     "type": "js",
                     "url": "/assetserver/382b41b3b1bd9f26f75861d360bad7f8beea211f-knockout_punches.js"
                    },
                    {
                     "name": null,
                     "type": "js",
                     "url": "/assetserver/5ab20f1060420992a9b82a65b735dee4d81ef413-all.js"
                    },
                    {
                     "name": null,
                     "type": "css",
                     "url": "/assetserver/1cc0ed62837210b80a182cc3676512f895dab686-style.css"
                    },
                    {
                     "name": null,
                     "type": "css",
                     "url": "/assetserver/2eee816f616df3549d7044d45e744fbf8d42bfa1-bulma_confined.min.css"
                    }
                   ],
                   "type": "async_block"
                  },
                  "mount_callbacks": [
                   "function () {\n    var handler = (function (ko, koPunches) {\n    ko.punches.enableAll();\n    ko.bindingHandlers.numericValue = {\n        init: function(element, valueAccessor, allBindings, data, context) {\n            var stringified = ko.observable(ko.unwrap(valueAccessor()));\n            stringified.subscribe(function(value) {\n                var val = parseFloat(value);\n                if (!isNaN(val)) {\n                    valueAccessor()(val);\n                }\n            });\n            valueAccessor().subscribe(function(value) {\n                var str = JSON.stringify(value);\n                if ((str == \"0\") && ([\"-0\", \"-0.\"].indexOf(stringified()) >= 0))\n                     return;\n                 if ([\"null\", \"\"].indexOf(str) >= 0)\n                     return;\n                stringified(str);\n            });\n            ko.applyBindingsToNode(\n                element,\n                {\n                    value: stringified,\n                    valueUpdate: allBindings.get('valueUpdate'),\n                },\n                context,\n            );\n        }\n    };\n    var json_data = {\"loading\":WebIO.getval({\"name\":\"loading\",\"scope\":\"13479127191643957767\",\"id\":\"77133704155849784\",\"type\":\"observable\"}),\"clicks\":WebIO.getval({\"name\":\"clicks\",\"scope\":\"13479127191643957767\",\"id\":\"7921891723010386886\",\"type\":\"observable\"})};\n    var self = this;\n    function AppViewModel() {\n        for (var key in json_data) {\n            var el = json_data[key];\n            this[key] = Array.isArray(el) ? ko.observableArray(el) : ko.observable(el);\n        }\n        \n        \n        [this[\"loading\"].subscribe((function (val){!(this.valueFromJulia[\"loading\"]) ? (WebIO.setval({\"name\":\"loading\",\"scope\":\"13479127191643957767\",\"id\":\"77133704155849784\",\"type\":\"observable\"},val)) : undefined; return this.valueFromJulia[\"loading\"]=false}),self),this[\"clicks\"].subscribe((function (val){!(this.valueFromJulia[\"clicks\"]) ? (WebIO.setval({\"name\":\"clicks\",\"scope\":\"13479127191643957767\",\"id\":\"7921891723010386886\",\"type\":\"observable\"},val)) : undefined; return this.valueFromJulia[\"clicks\"]=false}),self)]\n        \n    }\n    self.model = new AppViewModel();\n    self.valueFromJulia = {};\n    for (var key in json_data) {\n        self.valueFromJulia[key] = false;\n    }\n    ko.applyBindings(self.model, self.dom);\n}\n);\n    (WebIO.importBlock({\"data\":[{\"name\":\"knockout\",\"type\":\"js\",\"url\":\"/assetserver/727383f2a47bd31570b7da84eee7b022dd6d7c78-knockout.js\"},{\"name\":\"knockout_punches\",\"type\":\"js\",\"url\":\"/assetserver/382b41b3b1bd9f26f75861d360bad7f8beea211f-knockout_punches.js\"}],\"type\":\"async_block\"})).then((imports) => handler.apply(this, imports));\n}\n"
                  ],
                  "observables": {
                   "clicks": {
                    "id": "7921891723010386886",
                    "sync": true,
                    "value": 0
                   },
                   "loading": {
                    "id": "77133704155849784",
                    "sync": false,
                    "value": false
                   }
                  },
                  "systemjs_options": null
                 },
                 "nodeType": "Scope",
                 "props": {},
                 "type": "node"
                }
               ],
               "instanceArgs": {
                "namespace": "html",
                "tag": "div"
               },
               "nodeType": "DOM",
               "props": {
                "className": "field interact-widget"
               },
               "type": "node"
              }
             ],
             "instanceArgs": {
              "namespace": "html",
              "tag": "div"
             },
             "nodeType": "DOM",
             "props": {
              "style": {
               "display": "flex",
               "flex-direction": "row"
              }
             },
             "type": "node"
            }
           ],
           "instanceArgs": {
            "namespace": "html",
            "tag": "div"
           },
           "nodeType": "DOM",
           "props": {
            "style": {
             "display": "flex",
             "flex-direction": "column"
            }
           },
           "type": "node"
          },
          {
           "children": [
            {
             "children": [
              {
               "children": [],
               "instanceArgs": {
                "namespace": "html",
                "tag": "div"
               },
               "nodeType": "DOM",
               "props": {
                "id": "container"
               },
               "type": "node"
              }
             ],
             "instanceArgs": {
              "handlers": {
               "value": [
                "(function (txt){return this.k.render(txt,this.container)})"
               ]
              },
              "id": "7040905238505092397",
              "imports": {
               "data": [
                {
                 "name": null,
                 "type": "js",
                 "url": "/assetserver/dd22ed1bf1896c2748f3fe616ce0b838adc895c1-katex.min.js"
                },
                {
                 "name": null,
                 "type": "css",
                 "url": "/assetserver/46517a424aa5e6cffc1360d7e0848b601c584ee3-katex.min.css"
                }
               ],
               "type": "async_block"
              },
              "mount_callbacks": [
               "function () {\n    var handler = ((function (k){this.k=k; this.container=this.dom.querySelector(\"#container\"); return k.render(\"\\\\;\\\\;\",this.container)}));\n    (WebIO.importBlock({\"data\":[{\"name\":null,\"type\":\"js\",\"url\":\"/assetserver/dd22ed1bf1896c2748f3fe616ce0b838adc895c1-katex.min.js\"},{\"name\":null,\"type\":\"css\",\"url\":\"/assetserver/46517a424aa5e6cffc1360d7e0848b601c584ee3-katex.min.css\"}],\"type\":\"async_block\"})).then((imports) => handler.apply(this, imports));\n}\n"
              ],
              "observables": {
               "value": {
                "id": "13580760025057972177",
                "sync": false,
                "value": "\\;\\;"
               }
              },
              "systemjs_options": null
             },
             "nodeType": "Scope",
             "props": {},
             "type": "node"
            }
           ],
           "instanceArgs": {
            "namespace": "html",
            "tag": "div"
           },
           "nodeType": "DOM",
           "props": {
            "className": "interact-widget"
           },
           "type": "node"
          },
          {
           "children": [
            {
             "children": [],
             "instanceArgs": {
              "namespace": "html",
              "tag": "div"
             },
             "nodeType": "DOM",
             "props": {
              "className": "webio-observable",
              "setInnerHtml": "<img src='data:image/png;base64,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'></img>"
             },
             "type": "node"
            }
           ],
           "instanceArgs": {
            "handlers": {
             "obs-output": [
              "function (value, scope) {\n    scope.setInnerHTML(value);\n}\n"
             ]
            },
            "id": "9443046666809148549",
            "imports": {
             "data": [],
             "type": "async_block"
            },
            "mount_callbacks": [],
            "observables": {
             "obs-output": {
              "id": "7040570605253710142",
              "sync": false,
              "value": "<img src='data:image/png;base64,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'></img>"
             }
            },
            "systemjs_options": null
           },
           "nodeType": "Scope",
           "props": {},
           "type": "node"
          },
          {
           "children": [
            {
             "children": [
              {
               "children": [],
               "instanceArgs": {
                "namespace": "html",
                "tag": "div"
               },
               "nodeType": "DOM",
               "props": {
                "id": "container"
               },
               "type": "node"
              }
             ],
             "instanceArgs": {
              "handlers": {
               "value": [
                "(function (txt){return this.k.render(txt,this.container)})"
               ]
              },
              "id": "7040905238505092397",
              "imports": {
               "data": [
                {
                 "name": null,
                 "type": "js",
                 "url": "/assetserver/dd22ed1bf1896c2748f3fe616ce0b838adc895c1-katex.min.js"
                },
                {
                 "name": null,
                 "type": "css",
                 "url": "/assetserver/46517a424aa5e6cffc1360d7e0848b601c584ee3-katex.min.css"
                }
               ],
               "type": "async_block"
              },
              "mount_callbacks": [
               "function () {\n    var handler = ((function (k){this.k=k; this.container=this.dom.querySelector(\"#container\"); return k.render(\"\\\\;\\\\;\",this.container)}));\n    (WebIO.importBlock({\"data\":[{\"name\":null,\"type\":\"js\",\"url\":\"/assetserver/dd22ed1bf1896c2748f3fe616ce0b838adc895c1-katex.min.js\"},{\"name\":null,\"type\":\"css\",\"url\":\"/assetserver/46517a424aa5e6cffc1360d7e0848b601c584ee3-katex.min.css\"}],\"type\":\"async_block\"})).then((imports) => handler.apply(this, imports));\n}\n"
              ],
              "observables": {
               "value": {
                "id": "13580760025057972177",
                "sync": false,
                "value": "\\;\\;"
               }
              },
              "systemjs_options": null
             },
             "nodeType": "Scope",
             "props": {},
             "type": "node"
            }
           ],
           "instanceArgs": {
            "namespace": "html",
            "tag": "div"
           },
           "nodeType": "DOM",
           "props": {
            "className": "interact-widget"
           },
           "type": "node"
          },
          {
           "children": [],
           "instanceArgs": {
            "namespace": "html",
            "tag": "div"
           },
           "nodeType": "DOM",
           "props": {
            "style": {
             "display": "flex",
             "flex-direction": "column"
            }
           },
           "type": "node"
          }
         ],
         "instanceArgs": {
          "namespace": "html",
          "tag": "div"
         },
         "nodeType": "DOM",
         "props": {
          "style": {
           "display": "flex",
           "flex-direction": "row"
          }
         },
         "type": "node"
        }
       ],
       "instanceArgs": {
        "namespace": "html",
        "tag": "div"
       },
       "nodeType": "DOM",
       "props": {
        "style": {
         "display": "flex",
         "flex-direction": "column"
        }
       },
       "type": "node"
      },
      "text/html": [
       "<div\n",
       "    class=\"webio-mountpoint\"\n",
       "    data-webio-mountpoint=\"16573078307388142158\"\n",
       ">\n",
       "    <script>\n",
       "    (function(){\n",
       "    // Some integrations (namely, IJulia/Jupyter) use an alternate render pathway than\n",
       "    // just putting the html on the page. If WebIO isn't defined, then it's pretty likely\n",
       "    // that we're in one of those situations and the integration just isn't installed\n",
       "    // correctly.\n",
       "    if (typeof window.WebIO === \"undefined\") {\n",
       "        document\n",
       "            .querySelector('[data-webio-mountpoint=\"16573078307388142158\"]')\n",
       "            .innerHTML = (\n",
       "                '<div style=\"padding: 1em; background-color: #f8d6da; border: 1px solid #f5c6cb; font-weight: bold;\">' +\n",
       "                '<p><strong>WebIO not detected.</strong></p>' +\n",
       "                '<p>Please read ' +\n",
       "                '<a href=\"https://juliagizmos.github.io/WebIO.jl/latest/troubleshooting/not-detected/\" target=\"_blank\">the troubleshooting guide</a> ' +\n",
       "                'for more information on how to resolve this issue.</p>' +\n",
       "                '<p><a href=\"https://juliagizmos.github.io/WebIO.jl/latest/troubleshooting/not-detected/\" target=\"_blank\">https://juliagizmos.github.io/WebIO.jl/latest/troubleshooting/not-detected/</a></p>' +\n",
       "                '</div>'\n",
       "            );\n",
       "        return;\n",
       "    }\n",
       "    WebIO.mount(\n",
       "        document.querySelector('[data-webio-mountpoint=\"16573078307388142158\"]'),\n",
       "        {\"props\":{\"style\":{\"display\":\"flex\",\"flex-direction\":\"column\"}},\"nodeType\":\"DOM\",\"type\":\"node\",\"instanceArgs\":{\"namespace\":\"html\",\"tag\":\"div\"},\"children\":[{\"props\":{\"style\":{\"display\":\"flex\",\"flex-direction\":\"row\"}},\"nodeType\":\"DOM\",\"type\":\"node\",\"instanceArgs\":{\"namespace\":\"html\",\"tag\":\"div\"},\"children\":[{\"props\":{\"style\":{\"display\":\"flex\",\"flex-direction\":\"column\"}},\"nodeType\":\"DOM\",\"type\":\"node\",\"instanceArgs\":{\"namespace\":\"html\",\"tag\":\"div\"},\"children\":[{\"props\":{\"className\":\"field interact-widget\"},\"nodeType\":\"DOM\",\"type\":\"node\",\"instanceArgs\":{\"namespace\":\"html\",\"tag\":\"div\"},\"children\":[{\"props\":{},\"nodeType\":\"Scope\",\"type\":\"node\",\"instanceArgs\":{\"imports\":{\"data\":[{\"name\":\"knockout\",\"type\":\"js\",\"url\":\"\\/assetserver\\/727383f2a47bd31570b7da84eee7b022dd6d7c78-knockout.js\"},{\"name\":\"knockout_punches\",\"type\":\"js\",\"url\":\"\\/assetserver\\/382b41b3b1bd9f26f75861d360bad7f8beea211f-knockout_punches.js\"},{\"name\":null,\"type\":\"js\",\"url\":\"\\/assetserver\\/5ab20f1060420992a9b82a65b735dee4d81ef413-all.js\"},{\"name\":null,\"type\":\"css\",\"url\":\"\\/assetserver\\/1cc0ed62837210b80a182cc3676512f895dab686-style.css\"},{\"name\":null,\"type\":\"css\",\"url\":\"\\/assetserver\\/2eee816f616df3549d7044d45e744fbf8d42bfa1-bulma_confined.min.css\"}],\"type\":\"async_block\"},\"id\":\"2828802018653336131\",\"handlers\":{\"changes\":[\"(function (val){return (val!=this.model[\\\"changes\\\"]()) ? (this.valueFromJulia[\\\"changes\\\"]=true, this.model[\\\"changes\\\"](val)) : undefined})\"],\"index\":[\"(function (val){return (val!=this.model[\\\"index\\\"]()) ? (this.valueFromJulia[\\\"index\\\"]=true, this.model[\\\"index\\\"](val)) : undefined})\"]},\"systemjs_options\":null,\"mount_callbacks\":[\"function () {\\n    var handler = (function (ko, koPunches) {\\n    ko.punches.enableAll();\\n    ko.bindingHandlers.numericValue = {\\n        init: function(element, valueAccessor, allBindings, data, context) {\\n            var stringified = ko.observable(ko.unwrap(valueAccessor()));\\n            stringified.subscribe(function(value) {\\n                var val = parseFloat(value);\\n                if (!isNaN(val)) {\\n                    valueAccessor()(val);\\n                }\\n            });\\n            valueAccessor().subscribe(function(value) {\\n                var str = JSON.stringify(value);\\n                if ((str == \\\"0\\\") && ([\\\"-0\\\", \\\"-0.\\\"].indexOf(stringified()) >= 0))\\n                     return;\\n                 if ([\\\"null\\\", \\\"\\\"].indexOf(str) >= 0)\\n                     return;\\n                stringified(str);\\n            });\\n            ko.applyBindingsToNode(\\n                element,\\n                {\\n                    value: stringified,\\n                    valueUpdate: allBindings.get('valueUpdate'),\\n                },\\n                context,\\n            );\\n        }\\n    };\\n    var json_data = {\\\"formatted_vals\\\":[\\\"1\\\",\\\"2\\\",\\\"3\\\",\\\"4\\\",\\\"5\\\",\\\"6\\\",\\\"7\\\",\\\"8\\\",\\\"9\\\",\\\"10\\\",\\\"11\\\",\\\"12\\\",\\\"13\\\",\\\"14\\\",\\\"15\\\",\\\"16\\\",\\\"17\\\",\\\"18\\\",\\\"19\\\",\\\"20\\\",\\\"21\\\",\\\"22\\\",\\\"23\\\",\\\"24\\\",\\\"25\\\",\\\"26\\\",\\\"27\\\",\\\"28\\\",\\\"29\\\",\\\"30\\\",\\\"31\\\",\\\"32\\\",\\\"33\\\",\\\"34\\\",\\\"35\\\",\\\"36\\\",\\\"37\\\",\\\"38\\\",\\\"39\\\",\\\"40\\\",\\\"41\\\",\\\"42\\\",\\\"43\\\",\\\"44\\\",\\\"45\\\",\\\"46\\\",\\\"47\\\",\\\"48\\\",\\\"49\\\",\\\"50\\\",\\\"51\\\",\\\"52\\\",\\\"53\\\",\\\"54\\\",\\\"55\\\",\\\"56\\\",\\\"57\\\",\\\"58\\\",\\\"59\\\",\\\"60\\\",\\\"61\\\",\\\"62\\\",\\\"63\\\",\\\"64\\\",\\\"65\\\",\\\"66\\\",\\\"67\\\",\\\"68\\\",\\\"69\\\",\\\"70\\\",\\\"71\\\",\\\"72\\\",\\\"73\\\",\\\"74\\\",\\\"75\\\",\\\"76\\\",\\\"77\\\",\\\"78\\\",\\\"79\\\",\\\"80\\\",\\\"81\\\",\\\"82\\\",\\\"83\\\",\\\"84\\\",\\\"85\\\",\\\"86\\\",\\\"87\\\",\\\"88\\\",\\\"89\\\",\\\"90\\\",\\\"91\\\",\\\"92\\\",\\\"93\\\",\\\"94\\\",\\\"95\\\",\\\"96\\\",\\\"97\\\",\\\"98\\\",\\\"99\\\",\\\"100\\\",\\\"101\\\",\\\"102\\\",\\\"103\\\",\\\"104\\\",\\\"105\\\",\\\"106\\\",\\\"107\\\",\\\"108\\\",\\\"109\\\",\\\"110\\\",\\\"111\\\",\\\"112\\\",\\\"113\\\",\\\"114\\\",\\\"115\\\",\\\"116\\\",\\\"117\\\",\\\"118\\\",\\\"119\\\",\\\"120\\\",\\\"121\\\",\\\"122\\\",\\\"123\\\",\\\"124\\\",\\\"125\\\",\\\"126\\\",\\\"127\\\",\\\"128\\\",\\\"129\\\",\\\"130\\\",\\\"131\\\",\\\"132\\\",\\\"133\\\",\\\"134\\\",\\\"135\\\",\\\"136\\\",\\\"137\\\",\\\"138\\\",\\\"139\\\",\\\"140\\\",\\\"141\\\",\\\"142\\\",\\\"143\\\",\\\"144\\\",\\\"145\\\",\\\"146\\\",\\\"147\\\",\\\"148\\\",\\\"149\\\",\\\"150\\\",\\\"151\\\",\\\"152\\\",\\\"153\\\",\\\"154\\\",\\\"155\\\",\\\"156\\\",\\\"157\\\",\\\"158\\\",\\\"159\\\",\\\"160\\\",\\\"161\\\",\\\"162\\\",\\\"163\\\",\\\"164\\\",\\\"165\\\",\\\"166\\\",\\\"167\\\",\\\"168\\\",\\\"169\\\",\\\"170\\\",\\\"171\\\",\\\"172\\\",\\\"173\\\",\\\"174\\\",\\\"175\\\",\\\"176\\\",\\\"177\\\",\\\"178\\\",\\\"179\\\",\\\"180\\\",\\\"181\\\",\\\"182\\\",\\\"183\\\",\\\"184\\\",\\\"185\\\",\\\"186\\\",\\\"187\\\",\\\"188\\\",\\\"189\\\",\\\"190\\\",\\\"191\\\",\\\"192\\\",\\\"193\\\",\\\"194\\\",\\\"195\\\",\\\"196\\\",\\\"197\\\",\\\"198\\\",\\\"199\\\",\\\"200\\\",\\\"201\\\",\\\"202\\\",\\\"203\\\",\\\"204\\\",\\\"205\\\",\\\"206\\\",\\\"207\\\",\\\"208\\\",\\\"209\\\",\\\"210\\\",\\\"211\\\",\\\"212\\\",\\\"213\\\",\\\"214\\\",\\\"215\\\",\\\"216\\\",\\\"217\\\",\\\"218\\\",\\\"219\\\",\\\"220\\\",\\\"221\\\",\\\"222\\\",\\\"223\\\",\\\"224\\\",\\\"225\\\",\\\"226\\\",\\\"227\\\",\\\"228\\\",\\\"229\\\",\\\"230\\\",\\\"231\\\",\\\"232\\\",\\\"233\\\",\\\"234\\\",\\\"235\\\",\\\"236\\\",\\\"237\\\",\\\"238\\\",\\\"239\\\",\\\"240\\\",\\\"241\\\",\\\"242\\\",\\\"243\\\",\\\"244\\\",\\\"245\\\",\\\"246\\\",\\\"247\\\",\\\"248\\\",\\\"249\\\",\\\"250\\\",\\\"251\\\",\\\"252\\\",\\\"253\\\",\\\"254\\\",\\\"255\\\",\\\"256\\\",\\\"257\\\",\\\"258\\\",\\\"259\\\",\\\"260\\\",\\\"261\\\",\\\"262\\\",\\\"263\\\",\\\"264\\\",\\\"265\\\",\\\"266\\\",\\\"267\\\",\\\"268\\\",\\\"269\\\",\\\"270\\\",\\\"271\\\",\\\"272\\\",\\\"273\\\",\\\"274\\\",\\\"275\\\",\\\"276\\\",\\\"277\\\",\\\"278\\\",\\\"279\\\",\\\"280\\\",\\\"281\\\",\\\"282\\\",\\\"283\\\",\\\"284\\\",\\\"285\\\",\\\"286\\\",\\\"287\\\",\\\"288\\\",\\\"289\\\",\\\"290\\\",\\\"291\\\",\\\"292\\\",\\\"293\\\",\\\"294\\\",\\\"295\\\",\\\"296\\\",\\\"297\\\",\\\"298\\\",\\\"299\\\",\\\"300\\\",\\\"301\\\",\\\"302\\\",\\\"303\\\",\\\"304\\\",\\\"305\\\",\\\"306\\\",\\\"307\\\",\\\"308\\\",\\\"309\\\",\\\"310\\\",\\\"311\\\",\\\"312\\\",\\\"313\\\",\\\"314\\\",\\\"315\\\",\\\"316\\\",\\\"317\\\",\\\"318\\\",\\\"319\\\",\\\"320\\\",\\\"321\\\",\\\"322\\\",\\\"323\\\",\\\"324\\\",\\\"325\\\",\\\"326\\\",\\\"327\\\",\\\"328\\\",\\\"329\\\",\\\"330\\\",\\\"331\\\",\\\"332\\\",\\\"333\\\",\\\"334\\\",\\\"335\\\",\\\"336\\\",\\\"337\\\",\\\"338\\\",\\\"339\\\",\\\"340\\\",\\\"341\\\",\\\"342\\\",\\\"343\\\",\\\"344\\\",\\\"345\\\",\\\"346\\\",\\\"347\\\",\\\"348\\\",\\\"349\\\",\\\"350\\\",\\\"351\\\",\\\"352\\\",\\\"353\\\",\\\"354\\\",\\\"355\\\",\\\"356\\\",\\\"357\\\",\\\"358\\\",\\\"359\\\",\\\"360\\\",\\\"361\\\",\\\"362\\\",\\\"363\\\",\\\"364\\\",\\\"365\\\",\\\"366\\\",\\\"367\\\",\\\"368\\\",\\\"369\\\",\\\"370\\\",\\\"371\\\",\\\"372\\\",\\\"373\\\",\\\"374\\\",\\\"375\\\",\\\"376\\\",\\\"377\\\",\\\"378\\\",\\\"379\\\",\\\"380\\\",\\\"381\\\",\\\"382\\\",\\\"383\\\",\\\"384\\\",\\\"385\\\",\\\"386\\\",\\\"387\\\",\\\"388\\\",\\\"389\\\",\\\"390\\\",\\\"391\\\",\\\"392\\\",\\\"393\\\",\\\"394\\\",\\\"395\\\",\\\"396\\\",\\\"397\\\",\\\"398\\\",\\\"399\\\",\\\"400\\\",\\\"401\\\"],\\\"changes\\\":WebIO.getval({\\\"name\\\":\\\"changes\\\",\\\"scope\\\":\\\"2828802018653336131\\\",\\\"id\\\":\\\"14931214141451821779\\\",\\\"type\\\":\\\"observable\\\"}),\\\"index\\\":WebIO.getval({\\\"name\\\":\\\"index\\\",\\\"scope\\\":\\\"2828802018653336131\\\",\\\"id\\\":\\\"3617184661110744201\\\",\\\"type\\\":\\\"observable\\\"})};\\n    var self = this;\\n    function AppViewModel() {\\n        for (var key in json_data) {\\n            var el = json_data[key];\\n            this[key] = Array.isArray(el) ? ko.observableArray(el) : ko.observable(el);\\n        }\\n        \\n        [this[\\\"formatted_val\\\"]=ko.computed(    function(){\\n        return this.formatted_vals()[parseInt(this.index())-(1)];\\n    }\\n,this)]\\n        [this[\\\"changes\\\"].subscribe((function (val){!(this.valueFromJulia[\\\"changes\\\"]) ? (WebIO.setval({\\\"name\\\":\\\"changes\\\",\\\"scope\\\":\\\"2828802018653336131\\\",\\\"id\\\":\\\"14931214141451821779\\\",\\\"type\\\":\\\"observable\\\"},val)) : undefined; return this.valueFromJulia[\\\"changes\\\"]=false}),self),this[\\\"index\\\"].subscribe((function (val){!(this.valueFromJulia[\\\"index\\\"]) ? (WebIO.setval({\\\"name\\\":\\\"index\\\",\\\"scope\\\":\\\"2828802018653336131\\\",\\\"id\\\":\\\"3617184661110744201\\\",\\\"type\\\":\\\"observable\\\"},val)) : undefined; return this.valueFromJulia[\\\"index\\\"]=false}),self)]\\n        \\n    }\\n    self.model = new AppViewModel();\\n    self.valueFromJulia = {};\\n    for (var key in json_data) {\\n        self.valueFromJulia[key] = false;\\n    }\\n    ko.applyBindings(self.model, self.dom);\\n}\\n);\\n    (WebIO.importBlock({\\\"data\\\":[{\\\"name\\\":\\\"knockout\\\",\\\"type\\\":\\\"js\\\",\\\"url\\\":\\\"\\/assetserver\\/727383f2a47bd31570b7da84eee7b022dd6d7c78-knockout.js\\\"},{\\\"name\\\":\\\"knockout_punches\\\",\\\"type\\\":\\\"js\\\",\\\"url\\\":\\\"\\/assetserver\\/382b41b3b1bd9f26f75861d360bad7f8beea211f-knockout_punches.js\\\"}],\\\"type\\\":\\\"async_block\\\"})).then((imports) => handler.apply(this, imports));\\n}\\n\"],\"observables\":{\"changes\":{\"sync\":false,\"id\":\"14931214141451821779\",\"value\":0},\"index\":{\"sync\":true,\"id\":\"3617184661110744201\",\"value\":201}}},\"children\":[{\"props\":{\"className\":\"interact-flex-row interact-widget\"},\"nodeType\":\"DOM\",\"type\":\"node\",\"instanceArgs\":{\"namespace\":\"html\",\"tag\":\"div\"},\"children\":[{\"props\":{\"className\":\"interact-flex-row-left\"},\"nodeType\":\"DOM\",\"type\":\"node\",\"instanceArgs\":{\"namespace\":\"html\",\"tag\":\"div\"},\"children\":[{\"props\":{\"className\":\"interact \",\"style\":{\"padding\":\"5px 10px 0px 10px\"}},\"nodeType\":\"DOM\",\"type\":\"node\",\"instanceArgs\":{\"namespace\":\"html\",\"tag\":\"label\"},\"children\":[\"time\"]}]},{\"props\":{\"className\":\"interact-flex-row-center\"},\"nodeType\":\"DOM\",\"type\":\"node\",\"instanceArgs\":{\"namespace\":\"html\",\"tag\":\"div\"},\"children\":[{\"props\":{\"max\":401,\"min\":1,\"attributes\":{\"type\":\"range\",\"data-bind\":\"numericValue: index, valueUpdate: 'input', event: {change: function (){this.changes(this.changes()+1)}}\",\"orient\":\"horizontal\"},\"step\":1,\"className\":\"slider slider is-fullwidth\",\"style\":{}},\"nodeType\":\"DOM\",\"type\":\"node\",\"instanceArgs\":{\"namespace\":\"html\",\"tag\":\"input\"},\"children\":[]}]},{\"props\":{\"className\":\"interact-flex-row-right\"},\"nodeType\":\"DOM\",\"type\":\"node\",\"instanceArgs\":{\"namespace\":\"html\",\"tag\":\"div\"},\"children\":[{\"props\":{\"attributes\":{\"data-bind\":\"text: formatted_val\"}},\"nodeType\":\"DOM\",\"type\":\"node\",\"instanceArgs\":{\"namespace\":\"html\",\"tag\":\"p\"},\"children\":[]}]}]}]}]},{\"props\":{\"className\":\"field interact-widget\"},\"nodeType\":\"DOM\",\"type\":\"node\",\"instanceArgs\":{\"namespace\":\"html\",\"tag\":\"div\"},\"children\":[{\"props\":{},\"nodeType\":\"Scope\",\"type\":\"node\",\"instanceArgs\":{\"imports\":{\"data\":[{\"name\":\"knockout\",\"type\":\"js\",\"url\":\"\\/assetserver\\/727383f2a47bd31570b7da84eee7b022dd6d7c78-knockout.js\"},{\"name\":\"knockout_punches\",\"type\":\"js\",\"url\":\"\\/assetserver\\/382b41b3b1bd9f26f75861d360bad7f8beea211f-knockout_punches.js\"},{\"name\":null,\"type\":\"js\",\"url\":\"\\/assetserver\\/5ab20f1060420992a9b82a65b735dee4d81ef413-all.js\"},{\"name\":null,\"type\":\"css\",\"url\":\"\\/assetserver\\/1cc0ed62837210b80a182cc3676512f895dab686-style.css\"},{\"name\":null,\"type\":\"css\",\"url\":\"\\/assetserver\\/2eee816f616df3549d7044d45e744fbf8d42bfa1-bulma_confined.min.css\"}],\"type\":\"async_block\"},\"id\":\"16498735700453560803\",\"handlers\":{\"changes\":[\"(function (val){return (val!=this.model[\\\"changes\\\"]()) ? (this.valueFromJulia[\\\"changes\\\"]=true, this.model[\\\"changes\\\"](val)) : undefined})\"],\"index\":[\"(function (val){return (val!=this.model[\\\"index\\\"]()) ? (this.valueFromJulia[\\\"index\\\"]=true, this.model[\\\"index\\\"](val)) : undefined})\"]},\"systemjs_options\":null,\"mount_callbacks\":[\"function () {\\n    var handler = (function (ko, koPunches) {\\n    ko.punches.enableAll();\\n    ko.bindingHandlers.numericValue = {\\n        init: function(element, valueAccessor, allBindings, data, context) {\\n            var stringified = ko.observable(ko.unwrap(valueAccessor()));\\n            stringified.subscribe(function(value) {\\n                var val = parseFloat(value);\\n                if (!isNaN(val)) {\\n                    valueAccessor()(val);\\n                }\\n            });\\n            valueAccessor().subscribe(function(value) {\\n                var str = JSON.stringify(value);\\n                if ((str == \\\"0\\\") && ([\\\"-0\\\", \\\"-0.\\\"].indexOf(stringified()) >= 0))\\n                     return;\\n                 if ([\\\"null\\\", \\\"\\\"].indexOf(str) >= 0)\\n                     return;\\n                stringified(str);\\n            });\\n            ko.applyBindingsToNode(\\n                element,\\n                {\\n                    value: stringified,\\n                    valueUpdate: allBindings.get('valueUpdate'),\\n                },\\n                context,\\n            );\\n        }\\n    };\\n    var json_data = {\\\"formatted_vals\\\":[\\\"0.1\\\",\\\"0.2\\\",\\\"0.3\\\",\\\"0.4\\\",\\\"0.5\\\",\\\"0.6\\\",\\\"0.7\\\",\\\"0.8\\\",\\\"0.9\\\",\\\"1.0\\\",\\\"1.1\\\",\\\"1.2\\\",\\\"1.3\\\",\\\"1.4\\\",\\\"1.5\\\",\\\"1.6\\\",\\\"1.7\\\",\\\"1.8\\\",\\\"1.9\\\",\\\"2.0\\\"],\\\"changes\\\":WebIO.getval({\\\"name\\\":\\\"changes\\\",\\\"scope\\\":\\\"16498735700453560803\\\",\\\"id\\\":\\\"15783053459124127704\\\",\\\"type\\\":\\\"observable\\\"}),\\\"index\\\":WebIO.getval({\\\"name\\\":\\\"index\\\",\\\"scope\\\":\\\"16498735700453560803\\\",\\\"id\\\":\\\"3483148988098115375\\\",\\\"type\\\":\\\"observable\\\"})};\\n    var self = this;\\n    function AppViewModel() {\\n        for (var key in json_data) {\\n            var el = json_data[key];\\n            this[key] = Array.isArray(el) ? ko.observableArray(el) : ko.observable(el);\\n        }\\n        \\n        [this[\\\"formatted_val\\\"]=ko.computed(    function(){\\n        return this.formatted_vals()[parseInt(this.index())-(1)];\\n    }\\n,this)]\\n        [this[\\\"changes\\\"].subscribe((function (val){!(this.valueFromJulia[\\\"changes\\\"]) ? (WebIO.setval({\\\"name\\\":\\\"changes\\\",\\\"scope\\\":\\\"16498735700453560803\\\",\\\"id\\\":\\\"15783053459124127704\\\",\\\"type\\\":\\\"observable\\\"},val)) : undefined; return this.valueFromJulia[\\\"changes\\\"]=false}),self),this[\\\"index\\\"].subscribe((function (val){!(this.valueFromJulia[\\\"index\\\"]) ? (WebIO.setval({\\\"name\\\":\\\"index\\\",\\\"scope\\\":\\\"16498735700453560803\\\",\\\"id\\\":\\\"3483148988098115375\\\",\\\"type\\\":\\\"observable\\\"},val)) : undefined; return this.valueFromJulia[\\\"index\\\"]=false}),self)]\\n        \\n    }\\n    self.model = new AppViewModel();\\n    self.valueFromJulia = {};\\n    for (var key in json_data) {\\n        self.valueFromJulia[key] = false;\\n    }\\n    ko.applyBindings(self.model, self.dom);\\n}\\n);\\n    (WebIO.importBlock({\\\"data\\\":[{\\\"name\\\":\\\"knockout\\\",\\\"type\\\":\\\"js\\\",\\\"url\\\":\\\"\\/assetserver\\/727383f2a47bd31570b7da84eee7b022dd6d7c78-knockout.js\\\"},{\\\"name\\\":\\\"knockout_punches\\\",\\\"type\\\":\\\"js\\\",\\\"url\\\":\\\"\\/assetserver\\/382b41b3b1bd9f26f75861d360bad7f8beea211f-knockout_punches.js\\\"}],\\\"type\\\":\\\"async_block\\\"})).then((imports) => handler.apply(this, imports));\\n}\\n\"],\"observables\":{\"changes\":{\"sync\":false,\"id\":\"15783053459124127704\",\"value\":0},\"index\":{\"sync\":true,\"id\":\"3483148988098115375\",\"value\":10}}},\"children\":[{\"props\":{\"className\":\"interact-flex-row interact-widget\"},\"nodeType\":\"DOM\",\"type\":\"node\",\"instanceArgs\":{\"namespace\":\"html\",\"tag\":\"div\"},\"children\":[{\"props\":{\"className\":\"interact-flex-row-left\"},\"nodeType\":\"DOM\",\"type\":\"node\",\"instanceArgs\":{\"namespace\":\"html\",\"tag\":\"div\"},\"children\":[{\"props\":{\"className\":\"interact \",\"style\":{\"padding\":\"5px 10px 0px 10px\"}},\"nodeType\":\"DOM\",\"type\":\"node\",\"instanceArgs\":{\"namespace\":\"html\",\"tag\":\"label\"},\"children\":[\"scale\"]}]},{\"props\":{\"className\":\"interact-flex-row-center\"},\"nodeType\":\"DOM\",\"type\":\"node\",\"instanceArgs\":{\"namespace\":\"html\",\"tag\":\"div\"},\"children\":[{\"props\":{\"max\":20,\"min\":1,\"attributes\":{\"type\":\"range\",\"data-bind\":\"numericValue: index, valueUpdate: 'input', event: {change: function (){this.changes(this.changes()+1)}}\",\"orient\":\"horizontal\"},\"step\":1,\"className\":\"slider slider is-fullwidth\",\"style\":{}},\"nodeType\":\"DOM\",\"type\":\"node\",\"instanceArgs\":{\"namespace\":\"html\",\"tag\":\"input\"},\"children\":[]}]},{\"props\":{\"className\":\"interact-flex-row-right\"},\"nodeType\":\"DOM\",\"type\":\"node\",\"instanceArgs\":{\"namespace\":\"html\",\"tag\":\"div\"},\"children\":[{\"props\":{\"attributes\":{\"data-bind\":\"text: formatted_val\"}},\"nodeType\":\"DOM\",\"type\":\"node\",\"instanceArgs\":{\"namespace\":\"html\",\"tag\":\"p\"},\"children\":[]}]}]}]}]},{\"props\":{\"style\":{\"display\":\"flex\",\"flex-direction\":\"row\"}},\"nodeType\":\"DOM\",\"type\":\"node\",\"instanceArgs\":{\"namespace\":\"html\",\"tag\":\"div\"},\"children\":[{\"props\":{\"className\":\"interact-widget\"},\"nodeType\":\"DOM\",\"type\":\"node\",\"instanceArgs\":{\"namespace\":\"html\",\"tag\":\"div\"},\"children\":[{\"props\":{},\"nodeType\":\"Scope\",\"type\":\"node\",\"instanceArgs\":{\"imports\":{\"data\":[{\"name\":null,\"type\":\"js\",\"url\":\"\\/assetserver\\/dd22ed1bf1896c2748f3fe616ce0b838adc895c1-katex.min.js\"},{\"name\":null,\"type\":\"css\",\"url\":\"\\/assetserver\\/46517a424aa5e6cffc1360d7e0848b601c584ee3-katex.min.css\"}],\"type\":\"async_block\"},\"id\":\"7040905238505092397\",\"handlers\":{\"value\":[\"(function (txt){return this.k.render(txt,this.container)})\"]},\"systemjs_options\":null,\"mount_callbacks\":[\"function () {\\n    var handler = ((function (k){this.k=k; this.container=this.dom.querySelector(\\\"#container\\\"); return k.render(\\\"\\\\\\\\;\\\\\\\\;\\\",this.container)}));\\n    (WebIO.importBlock({\\\"data\\\":[{\\\"name\\\":null,\\\"type\\\":\\\"js\\\",\\\"url\\\":\\\"\\/assetserver\\/dd22ed1bf1896c2748f3fe616ce0b838adc895c1-katex.min.js\\\"},{\\\"name\\\":null,\\\"type\\\":\\\"css\\\",\\\"url\\\":\\\"\\/assetserver\\/46517a424aa5e6cffc1360d7e0848b601c584ee3-katex.min.css\\\"}],\\\"type\\\":\\\"async_block\\\"})).then((imports) => handler.apply(this, imports));\\n}\\n\"],\"observables\":{\"value\":{\"sync\":false,\"id\":\"13580760025057972177\",\"value\":\"\\\\;\\\\;\"}}},\"children\":[{\"props\":{\"id\":\"container\"},\"nodeType\":\"DOM\",\"type\":\"node\",\"instanceArgs\":{\"namespace\":\"html\",\"tag\":\"div\"},\"children\":[]}]}]},{\"props\":{\"className\":\"field interact-widget\"},\"nodeType\":\"DOM\",\"type\":\"node\",\"instanceArgs\":{\"namespace\":\"html\",\"tag\":\"div\"},\"children\":[{\"props\":{},\"nodeType\":\"Scope\",\"type\":\"node\",\"instanceArgs\":{\"imports\":{\"data\":[{\"name\":\"knockout\",\"type\":\"js\",\"url\":\"\\/assetserver\\/727383f2a47bd31570b7da84eee7b022dd6d7c78-knockout.js\"},{\"name\":\"knockout_punches\",\"type\":\"js\",\"url\":\"\\/assetserver\\/382b41b3b1bd9f26f75861d360bad7f8beea211f-knockout_punches.js\"},{\"name\":null,\"type\":\"js\",\"url\":\"\\/assetserver\\/5ab20f1060420992a9b82a65b735dee4d81ef413-all.js\"},{\"name\":null,\"type\":\"css\",\"url\":\"\\/assetserver\\/1cc0ed62837210b80a182cc3676512f895dab686-style.css\"},{\"name\":null,\"type\":\"css\",\"url\":\"\\/assetserver\\/2eee816f616df3549d7044d45e744fbf8d42bfa1-bulma_confined.min.css\"}],\"type\":\"async_block\"},\"id\":\"2028339394068314505\",\"handlers\":{\"loading\":[\"(function (val){return (val!=this.model[\\\"loading\\\"]()) ? (this.valueFromJulia[\\\"loading\\\"]=true, this.model[\\\"loading\\\"](val)) : undefined})\"],\"clicks\":[\"(function (val){return (val!=this.model[\\\"clicks\\\"]()) ? (this.valueFromJulia[\\\"clicks\\\"]=true, this.model[\\\"clicks\\\"](val)) : undefined})\"]},\"systemjs_options\":null,\"mount_callbacks\":[\"function () {\\n    var handler = (function (ko, koPunches) {\\n    ko.punches.enableAll();\\n    ko.bindingHandlers.numericValue = {\\n        init: function(element, valueAccessor, allBindings, data, context) {\\n            var stringified = ko.observable(ko.unwrap(valueAccessor()));\\n            stringified.subscribe(function(value) {\\n                var val = parseFloat(value);\\n                if (!isNaN(val)) {\\n                    valueAccessor()(val);\\n                }\\n            });\\n            valueAccessor().subscribe(function(value) {\\n                var str = JSON.stringify(value);\\n                if ((str == \\\"0\\\") && ([\\\"-0\\\", \\\"-0.\\\"].indexOf(stringified()) >= 0))\\n                     return;\\n                 if ([\\\"null\\\", \\\"\\\"].indexOf(str) >= 0)\\n                     return;\\n                stringified(str);\\n            });\\n            ko.applyBindingsToNode(\\n                element,\\n                {\\n                    value: stringified,\\n                    valueUpdate: allBindings.get('valueUpdate'),\\n                },\\n                context,\\n            );\\n        }\\n    };\\n    var json_data = {\\\"loading\\\":WebIO.getval({\\\"name\\\":\\\"loading\\\",\\\"scope\\\":\\\"2028339394068314505\\\",\\\"id\\\":\\\"3220907456855557412\\\",\\\"type\\\":\\\"observable\\\"}),\\\"clicks\\\":WebIO.getval({\\\"name\\\":\\\"clicks\\\",\\\"scope\\\":\\\"2028339394068314505\\\",\\\"id\\\":\\\"16464033542064102078\\\",\\\"type\\\":\\\"observable\\\"})};\\n    var self = this;\\n    function AppViewModel() {\\n        for (var key in json_data) {\\n            var el = json_data[key];\\n            this[key] = Array.isArray(el) ? ko.observableArray(el) : ko.observable(el);\\n        }\\n        \\n        \\n        [this[\\\"loading\\\"].subscribe((function (val){!(this.valueFromJulia[\\\"loading\\\"]) ? (WebIO.setval({\\\"name\\\":\\\"loading\\\",\\\"scope\\\":\\\"2028339394068314505\\\",\\\"id\\\":\\\"3220907456855557412\\\",\\\"type\\\":\\\"observable\\\"},val)) : undefined; return this.valueFromJulia[\\\"loading\\\"]=false}),self),this[\\\"clicks\\\"].subscribe((function (val){!(this.valueFromJulia[\\\"clicks\\\"]) ? (WebIO.setval({\\\"name\\\":\\\"clicks\\\",\\\"scope\\\":\\\"2028339394068314505\\\",\\\"id\\\":\\\"16464033542064102078\\\",\\\"type\\\":\\\"observable\\\"},val)) : undefined; return this.valueFromJulia[\\\"clicks\\\"]=false}),self)]\\n        \\n    }\\n    self.model = new AppViewModel();\\n    self.valueFromJulia = {};\\n    for (var key in json_data) {\\n        self.valueFromJulia[key] = false;\\n    }\\n    ko.applyBindings(self.model, self.dom);\\n}\\n);\\n    (WebIO.importBlock({\\\"data\\\":[{\\\"name\\\":\\\"knockout\\\",\\\"type\\\":\\\"js\\\",\\\"url\\\":\\\"\\/assetserver\\/727383f2a47bd31570b7da84eee7b022dd6d7c78-knockout.js\\\"},{\\\"name\\\":\\\"knockout_punches\\\",\\\"type\\\":\\\"js\\\",\\\"url\\\":\\\"\\/assetserver\\/382b41b3b1bd9f26f75861d360bad7f8beea211f-knockout_punches.js\\\"}],\\\"type\\\":\\\"async_block\\\"})).then((imports) => handler.apply(this, imports));\\n}\\n\"],\"observables\":{\"loading\":{\"sync\":false,\"id\":\"3220907456855557412\",\"value\":false},\"clicks\":{\"sync\":true,\"id\":\"16464033542064102078\",\"value\":0}}},\"children\":[{\"props\":{\"attributes\":{\"data-bind\":\"click: function (){this.clicks(this.clicks()+1)}, css: {'is-loading' : loading}\"},\"className\":\"is-medium button is-primary\",\"style\":{}},\"nodeType\":\"DOM\",\"type\":\"node\",\"instanceArgs\":{\"namespace\":\"html\",\"tag\":\"button\"},\"children\":[\"run\"]}]}]},{\"props\":{\"className\":\"interact-widget\"},\"nodeType\":\"DOM\",\"type\":\"node\",\"instanceArgs\":{\"namespace\":\"html\",\"tag\":\"div\"},\"children\":[{\"props\":{},\"nodeType\":\"Scope\",\"type\":\"node\",\"instanceArgs\":{\"imports\":{\"data\":[{\"name\":null,\"type\":\"js\",\"url\":\"\\/assetserver\\/dd22ed1bf1896c2748f3fe616ce0b838adc895c1-katex.min.js\"},{\"name\":null,\"type\":\"css\",\"url\":\"\\/assetserver\\/46517a424aa5e6cffc1360d7e0848b601c584ee3-katex.min.css\"}],\"type\":\"async_block\"},\"id\":\"7040905238505092397\",\"handlers\":{\"value\":[\"(function (txt){return this.k.render(txt,this.container)})\"]},\"systemjs_options\":null,\"mount_callbacks\":[\"function () {\\n    var handler = ((function (k){this.k=k; this.container=this.dom.querySelector(\\\"#container\\\"); return k.render(\\\"\\\\\\\\;\\\\\\\\;\\\",this.container)}));\\n    (WebIO.importBlock({\\\"data\\\":[{\\\"name\\\":null,\\\"type\\\":\\\"js\\\",\\\"url\\\":\\\"\\/assetserver\\/dd22ed1bf1896c2748f3fe616ce0b838adc895c1-katex.min.js\\\"},{\\\"name\\\":null,\\\"type\\\":\\\"css\\\",\\\"url\\\":\\\"\\/assetserver\\/46517a424aa5e6cffc1360d7e0848b601c584ee3-katex.min.css\\\"}],\\\"type\\\":\\\"async_block\\\"})).then((imports) => handler.apply(this, imports));\\n}\\n\"],\"observables\":{\"value\":{\"sync\":false,\"id\":\"13580760025057972177\",\"value\":\"\\\\;\\\\;\"}}},\"children\":[{\"props\":{\"id\":\"container\"},\"nodeType\":\"DOM\",\"type\":\"node\",\"instanceArgs\":{\"namespace\":\"html\",\"tag\":\"div\"},\"children\":[]}]}]},{\"props\":{\"className\":\"field interact-widget\"},\"nodeType\":\"DOM\",\"type\":\"node\",\"instanceArgs\":{\"namespace\":\"html\",\"tag\":\"div\"},\"children\":[{\"props\":{},\"nodeType\":\"Scope\",\"type\":\"node\",\"instanceArgs\":{\"imports\":{\"data\":[{\"name\":\"knockout\",\"type\":\"js\",\"url\":\"\\/assetserver\\/727383f2a47bd31570b7da84eee7b022dd6d7c78-knockout.js\"},{\"name\":\"knockout_punches\",\"type\":\"js\",\"url\":\"\\/assetserver\\/382b41b3b1bd9f26f75861d360bad7f8beea211f-knockout_punches.js\"},{\"name\":null,\"type\":\"js\",\"url\":\"\\/assetserver\\/5ab20f1060420992a9b82a65b735dee4d81ef413-all.js\"},{\"name\":null,\"type\":\"css\",\"url\":\"\\/assetserver\\/1cc0ed62837210b80a182cc3676512f895dab686-style.css\"},{\"name\":null,\"type\":\"css\",\"url\":\"\\/assetserver\\/2eee816f616df3549d7044d45e744fbf8d42bfa1-bulma_confined.min.css\"}],\"type\":\"async_block\"},\"id\":\"16690436472563897096\",\"handlers\":{\"loading\":[\"(function (val){return (val!=this.model[\\\"loading\\\"]()) ? (this.valueFromJulia[\\\"loading\\\"]=true, this.model[\\\"loading\\\"](val)) : undefined})\"],\"clicks\":[\"(function (val){return (val!=this.model[\\\"clicks\\\"]()) ? (this.valueFromJulia[\\\"clicks\\\"]=true, this.model[\\\"clicks\\\"](val)) : undefined})\"]},\"systemjs_options\":null,\"mount_callbacks\":[\"function () {\\n    var handler = (function (ko, koPunches) {\\n    ko.punches.enableAll();\\n    ko.bindingHandlers.numericValue = {\\n        init: function(element, valueAccessor, allBindings, data, context) {\\n            var stringified = ko.observable(ko.unwrap(valueAccessor()));\\n            stringified.subscribe(function(value) {\\n                var val = parseFloat(value);\\n                if (!isNaN(val)) {\\n                    valueAccessor()(val);\\n                }\\n            });\\n            valueAccessor().subscribe(function(value) {\\n                var str = JSON.stringify(value);\\n                if ((str == \\\"0\\\") && ([\\\"-0\\\", \\\"-0.\\\"].indexOf(stringified()) >= 0))\\n                     return;\\n                 if ([\\\"null\\\", \\\"\\\"].indexOf(str) >= 0)\\n                     return;\\n                stringified(str);\\n            });\\n            ko.applyBindingsToNode(\\n                element,\\n                {\\n                    value: stringified,\\n                    valueUpdate: allBindings.get('valueUpdate'),\\n                },\\n                context,\\n            );\\n        }\\n    };\\n    var json_data = {\\\"loading\\\":WebIO.getval({\\\"name\\\":\\\"loading\\\",\\\"scope\\\":\\\"16690436472563897096\\\",\\\"id\\\":\\\"3747319973401009926\\\",\\\"type\\\":\\\"observable\\\"}),\\\"clicks\\\":WebIO.getval({\\\"name\\\":\\\"clicks\\\",\\\"scope\\\":\\\"16690436472563897096\\\",\\\"id\\\":\\\"12279917443100525080\\\",\\\"type\\\":\\\"observable\\\"})};\\n    var self = this;\\n    function AppViewModel() {\\n        for (var key in json_data) {\\n            var el = json_data[key];\\n            this[key] = Array.isArray(el) ? ko.observableArray(el) : ko.observable(el);\\n        }\\n        \\n        \\n        [this[\\\"loading\\\"].subscribe((function (val){!(this.valueFromJulia[\\\"loading\\\"]) ? (WebIO.setval({\\\"name\\\":\\\"loading\\\",\\\"scope\\\":\\\"16690436472563897096\\\",\\\"id\\\":\\\"3747319973401009926\\\",\\\"type\\\":\\\"observable\\\"},val)) : undefined; return this.valueFromJulia[\\\"loading\\\"]=false}),self),this[\\\"clicks\\\"].subscribe((function (val){!(this.valueFromJulia[\\\"clicks\\\"]) ? (WebIO.setval({\\\"name\\\":\\\"clicks\\\",\\\"scope\\\":\\\"16690436472563897096\\\",\\\"id\\\":\\\"12279917443100525080\\\",\\\"type\\\":\\\"observable\\\"},val)) : undefined; return this.valueFromJulia[\\\"clicks\\\"]=false}),self)]\\n        \\n    }\\n    self.model = new AppViewModel();\\n    self.valueFromJulia = {};\\n    for (var key in json_data) {\\n        self.valueFromJulia[key] = false;\\n    }\\n    ko.applyBindings(self.model, self.dom);\\n}\\n);\\n    (WebIO.importBlock({\\\"data\\\":[{\\\"name\\\":\\\"knockout\\\",\\\"type\\\":\\\"js\\\",\\\"url\\\":\\\"\\/assetserver\\/727383f2a47bd31570b7da84eee7b022dd6d7c78-knockout.js\\\"},{\\\"name\\\":\\\"knockout_punches\\\",\\\"type\\\":\\\"js\\\",\\\"url\\\":\\\"\\/assetserver\\/382b41b3b1bd9f26f75861d360bad7f8beea211f-knockout_punches.js\\\"}],\\\"type\\\":\\\"async_block\\\"})).then((imports) => handler.apply(this, imports));\\n}\\n\"],\"observables\":{\"loading\":{\"sync\":false,\"id\":\"3747319973401009926\",\"value\":false},\"clicks\":{\"sync\":true,\"id\":\"12279917443100525080\",\"value\":0}}},\"children\":[{\"props\":{\"attributes\":{\"data-bind\":\"click: function (){this.clicks(this.clicks()+1)}, css: {'is-loading' : loading}\"},\"className\":\"is-medium button is-primary\",\"style\":{}},\"nodeType\":\"DOM\",\"type\":\"node\",\"instanceArgs\":{\"namespace\":\"html\",\"tag\":\"button\"},\"children\":[\"stop\"]}]}]},{\"props\":{\"className\":\"interact-widget\"},\"nodeType\":\"DOM\",\"type\":\"node\",\"instanceArgs\":{\"namespace\":\"html\",\"tag\":\"div\"},\"children\":[{\"props\":{},\"nodeType\":\"Scope\",\"type\":\"node\",\"instanceArgs\":{\"imports\":{\"data\":[{\"name\":null,\"type\":\"js\",\"url\":\"\\/assetserver\\/dd22ed1bf1896c2748f3fe616ce0b838adc895c1-katex.min.js\"},{\"name\":null,\"type\":\"css\",\"url\":\"\\/assetserver\\/46517a424aa5e6cffc1360d7e0848b601c584ee3-katex.min.css\"}],\"type\":\"async_block\"},\"id\":\"7040905238505092397\",\"handlers\":{\"value\":[\"(function (txt){return this.k.render(txt,this.container)})\"]},\"systemjs_options\":null,\"mount_callbacks\":[\"function () {\\n    var handler = ((function (k){this.k=k; this.container=this.dom.querySelector(\\\"#container\\\"); return k.render(\\\"\\\\\\\\;\\\\\\\\;\\\",this.container)}));\\n    (WebIO.importBlock({\\\"data\\\":[{\\\"name\\\":null,\\\"type\\\":\\\"js\\\",\\\"url\\\":\\\"\\/assetserver\\/dd22ed1bf1896c2748f3fe616ce0b838adc895c1-katex.min.js\\\"},{\\\"name\\\":null,\\\"type\\\":\\\"css\\\",\\\"url\\\":\\\"\\/assetserver\\/46517a424aa5e6cffc1360d7e0848b601c584ee3-katex.min.css\\\"}],\\\"type\\\":\\\"async_block\\\"})).then((imports) => handler.apply(this, imports));\\n}\\n\"],\"observables\":{\"value\":{\"sync\":false,\"id\":\"13580760025057972177\",\"value\":\"\\\\;\\\\;\"}}},\"children\":[{\"props\":{\"id\":\"container\"},\"nodeType\":\"DOM\",\"type\":\"node\",\"instanceArgs\":{\"namespace\":\"html\",\"tag\":\"div\"},\"children\":[]}]}]},{\"props\":{\"className\":\"field interact-widget\"},\"nodeType\":\"DOM\",\"type\":\"node\",\"instanceArgs\":{\"namespace\":\"html\",\"tag\":\"div\"},\"children\":[{\"props\":{},\"nodeType\":\"Scope\",\"type\":\"node\",\"instanceArgs\":{\"imports\":{\"data\":[{\"name\":\"knockout\",\"type\":\"js\",\"url\":\"\\/assetserver\\/727383f2a47bd31570b7da84eee7b022dd6d7c78-knockout.js\"},{\"name\":\"knockout_punches\",\"type\":\"js\",\"url\":\"\\/assetserver\\/382b41b3b1bd9f26f75861d360bad7f8beea211f-knockout_punches.js\"},{\"name\":null,\"type\":\"js\",\"url\":\"\\/assetserver\\/5ab20f1060420992a9b82a65b735dee4d81ef413-all.js\"},{\"name\":null,\"type\":\"css\",\"url\":\"\\/assetserver\\/1cc0ed62837210b80a182cc3676512f895dab686-style.css\"},{\"name\":null,\"type\":\"css\",\"url\":\"\\/assetserver\\/2eee816f616df3549d7044d45e744fbf8d42bfa1-bulma_confined.min.css\"}],\"type\":\"async_block\"},\"id\":\"13479127191643957767\",\"handlers\":{\"loading\":[\"(function (val){return (val!=this.model[\\\"loading\\\"]()) ? (this.valueFromJulia[\\\"loading\\\"]=true, this.model[\\\"loading\\\"](val)) : undefined})\"],\"clicks\":[\"(function (val){return (val!=this.model[\\\"clicks\\\"]()) ? (this.valueFromJulia[\\\"clicks\\\"]=true, this.model[\\\"clicks\\\"](val)) : undefined})\"]},\"systemjs_options\":null,\"mount_callbacks\":[\"function () {\\n    var handler = (function (ko, koPunches) {\\n    ko.punches.enableAll();\\n    ko.bindingHandlers.numericValue = {\\n        init: function(element, valueAccessor, allBindings, data, context) {\\n            var stringified = ko.observable(ko.unwrap(valueAccessor()));\\n            stringified.subscribe(function(value) {\\n                var val = parseFloat(value);\\n                if (!isNaN(val)) {\\n                    valueAccessor()(val);\\n                }\\n            });\\n            valueAccessor().subscribe(function(value) {\\n                var str = JSON.stringify(value);\\n                if ((str == \\\"0\\\") && ([\\\"-0\\\", \\\"-0.\\\"].indexOf(stringified()) >= 0))\\n                     return;\\n                 if ([\\\"null\\\", \\\"\\\"].indexOf(str) >= 0)\\n                     return;\\n                stringified(str);\\n            });\\n            ko.applyBindingsToNode(\\n                element,\\n                {\\n                    value: stringified,\\n                    valueUpdate: allBindings.get('valueUpdate'),\\n                },\\n                context,\\n            );\\n        }\\n    };\\n    var json_data = {\\\"loading\\\":WebIO.getval({\\\"name\\\":\\\"loading\\\",\\\"scope\\\":\\\"13479127191643957767\\\",\\\"id\\\":\\\"77133704155849784\\\",\\\"type\\\":\\\"observable\\\"}),\\\"clicks\\\":WebIO.getval({\\\"name\\\":\\\"clicks\\\",\\\"scope\\\":\\\"13479127191643957767\\\",\\\"id\\\":\\\"7921891723010386886\\\",\\\"type\\\":\\\"observable\\\"})};\\n    var self = this;\\n    function AppViewModel() {\\n        for (var key in json_data) {\\n            var el = json_data[key];\\n            this[key] = Array.isArray(el) ? ko.observableArray(el) : ko.observable(el);\\n        }\\n        \\n        \\n        [this[\\\"loading\\\"].subscribe((function (val){!(this.valueFromJulia[\\\"loading\\\"]) ? (WebIO.setval({\\\"name\\\":\\\"loading\\\",\\\"scope\\\":\\\"13479127191643957767\\\",\\\"id\\\":\\\"77133704155849784\\\",\\\"type\\\":\\\"observable\\\"},val)) : undefined; return this.valueFromJulia[\\\"loading\\\"]=false}),self),this[\\\"clicks\\\"].subscribe((function (val){!(this.valueFromJulia[\\\"clicks\\\"]) ? (WebIO.setval({\\\"name\\\":\\\"clicks\\\",\\\"scope\\\":\\\"13479127191643957767\\\",\\\"id\\\":\\\"7921891723010386886\\\",\\\"type\\\":\\\"observable\\\"},val)) : undefined; return this.valueFromJulia[\\\"clicks\\\"]=false}),self)]\\n        \\n    }\\n    self.model = new AppViewModel();\\n    self.valueFromJulia = {};\\n    for (var key in json_data) {\\n        self.valueFromJulia[key] = false;\\n    }\\n    ko.applyBindings(self.model, self.dom);\\n}\\n);\\n    (WebIO.importBlock({\\\"data\\\":[{\\\"name\\\":\\\"knockout\\\",\\\"type\\\":\\\"js\\\",\\\"url\\\":\\\"\\/assetserver\\/727383f2a47bd31570b7da84eee7b022dd6d7c78-knockout.js\\\"},{\\\"name\\\":\\\"knockout_punches\\\",\\\"type\\\":\\\"js\\\",\\\"url\\\":\\\"\\/assetserver\\/382b41b3b1bd9f26f75861d360bad7f8beea211f-knockout_punches.js\\\"}],\\\"type\\\":\\\"async_block\\\"})).then((imports) => handler.apply(this, imports));\\n}\\n\"],\"observables\":{\"loading\":{\"sync\":false,\"id\":\"77133704155849784\",\"value\":false},\"clicks\":{\"sync\":true,\"id\":\"7921891723010386886\",\"value\":0}}},\"children\":[{\"props\":{\"attributes\":{\"data-bind\":\"click: function (){this.clicks(this.clicks()+1)}, css: {'is-loading' : loading}\"},\"className\":\"is-medium button is-primary\",\"style\":{}},\"nodeType\":\"DOM\",\"type\":\"node\",\"instanceArgs\":{\"namespace\":\"html\",\"tag\":\"button\"},\"children\":[\"save\"]}]}]}]}]},{\"props\":{\"className\":\"interact-widget\"},\"nodeType\":\"DOM\",\"type\":\"node\",\"instanceArgs\":{\"namespace\":\"html\",\"tag\":\"div\"},\"children\":[{\"props\":{},\"nodeType\":\"Scope\",\"type\":\"node\",\"instanceArgs\":{\"imports\":{\"data\":[{\"name\":null,\"type\":\"js\",\"url\":\"\\/assetserver\\/dd22ed1bf1896c2748f3fe616ce0b838adc895c1-katex.min.js\"},{\"name\":null,\"type\":\"css\",\"url\":\"\\/assetserver\\/46517a424aa5e6cffc1360d7e0848b601c584ee3-katex.min.css\"}],\"type\":\"async_block\"},\"id\":\"7040905238505092397\",\"handlers\":{\"value\":[\"(function (txt){return this.k.render(txt,this.container)})\"]},\"systemjs_options\":null,\"mount_callbacks\":[\"function () {\\n    var handler = ((function (k){this.k=k; this.container=this.dom.querySelector(\\\"#container\\\"); return k.render(\\\"\\\\\\\\;\\\\\\\\;\\\",this.container)}));\\n    (WebIO.importBlock({\\\"data\\\":[{\\\"name\\\":null,\\\"type\\\":\\\"js\\\",\\\"url\\\":\\\"\\/assetserver\\/dd22ed1bf1896c2748f3fe616ce0b838adc895c1-katex.min.js\\\"},{\\\"name\\\":null,\\\"type\\\":\\\"css\\\",\\\"url\\\":\\\"\\/assetserver\\/46517a424aa5e6cffc1360d7e0848b601c584ee3-katex.min.css\\\"}],\\\"type\\\":\\\"async_block\\\"})).then((imports) => handler.apply(this, imports));\\n}\\n\"],\"observables\":{\"value\":{\"sync\":false,\"id\":\"13580760025057972177\",\"value\":\"\\\\;\\\\;\"}}},\"children\":[{\"props\":{\"id\":\"container\"},\"nodeType\":\"DOM\",\"type\":\"node\",\"instanceArgs\":{\"namespace\":\"html\",\"tag\":\"div\"},\"children\":[]}]}]},{\"props\":{},\"nodeType\":\"Scope\",\"type\":\"node\",\"instanceArgs\":{\"imports\":{\"data\":[],\"type\":\"async_block\"},\"id\":\"6191364393897287218\",\"handlers\":{\"obs-output\":[\"function (value, scope) {\\n    scope.setInnerHTML(value);\\n}\\n\"]},\"systemjs_options\":null,\"mount_callbacks\":[],\"observables\":{\"obs-output\":{\"sync\":false,\"id\":\"11906414461792843875\",\"value\":\"<img src='data:image\\/png;base64,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'><\\/img>\"}}},\"children\":[{\"props\":{\"className\":\"webio-observable\",\"setInnerHtml\":\"<img src='data:image\\/png;base64,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'><\\/img>\"},\"nodeType\":\"DOM\",\"type\":\"node\",\"instanceArgs\":{\"namespace\":\"html\",\"tag\":\"div\"},\"children\":[]}]},{\"props\":{\"className\":\"interact-widget\"},\"nodeType\":\"DOM\",\"type\":\"node\",\"instanceArgs\":{\"namespace\":\"html\",\"tag\":\"div\"},\"children\":[{\"props\":{},\"nodeType\":\"Scope\",\"type\":\"node\",\"instanceArgs\":{\"imports\":{\"data\":[{\"name\":null,\"type\":\"js\",\"url\":\"\\/assetserver\\/dd22ed1bf1896c2748f3fe616ce0b838adc895c1-katex.min.js\"},{\"name\":null,\"type\":\"css\",\"url\":\"\\/assetserver\\/46517a424aa5e6cffc1360d7e0848b601c584ee3-katex.min.css\"}],\"type\":\"async_block\"},\"id\":\"7040905238505092397\",\"handlers\":{\"value\":[\"(function (txt){return this.k.render(txt,this.container)})\"]},\"systemjs_options\":null,\"mount_callbacks\":[\"function () {\\n    var handler = ((function (k){this.k=k; this.container=this.dom.querySelector(\\\"#container\\\"); return k.render(\\\"\\\\\\\\;\\\\\\\\;\\\",this.container)}));\\n    (WebIO.importBlock({\\\"data\\\":[{\\\"name\\\":null,\\\"type\\\":\\\"js\\\",\\\"url\\\":\\\"\\/assetserver\\/dd22ed1bf1896c2748f3fe616ce0b838adc895c1-katex.min.js\\\"},{\\\"name\\\":null,\\\"type\\\":\\\"css\\\",\\\"url\\\":\\\"\\/assetserver\\/46517a424aa5e6cffc1360d7e0848b601c584ee3-katex.min.css\\\"}],\\\"type\\\":\\\"async_block\\\"})).then((imports) => handler.apply(this, imports));\\n}\\n\"],\"observables\":{\"value\":{\"sync\":false,\"id\":\"13580760025057972177\",\"value\":\"\\\\;\\\\;\"}}},\"children\":[{\"props\":{\"id\":\"container\"},\"nodeType\":\"DOM\",\"type\":\"node\",\"instanceArgs\":{\"namespace\":\"html\",\"tag\":\"div\"},\"children\":[]}]}]},{\"props\":{\"style\":{\"display\":\"flex\",\"flex-direction\":\"column\"}},\"nodeType\":\"DOM\",\"type\":\"node\",\"instanceArgs\":{\"namespace\":\"html\",\"tag\":\"div\"},\"children\":[]}]}]},\n",
       "        window,\n",
       "    );\n",
       "    })()\n",
       "    </script>\n",
       "</div>\n"
      ],
      "text/plain": [
       "WebIO.Node{WebIO.DOM}(WebIO.DOM(:html, :div), Any[WebIO.Node{WebIO.DOM}(WebIO.DOM(:html, :div), Any[WebIO.Node{WebIO.DOM}(WebIO.DOM(:html, :div), Any[WebIO.Node{WebIO.DOM}(WebIO.DOM(:html, :div), Any[WebIO.Scope(WebIO.Node{WebIO.DOM}(WebIO.DOM(:html, :div), Any[WebIO.Node{WebIO.DOM}(WebIO.DOM(:html, :div), Any[WebIO.Node{WebIO.DOM}(WebIO.DOM(:html, :label), Any[\"time\"], Dict{Symbol, Any}(:className => \"interact \", :style => Dict{Any, Any}(:padding => \"5px 10px 0px 10px\")))], Dict{Symbol, Any}(:className => \"interact-flex-row-left\")), WebIO.Node{WebIO.DOM}(WebIO.DOM(:html, :div), Any[WebIO.Node{WebIO.DOM}(WebIO.DOM(:html, :input), Any[], Dict{Symbol, Any}(:max => 401, :min => 1, :attributes => Dict{Any, Any}(:type => \"range\", Symbol(\"data-bind\") => \"numericValue: index, valueUpdate: 'input', event: {change: function (){this.changes(this.changes()+1)}}\", \"orient\" => \"horizontal\"), :step => 1, :className => \"slider slider is-fullwidth\", :style => Dict{Any, Any}()))], Dict{Symbol, Any}(:className => \"interact-flex-row-center\")), WebIO.Node{WebIO.DOM}(WebIO.DOM(:html, :div), Any[WebIO.Node{WebIO.DOM}(WebIO.DOM(:html, :p), Any[], Dict{Symbol, Any}(:attributes => Dict(\"data-bind\" => \"text: formatted_val\")))], Dict{Symbol, Any}(:className => \"interact-flex-row-right\"))], Dict{Symbol, Any}(:className => \"interact-flex-row interact-widget\")), Dict{String, Tuple{Observables.AbstractObservable, Union{Nothing, Bool}}}(\"changes\" => (Observable(0), nothing), \"index\" => (Observable(201), nothing)), Set{String}(), nothing, WebIO.Asset[WebIO.Asset(\"js\", \"knockout\", \"/home/dushya/.julia/packages/Knockout/HReiN/src/../assets/knockout.js\"), WebIO.Asset(\"js\", \"knockout_punches\", \"/home/dushya/.julia/packages/Knockout/HReiN/src/../assets/knockout_punches.js\"), WebIO.Asset(\"js\", nothing, \"/home/dushya/.julia/packages/InteractBase/LJXv3/src/../assets/all.js\"), WebIO.Asset(\"css\", nothing, \"/home/dushya/.julia/packages/InteractBase/LJXv3/src/../assets/style.css\"), WebIO.Asset(\"css\", nothing, \"/home/dushya/.julia/packages/Interact/PENUy/src/../assets/bulma_confined.min.css\")], Dict{Any, Any}(\"changes\" => Any[WebIO.JSString(\"(function (val){return (val!=this.model[\\\"changes\\\"]()) ? (this.valueFromJulia[\\\"changes\\\"]=true, this.model[\\\"changes\\\"](val)) : undefined})\")], \"index\" => Any[WebIO.JSString(\"(function (val){return (val!=this.model[\\\"index\\\"]()) ? (this.valueFromJulia[\\\"index\\\"]=true, this.model[\\\"index\\\"](val)) : undefined})\")]), WebIO.ConnectionPool(Channel{Any}(32), Set{WebIO.AbstractConnection}(), Base.GenericCondition{ReentrantLock}(Base.IntrusiveLinkedList{Task}(Task (runnable) @0x00007fe663f36270, Task (runnable) @0x00007fe663f36270), ReentrantLock(nothing, 0x00000000, 0x00, Base.GenericCondition{Base.Threads.SpinLock}(Base.IntrusiveLinkedList{Task}(nothing, nothing), Base.Threads.SpinLock(0)), (2, 140629373876608, 140629373876672)))), WebIO.JSString[WebIO.JSString(\"function () {\\n    var handler = (function (ko, koPunches) {\\n    ko.punches.enableAll();\\n    ko.bindingHandlers.numericValue = {\\n        init: function(element, valueAccessor, allBindings, data, context) {\\n            var stringified = ko.observable(ko.unwrap(valueAccessor()));\\n            stringified.subscribe(function(value) {\\n                var val = parseFloat(value);\\n                if (!isNaN(val)) {\\n                    valueAccessor()(val);\\n                }\\n            });\\n            valueAccessor().subscribe(function(value) {\\n                var str = JSON.stringify(value);\\n                if ((str == \\\"0\\\") && ([\\\"-0\\\", \\\"-0.\\\"].indexOf(stringified()) >= 0))\\n                     return;\\n                 if ([\\\"null\\\", \\\"\\\"].indexOf(str) >= 0)\\n                     return;\\n                stringified(str);\\n            });\\n            ko.applyBindingsToNode(\\n                element,\\n                {\\n                    value: stringified,\\n                    valueUpdate: allBindings.get('valueUpdate'),\\n                },\\n                context,\\n            );\\n        }\\n    };\\n    var json_data = {\\\"formatted_vals\\\":[\\\"1\\\",\\\"2\\\",\\\"3\\\",\\\"4\\\",\\\"5\\\",\\\"6\\\",\\\"7\\\",\\\"8\\\",\\\"9\\\",\\\"10\\\",\\\"11\\\",\\\"12\\\",\\\"13\\\",\\\"14\\\",\\\"15\\\",\\\"16\\\",\\\"17\\\",\\\"18\\\",\\\"19\\\",\\\"20\\\",\\\"21\\\",\\\"22\\\",\\\"23\\\",\\\"24\\\",\\\"25\\\",\\\"26\\\",\\\"27\\\",\\\"28\\\",\\\"29\\\",\\\"30\\\",\\\"31\\\",\\\"32\\\",\\\"33\\\",\\\"34\\\",\\\"35\\\",\\\"36\\\",\\\"37\\\",\\\"38\\\",\\\"39\\\",\\\"40\\\",\\\"41\\\",\\\"42\\\",\\\"43\\\",\\\"44\\\",\\\"45\\\",\\\"46\\\",\\\"47\\\",\\\"48\\\",\\\"49\\\",\\\"50\\\",\\\"51\\\",\\\"52\\\",\\\"53\\\",\\\"54\\\",\\\"55\\\",\\\"56\\\",\\\"57\\\",\\\"58\\\",\\\"59\\\",\\\"60\\\",\\\"61\\\",\\\"62\\\",\\\"63\\\",\\\"64\\\",\\\"65\\\",\\\"66\\\",\\\"67\\\",\\\"68\\\",\\\"69\\\",\\\"70\\\",\\\"71\\\",\\\"72\\\",\\\"73\\\",\\\"74\\\",\\\"75\\\",\\\"76\\\",\\\"77\\\",\\\"78\\\",\\\"79\\\",\\\"80\\\",\\\"81\\\",\\\"82\\\",\\\"83\\\",\\\"84\\\",\\\"85\\\",\\\"86\\\",\\\"87\\\",\\\"88\\\",\\\"89\\\",\\\"90\\\",\\\"91\\\",\\\"92\\\",\\\"93\\\",\\\"94\\\",\\\"95\\\",\\\"96\\\",\\\"97\\\",\\\"98\\\",\\\"99\\\",\\\"100\\\",\\\"101\\\",\\\"102\\\",\\\"103\\\",\\\"104\\\",\\\"105\\\",\\\"106\\\",\\\"107\\\",\\\"108\\\",\\\"109\\\",\\\"110\\\",\\\"111\\\",\\\"112\\\",\\\"113\\\",\\\"114\\\",\\\"115\\\",\\\"116\\\",\\\"117\\\",\\\"118\\\",\\\"119\\\",\\\"120\\\",\\\"121\\\",\\\"122\\\",\\\"123\\\",\\\"124\\\",\\\"125\\\",\\\"126\\\",\\\"127\\\",\\\"128\\\",\\\"129\\\",\\\"130\\\",\\\"131\\\",\\\"132\\\",\\\"133\\\",\\\"134\\\",\\\"135\\\",\\\"136\\\",\\\"137\\\",\\\"138\\\",\\\"139\\\",\\\"140\\\",\\\"141\\\",\\\"142\\\",\\\"143\\\",\\\"144\\\",\\\"145\\\",\\\"146\\\",\\\"147\\\",\\\"148\\\",\\\"149\\\",\\\"150\\\",\\\"151\\\",\\\"152\\\",\\\"153\\\",\\\"154\\\",\\\"155\\\",\\\"156\\\",\\\"157\\\",\\\"158\\\",\\\"159\\\",\\\"160\\\",\\\"161\\\",\\\"162\\\",\\\"163\\\",\\\"164\\\",\\\"165\\\",\\\"166\\\",\\\"167\\\",\\\"168\\\",\\\"169\\\",\\\"170\\\",\\\"171\\\",\\\"172\\\",\\\"173\\\",\\\"174\\\",\\\"175\\\",\\\"176\\\",\\\"177\\\",\\\"178\\\",\\\"179\\\",\\\"180\\\",\\\"181\\\",\\\"182\\\",\\\"183\\\",\\\"184\\\",\\\"185\\\",\\\"186\\\",\\\"187\\\",\\\"188\\\",\\\"189\\\",\\\"190\\\",\\\"191\\\",\\\"192\\\",\\\"193\\\",\\\"194\\\",\\\"195\\\",\\\"196\\\",\\\"197\\\",\\\"198\\\",\\\"199\\\",\\\"200\\\",\\\"201\\\",\\\"202\\\",\\\"203\\\",\\\"204\\\",\\\"205\\\",\\\"206\\\",\\\"207\\\",\\\"208\\\",\\\"209\\\",\\\"210\\\",\\\"211\\\",\\\"212\\\",\\\"213\\\",\\\"214\\\",\\\"215\\\",\\\"216\\\",\\\"217\\\",\\\"218\\\",\\\"219\\\",\\\"220\\\",\\\"221\\\",\\\"222\\\",\\\"223\\\",\\\"224\\\",\\\"225\\\",\\\"226\\\",\\\"227\\\",\\\"228\\\",\\\"229\\\",\\\"230\\\",\\\"231\\\",\\\"232\\\",\\\"233\\\",\\\"234\\\",\\\"235\\\",\\\"236\\\",\\\"237\\\",\\\"238\\\",\\\"239\\\",\\\"240\\\",\\\"241\\\",\\\"242\\\",\\\"243\\\",\\\"244\\\",\\\"245\\\",\\\"246\\\",\\\"247\\\",\\\"248\\\",\\\"249\\\",\\\"250\\\",\\\"251\\\",\\\"252\\\",\\\"253\\\",\\\"254\\\",\\\"255\\\",\\\"256\\\",\\\"257\\\",\\\"258\\\",\\\"259\\\",\\\"260\\\",\\\"261\\\",\\\"262\\\",\\\"263\\\",\\\"264\\\",\\\"265\\\",\\\"266\\\",\\\"267\\\",\\\"268\\\",\\\"269\\\",\\\"270\\\",\\\"271\\\",\\\"272\\\",\\\"273\\\",\\\"274\\\",\\\"275\\\",\\\"276\\\",\\\"277\\\",\\\"278\\\",\\\"279\\\",\\\"280\\\",\\\"281\\\",\\\"282\\\",\\\"283\\\",\\\"284\\\",\\\"285\\\",\\\"286\\\",\\\"287\\\",\\\"288\\\",\\\"289\\\",\\\"290\\\",\\\"291\\\",\\\"292\\\",\\\"293\\\",\\\"294\\\",\\\"295\\\",\\\"296\\\",\\\"297\\\",\\\"298\\\",\\\"299\\\",\\\"300\\\",\\\"301\\\",\\\"302\\\",\\\"303\\\",\\\"304\\\",\\\"305\\\",\\\"306\\\",\\\"307\\\",\\\"308\\\",\\\"309\\\",\\\"310\\\",\\\"311\\\",\\\"312\\\",\\\"313\\\",\\\"314\\\",\\\"315\\\",\\\"316\\\",\\\"317\\\",\\\"318\\\",\\\"319\\\",\\\"320\\\",\\\"321\\\",\\\"322\\\",\\\"323\\\",\\\"324\\\",\\\"325\\\",\\\"326\\\",\\\"327\\\",\\\"328\\\",\\\"329\\\",\\\"330\\\",\\\"331\\\",\\\"332\\\",\\\"333\\\",\\\"334\\\",\\\"335\\\",\\\"336\\\",\\\"337\\\",\\\"338\\\",\\\"339\\\",\\\"340\\\",\\\"341\\\",\\\"342\\\",\\\"343\\\",\\\"344\\\",\\\"345\\\",\\\"346\\\",\\\"347\\\",\\\"348\\\",\\\"349\\\",\\\"350\\\",\\\"351\\\",\\\"352\\\",\\\"353\\\",\\\"354\\\",\\\"355\\\",\\\"356\\\",\\\"357\\\",\\\"358\\\",\\\"359\\\",\\\"360\\\",\\\"361\\\",\\\"362\\\",\\\"363\\\",\\\"364\\\",\\\"365\\\",\\\"366\\\",\\\"367\\\",\\\"368\\\",\\\"369\\\",\\\"370\\\",\\\"371\\\",\\\"372\\\",\\\"373\\\",\\\"374\\\",\\\"375\\\",\\\"376\\\",\\\"377\\\",\\\"378\\\",\\\"379\\\",\\\"380\\\",\\\"381\\\",\\\"382\\\",\\\"383\\\",\\\"384\\\",\\\"385\\\",\\\"386\\\",\\\"387\\\",\\\"388\\\",\\\"389\\\",\\\"390\\\",\\\"391\\\",\\\"392\\\",\\\"393\\\",\\\"394\\\",\\\"395\\\",\\\"396\\\",\\\"397\\\",\\\"398\\\",\\\"399\\\",\\\"400\\\",\\\"401\\\"],\\\"changes\\\":WebIO.getval({\\\"name\\\":\\\"changes\\\",\\\"scope\\\":\\\"2828802018653336131\\\",\\\"id\\\":\\\"14931214141451821779\\\",\\\"type\\\":\\\"observable\\\"}),\\\"index\\\":WebIO.getval({\\\"name\\\":\\\"index\\\",\\\"scope\\\":\\\"2828802018653336131\\\",\\\"id\\\":\\\"3617184661110744201\\\",\\\"type\\\":\\\"observable\\\"})};\\n    var self = this;\\n    function AppViewModel() {\\n        for (var key in json_data) {\\n            var el = json_data[key];\\n            this[key] = Array.isArray(el) ? ko.observableArray(el) : ko.observable(el);\\n        }\\n        \\n        [this[\\\"formatted_val\\\"]=ko.computed(    function(){\\n        return this.formatted_vals()[parseInt(this.index())-(1)];\\n    }\\n,this)]\\n        [this[\\\"changes\\\"].subscribe((function (val){!(this.valueFromJulia[\\\"changes\\\"]) ? (WebIO.setval({\\\"name\\\":\\\"changes\\\",\\\"scope\\\":\\\"2828802018653336131\\\",\\\"id\\\":\\\"14931214141451821779\\\",\\\"type\\\":\\\"observable\\\"},val)) : undefined; return this.valueFromJulia[\\\"changes\\\"]=false}),self),this[\\\"index\\\"].subscribe((function (val){!(this.valueFromJulia[\\\"index\\\"]) ? (WebIO.setval({\\\"name\\\":\\\"index\\\",\\\"scope\\\":\\\"2828802018653336131\\\",\\\"id\\\":\\\"3617184661110744201\\\",\\\"type\\\":\\\"observable\\\"},val)) : undefined; return this.valueFromJulia[\\\"index\\\"]=false}),self)]\\n        \\n    }\\n    self.model = new AppViewModel();\\n    self.valueFromJulia = {};\\n    for (var key in json_data) {\\n        self.valueFromJulia[key] = false;\\n    }\\n    ko.applyBindings(self.model, self.dom);\\n}\\n);\\n    (WebIO.importBlock({\\\"data\\\":[{\\\"name\\\":\\\"knockout\\\",\\\"type\\\":\\\"js\\\",\\\"url\\\":\\\"/assetserver/727383f2a47bd31570b7da84eee7b022dd6d7c78-knockout.js\\\"},{\\\"name\\\":\\\"knockout_punches\\\",\\\"type\\\":\\\"js\\\",\\\"url\\\":\\\"/assetserver/382b41b3b1bd9f26f75861d360bad7f8beea211f-knockout_punches.js\\\"}],\\\"type\\\":\\\"async_block\\\"})).then((imports) => handler.apply(this, imports));\\n}\\n\")])], Dict{Symbol, Any}(:className => \"field interact-widget\")), WebIO.Node{WebIO.DOM}(WebIO.DOM(:html, :div), Any[WebIO.Scope(WebIO.Node{WebIO.DOM}(WebIO.DOM(:html, :div), Any[WebIO.Node{WebIO.DOM}(WebIO.DOM(:html, :div), Any[WebIO.Node{WebIO.DOM}(WebIO.DOM(:html, :label), Any[\"scale\"], Dict{Symbol, Any}(:className => \"interact \", :style => Dict{Any, Any}(:padding => \"5px 10px 0px 10px\")))], Dict{Symbol, Any}(:className => \"interact-flex-row-left\")), WebIO.Node{WebIO.DOM}(WebIO.DOM(:html, :div), Any[WebIO.Node{WebIO.DOM}(WebIO.DOM(:html, :input), Any[], Dict{Symbol, Any}(:max => 20, :min => 1, :attributes => Dict{Any, Any}(:type => \"range\", Symbol(\"data-bind\") => \"numericValue: index, valueUpdate: 'input', event: {change: function (){this.changes(this.changes()+1)}}\", \"orient\" => \"horizontal\"), :step => 1, :className => \"slider slider is-fullwidth\", :style => Dict{Any, Any}()))], Dict{Symbol, Any}(:className => \"interact-flex-row-center\")), WebIO.Node{WebIO.DOM}(WebIO.DOM(:html, :div), Any[WebIO.Node{WebIO.DOM}(WebIO.DOM(:html, :p), Any[], Dict{Symbol, Any}(:attributes => Dict(\"data-bind\" => \"text: formatted_val\")))], Dict{Symbol, Any}(:className => \"interact-flex-row-right\"))], Dict{Symbol, Any}(:className => \"interact-flex-row interact-widget\")), Dict{String, Tuple{Observables.AbstractObservable, Union{Nothing, Bool}}}(\"changes\" => (Observable(0), nothing), \"index\" => (Observable{Any}(10), nothing)), Set{String}(), nothing, WebIO.Asset[WebIO.Asset(\"js\", \"knockout\", \"/home/dushya/.julia/packages/Knockout/HReiN/src/../assets/knockout.js\"), WebIO.Asset(\"js\", \"knockout_punches\", \"/home/dushya/.julia/packages/Knockout/HReiN/src/../assets/knockout_punches.js\"), WebIO.Asset(\"js\", nothing, \"/home/dushya/.julia/packages/InteractBase/LJXv3/src/../assets/all.js\"), WebIO.Asset(\"css\", nothing, \"/home/dushya/.julia/packages/InteractBase/LJXv3/src/../assets/style.css\"), WebIO.Asset(\"css\", nothing, \"/home/dushya/.julia/packages/Interact/PENUy/src/../assets/bulma_confined.min.css\")], Dict{Any, Any}(\"changes\" => Any[WebIO.JSString(\"(function (val){return (val!=this.model[\\\"changes\\\"]()) ? (this.valueFromJulia[\\\"changes\\\"]=true, this.model[\\\"changes\\\"](val)) : undefined})\")], \"index\" => Any[WebIO.JSString(\"(function (val){return (val!=this.model[\\\"index\\\"]()) ? (this.valueFromJulia[\\\"index\\\"]=true, this.model[\\\"index\\\"](val)) : undefined})\")]), WebIO.ConnectionPool(Channel{Any}(32), Set{WebIO.AbstractConnection}(), Base.GenericCondition{ReentrantLock}(Base.IntrusiveLinkedList{Task}(Task (runnable) @0x00007fe6633d1460, Task (runnable) @0x00007fe6633d1460), ReentrantLock(nothing, 0x00000000, 0x00, Base.GenericCondition{Base.Threads.SpinLock}(Base.IntrusiveLinkedList{Task}(nothing, nothing), Base.Threads.SpinLock(0)), (8, 140629325324640, 0)))), WebIO.JSString[WebIO.JSString(\"function () {\\n    var handler = (function (ko, koPunches) {\\n    ko.punches.enableAll();\\n    ko.bindingHandlers.numericValue = {\\n        init: function(element, valueAccessor, allBindings, data, context) {\\n            var stringified = ko.observable(ko.unwrap(valueAccessor()));\\n            stringified.subscribe(function(value) {\\n                var val = parseFloat(value);\\n                if (!isNaN(val)) {\\n                    valueAccessor()(val);\\n                }\\n            });\\n            valueAccessor().subscribe(function(value) {\\n                var str = JSON.stringify(value);\\n                if ((str == \\\"0\\\") && ([\\\"-0\\\", \\\"-0.\\\"].indexOf(stringified()) >= 0))\\n                     return;\\n                 if ([\\\"null\\\", \\\"\\\"].indexOf(str) >= 0)\\n                     return;\\n                stringified(str);\\n            });\\n            ko.applyBindingsToNode(\\n                element,\\n                {\\n                    value: stringified,\\n                    valueUpdate: allBindings.get('valueUpdate'),\\n                },\\n                context,\\n            );\\n        }\\n    };\\n    var json_data = {\\\"formatted_vals\\\":[\\\"0.1\\\",\\\"0.2\\\",\\\"0.3\\\",\\\"0.4\\\",\\\"0.5\\\",\\\"0.6\\\",\\\"0.7\\\",\\\"0.8\\\",\\\"0.9\\\",\\\"1.0\\\",\\\"1.1\\\",\\\"1.2\\\",\\\"1.3\\\",\\\"1.4\\\",\\\"1.5\\\",\\\"1.6\\\",\\\"1.7\\\",\\\"1.8\\\",\\\"1.9\\\",\\\"2.0\\\"],\\\"changes\\\":WebIO.getval({\\\"name\\\":\\\"changes\\\",\\\"scope\\\":\\\"16498735700453560803\\\",\\\"id\\\":\\\"15783053459124127704\\\",\\\"type\\\":\\\"observable\\\"}),\\\"index\\\":WebIO.getval({\\\"name\\\":\\\"index\\\",\\\"scope\\\":\\\"16498735700453560803\\\",\\\"id\\\":\\\"3483148988098115375\\\",\\\"type\\\":\\\"observable\\\"})};\\n    var self = this;\\n    function AppViewModel() {\\n        for (var key in json_data) {\\n            var el = json_data[key];\\n            this[key] = Array.isArray(el) ? ko.observableArray(el) : ko.observable(el);\\n        }\\n        \\n        [this[\\\"formatted_val\\\"]=ko.computed(    function(){\\n        return this.formatted_vals()[parseInt(this.index())-(1)];\\n    }\\n,this)]\\n        [this[\\\"changes\\\"].subscribe((function (val){!(this.valueFromJulia[\\\"changes\\\"]) ? (WebIO.setval({\\\"name\\\":\\\"changes\\\",\\\"scope\\\":\\\"16498735700453560803\\\",\\\"id\\\":\\\"15783053459124127704\\\",\\\"type\\\":\\\"observable\\\"},val)) : undefined; return this.valueFromJulia[\\\"changes\\\"]=false}),self),this[\\\"index\\\"].subscribe((function (val){!(this.valueFromJulia[\\\"index\\\"]) ? (WebIO.setval({\\\"name\\\":\\\"index\\\",\\\"scope\\\":\\\"16498735700453560803\\\",\\\"id\\\":\\\"3483148988098115375\\\",\\\"type\\\":\\\"observable\\\"},val)) : undefined; return this.valueFromJulia[\\\"index\\\"]=false}),self)]\\n        \\n    }\\n    self.model = new AppViewModel();\\n    self.valueFromJulia = {};\\n    for (var key in json_data) {\\n        self.valueFromJulia[key] = false;\\n    }\\n    ko.applyBindings(self.model, self.dom);\\n}\\n);\\n    (WebIO.importBlock({\\\"data\\\":[{\\\"name\\\":\\\"knockout\\\",\\\"type\\\":\\\"js\\\",\\\"url\\\":\\\"/assetserver/727383f2a47bd31570b7da84eee7b022dd6d7c78-knockout.js\\\"},{\\\"name\\\":\\\"knockout_punches\\\",\\\"type\\\":\\\"js\\\",\\\"url\\\":\\\"/assetserver/382b41b3b1bd9f26f75861d360bad7f8beea211f-knockout_punches.js\\\"}],\\\"type\\\":\\\"async_block\\\"})).then((imports) => handler.apply(this, imports));\\n}\\n\")])], Dict{Symbol, Any}(:className => \"field interact-widget\")), WebIO.Node{WebIO.DOM}(WebIO.DOM(:html, :div), Any[WebIO.Node{WebIO.DOM}(WebIO.DOM(:html, :div), Any[WebIO.Scope(WebIO.Node{WebIO.DOM}(WebIO.DOM(:html, :div), Any[], Dict{Symbol, Any}(:id => \"container\")), Dict{String, Tuple{Observables.AbstractObservable, Union{Nothing, Bool}}}(\"value\" => (Observable(\"\\\\;\\\\;\"), nothing)), Set{String}(), nothing, WebIO.Asset[WebIO.Asset(\"js\", nothing, \"/home/dushya/.julia/packages/InteractBase/LJXv3/src/../assets/katex.min.js\"), WebIO.Asset(\"css\", nothing, \"/home/dushya/.julia/packages/InteractBase/LJXv3/src/../assets/katex.min.css\")], Dict{Any, Any}(\"value\" => Any[WebIO.JSString(\"(function (txt){return this.k.render(txt,this.container)})\")]), WebIO.ConnectionPool(Channel{Any}(32), Set{WebIO.AbstractConnection}(), Base.GenericCondition{ReentrantLock}(Base.IntrusiveLinkedList{Task}(Task (runnable) @0x00007fe69e663530, Task (runnable) @0x00007fe69e663530), ReentrantLock(nothing, 0x00000000, 0x00, Base.GenericCondition{Base.Threads.SpinLock}(Base.IntrusiveLinkedList{Task}(nothing, nothing), Base.Threads.SpinLock(0)), (1, 140629230223456, 140629323382816)))), WebIO.JSString[WebIO.JSString(\"function () {\\n    var handler = ((function (k){this.k=k; this.container=this.dom.querySelector(\\\"#container\\\"); return k.render(\\\"\\\\\\\\;\\\\\\\\;\\\",this.container)}));\\n    (WebIO.importBlock({\\\"data\\\":[{\\\"name\\\":null,\\\"type\\\":\\\"js\\\",\\\"url\\\":\\\"/assetserver/dd22ed1bf1896c2748f3fe616ce0b838adc895c1-katex.min.js\\\"},{\\\"name\\\":null,\\\"type\\\":\\\"css\\\",\\\"url\\\":\\\"/assetserver/46517a424aa5e6cffc1360d7e0848b601c584ee3-katex.min.css\\\"}],\\\"type\\\":\\\"async_block\\\"})).then((imports) => handler.apply(this, imports));\\n}\\n\")])], Dict{Symbol, Any}(:className => \"interact-widget\")), WebIO.Node{WebIO.DOM}(WebIO.DOM(:html, :div), Any[WebIO.Scope(WebIO.Node{WebIO.DOM}(WebIO.DOM(:html, :button), Any[\"run\"], Dict{Symbol, Any}(:attributes => Dict{Any, Any}(\"data-bind\" => \"click: function (){this.clicks(this.clicks()+1)}, css: {'is-loading' : loading}\"), :className => \"is-medium button is-primary\", :style => Dict{String, Any}())), Dict{String, Tuple{Observables.AbstractObservable, Union{Nothing, Bool}}}(\"loading\" => (Observable(false), nothing), \"clicks\" => (Observable(0), nothing)), Set{String}(), nothing, WebIO.Asset[WebIO.Asset(\"js\", \"knockout\", \"/home/dushya/.julia/packages/Knockout/HReiN/src/../assets/knockout.js\"), WebIO.Asset(\"js\", \"knockout_punches\", \"/home/dushya/.julia/packages/Knockout/HReiN/src/../assets/knockout_punches.js\"), WebIO.Asset(\"js\", nothing, \"/home/dushya/.julia/packages/InteractBase/LJXv3/src/../assets/all.js\"), WebIO.Asset(\"css\", nothing, \"/home/dushya/.julia/packages/InteractBase/LJXv3/src/../assets/style.css\"), WebIO.Asset(\"css\", nothing, \"/home/dushya/.julia/packages/Interact/PENUy/src/../assets/bulma_confined.min.css\")], Dict{Any, Any}(\"loading\" => Any[WebIO.JSString(\"(function (val){return (val!=this.model[\\\"loading\\\"]()) ? (this.valueFromJulia[\\\"loading\\\"]=true, this.model[\\\"loading\\\"](val)) : undefined})\")], \"clicks\" => Any[WebIO.JSString(\"(function (val){return (val!=this.model[\\\"clicks\\\"]()) ? (this.valueFromJulia[\\\"clicks\\\"]=true, this.model[\\\"clicks\\\"](val)) : undefined})\")]), WebIO.ConnectionPool(Channel{Any}(32), Set{WebIO.AbstractConnection}(), Base.GenericCondition{ReentrantLock}(Base.IntrusiveLinkedList{Task}(Task (runnable) @0x00007fe6d196f530, Task (runnable) @0x00007fe6d196f530), ReentrantLock(nothing, 0x00000000, 0x00, Base.GenericCondition{Base.Threads.SpinLock}(Base.IntrusiveLinkedList{Task}(nothing, nothing), Base.Threads.SpinLock(0)), (0, 140625819205633, 140629373876720)))), WebIO.JSString[WebIO.JSString(\"function () {\\n    var handler = (function (ko, koPunches) {\\n    ko.punches.enableAll();\\n    ko.bindingHandlers.numericValue = {\\n        init: function(element, valueAccessor, allBindings, data, context) {\\n            var stringified = ko.observable(ko.unwrap(valueAccessor()));\\n            stringified.subscribe(function(value) {\\n                var val = parseFloat(value);\\n                if (!isNaN(val)) {\\n                    valueAccessor()(val);\\n                }\\n            });\\n            valueAccessor().subscribe(function(value) {\\n                var str = JSON.stringify(value);\\n                if ((str == \\\"0\\\") && ([\\\"-0\\\", \\\"-0.\\\"].indexOf(stringified()) >= 0))\\n                     return;\\n                 if ([\\\"null\\\", \\\"\\\"].indexOf(str) >= 0)\\n                     return;\\n                stringified(str);\\n            });\\n            ko.applyBindingsToNode(\\n                element,\\n                {\\n                    value: stringified,\\n                    valueUpdate: allBindings.get('valueUpdate'),\\n                },\\n                context,\\n            );\\n        }\\n    };\\n    var json_data = {\\\"loading\\\":WebIO.getval({\\\"name\\\":\\\"loading\\\",\\\"scope\\\":\\\"2028339394068314505\\\",\\\"id\\\":\\\"3220907456855557412\\\",\\\"type\\\":\\\"observable\\\"}),\\\"clicks\\\":WebIO.getval({\\\"name\\\":\\\"clicks\\\",\\\"scope\\\":\\\"2028339394068314505\\\",\\\"id\\\":\\\"16464033542064102078\\\",\\\"type\\\":\\\"observable\\\"})};\\n    var self = this;\\n    function AppViewModel() {\\n        for (var key in json_data) {\\n            var el = json_data[key];\\n            this[key] = Array.isArray(el) ? ko.observableArray(el) : ko.observable(el);\\n        }\\n        \\n        \\n        [this[\\\"loading\\\"].subscribe((function (val){!(this.valueFromJulia[\\\"loading\\\"]) ? (WebIO.setval({\\\"name\\\":\\\"loading\\\",\\\"scope\\\":\\\"2028339394068314505\\\",\\\"id\\\":\\\"3220907456855557412\\\",\\\"type\\\":\\\"observable\\\"},val)) : undefined; return this.valueFromJulia[\\\"loading\\\"]=false}),self),this[\\\"clicks\\\"].subscribe((function (val){!(this.valueFromJulia[\\\"clicks\\\"]) ? (WebIO.setval({\\\"name\\\":\\\"clicks\\\",\\\"scope\\\":\\\"2028339394068314505\\\",\\\"id\\\":\\\"16464033542064102078\\\",\\\"type\\\":\\\"observable\\\"},val)) : undefined; return this.valueFromJulia[\\\"clicks\\\"]=false}),self)]\\n        \\n    }\\n    self.model = new AppViewModel();\\n    self.valueFromJulia = {};\\n    for (var key in json_data) {\\n        self.valueFromJulia[key] = false;\\n    }\\n    ko.applyBindings(self.model, self.dom);\\n}\\n);\\n    (WebIO.importBlock({\\\"data\\\":[{\\\"name\\\":\\\"knockout\\\",\\\"type\\\":\\\"js\\\",\\\"url\\\":\\\"/assetserver/727383f2a47bd31570b7da84eee7b022dd6d7c78-knockout.js\\\"},{\\\"name\\\":\\\"knockout_punches\\\",\\\"type\\\":\\\"js\\\",\\\"url\\\":\\\"/assetserver/382b41b3b1bd9f26f75861d360bad7f8beea211f-knockout_punches.js\\\"}],\\\"type\\\":\\\"async_block\\\"})).then((imports) => handler.apply(this, imports));\\n}\\n\")])], Dict{Symbol, Any}(:className => \"field interact-widget\")), WebIO.Node{WebIO.DOM}(WebIO.DOM(:html, :div), Any[WebIO.Scope(WebIO.Node{WebIO.DOM}(WebIO.DOM(:html, :div), Any[], Dict{Symbol, Any}(:id => \"container\")), Dict{String, Tuple{Observables.AbstractObservable, Union{Nothing, Bool}}}(\"value\" => (Observable(\"\\\\;\\\\;\"), nothing)), Set{String}(), nothing, WebIO.Asset[WebIO.Asset(\"js\", nothing, \"/home/dushya/.julia/packages/InteractBase/LJXv3/src/../assets/katex.min.js\"), WebIO.Asset(\"css\", nothing, \"/home/dushya/.julia/packages/InteractBase/LJXv3/src/../assets/katex.min.css\")], Dict{Any, Any}(\"value\" => Any[WebIO.JSString(\"(function (txt){return this.k.render(txt,this.container)})\")]), WebIO.ConnectionPool(Channel{Any}(32), Set{WebIO.AbstractConnection}(), Base.GenericCondition{ReentrantLock}(Base.IntrusiveLinkedList{Task}(Task (runnable) @0x00007fe69e663530, Task (runnable) @0x00007fe69e663530), ReentrantLock(nothing, 0x00000000, 0x00, Base.GenericCondition{Base.Threads.SpinLock}(Base.IntrusiveLinkedList{Task}(nothing, nothing), Base.Threads.SpinLock(0)), (1, 140629230223456, 140629323382816)))), WebIO.JSString[WebIO.JSString(\"function () {\\n    var handler = ((function (k){this.k=k; this.container=this.dom.querySelector(\\\"#container\\\"); return k.render(\\\"\\\\\\\\;\\\\\\\\;\\\",this.container)}));\\n    (WebIO.importBlock({\\\"data\\\":[{\\\"name\\\":null,\\\"type\\\":\\\"js\\\",\\\"url\\\":\\\"/assetserver/dd22ed1bf1896c2748f3fe616ce0b838adc895c1-katex.min.js\\\"},{\\\"name\\\":null,\\\"type\\\":\\\"css\\\",\\\"url\\\":\\\"/assetserver/46517a424aa5e6cffc1360d7e0848b601c584ee3-katex.min.css\\\"}],\\\"type\\\":\\\"async_block\\\"})).then((imports) => handler.apply(this, imports));\\n}\\n\")])], Dict{Symbol, Any}(:className => \"interact-widget\")), WebIO.Node{WebIO.DOM}(WebIO.DOM(:html, :div), Any[WebIO.Scope(WebIO.Node{WebIO.DOM}(WebIO.DOM(:html, :button), Any[\"stop\"], Dict{Symbol, Any}(:attributes => Dict{Any, Any}(\"data-bind\" => \"click: function (){this.clicks(this.clicks()+1)}, css: {'is-loading' : loading}\"), :className => \"is-medium button is-primary\", :style => Dict{String, Any}())), Dict{String, Tuple{Observables.AbstractObservable, Union{Nothing, Bool}}}(\"loading\" => (Observable(false), nothing), \"clicks\" => (Observable(0), nothing)), Set{String}(), nothing, WebIO.Asset[WebIO.Asset(\"js\", \"knockout\", \"/home/dushya/.julia/packages/Knockout/HReiN/src/../assets/knockout.js\"), WebIO.Asset(\"js\", \"knockout_punches\", \"/home/dushya/.julia/packages/Knockout/HReiN/src/../assets/knockout_punches.js\"), WebIO.Asset(\"js\", nothing, \"/home/dushya/.julia/packages/InteractBase/LJXv3/src/../assets/all.js\"), WebIO.Asset(\"css\", nothing, \"/home/dushya/.julia/packages/InteractBase/LJXv3/src/../assets/style.css\"), WebIO.Asset(\"css\", nothing, \"/home/dushya/.julia/packages/Interact/PENUy/src/../assets/bulma_confined.min.css\")], Dict{Any, Any}(\"loading\" => Any[WebIO.JSString(\"(function (val){return (val!=this.model[\\\"loading\\\"]()) ? (this.valueFromJulia[\\\"loading\\\"]=true, this.model[\\\"loading\\\"](val)) : undefined})\")], \"clicks\" => Any[WebIO.JSString(\"(function (val){return (val!=this.model[\\\"clicks\\\"]()) ? (this.valueFromJulia[\\\"clicks\\\"]=true, this.model[\\\"clicks\\\"](val)) : undefined})\")]), WebIO.ConnectionPool(Channel{Any}(32), Set{WebIO.AbstractConnection}(), Base.GenericCondition{ReentrantLock}(Base.IntrusiveLinkedList{Task}(Task (runnable) @0x00007fe6d331b3a0, Task (runnable) @0x00007fe6d331b3a0), ReentrantLock(nothing, 0x00000000, 0x00, Base.GenericCondition{Base.Threads.SpinLock}(Base.IntrusiveLinkedList{Task}(nothing, nothing), Base.Threads.SpinLock(0)), (6, 6303856, 140629230294080)))), WebIO.JSString[WebIO.JSString(\"function () {\\n    var handler = (function (ko, koPunches) {\\n    ko.punches.enableAll();\\n    ko.bindingHandlers.numericValue = {\\n        init: function(element, valueAccessor, allBindings, data, context) {\\n            var stringified = ko.observable(ko.unwrap(valueAccessor()));\\n            stringified.subscribe(function(value) {\\n                var val = parseFloat(value);\\n                if (!isNaN(val)) {\\n                    valueAccessor()(val);\\n                }\\n            });\\n            valueAccessor().subscribe(function(value) {\\n                var str = JSON.stringify(value);\\n                if ((str == \\\"0\\\") && ([\\\"-0\\\", \\\"-0.\\\"].indexOf(stringified()) >= 0))\\n                     return;\\n                 if ([\\\"null\\\", \\\"\\\"].indexOf(str) >= 0)\\n                     return;\\n                stringified(str);\\n            });\\n            ko.applyBindingsToNode(\\n                element,\\n                {\\n                    value: stringified,\\n                    valueUpdate: allBindings.get('valueUpdate'),\\n                },\\n                context,\\n            );\\n        }\\n    };\\n    var json_data = {\\\"loading\\\":WebIO.getval({\\\"name\\\":\\\"loading\\\",\\\"scope\\\":\\\"16690436472563897096\\\",\\\"id\\\":\\\"3747319973401009926\\\",\\\"type\\\":\\\"observable\\\"}),\\\"clicks\\\":WebIO.getval({\\\"name\\\":\\\"clicks\\\",\\\"scope\\\":\\\"16690436472563897096\\\",\\\"id\\\":\\\"12279917443100525080\\\",\\\"type\\\":\\\"observable\\\"})};\\n    var self = this;\\n    function AppViewModel() {\\n        for (var key in json_data) {\\n            var el = json_data[key];\\n            this[key] = Array.isArray(el) ? ko.observableArray(el) : ko.observable(el);\\n        }\\n        \\n        \\n        [this[\\\"loading\\\"].subscribe((function (val){!(this.valueFromJulia[\\\"loading\\\"]) ? (WebIO.setval({\\\"name\\\":\\\"loading\\\",\\\"scope\\\":\\\"16690436472563897096\\\",\\\"id\\\":\\\"3747319973401009926\\\",\\\"type\\\":\\\"observable\\\"},val)) : undefined; return this.valueFromJulia[\\\"loading\\\"]=false}),self),this[\\\"clicks\\\"].subscribe((function (val){!(this.valueFromJulia[\\\"clicks\\\"]) ? (WebIO.setval({\\\"name\\\":\\\"clicks\\\",\\\"scope\\\":\\\"16690436472563897096\\\",\\\"id\\\":\\\"12279917443100525080\\\",\\\"type\\\":\\\"observable\\\"},val)) : undefined; return this.valueFromJulia[\\\"clicks\\\"]=false}),self)]\\n        \\n    }\\n    self.model = new AppViewModel();\\n    self.valueFromJulia = {};\\n    for (var key in json_data) {\\n        self.valueFromJulia[key] = false;\\n    }\\n    ko.applyBindings(self.model, self.dom);\\n}\\n);\\n    (WebIO.importBlock({\\\"data\\\":[{\\\"name\\\":\\\"knockout\\\",\\\"type\\\":\\\"js\\\",\\\"url\\\":\\\"/assetserver/727383f2a47bd31570b7da84eee7b022dd6d7c78-knockout.js\\\"},{\\\"name\\\":\\\"knockout_punches\\\",\\\"type\\\":\\\"js\\\",\\\"url\\\":\\\"/assetserver/382b41b3b1bd9f26f75861d360bad7f8beea211f-knockout_punches.js\\\"}],\\\"type\\\":\\\"async_block\\\"})).then((imports) => handler.apply(this, imports));\\n}\\n\")])], Dict{Symbol, Any}(:className => \"field interact-widget\")), WebIO.Node{WebIO.DOM}(WebIO.DOM(:html, :div), Any[WebIO.Scope(WebIO.Node{WebIO.DOM}(WebIO.DOM(:html, :div), Any[], Dict{Symbol, Any}(:id => \"container\")), Dict{String, Tuple{Observables.AbstractObservable, Union{Nothing, Bool}}}(\"value\" => (Observable(\"\\\\;\\\\;\"), nothing)), Set{String}(), nothing, WebIO.Asset[WebIO.Asset(\"js\", nothing, \"/home/dushya/.julia/packages/InteractBase/LJXv3/src/../assets/katex.min.js\"), WebIO.Asset(\"css\", nothing, \"/home/dushya/.julia/packages/InteractBase/LJXv3/src/../assets/katex.min.css\")], Dict{Any, Any}(\"value\" => Any[WebIO.JSString(\"(function (txt){return this.k.render(txt,this.container)})\")]), WebIO.ConnectionPool(Channel{Any}(32), Set{WebIO.AbstractConnection}(), Base.GenericCondition{ReentrantLock}(Base.IntrusiveLinkedList{Task}(Task (runnable) @0x00007fe69e663530, Task (runnable) @0x00007fe69e663530), ReentrantLock(nothing, 0x00000000, 0x00, Base.GenericCondition{Base.Threads.SpinLock}(Base.IntrusiveLinkedList{Task}(nothing, nothing), Base.Threads.SpinLock(0)), (1, 140629230223456, 140629323382816)))), WebIO.JSString[WebIO.JSString(\"function () {\\n    var handler = ((function (k){this.k=k; this.container=this.dom.querySelector(\\\"#container\\\"); return k.render(\\\"\\\\\\\\;\\\\\\\\;\\\",this.container)}));\\n    (WebIO.importBlock({\\\"data\\\":[{\\\"name\\\":null,\\\"type\\\":\\\"js\\\",\\\"url\\\":\\\"/assetserver/dd22ed1bf1896c2748f3fe616ce0b838adc895c1-katex.min.js\\\"},{\\\"name\\\":null,\\\"type\\\":\\\"css\\\",\\\"url\\\":\\\"/assetserver/46517a424aa5e6cffc1360d7e0848b601c584ee3-katex.min.css\\\"}],\\\"type\\\":\\\"async_block\\\"})).then((imports) => handler.apply(this, imports));\\n}\\n\")])], Dict{Symbol, Any}(:className => \"interact-widget\")), WebIO.Node{WebIO.DOM}(WebIO.DOM(:html, :div), Any[WebIO.Scope(WebIO.Node{WebIO.DOM}(WebIO.DOM(:html, :button), Any[\"save\"], Dict{Symbol, Any}(:attributes => Dict{Any, Any}(\"data-bind\" => \"click: function (){this.clicks(this.clicks()+1)}, css: {'is-loading' : loading}\"), :className => \"is-medium button is-primary\", :style => Dict{String, Any}())), Dict{String, Tuple{Observables.AbstractObservable, Union{Nothing, Bool}}}(\"loading\" => (Observable(false), nothing), \"clicks\" => (Observable(0), nothing)), Set{String}(), nothing, WebIO.Asset[WebIO.Asset(\"js\", \"knockout\", \"/home/dushya/.julia/packages/Knockout/HReiN/src/../assets/knockout.js\"), WebIO.Asset(\"js\", \"knockout_punches\", \"/home/dushya/.julia/packages/Knockout/HReiN/src/../assets/knockout_punches.js\"), WebIO.Asset(\"js\", nothing, \"/home/dushya/.julia/packages/InteractBase/LJXv3/src/../assets/all.js\"), WebIO.Asset(\"css\", nothing, \"/home/dushya/.julia/packages/InteractBase/LJXv3/src/../assets/style.css\"), WebIO.Asset(\"css\", nothing, \"/home/dushya/.julia/packages/Interact/PENUy/src/../assets/bulma_confined.min.css\")], Dict{Any, Any}(\"loading\" => Any[WebIO.JSString(\"(function (val){return (val!=this.model[\\\"loading\\\"]()) ? (this.valueFromJulia[\\\"loading\\\"]=true, this.model[\\\"loading\\\"](val)) : undefined})\")], \"clicks\" => Any[WebIO.JSString(\"(function (val){return (val!=this.model[\\\"clicks\\\"]()) ? (this.valueFromJulia[\\\"clicks\\\"]=true, this.model[\\\"clicks\\\"](val)) : undefined})\")]), WebIO.ConnectionPool(Channel{Any}(32), Set{WebIO.AbstractConnection}(), Base.GenericCondition{ReentrantLock}(Base.IntrusiveLinkedList{Task}(Task (runnable) @0x00007fe6d3355f50, Task (runnable) @0x00007fe6d3355f50), ReentrantLock(nothing, 0x00000000, 0x00, Base.GenericCondition{Base.Threads.SpinLock}(Base.IntrusiveLinkedList{Task}(nothing, nothing), Base.Threads.SpinLock(0)), (2, 6931163386021414912, 140629329117280)))), WebIO.JSString[WebIO.JSString(\"function () {\\n    var handler = (function (ko, koPunches) {\\n    ko.punches.enableAll();\\n    ko.bindingHandlers.numericValue = {\\n        init: function(element, valueAccessor, allBindings, data, context) {\\n            var stringified = ko.observable(ko.unwrap(valueAccessor()));\\n            stringified.subscribe(function(value) {\\n                var val = parseFloat(value);\\n                if (!isNaN(val)) {\\n                    valueAccessor()(val);\\n                }\\n            });\\n            valueAccessor().subscribe(function(value) {\\n                var str = JSON.stringify(value);\\n                if ((str == \\\"0\\\") && ([\\\"-0\\\", \\\"-0.\\\"].indexOf(stringified()) >= 0))\\n                     return;\\n                 if ([\\\"null\\\", \\\"\\\"].indexOf(str) >= 0)\\n                     return;\\n                stringified(str);\\n            });\\n            ko.applyBindingsToNode(\\n                element,\\n                {\\n                    value: stringified,\\n                    valueUpdate: allBindings.get('valueUpdate'),\\n                },\\n                context,\\n            );\\n        }\\n    };\\n    var json_data = {\\\"loading\\\":WebIO.getval({\\\"name\\\":\\\"loading\\\",\\\"scope\\\":\\\"13479127191643957767\\\",\\\"id\\\":\\\"77133704155849784\\\",\\\"type\\\":\\\"observable\\\"}),\\\"clicks\\\":WebIO.getval({\\\"name\\\":\\\"clicks\\\",\\\"scope\\\":\\\"13479127191643957767\\\",\\\"id\\\":\\\"7921891723010386886\\\",\\\"type\\\":\\\"observable\\\"})};\\n    var self = this;\\n    function AppViewModel() {\\n        for (var key in json_data) {\\n            var el = json_data[key];\\n            this[key] = Array.isArray(el) ? ko.observableArray(el) : ko.observable(el);\\n        }\\n        \\n        \\n        [this[\\\"loading\\\"].subscribe((function (val){!(this.valueFromJulia[\\\"loading\\\"]) ? (WebIO.setval({\\\"name\\\":\\\"loading\\\",\\\"scope\\\":\\\"13479127191643957767\\\",\\\"id\\\":\\\"77133704155849784\\\",\\\"type\\\":\\\"observable\\\"},val)) : undefined; return this.valueFromJulia[\\\"loading\\\"]=false}),self),this[\\\"clicks\\\"].subscribe((function (val){!(this.valueFromJulia[\\\"clicks\\\"]) ? (WebIO.setval({\\\"name\\\":\\\"clicks\\\",\\\"scope\\\":\\\"13479127191643957767\\\",\\\"id\\\":\\\"7921891723010386886\\\",\\\"type\\\":\\\"observable\\\"},val)) : undefined; return this.valueFromJulia[\\\"clicks\\\"]=false}),self)]\\n        \\n    }\\n    self.model = new AppViewModel();\\n    self.valueFromJulia = {};\\n    for (var key in json_data) {\\n        self.valueFromJulia[key] = false;\\n    }\\n    ko.applyBindings(self.model, self.dom);\\n}\\n);\\n    (WebIO.importBlock({\\\"data\\\":[{\\\"name\\\":\\\"knockout\\\",\\\"type\\\":\\\"js\\\",\\\"url\\\":\\\"/assetserver/727383f2a47bd31570b7da84eee7b022dd6d7c78-knockout.js\\\"},{\\\"name\\\":\\\"knockout_punches\\\",\\\"type\\\":\\\"js\\\",\\\"url\\\":\\\"/assetserver/382b41b3b1bd9f26f75861d360bad7f8beea211f-knockout_punches.js\\\"}],\\\"type\\\":\\\"async_block\\\"})).then((imports) => handler.apply(this, imports));\\n}\\n\")])], Dict{Symbol, Any}(:className => \"field interact-widget\"))], Dict{Symbol, Any}(:style => Dict(\"display\" => \"flex\", \"flex-direction\" => \"row\")))], Dict{Symbol, Any}(:style => Dict(\"display\" => \"flex\", \"flex-direction\" => \"column\"))), WebIO.Node{WebIO.DOM}(WebIO.DOM(:html, :div), Any[WebIO.Scope(WebIO.Node{WebIO.DOM}(WebIO.DOM(:html, :div), Any[], Dict{Symbol, Any}(:id => \"container\")), Dict{String, Tuple{Observables.AbstractObservable, Union{Nothing, Bool}}}(\"value\" => (Observable(\"\\\\;\\\\;\"), nothing)), Set{String}(), nothing, WebIO.Asset[WebIO.Asset(\"js\", nothing, \"/home/dushya/.julia/packages/InteractBase/LJXv3/src/../assets/katex.min.js\"), WebIO.Asset(\"css\", nothing, \"/home/dushya/.julia/packages/InteractBase/LJXv3/src/../assets/katex.min.css\")], Dict{Any, Any}(\"value\" => Any[WebIO.JSString(\"(function (txt){return this.k.render(txt,this.container)})\")]), WebIO.ConnectionPool(Channel{Any}(32), Set{WebIO.AbstractConnection}(), Base.GenericCondition{ReentrantLock}(Base.IntrusiveLinkedList{Task}(Task (runnable) @0x00007fe69e663530, Task (runnable) @0x00007fe69e663530), ReentrantLock(nothing, 0x00000000, 0x00, Base.GenericCondition{Base.Threads.SpinLock}(Base.IntrusiveLinkedList{Task}(nothing, nothing), Base.Threads.SpinLock(0)), (1, 140629230223456, 140629323382816)))), WebIO.JSString[WebIO.JSString(\"function () {\\n    var handler = ((function (k){this.k=k; this.container=this.dom.querySelector(\\\"#container\\\"); return k.render(\\\"\\\\\\\\;\\\\\\\\;\\\",this.container)}));\\n    (WebIO.importBlock({\\\"data\\\":[{\\\"name\\\":null,\\\"type\\\":\\\"js\\\",\\\"url\\\":\\\"/assetserver/dd22ed1bf1896c2748f3fe616ce0b838adc895c1-katex.min.js\\\"},{\\\"name\\\":null,\\\"type\\\":\\\"css\\\",\\\"url\\\":\\\"/assetserver/46517a424aa5e6cffc1360d7e0848b601c584ee3-katex.min.css\\\"}],\\\"type\\\":\\\"async_block\\\"})).then((imports) => handler.apply(this, imports));\\n}\\n\")])], Dict{Symbol, Any}(:className => \"interact-widget\")), Observable(Luxor.Drawing(430.0, 430.0, \"\", Cairo.CairoSurfaceBase{UInt32}(Ptr{Nothing} @0x0000000000000000, 430.0, 430.0), Cairo.CairoContext(Ptr{Nothing} @0x0000000004b32910, Cairo.CairoSurfaceBase{UInt32}(Ptr{Nothing} @0x0000000000000000, 430.0, 430.0), Ptr{Nothing} @0x00000000035528d0), :png, 0.5, 0.5, 0.5, 0.5, IOBuffer(data=UInt8[...], readable=true, writable=true, seekable=true, append=false, size=5891, maxsize=Inf, ptr=5892, mark=-1), UInt8[0x89, 0x50, 0x4e, 0x47, 0x0d, 0x0a, 0x1a, 0x0a, 0x00, 0x00  …  0x00, 0x00, 0x49, 0x45, 0x4e, 0x44, 0xae, 0x42, 0x60, 0x82], false)), WebIO.Node{WebIO.DOM}(WebIO.DOM(:html, :div), Any[WebIO.Scope(WebIO.Node{WebIO.DOM}(WebIO.DOM(:html, :div), Any[], Dict{Symbol, Any}(:id => \"container\")), Dict{String, Tuple{Observables.AbstractObservable, Union{Nothing, Bool}}}(\"value\" => (Observable(\"\\\\;\\\\;\"), nothing)), Set{String}(), nothing, WebIO.Asset[WebIO.Asset(\"js\", nothing, \"/home/dushya/.julia/packages/InteractBase/LJXv3/src/../assets/katex.min.js\"), WebIO.Asset(\"css\", nothing, \"/home/dushya/.julia/packages/InteractBase/LJXv3/src/../assets/katex.min.css\")], Dict{Any, Any}(\"value\" => Any[WebIO.JSString(\"(function (txt){return this.k.render(txt,this.container)})\")]), WebIO.ConnectionPool(Channel{Any}(32), Set{WebIO.AbstractConnection}(), Base.GenericCondition{ReentrantLock}(Base.IntrusiveLinkedList{Task}(Task (runnable) @0x00007fe69e663530, Task (runnable) @0x00007fe69e663530), ReentrantLock(nothing, 0x00000000, 0x00, Base.GenericCondition{Base.Threads.SpinLock}(Base.IntrusiveLinkedList{Task}(nothing, nothing), Base.Threads.SpinLock(0)), (1, 140629230223456, 140629323382816)))), WebIO.JSString[WebIO.JSString(\"function () {\\n    var handler = ((function (k){this.k=k; this.container=this.dom.querySelector(\\\"#container\\\"); return k.render(\\\"\\\\\\\\;\\\\\\\\;\\\",this.container)}));\\n    (WebIO.importBlock({\\\"data\\\":[{\\\"name\\\":null,\\\"type\\\":\\\"js\\\",\\\"url\\\":\\\"/assetserver/dd22ed1bf1896c2748f3fe616ce0b838adc895c1-katex.min.js\\\"},{\\\"name\\\":null,\\\"type\\\":\\\"css\\\",\\\"url\\\":\\\"/assetserver/46517a424aa5e6cffc1360d7e0848b601c584ee3-katex.min.css\\\"}],\\\"type\\\":\\\"async_block\\\"})).then((imports) => handler.apply(this, imports));\\n}\\n\")])], Dict{Symbol, Any}(:className => \"interact-widget\")), WebIO.Node{WebIO.DOM}(WebIO.DOM(:html, :div), Any[], Dict{Symbol, Any}(:style => Dict(\"display\" => \"flex\", \"flex-direction\" => \"column\")))], Dict{Symbol, Any}(:style => Dict(\"display\" => \"flex\", \"flex-direction\" => \"row\")))], Dict{Symbol, Any}(:style => Dict(\"display\" => \"flex\", \"flex-direction\" => \"column\")))"
      ]
     },
     "execution_count": 8,
     "metadata": {
      "application/vnd.webio.node+json": {
       "kernelId": "82c7a13c-6049-444f-a63b-4c4ff3aaf528"
      }
     },
     "output_type": "execute_result"
    }
   ],
   "source": [
    "animate_sim(model, show_patches=true) #since there are only patches and no agents, show_patches must be true for the animation"
   ]
  },
  {
   "cell_type": "markdown",
   "metadata": {},
   "source": [
    "After defining the `step_rule!` function we can also choose to create an interactive application (which currently works in Jupyter with WebIO installation) as "
   ]
  },
  {
   "cell_type": "code",
   "execution_count": 9,
   "metadata": {},
   "outputs": [
    {
     "data": {
      "application/vnd.webio.node+json": {
       "children": [
        {
         "children": [
          {
           "children": [
            {
             "children": [
              {
               "children": [
                {
                 "children": [
                  {
                   "children": [
                    {
                     "children": [
                      "time"
                     ],
                     "instanceArgs": {
                      "namespace": "html",
                      "tag": "label"
                     },
                     "nodeType": "DOM",
                     "props": {
                      "className": "interact ",
                      "style": {
                       "padding": "5px 10px 0px 10px"
                      }
                     },
                     "type": "node"
                    }
                   ],
                   "instanceArgs": {
                    "namespace": "html",
                    "tag": "div"
                   },
                   "nodeType": "DOM",
                   "props": {
                    "className": "interact-flex-row-left"
                   },
                   "type": "node"
                  },
                  {
                   "children": [
                    {
                     "children": [],
                     "instanceArgs": {
                      "namespace": "html",
                      "tag": "input"
                     },
                     "nodeType": "DOM",
                     "props": {
                      "attributes": {
                       "data-bind": "numericValue: index, valueUpdate: 'input', event: {change: function (){this.changes(this.changes()+1)}}",
                       "orient": "horizontal",
                       "type": "range"
                      },
                      "className": "slider slider is-fullwidth",
                      "max": 400,
                      "min": 1,
                      "step": 1,
                      "style": {}
                     },
                     "type": "node"
                    }
                   ],
                   "instanceArgs": {
                    "namespace": "html",
                    "tag": "div"
                   },
                   "nodeType": "DOM",
                   "props": {
                    "className": "interact-flex-row-center"
                   },
                   "type": "node"
                  },
                  {
                   "children": [
                    {
                     "children": [],
                     "instanceArgs": {
                      "namespace": "html",
                      "tag": "p"
                     },
                     "nodeType": "DOM",
                     "props": {
                      "attributes": {
                       "data-bind": "text: formatted_val"
                      }
                     },
                     "type": "node"
                    }
                   ],
                   "instanceArgs": {
                    "namespace": "html",
                    "tag": "div"
                   },
                   "nodeType": "DOM",
                   "props": {
                    "className": "interact-flex-row-right"
                   },
                   "type": "node"
                  }
                 ],
                 "instanceArgs": {
                  "namespace": "html",
                  "tag": "div"
                 },
                 "nodeType": "DOM",
                 "props": {
                  "className": "interact-flex-row interact-widget"
                 },
                 "type": "node"
                }
               ],
               "instanceArgs": {
                "handlers": {
                 "changes": [
                  "(function (val){return (val!=this.model[\"changes\"]()) ? (this.valueFromJulia[\"changes\"]=true, this.model[\"changes\"](val)) : undefined})"
                 ],
                 "index": [
                  "(function (val){return (val!=this.model[\"index\"]()) ? (this.valueFromJulia[\"index\"]=true, this.model[\"index\"](val)) : undefined})"
                 ]
                },
                "id": "12455036567818833861",
                "imports": {
                 "data": [
                  {
                   "name": "knockout",
                   "type": "js",
                   "url": "/assetserver/727383f2a47bd31570b7da84eee7b022dd6d7c78-knockout.js"
                  },
                  {
                   "name": "knockout_punches",
                   "type": "js",
                   "url": "/assetserver/382b41b3b1bd9f26f75861d360bad7f8beea211f-knockout_punches.js"
                  },
                  {
                   "name": null,
                   "type": "js",
                   "url": "/assetserver/5ab20f1060420992a9b82a65b735dee4d81ef413-all.js"
                  },
                  {
                   "name": null,
                   "type": "css",
                   "url": "/assetserver/1cc0ed62837210b80a182cc3676512f895dab686-style.css"
                  },
                  {
                   "name": null,
                   "type": "css",
                   "url": "/assetserver/2eee816f616df3549d7044d45e744fbf8d42bfa1-bulma_confined.min.css"
                  }
                 ],
                 "type": "async_block"
                },
                "mount_callbacks": [
                 "function () {\n    var handler = (function (ko, koPunches) {\n    ko.punches.enableAll();\n    ko.bindingHandlers.numericValue = {\n        init: function(element, valueAccessor, allBindings, data, context) {\n            var stringified = ko.observable(ko.unwrap(valueAccessor()));\n            stringified.subscribe(function(value) {\n                var val = parseFloat(value);\n                if (!isNaN(val)) {\n                    valueAccessor()(val);\n                }\n            });\n            valueAccessor().subscribe(function(value) {\n                var str = JSON.stringify(value);\n                if ((str == \"0\") && ([\"-0\", \"-0.\"].indexOf(stringified()) >= 0))\n                     return;\n                 if ([\"null\", \"\"].indexOf(str) >= 0)\n                     return;\n                stringified(str);\n            });\n            ko.applyBindingsToNode(\n                element,\n                {\n                    value: stringified,\n                    valueUpdate: allBindings.get('valueUpdate'),\n                },\n                context,\n            );\n        }\n    };\n    var json_data = {\"formatted_vals\":[\"1\",\"2\",\"3\",\"4\",\"5\",\"6\",\"7\",\"8\",\"9\",\"10\",\"11\",\"12\",\"13\",\"14\",\"15\",\"16\",\"17\",\"18\",\"19\",\"20\",\"21\",\"22\",\"23\",\"24\",\"25\",\"26\",\"27\",\"28\",\"29\",\"30\",\"31\",\"32\",\"33\",\"34\",\"35\",\"36\",\"37\",\"38\",\"39\",\"40\",\"41\",\"42\",\"43\",\"44\",\"45\",\"46\",\"47\",\"48\",\"49\",\"50\",\"51\",\"52\",\"53\",\"54\",\"55\",\"56\",\"57\",\"58\",\"59\",\"60\",\"61\",\"62\",\"63\",\"64\",\"65\",\"66\",\"67\",\"68\",\"69\",\"70\",\"71\",\"72\",\"73\",\"74\",\"75\",\"76\",\"77\",\"78\",\"79\",\"80\",\"81\",\"82\",\"83\",\"84\",\"85\",\"86\",\"87\",\"88\",\"89\",\"90\",\"91\",\"92\",\"93\",\"94\",\"95\",\"96\",\"97\",\"98\",\"99\",\"100\",\"101\",\"102\",\"103\",\"104\",\"105\",\"106\",\"107\",\"108\",\"109\",\"110\",\"111\",\"112\",\"113\",\"114\",\"115\",\"116\",\"117\",\"118\",\"119\",\"120\",\"121\",\"122\",\"123\",\"124\",\"125\",\"126\",\"127\",\"128\",\"129\",\"130\",\"131\",\"132\",\"133\",\"134\",\"135\",\"136\",\"137\",\"138\",\"139\",\"140\",\"141\",\"142\",\"143\",\"144\",\"145\",\"146\",\"147\",\"148\",\"149\",\"150\",\"151\",\"152\",\"153\",\"154\",\"155\",\"156\",\"157\",\"158\",\"159\",\"160\",\"161\",\"162\",\"163\",\"164\",\"165\",\"166\",\"167\",\"168\",\"169\",\"170\",\"171\",\"172\",\"173\",\"174\",\"175\",\"176\",\"177\",\"178\",\"179\",\"180\",\"181\",\"182\",\"183\",\"184\",\"185\",\"186\",\"187\",\"188\",\"189\",\"190\",\"191\",\"192\",\"193\",\"194\",\"195\",\"196\",\"197\",\"198\",\"199\",\"200\",\"201\",\"202\",\"203\",\"204\",\"205\",\"206\",\"207\",\"208\",\"209\",\"210\",\"211\",\"212\",\"213\",\"214\",\"215\",\"216\",\"217\",\"218\",\"219\",\"220\",\"221\",\"222\",\"223\",\"224\",\"225\",\"226\",\"227\",\"228\",\"229\",\"230\",\"231\",\"232\",\"233\",\"234\",\"235\",\"236\",\"237\",\"238\",\"239\",\"240\",\"241\",\"242\",\"243\",\"244\",\"245\",\"246\",\"247\",\"248\",\"249\",\"250\",\"251\",\"252\",\"253\",\"254\",\"255\",\"256\",\"257\",\"258\",\"259\",\"260\",\"261\",\"262\",\"263\",\"264\",\"265\",\"266\",\"267\",\"268\",\"269\",\"270\",\"271\",\"272\",\"273\",\"274\",\"275\",\"276\",\"277\",\"278\",\"279\",\"280\",\"281\",\"282\",\"283\",\"284\",\"285\",\"286\",\"287\",\"288\",\"289\",\"290\",\"291\",\"292\",\"293\",\"294\",\"295\",\"296\",\"297\",\"298\",\"299\",\"300\",\"301\",\"302\",\"303\",\"304\",\"305\",\"306\",\"307\",\"308\",\"309\",\"310\",\"311\",\"312\",\"313\",\"314\",\"315\",\"316\",\"317\",\"318\",\"319\",\"320\",\"321\",\"322\",\"323\",\"324\",\"325\",\"326\",\"327\",\"328\",\"329\",\"330\",\"331\",\"332\",\"333\",\"334\",\"335\",\"336\",\"337\",\"338\",\"339\",\"340\",\"341\",\"342\",\"343\",\"344\",\"345\",\"346\",\"347\",\"348\",\"349\",\"350\",\"351\",\"352\",\"353\",\"354\",\"355\",\"356\",\"357\",\"358\",\"359\",\"360\",\"361\",\"362\",\"363\",\"364\",\"365\",\"366\",\"367\",\"368\",\"369\",\"370\",\"371\",\"372\",\"373\",\"374\",\"375\",\"376\",\"377\",\"378\",\"379\",\"380\",\"381\",\"382\",\"383\",\"384\",\"385\",\"386\",\"387\",\"388\",\"389\",\"390\",\"391\",\"392\",\"393\",\"394\",\"395\",\"396\",\"397\",\"398\",\"399\",\"400\"],\"changes\":WebIO.getval({\"name\":\"changes\",\"scope\":\"12455036567818833861\",\"id\":\"5577459816416801455\",\"type\":\"observable\"}),\"index\":WebIO.getval({\"name\":\"index\",\"scope\":\"12455036567818833861\",\"id\":\"122564590170184095\",\"type\":\"observable\"})};\n    var self = this;\n    function AppViewModel() {\n        for (var key in json_data) {\n            var el = json_data[key];\n            this[key] = Array.isArray(el) ? ko.observableArray(el) : ko.observable(el);\n        }\n        \n        [this[\"formatted_val\"]=ko.computed(    function(){\n        return this.formatted_vals()[parseInt(this.index())-(1)];\n    }\n,this)]\n        [this[\"changes\"].subscribe((function (val){!(this.valueFromJulia[\"changes\"]) ? (WebIO.setval({\"name\":\"changes\",\"scope\":\"12455036567818833861\",\"id\":\"5577459816416801455\",\"type\":\"observable\"},val)) : undefined; return this.valueFromJulia[\"changes\"]=false}),self),this[\"index\"].subscribe((function (val){!(this.valueFromJulia[\"index\"]) ? (WebIO.setval({\"name\":\"index\",\"scope\":\"12455036567818833861\",\"id\":\"122564590170184095\",\"type\":\"observable\"},val)) : undefined; return this.valueFromJulia[\"index\"]=false}),self)]\n        \n    }\n    self.model = new AppViewModel();\n    self.valueFromJulia = {};\n    for (var key in json_data) {\n        self.valueFromJulia[key] = false;\n    }\n    ko.applyBindings(self.model, self.dom);\n}\n);\n    (WebIO.importBlock({\"data\":[{\"name\":\"knockout\",\"type\":\"js\",\"url\":\"/assetserver/727383f2a47bd31570b7da84eee7b022dd6d7c78-knockout.js\"},{\"name\":\"knockout_punches\",\"type\":\"js\",\"url\":\"/assetserver/382b41b3b1bd9f26f75861d360bad7f8beea211f-knockout_punches.js\"}],\"type\":\"async_block\"})).then((imports) => handler.apply(this, imports));\n}\n"
                ],
                "observables": {
                 "changes": {
                  "id": "5577459816416801455",
                  "sync": false,
                  "value": 0
                 },
                 "index": {
                  "id": "122564590170184095",
                  "sync": true,
                  "value": 1
                 }
                },
                "systemjs_options": null
               },
               "nodeType": "Scope",
               "props": {},
               "type": "node"
              }
             ],
             "instanceArgs": {
              "namespace": "html",
              "tag": "div"
             },
             "nodeType": "DOM",
             "props": {
              "className": "field interact-widget"
             },
             "type": "node"
            },
            {
             "children": [
              {
               "children": [
                {
                 "children": [
                  {
                   "children": [
                    {
                     "children": [
                      "scale"
                     ],
                     "instanceArgs": {
                      "namespace": "html",
                      "tag": "label"
                     },
                     "nodeType": "DOM",
                     "props": {
                      "className": "interact ",
                      "style": {
                       "padding": "5px 10px 0px 10px"
                      }
                     },
                     "type": "node"
                    }
                   ],
                   "instanceArgs": {
                    "namespace": "html",
                    "tag": "div"
                   },
                   "nodeType": "DOM",
                   "props": {
                    "className": "interact-flex-row-left"
                   },
                   "type": "node"
                  },
                  {
                   "children": [
                    {
                     "children": [],
                     "instanceArgs": {
                      "namespace": "html",
                      "tag": "input"
                     },
                     "nodeType": "DOM",
                     "props": {
                      "attributes": {
                       "data-bind": "numericValue: index, valueUpdate: 'input', event: {change: function (){this.changes(this.changes()+1)}}",
                       "orient": "horizontal",
                       "type": "range"
                      },
                      "className": "slider slider is-fullwidth",
                      "max": 20,
                      "min": 1,
                      "step": 1,
                      "style": {}
                     },
                     "type": "node"
                    }
                   ],
                   "instanceArgs": {
                    "namespace": "html",
                    "tag": "div"
                   },
                   "nodeType": "DOM",
                   "props": {
                    "className": "interact-flex-row-center"
                   },
                   "type": "node"
                  },
                  {
                   "children": [
                    {
                     "children": [],
                     "instanceArgs": {
                      "namespace": "html",
                      "tag": "p"
                     },
                     "nodeType": "DOM",
                     "props": {
                      "attributes": {
                       "data-bind": "text: formatted_val"
                      }
                     },
                     "type": "node"
                    }
                   ],
                   "instanceArgs": {
                    "namespace": "html",
                    "tag": "div"
                   },
                   "nodeType": "DOM",
                   "props": {
                    "className": "interact-flex-row-right"
                   },
                   "type": "node"
                  }
                 ],
                 "instanceArgs": {
                  "namespace": "html",
                  "tag": "div"
                 },
                 "nodeType": "DOM",
                 "props": {
                  "className": "interact-flex-row interact-widget"
                 },
                 "type": "node"
                }
               ],
               "instanceArgs": {
                "handlers": {
                 "changes": [
                  "(function (val){return (val!=this.model[\"changes\"]()) ? (this.valueFromJulia[\"changes\"]=true, this.model[\"changes\"](val)) : undefined})"
                 ],
                 "index": [
                  "(function (val){return (val!=this.model[\"index\"]()) ? (this.valueFromJulia[\"index\"]=true, this.model[\"index\"](val)) : undefined})"
                 ]
                },
                "id": "4156321787078339315",
                "imports": {
                 "data": [
                  {
                   "name": "knockout",
                   "type": "js",
                   "url": "/assetserver/727383f2a47bd31570b7da84eee7b022dd6d7c78-knockout.js"
                  },
                  {
                   "name": "knockout_punches",
                   "type": "js",
                   "url": "/assetserver/382b41b3b1bd9f26f75861d360bad7f8beea211f-knockout_punches.js"
                  },
                  {
                   "name": null,
                   "type": "js",
                   "url": "/assetserver/5ab20f1060420992a9b82a65b735dee4d81ef413-all.js"
                  },
                  {
                   "name": null,
                   "type": "css",
                   "url": "/assetserver/1cc0ed62837210b80a182cc3676512f895dab686-style.css"
                  },
                  {
                   "name": null,
                   "type": "css",
                   "url": "/assetserver/2eee816f616df3549d7044d45e744fbf8d42bfa1-bulma_confined.min.css"
                  }
                 ],
                 "type": "async_block"
                },
                "mount_callbacks": [
                 "function () {\n    var handler = (function (ko, koPunches) {\n    ko.punches.enableAll();\n    ko.bindingHandlers.numericValue = {\n        init: function(element, valueAccessor, allBindings, data, context) {\n            var stringified = ko.observable(ko.unwrap(valueAccessor()));\n            stringified.subscribe(function(value) {\n                var val = parseFloat(value);\n                if (!isNaN(val)) {\n                    valueAccessor()(val);\n                }\n            });\n            valueAccessor().subscribe(function(value) {\n                var str = JSON.stringify(value);\n                if ((str == \"0\") && ([\"-0\", \"-0.\"].indexOf(stringified()) >= 0))\n                     return;\n                 if ([\"null\", \"\"].indexOf(str) >= 0)\n                     return;\n                stringified(str);\n            });\n            ko.applyBindingsToNode(\n                element,\n                {\n                    value: stringified,\n                    valueUpdate: allBindings.get('valueUpdate'),\n                },\n                context,\n            );\n        }\n    };\n    var json_data = {\"formatted_vals\":[\"0.1\",\"0.2\",\"0.3\",\"0.4\",\"0.5\",\"0.6\",\"0.7\",\"0.8\",\"0.9\",\"1.0\",\"1.1\",\"1.2\",\"1.3\",\"1.4\",\"1.5\",\"1.6\",\"1.7\",\"1.8\",\"1.9\",\"2.0\"],\"changes\":WebIO.getval({\"name\":\"changes\",\"scope\":\"4156321787078339315\",\"id\":\"11220132754541302478\",\"type\":\"observable\"}),\"index\":WebIO.getval({\"name\":\"index\",\"scope\":\"4156321787078339315\",\"id\":\"11290672408385420896\",\"type\":\"observable\"})};\n    var self = this;\n    function AppViewModel() {\n        for (var key in json_data) {\n            var el = json_data[key];\n            this[key] = Array.isArray(el) ? ko.observableArray(el) : ko.observable(el);\n        }\n        \n        [this[\"formatted_val\"]=ko.computed(    function(){\n        return this.formatted_vals()[parseInt(this.index())-(1)];\n    }\n,this)]\n        [this[\"changes\"].subscribe((function (val){!(this.valueFromJulia[\"changes\"]) ? (WebIO.setval({\"name\":\"changes\",\"scope\":\"4156321787078339315\",\"id\":\"11220132754541302478\",\"type\":\"observable\"},val)) : undefined; return this.valueFromJulia[\"changes\"]=false}),self),this[\"index\"].subscribe((function (val){!(this.valueFromJulia[\"index\"]) ? (WebIO.setval({\"name\":\"index\",\"scope\":\"4156321787078339315\",\"id\":\"11290672408385420896\",\"type\":\"observable\"},val)) : undefined; return this.valueFromJulia[\"index\"]=false}),self)]\n        \n    }\n    self.model = new AppViewModel();\n    self.valueFromJulia = {};\n    for (var key in json_data) {\n        self.valueFromJulia[key] = false;\n    }\n    ko.applyBindings(self.model, self.dom);\n}\n);\n    (WebIO.importBlock({\"data\":[{\"name\":\"knockout\",\"type\":\"js\",\"url\":\"/assetserver/727383f2a47bd31570b7da84eee7b022dd6d7c78-knockout.js\"},{\"name\":\"knockout_punches\",\"type\":\"js\",\"url\":\"/assetserver/382b41b3b1bd9f26f75861d360bad7f8beea211f-knockout_punches.js\"}],\"type\":\"async_block\"})).then((imports) => handler.apply(this, imports));\n}\n"
                ],
                "observables": {
                 "changes": {
                  "id": "11220132754541302478",
                  "sync": false,
                  "value": 0
                 },
                 "index": {
                  "id": "11290672408385420896",
                  "sync": true,
                  "value": 10
                 }
                },
                "systemjs_options": null
               },
               "nodeType": "Scope",
               "props": {},
               "type": "node"
              }
             ],
             "instanceArgs": {
              "namespace": "html",
              "tag": "div"
             },
             "nodeType": "DOM",
             "props": {
              "className": "field interact-widget"
             },
             "type": "node"
            },
            {
             "children": [],
             "instanceArgs": {
              "namespace": "html",
              "tag": "div"
             },
             "nodeType": "DOM",
             "props": {
              "style": {
               "display": "flex",
               "flex-direction": "column"
              }
             },
             "type": "node"
            },
            {
             "children": [
              {
               "children": [
                {
                 "children": [
                  {
                   "children": [
                    {
                     "children": [
                      {
                       "children": [
                        "threshold"
                       ],
                       "instanceArgs": {
                        "namespace": "html",
                        "tag": "label"
                       },
                       "nodeType": "DOM",
                       "props": {
                        "className": "interact ",
                        "style": {
                         "padding": "5px 10px 0px 10px"
                        }
                       },
                       "type": "node"
                      }
                     ],
                     "instanceArgs": {
                      "namespace": "html",
                      "tag": "div"
                     },
                     "nodeType": "DOM",
                     "props": {
                      "className": "interact-flex-row-left"
                     },
                     "type": "node"
                    },
                    {
                     "children": [
                      {
                       "children": [],
                       "instanceArgs": {
                        "namespace": "html",
                        "tag": "input"
                       },
                       "nodeType": "DOM",
                       "props": {
                        "attributes": {
                         "data-bind": "numericValue: index, valueUpdate: 'input', event: {change: function (){this.changes(this.changes()+1)}}",
                         "orient": "horizontal",
                         "type": "range"
                        },
                        "className": "slider slider is-fullwidth",
                        "max": 8,
                        "min": 1,
                        "step": 1,
                        "style": {}
                       },
                       "type": "node"
                      }
                     ],
                     "instanceArgs": {
                      "namespace": "html",
                      "tag": "div"
                     },
                     "nodeType": "DOM",
                     "props": {
                      "className": "interact-flex-row-center"
                     },
                     "type": "node"
                    },
                    {
                     "children": [
                      {
                       "children": [],
                       "instanceArgs": {
                        "namespace": "html",
                        "tag": "p"
                       },
                       "nodeType": "DOM",
                       "props": {
                        "attributes": {
                         "data-bind": "text: formatted_val"
                        }
                       },
                       "type": "node"
                      }
                     ],
                     "instanceArgs": {
                      "namespace": "html",
                      "tag": "div"
                     },
                     "nodeType": "DOM",
                     "props": {
                      "className": "interact-flex-row-right"
                     },
                     "type": "node"
                    }
                   ],
                   "instanceArgs": {
                    "namespace": "html",
                    "tag": "div"
                   },
                   "nodeType": "DOM",
                   "props": {
                    "className": "interact-flex-row interact-widget"
                   },
                   "type": "node"
                  }
                 ],
                 "instanceArgs": {
                  "handlers": {
                   "changes": [
                    "(function (val){return (val!=this.model[\"changes\"]()) ? (this.valueFromJulia[\"changes\"]=true, this.model[\"changes\"](val)) : undefined})"
                   ],
                   "index": [
                    "(function (val){return (val!=this.model[\"index\"]()) ? (this.valueFromJulia[\"index\"]=true, this.model[\"index\"](val)) : undefined})"
                   ]
                  },
                  "id": "5590859279286230658",
                  "imports": {
                   "data": [
                    {
                     "name": "knockout",
                     "type": "js",
                     "url": "/assetserver/727383f2a47bd31570b7da84eee7b022dd6d7c78-knockout.js"
                    },
                    {
                     "name": "knockout_punches",
                     "type": "js",
                     "url": "/assetserver/382b41b3b1bd9f26f75861d360bad7f8beea211f-knockout_punches.js"
                    },
                    {
                     "name": null,
                     "type": "js",
                     "url": "/assetserver/5ab20f1060420992a9b82a65b735dee4d81ef413-all.js"
                    },
                    {
                     "name": null,
                     "type": "css",
                     "url": "/assetserver/1cc0ed62837210b80a182cc3676512f895dab686-style.css"
                    },
                    {
                     "name": null,
                     "type": "css",
                     "url": "/assetserver/2eee816f616df3549d7044d45e744fbf8d42bfa1-bulma_confined.min.css"
                    }
                   ],
                   "type": "async_block"
                  },
                  "mount_callbacks": [
                   "function () {\n    var handler = (function (ko, koPunches) {\n    ko.punches.enableAll();\n    ko.bindingHandlers.numericValue = {\n        init: function(element, valueAccessor, allBindings, data, context) {\n            var stringified = ko.observable(ko.unwrap(valueAccessor()));\n            stringified.subscribe(function(value) {\n                var val = parseFloat(value);\n                if (!isNaN(val)) {\n                    valueAccessor()(val);\n                }\n            });\n            valueAccessor().subscribe(function(value) {\n                var str = JSON.stringify(value);\n                if ((str == \"0\") && ([\"-0\", \"-0.\"].indexOf(stringified()) >= 0))\n                     return;\n                 if ([\"null\", \"\"].indexOf(str) >= 0)\n                     return;\n                stringified(str);\n            });\n            ko.applyBindingsToNode(\n                element,\n                {\n                    value: stringified,\n                    valueUpdate: allBindings.get('valueUpdate'),\n                },\n                context,\n            );\n        }\n    };\n    var json_data = {\"formatted_vals\":[\"1\",\"2\",\"3\",\"4\",\"5\",\"6\",\"7\",\"8\"],\"changes\":WebIO.getval({\"name\":\"changes\",\"scope\":\"5590859279286230658\",\"id\":\"12060606111140976203\",\"type\":\"observable\"}),\"index\":WebIO.getval({\"name\":\"index\",\"scope\":\"5590859279286230658\",\"id\":\"2431762762338503400\",\"type\":\"observable\"})};\n    var self = this;\n    function AppViewModel() {\n        for (var key in json_data) {\n            var el = json_data[key];\n            this[key] = Array.isArray(el) ? ko.observableArray(el) : ko.observable(el);\n        }\n        \n        [this[\"formatted_val\"]=ko.computed(    function(){\n        return this.formatted_vals()[parseInt(this.index())-(1)];\n    }\n,this)]\n        [this[\"changes\"].subscribe((function (val){!(this.valueFromJulia[\"changes\"]) ? (WebIO.setval({\"name\":\"changes\",\"scope\":\"5590859279286230658\",\"id\":\"12060606111140976203\",\"type\":\"observable\"},val)) : undefined; return this.valueFromJulia[\"changes\"]=false}),self),this[\"index\"].subscribe((function (val){!(this.valueFromJulia[\"index\"]) ? (WebIO.setval({\"name\":\"index\",\"scope\":\"5590859279286230658\",\"id\":\"2431762762338503400\",\"type\":\"observable\"},val)) : undefined; return this.valueFromJulia[\"index\"]=false}),self)]\n        \n    }\n    self.model = new AppViewModel();\n    self.valueFromJulia = {};\n    for (var key in json_data) {\n        self.valueFromJulia[key] = false;\n    }\n    ko.applyBindings(self.model, self.dom);\n}\n);\n    (WebIO.importBlock({\"data\":[{\"name\":\"knockout\",\"type\":\"js\",\"url\":\"/assetserver/727383f2a47bd31570b7da84eee7b022dd6d7c78-knockout.js\"},{\"name\":\"knockout_punches\",\"type\":\"js\",\"url\":\"/assetserver/382b41b3b1bd9f26f75861d360bad7f8beea211f-knockout_punches.js\"}],\"type\":\"async_block\"})).then((imports) => handler.apply(this, imports));\n}\n"
                  ],
                  "observables": {
                   "changes": {
                    "id": "12060606111140976203",
                    "sync": false,
                    "value": 0
                   },
                   "index": {
                    "id": "2431762762338503400",
                    "sync": true,
                    "value": 4
                   }
                  },
                  "systemjs_options": null
                 },
                 "nodeType": "Scope",
                 "props": {},
                 "type": "node"
                }
               ],
               "instanceArgs": {
                "namespace": "html",
                "tag": "div"
               },
               "nodeType": "DOM",
               "props": {
                "className": "field interact-widget"
               },
               "type": "node"
              }
             ],
             "instanceArgs": {
              "namespace": "html",
              "tag": "div"
             },
             "nodeType": "DOM",
             "props": {
              "style": {
               "display": "flex",
               "flex-direction": "column"
              }
             },
             "type": "node"
            },
            {
             "children": [
              {
               "children": [
                {
                 "children": [
                  {
                   "children": [],
                   "instanceArgs": {
                    "namespace": "html",
                    "tag": "div"
                   },
                   "nodeType": "DOM",
                   "props": {
                    "id": "container"
                   },
                   "type": "node"
                  }
                 ],
                 "instanceArgs": {
                  "handlers": {
                   "value": [
                    "(function (txt){return this.k.render(txt,this.container)})"
                   ]
                  },
                  "id": "17873189310906655983",
                  "imports": {
                   "data": [
                    {
                     "name": null,
                     "type": "js",
                     "url": "/assetserver/dd22ed1bf1896c2748f3fe616ce0b838adc895c1-katex.min.js"
                    },
                    {
                     "name": null,
                     "type": "css",
                     "url": "/assetserver/46517a424aa5e6cffc1360d7e0848b601c584ee3-katex.min.css"
                    }
                   ],
                   "type": "async_block"
                  },
                  "mount_callbacks": [
                   "function () {\n    var handler = ((function (k){this.k=k; this.container=this.dom.querySelector(\"#container\"); return k.render(\"\\\\;\\\\;\",this.container)}));\n    (WebIO.importBlock({\"data\":[{\"name\":null,\"type\":\"js\",\"url\":\"/assetserver/dd22ed1bf1896c2748f3fe616ce0b838adc895c1-katex.min.js\"},{\"name\":null,\"type\":\"css\",\"url\":\"/assetserver/46517a424aa5e6cffc1360d7e0848b601c584ee3-katex.min.css\"}],\"type\":\"async_block\"})).then((imports) => handler.apply(this, imports));\n}\n"
                  ],
                  "observables": {
                   "value": {
                    "id": "11445127687581785666",
                    "sync": false,
                    "value": "\\;\\;"
                   }
                  },
                  "systemjs_options": null
                 },
                 "nodeType": "Scope",
                 "props": {},
                 "type": "node"
                }
               ],
               "instanceArgs": {
                "namespace": "html",
                "tag": "div"
               },
               "nodeType": "DOM",
               "props": {
                "className": "interact-widget"
               },
               "type": "node"
              },
              {
               "children": [
                {
                 "children": [
                  {
                   "children": [
                    "run"
                   ],
                   "instanceArgs": {
                    "namespace": "html",
                    "tag": "button"
                   },
                   "nodeType": "DOM",
                   "props": {
                    "attributes": {
                     "data-bind": "click: function (){this.clicks(this.clicks()+1)}, css: {'is-loading' : loading}"
                    },
                    "className": "is-medium button is-primary",
                    "style": {}
                   },
                   "type": "node"
                  }
                 ],
                 "instanceArgs": {
                  "handlers": {
                   "clicks": [
                    "(function (val){return (val!=this.model[\"clicks\"]()) ? (this.valueFromJulia[\"clicks\"]=true, this.model[\"clicks\"](val)) : undefined})"
                   ],
                   "loading": [
                    "(function (val){return (val!=this.model[\"loading\"]()) ? (this.valueFromJulia[\"loading\"]=true, this.model[\"loading\"](val)) : undefined})"
                   ]
                  },
                  "id": "13121430866860545912",
                  "imports": {
                   "data": [
                    {
                     "name": "knockout",
                     "type": "js",
                     "url": "/assetserver/727383f2a47bd31570b7da84eee7b022dd6d7c78-knockout.js"
                    },
                    {
                     "name": "knockout_punches",
                     "type": "js",
                     "url": "/assetserver/382b41b3b1bd9f26f75861d360bad7f8beea211f-knockout_punches.js"
                    },
                    {
                     "name": null,
                     "type": "js",
                     "url": "/assetserver/5ab20f1060420992a9b82a65b735dee4d81ef413-all.js"
                    },
                    {
                     "name": null,
                     "type": "css",
                     "url": "/assetserver/1cc0ed62837210b80a182cc3676512f895dab686-style.css"
                    },
                    {
                     "name": null,
                     "type": "css",
                     "url": "/assetserver/2eee816f616df3549d7044d45e744fbf8d42bfa1-bulma_confined.min.css"
                    }
                   ],
                   "type": "async_block"
                  },
                  "mount_callbacks": [
                   "function () {\n    var handler = (function (ko, koPunches) {\n    ko.punches.enableAll();\n    ko.bindingHandlers.numericValue = {\n        init: function(element, valueAccessor, allBindings, data, context) {\n            var stringified = ko.observable(ko.unwrap(valueAccessor()));\n            stringified.subscribe(function(value) {\n                var val = parseFloat(value);\n                if (!isNaN(val)) {\n                    valueAccessor()(val);\n                }\n            });\n            valueAccessor().subscribe(function(value) {\n                var str = JSON.stringify(value);\n                if ((str == \"0\") && ([\"-0\", \"-0.\"].indexOf(stringified()) >= 0))\n                     return;\n                 if ([\"null\", \"\"].indexOf(str) >= 0)\n                     return;\n                stringified(str);\n            });\n            ko.applyBindingsToNode(\n                element,\n                {\n                    value: stringified,\n                    valueUpdate: allBindings.get('valueUpdate'),\n                },\n                context,\n            );\n        }\n    };\n    var json_data = {\"loading\":WebIO.getval({\"name\":\"loading\",\"scope\":\"13121430866860545912\",\"id\":\"12758888601313807106\",\"type\":\"observable\"}),\"clicks\":WebIO.getval({\"name\":\"clicks\",\"scope\":\"13121430866860545912\",\"id\":\"15806153727727526535\",\"type\":\"observable\"})};\n    var self = this;\n    function AppViewModel() {\n        for (var key in json_data) {\n            var el = json_data[key];\n            this[key] = Array.isArray(el) ? ko.observableArray(el) : ko.observable(el);\n        }\n        \n        \n        [this[\"loading\"].subscribe((function (val){!(this.valueFromJulia[\"loading\"]) ? (WebIO.setval({\"name\":\"loading\",\"scope\":\"13121430866860545912\",\"id\":\"12758888601313807106\",\"type\":\"observable\"},val)) : undefined; return this.valueFromJulia[\"loading\"]=false}),self),this[\"clicks\"].subscribe((function (val){!(this.valueFromJulia[\"clicks\"]) ? (WebIO.setval({\"name\":\"clicks\",\"scope\":\"13121430866860545912\",\"id\":\"15806153727727526535\",\"type\":\"observable\"},val)) : undefined; return this.valueFromJulia[\"clicks\"]=false}),self)]\n        \n    }\n    self.model = new AppViewModel();\n    self.valueFromJulia = {};\n    for (var key in json_data) {\n        self.valueFromJulia[key] = false;\n    }\n    ko.applyBindings(self.model, self.dom);\n}\n);\n    (WebIO.importBlock({\"data\":[{\"name\":\"knockout\",\"type\":\"js\",\"url\":\"/assetserver/727383f2a47bd31570b7da84eee7b022dd6d7c78-knockout.js\"},{\"name\":\"knockout_punches\",\"type\":\"js\",\"url\":\"/assetserver/382b41b3b1bd9f26f75861d360bad7f8beea211f-knockout_punches.js\"}],\"type\":\"async_block\"})).then((imports) => handler.apply(this, imports));\n}\n"
                  ],
                  "observables": {
                   "clicks": {
                    "id": "15806153727727526535",
                    "sync": true,
                    "value": 0
                   },
                   "loading": {
                    "id": "12758888601313807106",
                    "sync": false,
                    "value": false
                   }
                  },
                  "systemjs_options": null
                 },
                 "nodeType": "Scope",
                 "props": {},
                 "type": "node"
                }
               ],
               "instanceArgs": {
                "namespace": "html",
                "tag": "div"
               },
               "nodeType": "DOM",
               "props": {
                "className": "field interact-widget"
               },
               "type": "node"
              },
              {
               "children": [
                {
                 "children": [
                  {
                   "children": [],
                   "instanceArgs": {
                    "namespace": "html",
                    "tag": "div"
                   },
                   "nodeType": "DOM",
                   "props": {
                    "id": "container"
                   },
                   "type": "node"
                  }
                 ],
                 "instanceArgs": {
                  "handlers": {
                   "value": [
                    "(function (txt){return this.k.render(txt,this.container)})"
                   ]
                  },
                  "id": "17873189310906655983",
                  "imports": {
                   "data": [
                    {
                     "name": null,
                     "type": "js",
                     "url": "/assetserver/dd22ed1bf1896c2748f3fe616ce0b838adc895c1-katex.min.js"
                    },
                    {
                     "name": null,
                     "type": "css",
                     "url": "/assetserver/46517a424aa5e6cffc1360d7e0848b601c584ee3-katex.min.css"
                    }
                   ],
                   "type": "async_block"
                  },
                  "mount_callbacks": [
                   "function () {\n    var handler = ((function (k){this.k=k; this.container=this.dom.querySelector(\"#container\"); return k.render(\"\\\\;\\\\;\",this.container)}));\n    (WebIO.importBlock({\"data\":[{\"name\":null,\"type\":\"js\",\"url\":\"/assetserver/dd22ed1bf1896c2748f3fe616ce0b838adc895c1-katex.min.js\"},{\"name\":null,\"type\":\"css\",\"url\":\"/assetserver/46517a424aa5e6cffc1360d7e0848b601c584ee3-katex.min.css\"}],\"type\":\"async_block\"})).then((imports) => handler.apply(this, imports));\n}\n"
                  ],
                  "observables": {
                   "value": {
                    "id": "11445127687581785666",
                    "sync": false,
                    "value": "\\;\\;"
                   }
                  },
                  "systemjs_options": null
                 },
                 "nodeType": "Scope",
                 "props": {},
                 "type": "node"
                }
               ],
               "instanceArgs": {
                "namespace": "html",
                "tag": "div"
               },
               "nodeType": "DOM",
               "props": {
                "className": "interact-widget"
               },
               "type": "node"
              },
              {
               "children": [
                {
                 "children": [
                  {
                   "children": [
                    "stop"
                   ],
                   "instanceArgs": {
                    "namespace": "html",
                    "tag": "button"
                   },
                   "nodeType": "DOM",
                   "props": {
                    "attributes": {
                     "data-bind": "click: function (){this.clicks(this.clicks()+1)}, css: {'is-loading' : loading}"
                    },
                    "className": "is-medium button is-primary",
                    "style": {}
                   },
                   "type": "node"
                  }
                 ],
                 "instanceArgs": {
                  "handlers": {
                   "clicks": [
                    "(function (val){return (val!=this.model[\"clicks\"]()) ? (this.valueFromJulia[\"clicks\"]=true, this.model[\"clicks\"](val)) : undefined})"
                   ],
                   "loading": [
                    "(function (val){return (val!=this.model[\"loading\"]()) ? (this.valueFromJulia[\"loading\"]=true, this.model[\"loading\"](val)) : undefined})"
                   ]
                  },
                  "id": "2788532884166778886",
                  "imports": {
                   "data": [
                    {
                     "name": "knockout",
                     "type": "js",
                     "url": "/assetserver/727383f2a47bd31570b7da84eee7b022dd6d7c78-knockout.js"
                    },
                    {
                     "name": "knockout_punches",
                     "type": "js",
                     "url": "/assetserver/382b41b3b1bd9f26f75861d360bad7f8beea211f-knockout_punches.js"
                    },
                    {
                     "name": null,
                     "type": "js",
                     "url": "/assetserver/5ab20f1060420992a9b82a65b735dee4d81ef413-all.js"
                    },
                    {
                     "name": null,
                     "type": "css",
                     "url": "/assetserver/1cc0ed62837210b80a182cc3676512f895dab686-style.css"
                    },
                    {
                     "name": null,
                     "type": "css",
                     "url": "/assetserver/2eee816f616df3549d7044d45e744fbf8d42bfa1-bulma_confined.min.css"
                    }
                   ],
                   "type": "async_block"
                  },
                  "mount_callbacks": [
                   "function () {\n    var handler = (function (ko, koPunches) {\n    ko.punches.enableAll();\n    ko.bindingHandlers.numericValue = {\n        init: function(element, valueAccessor, allBindings, data, context) {\n            var stringified = ko.observable(ko.unwrap(valueAccessor()));\n            stringified.subscribe(function(value) {\n                var val = parseFloat(value);\n                if (!isNaN(val)) {\n                    valueAccessor()(val);\n                }\n            });\n            valueAccessor().subscribe(function(value) {\n                var str = JSON.stringify(value);\n                if ((str == \"0\") && ([\"-0\", \"-0.\"].indexOf(stringified()) >= 0))\n                     return;\n                 if ([\"null\", \"\"].indexOf(str) >= 0)\n                     return;\n                stringified(str);\n            });\n            ko.applyBindingsToNode(\n                element,\n                {\n                    value: stringified,\n                    valueUpdate: allBindings.get('valueUpdate'),\n                },\n                context,\n            );\n        }\n    };\n    var json_data = {\"loading\":WebIO.getval({\"name\":\"loading\",\"scope\":\"2788532884166778886\",\"id\":\"13202508729777867594\",\"type\":\"observable\"}),\"clicks\":WebIO.getval({\"name\":\"clicks\",\"scope\":\"2788532884166778886\",\"id\":\"5902948688267274878\",\"type\":\"observable\"})};\n    var self = this;\n    function AppViewModel() {\n        for (var key in json_data) {\n            var el = json_data[key];\n            this[key] = Array.isArray(el) ? ko.observableArray(el) : ko.observable(el);\n        }\n        \n        \n        [this[\"loading\"].subscribe((function (val){!(this.valueFromJulia[\"loading\"]) ? (WebIO.setval({\"name\":\"loading\",\"scope\":\"2788532884166778886\",\"id\":\"13202508729777867594\",\"type\":\"observable\"},val)) : undefined; return this.valueFromJulia[\"loading\"]=false}),self),this[\"clicks\"].subscribe((function (val){!(this.valueFromJulia[\"clicks\"]) ? (WebIO.setval({\"name\":\"clicks\",\"scope\":\"2788532884166778886\",\"id\":\"5902948688267274878\",\"type\":\"observable\"},val)) : undefined; return this.valueFromJulia[\"clicks\"]=false}),self)]\n        \n    }\n    self.model = new AppViewModel();\n    self.valueFromJulia = {};\n    for (var key in json_data) {\n        self.valueFromJulia[key] = false;\n    }\n    ko.applyBindings(self.model, self.dom);\n}\n);\n    (WebIO.importBlock({\"data\":[{\"name\":\"knockout\",\"type\":\"js\",\"url\":\"/assetserver/727383f2a47bd31570b7da84eee7b022dd6d7c78-knockout.js\"},{\"name\":\"knockout_punches\",\"type\":\"js\",\"url\":\"/assetserver/382b41b3b1bd9f26f75861d360bad7f8beea211f-knockout_punches.js\"}],\"type\":\"async_block\"})).then((imports) => handler.apply(this, imports));\n}\n"
                  ],
                  "observables": {
                   "clicks": {
                    "id": "5902948688267274878",
                    "sync": true,
                    "value": 0
                   },
                   "loading": {
                    "id": "13202508729777867594",
                    "sync": false,
                    "value": false
                   }
                  },
                  "systemjs_options": null
                 },
                 "nodeType": "Scope",
                 "props": {},
                 "type": "node"
                }
               ],
               "instanceArgs": {
                "namespace": "html",
                "tag": "div"
               },
               "nodeType": "DOM",
               "props": {
                "className": "field interact-widget"
               },
               "type": "node"
              },
              {
               "children": [
                {
                 "children": [
                  {
                   "children": [],
                   "instanceArgs": {
                    "namespace": "html",
                    "tag": "div"
                   },
                   "nodeType": "DOM",
                   "props": {
                    "id": "container"
                   },
                   "type": "node"
                  }
                 ],
                 "instanceArgs": {
                  "handlers": {
                   "value": [
                    "(function (txt){return this.k.render(txt,this.container)})"
                   ]
                  },
                  "id": "17873189310906655983",
                  "imports": {
                   "data": [
                    {
                     "name": null,
                     "type": "js",
                     "url": "/assetserver/dd22ed1bf1896c2748f3fe616ce0b838adc895c1-katex.min.js"
                    },
                    {
                     "name": null,
                     "type": "css",
                     "url": "/assetserver/46517a424aa5e6cffc1360d7e0848b601c584ee3-katex.min.css"
                    }
                   ],
                   "type": "async_block"
                  },
                  "mount_callbacks": [
                   "function () {\n    var handler = ((function (k){this.k=k; this.container=this.dom.querySelector(\"#container\"); return k.render(\"\\\\;\\\\;\",this.container)}));\n    (WebIO.importBlock({\"data\":[{\"name\":null,\"type\":\"js\",\"url\":\"/assetserver/dd22ed1bf1896c2748f3fe616ce0b838adc895c1-katex.min.js\"},{\"name\":null,\"type\":\"css\",\"url\":\"/assetserver/46517a424aa5e6cffc1360d7e0848b601c584ee3-katex.min.css\"}],\"type\":\"async_block\"})).then((imports) => handler.apply(this, imports));\n}\n"
                  ],
                  "observables": {
                   "value": {
                    "id": "11445127687581785666",
                    "sync": false,
                    "value": "\\;\\;"
                   }
                  },
                  "systemjs_options": null
                 },
                 "nodeType": "Scope",
                 "props": {},
                 "type": "node"
                }
               ],
               "instanceArgs": {
                "namespace": "html",
                "tag": "div"
               },
               "nodeType": "DOM",
               "props": {
                "className": "interact-widget"
               },
               "type": "node"
              },
              {
               "children": [
                {
                 "children": [
                  {
                   "children": [
                    "reset"
                   ],
                   "instanceArgs": {
                    "namespace": "html",
                    "tag": "button"
                   },
                   "nodeType": "DOM",
                   "props": {
                    "attributes": {
                     "data-bind": "click: function (){this.clicks(this.clicks()+1)}, css: {'is-loading' : loading}"
                    },
                    "className": "is-medium button is-primary",
                    "style": {}
                   },
                   "type": "node"
                  }
                 ],
                 "instanceArgs": {
                  "handlers": {
                   "clicks": [
                    "(function (val){return (val!=this.model[\"clicks\"]()) ? (this.valueFromJulia[\"clicks\"]=true, this.model[\"clicks\"](val)) : undefined})"
                   ],
                   "loading": [
                    "(function (val){return (val!=this.model[\"loading\"]()) ? (this.valueFromJulia[\"loading\"]=true, this.model[\"loading\"](val)) : undefined})"
                   ]
                  },
                  "id": "3296854992020656509",
                  "imports": {
                   "data": [
                    {
                     "name": "knockout",
                     "type": "js",
                     "url": "/assetserver/727383f2a47bd31570b7da84eee7b022dd6d7c78-knockout.js"
                    },
                    {
                     "name": "knockout_punches",
                     "type": "js",
                     "url": "/assetserver/382b41b3b1bd9f26f75861d360bad7f8beea211f-knockout_punches.js"
                    },
                    {
                     "name": null,
                     "type": "js",
                     "url": "/assetserver/5ab20f1060420992a9b82a65b735dee4d81ef413-all.js"
                    },
                    {
                     "name": null,
                     "type": "css",
                     "url": "/assetserver/1cc0ed62837210b80a182cc3676512f895dab686-style.css"
                    },
                    {
                     "name": null,
                     "type": "css",
                     "url": "/assetserver/2eee816f616df3549d7044d45e744fbf8d42bfa1-bulma_confined.min.css"
                    }
                   ],
                   "type": "async_block"
                  },
                  "mount_callbacks": [
                   "function () {\n    var handler = (function (ko, koPunches) {\n    ko.punches.enableAll();\n    ko.bindingHandlers.numericValue = {\n        init: function(element, valueAccessor, allBindings, data, context) {\n            var stringified = ko.observable(ko.unwrap(valueAccessor()));\n            stringified.subscribe(function(value) {\n                var val = parseFloat(value);\n                if (!isNaN(val)) {\n                    valueAccessor()(val);\n                }\n            });\n            valueAccessor().subscribe(function(value) {\n                var str = JSON.stringify(value);\n                if ((str == \"0\") && ([\"-0\", \"-0.\"].indexOf(stringified()) >= 0))\n                     return;\n                 if ([\"null\", \"\"].indexOf(str) >= 0)\n                     return;\n                stringified(str);\n            });\n            ko.applyBindingsToNode(\n                element,\n                {\n                    value: stringified,\n                    valueUpdate: allBindings.get('valueUpdate'),\n                },\n                context,\n            );\n        }\n    };\n    var json_data = {\"loading\":WebIO.getval({\"name\":\"loading\",\"scope\":\"3296854992020656509\",\"id\":\"3931129165521041085\",\"type\":\"observable\"}),\"clicks\":WebIO.getval({\"name\":\"clicks\",\"scope\":\"3296854992020656509\",\"id\":\"17809749458926459982\",\"type\":\"observable\"})};\n    var self = this;\n    function AppViewModel() {\n        for (var key in json_data) {\n            var el = json_data[key];\n            this[key] = Array.isArray(el) ? ko.observableArray(el) : ko.observable(el);\n        }\n        \n        \n        [this[\"loading\"].subscribe((function (val){!(this.valueFromJulia[\"loading\"]) ? (WebIO.setval({\"name\":\"loading\",\"scope\":\"3296854992020656509\",\"id\":\"3931129165521041085\",\"type\":\"observable\"},val)) : undefined; return this.valueFromJulia[\"loading\"]=false}),self),this[\"clicks\"].subscribe((function (val){!(this.valueFromJulia[\"clicks\"]) ? (WebIO.setval({\"name\":\"clicks\",\"scope\":\"3296854992020656509\",\"id\":\"17809749458926459982\",\"type\":\"observable\"},val)) : undefined; return this.valueFromJulia[\"clicks\"]=false}),self)]\n        \n    }\n    self.model = new AppViewModel();\n    self.valueFromJulia = {};\n    for (var key in json_data) {\n        self.valueFromJulia[key] = false;\n    }\n    ko.applyBindings(self.model, self.dom);\n}\n);\n    (WebIO.importBlock({\"data\":[{\"name\":\"knockout\",\"type\":\"js\",\"url\":\"/assetserver/727383f2a47bd31570b7da84eee7b022dd6d7c78-knockout.js\"},{\"name\":\"knockout_punches\",\"type\":\"js\",\"url\":\"/assetserver/382b41b3b1bd9f26f75861d360bad7f8beea211f-knockout_punches.js\"}],\"type\":\"async_block\"})).then((imports) => handler.apply(this, imports));\n}\n"
                  ],
                  "observables": {
                   "clicks": {
                    "id": "17809749458926459982",
                    "sync": true,
                    "value": 0
                   },
                   "loading": {
                    "id": "3931129165521041085",
                    "sync": false,
                    "value": false
                   }
                  },
                  "systemjs_options": null
                 },
                 "nodeType": "Scope",
                 "props": {},
                 "type": "node"
                }
               ],
               "instanceArgs": {
                "namespace": "html",
                "tag": "div"
               },
               "nodeType": "DOM",
               "props": {
                "className": "field interact-widget"
               },
               "type": "node"
              },
              {
               "children": [
                {
                 "children": [
                  {
                   "children": [],
                   "instanceArgs": {
                    "namespace": "html",
                    "tag": "div"
                   },
                   "nodeType": "DOM",
                   "props": {
                    "id": "container"
                   },
                   "type": "node"
                  }
                 ],
                 "instanceArgs": {
                  "handlers": {
                   "value": [
                    "(function (txt){return this.k.render(txt,this.container)})"
                   ]
                  },
                  "id": "17873189310906655983",
                  "imports": {
                   "data": [
                    {
                     "name": null,
                     "type": "js",
                     "url": "/assetserver/dd22ed1bf1896c2748f3fe616ce0b838adc895c1-katex.min.js"
                    },
                    {
                     "name": null,
                     "type": "css",
                     "url": "/assetserver/46517a424aa5e6cffc1360d7e0848b601c584ee3-katex.min.css"
                    }
                   ],
                   "type": "async_block"
                  },
                  "mount_callbacks": [
                   "function () {\n    var handler = ((function (k){this.k=k; this.container=this.dom.querySelector(\"#container\"); return k.render(\"\\\\;\\\\;\",this.container)}));\n    (WebIO.importBlock({\"data\":[{\"name\":null,\"type\":\"js\",\"url\":\"/assetserver/dd22ed1bf1896c2748f3fe616ce0b838adc895c1-katex.min.js\"},{\"name\":null,\"type\":\"css\",\"url\":\"/assetserver/46517a424aa5e6cffc1360d7e0848b601c584ee3-katex.min.css\"}],\"type\":\"async_block\"})).then((imports) => handler.apply(this, imports));\n}\n"
                  ],
                  "observables": {
                   "value": {
                    "id": "11445127687581785666",
                    "sync": false,
                    "value": "\\;\\;"
                   }
                  },
                  "systemjs_options": null
                 },
                 "nodeType": "Scope",
                 "props": {},
                 "type": "node"
                }
               ],
               "instanceArgs": {
                "namespace": "html",
                "tag": "div"
               },
               "nodeType": "DOM",
               "props": {
                "className": "interact-widget"
               },
               "type": "node"
              },
              {
               "children": [
                {
                 "children": [
                  {
                   "children": [
                    "save"
                   ],
                   "instanceArgs": {
                    "namespace": "html",
                    "tag": "button"
                   },
                   "nodeType": "DOM",
                   "props": {
                    "attributes": {
                     "data-bind": "click: function (){this.clicks(this.clicks()+1)}, css: {'is-loading' : loading}"
                    },
                    "className": "is-medium button is-primary",
                    "style": {}
                   },
                   "type": "node"
                  }
                 ],
                 "instanceArgs": {
                  "handlers": {
                   "clicks": [
                    "(function (val){return (val!=this.model[\"clicks\"]()) ? (this.valueFromJulia[\"clicks\"]=true, this.model[\"clicks\"](val)) : undefined})"
                   ],
                   "loading": [
                    "(function (val){return (val!=this.model[\"loading\"]()) ? (this.valueFromJulia[\"loading\"]=true, this.model[\"loading\"](val)) : undefined})"
                   ]
                  },
                  "id": "3186967841384522977",
                  "imports": {
                   "data": [
                    {
                     "name": "knockout",
                     "type": "js",
                     "url": "/assetserver/727383f2a47bd31570b7da84eee7b022dd6d7c78-knockout.js"
                    },
                    {
                     "name": "knockout_punches",
                     "type": "js",
                     "url": "/assetserver/382b41b3b1bd9f26f75861d360bad7f8beea211f-knockout_punches.js"
                    },
                    {
                     "name": null,
                     "type": "js",
                     "url": "/assetserver/5ab20f1060420992a9b82a65b735dee4d81ef413-all.js"
                    },
                    {
                     "name": null,
                     "type": "css",
                     "url": "/assetserver/1cc0ed62837210b80a182cc3676512f895dab686-style.css"
                    },
                    {
                     "name": null,
                     "type": "css",
                     "url": "/assetserver/2eee816f616df3549d7044d45e744fbf8d42bfa1-bulma_confined.min.css"
                    }
                   ],
                   "type": "async_block"
                  },
                  "mount_callbacks": [
                   "function () {\n    var handler = (function (ko, koPunches) {\n    ko.punches.enableAll();\n    ko.bindingHandlers.numericValue = {\n        init: function(element, valueAccessor, allBindings, data, context) {\n            var stringified = ko.observable(ko.unwrap(valueAccessor()));\n            stringified.subscribe(function(value) {\n                var val = parseFloat(value);\n                if (!isNaN(val)) {\n                    valueAccessor()(val);\n                }\n            });\n            valueAccessor().subscribe(function(value) {\n                var str = JSON.stringify(value);\n                if ((str == \"0\") && ([\"-0\", \"-0.\"].indexOf(stringified()) >= 0))\n                     return;\n                 if ([\"null\", \"\"].indexOf(str) >= 0)\n                     return;\n                stringified(str);\n            });\n            ko.applyBindingsToNode(\n                element,\n                {\n                    value: stringified,\n                    valueUpdate: allBindings.get('valueUpdate'),\n                },\n                context,\n            );\n        }\n    };\n    var json_data = {\"loading\":WebIO.getval({\"name\":\"loading\",\"scope\":\"3186967841384522977\",\"id\":\"5653171876027605606\",\"type\":\"observable\"}),\"clicks\":WebIO.getval({\"name\":\"clicks\",\"scope\":\"3186967841384522977\",\"id\":\"11409068234983089333\",\"type\":\"observable\"})};\n    var self = this;\n    function AppViewModel() {\n        for (var key in json_data) {\n            var el = json_data[key];\n            this[key] = Array.isArray(el) ? ko.observableArray(el) : ko.observable(el);\n        }\n        \n        \n        [this[\"loading\"].subscribe((function (val){!(this.valueFromJulia[\"loading\"]) ? (WebIO.setval({\"name\":\"loading\",\"scope\":\"3186967841384522977\",\"id\":\"5653171876027605606\",\"type\":\"observable\"},val)) : undefined; return this.valueFromJulia[\"loading\"]=false}),self),this[\"clicks\"].subscribe((function (val){!(this.valueFromJulia[\"clicks\"]) ? (WebIO.setval({\"name\":\"clicks\",\"scope\":\"3186967841384522977\",\"id\":\"11409068234983089333\",\"type\":\"observable\"},val)) : undefined; return this.valueFromJulia[\"clicks\"]=false}),self)]\n        \n    }\n    self.model = new AppViewModel();\n    self.valueFromJulia = {};\n    for (var key in json_data) {\n        self.valueFromJulia[key] = false;\n    }\n    ko.applyBindings(self.model, self.dom);\n}\n);\n    (WebIO.importBlock({\"data\":[{\"name\":\"knockout\",\"type\":\"js\",\"url\":\"/assetserver/727383f2a47bd31570b7da84eee7b022dd6d7c78-knockout.js\"},{\"name\":\"knockout_punches\",\"type\":\"js\",\"url\":\"/assetserver/382b41b3b1bd9f26f75861d360bad7f8beea211f-knockout_punches.js\"}],\"type\":\"async_block\"})).then((imports) => handler.apply(this, imports));\n}\n"
                  ],
                  "observables": {
                   "clicks": {
                    "id": "11409068234983089333",
                    "sync": true,
                    "value": 0
                   },
                   "loading": {
                    "id": "5653171876027605606",
                    "sync": false,
                    "value": false
                   }
                  },
                  "systemjs_options": null
                 },
                 "nodeType": "Scope",
                 "props": {},
                 "type": "node"
                }
               ],
               "instanceArgs": {
                "namespace": "html",
                "tag": "div"
               },
               "nodeType": "DOM",
               "props": {
                "className": "field interact-widget"
               },
               "type": "node"
              }
             ],
             "instanceArgs": {
              "namespace": "html",
              "tag": "div"
             },
             "nodeType": "DOM",
             "props": {
              "style": {
               "display": "flex",
               "flex-direction": "row"
              }
             },
             "type": "node"
            }
           ],
           "instanceArgs": {
            "namespace": "html",
            "tag": "div"
           },
           "nodeType": "DOM",
           "props": {
            "style": {
             "display": "flex",
             "flex-direction": "column"
            }
           },
           "type": "node"
          },
          {
           "children": [
            {
             "children": [
              {
               "children": [],
               "instanceArgs": {
                "namespace": "html",
                "tag": "div"
               },
               "nodeType": "DOM",
               "props": {
                "id": "container"
               },
               "type": "node"
              }
             ],
             "instanceArgs": {
              "handlers": {
               "value": [
                "(function (txt){return this.k.render(txt,this.container)})"
               ]
              },
              "id": "17873189310906655983",
              "imports": {
               "data": [
                {
                 "name": null,
                 "type": "js",
                 "url": "/assetserver/dd22ed1bf1896c2748f3fe616ce0b838adc895c1-katex.min.js"
                },
                {
                 "name": null,
                 "type": "css",
                 "url": "/assetserver/46517a424aa5e6cffc1360d7e0848b601c584ee3-katex.min.css"
                }
               ],
               "type": "async_block"
              },
              "mount_callbacks": [
               "function () {\n    var handler = ((function (k){this.k=k; this.container=this.dom.querySelector(\"#container\"); return k.render(\"\\\\;\\\\;\",this.container)}));\n    (WebIO.importBlock({\"data\":[{\"name\":null,\"type\":\"js\",\"url\":\"/assetserver/dd22ed1bf1896c2748f3fe616ce0b838adc895c1-katex.min.js\"},{\"name\":null,\"type\":\"css\",\"url\":\"/assetserver/46517a424aa5e6cffc1360d7e0848b601c584ee3-katex.min.css\"}],\"type\":\"async_block\"})).then((imports) => handler.apply(this, imports));\n}\n"
              ],
              "observables": {
               "value": {
                "id": "11445127687581785666",
                "sync": false,
                "value": "\\;\\;"
               }
              },
              "systemjs_options": null
             },
             "nodeType": "Scope",
             "props": {},
             "type": "node"
            }
           ],
           "instanceArgs": {
            "namespace": "html",
            "tag": "div"
           },
           "nodeType": "DOM",
           "props": {
            "className": "interact-widget"
           },
           "type": "node"
          },
          {
           "children": [
            {
             "children": [],
             "instanceArgs": {
              "namespace": "html",
              "tag": "div"
             },
             "nodeType": "DOM",
             "props": {
              "className": "webio-observable",
              "setInnerHtml": "<img src='data:image/png;base64,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'></img>"
             },
             "type": "node"
            }
           ],
           "instanceArgs": {
            "handlers": {
             "obs-output": [
              "function (value, scope) {\n    scope.setInnerHTML(value);\n}\n"
             ]
            },
            "id": "7480834296283379329",
            "imports": {
             "data": [],
             "type": "async_block"
            },
            "mount_callbacks": [],
            "observables": {
             "obs-output": {
              "id": "15502969435122677399",
              "sync": false,
              "value": "<img src='data:image/png;base64,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'></img>"
             }
            },
            "systemjs_options": null
           },
           "nodeType": "Scope",
           "props": {},
           "type": "node"
          },
          {
           "children": [
            {
             "children": [
              {
               "children": [],
               "instanceArgs": {
                "namespace": "html",
                "tag": "div"
               },
               "nodeType": "DOM",
               "props": {
                "id": "container"
               },
               "type": "node"
              }
             ],
             "instanceArgs": {
              "handlers": {
               "value": [
                "(function (txt){return this.k.render(txt,this.container)})"
               ]
              },
              "id": "17873189310906655983",
              "imports": {
               "data": [
                {
                 "name": null,
                 "type": "js",
                 "url": "/assetserver/dd22ed1bf1896c2748f3fe616ce0b838adc895c1-katex.min.js"
                },
                {
                 "name": null,
                 "type": "css",
                 "url": "/assetserver/46517a424aa5e6cffc1360d7e0848b601c584ee3-katex.min.css"
                }
               ],
               "type": "async_block"
              },
              "mount_callbacks": [
               "function () {\n    var handler = ((function (k){this.k=k; this.container=this.dom.querySelector(\"#container\"); return k.render(\"\\\\;\\\\;\",this.container)}));\n    (WebIO.importBlock({\"data\":[{\"name\":null,\"type\":\"js\",\"url\":\"/assetserver/dd22ed1bf1896c2748f3fe616ce0b838adc895c1-katex.min.js\"},{\"name\":null,\"type\":\"css\",\"url\":\"/assetserver/46517a424aa5e6cffc1360d7e0848b601c584ee3-katex.min.css\"}],\"type\":\"async_block\"})).then((imports) => handler.apply(this, imports));\n}\n"
              ],
              "observables": {
               "value": {
                "id": "11445127687581785666",
                "sync": false,
                "value": "\\;\\;"
               }
              },
              "systemjs_options": null
             },
             "nodeType": "Scope",
             "props": {},
             "type": "node"
            }
           ],
           "instanceArgs": {
            "namespace": "html",
            "tag": "div"
           },
           "nodeType": "DOM",
           "props": {
            "className": "interact-widget"
           },
           "type": "node"
          },
          {
           "children": [],
           "instanceArgs": {
            "namespace": "html",
            "tag": "div"
           },
           "nodeType": "DOM",
           "props": {
            "style": {
             "display": "flex",
             "flex-direction": "column"
            }
           },
           "type": "node"
          }
         ],
         "instanceArgs": {
          "namespace": "html",
          "tag": "div"
         },
         "nodeType": "DOM",
         "props": {
          "style": {
           "display": "flex",
           "flex-direction": "row"
          }
         },
         "type": "node"
        }
       ],
       "instanceArgs": {
        "namespace": "html",
        "tag": "div"
       },
       "nodeType": "DOM",
       "props": {
        "style": {
         "display": "flex",
         "flex-direction": "column"
        }
       },
       "type": "node"
      },
      "text/html": [
       "<div\n",
       "    class=\"webio-mountpoint\"\n",
       "    data-webio-mountpoint=\"17300006861191043162\"\n",
       ">\n",
       "    <script>\n",
       "    (function(){\n",
       "    // Some integrations (namely, IJulia/Jupyter) use an alternate render pathway than\n",
       "    // just putting the html on the page. If WebIO isn't defined, then it's pretty likely\n",
       "    // that we're in one of those situations and the integration just isn't installed\n",
       "    // correctly.\n",
       "    if (typeof window.WebIO === \"undefined\") {\n",
       "        document\n",
       "            .querySelector('[data-webio-mountpoint=\"17300006861191043162\"]')\n",
       "            .innerHTML = (\n",
       "                '<div style=\"padding: 1em; background-color: #f8d6da; border: 1px solid #f5c6cb; font-weight: bold;\">' +\n",
       "                '<p><strong>WebIO not detected.</strong></p>' +\n",
       "                '<p>Please read ' +\n",
       "                '<a href=\"https://juliagizmos.github.io/WebIO.jl/latest/troubleshooting/not-detected/\" target=\"_blank\">the troubleshooting guide</a> ' +\n",
       "                'for more information on how to resolve this issue.</p>' +\n",
       "                '<p><a href=\"https://juliagizmos.github.io/WebIO.jl/latest/troubleshooting/not-detected/\" target=\"_blank\">https://juliagizmos.github.io/WebIO.jl/latest/troubleshooting/not-detected/</a></p>' +\n",
       "                '</div>'\n",
       "            );\n",
       "        return;\n",
       "    }\n",
       "    WebIO.mount(\n",
       "        document.querySelector('[data-webio-mountpoint=\"17300006861191043162\"]'),\n",
       "        {\"props\":{\"style\":{\"display\":\"flex\",\"flex-direction\":\"column\"}},\"nodeType\":\"DOM\",\"type\":\"node\",\"instanceArgs\":{\"namespace\":\"html\",\"tag\":\"div\"},\"children\":[{\"props\":{\"style\":{\"display\":\"flex\",\"flex-direction\":\"row\"}},\"nodeType\":\"DOM\",\"type\":\"node\",\"instanceArgs\":{\"namespace\":\"html\",\"tag\":\"div\"},\"children\":[{\"props\":{\"style\":{\"display\":\"flex\",\"flex-direction\":\"column\"}},\"nodeType\":\"DOM\",\"type\":\"node\",\"instanceArgs\":{\"namespace\":\"html\",\"tag\":\"div\"},\"children\":[{\"props\":{\"className\":\"field interact-widget\"},\"nodeType\":\"DOM\",\"type\":\"node\",\"instanceArgs\":{\"namespace\":\"html\",\"tag\":\"div\"},\"children\":[{\"props\":{},\"nodeType\":\"Scope\",\"type\":\"node\",\"instanceArgs\":{\"imports\":{\"data\":[{\"name\":\"knockout\",\"type\":\"js\",\"url\":\"\\/assetserver\\/727383f2a47bd31570b7da84eee7b022dd6d7c78-knockout.js\"},{\"name\":\"knockout_punches\",\"type\":\"js\",\"url\":\"\\/assetserver\\/382b41b3b1bd9f26f75861d360bad7f8beea211f-knockout_punches.js\"},{\"name\":null,\"type\":\"js\",\"url\":\"\\/assetserver\\/5ab20f1060420992a9b82a65b735dee4d81ef413-all.js\"},{\"name\":null,\"type\":\"css\",\"url\":\"\\/assetserver\\/1cc0ed62837210b80a182cc3676512f895dab686-style.css\"},{\"name\":null,\"type\":\"css\",\"url\":\"\\/assetserver\\/2eee816f616df3549d7044d45e744fbf8d42bfa1-bulma_confined.min.css\"}],\"type\":\"async_block\"},\"id\":\"12455036567818833861\",\"handlers\":{\"changes\":[\"(function (val){return (val!=this.model[\\\"changes\\\"]()) ? (this.valueFromJulia[\\\"changes\\\"]=true, this.model[\\\"changes\\\"](val)) : undefined})\"],\"index\":[\"(function (val){return (val!=this.model[\\\"index\\\"]()) ? (this.valueFromJulia[\\\"index\\\"]=true, this.model[\\\"index\\\"](val)) : undefined})\"]},\"systemjs_options\":null,\"mount_callbacks\":[\"function () {\\n    var handler = (function (ko, koPunches) {\\n    ko.punches.enableAll();\\n    ko.bindingHandlers.numericValue = {\\n        init: function(element, valueAccessor, allBindings, data, context) {\\n            var stringified = ko.observable(ko.unwrap(valueAccessor()));\\n            stringified.subscribe(function(value) {\\n                var val = parseFloat(value);\\n                if (!isNaN(val)) {\\n                    valueAccessor()(val);\\n                }\\n            });\\n            valueAccessor().subscribe(function(value) {\\n                var str = JSON.stringify(value);\\n                if ((str == \\\"0\\\") && ([\\\"-0\\\", \\\"-0.\\\"].indexOf(stringified()) >= 0))\\n                     return;\\n                 if ([\\\"null\\\", \\\"\\\"].indexOf(str) >= 0)\\n                     return;\\n                stringified(str);\\n            });\\n            ko.applyBindingsToNode(\\n                element,\\n                {\\n                    value: stringified,\\n                    valueUpdate: allBindings.get('valueUpdate'),\\n                },\\n                context,\\n            );\\n        }\\n    };\\n    var json_data = {\\\"formatted_vals\\\":[\\\"1\\\",\\\"2\\\",\\\"3\\\",\\\"4\\\",\\\"5\\\",\\\"6\\\",\\\"7\\\",\\\"8\\\",\\\"9\\\",\\\"10\\\",\\\"11\\\",\\\"12\\\",\\\"13\\\",\\\"14\\\",\\\"15\\\",\\\"16\\\",\\\"17\\\",\\\"18\\\",\\\"19\\\",\\\"20\\\",\\\"21\\\",\\\"22\\\",\\\"23\\\",\\\"24\\\",\\\"25\\\",\\\"26\\\",\\\"27\\\",\\\"28\\\",\\\"29\\\",\\\"30\\\",\\\"31\\\",\\\"32\\\",\\\"33\\\",\\\"34\\\",\\\"35\\\",\\\"36\\\",\\\"37\\\",\\\"38\\\",\\\"39\\\",\\\"40\\\",\\\"41\\\",\\\"42\\\",\\\"43\\\",\\\"44\\\",\\\"45\\\",\\\"46\\\",\\\"47\\\",\\\"48\\\",\\\"49\\\",\\\"50\\\",\\\"51\\\",\\\"52\\\",\\\"53\\\",\\\"54\\\",\\\"55\\\",\\\"56\\\",\\\"57\\\",\\\"58\\\",\\\"59\\\",\\\"60\\\",\\\"61\\\",\\\"62\\\",\\\"63\\\",\\\"64\\\",\\\"65\\\",\\\"66\\\",\\\"67\\\",\\\"68\\\",\\\"69\\\",\\\"70\\\",\\\"71\\\",\\\"72\\\",\\\"73\\\",\\\"74\\\",\\\"75\\\",\\\"76\\\",\\\"77\\\",\\\"78\\\",\\\"79\\\",\\\"80\\\",\\\"81\\\",\\\"82\\\",\\\"83\\\",\\\"84\\\",\\\"85\\\",\\\"86\\\",\\\"87\\\",\\\"88\\\",\\\"89\\\",\\\"90\\\",\\\"91\\\",\\\"92\\\",\\\"93\\\",\\\"94\\\",\\\"95\\\",\\\"96\\\",\\\"97\\\",\\\"98\\\",\\\"99\\\",\\\"100\\\",\\\"101\\\",\\\"102\\\",\\\"103\\\",\\\"104\\\",\\\"105\\\",\\\"106\\\",\\\"107\\\",\\\"108\\\",\\\"109\\\",\\\"110\\\",\\\"111\\\",\\\"112\\\",\\\"113\\\",\\\"114\\\",\\\"115\\\",\\\"116\\\",\\\"117\\\",\\\"118\\\",\\\"119\\\",\\\"120\\\",\\\"121\\\",\\\"122\\\",\\\"123\\\",\\\"124\\\",\\\"125\\\",\\\"126\\\",\\\"127\\\",\\\"128\\\",\\\"129\\\",\\\"130\\\",\\\"131\\\",\\\"132\\\",\\\"133\\\",\\\"134\\\",\\\"135\\\",\\\"136\\\",\\\"137\\\",\\\"138\\\",\\\"139\\\",\\\"140\\\",\\\"141\\\",\\\"142\\\",\\\"143\\\",\\\"144\\\",\\\"145\\\",\\\"146\\\",\\\"147\\\",\\\"148\\\",\\\"149\\\",\\\"150\\\",\\\"151\\\",\\\"152\\\",\\\"153\\\",\\\"154\\\",\\\"155\\\",\\\"156\\\",\\\"157\\\",\\\"158\\\",\\\"159\\\",\\\"160\\\",\\\"161\\\",\\\"162\\\",\\\"163\\\",\\\"164\\\",\\\"165\\\",\\\"166\\\",\\\"167\\\",\\\"168\\\",\\\"169\\\",\\\"170\\\",\\\"171\\\",\\\"172\\\",\\\"173\\\",\\\"174\\\",\\\"175\\\",\\\"176\\\",\\\"177\\\",\\\"178\\\",\\\"179\\\",\\\"180\\\",\\\"181\\\",\\\"182\\\",\\\"183\\\",\\\"184\\\",\\\"185\\\",\\\"186\\\",\\\"187\\\",\\\"188\\\",\\\"189\\\",\\\"190\\\",\\\"191\\\",\\\"192\\\",\\\"193\\\",\\\"194\\\",\\\"195\\\",\\\"196\\\",\\\"197\\\",\\\"198\\\",\\\"199\\\",\\\"200\\\",\\\"201\\\",\\\"202\\\",\\\"203\\\",\\\"204\\\",\\\"205\\\",\\\"206\\\",\\\"207\\\",\\\"208\\\",\\\"209\\\",\\\"210\\\",\\\"211\\\",\\\"212\\\",\\\"213\\\",\\\"214\\\",\\\"215\\\",\\\"216\\\",\\\"217\\\",\\\"218\\\",\\\"219\\\",\\\"220\\\",\\\"221\\\",\\\"222\\\",\\\"223\\\",\\\"224\\\",\\\"225\\\",\\\"226\\\",\\\"227\\\",\\\"228\\\",\\\"229\\\",\\\"230\\\",\\\"231\\\",\\\"232\\\",\\\"233\\\",\\\"234\\\",\\\"235\\\",\\\"236\\\",\\\"237\\\",\\\"238\\\",\\\"239\\\",\\\"240\\\",\\\"241\\\",\\\"242\\\",\\\"243\\\",\\\"244\\\",\\\"245\\\",\\\"246\\\",\\\"247\\\",\\\"248\\\",\\\"249\\\",\\\"250\\\",\\\"251\\\",\\\"252\\\",\\\"253\\\",\\\"254\\\",\\\"255\\\",\\\"256\\\",\\\"257\\\",\\\"258\\\",\\\"259\\\",\\\"260\\\",\\\"261\\\",\\\"262\\\",\\\"263\\\",\\\"264\\\",\\\"265\\\",\\\"266\\\",\\\"267\\\",\\\"268\\\",\\\"269\\\",\\\"270\\\",\\\"271\\\",\\\"272\\\",\\\"273\\\",\\\"274\\\",\\\"275\\\",\\\"276\\\",\\\"277\\\",\\\"278\\\",\\\"279\\\",\\\"280\\\",\\\"281\\\",\\\"282\\\",\\\"283\\\",\\\"284\\\",\\\"285\\\",\\\"286\\\",\\\"287\\\",\\\"288\\\",\\\"289\\\",\\\"290\\\",\\\"291\\\",\\\"292\\\",\\\"293\\\",\\\"294\\\",\\\"295\\\",\\\"296\\\",\\\"297\\\",\\\"298\\\",\\\"299\\\",\\\"300\\\",\\\"301\\\",\\\"302\\\",\\\"303\\\",\\\"304\\\",\\\"305\\\",\\\"306\\\",\\\"307\\\",\\\"308\\\",\\\"309\\\",\\\"310\\\",\\\"311\\\",\\\"312\\\",\\\"313\\\",\\\"314\\\",\\\"315\\\",\\\"316\\\",\\\"317\\\",\\\"318\\\",\\\"319\\\",\\\"320\\\",\\\"321\\\",\\\"322\\\",\\\"323\\\",\\\"324\\\",\\\"325\\\",\\\"326\\\",\\\"327\\\",\\\"328\\\",\\\"329\\\",\\\"330\\\",\\\"331\\\",\\\"332\\\",\\\"333\\\",\\\"334\\\",\\\"335\\\",\\\"336\\\",\\\"337\\\",\\\"338\\\",\\\"339\\\",\\\"340\\\",\\\"341\\\",\\\"342\\\",\\\"343\\\",\\\"344\\\",\\\"345\\\",\\\"346\\\",\\\"347\\\",\\\"348\\\",\\\"349\\\",\\\"350\\\",\\\"351\\\",\\\"352\\\",\\\"353\\\",\\\"354\\\",\\\"355\\\",\\\"356\\\",\\\"357\\\",\\\"358\\\",\\\"359\\\",\\\"360\\\",\\\"361\\\",\\\"362\\\",\\\"363\\\",\\\"364\\\",\\\"365\\\",\\\"366\\\",\\\"367\\\",\\\"368\\\",\\\"369\\\",\\\"370\\\",\\\"371\\\",\\\"372\\\",\\\"373\\\",\\\"374\\\",\\\"375\\\",\\\"376\\\",\\\"377\\\",\\\"378\\\",\\\"379\\\",\\\"380\\\",\\\"381\\\",\\\"382\\\",\\\"383\\\",\\\"384\\\",\\\"385\\\",\\\"386\\\",\\\"387\\\",\\\"388\\\",\\\"389\\\",\\\"390\\\",\\\"391\\\",\\\"392\\\",\\\"393\\\",\\\"394\\\",\\\"395\\\",\\\"396\\\",\\\"397\\\",\\\"398\\\",\\\"399\\\",\\\"400\\\"],\\\"changes\\\":WebIO.getval({\\\"name\\\":\\\"changes\\\",\\\"scope\\\":\\\"12455036567818833861\\\",\\\"id\\\":\\\"5577459816416801455\\\",\\\"type\\\":\\\"observable\\\"}),\\\"index\\\":WebIO.getval({\\\"name\\\":\\\"index\\\",\\\"scope\\\":\\\"12455036567818833861\\\",\\\"id\\\":\\\"122564590170184095\\\",\\\"type\\\":\\\"observable\\\"})};\\n    var self = this;\\n    function AppViewModel() {\\n        for (var key in json_data) {\\n            var el = json_data[key];\\n            this[key] = Array.isArray(el) ? ko.observableArray(el) : ko.observable(el);\\n        }\\n        \\n        [this[\\\"formatted_val\\\"]=ko.computed(    function(){\\n        return this.formatted_vals()[parseInt(this.index())-(1)];\\n    }\\n,this)]\\n        [this[\\\"changes\\\"].subscribe((function (val){!(this.valueFromJulia[\\\"changes\\\"]) ? (WebIO.setval({\\\"name\\\":\\\"changes\\\",\\\"scope\\\":\\\"12455036567818833861\\\",\\\"id\\\":\\\"5577459816416801455\\\",\\\"type\\\":\\\"observable\\\"},val)) : undefined; return this.valueFromJulia[\\\"changes\\\"]=false}),self),this[\\\"index\\\"].subscribe((function (val){!(this.valueFromJulia[\\\"index\\\"]) ? (WebIO.setval({\\\"name\\\":\\\"index\\\",\\\"scope\\\":\\\"12455036567818833861\\\",\\\"id\\\":\\\"122564590170184095\\\",\\\"type\\\":\\\"observable\\\"},val)) : undefined; return this.valueFromJulia[\\\"index\\\"]=false}),self)]\\n        \\n    }\\n    self.model = new AppViewModel();\\n    self.valueFromJulia = {};\\n    for (var key in json_data) {\\n        self.valueFromJulia[key] = false;\\n    }\\n    ko.applyBindings(self.model, self.dom);\\n}\\n);\\n    (WebIO.importBlock({\\\"data\\\":[{\\\"name\\\":\\\"knockout\\\",\\\"type\\\":\\\"js\\\",\\\"url\\\":\\\"\\/assetserver\\/727383f2a47bd31570b7da84eee7b022dd6d7c78-knockout.js\\\"},{\\\"name\\\":\\\"knockout_punches\\\",\\\"type\\\":\\\"js\\\",\\\"url\\\":\\\"\\/assetserver\\/382b41b3b1bd9f26f75861d360bad7f8beea211f-knockout_punches.js\\\"}],\\\"type\\\":\\\"async_block\\\"})).then((imports) => handler.apply(this, imports));\\n}\\n\"],\"observables\":{\"changes\":{\"sync\":false,\"id\":\"5577459816416801455\",\"value\":0},\"index\":{\"sync\":true,\"id\":\"122564590170184095\",\"value\":1}}},\"children\":[{\"props\":{\"className\":\"interact-flex-row interact-widget\"},\"nodeType\":\"DOM\",\"type\":\"node\",\"instanceArgs\":{\"namespace\":\"html\",\"tag\":\"div\"},\"children\":[{\"props\":{\"className\":\"interact-flex-row-left\"},\"nodeType\":\"DOM\",\"type\":\"node\",\"instanceArgs\":{\"namespace\":\"html\",\"tag\":\"div\"},\"children\":[{\"props\":{\"className\":\"interact \",\"style\":{\"padding\":\"5px 10px 0px 10px\"}},\"nodeType\":\"DOM\",\"type\":\"node\",\"instanceArgs\":{\"namespace\":\"html\",\"tag\":\"label\"},\"children\":[\"time\"]}]},{\"props\":{\"className\":\"interact-flex-row-center\"},\"nodeType\":\"DOM\",\"type\":\"node\",\"instanceArgs\":{\"namespace\":\"html\",\"tag\":\"div\"},\"children\":[{\"props\":{\"max\":400,\"min\":1,\"attributes\":{\"type\":\"range\",\"data-bind\":\"numericValue: index, valueUpdate: 'input', event: {change: function (){this.changes(this.changes()+1)}}\",\"orient\":\"horizontal\"},\"step\":1,\"className\":\"slider slider is-fullwidth\",\"style\":{}},\"nodeType\":\"DOM\",\"type\":\"node\",\"instanceArgs\":{\"namespace\":\"html\",\"tag\":\"input\"},\"children\":[]}]},{\"props\":{\"className\":\"interact-flex-row-right\"},\"nodeType\":\"DOM\",\"type\":\"node\",\"instanceArgs\":{\"namespace\":\"html\",\"tag\":\"div\"},\"children\":[{\"props\":{\"attributes\":{\"data-bind\":\"text: formatted_val\"}},\"nodeType\":\"DOM\",\"type\":\"node\",\"instanceArgs\":{\"namespace\":\"html\",\"tag\":\"p\"},\"children\":[]}]}]}]}]},{\"props\":{\"className\":\"field interact-widget\"},\"nodeType\":\"DOM\",\"type\":\"node\",\"instanceArgs\":{\"namespace\":\"html\",\"tag\":\"div\"},\"children\":[{\"props\":{},\"nodeType\":\"Scope\",\"type\":\"node\",\"instanceArgs\":{\"imports\":{\"data\":[{\"name\":\"knockout\",\"type\":\"js\",\"url\":\"\\/assetserver\\/727383f2a47bd31570b7da84eee7b022dd6d7c78-knockout.js\"},{\"name\":\"knockout_punches\",\"type\":\"js\",\"url\":\"\\/assetserver\\/382b41b3b1bd9f26f75861d360bad7f8beea211f-knockout_punches.js\"},{\"name\":null,\"type\":\"js\",\"url\":\"\\/assetserver\\/5ab20f1060420992a9b82a65b735dee4d81ef413-all.js\"},{\"name\":null,\"type\":\"css\",\"url\":\"\\/assetserver\\/1cc0ed62837210b80a182cc3676512f895dab686-style.css\"},{\"name\":null,\"type\":\"css\",\"url\":\"\\/assetserver\\/2eee816f616df3549d7044d45e744fbf8d42bfa1-bulma_confined.min.css\"}],\"type\":\"async_block\"},\"id\":\"4156321787078339315\",\"handlers\":{\"changes\":[\"(function (val){return (val!=this.model[\\\"changes\\\"]()) ? (this.valueFromJulia[\\\"changes\\\"]=true, this.model[\\\"changes\\\"](val)) : undefined})\"],\"index\":[\"(function (val){return (val!=this.model[\\\"index\\\"]()) ? (this.valueFromJulia[\\\"index\\\"]=true, this.model[\\\"index\\\"](val)) : undefined})\"]},\"systemjs_options\":null,\"mount_callbacks\":[\"function () {\\n    var handler = (function (ko, koPunches) {\\n    ko.punches.enableAll();\\n    ko.bindingHandlers.numericValue = {\\n        init: function(element, valueAccessor, allBindings, data, context) {\\n            var stringified = ko.observable(ko.unwrap(valueAccessor()));\\n            stringified.subscribe(function(value) {\\n                var val = parseFloat(value);\\n                if (!isNaN(val)) {\\n                    valueAccessor()(val);\\n                }\\n            });\\n            valueAccessor().subscribe(function(value) {\\n                var str = JSON.stringify(value);\\n                if ((str == \\\"0\\\") && ([\\\"-0\\\", \\\"-0.\\\"].indexOf(stringified()) >= 0))\\n                     return;\\n                 if ([\\\"null\\\", \\\"\\\"].indexOf(str) >= 0)\\n                     return;\\n                stringified(str);\\n            });\\n            ko.applyBindingsToNode(\\n                element,\\n                {\\n                    value: stringified,\\n                    valueUpdate: allBindings.get('valueUpdate'),\\n                },\\n                context,\\n            );\\n        }\\n    };\\n    var json_data = {\\\"formatted_vals\\\":[\\\"0.1\\\",\\\"0.2\\\",\\\"0.3\\\",\\\"0.4\\\",\\\"0.5\\\",\\\"0.6\\\",\\\"0.7\\\",\\\"0.8\\\",\\\"0.9\\\",\\\"1.0\\\",\\\"1.1\\\",\\\"1.2\\\",\\\"1.3\\\",\\\"1.4\\\",\\\"1.5\\\",\\\"1.6\\\",\\\"1.7\\\",\\\"1.8\\\",\\\"1.9\\\",\\\"2.0\\\"],\\\"changes\\\":WebIO.getval({\\\"name\\\":\\\"changes\\\",\\\"scope\\\":\\\"4156321787078339315\\\",\\\"id\\\":\\\"11220132754541302478\\\",\\\"type\\\":\\\"observable\\\"}),\\\"index\\\":WebIO.getval({\\\"name\\\":\\\"index\\\",\\\"scope\\\":\\\"4156321787078339315\\\",\\\"id\\\":\\\"11290672408385420896\\\",\\\"type\\\":\\\"observable\\\"})};\\n    var self = this;\\n    function AppViewModel() {\\n        for (var key in json_data) {\\n            var el = json_data[key];\\n            this[key] = Array.isArray(el) ? ko.observableArray(el) : ko.observable(el);\\n        }\\n        \\n        [this[\\\"formatted_val\\\"]=ko.computed(    function(){\\n        return this.formatted_vals()[parseInt(this.index())-(1)];\\n    }\\n,this)]\\n        [this[\\\"changes\\\"].subscribe((function (val){!(this.valueFromJulia[\\\"changes\\\"]) ? (WebIO.setval({\\\"name\\\":\\\"changes\\\",\\\"scope\\\":\\\"4156321787078339315\\\",\\\"id\\\":\\\"11220132754541302478\\\",\\\"type\\\":\\\"observable\\\"},val)) : undefined; return this.valueFromJulia[\\\"changes\\\"]=false}),self),this[\\\"index\\\"].subscribe((function (val){!(this.valueFromJulia[\\\"index\\\"]) ? (WebIO.setval({\\\"name\\\":\\\"index\\\",\\\"scope\\\":\\\"4156321787078339315\\\",\\\"id\\\":\\\"11290672408385420896\\\",\\\"type\\\":\\\"observable\\\"},val)) : undefined; return this.valueFromJulia[\\\"index\\\"]=false}),self)]\\n        \\n    }\\n    self.model = new AppViewModel();\\n    self.valueFromJulia = {};\\n    for (var key in json_data) {\\n        self.valueFromJulia[key] = false;\\n    }\\n    ko.applyBindings(self.model, self.dom);\\n}\\n);\\n    (WebIO.importBlock({\\\"data\\\":[{\\\"name\\\":\\\"knockout\\\",\\\"type\\\":\\\"js\\\",\\\"url\\\":\\\"\\/assetserver\\/727383f2a47bd31570b7da84eee7b022dd6d7c78-knockout.js\\\"},{\\\"name\\\":\\\"knockout_punches\\\",\\\"type\\\":\\\"js\\\",\\\"url\\\":\\\"\\/assetserver\\/382b41b3b1bd9f26f75861d360bad7f8beea211f-knockout_punches.js\\\"}],\\\"type\\\":\\\"async_block\\\"})).then((imports) => handler.apply(this, imports));\\n}\\n\"],\"observables\":{\"changes\":{\"sync\":false,\"id\":\"11220132754541302478\",\"value\":0},\"index\":{\"sync\":true,\"id\":\"11290672408385420896\",\"value\":10}}},\"children\":[{\"props\":{\"className\":\"interact-flex-row interact-widget\"},\"nodeType\":\"DOM\",\"type\":\"node\",\"instanceArgs\":{\"namespace\":\"html\",\"tag\":\"div\"},\"children\":[{\"props\":{\"className\":\"interact-flex-row-left\"},\"nodeType\":\"DOM\",\"type\":\"node\",\"instanceArgs\":{\"namespace\":\"html\",\"tag\":\"div\"},\"children\":[{\"props\":{\"className\":\"interact \",\"style\":{\"padding\":\"5px 10px 0px 10px\"}},\"nodeType\":\"DOM\",\"type\":\"node\",\"instanceArgs\":{\"namespace\":\"html\",\"tag\":\"label\"},\"children\":[\"scale\"]}]},{\"props\":{\"className\":\"interact-flex-row-center\"},\"nodeType\":\"DOM\",\"type\":\"node\",\"instanceArgs\":{\"namespace\":\"html\",\"tag\":\"div\"},\"children\":[{\"props\":{\"max\":20,\"min\":1,\"attributes\":{\"type\":\"range\",\"data-bind\":\"numericValue: index, valueUpdate: 'input', event: {change: function (){this.changes(this.changes()+1)}}\",\"orient\":\"horizontal\"},\"step\":1,\"className\":\"slider slider is-fullwidth\",\"style\":{}},\"nodeType\":\"DOM\",\"type\":\"node\",\"instanceArgs\":{\"namespace\":\"html\",\"tag\":\"input\"},\"children\":[]}]},{\"props\":{\"className\":\"interact-flex-row-right\"},\"nodeType\":\"DOM\",\"type\":\"node\",\"instanceArgs\":{\"namespace\":\"html\",\"tag\":\"div\"},\"children\":[{\"props\":{\"attributes\":{\"data-bind\":\"text: formatted_val\"}},\"nodeType\":\"DOM\",\"type\":\"node\",\"instanceArgs\":{\"namespace\":\"html\",\"tag\":\"p\"},\"children\":[]}]}]}]}]},{\"props\":{\"style\":{\"display\":\"flex\",\"flex-direction\":\"column\"}},\"nodeType\":\"DOM\",\"type\":\"node\",\"instanceArgs\":{\"namespace\":\"html\",\"tag\":\"div\"},\"children\":[]},{\"props\":{\"style\":{\"display\":\"flex\",\"flex-direction\":\"column\"}},\"nodeType\":\"DOM\",\"type\":\"node\",\"instanceArgs\":{\"namespace\":\"html\",\"tag\":\"div\"},\"children\":[{\"props\":{\"className\":\"field interact-widget\"},\"nodeType\":\"DOM\",\"type\":\"node\",\"instanceArgs\":{\"namespace\":\"html\",\"tag\":\"div\"},\"children\":[{\"props\":{},\"nodeType\":\"Scope\",\"type\":\"node\",\"instanceArgs\":{\"imports\":{\"data\":[{\"name\":\"knockout\",\"type\":\"js\",\"url\":\"\\/assetserver\\/727383f2a47bd31570b7da84eee7b022dd6d7c78-knockout.js\"},{\"name\":\"knockout_punches\",\"type\":\"js\",\"url\":\"\\/assetserver\\/382b41b3b1bd9f26f75861d360bad7f8beea211f-knockout_punches.js\"},{\"name\":null,\"type\":\"js\",\"url\":\"\\/assetserver\\/5ab20f1060420992a9b82a65b735dee4d81ef413-all.js\"},{\"name\":null,\"type\":\"css\",\"url\":\"\\/assetserver\\/1cc0ed62837210b80a182cc3676512f895dab686-style.css\"},{\"name\":null,\"type\":\"css\",\"url\":\"\\/assetserver\\/2eee816f616df3549d7044d45e744fbf8d42bfa1-bulma_confined.min.css\"}],\"type\":\"async_block\"},\"id\":\"5590859279286230658\",\"handlers\":{\"changes\":[\"(function (val){return (val!=this.model[\\\"changes\\\"]()) ? (this.valueFromJulia[\\\"changes\\\"]=true, this.model[\\\"changes\\\"](val)) : undefined})\"],\"index\":[\"(function (val){return (val!=this.model[\\\"index\\\"]()) ? (this.valueFromJulia[\\\"index\\\"]=true, this.model[\\\"index\\\"](val)) : undefined})\"]},\"systemjs_options\":null,\"mount_callbacks\":[\"function () {\\n    var handler = (function (ko, koPunches) {\\n    ko.punches.enableAll();\\n    ko.bindingHandlers.numericValue = {\\n        init: function(element, valueAccessor, allBindings, data, context) {\\n            var stringified = ko.observable(ko.unwrap(valueAccessor()));\\n            stringified.subscribe(function(value) {\\n                var val = parseFloat(value);\\n                if (!isNaN(val)) {\\n                    valueAccessor()(val);\\n                }\\n            });\\n            valueAccessor().subscribe(function(value) {\\n                var str = JSON.stringify(value);\\n                if ((str == \\\"0\\\") && ([\\\"-0\\\", \\\"-0.\\\"].indexOf(stringified()) >= 0))\\n                     return;\\n                 if ([\\\"null\\\", \\\"\\\"].indexOf(str) >= 0)\\n                     return;\\n                stringified(str);\\n            });\\n            ko.applyBindingsToNode(\\n                element,\\n                {\\n                    value: stringified,\\n                    valueUpdate: allBindings.get('valueUpdate'),\\n                },\\n                context,\\n            );\\n        }\\n    };\\n    var json_data = {\\\"formatted_vals\\\":[\\\"1\\\",\\\"2\\\",\\\"3\\\",\\\"4\\\",\\\"5\\\",\\\"6\\\",\\\"7\\\",\\\"8\\\"],\\\"changes\\\":WebIO.getval({\\\"name\\\":\\\"changes\\\",\\\"scope\\\":\\\"5590859279286230658\\\",\\\"id\\\":\\\"12060606111140976203\\\",\\\"type\\\":\\\"observable\\\"}),\\\"index\\\":WebIO.getval({\\\"name\\\":\\\"index\\\",\\\"scope\\\":\\\"5590859279286230658\\\",\\\"id\\\":\\\"2431762762338503400\\\",\\\"type\\\":\\\"observable\\\"})};\\n    var self = this;\\n    function AppViewModel() {\\n        for (var key in json_data) {\\n            var el = json_data[key];\\n            this[key] = Array.isArray(el) ? ko.observableArray(el) : ko.observable(el);\\n        }\\n        \\n        [this[\\\"formatted_val\\\"]=ko.computed(    function(){\\n        return this.formatted_vals()[parseInt(this.index())-(1)];\\n    }\\n,this)]\\n        [this[\\\"changes\\\"].subscribe((function (val){!(this.valueFromJulia[\\\"changes\\\"]) ? (WebIO.setval({\\\"name\\\":\\\"changes\\\",\\\"scope\\\":\\\"5590859279286230658\\\",\\\"id\\\":\\\"12060606111140976203\\\",\\\"type\\\":\\\"observable\\\"},val)) : undefined; return this.valueFromJulia[\\\"changes\\\"]=false}),self),this[\\\"index\\\"].subscribe((function (val){!(this.valueFromJulia[\\\"index\\\"]) ? (WebIO.setval({\\\"name\\\":\\\"index\\\",\\\"scope\\\":\\\"5590859279286230658\\\",\\\"id\\\":\\\"2431762762338503400\\\",\\\"type\\\":\\\"observable\\\"},val)) : undefined; return this.valueFromJulia[\\\"index\\\"]=false}),self)]\\n        \\n    }\\n    self.model = new AppViewModel();\\n    self.valueFromJulia = {};\\n    for (var key in json_data) {\\n        self.valueFromJulia[key] = false;\\n    }\\n    ko.applyBindings(self.model, self.dom);\\n}\\n);\\n    (WebIO.importBlock({\\\"data\\\":[{\\\"name\\\":\\\"knockout\\\",\\\"type\\\":\\\"js\\\",\\\"url\\\":\\\"\\/assetserver\\/727383f2a47bd31570b7da84eee7b022dd6d7c78-knockout.js\\\"},{\\\"name\\\":\\\"knockout_punches\\\",\\\"type\\\":\\\"js\\\",\\\"url\\\":\\\"\\/assetserver\\/382b41b3b1bd9f26f75861d360bad7f8beea211f-knockout_punches.js\\\"}],\\\"type\\\":\\\"async_block\\\"})).then((imports) => handler.apply(this, imports));\\n}\\n\"],\"observables\":{\"changes\":{\"sync\":false,\"id\":\"12060606111140976203\",\"value\":0},\"index\":{\"sync\":true,\"id\":\"2431762762338503400\",\"value\":4}}},\"children\":[{\"props\":{\"className\":\"interact-flex-row interact-widget\"},\"nodeType\":\"DOM\",\"type\":\"node\",\"instanceArgs\":{\"namespace\":\"html\",\"tag\":\"div\"},\"children\":[{\"props\":{\"className\":\"interact-flex-row-left\"},\"nodeType\":\"DOM\",\"type\":\"node\",\"instanceArgs\":{\"namespace\":\"html\",\"tag\":\"div\"},\"children\":[{\"props\":{\"className\":\"interact \",\"style\":{\"padding\":\"5px 10px 0px 10px\"}},\"nodeType\":\"DOM\",\"type\":\"node\",\"instanceArgs\":{\"namespace\":\"html\",\"tag\":\"label\"},\"children\":[\"threshold\"]}]},{\"props\":{\"className\":\"interact-flex-row-center\"},\"nodeType\":\"DOM\",\"type\":\"node\",\"instanceArgs\":{\"namespace\":\"html\",\"tag\":\"div\"},\"children\":[{\"props\":{\"max\":8,\"min\":1,\"attributes\":{\"type\":\"range\",\"data-bind\":\"numericValue: index, valueUpdate: 'input', event: {change: function (){this.changes(this.changes()+1)}}\",\"orient\":\"horizontal\"},\"step\":1,\"className\":\"slider slider is-fullwidth\",\"style\":{}},\"nodeType\":\"DOM\",\"type\":\"node\",\"instanceArgs\":{\"namespace\":\"html\",\"tag\":\"input\"},\"children\":[]}]},{\"props\":{\"className\":\"interact-flex-row-right\"},\"nodeType\":\"DOM\",\"type\":\"node\",\"instanceArgs\":{\"namespace\":\"html\",\"tag\":\"div\"},\"children\":[{\"props\":{\"attributes\":{\"data-bind\":\"text: formatted_val\"}},\"nodeType\":\"DOM\",\"type\":\"node\",\"instanceArgs\":{\"namespace\":\"html\",\"tag\":\"p\"},\"children\":[]}]}]}]}]}]},{\"props\":{\"style\":{\"display\":\"flex\",\"flex-direction\":\"row\"}},\"nodeType\":\"DOM\",\"type\":\"node\",\"instanceArgs\":{\"namespace\":\"html\",\"tag\":\"div\"},\"children\":[{\"props\":{\"className\":\"interact-widget\"},\"nodeType\":\"DOM\",\"type\":\"node\",\"instanceArgs\":{\"namespace\":\"html\",\"tag\":\"div\"},\"children\":[{\"props\":{},\"nodeType\":\"Scope\",\"type\":\"node\",\"instanceArgs\":{\"imports\":{\"data\":[{\"name\":null,\"type\":\"js\",\"url\":\"\\/assetserver\\/dd22ed1bf1896c2748f3fe616ce0b838adc895c1-katex.min.js\"},{\"name\":null,\"type\":\"css\",\"url\":\"\\/assetserver\\/46517a424aa5e6cffc1360d7e0848b601c584ee3-katex.min.css\"}],\"type\":\"async_block\"},\"id\":\"17873189310906655983\",\"handlers\":{\"value\":[\"(function (txt){return this.k.render(txt,this.container)})\"]},\"systemjs_options\":null,\"mount_callbacks\":[\"function () {\\n    var handler = ((function (k){this.k=k; this.container=this.dom.querySelector(\\\"#container\\\"); return k.render(\\\"\\\\\\\\;\\\\\\\\;\\\",this.container)}));\\n    (WebIO.importBlock({\\\"data\\\":[{\\\"name\\\":null,\\\"type\\\":\\\"js\\\",\\\"url\\\":\\\"\\/assetserver\\/dd22ed1bf1896c2748f3fe616ce0b838adc895c1-katex.min.js\\\"},{\\\"name\\\":null,\\\"type\\\":\\\"css\\\",\\\"url\\\":\\\"\\/assetserver\\/46517a424aa5e6cffc1360d7e0848b601c584ee3-katex.min.css\\\"}],\\\"type\\\":\\\"async_block\\\"})).then((imports) => handler.apply(this, imports));\\n}\\n\"],\"observables\":{\"value\":{\"sync\":false,\"id\":\"11445127687581785666\",\"value\":\"\\\\;\\\\;\"}}},\"children\":[{\"props\":{\"id\":\"container\"},\"nodeType\":\"DOM\",\"type\":\"node\",\"instanceArgs\":{\"namespace\":\"html\",\"tag\":\"div\"},\"children\":[]}]}]},{\"props\":{\"className\":\"field interact-widget\"},\"nodeType\":\"DOM\",\"type\":\"node\",\"instanceArgs\":{\"namespace\":\"html\",\"tag\":\"div\"},\"children\":[{\"props\":{},\"nodeType\":\"Scope\",\"type\":\"node\",\"instanceArgs\":{\"imports\":{\"data\":[{\"name\":\"knockout\",\"type\":\"js\",\"url\":\"\\/assetserver\\/727383f2a47bd31570b7da84eee7b022dd6d7c78-knockout.js\"},{\"name\":\"knockout_punches\",\"type\":\"js\",\"url\":\"\\/assetserver\\/382b41b3b1bd9f26f75861d360bad7f8beea211f-knockout_punches.js\"},{\"name\":null,\"type\":\"js\",\"url\":\"\\/assetserver\\/5ab20f1060420992a9b82a65b735dee4d81ef413-all.js\"},{\"name\":null,\"type\":\"css\",\"url\":\"\\/assetserver\\/1cc0ed62837210b80a182cc3676512f895dab686-style.css\"},{\"name\":null,\"type\":\"css\",\"url\":\"\\/assetserver\\/2eee816f616df3549d7044d45e744fbf8d42bfa1-bulma_confined.min.css\"}],\"type\":\"async_block\"},\"id\":\"13121430866860545912\",\"handlers\":{\"loading\":[\"(function (val){return (val!=this.model[\\\"loading\\\"]()) ? (this.valueFromJulia[\\\"loading\\\"]=true, this.model[\\\"loading\\\"](val)) : undefined})\"],\"clicks\":[\"(function (val){return (val!=this.model[\\\"clicks\\\"]()) ? (this.valueFromJulia[\\\"clicks\\\"]=true, this.model[\\\"clicks\\\"](val)) : undefined})\"]},\"systemjs_options\":null,\"mount_callbacks\":[\"function () {\\n    var handler = (function (ko, koPunches) {\\n    ko.punches.enableAll();\\n    ko.bindingHandlers.numericValue = {\\n        init: function(element, valueAccessor, allBindings, data, context) {\\n            var stringified = ko.observable(ko.unwrap(valueAccessor()));\\n            stringified.subscribe(function(value) {\\n                var val = parseFloat(value);\\n                if (!isNaN(val)) {\\n                    valueAccessor()(val);\\n                }\\n            });\\n            valueAccessor().subscribe(function(value) {\\n                var str = JSON.stringify(value);\\n                if ((str == \\\"0\\\") && ([\\\"-0\\\", \\\"-0.\\\"].indexOf(stringified()) >= 0))\\n                     return;\\n                 if ([\\\"null\\\", \\\"\\\"].indexOf(str) >= 0)\\n                     return;\\n                stringified(str);\\n            });\\n            ko.applyBindingsToNode(\\n                element,\\n                {\\n                    value: stringified,\\n                    valueUpdate: allBindings.get('valueUpdate'),\\n                },\\n                context,\\n            );\\n        }\\n    };\\n    var json_data = {\\\"loading\\\":WebIO.getval({\\\"name\\\":\\\"loading\\\",\\\"scope\\\":\\\"13121430866860545912\\\",\\\"id\\\":\\\"12758888601313807106\\\",\\\"type\\\":\\\"observable\\\"}),\\\"clicks\\\":WebIO.getval({\\\"name\\\":\\\"clicks\\\",\\\"scope\\\":\\\"13121430866860545912\\\",\\\"id\\\":\\\"15806153727727526535\\\",\\\"type\\\":\\\"observable\\\"})};\\n    var self = this;\\n    function AppViewModel() {\\n        for (var key in json_data) {\\n            var el = json_data[key];\\n            this[key] = Array.isArray(el) ? ko.observableArray(el) : ko.observable(el);\\n        }\\n        \\n        \\n        [this[\\\"loading\\\"].subscribe((function (val){!(this.valueFromJulia[\\\"loading\\\"]) ? (WebIO.setval({\\\"name\\\":\\\"loading\\\",\\\"scope\\\":\\\"13121430866860545912\\\",\\\"id\\\":\\\"12758888601313807106\\\",\\\"type\\\":\\\"observable\\\"},val)) : undefined; return this.valueFromJulia[\\\"loading\\\"]=false}),self),this[\\\"clicks\\\"].subscribe((function (val){!(this.valueFromJulia[\\\"clicks\\\"]) ? (WebIO.setval({\\\"name\\\":\\\"clicks\\\",\\\"scope\\\":\\\"13121430866860545912\\\",\\\"id\\\":\\\"15806153727727526535\\\",\\\"type\\\":\\\"observable\\\"},val)) : undefined; return this.valueFromJulia[\\\"clicks\\\"]=false}),self)]\\n        \\n    }\\n    self.model = new AppViewModel();\\n    self.valueFromJulia = {};\\n    for (var key in json_data) {\\n        self.valueFromJulia[key] = false;\\n    }\\n    ko.applyBindings(self.model, self.dom);\\n}\\n);\\n    (WebIO.importBlock({\\\"data\\\":[{\\\"name\\\":\\\"knockout\\\",\\\"type\\\":\\\"js\\\",\\\"url\\\":\\\"\\/assetserver\\/727383f2a47bd31570b7da84eee7b022dd6d7c78-knockout.js\\\"},{\\\"name\\\":\\\"knockout_punches\\\",\\\"type\\\":\\\"js\\\",\\\"url\\\":\\\"\\/assetserver\\/382b41b3b1bd9f26f75861d360bad7f8beea211f-knockout_punches.js\\\"}],\\\"type\\\":\\\"async_block\\\"})).then((imports) => handler.apply(this, imports));\\n}\\n\"],\"observables\":{\"loading\":{\"sync\":false,\"id\":\"12758888601313807106\",\"value\":false},\"clicks\":{\"sync\":true,\"id\":\"15806153727727526535\",\"value\":0}}},\"children\":[{\"props\":{\"attributes\":{\"data-bind\":\"click: function (){this.clicks(this.clicks()+1)}, css: {'is-loading' : loading}\"},\"className\":\"is-medium button is-primary\",\"style\":{}},\"nodeType\":\"DOM\",\"type\":\"node\",\"instanceArgs\":{\"namespace\":\"html\",\"tag\":\"button\"},\"children\":[\"run\"]}]}]},{\"props\":{\"className\":\"interact-widget\"},\"nodeType\":\"DOM\",\"type\":\"node\",\"instanceArgs\":{\"namespace\":\"html\",\"tag\":\"div\"},\"children\":[{\"props\":{},\"nodeType\":\"Scope\",\"type\":\"node\",\"instanceArgs\":{\"imports\":{\"data\":[{\"name\":null,\"type\":\"js\",\"url\":\"\\/assetserver\\/dd22ed1bf1896c2748f3fe616ce0b838adc895c1-katex.min.js\"},{\"name\":null,\"type\":\"css\",\"url\":\"\\/assetserver\\/46517a424aa5e6cffc1360d7e0848b601c584ee3-katex.min.css\"}],\"type\":\"async_block\"},\"id\":\"17873189310906655983\",\"handlers\":{\"value\":[\"(function (txt){return this.k.render(txt,this.container)})\"]},\"systemjs_options\":null,\"mount_callbacks\":[\"function () {\\n    var handler = ((function (k){this.k=k; this.container=this.dom.querySelector(\\\"#container\\\"); return k.render(\\\"\\\\\\\\;\\\\\\\\;\\\",this.container)}));\\n    (WebIO.importBlock({\\\"data\\\":[{\\\"name\\\":null,\\\"type\\\":\\\"js\\\",\\\"url\\\":\\\"\\/assetserver\\/dd22ed1bf1896c2748f3fe616ce0b838adc895c1-katex.min.js\\\"},{\\\"name\\\":null,\\\"type\\\":\\\"css\\\",\\\"url\\\":\\\"\\/assetserver\\/46517a424aa5e6cffc1360d7e0848b601c584ee3-katex.min.css\\\"}],\\\"type\\\":\\\"async_block\\\"})).then((imports) => handler.apply(this, imports));\\n}\\n\"],\"observables\":{\"value\":{\"sync\":false,\"id\":\"11445127687581785666\",\"value\":\"\\\\;\\\\;\"}}},\"children\":[{\"props\":{\"id\":\"container\"},\"nodeType\":\"DOM\",\"type\":\"node\",\"instanceArgs\":{\"namespace\":\"html\",\"tag\":\"div\"},\"children\":[]}]}]},{\"props\":{\"className\":\"field interact-widget\"},\"nodeType\":\"DOM\",\"type\":\"node\",\"instanceArgs\":{\"namespace\":\"html\",\"tag\":\"div\"},\"children\":[{\"props\":{},\"nodeType\":\"Scope\",\"type\":\"node\",\"instanceArgs\":{\"imports\":{\"data\":[{\"name\":\"knockout\",\"type\":\"js\",\"url\":\"\\/assetserver\\/727383f2a47bd31570b7da84eee7b022dd6d7c78-knockout.js\"},{\"name\":\"knockout_punches\",\"type\":\"js\",\"url\":\"\\/assetserver\\/382b41b3b1bd9f26f75861d360bad7f8beea211f-knockout_punches.js\"},{\"name\":null,\"type\":\"js\",\"url\":\"\\/assetserver\\/5ab20f1060420992a9b82a65b735dee4d81ef413-all.js\"},{\"name\":null,\"type\":\"css\",\"url\":\"\\/assetserver\\/1cc0ed62837210b80a182cc3676512f895dab686-style.css\"},{\"name\":null,\"type\":\"css\",\"url\":\"\\/assetserver\\/2eee816f616df3549d7044d45e744fbf8d42bfa1-bulma_confined.min.css\"}],\"type\":\"async_block\"},\"id\":\"2788532884166778886\",\"handlers\":{\"loading\":[\"(function (val){return (val!=this.model[\\\"loading\\\"]()) ? (this.valueFromJulia[\\\"loading\\\"]=true, this.model[\\\"loading\\\"](val)) : undefined})\"],\"clicks\":[\"(function (val){return (val!=this.model[\\\"clicks\\\"]()) ? (this.valueFromJulia[\\\"clicks\\\"]=true, this.model[\\\"clicks\\\"](val)) : undefined})\"]},\"systemjs_options\":null,\"mount_callbacks\":[\"function () {\\n    var handler = (function (ko, koPunches) {\\n    ko.punches.enableAll();\\n    ko.bindingHandlers.numericValue = {\\n        init: function(element, valueAccessor, allBindings, data, context) {\\n            var stringified = ko.observable(ko.unwrap(valueAccessor()));\\n            stringified.subscribe(function(value) {\\n                var val = parseFloat(value);\\n                if (!isNaN(val)) {\\n                    valueAccessor()(val);\\n                }\\n            });\\n            valueAccessor().subscribe(function(value) {\\n                var str = JSON.stringify(value);\\n                if ((str == \\\"0\\\") && ([\\\"-0\\\", \\\"-0.\\\"].indexOf(stringified()) >= 0))\\n                     return;\\n                 if ([\\\"null\\\", \\\"\\\"].indexOf(str) >= 0)\\n                     return;\\n                stringified(str);\\n            });\\n            ko.applyBindingsToNode(\\n                element,\\n                {\\n                    value: stringified,\\n                    valueUpdate: allBindings.get('valueUpdate'),\\n                },\\n                context,\\n            );\\n        }\\n    };\\n    var json_data = {\\\"loading\\\":WebIO.getval({\\\"name\\\":\\\"loading\\\",\\\"scope\\\":\\\"2788532884166778886\\\",\\\"id\\\":\\\"13202508729777867594\\\",\\\"type\\\":\\\"observable\\\"}),\\\"clicks\\\":WebIO.getval({\\\"name\\\":\\\"clicks\\\",\\\"scope\\\":\\\"2788532884166778886\\\",\\\"id\\\":\\\"5902948688267274878\\\",\\\"type\\\":\\\"observable\\\"})};\\n    var self = this;\\n    function AppViewModel() {\\n        for (var key in json_data) {\\n            var el = json_data[key];\\n            this[key] = Array.isArray(el) ? ko.observableArray(el) : ko.observable(el);\\n        }\\n        \\n        \\n        [this[\\\"loading\\\"].subscribe((function (val){!(this.valueFromJulia[\\\"loading\\\"]) ? (WebIO.setval({\\\"name\\\":\\\"loading\\\",\\\"scope\\\":\\\"2788532884166778886\\\",\\\"id\\\":\\\"13202508729777867594\\\",\\\"type\\\":\\\"observable\\\"},val)) : undefined; return this.valueFromJulia[\\\"loading\\\"]=false}),self),this[\\\"clicks\\\"].subscribe((function (val){!(this.valueFromJulia[\\\"clicks\\\"]) ? (WebIO.setval({\\\"name\\\":\\\"clicks\\\",\\\"scope\\\":\\\"2788532884166778886\\\",\\\"id\\\":\\\"5902948688267274878\\\",\\\"type\\\":\\\"observable\\\"},val)) : undefined; return this.valueFromJulia[\\\"clicks\\\"]=false}),self)]\\n        \\n    }\\n    self.model = new AppViewModel();\\n    self.valueFromJulia = {};\\n    for (var key in json_data) {\\n        self.valueFromJulia[key] = false;\\n    }\\n    ko.applyBindings(self.model, self.dom);\\n}\\n);\\n    (WebIO.importBlock({\\\"data\\\":[{\\\"name\\\":\\\"knockout\\\",\\\"type\\\":\\\"js\\\",\\\"url\\\":\\\"\\/assetserver\\/727383f2a47bd31570b7da84eee7b022dd6d7c78-knockout.js\\\"},{\\\"name\\\":\\\"knockout_punches\\\",\\\"type\\\":\\\"js\\\",\\\"url\\\":\\\"\\/assetserver\\/382b41b3b1bd9f26f75861d360bad7f8beea211f-knockout_punches.js\\\"}],\\\"type\\\":\\\"async_block\\\"})).then((imports) => handler.apply(this, imports));\\n}\\n\"],\"observables\":{\"loading\":{\"sync\":false,\"id\":\"13202508729777867594\",\"value\":false},\"clicks\":{\"sync\":true,\"id\":\"5902948688267274878\",\"value\":0}}},\"children\":[{\"props\":{\"attributes\":{\"data-bind\":\"click: function (){this.clicks(this.clicks()+1)}, css: {'is-loading' : loading}\"},\"className\":\"is-medium button is-primary\",\"style\":{}},\"nodeType\":\"DOM\",\"type\":\"node\",\"instanceArgs\":{\"namespace\":\"html\",\"tag\":\"button\"},\"children\":[\"stop\"]}]}]},{\"props\":{\"className\":\"interact-widget\"},\"nodeType\":\"DOM\",\"type\":\"node\",\"instanceArgs\":{\"namespace\":\"html\",\"tag\":\"div\"},\"children\":[{\"props\":{},\"nodeType\":\"Scope\",\"type\":\"node\",\"instanceArgs\":{\"imports\":{\"data\":[{\"name\":null,\"type\":\"js\",\"url\":\"\\/assetserver\\/dd22ed1bf1896c2748f3fe616ce0b838adc895c1-katex.min.js\"},{\"name\":null,\"type\":\"css\",\"url\":\"\\/assetserver\\/46517a424aa5e6cffc1360d7e0848b601c584ee3-katex.min.css\"}],\"type\":\"async_block\"},\"id\":\"17873189310906655983\",\"handlers\":{\"value\":[\"(function (txt){return this.k.render(txt,this.container)})\"]},\"systemjs_options\":null,\"mount_callbacks\":[\"function () {\\n    var handler = ((function (k){this.k=k; this.container=this.dom.querySelector(\\\"#container\\\"); return k.render(\\\"\\\\\\\\;\\\\\\\\;\\\",this.container)}));\\n    (WebIO.importBlock({\\\"data\\\":[{\\\"name\\\":null,\\\"type\\\":\\\"js\\\",\\\"url\\\":\\\"\\/assetserver\\/dd22ed1bf1896c2748f3fe616ce0b838adc895c1-katex.min.js\\\"},{\\\"name\\\":null,\\\"type\\\":\\\"css\\\",\\\"url\\\":\\\"\\/assetserver\\/46517a424aa5e6cffc1360d7e0848b601c584ee3-katex.min.css\\\"}],\\\"type\\\":\\\"async_block\\\"})).then((imports) => handler.apply(this, imports));\\n}\\n\"],\"observables\":{\"value\":{\"sync\":false,\"id\":\"11445127687581785666\",\"value\":\"\\\\;\\\\;\"}}},\"children\":[{\"props\":{\"id\":\"container\"},\"nodeType\":\"DOM\",\"type\":\"node\",\"instanceArgs\":{\"namespace\":\"html\",\"tag\":\"div\"},\"children\":[]}]}]},{\"props\":{\"className\":\"field interact-widget\"},\"nodeType\":\"DOM\",\"type\":\"node\",\"instanceArgs\":{\"namespace\":\"html\",\"tag\":\"div\"},\"children\":[{\"props\":{},\"nodeType\":\"Scope\",\"type\":\"node\",\"instanceArgs\":{\"imports\":{\"data\":[{\"name\":\"knockout\",\"type\":\"js\",\"url\":\"\\/assetserver\\/727383f2a47bd31570b7da84eee7b022dd6d7c78-knockout.js\"},{\"name\":\"knockout_punches\",\"type\":\"js\",\"url\":\"\\/assetserver\\/382b41b3b1bd9f26f75861d360bad7f8beea211f-knockout_punches.js\"},{\"name\":null,\"type\":\"js\",\"url\":\"\\/assetserver\\/5ab20f1060420992a9b82a65b735dee4d81ef413-all.js\"},{\"name\":null,\"type\":\"css\",\"url\":\"\\/assetserver\\/1cc0ed62837210b80a182cc3676512f895dab686-style.css\"},{\"name\":null,\"type\":\"css\",\"url\":\"\\/assetserver\\/2eee816f616df3549d7044d45e744fbf8d42bfa1-bulma_confined.min.css\"}],\"type\":\"async_block\"},\"id\":\"3296854992020656509\",\"handlers\":{\"loading\":[\"(function (val){return (val!=this.model[\\\"loading\\\"]()) ? (this.valueFromJulia[\\\"loading\\\"]=true, this.model[\\\"loading\\\"](val)) : undefined})\"],\"clicks\":[\"(function (val){return (val!=this.model[\\\"clicks\\\"]()) ? (this.valueFromJulia[\\\"clicks\\\"]=true, this.model[\\\"clicks\\\"](val)) : undefined})\"]},\"systemjs_options\":null,\"mount_callbacks\":[\"function () {\\n    var handler = (function (ko, koPunches) {\\n    ko.punches.enableAll();\\n    ko.bindingHandlers.numericValue = {\\n        init: function(element, valueAccessor, allBindings, data, context) {\\n            var stringified = ko.observable(ko.unwrap(valueAccessor()));\\n            stringified.subscribe(function(value) {\\n                var val = parseFloat(value);\\n                if (!isNaN(val)) {\\n                    valueAccessor()(val);\\n                }\\n            });\\n            valueAccessor().subscribe(function(value) {\\n                var str = JSON.stringify(value);\\n                if ((str == \\\"0\\\") && ([\\\"-0\\\", \\\"-0.\\\"].indexOf(stringified()) >= 0))\\n                     return;\\n                 if ([\\\"null\\\", \\\"\\\"].indexOf(str) >= 0)\\n                     return;\\n                stringified(str);\\n            });\\n            ko.applyBindingsToNode(\\n                element,\\n                {\\n                    value: stringified,\\n                    valueUpdate: allBindings.get('valueUpdate'),\\n                },\\n                context,\\n            );\\n        }\\n    };\\n    var json_data = {\\\"loading\\\":WebIO.getval({\\\"name\\\":\\\"loading\\\",\\\"scope\\\":\\\"3296854992020656509\\\",\\\"id\\\":\\\"3931129165521041085\\\",\\\"type\\\":\\\"observable\\\"}),\\\"clicks\\\":WebIO.getval({\\\"name\\\":\\\"clicks\\\",\\\"scope\\\":\\\"3296854992020656509\\\",\\\"id\\\":\\\"17809749458926459982\\\",\\\"type\\\":\\\"observable\\\"})};\\n    var self = this;\\n    function AppViewModel() {\\n        for (var key in json_data) {\\n            var el = json_data[key];\\n            this[key] = Array.isArray(el) ? ko.observableArray(el) : ko.observable(el);\\n        }\\n        \\n        \\n        [this[\\\"loading\\\"].subscribe((function (val){!(this.valueFromJulia[\\\"loading\\\"]) ? (WebIO.setval({\\\"name\\\":\\\"loading\\\",\\\"scope\\\":\\\"3296854992020656509\\\",\\\"id\\\":\\\"3931129165521041085\\\",\\\"type\\\":\\\"observable\\\"},val)) : undefined; return this.valueFromJulia[\\\"loading\\\"]=false}),self),this[\\\"clicks\\\"].subscribe((function (val){!(this.valueFromJulia[\\\"clicks\\\"]) ? (WebIO.setval({\\\"name\\\":\\\"clicks\\\",\\\"scope\\\":\\\"3296854992020656509\\\",\\\"id\\\":\\\"17809749458926459982\\\",\\\"type\\\":\\\"observable\\\"},val)) : undefined; return this.valueFromJulia[\\\"clicks\\\"]=false}),self)]\\n        \\n    }\\n    self.model = new AppViewModel();\\n    self.valueFromJulia = {};\\n    for (var key in json_data) {\\n        self.valueFromJulia[key] = false;\\n    }\\n    ko.applyBindings(self.model, self.dom);\\n}\\n);\\n    (WebIO.importBlock({\\\"data\\\":[{\\\"name\\\":\\\"knockout\\\",\\\"type\\\":\\\"js\\\",\\\"url\\\":\\\"\\/assetserver\\/727383f2a47bd31570b7da84eee7b022dd6d7c78-knockout.js\\\"},{\\\"name\\\":\\\"knockout_punches\\\",\\\"type\\\":\\\"js\\\",\\\"url\\\":\\\"\\/assetserver\\/382b41b3b1bd9f26f75861d360bad7f8beea211f-knockout_punches.js\\\"}],\\\"type\\\":\\\"async_block\\\"})).then((imports) => handler.apply(this, imports));\\n}\\n\"],\"observables\":{\"loading\":{\"sync\":false,\"id\":\"3931129165521041085\",\"value\":false},\"clicks\":{\"sync\":true,\"id\":\"17809749458926459982\",\"value\":0}}},\"children\":[{\"props\":{\"attributes\":{\"data-bind\":\"click: function (){this.clicks(this.clicks()+1)}, css: {'is-loading' : loading}\"},\"className\":\"is-medium button is-primary\",\"style\":{}},\"nodeType\":\"DOM\",\"type\":\"node\",\"instanceArgs\":{\"namespace\":\"html\",\"tag\":\"button\"},\"children\":[\"reset\"]}]}]},{\"props\":{\"className\":\"interact-widget\"},\"nodeType\":\"DOM\",\"type\":\"node\",\"instanceArgs\":{\"namespace\":\"html\",\"tag\":\"div\"},\"children\":[{\"props\":{},\"nodeType\":\"Scope\",\"type\":\"node\",\"instanceArgs\":{\"imports\":{\"data\":[{\"name\":null,\"type\":\"js\",\"url\":\"\\/assetserver\\/dd22ed1bf1896c2748f3fe616ce0b838adc895c1-katex.min.js\"},{\"name\":null,\"type\":\"css\",\"url\":\"\\/assetserver\\/46517a424aa5e6cffc1360d7e0848b601c584ee3-katex.min.css\"}],\"type\":\"async_block\"},\"id\":\"17873189310906655983\",\"handlers\":{\"value\":[\"(function (txt){return this.k.render(txt,this.container)})\"]},\"systemjs_options\":null,\"mount_callbacks\":[\"function () {\\n    var handler = ((function (k){this.k=k; this.container=this.dom.querySelector(\\\"#container\\\"); return k.render(\\\"\\\\\\\\;\\\\\\\\;\\\",this.container)}));\\n    (WebIO.importBlock({\\\"data\\\":[{\\\"name\\\":null,\\\"type\\\":\\\"js\\\",\\\"url\\\":\\\"\\/assetserver\\/dd22ed1bf1896c2748f3fe616ce0b838adc895c1-katex.min.js\\\"},{\\\"name\\\":null,\\\"type\\\":\\\"css\\\",\\\"url\\\":\\\"\\/assetserver\\/46517a424aa5e6cffc1360d7e0848b601c584ee3-katex.min.css\\\"}],\\\"type\\\":\\\"async_block\\\"})).then((imports) => handler.apply(this, imports));\\n}\\n\"],\"observables\":{\"value\":{\"sync\":false,\"id\":\"11445127687581785666\",\"value\":\"\\\\;\\\\;\"}}},\"children\":[{\"props\":{\"id\":\"container\"},\"nodeType\":\"DOM\",\"type\":\"node\",\"instanceArgs\":{\"namespace\":\"html\",\"tag\":\"div\"},\"children\":[]}]}]},{\"props\":{\"className\":\"field interact-widget\"},\"nodeType\":\"DOM\",\"type\":\"node\",\"instanceArgs\":{\"namespace\":\"html\",\"tag\":\"div\"},\"children\":[{\"props\":{},\"nodeType\":\"Scope\",\"type\":\"node\",\"instanceArgs\":{\"imports\":{\"data\":[{\"name\":\"knockout\",\"type\":\"js\",\"url\":\"\\/assetserver\\/727383f2a47bd31570b7da84eee7b022dd6d7c78-knockout.js\"},{\"name\":\"knockout_punches\",\"type\":\"js\",\"url\":\"\\/assetserver\\/382b41b3b1bd9f26f75861d360bad7f8beea211f-knockout_punches.js\"},{\"name\":null,\"type\":\"js\",\"url\":\"\\/assetserver\\/5ab20f1060420992a9b82a65b735dee4d81ef413-all.js\"},{\"name\":null,\"type\":\"css\",\"url\":\"\\/assetserver\\/1cc0ed62837210b80a182cc3676512f895dab686-style.css\"},{\"name\":null,\"type\":\"css\",\"url\":\"\\/assetserver\\/2eee816f616df3549d7044d45e744fbf8d42bfa1-bulma_confined.min.css\"}],\"type\":\"async_block\"},\"id\":\"3186967841384522977\",\"handlers\":{\"loading\":[\"(function (val){return (val!=this.model[\\\"loading\\\"]()) ? (this.valueFromJulia[\\\"loading\\\"]=true, this.model[\\\"loading\\\"](val)) : undefined})\"],\"clicks\":[\"(function (val){return (val!=this.model[\\\"clicks\\\"]()) ? (this.valueFromJulia[\\\"clicks\\\"]=true, this.model[\\\"clicks\\\"](val)) : undefined})\"]},\"systemjs_options\":null,\"mount_callbacks\":[\"function () {\\n    var handler = (function (ko, koPunches) {\\n    ko.punches.enableAll();\\n    ko.bindingHandlers.numericValue = {\\n        init: function(element, valueAccessor, allBindings, data, context) {\\n            var stringified = ko.observable(ko.unwrap(valueAccessor()));\\n            stringified.subscribe(function(value) {\\n                var val = parseFloat(value);\\n                if (!isNaN(val)) {\\n                    valueAccessor()(val);\\n                }\\n            });\\n            valueAccessor().subscribe(function(value) {\\n                var str = JSON.stringify(value);\\n                if ((str == \\\"0\\\") && ([\\\"-0\\\", \\\"-0.\\\"].indexOf(stringified()) >= 0))\\n                     return;\\n                 if ([\\\"null\\\", \\\"\\\"].indexOf(str) >= 0)\\n                     return;\\n                stringified(str);\\n            });\\n            ko.applyBindingsToNode(\\n                element,\\n                {\\n                    value: stringified,\\n                    valueUpdate: allBindings.get('valueUpdate'),\\n                },\\n                context,\\n            );\\n        }\\n    };\\n    var json_data = {\\\"loading\\\":WebIO.getval({\\\"name\\\":\\\"loading\\\",\\\"scope\\\":\\\"3186967841384522977\\\",\\\"id\\\":\\\"5653171876027605606\\\",\\\"type\\\":\\\"observable\\\"}),\\\"clicks\\\":WebIO.getval({\\\"name\\\":\\\"clicks\\\",\\\"scope\\\":\\\"3186967841384522977\\\",\\\"id\\\":\\\"11409068234983089333\\\",\\\"type\\\":\\\"observable\\\"})};\\n    var self = this;\\n    function AppViewModel() {\\n        for (var key in json_data) {\\n            var el = json_data[key];\\n            this[key] = Array.isArray(el) ? ko.observableArray(el) : ko.observable(el);\\n        }\\n        \\n        \\n        [this[\\\"loading\\\"].subscribe((function (val){!(this.valueFromJulia[\\\"loading\\\"]) ? (WebIO.setval({\\\"name\\\":\\\"loading\\\",\\\"scope\\\":\\\"3186967841384522977\\\",\\\"id\\\":\\\"5653171876027605606\\\",\\\"type\\\":\\\"observable\\\"},val)) : undefined; return this.valueFromJulia[\\\"loading\\\"]=false}),self),this[\\\"clicks\\\"].subscribe((function (val){!(this.valueFromJulia[\\\"clicks\\\"]) ? (WebIO.setval({\\\"name\\\":\\\"clicks\\\",\\\"scope\\\":\\\"3186967841384522977\\\",\\\"id\\\":\\\"11409068234983089333\\\",\\\"type\\\":\\\"observable\\\"},val)) : undefined; return this.valueFromJulia[\\\"clicks\\\"]=false}),self)]\\n        \\n    }\\n    self.model = new AppViewModel();\\n    self.valueFromJulia = {};\\n    for (var key in json_data) {\\n        self.valueFromJulia[key] = false;\\n    }\\n    ko.applyBindings(self.model, self.dom);\\n}\\n);\\n    (WebIO.importBlock({\\\"data\\\":[{\\\"name\\\":\\\"knockout\\\",\\\"type\\\":\\\"js\\\",\\\"url\\\":\\\"\\/assetserver\\/727383f2a47bd31570b7da84eee7b022dd6d7c78-knockout.js\\\"},{\\\"name\\\":\\\"knockout_punches\\\",\\\"type\\\":\\\"js\\\",\\\"url\\\":\\\"\\/assetserver\\/382b41b3b1bd9f26f75861d360bad7f8beea211f-knockout_punches.js\\\"}],\\\"type\\\":\\\"async_block\\\"})).then((imports) => handler.apply(this, imports));\\n}\\n\"],\"observables\":{\"loading\":{\"sync\":false,\"id\":\"5653171876027605606\",\"value\":false},\"clicks\":{\"sync\":true,\"id\":\"11409068234983089333\",\"value\":0}}},\"children\":[{\"props\":{\"attributes\":{\"data-bind\":\"click: function (){this.clicks(this.clicks()+1)}, css: {'is-loading' : loading}\"},\"className\":\"is-medium button is-primary\",\"style\":{}},\"nodeType\":\"DOM\",\"type\":\"node\",\"instanceArgs\":{\"namespace\":\"html\",\"tag\":\"button\"},\"children\":[\"save\"]}]}]}]}]},{\"props\":{\"className\":\"interact-widget\"},\"nodeType\":\"DOM\",\"type\":\"node\",\"instanceArgs\":{\"namespace\":\"html\",\"tag\":\"div\"},\"children\":[{\"props\":{},\"nodeType\":\"Scope\",\"type\":\"node\",\"instanceArgs\":{\"imports\":{\"data\":[{\"name\":null,\"type\":\"js\",\"url\":\"\\/assetserver\\/dd22ed1bf1896c2748f3fe616ce0b838adc895c1-katex.min.js\"},{\"name\":null,\"type\":\"css\",\"url\":\"\\/assetserver\\/46517a424aa5e6cffc1360d7e0848b601c584ee3-katex.min.css\"}],\"type\":\"async_block\"},\"id\":\"17873189310906655983\",\"handlers\":{\"value\":[\"(function (txt){return this.k.render(txt,this.container)})\"]},\"systemjs_options\":null,\"mount_callbacks\":[\"function () {\\n    var handler = ((function (k){this.k=k; this.container=this.dom.querySelector(\\\"#container\\\"); return k.render(\\\"\\\\\\\\;\\\\\\\\;\\\",this.container)}));\\n    (WebIO.importBlock({\\\"data\\\":[{\\\"name\\\":null,\\\"type\\\":\\\"js\\\",\\\"url\\\":\\\"\\/assetserver\\/dd22ed1bf1896c2748f3fe616ce0b838adc895c1-katex.min.js\\\"},{\\\"name\\\":null,\\\"type\\\":\\\"css\\\",\\\"url\\\":\\\"\\/assetserver\\/46517a424aa5e6cffc1360d7e0848b601c584ee3-katex.min.css\\\"}],\\\"type\\\":\\\"async_block\\\"})).then((imports) => handler.apply(this, imports));\\n}\\n\"],\"observables\":{\"value\":{\"sync\":false,\"id\":\"11445127687581785666\",\"value\":\"\\\\;\\\\;\"}}},\"children\":[{\"props\":{\"id\":\"container\"},\"nodeType\":\"DOM\",\"type\":\"node\",\"instanceArgs\":{\"namespace\":\"html\",\"tag\":\"div\"},\"children\":[]}]}]},{\"props\":{},\"nodeType\":\"Scope\",\"type\":\"node\",\"instanceArgs\":{\"imports\":{\"data\":[],\"type\":\"async_block\"},\"id\":\"1513288657346512406\",\"handlers\":{\"obs-output\":[\"function (value, scope) {\\n    scope.setInnerHTML(value);\\n}\\n\"]},\"systemjs_options\":null,\"mount_callbacks\":[],\"observables\":{\"obs-output\":{\"sync\":false,\"id\":\"11076586772139191791\",\"value\":\"<img src='data:image\\/png;base64,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'><\\/img>\"}}},\"children\":[{\"props\":{\"className\":\"webio-observable\",\"setInnerHtml\":\"<img src='data:image\\/png;base64,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'><\\/img>\"},\"nodeType\":\"DOM\",\"type\":\"node\",\"instanceArgs\":{\"namespace\":\"html\",\"tag\":\"div\"},\"children\":[]}]},{\"props\":{\"className\":\"interact-widget\"},\"nodeType\":\"DOM\",\"type\":\"node\",\"instanceArgs\":{\"namespace\":\"html\",\"tag\":\"div\"},\"children\":[{\"props\":{},\"nodeType\":\"Scope\",\"type\":\"node\",\"instanceArgs\":{\"imports\":{\"data\":[{\"name\":null,\"type\":\"js\",\"url\":\"\\/assetserver\\/dd22ed1bf1896c2748f3fe616ce0b838adc895c1-katex.min.js\"},{\"name\":null,\"type\":\"css\",\"url\":\"\\/assetserver\\/46517a424aa5e6cffc1360d7e0848b601c584ee3-katex.min.css\"}],\"type\":\"async_block\"},\"id\":\"17873189310906655983\",\"handlers\":{\"value\":[\"(function (txt){return this.k.render(txt,this.container)})\"]},\"systemjs_options\":null,\"mount_callbacks\":[\"function () {\\n    var handler = ((function (k){this.k=k; this.container=this.dom.querySelector(\\\"#container\\\"); return k.render(\\\"\\\\\\\\;\\\\\\\\;\\\",this.container)}));\\n    (WebIO.importBlock({\\\"data\\\":[{\\\"name\\\":null,\\\"type\\\":\\\"js\\\",\\\"url\\\":\\\"\\/assetserver\\/dd22ed1bf1896c2748f3fe616ce0b838adc895c1-katex.min.js\\\"},{\\\"name\\\":null,\\\"type\\\":\\\"css\\\",\\\"url\\\":\\\"\\/assetserver\\/46517a424aa5e6cffc1360d7e0848b601c584ee3-katex.min.css\\\"}],\\\"type\\\":\\\"async_block\\\"})).then((imports) => handler.apply(this, imports));\\n}\\n\"],\"observables\":{\"value\":{\"sync\":false,\"id\":\"11445127687581785666\",\"value\":\"\\\\;\\\\;\"}}},\"children\":[{\"props\":{\"id\":\"container\"},\"nodeType\":\"DOM\",\"type\":\"node\",\"instanceArgs\":{\"namespace\":\"html\",\"tag\":\"div\"},\"children\":[]}]}]},{\"props\":{\"style\":{\"display\":\"flex\",\"flex-direction\":\"column\"}},\"nodeType\":\"DOM\",\"type\":\"node\",\"instanceArgs\":{\"namespace\":\"html\",\"tag\":\"div\"},\"children\":[]}]}]},\n",
       "        window,\n",
       "    );\n",
       "    })()\n",
       "    </script>\n",
       "</div>\n"
      ],
      "text/plain": [
       "WebIO.Node{WebIO.DOM}(WebIO.DOM(:html, :div), Any[WebIO.Node{WebIO.DOM}(WebIO.DOM(:html, :div), Any[WebIO.Node{WebIO.DOM}(WebIO.DOM(:html, :div), Any[WebIO.Node{WebIO.DOM}(WebIO.DOM(:html, :div), Any[WebIO.Scope(WebIO.Node{WebIO.DOM}(WebIO.DOM(:html, :div), Any[WebIO.Node{WebIO.DOM}(WebIO.DOM(:html, :div), Any[WebIO.Node{WebIO.DOM}(WebIO.DOM(:html, :label), Any[\"time\"], Dict{Symbol, Any}(:className => \"interact \", :style => Dict{Any, Any}(:padding => \"5px 10px 0px 10px\")))], Dict{Symbol, Any}(:className => \"interact-flex-row-left\")), WebIO.Node{WebIO.DOM}(WebIO.DOM(:html, :div), Any[WebIO.Node{WebIO.DOM}(WebIO.DOM(:html, :input), Any[], Dict{Symbol, Any}(:max => 400, :min => 1, :attributes => Dict{Any, Any}(:type => \"range\", Symbol(\"data-bind\") => \"numericValue: index, valueUpdate: 'input', event: {change: function (){this.changes(this.changes()+1)}}\", \"orient\" => \"horizontal\"), :step => 1, :className => \"slider slider is-fullwidth\", :style => Dict{Any, Any}()))], Dict{Symbol, Any}(:className => \"interact-flex-row-center\")), WebIO.Node{WebIO.DOM}(WebIO.DOM(:html, :div), Any[WebIO.Node{WebIO.DOM}(WebIO.DOM(:html, :p), Any[], Dict{Symbol, Any}(:attributes => Dict(\"data-bind\" => \"text: formatted_val\")))], Dict{Symbol, Any}(:className => \"interact-flex-row-right\"))], Dict{Symbol, Any}(:className => \"interact-flex-row interact-widget\")), Dict{String, Tuple{Observables.AbstractObservable, Union{Nothing, Bool}}}(\"changes\" => (Observable(0), nothing), \"index\" => (Observable(1), nothing)), Set{String}(), nothing, WebIO.Asset[WebIO.Asset(\"js\", \"knockout\", \"/home/dushya/.julia/packages/Knockout/HReiN/src/../assets/knockout.js\"), WebIO.Asset(\"js\", \"knockout_punches\", \"/home/dushya/.julia/packages/Knockout/HReiN/src/../assets/knockout_punches.js\"), WebIO.Asset(\"js\", nothing, \"/home/dushya/.julia/packages/InteractBase/LJXv3/src/../assets/all.js\"), WebIO.Asset(\"css\", nothing, \"/home/dushya/.julia/packages/InteractBase/LJXv3/src/../assets/style.css\"), WebIO.Asset(\"css\", nothing, \"/home/dushya/.julia/packages/Interact/PENUy/src/../assets/bulma_confined.min.css\")], Dict{Any, Any}(\"changes\" => Any[WebIO.JSString(\"(function (val){return (val!=this.model[\\\"changes\\\"]()) ? (this.valueFromJulia[\\\"changes\\\"]=true, this.model[\\\"changes\\\"](val)) : undefined})\")], \"index\" => Any[WebIO.JSString(\"(function (val){return (val!=this.model[\\\"index\\\"]()) ? (this.valueFromJulia[\\\"index\\\"]=true, this.model[\\\"index\\\"](val)) : undefined})\")]), WebIO.ConnectionPool(Channel{Any}(32), Set{WebIO.AbstractConnection}(), Base.GenericCondition{ReentrantLock}(Base.IntrusiveLinkedList{Task}(Task (runnable) @0x00007fe69ff1ea40, Task (runnable) @0x00007fe69ff1ea40), ReentrantLock(nothing, 0x00000000, 0x00, Base.GenericCondition{Base.Threads.SpinLock}(Base.IntrusiveLinkedList{Task}(nothing, nothing), Base.Threads.SpinLock(0)), (0, 0, 141733920768)))), WebIO.JSString[WebIO.JSString(\"function () {\\n    var handler = (function (ko, koPunches) {\\n    ko.punches.enableAll();\\n    ko.bindingHandlers.numericValue = {\\n        init: function(element, valueAccessor, allBindings, data, context) {\\n            var stringified = ko.observable(ko.unwrap(valueAccessor()));\\n            stringified.subscribe(function(value) {\\n                var val = parseFloat(value);\\n                if (!isNaN(val)) {\\n                    valueAccessor()(val);\\n                }\\n            });\\n            valueAccessor().subscribe(function(value) {\\n                var str = JSON.stringify(value);\\n                if ((str == \\\"0\\\") && ([\\\"-0\\\", \\\"-0.\\\"].indexOf(stringified()) >= 0))\\n                     return;\\n                 if ([\\\"null\\\", \\\"\\\"].indexOf(str) >= 0)\\n                     return;\\n                stringified(str);\\n            });\\n            ko.applyBindingsToNode(\\n                element,\\n                {\\n                    value: stringified,\\n                    valueUpdate: allBindings.get('valueUpdate'),\\n                },\\n                context,\\n            );\\n        }\\n    };\\n    var json_data = {\\\"formatted_vals\\\":[\\\"1\\\",\\\"2\\\",\\\"3\\\",\\\"4\\\",\\\"5\\\",\\\"6\\\",\\\"7\\\",\\\"8\\\",\\\"9\\\",\\\"10\\\",\\\"11\\\",\\\"12\\\",\\\"13\\\",\\\"14\\\",\\\"15\\\",\\\"16\\\",\\\"17\\\",\\\"18\\\",\\\"19\\\",\\\"20\\\",\\\"21\\\",\\\"22\\\",\\\"23\\\",\\\"24\\\",\\\"25\\\",\\\"26\\\",\\\"27\\\",\\\"28\\\",\\\"29\\\",\\\"30\\\",\\\"31\\\",\\\"32\\\",\\\"33\\\",\\\"34\\\",\\\"35\\\",\\\"36\\\",\\\"37\\\",\\\"38\\\",\\\"39\\\",\\\"40\\\",\\\"41\\\",\\\"42\\\",\\\"43\\\",\\\"44\\\",\\\"45\\\",\\\"46\\\",\\\"47\\\",\\\"48\\\",\\\"49\\\",\\\"50\\\",\\\"51\\\",\\\"52\\\",\\\"53\\\",\\\"54\\\",\\\"55\\\",\\\"56\\\",\\\"57\\\",\\\"58\\\",\\\"59\\\",\\\"60\\\",\\\"61\\\",\\\"62\\\",\\\"63\\\",\\\"64\\\",\\\"65\\\",\\\"66\\\",\\\"67\\\",\\\"68\\\",\\\"69\\\",\\\"70\\\",\\\"71\\\",\\\"72\\\",\\\"73\\\",\\\"74\\\",\\\"75\\\",\\\"76\\\",\\\"77\\\",\\\"78\\\",\\\"79\\\",\\\"80\\\",\\\"81\\\",\\\"82\\\",\\\"83\\\",\\\"84\\\",\\\"85\\\",\\\"86\\\",\\\"87\\\",\\\"88\\\",\\\"89\\\",\\\"90\\\",\\\"91\\\",\\\"92\\\",\\\"93\\\",\\\"94\\\",\\\"95\\\",\\\"96\\\",\\\"97\\\",\\\"98\\\",\\\"99\\\",\\\"100\\\",\\\"101\\\",\\\"102\\\",\\\"103\\\",\\\"104\\\",\\\"105\\\",\\\"106\\\",\\\"107\\\",\\\"108\\\",\\\"109\\\",\\\"110\\\",\\\"111\\\",\\\"112\\\",\\\"113\\\",\\\"114\\\",\\\"115\\\",\\\"116\\\",\\\"117\\\",\\\"118\\\",\\\"119\\\",\\\"120\\\",\\\"121\\\",\\\"122\\\",\\\"123\\\",\\\"124\\\",\\\"125\\\",\\\"126\\\",\\\"127\\\",\\\"128\\\",\\\"129\\\",\\\"130\\\",\\\"131\\\",\\\"132\\\",\\\"133\\\",\\\"134\\\",\\\"135\\\",\\\"136\\\",\\\"137\\\",\\\"138\\\",\\\"139\\\",\\\"140\\\",\\\"141\\\",\\\"142\\\",\\\"143\\\",\\\"144\\\",\\\"145\\\",\\\"146\\\",\\\"147\\\",\\\"148\\\",\\\"149\\\",\\\"150\\\",\\\"151\\\",\\\"152\\\",\\\"153\\\",\\\"154\\\",\\\"155\\\",\\\"156\\\",\\\"157\\\",\\\"158\\\",\\\"159\\\",\\\"160\\\",\\\"161\\\",\\\"162\\\",\\\"163\\\",\\\"164\\\",\\\"165\\\",\\\"166\\\",\\\"167\\\",\\\"168\\\",\\\"169\\\",\\\"170\\\",\\\"171\\\",\\\"172\\\",\\\"173\\\",\\\"174\\\",\\\"175\\\",\\\"176\\\",\\\"177\\\",\\\"178\\\",\\\"179\\\",\\\"180\\\",\\\"181\\\",\\\"182\\\",\\\"183\\\",\\\"184\\\",\\\"185\\\",\\\"186\\\",\\\"187\\\",\\\"188\\\",\\\"189\\\",\\\"190\\\",\\\"191\\\",\\\"192\\\",\\\"193\\\",\\\"194\\\",\\\"195\\\",\\\"196\\\",\\\"197\\\",\\\"198\\\",\\\"199\\\",\\\"200\\\",\\\"201\\\",\\\"202\\\",\\\"203\\\",\\\"204\\\",\\\"205\\\",\\\"206\\\",\\\"207\\\",\\\"208\\\",\\\"209\\\",\\\"210\\\",\\\"211\\\",\\\"212\\\",\\\"213\\\",\\\"214\\\",\\\"215\\\",\\\"216\\\",\\\"217\\\",\\\"218\\\",\\\"219\\\",\\\"220\\\",\\\"221\\\",\\\"222\\\",\\\"223\\\",\\\"224\\\",\\\"225\\\",\\\"226\\\",\\\"227\\\",\\\"228\\\",\\\"229\\\",\\\"230\\\",\\\"231\\\",\\\"232\\\",\\\"233\\\",\\\"234\\\",\\\"235\\\",\\\"236\\\",\\\"237\\\",\\\"238\\\",\\\"239\\\",\\\"240\\\",\\\"241\\\",\\\"242\\\",\\\"243\\\",\\\"244\\\",\\\"245\\\",\\\"246\\\",\\\"247\\\",\\\"248\\\",\\\"249\\\",\\\"250\\\",\\\"251\\\",\\\"252\\\",\\\"253\\\",\\\"254\\\",\\\"255\\\",\\\"256\\\",\\\"257\\\",\\\"258\\\",\\\"259\\\",\\\"260\\\",\\\"261\\\",\\\"262\\\",\\\"263\\\",\\\"264\\\",\\\"265\\\",\\\"266\\\",\\\"267\\\",\\\"268\\\",\\\"269\\\",\\\"270\\\",\\\"271\\\",\\\"272\\\",\\\"273\\\",\\\"274\\\",\\\"275\\\",\\\"276\\\",\\\"277\\\",\\\"278\\\",\\\"279\\\",\\\"280\\\",\\\"281\\\",\\\"282\\\",\\\"283\\\",\\\"284\\\",\\\"285\\\",\\\"286\\\",\\\"287\\\",\\\"288\\\",\\\"289\\\",\\\"290\\\",\\\"291\\\",\\\"292\\\",\\\"293\\\",\\\"294\\\",\\\"295\\\",\\\"296\\\",\\\"297\\\",\\\"298\\\",\\\"299\\\",\\\"300\\\",\\\"301\\\",\\\"302\\\",\\\"303\\\",\\\"304\\\",\\\"305\\\",\\\"306\\\",\\\"307\\\",\\\"308\\\",\\\"309\\\",\\\"310\\\",\\\"311\\\",\\\"312\\\",\\\"313\\\",\\\"314\\\",\\\"315\\\",\\\"316\\\",\\\"317\\\",\\\"318\\\",\\\"319\\\",\\\"320\\\",\\\"321\\\",\\\"322\\\",\\\"323\\\",\\\"324\\\",\\\"325\\\",\\\"326\\\",\\\"327\\\",\\\"328\\\",\\\"329\\\",\\\"330\\\",\\\"331\\\",\\\"332\\\",\\\"333\\\",\\\"334\\\",\\\"335\\\",\\\"336\\\",\\\"337\\\",\\\"338\\\",\\\"339\\\",\\\"340\\\",\\\"341\\\",\\\"342\\\",\\\"343\\\",\\\"344\\\",\\\"345\\\",\\\"346\\\",\\\"347\\\",\\\"348\\\",\\\"349\\\",\\\"350\\\",\\\"351\\\",\\\"352\\\",\\\"353\\\",\\\"354\\\",\\\"355\\\",\\\"356\\\",\\\"357\\\",\\\"358\\\",\\\"359\\\",\\\"360\\\",\\\"361\\\",\\\"362\\\",\\\"363\\\",\\\"364\\\",\\\"365\\\",\\\"366\\\",\\\"367\\\",\\\"368\\\",\\\"369\\\",\\\"370\\\",\\\"371\\\",\\\"372\\\",\\\"373\\\",\\\"374\\\",\\\"375\\\",\\\"376\\\",\\\"377\\\",\\\"378\\\",\\\"379\\\",\\\"380\\\",\\\"381\\\",\\\"382\\\",\\\"383\\\",\\\"384\\\",\\\"385\\\",\\\"386\\\",\\\"387\\\",\\\"388\\\",\\\"389\\\",\\\"390\\\",\\\"391\\\",\\\"392\\\",\\\"393\\\",\\\"394\\\",\\\"395\\\",\\\"396\\\",\\\"397\\\",\\\"398\\\",\\\"399\\\",\\\"400\\\"],\\\"changes\\\":WebIO.getval({\\\"name\\\":\\\"changes\\\",\\\"scope\\\":\\\"12455036567818833861\\\",\\\"id\\\":\\\"5577459816416801455\\\",\\\"type\\\":\\\"observable\\\"}),\\\"index\\\":WebIO.getval({\\\"name\\\":\\\"index\\\",\\\"scope\\\":\\\"12455036567818833861\\\",\\\"id\\\":\\\"122564590170184095\\\",\\\"type\\\":\\\"observable\\\"})};\\n    var self = this;\\n    function AppViewModel() {\\n        for (var key in json_data) {\\n            var el = json_data[key];\\n            this[key] = Array.isArray(el) ? ko.observableArray(el) : ko.observable(el);\\n        }\\n        \\n        [this[\\\"formatted_val\\\"]=ko.computed(    function(){\\n        return this.formatted_vals()[parseInt(this.index())-(1)];\\n    }\\n,this)]\\n        [this[\\\"changes\\\"].subscribe((function (val){!(this.valueFromJulia[\\\"changes\\\"]) ? (WebIO.setval({\\\"name\\\":\\\"changes\\\",\\\"scope\\\":\\\"12455036567818833861\\\",\\\"id\\\":\\\"5577459816416801455\\\",\\\"type\\\":\\\"observable\\\"},val)) : undefined; return this.valueFromJulia[\\\"changes\\\"]=false}),self),this[\\\"index\\\"].subscribe((function (val){!(this.valueFromJulia[\\\"index\\\"]) ? (WebIO.setval({\\\"name\\\":\\\"index\\\",\\\"scope\\\":\\\"12455036567818833861\\\",\\\"id\\\":\\\"122564590170184095\\\",\\\"type\\\":\\\"observable\\\"},val)) : undefined; return this.valueFromJulia[\\\"index\\\"]=false}),self)]\\n        \\n    }\\n    self.model = new AppViewModel();\\n    self.valueFromJulia = {};\\n    for (var key in json_data) {\\n        self.valueFromJulia[key] = false;\\n    }\\n    ko.applyBindings(self.model, self.dom);\\n}\\n);\\n    (WebIO.importBlock({\\\"data\\\":[{\\\"name\\\":\\\"knockout\\\",\\\"type\\\":\\\"js\\\",\\\"url\\\":\\\"/assetserver/727383f2a47bd31570b7da84eee7b022dd6d7c78-knockout.js\\\"},{\\\"name\\\":\\\"knockout_punches\\\",\\\"type\\\":\\\"js\\\",\\\"url\\\":\\\"/assetserver/382b41b3b1bd9f26f75861d360bad7f8beea211f-knockout_punches.js\\\"}],\\\"type\\\":\\\"async_block\\\"})).then((imports) => handler.apply(this, imports));\\n}\\n\")])], Dict{Symbol, Any}(:className => \"field interact-widget\")), WebIO.Node{WebIO.DOM}(WebIO.DOM(:html, :div), Any[WebIO.Scope(WebIO.Node{WebIO.DOM}(WebIO.DOM(:html, :div), Any[WebIO.Node{WebIO.DOM}(WebIO.DOM(:html, :div), Any[WebIO.Node{WebIO.DOM}(WebIO.DOM(:html, :label), Any[\"scale\"], Dict{Symbol, Any}(:className => \"interact \", :style => Dict{Any, Any}(:padding => \"5px 10px 0px 10px\")))], Dict{Symbol, Any}(:className => \"interact-flex-row-left\")), WebIO.Node{WebIO.DOM}(WebIO.DOM(:html, :div), Any[WebIO.Node{WebIO.DOM}(WebIO.DOM(:html, :input), Any[], Dict{Symbol, Any}(:max => 20, :min => 1, :attributes => Dict{Any, Any}(:type => \"range\", Symbol(\"data-bind\") => \"numericValue: index, valueUpdate: 'input', event: {change: function (){this.changes(this.changes()+1)}}\", \"orient\" => \"horizontal\"), :step => 1, :className => \"slider slider is-fullwidth\", :style => Dict{Any, Any}()))], Dict{Symbol, Any}(:className => \"interact-flex-row-center\")), WebIO.Node{WebIO.DOM}(WebIO.DOM(:html, :div), Any[WebIO.Node{WebIO.DOM}(WebIO.DOM(:html, :p), Any[], Dict{Symbol, Any}(:attributes => Dict(\"data-bind\" => \"text: formatted_val\")))], Dict{Symbol, Any}(:className => \"interact-flex-row-right\"))], Dict{Symbol, Any}(:className => \"interact-flex-row interact-widget\")), Dict{String, Tuple{Observables.AbstractObservable, Union{Nothing, Bool}}}(\"changes\" => (Observable(0), nothing), \"index\" => (Observable{Any}(10), nothing)), Set{String}(), nothing, WebIO.Asset[WebIO.Asset(\"js\", \"knockout\", \"/home/dushya/.julia/packages/Knockout/HReiN/src/../assets/knockout.js\"), WebIO.Asset(\"js\", \"knockout_punches\", \"/home/dushya/.julia/packages/Knockout/HReiN/src/../assets/knockout_punches.js\"), WebIO.Asset(\"js\", nothing, \"/home/dushya/.julia/packages/InteractBase/LJXv3/src/../assets/all.js\"), WebIO.Asset(\"css\", nothing, \"/home/dushya/.julia/packages/InteractBase/LJXv3/src/../assets/style.css\"), WebIO.Asset(\"css\", nothing, \"/home/dushya/.julia/packages/Interact/PENUy/src/../assets/bulma_confined.min.css\")], Dict{Any, Any}(\"changes\" => Any[WebIO.JSString(\"(function (val){return (val!=this.model[\\\"changes\\\"]()) ? (this.valueFromJulia[\\\"changes\\\"]=true, this.model[\\\"changes\\\"](val)) : undefined})\")], \"index\" => Any[WebIO.JSString(\"(function (val){return (val!=this.model[\\\"index\\\"]()) ? (this.valueFromJulia[\\\"index\\\"]=true, this.model[\\\"index\\\"](val)) : undefined})\")]), WebIO.ConnectionPool(Channel{Any}(32), Set{WebIO.AbstractConnection}(), Base.GenericCondition{ReentrantLock}(Base.IntrusiveLinkedList{Task}(Task (runnable) @0x00007fe69ff52270, Task (runnable) @0x00007fe69ff52270), ReentrantLock(nothing, 0x00000000, 0x00, Base.GenericCondition{Base.Threads.SpinLock}(Base.IntrusiveLinkedList{Task}(nothing, nothing), Base.Threads.SpinLock(0)), (0, 140629373907040, 139779710648320)))), WebIO.JSString[WebIO.JSString(\"function () {\\n    var handler = (function (ko, koPunches) {\\n    ko.punches.enableAll();\\n    ko.bindingHandlers.numericValue = {\\n        init: function(element, valueAccessor, allBindings, data, context) {\\n            var stringified = ko.observable(ko.unwrap(valueAccessor()));\\n            stringified.subscribe(function(value) {\\n                var val = parseFloat(value);\\n                if (!isNaN(val)) {\\n                    valueAccessor()(val);\\n                }\\n            });\\n            valueAccessor().subscribe(function(value) {\\n                var str = JSON.stringify(value);\\n                if ((str == \\\"0\\\") && ([\\\"-0\\\", \\\"-0.\\\"].indexOf(stringified()) >= 0))\\n                     return;\\n                 if ([\\\"null\\\", \\\"\\\"].indexOf(str) >= 0)\\n                     return;\\n                stringified(str);\\n            });\\n            ko.applyBindingsToNode(\\n                element,\\n                {\\n                    value: stringified,\\n                    valueUpdate: allBindings.get('valueUpdate'),\\n                },\\n                context,\\n            );\\n        }\\n    };\\n    var json_data = {\\\"formatted_vals\\\":[\\\"0.1\\\",\\\"0.2\\\",\\\"0.3\\\",\\\"0.4\\\",\\\"0.5\\\",\\\"0.6\\\",\\\"0.7\\\",\\\"0.8\\\",\\\"0.9\\\",\\\"1.0\\\",\\\"1.1\\\",\\\"1.2\\\",\\\"1.3\\\",\\\"1.4\\\",\\\"1.5\\\",\\\"1.6\\\",\\\"1.7\\\",\\\"1.8\\\",\\\"1.9\\\",\\\"2.0\\\"],\\\"changes\\\":WebIO.getval({\\\"name\\\":\\\"changes\\\",\\\"scope\\\":\\\"4156321787078339315\\\",\\\"id\\\":\\\"11220132754541302478\\\",\\\"type\\\":\\\"observable\\\"}),\\\"index\\\":WebIO.getval({\\\"name\\\":\\\"index\\\",\\\"scope\\\":\\\"4156321787078339315\\\",\\\"id\\\":\\\"11290672408385420896\\\",\\\"type\\\":\\\"observable\\\"})};\\n    var self = this;\\n    function AppViewModel() {\\n        for (var key in json_data) {\\n            var el = json_data[key];\\n            this[key] = Array.isArray(el) ? ko.observableArray(el) : ko.observable(el);\\n        }\\n        \\n        [this[\\\"formatted_val\\\"]=ko.computed(    function(){\\n        return this.formatted_vals()[parseInt(this.index())-(1)];\\n    }\\n,this)]\\n        [this[\\\"changes\\\"].subscribe((function (val){!(this.valueFromJulia[\\\"changes\\\"]) ? (WebIO.setval({\\\"name\\\":\\\"changes\\\",\\\"scope\\\":\\\"4156321787078339315\\\",\\\"id\\\":\\\"11220132754541302478\\\",\\\"type\\\":\\\"observable\\\"},val)) : undefined; return this.valueFromJulia[\\\"changes\\\"]=false}),self),this[\\\"index\\\"].subscribe((function (val){!(this.valueFromJulia[\\\"index\\\"]) ? (WebIO.setval({\\\"name\\\":\\\"index\\\",\\\"scope\\\":\\\"4156321787078339315\\\",\\\"id\\\":\\\"11290672408385420896\\\",\\\"type\\\":\\\"observable\\\"},val)) : undefined; return this.valueFromJulia[\\\"index\\\"]=false}),self)]\\n        \\n    }\\n    self.model = new AppViewModel();\\n    self.valueFromJulia = {};\\n    for (var key in json_data) {\\n        self.valueFromJulia[key] = false;\\n    }\\n    ko.applyBindings(self.model, self.dom);\\n}\\n);\\n    (WebIO.importBlock({\\\"data\\\":[{\\\"name\\\":\\\"knockout\\\",\\\"type\\\":\\\"js\\\",\\\"url\\\":\\\"/assetserver/727383f2a47bd31570b7da84eee7b022dd6d7c78-knockout.js\\\"},{\\\"name\\\":\\\"knockout_punches\\\",\\\"type\\\":\\\"js\\\",\\\"url\\\":\\\"/assetserver/382b41b3b1bd9f26f75861d360bad7f8beea211f-knockout_punches.js\\\"}],\\\"type\\\":\\\"async_block\\\"})).then((imports) => handler.apply(this, imports));\\n}\\n\")])], Dict{Symbol, Any}(:className => \"field interact-widget\")), WebIO.Node{WebIO.DOM}(WebIO.DOM(:html, :div), Any[], Dict{Symbol, Any}(:style => Dict(\"display\" => \"flex\", \"flex-direction\" => \"column\"))), WebIO.Node{WebIO.DOM}(WebIO.DOM(:html, :div), Any[WebIO.Node{WebIO.DOM}(WebIO.DOM(:html, :div), Any[WebIO.Scope(WebIO.Node{WebIO.DOM}(WebIO.DOM(:html, :div), Any[WebIO.Node{WebIO.DOM}(WebIO.DOM(:html, :div), Any[WebIO.Node{WebIO.DOM}(WebIO.DOM(:html, :label), Any[\"threshold\"], Dict{Symbol, Any}(:className => \"interact \", :style => Dict{Any, Any}(:padding => \"5px 10px 0px 10px\")))], Dict{Symbol, Any}(:className => \"interact-flex-row-left\")), WebIO.Node{WebIO.DOM}(WebIO.DOM(:html, :div), Any[WebIO.Node{WebIO.DOM}(WebIO.DOM(:html, :input), Any[], Dict{Symbol, Any}(:max => 8, :min => 1, :attributes => Dict{Any, Any}(:type => \"range\", Symbol(\"data-bind\") => \"numericValue: index, valueUpdate: 'input', event: {change: function (){this.changes(this.changes()+1)}}\", \"orient\" => \"horizontal\"), :step => 1, :className => \"slider slider is-fullwidth\", :style => Dict{Any, Any}()))], Dict{Symbol, Any}(:className => \"interact-flex-row-center\")), WebIO.Node{WebIO.DOM}(WebIO.DOM(:html, :div), Any[WebIO.Node{WebIO.DOM}(WebIO.DOM(:html, :p), Any[], Dict{Symbol, Any}(:attributes => Dict(\"data-bind\" => \"text: formatted_val\")))], Dict{Symbol, Any}(:className => \"interact-flex-row-right\"))], Dict{Symbol, Any}(:className => \"interact-flex-row interact-widget\")), Dict{String, Tuple{Observables.AbstractObservable, Union{Nothing, Bool}}}(\"changes\" => (Observable(0), nothing), \"index\" => (Observable(4), nothing)), Set{String}(), nothing, WebIO.Asset[WebIO.Asset(\"js\", \"knockout\", \"/home/dushya/.julia/packages/Knockout/HReiN/src/../assets/knockout.js\"), WebIO.Asset(\"js\", \"knockout_punches\", \"/home/dushya/.julia/packages/Knockout/HReiN/src/../assets/knockout_punches.js\"), WebIO.Asset(\"js\", nothing, \"/home/dushya/.julia/packages/InteractBase/LJXv3/src/../assets/all.js\"), WebIO.Asset(\"css\", nothing, \"/home/dushya/.julia/packages/InteractBase/LJXv3/src/../assets/style.css\"), WebIO.Asset(\"css\", nothing, \"/home/dushya/.julia/packages/Interact/PENUy/src/../assets/bulma_confined.min.css\")], Dict{Any, Any}(\"changes\" => Any[WebIO.JSString(\"(function (val){return (val!=this.model[\\\"changes\\\"]()) ? (this.valueFromJulia[\\\"changes\\\"]=true, this.model[\\\"changes\\\"](val)) : undefined})\")], \"index\" => Any[WebIO.JSString(\"(function (val){return (val!=this.model[\\\"index\\\"]()) ? (this.valueFromJulia[\\\"index\\\"]=true, this.model[\\\"index\\\"](val)) : undefined})\")]), WebIO.ConnectionPool(Channel{Any}(32), Set{WebIO.AbstractConnection}(), Base.GenericCondition{ReentrantLock}(Base.IntrusiveLinkedList{Task}(Task (runnable) @0x00007fe6d0739460, Task (runnable) @0x00007fe6d0739460), ReentrantLock(nothing, 0x00000000, 0x00, Base.GenericCondition{Base.Threads.SpinLock}(Base.IntrusiveLinkedList{Task}(nothing, nothing), Base.Threads.SpinLock(0)), (2, 140629373886384, 140629229124672)))), WebIO.JSString[WebIO.JSString(\"function () {\\n    var handler = (function (ko, koPunches) {\\n    ko.punches.enableAll();\\n    ko.bindingHandlers.numericValue = {\\n        init: function(element, valueAccessor, allBindings, data, context) {\\n            var stringified = ko.observable(ko.unwrap(valueAccessor()));\\n            stringified.subscribe(function(value) {\\n                var val = parseFloat(value);\\n                if (!isNaN(val)) {\\n                    valueAccessor()(val);\\n                }\\n            });\\n            valueAccessor().subscribe(function(value) {\\n                var str = JSON.stringify(value);\\n                if ((str == \\\"0\\\") && ([\\\"-0\\\", \\\"-0.\\\"].indexOf(stringified()) >= 0))\\n                     return;\\n                 if ([\\\"null\\\", \\\"\\\"].indexOf(str) >= 0)\\n                     return;\\n                stringified(str);\\n            });\\n            ko.applyBindingsToNode(\\n                element,\\n                {\\n                    value: stringified,\\n                    valueUpdate: allBindings.get('valueUpdate'),\\n                },\\n                context,\\n            );\\n        }\\n    };\\n    var json_data = {\\\"formatted_vals\\\":[\\\"1\\\",\\\"2\\\",\\\"3\\\",\\\"4\\\",\\\"5\\\",\\\"6\\\",\\\"7\\\",\\\"8\\\"],\\\"changes\\\":WebIO.getval({\\\"name\\\":\\\"changes\\\",\\\"scope\\\":\\\"5590859279286230658\\\",\\\"id\\\":\\\"12060606111140976203\\\",\\\"type\\\":\\\"observable\\\"}),\\\"index\\\":WebIO.getval({\\\"name\\\":\\\"index\\\",\\\"scope\\\":\\\"5590859279286230658\\\",\\\"id\\\":\\\"2431762762338503400\\\",\\\"type\\\":\\\"observable\\\"})};\\n    var self = this;\\n    function AppViewModel() {\\n        for (var key in json_data) {\\n            var el = json_data[key];\\n            this[key] = Array.isArray(el) ? ko.observableArray(el) : ko.observable(el);\\n        }\\n        \\n        [this[\\\"formatted_val\\\"]=ko.computed(    function(){\\n        return this.formatted_vals()[parseInt(this.index())-(1)];\\n    }\\n,this)]\\n        [this[\\\"changes\\\"].subscribe((function (val){!(this.valueFromJulia[\\\"changes\\\"]) ? (WebIO.setval({\\\"name\\\":\\\"changes\\\",\\\"scope\\\":\\\"5590859279286230658\\\",\\\"id\\\":\\\"12060606111140976203\\\",\\\"type\\\":\\\"observable\\\"},val)) : undefined; return this.valueFromJulia[\\\"changes\\\"]=false}),self),this[\\\"index\\\"].subscribe((function (val){!(this.valueFromJulia[\\\"index\\\"]) ? (WebIO.setval({\\\"name\\\":\\\"index\\\",\\\"scope\\\":\\\"5590859279286230658\\\",\\\"id\\\":\\\"2431762762338503400\\\",\\\"type\\\":\\\"observable\\\"},val)) : undefined; return this.valueFromJulia[\\\"index\\\"]=false}),self)]\\n        \\n    }\\n    self.model = new AppViewModel();\\n    self.valueFromJulia = {};\\n    for (var key in json_data) {\\n        self.valueFromJulia[key] = false;\\n    }\\n    ko.applyBindings(self.model, self.dom);\\n}\\n);\\n    (WebIO.importBlock({\\\"data\\\":[{\\\"name\\\":\\\"knockout\\\",\\\"type\\\":\\\"js\\\",\\\"url\\\":\\\"/assetserver/727383f2a47bd31570b7da84eee7b022dd6d7c78-knockout.js\\\"},{\\\"name\\\":\\\"knockout_punches\\\",\\\"type\\\":\\\"js\\\",\\\"url\\\":\\\"/assetserver/382b41b3b1bd9f26f75861d360bad7f8beea211f-knockout_punches.js\\\"}],\\\"type\\\":\\\"async_block\\\"})).then((imports) => handler.apply(this, imports));\\n}\\n\")])], Dict{Symbol, Any}(:className => \"field interact-widget\"))], Dict{Symbol, Any}(:style => Dict(\"display\" => \"flex\", \"flex-direction\" => \"column\"))), WebIO.Node{WebIO.DOM}(WebIO.DOM(:html, :div), Any[WebIO.Node{WebIO.DOM}(WebIO.DOM(:html, :div), Any[WebIO.Scope(WebIO.Node{WebIO.DOM}(WebIO.DOM(:html, :div), Any[], Dict{Symbol, Any}(:id => \"container\")), Dict{String, Tuple{Observables.AbstractObservable, Union{Nothing, Bool}}}(\"value\" => (Observable(\"\\\\;\\\\;\"), nothing)), Set{String}(), nothing, WebIO.Asset[WebIO.Asset(\"js\", nothing, \"/home/dushya/.julia/packages/InteractBase/LJXv3/src/../assets/katex.min.js\"), WebIO.Asset(\"css\", nothing, \"/home/dushya/.julia/packages/InteractBase/LJXv3/src/../assets/katex.min.css\")], Dict{Any, Any}(\"value\" => Any[WebIO.JSString(\"(function (txt){return this.k.render(txt,this.container)})\")]), WebIO.ConnectionPool(Channel{Any}(32), Set{WebIO.AbstractConnection}(), Base.GenericCondition{ReentrantLock}(Base.IntrusiveLinkedList{Task}(Task (runnable) @0x00007fe6d1c3daa0, Task (runnable) @0x00007fe6d1c3daa0), ReentrantLock(nothing, 0x00000000, 0x00, Base.GenericCondition{Base.Threads.SpinLock}(Base.IntrusiveLinkedList{Task}(nothing, nothing), Base.Threads.SpinLock(0)), (8, 0, 141733920768)))), WebIO.JSString[WebIO.JSString(\"function () {\\n    var handler = ((function (k){this.k=k; this.container=this.dom.querySelector(\\\"#container\\\"); return k.render(\\\"\\\\\\\\;\\\\\\\\;\\\",this.container)}));\\n    (WebIO.importBlock({\\\"data\\\":[{\\\"name\\\":null,\\\"type\\\":\\\"js\\\",\\\"url\\\":\\\"/assetserver/dd22ed1bf1896c2748f3fe616ce0b838adc895c1-katex.min.js\\\"},{\\\"name\\\":null,\\\"type\\\":\\\"css\\\",\\\"url\\\":\\\"/assetserver/46517a424aa5e6cffc1360d7e0848b601c584ee3-katex.min.css\\\"}],\\\"type\\\":\\\"async_block\\\"})).then((imports) => handler.apply(this, imports));\\n}\\n\")])], Dict{Symbol, Any}(:className => \"interact-widget\")), WebIO.Node{WebIO.DOM}(WebIO.DOM(:html, :div), Any[WebIO.Scope(WebIO.Node{WebIO.DOM}(WebIO.DOM(:html, :button), Any[\"run\"], Dict{Symbol, Any}(:attributes => Dict{Any, Any}(\"data-bind\" => \"click: function (){this.clicks(this.clicks()+1)}, css: {'is-loading' : loading}\"), :className => \"is-medium button is-primary\", :style => Dict{String, Any}())), Dict{String, Tuple{Observables.AbstractObservable, Union{Nothing, Bool}}}(\"loading\" => (Observable(false), nothing), \"clicks\" => (Observable(0), nothing)), Set{String}(), nothing, WebIO.Asset[WebIO.Asset(\"js\", \"knockout\", \"/home/dushya/.julia/packages/Knockout/HReiN/src/../assets/knockout.js\"), WebIO.Asset(\"js\", \"knockout_punches\", \"/home/dushya/.julia/packages/Knockout/HReiN/src/../assets/knockout_punches.js\"), WebIO.Asset(\"js\", nothing, \"/home/dushya/.julia/packages/InteractBase/LJXv3/src/../assets/all.js\"), WebIO.Asset(\"css\", nothing, \"/home/dushya/.julia/packages/InteractBase/LJXv3/src/../assets/style.css\"), WebIO.Asset(\"css\", nothing, \"/home/dushya/.julia/packages/Interact/PENUy/src/../assets/bulma_confined.min.css\")], Dict{Any, Any}(\"loading\" => Any[WebIO.JSString(\"(function (val){return (val!=this.model[\\\"loading\\\"]()) ? (this.valueFromJulia[\\\"loading\\\"]=true, this.model[\\\"loading\\\"](val)) : undefined})\")], \"clicks\" => Any[WebIO.JSString(\"(function (val){return (val!=this.model[\\\"clicks\\\"]()) ? (this.valueFromJulia[\\\"clicks\\\"]=true, this.model[\\\"clicks\\\"](val)) : undefined})\")]), WebIO.ConnectionPool(Channel{Any}(32), Set{WebIO.AbstractConnection}(), Base.GenericCondition{ReentrantLock}(Base.IntrusiveLinkedList{Task}(Task (runnable) @0x00007fe6d07781a0, Task (runnable) @0x00007fe6d07781a0), ReentrantLock(nothing, 0x00000000, 0x00, Base.GenericCondition{Base.Threads.SpinLock}(Base.IntrusiveLinkedList{Task}(nothing, nothing), Base.Threads.SpinLock(0)), (8, 140627496241792, 141733920768)))), WebIO.JSString[WebIO.JSString(\"function () {\\n    var handler = (function (ko, koPunches) {\\n    ko.punches.enableAll();\\n    ko.bindingHandlers.numericValue = {\\n        init: function(element, valueAccessor, allBindings, data, context) {\\n            var stringified = ko.observable(ko.unwrap(valueAccessor()));\\n            stringified.subscribe(function(value) {\\n                var val = parseFloat(value);\\n                if (!isNaN(val)) {\\n                    valueAccessor()(val);\\n                }\\n            });\\n            valueAccessor().subscribe(function(value) {\\n                var str = JSON.stringify(value);\\n                if ((str == \\\"0\\\") && ([\\\"-0\\\", \\\"-0.\\\"].indexOf(stringified()) >= 0))\\n                     return;\\n                 if ([\\\"null\\\", \\\"\\\"].indexOf(str) >= 0)\\n                     return;\\n                stringified(str);\\n            });\\n            ko.applyBindingsToNode(\\n                element,\\n                {\\n                    value: stringified,\\n                    valueUpdate: allBindings.get('valueUpdate'),\\n                },\\n                context,\\n            );\\n        }\\n    };\\n    var json_data = {\\\"loading\\\":WebIO.getval({\\\"name\\\":\\\"loading\\\",\\\"scope\\\":\\\"13121430866860545912\\\",\\\"id\\\":\\\"12758888601313807106\\\",\\\"type\\\":\\\"observable\\\"}),\\\"clicks\\\":WebIO.getval({\\\"name\\\":\\\"clicks\\\",\\\"scope\\\":\\\"13121430866860545912\\\",\\\"id\\\":\\\"15806153727727526535\\\",\\\"type\\\":\\\"observable\\\"})};\\n    var self = this;\\n    function AppViewModel() {\\n        for (var key in json_data) {\\n            var el = json_data[key];\\n            this[key] = Array.isArray(el) ? ko.observableArray(el) : ko.observable(el);\\n        }\\n        \\n        \\n        [this[\\\"loading\\\"].subscribe((function (val){!(this.valueFromJulia[\\\"loading\\\"]) ? (WebIO.setval({\\\"name\\\":\\\"loading\\\",\\\"scope\\\":\\\"13121430866860545912\\\",\\\"id\\\":\\\"12758888601313807106\\\",\\\"type\\\":\\\"observable\\\"},val)) : undefined; return this.valueFromJulia[\\\"loading\\\"]=false}),self),this[\\\"clicks\\\"].subscribe((function (val){!(this.valueFromJulia[\\\"clicks\\\"]) ? (WebIO.setval({\\\"name\\\":\\\"clicks\\\",\\\"scope\\\":\\\"13121430866860545912\\\",\\\"id\\\":\\\"15806153727727526535\\\",\\\"type\\\":\\\"observable\\\"},val)) : undefined; return this.valueFromJulia[\\\"clicks\\\"]=false}),self)]\\n        \\n    }\\n    self.model = new AppViewModel();\\n    self.valueFromJulia = {};\\n    for (var key in json_data) {\\n        self.valueFromJulia[key] = false;\\n    }\\n    ko.applyBindings(self.model, self.dom);\\n}\\n);\\n    (WebIO.importBlock({\\\"data\\\":[{\\\"name\\\":\\\"knockout\\\",\\\"type\\\":\\\"js\\\",\\\"url\\\":\\\"/assetserver/727383f2a47bd31570b7da84eee7b022dd6d7c78-knockout.js\\\"},{\\\"name\\\":\\\"knockout_punches\\\",\\\"type\\\":\\\"js\\\",\\\"url\\\":\\\"/assetserver/382b41b3b1bd9f26f75861d360bad7f8beea211f-knockout_punches.js\\\"}],\\\"type\\\":\\\"async_block\\\"})).then((imports) => handler.apply(this, imports));\\n}\\n\")])], Dict{Symbol, Any}(:className => \"field interact-widget\")), WebIO.Node{WebIO.DOM}(WebIO.DOM(:html, :div), Any[WebIO.Scope(WebIO.Node{WebIO.DOM}(WebIO.DOM(:html, :div), Any[], Dict{Symbol, Any}(:id => \"container\")), Dict{String, Tuple{Observables.AbstractObservable, Union{Nothing, Bool}}}(\"value\" => (Observable(\"\\\\;\\\\;\"), nothing)), Set{String}(), nothing, WebIO.Asset[WebIO.Asset(\"js\", nothing, \"/home/dushya/.julia/packages/InteractBase/LJXv3/src/../assets/katex.min.js\"), WebIO.Asset(\"css\", nothing, \"/home/dushya/.julia/packages/InteractBase/LJXv3/src/../assets/katex.min.css\")], Dict{Any, Any}(\"value\" => Any[WebIO.JSString(\"(function (txt){return this.k.render(txt,this.container)})\")]), WebIO.ConnectionPool(Channel{Any}(32), Set{WebIO.AbstractConnection}(), Base.GenericCondition{ReentrantLock}(Base.IntrusiveLinkedList{Task}(Task (runnable) @0x00007fe6d1c3daa0, Task (runnable) @0x00007fe6d1c3daa0), ReentrantLock(nothing, 0x00000000, 0x00, Base.GenericCondition{Base.Threads.SpinLock}(Base.IntrusiveLinkedList{Task}(nothing, nothing), Base.Threads.SpinLock(0)), (8, 0, 141733920768)))), WebIO.JSString[WebIO.JSString(\"function () {\\n    var handler = ((function (k){this.k=k; this.container=this.dom.querySelector(\\\"#container\\\"); return k.render(\\\"\\\\\\\\;\\\\\\\\;\\\",this.container)}));\\n    (WebIO.importBlock({\\\"data\\\":[{\\\"name\\\":null,\\\"type\\\":\\\"js\\\",\\\"url\\\":\\\"/assetserver/dd22ed1bf1896c2748f3fe616ce0b838adc895c1-katex.min.js\\\"},{\\\"name\\\":null,\\\"type\\\":\\\"css\\\",\\\"url\\\":\\\"/assetserver/46517a424aa5e6cffc1360d7e0848b601c584ee3-katex.min.css\\\"}],\\\"type\\\":\\\"async_block\\\"})).then((imports) => handler.apply(this, imports));\\n}\\n\")])], Dict{Symbol, Any}(:className => \"interact-widget\")), WebIO.Node{WebIO.DOM}(WebIO.DOM(:html, :div), Any[WebIO.Scope(WebIO.Node{WebIO.DOM}(WebIO.DOM(:html, :button), Any[\"stop\"], Dict{Symbol, Any}(:attributes => Dict{Any, Any}(\"data-bind\" => \"click: function (){this.clicks(this.clicks()+1)}, css: {'is-loading' : loading}\"), :className => \"is-medium button is-primary\", :style => Dict{String, Any}())), Dict{String, Tuple{Observables.AbstractObservable, Union{Nothing, Bool}}}(\"loading\" => (Observable(false), nothing), \"clicks\" => (Observable(0), nothing)), Set{String}(), nothing, WebIO.Asset[WebIO.Asset(\"js\", \"knockout\", \"/home/dushya/.julia/packages/Knockout/HReiN/src/../assets/knockout.js\"), WebIO.Asset(\"js\", \"knockout_punches\", \"/home/dushya/.julia/packages/Knockout/HReiN/src/../assets/knockout_punches.js\"), WebIO.Asset(\"js\", nothing, \"/home/dushya/.julia/packages/InteractBase/LJXv3/src/../assets/all.js\"), WebIO.Asset(\"css\", nothing, \"/home/dushya/.julia/packages/InteractBase/LJXv3/src/../assets/style.css\"), WebIO.Asset(\"css\", nothing, \"/home/dushya/.julia/packages/Interact/PENUy/src/../assets/bulma_confined.min.css\")], Dict{Any, Any}(\"loading\" => Any[WebIO.JSString(\"(function (val){return (val!=this.model[\\\"loading\\\"]()) ? (this.valueFromJulia[\\\"loading\\\"]=true, this.model[\\\"loading\\\"](val)) : undefined})\")], \"clicks\" => Any[WebIO.JSString(\"(function (val){return (val!=this.model[\\\"clicks\\\"]()) ? (this.valueFromJulia[\\\"clicks\\\"]=true, this.model[\\\"clicks\\\"](val)) : undefined})\")]), WebIO.ConnectionPool(Channel{Any}(32), Set{WebIO.AbstractConnection}(), Base.GenericCondition{ReentrantLock}(Base.IntrusiveLinkedList{Task}(Task (runnable) @0x00007fe6d077aa40, Task (runnable) @0x00007fe6d077aa40), ReentrantLock(nothing, 0x00000000, 0x00, Base.GenericCondition{Base.Threads.SpinLock}(Base.IntrusiveLinkedList{Task}(nothing, nothing), Base.Threads.SpinLock(0)), (41, 0, 139779710648320)))), WebIO.JSString[WebIO.JSString(\"function () {\\n    var handler = (function (ko, koPunches) {\\n    ko.punches.enableAll();\\n    ko.bindingHandlers.numericValue = {\\n        init: function(element, valueAccessor, allBindings, data, context) {\\n            var stringified = ko.observable(ko.unwrap(valueAccessor()));\\n            stringified.subscribe(function(value) {\\n                var val = parseFloat(value);\\n                if (!isNaN(val)) {\\n                    valueAccessor()(val);\\n                }\\n            });\\n            valueAccessor().subscribe(function(value) {\\n                var str = JSON.stringify(value);\\n                if ((str == \\\"0\\\") && ([\\\"-0\\\", \\\"-0.\\\"].indexOf(stringified()) >= 0))\\n                     return;\\n                 if ([\\\"null\\\", \\\"\\\"].indexOf(str) >= 0)\\n                     return;\\n                stringified(str);\\n            });\\n            ko.applyBindingsToNode(\\n                element,\\n                {\\n                    value: stringified,\\n                    valueUpdate: allBindings.get('valueUpdate'),\\n                },\\n                context,\\n            );\\n        }\\n    };\\n    var json_data = {\\\"loading\\\":WebIO.getval({\\\"name\\\":\\\"loading\\\",\\\"scope\\\":\\\"2788532884166778886\\\",\\\"id\\\":\\\"13202508729777867594\\\",\\\"type\\\":\\\"observable\\\"}),\\\"clicks\\\":WebIO.getval({\\\"name\\\":\\\"clicks\\\",\\\"scope\\\":\\\"2788532884166778886\\\",\\\"id\\\":\\\"5902948688267274878\\\",\\\"type\\\":\\\"observable\\\"})};\\n    var self = this;\\n    function AppViewModel() {\\n        for (var key in json_data) {\\n            var el = json_data[key];\\n            this[key] = Array.isArray(el) ? ko.observableArray(el) : ko.observable(el);\\n        }\\n        \\n        \\n        [this[\\\"loading\\\"].subscribe((function (val){!(this.valueFromJulia[\\\"loading\\\"]) ? (WebIO.setval({\\\"name\\\":\\\"loading\\\",\\\"scope\\\":\\\"2788532884166778886\\\",\\\"id\\\":\\\"13202508729777867594\\\",\\\"type\\\":\\\"observable\\\"},val)) : undefined; return this.valueFromJulia[\\\"loading\\\"]=false}),self),this[\\\"clicks\\\"].subscribe((function (val){!(this.valueFromJulia[\\\"clicks\\\"]) ? (WebIO.setval({\\\"name\\\":\\\"clicks\\\",\\\"scope\\\":\\\"2788532884166778886\\\",\\\"id\\\":\\\"5902948688267274878\\\",\\\"type\\\":\\\"observable\\\"},val)) : undefined; return this.valueFromJulia[\\\"clicks\\\"]=false}),self)]\\n        \\n    }\\n    self.model = new AppViewModel();\\n    self.valueFromJulia = {};\\n    for (var key in json_data) {\\n        self.valueFromJulia[key] = false;\\n    }\\n    ko.applyBindings(self.model, self.dom);\\n}\\n);\\n    (WebIO.importBlock({\\\"data\\\":[{\\\"name\\\":\\\"knockout\\\",\\\"type\\\":\\\"js\\\",\\\"url\\\":\\\"/assetserver/727383f2a47bd31570b7da84eee7b022dd6d7c78-knockout.js\\\"},{\\\"name\\\":\\\"knockout_punches\\\",\\\"type\\\":\\\"js\\\",\\\"url\\\":\\\"/assetserver/382b41b3b1bd9f26f75861d360bad7f8beea211f-knockout_punches.js\\\"}],\\\"type\\\":\\\"async_block\\\"})).then((imports) => handler.apply(this, imports));\\n}\\n\")])], Dict{Symbol, Any}(:className => \"field interact-widget\")), WebIO.Node{WebIO.DOM}(WebIO.DOM(:html, :div), Any[WebIO.Scope(WebIO.Node{WebIO.DOM}(WebIO.DOM(:html, :div), Any[], Dict{Symbol, Any}(:id => \"container\")), Dict{String, Tuple{Observables.AbstractObservable, Union{Nothing, Bool}}}(\"value\" => (Observable(\"\\\\;\\\\;\"), nothing)), Set{String}(), nothing, WebIO.Asset[WebIO.Asset(\"js\", nothing, \"/home/dushya/.julia/packages/InteractBase/LJXv3/src/../assets/katex.min.js\"), WebIO.Asset(\"css\", nothing, \"/home/dushya/.julia/packages/InteractBase/LJXv3/src/../assets/katex.min.css\")], Dict{Any, Any}(\"value\" => Any[WebIO.JSString(\"(function (txt){return this.k.render(txt,this.container)})\")]), WebIO.ConnectionPool(Channel{Any}(32), Set{WebIO.AbstractConnection}(), Base.GenericCondition{ReentrantLock}(Base.IntrusiveLinkedList{Task}(Task (runnable) @0x00007fe6d1c3daa0, Task (runnable) @0x00007fe6d1c3daa0), ReentrantLock(nothing, 0x00000000, 0x00, Base.GenericCondition{Base.Threads.SpinLock}(Base.IntrusiveLinkedList{Task}(nothing, nothing), Base.Threads.SpinLock(0)), (8, 0, 141733920768)))), WebIO.JSString[WebIO.JSString(\"function () {\\n    var handler = ((function (k){this.k=k; this.container=this.dom.querySelector(\\\"#container\\\"); return k.render(\\\"\\\\\\\\;\\\\\\\\;\\\",this.container)}));\\n    (WebIO.importBlock({\\\"data\\\":[{\\\"name\\\":null,\\\"type\\\":\\\"js\\\",\\\"url\\\":\\\"/assetserver/dd22ed1bf1896c2748f3fe616ce0b838adc895c1-katex.min.js\\\"},{\\\"name\\\":null,\\\"type\\\":\\\"css\\\",\\\"url\\\":\\\"/assetserver/46517a424aa5e6cffc1360d7e0848b601c584ee3-katex.min.css\\\"}],\\\"type\\\":\\\"async_block\\\"})).then((imports) => handler.apply(this, imports));\\n}\\n\")])], Dict{Symbol, Any}(:className => \"interact-widget\")), WebIO.Node{WebIO.DOM}(WebIO.DOM(:html, :div), Any[WebIO.Scope(WebIO.Node{WebIO.DOM}(WebIO.DOM(:html, :button), Any[\"reset\"], Dict{Symbol, Any}(:attributes => Dict{Any, Any}(\"data-bind\" => \"click: function (){this.clicks(this.clicks()+1)}, css: {'is-loading' : loading}\"), :className => \"is-medium button is-primary\", :style => Dict{String, Any}())), Dict{String, Tuple{Observables.AbstractObservable, Union{Nothing, Bool}}}(\"loading\" => (Observable(false), nothing), \"clicks\" => (Observable(0), nothing)), Set{String}(), nothing, WebIO.Asset[WebIO.Asset(\"js\", \"knockout\", \"/home/dushya/.julia/packages/Knockout/HReiN/src/../assets/knockout.js\"), WebIO.Asset(\"js\", \"knockout_punches\", \"/home/dushya/.julia/packages/Knockout/HReiN/src/../assets/knockout_punches.js\"), WebIO.Asset(\"js\", nothing, \"/home/dushya/.julia/packages/InteractBase/LJXv3/src/../assets/all.js\"), WebIO.Asset(\"css\", nothing, \"/home/dushya/.julia/packages/InteractBase/LJXv3/src/../assets/style.css\"), WebIO.Asset(\"css\", nothing, \"/home/dushya/.julia/packages/Interact/PENUy/src/../assets/bulma_confined.min.css\")], Dict{Any, Any}(\"loading\" => Any[WebIO.JSString(\"(function (val){return (val!=this.model[\\\"loading\\\"]()) ? (this.valueFromJulia[\\\"loading\\\"]=true, this.model[\\\"loading\\\"](val)) : undefined})\")], \"clicks\" => Any[WebIO.JSString(\"(function (val){return (val!=this.model[\\\"clicks\\\"]()) ? (this.valueFromJulia[\\\"clicks\\\"]=true, this.model[\\\"clicks\\\"](val)) : undefined})\")]), WebIO.ConnectionPool(Channel{Any}(32), Set{WebIO.AbstractConnection}(), Base.GenericCondition{ReentrantLock}(Base.IntrusiveLinkedList{Task}(Task (runnable) @0x00007fe6d0825780, Task (runnable) @0x00007fe6d0825780), ReentrantLock(nothing, 0x00000000, 0x00, Base.GenericCondition{Base.Threads.SpinLock}(Base.IntrusiveLinkedList{Task}(nothing, nothing), Base.Threads.SpinLock(0)), (0, 0, 139779710648320)))), WebIO.JSString[WebIO.JSString(\"function () {\\n    var handler = (function (ko, koPunches) {\\n    ko.punches.enableAll();\\n    ko.bindingHandlers.numericValue = {\\n        init: function(element, valueAccessor, allBindings, data, context) {\\n            var stringified = ko.observable(ko.unwrap(valueAccessor()));\\n            stringified.subscribe(function(value) {\\n                var val = parseFloat(value);\\n                if (!isNaN(val)) {\\n                    valueAccessor()(val);\\n                }\\n            });\\n            valueAccessor().subscribe(function(value) {\\n                var str = JSON.stringify(value);\\n                if ((str == \\\"0\\\") && ([\\\"-0\\\", \\\"-0.\\\"].indexOf(stringified()) >= 0))\\n                     return;\\n                 if ([\\\"null\\\", \\\"\\\"].indexOf(str) >= 0)\\n                     return;\\n                stringified(str);\\n            });\\n            ko.applyBindingsToNode(\\n                element,\\n                {\\n                    value: stringified,\\n                    valueUpdate: allBindings.get('valueUpdate'),\\n                },\\n                context,\\n            );\\n        }\\n    };\\n    var json_data = {\\\"loading\\\":WebIO.getval({\\\"name\\\":\\\"loading\\\",\\\"scope\\\":\\\"3296854992020656509\\\",\\\"id\\\":\\\"3931129165521041085\\\",\\\"type\\\":\\\"observable\\\"}),\\\"clicks\\\":WebIO.getval({\\\"name\\\":\\\"clicks\\\",\\\"scope\\\":\\\"3296854992020656509\\\",\\\"id\\\":\\\"17809749458926459982\\\",\\\"type\\\":\\\"observable\\\"})};\\n    var self = this;\\n    function AppViewModel() {\\n        for (var key in json_data) {\\n            var el = json_data[key];\\n            this[key] = Array.isArray(el) ? ko.observableArray(el) : ko.observable(el);\\n        }\\n        \\n        \\n        [this[\\\"loading\\\"].subscribe((function (val){!(this.valueFromJulia[\\\"loading\\\"]) ? (WebIO.setval({\\\"name\\\":\\\"loading\\\",\\\"scope\\\":\\\"3296854992020656509\\\",\\\"id\\\":\\\"3931129165521041085\\\",\\\"type\\\":\\\"observable\\\"},val)) : undefined; return this.valueFromJulia[\\\"loading\\\"]=false}),self),this[\\\"clicks\\\"].subscribe((function (val){!(this.valueFromJulia[\\\"clicks\\\"]) ? (WebIO.setval({\\\"name\\\":\\\"clicks\\\",\\\"scope\\\":\\\"3296854992020656509\\\",\\\"id\\\":\\\"17809749458926459982\\\",\\\"type\\\":\\\"observable\\\"},val)) : undefined; return this.valueFromJulia[\\\"clicks\\\"]=false}),self)]\\n        \\n    }\\n    self.model = new AppViewModel();\\n    self.valueFromJulia = {};\\n    for (var key in json_data) {\\n        self.valueFromJulia[key] = false;\\n    }\\n    ko.applyBindings(self.model, self.dom);\\n}\\n);\\n    (WebIO.importBlock({\\\"data\\\":[{\\\"name\\\":\\\"knockout\\\",\\\"type\\\":\\\"js\\\",\\\"url\\\":\\\"/assetserver/727383f2a47bd31570b7da84eee7b022dd6d7c78-knockout.js\\\"},{\\\"name\\\":\\\"knockout_punches\\\",\\\"type\\\":\\\"js\\\",\\\"url\\\":\\\"/assetserver/382b41b3b1bd9f26f75861d360bad7f8beea211f-knockout_punches.js\\\"}],\\\"type\\\":\\\"async_block\\\"})).then((imports) => handler.apply(this, imports));\\n}\\n\")])], Dict{Symbol, Any}(:className => \"field interact-widget\")), WebIO.Node{WebIO.DOM}(WebIO.DOM(:html, :div), Any[WebIO.Scope(WebIO.Node{WebIO.DOM}(WebIO.DOM(:html, :div), Any[], Dict{Symbol, Any}(:id => \"container\")), Dict{String, Tuple{Observables.AbstractObservable, Union{Nothing, Bool}}}(\"value\" => (Observable(\"\\\\;\\\\;\"), nothing)), Set{String}(), nothing, WebIO.Asset[WebIO.Asset(\"js\", nothing, \"/home/dushya/.julia/packages/InteractBase/LJXv3/src/../assets/katex.min.js\"), WebIO.Asset(\"css\", nothing, \"/home/dushya/.julia/packages/InteractBase/LJXv3/src/../assets/katex.min.css\")], Dict{Any, Any}(\"value\" => Any[WebIO.JSString(\"(function (txt){return this.k.render(txt,this.container)})\")]), WebIO.ConnectionPool(Channel{Any}(32), Set{WebIO.AbstractConnection}(), Base.GenericCondition{ReentrantLock}(Base.IntrusiveLinkedList{Task}(Task (runnable) @0x00007fe6d1c3daa0, Task (runnable) @0x00007fe6d1c3daa0), ReentrantLock(nothing, 0x00000000, 0x00, Base.GenericCondition{Base.Threads.SpinLock}(Base.IntrusiveLinkedList{Task}(nothing, nothing), Base.Threads.SpinLock(0)), (8, 0, 141733920768)))), WebIO.JSString[WebIO.JSString(\"function () {\\n    var handler = ((function (k){this.k=k; this.container=this.dom.querySelector(\\\"#container\\\"); return k.render(\\\"\\\\\\\\;\\\\\\\\;\\\",this.container)}));\\n    (WebIO.importBlock({\\\"data\\\":[{\\\"name\\\":null,\\\"type\\\":\\\"js\\\",\\\"url\\\":\\\"/assetserver/dd22ed1bf1896c2748f3fe616ce0b838adc895c1-katex.min.js\\\"},{\\\"name\\\":null,\\\"type\\\":\\\"css\\\",\\\"url\\\":\\\"/assetserver/46517a424aa5e6cffc1360d7e0848b601c584ee3-katex.min.css\\\"}],\\\"type\\\":\\\"async_block\\\"})).then((imports) => handler.apply(this, imports));\\n}\\n\")])], Dict{Symbol, Any}(:className => \"interact-widget\")), WebIO.Node{WebIO.DOM}(WebIO.DOM(:html, :div), Any[WebIO.Scope(WebIO.Node{WebIO.DOM}(WebIO.DOM(:html, :button), Any[\"save\"], Dict{Symbol, Any}(:attributes => Dict{Any, Any}(\"data-bind\" => \"click: function (){this.clicks(this.clicks()+1)}, css: {'is-loading' : loading}\"), :className => \"is-medium button is-primary\", :style => Dict{String, Any}())), Dict{String, Tuple{Observables.AbstractObservable, Union{Nothing, Bool}}}(\"loading\" => (Observable(false), nothing), \"clicks\" => (Observable(0), nothing)), Set{String}(), nothing, WebIO.Asset[WebIO.Asset(\"js\", \"knockout\", \"/home/dushya/.julia/packages/Knockout/HReiN/src/../assets/knockout.js\"), WebIO.Asset(\"js\", \"knockout_punches\", \"/home/dushya/.julia/packages/Knockout/HReiN/src/../assets/knockout_punches.js\"), WebIO.Asset(\"js\", nothing, \"/home/dushya/.julia/packages/InteractBase/LJXv3/src/../assets/all.js\"), WebIO.Asset(\"css\", nothing, \"/home/dushya/.julia/packages/InteractBase/LJXv3/src/../assets/style.css\"), WebIO.Asset(\"css\", nothing, \"/home/dushya/.julia/packages/Interact/PENUy/src/../assets/bulma_confined.min.css\")], Dict{Any, Any}(\"loading\" => Any[WebIO.JSString(\"(function (val){return (val!=this.model[\\\"loading\\\"]()) ? (this.valueFromJulia[\\\"loading\\\"]=true, this.model[\\\"loading\\\"](val)) : undefined})\")], \"clicks\" => Any[WebIO.JSString(\"(function (val){return (val!=this.model[\\\"clicks\\\"]()) ? (this.valueFromJulia[\\\"clicks\\\"]=true, this.model[\\\"clicks\\\"](val)) : undefined})\")]), WebIO.ConnectionPool(Channel{Any}(32), Set{WebIO.AbstractConnection}(), Base.GenericCondition{ReentrantLock}(Base.IntrusiveLinkedList{Task}(Task (runnable) @0x00007fe6d0908330, Task (runnable) @0x00007fe6d0908330), ReentrantLock(nothing, 0x00000000, 0x00, Base.GenericCondition{Base.Threads.SpinLock}(Base.IntrusiveLinkedList{Task}(nothing, nothing), Base.Threads.SpinLock(0)), (0, 0, 4294967298)))), WebIO.JSString[WebIO.JSString(\"function () {\\n    var handler = (function (ko, koPunches) {\\n    ko.punches.enableAll();\\n    ko.bindingHandlers.numericValue = {\\n        init: function(element, valueAccessor, allBindings, data, context) {\\n            var stringified = ko.observable(ko.unwrap(valueAccessor()));\\n            stringified.subscribe(function(value) {\\n                var val = parseFloat(value);\\n                if (!isNaN(val)) {\\n                    valueAccessor()(val);\\n                }\\n            });\\n            valueAccessor().subscribe(function(value) {\\n                var str = JSON.stringify(value);\\n                if ((str == \\\"0\\\") && ([\\\"-0\\\", \\\"-0.\\\"].indexOf(stringified()) >= 0))\\n                     return;\\n                 if ([\\\"null\\\", \\\"\\\"].indexOf(str) >= 0)\\n                     return;\\n                stringified(str);\\n            });\\n            ko.applyBindingsToNode(\\n                element,\\n                {\\n                    value: stringified,\\n                    valueUpdate: allBindings.get('valueUpdate'),\\n                },\\n                context,\\n            );\\n        }\\n    };\\n    var json_data = {\\\"loading\\\":WebIO.getval({\\\"name\\\":\\\"loading\\\",\\\"scope\\\":\\\"3186967841384522977\\\",\\\"id\\\":\\\"5653171876027605606\\\",\\\"type\\\":\\\"observable\\\"}),\\\"clicks\\\":WebIO.getval({\\\"name\\\":\\\"clicks\\\",\\\"scope\\\":\\\"3186967841384522977\\\",\\\"id\\\":\\\"11409068234983089333\\\",\\\"type\\\":\\\"observable\\\"})};\\n    var self = this;\\n    function AppViewModel() {\\n        for (var key in json_data) {\\n            var el = json_data[key];\\n            this[key] = Array.isArray(el) ? ko.observableArray(el) : ko.observable(el);\\n        }\\n        \\n        \\n        [this[\\\"loading\\\"].subscribe((function (val){!(this.valueFromJulia[\\\"loading\\\"]) ? (WebIO.setval({\\\"name\\\":\\\"loading\\\",\\\"scope\\\":\\\"3186967841384522977\\\",\\\"id\\\":\\\"5653171876027605606\\\",\\\"type\\\":\\\"observable\\\"},val)) : undefined; return this.valueFromJulia[\\\"loading\\\"]=false}),self),this[\\\"clicks\\\"].subscribe((function (val){!(this.valueFromJulia[\\\"clicks\\\"]) ? (WebIO.setval({\\\"name\\\":\\\"clicks\\\",\\\"scope\\\":\\\"3186967841384522977\\\",\\\"id\\\":\\\"11409068234983089333\\\",\\\"type\\\":\\\"observable\\\"},val)) : undefined; return this.valueFromJulia[\\\"clicks\\\"]=false}),self)]\\n        \\n    }\\n    self.model = new AppViewModel();\\n    self.valueFromJulia = {};\\n    for (var key in json_data) {\\n        self.valueFromJulia[key] = false;\\n    }\\n    ko.applyBindings(self.model, self.dom);\\n}\\n);\\n    (WebIO.importBlock({\\\"data\\\":[{\\\"name\\\":\\\"knockout\\\",\\\"type\\\":\\\"js\\\",\\\"url\\\":\\\"/assetserver/727383f2a47bd31570b7da84eee7b022dd6d7c78-knockout.js\\\"},{\\\"name\\\":\\\"knockout_punches\\\",\\\"type\\\":\\\"js\\\",\\\"url\\\":\\\"/assetserver/382b41b3b1bd9f26f75861d360bad7f8beea211f-knockout_punches.js\\\"}],\\\"type\\\":\\\"async_block\\\"})).then((imports) => handler.apply(this, imports));\\n}\\n\")])], Dict{Symbol, Any}(:className => \"field interact-widget\"))], Dict{Symbol, Any}(:style => Dict(\"display\" => \"flex\", \"flex-direction\" => \"row\")))], Dict{Symbol, Any}(:style => Dict(\"display\" => \"flex\", \"flex-direction\" => \"column\"))), WebIO.Node{WebIO.DOM}(WebIO.DOM(:html, :div), Any[WebIO.Scope(WebIO.Node{WebIO.DOM}(WebIO.DOM(:html, :div), Any[], Dict{Symbol, Any}(:id => \"container\")), Dict{String, Tuple{Observables.AbstractObservable, Union{Nothing, Bool}}}(\"value\" => (Observable(\"\\\\;\\\\;\"), nothing)), Set{String}(), nothing, WebIO.Asset[WebIO.Asset(\"js\", nothing, \"/home/dushya/.julia/packages/InteractBase/LJXv3/src/../assets/katex.min.js\"), WebIO.Asset(\"css\", nothing, \"/home/dushya/.julia/packages/InteractBase/LJXv3/src/../assets/katex.min.css\")], Dict{Any, Any}(\"value\" => Any[WebIO.JSString(\"(function (txt){return this.k.render(txt,this.container)})\")]), WebIO.ConnectionPool(Channel{Any}(32), Set{WebIO.AbstractConnection}(), Base.GenericCondition{ReentrantLock}(Base.IntrusiveLinkedList{Task}(Task (runnable) @0x00007fe6d1c3daa0, Task (runnable) @0x00007fe6d1c3daa0), ReentrantLock(nothing, 0x00000000, 0x00, Base.GenericCondition{Base.Threads.SpinLock}(Base.IntrusiveLinkedList{Task}(nothing, nothing), Base.Threads.SpinLock(0)), (8, 0, 141733920768)))), WebIO.JSString[WebIO.JSString(\"function () {\\n    var handler = ((function (k){this.k=k; this.container=this.dom.querySelector(\\\"#container\\\"); return k.render(\\\"\\\\\\\\;\\\\\\\\;\\\",this.container)}));\\n    (WebIO.importBlock({\\\"data\\\":[{\\\"name\\\":null,\\\"type\\\":\\\"js\\\",\\\"url\\\":\\\"/assetserver/dd22ed1bf1896c2748f3fe616ce0b838adc895c1-katex.min.js\\\"},{\\\"name\\\":null,\\\"type\\\":\\\"css\\\",\\\"url\\\":\\\"/assetserver/46517a424aa5e6cffc1360d7e0848b601c584ee3-katex.min.css\\\"}],\\\"type\\\":\\\"async_block\\\"})).then((imports) => handler.apply(this, imports));\\n}\\n\")])], Dict{Symbol, Any}(:className => \"interact-widget\")), Observable(Luxor.Drawing(430.0, 430.0, \"\", Cairo.CairoSurfaceBase{UInt32}(Ptr{Nothing} @0x0000000000000000, 430.0, 430.0), Cairo.CairoContext(Ptr{Nothing} @0x0000000005da0150, Cairo.CairoSurfaceBase{UInt32}(Ptr{Nothing} @0x0000000000000000, 430.0, 430.0), Ptr{Nothing} @0x0000000003552990), :png, 0.5, 0.5, 0.5, 0.5, IOBuffer(data=UInt8[...], readable=true, writable=true, seekable=true, append=false, size=9778, maxsize=Inf, ptr=9779, mark=-1), UInt8[0x89, 0x50, 0x4e, 0x47, 0x0d, 0x0a, 0x1a, 0x0a, 0x00, 0x00  …  0x00, 0x00, 0x49, 0x45, 0x4e, 0x44, 0xae, 0x42, 0x60, 0x82], false)), WebIO.Node{WebIO.DOM}(WebIO.DOM(:html, :div), Any[WebIO.Scope(WebIO.Node{WebIO.DOM}(WebIO.DOM(:html, :div), Any[], Dict{Symbol, Any}(:id => \"container\")), Dict{String, Tuple{Observables.AbstractObservable, Union{Nothing, Bool}}}(\"value\" => (Observable(\"\\\\;\\\\;\"), nothing)), Set{String}(), nothing, WebIO.Asset[WebIO.Asset(\"js\", nothing, \"/home/dushya/.julia/packages/InteractBase/LJXv3/src/../assets/katex.min.js\"), WebIO.Asset(\"css\", nothing, \"/home/dushya/.julia/packages/InteractBase/LJXv3/src/../assets/katex.min.css\")], Dict{Any, Any}(\"value\" => Any[WebIO.JSString(\"(function (txt){return this.k.render(txt,this.container)})\")]), WebIO.ConnectionPool(Channel{Any}(32), Set{WebIO.AbstractConnection}(), Base.GenericCondition{ReentrantLock}(Base.IntrusiveLinkedList{Task}(Task (runnable) @0x00007fe6d1c3daa0, Task (runnable) @0x00007fe6d1c3daa0), ReentrantLock(nothing, 0x00000000, 0x00, Base.GenericCondition{Base.Threads.SpinLock}(Base.IntrusiveLinkedList{Task}(nothing, nothing), Base.Threads.SpinLock(0)), (8, 0, 141733920768)))), WebIO.JSString[WebIO.JSString(\"function () {\\n    var handler = ((function (k){this.k=k; this.container=this.dom.querySelector(\\\"#container\\\"); return k.render(\\\"\\\\\\\\;\\\\\\\\;\\\",this.container)}));\\n    (WebIO.importBlock({\\\"data\\\":[{\\\"name\\\":null,\\\"type\\\":\\\"js\\\",\\\"url\\\":\\\"/assetserver/dd22ed1bf1896c2748f3fe616ce0b838adc895c1-katex.min.js\\\"},{\\\"name\\\":null,\\\"type\\\":\\\"css\\\",\\\"url\\\":\\\"/assetserver/46517a424aa5e6cffc1360d7e0848b601c584ee3-katex.min.css\\\"}],\\\"type\\\":\\\"async_block\\\"})).then((imports) => handler.apply(this, imports));\\n}\\n\")])], Dict{Symbol, Any}(:className => \"interact-widget\")), WebIO.Node{WebIO.DOM}(WebIO.DOM(:html, :div), Any[], Dict{Symbol, Any}(:style => Dict(\"display\" => \"flex\", \"flex-direction\" => \"column\")))], Dict{Symbol, Any}(:style => Dict(\"display\" => \"flex\", \"flex-direction\" => \"row\")))], Dict{Symbol, Any}(:style => Dict(\"display\" => \"flex\", \"flex-direction\" => \"column\")))"
      ]
     },
     "execution_count": 9,
     "metadata": {
      "application/vnd.webio.node+json": {
       "kernelId": "82c7a13c-6049-444f-a63b-4c4ff3aaf528"
      }
     },
     "output_type": "execute_result"
    }
   ],
   "source": [
    "create_interactive_app(model, initialiser= initialiser!,\n",
    "    props_to_record = Dict(\"patches\" => Set([:color])),\n",
    "    step_rule= step_rule!,\n",
    "    model_controls=[(:threshold, \"slider\", 1:8)], \n",
    "    frames=400, show_patches=true)"
   ]
  },
  {
   "cell_type": "markdown",
   "metadata": {},
   "source": [
    "## Step 5: Fetch Data \n",
    "\n",
    "It is easy to fetch any recorded data after running the model. For example, the numbers of different colored patches at all timesteps can be got as follows"
   ]
  },
  {
   "cell_type": "code",
   "execution_count": 10,
   "metadata": {},
   "outputs": [
    {
     "data": {
      "image/png": "[encoded data removed]",
      "image/svg+xml": [
       "<?xml version=\"1.0\" encoding=\"utf-8\"?>\n",
       "<svg xmlns=\"http://www.w3.org/2000/svg\" xmlns:xlink=\"http://www.w3.org/1999/xlink\" width=\"600\" height=\"400\" viewBox=\"0 0 2400 1600\">\n",
       "<defs>\n",
       "  <clipPath id=\"clip280\">\n",
       "    <rect x=\"0\" y=\"0\" width=\"2400\" height=\"1600\"/>\n",
       "  </clipPath>\n",
       "</defs>\n",
       "<path clip-path=\"url(#clip280)\" d=\"M0 1600 L2400 1600 L2400 0 L0 0  Z\" fill=\"#ffffff\" fill-rule=\"evenodd\" fill-opacity=\"1\"/>\n",
       "<defs>\n",
       "  <clipPath id=\"clip281\">\n",
       "    <rect x=\"480\" y=\"0\" width=\"1681\" height=\"1600\"/>\n",
       "  </clipPath>\n",
       "</defs>\n",
       "<path clip-path=\"url(#clip280)\" d=\"M234.612 1423.18 L2352.76 1423.18 L2352.76 47.2441 L234.612 47.2441  Z\" fill=\"#ffffff\" fill-rule=\"evenodd\" fill-opacity=\"1\"/>\n",
       "<defs>\n",
       "  <clipPath id=\"clip282\">\n",
       "    <rect x=\"234\" y=\"47\" width=\"2119\" height=\"1377\"/>\n",
       "  </clipPath>\n",
       "</defs>\n",
       "<polyline clip-path=\"url(#clip282)\" style=\"stroke:#000000; stroke-linecap:round; stroke-linejoin:round; stroke-width:2; stroke-opacity:0.1; fill:none\" points=\"289.563,1423.18 289.563,47.2441 \"/>\n",
       "<polyline clip-path=\"url(#clip282)\" style=\"stroke:#000000; stroke-linecap:round; stroke-linejoin:round; stroke-width:2; stroke-opacity:0.1; fill:none\" points=\"789.126,1423.18 789.126,47.2441 \"/>\n",
       "<polyline clip-path=\"url(#clip282)\" style=\"stroke:#000000; stroke-linecap:round; stroke-linejoin:round; stroke-width:2; stroke-opacity:0.1; fill:none\" points=\"1288.69,1423.18 1288.69,47.2441 \"/>\n",
       "<polyline clip-path=\"url(#clip282)\" style=\"stroke:#000000; stroke-linecap:round; stroke-linejoin:round; stroke-width:2; stroke-opacity:0.1; fill:none\" points=\"1788.25,1423.18 1788.25,47.2441 \"/>\n",
       "<polyline clip-path=\"url(#clip282)\" style=\"stroke:#000000; stroke-linecap:round; stroke-linejoin:round; stroke-width:2; stroke-opacity:0.1; fill:none\" points=\"2287.81,1423.18 2287.81,47.2441 \"/>\n",
       "<polyline clip-path=\"url(#clip280)\" style=\"stroke:#000000; stroke-linecap:round; stroke-linejoin:round; stroke-width:4; stroke-opacity:1; fill:none\" points=\"234.612,1423.18 2352.76,1423.18 \"/>\n",
       "<polyline clip-path=\"url(#clip280)\" style=\"stroke:#000000; stroke-linecap:round; stroke-linejoin:round; stroke-width:4; stroke-opacity:1; fill:none\" points=\"289.563,1423.18 289.563,1404.28 \"/>\n",
       "<polyline clip-path=\"url(#clip280)\" style=\"stroke:#000000; stroke-linecap:round; stroke-linejoin:round; stroke-width:4; stroke-opacity:1; fill:none\" points=\"789.126,1423.18 789.126,1404.28 \"/>\n",
       "<polyline clip-path=\"url(#clip280)\" style=\"stroke:#000000; stroke-linecap:round; stroke-linejoin:round; stroke-width:4; stroke-opacity:1; fill:none\" points=\"1288.69,1423.18 1288.69,1404.28 \"/>\n",
       "<polyline clip-path=\"url(#clip280)\" style=\"stroke:#000000; stroke-linecap:round; stroke-linejoin:round; stroke-width:4; stroke-opacity:1; fill:none\" points=\"1788.25,1423.18 1788.25,1404.28 \"/>\n",
       "<polyline clip-path=\"url(#clip280)\" style=\"stroke:#000000; stroke-linecap:round; stroke-linejoin:round; stroke-width:4; stroke-opacity:1; fill:none\" points=\"2287.81,1423.18 2287.81,1404.28 \"/>\n",
       "<path clip-path=\"url(#clip280)\" d=\"M289.563 1454.1 Q285.952 1454.1 284.124 1457.66 Q282.318 1461.2 282.318 1468.33 Q282.318 1475.44 284.124 1479.01 Q285.952 1482.55 289.563 1482.55 Q293.198 1482.55 295.003 1479.01 Q296.832 1475.44 296.832 1468.33 Q296.832 1461.2 295.003 1457.66 Q293.198 1454.1 289.563 1454.1 M289.563 1450.39 Q295.374 1450.39 298.429 1455 Q301.508 1459.58 301.508 1468.33 Q301.508 1477.06 298.429 1481.67 Q295.374 1486.25 289.563 1486.25 Q283.753 1486.25 280.675 1481.67 Q277.619 1477.06 277.619 1468.33 Q277.619 1459.58 280.675 1455 Q283.753 1450.39 289.563 1450.39 Z\" fill=\"#000000\" fill-rule=\"nonzero\" fill-opacity=\"1\" /><path clip-path=\"url(#clip280)\" d=\"M748.732 1481.64 L756.371 1481.64 L756.371 1455.28 L748.061 1456.95 L748.061 1452.69 L756.325 1451.02 L761.001 1451.02 L761.001 1481.64 L768.64 1481.64 L768.64 1485.58 L748.732 1485.58 L748.732 1481.64 Z\" fill=\"#000000\" fill-rule=\"nonzero\" fill-opacity=\"1\" /><path clip-path=\"url(#clip280)\" d=\"M788.084 1454.1 Q784.473 1454.1 782.644 1457.66 Q780.839 1461.2 780.839 1468.33 Q780.839 1475.44 782.644 1479.01 Q784.473 1482.55 788.084 1482.55 Q791.718 1482.55 793.524 1479.01 Q795.353 1475.44 795.353 1468.33 Q795.353 1461.2 793.524 1457.66 Q791.718 1454.1 788.084 1454.1 M788.084 1450.39 Q793.894 1450.39 796.95 1455 Q800.028 1459.58 800.028 1468.33 Q800.028 1477.06 796.95 1481.67 Q793.894 1486.25 788.084 1486.25 Q782.274 1486.25 779.195 1481.67 Q776.14 1477.06 776.14 1468.33 Q776.14 1459.58 779.195 1455 Q782.274 1450.39 788.084 1450.39 Z\" fill=\"#000000\" fill-rule=\"nonzero\" fill-opacity=\"1\" /><path clip-path=\"url(#clip280)\" d=\"M818.246 1454.1 Q814.635 1454.1 812.806 1457.66 Q811.001 1461.2 811.001 1468.33 Q811.001 1475.44 812.806 1479.01 Q814.635 1482.55 818.246 1482.55 Q821.88 1482.55 823.686 1479.01 Q825.514 1475.44 825.514 1468.33 Q825.514 1461.2 823.686 1457.66 Q821.88 1454.1 818.246 1454.1 M818.246 1450.39 Q824.056 1450.39 827.112 1455 Q830.19 1459.58 830.19 1468.33 Q830.19 1477.06 827.112 1481.67 Q824.056 1486.25 818.246 1486.25 Q812.436 1486.25 809.357 1481.67 Q806.302 1477.06 806.302 1468.33 Q806.302 1459.58 809.357 1455 Q812.436 1450.39 818.246 1450.39 Z\" fill=\"#000000\" fill-rule=\"nonzero\" fill-opacity=\"1\" /><path clip-path=\"url(#clip280)\" d=\"M1252.38 1481.64 L1268.7 1481.64 L1268.7 1485.58 L1246.76 1485.58 L1246.76 1481.64 Q1249.42 1478.89 1254 1474.26 Q1258.61 1469.61 1259.79 1468.27 Q1262.03 1465.74 1262.91 1464.01 Q1263.82 1462.25 1263.82 1460.56 Q1263.82 1457.8 1261.87 1456.07 Q1259.95 1454.33 1256.85 1454.33 Q1254.65 1454.33 1252.2 1455.09 Q1249.76 1455.86 1246.99 1457.41 L1246.99 1452.69 Q1249.81 1451.55 1252.26 1450.97 Q1254.72 1450.39 1256.76 1450.39 Q1262.13 1450.39 1265.32 1453.08 Q1268.51 1455.77 1268.51 1460.26 Q1268.51 1462.39 1267.7 1464.31 Q1266.92 1466.2 1264.81 1468.8 Q1264.23 1469.47 1261.13 1472.69 Q1258.03 1475.88 1252.38 1481.64 Z\" fill=\"#000000\" fill-rule=\"nonzero\" fill-opacity=\"1\" /><path clip-path=\"url(#clip280)\" d=\"M1288.51 1454.1 Q1284.9 1454.1 1283.07 1457.66 Q1281.27 1461.2 1281.27 1468.33 Q1281.27 1475.44 1283.07 1479.01 Q1284.9 1482.55 1288.51 1482.55 Q1292.15 1482.55 1293.95 1479.01 Q1295.78 1475.44 1295.78 1468.33 Q1295.78 1461.2 1293.95 1457.66 Q1292.15 1454.1 1288.51 1454.1 M1288.51 1450.39 Q1294.32 1450.39 1297.38 1455 Q1300.46 1459.58 1300.46 1468.33 Q1300.46 1477.06 1297.38 1481.67 Q1294.32 1486.25 1288.51 1486.25 Q1282.7 1486.25 1279.63 1481.67 Q1276.57 1477.06 1276.57 1468.33 Q1276.57 1459.58 1279.63 1455 Q1282.7 1450.39 1288.51 1450.39 Z\" fill=\"#000000\" fill-rule=\"nonzero\" fill-opacity=\"1\" /><path clip-path=\"url(#clip280)\" d=\"M1318.68 1454.1 Q1315.07 1454.1 1313.24 1457.66 Q1311.43 1461.2 1311.43 1468.33 Q1311.43 1475.44 1313.24 1479.01 Q1315.07 1482.55 1318.68 1482.55 Q1322.31 1482.55 1324.12 1479.01 Q1325.94 1475.44 1325.94 1468.33 Q1325.94 1461.2 1324.12 1457.66 Q1322.31 1454.1 1318.68 1454.1 M1318.68 1450.39 Q1324.49 1450.39 1327.54 1455 Q1330.62 1459.58 1330.62 1468.33 Q1330.62 1477.06 1327.54 1481.67 Q1324.49 1486.25 1318.68 1486.25 Q1312.87 1486.25 1309.79 1481.67 Q1306.73 1477.06 1306.73 1468.33 Q1306.73 1459.58 1309.79 1455 Q1312.87 1450.39 1318.68 1450.39 Z\" fill=\"#000000\" fill-rule=\"nonzero\" fill-opacity=\"1\" /><path clip-path=\"url(#clip280)\" d=\"M1762.01 1466.95 Q1765.37 1467.66 1767.24 1469.93 Q1769.14 1472.2 1769.14 1475.53 Q1769.14 1480.65 1765.62 1483.45 Q1762.1 1486.25 1755.62 1486.25 Q1753.45 1486.25 1751.13 1485.81 Q1748.84 1485.39 1746.39 1484.54 L1746.39 1480.02 Q1748.33 1481.16 1750.65 1481.74 Q1752.96 1482.32 1755.48 1482.32 Q1759.88 1482.32 1762.17 1480.58 Q1764.49 1478.84 1764.49 1475.53 Q1764.49 1472.48 1762.34 1470.77 Q1760.21 1469.03 1756.39 1469.03 L1752.36 1469.03 L1752.36 1465.19 L1756.57 1465.19 Q1760.02 1465.19 1761.85 1463.82 Q1763.68 1462.43 1763.68 1459.84 Q1763.68 1457.18 1761.78 1455.77 Q1759.91 1454.33 1756.39 1454.33 Q1754.47 1454.33 1752.27 1454.75 Q1750.07 1455.16 1747.43 1456.04 L1747.43 1451.88 Q1750.09 1451.14 1752.41 1450.77 Q1754.74 1450.39 1756.8 1450.39 Q1762.13 1450.39 1765.23 1452.83 Q1768.33 1455.23 1768.33 1459.35 Q1768.33 1462.22 1766.69 1464.21 Q1765.04 1466.18 1762.01 1466.95 Z\" fill=\"#000000\" fill-rule=\"nonzero\" fill-opacity=\"1\" /><path clip-path=\"url(#clip280)\" d=\"M1788.01 1454.1 Q1784.4 1454.1 1782.57 1457.66 Q1780.76 1461.2 1780.76 1468.33 Q1780.76 1475.44 1782.57 1479.01 Q1784.4 1482.55 1788.01 1482.55 Q1791.64 1482.55 1793.45 1479.01 Q1795.28 1475.44 1795.28 1468.33 Q1795.28 1461.2 1793.45 1457.66 Q1791.64 1454.1 1788.01 1454.1 M1788.01 1450.39 Q1793.82 1450.39 1796.87 1455 Q1799.95 1459.58 1799.95 1468.33 Q1799.95 1477.06 1796.87 1481.67 Q1793.82 1486.25 1788.01 1486.25 Q1782.2 1486.25 1779.12 1481.67 Q1776.06 1477.06 1776.06 1468.33 Q1776.06 1459.58 1779.12 1455 Q1782.2 1450.39 1788.01 1450.39 Z\" fill=\"#000000\" fill-rule=\"nonzero\" fill-opacity=\"1\" /><path clip-path=\"url(#clip280)\" d=\"M1818.17 1454.1 Q1814.56 1454.1 1812.73 1457.66 Q1810.92 1461.2 1810.92 1468.33 Q1810.92 1475.44 1812.73 1479.01 Q1814.56 1482.55 1818.17 1482.55 Q1821.8 1482.55 1823.61 1479.01 Q1825.44 1475.44 1825.44 1468.33 Q1825.44 1461.2 1823.61 1457.66 Q1821.8 1454.1 1818.17 1454.1 M1818.17 1450.39 Q1823.98 1450.39 1827.03 1455 Q1830.11 1459.58 1830.11 1468.33 Q1830.11 1477.06 1827.03 1481.67 Q1823.98 1486.25 1818.17 1486.25 Q1812.36 1486.25 1809.28 1481.67 Q1806.22 1477.06 1806.22 1468.33 Q1806.22 1459.58 1809.28 1455 Q1812.36 1450.39 1818.17 1450.39 Z\" fill=\"#000000\" fill-rule=\"nonzero\" fill-opacity=\"1\" /><path clip-path=\"url(#clip280)\" d=\"M2260.9 1455.09 L2249.1 1473.54 L2260.9 1473.54 L2260.9 1455.09 M2259.68 1451.02 L2265.56 1451.02 L2265.56 1473.54 L2270.49 1473.54 L2270.49 1477.43 L2265.56 1477.43 L2265.56 1485.58 L2260.9 1485.58 L2260.9 1477.43 L2245.3 1477.43 L2245.3 1472.92 L2259.68 1451.02 Z\" fill=\"#000000\" fill-rule=\"nonzero\" fill-opacity=\"1\" /><path clip-path=\"url(#clip280)\" d=\"M2288.22 1454.1 Q2284.61 1454.1 2282.78 1457.66 Q2280.97 1461.2 2280.97 1468.33 Q2280.97 1475.44 2282.78 1479.01 Q2284.61 1482.55 2288.22 1482.55 Q2291.85 1482.55 2293.66 1479.01 Q2295.49 1475.44 2295.49 1468.33 Q2295.49 1461.2 2293.66 1457.66 Q2291.85 1454.1 2288.22 1454.1 M2288.22 1450.39 Q2294.03 1450.39 2297.08 1455 Q2300.16 1459.58 2300.16 1468.33 Q2300.16 1477.06 2297.08 1481.67 Q2294.03 1486.25 2288.22 1486.25 Q2282.41 1486.25 2279.33 1481.67 Q2276.27 1477.06 2276.27 1468.33 Q2276.27 1459.58 2279.33 1455 Q2282.41 1450.39 2288.22 1450.39 Z\" fill=\"#000000\" fill-rule=\"nonzero\" fill-opacity=\"1\" /><path clip-path=\"url(#clip280)\" d=\"M2318.38 1454.1 Q2314.77 1454.1 2312.94 1457.66 Q2311.13 1461.2 2311.13 1468.33 Q2311.13 1475.44 2312.94 1479.01 Q2314.77 1482.55 2318.38 1482.55 Q2322.01 1482.55 2323.82 1479.01 Q2325.65 1475.44 2325.65 1468.33 Q2325.65 1461.2 2323.82 1457.66 Q2322.01 1454.1 2318.38 1454.1 M2318.38 1450.39 Q2324.19 1450.39 2327.25 1455 Q2330.32 1459.58 2330.32 1468.33 Q2330.32 1477.06 2327.25 1481.67 Q2324.19 1486.25 2318.38 1486.25 Q2312.57 1486.25 2309.49 1481.67 Q2306.44 1477.06 2306.44 1468.33 Q2306.44 1459.58 2309.49 1455 Q2312.57 1450.39 2318.38 1450.39 Z\" fill=\"#000000\" fill-rule=\"nonzero\" fill-opacity=\"1\" /><path clip-path=\"url(#clip280)\" d=\"M1230.73 1522.27 L1230.73 1532.4 L1242.79 1532.4 L1242.79 1536.95 L1230.73 1536.95 L1230.73 1556.3 Q1230.73 1560.66 1231.9 1561.9 Q1233.11 1563.14 1236.77 1563.14 L1242.79 1563.14 L1242.79 1568.04 L1236.77 1568.04 Q1229.99 1568.04 1227.42 1565.53 Q1224.84 1562.98 1224.84 1556.3 L1224.84 1536.95 L1220.54 1536.95 L1220.54 1532.4 L1224.84 1532.4 L1224.84 1522.27 L1230.73 1522.27 Z\" fill=\"#000000\" fill-rule=\"nonzero\" fill-opacity=\"1\" /><path clip-path=\"url(#clip280)\" d=\"M1250.49 1532.4 L1256.35 1532.4 L1256.35 1568.04 L1250.49 1568.04 L1250.49 1532.4 M1250.49 1518.52 L1256.35 1518.52 L1256.35 1525.93 L1250.49 1525.93 L1250.49 1518.52 Z\" fill=\"#000000\" fill-rule=\"nonzero\" fill-opacity=\"1\" /><path clip-path=\"url(#clip280)\" d=\"M1294.26 1533.76 L1294.26 1539.24 Q1291.77 1537.87 1289.26 1537.2 Q1286.78 1536.5 1284.23 1536.5 Q1278.53 1536.5 1275.38 1540.13 Q1272.23 1543.73 1272.23 1550.25 Q1272.23 1556.78 1275.38 1560.4 Q1278.53 1564 1284.23 1564 Q1286.78 1564 1289.26 1563.33 Q1291.77 1562.63 1294.26 1561.26 L1294.26 1566.68 Q1291.81 1567.82 1289.16 1568.39 Q1286.55 1568.97 1283.59 1568.97 Q1275.54 1568.97 1270.8 1563.91 Q1266.06 1558.85 1266.06 1550.25 Q1266.06 1541.53 1270.83 1536.53 Q1275.64 1531.54 1283.98 1531.54 Q1286.68 1531.54 1289.26 1532.11 Q1291.84 1532.65 1294.26 1533.76 Z\" fill=\"#000000\" fill-rule=\"nonzero\" fill-opacity=\"1\" /><path clip-path=\"url(#clip280)\" d=\"M1304.22 1518.52 L1310.11 1518.52 L1310.11 1547.77 L1327.58 1532.4 L1335.06 1532.4 L1316.15 1549.07 L1335.86 1568.04 L1328.22 1568.04 L1310.11 1550.63 L1310.11 1568.04 L1304.22 1568.04 L1304.22 1518.52 Z\" fill=\"#000000\" fill-rule=\"nonzero\" fill-opacity=\"1\" /><path clip-path=\"url(#clip280)\" d=\"M1364.92 1533.45 L1364.92 1538.98 Q1362.43 1537.71 1359.76 1537.07 Q1357.09 1536.44 1354.22 1536.44 Q1349.86 1536.44 1347.66 1537.77 Q1345.5 1539.11 1345.5 1541.79 Q1345.5 1543.82 1347.06 1545 Q1348.62 1546.15 1353.33 1547.2 L1355.34 1547.64 Q1361.57 1548.98 1364.18 1551.43 Q1366.83 1553.85 1366.83 1558.21 Q1366.83 1563.17 1362.88 1566.07 Q1358.96 1568.97 1352.09 1568.97 Q1349.22 1568.97 1346.11 1568.39 Q1343.02 1567.85 1339.58 1566.74 L1339.58 1560.69 Q1342.83 1562.38 1345.98 1563.24 Q1349.13 1564.07 1352.22 1564.07 Q1356.35 1564.07 1358.58 1562.66 Q1360.81 1561.23 1360.81 1558.65 Q1360.81 1556.27 1359.19 1554.99 Q1357.6 1553.72 1352.15 1552.54 L1350.12 1552.07 Q1344.67 1550.92 1342.25 1548.56 Q1339.84 1546.18 1339.84 1542.04 Q1339.84 1537.01 1343.4 1534.27 Q1346.96 1531.54 1353.52 1531.54 Q1356.77 1531.54 1359.63 1532.01 Q1362.5 1532.49 1364.92 1533.45 Z\" fill=\"#000000\" fill-rule=\"nonzero\" fill-opacity=\"1\" /><polyline clip-path=\"url(#clip282)\" style=\"stroke:#000000; stroke-linecap:round; stroke-linejoin:round; stroke-width:2; stroke-opacity:0.1; fill:none\" points=\"234.612,1198.8 2352.76,1198.8 \"/>\n",
       "<polyline clip-path=\"url(#clip282)\" style=\"stroke:#000000; stroke-linecap:round; stroke-linejoin:round; stroke-width:2; stroke-opacity:0.1; fill:none\" points=\"234.612,933.893 2352.76,933.893 \"/>\n",
       "<polyline clip-path=\"url(#clip282)\" style=\"stroke:#000000; stroke-linecap:round; stroke-linejoin:round; stroke-width:2; stroke-opacity:0.1; fill:none\" points=\"234.612,668.985 2352.76,668.985 \"/>\n",
       "<polyline clip-path=\"url(#clip282)\" style=\"stroke:#000000; stroke-linecap:round; stroke-linejoin:round; stroke-width:2; stroke-opacity:0.1; fill:none\" points=\"234.612,404.076 2352.76,404.076 \"/>\n",
       "<polyline clip-path=\"url(#clip282)\" style=\"stroke:#000000; stroke-linecap:round; stroke-linejoin:round; stroke-width:2; stroke-opacity:0.1; fill:none\" points=\"234.612,139.167 2352.76,139.167 \"/>\n",
       "<polyline clip-path=\"url(#clip280)\" style=\"stroke:#000000; stroke-linecap:round; stroke-linejoin:round; stroke-width:4; stroke-opacity:1; fill:none\" points=\"234.612,1423.18 234.612,47.2441 \"/>\n",
       "<polyline clip-path=\"url(#clip280)\" style=\"stroke:#000000; stroke-linecap:round; stroke-linejoin:round; stroke-width:4; stroke-opacity:1; fill:none\" points=\"234.612,1198.8 253.509,1198.8 \"/>\n",
       "<polyline clip-path=\"url(#clip280)\" style=\"stroke:#000000; stroke-linecap:round; stroke-linejoin:round; stroke-width:4; stroke-opacity:1; fill:none\" points=\"234.612,933.893 253.509,933.893 \"/>\n",
       "<polyline clip-path=\"url(#clip280)\" style=\"stroke:#000000; stroke-linecap:round; stroke-linejoin:round; stroke-width:4; stroke-opacity:1; fill:none\" points=\"234.612,668.985 253.509,668.985 \"/>\n",
       "<polyline clip-path=\"url(#clip280)\" style=\"stroke:#000000; stroke-linecap:round; stroke-linejoin:round; stroke-width:4; stroke-opacity:1; fill:none\" points=\"234.612,404.076 253.509,404.076 \"/>\n",
       "<polyline clip-path=\"url(#clip280)\" style=\"stroke:#000000; stroke-linecap:round; stroke-linejoin:round; stroke-width:4; stroke-opacity:1; fill:none\" points=\"234.612,139.167 253.509,139.167 \"/>\n",
       "<path clip-path=\"url(#clip280)\" d=\"M115.163 1181.52 L137.385 1181.52 L137.385 1183.51 L124.839 1216.08 L119.955 1216.08 L131.76 1185.46 L115.163 1185.46 L115.163 1181.52 Z\" fill=\"#000000\" fill-rule=\"nonzero\" fill-opacity=\"1\" /><path clip-path=\"url(#clip280)\" d=\"M146.552 1181.52 L164.908 1181.52 L164.908 1185.46 L150.834 1185.46 L150.834 1193.93 Q151.853 1193.58 152.871 1193.42 Q153.89 1193.24 154.908 1193.24 Q160.695 1193.24 164.075 1196.41 Q167.454 1199.58 167.454 1204.99 Q167.454 1210.57 163.982 1213.67 Q160.51 1216.75 154.19 1216.75 Q152.015 1216.75 149.746 1216.38 Q147.501 1216.01 145.093 1215.27 L145.093 1210.57 Q147.177 1211.71 149.399 1212.26 Q151.621 1212.82 154.098 1212.82 Q158.103 1212.82 160.44 1210.71 Q162.778 1208.61 162.778 1204.99 Q162.778 1201.38 160.44 1199.28 Q158.103 1197.17 154.098 1197.17 Q152.223 1197.17 150.348 1197.59 Q148.496 1198 146.552 1198.88 L146.552 1181.52 Z\" fill=\"#000000\" fill-rule=\"nonzero\" fill-opacity=\"1\" /><path clip-path=\"url(#clip280)\" d=\"M186.667 1184.6 Q183.056 1184.6 181.227 1188.17 Q179.422 1191.71 179.422 1198.84 Q179.422 1205.94 181.227 1209.51 Q183.056 1213.05 186.667 1213.05 Q190.301 1213.05 192.107 1209.51 Q193.936 1205.94 193.936 1198.84 Q193.936 1191.71 192.107 1188.17 Q190.301 1184.6 186.667 1184.6 M186.667 1180.9 Q192.477 1180.9 195.533 1185.5 Q198.612 1190.09 198.612 1198.84 Q198.612 1207.56 195.533 1212.17 Q192.477 1216.75 186.667 1216.75 Q180.857 1216.75 177.778 1212.17 Q174.723 1207.56 174.723 1198.84 Q174.723 1190.09 177.778 1185.5 Q180.857 1180.9 186.667 1180.9 Z\" fill=\"#000000\" fill-rule=\"nonzero\" fill-opacity=\"1\" /><path clip-path=\"url(#clip280)\" d=\"M126.343 934.762 Q123.01 934.762 121.089 936.544 Q119.191 938.326 119.191 941.451 Q119.191 944.576 121.089 946.359 Q123.01 948.141 126.343 948.141 Q129.677 948.141 131.598 946.359 Q133.519 944.553 133.519 941.451 Q133.519 938.326 131.598 936.544 Q129.7 934.762 126.343 934.762 M121.668 932.771 Q118.658 932.03 116.968 929.97 Q115.302 927.91 115.302 924.947 Q115.302 920.803 118.242 918.396 Q121.205 915.988 126.343 915.988 Q131.505 915.988 134.445 918.396 Q137.385 920.803 137.385 924.947 Q137.385 927.91 135.695 929.97 Q134.029 932.03 131.042 932.771 Q134.422 933.558 136.297 935.849 Q138.195 938.141 138.195 941.451 Q138.195 946.474 135.117 949.16 Q132.061 951.845 126.343 951.845 Q120.626 951.845 117.547 949.16 Q114.492 946.474 114.492 941.451 Q114.492 938.141 116.39 935.849 Q118.288 933.558 121.668 932.771 M119.955 925.387 Q119.955 928.072 121.621 929.576 Q123.311 931.081 126.343 931.081 Q129.353 931.081 131.042 929.576 Q132.755 928.072 132.755 925.387 Q132.755 922.701 131.042 921.197 Q129.353 919.692 126.343 919.692 Q123.311 919.692 121.621 921.197 Q119.955 922.701 119.955 925.387 Z\" fill=\"#000000\" fill-rule=\"nonzero\" fill-opacity=\"1\" /><path clip-path=\"url(#clip280)\" d=\"M156.505 919.692 Q152.894 919.692 151.066 923.257 Q149.26 926.799 149.26 933.928 Q149.26 941.035 151.066 944.599 Q152.894 948.141 156.505 948.141 Q160.14 948.141 161.945 944.599 Q163.774 941.035 163.774 933.928 Q163.774 926.799 161.945 923.257 Q160.14 919.692 156.505 919.692 M156.505 915.988 Q162.315 915.988 165.371 920.595 Q168.45 925.178 168.45 933.928 Q168.45 942.655 165.371 947.261 Q162.315 951.845 156.505 951.845 Q150.695 951.845 147.616 947.261 Q144.561 942.655 144.561 933.928 Q144.561 925.178 147.616 920.595 Q150.695 915.988 156.505 915.988 Z\" fill=\"#000000\" fill-rule=\"nonzero\" fill-opacity=\"1\" /><path clip-path=\"url(#clip280)\" d=\"M186.667 919.692 Q183.056 919.692 181.227 923.257 Q179.422 926.799 179.422 933.928 Q179.422 941.035 181.227 944.599 Q183.056 948.141 186.667 948.141 Q190.301 948.141 192.107 944.599 Q193.936 941.035 193.936 933.928 Q193.936 926.799 192.107 923.257 Q190.301 919.692 186.667 919.692 M186.667 915.988 Q192.477 915.988 195.533 920.595 Q198.612 925.178 198.612 933.928 Q198.612 942.655 195.533 947.261 Q192.477 951.845 186.667 951.845 Q180.857 951.845 177.778 947.261 Q174.723 942.655 174.723 933.928 Q174.723 925.178 177.778 920.595 Q180.857 915.988 186.667 915.988 Z\" fill=\"#000000\" fill-rule=\"nonzero\" fill-opacity=\"1\" /><path clip-path=\"url(#clip280)\" d=\"M126.343 669.853 Q123.01 669.853 121.089 671.635 Q119.191 673.418 119.191 676.543 Q119.191 679.668 121.089 681.45 Q123.01 683.232 126.343 683.232 Q129.677 683.232 131.598 681.45 Q133.519 679.644 133.519 676.543 Q133.519 673.418 131.598 671.635 Q129.7 669.853 126.343 669.853 M121.668 667.862 Q118.658 667.121 116.968 665.061 Q115.302 663.001 115.302 660.038 Q115.302 655.895 118.242 653.487 Q121.205 651.08 126.343 651.08 Q131.505 651.08 134.445 653.487 Q137.385 655.895 137.385 660.038 Q137.385 663.001 135.695 665.061 Q134.029 667.121 131.042 667.862 Q134.422 668.649 136.297 670.941 Q138.195 673.232 138.195 676.543 Q138.195 681.566 135.117 684.251 Q132.061 686.936 126.343 686.936 Q120.626 686.936 117.547 684.251 Q114.492 681.566 114.492 676.543 Q114.492 673.232 116.39 670.941 Q118.288 668.649 121.668 667.862 M119.955 660.478 Q119.955 663.163 121.621 664.668 Q123.311 666.172 126.343 666.172 Q129.353 666.172 131.042 664.668 Q132.755 663.163 132.755 660.478 Q132.755 657.793 131.042 656.288 Q129.353 654.783 126.343 654.783 Q123.311 654.783 121.621 656.288 Q119.955 657.793 119.955 660.478 Z\" fill=\"#000000\" fill-rule=\"nonzero\" fill-opacity=\"1\" /><path clip-path=\"url(#clip280)\" d=\"M146.552 651.705 L164.908 651.705 L164.908 655.64 L150.834 655.64 L150.834 664.112 Q151.853 663.765 152.871 663.603 Q153.89 663.418 154.908 663.418 Q160.695 663.418 164.075 666.589 Q167.454 669.76 167.454 675.177 Q167.454 680.756 163.982 683.857 Q160.51 686.936 154.19 686.936 Q152.015 686.936 149.746 686.566 Q147.501 686.195 145.093 685.455 L145.093 680.756 Q147.177 681.89 149.399 682.445 Q151.621 683.001 154.098 683.001 Q158.103 683.001 160.44 680.894 Q162.778 678.788 162.778 675.177 Q162.778 671.566 160.44 669.459 Q158.103 667.353 154.098 667.353 Q152.223 667.353 150.348 667.77 Q148.496 668.186 146.552 669.066 L146.552 651.705 Z\" fill=\"#000000\" fill-rule=\"nonzero\" fill-opacity=\"1\" /><path clip-path=\"url(#clip280)\" d=\"M186.667 654.783 Q183.056 654.783 181.227 658.348 Q179.422 661.89 179.422 669.02 Q179.422 676.126 181.227 679.691 Q183.056 683.232 186.667 683.232 Q190.301 683.232 192.107 679.691 Q193.936 676.126 193.936 669.02 Q193.936 661.89 192.107 658.348 Q190.301 654.783 186.667 654.783 M186.667 651.08 Q192.477 651.08 195.533 655.686 Q198.612 660.27 198.612 669.02 Q198.612 677.746 195.533 682.353 Q192.477 686.936 186.667 686.936 Q180.857 686.936 177.778 682.353 Q174.723 677.746 174.723 669.02 Q174.723 660.27 177.778 655.686 Q180.857 651.08 186.667 651.08 Z\" fill=\"#000000\" fill-rule=\"nonzero\" fill-opacity=\"1\" /><path clip-path=\"url(#clip280)\" d=\"M116.482 420.639 L116.482 416.379 Q118.242 417.213 120.047 417.652 Q121.853 418.092 123.589 418.092 Q128.218 418.092 130.649 414.99 Q133.103 411.865 133.45 405.523 Q132.107 407.514 130.047 408.578 Q127.987 409.643 125.487 409.643 Q120.302 409.643 117.269 406.518 Q114.26 403.37 114.26 397.93 Q114.26 392.606 117.408 389.389 Q120.556 386.171 125.788 386.171 Q131.783 386.171 134.931 390.778 Q138.103 395.361 138.103 404.111 Q138.103 412.282 134.214 417.166 Q130.348 422.027 123.797 422.027 Q122.038 422.027 120.232 421.68 Q118.427 421.333 116.482 420.639 M125.788 405.986 Q128.936 405.986 130.765 403.833 Q132.617 401.68 132.617 397.93 Q132.617 394.203 130.765 392.051 Q128.936 389.875 125.788 389.875 Q122.64 389.875 120.788 392.051 Q118.959 394.203 118.959 397.93 Q118.959 401.68 120.788 403.833 Q122.64 405.986 125.788 405.986 Z\" fill=\"#000000\" fill-rule=\"nonzero\" fill-opacity=\"1\" /><path clip-path=\"url(#clip280)\" d=\"M156.505 389.875 Q152.894 389.875 151.066 393.44 Q149.26 396.981 149.26 404.111 Q149.26 411.217 151.066 414.782 Q152.894 418.324 156.505 418.324 Q160.14 418.324 161.945 414.782 Q163.774 411.217 163.774 404.111 Q163.774 396.981 161.945 393.44 Q160.14 389.875 156.505 389.875 M156.505 386.171 Q162.315 386.171 165.371 390.778 Q168.45 395.361 168.45 404.111 Q168.45 412.838 165.371 417.444 Q162.315 422.027 156.505 422.027 Q150.695 422.027 147.616 417.444 Q144.561 412.838 144.561 404.111 Q144.561 395.361 147.616 390.778 Q150.695 386.171 156.505 386.171 Z\" fill=\"#000000\" fill-rule=\"nonzero\" fill-opacity=\"1\" /><path clip-path=\"url(#clip280)\" d=\"M186.667 389.875 Q183.056 389.875 181.227 393.44 Q179.422 396.981 179.422 404.111 Q179.422 411.217 181.227 414.782 Q183.056 418.324 186.667 418.324 Q190.301 418.324 192.107 414.782 Q193.936 411.217 193.936 404.111 Q193.936 396.981 192.107 393.44 Q190.301 389.875 186.667 389.875 M186.667 386.171 Q192.477 386.171 195.533 390.778 Q198.612 395.361 198.612 404.111 Q198.612 412.838 195.533 417.444 Q192.477 422.027 186.667 422.027 Q180.857 422.027 177.778 417.444 Q174.723 412.838 174.723 404.111 Q174.723 395.361 177.778 390.778 Q180.857 386.171 186.667 386.171 Z\" fill=\"#000000\" fill-rule=\"nonzero\" fill-opacity=\"1\" /><path clip-path=\"url(#clip280)\" d=\"M116.482 155.73 L116.482 151.471 Q118.242 152.304 120.047 152.744 Q121.853 153.184 123.589 153.184 Q128.218 153.184 130.649 150.082 Q133.103 146.957 133.45 140.614 Q132.107 142.605 130.047 143.67 Q127.987 144.735 125.487 144.735 Q120.302 144.735 117.269 141.61 Q114.26 138.461 114.26 133.022 Q114.26 127.698 117.408 124.48 Q120.556 121.262 125.788 121.262 Q131.783 121.262 134.931 125.869 Q138.103 130.452 138.103 139.202 Q138.103 147.373 134.214 152.258 Q130.348 157.119 123.797 157.119 Q122.038 157.119 120.232 156.771 Q118.427 156.424 116.482 155.73 M125.788 141.077 Q128.936 141.077 130.765 138.924 Q132.617 136.772 132.617 133.022 Q132.617 129.295 130.765 127.142 Q128.936 124.966 125.788 124.966 Q122.64 124.966 120.788 127.142 Q118.959 129.295 118.959 133.022 Q118.959 136.772 120.788 138.924 Q122.64 141.077 125.788 141.077 Z\" fill=\"#000000\" fill-rule=\"nonzero\" fill-opacity=\"1\" /><path clip-path=\"url(#clip280)\" d=\"M146.552 121.887 L164.908 121.887 L164.908 125.823 L150.834 125.823 L150.834 134.295 Q151.853 133.948 152.871 133.785 Q153.89 133.6 154.908 133.6 Q160.695 133.6 164.075 136.772 Q167.454 139.943 167.454 145.36 Q167.454 150.938 163.982 154.04 Q160.51 157.119 154.19 157.119 Q152.015 157.119 149.746 156.748 Q147.501 156.378 145.093 155.637 L145.093 150.938 Q147.177 152.072 149.399 152.628 Q151.621 153.184 154.098 153.184 Q158.103 153.184 160.44 151.077 Q162.778 148.971 162.778 145.36 Q162.778 141.748 160.44 139.642 Q158.103 137.535 154.098 137.535 Q152.223 137.535 150.348 137.952 Q148.496 138.369 146.552 139.248 L146.552 121.887 Z\" fill=\"#000000\" fill-rule=\"nonzero\" fill-opacity=\"1\" /><path clip-path=\"url(#clip280)\" d=\"M186.667 124.966 Q183.056 124.966 181.227 128.531 Q179.422 132.073 179.422 139.202 Q179.422 146.309 181.227 149.873 Q183.056 153.415 186.667 153.415 Q190.301 153.415 192.107 149.873 Q193.936 146.309 193.936 139.202 Q193.936 132.073 192.107 128.531 Q190.301 124.966 186.667 124.966 M186.667 121.262 Q192.477 121.262 195.533 125.869 Q198.612 130.452 198.612 139.202 Q198.612 147.929 195.533 152.535 Q192.477 157.119 186.667 157.119 Q180.857 157.119 177.778 152.535 Q174.723 147.929 174.723 139.202 Q174.723 130.452 177.778 125.869 Q180.857 121.262 186.667 121.262 Z\" fill=\"#000000\" fill-rule=\"nonzero\" fill-opacity=\"1\" /><path clip-path=\"url(#clip280)\" d=\"M42.4881 1009.19 L64.0042 1009.19 L64.0042 1015.05 L42.679 1015.05 Q37.6183 1015.05 35.1038 1017.02 Q32.5894 1019 32.5894 1022.94 Q32.5894 1027.68 35.6131 1030.42 Q38.6368 1033.16 43.8567 1033.16 L64.0042 1033.16 L64.0042 1039.05 L28.3562 1039.05 L28.3562 1033.16 L33.8944 1033.16 Q30.6797 1031.06 29.0883 1028.23 Q27.4968 1025.36 27.4968 1021.64 Q27.4968 1015.49 31.3163 1012.34 Q35.1038 1009.19 42.4881 1009.19 Z\" fill=\"#000000\" fill-rule=\"nonzero\" fill-opacity=\"1\" /><path clip-path=\"url(#clip280)\" d=\"M49.9359 998.116 L28.3562 998.116 L28.3562 992.259 L49.7131 992.259 Q54.7739 992.259 57.3202 990.286 Q59.8346 988.312 59.8346 984.366 Q59.8346 979.623 56.8109 976.886 Q53.7872 974.117 48.5673 974.117 L28.3562 974.117 L28.3562 968.26 L64.0042 968.26 L64.0042 974.117 L58.5296 974.117 Q61.7762 976.249 63.3676 979.082 Q64.9272 981.883 64.9272 985.607 Q64.9272 991.75 61.1078 994.933 Q57.2883 998.116 49.9359 998.116 M27.4968 983.379 L27.4968 983.379 Z\" fill=\"#000000\" fill-rule=\"nonzero\" fill-opacity=\"1\" /><path clip-path=\"url(#clip280)\" d=\"M35.1993 928.443 Q31.2526 926.247 29.3747 923.191 Q27.4968 920.136 27.4968 915.998 Q27.4968 910.428 31.4117 907.404 Q35.2948 904.381 42.4881 904.381 L64.0042 904.381 L64.0042 910.269 L42.679 910.269 Q37.5546 910.269 35.072 912.083 Q32.5894 913.897 32.5894 917.621 Q32.5894 922.173 35.6131 924.815 Q38.6368 927.456 43.8567 927.456 L64.0042 927.456 L64.0042 933.345 L42.679 933.345 Q37.5228 933.345 35.072 935.159 Q32.5894 936.973 32.5894 940.761 Q32.5894 945.248 35.6449 947.89 Q38.6686 950.532 43.8567 950.532 L64.0042 950.532 L64.0042 956.42 L28.3562 956.42 L28.3562 950.532 L33.8944 950.532 Q30.616 948.527 29.0564 945.726 Q27.4968 942.925 27.4968 939.074 Q27.4968 935.191 29.4702 932.485 Q31.4436 929.748 35.1993 928.443 Z\" fill=\"#000000\" fill-rule=\"nonzero\" fill-opacity=\"1\" /><path clip-path=\"url(#clip280)\" d=\"M46.212 867.109 Q39.7508 867.109 36.0905 869.783 Q32.3984 872.425 32.3984 877.072 Q32.3984 881.719 36.0905 884.392 Q39.7508 887.034 46.212 887.034 Q52.6732 887.034 56.3653 884.392 Q60.0256 881.719 60.0256 877.072 Q60.0256 872.425 56.3653 869.783 Q52.6732 867.109 46.212 867.109 M33.7671 887.034 Q30.5842 885.188 29.0564 882.387 Q27.4968 879.554 27.4968 875.639 Q27.4968 869.146 32.6531 865.104 Q37.8093 861.03 46.212 861.03 Q54.6147 861.03 59.771 865.104 Q64.9272 869.146 64.9272 875.639 Q64.9272 879.554 63.3994 882.387 Q61.8398 885.188 58.657 887.034 L64.0042 887.034 L64.0042 892.922 L14.479 892.922 L14.479 887.034 L33.7671 887.034 Z\" fill=\"#000000\" fill-rule=\"nonzero\" fill-opacity=\"1\" /><path clip-path=\"url(#clip280)\" d=\"M44.7161 820.831 L47.5806 820.831 L47.5806 847.758 Q53.6281 847.376 56.8109 844.129 Q59.9619 840.851 59.9619 835.026 Q59.9619 831.652 59.1344 828.501 Q58.3069 825.319 56.6518 822.199 L62.1899 822.199 Q63.5267 825.35 64.227 828.661 Q64.9272 831.971 64.9272 835.376 Q64.9272 843.906 59.9619 848.903 Q54.9967 853.869 46.5303 853.869 Q37.7774 853.869 32.6531 849.158 Q27.4968 844.416 27.4968 836.395 Q27.4968 829.202 32.1438 825.032 Q36.7589 820.831 44.7161 820.831 M42.9973 826.687 Q38.1912 826.751 35.3266 829.393 Q32.4621 832.003 32.4621 836.331 Q32.4621 841.233 35.2312 844.193 Q38.0002 847.121 43.0292 847.567 L42.9973 826.687 Z\" fill=\"#000000\" fill-rule=\"nonzero\" fill-opacity=\"1\" /><path clip-path=\"url(#clip280)\" d=\"M33.8307 790.562 Q33.2578 791.548 33.0032 792.726 Q32.7167 793.872 32.7167 795.272 Q32.7167 800.238 35.9632 802.911 Q39.1779 805.553 45.2253 805.553 L64.0042 805.553 L64.0042 811.441 L28.3562 811.441 L28.3562 805.553 L33.8944 805.553 Q30.6479 803.707 29.0883 800.747 Q27.4968 797.787 27.4968 793.554 Q27.4968 792.949 27.5923 792.217 Q27.656 791.485 27.8151 790.594 L33.8307 790.562 Z\" fill=\"#000000\" fill-rule=\"nonzero\" fill-opacity=\"1\" /><path clip-path=\"url(#clip280)\" d=\"M32.4621 749.885 Q32.4621 754.596 36.1542 757.333 Q39.8145 760.07 46.212 760.07 Q52.6095 760.07 56.3017 757.365 Q59.9619 754.627 59.9619 749.885 Q59.9619 745.206 56.2698 742.469 Q52.5777 739.732 46.212 739.732 Q39.8781 739.732 36.186 742.469 Q32.4621 745.206 32.4621 749.885 M27.4968 749.885 Q27.4968 742.246 32.4621 737.886 Q37.4273 733.525 46.212 733.525 Q54.9649 733.525 59.9619 737.886 Q64.9272 742.246 64.9272 749.885 Q64.9272 757.556 59.9619 761.916 Q54.9649 766.245 46.212 766.245 Q37.4273 766.245 32.4621 761.916 Q27.4968 757.556 27.4968 749.885 Z\" fill=\"#000000\" fill-rule=\"nonzero\" fill-opacity=\"1\" /><path clip-path=\"url(#clip280)\" d=\"M14.479 705.771 L19.3487 705.771 L19.3487 711.372 Q19.3487 714.523 20.6219 715.765 Q21.895 716.974 25.2052 716.974 L28.3562 716.974 L28.3562 707.33 L32.9077 707.33 L32.9077 716.974 L64.0042 716.974 L64.0042 722.862 L32.9077 722.862 L32.9077 728.464 L28.3562 728.464 L28.3562 722.862 L25.8736 722.862 Q19.9216 722.862 17.2162 720.093 Q14.479 717.324 14.479 711.309 L14.479 705.771 Z\" fill=\"#000000\" fill-rule=\"nonzero\" fill-opacity=\"1\" /><path clip-path=\"url(#clip280)\" d=\"M58.657 674.483 L77.5631 674.483 L77.5631 680.371 L28.3562 680.371 L28.3562 674.483 L33.7671 674.483 Q30.5842 672.637 29.0564 669.836 Q27.4968 667.003 27.4968 663.089 Q27.4968 656.595 32.6531 652.553 Q37.8093 648.479 46.212 648.479 Q54.6147 648.479 59.771 652.553 Q64.9272 656.595 64.9272 663.089 Q64.9272 667.003 63.3994 669.836 Q61.8398 672.637 58.657 674.483 M46.212 654.558 Q39.7508 654.558 36.0905 657.232 Q32.3984 659.874 32.3984 664.521 Q32.3984 669.168 36.0905 671.841 Q39.7508 674.483 46.212 674.483 Q52.6732 674.483 56.3653 671.841 Q60.0256 669.168 60.0256 664.521 Q60.0256 659.874 56.3653 657.232 Q52.6732 654.558 46.212 654.558 Z\" fill=\"#000000\" fill-rule=\"nonzero\" fill-opacity=\"1\" /><path clip-path=\"url(#clip280)\" d=\"M46.0847 622.571 Q46.0847 629.669 47.7079 632.406 Q49.3312 635.143 53.2461 635.143 Q56.3653 635.143 58.2114 633.106 Q60.0256 631.037 60.0256 627.504 Q60.0256 622.634 56.5881 619.706 Q53.1188 616.746 47.3897 616.746 L46.0847 616.746 L46.0847 622.571 M43.6657 610.89 L64.0042 610.89 L64.0042 616.746 L58.5933 616.746 Q61.8398 618.751 63.3994 621.743 Q64.9272 624.735 64.9272 629.064 Q64.9272 634.538 61.8716 637.785 Q58.7843 641 53.6281 641 Q47.6125 641 44.5569 636.989 Q41.5014 632.947 41.5014 624.958 L41.5014 616.746 L40.9285 616.746 Q36.8862 616.746 34.6901 619.42 Q32.4621 622.062 32.4621 626.868 Q32.4621 629.923 33.1941 632.82 Q33.9262 635.716 35.3903 638.39 L29.9795 638.39 Q28.7381 635.175 28.1334 632.151 Q27.4968 629.127 27.4968 626.263 Q27.4968 618.529 31.5072 614.709 Q35.5176 610.89 43.6657 610.89 Z\" fill=\"#000000\" fill-rule=\"nonzero\" fill-opacity=\"1\" /><path clip-path=\"url(#clip280)\" d=\"M18.2347 593.034 L28.3562 593.034 L28.3562 580.971 L32.9077 580.971 L32.9077 593.034 L52.2594 593.034 Q56.6199 593.034 57.8613 591.856 Q59.1026 590.647 59.1026 586.986 L59.1026 580.971 L64.0042 580.971 L64.0042 586.986 Q64.0042 593.766 61.4897 596.344 Q58.9434 598.922 52.2594 598.922 L32.9077 598.922 L32.9077 603.219 L28.3562 603.219 L28.3562 598.922 L18.2347 598.922 L18.2347 593.034 Z\" fill=\"#000000\" fill-rule=\"nonzero\" fill-opacity=\"1\" /><path clip-path=\"url(#clip280)\" d=\"M29.7248 547.615 L35.1993 547.615 Q33.8307 550.097 33.1623 552.612 Q32.4621 555.094 32.4621 557.641 Q32.4621 563.338 36.0905 566.489 Q39.6872 569.64 46.212 569.64 Q52.7369 569.64 56.3653 566.489 Q59.9619 563.338 59.9619 557.641 Q59.9619 555.094 59.2935 552.612 Q58.5933 550.097 57.2247 547.615 L62.6355 547.615 Q63.7814 550.065 64.3543 552.707 Q64.9272 555.317 64.9272 558.277 Q64.9272 566.33 59.8664 571.072 Q54.8057 575.815 46.212 575.815 Q37.491 575.815 32.4939 571.04 Q27.4968 566.234 27.4968 557.895 Q27.4968 555.19 28.0697 552.612 Q28.6108 550.034 29.7248 547.615 Z\" fill=\"#000000\" fill-rule=\"nonzero\" fill-opacity=\"1\" /><path clip-path=\"url(#clip280)\" d=\"M42.4881 507.797 L64.0042 507.797 L64.0042 513.654 L42.679 513.654 Q37.6183 513.654 35.1038 515.627 Q32.5894 517.6 32.5894 521.547 Q32.5894 526.289 35.6131 529.027 Q38.6368 531.764 43.8567 531.764 L64.0042 531.764 L64.0042 537.652 L14.479 537.652 L14.479 531.764 L33.8944 531.764 Q30.6797 529.663 29.0883 526.831 Q27.4968 523.966 27.4968 520.242 Q27.4968 514.099 31.3163 510.948 Q35.1038 507.797 42.4881 507.797 Z\" fill=\"#000000\" fill-rule=\"nonzero\" fill-opacity=\"1\" /><path clip-path=\"url(#clip280)\" d=\"M44.7161 465.624 L47.5806 465.624 L47.5806 492.551 Q53.6281 492.169 56.8109 488.923 Q59.9619 485.644 59.9619 479.82 Q59.9619 476.446 59.1344 473.295 Q58.3069 470.112 56.6518 466.993 L62.1899 466.993 Q63.5267 470.144 64.227 473.454 Q64.9272 476.764 64.9272 480.17 Q64.9272 488.7 59.9619 493.697 Q54.9967 498.662 46.5303 498.662 Q37.7774 498.662 32.6531 493.952 Q27.4968 489.209 27.4968 481.188 Q27.4968 473.995 32.1438 469.826 Q36.7589 465.624 44.7161 465.624 M42.9973 471.481 Q38.1912 471.544 35.3266 474.186 Q32.4621 476.796 32.4621 481.125 Q32.4621 486.026 35.2312 488.986 Q38.0002 491.915 43.0292 492.36 L42.9973 471.481 Z\" fill=\"#000000\" fill-rule=\"nonzero\" fill-opacity=\"1\" /><path clip-path=\"url(#clip280)\" d=\"M29.4065 433.287 L34.9447 433.287 Q33.6716 435.769 33.035 438.443 Q32.3984 441.116 32.3984 443.981 Q32.3984 448.341 33.7352 450.538 Q35.072 452.702 37.7456 452.702 Q39.7826 452.702 40.9603 451.142 Q42.1061 449.583 43.1565 444.872 L43.6021 442.867 Q44.9389 436.628 47.3897 434.019 Q49.8086 431.377 54.1691 431.377 Q59.1344 431.377 62.0308 435.324 Q64.9272 439.238 64.9272 446.113 Q64.9272 448.978 64.3543 452.097 Q63.8132 455.185 62.6992 458.622 L56.6518 458.622 Q58.3387 455.376 59.198 452.224 Q60.0256 449.073 60.0256 445.986 Q60.0256 441.848 58.6251 439.62 Q57.1929 437.392 54.6147 437.392 Q52.2276 437.392 50.9545 439.016 Q49.6813 440.607 48.5037 446.05 L48.0262 448.087 Q46.8804 453.529 44.5251 455.948 Q42.138 458.367 38.0002 458.367 Q32.9713 458.367 30.2341 454.803 Q27.4968 451.238 27.4968 444.681 Q27.4968 441.435 27.9743 438.57 Q28.4517 435.705 29.4065 433.287 Z\" fill=\"#000000\" fill-rule=\"nonzero\" fill-opacity=\"1\" /><polyline clip-path=\"url(#clip282)\" style=\"stroke:#009af9; stroke-linecap:round; stroke-linejoin:round; stroke-width:4; stroke-opacity:1; fill:none\" points=\"294.559,356.393 299.555,340.498 304.55,287.516 309.546,223.938 314.542,234.535 319.537,255.727 324.533,250.429 329.528,271.622 334.524,261.025 339.52,223.938 344.515,197.447 349.511,186.851 354.507,160.36 359.502,144.466 364.498,117.975 369.493,123.273 374.489,117.975 379.485,107.378 384.48,123.273 389.476,117.975 394.472,96.782 399.467,91.4838 404.463,96.782 409.458,91.4838 414.454,102.08 419.45,96.782 424.445,107.378 429.441,107.378 434.436,107.378 439.432,107.378 444.428,107.378 449.423,96.782 454.419,96.782 459.415,86.1857 464.41,86.1857 469.406,91.4838 474.401,96.782 479.397,91.4838 484.393,102.08 489.388,102.08 494.384,102.08 499.38,102.08 504.375,102.08 509.371,102.08 514.366,102.08 519.362,102.08 524.358,107.378 529.353,107.378 534.349,107.378 539.345,107.378 544.34,107.378 549.336,107.378 554.331,107.378 559.327,107.378 564.323,107.378 569.318,107.378 574.314,107.378 579.31,107.378 584.305,107.378 589.301,107.378 594.296,107.378 599.292,107.378 604.288,107.378 609.283,107.378 614.279,107.378 619.275,107.378 624.27,107.378 629.266,107.378 634.261,107.378 639.257,107.378 644.253,107.378 649.248,107.378 654.244,107.378 659.24,107.378 664.235,107.378 669.231,107.378 674.226,107.378 679.222,107.378 684.218,107.378 689.213,107.378 694.209,107.378 699.205,107.378 704.2,107.378 709.196,107.378 714.191,107.378 719.187,107.378 724.183,107.378 729.178,107.378 734.174,107.378 739.17,107.378 744.165,107.378 749.161,107.378 754.156,107.378 759.152,107.378 764.148,107.378 769.143,107.378 774.139,107.378 779.135,107.378 784.13,107.378 789.126,107.378 794.121,107.378 799.117,107.378 804.113,107.378 809.108,107.378 814.104,107.378 819.1,107.378 824.095,107.378 829.091,107.378 834.086,107.378 839.082,107.378 844.078,107.378 849.073,107.378 854.069,107.378 859.064,107.378 864.06,107.378 869.056,107.378 874.051,107.378 879.047,107.378 884.043,107.378 889.038,107.378 894.034,107.378 899.029,107.378 904.025,107.378 909.021,107.378 914.016,107.378 919.012,107.378 924.008,107.378 929.003,107.378 933.999,107.378 938.994,107.378 943.99,107.378 948.986,107.378 953.981,107.378 958.977,107.378 963.973,107.378 968.968,107.378 973.964,107.378 978.959,107.378 983.955,107.378 988.951,107.378 993.946,107.378 998.942,107.378 1003.94,107.378 1008.93,107.378 1013.93,107.378 1018.92,107.378 1023.92,107.378 1028.92,107.378 1033.91,107.378 1038.91,107.378 1043.9,107.378 1048.9,107.378 1053.89,107.378 1058.89,107.378 1063.89,107.378 1068.88,107.378 1073.88,107.378 1078.87,107.378 1083.87,107.378 1088.86,107.378 1093.86,107.378 1098.85,107.378 1103.85,107.378 1108.85,107.378 1113.84,107.378 1118.84,107.378 1123.83,107.378 1128.83,107.378 1133.82,107.378 1138.82,107.378 1143.82,107.378 1148.81,107.378 1153.81,107.378 1158.8,107.378 1163.8,107.378 1168.79,107.378 1173.79,107.378 1178.78,107.378 1183.78,107.378 1188.78,107.378 1193.77,107.378 1198.77,107.378 1203.76,107.378 1208.76,107.378 1213.75,107.378 1218.75,107.378 1223.75,107.378 1228.74,107.378 1233.74,107.378 1238.73,107.378 1243.73,107.378 1248.72,107.378 1253.72,107.378 1258.71,107.378 1263.71,107.378 1268.71,107.378 1273.7,107.378 1278.7,107.378 1283.69,107.378 1288.69,107.378 1293.68,107.378 1298.68,107.378 1303.67,107.378 1308.67,107.378 1313.67,107.378 1318.66,107.378 1323.66,107.378 1328.65,107.378 1333.65,107.378 1338.64,107.378 1343.64,107.378 1348.64,107.378 1353.63,107.378 1358.63,107.378 1363.62,107.378 1368.62,107.378 1373.61,107.378 1378.61,107.378 1383.6,107.378 1388.6,107.378 1393.6,107.378 1398.59,107.378 1403.59,107.378 1408.58,107.378 1413.58,107.378 1418.57,107.378 1423.57,107.378 1428.57,107.378 1433.56,107.378 1438.56,107.378 1443.55,107.378 1448.55,107.378 1453.54,107.378 1458.54,107.378 1463.53,107.378 1468.53,107.378 1473.53,107.378 1478.52,107.378 1483.52,107.378 1488.51,107.378 1493.51,107.378 1498.5,107.378 1503.5,107.378 1508.5,107.378 1513.49,107.378 1518.49,107.378 1523.48,107.378 1528.48,107.378 1533.47,107.378 1538.47,107.378 1543.46,107.378 1548.46,107.378 1553.46,107.378 1558.45,107.378 1563.45,107.378 1568.44,107.378 1573.44,107.378 1578.43,107.378 1583.43,107.378 1588.43,107.378 1593.42,107.378 1598.42,107.378 1603.41,107.378 1608.41,107.378 1613.4,107.378 1618.4,107.378 1623.39,107.378 1628.39,107.378 1633.39,107.378 1638.38,107.378 1643.38,107.378 1648.37,107.378 1653.37,107.378 1658.36,107.378 1663.36,107.378 1668.36,107.378 1673.35,107.378 1678.35,107.378 1683.34,107.378 1688.34,107.378 1693.33,107.378 1698.33,107.378 1703.32,107.378 1708.32,107.378 1713.32,107.378 1718.31,107.378 1723.31,107.378 1728.3,107.378 1733.3,107.378 1738.29,107.378 1743.29,107.378 1748.29,107.378 1753.28,107.378 1758.28,107.378 1763.27,107.378 1768.27,107.378 1773.26,107.378 1778.26,107.378 1783.25,107.378 1788.25,107.378 1793.25,107.378 1798.24,107.378 1803.24,107.378 1808.23,107.378 1813.23,107.378 1818.22,107.378 1823.22,107.378 1828.22,107.378 1833.21,107.378 1838.21,107.378 1843.2,107.378 1848.2,107.378 1853.19,107.378 1858.19,107.378 1863.18,107.378 1868.18,107.378 1873.18,107.378 1878.17,107.378 1883.17,107.378 1888.16,107.378 1893.16,107.378 1898.15,107.378 1903.15,107.378 1908.15,107.378 1913.14,107.378 1918.14,107.378 1923.13,107.378 1928.13,107.378 1933.12,107.378 1938.12,107.378 1943.11,107.378 1948.11,107.378 1953.11,107.378 1958.1,107.378 1963.1,107.378 1968.09,107.378 1973.09,107.378 1978.08,107.378 1983.08,107.378 1988.08,107.378 1993.07,107.378 1998.07,107.378 2003.06,107.378 2008.06,107.378 2013.05,107.378 2018.05,107.378 2023.04,107.378 2028.04,107.378 2033.04,107.378 2038.03,107.378 2043.03,107.378 2048.02,107.378 2053.02,107.378 2058.01,107.378 2063.01,107.378 2068.01,107.378 2073,107.378 2078,107.378 2082.99,107.378 2087.99,107.378 2092.98,107.378 2097.98,107.378 2102.97,107.378 2107.97,107.378 2112.97,107.378 2117.96,107.378 2122.96,107.378 2127.95,107.378 2132.95,107.378 2137.94,107.378 2142.94,107.378 2147.94,107.378 2152.93,107.378 2157.93,107.378 2162.92,107.378 2167.92,107.378 2172.91,107.378 2177.91,107.378 2182.9,107.378 2187.9,107.378 2192.9,107.378 2197.89,107.378 2202.89,107.378 2207.88,107.378 2212.88,107.378 2217.87,107.378 2222.87,107.378 2227.87,107.378 2232.86,107.378 2237.86,107.378 2242.85,107.378 2247.85,107.378 2252.84,107.378 2257.84,107.378 2262.83,107.378 2267.83,107.378 2272.83,107.378 2277.82,107.378 2282.82,107.378 2287.81,107.378 2292.81,107.378 \"/>\n",
       "<polyline clip-path=\"url(#clip282)\" style=\"stroke:#e26f46; stroke-linecap:round; stroke-linejoin:round; stroke-width:4; stroke-opacity:1; fill:none\" points=\"294.559,907.403 299.555,955.086 304.55,1034.56 309.546,1103.44 314.542,1129.93 319.537,1161.71 324.533,1188.21 329.528,1204.1 334.524,1225.29 339.52,1267.68 344.515,1299.47 349.511,1320.66 354.507,1310.06 359.502,1299.47 364.498,1320.66 369.493,1315.36 374.489,1304.77 379.485,1325.96 384.48,1325.96 389.476,1331.26 394.472,1341.85 399.467,1347.15 404.463,1352.45 409.458,1352.45 414.454,1357.75 419.45,1368.34 424.445,1368.34 429.441,1368.34 434.436,1373.64 439.432,1363.05 444.428,1368.34 449.423,1378.94 454.419,1378.94 459.415,1384.24 464.41,1378.94 469.406,1378.94 474.401,1378.94 479.397,1384.24 484.393,1384.24 489.388,1384.24 494.384,1384.24 499.38,1384.24 504.375,1384.24 509.371,1384.24 514.366,1384.24 519.362,1384.24 524.358,1384.24 529.353,1384.24 534.349,1384.24 539.345,1384.24 544.34,1384.24 549.336,1384.24 554.331,1384.24 559.327,1384.24 564.323,1384.24 569.318,1384.24 574.314,1384.24 579.31,1384.24 584.305,1384.24 589.301,1384.24 594.296,1384.24 599.292,1384.24 604.288,1384.24 609.283,1384.24 614.279,1384.24 619.275,1384.24 624.27,1384.24 629.266,1384.24 634.261,1384.24 639.257,1384.24 644.253,1384.24 649.248,1384.24 654.244,1384.24 659.24,1384.24 664.235,1384.24 669.231,1384.24 674.226,1384.24 679.222,1384.24 684.218,1384.24 689.213,1384.24 694.209,1384.24 699.205,1384.24 704.2,1384.24 709.196,1384.24 714.191,1384.24 719.187,1384.24 724.183,1384.24 729.178,1384.24 734.174,1384.24 739.17,1384.24 744.165,1384.24 749.161,1384.24 754.156,1384.24 759.152,1384.24 764.148,1384.24 769.143,1384.24 774.139,1384.24 779.135,1384.24 784.13,1384.24 789.126,1384.24 794.121,1384.24 799.117,1384.24 804.113,1384.24 809.108,1384.24 814.104,1384.24 819.1,1384.24 824.095,1384.24 829.091,1384.24 834.086,1384.24 839.082,1384.24 844.078,1384.24 849.073,1384.24 854.069,1384.24 859.064,1384.24 864.06,1384.24 869.056,1384.24 874.051,1384.24 879.047,1384.24 884.043,1384.24 889.038,1384.24 894.034,1384.24 899.029,1384.24 904.025,1384.24 909.021,1384.24 914.016,1384.24 919.012,1384.24 924.008,1384.24 929.003,1384.24 933.999,1384.24 938.994,1384.24 943.99,1384.24 948.986,1384.24 953.981,1384.24 958.977,1384.24 963.973,1384.24 968.968,1384.24 973.964,1384.24 978.959,1384.24 983.955,1384.24 988.951,1384.24 993.946,1384.24 998.942,1384.24 1003.94,1384.24 1008.93,1384.24 1013.93,1384.24 1018.92,1384.24 1023.92,1384.24 1028.92,1384.24 1033.91,1384.24 1038.91,1384.24 1043.9,1384.24 1048.9,1384.24 1053.89,1384.24 1058.89,1384.24 1063.89,1384.24 1068.88,1384.24 1073.88,1384.24 1078.87,1384.24 1083.87,1384.24 1088.86,1384.24 1093.86,1384.24 1098.85,1384.24 1103.85,1384.24 1108.85,1384.24 1113.84,1384.24 1118.84,1384.24 1123.83,1384.24 1128.83,1384.24 1133.82,1384.24 1138.82,1384.24 1143.82,1384.24 1148.81,1384.24 1153.81,1384.24 1158.8,1384.24 1163.8,1384.24 1168.79,1384.24 1173.79,1384.24 1178.78,1384.24 1183.78,1384.24 1188.78,1384.24 1193.77,1384.24 1198.77,1384.24 1203.76,1384.24 1208.76,1384.24 1213.75,1384.24 1218.75,1384.24 1223.75,1384.24 1228.74,1384.24 1233.74,1384.24 1238.73,1384.24 1243.73,1384.24 1248.72,1384.24 1253.72,1384.24 1258.71,1384.24 1263.71,1384.24 1268.71,1384.24 1273.7,1384.24 1278.7,1384.24 1283.69,1384.24 1288.69,1384.24 1293.68,1384.24 1298.68,1384.24 1303.67,1384.24 1308.67,1384.24 1313.67,1384.24 1318.66,1384.24 1323.66,1384.24 1328.65,1384.24 1333.65,1384.24 1338.64,1384.24 1343.64,1384.24 1348.64,1384.24 1353.63,1384.24 1358.63,1384.24 1363.62,1384.24 1368.62,1384.24 1373.61,1384.24 1378.61,1384.24 1383.6,1384.24 1388.6,1384.24 1393.6,1384.24 1398.59,1384.24 1403.59,1384.24 1408.58,1384.24 1413.58,1384.24 1418.57,1384.24 1423.57,1384.24 1428.57,1384.24 1433.56,1384.24 1438.56,1384.24 1443.55,1384.24 1448.55,1384.24 1453.54,1384.24 1458.54,1384.24 1463.53,1384.24 1468.53,1384.24 1473.53,1384.24 1478.52,1384.24 1483.52,1384.24 1488.51,1384.24 1493.51,1384.24 1498.5,1384.24 1503.5,1384.24 1508.5,1384.24 1513.49,1384.24 1518.49,1384.24 1523.48,1384.24 1528.48,1384.24 1533.47,1384.24 1538.47,1384.24 1543.46,1384.24 1548.46,1384.24 1553.46,1384.24 1558.45,1384.24 1563.45,1384.24 1568.44,1384.24 1573.44,1384.24 1578.43,1384.24 1583.43,1384.24 1588.43,1384.24 1593.42,1384.24 1598.42,1384.24 1603.41,1384.24 1608.41,1384.24 1613.4,1384.24 1618.4,1384.24 1623.39,1384.24 1628.39,1384.24 1633.39,1384.24 1638.38,1384.24 1643.38,1384.24 1648.37,1384.24 1653.37,1384.24 1658.36,1384.24 1663.36,1384.24 1668.36,1384.24 1673.35,1384.24 1678.35,1384.24 1683.34,1384.24 1688.34,1384.24 1693.33,1384.24 1698.33,1384.24 1703.32,1384.24 1708.32,1384.24 1713.32,1384.24 1718.31,1384.24 1723.31,1384.24 1728.3,1384.24 1733.3,1384.24 1738.29,1384.24 1743.29,1384.24 1748.29,1384.24 1753.28,1384.24 1758.28,1384.24 1763.27,1384.24 1768.27,1384.24 1773.26,1384.24 1778.26,1384.24 1783.25,1384.24 1788.25,1384.24 1793.25,1384.24 1798.24,1384.24 1803.24,1384.24 1808.23,1384.24 1813.23,1384.24 1818.22,1384.24 1823.22,1384.24 1828.22,1384.24 1833.21,1384.24 1838.21,1384.24 1843.2,1384.24 1848.2,1384.24 1853.19,1384.24 1858.19,1384.24 1863.18,1384.24 1868.18,1384.24 1873.18,1384.24 1878.17,1384.24 1883.17,1384.24 1888.16,1384.24 1893.16,1384.24 1898.15,1384.24 1903.15,1384.24 1908.15,1384.24 1913.14,1384.24 1918.14,1384.24 1923.13,1384.24 1928.13,1384.24 1933.12,1384.24 1938.12,1384.24 1943.11,1384.24 1948.11,1384.24 1953.11,1384.24 1958.1,1384.24 1963.1,1384.24 1968.09,1384.24 1973.09,1384.24 1978.08,1384.24 1983.08,1384.24 1988.08,1384.24 1993.07,1384.24 1998.07,1384.24 2003.06,1384.24 2008.06,1384.24 2013.05,1384.24 2018.05,1384.24 2023.04,1384.24 2028.04,1384.24 2033.04,1384.24 2038.03,1384.24 2043.03,1384.24 2048.02,1384.24 2053.02,1384.24 2058.01,1384.24 2063.01,1384.24 2068.01,1384.24 2073,1384.24 2078,1384.24 2082.99,1384.24 2087.99,1384.24 2092.98,1384.24 2097.98,1384.24 2102.97,1384.24 2107.97,1384.24 2112.97,1384.24 2117.96,1384.24 2122.96,1384.24 2127.95,1384.24 2132.95,1384.24 2137.94,1384.24 2142.94,1384.24 2147.94,1384.24 2152.93,1384.24 2157.93,1384.24 2162.92,1384.24 2167.92,1384.24 2172.91,1384.24 2177.91,1384.24 2182.9,1384.24 2187.9,1384.24 2192.9,1384.24 2197.89,1384.24 2202.89,1384.24 2207.88,1384.24 2212.88,1384.24 2217.87,1384.24 2222.87,1384.24 2227.87,1384.24 2232.86,1384.24 2237.86,1384.24 2242.85,1384.24 2247.85,1384.24 2252.84,1384.24 2257.84,1384.24 2262.83,1384.24 2267.83,1384.24 2272.83,1384.24 2277.82,1384.24 2282.82,1384.24 2287.81,1384.24 2292.81,1384.24 \"/>\n",
       "<polyline clip-path=\"url(#clip282)\" style=\"stroke:#3da44d; stroke-linecap:round; stroke-linejoin:round; stroke-width:4; stroke-opacity:1; fill:none\" points=\"294.559,1008.07 299.555,976.279 304.55,949.788 309.546,944.49 314.542,907.403 319.537,854.421 324.533,833.228 329.528,796.141 334.524,785.545 339.52,780.246 344.515,774.948 349.511,764.352 354.507,801.439 359.502,827.93 364.498,833.228 369.493,833.228 374.489,849.123 379.485,838.526 384.48,822.632 389.476,822.632 394.472,833.228 399.467,833.228 404.463,822.632 409.458,827.93 414.454,812.035 419.45,806.737 424.445,796.141 429.441,796.141 434.436,790.843 439.432,801.439 444.428,796.141 449.423,796.141 454.419,796.141 459.415,801.439 464.41,806.737 469.406,801.439 474.401,796.141 479.397,796.141 484.393,785.545 489.388,785.545 494.384,785.545 499.38,785.545 504.375,785.545 509.371,785.545 514.366,785.545 519.362,785.545 524.358,780.246 529.353,780.246 534.349,780.246 539.345,780.246 544.34,780.246 549.336,780.246 554.331,780.246 559.327,780.246 564.323,780.246 569.318,780.246 574.314,780.246 579.31,780.246 584.305,780.246 589.301,780.246 594.296,780.246 599.292,780.246 604.288,780.246 609.283,780.246 614.279,780.246 619.275,780.246 624.27,780.246 629.266,780.246 634.261,780.246 639.257,780.246 644.253,780.246 649.248,780.246 654.244,780.246 659.24,780.246 664.235,780.246 669.231,780.246 674.226,780.246 679.222,780.246 684.218,780.246 689.213,780.246 694.209,780.246 699.205,780.246 704.2,780.246 709.196,780.246 714.191,780.246 719.187,780.246 724.183,780.246 729.178,780.246 734.174,780.246 739.17,780.246 744.165,780.246 749.161,780.246 754.156,780.246 759.152,780.246 764.148,780.246 769.143,780.246 774.139,780.246 779.135,780.246 784.13,780.246 789.126,780.246 794.121,780.246 799.117,780.246 804.113,780.246 809.108,780.246 814.104,780.246 819.1,780.246 824.095,780.246 829.091,780.246 834.086,780.246 839.082,780.246 844.078,780.246 849.073,780.246 854.069,780.246 859.064,780.246 864.06,780.246 869.056,780.246 874.051,780.246 879.047,780.246 884.043,780.246 889.038,780.246 894.034,780.246 899.029,780.246 904.025,780.246 909.021,780.246 914.016,780.246 919.012,780.246 924.008,780.246 929.003,780.246 933.999,780.246 938.994,780.246 943.99,780.246 948.986,780.246 953.981,780.246 958.977,780.246 963.973,780.246 968.968,780.246 973.964,780.246 978.959,780.246 983.955,780.246 988.951,780.246 993.946,780.246 998.942,780.246 1003.94,780.246 1008.93,780.246 1013.93,780.246 1018.92,780.246 1023.92,780.246 1028.92,780.246 1033.91,780.246 1038.91,780.246 1043.9,780.246 1048.9,780.246 1053.89,780.246 1058.89,780.246 1063.89,780.246 1068.88,780.246 1073.88,780.246 1078.87,780.246 1083.87,780.246 1088.86,780.246 1093.86,780.246 1098.85,780.246 1103.85,780.246 1108.85,780.246 1113.84,780.246 1118.84,780.246 1123.83,780.246 1128.83,780.246 1133.82,780.246 1138.82,780.246 1143.82,780.246 1148.81,780.246 1153.81,780.246 1158.8,780.246 1163.8,780.246 1168.79,780.246 1173.79,780.246 1178.78,780.246 1183.78,780.246 1188.78,780.246 1193.77,780.246 1198.77,780.246 1203.76,780.246 1208.76,780.246 1213.75,780.246 1218.75,780.246 1223.75,780.246 1228.74,780.246 1233.74,780.246 1238.73,780.246 1243.73,780.246 1248.72,780.246 1253.72,780.246 1258.71,780.246 1263.71,780.246 1268.71,780.246 1273.7,780.246 1278.7,780.246 1283.69,780.246 1288.69,780.246 1293.68,780.246 1298.68,780.246 1303.67,780.246 1308.67,780.246 1313.67,780.246 1318.66,780.246 1323.66,780.246 1328.65,780.246 1333.65,780.246 1338.64,780.246 1343.64,780.246 1348.64,780.246 1353.63,780.246 1358.63,780.246 1363.62,780.246 1368.62,780.246 1373.61,780.246 1378.61,780.246 1383.6,780.246 1388.6,780.246 1393.6,780.246 1398.59,780.246 1403.59,780.246 1408.58,780.246 1413.58,780.246 1418.57,780.246 1423.57,780.246 1428.57,780.246 1433.56,780.246 1438.56,780.246 1443.55,780.246 1448.55,780.246 1453.54,780.246 1458.54,780.246 1463.53,780.246 1468.53,780.246 1473.53,780.246 1478.52,780.246 1483.52,780.246 1488.51,780.246 1493.51,780.246 1498.5,780.246 1503.5,780.246 1508.5,780.246 1513.49,780.246 1518.49,780.246 1523.48,780.246 1528.48,780.246 1533.47,780.246 1538.47,780.246 1543.46,780.246 1548.46,780.246 1553.46,780.246 1558.45,780.246 1563.45,780.246 1568.44,780.246 1573.44,780.246 1578.43,780.246 1583.43,780.246 1588.43,780.246 1593.42,780.246 1598.42,780.246 1603.41,780.246 1608.41,780.246 1613.4,780.246 1618.4,780.246 1623.39,780.246 1628.39,780.246 1633.39,780.246 1638.38,780.246 1643.38,780.246 1648.37,780.246 1653.37,780.246 1658.36,780.246 1663.36,780.246 1668.36,780.246 1673.35,780.246 1678.35,780.246 1683.34,780.246 1688.34,780.246 1693.33,780.246 1698.33,780.246 1703.32,780.246 1708.32,780.246 1713.32,780.246 1718.31,780.246 1723.31,780.246 1728.3,780.246 1733.3,780.246 1738.29,780.246 1743.29,780.246 1748.29,780.246 1753.28,780.246 1758.28,780.246 1763.27,780.246 1768.27,780.246 1773.26,780.246 1778.26,780.246 1783.25,780.246 1788.25,780.246 1793.25,780.246 1798.24,780.246 1803.24,780.246 1808.23,780.246 1813.23,780.246 1818.22,780.246 1823.22,780.246 1828.22,780.246 1833.21,780.246 1838.21,780.246 1843.2,780.246 1848.2,780.246 1853.19,780.246 1858.19,780.246 1863.18,780.246 1868.18,780.246 1873.18,780.246 1878.17,780.246 1883.17,780.246 1888.16,780.246 1893.16,780.246 1898.15,780.246 1903.15,780.246 1908.15,780.246 1913.14,780.246 1918.14,780.246 1923.13,780.246 1928.13,780.246 1933.12,780.246 1938.12,780.246 1943.11,780.246 1948.11,780.246 1953.11,780.246 1958.1,780.246 1963.1,780.246 1968.09,780.246 1973.09,780.246 1978.08,780.246 1983.08,780.246 1988.08,780.246 1993.07,780.246 1998.07,780.246 2003.06,780.246 2008.06,780.246 2013.05,780.246 2018.05,780.246 2023.04,780.246 2028.04,780.246 2033.04,780.246 2038.03,780.246 2043.03,780.246 2048.02,780.246 2053.02,780.246 2058.01,780.246 2063.01,780.246 2068.01,780.246 2073,780.246 2078,780.246 2082.99,780.246 2087.99,780.246 2092.98,780.246 2097.98,780.246 2102.97,780.246 2107.97,780.246 2112.97,780.246 2117.96,780.246 2122.96,780.246 2127.95,780.246 2132.95,780.246 2137.94,780.246 2142.94,780.246 2147.94,780.246 2152.93,780.246 2157.93,780.246 2162.92,780.246 2167.92,780.246 2172.91,780.246 2177.91,780.246 2182.9,780.246 2187.9,780.246 2192.9,780.246 2197.89,780.246 2202.89,780.246 2207.88,780.246 2212.88,780.246 2217.87,780.246 2222.87,780.246 2227.87,780.246 2232.86,780.246 2237.86,780.246 2242.85,780.246 2247.85,780.246 2252.84,780.246 2257.84,780.246 2262.83,780.246 2267.83,780.246 2272.83,780.246 2277.82,780.246 2282.82,780.246 2287.81,780.246 2292.81,780.246 \"/>\n",
       "<path clip-path=\"url(#clip280)\" d=\"M1911.08 300.469 L2282.15 300.469 L2282.15 93.1086 L1911.08 93.1086  Z\" fill=\"#ffffff\" fill-rule=\"evenodd\" fill-opacity=\"1\"/>\n",
       "<polyline clip-path=\"url(#clip280)\" style=\"stroke:#000000; stroke-linecap:round; stroke-linejoin:round; stroke-width:4; stroke-opacity:1; fill:none\" points=\"1911.08,300.469 2282.15,300.469 2282.15,93.1086 1911.08,93.1086 1911.08,300.469 \"/>\n",
       "<polyline clip-path=\"url(#clip280)\" style=\"stroke:#009af9; stroke-linecap:round; stroke-linejoin:round; stroke-width:4; stroke-opacity:1; fill:none\" points=\"1934.61,144.949 2075.82,144.949 \"/>\n",
       "<path clip-path=\"url(#clip280)\" d=\"M2103.64 158.34 L2103.64 172.09 L2099.36 172.09 L2099.36 136.303 L2103.64 136.303 L2103.64 140.238 Q2104.98 137.923 2107.02 136.812 Q2109.08 135.678 2111.93 135.678 Q2116.65 135.678 2119.59 139.428 Q2122.55 143.178 2122.55 149.289 Q2122.55 155.4 2119.59 159.15 Q2116.65 162.9 2111.93 162.9 Q2109.08 162.9 2107.02 161.789 Q2104.98 160.655 2103.64 158.34 M2118.13 149.289 Q2118.13 144.59 2116.19 141.928 Q2114.27 139.243 2110.89 139.243 Q2107.51 139.243 2105.56 141.928 Q2103.64 144.59 2103.64 149.289 Q2103.64 153.988 2105.56 156.673 Q2107.51 159.335 2110.89 159.335 Q2114.27 159.335 2116.19 156.673 Q2118.13 153.988 2118.13 149.289 Z\" fill=\"#000000\" fill-rule=\"nonzero\" fill-opacity=\"1\" /><path clip-path=\"url(#clip280)\" d=\"M2141.39 149.196 Q2136.23 149.196 2134.24 150.377 Q2132.25 151.557 2132.25 154.405 Q2132.25 156.673 2133.73 158.016 Q2135.24 159.335 2137.81 159.335 Q2141.35 159.335 2143.48 156.835 Q2145.63 154.312 2145.63 150.145 L2145.63 149.196 L2141.39 149.196 M2149.89 147.437 L2149.89 162.229 L2145.63 162.229 L2145.63 158.293 Q2144.17 160.655 2142 161.789 Q2139.82 162.9 2136.67 162.9 Q2132.69 162.9 2130.33 160.678 Q2127.99 158.432 2127.99 154.682 Q2127.99 150.307 2130.91 148.085 Q2133.85 145.863 2139.66 145.863 L2145.63 145.863 L2145.63 145.446 Q2145.63 142.507 2143.69 140.909 Q2141.76 139.289 2138.27 139.289 Q2136.05 139.289 2133.94 139.821 Q2131.83 140.354 2129.89 141.419 L2129.89 137.483 Q2132.23 136.581 2134.43 136.141 Q2136.63 135.678 2138.71 135.678 Q2144.33 135.678 2147.11 138.594 Q2149.89 141.511 2149.89 147.437 Z\" fill=\"#000000\" fill-rule=\"nonzero\" fill-opacity=\"1\" /><path clip-path=\"url(#clip280)\" d=\"M2162.78 158.34 L2162.78 172.09 L2158.5 172.09 L2158.5 136.303 L2162.78 136.303 L2162.78 140.238 Q2164.13 137.923 2166.16 136.812 Q2168.22 135.678 2171.07 135.678 Q2175.79 135.678 2178.73 139.428 Q2181.7 143.178 2181.7 149.289 Q2181.7 155.4 2178.73 159.15 Q2175.79 162.9 2171.07 162.9 Q2168.22 162.9 2166.16 161.789 Q2164.13 160.655 2162.78 158.34 M2177.27 149.289 Q2177.27 144.59 2175.33 141.928 Q2173.41 139.243 2170.03 139.243 Q2166.65 139.243 2164.7 141.928 Q2162.78 144.59 2162.78 149.289 Q2162.78 153.988 2164.7 156.673 Q2166.65 159.335 2170.03 159.335 Q2173.41 159.335 2175.33 156.673 Q2177.27 153.988 2177.27 149.289 Z\" fill=\"#000000\" fill-rule=\"nonzero\" fill-opacity=\"1\" /><path clip-path=\"url(#clip280)\" d=\"M2210.93 148.201 L2210.93 150.284 L2191.35 150.284 Q2191.63 154.682 2193.99 156.997 Q2196.37 159.289 2200.61 159.289 Q2203.06 159.289 2205.35 158.687 Q2207.67 158.085 2209.94 156.881 L2209.94 160.909 Q2207.64 161.881 2205.24 162.391 Q2202.83 162.9 2200.35 162.9 Q2194.15 162.9 2190.51 159.289 Q2186.9 155.678 2186.9 149.52 Q2186.9 143.155 2190.33 139.428 Q2193.78 135.678 2199.61 135.678 Q2204.84 135.678 2207.88 139.057 Q2210.93 142.414 2210.93 148.201 M2206.67 146.951 Q2206.63 143.456 2204.7 141.372 Q2202.81 139.289 2199.66 139.289 Q2196.09 139.289 2193.94 141.303 Q2191.81 143.317 2191.49 146.974 L2206.67 146.951 Z\" fill=\"#000000\" fill-rule=\"nonzero\" fill-opacity=\"1\" /><path clip-path=\"url(#clip280)\" d=\"M2232.94 140.284 Q2232.23 139.868 2231.37 139.682 Q2230.54 139.474 2229.52 139.474 Q2225.91 139.474 2223.96 141.835 Q2222.04 144.173 2222.04 148.571 L2222.04 162.229 L2217.76 162.229 L2217.76 136.303 L2222.04 136.303 L2222.04 140.331 Q2223.38 137.969 2225.54 136.835 Q2227.69 135.678 2230.77 135.678 Q2231.21 135.678 2231.74 135.747 Q2232.27 135.794 2232.92 135.909 L2232.94 140.284 Z\" fill=\"#000000\" fill-rule=\"nonzero\" fill-opacity=\"1\" /><polyline clip-path=\"url(#clip280)\" style=\"stroke:#e26f46; stroke-linecap:round; stroke-linejoin:round; stroke-width:4; stroke-opacity:1; fill:none\" points=\"1934.61,196.789 2075.82,196.789 \"/>\n",
       "<path clip-path=\"url(#clip280)\" d=\"M2114.54 192.124 Q2113.83 191.708 2112.97 191.522 Q2112.14 191.314 2111.12 191.314 Q2107.51 191.314 2105.56 193.675 Q2103.64 196.013 2103.64 200.411 L2103.64 214.069 L2099.36 214.069 L2099.36 188.143 L2103.64 188.143 L2103.64 192.171 Q2104.98 189.809 2107.14 188.675 Q2109.29 187.518 2112.37 187.518 Q2112.81 187.518 2113.34 187.587 Q2113.87 187.634 2114.52 187.749 L2114.54 192.124 Z\" fill=\"#000000\" fill-rule=\"nonzero\" fill-opacity=\"1\" /><path clip-path=\"url(#clip280)\" d=\"M2128.02 191.129 Q2124.59 191.129 2122.6 193.814 Q2120.61 196.476 2120.61 201.129 Q2120.61 205.782 2122.58 208.467 Q2124.57 211.129 2128.02 211.129 Q2131.42 211.129 2133.41 208.444 Q2135.4 205.758 2135.4 201.129 Q2135.4 196.522 2133.41 193.837 Q2131.42 191.129 2128.02 191.129 M2128.02 187.518 Q2133.57 187.518 2136.74 191.129 Q2139.91 194.74 2139.91 201.129 Q2139.91 207.495 2136.74 211.129 Q2133.57 214.74 2128.02 214.74 Q2122.44 214.74 2119.27 211.129 Q2116.12 207.495 2116.12 201.129 Q2116.12 194.74 2119.27 191.129 Q2122.44 187.518 2128.02 187.518 Z\" fill=\"#000000\" fill-rule=\"nonzero\" fill-opacity=\"1\" /><path clip-path=\"url(#clip280)\" d=\"M2165.63 189.138 L2165.63 193.12 Q2163.82 192.124 2162 191.638 Q2160.19 191.129 2158.34 191.129 Q2154.2 191.129 2151.9 193.768 Q2149.61 196.384 2149.61 201.129 Q2149.61 205.874 2151.9 208.513 Q2154.2 211.129 2158.34 211.129 Q2160.19 211.129 2162 210.643 Q2163.82 210.133 2165.63 209.138 L2165.63 213.073 Q2163.85 213.907 2161.93 214.323 Q2160.03 214.74 2157.88 214.74 Q2152.02 214.74 2148.57 211.059 Q2145.12 207.379 2145.12 201.129 Q2145.12 194.786 2148.59 191.152 Q2152.09 187.518 2158.15 187.518 Q2160.12 187.518 2162 187.935 Q2163.87 188.328 2165.63 189.138 Z\" fill=\"#000000\" fill-rule=\"nonzero\" fill-opacity=\"1\" /><path clip-path=\"url(#clip280)\" d=\"M2172.88 178.05 L2177.16 178.05 L2177.16 199.323 L2189.87 188.143 L2195.31 188.143 L2181.56 200.272 L2195.89 214.069 L2190.33 214.069 L2177.16 201.407 L2177.16 214.069 L2172.88 214.069 L2172.88 178.05 Z\" fill=\"#000000\" fill-rule=\"nonzero\" fill-opacity=\"1\" /><polyline clip-path=\"url(#clip280)\" style=\"stroke:#3da44d; stroke-linecap:round; stroke-linejoin:round; stroke-width:4; stroke-opacity:1; fill:none\" points=\"1934.61,248.629 2075.82,248.629 \"/>\n",
       "<path clip-path=\"url(#clip280)\" d=\"M2117.78 240.747 L2117.78 244.774 Q2115.98 243.849 2114.03 243.386 Q2112.09 242.923 2110.01 242.923 Q2106.83 242.923 2105.24 243.895 Q2103.66 244.867 2103.66 246.811 Q2103.66 248.293 2104.8 249.149 Q2105.93 249.983 2109.36 250.747 L2110.82 251.071 Q2115.35 252.043 2117.25 253.825 Q2119.17 255.585 2119.17 258.756 Q2119.17 262.367 2116.3 264.473 Q2113.45 266.58 2108.45 266.58 Q2106.37 266.58 2104.1 266.163 Q2101.86 265.77 2099.36 264.96 L2099.36 260.561 Q2101.72 261.788 2104.01 262.413 Q2106.3 263.015 2108.55 263.015 Q2111.56 263.015 2113.18 261.997 Q2114.8 260.955 2114.8 259.08 Q2114.8 257.344 2113.62 256.418 Q2112.46 255.492 2108.5 254.636 L2107.02 254.288 Q2103.06 253.455 2101.3 251.742 Q2099.54 250.006 2099.54 246.997 Q2099.54 243.339 2102.14 241.349 Q2104.73 239.358 2109.5 239.358 Q2111.86 239.358 2113.94 239.705 Q2116.02 240.052 2117.78 240.747 Z\" fill=\"#000000\" fill-rule=\"nonzero\" fill-opacity=\"1\" /><path clip-path=\"url(#clip280)\" d=\"M2144.61 240.978 L2144.61 244.96 Q2142.81 243.964 2140.98 243.478 Q2139.17 242.969 2137.32 242.969 Q2133.18 242.969 2130.89 245.608 Q2128.59 248.224 2128.59 252.969 Q2128.59 257.714 2130.89 260.353 Q2133.18 262.969 2137.32 262.969 Q2139.17 262.969 2140.98 262.483 Q2142.81 261.973 2144.61 260.978 L2144.61 264.913 Q2142.83 265.747 2140.91 266.163 Q2139.01 266.58 2136.86 266.58 Q2131 266.58 2127.55 262.899 Q2124.1 259.219 2124.1 252.969 Q2124.1 246.626 2127.58 242.992 Q2131.07 239.358 2137.14 239.358 Q2139.1 239.358 2140.98 239.775 Q2142.85 240.168 2144.61 240.978 Z\" fill=\"#000000\" fill-rule=\"nonzero\" fill-opacity=\"1\" /><path clip-path=\"url(#clip280)\" d=\"M2152.02 239.983 L2156.28 239.983 L2156.28 265.909 L2152.02 265.909 L2152.02 239.983 M2152.02 229.89 L2156.28 229.89 L2156.28 235.284 L2152.02 235.284 L2152.02 229.89 Z\" fill=\"#000000\" fill-rule=\"nonzero\" fill-opacity=\"1\" /><path clip-path=\"url(#clip280)\" d=\"M2181.72 240.747 L2181.72 244.774 Q2179.91 243.849 2177.97 243.386 Q2176.02 242.923 2173.94 242.923 Q2170.77 242.923 2169.17 243.895 Q2167.6 244.867 2167.6 246.811 Q2167.6 248.293 2168.73 249.149 Q2169.87 249.983 2173.29 250.747 L2174.75 251.071 Q2179.29 252.043 2181.19 253.825 Q2183.11 255.585 2183.11 258.756 Q2183.11 262.367 2180.24 264.473 Q2177.39 266.58 2172.39 266.58 Q2170.31 266.58 2168.04 266.163 Q2165.79 265.77 2163.29 264.96 L2163.29 260.561 Q2165.65 261.788 2167.95 262.413 Q2170.24 263.015 2172.48 263.015 Q2175.49 263.015 2177.11 261.997 Q2178.73 260.955 2178.73 259.08 Q2178.73 257.344 2177.55 256.418 Q2176.39 255.492 2172.44 254.636 L2170.95 254.288 Q2167 253.455 2165.24 251.742 Q2163.48 250.006 2163.48 246.997 Q2163.48 243.339 2166.07 241.349 Q2168.66 239.358 2173.43 239.358 Q2175.79 239.358 2177.88 239.705 Q2179.96 240.052 2181.72 240.747 Z\" fill=\"#000000\" fill-rule=\"nonzero\" fill-opacity=\"1\" /><path clip-path=\"url(#clip280)\" d=\"M2206.42 240.747 L2206.42 244.774 Q2204.61 243.849 2202.67 243.386 Q2200.72 242.923 2198.64 242.923 Q2195.47 242.923 2193.87 243.895 Q2192.3 244.867 2192.3 246.811 Q2192.3 248.293 2193.43 249.149 Q2194.57 249.983 2197.99 250.747 L2199.45 251.071 Q2203.99 252.043 2205.88 253.825 Q2207.81 255.585 2207.81 258.756 Q2207.81 262.367 2204.94 264.473 Q2202.09 266.58 2197.09 266.58 Q2195.01 266.58 2192.74 266.163 Q2190.49 265.77 2187.99 264.96 L2187.99 260.561 Q2190.35 261.788 2192.64 262.413 Q2194.94 263.015 2197.18 263.015 Q2200.19 263.015 2201.81 261.997 Q2203.43 260.955 2203.43 259.08 Q2203.43 257.344 2202.25 256.418 Q2201.09 255.492 2197.14 254.636 L2195.65 254.288 Q2191.7 253.455 2189.94 251.742 Q2188.18 250.006 2188.18 246.997 Q2188.18 243.339 2190.77 241.349 Q2193.36 239.358 2198.13 239.358 Q2200.49 239.358 2202.57 239.705 Q2204.66 240.052 2206.42 240.747 Z\" fill=\"#000000\" fill-rule=\"nonzero\" fill-opacity=\"1\" /><path clip-path=\"url(#clip280)\" d=\"M2224.63 242.969 Q2221.21 242.969 2219.22 245.654 Q2217.23 248.316 2217.23 252.969 Q2217.23 257.622 2219.2 260.307 Q2221.19 262.969 2224.63 262.969 Q2228.04 262.969 2230.03 260.284 Q2232.02 257.598 2232.02 252.969 Q2232.02 248.362 2230.03 245.677 Q2228.04 242.969 2224.63 242.969 M2224.63 239.358 Q2230.19 239.358 2233.36 242.969 Q2236.53 246.58 2236.53 252.969 Q2236.53 259.335 2233.36 262.969 Q2230.19 266.58 2224.63 266.58 Q2219.06 266.58 2215.88 262.969 Q2212.74 259.335 2212.74 252.969 Q2212.74 246.58 2215.88 242.969 Q2219.06 239.358 2224.63 239.358 Z\" fill=\"#000000\" fill-rule=\"nonzero\" fill-opacity=\"1\" /><path clip-path=\"url(#clip280)\" d=\"M2258.62 243.964 Q2257.9 243.548 2257.04 243.362 Q2256.21 243.154 2255.19 243.154 Q2251.58 243.154 2249.63 245.515 Q2247.71 247.853 2247.71 252.251 L2247.71 265.909 L2243.43 265.909 L2243.43 239.983 L2247.71 239.983 L2247.71 244.011 Q2249.06 241.649 2251.21 240.515 Q2253.36 239.358 2256.44 239.358 Q2256.88 239.358 2257.41 239.427 Q2257.94 239.474 2258.59 239.589 L2258.62 243.964 Z\" fill=\"#000000\" fill-rule=\"nonzero\" fill-opacity=\"1\" /></svg>\n"
      ],
      "text/html": [
       "<img src=\"data:image/png;base64,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\" />"
      ]
     },
     "metadata": {},
     "output_type": "display_data"
    },
    {
     "data": {
      "text/html": [
       "<div><div style = \"float: left;\"><span>401×3 DataFrame</span></div><div style = \"float: right;\"><span style = \"font-style: italic;\">376 rows omitted</span></div><div style = \"clear: both;\"></div></div><div class = \"data-frame\" style = \"overflow-x: scroll;\"><table class = \"data-frame\" style = \"margin-bottom: 6px;\"><thead><tr class = \"header\"><th class = \"rowNumber\" style = \"font-weight: bold; text-align: right;\">Row</th><th style = \"text-align: left;\">paper</th><th style = \"text-align: left;\">rock</th><th style = \"text-align: left;\">scissor</th></tr><tr class = \"subheader headerLastRow\"><th class = \"rowNumber\" style = \"font-weight: bold; text-align: right;\"></th><th title = \"Int64\" style = \"text-align: left;\">Int64</th><th title = \"Int64\" style = \"text-align: left;\">Int64</th><th title = \"Int64\" style = \"text-align: left;\">Int64</th></tr></thead><tbody><tr><td class = \"rowNumber\" style = \"font-weight: bold; text-align: right;\">1</td><td style = \"text-align: right;\">909</td><td style = \"text-align: right;\">805</td><td style = \"text-align: right;\">786</td></tr><tr><td class = \"rowNumber\" style = \"font-weight: bold; text-align: right;\">2</td><td style = \"text-align: right;\">912</td><td style = \"text-align: right;\">796</td><td style = \"text-align: right;\">792</td></tr><tr><td class = \"rowNumber\" style = \"font-weight: bold; text-align: right;\">3</td><td style = \"text-align: right;\">922</td><td style = \"text-align: right;\">781</td><td style = \"text-align: right;\">797</td></tr><tr><td class = \"rowNumber\" style = \"font-weight: bold; text-align: right;\">4</td><td style = \"text-align: right;\">934</td><td style = \"text-align: right;\">768</td><td style = \"text-align: right;\">798</td></tr><tr><td class = \"rowNumber\" style = \"font-weight: bold; text-align: right;\">5</td><td style = \"text-align: right;\">932</td><td style = \"text-align: right;\">763</td><td style = \"text-align: right;\">805</td></tr><tr><td class = \"rowNumber\" style = \"font-weight: bold; text-align: right;\">6</td><td style = \"text-align: right;\">928</td><td style = \"text-align: right;\">757</td><td style = \"text-align: right;\">815</td></tr><tr><td class = \"rowNumber\" style = \"font-weight: bold; text-align: right;\">7</td><td style = \"text-align: right;\">929</td><td style = \"text-align: right;\">752</td><td style = \"text-align: right;\">819</td></tr><tr><td class = \"rowNumber\" style = \"font-weight: bold; text-align: right;\">8</td><td style = \"text-align: right;\">925</td><td style = \"text-align: right;\">749</td><td style = \"text-align: right;\">826</td></tr><tr><td class = \"rowNumber\" style = \"font-weight: bold; text-align: right;\">9</td><td style = \"text-align: right;\">927</td><td style = \"text-align: right;\">745</td><td style = \"text-align: right;\">828</td></tr><tr><td class = \"rowNumber\" style = \"font-weight: bold; text-align: right;\">10</td><td style = \"text-align: right;\">934</td><td style = \"text-align: right;\">737</td><td style = \"text-align: right;\">829</td></tr><tr><td class = \"rowNumber\" style = \"font-weight: bold; text-align: right;\">11</td><td style = \"text-align: right;\">939</td><td style = \"text-align: right;\">731</td><td style = \"text-align: right;\">830</td></tr><tr><td class = \"rowNumber\" style = \"font-weight: bold; text-align: right;\">12</td><td style = \"text-align: right;\">941</td><td style = \"text-align: right;\">727</td><td style = \"text-align: right;\">832</td></tr><tr><td class = \"rowNumber\" style = \"font-weight: bold; text-align: right;\">13</td><td style = \"text-align: right;\">946</td><td style = \"text-align: right;\">729</td><td style = \"text-align: right;\">825</td></tr><tr><td style = \"text-align: right;\">&vellip;</td><td style = \"text-align: right;\">&vellip;</td><td style = \"text-align: right;\">&vellip;</td><td style = \"text-align: right;\">&vellip;</td></tr><tr><td class = \"rowNumber\" style = \"font-weight: bold; text-align: right;\">390</td><td style = \"text-align: right;\">956</td><td style = \"text-align: right;\">715</td><td style = \"text-align: right;\">829</td></tr><tr><td class = \"rowNumber\" style = \"font-weight: bold; text-align: right;\">391</td><td style = \"text-align: right;\">956</td><td style = \"text-align: right;\">715</td><td style = \"text-align: right;\">829</td></tr><tr><td class = \"rowNumber\" style = \"font-weight: bold; text-align: right;\">392</td><td style = \"text-align: right;\">956</td><td style = \"text-align: right;\">715</td><td style = \"text-align: right;\">829</td></tr><tr><td class = \"rowNumber\" style = \"font-weight: bold; text-align: right;\">393</td><td style = \"text-align: right;\">956</td><td style = \"text-align: right;\">715</td><td style = \"text-align: right;\">829</td></tr><tr><td class = \"rowNumber\" style = \"font-weight: bold; text-align: right;\">394</td><td style = \"text-align: right;\">956</td><td style = \"text-align: right;\">715</td><td style = \"text-align: right;\">829</td></tr><tr><td class = \"rowNumber\" style = \"font-weight: bold; text-align: right;\">395</td><td style = \"text-align: right;\">956</td><td style = \"text-align: right;\">715</td><td style = \"text-align: right;\">829</td></tr><tr><td class = \"rowNumber\" style = \"font-weight: bold; text-align: right;\">396</td><td style = \"text-align: right;\">956</td><td style = \"text-align: right;\">715</td><td style = \"text-align: right;\">829</td></tr><tr><td class = \"rowNumber\" style = \"font-weight: bold; text-align: right;\">397</td><td style = \"text-align: right;\">956</td><td style = \"text-align: right;\">715</td><td style = \"text-align: right;\">829</td></tr><tr><td class = \"rowNumber\" style = \"font-weight: bold; text-align: right;\">398</td><td style = \"text-align: right;\">956</td><td style = \"text-align: right;\">715</td><td style = \"text-align: right;\">829</td></tr><tr><td class = \"rowNumber\" style = \"font-weight: bold; text-align: right;\">399</td><td style = \"text-align: right;\">956</td><td style = \"text-align: right;\">715</td><td style = \"text-align: right;\">829</td></tr><tr><td class = \"rowNumber\" style = \"font-weight: bold; text-align: right;\">400</td><td style = \"text-align: right;\">956</td><td style = \"text-align: right;\">715</td><td style = \"text-align: right;\">829</td></tr><tr><td class = \"rowNumber\" style = \"font-weight: bold; text-align: right;\">401</td><td style = \"text-align: right;\">956</td><td style = \"text-align: right;\">715</td><td style = \"text-align: right;\">829</td></tr></tbody></table></div>"
      ],
      "text/latex": [
       "\\begin{tabular}{r|ccc}\n",
       "\t& paper & rock & scissor\\\\\n",
       "\t\\hline\n",
       "\t& Int64 & Int64 & Int64\\\\\n",
       "\t\\hline\n",
       "\t1 & 909 & 805 & 786 \\\\\n",
       "\t2 & 912 & 796 & 792 \\\\\n",
       "\t3 & 922 & 781 & 797 \\\\\n",
       "\t4 & 934 & 768 & 798 \\\\\n",
       "\t5 & 932 & 763 & 805 \\\\\n",
       "\t6 & 928 & 757 & 815 \\\\\n",
       "\t7 & 929 & 752 & 819 \\\\\n",
       "\t8 & 925 & 749 & 826 \\\\\n",
       "\t9 & 927 & 745 & 828 \\\\\n",
       "\t10 & 934 & 737 & 829 \\\\\n",
       "\t11 & 939 & 731 & 830 \\\\\n",
       "\t12 & 941 & 727 & 832 \\\\\n",
       "\t13 & 946 & 729 & 825 \\\\\n",
       "\t14 & 949 & 731 & 820 \\\\\n",
       "\t15 & 954 & 727 & 819 \\\\\n",
       "\t16 & 953 & 728 & 819 \\\\\n",
       "\t17 & 954 & 730 & 816 \\\\\n",
       "\t18 & 956 & 726 & 818 \\\\\n",
       "\t19 & 953 & 726 & 821 \\\\\n",
       "\t20 & 954 & 725 & 821 \\\\\n",
       "\t21 & 958 & 723 & 819 \\\\\n",
       "\t22 & 959 & 722 & 819 \\\\\n",
       "\t23 & 958 & 721 & 821 \\\\\n",
       "\t24 & 959 & 721 & 820 \\\\\n",
       "\t25 & 957 & 720 & 823 \\\\\n",
       "\t26 & 958 & 718 & 824 \\\\\n",
       "\t27 & 956 & 718 & 826 \\\\\n",
       "\t28 & 956 & 718 & 826 \\\\\n",
       "\t29 & 956 & 717 & 827 \\\\\n",
       "\t30 & 956 & 719 & 825 \\\\\n",
       "\t$\\dots$ & $\\dots$ & $\\dots$ & $\\dots$ \\\\\n",
       "\\end{tabular}\n"
      ],
      "text/plain": [
       "\u001b[1m401×3 DataFrame\u001b[0m\n",
       "\u001b[1m Row \u001b[0m│\u001b[1m paper \u001b[0m\u001b[1m rock  \u001b[0m\u001b[1m scissor \u001b[0m\n",
       "     │\u001b[90m Int64 \u001b[0m\u001b[90m Int64 \u001b[0m\u001b[90m Int64   \u001b[0m\n",
       "─────┼───────────────────────\n",
       "   1 │   909    805      786\n",
       "   2 │   912    796      792\n",
       "   3 │   922    781      797\n",
       "   4 │   934    768      798\n",
       "   5 │   932    763      805\n",
       "   6 │   928    757      815\n",
       "   7 │   929    752      819\n",
       "   8 │   925    749      826\n",
       "   9 │   927    745      828\n",
       "  10 │   934    737      829\n",
       "  11 │   939    731      830\n",
       "  ⋮  │   ⋮      ⋮       ⋮\n",
       " 392 │   956    715      829\n",
       " 393 │   956    715      829\n",
       " 394 │   956    715      829\n",
       " 395 │   956    715      829\n",
       " 396 │   956    715      829\n",
       " 397 │   956    715      829\n",
       " 398 │   956    715      829\n",
       " 399 │   956    715      829\n",
       " 400 │   956    715      829\n",
       " 401 │   956    715      829\n",
       "\u001b[36m             380 rows omitted\u001b[0m"
      ]
     },
     "execution_count": 10,
     "metadata": {},
     "output_type": "execute_result"
    }
   ],
   "source": [
    "df = get_nums_patches(model, \n",
    "    patch-> patch.color ==cl\"red\", \n",
    "    patch-> patch.color ==cl\"green\", \n",
    "    patch-> patch.color ==cl\"blue\", labels=[\"rock\",\"paper\",\"scissor\"], plot_result=true)"
   ]
  },
  {
   "cell_type": "code",
   "execution_count": null,
   "metadata": {},
   "outputs": [],
   "source": []
  }
 ],
 "metadata": {
  "@webio": {
   "lastCommId": "296a1f3cf3624e2c8bc484cba1e3b359",
   "lastKernelId": "18604bfa-4614-4e58-83ca-0ffb5239132e"
  },
  "kernelspec": {
   "display_name": "Julia 1.9.2",
   "language": "julia",
   "name": "julia-1.9"
  },
  "language_info": {
   "file_extension": ".jl",
   "mimetype": "application/julia",
   "name": "julia",
   "version": "1.9.2"
  }
 },
 "nbformat": 4,
 "nbformat_minor": 4
}
