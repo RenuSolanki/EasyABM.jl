{
 "cells": [
  {
   "cell_type": "markdown",
   "metadata": {},
   "source": [
    "# Rock Paper Scissor"
   ]
  },
  {
   "cell_type": "code",
   "execution_count": 1,
   "metadata": {},
   "outputs": [
    {
     "name": "stderr",
     "output_type": "stream",
     "text": [
      "\u001b[32m\u001b[1m  Activating\u001b[22m\u001b[39m project at `~/Documents/EasyABM`\n"
     ]
    },
    {
     "data": {
      "application/vnd.webio.node+json": {
       "children": [],
       "instanceArgs": {
        "namespace": "html",
        "tag": "div"
       },
       "nodeType": "DOM",
       "props": {},
       "type": "node"
      },
      "text/html": [
       "<div style=\"padding: 1em; background-color: #f8d6da; border: 1px solid #f5c6cb; font-weight: bold;\">\n",
       "<p>The WebIO Jupyter extension was not detected. See the\n",
       "<a href=\"https://juliagizmos.github.io/WebIO.jl/latest/providers/ijulia/\" target=\"_blank\">\n",
       "    WebIO Jupyter integration documentation\n",
       "</a>\n",
       "for more information.\n",
       "</div>\n"
      ],
      "text/plain": [
       "WebIO._IJuliaInit()"
      ]
     },
     "metadata": {
      "application/vnd.webio.node+json": {
       "kernelId": "df4f3bfa-f9b3-495e-af47-b543821fd1ae"
      }
     },
     "output_type": "display_data"
    }
   ],
   "source": [
    "using Pkg, Revise\n",
    "Pkg.activate(joinpath(@__DIR__, \"../..\"))\n",
    "using EasyABM"
   ]
  },
  {
   "cell_type": "markdown",
   "metadata": {},
   "source": [
    "## Step 1: Create Model\n",
    "\n",
    "In this model, we work with patches only. We set `grid_size` to (50,50), set `space_type` to Periodic and define an additional model parameter `threshold` whose value is set to 3. "
   ]
  },
  {
   "cell_type": "code",
   "execution_count": 2,
   "metadata": {},
   "outputs": [
    {
     "data": {
      "text/plain": [
       "EasyABM SpaceModel2D{Static, Int64, Periodic}: In a Static model number of agents is fixed.\n"
      ]
     },
     "execution_count": 2,
     "metadata": {},
     "output_type": "execute_result"
    }
   ],
   "source": [
    "model = create_2d_model(size = (50,50), space_type=Periodic, threshold = 3)"
   ]
  },
  {
   "cell_type": "markdown",
   "metadata": {},
   "source": [
    "## Step 2: Initialise the model\n",
    "\n",
    "In the second step we initialise the patches by defining `initialiser!` function and sending it as an argument to `init_model!`. In the `initialiser!` function we randomly assign `cl\"red\"` (for stone), `cl\"green\"` (for paper) and `cl\"blue\"` (for scissor) color to patches. Then we initialise the model using `init_model!` function, in which through the argument `props_to_record`, we tell EasyABM to record the `:color` property of patches during time evolution. Note that, in EasyABM animations are created with the recorded data, therefore if in the present model, the color of patches is not recorded there will be no animation to see. "
   ]
  },
  {
   "cell_type": "code",
   "execution_count": 3,
   "metadata": {},
   "outputs": [],
   "source": [
    "function initialiser!(model)\n",
    "    for j in 1:model.size[2]\n",
    "        for i in 1:model.size[1]\n",
    "            num = rand()\n",
    "            if num<0.33\n",
    "                model.patches[i,j].color = cl\"red\" # stone => red, paper => green, scissor => blue\n",
    "            elseif num>0.66\n",
    "                model.patches[i,j].color = cl\"green\"\n",
    "            else\n",
    "                model.patches[i,j].color = cl\"blue\"\n",
    "            end\n",
    "        end\n",
    "    end\n",
    "end\n",
    "\n",
    "init_model!(model, initialiser = initialiser!, props_to_record = Dict(\"patches\" => Set([:color])))"
   ]
  },
  {
   "cell_type": "markdown",
   "metadata": {},
   "source": [
    "## Step 3: Defining the step_rule! and running the model\n",
    "\n",
    "In this step we define the `step_rule!` function and run the model for 400 steps. The rule of the game is very simple. The `cl\"red\"` color of a patch will change to `cl\"green\"` if number of neighboring patches with color `cl\"green\"` exceeds the threshold( which we set to be 3 in the beginning). Similarly, if a `cl\"green\"` patch finds larger than the threshold number of `cl\"blue\"` patches in its neighborhood, it will change to `cl\"blue\"`, and if a `cl\"blue\"` patch finds larger than threshold number of `cl\"red\"` patches in its neighborhood it will change to `cl\"red\"`. Each step of the model consists of 500 Monte-Carlo steps in which a patch is selected at random and the above mentioned rule applied to it. "
   ]
  },
  {
   "cell_type": "code",
   "execution_count": 4,
   "metadata": {
    "scrolled": true
   },
   "outputs": [
    {
     "data": {
      "text/plain": [
       "Dict{Col, Col} with 3 entries:\n",
       "  RGBA{N0f8}(0.0,1.0,0.0,1.0… => RGBA{N0f8}(0.0,0.0,1.0,1.0)…\n",
       "  RGBA{N0f8}(1.0,0.0,0.0,1.0… => RGBA{N0f8}(0.0,1.0,0.0,1.0)…\n",
       "  RGBA{N0f8}(0.0,0.0,1.0,1.0… => RGBA{N0f8}(1.0,0.0,0.0,1.0)…"
      ]
     },
     "execution_count": 4,
     "metadata": {},
     "output_type": "execute_result"
    }
   ],
   "source": [
    "const who_wins_against = Dict(cl\"red\" => cl\"green\", cl\"green\" => cl\"blue\", cl\"blue\" => cl\"red\")"
   ]
  },
  {
   "cell_type": "code",
   "execution_count": 5,
   "metadata": {},
   "outputs": [
    {
     "data": {
      "text/plain": [
       "step_rule! (generic function with 1 method)"
      ]
     },
     "execution_count": 5,
     "metadata": {},
     "output_type": "execute_result"
    }
   ],
   "source": [
    "function step_rule!(model)\n",
    "    for _ in 1:500\n",
    "        i = rand(1:model.size[1])\n",
    "        j = rand(1:model.size[2])\n",
    "        nbr_patches = neighbor_patches((i,j), model, 1)\n",
    "        col = model.patches[i,j].color\n",
    "        winner_col = who_wins_against[col]\n",
    "        count = 0 \n",
    "        for patch in nbr_patches\n",
    "            if model.patches[patch...].color == winner_col\n",
    "                count+=1\n",
    "            end\n",
    "        end\n",
    "        if count > model.parameters.threshold\n",
    "            model.patches[i,j].color = winner_col\n",
    "        end\n",
    "    end\n",
    "end"
   ]
  },
  {
   "cell_type": "code",
   "execution_count": 6,
   "metadata": {},
   "outputs": [],
   "source": [
    "run_model!(model, steps = 400, step_rule = step_rule!)"
   ]
  },
  {
   "cell_type": "markdown",
   "metadata": {},
   "source": [
    "## Step 4: Visualisation"
   ]
  },
  {
   "cell_type": "markdown",
   "metadata": {},
   "source": [
    "In order to draw the model at a specific frame, say 4th, one can use"
   ]
  },
  {
   "cell_type": "code",
   "execution_count": 7,
   "metadata": {
    "scrolled": true
   },
   "outputs": [
    {
     "data": {
      "image/png": "[encoded data removed]",
      "text/plain": []
     },
     "execution_count": 7,
     "metadata": {},
     "output_type": "execute_result"
    }
   ],
   "source": [
    "draw_frame(model, frame = 4, show_patches=true)"
   ]
  },
  {
   "cell_type": "markdown",
   "metadata": {},
   "source": [
    "If one wants to see the animation of the model run, it can be done as "
   ]
  },
  {
   "cell_type": "code",
   "execution_count": 8,
   "metadata": {},
   "outputs": [
    {
     "data": {
      "application/vnd.webio.node+json": {
       "children": [
        {
         "children": [
          {
           "children": [
            {
             "children": [
              {
               "children": [
                {
                 "children": [
                  {
                   "children": [
                    {
                     "children": [
                      "time"
                     ],
                     "instanceArgs": {
                      "namespace": "html",
                      "tag": "label"
                     },
                     "nodeType": "DOM",
                     "props": {
                      "className": "interact ",
                      "style": {
                       "padding": "5px 10px 0px 10px"
                      }
                     },
                     "type": "node"
                    }
                   ],
                   "instanceArgs": {
                    "namespace": "html",
                    "tag": "div"
                   },
                   "nodeType": "DOM",
                   "props": {
                    "className": "interact-flex-row-left"
                   },
                   "type": "node"
                  },
                  {
                   "children": [
                    {
                     "children": [],
                     "instanceArgs": {
                      "namespace": "html",
                      "tag": "input"
                     },
                     "nodeType": "DOM",
                     "props": {
                      "attributes": {
                       "data-bind": "numericValue: index, valueUpdate: 'input', event: {change: function (){this.changes(this.changes()+1)}}",
                       "orient": "horizontal",
                       "type": "range"
                      },
                      "className": "slider slider is-fullwidth",
                      "max": 401,
                      "min": 1,
                      "step": 1,
                      "style": {}
                     },
                     "type": "node"
                    }
                   ],
                   "instanceArgs": {
                    "namespace": "html",
                    "tag": "div"
                   },
                   "nodeType": "DOM",
                   "props": {
                    "className": "interact-flex-row-center"
                   },
                   "type": "node"
                  },
                  {
                   "children": [
                    {
                     "children": [],
                     "instanceArgs": {
                      "namespace": "html",
                      "tag": "p"
                     },
                     "nodeType": "DOM",
                     "props": {
                      "attributes": {
                       "data-bind": "text: formatted_val"
                      }
                     },
                     "type": "node"
                    }
                   ],
                   "instanceArgs": {
                    "namespace": "html",
                    "tag": "div"
                   },
                   "nodeType": "DOM",
                   "props": {
                    "className": "interact-flex-row-right"
                   },
                   "type": "node"
                  }
                 ],
                 "instanceArgs": {
                  "namespace": "html",
                  "tag": "div"
                 },
                 "nodeType": "DOM",
                 "props": {
                  "className": "interact-flex-row interact-widget"
                 },
                 "type": "node"
                }
               ],
               "instanceArgs": {
                "handlers": {
                 "changes": [
                  "(function (val){return (val!=this.model[\"changes\"]()) ? (this.valueFromJulia[\"changes\"]=true, this.model[\"changes\"](val)) : undefined})"
                 ],
                 "index": [
                  "(function (val){return (val!=this.model[\"index\"]()) ? (this.valueFromJulia[\"index\"]=true, this.model[\"index\"](val)) : undefined})"
                 ]
                },
                "id": "5337995995308777405",
                "imports": {
                 "data": [
                  {
                   "name": "knockout",
                   "type": "js",
                   "url": "/assetserver/727383f2a47bd31570b7da84eee7b022dd6d7c78-knockout.js"
                  },
                  {
                   "name": "knockout_punches",
                   "type": "js",
                   "url": "/assetserver/382b41b3b1bd9f26f75861d360bad7f8beea211f-knockout_punches.js"
                  },
                  {
                   "name": null,
                   "type": "js",
                   "url": "/assetserver/5ab20f1060420992a9b82a65b735dee4d81ef413-all.js"
                  },
                  {
                   "name": null,
                   "type": "css",
                   "url": "/assetserver/1cc0ed62837210b80a182cc3676512f895dab686-style.css"
                  },
                  {
                   "name": null,
                   "type": "css",
                   "url": "/assetserver/2eee816f616df3549d7044d45e744fbf8d42bfa1-bulma_confined.min.css"
                  }
                 ],
                 "type": "async_block"
                },
                "mount_callbacks": [
                 "function () {\n    var handler = (function (ko, koPunches) {\n    ko.punches.enableAll();\n    ko.bindingHandlers.numericValue = {\n        init: function(element, valueAccessor, allBindings, data, context) {\n            var stringified = ko.observable(ko.unwrap(valueAccessor()));\n            stringified.subscribe(function(value) {\n                var val = parseFloat(value);\n                if (!isNaN(val)) {\n                    valueAccessor()(val);\n                }\n            });\n            valueAccessor().subscribe(function(value) {\n                var str = JSON.stringify(value);\n                if ((str == \"0\") && ([\"-0\", \"-0.\"].indexOf(stringified()) >= 0))\n                     return;\n                 if ([\"null\", \"\"].indexOf(str) >= 0)\n                     return;\n                stringified(str);\n            });\n            ko.applyBindingsToNode(\n                element,\n                {\n                    value: stringified,\n                    valueUpdate: allBindings.get('valueUpdate'),\n                },\n                context,\n            );\n        }\n    };\n    var json_data = {\"formatted_vals\":[\"1\",\"2\",\"3\",\"4\",\"5\",\"6\",\"7\",\"8\",\"9\",\"10\",\"11\",\"12\",\"13\",\"14\",\"15\",\"16\",\"17\",\"18\",\"19\",\"20\",\"21\",\"22\",\"23\",\"24\",\"25\",\"26\",\"27\",\"28\",\"29\",\"30\",\"31\",\"32\",\"33\",\"34\",\"35\",\"36\",\"37\",\"38\",\"39\",\"40\",\"41\",\"42\",\"43\",\"44\",\"45\",\"46\",\"47\",\"48\",\"49\",\"50\",\"51\",\"52\",\"53\",\"54\",\"55\",\"56\",\"57\",\"58\",\"59\",\"60\",\"61\",\"62\",\"63\",\"64\",\"65\",\"66\",\"67\",\"68\",\"69\",\"70\",\"71\",\"72\",\"73\",\"74\",\"75\",\"76\",\"77\",\"78\",\"79\",\"80\",\"81\",\"82\",\"83\",\"84\",\"85\",\"86\",\"87\",\"88\",\"89\",\"90\",\"91\",\"92\",\"93\",\"94\",\"95\",\"96\",\"97\",\"98\",\"99\",\"100\",\"101\",\"102\",\"103\",\"104\",\"105\",\"106\",\"107\",\"108\",\"109\",\"110\",\"111\",\"112\",\"113\",\"114\",\"115\",\"116\",\"117\",\"118\",\"119\",\"120\",\"121\",\"122\",\"123\",\"124\",\"125\",\"126\",\"127\",\"128\",\"129\",\"130\",\"131\",\"132\",\"133\",\"134\",\"135\",\"136\",\"137\",\"138\",\"139\",\"140\",\"141\",\"142\",\"143\",\"144\",\"145\",\"146\",\"147\",\"148\",\"149\",\"150\",\"151\",\"152\",\"153\",\"154\",\"155\",\"156\",\"157\",\"158\",\"159\",\"160\",\"161\",\"162\",\"163\",\"164\",\"165\",\"166\",\"167\",\"168\",\"169\",\"170\",\"171\",\"172\",\"173\",\"174\",\"175\",\"176\",\"177\",\"178\",\"179\",\"180\",\"181\",\"182\",\"183\",\"184\",\"185\",\"186\",\"187\",\"188\",\"189\",\"190\",\"191\",\"192\",\"193\",\"194\",\"195\",\"196\",\"197\",\"198\",\"199\",\"200\",\"201\",\"202\",\"203\",\"204\",\"205\",\"206\",\"207\",\"208\",\"209\",\"210\",\"211\",\"212\",\"213\",\"214\",\"215\",\"216\",\"217\",\"218\",\"219\",\"220\",\"221\",\"222\",\"223\",\"224\",\"225\",\"226\",\"227\",\"228\",\"229\",\"230\",\"231\",\"232\",\"233\",\"234\",\"235\",\"236\",\"237\",\"238\",\"239\",\"240\",\"241\",\"242\",\"243\",\"244\",\"245\",\"246\",\"247\",\"248\",\"249\",\"250\",\"251\",\"252\",\"253\",\"254\",\"255\",\"256\",\"257\",\"258\",\"259\",\"260\",\"261\",\"262\",\"263\",\"264\",\"265\",\"266\",\"267\",\"268\",\"269\",\"270\",\"271\",\"272\",\"273\",\"274\",\"275\",\"276\",\"277\",\"278\",\"279\",\"280\",\"281\",\"282\",\"283\",\"284\",\"285\",\"286\",\"287\",\"288\",\"289\",\"290\",\"291\",\"292\",\"293\",\"294\",\"295\",\"296\",\"297\",\"298\",\"299\",\"300\",\"301\",\"302\",\"303\",\"304\",\"305\",\"306\",\"307\",\"308\",\"309\",\"310\",\"311\",\"312\",\"313\",\"314\",\"315\",\"316\",\"317\",\"318\",\"319\",\"320\",\"321\",\"322\",\"323\",\"324\",\"325\",\"326\",\"327\",\"328\",\"329\",\"330\",\"331\",\"332\",\"333\",\"334\",\"335\",\"336\",\"337\",\"338\",\"339\",\"340\",\"341\",\"342\",\"343\",\"344\",\"345\",\"346\",\"347\",\"348\",\"349\",\"350\",\"351\",\"352\",\"353\",\"354\",\"355\",\"356\",\"357\",\"358\",\"359\",\"360\",\"361\",\"362\",\"363\",\"364\",\"365\",\"366\",\"367\",\"368\",\"369\",\"370\",\"371\",\"372\",\"373\",\"374\",\"375\",\"376\",\"377\",\"378\",\"379\",\"380\",\"381\",\"382\",\"383\",\"384\",\"385\",\"386\",\"387\",\"388\",\"389\",\"390\",\"391\",\"392\",\"393\",\"394\",\"395\",\"396\",\"397\",\"398\",\"399\",\"400\",\"401\"],\"changes\":WebIO.getval({\"name\":\"changes\",\"scope\":\"5337995995308777405\",\"id\":\"427554821485086902\",\"type\":\"observable\"}),\"index\":WebIO.getval({\"name\":\"index\",\"scope\":\"5337995995308777405\",\"id\":\"18268589415323401286\",\"type\":\"observable\"})};\n    var self = this;\n    function AppViewModel() {\n        for (var key in json_data) {\n            var el = json_data[key];\n            this[key] = Array.isArray(el) ? ko.observableArray(el) : ko.observable(el);\n        }\n        \n        [this[\"formatted_val\"]=ko.computed(    function(){\n        return this.formatted_vals()[parseInt(this.index())-(1)];\n    }\n,this)]\n        [this[\"changes\"].subscribe((function (val){!(this.valueFromJulia[\"changes\"]) ? (WebIO.setval({\"name\":\"changes\",\"scope\":\"5337995995308777405\",\"id\":\"427554821485086902\",\"type\":\"observable\"},val)) : undefined; return this.valueFromJulia[\"changes\"]=false}),self),this[\"index\"].subscribe((function (val){!(this.valueFromJulia[\"index\"]) ? (WebIO.setval({\"name\":\"index\",\"scope\":\"5337995995308777405\",\"id\":\"18268589415323401286\",\"type\":\"observable\"},val)) : undefined; return this.valueFromJulia[\"index\"]=false}),self)]\n        \n    }\n    self.model = new AppViewModel();\n    self.valueFromJulia = {};\n    for (var key in json_data) {\n        self.valueFromJulia[key] = false;\n    }\n    ko.applyBindings(self.model, self.dom);\n}\n);\n    (WebIO.importBlock({\"data\":[{\"name\":\"knockout\",\"type\":\"js\",\"url\":\"/assetserver/727383f2a47bd31570b7da84eee7b022dd6d7c78-knockout.js\"},{\"name\":\"knockout_punches\",\"type\":\"js\",\"url\":\"/assetserver/382b41b3b1bd9f26f75861d360bad7f8beea211f-knockout_punches.js\"}],\"type\":\"async_block\"})).then((imports) => handler.apply(this, imports));\n}\n"
                ],
                "observables": {
                 "changes": {
                  "id": "427554821485086902",
                  "sync": false,
                  "value": 0
                 },
                 "index": {
                  "id": "18268589415323401286",
                  "sync": true,
                  "value": 201
                 }
                },
                "systemjs_options": null
               },
               "nodeType": "Scope",
               "props": {},
               "type": "node"
              }
             ],
             "instanceArgs": {
              "namespace": "html",
              "tag": "div"
             },
             "nodeType": "DOM",
             "props": {
              "className": "field interact-widget"
             },
             "type": "node"
            },
            {
             "children": [
              {
               "children": [
                {
                 "children": [
                  {
                   "children": [
                    {
                     "children": [
                      "scale"
                     ],
                     "instanceArgs": {
                      "namespace": "html",
                      "tag": "label"
                     },
                     "nodeType": "DOM",
                     "props": {
                      "className": "interact ",
                      "style": {
                       "padding": "5px 10px 0px 10px"
                      }
                     },
                     "type": "node"
                    }
                   ],
                   "instanceArgs": {
                    "namespace": "html",
                    "tag": "div"
                   },
                   "nodeType": "DOM",
                   "props": {
                    "className": "interact-flex-row-left"
                   },
                   "type": "node"
                  },
                  {
                   "children": [
                    {
                     "children": [],
                     "instanceArgs": {
                      "namespace": "html",
                      "tag": "input"
                     },
                     "nodeType": "DOM",
                     "props": {
                      "attributes": {
                       "data-bind": "numericValue: index, valueUpdate: 'input', event: {change: function (){this.changes(this.changes()+1)}}",
                       "orient": "horizontal",
                       "type": "range"
                      },
                      "className": "slider slider is-fullwidth",
                      "max": 20,
                      "min": 1,
                      "step": 1,
                      "style": {}
                     },
                     "type": "node"
                    }
                   ],
                   "instanceArgs": {
                    "namespace": "html",
                    "tag": "div"
                   },
                   "nodeType": "DOM",
                   "props": {
                    "className": "interact-flex-row-center"
                   },
                   "type": "node"
                  },
                  {
                   "children": [
                    {
                     "children": [],
                     "instanceArgs": {
                      "namespace": "html",
                      "tag": "p"
                     },
                     "nodeType": "DOM",
                     "props": {
                      "attributes": {
                       "data-bind": "text: formatted_val"
                      }
                     },
                     "type": "node"
                    }
                   ],
                   "instanceArgs": {
                    "namespace": "html",
                    "tag": "div"
                   },
                   "nodeType": "DOM",
                   "props": {
                    "className": "interact-flex-row-right"
                   },
                   "type": "node"
                  }
                 ],
                 "instanceArgs": {
                  "namespace": "html",
                  "tag": "div"
                 },
                 "nodeType": "DOM",
                 "props": {
                  "className": "interact-flex-row interact-widget"
                 },
                 "type": "node"
                }
               ],
               "instanceArgs": {
                "handlers": {
                 "changes": [
                  "(function (val){return (val!=this.model[\"changes\"]()) ? (this.valueFromJulia[\"changes\"]=true, this.model[\"changes\"](val)) : undefined})"
                 ],
                 "index": [
                  "(function (val){return (val!=this.model[\"index\"]()) ? (this.valueFromJulia[\"index\"]=true, this.model[\"index\"](val)) : undefined})"
                 ]
                },
                "id": "8597427775505468747",
                "imports": {
                 "data": [
                  {
                   "name": "knockout",
                   "type": "js",
                   "url": "/assetserver/727383f2a47bd31570b7da84eee7b022dd6d7c78-knockout.js"
                  },
                  {
                   "name": "knockout_punches",
                   "type": "js",
                   "url": "/assetserver/382b41b3b1bd9f26f75861d360bad7f8beea211f-knockout_punches.js"
                  },
                  {
                   "name": null,
                   "type": "js",
                   "url": "/assetserver/5ab20f1060420992a9b82a65b735dee4d81ef413-all.js"
                  },
                  {
                   "name": null,
                   "type": "css",
                   "url": "/assetserver/1cc0ed62837210b80a182cc3676512f895dab686-style.css"
                  },
                  {
                   "name": null,
                   "type": "css",
                   "url": "/assetserver/2eee816f616df3549d7044d45e744fbf8d42bfa1-bulma_confined.min.css"
                  }
                 ],
                 "type": "async_block"
                },
                "mount_callbacks": [
                 "function () {\n    var handler = (function (ko, koPunches) {\n    ko.punches.enableAll();\n    ko.bindingHandlers.numericValue = {\n        init: function(element, valueAccessor, allBindings, data, context) {\n            var stringified = ko.observable(ko.unwrap(valueAccessor()));\n            stringified.subscribe(function(value) {\n                var val = parseFloat(value);\n                if (!isNaN(val)) {\n                    valueAccessor()(val);\n                }\n            });\n            valueAccessor().subscribe(function(value) {\n                var str = JSON.stringify(value);\n                if ((str == \"0\") && ([\"-0\", \"-0.\"].indexOf(stringified()) >= 0))\n                     return;\n                 if ([\"null\", \"\"].indexOf(str) >= 0)\n                     return;\n                stringified(str);\n            });\n            ko.applyBindingsToNode(\n                element,\n                {\n                    value: stringified,\n                    valueUpdate: allBindings.get('valueUpdate'),\n                },\n                context,\n            );\n        }\n    };\n    var json_data = {\"formatted_vals\":[\"0.1\",\"0.2\",\"0.3\",\"0.4\",\"0.5\",\"0.6\",\"0.7\",\"0.8\",\"0.9\",\"1.0\",\"1.1\",\"1.2\",\"1.3\",\"1.4\",\"1.5\",\"1.6\",\"1.7\",\"1.8\",\"1.9\",\"2.0\"],\"changes\":WebIO.getval({\"name\":\"changes\",\"scope\":\"8597427775505468747\",\"id\":\"13227534642141331596\",\"type\":\"observable\"}),\"index\":WebIO.getval({\"name\":\"index\",\"scope\":\"8597427775505468747\",\"id\":\"15159146073029502063\",\"type\":\"observable\"})};\n    var self = this;\n    function AppViewModel() {\n        for (var key in json_data) {\n            var el = json_data[key];\n            this[key] = Array.isArray(el) ? ko.observableArray(el) : ko.observable(el);\n        }\n        \n        [this[\"formatted_val\"]=ko.computed(    function(){\n        return this.formatted_vals()[parseInt(this.index())-(1)];\n    }\n,this)]\n        [this[\"changes\"].subscribe((function (val){!(this.valueFromJulia[\"changes\"]) ? (WebIO.setval({\"name\":\"changes\",\"scope\":\"8597427775505468747\",\"id\":\"13227534642141331596\",\"type\":\"observable\"},val)) : undefined; return this.valueFromJulia[\"changes\"]=false}),self),this[\"index\"].subscribe((function (val){!(this.valueFromJulia[\"index\"]) ? (WebIO.setval({\"name\":\"index\",\"scope\":\"8597427775505468747\",\"id\":\"15159146073029502063\",\"type\":\"observable\"},val)) : undefined; return this.valueFromJulia[\"index\"]=false}),self)]\n        \n    }\n    self.model = new AppViewModel();\n    self.valueFromJulia = {};\n    for (var key in json_data) {\n        self.valueFromJulia[key] = false;\n    }\n    ko.applyBindings(self.model, self.dom);\n}\n);\n    (WebIO.importBlock({\"data\":[{\"name\":\"knockout\",\"type\":\"js\",\"url\":\"/assetserver/727383f2a47bd31570b7da84eee7b022dd6d7c78-knockout.js\"},{\"name\":\"knockout_punches\",\"type\":\"js\",\"url\":\"/assetserver/382b41b3b1bd9f26f75861d360bad7f8beea211f-knockout_punches.js\"}],\"type\":\"async_block\"})).then((imports) => handler.apply(this, imports));\n}\n"
                ],
                "observables": {
                 "changes": {
                  "id": "13227534642141331596",
                  "sync": false,
                  "value": 0
                 },
                 "index": {
                  "id": "15159146073029502063",
                  "sync": true,
                  "value": 10
                 }
                },
                "systemjs_options": null
               },
               "nodeType": "Scope",
               "props": {},
               "type": "node"
              }
             ],
             "instanceArgs": {
              "namespace": "html",
              "tag": "div"
             },
             "nodeType": "DOM",
             "props": {
              "className": "field interact-widget"
             },
             "type": "node"
            },
            {
             "children": [
              {
               "children": [
                {
                 "children": [
                  {
                   "children": [],
                   "instanceArgs": {
                    "namespace": "html",
                    "tag": "div"
                   },
                   "nodeType": "DOM",
                   "props": {
                    "id": "container"
                   },
                   "type": "node"
                  }
                 ],
                 "instanceArgs": {
                  "handlers": {
                   "value": [
                    "(function (txt){return this.k.render(txt,this.container)})"
                   ]
                  },
                  "id": "3343413334418669112",
                  "imports": {
                   "data": [
                    {
                     "name": null,
                     "type": "js",
                     "url": "/assetserver/dd22ed1bf1896c2748f3fe616ce0b838adc895c1-katex.min.js"
                    },
                    {
                     "name": null,
                     "type": "css",
                     "url": "/assetserver/46517a424aa5e6cffc1360d7e0848b601c584ee3-katex.min.css"
                    }
                   ],
                   "type": "async_block"
                  },
                  "mount_callbacks": [
                   "function () {\n    var handler = ((function (k){this.k=k; this.container=this.dom.querySelector(\"#container\"); return k.render(\"\\\\;\\\\;\",this.container)}));\n    (WebIO.importBlock({\"data\":[{\"name\":null,\"type\":\"js\",\"url\":\"/assetserver/dd22ed1bf1896c2748f3fe616ce0b838adc895c1-katex.min.js\"},{\"name\":null,\"type\":\"css\",\"url\":\"/assetserver/46517a424aa5e6cffc1360d7e0848b601c584ee3-katex.min.css\"}],\"type\":\"async_block\"})).then((imports) => handler.apply(this, imports));\n}\n"
                  ],
                  "observables": {
                   "value": {
                    "id": "14516616340831225995",
                    "sync": false,
                    "value": "\\;\\;"
                   }
                  },
                  "systemjs_options": null
                 },
                 "nodeType": "Scope",
                 "props": {},
                 "type": "node"
                }
               ],
               "instanceArgs": {
                "namespace": "html",
                "tag": "div"
               },
               "nodeType": "DOM",
               "props": {
                "className": "interact-widget"
               },
               "type": "node"
              },
              {
               "children": [
                {
                 "children": [
                  {
                   "children": [
                    "run"
                   ],
                   "instanceArgs": {
                    "namespace": "html",
                    "tag": "button"
                   },
                   "nodeType": "DOM",
                   "props": {
                    "attributes": {
                     "data-bind": "click: function (){this.clicks(this.clicks()+1)}, css: {'is-loading' : loading}"
                    },
                    "className": "is-medium button is-primary",
                    "style": {}
                   },
                   "type": "node"
                  }
                 ],
                 "instanceArgs": {
                  "handlers": {
                   "clicks": [
                    "(function (val){return (val!=this.model[\"clicks\"]()) ? (this.valueFromJulia[\"clicks\"]=true, this.model[\"clicks\"](val)) : undefined})"
                   ],
                   "loading": [
                    "(function (val){return (val!=this.model[\"loading\"]()) ? (this.valueFromJulia[\"loading\"]=true, this.model[\"loading\"](val)) : undefined})"
                   ]
                  },
                  "id": "3094818945018841898",
                  "imports": {
                   "data": [
                    {
                     "name": "knockout",
                     "type": "js",
                     "url": "/assetserver/727383f2a47bd31570b7da84eee7b022dd6d7c78-knockout.js"
                    },
                    {
                     "name": "knockout_punches",
                     "type": "js",
                     "url": "/assetserver/382b41b3b1bd9f26f75861d360bad7f8beea211f-knockout_punches.js"
                    },
                    {
                     "name": null,
                     "type": "js",
                     "url": "/assetserver/5ab20f1060420992a9b82a65b735dee4d81ef413-all.js"
                    },
                    {
                     "name": null,
                     "type": "css",
                     "url": "/assetserver/1cc0ed62837210b80a182cc3676512f895dab686-style.css"
                    },
                    {
                     "name": null,
                     "type": "css",
                     "url": "/assetserver/2eee816f616df3549d7044d45e744fbf8d42bfa1-bulma_confined.min.css"
                    }
                   ],
                   "type": "async_block"
                  },
                  "mount_callbacks": [
                   "function () {\n    var handler = (function (ko, koPunches) {\n    ko.punches.enableAll();\n    ko.bindingHandlers.numericValue = {\n        init: function(element, valueAccessor, allBindings, data, context) {\n            var stringified = ko.observable(ko.unwrap(valueAccessor()));\n            stringified.subscribe(function(value) {\n                var val = parseFloat(value);\n                if (!isNaN(val)) {\n                    valueAccessor()(val);\n                }\n            });\n            valueAccessor().subscribe(function(value) {\n                var str = JSON.stringify(value);\n                if ((str == \"0\") && ([\"-0\", \"-0.\"].indexOf(stringified()) >= 0))\n                     return;\n                 if ([\"null\", \"\"].indexOf(str) >= 0)\n                     return;\n                stringified(str);\n            });\n            ko.applyBindingsToNode(\n                element,\n                {\n                    value: stringified,\n                    valueUpdate: allBindings.get('valueUpdate'),\n                },\n                context,\n            );\n        }\n    };\n    var json_data = {\"loading\":WebIO.getval({\"name\":\"loading\",\"scope\":\"3094818945018841898\",\"id\":\"15755661885531486544\",\"type\":\"observable\"}),\"clicks\":WebIO.getval({\"name\":\"clicks\",\"scope\":\"3094818945018841898\",\"id\":\"1586072674977631124\",\"type\":\"observable\"})};\n    var self = this;\n    function AppViewModel() {\n        for (var key in json_data) {\n            var el = json_data[key];\n            this[key] = Array.isArray(el) ? ko.observableArray(el) : ko.observable(el);\n        }\n        \n        \n        [this[\"loading\"].subscribe((function (val){!(this.valueFromJulia[\"loading\"]) ? (WebIO.setval({\"name\":\"loading\",\"scope\":\"3094818945018841898\",\"id\":\"15755661885531486544\",\"type\":\"observable\"},val)) : undefined; return this.valueFromJulia[\"loading\"]=false}),self),this[\"clicks\"].subscribe((function (val){!(this.valueFromJulia[\"clicks\"]) ? (WebIO.setval({\"name\":\"clicks\",\"scope\":\"3094818945018841898\",\"id\":\"1586072674977631124\",\"type\":\"observable\"},val)) : undefined; return this.valueFromJulia[\"clicks\"]=false}),self)]\n        \n    }\n    self.model = new AppViewModel();\n    self.valueFromJulia = {};\n    for (var key in json_data) {\n        self.valueFromJulia[key] = false;\n    }\n    ko.applyBindings(self.model, self.dom);\n}\n);\n    (WebIO.importBlock({\"data\":[{\"name\":\"knockout\",\"type\":\"js\",\"url\":\"/assetserver/727383f2a47bd31570b7da84eee7b022dd6d7c78-knockout.js\"},{\"name\":\"knockout_punches\",\"type\":\"js\",\"url\":\"/assetserver/382b41b3b1bd9f26f75861d360bad7f8beea211f-knockout_punches.js\"}],\"type\":\"async_block\"})).then((imports) => handler.apply(this, imports));\n}\n"
                  ],
                  "observables": {
                   "clicks": {
                    "id": "1586072674977631124",
                    "sync": true,
                    "value": 0
                   },
                   "loading": {
                    "id": "15755661885531486544",
                    "sync": false,
                    "value": false
                   }
                  },
                  "systemjs_options": null
                 },
                 "nodeType": "Scope",
                 "props": {},
                 "type": "node"
                }
               ],
               "instanceArgs": {
                "namespace": "html",
                "tag": "div"
               },
               "nodeType": "DOM",
               "props": {
                "className": "field interact-widget"
               },
               "type": "node"
              },
              {
               "children": [
                {
                 "children": [
                  {
                   "children": [],
                   "instanceArgs": {
                    "namespace": "html",
                    "tag": "div"
                   },
                   "nodeType": "DOM",
                   "props": {
                    "id": "container"
                   },
                   "type": "node"
                  }
                 ],
                 "instanceArgs": {
                  "handlers": {
                   "value": [
                    "(function (txt){return this.k.render(txt,this.container)})"
                   ]
                  },
                  "id": "3343413334418669112",
                  "imports": {
                   "data": [
                    {
                     "name": null,
                     "type": "js",
                     "url": "/assetserver/dd22ed1bf1896c2748f3fe616ce0b838adc895c1-katex.min.js"
                    },
                    {
                     "name": null,
                     "type": "css",
                     "url": "/assetserver/46517a424aa5e6cffc1360d7e0848b601c584ee3-katex.min.css"
                    }
                   ],
                   "type": "async_block"
                  },
                  "mount_callbacks": [
                   "function () {\n    var handler = ((function (k){this.k=k; this.container=this.dom.querySelector(\"#container\"); return k.render(\"\\\\;\\\\;\",this.container)}));\n    (WebIO.importBlock({\"data\":[{\"name\":null,\"type\":\"js\",\"url\":\"/assetserver/dd22ed1bf1896c2748f3fe616ce0b838adc895c1-katex.min.js\"},{\"name\":null,\"type\":\"css\",\"url\":\"/assetserver/46517a424aa5e6cffc1360d7e0848b601c584ee3-katex.min.css\"}],\"type\":\"async_block\"})).then((imports) => handler.apply(this, imports));\n}\n"
                  ],
                  "observables": {
                   "value": {
                    "id": "14516616340831225995",
                    "sync": false,
                    "value": "\\;\\;"
                   }
                  },
                  "systemjs_options": null
                 },
                 "nodeType": "Scope",
                 "props": {},
                 "type": "node"
                }
               ],
               "instanceArgs": {
                "namespace": "html",
                "tag": "div"
               },
               "nodeType": "DOM",
               "props": {
                "className": "interact-widget"
               },
               "type": "node"
              },
              {
               "children": [
                {
                 "children": [
                  {
                   "children": [
                    "stop"
                   ],
                   "instanceArgs": {
                    "namespace": "html",
                    "tag": "button"
                   },
                   "nodeType": "DOM",
                   "props": {
                    "attributes": {
                     "data-bind": "click: function (){this.clicks(this.clicks()+1)}, css: {'is-loading' : loading}"
                    },
                    "className": "is-medium button is-primary",
                    "style": {}
                   },
                   "type": "node"
                  }
                 ],
                 "instanceArgs": {
                  "handlers": {
                   "clicks": [
                    "(function (val){return (val!=this.model[\"clicks\"]()) ? (this.valueFromJulia[\"clicks\"]=true, this.model[\"clicks\"](val)) : undefined})"
                   ],
                   "loading": [
                    "(function (val){return (val!=this.model[\"loading\"]()) ? (this.valueFromJulia[\"loading\"]=true, this.model[\"loading\"](val)) : undefined})"
                   ]
                  },
                  "id": "10714935423168331701",
                  "imports": {
                   "data": [
                    {
                     "name": "knockout",
                     "type": "js",
                     "url": "/assetserver/727383f2a47bd31570b7da84eee7b022dd6d7c78-knockout.js"
                    },
                    {
                     "name": "knockout_punches",
                     "type": "js",
                     "url": "/assetserver/382b41b3b1bd9f26f75861d360bad7f8beea211f-knockout_punches.js"
                    },
                    {
                     "name": null,
                     "type": "js",
                     "url": "/assetserver/5ab20f1060420992a9b82a65b735dee4d81ef413-all.js"
                    },
                    {
                     "name": null,
                     "type": "css",
                     "url": "/assetserver/1cc0ed62837210b80a182cc3676512f895dab686-style.css"
                    },
                    {
                     "name": null,
                     "type": "css",
                     "url": "/assetserver/2eee816f616df3549d7044d45e744fbf8d42bfa1-bulma_confined.min.css"
                    }
                   ],
                   "type": "async_block"
                  },
                  "mount_callbacks": [
                   "function () {\n    var handler = (function (ko, koPunches) {\n    ko.punches.enableAll();\n    ko.bindingHandlers.numericValue = {\n        init: function(element, valueAccessor, allBindings, data, context) {\n            var stringified = ko.observable(ko.unwrap(valueAccessor()));\n            stringified.subscribe(function(value) {\n                var val = parseFloat(value);\n                if (!isNaN(val)) {\n                    valueAccessor()(val);\n                }\n            });\n            valueAccessor().subscribe(function(value) {\n                var str = JSON.stringify(value);\n                if ((str == \"0\") && ([\"-0\", \"-0.\"].indexOf(stringified()) >= 0))\n                     return;\n                 if ([\"null\", \"\"].indexOf(str) >= 0)\n                     return;\n                stringified(str);\n            });\n            ko.applyBindingsToNode(\n                element,\n                {\n                    value: stringified,\n                    valueUpdate: allBindings.get('valueUpdate'),\n                },\n                context,\n            );\n        }\n    };\n    var json_data = {\"loading\":WebIO.getval({\"name\":\"loading\",\"scope\":\"10714935423168331701\",\"id\":\"5975627050655836127\",\"type\":\"observable\"}),\"clicks\":WebIO.getval({\"name\":\"clicks\",\"scope\":\"10714935423168331701\",\"id\":\"10595227186403420676\",\"type\":\"observable\"})};\n    var self = this;\n    function AppViewModel() {\n        for (var key in json_data) {\n            var el = json_data[key];\n            this[key] = Array.isArray(el) ? ko.observableArray(el) : ko.observable(el);\n        }\n        \n        \n        [this[\"loading\"].subscribe((function (val){!(this.valueFromJulia[\"loading\"]) ? (WebIO.setval({\"name\":\"loading\",\"scope\":\"10714935423168331701\",\"id\":\"5975627050655836127\",\"type\":\"observable\"},val)) : undefined; return this.valueFromJulia[\"loading\"]=false}),self),this[\"clicks\"].subscribe((function (val){!(this.valueFromJulia[\"clicks\"]) ? (WebIO.setval({\"name\":\"clicks\",\"scope\":\"10714935423168331701\",\"id\":\"10595227186403420676\",\"type\":\"observable\"},val)) : undefined; return this.valueFromJulia[\"clicks\"]=false}),self)]\n        \n    }\n    self.model = new AppViewModel();\n    self.valueFromJulia = {};\n    for (var key in json_data) {\n        self.valueFromJulia[key] = false;\n    }\n    ko.applyBindings(self.model, self.dom);\n}\n);\n    (WebIO.importBlock({\"data\":[{\"name\":\"knockout\",\"type\":\"js\",\"url\":\"/assetserver/727383f2a47bd31570b7da84eee7b022dd6d7c78-knockout.js\"},{\"name\":\"knockout_punches\",\"type\":\"js\",\"url\":\"/assetserver/382b41b3b1bd9f26f75861d360bad7f8beea211f-knockout_punches.js\"}],\"type\":\"async_block\"})).then((imports) => handler.apply(this, imports));\n}\n"
                  ],
                  "observables": {
                   "clicks": {
                    "id": "10595227186403420676",
                    "sync": true,
                    "value": 0
                   },
                   "loading": {
                    "id": "5975627050655836127",
                    "sync": false,
                    "value": false
                   }
                  },
                  "systemjs_options": null
                 },
                 "nodeType": "Scope",
                 "props": {},
                 "type": "node"
                }
               ],
               "instanceArgs": {
                "namespace": "html",
                "tag": "div"
               },
               "nodeType": "DOM",
               "props": {
                "className": "field interact-widget"
               },
               "type": "node"
              },
              {
               "children": [
                {
                 "children": [
                  {
                   "children": [],
                   "instanceArgs": {
                    "namespace": "html",
                    "tag": "div"
                   },
                   "nodeType": "DOM",
                   "props": {
                    "id": "container"
                   },
                   "type": "node"
                  }
                 ],
                 "instanceArgs": {
                  "handlers": {
                   "value": [
                    "(function (txt){return this.k.render(txt,this.container)})"
                   ]
                  },
                  "id": "3343413334418669112",
                  "imports": {
                   "data": [
                    {
                     "name": null,
                     "type": "js",
                     "url": "/assetserver/dd22ed1bf1896c2748f3fe616ce0b838adc895c1-katex.min.js"
                    },
                    {
                     "name": null,
                     "type": "css",
                     "url": "/assetserver/46517a424aa5e6cffc1360d7e0848b601c584ee3-katex.min.css"
                    }
                   ],
                   "type": "async_block"
                  },
                  "mount_callbacks": [
                   "function () {\n    var handler = ((function (k){this.k=k; this.container=this.dom.querySelector(\"#container\"); return k.render(\"\\\\;\\\\;\",this.container)}));\n    (WebIO.importBlock({\"data\":[{\"name\":null,\"type\":\"js\",\"url\":\"/assetserver/dd22ed1bf1896c2748f3fe616ce0b838adc895c1-katex.min.js\"},{\"name\":null,\"type\":\"css\",\"url\":\"/assetserver/46517a424aa5e6cffc1360d7e0848b601c584ee3-katex.min.css\"}],\"type\":\"async_block\"})).then((imports) => handler.apply(this, imports));\n}\n"
                  ],
                  "observables": {
                   "value": {
                    "id": "14516616340831225995",
                    "sync": false,
                    "value": "\\;\\;"
                   }
                  },
                  "systemjs_options": null
                 },
                 "nodeType": "Scope",
                 "props": {},
                 "type": "node"
                }
               ],
               "instanceArgs": {
                "namespace": "html",
                "tag": "div"
               },
               "nodeType": "DOM",
               "props": {
                "className": "interact-widget"
               },
               "type": "node"
              },
              {
               "children": [
                {
                 "children": [
                  {
                   "children": [
                    "save"
                   ],
                   "instanceArgs": {
                    "namespace": "html",
                    "tag": "button"
                   },
                   "nodeType": "DOM",
                   "props": {
                    "attributes": {
                     "data-bind": "click: function (){this.clicks(this.clicks()+1)}, css: {'is-loading' : loading}"
                    },
                    "className": "is-medium button is-primary",
                    "style": {}
                   },
                   "type": "node"
                  }
                 ],
                 "instanceArgs": {
                  "handlers": {
                   "clicks": [
                    "(function (val){return (val!=this.model[\"clicks\"]()) ? (this.valueFromJulia[\"clicks\"]=true, this.model[\"clicks\"](val)) : undefined})"
                   ],
                   "loading": [
                    "(function (val){return (val!=this.model[\"loading\"]()) ? (this.valueFromJulia[\"loading\"]=true, this.model[\"loading\"](val)) : undefined})"
                   ]
                  },
                  "id": "4298016804772322662",
                  "imports": {
                   "data": [
                    {
                     "name": "knockout",
                     "type": "js",
                     "url": "/assetserver/727383f2a47bd31570b7da84eee7b022dd6d7c78-knockout.js"
                    },
                    {
                     "name": "knockout_punches",
                     "type": "js",
                     "url": "/assetserver/382b41b3b1bd9f26f75861d360bad7f8beea211f-knockout_punches.js"
                    },
                    {
                     "name": null,
                     "type": "js",
                     "url": "/assetserver/5ab20f1060420992a9b82a65b735dee4d81ef413-all.js"
                    },
                    {
                     "name": null,
                     "type": "css",
                     "url": "/assetserver/1cc0ed62837210b80a182cc3676512f895dab686-style.css"
                    },
                    {
                     "name": null,
                     "type": "css",
                     "url": "/assetserver/2eee816f616df3549d7044d45e744fbf8d42bfa1-bulma_confined.min.css"
                    }
                   ],
                   "type": "async_block"
                  },
                  "mount_callbacks": [
                   "function () {\n    var handler = (function (ko, koPunches) {\n    ko.punches.enableAll();\n    ko.bindingHandlers.numericValue = {\n        init: function(element, valueAccessor, allBindings, data, context) {\n            var stringified = ko.observable(ko.unwrap(valueAccessor()));\n            stringified.subscribe(function(value) {\n                var val = parseFloat(value);\n                if (!isNaN(val)) {\n                    valueAccessor()(val);\n                }\n            });\n            valueAccessor().subscribe(function(value) {\n                var str = JSON.stringify(value);\n                if ((str == \"0\") && ([\"-0\", \"-0.\"].indexOf(stringified()) >= 0))\n                     return;\n                 if ([\"null\", \"\"].indexOf(str) >= 0)\n                     return;\n                stringified(str);\n            });\n            ko.applyBindingsToNode(\n                element,\n                {\n                    value: stringified,\n                    valueUpdate: allBindings.get('valueUpdate'),\n                },\n                context,\n            );\n        }\n    };\n    var json_data = {\"loading\":WebIO.getval({\"name\":\"loading\",\"scope\":\"4298016804772322662\",\"id\":\"10708966222501892938\",\"type\":\"observable\"}),\"clicks\":WebIO.getval({\"name\":\"clicks\",\"scope\":\"4298016804772322662\",\"id\":\"13528944087225184632\",\"type\":\"observable\"})};\n    var self = this;\n    function AppViewModel() {\n        for (var key in json_data) {\n            var el = json_data[key];\n            this[key] = Array.isArray(el) ? ko.observableArray(el) : ko.observable(el);\n        }\n        \n        \n        [this[\"loading\"].subscribe((function (val){!(this.valueFromJulia[\"loading\"]) ? (WebIO.setval({\"name\":\"loading\",\"scope\":\"4298016804772322662\",\"id\":\"10708966222501892938\",\"type\":\"observable\"},val)) : undefined; return this.valueFromJulia[\"loading\"]=false}),self),this[\"clicks\"].subscribe((function (val){!(this.valueFromJulia[\"clicks\"]) ? (WebIO.setval({\"name\":\"clicks\",\"scope\":\"4298016804772322662\",\"id\":\"13528944087225184632\",\"type\":\"observable\"},val)) : undefined; return this.valueFromJulia[\"clicks\"]=false}),self)]\n        \n    }\n    self.model = new AppViewModel();\n    self.valueFromJulia = {};\n    for (var key in json_data) {\n        self.valueFromJulia[key] = false;\n    }\n    ko.applyBindings(self.model, self.dom);\n}\n);\n    (WebIO.importBlock({\"data\":[{\"name\":\"knockout\",\"type\":\"js\",\"url\":\"/assetserver/727383f2a47bd31570b7da84eee7b022dd6d7c78-knockout.js\"},{\"name\":\"knockout_punches\",\"type\":\"js\",\"url\":\"/assetserver/382b41b3b1bd9f26f75861d360bad7f8beea211f-knockout_punches.js\"}],\"type\":\"async_block\"})).then((imports) => handler.apply(this, imports));\n}\n"
                  ],
                  "observables": {
                   "clicks": {
                    "id": "13528944087225184632",
                    "sync": true,
                    "value": 0
                   },
                   "loading": {
                    "id": "10708966222501892938",
                    "sync": false,
                    "value": false
                   }
                  },
                  "systemjs_options": null
                 },
                 "nodeType": "Scope",
                 "props": {},
                 "type": "node"
                }
               ],
               "instanceArgs": {
                "namespace": "html",
                "tag": "div"
               },
               "nodeType": "DOM",
               "props": {
                "className": "field interact-widget"
               },
               "type": "node"
              }
             ],
             "instanceArgs": {
              "namespace": "html",
              "tag": "div"
             },
             "nodeType": "DOM",
             "props": {
              "style": {
               "display": "flex",
               "flex-direction": "row"
              }
             },
             "type": "node"
            }
           ],
           "instanceArgs": {
            "namespace": "html",
            "tag": "div"
           },
           "nodeType": "DOM",
           "props": {
            "style": {
             "display": "flex",
             "flex-direction": "column"
            }
           },
           "type": "node"
          },
          {
           "children": [
            {
             "children": [
              {
               "children": [],
               "instanceArgs": {
                "namespace": "html",
                "tag": "div"
               },
               "nodeType": "DOM",
               "props": {
                "id": "container"
               },
               "type": "node"
              }
             ],
             "instanceArgs": {
              "handlers": {
               "value": [
                "(function (txt){return this.k.render(txt,this.container)})"
               ]
              },
              "id": "3343413334418669112",
              "imports": {
               "data": [
                {
                 "name": null,
                 "type": "js",
                 "url": "/assetserver/dd22ed1bf1896c2748f3fe616ce0b838adc895c1-katex.min.js"
                },
                {
                 "name": null,
                 "type": "css",
                 "url": "/assetserver/46517a424aa5e6cffc1360d7e0848b601c584ee3-katex.min.css"
                }
               ],
               "type": "async_block"
              },
              "mount_callbacks": [
               "function () {\n    var handler = ((function (k){this.k=k; this.container=this.dom.querySelector(\"#container\"); return k.render(\"\\\\;\\\\;\",this.container)}));\n    (WebIO.importBlock({\"data\":[{\"name\":null,\"type\":\"js\",\"url\":\"/assetserver/dd22ed1bf1896c2748f3fe616ce0b838adc895c1-katex.min.js\"},{\"name\":null,\"type\":\"css\",\"url\":\"/assetserver/46517a424aa5e6cffc1360d7e0848b601c584ee3-katex.min.css\"}],\"type\":\"async_block\"})).then((imports) => handler.apply(this, imports));\n}\n"
              ],
              "observables": {
               "value": {
                "id": "14516616340831225995",
                "sync": false,
                "value": "\\;\\;"
               }
              },
              "systemjs_options": null
             },
             "nodeType": "Scope",
             "props": {},
             "type": "node"
            }
           ],
           "instanceArgs": {
            "namespace": "html",
            "tag": "div"
           },
           "nodeType": "DOM",
           "props": {
            "className": "interact-widget"
           },
           "type": "node"
          },
          {
           "children": [
            {
             "children": [],
             "instanceArgs": {
              "namespace": "html",
              "tag": "div"
             },
             "nodeType": "DOM",
             "props": {
              "className": "webio-observable",
              "setInnerHtml": "<img src='data:image/png;base64,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'></img>"
             },
             "type": "node"
            }
           ],
           "instanceArgs": {
            "handlers": {
             "obs-output": [
              "function (value, scope) {\n    scope.setInnerHTML(value);\n}\n"
             ]
            },
            "id": "12121214257492673249",
            "imports": {
             "data": [],
             "type": "async_block"
            },
            "mount_callbacks": [],
            "observables": {
             "obs-output": {
              "id": "2993701707423315791",
              "sync": false,
              "value": "<img src='data:image/png;base64,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'></img>"
             }
            },
            "systemjs_options": null
           },
           "nodeType": "Scope",
           "props": {},
           "type": "node"
          },
          {
           "children": [
            {
             "children": [
              {
               "children": [],
               "instanceArgs": {
                "namespace": "html",
                "tag": "div"
               },
               "nodeType": "DOM",
               "props": {
                "id": "container"
               },
               "type": "node"
              }
             ],
             "instanceArgs": {
              "handlers": {
               "value": [
                "(function (txt){return this.k.render(txt,this.container)})"
               ]
              },
              "id": "3343413334418669112",
              "imports": {
               "data": [
                {
                 "name": null,
                 "type": "js",
                 "url": "/assetserver/dd22ed1bf1896c2748f3fe616ce0b838adc895c1-katex.min.js"
                },
                {
                 "name": null,
                 "type": "css",
                 "url": "/assetserver/46517a424aa5e6cffc1360d7e0848b601c584ee3-katex.min.css"
                }
               ],
               "type": "async_block"
              },
              "mount_callbacks": [
               "function () {\n    var handler = ((function (k){this.k=k; this.container=this.dom.querySelector(\"#container\"); return k.render(\"\\\\;\\\\;\",this.container)}));\n    (WebIO.importBlock({\"data\":[{\"name\":null,\"type\":\"js\",\"url\":\"/assetserver/dd22ed1bf1896c2748f3fe616ce0b838adc895c1-katex.min.js\"},{\"name\":null,\"type\":\"css\",\"url\":\"/assetserver/46517a424aa5e6cffc1360d7e0848b601c584ee3-katex.min.css\"}],\"type\":\"async_block\"})).then((imports) => handler.apply(this, imports));\n}\n"
              ],
              "observables": {
               "value": {
                "id": "14516616340831225995",
                "sync": false,
                "value": "\\;\\;"
               }
              },
              "systemjs_options": null
             },
             "nodeType": "Scope",
             "props": {},
             "type": "node"
            }
           ],
           "instanceArgs": {
            "namespace": "html",
            "tag": "div"
           },
           "nodeType": "DOM",
           "props": {
            "className": "interact-widget"
           },
           "type": "node"
          },
          {
           "children": [],
           "instanceArgs": {
            "namespace": "html",
            "tag": "div"
           },
           "nodeType": "DOM",
           "props": {
            "style": {
             "display": "flex",
             "flex-direction": "column"
            }
           },
           "type": "node"
          }
         ],
         "instanceArgs": {
          "namespace": "html",
          "tag": "div"
         },
         "nodeType": "DOM",
         "props": {
          "style": {
           "display": "flex",
           "flex-direction": "row"
          }
         },
         "type": "node"
        }
       ],
       "instanceArgs": {
        "namespace": "html",
        "tag": "div"
       },
       "nodeType": "DOM",
       "props": {
        "style": {
         "display": "flex",
         "flex-direction": "column"
        }
       },
       "type": "node"
      },
      "text/html": [
       "<div\n",
       "    class=\"webio-mountpoint\"\n",
       "    data-webio-mountpoint=\"10293920144233591790\"\n",
       ">\n",
       "    <script>\n",
       "    (function(){\n",
       "    // Some integrations (namely, IJulia/Jupyter) use an alternate render pathway than\n",
       "    // just putting the html on the page. If WebIO isn't defined, then it's pretty likely\n",
       "    // that we're in one of those situations and the integration just isn't installed\n",
       "    // correctly.\n",
       "    if (typeof window.WebIO === \"undefined\") {\n",
       "        document\n",
       "            .querySelector('[data-webio-mountpoint=\"10293920144233591790\"]')\n",
       "            .innerHTML = (\n",
       "                '<div style=\"padding: 1em; background-color: #f8d6da; border: 1px solid #f5c6cb; font-weight: bold;\">' +\n",
       "                '<p><strong>WebIO not detected.</strong></p>' +\n",
       "                '<p>Please read ' +\n",
       "                '<a href=\"https://juliagizmos.github.io/WebIO.jl/latest/troubleshooting/not-detected/\" target=\"_blank\">the troubleshooting guide</a> ' +\n",
       "                'for more information on how to resolve this issue.</p>' +\n",
       "                '<p><a href=\"https://juliagizmos.github.io/WebIO.jl/latest/troubleshooting/not-detected/\" target=\"_blank\">https://juliagizmos.github.io/WebIO.jl/latest/troubleshooting/not-detected/</a></p>' +\n",
       "                '</div>'\n",
       "            );\n",
       "        return;\n",
       "    }\n",
       "    WebIO.mount(\n",
       "        document.querySelector('[data-webio-mountpoint=\"10293920144233591790\"]'),\n",
       "        {\"props\":{\"style\":{\"display\":\"flex\",\"flex-direction\":\"column\"}},\"nodeType\":\"DOM\",\"type\":\"node\",\"instanceArgs\":{\"namespace\":\"html\",\"tag\":\"div\"},\"children\":[{\"props\":{\"style\":{\"display\":\"flex\",\"flex-direction\":\"row\"}},\"nodeType\":\"DOM\",\"type\":\"node\",\"instanceArgs\":{\"namespace\":\"html\",\"tag\":\"div\"},\"children\":[{\"props\":{\"style\":{\"display\":\"flex\",\"flex-direction\":\"column\"}},\"nodeType\":\"DOM\",\"type\":\"node\",\"instanceArgs\":{\"namespace\":\"html\",\"tag\":\"div\"},\"children\":[{\"props\":{\"className\":\"field interact-widget\"},\"nodeType\":\"DOM\",\"type\":\"node\",\"instanceArgs\":{\"namespace\":\"html\",\"tag\":\"div\"},\"children\":[{\"props\":{},\"nodeType\":\"Scope\",\"type\":\"node\",\"instanceArgs\":{\"imports\":{\"data\":[{\"name\":\"knockout\",\"type\":\"js\",\"url\":\"\\/assetserver\\/727383f2a47bd31570b7da84eee7b022dd6d7c78-knockout.js\"},{\"name\":\"knockout_punches\",\"type\":\"js\",\"url\":\"\\/assetserver\\/382b41b3b1bd9f26f75861d360bad7f8beea211f-knockout_punches.js\"},{\"name\":null,\"type\":\"js\",\"url\":\"\\/assetserver\\/5ab20f1060420992a9b82a65b735dee4d81ef413-all.js\"},{\"name\":null,\"type\":\"css\",\"url\":\"\\/assetserver\\/1cc0ed62837210b80a182cc3676512f895dab686-style.css\"},{\"name\":null,\"type\":\"css\",\"url\":\"\\/assetserver\\/2eee816f616df3549d7044d45e744fbf8d42bfa1-bulma_confined.min.css\"}],\"type\":\"async_block\"},\"id\":\"5337995995308777405\",\"handlers\":{\"changes\":[\"(function (val){return (val!=this.model[\\\"changes\\\"]()) ? (this.valueFromJulia[\\\"changes\\\"]=true, this.model[\\\"changes\\\"](val)) : undefined})\"],\"index\":[\"(function (val){return (val!=this.model[\\\"index\\\"]()) ? (this.valueFromJulia[\\\"index\\\"]=true, this.model[\\\"index\\\"](val)) : undefined})\"]},\"systemjs_options\":null,\"mount_callbacks\":[\"function () {\\n    var handler = (function (ko, koPunches) {\\n    ko.punches.enableAll();\\n    ko.bindingHandlers.numericValue = {\\n        init: function(element, valueAccessor, allBindings, data, context) {\\n            var stringified = ko.observable(ko.unwrap(valueAccessor()));\\n            stringified.subscribe(function(value) {\\n                var val = parseFloat(value);\\n                if (!isNaN(val)) {\\n                    valueAccessor()(val);\\n                }\\n            });\\n            valueAccessor().subscribe(function(value) {\\n                var str = JSON.stringify(value);\\n                if ((str == \\\"0\\\") && ([\\\"-0\\\", \\\"-0.\\\"].indexOf(stringified()) >= 0))\\n                     return;\\n                 if ([\\\"null\\\", \\\"\\\"].indexOf(str) >= 0)\\n                     return;\\n                stringified(str);\\n            });\\n            ko.applyBindingsToNode(\\n                element,\\n                {\\n                    value: stringified,\\n                    valueUpdate: allBindings.get('valueUpdate'),\\n                },\\n                context,\\n            );\\n        }\\n    };\\n    var json_data = {\\\"formatted_vals\\\":[\\\"1\\\",\\\"2\\\",\\\"3\\\",\\\"4\\\",\\\"5\\\",\\\"6\\\",\\\"7\\\",\\\"8\\\",\\\"9\\\",\\\"10\\\",\\\"11\\\",\\\"12\\\",\\\"13\\\",\\\"14\\\",\\\"15\\\",\\\"16\\\",\\\"17\\\",\\\"18\\\",\\\"19\\\",\\\"20\\\",\\\"21\\\",\\\"22\\\",\\\"23\\\",\\\"24\\\",\\\"25\\\",\\\"26\\\",\\\"27\\\",\\\"28\\\",\\\"29\\\",\\\"30\\\",\\\"31\\\",\\\"32\\\",\\\"33\\\",\\\"34\\\",\\\"35\\\",\\\"36\\\",\\\"37\\\",\\\"38\\\",\\\"39\\\",\\\"40\\\",\\\"41\\\",\\\"42\\\",\\\"43\\\",\\\"44\\\",\\\"45\\\",\\\"46\\\",\\\"47\\\",\\\"48\\\",\\\"49\\\",\\\"50\\\",\\\"51\\\",\\\"52\\\",\\\"53\\\",\\\"54\\\",\\\"55\\\",\\\"56\\\",\\\"57\\\",\\\"58\\\",\\\"59\\\",\\\"60\\\",\\\"61\\\",\\\"62\\\",\\\"63\\\",\\\"64\\\",\\\"65\\\",\\\"66\\\",\\\"67\\\",\\\"68\\\",\\\"69\\\",\\\"70\\\",\\\"71\\\",\\\"72\\\",\\\"73\\\",\\\"74\\\",\\\"75\\\",\\\"76\\\",\\\"77\\\",\\\"78\\\",\\\"79\\\",\\\"80\\\",\\\"81\\\",\\\"82\\\",\\\"83\\\",\\\"84\\\",\\\"85\\\",\\\"86\\\",\\\"87\\\",\\\"88\\\",\\\"89\\\",\\\"90\\\",\\\"91\\\",\\\"92\\\",\\\"93\\\",\\\"94\\\",\\\"95\\\",\\\"96\\\",\\\"97\\\",\\\"98\\\",\\\"99\\\",\\\"100\\\",\\\"101\\\",\\\"102\\\",\\\"103\\\",\\\"104\\\",\\\"105\\\",\\\"106\\\",\\\"107\\\",\\\"108\\\",\\\"109\\\",\\\"110\\\",\\\"111\\\",\\\"112\\\",\\\"113\\\",\\\"114\\\",\\\"115\\\",\\\"116\\\",\\\"117\\\",\\\"118\\\",\\\"119\\\",\\\"120\\\",\\\"121\\\",\\\"122\\\",\\\"123\\\",\\\"124\\\",\\\"125\\\",\\\"126\\\",\\\"127\\\",\\\"128\\\",\\\"129\\\",\\\"130\\\",\\\"131\\\",\\\"132\\\",\\\"133\\\",\\\"134\\\",\\\"135\\\",\\\"136\\\",\\\"137\\\",\\\"138\\\",\\\"139\\\",\\\"140\\\",\\\"141\\\",\\\"142\\\",\\\"143\\\",\\\"144\\\",\\\"145\\\",\\\"146\\\",\\\"147\\\",\\\"148\\\",\\\"149\\\",\\\"150\\\",\\\"151\\\",\\\"152\\\",\\\"153\\\",\\\"154\\\",\\\"155\\\",\\\"156\\\",\\\"157\\\",\\\"158\\\",\\\"159\\\",\\\"160\\\",\\\"161\\\",\\\"162\\\",\\\"163\\\",\\\"164\\\",\\\"165\\\",\\\"166\\\",\\\"167\\\",\\\"168\\\",\\\"169\\\",\\\"170\\\",\\\"171\\\",\\\"172\\\",\\\"173\\\",\\\"174\\\",\\\"175\\\",\\\"176\\\",\\\"177\\\",\\\"178\\\",\\\"179\\\",\\\"180\\\",\\\"181\\\",\\\"182\\\",\\\"183\\\",\\\"184\\\",\\\"185\\\",\\\"186\\\",\\\"187\\\",\\\"188\\\",\\\"189\\\",\\\"190\\\",\\\"191\\\",\\\"192\\\",\\\"193\\\",\\\"194\\\",\\\"195\\\",\\\"196\\\",\\\"197\\\",\\\"198\\\",\\\"199\\\",\\\"200\\\",\\\"201\\\",\\\"202\\\",\\\"203\\\",\\\"204\\\",\\\"205\\\",\\\"206\\\",\\\"207\\\",\\\"208\\\",\\\"209\\\",\\\"210\\\",\\\"211\\\",\\\"212\\\",\\\"213\\\",\\\"214\\\",\\\"215\\\",\\\"216\\\",\\\"217\\\",\\\"218\\\",\\\"219\\\",\\\"220\\\",\\\"221\\\",\\\"222\\\",\\\"223\\\",\\\"224\\\",\\\"225\\\",\\\"226\\\",\\\"227\\\",\\\"228\\\",\\\"229\\\",\\\"230\\\",\\\"231\\\",\\\"232\\\",\\\"233\\\",\\\"234\\\",\\\"235\\\",\\\"236\\\",\\\"237\\\",\\\"238\\\",\\\"239\\\",\\\"240\\\",\\\"241\\\",\\\"242\\\",\\\"243\\\",\\\"244\\\",\\\"245\\\",\\\"246\\\",\\\"247\\\",\\\"248\\\",\\\"249\\\",\\\"250\\\",\\\"251\\\",\\\"252\\\",\\\"253\\\",\\\"254\\\",\\\"255\\\",\\\"256\\\",\\\"257\\\",\\\"258\\\",\\\"259\\\",\\\"260\\\",\\\"261\\\",\\\"262\\\",\\\"263\\\",\\\"264\\\",\\\"265\\\",\\\"266\\\",\\\"267\\\",\\\"268\\\",\\\"269\\\",\\\"270\\\",\\\"271\\\",\\\"272\\\",\\\"273\\\",\\\"274\\\",\\\"275\\\",\\\"276\\\",\\\"277\\\",\\\"278\\\",\\\"279\\\",\\\"280\\\",\\\"281\\\",\\\"282\\\",\\\"283\\\",\\\"284\\\",\\\"285\\\",\\\"286\\\",\\\"287\\\",\\\"288\\\",\\\"289\\\",\\\"290\\\",\\\"291\\\",\\\"292\\\",\\\"293\\\",\\\"294\\\",\\\"295\\\",\\\"296\\\",\\\"297\\\",\\\"298\\\",\\\"299\\\",\\\"300\\\",\\\"301\\\",\\\"302\\\",\\\"303\\\",\\\"304\\\",\\\"305\\\",\\\"306\\\",\\\"307\\\",\\\"308\\\",\\\"309\\\",\\\"310\\\",\\\"311\\\",\\\"312\\\",\\\"313\\\",\\\"314\\\",\\\"315\\\",\\\"316\\\",\\\"317\\\",\\\"318\\\",\\\"319\\\",\\\"320\\\",\\\"321\\\",\\\"322\\\",\\\"323\\\",\\\"324\\\",\\\"325\\\",\\\"326\\\",\\\"327\\\",\\\"328\\\",\\\"329\\\",\\\"330\\\",\\\"331\\\",\\\"332\\\",\\\"333\\\",\\\"334\\\",\\\"335\\\",\\\"336\\\",\\\"337\\\",\\\"338\\\",\\\"339\\\",\\\"340\\\",\\\"341\\\",\\\"342\\\",\\\"343\\\",\\\"344\\\",\\\"345\\\",\\\"346\\\",\\\"347\\\",\\\"348\\\",\\\"349\\\",\\\"350\\\",\\\"351\\\",\\\"352\\\",\\\"353\\\",\\\"354\\\",\\\"355\\\",\\\"356\\\",\\\"357\\\",\\\"358\\\",\\\"359\\\",\\\"360\\\",\\\"361\\\",\\\"362\\\",\\\"363\\\",\\\"364\\\",\\\"365\\\",\\\"366\\\",\\\"367\\\",\\\"368\\\",\\\"369\\\",\\\"370\\\",\\\"371\\\",\\\"372\\\",\\\"373\\\",\\\"374\\\",\\\"375\\\",\\\"376\\\",\\\"377\\\",\\\"378\\\",\\\"379\\\",\\\"380\\\",\\\"381\\\",\\\"382\\\",\\\"383\\\",\\\"384\\\",\\\"385\\\",\\\"386\\\",\\\"387\\\",\\\"388\\\",\\\"389\\\",\\\"390\\\",\\\"391\\\",\\\"392\\\",\\\"393\\\",\\\"394\\\",\\\"395\\\",\\\"396\\\",\\\"397\\\",\\\"398\\\",\\\"399\\\",\\\"400\\\",\\\"401\\\"],\\\"changes\\\":WebIO.getval({\\\"name\\\":\\\"changes\\\",\\\"scope\\\":\\\"5337995995308777405\\\",\\\"id\\\":\\\"427554821485086902\\\",\\\"type\\\":\\\"observable\\\"}),\\\"index\\\":WebIO.getval({\\\"name\\\":\\\"index\\\",\\\"scope\\\":\\\"5337995995308777405\\\",\\\"id\\\":\\\"18268589415323401286\\\",\\\"type\\\":\\\"observable\\\"})};\\n    var self = this;\\n    function AppViewModel() {\\n        for (var key in json_data) {\\n            var el = json_data[key];\\n            this[key] = Array.isArray(el) ? ko.observableArray(el) : ko.observable(el);\\n        }\\n        \\n        [this[\\\"formatted_val\\\"]=ko.computed(    function(){\\n        return this.formatted_vals()[parseInt(this.index())-(1)];\\n    }\\n,this)]\\n        [this[\\\"changes\\\"].subscribe((function (val){!(this.valueFromJulia[\\\"changes\\\"]) ? (WebIO.setval({\\\"name\\\":\\\"changes\\\",\\\"scope\\\":\\\"5337995995308777405\\\",\\\"id\\\":\\\"427554821485086902\\\",\\\"type\\\":\\\"observable\\\"},val)) : undefined; return this.valueFromJulia[\\\"changes\\\"]=false}),self),this[\\\"index\\\"].subscribe((function (val){!(this.valueFromJulia[\\\"index\\\"]) ? (WebIO.setval({\\\"name\\\":\\\"index\\\",\\\"scope\\\":\\\"5337995995308777405\\\",\\\"id\\\":\\\"18268589415323401286\\\",\\\"type\\\":\\\"observable\\\"},val)) : undefined; return this.valueFromJulia[\\\"index\\\"]=false}),self)]\\n        \\n    }\\n    self.model = new AppViewModel();\\n    self.valueFromJulia = {};\\n    for (var key in json_data) {\\n        self.valueFromJulia[key] = false;\\n    }\\n    ko.applyBindings(self.model, self.dom);\\n}\\n);\\n    (WebIO.importBlock({\\\"data\\\":[{\\\"name\\\":\\\"knockout\\\",\\\"type\\\":\\\"js\\\",\\\"url\\\":\\\"\\/assetserver\\/727383f2a47bd31570b7da84eee7b022dd6d7c78-knockout.js\\\"},{\\\"name\\\":\\\"knockout_punches\\\",\\\"type\\\":\\\"js\\\",\\\"url\\\":\\\"\\/assetserver\\/382b41b3b1bd9f26f75861d360bad7f8beea211f-knockout_punches.js\\\"}],\\\"type\\\":\\\"async_block\\\"})).then((imports) => handler.apply(this, imports));\\n}\\n\"],\"observables\":{\"changes\":{\"sync\":false,\"id\":\"427554821485086902\",\"value\":0},\"index\":{\"sync\":true,\"id\":\"18268589415323401286\",\"value\":201}}},\"children\":[{\"props\":{\"className\":\"interact-flex-row interact-widget\"},\"nodeType\":\"DOM\",\"type\":\"node\",\"instanceArgs\":{\"namespace\":\"html\",\"tag\":\"div\"},\"children\":[{\"props\":{\"className\":\"interact-flex-row-left\"},\"nodeType\":\"DOM\",\"type\":\"node\",\"instanceArgs\":{\"namespace\":\"html\",\"tag\":\"div\"},\"children\":[{\"props\":{\"className\":\"interact \",\"style\":{\"padding\":\"5px 10px 0px 10px\"}},\"nodeType\":\"DOM\",\"type\":\"node\",\"instanceArgs\":{\"namespace\":\"html\",\"tag\":\"label\"},\"children\":[\"time\"]}]},{\"props\":{\"className\":\"interact-flex-row-center\"},\"nodeType\":\"DOM\",\"type\":\"node\",\"instanceArgs\":{\"namespace\":\"html\",\"tag\":\"div\"},\"children\":[{\"props\":{\"max\":401,\"min\":1,\"attributes\":{\"type\":\"range\",\"data-bind\":\"numericValue: index, valueUpdate: 'input', event: {change: function (){this.changes(this.changes()+1)}}\",\"orient\":\"horizontal\"},\"step\":1,\"className\":\"slider slider is-fullwidth\",\"style\":{}},\"nodeType\":\"DOM\",\"type\":\"node\",\"instanceArgs\":{\"namespace\":\"html\",\"tag\":\"input\"},\"children\":[]}]},{\"props\":{\"className\":\"interact-flex-row-right\"},\"nodeType\":\"DOM\",\"type\":\"node\",\"instanceArgs\":{\"namespace\":\"html\",\"tag\":\"div\"},\"children\":[{\"props\":{\"attributes\":{\"data-bind\":\"text: formatted_val\"}},\"nodeType\":\"DOM\",\"type\":\"node\",\"instanceArgs\":{\"namespace\":\"html\",\"tag\":\"p\"},\"children\":[]}]}]}]}]},{\"props\":{\"className\":\"field interact-widget\"},\"nodeType\":\"DOM\",\"type\":\"node\",\"instanceArgs\":{\"namespace\":\"html\",\"tag\":\"div\"},\"children\":[{\"props\":{},\"nodeType\":\"Scope\",\"type\":\"node\",\"instanceArgs\":{\"imports\":{\"data\":[{\"name\":\"knockout\",\"type\":\"js\",\"url\":\"\\/assetserver\\/727383f2a47bd31570b7da84eee7b022dd6d7c78-knockout.js\"},{\"name\":\"knockout_punches\",\"type\":\"js\",\"url\":\"\\/assetserver\\/382b41b3b1bd9f26f75861d360bad7f8beea211f-knockout_punches.js\"},{\"name\":null,\"type\":\"js\",\"url\":\"\\/assetserver\\/5ab20f1060420992a9b82a65b735dee4d81ef413-all.js\"},{\"name\":null,\"type\":\"css\",\"url\":\"\\/assetserver\\/1cc0ed62837210b80a182cc3676512f895dab686-style.css\"},{\"name\":null,\"type\":\"css\",\"url\":\"\\/assetserver\\/2eee816f616df3549d7044d45e744fbf8d42bfa1-bulma_confined.min.css\"}],\"type\":\"async_block\"},\"id\":\"8597427775505468747\",\"handlers\":{\"changes\":[\"(function (val){return (val!=this.model[\\\"changes\\\"]()) ? (this.valueFromJulia[\\\"changes\\\"]=true, this.model[\\\"changes\\\"](val)) : undefined})\"],\"index\":[\"(function (val){return (val!=this.model[\\\"index\\\"]()) ? (this.valueFromJulia[\\\"index\\\"]=true, this.model[\\\"index\\\"](val)) : undefined})\"]},\"systemjs_options\":null,\"mount_callbacks\":[\"function () {\\n    var handler = (function (ko, koPunches) {\\n    ko.punches.enableAll();\\n    ko.bindingHandlers.numericValue = {\\n        init: function(element, valueAccessor, allBindings, data, context) {\\n            var stringified = ko.observable(ko.unwrap(valueAccessor()));\\n            stringified.subscribe(function(value) {\\n                var val = parseFloat(value);\\n                if (!isNaN(val)) {\\n                    valueAccessor()(val);\\n                }\\n            });\\n            valueAccessor().subscribe(function(value) {\\n                var str = JSON.stringify(value);\\n                if ((str == \\\"0\\\") && ([\\\"-0\\\", \\\"-0.\\\"].indexOf(stringified()) >= 0))\\n                     return;\\n                 if ([\\\"null\\\", \\\"\\\"].indexOf(str) >= 0)\\n                     return;\\n                stringified(str);\\n            });\\n            ko.applyBindingsToNode(\\n                element,\\n                {\\n                    value: stringified,\\n                    valueUpdate: allBindings.get('valueUpdate'),\\n                },\\n                context,\\n            );\\n        }\\n    };\\n    var json_data = {\\\"formatted_vals\\\":[\\\"0.1\\\",\\\"0.2\\\",\\\"0.3\\\",\\\"0.4\\\",\\\"0.5\\\",\\\"0.6\\\",\\\"0.7\\\",\\\"0.8\\\",\\\"0.9\\\",\\\"1.0\\\",\\\"1.1\\\",\\\"1.2\\\",\\\"1.3\\\",\\\"1.4\\\",\\\"1.5\\\",\\\"1.6\\\",\\\"1.7\\\",\\\"1.8\\\",\\\"1.9\\\",\\\"2.0\\\"],\\\"changes\\\":WebIO.getval({\\\"name\\\":\\\"changes\\\",\\\"scope\\\":\\\"8597427775505468747\\\",\\\"id\\\":\\\"13227534642141331596\\\",\\\"type\\\":\\\"observable\\\"}),\\\"index\\\":WebIO.getval({\\\"name\\\":\\\"index\\\",\\\"scope\\\":\\\"8597427775505468747\\\",\\\"id\\\":\\\"15159146073029502063\\\",\\\"type\\\":\\\"observable\\\"})};\\n    var self = this;\\n    function AppViewModel() {\\n        for (var key in json_data) {\\n            var el = json_data[key];\\n            this[key] = Array.isArray(el) ? ko.observableArray(el) : ko.observable(el);\\n        }\\n        \\n        [this[\\\"formatted_val\\\"]=ko.computed(    function(){\\n        return this.formatted_vals()[parseInt(this.index())-(1)];\\n    }\\n,this)]\\n        [this[\\\"changes\\\"].subscribe((function (val){!(this.valueFromJulia[\\\"changes\\\"]) ? (WebIO.setval({\\\"name\\\":\\\"changes\\\",\\\"scope\\\":\\\"8597427775505468747\\\",\\\"id\\\":\\\"13227534642141331596\\\",\\\"type\\\":\\\"observable\\\"},val)) : undefined; return this.valueFromJulia[\\\"changes\\\"]=false}),self),this[\\\"index\\\"].subscribe((function (val){!(this.valueFromJulia[\\\"index\\\"]) ? (WebIO.setval({\\\"name\\\":\\\"index\\\",\\\"scope\\\":\\\"8597427775505468747\\\",\\\"id\\\":\\\"15159146073029502063\\\",\\\"type\\\":\\\"observable\\\"},val)) : undefined; return this.valueFromJulia[\\\"index\\\"]=false}),self)]\\n        \\n    }\\n    self.model = new AppViewModel();\\n    self.valueFromJulia = {};\\n    for (var key in json_data) {\\n        self.valueFromJulia[key] = false;\\n    }\\n    ko.applyBindings(self.model, self.dom);\\n}\\n);\\n    (WebIO.importBlock({\\\"data\\\":[{\\\"name\\\":\\\"knockout\\\",\\\"type\\\":\\\"js\\\",\\\"url\\\":\\\"\\/assetserver\\/727383f2a47bd31570b7da84eee7b022dd6d7c78-knockout.js\\\"},{\\\"name\\\":\\\"knockout_punches\\\",\\\"type\\\":\\\"js\\\",\\\"url\\\":\\\"\\/assetserver\\/382b41b3b1bd9f26f75861d360bad7f8beea211f-knockout_punches.js\\\"}],\\\"type\\\":\\\"async_block\\\"})).then((imports) => handler.apply(this, imports));\\n}\\n\"],\"observables\":{\"changes\":{\"sync\":false,\"id\":\"13227534642141331596\",\"value\":0},\"index\":{\"sync\":true,\"id\":\"15159146073029502063\",\"value\":10}}},\"children\":[{\"props\":{\"className\":\"interact-flex-row interact-widget\"},\"nodeType\":\"DOM\",\"type\":\"node\",\"instanceArgs\":{\"namespace\":\"html\",\"tag\":\"div\"},\"children\":[{\"props\":{\"className\":\"interact-flex-row-left\"},\"nodeType\":\"DOM\",\"type\":\"node\",\"instanceArgs\":{\"namespace\":\"html\",\"tag\":\"div\"},\"children\":[{\"props\":{\"className\":\"interact \",\"style\":{\"padding\":\"5px 10px 0px 10px\"}},\"nodeType\":\"DOM\",\"type\":\"node\",\"instanceArgs\":{\"namespace\":\"html\",\"tag\":\"label\"},\"children\":[\"scale\"]}]},{\"props\":{\"className\":\"interact-flex-row-center\"},\"nodeType\":\"DOM\",\"type\":\"node\",\"instanceArgs\":{\"namespace\":\"html\",\"tag\":\"div\"},\"children\":[{\"props\":{\"max\":20,\"min\":1,\"attributes\":{\"type\":\"range\",\"data-bind\":\"numericValue: index, valueUpdate: 'input', event: {change: function (){this.changes(this.changes()+1)}}\",\"orient\":\"horizontal\"},\"step\":1,\"className\":\"slider slider is-fullwidth\",\"style\":{}},\"nodeType\":\"DOM\",\"type\":\"node\",\"instanceArgs\":{\"namespace\":\"html\",\"tag\":\"input\"},\"children\":[]}]},{\"props\":{\"className\":\"interact-flex-row-right\"},\"nodeType\":\"DOM\",\"type\":\"node\",\"instanceArgs\":{\"namespace\":\"html\",\"tag\":\"div\"},\"children\":[{\"props\":{\"attributes\":{\"data-bind\":\"text: formatted_val\"}},\"nodeType\":\"DOM\",\"type\":\"node\",\"instanceArgs\":{\"namespace\":\"html\",\"tag\":\"p\"},\"children\":[]}]}]}]}]},{\"props\":{\"style\":{\"display\":\"flex\",\"flex-direction\":\"row\"}},\"nodeType\":\"DOM\",\"type\":\"node\",\"instanceArgs\":{\"namespace\":\"html\",\"tag\":\"div\"},\"children\":[{\"props\":{\"className\":\"interact-widget\"},\"nodeType\":\"DOM\",\"type\":\"node\",\"instanceArgs\":{\"namespace\":\"html\",\"tag\":\"div\"},\"children\":[{\"props\":{},\"nodeType\":\"Scope\",\"type\":\"node\",\"instanceArgs\":{\"imports\":{\"data\":[{\"name\":null,\"type\":\"js\",\"url\":\"\\/assetserver\\/dd22ed1bf1896c2748f3fe616ce0b838adc895c1-katex.min.js\"},{\"name\":null,\"type\":\"css\",\"url\":\"\\/assetserver\\/46517a424aa5e6cffc1360d7e0848b601c584ee3-katex.min.css\"}],\"type\":\"async_block\"},\"id\":\"3343413334418669112\",\"handlers\":{\"value\":[\"(function (txt){return this.k.render(txt,this.container)})\"]},\"systemjs_options\":null,\"mount_callbacks\":[\"function () {\\n    var handler = ((function (k){this.k=k; this.container=this.dom.querySelector(\\\"#container\\\"); return k.render(\\\"\\\\\\\\;\\\\\\\\;\\\",this.container)}));\\n    (WebIO.importBlock({\\\"data\\\":[{\\\"name\\\":null,\\\"type\\\":\\\"js\\\",\\\"url\\\":\\\"\\/assetserver\\/dd22ed1bf1896c2748f3fe616ce0b838adc895c1-katex.min.js\\\"},{\\\"name\\\":null,\\\"type\\\":\\\"css\\\",\\\"url\\\":\\\"\\/assetserver\\/46517a424aa5e6cffc1360d7e0848b601c584ee3-katex.min.css\\\"}],\\\"type\\\":\\\"async_block\\\"})).then((imports) => handler.apply(this, imports));\\n}\\n\"],\"observables\":{\"value\":{\"sync\":false,\"id\":\"14516616340831225995\",\"value\":\"\\\\;\\\\;\"}}},\"children\":[{\"props\":{\"id\":\"container\"},\"nodeType\":\"DOM\",\"type\":\"node\",\"instanceArgs\":{\"namespace\":\"html\",\"tag\":\"div\"},\"children\":[]}]}]},{\"props\":{\"className\":\"field interact-widget\"},\"nodeType\":\"DOM\",\"type\":\"node\",\"instanceArgs\":{\"namespace\":\"html\",\"tag\":\"div\"},\"children\":[{\"props\":{},\"nodeType\":\"Scope\",\"type\":\"node\",\"instanceArgs\":{\"imports\":{\"data\":[{\"name\":\"knockout\",\"type\":\"js\",\"url\":\"\\/assetserver\\/727383f2a47bd31570b7da84eee7b022dd6d7c78-knockout.js\"},{\"name\":\"knockout_punches\",\"type\":\"js\",\"url\":\"\\/assetserver\\/382b41b3b1bd9f26f75861d360bad7f8beea211f-knockout_punches.js\"},{\"name\":null,\"type\":\"js\",\"url\":\"\\/assetserver\\/5ab20f1060420992a9b82a65b735dee4d81ef413-all.js\"},{\"name\":null,\"type\":\"css\",\"url\":\"\\/assetserver\\/1cc0ed62837210b80a182cc3676512f895dab686-style.css\"},{\"name\":null,\"type\":\"css\",\"url\":\"\\/assetserver\\/2eee816f616df3549d7044d45e744fbf8d42bfa1-bulma_confined.min.css\"}],\"type\":\"async_block\"},\"id\":\"3094818945018841898\",\"handlers\":{\"loading\":[\"(function (val){return (val!=this.model[\\\"loading\\\"]()) ? (this.valueFromJulia[\\\"loading\\\"]=true, this.model[\\\"loading\\\"](val)) : undefined})\"],\"clicks\":[\"(function (val){return (val!=this.model[\\\"clicks\\\"]()) ? (this.valueFromJulia[\\\"clicks\\\"]=true, this.model[\\\"clicks\\\"](val)) : undefined})\"]},\"systemjs_options\":null,\"mount_callbacks\":[\"function () {\\n    var handler = (function (ko, koPunches) {\\n    ko.punches.enableAll();\\n    ko.bindingHandlers.numericValue = {\\n        init: function(element, valueAccessor, allBindings, data, context) {\\n            var stringified = ko.observable(ko.unwrap(valueAccessor()));\\n            stringified.subscribe(function(value) {\\n                var val = parseFloat(value);\\n                if (!isNaN(val)) {\\n                    valueAccessor()(val);\\n                }\\n            });\\n            valueAccessor().subscribe(function(value) {\\n                var str = JSON.stringify(value);\\n                if ((str == \\\"0\\\") && ([\\\"-0\\\", \\\"-0.\\\"].indexOf(stringified()) >= 0))\\n                     return;\\n                 if ([\\\"null\\\", \\\"\\\"].indexOf(str) >= 0)\\n                     return;\\n                stringified(str);\\n            });\\n            ko.applyBindingsToNode(\\n                element,\\n                {\\n                    value: stringified,\\n                    valueUpdate: allBindings.get('valueUpdate'),\\n                },\\n                context,\\n            );\\n        }\\n    };\\n    var json_data = {\\\"loading\\\":WebIO.getval({\\\"name\\\":\\\"loading\\\",\\\"scope\\\":\\\"3094818945018841898\\\",\\\"id\\\":\\\"15755661885531486544\\\",\\\"type\\\":\\\"observable\\\"}),\\\"clicks\\\":WebIO.getval({\\\"name\\\":\\\"clicks\\\",\\\"scope\\\":\\\"3094818945018841898\\\",\\\"id\\\":\\\"1586072674977631124\\\",\\\"type\\\":\\\"observable\\\"})};\\n    var self = this;\\n    function AppViewModel() {\\n        for (var key in json_data) {\\n            var el = json_data[key];\\n            this[key] = Array.isArray(el) ? ko.observableArray(el) : ko.observable(el);\\n        }\\n        \\n        \\n        [this[\\\"loading\\\"].subscribe((function (val){!(this.valueFromJulia[\\\"loading\\\"]) ? (WebIO.setval({\\\"name\\\":\\\"loading\\\",\\\"scope\\\":\\\"3094818945018841898\\\",\\\"id\\\":\\\"15755661885531486544\\\",\\\"type\\\":\\\"observable\\\"},val)) : undefined; return this.valueFromJulia[\\\"loading\\\"]=false}),self),this[\\\"clicks\\\"].subscribe((function (val){!(this.valueFromJulia[\\\"clicks\\\"]) ? (WebIO.setval({\\\"name\\\":\\\"clicks\\\",\\\"scope\\\":\\\"3094818945018841898\\\",\\\"id\\\":\\\"1586072674977631124\\\",\\\"type\\\":\\\"observable\\\"},val)) : undefined; return this.valueFromJulia[\\\"clicks\\\"]=false}),self)]\\n        \\n    }\\n    self.model = new AppViewModel();\\n    self.valueFromJulia = {};\\n    for (var key in json_data) {\\n        self.valueFromJulia[key] = false;\\n    }\\n    ko.applyBindings(self.model, self.dom);\\n}\\n);\\n    (WebIO.importBlock({\\\"data\\\":[{\\\"name\\\":\\\"knockout\\\",\\\"type\\\":\\\"js\\\",\\\"url\\\":\\\"\\/assetserver\\/727383f2a47bd31570b7da84eee7b022dd6d7c78-knockout.js\\\"},{\\\"name\\\":\\\"knockout_punches\\\",\\\"type\\\":\\\"js\\\",\\\"url\\\":\\\"\\/assetserver\\/382b41b3b1bd9f26f75861d360bad7f8beea211f-knockout_punches.js\\\"}],\\\"type\\\":\\\"async_block\\\"})).then((imports) => handler.apply(this, imports));\\n}\\n\"],\"observables\":{\"loading\":{\"sync\":false,\"id\":\"15755661885531486544\",\"value\":false},\"clicks\":{\"sync\":true,\"id\":\"1586072674977631124\",\"value\":0}}},\"children\":[{\"props\":{\"attributes\":{\"data-bind\":\"click: function (){this.clicks(this.clicks()+1)}, css: {'is-loading' : loading}\"},\"className\":\"is-medium button is-primary\",\"style\":{}},\"nodeType\":\"DOM\",\"type\":\"node\",\"instanceArgs\":{\"namespace\":\"html\",\"tag\":\"button\"},\"children\":[\"run\"]}]}]},{\"props\":{\"className\":\"interact-widget\"},\"nodeType\":\"DOM\",\"type\":\"node\",\"instanceArgs\":{\"namespace\":\"html\",\"tag\":\"div\"},\"children\":[{\"props\":{},\"nodeType\":\"Scope\",\"type\":\"node\",\"instanceArgs\":{\"imports\":{\"data\":[{\"name\":null,\"type\":\"js\",\"url\":\"\\/assetserver\\/dd22ed1bf1896c2748f3fe616ce0b838adc895c1-katex.min.js\"},{\"name\":null,\"type\":\"css\",\"url\":\"\\/assetserver\\/46517a424aa5e6cffc1360d7e0848b601c584ee3-katex.min.css\"}],\"type\":\"async_block\"},\"id\":\"3343413334418669112\",\"handlers\":{\"value\":[\"(function (txt){return this.k.render(txt,this.container)})\"]},\"systemjs_options\":null,\"mount_callbacks\":[\"function () {\\n    var handler = ((function (k){this.k=k; this.container=this.dom.querySelector(\\\"#container\\\"); return k.render(\\\"\\\\\\\\;\\\\\\\\;\\\",this.container)}));\\n    (WebIO.importBlock({\\\"data\\\":[{\\\"name\\\":null,\\\"type\\\":\\\"js\\\",\\\"url\\\":\\\"\\/assetserver\\/dd22ed1bf1896c2748f3fe616ce0b838adc895c1-katex.min.js\\\"},{\\\"name\\\":null,\\\"type\\\":\\\"css\\\",\\\"url\\\":\\\"\\/assetserver\\/46517a424aa5e6cffc1360d7e0848b601c584ee3-katex.min.css\\\"}],\\\"type\\\":\\\"async_block\\\"})).then((imports) => handler.apply(this, imports));\\n}\\n\"],\"observables\":{\"value\":{\"sync\":false,\"id\":\"14516616340831225995\",\"value\":\"\\\\;\\\\;\"}}},\"children\":[{\"props\":{\"id\":\"container\"},\"nodeType\":\"DOM\",\"type\":\"node\",\"instanceArgs\":{\"namespace\":\"html\",\"tag\":\"div\"},\"children\":[]}]}]},{\"props\":{\"className\":\"field interact-widget\"},\"nodeType\":\"DOM\",\"type\":\"node\",\"instanceArgs\":{\"namespace\":\"html\",\"tag\":\"div\"},\"children\":[{\"props\":{},\"nodeType\":\"Scope\",\"type\":\"node\",\"instanceArgs\":{\"imports\":{\"data\":[{\"name\":\"knockout\",\"type\":\"js\",\"url\":\"\\/assetserver\\/727383f2a47bd31570b7da84eee7b022dd6d7c78-knockout.js\"},{\"name\":\"knockout_punches\",\"type\":\"js\",\"url\":\"\\/assetserver\\/382b41b3b1bd9f26f75861d360bad7f8beea211f-knockout_punches.js\"},{\"name\":null,\"type\":\"js\",\"url\":\"\\/assetserver\\/5ab20f1060420992a9b82a65b735dee4d81ef413-all.js\"},{\"name\":null,\"type\":\"css\",\"url\":\"\\/assetserver\\/1cc0ed62837210b80a182cc3676512f895dab686-style.css\"},{\"name\":null,\"type\":\"css\",\"url\":\"\\/assetserver\\/2eee816f616df3549d7044d45e744fbf8d42bfa1-bulma_confined.min.css\"}],\"type\":\"async_block\"},\"id\":\"10714935423168331701\",\"handlers\":{\"loading\":[\"(function (val){return (val!=this.model[\\\"loading\\\"]()) ? (this.valueFromJulia[\\\"loading\\\"]=true, this.model[\\\"loading\\\"](val)) : undefined})\"],\"clicks\":[\"(function (val){return (val!=this.model[\\\"clicks\\\"]()) ? (this.valueFromJulia[\\\"clicks\\\"]=true, this.model[\\\"clicks\\\"](val)) : undefined})\"]},\"systemjs_options\":null,\"mount_callbacks\":[\"function () {\\n    var handler = (function (ko, koPunches) {\\n    ko.punches.enableAll();\\n    ko.bindingHandlers.numericValue = {\\n        init: function(element, valueAccessor, allBindings, data, context) {\\n            var stringified = ko.observable(ko.unwrap(valueAccessor()));\\n            stringified.subscribe(function(value) {\\n                var val = parseFloat(value);\\n                if (!isNaN(val)) {\\n                    valueAccessor()(val);\\n                }\\n            });\\n            valueAccessor().subscribe(function(value) {\\n                var str = JSON.stringify(value);\\n                if ((str == \\\"0\\\") && ([\\\"-0\\\", \\\"-0.\\\"].indexOf(stringified()) >= 0))\\n                     return;\\n                 if ([\\\"null\\\", \\\"\\\"].indexOf(str) >= 0)\\n                     return;\\n                stringified(str);\\n            });\\n            ko.applyBindingsToNode(\\n                element,\\n                {\\n                    value: stringified,\\n                    valueUpdate: allBindings.get('valueUpdate'),\\n                },\\n                context,\\n            );\\n        }\\n    };\\n    var json_data = {\\\"loading\\\":WebIO.getval({\\\"name\\\":\\\"loading\\\",\\\"scope\\\":\\\"10714935423168331701\\\",\\\"id\\\":\\\"5975627050655836127\\\",\\\"type\\\":\\\"observable\\\"}),\\\"clicks\\\":WebIO.getval({\\\"name\\\":\\\"clicks\\\",\\\"scope\\\":\\\"10714935423168331701\\\",\\\"id\\\":\\\"10595227186403420676\\\",\\\"type\\\":\\\"observable\\\"})};\\n    var self = this;\\n    function AppViewModel() {\\n        for (var key in json_data) {\\n            var el = json_data[key];\\n            this[key] = Array.isArray(el) ? ko.observableArray(el) : ko.observable(el);\\n        }\\n        \\n        \\n        [this[\\\"loading\\\"].subscribe((function (val){!(this.valueFromJulia[\\\"loading\\\"]) ? (WebIO.setval({\\\"name\\\":\\\"loading\\\",\\\"scope\\\":\\\"10714935423168331701\\\",\\\"id\\\":\\\"5975627050655836127\\\",\\\"type\\\":\\\"observable\\\"},val)) : undefined; return this.valueFromJulia[\\\"loading\\\"]=false}),self),this[\\\"clicks\\\"].subscribe((function (val){!(this.valueFromJulia[\\\"clicks\\\"]) ? (WebIO.setval({\\\"name\\\":\\\"clicks\\\",\\\"scope\\\":\\\"10714935423168331701\\\",\\\"id\\\":\\\"10595227186403420676\\\",\\\"type\\\":\\\"observable\\\"},val)) : undefined; return this.valueFromJulia[\\\"clicks\\\"]=false}),self)]\\n        \\n    }\\n    self.model = new AppViewModel();\\n    self.valueFromJulia = {};\\n    for (var key in json_data) {\\n        self.valueFromJulia[key] = false;\\n    }\\n    ko.applyBindings(self.model, self.dom);\\n}\\n);\\n    (WebIO.importBlock({\\\"data\\\":[{\\\"name\\\":\\\"knockout\\\",\\\"type\\\":\\\"js\\\",\\\"url\\\":\\\"\\/assetserver\\/727383f2a47bd31570b7da84eee7b022dd6d7c78-knockout.js\\\"},{\\\"name\\\":\\\"knockout_punches\\\",\\\"type\\\":\\\"js\\\",\\\"url\\\":\\\"\\/assetserver\\/382b41b3b1bd9f26f75861d360bad7f8beea211f-knockout_punches.js\\\"}],\\\"type\\\":\\\"async_block\\\"})).then((imports) => handler.apply(this, imports));\\n}\\n\"],\"observables\":{\"loading\":{\"sync\":false,\"id\":\"5975627050655836127\",\"value\":false},\"clicks\":{\"sync\":true,\"id\":\"10595227186403420676\",\"value\":0}}},\"children\":[{\"props\":{\"attributes\":{\"data-bind\":\"click: function (){this.clicks(this.clicks()+1)}, css: {'is-loading' : loading}\"},\"className\":\"is-medium button is-primary\",\"style\":{}},\"nodeType\":\"DOM\",\"type\":\"node\",\"instanceArgs\":{\"namespace\":\"html\",\"tag\":\"button\"},\"children\":[\"stop\"]}]}]},{\"props\":{\"className\":\"interact-widget\"},\"nodeType\":\"DOM\",\"type\":\"node\",\"instanceArgs\":{\"namespace\":\"html\",\"tag\":\"div\"},\"children\":[{\"props\":{},\"nodeType\":\"Scope\",\"type\":\"node\",\"instanceArgs\":{\"imports\":{\"data\":[{\"name\":null,\"type\":\"js\",\"url\":\"\\/assetserver\\/dd22ed1bf1896c2748f3fe616ce0b838adc895c1-katex.min.js\"},{\"name\":null,\"type\":\"css\",\"url\":\"\\/assetserver\\/46517a424aa5e6cffc1360d7e0848b601c584ee3-katex.min.css\"}],\"type\":\"async_block\"},\"id\":\"3343413334418669112\",\"handlers\":{\"value\":[\"(function (txt){return this.k.render(txt,this.container)})\"]},\"systemjs_options\":null,\"mount_callbacks\":[\"function () {\\n    var handler = ((function (k){this.k=k; this.container=this.dom.querySelector(\\\"#container\\\"); return k.render(\\\"\\\\\\\\;\\\\\\\\;\\\",this.container)}));\\n    (WebIO.importBlock({\\\"data\\\":[{\\\"name\\\":null,\\\"type\\\":\\\"js\\\",\\\"url\\\":\\\"\\/assetserver\\/dd22ed1bf1896c2748f3fe616ce0b838adc895c1-katex.min.js\\\"},{\\\"name\\\":null,\\\"type\\\":\\\"css\\\",\\\"url\\\":\\\"\\/assetserver\\/46517a424aa5e6cffc1360d7e0848b601c584ee3-katex.min.css\\\"}],\\\"type\\\":\\\"async_block\\\"})).then((imports) => handler.apply(this, imports));\\n}\\n\"],\"observables\":{\"value\":{\"sync\":false,\"id\":\"14516616340831225995\",\"value\":\"\\\\;\\\\;\"}}},\"children\":[{\"props\":{\"id\":\"container\"},\"nodeType\":\"DOM\",\"type\":\"node\",\"instanceArgs\":{\"namespace\":\"html\",\"tag\":\"div\"},\"children\":[]}]}]},{\"props\":{\"className\":\"field interact-widget\"},\"nodeType\":\"DOM\",\"type\":\"node\",\"instanceArgs\":{\"namespace\":\"html\",\"tag\":\"div\"},\"children\":[{\"props\":{},\"nodeType\":\"Scope\",\"type\":\"node\",\"instanceArgs\":{\"imports\":{\"data\":[{\"name\":\"knockout\",\"type\":\"js\",\"url\":\"\\/assetserver\\/727383f2a47bd31570b7da84eee7b022dd6d7c78-knockout.js\"},{\"name\":\"knockout_punches\",\"type\":\"js\",\"url\":\"\\/assetserver\\/382b41b3b1bd9f26f75861d360bad7f8beea211f-knockout_punches.js\"},{\"name\":null,\"type\":\"js\",\"url\":\"\\/assetserver\\/5ab20f1060420992a9b82a65b735dee4d81ef413-all.js\"},{\"name\":null,\"type\":\"css\",\"url\":\"\\/assetserver\\/1cc0ed62837210b80a182cc3676512f895dab686-style.css\"},{\"name\":null,\"type\":\"css\",\"url\":\"\\/assetserver\\/2eee816f616df3549d7044d45e744fbf8d42bfa1-bulma_confined.min.css\"}],\"type\":\"async_block\"},\"id\":\"4298016804772322662\",\"handlers\":{\"loading\":[\"(function (val){return (val!=this.model[\\\"loading\\\"]()) ? (this.valueFromJulia[\\\"loading\\\"]=true, this.model[\\\"loading\\\"](val)) : undefined})\"],\"clicks\":[\"(function (val){return (val!=this.model[\\\"clicks\\\"]()) ? (this.valueFromJulia[\\\"clicks\\\"]=true, this.model[\\\"clicks\\\"](val)) : undefined})\"]},\"systemjs_options\":null,\"mount_callbacks\":[\"function () {\\n    var handler = (function (ko, koPunches) {\\n    ko.punches.enableAll();\\n    ko.bindingHandlers.numericValue = {\\n        init: function(element, valueAccessor, allBindings, data, context) {\\n            var stringified = ko.observable(ko.unwrap(valueAccessor()));\\n            stringified.subscribe(function(value) {\\n                var val = parseFloat(value);\\n                if (!isNaN(val)) {\\n                    valueAccessor()(val);\\n                }\\n            });\\n            valueAccessor().subscribe(function(value) {\\n                var str = JSON.stringify(value);\\n                if ((str == \\\"0\\\") && ([\\\"-0\\\", \\\"-0.\\\"].indexOf(stringified()) >= 0))\\n                     return;\\n                 if ([\\\"null\\\", \\\"\\\"].indexOf(str) >= 0)\\n                     return;\\n                stringified(str);\\n            });\\n            ko.applyBindingsToNode(\\n                element,\\n                {\\n                    value: stringified,\\n                    valueUpdate: allBindings.get('valueUpdate'),\\n                },\\n                context,\\n            );\\n        }\\n    };\\n    var json_data = {\\\"loading\\\":WebIO.getval({\\\"name\\\":\\\"loading\\\",\\\"scope\\\":\\\"4298016804772322662\\\",\\\"id\\\":\\\"10708966222501892938\\\",\\\"type\\\":\\\"observable\\\"}),\\\"clicks\\\":WebIO.getval({\\\"name\\\":\\\"clicks\\\",\\\"scope\\\":\\\"4298016804772322662\\\",\\\"id\\\":\\\"13528944087225184632\\\",\\\"type\\\":\\\"observable\\\"})};\\n    var self = this;\\n    function AppViewModel() {\\n        for (var key in json_data) {\\n            var el = json_data[key];\\n            this[key] = Array.isArray(el) ? ko.observableArray(el) : ko.observable(el);\\n        }\\n        \\n        \\n        [this[\\\"loading\\\"].subscribe((function (val){!(this.valueFromJulia[\\\"loading\\\"]) ? (WebIO.setval({\\\"name\\\":\\\"loading\\\",\\\"scope\\\":\\\"4298016804772322662\\\",\\\"id\\\":\\\"10708966222501892938\\\",\\\"type\\\":\\\"observable\\\"},val)) : undefined; return this.valueFromJulia[\\\"loading\\\"]=false}),self),this[\\\"clicks\\\"].subscribe((function (val){!(this.valueFromJulia[\\\"clicks\\\"]) ? (WebIO.setval({\\\"name\\\":\\\"clicks\\\",\\\"scope\\\":\\\"4298016804772322662\\\",\\\"id\\\":\\\"13528944087225184632\\\",\\\"type\\\":\\\"observable\\\"},val)) : undefined; return this.valueFromJulia[\\\"clicks\\\"]=false}),self)]\\n        \\n    }\\n    self.model = new AppViewModel();\\n    self.valueFromJulia = {};\\n    for (var key in json_data) {\\n        self.valueFromJulia[key] = false;\\n    }\\n    ko.applyBindings(self.model, self.dom);\\n}\\n);\\n    (WebIO.importBlock({\\\"data\\\":[{\\\"name\\\":\\\"knockout\\\",\\\"type\\\":\\\"js\\\",\\\"url\\\":\\\"\\/assetserver\\/727383f2a47bd31570b7da84eee7b022dd6d7c78-knockout.js\\\"},{\\\"name\\\":\\\"knockout_punches\\\",\\\"type\\\":\\\"js\\\",\\\"url\\\":\\\"\\/assetserver\\/382b41b3b1bd9f26f75861d360bad7f8beea211f-knockout_punches.js\\\"}],\\\"type\\\":\\\"async_block\\\"})).then((imports) => handler.apply(this, imports));\\n}\\n\"],\"observables\":{\"loading\":{\"sync\":false,\"id\":\"10708966222501892938\",\"value\":false},\"clicks\":{\"sync\":true,\"id\":\"13528944087225184632\",\"value\":0}}},\"children\":[{\"props\":{\"attributes\":{\"data-bind\":\"click: function (){this.clicks(this.clicks()+1)}, css: {'is-loading' : loading}\"},\"className\":\"is-medium button is-primary\",\"style\":{}},\"nodeType\":\"DOM\",\"type\":\"node\",\"instanceArgs\":{\"namespace\":\"html\",\"tag\":\"button\"},\"children\":[\"save\"]}]}]}]}]},{\"props\":{\"className\":\"interact-widget\"},\"nodeType\":\"DOM\",\"type\":\"node\",\"instanceArgs\":{\"namespace\":\"html\",\"tag\":\"div\"},\"children\":[{\"props\":{},\"nodeType\":\"Scope\",\"type\":\"node\",\"instanceArgs\":{\"imports\":{\"data\":[{\"name\":null,\"type\":\"js\",\"url\":\"\\/assetserver\\/dd22ed1bf1896c2748f3fe616ce0b838adc895c1-katex.min.js\"},{\"name\":null,\"type\":\"css\",\"url\":\"\\/assetserver\\/46517a424aa5e6cffc1360d7e0848b601c584ee3-katex.min.css\"}],\"type\":\"async_block\"},\"id\":\"3343413334418669112\",\"handlers\":{\"value\":[\"(function (txt){return this.k.render(txt,this.container)})\"]},\"systemjs_options\":null,\"mount_callbacks\":[\"function () {\\n    var handler = ((function (k){this.k=k; this.container=this.dom.querySelector(\\\"#container\\\"); return k.render(\\\"\\\\\\\\;\\\\\\\\;\\\",this.container)}));\\n    (WebIO.importBlock({\\\"data\\\":[{\\\"name\\\":null,\\\"type\\\":\\\"js\\\",\\\"url\\\":\\\"\\/assetserver\\/dd22ed1bf1896c2748f3fe616ce0b838adc895c1-katex.min.js\\\"},{\\\"name\\\":null,\\\"type\\\":\\\"css\\\",\\\"url\\\":\\\"\\/assetserver\\/46517a424aa5e6cffc1360d7e0848b601c584ee3-katex.min.css\\\"}],\\\"type\\\":\\\"async_block\\\"})).then((imports) => handler.apply(this, imports));\\n}\\n\"],\"observables\":{\"value\":{\"sync\":false,\"id\":\"14516616340831225995\",\"value\":\"\\\\;\\\\;\"}}},\"children\":[{\"props\":{\"id\":\"container\"},\"nodeType\":\"DOM\",\"type\":\"node\",\"instanceArgs\":{\"namespace\":\"html\",\"tag\":\"div\"},\"children\":[]}]}]},{\"props\":{},\"nodeType\":\"Scope\",\"type\":\"node\",\"instanceArgs\":{\"imports\":{\"data\":[],\"type\":\"async_block\"},\"id\":\"5495915414329682909\",\"handlers\":{\"obs-output\":[\"function (value, scope) {\\n    scope.setInnerHTML(value);\\n}\\n\"]},\"systemjs_options\":null,\"mount_callbacks\":[],\"observables\":{\"obs-output\":{\"sync\":false,\"id\":\"8429369634248053166\",\"value\":\"<img src='data:image\\/png;base64,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'><\\/img>\"}}},\"children\":[{\"props\":{\"className\":\"webio-observable\",\"setInnerHtml\":\"<img src='data:image\\/png;base64,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'><\\/img>\"},\"nodeType\":\"DOM\",\"type\":\"node\",\"instanceArgs\":{\"namespace\":\"html\",\"tag\":\"div\"},\"children\":[]}]},{\"props\":{\"className\":\"interact-widget\"},\"nodeType\":\"DOM\",\"type\":\"node\",\"instanceArgs\":{\"namespace\":\"html\",\"tag\":\"div\"},\"children\":[{\"props\":{},\"nodeType\":\"Scope\",\"type\":\"node\",\"instanceArgs\":{\"imports\":{\"data\":[{\"name\":null,\"type\":\"js\",\"url\":\"\\/assetserver\\/dd22ed1bf1896c2748f3fe616ce0b838adc895c1-katex.min.js\"},{\"name\":null,\"type\":\"css\",\"url\":\"\\/assetserver\\/46517a424aa5e6cffc1360d7e0848b601c584ee3-katex.min.css\"}],\"type\":\"async_block\"},\"id\":\"3343413334418669112\",\"handlers\":{\"value\":[\"(function (txt){return this.k.render(txt,this.container)})\"]},\"systemjs_options\":null,\"mount_callbacks\":[\"function () {\\n    var handler = ((function (k){this.k=k; this.container=this.dom.querySelector(\\\"#container\\\"); return k.render(\\\"\\\\\\\\;\\\\\\\\;\\\",this.container)}));\\n    (WebIO.importBlock({\\\"data\\\":[{\\\"name\\\":null,\\\"type\\\":\\\"js\\\",\\\"url\\\":\\\"\\/assetserver\\/dd22ed1bf1896c2748f3fe616ce0b838adc895c1-katex.min.js\\\"},{\\\"name\\\":null,\\\"type\\\":\\\"css\\\",\\\"url\\\":\\\"\\/assetserver\\/46517a424aa5e6cffc1360d7e0848b601c584ee3-katex.min.css\\\"}],\\\"type\\\":\\\"async_block\\\"})).then((imports) => handler.apply(this, imports));\\n}\\n\"],\"observables\":{\"value\":{\"sync\":false,\"id\":\"14516616340831225995\",\"value\":\"\\\\;\\\\;\"}}},\"children\":[{\"props\":{\"id\":\"container\"},\"nodeType\":\"DOM\",\"type\":\"node\",\"instanceArgs\":{\"namespace\":\"html\",\"tag\":\"div\"},\"children\":[]}]}]},{\"props\":{\"style\":{\"display\":\"flex\",\"flex-direction\":\"column\"}},\"nodeType\":\"DOM\",\"type\":\"node\",\"instanceArgs\":{\"namespace\":\"html\",\"tag\":\"div\"},\"children\":[]}]}]},\n",
       "        window,\n",
       "    );\n",
       "    })()\n",
       "    </script>\n",
       "</div>\n"
      ],
      "text/plain": [
       "WebIO.Node{WebIO.DOM}(WebIO.DOM(:html, :div), Any[WebIO.Node{WebIO.DOM}(WebIO.DOM(:html, :div), Any[WebIO.Node{WebIO.DOM}(WebIO.DOM(:html, :div), Any[WebIO.Node{WebIO.DOM}(WebIO.DOM(:html, :div), Any[WebIO.Scope(WebIO.Node{WebIO.DOM}(WebIO.DOM(:html, :div), Any[WebIO.Node{WebIO.DOM}(WebIO.DOM(:html, :div), Any[WebIO.Node{WebIO.DOM}(WebIO.DOM(:html, :label), Any[\"time\"], Dict{Symbol, Any}(:className => \"interact \", :style => Dict{Any, Any}(:padding => \"5px 10px 0px 10px\")))], Dict{Symbol, Any}(:className => \"interact-flex-row-left\")), WebIO.Node{WebIO.DOM}(WebIO.DOM(:html, :div), Any[WebIO.Node{WebIO.DOM}(WebIO.DOM(:html, :input), Any[], Dict{Symbol, Any}(:max => 401, :min => 1, :attributes => Dict{Any, Any}(:type => \"range\", Symbol(\"data-bind\") => \"numericValue: index, valueUpdate: 'input', event: {change: function (){this.changes(this.changes()+1)}}\", \"orient\" => \"horizontal\"), :step => 1, :className => \"slider slider is-fullwidth\", :style => Dict{Any, Any}()))], Dict{Symbol, Any}(:className => \"interact-flex-row-center\")), WebIO.Node{WebIO.DOM}(WebIO.DOM(:html, :div), Any[WebIO.Node{WebIO.DOM}(WebIO.DOM(:html, :p), Any[], Dict{Symbol, Any}(:attributes => Dict(\"data-bind\" => \"text: formatted_val\")))], Dict{Symbol, Any}(:className => \"interact-flex-row-right\"))], Dict{Symbol, Any}(:className => \"interact-flex-row interact-widget\")), Dict{String, Tuple{Observables.AbstractObservable, Union{Nothing, Bool}}}(\"changes\" => (Observable(0), nothing), \"index\" => (Observable(201), nothing)), Set{String}(), nothing, WebIO.Asset[WebIO.Asset(\"js\", \"knockout\", \"/home/dushya/.julia/packages/Knockout/HReiN/src/../assets/knockout.js\"), WebIO.Asset(\"js\", \"knockout_punches\", \"/home/dushya/.julia/packages/Knockout/HReiN/src/../assets/knockout_punches.js\"), WebIO.Asset(\"js\", nothing, \"/home/dushya/.julia/packages/InteractBase/LJXv3/src/../assets/all.js\"), WebIO.Asset(\"css\", nothing, \"/home/dushya/.julia/packages/InteractBase/LJXv3/src/../assets/style.css\"), WebIO.Asset(\"css\", nothing, \"/home/dushya/.julia/packages/Interact/PENUy/src/../assets/bulma_confined.min.css\")], Dict{Any, Any}(\"changes\" => Any[WebIO.JSString(\"(function (val){return (val!=this.model[\\\"changes\\\"]()) ? (this.valueFromJulia[\\\"changes\\\"]=true, this.model[\\\"changes\\\"](val)) : undefined})\")], \"index\" => Any[WebIO.JSString(\"(function (val){return (val!=this.model[\\\"index\\\"]()) ? (this.valueFromJulia[\\\"index\\\"]=true, this.model[\\\"index\\\"](val)) : undefined})\")]), WebIO.ConnectionPool(Channel{Any}(32), Set{WebIO.AbstractConnection}(), Base.GenericCondition{ReentrantLock}(Base.IntrusiveLinkedList{Task}(Task (runnable) @0x00007f618ada4010, Task (runnable) @0x00007f618ada4010), ReentrantLock(nothing, 0x00000000, 0x00, Base.GenericCondition{Base.Threads.SpinLock}(Base.IntrusiveLinkedList{Task}(nothing, nothing), Base.Threads.SpinLock(0)), (0, 0, 141733920768)))), WebIO.JSString[WebIO.JSString(\"function () {\\n    var handler = (function (ko, koPunches) {\\n    ko.punches.enableAll();\\n    ko.bindingHandlers.numericValue = {\\n        init: function(element, valueAccessor, allBindings, data, context) {\\n            var stringified = ko.observable(ko.unwrap(valueAccessor()));\\n            stringified.subscribe(function(value) {\\n                var val = parseFloat(value);\\n                if (!isNaN(val)) {\\n                    valueAccessor()(val);\\n                }\\n            });\\n            valueAccessor().subscribe(function(value) {\\n                var str = JSON.stringify(value);\\n                if ((str == \\\"0\\\") && ([\\\"-0\\\", \\\"-0.\\\"].indexOf(stringified()) >= 0))\\n                     return;\\n                 if ([\\\"null\\\", \\\"\\\"].indexOf(str) >= 0)\\n                     return;\\n                stringified(str);\\n            });\\n            ko.applyBindingsToNode(\\n                element,\\n                {\\n                    value: stringified,\\n                    valueUpdate: allBindings.get('valueUpdate'),\\n                },\\n                context,\\n            );\\n        }\\n    };\\n    var json_data = {\\\"formatted_vals\\\":[\\\"1\\\",\\\"2\\\",\\\"3\\\",\\\"4\\\",\\\"5\\\",\\\"6\\\",\\\"7\\\",\\\"8\\\",\\\"9\\\",\\\"10\\\",\\\"11\\\",\\\"12\\\",\\\"13\\\",\\\"14\\\",\\\"15\\\",\\\"16\\\",\\\"17\\\",\\\"18\\\",\\\"19\\\",\\\"20\\\",\\\"21\\\",\\\"22\\\",\\\"23\\\",\\\"24\\\",\\\"25\\\",\\\"26\\\",\\\"27\\\",\\\"28\\\",\\\"29\\\",\\\"30\\\",\\\"31\\\",\\\"32\\\",\\\"33\\\",\\\"34\\\",\\\"35\\\",\\\"36\\\",\\\"37\\\",\\\"38\\\",\\\"39\\\",\\\"40\\\",\\\"41\\\",\\\"42\\\",\\\"43\\\",\\\"44\\\",\\\"45\\\",\\\"46\\\",\\\"47\\\",\\\"48\\\",\\\"49\\\",\\\"50\\\",\\\"51\\\",\\\"52\\\",\\\"53\\\",\\\"54\\\",\\\"55\\\",\\\"56\\\",\\\"57\\\",\\\"58\\\",\\\"59\\\",\\\"60\\\",\\\"61\\\",\\\"62\\\",\\\"63\\\",\\\"64\\\",\\\"65\\\",\\\"66\\\",\\\"67\\\",\\\"68\\\",\\\"69\\\",\\\"70\\\",\\\"71\\\",\\\"72\\\",\\\"73\\\",\\\"74\\\",\\\"75\\\",\\\"76\\\",\\\"77\\\",\\\"78\\\",\\\"79\\\",\\\"80\\\",\\\"81\\\",\\\"82\\\",\\\"83\\\",\\\"84\\\",\\\"85\\\",\\\"86\\\",\\\"87\\\",\\\"88\\\",\\\"89\\\",\\\"90\\\",\\\"91\\\",\\\"92\\\",\\\"93\\\",\\\"94\\\",\\\"95\\\",\\\"96\\\",\\\"97\\\",\\\"98\\\",\\\"99\\\",\\\"100\\\",\\\"101\\\",\\\"102\\\",\\\"103\\\",\\\"104\\\",\\\"105\\\",\\\"106\\\",\\\"107\\\",\\\"108\\\",\\\"109\\\",\\\"110\\\",\\\"111\\\",\\\"112\\\",\\\"113\\\",\\\"114\\\",\\\"115\\\",\\\"116\\\",\\\"117\\\",\\\"118\\\",\\\"119\\\",\\\"120\\\",\\\"121\\\",\\\"122\\\",\\\"123\\\",\\\"124\\\",\\\"125\\\",\\\"126\\\",\\\"127\\\",\\\"128\\\",\\\"129\\\",\\\"130\\\",\\\"131\\\",\\\"132\\\",\\\"133\\\",\\\"134\\\",\\\"135\\\",\\\"136\\\",\\\"137\\\",\\\"138\\\",\\\"139\\\",\\\"140\\\",\\\"141\\\",\\\"142\\\",\\\"143\\\",\\\"144\\\",\\\"145\\\",\\\"146\\\",\\\"147\\\",\\\"148\\\",\\\"149\\\",\\\"150\\\",\\\"151\\\",\\\"152\\\",\\\"153\\\",\\\"154\\\",\\\"155\\\",\\\"156\\\",\\\"157\\\",\\\"158\\\",\\\"159\\\",\\\"160\\\",\\\"161\\\",\\\"162\\\",\\\"163\\\",\\\"164\\\",\\\"165\\\",\\\"166\\\",\\\"167\\\",\\\"168\\\",\\\"169\\\",\\\"170\\\",\\\"171\\\",\\\"172\\\",\\\"173\\\",\\\"174\\\",\\\"175\\\",\\\"176\\\",\\\"177\\\",\\\"178\\\",\\\"179\\\",\\\"180\\\",\\\"181\\\",\\\"182\\\",\\\"183\\\",\\\"184\\\",\\\"185\\\",\\\"186\\\",\\\"187\\\",\\\"188\\\",\\\"189\\\",\\\"190\\\",\\\"191\\\",\\\"192\\\",\\\"193\\\",\\\"194\\\",\\\"195\\\",\\\"196\\\",\\\"197\\\",\\\"198\\\",\\\"199\\\",\\\"200\\\",\\\"201\\\",\\\"202\\\",\\\"203\\\",\\\"204\\\",\\\"205\\\",\\\"206\\\",\\\"207\\\",\\\"208\\\",\\\"209\\\",\\\"210\\\",\\\"211\\\",\\\"212\\\",\\\"213\\\",\\\"214\\\",\\\"215\\\",\\\"216\\\",\\\"217\\\",\\\"218\\\",\\\"219\\\",\\\"220\\\",\\\"221\\\",\\\"222\\\",\\\"223\\\",\\\"224\\\",\\\"225\\\",\\\"226\\\",\\\"227\\\",\\\"228\\\",\\\"229\\\",\\\"230\\\",\\\"231\\\",\\\"232\\\",\\\"233\\\",\\\"234\\\",\\\"235\\\",\\\"236\\\",\\\"237\\\",\\\"238\\\",\\\"239\\\",\\\"240\\\",\\\"241\\\",\\\"242\\\",\\\"243\\\",\\\"244\\\",\\\"245\\\",\\\"246\\\",\\\"247\\\",\\\"248\\\",\\\"249\\\",\\\"250\\\",\\\"251\\\",\\\"252\\\",\\\"253\\\",\\\"254\\\",\\\"255\\\",\\\"256\\\",\\\"257\\\",\\\"258\\\",\\\"259\\\",\\\"260\\\",\\\"261\\\",\\\"262\\\",\\\"263\\\",\\\"264\\\",\\\"265\\\",\\\"266\\\",\\\"267\\\",\\\"268\\\",\\\"269\\\",\\\"270\\\",\\\"271\\\",\\\"272\\\",\\\"273\\\",\\\"274\\\",\\\"275\\\",\\\"276\\\",\\\"277\\\",\\\"278\\\",\\\"279\\\",\\\"280\\\",\\\"281\\\",\\\"282\\\",\\\"283\\\",\\\"284\\\",\\\"285\\\",\\\"286\\\",\\\"287\\\",\\\"288\\\",\\\"289\\\",\\\"290\\\",\\\"291\\\",\\\"292\\\",\\\"293\\\",\\\"294\\\",\\\"295\\\",\\\"296\\\",\\\"297\\\",\\\"298\\\",\\\"299\\\",\\\"300\\\",\\\"301\\\",\\\"302\\\",\\\"303\\\",\\\"304\\\",\\\"305\\\",\\\"306\\\",\\\"307\\\",\\\"308\\\",\\\"309\\\",\\\"310\\\",\\\"311\\\",\\\"312\\\",\\\"313\\\",\\\"314\\\",\\\"315\\\",\\\"316\\\",\\\"317\\\",\\\"318\\\",\\\"319\\\",\\\"320\\\",\\\"321\\\",\\\"322\\\",\\\"323\\\",\\\"324\\\",\\\"325\\\",\\\"326\\\",\\\"327\\\",\\\"328\\\",\\\"329\\\",\\\"330\\\",\\\"331\\\",\\\"332\\\",\\\"333\\\",\\\"334\\\",\\\"335\\\",\\\"336\\\",\\\"337\\\",\\\"338\\\",\\\"339\\\",\\\"340\\\",\\\"341\\\",\\\"342\\\",\\\"343\\\",\\\"344\\\",\\\"345\\\",\\\"346\\\",\\\"347\\\",\\\"348\\\",\\\"349\\\",\\\"350\\\",\\\"351\\\",\\\"352\\\",\\\"353\\\",\\\"354\\\",\\\"355\\\",\\\"356\\\",\\\"357\\\",\\\"358\\\",\\\"359\\\",\\\"360\\\",\\\"361\\\",\\\"362\\\",\\\"363\\\",\\\"364\\\",\\\"365\\\",\\\"366\\\",\\\"367\\\",\\\"368\\\",\\\"369\\\",\\\"370\\\",\\\"371\\\",\\\"372\\\",\\\"373\\\",\\\"374\\\",\\\"375\\\",\\\"376\\\",\\\"377\\\",\\\"378\\\",\\\"379\\\",\\\"380\\\",\\\"381\\\",\\\"382\\\",\\\"383\\\",\\\"384\\\",\\\"385\\\",\\\"386\\\",\\\"387\\\",\\\"388\\\",\\\"389\\\",\\\"390\\\",\\\"391\\\",\\\"392\\\",\\\"393\\\",\\\"394\\\",\\\"395\\\",\\\"396\\\",\\\"397\\\",\\\"398\\\",\\\"399\\\",\\\"400\\\",\\\"401\\\"],\\\"changes\\\":WebIO.getval({\\\"name\\\":\\\"changes\\\",\\\"scope\\\":\\\"5337995995308777405\\\",\\\"id\\\":\\\"427554821485086902\\\",\\\"type\\\":\\\"observable\\\"}),\\\"index\\\":WebIO.getval({\\\"name\\\":\\\"index\\\",\\\"scope\\\":\\\"5337995995308777405\\\",\\\"id\\\":\\\"18268589415323401286\\\",\\\"type\\\":\\\"observable\\\"})};\\n    var self = this;\\n    function AppViewModel() {\\n        for (var key in json_data) {\\n            var el = json_data[key];\\n            this[key] = Array.isArray(el) ? ko.observableArray(el) : ko.observable(el);\\n        }\\n        \\n        [this[\\\"formatted_val\\\"]=ko.computed(    function(){\\n        return this.formatted_vals()[parseInt(this.index())-(1)];\\n    }\\n,this)]\\n        [this[\\\"changes\\\"].subscribe((function (val){!(this.valueFromJulia[\\\"changes\\\"]) ? (WebIO.setval({\\\"name\\\":\\\"changes\\\",\\\"scope\\\":\\\"5337995995308777405\\\",\\\"id\\\":\\\"427554821485086902\\\",\\\"type\\\":\\\"observable\\\"},val)) : undefined; return this.valueFromJulia[\\\"changes\\\"]=false}),self),this[\\\"index\\\"].subscribe((function (val){!(this.valueFromJulia[\\\"index\\\"]) ? (WebIO.setval({\\\"name\\\":\\\"index\\\",\\\"scope\\\":\\\"5337995995308777405\\\",\\\"id\\\":\\\"18268589415323401286\\\",\\\"type\\\":\\\"observable\\\"},val)) : undefined; return this.valueFromJulia[\\\"index\\\"]=false}),self)]\\n        \\n    }\\n    self.model = new AppViewModel();\\n    self.valueFromJulia = {};\\n    for (var key in json_data) {\\n        self.valueFromJulia[key] = false;\\n    }\\n    ko.applyBindings(self.model, self.dom);\\n}\\n);\\n    (WebIO.importBlock({\\\"data\\\":[{\\\"name\\\":\\\"knockout\\\",\\\"type\\\":\\\"js\\\",\\\"url\\\":\\\"/assetserver/727383f2a47bd31570b7da84eee7b022dd6d7c78-knockout.js\\\"},{\\\"name\\\":\\\"knockout_punches\\\",\\\"type\\\":\\\"js\\\",\\\"url\\\":\\\"/assetserver/382b41b3b1bd9f26f75861d360bad7f8beea211f-knockout_punches.js\\\"}],\\\"type\\\":\\\"async_block\\\"})).then((imports) => handler.apply(this, imports));\\n}\\n\")])], Dict{Symbol, Any}(:className => \"field interact-widget\")), WebIO.Node{WebIO.DOM}(WebIO.DOM(:html, :div), Any[WebIO.Scope(WebIO.Node{WebIO.DOM}(WebIO.DOM(:html, :div), Any[WebIO.Node{WebIO.DOM}(WebIO.DOM(:html, :div), Any[WebIO.Node{WebIO.DOM}(WebIO.DOM(:html, :label), Any[\"scale\"], Dict{Symbol, Any}(:className => \"interact \", :style => Dict{Any, Any}(:padding => \"5px 10px 0px 10px\")))], Dict{Symbol, Any}(:className => \"interact-flex-row-left\")), WebIO.Node{WebIO.DOM}(WebIO.DOM(:html, :div), Any[WebIO.Node{WebIO.DOM}(WebIO.DOM(:html, :input), Any[], Dict{Symbol, Any}(:max => 20, :min => 1, :attributes => Dict{Any, Any}(:type => \"range\", Symbol(\"data-bind\") => \"numericValue: index, valueUpdate: 'input', event: {change: function (){this.changes(this.changes()+1)}}\", \"orient\" => \"horizontal\"), :step => 1, :className => \"slider slider is-fullwidth\", :style => Dict{Any, Any}()))], Dict{Symbol, Any}(:className => \"interact-flex-row-center\")), WebIO.Node{WebIO.DOM}(WebIO.DOM(:html, :div), Any[WebIO.Node{WebIO.DOM}(WebIO.DOM(:html, :p), Any[], Dict{Symbol, Any}(:attributes => Dict(\"data-bind\" => \"text: formatted_val\")))], Dict{Symbol, Any}(:className => \"interact-flex-row-right\"))], Dict{Symbol, Any}(:className => \"interact-flex-row interact-widget\")), Dict{String, Tuple{Observables.AbstractObservable, Union{Nothing, Bool}}}(\"changes\" => (Observable(0), nothing), \"index\" => (Observable{Any}(10), nothing)), Set{String}(), nothing, WebIO.Asset[WebIO.Asset(\"js\", \"knockout\", \"/home/dushya/.julia/packages/Knockout/HReiN/src/../assets/knockout.js\"), WebIO.Asset(\"js\", \"knockout_punches\", \"/home/dushya/.julia/packages/Knockout/HReiN/src/../assets/knockout_punches.js\"), WebIO.Asset(\"js\", nothing, \"/home/dushya/.julia/packages/InteractBase/LJXv3/src/../assets/all.js\"), WebIO.Asset(\"css\", nothing, \"/home/dushya/.julia/packages/InteractBase/LJXv3/src/../assets/style.css\"), WebIO.Asset(\"css\", nothing, \"/home/dushya/.julia/packages/Interact/PENUy/src/../assets/bulma_confined.min.css\")], Dict{Any, Any}(\"changes\" => Any[WebIO.JSString(\"(function (val){return (val!=this.model[\\\"changes\\\"]()) ? (this.valueFromJulia[\\\"changes\\\"]=true, this.model[\\\"changes\\\"](val)) : undefined})\")], \"index\" => Any[WebIO.JSString(\"(function (val){return (val!=this.model[\\\"index\\\"]()) ? (this.valueFromJulia[\\\"index\\\"]=true, this.model[\\\"index\\\"](val)) : undefined})\")]), WebIO.ConnectionPool(Channel{Any}(32), Set{WebIO.AbstractConnection}(), Base.GenericCondition{ReentrantLock}(Base.IntrusiveLinkedList{Task}(Task (runnable) @0x00007f618bc181a0, Task (runnable) @0x00007f618bc181a0), ReentrantLock(nothing, 0x00000000, 0x00, Base.GenericCondition{Base.Threads.SpinLock}(Base.IntrusiveLinkedList{Task}(nothing, nothing), Base.Threads.SpinLock(0)), (8, 0, 141733920768)))), WebIO.JSString[WebIO.JSString(\"function () {\\n    var handler = (function (ko, koPunches) {\\n    ko.punches.enableAll();\\n    ko.bindingHandlers.numericValue = {\\n        init: function(element, valueAccessor, allBindings, data, context) {\\n            var stringified = ko.observable(ko.unwrap(valueAccessor()));\\n            stringified.subscribe(function(value) {\\n                var val = parseFloat(value);\\n                if (!isNaN(val)) {\\n                    valueAccessor()(val);\\n                }\\n            });\\n            valueAccessor().subscribe(function(value) {\\n                var str = JSON.stringify(value);\\n                if ((str == \\\"0\\\") && ([\\\"-0\\\", \\\"-0.\\\"].indexOf(stringified()) >= 0))\\n                     return;\\n                 if ([\\\"null\\\", \\\"\\\"].indexOf(str) >= 0)\\n                     return;\\n                stringified(str);\\n            });\\n            ko.applyBindingsToNode(\\n                element,\\n                {\\n                    value: stringified,\\n                    valueUpdate: allBindings.get('valueUpdate'),\\n                },\\n                context,\\n            );\\n        }\\n    };\\n    var json_data = {\\\"formatted_vals\\\":[\\\"0.1\\\",\\\"0.2\\\",\\\"0.3\\\",\\\"0.4\\\",\\\"0.5\\\",\\\"0.6\\\",\\\"0.7\\\",\\\"0.8\\\",\\\"0.9\\\",\\\"1.0\\\",\\\"1.1\\\",\\\"1.2\\\",\\\"1.3\\\",\\\"1.4\\\",\\\"1.5\\\",\\\"1.6\\\",\\\"1.7\\\",\\\"1.8\\\",\\\"1.9\\\",\\\"2.0\\\"],\\\"changes\\\":WebIO.getval({\\\"name\\\":\\\"changes\\\",\\\"scope\\\":\\\"8597427775505468747\\\",\\\"id\\\":\\\"13227534642141331596\\\",\\\"type\\\":\\\"observable\\\"}),\\\"index\\\":WebIO.getval({\\\"name\\\":\\\"index\\\",\\\"scope\\\":\\\"8597427775505468747\\\",\\\"id\\\":\\\"15159146073029502063\\\",\\\"type\\\":\\\"observable\\\"})};\\n    var self = this;\\n    function AppViewModel() {\\n        for (var key in json_data) {\\n            var el = json_data[key];\\n            this[key] = Array.isArray(el) ? ko.observableArray(el) : ko.observable(el);\\n        }\\n        \\n        [this[\\\"formatted_val\\\"]=ko.computed(    function(){\\n        return this.formatted_vals()[parseInt(this.index())-(1)];\\n    }\\n,this)]\\n        [this[\\\"changes\\\"].subscribe((function (val){!(this.valueFromJulia[\\\"changes\\\"]) ? (WebIO.setval({\\\"name\\\":\\\"changes\\\",\\\"scope\\\":\\\"8597427775505468747\\\",\\\"id\\\":\\\"13227534642141331596\\\",\\\"type\\\":\\\"observable\\\"},val)) : undefined; return this.valueFromJulia[\\\"changes\\\"]=false}),self),this[\\\"index\\\"].subscribe((function (val){!(this.valueFromJulia[\\\"index\\\"]) ? (WebIO.setval({\\\"name\\\":\\\"index\\\",\\\"scope\\\":\\\"8597427775505468747\\\",\\\"id\\\":\\\"15159146073029502063\\\",\\\"type\\\":\\\"observable\\\"},val)) : undefined; return this.valueFromJulia[\\\"index\\\"]=false}),self)]\\n        \\n    }\\n    self.model = new AppViewModel();\\n    self.valueFromJulia = {};\\n    for (var key in json_data) {\\n        self.valueFromJulia[key] = false;\\n    }\\n    ko.applyBindings(self.model, self.dom);\\n}\\n);\\n    (WebIO.importBlock({\\\"data\\\":[{\\\"name\\\":\\\"knockout\\\",\\\"type\\\":\\\"js\\\",\\\"url\\\":\\\"/assetserver/727383f2a47bd31570b7da84eee7b022dd6d7c78-knockout.js\\\"},{\\\"name\\\":\\\"knockout_punches\\\",\\\"type\\\":\\\"js\\\",\\\"url\\\":\\\"/assetserver/382b41b3b1bd9f26f75861d360bad7f8beea211f-knockout_punches.js\\\"}],\\\"type\\\":\\\"async_block\\\"})).then((imports) => handler.apply(this, imports));\\n}\\n\")])], Dict{Symbol, Any}(:className => \"field interact-widget\")), WebIO.Node{WebIO.DOM}(WebIO.DOM(:html, :div), Any[WebIO.Node{WebIO.DOM}(WebIO.DOM(:html, :div), Any[WebIO.Scope(WebIO.Node{WebIO.DOM}(WebIO.DOM(:html, :div), Any[], Dict{Symbol, Any}(:id => \"container\")), Dict{String, Tuple{Observables.AbstractObservable, Union{Nothing, Bool}}}(\"value\" => (Observable(\"\\\\;\\\\;\"), nothing)), Set{String}(), nothing, WebIO.Asset[WebIO.Asset(\"js\", nothing, \"/home/dushya/.julia/packages/InteractBase/LJXv3/src/../assets/katex.min.js\"), WebIO.Asset(\"css\", nothing, \"/home/dushya/.julia/packages/InteractBase/LJXv3/src/../assets/katex.min.css\")], Dict{Any, Any}(\"value\" => Any[WebIO.JSString(\"(function (txt){return this.k.render(txt,this.container)})\")]), WebIO.ConnectionPool(Channel{Any}(32), Set{WebIO.AbstractConnection}(), Base.GenericCondition{ReentrantLock}(Base.IntrusiveLinkedList{Task}(Task (runnable) @0x00007f611a009aa0, Task (runnable) @0x00007f611a009aa0), ReentrantLock(nothing, 0x00000000, 0x00, Base.GenericCondition{Base.Threads.SpinLock}(Base.IntrusiveLinkedList{Task}(nothing, nothing), Base.Threads.SpinLock(0)), (8, 0, 15)))), WebIO.JSString[WebIO.JSString(\"function () {\\n    var handler = ((function (k){this.k=k; this.container=this.dom.querySelector(\\\"#container\\\"); return k.render(\\\"\\\\\\\\;\\\\\\\\;\\\",this.container)}));\\n    (WebIO.importBlock({\\\"data\\\":[{\\\"name\\\":null,\\\"type\\\":\\\"js\\\",\\\"url\\\":\\\"/assetserver/dd22ed1bf1896c2748f3fe616ce0b838adc895c1-katex.min.js\\\"},{\\\"name\\\":null,\\\"type\\\":\\\"css\\\",\\\"url\\\":\\\"/assetserver/46517a424aa5e6cffc1360d7e0848b601c584ee3-katex.min.css\\\"}],\\\"type\\\":\\\"async_block\\\"})).then((imports) => handler.apply(this, imports));\\n}\\n\")])], Dict{Symbol, Any}(:className => \"interact-widget\")), WebIO.Node{WebIO.DOM}(WebIO.DOM(:html, :div), Any[WebIO.Scope(WebIO.Node{WebIO.DOM}(WebIO.DOM(:html, :button), Any[\"run\"], Dict{Symbol, Any}(:attributes => Dict{Any, Any}(\"data-bind\" => \"click: function (){this.clicks(this.clicks()+1)}, css: {'is-loading' : loading}\"), :className => \"is-medium button is-primary\", :style => Dict{String, Any}())), Dict{String, Tuple{Observables.AbstractObservable, Union{Nothing, Bool}}}(\"loading\" => (Observable(false), nothing), \"clicks\" => (Observable(0), nothing)), Set{String}(), nothing, WebIO.Asset[WebIO.Asset(\"js\", \"knockout\", \"/home/dushya/.julia/packages/Knockout/HReiN/src/../assets/knockout.js\"), WebIO.Asset(\"js\", \"knockout_punches\", \"/home/dushya/.julia/packages/Knockout/HReiN/src/../assets/knockout_punches.js\"), WebIO.Asset(\"js\", nothing, \"/home/dushya/.julia/packages/InteractBase/LJXv3/src/../assets/all.js\"), WebIO.Asset(\"css\", nothing, \"/home/dushya/.julia/packages/InteractBase/LJXv3/src/../assets/style.css\"), WebIO.Asset(\"css\", nothing, \"/home/dushya/.julia/packages/Interact/PENUy/src/../assets/bulma_confined.min.css\")], Dict{Any, Any}(\"loading\" => Any[WebIO.JSString(\"(function (val){return (val!=this.model[\\\"loading\\\"]()) ? (this.valueFromJulia[\\\"loading\\\"]=true, this.model[\\\"loading\\\"](val)) : undefined})\")], \"clicks\" => Any[WebIO.JSString(\"(function (val){return (val!=this.model[\\\"clicks\\\"]()) ? (this.valueFromJulia[\\\"clicks\\\"]=true, this.model[\\\"clicks\\\"](val)) : undefined})\")]), WebIO.ConnectionPool(Channel{Any}(32), Set{WebIO.AbstractConnection}(), Base.GenericCondition{ReentrantLock}(Base.IntrusiveLinkedList{Task}(Task (runnable) @0x00007f6157fa52d0, Task (runnable) @0x00007f6157fa52d0), ReentrantLock(nothing, 0x00000000, 0x00, Base.GenericCondition{Base.Threads.SpinLock}(Base.IntrusiveLinkedList{Task}(nothing, nothing), Base.Threads.SpinLock(0)), (0, 140056806362064, 140056806364224)))), WebIO.JSString[WebIO.JSString(\"function () {\\n    var handler = (function (ko, koPunches) {\\n    ko.punches.enableAll();\\n    ko.bindingHandlers.numericValue = {\\n        init: function(element, valueAccessor, allBindings, data, context) {\\n            var stringified = ko.observable(ko.unwrap(valueAccessor()));\\n            stringified.subscribe(function(value) {\\n                var val = parseFloat(value);\\n                if (!isNaN(val)) {\\n                    valueAccessor()(val);\\n                }\\n            });\\n            valueAccessor().subscribe(function(value) {\\n                var str = JSON.stringify(value);\\n                if ((str == \\\"0\\\") && ([\\\"-0\\\", \\\"-0.\\\"].indexOf(stringified()) >= 0))\\n                     return;\\n                 if ([\\\"null\\\", \\\"\\\"].indexOf(str) >= 0)\\n                     return;\\n                stringified(str);\\n            });\\n            ko.applyBindingsToNode(\\n                element,\\n                {\\n                    value: stringified,\\n                    valueUpdate: allBindings.get('valueUpdate'),\\n                },\\n                context,\\n            );\\n        }\\n    };\\n    var json_data = {\\\"loading\\\":WebIO.getval({\\\"name\\\":\\\"loading\\\",\\\"scope\\\":\\\"3094818945018841898\\\",\\\"id\\\":\\\"15755661885531486544\\\",\\\"type\\\":\\\"observable\\\"}),\\\"clicks\\\":WebIO.getval({\\\"name\\\":\\\"clicks\\\",\\\"scope\\\":\\\"3094818945018841898\\\",\\\"id\\\":\\\"1586072674977631124\\\",\\\"type\\\":\\\"observable\\\"})};\\n    var self = this;\\n    function AppViewModel() {\\n        for (var key in json_data) {\\n            var el = json_data[key];\\n            this[key] = Array.isArray(el) ? ko.observableArray(el) : ko.observable(el);\\n        }\\n        \\n        \\n        [this[\\\"loading\\\"].subscribe((function (val){!(this.valueFromJulia[\\\"loading\\\"]) ? (WebIO.setval({\\\"name\\\":\\\"loading\\\",\\\"scope\\\":\\\"3094818945018841898\\\",\\\"id\\\":\\\"15755661885531486544\\\",\\\"type\\\":\\\"observable\\\"},val)) : undefined; return this.valueFromJulia[\\\"loading\\\"]=false}),self),this[\\\"clicks\\\"].subscribe((function (val){!(this.valueFromJulia[\\\"clicks\\\"]) ? (WebIO.setval({\\\"name\\\":\\\"clicks\\\",\\\"scope\\\":\\\"3094818945018841898\\\",\\\"id\\\":\\\"1586072674977631124\\\",\\\"type\\\":\\\"observable\\\"},val)) : undefined; return this.valueFromJulia[\\\"clicks\\\"]=false}),self)]\\n        \\n    }\\n    self.model = new AppViewModel();\\n    self.valueFromJulia = {};\\n    for (var key in json_data) {\\n        self.valueFromJulia[key] = false;\\n    }\\n    ko.applyBindings(self.model, self.dom);\\n}\\n);\\n    (WebIO.importBlock({\\\"data\\\":[{\\\"name\\\":\\\"knockout\\\",\\\"type\\\":\\\"js\\\",\\\"url\\\":\\\"/assetserver/727383f2a47bd31570b7da84eee7b022dd6d7c78-knockout.js\\\"},{\\\"name\\\":\\\"knockout_punches\\\",\\\"type\\\":\\\"js\\\",\\\"url\\\":\\\"/assetserver/382b41b3b1bd9f26f75861d360bad7f8beea211f-knockout_punches.js\\\"}],\\\"type\\\":\\\"async_block\\\"})).then((imports) => handler.apply(this, imports));\\n}\\n\")])], Dict{Symbol, Any}(:className => \"field interact-widget\")), WebIO.Node{WebIO.DOM}(WebIO.DOM(:html, :div), Any[WebIO.Scope(WebIO.Node{WebIO.DOM}(WebIO.DOM(:html, :div), Any[], Dict{Symbol, Any}(:id => \"container\")), Dict{String, Tuple{Observables.AbstractObservable, Union{Nothing, Bool}}}(\"value\" => (Observable(\"\\\\;\\\\;\"), nothing)), Set{String}(), nothing, WebIO.Asset[WebIO.Asset(\"js\", nothing, \"/home/dushya/.julia/packages/InteractBase/LJXv3/src/../assets/katex.min.js\"), WebIO.Asset(\"css\", nothing, \"/home/dushya/.julia/packages/InteractBase/LJXv3/src/../assets/katex.min.css\")], Dict{Any, Any}(\"value\" => Any[WebIO.JSString(\"(function (txt){return this.k.render(txt,this.container)})\")]), WebIO.ConnectionPool(Channel{Any}(32), Set{WebIO.AbstractConnection}(), Base.GenericCondition{ReentrantLock}(Base.IntrusiveLinkedList{Task}(Task (runnable) @0x00007f611a009aa0, Task (runnable) @0x00007f611a009aa0), ReentrantLock(nothing, 0x00000000, 0x00, Base.GenericCondition{Base.Threads.SpinLock}(Base.IntrusiveLinkedList{Task}(nothing, nothing), Base.Threads.SpinLock(0)), (8, 0, 15)))), WebIO.JSString[WebIO.JSString(\"function () {\\n    var handler = ((function (k){this.k=k; this.container=this.dom.querySelector(\\\"#container\\\"); return k.render(\\\"\\\\\\\\;\\\\\\\\;\\\",this.container)}));\\n    (WebIO.importBlock({\\\"data\\\":[{\\\"name\\\":null,\\\"type\\\":\\\"js\\\",\\\"url\\\":\\\"/assetserver/dd22ed1bf1896c2748f3fe616ce0b838adc895c1-katex.min.js\\\"},{\\\"name\\\":null,\\\"type\\\":\\\"css\\\",\\\"url\\\":\\\"/assetserver/46517a424aa5e6cffc1360d7e0848b601c584ee3-katex.min.css\\\"}],\\\"type\\\":\\\"async_block\\\"})).then((imports) => handler.apply(this, imports));\\n}\\n\")])], Dict{Symbol, Any}(:className => \"interact-widget\")), WebIO.Node{WebIO.DOM}(WebIO.DOM(:html, :div), Any[WebIO.Scope(WebIO.Node{WebIO.DOM}(WebIO.DOM(:html, :button), Any[\"stop\"], Dict{Symbol, Any}(:attributes => Dict{Any, Any}(\"data-bind\" => \"click: function (){this.clicks(this.clicks()+1)}, css: {'is-loading' : loading}\"), :className => \"is-medium button is-primary\", :style => Dict{String, Any}())), Dict{String, Tuple{Observables.AbstractObservable, Union{Nothing, Bool}}}(\"loading\" => (Observable(false), nothing), \"clicks\" => (Observable(0), nothing)), Set{String}(), nothing, WebIO.Asset[WebIO.Asset(\"js\", \"knockout\", \"/home/dushya/.julia/packages/Knockout/HReiN/src/../assets/knockout.js\"), WebIO.Asset(\"js\", \"knockout_punches\", \"/home/dushya/.julia/packages/Knockout/HReiN/src/../assets/knockout_punches.js\"), WebIO.Asset(\"js\", nothing, \"/home/dushya/.julia/packages/InteractBase/LJXv3/src/../assets/all.js\"), WebIO.Asset(\"css\", nothing, \"/home/dushya/.julia/packages/InteractBase/LJXv3/src/../assets/style.css\"), WebIO.Asset(\"css\", nothing, \"/home/dushya/.julia/packages/Interact/PENUy/src/../assets/bulma_confined.min.css\")], Dict{Any, Any}(\"loading\" => Any[WebIO.JSString(\"(function (val){return (val!=this.model[\\\"loading\\\"]()) ? (this.valueFromJulia[\\\"loading\\\"]=true, this.model[\\\"loading\\\"](val)) : undefined})\")], \"clicks\" => Any[WebIO.JSString(\"(function (val){return (val!=this.model[\\\"clicks\\\"]()) ? (this.valueFromJulia[\\\"clicks\\\"]=true, this.model[\\\"clicks\\\"](val)) : undefined})\")]), WebIO.ConnectionPool(Channel{Any}(32), Set{WebIO.AbstractConnection}(), Base.GenericCondition{ReentrantLock}(Base.IntrusiveLinkedList{Task}(Task (runnable) @0x00007f615891f210, Task (runnable) @0x00007f615891f210), ReentrantLock(nothing, 0x00000000, 0x00, Base.GenericCondition{Base.Threads.SpinLock}(Base.IntrusiveLinkedList{Task}(nothing, nothing), Base.Threads.SpinLock(0)), (1, 140056949944960, 0)))), WebIO.JSString[WebIO.JSString(\"function () {\\n    var handler = (function (ko, koPunches) {\\n    ko.punches.enableAll();\\n    ko.bindingHandlers.numericValue = {\\n        init: function(element, valueAccessor, allBindings, data, context) {\\n            var stringified = ko.observable(ko.unwrap(valueAccessor()));\\n            stringified.subscribe(function(value) {\\n                var val = parseFloat(value);\\n                if (!isNaN(val)) {\\n                    valueAccessor()(val);\\n                }\\n            });\\n            valueAccessor().subscribe(function(value) {\\n                var str = JSON.stringify(value);\\n                if ((str == \\\"0\\\") && ([\\\"-0\\\", \\\"-0.\\\"].indexOf(stringified()) >= 0))\\n                     return;\\n                 if ([\\\"null\\\", \\\"\\\"].indexOf(str) >= 0)\\n                     return;\\n                stringified(str);\\n            });\\n            ko.applyBindingsToNode(\\n                element,\\n                {\\n                    value: stringified,\\n                    valueUpdate: allBindings.get('valueUpdate'),\\n                },\\n                context,\\n            );\\n        }\\n    };\\n    var json_data = {\\\"loading\\\":WebIO.getval({\\\"name\\\":\\\"loading\\\",\\\"scope\\\":\\\"10714935423168331701\\\",\\\"id\\\":\\\"5975627050655836127\\\",\\\"type\\\":\\\"observable\\\"}),\\\"clicks\\\":WebIO.getval({\\\"name\\\":\\\"clicks\\\",\\\"scope\\\":\\\"10714935423168331701\\\",\\\"id\\\":\\\"10595227186403420676\\\",\\\"type\\\":\\\"observable\\\"})};\\n    var self = this;\\n    function AppViewModel() {\\n        for (var key in json_data) {\\n            var el = json_data[key];\\n            this[key] = Array.isArray(el) ? ko.observableArray(el) : ko.observable(el);\\n        }\\n        \\n        \\n        [this[\\\"loading\\\"].subscribe((function (val){!(this.valueFromJulia[\\\"loading\\\"]) ? (WebIO.setval({\\\"name\\\":\\\"loading\\\",\\\"scope\\\":\\\"10714935423168331701\\\",\\\"id\\\":\\\"5975627050655836127\\\",\\\"type\\\":\\\"observable\\\"},val)) : undefined; return this.valueFromJulia[\\\"loading\\\"]=false}),self),this[\\\"clicks\\\"].subscribe((function (val){!(this.valueFromJulia[\\\"clicks\\\"]) ? (WebIO.setval({\\\"name\\\":\\\"clicks\\\",\\\"scope\\\":\\\"10714935423168331701\\\",\\\"id\\\":\\\"10595227186403420676\\\",\\\"type\\\":\\\"observable\\\"},val)) : undefined; return this.valueFromJulia[\\\"clicks\\\"]=false}),self)]\\n        \\n    }\\n    self.model = new AppViewModel();\\n    self.valueFromJulia = {};\\n    for (var key in json_data) {\\n        self.valueFromJulia[key] = false;\\n    }\\n    ko.applyBindings(self.model, self.dom);\\n}\\n);\\n    (WebIO.importBlock({\\\"data\\\":[{\\\"name\\\":\\\"knockout\\\",\\\"type\\\":\\\"js\\\",\\\"url\\\":\\\"/assetserver/727383f2a47bd31570b7da84eee7b022dd6d7c78-knockout.js\\\"},{\\\"name\\\":\\\"knockout_punches\\\",\\\"type\\\":\\\"js\\\",\\\"url\\\":\\\"/assetserver/382b41b3b1bd9f26f75861d360bad7f8beea211f-knockout_punches.js\\\"}],\\\"type\\\":\\\"async_block\\\"})).then((imports) => handler.apply(this, imports));\\n}\\n\")])], Dict{Symbol, Any}(:className => \"field interact-widget\")), WebIO.Node{WebIO.DOM}(WebIO.DOM(:html, :div), Any[WebIO.Scope(WebIO.Node{WebIO.DOM}(WebIO.DOM(:html, :div), Any[], Dict{Symbol, Any}(:id => \"container\")), Dict{String, Tuple{Observables.AbstractObservable, Union{Nothing, Bool}}}(\"value\" => (Observable(\"\\\\;\\\\;\"), nothing)), Set{String}(), nothing, WebIO.Asset[WebIO.Asset(\"js\", nothing, \"/home/dushya/.julia/packages/InteractBase/LJXv3/src/../assets/katex.min.js\"), WebIO.Asset(\"css\", nothing, \"/home/dushya/.julia/packages/InteractBase/LJXv3/src/../assets/katex.min.css\")], Dict{Any, Any}(\"value\" => Any[WebIO.JSString(\"(function (txt){return this.k.render(txt,this.container)})\")]), WebIO.ConnectionPool(Channel{Any}(32), Set{WebIO.AbstractConnection}(), Base.GenericCondition{ReentrantLock}(Base.IntrusiveLinkedList{Task}(Task (runnable) @0x00007f611a009aa0, Task (runnable) @0x00007f611a009aa0), ReentrantLock(nothing, 0x00000000, 0x00, Base.GenericCondition{Base.Threads.SpinLock}(Base.IntrusiveLinkedList{Task}(nothing, nothing), Base.Threads.SpinLock(0)), (8, 0, 15)))), WebIO.JSString[WebIO.JSString(\"function () {\\n    var handler = ((function (k){this.k=k; this.container=this.dom.querySelector(\\\"#container\\\"); return k.render(\\\"\\\\\\\\;\\\\\\\\;\\\",this.container)}));\\n    (WebIO.importBlock({\\\"data\\\":[{\\\"name\\\":null,\\\"type\\\":\\\"js\\\",\\\"url\\\":\\\"/assetserver/dd22ed1bf1896c2748f3fe616ce0b838adc895c1-katex.min.js\\\"},{\\\"name\\\":null,\\\"type\\\":\\\"css\\\",\\\"url\\\":\\\"/assetserver/46517a424aa5e6cffc1360d7e0848b601c584ee3-katex.min.css\\\"}],\\\"type\\\":\\\"async_block\\\"})).then((imports) => handler.apply(this, imports));\\n}\\n\")])], Dict{Symbol, Any}(:className => \"interact-widget\")), WebIO.Node{WebIO.DOM}(WebIO.DOM(:html, :div), Any[WebIO.Scope(WebIO.Node{WebIO.DOM}(WebIO.DOM(:html, :button), Any[\"save\"], Dict{Symbol, Any}(:attributes => Dict{Any, Any}(\"data-bind\" => \"click: function (){this.clicks(this.clicks()+1)}, css: {'is-loading' : loading}\"), :className => \"is-medium button is-primary\", :style => Dict{String, Any}())), Dict{String, Tuple{Observables.AbstractObservable, Union{Nothing, Bool}}}(\"loading\" => (Observable(false), nothing), \"clicks\" => (Observable(0), nothing)), Set{String}(), nothing, WebIO.Asset[WebIO.Asset(\"js\", \"knockout\", \"/home/dushya/.julia/packages/Knockout/HReiN/src/../assets/knockout.js\"), WebIO.Asset(\"js\", \"knockout_punches\", \"/home/dushya/.julia/packages/Knockout/HReiN/src/../assets/knockout_punches.js\"), WebIO.Asset(\"js\", nothing, \"/home/dushya/.julia/packages/InteractBase/LJXv3/src/../assets/all.js\"), WebIO.Asset(\"css\", nothing, \"/home/dushya/.julia/packages/InteractBase/LJXv3/src/../assets/style.css\"), WebIO.Asset(\"css\", nothing, \"/home/dushya/.julia/packages/Interact/PENUy/src/../assets/bulma_confined.min.css\")], Dict{Any, Any}(\"loading\" => Any[WebIO.JSString(\"(function (val){return (val!=this.model[\\\"loading\\\"]()) ? (this.valueFromJulia[\\\"loading\\\"]=true, this.model[\\\"loading\\\"](val)) : undefined})\")], \"clicks\" => Any[WebIO.JSString(\"(function (val){return (val!=this.model[\\\"clicks\\\"]()) ? (this.valueFromJulia[\\\"clicks\\\"]=true, this.model[\\\"clicks\\\"](val)) : undefined})\")]), WebIO.ConnectionPool(Channel{Any}(32), Set{WebIO.AbstractConnection}(), Base.GenericCondition{ReentrantLock}(Base.IntrusiveLinkedList{Task}(Task (runnable) @0x00007f61589cdaa0, Task (runnable) @0x00007f61589cdaa0), ReentrantLock(nothing, 0x00000000, 0x00, Base.GenericCondition{Base.Threads.SpinLock}(Base.IntrusiveLinkedList{Task}(nothing, nothing), Base.Threads.SpinLock(0)), (0, 140056949944328, 140056949944496)))), WebIO.JSString[WebIO.JSString(\"function () {\\n    var handler = (function (ko, koPunches) {\\n    ko.punches.enableAll();\\n    ko.bindingHandlers.numericValue = {\\n        init: function(element, valueAccessor, allBindings, data, context) {\\n            var stringified = ko.observable(ko.unwrap(valueAccessor()));\\n            stringified.subscribe(function(value) {\\n                var val = parseFloat(value);\\n                if (!isNaN(val)) {\\n                    valueAccessor()(val);\\n                }\\n            });\\n            valueAccessor().subscribe(function(value) {\\n                var str = JSON.stringify(value);\\n                if ((str == \\\"0\\\") && ([\\\"-0\\\", \\\"-0.\\\"].indexOf(stringified()) >= 0))\\n                     return;\\n                 if ([\\\"null\\\", \\\"\\\"].indexOf(str) >= 0)\\n                     return;\\n                stringified(str);\\n            });\\n            ko.applyBindingsToNode(\\n                element,\\n                {\\n                    value: stringified,\\n                    valueUpdate: allBindings.get('valueUpdate'),\\n                },\\n                context,\\n            );\\n        }\\n    };\\n    var json_data = {\\\"loading\\\":WebIO.getval({\\\"name\\\":\\\"loading\\\",\\\"scope\\\":\\\"4298016804772322662\\\",\\\"id\\\":\\\"10708966222501892938\\\",\\\"type\\\":\\\"observable\\\"}),\\\"clicks\\\":WebIO.getval({\\\"name\\\":\\\"clicks\\\",\\\"scope\\\":\\\"4298016804772322662\\\",\\\"id\\\":\\\"13528944087225184632\\\",\\\"type\\\":\\\"observable\\\"})};\\n    var self = this;\\n    function AppViewModel() {\\n        for (var key in json_data) {\\n            var el = json_data[key];\\n            this[key] = Array.isArray(el) ? ko.observableArray(el) : ko.observable(el);\\n        }\\n        \\n        \\n        [this[\\\"loading\\\"].subscribe((function (val){!(this.valueFromJulia[\\\"loading\\\"]) ? (WebIO.setval({\\\"name\\\":\\\"loading\\\",\\\"scope\\\":\\\"4298016804772322662\\\",\\\"id\\\":\\\"10708966222501892938\\\",\\\"type\\\":\\\"observable\\\"},val)) : undefined; return this.valueFromJulia[\\\"loading\\\"]=false}),self),this[\\\"clicks\\\"].subscribe((function (val){!(this.valueFromJulia[\\\"clicks\\\"]) ? (WebIO.setval({\\\"name\\\":\\\"clicks\\\",\\\"scope\\\":\\\"4298016804772322662\\\",\\\"id\\\":\\\"13528944087225184632\\\",\\\"type\\\":\\\"observable\\\"},val)) : undefined; return this.valueFromJulia[\\\"clicks\\\"]=false}),self)]\\n        \\n    }\\n    self.model = new AppViewModel();\\n    self.valueFromJulia = {};\\n    for (var key in json_data) {\\n        self.valueFromJulia[key] = false;\\n    }\\n    ko.applyBindings(self.model, self.dom);\\n}\\n);\\n    (WebIO.importBlock({\\\"data\\\":[{\\\"name\\\":\\\"knockout\\\",\\\"type\\\":\\\"js\\\",\\\"url\\\":\\\"/assetserver/727383f2a47bd31570b7da84eee7b022dd6d7c78-knockout.js\\\"},{\\\"name\\\":\\\"knockout_punches\\\",\\\"type\\\":\\\"js\\\",\\\"url\\\":\\\"/assetserver/382b41b3b1bd9f26f75861d360bad7f8beea211f-knockout_punches.js\\\"}],\\\"type\\\":\\\"async_block\\\"})).then((imports) => handler.apply(this, imports));\\n}\\n\")])], Dict{Symbol, Any}(:className => \"field interact-widget\"))], Dict{Symbol, Any}(:style => Dict(\"display\" => \"flex\", \"flex-direction\" => \"row\")))], Dict{Symbol, Any}(:style => Dict(\"display\" => \"flex\", \"flex-direction\" => \"column\"))), WebIO.Node{WebIO.DOM}(WebIO.DOM(:html, :div), Any[WebIO.Scope(WebIO.Node{WebIO.DOM}(WebIO.DOM(:html, :div), Any[], Dict{Symbol, Any}(:id => \"container\")), Dict{String, Tuple{Observables.AbstractObservable, Union{Nothing, Bool}}}(\"value\" => (Observable(\"\\\\;\\\\;\"), nothing)), Set{String}(), nothing, WebIO.Asset[WebIO.Asset(\"js\", nothing, \"/home/dushya/.julia/packages/InteractBase/LJXv3/src/../assets/katex.min.js\"), WebIO.Asset(\"css\", nothing, \"/home/dushya/.julia/packages/InteractBase/LJXv3/src/../assets/katex.min.css\")], Dict{Any, Any}(\"value\" => Any[WebIO.JSString(\"(function (txt){return this.k.render(txt,this.container)})\")]), WebIO.ConnectionPool(Channel{Any}(32), Set{WebIO.AbstractConnection}(), Base.GenericCondition{ReentrantLock}(Base.IntrusiveLinkedList{Task}(Task (runnable) @0x00007f611a009aa0, Task (runnable) @0x00007f611a009aa0), ReentrantLock(nothing, 0x00000000, 0x00, Base.GenericCondition{Base.Threads.SpinLock}(Base.IntrusiveLinkedList{Task}(nothing, nothing), Base.Threads.SpinLock(0)), (8, 0, 15)))), WebIO.JSString[WebIO.JSString(\"function () {\\n    var handler = ((function (k){this.k=k; this.container=this.dom.querySelector(\\\"#container\\\"); return k.render(\\\"\\\\\\\\;\\\\\\\\;\\\",this.container)}));\\n    (WebIO.importBlock({\\\"data\\\":[{\\\"name\\\":null,\\\"type\\\":\\\"js\\\",\\\"url\\\":\\\"/assetserver/dd22ed1bf1896c2748f3fe616ce0b838adc895c1-katex.min.js\\\"},{\\\"name\\\":null,\\\"type\\\":\\\"css\\\",\\\"url\\\":\\\"/assetserver/46517a424aa5e6cffc1360d7e0848b601c584ee3-katex.min.css\\\"}],\\\"type\\\":\\\"async_block\\\"})).then((imports) => handler.apply(this, imports));\\n}\\n\")])], Dict{Symbol, Any}(:className => \"interact-widget\")), Observable(Luxor.Drawing(430.0, 430.0, \"\", Cairo.CairoSurfaceBase{UInt32}(Ptr{Nothing} @0x0000000000000000, 430.0, 430.0), Cairo.CairoContext(Ptr{Nothing} @0x000000000430e280, Cairo.CairoSurfaceBase{UInt32}(Ptr{Nothing} @0x0000000000000000, 430.0, 430.0), Ptr{Nothing} @0x0000000003e088d0), :png, 0.0, 0.0, 0.0, 1.0, IOBuffer(data=UInt8[...], readable=true, writable=true, seekable=true, append=false, size=5812, maxsize=Inf, ptr=5813, mark=-1), UInt8[0x89, 0x50, 0x4e, 0x47, 0x0d, 0x0a, 0x1a, 0x0a, 0x00, 0x00  …  0x00, 0x00, 0x49, 0x45, 0x4e, 0x44, 0xae, 0x42, 0x60, 0x82], false)), WebIO.Node{WebIO.DOM}(WebIO.DOM(:html, :div), Any[WebIO.Scope(WebIO.Node{WebIO.DOM}(WebIO.DOM(:html, :div), Any[], Dict{Symbol, Any}(:id => \"container\")), Dict{String, Tuple{Observables.AbstractObservable, Union{Nothing, Bool}}}(\"value\" => (Observable(\"\\\\;\\\\;\"), nothing)), Set{String}(), nothing, WebIO.Asset[WebIO.Asset(\"js\", nothing, \"/home/dushya/.julia/packages/InteractBase/LJXv3/src/../assets/katex.min.js\"), WebIO.Asset(\"css\", nothing, \"/home/dushya/.julia/packages/InteractBase/LJXv3/src/../assets/katex.min.css\")], Dict{Any, Any}(\"value\" => Any[WebIO.JSString(\"(function (txt){return this.k.render(txt,this.container)})\")]), WebIO.ConnectionPool(Channel{Any}(32), Set{WebIO.AbstractConnection}(), Base.GenericCondition{ReentrantLock}(Base.IntrusiveLinkedList{Task}(Task (runnable) @0x00007f611a009aa0, Task (runnable) @0x00007f611a009aa0), ReentrantLock(nothing, 0x00000000, 0x00, Base.GenericCondition{Base.Threads.SpinLock}(Base.IntrusiveLinkedList{Task}(nothing, nothing), Base.Threads.SpinLock(0)), (8, 0, 15)))), WebIO.JSString[WebIO.JSString(\"function () {\\n    var handler = ((function (k){this.k=k; this.container=this.dom.querySelector(\\\"#container\\\"); return k.render(\\\"\\\\\\\\;\\\\\\\\;\\\",this.container)}));\\n    (WebIO.importBlock({\\\"data\\\":[{\\\"name\\\":null,\\\"type\\\":\\\"js\\\",\\\"url\\\":\\\"/assetserver/dd22ed1bf1896c2748f3fe616ce0b838adc895c1-katex.min.js\\\"},{\\\"name\\\":null,\\\"type\\\":\\\"css\\\",\\\"url\\\":\\\"/assetserver/46517a424aa5e6cffc1360d7e0848b601c584ee3-katex.min.css\\\"}],\\\"type\\\":\\\"async_block\\\"})).then((imports) => handler.apply(this, imports));\\n}\\n\")])], Dict{Symbol, Any}(:className => \"interact-widget\")), WebIO.Node{WebIO.DOM}(WebIO.DOM(:html, :div), Any[], Dict{Symbol, Any}(:style => Dict(\"display\" => \"flex\", \"flex-direction\" => \"column\")))], Dict{Symbol, Any}(:style => Dict(\"display\" => \"flex\", \"flex-direction\" => \"row\")))], Dict{Symbol, Any}(:style => Dict(\"display\" => \"flex\", \"flex-direction\" => \"column\")))"
      ]
     },
     "execution_count": 8,
     "metadata": {
      "application/vnd.webio.node+json": {
       "kernelId": "df4f3bfa-f9b3-495e-af47-b543821fd1ae"
      }
     },
     "output_type": "execute_result"
    }
   ],
   "source": [
    "animate_sim(model, show_patches=true) #since there are only patches and no agents, show_patches must be true for the animation"
   ]
  },
  {
   "cell_type": "markdown",
   "metadata": {},
   "source": [
    "After defining the `step_rule!` function we can also choose to create an interactive application (which currently works in Jupyter with WebIO installation) as "
   ]
  },
  {
   "cell_type": "code",
   "execution_count": 9,
   "metadata": {},
   "outputs": [
    {
     "data": {
      "application/vnd.webio.node+json": {
       "children": [
        {
         "children": [
          {
           "children": [
            {
             "children": [
              {
               "children": [
                {
                 "children": [
                  {
                   "children": [
                    {
                     "children": [
                      "time"
                     ],
                     "instanceArgs": {
                      "namespace": "html",
                      "tag": "label"
                     },
                     "nodeType": "DOM",
                     "props": {
                      "className": "interact ",
                      "style": {
                       "padding": "5px 10px 0px 10px"
                      }
                     },
                     "type": "node"
                    }
                   ],
                   "instanceArgs": {
                    "namespace": "html",
                    "tag": "div"
                   },
                   "nodeType": "DOM",
                   "props": {
                    "className": "interact-flex-row-left"
                   },
                   "type": "node"
                  },
                  {
                   "children": [
                    {
                     "children": [],
                     "instanceArgs": {
                      "namespace": "html",
                      "tag": "input"
                     },
                     "nodeType": "DOM",
                     "props": {
                      "attributes": {
                       "data-bind": "numericValue: index, valueUpdate: 'input', event: {change: function (){this.changes(this.changes()+1)}}",
                       "orient": "horizontal",
                       "type": "range"
                      },
                      "className": "slider slider is-fullwidth",
                      "max": 400,
                      "min": 1,
                      "step": 1,
                      "style": {}
                     },
                     "type": "node"
                    }
                   ],
                   "instanceArgs": {
                    "namespace": "html",
                    "tag": "div"
                   },
                   "nodeType": "DOM",
                   "props": {
                    "className": "interact-flex-row-center"
                   },
                   "type": "node"
                  },
                  {
                   "children": [
                    {
                     "children": [],
                     "instanceArgs": {
                      "namespace": "html",
                      "tag": "p"
                     },
                     "nodeType": "DOM",
                     "props": {
                      "attributes": {
                       "data-bind": "text: formatted_val"
                      }
                     },
                     "type": "node"
                    }
                   ],
                   "instanceArgs": {
                    "namespace": "html",
                    "tag": "div"
                   },
                   "nodeType": "DOM",
                   "props": {
                    "className": "interact-flex-row-right"
                   },
                   "type": "node"
                  }
                 ],
                 "instanceArgs": {
                  "namespace": "html",
                  "tag": "div"
                 },
                 "nodeType": "DOM",
                 "props": {
                  "className": "interact-flex-row interact-widget"
                 },
                 "type": "node"
                }
               ],
               "instanceArgs": {
                "handlers": {
                 "changes": [
                  "(function (val){return (val!=this.model[\"changes\"]()) ? (this.valueFromJulia[\"changes\"]=true, this.model[\"changes\"](val)) : undefined})"
                 ],
                 "index": [
                  "(function (val){return (val!=this.model[\"index\"]()) ? (this.valueFromJulia[\"index\"]=true, this.model[\"index\"](val)) : undefined})"
                 ]
                },
                "id": "14749890256849955995",
                "imports": {
                 "data": [
                  {
                   "name": "knockout",
                   "type": "js",
                   "url": "/assetserver/727383f2a47bd31570b7da84eee7b022dd6d7c78-knockout.js"
                  },
                  {
                   "name": "knockout_punches",
                   "type": "js",
                   "url": "/assetserver/382b41b3b1bd9f26f75861d360bad7f8beea211f-knockout_punches.js"
                  },
                  {
                   "name": null,
                   "type": "js",
                   "url": "/assetserver/5ab20f1060420992a9b82a65b735dee4d81ef413-all.js"
                  },
                  {
                   "name": null,
                   "type": "css",
                   "url": "/assetserver/1cc0ed62837210b80a182cc3676512f895dab686-style.css"
                  },
                  {
                   "name": null,
                   "type": "css",
                   "url": "/assetserver/2eee816f616df3549d7044d45e744fbf8d42bfa1-bulma_confined.min.css"
                  }
                 ],
                 "type": "async_block"
                },
                "mount_callbacks": [
                 "function () {\n    var handler = (function (ko, koPunches) {\n    ko.punches.enableAll();\n    ko.bindingHandlers.numericValue = {\n        init: function(element, valueAccessor, allBindings, data, context) {\n            var stringified = ko.observable(ko.unwrap(valueAccessor()));\n            stringified.subscribe(function(value) {\n                var val = parseFloat(value);\n                if (!isNaN(val)) {\n                    valueAccessor()(val);\n                }\n            });\n            valueAccessor().subscribe(function(value) {\n                var str = JSON.stringify(value);\n                if ((str == \"0\") && ([\"-0\", \"-0.\"].indexOf(stringified()) >= 0))\n                     return;\n                 if ([\"null\", \"\"].indexOf(str) >= 0)\n                     return;\n                stringified(str);\n            });\n            ko.applyBindingsToNode(\n                element,\n                {\n                    value: stringified,\n                    valueUpdate: allBindings.get('valueUpdate'),\n                },\n                context,\n            );\n        }\n    };\n    var json_data = {\"formatted_vals\":[\"1\",\"2\",\"3\",\"4\",\"5\",\"6\",\"7\",\"8\",\"9\",\"10\",\"11\",\"12\",\"13\",\"14\",\"15\",\"16\",\"17\",\"18\",\"19\",\"20\",\"21\",\"22\",\"23\",\"24\",\"25\",\"26\",\"27\",\"28\",\"29\",\"30\",\"31\",\"32\",\"33\",\"34\",\"35\",\"36\",\"37\",\"38\",\"39\",\"40\",\"41\",\"42\",\"43\",\"44\",\"45\",\"46\",\"47\",\"48\",\"49\",\"50\",\"51\",\"52\",\"53\",\"54\",\"55\",\"56\",\"57\",\"58\",\"59\",\"60\",\"61\",\"62\",\"63\",\"64\",\"65\",\"66\",\"67\",\"68\",\"69\",\"70\",\"71\",\"72\",\"73\",\"74\",\"75\",\"76\",\"77\",\"78\",\"79\",\"80\",\"81\",\"82\",\"83\",\"84\",\"85\",\"86\",\"87\",\"88\",\"89\",\"90\",\"91\",\"92\",\"93\",\"94\",\"95\",\"96\",\"97\",\"98\",\"99\",\"100\",\"101\",\"102\",\"103\",\"104\",\"105\",\"106\",\"107\",\"108\",\"109\",\"110\",\"111\",\"112\",\"113\",\"114\",\"115\",\"116\",\"117\",\"118\",\"119\",\"120\",\"121\",\"122\",\"123\",\"124\",\"125\",\"126\",\"127\",\"128\",\"129\",\"130\",\"131\",\"132\",\"133\",\"134\",\"135\",\"136\",\"137\",\"138\",\"139\",\"140\",\"141\",\"142\",\"143\",\"144\",\"145\",\"146\",\"147\",\"148\",\"149\",\"150\",\"151\",\"152\",\"153\",\"154\",\"155\",\"156\",\"157\",\"158\",\"159\",\"160\",\"161\",\"162\",\"163\",\"164\",\"165\",\"166\",\"167\",\"168\",\"169\",\"170\",\"171\",\"172\",\"173\",\"174\",\"175\",\"176\",\"177\",\"178\",\"179\",\"180\",\"181\",\"182\",\"183\",\"184\",\"185\",\"186\",\"187\",\"188\",\"189\",\"190\",\"191\",\"192\",\"193\",\"194\",\"195\",\"196\",\"197\",\"198\",\"199\",\"200\",\"201\",\"202\",\"203\",\"204\",\"205\",\"206\",\"207\",\"208\",\"209\",\"210\",\"211\",\"212\",\"213\",\"214\",\"215\",\"216\",\"217\",\"218\",\"219\",\"220\",\"221\",\"222\",\"223\",\"224\",\"225\",\"226\",\"227\",\"228\",\"229\",\"230\",\"231\",\"232\",\"233\",\"234\",\"235\",\"236\",\"237\",\"238\",\"239\",\"240\",\"241\",\"242\",\"243\",\"244\",\"245\",\"246\",\"247\",\"248\",\"249\",\"250\",\"251\",\"252\",\"253\",\"254\",\"255\",\"256\",\"257\",\"258\",\"259\",\"260\",\"261\",\"262\",\"263\",\"264\",\"265\",\"266\",\"267\",\"268\",\"269\",\"270\",\"271\",\"272\",\"273\",\"274\",\"275\",\"276\",\"277\",\"278\",\"279\",\"280\",\"281\",\"282\",\"283\",\"284\",\"285\",\"286\",\"287\",\"288\",\"289\",\"290\",\"291\",\"292\",\"293\",\"294\",\"295\",\"296\",\"297\",\"298\",\"299\",\"300\",\"301\",\"302\",\"303\",\"304\",\"305\",\"306\",\"307\",\"308\",\"309\",\"310\",\"311\",\"312\",\"313\",\"314\",\"315\",\"316\",\"317\",\"318\",\"319\",\"320\",\"321\",\"322\",\"323\",\"324\",\"325\",\"326\",\"327\",\"328\",\"329\",\"330\",\"331\",\"332\",\"333\",\"334\",\"335\",\"336\",\"337\",\"338\",\"339\",\"340\",\"341\",\"342\",\"343\",\"344\",\"345\",\"346\",\"347\",\"348\",\"349\",\"350\",\"351\",\"352\",\"353\",\"354\",\"355\",\"356\",\"357\",\"358\",\"359\",\"360\",\"361\",\"362\",\"363\",\"364\",\"365\",\"366\",\"367\",\"368\",\"369\",\"370\",\"371\",\"372\",\"373\",\"374\",\"375\",\"376\",\"377\",\"378\",\"379\",\"380\",\"381\",\"382\",\"383\",\"384\",\"385\",\"386\",\"387\",\"388\",\"389\",\"390\",\"391\",\"392\",\"393\",\"394\",\"395\",\"396\",\"397\",\"398\",\"399\",\"400\"],\"changes\":WebIO.getval({\"name\":\"changes\",\"scope\":\"14749890256849955995\",\"id\":\"17150296114975303335\",\"type\":\"observable\"}),\"index\":WebIO.getval({\"name\":\"index\",\"scope\":\"14749890256849955995\",\"id\":\"9069007503870681331\",\"type\":\"observable\"})};\n    var self = this;\n    function AppViewModel() {\n        for (var key in json_data) {\n            var el = json_data[key];\n            this[key] = Array.isArray(el) ? ko.observableArray(el) : ko.observable(el);\n        }\n        \n        [this[\"formatted_val\"]=ko.computed(    function(){\n        return this.formatted_vals()[parseInt(this.index())-(1)];\n    }\n,this)]\n        [this[\"changes\"].subscribe((function (val){!(this.valueFromJulia[\"changes\"]) ? (WebIO.setval({\"name\":\"changes\",\"scope\":\"14749890256849955995\",\"id\":\"17150296114975303335\",\"type\":\"observable\"},val)) : undefined; return this.valueFromJulia[\"changes\"]=false}),self),this[\"index\"].subscribe((function (val){!(this.valueFromJulia[\"index\"]) ? (WebIO.setval({\"name\":\"index\",\"scope\":\"14749890256849955995\",\"id\":\"9069007503870681331\",\"type\":\"observable\"},val)) : undefined; return this.valueFromJulia[\"index\"]=false}),self)]\n        \n    }\n    self.model = new AppViewModel();\n    self.valueFromJulia = {};\n    for (var key in json_data) {\n        self.valueFromJulia[key] = false;\n    }\n    ko.applyBindings(self.model, self.dom);\n}\n);\n    (WebIO.importBlock({\"data\":[{\"name\":\"knockout\",\"type\":\"js\",\"url\":\"/assetserver/727383f2a47bd31570b7da84eee7b022dd6d7c78-knockout.js\"},{\"name\":\"knockout_punches\",\"type\":\"js\",\"url\":\"/assetserver/382b41b3b1bd9f26f75861d360bad7f8beea211f-knockout_punches.js\"}],\"type\":\"async_block\"})).then((imports) => handler.apply(this, imports));\n}\n"
                ],
                "observables": {
                 "changes": {
                  "id": "17150296114975303335",
                  "sync": false,
                  "value": 0
                 },
                 "index": {
                  "id": "9069007503870681331",
                  "sync": true,
                  "value": 1
                 }
                },
                "systemjs_options": null
               },
               "nodeType": "Scope",
               "props": {},
               "type": "node"
              }
             ],
             "instanceArgs": {
              "namespace": "html",
              "tag": "div"
             },
             "nodeType": "DOM",
             "props": {
              "className": "field interact-widget"
             },
             "type": "node"
            },
            {
             "children": [
              {
               "children": [
                {
                 "children": [
                  {
                   "children": [
                    {
                     "children": [
                      "scale"
                     ],
                     "instanceArgs": {
                      "namespace": "html",
                      "tag": "label"
                     },
                     "nodeType": "DOM",
                     "props": {
                      "className": "interact ",
                      "style": {
                       "padding": "5px 10px 0px 10px"
                      }
                     },
                     "type": "node"
                    }
                   ],
                   "instanceArgs": {
                    "namespace": "html",
                    "tag": "div"
                   },
                   "nodeType": "DOM",
                   "props": {
                    "className": "interact-flex-row-left"
                   },
                   "type": "node"
                  },
                  {
                   "children": [
                    {
                     "children": [],
                     "instanceArgs": {
                      "namespace": "html",
                      "tag": "input"
                     },
                     "nodeType": "DOM",
                     "props": {
                      "attributes": {
                       "data-bind": "numericValue: index, valueUpdate: 'input', event: {change: function (){this.changes(this.changes()+1)}}",
                       "orient": "horizontal",
                       "type": "range"
                      },
                      "className": "slider slider is-fullwidth",
                      "max": 20,
                      "min": 1,
                      "step": 1,
                      "style": {}
                     },
                     "type": "node"
                    }
                   ],
                   "instanceArgs": {
                    "namespace": "html",
                    "tag": "div"
                   },
                   "nodeType": "DOM",
                   "props": {
                    "className": "interact-flex-row-center"
                   },
                   "type": "node"
                  },
                  {
                   "children": [
                    {
                     "children": [],
                     "instanceArgs": {
                      "namespace": "html",
                      "tag": "p"
                     },
                     "nodeType": "DOM",
                     "props": {
                      "attributes": {
                       "data-bind": "text: formatted_val"
                      }
                     },
                     "type": "node"
                    }
                   ],
                   "instanceArgs": {
                    "namespace": "html",
                    "tag": "div"
                   },
                   "nodeType": "DOM",
                   "props": {
                    "className": "interact-flex-row-right"
                   },
                   "type": "node"
                  }
                 ],
                 "instanceArgs": {
                  "namespace": "html",
                  "tag": "div"
                 },
                 "nodeType": "DOM",
                 "props": {
                  "className": "interact-flex-row interact-widget"
                 },
                 "type": "node"
                }
               ],
               "instanceArgs": {
                "handlers": {
                 "changes": [
                  "(function (val){return (val!=this.model[\"changes\"]()) ? (this.valueFromJulia[\"changes\"]=true, this.model[\"changes\"](val)) : undefined})"
                 ],
                 "index": [
                  "(function (val){return (val!=this.model[\"index\"]()) ? (this.valueFromJulia[\"index\"]=true, this.model[\"index\"](val)) : undefined})"
                 ]
                },
                "id": "11209935382571947976",
                "imports": {
                 "data": [
                  {
                   "name": "knockout",
                   "type": "js",
                   "url": "/assetserver/727383f2a47bd31570b7da84eee7b022dd6d7c78-knockout.js"
                  },
                  {
                   "name": "knockout_punches",
                   "type": "js",
                   "url": "/assetserver/382b41b3b1bd9f26f75861d360bad7f8beea211f-knockout_punches.js"
                  },
                  {
                   "name": null,
                   "type": "js",
                   "url": "/assetserver/5ab20f1060420992a9b82a65b735dee4d81ef413-all.js"
                  },
                  {
                   "name": null,
                   "type": "css",
                   "url": "/assetserver/1cc0ed62837210b80a182cc3676512f895dab686-style.css"
                  },
                  {
                   "name": null,
                   "type": "css",
                   "url": "/assetserver/2eee816f616df3549d7044d45e744fbf8d42bfa1-bulma_confined.min.css"
                  }
                 ],
                 "type": "async_block"
                },
                "mount_callbacks": [
                 "function () {\n    var handler = (function (ko, koPunches) {\n    ko.punches.enableAll();\n    ko.bindingHandlers.numericValue = {\n        init: function(element, valueAccessor, allBindings, data, context) {\n            var stringified = ko.observable(ko.unwrap(valueAccessor()));\n            stringified.subscribe(function(value) {\n                var val = parseFloat(value);\n                if (!isNaN(val)) {\n                    valueAccessor()(val);\n                }\n            });\n            valueAccessor().subscribe(function(value) {\n                var str = JSON.stringify(value);\n                if ((str == \"0\") && ([\"-0\", \"-0.\"].indexOf(stringified()) >= 0))\n                     return;\n                 if ([\"null\", \"\"].indexOf(str) >= 0)\n                     return;\n                stringified(str);\n            });\n            ko.applyBindingsToNode(\n                element,\n                {\n                    value: stringified,\n                    valueUpdate: allBindings.get('valueUpdate'),\n                },\n                context,\n            );\n        }\n    };\n    var json_data = {\"formatted_vals\":[\"0.1\",\"0.2\",\"0.3\",\"0.4\",\"0.5\",\"0.6\",\"0.7\",\"0.8\",\"0.9\",\"1.0\",\"1.1\",\"1.2\",\"1.3\",\"1.4\",\"1.5\",\"1.6\",\"1.7\",\"1.8\",\"1.9\",\"2.0\"],\"changes\":WebIO.getval({\"name\":\"changes\",\"scope\":\"11209935382571947976\",\"id\":\"3678561581940329269\",\"type\":\"observable\"}),\"index\":WebIO.getval({\"name\":\"index\",\"scope\":\"11209935382571947976\",\"id\":\"615166752810926526\",\"type\":\"observable\"})};\n    var self = this;\n    function AppViewModel() {\n        for (var key in json_data) {\n            var el = json_data[key];\n            this[key] = Array.isArray(el) ? ko.observableArray(el) : ko.observable(el);\n        }\n        \n        [this[\"formatted_val\"]=ko.computed(    function(){\n        return this.formatted_vals()[parseInt(this.index())-(1)];\n    }\n,this)]\n        [this[\"changes\"].subscribe((function (val){!(this.valueFromJulia[\"changes\"]) ? (WebIO.setval({\"name\":\"changes\",\"scope\":\"11209935382571947976\",\"id\":\"3678561581940329269\",\"type\":\"observable\"},val)) : undefined; return this.valueFromJulia[\"changes\"]=false}),self),this[\"index\"].subscribe((function (val){!(this.valueFromJulia[\"index\"]) ? (WebIO.setval({\"name\":\"index\",\"scope\":\"11209935382571947976\",\"id\":\"615166752810926526\",\"type\":\"observable\"},val)) : undefined; return this.valueFromJulia[\"index\"]=false}),self)]\n        \n    }\n    self.model = new AppViewModel();\n    self.valueFromJulia = {};\n    for (var key in json_data) {\n        self.valueFromJulia[key] = false;\n    }\n    ko.applyBindings(self.model, self.dom);\n}\n);\n    (WebIO.importBlock({\"data\":[{\"name\":\"knockout\",\"type\":\"js\",\"url\":\"/assetserver/727383f2a47bd31570b7da84eee7b022dd6d7c78-knockout.js\"},{\"name\":\"knockout_punches\",\"type\":\"js\",\"url\":\"/assetserver/382b41b3b1bd9f26f75861d360bad7f8beea211f-knockout_punches.js\"}],\"type\":\"async_block\"})).then((imports) => handler.apply(this, imports));\n}\n"
                ],
                "observables": {
                 "changes": {
                  "id": "3678561581940329269",
                  "sync": false,
                  "value": 0
                 },
                 "index": {
                  "id": "615166752810926526",
                  "sync": true,
                  "value": 10
                 }
                },
                "systemjs_options": null
               },
               "nodeType": "Scope",
               "props": {},
               "type": "node"
              }
             ],
             "instanceArgs": {
              "namespace": "html",
              "tag": "div"
             },
             "nodeType": "DOM",
             "props": {
              "className": "field interact-widget"
             },
             "type": "node"
            },
            {
             "children": [],
             "instanceArgs": {
              "namespace": "html",
              "tag": "div"
             },
             "nodeType": "DOM",
             "props": {
              "style": {
               "display": "flex",
               "flex-direction": "column"
              }
             },
             "type": "node"
            },
            {
             "children": [
              {
               "children": [
                {
                 "children": [
                  {
                   "children": [
                    {
                     "children": [
                      {
                       "children": [
                        "threshold"
                       ],
                       "instanceArgs": {
                        "namespace": "html",
                        "tag": "label"
                       },
                       "nodeType": "DOM",
                       "props": {
                        "className": "interact ",
                        "style": {
                         "padding": "5px 10px 0px 10px"
                        }
                       },
                       "type": "node"
                      }
                     ],
                     "instanceArgs": {
                      "namespace": "html",
                      "tag": "div"
                     },
                     "nodeType": "DOM",
                     "props": {
                      "className": "interact-flex-row-left"
                     },
                     "type": "node"
                    },
                    {
                     "children": [
                      {
                       "children": [],
                       "instanceArgs": {
                        "namespace": "html",
                        "tag": "input"
                       },
                       "nodeType": "DOM",
                       "props": {
                        "attributes": {
                         "data-bind": "numericValue: index, valueUpdate: 'input', event: {change: function (){this.changes(this.changes()+1)}}",
                         "orient": "horizontal",
                         "type": "range"
                        },
                        "className": "slider slider is-fullwidth",
                        "max": 8,
                        "min": 1,
                        "step": 1,
                        "style": {}
                       },
                       "type": "node"
                      }
                     ],
                     "instanceArgs": {
                      "namespace": "html",
                      "tag": "div"
                     },
                     "nodeType": "DOM",
                     "props": {
                      "className": "interact-flex-row-center"
                     },
                     "type": "node"
                    },
                    {
                     "children": [
                      {
                       "children": [],
                       "instanceArgs": {
                        "namespace": "html",
                        "tag": "p"
                       },
                       "nodeType": "DOM",
                       "props": {
                        "attributes": {
                         "data-bind": "text: formatted_val"
                        }
                       },
                       "type": "node"
                      }
                     ],
                     "instanceArgs": {
                      "namespace": "html",
                      "tag": "div"
                     },
                     "nodeType": "DOM",
                     "props": {
                      "className": "interact-flex-row-right"
                     },
                     "type": "node"
                    }
                   ],
                   "instanceArgs": {
                    "namespace": "html",
                    "tag": "div"
                   },
                   "nodeType": "DOM",
                   "props": {
                    "className": "interact-flex-row interact-widget"
                   },
                   "type": "node"
                  }
                 ],
                 "instanceArgs": {
                  "handlers": {
                   "changes": [
                    "(function (val){return (val!=this.model[\"changes\"]()) ? (this.valueFromJulia[\"changes\"]=true, this.model[\"changes\"](val)) : undefined})"
                   ],
                   "index": [
                    "(function (val){return (val!=this.model[\"index\"]()) ? (this.valueFromJulia[\"index\"]=true, this.model[\"index\"](val)) : undefined})"
                   ]
                  },
                  "id": "16541729557498406918",
                  "imports": {
                   "data": [
                    {
                     "name": "knockout",
                     "type": "js",
                     "url": "/assetserver/727383f2a47bd31570b7da84eee7b022dd6d7c78-knockout.js"
                    },
                    {
                     "name": "knockout_punches",
                     "type": "js",
                     "url": "/assetserver/382b41b3b1bd9f26f75861d360bad7f8beea211f-knockout_punches.js"
                    },
                    {
                     "name": null,
                     "type": "js",
                     "url": "/assetserver/5ab20f1060420992a9b82a65b735dee4d81ef413-all.js"
                    },
                    {
                     "name": null,
                     "type": "css",
                     "url": "/assetserver/1cc0ed62837210b80a182cc3676512f895dab686-style.css"
                    },
                    {
                     "name": null,
                     "type": "css",
                     "url": "/assetserver/2eee816f616df3549d7044d45e744fbf8d42bfa1-bulma_confined.min.css"
                    }
                   ],
                   "type": "async_block"
                  },
                  "mount_callbacks": [
                   "function () {\n    var handler = (function (ko, koPunches) {\n    ko.punches.enableAll();\n    ko.bindingHandlers.numericValue = {\n        init: function(element, valueAccessor, allBindings, data, context) {\n            var stringified = ko.observable(ko.unwrap(valueAccessor()));\n            stringified.subscribe(function(value) {\n                var val = parseFloat(value);\n                if (!isNaN(val)) {\n                    valueAccessor()(val);\n                }\n            });\n            valueAccessor().subscribe(function(value) {\n                var str = JSON.stringify(value);\n                if ((str == \"0\") && ([\"-0\", \"-0.\"].indexOf(stringified()) >= 0))\n                     return;\n                 if ([\"null\", \"\"].indexOf(str) >= 0)\n                     return;\n                stringified(str);\n            });\n            ko.applyBindingsToNode(\n                element,\n                {\n                    value: stringified,\n                    valueUpdate: allBindings.get('valueUpdate'),\n                },\n                context,\n            );\n        }\n    };\n    var json_data = {\"formatted_vals\":[\"1\",\"2\",\"3\",\"4\",\"5\",\"6\",\"7\",\"8\"],\"changes\":WebIO.getval({\"name\":\"changes\",\"scope\":\"16541729557498406918\",\"id\":\"153197974291645994\",\"type\":\"observable\"}),\"index\":WebIO.getval({\"name\":\"index\",\"scope\":\"16541729557498406918\",\"id\":\"7572999499097270814\",\"type\":\"observable\"})};\n    var self = this;\n    function AppViewModel() {\n        for (var key in json_data) {\n            var el = json_data[key];\n            this[key] = Array.isArray(el) ? ko.observableArray(el) : ko.observable(el);\n        }\n        \n        [this[\"formatted_val\"]=ko.computed(    function(){\n        return this.formatted_vals()[parseInt(this.index())-(1)];\n    }\n,this)]\n        [this[\"changes\"].subscribe((function (val){!(this.valueFromJulia[\"changes\"]) ? (WebIO.setval({\"name\":\"changes\",\"scope\":\"16541729557498406918\",\"id\":\"153197974291645994\",\"type\":\"observable\"},val)) : undefined; return this.valueFromJulia[\"changes\"]=false}),self),this[\"index\"].subscribe((function (val){!(this.valueFromJulia[\"index\"]) ? (WebIO.setval({\"name\":\"index\",\"scope\":\"16541729557498406918\",\"id\":\"7572999499097270814\",\"type\":\"observable\"},val)) : undefined; return this.valueFromJulia[\"index\"]=false}),self)]\n        \n    }\n    self.model = new AppViewModel();\n    self.valueFromJulia = {};\n    for (var key in json_data) {\n        self.valueFromJulia[key] = false;\n    }\n    ko.applyBindings(self.model, self.dom);\n}\n);\n    (WebIO.importBlock({\"data\":[{\"name\":\"knockout\",\"type\":\"js\",\"url\":\"/assetserver/727383f2a47bd31570b7da84eee7b022dd6d7c78-knockout.js\"},{\"name\":\"knockout_punches\",\"type\":\"js\",\"url\":\"/assetserver/382b41b3b1bd9f26f75861d360bad7f8beea211f-knockout_punches.js\"}],\"type\":\"async_block\"})).then((imports) => handler.apply(this, imports));\n}\n"
                  ],
                  "observables": {
                   "changes": {
                    "id": "153197974291645994",
                    "sync": false,
                    "value": 0
                   },
                   "index": {
                    "id": "7572999499097270814",
                    "sync": true,
                    "value": 4
                   }
                  },
                  "systemjs_options": null
                 },
                 "nodeType": "Scope",
                 "props": {},
                 "type": "node"
                }
               ],
               "instanceArgs": {
                "namespace": "html",
                "tag": "div"
               },
               "nodeType": "DOM",
               "props": {
                "className": "field interact-widget"
               },
               "type": "node"
              }
             ],
             "instanceArgs": {
              "namespace": "html",
              "tag": "div"
             },
             "nodeType": "DOM",
             "props": {
              "style": {
               "display": "flex",
               "flex-direction": "column"
              }
             },
             "type": "node"
            },
            {
             "children": [
              {
               "children": [
                {
                 "children": [
                  {
                   "children": [],
                   "instanceArgs": {
                    "namespace": "html",
                    "tag": "div"
                   },
                   "nodeType": "DOM",
                   "props": {
                    "id": "container"
                   },
                   "type": "node"
                  }
                 ],
                 "instanceArgs": {
                  "handlers": {
                   "value": [
                    "(function (txt){return this.k.render(txt,this.container)})"
                   ]
                  },
                  "id": "12374510080605918380",
                  "imports": {
                   "data": [
                    {
                     "name": null,
                     "type": "js",
                     "url": "/assetserver/dd22ed1bf1896c2748f3fe616ce0b838adc895c1-katex.min.js"
                    },
                    {
                     "name": null,
                     "type": "css",
                     "url": "/assetserver/46517a424aa5e6cffc1360d7e0848b601c584ee3-katex.min.css"
                    }
                   ],
                   "type": "async_block"
                  },
                  "mount_callbacks": [
                   "function () {\n    var handler = ((function (k){this.k=k; this.container=this.dom.querySelector(\"#container\"); return k.render(\"\\\\;\\\\;\",this.container)}));\n    (WebIO.importBlock({\"data\":[{\"name\":null,\"type\":\"js\",\"url\":\"/assetserver/dd22ed1bf1896c2748f3fe616ce0b838adc895c1-katex.min.js\"},{\"name\":null,\"type\":\"css\",\"url\":\"/assetserver/46517a424aa5e6cffc1360d7e0848b601c584ee3-katex.min.css\"}],\"type\":\"async_block\"})).then((imports) => handler.apply(this, imports));\n}\n"
                  ],
                  "observables": {
                   "value": {
                    "id": "10156954760989483595",
                    "sync": false,
                    "value": "\\;\\;"
                   }
                  },
                  "systemjs_options": null
                 },
                 "nodeType": "Scope",
                 "props": {},
                 "type": "node"
                }
               ],
               "instanceArgs": {
                "namespace": "html",
                "tag": "div"
               },
               "nodeType": "DOM",
               "props": {
                "className": "interact-widget"
               },
               "type": "node"
              },
              {
               "children": [
                {
                 "children": [
                  {
                   "children": [
                    "run"
                   ],
                   "instanceArgs": {
                    "namespace": "html",
                    "tag": "button"
                   },
                   "nodeType": "DOM",
                   "props": {
                    "attributes": {
                     "data-bind": "click: function (){this.clicks(this.clicks()+1)}, css: {'is-loading' : loading}"
                    },
                    "className": "is-medium button is-primary",
                    "style": {}
                   },
                   "type": "node"
                  }
                 ],
                 "instanceArgs": {
                  "handlers": {
                   "clicks": [
                    "(function (val){return (val!=this.model[\"clicks\"]()) ? (this.valueFromJulia[\"clicks\"]=true, this.model[\"clicks\"](val)) : undefined})"
                   ],
                   "loading": [
                    "(function (val){return (val!=this.model[\"loading\"]()) ? (this.valueFromJulia[\"loading\"]=true, this.model[\"loading\"](val)) : undefined})"
                   ]
                  },
                  "id": "10859497460151017402",
                  "imports": {
                   "data": [
                    {
                     "name": "knockout",
                     "type": "js",
                     "url": "/assetserver/727383f2a47bd31570b7da84eee7b022dd6d7c78-knockout.js"
                    },
                    {
                     "name": "knockout_punches",
                     "type": "js",
                     "url": "/assetserver/382b41b3b1bd9f26f75861d360bad7f8beea211f-knockout_punches.js"
                    },
                    {
                     "name": null,
                     "type": "js",
                     "url": "/assetserver/5ab20f1060420992a9b82a65b735dee4d81ef413-all.js"
                    },
                    {
                     "name": null,
                     "type": "css",
                     "url": "/assetserver/1cc0ed62837210b80a182cc3676512f895dab686-style.css"
                    },
                    {
                     "name": null,
                     "type": "css",
                     "url": "/assetserver/2eee816f616df3549d7044d45e744fbf8d42bfa1-bulma_confined.min.css"
                    }
                   ],
                   "type": "async_block"
                  },
                  "mount_callbacks": [
                   "function () {\n    var handler = (function (ko, koPunches) {\n    ko.punches.enableAll();\n    ko.bindingHandlers.numericValue = {\n        init: function(element, valueAccessor, allBindings, data, context) {\n            var stringified = ko.observable(ko.unwrap(valueAccessor()));\n            stringified.subscribe(function(value) {\n                var val = parseFloat(value);\n                if (!isNaN(val)) {\n                    valueAccessor()(val);\n                }\n            });\n            valueAccessor().subscribe(function(value) {\n                var str = JSON.stringify(value);\n                if ((str == \"0\") && ([\"-0\", \"-0.\"].indexOf(stringified()) >= 0))\n                     return;\n                 if ([\"null\", \"\"].indexOf(str) >= 0)\n                     return;\n                stringified(str);\n            });\n            ko.applyBindingsToNode(\n                element,\n                {\n                    value: stringified,\n                    valueUpdate: allBindings.get('valueUpdate'),\n                },\n                context,\n            );\n        }\n    };\n    var json_data = {\"loading\":WebIO.getval({\"name\":\"loading\",\"scope\":\"10859497460151017402\",\"id\":\"2308070748478877953\",\"type\":\"observable\"}),\"clicks\":WebIO.getval({\"name\":\"clicks\",\"scope\":\"10859497460151017402\",\"id\":\"12312449372174513258\",\"type\":\"observable\"})};\n    var self = this;\n    function AppViewModel() {\n        for (var key in json_data) {\n            var el = json_data[key];\n            this[key] = Array.isArray(el) ? ko.observableArray(el) : ko.observable(el);\n        }\n        \n        \n        [this[\"loading\"].subscribe((function (val){!(this.valueFromJulia[\"loading\"]) ? (WebIO.setval({\"name\":\"loading\",\"scope\":\"10859497460151017402\",\"id\":\"2308070748478877953\",\"type\":\"observable\"},val)) : undefined; return this.valueFromJulia[\"loading\"]=false}),self),this[\"clicks\"].subscribe((function (val){!(this.valueFromJulia[\"clicks\"]) ? (WebIO.setval({\"name\":\"clicks\",\"scope\":\"10859497460151017402\",\"id\":\"12312449372174513258\",\"type\":\"observable\"},val)) : undefined; return this.valueFromJulia[\"clicks\"]=false}),self)]\n        \n    }\n    self.model = new AppViewModel();\n    self.valueFromJulia = {};\n    for (var key in json_data) {\n        self.valueFromJulia[key] = false;\n    }\n    ko.applyBindings(self.model, self.dom);\n}\n);\n    (WebIO.importBlock({\"data\":[{\"name\":\"knockout\",\"type\":\"js\",\"url\":\"/assetserver/727383f2a47bd31570b7da84eee7b022dd6d7c78-knockout.js\"},{\"name\":\"knockout_punches\",\"type\":\"js\",\"url\":\"/assetserver/382b41b3b1bd9f26f75861d360bad7f8beea211f-knockout_punches.js\"}],\"type\":\"async_block\"})).then((imports) => handler.apply(this, imports));\n}\n"
                  ],
                  "observables": {
                   "clicks": {
                    "id": "12312449372174513258",
                    "sync": true,
                    "value": 0
                   },
                   "loading": {
                    "id": "2308070748478877953",
                    "sync": false,
                    "value": false
                   }
                  },
                  "systemjs_options": null
                 },
                 "nodeType": "Scope",
                 "props": {},
                 "type": "node"
                }
               ],
               "instanceArgs": {
                "namespace": "html",
                "tag": "div"
               },
               "nodeType": "DOM",
               "props": {
                "className": "field interact-widget"
               },
               "type": "node"
              },
              {
               "children": [
                {
                 "children": [
                  {
                   "children": [],
                   "instanceArgs": {
                    "namespace": "html",
                    "tag": "div"
                   },
                   "nodeType": "DOM",
                   "props": {
                    "id": "container"
                   },
                   "type": "node"
                  }
                 ],
                 "instanceArgs": {
                  "handlers": {
                   "value": [
                    "(function (txt){return this.k.render(txt,this.container)})"
                   ]
                  },
                  "id": "12374510080605918380",
                  "imports": {
                   "data": [
                    {
                     "name": null,
                     "type": "js",
                     "url": "/assetserver/dd22ed1bf1896c2748f3fe616ce0b838adc895c1-katex.min.js"
                    },
                    {
                     "name": null,
                     "type": "css",
                     "url": "/assetserver/46517a424aa5e6cffc1360d7e0848b601c584ee3-katex.min.css"
                    }
                   ],
                   "type": "async_block"
                  },
                  "mount_callbacks": [
                   "function () {\n    var handler = ((function (k){this.k=k; this.container=this.dom.querySelector(\"#container\"); return k.render(\"\\\\;\\\\;\",this.container)}));\n    (WebIO.importBlock({\"data\":[{\"name\":null,\"type\":\"js\",\"url\":\"/assetserver/dd22ed1bf1896c2748f3fe616ce0b838adc895c1-katex.min.js\"},{\"name\":null,\"type\":\"css\",\"url\":\"/assetserver/46517a424aa5e6cffc1360d7e0848b601c584ee3-katex.min.css\"}],\"type\":\"async_block\"})).then((imports) => handler.apply(this, imports));\n}\n"
                  ],
                  "observables": {
                   "value": {
                    "id": "10156954760989483595",
                    "sync": false,
                    "value": "\\;\\;"
                   }
                  },
                  "systemjs_options": null
                 },
                 "nodeType": "Scope",
                 "props": {},
                 "type": "node"
                }
               ],
               "instanceArgs": {
                "namespace": "html",
                "tag": "div"
               },
               "nodeType": "DOM",
               "props": {
                "className": "interact-widget"
               },
               "type": "node"
              },
              {
               "children": [
                {
                 "children": [
                  {
                   "children": [
                    "stop"
                   ],
                   "instanceArgs": {
                    "namespace": "html",
                    "tag": "button"
                   },
                   "nodeType": "DOM",
                   "props": {
                    "attributes": {
                     "data-bind": "click: function (){this.clicks(this.clicks()+1)}, css: {'is-loading' : loading}"
                    },
                    "className": "is-medium button is-primary",
                    "style": {}
                   },
                   "type": "node"
                  }
                 ],
                 "instanceArgs": {
                  "handlers": {
                   "clicks": [
                    "(function (val){return (val!=this.model[\"clicks\"]()) ? (this.valueFromJulia[\"clicks\"]=true, this.model[\"clicks\"](val)) : undefined})"
                   ],
                   "loading": [
                    "(function (val){return (val!=this.model[\"loading\"]()) ? (this.valueFromJulia[\"loading\"]=true, this.model[\"loading\"](val)) : undefined})"
                   ]
                  },
                  "id": "6647289324375373488",
                  "imports": {
                   "data": [
                    {
                     "name": "knockout",
                     "type": "js",
                     "url": "/assetserver/727383f2a47bd31570b7da84eee7b022dd6d7c78-knockout.js"
                    },
                    {
                     "name": "knockout_punches",
                     "type": "js",
                     "url": "/assetserver/382b41b3b1bd9f26f75861d360bad7f8beea211f-knockout_punches.js"
                    },
                    {
                     "name": null,
                     "type": "js",
                     "url": "/assetserver/5ab20f1060420992a9b82a65b735dee4d81ef413-all.js"
                    },
                    {
                     "name": null,
                     "type": "css",
                     "url": "/assetserver/1cc0ed62837210b80a182cc3676512f895dab686-style.css"
                    },
                    {
                     "name": null,
                     "type": "css",
                     "url": "/assetserver/2eee816f616df3549d7044d45e744fbf8d42bfa1-bulma_confined.min.css"
                    }
                   ],
                   "type": "async_block"
                  },
                  "mount_callbacks": [
                   "function () {\n    var handler = (function (ko, koPunches) {\n    ko.punches.enableAll();\n    ko.bindingHandlers.numericValue = {\n        init: function(element, valueAccessor, allBindings, data, context) {\n            var stringified = ko.observable(ko.unwrap(valueAccessor()));\n            stringified.subscribe(function(value) {\n                var val = parseFloat(value);\n                if (!isNaN(val)) {\n                    valueAccessor()(val);\n                }\n            });\n            valueAccessor().subscribe(function(value) {\n                var str = JSON.stringify(value);\n                if ((str == \"0\") && ([\"-0\", \"-0.\"].indexOf(stringified()) >= 0))\n                     return;\n                 if ([\"null\", \"\"].indexOf(str) >= 0)\n                     return;\n                stringified(str);\n            });\n            ko.applyBindingsToNode(\n                element,\n                {\n                    value: stringified,\n                    valueUpdate: allBindings.get('valueUpdate'),\n                },\n                context,\n            );\n        }\n    };\n    var json_data = {\"loading\":WebIO.getval({\"name\":\"loading\",\"scope\":\"6647289324375373488\",\"id\":\"11400120026291106418\",\"type\":\"observable\"}),\"clicks\":WebIO.getval({\"name\":\"clicks\",\"scope\":\"6647289324375373488\",\"id\":\"4860482255306944175\",\"type\":\"observable\"})};\n    var self = this;\n    function AppViewModel() {\n        for (var key in json_data) {\n            var el = json_data[key];\n            this[key] = Array.isArray(el) ? ko.observableArray(el) : ko.observable(el);\n        }\n        \n        \n        [this[\"loading\"].subscribe((function (val){!(this.valueFromJulia[\"loading\"]) ? (WebIO.setval({\"name\":\"loading\",\"scope\":\"6647289324375373488\",\"id\":\"11400120026291106418\",\"type\":\"observable\"},val)) : undefined; return this.valueFromJulia[\"loading\"]=false}),self),this[\"clicks\"].subscribe((function (val){!(this.valueFromJulia[\"clicks\"]) ? (WebIO.setval({\"name\":\"clicks\",\"scope\":\"6647289324375373488\",\"id\":\"4860482255306944175\",\"type\":\"observable\"},val)) : undefined; return this.valueFromJulia[\"clicks\"]=false}),self)]\n        \n    }\n    self.model = new AppViewModel();\n    self.valueFromJulia = {};\n    for (var key in json_data) {\n        self.valueFromJulia[key] = false;\n    }\n    ko.applyBindings(self.model, self.dom);\n}\n);\n    (WebIO.importBlock({\"data\":[{\"name\":\"knockout\",\"type\":\"js\",\"url\":\"/assetserver/727383f2a47bd31570b7da84eee7b022dd6d7c78-knockout.js\"},{\"name\":\"knockout_punches\",\"type\":\"js\",\"url\":\"/assetserver/382b41b3b1bd9f26f75861d360bad7f8beea211f-knockout_punches.js\"}],\"type\":\"async_block\"})).then((imports) => handler.apply(this, imports));\n}\n"
                  ],
                  "observables": {
                   "clicks": {
                    "id": "4860482255306944175",
                    "sync": true,
                    "value": 0
                   },
                   "loading": {
                    "id": "11400120026291106418",
                    "sync": false,
                    "value": false
                   }
                  },
                  "systemjs_options": null
                 },
                 "nodeType": "Scope",
                 "props": {},
                 "type": "node"
                }
               ],
               "instanceArgs": {
                "namespace": "html",
                "tag": "div"
               },
               "nodeType": "DOM",
               "props": {
                "className": "field interact-widget"
               },
               "type": "node"
              },
              {
               "children": [
                {
                 "children": [
                  {
                   "children": [],
                   "instanceArgs": {
                    "namespace": "html",
                    "tag": "div"
                   },
                   "nodeType": "DOM",
                   "props": {
                    "id": "container"
                   },
                   "type": "node"
                  }
                 ],
                 "instanceArgs": {
                  "handlers": {
                   "value": [
                    "(function (txt){return this.k.render(txt,this.container)})"
                   ]
                  },
                  "id": "12374510080605918380",
                  "imports": {
                   "data": [
                    {
                     "name": null,
                     "type": "js",
                     "url": "/assetserver/dd22ed1bf1896c2748f3fe616ce0b838adc895c1-katex.min.js"
                    },
                    {
                     "name": null,
                     "type": "css",
                     "url": "/assetserver/46517a424aa5e6cffc1360d7e0848b601c584ee3-katex.min.css"
                    }
                   ],
                   "type": "async_block"
                  },
                  "mount_callbacks": [
                   "function () {\n    var handler = ((function (k){this.k=k; this.container=this.dom.querySelector(\"#container\"); return k.render(\"\\\\;\\\\;\",this.container)}));\n    (WebIO.importBlock({\"data\":[{\"name\":null,\"type\":\"js\",\"url\":\"/assetserver/dd22ed1bf1896c2748f3fe616ce0b838adc895c1-katex.min.js\"},{\"name\":null,\"type\":\"css\",\"url\":\"/assetserver/46517a424aa5e6cffc1360d7e0848b601c584ee3-katex.min.css\"}],\"type\":\"async_block\"})).then((imports) => handler.apply(this, imports));\n}\n"
                  ],
                  "observables": {
                   "value": {
                    "id": "10156954760989483595",
                    "sync": false,
                    "value": "\\;\\;"
                   }
                  },
                  "systemjs_options": null
                 },
                 "nodeType": "Scope",
                 "props": {},
                 "type": "node"
                }
               ],
               "instanceArgs": {
                "namespace": "html",
                "tag": "div"
               },
               "nodeType": "DOM",
               "props": {
                "className": "interact-widget"
               },
               "type": "node"
              },
              {
               "children": [
                {
                 "children": [
                  {
                   "children": [
                    "reset"
                   ],
                   "instanceArgs": {
                    "namespace": "html",
                    "tag": "button"
                   },
                   "nodeType": "DOM",
                   "props": {
                    "attributes": {
                     "data-bind": "click: function (){this.clicks(this.clicks()+1)}, css: {'is-loading' : loading}"
                    },
                    "className": "is-medium button is-primary",
                    "style": {}
                   },
                   "type": "node"
                  }
                 ],
                 "instanceArgs": {
                  "handlers": {
                   "clicks": [
                    "(function (val){return (val!=this.model[\"clicks\"]()) ? (this.valueFromJulia[\"clicks\"]=true, this.model[\"clicks\"](val)) : undefined})"
                   ],
                   "loading": [
                    "(function (val){return (val!=this.model[\"loading\"]()) ? (this.valueFromJulia[\"loading\"]=true, this.model[\"loading\"](val)) : undefined})"
                   ]
                  },
                  "id": "11437898253746383168",
                  "imports": {
                   "data": [
                    {
                     "name": "knockout",
                     "type": "js",
                     "url": "/assetserver/727383f2a47bd31570b7da84eee7b022dd6d7c78-knockout.js"
                    },
                    {
                     "name": "knockout_punches",
                     "type": "js",
                     "url": "/assetserver/382b41b3b1bd9f26f75861d360bad7f8beea211f-knockout_punches.js"
                    },
                    {
                     "name": null,
                     "type": "js",
                     "url": "/assetserver/5ab20f1060420992a9b82a65b735dee4d81ef413-all.js"
                    },
                    {
                     "name": null,
                     "type": "css",
                     "url": "/assetserver/1cc0ed62837210b80a182cc3676512f895dab686-style.css"
                    },
                    {
                     "name": null,
                     "type": "css",
                     "url": "/assetserver/2eee816f616df3549d7044d45e744fbf8d42bfa1-bulma_confined.min.css"
                    }
                   ],
                   "type": "async_block"
                  },
                  "mount_callbacks": [
                   "function () {\n    var handler = (function (ko, koPunches) {\n    ko.punches.enableAll();\n    ko.bindingHandlers.numericValue = {\n        init: function(element, valueAccessor, allBindings, data, context) {\n            var stringified = ko.observable(ko.unwrap(valueAccessor()));\n            stringified.subscribe(function(value) {\n                var val = parseFloat(value);\n                if (!isNaN(val)) {\n                    valueAccessor()(val);\n                }\n            });\n            valueAccessor().subscribe(function(value) {\n                var str = JSON.stringify(value);\n                if ((str == \"0\") && ([\"-0\", \"-0.\"].indexOf(stringified()) >= 0))\n                     return;\n                 if ([\"null\", \"\"].indexOf(str) >= 0)\n                     return;\n                stringified(str);\n            });\n            ko.applyBindingsToNode(\n                element,\n                {\n                    value: stringified,\n                    valueUpdate: allBindings.get('valueUpdate'),\n                },\n                context,\n            );\n        }\n    };\n    var json_data = {\"loading\":WebIO.getval({\"name\":\"loading\",\"scope\":\"11437898253746383168\",\"id\":\"6456524123404938283\",\"type\":\"observable\"}),\"clicks\":WebIO.getval({\"name\":\"clicks\",\"scope\":\"11437898253746383168\",\"id\":\"2923892109202342807\",\"type\":\"observable\"})};\n    var self = this;\n    function AppViewModel() {\n        for (var key in json_data) {\n            var el = json_data[key];\n            this[key] = Array.isArray(el) ? ko.observableArray(el) : ko.observable(el);\n        }\n        \n        \n        [this[\"loading\"].subscribe((function (val){!(this.valueFromJulia[\"loading\"]) ? (WebIO.setval({\"name\":\"loading\",\"scope\":\"11437898253746383168\",\"id\":\"6456524123404938283\",\"type\":\"observable\"},val)) : undefined; return this.valueFromJulia[\"loading\"]=false}),self),this[\"clicks\"].subscribe((function (val){!(this.valueFromJulia[\"clicks\"]) ? (WebIO.setval({\"name\":\"clicks\",\"scope\":\"11437898253746383168\",\"id\":\"2923892109202342807\",\"type\":\"observable\"},val)) : undefined; return this.valueFromJulia[\"clicks\"]=false}),self)]\n        \n    }\n    self.model = new AppViewModel();\n    self.valueFromJulia = {};\n    for (var key in json_data) {\n        self.valueFromJulia[key] = false;\n    }\n    ko.applyBindings(self.model, self.dom);\n}\n);\n    (WebIO.importBlock({\"data\":[{\"name\":\"knockout\",\"type\":\"js\",\"url\":\"/assetserver/727383f2a47bd31570b7da84eee7b022dd6d7c78-knockout.js\"},{\"name\":\"knockout_punches\",\"type\":\"js\",\"url\":\"/assetserver/382b41b3b1bd9f26f75861d360bad7f8beea211f-knockout_punches.js\"}],\"type\":\"async_block\"})).then((imports) => handler.apply(this, imports));\n}\n"
                  ],
                  "observables": {
                   "clicks": {
                    "id": "2923892109202342807",
                    "sync": true,
                    "value": 0
                   },
                   "loading": {
                    "id": "6456524123404938283",
                    "sync": false,
                    "value": false
                   }
                  },
                  "systemjs_options": null
                 },
                 "nodeType": "Scope",
                 "props": {},
                 "type": "node"
                }
               ],
               "instanceArgs": {
                "namespace": "html",
                "tag": "div"
               },
               "nodeType": "DOM",
               "props": {
                "className": "field interact-widget"
               },
               "type": "node"
              },
              {
               "children": [
                {
                 "children": [
                  {
                   "children": [],
                   "instanceArgs": {
                    "namespace": "html",
                    "tag": "div"
                   },
                   "nodeType": "DOM",
                   "props": {
                    "id": "container"
                   },
                   "type": "node"
                  }
                 ],
                 "instanceArgs": {
                  "handlers": {
                   "value": [
                    "(function (txt){return this.k.render(txt,this.container)})"
                   ]
                  },
                  "id": "12374510080605918380",
                  "imports": {
                   "data": [
                    {
                     "name": null,
                     "type": "js",
                     "url": "/assetserver/dd22ed1bf1896c2748f3fe616ce0b838adc895c1-katex.min.js"
                    },
                    {
                     "name": null,
                     "type": "css",
                     "url": "/assetserver/46517a424aa5e6cffc1360d7e0848b601c584ee3-katex.min.css"
                    }
                   ],
                   "type": "async_block"
                  },
                  "mount_callbacks": [
                   "function () {\n    var handler = ((function (k){this.k=k; this.container=this.dom.querySelector(\"#container\"); return k.render(\"\\\\;\\\\;\",this.container)}));\n    (WebIO.importBlock({\"data\":[{\"name\":null,\"type\":\"js\",\"url\":\"/assetserver/dd22ed1bf1896c2748f3fe616ce0b838adc895c1-katex.min.js\"},{\"name\":null,\"type\":\"css\",\"url\":\"/assetserver/46517a424aa5e6cffc1360d7e0848b601c584ee3-katex.min.css\"}],\"type\":\"async_block\"})).then((imports) => handler.apply(this, imports));\n}\n"
                  ],
                  "observables": {
                   "value": {
                    "id": "10156954760989483595",
                    "sync": false,
                    "value": "\\;\\;"
                   }
                  },
                  "systemjs_options": null
                 },
                 "nodeType": "Scope",
                 "props": {},
                 "type": "node"
                }
               ],
               "instanceArgs": {
                "namespace": "html",
                "tag": "div"
               },
               "nodeType": "DOM",
               "props": {
                "className": "interact-widget"
               },
               "type": "node"
              },
              {
               "children": [
                {
                 "children": [
                  {
                   "children": [
                    "save"
                   ],
                   "instanceArgs": {
                    "namespace": "html",
                    "tag": "button"
                   },
                   "nodeType": "DOM",
                   "props": {
                    "attributes": {
                     "data-bind": "click: function (){this.clicks(this.clicks()+1)}, css: {'is-loading' : loading}"
                    },
                    "className": "is-medium button is-primary",
                    "style": {}
                   },
                   "type": "node"
                  }
                 ],
                 "instanceArgs": {
                  "handlers": {
                   "clicks": [
                    "(function (val){return (val!=this.model[\"clicks\"]()) ? (this.valueFromJulia[\"clicks\"]=true, this.model[\"clicks\"](val)) : undefined})"
                   ],
                   "loading": [
                    "(function (val){return (val!=this.model[\"loading\"]()) ? (this.valueFromJulia[\"loading\"]=true, this.model[\"loading\"](val)) : undefined})"
                   ]
                  },
                  "id": "5929907572315025974",
                  "imports": {
                   "data": [
                    {
                     "name": "knockout",
                     "type": "js",
                     "url": "/assetserver/727383f2a47bd31570b7da84eee7b022dd6d7c78-knockout.js"
                    },
                    {
                     "name": "knockout_punches",
                     "type": "js",
                     "url": "/assetserver/382b41b3b1bd9f26f75861d360bad7f8beea211f-knockout_punches.js"
                    },
                    {
                     "name": null,
                     "type": "js",
                     "url": "/assetserver/5ab20f1060420992a9b82a65b735dee4d81ef413-all.js"
                    },
                    {
                     "name": null,
                     "type": "css",
                     "url": "/assetserver/1cc0ed62837210b80a182cc3676512f895dab686-style.css"
                    },
                    {
                     "name": null,
                     "type": "css",
                     "url": "/assetserver/2eee816f616df3549d7044d45e744fbf8d42bfa1-bulma_confined.min.css"
                    }
                   ],
                   "type": "async_block"
                  },
                  "mount_callbacks": [
                   "function () {\n    var handler = (function (ko, koPunches) {\n    ko.punches.enableAll();\n    ko.bindingHandlers.numericValue = {\n        init: function(element, valueAccessor, allBindings, data, context) {\n            var stringified = ko.observable(ko.unwrap(valueAccessor()));\n            stringified.subscribe(function(value) {\n                var val = parseFloat(value);\n                if (!isNaN(val)) {\n                    valueAccessor()(val);\n                }\n            });\n            valueAccessor().subscribe(function(value) {\n                var str = JSON.stringify(value);\n                if ((str == \"0\") && ([\"-0\", \"-0.\"].indexOf(stringified()) >= 0))\n                     return;\n                 if ([\"null\", \"\"].indexOf(str) >= 0)\n                     return;\n                stringified(str);\n            });\n            ko.applyBindingsToNode(\n                element,\n                {\n                    value: stringified,\n                    valueUpdate: allBindings.get('valueUpdate'),\n                },\n                context,\n            );\n        }\n    };\n    var json_data = {\"loading\":WebIO.getval({\"name\":\"loading\",\"scope\":\"5929907572315025974\",\"id\":\"2136405971495001128\",\"type\":\"observable\"}),\"clicks\":WebIO.getval({\"name\":\"clicks\",\"scope\":\"5929907572315025974\",\"id\":\"17463230361477590191\",\"type\":\"observable\"})};\n    var self = this;\n    function AppViewModel() {\n        for (var key in json_data) {\n            var el = json_data[key];\n            this[key] = Array.isArray(el) ? ko.observableArray(el) : ko.observable(el);\n        }\n        \n        \n        [this[\"loading\"].subscribe((function (val){!(this.valueFromJulia[\"loading\"]) ? (WebIO.setval({\"name\":\"loading\",\"scope\":\"5929907572315025974\",\"id\":\"2136405971495001128\",\"type\":\"observable\"},val)) : undefined; return this.valueFromJulia[\"loading\"]=false}),self),this[\"clicks\"].subscribe((function (val){!(this.valueFromJulia[\"clicks\"]) ? (WebIO.setval({\"name\":\"clicks\",\"scope\":\"5929907572315025974\",\"id\":\"17463230361477590191\",\"type\":\"observable\"},val)) : undefined; return this.valueFromJulia[\"clicks\"]=false}),self)]\n        \n    }\n    self.model = new AppViewModel();\n    self.valueFromJulia = {};\n    for (var key in json_data) {\n        self.valueFromJulia[key] = false;\n    }\n    ko.applyBindings(self.model, self.dom);\n}\n);\n    (WebIO.importBlock({\"data\":[{\"name\":\"knockout\",\"type\":\"js\",\"url\":\"/assetserver/727383f2a47bd31570b7da84eee7b022dd6d7c78-knockout.js\"},{\"name\":\"knockout_punches\",\"type\":\"js\",\"url\":\"/assetserver/382b41b3b1bd9f26f75861d360bad7f8beea211f-knockout_punches.js\"}],\"type\":\"async_block\"})).then((imports) => handler.apply(this, imports));\n}\n"
                  ],
                  "observables": {
                   "clicks": {
                    "id": "17463230361477590191",
                    "sync": true,
                    "value": 0
                   },
                   "loading": {
                    "id": "2136405971495001128",
                    "sync": false,
                    "value": false
                   }
                  },
                  "systemjs_options": null
                 },
                 "nodeType": "Scope",
                 "props": {},
                 "type": "node"
                }
               ],
               "instanceArgs": {
                "namespace": "html",
                "tag": "div"
               },
               "nodeType": "DOM",
               "props": {
                "className": "field interact-widget"
               },
               "type": "node"
              }
             ],
             "instanceArgs": {
              "namespace": "html",
              "tag": "div"
             },
             "nodeType": "DOM",
             "props": {
              "style": {
               "display": "flex",
               "flex-direction": "row"
              }
             },
             "type": "node"
            }
           ],
           "instanceArgs": {
            "namespace": "html",
            "tag": "div"
           },
           "nodeType": "DOM",
           "props": {
            "style": {
             "display": "flex",
             "flex-direction": "column"
            }
           },
           "type": "node"
          },
          {
           "children": [
            {
             "children": [
              {
               "children": [],
               "instanceArgs": {
                "namespace": "html",
                "tag": "div"
               },
               "nodeType": "DOM",
               "props": {
                "id": "container"
               },
               "type": "node"
              }
             ],
             "instanceArgs": {
              "handlers": {
               "value": [
                "(function (txt){return this.k.render(txt,this.container)})"
               ]
              },
              "id": "12374510080605918380",
              "imports": {
               "data": [
                {
                 "name": null,
                 "type": "js",
                 "url": "/assetserver/dd22ed1bf1896c2748f3fe616ce0b838adc895c1-katex.min.js"
                },
                {
                 "name": null,
                 "type": "css",
                 "url": "/assetserver/46517a424aa5e6cffc1360d7e0848b601c584ee3-katex.min.css"
                }
               ],
               "type": "async_block"
              },
              "mount_callbacks": [
               "function () {\n    var handler = ((function (k){this.k=k; this.container=this.dom.querySelector(\"#container\"); return k.render(\"\\\\;\\\\;\",this.container)}));\n    (WebIO.importBlock({\"data\":[{\"name\":null,\"type\":\"js\",\"url\":\"/assetserver/dd22ed1bf1896c2748f3fe616ce0b838adc895c1-katex.min.js\"},{\"name\":null,\"type\":\"css\",\"url\":\"/assetserver/46517a424aa5e6cffc1360d7e0848b601c584ee3-katex.min.css\"}],\"type\":\"async_block\"})).then((imports) => handler.apply(this, imports));\n}\n"
              ],
              "observables": {
               "value": {
                "id": "10156954760989483595",
                "sync": false,
                "value": "\\;\\;"
               }
              },
              "systemjs_options": null
             },
             "nodeType": "Scope",
             "props": {},
             "type": "node"
            }
           ],
           "instanceArgs": {
            "namespace": "html",
            "tag": "div"
           },
           "nodeType": "DOM",
           "props": {
            "className": "interact-widget"
           },
           "type": "node"
          },
          {
           "children": [
            {
             "children": [],
             "instanceArgs": {
              "namespace": "html",
              "tag": "div"
             },
             "nodeType": "DOM",
             "props": {
              "className": "webio-observable",
              "setInnerHtml": "<img src='data:image/png;base64,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'></img>"
             },
             "type": "node"
            }
           ],
           "instanceArgs": {
            "handlers": {
             "obs-output": [
              "function (value, scope) {\n    scope.setInnerHTML(value);\n}\n"
             ]
            },
            "id": "12218117024924833551",
            "imports": {
             "data": [],
             "type": "async_block"
            },
            "mount_callbacks": [],
            "observables": {
             "obs-output": {
              "id": "12127791440836725376",
              "sync": false,
              "value": "<img src='data:image/png;base64,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'></img>"
             }
            },
            "systemjs_options": null
           },
           "nodeType": "Scope",
           "props": {},
           "type": "node"
          },
          {
           "children": [
            {
             "children": [
              {
               "children": [],
               "instanceArgs": {
                "namespace": "html",
                "tag": "div"
               },
               "nodeType": "DOM",
               "props": {
                "id": "container"
               },
               "type": "node"
              }
             ],
             "instanceArgs": {
              "handlers": {
               "value": [
                "(function (txt){return this.k.render(txt,this.container)})"
               ]
              },
              "id": "12374510080605918380",
              "imports": {
               "data": [
                {
                 "name": null,
                 "type": "js",
                 "url": "/assetserver/dd22ed1bf1896c2748f3fe616ce0b838adc895c1-katex.min.js"
                },
                {
                 "name": null,
                 "type": "css",
                 "url": "/assetserver/46517a424aa5e6cffc1360d7e0848b601c584ee3-katex.min.css"
                }
               ],
               "type": "async_block"
              },
              "mount_callbacks": [
               "function () {\n    var handler = ((function (k){this.k=k; this.container=this.dom.querySelector(\"#container\"); return k.render(\"\\\\;\\\\;\",this.container)}));\n    (WebIO.importBlock({\"data\":[{\"name\":null,\"type\":\"js\",\"url\":\"/assetserver/dd22ed1bf1896c2748f3fe616ce0b838adc895c1-katex.min.js\"},{\"name\":null,\"type\":\"css\",\"url\":\"/assetserver/46517a424aa5e6cffc1360d7e0848b601c584ee3-katex.min.css\"}],\"type\":\"async_block\"})).then((imports) => handler.apply(this, imports));\n}\n"
              ],
              "observables": {
               "value": {
                "id": "10156954760989483595",
                "sync": false,
                "value": "\\;\\;"
               }
              },
              "systemjs_options": null
             },
             "nodeType": "Scope",
             "props": {},
             "type": "node"
            }
           ],
           "instanceArgs": {
            "namespace": "html",
            "tag": "div"
           },
           "nodeType": "DOM",
           "props": {
            "className": "interact-widget"
           },
           "type": "node"
          },
          {
           "children": [],
           "instanceArgs": {
            "namespace": "html",
            "tag": "div"
           },
           "nodeType": "DOM",
           "props": {
            "style": {
             "display": "flex",
             "flex-direction": "column"
            }
           },
           "type": "node"
          }
         ],
         "instanceArgs": {
          "namespace": "html",
          "tag": "div"
         },
         "nodeType": "DOM",
         "props": {
          "style": {
           "display": "flex",
           "flex-direction": "row"
          }
         },
         "type": "node"
        }
       ],
       "instanceArgs": {
        "namespace": "html",
        "tag": "div"
       },
       "nodeType": "DOM",
       "props": {
        "style": {
         "display": "flex",
         "flex-direction": "column"
        }
       },
       "type": "node"
      },
      "text/html": [
       "<div\n",
       "    class=\"webio-mountpoint\"\n",
       "    data-webio-mountpoint=\"2915472329243747809\"\n",
       ">\n",
       "    <script>\n",
       "    (function(){\n",
       "    // Some integrations (namely, IJulia/Jupyter) use an alternate render pathway than\n",
       "    // just putting the html on the page. If WebIO isn't defined, then it's pretty likely\n",
       "    // that we're in one of those situations and the integration just isn't installed\n",
       "    // correctly.\n",
       "    if (typeof window.WebIO === \"undefined\") {\n",
       "        document\n",
       "            .querySelector('[data-webio-mountpoint=\"2915472329243747809\"]')\n",
       "            .innerHTML = (\n",
       "                '<div style=\"padding: 1em; background-color: #f8d6da; border: 1px solid #f5c6cb; font-weight: bold;\">' +\n",
       "                '<p><strong>WebIO not detected.</strong></p>' +\n",
       "                '<p>Please read ' +\n",
       "                '<a href=\"https://juliagizmos.github.io/WebIO.jl/latest/troubleshooting/not-detected/\" target=\"_blank\">the troubleshooting guide</a> ' +\n",
       "                'for more information on how to resolve this issue.</p>' +\n",
       "                '<p><a href=\"https://juliagizmos.github.io/WebIO.jl/latest/troubleshooting/not-detected/\" target=\"_blank\">https://juliagizmos.github.io/WebIO.jl/latest/troubleshooting/not-detected/</a></p>' +\n",
       "                '</div>'\n",
       "            );\n",
       "        return;\n",
       "    }\n",
       "    WebIO.mount(\n",
       "        document.querySelector('[data-webio-mountpoint=\"2915472329243747809\"]'),\n",
       "        {\"props\":{\"style\":{\"display\":\"flex\",\"flex-direction\":\"column\"}},\"nodeType\":\"DOM\",\"type\":\"node\",\"instanceArgs\":{\"namespace\":\"html\",\"tag\":\"div\"},\"children\":[{\"props\":{\"style\":{\"display\":\"flex\",\"flex-direction\":\"row\"}},\"nodeType\":\"DOM\",\"type\":\"node\",\"instanceArgs\":{\"namespace\":\"html\",\"tag\":\"div\"},\"children\":[{\"props\":{\"style\":{\"display\":\"flex\",\"flex-direction\":\"column\"}},\"nodeType\":\"DOM\",\"type\":\"node\",\"instanceArgs\":{\"namespace\":\"html\",\"tag\":\"div\"},\"children\":[{\"props\":{\"className\":\"field interact-widget\"},\"nodeType\":\"DOM\",\"type\":\"node\",\"instanceArgs\":{\"namespace\":\"html\",\"tag\":\"div\"},\"children\":[{\"props\":{},\"nodeType\":\"Scope\",\"type\":\"node\",\"instanceArgs\":{\"imports\":{\"data\":[{\"name\":\"knockout\",\"type\":\"js\",\"url\":\"\\/assetserver\\/727383f2a47bd31570b7da84eee7b022dd6d7c78-knockout.js\"},{\"name\":\"knockout_punches\",\"type\":\"js\",\"url\":\"\\/assetserver\\/382b41b3b1bd9f26f75861d360bad7f8beea211f-knockout_punches.js\"},{\"name\":null,\"type\":\"js\",\"url\":\"\\/assetserver\\/5ab20f1060420992a9b82a65b735dee4d81ef413-all.js\"},{\"name\":null,\"type\":\"css\",\"url\":\"\\/assetserver\\/1cc0ed62837210b80a182cc3676512f895dab686-style.css\"},{\"name\":null,\"type\":\"css\",\"url\":\"\\/assetserver\\/2eee816f616df3549d7044d45e744fbf8d42bfa1-bulma_confined.min.css\"}],\"type\":\"async_block\"},\"id\":\"14749890256849955995\",\"handlers\":{\"changes\":[\"(function (val){return (val!=this.model[\\\"changes\\\"]()) ? (this.valueFromJulia[\\\"changes\\\"]=true, this.model[\\\"changes\\\"](val)) : undefined})\"],\"index\":[\"(function (val){return (val!=this.model[\\\"index\\\"]()) ? (this.valueFromJulia[\\\"index\\\"]=true, this.model[\\\"index\\\"](val)) : undefined})\"]},\"systemjs_options\":null,\"mount_callbacks\":[\"function () {\\n    var handler = (function (ko, koPunches) {\\n    ko.punches.enableAll();\\n    ko.bindingHandlers.numericValue = {\\n        init: function(element, valueAccessor, allBindings, data, context) {\\n            var stringified = ko.observable(ko.unwrap(valueAccessor()));\\n            stringified.subscribe(function(value) {\\n                var val = parseFloat(value);\\n                if (!isNaN(val)) {\\n                    valueAccessor()(val);\\n                }\\n            });\\n            valueAccessor().subscribe(function(value) {\\n                var str = JSON.stringify(value);\\n                if ((str == \\\"0\\\") && ([\\\"-0\\\", \\\"-0.\\\"].indexOf(stringified()) >= 0))\\n                     return;\\n                 if ([\\\"null\\\", \\\"\\\"].indexOf(str) >= 0)\\n                     return;\\n                stringified(str);\\n            });\\n            ko.applyBindingsToNode(\\n                element,\\n                {\\n                    value: stringified,\\n                    valueUpdate: allBindings.get('valueUpdate'),\\n                },\\n                context,\\n            );\\n        }\\n    };\\n    var json_data = {\\\"formatted_vals\\\":[\\\"1\\\",\\\"2\\\",\\\"3\\\",\\\"4\\\",\\\"5\\\",\\\"6\\\",\\\"7\\\",\\\"8\\\",\\\"9\\\",\\\"10\\\",\\\"11\\\",\\\"12\\\",\\\"13\\\",\\\"14\\\",\\\"15\\\",\\\"16\\\",\\\"17\\\",\\\"18\\\",\\\"19\\\",\\\"20\\\",\\\"21\\\",\\\"22\\\",\\\"23\\\",\\\"24\\\",\\\"25\\\",\\\"26\\\",\\\"27\\\",\\\"28\\\",\\\"29\\\",\\\"30\\\",\\\"31\\\",\\\"32\\\",\\\"33\\\",\\\"34\\\",\\\"35\\\",\\\"36\\\",\\\"37\\\",\\\"38\\\",\\\"39\\\",\\\"40\\\",\\\"41\\\",\\\"42\\\",\\\"43\\\",\\\"44\\\",\\\"45\\\",\\\"46\\\",\\\"47\\\",\\\"48\\\",\\\"49\\\",\\\"50\\\",\\\"51\\\",\\\"52\\\",\\\"53\\\",\\\"54\\\",\\\"55\\\",\\\"56\\\",\\\"57\\\",\\\"58\\\",\\\"59\\\",\\\"60\\\",\\\"61\\\",\\\"62\\\",\\\"63\\\",\\\"64\\\",\\\"65\\\",\\\"66\\\",\\\"67\\\",\\\"68\\\",\\\"69\\\",\\\"70\\\",\\\"71\\\",\\\"72\\\",\\\"73\\\",\\\"74\\\",\\\"75\\\",\\\"76\\\",\\\"77\\\",\\\"78\\\",\\\"79\\\",\\\"80\\\",\\\"81\\\",\\\"82\\\",\\\"83\\\",\\\"84\\\",\\\"85\\\",\\\"86\\\",\\\"87\\\",\\\"88\\\",\\\"89\\\",\\\"90\\\",\\\"91\\\",\\\"92\\\",\\\"93\\\",\\\"94\\\",\\\"95\\\",\\\"96\\\",\\\"97\\\",\\\"98\\\",\\\"99\\\",\\\"100\\\",\\\"101\\\",\\\"102\\\",\\\"103\\\",\\\"104\\\",\\\"105\\\",\\\"106\\\",\\\"107\\\",\\\"108\\\",\\\"109\\\",\\\"110\\\",\\\"111\\\",\\\"112\\\",\\\"113\\\",\\\"114\\\",\\\"115\\\",\\\"116\\\",\\\"117\\\",\\\"118\\\",\\\"119\\\",\\\"120\\\",\\\"121\\\",\\\"122\\\",\\\"123\\\",\\\"124\\\",\\\"125\\\",\\\"126\\\",\\\"127\\\",\\\"128\\\",\\\"129\\\",\\\"130\\\",\\\"131\\\",\\\"132\\\",\\\"133\\\",\\\"134\\\",\\\"135\\\",\\\"136\\\",\\\"137\\\",\\\"138\\\",\\\"139\\\",\\\"140\\\",\\\"141\\\",\\\"142\\\",\\\"143\\\",\\\"144\\\",\\\"145\\\",\\\"146\\\",\\\"147\\\",\\\"148\\\",\\\"149\\\",\\\"150\\\",\\\"151\\\",\\\"152\\\",\\\"153\\\",\\\"154\\\",\\\"155\\\",\\\"156\\\",\\\"157\\\",\\\"158\\\",\\\"159\\\",\\\"160\\\",\\\"161\\\",\\\"162\\\",\\\"163\\\",\\\"164\\\",\\\"165\\\",\\\"166\\\",\\\"167\\\",\\\"168\\\",\\\"169\\\",\\\"170\\\",\\\"171\\\",\\\"172\\\",\\\"173\\\",\\\"174\\\",\\\"175\\\",\\\"176\\\",\\\"177\\\",\\\"178\\\",\\\"179\\\",\\\"180\\\",\\\"181\\\",\\\"182\\\",\\\"183\\\",\\\"184\\\",\\\"185\\\",\\\"186\\\",\\\"187\\\",\\\"188\\\",\\\"189\\\",\\\"190\\\",\\\"191\\\",\\\"192\\\",\\\"193\\\",\\\"194\\\",\\\"195\\\",\\\"196\\\",\\\"197\\\",\\\"198\\\",\\\"199\\\",\\\"200\\\",\\\"201\\\",\\\"202\\\",\\\"203\\\",\\\"204\\\",\\\"205\\\",\\\"206\\\",\\\"207\\\",\\\"208\\\",\\\"209\\\",\\\"210\\\",\\\"211\\\",\\\"212\\\",\\\"213\\\",\\\"214\\\",\\\"215\\\",\\\"216\\\",\\\"217\\\",\\\"218\\\",\\\"219\\\",\\\"220\\\",\\\"221\\\",\\\"222\\\",\\\"223\\\",\\\"224\\\",\\\"225\\\",\\\"226\\\",\\\"227\\\",\\\"228\\\",\\\"229\\\",\\\"230\\\",\\\"231\\\",\\\"232\\\",\\\"233\\\",\\\"234\\\",\\\"235\\\",\\\"236\\\",\\\"237\\\",\\\"238\\\",\\\"239\\\",\\\"240\\\",\\\"241\\\",\\\"242\\\",\\\"243\\\",\\\"244\\\",\\\"245\\\",\\\"246\\\",\\\"247\\\",\\\"248\\\",\\\"249\\\",\\\"250\\\",\\\"251\\\",\\\"252\\\",\\\"253\\\",\\\"254\\\",\\\"255\\\",\\\"256\\\",\\\"257\\\",\\\"258\\\",\\\"259\\\",\\\"260\\\",\\\"261\\\",\\\"262\\\",\\\"263\\\",\\\"264\\\",\\\"265\\\",\\\"266\\\",\\\"267\\\",\\\"268\\\",\\\"269\\\",\\\"270\\\",\\\"271\\\",\\\"272\\\",\\\"273\\\",\\\"274\\\",\\\"275\\\",\\\"276\\\",\\\"277\\\",\\\"278\\\",\\\"279\\\",\\\"280\\\",\\\"281\\\",\\\"282\\\",\\\"283\\\",\\\"284\\\",\\\"285\\\",\\\"286\\\",\\\"287\\\",\\\"288\\\",\\\"289\\\",\\\"290\\\",\\\"291\\\",\\\"292\\\",\\\"293\\\",\\\"294\\\",\\\"295\\\",\\\"296\\\",\\\"297\\\",\\\"298\\\",\\\"299\\\",\\\"300\\\",\\\"301\\\",\\\"302\\\",\\\"303\\\",\\\"304\\\",\\\"305\\\",\\\"306\\\",\\\"307\\\",\\\"308\\\",\\\"309\\\",\\\"310\\\",\\\"311\\\",\\\"312\\\",\\\"313\\\",\\\"314\\\",\\\"315\\\",\\\"316\\\",\\\"317\\\",\\\"318\\\",\\\"319\\\",\\\"320\\\",\\\"321\\\",\\\"322\\\",\\\"323\\\",\\\"324\\\",\\\"325\\\",\\\"326\\\",\\\"327\\\",\\\"328\\\",\\\"329\\\",\\\"330\\\",\\\"331\\\",\\\"332\\\",\\\"333\\\",\\\"334\\\",\\\"335\\\",\\\"336\\\",\\\"337\\\",\\\"338\\\",\\\"339\\\",\\\"340\\\",\\\"341\\\",\\\"342\\\",\\\"343\\\",\\\"344\\\",\\\"345\\\",\\\"346\\\",\\\"347\\\",\\\"348\\\",\\\"349\\\",\\\"350\\\",\\\"351\\\",\\\"352\\\",\\\"353\\\",\\\"354\\\",\\\"355\\\",\\\"356\\\",\\\"357\\\",\\\"358\\\",\\\"359\\\",\\\"360\\\",\\\"361\\\",\\\"362\\\",\\\"363\\\",\\\"364\\\",\\\"365\\\",\\\"366\\\",\\\"367\\\",\\\"368\\\",\\\"369\\\",\\\"370\\\",\\\"371\\\",\\\"372\\\",\\\"373\\\",\\\"374\\\",\\\"375\\\",\\\"376\\\",\\\"377\\\",\\\"378\\\",\\\"379\\\",\\\"380\\\",\\\"381\\\",\\\"382\\\",\\\"383\\\",\\\"384\\\",\\\"385\\\",\\\"386\\\",\\\"387\\\",\\\"388\\\",\\\"389\\\",\\\"390\\\",\\\"391\\\",\\\"392\\\",\\\"393\\\",\\\"394\\\",\\\"395\\\",\\\"396\\\",\\\"397\\\",\\\"398\\\",\\\"399\\\",\\\"400\\\"],\\\"changes\\\":WebIO.getval({\\\"name\\\":\\\"changes\\\",\\\"scope\\\":\\\"14749890256849955995\\\",\\\"id\\\":\\\"17150296114975303335\\\",\\\"type\\\":\\\"observable\\\"}),\\\"index\\\":WebIO.getval({\\\"name\\\":\\\"index\\\",\\\"scope\\\":\\\"14749890256849955995\\\",\\\"id\\\":\\\"9069007503870681331\\\",\\\"type\\\":\\\"observable\\\"})};\\n    var self = this;\\n    function AppViewModel() {\\n        for (var key in json_data) {\\n            var el = json_data[key];\\n            this[key] = Array.isArray(el) ? ko.observableArray(el) : ko.observable(el);\\n        }\\n        \\n        [this[\\\"formatted_val\\\"]=ko.computed(    function(){\\n        return this.formatted_vals()[parseInt(this.index())-(1)];\\n    }\\n,this)]\\n        [this[\\\"changes\\\"].subscribe((function (val){!(this.valueFromJulia[\\\"changes\\\"]) ? (WebIO.setval({\\\"name\\\":\\\"changes\\\",\\\"scope\\\":\\\"14749890256849955995\\\",\\\"id\\\":\\\"17150296114975303335\\\",\\\"type\\\":\\\"observable\\\"},val)) : undefined; return this.valueFromJulia[\\\"changes\\\"]=false}),self),this[\\\"index\\\"].subscribe((function (val){!(this.valueFromJulia[\\\"index\\\"]) ? (WebIO.setval({\\\"name\\\":\\\"index\\\",\\\"scope\\\":\\\"14749890256849955995\\\",\\\"id\\\":\\\"9069007503870681331\\\",\\\"type\\\":\\\"observable\\\"},val)) : undefined; return this.valueFromJulia[\\\"index\\\"]=false}),self)]\\n        \\n    }\\n    self.model = new AppViewModel();\\n    self.valueFromJulia = {};\\n    for (var key in json_data) {\\n        self.valueFromJulia[key] = false;\\n    }\\n    ko.applyBindings(self.model, self.dom);\\n}\\n);\\n    (WebIO.importBlock({\\\"data\\\":[{\\\"name\\\":\\\"knockout\\\",\\\"type\\\":\\\"js\\\",\\\"url\\\":\\\"\\/assetserver\\/727383f2a47bd31570b7da84eee7b022dd6d7c78-knockout.js\\\"},{\\\"name\\\":\\\"knockout_punches\\\",\\\"type\\\":\\\"js\\\",\\\"url\\\":\\\"\\/assetserver\\/382b41b3b1bd9f26f75861d360bad7f8beea211f-knockout_punches.js\\\"}],\\\"type\\\":\\\"async_block\\\"})).then((imports) => handler.apply(this, imports));\\n}\\n\"],\"observables\":{\"changes\":{\"sync\":false,\"id\":\"17150296114975303335\",\"value\":0},\"index\":{\"sync\":true,\"id\":\"9069007503870681331\",\"value\":1}}},\"children\":[{\"props\":{\"className\":\"interact-flex-row interact-widget\"},\"nodeType\":\"DOM\",\"type\":\"node\",\"instanceArgs\":{\"namespace\":\"html\",\"tag\":\"div\"},\"children\":[{\"props\":{\"className\":\"interact-flex-row-left\"},\"nodeType\":\"DOM\",\"type\":\"node\",\"instanceArgs\":{\"namespace\":\"html\",\"tag\":\"div\"},\"children\":[{\"props\":{\"className\":\"interact \",\"style\":{\"padding\":\"5px 10px 0px 10px\"}},\"nodeType\":\"DOM\",\"type\":\"node\",\"instanceArgs\":{\"namespace\":\"html\",\"tag\":\"label\"},\"children\":[\"time\"]}]},{\"props\":{\"className\":\"interact-flex-row-center\"},\"nodeType\":\"DOM\",\"type\":\"node\",\"instanceArgs\":{\"namespace\":\"html\",\"tag\":\"div\"},\"children\":[{\"props\":{\"max\":400,\"min\":1,\"attributes\":{\"type\":\"range\",\"data-bind\":\"numericValue: index, valueUpdate: 'input', event: {change: function (){this.changes(this.changes()+1)}}\",\"orient\":\"horizontal\"},\"step\":1,\"className\":\"slider slider is-fullwidth\",\"style\":{}},\"nodeType\":\"DOM\",\"type\":\"node\",\"instanceArgs\":{\"namespace\":\"html\",\"tag\":\"input\"},\"children\":[]}]},{\"props\":{\"className\":\"interact-flex-row-right\"},\"nodeType\":\"DOM\",\"type\":\"node\",\"instanceArgs\":{\"namespace\":\"html\",\"tag\":\"div\"},\"children\":[{\"props\":{\"attributes\":{\"data-bind\":\"text: formatted_val\"}},\"nodeType\":\"DOM\",\"type\":\"node\",\"instanceArgs\":{\"namespace\":\"html\",\"tag\":\"p\"},\"children\":[]}]}]}]}]},{\"props\":{\"className\":\"field interact-widget\"},\"nodeType\":\"DOM\",\"type\":\"node\",\"instanceArgs\":{\"namespace\":\"html\",\"tag\":\"div\"},\"children\":[{\"props\":{},\"nodeType\":\"Scope\",\"type\":\"node\",\"instanceArgs\":{\"imports\":{\"data\":[{\"name\":\"knockout\",\"type\":\"js\",\"url\":\"\\/assetserver\\/727383f2a47bd31570b7da84eee7b022dd6d7c78-knockout.js\"},{\"name\":\"knockout_punches\",\"type\":\"js\",\"url\":\"\\/assetserver\\/382b41b3b1bd9f26f75861d360bad7f8beea211f-knockout_punches.js\"},{\"name\":null,\"type\":\"js\",\"url\":\"\\/assetserver\\/5ab20f1060420992a9b82a65b735dee4d81ef413-all.js\"},{\"name\":null,\"type\":\"css\",\"url\":\"\\/assetserver\\/1cc0ed62837210b80a182cc3676512f895dab686-style.css\"},{\"name\":null,\"type\":\"css\",\"url\":\"\\/assetserver\\/2eee816f616df3549d7044d45e744fbf8d42bfa1-bulma_confined.min.css\"}],\"type\":\"async_block\"},\"id\":\"11209935382571947976\",\"handlers\":{\"changes\":[\"(function (val){return (val!=this.model[\\\"changes\\\"]()) ? (this.valueFromJulia[\\\"changes\\\"]=true, this.model[\\\"changes\\\"](val)) : undefined})\"],\"index\":[\"(function (val){return (val!=this.model[\\\"index\\\"]()) ? (this.valueFromJulia[\\\"index\\\"]=true, this.model[\\\"index\\\"](val)) : undefined})\"]},\"systemjs_options\":null,\"mount_callbacks\":[\"function () {\\n    var handler = (function (ko, koPunches) {\\n    ko.punches.enableAll();\\n    ko.bindingHandlers.numericValue = {\\n        init: function(element, valueAccessor, allBindings, data, context) {\\n            var stringified = ko.observable(ko.unwrap(valueAccessor()));\\n            stringified.subscribe(function(value) {\\n                var val = parseFloat(value);\\n                if (!isNaN(val)) {\\n                    valueAccessor()(val);\\n                }\\n            });\\n            valueAccessor().subscribe(function(value) {\\n                var str = JSON.stringify(value);\\n                if ((str == \\\"0\\\") && ([\\\"-0\\\", \\\"-0.\\\"].indexOf(stringified()) >= 0))\\n                     return;\\n                 if ([\\\"null\\\", \\\"\\\"].indexOf(str) >= 0)\\n                     return;\\n                stringified(str);\\n            });\\n            ko.applyBindingsToNode(\\n                element,\\n                {\\n                    value: stringified,\\n                    valueUpdate: allBindings.get('valueUpdate'),\\n                },\\n                context,\\n            );\\n        }\\n    };\\n    var json_data = {\\\"formatted_vals\\\":[\\\"0.1\\\",\\\"0.2\\\",\\\"0.3\\\",\\\"0.4\\\",\\\"0.5\\\",\\\"0.6\\\",\\\"0.7\\\",\\\"0.8\\\",\\\"0.9\\\",\\\"1.0\\\",\\\"1.1\\\",\\\"1.2\\\",\\\"1.3\\\",\\\"1.4\\\",\\\"1.5\\\",\\\"1.6\\\",\\\"1.7\\\",\\\"1.8\\\",\\\"1.9\\\",\\\"2.0\\\"],\\\"changes\\\":WebIO.getval({\\\"name\\\":\\\"changes\\\",\\\"scope\\\":\\\"11209935382571947976\\\",\\\"id\\\":\\\"3678561581940329269\\\",\\\"type\\\":\\\"observable\\\"}),\\\"index\\\":WebIO.getval({\\\"name\\\":\\\"index\\\",\\\"scope\\\":\\\"11209935382571947976\\\",\\\"id\\\":\\\"615166752810926526\\\",\\\"type\\\":\\\"observable\\\"})};\\n    var self = this;\\n    function AppViewModel() {\\n        for (var key in json_data) {\\n            var el = json_data[key];\\n            this[key] = Array.isArray(el) ? ko.observableArray(el) : ko.observable(el);\\n        }\\n        \\n        [this[\\\"formatted_val\\\"]=ko.computed(    function(){\\n        return this.formatted_vals()[parseInt(this.index())-(1)];\\n    }\\n,this)]\\n        [this[\\\"changes\\\"].subscribe((function (val){!(this.valueFromJulia[\\\"changes\\\"]) ? (WebIO.setval({\\\"name\\\":\\\"changes\\\",\\\"scope\\\":\\\"11209935382571947976\\\",\\\"id\\\":\\\"3678561581940329269\\\",\\\"type\\\":\\\"observable\\\"},val)) : undefined; return this.valueFromJulia[\\\"changes\\\"]=false}),self),this[\\\"index\\\"].subscribe((function (val){!(this.valueFromJulia[\\\"index\\\"]) ? (WebIO.setval({\\\"name\\\":\\\"index\\\",\\\"scope\\\":\\\"11209935382571947976\\\",\\\"id\\\":\\\"615166752810926526\\\",\\\"type\\\":\\\"observable\\\"},val)) : undefined; return this.valueFromJulia[\\\"index\\\"]=false}),self)]\\n        \\n    }\\n    self.model = new AppViewModel();\\n    self.valueFromJulia = {};\\n    for (var key in json_data) {\\n        self.valueFromJulia[key] = false;\\n    }\\n    ko.applyBindings(self.model, self.dom);\\n}\\n);\\n    (WebIO.importBlock({\\\"data\\\":[{\\\"name\\\":\\\"knockout\\\",\\\"type\\\":\\\"js\\\",\\\"url\\\":\\\"\\/assetserver\\/727383f2a47bd31570b7da84eee7b022dd6d7c78-knockout.js\\\"},{\\\"name\\\":\\\"knockout_punches\\\",\\\"type\\\":\\\"js\\\",\\\"url\\\":\\\"\\/assetserver\\/382b41b3b1bd9f26f75861d360bad7f8beea211f-knockout_punches.js\\\"}],\\\"type\\\":\\\"async_block\\\"})).then((imports) => handler.apply(this, imports));\\n}\\n\"],\"observables\":{\"changes\":{\"sync\":false,\"id\":\"3678561581940329269\",\"value\":0},\"index\":{\"sync\":true,\"id\":\"615166752810926526\",\"value\":10}}},\"children\":[{\"props\":{\"className\":\"interact-flex-row interact-widget\"},\"nodeType\":\"DOM\",\"type\":\"node\",\"instanceArgs\":{\"namespace\":\"html\",\"tag\":\"div\"},\"children\":[{\"props\":{\"className\":\"interact-flex-row-left\"},\"nodeType\":\"DOM\",\"type\":\"node\",\"instanceArgs\":{\"namespace\":\"html\",\"tag\":\"div\"},\"children\":[{\"props\":{\"className\":\"interact \",\"style\":{\"padding\":\"5px 10px 0px 10px\"}},\"nodeType\":\"DOM\",\"type\":\"node\",\"instanceArgs\":{\"namespace\":\"html\",\"tag\":\"label\"},\"children\":[\"scale\"]}]},{\"props\":{\"className\":\"interact-flex-row-center\"},\"nodeType\":\"DOM\",\"type\":\"node\",\"instanceArgs\":{\"namespace\":\"html\",\"tag\":\"div\"},\"children\":[{\"props\":{\"max\":20,\"min\":1,\"attributes\":{\"type\":\"range\",\"data-bind\":\"numericValue: index, valueUpdate: 'input', event: {change: function (){this.changes(this.changes()+1)}}\",\"orient\":\"horizontal\"},\"step\":1,\"className\":\"slider slider is-fullwidth\",\"style\":{}},\"nodeType\":\"DOM\",\"type\":\"node\",\"instanceArgs\":{\"namespace\":\"html\",\"tag\":\"input\"},\"children\":[]}]},{\"props\":{\"className\":\"interact-flex-row-right\"},\"nodeType\":\"DOM\",\"type\":\"node\",\"instanceArgs\":{\"namespace\":\"html\",\"tag\":\"div\"},\"children\":[{\"props\":{\"attributes\":{\"data-bind\":\"text: formatted_val\"}},\"nodeType\":\"DOM\",\"type\":\"node\",\"instanceArgs\":{\"namespace\":\"html\",\"tag\":\"p\"},\"children\":[]}]}]}]}]},{\"props\":{\"style\":{\"display\":\"flex\",\"flex-direction\":\"column\"}},\"nodeType\":\"DOM\",\"type\":\"node\",\"instanceArgs\":{\"namespace\":\"html\",\"tag\":\"div\"},\"children\":[]},{\"props\":{\"style\":{\"display\":\"flex\",\"flex-direction\":\"column\"}},\"nodeType\":\"DOM\",\"type\":\"node\",\"instanceArgs\":{\"namespace\":\"html\",\"tag\":\"div\"},\"children\":[{\"props\":{\"className\":\"field interact-widget\"},\"nodeType\":\"DOM\",\"type\":\"node\",\"instanceArgs\":{\"namespace\":\"html\",\"tag\":\"div\"},\"children\":[{\"props\":{},\"nodeType\":\"Scope\",\"type\":\"node\",\"instanceArgs\":{\"imports\":{\"data\":[{\"name\":\"knockout\",\"type\":\"js\",\"url\":\"\\/assetserver\\/727383f2a47bd31570b7da84eee7b022dd6d7c78-knockout.js\"},{\"name\":\"knockout_punches\",\"type\":\"js\",\"url\":\"\\/assetserver\\/382b41b3b1bd9f26f75861d360bad7f8beea211f-knockout_punches.js\"},{\"name\":null,\"type\":\"js\",\"url\":\"\\/assetserver\\/5ab20f1060420992a9b82a65b735dee4d81ef413-all.js\"},{\"name\":null,\"type\":\"css\",\"url\":\"\\/assetserver\\/1cc0ed62837210b80a182cc3676512f895dab686-style.css\"},{\"name\":null,\"type\":\"css\",\"url\":\"\\/assetserver\\/2eee816f616df3549d7044d45e744fbf8d42bfa1-bulma_confined.min.css\"}],\"type\":\"async_block\"},\"id\":\"16541729557498406918\",\"handlers\":{\"changes\":[\"(function (val){return (val!=this.model[\\\"changes\\\"]()) ? (this.valueFromJulia[\\\"changes\\\"]=true, this.model[\\\"changes\\\"](val)) : undefined})\"],\"index\":[\"(function (val){return (val!=this.model[\\\"index\\\"]()) ? (this.valueFromJulia[\\\"index\\\"]=true, this.model[\\\"index\\\"](val)) : undefined})\"]},\"systemjs_options\":null,\"mount_callbacks\":[\"function () {\\n    var handler = (function (ko, koPunches) {\\n    ko.punches.enableAll();\\n    ko.bindingHandlers.numericValue = {\\n        init: function(element, valueAccessor, allBindings, data, context) {\\n            var stringified = ko.observable(ko.unwrap(valueAccessor()));\\n            stringified.subscribe(function(value) {\\n                var val = parseFloat(value);\\n                if (!isNaN(val)) {\\n                    valueAccessor()(val);\\n                }\\n            });\\n            valueAccessor().subscribe(function(value) {\\n                var str = JSON.stringify(value);\\n                if ((str == \\\"0\\\") && ([\\\"-0\\\", \\\"-0.\\\"].indexOf(stringified()) >= 0))\\n                     return;\\n                 if ([\\\"null\\\", \\\"\\\"].indexOf(str) >= 0)\\n                     return;\\n                stringified(str);\\n            });\\n            ko.applyBindingsToNode(\\n                element,\\n                {\\n                    value: stringified,\\n                    valueUpdate: allBindings.get('valueUpdate'),\\n                },\\n                context,\\n            );\\n        }\\n    };\\n    var json_data = {\\\"formatted_vals\\\":[\\\"1\\\",\\\"2\\\",\\\"3\\\",\\\"4\\\",\\\"5\\\",\\\"6\\\",\\\"7\\\",\\\"8\\\"],\\\"changes\\\":WebIO.getval({\\\"name\\\":\\\"changes\\\",\\\"scope\\\":\\\"16541729557498406918\\\",\\\"id\\\":\\\"153197974291645994\\\",\\\"type\\\":\\\"observable\\\"}),\\\"index\\\":WebIO.getval({\\\"name\\\":\\\"index\\\",\\\"scope\\\":\\\"16541729557498406918\\\",\\\"id\\\":\\\"7572999499097270814\\\",\\\"type\\\":\\\"observable\\\"})};\\n    var self = this;\\n    function AppViewModel() {\\n        for (var key in json_data) {\\n            var el = json_data[key];\\n            this[key] = Array.isArray(el) ? ko.observableArray(el) : ko.observable(el);\\n        }\\n        \\n        [this[\\\"formatted_val\\\"]=ko.computed(    function(){\\n        return this.formatted_vals()[parseInt(this.index())-(1)];\\n    }\\n,this)]\\n        [this[\\\"changes\\\"].subscribe((function (val){!(this.valueFromJulia[\\\"changes\\\"]) ? (WebIO.setval({\\\"name\\\":\\\"changes\\\",\\\"scope\\\":\\\"16541729557498406918\\\",\\\"id\\\":\\\"153197974291645994\\\",\\\"type\\\":\\\"observable\\\"},val)) : undefined; return this.valueFromJulia[\\\"changes\\\"]=false}),self),this[\\\"index\\\"].subscribe((function (val){!(this.valueFromJulia[\\\"index\\\"]) ? (WebIO.setval({\\\"name\\\":\\\"index\\\",\\\"scope\\\":\\\"16541729557498406918\\\",\\\"id\\\":\\\"7572999499097270814\\\",\\\"type\\\":\\\"observable\\\"},val)) : undefined; return this.valueFromJulia[\\\"index\\\"]=false}),self)]\\n        \\n    }\\n    self.model = new AppViewModel();\\n    self.valueFromJulia = {};\\n    for (var key in json_data) {\\n        self.valueFromJulia[key] = false;\\n    }\\n    ko.applyBindings(self.model, self.dom);\\n}\\n);\\n    (WebIO.importBlock({\\\"data\\\":[{\\\"name\\\":\\\"knockout\\\",\\\"type\\\":\\\"js\\\",\\\"url\\\":\\\"\\/assetserver\\/727383f2a47bd31570b7da84eee7b022dd6d7c78-knockout.js\\\"},{\\\"name\\\":\\\"knockout_punches\\\",\\\"type\\\":\\\"js\\\",\\\"url\\\":\\\"\\/assetserver\\/382b41b3b1bd9f26f75861d360bad7f8beea211f-knockout_punches.js\\\"}],\\\"type\\\":\\\"async_block\\\"})).then((imports) => handler.apply(this, imports));\\n}\\n\"],\"observables\":{\"changes\":{\"sync\":false,\"id\":\"153197974291645994\",\"value\":0},\"index\":{\"sync\":true,\"id\":\"7572999499097270814\",\"value\":4}}},\"children\":[{\"props\":{\"className\":\"interact-flex-row interact-widget\"},\"nodeType\":\"DOM\",\"type\":\"node\",\"instanceArgs\":{\"namespace\":\"html\",\"tag\":\"div\"},\"children\":[{\"props\":{\"className\":\"interact-flex-row-left\"},\"nodeType\":\"DOM\",\"type\":\"node\",\"instanceArgs\":{\"namespace\":\"html\",\"tag\":\"div\"},\"children\":[{\"props\":{\"className\":\"interact \",\"style\":{\"padding\":\"5px 10px 0px 10px\"}},\"nodeType\":\"DOM\",\"type\":\"node\",\"instanceArgs\":{\"namespace\":\"html\",\"tag\":\"label\"},\"children\":[\"threshold\"]}]},{\"props\":{\"className\":\"interact-flex-row-center\"},\"nodeType\":\"DOM\",\"type\":\"node\",\"instanceArgs\":{\"namespace\":\"html\",\"tag\":\"div\"},\"children\":[{\"props\":{\"max\":8,\"min\":1,\"attributes\":{\"type\":\"range\",\"data-bind\":\"numericValue: index, valueUpdate: 'input', event: {change: function (){this.changes(this.changes()+1)}}\",\"orient\":\"horizontal\"},\"step\":1,\"className\":\"slider slider is-fullwidth\",\"style\":{}},\"nodeType\":\"DOM\",\"type\":\"node\",\"instanceArgs\":{\"namespace\":\"html\",\"tag\":\"input\"},\"children\":[]}]},{\"props\":{\"className\":\"interact-flex-row-right\"},\"nodeType\":\"DOM\",\"type\":\"node\",\"instanceArgs\":{\"namespace\":\"html\",\"tag\":\"div\"},\"children\":[{\"props\":{\"attributes\":{\"data-bind\":\"text: formatted_val\"}},\"nodeType\":\"DOM\",\"type\":\"node\",\"instanceArgs\":{\"namespace\":\"html\",\"tag\":\"p\"},\"children\":[]}]}]}]}]}]},{\"props\":{\"style\":{\"display\":\"flex\",\"flex-direction\":\"row\"}},\"nodeType\":\"DOM\",\"type\":\"node\",\"instanceArgs\":{\"namespace\":\"html\",\"tag\":\"div\"},\"children\":[{\"props\":{\"className\":\"interact-widget\"},\"nodeType\":\"DOM\",\"type\":\"node\",\"instanceArgs\":{\"namespace\":\"html\",\"tag\":\"div\"},\"children\":[{\"props\":{},\"nodeType\":\"Scope\",\"type\":\"node\",\"instanceArgs\":{\"imports\":{\"data\":[{\"name\":null,\"type\":\"js\",\"url\":\"\\/assetserver\\/dd22ed1bf1896c2748f3fe616ce0b838adc895c1-katex.min.js\"},{\"name\":null,\"type\":\"css\",\"url\":\"\\/assetserver\\/46517a424aa5e6cffc1360d7e0848b601c584ee3-katex.min.css\"}],\"type\":\"async_block\"},\"id\":\"12374510080605918380\",\"handlers\":{\"value\":[\"(function (txt){return this.k.render(txt,this.container)})\"]},\"systemjs_options\":null,\"mount_callbacks\":[\"function () {\\n    var handler = ((function (k){this.k=k; this.container=this.dom.querySelector(\\\"#container\\\"); return k.render(\\\"\\\\\\\\;\\\\\\\\;\\\",this.container)}));\\n    (WebIO.importBlock({\\\"data\\\":[{\\\"name\\\":null,\\\"type\\\":\\\"js\\\",\\\"url\\\":\\\"\\/assetserver\\/dd22ed1bf1896c2748f3fe616ce0b838adc895c1-katex.min.js\\\"},{\\\"name\\\":null,\\\"type\\\":\\\"css\\\",\\\"url\\\":\\\"\\/assetserver\\/46517a424aa5e6cffc1360d7e0848b601c584ee3-katex.min.css\\\"}],\\\"type\\\":\\\"async_block\\\"})).then((imports) => handler.apply(this, imports));\\n}\\n\"],\"observables\":{\"value\":{\"sync\":false,\"id\":\"10156954760989483595\",\"value\":\"\\\\;\\\\;\"}}},\"children\":[{\"props\":{\"id\":\"container\"},\"nodeType\":\"DOM\",\"type\":\"node\",\"instanceArgs\":{\"namespace\":\"html\",\"tag\":\"div\"},\"children\":[]}]}]},{\"props\":{\"className\":\"field interact-widget\"},\"nodeType\":\"DOM\",\"type\":\"node\",\"instanceArgs\":{\"namespace\":\"html\",\"tag\":\"div\"},\"children\":[{\"props\":{},\"nodeType\":\"Scope\",\"type\":\"node\",\"instanceArgs\":{\"imports\":{\"data\":[{\"name\":\"knockout\",\"type\":\"js\",\"url\":\"\\/assetserver\\/727383f2a47bd31570b7da84eee7b022dd6d7c78-knockout.js\"},{\"name\":\"knockout_punches\",\"type\":\"js\",\"url\":\"\\/assetserver\\/382b41b3b1bd9f26f75861d360bad7f8beea211f-knockout_punches.js\"},{\"name\":null,\"type\":\"js\",\"url\":\"\\/assetserver\\/5ab20f1060420992a9b82a65b735dee4d81ef413-all.js\"},{\"name\":null,\"type\":\"css\",\"url\":\"\\/assetserver\\/1cc0ed62837210b80a182cc3676512f895dab686-style.css\"},{\"name\":null,\"type\":\"css\",\"url\":\"\\/assetserver\\/2eee816f616df3549d7044d45e744fbf8d42bfa1-bulma_confined.min.css\"}],\"type\":\"async_block\"},\"id\":\"10859497460151017402\",\"handlers\":{\"loading\":[\"(function (val){return (val!=this.model[\\\"loading\\\"]()) ? (this.valueFromJulia[\\\"loading\\\"]=true, this.model[\\\"loading\\\"](val)) : undefined})\"],\"clicks\":[\"(function (val){return (val!=this.model[\\\"clicks\\\"]()) ? (this.valueFromJulia[\\\"clicks\\\"]=true, this.model[\\\"clicks\\\"](val)) : undefined})\"]},\"systemjs_options\":null,\"mount_callbacks\":[\"function () {\\n    var handler = (function (ko, koPunches) {\\n    ko.punches.enableAll();\\n    ko.bindingHandlers.numericValue = {\\n        init: function(element, valueAccessor, allBindings, data, context) {\\n            var stringified = ko.observable(ko.unwrap(valueAccessor()));\\n            stringified.subscribe(function(value) {\\n                var val = parseFloat(value);\\n                if (!isNaN(val)) {\\n                    valueAccessor()(val);\\n                }\\n            });\\n            valueAccessor().subscribe(function(value) {\\n                var str = JSON.stringify(value);\\n                if ((str == \\\"0\\\") && ([\\\"-0\\\", \\\"-0.\\\"].indexOf(stringified()) >= 0))\\n                     return;\\n                 if ([\\\"null\\\", \\\"\\\"].indexOf(str) >= 0)\\n                     return;\\n                stringified(str);\\n            });\\n            ko.applyBindingsToNode(\\n                element,\\n                {\\n                    value: stringified,\\n                    valueUpdate: allBindings.get('valueUpdate'),\\n                },\\n                context,\\n            );\\n        }\\n    };\\n    var json_data = {\\\"loading\\\":WebIO.getval({\\\"name\\\":\\\"loading\\\",\\\"scope\\\":\\\"10859497460151017402\\\",\\\"id\\\":\\\"2308070748478877953\\\",\\\"type\\\":\\\"observable\\\"}),\\\"clicks\\\":WebIO.getval({\\\"name\\\":\\\"clicks\\\",\\\"scope\\\":\\\"10859497460151017402\\\",\\\"id\\\":\\\"12312449372174513258\\\",\\\"type\\\":\\\"observable\\\"})};\\n    var self = this;\\n    function AppViewModel() {\\n        for (var key in json_data) {\\n            var el = json_data[key];\\n            this[key] = Array.isArray(el) ? ko.observableArray(el) : ko.observable(el);\\n        }\\n        \\n        \\n        [this[\\\"loading\\\"].subscribe((function (val){!(this.valueFromJulia[\\\"loading\\\"]) ? (WebIO.setval({\\\"name\\\":\\\"loading\\\",\\\"scope\\\":\\\"10859497460151017402\\\",\\\"id\\\":\\\"2308070748478877953\\\",\\\"type\\\":\\\"observable\\\"},val)) : undefined; return this.valueFromJulia[\\\"loading\\\"]=false}),self),this[\\\"clicks\\\"].subscribe((function (val){!(this.valueFromJulia[\\\"clicks\\\"]) ? (WebIO.setval({\\\"name\\\":\\\"clicks\\\",\\\"scope\\\":\\\"10859497460151017402\\\",\\\"id\\\":\\\"12312449372174513258\\\",\\\"type\\\":\\\"observable\\\"},val)) : undefined; return this.valueFromJulia[\\\"clicks\\\"]=false}),self)]\\n        \\n    }\\n    self.model = new AppViewModel();\\n    self.valueFromJulia = {};\\n    for (var key in json_data) {\\n        self.valueFromJulia[key] = false;\\n    }\\n    ko.applyBindings(self.model, self.dom);\\n}\\n);\\n    (WebIO.importBlock({\\\"data\\\":[{\\\"name\\\":\\\"knockout\\\",\\\"type\\\":\\\"js\\\",\\\"url\\\":\\\"\\/assetserver\\/727383f2a47bd31570b7da84eee7b022dd6d7c78-knockout.js\\\"},{\\\"name\\\":\\\"knockout_punches\\\",\\\"type\\\":\\\"js\\\",\\\"url\\\":\\\"\\/assetserver\\/382b41b3b1bd9f26f75861d360bad7f8beea211f-knockout_punches.js\\\"}],\\\"type\\\":\\\"async_block\\\"})).then((imports) => handler.apply(this, imports));\\n}\\n\"],\"observables\":{\"loading\":{\"sync\":false,\"id\":\"2308070748478877953\",\"value\":false},\"clicks\":{\"sync\":true,\"id\":\"12312449372174513258\",\"value\":0}}},\"children\":[{\"props\":{\"attributes\":{\"data-bind\":\"click: function (){this.clicks(this.clicks()+1)}, css: {'is-loading' : loading}\"},\"className\":\"is-medium button is-primary\",\"style\":{}},\"nodeType\":\"DOM\",\"type\":\"node\",\"instanceArgs\":{\"namespace\":\"html\",\"tag\":\"button\"},\"children\":[\"run\"]}]}]},{\"props\":{\"className\":\"interact-widget\"},\"nodeType\":\"DOM\",\"type\":\"node\",\"instanceArgs\":{\"namespace\":\"html\",\"tag\":\"div\"},\"children\":[{\"props\":{},\"nodeType\":\"Scope\",\"type\":\"node\",\"instanceArgs\":{\"imports\":{\"data\":[{\"name\":null,\"type\":\"js\",\"url\":\"\\/assetserver\\/dd22ed1bf1896c2748f3fe616ce0b838adc895c1-katex.min.js\"},{\"name\":null,\"type\":\"css\",\"url\":\"\\/assetserver\\/46517a424aa5e6cffc1360d7e0848b601c584ee3-katex.min.css\"}],\"type\":\"async_block\"},\"id\":\"12374510080605918380\",\"handlers\":{\"value\":[\"(function (txt){return this.k.render(txt,this.container)})\"]},\"systemjs_options\":null,\"mount_callbacks\":[\"function () {\\n    var handler = ((function (k){this.k=k; this.container=this.dom.querySelector(\\\"#container\\\"); return k.render(\\\"\\\\\\\\;\\\\\\\\;\\\",this.container)}));\\n    (WebIO.importBlock({\\\"data\\\":[{\\\"name\\\":null,\\\"type\\\":\\\"js\\\",\\\"url\\\":\\\"\\/assetserver\\/dd22ed1bf1896c2748f3fe616ce0b838adc895c1-katex.min.js\\\"},{\\\"name\\\":null,\\\"type\\\":\\\"css\\\",\\\"url\\\":\\\"\\/assetserver\\/46517a424aa5e6cffc1360d7e0848b601c584ee3-katex.min.css\\\"}],\\\"type\\\":\\\"async_block\\\"})).then((imports) => handler.apply(this, imports));\\n}\\n\"],\"observables\":{\"value\":{\"sync\":false,\"id\":\"10156954760989483595\",\"value\":\"\\\\;\\\\;\"}}},\"children\":[{\"props\":{\"id\":\"container\"},\"nodeType\":\"DOM\",\"type\":\"node\",\"instanceArgs\":{\"namespace\":\"html\",\"tag\":\"div\"},\"children\":[]}]}]},{\"props\":{\"className\":\"field interact-widget\"},\"nodeType\":\"DOM\",\"type\":\"node\",\"instanceArgs\":{\"namespace\":\"html\",\"tag\":\"div\"},\"children\":[{\"props\":{},\"nodeType\":\"Scope\",\"type\":\"node\",\"instanceArgs\":{\"imports\":{\"data\":[{\"name\":\"knockout\",\"type\":\"js\",\"url\":\"\\/assetserver\\/727383f2a47bd31570b7da84eee7b022dd6d7c78-knockout.js\"},{\"name\":\"knockout_punches\",\"type\":\"js\",\"url\":\"\\/assetserver\\/382b41b3b1bd9f26f75861d360bad7f8beea211f-knockout_punches.js\"},{\"name\":null,\"type\":\"js\",\"url\":\"\\/assetserver\\/5ab20f1060420992a9b82a65b735dee4d81ef413-all.js\"},{\"name\":null,\"type\":\"css\",\"url\":\"\\/assetserver\\/1cc0ed62837210b80a182cc3676512f895dab686-style.css\"},{\"name\":null,\"type\":\"css\",\"url\":\"\\/assetserver\\/2eee816f616df3549d7044d45e744fbf8d42bfa1-bulma_confined.min.css\"}],\"type\":\"async_block\"},\"id\":\"6647289324375373488\",\"handlers\":{\"loading\":[\"(function (val){return (val!=this.model[\\\"loading\\\"]()) ? (this.valueFromJulia[\\\"loading\\\"]=true, this.model[\\\"loading\\\"](val)) : undefined})\"],\"clicks\":[\"(function (val){return (val!=this.model[\\\"clicks\\\"]()) ? (this.valueFromJulia[\\\"clicks\\\"]=true, this.model[\\\"clicks\\\"](val)) : undefined})\"]},\"systemjs_options\":null,\"mount_callbacks\":[\"function () {\\n    var handler = (function (ko, koPunches) {\\n    ko.punches.enableAll();\\n    ko.bindingHandlers.numericValue = {\\n        init: function(element, valueAccessor, allBindings, data, context) {\\n            var stringified = ko.observable(ko.unwrap(valueAccessor()));\\n            stringified.subscribe(function(value) {\\n                var val = parseFloat(value);\\n                if (!isNaN(val)) {\\n                    valueAccessor()(val);\\n                }\\n            });\\n            valueAccessor().subscribe(function(value) {\\n                var str = JSON.stringify(value);\\n                if ((str == \\\"0\\\") && ([\\\"-0\\\", \\\"-0.\\\"].indexOf(stringified()) >= 0))\\n                     return;\\n                 if ([\\\"null\\\", \\\"\\\"].indexOf(str) >= 0)\\n                     return;\\n                stringified(str);\\n            });\\n            ko.applyBindingsToNode(\\n                element,\\n                {\\n                    value: stringified,\\n                    valueUpdate: allBindings.get('valueUpdate'),\\n                },\\n                context,\\n            );\\n        }\\n    };\\n    var json_data = {\\\"loading\\\":WebIO.getval({\\\"name\\\":\\\"loading\\\",\\\"scope\\\":\\\"6647289324375373488\\\",\\\"id\\\":\\\"11400120026291106418\\\",\\\"type\\\":\\\"observable\\\"}),\\\"clicks\\\":WebIO.getval({\\\"name\\\":\\\"clicks\\\",\\\"scope\\\":\\\"6647289324375373488\\\",\\\"id\\\":\\\"4860482255306944175\\\",\\\"type\\\":\\\"observable\\\"})};\\n    var self = this;\\n    function AppViewModel() {\\n        for (var key in json_data) {\\n            var el = json_data[key];\\n            this[key] = Array.isArray(el) ? ko.observableArray(el) : ko.observable(el);\\n        }\\n        \\n        \\n        [this[\\\"loading\\\"].subscribe((function (val){!(this.valueFromJulia[\\\"loading\\\"]) ? (WebIO.setval({\\\"name\\\":\\\"loading\\\",\\\"scope\\\":\\\"6647289324375373488\\\",\\\"id\\\":\\\"11400120026291106418\\\",\\\"type\\\":\\\"observable\\\"},val)) : undefined; return this.valueFromJulia[\\\"loading\\\"]=false}),self),this[\\\"clicks\\\"].subscribe((function (val){!(this.valueFromJulia[\\\"clicks\\\"]) ? (WebIO.setval({\\\"name\\\":\\\"clicks\\\",\\\"scope\\\":\\\"6647289324375373488\\\",\\\"id\\\":\\\"4860482255306944175\\\",\\\"type\\\":\\\"observable\\\"},val)) : undefined; return this.valueFromJulia[\\\"clicks\\\"]=false}),self)]\\n        \\n    }\\n    self.model = new AppViewModel();\\n    self.valueFromJulia = {};\\n    for (var key in json_data) {\\n        self.valueFromJulia[key] = false;\\n    }\\n    ko.applyBindings(self.model, self.dom);\\n}\\n);\\n    (WebIO.importBlock({\\\"data\\\":[{\\\"name\\\":\\\"knockout\\\",\\\"type\\\":\\\"js\\\",\\\"url\\\":\\\"\\/assetserver\\/727383f2a47bd31570b7da84eee7b022dd6d7c78-knockout.js\\\"},{\\\"name\\\":\\\"knockout_punches\\\",\\\"type\\\":\\\"js\\\",\\\"url\\\":\\\"\\/assetserver\\/382b41b3b1bd9f26f75861d360bad7f8beea211f-knockout_punches.js\\\"}],\\\"type\\\":\\\"async_block\\\"})).then((imports) => handler.apply(this, imports));\\n}\\n\"],\"observables\":{\"loading\":{\"sync\":false,\"id\":\"11400120026291106418\",\"value\":false},\"clicks\":{\"sync\":true,\"id\":\"4860482255306944175\",\"value\":0}}},\"children\":[{\"props\":{\"attributes\":{\"data-bind\":\"click: function (){this.clicks(this.clicks()+1)}, css: {'is-loading' : loading}\"},\"className\":\"is-medium button is-primary\",\"style\":{}},\"nodeType\":\"DOM\",\"type\":\"node\",\"instanceArgs\":{\"namespace\":\"html\",\"tag\":\"button\"},\"children\":[\"stop\"]}]}]},{\"props\":{\"className\":\"interact-widget\"},\"nodeType\":\"DOM\",\"type\":\"node\",\"instanceArgs\":{\"namespace\":\"html\",\"tag\":\"div\"},\"children\":[{\"props\":{},\"nodeType\":\"Scope\",\"type\":\"node\",\"instanceArgs\":{\"imports\":{\"data\":[{\"name\":null,\"type\":\"js\",\"url\":\"\\/assetserver\\/dd22ed1bf1896c2748f3fe616ce0b838adc895c1-katex.min.js\"},{\"name\":null,\"type\":\"css\",\"url\":\"\\/assetserver\\/46517a424aa5e6cffc1360d7e0848b601c584ee3-katex.min.css\"}],\"type\":\"async_block\"},\"id\":\"12374510080605918380\",\"handlers\":{\"value\":[\"(function (txt){return this.k.render(txt,this.container)})\"]},\"systemjs_options\":null,\"mount_callbacks\":[\"function () {\\n    var handler = ((function (k){this.k=k; this.container=this.dom.querySelector(\\\"#container\\\"); return k.render(\\\"\\\\\\\\;\\\\\\\\;\\\",this.container)}));\\n    (WebIO.importBlock({\\\"data\\\":[{\\\"name\\\":null,\\\"type\\\":\\\"js\\\",\\\"url\\\":\\\"\\/assetserver\\/dd22ed1bf1896c2748f3fe616ce0b838adc895c1-katex.min.js\\\"},{\\\"name\\\":null,\\\"type\\\":\\\"css\\\",\\\"url\\\":\\\"\\/assetserver\\/46517a424aa5e6cffc1360d7e0848b601c584ee3-katex.min.css\\\"}],\\\"type\\\":\\\"async_block\\\"})).then((imports) => handler.apply(this, imports));\\n}\\n\"],\"observables\":{\"value\":{\"sync\":false,\"id\":\"10156954760989483595\",\"value\":\"\\\\;\\\\;\"}}},\"children\":[{\"props\":{\"id\":\"container\"},\"nodeType\":\"DOM\",\"type\":\"node\",\"instanceArgs\":{\"namespace\":\"html\",\"tag\":\"div\"},\"children\":[]}]}]},{\"props\":{\"className\":\"field interact-widget\"},\"nodeType\":\"DOM\",\"type\":\"node\",\"instanceArgs\":{\"namespace\":\"html\",\"tag\":\"div\"},\"children\":[{\"props\":{},\"nodeType\":\"Scope\",\"type\":\"node\",\"instanceArgs\":{\"imports\":{\"data\":[{\"name\":\"knockout\",\"type\":\"js\",\"url\":\"\\/assetserver\\/727383f2a47bd31570b7da84eee7b022dd6d7c78-knockout.js\"},{\"name\":\"knockout_punches\",\"type\":\"js\",\"url\":\"\\/assetserver\\/382b41b3b1bd9f26f75861d360bad7f8beea211f-knockout_punches.js\"},{\"name\":null,\"type\":\"js\",\"url\":\"\\/assetserver\\/5ab20f1060420992a9b82a65b735dee4d81ef413-all.js\"},{\"name\":null,\"type\":\"css\",\"url\":\"\\/assetserver\\/1cc0ed62837210b80a182cc3676512f895dab686-style.css\"},{\"name\":null,\"type\":\"css\",\"url\":\"\\/assetserver\\/2eee816f616df3549d7044d45e744fbf8d42bfa1-bulma_confined.min.css\"}],\"type\":\"async_block\"},\"id\":\"11437898253746383168\",\"handlers\":{\"loading\":[\"(function (val){return (val!=this.model[\\\"loading\\\"]()) ? (this.valueFromJulia[\\\"loading\\\"]=true, this.model[\\\"loading\\\"](val)) : undefined})\"],\"clicks\":[\"(function (val){return (val!=this.model[\\\"clicks\\\"]()) ? (this.valueFromJulia[\\\"clicks\\\"]=true, this.model[\\\"clicks\\\"](val)) : undefined})\"]},\"systemjs_options\":null,\"mount_callbacks\":[\"function () {\\n    var handler = (function (ko, koPunches) {\\n    ko.punches.enableAll();\\n    ko.bindingHandlers.numericValue = {\\n        init: function(element, valueAccessor, allBindings, data, context) {\\n            var stringified = ko.observable(ko.unwrap(valueAccessor()));\\n            stringified.subscribe(function(value) {\\n                var val = parseFloat(value);\\n                if (!isNaN(val)) {\\n                    valueAccessor()(val);\\n                }\\n            });\\n            valueAccessor().subscribe(function(value) {\\n                var str = JSON.stringify(value);\\n                if ((str == \\\"0\\\") && ([\\\"-0\\\", \\\"-0.\\\"].indexOf(stringified()) >= 0))\\n                     return;\\n                 if ([\\\"null\\\", \\\"\\\"].indexOf(str) >= 0)\\n                     return;\\n                stringified(str);\\n            });\\n            ko.applyBindingsToNode(\\n                element,\\n                {\\n                    value: stringified,\\n                    valueUpdate: allBindings.get('valueUpdate'),\\n                },\\n                context,\\n            );\\n        }\\n    };\\n    var json_data = {\\\"loading\\\":WebIO.getval({\\\"name\\\":\\\"loading\\\",\\\"scope\\\":\\\"11437898253746383168\\\",\\\"id\\\":\\\"6456524123404938283\\\",\\\"type\\\":\\\"observable\\\"}),\\\"clicks\\\":WebIO.getval({\\\"name\\\":\\\"clicks\\\",\\\"scope\\\":\\\"11437898253746383168\\\",\\\"id\\\":\\\"2923892109202342807\\\",\\\"type\\\":\\\"observable\\\"})};\\n    var self = this;\\n    function AppViewModel() {\\n        for (var key in json_data) {\\n            var el = json_data[key];\\n            this[key] = Array.isArray(el) ? ko.observableArray(el) : ko.observable(el);\\n        }\\n        \\n        \\n        [this[\\\"loading\\\"].subscribe((function (val){!(this.valueFromJulia[\\\"loading\\\"]) ? (WebIO.setval({\\\"name\\\":\\\"loading\\\",\\\"scope\\\":\\\"11437898253746383168\\\",\\\"id\\\":\\\"6456524123404938283\\\",\\\"type\\\":\\\"observable\\\"},val)) : undefined; return this.valueFromJulia[\\\"loading\\\"]=false}),self),this[\\\"clicks\\\"].subscribe((function (val){!(this.valueFromJulia[\\\"clicks\\\"]) ? (WebIO.setval({\\\"name\\\":\\\"clicks\\\",\\\"scope\\\":\\\"11437898253746383168\\\",\\\"id\\\":\\\"2923892109202342807\\\",\\\"type\\\":\\\"observable\\\"},val)) : undefined; return this.valueFromJulia[\\\"clicks\\\"]=false}),self)]\\n        \\n    }\\n    self.model = new AppViewModel();\\n    self.valueFromJulia = {};\\n    for (var key in json_data) {\\n        self.valueFromJulia[key] = false;\\n    }\\n    ko.applyBindings(self.model, self.dom);\\n}\\n);\\n    (WebIO.importBlock({\\\"data\\\":[{\\\"name\\\":\\\"knockout\\\",\\\"type\\\":\\\"js\\\",\\\"url\\\":\\\"\\/assetserver\\/727383f2a47bd31570b7da84eee7b022dd6d7c78-knockout.js\\\"},{\\\"name\\\":\\\"knockout_punches\\\",\\\"type\\\":\\\"js\\\",\\\"url\\\":\\\"\\/assetserver\\/382b41b3b1bd9f26f75861d360bad7f8beea211f-knockout_punches.js\\\"}],\\\"type\\\":\\\"async_block\\\"})).then((imports) => handler.apply(this, imports));\\n}\\n\"],\"observables\":{\"loading\":{\"sync\":false,\"id\":\"6456524123404938283\",\"value\":false},\"clicks\":{\"sync\":true,\"id\":\"2923892109202342807\",\"value\":0}}},\"children\":[{\"props\":{\"attributes\":{\"data-bind\":\"click: function (){this.clicks(this.clicks()+1)}, css: {'is-loading' : loading}\"},\"className\":\"is-medium button is-primary\",\"style\":{}},\"nodeType\":\"DOM\",\"type\":\"node\",\"instanceArgs\":{\"namespace\":\"html\",\"tag\":\"button\"},\"children\":[\"reset\"]}]}]},{\"props\":{\"className\":\"interact-widget\"},\"nodeType\":\"DOM\",\"type\":\"node\",\"instanceArgs\":{\"namespace\":\"html\",\"tag\":\"div\"},\"children\":[{\"props\":{},\"nodeType\":\"Scope\",\"type\":\"node\",\"instanceArgs\":{\"imports\":{\"data\":[{\"name\":null,\"type\":\"js\",\"url\":\"\\/assetserver\\/dd22ed1bf1896c2748f3fe616ce0b838adc895c1-katex.min.js\"},{\"name\":null,\"type\":\"css\",\"url\":\"\\/assetserver\\/46517a424aa5e6cffc1360d7e0848b601c584ee3-katex.min.css\"}],\"type\":\"async_block\"},\"id\":\"12374510080605918380\",\"handlers\":{\"value\":[\"(function (txt){return this.k.render(txt,this.container)})\"]},\"systemjs_options\":null,\"mount_callbacks\":[\"function () {\\n    var handler = ((function (k){this.k=k; this.container=this.dom.querySelector(\\\"#container\\\"); return k.render(\\\"\\\\\\\\;\\\\\\\\;\\\",this.container)}));\\n    (WebIO.importBlock({\\\"data\\\":[{\\\"name\\\":null,\\\"type\\\":\\\"js\\\",\\\"url\\\":\\\"\\/assetserver\\/dd22ed1bf1896c2748f3fe616ce0b838adc895c1-katex.min.js\\\"},{\\\"name\\\":null,\\\"type\\\":\\\"css\\\",\\\"url\\\":\\\"\\/assetserver\\/46517a424aa5e6cffc1360d7e0848b601c584ee3-katex.min.css\\\"}],\\\"type\\\":\\\"async_block\\\"})).then((imports) => handler.apply(this, imports));\\n}\\n\"],\"observables\":{\"value\":{\"sync\":false,\"id\":\"10156954760989483595\",\"value\":\"\\\\;\\\\;\"}}},\"children\":[{\"props\":{\"id\":\"container\"},\"nodeType\":\"DOM\",\"type\":\"node\",\"instanceArgs\":{\"namespace\":\"html\",\"tag\":\"div\"},\"children\":[]}]}]},{\"props\":{\"className\":\"field interact-widget\"},\"nodeType\":\"DOM\",\"type\":\"node\",\"instanceArgs\":{\"namespace\":\"html\",\"tag\":\"div\"},\"children\":[{\"props\":{},\"nodeType\":\"Scope\",\"type\":\"node\",\"instanceArgs\":{\"imports\":{\"data\":[{\"name\":\"knockout\",\"type\":\"js\",\"url\":\"\\/assetserver\\/727383f2a47bd31570b7da84eee7b022dd6d7c78-knockout.js\"},{\"name\":\"knockout_punches\",\"type\":\"js\",\"url\":\"\\/assetserver\\/382b41b3b1bd9f26f75861d360bad7f8beea211f-knockout_punches.js\"},{\"name\":null,\"type\":\"js\",\"url\":\"\\/assetserver\\/5ab20f1060420992a9b82a65b735dee4d81ef413-all.js\"},{\"name\":null,\"type\":\"css\",\"url\":\"\\/assetserver\\/1cc0ed62837210b80a182cc3676512f895dab686-style.css\"},{\"name\":null,\"type\":\"css\",\"url\":\"\\/assetserver\\/2eee816f616df3549d7044d45e744fbf8d42bfa1-bulma_confined.min.css\"}],\"type\":\"async_block\"},\"id\":\"5929907572315025974\",\"handlers\":{\"loading\":[\"(function (val){return (val!=this.model[\\\"loading\\\"]()) ? (this.valueFromJulia[\\\"loading\\\"]=true, this.model[\\\"loading\\\"](val)) : undefined})\"],\"clicks\":[\"(function (val){return (val!=this.model[\\\"clicks\\\"]()) ? (this.valueFromJulia[\\\"clicks\\\"]=true, this.model[\\\"clicks\\\"](val)) : undefined})\"]},\"systemjs_options\":null,\"mount_callbacks\":[\"function () {\\n    var handler = (function (ko, koPunches) {\\n    ko.punches.enableAll();\\n    ko.bindingHandlers.numericValue = {\\n        init: function(element, valueAccessor, allBindings, data, context) {\\n            var stringified = ko.observable(ko.unwrap(valueAccessor()));\\n            stringified.subscribe(function(value) {\\n                var val = parseFloat(value);\\n                if (!isNaN(val)) {\\n                    valueAccessor()(val);\\n                }\\n            });\\n            valueAccessor().subscribe(function(value) {\\n                var str = JSON.stringify(value);\\n                if ((str == \\\"0\\\") && ([\\\"-0\\\", \\\"-0.\\\"].indexOf(stringified()) >= 0))\\n                     return;\\n                 if ([\\\"null\\\", \\\"\\\"].indexOf(str) >= 0)\\n                     return;\\n                stringified(str);\\n            });\\n            ko.applyBindingsToNode(\\n                element,\\n                {\\n                    value: stringified,\\n                    valueUpdate: allBindings.get('valueUpdate'),\\n                },\\n                context,\\n            );\\n        }\\n    };\\n    var json_data = {\\\"loading\\\":WebIO.getval({\\\"name\\\":\\\"loading\\\",\\\"scope\\\":\\\"5929907572315025974\\\",\\\"id\\\":\\\"2136405971495001128\\\",\\\"type\\\":\\\"observable\\\"}),\\\"clicks\\\":WebIO.getval({\\\"name\\\":\\\"clicks\\\",\\\"scope\\\":\\\"5929907572315025974\\\",\\\"id\\\":\\\"17463230361477590191\\\",\\\"type\\\":\\\"observable\\\"})};\\n    var self = this;\\n    function AppViewModel() {\\n        for (var key in json_data) {\\n            var el = json_data[key];\\n            this[key] = Array.isArray(el) ? ko.observableArray(el) : ko.observable(el);\\n        }\\n        \\n        \\n        [this[\\\"loading\\\"].subscribe((function (val){!(this.valueFromJulia[\\\"loading\\\"]) ? (WebIO.setval({\\\"name\\\":\\\"loading\\\",\\\"scope\\\":\\\"5929907572315025974\\\",\\\"id\\\":\\\"2136405971495001128\\\",\\\"type\\\":\\\"observable\\\"},val)) : undefined; return this.valueFromJulia[\\\"loading\\\"]=false}),self),this[\\\"clicks\\\"].subscribe((function (val){!(this.valueFromJulia[\\\"clicks\\\"]) ? (WebIO.setval({\\\"name\\\":\\\"clicks\\\",\\\"scope\\\":\\\"5929907572315025974\\\",\\\"id\\\":\\\"17463230361477590191\\\",\\\"type\\\":\\\"observable\\\"},val)) : undefined; return this.valueFromJulia[\\\"clicks\\\"]=false}),self)]\\n        \\n    }\\n    self.model = new AppViewModel();\\n    self.valueFromJulia = {};\\n    for (var key in json_data) {\\n        self.valueFromJulia[key] = false;\\n    }\\n    ko.applyBindings(self.model, self.dom);\\n}\\n);\\n    (WebIO.importBlock({\\\"data\\\":[{\\\"name\\\":\\\"knockout\\\",\\\"type\\\":\\\"js\\\",\\\"url\\\":\\\"\\/assetserver\\/727383f2a47bd31570b7da84eee7b022dd6d7c78-knockout.js\\\"},{\\\"name\\\":\\\"knockout_punches\\\",\\\"type\\\":\\\"js\\\",\\\"url\\\":\\\"\\/assetserver\\/382b41b3b1bd9f26f75861d360bad7f8beea211f-knockout_punches.js\\\"}],\\\"type\\\":\\\"async_block\\\"})).then((imports) => handler.apply(this, imports));\\n}\\n\"],\"observables\":{\"loading\":{\"sync\":false,\"id\":\"2136405971495001128\",\"value\":false},\"clicks\":{\"sync\":true,\"id\":\"17463230361477590191\",\"value\":0}}},\"children\":[{\"props\":{\"attributes\":{\"data-bind\":\"click: function (){this.clicks(this.clicks()+1)}, css: {'is-loading' : loading}\"},\"className\":\"is-medium button is-primary\",\"style\":{}},\"nodeType\":\"DOM\",\"type\":\"node\",\"instanceArgs\":{\"namespace\":\"html\",\"tag\":\"button\"},\"children\":[\"save\"]}]}]}]}]},{\"props\":{\"className\":\"interact-widget\"},\"nodeType\":\"DOM\",\"type\":\"node\",\"instanceArgs\":{\"namespace\":\"html\",\"tag\":\"div\"},\"children\":[{\"props\":{},\"nodeType\":\"Scope\",\"type\":\"node\",\"instanceArgs\":{\"imports\":{\"data\":[{\"name\":null,\"type\":\"js\",\"url\":\"\\/assetserver\\/dd22ed1bf1896c2748f3fe616ce0b838adc895c1-katex.min.js\"},{\"name\":null,\"type\":\"css\",\"url\":\"\\/assetserver\\/46517a424aa5e6cffc1360d7e0848b601c584ee3-katex.min.css\"}],\"type\":\"async_block\"},\"id\":\"12374510080605918380\",\"handlers\":{\"value\":[\"(function (txt){return this.k.render(txt,this.container)})\"]},\"systemjs_options\":null,\"mount_callbacks\":[\"function () {\\n    var handler = ((function (k){this.k=k; this.container=this.dom.querySelector(\\\"#container\\\"); return k.render(\\\"\\\\\\\\;\\\\\\\\;\\\",this.container)}));\\n    (WebIO.importBlock({\\\"data\\\":[{\\\"name\\\":null,\\\"type\\\":\\\"js\\\",\\\"url\\\":\\\"\\/assetserver\\/dd22ed1bf1896c2748f3fe616ce0b838adc895c1-katex.min.js\\\"},{\\\"name\\\":null,\\\"type\\\":\\\"css\\\",\\\"url\\\":\\\"\\/assetserver\\/46517a424aa5e6cffc1360d7e0848b601c584ee3-katex.min.css\\\"}],\\\"type\\\":\\\"async_block\\\"})).then((imports) => handler.apply(this, imports));\\n}\\n\"],\"observables\":{\"value\":{\"sync\":false,\"id\":\"10156954760989483595\",\"value\":\"\\\\;\\\\;\"}}},\"children\":[{\"props\":{\"id\":\"container\"},\"nodeType\":\"DOM\",\"type\":\"node\",\"instanceArgs\":{\"namespace\":\"html\",\"tag\":\"div\"},\"children\":[]}]}]},{\"props\":{},\"nodeType\":\"Scope\",\"type\":\"node\",\"instanceArgs\":{\"imports\":{\"data\":[],\"type\":\"async_block\"},\"id\":\"6806691671671696440\",\"handlers\":{\"obs-output\":[\"function (value, scope) {\\n    scope.setInnerHTML(value);\\n}\\n\"]},\"systemjs_options\":null,\"mount_callbacks\":[],\"observables\":{\"obs-output\":{\"sync\":false,\"id\":\"2701369166347197811\",\"value\":\"<img src='data:image\\/png;base64,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'><\\/img>\"}}},\"children\":[{\"props\":{\"className\":\"webio-observable\",\"setInnerHtml\":\"<img src='data:image\\/png;base64,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'><\\/img>\"},\"nodeType\":\"DOM\",\"type\":\"node\",\"instanceArgs\":{\"namespace\":\"html\",\"tag\":\"div\"},\"children\":[]}]},{\"props\":{\"className\":\"interact-widget\"},\"nodeType\":\"DOM\",\"type\":\"node\",\"instanceArgs\":{\"namespace\":\"html\",\"tag\":\"div\"},\"children\":[{\"props\":{},\"nodeType\":\"Scope\",\"type\":\"node\",\"instanceArgs\":{\"imports\":{\"data\":[{\"name\":null,\"type\":\"js\",\"url\":\"\\/assetserver\\/dd22ed1bf1896c2748f3fe616ce0b838adc895c1-katex.min.js\"},{\"name\":null,\"type\":\"css\",\"url\":\"\\/assetserver\\/46517a424aa5e6cffc1360d7e0848b601c584ee3-katex.min.css\"}],\"type\":\"async_block\"},\"id\":\"12374510080605918380\",\"handlers\":{\"value\":[\"(function (txt){return this.k.render(txt,this.container)})\"]},\"systemjs_options\":null,\"mount_callbacks\":[\"function () {\\n    var handler = ((function (k){this.k=k; this.container=this.dom.querySelector(\\\"#container\\\"); return k.render(\\\"\\\\\\\\;\\\\\\\\;\\\",this.container)}));\\n    (WebIO.importBlock({\\\"data\\\":[{\\\"name\\\":null,\\\"type\\\":\\\"js\\\",\\\"url\\\":\\\"\\/assetserver\\/dd22ed1bf1896c2748f3fe616ce0b838adc895c1-katex.min.js\\\"},{\\\"name\\\":null,\\\"type\\\":\\\"css\\\",\\\"url\\\":\\\"\\/assetserver\\/46517a424aa5e6cffc1360d7e0848b601c584ee3-katex.min.css\\\"}],\\\"type\\\":\\\"async_block\\\"})).then((imports) => handler.apply(this, imports));\\n}\\n\"],\"observables\":{\"value\":{\"sync\":false,\"id\":\"10156954760989483595\",\"value\":\"\\\\;\\\\;\"}}},\"children\":[{\"props\":{\"id\":\"container\"},\"nodeType\":\"DOM\",\"type\":\"node\",\"instanceArgs\":{\"namespace\":\"html\",\"tag\":\"div\"},\"children\":[]}]}]},{\"props\":{\"style\":{\"display\":\"flex\",\"flex-direction\":\"column\"}},\"nodeType\":\"DOM\",\"type\":\"node\",\"instanceArgs\":{\"namespace\":\"html\",\"tag\":\"div\"},\"children\":[]}]}]},\n",
       "        window,\n",
       "    );\n",
       "    })()\n",
       "    </script>\n",
       "</div>\n"
      ],
      "text/plain": [
       "WebIO.Node{WebIO.DOM}(WebIO.DOM(:html, :div), Any[WebIO.Node{WebIO.DOM}(WebIO.DOM(:html, :div), Any[WebIO.Node{WebIO.DOM}(WebIO.DOM(:html, :div), Any[WebIO.Node{WebIO.DOM}(WebIO.DOM(:html, :div), Any[WebIO.Scope(WebIO.Node{WebIO.DOM}(WebIO.DOM(:html, :div), Any[WebIO.Node{WebIO.DOM}(WebIO.DOM(:html, :div), Any[WebIO.Node{WebIO.DOM}(WebIO.DOM(:html, :label), Any[\"time\"], Dict{Symbol, Any}(:className => \"interact \", :style => Dict{Any, Any}(:padding => \"5px 10px 0px 10px\")))], Dict{Symbol, Any}(:className => \"interact-flex-row-left\")), WebIO.Node{WebIO.DOM}(WebIO.DOM(:html, :div), Any[WebIO.Node{WebIO.DOM}(WebIO.DOM(:html, :input), Any[], Dict{Symbol, Any}(:max => 400, :min => 1, :attributes => Dict{Any, Any}(:type => \"range\", Symbol(\"data-bind\") => \"numericValue: index, valueUpdate: 'input', event: {change: function (){this.changes(this.changes()+1)}}\", \"orient\" => \"horizontal\"), :step => 1, :className => \"slider slider is-fullwidth\", :style => Dict{Any, Any}()))], Dict{Symbol, Any}(:className => \"interact-flex-row-center\")), WebIO.Node{WebIO.DOM}(WebIO.DOM(:html, :div), Any[WebIO.Node{WebIO.DOM}(WebIO.DOM(:html, :p), Any[], Dict{Symbol, Any}(:attributes => Dict(\"data-bind\" => \"text: formatted_val\")))], Dict{Symbol, Any}(:className => \"interact-flex-row-right\"))], Dict{Symbol, Any}(:className => \"interact-flex-row interact-widget\")), Dict{String, Tuple{Observables.AbstractObservable, Union{Nothing, Bool}}}(\"changes\" => (Observable(0), nothing), \"index\" => (Observable(1), nothing)), Set{String}(), nothing, WebIO.Asset[WebIO.Asset(\"js\", \"knockout\", \"/home/dushya/.julia/packages/Knockout/HReiN/src/../assets/knockout.js\"), WebIO.Asset(\"js\", \"knockout_punches\", \"/home/dushya/.julia/packages/Knockout/HReiN/src/../assets/knockout_punches.js\"), WebIO.Asset(\"js\", nothing, \"/home/dushya/.julia/packages/InteractBase/LJXv3/src/../assets/all.js\"), WebIO.Asset(\"css\", nothing, \"/home/dushya/.julia/packages/InteractBase/LJXv3/src/../assets/style.css\"), WebIO.Asset(\"css\", nothing, \"/home/dushya/.julia/packages/Interact/PENUy/src/../assets/bulma_confined.min.css\")], Dict{Any, Any}(\"changes\" => Any[WebIO.JSString(\"(function (val){return (val!=this.model[\\\"changes\\\"]()) ? (this.valueFromJulia[\\\"changes\\\"]=true, this.model[\\\"changes\\\"](val)) : undefined})\")], \"index\" => Any[WebIO.JSString(\"(function (val){return (val!=this.model[\\\"index\\\"]()) ? (this.valueFromJulia[\\\"index\\\"]=true, this.model[\\\"index\\\"](val)) : undefined})\")]), WebIO.ConnectionPool(Channel{Any}(32), Set{WebIO.AbstractConnection}(), Base.GenericCondition{ReentrantLock}(Base.IntrusiveLinkedList{Task}(Task (runnable) @0x00007f6119ad8010, Task (runnable) @0x00007f6119ad8010), ReentrantLock(nothing, 0x00000000, 0x00, Base.GenericCondition{Base.Threads.SpinLock}(Base.IntrusiveLinkedList{Task}(nothing, nothing), Base.Threads.SpinLock(0)), (0, 0, 141733920768)))), WebIO.JSString[WebIO.JSString(\"function () {\\n    var handler = (function (ko, koPunches) {\\n    ko.punches.enableAll();\\n    ko.bindingHandlers.numericValue = {\\n        init: function(element, valueAccessor, allBindings, data, context) {\\n            var stringified = ko.observable(ko.unwrap(valueAccessor()));\\n            stringified.subscribe(function(value) {\\n                var val = parseFloat(value);\\n                if (!isNaN(val)) {\\n                    valueAccessor()(val);\\n                }\\n            });\\n            valueAccessor().subscribe(function(value) {\\n                var str = JSON.stringify(value);\\n                if ((str == \\\"0\\\") && ([\\\"-0\\\", \\\"-0.\\\"].indexOf(stringified()) >= 0))\\n                     return;\\n                 if ([\\\"null\\\", \\\"\\\"].indexOf(str) >= 0)\\n                     return;\\n                stringified(str);\\n            });\\n            ko.applyBindingsToNode(\\n                element,\\n                {\\n                    value: stringified,\\n                    valueUpdate: allBindings.get('valueUpdate'),\\n                },\\n                context,\\n            );\\n        }\\n    };\\n    var json_data = {\\\"formatted_vals\\\":[\\\"1\\\",\\\"2\\\",\\\"3\\\",\\\"4\\\",\\\"5\\\",\\\"6\\\",\\\"7\\\",\\\"8\\\",\\\"9\\\",\\\"10\\\",\\\"11\\\",\\\"12\\\",\\\"13\\\",\\\"14\\\",\\\"15\\\",\\\"16\\\",\\\"17\\\",\\\"18\\\",\\\"19\\\",\\\"20\\\",\\\"21\\\",\\\"22\\\",\\\"23\\\",\\\"24\\\",\\\"25\\\",\\\"26\\\",\\\"27\\\",\\\"28\\\",\\\"29\\\",\\\"30\\\",\\\"31\\\",\\\"32\\\",\\\"33\\\",\\\"34\\\",\\\"35\\\",\\\"36\\\",\\\"37\\\",\\\"38\\\",\\\"39\\\",\\\"40\\\",\\\"41\\\",\\\"42\\\",\\\"43\\\",\\\"44\\\",\\\"45\\\",\\\"46\\\",\\\"47\\\",\\\"48\\\",\\\"49\\\",\\\"50\\\",\\\"51\\\",\\\"52\\\",\\\"53\\\",\\\"54\\\",\\\"55\\\",\\\"56\\\",\\\"57\\\",\\\"58\\\",\\\"59\\\",\\\"60\\\",\\\"61\\\",\\\"62\\\",\\\"63\\\",\\\"64\\\",\\\"65\\\",\\\"66\\\",\\\"67\\\",\\\"68\\\",\\\"69\\\",\\\"70\\\",\\\"71\\\",\\\"72\\\",\\\"73\\\",\\\"74\\\",\\\"75\\\",\\\"76\\\",\\\"77\\\",\\\"78\\\",\\\"79\\\",\\\"80\\\",\\\"81\\\",\\\"82\\\",\\\"83\\\",\\\"84\\\",\\\"85\\\",\\\"86\\\",\\\"87\\\",\\\"88\\\",\\\"89\\\",\\\"90\\\",\\\"91\\\",\\\"92\\\",\\\"93\\\",\\\"94\\\",\\\"95\\\",\\\"96\\\",\\\"97\\\",\\\"98\\\",\\\"99\\\",\\\"100\\\",\\\"101\\\",\\\"102\\\",\\\"103\\\",\\\"104\\\",\\\"105\\\",\\\"106\\\",\\\"107\\\",\\\"108\\\",\\\"109\\\",\\\"110\\\",\\\"111\\\",\\\"112\\\",\\\"113\\\",\\\"114\\\",\\\"115\\\",\\\"116\\\",\\\"117\\\",\\\"118\\\",\\\"119\\\",\\\"120\\\",\\\"121\\\",\\\"122\\\",\\\"123\\\",\\\"124\\\",\\\"125\\\",\\\"126\\\",\\\"127\\\",\\\"128\\\",\\\"129\\\",\\\"130\\\",\\\"131\\\",\\\"132\\\",\\\"133\\\",\\\"134\\\",\\\"135\\\",\\\"136\\\",\\\"137\\\",\\\"138\\\",\\\"139\\\",\\\"140\\\",\\\"141\\\",\\\"142\\\",\\\"143\\\",\\\"144\\\",\\\"145\\\",\\\"146\\\",\\\"147\\\",\\\"148\\\",\\\"149\\\",\\\"150\\\",\\\"151\\\",\\\"152\\\",\\\"153\\\",\\\"154\\\",\\\"155\\\",\\\"156\\\",\\\"157\\\",\\\"158\\\",\\\"159\\\",\\\"160\\\",\\\"161\\\",\\\"162\\\",\\\"163\\\",\\\"164\\\",\\\"165\\\",\\\"166\\\",\\\"167\\\",\\\"168\\\",\\\"169\\\",\\\"170\\\",\\\"171\\\",\\\"172\\\",\\\"173\\\",\\\"174\\\",\\\"175\\\",\\\"176\\\",\\\"177\\\",\\\"178\\\",\\\"179\\\",\\\"180\\\",\\\"181\\\",\\\"182\\\",\\\"183\\\",\\\"184\\\",\\\"185\\\",\\\"186\\\",\\\"187\\\",\\\"188\\\",\\\"189\\\",\\\"190\\\",\\\"191\\\",\\\"192\\\",\\\"193\\\",\\\"194\\\",\\\"195\\\",\\\"196\\\",\\\"197\\\",\\\"198\\\",\\\"199\\\",\\\"200\\\",\\\"201\\\",\\\"202\\\",\\\"203\\\",\\\"204\\\",\\\"205\\\",\\\"206\\\",\\\"207\\\",\\\"208\\\",\\\"209\\\",\\\"210\\\",\\\"211\\\",\\\"212\\\",\\\"213\\\",\\\"214\\\",\\\"215\\\",\\\"216\\\",\\\"217\\\",\\\"218\\\",\\\"219\\\",\\\"220\\\",\\\"221\\\",\\\"222\\\",\\\"223\\\",\\\"224\\\",\\\"225\\\",\\\"226\\\",\\\"227\\\",\\\"228\\\",\\\"229\\\",\\\"230\\\",\\\"231\\\",\\\"232\\\",\\\"233\\\",\\\"234\\\",\\\"235\\\",\\\"236\\\",\\\"237\\\",\\\"238\\\",\\\"239\\\",\\\"240\\\",\\\"241\\\",\\\"242\\\",\\\"243\\\",\\\"244\\\",\\\"245\\\",\\\"246\\\",\\\"247\\\",\\\"248\\\",\\\"249\\\",\\\"250\\\",\\\"251\\\",\\\"252\\\",\\\"253\\\",\\\"254\\\",\\\"255\\\",\\\"256\\\",\\\"257\\\",\\\"258\\\",\\\"259\\\",\\\"260\\\",\\\"261\\\",\\\"262\\\",\\\"263\\\",\\\"264\\\",\\\"265\\\",\\\"266\\\",\\\"267\\\",\\\"268\\\",\\\"269\\\",\\\"270\\\",\\\"271\\\",\\\"272\\\",\\\"273\\\",\\\"274\\\",\\\"275\\\",\\\"276\\\",\\\"277\\\",\\\"278\\\",\\\"279\\\",\\\"280\\\",\\\"281\\\",\\\"282\\\",\\\"283\\\",\\\"284\\\",\\\"285\\\",\\\"286\\\",\\\"287\\\",\\\"288\\\",\\\"289\\\",\\\"290\\\",\\\"291\\\",\\\"292\\\",\\\"293\\\",\\\"294\\\",\\\"295\\\",\\\"296\\\",\\\"297\\\",\\\"298\\\",\\\"299\\\",\\\"300\\\",\\\"301\\\",\\\"302\\\",\\\"303\\\",\\\"304\\\",\\\"305\\\",\\\"306\\\",\\\"307\\\",\\\"308\\\",\\\"309\\\",\\\"310\\\",\\\"311\\\",\\\"312\\\",\\\"313\\\",\\\"314\\\",\\\"315\\\",\\\"316\\\",\\\"317\\\",\\\"318\\\",\\\"319\\\",\\\"320\\\",\\\"321\\\",\\\"322\\\",\\\"323\\\",\\\"324\\\",\\\"325\\\",\\\"326\\\",\\\"327\\\",\\\"328\\\",\\\"329\\\",\\\"330\\\",\\\"331\\\",\\\"332\\\",\\\"333\\\",\\\"334\\\",\\\"335\\\",\\\"336\\\",\\\"337\\\",\\\"338\\\",\\\"339\\\",\\\"340\\\",\\\"341\\\",\\\"342\\\",\\\"343\\\",\\\"344\\\",\\\"345\\\",\\\"346\\\",\\\"347\\\",\\\"348\\\",\\\"349\\\",\\\"350\\\",\\\"351\\\",\\\"352\\\",\\\"353\\\",\\\"354\\\",\\\"355\\\",\\\"356\\\",\\\"357\\\",\\\"358\\\",\\\"359\\\",\\\"360\\\",\\\"361\\\",\\\"362\\\",\\\"363\\\",\\\"364\\\",\\\"365\\\",\\\"366\\\",\\\"367\\\",\\\"368\\\",\\\"369\\\",\\\"370\\\",\\\"371\\\",\\\"372\\\",\\\"373\\\",\\\"374\\\",\\\"375\\\",\\\"376\\\",\\\"377\\\",\\\"378\\\",\\\"379\\\",\\\"380\\\",\\\"381\\\",\\\"382\\\",\\\"383\\\",\\\"384\\\",\\\"385\\\",\\\"386\\\",\\\"387\\\",\\\"388\\\",\\\"389\\\",\\\"390\\\",\\\"391\\\",\\\"392\\\",\\\"393\\\",\\\"394\\\",\\\"395\\\",\\\"396\\\",\\\"397\\\",\\\"398\\\",\\\"399\\\",\\\"400\\\"],\\\"changes\\\":WebIO.getval({\\\"name\\\":\\\"changes\\\",\\\"scope\\\":\\\"14749890256849955995\\\",\\\"id\\\":\\\"17150296114975303335\\\",\\\"type\\\":\\\"observable\\\"}),\\\"index\\\":WebIO.getval({\\\"name\\\":\\\"index\\\",\\\"scope\\\":\\\"14749890256849955995\\\",\\\"id\\\":\\\"9069007503870681331\\\",\\\"type\\\":\\\"observable\\\"})};\\n    var self = this;\\n    function AppViewModel() {\\n        for (var key in json_data) {\\n            var el = json_data[key];\\n            this[key] = Array.isArray(el) ? ko.observableArray(el) : ko.observable(el);\\n        }\\n        \\n        [this[\\\"formatted_val\\\"]=ko.computed(    function(){\\n        return this.formatted_vals()[parseInt(this.index())-(1)];\\n    }\\n,this)]\\n        [this[\\\"changes\\\"].subscribe((function (val){!(this.valueFromJulia[\\\"changes\\\"]) ? (WebIO.setval({\\\"name\\\":\\\"changes\\\",\\\"scope\\\":\\\"14749890256849955995\\\",\\\"id\\\":\\\"17150296114975303335\\\",\\\"type\\\":\\\"observable\\\"},val)) : undefined; return this.valueFromJulia[\\\"changes\\\"]=false}),self),this[\\\"index\\\"].subscribe((function (val){!(this.valueFromJulia[\\\"index\\\"]) ? (WebIO.setval({\\\"name\\\":\\\"index\\\",\\\"scope\\\":\\\"14749890256849955995\\\",\\\"id\\\":\\\"9069007503870681331\\\",\\\"type\\\":\\\"observable\\\"},val)) : undefined; return this.valueFromJulia[\\\"index\\\"]=false}),self)]\\n        \\n    }\\n    self.model = new AppViewModel();\\n    self.valueFromJulia = {};\\n    for (var key in json_data) {\\n        self.valueFromJulia[key] = false;\\n    }\\n    ko.applyBindings(self.model, self.dom);\\n}\\n);\\n    (WebIO.importBlock({\\\"data\\\":[{\\\"name\\\":\\\"knockout\\\",\\\"type\\\":\\\"js\\\",\\\"url\\\":\\\"/assetserver/727383f2a47bd31570b7da84eee7b022dd6d7c78-knockout.js\\\"},{\\\"name\\\":\\\"knockout_punches\\\",\\\"type\\\":\\\"js\\\",\\\"url\\\":\\\"/assetserver/382b41b3b1bd9f26f75861d360bad7f8beea211f-knockout_punches.js\\\"}],\\\"type\\\":\\\"async_block\\\"})).then((imports) => handler.apply(this, imports));\\n}\\n\")])], Dict{Symbol, Any}(:className => \"field interact-widget\")), WebIO.Node{WebIO.DOM}(WebIO.DOM(:html, :div), Any[WebIO.Scope(WebIO.Node{WebIO.DOM}(WebIO.DOM(:html, :div), Any[WebIO.Node{WebIO.DOM}(WebIO.DOM(:html, :div), Any[WebIO.Node{WebIO.DOM}(WebIO.DOM(:html, :label), Any[\"scale\"], Dict{Symbol, Any}(:className => \"interact \", :style => Dict{Any, Any}(:padding => \"5px 10px 0px 10px\")))], Dict{Symbol, Any}(:className => \"interact-flex-row-left\")), WebIO.Node{WebIO.DOM}(WebIO.DOM(:html, :div), Any[WebIO.Node{WebIO.DOM}(WebIO.DOM(:html, :input), Any[], Dict{Symbol, Any}(:max => 20, :min => 1, :attributes => Dict{Any, Any}(:type => \"range\", Symbol(\"data-bind\") => \"numericValue: index, valueUpdate: 'input', event: {change: function (){this.changes(this.changes()+1)}}\", \"orient\" => \"horizontal\"), :step => 1, :className => \"slider slider is-fullwidth\", :style => Dict{Any, Any}()))], Dict{Symbol, Any}(:className => \"interact-flex-row-center\")), WebIO.Node{WebIO.DOM}(WebIO.DOM(:html, :div), Any[WebIO.Node{WebIO.DOM}(WebIO.DOM(:html, :p), Any[], Dict{Symbol, Any}(:attributes => Dict(\"data-bind\" => \"text: formatted_val\")))], Dict{Symbol, Any}(:className => \"interact-flex-row-right\"))], Dict{Symbol, Any}(:className => \"interact-flex-row interact-widget\")), Dict{String, Tuple{Observables.AbstractObservable, Union{Nothing, Bool}}}(\"changes\" => (Observable(0), nothing), \"index\" => (Observable{Any}(10), nothing)), Set{String}(), nothing, WebIO.Asset[WebIO.Asset(\"js\", \"knockout\", \"/home/dushya/.julia/packages/Knockout/HReiN/src/../assets/knockout.js\"), WebIO.Asset(\"js\", \"knockout_punches\", \"/home/dushya/.julia/packages/Knockout/HReiN/src/../assets/knockout_punches.js\"), WebIO.Asset(\"js\", nothing, \"/home/dushya/.julia/packages/InteractBase/LJXv3/src/../assets/all.js\"), WebIO.Asset(\"css\", nothing, \"/home/dushya/.julia/packages/InteractBase/LJXv3/src/../assets/style.css\"), WebIO.Asset(\"css\", nothing, \"/home/dushya/.julia/packages/Interact/PENUy/src/../assets/bulma_confined.min.css\")], Dict{Any, Any}(\"changes\" => Any[WebIO.JSString(\"(function (val){return (val!=this.model[\\\"changes\\\"]()) ? (this.valueFromJulia[\\\"changes\\\"]=true, this.model[\\\"changes\\\"](val)) : undefined})\")], \"index\" => Any[WebIO.JSString(\"(function (val){return (val!=this.model[\\\"index\\\"]()) ? (this.valueFromJulia[\\\"index\\\"]=true, this.model[\\\"index\\\"](val)) : undefined})\")]), WebIO.ConnectionPool(Channel{Any}(32), Set{WebIO.AbstractConnection}(), Base.GenericCondition{ReentrantLock}(Base.IntrusiveLinkedList{Task}(Task (runnable) @0x00007f6119ada720, Task (runnable) @0x00007f6119ada720), ReentrantLock(nothing, 0x00000000, 0x00, Base.GenericCondition{Base.Threads.SpinLock}(Base.IntrusiveLinkedList{Task}(nothing, nothing), Base.Threads.SpinLock(0)), (0, 0, 141733920768)))), WebIO.JSString[WebIO.JSString(\"function () {\\n    var handler = (function (ko, koPunches) {\\n    ko.punches.enableAll();\\n    ko.bindingHandlers.numericValue = {\\n        init: function(element, valueAccessor, allBindings, data, context) {\\n            var stringified = ko.observable(ko.unwrap(valueAccessor()));\\n            stringified.subscribe(function(value) {\\n                var val = parseFloat(value);\\n                if (!isNaN(val)) {\\n                    valueAccessor()(val);\\n                }\\n            });\\n            valueAccessor().subscribe(function(value) {\\n                var str = JSON.stringify(value);\\n                if ((str == \\\"0\\\") && ([\\\"-0\\\", \\\"-0.\\\"].indexOf(stringified()) >= 0))\\n                     return;\\n                 if ([\\\"null\\\", \\\"\\\"].indexOf(str) >= 0)\\n                     return;\\n                stringified(str);\\n            });\\n            ko.applyBindingsToNode(\\n                element,\\n                {\\n                    value: stringified,\\n                    valueUpdate: allBindings.get('valueUpdate'),\\n                },\\n                context,\\n            );\\n        }\\n    };\\n    var json_data = {\\\"formatted_vals\\\":[\\\"0.1\\\",\\\"0.2\\\",\\\"0.3\\\",\\\"0.4\\\",\\\"0.5\\\",\\\"0.6\\\",\\\"0.7\\\",\\\"0.8\\\",\\\"0.9\\\",\\\"1.0\\\",\\\"1.1\\\",\\\"1.2\\\",\\\"1.3\\\",\\\"1.4\\\",\\\"1.5\\\",\\\"1.6\\\",\\\"1.7\\\",\\\"1.8\\\",\\\"1.9\\\",\\\"2.0\\\"],\\\"changes\\\":WebIO.getval({\\\"name\\\":\\\"changes\\\",\\\"scope\\\":\\\"11209935382571947976\\\",\\\"id\\\":\\\"3678561581940329269\\\",\\\"type\\\":\\\"observable\\\"}),\\\"index\\\":WebIO.getval({\\\"name\\\":\\\"index\\\",\\\"scope\\\":\\\"11209935382571947976\\\",\\\"id\\\":\\\"615166752810926526\\\",\\\"type\\\":\\\"observable\\\"})};\\n    var self = this;\\n    function AppViewModel() {\\n        for (var key in json_data) {\\n            var el = json_data[key];\\n            this[key] = Array.isArray(el) ? ko.observableArray(el) : ko.observable(el);\\n        }\\n        \\n        [this[\\\"formatted_val\\\"]=ko.computed(    function(){\\n        return this.formatted_vals()[parseInt(this.index())-(1)];\\n    }\\n,this)]\\n        [this[\\\"changes\\\"].subscribe((function (val){!(this.valueFromJulia[\\\"changes\\\"]) ? (WebIO.setval({\\\"name\\\":\\\"changes\\\",\\\"scope\\\":\\\"11209935382571947976\\\",\\\"id\\\":\\\"3678561581940329269\\\",\\\"type\\\":\\\"observable\\\"},val)) : undefined; return this.valueFromJulia[\\\"changes\\\"]=false}),self),this[\\\"index\\\"].subscribe((function (val){!(this.valueFromJulia[\\\"index\\\"]) ? (WebIO.setval({\\\"name\\\":\\\"index\\\",\\\"scope\\\":\\\"11209935382571947976\\\",\\\"id\\\":\\\"615166752810926526\\\",\\\"type\\\":\\\"observable\\\"},val)) : undefined; return this.valueFromJulia[\\\"index\\\"]=false}),self)]\\n        \\n    }\\n    self.model = new AppViewModel();\\n    self.valueFromJulia = {};\\n    for (var key in json_data) {\\n        self.valueFromJulia[key] = false;\\n    }\\n    ko.applyBindings(self.model, self.dom);\\n}\\n);\\n    (WebIO.importBlock({\\\"data\\\":[{\\\"name\\\":\\\"knockout\\\",\\\"type\\\":\\\"js\\\",\\\"url\\\":\\\"/assetserver/727383f2a47bd31570b7da84eee7b022dd6d7c78-knockout.js\\\"},{\\\"name\\\":\\\"knockout_punches\\\",\\\"type\\\":\\\"js\\\",\\\"url\\\":\\\"/assetserver/382b41b3b1bd9f26f75861d360bad7f8beea211f-knockout_punches.js\\\"}],\\\"type\\\":\\\"async_block\\\"})).then((imports) => handler.apply(this, imports));\\n}\\n\")])], Dict{Symbol, Any}(:className => \"field interact-widget\")), WebIO.Node{WebIO.DOM}(WebIO.DOM(:html, :div), Any[], Dict{Symbol, Any}(:style => Dict(\"display\" => \"flex\", \"flex-direction\" => \"column\"))), WebIO.Node{WebIO.DOM}(WebIO.DOM(:html, :div), Any[WebIO.Node{WebIO.DOM}(WebIO.DOM(:html, :div), Any[WebIO.Scope(WebIO.Node{WebIO.DOM}(WebIO.DOM(:html, :div), Any[WebIO.Node{WebIO.DOM}(WebIO.DOM(:html, :div), Any[WebIO.Node{WebIO.DOM}(WebIO.DOM(:html, :label), Any[\"threshold\"], Dict{Symbol, Any}(:className => \"interact \", :style => Dict{Any, Any}(:padding => \"5px 10px 0px 10px\")))], Dict{Symbol, Any}(:className => \"interact-flex-row-left\")), WebIO.Node{WebIO.DOM}(WebIO.DOM(:html, :div), Any[WebIO.Node{WebIO.DOM}(WebIO.DOM(:html, :input), Any[], Dict{Symbol, Any}(:max => 8, :min => 1, :attributes => Dict{Any, Any}(:type => \"range\", Symbol(\"data-bind\") => \"numericValue: index, valueUpdate: 'input', event: {change: function (){this.changes(this.changes()+1)}}\", \"orient\" => \"horizontal\"), :step => 1, :className => \"slider slider is-fullwidth\", :style => Dict{Any, Any}()))], Dict{Symbol, Any}(:className => \"interact-flex-row-center\")), WebIO.Node{WebIO.DOM}(WebIO.DOM(:html, :div), Any[WebIO.Node{WebIO.DOM}(WebIO.DOM(:html, :p), Any[], Dict{Symbol, Any}(:attributes => Dict(\"data-bind\" => \"text: formatted_val\")))], Dict{Symbol, Any}(:className => \"interact-flex-row-right\"))], Dict{Symbol, Any}(:className => \"interact-flex-row interact-widget\")), Dict{String, Tuple{Observables.AbstractObservable, Union{Nothing, Bool}}}(\"changes\" => (Observable(0), nothing), \"index\" => (Observable(4), nothing)), Set{String}(), nothing, WebIO.Asset[WebIO.Asset(\"js\", \"knockout\", \"/home/dushya/.julia/packages/Knockout/HReiN/src/../assets/knockout.js\"), WebIO.Asset(\"js\", \"knockout_punches\", \"/home/dushya/.julia/packages/Knockout/HReiN/src/../assets/knockout_punches.js\"), WebIO.Asset(\"js\", nothing, \"/home/dushya/.julia/packages/InteractBase/LJXv3/src/../assets/all.js\"), WebIO.Asset(\"css\", nothing, \"/home/dushya/.julia/packages/InteractBase/LJXv3/src/../assets/style.css\"), WebIO.Asset(\"css\", nothing, \"/home/dushya/.julia/packages/Interact/PENUy/src/../assets/bulma_confined.min.css\")], Dict{Any, Any}(\"changes\" => Any[WebIO.JSString(\"(function (val){return (val!=this.model[\\\"changes\\\"]()) ? (this.valueFromJulia[\\\"changes\\\"]=true, this.model[\\\"changes\\\"](val)) : undefined})\")], \"index\" => Any[WebIO.JSString(\"(function (val){return (val!=this.model[\\\"index\\\"]()) ? (this.valueFromJulia[\\\"index\\\"]=true, this.model[\\\"index\\\"](val)) : undefined})\")]), WebIO.ConnectionPool(Channel{Any}(32), Set{WebIO.AbstractConnection}(), Base.GenericCondition{ReentrantLock}(Base.IntrusiveLinkedList{Task}(Task (runnable) @0x00007f61197b76c0, Task (runnable) @0x00007f61197b76c0), ReentrantLock(nothing, 0x00000000, 0x00, Base.GenericCondition{Base.Threads.SpinLock}(Base.IntrusiveLinkedList{Task}(nothing, nothing), Base.Threads.SpinLock(0)), (0, 0, 141733920768)))), WebIO.JSString[WebIO.JSString(\"function () {\\n    var handler = (function (ko, koPunches) {\\n    ko.punches.enableAll();\\n    ko.bindingHandlers.numericValue = {\\n        init: function(element, valueAccessor, allBindings, data, context) {\\n            var stringified = ko.observable(ko.unwrap(valueAccessor()));\\n            stringified.subscribe(function(value) {\\n                var val = parseFloat(value);\\n                if (!isNaN(val)) {\\n                    valueAccessor()(val);\\n                }\\n            });\\n            valueAccessor().subscribe(function(value) {\\n                var str = JSON.stringify(value);\\n                if ((str == \\\"0\\\") && ([\\\"-0\\\", \\\"-0.\\\"].indexOf(stringified()) >= 0))\\n                     return;\\n                 if ([\\\"null\\\", \\\"\\\"].indexOf(str) >= 0)\\n                     return;\\n                stringified(str);\\n            });\\n            ko.applyBindingsToNode(\\n                element,\\n                {\\n                    value: stringified,\\n                    valueUpdate: allBindings.get('valueUpdate'),\\n                },\\n                context,\\n            );\\n        }\\n    };\\n    var json_data = {\\\"formatted_vals\\\":[\\\"1\\\",\\\"2\\\",\\\"3\\\",\\\"4\\\",\\\"5\\\",\\\"6\\\",\\\"7\\\",\\\"8\\\"],\\\"changes\\\":WebIO.getval({\\\"name\\\":\\\"changes\\\",\\\"scope\\\":\\\"16541729557498406918\\\",\\\"id\\\":\\\"153197974291645994\\\",\\\"type\\\":\\\"observable\\\"}),\\\"index\\\":WebIO.getval({\\\"name\\\":\\\"index\\\",\\\"scope\\\":\\\"16541729557498406918\\\",\\\"id\\\":\\\"7572999499097270814\\\",\\\"type\\\":\\\"observable\\\"})};\\n    var self = this;\\n    function AppViewModel() {\\n        for (var key in json_data) {\\n            var el = json_data[key];\\n            this[key] = Array.isArray(el) ? ko.observableArray(el) : ko.observable(el);\\n        }\\n        \\n        [this[\\\"formatted_val\\\"]=ko.computed(    function(){\\n        return this.formatted_vals()[parseInt(this.index())-(1)];\\n    }\\n,this)]\\n        [this[\\\"changes\\\"].subscribe((function (val){!(this.valueFromJulia[\\\"changes\\\"]) ? (WebIO.setval({\\\"name\\\":\\\"changes\\\",\\\"scope\\\":\\\"16541729557498406918\\\",\\\"id\\\":\\\"153197974291645994\\\",\\\"type\\\":\\\"observable\\\"},val)) : undefined; return this.valueFromJulia[\\\"changes\\\"]=false}),self),this[\\\"index\\\"].subscribe((function (val){!(this.valueFromJulia[\\\"index\\\"]) ? (WebIO.setval({\\\"name\\\":\\\"index\\\",\\\"scope\\\":\\\"16541729557498406918\\\",\\\"id\\\":\\\"7572999499097270814\\\",\\\"type\\\":\\\"observable\\\"},val)) : undefined; return this.valueFromJulia[\\\"index\\\"]=false}),self)]\\n        \\n    }\\n    self.model = new AppViewModel();\\n    self.valueFromJulia = {};\\n    for (var key in json_data) {\\n        self.valueFromJulia[key] = false;\\n    }\\n    ko.applyBindings(self.model, self.dom);\\n}\\n);\\n    (WebIO.importBlock({\\\"data\\\":[{\\\"name\\\":\\\"knockout\\\",\\\"type\\\":\\\"js\\\",\\\"url\\\":\\\"/assetserver/727383f2a47bd31570b7da84eee7b022dd6d7c78-knockout.js\\\"},{\\\"name\\\":\\\"knockout_punches\\\",\\\"type\\\":\\\"js\\\",\\\"url\\\":\\\"/assetserver/382b41b3b1bd9f26f75861d360bad7f8beea211f-knockout_punches.js\\\"}],\\\"type\\\":\\\"async_block\\\"})).then((imports) => handler.apply(this, imports));\\n}\\n\")])], Dict{Symbol, Any}(:className => \"field interact-widget\"))], Dict{Symbol, Any}(:style => Dict(\"display\" => \"flex\", \"flex-direction\" => \"column\"))), WebIO.Node{WebIO.DOM}(WebIO.DOM(:html, :div), Any[WebIO.Node{WebIO.DOM}(WebIO.DOM(:html, :div), Any[WebIO.Scope(WebIO.Node{WebIO.DOM}(WebIO.DOM(:html, :div), Any[], Dict{Symbol, Any}(:id => \"container\")), Dict{String, Tuple{Observables.AbstractObservable, Union{Nothing, Bool}}}(\"value\" => (Observable(\"\\\\;\\\\;\"), nothing)), Set{String}(), nothing, WebIO.Asset[WebIO.Asset(\"js\", nothing, \"/home/dushya/.julia/packages/InteractBase/LJXv3/src/../assets/katex.min.js\"), WebIO.Asset(\"css\", nothing, \"/home/dushya/.julia/packages/InteractBase/LJXv3/src/../assets/katex.min.css\")], Dict{Any, Any}(\"value\" => Any[WebIO.JSString(\"(function (txt){return this.k.render(txt,this.container)})\")]), WebIO.ConnectionPool(Channel{Any}(32), Set{WebIO.AbstractConnection}(), Base.GenericCondition{ReentrantLock}(Base.IntrusiveLinkedList{Task}(Task (runnable) @0x00007f6158b5d140, Task (runnable) @0x00007f6158b5d140), ReentrantLock(nothing, 0x00000000, 0x00, Base.GenericCondition{Base.Threads.SpinLock}(Base.IntrusiveLinkedList{Task}(nothing, nothing), Base.Threads.SpinLock(0)), (8, 0, 139779710648320)))), WebIO.JSString[WebIO.JSString(\"function () {\\n    var handler = ((function (k){this.k=k; this.container=this.dom.querySelector(\\\"#container\\\"); return k.render(\\\"\\\\\\\\;\\\\\\\\;\\\",this.container)}));\\n    (WebIO.importBlock({\\\"data\\\":[{\\\"name\\\":null,\\\"type\\\":\\\"js\\\",\\\"url\\\":\\\"/assetserver/dd22ed1bf1896c2748f3fe616ce0b838adc895c1-katex.min.js\\\"},{\\\"name\\\":null,\\\"type\\\":\\\"css\\\",\\\"url\\\":\\\"/assetserver/46517a424aa5e6cffc1360d7e0848b601c584ee3-katex.min.css\\\"}],\\\"type\\\":\\\"async_block\\\"})).then((imports) => handler.apply(this, imports));\\n}\\n\")])], Dict{Symbol, Any}(:className => \"interact-widget\")), WebIO.Node{WebIO.DOM}(WebIO.DOM(:html, :div), Any[WebIO.Scope(WebIO.Node{WebIO.DOM}(WebIO.DOM(:html, :button), Any[\"run\"], Dict{Symbol, Any}(:attributes => Dict{Any, Any}(\"data-bind\" => \"click: function (){this.clicks(this.clicks()+1)}, css: {'is-loading' : loading}\"), :className => \"is-medium button is-primary\", :style => Dict{String, Any}())), Dict{String, Tuple{Observables.AbstractObservable, Union{Nothing, Bool}}}(\"loading\" => (Observable(false), nothing), \"clicks\" => (Observable(0), nothing)), Set{String}(), nothing, WebIO.Asset[WebIO.Asset(\"js\", \"knockout\", \"/home/dushya/.julia/packages/Knockout/HReiN/src/../assets/knockout.js\"), WebIO.Asset(\"js\", \"knockout_punches\", \"/home/dushya/.julia/packages/Knockout/HReiN/src/../assets/knockout_punches.js\"), WebIO.Asset(\"js\", nothing, \"/home/dushya/.julia/packages/InteractBase/LJXv3/src/../assets/all.js\"), WebIO.Asset(\"css\", nothing, \"/home/dushya/.julia/packages/InteractBase/LJXv3/src/../assets/style.css\"), WebIO.Asset(\"css\", nothing, \"/home/dushya/.julia/packages/Interact/PENUy/src/../assets/bulma_confined.min.css\")], Dict{Any, Any}(\"loading\" => Any[WebIO.JSString(\"(function (val){return (val!=this.model[\\\"loading\\\"]()) ? (this.valueFromJulia[\\\"loading\\\"]=true, this.model[\\\"loading\\\"](val)) : undefined})\")], \"clicks\" => Any[WebIO.JSString(\"(function (val){return (val!=this.model[\\\"clicks\\\"]()) ? (this.valueFromJulia[\\\"clicks\\\"]=true, this.model[\\\"clicks\\\"](val)) : undefined})\")]), WebIO.ConnectionPool(Channel{Any}(32), Set{WebIO.AbstractConnection}(), Base.GenericCondition{ReentrantLock}(Base.IntrusiveLinkedList{Task}(Task (runnable) @0x00007f6119785f50, Task (runnable) @0x00007f6119785f50), ReentrantLock(nothing, 0x00000000, 0x00, Base.GenericCondition{Base.Threads.SpinLock}(Base.IntrusiveLinkedList{Task}(nothing, nothing), Base.Threads.SpinLock(0)), (0, 0, 141733920768)))), WebIO.JSString[WebIO.JSString(\"function () {\\n    var handler = (function (ko, koPunches) {\\n    ko.punches.enableAll();\\n    ko.bindingHandlers.numericValue = {\\n        init: function(element, valueAccessor, allBindings, data, context) {\\n            var stringified = ko.observable(ko.unwrap(valueAccessor()));\\n            stringified.subscribe(function(value) {\\n                var val = parseFloat(value);\\n                if (!isNaN(val)) {\\n                    valueAccessor()(val);\\n                }\\n            });\\n            valueAccessor().subscribe(function(value) {\\n                var str = JSON.stringify(value);\\n                if ((str == \\\"0\\\") && ([\\\"-0\\\", \\\"-0.\\\"].indexOf(stringified()) >= 0))\\n                     return;\\n                 if ([\\\"null\\\", \\\"\\\"].indexOf(str) >= 0)\\n                     return;\\n                stringified(str);\\n            });\\n            ko.applyBindingsToNode(\\n                element,\\n                {\\n                    value: stringified,\\n                    valueUpdate: allBindings.get('valueUpdate'),\\n                },\\n                context,\\n            );\\n        }\\n    };\\n    var json_data = {\\\"loading\\\":WebIO.getval({\\\"name\\\":\\\"loading\\\",\\\"scope\\\":\\\"10859497460151017402\\\",\\\"id\\\":\\\"2308070748478877953\\\",\\\"type\\\":\\\"observable\\\"}),\\\"clicks\\\":WebIO.getval({\\\"name\\\":\\\"clicks\\\",\\\"scope\\\":\\\"10859497460151017402\\\",\\\"id\\\":\\\"12312449372174513258\\\",\\\"type\\\":\\\"observable\\\"})};\\n    var self = this;\\n    function AppViewModel() {\\n        for (var key in json_data) {\\n            var el = json_data[key];\\n            this[key] = Array.isArray(el) ? ko.observableArray(el) : ko.observable(el);\\n        }\\n        \\n        \\n        [this[\\\"loading\\\"].subscribe((function (val){!(this.valueFromJulia[\\\"loading\\\"]) ? (WebIO.setval({\\\"name\\\":\\\"loading\\\",\\\"scope\\\":\\\"10859497460151017402\\\",\\\"id\\\":\\\"2308070748478877953\\\",\\\"type\\\":\\\"observable\\\"},val)) : undefined; return this.valueFromJulia[\\\"loading\\\"]=false}),self),this[\\\"clicks\\\"].subscribe((function (val){!(this.valueFromJulia[\\\"clicks\\\"]) ? (WebIO.setval({\\\"name\\\":\\\"clicks\\\",\\\"scope\\\":\\\"10859497460151017402\\\",\\\"id\\\":\\\"12312449372174513258\\\",\\\"type\\\":\\\"observable\\\"},val)) : undefined; return this.valueFromJulia[\\\"clicks\\\"]=false}),self)]\\n        \\n    }\\n    self.model = new AppViewModel();\\n    self.valueFromJulia = {};\\n    for (var key in json_data) {\\n        self.valueFromJulia[key] = false;\\n    }\\n    ko.applyBindings(self.model, self.dom);\\n}\\n);\\n    (WebIO.importBlock({\\\"data\\\":[{\\\"name\\\":\\\"knockout\\\",\\\"type\\\":\\\"js\\\",\\\"url\\\":\\\"/assetserver/727383f2a47bd31570b7da84eee7b022dd6d7c78-knockout.js\\\"},{\\\"name\\\":\\\"knockout_punches\\\",\\\"type\\\":\\\"js\\\",\\\"url\\\":\\\"/assetserver/382b41b3b1bd9f26f75861d360bad7f8beea211f-knockout_punches.js\\\"}],\\\"type\\\":\\\"async_block\\\"})).then((imports) => handler.apply(this, imports));\\n}\\n\")])], Dict{Symbol, Any}(:className => \"field interact-widget\")), WebIO.Node{WebIO.DOM}(WebIO.DOM(:html, :div), Any[WebIO.Scope(WebIO.Node{WebIO.DOM}(WebIO.DOM(:html, :div), Any[], Dict{Symbol, Any}(:id => \"container\")), Dict{String, Tuple{Observables.AbstractObservable, Union{Nothing, Bool}}}(\"value\" => (Observable(\"\\\\;\\\\;\"), nothing)), Set{String}(), nothing, WebIO.Asset[WebIO.Asset(\"js\", nothing, \"/home/dushya/.julia/packages/InteractBase/LJXv3/src/../assets/katex.min.js\"), WebIO.Asset(\"css\", nothing, \"/home/dushya/.julia/packages/InteractBase/LJXv3/src/../assets/katex.min.css\")], Dict{Any, Any}(\"value\" => Any[WebIO.JSString(\"(function (txt){return this.k.render(txt,this.container)})\")]), WebIO.ConnectionPool(Channel{Any}(32), Set{WebIO.AbstractConnection}(), Base.GenericCondition{ReentrantLock}(Base.IntrusiveLinkedList{Task}(Task (runnable) @0x00007f6158b5d140, Task (runnable) @0x00007f6158b5d140), ReentrantLock(nothing, 0x00000000, 0x00, Base.GenericCondition{Base.Threads.SpinLock}(Base.IntrusiveLinkedList{Task}(nothing, nothing), Base.Threads.SpinLock(0)), (8, 0, 139779710648320)))), WebIO.JSString[WebIO.JSString(\"function () {\\n    var handler = ((function (k){this.k=k; this.container=this.dom.querySelector(\\\"#container\\\"); return k.render(\\\"\\\\\\\\;\\\\\\\\;\\\",this.container)}));\\n    (WebIO.importBlock({\\\"data\\\":[{\\\"name\\\":null,\\\"type\\\":\\\"js\\\",\\\"url\\\":\\\"/assetserver/dd22ed1bf1896c2748f3fe616ce0b838adc895c1-katex.min.js\\\"},{\\\"name\\\":null,\\\"type\\\":\\\"css\\\",\\\"url\\\":\\\"/assetserver/46517a424aa5e6cffc1360d7e0848b601c584ee3-katex.min.css\\\"}],\\\"type\\\":\\\"async_block\\\"})).then((imports) => handler.apply(this, imports));\\n}\\n\")])], Dict{Symbol, Any}(:className => \"interact-widget\")), WebIO.Node{WebIO.DOM}(WebIO.DOM(:html, :div), Any[WebIO.Scope(WebIO.Node{WebIO.DOM}(WebIO.DOM(:html, :button), Any[\"stop\"], Dict{Symbol, Any}(:attributes => Dict{Any, Any}(\"data-bind\" => \"click: function (){this.clicks(this.clicks()+1)}, css: {'is-loading' : loading}\"), :className => \"is-medium button is-primary\", :style => Dict{String, Any}())), Dict{String, Tuple{Observables.AbstractObservable, Union{Nothing, Bool}}}(\"loading\" => (Observable(false), nothing), \"clicks\" => (Observable(0), nothing)), Set{String}(), nothing, WebIO.Asset[WebIO.Asset(\"js\", \"knockout\", \"/home/dushya/.julia/packages/Knockout/HReiN/src/../assets/knockout.js\"), WebIO.Asset(\"js\", \"knockout_punches\", \"/home/dushya/.julia/packages/Knockout/HReiN/src/../assets/knockout_punches.js\"), WebIO.Asset(\"js\", nothing, \"/home/dushya/.julia/packages/InteractBase/LJXv3/src/../assets/all.js\"), WebIO.Asset(\"css\", nothing, \"/home/dushya/.julia/packages/InteractBase/LJXv3/src/../assets/style.css\"), WebIO.Asset(\"css\", nothing, \"/home/dushya/.julia/packages/Interact/PENUy/src/../assets/bulma_confined.min.css\")], Dict{Any, Any}(\"loading\" => Any[WebIO.JSString(\"(function (val){return (val!=this.model[\\\"loading\\\"]()) ? (this.valueFromJulia[\\\"loading\\\"]=true, this.model[\\\"loading\\\"](val)) : undefined})\")], \"clicks\" => Any[WebIO.JSString(\"(function (val){return (val!=this.model[\\\"clicks\\\"]()) ? (this.valueFromJulia[\\\"clicks\\\"]=true, this.model[\\\"clicks\\\"](val)) : undefined})\")]), WebIO.ConnectionPool(Channel{Any}(32), Set{WebIO.AbstractConnection}(), Base.GenericCondition{ReentrantLock}(Base.IntrusiveLinkedList{Task}(Task (runnable) @0x00007f611973c7e0, Task (runnable) @0x00007f611973c7e0), ReentrantLock(nothing, 0x00000000, 0x00, Base.GenericCondition{Base.Threads.SpinLock}(Base.IntrusiveLinkedList{Task}(nothing, nothing), Base.Threads.SpinLock(0)), (0, 0, 141733920768)))), WebIO.JSString[WebIO.JSString(\"function () {\\n    var handler = (function (ko, koPunches) {\\n    ko.punches.enableAll();\\n    ko.bindingHandlers.numericValue = {\\n        init: function(element, valueAccessor, allBindings, data, context) {\\n            var stringified = ko.observable(ko.unwrap(valueAccessor()));\\n            stringified.subscribe(function(value) {\\n                var val = parseFloat(value);\\n                if (!isNaN(val)) {\\n                    valueAccessor()(val);\\n                }\\n            });\\n            valueAccessor().subscribe(function(value) {\\n                var str = JSON.stringify(value);\\n                if ((str == \\\"0\\\") && ([\\\"-0\\\", \\\"-0.\\\"].indexOf(stringified()) >= 0))\\n                     return;\\n                 if ([\\\"null\\\", \\\"\\\"].indexOf(str) >= 0)\\n                     return;\\n                stringified(str);\\n            });\\n            ko.applyBindingsToNode(\\n                element,\\n                {\\n                    value: stringified,\\n                    valueUpdate: allBindings.get('valueUpdate'),\\n                },\\n                context,\\n            );\\n        }\\n    };\\n    var json_data = {\\\"loading\\\":WebIO.getval({\\\"name\\\":\\\"loading\\\",\\\"scope\\\":\\\"6647289324375373488\\\",\\\"id\\\":\\\"11400120026291106418\\\",\\\"type\\\":\\\"observable\\\"}),\\\"clicks\\\":WebIO.getval({\\\"name\\\":\\\"clicks\\\",\\\"scope\\\":\\\"6647289324375373488\\\",\\\"id\\\":\\\"4860482255306944175\\\",\\\"type\\\":\\\"observable\\\"})};\\n    var self = this;\\n    function AppViewModel() {\\n        for (var key in json_data) {\\n            var el = json_data[key];\\n            this[key] = Array.isArray(el) ? ko.observableArray(el) : ko.observable(el);\\n        }\\n        \\n        \\n        [this[\\\"loading\\\"].subscribe((function (val){!(this.valueFromJulia[\\\"loading\\\"]) ? (WebIO.setval({\\\"name\\\":\\\"loading\\\",\\\"scope\\\":\\\"6647289324375373488\\\",\\\"id\\\":\\\"11400120026291106418\\\",\\\"type\\\":\\\"observable\\\"},val)) : undefined; return this.valueFromJulia[\\\"loading\\\"]=false}),self),this[\\\"clicks\\\"].subscribe((function (val){!(this.valueFromJulia[\\\"clicks\\\"]) ? (WebIO.setval({\\\"name\\\":\\\"clicks\\\",\\\"scope\\\":\\\"6647289324375373488\\\",\\\"id\\\":\\\"4860482255306944175\\\",\\\"type\\\":\\\"observable\\\"},val)) : undefined; return this.valueFromJulia[\\\"clicks\\\"]=false}),self)]\\n        \\n    }\\n    self.model = new AppViewModel();\\n    self.valueFromJulia = {};\\n    for (var key in json_data) {\\n        self.valueFromJulia[key] = false;\\n    }\\n    ko.applyBindings(self.model, self.dom);\\n}\\n);\\n    (WebIO.importBlock({\\\"data\\\":[{\\\"name\\\":\\\"knockout\\\",\\\"type\\\":\\\"js\\\",\\\"url\\\":\\\"/assetserver/727383f2a47bd31570b7da84eee7b022dd6d7c78-knockout.js\\\"},{\\\"name\\\":\\\"knockout_punches\\\",\\\"type\\\":\\\"js\\\",\\\"url\\\":\\\"/assetserver/382b41b3b1bd9f26f75861d360bad7f8beea211f-knockout_punches.js\\\"}],\\\"type\\\":\\\"async_block\\\"})).then((imports) => handler.apply(this, imports));\\n}\\n\")])], Dict{Symbol, Any}(:className => \"field interact-widget\")), WebIO.Node{WebIO.DOM}(WebIO.DOM(:html, :div), Any[WebIO.Scope(WebIO.Node{WebIO.DOM}(WebIO.DOM(:html, :div), Any[], Dict{Symbol, Any}(:id => \"container\")), Dict{String, Tuple{Observables.AbstractObservable, Union{Nothing, Bool}}}(\"value\" => (Observable(\"\\\\;\\\\;\"), nothing)), Set{String}(), nothing, WebIO.Asset[WebIO.Asset(\"js\", nothing, \"/home/dushya/.julia/packages/InteractBase/LJXv3/src/../assets/katex.min.js\"), WebIO.Asset(\"css\", nothing, \"/home/dushya/.julia/packages/InteractBase/LJXv3/src/../assets/katex.min.css\")], Dict{Any, Any}(\"value\" => Any[WebIO.JSString(\"(function (txt){return this.k.render(txt,this.container)})\")]), WebIO.ConnectionPool(Channel{Any}(32), Set{WebIO.AbstractConnection}(), Base.GenericCondition{ReentrantLock}(Base.IntrusiveLinkedList{Task}(Task (runnable) @0x00007f6158b5d140, Task (runnable) @0x00007f6158b5d140), ReentrantLock(nothing, 0x00000000, 0x00, Base.GenericCondition{Base.Threads.SpinLock}(Base.IntrusiveLinkedList{Task}(nothing, nothing), Base.Threads.SpinLock(0)), (8, 0, 139779710648320)))), WebIO.JSString[WebIO.JSString(\"function () {\\n    var handler = ((function (k){this.k=k; this.container=this.dom.querySelector(\\\"#container\\\"); return k.render(\\\"\\\\\\\\;\\\\\\\\;\\\",this.container)}));\\n    (WebIO.importBlock({\\\"data\\\":[{\\\"name\\\":null,\\\"type\\\":\\\"js\\\",\\\"url\\\":\\\"/assetserver/dd22ed1bf1896c2748f3fe616ce0b838adc895c1-katex.min.js\\\"},{\\\"name\\\":null,\\\"type\\\":\\\"css\\\",\\\"url\\\":\\\"/assetserver/46517a424aa5e6cffc1360d7e0848b601c584ee3-katex.min.css\\\"}],\\\"type\\\":\\\"async_block\\\"})).then((imports) => handler.apply(this, imports));\\n}\\n\")])], Dict{Symbol, Any}(:className => \"interact-widget\")), WebIO.Node{WebIO.DOM}(WebIO.DOM(:html, :div), Any[WebIO.Scope(WebIO.Node{WebIO.DOM}(WebIO.DOM(:html, :button), Any[\"reset\"], Dict{Symbol, Any}(:attributes => Dict{Any, Any}(\"data-bind\" => \"click: function (){this.clicks(this.clicks()+1)}, css: {'is-loading' : loading}\"), :className => \"is-medium button is-primary\", :style => Dict{String, Any}())), Dict{String, Tuple{Observables.AbstractObservable, Union{Nothing, Bool}}}(\"loading\" => (Observable(false), nothing), \"clicks\" => (Observable(0), nothing)), Set{String}(), nothing, WebIO.Asset[WebIO.Asset(\"js\", \"knockout\", \"/home/dushya/.julia/packages/Knockout/HReiN/src/../assets/knockout.js\"), WebIO.Asset(\"js\", \"knockout_punches\", \"/home/dushya/.julia/packages/Knockout/HReiN/src/../assets/knockout_punches.js\"), WebIO.Asset(\"js\", nothing, \"/home/dushya/.julia/packages/InteractBase/LJXv3/src/../assets/all.js\"), WebIO.Asset(\"css\", nothing, \"/home/dushya/.julia/packages/InteractBase/LJXv3/src/../assets/style.css\"), WebIO.Asset(\"css\", nothing, \"/home/dushya/.julia/packages/Interact/PENUy/src/../assets/bulma_confined.min.css\")], Dict{Any, Any}(\"loading\" => Any[WebIO.JSString(\"(function (val){return (val!=this.model[\\\"loading\\\"]()) ? (this.valueFromJulia[\\\"loading\\\"]=true, this.model[\\\"loading\\\"](val)) : undefined})\")], \"clicks\" => Any[WebIO.JSString(\"(function (val){return (val!=this.model[\\\"clicks\\\"]()) ? (this.valueFromJulia[\\\"clicks\\\"]=true, this.model[\\\"clicks\\\"](val)) : undefined})\")]), WebIO.ConnectionPool(Channel{Any}(32), Set{WebIO.AbstractConnection}(), Base.GenericCondition{ReentrantLock}(Base.IntrusiveLinkedList{Task}(Task (runnable) @0x00007f611973eef0, Task (runnable) @0x00007f611973eef0), ReentrantLock(nothing, 0x00000000, 0x00, Base.GenericCondition{Base.Threads.SpinLock}(Base.IntrusiveLinkedList{Task}(nothing, nothing), Base.Threads.SpinLock(0)), (0, 0, 141733920768)))), WebIO.JSString[WebIO.JSString(\"function () {\\n    var handler = (function (ko, koPunches) {\\n    ko.punches.enableAll();\\n    ko.bindingHandlers.numericValue = {\\n        init: function(element, valueAccessor, allBindings, data, context) {\\n            var stringified = ko.observable(ko.unwrap(valueAccessor()));\\n            stringified.subscribe(function(value) {\\n                var val = parseFloat(value);\\n                if (!isNaN(val)) {\\n                    valueAccessor()(val);\\n                }\\n            });\\n            valueAccessor().subscribe(function(value) {\\n                var str = JSON.stringify(value);\\n                if ((str == \\\"0\\\") && ([\\\"-0\\\", \\\"-0.\\\"].indexOf(stringified()) >= 0))\\n                     return;\\n                 if ([\\\"null\\\", \\\"\\\"].indexOf(str) >= 0)\\n                     return;\\n                stringified(str);\\n            });\\n            ko.applyBindingsToNode(\\n                element,\\n                {\\n                    value: stringified,\\n                    valueUpdate: allBindings.get('valueUpdate'),\\n                },\\n                context,\\n            );\\n        }\\n    };\\n    var json_data = {\\\"loading\\\":WebIO.getval({\\\"name\\\":\\\"loading\\\",\\\"scope\\\":\\\"11437898253746383168\\\",\\\"id\\\":\\\"6456524123404938283\\\",\\\"type\\\":\\\"observable\\\"}),\\\"clicks\\\":WebIO.getval({\\\"name\\\":\\\"clicks\\\",\\\"scope\\\":\\\"11437898253746383168\\\",\\\"id\\\":\\\"2923892109202342807\\\",\\\"type\\\":\\\"observable\\\"})};\\n    var self = this;\\n    function AppViewModel() {\\n        for (var key in json_data) {\\n            var el = json_data[key];\\n            this[key] = Array.isArray(el) ? ko.observableArray(el) : ko.observable(el);\\n        }\\n        \\n        \\n        [this[\\\"loading\\\"].subscribe((function (val){!(this.valueFromJulia[\\\"loading\\\"]) ? (WebIO.setval({\\\"name\\\":\\\"loading\\\",\\\"scope\\\":\\\"11437898253746383168\\\",\\\"id\\\":\\\"6456524123404938283\\\",\\\"type\\\":\\\"observable\\\"},val)) : undefined; return this.valueFromJulia[\\\"loading\\\"]=false}),self),this[\\\"clicks\\\"].subscribe((function (val){!(this.valueFromJulia[\\\"clicks\\\"]) ? (WebIO.setval({\\\"name\\\":\\\"clicks\\\",\\\"scope\\\":\\\"11437898253746383168\\\",\\\"id\\\":\\\"2923892109202342807\\\",\\\"type\\\":\\\"observable\\\"},val)) : undefined; return this.valueFromJulia[\\\"clicks\\\"]=false}),self)]\\n        \\n    }\\n    self.model = new AppViewModel();\\n    self.valueFromJulia = {};\\n    for (var key in json_data) {\\n        self.valueFromJulia[key] = false;\\n    }\\n    ko.applyBindings(self.model, self.dom);\\n}\\n);\\n    (WebIO.importBlock({\\\"data\\\":[{\\\"name\\\":\\\"knockout\\\",\\\"type\\\":\\\"js\\\",\\\"url\\\":\\\"/assetserver/727383f2a47bd31570b7da84eee7b022dd6d7c78-knockout.js\\\"},{\\\"name\\\":\\\"knockout_punches\\\",\\\"type\\\":\\\"js\\\",\\\"url\\\":\\\"/assetserver/382b41b3b1bd9f26f75861d360bad7f8beea211f-knockout_punches.js\\\"}],\\\"type\\\":\\\"async_block\\\"})).then((imports) => handler.apply(this, imports));\\n}\\n\")])], Dict{Symbol, Any}(:className => \"field interact-widget\")), WebIO.Node{WebIO.DOM}(WebIO.DOM(:html, :div), Any[WebIO.Scope(WebIO.Node{WebIO.DOM}(WebIO.DOM(:html, :div), Any[], Dict{Symbol, Any}(:id => \"container\")), Dict{String, Tuple{Observables.AbstractObservable, Union{Nothing, Bool}}}(\"value\" => (Observable(\"\\\\;\\\\;\"), nothing)), Set{String}(), nothing, WebIO.Asset[WebIO.Asset(\"js\", nothing, \"/home/dushya/.julia/packages/InteractBase/LJXv3/src/../assets/katex.min.js\"), WebIO.Asset(\"css\", nothing, \"/home/dushya/.julia/packages/InteractBase/LJXv3/src/../assets/katex.min.css\")], Dict{Any, Any}(\"value\" => Any[WebIO.JSString(\"(function (txt){return this.k.render(txt,this.container)})\")]), WebIO.ConnectionPool(Channel{Any}(32), Set{WebIO.AbstractConnection}(), Base.GenericCondition{ReentrantLock}(Base.IntrusiveLinkedList{Task}(Task (runnable) @0x00007f6158b5d140, Task (runnable) @0x00007f6158b5d140), ReentrantLock(nothing, 0x00000000, 0x00, Base.GenericCondition{Base.Threads.SpinLock}(Base.IntrusiveLinkedList{Task}(nothing, nothing), Base.Threads.SpinLock(0)), (8, 0, 139779710648320)))), WebIO.JSString[WebIO.JSString(\"function () {\\n    var handler = ((function (k){this.k=k; this.container=this.dom.querySelector(\\\"#container\\\"); return k.render(\\\"\\\\\\\\;\\\\\\\\;\\\",this.container)}));\\n    (WebIO.importBlock({\\\"data\\\":[{\\\"name\\\":null,\\\"type\\\":\\\"js\\\",\\\"url\\\":\\\"/assetserver/dd22ed1bf1896c2748f3fe616ce0b838adc895c1-katex.min.js\\\"},{\\\"name\\\":null,\\\"type\\\":\\\"css\\\",\\\"url\\\":\\\"/assetserver/46517a424aa5e6cffc1360d7e0848b601c584ee3-katex.min.css\\\"}],\\\"type\\\":\\\"async_block\\\"})).then((imports) => handler.apply(this, imports));\\n}\\n\")])], Dict{Symbol, Any}(:className => \"interact-widget\")), WebIO.Node{WebIO.DOM}(WebIO.DOM(:html, :div), Any[WebIO.Scope(WebIO.Node{WebIO.DOM}(WebIO.DOM(:html, :button), Any[\"save\"], Dict{Symbol, Any}(:attributes => Dict{Any, Any}(\"data-bind\" => \"click: function (){this.clicks(this.clicks()+1)}, css: {'is-loading' : loading}\"), :className => \"is-medium button is-primary\", :style => Dict{String, Any}())), Dict{String, Tuple{Observables.AbstractObservable, Union{Nothing, Bool}}}(\"loading\" => (Observable(false), nothing), \"clicks\" => (Observable(0), nothing)), Set{String}(), nothing, WebIO.Asset[WebIO.Asset(\"js\", \"knockout\", \"/home/dushya/.julia/packages/Knockout/HReiN/src/../assets/knockout.js\"), WebIO.Asset(\"js\", \"knockout_punches\", \"/home/dushya/.julia/packages/Knockout/HReiN/src/../assets/knockout_punches.js\"), WebIO.Asset(\"js\", nothing, \"/home/dushya/.julia/packages/InteractBase/LJXv3/src/../assets/all.js\"), WebIO.Asset(\"css\", nothing, \"/home/dushya/.julia/packages/InteractBase/LJXv3/src/../assets/style.css\"), WebIO.Asset(\"css\", nothing, \"/home/dushya/.julia/packages/Interact/PENUy/src/../assets/bulma_confined.min.css\")], Dict{Any, Any}(\"loading\" => Any[WebIO.JSString(\"(function (val){return (val!=this.model[\\\"loading\\\"]()) ? (this.valueFromJulia[\\\"loading\\\"]=true, this.model[\\\"loading\\\"](val)) : undefined})\")], \"clicks\" => Any[WebIO.JSString(\"(function (val){return (val!=this.model[\\\"clicks\\\"]()) ? (this.valueFromJulia[\\\"clicks\\\"]=true, this.model[\\\"clicks\\\"](val)) : undefined})\")]), WebIO.ConnectionPool(Channel{Any}(32), Set{WebIO.AbstractConnection}(), Base.GenericCondition{ReentrantLock}(Base.IntrusiveLinkedList{Task}(Task (runnable) @0x00007f6119701780, Task (runnable) @0x00007f6119701780), ReentrantLock(nothing, 0x00000000, 0x00, Base.GenericCondition{Base.Threads.SpinLock}(Base.IntrusiveLinkedList{Task}(nothing, nothing), Base.Threads.SpinLock(0)), (0, 0, 141733920768)))), WebIO.JSString[WebIO.JSString(\"function () {\\n    var handler = (function (ko, koPunches) {\\n    ko.punches.enableAll();\\n    ko.bindingHandlers.numericValue = {\\n        init: function(element, valueAccessor, allBindings, data, context) {\\n            var stringified = ko.observable(ko.unwrap(valueAccessor()));\\n            stringified.subscribe(function(value) {\\n                var val = parseFloat(value);\\n                if (!isNaN(val)) {\\n                    valueAccessor()(val);\\n                }\\n            });\\n            valueAccessor().subscribe(function(value) {\\n                var str = JSON.stringify(value);\\n                if ((str == \\\"0\\\") && ([\\\"-0\\\", \\\"-0.\\\"].indexOf(stringified()) >= 0))\\n                     return;\\n                 if ([\\\"null\\\", \\\"\\\"].indexOf(str) >= 0)\\n                     return;\\n                stringified(str);\\n            });\\n            ko.applyBindingsToNode(\\n                element,\\n                {\\n                    value: stringified,\\n                    valueUpdate: allBindings.get('valueUpdate'),\\n                },\\n                context,\\n            );\\n        }\\n    };\\n    var json_data = {\\\"loading\\\":WebIO.getval({\\\"name\\\":\\\"loading\\\",\\\"scope\\\":\\\"5929907572315025974\\\",\\\"id\\\":\\\"2136405971495001128\\\",\\\"type\\\":\\\"observable\\\"}),\\\"clicks\\\":WebIO.getval({\\\"name\\\":\\\"clicks\\\",\\\"scope\\\":\\\"5929907572315025974\\\",\\\"id\\\":\\\"17463230361477590191\\\",\\\"type\\\":\\\"observable\\\"})};\\n    var self = this;\\n    function AppViewModel() {\\n        for (var key in json_data) {\\n            var el = json_data[key];\\n            this[key] = Array.isArray(el) ? ko.observableArray(el) : ko.observable(el);\\n        }\\n        \\n        \\n        [this[\\\"loading\\\"].subscribe((function (val){!(this.valueFromJulia[\\\"loading\\\"]) ? (WebIO.setval({\\\"name\\\":\\\"loading\\\",\\\"scope\\\":\\\"5929907572315025974\\\",\\\"id\\\":\\\"2136405971495001128\\\",\\\"type\\\":\\\"observable\\\"},val)) : undefined; return this.valueFromJulia[\\\"loading\\\"]=false}),self),this[\\\"clicks\\\"].subscribe((function (val){!(this.valueFromJulia[\\\"clicks\\\"]) ? (WebIO.setval({\\\"name\\\":\\\"clicks\\\",\\\"scope\\\":\\\"5929907572315025974\\\",\\\"id\\\":\\\"17463230361477590191\\\",\\\"type\\\":\\\"observable\\\"},val)) : undefined; return this.valueFromJulia[\\\"clicks\\\"]=false}),self)]\\n        \\n    }\\n    self.model = new AppViewModel();\\n    self.valueFromJulia = {};\\n    for (var key in json_data) {\\n        self.valueFromJulia[key] = false;\\n    }\\n    ko.applyBindings(self.model, self.dom);\\n}\\n);\\n    (WebIO.importBlock({\\\"data\\\":[{\\\"name\\\":\\\"knockout\\\",\\\"type\\\":\\\"js\\\",\\\"url\\\":\\\"/assetserver/727383f2a47bd31570b7da84eee7b022dd6d7c78-knockout.js\\\"},{\\\"name\\\":\\\"knockout_punches\\\",\\\"type\\\":\\\"js\\\",\\\"url\\\":\\\"/assetserver/382b41b3b1bd9f26f75861d360bad7f8beea211f-knockout_punches.js\\\"}],\\\"type\\\":\\\"async_block\\\"})).then((imports) => handler.apply(this, imports));\\n}\\n\")])], Dict{Symbol, Any}(:className => \"field interact-widget\"))], Dict{Symbol, Any}(:style => Dict(\"display\" => \"flex\", \"flex-direction\" => \"row\")))], Dict{Symbol, Any}(:style => Dict(\"display\" => \"flex\", \"flex-direction\" => \"column\"))), WebIO.Node{WebIO.DOM}(WebIO.DOM(:html, :div), Any[WebIO.Scope(WebIO.Node{WebIO.DOM}(WebIO.DOM(:html, :div), Any[], Dict{Symbol, Any}(:id => \"container\")), Dict{String, Tuple{Observables.AbstractObservable, Union{Nothing, Bool}}}(\"value\" => (Observable(\"\\\\;\\\\;\"), nothing)), Set{String}(), nothing, WebIO.Asset[WebIO.Asset(\"js\", nothing, \"/home/dushya/.julia/packages/InteractBase/LJXv3/src/../assets/katex.min.js\"), WebIO.Asset(\"css\", nothing, \"/home/dushya/.julia/packages/InteractBase/LJXv3/src/../assets/katex.min.css\")], Dict{Any, Any}(\"value\" => Any[WebIO.JSString(\"(function (txt){return this.k.render(txt,this.container)})\")]), WebIO.ConnectionPool(Channel{Any}(32), Set{WebIO.AbstractConnection}(), Base.GenericCondition{ReentrantLock}(Base.IntrusiveLinkedList{Task}(Task (runnable) @0x00007f6158b5d140, Task (runnable) @0x00007f6158b5d140), ReentrantLock(nothing, 0x00000000, 0x00, Base.GenericCondition{Base.Threads.SpinLock}(Base.IntrusiveLinkedList{Task}(nothing, nothing), Base.Threads.SpinLock(0)), (8, 0, 139779710648320)))), WebIO.JSString[WebIO.JSString(\"function () {\\n    var handler = ((function (k){this.k=k; this.container=this.dom.querySelector(\\\"#container\\\"); return k.render(\\\"\\\\\\\\;\\\\\\\\;\\\",this.container)}));\\n    (WebIO.importBlock({\\\"data\\\":[{\\\"name\\\":null,\\\"type\\\":\\\"js\\\",\\\"url\\\":\\\"/assetserver/dd22ed1bf1896c2748f3fe616ce0b838adc895c1-katex.min.js\\\"},{\\\"name\\\":null,\\\"type\\\":\\\"css\\\",\\\"url\\\":\\\"/assetserver/46517a424aa5e6cffc1360d7e0848b601c584ee3-katex.min.css\\\"}],\\\"type\\\":\\\"async_block\\\"})).then((imports) => handler.apply(this, imports));\\n}\\n\")])], Dict{Symbol, Any}(:className => \"interact-widget\")), Observable(Luxor.Drawing(430.0, 430.0, \"\", Cairo.CairoSurfaceBase{UInt32}(Ptr{Nothing} @0x0000000000000000, 430.0, 430.0), Cairo.CairoContext(Ptr{Nothing} @0x00000000023a6850, Cairo.CairoSurfaceBase{UInt32}(Ptr{Nothing} @0x0000000000000000, 430.0, 430.0), Ptr{Nothing} @0x00000000040efe20), :png, 0.0, 0.0, 0.0, 1.0, IOBuffer(data=UInt8[...], readable=true, writable=true, seekable=true, append=false, size=10326, maxsize=Inf, ptr=10327, mark=-1), UInt8[0x89, 0x50, 0x4e, 0x47, 0x0d, 0x0a, 0x1a, 0x0a, 0x00, 0x00  …  0x00, 0x00, 0x49, 0x45, 0x4e, 0x44, 0xae, 0x42, 0x60, 0x82], false)), WebIO.Node{WebIO.DOM}(WebIO.DOM(:html, :div), Any[WebIO.Scope(WebIO.Node{WebIO.DOM}(WebIO.DOM(:html, :div), Any[], Dict{Symbol, Any}(:id => \"container\")), Dict{String, Tuple{Observables.AbstractObservable, Union{Nothing, Bool}}}(\"value\" => (Observable(\"\\\\;\\\\;\"), nothing)), Set{String}(), nothing, WebIO.Asset[WebIO.Asset(\"js\", nothing, \"/home/dushya/.julia/packages/InteractBase/LJXv3/src/../assets/katex.min.js\"), WebIO.Asset(\"css\", nothing, \"/home/dushya/.julia/packages/InteractBase/LJXv3/src/../assets/katex.min.css\")], Dict{Any, Any}(\"value\" => Any[WebIO.JSString(\"(function (txt){return this.k.render(txt,this.container)})\")]), WebIO.ConnectionPool(Channel{Any}(32), Set{WebIO.AbstractConnection}(), Base.GenericCondition{ReentrantLock}(Base.IntrusiveLinkedList{Task}(Task (runnable) @0x00007f6158b5d140, Task (runnable) @0x00007f6158b5d140), ReentrantLock(nothing, 0x00000000, 0x00, Base.GenericCondition{Base.Threads.SpinLock}(Base.IntrusiveLinkedList{Task}(nothing, nothing), Base.Threads.SpinLock(0)), (8, 0, 139779710648320)))), WebIO.JSString[WebIO.JSString(\"function () {\\n    var handler = ((function (k){this.k=k; this.container=this.dom.querySelector(\\\"#container\\\"); return k.render(\\\"\\\\\\\\;\\\\\\\\;\\\",this.container)}));\\n    (WebIO.importBlock({\\\"data\\\":[{\\\"name\\\":null,\\\"type\\\":\\\"js\\\",\\\"url\\\":\\\"/assetserver/dd22ed1bf1896c2748f3fe616ce0b838adc895c1-katex.min.js\\\"},{\\\"name\\\":null,\\\"type\\\":\\\"css\\\",\\\"url\\\":\\\"/assetserver/46517a424aa5e6cffc1360d7e0848b601c584ee3-katex.min.css\\\"}],\\\"type\\\":\\\"async_block\\\"})).then((imports) => handler.apply(this, imports));\\n}\\n\")])], Dict{Symbol, Any}(:className => \"interact-widget\")), WebIO.Node{WebIO.DOM}(WebIO.DOM(:html, :div), Any[], Dict{Symbol, Any}(:style => Dict(\"display\" => \"flex\", \"flex-direction\" => \"column\")))], Dict{Symbol, Any}(:style => Dict(\"display\" => \"flex\", \"flex-direction\" => \"row\")))], Dict{Symbol, Any}(:style => Dict(\"display\" => \"flex\", \"flex-direction\" => \"column\")))"
      ]
     },
     "execution_count": 9,
     "metadata": {
      "application/vnd.webio.node+json": {
       "kernelId": "df4f3bfa-f9b3-495e-af47-b543821fd1ae"
      }
     },
     "output_type": "execute_result"
    }
   ],
   "source": [
    "create_interactive_app(model, initialiser= initialiser!,\n",
    "    props_to_record = Dict(\"patches\" => Set([:color])),\n",
    "    step_rule= step_rule!,\n",
    "    model_controls=[(:threshold, \"slider\", 1:8)], \n",
    "    frames=400, show_patches=true)"
   ]
  },
  {
   "cell_type": "markdown",
   "metadata": {},
   "source": [
    "## Step 5: Fetch Data \n",
    "\n",
    "It is easy to fetch any recorded data after running the model. For example, the numbers of different colored patches at all timesteps can be got as follows"
   ]
  },
  {
   "cell_type": "code",
   "execution_count": 10,
   "metadata": {},
   "outputs": [
    {
     "data": {
      "image/png": "[encoded data removed]",
      "image/svg+xml": [
       "<?xml version=\"1.0\" encoding=\"utf-8\"?>\n",
       "<svg xmlns=\"http://www.w3.org/2000/svg\" xmlns:xlink=\"http://www.w3.org/1999/xlink\" width=\"600\" height=\"400\" viewBox=\"0 0 2400 1600\">\n",
       "<defs>\n",
       "  <clipPath id=\"clip920\">\n",
       "    <rect x=\"0\" y=\"0\" width=\"2400\" height=\"1600\"/>\n",
       "  </clipPath>\n",
       "</defs>\n",
       "<path clip-path=\"url(#clip920)\" d=\"M0 1600 L2400 1600 L2400 0 L0 0  Z\" fill=\"#ffffff\" fill-rule=\"evenodd\" fill-opacity=\"1\"/>\n",
       "<defs>\n",
       "  <clipPath id=\"clip921\">\n",
       "    <rect x=\"480\" y=\"0\" width=\"1681\" height=\"1600\"/>\n",
       "  </clipPath>\n",
       "</defs>\n",
       "<path clip-path=\"url(#clip920)\" d=\"M234.612 1423.18 L2352.76 1423.18 L2352.76 47.2441 L234.612 47.2441  Z\" fill=\"#ffffff\" fill-rule=\"evenodd\" fill-opacity=\"1\"/>\n",
       "<defs>\n",
       "  <clipPath id=\"clip922\">\n",
       "    <rect x=\"234\" y=\"47\" width=\"2119\" height=\"1377\"/>\n",
       "  </clipPath>\n",
       "</defs>\n",
       "<polyline clip-path=\"url(#clip922)\" style=\"stroke:#000000; stroke-linecap:round; stroke-linejoin:round; stroke-width:2; stroke-opacity:0.1; fill:none\" points=\"289.563,1423.18 289.563,47.2441 \"/>\n",
       "<polyline clip-path=\"url(#clip922)\" style=\"stroke:#000000; stroke-linecap:round; stroke-linejoin:round; stroke-width:2; stroke-opacity:0.1; fill:none\" points=\"789.126,1423.18 789.126,47.2441 \"/>\n",
       "<polyline clip-path=\"url(#clip922)\" style=\"stroke:#000000; stroke-linecap:round; stroke-linejoin:round; stroke-width:2; stroke-opacity:0.1; fill:none\" points=\"1288.69,1423.18 1288.69,47.2441 \"/>\n",
       "<polyline clip-path=\"url(#clip922)\" style=\"stroke:#000000; stroke-linecap:round; stroke-linejoin:round; stroke-width:2; stroke-opacity:0.1; fill:none\" points=\"1788.25,1423.18 1788.25,47.2441 \"/>\n",
       "<polyline clip-path=\"url(#clip922)\" style=\"stroke:#000000; stroke-linecap:round; stroke-linejoin:round; stroke-width:2; stroke-opacity:0.1; fill:none\" points=\"2287.81,1423.18 2287.81,47.2441 \"/>\n",
       "<polyline clip-path=\"url(#clip920)\" style=\"stroke:#000000; stroke-linecap:round; stroke-linejoin:round; stroke-width:4; stroke-opacity:1; fill:none\" points=\"234.612,1423.18 2352.76,1423.18 \"/>\n",
       "<polyline clip-path=\"url(#clip920)\" style=\"stroke:#000000; stroke-linecap:round; stroke-linejoin:round; stroke-width:4; stroke-opacity:1; fill:none\" points=\"289.563,1423.18 289.563,1404.28 \"/>\n",
       "<polyline clip-path=\"url(#clip920)\" style=\"stroke:#000000; stroke-linecap:round; stroke-linejoin:round; stroke-width:4; stroke-opacity:1; fill:none\" points=\"789.126,1423.18 789.126,1404.28 \"/>\n",
       "<polyline clip-path=\"url(#clip920)\" style=\"stroke:#000000; stroke-linecap:round; stroke-linejoin:round; stroke-width:4; stroke-opacity:1; fill:none\" points=\"1288.69,1423.18 1288.69,1404.28 \"/>\n",
       "<polyline clip-path=\"url(#clip920)\" style=\"stroke:#000000; stroke-linecap:round; stroke-linejoin:round; stroke-width:4; stroke-opacity:1; fill:none\" points=\"1788.25,1423.18 1788.25,1404.28 \"/>\n",
       "<polyline clip-path=\"url(#clip920)\" style=\"stroke:#000000; stroke-linecap:round; stroke-linejoin:round; stroke-width:4; stroke-opacity:1; fill:none\" points=\"2287.81,1423.18 2287.81,1404.28 \"/>\n",
       "<path clip-path=\"url(#clip920)\" d=\"M289.563 1454.1 Q285.952 1454.1 284.124 1457.66 Q282.318 1461.2 282.318 1468.33 Q282.318 1475.44 284.124 1479.01 Q285.952 1482.55 289.563 1482.55 Q293.198 1482.55 295.003 1479.01 Q296.832 1475.44 296.832 1468.33 Q296.832 1461.2 295.003 1457.66 Q293.198 1454.1 289.563 1454.1 M289.563 1450.39 Q295.374 1450.39 298.429 1455 Q301.508 1459.58 301.508 1468.33 Q301.508 1477.06 298.429 1481.67 Q295.374 1486.25 289.563 1486.25 Q283.753 1486.25 280.675 1481.67 Q277.619 1477.06 277.619 1468.33 Q277.619 1459.58 280.675 1455 Q283.753 1450.39 289.563 1450.39 Z\" fill=\"#000000\" fill-rule=\"nonzero\" fill-opacity=\"1\" /><path clip-path=\"url(#clip920)\" d=\"M748.732 1481.64 L756.371 1481.64 L756.371 1455.28 L748.061 1456.95 L748.061 1452.69 L756.325 1451.02 L761.001 1451.02 L761.001 1481.64 L768.64 1481.64 L768.64 1485.58 L748.732 1485.58 L748.732 1481.64 Z\" fill=\"#000000\" fill-rule=\"nonzero\" fill-opacity=\"1\" /><path clip-path=\"url(#clip920)\" d=\"M788.084 1454.1 Q784.473 1454.1 782.644 1457.66 Q780.839 1461.2 780.839 1468.33 Q780.839 1475.44 782.644 1479.01 Q784.473 1482.55 788.084 1482.55 Q791.718 1482.55 793.524 1479.01 Q795.353 1475.44 795.353 1468.33 Q795.353 1461.2 793.524 1457.66 Q791.718 1454.1 788.084 1454.1 M788.084 1450.39 Q793.894 1450.39 796.95 1455 Q800.028 1459.58 800.028 1468.33 Q800.028 1477.06 796.95 1481.67 Q793.894 1486.25 788.084 1486.25 Q782.274 1486.25 779.195 1481.67 Q776.14 1477.06 776.14 1468.33 Q776.14 1459.58 779.195 1455 Q782.274 1450.39 788.084 1450.39 Z\" fill=\"#000000\" fill-rule=\"nonzero\" fill-opacity=\"1\" /><path clip-path=\"url(#clip920)\" d=\"M818.246 1454.1 Q814.635 1454.1 812.806 1457.66 Q811.001 1461.2 811.001 1468.33 Q811.001 1475.44 812.806 1479.01 Q814.635 1482.55 818.246 1482.55 Q821.88 1482.55 823.686 1479.01 Q825.514 1475.44 825.514 1468.33 Q825.514 1461.2 823.686 1457.66 Q821.88 1454.1 818.246 1454.1 M818.246 1450.39 Q824.056 1450.39 827.112 1455 Q830.19 1459.58 830.19 1468.33 Q830.19 1477.06 827.112 1481.67 Q824.056 1486.25 818.246 1486.25 Q812.436 1486.25 809.357 1481.67 Q806.302 1477.06 806.302 1468.33 Q806.302 1459.58 809.357 1455 Q812.436 1450.39 818.246 1450.39 Z\" fill=\"#000000\" fill-rule=\"nonzero\" fill-opacity=\"1\" /><path clip-path=\"url(#clip920)\" d=\"M1252.38 1481.64 L1268.7 1481.64 L1268.7 1485.58 L1246.76 1485.58 L1246.76 1481.64 Q1249.42 1478.89 1254 1474.26 Q1258.61 1469.61 1259.79 1468.27 Q1262.03 1465.74 1262.91 1464.01 Q1263.82 1462.25 1263.82 1460.56 Q1263.82 1457.8 1261.87 1456.07 Q1259.95 1454.33 1256.85 1454.33 Q1254.65 1454.33 1252.2 1455.09 Q1249.76 1455.86 1246.99 1457.41 L1246.99 1452.69 Q1249.81 1451.55 1252.26 1450.97 Q1254.72 1450.39 1256.76 1450.39 Q1262.13 1450.39 1265.32 1453.08 Q1268.51 1455.77 1268.51 1460.26 Q1268.51 1462.39 1267.7 1464.31 Q1266.92 1466.2 1264.81 1468.8 Q1264.23 1469.47 1261.13 1472.69 Q1258.03 1475.88 1252.38 1481.64 Z\" fill=\"#000000\" fill-rule=\"nonzero\" fill-opacity=\"1\" /><path clip-path=\"url(#clip920)\" d=\"M1288.51 1454.1 Q1284.9 1454.1 1283.07 1457.66 Q1281.27 1461.2 1281.27 1468.33 Q1281.27 1475.44 1283.07 1479.01 Q1284.9 1482.55 1288.51 1482.55 Q1292.15 1482.55 1293.95 1479.01 Q1295.78 1475.44 1295.78 1468.33 Q1295.78 1461.2 1293.95 1457.66 Q1292.15 1454.1 1288.51 1454.1 M1288.51 1450.39 Q1294.32 1450.39 1297.38 1455 Q1300.46 1459.58 1300.46 1468.33 Q1300.46 1477.06 1297.38 1481.67 Q1294.32 1486.25 1288.51 1486.25 Q1282.7 1486.25 1279.63 1481.67 Q1276.57 1477.06 1276.57 1468.33 Q1276.57 1459.58 1279.63 1455 Q1282.7 1450.39 1288.51 1450.39 Z\" fill=\"#000000\" fill-rule=\"nonzero\" fill-opacity=\"1\" /><path clip-path=\"url(#clip920)\" d=\"M1318.68 1454.1 Q1315.07 1454.1 1313.24 1457.66 Q1311.43 1461.2 1311.43 1468.33 Q1311.43 1475.44 1313.24 1479.01 Q1315.07 1482.55 1318.68 1482.55 Q1322.31 1482.55 1324.12 1479.01 Q1325.94 1475.44 1325.94 1468.33 Q1325.94 1461.2 1324.12 1457.66 Q1322.31 1454.1 1318.68 1454.1 M1318.68 1450.39 Q1324.49 1450.39 1327.54 1455 Q1330.62 1459.58 1330.62 1468.33 Q1330.62 1477.06 1327.54 1481.67 Q1324.49 1486.25 1318.68 1486.25 Q1312.87 1486.25 1309.79 1481.67 Q1306.73 1477.06 1306.73 1468.33 Q1306.73 1459.58 1309.79 1455 Q1312.87 1450.39 1318.68 1450.39 Z\" fill=\"#000000\" fill-rule=\"nonzero\" fill-opacity=\"1\" /><path clip-path=\"url(#clip920)\" d=\"M1762.01 1466.95 Q1765.37 1467.66 1767.24 1469.93 Q1769.14 1472.2 1769.14 1475.53 Q1769.14 1480.65 1765.62 1483.45 Q1762.1 1486.25 1755.62 1486.25 Q1753.45 1486.25 1751.13 1485.81 Q1748.84 1485.39 1746.39 1484.54 L1746.39 1480.02 Q1748.33 1481.16 1750.65 1481.74 Q1752.96 1482.32 1755.48 1482.32 Q1759.88 1482.32 1762.17 1480.58 Q1764.49 1478.84 1764.49 1475.53 Q1764.49 1472.48 1762.34 1470.77 Q1760.21 1469.03 1756.39 1469.03 L1752.36 1469.03 L1752.36 1465.19 L1756.57 1465.19 Q1760.02 1465.19 1761.85 1463.82 Q1763.68 1462.43 1763.68 1459.84 Q1763.68 1457.18 1761.78 1455.77 Q1759.91 1454.33 1756.39 1454.33 Q1754.47 1454.33 1752.27 1454.75 Q1750.07 1455.16 1747.43 1456.04 L1747.43 1451.88 Q1750.09 1451.14 1752.41 1450.77 Q1754.74 1450.39 1756.8 1450.39 Q1762.13 1450.39 1765.23 1452.83 Q1768.33 1455.23 1768.33 1459.35 Q1768.33 1462.22 1766.69 1464.21 Q1765.04 1466.18 1762.01 1466.95 Z\" fill=\"#000000\" fill-rule=\"nonzero\" fill-opacity=\"1\" /><path clip-path=\"url(#clip920)\" d=\"M1788.01 1454.1 Q1784.4 1454.1 1782.57 1457.66 Q1780.76 1461.2 1780.76 1468.33 Q1780.76 1475.44 1782.57 1479.01 Q1784.4 1482.55 1788.01 1482.55 Q1791.64 1482.55 1793.45 1479.01 Q1795.28 1475.44 1795.28 1468.33 Q1795.28 1461.2 1793.45 1457.66 Q1791.64 1454.1 1788.01 1454.1 M1788.01 1450.39 Q1793.82 1450.39 1796.87 1455 Q1799.95 1459.58 1799.95 1468.33 Q1799.95 1477.06 1796.87 1481.67 Q1793.82 1486.25 1788.01 1486.25 Q1782.2 1486.25 1779.12 1481.67 Q1776.06 1477.06 1776.06 1468.33 Q1776.06 1459.58 1779.12 1455 Q1782.2 1450.39 1788.01 1450.39 Z\" fill=\"#000000\" fill-rule=\"nonzero\" fill-opacity=\"1\" /><path clip-path=\"url(#clip920)\" d=\"M1818.17 1454.1 Q1814.56 1454.1 1812.73 1457.66 Q1810.92 1461.2 1810.92 1468.33 Q1810.92 1475.44 1812.73 1479.01 Q1814.56 1482.55 1818.17 1482.55 Q1821.8 1482.55 1823.61 1479.01 Q1825.44 1475.44 1825.44 1468.33 Q1825.44 1461.2 1823.61 1457.66 Q1821.8 1454.1 1818.17 1454.1 M1818.17 1450.39 Q1823.98 1450.39 1827.03 1455 Q1830.11 1459.58 1830.11 1468.33 Q1830.11 1477.06 1827.03 1481.67 Q1823.98 1486.25 1818.17 1486.25 Q1812.36 1486.25 1809.28 1481.67 Q1806.22 1477.06 1806.22 1468.33 Q1806.22 1459.58 1809.28 1455 Q1812.36 1450.39 1818.17 1450.39 Z\" fill=\"#000000\" fill-rule=\"nonzero\" fill-opacity=\"1\" /><path clip-path=\"url(#clip920)\" d=\"M2260.9 1455.09 L2249.1 1473.54 L2260.9 1473.54 L2260.9 1455.09 M2259.68 1451.02 L2265.56 1451.02 L2265.56 1473.54 L2270.49 1473.54 L2270.49 1477.43 L2265.56 1477.43 L2265.56 1485.58 L2260.9 1485.58 L2260.9 1477.43 L2245.3 1477.43 L2245.3 1472.92 L2259.68 1451.02 Z\" fill=\"#000000\" fill-rule=\"nonzero\" fill-opacity=\"1\" /><path clip-path=\"url(#clip920)\" d=\"M2288.22 1454.1 Q2284.61 1454.1 2282.78 1457.66 Q2280.97 1461.2 2280.97 1468.33 Q2280.97 1475.44 2282.78 1479.01 Q2284.61 1482.55 2288.22 1482.55 Q2291.85 1482.55 2293.66 1479.01 Q2295.49 1475.44 2295.49 1468.33 Q2295.49 1461.2 2293.66 1457.66 Q2291.85 1454.1 2288.22 1454.1 M2288.22 1450.39 Q2294.03 1450.39 2297.08 1455 Q2300.16 1459.58 2300.16 1468.33 Q2300.16 1477.06 2297.08 1481.67 Q2294.03 1486.25 2288.22 1486.25 Q2282.41 1486.25 2279.33 1481.67 Q2276.27 1477.06 2276.27 1468.33 Q2276.27 1459.58 2279.33 1455 Q2282.41 1450.39 2288.22 1450.39 Z\" fill=\"#000000\" fill-rule=\"nonzero\" fill-opacity=\"1\" /><path clip-path=\"url(#clip920)\" d=\"M2318.38 1454.1 Q2314.77 1454.1 2312.94 1457.66 Q2311.13 1461.2 2311.13 1468.33 Q2311.13 1475.44 2312.94 1479.01 Q2314.77 1482.55 2318.38 1482.55 Q2322.01 1482.55 2323.82 1479.01 Q2325.65 1475.44 2325.65 1468.33 Q2325.65 1461.2 2323.82 1457.66 Q2322.01 1454.1 2318.38 1454.1 M2318.38 1450.39 Q2324.19 1450.39 2327.25 1455 Q2330.32 1459.58 2330.32 1468.33 Q2330.32 1477.06 2327.25 1481.67 Q2324.19 1486.25 2318.38 1486.25 Q2312.57 1486.25 2309.49 1481.67 Q2306.44 1477.06 2306.44 1468.33 Q2306.44 1459.58 2309.49 1455 Q2312.57 1450.39 2318.38 1450.39 Z\" fill=\"#000000\" fill-rule=\"nonzero\" fill-opacity=\"1\" /><path clip-path=\"url(#clip920)\" d=\"M1230.73 1522.27 L1230.73 1532.4 L1242.79 1532.4 L1242.79 1536.95 L1230.73 1536.95 L1230.73 1556.3 Q1230.73 1560.66 1231.9 1561.9 Q1233.11 1563.14 1236.77 1563.14 L1242.79 1563.14 L1242.79 1568.04 L1236.77 1568.04 Q1229.99 1568.04 1227.42 1565.53 Q1224.84 1562.98 1224.84 1556.3 L1224.84 1536.95 L1220.54 1536.95 L1220.54 1532.4 L1224.84 1532.4 L1224.84 1522.27 L1230.73 1522.27 Z\" fill=\"#000000\" fill-rule=\"nonzero\" fill-opacity=\"1\" /><path clip-path=\"url(#clip920)\" d=\"M1250.49 1532.4 L1256.35 1532.4 L1256.35 1568.04 L1250.49 1568.04 L1250.49 1532.4 M1250.49 1518.52 L1256.35 1518.52 L1256.35 1525.93 L1250.49 1525.93 L1250.49 1518.52 Z\" fill=\"#000000\" fill-rule=\"nonzero\" fill-opacity=\"1\" /><path clip-path=\"url(#clip920)\" d=\"M1294.26 1533.76 L1294.26 1539.24 Q1291.77 1537.87 1289.26 1537.2 Q1286.78 1536.5 1284.23 1536.5 Q1278.53 1536.5 1275.38 1540.13 Q1272.23 1543.73 1272.23 1550.25 Q1272.23 1556.78 1275.38 1560.4 Q1278.53 1564 1284.23 1564 Q1286.78 1564 1289.26 1563.33 Q1291.77 1562.63 1294.26 1561.26 L1294.26 1566.68 Q1291.81 1567.82 1289.16 1568.39 Q1286.55 1568.97 1283.59 1568.97 Q1275.54 1568.97 1270.8 1563.91 Q1266.06 1558.85 1266.06 1550.25 Q1266.06 1541.53 1270.83 1536.53 Q1275.64 1531.54 1283.98 1531.54 Q1286.68 1531.54 1289.26 1532.11 Q1291.84 1532.65 1294.26 1533.76 Z\" fill=\"#000000\" fill-rule=\"nonzero\" fill-opacity=\"1\" /><path clip-path=\"url(#clip920)\" d=\"M1304.22 1518.52 L1310.11 1518.52 L1310.11 1547.77 L1327.58 1532.4 L1335.06 1532.4 L1316.15 1549.07 L1335.86 1568.04 L1328.22 1568.04 L1310.11 1550.63 L1310.11 1568.04 L1304.22 1568.04 L1304.22 1518.52 Z\" fill=\"#000000\" fill-rule=\"nonzero\" fill-opacity=\"1\" /><path clip-path=\"url(#clip920)\" d=\"M1364.92 1533.45 L1364.92 1538.98 Q1362.43 1537.71 1359.76 1537.07 Q1357.09 1536.44 1354.22 1536.44 Q1349.86 1536.44 1347.66 1537.77 Q1345.5 1539.11 1345.5 1541.79 Q1345.5 1543.82 1347.06 1545 Q1348.62 1546.15 1353.33 1547.2 L1355.34 1547.64 Q1361.57 1548.98 1364.18 1551.43 Q1366.83 1553.85 1366.83 1558.21 Q1366.83 1563.17 1362.88 1566.07 Q1358.96 1568.97 1352.09 1568.97 Q1349.22 1568.97 1346.11 1568.39 Q1343.02 1567.85 1339.58 1566.74 L1339.58 1560.69 Q1342.83 1562.38 1345.98 1563.24 Q1349.13 1564.07 1352.22 1564.07 Q1356.35 1564.07 1358.58 1562.66 Q1360.81 1561.23 1360.81 1558.65 Q1360.81 1556.27 1359.19 1554.99 Q1357.6 1553.72 1352.15 1552.54 L1350.12 1552.07 Q1344.67 1550.92 1342.25 1548.56 Q1339.84 1546.18 1339.84 1542.04 Q1339.84 1537.01 1343.4 1534.27 Q1346.96 1531.54 1353.52 1531.54 Q1356.77 1531.54 1359.63 1532.01 Q1362.5 1532.49 1364.92 1533.45 Z\" fill=\"#000000\" fill-rule=\"nonzero\" fill-opacity=\"1\" /><polyline clip-path=\"url(#clip922)\" style=\"stroke:#000000; stroke-linecap:round; stroke-linejoin:round; stroke-width:2; stroke-opacity:0.1; fill:none\" points=\"234.612,1348.77 2352.76,1348.77 \"/>\n",
       "<polyline clip-path=\"url(#clip922)\" style=\"stroke:#000000; stroke-linecap:round; stroke-linejoin:round; stroke-width:2; stroke-opacity:0.1; fill:none\" points=\"234.612,994.113 2352.76,994.113 \"/>\n",
       "<polyline clip-path=\"url(#clip922)\" style=\"stroke:#000000; stroke-linecap:round; stroke-linejoin:round; stroke-width:2; stroke-opacity:0.1; fill:none\" points=\"234.612,639.454 2352.76,639.454 \"/>\n",
       "<polyline clip-path=\"url(#clip922)\" style=\"stroke:#000000; stroke-linecap:round; stroke-linejoin:round; stroke-width:2; stroke-opacity:0.1; fill:none\" points=\"234.612,284.795 2352.76,284.795 \"/>\n",
       "<polyline clip-path=\"url(#clip920)\" style=\"stroke:#000000; stroke-linecap:round; stroke-linejoin:round; stroke-width:4; stroke-opacity:1; fill:none\" points=\"234.612,1423.18 234.612,47.2441 \"/>\n",
       "<polyline clip-path=\"url(#clip920)\" style=\"stroke:#000000; stroke-linecap:round; stroke-linejoin:round; stroke-width:4; stroke-opacity:1; fill:none\" points=\"234.612,1348.77 253.509,1348.77 \"/>\n",
       "<polyline clip-path=\"url(#clip920)\" style=\"stroke:#000000; stroke-linecap:round; stroke-linejoin:round; stroke-width:4; stroke-opacity:1; fill:none\" points=\"234.612,994.113 253.509,994.113 \"/>\n",
       "<polyline clip-path=\"url(#clip920)\" style=\"stroke:#000000; stroke-linecap:round; stroke-linejoin:round; stroke-width:4; stroke-opacity:1; fill:none\" points=\"234.612,639.454 253.509,639.454 \"/>\n",
       "<polyline clip-path=\"url(#clip920)\" style=\"stroke:#000000; stroke-linecap:round; stroke-linejoin:round; stroke-width:4; stroke-opacity:1; fill:none\" points=\"234.612,284.795 253.509,284.795 \"/>\n",
       "<path clip-path=\"url(#clip920)\" d=\"M115.163 1331.49 L137.385 1331.49 L137.385 1333.48 L124.839 1366.05 L119.955 1366.05 L131.76 1335.43 L115.163 1335.43 L115.163 1331.49 Z\" fill=\"#000000\" fill-rule=\"nonzero\" fill-opacity=\"1\" /><path clip-path=\"url(#clip920)\" d=\"M146.552 1331.49 L164.908 1331.49 L164.908 1335.43 L150.834 1335.43 L150.834 1343.9 Q151.853 1343.55 152.871 1343.39 Q153.89 1343.21 154.908 1343.21 Q160.695 1343.21 164.075 1346.38 Q167.454 1349.55 167.454 1354.96 Q167.454 1360.54 163.982 1363.64 Q160.51 1366.72 154.19 1366.72 Q152.015 1366.72 149.746 1366.35 Q147.501 1365.98 145.093 1365.24 L145.093 1360.54 Q147.177 1361.68 149.399 1362.23 Q151.621 1362.79 154.098 1362.79 Q158.103 1362.79 160.44 1360.68 Q162.778 1358.58 162.778 1354.96 Q162.778 1351.35 160.44 1349.25 Q158.103 1347.14 154.098 1347.14 Q152.223 1347.14 150.348 1347.56 Q148.496 1347.97 146.552 1348.85 L146.552 1331.49 Z\" fill=\"#000000\" fill-rule=\"nonzero\" fill-opacity=\"1\" /><path clip-path=\"url(#clip920)\" d=\"M186.667 1334.57 Q183.056 1334.57 181.227 1338.14 Q179.422 1341.68 179.422 1348.81 Q179.422 1355.91 181.227 1359.48 Q183.056 1363.02 186.667 1363.02 Q190.301 1363.02 192.107 1359.48 Q193.936 1355.91 193.936 1348.81 Q193.936 1341.68 192.107 1338.14 Q190.301 1334.57 186.667 1334.57 M186.667 1330.87 Q192.477 1330.87 195.533 1335.47 Q198.612 1340.06 198.612 1348.81 Q198.612 1357.53 195.533 1362.14 Q192.477 1366.72 186.667 1366.72 Q180.857 1366.72 177.778 1362.14 Q174.723 1357.53 174.723 1348.81 Q174.723 1340.06 177.778 1335.47 Q180.857 1330.87 186.667 1330.87 Z\" fill=\"#000000\" fill-rule=\"nonzero\" fill-opacity=\"1\" /><path clip-path=\"url(#clip920)\" d=\"M126.343 994.981 Q123.01 994.981 121.089 996.764 Q119.191 998.546 119.191 1001.67 Q119.191 1004.8 121.089 1006.58 Q123.01 1008.36 126.343 1008.36 Q129.677 1008.36 131.598 1006.58 Q133.519 1004.77 133.519 1001.67 Q133.519 998.546 131.598 996.764 Q129.7 994.981 126.343 994.981 M121.668 992.99 Q118.658 992.25 116.968 990.19 Q115.302 988.129 115.302 985.166 Q115.302 981.023 118.242 978.616 Q121.205 976.208 126.343 976.208 Q131.505 976.208 134.445 978.616 Q137.385 981.023 137.385 985.166 Q137.385 988.129 135.695 990.19 Q134.029 992.25 131.042 992.99 Q134.422 993.778 136.297 996.069 Q138.195 998.361 138.195 1001.67 Q138.195 1006.69 135.117 1009.38 Q132.061 1012.06 126.343 1012.06 Q120.626 1012.06 117.547 1009.38 Q114.492 1006.69 114.492 1001.67 Q114.492 998.361 116.39 996.069 Q118.288 993.778 121.668 992.99 M119.955 985.606 Q119.955 988.291 121.621 989.796 Q123.311 991.301 126.343 991.301 Q129.353 991.301 131.042 989.796 Q132.755 988.291 132.755 985.606 Q132.755 982.921 131.042 981.416 Q129.353 979.912 126.343 979.912 Q123.311 979.912 121.621 981.416 Q119.955 982.921 119.955 985.606 Z\" fill=\"#000000\" fill-rule=\"nonzero\" fill-opacity=\"1\" /><path clip-path=\"url(#clip920)\" d=\"M156.505 979.912 Q152.894 979.912 151.066 983.477 Q149.26 987.018 149.26 994.148 Q149.26 1001.25 151.066 1004.82 Q152.894 1008.36 156.505 1008.36 Q160.14 1008.36 161.945 1004.82 Q163.774 1001.25 163.774 994.148 Q163.774 987.018 161.945 983.477 Q160.14 979.912 156.505 979.912 M156.505 976.208 Q162.315 976.208 165.371 980.815 Q168.45 985.398 168.45 994.148 Q168.45 1002.87 165.371 1007.48 Q162.315 1012.06 156.505 1012.06 Q150.695 1012.06 147.616 1007.48 Q144.561 1002.87 144.561 994.148 Q144.561 985.398 147.616 980.815 Q150.695 976.208 156.505 976.208 Z\" fill=\"#000000\" fill-rule=\"nonzero\" fill-opacity=\"1\" /><path clip-path=\"url(#clip920)\" d=\"M186.667 979.912 Q183.056 979.912 181.227 983.477 Q179.422 987.018 179.422 994.148 Q179.422 1001.25 181.227 1004.82 Q183.056 1008.36 186.667 1008.36 Q190.301 1008.36 192.107 1004.82 Q193.936 1001.25 193.936 994.148 Q193.936 987.018 192.107 983.477 Q190.301 979.912 186.667 979.912 M186.667 976.208 Q192.477 976.208 195.533 980.815 Q198.612 985.398 198.612 994.148 Q198.612 1002.87 195.533 1007.48 Q192.477 1012.06 186.667 1012.06 Q180.857 1012.06 177.778 1007.48 Q174.723 1002.87 174.723 994.148 Q174.723 985.398 177.778 980.815 Q180.857 976.208 186.667 976.208 Z\" fill=\"#000000\" fill-rule=\"nonzero\" fill-opacity=\"1\" /><path clip-path=\"url(#clip920)\" d=\"M126.343 640.322 Q123.01 640.322 121.089 642.104 Q119.191 643.887 119.191 647.012 Q119.191 650.137 121.089 651.919 Q123.01 653.702 126.343 653.702 Q129.677 653.702 131.598 651.919 Q133.519 650.114 133.519 647.012 Q133.519 643.887 131.598 642.104 Q129.7 640.322 126.343 640.322 M121.668 638.331 Q118.658 637.591 116.968 635.53 Q115.302 633.47 115.302 630.507 Q115.302 626.364 118.242 623.956 Q121.205 621.549 126.343 621.549 Q131.505 621.549 134.445 623.956 Q137.385 626.364 137.385 630.507 Q137.385 633.47 135.695 635.53 Q134.029 637.591 131.042 638.331 Q134.422 639.118 136.297 641.41 Q138.195 643.702 138.195 647.012 Q138.195 652.035 135.117 654.72 Q132.061 657.405 126.343 657.405 Q120.626 657.405 117.547 654.72 Q114.492 652.035 114.492 647.012 Q114.492 643.702 116.39 641.41 Q118.288 639.118 121.668 638.331 M119.955 630.947 Q119.955 633.632 121.621 635.137 Q123.311 636.642 126.343 636.642 Q129.353 636.642 131.042 635.137 Q132.755 633.632 132.755 630.947 Q132.755 628.262 131.042 626.757 Q129.353 625.253 126.343 625.253 Q123.311 625.253 121.621 626.757 Q119.955 628.262 119.955 630.947 Z\" fill=\"#000000\" fill-rule=\"nonzero\" fill-opacity=\"1\" /><path clip-path=\"url(#clip920)\" d=\"M146.552 622.174 L164.908 622.174 L164.908 626.109 L150.834 626.109 L150.834 634.581 Q151.853 634.234 152.871 634.072 Q153.89 633.887 154.908 633.887 Q160.695 633.887 164.075 637.058 Q167.454 640.229 167.454 645.646 Q167.454 651.225 163.982 654.327 Q160.51 657.405 154.19 657.405 Q152.015 657.405 149.746 657.035 Q147.501 656.665 145.093 655.924 L145.093 651.225 Q147.177 652.359 149.399 652.915 Q151.621 653.47 154.098 653.47 Q158.103 653.47 160.44 651.364 Q162.778 649.257 162.778 645.646 Q162.778 642.035 160.44 639.929 Q158.103 637.822 154.098 637.822 Q152.223 637.822 150.348 638.239 Q148.496 638.655 146.552 639.535 L146.552 622.174 Z\" fill=\"#000000\" fill-rule=\"nonzero\" fill-opacity=\"1\" /><path clip-path=\"url(#clip920)\" d=\"M186.667 625.253 Q183.056 625.253 181.227 628.817 Q179.422 632.359 179.422 639.489 Q179.422 646.595 181.227 650.16 Q183.056 653.702 186.667 653.702 Q190.301 653.702 192.107 650.16 Q193.936 646.595 193.936 639.489 Q193.936 632.359 192.107 628.817 Q190.301 625.253 186.667 625.253 M186.667 621.549 Q192.477 621.549 195.533 626.155 Q198.612 630.739 198.612 639.489 Q198.612 648.216 195.533 652.822 Q192.477 657.405 186.667 657.405 Q180.857 657.405 177.778 652.822 Q174.723 648.216 174.723 639.489 Q174.723 630.739 177.778 626.155 Q180.857 621.549 186.667 621.549 Z\" fill=\"#000000\" fill-rule=\"nonzero\" fill-opacity=\"1\" /><path clip-path=\"url(#clip920)\" d=\"M116.482 301.357 L116.482 297.098 Q118.242 297.931 120.047 298.371 Q121.853 298.811 123.589 298.811 Q128.218 298.811 130.649 295.709 Q133.103 292.584 133.45 286.242 Q132.107 288.232 130.047 289.297 Q127.987 290.362 125.487 290.362 Q120.302 290.362 117.269 287.237 Q114.26 284.089 114.26 278.649 Q114.26 273.325 117.408 270.107 Q120.556 266.89 125.788 266.89 Q131.783 266.89 134.931 271.496 Q138.103 276.08 138.103 284.83 Q138.103 293.001 134.214 297.885 Q130.348 302.746 123.797 302.746 Q122.038 302.746 120.232 302.399 Q118.427 302.052 116.482 301.357 M125.788 286.705 Q128.936 286.705 130.765 284.552 Q132.617 282.399 132.617 278.649 Q132.617 274.922 130.765 272.769 Q128.936 270.593 125.788 270.593 Q122.64 270.593 120.788 272.769 Q118.959 274.922 118.959 278.649 Q118.959 282.399 120.788 284.552 Q122.64 286.705 125.788 286.705 Z\" fill=\"#000000\" fill-rule=\"nonzero\" fill-opacity=\"1\" /><path clip-path=\"url(#clip920)\" d=\"M156.505 270.593 Q152.894 270.593 151.066 274.158 Q149.26 277.7 149.26 284.83 Q149.26 291.936 151.066 295.501 Q152.894 299.042 156.505 299.042 Q160.14 299.042 161.945 295.501 Q163.774 291.936 163.774 284.83 Q163.774 277.7 161.945 274.158 Q160.14 270.593 156.505 270.593 M156.505 266.89 Q162.315 266.89 165.371 271.496 Q168.45 276.08 168.45 284.83 Q168.45 293.556 165.371 298.163 Q162.315 302.746 156.505 302.746 Q150.695 302.746 147.616 298.163 Q144.561 293.556 144.561 284.83 Q144.561 276.08 147.616 271.496 Q150.695 266.89 156.505 266.89 Z\" fill=\"#000000\" fill-rule=\"nonzero\" fill-opacity=\"1\" /><path clip-path=\"url(#clip920)\" d=\"M186.667 270.593 Q183.056 270.593 181.227 274.158 Q179.422 277.7 179.422 284.83 Q179.422 291.936 181.227 295.501 Q183.056 299.042 186.667 299.042 Q190.301 299.042 192.107 295.501 Q193.936 291.936 193.936 284.83 Q193.936 277.7 192.107 274.158 Q190.301 270.593 186.667 270.593 M186.667 266.89 Q192.477 266.89 195.533 271.496 Q198.612 276.08 198.612 284.83 Q198.612 293.556 195.533 298.163 Q192.477 302.746 186.667 302.746 Q180.857 302.746 177.778 298.163 Q174.723 293.556 174.723 284.83 Q174.723 276.08 177.778 271.496 Q180.857 266.89 186.667 266.89 Z\" fill=\"#000000\" fill-rule=\"nonzero\" fill-opacity=\"1\" /><path clip-path=\"url(#clip920)\" d=\"M42.4881 1009.19 L64.0042 1009.19 L64.0042 1015.05 L42.679 1015.05 Q37.6183 1015.05 35.1038 1017.02 Q32.5894 1019 32.5894 1022.94 Q32.5894 1027.68 35.6131 1030.42 Q38.6368 1033.16 43.8567 1033.16 L64.0042 1033.16 L64.0042 1039.05 L28.3562 1039.05 L28.3562 1033.16 L33.8944 1033.16 Q30.6797 1031.06 29.0883 1028.23 Q27.4968 1025.36 27.4968 1021.64 Q27.4968 1015.49 31.3163 1012.34 Q35.1038 1009.19 42.4881 1009.19 Z\" fill=\"#000000\" fill-rule=\"nonzero\" fill-opacity=\"1\" /><path clip-path=\"url(#clip920)\" d=\"M49.9359 998.116 L28.3562 998.116 L28.3562 992.259 L49.7131 992.259 Q54.7739 992.259 57.3202 990.286 Q59.8346 988.312 59.8346 984.366 Q59.8346 979.623 56.8109 976.886 Q53.7872 974.117 48.5673 974.117 L28.3562 974.117 L28.3562 968.26 L64.0042 968.26 L64.0042 974.117 L58.5296 974.117 Q61.7762 976.249 63.3676 979.082 Q64.9272 981.883 64.9272 985.607 Q64.9272 991.75 61.1078 994.933 Q57.2883 998.116 49.9359 998.116 M27.4968 983.379 L27.4968 983.379 Z\" fill=\"#000000\" fill-rule=\"nonzero\" fill-opacity=\"1\" /><path clip-path=\"url(#clip920)\" d=\"M35.1993 928.443 Q31.2526 926.247 29.3747 923.191 Q27.4968 920.136 27.4968 915.998 Q27.4968 910.428 31.4117 907.404 Q35.2948 904.381 42.4881 904.381 L64.0042 904.381 L64.0042 910.269 L42.679 910.269 Q37.5546 910.269 35.072 912.083 Q32.5894 913.897 32.5894 917.621 Q32.5894 922.173 35.6131 924.815 Q38.6368 927.456 43.8567 927.456 L64.0042 927.456 L64.0042 933.345 L42.679 933.345 Q37.5228 933.345 35.072 935.159 Q32.5894 936.973 32.5894 940.761 Q32.5894 945.248 35.6449 947.89 Q38.6686 950.532 43.8567 950.532 L64.0042 950.532 L64.0042 956.42 L28.3562 956.42 L28.3562 950.532 L33.8944 950.532 Q30.616 948.527 29.0564 945.726 Q27.4968 942.925 27.4968 939.074 Q27.4968 935.191 29.4702 932.485 Q31.4436 929.748 35.1993 928.443 Z\" fill=\"#000000\" fill-rule=\"nonzero\" fill-opacity=\"1\" /><path clip-path=\"url(#clip920)\" d=\"M46.212 867.109 Q39.7508 867.109 36.0905 869.783 Q32.3984 872.425 32.3984 877.072 Q32.3984 881.719 36.0905 884.392 Q39.7508 887.034 46.212 887.034 Q52.6732 887.034 56.3653 884.392 Q60.0256 881.719 60.0256 877.072 Q60.0256 872.425 56.3653 869.783 Q52.6732 867.109 46.212 867.109 M33.7671 887.034 Q30.5842 885.188 29.0564 882.387 Q27.4968 879.554 27.4968 875.639 Q27.4968 869.146 32.6531 865.104 Q37.8093 861.03 46.212 861.03 Q54.6147 861.03 59.771 865.104 Q64.9272 869.146 64.9272 875.639 Q64.9272 879.554 63.3994 882.387 Q61.8398 885.188 58.657 887.034 L64.0042 887.034 L64.0042 892.922 L14.479 892.922 L14.479 887.034 L33.7671 887.034 Z\" fill=\"#000000\" fill-rule=\"nonzero\" fill-opacity=\"1\" /><path clip-path=\"url(#clip920)\" d=\"M44.7161 820.831 L47.5806 820.831 L47.5806 847.758 Q53.6281 847.376 56.8109 844.129 Q59.9619 840.851 59.9619 835.026 Q59.9619 831.652 59.1344 828.501 Q58.3069 825.319 56.6518 822.199 L62.1899 822.199 Q63.5267 825.35 64.227 828.661 Q64.9272 831.971 64.9272 835.376 Q64.9272 843.906 59.9619 848.903 Q54.9967 853.869 46.5303 853.869 Q37.7774 853.869 32.6531 849.158 Q27.4968 844.416 27.4968 836.395 Q27.4968 829.202 32.1438 825.032 Q36.7589 820.831 44.7161 820.831 M42.9973 826.687 Q38.1912 826.751 35.3266 829.393 Q32.4621 832.003 32.4621 836.331 Q32.4621 841.233 35.2312 844.193 Q38.0002 847.121 43.0292 847.567 L42.9973 826.687 Z\" fill=\"#000000\" fill-rule=\"nonzero\" fill-opacity=\"1\" /><path clip-path=\"url(#clip920)\" d=\"M33.8307 790.562 Q33.2578 791.548 33.0032 792.726 Q32.7167 793.872 32.7167 795.272 Q32.7167 800.238 35.9632 802.911 Q39.1779 805.553 45.2253 805.553 L64.0042 805.553 L64.0042 811.441 L28.3562 811.441 L28.3562 805.553 L33.8944 805.553 Q30.6479 803.707 29.0883 800.747 Q27.4968 797.787 27.4968 793.554 Q27.4968 792.949 27.5923 792.217 Q27.656 791.485 27.8151 790.594 L33.8307 790.562 Z\" fill=\"#000000\" fill-rule=\"nonzero\" fill-opacity=\"1\" /><path clip-path=\"url(#clip920)\" d=\"M32.4621 749.885 Q32.4621 754.596 36.1542 757.333 Q39.8145 760.07 46.212 760.07 Q52.6095 760.07 56.3017 757.365 Q59.9619 754.627 59.9619 749.885 Q59.9619 745.206 56.2698 742.469 Q52.5777 739.732 46.212 739.732 Q39.8781 739.732 36.186 742.469 Q32.4621 745.206 32.4621 749.885 M27.4968 749.885 Q27.4968 742.246 32.4621 737.886 Q37.4273 733.525 46.212 733.525 Q54.9649 733.525 59.9619 737.886 Q64.9272 742.246 64.9272 749.885 Q64.9272 757.556 59.9619 761.916 Q54.9649 766.245 46.212 766.245 Q37.4273 766.245 32.4621 761.916 Q27.4968 757.556 27.4968 749.885 Z\" fill=\"#000000\" fill-rule=\"nonzero\" fill-opacity=\"1\" /><path clip-path=\"url(#clip920)\" d=\"M14.479 705.771 L19.3487 705.771 L19.3487 711.372 Q19.3487 714.523 20.6219 715.765 Q21.895 716.974 25.2052 716.974 L28.3562 716.974 L28.3562 707.33 L32.9077 707.33 L32.9077 716.974 L64.0042 716.974 L64.0042 722.862 L32.9077 722.862 L32.9077 728.464 L28.3562 728.464 L28.3562 722.862 L25.8736 722.862 Q19.9216 722.862 17.2162 720.093 Q14.479 717.324 14.479 711.309 L14.479 705.771 Z\" fill=\"#000000\" fill-rule=\"nonzero\" fill-opacity=\"1\" /><path clip-path=\"url(#clip920)\" d=\"M58.657 674.483 L77.5631 674.483 L77.5631 680.371 L28.3562 680.371 L28.3562 674.483 L33.7671 674.483 Q30.5842 672.637 29.0564 669.836 Q27.4968 667.003 27.4968 663.089 Q27.4968 656.595 32.6531 652.553 Q37.8093 648.479 46.212 648.479 Q54.6147 648.479 59.771 652.553 Q64.9272 656.595 64.9272 663.089 Q64.9272 667.003 63.3994 669.836 Q61.8398 672.637 58.657 674.483 M46.212 654.558 Q39.7508 654.558 36.0905 657.232 Q32.3984 659.874 32.3984 664.521 Q32.3984 669.168 36.0905 671.841 Q39.7508 674.483 46.212 674.483 Q52.6732 674.483 56.3653 671.841 Q60.0256 669.168 60.0256 664.521 Q60.0256 659.874 56.3653 657.232 Q52.6732 654.558 46.212 654.558 Z\" fill=\"#000000\" fill-rule=\"nonzero\" fill-opacity=\"1\" /><path clip-path=\"url(#clip920)\" d=\"M46.0847 622.571 Q46.0847 629.669 47.7079 632.406 Q49.3312 635.143 53.2461 635.143 Q56.3653 635.143 58.2114 633.106 Q60.0256 631.037 60.0256 627.504 Q60.0256 622.634 56.5881 619.706 Q53.1188 616.746 47.3897 616.746 L46.0847 616.746 L46.0847 622.571 M43.6657 610.89 L64.0042 610.89 L64.0042 616.746 L58.5933 616.746 Q61.8398 618.751 63.3994 621.743 Q64.9272 624.735 64.9272 629.064 Q64.9272 634.538 61.8716 637.785 Q58.7843 641 53.6281 641 Q47.6125 641 44.5569 636.989 Q41.5014 632.947 41.5014 624.958 L41.5014 616.746 L40.9285 616.746 Q36.8862 616.746 34.6901 619.42 Q32.4621 622.062 32.4621 626.868 Q32.4621 629.923 33.1941 632.82 Q33.9262 635.716 35.3903 638.39 L29.9795 638.39 Q28.7381 635.175 28.1334 632.151 Q27.4968 629.127 27.4968 626.263 Q27.4968 618.529 31.5072 614.709 Q35.5176 610.89 43.6657 610.89 Z\" fill=\"#000000\" fill-rule=\"nonzero\" fill-opacity=\"1\" /><path clip-path=\"url(#clip920)\" d=\"M18.2347 593.034 L28.3562 593.034 L28.3562 580.971 L32.9077 580.971 L32.9077 593.034 L52.2594 593.034 Q56.6199 593.034 57.8613 591.856 Q59.1026 590.647 59.1026 586.986 L59.1026 580.971 L64.0042 580.971 L64.0042 586.986 Q64.0042 593.766 61.4897 596.344 Q58.9434 598.922 52.2594 598.922 L32.9077 598.922 L32.9077 603.219 L28.3562 603.219 L28.3562 598.922 L18.2347 598.922 L18.2347 593.034 Z\" fill=\"#000000\" fill-rule=\"nonzero\" fill-opacity=\"1\" /><path clip-path=\"url(#clip920)\" d=\"M29.7248 547.615 L35.1993 547.615 Q33.8307 550.097 33.1623 552.612 Q32.4621 555.094 32.4621 557.641 Q32.4621 563.338 36.0905 566.489 Q39.6872 569.64 46.212 569.64 Q52.7369 569.64 56.3653 566.489 Q59.9619 563.338 59.9619 557.641 Q59.9619 555.094 59.2935 552.612 Q58.5933 550.097 57.2247 547.615 L62.6355 547.615 Q63.7814 550.065 64.3543 552.707 Q64.9272 555.317 64.9272 558.277 Q64.9272 566.33 59.8664 571.072 Q54.8057 575.815 46.212 575.815 Q37.491 575.815 32.4939 571.04 Q27.4968 566.234 27.4968 557.895 Q27.4968 555.19 28.0697 552.612 Q28.6108 550.034 29.7248 547.615 Z\" fill=\"#000000\" fill-rule=\"nonzero\" fill-opacity=\"1\" /><path clip-path=\"url(#clip920)\" d=\"M42.4881 507.797 L64.0042 507.797 L64.0042 513.654 L42.679 513.654 Q37.6183 513.654 35.1038 515.627 Q32.5894 517.6 32.5894 521.547 Q32.5894 526.289 35.6131 529.027 Q38.6368 531.764 43.8567 531.764 L64.0042 531.764 L64.0042 537.652 L14.479 537.652 L14.479 531.764 L33.8944 531.764 Q30.6797 529.663 29.0883 526.831 Q27.4968 523.966 27.4968 520.242 Q27.4968 514.099 31.3163 510.948 Q35.1038 507.797 42.4881 507.797 Z\" fill=\"#000000\" fill-rule=\"nonzero\" fill-opacity=\"1\" /><path clip-path=\"url(#clip920)\" d=\"M44.7161 465.624 L47.5806 465.624 L47.5806 492.551 Q53.6281 492.169 56.8109 488.923 Q59.9619 485.644 59.9619 479.82 Q59.9619 476.446 59.1344 473.295 Q58.3069 470.112 56.6518 466.993 L62.1899 466.993 Q63.5267 470.144 64.227 473.454 Q64.9272 476.764 64.9272 480.17 Q64.9272 488.7 59.9619 493.697 Q54.9967 498.662 46.5303 498.662 Q37.7774 498.662 32.6531 493.952 Q27.4968 489.209 27.4968 481.188 Q27.4968 473.995 32.1438 469.826 Q36.7589 465.624 44.7161 465.624 M42.9973 471.481 Q38.1912 471.544 35.3266 474.186 Q32.4621 476.796 32.4621 481.125 Q32.4621 486.026 35.2312 488.986 Q38.0002 491.915 43.0292 492.36 L42.9973 471.481 Z\" fill=\"#000000\" fill-rule=\"nonzero\" fill-opacity=\"1\" /><path clip-path=\"url(#clip920)\" d=\"M29.4065 433.287 L34.9447 433.287 Q33.6716 435.769 33.035 438.443 Q32.3984 441.116 32.3984 443.981 Q32.3984 448.341 33.7352 450.538 Q35.072 452.702 37.7456 452.702 Q39.7826 452.702 40.9603 451.142 Q42.1061 449.583 43.1565 444.872 L43.6021 442.867 Q44.9389 436.628 47.3897 434.019 Q49.8086 431.377 54.1691 431.377 Q59.1344 431.377 62.0308 435.324 Q64.9272 439.238 64.9272 446.113 Q64.9272 448.978 64.3543 452.097 Q63.8132 455.185 62.6992 458.622 L56.6518 458.622 Q58.3387 455.376 59.198 452.224 Q60.0256 449.073 60.0256 445.986 Q60.0256 441.848 58.6251 439.62 Q57.1929 437.392 54.6147 437.392 Q52.2276 437.392 50.9545 439.016 Q49.6813 440.607 48.5037 446.05 L48.0262 448.087 Q46.8804 453.529 44.5251 455.948 Q42.138 458.367 38.0002 458.367 Q32.9713 458.367 30.2341 454.803 Q27.4968 451.238 27.4968 444.681 Q27.4968 441.435 27.9743 438.57 Q28.4517 435.705 29.4065 433.287 Z\" fill=\"#000000\" fill-rule=\"nonzero\" fill-opacity=\"1\" /><polyline clip-path=\"url(#clip922)\" style=\"stroke:#009af9; stroke-linecap:round; stroke-linejoin:round; stroke-width:4; stroke-opacity:1; fill:none\" points=\"294.559,547.243 299.555,462.124 304.55,384.099 309.546,334.447 314.542,270.608 319.537,298.981 324.533,263.515 329.528,220.956 334.524,213.863 339.52,199.677 344.515,157.118 349.511,164.211 354.507,178.397 359.502,185.49 364.498,199.677 369.493,185.49 374.489,178.397 379.485,157.118 384.48,157.118 389.476,128.745 394.472,128.745 399.467,142.931 404.463,142.931 409.458,142.931 414.454,142.931 419.45,142.931 424.445,135.838 429.441,135.838 434.436,128.745 439.432,128.745 444.428,128.745 449.423,121.652 454.419,114.558 459.415,107.465 464.41,107.465 469.406,93.2789 474.401,93.2789 479.397,93.2789 484.393,93.2789 489.388,93.2789 494.384,93.2789 499.38,93.2789 504.375,93.2789 509.371,93.2789 514.366,93.2789 519.362,93.2789 524.358,86.1857 529.353,86.1857 534.349,86.1857 539.345,86.1857 544.34,86.1857 549.336,86.1857 554.331,86.1857 559.327,86.1857 564.323,86.1857 569.318,86.1857 574.314,86.1857 579.31,86.1857 584.305,86.1857 589.301,86.1857 594.296,86.1857 599.292,86.1857 604.288,86.1857 609.283,86.1857 614.279,86.1857 619.275,86.1857 624.27,86.1857 629.266,86.1857 634.261,86.1857 639.257,86.1857 644.253,86.1857 649.248,86.1857 654.244,86.1857 659.24,86.1857 664.235,86.1857 669.231,86.1857 674.226,86.1857 679.222,86.1857 684.218,86.1857 689.213,86.1857 694.209,86.1857 699.205,86.1857 704.2,86.1857 709.196,86.1857 714.191,86.1857 719.187,86.1857 724.183,86.1857 729.178,86.1857 734.174,86.1857 739.17,86.1857 744.165,86.1857 749.161,86.1857 754.156,86.1857 759.152,86.1857 764.148,86.1857 769.143,86.1857 774.139,86.1857 779.135,86.1857 784.13,86.1857 789.126,86.1857 794.121,86.1857 799.117,86.1857 804.113,86.1857 809.108,86.1857 814.104,86.1857 819.1,86.1857 824.095,86.1857 829.091,86.1857 834.086,86.1857 839.082,86.1857 844.078,86.1857 849.073,86.1857 854.069,86.1857 859.064,86.1857 864.06,86.1857 869.056,86.1857 874.051,86.1857 879.047,86.1857 884.043,86.1857 889.038,86.1857 894.034,86.1857 899.029,86.1857 904.025,86.1857 909.021,86.1857 914.016,86.1857 919.012,86.1857 924.008,86.1857 929.003,86.1857 933.999,86.1857 938.994,86.1857 943.99,86.1857 948.986,86.1857 953.981,86.1857 958.977,86.1857 963.973,86.1857 968.968,86.1857 973.964,86.1857 978.959,86.1857 983.955,86.1857 988.951,86.1857 993.946,86.1857 998.942,86.1857 1003.94,86.1857 1008.93,86.1857 1013.93,86.1857 1018.92,86.1857 1023.92,86.1857 1028.92,86.1857 1033.91,86.1857 1038.91,86.1857 1043.9,86.1857 1048.9,86.1857 1053.89,86.1857 1058.89,86.1857 1063.89,86.1857 1068.88,86.1857 1073.88,86.1857 1078.87,86.1857 1083.87,86.1857 1088.86,86.1857 1093.86,86.1857 1098.85,86.1857 1103.85,86.1857 1108.85,86.1857 1113.84,86.1857 1118.84,86.1857 1123.83,86.1857 1128.83,86.1857 1133.82,86.1857 1138.82,86.1857 1143.82,86.1857 1148.81,86.1857 1153.81,86.1857 1158.8,86.1857 1163.8,86.1857 1168.79,86.1857 1173.79,86.1857 1178.78,86.1857 1183.78,86.1857 1188.78,86.1857 1193.77,86.1857 1198.77,86.1857 1203.76,86.1857 1208.76,86.1857 1213.75,86.1857 1218.75,86.1857 1223.75,86.1857 1228.74,86.1857 1233.74,86.1857 1238.73,86.1857 1243.73,86.1857 1248.72,86.1857 1253.72,86.1857 1258.71,86.1857 1263.71,86.1857 1268.71,86.1857 1273.7,86.1857 1278.7,86.1857 1283.69,86.1857 1288.69,86.1857 1293.68,86.1857 1298.68,86.1857 1303.67,86.1857 1308.67,86.1857 1313.67,86.1857 1318.66,86.1857 1323.66,86.1857 1328.65,86.1857 1333.65,86.1857 1338.64,86.1857 1343.64,86.1857 1348.64,86.1857 1353.63,86.1857 1358.63,86.1857 1363.62,86.1857 1368.62,86.1857 1373.61,86.1857 1378.61,86.1857 1383.6,86.1857 1388.6,86.1857 1393.6,86.1857 1398.59,86.1857 1403.59,86.1857 1408.58,86.1857 1413.58,86.1857 1418.57,86.1857 1423.57,86.1857 1428.57,86.1857 1433.56,86.1857 1438.56,86.1857 1443.55,86.1857 1448.55,86.1857 1453.54,86.1857 1458.54,86.1857 1463.53,86.1857 1468.53,86.1857 1473.53,86.1857 1478.52,86.1857 1483.52,86.1857 1488.51,86.1857 1493.51,86.1857 1498.5,86.1857 1503.5,86.1857 1508.5,86.1857 1513.49,86.1857 1518.49,86.1857 1523.48,86.1857 1528.48,86.1857 1533.47,86.1857 1538.47,86.1857 1543.46,86.1857 1548.46,86.1857 1553.46,86.1857 1558.45,86.1857 1563.45,86.1857 1568.44,86.1857 1573.44,86.1857 1578.43,86.1857 1583.43,86.1857 1588.43,86.1857 1593.42,86.1857 1598.42,86.1857 1603.41,86.1857 1608.41,86.1857 1613.4,86.1857 1618.4,86.1857 1623.39,86.1857 1628.39,86.1857 1633.39,86.1857 1638.38,86.1857 1643.38,86.1857 1648.37,86.1857 1653.37,86.1857 1658.36,86.1857 1663.36,86.1857 1668.36,86.1857 1673.35,86.1857 1678.35,86.1857 1683.34,86.1857 1688.34,86.1857 1693.33,86.1857 1698.33,86.1857 1703.32,86.1857 1708.32,86.1857 1713.32,86.1857 1718.31,86.1857 1723.31,86.1857 1728.3,86.1857 1733.3,86.1857 1738.29,86.1857 1743.29,86.1857 1748.29,86.1857 1753.28,86.1857 1758.28,86.1857 1763.27,86.1857 1768.27,86.1857 1773.26,86.1857 1778.26,86.1857 1783.25,86.1857 1788.25,86.1857 1793.25,86.1857 1798.24,86.1857 1803.24,86.1857 1808.23,86.1857 1813.23,86.1857 1818.22,86.1857 1823.22,86.1857 1828.22,86.1857 1833.21,86.1857 1838.21,86.1857 1843.2,86.1857 1848.2,86.1857 1853.19,86.1857 1858.19,86.1857 1863.18,86.1857 1868.18,86.1857 1873.18,86.1857 1878.17,86.1857 1883.17,86.1857 1888.16,86.1857 1893.16,86.1857 1898.15,86.1857 1903.15,86.1857 1908.15,86.1857 1913.14,86.1857 1918.14,86.1857 1923.13,86.1857 1928.13,86.1857 1933.12,86.1857 1938.12,86.1857 1943.11,86.1857 1948.11,86.1857 1953.11,86.1857 1958.1,86.1857 1963.1,86.1857 1968.09,86.1857 1973.09,86.1857 1978.08,86.1857 1983.08,86.1857 1988.08,86.1857 1993.07,86.1857 1998.07,86.1857 2003.06,86.1857 2008.06,86.1857 2013.05,86.1857 2018.05,86.1857 2023.04,86.1857 2028.04,86.1857 2033.04,86.1857 2038.03,86.1857 2043.03,86.1857 2048.02,86.1857 2053.02,86.1857 2058.01,86.1857 2063.01,86.1857 2068.01,86.1857 2073,86.1857 2078,86.1857 2082.99,86.1857 2087.99,86.1857 2092.98,86.1857 2097.98,86.1857 2102.97,86.1857 2107.97,86.1857 2112.97,86.1857 2117.96,86.1857 2122.96,86.1857 2127.95,86.1857 2132.95,86.1857 2137.94,86.1857 2142.94,86.1857 2147.94,86.1857 2152.93,86.1857 2157.93,86.1857 2162.92,86.1857 2167.92,86.1857 2172.91,86.1857 2177.91,86.1857 2182.9,86.1857 2187.9,86.1857 2192.9,86.1857 2197.89,86.1857 2202.89,86.1857 2207.88,86.1857 2212.88,86.1857 2217.87,86.1857 2222.87,86.1857 2227.87,86.1857 2232.86,86.1857 2237.86,86.1857 2242.85,86.1857 2247.85,86.1857 2252.84,86.1857 2257.84,86.1857 2262.83,86.1857 2267.83,86.1857 2272.83,86.1857 2277.82,86.1857 2282.82,86.1857 2287.81,86.1857 2292.81,86.1857 \"/>\n",
       "<polyline clip-path=\"url(#clip922)\" style=\"stroke:#e26f46; stroke-linecap:round; stroke-linejoin:round; stroke-width:4; stroke-opacity:1; fill:none\" points=\"294.559,518.87 299.555,561.429 304.55,618.174 309.546,667.827 314.542,717.479 319.537,703.293 324.533,703.293 329.528,717.479 334.524,724.572 339.52,731.665 344.515,752.945 349.511,752.945 354.507,752.945 359.502,774.224 364.498,774.224 369.493,788.411 374.489,795.504 379.485,802.597 384.48,781.318 389.476,802.597 394.472,795.504 399.467,795.504 404.463,788.411 409.458,788.411 414.454,788.411 419.45,788.411 424.445,802.597 429.441,788.411 434.436,795.504 439.432,795.504 444.428,788.411 449.423,795.504 454.419,795.504 459.415,802.597 464.41,795.504 469.406,795.504 474.401,795.504 479.397,795.504 484.393,795.504 489.388,795.504 494.384,795.504 499.38,795.504 504.375,795.504 509.371,795.504 514.366,795.504 519.362,795.504 524.358,802.597 529.353,802.597 534.349,802.597 539.345,802.597 544.34,802.597 549.336,802.597 554.331,802.597 559.327,802.597 564.323,802.597 569.318,802.597 574.314,802.597 579.31,802.597 584.305,802.597 589.301,802.597 594.296,802.597 599.292,802.597 604.288,802.597 609.283,802.597 614.279,802.597 619.275,802.597 624.27,802.597 629.266,802.597 634.261,802.597 639.257,802.597 644.253,802.597 649.248,802.597 654.244,802.597 659.24,802.597 664.235,802.597 669.231,802.597 674.226,802.597 679.222,802.597 684.218,802.597 689.213,802.597 694.209,802.597 699.205,802.597 704.2,802.597 709.196,802.597 714.191,802.597 719.187,802.597 724.183,802.597 729.178,802.597 734.174,802.597 739.17,802.597 744.165,802.597 749.161,802.597 754.156,802.597 759.152,802.597 764.148,802.597 769.143,802.597 774.139,802.597 779.135,802.597 784.13,802.597 789.126,802.597 794.121,802.597 799.117,802.597 804.113,802.597 809.108,802.597 814.104,802.597 819.1,802.597 824.095,802.597 829.091,802.597 834.086,802.597 839.082,802.597 844.078,802.597 849.073,802.597 854.069,802.597 859.064,802.597 864.06,802.597 869.056,802.597 874.051,802.597 879.047,802.597 884.043,802.597 889.038,802.597 894.034,802.597 899.029,802.597 904.025,802.597 909.021,802.597 914.016,802.597 919.012,802.597 924.008,802.597 929.003,802.597 933.999,802.597 938.994,802.597 943.99,802.597 948.986,802.597 953.981,802.597 958.977,802.597 963.973,802.597 968.968,802.597 973.964,802.597 978.959,802.597 983.955,802.597 988.951,802.597 993.946,802.597 998.942,802.597 1003.94,802.597 1008.93,802.597 1013.93,802.597 1018.92,802.597 1023.92,802.597 1028.92,802.597 1033.91,802.597 1038.91,802.597 1043.9,802.597 1048.9,802.597 1053.89,802.597 1058.89,802.597 1063.89,802.597 1068.88,802.597 1073.88,802.597 1078.87,802.597 1083.87,802.597 1088.86,802.597 1093.86,802.597 1098.85,802.597 1103.85,802.597 1108.85,802.597 1113.84,802.597 1118.84,802.597 1123.83,802.597 1128.83,802.597 1133.82,802.597 1138.82,802.597 1143.82,802.597 1148.81,802.597 1153.81,802.597 1158.8,802.597 1163.8,802.597 1168.79,802.597 1173.79,802.597 1178.78,802.597 1183.78,802.597 1188.78,802.597 1193.77,802.597 1198.77,802.597 1203.76,802.597 1208.76,802.597 1213.75,802.597 1218.75,802.597 1223.75,802.597 1228.74,802.597 1233.74,802.597 1238.73,802.597 1243.73,802.597 1248.72,802.597 1253.72,802.597 1258.71,802.597 1263.71,802.597 1268.71,802.597 1273.7,802.597 1278.7,802.597 1283.69,802.597 1288.69,802.597 1293.68,802.597 1298.68,802.597 1303.67,802.597 1308.67,802.597 1313.67,802.597 1318.66,802.597 1323.66,802.597 1328.65,802.597 1333.65,802.597 1338.64,802.597 1343.64,802.597 1348.64,802.597 1353.63,802.597 1358.63,802.597 1363.62,802.597 1368.62,802.597 1373.61,802.597 1378.61,802.597 1383.6,802.597 1388.6,802.597 1393.6,802.597 1398.59,802.597 1403.59,802.597 1408.58,802.597 1413.58,802.597 1418.57,802.597 1423.57,802.597 1428.57,802.597 1433.56,802.597 1438.56,802.597 1443.55,802.597 1448.55,802.597 1453.54,802.597 1458.54,802.597 1463.53,802.597 1468.53,802.597 1473.53,802.597 1478.52,802.597 1483.52,802.597 1488.51,802.597 1493.51,802.597 1498.5,802.597 1503.5,802.597 1508.5,802.597 1513.49,802.597 1518.49,802.597 1523.48,802.597 1528.48,802.597 1533.47,802.597 1538.47,802.597 1543.46,802.597 1548.46,802.597 1553.46,802.597 1558.45,802.597 1563.45,802.597 1568.44,802.597 1573.44,802.597 1578.43,802.597 1583.43,802.597 1588.43,802.597 1593.42,802.597 1598.42,802.597 1603.41,802.597 1608.41,802.597 1613.4,802.597 1618.4,802.597 1623.39,802.597 1628.39,802.597 1633.39,802.597 1638.38,802.597 1643.38,802.597 1648.37,802.597 1653.37,802.597 1658.36,802.597 1663.36,802.597 1668.36,802.597 1673.35,802.597 1678.35,802.597 1683.34,802.597 1688.34,802.597 1693.33,802.597 1698.33,802.597 1703.32,802.597 1708.32,802.597 1713.32,802.597 1718.31,802.597 1723.31,802.597 1728.3,802.597 1733.3,802.597 1738.29,802.597 1743.29,802.597 1748.29,802.597 1753.28,802.597 1758.28,802.597 1763.27,802.597 1768.27,802.597 1773.26,802.597 1778.26,802.597 1783.25,802.597 1788.25,802.597 1793.25,802.597 1798.24,802.597 1803.24,802.597 1808.23,802.597 1813.23,802.597 1818.22,802.597 1823.22,802.597 1828.22,802.597 1833.21,802.597 1838.21,802.597 1843.2,802.597 1848.2,802.597 1853.19,802.597 1858.19,802.597 1863.18,802.597 1868.18,802.597 1873.18,802.597 1878.17,802.597 1883.17,802.597 1888.16,802.597 1893.16,802.597 1898.15,802.597 1903.15,802.597 1908.15,802.597 1913.14,802.597 1918.14,802.597 1923.13,802.597 1928.13,802.597 1933.12,802.597 1938.12,802.597 1943.11,802.597 1948.11,802.597 1953.11,802.597 1958.1,802.597 1963.1,802.597 1968.09,802.597 1973.09,802.597 1978.08,802.597 1983.08,802.597 1988.08,802.597 1993.07,802.597 1998.07,802.597 2003.06,802.597 2008.06,802.597 2013.05,802.597 2018.05,802.597 2023.04,802.597 2028.04,802.597 2033.04,802.597 2038.03,802.597 2043.03,802.597 2048.02,802.597 2053.02,802.597 2058.01,802.597 2063.01,802.597 2068.01,802.597 2073,802.597 2078,802.597 2082.99,802.597 2087.99,802.597 2092.98,802.597 2097.98,802.597 2102.97,802.597 2107.97,802.597 2112.97,802.597 2117.96,802.597 2122.96,802.597 2127.95,802.597 2132.95,802.597 2137.94,802.597 2142.94,802.597 2147.94,802.597 2152.93,802.597 2157.93,802.597 2162.92,802.597 2167.92,802.597 2172.91,802.597 2177.91,802.597 2182.9,802.597 2187.9,802.597 2192.9,802.597 2197.89,802.597 2202.89,802.597 2207.88,802.597 2212.88,802.597 2217.87,802.597 2222.87,802.597 2227.87,802.597 2232.86,802.597 2237.86,802.597 2242.85,802.597 2247.85,802.597 2252.84,802.597 2257.84,802.597 2262.83,802.597 2267.83,802.597 2272.83,802.597 2277.82,802.597 2282.82,802.597 2287.81,802.597 2292.81,802.597 \"/>\n",
       "<polyline clip-path=\"url(#clip922)\" style=\"stroke:#3da44d; stroke-linecap:round; stroke-linejoin:round; stroke-width:4; stroke-opacity:1; fill:none\" points=\"294.559,1206.91 299.555,1249.47 304.55,1270.75 309.546,1270.75 314.542,1284.93 319.537,1270.75 324.533,1306.21 329.528,1334.59 334.524,1334.59 339.52,1341.68 344.515,1362.96 349.511,1355.87 354.507,1341.68 359.502,1313.31 364.498,1299.12 369.493,1299.12 374.489,1299.12 379.485,1313.31 384.48,1334.59 389.476,1341.68 394.472,1348.77 399.467,1334.59 404.463,1341.68 409.458,1341.68 414.454,1341.68 419.45,1341.68 424.445,1334.59 429.441,1348.77 434.436,1348.77 439.432,1348.77 444.428,1355.87 449.423,1355.87 454.419,1362.96 459.415,1362.96 464.41,1370.05 469.406,1384.24 474.401,1384.24 479.397,1384.24 484.393,1384.24 489.388,1384.24 494.384,1384.24 499.38,1384.24 504.375,1384.24 509.371,1384.24 514.366,1384.24 519.362,1384.24 524.358,1384.24 529.353,1384.24 534.349,1384.24 539.345,1384.24 544.34,1384.24 549.336,1384.24 554.331,1384.24 559.327,1384.24 564.323,1384.24 569.318,1384.24 574.314,1384.24 579.31,1384.24 584.305,1384.24 589.301,1384.24 594.296,1384.24 599.292,1384.24 604.288,1384.24 609.283,1384.24 614.279,1384.24 619.275,1384.24 624.27,1384.24 629.266,1384.24 634.261,1384.24 639.257,1384.24 644.253,1384.24 649.248,1384.24 654.244,1384.24 659.24,1384.24 664.235,1384.24 669.231,1384.24 674.226,1384.24 679.222,1384.24 684.218,1384.24 689.213,1384.24 694.209,1384.24 699.205,1384.24 704.2,1384.24 709.196,1384.24 714.191,1384.24 719.187,1384.24 724.183,1384.24 729.178,1384.24 734.174,1384.24 739.17,1384.24 744.165,1384.24 749.161,1384.24 754.156,1384.24 759.152,1384.24 764.148,1384.24 769.143,1384.24 774.139,1384.24 779.135,1384.24 784.13,1384.24 789.126,1384.24 794.121,1384.24 799.117,1384.24 804.113,1384.24 809.108,1384.24 814.104,1384.24 819.1,1384.24 824.095,1384.24 829.091,1384.24 834.086,1384.24 839.082,1384.24 844.078,1384.24 849.073,1384.24 854.069,1384.24 859.064,1384.24 864.06,1384.24 869.056,1384.24 874.051,1384.24 879.047,1384.24 884.043,1384.24 889.038,1384.24 894.034,1384.24 899.029,1384.24 904.025,1384.24 909.021,1384.24 914.016,1384.24 919.012,1384.24 924.008,1384.24 929.003,1384.24 933.999,1384.24 938.994,1384.24 943.99,1384.24 948.986,1384.24 953.981,1384.24 958.977,1384.24 963.973,1384.24 968.968,1384.24 973.964,1384.24 978.959,1384.24 983.955,1384.24 988.951,1384.24 993.946,1384.24 998.942,1384.24 1003.94,1384.24 1008.93,1384.24 1013.93,1384.24 1018.92,1384.24 1023.92,1384.24 1028.92,1384.24 1033.91,1384.24 1038.91,1384.24 1043.9,1384.24 1048.9,1384.24 1053.89,1384.24 1058.89,1384.24 1063.89,1384.24 1068.88,1384.24 1073.88,1384.24 1078.87,1384.24 1083.87,1384.24 1088.86,1384.24 1093.86,1384.24 1098.85,1384.24 1103.85,1384.24 1108.85,1384.24 1113.84,1384.24 1118.84,1384.24 1123.83,1384.24 1128.83,1384.24 1133.82,1384.24 1138.82,1384.24 1143.82,1384.24 1148.81,1384.24 1153.81,1384.24 1158.8,1384.24 1163.8,1384.24 1168.79,1384.24 1173.79,1384.24 1178.78,1384.24 1183.78,1384.24 1188.78,1384.24 1193.77,1384.24 1198.77,1384.24 1203.76,1384.24 1208.76,1384.24 1213.75,1384.24 1218.75,1384.24 1223.75,1384.24 1228.74,1384.24 1233.74,1384.24 1238.73,1384.24 1243.73,1384.24 1248.72,1384.24 1253.72,1384.24 1258.71,1384.24 1263.71,1384.24 1268.71,1384.24 1273.7,1384.24 1278.7,1384.24 1283.69,1384.24 1288.69,1384.24 1293.68,1384.24 1298.68,1384.24 1303.67,1384.24 1308.67,1384.24 1313.67,1384.24 1318.66,1384.24 1323.66,1384.24 1328.65,1384.24 1333.65,1384.24 1338.64,1384.24 1343.64,1384.24 1348.64,1384.24 1353.63,1384.24 1358.63,1384.24 1363.62,1384.24 1368.62,1384.24 1373.61,1384.24 1378.61,1384.24 1383.6,1384.24 1388.6,1384.24 1393.6,1384.24 1398.59,1384.24 1403.59,1384.24 1408.58,1384.24 1413.58,1384.24 1418.57,1384.24 1423.57,1384.24 1428.57,1384.24 1433.56,1384.24 1438.56,1384.24 1443.55,1384.24 1448.55,1384.24 1453.54,1384.24 1458.54,1384.24 1463.53,1384.24 1468.53,1384.24 1473.53,1384.24 1478.52,1384.24 1483.52,1384.24 1488.51,1384.24 1493.51,1384.24 1498.5,1384.24 1503.5,1384.24 1508.5,1384.24 1513.49,1384.24 1518.49,1384.24 1523.48,1384.24 1528.48,1384.24 1533.47,1384.24 1538.47,1384.24 1543.46,1384.24 1548.46,1384.24 1553.46,1384.24 1558.45,1384.24 1563.45,1384.24 1568.44,1384.24 1573.44,1384.24 1578.43,1384.24 1583.43,1384.24 1588.43,1384.24 1593.42,1384.24 1598.42,1384.24 1603.41,1384.24 1608.41,1384.24 1613.4,1384.24 1618.4,1384.24 1623.39,1384.24 1628.39,1384.24 1633.39,1384.24 1638.38,1384.24 1643.38,1384.24 1648.37,1384.24 1653.37,1384.24 1658.36,1384.24 1663.36,1384.24 1668.36,1384.24 1673.35,1384.24 1678.35,1384.24 1683.34,1384.24 1688.34,1384.24 1693.33,1384.24 1698.33,1384.24 1703.32,1384.24 1708.32,1384.24 1713.32,1384.24 1718.31,1384.24 1723.31,1384.24 1728.3,1384.24 1733.3,1384.24 1738.29,1384.24 1743.29,1384.24 1748.29,1384.24 1753.28,1384.24 1758.28,1384.24 1763.27,1384.24 1768.27,1384.24 1773.26,1384.24 1778.26,1384.24 1783.25,1384.24 1788.25,1384.24 1793.25,1384.24 1798.24,1384.24 1803.24,1384.24 1808.23,1384.24 1813.23,1384.24 1818.22,1384.24 1823.22,1384.24 1828.22,1384.24 1833.21,1384.24 1838.21,1384.24 1843.2,1384.24 1848.2,1384.24 1853.19,1384.24 1858.19,1384.24 1863.18,1384.24 1868.18,1384.24 1873.18,1384.24 1878.17,1384.24 1883.17,1384.24 1888.16,1384.24 1893.16,1384.24 1898.15,1384.24 1903.15,1384.24 1908.15,1384.24 1913.14,1384.24 1918.14,1384.24 1923.13,1384.24 1928.13,1384.24 1933.12,1384.24 1938.12,1384.24 1943.11,1384.24 1948.11,1384.24 1953.11,1384.24 1958.1,1384.24 1963.1,1384.24 1968.09,1384.24 1973.09,1384.24 1978.08,1384.24 1983.08,1384.24 1988.08,1384.24 1993.07,1384.24 1998.07,1384.24 2003.06,1384.24 2008.06,1384.24 2013.05,1384.24 2018.05,1384.24 2023.04,1384.24 2028.04,1384.24 2033.04,1384.24 2038.03,1384.24 2043.03,1384.24 2048.02,1384.24 2053.02,1384.24 2058.01,1384.24 2063.01,1384.24 2068.01,1384.24 2073,1384.24 2078,1384.24 2082.99,1384.24 2087.99,1384.24 2092.98,1384.24 2097.98,1384.24 2102.97,1384.24 2107.97,1384.24 2112.97,1384.24 2117.96,1384.24 2122.96,1384.24 2127.95,1384.24 2132.95,1384.24 2137.94,1384.24 2142.94,1384.24 2147.94,1384.24 2152.93,1384.24 2157.93,1384.24 2162.92,1384.24 2167.92,1384.24 2172.91,1384.24 2177.91,1384.24 2182.9,1384.24 2187.9,1384.24 2192.9,1384.24 2197.89,1384.24 2202.89,1384.24 2207.88,1384.24 2212.88,1384.24 2217.87,1384.24 2222.87,1384.24 2227.87,1384.24 2232.86,1384.24 2237.86,1384.24 2242.85,1384.24 2247.85,1384.24 2252.84,1384.24 2257.84,1384.24 2262.83,1384.24 2267.83,1384.24 2272.83,1384.24 2277.82,1384.24 2282.82,1384.24 2287.81,1384.24 2292.81,1384.24 \"/>\n",
       "<path clip-path=\"url(#clip920)\" d=\"M1911.08 300.469 L2282.15 300.469 L2282.15 93.1086 L1911.08 93.1086  Z\" fill=\"#ffffff\" fill-rule=\"evenodd\" fill-opacity=\"1\"/>\n",
       "<polyline clip-path=\"url(#clip920)\" style=\"stroke:#000000; stroke-linecap:round; stroke-linejoin:round; stroke-width:4; stroke-opacity:1; fill:none\" points=\"1911.08,300.469 2282.15,300.469 2282.15,93.1086 1911.08,93.1086 1911.08,300.469 \"/>\n",
       "<polyline clip-path=\"url(#clip920)\" style=\"stroke:#009af9; stroke-linecap:round; stroke-linejoin:round; stroke-width:4; stroke-opacity:1; fill:none\" points=\"1934.61,144.949 2075.82,144.949 \"/>\n",
       "<path clip-path=\"url(#clip920)\" d=\"M2103.64 158.34 L2103.64 172.09 L2099.36 172.09 L2099.36 136.303 L2103.64 136.303 L2103.64 140.238 Q2104.98 137.923 2107.02 136.812 Q2109.08 135.678 2111.93 135.678 Q2116.65 135.678 2119.59 139.428 Q2122.55 143.178 2122.55 149.289 Q2122.55 155.4 2119.59 159.15 Q2116.65 162.9 2111.93 162.9 Q2109.08 162.9 2107.02 161.789 Q2104.98 160.655 2103.64 158.34 M2118.13 149.289 Q2118.13 144.59 2116.19 141.928 Q2114.27 139.243 2110.89 139.243 Q2107.51 139.243 2105.56 141.928 Q2103.64 144.59 2103.64 149.289 Q2103.64 153.988 2105.56 156.673 Q2107.51 159.335 2110.89 159.335 Q2114.27 159.335 2116.19 156.673 Q2118.13 153.988 2118.13 149.289 Z\" fill=\"#000000\" fill-rule=\"nonzero\" fill-opacity=\"1\" /><path clip-path=\"url(#clip920)\" d=\"M2141.39 149.196 Q2136.23 149.196 2134.24 150.377 Q2132.25 151.557 2132.25 154.405 Q2132.25 156.673 2133.73 158.016 Q2135.24 159.335 2137.81 159.335 Q2141.35 159.335 2143.48 156.835 Q2145.63 154.312 2145.63 150.145 L2145.63 149.196 L2141.39 149.196 M2149.89 147.437 L2149.89 162.229 L2145.63 162.229 L2145.63 158.293 Q2144.17 160.655 2142 161.789 Q2139.82 162.9 2136.67 162.9 Q2132.69 162.9 2130.33 160.678 Q2127.99 158.432 2127.99 154.682 Q2127.99 150.307 2130.91 148.085 Q2133.85 145.863 2139.66 145.863 L2145.63 145.863 L2145.63 145.446 Q2145.63 142.507 2143.69 140.909 Q2141.76 139.289 2138.27 139.289 Q2136.05 139.289 2133.94 139.821 Q2131.83 140.354 2129.89 141.419 L2129.89 137.483 Q2132.23 136.581 2134.43 136.141 Q2136.63 135.678 2138.71 135.678 Q2144.33 135.678 2147.11 138.594 Q2149.89 141.511 2149.89 147.437 Z\" fill=\"#000000\" fill-rule=\"nonzero\" fill-opacity=\"1\" /><path clip-path=\"url(#clip920)\" d=\"M2162.78 158.34 L2162.78 172.09 L2158.5 172.09 L2158.5 136.303 L2162.78 136.303 L2162.78 140.238 Q2164.13 137.923 2166.16 136.812 Q2168.22 135.678 2171.07 135.678 Q2175.79 135.678 2178.73 139.428 Q2181.7 143.178 2181.7 149.289 Q2181.7 155.4 2178.73 159.15 Q2175.79 162.9 2171.07 162.9 Q2168.22 162.9 2166.16 161.789 Q2164.13 160.655 2162.78 158.34 M2177.27 149.289 Q2177.27 144.59 2175.33 141.928 Q2173.41 139.243 2170.03 139.243 Q2166.65 139.243 2164.7 141.928 Q2162.78 144.59 2162.78 149.289 Q2162.78 153.988 2164.7 156.673 Q2166.65 159.335 2170.03 159.335 Q2173.41 159.335 2175.33 156.673 Q2177.27 153.988 2177.27 149.289 Z\" fill=\"#000000\" fill-rule=\"nonzero\" fill-opacity=\"1\" /><path clip-path=\"url(#clip920)\" d=\"M2210.93 148.201 L2210.93 150.284 L2191.35 150.284 Q2191.63 154.682 2193.99 156.997 Q2196.37 159.289 2200.61 159.289 Q2203.06 159.289 2205.35 158.687 Q2207.67 158.085 2209.94 156.881 L2209.94 160.909 Q2207.64 161.881 2205.24 162.391 Q2202.83 162.9 2200.35 162.9 Q2194.15 162.9 2190.51 159.289 Q2186.9 155.678 2186.9 149.52 Q2186.9 143.155 2190.33 139.428 Q2193.78 135.678 2199.61 135.678 Q2204.84 135.678 2207.88 139.057 Q2210.93 142.414 2210.93 148.201 M2206.67 146.951 Q2206.63 143.456 2204.7 141.372 Q2202.81 139.289 2199.66 139.289 Q2196.09 139.289 2193.94 141.303 Q2191.81 143.317 2191.49 146.974 L2206.67 146.951 Z\" fill=\"#000000\" fill-rule=\"nonzero\" fill-opacity=\"1\" /><path clip-path=\"url(#clip920)\" d=\"M2232.94 140.284 Q2232.23 139.868 2231.37 139.682 Q2230.54 139.474 2229.52 139.474 Q2225.91 139.474 2223.96 141.835 Q2222.04 144.173 2222.04 148.571 L2222.04 162.229 L2217.76 162.229 L2217.76 136.303 L2222.04 136.303 L2222.04 140.331 Q2223.38 137.969 2225.54 136.835 Q2227.69 135.678 2230.77 135.678 Q2231.21 135.678 2231.74 135.747 Q2232.27 135.794 2232.92 135.909 L2232.94 140.284 Z\" fill=\"#000000\" fill-rule=\"nonzero\" fill-opacity=\"1\" /><polyline clip-path=\"url(#clip920)\" style=\"stroke:#e26f46; stroke-linecap:round; stroke-linejoin:round; stroke-width:4; stroke-opacity:1; fill:none\" points=\"1934.61,196.789 2075.82,196.789 \"/>\n",
       "<path clip-path=\"url(#clip920)\" d=\"M2114.54 192.124 Q2113.83 191.708 2112.97 191.522 Q2112.14 191.314 2111.12 191.314 Q2107.51 191.314 2105.56 193.675 Q2103.64 196.013 2103.64 200.411 L2103.64 214.069 L2099.36 214.069 L2099.36 188.143 L2103.64 188.143 L2103.64 192.171 Q2104.98 189.809 2107.14 188.675 Q2109.29 187.518 2112.37 187.518 Q2112.81 187.518 2113.34 187.587 Q2113.87 187.634 2114.52 187.749 L2114.54 192.124 Z\" fill=\"#000000\" fill-rule=\"nonzero\" fill-opacity=\"1\" /><path clip-path=\"url(#clip920)\" d=\"M2128.02 191.129 Q2124.59 191.129 2122.6 193.814 Q2120.61 196.476 2120.61 201.129 Q2120.61 205.782 2122.58 208.467 Q2124.57 211.129 2128.02 211.129 Q2131.42 211.129 2133.41 208.444 Q2135.4 205.758 2135.4 201.129 Q2135.4 196.522 2133.41 193.837 Q2131.42 191.129 2128.02 191.129 M2128.02 187.518 Q2133.57 187.518 2136.74 191.129 Q2139.91 194.74 2139.91 201.129 Q2139.91 207.495 2136.74 211.129 Q2133.57 214.74 2128.02 214.74 Q2122.44 214.74 2119.27 211.129 Q2116.12 207.495 2116.12 201.129 Q2116.12 194.74 2119.27 191.129 Q2122.44 187.518 2128.02 187.518 Z\" fill=\"#000000\" fill-rule=\"nonzero\" fill-opacity=\"1\" /><path clip-path=\"url(#clip920)\" d=\"M2165.63 189.138 L2165.63 193.12 Q2163.82 192.124 2162 191.638 Q2160.19 191.129 2158.34 191.129 Q2154.2 191.129 2151.9 193.768 Q2149.61 196.384 2149.61 201.129 Q2149.61 205.874 2151.9 208.513 Q2154.2 211.129 2158.34 211.129 Q2160.19 211.129 2162 210.643 Q2163.82 210.133 2165.63 209.138 L2165.63 213.073 Q2163.85 213.907 2161.93 214.323 Q2160.03 214.74 2157.88 214.74 Q2152.02 214.74 2148.57 211.059 Q2145.12 207.379 2145.12 201.129 Q2145.12 194.786 2148.59 191.152 Q2152.09 187.518 2158.15 187.518 Q2160.12 187.518 2162 187.935 Q2163.87 188.328 2165.63 189.138 Z\" fill=\"#000000\" fill-rule=\"nonzero\" fill-opacity=\"1\" /><path clip-path=\"url(#clip920)\" d=\"M2172.88 178.05 L2177.16 178.05 L2177.16 199.323 L2189.87 188.143 L2195.31 188.143 L2181.56 200.272 L2195.89 214.069 L2190.33 214.069 L2177.16 201.407 L2177.16 214.069 L2172.88 214.069 L2172.88 178.05 Z\" fill=\"#000000\" fill-rule=\"nonzero\" fill-opacity=\"1\" /><polyline clip-path=\"url(#clip920)\" style=\"stroke:#3da44d; stroke-linecap:round; stroke-linejoin:round; stroke-width:4; stroke-opacity:1; fill:none\" points=\"1934.61,248.629 2075.82,248.629 \"/>\n",
       "<path clip-path=\"url(#clip920)\" d=\"M2117.78 240.747 L2117.78 244.774 Q2115.98 243.849 2114.03 243.386 Q2112.09 242.923 2110.01 242.923 Q2106.83 242.923 2105.24 243.895 Q2103.66 244.867 2103.66 246.811 Q2103.66 248.293 2104.8 249.149 Q2105.93 249.983 2109.36 250.747 L2110.82 251.071 Q2115.35 252.043 2117.25 253.825 Q2119.17 255.585 2119.17 258.756 Q2119.17 262.367 2116.3 264.473 Q2113.45 266.58 2108.45 266.58 Q2106.37 266.58 2104.1 266.163 Q2101.86 265.77 2099.36 264.96 L2099.36 260.561 Q2101.72 261.788 2104.01 262.413 Q2106.3 263.015 2108.55 263.015 Q2111.56 263.015 2113.18 261.997 Q2114.8 260.955 2114.8 259.08 Q2114.8 257.344 2113.62 256.418 Q2112.46 255.492 2108.5 254.636 L2107.02 254.288 Q2103.06 253.455 2101.3 251.742 Q2099.54 250.006 2099.54 246.997 Q2099.54 243.339 2102.14 241.349 Q2104.73 239.358 2109.5 239.358 Q2111.86 239.358 2113.94 239.705 Q2116.02 240.052 2117.78 240.747 Z\" fill=\"#000000\" fill-rule=\"nonzero\" fill-opacity=\"1\" /><path clip-path=\"url(#clip920)\" d=\"M2144.61 240.978 L2144.61 244.96 Q2142.81 243.964 2140.98 243.478 Q2139.17 242.969 2137.32 242.969 Q2133.18 242.969 2130.89 245.608 Q2128.59 248.224 2128.59 252.969 Q2128.59 257.714 2130.89 260.353 Q2133.18 262.969 2137.32 262.969 Q2139.17 262.969 2140.98 262.483 Q2142.81 261.973 2144.61 260.978 L2144.61 264.913 Q2142.83 265.747 2140.91 266.163 Q2139.01 266.58 2136.86 266.58 Q2131 266.58 2127.55 262.899 Q2124.1 259.219 2124.1 252.969 Q2124.1 246.626 2127.58 242.992 Q2131.07 239.358 2137.14 239.358 Q2139.1 239.358 2140.98 239.775 Q2142.85 240.168 2144.61 240.978 Z\" fill=\"#000000\" fill-rule=\"nonzero\" fill-opacity=\"1\" /><path clip-path=\"url(#clip920)\" d=\"M2152.02 239.983 L2156.28 239.983 L2156.28 265.909 L2152.02 265.909 L2152.02 239.983 M2152.02 229.89 L2156.28 229.89 L2156.28 235.284 L2152.02 235.284 L2152.02 229.89 Z\" fill=\"#000000\" fill-rule=\"nonzero\" fill-opacity=\"1\" /><path clip-path=\"url(#clip920)\" d=\"M2181.72 240.747 L2181.72 244.774 Q2179.91 243.849 2177.97 243.386 Q2176.02 242.923 2173.94 242.923 Q2170.77 242.923 2169.17 243.895 Q2167.6 244.867 2167.6 246.811 Q2167.6 248.293 2168.73 249.149 Q2169.87 249.983 2173.29 250.747 L2174.75 251.071 Q2179.29 252.043 2181.19 253.825 Q2183.11 255.585 2183.11 258.756 Q2183.11 262.367 2180.24 264.473 Q2177.39 266.58 2172.39 266.58 Q2170.31 266.58 2168.04 266.163 Q2165.79 265.77 2163.29 264.96 L2163.29 260.561 Q2165.65 261.788 2167.95 262.413 Q2170.24 263.015 2172.48 263.015 Q2175.49 263.015 2177.11 261.997 Q2178.73 260.955 2178.73 259.08 Q2178.73 257.344 2177.55 256.418 Q2176.39 255.492 2172.44 254.636 L2170.95 254.288 Q2167 253.455 2165.24 251.742 Q2163.48 250.006 2163.48 246.997 Q2163.48 243.339 2166.07 241.349 Q2168.66 239.358 2173.43 239.358 Q2175.79 239.358 2177.88 239.705 Q2179.96 240.052 2181.72 240.747 Z\" fill=\"#000000\" fill-rule=\"nonzero\" fill-opacity=\"1\" /><path clip-path=\"url(#clip920)\" d=\"M2206.42 240.747 L2206.42 244.774 Q2204.61 243.849 2202.67 243.386 Q2200.72 242.923 2198.64 242.923 Q2195.47 242.923 2193.87 243.895 Q2192.3 244.867 2192.3 246.811 Q2192.3 248.293 2193.43 249.149 Q2194.57 249.983 2197.99 250.747 L2199.45 251.071 Q2203.99 252.043 2205.88 253.825 Q2207.81 255.585 2207.81 258.756 Q2207.81 262.367 2204.94 264.473 Q2202.09 266.58 2197.09 266.58 Q2195.01 266.58 2192.74 266.163 Q2190.49 265.77 2187.99 264.96 L2187.99 260.561 Q2190.35 261.788 2192.64 262.413 Q2194.94 263.015 2197.18 263.015 Q2200.19 263.015 2201.81 261.997 Q2203.43 260.955 2203.43 259.08 Q2203.43 257.344 2202.25 256.418 Q2201.09 255.492 2197.14 254.636 L2195.65 254.288 Q2191.7 253.455 2189.94 251.742 Q2188.18 250.006 2188.18 246.997 Q2188.18 243.339 2190.77 241.349 Q2193.36 239.358 2198.13 239.358 Q2200.49 239.358 2202.57 239.705 Q2204.66 240.052 2206.42 240.747 Z\" fill=\"#000000\" fill-rule=\"nonzero\" fill-opacity=\"1\" /><path clip-path=\"url(#clip920)\" d=\"M2224.63 242.969 Q2221.21 242.969 2219.22 245.654 Q2217.23 248.316 2217.23 252.969 Q2217.23 257.622 2219.2 260.307 Q2221.19 262.969 2224.63 262.969 Q2228.04 262.969 2230.03 260.284 Q2232.02 257.598 2232.02 252.969 Q2232.02 248.362 2230.03 245.677 Q2228.04 242.969 2224.63 242.969 M2224.63 239.358 Q2230.19 239.358 2233.36 242.969 Q2236.53 246.58 2236.53 252.969 Q2236.53 259.335 2233.36 262.969 Q2230.19 266.58 2224.63 266.58 Q2219.06 266.58 2215.88 262.969 Q2212.74 259.335 2212.74 252.969 Q2212.74 246.58 2215.88 242.969 Q2219.06 239.358 2224.63 239.358 Z\" fill=\"#000000\" fill-rule=\"nonzero\" fill-opacity=\"1\" /><path clip-path=\"url(#clip920)\" d=\"M2258.62 243.964 Q2257.9 243.548 2257.04 243.362 Q2256.21 243.154 2255.19 243.154 Q2251.58 243.154 2249.63 245.515 Q2247.71 247.853 2247.71 252.251 L2247.71 265.909 L2243.43 265.909 L2243.43 239.983 L2247.71 239.983 L2247.71 244.011 Q2249.06 241.649 2251.21 240.515 Q2253.36 239.358 2256.44 239.358 Q2256.88 239.358 2257.41 239.427 Q2257.94 239.474 2258.59 239.589 L2258.62 243.964 Z\" fill=\"#000000\" fill-rule=\"nonzero\" fill-opacity=\"1\" /></svg>\n"
      ],
      "text/html": [
       "<img src=\"data:image/png;base64,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\" />"
      ]
     },
     "metadata": {},
     "output_type": "display_data"
    },
    {
     "data": {
      "text/html": [
       "<div><div style = \"float: left;\"><span>401×3 DataFrame</span></div><div style = \"float: right;\"><span style = \"font-style: italic;\">376 rows omitted</span></div><div style = \"clear: both;\"></div></div><div class = \"data-frame\" style = \"overflow-x: scroll;\"><table class = \"data-frame\" style = \"margin-bottom: 6px;\"><thead><tr class = \"header\"><th class = \"rowNumber\" style = \"font-weight: bold; text-align: right;\">Row</th><th style = \"text-align: left;\">paper</th><th style = \"text-align: left;\">rock</th><th style = \"text-align: left;\">scissor</th></tr><tr class = \"subheader headerLastRow\"><th class = \"rowNumber\" style = \"font-weight: bold; text-align: right;\"></th><th title = \"Int64\" style = \"text-align: left;\">Int64</th><th title = \"Int64\" style = \"text-align: left;\">Int64</th><th title = \"Int64\" style = \"text-align: left;\">Int64</th></tr></thead><tbody><tr><td class = \"rowNumber\" style = \"font-weight: bold; text-align: right;\">1</td><td style = \"text-align: right;\">863</td><td style = \"text-align: right;\">867</td><td style = \"text-align: right;\">770</td></tr><tr><td class = \"rowNumber\" style = \"font-weight: bold; text-align: right;\">2</td><td style = \"text-align: right;\">875</td><td style = \"text-align: right;\">861</td><td style = \"text-align: right;\">764</td></tr><tr><td class = \"rowNumber\" style = \"font-weight: bold; text-align: right;\">3</td><td style = \"text-align: right;\">886</td><td style = \"text-align: right;\">853</td><td style = \"text-align: right;\">761</td></tr><tr><td class = \"rowNumber\" style = \"font-weight: bold; text-align: right;\">4</td><td style = \"text-align: right;\">893</td><td style = \"text-align: right;\">846</td><td style = \"text-align: right;\">761</td></tr><tr><td class = \"rowNumber\" style = \"font-weight: bold; text-align: right;\">5</td><td style = \"text-align: right;\">902</td><td style = \"text-align: right;\">839</td><td style = \"text-align: right;\">759</td></tr><tr><td class = \"rowNumber\" style = \"font-weight: bold; text-align: right;\">6</td><td style = \"text-align: right;\">898</td><td style = \"text-align: right;\">841</td><td style = \"text-align: right;\">761</td></tr><tr><td class = \"rowNumber\" style = \"font-weight: bold; text-align: right;\">7</td><td style = \"text-align: right;\">903</td><td style = \"text-align: right;\">841</td><td style = \"text-align: right;\">756</td></tr><tr><td class = \"rowNumber\" style = \"font-weight: bold; text-align: right;\">8</td><td style = \"text-align: right;\">909</td><td style = \"text-align: right;\">839</td><td style = \"text-align: right;\">752</td></tr><tr><td class = \"rowNumber\" style = \"font-weight: bold; text-align: right;\">9</td><td style = \"text-align: right;\">910</td><td style = \"text-align: right;\">838</td><td style = \"text-align: right;\">752</td></tr><tr><td class = \"rowNumber\" style = \"font-weight: bold; text-align: right;\">10</td><td style = \"text-align: right;\">912</td><td style = \"text-align: right;\">837</td><td style = \"text-align: right;\">751</td></tr><tr><td class = \"rowNumber\" style = \"font-weight: bold; text-align: right;\">11</td><td style = \"text-align: right;\">918</td><td style = \"text-align: right;\">834</td><td style = \"text-align: right;\">748</td></tr><tr><td class = \"rowNumber\" style = \"font-weight: bold; text-align: right;\">12</td><td style = \"text-align: right;\">917</td><td style = \"text-align: right;\">834</td><td style = \"text-align: right;\">749</td></tr><tr><td class = \"rowNumber\" style = \"font-weight: bold; text-align: right;\">13</td><td style = \"text-align: right;\">915</td><td style = \"text-align: right;\">834</td><td style = \"text-align: right;\">751</td></tr><tr><td style = \"text-align: right;\">&vellip;</td><td style = \"text-align: right;\">&vellip;</td><td style = \"text-align: right;\">&vellip;</td><td style = \"text-align: right;\">&vellip;</td></tr><tr><td class = \"rowNumber\" style = \"font-weight: bold; text-align: right;\">390</td><td style = \"text-align: right;\">928</td><td style = \"text-align: right;\">827</td><td style = \"text-align: right;\">745</td></tr><tr><td class = \"rowNumber\" style = \"font-weight: bold; text-align: right;\">391</td><td style = \"text-align: right;\">928</td><td style = \"text-align: right;\">827</td><td style = \"text-align: right;\">745</td></tr><tr><td class = \"rowNumber\" style = \"font-weight: bold; text-align: right;\">392</td><td style = \"text-align: right;\">928</td><td style = \"text-align: right;\">827</td><td style = \"text-align: right;\">745</td></tr><tr><td class = \"rowNumber\" style = \"font-weight: bold; text-align: right;\">393</td><td style = \"text-align: right;\">928</td><td style = \"text-align: right;\">827</td><td style = \"text-align: right;\">745</td></tr><tr><td class = \"rowNumber\" style = \"font-weight: bold; text-align: right;\">394</td><td style = \"text-align: right;\">928</td><td style = \"text-align: right;\">827</td><td style = \"text-align: right;\">745</td></tr><tr><td class = \"rowNumber\" style = \"font-weight: bold; text-align: right;\">395</td><td style = \"text-align: right;\">928</td><td style = \"text-align: right;\">827</td><td style = \"text-align: right;\">745</td></tr><tr><td class = \"rowNumber\" style = \"font-weight: bold; text-align: right;\">396</td><td style = \"text-align: right;\">928</td><td style = \"text-align: right;\">827</td><td style = \"text-align: right;\">745</td></tr><tr><td class = \"rowNumber\" style = \"font-weight: bold; text-align: right;\">397</td><td style = \"text-align: right;\">928</td><td style = \"text-align: right;\">827</td><td style = \"text-align: right;\">745</td></tr><tr><td class = \"rowNumber\" style = \"font-weight: bold; text-align: right;\">398</td><td style = \"text-align: right;\">928</td><td style = \"text-align: right;\">827</td><td style = \"text-align: right;\">745</td></tr><tr><td class = \"rowNumber\" style = \"font-weight: bold; text-align: right;\">399</td><td style = \"text-align: right;\">928</td><td style = \"text-align: right;\">827</td><td style = \"text-align: right;\">745</td></tr><tr><td class = \"rowNumber\" style = \"font-weight: bold; text-align: right;\">400</td><td style = \"text-align: right;\">928</td><td style = \"text-align: right;\">827</td><td style = \"text-align: right;\">745</td></tr><tr><td class = \"rowNumber\" style = \"font-weight: bold; text-align: right;\">401</td><td style = \"text-align: right;\">928</td><td style = \"text-align: right;\">827</td><td style = \"text-align: right;\">745</td></tr></tbody></table></div>"
      ],
      "text/latex": [
       "\\begin{tabular}{r|ccc}\n",
       "\t& paper & rock & scissor\\\\\n",
       "\t\\hline\n",
       "\t& Int64 & Int64 & Int64\\\\\n",
       "\t\\hline\n",
       "\t1 & 863 & 867 & 770 \\\\\n",
       "\t2 & 875 & 861 & 764 \\\\\n",
       "\t3 & 886 & 853 & 761 \\\\\n",
       "\t4 & 893 & 846 & 761 \\\\\n",
       "\t5 & 902 & 839 & 759 \\\\\n",
       "\t6 & 898 & 841 & 761 \\\\\n",
       "\t7 & 903 & 841 & 756 \\\\\n",
       "\t8 & 909 & 839 & 752 \\\\\n",
       "\t9 & 910 & 838 & 752 \\\\\n",
       "\t10 & 912 & 837 & 751 \\\\\n",
       "\t11 & 918 & 834 & 748 \\\\\n",
       "\t12 & 917 & 834 & 749 \\\\\n",
       "\t13 & 915 & 834 & 751 \\\\\n",
       "\t14 & 914 & 831 & 755 \\\\\n",
       "\t15 & 912 & 831 & 757 \\\\\n",
       "\t16 & 914 & 829 & 757 \\\\\n",
       "\t17 & 915 & 828 & 757 \\\\\n",
       "\t18 & 918 & 827 & 755 \\\\\n",
       "\t19 & 918 & 830 & 752 \\\\\n",
       "\t20 & 922 & 827 & 751 \\\\\n",
       "\t21 & 922 & 828 & 750 \\\\\n",
       "\t22 & 920 & 828 & 752 \\\\\n",
       "\t23 & 920 & 829 & 751 \\\\\n",
       "\t24 & 920 & 829 & 751 \\\\\n",
       "\t25 & 920 & 829 & 751 \\\\\n",
       "\t26 & 920 & 829 & 751 \\\\\n",
       "\t27 & 921 & 827 & 752 \\\\\n",
       "\t28 & 921 & 829 & 750 \\\\\n",
       "\t29 & 922 & 828 & 750 \\\\\n",
       "\t30 & 922 & 828 & 750 \\\\\n",
       "\t$\\dots$ & $\\dots$ & $\\dots$ & $\\dots$ \\\\\n",
       "\\end{tabular}\n"
      ],
      "text/plain": [
       "\u001b[1m401×3 DataFrame\u001b[0m\n",
       "\u001b[1m Row \u001b[0m│\u001b[1m paper \u001b[0m\u001b[1m rock  \u001b[0m\u001b[1m scissor \u001b[0m\n",
       "     │\u001b[90m Int64 \u001b[0m\u001b[90m Int64 \u001b[0m\u001b[90m Int64   \u001b[0m\n",
       "─────┼───────────────────────\n",
       "   1 │   863    867      770\n",
       "   2 │   875    861      764\n",
       "   3 │   886    853      761\n",
       "   4 │   893    846      761\n",
       "   5 │   902    839      759\n",
       "   6 │   898    841      761\n",
       "   7 │   903    841      756\n",
       "   8 │   909    839      752\n",
       "   9 │   910    838      752\n",
       "  10 │   912    837      751\n",
       "  11 │   918    834      748\n",
       "  ⋮  │   ⋮      ⋮       ⋮\n",
       " 392 │   928    827      745\n",
       " 393 │   928    827      745\n",
       " 394 │   928    827      745\n",
       " 395 │   928    827      745\n",
       " 396 │   928    827      745\n",
       " 397 │   928    827      745\n",
       " 398 │   928    827      745\n",
       " 399 │   928    827      745\n",
       " 400 │   928    827      745\n",
       " 401 │   928    827      745\n",
       "\u001b[36m             380 rows omitted\u001b[0m"
      ]
     },
     "execution_count": 10,
     "metadata": {},
     "output_type": "execute_result"
    }
   ],
   "source": [
    "df = get_nums_patches(model, \n",
    "    patch-> patch.color ==cl\"red\", \n",
    "    patch-> patch.color ==cl\"green\", \n",
    "    patch-> patch.color ==cl\"blue\", labels=[\"rock\",\"paper\",\"scissor\"], plot_result=true)"
   ]
  },
  {
   "cell_type": "code",
   "execution_count": null,
   "metadata": {},
   "outputs": [],
   "source": []
  }
 ],
 "metadata": {
  "@webio": {
   "lastCommId": "7eb18fc9e3214db182d48a315834d30b",
   "lastKernelId": "df4f3bfa-f9b3-495e-af47-b543821fd1ae"
  },
  "kernelspec": {
   "display_name": "Julia 1.9.2",
   "language": "julia",
   "name": "julia-1.9"
  },
  "language_info": {
   "file_extension": ".jl",
   "mimetype": "application/julia",
   "name": "julia",
   "version": "1.9.2"
  }
 },
 "nbformat": 4,
 "nbformat_minor": 4
}
