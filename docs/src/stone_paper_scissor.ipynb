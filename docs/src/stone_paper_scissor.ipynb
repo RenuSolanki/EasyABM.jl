{
 "cells": [
  {
   "cell_type": "markdown",
   "metadata": {},
   "source": [
    "# Rock Paper Scissor"
   ]
  },
  {
   "cell_type": "code",
   "execution_count": 1,
   "metadata": {},
   "outputs": [
    {
     "name": "stderr",
     "output_type": "stream",
     "text": [
      "\u001b[32m\u001b[1m  Activating\u001b[22m\u001b[39m project at `~/Documents/EasyABM`\n"
     ]
    },
    {
     "data": {
      "application/vnd.webio.node+json": {
       "children": [],
       "instanceArgs": {
        "namespace": "html",
        "tag": "div"
       },
       "nodeType": "DOM",
       "props": {},
       "type": "node"
      },
      "text/html": [
       "<div style=\"padding: 1em; background-color: #f8d6da; border: 1px solid #f5c6cb; font-weight: bold;\">\n",
       "<p>The WebIO Jupyter extension was not detected. See the\n",
       "<a href=\"https://juliagizmos.github.io/WebIO.jl/latest/providers/ijulia/\" target=\"_blank\">\n",
       "    WebIO Jupyter integration documentation\n",
       "</a>\n",
       "for more information.\n",
       "</div>\n"
      ],
      "text/plain": [
       "WebIO._IJuliaInit()"
      ]
     },
     "metadata": {
      "application/vnd.webio.node+json": {
       "kernelId": "6d1b3570-a7ef-49c7-ae4c-ba8623b7bb5f"
      }
     },
     "output_type": "display_data"
    }
   ],
   "source": [
    "using Pkg, Revise\n",
    "Pkg.activate(joinpath(@__DIR__, \"../..\"))\n",
    "using EasyABM"
   ]
  },
  {
   "cell_type": "markdown",
   "metadata": {},
   "source": [
    "## Step 1: Create Model\n",
    "\n",
    "In this model, we work with patches only. We set `grid_size` to (50,50), set `space_type` to Periodic and define an additional model parameter `threshold` whose value is set to 3. "
   ]
  },
  {
   "cell_type": "code",
   "execution_count": 2,
   "metadata": {},
   "outputs": [
    {
     "data": {
      "text/plain": [
       "EasyABM SpaceModel2D{Static, Int64, NPeriodic}: In a Static model number of agents is fixed.\n"
      ]
     },
     "execution_count": 2,
     "metadata": {},
     "output_type": "execute_result"
    }
   ],
   "source": [
    "model = create_2d_model(size = (50,50), space_type=Periodic, threshold = 3)"
   ]
  },
  {
   "cell_type": "markdown",
   "metadata": {},
   "source": [
    "## Step 2: Initialise the model\n",
    "\n",
    "In the second step we initialise the patches by defining `initialiser!` function and sending it as an argument to `init_model!`. In the `initialiser!` function we randomly assign `cl\"red\"` (for stone), `cl\"green\"` (for paper) and `cl\"blue\"` (for scissor) color to patches. Then we initialise the model using `init_model!` function, in which through the argument `props_to_record`, we tell EasyABM to record the `:color` property of patches during time evolution. Note that, in EasyABM animations are created with the recorded data, therefore if in the present model, the color of patches is not recorded there will be no animation to see. "
   ]
  },
  {
   "cell_type": "code",
   "execution_count": 3,
   "metadata": {},
   "outputs": [],
   "source": [
    "function initialiser!(model)\n",
    "    for j in 1:model.size[2]\n",
    "        for i in 1:model.size[1]\n",
    "            num = rand()\n",
    "            if num<0.33\n",
    "                model.patches[i,j].color = cl\"red\" # stone => red, paper => green, scissor => blue\n",
    "            elseif num>0.66\n",
    "                model.patches[i,j].color = cl\"green\"\n",
    "            else\n",
    "                model.patches[i,j].color = cl\"blue\"\n",
    "            end\n",
    "        end\n",
    "    end\n",
    "end\n",
    "\n",
    "init_model!(model, initialiser = initialiser!, props_to_record = Dict(\"patches\" => Set([:color])))"
   ]
  },
  {
   "cell_type": "markdown",
   "metadata": {},
   "source": [
    "## Step 3: Defining the step_rule! and running the model\n",
    "\n",
    "In this step we define the `step_rule!` function and run the model for 400 steps. The rule of the game is very simple. The `cl\"red\"` color of a patch will change to `cl\"green\"` if number of neighboring patches with color `cl\"green\"` exceeds the threshold( which we set to be 3 in the beginning). Similarly, if a `cl\"green\"` patch finds larger than the threshold number of `cl\"blue\"` patches in its neighborhood, it will change to `cl\"blue\"`, and if a `cl\"blue\"` patch finds larger than threshold number of `cl\"red\"` patches in its neighborhood it will change to `cl\"red\"`. Each step of the model consists of 500 Monte-Carlo steps in which a patch is selected at random and the above mentioned rule applied to it. "
   ]
  },
  {
   "cell_type": "code",
   "execution_count": 4,
   "metadata": {
    "scrolled": true
   },
   "outputs": [
    {
     "data": {
      "text/plain": [
       "Dict{Col, Col} with 3 entries:\n",
       "  RGBA{N0f8}(0.0,0.0,1.0,1.0… => RGBA{N0f8}(1.0,0.0,0.0,1.0)…\n",
       "  RGBA{N0f8}(0.0,1.0,0.0,1.0… => RGBA{N0f8}(0.0,0.0,1.0,1.0)…\n",
       "  RGBA{N0f8}(1.0,0.0,0.0,1.0… => RGBA{N0f8}(0.0,1.0,0.0,1.0)…"
      ]
     },
     "execution_count": 4,
     "metadata": {},
     "output_type": "execute_result"
    }
   ],
   "source": [
    "const who_wins_against = Dict(cl\"red\" => cl\"green\", cl\"green\" => cl\"blue\", cl\"blue\" => cl\"red\")"
   ]
  },
  {
   "cell_type": "code",
   "execution_count": 5,
   "metadata": {},
   "outputs": [
    {
     "data": {
      "text/plain": [
       "step_rule! (generic function with 1 method)"
      ]
     },
     "execution_count": 5,
     "metadata": {},
     "output_type": "execute_result"
    }
   ],
   "source": [
    "function step_rule!(model)\n",
    "    for _ in 1:500\n",
    "        i = rand(1:model.size[1])\n",
    "        j = rand(1:model.size[2])\n",
    "        nbr_patches = neighbor_patches((i,j), model, 1)\n",
    "        col = model.patches[i,j].color\n",
    "        winner_col = who_wins_against[col]\n",
    "        count = 0 \n",
    "        for patch in nbr_patches\n",
    "            if model.patches[patch...].color == winner_col\n",
    "                count+=1\n",
    "            end\n",
    "        end\n",
    "        if count > model.parameters.threshold\n",
    "            model.patches[i,j].color = winner_col\n",
    "        end\n",
    "    end\n",
    "end"
   ]
  },
  {
   "cell_type": "code",
   "execution_count": 23,
   "metadata": {},
   "outputs": [],
   "source": [
    "run_model!(model, steps = 400, step_rule = step_rule!)"
   ]
  },
  {
   "cell_type": "markdown",
   "metadata": {},
   "source": [
    "## Step 4: Visualisation"
   ]
  },
  {
   "cell_type": "markdown",
   "metadata": {},
   "source": [
    "In order to draw the model at a specific frame, say 4th, one can use"
   ]
  },
  {
   "cell_type": "code",
   "execution_count": 7,
   "metadata": {
    "scrolled": true
   },
   "outputs": [
    {
     "data": {
      "image/png": "[encoded data removed]",
      "text/plain": []
     },
     "execution_count": 7,
     "metadata": {},
     "output_type": "execute_result"
    }
   ],
   "source": [
    "draw_frame(model, frame = 4, show_grid=true)"
   ]
  },
  {
   "cell_type": "markdown",
   "metadata": {},
   "source": [
    "If one wants to see the animation of the model run, it can be done as "
   ]
  },
  {
   "cell_type": "code",
   "execution_count": 18,
   "metadata": {},
   "outputs": [
    {
     "data": {
      "application/vnd.webio.node+json": {
       "children": [
        {
         "children": [
          {
           "children": [
            {
             "children": [
              {
               "children": [
                {
                 "children": [
                  {
                   "children": [
                    {
                     "children": [
                      "time"
                     ],
                     "instanceArgs": {
                      "namespace": "html",
                      "tag": "label"
                     },
                     "nodeType": "DOM",
                     "props": {
                      "className": "interact ",
                      "style": {
                       "padding": "5px 10px 0px 10px"
                      }
                     },
                     "type": "node"
                    }
                   ],
                   "instanceArgs": {
                    "namespace": "html",
                    "tag": "div"
                   },
                   "nodeType": "DOM",
                   "props": {
                    "className": "interact-flex-row-left"
                   },
                   "type": "node"
                  },
                  {
                   "children": [
                    {
                     "children": [],
                     "instanceArgs": {
                      "namespace": "html",
                      "tag": "input"
                     },
                     "nodeType": "DOM",
                     "props": {
                      "attributes": {
                       "data-bind": "numericValue: index, valueUpdate: 'input', event: {change: function (){this.changes(this.changes()+1)}}",
                       "orient": "horizontal",
                       "type": "range"
                      },
                      "className": "slider slider is-fullwidth",
                      "max": 401,
                      "min": 1,
                      "step": 1,
                      "style": {}
                     },
                     "type": "node"
                    }
                   ],
                   "instanceArgs": {
                    "namespace": "html",
                    "tag": "div"
                   },
                   "nodeType": "DOM",
                   "props": {
                    "className": "interact-flex-row-center"
                   },
                   "type": "node"
                  },
                  {
                   "children": [
                    {
                     "children": [],
                     "instanceArgs": {
                      "namespace": "html",
                      "tag": "p"
                     },
                     "nodeType": "DOM",
                     "props": {
                      "attributes": {
                       "data-bind": "text: formatted_val"
                      }
                     },
                     "type": "node"
                    }
                   ],
                   "instanceArgs": {
                    "namespace": "html",
                    "tag": "div"
                   },
                   "nodeType": "DOM",
                   "props": {
                    "className": "interact-flex-row-right"
                   },
                   "type": "node"
                  }
                 ],
                 "instanceArgs": {
                  "namespace": "html",
                  "tag": "div"
                 },
                 "nodeType": "DOM",
                 "props": {
                  "className": "interact-flex-row interact-widget"
                 },
                 "type": "node"
                }
               ],
               "instanceArgs": {
                "handlers": {
                 "changes": [
                  "(function (val){return (val!=this.model[\"changes\"]()) ? (this.valueFromJulia[\"changes\"]=true, this.model[\"changes\"](val)) : undefined})"
                 ],
                 "index": [
                  "(function (val){return (val!=this.model[\"index\"]()) ? (this.valueFromJulia[\"index\"]=true, this.model[\"index\"](val)) : undefined})"
                 ]
                },
                "id": "2485224877667171834",
                "imports": {
                 "data": [
                  {
                   "name": "knockout",
                   "type": "js",
                   "url": "/assetserver/727383f2a47bd31570b7da84eee7b022dd6d7c78-knockout.js"
                  },
                  {
                   "name": "knockout_punches",
                   "type": "js",
                   "url": "/assetserver/382b41b3b1bd9f26f75861d360bad7f8beea211f-knockout_punches.js"
                  },
                  {
                   "name": null,
                   "type": "js",
                   "url": "/assetserver/5ab20f1060420992a9b82a65b735dee4d81ef413-all.js"
                  },
                  {
                   "name": null,
                   "type": "css",
                   "url": "/assetserver/1cc0ed62837210b80a182cc3676512f895dab686-style.css"
                  },
                  {
                   "name": null,
                   "type": "css",
                   "url": "/assetserver/2eee816f616df3549d7044d45e744fbf8d42bfa1-bulma_confined.min.css"
                  }
                 ],
                 "type": "async_block"
                },
                "mount_callbacks": [
                 "function () {\n    var handler = (function (ko, koPunches) {\n    ko.punches.enableAll();\n    ko.bindingHandlers.numericValue = {\n        init: function(element, valueAccessor, allBindings, data, context) {\n            var stringified = ko.observable(ko.unwrap(valueAccessor()));\n            stringified.subscribe(function(value) {\n                var val = parseFloat(value);\n                if (!isNaN(val)) {\n                    valueAccessor()(val);\n                }\n            });\n            valueAccessor().subscribe(function(value) {\n                var str = JSON.stringify(value);\n                if ((str == \"0\") && ([\"-0\", \"-0.\"].indexOf(stringified()) >= 0))\n                     return;\n                 if ([\"null\", \"\"].indexOf(str) >= 0)\n                     return;\n                stringified(str);\n            });\n            ko.applyBindingsToNode(\n                element,\n                {\n                    value: stringified,\n                    valueUpdate: allBindings.get('valueUpdate'),\n                },\n                context,\n            );\n        }\n    };\n    var json_data = {\"formatted_vals\":[\"1\",\"2\",\"3\",\"4\",\"5\",\"6\",\"7\",\"8\",\"9\",\"10\",\"11\",\"12\",\"13\",\"14\",\"15\",\"16\",\"17\",\"18\",\"19\",\"20\",\"21\",\"22\",\"23\",\"24\",\"25\",\"26\",\"27\",\"28\",\"29\",\"30\",\"31\",\"32\",\"33\",\"34\",\"35\",\"36\",\"37\",\"38\",\"39\",\"40\",\"41\",\"42\",\"43\",\"44\",\"45\",\"46\",\"47\",\"48\",\"49\",\"50\",\"51\",\"52\",\"53\",\"54\",\"55\",\"56\",\"57\",\"58\",\"59\",\"60\",\"61\",\"62\",\"63\",\"64\",\"65\",\"66\",\"67\",\"68\",\"69\",\"70\",\"71\",\"72\",\"73\",\"74\",\"75\",\"76\",\"77\",\"78\",\"79\",\"80\",\"81\",\"82\",\"83\",\"84\",\"85\",\"86\",\"87\",\"88\",\"89\",\"90\",\"91\",\"92\",\"93\",\"94\",\"95\",\"96\",\"97\",\"98\",\"99\",\"100\",\"101\",\"102\",\"103\",\"104\",\"105\",\"106\",\"107\",\"108\",\"109\",\"110\",\"111\",\"112\",\"113\",\"114\",\"115\",\"116\",\"117\",\"118\",\"119\",\"120\",\"121\",\"122\",\"123\",\"124\",\"125\",\"126\",\"127\",\"128\",\"129\",\"130\",\"131\",\"132\",\"133\",\"134\",\"135\",\"136\",\"137\",\"138\",\"139\",\"140\",\"141\",\"142\",\"143\",\"144\",\"145\",\"146\",\"147\",\"148\",\"149\",\"150\",\"151\",\"152\",\"153\",\"154\",\"155\",\"156\",\"157\",\"158\",\"159\",\"160\",\"161\",\"162\",\"163\",\"164\",\"165\",\"166\",\"167\",\"168\",\"169\",\"170\",\"171\",\"172\",\"173\",\"174\",\"175\",\"176\",\"177\",\"178\",\"179\",\"180\",\"181\",\"182\",\"183\",\"184\",\"185\",\"186\",\"187\",\"188\",\"189\",\"190\",\"191\",\"192\",\"193\",\"194\",\"195\",\"196\",\"197\",\"198\",\"199\",\"200\",\"201\",\"202\",\"203\",\"204\",\"205\",\"206\",\"207\",\"208\",\"209\",\"210\",\"211\",\"212\",\"213\",\"214\",\"215\",\"216\",\"217\",\"218\",\"219\",\"220\",\"221\",\"222\",\"223\",\"224\",\"225\",\"226\",\"227\",\"228\",\"229\",\"230\",\"231\",\"232\",\"233\",\"234\",\"235\",\"236\",\"237\",\"238\",\"239\",\"240\",\"241\",\"242\",\"243\",\"244\",\"245\",\"246\",\"247\",\"248\",\"249\",\"250\",\"251\",\"252\",\"253\",\"254\",\"255\",\"256\",\"257\",\"258\",\"259\",\"260\",\"261\",\"262\",\"263\",\"264\",\"265\",\"266\",\"267\",\"268\",\"269\",\"270\",\"271\",\"272\",\"273\",\"274\",\"275\",\"276\",\"277\",\"278\",\"279\",\"280\",\"281\",\"282\",\"283\",\"284\",\"285\",\"286\",\"287\",\"288\",\"289\",\"290\",\"291\",\"292\",\"293\",\"294\",\"295\",\"296\",\"297\",\"298\",\"299\",\"300\",\"301\",\"302\",\"303\",\"304\",\"305\",\"306\",\"307\",\"308\",\"309\",\"310\",\"311\",\"312\",\"313\",\"314\",\"315\",\"316\",\"317\",\"318\",\"319\",\"320\",\"321\",\"322\",\"323\",\"324\",\"325\",\"326\",\"327\",\"328\",\"329\",\"330\",\"331\",\"332\",\"333\",\"334\",\"335\",\"336\",\"337\",\"338\",\"339\",\"340\",\"341\",\"342\",\"343\",\"344\",\"345\",\"346\",\"347\",\"348\",\"349\",\"350\",\"351\",\"352\",\"353\",\"354\",\"355\",\"356\",\"357\",\"358\",\"359\",\"360\",\"361\",\"362\",\"363\",\"364\",\"365\",\"366\",\"367\",\"368\",\"369\",\"370\",\"371\",\"372\",\"373\",\"374\",\"375\",\"376\",\"377\",\"378\",\"379\",\"380\",\"381\",\"382\",\"383\",\"384\",\"385\",\"386\",\"387\",\"388\",\"389\",\"390\",\"391\",\"392\",\"393\",\"394\",\"395\",\"396\",\"397\",\"398\",\"399\",\"400\",\"401\"],\"changes\":WebIO.getval({\"name\":\"changes\",\"scope\":\"2485224877667171834\",\"id\":\"1047025674085741737\",\"type\":\"observable\"}),\"index\":WebIO.getval({\"name\":\"index\",\"scope\":\"2485224877667171834\",\"id\":\"195515522840125728\",\"type\":\"observable\"})};\n    var self = this;\n    function AppViewModel() {\n        for (var key in json_data) {\n            var el = json_data[key];\n            this[key] = Array.isArray(el) ? ko.observableArray(el) : ko.observable(el);\n        }\n        \n        [this[\"formatted_val\"]=ko.computed(    function(){\n        return this.formatted_vals()[parseInt(this.index())-(1)];\n    }\n,this)]\n        [this[\"changes\"].subscribe((function (val){!(this.valueFromJulia[\"changes\"]) ? (WebIO.setval({\"name\":\"changes\",\"scope\":\"2485224877667171834\",\"id\":\"1047025674085741737\",\"type\":\"observable\"},val)) : undefined; return this.valueFromJulia[\"changes\"]=false}),self),this[\"index\"].subscribe((function (val){!(this.valueFromJulia[\"index\"]) ? (WebIO.setval({\"name\":\"index\",\"scope\":\"2485224877667171834\",\"id\":\"195515522840125728\",\"type\":\"observable\"},val)) : undefined; return this.valueFromJulia[\"index\"]=false}),self)]\n        \n    }\n    self.model = new AppViewModel();\n    self.valueFromJulia = {};\n    for (var key in json_data) {\n        self.valueFromJulia[key] = false;\n    }\n    ko.applyBindings(self.model, self.dom);\n}\n);\n    (WebIO.importBlock({\"data\":[{\"name\":\"knockout\",\"type\":\"js\",\"url\":\"/assetserver/727383f2a47bd31570b7da84eee7b022dd6d7c78-knockout.js\"},{\"name\":\"knockout_punches\",\"type\":\"js\",\"url\":\"/assetserver/382b41b3b1bd9f26f75861d360bad7f8beea211f-knockout_punches.js\"}],\"type\":\"async_block\"})).then((imports) => handler.apply(this, imports));\n}\n"
                ],
                "observables": {
                 "changes": {
                  "id": "1047025674085741737",
                  "sync": false,
                  "value": 0
                 },
                 "index": {
                  "id": "195515522840125728",
                  "sync": true,
                  "value": 201
                 }
                },
                "systemjs_options": null
               },
               "nodeType": "Scope",
               "props": {},
               "type": "node"
              }
             ],
             "instanceArgs": {
              "namespace": "html",
              "tag": "div"
             },
             "nodeType": "DOM",
             "props": {
              "className": "field interact-widget"
             },
             "type": "node"
            },
            {
             "children": [
              {
               "children": [
                {
                 "children": [
                  {
                   "children": [
                    {
                     "children": [
                      "scale"
                     ],
                     "instanceArgs": {
                      "namespace": "html",
                      "tag": "label"
                     },
                     "nodeType": "DOM",
                     "props": {
                      "className": "interact ",
                      "style": {
                       "padding": "5px 10px 0px 10px"
                      }
                     },
                     "type": "node"
                    }
                   ],
                   "instanceArgs": {
                    "namespace": "html",
                    "tag": "div"
                   },
                   "nodeType": "DOM",
                   "props": {
                    "className": "interact-flex-row-left"
                   },
                   "type": "node"
                  },
                  {
                   "children": [
                    {
                     "children": [],
                     "instanceArgs": {
                      "namespace": "html",
                      "tag": "input"
                     },
                     "nodeType": "DOM",
                     "props": {
                      "attributes": {
                       "data-bind": "numericValue: index, valueUpdate: 'input', event: {change: function (){this.changes(this.changes()+1)}}",
                       "orient": "horizontal",
                       "type": "range"
                      },
                      "className": "slider slider is-fullwidth",
                      "max": 20,
                      "min": 1,
                      "step": 1,
                      "style": {}
                     },
                     "type": "node"
                    }
                   ],
                   "instanceArgs": {
                    "namespace": "html",
                    "tag": "div"
                   },
                   "nodeType": "DOM",
                   "props": {
                    "className": "interact-flex-row-center"
                   },
                   "type": "node"
                  },
                  {
                   "children": [
                    {
                     "children": [],
                     "instanceArgs": {
                      "namespace": "html",
                      "tag": "p"
                     },
                     "nodeType": "DOM",
                     "props": {
                      "attributes": {
                       "data-bind": "text: formatted_val"
                      }
                     },
                     "type": "node"
                    }
                   ],
                   "instanceArgs": {
                    "namespace": "html",
                    "tag": "div"
                   },
                   "nodeType": "DOM",
                   "props": {
                    "className": "interact-flex-row-right"
                   },
                   "type": "node"
                  }
                 ],
                 "instanceArgs": {
                  "namespace": "html",
                  "tag": "div"
                 },
                 "nodeType": "DOM",
                 "props": {
                  "className": "interact-flex-row interact-widget"
                 },
                 "type": "node"
                }
               ],
               "instanceArgs": {
                "handlers": {
                 "changes": [
                  "(function (val){return (val!=this.model[\"changes\"]()) ? (this.valueFromJulia[\"changes\"]=true, this.model[\"changes\"](val)) : undefined})"
                 ],
                 "index": [
                  "(function (val){return (val!=this.model[\"index\"]()) ? (this.valueFromJulia[\"index\"]=true, this.model[\"index\"](val)) : undefined})"
                 ]
                },
                "id": "1663298553511982820",
                "imports": {
                 "data": [
                  {
                   "name": "knockout",
                   "type": "js",
                   "url": "/assetserver/727383f2a47bd31570b7da84eee7b022dd6d7c78-knockout.js"
                  },
                  {
                   "name": "knockout_punches",
                   "type": "js",
                   "url": "/assetserver/382b41b3b1bd9f26f75861d360bad7f8beea211f-knockout_punches.js"
                  },
                  {
                   "name": null,
                   "type": "js",
                   "url": "/assetserver/5ab20f1060420992a9b82a65b735dee4d81ef413-all.js"
                  },
                  {
                   "name": null,
                   "type": "css",
                   "url": "/assetserver/1cc0ed62837210b80a182cc3676512f895dab686-style.css"
                  },
                  {
                   "name": null,
                   "type": "css",
                   "url": "/assetserver/2eee816f616df3549d7044d45e744fbf8d42bfa1-bulma_confined.min.css"
                  }
                 ],
                 "type": "async_block"
                },
                "mount_callbacks": [
                 "function () {\n    var handler = (function (ko, koPunches) {\n    ko.punches.enableAll();\n    ko.bindingHandlers.numericValue = {\n        init: function(element, valueAccessor, allBindings, data, context) {\n            var stringified = ko.observable(ko.unwrap(valueAccessor()));\n            stringified.subscribe(function(value) {\n                var val = parseFloat(value);\n                if (!isNaN(val)) {\n                    valueAccessor()(val);\n                }\n            });\n            valueAccessor().subscribe(function(value) {\n                var str = JSON.stringify(value);\n                if ((str == \"0\") && ([\"-0\", \"-0.\"].indexOf(stringified()) >= 0))\n                     return;\n                 if ([\"null\", \"\"].indexOf(str) >= 0)\n                     return;\n                stringified(str);\n            });\n            ko.applyBindingsToNode(\n                element,\n                {\n                    value: stringified,\n                    valueUpdate: allBindings.get('valueUpdate'),\n                },\n                context,\n            );\n        }\n    };\n    var json_data = {\"formatted_vals\":[\"0.1\",\"0.2\",\"0.3\",\"0.4\",\"0.5\",\"0.6\",\"0.7\",\"0.8\",\"0.9\",\"1.0\",\"1.1\",\"1.2\",\"1.3\",\"1.4\",\"1.5\",\"1.6\",\"1.7\",\"1.8\",\"1.9\",\"2.0\"],\"changes\":WebIO.getval({\"name\":\"changes\",\"scope\":\"1663298553511982820\",\"id\":\"4986575982122628196\",\"type\":\"observable\"}),\"index\":WebIO.getval({\"name\":\"index\",\"scope\":\"1663298553511982820\",\"id\":\"12281700112415587488\",\"type\":\"observable\"})};\n    var self = this;\n    function AppViewModel() {\n        for (var key in json_data) {\n            var el = json_data[key];\n            this[key] = Array.isArray(el) ? ko.observableArray(el) : ko.observable(el);\n        }\n        \n        [this[\"formatted_val\"]=ko.computed(    function(){\n        return this.formatted_vals()[parseInt(this.index())-(1)];\n    }\n,this)]\n        [this[\"changes\"].subscribe((function (val){!(this.valueFromJulia[\"changes\"]) ? (WebIO.setval({\"name\":\"changes\",\"scope\":\"1663298553511982820\",\"id\":\"4986575982122628196\",\"type\":\"observable\"},val)) : undefined; return this.valueFromJulia[\"changes\"]=false}),self),this[\"index\"].subscribe((function (val){!(this.valueFromJulia[\"index\"]) ? (WebIO.setval({\"name\":\"index\",\"scope\":\"1663298553511982820\",\"id\":\"12281700112415587488\",\"type\":\"observable\"},val)) : undefined; return this.valueFromJulia[\"index\"]=false}),self)]\n        \n    }\n    self.model = new AppViewModel();\n    self.valueFromJulia = {};\n    for (var key in json_data) {\n        self.valueFromJulia[key] = false;\n    }\n    ko.applyBindings(self.model, self.dom);\n}\n);\n    (WebIO.importBlock({\"data\":[{\"name\":\"knockout\",\"type\":\"js\",\"url\":\"/assetserver/727383f2a47bd31570b7da84eee7b022dd6d7c78-knockout.js\"},{\"name\":\"knockout_punches\",\"type\":\"js\",\"url\":\"/assetserver/382b41b3b1bd9f26f75861d360bad7f8beea211f-knockout_punches.js\"}],\"type\":\"async_block\"})).then((imports) => handler.apply(this, imports));\n}\n"
                ],
                "observables": {
                 "changes": {
                  "id": "4986575982122628196",
                  "sync": false,
                  "value": 0
                 },
                 "index": {
                  "id": "12281700112415587488",
                  "sync": true,
                  "value": 10
                 }
                },
                "systemjs_options": null
               },
               "nodeType": "Scope",
               "props": {},
               "type": "node"
              }
             ],
             "instanceArgs": {
              "namespace": "html",
              "tag": "div"
             },
             "nodeType": "DOM",
             "props": {
              "className": "field interact-widget"
             },
             "type": "node"
            },
            {
             "children": [
              {
               "children": [
                {
                 "children": [
                  {
                   "children": [],
                   "instanceArgs": {
                    "namespace": "html",
                    "tag": "div"
                   },
                   "nodeType": "DOM",
                   "props": {
                    "id": "container"
                   },
                   "type": "node"
                  }
                 ],
                 "instanceArgs": {
                  "handlers": {
                   "value": [
                    "(function (txt){return this.k.render(txt,this.container)})"
                   ]
                  },
                  "id": "6550857876442986461",
                  "imports": {
                   "data": [
                    {
                     "name": null,
                     "type": "js",
                     "url": "/assetserver/dd22ed1bf1896c2748f3fe616ce0b838adc895c1-katex.min.js"
                    },
                    {
                     "name": null,
                     "type": "css",
                     "url": "/assetserver/46517a424aa5e6cffc1360d7e0848b601c584ee3-katex.min.css"
                    }
                   ],
                   "type": "async_block"
                  },
                  "mount_callbacks": [
                   "function () {\n    var handler = ((function (k){this.k=k; this.container=this.dom.querySelector(\"#container\"); return k.render(\"\\\\;\\\\;\",this.container)}));\n    (WebIO.importBlock({\"data\":[{\"name\":null,\"type\":\"js\",\"url\":\"/assetserver/dd22ed1bf1896c2748f3fe616ce0b838adc895c1-katex.min.js\"},{\"name\":null,\"type\":\"css\",\"url\":\"/assetserver/46517a424aa5e6cffc1360d7e0848b601c584ee3-katex.min.css\"}],\"type\":\"async_block\"})).then((imports) => handler.apply(this, imports));\n}\n"
                  ],
                  "observables": {
                   "value": {
                    "id": "17950521410612473134",
                    "sync": false,
                    "value": "\\;\\;"
                   }
                  },
                  "systemjs_options": null
                 },
                 "nodeType": "Scope",
                 "props": {},
                 "type": "node"
                }
               ],
               "instanceArgs": {
                "namespace": "html",
                "tag": "div"
               },
               "nodeType": "DOM",
               "props": {
                "className": "interact-widget"
               },
               "type": "node"
              },
              {
               "children": [
                {
                 "children": [
                  {
                   "children": [
                    "run"
                   ],
                   "instanceArgs": {
                    "namespace": "html",
                    "tag": "button"
                   },
                   "nodeType": "DOM",
                   "props": {
                    "attributes": {
                     "data-bind": "click: function (){this.clicks(this.clicks()+1)}, css: {'is-loading' : loading}"
                    },
                    "className": "is-medium button is-primary",
                    "style": {}
                   },
                   "type": "node"
                  }
                 ],
                 "instanceArgs": {
                  "handlers": {
                   "clicks": [
                    "(function (val){return (val!=this.model[\"clicks\"]()) ? (this.valueFromJulia[\"clicks\"]=true, this.model[\"clicks\"](val)) : undefined})"
                   ],
                   "loading": [
                    "(function (val){return (val!=this.model[\"loading\"]()) ? (this.valueFromJulia[\"loading\"]=true, this.model[\"loading\"](val)) : undefined})"
                   ]
                  },
                  "id": "16094392654078571497",
                  "imports": {
                   "data": [
                    {
                     "name": "knockout",
                     "type": "js",
                     "url": "/assetserver/727383f2a47bd31570b7da84eee7b022dd6d7c78-knockout.js"
                    },
                    {
                     "name": "knockout_punches",
                     "type": "js",
                     "url": "/assetserver/382b41b3b1bd9f26f75861d360bad7f8beea211f-knockout_punches.js"
                    },
                    {
                     "name": null,
                     "type": "js",
                     "url": "/assetserver/5ab20f1060420992a9b82a65b735dee4d81ef413-all.js"
                    },
                    {
                     "name": null,
                     "type": "css",
                     "url": "/assetserver/1cc0ed62837210b80a182cc3676512f895dab686-style.css"
                    },
                    {
                     "name": null,
                     "type": "css",
                     "url": "/assetserver/2eee816f616df3549d7044d45e744fbf8d42bfa1-bulma_confined.min.css"
                    }
                   ],
                   "type": "async_block"
                  },
                  "mount_callbacks": [
                   "function () {\n    var handler = (function (ko, koPunches) {\n    ko.punches.enableAll();\n    ko.bindingHandlers.numericValue = {\n        init: function(element, valueAccessor, allBindings, data, context) {\n            var stringified = ko.observable(ko.unwrap(valueAccessor()));\n            stringified.subscribe(function(value) {\n                var val = parseFloat(value);\n                if (!isNaN(val)) {\n                    valueAccessor()(val);\n                }\n            });\n            valueAccessor().subscribe(function(value) {\n                var str = JSON.stringify(value);\n                if ((str == \"0\") && ([\"-0\", \"-0.\"].indexOf(stringified()) >= 0))\n                     return;\n                 if ([\"null\", \"\"].indexOf(str) >= 0)\n                     return;\n                stringified(str);\n            });\n            ko.applyBindingsToNode(\n                element,\n                {\n                    value: stringified,\n                    valueUpdate: allBindings.get('valueUpdate'),\n                },\n                context,\n            );\n        }\n    };\n    var json_data = {\"loading\":WebIO.getval({\"name\":\"loading\",\"scope\":\"16094392654078571497\",\"id\":\"16123032071618749219\",\"type\":\"observable\"}),\"clicks\":WebIO.getval({\"name\":\"clicks\",\"scope\":\"16094392654078571497\",\"id\":\"15315285834829728780\",\"type\":\"observable\"})};\n    var self = this;\n    function AppViewModel() {\n        for (var key in json_data) {\n            var el = json_data[key];\n            this[key] = Array.isArray(el) ? ko.observableArray(el) : ko.observable(el);\n        }\n        \n        \n        [this[\"loading\"].subscribe((function (val){!(this.valueFromJulia[\"loading\"]) ? (WebIO.setval({\"name\":\"loading\",\"scope\":\"16094392654078571497\",\"id\":\"16123032071618749219\",\"type\":\"observable\"},val)) : undefined; return this.valueFromJulia[\"loading\"]=false}),self),this[\"clicks\"].subscribe((function (val){!(this.valueFromJulia[\"clicks\"]) ? (WebIO.setval({\"name\":\"clicks\",\"scope\":\"16094392654078571497\",\"id\":\"15315285834829728780\",\"type\":\"observable\"},val)) : undefined; return this.valueFromJulia[\"clicks\"]=false}),self)]\n        \n    }\n    self.model = new AppViewModel();\n    self.valueFromJulia = {};\n    for (var key in json_data) {\n        self.valueFromJulia[key] = false;\n    }\n    ko.applyBindings(self.model, self.dom);\n}\n);\n    (WebIO.importBlock({\"data\":[{\"name\":\"knockout\",\"type\":\"js\",\"url\":\"/assetserver/727383f2a47bd31570b7da84eee7b022dd6d7c78-knockout.js\"},{\"name\":\"knockout_punches\",\"type\":\"js\",\"url\":\"/assetserver/382b41b3b1bd9f26f75861d360bad7f8beea211f-knockout_punches.js\"}],\"type\":\"async_block\"})).then((imports) => handler.apply(this, imports));\n}\n"
                  ],
                  "observables": {
                   "clicks": {
                    "id": "15315285834829728780",
                    "sync": true,
                    "value": 0
                   },
                   "loading": {
                    "id": "16123032071618749219",
                    "sync": false,
                    "value": false
                   }
                  },
                  "systemjs_options": null
                 },
                 "nodeType": "Scope",
                 "props": {},
                 "type": "node"
                }
               ],
               "instanceArgs": {
                "namespace": "html",
                "tag": "div"
               },
               "nodeType": "DOM",
               "props": {
                "className": "field interact-widget"
               },
               "type": "node"
              },
              {
               "children": [
                {
                 "children": [
                  {
                   "children": [],
                   "instanceArgs": {
                    "namespace": "html",
                    "tag": "div"
                   },
                   "nodeType": "DOM",
                   "props": {
                    "id": "container"
                   },
                   "type": "node"
                  }
                 ],
                 "instanceArgs": {
                  "handlers": {
                   "value": [
                    "(function (txt){return this.k.render(txt,this.container)})"
                   ]
                  },
                  "id": "6550857876442986461",
                  "imports": {
                   "data": [
                    {
                     "name": null,
                     "type": "js",
                     "url": "/assetserver/dd22ed1bf1896c2748f3fe616ce0b838adc895c1-katex.min.js"
                    },
                    {
                     "name": null,
                     "type": "css",
                     "url": "/assetserver/46517a424aa5e6cffc1360d7e0848b601c584ee3-katex.min.css"
                    }
                   ],
                   "type": "async_block"
                  },
                  "mount_callbacks": [
                   "function () {\n    var handler = ((function (k){this.k=k; this.container=this.dom.querySelector(\"#container\"); return k.render(\"\\\\;\\\\;\",this.container)}));\n    (WebIO.importBlock({\"data\":[{\"name\":null,\"type\":\"js\",\"url\":\"/assetserver/dd22ed1bf1896c2748f3fe616ce0b838adc895c1-katex.min.js\"},{\"name\":null,\"type\":\"css\",\"url\":\"/assetserver/46517a424aa5e6cffc1360d7e0848b601c584ee3-katex.min.css\"}],\"type\":\"async_block\"})).then((imports) => handler.apply(this, imports));\n}\n"
                  ],
                  "observables": {
                   "value": {
                    "id": "17950521410612473134",
                    "sync": false,
                    "value": "\\;\\;"
                   }
                  },
                  "systemjs_options": null
                 },
                 "nodeType": "Scope",
                 "props": {},
                 "type": "node"
                }
               ],
               "instanceArgs": {
                "namespace": "html",
                "tag": "div"
               },
               "nodeType": "DOM",
               "props": {
                "className": "interact-widget"
               },
               "type": "node"
              },
              {
               "children": [
                {
                 "children": [
                  {
                   "children": [
                    "stop"
                   ],
                   "instanceArgs": {
                    "namespace": "html",
                    "tag": "button"
                   },
                   "nodeType": "DOM",
                   "props": {
                    "attributes": {
                     "data-bind": "click: function (){this.clicks(this.clicks()+1)}, css: {'is-loading' : loading}"
                    },
                    "className": "is-medium button is-primary",
                    "style": {}
                   },
                   "type": "node"
                  }
                 ],
                 "instanceArgs": {
                  "handlers": {
                   "clicks": [
                    "(function (val){return (val!=this.model[\"clicks\"]()) ? (this.valueFromJulia[\"clicks\"]=true, this.model[\"clicks\"](val)) : undefined})"
                   ],
                   "loading": [
                    "(function (val){return (val!=this.model[\"loading\"]()) ? (this.valueFromJulia[\"loading\"]=true, this.model[\"loading\"](val)) : undefined})"
                   ]
                  },
                  "id": "5202949822993549558",
                  "imports": {
                   "data": [
                    {
                     "name": "knockout",
                     "type": "js",
                     "url": "/assetserver/727383f2a47bd31570b7da84eee7b022dd6d7c78-knockout.js"
                    },
                    {
                     "name": "knockout_punches",
                     "type": "js",
                     "url": "/assetserver/382b41b3b1bd9f26f75861d360bad7f8beea211f-knockout_punches.js"
                    },
                    {
                     "name": null,
                     "type": "js",
                     "url": "/assetserver/5ab20f1060420992a9b82a65b735dee4d81ef413-all.js"
                    },
                    {
                     "name": null,
                     "type": "css",
                     "url": "/assetserver/1cc0ed62837210b80a182cc3676512f895dab686-style.css"
                    },
                    {
                     "name": null,
                     "type": "css",
                     "url": "/assetserver/2eee816f616df3549d7044d45e744fbf8d42bfa1-bulma_confined.min.css"
                    }
                   ],
                   "type": "async_block"
                  },
                  "mount_callbacks": [
                   "function () {\n    var handler = (function (ko, koPunches) {\n    ko.punches.enableAll();\n    ko.bindingHandlers.numericValue = {\n        init: function(element, valueAccessor, allBindings, data, context) {\n            var stringified = ko.observable(ko.unwrap(valueAccessor()));\n            stringified.subscribe(function(value) {\n                var val = parseFloat(value);\n                if (!isNaN(val)) {\n                    valueAccessor()(val);\n                }\n            });\n            valueAccessor().subscribe(function(value) {\n                var str = JSON.stringify(value);\n                if ((str == \"0\") && ([\"-0\", \"-0.\"].indexOf(stringified()) >= 0))\n                     return;\n                 if ([\"null\", \"\"].indexOf(str) >= 0)\n                     return;\n                stringified(str);\n            });\n            ko.applyBindingsToNode(\n                element,\n                {\n                    value: stringified,\n                    valueUpdate: allBindings.get('valueUpdate'),\n                },\n                context,\n            );\n        }\n    };\n    var json_data = {\"loading\":WebIO.getval({\"name\":\"loading\",\"scope\":\"5202949822993549558\",\"id\":\"9385128460172696975\",\"type\":\"observable\"}),\"clicks\":WebIO.getval({\"name\":\"clicks\",\"scope\":\"5202949822993549558\",\"id\":\"12162572979585949234\",\"type\":\"observable\"})};\n    var self = this;\n    function AppViewModel() {\n        for (var key in json_data) {\n            var el = json_data[key];\n            this[key] = Array.isArray(el) ? ko.observableArray(el) : ko.observable(el);\n        }\n        \n        \n        [this[\"loading\"].subscribe((function (val){!(this.valueFromJulia[\"loading\"]) ? (WebIO.setval({\"name\":\"loading\",\"scope\":\"5202949822993549558\",\"id\":\"9385128460172696975\",\"type\":\"observable\"},val)) : undefined; return this.valueFromJulia[\"loading\"]=false}),self),this[\"clicks\"].subscribe((function (val){!(this.valueFromJulia[\"clicks\"]) ? (WebIO.setval({\"name\":\"clicks\",\"scope\":\"5202949822993549558\",\"id\":\"12162572979585949234\",\"type\":\"observable\"},val)) : undefined; return this.valueFromJulia[\"clicks\"]=false}),self)]\n        \n    }\n    self.model = new AppViewModel();\n    self.valueFromJulia = {};\n    for (var key in json_data) {\n        self.valueFromJulia[key] = false;\n    }\n    ko.applyBindings(self.model, self.dom);\n}\n);\n    (WebIO.importBlock({\"data\":[{\"name\":\"knockout\",\"type\":\"js\",\"url\":\"/assetserver/727383f2a47bd31570b7da84eee7b022dd6d7c78-knockout.js\"},{\"name\":\"knockout_punches\",\"type\":\"js\",\"url\":\"/assetserver/382b41b3b1bd9f26f75861d360bad7f8beea211f-knockout_punches.js\"}],\"type\":\"async_block\"})).then((imports) => handler.apply(this, imports));\n}\n"
                  ],
                  "observables": {
                   "clicks": {
                    "id": "12162572979585949234",
                    "sync": true,
                    "value": 0
                   },
                   "loading": {
                    "id": "9385128460172696975",
                    "sync": false,
                    "value": false
                   }
                  },
                  "systemjs_options": null
                 },
                 "nodeType": "Scope",
                 "props": {},
                 "type": "node"
                }
               ],
               "instanceArgs": {
                "namespace": "html",
                "tag": "div"
               },
               "nodeType": "DOM",
               "props": {
                "className": "field interact-widget"
               },
               "type": "node"
              },
              {
               "children": [
                {
                 "children": [
                  {
                   "children": [],
                   "instanceArgs": {
                    "namespace": "html",
                    "tag": "div"
                   },
                   "nodeType": "DOM",
                   "props": {
                    "id": "container"
                   },
                   "type": "node"
                  }
                 ],
                 "instanceArgs": {
                  "handlers": {
                   "value": [
                    "(function (txt){return this.k.render(txt,this.container)})"
                   ]
                  },
                  "id": "6550857876442986461",
                  "imports": {
                   "data": [
                    {
                     "name": null,
                     "type": "js",
                     "url": "/assetserver/dd22ed1bf1896c2748f3fe616ce0b838adc895c1-katex.min.js"
                    },
                    {
                     "name": null,
                     "type": "css",
                     "url": "/assetserver/46517a424aa5e6cffc1360d7e0848b601c584ee3-katex.min.css"
                    }
                   ],
                   "type": "async_block"
                  },
                  "mount_callbacks": [
                   "function () {\n    var handler = ((function (k){this.k=k; this.container=this.dom.querySelector(\"#container\"); return k.render(\"\\\\;\\\\;\",this.container)}));\n    (WebIO.importBlock({\"data\":[{\"name\":null,\"type\":\"js\",\"url\":\"/assetserver/dd22ed1bf1896c2748f3fe616ce0b838adc895c1-katex.min.js\"},{\"name\":null,\"type\":\"css\",\"url\":\"/assetserver/46517a424aa5e6cffc1360d7e0848b601c584ee3-katex.min.css\"}],\"type\":\"async_block\"})).then((imports) => handler.apply(this, imports));\n}\n"
                  ],
                  "observables": {
                   "value": {
                    "id": "17950521410612473134",
                    "sync": false,
                    "value": "\\;\\;"
                   }
                  },
                  "systemjs_options": null
                 },
                 "nodeType": "Scope",
                 "props": {},
                 "type": "node"
                }
               ],
               "instanceArgs": {
                "namespace": "html",
                "tag": "div"
               },
               "nodeType": "DOM",
               "props": {
                "className": "interact-widget"
               },
               "type": "node"
              },
              {
               "children": [
                {
                 "children": [
                  {
                   "children": [
                    "save"
                   ],
                   "instanceArgs": {
                    "namespace": "html",
                    "tag": "button"
                   },
                   "nodeType": "DOM",
                   "props": {
                    "attributes": {
                     "data-bind": "click: function (){this.clicks(this.clicks()+1)}, css: {'is-loading' : loading}"
                    },
                    "className": "is-medium button is-primary",
                    "style": {}
                   },
                   "type": "node"
                  }
                 ],
                 "instanceArgs": {
                  "handlers": {
                   "clicks": [
                    "(function (val){return (val!=this.model[\"clicks\"]()) ? (this.valueFromJulia[\"clicks\"]=true, this.model[\"clicks\"](val)) : undefined})"
                   ],
                   "loading": [
                    "(function (val){return (val!=this.model[\"loading\"]()) ? (this.valueFromJulia[\"loading\"]=true, this.model[\"loading\"](val)) : undefined})"
                   ]
                  },
                  "id": "243466683590581112",
                  "imports": {
                   "data": [
                    {
                     "name": "knockout",
                     "type": "js",
                     "url": "/assetserver/727383f2a47bd31570b7da84eee7b022dd6d7c78-knockout.js"
                    },
                    {
                     "name": "knockout_punches",
                     "type": "js",
                     "url": "/assetserver/382b41b3b1bd9f26f75861d360bad7f8beea211f-knockout_punches.js"
                    },
                    {
                     "name": null,
                     "type": "js",
                     "url": "/assetserver/5ab20f1060420992a9b82a65b735dee4d81ef413-all.js"
                    },
                    {
                     "name": null,
                     "type": "css",
                     "url": "/assetserver/1cc0ed62837210b80a182cc3676512f895dab686-style.css"
                    },
                    {
                     "name": null,
                     "type": "css",
                     "url": "/assetserver/2eee816f616df3549d7044d45e744fbf8d42bfa1-bulma_confined.min.css"
                    }
                   ],
                   "type": "async_block"
                  },
                  "mount_callbacks": [
                   "function () {\n    var handler = (function (ko, koPunches) {\n    ko.punches.enableAll();\n    ko.bindingHandlers.numericValue = {\n        init: function(element, valueAccessor, allBindings, data, context) {\n            var stringified = ko.observable(ko.unwrap(valueAccessor()));\n            stringified.subscribe(function(value) {\n                var val = parseFloat(value);\n                if (!isNaN(val)) {\n                    valueAccessor()(val);\n                }\n            });\n            valueAccessor().subscribe(function(value) {\n                var str = JSON.stringify(value);\n                if ((str == \"0\") && ([\"-0\", \"-0.\"].indexOf(stringified()) >= 0))\n                     return;\n                 if ([\"null\", \"\"].indexOf(str) >= 0)\n                     return;\n                stringified(str);\n            });\n            ko.applyBindingsToNode(\n                element,\n                {\n                    value: stringified,\n                    valueUpdate: allBindings.get('valueUpdate'),\n                },\n                context,\n            );\n        }\n    };\n    var json_data = {\"loading\":WebIO.getval({\"name\":\"loading\",\"scope\":\"243466683590581112\",\"id\":\"6015175549112807085\",\"type\":\"observable\"}),\"clicks\":WebIO.getval({\"name\":\"clicks\",\"scope\":\"243466683590581112\",\"id\":\"6803415756984090528\",\"type\":\"observable\"})};\n    var self = this;\n    function AppViewModel() {\n        for (var key in json_data) {\n            var el = json_data[key];\n            this[key] = Array.isArray(el) ? ko.observableArray(el) : ko.observable(el);\n        }\n        \n        \n        [this[\"loading\"].subscribe((function (val){!(this.valueFromJulia[\"loading\"]) ? (WebIO.setval({\"name\":\"loading\",\"scope\":\"243466683590581112\",\"id\":\"6015175549112807085\",\"type\":\"observable\"},val)) : undefined; return this.valueFromJulia[\"loading\"]=false}),self),this[\"clicks\"].subscribe((function (val){!(this.valueFromJulia[\"clicks\"]) ? (WebIO.setval({\"name\":\"clicks\",\"scope\":\"243466683590581112\",\"id\":\"6803415756984090528\",\"type\":\"observable\"},val)) : undefined; return this.valueFromJulia[\"clicks\"]=false}),self)]\n        \n    }\n    self.model = new AppViewModel();\n    self.valueFromJulia = {};\n    for (var key in json_data) {\n        self.valueFromJulia[key] = false;\n    }\n    ko.applyBindings(self.model, self.dom);\n}\n);\n    (WebIO.importBlock({\"data\":[{\"name\":\"knockout\",\"type\":\"js\",\"url\":\"/assetserver/727383f2a47bd31570b7da84eee7b022dd6d7c78-knockout.js\"},{\"name\":\"knockout_punches\",\"type\":\"js\",\"url\":\"/assetserver/382b41b3b1bd9f26f75861d360bad7f8beea211f-knockout_punches.js\"}],\"type\":\"async_block\"})).then((imports) => handler.apply(this, imports));\n}\n"
                  ],
                  "observables": {
                   "clicks": {
                    "id": "6803415756984090528",
                    "sync": true,
                    "value": 0
                   },
                   "loading": {
                    "id": "6015175549112807085",
                    "sync": false,
                    "value": false
                   }
                  },
                  "systemjs_options": null
                 },
                 "nodeType": "Scope",
                 "props": {},
                 "type": "node"
                }
               ],
               "instanceArgs": {
                "namespace": "html",
                "tag": "div"
               },
               "nodeType": "DOM",
               "props": {
                "className": "field interact-widget"
               },
               "type": "node"
              }
             ],
             "instanceArgs": {
              "namespace": "html",
              "tag": "div"
             },
             "nodeType": "DOM",
             "props": {
              "style": {
               "display": "flex",
               "flex-direction": "row"
              }
             },
             "type": "node"
            }
           ],
           "instanceArgs": {
            "namespace": "html",
            "tag": "div"
           },
           "nodeType": "DOM",
           "props": {
            "style": {
             "display": "flex",
             "flex-direction": "column"
            }
           },
           "type": "node"
          },
          {
           "children": [
            {
             "children": [
              {
               "children": [],
               "instanceArgs": {
                "namespace": "html",
                "tag": "div"
               },
               "nodeType": "DOM",
               "props": {
                "id": "container"
               },
               "type": "node"
              }
             ],
             "instanceArgs": {
              "handlers": {
               "value": [
                "(function (txt){return this.k.render(txt,this.container)})"
               ]
              },
              "id": "6550857876442986461",
              "imports": {
               "data": [
                {
                 "name": null,
                 "type": "js",
                 "url": "/assetserver/dd22ed1bf1896c2748f3fe616ce0b838adc895c1-katex.min.js"
                },
                {
                 "name": null,
                 "type": "css",
                 "url": "/assetserver/46517a424aa5e6cffc1360d7e0848b601c584ee3-katex.min.css"
                }
               ],
               "type": "async_block"
              },
              "mount_callbacks": [
               "function () {\n    var handler = ((function (k){this.k=k; this.container=this.dom.querySelector(\"#container\"); return k.render(\"\\\\;\\\\;\",this.container)}));\n    (WebIO.importBlock({\"data\":[{\"name\":null,\"type\":\"js\",\"url\":\"/assetserver/dd22ed1bf1896c2748f3fe616ce0b838adc895c1-katex.min.js\"},{\"name\":null,\"type\":\"css\",\"url\":\"/assetserver/46517a424aa5e6cffc1360d7e0848b601c584ee3-katex.min.css\"}],\"type\":\"async_block\"})).then((imports) => handler.apply(this, imports));\n}\n"
              ],
              "observables": {
               "value": {
                "id": "17950521410612473134",
                "sync": false,
                "value": "\\;\\;"
               }
              },
              "systemjs_options": null
             },
             "nodeType": "Scope",
             "props": {},
             "type": "node"
            }
           ],
           "instanceArgs": {
            "namespace": "html",
            "tag": "div"
           },
           "nodeType": "DOM",
           "props": {
            "className": "interact-widget"
           },
           "type": "node"
          },
          {
           "children": [
            {
             "children": [],
             "instanceArgs": {
              "namespace": "html",
              "tag": "div"
             },
             "nodeType": "DOM",
             "props": {
              "className": "webio-observable",
              "setInnerHtml": "<img src='data:image/png;base64,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'></img>"
             },
             "type": "node"
            }
           ],
           "instanceArgs": {
            "handlers": {
             "obs-output": [
              "function (value, scope) {\n    scope.setInnerHTML(value);\n}\n"
             ]
            },
            "id": "8133633285160191059",
            "imports": {
             "data": [],
             "type": "async_block"
            },
            "mount_callbacks": [],
            "observables": {
             "obs-output": {
              "id": "7963837219919893668",
              "sync": false,
              "value": "<img src='data:image/png;base64,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'></img>"
             }
            },
            "systemjs_options": null
           },
           "nodeType": "Scope",
           "props": {},
           "type": "node"
          },
          {
           "children": [
            {
             "children": [
              {
               "children": [],
               "instanceArgs": {
                "namespace": "html",
                "tag": "div"
               },
               "nodeType": "DOM",
               "props": {
                "id": "container"
               },
               "type": "node"
              }
             ],
             "instanceArgs": {
              "handlers": {
               "value": [
                "(function (txt){return this.k.render(txt,this.container)})"
               ]
              },
              "id": "6550857876442986461",
              "imports": {
               "data": [
                {
                 "name": null,
                 "type": "js",
                 "url": "/assetserver/dd22ed1bf1896c2748f3fe616ce0b838adc895c1-katex.min.js"
                },
                {
                 "name": null,
                 "type": "css",
                 "url": "/assetserver/46517a424aa5e6cffc1360d7e0848b601c584ee3-katex.min.css"
                }
               ],
               "type": "async_block"
              },
              "mount_callbacks": [
               "function () {\n    var handler = ((function (k){this.k=k; this.container=this.dom.querySelector(\"#container\"); return k.render(\"\\\\;\\\\;\",this.container)}));\n    (WebIO.importBlock({\"data\":[{\"name\":null,\"type\":\"js\",\"url\":\"/assetserver/dd22ed1bf1896c2748f3fe616ce0b838adc895c1-katex.min.js\"},{\"name\":null,\"type\":\"css\",\"url\":\"/assetserver/46517a424aa5e6cffc1360d7e0848b601c584ee3-katex.min.css\"}],\"type\":\"async_block\"})).then((imports) => handler.apply(this, imports));\n}\n"
              ],
              "observables": {
               "value": {
                "id": "17950521410612473134",
                "sync": false,
                "value": "\\;\\;"
               }
              },
              "systemjs_options": null
             },
             "nodeType": "Scope",
             "props": {},
             "type": "node"
            }
           ],
           "instanceArgs": {
            "namespace": "html",
            "tag": "div"
           },
           "nodeType": "DOM",
           "props": {
            "className": "interact-widget"
           },
           "type": "node"
          },
          {
           "children": [],
           "instanceArgs": {
            "namespace": "html",
            "tag": "div"
           },
           "nodeType": "DOM",
           "props": {
            "style": {
             "display": "flex",
             "flex-direction": "column"
            }
           },
           "type": "node"
          }
         ],
         "instanceArgs": {
          "namespace": "html",
          "tag": "div"
         },
         "nodeType": "DOM",
         "props": {
          "style": {
           "display": "flex",
           "flex-direction": "row"
          }
         },
         "type": "node"
        }
       ],
       "instanceArgs": {
        "namespace": "html",
        "tag": "div"
       },
       "nodeType": "DOM",
       "props": {
        "style": {
         "display": "flex",
         "flex-direction": "column"
        }
       },
       "type": "node"
      },
      "text/html": [
       "<div\n",
       "    class=\"webio-mountpoint\"\n",
       "    data-webio-mountpoint=\"6545456770072952644\"\n",
       ">\n",
       "    <script>\n",
       "    (function(){\n",
       "    // Some integrations (namely, IJulia/Jupyter) use an alternate render pathway than\n",
       "    // just putting the html on the page. If WebIO isn't defined, then it's pretty likely\n",
       "    // that we're in one of those situations and the integration just isn't installed\n",
       "    // correctly.\n",
       "    if (typeof window.WebIO === \"undefined\") {\n",
       "        document\n",
       "            .querySelector('[data-webio-mountpoint=\"6545456770072952644\"]')\n",
       "            .innerHTML = (\n",
       "                '<div style=\"padding: 1em; background-color: #f8d6da; border: 1px solid #f5c6cb; font-weight: bold;\">' +\n",
       "                '<p><strong>WebIO not detected.</strong></p>' +\n",
       "                '<p>Please read ' +\n",
       "                '<a href=\"https://juliagizmos.github.io/WebIO.jl/latest/troubleshooting/not-detected/\" target=\"_blank\">the troubleshooting guide</a> ' +\n",
       "                'for more information on how to resolve this issue.</p>' +\n",
       "                '<p><a href=\"https://juliagizmos.github.io/WebIO.jl/latest/troubleshooting/not-detected/\" target=\"_blank\">https://juliagizmos.github.io/WebIO.jl/latest/troubleshooting/not-detected/</a></p>' +\n",
       "                '</div>'\n",
       "            );\n",
       "        return;\n",
       "    }\n",
       "    WebIO.mount(\n",
       "        document.querySelector('[data-webio-mountpoint=\"6545456770072952644\"]'),\n",
       "        {\"props\":{\"style\":{\"display\":\"flex\",\"flex-direction\":\"column\"}},\"nodeType\":\"DOM\",\"type\":\"node\",\"instanceArgs\":{\"namespace\":\"html\",\"tag\":\"div\"},\"children\":[{\"props\":{\"style\":{\"display\":\"flex\",\"flex-direction\":\"row\"}},\"nodeType\":\"DOM\",\"type\":\"node\",\"instanceArgs\":{\"namespace\":\"html\",\"tag\":\"div\"},\"children\":[{\"props\":{\"style\":{\"display\":\"flex\",\"flex-direction\":\"column\"}},\"nodeType\":\"DOM\",\"type\":\"node\",\"instanceArgs\":{\"namespace\":\"html\",\"tag\":\"div\"},\"children\":[{\"props\":{\"className\":\"field interact-widget\"},\"nodeType\":\"DOM\",\"type\":\"node\",\"instanceArgs\":{\"namespace\":\"html\",\"tag\":\"div\"},\"children\":[{\"props\":{},\"nodeType\":\"Scope\",\"type\":\"node\",\"instanceArgs\":{\"imports\":{\"data\":[{\"name\":\"knockout\",\"type\":\"js\",\"url\":\"\\/assetserver\\/727383f2a47bd31570b7da84eee7b022dd6d7c78-knockout.js\"},{\"name\":\"knockout_punches\",\"type\":\"js\",\"url\":\"\\/assetserver\\/382b41b3b1bd9f26f75861d360bad7f8beea211f-knockout_punches.js\"},{\"name\":null,\"type\":\"js\",\"url\":\"\\/assetserver\\/5ab20f1060420992a9b82a65b735dee4d81ef413-all.js\"},{\"name\":null,\"type\":\"css\",\"url\":\"\\/assetserver\\/1cc0ed62837210b80a182cc3676512f895dab686-style.css\"},{\"name\":null,\"type\":\"css\",\"url\":\"\\/assetserver\\/2eee816f616df3549d7044d45e744fbf8d42bfa1-bulma_confined.min.css\"}],\"type\":\"async_block\"},\"id\":\"2485224877667171834\",\"handlers\":{\"changes\":[\"(function (val){return (val!=this.model[\\\"changes\\\"]()) ? (this.valueFromJulia[\\\"changes\\\"]=true, this.model[\\\"changes\\\"](val)) : undefined})\"],\"index\":[\"(function (val){return (val!=this.model[\\\"index\\\"]()) ? (this.valueFromJulia[\\\"index\\\"]=true, this.model[\\\"index\\\"](val)) : undefined})\"]},\"systemjs_options\":null,\"mount_callbacks\":[\"function () {\\n    var handler = (function (ko, koPunches) {\\n    ko.punches.enableAll();\\n    ko.bindingHandlers.numericValue = {\\n        init: function(element, valueAccessor, allBindings, data, context) {\\n            var stringified = ko.observable(ko.unwrap(valueAccessor()));\\n            stringified.subscribe(function(value) {\\n                var val = parseFloat(value);\\n                if (!isNaN(val)) {\\n                    valueAccessor()(val);\\n                }\\n            });\\n            valueAccessor().subscribe(function(value) {\\n                var str = JSON.stringify(value);\\n                if ((str == \\\"0\\\") && ([\\\"-0\\\", \\\"-0.\\\"].indexOf(stringified()) >= 0))\\n                     return;\\n                 if ([\\\"null\\\", \\\"\\\"].indexOf(str) >= 0)\\n                     return;\\n                stringified(str);\\n            });\\n            ko.applyBindingsToNode(\\n                element,\\n                {\\n                    value: stringified,\\n                    valueUpdate: allBindings.get('valueUpdate'),\\n                },\\n                context,\\n            );\\n        }\\n    };\\n    var json_data = {\\\"formatted_vals\\\":[\\\"1\\\",\\\"2\\\",\\\"3\\\",\\\"4\\\",\\\"5\\\",\\\"6\\\",\\\"7\\\",\\\"8\\\",\\\"9\\\",\\\"10\\\",\\\"11\\\",\\\"12\\\",\\\"13\\\",\\\"14\\\",\\\"15\\\",\\\"16\\\",\\\"17\\\",\\\"18\\\",\\\"19\\\",\\\"20\\\",\\\"21\\\",\\\"22\\\",\\\"23\\\",\\\"24\\\",\\\"25\\\",\\\"26\\\",\\\"27\\\",\\\"28\\\",\\\"29\\\",\\\"30\\\",\\\"31\\\",\\\"32\\\",\\\"33\\\",\\\"34\\\",\\\"35\\\",\\\"36\\\",\\\"37\\\",\\\"38\\\",\\\"39\\\",\\\"40\\\",\\\"41\\\",\\\"42\\\",\\\"43\\\",\\\"44\\\",\\\"45\\\",\\\"46\\\",\\\"47\\\",\\\"48\\\",\\\"49\\\",\\\"50\\\",\\\"51\\\",\\\"52\\\",\\\"53\\\",\\\"54\\\",\\\"55\\\",\\\"56\\\",\\\"57\\\",\\\"58\\\",\\\"59\\\",\\\"60\\\",\\\"61\\\",\\\"62\\\",\\\"63\\\",\\\"64\\\",\\\"65\\\",\\\"66\\\",\\\"67\\\",\\\"68\\\",\\\"69\\\",\\\"70\\\",\\\"71\\\",\\\"72\\\",\\\"73\\\",\\\"74\\\",\\\"75\\\",\\\"76\\\",\\\"77\\\",\\\"78\\\",\\\"79\\\",\\\"80\\\",\\\"81\\\",\\\"82\\\",\\\"83\\\",\\\"84\\\",\\\"85\\\",\\\"86\\\",\\\"87\\\",\\\"88\\\",\\\"89\\\",\\\"90\\\",\\\"91\\\",\\\"92\\\",\\\"93\\\",\\\"94\\\",\\\"95\\\",\\\"96\\\",\\\"97\\\",\\\"98\\\",\\\"99\\\",\\\"100\\\",\\\"101\\\",\\\"102\\\",\\\"103\\\",\\\"104\\\",\\\"105\\\",\\\"106\\\",\\\"107\\\",\\\"108\\\",\\\"109\\\",\\\"110\\\",\\\"111\\\",\\\"112\\\",\\\"113\\\",\\\"114\\\",\\\"115\\\",\\\"116\\\",\\\"117\\\",\\\"118\\\",\\\"119\\\",\\\"120\\\",\\\"121\\\",\\\"122\\\",\\\"123\\\",\\\"124\\\",\\\"125\\\",\\\"126\\\",\\\"127\\\",\\\"128\\\",\\\"129\\\",\\\"130\\\",\\\"131\\\",\\\"132\\\",\\\"133\\\",\\\"134\\\",\\\"135\\\",\\\"136\\\",\\\"137\\\",\\\"138\\\",\\\"139\\\",\\\"140\\\",\\\"141\\\",\\\"142\\\",\\\"143\\\",\\\"144\\\",\\\"145\\\",\\\"146\\\",\\\"147\\\",\\\"148\\\",\\\"149\\\",\\\"150\\\",\\\"151\\\",\\\"152\\\",\\\"153\\\",\\\"154\\\",\\\"155\\\",\\\"156\\\",\\\"157\\\",\\\"158\\\",\\\"159\\\",\\\"160\\\",\\\"161\\\",\\\"162\\\",\\\"163\\\",\\\"164\\\",\\\"165\\\",\\\"166\\\",\\\"167\\\",\\\"168\\\",\\\"169\\\",\\\"170\\\",\\\"171\\\",\\\"172\\\",\\\"173\\\",\\\"174\\\",\\\"175\\\",\\\"176\\\",\\\"177\\\",\\\"178\\\",\\\"179\\\",\\\"180\\\",\\\"181\\\",\\\"182\\\",\\\"183\\\",\\\"184\\\",\\\"185\\\",\\\"186\\\",\\\"187\\\",\\\"188\\\",\\\"189\\\",\\\"190\\\",\\\"191\\\",\\\"192\\\",\\\"193\\\",\\\"194\\\",\\\"195\\\",\\\"196\\\",\\\"197\\\",\\\"198\\\",\\\"199\\\",\\\"200\\\",\\\"201\\\",\\\"202\\\",\\\"203\\\",\\\"204\\\",\\\"205\\\",\\\"206\\\",\\\"207\\\",\\\"208\\\",\\\"209\\\",\\\"210\\\",\\\"211\\\",\\\"212\\\",\\\"213\\\",\\\"214\\\",\\\"215\\\",\\\"216\\\",\\\"217\\\",\\\"218\\\",\\\"219\\\",\\\"220\\\",\\\"221\\\",\\\"222\\\",\\\"223\\\",\\\"224\\\",\\\"225\\\",\\\"226\\\",\\\"227\\\",\\\"228\\\",\\\"229\\\",\\\"230\\\",\\\"231\\\",\\\"232\\\",\\\"233\\\",\\\"234\\\",\\\"235\\\",\\\"236\\\",\\\"237\\\",\\\"238\\\",\\\"239\\\",\\\"240\\\",\\\"241\\\",\\\"242\\\",\\\"243\\\",\\\"244\\\",\\\"245\\\",\\\"246\\\",\\\"247\\\",\\\"248\\\",\\\"249\\\",\\\"250\\\",\\\"251\\\",\\\"252\\\",\\\"253\\\",\\\"254\\\",\\\"255\\\",\\\"256\\\",\\\"257\\\",\\\"258\\\",\\\"259\\\",\\\"260\\\",\\\"261\\\",\\\"262\\\",\\\"263\\\",\\\"264\\\",\\\"265\\\",\\\"266\\\",\\\"267\\\",\\\"268\\\",\\\"269\\\",\\\"270\\\",\\\"271\\\",\\\"272\\\",\\\"273\\\",\\\"274\\\",\\\"275\\\",\\\"276\\\",\\\"277\\\",\\\"278\\\",\\\"279\\\",\\\"280\\\",\\\"281\\\",\\\"282\\\",\\\"283\\\",\\\"284\\\",\\\"285\\\",\\\"286\\\",\\\"287\\\",\\\"288\\\",\\\"289\\\",\\\"290\\\",\\\"291\\\",\\\"292\\\",\\\"293\\\",\\\"294\\\",\\\"295\\\",\\\"296\\\",\\\"297\\\",\\\"298\\\",\\\"299\\\",\\\"300\\\",\\\"301\\\",\\\"302\\\",\\\"303\\\",\\\"304\\\",\\\"305\\\",\\\"306\\\",\\\"307\\\",\\\"308\\\",\\\"309\\\",\\\"310\\\",\\\"311\\\",\\\"312\\\",\\\"313\\\",\\\"314\\\",\\\"315\\\",\\\"316\\\",\\\"317\\\",\\\"318\\\",\\\"319\\\",\\\"320\\\",\\\"321\\\",\\\"322\\\",\\\"323\\\",\\\"324\\\",\\\"325\\\",\\\"326\\\",\\\"327\\\",\\\"328\\\",\\\"329\\\",\\\"330\\\",\\\"331\\\",\\\"332\\\",\\\"333\\\",\\\"334\\\",\\\"335\\\",\\\"336\\\",\\\"337\\\",\\\"338\\\",\\\"339\\\",\\\"340\\\",\\\"341\\\",\\\"342\\\",\\\"343\\\",\\\"344\\\",\\\"345\\\",\\\"346\\\",\\\"347\\\",\\\"348\\\",\\\"349\\\",\\\"350\\\",\\\"351\\\",\\\"352\\\",\\\"353\\\",\\\"354\\\",\\\"355\\\",\\\"356\\\",\\\"357\\\",\\\"358\\\",\\\"359\\\",\\\"360\\\",\\\"361\\\",\\\"362\\\",\\\"363\\\",\\\"364\\\",\\\"365\\\",\\\"366\\\",\\\"367\\\",\\\"368\\\",\\\"369\\\",\\\"370\\\",\\\"371\\\",\\\"372\\\",\\\"373\\\",\\\"374\\\",\\\"375\\\",\\\"376\\\",\\\"377\\\",\\\"378\\\",\\\"379\\\",\\\"380\\\",\\\"381\\\",\\\"382\\\",\\\"383\\\",\\\"384\\\",\\\"385\\\",\\\"386\\\",\\\"387\\\",\\\"388\\\",\\\"389\\\",\\\"390\\\",\\\"391\\\",\\\"392\\\",\\\"393\\\",\\\"394\\\",\\\"395\\\",\\\"396\\\",\\\"397\\\",\\\"398\\\",\\\"399\\\",\\\"400\\\",\\\"401\\\"],\\\"changes\\\":WebIO.getval({\\\"name\\\":\\\"changes\\\",\\\"scope\\\":\\\"2485224877667171834\\\",\\\"id\\\":\\\"1047025674085741737\\\",\\\"type\\\":\\\"observable\\\"}),\\\"index\\\":WebIO.getval({\\\"name\\\":\\\"index\\\",\\\"scope\\\":\\\"2485224877667171834\\\",\\\"id\\\":\\\"195515522840125728\\\",\\\"type\\\":\\\"observable\\\"})};\\n    var self = this;\\n    function AppViewModel() {\\n        for (var key in json_data) {\\n            var el = json_data[key];\\n            this[key] = Array.isArray(el) ? ko.observableArray(el) : ko.observable(el);\\n        }\\n        \\n        [this[\\\"formatted_val\\\"]=ko.computed(    function(){\\n        return this.formatted_vals()[parseInt(this.index())-(1)];\\n    }\\n,this)]\\n        [this[\\\"changes\\\"].subscribe((function (val){!(this.valueFromJulia[\\\"changes\\\"]) ? (WebIO.setval({\\\"name\\\":\\\"changes\\\",\\\"scope\\\":\\\"2485224877667171834\\\",\\\"id\\\":\\\"1047025674085741737\\\",\\\"type\\\":\\\"observable\\\"},val)) : undefined; return this.valueFromJulia[\\\"changes\\\"]=false}),self),this[\\\"index\\\"].subscribe((function (val){!(this.valueFromJulia[\\\"index\\\"]) ? (WebIO.setval({\\\"name\\\":\\\"index\\\",\\\"scope\\\":\\\"2485224877667171834\\\",\\\"id\\\":\\\"195515522840125728\\\",\\\"type\\\":\\\"observable\\\"},val)) : undefined; return this.valueFromJulia[\\\"index\\\"]=false}),self)]\\n        \\n    }\\n    self.model = new AppViewModel();\\n    self.valueFromJulia = {};\\n    for (var key in json_data) {\\n        self.valueFromJulia[key] = false;\\n    }\\n    ko.applyBindings(self.model, self.dom);\\n}\\n);\\n    (WebIO.importBlock({\\\"data\\\":[{\\\"name\\\":\\\"knockout\\\",\\\"type\\\":\\\"js\\\",\\\"url\\\":\\\"\\/assetserver\\/727383f2a47bd31570b7da84eee7b022dd6d7c78-knockout.js\\\"},{\\\"name\\\":\\\"knockout_punches\\\",\\\"type\\\":\\\"js\\\",\\\"url\\\":\\\"\\/assetserver\\/382b41b3b1bd9f26f75861d360bad7f8beea211f-knockout_punches.js\\\"}],\\\"type\\\":\\\"async_block\\\"})).then((imports) => handler.apply(this, imports));\\n}\\n\"],\"observables\":{\"changes\":{\"sync\":false,\"id\":\"1047025674085741737\",\"value\":0},\"index\":{\"sync\":true,\"id\":\"195515522840125728\",\"value\":201}}},\"children\":[{\"props\":{\"className\":\"interact-flex-row interact-widget\"},\"nodeType\":\"DOM\",\"type\":\"node\",\"instanceArgs\":{\"namespace\":\"html\",\"tag\":\"div\"},\"children\":[{\"props\":{\"className\":\"interact-flex-row-left\"},\"nodeType\":\"DOM\",\"type\":\"node\",\"instanceArgs\":{\"namespace\":\"html\",\"tag\":\"div\"},\"children\":[{\"props\":{\"className\":\"interact \",\"style\":{\"padding\":\"5px 10px 0px 10px\"}},\"nodeType\":\"DOM\",\"type\":\"node\",\"instanceArgs\":{\"namespace\":\"html\",\"tag\":\"label\"},\"children\":[\"time\"]}]},{\"props\":{\"className\":\"interact-flex-row-center\"},\"nodeType\":\"DOM\",\"type\":\"node\",\"instanceArgs\":{\"namespace\":\"html\",\"tag\":\"div\"},\"children\":[{\"props\":{\"max\":401,\"min\":1,\"attributes\":{\"type\":\"range\",\"data-bind\":\"numericValue: index, valueUpdate: 'input', event: {change: function (){this.changes(this.changes()+1)}}\",\"orient\":\"horizontal\"},\"step\":1,\"className\":\"slider slider is-fullwidth\",\"style\":{}},\"nodeType\":\"DOM\",\"type\":\"node\",\"instanceArgs\":{\"namespace\":\"html\",\"tag\":\"input\"},\"children\":[]}]},{\"props\":{\"className\":\"interact-flex-row-right\"},\"nodeType\":\"DOM\",\"type\":\"node\",\"instanceArgs\":{\"namespace\":\"html\",\"tag\":\"div\"},\"children\":[{\"props\":{\"attributes\":{\"data-bind\":\"text: formatted_val\"}},\"nodeType\":\"DOM\",\"type\":\"node\",\"instanceArgs\":{\"namespace\":\"html\",\"tag\":\"p\"},\"children\":[]}]}]}]}]},{\"props\":{\"className\":\"field interact-widget\"},\"nodeType\":\"DOM\",\"type\":\"node\",\"instanceArgs\":{\"namespace\":\"html\",\"tag\":\"div\"},\"children\":[{\"props\":{},\"nodeType\":\"Scope\",\"type\":\"node\",\"instanceArgs\":{\"imports\":{\"data\":[{\"name\":\"knockout\",\"type\":\"js\",\"url\":\"\\/assetserver\\/727383f2a47bd31570b7da84eee7b022dd6d7c78-knockout.js\"},{\"name\":\"knockout_punches\",\"type\":\"js\",\"url\":\"\\/assetserver\\/382b41b3b1bd9f26f75861d360bad7f8beea211f-knockout_punches.js\"},{\"name\":null,\"type\":\"js\",\"url\":\"\\/assetserver\\/5ab20f1060420992a9b82a65b735dee4d81ef413-all.js\"},{\"name\":null,\"type\":\"css\",\"url\":\"\\/assetserver\\/1cc0ed62837210b80a182cc3676512f895dab686-style.css\"},{\"name\":null,\"type\":\"css\",\"url\":\"\\/assetserver\\/2eee816f616df3549d7044d45e744fbf8d42bfa1-bulma_confined.min.css\"}],\"type\":\"async_block\"},\"id\":\"1663298553511982820\",\"handlers\":{\"changes\":[\"(function (val){return (val!=this.model[\\\"changes\\\"]()) ? (this.valueFromJulia[\\\"changes\\\"]=true, this.model[\\\"changes\\\"](val)) : undefined})\"],\"index\":[\"(function (val){return (val!=this.model[\\\"index\\\"]()) ? (this.valueFromJulia[\\\"index\\\"]=true, this.model[\\\"index\\\"](val)) : undefined})\"]},\"systemjs_options\":null,\"mount_callbacks\":[\"function () {\\n    var handler = (function (ko, koPunches) {\\n    ko.punches.enableAll();\\n    ko.bindingHandlers.numericValue = {\\n        init: function(element, valueAccessor, allBindings, data, context) {\\n            var stringified = ko.observable(ko.unwrap(valueAccessor()));\\n            stringified.subscribe(function(value) {\\n                var val = parseFloat(value);\\n                if (!isNaN(val)) {\\n                    valueAccessor()(val);\\n                }\\n            });\\n            valueAccessor().subscribe(function(value) {\\n                var str = JSON.stringify(value);\\n                if ((str == \\\"0\\\") && ([\\\"-0\\\", \\\"-0.\\\"].indexOf(stringified()) >= 0))\\n                     return;\\n                 if ([\\\"null\\\", \\\"\\\"].indexOf(str) >= 0)\\n                     return;\\n                stringified(str);\\n            });\\n            ko.applyBindingsToNode(\\n                element,\\n                {\\n                    value: stringified,\\n                    valueUpdate: allBindings.get('valueUpdate'),\\n                },\\n                context,\\n            );\\n        }\\n    };\\n    var json_data = {\\\"formatted_vals\\\":[\\\"0.1\\\",\\\"0.2\\\",\\\"0.3\\\",\\\"0.4\\\",\\\"0.5\\\",\\\"0.6\\\",\\\"0.7\\\",\\\"0.8\\\",\\\"0.9\\\",\\\"1.0\\\",\\\"1.1\\\",\\\"1.2\\\",\\\"1.3\\\",\\\"1.4\\\",\\\"1.5\\\",\\\"1.6\\\",\\\"1.7\\\",\\\"1.8\\\",\\\"1.9\\\",\\\"2.0\\\"],\\\"changes\\\":WebIO.getval({\\\"name\\\":\\\"changes\\\",\\\"scope\\\":\\\"1663298553511982820\\\",\\\"id\\\":\\\"4986575982122628196\\\",\\\"type\\\":\\\"observable\\\"}),\\\"index\\\":WebIO.getval({\\\"name\\\":\\\"index\\\",\\\"scope\\\":\\\"1663298553511982820\\\",\\\"id\\\":\\\"12281700112415587488\\\",\\\"type\\\":\\\"observable\\\"})};\\n    var self = this;\\n    function AppViewModel() {\\n        for (var key in json_data) {\\n            var el = json_data[key];\\n            this[key] = Array.isArray(el) ? ko.observableArray(el) : ko.observable(el);\\n        }\\n        \\n        [this[\\\"formatted_val\\\"]=ko.computed(    function(){\\n        return this.formatted_vals()[parseInt(this.index())-(1)];\\n    }\\n,this)]\\n        [this[\\\"changes\\\"].subscribe((function (val){!(this.valueFromJulia[\\\"changes\\\"]) ? (WebIO.setval({\\\"name\\\":\\\"changes\\\",\\\"scope\\\":\\\"1663298553511982820\\\",\\\"id\\\":\\\"4986575982122628196\\\",\\\"type\\\":\\\"observable\\\"},val)) : undefined; return this.valueFromJulia[\\\"changes\\\"]=false}),self),this[\\\"index\\\"].subscribe((function (val){!(this.valueFromJulia[\\\"index\\\"]) ? (WebIO.setval({\\\"name\\\":\\\"index\\\",\\\"scope\\\":\\\"1663298553511982820\\\",\\\"id\\\":\\\"12281700112415587488\\\",\\\"type\\\":\\\"observable\\\"},val)) : undefined; return this.valueFromJulia[\\\"index\\\"]=false}),self)]\\n        \\n    }\\n    self.model = new AppViewModel();\\n    self.valueFromJulia = {};\\n    for (var key in json_data) {\\n        self.valueFromJulia[key] = false;\\n    }\\n    ko.applyBindings(self.model, self.dom);\\n}\\n);\\n    (WebIO.importBlock({\\\"data\\\":[{\\\"name\\\":\\\"knockout\\\",\\\"type\\\":\\\"js\\\",\\\"url\\\":\\\"\\/assetserver\\/727383f2a47bd31570b7da84eee7b022dd6d7c78-knockout.js\\\"},{\\\"name\\\":\\\"knockout_punches\\\",\\\"type\\\":\\\"js\\\",\\\"url\\\":\\\"\\/assetserver\\/382b41b3b1bd9f26f75861d360bad7f8beea211f-knockout_punches.js\\\"}],\\\"type\\\":\\\"async_block\\\"})).then((imports) => handler.apply(this, imports));\\n}\\n\"],\"observables\":{\"changes\":{\"sync\":false,\"id\":\"4986575982122628196\",\"value\":0},\"index\":{\"sync\":true,\"id\":\"12281700112415587488\",\"value\":10}}},\"children\":[{\"props\":{\"className\":\"interact-flex-row interact-widget\"},\"nodeType\":\"DOM\",\"type\":\"node\",\"instanceArgs\":{\"namespace\":\"html\",\"tag\":\"div\"},\"children\":[{\"props\":{\"className\":\"interact-flex-row-left\"},\"nodeType\":\"DOM\",\"type\":\"node\",\"instanceArgs\":{\"namespace\":\"html\",\"tag\":\"div\"},\"children\":[{\"props\":{\"className\":\"interact \",\"style\":{\"padding\":\"5px 10px 0px 10px\"}},\"nodeType\":\"DOM\",\"type\":\"node\",\"instanceArgs\":{\"namespace\":\"html\",\"tag\":\"label\"},\"children\":[\"scale\"]}]},{\"props\":{\"className\":\"interact-flex-row-center\"},\"nodeType\":\"DOM\",\"type\":\"node\",\"instanceArgs\":{\"namespace\":\"html\",\"tag\":\"div\"},\"children\":[{\"props\":{\"max\":20,\"min\":1,\"attributes\":{\"type\":\"range\",\"data-bind\":\"numericValue: index, valueUpdate: 'input', event: {change: function (){this.changes(this.changes()+1)}}\",\"orient\":\"horizontal\"},\"step\":1,\"className\":\"slider slider is-fullwidth\",\"style\":{}},\"nodeType\":\"DOM\",\"type\":\"node\",\"instanceArgs\":{\"namespace\":\"html\",\"tag\":\"input\"},\"children\":[]}]},{\"props\":{\"className\":\"interact-flex-row-right\"},\"nodeType\":\"DOM\",\"type\":\"node\",\"instanceArgs\":{\"namespace\":\"html\",\"tag\":\"div\"},\"children\":[{\"props\":{\"attributes\":{\"data-bind\":\"text: formatted_val\"}},\"nodeType\":\"DOM\",\"type\":\"node\",\"instanceArgs\":{\"namespace\":\"html\",\"tag\":\"p\"},\"children\":[]}]}]}]}]},{\"props\":{\"style\":{\"display\":\"flex\",\"flex-direction\":\"row\"}},\"nodeType\":\"DOM\",\"type\":\"node\",\"instanceArgs\":{\"namespace\":\"html\",\"tag\":\"div\"},\"children\":[{\"props\":{\"className\":\"interact-widget\"},\"nodeType\":\"DOM\",\"type\":\"node\",\"instanceArgs\":{\"namespace\":\"html\",\"tag\":\"div\"},\"children\":[{\"props\":{},\"nodeType\":\"Scope\",\"type\":\"node\",\"instanceArgs\":{\"imports\":{\"data\":[{\"name\":null,\"type\":\"js\",\"url\":\"\\/assetserver\\/dd22ed1bf1896c2748f3fe616ce0b838adc895c1-katex.min.js\"},{\"name\":null,\"type\":\"css\",\"url\":\"\\/assetserver\\/46517a424aa5e6cffc1360d7e0848b601c584ee3-katex.min.css\"}],\"type\":\"async_block\"},\"id\":\"6550857876442986461\",\"handlers\":{\"value\":[\"(function (txt){return this.k.render(txt,this.container)})\"]},\"systemjs_options\":null,\"mount_callbacks\":[\"function () {\\n    var handler = ((function (k){this.k=k; this.container=this.dom.querySelector(\\\"#container\\\"); return k.render(\\\"\\\\\\\\;\\\\\\\\;\\\",this.container)}));\\n    (WebIO.importBlock({\\\"data\\\":[{\\\"name\\\":null,\\\"type\\\":\\\"js\\\",\\\"url\\\":\\\"\\/assetserver\\/dd22ed1bf1896c2748f3fe616ce0b838adc895c1-katex.min.js\\\"},{\\\"name\\\":null,\\\"type\\\":\\\"css\\\",\\\"url\\\":\\\"\\/assetserver\\/46517a424aa5e6cffc1360d7e0848b601c584ee3-katex.min.css\\\"}],\\\"type\\\":\\\"async_block\\\"})).then((imports) => handler.apply(this, imports));\\n}\\n\"],\"observables\":{\"value\":{\"sync\":false,\"id\":\"17950521410612473134\",\"value\":\"\\\\;\\\\;\"}}},\"children\":[{\"props\":{\"id\":\"container\"},\"nodeType\":\"DOM\",\"type\":\"node\",\"instanceArgs\":{\"namespace\":\"html\",\"tag\":\"div\"},\"children\":[]}]}]},{\"props\":{\"className\":\"field interact-widget\"},\"nodeType\":\"DOM\",\"type\":\"node\",\"instanceArgs\":{\"namespace\":\"html\",\"tag\":\"div\"},\"children\":[{\"props\":{},\"nodeType\":\"Scope\",\"type\":\"node\",\"instanceArgs\":{\"imports\":{\"data\":[{\"name\":\"knockout\",\"type\":\"js\",\"url\":\"\\/assetserver\\/727383f2a47bd31570b7da84eee7b022dd6d7c78-knockout.js\"},{\"name\":\"knockout_punches\",\"type\":\"js\",\"url\":\"\\/assetserver\\/382b41b3b1bd9f26f75861d360bad7f8beea211f-knockout_punches.js\"},{\"name\":null,\"type\":\"js\",\"url\":\"\\/assetserver\\/5ab20f1060420992a9b82a65b735dee4d81ef413-all.js\"},{\"name\":null,\"type\":\"css\",\"url\":\"\\/assetserver\\/1cc0ed62837210b80a182cc3676512f895dab686-style.css\"},{\"name\":null,\"type\":\"css\",\"url\":\"\\/assetserver\\/2eee816f616df3549d7044d45e744fbf8d42bfa1-bulma_confined.min.css\"}],\"type\":\"async_block\"},\"id\":\"16094392654078571497\",\"handlers\":{\"loading\":[\"(function (val){return (val!=this.model[\\\"loading\\\"]()) ? (this.valueFromJulia[\\\"loading\\\"]=true, this.model[\\\"loading\\\"](val)) : undefined})\"],\"clicks\":[\"(function (val){return (val!=this.model[\\\"clicks\\\"]()) ? (this.valueFromJulia[\\\"clicks\\\"]=true, this.model[\\\"clicks\\\"](val)) : undefined})\"]},\"systemjs_options\":null,\"mount_callbacks\":[\"function () {\\n    var handler = (function (ko, koPunches) {\\n    ko.punches.enableAll();\\n    ko.bindingHandlers.numericValue = {\\n        init: function(element, valueAccessor, allBindings, data, context) {\\n            var stringified = ko.observable(ko.unwrap(valueAccessor()));\\n            stringified.subscribe(function(value) {\\n                var val = parseFloat(value);\\n                if (!isNaN(val)) {\\n                    valueAccessor()(val);\\n                }\\n            });\\n            valueAccessor().subscribe(function(value) {\\n                var str = JSON.stringify(value);\\n                if ((str == \\\"0\\\") && ([\\\"-0\\\", \\\"-0.\\\"].indexOf(stringified()) >= 0))\\n                     return;\\n                 if ([\\\"null\\\", \\\"\\\"].indexOf(str) >= 0)\\n                     return;\\n                stringified(str);\\n            });\\n            ko.applyBindingsToNode(\\n                element,\\n                {\\n                    value: stringified,\\n                    valueUpdate: allBindings.get('valueUpdate'),\\n                },\\n                context,\\n            );\\n        }\\n    };\\n    var json_data = {\\\"loading\\\":WebIO.getval({\\\"name\\\":\\\"loading\\\",\\\"scope\\\":\\\"16094392654078571497\\\",\\\"id\\\":\\\"16123032071618749219\\\",\\\"type\\\":\\\"observable\\\"}),\\\"clicks\\\":WebIO.getval({\\\"name\\\":\\\"clicks\\\",\\\"scope\\\":\\\"16094392654078571497\\\",\\\"id\\\":\\\"15315285834829728780\\\",\\\"type\\\":\\\"observable\\\"})};\\n    var self = this;\\n    function AppViewModel() {\\n        for (var key in json_data) {\\n            var el = json_data[key];\\n            this[key] = Array.isArray(el) ? ko.observableArray(el) : ko.observable(el);\\n        }\\n        \\n        \\n        [this[\\\"loading\\\"].subscribe((function (val){!(this.valueFromJulia[\\\"loading\\\"]) ? (WebIO.setval({\\\"name\\\":\\\"loading\\\",\\\"scope\\\":\\\"16094392654078571497\\\",\\\"id\\\":\\\"16123032071618749219\\\",\\\"type\\\":\\\"observable\\\"},val)) : undefined; return this.valueFromJulia[\\\"loading\\\"]=false}),self),this[\\\"clicks\\\"].subscribe((function (val){!(this.valueFromJulia[\\\"clicks\\\"]) ? (WebIO.setval({\\\"name\\\":\\\"clicks\\\",\\\"scope\\\":\\\"16094392654078571497\\\",\\\"id\\\":\\\"15315285834829728780\\\",\\\"type\\\":\\\"observable\\\"},val)) : undefined; return this.valueFromJulia[\\\"clicks\\\"]=false}),self)]\\n        \\n    }\\n    self.model = new AppViewModel();\\n    self.valueFromJulia = {};\\n    for (var key in json_data) {\\n        self.valueFromJulia[key] = false;\\n    }\\n    ko.applyBindings(self.model, self.dom);\\n}\\n);\\n    (WebIO.importBlock({\\\"data\\\":[{\\\"name\\\":\\\"knockout\\\",\\\"type\\\":\\\"js\\\",\\\"url\\\":\\\"\\/assetserver\\/727383f2a47bd31570b7da84eee7b022dd6d7c78-knockout.js\\\"},{\\\"name\\\":\\\"knockout_punches\\\",\\\"type\\\":\\\"js\\\",\\\"url\\\":\\\"\\/assetserver\\/382b41b3b1bd9f26f75861d360bad7f8beea211f-knockout_punches.js\\\"}],\\\"type\\\":\\\"async_block\\\"})).then((imports) => handler.apply(this, imports));\\n}\\n\"],\"observables\":{\"loading\":{\"sync\":false,\"id\":\"16123032071618749219\",\"value\":false},\"clicks\":{\"sync\":true,\"id\":\"15315285834829728780\",\"value\":0}}},\"children\":[{\"props\":{\"attributes\":{\"data-bind\":\"click: function (){this.clicks(this.clicks()+1)}, css: {'is-loading' : loading}\"},\"className\":\"is-medium button is-primary\",\"style\":{}},\"nodeType\":\"DOM\",\"type\":\"node\",\"instanceArgs\":{\"namespace\":\"html\",\"tag\":\"button\"},\"children\":[\"run\"]}]}]},{\"props\":{\"className\":\"interact-widget\"},\"nodeType\":\"DOM\",\"type\":\"node\",\"instanceArgs\":{\"namespace\":\"html\",\"tag\":\"div\"},\"children\":[{\"props\":{},\"nodeType\":\"Scope\",\"type\":\"node\",\"instanceArgs\":{\"imports\":{\"data\":[{\"name\":null,\"type\":\"js\",\"url\":\"\\/assetserver\\/dd22ed1bf1896c2748f3fe616ce0b838adc895c1-katex.min.js\"},{\"name\":null,\"type\":\"css\",\"url\":\"\\/assetserver\\/46517a424aa5e6cffc1360d7e0848b601c584ee3-katex.min.css\"}],\"type\":\"async_block\"},\"id\":\"6550857876442986461\",\"handlers\":{\"value\":[\"(function (txt){return this.k.render(txt,this.container)})\"]},\"systemjs_options\":null,\"mount_callbacks\":[\"function () {\\n    var handler = ((function (k){this.k=k; this.container=this.dom.querySelector(\\\"#container\\\"); return k.render(\\\"\\\\\\\\;\\\\\\\\;\\\",this.container)}));\\n    (WebIO.importBlock({\\\"data\\\":[{\\\"name\\\":null,\\\"type\\\":\\\"js\\\",\\\"url\\\":\\\"\\/assetserver\\/dd22ed1bf1896c2748f3fe616ce0b838adc895c1-katex.min.js\\\"},{\\\"name\\\":null,\\\"type\\\":\\\"css\\\",\\\"url\\\":\\\"\\/assetserver\\/46517a424aa5e6cffc1360d7e0848b601c584ee3-katex.min.css\\\"}],\\\"type\\\":\\\"async_block\\\"})).then((imports) => handler.apply(this, imports));\\n}\\n\"],\"observables\":{\"value\":{\"sync\":false,\"id\":\"17950521410612473134\",\"value\":\"\\\\;\\\\;\"}}},\"children\":[{\"props\":{\"id\":\"container\"},\"nodeType\":\"DOM\",\"type\":\"node\",\"instanceArgs\":{\"namespace\":\"html\",\"tag\":\"div\"},\"children\":[]}]}]},{\"props\":{\"className\":\"field interact-widget\"},\"nodeType\":\"DOM\",\"type\":\"node\",\"instanceArgs\":{\"namespace\":\"html\",\"tag\":\"div\"},\"children\":[{\"props\":{},\"nodeType\":\"Scope\",\"type\":\"node\",\"instanceArgs\":{\"imports\":{\"data\":[{\"name\":\"knockout\",\"type\":\"js\",\"url\":\"\\/assetserver\\/727383f2a47bd31570b7da84eee7b022dd6d7c78-knockout.js\"},{\"name\":\"knockout_punches\",\"type\":\"js\",\"url\":\"\\/assetserver\\/382b41b3b1bd9f26f75861d360bad7f8beea211f-knockout_punches.js\"},{\"name\":null,\"type\":\"js\",\"url\":\"\\/assetserver\\/5ab20f1060420992a9b82a65b735dee4d81ef413-all.js\"},{\"name\":null,\"type\":\"css\",\"url\":\"\\/assetserver\\/1cc0ed62837210b80a182cc3676512f895dab686-style.css\"},{\"name\":null,\"type\":\"css\",\"url\":\"\\/assetserver\\/2eee816f616df3549d7044d45e744fbf8d42bfa1-bulma_confined.min.css\"}],\"type\":\"async_block\"},\"id\":\"5202949822993549558\",\"handlers\":{\"loading\":[\"(function (val){return (val!=this.model[\\\"loading\\\"]()) ? (this.valueFromJulia[\\\"loading\\\"]=true, this.model[\\\"loading\\\"](val)) : undefined})\"],\"clicks\":[\"(function (val){return (val!=this.model[\\\"clicks\\\"]()) ? (this.valueFromJulia[\\\"clicks\\\"]=true, this.model[\\\"clicks\\\"](val)) : undefined})\"]},\"systemjs_options\":null,\"mount_callbacks\":[\"function () {\\n    var handler = (function (ko, koPunches) {\\n    ko.punches.enableAll();\\n    ko.bindingHandlers.numericValue = {\\n        init: function(element, valueAccessor, allBindings, data, context) {\\n            var stringified = ko.observable(ko.unwrap(valueAccessor()));\\n            stringified.subscribe(function(value) {\\n                var val = parseFloat(value);\\n                if (!isNaN(val)) {\\n                    valueAccessor()(val);\\n                }\\n            });\\n            valueAccessor().subscribe(function(value) {\\n                var str = JSON.stringify(value);\\n                if ((str == \\\"0\\\") && ([\\\"-0\\\", \\\"-0.\\\"].indexOf(stringified()) >= 0))\\n                     return;\\n                 if ([\\\"null\\\", \\\"\\\"].indexOf(str) >= 0)\\n                     return;\\n                stringified(str);\\n            });\\n            ko.applyBindingsToNode(\\n                element,\\n                {\\n                    value: stringified,\\n                    valueUpdate: allBindings.get('valueUpdate'),\\n                },\\n                context,\\n            );\\n        }\\n    };\\n    var json_data = {\\\"loading\\\":WebIO.getval({\\\"name\\\":\\\"loading\\\",\\\"scope\\\":\\\"5202949822993549558\\\",\\\"id\\\":\\\"9385128460172696975\\\",\\\"type\\\":\\\"observable\\\"}),\\\"clicks\\\":WebIO.getval({\\\"name\\\":\\\"clicks\\\",\\\"scope\\\":\\\"5202949822993549558\\\",\\\"id\\\":\\\"12162572979585949234\\\",\\\"type\\\":\\\"observable\\\"})};\\n    var self = this;\\n    function AppViewModel() {\\n        for (var key in json_data) {\\n            var el = json_data[key];\\n            this[key] = Array.isArray(el) ? ko.observableArray(el) : ko.observable(el);\\n        }\\n        \\n        \\n        [this[\\\"loading\\\"].subscribe((function (val){!(this.valueFromJulia[\\\"loading\\\"]) ? (WebIO.setval({\\\"name\\\":\\\"loading\\\",\\\"scope\\\":\\\"5202949822993549558\\\",\\\"id\\\":\\\"9385128460172696975\\\",\\\"type\\\":\\\"observable\\\"},val)) : undefined; return this.valueFromJulia[\\\"loading\\\"]=false}),self),this[\\\"clicks\\\"].subscribe((function (val){!(this.valueFromJulia[\\\"clicks\\\"]) ? (WebIO.setval({\\\"name\\\":\\\"clicks\\\",\\\"scope\\\":\\\"5202949822993549558\\\",\\\"id\\\":\\\"12162572979585949234\\\",\\\"type\\\":\\\"observable\\\"},val)) : undefined; return this.valueFromJulia[\\\"clicks\\\"]=false}),self)]\\n        \\n    }\\n    self.model = new AppViewModel();\\n    self.valueFromJulia = {};\\n    for (var key in json_data) {\\n        self.valueFromJulia[key] = false;\\n    }\\n    ko.applyBindings(self.model, self.dom);\\n}\\n);\\n    (WebIO.importBlock({\\\"data\\\":[{\\\"name\\\":\\\"knockout\\\",\\\"type\\\":\\\"js\\\",\\\"url\\\":\\\"\\/assetserver\\/727383f2a47bd31570b7da84eee7b022dd6d7c78-knockout.js\\\"},{\\\"name\\\":\\\"knockout_punches\\\",\\\"type\\\":\\\"js\\\",\\\"url\\\":\\\"\\/assetserver\\/382b41b3b1bd9f26f75861d360bad7f8beea211f-knockout_punches.js\\\"}],\\\"type\\\":\\\"async_block\\\"})).then((imports) => handler.apply(this, imports));\\n}\\n\"],\"observables\":{\"loading\":{\"sync\":false,\"id\":\"9385128460172696975\",\"value\":false},\"clicks\":{\"sync\":true,\"id\":\"12162572979585949234\",\"value\":0}}},\"children\":[{\"props\":{\"attributes\":{\"data-bind\":\"click: function (){this.clicks(this.clicks()+1)}, css: {'is-loading' : loading}\"},\"className\":\"is-medium button is-primary\",\"style\":{}},\"nodeType\":\"DOM\",\"type\":\"node\",\"instanceArgs\":{\"namespace\":\"html\",\"tag\":\"button\"},\"children\":[\"stop\"]}]}]},{\"props\":{\"className\":\"interact-widget\"},\"nodeType\":\"DOM\",\"type\":\"node\",\"instanceArgs\":{\"namespace\":\"html\",\"tag\":\"div\"},\"children\":[{\"props\":{},\"nodeType\":\"Scope\",\"type\":\"node\",\"instanceArgs\":{\"imports\":{\"data\":[{\"name\":null,\"type\":\"js\",\"url\":\"\\/assetserver\\/dd22ed1bf1896c2748f3fe616ce0b838adc895c1-katex.min.js\"},{\"name\":null,\"type\":\"css\",\"url\":\"\\/assetserver\\/46517a424aa5e6cffc1360d7e0848b601c584ee3-katex.min.css\"}],\"type\":\"async_block\"},\"id\":\"6550857876442986461\",\"handlers\":{\"value\":[\"(function (txt){return this.k.render(txt,this.container)})\"]},\"systemjs_options\":null,\"mount_callbacks\":[\"function () {\\n    var handler = ((function (k){this.k=k; this.container=this.dom.querySelector(\\\"#container\\\"); return k.render(\\\"\\\\\\\\;\\\\\\\\;\\\",this.container)}));\\n    (WebIO.importBlock({\\\"data\\\":[{\\\"name\\\":null,\\\"type\\\":\\\"js\\\",\\\"url\\\":\\\"\\/assetserver\\/dd22ed1bf1896c2748f3fe616ce0b838adc895c1-katex.min.js\\\"},{\\\"name\\\":null,\\\"type\\\":\\\"css\\\",\\\"url\\\":\\\"\\/assetserver\\/46517a424aa5e6cffc1360d7e0848b601c584ee3-katex.min.css\\\"}],\\\"type\\\":\\\"async_block\\\"})).then((imports) => handler.apply(this, imports));\\n}\\n\"],\"observables\":{\"value\":{\"sync\":false,\"id\":\"17950521410612473134\",\"value\":\"\\\\;\\\\;\"}}},\"children\":[{\"props\":{\"id\":\"container\"},\"nodeType\":\"DOM\",\"type\":\"node\",\"instanceArgs\":{\"namespace\":\"html\",\"tag\":\"div\"},\"children\":[]}]}]},{\"props\":{\"className\":\"field interact-widget\"},\"nodeType\":\"DOM\",\"type\":\"node\",\"instanceArgs\":{\"namespace\":\"html\",\"tag\":\"div\"},\"children\":[{\"props\":{},\"nodeType\":\"Scope\",\"type\":\"node\",\"instanceArgs\":{\"imports\":{\"data\":[{\"name\":\"knockout\",\"type\":\"js\",\"url\":\"\\/assetserver\\/727383f2a47bd31570b7da84eee7b022dd6d7c78-knockout.js\"},{\"name\":\"knockout_punches\",\"type\":\"js\",\"url\":\"\\/assetserver\\/382b41b3b1bd9f26f75861d360bad7f8beea211f-knockout_punches.js\"},{\"name\":null,\"type\":\"js\",\"url\":\"\\/assetserver\\/5ab20f1060420992a9b82a65b735dee4d81ef413-all.js\"},{\"name\":null,\"type\":\"css\",\"url\":\"\\/assetserver\\/1cc0ed62837210b80a182cc3676512f895dab686-style.css\"},{\"name\":null,\"type\":\"css\",\"url\":\"\\/assetserver\\/2eee816f616df3549d7044d45e744fbf8d42bfa1-bulma_confined.min.css\"}],\"type\":\"async_block\"},\"id\":\"243466683590581112\",\"handlers\":{\"loading\":[\"(function (val){return (val!=this.model[\\\"loading\\\"]()) ? (this.valueFromJulia[\\\"loading\\\"]=true, this.model[\\\"loading\\\"](val)) : undefined})\"],\"clicks\":[\"(function (val){return (val!=this.model[\\\"clicks\\\"]()) ? (this.valueFromJulia[\\\"clicks\\\"]=true, this.model[\\\"clicks\\\"](val)) : undefined})\"]},\"systemjs_options\":null,\"mount_callbacks\":[\"function () {\\n    var handler = (function (ko, koPunches) {\\n    ko.punches.enableAll();\\n    ko.bindingHandlers.numericValue = {\\n        init: function(element, valueAccessor, allBindings, data, context) {\\n            var stringified = ko.observable(ko.unwrap(valueAccessor()));\\n            stringified.subscribe(function(value) {\\n                var val = parseFloat(value);\\n                if (!isNaN(val)) {\\n                    valueAccessor()(val);\\n                }\\n            });\\n            valueAccessor().subscribe(function(value) {\\n                var str = JSON.stringify(value);\\n                if ((str == \\\"0\\\") && ([\\\"-0\\\", \\\"-0.\\\"].indexOf(stringified()) >= 0))\\n                     return;\\n                 if ([\\\"null\\\", \\\"\\\"].indexOf(str) >= 0)\\n                     return;\\n                stringified(str);\\n            });\\n            ko.applyBindingsToNode(\\n                element,\\n                {\\n                    value: stringified,\\n                    valueUpdate: allBindings.get('valueUpdate'),\\n                },\\n                context,\\n            );\\n        }\\n    };\\n    var json_data = {\\\"loading\\\":WebIO.getval({\\\"name\\\":\\\"loading\\\",\\\"scope\\\":\\\"243466683590581112\\\",\\\"id\\\":\\\"6015175549112807085\\\",\\\"type\\\":\\\"observable\\\"}),\\\"clicks\\\":WebIO.getval({\\\"name\\\":\\\"clicks\\\",\\\"scope\\\":\\\"243466683590581112\\\",\\\"id\\\":\\\"6803415756984090528\\\",\\\"type\\\":\\\"observable\\\"})};\\n    var self = this;\\n    function AppViewModel() {\\n        for (var key in json_data) {\\n            var el = json_data[key];\\n            this[key] = Array.isArray(el) ? ko.observableArray(el) : ko.observable(el);\\n        }\\n        \\n        \\n        [this[\\\"loading\\\"].subscribe((function (val){!(this.valueFromJulia[\\\"loading\\\"]) ? (WebIO.setval({\\\"name\\\":\\\"loading\\\",\\\"scope\\\":\\\"243466683590581112\\\",\\\"id\\\":\\\"6015175549112807085\\\",\\\"type\\\":\\\"observable\\\"},val)) : undefined; return this.valueFromJulia[\\\"loading\\\"]=false}),self),this[\\\"clicks\\\"].subscribe((function (val){!(this.valueFromJulia[\\\"clicks\\\"]) ? (WebIO.setval({\\\"name\\\":\\\"clicks\\\",\\\"scope\\\":\\\"243466683590581112\\\",\\\"id\\\":\\\"6803415756984090528\\\",\\\"type\\\":\\\"observable\\\"},val)) : undefined; return this.valueFromJulia[\\\"clicks\\\"]=false}),self)]\\n        \\n    }\\n    self.model = new AppViewModel();\\n    self.valueFromJulia = {};\\n    for (var key in json_data) {\\n        self.valueFromJulia[key] = false;\\n    }\\n    ko.applyBindings(self.model, self.dom);\\n}\\n);\\n    (WebIO.importBlock({\\\"data\\\":[{\\\"name\\\":\\\"knockout\\\",\\\"type\\\":\\\"js\\\",\\\"url\\\":\\\"\\/assetserver\\/727383f2a47bd31570b7da84eee7b022dd6d7c78-knockout.js\\\"},{\\\"name\\\":\\\"knockout_punches\\\",\\\"type\\\":\\\"js\\\",\\\"url\\\":\\\"\\/assetserver\\/382b41b3b1bd9f26f75861d360bad7f8beea211f-knockout_punches.js\\\"}],\\\"type\\\":\\\"async_block\\\"})).then((imports) => handler.apply(this, imports));\\n}\\n\"],\"observables\":{\"loading\":{\"sync\":false,\"id\":\"6015175549112807085\",\"value\":false},\"clicks\":{\"sync\":true,\"id\":\"6803415756984090528\",\"value\":0}}},\"children\":[{\"props\":{\"attributes\":{\"data-bind\":\"click: function (){this.clicks(this.clicks()+1)}, css: {'is-loading' : loading}\"},\"className\":\"is-medium button is-primary\",\"style\":{}},\"nodeType\":\"DOM\",\"type\":\"node\",\"instanceArgs\":{\"namespace\":\"html\",\"tag\":\"button\"},\"children\":[\"save\"]}]}]}]}]},{\"props\":{\"className\":\"interact-widget\"},\"nodeType\":\"DOM\",\"type\":\"node\",\"instanceArgs\":{\"namespace\":\"html\",\"tag\":\"div\"},\"children\":[{\"props\":{},\"nodeType\":\"Scope\",\"type\":\"node\",\"instanceArgs\":{\"imports\":{\"data\":[{\"name\":null,\"type\":\"js\",\"url\":\"\\/assetserver\\/dd22ed1bf1896c2748f3fe616ce0b838adc895c1-katex.min.js\"},{\"name\":null,\"type\":\"css\",\"url\":\"\\/assetserver\\/46517a424aa5e6cffc1360d7e0848b601c584ee3-katex.min.css\"}],\"type\":\"async_block\"},\"id\":\"6550857876442986461\",\"handlers\":{\"value\":[\"(function (txt){return this.k.render(txt,this.container)})\"]},\"systemjs_options\":null,\"mount_callbacks\":[\"function () {\\n    var handler = ((function (k){this.k=k; this.container=this.dom.querySelector(\\\"#container\\\"); return k.render(\\\"\\\\\\\\;\\\\\\\\;\\\",this.container)}));\\n    (WebIO.importBlock({\\\"data\\\":[{\\\"name\\\":null,\\\"type\\\":\\\"js\\\",\\\"url\\\":\\\"\\/assetserver\\/dd22ed1bf1896c2748f3fe616ce0b838adc895c1-katex.min.js\\\"},{\\\"name\\\":null,\\\"type\\\":\\\"css\\\",\\\"url\\\":\\\"\\/assetserver\\/46517a424aa5e6cffc1360d7e0848b601c584ee3-katex.min.css\\\"}],\\\"type\\\":\\\"async_block\\\"})).then((imports) => handler.apply(this, imports));\\n}\\n\"],\"observables\":{\"value\":{\"sync\":false,\"id\":\"17950521410612473134\",\"value\":\"\\\\;\\\\;\"}}},\"children\":[{\"props\":{\"id\":\"container\"},\"nodeType\":\"DOM\",\"type\":\"node\",\"instanceArgs\":{\"namespace\":\"html\",\"tag\":\"div\"},\"children\":[]}]}]},{\"props\":{},\"nodeType\":\"Scope\",\"type\":\"node\",\"instanceArgs\":{\"imports\":{\"data\":[],\"type\":\"async_block\"},\"id\":\"15041337606247608052\",\"handlers\":{\"obs-output\":[\"function (value, scope) {\\n    scope.setInnerHTML(value);\\n}\\n\"]},\"systemjs_options\":null,\"mount_callbacks\":[],\"observables\":{\"obs-output\":{\"sync\":false,\"id\":\"5432992499383307462\",\"value\":\"<img src='data:image\\/png;base64,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'><\\/img>\"}}},\"children\":[{\"props\":{\"className\":\"webio-observable\",\"setInnerHtml\":\"<img src='data:image\\/png;base64,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'><\\/img>\"},\"nodeType\":\"DOM\",\"type\":\"node\",\"instanceArgs\":{\"namespace\":\"html\",\"tag\":\"div\"},\"children\":[]}]},{\"props\":{\"className\":\"interact-widget\"},\"nodeType\":\"DOM\",\"type\":\"node\",\"instanceArgs\":{\"namespace\":\"html\",\"tag\":\"div\"},\"children\":[{\"props\":{},\"nodeType\":\"Scope\",\"type\":\"node\",\"instanceArgs\":{\"imports\":{\"data\":[{\"name\":null,\"type\":\"js\",\"url\":\"\\/assetserver\\/dd22ed1bf1896c2748f3fe616ce0b838adc895c1-katex.min.js\"},{\"name\":null,\"type\":\"css\",\"url\":\"\\/assetserver\\/46517a424aa5e6cffc1360d7e0848b601c584ee3-katex.min.css\"}],\"type\":\"async_block\"},\"id\":\"6550857876442986461\",\"handlers\":{\"value\":[\"(function (txt){return this.k.render(txt,this.container)})\"]},\"systemjs_options\":null,\"mount_callbacks\":[\"function () {\\n    var handler = ((function (k){this.k=k; this.container=this.dom.querySelector(\\\"#container\\\"); return k.render(\\\"\\\\\\\\;\\\\\\\\;\\\",this.container)}));\\n    (WebIO.importBlock({\\\"data\\\":[{\\\"name\\\":null,\\\"type\\\":\\\"js\\\",\\\"url\\\":\\\"\\/assetserver\\/dd22ed1bf1896c2748f3fe616ce0b838adc895c1-katex.min.js\\\"},{\\\"name\\\":null,\\\"type\\\":\\\"css\\\",\\\"url\\\":\\\"\\/assetserver\\/46517a424aa5e6cffc1360d7e0848b601c584ee3-katex.min.css\\\"}],\\\"type\\\":\\\"async_block\\\"})).then((imports) => handler.apply(this, imports));\\n}\\n\"],\"observables\":{\"value\":{\"sync\":false,\"id\":\"17950521410612473134\",\"value\":\"\\\\;\\\\;\"}}},\"children\":[{\"props\":{\"id\":\"container\"},\"nodeType\":\"DOM\",\"type\":\"node\",\"instanceArgs\":{\"namespace\":\"html\",\"tag\":\"div\"},\"children\":[]}]}]},{\"props\":{\"style\":{\"display\":\"flex\",\"flex-direction\":\"column\"}},\"nodeType\":\"DOM\",\"type\":\"node\",\"instanceArgs\":{\"namespace\":\"html\",\"tag\":\"div\"},\"children\":[]}]}]},\n",
       "        window,\n",
       "    );\n",
       "    })()\n",
       "    </script>\n",
       "</div>\n"
      ],
      "text/plain": [
       "WebIO.Node{WebIO.DOM}(WebIO.DOM(:html, :div), Any[WebIO.Node{WebIO.DOM}(WebIO.DOM(:html, :div), Any[WebIO.Node{WebIO.DOM}(WebIO.DOM(:html, :div), Any[WebIO.Node{WebIO.DOM}(WebIO.DOM(:html, :div), Any[WebIO.Scope(WebIO.Node{WebIO.DOM}(WebIO.DOM(:html, :div), Any[WebIO.Node{WebIO.DOM}(WebIO.DOM(:html, :div), Any[WebIO.Node{WebIO.DOM}(WebIO.DOM(:html, :label), Any[\"time\"], Dict{Symbol, Any}(:className => \"interact \", :style => Dict{Any, Any}(:padding => \"5px 10px 0px 10px\")))], Dict{Symbol, Any}(:className => \"interact-flex-row-left\")), WebIO.Node{WebIO.DOM}(WebIO.DOM(:html, :div), Any[WebIO.Node{WebIO.DOM}(WebIO.DOM(:html, :input), Any[], Dict{Symbol, Any}(:max => 401, :min => 1, :attributes => Dict{Any, Any}(:type => \"range\", Symbol(\"data-bind\") => \"numericValue: index, valueUpdate: 'input', event: {change: function (){this.changes(this.changes()+1)}}\", \"orient\" => \"horizontal\"), :step => 1, :className => \"slider slider is-fullwidth\", :style => Dict{Any, Any}()))], Dict{Symbol, Any}(:className => \"interact-flex-row-center\")), WebIO.Node{WebIO.DOM}(WebIO.DOM(:html, :div), Any[WebIO.Node{WebIO.DOM}(WebIO.DOM(:html, :p), Any[], Dict{Symbol, Any}(:attributes => Dict(\"data-bind\" => \"text: formatted_val\")))], Dict{Symbol, Any}(:className => \"interact-flex-row-right\"))], Dict{Symbol, Any}(:className => \"interact-flex-row interact-widget\")), Dict{String, Tuple{Observables.AbstractObservable, Union{Nothing, Bool}}}(\"changes\" => (Observable(0), nothing), \"index\" => (Observable(201), nothing)), Set{String}(), nothing, WebIO.Asset[WebIO.Asset(\"js\", \"knockout\", \"/home/dushya/.julia/packages/Knockout/HReiN/src/../assets/knockout.js\"), WebIO.Asset(\"js\", \"knockout_punches\", \"/home/dushya/.julia/packages/Knockout/HReiN/src/../assets/knockout_punches.js\"), WebIO.Asset(\"js\", nothing, \"/home/dushya/.julia/packages/InteractBase/LJXv3/src/../assets/all.js\"), WebIO.Asset(\"css\", nothing, \"/home/dushya/.julia/packages/InteractBase/LJXv3/src/../assets/style.css\"), WebIO.Asset(\"css\", nothing, \"/home/dushya/.julia/packages/Interact/PENUy/src/../assets/bulma_confined.min.css\")], Dict{Any, Any}(\"changes\" => Any[WebIO.JSString(\"(function (val){return (val!=this.model[\\\"changes\\\"]()) ? (this.valueFromJulia[\\\"changes\\\"]=true, this.model[\\\"changes\\\"](val)) : undefined})\")], \"index\" => Any[WebIO.JSString(\"(function (val){return (val!=this.model[\\\"index\\\"]()) ? (this.valueFromJulia[\\\"index\\\"]=true, this.model[\\\"index\\\"](val)) : undefined})\")]), WebIO.ConnectionPool(Channel{Any}(32), Set{WebIO.AbstractConnection}(), Base.GenericCondition{ReentrantLock}(Base.IntrusiveLinkedList{Task}(Task (runnable) @0x00007f4dc84b3210, Task (runnable) @0x00007f4dc84b3210), ReentrantLock(nothing, 0x00000000, 0x00, Base.GenericCondition{Base.Threads.SpinLock}(Base.IntrusiveLinkedList{Task}(nothing, nothing), Base.Threads.SpinLock(0)), (8, 0, 0)))), WebIO.JSString[WebIO.JSString(\"function () {\\n    var handler = (function (ko, koPunches) {\\n    ko.punches.enableAll();\\n    ko.bindingHandlers.numericValue = {\\n        init: function(element, valueAccessor, allBindings, data, context) {\\n            var stringified = ko.observable(ko.unwrap(valueAccessor()));\\n            stringified.subscribe(function(value) {\\n                var val = parseFloat(value);\\n                if (!isNaN(val)) {\\n                    valueAccessor()(val);\\n                }\\n            });\\n            valueAccessor().subscribe(function(value) {\\n                var str = JSON.stringify(value);\\n                if ((str == \\\"0\\\") && ([\\\"-0\\\", \\\"-0.\\\"].indexOf(stringified()) >= 0))\\n                     return;\\n                 if ([\\\"null\\\", \\\"\\\"].indexOf(str) >= 0)\\n                     return;\\n                stringified(str);\\n            });\\n            ko.applyBindingsToNode(\\n                element,\\n                {\\n                    value: stringified,\\n                    valueUpdate: allBindings.get('valueUpdate'),\\n                },\\n                context,\\n            );\\n        }\\n    };\\n    var json_data = {\\\"formatted_vals\\\":[\\\"1\\\",\\\"2\\\",\\\"3\\\",\\\"4\\\",\\\"5\\\",\\\"6\\\",\\\"7\\\",\\\"8\\\",\\\"9\\\",\\\"10\\\",\\\"11\\\",\\\"12\\\",\\\"13\\\",\\\"14\\\",\\\"15\\\",\\\"16\\\",\\\"17\\\",\\\"18\\\",\\\"19\\\",\\\"20\\\",\\\"21\\\",\\\"22\\\",\\\"23\\\",\\\"24\\\",\\\"25\\\",\\\"26\\\",\\\"27\\\",\\\"28\\\",\\\"29\\\",\\\"30\\\",\\\"31\\\",\\\"32\\\",\\\"33\\\",\\\"34\\\",\\\"35\\\",\\\"36\\\",\\\"37\\\",\\\"38\\\",\\\"39\\\",\\\"40\\\",\\\"41\\\",\\\"42\\\",\\\"43\\\",\\\"44\\\",\\\"45\\\",\\\"46\\\",\\\"47\\\",\\\"48\\\",\\\"49\\\",\\\"50\\\",\\\"51\\\",\\\"52\\\",\\\"53\\\",\\\"54\\\",\\\"55\\\",\\\"56\\\",\\\"57\\\",\\\"58\\\",\\\"59\\\",\\\"60\\\",\\\"61\\\",\\\"62\\\",\\\"63\\\",\\\"64\\\",\\\"65\\\",\\\"66\\\",\\\"67\\\",\\\"68\\\",\\\"69\\\",\\\"70\\\",\\\"71\\\",\\\"72\\\",\\\"73\\\",\\\"74\\\",\\\"75\\\",\\\"76\\\",\\\"77\\\",\\\"78\\\",\\\"79\\\",\\\"80\\\",\\\"81\\\",\\\"82\\\",\\\"83\\\",\\\"84\\\",\\\"85\\\",\\\"86\\\",\\\"87\\\",\\\"88\\\",\\\"89\\\",\\\"90\\\",\\\"91\\\",\\\"92\\\",\\\"93\\\",\\\"94\\\",\\\"95\\\",\\\"96\\\",\\\"97\\\",\\\"98\\\",\\\"99\\\",\\\"100\\\",\\\"101\\\",\\\"102\\\",\\\"103\\\",\\\"104\\\",\\\"105\\\",\\\"106\\\",\\\"107\\\",\\\"108\\\",\\\"109\\\",\\\"110\\\",\\\"111\\\",\\\"112\\\",\\\"113\\\",\\\"114\\\",\\\"115\\\",\\\"116\\\",\\\"117\\\",\\\"118\\\",\\\"119\\\",\\\"120\\\",\\\"121\\\",\\\"122\\\",\\\"123\\\",\\\"124\\\",\\\"125\\\",\\\"126\\\",\\\"127\\\",\\\"128\\\",\\\"129\\\",\\\"130\\\",\\\"131\\\",\\\"132\\\",\\\"133\\\",\\\"134\\\",\\\"135\\\",\\\"136\\\",\\\"137\\\",\\\"138\\\",\\\"139\\\",\\\"140\\\",\\\"141\\\",\\\"142\\\",\\\"143\\\",\\\"144\\\",\\\"145\\\",\\\"146\\\",\\\"147\\\",\\\"148\\\",\\\"149\\\",\\\"150\\\",\\\"151\\\",\\\"152\\\",\\\"153\\\",\\\"154\\\",\\\"155\\\",\\\"156\\\",\\\"157\\\",\\\"158\\\",\\\"159\\\",\\\"160\\\",\\\"161\\\",\\\"162\\\",\\\"163\\\",\\\"164\\\",\\\"165\\\",\\\"166\\\",\\\"167\\\",\\\"168\\\",\\\"169\\\",\\\"170\\\",\\\"171\\\",\\\"172\\\",\\\"173\\\",\\\"174\\\",\\\"175\\\",\\\"176\\\",\\\"177\\\",\\\"178\\\",\\\"179\\\",\\\"180\\\",\\\"181\\\",\\\"182\\\",\\\"183\\\",\\\"184\\\",\\\"185\\\",\\\"186\\\",\\\"187\\\",\\\"188\\\",\\\"189\\\",\\\"190\\\",\\\"191\\\",\\\"192\\\",\\\"193\\\",\\\"194\\\",\\\"195\\\",\\\"196\\\",\\\"197\\\",\\\"198\\\",\\\"199\\\",\\\"200\\\",\\\"201\\\",\\\"202\\\",\\\"203\\\",\\\"204\\\",\\\"205\\\",\\\"206\\\",\\\"207\\\",\\\"208\\\",\\\"209\\\",\\\"210\\\",\\\"211\\\",\\\"212\\\",\\\"213\\\",\\\"214\\\",\\\"215\\\",\\\"216\\\",\\\"217\\\",\\\"218\\\",\\\"219\\\",\\\"220\\\",\\\"221\\\",\\\"222\\\",\\\"223\\\",\\\"224\\\",\\\"225\\\",\\\"226\\\",\\\"227\\\",\\\"228\\\",\\\"229\\\",\\\"230\\\",\\\"231\\\",\\\"232\\\",\\\"233\\\",\\\"234\\\",\\\"235\\\",\\\"236\\\",\\\"237\\\",\\\"238\\\",\\\"239\\\",\\\"240\\\",\\\"241\\\",\\\"242\\\",\\\"243\\\",\\\"244\\\",\\\"245\\\",\\\"246\\\",\\\"247\\\",\\\"248\\\",\\\"249\\\",\\\"250\\\",\\\"251\\\",\\\"252\\\",\\\"253\\\",\\\"254\\\",\\\"255\\\",\\\"256\\\",\\\"257\\\",\\\"258\\\",\\\"259\\\",\\\"260\\\",\\\"261\\\",\\\"262\\\",\\\"263\\\",\\\"264\\\",\\\"265\\\",\\\"266\\\",\\\"267\\\",\\\"268\\\",\\\"269\\\",\\\"270\\\",\\\"271\\\",\\\"272\\\",\\\"273\\\",\\\"274\\\",\\\"275\\\",\\\"276\\\",\\\"277\\\",\\\"278\\\",\\\"279\\\",\\\"280\\\",\\\"281\\\",\\\"282\\\",\\\"283\\\",\\\"284\\\",\\\"285\\\",\\\"286\\\",\\\"287\\\",\\\"288\\\",\\\"289\\\",\\\"290\\\",\\\"291\\\",\\\"292\\\",\\\"293\\\",\\\"294\\\",\\\"295\\\",\\\"296\\\",\\\"297\\\",\\\"298\\\",\\\"299\\\",\\\"300\\\",\\\"301\\\",\\\"302\\\",\\\"303\\\",\\\"304\\\",\\\"305\\\",\\\"306\\\",\\\"307\\\",\\\"308\\\",\\\"309\\\",\\\"310\\\",\\\"311\\\",\\\"312\\\",\\\"313\\\",\\\"314\\\",\\\"315\\\",\\\"316\\\",\\\"317\\\",\\\"318\\\",\\\"319\\\",\\\"320\\\",\\\"321\\\",\\\"322\\\",\\\"323\\\",\\\"324\\\",\\\"325\\\",\\\"326\\\",\\\"327\\\",\\\"328\\\",\\\"329\\\",\\\"330\\\",\\\"331\\\",\\\"332\\\",\\\"333\\\",\\\"334\\\",\\\"335\\\",\\\"336\\\",\\\"337\\\",\\\"338\\\",\\\"339\\\",\\\"340\\\",\\\"341\\\",\\\"342\\\",\\\"343\\\",\\\"344\\\",\\\"345\\\",\\\"346\\\",\\\"347\\\",\\\"348\\\",\\\"349\\\",\\\"350\\\",\\\"351\\\",\\\"352\\\",\\\"353\\\",\\\"354\\\",\\\"355\\\",\\\"356\\\",\\\"357\\\",\\\"358\\\",\\\"359\\\",\\\"360\\\",\\\"361\\\",\\\"362\\\",\\\"363\\\",\\\"364\\\",\\\"365\\\",\\\"366\\\",\\\"367\\\",\\\"368\\\",\\\"369\\\",\\\"370\\\",\\\"371\\\",\\\"372\\\",\\\"373\\\",\\\"374\\\",\\\"375\\\",\\\"376\\\",\\\"377\\\",\\\"378\\\",\\\"379\\\",\\\"380\\\",\\\"381\\\",\\\"382\\\",\\\"383\\\",\\\"384\\\",\\\"385\\\",\\\"386\\\",\\\"387\\\",\\\"388\\\",\\\"389\\\",\\\"390\\\",\\\"391\\\",\\\"392\\\",\\\"393\\\",\\\"394\\\",\\\"395\\\",\\\"396\\\",\\\"397\\\",\\\"398\\\",\\\"399\\\",\\\"400\\\",\\\"401\\\"],\\\"changes\\\":WebIO.getval({\\\"name\\\":\\\"changes\\\",\\\"scope\\\":\\\"2485224877667171834\\\",\\\"id\\\":\\\"1047025674085741737\\\",\\\"type\\\":\\\"observable\\\"}),\\\"index\\\":WebIO.getval({\\\"name\\\":\\\"index\\\",\\\"scope\\\":\\\"2485224877667171834\\\",\\\"id\\\":\\\"195515522840125728\\\",\\\"type\\\":\\\"observable\\\"})};\\n    var self = this;\\n    function AppViewModel() {\\n        for (var key in json_data) {\\n            var el = json_data[key];\\n            this[key] = Array.isArray(el) ? ko.observableArray(el) : ko.observable(el);\\n        }\\n        \\n        [this[\\\"formatted_val\\\"]=ko.computed(    function(){\\n        return this.formatted_vals()[parseInt(this.index())-(1)];\\n    }\\n,this)]\\n        [this[\\\"changes\\\"].subscribe((function (val){!(this.valueFromJulia[\\\"changes\\\"]) ? (WebIO.setval({\\\"name\\\":\\\"changes\\\",\\\"scope\\\":\\\"2485224877667171834\\\",\\\"id\\\":\\\"1047025674085741737\\\",\\\"type\\\":\\\"observable\\\"},val)) : undefined; return this.valueFromJulia[\\\"changes\\\"]=false}),self),this[\\\"index\\\"].subscribe((function (val){!(this.valueFromJulia[\\\"index\\\"]) ? (WebIO.setval({\\\"name\\\":\\\"index\\\",\\\"scope\\\":\\\"2485224877667171834\\\",\\\"id\\\":\\\"195515522840125728\\\",\\\"type\\\":\\\"observable\\\"},val)) : undefined; return this.valueFromJulia[\\\"index\\\"]=false}),self)]\\n        \\n    }\\n    self.model = new AppViewModel();\\n    self.valueFromJulia = {};\\n    for (var key in json_data) {\\n        self.valueFromJulia[key] = false;\\n    }\\n    ko.applyBindings(self.model, self.dom);\\n}\\n);\\n    (WebIO.importBlock({\\\"data\\\":[{\\\"name\\\":\\\"knockout\\\",\\\"type\\\":\\\"js\\\",\\\"url\\\":\\\"/assetserver/727383f2a47bd31570b7da84eee7b022dd6d7c78-knockout.js\\\"},{\\\"name\\\":\\\"knockout_punches\\\",\\\"type\\\":\\\"js\\\",\\\"url\\\":\\\"/assetserver/382b41b3b1bd9f26f75861d360bad7f8beea211f-knockout_punches.js\\\"}],\\\"type\\\":\\\"async_block\\\"})).then((imports) => handler.apply(this, imports));\\n}\\n\")])], Dict{Symbol, Any}(:className => \"field interact-widget\")), WebIO.Node{WebIO.DOM}(WebIO.DOM(:html, :div), Any[WebIO.Scope(WebIO.Node{WebIO.DOM}(WebIO.DOM(:html, :div), Any[WebIO.Node{WebIO.DOM}(WebIO.DOM(:html, :div), Any[WebIO.Node{WebIO.DOM}(WebIO.DOM(:html, :label), Any[\"scale\"], Dict{Symbol, Any}(:className => \"interact \", :style => Dict{Any, Any}(:padding => \"5px 10px 0px 10px\")))], Dict{Symbol, Any}(:className => \"interact-flex-row-left\")), WebIO.Node{WebIO.DOM}(WebIO.DOM(:html, :div), Any[WebIO.Node{WebIO.DOM}(WebIO.DOM(:html, :input), Any[], Dict{Symbol, Any}(:max => 20, :min => 1, :attributes => Dict{Any, Any}(:type => \"range\", Symbol(\"data-bind\") => \"numericValue: index, valueUpdate: 'input', event: {change: function (){this.changes(this.changes()+1)}}\", \"orient\" => \"horizontal\"), :step => 1, :className => \"slider slider is-fullwidth\", :style => Dict{Any, Any}()))], Dict{Symbol, Any}(:className => \"interact-flex-row-center\")), WebIO.Node{WebIO.DOM}(WebIO.DOM(:html, :div), Any[WebIO.Node{WebIO.DOM}(WebIO.DOM(:html, :p), Any[], Dict{Symbol, Any}(:attributes => Dict(\"data-bind\" => \"text: formatted_val\")))], Dict{Symbol, Any}(:className => \"interact-flex-row-right\"))], Dict{Symbol, Any}(:className => \"interact-flex-row interact-widget\")), Dict{String, Tuple{Observables.AbstractObservable, Union{Nothing, Bool}}}(\"changes\" => (Observable(0), nothing), \"index\" => (Observable{Any}(10), nothing)), Set{String}(), nothing, WebIO.Asset[WebIO.Asset(\"js\", \"knockout\", \"/home/dushya/.julia/packages/Knockout/HReiN/src/../assets/knockout.js\"), WebIO.Asset(\"js\", \"knockout_punches\", \"/home/dushya/.julia/packages/Knockout/HReiN/src/../assets/knockout_punches.js\"), WebIO.Asset(\"js\", nothing, \"/home/dushya/.julia/packages/InteractBase/LJXv3/src/../assets/all.js\"), WebIO.Asset(\"css\", nothing, \"/home/dushya/.julia/packages/InteractBase/LJXv3/src/../assets/style.css\"), WebIO.Asset(\"css\", nothing, \"/home/dushya/.julia/packages/Interact/PENUy/src/../assets/bulma_confined.min.css\")], Dict{Any, Any}(\"changes\" => Any[WebIO.JSString(\"(function (val){return (val!=this.model[\\\"changes\\\"]()) ? (this.valueFromJulia[\\\"changes\\\"]=true, this.model[\\\"changes\\\"](val)) : undefined})\")], \"index\" => Any[WebIO.JSString(\"(function (val){return (val!=this.model[\\\"index\\\"]()) ? (this.valueFromJulia[\\\"index\\\"]=true, this.model[\\\"index\\\"](val)) : undefined})\")]), WebIO.ConnectionPool(Channel{Any}(32), Set{WebIO.AbstractConnection}(), Base.GenericCondition{ReentrantLock}(Base.IntrusiveLinkedList{Task}(Task (runnable) @0x00007f4dc84c5aa0, Task (runnable) @0x00007f4dc84c5aa0), ReentrantLock(nothing, 0x00000000, 0x00, Base.GenericCondition{Base.Threads.SpinLock}(Base.IntrusiveLinkedList{Task}(nothing, nothing), Base.Threads.SpinLock(0)), (8, 0, 0)))), WebIO.JSString[WebIO.JSString(\"function () {\\n    var handler = (function (ko, koPunches) {\\n    ko.punches.enableAll();\\n    ko.bindingHandlers.numericValue = {\\n        init: function(element, valueAccessor, allBindings, data, context) {\\n            var stringified = ko.observable(ko.unwrap(valueAccessor()));\\n            stringified.subscribe(function(value) {\\n                var val = parseFloat(value);\\n                if (!isNaN(val)) {\\n                    valueAccessor()(val);\\n                }\\n            });\\n            valueAccessor().subscribe(function(value) {\\n                var str = JSON.stringify(value);\\n                if ((str == \\\"0\\\") && ([\\\"-0\\\", \\\"-0.\\\"].indexOf(stringified()) >= 0))\\n                     return;\\n                 if ([\\\"null\\\", \\\"\\\"].indexOf(str) >= 0)\\n                     return;\\n                stringified(str);\\n            });\\n            ko.applyBindingsToNode(\\n                element,\\n                {\\n                    value: stringified,\\n                    valueUpdate: allBindings.get('valueUpdate'),\\n                },\\n                context,\\n            );\\n        }\\n    };\\n    var json_data = {\\\"formatted_vals\\\":[\\\"0.1\\\",\\\"0.2\\\",\\\"0.3\\\",\\\"0.4\\\",\\\"0.5\\\",\\\"0.6\\\",\\\"0.7\\\",\\\"0.8\\\",\\\"0.9\\\",\\\"1.0\\\",\\\"1.1\\\",\\\"1.2\\\",\\\"1.3\\\",\\\"1.4\\\",\\\"1.5\\\",\\\"1.6\\\",\\\"1.7\\\",\\\"1.8\\\",\\\"1.9\\\",\\\"2.0\\\"],\\\"changes\\\":WebIO.getval({\\\"name\\\":\\\"changes\\\",\\\"scope\\\":\\\"1663298553511982820\\\",\\\"id\\\":\\\"4986575982122628196\\\",\\\"type\\\":\\\"observable\\\"}),\\\"index\\\":WebIO.getval({\\\"name\\\":\\\"index\\\",\\\"scope\\\":\\\"1663298553511982820\\\",\\\"id\\\":\\\"12281700112415587488\\\",\\\"type\\\":\\\"observable\\\"})};\\n    var self = this;\\n    function AppViewModel() {\\n        for (var key in json_data) {\\n            var el = json_data[key];\\n            this[key] = Array.isArray(el) ? ko.observableArray(el) : ko.observable(el);\\n        }\\n        \\n        [this[\\\"formatted_val\\\"]=ko.computed(    function(){\\n        return this.formatted_vals()[parseInt(this.index())-(1)];\\n    }\\n,this)]\\n        [this[\\\"changes\\\"].subscribe((function (val){!(this.valueFromJulia[\\\"changes\\\"]) ? (WebIO.setval({\\\"name\\\":\\\"changes\\\",\\\"scope\\\":\\\"1663298553511982820\\\",\\\"id\\\":\\\"4986575982122628196\\\",\\\"type\\\":\\\"observable\\\"},val)) : undefined; return this.valueFromJulia[\\\"changes\\\"]=false}),self),this[\\\"index\\\"].subscribe((function (val){!(this.valueFromJulia[\\\"index\\\"]) ? (WebIO.setval({\\\"name\\\":\\\"index\\\",\\\"scope\\\":\\\"1663298553511982820\\\",\\\"id\\\":\\\"12281700112415587488\\\",\\\"type\\\":\\\"observable\\\"},val)) : undefined; return this.valueFromJulia[\\\"index\\\"]=false}),self)]\\n        \\n    }\\n    self.model = new AppViewModel();\\n    self.valueFromJulia = {};\\n    for (var key in json_data) {\\n        self.valueFromJulia[key] = false;\\n    }\\n    ko.applyBindings(self.model, self.dom);\\n}\\n);\\n    (WebIO.importBlock({\\\"data\\\":[{\\\"name\\\":\\\"knockout\\\",\\\"type\\\":\\\"js\\\",\\\"url\\\":\\\"/assetserver/727383f2a47bd31570b7da84eee7b022dd6d7c78-knockout.js\\\"},{\\\"name\\\":\\\"knockout_punches\\\",\\\"type\\\":\\\"js\\\",\\\"url\\\":\\\"/assetserver/382b41b3b1bd9f26f75861d360bad7f8beea211f-knockout_punches.js\\\"}],\\\"type\\\":\\\"async_block\\\"})).then((imports) => handler.apply(this, imports));\\n}\\n\")])], Dict{Symbol, Any}(:className => \"field interact-widget\")), WebIO.Node{WebIO.DOM}(WebIO.DOM(:html, :div), Any[WebIO.Node{WebIO.DOM}(WebIO.DOM(:html, :div), Any[WebIO.Scope(WebIO.Node{WebIO.DOM}(WebIO.DOM(:html, :div), Any[], Dict{Symbol, Any}(:id => \"container\")), Dict{String, Tuple{Observables.AbstractObservable, Union{Nothing, Bool}}}(\"value\" => (Observable(\"\\\\;\\\\;\"), nothing)), Set{String}(), nothing, WebIO.Asset[WebIO.Asset(\"js\", nothing, \"/home/dushya/.julia/packages/InteractBase/LJXv3/src/../assets/katex.min.js\"), WebIO.Asset(\"css\", nothing, \"/home/dushya/.julia/packages/InteractBase/LJXv3/src/../assets/katex.min.css\")], Dict{Any, Any}(\"value\" => Any[WebIO.JSString(\"(function (txt){return this.k.render(txt,this.container)})\")]), WebIO.ConnectionPool(Channel{Any}(32), Set{WebIO.AbstractConnection}(), Base.GenericCondition{ReentrantLock}(Base.IntrusiveLinkedList{Task}(Task (runnable) @0x00007f4db58c0010, Task (runnable) @0x00007f4db58c0010), ReentrantLock(nothing, 0x00000000, 0x00, Base.GenericCondition{Base.Threads.SpinLock}(Base.IntrusiveLinkedList{Task}(nothing, nothing), Base.Threads.SpinLock(0)), (0, 0, 414319052483)))), WebIO.JSString[WebIO.JSString(\"function () {\\n    var handler = ((function (k){this.k=k; this.container=this.dom.querySelector(\\\"#container\\\"); return k.render(\\\"\\\\\\\\;\\\\\\\\;\\\",this.container)}));\\n    (WebIO.importBlock({\\\"data\\\":[{\\\"name\\\":null,\\\"type\\\":\\\"js\\\",\\\"url\\\":\\\"/assetserver/dd22ed1bf1896c2748f3fe616ce0b838adc895c1-katex.min.js\\\"},{\\\"name\\\":null,\\\"type\\\":\\\"css\\\",\\\"url\\\":\\\"/assetserver/46517a424aa5e6cffc1360d7e0848b601c584ee3-katex.min.css\\\"}],\\\"type\\\":\\\"async_block\\\"})).then((imports) => handler.apply(this, imports));\\n}\\n\")])], Dict{Symbol, Any}(:className => \"interact-widget\")), WebIO.Node{WebIO.DOM}(WebIO.DOM(:html, :div), Any[WebIO.Scope(WebIO.Node{WebIO.DOM}(WebIO.DOM(:html, :button), Any[\"run\"], Dict{Symbol, Any}(:attributes => Dict{Any, Any}(\"data-bind\" => \"click: function (){this.clicks(this.clicks()+1)}, css: {'is-loading' : loading}\"), :className => \"is-medium button is-primary\", :style => Dict{String, Any}())), Dict{String, Tuple{Observables.AbstractObservable, Union{Nothing, Bool}}}(\"loading\" => (Observable(false), nothing), \"clicks\" => (Observable(0), nothing)), Set{String}(), nothing, WebIO.Asset[WebIO.Asset(\"js\", \"knockout\", \"/home/dushya/.julia/packages/Knockout/HReiN/src/../assets/knockout.js\"), WebIO.Asset(\"js\", \"knockout_punches\", \"/home/dushya/.julia/packages/Knockout/HReiN/src/../assets/knockout_punches.js\"), WebIO.Asset(\"js\", nothing, \"/home/dushya/.julia/packages/InteractBase/LJXv3/src/../assets/all.js\"), WebIO.Asset(\"css\", nothing, \"/home/dushya/.julia/packages/InteractBase/LJXv3/src/../assets/style.css\"), WebIO.Asset(\"css\", nothing, \"/home/dushya/.julia/packages/Interact/PENUy/src/../assets/bulma_confined.min.css\")], Dict{Any, Any}(\"loading\" => Any[WebIO.JSString(\"(function (val){return (val!=this.model[\\\"loading\\\"]()) ? (this.valueFromJulia[\\\"loading\\\"]=true, this.model[\\\"loading\\\"](val)) : undefined})\")], \"clicks\" => Any[WebIO.JSString(\"(function (val){return (val!=this.model[\\\"clicks\\\"]()) ? (this.valueFromJulia[\\\"clicks\\\"]=true, this.model[\\\"clicks\\\"](val)) : undefined})\")]), WebIO.ConnectionPool(Channel{Any}(32), Set{WebIO.AbstractConnection}(), Base.GenericCondition{ReentrantLock}(Base.IntrusiveLinkedList{Task}(Task (runnable) @0x00007f4dc84c8330, Task (runnable) @0x00007f4dc84c8330), ReentrantLock(nothing, 0x00000000, 0x00, Base.GenericCondition{Base.Threads.SpinLock}(Base.IntrusiveLinkedList{Task}(nothing, nothing), Base.Threads.SpinLock(0)), (8, 0, 0)))), WebIO.JSString[WebIO.JSString(\"function () {\\n    var handler = (function (ko, koPunches) {\\n    ko.punches.enableAll();\\n    ko.bindingHandlers.numericValue = {\\n        init: function(element, valueAccessor, allBindings, data, context) {\\n            var stringified = ko.observable(ko.unwrap(valueAccessor()));\\n            stringified.subscribe(function(value) {\\n                var val = parseFloat(value);\\n                if (!isNaN(val)) {\\n                    valueAccessor()(val);\\n                }\\n            });\\n            valueAccessor().subscribe(function(value) {\\n                var str = JSON.stringify(value);\\n                if ((str == \\\"0\\\") && ([\\\"-0\\\", \\\"-0.\\\"].indexOf(stringified()) >= 0))\\n                     return;\\n                 if ([\\\"null\\\", \\\"\\\"].indexOf(str) >= 0)\\n                     return;\\n                stringified(str);\\n            });\\n            ko.applyBindingsToNode(\\n                element,\\n                {\\n                    value: stringified,\\n                    valueUpdate: allBindings.get('valueUpdate'),\\n                },\\n                context,\\n            );\\n        }\\n    };\\n    var json_data = {\\\"loading\\\":WebIO.getval({\\\"name\\\":\\\"loading\\\",\\\"scope\\\":\\\"16094392654078571497\\\",\\\"id\\\":\\\"16123032071618749219\\\",\\\"type\\\":\\\"observable\\\"}),\\\"clicks\\\":WebIO.getval({\\\"name\\\":\\\"clicks\\\",\\\"scope\\\":\\\"16094392654078571497\\\",\\\"id\\\":\\\"15315285834829728780\\\",\\\"type\\\":\\\"observable\\\"})};\\n    var self = this;\\n    function AppViewModel() {\\n        for (var key in json_data) {\\n            var el = json_data[key];\\n            this[key] = Array.isArray(el) ? ko.observableArray(el) : ko.observable(el);\\n        }\\n        \\n        \\n        [this[\\\"loading\\\"].subscribe((function (val){!(this.valueFromJulia[\\\"loading\\\"]) ? (WebIO.setval({\\\"name\\\":\\\"loading\\\",\\\"scope\\\":\\\"16094392654078571497\\\",\\\"id\\\":\\\"16123032071618749219\\\",\\\"type\\\":\\\"observable\\\"},val)) : undefined; return this.valueFromJulia[\\\"loading\\\"]=false}),self),this[\\\"clicks\\\"].subscribe((function (val){!(this.valueFromJulia[\\\"clicks\\\"]) ? (WebIO.setval({\\\"name\\\":\\\"clicks\\\",\\\"scope\\\":\\\"16094392654078571497\\\",\\\"id\\\":\\\"15315285834829728780\\\",\\\"type\\\":\\\"observable\\\"},val)) : undefined; return this.valueFromJulia[\\\"clicks\\\"]=false}),self)]\\n        \\n    }\\n    self.model = new AppViewModel();\\n    self.valueFromJulia = {};\\n    for (var key in json_data) {\\n        self.valueFromJulia[key] = false;\\n    }\\n    ko.applyBindings(self.model, self.dom);\\n}\\n);\\n    (WebIO.importBlock({\\\"data\\\":[{\\\"name\\\":\\\"knockout\\\",\\\"type\\\":\\\"js\\\",\\\"url\\\":\\\"/assetserver/727383f2a47bd31570b7da84eee7b022dd6d7c78-knockout.js\\\"},{\\\"name\\\":\\\"knockout_punches\\\",\\\"type\\\":\\\"js\\\",\\\"url\\\":\\\"/assetserver/382b41b3b1bd9f26f75861d360bad7f8beea211f-knockout_punches.js\\\"}],\\\"type\\\":\\\"async_block\\\"})).then((imports) => handler.apply(this, imports));\\n}\\n\")])], Dict{Symbol, Any}(:className => \"field interact-widget\")), WebIO.Node{WebIO.DOM}(WebIO.DOM(:html, :div), Any[WebIO.Scope(WebIO.Node{WebIO.DOM}(WebIO.DOM(:html, :div), Any[], Dict{Symbol, Any}(:id => \"container\")), Dict{String, Tuple{Observables.AbstractObservable, Union{Nothing, Bool}}}(\"value\" => (Observable(\"\\\\;\\\\;\"), nothing)), Set{String}(), nothing, WebIO.Asset[WebIO.Asset(\"js\", nothing, \"/home/dushya/.julia/packages/InteractBase/LJXv3/src/../assets/katex.min.js\"), WebIO.Asset(\"css\", nothing, \"/home/dushya/.julia/packages/InteractBase/LJXv3/src/../assets/katex.min.css\")], Dict{Any, Any}(\"value\" => Any[WebIO.JSString(\"(function (txt){return this.k.render(txt,this.container)})\")]), WebIO.ConnectionPool(Channel{Any}(32), Set{WebIO.AbstractConnection}(), Base.GenericCondition{ReentrantLock}(Base.IntrusiveLinkedList{Task}(Task (runnable) @0x00007f4db58c0010, Task (runnable) @0x00007f4db58c0010), ReentrantLock(nothing, 0x00000000, 0x00, Base.GenericCondition{Base.Threads.SpinLock}(Base.IntrusiveLinkedList{Task}(nothing, nothing), Base.Threads.SpinLock(0)), (0, 0, 414319052483)))), WebIO.JSString[WebIO.JSString(\"function () {\\n    var handler = ((function (k){this.k=k; this.container=this.dom.querySelector(\\\"#container\\\"); return k.render(\\\"\\\\\\\\;\\\\\\\\;\\\",this.container)}));\\n    (WebIO.importBlock({\\\"data\\\":[{\\\"name\\\":null,\\\"type\\\":\\\"js\\\",\\\"url\\\":\\\"/assetserver/dd22ed1bf1896c2748f3fe616ce0b838adc895c1-katex.min.js\\\"},{\\\"name\\\":null,\\\"type\\\":\\\"css\\\",\\\"url\\\":\\\"/assetserver/46517a424aa5e6cffc1360d7e0848b601c584ee3-katex.min.css\\\"}],\\\"type\\\":\\\"async_block\\\"})).then((imports) => handler.apply(this, imports));\\n}\\n\")])], Dict{Symbol, Any}(:className => \"interact-widget\")), WebIO.Node{WebIO.DOM}(WebIO.DOM(:html, :div), Any[WebIO.Scope(WebIO.Node{WebIO.DOM}(WebIO.DOM(:html, :button), Any[\"stop\"], Dict{Symbol, Any}(:attributes => Dict{Any, Any}(\"data-bind\" => \"click: function (){this.clicks(this.clicks()+1)}, css: {'is-loading' : loading}\"), :className => \"is-medium button is-primary\", :style => Dict{String, Any}())), Dict{String, Tuple{Observables.AbstractObservable, Union{Nothing, Bool}}}(\"loading\" => (Observable(false), nothing), \"clicks\" => (Observable(0), nothing)), Set{String}(), nothing, WebIO.Asset[WebIO.Asset(\"js\", \"knockout\", \"/home/dushya/.julia/packages/Knockout/HReiN/src/../assets/knockout.js\"), WebIO.Asset(\"js\", \"knockout_punches\", \"/home/dushya/.julia/packages/Knockout/HReiN/src/../assets/knockout_punches.js\"), WebIO.Asset(\"js\", nothing, \"/home/dushya/.julia/packages/InteractBase/LJXv3/src/../assets/all.js\"), WebIO.Asset(\"css\", nothing, \"/home/dushya/.julia/packages/InteractBase/LJXv3/src/../assets/style.css\"), WebIO.Asset(\"css\", nothing, \"/home/dushya/.julia/packages/Interact/PENUy/src/../assets/bulma_confined.min.css\")], Dict{Any, Any}(\"loading\" => Any[WebIO.JSString(\"(function (val){return (val!=this.model[\\\"loading\\\"]()) ? (this.valueFromJulia[\\\"loading\\\"]=true, this.model[\\\"loading\\\"](val)) : undefined})\")], \"clicks\" => Any[WebIO.JSString(\"(function (val){return (val!=this.model[\\\"clicks\\\"]()) ? (this.valueFromJulia[\\\"clicks\\\"]=true, this.model[\\\"clicks\\\"](val)) : undefined})\")]), WebIO.ConnectionPool(Channel{Any}(32), Set{WebIO.AbstractConnection}(), Base.GenericCondition{ReentrantLock}(Base.IntrusiveLinkedList{Task}(Task (runnable) @0x00007f4dc84caa40, Task (runnable) @0x00007f4dc84caa40), ReentrantLock(nothing, 0x00000000, 0x00, Base.GenericCondition{Base.Threads.SpinLock}(Base.IntrusiveLinkedList{Task}(nothing, nothing), Base.Threads.SpinLock(0)), (8, 139972790385120, 0)))), WebIO.JSString[WebIO.JSString(\"function () {\\n    var handler = (function (ko, koPunches) {\\n    ko.punches.enableAll();\\n    ko.bindingHandlers.numericValue = {\\n        init: function(element, valueAccessor, allBindings, data, context) {\\n            var stringified = ko.observable(ko.unwrap(valueAccessor()));\\n            stringified.subscribe(function(value) {\\n                var val = parseFloat(value);\\n                if (!isNaN(val)) {\\n                    valueAccessor()(val);\\n                }\\n            });\\n            valueAccessor().subscribe(function(value) {\\n                var str = JSON.stringify(value);\\n                if ((str == \\\"0\\\") && ([\\\"-0\\\", \\\"-0.\\\"].indexOf(stringified()) >= 0))\\n                     return;\\n                 if ([\\\"null\\\", \\\"\\\"].indexOf(str) >= 0)\\n                     return;\\n                stringified(str);\\n            });\\n            ko.applyBindingsToNode(\\n                element,\\n                {\\n                    value: stringified,\\n                    valueUpdate: allBindings.get('valueUpdate'),\\n                },\\n                context,\\n            );\\n        }\\n    };\\n    var json_data = {\\\"loading\\\":WebIO.getval({\\\"name\\\":\\\"loading\\\",\\\"scope\\\":\\\"5202949822993549558\\\",\\\"id\\\":\\\"9385128460172696975\\\",\\\"type\\\":\\\"observable\\\"}),\\\"clicks\\\":WebIO.getval({\\\"name\\\":\\\"clicks\\\",\\\"scope\\\":\\\"5202949822993549558\\\",\\\"id\\\":\\\"12162572979585949234\\\",\\\"type\\\":\\\"observable\\\"})};\\n    var self = this;\\n    function AppViewModel() {\\n        for (var key in json_data) {\\n            var el = json_data[key];\\n            this[key] = Array.isArray(el) ? ko.observableArray(el) : ko.observable(el);\\n        }\\n        \\n        \\n        [this[\\\"loading\\\"].subscribe((function (val){!(this.valueFromJulia[\\\"loading\\\"]) ? (WebIO.setval({\\\"name\\\":\\\"loading\\\",\\\"scope\\\":\\\"5202949822993549558\\\",\\\"id\\\":\\\"9385128460172696975\\\",\\\"type\\\":\\\"observable\\\"},val)) : undefined; return this.valueFromJulia[\\\"loading\\\"]=false}),self),this[\\\"clicks\\\"].subscribe((function (val){!(this.valueFromJulia[\\\"clicks\\\"]) ? (WebIO.setval({\\\"name\\\":\\\"clicks\\\",\\\"scope\\\":\\\"5202949822993549558\\\",\\\"id\\\":\\\"12162572979585949234\\\",\\\"type\\\":\\\"observable\\\"},val)) : undefined; return this.valueFromJulia[\\\"clicks\\\"]=false}),self)]\\n        \\n    }\\n    self.model = new AppViewModel();\\n    self.valueFromJulia = {};\\n    for (var key in json_data) {\\n        self.valueFromJulia[key] = false;\\n    }\\n    ko.applyBindings(self.model, self.dom);\\n}\\n);\\n    (WebIO.importBlock({\\\"data\\\":[{\\\"name\\\":\\\"knockout\\\",\\\"type\\\":\\\"js\\\",\\\"url\\\":\\\"/assetserver/727383f2a47bd31570b7da84eee7b022dd6d7c78-knockout.js\\\"},{\\\"name\\\":\\\"knockout_punches\\\",\\\"type\\\":\\\"js\\\",\\\"url\\\":\\\"/assetserver/382b41b3b1bd9f26f75861d360bad7f8beea211f-knockout_punches.js\\\"}],\\\"type\\\":\\\"async_block\\\"})).then((imports) => handler.apply(this, imports));\\n}\\n\")])], Dict{Symbol, Any}(:className => \"field interact-widget\")), WebIO.Node{WebIO.DOM}(WebIO.DOM(:html, :div), Any[WebIO.Scope(WebIO.Node{WebIO.DOM}(WebIO.DOM(:html, :div), Any[], Dict{Symbol, Any}(:id => \"container\")), Dict{String, Tuple{Observables.AbstractObservable, Union{Nothing, Bool}}}(\"value\" => (Observable(\"\\\\;\\\\;\"), nothing)), Set{String}(), nothing, WebIO.Asset[WebIO.Asset(\"js\", nothing, \"/home/dushya/.julia/packages/InteractBase/LJXv3/src/../assets/katex.min.js\"), WebIO.Asset(\"css\", nothing, \"/home/dushya/.julia/packages/InteractBase/LJXv3/src/../assets/katex.min.css\")], Dict{Any, Any}(\"value\" => Any[WebIO.JSString(\"(function (txt){return this.k.render(txt,this.container)})\")]), WebIO.ConnectionPool(Channel{Any}(32), Set{WebIO.AbstractConnection}(), Base.GenericCondition{ReentrantLock}(Base.IntrusiveLinkedList{Task}(Task (runnable) @0x00007f4db58c0010, Task (runnable) @0x00007f4db58c0010), ReentrantLock(nothing, 0x00000000, 0x00, Base.GenericCondition{Base.Threads.SpinLock}(Base.IntrusiveLinkedList{Task}(nothing, nothing), Base.Threads.SpinLock(0)), (0, 0, 414319052483)))), WebIO.JSString[WebIO.JSString(\"function () {\\n    var handler = ((function (k){this.k=k; this.container=this.dom.querySelector(\\\"#container\\\"); return k.render(\\\"\\\\\\\\;\\\\\\\\;\\\",this.container)}));\\n    (WebIO.importBlock({\\\"data\\\":[{\\\"name\\\":null,\\\"type\\\":\\\"js\\\",\\\"url\\\":\\\"/assetserver/dd22ed1bf1896c2748f3fe616ce0b838adc895c1-katex.min.js\\\"},{\\\"name\\\":null,\\\"type\\\":\\\"css\\\",\\\"url\\\":\\\"/assetserver/46517a424aa5e6cffc1360d7e0848b601c584ee3-katex.min.css\\\"}],\\\"type\\\":\\\"async_block\\\"})).then((imports) => handler.apply(this, imports));\\n}\\n\")])], Dict{Symbol, Any}(:className => \"interact-widget\")), WebIO.Node{WebIO.DOM}(WebIO.DOM(:html, :div), Any[WebIO.Scope(WebIO.Node{WebIO.DOM}(WebIO.DOM(:html, :button), Any[\"save\"], Dict{Symbol, Any}(:attributes => Dict{Any, Any}(\"data-bind\" => \"click: function (){this.clicks(this.clicks()+1)}, css: {'is-loading' : loading}\"), :className => \"is-medium button is-primary\", :style => Dict{String, Any}())), Dict{String, Tuple{Observables.AbstractObservable, Union{Nothing, Bool}}}(\"loading\" => (Observable(false), nothing), \"clicks\" => (Observable(0), nothing)), Set{String}(), nothing, WebIO.Asset[WebIO.Asset(\"js\", \"knockout\", \"/home/dushya/.julia/packages/Knockout/HReiN/src/../assets/knockout.js\"), WebIO.Asset(\"js\", \"knockout_punches\", \"/home/dushya/.julia/packages/Knockout/HReiN/src/../assets/knockout_punches.js\"), WebIO.Asset(\"js\", nothing, \"/home/dushya/.julia/packages/InteractBase/LJXv3/src/../assets/all.js\"), WebIO.Asset(\"css\", nothing, \"/home/dushya/.julia/packages/InteractBase/LJXv3/src/../assets/style.css\"), WebIO.Asset(\"css\", nothing, \"/home/dushya/.julia/packages/Interact/PENUy/src/../assets/bulma_confined.min.css\")], Dict{Any, Any}(\"loading\" => Any[WebIO.JSString(\"(function (val){return (val!=this.model[\\\"loading\\\"]()) ? (this.valueFromJulia[\\\"loading\\\"]=true, this.model[\\\"loading\\\"](val)) : undefined})\")], \"clicks\" => Any[WebIO.JSString(\"(function (val){return (val!=this.model[\\\"clicks\\\"]()) ? (this.valueFromJulia[\\\"clicks\\\"]=true, this.model[\\\"clicks\\\"](val)) : undefined})\")]), WebIO.ConnectionPool(Channel{Any}(32), Set{WebIO.AbstractConnection}(), Base.GenericCondition{ReentrantLock}(Base.IntrusiveLinkedList{Task}(Task (runnable) @0x00007f4dc84d12d0, Task (runnable) @0x00007f4dc84d12d0), ReentrantLock(nothing, 0x00000000, 0x00, Base.GenericCondition{Base.Threads.SpinLock}(Base.IntrusiveLinkedList{Task}(nothing, nothing), Base.Threads.SpinLock(0)), (1, 139972792910240, 139973961489712)))), WebIO.JSString[WebIO.JSString(\"function () {\\n    var handler = (function (ko, koPunches) {\\n    ko.punches.enableAll();\\n    ko.bindingHandlers.numericValue = {\\n        init: function(element, valueAccessor, allBindings, data, context) {\\n            var stringified = ko.observable(ko.unwrap(valueAccessor()));\\n            stringified.subscribe(function(value) {\\n                var val = parseFloat(value);\\n                if (!isNaN(val)) {\\n                    valueAccessor()(val);\\n                }\\n            });\\n            valueAccessor().subscribe(function(value) {\\n                var str = JSON.stringify(value);\\n                if ((str == \\\"0\\\") && ([\\\"-0\\\", \\\"-0.\\\"].indexOf(stringified()) >= 0))\\n                     return;\\n                 if ([\\\"null\\\", \\\"\\\"].indexOf(str) >= 0)\\n                     return;\\n                stringified(str);\\n            });\\n            ko.applyBindingsToNode(\\n                element,\\n                {\\n                    value: stringified,\\n                    valueUpdate: allBindings.get('valueUpdate'),\\n                },\\n                context,\\n            );\\n        }\\n    };\\n    var json_data = {\\\"loading\\\":WebIO.getval({\\\"name\\\":\\\"loading\\\",\\\"scope\\\":\\\"243466683590581112\\\",\\\"id\\\":\\\"6015175549112807085\\\",\\\"type\\\":\\\"observable\\\"}),\\\"clicks\\\":WebIO.getval({\\\"name\\\":\\\"clicks\\\",\\\"scope\\\":\\\"243466683590581112\\\",\\\"id\\\":\\\"6803415756984090528\\\",\\\"type\\\":\\\"observable\\\"})};\\n    var self = this;\\n    function AppViewModel() {\\n        for (var key in json_data) {\\n            var el = json_data[key];\\n            this[key] = Array.isArray(el) ? ko.observableArray(el) : ko.observable(el);\\n        }\\n        \\n        \\n        [this[\\\"loading\\\"].subscribe((function (val){!(this.valueFromJulia[\\\"loading\\\"]) ? (WebIO.setval({\\\"name\\\":\\\"loading\\\",\\\"scope\\\":\\\"243466683590581112\\\",\\\"id\\\":\\\"6015175549112807085\\\",\\\"type\\\":\\\"observable\\\"},val)) : undefined; return this.valueFromJulia[\\\"loading\\\"]=false}),self),this[\\\"clicks\\\"].subscribe((function (val){!(this.valueFromJulia[\\\"clicks\\\"]) ? (WebIO.setval({\\\"name\\\":\\\"clicks\\\",\\\"scope\\\":\\\"243466683590581112\\\",\\\"id\\\":\\\"6803415756984090528\\\",\\\"type\\\":\\\"observable\\\"},val)) : undefined; return this.valueFromJulia[\\\"clicks\\\"]=false}),self)]\\n        \\n    }\\n    self.model = new AppViewModel();\\n    self.valueFromJulia = {};\\n    for (var key in json_data) {\\n        self.valueFromJulia[key] = false;\\n    }\\n    ko.applyBindings(self.model, self.dom);\\n}\\n);\\n    (WebIO.importBlock({\\\"data\\\":[{\\\"name\\\":\\\"knockout\\\",\\\"type\\\":\\\"js\\\",\\\"url\\\":\\\"/assetserver/727383f2a47bd31570b7da84eee7b022dd6d7c78-knockout.js\\\"},{\\\"name\\\":\\\"knockout_punches\\\",\\\"type\\\":\\\"js\\\",\\\"url\\\":\\\"/assetserver/382b41b3b1bd9f26f75861d360bad7f8beea211f-knockout_punches.js\\\"}],\\\"type\\\":\\\"async_block\\\"})).then((imports) => handler.apply(this, imports));\\n}\\n\")])], Dict{Symbol, Any}(:className => \"field interact-widget\"))], Dict{Symbol, Any}(:style => Dict(\"display\" => \"flex\", \"flex-direction\" => \"row\")))], Dict{Symbol, Any}(:style => Dict(\"display\" => \"flex\", \"flex-direction\" => \"column\"))), WebIO.Node{WebIO.DOM}(WebIO.DOM(:html, :div), Any[WebIO.Scope(WebIO.Node{WebIO.DOM}(WebIO.DOM(:html, :div), Any[], Dict{Symbol, Any}(:id => \"container\")), Dict{String, Tuple{Observables.AbstractObservable, Union{Nothing, Bool}}}(\"value\" => (Observable(\"\\\\;\\\\;\"), nothing)), Set{String}(), nothing, WebIO.Asset[WebIO.Asset(\"js\", nothing, \"/home/dushya/.julia/packages/InteractBase/LJXv3/src/../assets/katex.min.js\"), WebIO.Asset(\"css\", nothing, \"/home/dushya/.julia/packages/InteractBase/LJXv3/src/../assets/katex.min.css\")], Dict{Any, Any}(\"value\" => Any[WebIO.JSString(\"(function (txt){return this.k.render(txt,this.container)})\")]), WebIO.ConnectionPool(Channel{Any}(32), Set{WebIO.AbstractConnection}(), Base.GenericCondition{ReentrantLock}(Base.IntrusiveLinkedList{Task}(Task (runnable) @0x00007f4db58c0010, Task (runnable) @0x00007f4db58c0010), ReentrantLock(nothing, 0x00000000, 0x00, Base.GenericCondition{Base.Threads.SpinLock}(Base.IntrusiveLinkedList{Task}(nothing, nothing), Base.Threads.SpinLock(0)), (0, 0, 414319052483)))), WebIO.JSString[WebIO.JSString(\"function () {\\n    var handler = ((function (k){this.k=k; this.container=this.dom.querySelector(\\\"#container\\\"); return k.render(\\\"\\\\\\\\;\\\\\\\\;\\\",this.container)}));\\n    (WebIO.importBlock({\\\"data\\\":[{\\\"name\\\":null,\\\"type\\\":\\\"js\\\",\\\"url\\\":\\\"/assetserver/dd22ed1bf1896c2748f3fe616ce0b838adc895c1-katex.min.js\\\"},{\\\"name\\\":null,\\\"type\\\":\\\"css\\\",\\\"url\\\":\\\"/assetserver/46517a424aa5e6cffc1360d7e0848b601c584ee3-katex.min.css\\\"}],\\\"type\\\":\\\"async_block\\\"})).then((imports) => handler.apply(this, imports));\\n}\\n\")])], Dict{Symbol, Any}(:className => \"interact-widget\")), Observable(Luxor.Drawing(430.0, 430.0, \"\", Cairo.CairoSurfaceBase{UInt32}(Ptr{Nothing} @0x0000000000000000, 430.0, 430.0), Cairo.CairoContext(Ptr{Nothing} @0x00000000049197d0, Cairo.CairoSurfaceBase{UInt32}(Ptr{Nothing} @0x0000000000000000, 430.0, 430.0), Ptr{Nothing} @0x0000000004be9ee0), :png, 0.0, 0.0, 0.0, 1.0, IOBuffer(data=UInt8[...], readable=true, writable=true, seekable=true, append=false, size=5972, maxsize=Inf, ptr=5973, mark=-1), UInt8[0x89, 0x50, 0x4e, 0x47, 0x0d, 0x0a, 0x1a, 0x0a, 0x00, 0x00  …  0x00, 0x00, 0x49, 0x45, 0x4e, 0x44, 0xae, 0x42, 0x60, 0x82], false)), WebIO.Node{WebIO.DOM}(WebIO.DOM(:html, :div), Any[WebIO.Scope(WebIO.Node{WebIO.DOM}(WebIO.DOM(:html, :div), Any[], Dict{Symbol, Any}(:id => \"container\")), Dict{String, Tuple{Observables.AbstractObservable, Union{Nothing, Bool}}}(\"value\" => (Observable(\"\\\\;\\\\;\"), nothing)), Set{String}(), nothing, WebIO.Asset[WebIO.Asset(\"js\", nothing, \"/home/dushya/.julia/packages/InteractBase/LJXv3/src/../assets/katex.min.js\"), WebIO.Asset(\"css\", nothing, \"/home/dushya/.julia/packages/InteractBase/LJXv3/src/../assets/katex.min.css\")], Dict{Any, Any}(\"value\" => Any[WebIO.JSString(\"(function (txt){return this.k.render(txt,this.container)})\")]), WebIO.ConnectionPool(Channel{Any}(32), Set{WebIO.AbstractConnection}(), Base.GenericCondition{ReentrantLock}(Base.IntrusiveLinkedList{Task}(Task (runnable) @0x00007f4db58c0010, Task (runnable) @0x00007f4db58c0010), ReentrantLock(nothing, 0x00000000, 0x00, Base.GenericCondition{Base.Threads.SpinLock}(Base.IntrusiveLinkedList{Task}(nothing, nothing), Base.Threads.SpinLock(0)), (0, 0, 414319052483)))), WebIO.JSString[WebIO.JSString(\"function () {\\n    var handler = ((function (k){this.k=k; this.container=this.dom.querySelector(\\\"#container\\\"); return k.render(\\\"\\\\\\\\;\\\\\\\\;\\\",this.container)}));\\n    (WebIO.importBlock({\\\"data\\\":[{\\\"name\\\":null,\\\"type\\\":\\\"js\\\",\\\"url\\\":\\\"/assetserver/dd22ed1bf1896c2748f3fe616ce0b838adc895c1-katex.min.js\\\"},{\\\"name\\\":null,\\\"type\\\":\\\"css\\\",\\\"url\\\":\\\"/assetserver/46517a424aa5e6cffc1360d7e0848b601c584ee3-katex.min.css\\\"}],\\\"type\\\":\\\"async_block\\\"})).then((imports) => handler.apply(this, imports));\\n}\\n\")])], Dict{Symbol, Any}(:className => \"interact-widget\")), WebIO.Node{WebIO.DOM}(WebIO.DOM(:html, :div), Any[], Dict{Symbol, Any}(:style => Dict(\"display\" => \"flex\", \"flex-direction\" => \"column\")))], Dict{Symbol, Any}(:style => Dict(\"display\" => \"flex\", \"flex-direction\" => \"row\")))], Dict{Symbol, Any}(:style => Dict(\"display\" => \"flex\", \"flex-direction\" => \"column\")))"
      ]
     },
     "execution_count": 18,
     "metadata": {
      "application/vnd.webio.node+json": {
       "kernelId": null
      }
     },
     "output_type": "execute_result"
    }
   ],
   "source": [
    "animate_sim(model, show_grid=true) #since there are only patches and no agents, show_grid must be true for the animation"
   ]
  },
  {
   "cell_type": "markdown",
   "metadata": {},
   "source": [
    "After defining the `step_rule!` function we can also choose to create an interactive application (which currently works in Jupyter with WebIO installation) as "
   ]
  },
  {
   "cell_type": "code",
   "execution_count": 6,
   "metadata": {},
   "outputs": [
    {
     "data": {
      "application/vnd.webio.node+json": {
       "children": [
        {
         "children": [
          {
           "children": [
            {
             "children": [
              {
               "children": [
                {
                 "children": [
                  {
                   "children": [
                    {
                     "children": [
                      "time"
                     ],
                     "instanceArgs": {
                      "namespace": "html",
                      "tag": "label"
                     },
                     "nodeType": "DOM",
                     "props": {
                      "className": "interact ",
                      "style": {
                       "padding": "5px 10px 0px 10px"
                      }
                     },
                     "type": "node"
                    }
                   ],
                   "instanceArgs": {
                    "namespace": "html",
                    "tag": "div"
                   },
                   "nodeType": "DOM",
                   "props": {
                    "className": "interact-flex-row-left"
                   },
                   "type": "node"
                  },
                  {
                   "children": [
                    {
                     "children": [],
                     "instanceArgs": {
                      "namespace": "html",
                      "tag": "input"
                     },
                     "nodeType": "DOM",
                     "props": {
                      "attributes": {
                       "data-bind": "numericValue: index, valueUpdate: 'input', event: {change: function (){this.changes(this.changes()+1)}}",
                       "orient": "horizontal",
                       "type": "range"
                      },
                      "className": "slider slider is-fullwidth",
                      "max": 400,
                      "min": 1,
                      "step": 1,
                      "style": {}
                     },
                     "type": "node"
                    }
                   ],
                   "instanceArgs": {
                    "namespace": "html",
                    "tag": "div"
                   },
                   "nodeType": "DOM",
                   "props": {
                    "className": "interact-flex-row-center"
                   },
                   "type": "node"
                  },
                  {
                   "children": [
                    {
                     "children": [],
                     "instanceArgs": {
                      "namespace": "html",
                      "tag": "p"
                     },
                     "nodeType": "DOM",
                     "props": {
                      "attributes": {
                       "data-bind": "text: formatted_val"
                      }
                     },
                     "type": "node"
                    }
                   ],
                   "instanceArgs": {
                    "namespace": "html",
                    "tag": "div"
                   },
                   "nodeType": "DOM",
                   "props": {
                    "className": "interact-flex-row-right"
                   },
                   "type": "node"
                  }
                 ],
                 "instanceArgs": {
                  "namespace": "html",
                  "tag": "div"
                 },
                 "nodeType": "DOM",
                 "props": {
                  "className": "interact-flex-row interact-widget"
                 },
                 "type": "node"
                }
               ],
               "instanceArgs": {
                "handlers": {
                 "changes": [
                  "(function (val){return (val!=this.model[\"changes\"]()) ? (this.valueFromJulia[\"changes\"]=true, this.model[\"changes\"](val)) : undefined})"
                 ],
                 "index": [
                  "(function (val){return (val!=this.model[\"index\"]()) ? (this.valueFromJulia[\"index\"]=true, this.model[\"index\"](val)) : undefined})"
                 ]
                },
                "id": "11777444153335385659",
                "imports": {
                 "data": [
                  {
                   "name": "knockout",
                   "type": "js",
                   "url": "/assetserver/727383f2a47bd31570b7da84eee7b022dd6d7c78-knockout.js"
                  },
                  {
                   "name": "knockout_punches",
                   "type": "js",
                   "url": "/assetserver/382b41b3b1bd9f26f75861d360bad7f8beea211f-knockout_punches.js"
                  },
                  {
                   "name": null,
                   "type": "js",
                   "url": "/assetserver/5ab20f1060420992a9b82a65b735dee4d81ef413-all.js"
                  },
                  {
                   "name": null,
                   "type": "css",
                   "url": "/assetserver/1cc0ed62837210b80a182cc3676512f895dab686-style.css"
                  },
                  {
                   "name": null,
                   "type": "css",
                   "url": "/assetserver/2eee816f616df3549d7044d45e744fbf8d42bfa1-bulma_confined.min.css"
                  }
                 ],
                 "type": "async_block"
                },
                "mount_callbacks": [
                 "function () {\n    var handler = (function (ko, koPunches) {\n    ko.punches.enableAll();\n    ko.bindingHandlers.numericValue = {\n        init: function(element, valueAccessor, allBindings, data, context) {\n            var stringified = ko.observable(ko.unwrap(valueAccessor()));\n            stringified.subscribe(function(value) {\n                var val = parseFloat(value);\n                if (!isNaN(val)) {\n                    valueAccessor()(val);\n                }\n            });\n            valueAccessor().subscribe(function(value) {\n                var str = JSON.stringify(value);\n                if ((str == \"0\") && ([\"-0\", \"-0.\"].indexOf(stringified()) >= 0))\n                     return;\n                 if ([\"null\", \"\"].indexOf(str) >= 0)\n                     return;\n                stringified(str);\n            });\n            ko.applyBindingsToNode(\n                element,\n                {\n                    value: stringified,\n                    valueUpdate: allBindings.get('valueUpdate'),\n                },\n                context,\n            );\n        }\n    };\n    var json_data = {\"formatted_vals\":[\"1\",\"2\",\"3\",\"4\",\"5\",\"6\",\"7\",\"8\",\"9\",\"10\",\"11\",\"12\",\"13\",\"14\",\"15\",\"16\",\"17\",\"18\",\"19\",\"20\",\"21\",\"22\",\"23\",\"24\",\"25\",\"26\",\"27\",\"28\",\"29\",\"30\",\"31\",\"32\",\"33\",\"34\",\"35\",\"36\",\"37\",\"38\",\"39\",\"40\",\"41\",\"42\",\"43\",\"44\",\"45\",\"46\",\"47\",\"48\",\"49\",\"50\",\"51\",\"52\",\"53\",\"54\",\"55\",\"56\",\"57\",\"58\",\"59\",\"60\",\"61\",\"62\",\"63\",\"64\",\"65\",\"66\",\"67\",\"68\",\"69\",\"70\",\"71\",\"72\",\"73\",\"74\",\"75\",\"76\",\"77\",\"78\",\"79\",\"80\",\"81\",\"82\",\"83\",\"84\",\"85\",\"86\",\"87\",\"88\",\"89\",\"90\",\"91\",\"92\",\"93\",\"94\",\"95\",\"96\",\"97\",\"98\",\"99\",\"100\",\"101\",\"102\",\"103\",\"104\",\"105\",\"106\",\"107\",\"108\",\"109\",\"110\",\"111\",\"112\",\"113\",\"114\",\"115\",\"116\",\"117\",\"118\",\"119\",\"120\",\"121\",\"122\",\"123\",\"124\",\"125\",\"126\",\"127\",\"128\",\"129\",\"130\",\"131\",\"132\",\"133\",\"134\",\"135\",\"136\",\"137\",\"138\",\"139\",\"140\",\"141\",\"142\",\"143\",\"144\",\"145\",\"146\",\"147\",\"148\",\"149\",\"150\",\"151\",\"152\",\"153\",\"154\",\"155\",\"156\",\"157\",\"158\",\"159\",\"160\",\"161\",\"162\",\"163\",\"164\",\"165\",\"166\",\"167\",\"168\",\"169\",\"170\",\"171\",\"172\",\"173\",\"174\",\"175\",\"176\",\"177\",\"178\",\"179\",\"180\",\"181\",\"182\",\"183\",\"184\",\"185\",\"186\",\"187\",\"188\",\"189\",\"190\",\"191\",\"192\",\"193\",\"194\",\"195\",\"196\",\"197\",\"198\",\"199\",\"200\",\"201\",\"202\",\"203\",\"204\",\"205\",\"206\",\"207\",\"208\",\"209\",\"210\",\"211\",\"212\",\"213\",\"214\",\"215\",\"216\",\"217\",\"218\",\"219\",\"220\",\"221\",\"222\",\"223\",\"224\",\"225\",\"226\",\"227\",\"228\",\"229\",\"230\",\"231\",\"232\",\"233\",\"234\",\"235\",\"236\",\"237\",\"238\",\"239\",\"240\",\"241\",\"242\",\"243\",\"244\",\"245\",\"246\",\"247\",\"248\",\"249\",\"250\",\"251\",\"252\",\"253\",\"254\",\"255\",\"256\",\"257\",\"258\",\"259\",\"260\",\"261\",\"262\",\"263\",\"264\",\"265\",\"266\",\"267\",\"268\",\"269\",\"270\",\"271\",\"272\",\"273\",\"274\",\"275\",\"276\",\"277\",\"278\",\"279\",\"280\",\"281\",\"282\",\"283\",\"284\",\"285\",\"286\",\"287\",\"288\",\"289\",\"290\",\"291\",\"292\",\"293\",\"294\",\"295\",\"296\",\"297\",\"298\",\"299\",\"300\",\"301\",\"302\",\"303\",\"304\",\"305\",\"306\",\"307\",\"308\",\"309\",\"310\",\"311\",\"312\",\"313\",\"314\",\"315\",\"316\",\"317\",\"318\",\"319\",\"320\",\"321\",\"322\",\"323\",\"324\",\"325\",\"326\",\"327\",\"328\",\"329\",\"330\",\"331\",\"332\",\"333\",\"334\",\"335\",\"336\",\"337\",\"338\",\"339\",\"340\",\"341\",\"342\",\"343\",\"344\",\"345\",\"346\",\"347\",\"348\",\"349\",\"350\",\"351\",\"352\",\"353\",\"354\",\"355\",\"356\",\"357\",\"358\",\"359\",\"360\",\"361\",\"362\",\"363\",\"364\",\"365\",\"366\",\"367\",\"368\",\"369\",\"370\",\"371\",\"372\",\"373\",\"374\",\"375\",\"376\",\"377\",\"378\",\"379\",\"380\",\"381\",\"382\",\"383\",\"384\",\"385\",\"386\",\"387\",\"388\",\"389\",\"390\",\"391\",\"392\",\"393\",\"394\",\"395\",\"396\",\"397\",\"398\",\"399\",\"400\"],\"changes\":WebIO.getval({\"name\":\"changes\",\"scope\":\"11777444153335385659\",\"id\":\"2108766567464687608\",\"type\":\"observable\"}),\"index\":WebIO.getval({\"name\":\"index\",\"scope\":\"11777444153335385659\",\"id\":\"7211126486287401867\",\"type\":\"observable\"})};\n    var self = this;\n    function AppViewModel() {\n        for (var key in json_data) {\n            var el = json_data[key];\n            this[key] = Array.isArray(el) ? ko.observableArray(el) : ko.observable(el);\n        }\n        \n        [this[\"formatted_val\"]=ko.computed(    function(){\n        return this.formatted_vals()[parseInt(this.index())-(1)];\n    }\n,this)]\n        [this[\"changes\"].subscribe((function (val){!(this.valueFromJulia[\"changes\"]) ? (WebIO.setval({\"name\":\"changes\",\"scope\":\"11777444153335385659\",\"id\":\"2108766567464687608\",\"type\":\"observable\"},val)) : undefined; return this.valueFromJulia[\"changes\"]=false}),self),this[\"index\"].subscribe((function (val){!(this.valueFromJulia[\"index\"]) ? (WebIO.setval({\"name\":\"index\",\"scope\":\"11777444153335385659\",\"id\":\"7211126486287401867\",\"type\":\"observable\"},val)) : undefined; return this.valueFromJulia[\"index\"]=false}),self)]\n        \n    }\n    self.model = new AppViewModel();\n    self.valueFromJulia = {};\n    for (var key in json_data) {\n        self.valueFromJulia[key] = false;\n    }\n    ko.applyBindings(self.model, self.dom);\n}\n);\n    (WebIO.importBlock({\"data\":[{\"name\":\"knockout\",\"type\":\"js\",\"url\":\"/assetserver/727383f2a47bd31570b7da84eee7b022dd6d7c78-knockout.js\"},{\"name\":\"knockout_punches\",\"type\":\"js\",\"url\":\"/assetserver/382b41b3b1bd9f26f75861d360bad7f8beea211f-knockout_punches.js\"}],\"type\":\"async_block\"})).then((imports) => handler.apply(this, imports));\n}\n"
                ],
                "observables": {
                 "changes": {
                  "id": "2108766567464687608",
                  "sync": false,
                  "value": 0
                 },
                 "index": {
                  "id": "7211126486287401867",
                  "sync": true,
                  "value": 1
                 }
                },
                "systemjs_options": null
               },
               "nodeType": "Scope",
               "props": {},
               "type": "node"
              }
             ],
             "instanceArgs": {
              "namespace": "html",
              "tag": "div"
             },
             "nodeType": "DOM",
             "props": {
              "className": "field interact-widget"
             },
             "type": "node"
            },
            {
             "children": [
              {
               "children": [
                {
                 "children": [
                  {
                   "children": [
                    {
                     "children": [
                      "scale"
                     ],
                     "instanceArgs": {
                      "namespace": "html",
                      "tag": "label"
                     },
                     "nodeType": "DOM",
                     "props": {
                      "className": "interact ",
                      "style": {
                       "padding": "5px 10px 0px 10px"
                      }
                     },
                     "type": "node"
                    }
                   ],
                   "instanceArgs": {
                    "namespace": "html",
                    "tag": "div"
                   },
                   "nodeType": "DOM",
                   "props": {
                    "className": "interact-flex-row-left"
                   },
                   "type": "node"
                  },
                  {
                   "children": [
                    {
                     "children": [],
                     "instanceArgs": {
                      "namespace": "html",
                      "tag": "input"
                     },
                     "nodeType": "DOM",
                     "props": {
                      "attributes": {
                       "data-bind": "numericValue: index, valueUpdate: 'input', event: {change: function (){this.changes(this.changes()+1)}}",
                       "orient": "horizontal",
                       "type": "range"
                      },
                      "className": "slider slider is-fullwidth",
                      "max": 20,
                      "min": 1,
                      "step": 1,
                      "style": {}
                     },
                     "type": "node"
                    }
                   ],
                   "instanceArgs": {
                    "namespace": "html",
                    "tag": "div"
                   },
                   "nodeType": "DOM",
                   "props": {
                    "className": "interact-flex-row-center"
                   },
                   "type": "node"
                  },
                  {
                   "children": [
                    {
                     "children": [],
                     "instanceArgs": {
                      "namespace": "html",
                      "tag": "p"
                     },
                     "nodeType": "DOM",
                     "props": {
                      "attributes": {
                       "data-bind": "text: formatted_val"
                      }
                     },
                     "type": "node"
                    }
                   ],
                   "instanceArgs": {
                    "namespace": "html",
                    "tag": "div"
                   },
                   "nodeType": "DOM",
                   "props": {
                    "className": "interact-flex-row-right"
                   },
                   "type": "node"
                  }
                 ],
                 "instanceArgs": {
                  "namespace": "html",
                  "tag": "div"
                 },
                 "nodeType": "DOM",
                 "props": {
                  "className": "interact-flex-row interact-widget"
                 },
                 "type": "node"
                }
               ],
               "instanceArgs": {
                "handlers": {
                 "changes": [
                  "(function (val){return (val!=this.model[\"changes\"]()) ? (this.valueFromJulia[\"changes\"]=true, this.model[\"changes\"](val)) : undefined})"
                 ],
                 "index": [
                  "(function (val){return (val!=this.model[\"index\"]()) ? (this.valueFromJulia[\"index\"]=true, this.model[\"index\"](val)) : undefined})"
                 ]
                },
                "id": "10358737974987381930",
                "imports": {
                 "data": [
                  {
                   "name": "knockout",
                   "type": "js",
                   "url": "/assetserver/727383f2a47bd31570b7da84eee7b022dd6d7c78-knockout.js"
                  },
                  {
                   "name": "knockout_punches",
                   "type": "js",
                   "url": "/assetserver/382b41b3b1bd9f26f75861d360bad7f8beea211f-knockout_punches.js"
                  },
                  {
                   "name": null,
                   "type": "js",
                   "url": "/assetserver/5ab20f1060420992a9b82a65b735dee4d81ef413-all.js"
                  },
                  {
                   "name": null,
                   "type": "css",
                   "url": "/assetserver/1cc0ed62837210b80a182cc3676512f895dab686-style.css"
                  },
                  {
                   "name": null,
                   "type": "css",
                   "url": "/assetserver/2eee816f616df3549d7044d45e744fbf8d42bfa1-bulma_confined.min.css"
                  }
                 ],
                 "type": "async_block"
                },
                "mount_callbacks": [
                 "function () {\n    var handler = (function (ko, koPunches) {\n    ko.punches.enableAll();\n    ko.bindingHandlers.numericValue = {\n        init: function(element, valueAccessor, allBindings, data, context) {\n            var stringified = ko.observable(ko.unwrap(valueAccessor()));\n            stringified.subscribe(function(value) {\n                var val = parseFloat(value);\n                if (!isNaN(val)) {\n                    valueAccessor()(val);\n                }\n            });\n            valueAccessor().subscribe(function(value) {\n                var str = JSON.stringify(value);\n                if ((str == \"0\") && ([\"-0\", \"-0.\"].indexOf(stringified()) >= 0))\n                     return;\n                 if ([\"null\", \"\"].indexOf(str) >= 0)\n                     return;\n                stringified(str);\n            });\n            ko.applyBindingsToNode(\n                element,\n                {\n                    value: stringified,\n                    valueUpdate: allBindings.get('valueUpdate'),\n                },\n                context,\n            );\n        }\n    };\n    var json_data = {\"formatted_vals\":[\"0.1\",\"0.2\",\"0.3\",\"0.4\",\"0.5\",\"0.6\",\"0.7\",\"0.8\",\"0.9\",\"1.0\",\"1.1\",\"1.2\",\"1.3\",\"1.4\",\"1.5\",\"1.6\",\"1.7\",\"1.8\",\"1.9\",\"2.0\"],\"changes\":WebIO.getval({\"name\":\"changes\",\"scope\":\"10358737974987381930\",\"id\":\"8839590165831455408\",\"type\":\"observable\"}),\"index\":WebIO.getval({\"name\":\"index\",\"scope\":\"10358737974987381930\",\"id\":\"9631481927868907797\",\"type\":\"observable\"})};\n    var self = this;\n    function AppViewModel() {\n        for (var key in json_data) {\n            var el = json_data[key];\n            this[key] = Array.isArray(el) ? ko.observableArray(el) : ko.observable(el);\n        }\n        \n        [this[\"formatted_val\"]=ko.computed(    function(){\n        return this.formatted_vals()[parseInt(this.index())-(1)];\n    }\n,this)]\n        [this[\"changes\"].subscribe((function (val){!(this.valueFromJulia[\"changes\"]) ? (WebIO.setval({\"name\":\"changes\",\"scope\":\"10358737974987381930\",\"id\":\"8839590165831455408\",\"type\":\"observable\"},val)) : undefined; return this.valueFromJulia[\"changes\"]=false}),self),this[\"index\"].subscribe((function (val){!(this.valueFromJulia[\"index\"]) ? (WebIO.setval({\"name\":\"index\",\"scope\":\"10358737974987381930\",\"id\":\"9631481927868907797\",\"type\":\"observable\"},val)) : undefined; return this.valueFromJulia[\"index\"]=false}),self)]\n        \n    }\n    self.model = new AppViewModel();\n    self.valueFromJulia = {};\n    for (var key in json_data) {\n        self.valueFromJulia[key] = false;\n    }\n    ko.applyBindings(self.model, self.dom);\n}\n);\n    (WebIO.importBlock({\"data\":[{\"name\":\"knockout\",\"type\":\"js\",\"url\":\"/assetserver/727383f2a47bd31570b7da84eee7b022dd6d7c78-knockout.js\"},{\"name\":\"knockout_punches\",\"type\":\"js\",\"url\":\"/assetserver/382b41b3b1bd9f26f75861d360bad7f8beea211f-knockout_punches.js\"}],\"type\":\"async_block\"})).then((imports) => handler.apply(this, imports));\n}\n"
                ],
                "observables": {
                 "changes": {
                  "id": "8839590165831455408",
                  "sync": false,
                  "value": 0
                 },
                 "index": {
                  "id": "9631481927868907797",
                  "sync": true,
                  "value": 10
                 }
                },
                "systemjs_options": null
               },
               "nodeType": "Scope",
               "props": {},
               "type": "node"
              }
             ],
             "instanceArgs": {
              "namespace": "html",
              "tag": "div"
             },
             "nodeType": "DOM",
             "props": {
              "className": "field interact-widget"
             },
             "type": "node"
            },
            {
             "children": [],
             "instanceArgs": {
              "namespace": "html",
              "tag": "div"
             },
             "nodeType": "DOM",
             "props": {
              "style": {
               "display": "flex",
               "flex-direction": "column"
              }
             },
             "type": "node"
            },
            {
             "children": [
              {
               "children": [
                {
                 "children": [
                  {
                   "children": [
                    {
                     "children": [
                      {
                       "children": [
                        "threshold"
                       ],
                       "instanceArgs": {
                        "namespace": "html",
                        "tag": "label"
                       },
                       "nodeType": "DOM",
                       "props": {
                        "className": "interact ",
                        "style": {
                         "padding": "5px 10px 0px 10px"
                        }
                       },
                       "type": "node"
                      }
                     ],
                     "instanceArgs": {
                      "namespace": "html",
                      "tag": "div"
                     },
                     "nodeType": "DOM",
                     "props": {
                      "className": "interact-flex-row-left"
                     },
                     "type": "node"
                    },
                    {
                     "children": [
                      {
                       "children": [],
                       "instanceArgs": {
                        "namespace": "html",
                        "tag": "input"
                       },
                       "nodeType": "DOM",
                       "props": {
                        "attributes": {
                         "data-bind": "numericValue: index, valueUpdate: 'input', event: {change: function (){this.changes(this.changes()+1)}}",
                         "orient": "horizontal",
                         "type": "range"
                        },
                        "className": "slider slider is-fullwidth",
                        "max": 8,
                        "min": 1,
                        "step": 1,
                        "style": {}
                       },
                       "type": "node"
                      }
                     ],
                     "instanceArgs": {
                      "namespace": "html",
                      "tag": "div"
                     },
                     "nodeType": "DOM",
                     "props": {
                      "className": "interact-flex-row-center"
                     },
                     "type": "node"
                    },
                    {
                     "children": [
                      {
                       "children": [],
                       "instanceArgs": {
                        "namespace": "html",
                        "tag": "p"
                       },
                       "nodeType": "DOM",
                       "props": {
                        "attributes": {
                         "data-bind": "text: formatted_val"
                        }
                       },
                       "type": "node"
                      }
                     ],
                     "instanceArgs": {
                      "namespace": "html",
                      "tag": "div"
                     },
                     "nodeType": "DOM",
                     "props": {
                      "className": "interact-flex-row-right"
                     },
                     "type": "node"
                    }
                   ],
                   "instanceArgs": {
                    "namespace": "html",
                    "tag": "div"
                   },
                   "nodeType": "DOM",
                   "props": {
                    "className": "interact-flex-row interact-widget"
                   },
                   "type": "node"
                  }
                 ],
                 "instanceArgs": {
                  "handlers": {
                   "changes": [
                    "(function (val){return (val!=this.model[\"changes\"]()) ? (this.valueFromJulia[\"changes\"]=true, this.model[\"changes\"](val)) : undefined})"
                   ],
                   "index": [
                    "(function (val){return (val!=this.model[\"index\"]()) ? (this.valueFromJulia[\"index\"]=true, this.model[\"index\"](val)) : undefined})"
                   ]
                  },
                  "id": "3279220572166154215",
                  "imports": {
                   "data": [
                    {
                     "name": "knockout",
                     "type": "js",
                     "url": "/assetserver/727383f2a47bd31570b7da84eee7b022dd6d7c78-knockout.js"
                    },
                    {
                     "name": "knockout_punches",
                     "type": "js",
                     "url": "/assetserver/382b41b3b1bd9f26f75861d360bad7f8beea211f-knockout_punches.js"
                    },
                    {
                     "name": null,
                     "type": "js",
                     "url": "/assetserver/5ab20f1060420992a9b82a65b735dee4d81ef413-all.js"
                    },
                    {
                     "name": null,
                     "type": "css",
                     "url": "/assetserver/1cc0ed62837210b80a182cc3676512f895dab686-style.css"
                    },
                    {
                     "name": null,
                     "type": "css",
                     "url": "/assetserver/2eee816f616df3549d7044d45e744fbf8d42bfa1-bulma_confined.min.css"
                    }
                   ],
                   "type": "async_block"
                  },
                  "mount_callbacks": [
                   "function () {\n    var handler = (function (ko, koPunches) {\n    ko.punches.enableAll();\n    ko.bindingHandlers.numericValue = {\n        init: function(element, valueAccessor, allBindings, data, context) {\n            var stringified = ko.observable(ko.unwrap(valueAccessor()));\n            stringified.subscribe(function(value) {\n                var val = parseFloat(value);\n                if (!isNaN(val)) {\n                    valueAccessor()(val);\n                }\n            });\n            valueAccessor().subscribe(function(value) {\n                var str = JSON.stringify(value);\n                if ((str == \"0\") && ([\"-0\", \"-0.\"].indexOf(stringified()) >= 0))\n                     return;\n                 if ([\"null\", \"\"].indexOf(str) >= 0)\n                     return;\n                stringified(str);\n            });\n            ko.applyBindingsToNode(\n                element,\n                {\n                    value: stringified,\n                    valueUpdate: allBindings.get('valueUpdate'),\n                },\n                context,\n            );\n        }\n    };\n    var json_data = {\"formatted_vals\":[\"1\",\"2\",\"3\",\"4\",\"5\",\"6\",\"7\",\"8\"],\"changes\":WebIO.getval({\"name\":\"changes\",\"scope\":\"3279220572166154215\",\"id\":\"3549586681949264449\",\"type\":\"observable\"}),\"index\":WebIO.getval({\"name\":\"index\",\"scope\":\"3279220572166154215\",\"id\":\"7799153188459646826\",\"type\":\"observable\"})};\n    var self = this;\n    function AppViewModel() {\n        for (var key in json_data) {\n            var el = json_data[key];\n            this[key] = Array.isArray(el) ? ko.observableArray(el) : ko.observable(el);\n        }\n        \n        [this[\"formatted_val\"]=ko.computed(    function(){\n        return this.formatted_vals()[parseInt(this.index())-(1)];\n    }\n,this)]\n        [this[\"changes\"].subscribe((function (val){!(this.valueFromJulia[\"changes\"]) ? (WebIO.setval({\"name\":\"changes\",\"scope\":\"3279220572166154215\",\"id\":\"3549586681949264449\",\"type\":\"observable\"},val)) : undefined; return this.valueFromJulia[\"changes\"]=false}),self),this[\"index\"].subscribe((function (val){!(this.valueFromJulia[\"index\"]) ? (WebIO.setval({\"name\":\"index\",\"scope\":\"3279220572166154215\",\"id\":\"7799153188459646826\",\"type\":\"observable\"},val)) : undefined; return this.valueFromJulia[\"index\"]=false}),self)]\n        \n    }\n    self.model = new AppViewModel();\n    self.valueFromJulia = {};\n    for (var key in json_data) {\n        self.valueFromJulia[key] = false;\n    }\n    ko.applyBindings(self.model, self.dom);\n}\n);\n    (WebIO.importBlock({\"data\":[{\"name\":\"knockout\",\"type\":\"js\",\"url\":\"/assetserver/727383f2a47bd31570b7da84eee7b022dd6d7c78-knockout.js\"},{\"name\":\"knockout_punches\",\"type\":\"js\",\"url\":\"/assetserver/382b41b3b1bd9f26f75861d360bad7f8beea211f-knockout_punches.js\"}],\"type\":\"async_block\"})).then((imports) => handler.apply(this, imports));\n}\n"
                  ],
                  "observables": {
                   "changes": {
                    "id": "3549586681949264449",
                    "sync": false,
                    "value": 0
                   },
                   "index": {
                    "id": "7799153188459646826",
                    "sync": true,
                    "value": 4
                   }
                  },
                  "systemjs_options": null
                 },
                 "nodeType": "Scope",
                 "props": {},
                 "type": "node"
                }
               ],
               "instanceArgs": {
                "namespace": "html",
                "tag": "div"
               },
               "nodeType": "DOM",
               "props": {
                "className": "field interact-widget"
               },
               "type": "node"
              }
             ],
             "instanceArgs": {
              "namespace": "html",
              "tag": "div"
             },
             "nodeType": "DOM",
             "props": {
              "style": {
               "display": "flex",
               "flex-direction": "column"
              }
             },
             "type": "node"
            },
            {
             "children": [
              {
               "children": [
                {
                 "children": [
                  {
                   "children": [],
                   "instanceArgs": {
                    "namespace": "html",
                    "tag": "div"
                   },
                   "nodeType": "DOM",
                   "props": {
                    "id": "container"
                   },
                   "type": "node"
                  }
                 ],
                 "instanceArgs": {
                  "handlers": {
                   "value": [
                    "(function (txt){return this.k.render(txt,this.container)})"
                   ]
                  },
                  "id": "4511284071078795803",
                  "imports": {
                   "data": [
                    {
                     "name": null,
                     "type": "js",
                     "url": "/assetserver/dd22ed1bf1896c2748f3fe616ce0b838adc895c1-katex.min.js"
                    },
                    {
                     "name": null,
                     "type": "css",
                     "url": "/assetserver/46517a424aa5e6cffc1360d7e0848b601c584ee3-katex.min.css"
                    }
                   ],
                   "type": "async_block"
                  },
                  "mount_callbacks": [
                   "function () {\n    var handler = ((function (k){this.k=k; this.container=this.dom.querySelector(\"#container\"); return k.render(\"\\\\;\\\\;\",this.container)}));\n    (WebIO.importBlock({\"data\":[{\"name\":null,\"type\":\"js\",\"url\":\"/assetserver/dd22ed1bf1896c2748f3fe616ce0b838adc895c1-katex.min.js\"},{\"name\":null,\"type\":\"css\",\"url\":\"/assetserver/46517a424aa5e6cffc1360d7e0848b601c584ee3-katex.min.css\"}],\"type\":\"async_block\"})).then((imports) => handler.apply(this, imports));\n}\n"
                  ],
                  "observables": {
                   "value": {
                    "id": "6127030406762488160",
                    "sync": false,
                    "value": "\\;\\;"
                   }
                  },
                  "systemjs_options": null
                 },
                 "nodeType": "Scope",
                 "props": {},
                 "type": "node"
                }
               ],
               "instanceArgs": {
                "namespace": "html",
                "tag": "div"
               },
               "nodeType": "DOM",
               "props": {
                "className": "interact-widget"
               },
               "type": "node"
              },
              {
               "children": [
                {
                 "children": [
                  {
                   "children": [
                    "run"
                   ],
                   "instanceArgs": {
                    "namespace": "html",
                    "tag": "button"
                   },
                   "nodeType": "DOM",
                   "props": {
                    "attributes": {
                     "data-bind": "click: function (){this.clicks(this.clicks()+1)}, css: {'is-loading' : loading}"
                    },
                    "className": "is-medium button is-primary",
                    "style": {}
                   },
                   "type": "node"
                  }
                 ],
                 "instanceArgs": {
                  "handlers": {
                   "clicks": [
                    "(function (val){return (val!=this.model[\"clicks\"]()) ? (this.valueFromJulia[\"clicks\"]=true, this.model[\"clicks\"](val)) : undefined})"
                   ],
                   "loading": [
                    "(function (val){return (val!=this.model[\"loading\"]()) ? (this.valueFromJulia[\"loading\"]=true, this.model[\"loading\"](val)) : undefined})"
                   ]
                  },
                  "id": "977763036804095317",
                  "imports": {
                   "data": [
                    {
                     "name": "knockout",
                     "type": "js",
                     "url": "/assetserver/727383f2a47bd31570b7da84eee7b022dd6d7c78-knockout.js"
                    },
                    {
                     "name": "knockout_punches",
                     "type": "js",
                     "url": "/assetserver/382b41b3b1bd9f26f75861d360bad7f8beea211f-knockout_punches.js"
                    },
                    {
                     "name": null,
                     "type": "js",
                     "url": "/assetserver/5ab20f1060420992a9b82a65b735dee4d81ef413-all.js"
                    },
                    {
                     "name": null,
                     "type": "css",
                     "url": "/assetserver/1cc0ed62837210b80a182cc3676512f895dab686-style.css"
                    },
                    {
                     "name": null,
                     "type": "css",
                     "url": "/assetserver/2eee816f616df3549d7044d45e744fbf8d42bfa1-bulma_confined.min.css"
                    }
                   ],
                   "type": "async_block"
                  },
                  "mount_callbacks": [
                   "function () {\n    var handler = (function (ko, koPunches) {\n    ko.punches.enableAll();\n    ko.bindingHandlers.numericValue = {\n        init: function(element, valueAccessor, allBindings, data, context) {\n            var stringified = ko.observable(ko.unwrap(valueAccessor()));\n            stringified.subscribe(function(value) {\n                var val = parseFloat(value);\n                if (!isNaN(val)) {\n                    valueAccessor()(val);\n                }\n            });\n            valueAccessor().subscribe(function(value) {\n                var str = JSON.stringify(value);\n                if ((str == \"0\") && ([\"-0\", \"-0.\"].indexOf(stringified()) >= 0))\n                     return;\n                 if ([\"null\", \"\"].indexOf(str) >= 0)\n                     return;\n                stringified(str);\n            });\n            ko.applyBindingsToNode(\n                element,\n                {\n                    value: stringified,\n                    valueUpdate: allBindings.get('valueUpdate'),\n                },\n                context,\n            );\n        }\n    };\n    var json_data = {\"loading\":WebIO.getval({\"name\":\"loading\",\"scope\":\"977763036804095317\",\"id\":\"1274462871400673945\",\"type\":\"observable\"}),\"clicks\":WebIO.getval({\"name\":\"clicks\",\"scope\":\"977763036804095317\",\"id\":\"5066146471057053545\",\"type\":\"observable\"})};\n    var self = this;\n    function AppViewModel() {\n        for (var key in json_data) {\n            var el = json_data[key];\n            this[key] = Array.isArray(el) ? ko.observableArray(el) : ko.observable(el);\n        }\n        \n        \n        [this[\"loading\"].subscribe((function (val){!(this.valueFromJulia[\"loading\"]) ? (WebIO.setval({\"name\":\"loading\",\"scope\":\"977763036804095317\",\"id\":\"1274462871400673945\",\"type\":\"observable\"},val)) : undefined; return this.valueFromJulia[\"loading\"]=false}),self),this[\"clicks\"].subscribe((function (val){!(this.valueFromJulia[\"clicks\"]) ? (WebIO.setval({\"name\":\"clicks\",\"scope\":\"977763036804095317\",\"id\":\"5066146471057053545\",\"type\":\"observable\"},val)) : undefined; return this.valueFromJulia[\"clicks\"]=false}),self)]\n        \n    }\n    self.model = new AppViewModel();\n    self.valueFromJulia = {};\n    for (var key in json_data) {\n        self.valueFromJulia[key] = false;\n    }\n    ko.applyBindings(self.model, self.dom);\n}\n);\n    (WebIO.importBlock({\"data\":[{\"name\":\"knockout\",\"type\":\"js\",\"url\":\"/assetserver/727383f2a47bd31570b7da84eee7b022dd6d7c78-knockout.js\"},{\"name\":\"knockout_punches\",\"type\":\"js\",\"url\":\"/assetserver/382b41b3b1bd9f26f75861d360bad7f8beea211f-knockout_punches.js\"}],\"type\":\"async_block\"})).then((imports) => handler.apply(this, imports));\n}\n"
                  ],
                  "observables": {
                   "clicks": {
                    "id": "5066146471057053545",
                    "sync": true,
                    "value": 0
                   },
                   "loading": {
                    "id": "1274462871400673945",
                    "sync": false,
                    "value": false
                   }
                  },
                  "systemjs_options": null
                 },
                 "nodeType": "Scope",
                 "props": {},
                 "type": "node"
                }
               ],
               "instanceArgs": {
                "namespace": "html",
                "tag": "div"
               },
               "nodeType": "DOM",
               "props": {
                "className": "field interact-widget"
               },
               "type": "node"
              },
              {
               "children": [
                {
                 "children": [
                  {
                   "children": [],
                   "instanceArgs": {
                    "namespace": "html",
                    "tag": "div"
                   },
                   "nodeType": "DOM",
                   "props": {
                    "id": "container"
                   },
                   "type": "node"
                  }
                 ],
                 "instanceArgs": {
                  "handlers": {
                   "value": [
                    "(function (txt){return this.k.render(txt,this.container)})"
                   ]
                  },
                  "id": "4511284071078795803",
                  "imports": {
                   "data": [
                    {
                     "name": null,
                     "type": "js",
                     "url": "/assetserver/dd22ed1bf1896c2748f3fe616ce0b838adc895c1-katex.min.js"
                    },
                    {
                     "name": null,
                     "type": "css",
                     "url": "/assetserver/46517a424aa5e6cffc1360d7e0848b601c584ee3-katex.min.css"
                    }
                   ],
                   "type": "async_block"
                  },
                  "mount_callbacks": [
                   "function () {\n    var handler = ((function (k){this.k=k; this.container=this.dom.querySelector(\"#container\"); return k.render(\"\\\\;\\\\;\",this.container)}));\n    (WebIO.importBlock({\"data\":[{\"name\":null,\"type\":\"js\",\"url\":\"/assetserver/dd22ed1bf1896c2748f3fe616ce0b838adc895c1-katex.min.js\"},{\"name\":null,\"type\":\"css\",\"url\":\"/assetserver/46517a424aa5e6cffc1360d7e0848b601c584ee3-katex.min.css\"}],\"type\":\"async_block\"})).then((imports) => handler.apply(this, imports));\n}\n"
                  ],
                  "observables": {
                   "value": {
                    "id": "6127030406762488160",
                    "sync": false,
                    "value": "\\;\\;"
                   }
                  },
                  "systemjs_options": null
                 },
                 "nodeType": "Scope",
                 "props": {},
                 "type": "node"
                }
               ],
               "instanceArgs": {
                "namespace": "html",
                "tag": "div"
               },
               "nodeType": "DOM",
               "props": {
                "className": "interact-widget"
               },
               "type": "node"
              },
              {
               "children": [
                {
                 "children": [
                  {
                   "children": [
                    "stop"
                   ],
                   "instanceArgs": {
                    "namespace": "html",
                    "tag": "button"
                   },
                   "nodeType": "DOM",
                   "props": {
                    "attributes": {
                     "data-bind": "click: function (){this.clicks(this.clicks()+1)}, css: {'is-loading' : loading}"
                    },
                    "className": "is-medium button is-primary",
                    "style": {}
                   },
                   "type": "node"
                  }
                 ],
                 "instanceArgs": {
                  "handlers": {
                   "clicks": [
                    "(function (val){return (val!=this.model[\"clicks\"]()) ? (this.valueFromJulia[\"clicks\"]=true, this.model[\"clicks\"](val)) : undefined})"
                   ],
                   "loading": [
                    "(function (val){return (val!=this.model[\"loading\"]()) ? (this.valueFromJulia[\"loading\"]=true, this.model[\"loading\"](val)) : undefined})"
                   ]
                  },
                  "id": "11980267648665362173",
                  "imports": {
                   "data": [
                    {
                     "name": "knockout",
                     "type": "js",
                     "url": "/assetserver/727383f2a47bd31570b7da84eee7b022dd6d7c78-knockout.js"
                    },
                    {
                     "name": "knockout_punches",
                     "type": "js",
                     "url": "/assetserver/382b41b3b1bd9f26f75861d360bad7f8beea211f-knockout_punches.js"
                    },
                    {
                     "name": null,
                     "type": "js",
                     "url": "/assetserver/5ab20f1060420992a9b82a65b735dee4d81ef413-all.js"
                    },
                    {
                     "name": null,
                     "type": "css",
                     "url": "/assetserver/1cc0ed62837210b80a182cc3676512f895dab686-style.css"
                    },
                    {
                     "name": null,
                     "type": "css",
                     "url": "/assetserver/2eee816f616df3549d7044d45e744fbf8d42bfa1-bulma_confined.min.css"
                    }
                   ],
                   "type": "async_block"
                  },
                  "mount_callbacks": [
                   "function () {\n    var handler = (function (ko, koPunches) {\n    ko.punches.enableAll();\n    ko.bindingHandlers.numericValue = {\n        init: function(element, valueAccessor, allBindings, data, context) {\n            var stringified = ko.observable(ko.unwrap(valueAccessor()));\n            stringified.subscribe(function(value) {\n                var val = parseFloat(value);\n                if (!isNaN(val)) {\n                    valueAccessor()(val);\n                }\n            });\n            valueAccessor().subscribe(function(value) {\n                var str = JSON.stringify(value);\n                if ((str == \"0\") && ([\"-0\", \"-0.\"].indexOf(stringified()) >= 0))\n                     return;\n                 if ([\"null\", \"\"].indexOf(str) >= 0)\n                     return;\n                stringified(str);\n            });\n            ko.applyBindingsToNode(\n                element,\n                {\n                    value: stringified,\n                    valueUpdate: allBindings.get('valueUpdate'),\n                },\n                context,\n            );\n        }\n    };\n    var json_data = {\"loading\":WebIO.getval({\"name\":\"loading\",\"scope\":\"11980267648665362173\",\"id\":\"10511578000435487789\",\"type\":\"observable\"}),\"clicks\":WebIO.getval({\"name\":\"clicks\",\"scope\":\"11980267648665362173\",\"id\":\"17459845976795148928\",\"type\":\"observable\"})};\n    var self = this;\n    function AppViewModel() {\n        for (var key in json_data) {\n            var el = json_data[key];\n            this[key] = Array.isArray(el) ? ko.observableArray(el) : ko.observable(el);\n        }\n        \n        \n        [this[\"loading\"].subscribe((function (val){!(this.valueFromJulia[\"loading\"]) ? (WebIO.setval({\"name\":\"loading\",\"scope\":\"11980267648665362173\",\"id\":\"10511578000435487789\",\"type\":\"observable\"},val)) : undefined; return this.valueFromJulia[\"loading\"]=false}),self),this[\"clicks\"].subscribe((function (val){!(this.valueFromJulia[\"clicks\"]) ? (WebIO.setval({\"name\":\"clicks\",\"scope\":\"11980267648665362173\",\"id\":\"17459845976795148928\",\"type\":\"observable\"},val)) : undefined; return this.valueFromJulia[\"clicks\"]=false}),self)]\n        \n    }\n    self.model = new AppViewModel();\n    self.valueFromJulia = {};\n    for (var key in json_data) {\n        self.valueFromJulia[key] = false;\n    }\n    ko.applyBindings(self.model, self.dom);\n}\n);\n    (WebIO.importBlock({\"data\":[{\"name\":\"knockout\",\"type\":\"js\",\"url\":\"/assetserver/727383f2a47bd31570b7da84eee7b022dd6d7c78-knockout.js\"},{\"name\":\"knockout_punches\",\"type\":\"js\",\"url\":\"/assetserver/382b41b3b1bd9f26f75861d360bad7f8beea211f-knockout_punches.js\"}],\"type\":\"async_block\"})).then((imports) => handler.apply(this, imports));\n}\n"
                  ],
                  "observables": {
                   "clicks": {
                    "id": "17459845976795148928",
                    "sync": true,
                    "value": 0
                   },
                   "loading": {
                    "id": "10511578000435487789",
                    "sync": false,
                    "value": false
                   }
                  },
                  "systemjs_options": null
                 },
                 "nodeType": "Scope",
                 "props": {},
                 "type": "node"
                }
               ],
               "instanceArgs": {
                "namespace": "html",
                "tag": "div"
               },
               "nodeType": "DOM",
               "props": {
                "className": "field interact-widget"
               },
               "type": "node"
              },
              {
               "children": [
                {
                 "children": [
                  {
                   "children": [],
                   "instanceArgs": {
                    "namespace": "html",
                    "tag": "div"
                   },
                   "nodeType": "DOM",
                   "props": {
                    "id": "container"
                   },
                   "type": "node"
                  }
                 ],
                 "instanceArgs": {
                  "handlers": {
                   "value": [
                    "(function (txt){return this.k.render(txt,this.container)})"
                   ]
                  },
                  "id": "4511284071078795803",
                  "imports": {
                   "data": [
                    {
                     "name": null,
                     "type": "js",
                     "url": "/assetserver/dd22ed1bf1896c2748f3fe616ce0b838adc895c1-katex.min.js"
                    },
                    {
                     "name": null,
                     "type": "css",
                     "url": "/assetserver/46517a424aa5e6cffc1360d7e0848b601c584ee3-katex.min.css"
                    }
                   ],
                   "type": "async_block"
                  },
                  "mount_callbacks": [
                   "function () {\n    var handler = ((function (k){this.k=k; this.container=this.dom.querySelector(\"#container\"); return k.render(\"\\\\;\\\\;\",this.container)}));\n    (WebIO.importBlock({\"data\":[{\"name\":null,\"type\":\"js\",\"url\":\"/assetserver/dd22ed1bf1896c2748f3fe616ce0b838adc895c1-katex.min.js\"},{\"name\":null,\"type\":\"css\",\"url\":\"/assetserver/46517a424aa5e6cffc1360d7e0848b601c584ee3-katex.min.css\"}],\"type\":\"async_block\"})).then((imports) => handler.apply(this, imports));\n}\n"
                  ],
                  "observables": {
                   "value": {
                    "id": "6127030406762488160",
                    "sync": false,
                    "value": "\\;\\;"
                   }
                  },
                  "systemjs_options": null
                 },
                 "nodeType": "Scope",
                 "props": {},
                 "type": "node"
                }
               ],
               "instanceArgs": {
                "namespace": "html",
                "tag": "div"
               },
               "nodeType": "DOM",
               "props": {
                "className": "interact-widget"
               },
               "type": "node"
              },
              {
               "children": [
                {
                 "children": [
                  {
                   "children": [
                    "reset"
                   ],
                   "instanceArgs": {
                    "namespace": "html",
                    "tag": "button"
                   },
                   "nodeType": "DOM",
                   "props": {
                    "attributes": {
                     "data-bind": "click: function (){this.clicks(this.clicks()+1)}, css: {'is-loading' : loading}"
                    },
                    "className": "is-medium button is-primary",
                    "style": {}
                   },
                   "type": "node"
                  }
                 ],
                 "instanceArgs": {
                  "handlers": {
                   "clicks": [
                    "(function (val){return (val!=this.model[\"clicks\"]()) ? (this.valueFromJulia[\"clicks\"]=true, this.model[\"clicks\"](val)) : undefined})"
                   ],
                   "loading": [
                    "(function (val){return (val!=this.model[\"loading\"]()) ? (this.valueFromJulia[\"loading\"]=true, this.model[\"loading\"](val)) : undefined})"
                   ]
                  },
                  "id": "16727736528477245258",
                  "imports": {
                   "data": [
                    {
                     "name": "knockout",
                     "type": "js",
                     "url": "/assetserver/727383f2a47bd31570b7da84eee7b022dd6d7c78-knockout.js"
                    },
                    {
                     "name": "knockout_punches",
                     "type": "js",
                     "url": "/assetserver/382b41b3b1bd9f26f75861d360bad7f8beea211f-knockout_punches.js"
                    },
                    {
                     "name": null,
                     "type": "js",
                     "url": "/assetserver/5ab20f1060420992a9b82a65b735dee4d81ef413-all.js"
                    },
                    {
                     "name": null,
                     "type": "css",
                     "url": "/assetserver/1cc0ed62837210b80a182cc3676512f895dab686-style.css"
                    },
                    {
                     "name": null,
                     "type": "css",
                     "url": "/assetserver/2eee816f616df3549d7044d45e744fbf8d42bfa1-bulma_confined.min.css"
                    }
                   ],
                   "type": "async_block"
                  },
                  "mount_callbacks": [
                   "function () {\n    var handler = (function (ko, koPunches) {\n    ko.punches.enableAll();\n    ko.bindingHandlers.numericValue = {\n        init: function(element, valueAccessor, allBindings, data, context) {\n            var stringified = ko.observable(ko.unwrap(valueAccessor()));\n            stringified.subscribe(function(value) {\n                var val = parseFloat(value);\n                if (!isNaN(val)) {\n                    valueAccessor()(val);\n                }\n            });\n            valueAccessor().subscribe(function(value) {\n                var str = JSON.stringify(value);\n                if ((str == \"0\") && ([\"-0\", \"-0.\"].indexOf(stringified()) >= 0))\n                     return;\n                 if ([\"null\", \"\"].indexOf(str) >= 0)\n                     return;\n                stringified(str);\n            });\n            ko.applyBindingsToNode(\n                element,\n                {\n                    value: stringified,\n                    valueUpdate: allBindings.get('valueUpdate'),\n                },\n                context,\n            );\n        }\n    };\n    var json_data = {\"loading\":WebIO.getval({\"name\":\"loading\",\"scope\":\"16727736528477245258\",\"id\":\"3070883976576129733\",\"type\":\"observable\"}),\"clicks\":WebIO.getval({\"name\":\"clicks\",\"scope\":\"16727736528477245258\",\"id\":\"756828799672713395\",\"type\":\"observable\"})};\n    var self = this;\n    function AppViewModel() {\n        for (var key in json_data) {\n            var el = json_data[key];\n            this[key] = Array.isArray(el) ? ko.observableArray(el) : ko.observable(el);\n        }\n        \n        \n        [this[\"loading\"].subscribe((function (val){!(this.valueFromJulia[\"loading\"]) ? (WebIO.setval({\"name\":\"loading\",\"scope\":\"16727736528477245258\",\"id\":\"3070883976576129733\",\"type\":\"observable\"},val)) : undefined; return this.valueFromJulia[\"loading\"]=false}),self),this[\"clicks\"].subscribe((function (val){!(this.valueFromJulia[\"clicks\"]) ? (WebIO.setval({\"name\":\"clicks\",\"scope\":\"16727736528477245258\",\"id\":\"756828799672713395\",\"type\":\"observable\"},val)) : undefined; return this.valueFromJulia[\"clicks\"]=false}),self)]\n        \n    }\n    self.model = new AppViewModel();\n    self.valueFromJulia = {};\n    for (var key in json_data) {\n        self.valueFromJulia[key] = false;\n    }\n    ko.applyBindings(self.model, self.dom);\n}\n);\n    (WebIO.importBlock({\"data\":[{\"name\":\"knockout\",\"type\":\"js\",\"url\":\"/assetserver/727383f2a47bd31570b7da84eee7b022dd6d7c78-knockout.js\"},{\"name\":\"knockout_punches\",\"type\":\"js\",\"url\":\"/assetserver/382b41b3b1bd9f26f75861d360bad7f8beea211f-knockout_punches.js\"}],\"type\":\"async_block\"})).then((imports) => handler.apply(this, imports));\n}\n"
                  ],
                  "observables": {
                   "clicks": {
                    "id": "756828799672713395",
                    "sync": true,
                    "value": 0
                   },
                   "loading": {
                    "id": "3070883976576129733",
                    "sync": false,
                    "value": false
                   }
                  },
                  "systemjs_options": null
                 },
                 "nodeType": "Scope",
                 "props": {},
                 "type": "node"
                }
               ],
               "instanceArgs": {
                "namespace": "html",
                "tag": "div"
               },
               "nodeType": "DOM",
               "props": {
                "className": "field interact-widget"
               },
               "type": "node"
              },
              {
               "children": [
                {
                 "children": [
                  {
                   "children": [],
                   "instanceArgs": {
                    "namespace": "html",
                    "tag": "div"
                   },
                   "nodeType": "DOM",
                   "props": {
                    "id": "container"
                   },
                   "type": "node"
                  }
                 ],
                 "instanceArgs": {
                  "handlers": {
                   "value": [
                    "(function (txt){return this.k.render(txt,this.container)})"
                   ]
                  },
                  "id": "4511284071078795803",
                  "imports": {
                   "data": [
                    {
                     "name": null,
                     "type": "js",
                     "url": "/assetserver/dd22ed1bf1896c2748f3fe616ce0b838adc895c1-katex.min.js"
                    },
                    {
                     "name": null,
                     "type": "css",
                     "url": "/assetserver/46517a424aa5e6cffc1360d7e0848b601c584ee3-katex.min.css"
                    }
                   ],
                   "type": "async_block"
                  },
                  "mount_callbacks": [
                   "function () {\n    var handler = ((function (k){this.k=k; this.container=this.dom.querySelector(\"#container\"); return k.render(\"\\\\;\\\\;\",this.container)}));\n    (WebIO.importBlock({\"data\":[{\"name\":null,\"type\":\"js\",\"url\":\"/assetserver/dd22ed1bf1896c2748f3fe616ce0b838adc895c1-katex.min.js\"},{\"name\":null,\"type\":\"css\",\"url\":\"/assetserver/46517a424aa5e6cffc1360d7e0848b601c584ee3-katex.min.css\"}],\"type\":\"async_block\"})).then((imports) => handler.apply(this, imports));\n}\n"
                  ],
                  "observables": {
                   "value": {
                    "id": "6127030406762488160",
                    "sync": false,
                    "value": "\\;\\;"
                   }
                  },
                  "systemjs_options": null
                 },
                 "nodeType": "Scope",
                 "props": {},
                 "type": "node"
                }
               ],
               "instanceArgs": {
                "namespace": "html",
                "tag": "div"
               },
               "nodeType": "DOM",
               "props": {
                "className": "interact-widget"
               },
               "type": "node"
              },
              {
               "children": [
                {
                 "children": [
                  {
                   "children": [
                    "save"
                   ],
                   "instanceArgs": {
                    "namespace": "html",
                    "tag": "button"
                   },
                   "nodeType": "DOM",
                   "props": {
                    "attributes": {
                     "data-bind": "click: function (){this.clicks(this.clicks()+1)}, css: {'is-loading' : loading}"
                    },
                    "className": "is-medium button is-primary",
                    "style": {}
                   },
                   "type": "node"
                  }
                 ],
                 "instanceArgs": {
                  "handlers": {
                   "clicks": [
                    "(function (val){return (val!=this.model[\"clicks\"]()) ? (this.valueFromJulia[\"clicks\"]=true, this.model[\"clicks\"](val)) : undefined})"
                   ],
                   "loading": [
                    "(function (val){return (val!=this.model[\"loading\"]()) ? (this.valueFromJulia[\"loading\"]=true, this.model[\"loading\"](val)) : undefined})"
                   ]
                  },
                  "id": "2893011367520430689",
                  "imports": {
                   "data": [
                    {
                     "name": "knockout",
                     "type": "js",
                     "url": "/assetserver/727383f2a47bd31570b7da84eee7b022dd6d7c78-knockout.js"
                    },
                    {
                     "name": "knockout_punches",
                     "type": "js",
                     "url": "/assetserver/382b41b3b1bd9f26f75861d360bad7f8beea211f-knockout_punches.js"
                    },
                    {
                     "name": null,
                     "type": "js",
                     "url": "/assetserver/5ab20f1060420992a9b82a65b735dee4d81ef413-all.js"
                    },
                    {
                     "name": null,
                     "type": "css",
                     "url": "/assetserver/1cc0ed62837210b80a182cc3676512f895dab686-style.css"
                    },
                    {
                     "name": null,
                     "type": "css",
                     "url": "/assetserver/2eee816f616df3549d7044d45e744fbf8d42bfa1-bulma_confined.min.css"
                    }
                   ],
                   "type": "async_block"
                  },
                  "mount_callbacks": [
                   "function () {\n    var handler = (function (ko, koPunches) {\n    ko.punches.enableAll();\n    ko.bindingHandlers.numericValue = {\n        init: function(element, valueAccessor, allBindings, data, context) {\n            var stringified = ko.observable(ko.unwrap(valueAccessor()));\n            stringified.subscribe(function(value) {\n                var val = parseFloat(value);\n                if (!isNaN(val)) {\n                    valueAccessor()(val);\n                }\n            });\n            valueAccessor().subscribe(function(value) {\n                var str = JSON.stringify(value);\n                if ((str == \"0\") && ([\"-0\", \"-0.\"].indexOf(stringified()) >= 0))\n                     return;\n                 if ([\"null\", \"\"].indexOf(str) >= 0)\n                     return;\n                stringified(str);\n            });\n            ko.applyBindingsToNode(\n                element,\n                {\n                    value: stringified,\n                    valueUpdate: allBindings.get('valueUpdate'),\n                },\n                context,\n            );\n        }\n    };\n    var json_data = {\"loading\":WebIO.getval({\"name\":\"loading\",\"scope\":\"2893011367520430689\",\"id\":\"4438864265381486531\",\"type\":\"observable\"}),\"clicks\":WebIO.getval({\"name\":\"clicks\",\"scope\":\"2893011367520430689\",\"id\":\"6733924959819413210\",\"type\":\"observable\"})};\n    var self = this;\n    function AppViewModel() {\n        for (var key in json_data) {\n            var el = json_data[key];\n            this[key] = Array.isArray(el) ? ko.observableArray(el) : ko.observable(el);\n        }\n        \n        \n        [this[\"loading\"].subscribe((function (val){!(this.valueFromJulia[\"loading\"]) ? (WebIO.setval({\"name\":\"loading\",\"scope\":\"2893011367520430689\",\"id\":\"4438864265381486531\",\"type\":\"observable\"},val)) : undefined; return this.valueFromJulia[\"loading\"]=false}),self),this[\"clicks\"].subscribe((function (val){!(this.valueFromJulia[\"clicks\"]) ? (WebIO.setval({\"name\":\"clicks\",\"scope\":\"2893011367520430689\",\"id\":\"6733924959819413210\",\"type\":\"observable\"},val)) : undefined; return this.valueFromJulia[\"clicks\"]=false}),self)]\n        \n    }\n    self.model = new AppViewModel();\n    self.valueFromJulia = {};\n    for (var key in json_data) {\n        self.valueFromJulia[key] = false;\n    }\n    ko.applyBindings(self.model, self.dom);\n}\n);\n    (WebIO.importBlock({\"data\":[{\"name\":\"knockout\",\"type\":\"js\",\"url\":\"/assetserver/727383f2a47bd31570b7da84eee7b022dd6d7c78-knockout.js\"},{\"name\":\"knockout_punches\",\"type\":\"js\",\"url\":\"/assetserver/382b41b3b1bd9f26f75861d360bad7f8beea211f-knockout_punches.js\"}],\"type\":\"async_block\"})).then((imports) => handler.apply(this, imports));\n}\n"
                  ],
                  "observables": {
                   "clicks": {
                    "id": "6733924959819413210",
                    "sync": true,
                    "value": 0
                   },
                   "loading": {
                    "id": "4438864265381486531",
                    "sync": false,
                    "value": false
                   }
                  },
                  "systemjs_options": null
                 },
                 "nodeType": "Scope",
                 "props": {},
                 "type": "node"
                }
               ],
               "instanceArgs": {
                "namespace": "html",
                "tag": "div"
               },
               "nodeType": "DOM",
               "props": {
                "className": "field interact-widget"
               },
               "type": "node"
              }
             ],
             "instanceArgs": {
              "namespace": "html",
              "tag": "div"
             },
             "nodeType": "DOM",
             "props": {
              "style": {
               "display": "flex",
               "flex-direction": "row"
              }
             },
             "type": "node"
            }
           ],
           "instanceArgs": {
            "namespace": "html",
            "tag": "div"
           },
           "nodeType": "DOM",
           "props": {
            "style": {
             "display": "flex",
             "flex-direction": "column"
            }
           },
           "type": "node"
          },
          {
           "children": [
            {
             "children": [
              {
               "children": [],
               "instanceArgs": {
                "namespace": "html",
                "tag": "div"
               },
               "nodeType": "DOM",
               "props": {
                "id": "container"
               },
               "type": "node"
              }
             ],
             "instanceArgs": {
              "handlers": {
               "value": [
                "(function (txt){return this.k.render(txt,this.container)})"
               ]
              },
              "id": "4511284071078795803",
              "imports": {
               "data": [
                {
                 "name": null,
                 "type": "js",
                 "url": "/assetserver/dd22ed1bf1896c2748f3fe616ce0b838adc895c1-katex.min.js"
                },
                {
                 "name": null,
                 "type": "css",
                 "url": "/assetserver/46517a424aa5e6cffc1360d7e0848b601c584ee3-katex.min.css"
                }
               ],
               "type": "async_block"
              },
              "mount_callbacks": [
               "function () {\n    var handler = ((function (k){this.k=k; this.container=this.dom.querySelector(\"#container\"); return k.render(\"\\\\;\\\\;\",this.container)}));\n    (WebIO.importBlock({\"data\":[{\"name\":null,\"type\":\"js\",\"url\":\"/assetserver/dd22ed1bf1896c2748f3fe616ce0b838adc895c1-katex.min.js\"},{\"name\":null,\"type\":\"css\",\"url\":\"/assetserver/46517a424aa5e6cffc1360d7e0848b601c584ee3-katex.min.css\"}],\"type\":\"async_block\"})).then((imports) => handler.apply(this, imports));\n}\n"
              ],
              "observables": {
               "value": {
                "id": "6127030406762488160",
                "sync": false,
                "value": "\\;\\;"
               }
              },
              "systemjs_options": null
             },
             "nodeType": "Scope",
             "props": {},
             "type": "node"
            }
           ],
           "instanceArgs": {
            "namespace": "html",
            "tag": "div"
           },
           "nodeType": "DOM",
           "props": {
            "className": "interact-widget"
           },
           "type": "node"
          },
          {
           "children": [
            {
             "children": [],
             "instanceArgs": {
              "namespace": "html",
              "tag": "div"
             },
             "nodeType": "DOM",
             "props": {
              "className": "webio-observable",
              "setInnerHtml": "<img src='data:image/png;base64,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'></img>"
             },
             "type": "node"
            }
           ],
           "instanceArgs": {
            "handlers": {
             "obs-output": [
              "function (value, scope) {\n    scope.setInnerHTML(value);\n}\n"
             ]
            },
            "id": "3895853622100831904",
            "imports": {
             "data": [],
             "type": "async_block"
            },
            "mount_callbacks": [],
            "observables": {
             "obs-output": {
              "id": "17582725124349631326",
              "sync": false,
              "value": "<img src='data:image/png;base64,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'></img>"
             }
            },
            "systemjs_options": null
           },
           "nodeType": "Scope",
           "props": {},
           "type": "node"
          },
          {
           "children": [
            {
             "children": [
              {
               "children": [],
               "instanceArgs": {
                "namespace": "html",
                "tag": "div"
               },
               "nodeType": "DOM",
               "props": {
                "id": "container"
               },
               "type": "node"
              }
             ],
             "instanceArgs": {
              "handlers": {
               "value": [
                "(function (txt){return this.k.render(txt,this.container)})"
               ]
              },
              "id": "4511284071078795803",
              "imports": {
               "data": [
                {
                 "name": null,
                 "type": "js",
                 "url": "/assetserver/dd22ed1bf1896c2748f3fe616ce0b838adc895c1-katex.min.js"
                },
                {
                 "name": null,
                 "type": "css",
                 "url": "/assetserver/46517a424aa5e6cffc1360d7e0848b601c584ee3-katex.min.css"
                }
               ],
               "type": "async_block"
              },
              "mount_callbacks": [
               "function () {\n    var handler = ((function (k){this.k=k; this.container=this.dom.querySelector(\"#container\"); return k.render(\"\\\\;\\\\;\",this.container)}));\n    (WebIO.importBlock({\"data\":[{\"name\":null,\"type\":\"js\",\"url\":\"/assetserver/dd22ed1bf1896c2748f3fe616ce0b838adc895c1-katex.min.js\"},{\"name\":null,\"type\":\"css\",\"url\":\"/assetserver/46517a424aa5e6cffc1360d7e0848b601c584ee3-katex.min.css\"}],\"type\":\"async_block\"})).then((imports) => handler.apply(this, imports));\n}\n"
              ],
              "observables": {
               "value": {
                "id": "6127030406762488160",
                "sync": false,
                "value": "\\;\\;"
               }
              },
              "systemjs_options": null
             },
             "nodeType": "Scope",
             "props": {},
             "type": "node"
            }
           ],
           "instanceArgs": {
            "namespace": "html",
            "tag": "div"
           },
           "nodeType": "DOM",
           "props": {
            "className": "interact-widget"
           },
           "type": "node"
          },
          {
           "children": [],
           "instanceArgs": {
            "namespace": "html",
            "tag": "div"
           },
           "nodeType": "DOM",
           "props": {
            "style": {
             "display": "flex",
             "flex-direction": "column"
            }
           },
           "type": "node"
          }
         ],
         "instanceArgs": {
          "namespace": "html",
          "tag": "div"
         },
         "nodeType": "DOM",
         "props": {
          "style": {
           "display": "flex",
           "flex-direction": "row"
          }
         },
         "type": "node"
        }
       ],
       "instanceArgs": {
        "namespace": "html",
        "tag": "div"
       },
       "nodeType": "DOM",
       "props": {
        "style": {
         "display": "flex",
         "flex-direction": "column"
        }
       },
       "type": "node"
      },
      "text/html": [
       "<div\n",
       "    class=\"webio-mountpoint\"\n",
       "    data-webio-mountpoint=\"17278607087153700137\"\n",
       ">\n",
       "    <script>\n",
       "    (function(){\n",
       "    // Some integrations (namely, IJulia/Jupyter) use an alternate render pathway than\n",
       "    // just putting the html on the page. If WebIO isn't defined, then it's pretty likely\n",
       "    // that we're in one of those situations and the integration just isn't installed\n",
       "    // correctly.\n",
       "    if (typeof window.WebIO === \"undefined\") {\n",
       "        document\n",
       "            .querySelector('[data-webio-mountpoint=\"17278607087153700137\"]')\n",
       "            .innerHTML = (\n",
       "                '<div style=\"padding: 1em; background-color: #f8d6da; border: 1px solid #f5c6cb; font-weight: bold;\">' +\n",
       "                '<p><strong>WebIO not detected.</strong></p>' +\n",
       "                '<p>Please read ' +\n",
       "                '<a href=\"https://juliagizmos.github.io/WebIO.jl/latest/troubleshooting/not-detected/\" target=\"_blank\">the troubleshooting guide</a> ' +\n",
       "                'for more information on how to resolve this issue.</p>' +\n",
       "                '<p><a href=\"https://juliagizmos.github.io/WebIO.jl/latest/troubleshooting/not-detected/\" target=\"_blank\">https://juliagizmos.github.io/WebIO.jl/latest/troubleshooting/not-detected/</a></p>' +\n",
       "                '</div>'\n",
       "            );\n",
       "        return;\n",
       "    }\n",
       "    WebIO.mount(\n",
       "        document.querySelector('[data-webio-mountpoint=\"17278607087153700137\"]'),\n",
       "        {\"props\":{\"style\":{\"display\":\"flex\",\"flex-direction\":\"column\"}},\"nodeType\":\"DOM\",\"type\":\"node\",\"instanceArgs\":{\"namespace\":\"html\",\"tag\":\"div\"},\"children\":[{\"props\":{\"style\":{\"display\":\"flex\",\"flex-direction\":\"row\"}},\"nodeType\":\"DOM\",\"type\":\"node\",\"instanceArgs\":{\"namespace\":\"html\",\"tag\":\"div\"},\"children\":[{\"props\":{\"style\":{\"display\":\"flex\",\"flex-direction\":\"column\"}},\"nodeType\":\"DOM\",\"type\":\"node\",\"instanceArgs\":{\"namespace\":\"html\",\"tag\":\"div\"},\"children\":[{\"props\":{\"className\":\"field interact-widget\"},\"nodeType\":\"DOM\",\"type\":\"node\",\"instanceArgs\":{\"namespace\":\"html\",\"tag\":\"div\"},\"children\":[{\"props\":{},\"nodeType\":\"Scope\",\"type\":\"node\",\"instanceArgs\":{\"imports\":{\"data\":[{\"name\":\"knockout\",\"type\":\"js\",\"url\":\"\\/assetserver\\/727383f2a47bd31570b7da84eee7b022dd6d7c78-knockout.js\"},{\"name\":\"knockout_punches\",\"type\":\"js\",\"url\":\"\\/assetserver\\/382b41b3b1bd9f26f75861d360bad7f8beea211f-knockout_punches.js\"},{\"name\":null,\"type\":\"js\",\"url\":\"\\/assetserver\\/5ab20f1060420992a9b82a65b735dee4d81ef413-all.js\"},{\"name\":null,\"type\":\"css\",\"url\":\"\\/assetserver\\/1cc0ed62837210b80a182cc3676512f895dab686-style.css\"},{\"name\":null,\"type\":\"css\",\"url\":\"\\/assetserver\\/2eee816f616df3549d7044d45e744fbf8d42bfa1-bulma_confined.min.css\"}],\"type\":\"async_block\"},\"id\":\"11777444153335385659\",\"handlers\":{\"changes\":[\"(function (val){return (val!=this.model[\\\"changes\\\"]()) ? (this.valueFromJulia[\\\"changes\\\"]=true, this.model[\\\"changes\\\"](val)) : undefined})\"],\"index\":[\"(function (val){return (val!=this.model[\\\"index\\\"]()) ? (this.valueFromJulia[\\\"index\\\"]=true, this.model[\\\"index\\\"](val)) : undefined})\"]},\"systemjs_options\":null,\"mount_callbacks\":[\"function () {\\n    var handler = (function (ko, koPunches) {\\n    ko.punches.enableAll();\\n    ko.bindingHandlers.numericValue = {\\n        init: function(element, valueAccessor, allBindings, data, context) {\\n            var stringified = ko.observable(ko.unwrap(valueAccessor()));\\n            stringified.subscribe(function(value) {\\n                var val = parseFloat(value);\\n                if (!isNaN(val)) {\\n                    valueAccessor()(val);\\n                }\\n            });\\n            valueAccessor().subscribe(function(value) {\\n                var str = JSON.stringify(value);\\n                if ((str == \\\"0\\\") && ([\\\"-0\\\", \\\"-0.\\\"].indexOf(stringified()) >= 0))\\n                     return;\\n                 if ([\\\"null\\\", \\\"\\\"].indexOf(str) >= 0)\\n                     return;\\n                stringified(str);\\n            });\\n            ko.applyBindingsToNode(\\n                element,\\n                {\\n                    value: stringified,\\n                    valueUpdate: allBindings.get('valueUpdate'),\\n                },\\n                context,\\n            );\\n        }\\n    };\\n    var json_data = {\\\"formatted_vals\\\":[\\\"1\\\",\\\"2\\\",\\\"3\\\",\\\"4\\\",\\\"5\\\",\\\"6\\\",\\\"7\\\",\\\"8\\\",\\\"9\\\",\\\"10\\\",\\\"11\\\",\\\"12\\\",\\\"13\\\",\\\"14\\\",\\\"15\\\",\\\"16\\\",\\\"17\\\",\\\"18\\\",\\\"19\\\",\\\"20\\\",\\\"21\\\",\\\"22\\\",\\\"23\\\",\\\"24\\\",\\\"25\\\",\\\"26\\\",\\\"27\\\",\\\"28\\\",\\\"29\\\",\\\"30\\\",\\\"31\\\",\\\"32\\\",\\\"33\\\",\\\"34\\\",\\\"35\\\",\\\"36\\\",\\\"37\\\",\\\"38\\\",\\\"39\\\",\\\"40\\\",\\\"41\\\",\\\"42\\\",\\\"43\\\",\\\"44\\\",\\\"45\\\",\\\"46\\\",\\\"47\\\",\\\"48\\\",\\\"49\\\",\\\"50\\\",\\\"51\\\",\\\"52\\\",\\\"53\\\",\\\"54\\\",\\\"55\\\",\\\"56\\\",\\\"57\\\",\\\"58\\\",\\\"59\\\",\\\"60\\\",\\\"61\\\",\\\"62\\\",\\\"63\\\",\\\"64\\\",\\\"65\\\",\\\"66\\\",\\\"67\\\",\\\"68\\\",\\\"69\\\",\\\"70\\\",\\\"71\\\",\\\"72\\\",\\\"73\\\",\\\"74\\\",\\\"75\\\",\\\"76\\\",\\\"77\\\",\\\"78\\\",\\\"79\\\",\\\"80\\\",\\\"81\\\",\\\"82\\\",\\\"83\\\",\\\"84\\\",\\\"85\\\",\\\"86\\\",\\\"87\\\",\\\"88\\\",\\\"89\\\",\\\"90\\\",\\\"91\\\",\\\"92\\\",\\\"93\\\",\\\"94\\\",\\\"95\\\",\\\"96\\\",\\\"97\\\",\\\"98\\\",\\\"99\\\",\\\"100\\\",\\\"101\\\",\\\"102\\\",\\\"103\\\",\\\"104\\\",\\\"105\\\",\\\"106\\\",\\\"107\\\",\\\"108\\\",\\\"109\\\",\\\"110\\\",\\\"111\\\",\\\"112\\\",\\\"113\\\",\\\"114\\\",\\\"115\\\",\\\"116\\\",\\\"117\\\",\\\"118\\\",\\\"119\\\",\\\"120\\\",\\\"121\\\",\\\"122\\\",\\\"123\\\",\\\"124\\\",\\\"125\\\",\\\"126\\\",\\\"127\\\",\\\"128\\\",\\\"129\\\",\\\"130\\\",\\\"131\\\",\\\"132\\\",\\\"133\\\",\\\"134\\\",\\\"135\\\",\\\"136\\\",\\\"137\\\",\\\"138\\\",\\\"139\\\",\\\"140\\\",\\\"141\\\",\\\"142\\\",\\\"143\\\",\\\"144\\\",\\\"145\\\",\\\"146\\\",\\\"147\\\",\\\"148\\\",\\\"149\\\",\\\"150\\\",\\\"151\\\",\\\"152\\\",\\\"153\\\",\\\"154\\\",\\\"155\\\",\\\"156\\\",\\\"157\\\",\\\"158\\\",\\\"159\\\",\\\"160\\\",\\\"161\\\",\\\"162\\\",\\\"163\\\",\\\"164\\\",\\\"165\\\",\\\"166\\\",\\\"167\\\",\\\"168\\\",\\\"169\\\",\\\"170\\\",\\\"171\\\",\\\"172\\\",\\\"173\\\",\\\"174\\\",\\\"175\\\",\\\"176\\\",\\\"177\\\",\\\"178\\\",\\\"179\\\",\\\"180\\\",\\\"181\\\",\\\"182\\\",\\\"183\\\",\\\"184\\\",\\\"185\\\",\\\"186\\\",\\\"187\\\",\\\"188\\\",\\\"189\\\",\\\"190\\\",\\\"191\\\",\\\"192\\\",\\\"193\\\",\\\"194\\\",\\\"195\\\",\\\"196\\\",\\\"197\\\",\\\"198\\\",\\\"199\\\",\\\"200\\\",\\\"201\\\",\\\"202\\\",\\\"203\\\",\\\"204\\\",\\\"205\\\",\\\"206\\\",\\\"207\\\",\\\"208\\\",\\\"209\\\",\\\"210\\\",\\\"211\\\",\\\"212\\\",\\\"213\\\",\\\"214\\\",\\\"215\\\",\\\"216\\\",\\\"217\\\",\\\"218\\\",\\\"219\\\",\\\"220\\\",\\\"221\\\",\\\"222\\\",\\\"223\\\",\\\"224\\\",\\\"225\\\",\\\"226\\\",\\\"227\\\",\\\"228\\\",\\\"229\\\",\\\"230\\\",\\\"231\\\",\\\"232\\\",\\\"233\\\",\\\"234\\\",\\\"235\\\",\\\"236\\\",\\\"237\\\",\\\"238\\\",\\\"239\\\",\\\"240\\\",\\\"241\\\",\\\"242\\\",\\\"243\\\",\\\"244\\\",\\\"245\\\",\\\"246\\\",\\\"247\\\",\\\"248\\\",\\\"249\\\",\\\"250\\\",\\\"251\\\",\\\"252\\\",\\\"253\\\",\\\"254\\\",\\\"255\\\",\\\"256\\\",\\\"257\\\",\\\"258\\\",\\\"259\\\",\\\"260\\\",\\\"261\\\",\\\"262\\\",\\\"263\\\",\\\"264\\\",\\\"265\\\",\\\"266\\\",\\\"267\\\",\\\"268\\\",\\\"269\\\",\\\"270\\\",\\\"271\\\",\\\"272\\\",\\\"273\\\",\\\"274\\\",\\\"275\\\",\\\"276\\\",\\\"277\\\",\\\"278\\\",\\\"279\\\",\\\"280\\\",\\\"281\\\",\\\"282\\\",\\\"283\\\",\\\"284\\\",\\\"285\\\",\\\"286\\\",\\\"287\\\",\\\"288\\\",\\\"289\\\",\\\"290\\\",\\\"291\\\",\\\"292\\\",\\\"293\\\",\\\"294\\\",\\\"295\\\",\\\"296\\\",\\\"297\\\",\\\"298\\\",\\\"299\\\",\\\"300\\\",\\\"301\\\",\\\"302\\\",\\\"303\\\",\\\"304\\\",\\\"305\\\",\\\"306\\\",\\\"307\\\",\\\"308\\\",\\\"309\\\",\\\"310\\\",\\\"311\\\",\\\"312\\\",\\\"313\\\",\\\"314\\\",\\\"315\\\",\\\"316\\\",\\\"317\\\",\\\"318\\\",\\\"319\\\",\\\"320\\\",\\\"321\\\",\\\"322\\\",\\\"323\\\",\\\"324\\\",\\\"325\\\",\\\"326\\\",\\\"327\\\",\\\"328\\\",\\\"329\\\",\\\"330\\\",\\\"331\\\",\\\"332\\\",\\\"333\\\",\\\"334\\\",\\\"335\\\",\\\"336\\\",\\\"337\\\",\\\"338\\\",\\\"339\\\",\\\"340\\\",\\\"341\\\",\\\"342\\\",\\\"343\\\",\\\"344\\\",\\\"345\\\",\\\"346\\\",\\\"347\\\",\\\"348\\\",\\\"349\\\",\\\"350\\\",\\\"351\\\",\\\"352\\\",\\\"353\\\",\\\"354\\\",\\\"355\\\",\\\"356\\\",\\\"357\\\",\\\"358\\\",\\\"359\\\",\\\"360\\\",\\\"361\\\",\\\"362\\\",\\\"363\\\",\\\"364\\\",\\\"365\\\",\\\"366\\\",\\\"367\\\",\\\"368\\\",\\\"369\\\",\\\"370\\\",\\\"371\\\",\\\"372\\\",\\\"373\\\",\\\"374\\\",\\\"375\\\",\\\"376\\\",\\\"377\\\",\\\"378\\\",\\\"379\\\",\\\"380\\\",\\\"381\\\",\\\"382\\\",\\\"383\\\",\\\"384\\\",\\\"385\\\",\\\"386\\\",\\\"387\\\",\\\"388\\\",\\\"389\\\",\\\"390\\\",\\\"391\\\",\\\"392\\\",\\\"393\\\",\\\"394\\\",\\\"395\\\",\\\"396\\\",\\\"397\\\",\\\"398\\\",\\\"399\\\",\\\"400\\\"],\\\"changes\\\":WebIO.getval({\\\"name\\\":\\\"changes\\\",\\\"scope\\\":\\\"11777444153335385659\\\",\\\"id\\\":\\\"2108766567464687608\\\",\\\"type\\\":\\\"observable\\\"}),\\\"index\\\":WebIO.getval({\\\"name\\\":\\\"index\\\",\\\"scope\\\":\\\"11777444153335385659\\\",\\\"id\\\":\\\"7211126486287401867\\\",\\\"type\\\":\\\"observable\\\"})};\\n    var self = this;\\n    function AppViewModel() {\\n        for (var key in json_data) {\\n            var el = json_data[key];\\n            this[key] = Array.isArray(el) ? ko.observableArray(el) : ko.observable(el);\\n        }\\n        \\n        [this[\\\"formatted_val\\\"]=ko.computed(    function(){\\n        return this.formatted_vals()[parseInt(this.index())-(1)];\\n    }\\n,this)]\\n        [this[\\\"changes\\\"].subscribe((function (val){!(this.valueFromJulia[\\\"changes\\\"]) ? (WebIO.setval({\\\"name\\\":\\\"changes\\\",\\\"scope\\\":\\\"11777444153335385659\\\",\\\"id\\\":\\\"2108766567464687608\\\",\\\"type\\\":\\\"observable\\\"},val)) : undefined; return this.valueFromJulia[\\\"changes\\\"]=false}),self),this[\\\"index\\\"].subscribe((function (val){!(this.valueFromJulia[\\\"index\\\"]) ? (WebIO.setval({\\\"name\\\":\\\"index\\\",\\\"scope\\\":\\\"11777444153335385659\\\",\\\"id\\\":\\\"7211126486287401867\\\",\\\"type\\\":\\\"observable\\\"},val)) : undefined; return this.valueFromJulia[\\\"index\\\"]=false}),self)]\\n        \\n    }\\n    self.model = new AppViewModel();\\n    self.valueFromJulia = {};\\n    for (var key in json_data) {\\n        self.valueFromJulia[key] = false;\\n    }\\n    ko.applyBindings(self.model, self.dom);\\n}\\n);\\n    (WebIO.importBlock({\\\"data\\\":[{\\\"name\\\":\\\"knockout\\\",\\\"type\\\":\\\"js\\\",\\\"url\\\":\\\"\\/assetserver\\/727383f2a47bd31570b7da84eee7b022dd6d7c78-knockout.js\\\"},{\\\"name\\\":\\\"knockout_punches\\\",\\\"type\\\":\\\"js\\\",\\\"url\\\":\\\"\\/assetserver\\/382b41b3b1bd9f26f75861d360bad7f8beea211f-knockout_punches.js\\\"}],\\\"type\\\":\\\"async_block\\\"})).then((imports) => handler.apply(this, imports));\\n}\\n\"],\"observables\":{\"changes\":{\"sync\":false,\"id\":\"2108766567464687608\",\"value\":0},\"index\":{\"sync\":true,\"id\":\"7211126486287401867\",\"value\":1}}},\"children\":[{\"props\":{\"className\":\"interact-flex-row interact-widget\"},\"nodeType\":\"DOM\",\"type\":\"node\",\"instanceArgs\":{\"namespace\":\"html\",\"tag\":\"div\"},\"children\":[{\"props\":{\"className\":\"interact-flex-row-left\"},\"nodeType\":\"DOM\",\"type\":\"node\",\"instanceArgs\":{\"namespace\":\"html\",\"tag\":\"div\"},\"children\":[{\"props\":{\"className\":\"interact \",\"style\":{\"padding\":\"5px 10px 0px 10px\"}},\"nodeType\":\"DOM\",\"type\":\"node\",\"instanceArgs\":{\"namespace\":\"html\",\"tag\":\"label\"},\"children\":[\"time\"]}]},{\"props\":{\"className\":\"interact-flex-row-center\"},\"nodeType\":\"DOM\",\"type\":\"node\",\"instanceArgs\":{\"namespace\":\"html\",\"tag\":\"div\"},\"children\":[{\"props\":{\"max\":400,\"min\":1,\"attributes\":{\"type\":\"range\",\"data-bind\":\"numericValue: index, valueUpdate: 'input', event: {change: function (){this.changes(this.changes()+1)}}\",\"orient\":\"horizontal\"},\"step\":1,\"className\":\"slider slider is-fullwidth\",\"style\":{}},\"nodeType\":\"DOM\",\"type\":\"node\",\"instanceArgs\":{\"namespace\":\"html\",\"tag\":\"input\"},\"children\":[]}]},{\"props\":{\"className\":\"interact-flex-row-right\"},\"nodeType\":\"DOM\",\"type\":\"node\",\"instanceArgs\":{\"namespace\":\"html\",\"tag\":\"div\"},\"children\":[{\"props\":{\"attributes\":{\"data-bind\":\"text: formatted_val\"}},\"nodeType\":\"DOM\",\"type\":\"node\",\"instanceArgs\":{\"namespace\":\"html\",\"tag\":\"p\"},\"children\":[]}]}]}]}]},{\"props\":{\"className\":\"field interact-widget\"},\"nodeType\":\"DOM\",\"type\":\"node\",\"instanceArgs\":{\"namespace\":\"html\",\"tag\":\"div\"},\"children\":[{\"props\":{},\"nodeType\":\"Scope\",\"type\":\"node\",\"instanceArgs\":{\"imports\":{\"data\":[{\"name\":\"knockout\",\"type\":\"js\",\"url\":\"\\/assetserver\\/727383f2a47bd31570b7da84eee7b022dd6d7c78-knockout.js\"},{\"name\":\"knockout_punches\",\"type\":\"js\",\"url\":\"\\/assetserver\\/382b41b3b1bd9f26f75861d360bad7f8beea211f-knockout_punches.js\"},{\"name\":null,\"type\":\"js\",\"url\":\"\\/assetserver\\/5ab20f1060420992a9b82a65b735dee4d81ef413-all.js\"},{\"name\":null,\"type\":\"css\",\"url\":\"\\/assetserver\\/1cc0ed62837210b80a182cc3676512f895dab686-style.css\"},{\"name\":null,\"type\":\"css\",\"url\":\"\\/assetserver\\/2eee816f616df3549d7044d45e744fbf8d42bfa1-bulma_confined.min.css\"}],\"type\":\"async_block\"},\"id\":\"10358737974987381930\",\"handlers\":{\"changes\":[\"(function (val){return (val!=this.model[\\\"changes\\\"]()) ? (this.valueFromJulia[\\\"changes\\\"]=true, this.model[\\\"changes\\\"](val)) : undefined})\"],\"index\":[\"(function (val){return (val!=this.model[\\\"index\\\"]()) ? (this.valueFromJulia[\\\"index\\\"]=true, this.model[\\\"index\\\"](val)) : undefined})\"]},\"systemjs_options\":null,\"mount_callbacks\":[\"function () {\\n    var handler = (function (ko, koPunches) {\\n    ko.punches.enableAll();\\n    ko.bindingHandlers.numericValue = {\\n        init: function(element, valueAccessor, allBindings, data, context) {\\n            var stringified = ko.observable(ko.unwrap(valueAccessor()));\\n            stringified.subscribe(function(value) {\\n                var val = parseFloat(value);\\n                if (!isNaN(val)) {\\n                    valueAccessor()(val);\\n                }\\n            });\\n            valueAccessor().subscribe(function(value) {\\n                var str = JSON.stringify(value);\\n                if ((str == \\\"0\\\") && ([\\\"-0\\\", \\\"-0.\\\"].indexOf(stringified()) >= 0))\\n                     return;\\n                 if ([\\\"null\\\", \\\"\\\"].indexOf(str) >= 0)\\n                     return;\\n                stringified(str);\\n            });\\n            ko.applyBindingsToNode(\\n                element,\\n                {\\n                    value: stringified,\\n                    valueUpdate: allBindings.get('valueUpdate'),\\n                },\\n                context,\\n            );\\n        }\\n    };\\n    var json_data = {\\\"formatted_vals\\\":[\\\"0.1\\\",\\\"0.2\\\",\\\"0.3\\\",\\\"0.4\\\",\\\"0.5\\\",\\\"0.6\\\",\\\"0.7\\\",\\\"0.8\\\",\\\"0.9\\\",\\\"1.0\\\",\\\"1.1\\\",\\\"1.2\\\",\\\"1.3\\\",\\\"1.4\\\",\\\"1.5\\\",\\\"1.6\\\",\\\"1.7\\\",\\\"1.8\\\",\\\"1.9\\\",\\\"2.0\\\"],\\\"changes\\\":WebIO.getval({\\\"name\\\":\\\"changes\\\",\\\"scope\\\":\\\"10358737974987381930\\\",\\\"id\\\":\\\"8839590165831455408\\\",\\\"type\\\":\\\"observable\\\"}),\\\"index\\\":WebIO.getval({\\\"name\\\":\\\"index\\\",\\\"scope\\\":\\\"10358737974987381930\\\",\\\"id\\\":\\\"9631481927868907797\\\",\\\"type\\\":\\\"observable\\\"})};\\n    var self = this;\\n    function AppViewModel() {\\n        for (var key in json_data) {\\n            var el = json_data[key];\\n            this[key] = Array.isArray(el) ? ko.observableArray(el) : ko.observable(el);\\n        }\\n        \\n        [this[\\\"formatted_val\\\"]=ko.computed(    function(){\\n        return this.formatted_vals()[parseInt(this.index())-(1)];\\n    }\\n,this)]\\n        [this[\\\"changes\\\"].subscribe((function (val){!(this.valueFromJulia[\\\"changes\\\"]) ? (WebIO.setval({\\\"name\\\":\\\"changes\\\",\\\"scope\\\":\\\"10358737974987381930\\\",\\\"id\\\":\\\"8839590165831455408\\\",\\\"type\\\":\\\"observable\\\"},val)) : undefined; return this.valueFromJulia[\\\"changes\\\"]=false}),self),this[\\\"index\\\"].subscribe((function (val){!(this.valueFromJulia[\\\"index\\\"]) ? (WebIO.setval({\\\"name\\\":\\\"index\\\",\\\"scope\\\":\\\"10358737974987381930\\\",\\\"id\\\":\\\"9631481927868907797\\\",\\\"type\\\":\\\"observable\\\"},val)) : undefined; return this.valueFromJulia[\\\"index\\\"]=false}),self)]\\n        \\n    }\\n    self.model = new AppViewModel();\\n    self.valueFromJulia = {};\\n    for (var key in json_data) {\\n        self.valueFromJulia[key] = false;\\n    }\\n    ko.applyBindings(self.model, self.dom);\\n}\\n);\\n    (WebIO.importBlock({\\\"data\\\":[{\\\"name\\\":\\\"knockout\\\",\\\"type\\\":\\\"js\\\",\\\"url\\\":\\\"\\/assetserver\\/727383f2a47bd31570b7da84eee7b022dd6d7c78-knockout.js\\\"},{\\\"name\\\":\\\"knockout_punches\\\",\\\"type\\\":\\\"js\\\",\\\"url\\\":\\\"\\/assetserver\\/382b41b3b1bd9f26f75861d360bad7f8beea211f-knockout_punches.js\\\"}],\\\"type\\\":\\\"async_block\\\"})).then((imports) => handler.apply(this, imports));\\n}\\n\"],\"observables\":{\"changes\":{\"sync\":false,\"id\":\"8839590165831455408\",\"value\":0},\"index\":{\"sync\":true,\"id\":\"9631481927868907797\",\"value\":10}}},\"children\":[{\"props\":{\"className\":\"interact-flex-row interact-widget\"},\"nodeType\":\"DOM\",\"type\":\"node\",\"instanceArgs\":{\"namespace\":\"html\",\"tag\":\"div\"},\"children\":[{\"props\":{\"className\":\"interact-flex-row-left\"},\"nodeType\":\"DOM\",\"type\":\"node\",\"instanceArgs\":{\"namespace\":\"html\",\"tag\":\"div\"},\"children\":[{\"props\":{\"className\":\"interact \",\"style\":{\"padding\":\"5px 10px 0px 10px\"}},\"nodeType\":\"DOM\",\"type\":\"node\",\"instanceArgs\":{\"namespace\":\"html\",\"tag\":\"label\"},\"children\":[\"scale\"]}]},{\"props\":{\"className\":\"interact-flex-row-center\"},\"nodeType\":\"DOM\",\"type\":\"node\",\"instanceArgs\":{\"namespace\":\"html\",\"tag\":\"div\"},\"children\":[{\"props\":{\"max\":20,\"min\":1,\"attributes\":{\"type\":\"range\",\"data-bind\":\"numericValue: index, valueUpdate: 'input', event: {change: function (){this.changes(this.changes()+1)}}\",\"orient\":\"horizontal\"},\"step\":1,\"className\":\"slider slider is-fullwidth\",\"style\":{}},\"nodeType\":\"DOM\",\"type\":\"node\",\"instanceArgs\":{\"namespace\":\"html\",\"tag\":\"input\"},\"children\":[]}]},{\"props\":{\"className\":\"interact-flex-row-right\"},\"nodeType\":\"DOM\",\"type\":\"node\",\"instanceArgs\":{\"namespace\":\"html\",\"tag\":\"div\"},\"children\":[{\"props\":{\"attributes\":{\"data-bind\":\"text: formatted_val\"}},\"nodeType\":\"DOM\",\"type\":\"node\",\"instanceArgs\":{\"namespace\":\"html\",\"tag\":\"p\"},\"children\":[]}]}]}]}]},{\"props\":{\"style\":{\"display\":\"flex\",\"flex-direction\":\"column\"}},\"nodeType\":\"DOM\",\"type\":\"node\",\"instanceArgs\":{\"namespace\":\"html\",\"tag\":\"div\"},\"children\":[]},{\"props\":{\"style\":{\"display\":\"flex\",\"flex-direction\":\"column\"}},\"nodeType\":\"DOM\",\"type\":\"node\",\"instanceArgs\":{\"namespace\":\"html\",\"tag\":\"div\"},\"children\":[{\"props\":{\"className\":\"field interact-widget\"},\"nodeType\":\"DOM\",\"type\":\"node\",\"instanceArgs\":{\"namespace\":\"html\",\"tag\":\"div\"},\"children\":[{\"props\":{},\"nodeType\":\"Scope\",\"type\":\"node\",\"instanceArgs\":{\"imports\":{\"data\":[{\"name\":\"knockout\",\"type\":\"js\",\"url\":\"\\/assetserver\\/727383f2a47bd31570b7da84eee7b022dd6d7c78-knockout.js\"},{\"name\":\"knockout_punches\",\"type\":\"js\",\"url\":\"\\/assetserver\\/382b41b3b1bd9f26f75861d360bad7f8beea211f-knockout_punches.js\"},{\"name\":null,\"type\":\"js\",\"url\":\"\\/assetserver\\/5ab20f1060420992a9b82a65b735dee4d81ef413-all.js\"},{\"name\":null,\"type\":\"css\",\"url\":\"\\/assetserver\\/1cc0ed62837210b80a182cc3676512f895dab686-style.css\"},{\"name\":null,\"type\":\"css\",\"url\":\"\\/assetserver\\/2eee816f616df3549d7044d45e744fbf8d42bfa1-bulma_confined.min.css\"}],\"type\":\"async_block\"},\"id\":\"3279220572166154215\",\"handlers\":{\"changes\":[\"(function (val){return (val!=this.model[\\\"changes\\\"]()) ? (this.valueFromJulia[\\\"changes\\\"]=true, this.model[\\\"changes\\\"](val)) : undefined})\"],\"index\":[\"(function (val){return (val!=this.model[\\\"index\\\"]()) ? (this.valueFromJulia[\\\"index\\\"]=true, this.model[\\\"index\\\"](val)) : undefined})\"]},\"systemjs_options\":null,\"mount_callbacks\":[\"function () {\\n    var handler = (function (ko, koPunches) {\\n    ko.punches.enableAll();\\n    ko.bindingHandlers.numericValue = {\\n        init: function(element, valueAccessor, allBindings, data, context) {\\n            var stringified = ko.observable(ko.unwrap(valueAccessor()));\\n            stringified.subscribe(function(value) {\\n                var val = parseFloat(value);\\n                if (!isNaN(val)) {\\n                    valueAccessor()(val);\\n                }\\n            });\\n            valueAccessor().subscribe(function(value) {\\n                var str = JSON.stringify(value);\\n                if ((str == \\\"0\\\") && ([\\\"-0\\\", \\\"-0.\\\"].indexOf(stringified()) >= 0))\\n                     return;\\n                 if ([\\\"null\\\", \\\"\\\"].indexOf(str) >= 0)\\n                     return;\\n                stringified(str);\\n            });\\n            ko.applyBindingsToNode(\\n                element,\\n                {\\n                    value: stringified,\\n                    valueUpdate: allBindings.get('valueUpdate'),\\n                },\\n                context,\\n            );\\n        }\\n    };\\n    var json_data = {\\\"formatted_vals\\\":[\\\"1\\\",\\\"2\\\",\\\"3\\\",\\\"4\\\",\\\"5\\\",\\\"6\\\",\\\"7\\\",\\\"8\\\"],\\\"changes\\\":WebIO.getval({\\\"name\\\":\\\"changes\\\",\\\"scope\\\":\\\"3279220572166154215\\\",\\\"id\\\":\\\"3549586681949264449\\\",\\\"type\\\":\\\"observable\\\"}),\\\"index\\\":WebIO.getval({\\\"name\\\":\\\"index\\\",\\\"scope\\\":\\\"3279220572166154215\\\",\\\"id\\\":\\\"7799153188459646826\\\",\\\"type\\\":\\\"observable\\\"})};\\n    var self = this;\\n    function AppViewModel() {\\n        for (var key in json_data) {\\n            var el = json_data[key];\\n            this[key] = Array.isArray(el) ? ko.observableArray(el) : ko.observable(el);\\n        }\\n        \\n        [this[\\\"formatted_val\\\"]=ko.computed(    function(){\\n        return this.formatted_vals()[parseInt(this.index())-(1)];\\n    }\\n,this)]\\n        [this[\\\"changes\\\"].subscribe((function (val){!(this.valueFromJulia[\\\"changes\\\"]) ? (WebIO.setval({\\\"name\\\":\\\"changes\\\",\\\"scope\\\":\\\"3279220572166154215\\\",\\\"id\\\":\\\"3549586681949264449\\\",\\\"type\\\":\\\"observable\\\"},val)) : undefined; return this.valueFromJulia[\\\"changes\\\"]=false}),self),this[\\\"index\\\"].subscribe((function (val){!(this.valueFromJulia[\\\"index\\\"]) ? (WebIO.setval({\\\"name\\\":\\\"index\\\",\\\"scope\\\":\\\"3279220572166154215\\\",\\\"id\\\":\\\"7799153188459646826\\\",\\\"type\\\":\\\"observable\\\"},val)) : undefined; return this.valueFromJulia[\\\"index\\\"]=false}),self)]\\n        \\n    }\\n    self.model = new AppViewModel();\\n    self.valueFromJulia = {};\\n    for (var key in json_data) {\\n        self.valueFromJulia[key] = false;\\n    }\\n    ko.applyBindings(self.model, self.dom);\\n}\\n);\\n    (WebIO.importBlock({\\\"data\\\":[{\\\"name\\\":\\\"knockout\\\",\\\"type\\\":\\\"js\\\",\\\"url\\\":\\\"\\/assetserver\\/727383f2a47bd31570b7da84eee7b022dd6d7c78-knockout.js\\\"},{\\\"name\\\":\\\"knockout_punches\\\",\\\"type\\\":\\\"js\\\",\\\"url\\\":\\\"\\/assetserver\\/382b41b3b1bd9f26f75861d360bad7f8beea211f-knockout_punches.js\\\"}],\\\"type\\\":\\\"async_block\\\"})).then((imports) => handler.apply(this, imports));\\n}\\n\"],\"observables\":{\"changes\":{\"sync\":false,\"id\":\"3549586681949264449\",\"value\":0},\"index\":{\"sync\":true,\"id\":\"7799153188459646826\",\"value\":4}}},\"children\":[{\"props\":{\"className\":\"interact-flex-row interact-widget\"},\"nodeType\":\"DOM\",\"type\":\"node\",\"instanceArgs\":{\"namespace\":\"html\",\"tag\":\"div\"},\"children\":[{\"props\":{\"className\":\"interact-flex-row-left\"},\"nodeType\":\"DOM\",\"type\":\"node\",\"instanceArgs\":{\"namespace\":\"html\",\"tag\":\"div\"},\"children\":[{\"props\":{\"className\":\"interact \",\"style\":{\"padding\":\"5px 10px 0px 10px\"}},\"nodeType\":\"DOM\",\"type\":\"node\",\"instanceArgs\":{\"namespace\":\"html\",\"tag\":\"label\"},\"children\":[\"threshold\"]}]},{\"props\":{\"className\":\"interact-flex-row-center\"},\"nodeType\":\"DOM\",\"type\":\"node\",\"instanceArgs\":{\"namespace\":\"html\",\"tag\":\"div\"},\"children\":[{\"props\":{\"max\":8,\"min\":1,\"attributes\":{\"type\":\"range\",\"data-bind\":\"numericValue: index, valueUpdate: 'input', event: {change: function (){this.changes(this.changes()+1)}}\",\"orient\":\"horizontal\"},\"step\":1,\"className\":\"slider slider is-fullwidth\",\"style\":{}},\"nodeType\":\"DOM\",\"type\":\"node\",\"instanceArgs\":{\"namespace\":\"html\",\"tag\":\"input\"},\"children\":[]}]},{\"props\":{\"className\":\"interact-flex-row-right\"},\"nodeType\":\"DOM\",\"type\":\"node\",\"instanceArgs\":{\"namespace\":\"html\",\"tag\":\"div\"},\"children\":[{\"props\":{\"attributes\":{\"data-bind\":\"text: formatted_val\"}},\"nodeType\":\"DOM\",\"type\":\"node\",\"instanceArgs\":{\"namespace\":\"html\",\"tag\":\"p\"},\"children\":[]}]}]}]}]}]},{\"props\":{\"style\":{\"display\":\"flex\",\"flex-direction\":\"row\"}},\"nodeType\":\"DOM\",\"type\":\"node\",\"instanceArgs\":{\"namespace\":\"html\",\"tag\":\"div\"},\"children\":[{\"props\":{\"className\":\"interact-widget\"},\"nodeType\":\"DOM\",\"type\":\"node\",\"instanceArgs\":{\"namespace\":\"html\",\"tag\":\"div\"},\"children\":[{\"props\":{},\"nodeType\":\"Scope\",\"type\":\"node\",\"instanceArgs\":{\"imports\":{\"data\":[{\"name\":null,\"type\":\"js\",\"url\":\"\\/assetserver\\/dd22ed1bf1896c2748f3fe616ce0b838adc895c1-katex.min.js\"},{\"name\":null,\"type\":\"css\",\"url\":\"\\/assetserver\\/46517a424aa5e6cffc1360d7e0848b601c584ee3-katex.min.css\"}],\"type\":\"async_block\"},\"id\":\"4511284071078795803\",\"handlers\":{\"value\":[\"(function (txt){return this.k.render(txt,this.container)})\"]},\"systemjs_options\":null,\"mount_callbacks\":[\"function () {\\n    var handler = ((function (k){this.k=k; this.container=this.dom.querySelector(\\\"#container\\\"); return k.render(\\\"\\\\\\\\;\\\\\\\\;\\\",this.container)}));\\n    (WebIO.importBlock({\\\"data\\\":[{\\\"name\\\":null,\\\"type\\\":\\\"js\\\",\\\"url\\\":\\\"\\/assetserver\\/dd22ed1bf1896c2748f3fe616ce0b838adc895c1-katex.min.js\\\"},{\\\"name\\\":null,\\\"type\\\":\\\"css\\\",\\\"url\\\":\\\"\\/assetserver\\/46517a424aa5e6cffc1360d7e0848b601c584ee3-katex.min.css\\\"}],\\\"type\\\":\\\"async_block\\\"})).then((imports) => handler.apply(this, imports));\\n}\\n\"],\"observables\":{\"value\":{\"sync\":false,\"id\":\"6127030406762488160\",\"value\":\"\\\\;\\\\;\"}}},\"children\":[{\"props\":{\"id\":\"container\"},\"nodeType\":\"DOM\",\"type\":\"node\",\"instanceArgs\":{\"namespace\":\"html\",\"tag\":\"div\"},\"children\":[]}]}]},{\"props\":{\"className\":\"field interact-widget\"},\"nodeType\":\"DOM\",\"type\":\"node\",\"instanceArgs\":{\"namespace\":\"html\",\"tag\":\"div\"},\"children\":[{\"props\":{},\"nodeType\":\"Scope\",\"type\":\"node\",\"instanceArgs\":{\"imports\":{\"data\":[{\"name\":\"knockout\",\"type\":\"js\",\"url\":\"\\/assetserver\\/727383f2a47bd31570b7da84eee7b022dd6d7c78-knockout.js\"},{\"name\":\"knockout_punches\",\"type\":\"js\",\"url\":\"\\/assetserver\\/382b41b3b1bd9f26f75861d360bad7f8beea211f-knockout_punches.js\"},{\"name\":null,\"type\":\"js\",\"url\":\"\\/assetserver\\/5ab20f1060420992a9b82a65b735dee4d81ef413-all.js\"},{\"name\":null,\"type\":\"css\",\"url\":\"\\/assetserver\\/1cc0ed62837210b80a182cc3676512f895dab686-style.css\"},{\"name\":null,\"type\":\"css\",\"url\":\"\\/assetserver\\/2eee816f616df3549d7044d45e744fbf8d42bfa1-bulma_confined.min.css\"}],\"type\":\"async_block\"},\"id\":\"977763036804095317\",\"handlers\":{\"loading\":[\"(function (val){return (val!=this.model[\\\"loading\\\"]()) ? (this.valueFromJulia[\\\"loading\\\"]=true, this.model[\\\"loading\\\"](val)) : undefined})\"],\"clicks\":[\"(function (val){return (val!=this.model[\\\"clicks\\\"]()) ? (this.valueFromJulia[\\\"clicks\\\"]=true, this.model[\\\"clicks\\\"](val)) : undefined})\"]},\"systemjs_options\":null,\"mount_callbacks\":[\"function () {\\n    var handler = (function (ko, koPunches) {\\n    ko.punches.enableAll();\\n    ko.bindingHandlers.numericValue = {\\n        init: function(element, valueAccessor, allBindings, data, context) {\\n            var stringified = ko.observable(ko.unwrap(valueAccessor()));\\n            stringified.subscribe(function(value) {\\n                var val = parseFloat(value);\\n                if (!isNaN(val)) {\\n                    valueAccessor()(val);\\n                }\\n            });\\n            valueAccessor().subscribe(function(value) {\\n                var str = JSON.stringify(value);\\n                if ((str == \\\"0\\\") && ([\\\"-0\\\", \\\"-0.\\\"].indexOf(stringified()) >= 0))\\n                     return;\\n                 if ([\\\"null\\\", \\\"\\\"].indexOf(str) >= 0)\\n                     return;\\n                stringified(str);\\n            });\\n            ko.applyBindingsToNode(\\n                element,\\n                {\\n                    value: stringified,\\n                    valueUpdate: allBindings.get('valueUpdate'),\\n                },\\n                context,\\n            );\\n        }\\n    };\\n    var json_data = {\\\"loading\\\":WebIO.getval({\\\"name\\\":\\\"loading\\\",\\\"scope\\\":\\\"977763036804095317\\\",\\\"id\\\":\\\"1274462871400673945\\\",\\\"type\\\":\\\"observable\\\"}),\\\"clicks\\\":WebIO.getval({\\\"name\\\":\\\"clicks\\\",\\\"scope\\\":\\\"977763036804095317\\\",\\\"id\\\":\\\"5066146471057053545\\\",\\\"type\\\":\\\"observable\\\"})};\\n    var self = this;\\n    function AppViewModel() {\\n        for (var key in json_data) {\\n            var el = json_data[key];\\n            this[key] = Array.isArray(el) ? ko.observableArray(el) : ko.observable(el);\\n        }\\n        \\n        \\n        [this[\\\"loading\\\"].subscribe((function (val){!(this.valueFromJulia[\\\"loading\\\"]) ? (WebIO.setval({\\\"name\\\":\\\"loading\\\",\\\"scope\\\":\\\"977763036804095317\\\",\\\"id\\\":\\\"1274462871400673945\\\",\\\"type\\\":\\\"observable\\\"},val)) : undefined; return this.valueFromJulia[\\\"loading\\\"]=false}),self),this[\\\"clicks\\\"].subscribe((function (val){!(this.valueFromJulia[\\\"clicks\\\"]) ? (WebIO.setval({\\\"name\\\":\\\"clicks\\\",\\\"scope\\\":\\\"977763036804095317\\\",\\\"id\\\":\\\"5066146471057053545\\\",\\\"type\\\":\\\"observable\\\"},val)) : undefined; return this.valueFromJulia[\\\"clicks\\\"]=false}),self)]\\n        \\n    }\\n    self.model = new AppViewModel();\\n    self.valueFromJulia = {};\\n    for (var key in json_data) {\\n        self.valueFromJulia[key] = false;\\n    }\\n    ko.applyBindings(self.model, self.dom);\\n}\\n);\\n    (WebIO.importBlock({\\\"data\\\":[{\\\"name\\\":\\\"knockout\\\",\\\"type\\\":\\\"js\\\",\\\"url\\\":\\\"\\/assetserver\\/727383f2a47bd31570b7da84eee7b022dd6d7c78-knockout.js\\\"},{\\\"name\\\":\\\"knockout_punches\\\",\\\"type\\\":\\\"js\\\",\\\"url\\\":\\\"\\/assetserver\\/382b41b3b1bd9f26f75861d360bad7f8beea211f-knockout_punches.js\\\"}],\\\"type\\\":\\\"async_block\\\"})).then((imports) => handler.apply(this, imports));\\n}\\n\"],\"observables\":{\"loading\":{\"sync\":false,\"id\":\"1274462871400673945\",\"value\":false},\"clicks\":{\"sync\":true,\"id\":\"5066146471057053545\",\"value\":0}}},\"children\":[{\"props\":{\"attributes\":{\"data-bind\":\"click: function (){this.clicks(this.clicks()+1)}, css: {'is-loading' : loading}\"},\"className\":\"is-medium button is-primary\",\"style\":{}},\"nodeType\":\"DOM\",\"type\":\"node\",\"instanceArgs\":{\"namespace\":\"html\",\"tag\":\"button\"},\"children\":[\"run\"]}]}]},{\"props\":{\"className\":\"interact-widget\"},\"nodeType\":\"DOM\",\"type\":\"node\",\"instanceArgs\":{\"namespace\":\"html\",\"tag\":\"div\"},\"children\":[{\"props\":{},\"nodeType\":\"Scope\",\"type\":\"node\",\"instanceArgs\":{\"imports\":{\"data\":[{\"name\":null,\"type\":\"js\",\"url\":\"\\/assetserver\\/dd22ed1bf1896c2748f3fe616ce0b838adc895c1-katex.min.js\"},{\"name\":null,\"type\":\"css\",\"url\":\"\\/assetserver\\/46517a424aa5e6cffc1360d7e0848b601c584ee3-katex.min.css\"}],\"type\":\"async_block\"},\"id\":\"4511284071078795803\",\"handlers\":{\"value\":[\"(function (txt){return this.k.render(txt,this.container)})\"]},\"systemjs_options\":null,\"mount_callbacks\":[\"function () {\\n    var handler = ((function (k){this.k=k; this.container=this.dom.querySelector(\\\"#container\\\"); return k.render(\\\"\\\\\\\\;\\\\\\\\;\\\",this.container)}));\\n    (WebIO.importBlock({\\\"data\\\":[{\\\"name\\\":null,\\\"type\\\":\\\"js\\\",\\\"url\\\":\\\"\\/assetserver\\/dd22ed1bf1896c2748f3fe616ce0b838adc895c1-katex.min.js\\\"},{\\\"name\\\":null,\\\"type\\\":\\\"css\\\",\\\"url\\\":\\\"\\/assetserver\\/46517a424aa5e6cffc1360d7e0848b601c584ee3-katex.min.css\\\"}],\\\"type\\\":\\\"async_block\\\"})).then((imports) => handler.apply(this, imports));\\n}\\n\"],\"observables\":{\"value\":{\"sync\":false,\"id\":\"6127030406762488160\",\"value\":\"\\\\;\\\\;\"}}},\"children\":[{\"props\":{\"id\":\"container\"},\"nodeType\":\"DOM\",\"type\":\"node\",\"instanceArgs\":{\"namespace\":\"html\",\"tag\":\"div\"},\"children\":[]}]}]},{\"props\":{\"className\":\"field interact-widget\"},\"nodeType\":\"DOM\",\"type\":\"node\",\"instanceArgs\":{\"namespace\":\"html\",\"tag\":\"div\"},\"children\":[{\"props\":{},\"nodeType\":\"Scope\",\"type\":\"node\",\"instanceArgs\":{\"imports\":{\"data\":[{\"name\":\"knockout\",\"type\":\"js\",\"url\":\"\\/assetserver\\/727383f2a47bd31570b7da84eee7b022dd6d7c78-knockout.js\"},{\"name\":\"knockout_punches\",\"type\":\"js\",\"url\":\"\\/assetserver\\/382b41b3b1bd9f26f75861d360bad7f8beea211f-knockout_punches.js\"},{\"name\":null,\"type\":\"js\",\"url\":\"\\/assetserver\\/5ab20f1060420992a9b82a65b735dee4d81ef413-all.js\"},{\"name\":null,\"type\":\"css\",\"url\":\"\\/assetserver\\/1cc0ed62837210b80a182cc3676512f895dab686-style.css\"},{\"name\":null,\"type\":\"css\",\"url\":\"\\/assetserver\\/2eee816f616df3549d7044d45e744fbf8d42bfa1-bulma_confined.min.css\"}],\"type\":\"async_block\"},\"id\":\"11980267648665362173\",\"handlers\":{\"loading\":[\"(function (val){return (val!=this.model[\\\"loading\\\"]()) ? (this.valueFromJulia[\\\"loading\\\"]=true, this.model[\\\"loading\\\"](val)) : undefined})\"],\"clicks\":[\"(function (val){return (val!=this.model[\\\"clicks\\\"]()) ? (this.valueFromJulia[\\\"clicks\\\"]=true, this.model[\\\"clicks\\\"](val)) : undefined})\"]},\"systemjs_options\":null,\"mount_callbacks\":[\"function () {\\n    var handler = (function (ko, koPunches) {\\n    ko.punches.enableAll();\\n    ko.bindingHandlers.numericValue = {\\n        init: function(element, valueAccessor, allBindings, data, context) {\\n            var stringified = ko.observable(ko.unwrap(valueAccessor()));\\n            stringified.subscribe(function(value) {\\n                var val = parseFloat(value);\\n                if (!isNaN(val)) {\\n                    valueAccessor()(val);\\n                }\\n            });\\n            valueAccessor().subscribe(function(value) {\\n                var str = JSON.stringify(value);\\n                if ((str == \\\"0\\\") && ([\\\"-0\\\", \\\"-0.\\\"].indexOf(stringified()) >= 0))\\n                     return;\\n                 if ([\\\"null\\\", \\\"\\\"].indexOf(str) >= 0)\\n                     return;\\n                stringified(str);\\n            });\\n            ko.applyBindingsToNode(\\n                element,\\n                {\\n                    value: stringified,\\n                    valueUpdate: allBindings.get('valueUpdate'),\\n                },\\n                context,\\n            );\\n        }\\n    };\\n    var json_data = {\\\"loading\\\":WebIO.getval({\\\"name\\\":\\\"loading\\\",\\\"scope\\\":\\\"11980267648665362173\\\",\\\"id\\\":\\\"10511578000435487789\\\",\\\"type\\\":\\\"observable\\\"}),\\\"clicks\\\":WebIO.getval({\\\"name\\\":\\\"clicks\\\",\\\"scope\\\":\\\"11980267648665362173\\\",\\\"id\\\":\\\"17459845976795148928\\\",\\\"type\\\":\\\"observable\\\"})};\\n    var self = this;\\n    function AppViewModel() {\\n        for (var key in json_data) {\\n            var el = json_data[key];\\n            this[key] = Array.isArray(el) ? ko.observableArray(el) : ko.observable(el);\\n        }\\n        \\n        \\n        [this[\\\"loading\\\"].subscribe((function (val){!(this.valueFromJulia[\\\"loading\\\"]) ? (WebIO.setval({\\\"name\\\":\\\"loading\\\",\\\"scope\\\":\\\"11980267648665362173\\\",\\\"id\\\":\\\"10511578000435487789\\\",\\\"type\\\":\\\"observable\\\"},val)) : undefined; return this.valueFromJulia[\\\"loading\\\"]=false}),self),this[\\\"clicks\\\"].subscribe((function (val){!(this.valueFromJulia[\\\"clicks\\\"]) ? (WebIO.setval({\\\"name\\\":\\\"clicks\\\",\\\"scope\\\":\\\"11980267648665362173\\\",\\\"id\\\":\\\"17459845976795148928\\\",\\\"type\\\":\\\"observable\\\"},val)) : undefined; return this.valueFromJulia[\\\"clicks\\\"]=false}),self)]\\n        \\n    }\\n    self.model = new AppViewModel();\\n    self.valueFromJulia = {};\\n    for (var key in json_data) {\\n        self.valueFromJulia[key] = false;\\n    }\\n    ko.applyBindings(self.model, self.dom);\\n}\\n);\\n    (WebIO.importBlock({\\\"data\\\":[{\\\"name\\\":\\\"knockout\\\",\\\"type\\\":\\\"js\\\",\\\"url\\\":\\\"\\/assetserver\\/727383f2a47bd31570b7da84eee7b022dd6d7c78-knockout.js\\\"},{\\\"name\\\":\\\"knockout_punches\\\",\\\"type\\\":\\\"js\\\",\\\"url\\\":\\\"\\/assetserver\\/382b41b3b1bd9f26f75861d360bad7f8beea211f-knockout_punches.js\\\"}],\\\"type\\\":\\\"async_block\\\"})).then((imports) => handler.apply(this, imports));\\n}\\n\"],\"observables\":{\"loading\":{\"sync\":false,\"id\":\"10511578000435487789\",\"value\":false},\"clicks\":{\"sync\":true,\"id\":\"17459845976795148928\",\"value\":0}}},\"children\":[{\"props\":{\"attributes\":{\"data-bind\":\"click: function (){this.clicks(this.clicks()+1)}, css: {'is-loading' : loading}\"},\"className\":\"is-medium button is-primary\",\"style\":{}},\"nodeType\":\"DOM\",\"type\":\"node\",\"instanceArgs\":{\"namespace\":\"html\",\"tag\":\"button\"},\"children\":[\"stop\"]}]}]},{\"props\":{\"className\":\"interact-widget\"},\"nodeType\":\"DOM\",\"type\":\"node\",\"instanceArgs\":{\"namespace\":\"html\",\"tag\":\"div\"},\"children\":[{\"props\":{},\"nodeType\":\"Scope\",\"type\":\"node\",\"instanceArgs\":{\"imports\":{\"data\":[{\"name\":null,\"type\":\"js\",\"url\":\"\\/assetserver\\/dd22ed1bf1896c2748f3fe616ce0b838adc895c1-katex.min.js\"},{\"name\":null,\"type\":\"css\",\"url\":\"\\/assetserver\\/46517a424aa5e6cffc1360d7e0848b601c584ee3-katex.min.css\"}],\"type\":\"async_block\"},\"id\":\"4511284071078795803\",\"handlers\":{\"value\":[\"(function (txt){return this.k.render(txt,this.container)})\"]},\"systemjs_options\":null,\"mount_callbacks\":[\"function () {\\n    var handler = ((function (k){this.k=k; this.container=this.dom.querySelector(\\\"#container\\\"); return k.render(\\\"\\\\\\\\;\\\\\\\\;\\\",this.container)}));\\n    (WebIO.importBlock({\\\"data\\\":[{\\\"name\\\":null,\\\"type\\\":\\\"js\\\",\\\"url\\\":\\\"\\/assetserver\\/dd22ed1bf1896c2748f3fe616ce0b838adc895c1-katex.min.js\\\"},{\\\"name\\\":null,\\\"type\\\":\\\"css\\\",\\\"url\\\":\\\"\\/assetserver\\/46517a424aa5e6cffc1360d7e0848b601c584ee3-katex.min.css\\\"}],\\\"type\\\":\\\"async_block\\\"})).then((imports) => handler.apply(this, imports));\\n}\\n\"],\"observables\":{\"value\":{\"sync\":false,\"id\":\"6127030406762488160\",\"value\":\"\\\\;\\\\;\"}}},\"children\":[{\"props\":{\"id\":\"container\"},\"nodeType\":\"DOM\",\"type\":\"node\",\"instanceArgs\":{\"namespace\":\"html\",\"tag\":\"div\"},\"children\":[]}]}]},{\"props\":{\"className\":\"field interact-widget\"},\"nodeType\":\"DOM\",\"type\":\"node\",\"instanceArgs\":{\"namespace\":\"html\",\"tag\":\"div\"},\"children\":[{\"props\":{},\"nodeType\":\"Scope\",\"type\":\"node\",\"instanceArgs\":{\"imports\":{\"data\":[{\"name\":\"knockout\",\"type\":\"js\",\"url\":\"\\/assetserver\\/727383f2a47bd31570b7da84eee7b022dd6d7c78-knockout.js\"},{\"name\":\"knockout_punches\",\"type\":\"js\",\"url\":\"\\/assetserver\\/382b41b3b1bd9f26f75861d360bad7f8beea211f-knockout_punches.js\"},{\"name\":null,\"type\":\"js\",\"url\":\"\\/assetserver\\/5ab20f1060420992a9b82a65b735dee4d81ef413-all.js\"},{\"name\":null,\"type\":\"css\",\"url\":\"\\/assetserver\\/1cc0ed62837210b80a182cc3676512f895dab686-style.css\"},{\"name\":null,\"type\":\"css\",\"url\":\"\\/assetserver\\/2eee816f616df3549d7044d45e744fbf8d42bfa1-bulma_confined.min.css\"}],\"type\":\"async_block\"},\"id\":\"16727736528477245258\",\"handlers\":{\"loading\":[\"(function (val){return (val!=this.model[\\\"loading\\\"]()) ? (this.valueFromJulia[\\\"loading\\\"]=true, this.model[\\\"loading\\\"](val)) : undefined})\"],\"clicks\":[\"(function (val){return (val!=this.model[\\\"clicks\\\"]()) ? (this.valueFromJulia[\\\"clicks\\\"]=true, this.model[\\\"clicks\\\"](val)) : undefined})\"]},\"systemjs_options\":null,\"mount_callbacks\":[\"function () {\\n    var handler = (function (ko, koPunches) {\\n    ko.punches.enableAll();\\n    ko.bindingHandlers.numericValue = {\\n        init: function(element, valueAccessor, allBindings, data, context) {\\n            var stringified = ko.observable(ko.unwrap(valueAccessor()));\\n            stringified.subscribe(function(value) {\\n                var val = parseFloat(value);\\n                if (!isNaN(val)) {\\n                    valueAccessor()(val);\\n                }\\n            });\\n            valueAccessor().subscribe(function(value) {\\n                var str = JSON.stringify(value);\\n                if ((str == \\\"0\\\") && ([\\\"-0\\\", \\\"-0.\\\"].indexOf(stringified()) >= 0))\\n                     return;\\n                 if ([\\\"null\\\", \\\"\\\"].indexOf(str) >= 0)\\n                     return;\\n                stringified(str);\\n            });\\n            ko.applyBindingsToNode(\\n                element,\\n                {\\n                    value: stringified,\\n                    valueUpdate: allBindings.get('valueUpdate'),\\n                },\\n                context,\\n            );\\n        }\\n    };\\n    var json_data = {\\\"loading\\\":WebIO.getval({\\\"name\\\":\\\"loading\\\",\\\"scope\\\":\\\"16727736528477245258\\\",\\\"id\\\":\\\"3070883976576129733\\\",\\\"type\\\":\\\"observable\\\"}),\\\"clicks\\\":WebIO.getval({\\\"name\\\":\\\"clicks\\\",\\\"scope\\\":\\\"16727736528477245258\\\",\\\"id\\\":\\\"756828799672713395\\\",\\\"type\\\":\\\"observable\\\"})};\\n    var self = this;\\n    function AppViewModel() {\\n        for (var key in json_data) {\\n            var el = json_data[key];\\n            this[key] = Array.isArray(el) ? ko.observableArray(el) : ko.observable(el);\\n        }\\n        \\n        \\n        [this[\\\"loading\\\"].subscribe((function (val){!(this.valueFromJulia[\\\"loading\\\"]) ? (WebIO.setval({\\\"name\\\":\\\"loading\\\",\\\"scope\\\":\\\"16727736528477245258\\\",\\\"id\\\":\\\"3070883976576129733\\\",\\\"type\\\":\\\"observable\\\"},val)) : undefined; return this.valueFromJulia[\\\"loading\\\"]=false}),self),this[\\\"clicks\\\"].subscribe((function (val){!(this.valueFromJulia[\\\"clicks\\\"]) ? (WebIO.setval({\\\"name\\\":\\\"clicks\\\",\\\"scope\\\":\\\"16727736528477245258\\\",\\\"id\\\":\\\"756828799672713395\\\",\\\"type\\\":\\\"observable\\\"},val)) : undefined; return this.valueFromJulia[\\\"clicks\\\"]=false}),self)]\\n        \\n    }\\n    self.model = new AppViewModel();\\n    self.valueFromJulia = {};\\n    for (var key in json_data) {\\n        self.valueFromJulia[key] = false;\\n    }\\n    ko.applyBindings(self.model, self.dom);\\n}\\n);\\n    (WebIO.importBlock({\\\"data\\\":[{\\\"name\\\":\\\"knockout\\\",\\\"type\\\":\\\"js\\\",\\\"url\\\":\\\"\\/assetserver\\/727383f2a47bd31570b7da84eee7b022dd6d7c78-knockout.js\\\"},{\\\"name\\\":\\\"knockout_punches\\\",\\\"type\\\":\\\"js\\\",\\\"url\\\":\\\"\\/assetserver\\/382b41b3b1bd9f26f75861d360bad7f8beea211f-knockout_punches.js\\\"}],\\\"type\\\":\\\"async_block\\\"})).then((imports) => handler.apply(this, imports));\\n}\\n\"],\"observables\":{\"loading\":{\"sync\":false,\"id\":\"3070883976576129733\",\"value\":false},\"clicks\":{\"sync\":true,\"id\":\"756828799672713395\",\"value\":0}}},\"children\":[{\"props\":{\"attributes\":{\"data-bind\":\"click: function (){this.clicks(this.clicks()+1)}, css: {'is-loading' : loading}\"},\"className\":\"is-medium button is-primary\",\"style\":{}},\"nodeType\":\"DOM\",\"type\":\"node\",\"instanceArgs\":{\"namespace\":\"html\",\"tag\":\"button\"},\"children\":[\"reset\"]}]}]},{\"props\":{\"className\":\"interact-widget\"},\"nodeType\":\"DOM\",\"type\":\"node\",\"instanceArgs\":{\"namespace\":\"html\",\"tag\":\"div\"},\"children\":[{\"props\":{},\"nodeType\":\"Scope\",\"type\":\"node\",\"instanceArgs\":{\"imports\":{\"data\":[{\"name\":null,\"type\":\"js\",\"url\":\"\\/assetserver\\/dd22ed1bf1896c2748f3fe616ce0b838adc895c1-katex.min.js\"},{\"name\":null,\"type\":\"css\",\"url\":\"\\/assetserver\\/46517a424aa5e6cffc1360d7e0848b601c584ee3-katex.min.css\"}],\"type\":\"async_block\"},\"id\":\"4511284071078795803\",\"handlers\":{\"value\":[\"(function (txt){return this.k.render(txt,this.container)})\"]},\"systemjs_options\":null,\"mount_callbacks\":[\"function () {\\n    var handler = ((function (k){this.k=k; this.container=this.dom.querySelector(\\\"#container\\\"); return k.render(\\\"\\\\\\\\;\\\\\\\\;\\\",this.container)}));\\n    (WebIO.importBlock({\\\"data\\\":[{\\\"name\\\":null,\\\"type\\\":\\\"js\\\",\\\"url\\\":\\\"\\/assetserver\\/dd22ed1bf1896c2748f3fe616ce0b838adc895c1-katex.min.js\\\"},{\\\"name\\\":null,\\\"type\\\":\\\"css\\\",\\\"url\\\":\\\"\\/assetserver\\/46517a424aa5e6cffc1360d7e0848b601c584ee3-katex.min.css\\\"}],\\\"type\\\":\\\"async_block\\\"})).then((imports) => handler.apply(this, imports));\\n}\\n\"],\"observables\":{\"value\":{\"sync\":false,\"id\":\"6127030406762488160\",\"value\":\"\\\\;\\\\;\"}}},\"children\":[{\"props\":{\"id\":\"container\"},\"nodeType\":\"DOM\",\"type\":\"node\",\"instanceArgs\":{\"namespace\":\"html\",\"tag\":\"div\"},\"children\":[]}]}]},{\"props\":{\"className\":\"field interact-widget\"},\"nodeType\":\"DOM\",\"type\":\"node\",\"instanceArgs\":{\"namespace\":\"html\",\"tag\":\"div\"},\"children\":[{\"props\":{},\"nodeType\":\"Scope\",\"type\":\"node\",\"instanceArgs\":{\"imports\":{\"data\":[{\"name\":\"knockout\",\"type\":\"js\",\"url\":\"\\/assetserver\\/727383f2a47bd31570b7da84eee7b022dd6d7c78-knockout.js\"},{\"name\":\"knockout_punches\",\"type\":\"js\",\"url\":\"\\/assetserver\\/382b41b3b1bd9f26f75861d360bad7f8beea211f-knockout_punches.js\"},{\"name\":null,\"type\":\"js\",\"url\":\"\\/assetserver\\/5ab20f1060420992a9b82a65b735dee4d81ef413-all.js\"},{\"name\":null,\"type\":\"css\",\"url\":\"\\/assetserver\\/1cc0ed62837210b80a182cc3676512f895dab686-style.css\"},{\"name\":null,\"type\":\"css\",\"url\":\"\\/assetserver\\/2eee816f616df3549d7044d45e744fbf8d42bfa1-bulma_confined.min.css\"}],\"type\":\"async_block\"},\"id\":\"2893011367520430689\",\"handlers\":{\"loading\":[\"(function (val){return (val!=this.model[\\\"loading\\\"]()) ? (this.valueFromJulia[\\\"loading\\\"]=true, this.model[\\\"loading\\\"](val)) : undefined})\"],\"clicks\":[\"(function (val){return (val!=this.model[\\\"clicks\\\"]()) ? (this.valueFromJulia[\\\"clicks\\\"]=true, this.model[\\\"clicks\\\"](val)) : undefined})\"]},\"systemjs_options\":null,\"mount_callbacks\":[\"function () {\\n    var handler = (function (ko, koPunches) {\\n    ko.punches.enableAll();\\n    ko.bindingHandlers.numericValue = {\\n        init: function(element, valueAccessor, allBindings, data, context) {\\n            var stringified = ko.observable(ko.unwrap(valueAccessor()));\\n            stringified.subscribe(function(value) {\\n                var val = parseFloat(value);\\n                if (!isNaN(val)) {\\n                    valueAccessor()(val);\\n                }\\n            });\\n            valueAccessor().subscribe(function(value) {\\n                var str = JSON.stringify(value);\\n                if ((str == \\\"0\\\") && ([\\\"-0\\\", \\\"-0.\\\"].indexOf(stringified()) >= 0))\\n                     return;\\n                 if ([\\\"null\\\", \\\"\\\"].indexOf(str) >= 0)\\n                     return;\\n                stringified(str);\\n            });\\n            ko.applyBindingsToNode(\\n                element,\\n                {\\n                    value: stringified,\\n                    valueUpdate: allBindings.get('valueUpdate'),\\n                },\\n                context,\\n            );\\n        }\\n    };\\n    var json_data = {\\\"loading\\\":WebIO.getval({\\\"name\\\":\\\"loading\\\",\\\"scope\\\":\\\"2893011367520430689\\\",\\\"id\\\":\\\"4438864265381486531\\\",\\\"type\\\":\\\"observable\\\"}),\\\"clicks\\\":WebIO.getval({\\\"name\\\":\\\"clicks\\\",\\\"scope\\\":\\\"2893011367520430689\\\",\\\"id\\\":\\\"6733924959819413210\\\",\\\"type\\\":\\\"observable\\\"})};\\n    var self = this;\\n    function AppViewModel() {\\n        for (var key in json_data) {\\n            var el = json_data[key];\\n            this[key] = Array.isArray(el) ? ko.observableArray(el) : ko.observable(el);\\n        }\\n        \\n        \\n        [this[\\\"loading\\\"].subscribe((function (val){!(this.valueFromJulia[\\\"loading\\\"]) ? (WebIO.setval({\\\"name\\\":\\\"loading\\\",\\\"scope\\\":\\\"2893011367520430689\\\",\\\"id\\\":\\\"4438864265381486531\\\",\\\"type\\\":\\\"observable\\\"},val)) : undefined; return this.valueFromJulia[\\\"loading\\\"]=false}),self),this[\\\"clicks\\\"].subscribe((function (val){!(this.valueFromJulia[\\\"clicks\\\"]) ? (WebIO.setval({\\\"name\\\":\\\"clicks\\\",\\\"scope\\\":\\\"2893011367520430689\\\",\\\"id\\\":\\\"6733924959819413210\\\",\\\"type\\\":\\\"observable\\\"},val)) : undefined; return this.valueFromJulia[\\\"clicks\\\"]=false}),self)]\\n        \\n    }\\n    self.model = new AppViewModel();\\n    self.valueFromJulia = {};\\n    for (var key in json_data) {\\n        self.valueFromJulia[key] = false;\\n    }\\n    ko.applyBindings(self.model, self.dom);\\n}\\n);\\n    (WebIO.importBlock({\\\"data\\\":[{\\\"name\\\":\\\"knockout\\\",\\\"type\\\":\\\"js\\\",\\\"url\\\":\\\"\\/assetserver\\/727383f2a47bd31570b7da84eee7b022dd6d7c78-knockout.js\\\"},{\\\"name\\\":\\\"knockout_punches\\\",\\\"type\\\":\\\"js\\\",\\\"url\\\":\\\"\\/assetserver\\/382b41b3b1bd9f26f75861d360bad7f8beea211f-knockout_punches.js\\\"}],\\\"type\\\":\\\"async_block\\\"})).then((imports) => handler.apply(this, imports));\\n}\\n\"],\"observables\":{\"loading\":{\"sync\":false,\"id\":\"4438864265381486531\",\"value\":false},\"clicks\":{\"sync\":true,\"id\":\"6733924959819413210\",\"value\":0}}},\"children\":[{\"props\":{\"attributes\":{\"data-bind\":\"click: function (){this.clicks(this.clicks()+1)}, css: {'is-loading' : loading}\"},\"className\":\"is-medium button is-primary\",\"style\":{}},\"nodeType\":\"DOM\",\"type\":\"node\",\"instanceArgs\":{\"namespace\":\"html\",\"tag\":\"button\"},\"children\":[\"save\"]}]}]}]}]},{\"props\":{\"className\":\"interact-widget\"},\"nodeType\":\"DOM\",\"type\":\"node\",\"instanceArgs\":{\"namespace\":\"html\",\"tag\":\"div\"},\"children\":[{\"props\":{},\"nodeType\":\"Scope\",\"type\":\"node\",\"instanceArgs\":{\"imports\":{\"data\":[{\"name\":null,\"type\":\"js\",\"url\":\"\\/assetserver\\/dd22ed1bf1896c2748f3fe616ce0b838adc895c1-katex.min.js\"},{\"name\":null,\"type\":\"css\",\"url\":\"\\/assetserver\\/46517a424aa5e6cffc1360d7e0848b601c584ee3-katex.min.css\"}],\"type\":\"async_block\"},\"id\":\"4511284071078795803\",\"handlers\":{\"value\":[\"(function (txt){return this.k.render(txt,this.container)})\"]},\"systemjs_options\":null,\"mount_callbacks\":[\"function () {\\n    var handler = ((function (k){this.k=k; this.container=this.dom.querySelector(\\\"#container\\\"); return k.render(\\\"\\\\\\\\;\\\\\\\\;\\\",this.container)}));\\n    (WebIO.importBlock({\\\"data\\\":[{\\\"name\\\":null,\\\"type\\\":\\\"js\\\",\\\"url\\\":\\\"\\/assetserver\\/dd22ed1bf1896c2748f3fe616ce0b838adc895c1-katex.min.js\\\"},{\\\"name\\\":null,\\\"type\\\":\\\"css\\\",\\\"url\\\":\\\"\\/assetserver\\/46517a424aa5e6cffc1360d7e0848b601c584ee3-katex.min.css\\\"}],\\\"type\\\":\\\"async_block\\\"})).then((imports) => handler.apply(this, imports));\\n}\\n\"],\"observables\":{\"value\":{\"sync\":false,\"id\":\"6127030406762488160\",\"value\":\"\\\\;\\\\;\"}}},\"children\":[{\"props\":{\"id\":\"container\"},\"nodeType\":\"DOM\",\"type\":\"node\",\"instanceArgs\":{\"namespace\":\"html\",\"tag\":\"div\"},\"children\":[]}]}]},{\"props\":{},\"nodeType\":\"Scope\",\"type\":\"node\",\"instanceArgs\":{\"imports\":{\"data\":[],\"type\":\"async_block\"},\"id\":\"15549280394997922862\",\"handlers\":{\"obs-output\":[\"function (value, scope) {\\n    scope.setInnerHTML(value);\\n}\\n\"]},\"systemjs_options\":null,\"mount_callbacks\":[],\"observables\":{\"obs-output\":{\"sync\":false,\"id\":\"11272405380269478756\",\"value\":\"<img src='data:image\\/png;base64,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'><\\/img>\"}}},\"children\":[{\"props\":{\"className\":\"webio-observable\",\"setInnerHtml\":\"<img src='data:image\\/png;base64,iVBORw0KGgoAAAANSUhEUgAAAa4AAAGuCAIAAABHl3XNAAAABmJLR0QA\\/wD\\/AP+gvaeTAAAgAElEQVR4nO2dUZLlOJAcs2Q6GPtkOlrzZrUf1WMr00Ngn9cGhtUr979JAJEJEITN1IsBPz4\\/P0dE5P9v\\/tfTBYiIPI9HoYiIR6GIiEehiMh4FIqIjEehiMh4FIqIjEehiMh4FIqIjEehiMh4FIqIjEehiMh4FIqIjEehiMjM\\/G\\/U++PXx1wv0XvmvmbZcN3r\\/lPpPvewvEk\\/6Vxzs7yp0tI6lJYZx1NeWhBdf14pjB+uM+0fWCXe50kIv18hbRxwOE7r\\/01uIGRH4Vwz\\/2cVv0PDda\\/7T6X71xYBQkk\\/6Vxzs7yp0tI6lJYZx1NeWhBd\\/1xRKX64zrR\\/QjUxTvd5EsLvV0gbBxyOf2Ofv4\\/\\/gSwi4lEoIuJRKCIyHoUiIuNRKCIy+BfkOwVDQ+xf6Y7zZv11C+2\\/Cv4XiVn30ADlebxUUJQ5P4N1PKTN1eSWVZz13sWDEkyA68EDzsaXLRsZ9LPyB\\/r458fHr4oRLvmtqG8O94f+waE+rzCipv+UMYzmLcVbzxGvJ923pf3Q2v8hbW9etYLW8db78vn5+yUYgf9WSP1NwZh0Jb9eR77mHxzq8wojavppYlEo6MQBIU7zluKt54jXk+7b0n5o7f+QtjevWkHrePV9fBf\\/Vigi4lEoIuJRKCIyHoUiIuNRKCIy\\/Bfkex0M4dQfdm\\/Z2ng9UCeNqOljIZ65k\\/d02nUL7V\\/bt639EBpo\\/5A2DsgyxwuC9aR4GgF+Vma+wl8fH9cqIfVV1Xxq1Ij103QO+7Cw\\/y6Uc7h8LhQKinWW9mdNn8Zb78vhcmr+SuhnTPUcvK\\/wKvnsaj41asT6aTqHfVjYfxfKOVw+FwoFxTpL+7OmT+Ot9+VwOTV\\/JfQzbpbnffxboYiIR6GIiEehiMh4FIqIjEehiMjQX5DvGMwtyzjsnuNBCOs\\/pYMTLONZZd1Cy6H91+ziUCh0zyo\\/TJ\\/GD8vT+LLljmOiENZh4aP3FYbvIEef0dXxJWH\\/0cxZ\\/x30PYVynls3qD+HbZR0Xsd9qVQo1HN6Xi19rIMLYvW0nsvJ+wqvn3Wf4GkfE86bJrYu57l1g\\/pz2EZJ53Xcl0qFQj2n59XSxzq4IFZP9QPM7+LfCkVEPApFRDwKRUTGo1BEZDwKRUSm9R3kEOb9Qwvtvwp+RwfnZeU8t25Yv6SD8+IBMF4SCjJZHQ84qo91cEE0Mcwb4+BnZXhJ1z3XS957th8ubZAMSNfc10ua+48JYKWT6vx\\/Nb6bd7MQJHFc553xbEEqh+q\\/Tnaf4F4\\/gjuV2lrna+7lvGbSfCFp4QJ5OzAdCt+fMHdYh7yvAqWDI80XUbqvMDXM33HfGZ0Azgt11r25fstH1prv6e8OP7WeMcHhOC3ntH+29V7T+Oa5v49\\/KxQR8SgUEfEoFBEZj0IRkfEoFBGZ2n2FsWEdz92ZENaJAw7nxTodfbwMoYX2p\\/W08sJqok4cwRMcjS9btjLrEVkntLBw1lmD40kd\\/axMj8K1\\/2vuiQY2pBONSa+dZ7It6bqT3xAS6rnvUD9k4xNk6zNr41xcTrz+L333bJ4j8ZG16sS+xSsYESnQ\\/xi2eZanPlC4n+P6pHri42Xvdcr71bSM\\/\\/eB\\/7fJT7u\\/LPSnMo\\/ep3bQSBbLP+0XO71upToveJ9jKifGqV+S5m3pn64zxWFeKo\\/wb4UiIh6FIiIehSIi41EoIjIehSIiw39Bvt8OztZoFBpK\\/alMrZ41vThMm7uHFhbGOrV1o2lDS+yfhWD8dN6WfkuHxmFeGEc\\/K8PvIH\\/8mug\\/WpRyX8vum4ZZx9e2p9pnV0PWLxPGwcRRJuUNlab1X\\/fOcfpYWgno\\/sHPEeq0+qeC\\/pZ9mOqh8dq+gvvnNzncOr7Cq+Rjmpmj\\/sHUP2Sdmm+O1g\\/9m2n9171z\\/LhdsuRfw88R6py2mf4t+zDVQ+MP+hDfx78Vioh4FIqIeBSKiIxHoYjIeBSKiEzLV7iOxu67hnU8dKfyMOs3hFj\\/XE9uWcVZ7028JsQSxLShIfZv6ZT6p4Jg915BVKYVryVYCyX5k77CXx+P+JiSryr5iZJOK96qp+Zfaxm34IOhdeJ5hbw43jL+QV9bLOfwfsb7BL6nVD\\/N6\\/Q++fx9zld4dYxbITxT+n5r0mnFW\\/XU\\/Gst4xZ8MLROPK+QF8dbxj\\/ua3tkP+N9At9Tqp\\/m9W\\/sk7fxb4UiIh6FIiIehSIi41EoIjIehSIig39BvlMwNLDwJud6BNdpxdeZ19GNThgQdXgDi0MZWg7tn\\/LyOEwQu68boHpRJ8SjUGhgYaxfKofvE\\/Kz8tn7Cqfkq8K+s5K\\/KelT31PLn5UKivMK69zSoc89xfF+SPOCC033Q5Qvrc9pP2DMW9onUT\\/I4zqhzg+6r3BKvirsJyr5m5L+ddpPBwuK84pG0I4Ofe4pjvdDmhdcaLofovxhn+lTvt00ojUvXCfXeR\\/\\/Vigi4lEoIuJRKCIyHoUiIuNRKCIyx+8rjHGogxOc1ac6PC8rKPc+q8PUd3GqH1riAKhP5VvrUyoI563tkxAPA07roJ+V6VG4ZmPQys4hokO57rleht1zx3rWOYIMTZtJE94IkXldc18v+e8\\/5glQTprDxhmW6lnqpDojeKHX7JyCpD+tn+7z\\/ByZ\\/uua7fW\\/mhZ5qX54XBtjZDR8og1K6PgKH\\/tALI0f9mfhcuh6RqG1znXYl5cLWsdTPUzlG+UcNo7SeZ32sVKd0D3Gaz7Bw\\/5QhH8rFBHxKBQR8SgUERmPQhGR8SgUEZmWrxD7oZI47M7jIQEL98o5bLjKMjQvLgjWA+NYCA6I3dcNP6wcrkPjQYjrU6F1Q+p+0FcY\\/U3QH3fdwa+UEkMjU\\/YxrYn9k41psI8yXyy3SLypB7G90G6VAJL2w0A\\/2oT1DI9351OrGFPz8oT9z7Ynzkv9j6XHi\\/PidcD7P\\/iF0\\/tIoEdhxx8Uwue\\/30rvxUv1zFnDWG19YN7U\\/af56aI+vHcvxVvzos+R7tvTftiW77W2DqF\\/yovwb4UiIh6FIiIehSIi41EoIjIehSIiQ39BvmMwtLDwJkFJH\\/qSNkKdAaE7r6eTN3XH68Zk4gCs\\/40RqzhWCQOiDu1f2\\/803kkQu1N5mBf9rHz2O8j3XMv+M9OJR9tTyEv7h7xxvkwmxmOZYT1b64914HpS\\/dR\\/wqzwfgv1t9Y\\/1ZniteebJhATw7whLdU\\/vf4\\/6DvILZ9XjF\\/PGJbifJlMjMcyD68\\/1oHrSfVT\\/2n5CkP9rfUPWWO89nzTBGJimDekpfr\\/wvq\\/j38rFBHxKBQR8SgUERmPQhGR8SgUEZnz30HOLZV4lA8NtH\\/IW5KJ8SyzbqH9U2KsEwesG6h+7s904ojQPausW2DWTZzqhxZcEMxb0j+9\\/gfvK4zfF550T9l9vVT\\/9c\\/L+MpO9Kdz6A9JDqQwr+uOda6dT3dYiFnHr7lXaTdlpnUI9QTSekbC+tD1vNPy7HIv2Bjt1qT6kz685\\/GO+z\\/ow+cb2ezbRXjuSQtXAu4HSjwHGtOiR+Ez981d1N9EjU+h0FR\\/yy9J59WqJ+Vd9\\/7GOuMHv9apPfdSPU\\/d0xfkH9snp9e\\/tQ4I\\/1YoIuJRKCLiUSgiMh6FIiLjUSgiMvgX5Pvt4HzL3lTzN8HMoXtWgfohHlUO18N67+RDQykBTXu6ntr+78g\\/t09oA0tbWwf0szI9CrOBZxW\\/\\/\\/x+v1BppV0TjVWvKt\\/Ly\\/Qv6uNL9Zz2DyadaAsLPq+wcFf0UQa\\/Xvyu9EvnrzpL\\/lOqE7dbeF7Xzfyks369NgNCpfC9yPL5+TbWf2NPPEfnvsKZeeZePJZ2aoYuqJ\\/mC2U2DWslmrcVP+4PDc8rPcaSzbTm48PrEOp8zI\\/ZyjtnnwvCvxWKiHgUioh4FIqIjEehiMh4FIqITOu+QtJ5dn6lmuEqxZ\\/Rx\\/JxAFPCeWvxdeZ1NHbPDSyMt22pnDiA6q\\/JA7h+aID9eV4Wx\\/rkZ2X4HeRfH8HmdU3wD5Lu+PunM4PyrnvneMwbCj1df9Kh86X1xHiacEwc8kIdvM60ztN50zrQgmCc7qva800D6HuU5EPD5+fvl2CkdF9hyWd0PXQfX4pTn+Pp+qlPba3O64nxNOGYOOSFOnidaZ2n87aMdjBO91X14sCT\\/tCGsdC\\/FYqIeBSKiHgUioiMR6GIyHgUiohM777CdQPsjv1Zq+A2L44HJRbOOiEz1WHqvJ4YxzJhANTJ3Tv65\\/OWCoLxnDW05AEhDgfQtLgB\\/KxMLdZrLvp90o3DiSVe37\\/2lWEhH+KvGn\\/k4f1rWyPWMkGoP97TF\\/Km5YzzXc9rZtJzrHzHtkWe73o9wzLP5Gkt4ylv\\/D51GLB5Xyr3bCb9PCAsUJ4wqgd\\/rznvZ6SP6PgKr5IP6HroHkMq8y1\\/0xMX7HW692xwJV8hjbfkW37YuM+D\\/ul7KnFeum9D\\/9b238Xfxr8Vioh4FIqIeBSKiIxHoYjIeBSKiEzLVxjC2AcUuz\\/mFwvxOAAqHdepdMflYKGa\\/mH5IJT11y2xP29g+q28pf5UZs0mTn5Wbn0HOZSz8SWtDUUh7zcMSA0\\/FPU3XdGH+KryHbJ+6A\\/tVskXmb7bO9AGl+pfPpn7a92SL4\\/k3fhb1\\/MNi0TXM86XEhJfd\\/CB5osAmV+PlZOVwgO4169GVqLvO6HzHeSr5AcM4eM+PpyXyeN1OH3\\/48B7DFPeqPNQPdiPBtc5ybTij+03WBB+32OCEG+9kAT\\/Vigi4lEoIuJRKCIyHoUiIuNRKCIyre8gr6O5f89nlDOfzQt1Solh92\\/Ys2Den1YPTgD1T8dh4tw9tED92vueE6zjUYbqH7uvMPmkNj4men9cB5ig5aeL5UA\\/IL\\/HcJN8QZwv9MFt\\/HprH1n2taH7B+\\/Uf3M\\/4EKmtuVavkVaf+T4CxbSUl9tq86GDj0KOz6mEJ45fZ8aTHAd9pe1fHCt7zLT+R5\\/LjRe8sGdXofH6kkDoBCu57DPcafzNv6tUETEo1BExKNQRGQ8CkVExqNQRGToL8h3DIYWFs5J44CzCbBMJy0fwMJRp1VO77l0CsppaX+U9gfW0xHi8mEEFoI65Gflj8\\/PT9D718fa1jZTia9dWF+\\/oaP+sx6wdm3lMlPe3gAWT\\/Wn+VKdVE2cFn4w6\\/6teeF4qDOVn9RjnVCI7uckhNcTrkPpseP3Jc4ryHz+Bodb5zvIM89cUxb7P+XPqhm61vFUP70nrrYO+MGs+7fmheOhzlR+Um\\/55uh+TkJ4PeE6lB47fl\\/ivDYyb+PfCkVEPApFRDwKRUTGo1BEZDwKRUSm9R1k0Hkbj\\/KhIZezbsn9Wd7iABTP6iwv672TDw2wf64nt1TiQZ5n7Qjl7kwI67Bw67HvGpZxLHPQV\\/jx66gPiPrO1ll7+i0\\/VM1nV6rn9HM57bML3WO85stLMqfXfy1zfn3gvm35NGmdaT1\\/k8Ot8x3kmen4gKDvbJ21p9\\/yQ53+3vFxf1bLD5jWYV1m7XrDmi8vyfwL\\/rhH1gfu25ZPM8W\\/4Rd+H\\/9WKCLiUSgi4lEoIjIehSIi41EoIjKt7yCnzrE3bGBZi\\/q8YR3\\/YfW09HPW0JIHNLpv4kwp9uYNJf11HHbfxINSTMD6RxkcXyslffSzMj0KA9e9\\/g7pS2zffdJ3VINx6FXkvyAk\\/kqxKGjnaAT6uwks64HfO77g92eT0yt99\\/mGz5fyjWVj+mF9vpqW8Wf0w4Qv+h1kJj\\/XHfbPpp7lvErPcetELPRfUvIVXof9RCzt8e\\/AxgG0oFL\\/KHPYT4fz0vph3jl7u+Hxer7hmzv7HpXqqe2fmGETfxf\\/Vigi4lEoIuJRKCIyHoUiIuNRKCIyNV8hCwPp+Y6NCfuzcOI0gBZU6h9lYP2lcvCAXt7D8eP1rJVq+kEo65fqKeXdZAhx8LNy5zvIG1fPMt66943Gg73p+HddU951lX\\/MBKCgWCe83621\\/LSeJBTrhOuT6sQPPujU1h+uT4rj\\/RbStp5j7XvTMO0D30G+6Hdjg85j3xEOadO8aP0p77rKP1vtoK+QrkMsNMRpPUko1nl6I0Kd2vqX\\/HR4v4W0redY+940TIvwb4UiIh6FIiIehSIi41EoIjIehSIi0\\/oOcghnjTgAK6E4TUv713xYsKCsD+vJQihO60lCWIfJ13Ry93UL7R8ThzhWCQOyDsyA9UOcDiA\\/K5e+g1zyYYXuLfsX9zPSBDRxS7+Vlxq3Dj93Gn\\/MFxkGYJ1Q0FXyV56uZ92bx1t+zM\\/P3y\\/ByNn7Cmd+lP2L+xlpApq4pd\\/KS41bh587jT\\/miwwDsE4o6Cr5K0\\/Xs+7N41U\\/5rv4t0IREY9CERGPQhGR8SgUERmPQhGROX1fYdKA3Y\\/byHoJntJv5YUFne3O46UEWSa0sHDWCQX9PfW04usMOW9qOXdfYfAVtnxPrfv+aJz6qrAvj\\/aPlbJ6Ylro24LV9O6\\/g\\/Oi9cQBIY7rh0K1ecEJn36\\/aJzun6TzmxxuHV\\/h1bpXLhjDkv4c9jHFEbD+4x9sDvoxLXyOsJrHvptM64kDQhzXD4Vq84ITPv1+0XjRhvs+\\/q1QRMSjUETEo1BEZDwKRUTGo1BEZFq+wnU09882JqrfisMMsXtooP1TXlhPVl+3lKrhywAHZB1WTx5A88IEoTtU2aRlSjjv6fiyja8P+lm58x3kmcP2O3p\\/WUn\\/Kb8e9alR\\/ZiXpeUDoDGM7p\\/TvtTj61OKx\\/cC7vMf93yDToo\\/8B3kmcP2O+pnLOk\\/5dejPjWqH\\/OytHxAWjjYnfrp\\/pr1KcXje1Hy+cZ6Tj\\/foLOLv41\\/KxQR8SgUEfEoFBEZj0IRkfEoFBGZ1neQU+fYPTRk+XXLaf3jddJ6wgiuH+JYCA5odYcNMG2OY6FaZhTPWUNLHJCVmM7ZtDFOflZmvsJfHx\\/XKmPL9zfTiUN7U6\\/+0sRaeWvrD42arfU\\/\\/R3quD4t\\/x1cn9Y60DKTTsunWXu+cJ0P+gqv1ndLk9CcvVcuydTqL02slbe2\\/tCo2Vr\\/09+hjuvT8t\\/B9WmtAy0z6bR8mrXnSw3DBP9WKCLiUSgi4lEoIjIehSIi41EoIjL0F+Q7BtctsX8WqsS5\\/HpE1OENKN7Ky3XgABbO8j2hEF8LZXlaD+vfywu7Qx2+bikeRpTqiTrkZ2V4FCZD0bKUvQHpbyDVf91z3a\\/huXPDOkHs3ylonTmJf4NQz\\/3HP\\/GS+LrR\\/snLs857zY2ey31fyzqvua+XmnKZudAAfY\\/otkrg7ZnWIda\\/Xk9az1fTKg6fC6F0X+E3\\/D5\\/g68Q+8KCzE\\/zneF4ywgKF+6Cvr\\/Yf92d5006c3adaT14\\/0Odlq82zWvdO8d3ad\\/GvxWKiHgUioh4FIqIjEehiMh4FIqITO++wtAQ+5+N87RhBAvX1ifKPLbOpQRRZt2Qs8L+rby5oFK8U0\\/s39LhDcs4672JJ6Fz9xWe\\/g5y7d63w\\/pD72VLI2CC4\\/WE+EXvp0tpQwPWh\\/M6XX9r\\/7TicX3oCwP7p3Vu7cMYD3X+xd9BrvnvDusP9SemETDB8XpC\\/KL306W00DcX9eG8Ttff2j+tOPafloyFaZ1b+zDGNwv9Nv6tUETEo1BExKNQRGQ8CkVExqNQRGR+2neQqcHpMf0YhyPOduf1hDhWiQPWDVgfzgvrxwGhgYVz3lo8ZA7hVv\\/Y\\/fRKJPlz9xUm59AV7olrcaV71pKh6J5Y50td98wd5nX\\/8QG8jID37tH77PB8i\\/Ws4pt7\\/db6m32yXP\\/T80plhrzXHe49pGnXyzDpXr+0nrHOVBHcb7h\\/YGMsxHlRfOccfRd4FAZ\\/0PWQ76zlL6v5Aak\\/i8qf9ouFeo7fJ3h4XnQ9a\\/MKZT52P+Mcvr\\/y9D6k9RD8W6GIiEehiIhHoYjIeBSKiIxHoYjI8F+Q72VwHd1IxAFUn2Vu6fT8WbQ71e\\/U03outH9rXjRvrT9sOJ+3FQ8JaEGxf6ke8rMyvaSL+bYoV\\/CdcaF1nckfl\\/pf9yzrST7Enc4iHL8\\/my+K60Drwfr0OcJ1G\\/g9XLqeG59j53vTpf2Jd8Rm3yI2G4i8F5GNT5D4VRGd+wqvw99djTo\\/zI92\\/F7FmbP3ysF6kk6oMsYP2x\\/5eqY4LYjGW\\/szyDzm76s9yPWAzT58H\\/9WKCLiUSgi4lEoIjIehSIi41EoIjKt+wpDOGu0dA77m3I9JR3eUEnQqid2p\\/EghPXjAKxUKojGQwIW5usQ+9N4S58NSL3Rz8rwO8gfvyb6nla13Neyf3IN3cP6z7qaqHP8w7Rhvq28cJk3DSzx6eeV4q3ljPsBVlSbF9yftflC\\/dL24Q+SnhtB\\/uR3kEs+vqt0L9u0\\/IZJiMYP+7bgMm8aWOLTzyvFj\\/tPYUW1eZV8qaf1W3bM499ZDvII\\/1YoIuJRKCLiUSgiMh6FIiLjUSgiMq37Cnt+NNqf6fw0XxjVjzK8AcWzyrqlkzXKf2NWnYo6KrExToznLenzxEwIJobd2c\\/K7Ci80r1gpevU8H1w+XuysM7gWHrtXSVM90\\/Tazwase6wQCnBovPM5vlCUp2v4v\\/ZsOgeG+4\\/fpHXATFeoTcvmDevD5rvZr+xxOm92DkvQT1pAN0nKe8SehR2\\/E1X6\\/ut0H8UZVo+ROifwvL0CaQEp9ctjMDPvWZsOxuvzau138KA4+9FqZ5q3nfxb4UiIh6FIiIehSIi41EoIjIehSIiQ39Bvt8O\\/hNfj4g6OAHUj\\/EwolTPcb9YGhG7rxtO1wPLwfpPxZcNdxqxaYj9cYJlHMvjOlv1tPKCn5WpxXrN9iK0+zVcc3pBfVpnlH\\/V+CqH+xmZPy4VNGsjYu7e8Q\\/i70dfB31hs\\/VFpnoqvstS+RH6HNO87uXM\\/hFaxakRkZHXDb6PjWI6vsKfdj9a1D9cZ+ofysz1pBEwAa2HxkvX0NUe\\/EV9c7CepN\\/yw9b8p7SeVpwmLu3n7Xv0Lv6tUETEo1BExKNQRGQ8CkVExqNQRGR6vsLQwsLUlhTjWYYVFHVof1pPGnG2O4+HBDEvb0BxrALrgd15YhbG8nlAKw4T17qnlmO+ws19bUt\\/U7Il0Xv3rrnXOq99\\/6+CXgdc99k67z+\\/668TLxKkxBP8bonSvX6vi\\/NDudbrdq8fy+R7\\/V5EvuSTX4\\/eFzl5P6\\/119BrAyNBiL5fkfBcvvGidvISOt9Bvn7aPXch8fXQ93MfM\\/hBIfwcQ9o03ZqvED\\/IoB90Yv2l\\/XB6Pz\\/ml0zx0sTwfAn+rVBExKNQRMSjUERkPApFRMajUERkWt9BXkd3EmxE7A0Tw+48QS8xjHcSYJUwIOrwBpgA6rNw1smJl\\/GoAuW5zrqhVU+OQ6HQPaqkBvKz8sfn5yfo\\/esj2NQm2LauZUNwE6Xum4Z14pp+sJEll9q6mj8mjIpQ0AkD4jq06qF1ltaTpqUDTu+fVE9rX6X6o85aJtZTmm5tH6buv8nhBv+t8Or4ia7D38Ot6V+l++PSwmGhoBMGxHVo1ZPih9eTpqUDTu+fVE9rX6X6o85a5rn7Onvr9j7+rVBExKNQRMSjUERkPApFRMajUERk8C\\/I99vB6fqYWOKaPguHamLjN4TYgNy7VU+KM\\/3TaemAKEMbYD2we8yLdcKAqEP7x3hHKHVHPyvDj3\\/C68gSO+MTSXzdc70Mu7n+le6P2zjzVqTu6Z7EqP862W2dX02rKoPjKj3IRKjzSvfcZaW1fL4HE\\/UPexHXifdnCboOp+9tpOuM1wjuw3j+7IyI71L6DjJtuDpGsiRD\\/WVRB\\/q2sD8L+qrosp32M8Z1oHlb+jPP+CtrRru1Dt1vVL\\/1IqU6aTlpAH6PCP6tUETEo1BExKNQRGQ8CkVExqNQRGRq30GmDbE\\/i\\/N6aDnrFpqX6v803xZeB5y3pL+mWGeKn9WJMiX91ovUKicNyN1TC\\/hZuXRfIbz3bVr3zcF4dFU9lJfKxzprF8ilBGFA0Kfr3FqfFL+nlBhOIK5DqiclLi1QrR6cIOjDedFleOK+QuiHmrOf843xq+RDbOWl8sf9myWjF13n1vqk+FP+wbgO0Bd53IdL68EJgj6c1zeW4X38W6GIiEehiIhHoYjIeBSKiIxHoYjI9O4rXDfE7kyGFLONR\\/mn8tJ4FAoNODEcQNPS\\/rV4KzHTyfIwMezOZU4nCA0wLex+8r5CepFb7B7uTbvudK9cEHrtvWXnrGpwrSraSG+cUqzOkDjVs1jLKum519bnutM2DPstJWD76kr3ReZ1RvUkfXqvZUp8h3WL92kuFv+rUDjh0v7k7wsAHoUtPxT0IT7lC4s6IY7LOewvg8u\\/aThbT+h+\\/rmnAUG\\/lvb0\\/j\\/tfzydN8h8ywD8Lv6tUETEo1BExKNQRGQ8CkVExqNQRGT4L8j328H5hs8oq4cWWE5PpyUDR7S684az9cR4GIGF4IDjadcNWZ8WxPr\\/uLy8IcR\\/zH2FM1O57yy5iWLa0BBcT8fvK0zxOC94fxyeF1yfddZvrBu8t661Pk\\/d21ibb6mc0D3G0zrTfUL1W\\/cY\\/qD7Cmfmkfvvjn9PthSP84J+QzwvuD7rrN9Yt9N+t5Q4CYXuvQ\\/0Bp3WPoflhO4xntaZ7hOqX\\/Srvo9\\/KxQR8SgUEfEoFBEZj0IRkfEoFBGZ0\\/cVEpX5F\\/xHXOdsPKfNLat47A0bWNadPhzAwjwx7N7TDw0sfH66Mb5WOq3fmu\\/J+woTF7x4DBKdQ+sUm4vQUoLglHoVmZnNdIfpRFKCr6aX+B2WIcqne\\/HgfXDfuV8yzesk33leqwHXPet1C\\/snr\\/OanUGU7KuNTjI0BvlQP9zmaV\\/R9UnsjI5vU\\/IVzkP+LKgT5aG\\/6bhOkJn5S\\/yMh\\/1iT9VJ64l5Q9qZw\\/dsHvY5PrY+m\\/jb+LdCERGPQhERj0IRkfEoFBEZj0IRken5ClMcDojdOzpZhQ04rpMTVOJZniXGOkz+x9VJdWL\\/LMQGHNaJ8ricdQvVX7OJk5+VO\\/cVBrfSDLy\\/7G+Jx3vWwoiN7amTNzyA9Fxa9wFI+GoAAAfwSURBVMTR+\\/iSTqwzyLfuW0xxmjcqPfVitOqEz7c13bQ\\/0\\/NN\\/T8\\/f78EIx1f4VW6H+1vibd8bbW84QGk59Ly\\/bX8brHOIN+6bzHFad6o9NSLcdrPC\\/dbyBrj2Ie4ex\\/fxb8Vioh4FIqIeBSKiIxHoYjIeBSKiEzLVxjCQONviy8b4wjW+xt5WRjr5II6OrE7bIBpc5wXtI7XCqJxmDh2Dw0snLJu4mulrJ9awM\\/K7Ci8VleS3TvDz9ppdIV1wPegpbwD47DO1n2CeF6h\\/1Nc9L65MLH7jx\\/ipXe8DzHI53vxUH+80GE\\/wG2C4\\/fkFybVs3xemxePvPB3vPfwJbgl76v0vArAo7Dkw7rgPWXX6Xv9SnXSvHheJZ9Xy1dYqz8kiOtf8nXidXjIZ5fij\\/lMf5jfcKv0Lv6tUETEo1BExKNQRGQ8CkVExqNQRGToL8h3CsIGqsPz0vha6HRerh8aWBjrrCnWHxLk3od14gDWP+dtxVv10AGtvDROlY75ChPJfjTYH\\/Si8qdh3T\\/5zib5sF41vjqHOhNpvkk\\/EddhrbU1qiH9OOCqfG83r09p4YLOlXxz8Du8yxnf\\/wxZ6a\\/ZXOzHfKat57jb1A2obzS973FfxfMElbmk4yucw36o1v10pev1sH5tAC30tAESdn\\/Mfwrvv5vT9xuGQmn9uaJ1PK5ny1fYqoeW432FIiIVPApFRDwKRUQ8CkVExqNQRGRqvkIcD0oxwboB10PTlvRrA07rl\\/LG7rCB6sT+rf0D66GF5npyC4lj\\/TjgcD20nNhyzFfYupeQckHfX9RJtraS\\/ysSFi7NK\\/qkoO8v6l\\/QeBnA67lOsTEilvJCfbofsMEyQP2PFT\\/dhrhsuQEJ3eHcSGsUz5\\/lK7DWiHS+g4x9YaV71uan3fsWZGrrM\\/NIncd9cKXnXnuOh+\\/vm3lmn1Cd2D+lxYZA2H\\/OXVfo3wpFRDwKRUTGo1BEZDwKRUTGo1BEZFrfQea+rdDCwmu+FS\\/VAxtidzrj0B2Wkxuo\\/un6aV6sTwfgBEgny7AEVCf2pw21\\/jBOflZufQeZ+bYi6b6z7Oei\\/i\\/o2wplUt\\/caUr306V1mGwjQ2mxPvX3JaEAXrZsbFuSXwumE\\/Whb\\/QO2zPdA4hJE+7JnFvPs99Bvg77zlo+pqvln5p55Du\\/WD\\/Ip2VLWVs+yqhP\\/X1JiMZ\\/2PPF68bkH7sG8\\/g+Ifi3QhERj0IREY9CEZHxKBQRGY9CEZE5\\/R3k2J8ah2qJ1w1UHtcf4lnlsH5owFlhAqx\\/2ncW450EWYXp42rggNP6VIjLpxHgZ+WPz89P0Pvj18T74FaVDOt+X7D\\/0AGw\\/5TqSUI0QaseqF+Ll9af6mD5w\\/uKyqRCW\\/vwyq48pN\\/Sae3Pz9\\/gcKOfhL8e+U5u7E\\/rKRnqcD1JiCZo1QP1a\\/HThsagg+UP7ysqM3N2H14lH19Lx\\/sKRUSewaNQRMSjUETEo1BEZDwKRUSG\\/4J8r4MhnDRidyxPB+AEnXqSEE\\/QqQfq9+KtepgOlj+8r6jMmt4+hGmjfkuntj\\/Jz8olX+FMJZ58STUf01omNwR\\/U7I9YV9hyT+F49TAFuLxeUH508vQ8qu29udP83vStK31xIXC+Ofn75dgpOQrnHnkfrfUP2WNvq2WL4yuTxIK3WtxamAL8fi8oPzpZWj5VVv786f5PWnamv83ZijG38W\\/FYqIeBSKiHgUioiMR6GIyHgUiohMzVcIOu\\/iWX3dgquJA0IDC+8SUKHD8U7iqALlO9Vs4iFBzrtuOd3\\/qf2A04YBWQdnKMXBz8rwKLzu5YdIr3uul4K+\\/hnFkzPpSt\\/PhYTysdTGMMYSl4jzumopluyMnSvy+kdnWymea1qR9tvWaPqS4p679N3tuNCvSb\\/Vf2MQXc\\/3Xu6t+w7rv3l\\/6fnwIv7Vu\\/B+0aPwrB2q5R9s5T1uuEo6MJ7ksY+ylRh2P+47C4nx46X7JKxz2s8t3+v5D12nAet46\\/39znv6Nv6tUETEo1BExKNQRGQ8CkVExqNQRGTwL8j3OhjCQOOf+Fqpp8\\/y\\/guGq0o8yvOGUmLavVQPTMyzUqF1A+xey1vbz3nAMt5RiY15XuRnZWqxZmx8WMH2FPxW1PcU9UOhDV\\/SDujzSuUkn+Duprgn2NQffIglY2RITB8vrTPPl\\/kNw5T5BOA6xGXe5CVC9ByYsAy7fYIMrivO+gqpDyjqBJmnvj8b46WL+k6vw2lfYS3t4fU8nLbn66QTgDI\\/bf9X876LfysUEfEoFBHxKBQRGY9CEZHxKBQRmfO+QjYg6tCGmj6NQ6HQParQBi7E4sfTwgG0nrNp+fPCCUoyJf2n5pXzgp+VS99Bjrah5Ha7ljrJHXSvu89MJ57qTDKp\\/jQizgvqxHhc6LU+XmeoE6rE8VQP3Vd0fU7v54H7qrXO9D2iy0YTnN6Hv8nhVvoO8gX9ZUHnKn1Xl8ZTnUkm+iXDiDgvqBPjcaHX+nidoU6oEsexXRIbX1n\\/1n6eh+7r\\/Gl+yX9hH76PfysUEfEoFBHxKBQRGY9CEZHxKBQRmdp3kFk46sT+WagS5\\/JsRO7NMy\\/jUWbdALtznVY8JMh56QDWn+bN\\/U\\/rhDgUit15wzLe0k\\/d0c\\/KzFcoIvI\\/Ev8DWUTEo1BExKNQRGQ8CkVExqNQRGQ8CkVExqNQRGQ8CkVExqNQRGQ8CkVExqNQRGQ8CkVExqNQRGQ8CkVEZuY\\/AEAo9RM1Da4pAAAAAElFTkSuQmCC'><\\/img>\"},\"nodeType\":\"DOM\",\"type\":\"node\",\"instanceArgs\":{\"namespace\":\"html\",\"tag\":\"div\"},\"children\":[]}]},{\"props\":{\"className\":\"interact-widget\"},\"nodeType\":\"DOM\",\"type\":\"node\",\"instanceArgs\":{\"namespace\":\"html\",\"tag\":\"div\"},\"children\":[{\"props\":{},\"nodeType\":\"Scope\",\"type\":\"node\",\"instanceArgs\":{\"imports\":{\"data\":[{\"name\":null,\"type\":\"js\",\"url\":\"\\/assetserver\\/dd22ed1bf1896c2748f3fe616ce0b838adc895c1-katex.min.js\"},{\"name\":null,\"type\":\"css\",\"url\":\"\\/assetserver\\/46517a424aa5e6cffc1360d7e0848b601c584ee3-katex.min.css\"}],\"type\":\"async_block\"},\"id\":\"4511284071078795803\",\"handlers\":{\"value\":[\"(function (txt){return this.k.render(txt,this.container)})\"]},\"systemjs_options\":null,\"mount_callbacks\":[\"function () {\\n    var handler = ((function (k){this.k=k; this.container=this.dom.querySelector(\\\"#container\\\"); return k.render(\\\"\\\\\\\\;\\\\\\\\;\\\",this.container)}));\\n    (WebIO.importBlock({\\\"data\\\":[{\\\"name\\\":null,\\\"type\\\":\\\"js\\\",\\\"url\\\":\\\"\\/assetserver\\/dd22ed1bf1896c2748f3fe616ce0b838adc895c1-katex.min.js\\\"},{\\\"name\\\":null,\\\"type\\\":\\\"css\\\",\\\"url\\\":\\\"\\/assetserver\\/46517a424aa5e6cffc1360d7e0848b601c584ee3-katex.min.css\\\"}],\\\"type\\\":\\\"async_block\\\"})).then((imports) => handler.apply(this, imports));\\n}\\n\"],\"observables\":{\"value\":{\"sync\":false,\"id\":\"6127030406762488160\",\"value\":\"\\\\;\\\\;\"}}},\"children\":[{\"props\":{\"id\":\"container\"},\"nodeType\":\"DOM\",\"type\":\"node\",\"instanceArgs\":{\"namespace\":\"html\",\"tag\":\"div\"},\"children\":[]}]}]},{\"props\":{\"style\":{\"display\":\"flex\",\"flex-direction\":\"column\"}},\"nodeType\":\"DOM\",\"type\":\"node\",\"instanceArgs\":{\"namespace\":\"html\",\"tag\":\"div\"},\"children\":[]}]}]},\n",
       "        window,\n",
       "    );\n",
       "    })()\n",
       "    </script>\n",
       "</div>\n"
      ],
      "text/plain": [
       "WebIO.Node{WebIO.DOM}(WebIO.DOM(:html, :div), Any[WebIO.Node{WebIO.DOM}(WebIO.DOM(:html, :div), Any[WebIO.Node{WebIO.DOM}(WebIO.DOM(:html, :div), Any[WebIO.Node{WebIO.DOM}(WebIO.DOM(:html, :div), Any[WebIO.Scope(WebIO.Node{WebIO.DOM}(WebIO.DOM(:html, :div), Any[WebIO.Node{WebIO.DOM}(WebIO.DOM(:html, :div), Any[WebIO.Node{WebIO.DOM}(WebIO.DOM(:html, :label), Any[\"time\"], Dict{Symbol, Any}(:className => \"interact \", :style => Dict{Any, Any}(:padding => \"5px 10px 0px 10px\")))], Dict{Symbol, Any}(:className => \"interact-flex-row-left\")), WebIO.Node{WebIO.DOM}(WebIO.DOM(:html, :div), Any[WebIO.Node{WebIO.DOM}(WebIO.DOM(:html, :input), Any[], Dict{Symbol, Any}(:max => 400, :min => 1, :attributes => Dict{Any, Any}(:type => \"range\", Symbol(\"data-bind\") => \"numericValue: index, valueUpdate: 'input', event: {change: function (){this.changes(this.changes()+1)}}\", \"orient\" => \"horizontal\"), :step => 1, :className => \"slider slider is-fullwidth\", :style => Dict{Any, Any}()))], Dict{Symbol, Any}(:className => \"interact-flex-row-center\")), WebIO.Node{WebIO.DOM}(WebIO.DOM(:html, :div), Any[WebIO.Node{WebIO.DOM}(WebIO.DOM(:html, :p), Any[], Dict{Symbol, Any}(:attributes => Dict(\"data-bind\" => \"text: formatted_val\")))], Dict{Symbol, Any}(:className => \"interact-flex-row-right\"))], Dict{Symbol, Any}(:className => \"interact-flex-row interact-widget\")), Dict{String, Tuple{Observables.AbstractObservable, Union{Nothing, Bool}}}(\"changes\" => (Observable(0), nothing), \"index\" => (Observable(1), nothing)), Set{String}(), nothing, WebIO.Asset[WebIO.Asset(\"js\", \"knockout\", \"/home/dushya/.julia/packages/Knockout/HReiN/src/../assets/knockout.js\"), WebIO.Asset(\"js\", \"knockout_punches\", \"/home/dushya/.julia/packages/Knockout/HReiN/src/../assets/knockout_punches.js\"), WebIO.Asset(\"js\", nothing, \"/home/dushya/.julia/packages/InteractBase/LJXv3/src/../assets/all.js\"), WebIO.Asset(\"css\", nothing, \"/home/dushya/.julia/packages/InteractBase/LJXv3/src/../assets/style.css\"), WebIO.Asset(\"css\", nothing, \"/home/dushya/.julia/packages/Interact/PENUy/src/../assets/bulma_confined.min.css\")], Dict{Any, Any}(\"changes\" => Any[WebIO.JSString(\"(function (val){return (val!=this.model[\\\"changes\\\"]()) ? (this.valueFromJulia[\\\"changes\\\"]=true, this.model[\\\"changes\\\"](val)) : undefined})\")], \"index\" => Any[WebIO.JSString(\"(function (val){return (val!=this.model[\\\"index\\\"]()) ? (this.valueFromJulia[\\\"index\\\"]=true, this.model[\\\"index\\\"](val)) : undefined})\")]), WebIO.ConnectionPool(Channel{Any}(32), Set{WebIO.AbstractConnection}(), Base.GenericCondition{ReentrantLock}(Base.IntrusiveLinkedList{Task}(Task (runnable) @0x00007f26b2548330, Task (runnable) @0x00007f26b2548330), ReentrantLock(nothing, 0x00000000, 0x00, Base.GenericCondition{Base.Threads.SpinLock}(Base.IntrusiveLinkedList{Task}(nothing, nothing), Base.Threads.SpinLock(0)), (0, 139804209802640, 139804196321152)))), WebIO.JSString[WebIO.JSString(\"function () {\\n    var handler = (function (ko, koPunches) {\\n    ko.punches.enableAll();\\n    ko.bindingHandlers.numericValue = {\\n        init: function(element, valueAccessor, allBindings, data, context) {\\n            var stringified = ko.observable(ko.unwrap(valueAccessor()));\\n            stringified.subscribe(function(value) {\\n                var val = parseFloat(value);\\n                if (!isNaN(val)) {\\n                    valueAccessor()(val);\\n                }\\n            });\\n            valueAccessor().subscribe(function(value) {\\n                var str = JSON.stringify(value);\\n                if ((str == \\\"0\\\") && ([\\\"-0\\\", \\\"-0.\\\"].indexOf(stringified()) >= 0))\\n                     return;\\n                 if ([\\\"null\\\", \\\"\\\"].indexOf(str) >= 0)\\n                     return;\\n                stringified(str);\\n            });\\n            ko.applyBindingsToNode(\\n                element,\\n                {\\n                    value: stringified,\\n                    valueUpdate: allBindings.get('valueUpdate'),\\n                },\\n                context,\\n            );\\n        }\\n    };\\n    var json_data = {\\\"formatted_vals\\\":[\\\"1\\\",\\\"2\\\",\\\"3\\\",\\\"4\\\",\\\"5\\\",\\\"6\\\",\\\"7\\\",\\\"8\\\",\\\"9\\\",\\\"10\\\",\\\"11\\\",\\\"12\\\",\\\"13\\\",\\\"14\\\",\\\"15\\\",\\\"16\\\",\\\"17\\\",\\\"18\\\",\\\"19\\\",\\\"20\\\",\\\"21\\\",\\\"22\\\",\\\"23\\\",\\\"24\\\",\\\"25\\\",\\\"26\\\",\\\"27\\\",\\\"28\\\",\\\"29\\\",\\\"30\\\",\\\"31\\\",\\\"32\\\",\\\"33\\\",\\\"34\\\",\\\"35\\\",\\\"36\\\",\\\"37\\\",\\\"38\\\",\\\"39\\\",\\\"40\\\",\\\"41\\\",\\\"42\\\",\\\"43\\\",\\\"44\\\",\\\"45\\\",\\\"46\\\",\\\"47\\\",\\\"48\\\",\\\"49\\\",\\\"50\\\",\\\"51\\\",\\\"52\\\",\\\"53\\\",\\\"54\\\",\\\"55\\\",\\\"56\\\",\\\"57\\\",\\\"58\\\",\\\"59\\\",\\\"60\\\",\\\"61\\\",\\\"62\\\",\\\"63\\\",\\\"64\\\",\\\"65\\\",\\\"66\\\",\\\"67\\\",\\\"68\\\",\\\"69\\\",\\\"70\\\",\\\"71\\\",\\\"72\\\",\\\"73\\\",\\\"74\\\",\\\"75\\\",\\\"76\\\",\\\"77\\\",\\\"78\\\",\\\"79\\\",\\\"80\\\",\\\"81\\\",\\\"82\\\",\\\"83\\\",\\\"84\\\",\\\"85\\\",\\\"86\\\",\\\"87\\\",\\\"88\\\",\\\"89\\\",\\\"90\\\",\\\"91\\\",\\\"92\\\",\\\"93\\\",\\\"94\\\",\\\"95\\\",\\\"96\\\",\\\"97\\\",\\\"98\\\",\\\"99\\\",\\\"100\\\",\\\"101\\\",\\\"102\\\",\\\"103\\\",\\\"104\\\",\\\"105\\\",\\\"106\\\",\\\"107\\\",\\\"108\\\",\\\"109\\\",\\\"110\\\",\\\"111\\\",\\\"112\\\",\\\"113\\\",\\\"114\\\",\\\"115\\\",\\\"116\\\",\\\"117\\\",\\\"118\\\",\\\"119\\\",\\\"120\\\",\\\"121\\\",\\\"122\\\",\\\"123\\\",\\\"124\\\",\\\"125\\\",\\\"126\\\",\\\"127\\\",\\\"128\\\",\\\"129\\\",\\\"130\\\",\\\"131\\\",\\\"132\\\",\\\"133\\\",\\\"134\\\",\\\"135\\\",\\\"136\\\",\\\"137\\\",\\\"138\\\",\\\"139\\\",\\\"140\\\",\\\"141\\\",\\\"142\\\",\\\"143\\\",\\\"144\\\",\\\"145\\\",\\\"146\\\",\\\"147\\\",\\\"148\\\",\\\"149\\\",\\\"150\\\",\\\"151\\\",\\\"152\\\",\\\"153\\\",\\\"154\\\",\\\"155\\\",\\\"156\\\",\\\"157\\\",\\\"158\\\",\\\"159\\\",\\\"160\\\",\\\"161\\\",\\\"162\\\",\\\"163\\\",\\\"164\\\",\\\"165\\\",\\\"166\\\",\\\"167\\\",\\\"168\\\",\\\"169\\\",\\\"170\\\",\\\"171\\\",\\\"172\\\",\\\"173\\\",\\\"174\\\",\\\"175\\\",\\\"176\\\",\\\"177\\\",\\\"178\\\",\\\"179\\\",\\\"180\\\",\\\"181\\\",\\\"182\\\",\\\"183\\\",\\\"184\\\",\\\"185\\\",\\\"186\\\",\\\"187\\\",\\\"188\\\",\\\"189\\\",\\\"190\\\",\\\"191\\\",\\\"192\\\",\\\"193\\\",\\\"194\\\",\\\"195\\\",\\\"196\\\",\\\"197\\\",\\\"198\\\",\\\"199\\\",\\\"200\\\",\\\"201\\\",\\\"202\\\",\\\"203\\\",\\\"204\\\",\\\"205\\\",\\\"206\\\",\\\"207\\\",\\\"208\\\",\\\"209\\\",\\\"210\\\",\\\"211\\\",\\\"212\\\",\\\"213\\\",\\\"214\\\",\\\"215\\\",\\\"216\\\",\\\"217\\\",\\\"218\\\",\\\"219\\\",\\\"220\\\",\\\"221\\\",\\\"222\\\",\\\"223\\\",\\\"224\\\",\\\"225\\\",\\\"226\\\",\\\"227\\\",\\\"228\\\",\\\"229\\\",\\\"230\\\",\\\"231\\\",\\\"232\\\",\\\"233\\\",\\\"234\\\",\\\"235\\\",\\\"236\\\",\\\"237\\\",\\\"238\\\",\\\"239\\\",\\\"240\\\",\\\"241\\\",\\\"242\\\",\\\"243\\\",\\\"244\\\",\\\"245\\\",\\\"246\\\",\\\"247\\\",\\\"248\\\",\\\"249\\\",\\\"250\\\",\\\"251\\\",\\\"252\\\",\\\"253\\\",\\\"254\\\",\\\"255\\\",\\\"256\\\",\\\"257\\\",\\\"258\\\",\\\"259\\\",\\\"260\\\",\\\"261\\\",\\\"262\\\",\\\"263\\\",\\\"264\\\",\\\"265\\\",\\\"266\\\",\\\"267\\\",\\\"268\\\",\\\"269\\\",\\\"270\\\",\\\"271\\\",\\\"272\\\",\\\"273\\\",\\\"274\\\",\\\"275\\\",\\\"276\\\",\\\"277\\\",\\\"278\\\",\\\"279\\\",\\\"280\\\",\\\"281\\\",\\\"282\\\",\\\"283\\\",\\\"284\\\",\\\"285\\\",\\\"286\\\",\\\"287\\\",\\\"288\\\",\\\"289\\\",\\\"290\\\",\\\"291\\\",\\\"292\\\",\\\"293\\\",\\\"294\\\",\\\"295\\\",\\\"296\\\",\\\"297\\\",\\\"298\\\",\\\"299\\\",\\\"300\\\",\\\"301\\\",\\\"302\\\",\\\"303\\\",\\\"304\\\",\\\"305\\\",\\\"306\\\",\\\"307\\\",\\\"308\\\",\\\"309\\\",\\\"310\\\",\\\"311\\\",\\\"312\\\",\\\"313\\\",\\\"314\\\",\\\"315\\\",\\\"316\\\",\\\"317\\\",\\\"318\\\",\\\"319\\\",\\\"320\\\",\\\"321\\\",\\\"322\\\",\\\"323\\\",\\\"324\\\",\\\"325\\\",\\\"326\\\",\\\"327\\\",\\\"328\\\",\\\"329\\\",\\\"330\\\",\\\"331\\\",\\\"332\\\",\\\"333\\\",\\\"334\\\",\\\"335\\\",\\\"336\\\",\\\"337\\\",\\\"338\\\",\\\"339\\\",\\\"340\\\",\\\"341\\\",\\\"342\\\",\\\"343\\\",\\\"344\\\",\\\"345\\\",\\\"346\\\",\\\"347\\\",\\\"348\\\",\\\"349\\\",\\\"350\\\",\\\"351\\\",\\\"352\\\",\\\"353\\\",\\\"354\\\",\\\"355\\\",\\\"356\\\",\\\"357\\\",\\\"358\\\",\\\"359\\\",\\\"360\\\",\\\"361\\\",\\\"362\\\",\\\"363\\\",\\\"364\\\",\\\"365\\\",\\\"366\\\",\\\"367\\\",\\\"368\\\",\\\"369\\\",\\\"370\\\",\\\"371\\\",\\\"372\\\",\\\"373\\\",\\\"374\\\",\\\"375\\\",\\\"376\\\",\\\"377\\\",\\\"378\\\",\\\"379\\\",\\\"380\\\",\\\"381\\\",\\\"382\\\",\\\"383\\\",\\\"384\\\",\\\"385\\\",\\\"386\\\",\\\"387\\\",\\\"388\\\",\\\"389\\\",\\\"390\\\",\\\"391\\\",\\\"392\\\",\\\"393\\\",\\\"394\\\",\\\"395\\\",\\\"396\\\",\\\"397\\\",\\\"398\\\",\\\"399\\\",\\\"400\\\"],\\\"changes\\\":WebIO.getval({\\\"name\\\":\\\"changes\\\",\\\"scope\\\":\\\"11777444153335385659\\\",\\\"id\\\":\\\"2108766567464687608\\\",\\\"type\\\":\\\"observable\\\"}),\\\"index\\\":WebIO.getval({\\\"name\\\":\\\"index\\\",\\\"scope\\\":\\\"11777444153335385659\\\",\\\"id\\\":\\\"7211126486287401867\\\",\\\"type\\\":\\\"observable\\\"})};\\n    var self = this;\\n    function AppViewModel() {\\n        for (var key in json_data) {\\n            var el = json_data[key];\\n            this[key] = Array.isArray(el) ? ko.observableArray(el) : ko.observable(el);\\n        }\\n        \\n        [this[\\\"formatted_val\\\"]=ko.computed(    function(){\\n        return this.formatted_vals()[parseInt(this.index())-(1)];\\n    }\\n,this)]\\n        [this[\\\"changes\\\"].subscribe((function (val){!(this.valueFromJulia[\\\"changes\\\"]) ? (WebIO.setval({\\\"name\\\":\\\"changes\\\",\\\"scope\\\":\\\"11777444153335385659\\\",\\\"id\\\":\\\"2108766567464687608\\\",\\\"type\\\":\\\"observable\\\"},val)) : undefined; return this.valueFromJulia[\\\"changes\\\"]=false}),self),this[\\\"index\\\"].subscribe((function (val){!(this.valueFromJulia[\\\"index\\\"]) ? (WebIO.setval({\\\"name\\\":\\\"index\\\",\\\"scope\\\":\\\"11777444153335385659\\\",\\\"id\\\":\\\"7211126486287401867\\\",\\\"type\\\":\\\"observable\\\"},val)) : undefined; return this.valueFromJulia[\\\"index\\\"]=false}),self)]\\n        \\n    }\\n    self.model = new AppViewModel();\\n    self.valueFromJulia = {};\\n    for (var key in json_data) {\\n        self.valueFromJulia[key] = false;\\n    }\\n    ko.applyBindings(self.model, self.dom);\\n}\\n);\\n    (WebIO.importBlock({\\\"data\\\":[{\\\"name\\\":\\\"knockout\\\",\\\"type\\\":\\\"js\\\",\\\"url\\\":\\\"/assetserver/727383f2a47bd31570b7da84eee7b022dd6d7c78-knockout.js\\\"},{\\\"name\\\":\\\"knockout_punches\\\",\\\"type\\\":\\\"js\\\",\\\"url\\\":\\\"/assetserver/382b41b3b1bd9f26f75861d360bad7f8beea211f-knockout_punches.js\\\"}],\\\"type\\\":\\\"async_block\\\"})).then((imports) => handler.apply(this, imports));\\n}\\n\")])], Dict{Symbol, Any}(:className => \"field interact-widget\")), WebIO.Node{WebIO.DOM}(WebIO.DOM(:html, :div), Any[WebIO.Scope(WebIO.Node{WebIO.DOM}(WebIO.DOM(:html, :div), Any[WebIO.Node{WebIO.DOM}(WebIO.DOM(:html, :div), Any[WebIO.Node{WebIO.DOM}(WebIO.DOM(:html, :label), Any[\"scale\"], Dict{Symbol, Any}(:className => \"interact \", :style => Dict{Any, Any}(:padding => \"5px 10px 0px 10px\")))], Dict{Symbol, Any}(:className => \"interact-flex-row-left\")), WebIO.Node{WebIO.DOM}(WebIO.DOM(:html, :div), Any[WebIO.Node{WebIO.DOM}(WebIO.DOM(:html, :input), Any[], Dict{Symbol, Any}(:max => 20, :min => 1, :attributes => Dict{Any, Any}(:type => \"range\", Symbol(\"data-bind\") => \"numericValue: index, valueUpdate: 'input', event: {change: function (){this.changes(this.changes()+1)}}\", \"orient\" => \"horizontal\"), :step => 1, :className => \"slider slider is-fullwidth\", :style => Dict{Any, Any}()))], Dict{Symbol, Any}(:className => \"interact-flex-row-center\")), WebIO.Node{WebIO.DOM}(WebIO.DOM(:html, :div), Any[WebIO.Node{WebIO.DOM}(WebIO.DOM(:html, :p), Any[], Dict{Symbol, Any}(:attributes => Dict(\"data-bind\" => \"text: formatted_val\")))], Dict{Symbol, Any}(:className => \"interact-flex-row-right\"))], Dict{Symbol, Any}(:className => \"interact-flex-row interact-widget\")), Dict{String, Tuple{Observables.AbstractObservable, Union{Nothing, Bool}}}(\"changes\" => (Observable(0), nothing), \"index\" => (Observable{Any}(10), nothing)), Set{String}(), nothing, WebIO.Asset[WebIO.Asset(\"js\", \"knockout\", \"/home/dushya/.julia/packages/Knockout/HReiN/src/../assets/knockout.js\"), WebIO.Asset(\"js\", \"knockout_punches\", \"/home/dushya/.julia/packages/Knockout/HReiN/src/../assets/knockout_punches.js\"), WebIO.Asset(\"js\", nothing, \"/home/dushya/.julia/packages/InteractBase/LJXv3/src/../assets/all.js\"), WebIO.Asset(\"css\", nothing, \"/home/dushya/.julia/packages/InteractBase/LJXv3/src/../assets/style.css\"), WebIO.Asset(\"css\", nothing, \"/home/dushya/.julia/packages/Interact/PENUy/src/../assets/bulma_confined.min.css\")], Dict{Any, Any}(\"changes\" => Any[WebIO.JSString(\"(function (val){return (val!=this.model[\\\"changes\\\"]()) ? (this.valueFromJulia[\\\"changes\\\"]=true, this.model[\\\"changes\\\"](val)) : undefined})\")], \"index\" => Any[WebIO.JSString(\"(function (val){return (val!=this.model[\\\"index\\\"]()) ? (this.valueFromJulia[\\\"index\\\"]=true, this.model[\\\"index\\\"](val)) : undefined})\")]), WebIO.ConnectionPool(Channel{Any}(32), Set{WebIO.AbstractConnection}(), Base.GenericCondition{ReentrantLock}(Base.IntrusiveLinkedList{Task}(Task (runnable) @0x00007f26e00d6d60, Task (runnable) @0x00007f26e00d6d60), ReentrantLock(nothing, 0x00000000, 0x00, Base.GenericCondition{Base.Threads.SpinLock}(Base.IntrusiveLinkedList{Task}(nothing, nothing), Base.Threads.SpinLock(0)), (2, 139806120079744, 139804210182256)))), WebIO.JSString[WebIO.JSString(\"function () {\\n    var handler = (function (ko, koPunches) {\\n    ko.punches.enableAll();\\n    ko.bindingHandlers.numericValue = {\\n        init: function(element, valueAccessor, allBindings, data, context) {\\n            var stringified = ko.observable(ko.unwrap(valueAccessor()));\\n            stringified.subscribe(function(value) {\\n                var val = parseFloat(value);\\n                if (!isNaN(val)) {\\n                    valueAccessor()(val);\\n                }\\n            });\\n            valueAccessor().subscribe(function(value) {\\n                var str = JSON.stringify(value);\\n                if ((str == \\\"0\\\") && ([\\\"-0\\\", \\\"-0.\\\"].indexOf(stringified()) >= 0))\\n                     return;\\n                 if ([\\\"null\\\", \\\"\\\"].indexOf(str) >= 0)\\n                     return;\\n                stringified(str);\\n            });\\n            ko.applyBindingsToNode(\\n                element,\\n                {\\n                    value: stringified,\\n                    valueUpdate: allBindings.get('valueUpdate'),\\n                },\\n                context,\\n            );\\n        }\\n    };\\n    var json_data = {\\\"formatted_vals\\\":[\\\"0.1\\\",\\\"0.2\\\",\\\"0.3\\\",\\\"0.4\\\",\\\"0.5\\\",\\\"0.6\\\",\\\"0.7\\\",\\\"0.8\\\",\\\"0.9\\\",\\\"1.0\\\",\\\"1.1\\\",\\\"1.2\\\",\\\"1.3\\\",\\\"1.4\\\",\\\"1.5\\\",\\\"1.6\\\",\\\"1.7\\\",\\\"1.8\\\",\\\"1.9\\\",\\\"2.0\\\"],\\\"changes\\\":WebIO.getval({\\\"name\\\":\\\"changes\\\",\\\"scope\\\":\\\"10358737974987381930\\\",\\\"id\\\":\\\"8839590165831455408\\\",\\\"type\\\":\\\"observable\\\"}),\\\"index\\\":WebIO.getval({\\\"name\\\":\\\"index\\\",\\\"scope\\\":\\\"10358737974987381930\\\",\\\"id\\\":\\\"9631481927868907797\\\",\\\"type\\\":\\\"observable\\\"})};\\n    var self = this;\\n    function AppViewModel() {\\n        for (var key in json_data) {\\n            var el = json_data[key];\\n            this[key] = Array.isArray(el) ? ko.observableArray(el) : ko.observable(el);\\n        }\\n        \\n        [this[\\\"formatted_val\\\"]=ko.computed(    function(){\\n        return this.formatted_vals()[parseInt(this.index())-(1)];\\n    }\\n,this)]\\n        [this[\\\"changes\\\"].subscribe((function (val){!(this.valueFromJulia[\\\"changes\\\"]) ? (WebIO.setval({\\\"name\\\":\\\"changes\\\",\\\"scope\\\":\\\"10358737974987381930\\\",\\\"id\\\":\\\"8839590165831455408\\\",\\\"type\\\":\\\"observable\\\"},val)) : undefined; return this.valueFromJulia[\\\"changes\\\"]=false}),self),this[\\\"index\\\"].subscribe((function (val){!(this.valueFromJulia[\\\"index\\\"]) ? (WebIO.setval({\\\"name\\\":\\\"index\\\",\\\"scope\\\":\\\"10358737974987381930\\\",\\\"id\\\":\\\"9631481927868907797\\\",\\\"type\\\":\\\"observable\\\"},val)) : undefined; return this.valueFromJulia[\\\"index\\\"]=false}),self)]\\n        \\n    }\\n    self.model = new AppViewModel();\\n    self.valueFromJulia = {};\\n    for (var key in json_data) {\\n        self.valueFromJulia[key] = false;\\n    }\\n    ko.applyBindings(self.model, self.dom);\\n}\\n);\\n    (WebIO.importBlock({\\\"data\\\":[{\\\"name\\\":\\\"knockout\\\",\\\"type\\\":\\\"js\\\",\\\"url\\\":\\\"/assetserver/727383f2a47bd31570b7da84eee7b022dd6d7c78-knockout.js\\\"},{\\\"name\\\":\\\"knockout_punches\\\",\\\"type\\\":\\\"js\\\",\\\"url\\\":\\\"/assetserver/382b41b3b1bd9f26f75861d360bad7f8beea211f-knockout_punches.js\\\"}],\\\"type\\\":\\\"async_block\\\"})).then((imports) => handler.apply(this, imports));\\n}\\n\")])], Dict{Symbol, Any}(:className => \"field interact-widget\")), WebIO.Node{WebIO.DOM}(WebIO.DOM(:html, :div), Any[], Dict{Symbol, Any}(:style => Dict(\"display\" => \"flex\", \"flex-direction\" => \"column\"))), WebIO.Node{WebIO.DOM}(WebIO.DOM(:html, :div), Any[WebIO.Node{WebIO.DOM}(WebIO.DOM(:html, :div), Any[WebIO.Scope(WebIO.Node{WebIO.DOM}(WebIO.DOM(:html, :div), Any[WebIO.Node{WebIO.DOM}(WebIO.DOM(:html, :div), Any[WebIO.Node{WebIO.DOM}(WebIO.DOM(:html, :label), Any[\"threshold\"], Dict{Symbol, Any}(:className => \"interact \", :style => Dict{Any, Any}(:padding => \"5px 10px 0px 10px\")))], Dict{Symbol, Any}(:className => \"interact-flex-row-left\")), WebIO.Node{WebIO.DOM}(WebIO.DOM(:html, :div), Any[WebIO.Node{WebIO.DOM}(WebIO.DOM(:html, :input), Any[], Dict{Symbol, Any}(:max => 8, :min => 1, :attributes => Dict{Any, Any}(:type => \"range\", Symbol(\"data-bind\") => \"numericValue: index, valueUpdate: 'input', event: {change: function (){this.changes(this.changes()+1)}}\", \"orient\" => \"horizontal\"), :step => 1, :className => \"slider slider is-fullwidth\", :style => Dict{Any, Any}()))], Dict{Symbol, Any}(:className => \"interact-flex-row-center\")), WebIO.Node{WebIO.DOM}(WebIO.DOM(:html, :div), Any[WebIO.Node{WebIO.DOM}(WebIO.DOM(:html, :p), Any[], Dict{Symbol, Any}(:attributes => Dict(\"data-bind\" => \"text: formatted_val\")))], Dict{Symbol, Any}(:className => \"interact-flex-row-right\"))], Dict{Symbol, Any}(:className => \"interact-flex-row interact-widget\")), Dict{String, Tuple{Observables.AbstractObservable, Union{Nothing, Bool}}}(\"changes\" => (Observable(0), nothing), \"index\" => (Observable(4), nothing)), Set{String}(), nothing, WebIO.Asset[WebIO.Asset(\"js\", \"knockout\", \"/home/dushya/.julia/packages/Knockout/HReiN/src/../assets/knockout.js\"), WebIO.Asset(\"js\", \"knockout_punches\", \"/home/dushya/.julia/packages/Knockout/HReiN/src/../assets/knockout_punches.js\"), WebIO.Asset(\"js\", nothing, \"/home/dushya/.julia/packages/InteractBase/LJXv3/src/../assets/all.js\"), WebIO.Asset(\"css\", nothing, \"/home/dushya/.julia/packages/InteractBase/LJXv3/src/../assets/style.css\"), WebIO.Asset(\"css\", nothing, \"/home/dushya/.julia/packages/Interact/PENUy/src/../assets/bulma_confined.min.css\")], Dict{Any, Any}(\"changes\" => Any[WebIO.JSString(\"(function (val){return (val!=this.model[\\\"changes\\\"]()) ? (this.valueFromJulia[\\\"changes\\\"]=true, this.model[\\\"changes\\\"](val)) : undefined})\")], \"index\" => Any[WebIO.JSString(\"(function (val){return (val!=this.model[\\\"index\\\"]()) ? (this.valueFromJulia[\\\"index\\\"]=true, this.model[\\\"index\\\"](val)) : undefined})\")]), WebIO.ConnectionPool(Channel{Any}(32), Set{WebIO.AbstractConnection}(), Base.GenericCondition{ReentrantLock}(Base.IntrusiveLinkedList{Task}(Task (runnable) @0x00007f2724ec5780, Task (runnable) @0x00007f2724ec5780), ReentrantLock(nothing, 0x00000000, 0x00, Base.GenericCondition{Base.Threads.SpinLock}(Base.IntrusiveLinkedList{Task}(nothing, nothing), Base.Threads.SpinLock(0)), (0, 139806102145280, 751619276974)))), WebIO.JSString[WebIO.JSString(\"function () {\\n    var handler = (function (ko, koPunches) {\\n    ko.punches.enableAll();\\n    ko.bindingHandlers.numericValue = {\\n        init: function(element, valueAccessor, allBindings, data, context) {\\n            var stringified = ko.observable(ko.unwrap(valueAccessor()));\\n            stringified.subscribe(function(value) {\\n                var val = parseFloat(value);\\n                if (!isNaN(val)) {\\n                    valueAccessor()(val);\\n                }\\n            });\\n            valueAccessor().subscribe(function(value) {\\n                var str = JSON.stringify(value);\\n                if ((str == \\\"0\\\") && ([\\\"-0\\\", \\\"-0.\\\"].indexOf(stringified()) >= 0))\\n                     return;\\n                 if ([\\\"null\\\", \\\"\\\"].indexOf(str) >= 0)\\n                     return;\\n                stringified(str);\\n            });\\n            ko.applyBindingsToNode(\\n                element,\\n                {\\n                    value: stringified,\\n                    valueUpdate: allBindings.get('valueUpdate'),\\n                },\\n                context,\\n            );\\n        }\\n    };\\n    var json_data = {\\\"formatted_vals\\\":[\\\"1\\\",\\\"2\\\",\\\"3\\\",\\\"4\\\",\\\"5\\\",\\\"6\\\",\\\"7\\\",\\\"8\\\"],\\\"changes\\\":WebIO.getval({\\\"name\\\":\\\"changes\\\",\\\"scope\\\":\\\"3279220572166154215\\\",\\\"id\\\":\\\"3549586681949264449\\\",\\\"type\\\":\\\"observable\\\"}),\\\"index\\\":WebIO.getval({\\\"name\\\":\\\"index\\\",\\\"scope\\\":\\\"3279220572166154215\\\",\\\"id\\\":\\\"7799153188459646826\\\",\\\"type\\\":\\\"observable\\\"})};\\n    var self = this;\\n    function AppViewModel() {\\n        for (var key in json_data) {\\n            var el = json_data[key];\\n            this[key] = Array.isArray(el) ? ko.observableArray(el) : ko.observable(el);\\n        }\\n        \\n        [this[\\\"formatted_val\\\"]=ko.computed(    function(){\\n        return this.formatted_vals()[parseInt(this.index())-(1)];\\n    }\\n,this)]\\n        [this[\\\"changes\\\"].subscribe((function (val){!(this.valueFromJulia[\\\"changes\\\"]) ? (WebIO.setval({\\\"name\\\":\\\"changes\\\",\\\"scope\\\":\\\"3279220572166154215\\\",\\\"id\\\":\\\"3549586681949264449\\\",\\\"type\\\":\\\"observable\\\"},val)) : undefined; return this.valueFromJulia[\\\"changes\\\"]=false}),self),this[\\\"index\\\"].subscribe((function (val){!(this.valueFromJulia[\\\"index\\\"]) ? (WebIO.setval({\\\"name\\\":\\\"index\\\",\\\"scope\\\":\\\"3279220572166154215\\\",\\\"id\\\":\\\"7799153188459646826\\\",\\\"type\\\":\\\"observable\\\"},val)) : undefined; return this.valueFromJulia[\\\"index\\\"]=false}),self)]\\n        \\n    }\\n    self.model = new AppViewModel();\\n    self.valueFromJulia = {};\\n    for (var key in json_data) {\\n        self.valueFromJulia[key] = false;\\n    }\\n    ko.applyBindings(self.model, self.dom);\\n}\\n);\\n    (WebIO.importBlock({\\\"data\\\":[{\\\"name\\\":\\\"knockout\\\",\\\"type\\\":\\\"js\\\",\\\"url\\\":\\\"/assetserver/727383f2a47bd31570b7da84eee7b022dd6d7c78-knockout.js\\\"},{\\\"name\\\":\\\"knockout_punches\\\",\\\"type\\\":\\\"js\\\",\\\"url\\\":\\\"/assetserver/382b41b3b1bd9f26f75861d360bad7f8beea211f-knockout_punches.js\\\"}],\\\"type\\\":\\\"async_block\\\"})).then((imports) => handler.apply(this, imports));\\n}\\n\")])], Dict{Symbol, Any}(:className => \"field interact-widget\"))], Dict{Symbol, Any}(:style => Dict(\"display\" => \"flex\", \"flex-direction\" => \"column\"))), WebIO.Node{WebIO.DOM}(WebIO.DOM(:html, :div), Any[WebIO.Node{WebIO.DOM}(WebIO.DOM(:html, :div), Any[WebIO.Scope(WebIO.Node{WebIO.DOM}(WebIO.DOM(:html, :div), Any[], Dict{Symbol, Any}(:id => \"container\")), Dict{String, Tuple{Observables.AbstractObservable, Union{Nothing, Bool}}}(\"value\" => (Observable(\"\\\\;\\\\;\"), nothing)), Set{String}(), nothing, WebIO.Asset[WebIO.Asset(\"js\", nothing, \"/home/dushya/.julia/packages/InteractBase/LJXv3/src/../assets/katex.min.js\"), WebIO.Asset(\"css\", nothing, \"/home/dushya/.julia/packages/InteractBase/LJXv3/src/../assets/katex.min.css\")], Dict{Any, Any}(\"value\" => Any[WebIO.JSString(\"(function (txt){return this.k.render(txt,this.container)})\")]), WebIO.ConnectionPool(Channel{Any}(32), Set{WebIO.AbstractConnection}(), Base.GenericCondition{ReentrantLock}(Base.IntrusiveLinkedList{Task}(Task (runnable) @0x00007f26b1e8c7e0, Task (runnable) @0x00007f26b1e8c7e0), ReentrantLock(nothing, 0x00000000, 0x00, Base.GenericCondition{Base.Threads.SpinLock}(Base.IntrusiveLinkedList{Task}(nothing, nothing), Base.Threads.SpinLock(0)), (0, 0, 141733920768)))), WebIO.JSString[WebIO.JSString(\"function () {\\n    var handler = ((function (k){this.k=k; this.container=this.dom.querySelector(\\\"#container\\\"); return k.render(\\\"\\\\\\\\;\\\\\\\\;\\\",this.container)}));\\n    (WebIO.importBlock({\\\"data\\\":[{\\\"name\\\":null,\\\"type\\\":\\\"js\\\",\\\"url\\\":\\\"/assetserver/dd22ed1bf1896c2748f3fe616ce0b838adc895c1-katex.min.js\\\"},{\\\"name\\\":null,\\\"type\\\":\\\"css\\\",\\\"url\\\":\\\"/assetserver/46517a424aa5e6cffc1360d7e0848b601c584ee3-katex.min.css\\\"}],\\\"type\\\":\\\"async_block\\\"})).then((imports) => handler.apply(this, imports));\\n}\\n\")])], Dict{Symbol, Any}(:className => \"interact-widget\")), WebIO.Node{WebIO.DOM}(WebIO.DOM(:html, :div), Any[WebIO.Scope(WebIO.Node{WebIO.DOM}(WebIO.DOM(:html, :button), Any[\"run\"], Dict{Symbol, Any}(:attributes => Dict{Any, Any}(\"data-bind\" => \"click: function (){this.clicks(this.clicks()+1)}, css: {'is-loading' : loading}\"), :className => \"is-medium button is-primary\", :style => Dict{String, Any}())), Dict{String, Tuple{Observables.AbstractObservable, Union{Nothing, Bool}}}(\"loading\" => (Observable(false), nothing), \"clicks\" => (Observable(0), nothing)), Set{String}(), nothing, WebIO.Asset[WebIO.Asset(\"js\", \"knockout\", \"/home/dushya/.julia/packages/Knockout/HReiN/src/../assets/knockout.js\"), WebIO.Asset(\"js\", \"knockout_punches\", \"/home/dushya/.julia/packages/Knockout/HReiN/src/../assets/knockout_punches.js\"), WebIO.Asset(\"js\", nothing, \"/home/dushya/.julia/packages/InteractBase/LJXv3/src/../assets/all.js\"), WebIO.Asset(\"css\", nothing, \"/home/dushya/.julia/packages/InteractBase/LJXv3/src/../assets/style.css\"), WebIO.Asset(\"css\", nothing, \"/home/dushya/.julia/packages/Interact/PENUy/src/../assets/bulma_confined.min.css\")], Dict{Any, Any}(\"loading\" => Any[WebIO.JSString(\"(function (val){return (val!=this.model[\\\"loading\\\"]()) ? (this.valueFromJulia[\\\"loading\\\"]=true, this.model[\\\"loading\\\"](val)) : undefined})\")], \"clicks\" => Any[WebIO.JSString(\"(function (val){return (val!=this.model[\\\"clicks\\\"]()) ? (this.valueFromJulia[\\\"clicks\\\"]=true, this.model[\\\"clicks\\\"](val)) : undefined})\")]), WebIO.ConnectionPool(Channel{Any}(32), Set{WebIO.AbstractConnection}(), Base.GenericCondition{ReentrantLock}(Base.IntrusiveLinkedList{Task}(Task (runnable) @0x00007f26b3d96a40, Task (runnable) @0x00007f26b3d96a40), ReentrantLock(nothing, 0x00000000, 0x00, Base.GenericCondition{Base.Threads.SpinLock}(Base.IntrusiveLinkedList{Task}(nothing, nothing), Base.Threads.SpinLock(0)), (0, 0, 141733920768)))), WebIO.JSString[WebIO.JSString(\"function () {\\n    var handler = (function (ko, koPunches) {\\n    ko.punches.enableAll();\\n    ko.bindingHandlers.numericValue = {\\n        init: function(element, valueAccessor, allBindings, data, context) {\\n            var stringified = ko.observable(ko.unwrap(valueAccessor()));\\n            stringified.subscribe(function(value) {\\n                var val = parseFloat(value);\\n                if (!isNaN(val)) {\\n                    valueAccessor()(val);\\n                }\\n            });\\n            valueAccessor().subscribe(function(value) {\\n                var str = JSON.stringify(value);\\n                if ((str == \\\"0\\\") && ([\\\"-0\\\", \\\"-0.\\\"].indexOf(stringified()) >= 0))\\n                     return;\\n                 if ([\\\"null\\\", \\\"\\\"].indexOf(str) >= 0)\\n                     return;\\n                stringified(str);\\n            });\\n            ko.applyBindingsToNode(\\n                element,\\n                {\\n                    value: stringified,\\n                    valueUpdate: allBindings.get('valueUpdate'),\\n                },\\n                context,\\n            );\\n        }\\n    };\\n    var json_data = {\\\"loading\\\":WebIO.getval({\\\"name\\\":\\\"loading\\\",\\\"scope\\\":\\\"977763036804095317\\\",\\\"id\\\":\\\"1274462871400673945\\\",\\\"type\\\":\\\"observable\\\"}),\\\"clicks\\\":WebIO.getval({\\\"name\\\":\\\"clicks\\\",\\\"scope\\\":\\\"977763036804095317\\\",\\\"id\\\":\\\"5066146471057053545\\\",\\\"type\\\":\\\"observable\\\"})};\\n    var self = this;\\n    function AppViewModel() {\\n        for (var key in json_data) {\\n            var el = json_data[key];\\n            this[key] = Array.isArray(el) ? ko.observableArray(el) : ko.observable(el);\\n        }\\n        \\n        \\n        [this[\\\"loading\\\"].subscribe((function (val){!(this.valueFromJulia[\\\"loading\\\"]) ? (WebIO.setval({\\\"name\\\":\\\"loading\\\",\\\"scope\\\":\\\"977763036804095317\\\",\\\"id\\\":\\\"1274462871400673945\\\",\\\"type\\\":\\\"observable\\\"},val)) : undefined; return this.valueFromJulia[\\\"loading\\\"]=false}),self),this[\\\"clicks\\\"].subscribe((function (val){!(this.valueFromJulia[\\\"clicks\\\"]) ? (WebIO.setval({\\\"name\\\":\\\"clicks\\\",\\\"scope\\\":\\\"977763036804095317\\\",\\\"id\\\":\\\"5066146471057053545\\\",\\\"type\\\":\\\"observable\\\"},val)) : undefined; return this.valueFromJulia[\\\"clicks\\\"]=false}),self)]\\n        \\n    }\\n    self.model = new AppViewModel();\\n    self.valueFromJulia = {};\\n    for (var key in json_data) {\\n        self.valueFromJulia[key] = false;\\n    }\\n    ko.applyBindings(self.model, self.dom);\\n}\\n);\\n    (WebIO.importBlock({\\\"data\\\":[{\\\"name\\\":\\\"knockout\\\",\\\"type\\\":\\\"js\\\",\\\"url\\\":\\\"/assetserver/727383f2a47bd31570b7da84eee7b022dd6d7c78-knockout.js\\\"},{\\\"name\\\":\\\"knockout_punches\\\",\\\"type\\\":\\\"js\\\",\\\"url\\\":\\\"/assetserver/382b41b3b1bd9f26f75861d360bad7f8beea211f-knockout_punches.js\\\"}],\\\"type\\\":\\\"async_block\\\"})).then((imports) => handler.apply(this, imports));\\n}\\n\")])], Dict{Symbol, Any}(:className => \"field interact-widget\")), WebIO.Node{WebIO.DOM}(WebIO.DOM(:html, :div), Any[WebIO.Scope(WebIO.Node{WebIO.DOM}(WebIO.DOM(:html, :div), Any[], Dict{Symbol, Any}(:id => \"container\")), Dict{String, Tuple{Observables.AbstractObservable, Union{Nothing, Bool}}}(\"value\" => (Observable(\"\\\\;\\\\;\"), nothing)), Set{String}(), nothing, WebIO.Asset[WebIO.Asset(\"js\", nothing, \"/home/dushya/.julia/packages/InteractBase/LJXv3/src/../assets/katex.min.js\"), WebIO.Asset(\"css\", nothing, \"/home/dushya/.julia/packages/InteractBase/LJXv3/src/../assets/katex.min.css\")], Dict{Any, Any}(\"value\" => Any[WebIO.JSString(\"(function (txt){return this.k.render(txt,this.container)})\")]), WebIO.ConnectionPool(Channel{Any}(32), Set{WebIO.AbstractConnection}(), Base.GenericCondition{ReentrantLock}(Base.IntrusiveLinkedList{Task}(Task (runnable) @0x00007f26b1e8c7e0, Task (runnable) @0x00007f26b1e8c7e0), ReentrantLock(nothing, 0x00000000, 0x00, Base.GenericCondition{Base.Threads.SpinLock}(Base.IntrusiveLinkedList{Task}(nothing, nothing), Base.Threads.SpinLock(0)), (0, 0, 141733920768)))), WebIO.JSString[WebIO.JSString(\"function () {\\n    var handler = ((function (k){this.k=k; this.container=this.dom.querySelector(\\\"#container\\\"); return k.render(\\\"\\\\\\\\;\\\\\\\\;\\\",this.container)}));\\n    (WebIO.importBlock({\\\"data\\\":[{\\\"name\\\":null,\\\"type\\\":\\\"js\\\",\\\"url\\\":\\\"/assetserver/dd22ed1bf1896c2748f3fe616ce0b838adc895c1-katex.min.js\\\"},{\\\"name\\\":null,\\\"type\\\":\\\"css\\\",\\\"url\\\":\\\"/assetserver/46517a424aa5e6cffc1360d7e0848b601c584ee3-katex.min.css\\\"}],\\\"type\\\":\\\"async_block\\\"})).then((imports) => handler.apply(this, imports));\\n}\\n\")])], Dict{Symbol, Any}(:className => \"interact-widget\")), WebIO.Node{WebIO.DOM}(WebIO.DOM(:html, :div), Any[WebIO.Scope(WebIO.Node{WebIO.DOM}(WebIO.DOM(:html, :button), Any[\"stop\"], Dict{Symbol, Any}(:attributes => Dict{Any, Any}(\"data-bind\" => \"click: function (){this.clicks(this.clicks()+1)}, css: {'is-loading' : loading}\"), :className => \"is-medium button is-primary\", :style => Dict{String, Any}())), Dict{String, Tuple{Observables.AbstractObservable, Union{Nothing, Bool}}}(\"loading\" => (Observable(false), nothing), \"clicks\" => (Observable(0), nothing)), Set{String}(), nothing, WebIO.Asset[WebIO.Asset(\"js\", \"knockout\", \"/home/dushya/.julia/packages/Knockout/HReiN/src/../assets/knockout.js\"), WebIO.Asset(\"js\", \"knockout_punches\", \"/home/dushya/.julia/packages/Knockout/HReiN/src/../assets/knockout_punches.js\"), WebIO.Asset(\"js\", nothing, \"/home/dushya/.julia/packages/InteractBase/LJXv3/src/../assets/all.js\"), WebIO.Asset(\"css\", nothing, \"/home/dushya/.julia/packages/InteractBase/LJXv3/src/../assets/style.css\"), WebIO.Asset(\"css\", nothing, \"/home/dushya/.julia/packages/Interact/PENUy/src/../assets/bulma_confined.min.css\")], Dict{Any, Any}(\"loading\" => Any[WebIO.JSString(\"(function (val){return (val!=this.model[\\\"loading\\\"]()) ? (this.valueFromJulia[\\\"loading\\\"]=true, this.model[\\\"loading\\\"](val)) : undefined})\")], \"clicks\" => Any[WebIO.JSString(\"(function (val){return (val!=this.model[\\\"clicks\\\"]()) ? (this.valueFromJulia[\\\"clicks\\\"]=true, this.model[\\\"clicks\\\"](val)) : undefined})\")]), WebIO.ConnectionPool(Channel{Any}(32), Set{WebIO.AbstractConnection}(), Base.GenericCondition{ReentrantLock}(Base.IntrusiveLinkedList{Task}(Task (runnable) @0x00007f26b3733530, Task (runnable) @0x00007f26b3733530), ReentrantLock(nothing, 0x00000000, 0x00, Base.GenericCondition{Base.Threads.SpinLock}(Base.IntrusiveLinkedList{Task}(nothing, nothing), Base.Threads.SpinLock(0)), (1, 139804978746288, 141733920768)))), WebIO.JSString[WebIO.JSString(\"function () {\\n    var handler = (function (ko, koPunches) {\\n    ko.punches.enableAll();\\n    ko.bindingHandlers.numericValue = {\\n        init: function(element, valueAccessor, allBindings, data, context) {\\n            var stringified = ko.observable(ko.unwrap(valueAccessor()));\\n            stringified.subscribe(function(value) {\\n                var val = parseFloat(value);\\n                if (!isNaN(val)) {\\n                    valueAccessor()(val);\\n                }\\n            });\\n            valueAccessor().subscribe(function(value) {\\n                var str = JSON.stringify(value);\\n                if ((str == \\\"0\\\") && ([\\\"-0\\\", \\\"-0.\\\"].indexOf(stringified()) >= 0))\\n                     return;\\n                 if ([\\\"null\\\", \\\"\\\"].indexOf(str) >= 0)\\n                     return;\\n                stringified(str);\\n            });\\n            ko.applyBindingsToNode(\\n                element,\\n                {\\n                    value: stringified,\\n                    valueUpdate: allBindings.get('valueUpdate'),\\n                },\\n                context,\\n            );\\n        }\\n    };\\n    var json_data = {\\\"loading\\\":WebIO.getval({\\\"name\\\":\\\"loading\\\",\\\"scope\\\":\\\"11980267648665362173\\\",\\\"id\\\":\\\"10511578000435487789\\\",\\\"type\\\":\\\"observable\\\"}),\\\"clicks\\\":WebIO.getval({\\\"name\\\":\\\"clicks\\\",\\\"scope\\\":\\\"11980267648665362173\\\",\\\"id\\\":\\\"17459845976795148928\\\",\\\"type\\\":\\\"observable\\\"})};\\n    var self = this;\\n    function AppViewModel() {\\n        for (var key in json_data) {\\n            var el = json_data[key];\\n            this[key] = Array.isArray(el) ? ko.observableArray(el) : ko.observable(el);\\n        }\\n        \\n        \\n        [this[\\\"loading\\\"].subscribe((function (val){!(this.valueFromJulia[\\\"loading\\\"]) ? (WebIO.setval({\\\"name\\\":\\\"loading\\\",\\\"scope\\\":\\\"11980267648665362173\\\",\\\"id\\\":\\\"10511578000435487789\\\",\\\"type\\\":\\\"observable\\\"},val)) : undefined; return this.valueFromJulia[\\\"loading\\\"]=false}),self),this[\\\"clicks\\\"].subscribe((function (val){!(this.valueFromJulia[\\\"clicks\\\"]) ? (WebIO.setval({\\\"name\\\":\\\"clicks\\\",\\\"scope\\\":\\\"11980267648665362173\\\",\\\"id\\\":\\\"17459845976795148928\\\",\\\"type\\\":\\\"observable\\\"},val)) : undefined; return this.valueFromJulia[\\\"clicks\\\"]=false}),self)]\\n        \\n    }\\n    self.model = new AppViewModel();\\n    self.valueFromJulia = {};\\n    for (var key in json_data) {\\n        self.valueFromJulia[key] = false;\\n    }\\n    ko.applyBindings(self.model, self.dom);\\n}\\n);\\n    (WebIO.importBlock({\\\"data\\\":[{\\\"name\\\":\\\"knockout\\\",\\\"type\\\":\\\"js\\\",\\\"url\\\":\\\"/assetserver/727383f2a47bd31570b7da84eee7b022dd6d7c78-knockout.js\\\"},{\\\"name\\\":\\\"knockout_punches\\\",\\\"type\\\":\\\"js\\\",\\\"url\\\":\\\"/assetserver/382b41b3b1bd9f26f75861d360bad7f8beea211f-knockout_punches.js\\\"}],\\\"type\\\":\\\"async_block\\\"})).then((imports) => handler.apply(this, imports));\\n}\\n\")])], Dict{Symbol, Any}(:className => \"field interact-widget\")), WebIO.Node{WebIO.DOM}(WebIO.DOM(:html, :div), Any[WebIO.Scope(WebIO.Node{WebIO.DOM}(WebIO.DOM(:html, :div), Any[], Dict{Symbol, Any}(:id => \"container\")), Dict{String, Tuple{Observables.AbstractObservable, Union{Nothing, Bool}}}(\"value\" => (Observable(\"\\\\;\\\\;\"), nothing)), Set{String}(), nothing, WebIO.Asset[WebIO.Asset(\"js\", nothing, \"/home/dushya/.julia/packages/InteractBase/LJXv3/src/../assets/katex.min.js\"), WebIO.Asset(\"css\", nothing, \"/home/dushya/.julia/packages/InteractBase/LJXv3/src/../assets/katex.min.css\")], Dict{Any, Any}(\"value\" => Any[WebIO.JSString(\"(function (txt){return this.k.render(txt,this.container)})\")]), WebIO.ConnectionPool(Channel{Any}(32), Set{WebIO.AbstractConnection}(), Base.GenericCondition{ReentrantLock}(Base.IntrusiveLinkedList{Task}(Task (runnable) @0x00007f26b1e8c7e0, Task (runnable) @0x00007f26b1e8c7e0), ReentrantLock(nothing, 0x00000000, 0x00, Base.GenericCondition{Base.Threads.SpinLock}(Base.IntrusiveLinkedList{Task}(nothing, nothing), Base.Threads.SpinLock(0)), (0, 0, 141733920768)))), WebIO.JSString[WebIO.JSString(\"function () {\\n    var handler = ((function (k){this.k=k; this.container=this.dom.querySelector(\\\"#container\\\"); return k.render(\\\"\\\\\\\\;\\\\\\\\;\\\",this.container)}));\\n    (WebIO.importBlock({\\\"data\\\":[{\\\"name\\\":null,\\\"type\\\":\\\"js\\\",\\\"url\\\":\\\"/assetserver/dd22ed1bf1896c2748f3fe616ce0b838adc895c1-katex.min.js\\\"},{\\\"name\\\":null,\\\"type\\\":\\\"css\\\",\\\"url\\\":\\\"/assetserver/46517a424aa5e6cffc1360d7e0848b601c584ee3-katex.min.css\\\"}],\\\"type\\\":\\\"async_block\\\"})).then((imports) => handler.apply(this, imports));\\n}\\n\")])], Dict{Symbol, Any}(:className => \"interact-widget\")), WebIO.Node{WebIO.DOM}(WebIO.DOM(:html, :div), Any[WebIO.Scope(WebIO.Node{WebIO.DOM}(WebIO.DOM(:html, :button), Any[\"reset\"], Dict{Symbol, Any}(:attributes => Dict{Any, Any}(\"data-bind\" => \"click: function (){this.clicks(this.clicks()+1)}, css: {'is-loading' : loading}\"), :className => \"is-medium button is-primary\", :style => Dict{String, Any}())), Dict{String, Tuple{Observables.AbstractObservable, Union{Nothing, Bool}}}(\"loading\" => (Observable(false), nothing), \"clicks\" => (Observable(0), nothing)), Set{String}(), nothing, WebIO.Asset[WebIO.Asset(\"js\", \"knockout\", \"/home/dushya/.julia/packages/Knockout/HReiN/src/../assets/knockout.js\"), WebIO.Asset(\"js\", \"knockout_punches\", \"/home/dushya/.julia/packages/Knockout/HReiN/src/../assets/knockout_punches.js\"), WebIO.Asset(\"js\", nothing, \"/home/dushya/.julia/packages/InteractBase/LJXv3/src/../assets/all.js\"), WebIO.Asset(\"css\", nothing, \"/home/dushya/.julia/packages/InteractBase/LJXv3/src/../assets/style.css\"), WebIO.Asset(\"css\", nothing, \"/home/dushya/.julia/packages/Interact/PENUy/src/../assets/bulma_confined.min.css\")], Dict{Any, Any}(\"loading\" => Any[WebIO.JSString(\"(function (val){return (val!=this.model[\\\"loading\\\"]()) ? (this.valueFromJulia[\\\"loading\\\"]=true, this.model[\\\"loading\\\"](val)) : undefined})\")], \"clicks\" => Any[WebIO.JSString(\"(function (val){return (val!=this.model[\\\"clicks\\\"]()) ? (this.valueFromJulia[\\\"clicks\\\"]=true, this.model[\\\"clicks\\\"](val)) : undefined})\")]), WebIO.ConnectionPool(Channel{Any}(32), Set{WebIO.AbstractConnection}(), Base.GenericCondition{ReentrantLock}(Base.IntrusiveLinkedList{Task}(Task (runnable) @0x00007f26b36f1dc0, Task (runnable) @0x00007f26b36f1dc0), ReentrantLock(nothing, 0x00000000, 0x00, Base.GenericCondition{Base.Threads.SpinLock}(Base.IntrusiveLinkedList{Task}(nothing, nothing), Base.Threads.SpinLock(0)), (0, 0, 141733920768)))), WebIO.JSString[WebIO.JSString(\"function () {\\n    var handler = (function (ko, koPunches) {\\n    ko.punches.enableAll();\\n    ko.bindingHandlers.numericValue = {\\n        init: function(element, valueAccessor, allBindings, data, context) {\\n            var stringified = ko.observable(ko.unwrap(valueAccessor()));\\n            stringified.subscribe(function(value) {\\n                var val = parseFloat(value);\\n                if (!isNaN(val)) {\\n                    valueAccessor()(val);\\n                }\\n            });\\n            valueAccessor().subscribe(function(value) {\\n                var str = JSON.stringify(value);\\n                if ((str == \\\"0\\\") && ([\\\"-0\\\", \\\"-0.\\\"].indexOf(stringified()) >= 0))\\n                     return;\\n                 if ([\\\"null\\\", \\\"\\\"].indexOf(str) >= 0)\\n                     return;\\n                stringified(str);\\n            });\\n            ko.applyBindingsToNode(\\n                element,\\n                {\\n                    value: stringified,\\n                    valueUpdate: allBindings.get('valueUpdate'),\\n                },\\n                context,\\n            );\\n        }\\n    };\\n    var json_data = {\\\"loading\\\":WebIO.getval({\\\"name\\\":\\\"loading\\\",\\\"scope\\\":\\\"16727736528477245258\\\",\\\"id\\\":\\\"3070883976576129733\\\",\\\"type\\\":\\\"observable\\\"}),\\\"clicks\\\":WebIO.getval({\\\"name\\\":\\\"clicks\\\",\\\"scope\\\":\\\"16727736528477245258\\\",\\\"id\\\":\\\"756828799672713395\\\",\\\"type\\\":\\\"observable\\\"})};\\n    var self = this;\\n    function AppViewModel() {\\n        for (var key in json_data) {\\n            var el = json_data[key];\\n            this[key] = Array.isArray(el) ? ko.observableArray(el) : ko.observable(el);\\n        }\\n        \\n        \\n        [this[\\\"loading\\\"].subscribe((function (val){!(this.valueFromJulia[\\\"loading\\\"]) ? (WebIO.setval({\\\"name\\\":\\\"loading\\\",\\\"scope\\\":\\\"16727736528477245258\\\",\\\"id\\\":\\\"3070883976576129733\\\",\\\"type\\\":\\\"observable\\\"},val)) : undefined; return this.valueFromJulia[\\\"loading\\\"]=false}),self),this[\\\"clicks\\\"].subscribe((function (val){!(this.valueFromJulia[\\\"clicks\\\"]) ? (WebIO.setval({\\\"name\\\":\\\"clicks\\\",\\\"scope\\\":\\\"16727736528477245258\\\",\\\"id\\\":\\\"756828799672713395\\\",\\\"type\\\":\\\"observable\\\"},val)) : undefined; return this.valueFromJulia[\\\"clicks\\\"]=false}),self)]\\n        \\n    }\\n    self.model = new AppViewModel();\\n    self.valueFromJulia = {};\\n    for (var key in json_data) {\\n        self.valueFromJulia[key] = false;\\n    }\\n    ko.applyBindings(self.model, self.dom);\\n}\\n);\\n    (WebIO.importBlock({\\\"data\\\":[{\\\"name\\\":\\\"knockout\\\",\\\"type\\\":\\\"js\\\",\\\"url\\\":\\\"/assetserver/727383f2a47bd31570b7da84eee7b022dd6d7c78-knockout.js\\\"},{\\\"name\\\":\\\"knockout_punches\\\",\\\"type\\\":\\\"js\\\",\\\"url\\\":\\\"/assetserver/382b41b3b1bd9f26f75861d360bad7f8beea211f-knockout_punches.js\\\"}],\\\"type\\\":\\\"async_block\\\"})).then((imports) => handler.apply(this, imports));\\n}\\n\")])], Dict{Symbol, Any}(:className => \"field interact-widget\")), WebIO.Node{WebIO.DOM}(WebIO.DOM(:html, :div), Any[WebIO.Scope(WebIO.Node{WebIO.DOM}(WebIO.DOM(:html, :div), Any[], Dict{Symbol, Any}(:id => \"container\")), Dict{String, Tuple{Observables.AbstractObservable, Union{Nothing, Bool}}}(\"value\" => (Observable(\"\\\\;\\\\;\"), nothing)), Set{String}(), nothing, WebIO.Asset[WebIO.Asset(\"js\", nothing, \"/home/dushya/.julia/packages/InteractBase/LJXv3/src/../assets/katex.min.js\"), WebIO.Asset(\"css\", nothing, \"/home/dushya/.julia/packages/InteractBase/LJXv3/src/../assets/katex.min.css\")], Dict{Any, Any}(\"value\" => Any[WebIO.JSString(\"(function (txt){return this.k.render(txt,this.container)})\")]), WebIO.ConnectionPool(Channel{Any}(32), Set{WebIO.AbstractConnection}(), Base.GenericCondition{ReentrantLock}(Base.IntrusiveLinkedList{Task}(Task (runnable) @0x00007f26b1e8c7e0, Task (runnable) @0x00007f26b1e8c7e0), ReentrantLock(nothing, 0x00000000, 0x00, Base.GenericCondition{Base.Threads.SpinLock}(Base.IntrusiveLinkedList{Task}(nothing, nothing), Base.Threads.SpinLock(0)), (0, 0, 141733920768)))), WebIO.JSString[WebIO.JSString(\"function () {\\n    var handler = ((function (k){this.k=k; this.container=this.dom.querySelector(\\\"#container\\\"); return k.render(\\\"\\\\\\\\;\\\\\\\\;\\\",this.container)}));\\n    (WebIO.importBlock({\\\"data\\\":[{\\\"name\\\":null,\\\"type\\\":\\\"js\\\",\\\"url\\\":\\\"/assetserver/dd22ed1bf1896c2748f3fe616ce0b838adc895c1-katex.min.js\\\"},{\\\"name\\\":null,\\\"type\\\":\\\"css\\\",\\\"url\\\":\\\"/assetserver/46517a424aa5e6cffc1360d7e0848b601c584ee3-katex.min.css\\\"}],\\\"type\\\":\\\"async_block\\\"})).then((imports) => handler.apply(this, imports));\\n}\\n\")])], Dict{Symbol, Any}(:className => \"interact-widget\")), WebIO.Node{WebIO.DOM}(WebIO.DOM(:html, :div), Any[WebIO.Scope(WebIO.Node{WebIO.DOM}(WebIO.DOM(:html, :button), Any[\"save\"], Dict{Symbol, Any}(:attributes => Dict{Any, Any}(\"data-bind\" => \"click: function (){this.clicks(this.clicks()+1)}, css: {'is-loading' : loading}\"), :className => \"is-medium button is-primary\", :style => Dict{String, Any}())), Dict{String, Tuple{Observables.AbstractObservable, Union{Nothing, Bool}}}(\"loading\" => (Observable(false), nothing), \"clicks\" => (Observable(0), nothing)), Set{String}(), nothing, WebIO.Asset[WebIO.Asset(\"js\", \"knockout\", \"/home/dushya/.julia/packages/Knockout/HReiN/src/../assets/knockout.js\"), WebIO.Asset(\"js\", \"knockout_punches\", \"/home/dushya/.julia/packages/Knockout/HReiN/src/../assets/knockout_punches.js\"), WebIO.Asset(\"js\", nothing, \"/home/dushya/.julia/packages/InteractBase/LJXv3/src/../assets/all.js\"), WebIO.Asset(\"css\", nothing, \"/home/dushya/.julia/packages/InteractBase/LJXv3/src/../assets/style.css\"), WebIO.Asset(\"css\", nothing, \"/home/dushya/.julia/packages/Interact/PENUy/src/../assets/bulma_confined.min.css\")], Dict{Any, Any}(\"loading\" => Any[WebIO.JSString(\"(function (val){return (val!=this.model[\\\"loading\\\"]()) ? (this.valueFromJulia[\\\"loading\\\"]=true, this.model[\\\"loading\\\"](val)) : undefined})\")], \"clicks\" => Any[WebIO.JSString(\"(function (val){return (val!=this.model[\\\"clicks\\\"]()) ? (this.valueFromJulia[\\\"clicks\\\"]=true, this.model[\\\"clicks\\\"](val)) : undefined})\")]), WebIO.ConnectionPool(Channel{Any}(32), Set{WebIO.AbstractConnection}(), Base.GenericCondition{ReentrantLock}(Base.IntrusiveLinkedList{Task}(Task (runnable) @0x00007f26b3678650, Task (runnable) @0x00007f26b3678650), ReentrantLock(nothing, 0x00000000, 0x00, Base.GenericCondition{Base.Threads.SpinLock}(Base.IntrusiveLinkedList{Task}(nothing, nothing), Base.Threads.SpinLock(0)), (7, 27145225719804016, 141733920768)))), WebIO.JSString[WebIO.JSString(\"function () {\\n    var handler = (function (ko, koPunches) {\\n    ko.punches.enableAll();\\n    ko.bindingHandlers.numericValue = {\\n        init: function(element, valueAccessor, allBindings, data, context) {\\n            var stringified = ko.observable(ko.unwrap(valueAccessor()));\\n            stringified.subscribe(function(value) {\\n                var val = parseFloat(value);\\n                if (!isNaN(val)) {\\n                    valueAccessor()(val);\\n                }\\n            });\\n            valueAccessor().subscribe(function(value) {\\n                var str = JSON.stringify(value);\\n                if ((str == \\\"0\\\") && ([\\\"-0\\\", \\\"-0.\\\"].indexOf(stringified()) >= 0))\\n                     return;\\n                 if ([\\\"null\\\", \\\"\\\"].indexOf(str) >= 0)\\n                     return;\\n                stringified(str);\\n            });\\n            ko.applyBindingsToNode(\\n                element,\\n                {\\n                    value: stringified,\\n                    valueUpdate: allBindings.get('valueUpdate'),\\n                },\\n                context,\\n            );\\n        }\\n    };\\n    var json_data = {\\\"loading\\\":WebIO.getval({\\\"name\\\":\\\"loading\\\",\\\"scope\\\":\\\"2893011367520430689\\\",\\\"id\\\":\\\"4438864265381486531\\\",\\\"type\\\":\\\"observable\\\"}),\\\"clicks\\\":WebIO.getval({\\\"name\\\":\\\"clicks\\\",\\\"scope\\\":\\\"2893011367520430689\\\",\\\"id\\\":\\\"6733924959819413210\\\",\\\"type\\\":\\\"observable\\\"})};\\n    var self = this;\\n    function AppViewModel() {\\n        for (var key in json_data) {\\n            var el = json_data[key];\\n            this[key] = Array.isArray(el) ? ko.observableArray(el) : ko.observable(el);\\n        }\\n        \\n        \\n        [this[\\\"loading\\\"].subscribe((function (val){!(this.valueFromJulia[\\\"loading\\\"]) ? (WebIO.setval({\\\"name\\\":\\\"loading\\\",\\\"scope\\\":\\\"2893011367520430689\\\",\\\"id\\\":\\\"4438864265381486531\\\",\\\"type\\\":\\\"observable\\\"},val)) : undefined; return this.valueFromJulia[\\\"loading\\\"]=false}),self),this[\\\"clicks\\\"].subscribe((function (val){!(this.valueFromJulia[\\\"clicks\\\"]) ? (WebIO.setval({\\\"name\\\":\\\"clicks\\\",\\\"scope\\\":\\\"2893011367520430689\\\",\\\"id\\\":\\\"6733924959819413210\\\",\\\"type\\\":\\\"observable\\\"},val)) : undefined; return this.valueFromJulia[\\\"clicks\\\"]=false}),self)]\\n        \\n    }\\n    self.model = new AppViewModel();\\n    self.valueFromJulia = {};\\n    for (var key in json_data) {\\n        self.valueFromJulia[key] = false;\\n    }\\n    ko.applyBindings(self.model, self.dom);\\n}\\n);\\n    (WebIO.importBlock({\\\"data\\\":[{\\\"name\\\":\\\"knockout\\\",\\\"type\\\":\\\"js\\\",\\\"url\\\":\\\"/assetserver/727383f2a47bd31570b7da84eee7b022dd6d7c78-knockout.js\\\"},{\\\"name\\\":\\\"knockout_punches\\\",\\\"type\\\":\\\"js\\\",\\\"url\\\":\\\"/assetserver/382b41b3b1bd9f26f75861d360bad7f8beea211f-knockout_punches.js\\\"}],\\\"type\\\":\\\"async_block\\\"})).then((imports) => handler.apply(this, imports));\\n}\\n\")])], Dict{Symbol, Any}(:className => \"field interact-widget\"))], Dict{Symbol, Any}(:style => Dict(\"display\" => \"flex\", \"flex-direction\" => \"row\")))], Dict{Symbol, Any}(:style => Dict(\"display\" => \"flex\", \"flex-direction\" => \"column\"))), WebIO.Node{WebIO.DOM}(WebIO.DOM(:html, :div), Any[WebIO.Scope(WebIO.Node{WebIO.DOM}(WebIO.DOM(:html, :div), Any[], Dict{Symbol, Any}(:id => \"container\")), Dict{String, Tuple{Observables.AbstractObservable, Union{Nothing, Bool}}}(\"value\" => (Observable(\"\\\\;\\\\;\"), nothing)), Set{String}(), nothing, WebIO.Asset[WebIO.Asset(\"js\", nothing, \"/home/dushya/.julia/packages/InteractBase/LJXv3/src/../assets/katex.min.js\"), WebIO.Asset(\"css\", nothing, \"/home/dushya/.julia/packages/InteractBase/LJXv3/src/../assets/katex.min.css\")], Dict{Any, Any}(\"value\" => Any[WebIO.JSString(\"(function (txt){return this.k.render(txt,this.container)})\")]), WebIO.ConnectionPool(Channel{Any}(32), Set{WebIO.AbstractConnection}(), Base.GenericCondition{ReentrantLock}(Base.IntrusiveLinkedList{Task}(Task (runnable) @0x00007f26b1e8c7e0, Task (runnable) @0x00007f26b1e8c7e0), ReentrantLock(nothing, 0x00000000, 0x00, Base.GenericCondition{Base.Threads.SpinLock}(Base.IntrusiveLinkedList{Task}(nothing, nothing), Base.Threads.SpinLock(0)), (0, 0, 141733920768)))), WebIO.JSString[WebIO.JSString(\"function () {\\n    var handler = ((function (k){this.k=k; this.container=this.dom.querySelector(\\\"#container\\\"); return k.render(\\\"\\\\\\\\;\\\\\\\\;\\\",this.container)}));\\n    (WebIO.importBlock({\\\"data\\\":[{\\\"name\\\":null,\\\"type\\\":\\\"js\\\",\\\"url\\\":\\\"/assetserver/dd22ed1bf1896c2748f3fe616ce0b838adc895c1-katex.min.js\\\"},{\\\"name\\\":null,\\\"type\\\":\\\"css\\\",\\\"url\\\":\\\"/assetserver/46517a424aa5e6cffc1360d7e0848b601c584ee3-katex.min.css\\\"}],\\\"type\\\":\\\"async_block\\\"})).then((imports) => handler.apply(this, imports));\\n}\\n\")])], Dict{Symbol, Any}(:className => \"interact-widget\")), Observable(Luxor.Drawing(430.0, 430.0, \"\", Cairo.CairoSurfaceBase{UInt32}(Ptr{Nothing} @0x0000000000000000, 430.0, 430.0), Cairo.CairoContext(Ptr{Nothing} @0x0000000004e1bf40, Cairo.CairoSurfaceBase{UInt32}(Ptr{Nothing} @0x0000000000000000, 430.0, 430.0), Ptr{Nothing} @0x0000000005d91810), :png, 0.0, 0.0, 0.0, 1.0, IOBuffer(data=UInt8[...], readable=true, writable=true, seekable=true, append=false, size=10311, maxsize=Inf, ptr=10312, mark=-1), UInt8[0x89, 0x50, 0x4e, 0x47, 0x0d, 0x0a, 0x1a, 0x0a, 0x00, 0x00  …  0x00, 0x00, 0x49, 0x45, 0x4e, 0x44, 0xae, 0x42, 0x60, 0x82], false)), WebIO.Node{WebIO.DOM}(WebIO.DOM(:html, :div), Any[WebIO.Scope(WebIO.Node{WebIO.DOM}(WebIO.DOM(:html, :div), Any[], Dict{Symbol, Any}(:id => \"container\")), Dict{String, Tuple{Observables.AbstractObservable, Union{Nothing, Bool}}}(\"value\" => (Observable(\"\\\\;\\\\;\"), nothing)), Set{String}(), nothing, WebIO.Asset[WebIO.Asset(\"js\", nothing, \"/home/dushya/.julia/packages/InteractBase/LJXv3/src/../assets/katex.min.js\"), WebIO.Asset(\"css\", nothing, \"/home/dushya/.julia/packages/InteractBase/LJXv3/src/../assets/katex.min.css\")], Dict{Any, Any}(\"value\" => Any[WebIO.JSString(\"(function (txt){return this.k.render(txt,this.container)})\")]), WebIO.ConnectionPool(Channel{Any}(32), Set{WebIO.AbstractConnection}(), Base.GenericCondition{ReentrantLock}(Base.IntrusiveLinkedList{Task}(Task (runnable) @0x00007f26b1e8c7e0, Task (runnable) @0x00007f26b1e8c7e0), ReentrantLock(nothing, 0x00000000, 0x00, Base.GenericCondition{Base.Threads.SpinLock}(Base.IntrusiveLinkedList{Task}(nothing, nothing), Base.Threads.SpinLock(0)), (0, 0, 141733920768)))), WebIO.JSString[WebIO.JSString(\"function () {\\n    var handler = ((function (k){this.k=k; this.container=this.dom.querySelector(\\\"#container\\\"); return k.render(\\\"\\\\\\\\;\\\\\\\\;\\\",this.container)}));\\n    (WebIO.importBlock({\\\"data\\\":[{\\\"name\\\":null,\\\"type\\\":\\\"js\\\",\\\"url\\\":\\\"/assetserver/dd22ed1bf1896c2748f3fe616ce0b838adc895c1-katex.min.js\\\"},{\\\"name\\\":null,\\\"type\\\":\\\"css\\\",\\\"url\\\":\\\"/assetserver/46517a424aa5e6cffc1360d7e0848b601c584ee3-katex.min.css\\\"}],\\\"type\\\":\\\"async_block\\\"})).then((imports) => handler.apply(this, imports));\\n}\\n\")])], Dict{Symbol, Any}(:className => \"interact-widget\")), WebIO.Node{WebIO.DOM}(WebIO.DOM(:html, :div), Any[], Dict{Symbol, Any}(:style => Dict(\"display\" => \"flex\", \"flex-direction\" => \"column\")))], Dict{Symbol, Any}(:style => Dict(\"display\" => \"flex\", \"flex-direction\" => \"row\")))], Dict{Symbol, Any}(:style => Dict(\"display\" => \"flex\", \"flex-direction\" => \"column\")))"
      ]
     },
     "execution_count": 6,
     "metadata": {
      "application/vnd.webio.node+json": {
       "kernelId": "6d1b3570-a7ef-49c7-ae4c-ba8623b7bb5f"
      }
     },
     "output_type": "execute_result"
    }
   ],
   "source": [
    "create_interactive_app(model, initialiser= initialiser!,\n",
    "    props_to_record = Dict(\"patches\" => Set([:color])),\n",
    "    step_rule= step_rule!,\n",
    "    model_controls=[(:threshold, \"slider\", 1:8)], \n",
    "    frames=400, show_grid=true)"
   ]
  },
  {
   "cell_type": "markdown",
   "metadata": {},
   "source": [
    "## Step 5: Fetch Data \n",
    "\n",
    "It is easy to fetch any recorded data after running the model. For example, the numbers of different colored patches at all timesteps can be got as follows"
   ]
  },
  {
   "cell_type": "code",
   "execution_count": 24,
   "metadata": {},
   "outputs": [
    {
     "data": {
      "image/png": "[encoded data removed]",
      "image/svg+xml": "<?xml version=\"1.0\" encoding=\"utf-8\"?>\n<svg xmlns=\"http://www.w3.org/2000/svg\" xmlns:xlink=\"http://www.w3.org/1999/xlink\" width=\"600\" height=\"400\" viewBox=\"0 0 2400 1600\">\n<defs>\n  <clipPath id=\"clip850\">\n    <rect x=\"0\" y=\"0\" width=\"2400\" height=\"1600\"/>\n  </clipPath>\n</defs>\n<path clip-path=\"url(#clip850)\" d=\"M0 1600 L2400 1600 L2400 0 L0 0  Z\" fill=\"#ffffff\" fill-rule=\"evenodd\" fill-opacity=\"1\"/>\n<defs>\n  <clipPath id=\"clip851\">\n    <rect x=\"480\" y=\"0\" width=\"1681\" height=\"1600\"/>\n  </clipPath>\n</defs>\n<path clip-path=\"url(#clip850)\" d=\"M234.38 1423.18 L2352.76 1423.18 L2352.76 47.2441 L234.38 47.2441  Z\" fill=\"#ffffff\" fill-rule=\"evenodd\" fill-opacity=\"1\"/>\n<defs>\n  <clipPath id=\"clip852\">\n    <rect x=\"234\" y=\"47\" width=\"2119\" height=\"1377\"/>\n  </clipPath>\n</defs>\n<polyline clip-path=\"url(#clip852)\" style=\"stroke:#000000; stroke-linecap:round; stroke-linejoin:round; stroke-width:2; stroke-opacity:0.1; fill:none\" points=\"289.338,1423.18 289.338,47.2441 \"/>\n<polyline clip-path=\"url(#clip852)\" style=\"stroke:#000000; stroke-linecap:round; stroke-linejoin:round; stroke-width:2; stroke-opacity:0.1; fill:none\" points=\"788.955,1423.18 788.955,47.2441 \"/>\n<polyline clip-path=\"url(#clip852)\" style=\"stroke:#000000; stroke-linecap:round; stroke-linejoin:round; stroke-width:2; stroke-opacity:0.1; fill:none\" points=\"1288.57,1423.18 1288.57,47.2441 \"/>\n<polyline clip-path=\"url(#clip852)\" style=\"stroke:#000000; stroke-linecap:round; stroke-linejoin:round; stroke-width:2; stroke-opacity:0.1; fill:none\" points=\"1788.19,1423.18 1788.19,47.2441 \"/>\n<polyline clip-path=\"url(#clip852)\" style=\"stroke:#000000; stroke-linecap:round; stroke-linejoin:round; stroke-width:2; stroke-opacity:0.1; fill:none\" points=\"2287.81,1423.18 2287.81,47.2441 \"/>\n<polyline clip-path=\"url(#clip850)\" style=\"stroke:#000000; stroke-linecap:round; stroke-linejoin:round; stroke-width:4; stroke-opacity:1; fill:none\" points=\"234.38,1423.18 2352.76,1423.18 \"/>\n<polyline clip-path=\"url(#clip850)\" style=\"stroke:#000000; stroke-linecap:round; stroke-linejoin:round; stroke-width:4; stroke-opacity:1; fill:none\" points=\"289.338,1423.18 289.338,1404.28 \"/>\n<polyline clip-path=\"url(#clip850)\" style=\"stroke:#000000; stroke-linecap:round; stroke-linejoin:round; stroke-width:4; stroke-opacity:1; fill:none\" points=\"788.955,1423.18 788.955,1404.28 \"/>\n<polyline clip-path=\"url(#clip850)\" style=\"stroke:#000000; stroke-linecap:round; stroke-linejoin:round; stroke-width:4; stroke-opacity:1; fill:none\" points=\"1288.57,1423.18 1288.57,1404.28 \"/>\n<polyline clip-path=\"url(#clip850)\" style=\"stroke:#000000; stroke-linecap:round; stroke-linejoin:round; stroke-width:4; stroke-opacity:1; fill:none\" points=\"1788.19,1423.18 1788.19,1404.28 \"/>\n<polyline clip-path=\"url(#clip850)\" style=\"stroke:#000000; stroke-linecap:round; stroke-linejoin:round; stroke-width:4; stroke-opacity:1; fill:none\" points=\"2287.81,1423.18 2287.81,1404.28 \"/>\n<path clip-path=\"url(#clip850)\" d=\"M289.338 1454.1 Q285.727 1454.1 283.898 1457.66 Q282.093 1461.2 282.093 1468.33 Q282.093 1475.44 283.898 1479.01 Q285.727 1482.55 289.338 1482.55 Q292.972 1482.55 294.778 1479.01 Q296.606 1475.44 296.606 1468.33 Q296.606 1461.2 294.778 1457.66 Q292.972 1454.1 289.338 1454.1 M289.338 1450.39 Q295.148 1450.39 298.204 1455 Q301.282 1459.58 301.282 1468.33 Q301.282 1477.06 298.204 1481.67 Q295.148 1486.25 289.338 1486.25 Q283.528 1486.25 280.449 1481.67 Q277.394 1477.06 277.394 1468.33 Q277.394 1459.58 280.449 1455 Q283.528 1450.39 289.338 1450.39 Z\" fill=\"#000000\" fill-rule=\"nonzero\" fill-opacity=\"1\" /><path clip-path=\"url(#clip850)\" d=\"M748.562 1481.64 L756.2 1481.64 L756.2 1455.28 L747.89 1456.95 L747.89 1452.69 L756.154 1451.02 L760.83 1451.02 L760.83 1481.64 L768.469 1481.64 L768.469 1485.58 L748.562 1485.58 L748.562 1481.64 Z\" fill=\"#000000\" fill-rule=\"nonzero\" fill-opacity=\"1\" /><path clip-path=\"url(#clip850)\" d=\"M787.913 1454.1 Q784.302 1454.1 782.473 1457.66 Q780.668 1461.2 780.668 1468.33 Q780.668 1475.44 782.473 1479.01 Q784.302 1482.55 787.913 1482.55 Q791.547 1482.55 793.353 1479.01 Q795.182 1475.44 795.182 1468.33 Q795.182 1461.2 793.353 1457.66 Q791.547 1454.1 787.913 1454.1 M787.913 1450.39 Q793.723 1450.39 796.779 1455 Q799.858 1459.58 799.858 1468.33 Q799.858 1477.06 796.779 1481.67 Q793.723 1486.25 787.913 1486.25 Q782.103 1486.25 779.024 1481.67 Q775.969 1477.06 775.969 1468.33 Q775.969 1459.58 779.024 1455 Q782.103 1450.39 787.913 1450.39 Z\" fill=\"#000000\" fill-rule=\"nonzero\" fill-opacity=\"1\" /><path clip-path=\"url(#clip850)\" d=\"M818.075 1454.1 Q814.464 1454.1 812.635 1457.66 Q810.83 1461.2 810.83 1468.33 Q810.83 1475.44 812.635 1479.01 Q814.464 1482.55 818.075 1482.55 Q821.709 1482.55 823.515 1479.01 Q825.344 1475.44 825.344 1468.33 Q825.344 1461.2 823.515 1457.66 Q821.709 1454.1 818.075 1454.1 M818.075 1450.39 Q823.885 1450.39 826.941 1455 Q830.019 1459.58 830.019 1468.33 Q830.019 1477.06 826.941 1481.67 Q823.885 1486.25 818.075 1486.25 Q812.265 1486.25 809.186 1481.67 Q806.131 1477.06 806.131 1468.33 Q806.131 1459.58 809.186 1455 Q812.265 1450.39 818.075 1450.39 Z\" fill=\"#000000\" fill-rule=\"nonzero\" fill-opacity=\"1\" /><path clip-path=\"url(#clip850)\" d=\"M1252.26 1481.64 L1268.58 1481.64 L1268.58 1485.58 L1246.64 1485.58 L1246.64 1481.64 Q1249.3 1478.89 1253.88 1474.26 Q1258.49 1469.61 1259.67 1468.27 Q1261.92 1465.74 1262.8 1464.01 Q1263.7 1462.25 1263.7 1460.56 Q1263.7 1457.8 1261.75 1456.07 Q1259.83 1454.33 1256.73 1454.33 Q1254.53 1454.33 1252.08 1455.09 Q1249.65 1455.86 1246.87 1457.41 L1246.87 1452.69 Q1249.69 1451.55 1252.15 1450.97 Q1254.6 1450.39 1256.64 1450.39 Q1262.01 1450.39 1265.2 1453.08 Q1268.4 1455.77 1268.4 1460.26 Q1268.4 1462.39 1267.59 1464.31 Q1266.8 1466.2 1264.69 1468.8 Q1264.12 1469.47 1261.01 1472.69 Q1257.91 1475.88 1252.26 1481.64 Z\" fill=\"#000000\" fill-rule=\"nonzero\" fill-opacity=\"1\" /><path clip-path=\"url(#clip850)\" d=\"M1288.4 1454.1 Q1284.79 1454.1 1282.96 1457.66 Q1281.15 1461.2 1281.15 1468.33 Q1281.15 1475.44 1282.96 1479.01 Q1284.79 1482.55 1288.4 1482.55 Q1292.03 1482.55 1293.84 1479.01 Q1295.67 1475.44 1295.67 1468.33 Q1295.67 1461.2 1293.84 1457.66 Q1292.03 1454.1 1288.4 1454.1 M1288.4 1450.39 Q1294.21 1450.39 1297.26 1455 Q1300.34 1459.58 1300.34 1468.33 Q1300.34 1477.06 1297.26 1481.67 Q1294.21 1486.25 1288.4 1486.25 Q1282.59 1486.25 1279.51 1481.67 Q1276.45 1477.06 1276.45 1468.33 Q1276.45 1459.58 1279.51 1455 Q1282.59 1450.39 1288.4 1450.39 Z\" fill=\"#000000\" fill-rule=\"nonzero\" fill-opacity=\"1\" /><path clip-path=\"url(#clip850)\" d=\"M1318.56 1454.1 Q1314.95 1454.1 1313.12 1457.66 Q1311.31 1461.2 1311.31 1468.33 Q1311.31 1475.44 1313.12 1479.01 Q1314.95 1482.55 1318.56 1482.55 Q1322.19 1482.55 1324 1479.01 Q1325.83 1475.44 1325.83 1468.33 Q1325.83 1461.2 1324 1457.66 Q1322.19 1454.1 1318.56 1454.1 M1318.56 1450.39 Q1324.37 1450.39 1327.43 1455 Q1330.5 1459.58 1330.5 1468.33 Q1330.5 1477.06 1327.43 1481.67 Q1324.37 1486.25 1318.56 1486.25 Q1312.75 1486.25 1309.67 1481.67 Q1306.62 1477.06 1306.62 1468.33 Q1306.62 1459.58 1309.67 1455 Q1312.75 1450.39 1318.56 1450.39 Z\" fill=\"#000000\" fill-rule=\"nonzero\" fill-opacity=\"1\" /><path clip-path=\"url(#clip850)\" d=\"M1761.95 1466.95 Q1765.31 1467.66 1767.18 1469.93 Q1769.08 1472.2 1769.08 1475.53 Q1769.08 1480.65 1765.56 1483.45 Q1762.04 1486.25 1755.56 1486.25 Q1753.39 1486.25 1751.07 1485.81 Q1748.78 1485.39 1746.33 1484.54 L1746.33 1480.02 Q1748.27 1481.16 1750.58 1481.74 Q1752.9 1482.32 1755.42 1482.32 Q1759.82 1482.32 1762.11 1480.58 Q1764.43 1478.84 1764.43 1475.53 Q1764.43 1472.48 1762.27 1470.77 Q1760.14 1469.03 1756.33 1469.03 L1752.3 1469.03 L1752.3 1465.19 L1756.51 1465.19 Q1759.96 1465.19 1761.79 1463.82 Q1763.62 1462.43 1763.62 1459.84 Q1763.62 1457.18 1761.72 1455.77 Q1759.84 1454.33 1756.33 1454.33 Q1754.4 1454.33 1752.21 1454.75 Q1750.01 1455.16 1747.37 1456.04 L1747.37 1451.88 Q1750.03 1451.14 1752.34 1450.77 Q1754.68 1450.39 1756.74 1450.39 Q1762.07 1450.39 1765.17 1452.83 Q1768.27 1455.23 1768.27 1459.35 Q1768.27 1462.22 1766.63 1464.21 Q1764.98 1466.18 1761.95 1466.95 Z\" fill=\"#000000\" fill-rule=\"nonzero\" fill-opacity=\"1\" /><path clip-path=\"url(#clip850)\" d=\"M1787.95 1454.1 Q1784.33 1454.1 1782.51 1457.66 Q1780.7 1461.2 1780.7 1468.33 Q1780.7 1475.44 1782.51 1479.01 Q1784.33 1482.55 1787.95 1482.55 Q1791.58 1482.55 1793.39 1479.01 Q1795.21 1475.44 1795.21 1468.33 Q1795.21 1461.2 1793.39 1457.66 Q1791.58 1454.1 1787.95 1454.1 M1787.95 1450.39 Q1793.76 1450.39 1796.81 1455 Q1799.89 1459.58 1799.89 1468.33 Q1799.89 1477.06 1796.81 1481.67 Q1793.76 1486.25 1787.95 1486.25 Q1782.14 1486.25 1779.06 1481.67 Q1776 1477.06 1776 1468.33 Q1776 1459.58 1779.06 1455 Q1782.14 1450.39 1787.95 1450.39 Z\" fill=\"#000000\" fill-rule=\"nonzero\" fill-opacity=\"1\" /><path clip-path=\"url(#clip850)\" d=\"M1818.11 1454.1 Q1814.5 1454.1 1812.67 1457.66 Q1810.86 1461.2 1810.86 1468.33 Q1810.86 1475.44 1812.67 1479.01 Q1814.5 1482.55 1818.11 1482.55 Q1821.74 1482.55 1823.55 1479.01 Q1825.38 1475.44 1825.38 1468.33 Q1825.38 1461.2 1823.55 1457.66 Q1821.74 1454.1 1818.11 1454.1 M1818.11 1450.39 Q1823.92 1450.39 1826.97 1455 Q1830.05 1459.58 1830.05 1468.33 Q1830.05 1477.06 1826.97 1481.67 Q1823.92 1486.25 1818.11 1486.25 Q1812.3 1486.25 1809.22 1481.67 Q1806.16 1477.06 1806.16 1468.33 Q1806.16 1459.58 1809.22 1455 Q1812.3 1450.39 1818.11 1450.39 Z\" fill=\"#000000\" fill-rule=\"nonzero\" fill-opacity=\"1\" /><path clip-path=\"url(#clip850)\" d=\"M2260.9 1455.09 L2249.09 1473.54 L2260.9 1473.54 L2260.9 1455.09 M2259.67 1451.02 L2265.55 1451.02 L2265.55 1473.54 L2270.48 1473.54 L2270.48 1477.43 L2265.55 1477.43 L2265.55 1485.58 L2260.9 1485.58 L2260.9 1477.43 L2245.29 1477.43 L2245.29 1472.92 L2259.67 1451.02 Z\" fill=\"#000000\" fill-rule=\"nonzero\" fill-opacity=\"1\" /><path clip-path=\"url(#clip850)\" d=\"M2288.21 1454.1 Q2284.6 1454.1 2282.77 1457.66 Q2280.97 1461.2 2280.97 1468.33 Q2280.97 1475.44 2282.77 1479.01 Q2284.6 1482.55 2288.21 1482.55 Q2291.85 1482.55 2293.65 1479.01 Q2295.48 1475.44 2295.48 1468.33 Q2295.48 1461.2 2293.65 1457.66 Q2291.85 1454.1 2288.21 1454.1 M2288.21 1450.39 Q2294.02 1450.39 2297.08 1455 Q2300.16 1459.58 2300.16 1468.33 Q2300.16 1477.06 2297.08 1481.67 Q2294.02 1486.25 2288.21 1486.25 Q2282.4 1486.25 2279.32 1481.67 Q2276.27 1477.06 2276.27 1468.33 Q2276.27 1459.58 2279.32 1455 Q2282.4 1450.39 2288.21 1450.39 Z\" fill=\"#000000\" fill-rule=\"nonzero\" fill-opacity=\"1\" /><path clip-path=\"url(#clip850)\" d=\"M2318.37 1454.1 Q2314.76 1454.1 2312.93 1457.66 Q2311.13 1461.2 2311.13 1468.33 Q2311.13 1475.44 2312.93 1479.01 Q2314.76 1482.55 2318.37 1482.55 Q2322.01 1482.55 2323.81 1479.01 Q2325.64 1475.44 2325.64 1468.33 Q2325.64 1461.2 2323.81 1457.66 Q2322.01 1454.1 2318.37 1454.1 M2318.37 1450.39 Q2324.18 1450.39 2327.24 1455 Q2330.32 1459.58 2330.32 1468.33 Q2330.32 1477.06 2327.24 1481.67 Q2324.18 1486.25 2318.37 1486.25 Q2312.56 1486.25 2309.48 1481.67 Q2306.43 1477.06 2306.43 1468.33 Q2306.43 1459.58 2309.48 1455 Q2312.56 1450.39 2318.37 1450.39 Z\" fill=\"#000000\" fill-rule=\"nonzero\" fill-opacity=\"1\" /><path clip-path=\"url(#clip850)\" d=\"M1230.61 1522.27 L1230.61 1532.4 L1242.67 1532.4 L1242.67 1536.95 L1230.61 1536.95 L1230.61 1556.3 Q1230.61 1560.66 1231.79 1561.9 Q1233 1563.14 1236.66 1563.14 L1242.67 1563.14 L1242.67 1568.04 L1236.66 1568.04 Q1229.88 1568.04 1227.3 1565.53 Q1224.72 1562.98 1224.72 1556.3 L1224.72 1536.95 L1220.43 1536.95 L1220.43 1532.4 L1224.72 1532.4 L1224.72 1522.27 L1230.61 1522.27 Z\" fill=\"#000000\" fill-rule=\"nonzero\" fill-opacity=\"1\" /><path clip-path=\"url(#clip850)\" d=\"M1250.38 1532.4 L1256.23 1532.4 L1256.23 1568.04 L1250.38 1568.04 L1250.38 1532.4 M1250.38 1518.52 L1256.23 1518.52 L1256.23 1525.93 L1250.38 1525.93 L1250.38 1518.52 Z\" fill=\"#000000\" fill-rule=\"nonzero\" fill-opacity=\"1\" /><path clip-path=\"url(#clip850)\" d=\"M1294.14 1533.76 L1294.14 1539.24 Q1291.66 1537.87 1289.14 1537.2 Q1286.66 1536.5 1284.11 1536.5 Q1278.42 1536.5 1275.27 1540.13 Q1272.12 1543.73 1272.12 1550.25 Q1272.12 1556.78 1275.27 1560.4 Q1278.42 1564 1284.11 1564 Q1286.66 1564 1289.14 1563.33 Q1291.66 1562.63 1294.14 1561.26 L1294.14 1566.68 Q1291.69 1567.82 1289.05 1568.39 Q1286.44 1568.97 1283.48 1568.97 Q1275.43 1568.97 1270.68 1563.91 Q1265.94 1558.85 1265.94 1550.25 Q1265.94 1541.53 1270.72 1536.53 Q1275.52 1531.54 1283.86 1531.54 Q1286.57 1531.54 1289.14 1532.11 Q1291.72 1532.65 1294.14 1533.76 Z\" fill=\"#000000\" fill-rule=\"nonzero\" fill-opacity=\"1\" /><path clip-path=\"url(#clip850)\" d=\"M1304.1 1518.52 L1309.99 1518.52 L1309.99 1547.77 L1327.47 1532.4 L1334.95 1532.4 L1316.04 1549.07 L1335.74 1568.04 L1328.1 1568.04 L1309.99 1550.63 L1309.99 1568.04 L1304.1 1568.04 L1304.1 1518.52 Z\" fill=\"#000000\" fill-rule=\"nonzero\" fill-opacity=\"1\" /><path clip-path=\"url(#clip850)\" d=\"M1364.8 1533.45 L1364.8 1538.98 Q1362.32 1537.71 1359.64 1537.07 Q1356.97 1536.44 1354.11 1536.44 Q1349.75 1536.44 1347.55 1537.77 Q1345.38 1539.11 1345.38 1541.79 Q1345.38 1543.82 1346.94 1545 Q1348.5 1546.15 1353.21 1547.2 L1355.22 1547.64 Q1361.46 1548.98 1364.07 1551.43 Q1366.71 1553.85 1366.71 1558.21 Q1366.71 1563.17 1362.76 1566.07 Q1358.85 1568.97 1351.97 1568.97 Q1349.11 1568.97 1345.99 1568.39 Q1342.9 1567.85 1339.46 1566.74 L1339.46 1560.69 Q1342.71 1562.38 1345.86 1563.24 Q1349.01 1564.07 1352.1 1564.07 Q1356.24 1564.07 1358.47 1562.66 Q1360.69 1561.23 1360.69 1558.65 Q1360.69 1556.27 1359.07 1554.99 Q1357.48 1553.72 1352.04 1552.54 L1350 1552.07 Q1344.56 1550.92 1342.14 1548.56 Q1339.72 1546.18 1339.72 1542.04 Q1339.72 1537.01 1343.28 1534.27 Q1346.85 1531.54 1353.41 1531.54 Q1356.65 1531.54 1359.52 1532.01 Q1362.38 1532.49 1364.8 1533.45 Z\" fill=\"#000000\" fill-rule=\"nonzero\" fill-opacity=\"1\" /><polyline clip-path=\"url(#clip852)\" style=\"stroke:#000000; stroke-linecap:round; stroke-linejoin:round; stroke-width:2; stroke-opacity:0.1; fill:none\" points=\"234.38,1368.41 2352.76,1368.41 \"/>\n<polyline clip-path=\"url(#clip852)\" style=\"stroke:#000000; stroke-linecap:round; stroke-linejoin:round; stroke-width:2; stroke-opacity:0.1; fill:none\" points=\"234.38,1051.81 2352.76,1051.81 \"/>\n<polyline clip-path=\"url(#clip852)\" style=\"stroke:#000000; stroke-linecap:round; stroke-linejoin:round; stroke-width:2; stroke-opacity:0.1; fill:none\" points=\"234.38,735.212 2352.76,735.212 \"/>\n<polyline clip-path=\"url(#clip852)\" style=\"stroke:#000000; stroke-linecap:round; stroke-linejoin:round; stroke-width:2; stroke-opacity:0.1; fill:none\" points=\"234.38,418.614 2352.76,418.614 \"/>\n<polyline clip-path=\"url(#clip852)\" style=\"stroke:#000000; stroke-linecap:round; stroke-linejoin:round; stroke-width:2; stroke-opacity:0.1; fill:none\" points=\"234.38,102.016 2352.76,102.016 \"/>\n<polyline clip-path=\"url(#clip850)\" style=\"stroke:#000000; stroke-linecap:round; stroke-linejoin:round; stroke-width:4; stroke-opacity:1; fill:none\" points=\"234.38,1423.18 234.38,47.2441 \"/>\n<polyline clip-path=\"url(#clip850)\" style=\"stroke:#000000; stroke-linecap:round; stroke-linejoin:round; stroke-width:4; stroke-opacity:1; fill:none\" points=\"234.38,1368.41 253.278,1368.41 \"/>\n<polyline clip-path=\"url(#clip850)\" style=\"stroke:#000000; stroke-linecap:round; stroke-linejoin:round; stroke-width:4; stroke-opacity:1; fill:none\" points=\"234.38,1051.81 253.278,1051.81 \"/>\n<polyline clip-path=\"url(#clip850)\" style=\"stroke:#000000; stroke-linecap:round; stroke-linejoin:round; stroke-width:4; stroke-opacity:1; fill:none\" points=\"234.38,735.212 253.278,735.212 \"/>\n<polyline clip-path=\"url(#clip850)\" style=\"stroke:#000000; stroke-linecap:round; stroke-linejoin:round; stroke-width:4; stroke-opacity:1; fill:none\" points=\"234.38,418.614 253.278,418.614 \"/>\n<polyline clip-path=\"url(#clip850)\" style=\"stroke:#000000; stroke-linecap:round; stroke-linejoin:round; stroke-width:4; stroke-opacity:1; fill:none\" points=\"234.38,102.016 253.278,102.016 \"/>\n<path clip-path=\"url(#clip850)\" d=\"M126.112 1369.28 Q122.779 1369.28 120.857 1371.06 Q118.959 1372.84 118.959 1375.97 Q118.959 1379.09 120.857 1380.87 Q122.779 1382.66 126.112 1382.66 Q129.445 1382.66 131.367 1380.87 Q133.288 1379.07 133.288 1375.97 Q133.288 1372.84 131.367 1371.06 Q129.468 1369.28 126.112 1369.28 M121.436 1367.29 Q118.427 1366.54 116.737 1364.48 Q115.07 1362.42 115.07 1359.46 Q115.07 1355.32 118.01 1352.91 Q120.973 1350.5 126.112 1350.5 Q131.274 1350.5 134.214 1352.91 Q137.154 1355.32 137.154 1359.46 Q137.154 1362.42 135.464 1364.48 Q133.797 1366.54 130.811 1367.29 Q134.191 1368.07 136.066 1370.36 Q137.964 1372.66 137.964 1375.97 Q137.964 1380.99 134.885 1383.67 Q131.83 1386.36 126.112 1386.36 Q120.394 1386.36 117.316 1383.67 Q114.26 1380.99 114.26 1375.97 Q114.26 1372.66 116.158 1370.36 Q118.056 1368.07 121.436 1367.29 M119.723 1359.9 Q119.723 1362.59 121.39 1364.09 Q123.08 1365.6 126.112 1365.6 Q129.121 1365.6 130.811 1364.09 Q132.524 1362.59 132.524 1359.9 Q132.524 1357.22 130.811 1355.71 Q129.121 1354.21 126.112 1354.21 Q123.08 1354.21 121.39 1355.71 Q119.723 1357.22 119.723 1359.9 Z\" fill=\"#000000\" fill-rule=\"nonzero\" fill-opacity=\"1\" /><path clip-path=\"url(#clip850)\" d=\"M156.274 1354.21 Q152.663 1354.21 150.834 1357.77 Q149.028 1361.31 149.028 1368.44 Q149.028 1375.55 150.834 1379.11 Q152.663 1382.66 156.274 1382.66 Q159.908 1382.66 161.714 1379.11 Q163.542 1375.55 163.542 1368.44 Q163.542 1361.31 161.714 1357.77 Q159.908 1354.21 156.274 1354.21 M156.274 1350.5 Q162.084 1350.5 165.14 1355.11 Q168.218 1359.69 168.218 1368.44 Q168.218 1377.17 165.14 1381.78 Q162.084 1386.36 156.274 1386.36 Q150.464 1386.36 147.385 1381.78 Q144.329 1377.17 144.329 1368.44 Q144.329 1359.69 147.385 1355.11 Q150.464 1350.5 156.274 1350.5 Z\" fill=\"#000000\" fill-rule=\"nonzero\" fill-opacity=\"1\" /><path clip-path=\"url(#clip850)\" d=\"M186.436 1354.21 Q182.825 1354.21 180.996 1357.77 Q179.19 1361.31 179.19 1368.44 Q179.19 1375.55 180.996 1379.11 Q182.825 1382.66 186.436 1382.66 Q190.07 1382.66 191.875 1379.11 Q193.704 1375.55 193.704 1368.44 Q193.704 1361.31 191.875 1357.77 Q190.07 1354.21 186.436 1354.21 M186.436 1350.5 Q192.246 1350.5 195.301 1355.11 Q198.38 1359.69 198.38 1368.44 Q198.38 1377.17 195.301 1381.78 Q192.246 1386.36 186.436 1386.36 Q180.626 1386.36 177.547 1381.78 Q174.491 1377.17 174.491 1368.44 Q174.491 1359.69 177.547 1355.11 Q180.626 1350.5 186.436 1350.5 Z\" fill=\"#000000\" fill-rule=\"nonzero\" fill-opacity=\"1\" /><path clip-path=\"url(#clip850)\" d=\"M126.112 1052.68 Q122.779 1052.68 120.857 1054.46 Q118.959 1056.24 118.959 1059.37 Q118.959 1062.49 120.857 1064.28 Q122.779 1066.06 126.112 1066.06 Q129.445 1066.06 131.367 1064.28 Q133.288 1062.47 133.288 1059.37 Q133.288 1056.24 131.367 1054.46 Q129.468 1052.68 126.112 1052.68 M121.436 1050.69 Q118.427 1049.95 116.737 1047.89 Q115.07 1045.83 115.07 1042.86 Q115.07 1038.72 118.01 1036.31 Q120.973 1033.91 126.112 1033.91 Q131.274 1033.91 134.214 1036.31 Q137.154 1038.72 137.154 1042.86 Q137.154 1045.83 135.464 1047.89 Q133.797 1049.95 130.811 1050.69 Q134.191 1051.47 136.066 1053.77 Q137.964 1056.06 137.964 1059.37 Q137.964 1064.39 134.885 1067.08 Q131.83 1069.76 126.112 1069.76 Q120.394 1069.76 117.316 1067.08 Q114.26 1064.39 114.26 1059.37 Q114.26 1056.06 116.158 1053.77 Q118.056 1051.47 121.436 1050.69 M119.723 1043.3 Q119.723 1045.99 121.39 1047.49 Q123.08 1049 126.112 1049 Q129.121 1049 130.811 1047.49 Q132.524 1045.99 132.524 1043.3 Q132.524 1040.62 130.811 1039.11 Q129.121 1037.61 126.112 1037.61 Q123.08 1037.61 121.39 1039.11 Q119.723 1040.62 119.723 1043.3 Z\" fill=\"#000000\" fill-rule=\"nonzero\" fill-opacity=\"1\" /><path clip-path=\"url(#clip850)\" d=\"M150.302 1065.15 L166.621 1065.15 L166.621 1069.09 L144.677 1069.09 L144.677 1065.15 Q147.339 1062.4 151.922 1057.77 Q156.528 1053.12 157.709 1051.78 Q159.954 1049.25 160.834 1047.52 Q161.737 1045.76 161.737 1044.07 Q161.737 1041.31 159.792 1039.58 Q157.871 1037.84 154.769 1037.84 Q152.57 1037.84 150.116 1038.6 Q147.686 1039.37 144.908 1040.92 L144.908 1036.2 Q147.732 1035.06 150.186 1034.48 Q152.64 1033.91 154.677 1033.91 Q160.047 1033.91 163.241 1036.59 Q166.436 1039.28 166.436 1043.77 Q166.436 1045.9 165.626 1047.82 Q164.839 1049.72 162.732 1052.31 Q162.153 1052.98 159.052 1056.2 Q155.95 1059.39 150.302 1065.15 Z\" fill=\"#000000\" fill-rule=\"nonzero\" fill-opacity=\"1\" /><path clip-path=\"url(#clip850)\" d=\"M186.436 1037.61 Q182.825 1037.61 180.996 1041.17 Q179.19 1044.72 179.19 1051.84 Q179.19 1058.95 180.996 1062.52 Q182.825 1066.06 186.436 1066.06 Q190.07 1066.06 191.875 1062.52 Q193.704 1058.95 193.704 1051.84 Q193.704 1044.72 191.875 1041.17 Q190.07 1037.61 186.436 1037.61 M186.436 1033.91 Q192.246 1033.91 195.301 1038.51 Q198.38 1043.09 198.38 1051.84 Q198.38 1060.57 195.301 1065.18 Q192.246 1069.76 186.436 1069.76 Q180.626 1069.76 177.547 1065.18 Q174.491 1060.57 174.491 1051.84 Q174.491 1043.09 177.547 1038.51 Q180.626 1033.91 186.436 1033.91 Z\" fill=\"#000000\" fill-rule=\"nonzero\" fill-opacity=\"1\" /><path clip-path=\"url(#clip850)\" d=\"M126.112 736.08 Q122.779 736.08 120.857 737.862 Q118.959 739.645 118.959 742.77 Q118.959 745.895 120.857 747.677 Q122.779 749.46 126.112 749.46 Q129.445 749.46 131.367 747.677 Q133.288 745.872 133.288 742.77 Q133.288 739.645 131.367 737.862 Q129.468 736.08 126.112 736.08 M121.436 734.089 Q118.427 733.349 116.737 731.288 Q115.07 729.228 115.07 726.265 Q115.07 722.122 118.01 719.714 Q120.973 717.307 126.112 717.307 Q131.274 717.307 134.214 719.714 Q137.154 722.122 137.154 726.265 Q137.154 729.228 135.464 731.288 Q133.797 733.349 130.811 734.089 Q134.191 734.876 136.066 737.168 Q137.964 739.46 137.964 742.77 Q137.964 747.793 134.885 750.478 Q131.83 753.163 126.112 753.163 Q120.394 753.163 117.316 750.478 Q114.26 747.793 114.26 742.77 Q114.26 739.46 116.158 737.168 Q118.056 734.876 121.436 734.089 M119.723 726.705 Q119.723 729.39 121.39 730.895 Q123.08 732.399 126.112 732.399 Q129.121 732.399 130.811 730.895 Q132.524 729.39 132.524 726.705 Q132.524 724.02 130.811 722.515 Q129.121 721.011 126.112 721.011 Q123.08 721.011 121.39 722.515 Q119.723 724.02 119.723 726.705 Z\" fill=\"#000000\" fill-rule=\"nonzero\" fill-opacity=\"1\" /><path clip-path=\"url(#clip850)\" d=\"M159.121 722.006 L147.316 740.455 L159.121 740.455 L159.121 722.006 M157.894 717.932 L163.774 717.932 L163.774 740.455 L168.704 740.455 L168.704 744.344 L163.774 744.344 L163.774 752.492 L159.121 752.492 L159.121 744.344 L143.519 744.344 L143.519 739.83 L157.894 717.932 Z\" fill=\"#000000\" fill-rule=\"nonzero\" fill-opacity=\"1\" /><path clip-path=\"url(#clip850)\" d=\"M186.436 721.011 Q182.825 721.011 180.996 724.575 Q179.19 728.117 179.19 735.247 Q179.19 742.353 180.996 745.918 Q182.825 749.46 186.436 749.46 Q190.07 749.46 191.875 745.918 Q193.704 742.353 193.704 735.247 Q193.704 728.117 191.875 724.575 Q190.07 721.011 186.436 721.011 M186.436 717.307 Q192.246 717.307 195.301 721.913 Q198.38 726.497 198.38 735.247 Q198.38 743.973 195.301 748.58 Q192.246 753.163 186.436 753.163 Q180.626 753.163 177.547 748.58 Q174.491 743.973 174.491 735.247 Q174.491 726.497 177.547 721.913 Q180.626 717.307 186.436 717.307 Z\" fill=\"#000000\" fill-rule=\"nonzero\" fill-opacity=\"1\" /><path clip-path=\"url(#clip850)\" d=\"M126.112 419.482 Q122.779 419.482 120.857 421.264 Q118.959 423.047 118.959 426.172 Q118.959 429.297 120.857 431.079 Q122.779 432.861 126.112 432.861 Q129.445 432.861 131.367 431.079 Q133.288 429.273 133.288 426.172 Q133.288 423.047 131.367 421.264 Q129.468 419.482 126.112 419.482 M121.436 417.491 Q118.427 416.75 116.737 414.69 Q115.07 412.63 115.07 409.667 Q115.07 405.524 118.01 403.116 Q120.973 400.709 126.112 400.709 Q131.274 400.709 134.214 403.116 Q137.154 405.524 137.154 409.667 Q137.154 412.63 135.464 414.69 Q133.797 416.75 130.811 417.491 Q134.191 418.278 136.066 420.57 Q137.964 422.861 137.964 426.172 Q137.964 431.195 134.885 433.88 Q131.83 436.565 126.112 436.565 Q120.394 436.565 117.316 433.88 Q114.26 431.195 114.26 426.172 Q114.26 422.861 116.158 420.57 Q118.056 418.278 121.436 417.491 M119.723 410.107 Q119.723 412.792 121.39 414.297 Q123.08 415.801 126.112 415.801 Q129.121 415.801 130.811 414.297 Q132.524 412.792 132.524 410.107 Q132.524 407.422 130.811 405.917 Q129.121 404.412 126.112 404.412 Q123.08 404.412 121.39 405.917 Q119.723 407.422 119.723 410.107 Z\" fill=\"#000000\" fill-rule=\"nonzero\" fill-opacity=\"1\" /><path clip-path=\"url(#clip850)\" d=\"M156.853 416.75 Q153.704 416.75 151.853 418.903 Q150.024 421.056 150.024 424.806 Q150.024 428.533 151.853 430.709 Q153.704 432.861 156.853 432.861 Q160.001 432.861 161.829 430.709 Q163.681 428.533 163.681 424.806 Q163.681 421.056 161.829 418.903 Q160.001 416.75 156.853 416.75 M166.135 402.098 L166.135 406.357 Q164.376 405.524 162.57 405.084 Q160.788 404.644 159.028 404.644 Q154.399 404.644 151.945 407.769 Q149.515 410.894 149.167 417.213 Q150.533 415.199 152.593 414.135 Q154.653 413.047 157.13 413.047 Q162.339 413.047 165.348 416.218 Q168.38 419.366 168.38 424.806 Q168.38 430.13 165.232 433.347 Q162.084 436.565 156.853 436.565 Q150.857 436.565 147.686 431.982 Q144.515 427.375 144.515 418.648 Q144.515 410.454 148.403 405.593 Q152.292 400.709 158.843 400.709 Q160.603 400.709 162.385 401.056 Q164.19 401.403 166.135 402.098 Z\" fill=\"#000000\" fill-rule=\"nonzero\" fill-opacity=\"1\" /><path clip-path=\"url(#clip850)\" d=\"M186.436 404.412 Q182.825 404.412 180.996 407.977 Q179.19 411.519 179.19 418.648 Q179.19 425.755 180.996 429.32 Q182.825 432.861 186.436 432.861 Q190.07 432.861 191.875 429.32 Q193.704 425.755 193.704 418.648 Q193.704 411.519 191.875 407.977 Q190.07 404.412 186.436 404.412 M186.436 400.709 Q192.246 400.709 195.301 405.315 Q198.38 409.899 198.38 418.648 Q198.38 427.375 195.301 431.982 Q192.246 436.565 186.436 436.565 Q180.626 436.565 177.547 431.982 Q174.491 427.375 174.491 418.648 Q174.491 409.899 177.547 405.315 Q180.626 400.709 186.436 400.709 Z\" fill=\"#000000\" fill-rule=\"nonzero\" fill-opacity=\"1\" /><path clip-path=\"url(#clip850)\" d=\"M126.112 102.884 Q122.779 102.884 120.857 104.666 Q118.959 106.448 118.959 109.573 Q118.959 112.698 120.857 114.481 Q122.779 116.263 126.112 116.263 Q129.445 116.263 131.367 114.481 Q133.288 112.675 133.288 109.573 Q133.288 106.448 131.367 104.666 Q129.468 102.884 126.112 102.884 M121.436 100.893 Q118.427 100.152 116.737 98.092 Q115.07 96.0318 115.07 93.0689 Q115.07 88.9254 118.01 86.518 Q120.973 84.1106 126.112 84.1106 Q131.274 84.1106 134.214 86.518 Q137.154 88.9254 137.154 93.0689 Q137.154 96.0318 135.464 98.092 Q133.797 100.152 130.811 100.893 Q134.191 101.68 136.066 103.972 Q137.964 106.263 137.964 109.573 Q137.964 114.597 134.885 117.282 Q131.83 119.967 126.112 119.967 Q120.394 119.967 117.316 117.282 Q114.26 114.597 114.26 109.573 Q114.26 106.263 116.158 103.972 Q118.056 101.68 121.436 100.893 M119.723 93.5087 Q119.723 96.1939 121.39 97.6985 Q123.08 99.2031 126.112 99.2031 Q129.121 99.2031 130.811 97.6985 Q132.524 96.1939 132.524 93.5087 Q132.524 90.8235 130.811 89.3189 Q129.121 87.8143 126.112 87.8143 Q123.08 87.8143 121.39 89.3189 Q119.723 90.8235 119.723 93.5087 Z\" fill=\"#000000\" fill-rule=\"nonzero\" fill-opacity=\"1\" /><path clip-path=\"url(#clip850)\" d=\"M156.274 102.884 Q152.941 102.884 151.019 104.666 Q149.121 106.448 149.121 109.573 Q149.121 112.698 151.019 114.481 Q152.941 116.263 156.274 116.263 Q159.607 116.263 161.528 114.481 Q163.45 112.675 163.45 109.573 Q163.45 106.448 161.528 104.666 Q159.63 102.884 156.274 102.884 M151.598 100.893 Q148.589 100.152 146.899 98.092 Q145.232 96.0318 145.232 93.0689 Q145.232 88.9254 148.172 86.518 Q151.135 84.1106 156.274 84.1106 Q161.436 84.1106 164.376 86.518 Q167.315 88.9254 167.315 93.0689 Q167.315 96.0318 165.626 98.092 Q163.959 100.152 160.973 100.893 Q164.352 101.68 166.227 103.972 Q168.126 106.263 168.126 109.573 Q168.126 114.597 165.047 117.282 Q161.991 119.967 156.274 119.967 Q150.556 119.967 147.478 117.282 Q144.422 114.597 144.422 109.573 Q144.422 106.263 146.32 103.972 Q148.218 101.68 151.598 100.893 M149.885 93.5087 Q149.885 96.1939 151.552 97.6985 Q153.241 99.2031 156.274 99.2031 Q159.283 99.2031 160.973 97.6985 Q162.686 96.1939 162.686 93.5087 Q162.686 90.8235 160.973 89.3189 Q159.283 87.8143 156.274 87.8143 Q153.241 87.8143 151.552 89.3189 Q149.885 90.8235 149.885 93.5087 Z\" fill=\"#000000\" fill-rule=\"nonzero\" fill-opacity=\"1\" /><path clip-path=\"url(#clip850)\" d=\"M186.436 87.8143 Q182.825 87.8143 180.996 91.3791 Q179.19 94.9207 179.19 102.05 Q179.19 109.157 180.996 112.722 Q182.825 116.263 186.436 116.263 Q190.07 116.263 191.875 112.722 Q193.704 109.157 193.704 102.05 Q193.704 94.9207 191.875 91.3791 Q190.07 87.8143 186.436 87.8143 M186.436 84.1106 Q192.246 84.1106 195.301 88.717 Q198.38 93.3004 198.38 102.05 Q198.38 110.777 195.301 115.384 Q192.246 119.967 186.436 119.967 Q180.626 119.967 177.547 115.384 Q174.491 110.777 174.491 102.05 Q174.491 93.3004 177.547 88.717 Q180.626 84.1106 186.436 84.1106 Z\" fill=\"#000000\" fill-rule=\"nonzero\" fill-opacity=\"1\" /><path clip-path=\"url(#clip850)\" d=\"M42.4881 1009.19 L64.0042 1009.19 L64.0042 1015.05 L42.679 1015.05 Q37.6183 1015.05 35.1038 1017.02 Q32.5894 1019 32.5894 1022.94 Q32.5894 1027.68 35.6131 1030.42 Q38.6368 1033.16 43.8567 1033.16 L64.0042 1033.16 L64.0042 1039.05 L28.3562 1039.05 L28.3562 1033.16 L33.8944 1033.16 Q30.6797 1031.06 29.0883 1028.23 Q27.4968 1025.36 27.4968 1021.64 Q27.4968 1015.49 31.3163 1012.34 Q35.1038 1009.19 42.4881 1009.19 Z\" fill=\"#000000\" fill-rule=\"nonzero\" fill-opacity=\"1\" /><path clip-path=\"url(#clip850)\" d=\"M49.9359 998.116 L28.3562 998.116 L28.3562 992.259 L49.7131 992.259 Q54.7739 992.259 57.3202 990.286 Q59.8346 988.312 59.8346 984.366 Q59.8346 979.623 56.8109 976.886 Q53.7872 974.117 48.5673 974.117 L28.3562 974.117 L28.3562 968.26 L64.0042 968.26 L64.0042 974.117 L58.5296 974.117 Q61.7762 976.249 63.3676 979.082 Q64.9272 981.883 64.9272 985.607 Q64.9272 991.75 61.1078 994.933 Q57.2883 998.116 49.9359 998.116 M27.4968 983.379 L27.4968 983.379 Z\" fill=\"#000000\" fill-rule=\"nonzero\" fill-opacity=\"1\" /><path clip-path=\"url(#clip850)\" d=\"M35.1993 928.443 Q31.2526 926.247 29.3747 923.191 Q27.4968 920.136 27.4968 915.998 Q27.4968 910.428 31.4117 907.404 Q35.2948 904.381 42.4881 904.381 L64.0042 904.381 L64.0042 910.269 L42.679 910.269 Q37.5546 910.269 35.072 912.083 Q32.5894 913.897 32.5894 917.621 Q32.5894 922.173 35.6131 924.815 Q38.6368 927.456 43.8567 927.456 L64.0042 927.456 L64.0042 933.345 L42.679 933.345 Q37.5228 933.345 35.072 935.159 Q32.5894 936.973 32.5894 940.761 Q32.5894 945.248 35.6449 947.89 Q38.6686 950.532 43.8567 950.532 L64.0042 950.532 L64.0042 956.42 L28.3562 956.42 L28.3562 950.532 L33.8944 950.532 Q30.616 948.527 29.0564 945.726 Q27.4968 942.925 27.4968 939.074 Q27.4968 935.191 29.4702 932.485 Q31.4436 929.748 35.1993 928.443 Z\" fill=\"#000000\" fill-rule=\"nonzero\" fill-opacity=\"1\" /><path clip-path=\"url(#clip850)\" d=\"M46.212 867.109 Q39.7508 867.109 36.0905 869.783 Q32.3984 872.425 32.3984 877.072 Q32.3984 881.719 36.0905 884.392 Q39.7508 887.034 46.212 887.034 Q52.6732 887.034 56.3653 884.392 Q60.0256 881.719 60.0256 877.072 Q60.0256 872.425 56.3653 869.783 Q52.6732 867.109 46.212 867.109 M33.7671 887.034 Q30.5842 885.188 29.0564 882.387 Q27.4968 879.554 27.4968 875.639 Q27.4968 869.146 32.6531 865.104 Q37.8093 861.03 46.212 861.03 Q54.6147 861.03 59.771 865.104 Q64.9272 869.146 64.9272 875.639 Q64.9272 879.554 63.3994 882.387 Q61.8398 885.188 58.657 887.034 L64.0042 887.034 L64.0042 892.922 L14.479 892.922 L14.479 887.034 L33.7671 887.034 Z\" fill=\"#000000\" fill-rule=\"nonzero\" fill-opacity=\"1\" /><path clip-path=\"url(#clip850)\" d=\"M44.7161 820.831 L47.5806 820.831 L47.5806 847.758 Q53.6281 847.376 56.8109 844.129 Q59.9619 840.851 59.9619 835.026 Q59.9619 831.652 59.1344 828.501 Q58.3069 825.319 56.6518 822.199 L62.1899 822.199 Q63.5267 825.35 64.227 828.661 Q64.9272 831.971 64.9272 835.376 Q64.9272 843.906 59.9619 848.903 Q54.9967 853.869 46.5303 853.869 Q37.7774 853.869 32.6531 849.158 Q27.4968 844.416 27.4968 836.395 Q27.4968 829.202 32.1438 825.032 Q36.7589 820.831 44.7161 820.831 M42.9973 826.687 Q38.1912 826.751 35.3266 829.393 Q32.4621 832.003 32.4621 836.331 Q32.4621 841.233 35.2312 844.193 Q38.0002 847.121 43.0292 847.567 L42.9973 826.687 Z\" fill=\"#000000\" fill-rule=\"nonzero\" fill-opacity=\"1\" /><path clip-path=\"url(#clip850)\" d=\"M33.8307 790.562 Q33.2578 791.548 33.0032 792.726 Q32.7167 793.872 32.7167 795.272 Q32.7167 800.238 35.9632 802.911 Q39.1779 805.553 45.2253 805.553 L64.0042 805.553 L64.0042 811.441 L28.3562 811.441 L28.3562 805.553 L33.8944 805.553 Q30.6479 803.707 29.0883 800.747 Q27.4968 797.787 27.4968 793.554 Q27.4968 792.949 27.5923 792.217 Q27.656 791.485 27.8151 790.594 L33.8307 790.562 Z\" fill=\"#000000\" fill-rule=\"nonzero\" fill-opacity=\"1\" /><path clip-path=\"url(#clip850)\" d=\"M32.4621 749.885 Q32.4621 754.596 36.1542 757.333 Q39.8145 760.07 46.212 760.07 Q52.6095 760.07 56.3017 757.365 Q59.9619 754.627 59.9619 749.885 Q59.9619 745.206 56.2698 742.469 Q52.5777 739.732 46.212 739.732 Q39.8781 739.732 36.186 742.469 Q32.4621 745.206 32.4621 749.885 M27.4968 749.885 Q27.4968 742.246 32.4621 737.886 Q37.4273 733.525 46.212 733.525 Q54.9649 733.525 59.9619 737.886 Q64.9272 742.246 64.9272 749.885 Q64.9272 757.556 59.9619 761.916 Q54.9649 766.245 46.212 766.245 Q37.4273 766.245 32.4621 761.916 Q27.4968 757.556 27.4968 749.885 Z\" fill=\"#000000\" fill-rule=\"nonzero\" fill-opacity=\"1\" /><path clip-path=\"url(#clip850)\" d=\"M14.479 705.771 L19.3487 705.771 L19.3487 711.372 Q19.3487 714.523 20.6219 715.765 Q21.895 716.974 25.2052 716.974 L28.3562 716.974 L28.3562 707.33 L32.9077 707.33 L32.9077 716.974 L64.0042 716.974 L64.0042 722.862 L32.9077 722.862 L32.9077 728.464 L28.3562 728.464 L28.3562 722.862 L25.8736 722.862 Q19.9216 722.862 17.2162 720.093 Q14.479 717.324 14.479 711.309 L14.479 705.771 Z\" fill=\"#000000\" fill-rule=\"nonzero\" fill-opacity=\"1\" /><path clip-path=\"url(#clip850)\" d=\"M58.657 674.483 L77.5631 674.483 L77.5631 680.371 L28.3562 680.371 L28.3562 674.483 L33.7671 674.483 Q30.5842 672.637 29.0564 669.836 Q27.4968 667.003 27.4968 663.089 Q27.4968 656.595 32.6531 652.553 Q37.8093 648.479 46.212 648.479 Q54.6147 648.479 59.771 652.553 Q64.9272 656.595 64.9272 663.089 Q64.9272 667.003 63.3994 669.836 Q61.8398 672.637 58.657 674.483 M46.212 654.558 Q39.7508 654.558 36.0905 657.232 Q32.3984 659.874 32.3984 664.521 Q32.3984 669.168 36.0905 671.841 Q39.7508 674.483 46.212 674.483 Q52.6732 674.483 56.3653 671.841 Q60.0256 669.168 60.0256 664.521 Q60.0256 659.874 56.3653 657.232 Q52.6732 654.558 46.212 654.558 Z\" fill=\"#000000\" fill-rule=\"nonzero\" fill-opacity=\"1\" /><path clip-path=\"url(#clip850)\" d=\"M46.0847 622.571 Q46.0847 629.669 47.7079 632.406 Q49.3312 635.143 53.2461 635.143 Q56.3653 635.143 58.2114 633.106 Q60.0256 631.037 60.0256 627.504 Q60.0256 622.634 56.5881 619.706 Q53.1188 616.746 47.3897 616.746 L46.0847 616.746 L46.0847 622.571 M43.6657 610.89 L64.0042 610.89 L64.0042 616.746 L58.5933 616.746 Q61.8398 618.751 63.3994 621.743 Q64.9272 624.735 64.9272 629.064 Q64.9272 634.538 61.8716 637.785 Q58.7843 641 53.6281 641 Q47.6125 641 44.5569 636.989 Q41.5014 632.947 41.5014 624.958 L41.5014 616.746 L40.9285 616.746 Q36.8862 616.746 34.6901 619.42 Q32.4621 622.062 32.4621 626.868 Q32.4621 629.923 33.1941 632.82 Q33.9262 635.716 35.3903 638.39 L29.9795 638.39 Q28.7381 635.175 28.1334 632.151 Q27.4968 629.127 27.4968 626.263 Q27.4968 618.529 31.5072 614.709 Q35.5176 610.89 43.6657 610.89 Z\" fill=\"#000000\" fill-rule=\"nonzero\" fill-opacity=\"1\" /><path clip-path=\"url(#clip850)\" d=\"M18.2347 593.034 L28.3562 593.034 L28.3562 580.971 L32.9077 580.971 L32.9077 593.034 L52.2594 593.034 Q56.6199 593.034 57.8613 591.856 Q59.1026 590.647 59.1026 586.986 L59.1026 580.971 L64.0042 580.971 L64.0042 586.986 Q64.0042 593.766 61.4897 596.344 Q58.9434 598.922 52.2594 598.922 L32.9077 598.922 L32.9077 603.219 L28.3562 603.219 L28.3562 598.922 L18.2347 598.922 L18.2347 593.034 Z\" fill=\"#000000\" fill-rule=\"nonzero\" fill-opacity=\"1\" /><path clip-path=\"url(#clip850)\" d=\"M29.7248 547.615 L35.1993 547.615 Q33.8307 550.097 33.1623 552.612 Q32.4621 555.094 32.4621 557.641 Q32.4621 563.338 36.0905 566.489 Q39.6872 569.64 46.212 569.64 Q52.7369 569.64 56.3653 566.489 Q59.9619 563.338 59.9619 557.641 Q59.9619 555.094 59.2935 552.612 Q58.5933 550.097 57.2247 547.615 L62.6355 547.615 Q63.7814 550.065 64.3543 552.707 Q64.9272 555.317 64.9272 558.277 Q64.9272 566.33 59.8664 571.072 Q54.8057 575.815 46.212 575.815 Q37.491 575.815 32.4939 571.04 Q27.4968 566.234 27.4968 557.895 Q27.4968 555.19 28.0697 552.612 Q28.6108 550.034 29.7248 547.615 Z\" fill=\"#000000\" fill-rule=\"nonzero\" fill-opacity=\"1\" /><path clip-path=\"url(#clip850)\" d=\"M42.4881 507.797 L64.0042 507.797 L64.0042 513.654 L42.679 513.654 Q37.6183 513.654 35.1038 515.627 Q32.5894 517.6 32.5894 521.547 Q32.5894 526.289 35.6131 529.027 Q38.6368 531.764 43.8567 531.764 L64.0042 531.764 L64.0042 537.652 L14.479 537.652 L14.479 531.764 L33.8944 531.764 Q30.6797 529.663 29.0883 526.831 Q27.4968 523.966 27.4968 520.242 Q27.4968 514.099 31.3163 510.948 Q35.1038 507.797 42.4881 507.797 Z\" fill=\"#000000\" fill-rule=\"nonzero\" fill-opacity=\"1\" /><path clip-path=\"url(#clip850)\" d=\"M44.7161 465.624 L47.5806 465.624 L47.5806 492.551 Q53.6281 492.169 56.8109 488.923 Q59.9619 485.644 59.9619 479.82 Q59.9619 476.446 59.1344 473.295 Q58.3069 470.112 56.6518 466.993 L62.1899 466.993 Q63.5267 470.144 64.227 473.454 Q64.9272 476.764 64.9272 480.17 Q64.9272 488.7 59.9619 493.697 Q54.9967 498.662 46.5303 498.662 Q37.7774 498.662 32.6531 493.952 Q27.4968 489.209 27.4968 481.188 Q27.4968 473.995 32.1438 469.826 Q36.7589 465.624 44.7161 465.624 M42.9973 471.481 Q38.1912 471.544 35.3266 474.186 Q32.4621 476.796 32.4621 481.125 Q32.4621 486.026 35.2312 488.986 Q38.0002 491.915 43.0292 492.36 L42.9973 471.481 Z\" fill=\"#000000\" fill-rule=\"nonzero\" fill-opacity=\"1\" /><path clip-path=\"url(#clip850)\" d=\"M29.4065 433.287 L34.9447 433.287 Q33.6716 435.769 33.035 438.443 Q32.3984 441.116 32.3984 443.981 Q32.3984 448.341 33.7352 450.538 Q35.072 452.702 37.7456 452.702 Q39.7826 452.702 40.9603 451.142 Q42.1061 449.583 43.1565 444.872 L43.6021 442.867 Q44.9389 436.628 47.3897 434.019 Q49.8086 431.377 54.1691 431.377 Q59.1344 431.377 62.0308 435.324 Q64.9272 439.238 64.9272 446.113 Q64.9272 448.978 64.3543 452.097 Q63.8132 455.185 62.6992 458.622 L56.6518 458.622 Q58.3387 455.376 59.198 452.224 Q60.0256 449.073 60.0256 445.986 Q60.0256 441.848 58.6251 439.62 Q57.1929 437.392 54.6147 437.392 Q52.2276 437.392 50.9545 439.016 Q49.6813 440.607 48.5037 446.05 L48.0262 448.087 Q46.8804 453.529 44.5251 455.948 Q42.138 458.367 38.0002 458.367 Q32.9713 458.367 30.2341 454.803 Q27.4968 451.238 27.4968 444.681 Q27.4968 441.435 27.9743 438.57 Q28.4517 435.705 29.4065 433.287 Z\" fill=\"#000000\" fill-rule=\"nonzero\" fill-opacity=\"1\" /><polyline clip-path=\"url(#clip852)\" style=\"stroke:#009af9; stroke-linecap:round; stroke-linejoin:round; stroke-width:4; stroke-opacity:1; fill:none\" points=\"294.334,291.974 299.33,196.995 304.326,102.016 309.323,86.1857 314.319,165.335 319.315,165.335 324.311,149.505 329.307,133.675 334.303,181.165 339.3,196.995 344.296,133.675 349.292,165.335 354.288,102.016 359.284,133.675 364.28,102.016 369.277,165.335 374.273,149.505 379.269,181.165 384.265,165.335 389.261,212.825 394.257,228.655 399.254,276.145 404.25,307.804 409.246,291.974 414.242,307.804 419.238,307.804 424.235,307.804 429.231,307.804 434.227,276.145 439.223,307.804 444.219,323.634 449.215,323.634 454.212,323.634 459.208,323.634 464.204,323.634 469.2,307.804 474.196,307.804 479.192,307.804 484.189,307.804 489.185,307.804 494.181,323.634 499.177,323.634 504.173,323.634 509.169,323.634 514.166,323.634 519.162,323.634 524.158,323.634 529.154,323.634 534.15,323.634 539.146,323.634 544.143,323.634 549.139,323.634 554.135,323.634 559.131,323.634 564.127,323.634 569.123,323.634 574.12,323.634 579.116,323.634 584.112,323.634 589.108,323.634 594.104,323.634 599.1,323.634 604.097,323.634 609.093,323.634 614.089,323.634 619.085,323.634 624.081,323.634 629.077,323.634 634.074,323.634 639.07,323.634 644.066,323.634 649.062,323.634 654.058,323.634 659.054,323.634 664.051,323.634 669.047,323.634 674.043,323.634 679.039,323.634 684.035,323.634 689.031,323.634 694.028,323.634 699.024,323.634 704.02,323.634 709.016,323.634 714.012,323.634 719.009,323.634 724.005,323.634 729.001,323.634 733.997,323.634 738.993,323.634 743.989,323.634 748.986,323.634 753.982,323.634 758.978,323.634 763.974,323.634 768.97,323.634 773.966,323.634 778.963,323.634 783.959,323.634 788.955,323.634 793.951,323.634 798.947,323.634 803.943,323.634 808.94,323.634 813.936,323.634 818.932,323.634 823.928,323.634 828.924,323.634 833.92,323.634 838.917,323.634 843.913,323.634 848.909,323.634 853.905,323.634 858.901,323.634 863.897,323.634 868.894,323.634 873.89,323.634 878.886,323.634 883.882,323.634 888.878,323.634 893.874,323.634 898.871,323.634 903.867,323.634 908.863,323.634 913.859,323.634 918.855,323.634 923.851,323.634 928.848,323.634 933.844,323.634 938.84,323.634 943.836,323.634 948.832,323.634 953.828,323.634 958.825,323.634 963.821,323.634 968.817,323.634 973.813,323.634 978.809,323.634 983.805,323.634 988.802,323.634 993.798,323.634 998.794,323.634 1003.79,323.634 1008.79,323.634 1013.78,323.634 1018.78,323.634 1023.77,323.634 1028.77,323.634 1033.77,323.634 1038.76,323.634 1043.76,323.634 1048.76,323.634 1053.75,323.634 1058.75,323.634 1063.74,323.634 1068.74,323.634 1073.74,323.634 1078.73,323.634 1083.73,323.634 1088.73,323.634 1093.72,323.634 1098.72,323.634 1103.71,323.634 1108.71,323.634 1113.71,323.634 1118.7,323.634 1123.7,323.634 1128.69,323.634 1133.69,323.634 1138.69,323.634 1143.68,323.634 1148.68,323.634 1153.68,323.634 1158.67,323.634 1163.67,323.634 1168.66,323.634 1173.66,323.634 1178.66,323.634 1183.65,323.634 1188.65,323.634 1193.64,323.634 1198.64,323.634 1203.64,323.634 1208.63,323.634 1213.63,323.634 1218.63,323.634 1223.62,323.634 1228.62,323.634 1233.61,323.634 1238.61,323.634 1243.61,323.634 1248.6,323.634 1253.6,323.634 1258.59,323.634 1263.59,323.634 1268.59,323.634 1273.58,323.634 1278.58,323.634 1283.58,323.634 1288.57,323.634 1293.57,323.634 1298.56,323.634 1303.56,323.634 1308.56,323.634 1313.55,323.634 1318.55,323.634 1323.55,323.634 1328.54,323.634 1333.54,323.634 1338.53,323.634 1343.53,323.634 1348.53,323.634 1353.52,323.634 1358.52,323.634 1363.51,323.634 1368.51,323.634 1373.51,323.634 1378.5,323.634 1383.5,323.634 1388.5,323.634 1393.49,323.634 1398.49,323.634 1403.48,323.634 1408.48,323.634 1413.48,323.634 1418.47,323.634 1423.47,323.634 1428.46,323.634 1433.46,323.634 1438.46,323.634 1443.45,323.634 1448.45,323.634 1453.45,323.634 1458.44,323.634 1463.44,323.634 1468.43,323.634 1473.43,323.634 1478.43,323.634 1483.42,323.634 1488.42,323.634 1493.41,323.634 1498.41,323.634 1503.41,323.634 1508.4,323.634 1513.4,323.634 1518.4,323.634 1523.39,323.634 1528.39,323.634 1533.38,323.634 1538.38,323.634 1543.38,323.634 1548.37,323.634 1553.37,323.634 1558.36,323.634 1563.36,323.634 1568.36,323.634 1573.35,323.634 1578.35,323.634 1583.35,323.634 1588.34,323.634 1593.34,323.634 1598.33,323.634 1603.33,323.634 1608.33,323.634 1613.32,323.634 1618.32,323.634 1623.32,323.634 1628.31,323.634 1633.31,323.634 1638.3,323.634 1643.3,323.634 1648.3,323.634 1653.29,323.634 1658.29,323.634 1663.28,323.634 1668.28,323.634 1673.28,323.634 1678.27,323.634 1683.27,323.634 1688.27,323.634 1693.26,323.634 1698.26,323.634 1703.25,323.634 1708.25,323.634 1713.25,323.634 1718.24,323.634 1723.24,323.634 1728.23,323.634 1733.23,323.634 1738.23,323.634 1743.22,323.634 1748.22,323.634 1753.22,323.634 1758.21,323.634 1763.21,323.634 1768.2,323.634 1773.2,323.634 1778.2,323.634 1783.19,323.634 1788.19,323.634 1793.18,323.634 1798.18,323.634 1803.18,323.634 1808.17,323.634 1813.17,323.634 1818.17,323.634 1823.16,323.634 1828.16,323.634 1833.15,323.634 1838.15,323.634 1843.15,323.634 1848.14,323.634 1853.14,323.634 1858.14,323.634 1863.13,323.634 1868.13,323.634 1873.12,323.634 1878.12,323.634 1883.12,323.634 1888.11,323.634 1893.11,323.634 1898.1,323.634 1903.1,323.634 1908.1,323.634 1913.09,323.634 1918.09,323.634 1923.09,323.634 1928.08,323.634 1933.08,323.634 1938.07,323.634 1943.07,323.634 1948.07,323.634 1953.06,323.634 1958.06,323.634 1963.05,323.634 1968.05,323.634 1973.05,323.634 1978.04,323.634 1983.04,323.634 1988.04,323.634 1993.03,323.634 1998.03,323.634 2003.02,323.634 2008.02,323.634 2013.02,323.634 2018.01,323.634 2023.01,323.634 2028,323.634 2033,323.634 2038,323.634 2042.99,323.634 2047.99,323.634 2052.99,323.634 2057.98,323.634 2062.98,323.634 2067.97,323.634 2072.97,323.634 2077.97,323.634 2082.96,323.634 2087.96,323.634 2092.96,323.634 2097.95,323.634 2102.95,323.634 2107.94,323.634 2112.94,323.634 2117.94,323.634 2122.93,323.634 2127.93,323.634 2132.92,323.634 2137.92,323.634 2142.92,323.634 2147.91,323.634 2152.91,323.634 2157.91,323.634 2162.9,323.634 2167.9,323.634 2172.89,323.634 2177.89,323.634 2182.89,323.634 2187.88,323.634 2192.88,323.634 2197.87,323.634 2202.87,323.634 2207.87,323.634 2212.86,323.634 2217.86,323.634 2222.86,323.634 2227.85,323.634 2232.85,323.634 2237.84,323.634 2242.84,323.634 2247.84,323.634 2252.83,323.634 2257.83,323.634 2262.82,323.634 2267.82,323.634 2272.82,323.634 2277.81,323.634 2282.81,323.634 2287.81,323.634 2292.8,323.634 \"/>\n<polyline clip-path=\"url(#clip852)\" style=\"stroke:#e26f46; stroke-linecap:round; stroke-linejoin:round; stroke-width:4; stroke-opacity:1; fill:none\" points=\"294.334,972.661 299.33,1004.32 304.326,1035.98 309.323,1115.13 314.319,1178.45 319.315,1194.28 324.311,1194.28 329.307,1305.09 334.303,1305.09 339.3,1289.26 344.296,1289.26 349.292,1273.43 354.288,1289.26 359.284,1225.94 364.28,1241.77 369.277,1257.6 374.273,1273.43 379.269,1273.43 384.265,1273.43 389.261,1273.43 394.257,1225.94 399.254,1225.94 404.25,1210.11 409.246,1210.11 414.242,1194.28 419.238,1194.28 424.235,1210.11 429.231,1194.28 434.227,1225.94 439.223,1241.77 444.219,1225.94 449.215,1210.11 454.212,1210.11 459.208,1210.11 464.204,1210.11 469.2,1225.94 474.196,1225.94 479.192,1225.94 484.189,1225.94 489.185,1225.94 494.181,1225.94 499.177,1225.94 504.173,1225.94 509.169,1225.94 514.166,1225.94 519.162,1225.94 524.158,1225.94 529.154,1225.94 534.15,1225.94 539.146,1225.94 544.143,1225.94 549.139,1225.94 554.135,1225.94 559.131,1225.94 564.127,1225.94 569.123,1225.94 574.12,1225.94 579.116,1225.94 584.112,1225.94 589.108,1225.94 594.104,1225.94 599.1,1225.94 604.097,1225.94 609.093,1225.94 614.089,1225.94 619.085,1225.94 624.081,1225.94 629.077,1225.94 634.074,1225.94 639.07,1225.94 644.066,1225.94 649.062,1225.94 654.058,1225.94 659.054,1225.94 664.051,1225.94 669.047,1225.94 674.043,1225.94 679.039,1225.94 684.035,1225.94 689.031,1225.94 694.028,1225.94 699.024,1225.94 704.02,1225.94 709.016,1225.94 714.012,1225.94 719.009,1225.94 724.005,1225.94 729.001,1225.94 733.997,1225.94 738.993,1225.94 743.989,1225.94 748.986,1225.94 753.982,1225.94 758.978,1225.94 763.974,1225.94 768.97,1225.94 773.966,1225.94 778.963,1225.94 783.959,1225.94 788.955,1225.94 793.951,1225.94 798.947,1225.94 803.943,1225.94 808.94,1225.94 813.936,1225.94 818.932,1225.94 823.928,1225.94 828.924,1225.94 833.92,1225.94 838.917,1225.94 843.913,1225.94 848.909,1225.94 853.905,1225.94 858.901,1225.94 863.897,1225.94 868.894,1225.94 873.89,1225.94 878.886,1225.94 883.882,1225.94 888.878,1225.94 893.874,1225.94 898.871,1225.94 903.867,1225.94 908.863,1225.94 913.859,1225.94 918.855,1225.94 923.851,1225.94 928.848,1225.94 933.844,1225.94 938.84,1225.94 943.836,1225.94 948.832,1225.94 953.828,1225.94 958.825,1225.94 963.821,1225.94 968.817,1225.94 973.813,1225.94 978.809,1225.94 983.805,1225.94 988.802,1225.94 993.798,1225.94 998.794,1225.94 1003.79,1225.94 1008.79,1225.94 1013.78,1225.94 1018.78,1225.94 1023.77,1225.94 1028.77,1225.94 1033.77,1225.94 1038.76,1225.94 1043.76,1225.94 1048.76,1225.94 1053.75,1225.94 1058.75,1225.94 1063.74,1225.94 1068.74,1225.94 1073.74,1225.94 1078.73,1225.94 1083.73,1225.94 1088.73,1225.94 1093.72,1225.94 1098.72,1225.94 1103.71,1225.94 1108.71,1225.94 1113.71,1225.94 1118.7,1225.94 1123.7,1225.94 1128.69,1225.94 1133.69,1225.94 1138.69,1225.94 1143.68,1225.94 1148.68,1225.94 1153.68,1225.94 1158.67,1225.94 1163.67,1225.94 1168.66,1225.94 1173.66,1225.94 1178.66,1225.94 1183.65,1225.94 1188.65,1225.94 1193.64,1225.94 1198.64,1225.94 1203.64,1225.94 1208.63,1225.94 1213.63,1225.94 1218.63,1225.94 1223.62,1225.94 1228.62,1225.94 1233.61,1225.94 1238.61,1225.94 1243.61,1225.94 1248.6,1225.94 1253.6,1225.94 1258.59,1225.94 1263.59,1225.94 1268.59,1225.94 1273.58,1225.94 1278.58,1225.94 1283.58,1225.94 1288.57,1225.94 1293.57,1225.94 1298.56,1225.94 1303.56,1225.94 1308.56,1225.94 1313.55,1225.94 1318.55,1225.94 1323.55,1225.94 1328.54,1225.94 1333.54,1225.94 1338.53,1225.94 1343.53,1225.94 1348.53,1225.94 1353.52,1225.94 1358.52,1225.94 1363.51,1225.94 1368.51,1225.94 1373.51,1225.94 1378.5,1225.94 1383.5,1225.94 1388.5,1225.94 1393.49,1225.94 1398.49,1225.94 1403.48,1225.94 1408.48,1225.94 1413.48,1225.94 1418.47,1225.94 1423.47,1225.94 1428.46,1225.94 1433.46,1225.94 1438.46,1225.94 1443.45,1225.94 1448.45,1225.94 1453.45,1225.94 1458.44,1225.94 1463.44,1225.94 1468.43,1225.94 1473.43,1225.94 1478.43,1225.94 1483.42,1225.94 1488.42,1225.94 1493.41,1225.94 1498.41,1225.94 1503.41,1225.94 1508.4,1225.94 1513.4,1225.94 1518.4,1225.94 1523.39,1225.94 1528.39,1225.94 1533.38,1225.94 1538.38,1225.94 1543.38,1225.94 1548.37,1225.94 1553.37,1225.94 1558.36,1225.94 1563.36,1225.94 1568.36,1225.94 1573.35,1225.94 1578.35,1225.94 1583.35,1225.94 1588.34,1225.94 1593.34,1225.94 1598.33,1225.94 1603.33,1225.94 1608.33,1225.94 1613.32,1225.94 1618.32,1225.94 1623.32,1225.94 1628.31,1225.94 1633.31,1225.94 1638.3,1225.94 1643.3,1225.94 1648.3,1225.94 1653.29,1225.94 1658.29,1225.94 1663.28,1225.94 1668.28,1225.94 1673.28,1225.94 1678.27,1225.94 1683.27,1225.94 1688.27,1225.94 1693.26,1225.94 1698.26,1225.94 1703.25,1225.94 1708.25,1225.94 1713.25,1225.94 1718.24,1225.94 1723.24,1225.94 1728.23,1225.94 1733.23,1225.94 1738.23,1225.94 1743.22,1225.94 1748.22,1225.94 1753.22,1225.94 1758.21,1225.94 1763.21,1225.94 1768.2,1225.94 1773.2,1225.94 1778.2,1225.94 1783.19,1225.94 1788.19,1225.94 1793.18,1225.94 1798.18,1225.94 1803.18,1225.94 1808.17,1225.94 1813.17,1225.94 1818.17,1225.94 1823.16,1225.94 1828.16,1225.94 1833.15,1225.94 1838.15,1225.94 1843.15,1225.94 1848.14,1225.94 1853.14,1225.94 1858.14,1225.94 1863.13,1225.94 1868.13,1225.94 1873.12,1225.94 1878.12,1225.94 1883.12,1225.94 1888.11,1225.94 1893.11,1225.94 1898.1,1225.94 1903.1,1225.94 1908.1,1225.94 1913.09,1225.94 1918.09,1225.94 1923.09,1225.94 1928.08,1225.94 1933.08,1225.94 1938.07,1225.94 1943.07,1225.94 1948.07,1225.94 1953.06,1225.94 1958.06,1225.94 1963.05,1225.94 1968.05,1225.94 1973.05,1225.94 1978.04,1225.94 1983.04,1225.94 1988.04,1225.94 1993.03,1225.94 1998.03,1225.94 2003.02,1225.94 2008.02,1225.94 2013.02,1225.94 2018.01,1225.94 2023.01,1225.94 2028,1225.94 2033,1225.94 2038,1225.94 2042.99,1225.94 2047.99,1225.94 2052.99,1225.94 2057.98,1225.94 2062.98,1225.94 2067.97,1225.94 2072.97,1225.94 2077.97,1225.94 2082.96,1225.94 2087.96,1225.94 2092.96,1225.94 2097.95,1225.94 2102.95,1225.94 2107.94,1225.94 2112.94,1225.94 2117.94,1225.94 2122.93,1225.94 2127.93,1225.94 2132.92,1225.94 2137.92,1225.94 2142.92,1225.94 2147.91,1225.94 2152.91,1225.94 2157.91,1225.94 2162.9,1225.94 2167.9,1225.94 2172.89,1225.94 2177.89,1225.94 2182.89,1225.94 2187.88,1225.94 2192.88,1225.94 2197.87,1225.94 2202.87,1225.94 2207.87,1225.94 2212.86,1225.94 2217.86,1225.94 2222.86,1225.94 2227.85,1225.94 2232.85,1225.94 2237.84,1225.94 2242.84,1225.94 2247.84,1225.94 2252.83,1225.94 2257.83,1225.94 2262.82,1225.94 2267.82,1225.94 2272.82,1225.94 2277.81,1225.94 2282.81,1225.94 2287.81,1225.94 2292.8,1225.94 \"/>\n<polyline clip-path=\"url(#clip852)\" style=\"stroke:#3da44d; stroke-linecap:round; stroke-linejoin:round; stroke-width:4; stroke-opacity:1; fill:none\" points=\"294.334,1257.6 299.33,1320.92 304.326,1384.24 309.323,1320.92 314.319,1178.45 319.315,1162.62 324.311,1178.45 329.307,1083.47 334.303,1035.98 339.3,1035.98 344.296,1099.3 349.292,1083.47 354.288,1130.96 359.284,1162.62 364.28,1178.45 369.277,1099.3 374.273,1099.3 379.269,1067.64 384.265,1083.47 389.261,1035.98 394.257,1067.64 399.254,1020.15 404.25,1004.32 409.246,1020.15 414.242,1020.15 419.238,1020.15 424.235,1004.32 429.231,1020.15 434.227,1020.15 439.223,972.661 444.219,972.661 449.215,988.491 454.212,988.491 459.208,988.491 464.204,988.491 469.2,988.491 474.196,988.491 479.192,988.491 484.189,988.491 489.185,988.491 494.181,972.661 499.177,972.661 504.173,972.661 509.169,972.661 514.166,972.661 519.162,972.661 524.158,972.661 529.154,972.661 534.15,972.661 539.146,972.661 544.143,972.661 549.139,972.661 554.135,972.661 559.131,972.661 564.127,972.661 569.123,972.661 574.12,972.661 579.116,972.661 584.112,972.661 589.108,972.661 594.104,972.661 599.1,972.661 604.097,972.661 609.093,972.661 614.089,972.661 619.085,972.661 624.081,972.661 629.077,972.661 634.074,972.661 639.07,972.661 644.066,972.661 649.062,972.661 654.058,972.661 659.054,972.661 664.051,972.661 669.047,972.661 674.043,972.661 679.039,972.661 684.035,972.661 689.031,972.661 694.028,972.661 699.024,972.661 704.02,972.661 709.016,972.661 714.012,972.661 719.009,972.661 724.005,972.661 729.001,972.661 733.997,972.661 738.993,972.661 743.989,972.661 748.986,972.661 753.982,972.661 758.978,972.661 763.974,972.661 768.97,972.661 773.966,972.661 778.963,972.661 783.959,972.661 788.955,972.661 793.951,972.661 798.947,972.661 803.943,972.661 808.94,972.661 813.936,972.661 818.932,972.661 823.928,972.661 828.924,972.661 833.92,972.661 838.917,972.661 843.913,972.661 848.909,972.661 853.905,972.661 858.901,972.661 863.897,972.661 868.894,972.661 873.89,972.661 878.886,972.661 883.882,972.661 888.878,972.661 893.874,972.661 898.871,972.661 903.867,972.661 908.863,972.661 913.859,972.661 918.855,972.661 923.851,972.661 928.848,972.661 933.844,972.661 938.84,972.661 943.836,972.661 948.832,972.661 953.828,972.661 958.825,972.661 963.821,972.661 968.817,972.661 973.813,972.661 978.809,972.661 983.805,972.661 988.802,972.661 993.798,972.661 998.794,972.661 1003.79,972.661 1008.79,972.661 1013.78,972.661 1018.78,972.661 1023.77,972.661 1028.77,972.661 1033.77,972.661 1038.76,972.661 1043.76,972.661 1048.76,972.661 1053.75,972.661 1058.75,972.661 1063.74,972.661 1068.74,972.661 1073.74,972.661 1078.73,972.661 1083.73,972.661 1088.73,972.661 1093.72,972.661 1098.72,972.661 1103.71,972.661 1108.71,972.661 1113.71,972.661 1118.7,972.661 1123.7,972.661 1128.69,972.661 1133.69,972.661 1138.69,972.661 1143.68,972.661 1148.68,972.661 1153.68,972.661 1158.67,972.661 1163.67,972.661 1168.66,972.661 1173.66,972.661 1178.66,972.661 1183.65,972.661 1188.65,972.661 1193.64,972.661 1198.64,972.661 1203.64,972.661 1208.63,972.661 1213.63,972.661 1218.63,972.661 1223.62,972.661 1228.62,972.661 1233.61,972.661 1238.61,972.661 1243.61,972.661 1248.6,972.661 1253.6,972.661 1258.59,972.661 1263.59,972.661 1268.59,972.661 1273.58,972.661 1278.58,972.661 1283.58,972.661 1288.57,972.661 1293.57,972.661 1298.56,972.661 1303.56,972.661 1308.56,972.661 1313.55,972.661 1318.55,972.661 1323.55,972.661 1328.54,972.661 1333.54,972.661 1338.53,972.661 1343.53,972.661 1348.53,972.661 1353.52,972.661 1358.52,972.661 1363.51,972.661 1368.51,972.661 1373.51,972.661 1378.5,972.661 1383.5,972.661 1388.5,972.661 1393.49,972.661 1398.49,972.661 1403.48,972.661 1408.48,972.661 1413.48,972.661 1418.47,972.661 1423.47,972.661 1428.46,972.661 1433.46,972.661 1438.46,972.661 1443.45,972.661 1448.45,972.661 1453.45,972.661 1458.44,972.661 1463.44,972.661 1468.43,972.661 1473.43,972.661 1478.43,972.661 1483.42,972.661 1488.42,972.661 1493.41,972.661 1498.41,972.661 1503.41,972.661 1508.4,972.661 1513.4,972.661 1518.4,972.661 1523.39,972.661 1528.39,972.661 1533.38,972.661 1538.38,972.661 1543.38,972.661 1548.37,972.661 1553.37,972.661 1558.36,972.661 1563.36,972.661 1568.36,972.661 1573.35,972.661 1578.35,972.661 1583.35,972.661 1588.34,972.661 1593.34,972.661 1598.33,972.661 1603.33,972.661 1608.33,972.661 1613.32,972.661 1618.32,972.661 1623.32,972.661 1628.31,972.661 1633.31,972.661 1638.3,972.661 1643.3,972.661 1648.3,972.661 1653.29,972.661 1658.29,972.661 1663.28,972.661 1668.28,972.661 1673.28,972.661 1678.27,972.661 1683.27,972.661 1688.27,972.661 1693.26,972.661 1698.26,972.661 1703.25,972.661 1708.25,972.661 1713.25,972.661 1718.24,972.661 1723.24,972.661 1728.23,972.661 1733.23,972.661 1738.23,972.661 1743.22,972.661 1748.22,972.661 1753.22,972.661 1758.21,972.661 1763.21,972.661 1768.2,972.661 1773.2,972.661 1778.2,972.661 1783.19,972.661 1788.19,972.661 1793.18,972.661 1798.18,972.661 1803.18,972.661 1808.17,972.661 1813.17,972.661 1818.17,972.661 1823.16,972.661 1828.16,972.661 1833.15,972.661 1838.15,972.661 1843.15,972.661 1848.14,972.661 1853.14,972.661 1858.14,972.661 1863.13,972.661 1868.13,972.661 1873.12,972.661 1878.12,972.661 1883.12,972.661 1888.11,972.661 1893.11,972.661 1898.1,972.661 1903.1,972.661 1908.1,972.661 1913.09,972.661 1918.09,972.661 1923.09,972.661 1928.08,972.661 1933.08,972.661 1938.07,972.661 1943.07,972.661 1948.07,972.661 1953.06,972.661 1958.06,972.661 1963.05,972.661 1968.05,972.661 1973.05,972.661 1978.04,972.661 1983.04,972.661 1988.04,972.661 1993.03,972.661 1998.03,972.661 2003.02,972.661 2008.02,972.661 2013.02,972.661 2018.01,972.661 2023.01,972.661 2028,972.661 2033,972.661 2038,972.661 2042.99,972.661 2047.99,972.661 2052.99,972.661 2057.98,972.661 2062.98,972.661 2067.97,972.661 2072.97,972.661 2077.97,972.661 2082.96,972.661 2087.96,972.661 2092.96,972.661 2097.95,972.661 2102.95,972.661 2107.94,972.661 2112.94,972.661 2117.94,972.661 2122.93,972.661 2127.93,972.661 2132.92,972.661 2137.92,972.661 2142.92,972.661 2147.91,972.661 2152.91,972.661 2157.91,972.661 2162.9,972.661 2167.9,972.661 2172.89,972.661 2177.89,972.661 2182.89,972.661 2187.88,972.661 2192.88,972.661 2197.87,972.661 2202.87,972.661 2207.87,972.661 2212.86,972.661 2217.86,972.661 2222.86,972.661 2227.85,972.661 2232.85,972.661 2237.84,972.661 2242.84,972.661 2247.84,972.661 2252.83,972.661 2257.83,972.661 2262.82,972.661 2267.82,972.661 2272.82,972.661 2277.81,972.661 2282.81,972.661 2287.81,972.661 2292.8,972.661 \"/>\n<path clip-path=\"url(#clip850)\" d=\"M1911.05 300.469 L2282.14 300.469 L2282.14 93.1086 L1911.05 93.1086  Z\" fill=\"#ffffff\" fill-rule=\"evenodd\" fill-opacity=\"1\"/>\n<polyline clip-path=\"url(#clip850)\" style=\"stroke:#000000; stroke-linecap:round; stroke-linejoin:round; stroke-width:4; stroke-opacity:1; fill:none\" points=\"1911.05,300.469 2282.14,300.469 2282.14,93.1086 1911.05,93.1086 1911.05,300.469 \"/>\n<polyline clip-path=\"url(#clip850)\" style=\"stroke:#009af9; stroke-linecap:round; stroke-linejoin:round; stroke-width:4; stroke-opacity:1; fill:none\" points=\"1934.58,144.949 2075.81,144.949 \"/>\n<path clip-path=\"url(#clip850)\" d=\"M2103.63 158.34 L2103.63 172.09 L2099.35 172.09 L2099.35 136.303 L2103.63 136.303 L2103.63 140.238 Q2104.97 137.923 2107.01 136.812 Q2109.07 135.678 2111.92 135.678 Q2116.64 135.678 2119.58 139.428 Q2122.54 143.178 2122.54 149.289 Q2122.54 155.4 2119.58 159.15 Q2116.64 162.9 2111.92 162.9 Q2109.07 162.9 2107.01 161.789 Q2104.97 160.655 2103.63 158.34 M2118.12 149.289 Q2118.12 144.59 2116.18 141.928 Q2114.25 139.243 2110.88 139.243 Q2107.5 139.243 2105.55 141.928 Q2103.63 144.59 2103.63 149.289 Q2103.63 153.988 2105.55 156.673 Q2107.5 159.335 2110.88 159.335 Q2114.25 159.335 2116.18 156.673 Q2118.12 153.988 2118.12 149.289 Z\" fill=\"#000000\" fill-rule=\"nonzero\" fill-opacity=\"1\" /><path clip-path=\"url(#clip850)\" d=\"M2141.38 149.196 Q2136.22 149.196 2134.23 150.377 Q2132.24 151.557 2132.24 154.405 Q2132.24 156.673 2133.72 158.016 Q2135.23 159.335 2137.8 159.335 Q2141.34 159.335 2143.47 156.835 Q2145.62 154.312 2145.62 150.145 L2145.62 149.196 L2141.38 149.196 M2149.88 147.437 L2149.88 162.229 L2145.62 162.229 L2145.62 158.293 Q2144.16 160.655 2141.99 161.789 Q2139.81 162.9 2136.66 162.9 Q2132.68 162.9 2130.32 160.678 Q2127.98 158.432 2127.98 154.682 Q2127.98 150.307 2130.9 148.085 Q2133.84 145.863 2139.65 145.863 L2145.62 145.863 L2145.62 145.446 Q2145.62 142.507 2143.68 140.909 Q2141.75 139.289 2138.26 139.289 Q2136.04 139.289 2133.93 139.821 Q2131.82 140.354 2129.88 141.419 L2129.88 137.483 Q2132.22 136.581 2134.42 136.141 Q2136.62 135.678 2138.7 135.678 Q2144.32 135.678 2147.1 138.594 Q2149.88 141.511 2149.88 147.437 Z\" fill=\"#000000\" fill-rule=\"nonzero\" fill-opacity=\"1\" /><path clip-path=\"url(#clip850)\" d=\"M2162.77 158.34 L2162.77 172.09 L2158.49 172.09 L2158.49 136.303 L2162.77 136.303 L2162.77 140.238 Q2164.12 137.923 2166.15 136.812 Q2168.21 135.678 2171.06 135.678 Q2175.78 135.678 2178.72 139.428 Q2181.68 143.178 2181.68 149.289 Q2181.68 155.4 2178.72 159.15 Q2175.78 162.9 2171.06 162.9 Q2168.21 162.9 2166.15 161.789 Q2164.12 160.655 2162.77 158.34 M2177.26 149.289 Q2177.26 144.59 2175.32 141.928 Q2173.4 139.243 2170.02 139.243 Q2166.64 139.243 2164.69 141.928 Q2162.77 144.59 2162.77 149.289 Q2162.77 153.988 2164.69 156.673 Q2166.64 159.335 2170.02 159.335 Q2173.4 159.335 2175.32 156.673 Q2177.26 153.988 2177.26 149.289 Z\" fill=\"#000000\" fill-rule=\"nonzero\" fill-opacity=\"1\" /><path clip-path=\"url(#clip850)\" d=\"M2210.92 148.201 L2210.92 150.284 L2191.34 150.284 Q2191.62 154.682 2193.98 156.997 Q2196.36 159.289 2200.6 159.289 Q2203.05 159.289 2205.34 158.687 Q2207.66 158.085 2209.93 156.881 L2209.93 160.909 Q2207.63 161.881 2205.23 162.391 Q2202.82 162.9 2200.34 162.9 Q2194.14 162.9 2190.5 159.289 Q2186.89 155.678 2186.89 149.52 Q2186.89 143.155 2190.32 139.428 Q2193.77 135.678 2199.6 135.678 Q2204.83 135.678 2207.87 139.057 Q2210.92 142.414 2210.92 148.201 M2206.66 146.951 Q2206.62 143.456 2204.69 141.372 Q2202.8 139.289 2199.65 139.289 Q2196.08 139.289 2193.93 141.303 Q2191.8 143.317 2191.48 146.974 L2206.66 146.951 Z\" fill=\"#000000\" fill-rule=\"nonzero\" fill-opacity=\"1\" /><path clip-path=\"url(#clip850)\" d=\"M2232.93 140.284 Q2232.22 139.868 2231.36 139.682 Q2230.53 139.474 2229.51 139.474 Q2225.9 139.474 2223.95 141.835 Q2222.03 144.173 2222.03 148.571 L2222.03 162.229 L2217.75 162.229 L2217.75 136.303 L2222.03 136.303 L2222.03 140.331 Q2223.37 137.969 2225.53 136.835 Q2227.68 135.678 2230.76 135.678 Q2231.2 135.678 2231.73 135.747 Q2232.26 135.794 2232.91 135.909 L2232.93 140.284 Z\" fill=\"#000000\" fill-rule=\"nonzero\" fill-opacity=\"1\" /><polyline clip-path=\"url(#clip850)\" style=\"stroke:#e26f46; stroke-linecap:round; stroke-linejoin:round; stroke-width:4; stroke-opacity:1; fill:none\" points=\"1934.58,196.789 2075.81,196.789 \"/>\n<path clip-path=\"url(#clip850)\" d=\"M2114.53 192.124 Q2113.81 191.708 2112.96 191.522 Q2112.13 191.314 2111.11 191.314 Q2107.5 191.314 2105.55 193.675 Q2103.63 196.013 2103.63 200.411 L2103.63 214.069 L2099.35 214.069 L2099.35 188.143 L2103.63 188.143 L2103.63 192.171 Q2104.97 189.809 2107.13 188.675 Q2109.28 187.518 2112.36 187.518 Q2112.8 187.518 2113.33 187.587 Q2113.86 187.634 2114.51 187.749 L2114.53 192.124 Z\" fill=\"#000000\" fill-rule=\"nonzero\" fill-opacity=\"1\" /><path clip-path=\"url(#clip850)\" d=\"M2128 191.129 Q2124.58 191.129 2122.59 193.814 Q2120.6 196.476 2120.6 201.129 Q2120.6 205.782 2122.56 208.467 Q2124.56 211.129 2128 211.129 Q2131.41 211.129 2133.4 208.444 Q2135.39 205.758 2135.39 201.129 Q2135.39 196.522 2133.4 193.837 Q2131.41 191.129 2128 191.129 M2128 187.518 Q2133.56 187.518 2136.73 191.129 Q2139.9 194.74 2139.9 201.129 Q2139.9 207.495 2136.73 211.129 Q2133.56 214.74 2128 214.74 Q2122.43 214.74 2119.25 211.129 Q2116.11 207.495 2116.11 201.129 Q2116.11 194.74 2119.25 191.129 Q2122.43 187.518 2128 187.518 Z\" fill=\"#000000\" fill-rule=\"nonzero\" fill-opacity=\"1\" /><path clip-path=\"url(#clip850)\" d=\"M2165.62 189.138 L2165.62 193.12 Q2163.81 192.124 2161.99 191.638 Q2160.18 191.129 2158.33 191.129 Q2154.19 191.129 2151.89 193.768 Q2149.6 196.384 2149.6 201.129 Q2149.6 205.874 2151.89 208.513 Q2154.19 211.129 2158.33 211.129 Q2160.18 211.129 2161.99 210.643 Q2163.81 210.133 2165.62 209.138 L2165.62 213.073 Q2163.84 213.907 2161.92 214.323 Q2160.02 214.74 2157.87 214.74 Q2152.01 214.74 2148.56 211.059 Q2145.11 207.379 2145.11 201.129 Q2145.11 194.786 2148.58 191.152 Q2152.08 187.518 2158.14 187.518 Q2160.11 187.518 2161.99 187.935 Q2163.86 188.328 2165.62 189.138 Z\" fill=\"#000000\" fill-rule=\"nonzero\" fill-opacity=\"1\" /><path clip-path=\"url(#clip850)\" d=\"M2172.87 178.05 L2177.15 178.05 L2177.15 199.323 L2189.86 188.143 L2195.3 188.143 L2181.55 200.272 L2195.87 214.069 L2190.32 214.069 L2177.15 201.407 L2177.15 214.069 L2172.87 214.069 L2172.87 178.05 Z\" fill=\"#000000\" fill-rule=\"nonzero\" fill-opacity=\"1\" /><polyline clip-path=\"url(#clip850)\" style=\"stroke:#3da44d; stroke-linecap:round; stroke-linejoin:round; stroke-width:4; stroke-opacity:1; fill:none\" points=\"1934.58,248.629 2075.81,248.629 \"/>\n<path clip-path=\"url(#clip850)\" d=\"M2117.77 240.747 L2117.77 244.774 Q2115.97 243.849 2114.02 243.386 Q2112.08 242.923 2110 242.923 Q2106.82 242.923 2105.23 243.895 Q2103.65 244.867 2103.65 246.811 Q2103.65 248.293 2104.79 249.149 Q2105.92 249.983 2109.35 250.747 L2110.81 251.071 Q2115.34 252.043 2117.24 253.825 Q2119.16 255.585 2119.16 258.756 Q2119.16 262.367 2116.29 264.473 Q2113.44 266.58 2108.44 266.58 Q2106.36 266.58 2104.09 266.163 Q2101.85 265.77 2099.35 264.96 L2099.35 260.561 Q2101.71 261.788 2104 262.413 Q2106.29 263.015 2108.54 263.015 Q2111.55 263.015 2113.17 261.997 Q2114.79 260.955 2114.79 259.08 Q2114.79 257.344 2113.61 256.418 Q2112.45 255.492 2108.49 254.636 L2107.01 254.288 Q2103.05 253.455 2101.29 251.742 Q2099.53 250.006 2099.53 246.997 Q2099.53 243.339 2102.13 241.349 Q2104.72 239.358 2109.49 239.358 Q2111.85 239.358 2113.93 239.705 Q2116.01 240.052 2117.77 240.747 Z\" fill=\"#000000\" fill-rule=\"nonzero\" fill-opacity=\"1\" /><path clip-path=\"url(#clip850)\" d=\"M2144.6 240.978 L2144.6 244.96 Q2142.8 243.964 2140.97 243.478 Q2139.16 242.969 2137.31 242.969 Q2133.17 242.969 2130.88 245.608 Q2128.58 248.224 2128.58 252.969 Q2128.58 257.714 2130.88 260.353 Q2133.17 262.969 2137.31 262.969 Q2139.16 262.969 2140.97 262.483 Q2142.8 261.973 2144.6 260.978 L2144.6 264.913 Q2142.82 265.747 2140.9 266.163 Q2139 266.58 2136.85 266.58 Q2130.99 266.58 2127.54 262.899 Q2124.09 259.219 2124.09 252.969 Q2124.09 246.626 2127.56 242.992 Q2131.06 239.358 2137.13 239.358 Q2139.09 239.358 2140.97 239.775 Q2142.84 240.168 2144.6 240.978 Z\" fill=\"#000000\" fill-rule=\"nonzero\" fill-opacity=\"1\" /><path clip-path=\"url(#clip850)\" d=\"M2152.01 239.983 L2156.27 239.983 L2156.27 265.909 L2152.01 265.909 L2152.01 239.983 M2152.01 229.89 L2156.27 229.89 L2156.27 235.284 L2152.01 235.284 L2152.01 229.89 Z\" fill=\"#000000\" fill-rule=\"nonzero\" fill-opacity=\"1\" /><path clip-path=\"url(#clip850)\" d=\"M2181.71 240.747 L2181.71 244.774 Q2179.9 243.849 2177.96 243.386 Q2176.01 242.923 2173.93 242.923 Q2170.76 242.923 2169.16 243.895 Q2167.59 244.867 2167.59 246.811 Q2167.59 248.293 2168.72 249.149 Q2169.86 249.983 2173.28 250.747 L2174.74 251.071 Q2179.28 252.043 2181.18 253.825 Q2183.1 255.585 2183.1 258.756 Q2183.1 262.367 2180.23 264.473 Q2177.38 266.58 2172.38 266.58 Q2170.3 266.58 2168.03 266.163 Q2165.78 265.77 2163.28 264.96 L2163.28 260.561 Q2165.64 261.788 2167.94 262.413 Q2170.23 263.015 2172.47 263.015 Q2175.48 263.015 2177.1 261.997 Q2178.72 260.955 2178.72 259.08 Q2178.72 257.344 2177.54 256.418 Q2176.38 255.492 2172.43 254.636 L2170.94 254.288 Q2166.99 253.455 2165.23 251.742 Q2163.47 250.006 2163.47 246.997 Q2163.47 243.339 2166.06 241.349 Q2168.65 239.358 2173.42 239.358 Q2175.78 239.358 2177.87 239.705 Q2179.95 240.052 2181.71 240.747 Z\" fill=\"#000000\" fill-rule=\"nonzero\" fill-opacity=\"1\" /><path clip-path=\"url(#clip850)\" d=\"M2206.41 240.747 L2206.41 244.774 Q2204.6 243.849 2202.66 243.386 Q2200.71 242.923 2198.63 242.923 Q2195.46 242.923 2193.86 243.895 Q2192.29 244.867 2192.29 246.811 Q2192.29 248.293 2193.42 249.149 Q2194.56 249.983 2197.98 250.747 L2199.44 251.071 Q2203.98 252.043 2205.87 253.825 Q2207.8 255.585 2207.8 258.756 Q2207.8 262.367 2204.93 264.473 Q2202.08 266.58 2197.08 266.58 Q2195 266.58 2192.73 266.163 Q2190.48 265.77 2187.98 264.96 L2187.98 260.561 Q2190.34 261.788 2192.63 262.413 Q2194.93 263.015 2197.17 263.015 Q2200.18 263.015 2201.8 261.997 Q2203.42 260.955 2203.42 259.08 Q2203.42 257.344 2202.24 256.418 Q2201.08 255.492 2197.12 254.636 L2195.64 254.288 Q2191.68 253.455 2189.93 251.742 Q2188.17 250.006 2188.17 246.997 Q2188.17 243.339 2190.76 241.349 Q2193.35 239.358 2198.12 239.358 Q2200.48 239.358 2202.56 239.705 Q2204.65 240.052 2206.41 240.747 Z\" fill=\"#000000\" fill-rule=\"nonzero\" fill-opacity=\"1\" /><path clip-path=\"url(#clip850)\" d=\"M2224.62 242.969 Q2221.2 242.969 2219.21 245.654 Q2217.22 248.316 2217.22 252.969 Q2217.22 257.622 2219.18 260.307 Q2221.18 262.969 2224.62 262.969 Q2228.03 262.969 2230.02 260.284 Q2232.01 257.598 2232.01 252.969 Q2232.01 248.362 2230.02 245.677 Q2228.03 242.969 2224.62 242.969 M2224.62 239.358 Q2230.18 239.358 2233.35 242.969 Q2236.52 246.58 2236.52 252.969 Q2236.52 259.335 2233.35 262.969 Q2230.18 266.58 2224.62 266.58 Q2219.05 266.58 2215.87 262.969 Q2212.73 259.335 2212.73 252.969 Q2212.73 246.58 2215.87 242.969 Q2219.05 239.358 2224.62 239.358 Z\" fill=\"#000000\" fill-rule=\"nonzero\" fill-opacity=\"1\" /><path clip-path=\"url(#clip850)\" d=\"M2258.61 243.964 Q2257.89 243.548 2257.03 243.362 Q2256.2 243.154 2255.18 243.154 Q2251.57 243.154 2249.62 245.515 Q2247.7 247.853 2247.7 252.251 L2247.7 265.909 L2243.42 265.909 L2243.42 239.983 L2247.7 239.983 L2247.7 244.011 Q2249.05 241.649 2251.2 240.515 Q2253.35 239.358 2256.43 239.358 Q2256.87 239.358 2257.4 239.427 Q2257.93 239.474 2258.58 239.589 L2258.61 243.964 Z\" fill=\"#000000\" fill-rule=\"nonzero\" fill-opacity=\"1\" /></svg>\n",
      "text/html": [
       "<img src=\"data:image/png;base64,iVBORw0KGgoAAAANSUhEUgAAAlgAAAGQCAIAAAD9V4nPAAAABmJLR0QA/wD/AP+gvaeTAAAgAElEQVR4nOzdd3xT9f4/8M/JaGaTjrRNN5SWFihLKNuCUECGCIIoIChDQWX+8KJywXm9KioiXkUR8SKKV+ErQ0QEZINQRimjUKBAKd07e52c3x8HQihpKZCc0OT1/MNH8sknJ+8cat/9bIphGAIAAOCveN4OAAAAwJuQCAEAwK8hEQIAgF9DIgQAAL+GRAgAAH4NiRAAAPwaEiEAAPg1JEIAAPBrSIQAAODXkAgBAMCvNbFEOH/+fJPJ1JiaNE17Ohi4nd1u93YI/gi3nXsMw2B/Su556LY3sUT43Xff1dTUNKamwWDwdDBwO9x27tE03ci/DsGNbDabxWLxdhR+x2Kx2Gw2t1+2iSVCAAAA90IiBAAAv4ZECAAAfg2JEAAA/BoSIQAA+DUkQgAA8GtIhAAA4NeQCAEAwK95KhH+9ttvHTp0UKlUqampP//8M1toMBief/756OjoyMjIUaNGlZaWsuX5+fn9+/cPCQnp0KHDgQMH3B5MTg0zaKv712ACAIAPEHjiohUVFaNHj/7ll18ee+yxv/76a8iQId27d4+Li/vggw/OnDlz+vRpkUg0YcKEV155ZfXq1YSQyZMnt23bdtOmTevWrRsxYsTVq1fFYrEb41l7iTlV7cbrAQB4UGFhYUlJibejeOBIJJIWLVp44soeSYSFhYWEkKFDhxJC+vXrp1Ao8vPz4+LiLl261Ldv3+DgYPbVr7/+mhBy+fLlffv2rV27ViKRjB8//sMPP9y0adPo0aPdGM/6K/YaM3YFBICmYdKkSVeuXAkMDPR2IA+WEydOVFVVSSQSt1/ZI4kwNTW1W7dur7766rBhw7Zv3968efOuXbsSQqZMmTJ16tS0tDSpVLp06dK5c+cSQnJzc2NjY9nsSAhp167duXPn3BjMFS1TbGQsdmK1EyGGRAHggUfT9JdfftmvXz9vB/JgkUqlHtpf3iOJkM/nT5w4ceHChYcOHbpy5crrr78eEBBACElNTW3ZsuWCBQskEolYLO7WrRshpKqqSi6XO96rVCorKyvru3JlZWVkZKTj6eDBgx0DkHXo9XqKogghmy/xM9S8P4uowmq9SlRvu7DTloC/MqybrvGu6Mgb7XByxT3S6/XeDsHv0DRtNptxAAXHrFar3W63Wq2euDj+Neuj1+sZhhEKhY1/i1gsFgjukOk8kggPHTo0e/bsnJwctVpdVVXVpk2bxMTE/v37T506NSEh4bfffiOELF26dNSoUVlZWSEhIVqt1vHe2traVq1a1Xfl0NDQrKwstVp9xxgYhmHzq5bY4xRMcCVjFUjlcsplZaudXNBY863SU1p7rYXI5fy7/s5wg/OfNcABmqaFQqFUKvV2IP6FTYQikcgTF+fx0Hnlmkwmk8lkd5UIG8Mjt/v06dPJyclsugoJCWnXrt2pU6fY8vT0dLZO7969z5w5wzBMy5Ytr1275jhc6fTp0y1btnRjMFoLEyikggJITf1HplSaCUPIuRrmbA1TYcJoIgCAH/FIIuzcuXN2dvbevXsJIUeOHDl48GCXLl0IIV26dPnvf/+r1WotFstXX33VpUsXiqISEhJ69Ojx3nvvWa3W//3vf0VFRcOGDXNjMBorUQSQYBGprj8RssnvXA1zroapwMluAAD+xCNdox06dFi2bNm0adNKS0tVKtVHH33Uq1cvQsjixYtnzZrVsmVLu93euXPnVatWsfW/++67iRMnhoaGxsfHr1+/3r2TgrRWEigkygCq1sIQ4rprtNJEeBQ5WMaUmzChBgDAv3gkERJCnn322WeffbZOYVhY2Jo1a26v3KxZs127dnkoEjYRBgWQGnO9dSpMTJtg6lAZ0yaYulCLrlEAAD/i+80fjYVRCKmGu0bLTKRLGCXkkU4qikcRnUcmggEAwIPI9xPhjRYh5bym3nxjfYSdIVY7qTKTCAlJUlDJSipMTGG+DACA//CLRKgIIM6zRjPLme6brm89uvyc/ZXDdIWJUYmpjGiqezilEpOK+jtRAQD8k8lkoum6a6ydF7850+l0txdaLJbbr0AI0Wg0Lss54/uJUGMlCiFRBpDaG4lw3WV7nuZ6m++anjlZxZSbSJiYfNqN3zuSUolJudFr0QIAPFByc3NTUlJmzpzZtm3byMjIDz/8kC3/73//Gx8f36lTp/Dw8LfffpstXLNmzeOPPz548OD27dtHR0f//vvvbPnly5f79euXkpISFxc3e/ZsdseA+fPnT5s2LS0tLTk5+dChQ175dixPTZZ5cGgtjPz6GOH1zRo25DNaK9FZiVxIKs3kXA0j4pNQ0fW/CVRiqsJc7/xSAADuna5mSgwcfVYnFRXstE8ATdO5ublTpky5cOHCtWvXOnXqlJ6e3r179/T09PPnz4tEoqqqqm7duj366KNdu3Y1m82bN2/euXNn79699+zZM3z48EuXLimVyqeeemrSpEnTpk0zGo2DBw/+/vvvn3vuOaPR+Ouvvx46dCghIcG7m+n4eCJkCNHbbpk1eqaasdAkSUkVGphkJVVhIiVGItMQ1Y3jLlRiUmG63o4EAHgQrMy1n6rmaO7Ca+35/aJuaQkIBIKZM2cSQmJiYp588snffvute/fu8fHxmzdvzs7ONhgMYrH46NGj7J7SDz30UO/evQkhvXv3TkpK2rt3b6tWrU6fPt2iRYsdO3YQQjp27Lh9+/bnnnuOEDJy5MiEhATi7c10fDwR6qxEIiA8igSJro8Rrr/CDG9GnaxkCvUkWUnKTQyfInka5mYiFFEFOiZ2jfXCaGG4+3c5BwC4a4u7eXPfR7lczu4XTQhRqVTFxcWEkIkTJ1ZWVo4dOzYgICAzM9MxWBgaGup4Y2hoaGVlZVlZGZ/PX7dunaM8LS2NfRAWFsbRd2iQjydCrZVRCClC2MkyDCFkfb59cVd+pcleaGAIoSpMpH0odbyCUYmv/wWkEpNlZxmNlZytYcIl6CAFAH9XU1NTWFgYHR1NCDl9+jTb8lu/fv3Zs2djYmIIIR999JGj8tmzZ2ma5vP5NE3n5OQkJiYmJSVZLJZ33303PDy8zpXZoxG8zscny2gsJFBICCFBAVSNheTrmAId00tNRctIkZ4QQipMTK8ISsy/Xo0QEiYmRQZGLiRna7CIAgCAiMXiF198cf/+/Z999tnu3bvZzVJatmy5dOnSw4cP/+Mf/7h06ZKjslarnTVr1sGDB2fNmqVSqXr16hUREfHiiy8OHz78jz/+OHjw4LJly5xbhw8Cn28RXs9wUgGh7eTLHPtjcTw+RaKk1EUNwxBSZSa91NT/Xbn5V4lKTFGEvJDCO1fLmGliY4jMx28SAEBDgoKC5s6d+/nnn8vl8j179rANu7Vr137wwQf//ve/hw4d+s033zjOlE1PT09LS1u0aFFCQsK2bdvYwb9PP/30p59++vnnn2tra1u3bp2RkUEI6du3r1gsbuBzOePjv+PZHbdZg2J5fxUxn3bjE0KipWRPMakxE5mAdA+nBsfeTISJCvJsS15GFO+zM/S/T9DVFrK0O05lAgC/1rt3b3YKjENCQsLy5ctdVr59i02KosaOHTt27Fjnwscee8ztcd4bX0+ElutjhISQDf1v5rNoGVVosJebmDAJFSOjlve65aXv0vmXtcy5GnJNzyQqHogubAAA8BAfHyPU2W4O/jljxwgrzSS0nmM14+VUuYk5V8MU6jFSCAD+q3Xr1uw00caYOHHihg0bPBqPJ/h4Iqy13OwadRYpocpMTImBCRO7bvDxKJKkoIbG8QoNSIQAAHdt9erVzpNoHmQ+ngh1VtctQgGPREupA6VMaP0jtSOb815tz6syE5s3dzwAAGiSvvjii9zcXG9H0Sg+ngg1FiZQ6LrNNzSO+v6CXVVP1yghZGFHXvdwKkxMlRjRKAQAf6fRaKqrq9nHBoPBYHCx51tZWZnFUv+Jdw8qX0+EVtddo4SQEc145SYSdqcl81FSUqh3f2AAAE0Cu+n2iy++2K5du4ULF1ZXVz/22GMpKSkpKSnDhg1zpMbPPvtMrVZnZGQkJCSsX7/e+QqnTp1q3779tm3bvBF+o/j4rFFtPV2jhJCH1ZRKfHOL0fpEyyh2Dxq3xwYA0EiWq7l0VRkXn0QRUWJ7nkzhKGA33Z45c+ayZcsIIdOnTxcKhZcvX2YYZtSoUW+88cbnn3++devWRYsWHT58OD4+3mazObIjIWTnzp1Tpkz573//m56ezkX898R/EyGfIvPa8Tup7pDhotEiBABvM50+ZC27xs1n8eRBohZtnUtEItHUqVPZx3/88cfKlSv5fD4hZObMmc8///znn3/+66+/Tpw4MT4+nhAiEAgcO4j+73//O3z48JYtW1JSUrgJ/t74eCLUWBiFsN7u33+0u3PP8I0WIQCA1ygGP3vnSh4THBzMZj5CSHV1dVBQEPs4JCSEbfxVVla2atXq9jeeP38+ODhYrVZzFuq98fExQm39Y4SNFC1DixAA4LqkpKTs7Gz28fHjx5OSkgghrVu3zszMvL3yG2+8MXz48L59+1ZUVHAa5V3y9RZh/V2jjRQtpQr1WD8BAEAIIfPmzZs1a1ZAQADDMAsWLPjPf/5DCJkxY0aHDh3mz5/fr1+/goKC+Pj4Rx55hK3/6quvEkJ69+69ffv2qKgob4ZePx9PhA2METZSspKcrmZohvAxXQYA/I9KpZo+fbrj6ciRI4ODg9euXUsI+fHHH9mEFx4enpWV9cUXX3z77bfR0dEPP/wwIWT8+PHsobuvvvpqVFTUn3/+OXHiRC99iTugGKYpDYBFRkZmZWU1psdZq9UGBgYqVlmvjRXe51nznTfYPunK7x2JTHhnOp1OLpd7Owr/QtO02WyWSqXeDsS/WK1Wu90uEtW/Evk+ZGRkvP766/369fPExZsuqVRaVFQkk8mEwvv7nX4bXx4jtDPEYCPy+270Do/nbchH7ygAgG/y5USotxGpgPDuuyE3ohm1/kqTajgDAECj+XIi1Frr3V/trrQJpkw0U+JiOyEAALhu/vz5JpPJ21HcC19OhJp6jp64BzFYTQgA0KDff//darV6O4p74dOJ8L6njDpEyygcTAgAfqu2tvbSpUtarda50GAw5OfnO5JfdnZ2YGBgffWNRuOlS5cqKyudr6DT6UpLS2//uPLy8rIyTraUI4T4diK8/7UTDthoDQD81j/+8Y/U1NTJkyd36NBh5cqVhBCtVjtmzJikpKSnn346ISHh6tWrhBCKotiNZv7f//t/bdu2nTx5cvv27VetWkUI+eqrr5KSkiZPntyrVy92ZaHZbB4/fnxKSkr//v3bt29/4cIFQsiFCxdCQ0OnTJmSnp7+3nvvcfYFfXkdocbCKNwxRkiw0RoAeNWp8rOVxipuPqttWOtQSbDjaW1t7RdffFFRUcEu0WEbeW+++aZWq7106ZJIJDIYDDzezTZVZWXl8uXLy8vLJRKJo/677767ffv21q1bO0q+/PLLCxcuXLx4USwWL1iw4IUXXti1axchpKqqqkuXLitWrODmy7J8ORG6t0W4u9g9lwIAuFtHi09cqb3KwQfxKV6YNNQ5EcpkspCQkJdffvnpp5/u3bs32/m5adOmFStWsMso66xhlcvlCoVixowZo0ePTk9PZ+snJSXNmzdv4sSJGRkZSqWSELJt27bJkyeLxWJCyMsvv/z++++zE22EQuHkyZM5+KbOfDkRNnAY4d2KllGFBiwlBADvmNhujLc+WiAQHD58eOXKlQsXLjx//vwPP/wwdOhQ56236xCJRJmZmStXrpw/f35eXt6aNWsGDRq0cePGlStXfvnll+PHj1+0aNH06dNra2sViuuHPQUFBdntdo1GQwhRKBSODb45gzHCRsHW2wDgt6KjoxcuXJiZmfmvf/1ryZIlhJDU1NSDBw/WVz8mJuaNN944evTom2+++dlnnxFClErlnDlz/vrrr99+++39998nhCQnJx87doytf+TIkdDQ0PDwcE6+jQu+3CLUWtyzjpBc33obY4QA4Hfy8vI++uijjIwMiUSyadOmLl26EELefffdUaNGmUymli1bHj9+fNKkSTExMWz98+fPL1mypG/fvhKJZPPmzT169GAYZsyYMY899phKpfrpp5/YK8ydO7d3795qtZrNsgsWLPDid/TlRKixkiiZey6lDCB2tzYxAQCaBLVa3aFDh927d9tstnHjxo0bN44Qkp6evmvXrjVr1mzcuDE1NTUkJIQQ8u9//1sikURFRbVt23b37t00TU+YMGHcuHEURQ0ZMiQzM9NgMHTq1GnSpEmEkNTU1AMHDnz//feXL19evHjx0KFDCSEqleqNN97g/jv68qbb049L+0ZRzya5p/s3ea1t0wB+shJbbzcEm25zD5tuewU23eYeNt2+F+5twDWwlPDnS/am9NcEAAA48eVE6MZ1hISQZoHUJa2LfGeiybhd9CUNUiEAQJPk04nQfcsnCCEpQVRujYtsd76WoRlyrtZtHwQAAFzy5UTo3q7RFCU56yoRnqthHP8FAIAmB4mwsVoFUedqidZK1l6+ZWX9uVqiliARAgA0Vb6cCBd14UVK3TZGmKCgigzMmjz7xD200Xaz/FwNMyyed64WiRAAoEny5XWEY1u4M83zKdIikPr4pJ0hZFuh/fH46xc/V8O815n/6xVbw28HAGi833//PS8vz9tRPFhsNk/9mvXlROh2KUHUxnz7Gx35G/KZx+MJIcTOkPO1zMNqimFIhYmoxN4OEQCavjFjxmRmZjp2IAPWyy+/7KGFm0iEdyEliNRaqOdaUu1/pV87QgghBhsJFVNyIUkJos7WMA+rb+mJrTaTj07SziOKKUrquZa+3B0NAPdv8uTJ3J/A0CSYzWZPXBa/lO/CpJa8j7vyY2TUp934wQFUcAAVLaW+7MknhHQPp/4qqns8xbrL9t3FDFszOIBSBlCzD90yvggAAF6HFuFdaB54vcE34bZt24Y34710gH7roVsKf71in9OW92Tzm5X/KrQ7jy8CAIDX4Teye3QPp8pNTJ7T/jJaK/m7jHk05pY7PLwZb/0VzC8FAHiAoEXoHjyKPBbHe2E/nai43mosNpBeEVSdhYzD46k3jtFT93shQm5YrQKhkPZ2FP6FYRia5gsEuO2cstsJw1B8Pm47p2iaoigyMNY+qrk7W3FIhG4zvwPvz2u3tPZ6qev+U8XIqG968Ss9Mtz7QDCbGZEIB3Rwym5nbDYmIAC3nVM0TRiGCAS47Zyy2QhFkWiZm287EqHbxMupF1Lu/M8z0q1/yDxodDpaLvflL/gAomnGbLZLpbjtnLJaabudEYlw2zllNjM8HiV032kKLPwrAgCAX0MiBAAAv4ZECAAAfg2JEAAA/BoSIQAA+DUkQgAA8GtIhAAA4NeQCAEAwK8hEQIAgF9DIgQAAL+GRAgAAH4NiRAAAPwaEiEAAPg1JEIAAPBrSIQAAODXkAgBAMCvIRECAIBf81QizMrKeuqpp7p06TJq1KhDhw45ygsLC6dNm9alS5cBAwb8/vvvbGFtbe306dPT0tJGjx598eJFD4UEAABwO48kQq1Wm5GR0aVLl59++qlv374DBgwoKysjhFRXV/fq1UsqlS5dunTevHlisZitP3Xq1OLi4m+//TY5OXnQoEE0TXsiKgAAgNtRDMO4/aInTpzo1q2byWRin0ZERKxduzY9Pf2tt946cuSIoyHIKi4ujo+Pz8/Pj4yMJIQ0b978P//5z5AhQ1xeOTIyMisrS61W3zEGrVYbGBh4318F7o5Op5PL5d6Owr/QNG02m6VSqbcD8S9Wq9Vut4tEIm8H4l/MZjOPxxMKhe69rEdahCkpKc2aNVu+fHlZWdkPP/wglUo7duxICDl06FDPnj3nzZs3YsSIjz/+2Gq1EkJycnKioqLYLEgI6dKly8mTJz0RFQAAwO0EnrioWCxevHjx2LFj33zzTZ1O991337GNs4KCgsWLF3/wwQeDBw+eP39+bm7uN998U1paGhQU5HhvcHBwaWlpfVeurq7u0qULn89nn/bp02fp0qUua+p0Ord+J2gUvV7viT4GaABN0xaLBQMKHGNbhBaLxduB+Jd7aBGKxeI71vdIIszJyRk7duyePXvat2+fm5vbo0eP+Pj4tLS0wMDAtLS0KVOmEEKWLl3aq1evr776SqlUGgwGx3v1en0DPZ9KpXLt2rVhYWGOpw30f6JrlHsURaFrlGPoGvUKdI16RUBAQJPpGj148GCrVq3at29PCElOTu7cufPevXsJIc2aNQsNDWXrqFQqi8ViMpmaNWt27do1o9HIll+4cCE+Pr7ecHm8+Pj4hBscVwMAALg3jUqENE0XFhba7fZGXjQ5OTknJ+fy5cuEkKKiouPHj7dq1YoQMmHChM2bN9fW1hJCVq9e3alTJ5lM1qZNm5YtW65YsYIQcvjw4TNnzgwfPvwevw0AAMBdct01+s4770REREydOpUQcvbs2UcfffTq1atRUVEbN27s3LnzHS/68MMPz5o166GHHoqNjS0oKJg0adLgwYMJIYMGDdqxY0dSUlJwcHBAQMD//vc/tv4333wzatSopUuXVlVVff3118HBwe77ggAAAA1xsXzCbrcHBQWtWrVqxIgRhJAhQ4ZkZ2cvXLjw559/rqqqysrKoiiqMZe22WylpaXh4eF1+nO1Wq3RaAwPD3cupGm6qKgoIiIiICCggWti+cQDDssnuIcxQq/AGKFXeGj5hIsWYXV1tVarZTszNRrNjh07lixZMnXq1IyMjMTExKKioujo6EZdWiBwWTMwMPD2FMXn82NjY+8+fgAAgPviYoyQHQsUCASEkF27dlksloEDBxJC2ERVXFzMbYQAAAAe5CIRqlQqpVL5xx9/EEK+//77xMTEhIQEQkhRUREhBAN4AADgS1wkQoqiZs+ePWfOnLi4uF9//fXll19my3fv3h0YGBgXF8dthAAAAB7ketboW2+9lZKScvTo0U6dOj399NNsYUlJyZw5c9w+SgkAAOBFHtl023Mwa/QBh1mj3MOsUa/ArFGv4G7WqOPzNm/enJOTo9PpPvzwQ0JIZmamQqFISUlxbwQAAABe5DoRFhQUDBgw4Ny5c4GBgQqFgk2E69at27t3r/MpuwAAAE2d6y3W2H2xT58+vWnTJkfhk08+mZmZWVNTw1FoAAAAnuciEep0uh07dnz66adt2rRx3kQmMTGRYZiCggIOwwMAAPAsF4lQo9HY7fbbl0mwJ2/ZbDYu4gIAAOCEi0QYFhYWGBj4999/1ynfunWrQCBITEzkJDAAAAAuuJgsIxQKJ0yY8Nprr4WFhbFT4a1W68aNG+fOnfv0009jTQIAAPgS17NGFy1adPHixccff5zdcVShUJhMpq5duy5dupTb8AAAADzLdSKUSqV//PHHtm3btm3bVlxcHBoamp6e/sQTT/D5fI7jAwAA8Kh6F9RTFDVw4ED23AkAAABfVW8iZBmNRpPJ5FyC0ycAAMCXuF5QX1ZW9sILL4SHh0ul0pBbcRwfAACAR7luEY4ePTozM3P8+PFt2rQRi8UcxwQAAMAZF4nQYDDs379/+fLlkyZN4j4gAAAALrnoGjUajTRNd+jQgftoAAAAOOYiEYaGhqalpR08eJD7aAAAADh2s2vUYrHo9Xr28WeffTZ+/HihUDhw4EClUun8BswaBQAAX3IzEf744491BgWnTZt2+xua1on2AAAADbuZCHv06PH11197MRQAAADu3UyEycnJycnJXgwFAACAe64X1BsMBq1WW6dQr9frdDrPhwQAAMAd14mwf//+b731Vp3Cr7/+un379hgjBAAAX+IiEZrN5kOHDj3++ON1yocPH37p0qWCggJOAgMAAOCCi0RYWVlpt9vDwsLqlLMlpaWlXMQFAADACReJMDg4WCAQnDp1qk55dnY2IUSlUnERFwAAACdcJEKJRJKRkfHqq69evHjRUVhUVDRr1qzU1NTmzZtzGB4AAIBnuT59YsmSJb169WrTps3DDz8cGxtbXFy8b98+iqJ27NjBcXwAAAAe5XrWaHJy8vHjxydPnlxQULBx48YLFy48/fTTx48f79atG8fxAQAAeFS9J9THxsZ++eWXXIYCAADAPdctwtGjR+fk5NQpzMnJ6d+/v+dDAgAA4I7rRLh3796ampo6hTU1NX/99ZfnQwIAAOCO60To0pUrV25fXAgAANCk3TJG+H//939fffUVIaS6unr27NnOJxHq9fqsrKzHHnuM6wABAAA8qbEtQrVaPW/ePDZNAgAA+IxbWoQjR44cOXIkIWTAgAEff/xxu3btvBQVAAAAR1wvn9i2bRvHcQAAAHhFvesICSFlZWV5eXl6vd65MCMjw8MhAQAAcMd1IiwtLR07duzOnTtvfwnnEQIAgC9xPVnmhRdeyMnJ+fHHH4cOHTpp0qStW7fOnDkzKCho9erVHMcHAADgUS5ahHa7ffv27StWrBg7duz27dvVavXAgQMHDhzYokWL999/f9y4cRRFcR8oAACAJ7hoEZaXlxuNxk6dOhFCxGKxRqNhy5955pmcnJwLFy5wGiAAAIAnuUiEQUFBFEXV1tYSQqKios6dO8eWG41Gx38BAAB8g4tEKBKJ2rRpc+TIEULIoEGDdu3atWjRou3bt0+ZMkWpVCYlJXEeJAAAgKe4njX62muvlZeXE0I6d+48ffr01157jWEYmUz27bffSqVSbiMEAADwIKoxyyEqKysvX77csmVLhULBQUwNiIyMzMrKUqvVd6yp1WoDAwM5CAmc6XQ6uVzu7Sj8C03TZrMZf6FyzGq12u12kUjk7UD8i9ls5vF4QqHQvZdtaEG9Q2hoaGhoqHs/GAAA4EFQbyLMz8//7LPPsrOzCwsL1Wp1amrqSy+91Lp1ay6DAwAA8LR6D+Zt27btF198YTab27ZtSwj57rvvOnbsuH79em7DAwAA8LfwiRUAACAASURBVCwXLUKGYSZPntyyZcsNGzbExMSwhRUVFePGjZsyZcqgQYPEYjG3QQIAAHiKixZhaWnpxYsXlyxZ4siChBCVSrVs2bKqqqqcnBwOwwMAAPAsF4lQLpfz+fzbJ4iyJV6fOAoAAOBGrhPhE0888emnn9ZZWbFkyZLu3bsnJiZyFRsAAIDHuZ412qdPnwULFnTo0GH48OFRUVGlpaVbt249ceLE/Pnzly9fztZJT09PSUnhMFQAAAD3c72gXq1Wl5aWNvzOb775ZsqUKZ6Jql5YUP+Aw4J67mFBvVdgQb1XcLqgPjc31263N/xO/I8HAAA+wHUiVCqVHMcBAADgFa4X1AMAAPgJJEIAAPBrSIQAAODXkAgBAMCv3UyER48eXbx4Mfv45MmTOp3OSyEBAABw52YiPH369IoVK9jHAwYMOHnypJdCAgAA4M7NRBgeHl5SUmI0Gr0YDQAAAMduriPs3r07j8dLSkpKSkqqrq6ePXu2y9WE27dvb8x1i4qKli1bduXKlZiYmGnTpsXHxzu/+v333+fl5b399tvsU6vVumzZskOHDiUmJs6ZMyc4OPg+vhEAAMBduNkiDA4O3r9//4gRI+5/yxiTydSrV6/y8vIxY8aYTKbu3btrNBrHq0eOHHn11VeXLFniKJk7d+6aNWtGjhx58eLFwYMH3+enAwAA3AXGlYiIiAMHDrh8qTGysrJEIhFN0+xTlUq1Z88e9rHZbH7ooYdWrFihUCjYkqqqKolEcv78eYZhrFZreHj43r1767uyWq0uLi5uTAwajeae44d7ptVqvR2C37HZbHq93ttR+B2LxWIymbwdhd8xmUwWi8Xtl3W9fOLw4cMPPfTQPSfXFi1aKBSKPXv2sJey2+2tWrViX/rXv/712GOPtWnTxlH55MmTwcHBSUlJhBCBQNCzZ8+///77nj8aAADgrrjeazQ+Pp6m6T/++CM7O/vatWtqtTo1NXXw4MEBAQGNuWhgYOBPP/30+OOP8/l8s9n8888/h4WFEUJOnjy5YcOGzMzMEydOOCoXFxerVCrH07CwsJKSkvqurNFoJk2aJBaL2adt2rR59dVXXdbU6/UURTUmWnAjvV7v7RD8Dnv6xB13yQf3Yk+fsFqt3g7Ev9zD6RNisVggcJ3pHFy/XFlZOXTo0EOHDhFCJBIJO5W0devWW7ZsqTPtxaWCgoKnn3565cqVAwYM2Ldv37PPPnvw4MGEhITJkyd/9dVXjjTGkkgkFovF8dRkMrFZ0yWJRDJ8+PCgoCD2aUJCQn0jmjRN43wM7tntdtx2jtE0zefzcds5hmOYvILP599tIuTx7rxvjOtE+NJLL50+ffqrr756+umnlUqlXq/ftGnTnDlzxo8fv3fv3jtedNu2bS1atBg1ahQhZMiQIQ899NDmzZtHjhyZnZ09fvx4QojZbNbpdC1atNiyZUtMTExRUZHNZmOT9tWrV7t161bflYVC4bBhwxpzHiGPx2vM9wf3wm3nHsMwuO3cY284bjvHeDe497IuEqHRaNywYcOyZcsmTZrElshksjFjxgQHBw8aNOjatWsxMTENXzQqKurSpUu1tbVKpdJgMOTm5k6ePDk2NtZx2O/Ro0dHjhx59OhRhUJBUZRKpdqwYcOoUaMuXbqUmZn5448/uvdLAgAA1MdFIqyqqrJYLF26dKlTzjbUiouL75gIBw4c+Mgjj6Smpnbp0uX48eNt27YdOXIkj8dzLBAMDAykKMrx9NNPP500adLKlSuPHz8+f/78qKio+/1aAAAAjeMiEYaGhopEon379qWmpjqX79u3jxASHR19x4vyeLyff/45Ly/v6tWrMTEx7IxQZx07dszOznY8HTZs2Llz506ePJmQkNCsWbN7+BoAAAD3xkUiFIvFTz311Ny5cw0Gw+jRo6OiosrKyjZv3vz6669nZGQ0vrnWokWLFi1auHxJJBLVSXgqlapv3753GTwAAMD9cj1Z5vPPPy8sLHzllVdeeeUVR2Hnzp2///57rgIDAADggutEqFAoduzYceDAgb1799bW1spksu7du/ft2xdTpAAAwMc0tMywZ8+ePXv25CwUAAAA7qGFBwAAfg2JEAAA/BoSIQAA+DUkQgAA8GsuEqHFYlm7du3ly5e5jwYAAIBjLhJhRUXF6NGjGzgLCQAAwGe4SIRhYWEKhaK8vJz7aAAAADjmIhEKhcJ58+a9++67VVVV3AcEAADAJdcL6mtqagoKCpo3b96zZ8/o6GjnDWW+/vprrmIDAADwONeJcO/evTKZTCaT5ebm5ubmchwTAAAAZ1wnwsOHD3McBwAAgFdgHSEAAPi1ejfdvnLlyjfffHPmzBmLxbJlyxZCyE8//RQUFDRo0CAOwwMAAPAs14nw0KFDAwcOFIlEcXFxjgWFBQUFb7/9NhIhAAD4Etddoy+++GLXrl3z8vI+/vhjR+GQIUNyc3NLS0u5ig0AAMDjXLQIq6qqTpw4cfDgwcDAQIqiHOXx8fGEkKKiooiICO4CBAAA8CTXe40SQmQyWZ3yyspKQohA0NBZvgAAAE2Li0QYHh4eERGxadMmQohzi/DHH3+Uy+XJycncRQcAAOBhLpp3PB5v7ty5CxYssFqtsbGxdrv9xIkTP//88yeffDJv3ryAgADuowQAAPAQ1/2cr7zySlVV1fvvv2+1WgkhHTt25PF4kydPfvPNN7kNDwAAwLMohmHqe62oqGj37t1FRUUhISHp6emJiYlcRuZSZGRkVlaWWq2+Y02tVhsYGMhBSOBMp9PJ5XJvR+FfaJo2m81SqdTbgfgXq9Vqt9tFIpG3A/EvZrOZx+MJhUL3XrahmS9RUVFjx4517+cBAAA8UOpNhFqtdvXq1SdOnCgsLFSr1ampqePHj1epVFwGBwAA4GmuF9Tn5OSkpqa+/PLLmzdvLikp2bZt29y5c1u1avX3339zHB8AAIBHuU6EEyZM4PF4Bw8eLCoqOnbsWEFBQXZ2dkxMzFNPPWWz2TgOEQAAwHNcJMLy8vJjx44tW7ase/fujsK2bduuWrWqoKDgzJkzHIYHAADgWS4SITshJy4urk45u8Wa26frAAAAeJGLRBgUFNS3b98ffvihTvnq1auTk5NTUlI4CQwAAIALN2eNFhUV5eTksI+fffbZ2bNnnz17dsSIEZGRkWVlZVu3bt24ceMHH3zA4+EsXwAA8B03F9R/9913kyZNuuMbGliAzwEsqH/AYUE997Cg3iuwoN4rPL6gftiwYUePHnXv1QEAAB5wNxNhaGhoaGioF0MBAADgHgb8AADAr7neYs1oNH7++ecbN27Mz883GAzOL1VVVXESGAAAABdcJ8KJEyeuXbv2kUceGTFixO1H1QMAAPgMF4nQYDCsW7duyZIlM2bM4D4gAAAALrkYI7RYLDRN9+zZk/toAAAAOOZ6Z5kePXrs2bOH+2gAAAA45nqMcNWqVaNGjTKZTP379w8JCXF+KSEhgZPAAAAAuOA6EfL5fIVCMX/+/Pnz59d5ybs7ywAAALiX60T4xBNPXLt27a233kpMTAwICOA4JgAAAM64SITl5eUnTpz49ddfR4wYwX1AAAAAXHIxWUYqlfL5/OjoaO6jAQAA4JiLRCiTyZ566qnbzyMEAADwPa7HCB9++OF//vOfeXl5AwYMkEgkzi+98MILnAQGAADABcrlLFC1Wl1aWuryDTiPEBqA8wi5h/MIvQLnEXqFx88jdHb48GGapt37SQAAAA8g14kwPj6e4zgAAAC8AucRAgCAX3PdIkxOTi4vL3f5UhM6j9By5VxAsxRuPutSTf5VzbXkkMRIeUTDNY+VZGstOm6i4p7JZBKLxd6Owr/Y7Xar1YrBKo7RNG23290+WAUNs1qtPB6veXB8QpA7uy1dJ8Lx48frdDd/Wet0un379l2+fPn5559342d7WtUPH6qm/VugiuTgs744/m2loSpGEfWv9Lqb0t0SkrF64d730yI7chCSV9hsNoHA9Q8VeAjDMHa7nc/nezsQ/2K32wkhPB461TjF3nYDbeQiES5YsOD2j58yZUplZaUbP9vTBGExtrICbhJhmb7ite4z/7HzLZPNJBbU2yTaf+1w9+i0hT3nchCSV2DWKPcwa9QrMGvUKzw0a7Sxf87weLzXXntt9erVxcXF7o3Ac4QRsdaSq9x8VoWxspkyLiU06UhxVgPV9hUceji2GzchAQBAY9xFL5ZIJLLb7aWlpZGRXLSx7p8gPMZyNZeDDzLaTHaGkQml6bHdfz3/e41Z47KanbGfqTj3TvprHIQEAACN1NhEWFJSMm/ePKFQmJSU5NGA3EigjtMf+YuDDyo3VIZJQwkhj8T3ulSTn1t5sb6ak9uPk9TfcQoAANxr1KxRq9Wq0+kEAsH7778vk8m4iu1+CcNjbaVcdI1W3EiESpHi/3V5kYNPBAAAd2nUrFGhUBgTE9OvX7/ExESuAnMDnlxJKMquq+HJgzz6QRXGSpUkxKMfAQAAHtLYWaNNlDAi1lpaIHJTIizRlxmtxuY3pu06nlYYq0KRCAEAmiYfXwQjCI+1lRa462o/nln3ZdZ3jqc/nF67LOu/xGmMEAAAmpx6J8vs2rVrw4YN+fn5er3euXz79u2ej8ptBBGx1rJrbrmUnWEOXDustxr1VoNMKLUzzIHCTKPVqLcaKgyVHcJT3fIpAADAMdctwn/+8599+/b94YcfysrKOA7IvYQRbpsvk1ORGyRSPhTR7lDhUULImYpzIeKgjhFtDxUdqzBWhklVbvkUAADgmIsWod1uX7JkyeTJk7/88suAgADuY3IjQYTbukb3XzvUK7abWha+LndTqaE8q/RUr5hu4TLVunObrmmLQyXBbvkUAADgmItEWF5ebjAYpk2b1tSzICFEEKKmdTWMxUQF3O/qvfNVeePajEoJTSrUFWvNusSg5kMT+0uF0iJdSdeoh9AiBABoolwkQpVKFRYWVlJSwn007kdRAlWUraxQGNPiPq9UbqgIk4bKhNLn2493Lq/zFAAAmhYXY4R8Pn/RokVvvvlmE9pWtAHCiDhrmRt6RyuMVSoJpoYCAPga17NGt2zZkp+fn5iY2K5duzqHCTRy1qjJZPrll1/y8/NjYmJGjx7N7kdTU1Pz559/nj9/PiwsbNSoUSrVze7ErVu3Hj58OCEhYcyYMe49x0dQz3yZDee3lBsrRyQNVjW48sFoMx0uOsYenCQVStwYGAAAPAjqXUfYsWPHHj163NuROjabLT09fc2aNQqFYsOGDV27djWZTISQxx9//Mcff6RpeteuXcnJyXl5eWz9Dz744OWXXw4ICPj6669Hjx59b9+kPvygMLqm7ulRDGH+c+zbI0VZx0qyG377haq8pUeXV6I5CADgo1y3vX755Zf7uejZs2ezs7M1Go1IJHr55ZfDw8OPHTvWs2fPTZs2KZVKts6QIUNWrlz53nvvGY3GRYsW/fnnn2lpaTNmzIiOjj558mS7du3uJwBnPInMbqx7InyNSSMPkLYPb1Nbz0kRDuXGqkpj9eWaq1gyDwDgkzyys0xkZKRAILh69SohpLi42GKxxMbGEkIcWZAQwufz2Vmpx44dEwgEaWlphBC5XJ6enr5jxw43BsOTyO1GfZ3CCmNlqCRUIQq8YyKsMFQSQo6Xnmy4BxUAAJood47GOahUqnXr1vXu3TsuLu7KlSurVq2Ki4tzrrBz5879+/d/+eWXhJDi4uKIiAjHS2q1uqioqL4rGwyGd955x3ECRsuWLSdMmOCyptlsZhOtlS+kDVqz2ez8anFtaag4SMaXFmqK67xUR6munCLUseITPaO7NlwTCCFms9nth0dDw9gT6vl8vrcD8S/sCfXejsLvsCfU39WdFwgEd/y/wyOJsLq6evr06TNmzMjIyNi/f/+cOXN69uypVqvZV0+ePDl27NhVq1bFxMQQQup8K5qmG5gsw+PxgoKCHCOXYWFhPJ7rRi2Px2NfEsgUjFFfp1qVuTpUEhIsCdKU6uq7AqvSWNVMGXu59qpKEtpwTSBOtx04wzAMbjv32BuO284x3g2NfwtFUXes45FEuHHjxqCgoNdff50QkpaWtnHjxl9++WXmzJmEkJycnEcffXTp0qWPPfYYWzkqKqqkpIRhGDbc4uLi9u3b13dlsVg8c+ZMR05tgFAoZJsmfEUQY9LVaaZUmavV8vAQabDWWvelOipNVWmRHS/XXlUHhqOtc0eO2w6cYf+UxG3nHm479+x2O4/Hc/tt98ifMwqFoqKiwmq1EkLsdntZWRk7OnjhwoWBAwcuWrTIeWpop06dBALB3r17CSFVVVX79+9/9NFH3RgMTyyzm4yEYZwLyw2VKmmoUqS482QZQ2VHdTtCCCbLAAD4JI8kwsGDB4eFhfXu3ZvdvJvH440cOZIQMm7cOKPRuGrVqv79+/fv3/+9994jhAQEBLz99ttjx46dM2dOnz59Ro8enZyc7M5oeDxegMhuNjiXVRqrVZIQpUhRY6qt7317rh4s0pVUmWrah7fhU3wcvQsA4JM80jUqFosPHTq0ffv2/Pz8V155ZcCAAey8lc8++8z5UCfHHJlp06alpaUdOXLk0UcfHTBggNvjoSRyxqAnYpmjpMJQGSoJUYjkOovezjA8V53I/zu7PiEoXiIQy4TSD/osxKxRAACf5JFESAgRCASDBg2qU9i9e/f66nfq1KlTp04eCoZdSsgn4Y6ScmNlmDSUT/FlQqnWolWKFLe/66rm2qWaKzGBUYSQLlEPeSg2AADwLr+Y8lRnKaGFtphsZoUokBCiFLseJqw0Vgt5AkVAIDaUAQDwbX6SCG/ZXKbCWKWShFCEIoQEiRRXNYVrz22q85armmvxithesd1UUgwNAgD4Mk91jT5QKGmgcyLUmLWBousrEZUixaYLW/NqrjyZMsz5LVc11+KUMc+0edJkM3EaKwAAcMsvEiFPImOcEqHBapQKrp8joRQp/ri0gyI8O2PnUTfbx1dqC+IUMTh3HgDA5/lJ1+gtY4QGm1EmlLKPlSKFgCeUCaVVphrnt1zVXItXxnAaJQAAeIN/JEKx9JZEaDU4ThYMEis7qztEBkawm2sTQjRm7Tv7PzpbcT5eEeuFWAEAgFt+kQjrjBEarEbpjRbhwIRHZnZ+PkwSWmGsYksKtIUXqi8t7PlKhCzMC7ECAAC3/HGMUGc1OLpGg0TKIJFSJQ11ahHqouSR3aM7eyFQAADgnF+0CHkSuXOL0Gg1OCbLsFSSkHLj9USos+rkATICAAD+wU8SoazOZBmJ8NZE6NQi1Fn0SIQAAP7DPxKhTGHX39w+xmC9OWuUFSYJLUciBADwS36SCJV23c1TJvRWo/T2FuGNyTJ6q0EuRCIEAPAXfpEIKWEA4fEZs5F9anCaLMMKc+oa1Vp0gWgRAgD4Db9IhIQQnlxB32gUGm1Gya2TZWRCqZ2xG6xGQojOopehRQgA4Df8JRHyZUrHMKHeapTd2jVKCIkOjCzUFZPrLUI51/EBAICX+Esi5MkUdv31FqHeaWcZhzhFTH5tASFEZ8VkGQAAP+I3iVCutOuutwiNTjvLOMQpYq5qCglmjQIA+Bm/SYQyJdsiZAhjtJkkAnGdCvHKGy1CJEIAAH/iP4lQQes1hBCj1STiBzifuMSKU8Rc1VwjhOitmCwDAOBH/CUR8m+sqTfY6i4iZMUpogu1xVqLTsgTCnl+sQUrAAAQ/0mEPLmCXVN/+yJCVgA/IEQSfLH6shxTRgEA/Im/NH14MqVdr/kme3VggFziqkVICGmmjD1ZliN3lSYBAMBX+U0ilCsthtr1ub8HBsgj5REu63RSd9h04Q+lSMFxbAAA4EV+0zUqU5xkqoPFQaX6cpddo4SQh2O7FWiKMGUUAMCv+Esi5MsUmRLTsMSBLUNa3L6IkKWWhScGN8e2MgAAfsVfukYJj39SyZsQlGxj6GpTTX21+sT1rDVr6nsVAAB8j98kQkJ0Akpx9dKYrk/YGaa+OmPbjGzgVQAA8D3+0jVKCLFQDH3qKI/iCXj8+uo0/CoAAPgef0mEVruNz+Pb8k46TiUEAAAg/pMILbQlgB8Q0KJd8ZvjNNt/uq9r2emS958vmj/KlHvcWnyl4pu33BMiAAB4g7+MEZptZpFAFDppgf7vP6wFF+7rUnmneCKJrNujhmO7BMFh5gsnCMMQinJXqAAAwCV/aRGaaYuIH0DxBXyZ0n5/vaPGU39L2vWUduxtOnPYmL2fsVnpmnJ3xQkAABzzr0RICKFEYsZiuvcLMYzx5EFJ2x78IJUgVG03aEUt2lpLC9wWKAAAcMtvukZps4gvIoRQARLGfI+JUHdgc83a/wijmgsiYgkhkof60NVlxG63lRaQlE6EEOu1vLJPZzG0ja0fmPGUcuhEN30DAADwCH9JhBbaEsAXEkIokeieW4SGoztV094Tp3Rinwb2eYIQotv/m604/3qFE3sD+z6pGPIsIcRacrXiq/nKIc9h+BAA4EHmN12jNksAP4AQwguQ2O8pEdLaaltpgSipfZ1yYXistfQq+9h46qC4XY/r5eo4KkBsLcy7j6gBAMDj/CYR0pbrXaMi8b0tJTSd+lvcKo3i121DCyJibWUFhBBr6VXGbAyISXS8JGnbw3jywH1EDQAAHucvXaNm2iwSBJAGxwirfvxIktpd0r7X7S8VvznOrqsNnbTw9pf4ylDGZqM1VaZTf0va9XTuCJV2TC9dPEuz7f6WLTY19W7kCp5U5e0AADgj7/NE0PAX3HhB/0mEd541SleWGLL23J4IGbPRbtRHf7K5vouLW6WZTh8yZh9QDpvsXC6MSYxZ/Pt9x96U6HQ6uRzHd3CKpmmz2SyV4kBpTlmtVrvdLhKJvB2IfzGbzTweTygUuvey/tI1anF0jfIFhBDGZr29Dq3XmM4eZayWuuWaKr4ytIGLS9p11x343VZVImqR6r6QAQCAC/6SCB0tQkIIJZK4bBTadbWC4DDz+aw65XRNRcOJUJzS2VZWIG7TlWDDbgCApsZfEqHFZgkQ3EiEAa7myzCM3aiXdh1oPHWwzit0bSVfqWrg4pRIIumQLu30iPviBQAAjvhLIry1RSi+fQWFXa/hSWTS9g8bT/1N7LTzS3RNOT+ooURICAkZ94o4+SE3BgwAANzwn0R4fWcZQggvwEXXKK2v5cmV/JBwfnC4+XLOLS/daYwQAACaLl9OhFb65owY842dZQi7ucxtKyjseg1fpiDXF//d0jtK11TcsUUIAABNlC8nwgmbX9aYtexjx4J6cn0pYd0xQrtew2MTYbsepluHCWlNJV8R4vl4AQDAC3w5EQbwhZXG6+uMLTazSHCja1TkYpc1u7aGJ1MSQoSRzQhf4Lw1GlqEAAA+zJcTYZBIWWvWsI9vmSwTIHbZNcqTK9nHkrbdb/aOMoxdW8MLDOYiYgAA4JwvJ0KlWFHjMhHett2o3aiz6zU8aSD7lN0j1FZZbKssthSc58kCb99iFAAAfIMv/35XihT1tgidukbNl05XrV4kSmwriGrOlgQ0a8WTyCq+nM8+FaV05jBqAADglI8nwhqTIxE6LZ+4dYzQmH2Ari4z52ZJO/a+XkRRYTM/4TZYAADwDp/uGhUpNJbribDuzjJOidB0+m9JajdaU+UYIwQAAP/h44mw1uS8fMJpr1GTkRBi19Uas/cRHj9wwBhCCE+q8FaoAADgLb7cNRokUtSYa9nHzl2jjpOYKr/7l12vkT88LCC2paRdT2wfAwDgh3w5EdY3WYYXILJbTHZdjbXwUuS7P1HCAEKIy0N3AQDA5/l016jYKRHanGeNShiz0Xj6kLh1ZzYLAgCA3/LlRBgkUtSYagkhdoahGZvgxlpASiSx62oNx3aLU7t7NUAAAPA+X+4aFQvEhBCTzUwIEfKEFKHYckFIOCWREcJI2nT1ZnwAAPAA8OVESG4ME0oEYsdMGUIITx4UPmuxF6MCAIAHh+8nwhpzLY+iHIsIAQAAnPnyGCG5MV/GecooAACAM19PhCJFrVljtJkkAom3YwEAgAeRj3eNBomUtSZtjag2SIxdYwAAwAWfbxEG1po1NeZapQiJEAAAXPD5RKioNWtqTVokQgAAcMnHE2GQWFlr1mgsmiAkQgAAcMXHE6FSpKgxa2pMGrQIAQDAJd9PhLWm2lozEiEAALjmwVmjhw8fvnLlSkxMTI8ePSjq+vZmJpNpx44dZrM5IyNDqbx5EO758+ePHz/erFmzbt26uTEGtkWoRCIEAIB6eKRFyDDMqFGjJk6cuHfv3pdeemnQoEE0TRNCamtrO3fu/Omnn65Zs6Z169b5+fls/dWrV/fq1Wvr1q3PPPPMnDlz3BiJUqTQWrQ1ppogMU6fBwAAFzzSIszNzd24cWN5eXlQUJBer4+MjDx27FiXLl1WrFihVqu3b99OUdQLL7zw0Ucf/ec//7HZbK+//vr333//6KOPFhcXJyYmzpw5s3nz5m6JRMDjiwXiEn2ZQhTolgsCAICP8UiLUC6X8/l8q9VKCKFpmmEYthd006ZNo0aNYrtJn3zyyU2bNhFCjh8/rtfrBwwYQAiJjIzs2bPn77//7sZglCKFyWZG1ygAALjkkRZhTEzMN998079//3bt2p08efLjjz9OTk4mhBQWFsbExLB1YmNji4uLaZq+du1aVFQUj8dzvLewsLC+K5vN5u+//16huJ7VEhIS+vXr57ImTdNsf6wiILBGWMtjKPYpeJTjtgNn6Bu8HYh/oWnabrfjtnOMbVk58kVj8Hg8xySV+ngkEZpMpuXLl3fs2DEjI0Mul69YsWLs2LGBgYE2m43P57N1+Hy+3W632+3OhYQQgUBgsVjqu7LVas3OzpZIrm8cajAY0tPT66vJNkmVAYGKgED2MXia47YDZ2iaxm3nntVqtdvtd/UbGe6f1Wq923suFAqdU4xLHkmE69evr6ysEkHXqgAADtVJREFU3Lt3L0VR48aN69q165o1a6ZOnapWq8vLy9k6ZWVlKpVKKBRGRkaWlZU53ltWVsY2H12Sy+WffPKJWq2+YwxWq1UsFhNCgiVBGquWfQyeZrPZcKs5RtM0RVG47Rxj/5QXiUR3rgruQ1EUj8cTCoXuvayn/pyx2+23P+7du/eOHTvYxzt27GAbcx06dDAYDKdOnSKEmEymffv21dfIuzdBYmWQCFNGAQDANY+0CAcOHDhv3rzx48f3799/3759+fn5jz/+OCHkpZde6tix4+uvvx4cHLx48eJt27YRQgIDA2fMmDFmzJjp06dv3LixU6dOaWlpbgxGIQrETBkAAKiPR1qEISEh2dnZaWlp2dnZrVq1On36NNuZGR8ff+TIEaFQWFVVtWfPnq5du7L1//Wvfy1YsCA3N3fw4MEbN250bzDdo9MGNH/EvdcEAACfQTEM4+0Y7kJkZGRWVlZjxgi1Wm1gINYOck2n08nlcm9H4V9omjabzVKp1NuB+Bd2sgzGCDlmNpub0hghAABAk4BECAAAfs03E6HZbN65c6e3o/A7Go3mwIED3o7C75SWlh47dszbUfidK1eu5OTkeDsKv5OTk3PlyhW3X9Y3E2FeXt5rr73m7Sj8zpEjRz744ANvR+F3du7c+cUXX3g7Cr+zfv361atXezsKv7N69er169e7/bK+mQgB/EfTmu/mM3DbvcUTdx6JEAAA/BoSIQAA+LUmto5QLpd36tQpICCg4Wp6vf7kyZPdu3fnJipgVVdXX7p0qVOnTt4OxL+UlJRUVFSkpqZ6OxD/kp+fbzabW7Zs6e1A/Mv58+dFIlF8fHzj3zJixIiXXnqp4Toe2WLNc1auXBkSEnLHagzD5OfnN2vWzPMRwU1Wq7W0tNRx0hZww2AwaLXaiIgIbwfiXzQajdVqDQ0N9XYg/qWyslIoFDpO4muMxhzz3sRahAAAAO6FMUIAAPBrSIQAAODXkAgBAMCvIRECAIBf47/11lvejsHNGIbZtWvX7t27ZTIZ5nR5Ql5e3vHjx1UqlfMZNDU1NRs2bDh79mxcXJxz+bFjx/7880+r1RodHe2NYH1ESUnJ9u3bs7KyxGKx80+10WjcvHlzVlZWZGSk80lMZ8+e3bx5s0ajiY+PpyjKGyE3eTRNnzlzZteuXVlZWQEBAWFhYY6XamtrN27cePbs2djYWOef9uPHj2/duhU/7W6h1+v37t0rFosdB+rpdLpNmzZlZ2fHxMRIJBJHzVOnTm3ZskWv18fFxd3jhzE+Z+zYsampqS+88IJKpVq3bp23w/EpZrM5ODg4JCSEz+dnZmY6ygsKCqKjo0eOHDls2LCEhITS0lK2/MMPP4yJiZk6dWp8fPzbb7/tpaibvN27dwcFBQ0bNuyZZ55RKpWffPIJW67RaFJTU/v37z9u3LiwsLBz586x5T/++KNKpZo6dWrr1q0nTZrkvcCbtrNnz7Zu3fqZZ54ZP358aGjowoUL2fJr167FxMSMHDny8ccfb9asmeOnfdGiRdHR0exP+5tvvum1uH3FjBkzBALBihUr2KeVlZVJSUlDhgx56qmnIiMjr1y5wpYvX748IiJi6tSpSUlJM2fOvLfP8rVEeOzYsZCQkOrqaoZh1q1b17JlS7vd7u2gfAdN03l5eQzDBAYGOifCuXPnjh8/nn38xBNPsL8Famtr5XJ5dnY2wzDnz5+XSqUVFRVeCLrpKysrq6mpYR9v27ZNLBZbLBaGYT777LPevXuzP+GzZ89+7rnnGIax2Wzx8fGbNm1iGKaiokKhUJw5c8Z7sfuIffv2iUQi9rb/4x//GDduHFs+atQoNkFqNJrAwMCsrCyGYS5cuCCRSMrLy70YcFN38ODBRx55pFu3bo5E+N577w0ePJh9PGXKlOnTpzMMYzabIyIidu7cyTBMcXGxVCq9fPnyPXycr40Rbt68uV+/fkFBQYSQoUOH5ufn5+bmejso38Hj8RISEm4v/+2330aOHMk+Hjly5ObNmwkhu3fvjoqKateuHSEkKSkpKSlpx44dXEbrM8LCwpRKJfs4MjKSpmmapgkhmzdvfuKJJ9iez1GjRrG3/dSpUxUVFYMGDSKEhIaG9unT5/fff/de7D7CYDAEBwcLBAJS/097REREhw4dCCGJiYkpKSnbt2/3YsBNmtlsfumll7744gvnXv3Nmzc7brvjpz0zM5Om6T59+hBC1Gp1t27dtmzZcg+f2MR2lrmjwsJCx84mIpFIpVIVFhampKR4NyqfV1RU5BgUiY6OLiwsJISwPUiOOo5yuB/vvPPOuHHjxGIxIaSwsND5tldWVppMpsLCQrVazf7KJrjt923kyJEVFRVXr17dsGED+3u5zm1nb6/zbx6C235/Fi5c+OSTT7Zq1cq5sM5tLyoqYhiGLXTkS7b8Hj7R1xIhTdPOf0QIBAKbzebFePyE823n8/nsPce/hdu99dZbubm5e/bsYZ/SNM3jXe/U4fP5DMOwjUXn2+7454B7M3PmzJqamhUrVrzxxht//PEHj8fDT7tHZWZmbt++PTMzs055nZ92u91ut9vd9dPua4mQHURlH9vt9vLy8qioKK9G5BfUanV5eTn7uLS0lL3nkZGRZWVljjqOcrg3H3744c8//8xOnGFLnO9waWmpUqmUyWSRkZHs6BT7C6K0tLR9+/ZeC7rp6927NyFk0KBBwcHBx48f79y5M3uH2Vfx0+52ixcvVigU06dPJ4RcunRp9erVAoHg2WefrfPTHhERwefzb7/tbO/03fK1McI+ffrs2rXLarUSQvbt26dUKtEvyoFHHnlk27Zt7ONt27axXfa9evU6f/78tWvXCCHl5eXZ2dnp6eleDLJJW7JkybfffvvXX385b67dp0+f229727ZtBQLB4cOHCSFms3nPnj2PPPKIN0L2KbW1tRaLhd3r2eVPe8+ePS9evFhQUEAIqayszMrKwk/7vZk1a9b06dMzMjIyMjKUSmWrVq1at25N6rntnTt31mq1p0+fJoTo9foDBw7c20+7r226zTDMww8/HBQU1K9fv88//3zmzJmzZ8/2dlA+ZeHChWVlZd99993QoUPDwsLef//9kJCQM2fO9OzZc8aMGVardfny5UeOHGnRogUh5MUXX8zMzJwwYcJPP/3UunXrlStXejv8Jmnnzp0ZGRmDBg1yjEK9++674eHhJSUl7du3f+qpp8LDwz/++OMtW7b06NGDEPLBBx98++23L730EruC8/+3d38hTX0BHMDPddGdckfTB/+gmUmhbvrgEAlp0oNITwbGVtzCNgdCTNmjID4IExEfKp82/IPFKK9h+6dvMaOXlLCHivIPKipaCyeW4jRzuz2cH0PUftnvl7p5v5+3e87Z2bmw8b1/zr3H5/Md6/BjVU9Pz9DQUH5+fjAYFARBo9E8efKEYZiPHz+WlJTU1taGQiG73f769euLFy8SQsxm8/Dw8J07dwRByMnJefjw4XHvQcwrKSkxmUwmk4kQMjc3p9FojEYjx3H3799/+fIlPflrbGx0Op01NTVer1ehUHg8nv/wRSctCAkhwWCwp6dncXFRq9XSuXPwFwmCsLq6GtnkeZ7jOELIxMREX19fXFwcz/ORmaXhcFgQhHfv3qnVap7nZTLZ8Qw6xk1PT+8Ksxs3btB5pAsLCw6HY3Nz8/r163SCLjUwMDA8PJyZmWkwGOjMGvhTgUBgcHBwamqKZdni4uLy8vLI7ajJyUlBEBiG4XmeHvMRQsLhcF9f39u3b1Uq1a1bt/Br//88Hk9ubm5OTg7dnJ2dffz48fb2tk6no6eJhBBRFF0uFz34rqqq+u1qtfs6gUEIAABwcCftHiEAAMAfQRACAICkIQgBAEDSEIQAACBpCEIAAJA0BCEAAEgaghAgBkxOTj569Ii+MunfdXd3v3nz5giGBHBiIAgBok5/f/+uJ+iHhoYMBkMwGPztZ81mM12hBgAOCEEIEHWsVmt3d/fOkuLiYqvVinfEAByGk7b6BMCJpNFoNBrNrkJRFJeWluRyOX0Z9AFtbW2trKwolUqWZf/qGAFiFc4IAaKLWq3+8OHDs2fPkpKSkpKSjEYjIcThcKSlpa2trdE2oVCoubk5LS0tJSXlzJkzGRkZvb29e7sKhUJ1dXXp6en0QuvY2NiVK1fkcnlqaqpcLi8oKJiZmTnKXQOITjgjBIgudrvdYDCcO3euoaGBEELXXVpfX/f7/eFwmLYxm82dnZ0Wi0Wv17MsOzo6urW1taufzc3Nqqoqn8/n8XguX75MCLl58ybLsi9evDh79qzf7/f5fJEOAaQMQQgQXbRaLcdxqampZWVl+zYYHx/v6OiwWCz37t2jJYWFhbvaLC8vX7t27dOnT69evaIv7//+/fv79+9tNhtdaTY7O5uu2QQACEKAGOPz+URRpIu07Wt6evrSpUuJiYkjIyPJycm0kGVZlUpltVoDgUBlZWVeXt5RjRcg2uEeIUCMCQQChJDIIr17eb3eqamp+vr6SApSbre7qKioublZpVJlZWW1tbXh0igAQRACxBylUkkI+fLly68aWCyW6upqnuedTufO8gsXLrjd7uXl5efPn2u12vr6+o6OjkMfLkDUQxACRB2O4zY2Nn5VW1paSgh5+vTprxrExcV1dXXdvXtXr9c7HI5dtQkJCWVlZQ6HIyMjY2Rk5G+NGSB24R4hQNRRq9VOp9PlcmVmZiYmJmZnZ++sLSwsrKysbGlpUSqVOp1OLpePjo4Gg8GKiopIG4ZhHjx4oFAojEbjjx8/qqurFxcXW1tbb9++nZeXd/r0aa/X6/f79z6bCCBFIgBEmfn5+atXr9JLoDqdThRFm81GCPn69SttsL6+bjKZTp3650A2Pj7ebrfTKpZlm5qaIl21trYyDNPe3v758+fc3NzIH59l2dra2u3t7aPfO4Bow4iieCwBDAAHJ4piOByWyWQ7C799+zYxMZGQkJCVlcVx3EH6WVpaWlhYkMlk58+fVygUhzNYgBiDIAQAAEnDZBkAAJA0BCEAAEgaghAAACQNQQgAAJKGIAQAAElDEAIAgKT9BPSSMUw3xn1DAAAAAElFTkSuQmCC\" />"
      ]
     },
     "metadata": {},
     "output_type": "display_data"
    },
    {
     "data": {
      "text/html": [
       "<div><div style = \"float: left;\"><span>401×3 DataFrame</span></div><div style = \"float: right;\"><span style = \"font-style: italic;\">376 rows omitted</span></div><div style = \"clear: both;\"></div></div><div class = \"data-frame\" style = \"overflow-x: scroll;\"><table class = \"data-frame\" style = \"margin-bottom: 6px;\"><thead><tr class = \"header\"><th class = \"rowNumber\" style = \"font-weight: bold; text-align: right;\">Row</th><th style = \"text-align: left;\">paper</th><th style = \"text-align: left;\">rock</th><th style = \"text-align: left;\">scissor</th></tr><tr class = \"subheader headerLastRow\"><th class = \"rowNumber\" style = \"font-weight: bold; text-align: right;\"></th><th title = \"Int64\" style = \"text-align: left;\">Int64</th><th title = \"Int64\" style = \"text-align: left;\">Int64</th><th title = \"Int64\" style = \"text-align: left;\">Int64</th></tr></thead><tbody><tr><td class = \"rowNumber\" style = \"font-weight: bold; text-align: right;\">1</td><td style = \"text-align: right;\">868</td><td style = \"text-align: right;\">825</td><td style = \"text-align: right;\">807</td></tr><tr><td class = \"rowNumber\" style = \"font-weight: bold; text-align: right;\">2</td><td style = \"text-align: right;\">874</td><td style = \"text-align: right;\">823</td><td style = \"text-align: right;\">803</td></tr><tr><td class = \"rowNumber\" style = \"font-weight: bold; text-align: right;\">3</td><td style = \"text-align: right;\">880</td><td style = \"text-align: right;\">821</td><td style = \"text-align: right;\">799</td></tr><tr><td class = \"rowNumber\" style = \"font-weight: bold; text-align: right;\">4</td><td style = \"text-align: right;\">881</td><td style = \"text-align: right;\">816</td><td style = \"text-align: right;\">803</td></tr><tr><td class = \"rowNumber\" style = \"font-weight: bold; text-align: right;\">5</td><td style = \"text-align: right;\">876</td><td style = \"text-align: right;\">812</td><td style = \"text-align: right;\">812</td></tr><tr><td class = \"rowNumber\" style = \"font-weight: bold; text-align: right;\">6</td><td style = \"text-align: right;\">876</td><td style = \"text-align: right;\">811</td><td style = \"text-align: right;\">813</td></tr><tr><td class = \"rowNumber\" style = \"font-weight: bold; text-align: right;\">7</td><td style = \"text-align: right;\">877</td><td style = \"text-align: right;\">811</td><td style = \"text-align: right;\">812</td></tr><tr><td class = \"rowNumber\" style = \"font-weight: bold; text-align: right;\">8</td><td style = \"text-align: right;\">878</td><td style = \"text-align: right;\">804</td><td style = \"text-align: right;\">818</td></tr><tr><td class = \"rowNumber\" style = \"font-weight: bold; text-align: right;\">9</td><td style = \"text-align: right;\">875</td><td style = \"text-align: right;\">804</td><td style = \"text-align: right;\">821</td></tr><tr><td class = \"rowNumber\" style = \"font-weight: bold; text-align: right;\">10</td><td style = \"text-align: right;\">874</td><td style = \"text-align: right;\">805</td><td style = \"text-align: right;\">821</td></tr><tr><td class = \"rowNumber\" style = \"font-weight: bold; text-align: right;\">11</td><td style = \"text-align: right;\">878</td><td style = \"text-align: right;\">805</td><td style = \"text-align: right;\">817</td></tr><tr><td class = \"rowNumber\" style = \"font-weight: bold; text-align: right;\">12</td><td style = \"text-align: right;\">876</td><td style = \"text-align: right;\">806</td><td style = \"text-align: right;\">818</td></tr><tr><td class = \"rowNumber\" style = \"font-weight: bold; text-align: right;\">13</td><td style = \"text-align: right;\">880</td><td style = \"text-align: right;\">805</td><td style = \"text-align: right;\">815</td></tr><tr><td style = \"text-align: right;\">&vellip;</td><td style = \"text-align: right;\">&vellip;</td><td style = \"text-align: right;\">&vellip;</td><td style = \"text-align: right;\">&vellip;</td></tr><tr><td class = \"rowNumber\" style = \"font-weight: bold; text-align: right;\">390</td><td style = \"text-align: right;\">866</td><td style = \"text-align: right;\">809</td><td style = \"text-align: right;\">825</td></tr><tr><td class = \"rowNumber\" style = \"font-weight: bold; text-align: right;\">391</td><td style = \"text-align: right;\">866</td><td style = \"text-align: right;\">809</td><td style = \"text-align: right;\">825</td></tr><tr><td class = \"rowNumber\" style = \"font-weight: bold; text-align: right;\">392</td><td style = \"text-align: right;\">866</td><td style = \"text-align: right;\">809</td><td style = \"text-align: right;\">825</td></tr><tr><td class = \"rowNumber\" style = \"font-weight: bold; text-align: right;\">393</td><td style = \"text-align: right;\">866</td><td style = \"text-align: right;\">809</td><td style = \"text-align: right;\">825</td></tr><tr><td class = \"rowNumber\" style = \"font-weight: bold; text-align: right;\">394</td><td style = \"text-align: right;\">866</td><td style = \"text-align: right;\">809</td><td style = \"text-align: right;\">825</td></tr><tr><td class = \"rowNumber\" style = \"font-weight: bold; text-align: right;\">395</td><td style = \"text-align: right;\">866</td><td style = \"text-align: right;\">809</td><td style = \"text-align: right;\">825</td></tr><tr><td class = \"rowNumber\" style = \"font-weight: bold; text-align: right;\">396</td><td style = \"text-align: right;\">866</td><td style = \"text-align: right;\">809</td><td style = \"text-align: right;\">825</td></tr><tr><td class = \"rowNumber\" style = \"font-weight: bold; text-align: right;\">397</td><td style = \"text-align: right;\">866</td><td style = \"text-align: right;\">809</td><td style = \"text-align: right;\">825</td></tr><tr><td class = \"rowNumber\" style = \"font-weight: bold; text-align: right;\">398</td><td style = \"text-align: right;\">866</td><td style = \"text-align: right;\">809</td><td style = \"text-align: right;\">825</td></tr><tr><td class = \"rowNumber\" style = \"font-weight: bold; text-align: right;\">399</td><td style = \"text-align: right;\">866</td><td style = \"text-align: right;\">809</td><td style = \"text-align: right;\">825</td></tr><tr><td class = \"rowNumber\" style = \"font-weight: bold; text-align: right;\">400</td><td style = \"text-align: right;\">866</td><td style = \"text-align: right;\">809</td><td style = \"text-align: right;\">825</td></tr><tr><td class = \"rowNumber\" style = \"font-weight: bold; text-align: right;\">401</td><td style = \"text-align: right;\">866</td><td style = \"text-align: right;\">809</td><td style = \"text-align: right;\">825</td></tr></tbody></table></div>"
      ],
      "text/latex": [
       "\\begin{tabular}{r|ccc}\n",
       "\t& paper & rock & scissor\\\\\n",
       "\t\\hline\n",
       "\t& Int64 & Int64 & Int64\\\\\n",
       "\t\\hline\n",
       "\t1 & 868 & 825 & 807 \\\\\n",
       "\t2 & 874 & 823 & 803 \\\\\n",
       "\t3 & 880 & 821 & 799 \\\\\n",
       "\t4 & 881 & 816 & 803 \\\\\n",
       "\t5 & 876 & 812 & 812 \\\\\n",
       "\t6 & 876 & 811 & 813 \\\\\n",
       "\t7 & 877 & 811 & 812 \\\\\n",
       "\t8 & 878 & 804 & 818 \\\\\n",
       "\t9 & 875 & 804 & 821 \\\\\n",
       "\t10 & 874 & 805 & 821 \\\\\n",
       "\t11 & 878 & 805 & 817 \\\\\n",
       "\t12 & 876 & 806 & 818 \\\\\n",
       "\t13 & 880 & 805 & 815 \\\\\n",
       "\t14 & 878 & 809 & 813 \\\\\n",
       "\t15 & 880 & 808 & 812 \\\\\n",
       "\t16 & 876 & 807 & 817 \\\\\n",
       "\t17 & 877 & 806 & 817 \\\\\n",
       "\t18 & 875 & 806 & 819 \\\\\n",
       "\t19 & 876 & 806 & 818 \\\\\n",
       "\t20 & 873 & 806 & 821 \\\\\n",
       "\t21 & 872 & 809 & 819 \\\\\n",
       "\t22 & 869 & 809 & 822 \\\\\n",
       "\t23 & 867 & 810 & 823 \\\\\n",
       "\t24 & 868 & 810 & 822 \\\\\n",
       "\t25 & 867 & 811 & 822 \\\\\n",
       "\t26 & 867 & 811 & 822 \\\\\n",
       "\t27 & 867 & 810 & 823 \\\\\n",
       "\t28 & 867 & 811 & 822 \\\\\n",
       "\t29 & 869 & 809 & 822 \\\\\n",
       "\t30 & 867 & 808 & 825 \\\\\n",
       "\t$\\dots$ & $\\dots$ & $\\dots$ & $\\dots$ \\\\\n",
       "\\end{tabular}\n"
      ],
      "text/plain": [
       "\u001b[1m401×3 DataFrame\u001b[0m\n",
       "\u001b[1m Row \u001b[0m│\u001b[1m paper \u001b[0m\u001b[1m rock  \u001b[0m\u001b[1m scissor \u001b[0m\n",
       "     │\u001b[90m Int64 \u001b[0m\u001b[90m Int64 \u001b[0m\u001b[90m Int64   \u001b[0m\n",
       "─────┼───────────────────────\n",
       "   1 │   868    825      807\n",
       "   2 │   874    823      803\n",
       "   3 │   880    821      799\n",
       "   4 │   881    816      803\n",
       "   5 │   876    812      812\n",
       "   6 │   876    811      813\n",
       "   7 │   877    811      812\n",
       "   8 │   878    804      818\n",
       "   9 │   875    804      821\n",
       "  10 │   874    805      821\n",
       "  11 │   878    805      817\n",
       "  ⋮  │   ⋮      ⋮       ⋮\n",
       " 392 │   866    809      825\n",
       " 393 │   866    809      825\n",
       " 394 │   866    809      825\n",
       " 395 │   866    809      825\n",
       " 396 │   866    809      825\n",
       " 397 │   866    809      825\n",
       " 398 │   866    809      825\n",
       " 399 │   866    809      825\n",
       " 400 │   866    809      825\n",
       " 401 │   866    809      825\n",
       "\u001b[36m             380 rows omitted\u001b[0m"
      ]
     },
     "execution_count": 24,
     "metadata": {},
     "output_type": "execute_result"
    }
   ],
   "source": [
    "df = get_nums_patches(model, \n",
    "    patch-> patch.color ==cl\"red\", \n",
    "    patch-> patch.color ==cl\"green\", \n",
    "    patch-> patch.color ==cl\"blue\", labels=[\"rock\",\"paper\",\"scissor\"], plot_result=true)"
   ]
  },
  {
   "cell_type": "code",
   "execution_count": null,
   "metadata": {},
   "outputs": [],
   "source": []
  }
 ],
 "metadata": {
  "@webio": {
   "lastCommId": "870193bc932945a483fc07e8948d8af9",
   "lastKernelId": "6d1b3570-a7ef-49c7-ae4c-ba8623b7bb5f"
  },
  "kernelspec": {
   "display_name": "Julia 1.9.2",
   "language": "julia",
   "name": "julia-1.9"
  },
  "language_info": {
   "file_extension": ".jl",
   "mimetype": "application/julia",
   "name": "julia",
   "version": "1.9.2"
  }
 },
 "nbformat": 4,
 "nbformat_minor": 4
}
