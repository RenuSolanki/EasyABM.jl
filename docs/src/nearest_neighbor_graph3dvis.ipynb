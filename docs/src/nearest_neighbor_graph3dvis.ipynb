{
 "cells": [
  {
   "cell_type": "markdown",
   "metadata": {},
   "source": [
    "# Nearest neighbor graph generator 3D visualisation"
   ]
  },
  {
   "cell_type": "code",
   "execution_count": 1,
   "metadata": {},
   "outputs": [
    {
     "name": "stderr",
     "output_type": "stream",
     "text": [
      "\u001b[32m\u001b[1m  Activating\u001b[22m\u001b[39m project at `~/Documents/EasyABM`\n"
     ]
    },
    {
     "data": {
      "application/vnd.webio.node+json": {
       "children": [],
       "instanceArgs": {
        "namespace": "html",
        "tag": "div"
       },
       "nodeType": "DOM",
       "props": {},
       "type": "node"
      },
      "text/html": [
       "<div style=\"padding: 1em; background-color: #f8d6da; border: 1px solid #f5c6cb; font-weight: bold;\">\n",
       "<p>The WebIO Jupyter extension was not detected. See the\n",
       "<a href=\"https://juliagizmos.github.io/WebIO.jl/latest/providers/ijulia/\" target=\"_blank\">\n",
       "    WebIO Jupyter integration documentation\n",
       "</a>\n",
       "for more information.\n",
       "</div>\n"
      ],
      "text/plain": [
       "WebIO._IJuliaInit()"
      ]
     },
     "metadata": {
      "application/vnd.webio.node+json": {
       "kernelId": "fab3a207-5cc6-48f3-878c-afb9e67be364"
      }
     },
     "output_type": "display_data"
    }
   ],
   "source": [
    "# no need to run first two lines if using installed version of EasyABM\n",
    "using Pkg, Revise\n",
    "Pkg.activate(joinpath(@__DIR__,\"../..\"))\n",
    "using EasyABM"
   ]
  },
  {
   "cell_type": "markdown",
   "metadata": {},
   "source": [
    "## Step 1: Create Model\n",
    "\n",
    "In this model we will work solely with the graph and won't require agents. We create a dynamic graph of n=100 vertices (and no edges) and create a model with this graph as base space. The model parameter `nns` is the number of nearest neighbors that each node will have edges with. "
   ]
  },
  {
   "cell_type": "code",
   "execution_count": 65,
   "metadata": {},
   "outputs": [
    {
     "data": {
      "text/plain": [
       "EasyABM GraphModel{EasyABM.MortalType, EasyABM.StaticType, EasyABM.SimGType}: In a {EasyABM.MortalType, EasyABM.StaticType} model graph topology can change and agents number is fixed.\n"
      ]
     },
     "execution_count": 65,
     "metadata": {},
     "output_type": "execute_result"
    }
   ],
   "source": [
    "n=100\n",
    "graph = dynamic_simple_graph(n);  \n",
    "model = create_graph_model(graph, nns=2, vis_space=\"3d\")"
   ]
  },
  {
   "cell_type": "markdown",
   "metadata": {},
   "source": [
    "## Step 2: Initialise the model\n",
    "\n",
    "In this model we use NearestNeighbors.jl package to produce a kdtree of points which will be used to get nearest neighbors in the step rule. We create a random 3xn matrix and initialise the positions of nodes with these vectors. "
   ]
  },
  {
   "cell_type": "code",
   "execution_count": 47,
   "metadata": {},
   "outputs": [],
   "source": [
    "using NearestNeighbors"
   ]
  },
  {
   "cell_type": "code",
   "execution_count": 66,
   "metadata": {},
   "outputs": [],
   "source": [
    "vecs =  rand(3, n) .* 10; # 3xn matrix; x,y,z take values from 0 to 10\n",
    "function initialiser!(model)\n",
    "    for ed in collect(edges(model.graph)) # collect is used because the iterator \"edges\" is being modified within loop\n",
    "        kill_edge!(ed, model)\n",
    "    end\n",
    "    for i in 1:n\n",
    "        model.graph.nodesprops[i].pos3 = (vecs[1,i], vecs[2,i], vecs[3,i])\n",
    "    end\n",
    "end\n",
    "init_model!(model, initialiser= initialiser!)"
   ]
  },
  {
   "cell_type": "markdown",
   "metadata": {},
   "source": [
    "## Step 3: Defining the step_rule! and running the model\n",
    "\n",
    "In the `step_rule!` function we need to compute nearest neighbors of points for which we make use of NearestNeighbors.jl package."
   ]
  },
  {
   "cell_type": "code",
   "execution_count": 67,
   "metadata": {},
   "outputs": [],
   "source": [
    "using NearestNeighbors\n",
    "kdtree = KDTree(vecs,leafsize=1)\n",
    "\n",
    "function step_rule!(model)\n",
    "    if model.tick <=n\n",
    "        i = model.tick\n",
    "        indices, _ = knn(kdtree, vecs[:,i], model.parameters.nns, true)\n",
    "        for j in indices\n",
    "            if j!=i\n",
    "                create_edge!(i,j, model)\n",
    "            end\n",
    "        end\n",
    "    end  \n",
    "end\n",
    "\n",
    "run_model!(model, steps=n, step_rule = step_rule! )"
   ]
  },
  {
   "cell_type": "markdown",
   "metadata": {},
   "source": [
    "\n",
    "## Step 3: Visualisation\n",
    "\n",
    "In order to draw the model at a specific frame, say 4th, one can do "
   ]
  },
  {
   "cell_type": "code",
   "execution_count": 42,
   "metadata": {
    "scrolled": true
   },
   "outputs": [
    {
     "name": "stderr",
     "output_type": "stream",
     "text": [
      "\u001b[36m\u001b[1m[ \u001b[22m\u001b[39m\u001b[36m\u001b[1mInfo: \u001b[22m\u001b[39mListening on: 127.0.0.1:8709, thread id: 1\n",
      "\u001b[36m\u001b[1m┌ \u001b[22m\u001b[39m\u001b[36m\u001b[1mInfo: \u001b[22m\u001b[39mMeshCat server started. You can open the visualizer by visiting the following URL in your browser:\n",
      "\u001b[36m\u001b[1m└ \u001b[22m\u001b[39mhttp://127.0.0.1:8709\n"
     ]
    },
    {
     "data": {
      "text/html": [
       "    <div style=\"height: 500px; width: 100%; overflow-x: auto; overflow-y: hidden; resize: both\">\n",
       "    <iframe src=\"http://127.0.0.1:8709\" style=\"width: 100%; height: 100%; border: none\"></iframe>\n",
       "    </div>\n"
      ],
      "text/plain": [
       "MeshCat.DisplayedVisualizer(MeshCat.CoreVisualizer(MeshCat.SceneTrees.SceneNode(nothing, nothing, Dict{String, Vector{UInt8}}(), nothing, Dict{String, MeshCat.SceneTrees.SceneNode}(\"meshcat\" => MeshCat.SceneTrees.SceneNode(nothing, UInt8[0x83, 0xa6, 0x6d, 0x61, 0x74, 0x72, 0x69, 0x78, 0xc7, 0x40  …  0x68, 0xa8, 0x2f, 0x6d, 0x65, 0x73, 0x68, 0x63, 0x61, 0x74], Dict{String, Vector{UInt8}}(), nothing, Dict{String, MeshCat.SceneTrees.SceneNode}(\"nodes\" => MeshCat.SceneTrees.SceneNode(nothing, nothing, Dict{String, Vector{UInt8}}(), nothing, Dict{String, MeshCat.SceneTrees.SceneNode}(\"8\" => MeshCat.SceneTrees.SceneNode(UInt8[0x83, 0xa6, 0x6f, 0x62, 0x6a, 0x65, 0x63, 0x74, 0x84, 0xaa  …  0x61, 0x74, 0x2f, 0x6e, 0x6f, 0x64, 0x65, 0x73, 0x2f, 0x38], UInt8[0x83, 0xa6, 0x6d, 0x61, 0x74, 0x72, 0x69, 0x78, 0xc7, 0x40  …  0x61, 0x74, 0x2f, 0x6e, 0x6f, 0x64, 0x65, 0x73, 0x2f, 0x38], Dict{String, Vector{UInt8}}(), nothing, Dict{String, MeshCat.SceneTrees.SceneNode}()), \"4\" => MeshCat.SceneTrees.SceneNode(UInt8[0x83, 0xa6, 0x6f, 0x62, 0x6a, 0x65, 0x63, 0x74, 0x84, 0xaa  …  0x61, 0x74, 0x2f, 0x6e, 0x6f, 0x64, 0x65, 0x73, 0x2f, 0x34], UInt8[0x83, 0xa6, 0x6d, 0x61, 0x74, 0x72, 0x69, 0x78, 0xc7, 0x40  …  0x61, 0x74, 0x2f, 0x6e, 0x6f, 0x64, 0x65, 0x73, 0x2f, 0x34], Dict{String, Vector{UInt8}}(), nothing, Dict{String, MeshCat.SceneTrees.SceneNode}()), \"1\" => MeshCat.SceneTrees.SceneNode(UInt8[0x83, 0xa6, 0x6f, 0x62, 0x6a, 0x65, 0x63, 0x74, 0x84, 0xaa  …  0x61, 0x74, 0x2f, 0x6e, 0x6f, 0x64, 0x65, 0x73, 0x2f, 0x31], UInt8[0x83, 0xa6, 0x6d, 0x61, 0x74, 0x72, 0x69, 0x78, 0xc7, 0x40  …  0x61, 0x74, 0x2f, 0x6e, 0x6f, 0x64, 0x65, 0x73, 0x2f, 0x31], Dict{String, Vector{UInt8}}(), nothing, Dict{String, MeshCat.SceneTrees.SceneNode}()), \"5\" => MeshCat.SceneTrees.SceneNode(UInt8[0x83, 0xa6, 0x6f, 0x62, 0x6a, 0x65, 0x63, 0x74, 0x84, 0xaa  …  0x61, 0x74, 0x2f, 0x6e, 0x6f, 0x64, 0x65, 0x73, 0x2f, 0x35], UInt8[0x83, 0xa6, 0x6d, 0x61, 0x74, 0x72, 0x69, 0x78, 0xc7, 0x40  …  0x61, 0x74, 0x2f, 0x6e, 0x6f, 0x64, 0x65, 0x73, 0x2f, 0x35], Dict{String, Vector{UInt8}}(), nothing, Dict{String, MeshCat.SceneTrees.SceneNode}()), \"2\" => MeshCat.SceneTrees.SceneNode(UInt8[0x83, 0xa6, 0x6f, 0x62, 0x6a, 0x65, 0x63, 0x74, 0x84, 0xaa  …  0x61, 0x74, 0x2f, 0x6e, 0x6f, 0x64, 0x65, 0x73, 0x2f, 0x32], UInt8[0x83, 0xa6, 0x6d, 0x61, 0x74, 0x72, 0x69, 0x78, 0xc7, 0x40  …  0x61, 0x74, 0x2f, 0x6e, 0x6f, 0x64, 0x65, 0x73, 0x2f, 0x32], Dict{String, Vector{UInt8}}(), nothing, Dict{String, MeshCat.SceneTrees.SceneNode}()), \"6\" => MeshCat.SceneTrees.SceneNode(UInt8[0x83, 0xa6, 0x6f, 0x62, 0x6a, 0x65, 0x63, 0x74, 0x84, 0xaa  …  0x61, 0x74, 0x2f, 0x6e, 0x6f, 0x64, 0x65, 0x73, 0x2f, 0x36], UInt8[0x83, 0xa6, 0x6d, 0x61, 0x74, 0x72, 0x69, 0x78, 0xc7, 0x40  …  0x61, 0x74, 0x2f, 0x6e, 0x6f, 0x64, 0x65, 0x73, 0x2f, 0x36], Dict{String, Vector{UInt8}}(), nothing, Dict{String, MeshCat.SceneTrees.SceneNode}()), \"7\" => MeshCat.SceneTrees.SceneNode(UInt8[0x83, 0xa6, 0x6f, 0x62, 0x6a, 0x65, 0x63, 0x74, 0x84, 0xaa  …  0x61, 0x74, 0x2f, 0x6e, 0x6f, 0x64, 0x65, 0x73, 0x2f, 0x37], UInt8[0x83, 0xa6, 0x6d, 0x61, 0x74, 0x72, 0x69, 0x78, 0xc7, 0x40  …  0x61, 0x74, 0x2f, 0x6e, 0x6f, 0x64, 0x65, 0x73, 0x2f, 0x37], Dict{String, Vector{UInt8}}(), nothing, Dict{String, MeshCat.SceneTrees.SceneNode}()), \"10\" => MeshCat.SceneTrees.SceneNode(UInt8[0x83, 0xa6, 0x6f, 0x62, 0x6a, 0x65, 0x63, 0x74, 0x84, 0xaa  …  0x74, 0x2f, 0x6e, 0x6f, 0x64, 0x65, 0x73, 0x2f, 0x31, 0x30], UInt8[0x83, 0xa6, 0x6d, 0x61, 0x74, 0x72, 0x69, 0x78, 0xc7, 0x40  …  0x74, 0x2f, 0x6e, 0x6f, 0x64, 0x65, 0x73, 0x2f, 0x31, 0x30], Dict{String, Vector{UInt8}}(), nothing, Dict{String, MeshCat.SceneTrees.SceneNode}()), \"9\" => MeshCat.SceneTrees.SceneNode(UInt8[0x83, 0xa6, 0x6f, 0x62, 0x6a, 0x65, 0x63, 0x74, 0x84, 0xaa  …  0x61, 0x74, 0x2f, 0x6e, 0x6f, 0x64, 0x65, 0x73, 0x2f, 0x39], UInt8[0x83, 0xa6, 0x6d, 0x61, 0x74, 0x72, 0x69, 0x78, 0xc7, 0x40  …  0x61, 0x74, 0x2f, 0x6e, 0x6f, 0x64, 0x65, 0x73, 0x2f, 0x39], Dict{String, Vector{UInt8}}(), nothing, Dict{String, MeshCat.SceneTrees.SceneNode}()), \"3\" => MeshCat.SceneTrees.SceneNode(UInt8[0x83, 0xa6, 0x6f, 0x62, 0x6a, 0x65, 0x63, 0x74, 0x84, 0xaa  …  0x61, 0x74, 0x2f, 0x6e, 0x6f, 0x64, 0x65, 0x73, 0x2f, 0x33], UInt8[0x83, 0xa6, 0x6d, 0x61, 0x74, 0x72, 0x69, 0x78, 0xc7, 0x40  …  0x61, 0x74, 0x2f, 0x6e, 0x6f, 0x64, 0x65, 0x73, 0x2f, 0x33], Dict{String, Vector{UInt8}}(), nothing, Dict{String, MeshCat.SceneTrees.SceneNode}())…)), \"bbox_line_segments\" => MeshCat.SceneTrees.SceneNode(nothing, nothing, Dict{String, Vector{UInt8}}(), nothing, Dict{String, MeshCat.SceneTrees.SceneNode}(\"4\" => MeshCat.SceneTrees.SceneNode(UInt8[0x83, 0xa6, 0x6f, 0x62, 0x6a, 0x65, 0x63, 0x74, 0x84, 0xaa  …  0x73, 0x65, 0x67, 0x6d, 0x65, 0x6e, 0x74, 0x73, 0x2f, 0x34], nothing, Dict{String, Vector{UInt8}}(), nothing, Dict{String, MeshCat.SceneTrees.SceneNode}()), \"1\" => MeshCat.SceneTrees.SceneNode(UInt8[0x83, 0xa6, 0x6f, 0x62, 0x6a, 0x65, 0x63, 0x74, 0x84, 0xaa  …  0x73, 0x65, 0x67, 0x6d, 0x65, 0x6e, 0x74, 0x73, 0x2f, 0x31], nothing, Dict{String, Vector{UInt8}}(), nothing, Dict{String, MeshCat.SceneTrees.SceneNode}()), \"12\" => MeshCat.SceneTrees.SceneNode(UInt8[0x83, 0xa6, 0x6f, 0x62, 0x6a, 0x65, 0x63, 0x74, 0x84, 0xaa  …  0x65, 0x67, 0x6d, 0x65, 0x6e, 0x74, 0x73, 0x2f, 0x31, 0x32], nothing, Dict{String, Vector{UInt8}}(), nothing, Dict{String, MeshCat.SceneTrees.SceneNode}()), \"2\" => MeshCat.SceneTrees.SceneNode(UInt8[0x83, 0xa6, 0x6f, 0x62, 0x6a, 0x65, 0x63, 0x74, 0x84, 0xaa  …  0x73, 0x65, 0x67, 0x6d, 0x65, 0x6e, 0x74, 0x73, 0x2f, 0x32], nothing, Dict{String, Vector{UInt8}}(), nothing, Dict{String, MeshCat.SceneTrees.SceneNode}()), \"6\" => MeshCat.SceneTrees.SceneNode(UInt8[0x83, 0xa6, 0x6f, 0x62, 0x6a, 0x65, 0x63, 0x74, 0x84, 0xaa  …  0x73, 0x65, 0x67, 0x6d, 0x65, 0x6e, 0x74, 0x73, 0x2f, 0x36], nothing, Dict{String, Vector{UInt8}}(), nothing, Dict{String, MeshCat.SceneTrees.SceneNode}()), \"11\" => MeshCat.SceneTrees.SceneNode(UInt8[0x83, 0xa6, 0x6f, 0x62, 0x6a, 0x65, 0x63, 0x74, 0x84, 0xaa  …  0x65, 0x67, 0x6d, 0x65, 0x6e, 0x74, 0x73, 0x2f, 0x31, 0x31], nothing, Dict{String, Vector{UInt8}}(), nothing, Dict{String, MeshCat.SceneTrees.SceneNode}()), \"5\" => MeshCat.SceneTrees.SceneNode(UInt8[0x83, 0xa6, 0x6f, 0x62, 0x6a, 0x65, 0x63, 0x74, 0x84, 0xaa  …  0x73, 0x65, 0x67, 0x6d, 0x65, 0x6e, 0x74, 0x73, 0x2f, 0x35], nothing, Dict{String, Vector{UInt8}}(), nothing, Dict{String, MeshCat.SceneTrees.SceneNode}()), \"7\" => MeshCat.SceneTrees.SceneNode(UInt8[0x83, 0xa6, 0x6f, 0x62, 0x6a, 0x65, 0x63, 0x74, 0x84, 0xaa  …  0x73, 0x65, 0x67, 0x6d, 0x65, 0x6e, 0x74, 0x73, 0x2f, 0x37], nothing, Dict{String, Vector{UInt8}}(), nothing, Dict{String, MeshCat.SceneTrees.SceneNode}()), \"8\" => MeshCat.SceneTrees.SceneNode(UInt8[0x83, 0xa6, 0x6f, 0x62, 0x6a, 0x65, 0x63, 0x74, 0x84, 0xaa  …  0x73, 0x65, 0x67, 0x6d, 0x65, 0x6e, 0x74, 0x73, 0x2f, 0x38], nothing, Dict{String, Vector{UInt8}}(), nothing, Dict{String, MeshCat.SceneTrees.SceneNode}()), \"10\" => MeshCat.SceneTrees.SceneNode(UInt8[0x83, 0xa6, 0x6f, 0x62, 0x6a, 0x65, 0x63, 0x74, 0x84, 0xaa  …  0x65, 0x67, 0x6d, 0x65, 0x6e, 0x74, 0x73, 0x2f, 0x31, 0x30], nothing, Dict{String, Vector{UInt8}}(), nothing, Dict{String, MeshCat.SceneTrees.SceneNode}())…)), \"edges\" => MeshCat.SceneTrees.SceneNode(nothing, nothing, Dict{String, Vector{UInt8}}(), nothing, Dict{String, MeshCat.SceneTrees.SceneNode}(\"(1, 2)\" => MeshCat.SceneTrees.SceneNode(UInt8[0x83, 0xa6, 0x6f, 0x62, 0x6a, 0x65, 0x63, 0x74, 0x84, 0xaa  …  0x67, 0x65, 0x73, 0x2f, 0x28, 0x31, 0x2c, 0x20, 0x32, 0x29], UInt8[0x83, 0xa6, 0x6d, 0x61, 0x74, 0x72, 0x69, 0x78, 0xc7, 0x40  …  0x67, 0x65, 0x73, 0x2f, 0x28, 0x31, 0x2c, 0x20, 0x32, 0x29], Dict{String, Vector{UInt8}}(\"scale\" => [0x84, 0xa8, 0x70, 0x72, 0x6f, 0x70, 0x65, 0x72, 0x74, 0x79  …  0x67, 0x65, 0x73, 0x2f, 0x28, 0x31, 0x2c, 0x20, 0x32, 0x29]), nothing, Dict{String, MeshCat.SceneTrees.SceneNode}()))))), \"Axes\" => MeshCat.SceneTrees.SceneNode(nothing, nothing, Dict{String, Vector{UInt8}}(), nothing, Dict{String, MeshCat.SceneTrees.SceneNode}(\"<object>\" => MeshCat.SceneTrees.SceneNode(UInt8[0x83, 0xa6, 0x6f, 0x62, 0x6a, 0x65, 0x63, 0x74, 0x84, 0xaa  …  0x73, 0x2f, 0x3c, 0x6f, 0x62, 0x6a, 0x65, 0x63, 0x74, 0x3e], UInt8[0x83, 0xa6, 0x6d, 0x61, 0x74, 0x72, 0x69, 0x78, 0xc7, 0x40  …  0x73, 0x2f, 0x3c, 0x6f, 0x62, 0x6a, 0x65, 0x63, 0x74, 0x3e], Dict{String, Vector{UInt8}}(), nothing, Dict{String, MeshCat.SceneTrees.SceneNode}()))))), Set{HTTP.WebSockets.WebSocket}(), ip\"127.0.0.1\", 8709))"
      ]
     },
     "execution_count": 42,
     "metadata": {},
     "output_type": "execute_result"
    }
   ],
   "source": [
    "draw_frame(model, frame = 1)"
   ]
  },
  {
   "cell_type": "markdown",
   "metadata": {},
   "source": [
    "If one wants to see the animation of the model run, it can be done as "
   ]
  },
  {
   "cell_type": "code",
   "execution_count": 68,
   "metadata": {},
   "outputs": [
    {
     "name": "stderr",
     "output_type": "stream",
     "text": [
      "\u001b[36m\u001b[1m[ \u001b[22m\u001b[39m\u001b[36m\u001b[1mInfo: \u001b[22m\u001b[39mListening on: 127.0.0.1:8717, thread id: 1\n",
      "\u001b[36m\u001b[1m┌ \u001b[22m\u001b[39m\u001b[36m\u001b[1mInfo: \u001b[22m\u001b[39mMeshCat server started. You can open the visualizer by visiting the following URL in your browser:\n",
      "\u001b[36m\u001b[1m└ \u001b[22m\u001b[39mhttp://127.0.0.1:8717\n"
     ]
    },
    {
     "data": {
      "application/vnd.webio.node+json": {
       "children": [
        {
         "children": [
          {
           "children": [
            {
             "children": [
              {
               "children": [
                {
                 "children": [
                  {
                   "children": [
                    {
                     "children": [
                      "time"
                     ],
                     "instanceArgs": {
                      "namespace": "html",
                      "tag": "label"
                     },
                     "nodeType": "DOM",
                     "props": {
                      "className": "interact ",
                      "style": {
                       "padding": "5px 10px 0px 10px"
                      }
                     },
                     "type": "node"
                    }
                   ],
                   "instanceArgs": {
                    "namespace": "html",
                    "tag": "div"
                   },
                   "nodeType": "DOM",
                   "props": {
                    "className": "interact-flex-row-left"
                   },
                   "type": "node"
                  },
                  {
                   "children": [
                    {
                     "children": [],
                     "instanceArgs": {
                      "namespace": "html",
                      "tag": "input"
                     },
                     "nodeType": "DOM",
                     "props": {
                      "attributes": {
                       "data-bind": "numericValue: index, valueUpdate: 'input', event: {change: function (){this.changes(this.changes()+1)}}",
                       "orient": "horizontal",
                       "type": "range"
                      },
                      "className": "slider slider is-fullwidth",
                      "max": 101,
                      "min": 1,
                      "step": 1,
                      "style": {}
                     },
                     "type": "node"
                    }
                   ],
                   "instanceArgs": {
                    "namespace": "html",
                    "tag": "div"
                   },
                   "nodeType": "DOM",
                   "props": {
                    "className": "interact-flex-row-center"
                   },
                   "type": "node"
                  },
                  {
                   "children": [
                    {
                     "children": [],
                     "instanceArgs": {
                      "namespace": "html",
                      "tag": "p"
                     },
                     "nodeType": "DOM",
                     "props": {
                      "attributes": {
                       "data-bind": "text: formatted_val"
                      }
                     },
                     "type": "node"
                    }
                   ],
                   "instanceArgs": {
                    "namespace": "html",
                    "tag": "div"
                   },
                   "nodeType": "DOM",
                   "props": {
                    "className": "interact-flex-row-right"
                   },
                   "type": "node"
                  }
                 ],
                 "instanceArgs": {
                  "namespace": "html",
                  "tag": "div"
                 },
                 "nodeType": "DOM",
                 "props": {
                  "className": "interact-flex-row interact-widget"
                 },
                 "type": "node"
                }
               ],
               "instanceArgs": {
                "handlers": {
                 "changes": [
                  "(function (val){return (val!=this.model[\"changes\"]()) ? (this.valueFromJulia[\"changes\"]=true, this.model[\"changes\"](val)) : undefined})"
                 ],
                 "index": [
                  "(function (val){return (val!=this.model[\"index\"]()) ? (this.valueFromJulia[\"index\"]=true, this.model[\"index\"](val)) : undefined})"
                 ]
                },
                "id": "6499748859151760067",
                "imports": {
                 "data": [
                  {
                   "name": "knockout",
                   "type": "js",
                   "url": "/assetserver/727383f2a47bd31570b7da84eee7b022dd6d7c78-knockout.js"
                  },
                  {
                   "name": "knockout_punches",
                   "type": "js",
                   "url": "/assetserver/382b41b3b1bd9f26f75861d360bad7f8beea211f-knockout_punches.js"
                  },
                  {
                   "name": null,
                   "type": "js",
                   "url": "/assetserver/5ab20f1060420992a9b82a65b735dee4d81ef413-all.js"
                  },
                  {
                   "name": null,
                   "type": "css",
                   "url": "/assetserver/1cc0ed62837210b80a182cc3676512f895dab686-style.css"
                  },
                  {
                   "name": null,
                   "type": "css",
                   "url": "/assetserver/2eee816f616df3549d7044d45e744fbf8d42bfa1-bulma_confined.min.css"
                  }
                 ],
                 "type": "async_block"
                },
                "mount_callbacks": [
                 "function () {\n    var handler = (function (ko, koPunches) {\n    ko.punches.enableAll();\n    ko.bindingHandlers.numericValue = {\n        init: function(element, valueAccessor, allBindings, data, context) {\n            var stringified = ko.observable(ko.unwrap(valueAccessor()));\n            stringified.subscribe(function(value) {\n                var val = parseFloat(value);\n                if (!isNaN(val)) {\n                    valueAccessor()(val);\n                }\n            });\n            valueAccessor().subscribe(function(value) {\n                var str = JSON.stringify(value);\n                if ((str == \"0\") && ([\"-0\", \"-0.\"].indexOf(stringified()) >= 0))\n                     return;\n                 if ([\"null\", \"\"].indexOf(str) >= 0)\n                     return;\n                stringified(str);\n            });\n            ko.applyBindingsToNode(\n                element,\n                {\n                    value: stringified,\n                    valueUpdate: allBindings.get('valueUpdate'),\n                },\n                context,\n            );\n        }\n    };\n    var json_data = {\"formatted_vals\":[\"1\",\"2\",\"3\",\"4\",\"5\",\"6\",\"7\",\"8\",\"9\",\"10\",\"11\",\"12\",\"13\",\"14\",\"15\",\"16\",\"17\",\"18\",\"19\",\"20\",\"21\",\"22\",\"23\",\"24\",\"25\",\"26\",\"27\",\"28\",\"29\",\"30\",\"31\",\"32\",\"33\",\"34\",\"35\",\"36\",\"37\",\"38\",\"39\",\"40\",\"41\",\"42\",\"43\",\"44\",\"45\",\"46\",\"47\",\"48\",\"49\",\"50\",\"51\",\"52\",\"53\",\"54\",\"55\",\"56\",\"57\",\"58\",\"59\",\"60\",\"61\",\"62\",\"63\",\"64\",\"65\",\"66\",\"67\",\"68\",\"69\",\"70\",\"71\",\"72\",\"73\",\"74\",\"75\",\"76\",\"77\",\"78\",\"79\",\"80\",\"81\",\"82\",\"83\",\"84\",\"85\",\"86\",\"87\",\"88\",\"89\",\"90\",\"91\",\"92\",\"93\",\"94\",\"95\",\"96\",\"97\",\"98\",\"99\",\"100\",\"101\"],\"changes\":WebIO.getval({\"name\":\"changes\",\"scope\":\"6499748859151760067\",\"id\":\"5181827026265917582\",\"type\":\"observable\"}),\"index\":WebIO.getval({\"name\":\"index\",\"scope\":\"6499748859151760067\",\"id\":\"1252814684634750626\",\"type\":\"observable\"})};\n    var self = this;\n    function AppViewModel() {\n        for (var key in json_data) {\n            var el = json_data[key];\n            this[key] = Array.isArray(el) ? ko.observableArray(el) : ko.observable(el);\n        }\n        \n        [this[\"formatted_val\"]=ko.computed(    function(){\n        return this.formatted_vals()[parseInt(this.index())-(1)];\n    }\n,this)]\n        [this[\"changes\"].subscribe((function (val){!(this.valueFromJulia[\"changes\"]) ? (WebIO.setval({\"name\":\"changes\",\"scope\":\"6499748859151760067\",\"id\":\"5181827026265917582\",\"type\":\"observable\"},val)) : undefined; return this.valueFromJulia[\"changes\"]=false}),self),this[\"index\"].subscribe((function (val){!(this.valueFromJulia[\"index\"]) ? (WebIO.setval({\"name\":\"index\",\"scope\":\"6499748859151760067\",\"id\":\"1252814684634750626\",\"type\":\"observable\"},val)) : undefined; return this.valueFromJulia[\"index\"]=false}),self)]\n        \n    }\n    self.model = new AppViewModel();\n    self.valueFromJulia = {};\n    for (var key in json_data) {\n        self.valueFromJulia[key] = false;\n    }\n    ko.applyBindings(self.model, self.dom);\n}\n);\n    (WebIO.importBlock({\"data\":[{\"name\":\"knockout\",\"type\":\"js\",\"url\":\"/assetserver/727383f2a47bd31570b7da84eee7b022dd6d7c78-knockout.js\"},{\"name\":\"knockout_punches\",\"type\":\"js\",\"url\":\"/assetserver/382b41b3b1bd9f26f75861d360bad7f8beea211f-knockout_punches.js\"}],\"type\":\"async_block\"})).then((imports) => handler.apply(this, imports));\n}\n"
                ],
                "observables": {
                 "changes": {
                  "id": "5181827026265917582",
                  "sync": false,
                  "value": 0
                 },
                 "index": {
                  "id": "1252814684634750626",
                  "sync": true,
                  "value": 51
                 }
                },
                "systemjs_options": null
               },
               "nodeType": "Scope",
               "props": {},
               "type": "node"
              }
             ],
             "instanceArgs": {
              "namespace": "html",
              "tag": "div"
             },
             "nodeType": "DOM",
             "props": {
              "className": "field interact-widget"
             },
             "type": "node"
            },
            {
             "children": [
              {
               "children": [
                {
                 "children": [
                  {
                   "children": [
                    {
                     "children": [
                      "scale"
                     ],
                     "instanceArgs": {
                      "namespace": "html",
                      "tag": "label"
                     },
                     "nodeType": "DOM",
                     "props": {
                      "className": "interact ",
                      "style": {
                       "padding": "5px 10px 0px 10px"
                      }
                     },
                     "type": "node"
                    }
                   ],
                   "instanceArgs": {
                    "namespace": "html",
                    "tag": "div"
                   },
                   "nodeType": "DOM",
                   "props": {
                    "className": "interact-flex-row-left"
                   },
                   "type": "node"
                  },
                  {
                   "children": [
                    {
                     "children": [],
                     "instanceArgs": {
                      "namespace": "html",
                      "tag": "input"
                     },
                     "nodeType": "DOM",
                     "props": {
                      "attributes": {
                       "data-bind": "numericValue: index, valueUpdate: 'input', event: {change: function (){this.changes(this.changes()+1)}}",
                       "orient": "horizontal",
                       "type": "range"
                      },
                      "className": "slider slider is-fullwidth",
                      "max": 20,
                      "min": 1,
                      "step": 1,
                      "style": {}
                     },
                     "type": "node"
                    }
                   ],
                   "instanceArgs": {
                    "namespace": "html",
                    "tag": "div"
                   },
                   "nodeType": "DOM",
                   "props": {
                    "className": "interact-flex-row-center"
                   },
                   "type": "node"
                  },
                  {
                   "children": [
                    {
                     "children": [],
                     "instanceArgs": {
                      "namespace": "html",
                      "tag": "p"
                     },
                     "nodeType": "DOM",
                     "props": {
                      "attributes": {
                       "data-bind": "text: formatted_val"
                      }
                     },
                     "type": "node"
                    }
                   ],
                   "instanceArgs": {
                    "namespace": "html",
                    "tag": "div"
                   },
                   "nodeType": "DOM",
                   "props": {
                    "className": "interact-flex-row-right"
                   },
                   "type": "node"
                  }
                 ],
                 "instanceArgs": {
                  "namespace": "html",
                  "tag": "div"
                 },
                 "nodeType": "DOM",
                 "props": {
                  "className": "interact-flex-row interact-widget"
                 },
                 "type": "node"
                }
               ],
               "instanceArgs": {
                "handlers": {
                 "changes": [
                  "(function (val){return (val!=this.model[\"changes\"]()) ? (this.valueFromJulia[\"changes\"]=true, this.model[\"changes\"](val)) : undefined})"
                 ],
                 "index": [
                  "(function (val){return (val!=this.model[\"index\"]()) ? (this.valueFromJulia[\"index\"]=true, this.model[\"index\"](val)) : undefined})"
                 ]
                },
                "id": "8736222299978372920",
                "imports": {
                 "data": [
                  {
                   "name": "knockout",
                   "type": "js",
                   "url": "/assetserver/727383f2a47bd31570b7da84eee7b022dd6d7c78-knockout.js"
                  },
                  {
                   "name": "knockout_punches",
                   "type": "js",
                   "url": "/assetserver/382b41b3b1bd9f26f75861d360bad7f8beea211f-knockout_punches.js"
                  },
                  {
                   "name": null,
                   "type": "js",
                   "url": "/assetserver/5ab20f1060420992a9b82a65b735dee4d81ef413-all.js"
                  },
                  {
                   "name": null,
                   "type": "css",
                   "url": "/assetserver/1cc0ed62837210b80a182cc3676512f895dab686-style.css"
                  },
                  {
                   "name": null,
                   "type": "css",
                   "url": "/assetserver/2eee816f616df3549d7044d45e744fbf8d42bfa1-bulma_confined.min.css"
                  }
                 ],
                 "type": "async_block"
                },
                "mount_callbacks": [
                 "function () {\n    var handler = (function (ko, koPunches) {\n    ko.punches.enableAll();\n    ko.bindingHandlers.numericValue = {\n        init: function(element, valueAccessor, allBindings, data, context) {\n            var stringified = ko.observable(ko.unwrap(valueAccessor()));\n            stringified.subscribe(function(value) {\n                var val = parseFloat(value);\n                if (!isNaN(val)) {\n                    valueAccessor()(val);\n                }\n            });\n            valueAccessor().subscribe(function(value) {\n                var str = JSON.stringify(value);\n                if ((str == \"0\") && ([\"-0\", \"-0.\"].indexOf(stringified()) >= 0))\n                     return;\n                 if ([\"null\", \"\"].indexOf(str) >= 0)\n                     return;\n                stringified(str);\n            });\n            ko.applyBindingsToNode(\n                element,\n                {\n                    value: stringified,\n                    valueUpdate: allBindings.get('valueUpdate'),\n                },\n                context,\n            );\n        }\n    };\n    var json_data = {\"formatted_vals\":[\"0.1\",\"0.2\",\"0.3\",\"0.4\",\"0.5\",\"0.6\",\"0.7\",\"0.8\",\"0.9\",\"1.0\",\"1.1\",\"1.2\",\"1.3\",\"1.4\",\"1.5\",\"1.6\",\"1.7\",\"1.8\",\"1.9\",\"2.0\"],\"changes\":WebIO.getval({\"name\":\"changes\",\"scope\":\"8736222299978372920\",\"id\":\"9916526908176895011\",\"type\":\"observable\"}),\"index\":WebIO.getval({\"name\":\"index\",\"scope\":\"8736222299978372920\",\"id\":\"6119162104572755369\",\"type\":\"observable\"})};\n    var self = this;\n    function AppViewModel() {\n        for (var key in json_data) {\n            var el = json_data[key];\n            this[key] = Array.isArray(el) ? ko.observableArray(el) : ko.observable(el);\n        }\n        \n        [this[\"formatted_val\"]=ko.computed(    function(){\n        return this.formatted_vals()[parseInt(this.index())-(1)];\n    }\n,this)]\n        [this[\"changes\"].subscribe((function (val){!(this.valueFromJulia[\"changes\"]) ? (WebIO.setval({\"name\":\"changes\",\"scope\":\"8736222299978372920\",\"id\":\"9916526908176895011\",\"type\":\"observable\"},val)) : undefined; return this.valueFromJulia[\"changes\"]=false}),self),this[\"index\"].subscribe((function (val){!(this.valueFromJulia[\"index\"]) ? (WebIO.setval({\"name\":\"index\",\"scope\":\"8736222299978372920\",\"id\":\"6119162104572755369\",\"type\":\"observable\"},val)) : undefined; return this.valueFromJulia[\"index\"]=false}),self)]\n        \n    }\n    self.model = new AppViewModel();\n    self.valueFromJulia = {};\n    for (var key in json_data) {\n        self.valueFromJulia[key] = false;\n    }\n    ko.applyBindings(self.model, self.dom);\n}\n);\n    (WebIO.importBlock({\"data\":[{\"name\":\"knockout\",\"type\":\"js\",\"url\":\"/assetserver/727383f2a47bd31570b7da84eee7b022dd6d7c78-knockout.js\"},{\"name\":\"knockout_punches\",\"type\":\"js\",\"url\":\"/assetserver/382b41b3b1bd9f26f75861d360bad7f8beea211f-knockout_punches.js\"}],\"type\":\"async_block\"})).then((imports) => handler.apply(this, imports));\n}\n"
                ],
                "observables": {
                 "changes": {
                  "id": "9916526908176895011",
                  "sync": false,
                  "value": 0
                 },
                 "index": {
                  "id": "6119162104572755369",
                  "sync": true,
                  "value": 10
                 }
                },
                "systemjs_options": null
               },
               "nodeType": "Scope",
               "props": {},
               "type": "node"
              }
             ],
             "instanceArgs": {
              "namespace": "html",
              "tag": "div"
             },
             "nodeType": "DOM",
             "props": {
              "className": "field interact-widget"
             },
             "type": "node"
            },
            {
             "children": [
              {
               "children": [
                {
                 "children": [
                  {
                   "children": [],
                   "instanceArgs": {
                    "namespace": "html",
                    "tag": "div"
                   },
                   "nodeType": "DOM",
                   "props": {
                    "id": "container"
                   },
                   "type": "node"
                  }
                 ],
                 "instanceArgs": {
                  "handlers": {
                   "value": [
                    "(function (txt){return this.k.render(txt,this.container)})"
                   ]
                  },
                  "id": "15842354142459038864",
                  "imports": {
                   "data": [
                    {
                     "name": null,
                     "type": "js",
                     "url": "/assetserver/dd22ed1bf1896c2748f3fe616ce0b838adc895c1-katex.min.js"
                    },
                    {
                     "name": null,
                     "type": "css",
                     "url": "/assetserver/46517a424aa5e6cffc1360d7e0848b601c584ee3-katex.min.css"
                    }
                   ],
                   "type": "async_block"
                  },
                  "mount_callbacks": [
                   "function () {\n    var handler = ((function (k){this.k=k; this.container=this.dom.querySelector(\"#container\"); return k.render(\"\\\\;\\\\;\",this.container)}));\n    (WebIO.importBlock({\"data\":[{\"name\":null,\"type\":\"js\",\"url\":\"/assetserver/dd22ed1bf1896c2748f3fe616ce0b838adc895c1-katex.min.js\"},{\"name\":null,\"type\":\"css\",\"url\":\"/assetserver/46517a424aa5e6cffc1360d7e0848b601c584ee3-katex.min.css\"}],\"type\":\"async_block\"})).then((imports) => handler.apply(this, imports));\n}\n"
                  ],
                  "observables": {
                   "value": {
                    "id": "3256412866673120334",
                    "sync": false,
                    "value": "\\;\\;"
                   }
                  },
                  "systemjs_options": null
                 },
                 "nodeType": "Scope",
                 "props": {},
                 "type": "node"
                }
               ],
               "instanceArgs": {
                "namespace": "html",
                "tag": "div"
               },
               "nodeType": "DOM",
               "props": {
                "className": "interact-widget"
               },
               "type": "node"
              },
              {
               "children": [
                {
                 "children": [
                  {
                   "children": [
                    "run"
                   ],
                   "instanceArgs": {
                    "namespace": "html",
                    "tag": "button"
                   },
                   "nodeType": "DOM",
                   "props": {
                    "attributes": {
                     "data-bind": "click: function (){this.clicks(this.clicks()+1)}, css: {'is-loading' : loading}"
                    },
                    "className": "is-medium button is-primary",
                    "style": {}
                   },
                   "type": "node"
                  }
                 ],
                 "instanceArgs": {
                  "handlers": {
                   "clicks": [
                    "(function (val){return (val!=this.model[\"clicks\"]()) ? (this.valueFromJulia[\"clicks\"]=true, this.model[\"clicks\"](val)) : undefined})"
                   ],
                   "loading": [
                    "(function (val){return (val!=this.model[\"loading\"]()) ? (this.valueFromJulia[\"loading\"]=true, this.model[\"loading\"](val)) : undefined})"
                   ]
                  },
                  "id": "8245136971780236502",
                  "imports": {
                   "data": [
                    {
                     "name": "knockout",
                     "type": "js",
                     "url": "/assetserver/727383f2a47bd31570b7da84eee7b022dd6d7c78-knockout.js"
                    },
                    {
                     "name": "knockout_punches",
                     "type": "js",
                     "url": "/assetserver/382b41b3b1bd9f26f75861d360bad7f8beea211f-knockout_punches.js"
                    },
                    {
                     "name": null,
                     "type": "js",
                     "url": "/assetserver/5ab20f1060420992a9b82a65b735dee4d81ef413-all.js"
                    },
                    {
                     "name": null,
                     "type": "css",
                     "url": "/assetserver/1cc0ed62837210b80a182cc3676512f895dab686-style.css"
                    },
                    {
                     "name": null,
                     "type": "css",
                     "url": "/assetserver/2eee816f616df3549d7044d45e744fbf8d42bfa1-bulma_confined.min.css"
                    }
                   ],
                   "type": "async_block"
                  },
                  "mount_callbacks": [
                   "function () {\n    var handler = (function (ko, koPunches) {\n    ko.punches.enableAll();\n    ko.bindingHandlers.numericValue = {\n        init: function(element, valueAccessor, allBindings, data, context) {\n            var stringified = ko.observable(ko.unwrap(valueAccessor()));\n            stringified.subscribe(function(value) {\n                var val = parseFloat(value);\n                if (!isNaN(val)) {\n                    valueAccessor()(val);\n                }\n            });\n            valueAccessor().subscribe(function(value) {\n                var str = JSON.stringify(value);\n                if ((str == \"0\") && ([\"-0\", \"-0.\"].indexOf(stringified()) >= 0))\n                     return;\n                 if ([\"null\", \"\"].indexOf(str) >= 0)\n                     return;\n                stringified(str);\n            });\n            ko.applyBindingsToNode(\n                element,\n                {\n                    value: stringified,\n                    valueUpdate: allBindings.get('valueUpdate'),\n                },\n                context,\n            );\n        }\n    };\n    var json_data = {\"loading\":WebIO.getval({\"name\":\"loading\",\"scope\":\"8245136971780236502\",\"id\":\"15908248252675958321\",\"type\":\"observable\"}),\"clicks\":WebIO.getval({\"name\":\"clicks\",\"scope\":\"8245136971780236502\",\"id\":\"15567093229529328913\",\"type\":\"observable\"})};\n    var self = this;\n    function AppViewModel() {\n        for (var key in json_data) {\n            var el = json_data[key];\n            this[key] = Array.isArray(el) ? ko.observableArray(el) : ko.observable(el);\n        }\n        \n        \n        [this[\"loading\"].subscribe((function (val){!(this.valueFromJulia[\"loading\"]) ? (WebIO.setval({\"name\":\"loading\",\"scope\":\"8245136971780236502\",\"id\":\"15908248252675958321\",\"type\":\"observable\"},val)) : undefined; return this.valueFromJulia[\"loading\"]=false}),self),this[\"clicks\"].subscribe((function (val){!(this.valueFromJulia[\"clicks\"]) ? (WebIO.setval({\"name\":\"clicks\",\"scope\":\"8245136971780236502\",\"id\":\"15567093229529328913\",\"type\":\"observable\"},val)) : undefined; return this.valueFromJulia[\"clicks\"]=false}),self)]\n        \n    }\n    self.model = new AppViewModel();\n    self.valueFromJulia = {};\n    for (var key in json_data) {\n        self.valueFromJulia[key] = false;\n    }\n    ko.applyBindings(self.model, self.dom);\n}\n);\n    (WebIO.importBlock({\"data\":[{\"name\":\"knockout\",\"type\":\"js\",\"url\":\"/assetserver/727383f2a47bd31570b7da84eee7b022dd6d7c78-knockout.js\"},{\"name\":\"knockout_punches\",\"type\":\"js\",\"url\":\"/assetserver/382b41b3b1bd9f26f75861d360bad7f8beea211f-knockout_punches.js\"}],\"type\":\"async_block\"})).then((imports) => handler.apply(this, imports));\n}\n"
                  ],
                  "observables": {
                   "clicks": {
                    "id": "15567093229529328913",
                    "sync": true,
                    "value": 0
                   },
                   "loading": {
                    "id": "15908248252675958321",
                    "sync": false,
                    "value": false
                   }
                  },
                  "systemjs_options": null
                 },
                 "nodeType": "Scope",
                 "props": {},
                 "type": "node"
                }
               ],
               "instanceArgs": {
                "namespace": "html",
                "tag": "div"
               },
               "nodeType": "DOM",
               "props": {
                "className": "field interact-widget"
               },
               "type": "node"
              },
              {
               "children": [
                {
                 "children": [
                  {
                   "children": [],
                   "instanceArgs": {
                    "namespace": "html",
                    "tag": "div"
                   },
                   "nodeType": "DOM",
                   "props": {
                    "id": "container"
                   },
                   "type": "node"
                  }
                 ],
                 "instanceArgs": {
                  "handlers": {
                   "value": [
                    "(function (txt){return this.k.render(txt,this.container)})"
                   ]
                  },
                  "id": "15842354142459038864",
                  "imports": {
                   "data": [
                    {
                     "name": null,
                     "type": "js",
                     "url": "/assetserver/dd22ed1bf1896c2748f3fe616ce0b838adc895c1-katex.min.js"
                    },
                    {
                     "name": null,
                     "type": "css",
                     "url": "/assetserver/46517a424aa5e6cffc1360d7e0848b601c584ee3-katex.min.css"
                    }
                   ],
                   "type": "async_block"
                  },
                  "mount_callbacks": [
                   "function () {\n    var handler = ((function (k){this.k=k; this.container=this.dom.querySelector(\"#container\"); return k.render(\"\\\\;\\\\;\",this.container)}));\n    (WebIO.importBlock({\"data\":[{\"name\":null,\"type\":\"js\",\"url\":\"/assetserver/dd22ed1bf1896c2748f3fe616ce0b838adc895c1-katex.min.js\"},{\"name\":null,\"type\":\"css\",\"url\":\"/assetserver/46517a424aa5e6cffc1360d7e0848b601c584ee3-katex.min.css\"}],\"type\":\"async_block\"})).then((imports) => handler.apply(this, imports));\n}\n"
                  ],
                  "observables": {
                   "value": {
                    "id": "3256412866673120334",
                    "sync": false,
                    "value": "\\;\\;"
                   }
                  },
                  "systemjs_options": null
                 },
                 "nodeType": "Scope",
                 "props": {},
                 "type": "node"
                }
               ],
               "instanceArgs": {
                "namespace": "html",
                "tag": "div"
               },
               "nodeType": "DOM",
               "props": {
                "className": "interact-widget"
               },
               "type": "node"
              },
              {
               "children": [
                {
                 "children": [
                  {
                   "children": [
                    "stop"
                   ],
                   "instanceArgs": {
                    "namespace": "html",
                    "tag": "button"
                   },
                   "nodeType": "DOM",
                   "props": {
                    "attributes": {
                     "data-bind": "click: function (){this.clicks(this.clicks()+1)}, css: {'is-loading' : loading}"
                    },
                    "className": "is-medium button is-primary",
                    "style": {}
                   },
                   "type": "node"
                  }
                 ],
                 "instanceArgs": {
                  "handlers": {
                   "clicks": [
                    "(function (val){return (val!=this.model[\"clicks\"]()) ? (this.valueFromJulia[\"clicks\"]=true, this.model[\"clicks\"](val)) : undefined})"
                   ],
                   "loading": [
                    "(function (val){return (val!=this.model[\"loading\"]()) ? (this.valueFromJulia[\"loading\"]=true, this.model[\"loading\"](val)) : undefined})"
                   ]
                  },
                  "id": "14857943104403582817",
                  "imports": {
                   "data": [
                    {
                     "name": "knockout",
                     "type": "js",
                     "url": "/assetserver/727383f2a47bd31570b7da84eee7b022dd6d7c78-knockout.js"
                    },
                    {
                     "name": "knockout_punches",
                     "type": "js",
                     "url": "/assetserver/382b41b3b1bd9f26f75861d360bad7f8beea211f-knockout_punches.js"
                    },
                    {
                     "name": null,
                     "type": "js",
                     "url": "/assetserver/5ab20f1060420992a9b82a65b735dee4d81ef413-all.js"
                    },
                    {
                     "name": null,
                     "type": "css",
                     "url": "/assetserver/1cc0ed62837210b80a182cc3676512f895dab686-style.css"
                    },
                    {
                     "name": null,
                     "type": "css",
                     "url": "/assetserver/2eee816f616df3549d7044d45e744fbf8d42bfa1-bulma_confined.min.css"
                    }
                   ],
                   "type": "async_block"
                  },
                  "mount_callbacks": [
                   "function () {\n    var handler = (function (ko, koPunches) {\n    ko.punches.enableAll();\n    ko.bindingHandlers.numericValue = {\n        init: function(element, valueAccessor, allBindings, data, context) {\n            var stringified = ko.observable(ko.unwrap(valueAccessor()));\n            stringified.subscribe(function(value) {\n                var val = parseFloat(value);\n                if (!isNaN(val)) {\n                    valueAccessor()(val);\n                }\n            });\n            valueAccessor().subscribe(function(value) {\n                var str = JSON.stringify(value);\n                if ((str == \"0\") && ([\"-0\", \"-0.\"].indexOf(stringified()) >= 0))\n                     return;\n                 if ([\"null\", \"\"].indexOf(str) >= 0)\n                     return;\n                stringified(str);\n            });\n            ko.applyBindingsToNode(\n                element,\n                {\n                    value: stringified,\n                    valueUpdate: allBindings.get('valueUpdate'),\n                },\n                context,\n            );\n        }\n    };\n    var json_data = {\"loading\":WebIO.getval({\"name\":\"loading\",\"scope\":\"14857943104403582817\",\"id\":\"17032014065969139260\",\"type\":\"observable\"}),\"clicks\":WebIO.getval({\"name\":\"clicks\",\"scope\":\"14857943104403582817\",\"id\":\"17256534084527691892\",\"type\":\"observable\"})};\n    var self = this;\n    function AppViewModel() {\n        for (var key in json_data) {\n            var el = json_data[key];\n            this[key] = Array.isArray(el) ? ko.observableArray(el) : ko.observable(el);\n        }\n        \n        \n        [this[\"loading\"].subscribe((function (val){!(this.valueFromJulia[\"loading\"]) ? (WebIO.setval({\"name\":\"loading\",\"scope\":\"14857943104403582817\",\"id\":\"17032014065969139260\",\"type\":\"observable\"},val)) : undefined; return this.valueFromJulia[\"loading\"]=false}),self),this[\"clicks\"].subscribe((function (val){!(this.valueFromJulia[\"clicks\"]) ? (WebIO.setval({\"name\":\"clicks\",\"scope\":\"14857943104403582817\",\"id\":\"17256534084527691892\",\"type\":\"observable\"},val)) : undefined; return this.valueFromJulia[\"clicks\"]=false}),self)]\n        \n    }\n    self.model = new AppViewModel();\n    self.valueFromJulia = {};\n    for (var key in json_data) {\n        self.valueFromJulia[key] = false;\n    }\n    ko.applyBindings(self.model, self.dom);\n}\n);\n    (WebIO.importBlock({\"data\":[{\"name\":\"knockout\",\"type\":\"js\",\"url\":\"/assetserver/727383f2a47bd31570b7da84eee7b022dd6d7c78-knockout.js\"},{\"name\":\"knockout_punches\",\"type\":\"js\",\"url\":\"/assetserver/382b41b3b1bd9f26f75861d360bad7f8beea211f-knockout_punches.js\"}],\"type\":\"async_block\"})).then((imports) => handler.apply(this, imports));\n}\n"
                  ],
                  "observables": {
                   "clicks": {
                    "id": "17256534084527691892",
                    "sync": true,
                    "value": 0
                   },
                   "loading": {
                    "id": "17032014065969139260",
                    "sync": false,
                    "value": false
                   }
                  },
                  "systemjs_options": null
                 },
                 "nodeType": "Scope",
                 "props": {},
                 "type": "node"
                }
               ],
               "instanceArgs": {
                "namespace": "html",
                "tag": "div"
               },
               "nodeType": "DOM",
               "props": {
                "className": "field interact-widget"
               },
               "type": "node"
              }
             ],
             "instanceArgs": {
              "namespace": "html",
              "tag": "div"
             },
             "nodeType": "DOM",
             "props": {
              "style": {
               "display": "flex",
               "flex-direction": "row"
              }
             },
             "type": "node"
            }
           ],
           "instanceArgs": {
            "namespace": "html",
            "tag": "div"
           },
           "nodeType": "DOM",
           "props": {
            "style": {
             "display": "flex",
             "flex-direction": "column"
            }
           },
           "type": "node"
          },
          {
           "children": [
            {
             "children": [],
             "instanceArgs": {
              "namespace": "html",
              "tag": "div"
             },
             "nodeType": "DOM",
             "props": {
              "className": "webio-observable",
              "setInnerHtml": "    <div style=\"height: 500px; width: 100%; overflow-x: auto; overflow-y: hidden; resize: both\">\n    <iframe src=\"http://127.0.0.1:8717\" style=\"width: 100%; height: 100%; border: none\"></iframe>\n    </div>\n"
             },
             "type": "node"
            }
           ],
           "instanceArgs": {
            "handlers": {
             "obs-output": [
              "function (value, scope) {\n    scope.setInnerHTML(value);\n}\n"
             ]
            },
            "id": "15521554960439732320",
            "imports": {
             "data": [],
             "type": "async_block"
            },
            "mount_callbacks": [],
            "observables": {
             "obs-output": {
              "id": "13282527483512007015",
              "sync": false,
              "value": "    <div style=\"height: 500px; width: 100%; overflow-x: auto; overflow-y: hidden; resize: both\">\n    <iframe src=\"http://127.0.0.1:8717\" style=\"width: 100%; height: 100%; border: none\"></iframe>\n    </div>\n"
             }
            },
            "systemjs_options": null
           },
           "nodeType": "Scope",
           "props": {},
           "type": "node"
          },
          {
           "children": [
            {
             "children": [
              {
               "children": [],
               "instanceArgs": {
                "namespace": "html",
                "tag": "div"
               },
               "nodeType": "DOM",
               "props": {
                "id": "container"
               },
               "type": "node"
              }
             ],
             "instanceArgs": {
              "handlers": {
               "value": [
                "(function (txt){return this.k.render(txt,this.container)})"
               ]
              },
              "id": "15842354142459038864",
              "imports": {
               "data": [
                {
                 "name": null,
                 "type": "js",
                 "url": "/assetserver/dd22ed1bf1896c2748f3fe616ce0b838adc895c1-katex.min.js"
                },
                {
                 "name": null,
                 "type": "css",
                 "url": "/assetserver/46517a424aa5e6cffc1360d7e0848b601c584ee3-katex.min.css"
                }
               ],
               "type": "async_block"
              },
              "mount_callbacks": [
               "function () {\n    var handler = ((function (k){this.k=k; this.container=this.dom.querySelector(\"#container\"); return k.render(\"\\\\;\\\\;\",this.container)}));\n    (WebIO.importBlock({\"data\":[{\"name\":null,\"type\":\"js\",\"url\":\"/assetserver/dd22ed1bf1896c2748f3fe616ce0b838adc895c1-katex.min.js\"},{\"name\":null,\"type\":\"css\",\"url\":\"/assetserver/46517a424aa5e6cffc1360d7e0848b601c584ee3-katex.min.css\"}],\"type\":\"async_block\"})).then((imports) => handler.apply(this, imports));\n}\n"
              ],
              "observables": {
               "value": {
                "id": "3256412866673120334",
                "sync": false,
                "value": "\\;\\;"
               }
              },
              "systemjs_options": null
             },
             "nodeType": "Scope",
             "props": {},
             "type": "node"
            }
           ],
           "instanceArgs": {
            "namespace": "html",
            "tag": "div"
           },
           "nodeType": "DOM",
           "props": {
            "className": "interact-widget"
           },
           "type": "node"
          },
          {
           "children": [],
           "instanceArgs": {
            "namespace": "html",
            "tag": "div"
           },
           "nodeType": "DOM",
           "props": {
            "style": {
             "display": "flex",
             "flex-direction": "column"
            }
           },
           "type": "node"
          }
         ],
         "instanceArgs": {
          "namespace": "html",
          "tag": "div"
         },
         "nodeType": "DOM",
         "props": {
          "style": {
           "display": "flex",
           "flex-direction": "row"
          }
         },
         "type": "node"
        }
       ],
       "instanceArgs": {
        "namespace": "html",
        "tag": "div"
       },
       "nodeType": "DOM",
       "props": {
        "style": {
         "display": "flex",
         "flex-direction": "column"
        }
       },
       "type": "node"
      },
      "text/html": [
       "<div\n",
       "    class=\"webio-mountpoint\"\n",
       "    data-webio-mountpoint=\"11325263628383792339\"\n",
       ">\n",
       "    <script>\n",
       "    (function(){\n",
       "    // Some integrations (namely, IJulia/Jupyter) use an alternate render pathway than\n",
       "    // just putting the html on the page. If WebIO isn't defined, then it's pretty likely\n",
       "    // that we're in one of those situations and the integration just isn't installed\n",
       "    // correctly.\n",
       "    if (typeof window.WebIO === \"undefined\") {\n",
       "        document\n",
       "            .querySelector('[data-webio-mountpoint=\"11325263628383792339\"]')\n",
       "            .innerHTML = (\n",
       "                '<div style=\"padding: 1em; background-color: #f8d6da; border: 1px solid #f5c6cb; font-weight: bold;\">' +\n",
       "                '<p><strong>WebIO not detected.</strong></p>' +\n",
       "                '<p>Please read ' +\n",
       "                '<a href=\"https://juliagizmos.github.io/WebIO.jl/latest/troubleshooting/not-detected/\" target=\"_blank\">the troubleshooting guide</a> ' +\n",
       "                'for more information on how to resolve this issue.</p>' +\n",
       "                '<p><a href=\"https://juliagizmos.github.io/WebIO.jl/latest/troubleshooting/not-detected/\" target=\"_blank\">https://juliagizmos.github.io/WebIO.jl/latest/troubleshooting/not-detected/</a></p>' +\n",
       "                '</div>'\n",
       "            );\n",
       "        return;\n",
       "    }\n",
       "    WebIO.mount(\n",
       "        document.querySelector('[data-webio-mountpoint=\"11325263628383792339\"]'),\n",
       "        {\"props\":{\"style\":{\"display\":\"flex\",\"flex-direction\":\"column\"}},\"nodeType\":\"DOM\",\"type\":\"node\",\"instanceArgs\":{\"namespace\":\"html\",\"tag\":\"div\"},\"children\":[{\"props\":{\"style\":{\"display\":\"flex\",\"flex-direction\":\"row\"}},\"nodeType\":\"DOM\",\"type\":\"node\",\"instanceArgs\":{\"namespace\":\"html\",\"tag\":\"div\"},\"children\":[{\"props\":{\"style\":{\"display\":\"flex\",\"flex-direction\":\"column\"}},\"nodeType\":\"DOM\",\"type\":\"node\",\"instanceArgs\":{\"namespace\":\"html\",\"tag\":\"div\"},\"children\":[{\"props\":{\"className\":\"field interact-widget\"},\"nodeType\":\"DOM\",\"type\":\"node\",\"instanceArgs\":{\"namespace\":\"html\",\"tag\":\"div\"},\"children\":[{\"props\":{},\"nodeType\":\"Scope\",\"type\":\"node\",\"instanceArgs\":{\"imports\":{\"data\":[{\"name\":\"knockout\",\"type\":\"js\",\"url\":\"\\/assetserver\\/727383f2a47bd31570b7da84eee7b022dd6d7c78-knockout.js\"},{\"name\":\"knockout_punches\",\"type\":\"js\",\"url\":\"\\/assetserver\\/382b41b3b1bd9f26f75861d360bad7f8beea211f-knockout_punches.js\"},{\"name\":null,\"type\":\"js\",\"url\":\"\\/assetserver\\/5ab20f1060420992a9b82a65b735dee4d81ef413-all.js\"},{\"name\":null,\"type\":\"css\",\"url\":\"\\/assetserver\\/1cc0ed62837210b80a182cc3676512f895dab686-style.css\"},{\"name\":null,\"type\":\"css\",\"url\":\"\\/assetserver\\/2eee816f616df3549d7044d45e744fbf8d42bfa1-bulma_confined.min.css\"}],\"type\":\"async_block\"},\"id\":\"6499748859151760067\",\"handlers\":{\"changes\":[\"(function (val){return (val!=this.model[\\\"changes\\\"]()) ? (this.valueFromJulia[\\\"changes\\\"]=true, this.model[\\\"changes\\\"](val)) : undefined})\"],\"index\":[\"(function (val){return (val!=this.model[\\\"index\\\"]()) ? (this.valueFromJulia[\\\"index\\\"]=true, this.model[\\\"index\\\"](val)) : undefined})\"]},\"systemjs_options\":null,\"mount_callbacks\":[\"function () {\\n    var handler = (function (ko, koPunches) {\\n    ko.punches.enableAll();\\n    ko.bindingHandlers.numericValue = {\\n        init: function(element, valueAccessor, allBindings, data, context) {\\n            var stringified = ko.observable(ko.unwrap(valueAccessor()));\\n            stringified.subscribe(function(value) {\\n                var val = parseFloat(value);\\n                if (!isNaN(val)) {\\n                    valueAccessor()(val);\\n                }\\n            });\\n            valueAccessor().subscribe(function(value) {\\n                var str = JSON.stringify(value);\\n                if ((str == \\\"0\\\") && ([\\\"-0\\\", \\\"-0.\\\"].indexOf(stringified()) >= 0))\\n                     return;\\n                 if ([\\\"null\\\", \\\"\\\"].indexOf(str) >= 0)\\n                     return;\\n                stringified(str);\\n            });\\n            ko.applyBindingsToNode(\\n                element,\\n                {\\n                    value: stringified,\\n                    valueUpdate: allBindings.get('valueUpdate'),\\n                },\\n                context,\\n            );\\n        }\\n    };\\n    var json_data = {\\\"formatted_vals\\\":[\\\"1\\\",\\\"2\\\",\\\"3\\\",\\\"4\\\",\\\"5\\\",\\\"6\\\",\\\"7\\\",\\\"8\\\",\\\"9\\\",\\\"10\\\",\\\"11\\\",\\\"12\\\",\\\"13\\\",\\\"14\\\",\\\"15\\\",\\\"16\\\",\\\"17\\\",\\\"18\\\",\\\"19\\\",\\\"20\\\",\\\"21\\\",\\\"22\\\",\\\"23\\\",\\\"24\\\",\\\"25\\\",\\\"26\\\",\\\"27\\\",\\\"28\\\",\\\"29\\\",\\\"30\\\",\\\"31\\\",\\\"32\\\",\\\"33\\\",\\\"34\\\",\\\"35\\\",\\\"36\\\",\\\"37\\\",\\\"38\\\",\\\"39\\\",\\\"40\\\",\\\"41\\\",\\\"42\\\",\\\"43\\\",\\\"44\\\",\\\"45\\\",\\\"46\\\",\\\"47\\\",\\\"48\\\",\\\"49\\\",\\\"50\\\",\\\"51\\\",\\\"52\\\",\\\"53\\\",\\\"54\\\",\\\"55\\\",\\\"56\\\",\\\"57\\\",\\\"58\\\",\\\"59\\\",\\\"60\\\",\\\"61\\\",\\\"62\\\",\\\"63\\\",\\\"64\\\",\\\"65\\\",\\\"66\\\",\\\"67\\\",\\\"68\\\",\\\"69\\\",\\\"70\\\",\\\"71\\\",\\\"72\\\",\\\"73\\\",\\\"74\\\",\\\"75\\\",\\\"76\\\",\\\"77\\\",\\\"78\\\",\\\"79\\\",\\\"80\\\",\\\"81\\\",\\\"82\\\",\\\"83\\\",\\\"84\\\",\\\"85\\\",\\\"86\\\",\\\"87\\\",\\\"88\\\",\\\"89\\\",\\\"90\\\",\\\"91\\\",\\\"92\\\",\\\"93\\\",\\\"94\\\",\\\"95\\\",\\\"96\\\",\\\"97\\\",\\\"98\\\",\\\"99\\\",\\\"100\\\",\\\"101\\\"],\\\"changes\\\":WebIO.getval({\\\"name\\\":\\\"changes\\\",\\\"scope\\\":\\\"6499748859151760067\\\",\\\"id\\\":\\\"5181827026265917582\\\",\\\"type\\\":\\\"observable\\\"}),\\\"index\\\":WebIO.getval({\\\"name\\\":\\\"index\\\",\\\"scope\\\":\\\"6499748859151760067\\\",\\\"id\\\":\\\"1252814684634750626\\\",\\\"type\\\":\\\"observable\\\"})};\\n    var self = this;\\n    function AppViewModel() {\\n        for (var key in json_data) {\\n            var el = json_data[key];\\n            this[key] = Array.isArray(el) ? ko.observableArray(el) : ko.observable(el);\\n        }\\n        \\n        [this[\\\"formatted_val\\\"]=ko.computed(    function(){\\n        return this.formatted_vals()[parseInt(this.index())-(1)];\\n    }\\n,this)]\\n        [this[\\\"changes\\\"].subscribe((function (val){!(this.valueFromJulia[\\\"changes\\\"]) ? (WebIO.setval({\\\"name\\\":\\\"changes\\\",\\\"scope\\\":\\\"6499748859151760067\\\",\\\"id\\\":\\\"5181827026265917582\\\",\\\"type\\\":\\\"observable\\\"},val)) : undefined; return this.valueFromJulia[\\\"changes\\\"]=false}),self),this[\\\"index\\\"].subscribe((function (val){!(this.valueFromJulia[\\\"index\\\"]) ? (WebIO.setval({\\\"name\\\":\\\"index\\\",\\\"scope\\\":\\\"6499748859151760067\\\",\\\"id\\\":\\\"1252814684634750626\\\",\\\"type\\\":\\\"observable\\\"},val)) : undefined; return this.valueFromJulia[\\\"index\\\"]=false}),self)]\\n        \\n    }\\n    self.model = new AppViewModel();\\n    self.valueFromJulia = {};\\n    for (var key in json_data) {\\n        self.valueFromJulia[key] = false;\\n    }\\n    ko.applyBindings(self.model, self.dom);\\n}\\n);\\n    (WebIO.importBlock({\\\"data\\\":[{\\\"name\\\":\\\"knockout\\\",\\\"type\\\":\\\"js\\\",\\\"url\\\":\\\"\\/assetserver\\/727383f2a47bd31570b7da84eee7b022dd6d7c78-knockout.js\\\"},{\\\"name\\\":\\\"knockout_punches\\\",\\\"type\\\":\\\"js\\\",\\\"url\\\":\\\"\\/assetserver\\/382b41b3b1bd9f26f75861d360bad7f8beea211f-knockout_punches.js\\\"}],\\\"type\\\":\\\"async_block\\\"})).then((imports) => handler.apply(this, imports));\\n}\\n\"],\"observables\":{\"changes\":{\"sync\":false,\"id\":\"5181827026265917582\",\"value\":0},\"index\":{\"sync\":true,\"id\":\"1252814684634750626\",\"value\":51}}},\"children\":[{\"props\":{\"className\":\"interact-flex-row interact-widget\"},\"nodeType\":\"DOM\",\"type\":\"node\",\"instanceArgs\":{\"namespace\":\"html\",\"tag\":\"div\"},\"children\":[{\"props\":{\"className\":\"interact-flex-row-left\"},\"nodeType\":\"DOM\",\"type\":\"node\",\"instanceArgs\":{\"namespace\":\"html\",\"tag\":\"div\"},\"children\":[{\"props\":{\"className\":\"interact \",\"style\":{\"padding\":\"5px 10px 0px 10px\"}},\"nodeType\":\"DOM\",\"type\":\"node\",\"instanceArgs\":{\"namespace\":\"html\",\"tag\":\"label\"},\"children\":[\"time\"]}]},{\"props\":{\"className\":\"interact-flex-row-center\"},\"nodeType\":\"DOM\",\"type\":\"node\",\"instanceArgs\":{\"namespace\":\"html\",\"tag\":\"div\"},\"children\":[{\"props\":{\"max\":101,\"min\":1,\"attributes\":{\"type\":\"range\",\"data-bind\":\"numericValue: index, valueUpdate: 'input', event: {change: function (){this.changes(this.changes()+1)}}\",\"orient\":\"horizontal\"},\"step\":1,\"className\":\"slider slider is-fullwidth\",\"style\":{}},\"nodeType\":\"DOM\",\"type\":\"node\",\"instanceArgs\":{\"namespace\":\"html\",\"tag\":\"input\"},\"children\":[]}]},{\"props\":{\"className\":\"interact-flex-row-right\"},\"nodeType\":\"DOM\",\"type\":\"node\",\"instanceArgs\":{\"namespace\":\"html\",\"tag\":\"div\"},\"children\":[{\"props\":{\"attributes\":{\"data-bind\":\"text: formatted_val\"}},\"nodeType\":\"DOM\",\"type\":\"node\",\"instanceArgs\":{\"namespace\":\"html\",\"tag\":\"p\"},\"children\":[]}]}]}]}]},{\"props\":{\"className\":\"field interact-widget\"},\"nodeType\":\"DOM\",\"type\":\"node\",\"instanceArgs\":{\"namespace\":\"html\",\"tag\":\"div\"},\"children\":[{\"props\":{},\"nodeType\":\"Scope\",\"type\":\"node\",\"instanceArgs\":{\"imports\":{\"data\":[{\"name\":\"knockout\",\"type\":\"js\",\"url\":\"\\/assetserver\\/727383f2a47bd31570b7da84eee7b022dd6d7c78-knockout.js\"},{\"name\":\"knockout_punches\",\"type\":\"js\",\"url\":\"\\/assetserver\\/382b41b3b1bd9f26f75861d360bad7f8beea211f-knockout_punches.js\"},{\"name\":null,\"type\":\"js\",\"url\":\"\\/assetserver\\/5ab20f1060420992a9b82a65b735dee4d81ef413-all.js\"},{\"name\":null,\"type\":\"css\",\"url\":\"\\/assetserver\\/1cc0ed62837210b80a182cc3676512f895dab686-style.css\"},{\"name\":null,\"type\":\"css\",\"url\":\"\\/assetserver\\/2eee816f616df3549d7044d45e744fbf8d42bfa1-bulma_confined.min.css\"}],\"type\":\"async_block\"},\"id\":\"8736222299978372920\",\"handlers\":{\"changes\":[\"(function (val){return (val!=this.model[\\\"changes\\\"]()) ? (this.valueFromJulia[\\\"changes\\\"]=true, this.model[\\\"changes\\\"](val)) : undefined})\"],\"index\":[\"(function (val){return (val!=this.model[\\\"index\\\"]()) ? (this.valueFromJulia[\\\"index\\\"]=true, this.model[\\\"index\\\"](val)) : undefined})\"]},\"systemjs_options\":null,\"mount_callbacks\":[\"function () {\\n    var handler = (function (ko, koPunches) {\\n    ko.punches.enableAll();\\n    ko.bindingHandlers.numericValue = {\\n        init: function(element, valueAccessor, allBindings, data, context) {\\n            var stringified = ko.observable(ko.unwrap(valueAccessor()));\\n            stringified.subscribe(function(value) {\\n                var val = parseFloat(value);\\n                if (!isNaN(val)) {\\n                    valueAccessor()(val);\\n                }\\n            });\\n            valueAccessor().subscribe(function(value) {\\n                var str = JSON.stringify(value);\\n                if ((str == \\\"0\\\") && ([\\\"-0\\\", \\\"-0.\\\"].indexOf(stringified()) >= 0))\\n                     return;\\n                 if ([\\\"null\\\", \\\"\\\"].indexOf(str) >= 0)\\n                     return;\\n                stringified(str);\\n            });\\n            ko.applyBindingsToNode(\\n                element,\\n                {\\n                    value: stringified,\\n                    valueUpdate: allBindings.get('valueUpdate'),\\n                },\\n                context,\\n            );\\n        }\\n    };\\n    var json_data = {\\\"formatted_vals\\\":[\\\"0.1\\\",\\\"0.2\\\",\\\"0.3\\\",\\\"0.4\\\",\\\"0.5\\\",\\\"0.6\\\",\\\"0.7\\\",\\\"0.8\\\",\\\"0.9\\\",\\\"1.0\\\",\\\"1.1\\\",\\\"1.2\\\",\\\"1.3\\\",\\\"1.4\\\",\\\"1.5\\\",\\\"1.6\\\",\\\"1.7\\\",\\\"1.8\\\",\\\"1.9\\\",\\\"2.0\\\"],\\\"changes\\\":WebIO.getval({\\\"name\\\":\\\"changes\\\",\\\"scope\\\":\\\"8736222299978372920\\\",\\\"id\\\":\\\"9916526908176895011\\\",\\\"type\\\":\\\"observable\\\"}),\\\"index\\\":WebIO.getval({\\\"name\\\":\\\"index\\\",\\\"scope\\\":\\\"8736222299978372920\\\",\\\"id\\\":\\\"6119162104572755369\\\",\\\"type\\\":\\\"observable\\\"})};\\n    var self = this;\\n    function AppViewModel() {\\n        for (var key in json_data) {\\n            var el = json_data[key];\\n            this[key] = Array.isArray(el) ? ko.observableArray(el) : ko.observable(el);\\n        }\\n        \\n        [this[\\\"formatted_val\\\"]=ko.computed(    function(){\\n        return this.formatted_vals()[parseInt(this.index())-(1)];\\n    }\\n,this)]\\n        [this[\\\"changes\\\"].subscribe((function (val){!(this.valueFromJulia[\\\"changes\\\"]) ? (WebIO.setval({\\\"name\\\":\\\"changes\\\",\\\"scope\\\":\\\"8736222299978372920\\\",\\\"id\\\":\\\"9916526908176895011\\\",\\\"type\\\":\\\"observable\\\"},val)) : undefined; return this.valueFromJulia[\\\"changes\\\"]=false}),self),this[\\\"index\\\"].subscribe((function (val){!(this.valueFromJulia[\\\"index\\\"]) ? (WebIO.setval({\\\"name\\\":\\\"index\\\",\\\"scope\\\":\\\"8736222299978372920\\\",\\\"id\\\":\\\"6119162104572755369\\\",\\\"type\\\":\\\"observable\\\"},val)) : undefined; return this.valueFromJulia[\\\"index\\\"]=false}),self)]\\n        \\n    }\\n    self.model = new AppViewModel();\\n    self.valueFromJulia = {};\\n    for (var key in json_data) {\\n        self.valueFromJulia[key] = false;\\n    }\\n    ko.applyBindings(self.model, self.dom);\\n}\\n);\\n    (WebIO.importBlock({\\\"data\\\":[{\\\"name\\\":\\\"knockout\\\",\\\"type\\\":\\\"js\\\",\\\"url\\\":\\\"\\/assetserver\\/727383f2a47bd31570b7da84eee7b022dd6d7c78-knockout.js\\\"},{\\\"name\\\":\\\"knockout_punches\\\",\\\"type\\\":\\\"js\\\",\\\"url\\\":\\\"\\/assetserver\\/382b41b3b1bd9f26f75861d360bad7f8beea211f-knockout_punches.js\\\"}],\\\"type\\\":\\\"async_block\\\"})).then((imports) => handler.apply(this, imports));\\n}\\n\"],\"observables\":{\"changes\":{\"sync\":false,\"id\":\"9916526908176895011\",\"value\":0},\"index\":{\"sync\":true,\"id\":\"6119162104572755369\",\"value\":10}}},\"children\":[{\"props\":{\"className\":\"interact-flex-row interact-widget\"},\"nodeType\":\"DOM\",\"type\":\"node\",\"instanceArgs\":{\"namespace\":\"html\",\"tag\":\"div\"},\"children\":[{\"props\":{\"className\":\"interact-flex-row-left\"},\"nodeType\":\"DOM\",\"type\":\"node\",\"instanceArgs\":{\"namespace\":\"html\",\"tag\":\"div\"},\"children\":[{\"props\":{\"className\":\"interact \",\"style\":{\"padding\":\"5px 10px 0px 10px\"}},\"nodeType\":\"DOM\",\"type\":\"node\",\"instanceArgs\":{\"namespace\":\"html\",\"tag\":\"label\"},\"children\":[\"scale\"]}]},{\"props\":{\"className\":\"interact-flex-row-center\"},\"nodeType\":\"DOM\",\"type\":\"node\",\"instanceArgs\":{\"namespace\":\"html\",\"tag\":\"div\"},\"children\":[{\"props\":{\"max\":20,\"min\":1,\"attributes\":{\"type\":\"range\",\"data-bind\":\"numericValue: index, valueUpdate: 'input', event: {change: function (){this.changes(this.changes()+1)}}\",\"orient\":\"horizontal\"},\"step\":1,\"className\":\"slider slider is-fullwidth\",\"style\":{}},\"nodeType\":\"DOM\",\"type\":\"node\",\"instanceArgs\":{\"namespace\":\"html\",\"tag\":\"input\"},\"children\":[]}]},{\"props\":{\"className\":\"interact-flex-row-right\"},\"nodeType\":\"DOM\",\"type\":\"node\",\"instanceArgs\":{\"namespace\":\"html\",\"tag\":\"div\"},\"children\":[{\"props\":{\"attributes\":{\"data-bind\":\"text: formatted_val\"}},\"nodeType\":\"DOM\",\"type\":\"node\",\"instanceArgs\":{\"namespace\":\"html\",\"tag\":\"p\"},\"children\":[]}]}]}]}]},{\"props\":{\"style\":{\"display\":\"flex\",\"flex-direction\":\"row\"}},\"nodeType\":\"DOM\",\"type\":\"node\",\"instanceArgs\":{\"namespace\":\"html\",\"tag\":\"div\"},\"children\":[{\"props\":{\"className\":\"interact-widget\"},\"nodeType\":\"DOM\",\"type\":\"node\",\"instanceArgs\":{\"namespace\":\"html\",\"tag\":\"div\"},\"children\":[{\"props\":{},\"nodeType\":\"Scope\",\"type\":\"node\",\"instanceArgs\":{\"imports\":{\"data\":[{\"name\":null,\"type\":\"js\",\"url\":\"\\/assetserver\\/dd22ed1bf1896c2748f3fe616ce0b838adc895c1-katex.min.js\"},{\"name\":null,\"type\":\"css\",\"url\":\"\\/assetserver\\/46517a424aa5e6cffc1360d7e0848b601c584ee3-katex.min.css\"}],\"type\":\"async_block\"},\"id\":\"15842354142459038864\",\"handlers\":{\"value\":[\"(function (txt){return this.k.render(txt,this.container)})\"]},\"systemjs_options\":null,\"mount_callbacks\":[\"function () {\\n    var handler = ((function (k){this.k=k; this.container=this.dom.querySelector(\\\"#container\\\"); return k.render(\\\"\\\\\\\\;\\\\\\\\;\\\",this.container)}));\\n    (WebIO.importBlock({\\\"data\\\":[{\\\"name\\\":null,\\\"type\\\":\\\"js\\\",\\\"url\\\":\\\"\\/assetserver\\/dd22ed1bf1896c2748f3fe616ce0b838adc895c1-katex.min.js\\\"},{\\\"name\\\":null,\\\"type\\\":\\\"css\\\",\\\"url\\\":\\\"\\/assetserver\\/46517a424aa5e6cffc1360d7e0848b601c584ee3-katex.min.css\\\"}],\\\"type\\\":\\\"async_block\\\"})).then((imports) => handler.apply(this, imports));\\n}\\n\"],\"observables\":{\"value\":{\"sync\":false,\"id\":\"3256412866673120334\",\"value\":\"\\\\;\\\\;\"}}},\"children\":[{\"props\":{\"id\":\"container\"},\"nodeType\":\"DOM\",\"type\":\"node\",\"instanceArgs\":{\"namespace\":\"html\",\"tag\":\"div\"},\"children\":[]}]}]},{\"props\":{\"className\":\"field interact-widget\"},\"nodeType\":\"DOM\",\"type\":\"node\",\"instanceArgs\":{\"namespace\":\"html\",\"tag\":\"div\"},\"children\":[{\"props\":{},\"nodeType\":\"Scope\",\"type\":\"node\",\"instanceArgs\":{\"imports\":{\"data\":[{\"name\":\"knockout\",\"type\":\"js\",\"url\":\"\\/assetserver\\/727383f2a47bd31570b7da84eee7b022dd6d7c78-knockout.js\"},{\"name\":\"knockout_punches\",\"type\":\"js\",\"url\":\"\\/assetserver\\/382b41b3b1bd9f26f75861d360bad7f8beea211f-knockout_punches.js\"},{\"name\":null,\"type\":\"js\",\"url\":\"\\/assetserver\\/5ab20f1060420992a9b82a65b735dee4d81ef413-all.js\"},{\"name\":null,\"type\":\"css\",\"url\":\"\\/assetserver\\/1cc0ed62837210b80a182cc3676512f895dab686-style.css\"},{\"name\":null,\"type\":\"css\",\"url\":\"\\/assetserver\\/2eee816f616df3549d7044d45e744fbf8d42bfa1-bulma_confined.min.css\"}],\"type\":\"async_block\"},\"id\":\"8245136971780236502\",\"handlers\":{\"loading\":[\"(function (val){return (val!=this.model[\\\"loading\\\"]()) ? (this.valueFromJulia[\\\"loading\\\"]=true, this.model[\\\"loading\\\"](val)) : undefined})\"],\"clicks\":[\"(function (val){return (val!=this.model[\\\"clicks\\\"]()) ? (this.valueFromJulia[\\\"clicks\\\"]=true, this.model[\\\"clicks\\\"](val)) : undefined})\"]},\"systemjs_options\":null,\"mount_callbacks\":[\"function () {\\n    var handler = (function (ko, koPunches) {\\n    ko.punches.enableAll();\\n    ko.bindingHandlers.numericValue = {\\n        init: function(element, valueAccessor, allBindings, data, context) {\\n            var stringified = ko.observable(ko.unwrap(valueAccessor()));\\n            stringified.subscribe(function(value) {\\n                var val = parseFloat(value);\\n                if (!isNaN(val)) {\\n                    valueAccessor()(val);\\n                }\\n            });\\n            valueAccessor().subscribe(function(value) {\\n                var str = JSON.stringify(value);\\n                if ((str == \\\"0\\\") && ([\\\"-0\\\", \\\"-0.\\\"].indexOf(stringified()) >= 0))\\n                     return;\\n                 if ([\\\"null\\\", \\\"\\\"].indexOf(str) >= 0)\\n                     return;\\n                stringified(str);\\n            });\\n            ko.applyBindingsToNode(\\n                element,\\n                {\\n                    value: stringified,\\n                    valueUpdate: allBindings.get('valueUpdate'),\\n                },\\n                context,\\n            );\\n        }\\n    };\\n    var json_data = {\\\"loading\\\":WebIO.getval({\\\"name\\\":\\\"loading\\\",\\\"scope\\\":\\\"8245136971780236502\\\",\\\"id\\\":\\\"15908248252675958321\\\",\\\"type\\\":\\\"observable\\\"}),\\\"clicks\\\":WebIO.getval({\\\"name\\\":\\\"clicks\\\",\\\"scope\\\":\\\"8245136971780236502\\\",\\\"id\\\":\\\"15567093229529328913\\\",\\\"type\\\":\\\"observable\\\"})};\\n    var self = this;\\n    function AppViewModel() {\\n        for (var key in json_data) {\\n            var el = json_data[key];\\n            this[key] = Array.isArray(el) ? ko.observableArray(el) : ko.observable(el);\\n        }\\n        \\n        \\n        [this[\\\"loading\\\"].subscribe((function (val){!(this.valueFromJulia[\\\"loading\\\"]) ? (WebIO.setval({\\\"name\\\":\\\"loading\\\",\\\"scope\\\":\\\"8245136971780236502\\\",\\\"id\\\":\\\"15908248252675958321\\\",\\\"type\\\":\\\"observable\\\"},val)) : undefined; return this.valueFromJulia[\\\"loading\\\"]=false}),self),this[\\\"clicks\\\"].subscribe((function (val){!(this.valueFromJulia[\\\"clicks\\\"]) ? (WebIO.setval({\\\"name\\\":\\\"clicks\\\",\\\"scope\\\":\\\"8245136971780236502\\\",\\\"id\\\":\\\"15567093229529328913\\\",\\\"type\\\":\\\"observable\\\"},val)) : undefined; return this.valueFromJulia[\\\"clicks\\\"]=false}),self)]\\n        \\n    }\\n    self.model = new AppViewModel();\\n    self.valueFromJulia = {};\\n    for (var key in json_data) {\\n        self.valueFromJulia[key] = false;\\n    }\\n    ko.applyBindings(self.model, self.dom);\\n}\\n);\\n    (WebIO.importBlock({\\\"data\\\":[{\\\"name\\\":\\\"knockout\\\",\\\"type\\\":\\\"js\\\",\\\"url\\\":\\\"\\/assetserver\\/727383f2a47bd31570b7da84eee7b022dd6d7c78-knockout.js\\\"},{\\\"name\\\":\\\"knockout_punches\\\",\\\"type\\\":\\\"js\\\",\\\"url\\\":\\\"\\/assetserver\\/382b41b3b1bd9f26f75861d360bad7f8beea211f-knockout_punches.js\\\"}],\\\"type\\\":\\\"async_block\\\"})).then((imports) => handler.apply(this, imports));\\n}\\n\"],\"observables\":{\"loading\":{\"sync\":false,\"id\":\"15908248252675958321\",\"value\":false},\"clicks\":{\"sync\":true,\"id\":\"15567093229529328913\",\"value\":0}}},\"children\":[{\"props\":{\"attributes\":{\"data-bind\":\"click: function (){this.clicks(this.clicks()+1)}, css: {'is-loading' : loading}\"},\"className\":\"is-medium button is-primary\",\"style\":{}},\"nodeType\":\"DOM\",\"type\":\"node\",\"instanceArgs\":{\"namespace\":\"html\",\"tag\":\"button\"},\"children\":[\"run\"]}]}]},{\"props\":{\"className\":\"interact-widget\"},\"nodeType\":\"DOM\",\"type\":\"node\",\"instanceArgs\":{\"namespace\":\"html\",\"tag\":\"div\"},\"children\":[{\"props\":{},\"nodeType\":\"Scope\",\"type\":\"node\",\"instanceArgs\":{\"imports\":{\"data\":[{\"name\":null,\"type\":\"js\",\"url\":\"\\/assetserver\\/dd22ed1bf1896c2748f3fe616ce0b838adc895c1-katex.min.js\"},{\"name\":null,\"type\":\"css\",\"url\":\"\\/assetserver\\/46517a424aa5e6cffc1360d7e0848b601c584ee3-katex.min.css\"}],\"type\":\"async_block\"},\"id\":\"15842354142459038864\",\"handlers\":{\"value\":[\"(function (txt){return this.k.render(txt,this.container)})\"]},\"systemjs_options\":null,\"mount_callbacks\":[\"function () {\\n    var handler = ((function (k){this.k=k; this.container=this.dom.querySelector(\\\"#container\\\"); return k.render(\\\"\\\\\\\\;\\\\\\\\;\\\",this.container)}));\\n    (WebIO.importBlock({\\\"data\\\":[{\\\"name\\\":null,\\\"type\\\":\\\"js\\\",\\\"url\\\":\\\"\\/assetserver\\/dd22ed1bf1896c2748f3fe616ce0b838adc895c1-katex.min.js\\\"},{\\\"name\\\":null,\\\"type\\\":\\\"css\\\",\\\"url\\\":\\\"\\/assetserver\\/46517a424aa5e6cffc1360d7e0848b601c584ee3-katex.min.css\\\"}],\\\"type\\\":\\\"async_block\\\"})).then((imports) => handler.apply(this, imports));\\n}\\n\"],\"observables\":{\"value\":{\"sync\":false,\"id\":\"3256412866673120334\",\"value\":\"\\\\;\\\\;\"}}},\"children\":[{\"props\":{\"id\":\"container\"},\"nodeType\":\"DOM\",\"type\":\"node\",\"instanceArgs\":{\"namespace\":\"html\",\"tag\":\"div\"},\"children\":[]}]}]},{\"props\":{\"className\":\"field interact-widget\"},\"nodeType\":\"DOM\",\"type\":\"node\",\"instanceArgs\":{\"namespace\":\"html\",\"tag\":\"div\"},\"children\":[{\"props\":{},\"nodeType\":\"Scope\",\"type\":\"node\",\"instanceArgs\":{\"imports\":{\"data\":[{\"name\":\"knockout\",\"type\":\"js\",\"url\":\"\\/assetserver\\/727383f2a47bd31570b7da84eee7b022dd6d7c78-knockout.js\"},{\"name\":\"knockout_punches\",\"type\":\"js\",\"url\":\"\\/assetserver\\/382b41b3b1bd9f26f75861d360bad7f8beea211f-knockout_punches.js\"},{\"name\":null,\"type\":\"js\",\"url\":\"\\/assetserver\\/5ab20f1060420992a9b82a65b735dee4d81ef413-all.js\"},{\"name\":null,\"type\":\"css\",\"url\":\"\\/assetserver\\/1cc0ed62837210b80a182cc3676512f895dab686-style.css\"},{\"name\":null,\"type\":\"css\",\"url\":\"\\/assetserver\\/2eee816f616df3549d7044d45e744fbf8d42bfa1-bulma_confined.min.css\"}],\"type\":\"async_block\"},\"id\":\"14857943104403582817\",\"handlers\":{\"loading\":[\"(function (val){return (val!=this.model[\\\"loading\\\"]()) ? (this.valueFromJulia[\\\"loading\\\"]=true, this.model[\\\"loading\\\"](val)) : undefined})\"],\"clicks\":[\"(function (val){return (val!=this.model[\\\"clicks\\\"]()) ? (this.valueFromJulia[\\\"clicks\\\"]=true, this.model[\\\"clicks\\\"](val)) : undefined})\"]},\"systemjs_options\":null,\"mount_callbacks\":[\"function () {\\n    var handler = (function (ko, koPunches) {\\n    ko.punches.enableAll();\\n    ko.bindingHandlers.numericValue = {\\n        init: function(element, valueAccessor, allBindings, data, context) {\\n            var stringified = ko.observable(ko.unwrap(valueAccessor()));\\n            stringified.subscribe(function(value) {\\n                var val = parseFloat(value);\\n                if (!isNaN(val)) {\\n                    valueAccessor()(val);\\n                }\\n            });\\n            valueAccessor().subscribe(function(value) {\\n                var str = JSON.stringify(value);\\n                if ((str == \\\"0\\\") && ([\\\"-0\\\", \\\"-0.\\\"].indexOf(stringified()) >= 0))\\n                     return;\\n                 if ([\\\"null\\\", \\\"\\\"].indexOf(str) >= 0)\\n                     return;\\n                stringified(str);\\n            });\\n            ko.applyBindingsToNode(\\n                element,\\n                {\\n                    value: stringified,\\n                    valueUpdate: allBindings.get('valueUpdate'),\\n                },\\n                context,\\n            );\\n        }\\n    };\\n    var json_data = {\\\"loading\\\":WebIO.getval({\\\"name\\\":\\\"loading\\\",\\\"scope\\\":\\\"14857943104403582817\\\",\\\"id\\\":\\\"17032014065969139260\\\",\\\"type\\\":\\\"observable\\\"}),\\\"clicks\\\":WebIO.getval({\\\"name\\\":\\\"clicks\\\",\\\"scope\\\":\\\"14857943104403582817\\\",\\\"id\\\":\\\"17256534084527691892\\\",\\\"type\\\":\\\"observable\\\"})};\\n    var self = this;\\n    function AppViewModel() {\\n        for (var key in json_data) {\\n            var el = json_data[key];\\n            this[key] = Array.isArray(el) ? ko.observableArray(el) : ko.observable(el);\\n        }\\n        \\n        \\n        [this[\\\"loading\\\"].subscribe((function (val){!(this.valueFromJulia[\\\"loading\\\"]) ? (WebIO.setval({\\\"name\\\":\\\"loading\\\",\\\"scope\\\":\\\"14857943104403582817\\\",\\\"id\\\":\\\"17032014065969139260\\\",\\\"type\\\":\\\"observable\\\"},val)) : undefined; return this.valueFromJulia[\\\"loading\\\"]=false}),self),this[\\\"clicks\\\"].subscribe((function (val){!(this.valueFromJulia[\\\"clicks\\\"]) ? (WebIO.setval({\\\"name\\\":\\\"clicks\\\",\\\"scope\\\":\\\"14857943104403582817\\\",\\\"id\\\":\\\"17256534084527691892\\\",\\\"type\\\":\\\"observable\\\"},val)) : undefined; return this.valueFromJulia[\\\"clicks\\\"]=false}),self)]\\n        \\n    }\\n    self.model = new AppViewModel();\\n    self.valueFromJulia = {};\\n    for (var key in json_data) {\\n        self.valueFromJulia[key] = false;\\n    }\\n    ko.applyBindings(self.model, self.dom);\\n}\\n);\\n    (WebIO.importBlock({\\\"data\\\":[{\\\"name\\\":\\\"knockout\\\",\\\"type\\\":\\\"js\\\",\\\"url\\\":\\\"\\/assetserver\\/727383f2a47bd31570b7da84eee7b022dd6d7c78-knockout.js\\\"},{\\\"name\\\":\\\"knockout_punches\\\",\\\"type\\\":\\\"js\\\",\\\"url\\\":\\\"\\/assetserver\\/382b41b3b1bd9f26f75861d360bad7f8beea211f-knockout_punches.js\\\"}],\\\"type\\\":\\\"async_block\\\"})).then((imports) => handler.apply(this, imports));\\n}\\n\"],\"observables\":{\"loading\":{\"sync\":false,\"id\":\"17032014065969139260\",\"value\":false},\"clicks\":{\"sync\":true,\"id\":\"17256534084527691892\",\"value\":0}}},\"children\":[{\"props\":{\"attributes\":{\"data-bind\":\"click: function (){this.clicks(this.clicks()+1)}, css: {'is-loading' : loading}\"},\"className\":\"is-medium button is-primary\",\"style\":{}},\"nodeType\":\"DOM\",\"type\":\"node\",\"instanceArgs\":{\"namespace\":\"html\",\"tag\":\"button\"},\"children\":[\"stop\"]}]}]}]}]},{\"props\":{},\"nodeType\":\"Scope\",\"type\":\"node\",\"instanceArgs\":{\"imports\":{\"data\":[],\"type\":\"async_block\"},\"id\":\"6689573114372292394\",\"handlers\":{\"obs-output\":[\"function (value, scope) {\\n    scope.setInnerHTML(value);\\n}\\n\"]},\"systemjs_options\":null,\"mount_callbacks\":[],\"observables\":{\"obs-output\":{\"sync\":false,\"id\":\"4103373885192306308\",\"value\":\"    <div style=\\\"height: 500px; width: 100%; overflow-x: auto; overflow-y: hidden; resize: both\\\">\\n    <iframe src=\\\"http:\\/\\/127.0.0.1:8717\\\" style=\\\"width: 100%; height: 100%; border: none\\\"><\\/iframe>\\n    <\\/div>\\n\"}}},\"children\":[{\"props\":{\"className\":\"webio-observable\",\"setInnerHtml\":\"    <div style=\\\"height: 500px; width: 100%; overflow-x: auto; overflow-y: hidden; resize: both\\\">\\n    <iframe src=\\\"http:\\/\\/127.0.0.1:8717\\\" style=\\\"width: 100%; height: 100%; border: none\\\"><\\/iframe>\\n    <\\/div>\\n\"},\"nodeType\":\"DOM\",\"type\":\"node\",\"instanceArgs\":{\"namespace\":\"html\",\"tag\":\"div\"},\"children\":[]}]},{\"props\":{\"className\":\"interact-widget\"},\"nodeType\":\"DOM\",\"type\":\"node\",\"instanceArgs\":{\"namespace\":\"html\",\"tag\":\"div\"},\"children\":[{\"props\":{},\"nodeType\":\"Scope\",\"type\":\"node\",\"instanceArgs\":{\"imports\":{\"data\":[{\"name\":null,\"type\":\"js\",\"url\":\"\\/assetserver\\/dd22ed1bf1896c2748f3fe616ce0b838adc895c1-katex.min.js\"},{\"name\":null,\"type\":\"css\",\"url\":\"\\/assetserver\\/46517a424aa5e6cffc1360d7e0848b601c584ee3-katex.min.css\"}],\"type\":\"async_block\"},\"id\":\"15842354142459038864\",\"handlers\":{\"value\":[\"(function (txt){return this.k.render(txt,this.container)})\"]},\"systemjs_options\":null,\"mount_callbacks\":[\"function () {\\n    var handler = ((function (k){this.k=k; this.container=this.dom.querySelector(\\\"#container\\\"); return k.render(\\\"\\\\\\\\;\\\\\\\\;\\\",this.container)}));\\n    (WebIO.importBlock({\\\"data\\\":[{\\\"name\\\":null,\\\"type\\\":\\\"js\\\",\\\"url\\\":\\\"\\/assetserver\\/dd22ed1bf1896c2748f3fe616ce0b838adc895c1-katex.min.js\\\"},{\\\"name\\\":null,\\\"type\\\":\\\"css\\\",\\\"url\\\":\\\"\\/assetserver\\/46517a424aa5e6cffc1360d7e0848b601c584ee3-katex.min.css\\\"}],\\\"type\\\":\\\"async_block\\\"})).then((imports) => handler.apply(this, imports));\\n}\\n\"],\"observables\":{\"value\":{\"sync\":false,\"id\":\"3256412866673120334\",\"value\":\"\\\\;\\\\;\"}}},\"children\":[{\"props\":{\"id\":\"container\"},\"nodeType\":\"DOM\",\"type\":\"node\",\"instanceArgs\":{\"namespace\":\"html\",\"tag\":\"div\"},\"children\":[]}]}]},{\"props\":{\"style\":{\"display\":\"flex\",\"flex-direction\":\"column\"}},\"nodeType\":\"DOM\",\"type\":\"node\",\"instanceArgs\":{\"namespace\":\"html\",\"tag\":\"div\"},\"children\":[]}]}]},\n",
       "        window,\n",
       "    );\n",
       "    })()\n",
       "    </script>\n",
       "</div>\n"
      ],
      "text/plain": [
       "WebIO.Node{WebIO.DOM}(WebIO.DOM(:html, :div), Any[WebIO.Node{WebIO.DOM}(WebIO.DOM(:html, :div), Any[WebIO.Node{WebIO.DOM}(WebIO.DOM(:html, :div), Any[WebIO.Node{WebIO.DOM}(WebIO.DOM(:html, :div), Any[WebIO.Scope(WebIO.Node{WebIO.DOM}(WebIO.DOM(:html, :div), Any[WebIO.Node{WebIO.DOM}(WebIO.DOM(:html, :div), Any[WebIO.Node{WebIO.DOM}(WebIO.DOM(:html, :label), Any[\"time\"], Dict{Symbol, Any}(:className => \"interact \", :style => Dict{Any, Any}(:padding => \"5px 10px 0px 10px\")))], Dict{Symbol, Any}(:className => \"interact-flex-row-left\")), WebIO.Node{WebIO.DOM}(WebIO.DOM(:html, :div), Any[WebIO.Node{WebIO.DOM}(WebIO.DOM(:html, :input), Any[], Dict{Symbol, Any}(:max => 101, :min => 1, :attributes => Dict{Any, Any}(:type => \"range\", Symbol(\"data-bind\") => \"numericValue: index, valueUpdate: 'input', event: {change: function (){this.changes(this.changes()+1)}}\", \"orient\" => \"horizontal\"), :step => 1, :className => \"slider slider is-fullwidth\", :style => Dict{Any, Any}()))], Dict{Symbol, Any}(:className => \"interact-flex-row-center\")), WebIO.Node{WebIO.DOM}(WebIO.DOM(:html, :div), Any[WebIO.Node{WebIO.DOM}(WebIO.DOM(:html, :p), Any[], Dict{Symbol, Any}(:attributes => Dict(\"data-bind\" => \"text: formatted_val\")))], Dict{Symbol, Any}(:className => \"interact-flex-row-right\"))], Dict{Symbol, Any}(:className => \"interact-flex-row interact-widget\")), Dict{String, Tuple{Observables.AbstractObservable, Union{Nothing, Bool}}}(\"changes\" => (Observable(0), nothing), \"index\" => (Observable(51), nothing)), Set{String}(), nothing, WebIO.Asset[WebIO.Asset(\"js\", \"knockout\", \"/home/dushya/.julia/packages/Knockout/HReiN/src/../assets/knockout.js\"), WebIO.Asset(\"js\", \"knockout_punches\", \"/home/dushya/.julia/packages/Knockout/HReiN/src/../assets/knockout_punches.js\"), WebIO.Asset(\"js\", nothing, \"/home/dushya/.julia/packages/InteractBase/LJXv3/src/../assets/all.js\"), WebIO.Asset(\"css\", nothing, \"/home/dushya/.julia/packages/InteractBase/LJXv3/src/../assets/style.css\"), WebIO.Asset(\"css\", nothing, \"/home/dushya/.julia/packages/Interact/PENUy/src/../assets/bulma_confined.min.css\")], Dict{Any, Any}(\"changes\" => Any[WebIO.JSString(\"(function (val){return (val!=this.model[\\\"changes\\\"]()) ? (this.valueFromJulia[\\\"changes\\\"]=true, this.model[\\\"changes\\\"](val)) : undefined})\")], \"index\" => Any[WebIO.JSString(\"(function (val){return (val!=this.model[\\\"index\\\"]()) ? (this.valueFromJulia[\\\"index\\\"]=true, this.model[\\\"index\\\"](val)) : undefined})\")]), WebIO.ConnectionPool(Channel{Any}(32), Set{WebIO.AbstractConnection}(), Base.GenericCondition{ReentrantLock}(Base.IntrusiveLinkedList{Task}(Task (runnable) @0x00007fcee6d06720, Task (runnable) @0x00007fcee6d06720), ReentrantLock(nothing, 0x00000000, 0x00, Base.GenericCondition{Base.Threads.SpinLock}(Base.IntrusiveLinkedList{Task}(nothing, nothing), Base.Threads.SpinLock(0)), (0, 140527338067008, 0)))), WebIO.JSString[WebIO.JSString(\"function () {\\n    var handler = (function (ko, koPunches) {\\n    ko.punches.enableAll();\\n    ko.bindingHandlers.numericValue = {\\n        init: function(element, valueAccessor, allBindings, data, context) {\\n            var stringified = ko.observable(ko.unwrap(valueAccessor()));\\n            stringified.subscribe(function(value) {\\n                var val = parseFloat(value);\\n                if (!isNaN(val)) {\\n                    valueAccessor()(val);\\n                }\\n            });\\n            valueAccessor().subscribe(function(value) {\\n                var str = JSON.stringify(value);\\n                if ((str == \\\"0\\\") && ([\\\"-0\\\", \\\"-0.\\\"].indexOf(stringified()) >= 0))\\n                     return;\\n                 if ([\\\"null\\\", \\\"\\\"].indexOf(str) >= 0)\\n                     return;\\n                stringified(str);\\n            });\\n            ko.applyBindingsToNode(\\n                element,\\n                {\\n                    value: stringified,\\n                    valueUpdate: allBindings.get('valueUpdate'),\\n                },\\n                context,\\n            );\\n        }\\n    };\\n    var json_data = {\\\"formatted_vals\\\":[\\\"1\\\",\\\"2\\\",\\\"3\\\",\\\"4\\\",\\\"5\\\",\\\"6\\\",\\\"7\\\",\\\"8\\\",\\\"9\\\",\\\"10\\\",\\\"11\\\",\\\"12\\\",\\\"13\\\",\\\"14\\\",\\\"15\\\",\\\"16\\\",\\\"17\\\",\\\"18\\\",\\\"19\\\",\\\"20\\\",\\\"21\\\",\\\"22\\\",\\\"23\\\",\\\"24\\\",\\\"25\\\",\\\"26\\\",\\\"27\\\",\\\"28\\\",\\\"29\\\",\\\"30\\\",\\\"31\\\",\\\"32\\\",\\\"33\\\",\\\"34\\\",\\\"35\\\",\\\"36\\\",\\\"37\\\",\\\"38\\\",\\\"39\\\",\\\"40\\\",\\\"41\\\",\\\"42\\\",\\\"43\\\",\\\"44\\\",\\\"45\\\",\\\"46\\\",\\\"47\\\",\\\"48\\\",\\\"49\\\",\\\"50\\\",\\\"51\\\",\\\"52\\\",\\\"53\\\",\\\"54\\\",\\\"55\\\",\\\"56\\\",\\\"57\\\",\\\"58\\\",\\\"59\\\",\\\"60\\\",\\\"61\\\",\\\"62\\\",\\\"63\\\",\\\"64\\\",\\\"65\\\",\\\"66\\\",\\\"67\\\",\\\"68\\\",\\\"69\\\",\\\"70\\\",\\\"71\\\",\\\"72\\\",\\\"73\\\",\\\"74\\\",\\\"75\\\",\\\"76\\\",\\\"77\\\",\\\"78\\\",\\\"79\\\",\\\"80\\\",\\\"81\\\",\\\"82\\\",\\\"83\\\",\\\"84\\\",\\\"85\\\",\\\"86\\\",\\\"87\\\",\\\"88\\\",\\\"89\\\",\\\"90\\\",\\\"91\\\",\\\"92\\\",\\\"93\\\",\\\"94\\\",\\\"95\\\",\\\"96\\\",\\\"97\\\",\\\"98\\\",\\\"99\\\",\\\"100\\\",\\\"101\\\"],\\\"changes\\\":WebIO.getval({\\\"name\\\":\\\"changes\\\",\\\"scope\\\":\\\"6499748859151760067\\\",\\\"id\\\":\\\"5181827026265917582\\\",\\\"type\\\":\\\"observable\\\"}),\\\"index\\\":WebIO.getval({\\\"name\\\":\\\"index\\\",\\\"scope\\\":\\\"6499748859151760067\\\",\\\"id\\\":\\\"1252814684634750626\\\",\\\"type\\\":\\\"observable\\\"})};\\n    var self = this;\\n    function AppViewModel() {\\n        for (var key in json_data) {\\n            var el = json_data[key];\\n            this[key] = Array.isArray(el) ? ko.observableArray(el) : ko.observable(el);\\n        }\\n        \\n        [this[\\\"formatted_val\\\"]=ko.computed(    function(){\\n        return this.formatted_vals()[parseInt(this.index())-(1)];\\n    }\\n,this)]\\n        [this[\\\"changes\\\"].subscribe((function (val){!(this.valueFromJulia[\\\"changes\\\"]) ? (WebIO.setval({\\\"name\\\":\\\"changes\\\",\\\"scope\\\":\\\"6499748859151760067\\\",\\\"id\\\":\\\"5181827026265917582\\\",\\\"type\\\":\\\"observable\\\"},val)) : undefined; return this.valueFromJulia[\\\"changes\\\"]=false}),self),this[\\\"index\\\"].subscribe((function (val){!(this.valueFromJulia[\\\"index\\\"]) ? (WebIO.setval({\\\"name\\\":\\\"index\\\",\\\"scope\\\":\\\"6499748859151760067\\\",\\\"id\\\":\\\"1252814684634750626\\\",\\\"type\\\":\\\"observable\\\"},val)) : undefined; return this.valueFromJulia[\\\"index\\\"]=false}),self)]\\n        \\n    }\\n    self.model = new AppViewModel();\\n    self.valueFromJulia = {};\\n    for (var key in json_data) {\\n        self.valueFromJulia[key] = false;\\n    }\\n    ko.applyBindings(self.model, self.dom);\\n}\\n);\\n    (WebIO.importBlock({\\\"data\\\":[{\\\"name\\\":\\\"knockout\\\",\\\"type\\\":\\\"js\\\",\\\"url\\\":\\\"/assetserver/727383f2a47bd31570b7da84eee7b022dd6d7c78-knockout.js\\\"},{\\\"name\\\":\\\"knockout_punches\\\",\\\"type\\\":\\\"js\\\",\\\"url\\\":\\\"/assetserver/382b41b3b1bd9f26f75861d360bad7f8beea211f-knockout_punches.js\\\"}],\\\"type\\\":\\\"async_block\\\"})).then((imports) => handler.apply(this, imports));\\n}\\n\")])], Dict{Symbol, Any}(:className => \"field interact-widget\")), WebIO.Node{WebIO.DOM}(WebIO.DOM(:html, :div), Any[WebIO.Scope(WebIO.Node{WebIO.DOM}(WebIO.DOM(:html, :div), Any[WebIO.Node{WebIO.DOM}(WebIO.DOM(:html, :div), Any[WebIO.Node{WebIO.DOM}(WebIO.DOM(:html, :label), Any[\"scale\"], Dict{Symbol, Any}(:className => \"interact \", :style => Dict{Any, Any}(:padding => \"5px 10px 0px 10px\")))], Dict{Symbol, Any}(:className => \"interact-flex-row-left\")), WebIO.Node{WebIO.DOM}(WebIO.DOM(:html, :div), Any[WebIO.Node{WebIO.DOM}(WebIO.DOM(:html, :input), Any[], Dict{Symbol, Any}(:max => 20, :min => 1, :attributes => Dict{Any, Any}(:type => \"range\", Symbol(\"data-bind\") => \"numericValue: index, valueUpdate: 'input', event: {change: function (){this.changes(this.changes()+1)}}\", \"orient\" => \"horizontal\"), :step => 1, :className => \"slider slider is-fullwidth\", :style => Dict{Any, Any}()))], Dict{Symbol, Any}(:className => \"interact-flex-row-center\")), WebIO.Node{WebIO.DOM}(WebIO.DOM(:html, :div), Any[WebIO.Node{WebIO.DOM}(WebIO.DOM(:html, :p), Any[], Dict{Symbol, Any}(:attributes => Dict(\"data-bind\" => \"text: formatted_val\")))], Dict{Symbol, Any}(:className => \"interact-flex-row-right\"))], Dict{Symbol, Any}(:className => \"interact-flex-row interact-widget\")), Dict{String, Tuple{Observables.AbstractObservable, Union{Nothing, Bool}}}(\"changes\" => (Observable(0), nothing), \"index\" => (Observable{Any}(10), nothing)), Set{String}(), nothing, WebIO.Asset[WebIO.Asset(\"js\", \"knockout\", \"/home/dushya/.julia/packages/Knockout/HReiN/src/../assets/knockout.js\"), WebIO.Asset(\"js\", \"knockout_punches\", \"/home/dushya/.julia/packages/Knockout/HReiN/src/../assets/knockout_punches.js\"), WebIO.Asset(\"js\", nothing, \"/home/dushya/.julia/packages/InteractBase/LJXv3/src/../assets/all.js\"), WebIO.Asset(\"css\", nothing, \"/home/dushya/.julia/packages/InteractBase/LJXv3/src/../assets/style.css\"), WebIO.Asset(\"css\", nothing, \"/home/dushya/.julia/packages/Interact/PENUy/src/../assets/bulma_confined.min.css\")], Dict{Any, Any}(\"changes\" => Any[WebIO.JSString(\"(function (val){return (val!=this.model[\\\"changes\\\"]()) ? (this.valueFromJulia[\\\"changes\\\"]=true, this.model[\\\"changes\\\"](val)) : undefined})\")], \"index\" => Any[WebIO.JSString(\"(function (val){return (val!=this.model[\\\"index\\\"]()) ? (this.valueFromJulia[\\\"index\\\"]=true, this.model[\\\"index\\\"](val)) : undefined})\")]), WebIO.ConnectionPool(Channel{Any}(32), Set{WebIO.AbstractConnection}(), Base.GenericCondition{ReentrantLock}(Base.IntrusiveLinkedList{Task}(Task (runnable) @0x00007fcee6d9d2d0, Task (runnable) @0x00007fcee6d9d2d0), ReentrantLock(nothing, 0x00000000, 0x00, Base.GenericCondition{Base.Threads.SpinLock}(Base.IntrusiveLinkedList{Task}(nothing, nothing), Base.Threads.SpinLock(0)), (0, 0, 139779710648320)))), WebIO.JSString[WebIO.JSString(\"function () {\\n    var handler = (function (ko, koPunches) {\\n    ko.punches.enableAll();\\n    ko.bindingHandlers.numericValue = {\\n        init: function(element, valueAccessor, allBindings, data, context) {\\n            var stringified = ko.observable(ko.unwrap(valueAccessor()));\\n            stringified.subscribe(function(value) {\\n                var val = parseFloat(value);\\n                if (!isNaN(val)) {\\n                    valueAccessor()(val);\\n                }\\n            });\\n            valueAccessor().subscribe(function(value) {\\n                var str = JSON.stringify(value);\\n                if ((str == \\\"0\\\") && ([\\\"-0\\\", \\\"-0.\\\"].indexOf(stringified()) >= 0))\\n                     return;\\n                 if ([\\\"null\\\", \\\"\\\"].indexOf(str) >= 0)\\n                     return;\\n                stringified(str);\\n            });\\n            ko.applyBindingsToNode(\\n                element,\\n                {\\n                    value: stringified,\\n                    valueUpdate: allBindings.get('valueUpdate'),\\n                },\\n                context,\\n            );\\n        }\\n    };\\n    var json_data = {\\\"formatted_vals\\\":[\\\"0.1\\\",\\\"0.2\\\",\\\"0.3\\\",\\\"0.4\\\",\\\"0.5\\\",\\\"0.6\\\",\\\"0.7\\\",\\\"0.8\\\",\\\"0.9\\\",\\\"1.0\\\",\\\"1.1\\\",\\\"1.2\\\",\\\"1.3\\\",\\\"1.4\\\",\\\"1.5\\\",\\\"1.6\\\",\\\"1.7\\\",\\\"1.8\\\",\\\"1.9\\\",\\\"2.0\\\"],\\\"changes\\\":WebIO.getval({\\\"name\\\":\\\"changes\\\",\\\"scope\\\":\\\"8736222299978372920\\\",\\\"id\\\":\\\"9916526908176895011\\\",\\\"type\\\":\\\"observable\\\"}),\\\"index\\\":WebIO.getval({\\\"name\\\":\\\"index\\\",\\\"scope\\\":\\\"8736222299978372920\\\",\\\"id\\\":\\\"6119162104572755369\\\",\\\"type\\\":\\\"observable\\\"})};\\n    var self = this;\\n    function AppViewModel() {\\n        for (var key in json_data) {\\n            var el = json_data[key];\\n            this[key] = Array.isArray(el) ? ko.observableArray(el) : ko.observable(el);\\n        }\\n        \\n        [this[\\\"formatted_val\\\"]=ko.computed(    function(){\\n        return this.formatted_vals()[parseInt(this.index())-(1)];\\n    }\\n,this)]\\n        [this[\\\"changes\\\"].subscribe((function (val){!(this.valueFromJulia[\\\"changes\\\"]) ? (WebIO.setval({\\\"name\\\":\\\"changes\\\",\\\"scope\\\":\\\"8736222299978372920\\\",\\\"id\\\":\\\"9916526908176895011\\\",\\\"type\\\":\\\"observable\\\"},val)) : undefined; return this.valueFromJulia[\\\"changes\\\"]=false}),self),this[\\\"index\\\"].subscribe((function (val){!(this.valueFromJulia[\\\"index\\\"]) ? (WebIO.setval({\\\"name\\\":\\\"index\\\",\\\"scope\\\":\\\"8736222299978372920\\\",\\\"id\\\":\\\"6119162104572755369\\\",\\\"type\\\":\\\"observable\\\"},val)) : undefined; return this.valueFromJulia[\\\"index\\\"]=false}),self)]\\n        \\n    }\\n    self.model = new AppViewModel();\\n    self.valueFromJulia = {};\\n    for (var key in json_data) {\\n        self.valueFromJulia[key] = false;\\n    }\\n    ko.applyBindings(self.model, self.dom);\\n}\\n);\\n    (WebIO.importBlock({\\\"data\\\":[{\\\"name\\\":\\\"knockout\\\",\\\"type\\\":\\\"js\\\",\\\"url\\\":\\\"/assetserver/727383f2a47bd31570b7da84eee7b022dd6d7c78-knockout.js\\\"},{\\\"name\\\":\\\"knockout_punches\\\",\\\"type\\\":\\\"js\\\",\\\"url\\\":\\\"/assetserver/382b41b3b1bd9f26f75861d360bad7f8beea211f-knockout_punches.js\\\"}],\\\"type\\\":\\\"async_block\\\"})).then((imports) => handler.apply(this, imports));\\n}\\n\")])], Dict{Symbol, Any}(:className => \"field interact-widget\")), WebIO.Node{WebIO.DOM}(WebIO.DOM(:html, :div), Any[WebIO.Node{WebIO.DOM}(WebIO.DOM(:html, :div), Any[WebIO.Scope(WebIO.Node{WebIO.DOM}(WebIO.DOM(:html, :div), Any[], Dict{Symbol, Any}(:id => \"container\")), Dict{String, Tuple{Observables.AbstractObservable, Union{Nothing, Bool}}}(\"value\" => (Observable(\"\\\\;\\\\;\"), nothing)), Set{String}(), nothing, WebIO.Asset[WebIO.Asset(\"js\", nothing, \"/home/dushya/.julia/packages/InteractBase/LJXv3/src/../assets/katex.min.js\"), WebIO.Asset(\"css\", nothing, \"/home/dushya/.julia/packages/InteractBase/LJXv3/src/../assets/katex.min.css\")], Dict{Any, Any}(\"value\" => Any[WebIO.JSString(\"(function (txt){return this.k.render(txt,this.container)})\")]), WebIO.ConnectionPool(Channel{Any}(32), Set{WebIO.AbstractConnection}(), Base.GenericCondition{ReentrantLock}(Base.IntrusiveLinkedList{Task}(Task (runnable) @0x00007fcea61c55f0, Task (runnable) @0x00007fcea61c55f0), ReentrantLock(nothing, 0x00000000, 0x00, Base.GenericCondition{Base.Threads.SpinLock}(Base.IntrusiveLinkedList{Task}(nothing, nothing), Base.Threads.SpinLock(0)), (3, 140527034957824, 140527336897600)))), WebIO.JSString[WebIO.JSString(\"function () {\\n    var handler = ((function (k){this.k=k; this.container=this.dom.querySelector(\\\"#container\\\"); return k.render(\\\"\\\\\\\\;\\\\\\\\;\\\",this.container)}));\\n    (WebIO.importBlock({\\\"data\\\":[{\\\"name\\\":null,\\\"type\\\":\\\"js\\\",\\\"url\\\":\\\"/assetserver/dd22ed1bf1896c2748f3fe616ce0b838adc895c1-katex.min.js\\\"},{\\\"name\\\":null,\\\"type\\\":\\\"css\\\",\\\"url\\\":\\\"/assetserver/46517a424aa5e6cffc1360d7e0848b601c584ee3-katex.min.css\\\"}],\\\"type\\\":\\\"async_block\\\"})).then((imports) => handler.apply(this, imports));\\n}\\n\")])], Dict{Symbol, Any}(:className => \"interact-widget\")), WebIO.Node{WebIO.DOM}(WebIO.DOM(:html, :div), Any[WebIO.Scope(WebIO.Node{WebIO.DOM}(WebIO.DOM(:html, :button), Any[\"run\"], Dict{Symbol, Any}(:attributes => Dict{Any, Any}(\"data-bind\" => \"click: function (){this.clicks(this.clicks()+1)}, css: {'is-loading' : loading}\"), :className => \"is-medium button is-primary\", :style => Dict{String, Any}())), Dict{String, Tuple{Observables.AbstractObservable, Union{Nothing, Bool}}}(\"loading\" => (Observable(false), nothing), \"clicks\" => (Observable(0), nothing)), Set{String}(), nothing, WebIO.Asset[WebIO.Asset(\"js\", \"knockout\", \"/home/dushya/.julia/packages/Knockout/HReiN/src/../assets/knockout.js\"), WebIO.Asset(\"js\", \"knockout_punches\", \"/home/dushya/.julia/packages/Knockout/HReiN/src/../assets/knockout_punches.js\"), WebIO.Asset(\"js\", nothing, \"/home/dushya/.julia/packages/InteractBase/LJXv3/src/../assets/all.js\"), WebIO.Asset(\"css\", nothing, \"/home/dushya/.julia/packages/InteractBase/LJXv3/src/../assets/style.css\"), WebIO.Asset(\"css\", nothing, \"/home/dushya/.julia/packages/Interact/PENUy/src/../assets/bulma_confined.min.css\")], Dict{Any, Any}(\"loading\" => Any[WebIO.JSString(\"(function (val){return (val!=this.model[\\\"loading\\\"]()) ? (this.valueFromJulia[\\\"loading\\\"]=true, this.model[\\\"loading\\\"](val)) : undefined})\")], \"clicks\" => Any[WebIO.JSString(\"(function (val){return (val!=this.model[\\\"clicks\\\"]()) ? (this.valueFromJulia[\\\"clicks\\\"]=true, this.model[\\\"clicks\\\"](val)) : undefined})\")]), WebIO.ConnectionPool(Channel{Any}(32), Set{WebIO.AbstractConnection}(), Base.GenericCondition{ReentrantLock}(Base.IntrusiveLinkedList{Task}(Task (runnable) @0x00007fcee6e36bd0, Task (runnable) @0x00007fcee6e36bd0), ReentrantLock(nothing, 0x00000000, 0x00, Base.GenericCondition{Base.Threads.SpinLock}(Base.IntrusiveLinkedList{Task}(nothing, nothing), Base.Threads.SpinLock(0)), (8, 140527338067008, 0)))), WebIO.JSString[WebIO.JSString(\"function () {\\n    var handler = (function (ko, koPunches) {\\n    ko.punches.enableAll();\\n    ko.bindingHandlers.numericValue = {\\n        init: function(element, valueAccessor, allBindings, data, context) {\\n            var stringified = ko.observable(ko.unwrap(valueAccessor()));\\n            stringified.subscribe(function(value) {\\n                var val = parseFloat(value);\\n                if (!isNaN(val)) {\\n                    valueAccessor()(val);\\n                }\\n            });\\n            valueAccessor().subscribe(function(value) {\\n                var str = JSON.stringify(value);\\n                if ((str == \\\"0\\\") && ([\\\"-0\\\", \\\"-0.\\\"].indexOf(stringified()) >= 0))\\n                     return;\\n                 if ([\\\"null\\\", \\\"\\\"].indexOf(str) >= 0)\\n                     return;\\n                stringified(str);\\n            });\\n            ko.applyBindingsToNode(\\n                element,\\n                {\\n                    value: stringified,\\n                    valueUpdate: allBindings.get('valueUpdate'),\\n                },\\n                context,\\n            );\\n        }\\n    };\\n    var json_data = {\\\"loading\\\":WebIO.getval({\\\"name\\\":\\\"loading\\\",\\\"scope\\\":\\\"8245136971780236502\\\",\\\"id\\\":\\\"15908248252675958321\\\",\\\"type\\\":\\\"observable\\\"}),\\\"clicks\\\":WebIO.getval({\\\"name\\\":\\\"clicks\\\",\\\"scope\\\":\\\"8245136971780236502\\\",\\\"id\\\":\\\"15567093229529328913\\\",\\\"type\\\":\\\"observable\\\"})};\\n    var self = this;\\n    function AppViewModel() {\\n        for (var key in json_data) {\\n            var el = json_data[key];\\n            this[key] = Array.isArray(el) ? ko.observableArray(el) : ko.observable(el);\\n        }\\n        \\n        \\n        [this[\\\"loading\\\"].subscribe((function (val){!(this.valueFromJulia[\\\"loading\\\"]) ? (WebIO.setval({\\\"name\\\":\\\"loading\\\",\\\"scope\\\":\\\"8245136971780236502\\\",\\\"id\\\":\\\"15908248252675958321\\\",\\\"type\\\":\\\"observable\\\"},val)) : undefined; return this.valueFromJulia[\\\"loading\\\"]=false}),self),this[\\\"clicks\\\"].subscribe((function (val){!(this.valueFromJulia[\\\"clicks\\\"]) ? (WebIO.setval({\\\"name\\\":\\\"clicks\\\",\\\"scope\\\":\\\"8245136971780236502\\\",\\\"id\\\":\\\"15567093229529328913\\\",\\\"type\\\":\\\"observable\\\"},val)) : undefined; return this.valueFromJulia[\\\"clicks\\\"]=false}),self)]\\n        \\n    }\\n    self.model = new AppViewModel();\\n    self.valueFromJulia = {};\\n    for (var key in json_data) {\\n        self.valueFromJulia[key] = false;\\n    }\\n    ko.applyBindings(self.model, self.dom);\\n}\\n);\\n    (WebIO.importBlock({\\\"data\\\":[{\\\"name\\\":\\\"knockout\\\",\\\"type\\\":\\\"js\\\",\\\"url\\\":\\\"/assetserver/727383f2a47bd31570b7da84eee7b022dd6d7c78-knockout.js\\\"},{\\\"name\\\":\\\"knockout_punches\\\",\\\"type\\\":\\\"js\\\",\\\"url\\\":\\\"/assetserver/382b41b3b1bd9f26f75861d360bad7f8beea211f-knockout_punches.js\\\"}],\\\"type\\\":\\\"async_block\\\"})).then((imports) => handler.apply(this, imports));\\n}\\n\")])], Dict{Symbol, Any}(:className => \"field interact-widget\")), WebIO.Node{WebIO.DOM}(WebIO.DOM(:html, :div), Any[WebIO.Scope(WebIO.Node{WebIO.DOM}(WebIO.DOM(:html, :div), Any[], Dict{Symbol, Any}(:id => \"container\")), Dict{String, Tuple{Observables.AbstractObservable, Union{Nothing, Bool}}}(\"value\" => (Observable(\"\\\\;\\\\;\"), nothing)), Set{String}(), nothing, WebIO.Asset[WebIO.Asset(\"js\", nothing, \"/home/dushya/.julia/packages/InteractBase/LJXv3/src/../assets/katex.min.js\"), WebIO.Asset(\"css\", nothing, \"/home/dushya/.julia/packages/InteractBase/LJXv3/src/../assets/katex.min.css\")], Dict{Any, Any}(\"value\" => Any[WebIO.JSString(\"(function (txt){return this.k.render(txt,this.container)})\")]), WebIO.ConnectionPool(Channel{Any}(32), Set{WebIO.AbstractConnection}(), Base.GenericCondition{ReentrantLock}(Base.IntrusiveLinkedList{Task}(Task (runnable) @0x00007fcea61c55f0, Task (runnable) @0x00007fcea61c55f0), ReentrantLock(nothing, 0x00000000, 0x00, Base.GenericCondition{Base.Threads.SpinLock}(Base.IntrusiveLinkedList{Task}(nothing, nothing), Base.Threads.SpinLock(0)), (3, 140527034957824, 140527336897600)))), WebIO.JSString[WebIO.JSString(\"function () {\\n    var handler = ((function (k){this.k=k; this.container=this.dom.querySelector(\\\"#container\\\"); return k.render(\\\"\\\\\\\\;\\\\\\\\;\\\",this.container)}));\\n    (WebIO.importBlock({\\\"data\\\":[{\\\"name\\\":null,\\\"type\\\":\\\"js\\\",\\\"url\\\":\\\"/assetserver/dd22ed1bf1896c2748f3fe616ce0b838adc895c1-katex.min.js\\\"},{\\\"name\\\":null,\\\"type\\\":\\\"css\\\",\\\"url\\\":\\\"/assetserver/46517a424aa5e6cffc1360d7e0848b601c584ee3-katex.min.css\\\"}],\\\"type\\\":\\\"async_block\\\"})).then((imports) => handler.apply(this, imports));\\n}\\n\")])], Dict{Symbol, Any}(:className => \"interact-widget\")), WebIO.Node{WebIO.DOM}(WebIO.DOM(:html, :div), Any[WebIO.Scope(WebIO.Node{WebIO.DOM}(WebIO.DOM(:html, :button), Any[\"stop\"], Dict{Symbol, Any}(:attributes => Dict{Any, Any}(\"data-bind\" => \"click: function (){this.clicks(this.clicks()+1)}, css: {'is-loading' : loading}\"), :className => \"is-medium button is-primary\", :style => Dict{String, Any}())), Dict{String, Tuple{Observables.AbstractObservable, Union{Nothing, Bool}}}(\"loading\" => (Observable(false), nothing), \"clicks\" => (Observable(0), nothing)), Set{String}(), nothing, WebIO.Asset[WebIO.Asset(\"js\", \"knockout\", \"/home/dushya/.julia/packages/Knockout/HReiN/src/../assets/knockout.js\"), WebIO.Asset(\"js\", \"knockout_punches\", \"/home/dushya/.julia/packages/Knockout/HReiN/src/../assets/knockout_punches.js\"), WebIO.Asset(\"js\", nothing, \"/home/dushya/.julia/packages/InteractBase/LJXv3/src/../assets/all.js\"), WebIO.Asset(\"css\", nothing, \"/home/dushya/.julia/packages/InteractBase/LJXv3/src/../assets/style.css\"), WebIO.Asset(\"css\", nothing, \"/home/dushya/.julia/packages/Interact/PENUy/src/../assets/bulma_confined.min.css\")], Dict{Any, Any}(\"loading\" => Any[WebIO.JSString(\"(function (val){return (val!=this.model[\\\"loading\\\"]()) ? (this.valueFromJulia[\\\"loading\\\"]=true, this.model[\\\"loading\\\"](val)) : undefined})\")], \"clicks\" => Any[WebIO.JSString(\"(function (val){return (val!=this.model[\\\"clicks\\\"]()) ? (this.valueFromJulia[\\\"clicks\\\"]=true, this.model[\\\"clicks\\\"](val)) : undefined})\")]), WebIO.ConnectionPool(Channel{Any}(32), Set{WebIO.AbstractConnection}(), Base.GenericCondition{ReentrantLock}(Base.IntrusiveLinkedList{Task}(Task (runnable) @0x00007fcee6e81460, Task (runnable) @0x00007fcee6e81460), ReentrantLock(nothing, 0x00000000, 0x00, Base.GenericCondition{Base.Threads.SpinLock}(Base.IntrusiveLinkedList{Task}(nothing, nothing), Base.Threads.SpinLock(0)), (2, 140526609914608, 140527338051872)))), WebIO.JSString[WebIO.JSString(\"function () {\\n    var handler = (function (ko, koPunches) {\\n    ko.punches.enableAll();\\n    ko.bindingHandlers.numericValue = {\\n        init: function(element, valueAccessor, allBindings, data, context) {\\n            var stringified = ko.observable(ko.unwrap(valueAccessor()));\\n            stringified.subscribe(function(value) {\\n                var val = parseFloat(value);\\n                if (!isNaN(val)) {\\n                    valueAccessor()(val);\\n                }\\n            });\\n            valueAccessor().subscribe(function(value) {\\n                var str = JSON.stringify(value);\\n                if ((str == \\\"0\\\") && ([\\\"-0\\\", \\\"-0.\\\"].indexOf(stringified()) >= 0))\\n                     return;\\n                 if ([\\\"null\\\", \\\"\\\"].indexOf(str) >= 0)\\n                     return;\\n                stringified(str);\\n            });\\n            ko.applyBindingsToNode(\\n                element,\\n                {\\n                    value: stringified,\\n                    valueUpdate: allBindings.get('valueUpdate'),\\n                },\\n                context,\\n            );\\n        }\\n    };\\n    var json_data = {\\\"loading\\\":WebIO.getval({\\\"name\\\":\\\"loading\\\",\\\"scope\\\":\\\"14857943104403582817\\\",\\\"id\\\":\\\"17032014065969139260\\\",\\\"type\\\":\\\"observable\\\"}),\\\"clicks\\\":WebIO.getval({\\\"name\\\":\\\"clicks\\\",\\\"scope\\\":\\\"14857943104403582817\\\",\\\"id\\\":\\\"17256534084527691892\\\",\\\"type\\\":\\\"observable\\\"})};\\n    var self = this;\\n    function AppViewModel() {\\n        for (var key in json_data) {\\n            var el = json_data[key];\\n            this[key] = Array.isArray(el) ? ko.observableArray(el) : ko.observable(el);\\n        }\\n        \\n        \\n        [this[\\\"loading\\\"].subscribe((function (val){!(this.valueFromJulia[\\\"loading\\\"]) ? (WebIO.setval({\\\"name\\\":\\\"loading\\\",\\\"scope\\\":\\\"14857943104403582817\\\",\\\"id\\\":\\\"17032014065969139260\\\",\\\"type\\\":\\\"observable\\\"},val)) : undefined; return this.valueFromJulia[\\\"loading\\\"]=false}),self),this[\\\"clicks\\\"].subscribe((function (val){!(this.valueFromJulia[\\\"clicks\\\"]) ? (WebIO.setval({\\\"name\\\":\\\"clicks\\\",\\\"scope\\\":\\\"14857943104403582817\\\",\\\"id\\\":\\\"17256534084527691892\\\",\\\"type\\\":\\\"observable\\\"},val)) : undefined; return this.valueFromJulia[\\\"clicks\\\"]=false}),self)]\\n        \\n    }\\n    self.model = new AppViewModel();\\n    self.valueFromJulia = {};\\n    for (var key in json_data) {\\n        self.valueFromJulia[key] = false;\\n    }\\n    ko.applyBindings(self.model, self.dom);\\n}\\n);\\n    (WebIO.importBlock({\\\"data\\\":[{\\\"name\\\":\\\"knockout\\\",\\\"type\\\":\\\"js\\\",\\\"url\\\":\\\"/assetserver/727383f2a47bd31570b7da84eee7b022dd6d7c78-knockout.js\\\"},{\\\"name\\\":\\\"knockout_punches\\\",\\\"type\\\":\\\"js\\\",\\\"url\\\":\\\"/assetserver/382b41b3b1bd9f26f75861d360bad7f8beea211f-knockout_punches.js\\\"}],\\\"type\\\":\\\"async_block\\\"})).then((imports) => handler.apply(this, imports));\\n}\\n\")])], Dict{Symbol, Any}(:className => \"field interact-widget\"))], Dict{Symbol, Any}(:style => Dict(\"display\" => \"flex\", \"flex-direction\" => \"row\")))], Dict{Symbol, Any}(:style => Dict(\"display\" => \"flex\", \"flex-direction\" => \"column\"))), Observable(MeshCat.DisplayedVisualizer(MeshCat.CoreVisualizer(MeshCat.SceneTrees.SceneNode(nothing, nothing, Dict{String, Vector{UInt8}}(), nothing, Dict{String, MeshCat.SceneTrees.SceneNode}(\"meshcat\" => MeshCat.SceneTrees.SceneNode(nothing, UInt8[0x83, 0xa6, 0x6d, 0x61, 0x74, 0x72, 0x69, 0x78, 0xc7, 0x40  …  0x68, 0xa8, 0x2f, 0x6d, 0x65, 0x73, 0x68, 0x63, 0x61, 0x74], Dict{String, Vector{UInt8}}(), nothing, Dict{String, MeshCat.SceneTrees.SceneNode}(\"nodes\" => MeshCat.SceneTrees.SceneNode(nothing, nothing, Dict{String, Vector{UInt8}}(), nothing, Dict{String, MeshCat.SceneTrees.SceneNode}(\"32\" => MeshCat.SceneTrees.SceneNode(nothing, UInt8[0x83, 0xa6, 0x6d, 0x61, 0x74, 0x72, 0x69, 0x78, 0xc7, 0x40  …  0x74, 0x2f, 0x6e, 0x6f, 0x64, 0x65, 0x73, 0x2f, 0x33, 0x32], Dict{String, Vector{UInt8}}(\"scale\" => [0x84, 0xa8, 0x70, 0x72, 0x6f, 0x70, 0x65, 0x72, 0x74, 0x79  …  0x74, 0x2f, 0x6e, 0x6f, 0x64, 0x65, 0x73, 0x2f, 0x33, 0x32]), nothing, Dict{String, MeshCat.SceneTrees.SceneNode}(\"(1.0N0f8, 1.0N0f8, 1.0N0f8, 1.0N0f8)\" => MeshCat.SceneTrees.SceneNode(UInt8[0x83, 0xa6, 0x6f, 0x62, 0x6a, 0x65, 0x63, 0x74, 0x84, 0xaa  …  0x2c, 0x20, 0x31, 0x2e, 0x30, 0x4e, 0x30, 0x66, 0x38, 0x29], nothing, Dict{String, Vector{UInt8}}(\"visible\" => [0x84, 0xa8, 0x70, 0x72, 0x6f, 0x70, 0x65, 0x72, 0x74, 0x79  …  0x2c, 0x20, 0x31, 0x2e, 0x30, 0x4e, 0x30, 0x66, 0x38, 0x29]), nothing, Dict{String, MeshCat.SceneTrees.SceneNode}()))), \"29\" => MeshCat.SceneTrees.SceneNode(nothing, UInt8[0x83, 0xa6, 0x6d, 0x61, 0x74, 0x72, 0x69, 0x78, 0xc7, 0x40  …  0x74, 0x2f, 0x6e, 0x6f, 0x64, 0x65, 0x73, 0x2f, 0x32, 0x39], Dict{String, Vector{UInt8}}(\"scale\" => [0x84, 0xa8, 0x70, 0x72, 0x6f, 0x70, 0x65, 0x72, 0x74, 0x79  …  0x74, 0x2f, 0x6e, 0x6f, 0x64, 0x65, 0x73, 0x2f, 0x32, 0x39]), nothing, Dict{String, MeshCat.SceneTrees.SceneNode}(\"(1.0N0f8, 1.0N0f8, 1.0N0f8, 1.0N0f8)\" => MeshCat.SceneTrees.SceneNode(UInt8[0x83, 0xa6, 0x6f, 0x62, 0x6a, 0x65, 0x63, 0x74, 0x84, 0xaa  …  0x2c, 0x20, 0x31, 0x2e, 0x30, 0x4e, 0x30, 0x66, 0x38, 0x29], nothing, Dict{String, Vector{UInt8}}(\"visible\" => [0x84, 0xa8, 0x70, 0x72, 0x6f, 0x70, 0x65, 0x72, 0x74, 0x79  …  0x2c, 0x20, 0x31, 0x2e, 0x30, 0x4e, 0x30, 0x66, 0x38, 0x29]), nothing, Dict{String, MeshCat.SceneTrees.SceneNode}()))), \"1\" => MeshCat.SceneTrees.SceneNode(nothing, UInt8[0x83, 0xa6, 0x6d, 0x61, 0x74, 0x72, 0x69, 0x78, 0xc7, 0x40  …  0x61, 0x74, 0x2f, 0x6e, 0x6f, 0x64, 0x65, 0x73, 0x2f, 0x31], Dict{String, Vector{UInt8}}(\"scale\" => [0x84, 0xa8, 0x70, 0x72, 0x6f, 0x70, 0x65, 0x72, 0x74, 0x79  …  0x61, 0x74, 0x2f, 0x6e, 0x6f, 0x64, 0x65, 0x73, 0x2f, 0x31]), nothing, Dict{String, MeshCat.SceneTrees.SceneNode}(\"(1.0N0f8, 1.0N0f8, 1.0N0f8, 1.0N0f8)\" => MeshCat.SceneTrees.SceneNode(UInt8[0x83, 0xa6, 0x6f, 0x62, 0x6a, 0x65, 0x63, 0x74, 0x84, 0xaa  …  0x2c, 0x20, 0x31, 0x2e, 0x30, 0x4e, 0x30, 0x66, 0x38, 0x29], nothing, Dict{String, Vector{UInt8}}(\"visible\" => [0x84, 0xa8, 0x70, 0x72, 0x6f, 0x70, 0x65, 0x72, 0x74, 0x79  …  0x2c, 0x20, 0x31, 0x2e, 0x30, 0x4e, 0x30, 0x66, 0x38, 0x29]), nothing, Dict{String, MeshCat.SceneTrees.SceneNode}()))), \"54\" => MeshCat.SceneTrees.SceneNode(nothing, UInt8[0x83, 0xa6, 0x6d, 0x61, 0x74, 0x72, 0x69, 0x78, 0xc7, 0x40  …  0x74, 0x2f, 0x6e, 0x6f, 0x64, 0x65, 0x73, 0x2f, 0x35, 0x34], Dict{String, Vector{UInt8}}(\"scale\" => [0x84, 0xa8, 0x70, 0x72, 0x6f, 0x70, 0x65, 0x72, 0x74, 0x79  …  0x74, 0x2f, 0x6e, 0x6f, 0x64, 0x65, 0x73, 0x2f, 0x35, 0x34]), nothing, Dict{String, MeshCat.SceneTrees.SceneNode}(\"(1.0N0f8, 1.0N0f8, 1.0N0f8, 1.0N0f8)\" => MeshCat.SceneTrees.SceneNode(UInt8[0x83, 0xa6, 0x6f, 0x62, 0x6a, 0x65, 0x63, 0x74, 0x84, 0xaa  …  0x2c, 0x20, 0x31, 0x2e, 0x30, 0x4e, 0x30, 0x66, 0x38, 0x29], nothing, Dict{String, Vector{UInt8}}(\"visible\" => [0x84, 0xa8, 0x70, 0x72, 0x6f, 0x70, 0x65, 0x72, 0x74, 0x79  …  0x2c, 0x20, 0x31, 0x2e, 0x30, 0x4e, 0x30, 0x66, 0x38, 0x29]), nothing, Dict{String, MeshCat.SceneTrees.SceneNode}()))), \"78\" => MeshCat.SceneTrees.SceneNode(nothing, UInt8[0x83, 0xa6, 0x6d, 0x61, 0x74, 0x72, 0x69, 0x78, 0xc7, 0x40  …  0x74, 0x2f, 0x6e, 0x6f, 0x64, 0x65, 0x73, 0x2f, 0x37, 0x38], Dict{String, Vector{UInt8}}(\"scale\" => [0x84, 0xa8, 0x70, 0x72, 0x6f, 0x70, 0x65, 0x72, 0x74, 0x79  …  0x74, 0x2f, 0x6e, 0x6f, 0x64, 0x65, 0x73, 0x2f, 0x37, 0x38]), nothing, Dict{String, MeshCat.SceneTrees.SceneNode}(\"(1.0N0f8, 1.0N0f8, 1.0N0f8, 1.0N0f8)\" => MeshCat.SceneTrees.SceneNode(UInt8[0x83, 0xa6, 0x6f, 0x62, 0x6a, 0x65, 0x63, 0x74, 0x84, 0xaa  …  0x2c, 0x20, 0x31, 0x2e, 0x30, 0x4e, 0x30, 0x66, 0x38, 0x29], nothing, Dict{String, Vector{UInt8}}(\"visible\" => [0x84, 0xa8, 0x70, 0x72, 0x6f, 0x70, 0x65, 0x72, 0x74, 0x79  …  0x2c, 0x20, 0x31, 0x2e, 0x30, 0x4e, 0x30, 0x66, 0x38, 0x29]), nothing, Dict{String, MeshCat.SceneTrees.SceneNode}()))), \"81\" => MeshCat.SceneTrees.SceneNode(nothing, UInt8[0x83, 0xa6, 0x6d, 0x61, 0x74, 0x72, 0x69, 0x78, 0xc7, 0x40  …  0x74, 0x2f, 0x6e, 0x6f, 0x64, 0x65, 0x73, 0x2f, 0x38, 0x31], Dict{String, Vector{UInt8}}(\"scale\" => [0x84, 0xa8, 0x70, 0x72, 0x6f, 0x70, 0x65, 0x72, 0x74, 0x79  …  0x74, 0x2f, 0x6e, 0x6f, 0x64, 0x65, 0x73, 0x2f, 0x38, 0x31]), nothing, Dict{String, MeshCat.SceneTrees.SceneNode}(\"(1.0N0f8, 1.0N0f8, 1.0N0f8, 1.0N0f8)\" => MeshCat.SceneTrees.SceneNode(UInt8[0x83, 0xa6, 0x6f, 0x62, 0x6a, 0x65, 0x63, 0x74, 0x84, 0xaa  …  0x2c, 0x20, 0x31, 0x2e, 0x30, 0x4e, 0x30, 0x66, 0x38, 0x29], nothing, Dict{String, Vector{UInt8}}(\"visible\" => [0x84, 0xa8, 0x70, 0x72, 0x6f, 0x70, 0x65, 0x72, 0x74, 0x79  …  0x2c, 0x20, 0x31, 0x2e, 0x30, 0x4e, 0x30, 0x66, 0x38, 0x29]), nothing, Dict{String, MeshCat.SceneTrees.SceneNode}()))), \"2\" => MeshCat.SceneTrees.SceneNode(nothing, UInt8[0x83, 0xa6, 0x6d, 0x61, 0x74, 0x72, 0x69, 0x78, 0xc7, 0x40  …  0x61, 0x74, 0x2f, 0x6e, 0x6f, 0x64, 0x65, 0x73, 0x2f, 0x32], Dict{String, Vector{UInt8}}(\"scale\" => [0x84, 0xa8, 0x70, 0x72, 0x6f, 0x70, 0x65, 0x72, 0x74, 0x79  …  0x61, 0x74, 0x2f, 0x6e, 0x6f, 0x64, 0x65, 0x73, 0x2f, 0x32]), nothing, Dict{String, MeshCat.SceneTrees.SceneNode}(\"(1.0N0f8, 1.0N0f8, 1.0N0f8, 1.0N0f8)\" => MeshCat.SceneTrees.SceneNode(UInt8[0x83, 0xa6, 0x6f, 0x62, 0x6a, 0x65, 0x63, 0x74, 0x84, 0xaa  …  0x2c, 0x20, 0x31, 0x2e, 0x30, 0x4e, 0x30, 0x66, 0x38, 0x29], nothing, Dict{String, Vector{UInt8}}(\"visible\" => [0x84, 0xa8, 0x70, 0x72, 0x6f, 0x70, 0x65, 0x72, 0x74, 0x79  …  0x2c, 0x20, 0x31, 0x2e, 0x30, 0x4e, 0x30, 0x66, 0x38, 0x29]), nothing, Dict{String, MeshCat.SceneTrees.SceneNode}()))), \"74\" => MeshCat.SceneTrees.SceneNode(nothing, UInt8[0x83, 0xa6, 0x6d, 0x61, 0x74, 0x72, 0x69, 0x78, 0xc7, 0x40  …  0x74, 0x2f, 0x6e, 0x6f, 0x64, 0x65, 0x73, 0x2f, 0x37, 0x34], Dict{String, Vector{UInt8}}(\"scale\" => [0x84, 0xa8, 0x70, 0x72, 0x6f, 0x70, 0x65, 0x72, 0x74, 0x79  …  0x74, 0x2f, 0x6e, 0x6f, 0x64, 0x65, 0x73, 0x2f, 0x37, 0x34]), nothing, Dict{String, MeshCat.SceneTrees.SceneNode}(\"(1.0N0f8, 1.0N0f8, 1.0N0f8, 1.0N0f8)\" => MeshCat.SceneTrees.SceneNode(UInt8[0x83, 0xa6, 0x6f, 0x62, 0x6a, 0x65, 0x63, 0x74, 0x84, 0xaa  …  0x2c, 0x20, 0x31, 0x2e, 0x30, 0x4e, 0x30, 0x66, 0x38, 0x29], nothing, Dict{String, Vector{UInt8}}(\"visible\" => [0x84, 0xa8, 0x70, 0x72, 0x6f, 0x70, 0x65, 0x72, 0x74, 0x79  …  0x2c, 0x20, 0x31, 0x2e, 0x30, 0x4e, 0x30, 0x66, 0x38, 0x29]), nothing, Dict{String, MeshCat.SceneTrees.SceneNode}()))), \"41\" => MeshCat.SceneTrees.SceneNode(nothing, UInt8[0x83, 0xa6, 0x6d, 0x61, 0x74, 0x72, 0x69, 0x78, 0xc7, 0x40  …  0x74, 0x2f, 0x6e, 0x6f, 0x64, 0x65, 0x73, 0x2f, 0x34, 0x31], Dict{String, Vector{UInt8}}(\"scale\" => [0x84, 0xa8, 0x70, 0x72, 0x6f, 0x70, 0x65, 0x72, 0x74, 0x79  …  0x74, 0x2f, 0x6e, 0x6f, 0x64, 0x65, 0x73, 0x2f, 0x34, 0x31]), nothing, Dict{String, MeshCat.SceneTrees.SceneNode}(\"(1.0N0f8, 1.0N0f8, 1.0N0f8, 1.0N0f8)\" => MeshCat.SceneTrees.SceneNode(UInt8[0x83, 0xa6, 0x6f, 0x62, 0x6a, 0x65, 0x63, 0x74, 0x84, 0xaa  …  0x2c, 0x20, 0x31, 0x2e, 0x30, 0x4e, 0x30, 0x66, 0x38, 0x29], nothing, Dict{String, Vector{UInt8}}(\"visible\" => [0x84, 0xa8, 0x70, 0x72, 0x6f, 0x70, 0x65, 0x72, 0x74, 0x79  …  0x2c, 0x20, 0x31, 0x2e, 0x30, 0x4e, 0x30, 0x66, 0x38, 0x29]), nothing, Dict{String, MeshCat.SceneTrees.SceneNode}()))), \"65\" => MeshCat.SceneTrees.SceneNode(nothing, UInt8[0x83, 0xa6, 0x6d, 0x61, 0x74, 0x72, 0x69, 0x78, 0xc7, 0x40  …  0x74, 0x2f, 0x6e, 0x6f, 0x64, 0x65, 0x73, 0x2f, 0x36, 0x35], Dict{String, Vector{UInt8}}(\"scale\" => [0x84, 0xa8, 0x70, 0x72, 0x6f, 0x70, 0x65, 0x72, 0x74, 0x79  …  0x74, 0x2f, 0x6e, 0x6f, 0x64, 0x65, 0x73, 0x2f, 0x36, 0x35]), nothing, Dict{String, MeshCat.SceneTrees.SceneNode}(\"(1.0N0f8, 1.0N0f8, 1.0N0f8, 1.0N0f8)\" => MeshCat.SceneTrees.SceneNode(UInt8[0x83, 0xa6, 0x6f, 0x62, 0x6a, 0x65, 0x63, 0x74, 0x84, 0xaa  …  0x2c, 0x20, 0x31, 0x2e, 0x30, 0x4e, 0x30, 0x66, 0x38, 0x29], nothing, Dict{String, Vector{UInt8}}(\"visible\" => [0x84, 0xa8, 0x70, 0x72, 0x6f, 0x70, 0x65, 0x72, 0x74, 0x79  …  0x2c, 0x20, 0x31, 0x2e, 0x30, 0x4e, 0x30, 0x66, 0x38, 0x29]), nothing, Dict{String, MeshCat.SceneTrees.SceneNode}())))…)), \"bbox_line_segments\" => MeshCat.SceneTrees.SceneNode(nothing, nothing, Dict{String, Vector{UInt8}}(), nothing, Dict{String, MeshCat.SceneTrees.SceneNode}(\"4\" => MeshCat.SceneTrees.SceneNode(UInt8[0x83, 0xa6, 0x6f, 0x62, 0x6a, 0x65, 0x63, 0x74, 0x84, 0xaa  …  0x73, 0x65, 0x67, 0x6d, 0x65, 0x6e, 0x74, 0x73, 0x2f, 0x34], nothing, Dict{String, Vector{UInt8}}(), nothing, Dict{String, MeshCat.SceneTrees.SceneNode}()), \"1\" => MeshCat.SceneTrees.SceneNode(UInt8[0x83, 0xa6, 0x6f, 0x62, 0x6a, 0x65, 0x63, 0x74, 0x84, 0xaa  …  0x73, 0x65, 0x67, 0x6d, 0x65, 0x6e, 0x74, 0x73, 0x2f, 0x31], nothing, Dict{String, Vector{UInt8}}(), nothing, Dict{String, MeshCat.SceneTrees.SceneNode}()), \"12\" => MeshCat.SceneTrees.SceneNode(UInt8[0x83, 0xa6, 0x6f, 0x62, 0x6a, 0x65, 0x63, 0x74, 0x84, 0xaa  …  0x65, 0x67, 0x6d, 0x65, 0x6e, 0x74, 0x73, 0x2f, 0x31, 0x32], nothing, Dict{String, Vector{UInt8}}(), nothing, Dict{String, MeshCat.SceneTrees.SceneNode}()), \"2\" => MeshCat.SceneTrees.SceneNode(UInt8[0x83, 0xa6, 0x6f, 0x62, 0x6a, 0x65, 0x63, 0x74, 0x84, 0xaa  …  0x73, 0x65, 0x67, 0x6d, 0x65, 0x6e, 0x74, 0x73, 0x2f, 0x32], nothing, Dict{String, Vector{UInt8}}(), nothing, Dict{String, MeshCat.SceneTrees.SceneNode}()), \"6\" => MeshCat.SceneTrees.SceneNode(UInt8[0x83, 0xa6, 0x6f, 0x62, 0x6a, 0x65, 0x63, 0x74, 0x84, 0xaa  …  0x73, 0x65, 0x67, 0x6d, 0x65, 0x6e, 0x74, 0x73, 0x2f, 0x36], nothing, Dict{String, Vector{UInt8}}(), nothing, Dict{String, MeshCat.SceneTrees.SceneNode}()), \"11\" => MeshCat.SceneTrees.SceneNode(UInt8[0x83, 0xa6, 0x6f, 0x62, 0x6a, 0x65, 0x63, 0x74, 0x84, 0xaa  …  0x65, 0x67, 0x6d, 0x65, 0x6e, 0x74, 0x73, 0x2f, 0x31, 0x31], nothing, Dict{String, Vector{UInt8}}(), nothing, Dict{String, MeshCat.SceneTrees.SceneNode}()), \"5\" => MeshCat.SceneTrees.SceneNode(UInt8[0x83, 0xa6, 0x6f, 0x62, 0x6a, 0x65, 0x63, 0x74, 0x84, 0xaa  …  0x73, 0x65, 0x67, 0x6d, 0x65, 0x6e, 0x74, 0x73, 0x2f, 0x35], nothing, Dict{String, Vector{UInt8}}(), nothing, Dict{String, MeshCat.SceneTrees.SceneNode}()), \"7\" => MeshCat.SceneTrees.SceneNode(UInt8[0x83, 0xa6, 0x6f, 0x62, 0x6a, 0x65, 0x63, 0x74, 0x84, 0xaa  …  0x73, 0x65, 0x67, 0x6d, 0x65, 0x6e, 0x74, 0x73, 0x2f, 0x37], nothing, Dict{String, Vector{UInt8}}(), nothing, Dict{String, MeshCat.SceneTrees.SceneNode}()), \"8\" => MeshCat.SceneTrees.SceneNode(UInt8[0x83, 0xa6, 0x6f, 0x62, 0x6a, 0x65, 0x63, 0x74, 0x84, 0xaa  …  0x73, 0x65, 0x67, 0x6d, 0x65, 0x6e, 0x74, 0x73, 0x2f, 0x38], nothing, Dict{String, Vector{UInt8}}(), nothing, Dict{String, MeshCat.SceneTrees.SceneNode}()), \"10\" => MeshCat.SceneTrees.SceneNode(UInt8[0x83, 0xa6, 0x6f, 0x62, 0x6a, 0x65, 0x63, 0x74, 0x84, 0xaa  …  0x65, 0x67, 0x6d, 0x65, 0x6e, 0x74, 0x73, 0x2f, 0x31, 0x30], nothing, Dict{String, Vector{UInt8}}(), nothing, Dict{String, MeshCat.SceneTrees.SceneNode}())…)), \"edges\" => MeshCat.SceneTrees.SceneNode(nothing, nothing, Dict{String, Vector{UInt8}}(), nothing, Dict{String, MeshCat.SceneTrees.SceneNode}(\"(1, 11)\" => MeshCat.SceneTrees.SceneNode(nothing, UInt8[0x83, 0xa6, 0x6d, 0x61, 0x74, 0x72, 0x69, 0x78, 0xc7, 0x40  …  0x65, 0x73, 0x2f, 0x28, 0x31, 0x2c, 0x20, 0x31, 0x31, 0x29], Dict{String, Vector{UInt8}}(\"scale\" => [0x84, 0xa8, 0x70, 0x72, 0x6f, 0x70, 0x65, 0x72, 0x74, 0x79  …  0x65, 0x73, 0x2f, 0x28, 0x31, 0x2c, 0x20, 0x31, 0x31, 0x29]), nothing, Dict{String, MeshCat.SceneTrees.SceneNode}(\"(0.0N0f8, 0.0N0f8, 1.0N0f8, 1.0N0f8)\" => MeshCat.SceneTrees.SceneNode(UInt8[0x83, 0xa6, 0x6f, 0x62, 0x6a, 0x65, 0x63, 0x74, 0x84, 0xaa  …  0x2c, 0x20, 0x31, 0x2e, 0x30, 0x4e, 0x30, 0x66, 0x38, 0x29], nothing, Dict{String, Vector{UInt8}}(\"visible\" => [0x84, 0xa8, 0x70, 0x72, 0x6f, 0x70, 0x65, 0x72, 0x74, 0x79  …  0x2c, 0x20, 0x31, 0x2e, 0x30, 0x4e, 0x30, 0x66, 0x38, 0x29]), nothing, Dict{String, MeshCat.SceneTrees.SceneNode}()))), \"(34, 62)\" => MeshCat.SceneTrees.SceneNode(nothing, UInt8[0x83, 0xa6, 0x6d, 0x61, 0x74, 0x72, 0x69, 0x78, 0xc7, 0x40  …  0x73, 0x2f, 0x28, 0x33, 0x34, 0x2c, 0x20, 0x36, 0x32, 0x29], Dict{String, Vector{UInt8}}(\"scale\" => [0x84, 0xa8, 0x70, 0x72, 0x6f, 0x70, 0x65, 0x72, 0x74, 0x79  …  0x73, 0x2f, 0x28, 0x33, 0x34, 0x2c, 0x20, 0x36, 0x32, 0x29]), nothing, Dict{String, MeshCat.SceneTrees.SceneNode}(\"(0.0N0f8, 0.0N0f8, 1.0N0f8, 1.0N0f8)\" => MeshCat.SceneTrees.SceneNode(UInt8[0x83, 0xa6, 0x6f, 0x62, 0x6a, 0x65, 0x63, 0x74, 0x84, 0xaa  …  0x2c, 0x20, 0x31, 0x2e, 0x30, 0x4e, 0x30, 0x66, 0x38, 0x29], nothing, Dict{String, Vector{UInt8}}(\"visible\" => [0x84, 0xa8, 0x70, 0x72, 0x6f, 0x70, 0x65, 0x72, 0x74, 0x79  …  0x2c, 0x20, 0x31, 0x2e, 0x30, 0x4e, 0x30, 0x66, 0x38, 0x29]), nothing, Dict{String, MeshCat.SceneTrees.SceneNode}()))), \"(2, 42)\" => MeshCat.SceneTrees.SceneNode(nothing, UInt8[0x83, 0xa6, 0x6d, 0x61, 0x74, 0x72, 0x69, 0x78, 0xc7, 0x40  …  0x65, 0x73, 0x2f, 0x28, 0x32, 0x2c, 0x20, 0x34, 0x32, 0x29], Dict{String, Vector{UInt8}}(\"scale\" => [0x84, 0xa8, 0x70, 0x72, 0x6f, 0x70, 0x65, 0x72, 0x74, 0x79  …  0x65, 0x73, 0x2f, 0x28, 0x32, 0x2c, 0x20, 0x34, 0x32, 0x29]), nothing, Dict{String, MeshCat.SceneTrees.SceneNode}(\"(0.0N0f8, 0.0N0f8, 1.0N0f8, 1.0N0f8)\" => MeshCat.SceneTrees.SceneNode(UInt8[0x83, 0xa6, 0x6f, 0x62, 0x6a, 0x65, 0x63, 0x74, 0x84, 0xaa  …  0x2c, 0x20, 0x31, 0x2e, 0x30, 0x4e, 0x30, 0x66, 0x38, 0x29], nothing, Dict{String, Vector{UInt8}}(\"visible\" => [0x84, 0xa8, 0x70, 0x72, 0x6f, 0x70, 0x65, 0x72, 0x74, 0x79  …  0x2c, 0x20, 0x31, 0x2e, 0x30, 0x4e, 0x30, 0x66, 0x38, 0x29]), nothing, Dict{String, MeshCat.SceneTrees.SceneNode}()))), \"(54, 55)\" => MeshCat.SceneTrees.SceneNode(nothing, nothing, Dict{String, Vector{UInt8}}(), nothing, Dict{String, MeshCat.SceneTrees.SceneNode}(\"(0.0N0f8, 0.0N0f8, 1.0N0f8, 1.0N0f8)\" => MeshCat.SceneTrees.SceneNode(UInt8[0x83, 0xa6, 0x6f, 0x62, 0x6a, 0x65, 0x63, 0x74, 0x84, 0xaa  …  0x2c, 0x20, 0x31, 0x2e, 0x30, 0x4e, 0x30, 0x66, 0x38, 0x29], nothing, Dict{String, Vector{UInt8}}(\"visible\" => [0x84, 0xa8, 0x70, 0x72, 0x6f, 0x70, 0x65, 0x72, 0x74, 0x79  …  0x2c, 0x20, 0x31, 0x2e, 0x30, 0x4e, 0x30, 0x66, 0x38, 0x29]), nothing, Dict{String, MeshCat.SceneTrees.SceneNode}()))), \"(24, 77)\" => MeshCat.SceneTrees.SceneNode(nothing, nothing, Dict{String, Vector{UInt8}}(), nothing, Dict{String, MeshCat.SceneTrees.SceneNode}(\"(0.0N0f8, 0.0N0f8, 1.0N0f8, 1.0N0f8)\" => MeshCat.SceneTrees.SceneNode(UInt8[0x83, 0xa6, 0x6f, 0x62, 0x6a, 0x65, 0x63, 0x74, 0x84, 0xaa  …  0x2c, 0x20, 0x31, 0x2e, 0x30, 0x4e, 0x30, 0x66, 0x38, 0x29], nothing, Dict{String, Vector{UInt8}}(\"visible\" => [0x84, 0xa8, 0x70, 0x72, 0x6f, 0x70, 0x65, 0x72, 0x74, 0x79  …  0x2c, 0x20, 0x31, 0x2e, 0x30, 0x4e, 0x30, 0x66, 0x38, 0x29]), nothing, Dict{String, MeshCat.SceneTrees.SceneNode}()))), \"(8, 35)\" => MeshCat.SceneTrees.SceneNode(nothing, UInt8[0x83, 0xa6, 0x6d, 0x61, 0x74, 0x72, 0x69, 0x78, 0xc7, 0x40  …  0x65, 0x73, 0x2f, 0x28, 0x38, 0x2c, 0x20, 0x33, 0x35, 0x29], Dict{String, Vector{UInt8}}(\"scale\" => [0x84, 0xa8, 0x70, 0x72, 0x6f, 0x70, 0x65, 0x72, 0x74, 0x79  …  0x65, 0x73, 0x2f, 0x28, 0x38, 0x2c, 0x20, 0x33, 0x35, 0x29]), nothing, Dict{String, MeshCat.SceneTrees.SceneNode}(\"(0.0N0f8, 0.0N0f8, 1.0N0f8, 1.0N0f8)\" => MeshCat.SceneTrees.SceneNode(UInt8[0x83, 0xa6, 0x6f, 0x62, 0x6a, 0x65, 0x63, 0x74, 0x84, 0xaa  …  0x2c, 0x20, 0x31, 0x2e, 0x30, 0x4e, 0x30, 0x66, 0x38, 0x29], nothing, Dict{String, Vector{UInt8}}(\"visible\" => [0x84, 0xa8, 0x70, 0x72, 0x6f, 0x70, 0x65, 0x72, 0x74, 0x79  …  0x2c, 0x20, 0x31, 0x2e, 0x30, 0x4e, 0x30, 0x66, 0x38, 0x29]), nothing, Dict{String, MeshCat.SceneTrees.SceneNode}()))), \"(19, 74)\" => MeshCat.SceneTrees.SceneNode(nothing, UInt8[0x83, 0xa6, 0x6d, 0x61, 0x74, 0x72, 0x69, 0x78, 0xc7, 0x40  …  0x73, 0x2f, 0x28, 0x31, 0x39, 0x2c, 0x20, 0x37, 0x34, 0x29], Dict{String, Vector{UInt8}}(\"scale\" => [0x84, 0xa8, 0x70, 0x72, 0x6f, 0x70, 0x65, 0x72, 0x74, 0x79  …  0x73, 0x2f, 0x28, 0x31, 0x39, 0x2c, 0x20, 0x37, 0x34, 0x29]), nothing, Dict{String, MeshCat.SceneTrees.SceneNode}(\"(0.0N0f8, 0.0N0f8, 1.0N0f8, 1.0N0f8)\" => MeshCat.SceneTrees.SceneNode(UInt8[0x83, 0xa6, 0x6f, 0x62, 0x6a, 0x65, 0x63, 0x74, 0x84, 0xaa  …  0x2c, 0x20, 0x31, 0x2e, 0x30, 0x4e, 0x30, 0x66, 0x38, 0x29], nothing, Dict{String, Vector{UInt8}}(\"visible\" => [0x84, 0xa8, 0x70, 0x72, 0x6f, 0x70, 0x65, 0x72, 0x74, 0x79  …  0x2c, 0x20, 0x31, 0x2e, 0x30, 0x4e, 0x30, 0x66, 0x38, 0x29]), nothing, Dict{String, MeshCat.SceneTrees.SceneNode}()))), \"(28, 76)\" => MeshCat.SceneTrees.SceneNode(nothing, UInt8[0x83, 0xa6, 0x6d, 0x61, 0x74, 0x72, 0x69, 0x78, 0xc7, 0x40  …  0x73, 0x2f, 0x28, 0x32, 0x38, 0x2c, 0x20, 0x37, 0x36, 0x29], Dict{String, Vector{UInt8}}(\"scale\" => [0x84, 0xa8, 0x70, 0x72, 0x6f, 0x70, 0x65, 0x72, 0x74, 0x79  …  0x73, 0x2f, 0x28, 0x32, 0x38, 0x2c, 0x20, 0x37, 0x36, 0x29]), nothing, Dict{String, MeshCat.SceneTrees.SceneNode}(\"(0.0N0f8, 0.0N0f8, 1.0N0f8, 1.0N0f8)\" => MeshCat.SceneTrees.SceneNode(UInt8[0x83, 0xa6, 0x6f, 0x62, 0x6a, 0x65, 0x63, 0x74, 0x84, 0xaa  …  0x2c, 0x20, 0x31, 0x2e, 0x30, 0x4e, 0x30, 0x66, 0x38, 0x29], nothing, Dict{String, Vector{UInt8}}(\"visible\" => [0x84, 0xa8, 0x70, 0x72, 0x6f, 0x70, 0x65, 0x72, 0x74, 0x79  …  0x2c, 0x20, 0x31, 0x2e, 0x30, 0x4e, 0x30, 0x66, 0x38, 0x29]), nothing, Dict{String, MeshCat.SceneTrees.SceneNode}()))), \"(23, 81)\" => MeshCat.SceneTrees.SceneNode(nothing, UInt8[0x83, 0xa6, 0x6d, 0x61, 0x74, 0x72, 0x69, 0x78, 0xc7, 0x40  …  0x73, 0x2f, 0x28, 0x32, 0x33, 0x2c, 0x20, 0x38, 0x31, 0x29], Dict{String, Vector{UInt8}}(\"scale\" => [0x84, 0xa8, 0x70, 0x72, 0x6f, 0x70, 0x65, 0x72, 0x74, 0x79  …  0x73, 0x2f, 0x28, 0x32, 0x33, 0x2c, 0x20, 0x38, 0x31, 0x29]), nothing, Dict{String, MeshCat.SceneTrees.SceneNode}(\"(0.0N0f8, 0.0N0f8, 1.0N0f8, 1.0N0f8)\" => MeshCat.SceneTrees.SceneNode(UInt8[0x83, 0xa6, 0x6f, 0x62, 0x6a, 0x65, 0x63, 0x74, 0x84, 0xaa  …  0x2c, 0x20, 0x31, 0x2e, 0x30, 0x4e, 0x30, 0x66, 0x38, 0x29], nothing, Dict{String, Vector{UInt8}}(\"visible\" => [0x84, 0xa8, 0x70, 0x72, 0x6f, 0x70, 0x65, 0x72, 0x74, 0x79  …  0x2c, 0x20, 0x31, 0x2e, 0x30, 0x4e, 0x30, 0x66, 0x38, 0x29]), nothing, Dict{String, MeshCat.SceneTrees.SceneNode}()))), \"(5, 37)\" => MeshCat.SceneTrees.SceneNode(nothing, UInt8[0x83, 0xa6, 0x6d, 0x61, 0x74, 0x72, 0x69, 0x78, 0xc7, 0x40  …  0x65, 0x73, 0x2f, 0x28, 0x35, 0x2c, 0x20, 0x33, 0x37, 0x29], Dict{String, Vector{UInt8}}(\"scale\" => [0x84, 0xa8, 0x70, 0x72, 0x6f, 0x70, 0x65, 0x72, 0x74, 0x79  …  0x65, 0x73, 0x2f, 0x28, 0x35, 0x2c, 0x20, 0x33, 0x37, 0x29]), nothing, Dict{String, MeshCat.SceneTrees.SceneNode}(\"(0.0N0f8, 0.0N0f8, 1.0N0f8, 1.0N0f8)\" => MeshCat.SceneTrees.SceneNode(UInt8[0x83, 0xa6, 0x6f, 0x62, 0x6a, 0x65, 0x63, 0x74, 0x84, 0xaa  …  0x2c, 0x20, 0x31, 0x2e, 0x30, 0x4e, 0x30, 0x66, 0x38, 0x29], nothing, Dict{String, Vector{UInt8}}(\"visible\" => [0x84, 0xa8, 0x70, 0x72, 0x6f, 0x70, 0x65, 0x72, 0x74, 0x79  …  0x2c, 0x20, 0x31, 0x2e, 0x30, 0x4e, 0x30, 0x66, 0x38, 0x29]), nothing, Dict{String, MeshCat.SceneTrees.SceneNode}())))…)))), \"Axes\" => MeshCat.SceneTrees.SceneNode(nothing, nothing, Dict{String, Vector{UInt8}}(), nothing, Dict{String, MeshCat.SceneTrees.SceneNode}(\"<object>\" => MeshCat.SceneTrees.SceneNode(UInt8[0x83, 0xa6, 0x6f, 0x62, 0x6a, 0x65, 0x63, 0x74, 0x84, 0xaa  …  0x73, 0x2f, 0x3c, 0x6f, 0x62, 0x6a, 0x65, 0x63, 0x74, 0x3e], UInt8[0x83, 0xa6, 0x6d, 0x61, 0x74, 0x72, 0x69, 0x78, 0xc7, 0x40  …  0x73, 0x2f, 0x3c, 0x6f, 0x62, 0x6a, 0x65, 0x63, 0x74, 0x3e], Dict{String, Vector{UInt8}}(), nothing, Dict{String, MeshCat.SceneTrees.SceneNode}()))))), Set{HTTP.WebSockets.WebSocket}(), ip\"127.0.0.1\", 8717))), WebIO.Node{WebIO.DOM}(WebIO.DOM(:html, :div), Any[WebIO.Scope(WebIO.Node{WebIO.DOM}(WebIO.DOM(:html, :div), Any[], Dict{Symbol, Any}(:id => \"container\")), Dict{String, Tuple{Observables.AbstractObservable, Union{Nothing, Bool}}}(\"value\" => (Observable(\"\\\\;\\\\;\"), nothing)), Set{String}(), nothing, WebIO.Asset[WebIO.Asset(\"js\", nothing, \"/home/dushya/.julia/packages/InteractBase/LJXv3/src/../assets/katex.min.js\"), WebIO.Asset(\"css\", nothing, \"/home/dushya/.julia/packages/InteractBase/LJXv3/src/../assets/katex.min.css\")], Dict{Any, Any}(\"value\" => Any[WebIO.JSString(\"(function (txt){return this.k.render(txt,this.container)})\")]), WebIO.ConnectionPool(Channel{Any}(32), Set{WebIO.AbstractConnection}(), Base.GenericCondition{ReentrantLock}(Base.IntrusiveLinkedList{Task}(Task (runnable) @0x00007fcea61c55f0, Task (runnable) @0x00007fcea61c55f0), ReentrantLock(nothing, 0x00000000, 0x00, Base.GenericCondition{Base.Threads.SpinLock}(Base.IntrusiveLinkedList{Task}(nothing, nothing), Base.Threads.SpinLock(0)), (3, 140527034957824, 140527336897600)))), WebIO.JSString[WebIO.JSString(\"function () {\\n    var handler = ((function (k){this.k=k; this.container=this.dom.querySelector(\\\"#container\\\"); return k.render(\\\"\\\\\\\\;\\\\\\\\;\\\",this.container)}));\\n    (WebIO.importBlock({\\\"data\\\":[{\\\"name\\\":null,\\\"type\\\":\\\"js\\\",\\\"url\\\":\\\"/assetserver/dd22ed1bf1896c2748f3fe616ce0b838adc895c1-katex.min.js\\\"},{\\\"name\\\":null,\\\"type\\\":\\\"css\\\",\\\"url\\\":\\\"/assetserver/46517a424aa5e6cffc1360d7e0848b601c584ee3-katex.min.css\\\"}],\\\"type\\\":\\\"async_block\\\"})).then((imports) => handler.apply(this, imports));\\n}\\n\")])], Dict{Symbol, Any}(:className => \"interact-widget\")), WebIO.Node{WebIO.DOM}(WebIO.DOM(:html, :div), Any[], Dict{Symbol, Any}(:style => Dict(\"display\" => \"flex\", \"flex-direction\" => \"column\")))], Dict{Symbol, Any}(:style => Dict(\"display\" => \"flex\", \"flex-direction\" => \"row\")))], Dict{Symbol, Any}(:style => Dict(\"display\" => \"flex\", \"flex-direction\" => \"column\")))"
      ]
     },
     "execution_count": 68,
     "metadata": {
      "application/vnd.webio.node+json": {
       "kernelId": "fab3a207-5cc6-48f3-878c-afb9e67be364"
      }
     },
     "output_type": "execute_result"
    }
   ],
   "source": [
    "animate_sim(model)"
   ]
  },
  {
   "cell_type": "code",
   "execution_count": 64,
   "metadata": {},
   "outputs": [
    {
     "name": "stderr",
     "output_type": "stream",
     "text": [
      "\u001b[36m\u001b[1m[ \u001b[22m\u001b[39m\u001b[36m\u001b[1mInfo: \u001b[22m\u001b[39mListening on: 127.0.0.1:8716, thread id: 1\n",
      "\u001b[36m\u001b[1m┌ \u001b[22m\u001b[39m\u001b[36m\u001b[1mInfo: \u001b[22m\u001b[39mMeshCat server started. You can open the visualizer by visiting the following URL in your browser:\n",
      "\u001b[36m\u001b[1m└ \u001b[22m\u001b[39mhttp://127.0.0.1:8716\n"
     ]
    },
    {
     "data": {
      "text/html": [
       "    <div style=\"height: 500px; width: 100%; overflow-x: auto; overflow-y: hidden; resize: both\">\n",
       "    <iframe src=\"http://127.0.0.1:8716\" style=\"width: 100%; height: 100%; border: none\"></iframe>\n",
       "    </div>\n"
      ],
      "text/plain": [
       "MeshCat.DisplayedVisualizer(MeshCat.CoreVisualizer(MeshCat.SceneTrees.SceneNode(nothing, nothing, Dict{String, Vector{UInt8}}(), nothing, Dict{String, MeshCat.SceneTrees.SceneNode}(\"meshcat\" => MeshCat.SceneTrees.SceneNode(nothing, UInt8[0x83, 0xa6, 0x6d, 0x61, 0x74, 0x72, 0x69, 0x78, 0xc7, 0x40  …  0x68, 0xa8, 0x2f, 0x6d, 0x65, 0x73, 0x68, 0x63, 0x61, 0x74], Dict{String, Vector{UInt8}}(), nothing, Dict{String, MeshCat.SceneTrees.SceneNode}(\"nodes\" => MeshCat.SceneTrees.SceneNode(nothing, nothing, Dict{String, Vector{UInt8}}(), nothing, Dict{String, MeshCat.SceneTrees.SceneNode}(\"32\" => MeshCat.SceneTrees.SceneNode(UInt8[0x83, 0xa6, 0x6f, 0x62, 0x6a, 0x65, 0x63, 0x74, 0x84, 0xaa  …  0x74, 0x2f, 0x6e, 0x6f, 0x64, 0x65, 0x73, 0x2f, 0x33, 0x32], UInt8[0x83, 0xa6, 0x6d, 0x61, 0x74, 0x72, 0x69, 0x78, 0xc7, 0x40  …  0x74, 0x2f, 0x6e, 0x6f, 0x64, 0x65, 0x73, 0x2f, 0x33, 0x32], Dict{String, Vector{UInt8}}(), nothing, Dict{String, MeshCat.SceneTrees.SceneNode}()), \"29\" => MeshCat.SceneTrees.SceneNode(UInt8[0x83, 0xa6, 0x6f, 0x62, 0x6a, 0x65, 0x63, 0x74, 0x84, 0xaa  …  0x74, 0x2f, 0x6e, 0x6f, 0x64, 0x65, 0x73, 0x2f, 0x32, 0x39], UInt8[0x83, 0xa6, 0x6d, 0x61, 0x74, 0x72, 0x69, 0x78, 0xc7, 0x40  …  0x74, 0x2f, 0x6e, 0x6f, 0x64, 0x65, 0x73, 0x2f, 0x32, 0x39], Dict{String, Vector{UInt8}}(), nothing, Dict{String, MeshCat.SceneTrees.SceneNode}()), \"1\" => MeshCat.SceneTrees.SceneNode(UInt8[0x83, 0xa6, 0x6f, 0x62, 0x6a, 0x65, 0x63, 0x74, 0x84, 0xaa  …  0x61, 0x74, 0x2f, 0x6e, 0x6f, 0x64, 0x65, 0x73, 0x2f, 0x31], UInt8[0x83, 0xa6, 0x6d, 0x61, 0x74, 0x72, 0x69, 0x78, 0xc7, 0x40  …  0x61, 0x74, 0x2f, 0x6e, 0x6f, 0x64, 0x65, 0x73, 0x2f, 0x31], Dict{String, Vector{UInt8}}(), nothing, Dict{String, MeshCat.SceneTrees.SceneNode}()), \"54\" => MeshCat.SceneTrees.SceneNode(UInt8[0x83, 0xa6, 0x6f, 0x62, 0x6a, 0x65, 0x63, 0x74, 0x84, 0xaa  …  0x74, 0x2f, 0x6e, 0x6f, 0x64, 0x65, 0x73, 0x2f, 0x35, 0x34], UInt8[0x83, 0xa6, 0x6d, 0x61, 0x74, 0x72, 0x69, 0x78, 0xc7, 0x40  …  0x74, 0x2f, 0x6e, 0x6f, 0x64, 0x65, 0x73, 0x2f, 0x35, 0x34], Dict{String, Vector{UInt8}}(), nothing, Dict{String, MeshCat.SceneTrees.SceneNode}()), \"78\" => MeshCat.SceneTrees.SceneNode(UInt8[0x83, 0xa6, 0x6f, 0x62, 0x6a, 0x65, 0x63, 0x74, 0x84, 0xaa  …  0x74, 0x2f, 0x6e, 0x6f, 0x64, 0x65, 0x73, 0x2f, 0x37, 0x38], UInt8[0x83, 0xa6, 0x6d, 0x61, 0x74, 0x72, 0x69, 0x78, 0xc7, 0x40  …  0x74, 0x2f, 0x6e, 0x6f, 0x64, 0x65, 0x73, 0x2f, 0x37, 0x38], Dict{String, Vector{UInt8}}(), nothing, Dict{String, MeshCat.SceneTrees.SceneNode}()), \"81\" => MeshCat.SceneTrees.SceneNode(UInt8[0x83, 0xa6, 0x6f, 0x62, 0x6a, 0x65, 0x63, 0x74, 0x84, 0xaa  …  0x74, 0x2f, 0x6e, 0x6f, 0x64, 0x65, 0x73, 0x2f, 0x38, 0x31], UInt8[0x83, 0xa6, 0x6d, 0x61, 0x74, 0x72, 0x69, 0x78, 0xc7, 0x40  …  0x74, 0x2f, 0x6e, 0x6f, 0x64, 0x65, 0x73, 0x2f, 0x38, 0x31], Dict{String, Vector{UInt8}}(), nothing, Dict{String, MeshCat.SceneTrees.SceneNode}()), \"2\" => MeshCat.SceneTrees.SceneNode(UInt8[0x83, 0xa6, 0x6f, 0x62, 0x6a, 0x65, 0x63, 0x74, 0x84, 0xaa  …  0x61, 0x74, 0x2f, 0x6e, 0x6f, 0x64, 0x65, 0x73, 0x2f, 0x32], UInt8[0x83, 0xa6, 0x6d, 0x61, 0x74, 0x72, 0x69, 0x78, 0xc7, 0x40  …  0x61, 0x74, 0x2f, 0x6e, 0x6f, 0x64, 0x65, 0x73, 0x2f, 0x32], Dict{String, Vector{UInt8}}(), nothing, Dict{String, MeshCat.SceneTrees.SceneNode}()), \"74\" => MeshCat.SceneTrees.SceneNode(UInt8[0x83, 0xa6, 0x6f, 0x62, 0x6a, 0x65, 0x63, 0x74, 0x84, 0xaa  …  0x74, 0x2f, 0x6e, 0x6f, 0x64, 0x65, 0x73, 0x2f, 0x37, 0x34], UInt8[0x83, 0xa6, 0x6d, 0x61, 0x74, 0x72, 0x69, 0x78, 0xc7, 0x40  …  0x74, 0x2f, 0x6e, 0x6f, 0x64, 0x65, 0x73, 0x2f, 0x37, 0x34], Dict{String, Vector{UInt8}}(), nothing, Dict{String, MeshCat.SceneTrees.SceneNode}()), \"41\" => MeshCat.SceneTrees.SceneNode(UInt8[0x83, 0xa6, 0x6f, 0x62, 0x6a, 0x65, 0x63, 0x74, 0x84, 0xaa  …  0x74, 0x2f, 0x6e, 0x6f, 0x64, 0x65, 0x73, 0x2f, 0x34, 0x31], UInt8[0x83, 0xa6, 0x6d, 0x61, 0x74, 0x72, 0x69, 0x78, 0xc7, 0x40  …  0x74, 0x2f, 0x6e, 0x6f, 0x64, 0x65, 0x73, 0x2f, 0x34, 0x31], Dict{String, Vector{UInt8}}(), nothing, Dict{String, MeshCat.SceneTrees.SceneNode}()), \"65\" => MeshCat.SceneTrees.SceneNode(UInt8[0x83, 0xa6, 0x6f, 0x62, 0x6a, 0x65, 0x63, 0x74, 0x84, 0xaa  …  0x74, 0x2f, 0x6e, 0x6f, 0x64, 0x65, 0x73, 0x2f, 0x36, 0x35], UInt8[0x83, 0xa6, 0x6d, 0x61, 0x74, 0x72, 0x69, 0x78, 0xc7, 0x40  …  0x74, 0x2f, 0x6e, 0x6f, 0x64, 0x65, 0x73, 0x2f, 0x36, 0x35], Dict{String, Vector{UInt8}}(), nothing, Dict{String, MeshCat.SceneTrees.SceneNode}())…)), \"bbox_line_segments\" => MeshCat.SceneTrees.SceneNode(nothing, nothing, Dict{String, Vector{UInt8}}(), nothing, Dict{String, MeshCat.SceneTrees.SceneNode}(\"4\" => MeshCat.SceneTrees.SceneNode(UInt8[0x83, 0xa6, 0x6f, 0x62, 0x6a, 0x65, 0x63, 0x74, 0x84, 0xaa  …  0x73, 0x65, 0x67, 0x6d, 0x65, 0x6e, 0x74, 0x73, 0x2f, 0x34], nothing, Dict{String, Vector{UInt8}}(), nothing, Dict{String, MeshCat.SceneTrees.SceneNode}()), \"1\" => MeshCat.SceneTrees.SceneNode(UInt8[0x83, 0xa6, 0x6f, 0x62, 0x6a, 0x65, 0x63, 0x74, 0x84, 0xaa  …  0x73, 0x65, 0x67, 0x6d, 0x65, 0x6e, 0x74, 0x73, 0x2f, 0x31], nothing, Dict{String, Vector{UInt8}}(), nothing, Dict{String, MeshCat.SceneTrees.SceneNode}()), \"12\" => MeshCat.SceneTrees.SceneNode(UInt8[0x83, 0xa6, 0x6f, 0x62, 0x6a, 0x65, 0x63, 0x74, 0x84, 0xaa  …  0x65, 0x67, 0x6d, 0x65, 0x6e, 0x74, 0x73, 0x2f, 0x31, 0x32], nothing, Dict{String, Vector{UInt8}}(), nothing, Dict{String, MeshCat.SceneTrees.SceneNode}()), \"2\" => MeshCat.SceneTrees.SceneNode(UInt8[0x83, 0xa6, 0x6f, 0x62, 0x6a, 0x65, 0x63, 0x74, 0x84, 0xaa  …  0x73, 0x65, 0x67, 0x6d, 0x65, 0x6e, 0x74, 0x73, 0x2f, 0x32], nothing, Dict{String, Vector{UInt8}}(), nothing, Dict{String, MeshCat.SceneTrees.SceneNode}()), \"6\" => MeshCat.SceneTrees.SceneNode(UInt8[0x83, 0xa6, 0x6f, 0x62, 0x6a, 0x65, 0x63, 0x74, 0x84, 0xaa  …  0x73, 0x65, 0x67, 0x6d, 0x65, 0x6e, 0x74, 0x73, 0x2f, 0x36], nothing, Dict{String, Vector{UInt8}}(), nothing, Dict{String, MeshCat.SceneTrees.SceneNode}()), \"11\" => MeshCat.SceneTrees.SceneNode(UInt8[0x83, 0xa6, 0x6f, 0x62, 0x6a, 0x65, 0x63, 0x74, 0x84, 0xaa  …  0x65, 0x67, 0x6d, 0x65, 0x6e, 0x74, 0x73, 0x2f, 0x31, 0x31], nothing, Dict{String, Vector{UInt8}}(), nothing, Dict{String, MeshCat.SceneTrees.SceneNode}()), \"5\" => MeshCat.SceneTrees.SceneNode(UInt8[0x83, 0xa6, 0x6f, 0x62, 0x6a, 0x65, 0x63, 0x74, 0x84, 0xaa  …  0x73, 0x65, 0x67, 0x6d, 0x65, 0x6e, 0x74, 0x73, 0x2f, 0x35], nothing, Dict{String, Vector{UInt8}}(), nothing, Dict{String, MeshCat.SceneTrees.SceneNode}()), \"7\" => MeshCat.SceneTrees.SceneNode(UInt8[0x83, 0xa6, 0x6f, 0x62, 0x6a, 0x65, 0x63, 0x74, 0x84, 0xaa  …  0x73, 0x65, 0x67, 0x6d, 0x65, 0x6e, 0x74, 0x73, 0x2f, 0x37], nothing, Dict{String, Vector{UInt8}}(), nothing, Dict{String, MeshCat.SceneTrees.SceneNode}()), \"8\" => MeshCat.SceneTrees.SceneNode(UInt8[0x83, 0xa6, 0x6f, 0x62, 0x6a, 0x65, 0x63, 0x74, 0x84, 0xaa  …  0x73, 0x65, 0x67, 0x6d, 0x65, 0x6e, 0x74, 0x73, 0x2f, 0x38], nothing, Dict{String, Vector{UInt8}}(), nothing, Dict{String, MeshCat.SceneTrees.SceneNode}()), \"10\" => MeshCat.SceneTrees.SceneNode(UInt8[0x83, 0xa6, 0x6f, 0x62, 0x6a, 0x65, 0x63, 0x74, 0x84, 0xaa  …  0x65, 0x67, 0x6d, 0x65, 0x6e, 0x74, 0x73, 0x2f, 0x31, 0x30], nothing, Dict{String, Vector{UInt8}}(), nothing, Dict{String, MeshCat.SceneTrees.SceneNode}())…)), \"edges\" => MeshCat.SceneTrees.SceneNode(nothing, nothing, Dict{String, Vector{UInt8}}(), nothing, Dict{String, MeshCat.SceneTrees.SceneNode}(\"(27, 68)\" => MeshCat.SceneTrees.SceneNode(UInt8[0x83, 0xa6, 0x6f, 0x62, 0x6a, 0x65, 0x63, 0x74, 0x84, 0xaa  …  0x73, 0x2f, 0x28, 0x32, 0x37, 0x2c, 0x20, 0x36, 0x38, 0x29], UInt8[0x83, 0xa6, 0x6d, 0x61, 0x74, 0x72, 0x69, 0x78, 0xc7, 0x40  …  0x73, 0x2f, 0x28, 0x32, 0x37, 0x2c, 0x20, 0x36, 0x38, 0x29], Dict{String, Vector{UInt8}}(\"scale\" => [0x84, 0xa8, 0x70, 0x72, 0x6f, 0x70, 0x65, 0x72, 0x74, 0x79  …  0x73, 0x2f, 0x28, 0x32, 0x37, 0x2c, 0x20, 0x36, 0x38, 0x29]), nothing, Dict{String, MeshCat.SceneTrees.SceneNode}()), \"(64, 74)\" => MeshCat.SceneTrees.SceneNode(UInt8[0x83, 0xa6, 0x6f, 0x62, 0x6a, 0x65, 0x63, 0x74, 0x84, 0xaa  …  0x73, 0x2f, 0x28, 0x36, 0x34, 0x2c, 0x20, 0x37, 0x34, 0x29], UInt8[0x83, 0xa6, 0x6d, 0x61, 0x74, 0x72, 0x69, 0x78, 0xc7, 0x40  …  0x73, 0x2f, 0x28, 0x36, 0x34, 0x2c, 0x20, 0x37, 0x34, 0x29], Dict{String, Vector{UInt8}}(\"scale\" => [0x84, 0xa8, 0x70, 0x72, 0x6f, 0x70, 0x65, 0x72, 0x74, 0x79  …  0x73, 0x2f, 0x28, 0x36, 0x34, 0x2c, 0x20, 0x37, 0x34, 0x29]), nothing, Dict{String, MeshCat.SceneTrees.SceneNode}()), \"(11, 57)\" => MeshCat.SceneTrees.SceneNode(UInt8[0x83, 0xa6, 0x6f, 0x62, 0x6a, 0x65, 0x63, 0x74, 0x84, 0xaa  …  0x73, 0x2f, 0x28, 0x31, 0x31, 0x2c, 0x20, 0x35, 0x37, 0x29], UInt8[0x83, 0xa6, 0x6d, 0x61, 0x74, 0x72, 0x69, 0x78, 0xc7, 0x40  …  0x73, 0x2f, 0x28, 0x31, 0x31, 0x2c, 0x20, 0x35, 0x37, 0x29], Dict{String, Vector{UInt8}}(\"scale\" => [0x84, 0xa8, 0x70, 0x72, 0x6f, 0x70, 0x65, 0x72, 0x74, 0x79  …  0x73, 0x2f, 0x28, 0x31, 0x31, 0x2c, 0x20, 0x35, 0x37, 0x29]), nothing, Dict{String, MeshCat.SceneTrees.SceneNode}()), \"(16, 34)\" => MeshCat.SceneTrees.SceneNode(UInt8[0x83, 0xa6, 0x6f, 0x62, 0x6a, 0x65, 0x63, 0x74, 0x84, 0xaa  …  0x73, 0x2f, 0x28, 0x31, 0x36, 0x2c, 0x20, 0x33, 0x34, 0x29], UInt8[0x83, 0xa6, 0x6d, 0x61, 0x74, 0x72, 0x69, 0x78, 0xc7, 0x40  …  0x73, 0x2f, 0x28, 0x31, 0x36, 0x2c, 0x20, 0x33, 0x34, 0x29], Dict{String, Vector{UInt8}}(\"scale\" => [0x84, 0xa8, 0x70, 0x72, 0x6f, 0x70, 0x65, 0x72, 0x74, 0x79  …  0x73, 0x2f, 0x28, 0x31, 0x36, 0x2c, 0x20, 0x33, 0x34, 0x29]), nothing, Dict{String, MeshCat.SceneTrees.SceneNode}()), \"(25, 98)\" => MeshCat.SceneTrees.SceneNode(UInt8[0x83, 0xa6, 0x6f, 0x62, 0x6a, 0x65, 0x63, 0x74, 0x84, 0xaa  …  0x73, 0x2f, 0x28, 0x32, 0x35, 0x2c, 0x20, 0x39, 0x38, 0x29], UInt8[0x83, 0xa6, 0x6d, 0x61, 0x74, 0x72, 0x69, 0x78, 0xc7, 0x40  …  0x73, 0x2f, 0x28, 0x32, 0x35, 0x2c, 0x20, 0x39, 0x38, 0x29], Dict{String, Vector{UInt8}}(\"scale\" => [0x84, 0xa8, 0x70, 0x72, 0x6f, 0x70, 0x65, 0x72, 0x74, 0x79  …  0x73, 0x2f, 0x28, 0x32, 0x35, 0x2c, 0x20, 0x39, 0x38, 0x29]), nothing, Dict{String, MeshCat.SceneTrees.SceneNode}()), \"(2, 44)\" => MeshCat.SceneTrees.SceneNode(UInt8[0x83, 0xa6, 0x6f, 0x62, 0x6a, 0x65, 0x63, 0x74, 0x84, 0xaa  …  0x65, 0x73, 0x2f, 0x28, 0x32, 0x2c, 0x20, 0x34, 0x34, 0x29], UInt8[0x83, 0xa6, 0x6d, 0x61, 0x74, 0x72, 0x69, 0x78, 0xc7, 0x40  …  0x65, 0x73, 0x2f, 0x28, 0x32, 0x2c, 0x20, 0x34, 0x34, 0x29], Dict{String, Vector{UInt8}}(\"scale\" => [0x84, 0xa8, 0x70, 0x72, 0x6f, 0x70, 0x65, 0x72, 0x74, 0x79  …  0x65, 0x73, 0x2f, 0x28, 0x32, 0x2c, 0x20, 0x34, 0x34, 0x29]), nothing, Dict{String, MeshCat.SceneTrees.SceneNode}()), \"(7, 15)\" => MeshCat.SceneTrees.SceneNode(UInt8[0x83, 0xa6, 0x6f, 0x62, 0x6a, 0x65, 0x63, 0x74, 0x84, 0xaa  …  0x65, 0x73, 0x2f, 0x28, 0x37, 0x2c, 0x20, 0x31, 0x35, 0x29], UInt8[0x83, 0xa6, 0x6d, 0x61, 0x74, 0x72, 0x69, 0x78, 0xc7, 0x40  …  0x65, 0x73, 0x2f, 0x28, 0x37, 0x2c, 0x20, 0x31, 0x35, 0x29], Dict{String, Vector{UInt8}}(\"scale\" => [0x84, 0xa8, 0x70, 0x72, 0x6f, 0x70, 0x65, 0x72, 0x74, 0x79  …  0x65, 0x73, 0x2f, 0x28, 0x37, 0x2c, 0x20, 0x31, 0x35, 0x29]), nothing, Dict{String, MeshCat.SceneTrees.SceneNode}()), \"(20, 65)\" => MeshCat.SceneTrees.SceneNode(UInt8[0x83, 0xa6, 0x6f, 0x62, 0x6a, 0x65, 0x63, 0x74, 0x84, 0xaa  …  0x73, 0x2f, 0x28, 0x32, 0x30, 0x2c, 0x20, 0x36, 0x35, 0x29], UInt8[0x83, 0xa6, 0x6d, 0x61, 0x74, 0x72, 0x69, 0x78, 0xc7, 0x40  …  0x73, 0x2f, 0x28, 0x32, 0x30, 0x2c, 0x20, 0x36, 0x35, 0x29], Dict{String, Vector{UInt8}}(\"scale\" => [0x84, 0xa8, 0x70, 0x72, 0x6f, 0x70, 0x65, 0x72, 0x74, 0x79  …  0x73, 0x2f, 0x28, 0x32, 0x30, 0x2c, 0x20, 0x36, 0x35, 0x29]), nothing, Dict{String, MeshCat.SceneTrees.SceneNode}()), \"(38, 66)\" => MeshCat.SceneTrees.SceneNode(UInt8[0x83, 0xa6, 0x6f, 0x62, 0x6a, 0x65, 0x63, 0x74, 0x84, 0xaa  …  0x73, 0x2f, 0x28, 0x33, 0x38, 0x2c, 0x20, 0x36, 0x36, 0x29], UInt8[0x83, 0xa6, 0x6d, 0x61, 0x74, 0x72, 0x69, 0x78, 0xc7, 0x40  …  0x73, 0x2f, 0x28, 0x33, 0x38, 0x2c, 0x20, 0x36, 0x36, 0x29], Dict{String, Vector{UInt8}}(\"scale\" => [0x84, 0xa8, 0x70, 0x72, 0x6f, 0x70, 0x65, 0x72, 0x74, 0x79  …  0x73, 0x2f, 0x28, 0x33, 0x38, 0x2c, 0x20, 0x36, 0x36, 0x29]), nothing, Dict{String, MeshCat.SceneTrees.SceneNode}()), \"(8, 81)\" => MeshCat.SceneTrees.SceneNode(UInt8[0x83, 0xa6, 0x6f, 0x62, 0x6a, 0x65, 0x63, 0x74, 0x84, 0xaa  …  0x65, 0x73, 0x2f, 0x28, 0x38, 0x2c, 0x20, 0x38, 0x31, 0x29], UInt8[0x83, 0xa6, 0x6d, 0x61, 0x74, 0x72, 0x69, 0x78, 0xc7, 0x40  …  0x65, 0x73, 0x2f, 0x28, 0x38, 0x2c, 0x20, 0x38, 0x31, 0x29], Dict{String, Vector{UInt8}}(\"scale\" => [0x84, 0xa8, 0x70, 0x72, 0x6f, 0x70, 0x65, 0x72, 0x74, 0x79  …  0x65, 0x73, 0x2f, 0x28, 0x38, 0x2c, 0x20, 0x38, 0x31, 0x29]), nothing, Dict{String, MeshCat.SceneTrees.SceneNode}())…)))), \"Axes\" => MeshCat.SceneTrees.SceneNode(nothing, nothing, Dict{String, Vector{UInt8}}(), nothing, Dict{String, MeshCat.SceneTrees.SceneNode}(\"<object>\" => MeshCat.SceneTrees.SceneNode(UInt8[0x83, 0xa6, 0x6f, 0x62, 0x6a, 0x65, 0x63, 0x74, 0x84, 0xaa  …  0x73, 0x2f, 0x3c, 0x6f, 0x62, 0x6a, 0x65, 0x63, 0x74, 0x3e], UInt8[0x83, 0xa6, 0x6d, 0x61, 0x74, 0x72, 0x69, 0x78, 0xc7, 0x40  …  0x73, 0x2f, 0x3c, 0x6f, 0x62, 0x6a, 0x65, 0x63, 0x74, 0x3e], Dict{String, Vector{UInt8}}(), nothing, Dict{String, MeshCat.SceneTrees.SceneNode}()))))), Set{HTTP.WebSockets.WebSocket}(), ip\"127.0.0.1\", 8716))"
      ]
     },
     "execution_count": 64,
     "metadata": {},
     "output_type": "execute_result"
    }
   ],
   "source": [
    "EasyABM.draw_graph3d(model.graph)"
   ]
  },
  {
   "cell_type": "markdown",
   "metadata": {},
   "source": [
    "After defining the `step_rule!` function we can also choose to create an interactive application (which currently works in Jupyter with WebIO installation) as "
   ]
  },
  {
   "cell_type": "code",
   "execution_count": 69,
   "metadata": {},
   "outputs": [
    {
     "name": "stderr",
     "output_type": "stream",
     "text": [
      "\u001b[36m\u001b[1m[ \u001b[22m\u001b[39m\u001b[36m\u001b[1mInfo: \u001b[22m\u001b[39mListening on: 127.0.0.1:8718, thread id: 1\n",
      "\u001b[36m\u001b[1m┌ \u001b[22m\u001b[39m\u001b[36m\u001b[1mInfo: \u001b[22m\u001b[39mMeshCat server started. You can open the visualizer by visiting the following URL in your browser:\n",
      "\u001b[36m\u001b[1m└ \u001b[22m\u001b[39mhttp://127.0.0.1:8718\n"
     ]
    },
    {
     "data": {
      "application/vnd.webio.node+json": {
       "children": [
        {
         "children": [
          {
           "children": [
            {
             "children": [
              {
               "children": [
                {
                 "children": [
                  {
                   "children": [
                    {
                     "children": [
                      "time"
                     ],
                     "instanceArgs": {
                      "namespace": "html",
                      "tag": "label"
                     },
                     "nodeType": "DOM",
                     "props": {
                      "className": "interact ",
                      "style": {
                       "padding": "5px 10px 0px 10px"
                      }
                     },
                     "type": "node"
                    }
                   ],
                   "instanceArgs": {
                    "namespace": "html",
                    "tag": "div"
                   },
                   "nodeType": "DOM",
                   "props": {
                    "className": "interact-flex-row-left"
                   },
                   "type": "node"
                  },
                  {
                   "children": [
                    {
                     "children": [],
                     "instanceArgs": {
                      "namespace": "html",
                      "tag": "input"
                     },
                     "nodeType": "DOM",
                     "props": {
                      "attributes": {
                       "data-bind": "numericValue: index, valueUpdate: 'input', event: {change: function (){this.changes(this.changes()+1)}}",
                       "orient": "horizontal",
                       "type": "range"
                      },
                      "className": "slider slider is-fullwidth",
                      "max": 100,
                      "min": 1,
                      "step": 1,
                      "style": {}
                     },
                     "type": "node"
                    }
                   ],
                   "instanceArgs": {
                    "namespace": "html",
                    "tag": "div"
                   },
                   "nodeType": "DOM",
                   "props": {
                    "className": "interact-flex-row-center"
                   },
                   "type": "node"
                  },
                  {
                   "children": [
                    {
                     "children": [],
                     "instanceArgs": {
                      "namespace": "html",
                      "tag": "p"
                     },
                     "nodeType": "DOM",
                     "props": {
                      "attributes": {
                       "data-bind": "text: formatted_val"
                      }
                     },
                     "type": "node"
                    }
                   ],
                   "instanceArgs": {
                    "namespace": "html",
                    "tag": "div"
                   },
                   "nodeType": "DOM",
                   "props": {
                    "className": "interact-flex-row-right"
                   },
                   "type": "node"
                  }
                 ],
                 "instanceArgs": {
                  "namespace": "html",
                  "tag": "div"
                 },
                 "nodeType": "DOM",
                 "props": {
                  "className": "interact-flex-row interact-widget"
                 },
                 "type": "node"
                }
               ],
               "instanceArgs": {
                "handlers": {
                 "changes": [
                  "(function (val){return (val!=this.model[\"changes\"]()) ? (this.valueFromJulia[\"changes\"]=true, this.model[\"changes\"](val)) : undefined})"
                 ],
                 "index": [
                  "(function (val){return (val!=this.model[\"index\"]()) ? (this.valueFromJulia[\"index\"]=true, this.model[\"index\"](val)) : undefined})"
                 ]
                },
                "id": "403314561391904672",
                "imports": {
                 "data": [
                  {
                   "name": "knockout",
                   "type": "js",
                   "url": "/assetserver/727383f2a47bd31570b7da84eee7b022dd6d7c78-knockout.js"
                  },
                  {
                   "name": "knockout_punches",
                   "type": "js",
                   "url": "/assetserver/382b41b3b1bd9f26f75861d360bad7f8beea211f-knockout_punches.js"
                  },
                  {
                   "name": null,
                   "type": "js",
                   "url": "/assetserver/5ab20f1060420992a9b82a65b735dee4d81ef413-all.js"
                  },
                  {
                   "name": null,
                   "type": "css",
                   "url": "/assetserver/1cc0ed62837210b80a182cc3676512f895dab686-style.css"
                  },
                  {
                   "name": null,
                   "type": "css",
                   "url": "/assetserver/2eee816f616df3549d7044d45e744fbf8d42bfa1-bulma_confined.min.css"
                  }
                 ],
                 "type": "async_block"
                },
                "mount_callbacks": [
                 "function () {\n    var handler = (function (ko, koPunches) {\n    ko.punches.enableAll();\n    ko.bindingHandlers.numericValue = {\n        init: function(element, valueAccessor, allBindings, data, context) {\n            var stringified = ko.observable(ko.unwrap(valueAccessor()));\n            stringified.subscribe(function(value) {\n                var val = parseFloat(value);\n                if (!isNaN(val)) {\n                    valueAccessor()(val);\n                }\n            });\n            valueAccessor().subscribe(function(value) {\n                var str = JSON.stringify(value);\n                if ((str == \"0\") && ([\"-0\", \"-0.\"].indexOf(stringified()) >= 0))\n                     return;\n                 if ([\"null\", \"\"].indexOf(str) >= 0)\n                     return;\n                stringified(str);\n            });\n            ko.applyBindingsToNode(\n                element,\n                {\n                    value: stringified,\n                    valueUpdate: allBindings.get('valueUpdate'),\n                },\n                context,\n            );\n        }\n    };\n    var json_data = {\"formatted_vals\":[\"1\",\"2\",\"3\",\"4\",\"5\",\"6\",\"7\",\"8\",\"9\",\"10\",\"11\",\"12\",\"13\",\"14\",\"15\",\"16\",\"17\",\"18\",\"19\",\"20\",\"21\",\"22\",\"23\",\"24\",\"25\",\"26\",\"27\",\"28\",\"29\",\"30\",\"31\",\"32\",\"33\",\"34\",\"35\",\"36\",\"37\",\"38\",\"39\",\"40\",\"41\",\"42\",\"43\",\"44\",\"45\",\"46\",\"47\",\"48\",\"49\",\"50\",\"51\",\"52\",\"53\",\"54\",\"55\",\"56\",\"57\",\"58\",\"59\",\"60\",\"61\",\"62\",\"63\",\"64\",\"65\",\"66\",\"67\",\"68\",\"69\",\"70\",\"71\",\"72\",\"73\",\"74\",\"75\",\"76\",\"77\",\"78\",\"79\",\"80\",\"81\",\"82\",\"83\",\"84\",\"85\",\"86\",\"87\",\"88\",\"89\",\"90\",\"91\",\"92\",\"93\",\"94\",\"95\",\"96\",\"97\",\"98\",\"99\",\"100\"],\"changes\":WebIO.getval({\"name\":\"changes\",\"scope\":\"403314561391904672\",\"id\":\"5049839498551058096\",\"type\":\"observable\"}),\"index\":WebIO.getval({\"name\":\"index\",\"scope\":\"403314561391904672\",\"id\":\"711536622611550635\",\"type\":\"observable\"})};\n    var self = this;\n    function AppViewModel() {\n        for (var key in json_data) {\n            var el = json_data[key];\n            this[key] = Array.isArray(el) ? ko.observableArray(el) : ko.observable(el);\n        }\n        \n        [this[\"formatted_val\"]=ko.computed(    function(){\n        return this.formatted_vals()[parseInt(this.index())-(1)];\n    }\n,this)]\n        [this[\"changes\"].subscribe((function (val){!(this.valueFromJulia[\"changes\"]) ? (WebIO.setval({\"name\":\"changes\",\"scope\":\"403314561391904672\",\"id\":\"5049839498551058096\",\"type\":\"observable\"},val)) : undefined; return this.valueFromJulia[\"changes\"]=false}),self),this[\"index\"].subscribe((function (val){!(this.valueFromJulia[\"index\"]) ? (WebIO.setval({\"name\":\"index\",\"scope\":\"403314561391904672\",\"id\":\"711536622611550635\",\"type\":\"observable\"},val)) : undefined; return this.valueFromJulia[\"index\"]=false}),self)]\n        \n    }\n    self.model = new AppViewModel();\n    self.valueFromJulia = {};\n    for (var key in json_data) {\n        self.valueFromJulia[key] = false;\n    }\n    ko.applyBindings(self.model, self.dom);\n}\n);\n    (WebIO.importBlock({\"data\":[{\"name\":\"knockout\",\"type\":\"js\",\"url\":\"/assetserver/727383f2a47bd31570b7da84eee7b022dd6d7c78-knockout.js\"},{\"name\":\"knockout_punches\",\"type\":\"js\",\"url\":\"/assetserver/382b41b3b1bd9f26f75861d360bad7f8beea211f-knockout_punches.js\"}],\"type\":\"async_block\"})).then((imports) => handler.apply(this, imports));\n}\n"
                ],
                "observables": {
                 "changes": {
                  "id": "5049839498551058096",
                  "sync": false,
                  "value": 0
                 },
                 "index": {
                  "id": "711536622611550635",
                  "sync": true,
                  "value": 1
                 }
                },
                "systemjs_options": null
               },
               "nodeType": "Scope",
               "props": {},
               "type": "node"
              }
             ],
             "instanceArgs": {
              "namespace": "html",
              "tag": "div"
             },
             "nodeType": "DOM",
             "props": {
              "className": "field interact-widget"
             },
             "type": "node"
            },
            {
             "children": [
              {
               "children": [
                {
                 "children": [
                  {
                   "children": [
                    {
                     "children": [
                      "scale"
                     ],
                     "instanceArgs": {
                      "namespace": "html",
                      "tag": "label"
                     },
                     "nodeType": "DOM",
                     "props": {
                      "className": "interact ",
                      "style": {
                       "padding": "5px 10px 0px 10px"
                      }
                     },
                     "type": "node"
                    }
                   ],
                   "instanceArgs": {
                    "namespace": "html",
                    "tag": "div"
                   },
                   "nodeType": "DOM",
                   "props": {
                    "className": "interact-flex-row-left"
                   },
                   "type": "node"
                  },
                  {
                   "children": [
                    {
                     "children": [],
                     "instanceArgs": {
                      "namespace": "html",
                      "tag": "input"
                     },
                     "nodeType": "DOM",
                     "props": {
                      "attributes": {
                       "data-bind": "numericValue: index, valueUpdate: 'input', event: {change: function (){this.changes(this.changes()+1)}}",
                       "orient": "horizontal",
                       "type": "range"
                      },
                      "className": "slider slider is-fullwidth",
                      "max": 20,
                      "min": 1,
                      "step": 1,
                      "style": {}
                     },
                     "type": "node"
                    }
                   ],
                   "instanceArgs": {
                    "namespace": "html",
                    "tag": "div"
                   },
                   "nodeType": "DOM",
                   "props": {
                    "className": "interact-flex-row-center"
                   },
                   "type": "node"
                  },
                  {
                   "children": [
                    {
                     "children": [],
                     "instanceArgs": {
                      "namespace": "html",
                      "tag": "p"
                     },
                     "nodeType": "DOM",
                     "props": {
                      "attributes": {
                       "data-bind": "text: formatted_val"
                      }
                     },
                     "type": "node"
                    }
                   ],
                   "instanceArgs": {
                    "namespace": "html",
                    "tag": "div"
                   },
                   "nodeType": "DOM",
                   "props": {
                    "className": "interact-flex-row-right"
                   },
                   "type": "node"
                  }
                 ],
                 "instanceArgs": {
                  "namespace": "html",
                  "tag": "div"
                 },
                 "nodeType": "DOM",
                 "props": {
                  "className": "interact-flex-row interact-widget"
                 },
                 "type": "node"
                }
               ],
               "instanceArgs": {
                "handlers": {
                 "changes": [
                  "(function (val){return (val!=this.model[\"changes\"]()) ? (this.valueFromJulia[\"changes\"]=true, this.model[\"changes\"](val)) : undefined})"
                 ],
                 "index": [
                  "(function (val){return (val!=this.model[\"index\"]()) ? (this.valueFromJulia[\"index\"]=true, this.model[\"index\"](val)) : undefined})"
                 ]
                },
                "id": "9642633489702168776",
                "imports": {
                 "data": [
                  {
                   "name": "knockout",
                   "type": "js",
                   "url": "/assetserver/727383f2a47bd31570b7da84eee7b022dd6d7c78-knockout.js"
                  },
                  {
                   "name": "knockout_punches",
                   "type": "js",
                   "url": "/assetserver/382b41b3b1bd9f26f75861d360bad7f8beea211f-knockout_punches.js"
                  },
                  {
                   "name": null,
                   "type": "js",
                   "url": "/assetserver/5ab20f1060420992a9b82a65b735dee4d81ef413-all.js"
                  },
                  {
                   "name": null,
                   "type": "css",
                   "url": "/assetserver/1cc0ed62837210b80a182cc3676512f895dab686-style.css"
                  },
                  {
                   "name": null,
                   "type": "css",
                   "url": "/assetserver/2eee816f616df3549d7044d45e744fbf8d42bfa1-bulma_confined.min.css"
                  }
                 ],
                 "type": "async_block"
                },
                "mount_callbacks": [
                 "function () {\n    var handler = (function (ko, koPunches) {\n    ko.punches.enableAll();\n    ko.bindingHandlers.numericValue = {\n        init: function(element, valueAccessor, allBindings, data, context) {\n            var stringified = ko.observable(ko.unwrap(valueAccessor()));\n            stringified.subscribe(function(value) {\n                var val = parseFloat(value);\n                if (!isNaN(val)) {\n                    valueAccessor()(val);\n                }\n            });\n            valueAccessor().subscribe(function(value) {\n                var str = JSON.stringify(value);\n                if ((str == \"0\") && ([\"-0\", \"-0.\"].indexOf(stringified()) >= 0))\n                     return;\n                 if ([\"null\", \"\"].indexOf(str) >= 0)\n                     return;\n                stringified(str);\n            });\n            ko.applyBindingsToNode(\n                element,\n                {\n                    value: stringified,\n                    valueUpdate: allBindings.get('valueUpdate'),\n                },\n                context,\n            );\n        }\n    };\n    var json_data = {\"formatted_vals\":[\"0.1\",\"0.2\",\"0.3\",\"0.4\",\"0.5\",\"0.6\",\"0.7\",\"0.8\",\"0.9\",\"1.0\",\"1.1\",\"1.2\",\"1.3\",\"1.4\",\"1.5\",\"1.6\",\"1.7\",\"1.8\",\"1.9\",\"2.0\"],\"changes\":WebIO.getval({\"name\":\"changes\",\"scope\":\"9642633489702168776\",\"id\":\"5433498731028378420\",\"type\":\"observable\"}),\"index\":WebIO.getval({\"name\":\"index\",\"scope\":\"9642633489702168776\",\"id\":\"2052151778532755482\",\"type\":\"observable\"})};\n    var self = this;\n    function AppViewModel() {\n        for (var key in json_data) {\n            var el = json_data[key];\n            this[key] = Array.isArray(el) ? ko.observableArray(el) : ko.observable(el);\n        }\n        \n        [this[\"formatted_val\"]=ko.computed(    function(){\n        return this.formatted_vals()[parseInt(this.index())-(1)];\n    }\n,this)]\n        [this[\"changes\"].subscribe((function (val){!(this.valueFromJulia[\"changes\"]) ? (WebIO.setval({\"name\":\"changes\",\"scope\":\"9642633489702168776\",\"id\":\"5433498731028378420\",\"type\":\"observable\"},val)) : undefined; return this.valueFromJulia[\"changes\"]=false}),self),this[\"index\"].subscribe((function (val){!(this.valueFromJulia[\"index\"]) ? (WebIO.setval({\"name\":\"index\",\"scope\":\"9642633489702168776\",\"id\":\"2052151778532755482\",\"type\":\"observable\"},val)) : undefined; return this.valueFromJulia[\"index\"]=false}),self)]\n        \n    }\n    self.model = new AppViewModel();\n    self.valueFromJulia = {};\n    for (var key in json_data) {\n        self.valueFromJulia[key] = false;\n    }\n    ko.applyBindings(self.model, self.dom);\n}\n);\n    (WebIO.importBlock({\"data\":[{\"name\":\"knockout\",\"type\":\"js\",\"url\":\"/assetserver/727383f2a47bd31570b7da84eee7b022dd6d7c78-knockout.js\"},{\"name\":\"knockout_punches\",\"type\":\"js\",\"url\":\"/assetserver/382b41b3b1bd9f26f75861d360bad7f8beea211f-knockout_punches.js\"}],\"type\":\"async_block\"})).then((imports) => handler.apply(this, imports));\n}\n"
                ],
                "observables": {
                 "changes": {
                  "id": "5433498731028378420",
                  "sync": false,
                  "value": 0
                 },
                 "index": {
                  "id": "2052151778532755482",
                  "sync": true,
                  "value": 10
                 }
                },
                "systemjs_options": null
               },
               "nodeType": "Scope",
               "props": {},
               "type": "node"
              }
             ],
             "instanceArgs": {
              "namespace": "html",
              "tag": "div"
             },
             "nodeType": "DOM",
             "props": {
              "className": "field interact-widget"
             },
             "type": "node"
            },
            {
             "children": [],
             "instanceArgs": {
              "namespace": "html",
              "tag": "div"
             },
             "nodeType": "DOM",
             "props": {
              "style": {
               "display": "flex",
               "flex-direction": "column"
              }
             },
             "type": "node"
            },
            {
             "children": [
              {
               "children": [
                {
                 "children": [
                  {
                   "children": [
                    {
                     "children": [
                      {
                       "children": [
                        "nns"
                       ],
                       "instanceArgs": {
                        "namespace": "html",
                        "tag": "label"
                       },
                       "nodeType": "DOM",
                       "props": {
                        "className": "interact ",
                        "style": {
                         "padding": "5px 10px 0px 10px"
                        }
                       },
                       "type": "node"
                      }
                     ],
                     "instanceArgs": {
                      "namespace": "html",
                      "tag": "div"
                     },
                     "nodeType": "DOM",
                     "props": {
                      "className": "interact-flex-row-left"
                     },
                     "type": "node"
                    },
                    {
                     "children": [
                      {
                       "children": [],
                       "instanceArgs": {
                        "namespace": "html",
                        "tag": "input"
                       },
                       "nodeType": "DOM",
                       "props": {
                        "attributes": {
                         "data-bind": "numericValue: index, valueUpdate: 'input', event: {change: function (){this.changes(this.changes()+1)}}",
                         "orient": "horizontal",
                         "type": "range"
                        },
                        "className": "slider slider is-fullwidth",
                        "max": 20,
                        "min": 1,
                        "step": 1,
                        "style": {}
                       },
                       "type": "node"
                      }
                     ],
                     "instanceArgs": {
                      "namespace": "html",
                      "tag": "div"
                     },
                     "nodeType": "DOM",
                     "props": {
                      "className": "interact-flex-row-center"
                     },
                     "type": "node"
                    },
                    {
                     "children": [
                      {
                       "children": [],
                       "instanceArgs": {
                        "namespace": "html",
                        "tag": "p"
                       },
                       "nodeType": "DOM",
                       "props": {
                        "attributes": {
                         "data-bind": "text: formatted_val"
                        }
                       },
                       "type": "node"
                      }
                     ],
                     "instanceArgs": {
                      "namespace": "html",
                      "tag": "div"
                     },
                     "nodeType": "DOM",
                     "props": {
                      "className": "interact-flex-row-right"
                     },
                     "type": "node"
                    }
                   ],
                   "instanceArgs": {
                    "namespace": "html",
                    "tag": "div"
                   },
                   "nodeType": "DOM",
                   "props": {
                    "className": "interact-flex-row interact-widget"
                   },
                   "type": "node"
                  }
                 ],
                 "instanceArgs": {
                  "handlers": {
                   "changes": [
                    "(function (val){return (val!=this.model[\"changes\"]()) ? (this.valueFromJulia[\"changes\"]=true, this.model[\"changes\"](val)) : undefined})"
                   ],
                   "index": [
                    "(function (val){return (val!=this.model[\"index\"]()) ? (this.valueFromJulia[\"index\"]=true, this.model[\"index\"](val)) : undefined})"
                   ]
                  },
                  "id": "8716015372692210323",
                  "imports": {
                   "data": [
                    {
                     "name": "knockout",
                     "type": "js",
                     "url": "/assetserver/727383f2a47bd31570b7da84eee7b022dd6d7c78-knockout.js"
                    },
                    {
                     "name": "knockout_punches",
                     "type": "js",
                     "url": "/assetserver/382b41b3b1bd9f26f75861d360bad7f8beea211f-knockout_punches.js"
                    },
                    {
                     "name": null,
                     "type": "js",
                     "url": "/assetserver/5ab20f1060420992a9b82a65b735dee4d81ef413-all.js"
                    },
                    {
                     "name": null,
                     "type": "css",
                     "url": "/assetserver/1cc0ed62837210b80a182cc3676512f895dab686-style.css"
                    },
                    {
                     "name": null,
                     "type": "css",
                     "url": "/assetserver/2eee816f616df3549d7044d45e744fbf8d42bfa1-bulma_confined.min.css"
                    }
                   ],
                   "type": "async_block"
                  },
                  "mount_callbacks": [
                   "function () {\n    var handler = (function (ko, koPunches) {\n    ko.punches.enableAll();\n    ko.bindingHandlers.numericValue = {\n        init: function(element, valueAccessor, allBindings, data, context) {\n            var stringified = ko.observable(ko.unwrap(valueAccessor()));\n            stringified.subscribe(function(value) {\n                var val = parseFloat(value);\n                if (!isNaN(val)) {\n                    valueAccessor()(val);\n                }\n            });\n            valueAccessor().subscribe(function(value) {\n                var str = JSON.stringify(value);\n                if ((str == \"0\") && ([\"-0\", \"-0.\"].indexOf(stringified()) >= 0))\n                     return;\n                 if ([\"null\", \"\"].indexOf(str) >= 0)\n                     return;\n                stringified(str);\n            });\n            ko.applyBindingsToNode(\n                element,\n                {\n                    value: stringified,\n                    valueUpdate: allBindings.get('valueUpdate'),\n                },\n                context,\n            );\n        }\n    };\n    var json_data = {\"formatted_vals\":[\"1\",\"2\",\"3\",\"4\",\"5\",\"6\",\"7\",\"8\",\"9\",\"10\",\"11\",\"12\",\"13\",\"14\",\"15\",\"16\",\"17\",\"18\",\"19\",\"20\"],\"changes\":WebIO.getval({\"name\":\"changes\",\"scope\":\"8716015372692210323\",\"id\":\"17067479489541643322\",\"type\":\"observable\"}),\"index\":WebIO.getval({\"name\":\"index\",\"scope\":\"8716015372692210323\",\"id\":\"2457012741267750759\",\"type\":\"observable\"})};\n    var self = this;\n    function AppViewModel() {\n        for (var key in json_data) {\n            var el = json_data[key];\n            this[key] = Array.isArray(el) ? ko.observableArray(el) : ko.observable(el);\n        }\n        \n        [this[\"formatted_val\"]=ko.computed(    function(){\n        return this.formatted_vals()[parseInt(this.index())-(1)];\n    }\n,this)]\n        [this[\"changes\"].subscribe((function (val){!(this.valueFromJulia[\"changes\"]) ? (WebIO.setval({\"name\":\"changes\",\"scope\":\"8716015372692210323\",\"id\":\"17067479489541643322\",\"type\":\"observable\"},val)) : undefined; return this.valueFromJulia[\"changes\"]=false}),self),this[\"index\"].subscribe((function (val){!(this.valueFromJulia[\"index\"]) ? (WebIO.setval({\"name\":\"index\",\"scope\":\"8716015372692210323\",\"id\":\"2457012741267750759\",\"type\":\"observable\"},val)) : undefined; return this.valueFromJulia[\"index\"]=false}),self)]\n        \n    }\n    self.model = new AppViewModel();\n    self.valueFromJulia = {};\n    for (var key in json_data) {\n        self.valueFromJulia[key] = false;\n    }\n    ko.applyBindings(self.model, self.dom);\n}\n);\n    (WebIO.importBlock({\"data\":[{\"name\":\"knockout\",\"type\":\"js\",\"url\":\"/assetserver/727383f2a47bd31570b7da84eee7b022dd6d7c78-knockout.js\"},{\"name\":\"knockout_punches\",\"type\":\"js\",\"url\":\"/assetserver/382b41b3b1bd9f26f75861d360bad7f8beea211f-knockout_punches.js\"}],\"type\":\"async_block\"})).then((imports) => handler.apply(this, imports));\n}\n"
                  ],
                  "observables": {
                   "changes": {
                    "id": "17067479489541643322",
                    "sync": false,
                    "value": 0
                   },
                   "index": {
                    "id": "2457012741267750759",
                    "sync": true,
                    "value": 10
                   }
                  },
                  "systemjs_options": null
                 },
                 "nodeType": "Scope",
                 "props": {},
                 "type": "node"
                }
               ],
               "instanceArgs": {
                "namespace": "html",
                "tag": "div"
               },
               "nodeType": "DOM",
               "props": {
                "className": "field interact-widget"
               },
               "type": "node"
              }
             ],
             "instanceArgs": {
              "namespace": "html",
              "tag": "div"
             },
             "nodeType": "DOM",
             "props": {
              "style": {
               "display": "flex",
               "flex-direction": "column"
              }
             },
             "type": "node"
            },
            {
             "children": [
              {
               "children": [
                {
                 "children": [
                  {
                   "children": [],
                   "instanceArgs": {
                    "namespace": "html",
                    "tag": "div"
                   },
                   "nodeType": "DOM",
                   "props": {
                    "id": "container"
                   },
                   "type": "node"
                  }
                 ],
                 "instanceArgs": {
                  "handlers": {
                   "value": [
                    "(function (txt){return this.k.render(txt,this.container)})"
                   ]
                  },
                  "id": "7562002161545707687",
                  "imports": {
                   "data": [
                    {
                     "name": null,
                     "type": "js",
                     "url": "/assetserver/dd22ed1bf1896c2748f3fe616ce0b838adc895c1-katex.min.js"
                    },
                    {
                     "name": null,
                     "type": "css",
                     "url": "/assetserver/46517a424aa5e6cffc1360d7e0848b601c584ee3-katex.min.css"
                    }
                   ],
                   "type": "async_block"
                  },
                  "mount_callbacks": [
                   "function () {\n    var handler = ((function (k){this.k=k; this.container=this.dom.querySelector(\"#container\"); return k.render(\"\\\\;\\\\;\",this.container)}));\n    (WebIO.importBlock({\"data\":[{\"name\":null,\"type\":\"js\",\"url\":\"/assetserver/dd22ed1bf1896c2748f3fe616ce0b838adc895c1-katex.min.js\"},{\"name\":null,\"type\":\"css\",\"url\":\"/assetserver/46517a424aa5e6cffc1360d7e0848b601c584ee3-katex.min.css\"}],\"type\":\"async_block\"})).then((imports) => handler.apply(this, imports));\n}\n"
                  ],
                  "observables": {
                   "value": {
                    "id": "17681487615241356976",
                    "sync": false,
                    "value": "\\;\\;"
                   }
                  },
                  "systemjs_options": null
                 },
                 "nodeType": "Scope",
                 "props": {},
                 "type": "node"
                }
               ],
               "instanceArgs": {
                "namespace": "html",
                "tag": "div"
               },
               "nodeType": "DOM",
               "props": {
                "className": "interact-widget"
               },
               "type": "node"
              },
              {
               "children": [
                {
                 "children": [
                  {
                   "children": [
                    "run"
                   ],
                   "instanceArgs": {
                    "namespace": "html",
                    "tag": "button"
                   },
                   "nodeType": "DOM",
                   "props": {
                    "attributes": {
                     "data-bind": "click: function (){this.clicks(this.clicks()+1)}, css: {'is-loading' : loading}"
                    },
                    "className": "is-medium button is-primary",
                    "style": {}
                   },
                   "type": "node"
                  }
                 ],
                 "instanceArgs": {
                  "handlers": {
                   "clicks": [
                    "(function (val){return (val!=this.model[\"clicks\"]()) ? (this.valueFromJulia[\"clicks\"]=true, this.model[\"clicks\"](val)) : undefined})"
                   ],
                   "loading": [
                    "(function (val){return (val!=this.model[\"loading\"]()) ? (this.valueFromJulia[\"loading\"]=true, this.model[\"loading\"](val)) : undefined})"
                   ]
                  },
                  "id": "9359204783744653280",
                  "imports": {
                   "data": [
                    {
                     "name": "knockout",
                     "type": "js",
                     "url": "/assetserver/727383f2a47bd31570b7da84eee7b022dd6d7c78-knockout.js"
                    },
                    {
                     "name": "knockout_punches",
                     "type": "js",
                     "url": "/assetserver/382b41b3b1bd9f26f75861d360bad7f8beea211f-knockout_punches.js"
                    },
                    {
                     "name": null,
                     "type": "js",
                     "url": "/assetserver/5ab20f1060420992a9b82a65b735dee4d81ef413-all.js"
                    },
                    {
                     "name": null,
                     "type": "css",
                     "url": "/assetserver/1cc0ed62837210b80a182cc3676512f895dab686-style.css"
                    },
                    {
                     "name": null,
                     "type": "css",
                     "url": "/assetserver/2eee816f616df3549d7044d45e744fbf8d42bfa1-bulma_confined.min.css"
                    }
                   ],
                   "type": "async_block"
                  },
                  "mount_callbacks": [
                   "function () {\n    var handler = (function (ko, koPunches) {\n    ko.punches.enableAll();\n    ko.bindingHandlers.numericValue = {\n        init: function(element, valueAccessor, allBindings, data, context) {\n            var stringified = ko.observable(ko.unwrap(valueAccessor()));\n            stringified.subscribe(function(value) {\n                var val = parseFloat(value);\n                if (!isNaN(val)) {\n                    valueAccessor()(val);\n                }\n            });\n            valueAccessor().subscribe(function(value) {\n                var str = JSON.stringify(value);\n                if ((str == \"0\") && ([\"-0\", \"-0.\"].indexOf(stringified()) >= 0))\n                     return;\n                 if ([\"null\", \"\"].indexOf(str) >= 0)\n                     return;\n                stringified(str);\n            });\n            ko.applyBindingsToNode(\n                element,\n                {\n                    value: stringified,\n                    valueUpdate: allBindings.get('valueUpdate'),\n                },\n                context,\n            );\n        }\n    };\n    var json_data = {\"loading\":WebIO.getval({\"name\":\"loading\",\"scope\":\"9359204783744653280\",\"id\":\"12442985410481440145\",\"type\":\"observable\"}),\"clicks\":WebIO.getval({\"name\":\"clicks\",\"scope\":\"9359204783744653280\",\"id\":\"10609225779451773599\",\"type\":\"observable\"})};\n    var self = this;\n    function AppViewModel() {\n        for (var key in json_data) {\n            var el = json_data[key];\n            this[key] = Array.isArray(el) ? ko.observableArray(el) : ko.observable(el);\n        }\n        \n        \n        [this[\"loading\"].subscribe((function (val){!(this.valueFromJulia[\"loading\"]) ? (WebIO.setval({\"name\":\"loading\",\"scope\":\"9359204783744653280\",\"id\":\"12442985410481440145\",\"type\":\"observable\"},val)) : undefined; return this.valueFromJulia[\"loading\"]=false}),self),this[\"clicks\"].subscribe((function (val){!(this.valueFromJulia[\"clicks\"]) ? (WebIO.setval({\"name\":\"clicks\",\"scope\":\"9359204783744653280\",\"id\":\"10609225779451773599\",\"type\":\"observable\"},val)) : undefined; return this.valueFromJulia[\"clicks\"]=false}),self)]\n        \n    }\n    self.model = new AppViewModel();\n    self.valueFromJulia = {};\n    for (var key in json_data) {\n        self.valueFromJulia[key] = false;\n    }\n    ko.applyBindings(self.model, self.dom);\n}\n);\n    (WebIO.importBlock({\"data\":[{\"name\":\"knockout\",\"type\":\"js\",\"url\":\"/assetserver/727383f2a47bd31570b7da84eee7b022dd6d7c78-knockout.js\"},{\"name\":\"knockout_punches\",\"type\":\"js\",\"url\":\"/assetserver/382b41b3b1bd9f26f75861d360bad7f8beea211f-knockout_punches.js\"}],\"type\":\"async_block\"})).then((imports) => handler.apply(this, imports));\n}\n"
                  ],
                  "observables": {
                   "clicks": {
                    "id": "10609225779451773599",
                    "sync": true,
                    "value": 0
                   },
                   "loading": {
                    "id": "12442985410481440145",
                    "sync": false,
                    "value": false
                   }
                  },
                  "systemjs_options": null
                 },
                 "nodeType": "Scope",
                 "props": {},
                 "type": "node"
                }
               ],
               "instanceArgs": {
                "namespace": "html",
                "tag": "div"
               },
               "nodeType": "DOM",
               "props": {
                "className": "field interact-widget"
               },
               "type": "node"
              },
              {
               "children": [
                {
                 "children": [
                  {
                   "children": [],
                   "instanceArgs": {
                    "namespace": "html",
                    "tag": "div"
                   },
                   "nodeType": "DOM",
                   "props": {
                    "id": "container"
                   },
                   "type": "node"
                  }
                 ],
                 "instanceArgs": {
                  "handlers": {
                   "value": [
                    "(function (txt){return this.k.render(txt,this.container)})"
                   ]
                  },
                  "id": "7562002161545707687",
                  "imports": {
                   "data": [
                    {
                     "name": null,
                     "type": "js",
                     "url": "/assetserver/dd22ed1bf1896c2748f3fe616ce0b838adc895c1-katex.min.js"
                    },
                    {
                     "name": null,
                     "type": "css",
                     "url": "/assetserver/46517a424aa5e6cffc1360d7e0848b601c584ee3-katex.min.css"
                    }
                   ],
                   "type": "async_block"
                  },
                  "mount_callbacks": [
                   "function () {\n    var handler = ((function (k){this.k=k; this.container=this.dom.querySelector(\"#container\"); return k.render(\"\\\\;\\\\;\",this.container)}));\n    (WebIO.importBlock({\"data\":[{\"name\":null,\"type\":\"js\",\"url\":\"/assetserver/dd22ed1bf1896c2748f3fe616ce0b838adc895c1-katex.min.js\"},{\"name\":null,\"type\":\"css\",\"url\":\"/assetserver/46517a424aa5e6cffc1360d7e0848b601c584ee3-katex.min.css\"}],\"type\":\"async_block\"})).then((imports) => handler.apply(this, imports));\n}\n"
                  ],
                  "observables": {
                   "value": {
                    "id": "17681487615241356976",
                    "sync": false,
                    "value": "\\;\\;"
                   }
                  },
                  "systemjs_options": null
                 },
                 "nodeType": "Scope",
                 "props": {},
                 "type": "node"
                }
               ],
               "instanceArgs": {
                "namespace": "html",
                "tag": "div"
               },
               "nodeType": "DOM",
               "props": {
                "className": "interact-widget"
               },
               "type": "node"
              },
              {
               "children": [
                {
                 "children": [
                  {
                   "children": [
                    "stop"
                   ],
                   "instanceArgs": {
                    "namespace": "html",
                    "tag": "button"
                   },
                   "nodeType": "DOM",
                   "props": {
                    "attributes": {
                     "data-bind": "click: function (){this.clicks(this.clicks()+1)}, css: {'is-loading' : loading}"
                    },
                    "className": "is-medium button is-primary",
                    "style": {}
                   },
                   "type": "node"
                  }
                 ],
                 "instanceArgs": {
                  "handlers": {
                   "clicks": [
                    "(function (val){return (val!=this.model[\"clicks\"]()) ? (this.valueFromJulia[\"clicks\"]=true, this.model[\"clicks\"](val)) : undefined})"
                   ],
                   "loading": [
                    "(function (val){return (val!=this.model[\"loading\"]()) ? (this.valueFromJulia[\"loading\"]=true, this.model[\"loading\"](val)) : undefined})"
                   ]
                  },
                  "id": "16373768999305920469",
                  "imports": {
                   "data": [
                    {
                     "name": "knockout",
                     "type": "js",
                     "url": "/assetserver/727383f2a47bd31570b7da84eee7b022dd6d7c78-knockout.js"
                    },
                    {
                     "name": "knockout_punches",
                     "type": "js",
                     "url": "/assetserver/382b41b3b1bd9f26f75861d360bad7f8beea211f-knockout_punches.js"
                    },
                    {
                     "name": null,
                     "type": "js",
                     "url": "/assetserver/5ab20f1060420992a9b82a65b735dee4d81ef413-all.js"
                    },
                    {
                     "name": null,
                     "type": "css",
                     "url": "/assetserver/1cc0ed62837210b80a182cc3676512f895dab686-style.css"
                    },
                    {
                     "name": null,
                     "type": "css",
                     "url": "/assetserver/2eee816f616df3549d7044d45e744fbf8d42bfa1-bulma_confined.min.css"
                    }
                   ],
                   "type": "async_block"
                  },
                  "mount_callbacks": [
                   "function () {\n    var handler = (function (ko, koPunches) {\n    ko.punches.enableAll();\n    ko.bindingHandlers.numericValue = {\n        init: function(element, valueAccessor, allBindings, data, context) {\n            var stringified = ko.observable(ko.unwrap(valueAccessor()));\n            stringified.subscribe(function(value) {\n                var val = parseFloat(value);\n                if (!isNaN(val)) {\n                    valueAccessor()(val);\n                }\n            });\n            valueAccessor().subscribe(function(value) {\n                var str = JSON.stringify(value);\n                if ((str == \"0\") && ([\"-0\", \"-0.\"].indexOf(stringified()) >= 0))\n                     return;\n                 if ([\"null\", \"\"].indexOf(str) >= 0)\n                     return;\n                stringified(str);\n            });\n            ko.applyBindingsToNode(\n                element,\n                {\n                    value: stringified,\n                    valueUpdate: allBindings.get('valueUpdate'),\n                },\n                context,\n            );\n        }\n    };\n    var json_data = {\"loading\":WebIO.getval({\"name\":\"loading\",\"scope\":\"16373768999305920469\",\"id\":\"3809837213615320560\",\"type\":\"observable\"}),\"clicks\":WebIO.getval({\"name\":\"clicks\",\"scope\":\"16373768999305920469\",\"id\":\"16949373422911565931\",\"type\":\"observable\"})};\n    var self = this;\n    function AppViewModel() {\n        for (var key in json_data) {\n            var el = json_data[key];\n            this[key] = Array.isArray(el) ? ko.observableArray(el) : ko.observable(el);\n        }\n        \n        \n        [this[\"loading\"].subscribe((function (val){!(this.valueFromJulia[\"loading\"]) ? (WebIO.setval({\"name\":\"loading\",\"scope\":\"16373768999305920469\",\"id\":\"3809837213615320560\",\"type\":\"observable\"},val)) : undefined; return this.valueFromJulia[\"loading\"]=false}),self),this[\"clicks\"].subscribe((function (val){!(this.valueFromJulia[\"clicks\"]) ? (WebIO.setval({\"name\":\"clicks\",\"scope\":\"16373768999305920469\",\"id\":\"16949373422911565931\",\"type\":\"observable\"},val)) : undefined; return this.valueFromJulia[\"clicks\"]=false}),self)]\n        \n    }\n    self.model = new AppViewModel();\n    self.valueFromJulia = {};\n    for (var key in json_data) {\n        self.valueFromJulia[key] = false;\n    }\n    ko.applyBindings(self.model, self.dom);\n}\n);\n    (WebIO.importBlock({\"data\":[{\"name\":\"knockout\",\"type\":\"js\",\"url\":\"/assetserver/727383f2a47bd31570b7da84eee7b022dd6d7c78-knockout.js\"},{\"name\":\"knockout_punches\",\"type\":\"js\",\"url\":\"/assetserver/382b41b3b1bd9f26f75861d360bad7f8beea211f-knockout_punches.js\"}],\"type\":\"async_block\"})).then((imports) => handler.apply(this, imports));\n}\n"
                  ],
                  "observables": {
                   "clicks": {
                    "id": "16949373422911565931",
                    "sync": true,
                    "value": 0
                   },
                   "loading": {
                    "id": "3809837213615320560",
                    "sync": false,
                    "value": false
                   }
                  },
                  "systemjs_options": null
                 },
                 "nodeType": "Scope",
                 "props": {},
                 "type": "node"
                }
               ],
               "instanceArgs": {
                "namespace": "html",
                "tag": "div"
               },
               "nodeType": "DOM",
               "props": {
                "className": "field interact-widget"
               },
               "type": "node"
              },
              {
               "children": [
                {
                 "children": [
                  {
                   "children": [],
                   "instanceArgs": {
                    "namespace": "html",
                    "tag": "div"
                   },
                   "nodeType": "DOM",
                   "props": {
                    "id": "container"
                   },
                   "type": "node"
                  }
                 ],
                 "instanceArgs": {
                  "handlers": {
                   "value": [
                    "(function (txt){return this.k.render(txt,this.container)})"
                   ]
                  },
                  "id": "7562002161545707687",
                  "imports": {
                   "data": [
                    {
                     "name": null,
                     "type": "js",
                     "url": "/assetserver/dd22ed1bf1896c2748f3fe616ce0b838adc895c1-katex.min.js"
                    },
                    {
                     "name": null,
                     "type": "css",
                     "url": "/assetserver/46517a424aa5e6cffc1360d7e0848b601c584ee3-katex.min.css"
                    }
                   ],
                   "type": "async_block"
                  },
                  "mount_callbacks": [
                   "function () {\n    var handler = ((function (k){this.k=k; this.container=this.dom.querySelector(\"#container\"); return k.render(\"\\\\;\\\\;\",this.container)}));\n    (WebIO.importBlock({\"data\":[{\"name\":null,\"type\":\"js\",\"url\":\"/assetserver/dd22ed1bf1896c2748f3fe616ce0b838adc895c1-katex.min.js\"},{\"name\":null,\"type\":\"css\",\"url\":\"/assetserver/46517a424aa5e6cffc1360d7e0848b601c584ee3-katex.min.css\"}],\"type\":\"async_block\"})).then((imports) => handler.apply(this, imports));\n}\n"
                  ],
                  "observables": {
                   "value": {
                    "id": "17681487615241356976",
                    "sync": false,
                    "value": "\\;\\;"
                   }
                  },
                  "systemjs_options": null
                 },
                 "nodeType": "Scope",
                 "props": {},
                 "type": "node"
                }
               ],
               "instanceArgs": {
                "namespace": "html",
                "tag": "div"
               },
               "nodeType": "DOM",
               "props": {
                "className": "interact-widget"
               },
               "type": "node"
              },
              {
               "children": [
                {
                 "children": [
                  {
                   "children": [
                    "reset"
                   ],
                   "instanceArgs": {
                    "namespace": "html",
                    "tag": "button"
                   },
                   "nodeType": "DOM",
                   "props": {
                    "attributes": {
                     "data-bind": "click: function (){this.clicks(this.clicks()+1)}, css: {'is-loading' : loading}"
                    },
                    "className": "is-medium button is-primary",
                    "style": {}
                   },
                   "type": "node"
                  }
                 ],
                 "instanceArgs": {
                  "handlers": {
                   "clicks": [
                    "(function (val){return (val!=this.model[\"clicks\"]()) ? (this.valueFromJulia[\"clicks\"]=true, this.model[\"clicks\"](val)) : undefined})"
                   ],
                   "loading": [
                    "(function (val){return (val!=this.model[\"loading\"]()) ? (this.valueFromJulia[\"loading\"]=true, this.model[\"loading\"](val)) : undefined})"
                   ]
                  },
                  "id": "8715050362239074035",
                  "imports": {
                   "data": [
                    {
                     "name": "knockout",
                     "type": "js",
                     "url": "/assetserver/727383f2a47bd31570b7da84eee7b022dd6d7c78-knockout.js"
                    },
                    {
                     "name": "knockout_punches",
                     "type": "js",
                     "url": "/assetserver/382b41b3b1bd9f26f75861d360bad7f8beea211f-knockout_punches.js"
                    },
                    {
                     "name": null,
                     "type": "js",
                     "url": "/assetserver/5ab20f1060420992a9b82a65b735dee4d81ef413-all.js"
                    },
                    {
                     "name": null,
                     "type": "css",
                     "url": "/assetserver/1cc0ed62837210b80a182cc3676512f895dab686-style.css"
                    },
                    {
                     "name": null,
                     "type": "css",
                     "url": "/assetserver/2eee816f616df3549d7044d45e744fbf8d42bfa1-bulma_confined.min.css"
                    }
                   ],
                   "type": "async_block"
                  },
                  "mount_callbacks": [
                   "function () {\n    var handler = (function (ko, koPunches) {\n    ko.punches.enableAll();\n    ko.bindingHandlers.numericValue = {\n        init: function(element, valueAccessor, allBindings, data, context) {\n            var stringified = ko.observable(ko.unwrap(valueAccessor()));\n            stringified.subscribe(function(value) {\n                var val = parseFloat(value);\n                if (!isNaN(val)) {\n                    valueAccessor()(val);\n                }\n            });\n            valueAccessor().subscribe(function(value) {\n                var str = JSON.stringify(value);\n                if ((str == \"0\") && ([\"-0\", \"-0.\"].indexOf(stringified()) >= 0))\n                     return;\n                 if ([\"null\", \"\"].indexOf(str) >= 0)\n                     return;\n                stringified(str);\n            });\n            ko.applyBindingsToNode(\n                element,\n                {\n                    value: stringified,\n                    valueUpdate: allBindings.get('valueUpdate'),\n                },\n                context,\n            );\n        }\n    };\n    var json_data = {\"loading\":WebIO.getval({\"name\":\"loading\",\"scope\":\"8715050362239074035\",\"id\":\"5381142837002566911\",\"type\":\"observable\"}),\"clicks\":WebIO.getval({\"name\":\"clicks\",\"scope\":\"8715050362239074035\",\"id\":\"3918569879186069781\",\"type\":\"observable\"})};\n    var self = this;\n    function AppViewModel() {\n        for (var key in json_data) {\n            var el = json_data[key];\n            this[key] = Array.isArray(el) ? ko.observableArray(el) : ko.observable(el);\n        }\n        \n        \n        [this[\"loading\"].subscribe((function (val){!(this.valueFromJulia[\"loading\"]) ? (WebIO.setval({\"name\":\"loading\",\"scope\":\"8715050362239074035\",\"id\":\"5381142837002566911\",\"type\":\"observable\"},val)) : undefined; return this.valueFromJulia[\"loading\"]=false}),self),this[\"clicks\"].subscribe((function (val){!(this.valueFromJulia[\"clicks\"]) ? (WebIO.setval({\"name\":\"clicks\",\"scope\":\"8715050362239074035\",\"id\":\"3918569879186069781\",\"type\":\"observable\"},val)) : undefined; return this.valueFromJulia[\"clicks\"]=false}),self)]\n        \n    }\n    self.model = new AppViewModel();\n    self.valueFromJulia = {};\n    for (var key in json_data) {\n        self.valueFromJulia[key] = false;\n    }\n    ko.applyBindings(self.model, self.dom);\n}\n);\n    (WebIO.importBlock({\"data\":[{\"name\":\"knockout\",\"type\":\"js\",\"url\":\"/assetserver/727383f2a47bd31570b7da84eee7b022dd6d7c78-knockout.js\"},{\"name\":\"knockout_punches\",\"type\":\"js\",\"url\":\"/assetserver/382b41b3b1bd9f26f75861d360bad7f8beea211f-knockout_punches.js\"}],\"type\":\"async_block\"})).then((imports) => handler.apply(this, imports));\n}\n"
                  ],
                  "observables": {
                   "clicks": {
                    "id": "3918569879186069781",
                    "sync": true,
                    "value": 0
                   },
                   "loading": {
                    "id": "5381142837002566911",
                    "sync": false,
                    "value": false
                   }
                  },
                  "systemjs_options": null
                 },
                 "nodeType": "Scope",
                 "props": {},
                 "type": "node"
                }
               ],
               "instanceArgs": {
                "namespace": "html",
                "tag": "div"
               },
               "nodeType": "DOM",
               "props": {
                "className": "field interact-widget"
               },
               "type": "node"
              }
             ],
             "instanceArgs": {
              "namespace": "html",
              "tag": "div"
             },
             "nodeType": "DOM",
             "props": {
              "style": {
               "display": "flex",
               "flex-direction": "row"
              }
             },
             "type": "node"
            }
           ],
           "instanceArgs": {
            "namespace": "html",
            "tag": "div"
           },
           "nodeType": "DOM",
           "props": {
            "style": {
             "display": "flex",
             "flex-direction": "column"
            }
           },
           "type": "node"
          },
          {
           "children": [
            {
             "children": [],
             "instanceArgs": {
              "namespace": "html",
              "tag": "div"
             },
             "nodeType": "DOM",
             "props": {
              "className": "webio-observable",
              "setInnerHtml": "    <div style=\"height: 500px; width: 100%; overflow-x: auto; overflow-y: hidden; resize: both\">\n    <iframe src=\"http://127.0.0.1:8718\" style=\"width: 100%; height: 100%; border: none\"></iframe>\n    </div>\n"
             },
             "type": "node"
            }
           ],
           "instanceArgs": {
            "handlers": {
             "obs-output": [
              "function (value, scope) {\n    scope.setInnerHTML(value);\n}\n"
             ]
            },
            "id": "16777509776103026188",
            "imports": {
             "data": [],
             "type": "async_block"
            },
            "mount_callbacks": [],
            "observables": {
             "obs-output": {
              "id": "17468681921911730371",
              "sync": false,
              "value": "    <div style=\"height: 500px; width: 100%; overflow-x: auto; overflow-y: hidden; resize: both\">\n    <iframe src=\"http://127.0.0.1:8718\" style=\"width: 100%; height: 100%; border: none\"></iframe>\n    </div>\n"
             }
            },
            "systemjs_options": null
           },
           "nodeType": "Scope",
           "props": {},
           "type": "node"
          },
          {
           "children": [
            {
             "children": [
              {
               "children": [],
               "instanceArgs": {
                "namespace": "html",
                "tag": "div"
               },
               "nodeType": "DOM",
               "props": {
                "id": "container"
               },
               "type": "node"
              }
             ],
             "instanceArgs": {
              "handlers": {
               "value": [
                "(function (txt){return this.k.render(txt,this.container)})"
               ]
              },
              "id": "7562002161545707687",
              "imports": {
               "data": [
                {
                 "name": null,
                 "type": "js",
                 "url": "/assetserver/dd22ed1bf1896c2748f3fe616ce0b838adc895c1-katex.min.js"
                },
                {
                 "name": null,
                 "type": "css",
                 "url": "/assetserver/46517a424aa5e6cffc1360d7e0848b601c584ee3-katex.min.css"
                }
               ],
               "type": "async_block"
              },
              "mount_callbacks": [
               "function () {\n    var handler = ((function (k){this.k=k; this.container=this.dom.querySelector(\"#container\"); return k.render(\"\\\\;\\\\;\",this.container)}));\n    (WebIO.importBlock({\"data\":[{\"name\":null,\"type\":\"js\",\"url\":\"/assetserver/dd22ed1bf1896c2748f3fe616ce0b838adc895c1-katex.min.js\"},{\"name\":null,\"type\":\"css\",\"url\":\"/assetserver/46517a424aa5e6cffc1360d7e0848b601c584ee3-katex.min.css\"}],\"type\":\"async_block\"})).then((imports) => handler.apply(this, imports));\n}\n"
              ],
              "observables": {
               "value": {
                "id": "17681487615241356976",
                "sync": false,
                "value": "\\;\\;"
               }
              },
              "systemjs_options": null
             },
             "nodeType": "Scope",
             "props": {},
             "type": "node"
            }
           ],
           "instanceArgs": {
            "namespace": "html",
            "tag": "div"
           },
           "nodeType": "DOM",
           "props": {
            "className": "interact-widget"
           },
           "type": "node"
          },
          {
           "children": [],
           "instanceArgs": {
            "namespace": "html",
            "tag": "div"
           },
           "nodeType": "DOM",
           "props": {
            "style": {
             "display": "flex",
             "flex-direction": "column"
            }
           },
           "type": "node"
          }
         ],
         "instanceArgs": {
          "namespace": "html",
          "tag": "div"
         },
         "nodeType": "DOM",
         "props": {
          "style": {
           "display": "flex",
           "flex-direction": "row"
          }
         },
         "type": "node"
        }
       ],
       "instanceArgs": {
        "namespace": "html",
        "tag": "div"
       },
       "nodeType": "DOM",
       "props": {
        "style": {
         "display": "flex",
         "flex-direction": "column"
        }
       },
       "type": "node"
      },
      "text/html": [
       "<div\n",
       "    class=\"webio-mountpoint\"\n",
       "    data-webio-mountpoint=\"2004465688479173403\"\n",
       ">\n",
       "    <script>\n",
       "    (function(){\n",
       "    // Some integrations (namely, IJulia/Jupyter) use an alternate render pathway than\n",
       "    // just putting the html on the page. If WebIO isn't defined, then it's pretty likely\n",
       "    // that we're in one of those situations and the integration just isn't installed\n",
       "    // correctly.\n",
       "    if (typeof window.WebIO === \"undefined\") {\n",
       "        document\n",
       "            .querySelector('[data-webio-mountpoint=\"2004465688479173403\"]')\n",
       "            .innerHTML = (\n",
       "                '<div style=\"padding: 1em; background-color: #f8d6da; border: 1px solid #f5c6cb; font-weight: bold;\">' +\n",
       "                '<p><strong>WebIO not detected.</strong></p>' +\n",
       "                '<p>Please read ' +\n",
       "                '<a href=\"https://juliagizmos.github.io/WebIO.jl/latest/troubleshooting/not-detected/\" target=\"_blank\">the troubleshooting guide</a> ' +\n",
       "                'for more information on how to resolve this issue.</p>' +\n",
       "                '<p><a href=\"https://juliagizmos.github.io/WebIO.jl/latest/troubleshooting/not-detected/\" target=\"_blank\">https://juliagizmos.github.io/WebIO.jl/latest/troubleshooting/not-detected/</a></p>' +\n",
       "                '</div>'\n",
       "            );\n",
       "        return;\n",
       "    }\n",
       "    WebIO.mount(\n",
       "        document.querySelector('[data-webio-mountpoint=\"2004465688479173403\"]'),\n",
       "        {\"props\":{\"style\":{\"display\":\"flex\",\"flex-direction\":\"column\"}},\"nodeType\":\"DOM\",\"type\":\"node\",\"instanceArgs\":{\"namespace\":\"html\",\"tag\":\"div\"},\"children\":[{\"props\":{\"style\":{\"display\":\"flex\",\"flex-direction\":\"row\"}},\"nodeType\":\"DOM\",\"type\":\"node\",\"instanceArgs\":{\"namespace\":\"html\",\"tag\":\"div\"},\"children\":[{\"props\":{\"style\":{\"display\":\"flex\",\"flex-direction\":\"column\"}},\"nodeType\":\"DOM\",\"type\":\"node\",\"instanceArgs\":{\"namespace\":\"html\",\"tag\":\"div\"},\"children\":[{\"props\":{\"className\":\"field interact-widget\"},\"nodeType\":\"DOM\",\"type\":\"node\",\"instanceArgs\":{\"namespace\":\"html\",\"tag\":\"div\"},\"children\":[{\"props\":{},\"nodeType\":\"Scope\",\"type\":\"node\",\"instanceArgs\":{\"imports\":{\"data\":[{\"name\":\"knockout\",\"type\":\"js\",\"url\":\"\\/assetserver\\/727383f2a47bd31570b7da84eee7b022dd6d7c78-knockout.js\"},{\"name\":\"knockout_punches\",\"type\":\"js\",\"url\":\"\\/assetserver\\/382b41b3b1bd9f26f75861d360bad7f8beea211f-knockout_punches.js\"},{\"name\":null,\"type\":\"js\",\"url\":\"\\/assetserver\\/5ab20f1060420992a9b82a65b735dee4d81ef413-all.js\"},{\"name\":null,\"type\":\"css\",\"url\":\"\\/assetserver\\/1cc0ed62837210b80a182cc3676512f895dab686-style.css\"},{\"name\":null,\"type\":\"css\",\"url\":\"\\/assetserver\\/2eee816f616df3549d7044d45e744fbf8d42bfa1-bulma_confined.min.css\"}],\"type\":\"async_block\"},\"id\":\"403314561391904672\",\"handlers\":{\"changes\":[\"(function (val){return (val!=this.model[\\\"changes\\\"]()) ? (this.valueFromJulia[\\\"changes\\\"]=true, this.model[\\\"changes\\\"](val)) : undefined})\"],\"index\":[\"(function (val){return (val!=this.model[\\\"index\\\"]()) ? (this.valueFromJulia[\\\"index\\\"]=true, this.model[\\\"index\\\"](val)) : undefined})\"]},\"systemjs_options\":null,\"mount_callbacks\":[\"function () {\\n    var handler = (function (ko, koPunches) {\\n    ko.punches.enableAll();\\n    ko.bindingHandlers.numericValue = {\\n        init: function(element, valueAccessor, allBindings, data, context) {\\n            var stringified = ko.observable(ko.unwrap(valueAccessor()));\\n            stringified.subscribe(function(value) {\\n                var val = parseFloat(value);\\n                if (!isNaN(val)) {\\n                    valueAccessor()(val);\\n                }\\n            });\\n            valueAccessor().subscribe(function(value) {\\n                var str = JSON.stringify(value);\\n                if ((str == \\\"0\\\") && ([\\\"-0\\\", \\\"-0.\\\"].indexOf(stringified()) >= 0))\\n                     return;\\n                 if ([\\\"null\\\", \\\"\\\"].indexOf(str) >= 0)\\n                     return;\\n                stringified(str);\\n            });\\n            ko.applyBindingsToNode(\\n                element,\\n                {\\n                    value: stringified,\\n                    valueUpdate: allBindings.get('valueUpdate'),\\n                },\\n                context,\\n            );\\n        }\\n    };\\n    var json_data = {\\\"formatted_vals\\\":[\\\"1\\\",\\\"2\\\",\\\"3\\\",\\\"4\\\",\\\"5\\\",\\\"6\\\",\\\"7\\\",\\\"8\\\",\\\"9\\\",\\\"10\\\",\\\"11\\\",\\\"12\\\",\\\"13\\\",\\\"14\\\",\\\"15\\\",\\\"16\\\",\\\"17\\\",\\\"18\\\",\\\"19\\\",\\\"20\\\",\\\"21\\\",\\\"22\\\",\\\"23\\\",\\\"24\\\",\\\"25\\\",\\\"26\\\",\\\"27\\\",\\\"28\\\",\\\"29\\\",\\\"30\\\",\\\"31\\\",\\\"32\\\",\\\"33\\\",\\\"34\\\",\\\"35\\\",\\\"36\\\",\\\"37\\\",\\\"38\\\",\\\"39\\\",\\\"40\\\",\\\"41\\\",\\\"42\\\",\\\"43\\\",\\\"44\\\",\\\"45\\\",\\\"46\\\",\\\"47\\\",\\\"48\\\",\\\"49\\\",\\\"50\\\",\\\"51\\\",\\\"52\\\",\\\"53\\\",\\\"54\\\",\\\"55\\\",\\\"56\\\",\\\"57\\\",\\\"58\\\",\\\"59\\\",\\\"60\\\",\\\"61\\\",\\\"62\\\",\\\"63\\\",\\\"64\\\",\\\"65\\\",\\\"66\\\",\\\"67\\\",\\\"68\\\",\\\"69\\\",\\\"70\\\",\\\"71\\\",\\\"72\\\",\\\"73\\\",\\\"74\\\",\\\"75\\\",\\\"76\\\",\\\"77\\\",\\\"78\\\",\\\"79\\\",\\\"80\\\",\\\"81\\\",\\\"82\\\",\\\"83\\\",\\\"84\\\",\\\"85\\\",\\\"86\\\",\\\"87\\\",\\\"88\\\",\\\"89\\\",\\\"90\\\",\\\"91\\\",\\\"92\\\",\\\"93\\\",\\\"94\\\",\\\"95\\\",\\\"96\\\",\\\"97\\\",\\\"98\\\",\\\"99\\\",\\\"100\\\"],\\\"changes\\\":WebIO.getval({\\\"name\\\":\\\"changes\\\",\\\"scope\\\":\\\"403314561391904672\\\",\\\"id\\\":\\\"5049839498551058096\\\",\\\"type\\\":\\\"observable\\\"}),\\\"index\\\":WebIO.getval({\\\"name\\\":\\\"index\\\",\\\"scope\\\":\\\"403314561391904672\\\",\\\"id\\\":\\\"711536622611550635\\\",\\\"type\\\":\\\"observable\\\"})};\\n    var self = this;\\n    function AppViewModel() {\\n        for (var key in json_data) {\\n            var el = json_data[key];\\n            this[key] = Array.isArray(el) ? ko.observableArray(el) : ko.observable(el);\\n        }\\n        \\n        [this[\\\"formatted_val\\\"]=ko.computed(    function(){\\n        return this.formatted_vals()[parseInt(this.index())-(1)];\\n    }\\n,this)]\\n        [this[\\\"changes\\\"].subscribe((function (val){!(this.valueFromJulia[\\\"changes\\\"]) ? (WebIO.setval({\\\"name\\\":\\\"changes\\\",\\\"scope\\\":\\\"403314561391904672\\\",\\\"id\\\":\\\"5049839498551058096\\\",\\\"type\\\":\\\"observable\\\"},val)) : undefined; return this.valueFromJulia[\\\"changes\\\"]=false}),self),this[\\\"index\\\"].subscribe((function (val){!(this.valueFromJulia[\\\"index\\\"]) ? (WebIO.setval({\\\"name\\\":\\\"index\\\",\\\"scope\\\":\\\"403314561391904672\\\",\\\"id\\\":\\\"711536622611550635\\\",\\\"type\\\":\\\"observable\\\"},val)) : undefined; return this.valueFromJulia[\\\"index\\\"]=false}),self)]\\n        \\n    }\\n    self.model = new AppViewModel();\\n    self.valueFromJulia = {};\\n    for (var key in json_data) {\\n        self.valueFromJulia[key] = false;\\n    }\\n    ko.applyBindings(self.model, self.dom);\\n}\\n);\\n    (WebIO.importBlock({\\\"data\\\":[{\\\"name\\\":\\\"knockout\\\",\\\"type\\\":\\\"js\\\",\\\"url\\\":\\\"\\/assetserver\\/727383f2a47bd31570b7da84eee7b022dd6d7c78-knockout.js\\\"},{\\\"name\\\":\\\"knockout_punches\\\",\\\"type\\\":\\\"js\\\",\\\"url\\\":\\\"\\/assetserver\\/382b41b3b1bd9f26f75861d360bad7f8beea211f-knockout_punches.js\\\"}],\\\"type\\\":\\\"async_block\\\"})).then((imports) => handler.apply(this, imports));\\n}\\n\"],\"observables\":{\"changes\":{\"sync\":false,\"id\":\"5049839498551058096\",\"value\":0},\"index\":{\"sync\":true,\"id\":\"711536622611550635\",\"value\":1}}},\"children\":[{\"props\":{\"className\":\"interact-flex-row interact-widget\"},\"nodeType\":\"DOM\",\"type\":\"node\",\"instanceArgs\":{\"namespace\":\"html\",\"tag\":\"div\"},\"children\":[{\"props\":{\"className\":\"interact-flex-row-left\"},\"nodeType\":\"DOM\",\"type\":\"node\",\"instanceArgs\":{\"namespace\":\"html\",\"tag\":\"div\"},\"children\":[{\"props\":{\"className\":\"interact \",\"style\":{\"padding\":\"5px 10px 0px 10px\"}},\"nodeType\":\"DOM\",\"type\":\"node\",\"instanceArgs\":{\"namespace\":\"html\",\"tag\":\"label\"},\"children\":[\"time\"]}]},{\"props\":{\"className\":\"interact-flex-row-center\"},\"nodeType\":\"DOM\",\"type\":\"node\",\"instanceArgs\":{\"namespace\":\"html\",\"tag\":\"div\"},\"children\":[{\"props\":{\"max\":100,\"min\":1,\"attributes\":{\"type\":\"range\",\"data-bind\":\"numericValue: index, valueUpdate: 'input', event: {change: function (){this.changes(this.changes()+1)}}\",\"orient\":\"horizontal\"},\"step\":1,\"className\":\"slider slider is-fullwidth\",\"style\":{}},\"nodeType\":\"DOM\",\"type\":\"node\",\"instanceArgs\":{\"namespace\":\"html\",\"tag\":\"input\"},\"children\":[]}]},{\"props\":{\"className\":\"interact-flex-row-right\"},\"nodeType\":\"DOM\",\"type\":\"node\",\"instanceArgs\":{\"namespace\":\"html\",\"tag\":\"div\"},\"children\":[{\"props\":{\"attributes\":{\"data-bind\":\"text: formatted_val\"}},\"nodeType\":\"DOM\",\"type\":\"node\",\"instanceArgs\":{\"namespace\":\"html\",\"tag\":\"p\"},\"children\":[]}]}]}]}]},{\"props\":{\"className\":\"field interact-widget\"},\"nodeType\":\"DOM\",\"type\":\"node\",\"instanceArgs\":{\"namespace\":\"html\",\"tag\":\"div\"},\"children\":[{\"props\":{},\"nodeType\":\"Scope\",\"type\":\"node\",\"instanceArgs\":{\"imports\":{\"data\":[{\"name\":\"knockout\",\"type\":\"js\",\"url\":\"\\/assetserver\\/727383f2a47bd31570b7da84eee7b022dd6d7c78-knockout.js\"},{\"name\":\"knockout_punches\",\"type\":\"js\",\"url\":\"\\/assetserver\\/382b41b3b1bd9f26f75861d360bad7f8beea211f-knockout_punches.js\"},{\"name\":null,\"type\":\"js\",\"url\":\"\\/assetserver\\/5ab20f1060420992a9b82a65b735dee4d81ef413-all.js\"},{\"name\":null,\"type\":\"css\",\"url\":\"\\/assetserver\\/1cc0ed62837210b80a182cc3676512f895dab686-style.css\"},{\"name\":null,\"type\":\"css\",\"url\":\"\\/assetserver\\/2eee816f616df3549d7044d45e744fbf8d42bfa1-bulma_confined.min.css\"}],\"type\":\"async_block\"},\"id\":\"9642633489702168776\",\"handlers\":{\"changes\":[\"(function (val){return (val!=this.model[\\\"changes\\\"]()) ? (this.valueFromJulia[\\\"changes\\\"]=true, this.model[\\\"changes\\\"](val)) : undefined})\"],\"index\":[\"(function (val){return (val!=this.model[\\\"index\\\"]()) ? (this.valueFromJulia[\\\"index\\\"]=true, this.model[\\\"index\\\"](val)) : undefined})\"]},\"systemjs_options\":null,\"mount_callbacks\":[\"function () {\\n    var handler = (function (ko, koPunches) {\\n    ko.punches.enableAll();\\n    ko.bindingHandlers.numericValue = {\\n        init: function(element, valueAccessor, allBindings, data, context) {\\n            var stringified = ko.observable(ko.unwrap(valueAccessor()));\\n            stringified.subscribe(function(value) {\\n                var val = parseFloat(value);\\n                if (!isNaN(val)) {\\n                    valueAccessor()(val);\\n                }\\n            });\\n            valueAccessor().subscribe(function(value) {\\n                var str = JSON.stringify(value);\\n                if ((str == \\\"0\\\") && ([\\\"-0\\\", \\\"-0.\\\"].indexOf(stringified()) >= 0))\\n                     return;\\n                 if ([\\\"null\\\", \\\"\\\"].indexOf(str) >= 0)\\n                     return;\\n                stringified(str);\\n            });\\n            ko.applyBindingsToNode(\\n                element,\\n                {\\n                    value: stringified,\\n                    valueUpdate: allBindings.get('valueUpdate'),\\n                },\\n                context,\\n            );\\n        }\\n    };\\n    var json_data = {\\\"formatted_vals\\\":[\\\"0.1\\\",\\\"0.2\\\",\\\"0.3\\\",\\\"0.4\\\",\\\"0.5\\\",\\\"0.6\\\",\\\"0.7\\\",\\\"0.8\\\",\\\"0.9\\\",\\\"1.0\\\",\\\"1.1\\\",\\\"1.2\\\",\\\"1.3\\\",\\\"1.4\\\",\\\"1.5\\\",\\\"1.6\\\",\\\"1.7\\\",\\\"1.8\\\",\\\"1.9\\\",\\\"2.0\\\"],\\\"changes\\\":WebIO.getval({\\\"name\\\":\\\"changes\\\",\\\"scope\\\":\\\"9642633489702168776\\\",\\\"id\\\":\\\"5433498731028378420\\\",\\\"type\\\":\\\"observable\\\"}),\\\"index\\\":WebIO.getval({\\\"name\\\":\\\"index\\\",\\\"scope\\\":\\\"9642633489702168776\\\",\\\"id\\\":\\\"2052151778532755482\\\",\\\"type\\\":\\\"observable\\\"})};\\n    var self = this;\\n    function AppViewModel() {\\n        for (var key in json_data) {\\n            var el = json_data[key];\\n            this[key] = Array.isArray(el) ? ko.observableArray(el) : ko.observable(el);\\n        }\\n        \\n        [this[\\\"formatted_val\\\"]=ko.computed(    function(){\\n        return this.formatted_vals()[parseInt(this.index())-(1)];\\n    }\\n,this)]\\n        [this[\\\"changes\\\"].subscribe((function (val){!(this.valueFromJulia[\\\"changes\\\"]) ? (WebIO.setval({\\\"name\\\":\\\"changes\\\",\\\"scope\\\":\\\"9642633489702168776\\\",\\\"id\\\":\\\"5433498731028378420\\\",\\\"type\\\":\\\"observable\\\"},val)) : undefined; return this.valueFromJulia[\\\"changes\\\"]=false}),self),this[\\\"index\\\"].subscribe((function (val){!(this.valueFromJulia[\\\"index\\\"]) ? (WebIO.setval({\\\"name\\\":\\\"index\\\",\\\"scope\\\":\\\"9642633489702168776\\\",\\\"id\\\":\\\"2052151778532755482\\\",\\\"type\\\":\\\"observable\\\"},val)) : undefined; return this.valueFromJulia[\\\"index\\\"]=false}),self)]\\n        \\n    }\\n    self.model = new AppViewModel();\\n    self.valueFromJulia = {};\\n    for (var key in json_data) {\\n        self.valueFromJulia[key] = false;\\n    }\\n    ko.applyBindings(self.model, self.dom);\\n}\\n);\\n    (WebIO.importBlock({\\\"data\\\":[{\\\"name\\\":\\\"knockout\\\",\\\"type\\\":\\\"js\\\",\\\"url\\\":\\\"\\/assetserver\\/727383f2a47bd31570b7da84eee7b022dd6d7c78-knockout.js\\\"},{\\\"name\\\":\\\"knockout_punches\\\",\\\"type\\\":\\\"js\\\",\\\"url\\\":\\\"\\/assetserver\\/382b41b3b1bd9f26f75861d360bad7f8beea211f-knockout_punches.js\\\"}],\\\"type\\\":\\\"async_block\\\"})).then((imports) => handler.apply(this, imports));\\n}\\n\"],\"observables\":{\"changes\":{\"sync\":false,\"id\":\"5433498731028378420\",\"value\":0},\"index\":{\"sync\":true,\"id\":\"2052151778532755482\",\"value\":10}}},\"children\":[{\"props\":{\"className\":\"interact-flex-row interact-widget\"},\"nodeType\":\"DOM\",\"type\":\"node\",\"instanceArgs\":{\"namespace\":\"html\",\"tag\":\"div\"},\"children\":[{\"props\":{\"className\":\"interact-flex-row-left\"},\"nodeType\":\"DOM\",\"type\":\"node\",\"instanceArgs\":{\"namespace\":\"html\",\"tag\":\"div\"},\"children\":[{\"props\":{\"className\":\"interact \",\"style\":{\"padding\":\"5px 10px 0px 10px\"}},\"nodeType\":\"DOM\",\"type\":\"node\",\"instanceArgs\":{\"namespace\":\"html\",\"tag\":\"label\"},\"children\":[\"scale\"]}]},{\"props\":{\"className\":\"interact-flex-row-center\"},\"nodeType\":\"DOM\",\"type\":\"node\",\"instanceArgs\":{\"namespace\":\"html\",\"tag\":\"div\"},\"children\":[{\"props\":{\"max\":20,\"min\":1,\"attributes\":{\"type\":\"range\",\"data-bind\":\"numericValue: index, valueUpdate: 'input', event: {change: function (){this.changes(this.changes()+1)}}\",\"orient\":\"horizontal\"},\"step\":1,\"className\":\"slider slider is-fullwidth\",\"style\":{}},\"nodeType\":\"DOM\",\"type\":\"node\",\"instanceArgs\":{\"namespace\":\"html\",\"tag\":\"input\"},\"children\":[]}]},{\"props\":{\"className\":\"interact-flex-row-right\"},\"nodeType\":\"DOM\",\"type\":\"node\",\"instanceArgs\":{\"namespace\":\"html\",\"tag\":\"div\"},\"children\":[{\"props\":{\"attributes\":{\"data-bind\":\"text: formatted_val\"}},\"nodeType\":\"DOM\",\"type\":\"node\",\"instanceArgs\":{\"namespace\":\"html\",\"tag\":\"p\"},\"children\":[]}]}]}]}]},{\"props\":{\"style\":{\"display\":\"flex\",\"flex-direction\":\"column\"}},\"nodeType\":\"DOM\",\"type\":\"node\",\"instanceArgs\":{\"namespace\":\"html\",\"tag\":\"div\"},\"children\":[]},{\"props\":{\"style\":{\"display\":\"flex\",\"flex-direction\":\"column\"}},\"nodeType\":\"DOM\",\"type\":\"node\",\"instanceArgs\":{\"namespace\":\"html\",\"tag\":\"div\"},\"children\":[{\"props\":{\"className\":\"field interact-widget\"},\"nodeType\":\"DOM\",\"type\":\"node\",\"instanceArgs\":{\"namespace\":\"html\",\"tag\":\"div\"},\"children\":[{\"props\":{},\"nodeType\":\"Scope\",\"type\":\"node\",\"instanceArgs\":{\"imports\":{\"data\":[{\"name\":\"knockout\",\"type\":\"js\",\"url\":\"\\/assetserver\\/727383f2a47bd31570b7da84eee7b022dd6d7c78-knockout.js\"},{\"name\":\"knockout_punches\",\"type\":\"js\",\"url\":\"\\/assetserver\\/382b41b3b1bd9f26f75861d360bad7f8beea211f-knockout_punches.js\"},{\"name\":null,\"type\":\"js\",\"url\":\"\\/assetserver\\/5ab20f1060420992a9b82a65b735dee4d81ef413-all.js\"},{\"name\":null,\"type\":\"css\",\"url\":\"\\/assetserver\\/1cc0ed62837210b80a182cc3676512f895dab686-style.css\"},{\"name\":null,\"type\":\"css\",\"url\":\"\\/assetserver\\/2eee816f616df3549d7044d45e744fbf8d42bfa1-bulma_confined.min.css\"}],\"type\":\"async_block\"},\"id\":\"8716015372692210323\",\"handlers\":{\"changes\":[\"(function (val){return (val!=this.model[\\\"changes\\\"]()) ? (this.valueFromJulia[\\\"changes\\\"]=true, this.model[\\\"changes\\\"](val)) : undefined})\"],\"index\":[\"(function (val){return (val!=this.model[\\\"index\\\"]()) ? (this.valueFromJulia[\\\"index\\\"]=true, this.model[\\\"index\\\"](val)) : undefined})\"]},\"systemjs_options\":null,\"mount_callbacks\":[\"function () {\\n    var handler = (function (ko, koPunches) {\\n    ko.punches.enableAll();\\n    ko.bindingHandlers.numericValue = {\\n        init: function(element, valueAccessor, allBindings, data, context) {\\n            var stringified = ko.observable(ko.unwrap(valueAccessor()));\\n            stringified.subscribe(function(value) {\\n                var val = parseFloat(value);\\n                if (!isNaN(val)) {\\n                    valueAccessor()(val);\\n                }\\n            });\\n            valueAccessor().subscribe(function(value) {\\n                var str = JSON.stringify(value);\\n                if ((str == \\\"0\\\") && ([\\\"-0\\\", \\\"-0.\\\"].indexOf(stringified()) >= 0))\\n                     return;\\n                 if ([\\\"null\\\", \\\"\\\"].indexOf(str) >= 0)\\n                     return;\\n                stringified(str);\\n            });\\n            ko.applyBindingsToNode(\\n                element,\\n                {\\n                    value: stringified,\\n                    valueUpdate: allBindings.get('valueUpdate'),\\n                },\\n                context,\\n            );\\n        }\\n    };\\n    var json_data = {\\\"formatted_vals\\\":[\\\"1\\\",\\\"2\\\",\\\"3\\\",\\\"4\\\",\\\"5\\\",\\\"6\\\",\\\"7\\\",\\\"8\\\",\\\"9\\\",\\\"10\\\",\\\"11\\\",\\\"12\\\",\\\"13\\\",\\\"14\\\",\\\"15\\\",\\\"16\\\",\\\"17\\\",\\\"18\\\",\\\"19\\\",\\\"20\\\"],\\\"changes\\\":WebIO.getval({\\\"name\\\":\\\"changes\\\",\\\"scope\\\":\\\"8716015372692210323\\\",\\\"id\\\":\\\"17067479489541643322\\\",\\\"type\\\":\\\"observable\\\"}),\\\"index\\\":WebIO.getval({\\\"name\\\":\\\"index\\\",\\\"scope\\\":\\\"8716015372692210323\\\",\\\"id\\\":\\\"2457012741267750759\\\",\\\"type\\\":\\\"observable\\\"})};\\n    var self = this;\\n    function AppViewModel() {\\n        for (var key in json_data) {\\n            var el = json_data[key];\\n            this[key] = Array.isArray(el) ? ko.observableArray(el) : ko.observable(el);\\n        }\\n        \\n        [this[\\\"formatted_val\\\"]=ko.computed(    function(){\\n        return this.formatted_vals()[parseInt(this.index())-(1)];\\n    }\\n,this)]\\n        [this[\\\"changes\\\"].subscribe((function (val){!(this.valueFromJulia[\\\"changes\\\"]) ? (WebIO.setval({\\\"name\\\":\\\"changes\\\",\\\"scope\\\":\\\"8716015372692210323\\\",\\\"id\\\":\\\"17067479489541643322\\\",\\\"type\\\":\\\"observable\\\"},val)) : undefined; return this.valueFromJulia[\\\"changes\\\"]=false}),self),this[\\\"index\\\"].subscribe((function (val){!(this.valueFromJulia[\\\"index\\\"]) ? (WebIO.setval({\\\"name\\\":\\\"index\\\",\\\"scope\\\":\\\"8716015372692210323\\\",\\\"id\\\":\\\"2457012741267750759\\\",\\\"type\\\":\\\"observable\\\"},val)) : undefined; return this.valueFromJulia[\\\"index\\\"]=false}),self)]\\n        \\n    }\\n    self.model = new AppViewModel();\\n    self.valueFromJulia = {};\\n    for (var key in json_data) {\\n        self.valueFromJulia[key] = false;\\n    }\\n    ko.applyBindings(self.model, self.dom);\\n}\\n);\\n    (WebIO.importBlock({\\\"data\\\":[{\\\"name\\\":\\\"knockout\\\",\\\"type\\\":\\\"js\\\",\\\"url\\\":\\\"\\/assetserver\\/727383f2a47bd31570b7da84eee7b022dd6d7c78-knockout.js\\\"},{\\\"name\\\":\\\"knockout_punches\\\",\\\"type\\\":\\\"js\\\",\\\"url\\\":\\\"\\/assetserver\\/382b41b3b1bd9f26f75861d360bad7f8beea211f-knockout_punches.js\\\"}],\\\"type\\\":\\\"async_block\\\"})).then((imports) => handler.apply(this, imports));\\n}\\n\"],\"observables\":{\"changes\":{\"sync\":false,\"id\":\"17067479489541643322\",\"value\":0},\"index\":{\"sync\":true,\"id\":\"2457012741267750759\",\"value\":10}}},\"children\":[{\"props\":{\"className\":\"interact-flex-row interact-widget\"},\"nodeType\":\"DOM\",\"type\":\"node\",\"instanceArgs\":{\"namespace\":\"html\",\"tag\":\"div\"},\"children\":[{\"props\":{\"className\":\"interact-flex-row-left\"},\"nodeType\":\"DOM\",\"type\":\"node\",\"instanceArgs\":{\"namespace\":\"html\",\"tag\":\"div\"},\"children\":[{\"props\":{\"className\":\"interact \",\"style\":{\"padding\":\"5px 10px 0px 10px\"}},\"nodeType\":\"DOM\",\"type\":\"node\",\"instanceArgs\":{\"namespace\":\"html\",\"tag\":\"label\"},\"children\":[\"nns\"]}]},{\"props\":{\"className\":\"interact-flex-row-center\"},\"nodeType\":\"DOM\",\"type\":\"node\",\"instanceArgs\":{\"namespace\":\"html\",\"tag\":\"div\"},\"children\":[{\"props\":{\"max\":20,\"min\":1,\"attributes\":{\"type\":\"range\",\"data-bind\":\"numericValue: index, valueUpdate: 'input', event: {change: function (){this.changes(this.changes()+1)}}\",\"orient\":\"horizontal\"},\"step\":1,\"className\":\"slider slider is-fullwidth\",\"style\":{}},\"nodeType\":\"DOM\",\"type\":\"node\",\"instanceArgs\":{\"namespace\":\"html\",\"tag\":\"input\"},\"children\":[]}]},{\"props\":{\"className\":\"interact-flex-row-right\"},\"nodeType\":\"DOM\",\"type\":\"node\",\"instanceArgs\":{\"namespace\":\"html\",\"tag\":\"div\"},\"children\":[{\"props\":{\"attributes\":{\"data-bind\":\"text: formatted_val\"}},\"nodeType\":\"DOM\",\"type\":\"node\",\"instanceArgs\":{\"namespace\":\"html\",\"tag\":\"p\"},\"children\":[]}]}]}]}]}]},{\"props\":{\"style\":{\"display\":\"flex\",\"flex-direction\":\"row\"}},\"nodeType\":\"DOM\",\"type\":\"node\",\"instanceArgs\":{\"namespace\":\"html\",\"tag\":\"div\"},\"children\":[{\"props\":{\"className\":\"interact-widget\"},\"nodeType\":\"DOM\",\"type\":\"node\",\"instanceArgs\":{\"namespace\":\"html\",\"tag\":\"div\"},\"children\":[{\"props\":{},\"nodeType\":\"Scope\",\"type\":\"node\",\"instanceArgs\":{\"imports\":{\"data\":[{\"name\":null,\"type\":\"js\",\"url\":\"\\/assetserver\\/dd22ed1bf1896c2748f3fe616ce0b838adc895c1-katex.min.js\"},{\"name\":null,\"type\":\"css\",\"url\":\"\\/assetserver\\/46517a424aa5e6cffc1360d7e0848b601c584ee3-katex.min.css\"}],\"type\":\"async_block\"},\"id\":\"7562002161545707687\",\"handlers\":{\"value\":[\"(function (txt){return this.k.render(txt,this.container)})\"]},\"systemjs_options\":null,\"mount_callbacks\":[\"function () {\\n    var handler = ((function (k){this.k=k; this.container=this.dom.querySelector(\\\"#container\\\"); return k.render(\\\"\\\\\\\\;\\\\\\\\;\\\",this.container)}));\\n    (WebIO.importBlock({\\\"data\\\":[{\\\"name\\\":null,\\\"type\\\":\\\"js\\\",\\\"url\\\":\\\"\\/assetserver\\/dd22ed1bf1896c2748f3fe616ce0b838adc895c1-katex.min.js\\\"},{\\\"name\\\":null,\\\"type\\\":\\\"css\\\",\\\"url\\\":\\\"\\/assetserver\\/46517a424aa5e6cffc1360d7e0848b601c584ee3-katex.min.css\\\"}],\\\"type\\\":\\\"async_block\\\"})).then((imports) => handler.apply(this, imports));\\n}\\n\"],\"observables\":{\"value\":{\"sync\":false,\"id\":\"17681487615241356976\",\"value\":\"\\\\;\\\\;\"}}},\"children\":[{\"props\":{\"id\":\"container\"},\"nodeType\":\"DOM\",\"type\":\"node\",\"instanceArgs\":{\"namespace\":\"html\",\"tag\":\"div\"},\"children\":[]}]}]},{\"props\":{\"className\":\"field interact-widget\"},\"nodeType\":\"DOM\",\"type\":\"node\",\"instanceArgs\":{\"namespace\":\"html\",\"tag\":\"div\"},\"children\":[{\"props\":{},\"nodeType\":\"Scope\",\"type\":\"node\",\"instanceArgs\":{\"imports\":{\"data\":[{\"name\":\"knockout\",\"type\":\"js\",\"url\":\"\\/assetserver\\/727383f2a47bd31570b7da84eee7b022dd6d7c78-knockout.js\"},{\"name\":\"knockout_punches\",\"type\":\"js\",\"url\":\"\\/assetserver\\/382b41b3b1bd9f26f75861d360bad7f8beea211f-knockout_punches.js\"},{\"name\":null,\"type\":\"js\",\"url\":\"\\/assetserver\\/5ab20f1060420992a9b82a65b735dee4d81ef413-all.js\"},{\"name\":null,\"type\":\"css\",\"url\":\"\\/assetserver\\/1cc0ed62837210b80a182cc3676512f895dab686-style.css\"},{\"name\":null,\"type\":\"css\",\"url\":\"\\/assetserver\\/2eee816f616df3549d7044d45e744fbf8d42bfa1-bulma_confined.min.css\"}],\"type\":\"async_block\"},\"id\":\"9359204783744653280\",\"handlers\":{\"loading\":[\"(function (val){return (val!=this.model[\\\"loading\\\"]()) ? (this.valueFromJulia[\\\"loading\\\"]=true, this.model[\\\"loading\\\"](val)) : undefined})\"],\"clicks\":[\"(function (val){return (val!=this.model[\\\"clicks\\\"]()) ? (this.valueFromJulia[\\\"clicks\\\"]=true, this.model[\\\"clicks\\\"](val)) : undefined})\"]},\"systemjs_options\":null,\"mount_callbacks\":[\"function () {\\n    var handler = (function (ko, koPunches) {\\n    ko.punches.enableAll();\\n    ko.bindingHandlers.numericValue = {\\n        init: function(element, valueAccessor, allBindings, data, context) {\\n            var stringified = ko.observable(ko.unwrap(valueAccessor()));\\n            stringified.subscribe(function(value) {\\n                var val = parseFloat(value);\\n                if (!isNaN(val)) {\\n                    valueAccessor()(val);\\n                }\\n            });\\n            valueAccessor().subscribe(function(value) {\\n                var str = JSON.stringify(value);\\n                if ((str == \\\"0\\\") && ([\\\"-0\\\", \\\"-0.\\\"].indexOf(stringified()) >= 0))\\n                     return;\\n                 if ([\\\"null\\\", \\\"\\\"].indexOf(str) >= 0)\\n                     return;\\n                stringified(str);\\n            });\\n            ko.applyBindingsToNode(\\n                element,\\n                {\\n                    value: stringified,\\n                    valueUpdate: allBindings.get('valueUpdate'),\\n                },\\n                context,\\n            );\\n        }\\n    };\\n    var json_data = {\\\"loading\\\":WebIO.getval({\\\"name\\\":\\\"loading\\\",\\\"scope\\\":\\\"9359204783744653280\\\",\\\"id\\\":\\\"12442985410481440145\\\",\\\"type\\\":\\\"observable\\\"}),\\\"clicks\\\":WebIO.getval({\\\"name\\\":\\\"clicks\\\",\\\"scope\\\":\\\"9359204783744653280\\\",\\\"id\\\":\\\"10609225779451773599\\\",\\\"type\\\":\\\"observable\\\"})};\\n    var self = this;\\n    function AppViewModel() {\\n        for (var key in json_data) {\\n            var el = json_data[key];\\n            this[key] = Array.isArray(el) ? ko.observableArray(el) : ko.observable(el);\\n        }\\n        \\n        \\n        [this[\\\"loading\\\"].subscribe((function (val){!(this.valueFromJulia[\\\"loading\\\"]) ? (WebIO.setval({\\\"name\\\":\\\"loading\\\",\\\"scope\\\":\\\"9359204783744653280\\\",\\\"id\\\":\\\"12442985410481440145\\\",\\\"type\\\":\\\"observable\\\"},val)) : undefined; return this.valueFromJulia[\\\"loading\\\"]=false}),self),this[\\\"clicks\\\"].subscribe((function (val){!(this.valueFromJulia[\\\"clicks\\\"]) ? (WebIO.setval({\\\"name\\\":\\\"clicks\\\",\\\"scope\\\":\\\"9359204783744653280\\\",\\\"id\\\":\\\"10609225779451773599\\\",\\\"type\\\":\\\"observable\\\"},val)) : undefined; return this.valueFromJulia[\\\"clicks\\\"]=false}),self)]\\n        \\n    }\\n    self.model = new AppViewModel();\\n    self.valueFromJulia = {};\\n    for (var key in json_data) {\\n        self.valueFromJulia[key] = false;\\n    }\\n    ko.applyBindings(self.model, self.dom);\\n}\\n);\\n    (WebIO.importBlock({\\\"data\\\":[{\\\"name\\\":\\\"knockout\\\",\\\"type\\\":\\\"js\\\",\\\"url\\\":\\\"\\/assetserver\\/727383f2a47bd31570b7da84eee7b022dd6d7c78-knockout.js\\\"},{\\\"name\\\":\\\"knockout_punches\\\",\\\"type\\\":\\\"js\\\",\\\"url\\\":\\\"\\/assetserver\\/382b41b3b1bd9f26f75861d360bad7f8beea211f-knockout_punches.js\\\"}],\\\"type\\\":\\\"async_block\\\"})).then((imports) => handler.apply(this, imports));\\n}\\n\"],\"observables\":{\"loading\":{\"sync\":false,\"id\":\"12442985410481440145\",\"value\":false},\"clicks\":{\"sync\":true,\"id\":\"10609225779451773599\",\"value\":0}}},\"children\":[{\"props\":{\"attributes\":{\"data-bind\":\"click: function (){this.clicks(this.clicks()+1)}, css: {'is-loading' : loading}\"},\"className\":\"is-medium button is-primary\",\"style\":{}},\"nodeType\":\"DOM\",\"type\":\"node\",\"instanceArgs\":{\"namespace\":\"html\",\"tag\":\"button\"},\"children\":[\"run\"]}]}]},{\"props\":{\"className\":\"interact-widget\"},\"nodeType\":\"DOM\",\"type\":\"node\",\"instanceArgs\":{\"namespace\":\"html\",\"tag\":\"div\"},\"children\":[{\"props\":{},\"nodeType\":\"Scope\",\"type\":\"node\",\"instanceArgs\":{\"imports\":{\"data\":[{\"name\":null,\"type\":\"js\",\"url\":\"\\/assetserver\\/dd22ed1bf1896c2748f3fe616ce0b838adc895c1-katex.min.js\"},{\"name\":null,\"type\":\"css\",\"url\":\"\\/assetserver\\/46517a424aa5e6cffc1360d7e0848b601c584ee3-katex.min.css\"}],\"type\":\"async_block\"},\"id\":\"7562002161545707687\",\"handlers\":{\"value\":[\"(function (txt){return this.k.render(txt,this.container)})\"]},\"systemjs_options\":null,\"mount_callbacks\":[\"function () {\\n    var handler = ((function (k){this.k=k; this.container=this.dom.querySelector(\\\"#container\\\"); return k.render(\\\"\\\\\\\\;\\\\\\\\;\\\",this.container)}));\\n    (WebIO.importBlock({\\\"data\\\":[{\\\"name\\\":null,\\\"type\\\":\\\"js\\\",\\\"url\\\":\\\"\\/assetserver\\/dd22ed1bf1896c2748f3fe616ce0b838adc895c1-katex.min.js\\\"},{\\\"name\\\":null,\\\"type\\\":\\\"css\\\",\\\"url\\\":\\\"\\/assetserver\\/46517a424aa5e6cffc1360d7e0848b601c584ee3-katex.min.css\\\"}],\\\"type\\\":\\\"async_block\\\"})).then((imports) => handler.apply(this, imports));\\n}\\n\"],\"observables\":{\"value\":{\"sync\":false,\"id\":\"17681487615241356976\",\"value\":\"\\\\;\\\\;\"}}},\"children\":[{\"props\":{\"id\":\"container\"},\"nodeType\":\"DOM\",\"type\":\"node\",\"instanceArgs\":{\"namespace\":\"html\",\"tag\":\"div\"},\"children\":[]}]}]},{\"props\":{\"className\":\"field interact-widget\"},\"nodeType\":\"DOM\",\"type\":\"node\",\"instanceArgs\":{\"namespace\":\"html\",\"tag\":\"div\"},\"children\":[{\"props\":{},\"nodeType\":\"Scope\",\"type\":\"node\",\"instanceArgs\":{\"imports\":{\"data\":[{\"name\":\"knockout\",\"type\":\"js\",\"url\":\"\\/assetserver\\/727383f2a47bd31570b7da84eee7b022dd6d7c78-knockout.js\"},{\"name\":\"knockout_punches\",\"type\":\"js\",\"url\":\"\\/assetserver\\/382b41b3b1bd9f26f75861d360bad7f8beea211f-knockout_punches.js\"},{\"name\":null,\"type\":\"js\",\"url\":\"\\/assetserver\\/5ab20f1060420992a9b82a65b735dee4d81ef413-all.js\"},{\"name\":null,\"type\":\"css\",\"url\":\"\\/assetserver\\/1cc0ed62837210b80a182cc3676512f895dab686-style.css\"},{\"name\":null,\"type\":\"css\",\"url\":\"\\/assetserver\\/2eee816f616df3549d7044d45e744fbf8d42bfa1-bulma_confined.min.css\"}],\"type\":\"async_block\"},\"id\":\"16373768999305920469\",\"handlers\":{\"loading\":[\"(function (val){return (val!=this.model[\\\"loading\\\"]()) ? (this.valueFromJulia[\\\"loading\\\"]=true, this.model[\\\"loading\\\"](val)) : undefined})\"],\"clicks\":[\"(function (val){return (val!=this.model[\\\"clicks\\\"]()) ? (this.valueFromJulia[\\\"clicks\\\"]=true, this.model[\\\"clicks\\\"](val)) : undefined})\"]},\"systemjs_options\":null,\"mount_callbacks\":[\"function () {\\n    var handler = (function (ko, koPunches) {\\n    ko.punches.enableAll();\\n    ko.bindingHandlers.numericValue = {\\n        init: function(element, valueAccessor, allBindings, data, context) {\\n            var stringified = ko.observable(ko.unwrap(valueAccessor()));\\n            stringified.subscribe(function(value) {\\n                var val = parseFloat(value);\\n                if (!isNaN(val)) {\\n                    valueAccessor()(val);\\n                }\\n            });\\n            valueAccessor().subscribe(function(value) {\\n                var str = JSON.stringify(value);\\n                if ((str == \\\"0\\\") && ([\\\"-0\\\", \\\"-0.\\\"].indexOf(stringified()) >= 0))\\n                     return;\\n                 if ([\\\"null\\\", \\\"\\\"].indexOf(str) >= 0)\\n                     return;\\n                stringified(str);\\n            });\\n            ko.applyBindingsToNode(\\n                element,\\n                {\\n                    value: stringified,\\n                    valueUpdate: allBindings.get('valueUpdate'),\\n                },\\n                context,\\n            );\\n        }\\n    };\\n    var json_data = {\\\"loading\\\":WebIO.getval({\\\"name\\\":\\\"loading\\\",\\\"scope\\\":\\\"16373768999305920469\\\",\\\"id\\\":\\\"3809837213615320560\\\",\\\"type\\\":\\\"observable\\\"}),\\\"clicks\\\":WebIO.getval({\\\"name\\\":\\\"clicks\\\",\\\"scope\\\":\\\"16373768999305920469\\\",\\\"id\\\":\\\"16949373422911565931\\\",\\\"type\\\":\\\"observable\\\"})};\\n    var self = this;\\n    function AppViewModel() {\\n        for (var key in json_data) {\\n            var el = json_data[key];\\n            this[key] = Array.isArray(el) ? ko.observableArray(el) : ko.observable(el);\\n        }\\n        \\n        \\n        [this[\\\"loading\\\"].subscribe((function (val){!(this.valueFromJulia[\\\"loading\\\"]) ? (WebIO.setval({\\\"name\\\":\\\"loading\\\",\\\"scope\\\":\\\"16373768999305920469\\\",\\\"id\\\":\\\"3809837213615320560\\\",\\\"type\\\":\\\"observable\\\"},val)) : undefined; return this.valueFromJulia[\\\"loading\\\"]=false}),self),this[\\\"clicks\\\"].subscribe((function (val){!(this.valueFromJulia[\\\"clicks\\\"]) ? (WebIO.setval({\\\"name\\\":\\\"clicks\\\",\\\"scope\\\":\\\"16373768999305920469\\\",\\\"id\\\":\\\"16949373422911565931\\\",\\\"type\\\":\\\"observable\\\"},val)) : undefined; return this.valueFromJulia[\\\"clicks\\\"]=false}),self)]\\n        \\n    }\\n    self.model = new AppViewModel();\\n    self.valueFromJulia = {};\\n    for (var key in json_data) {\\n        self.valueFromJulia[key] = false;\\n    }\\n    ko.applyBindings(self.model, self.dom);\\n}\\n);\\n    (WebIO.importBlock({\\\"data\\\":[{\\\"name\\\":\\\"knockout\\\",\\\"type\\\":\\\"js\\\",\\\"url\\\":\\\"\\/assetserver\\/727383f2a47bd31570b7da84eee7b022dd6d7c78-knockout.js\\\"},{\\\"name\\\":\\\"knockout_punches\\\",\\\"type\\\":\\\"js\\\",\\\"url\\\":\\\"\\/assetserver\\/382b41b3b1bd9f26f75861d360bad7f8beea211f-knockout_punches.js\\\"}],\\\"type\\\":\\\"async_block\\\"})).then((imports) => handler.apply(this, imports));\\n}\\n\"],\"observables\":{\"loading\":{\"sync\":false,\"id\":\"3809837213615320560\",\"value\":false},\"clicks\":{\"sync\":true,\"id\":\"16949373422911565931\",\"value\":0}}},\"children\":[{\"props\":{\"attributes\":{\"data-bind\":\"click: function (){this.clicks(this.clicks()+1)}, css: {'is-loading' : loading}\"},\"className\":\"is-medium button is-primary\",\"style\":{}},\"nodeType\":\"DOM\",\"type\":\"node\",\"instanceArgs\":{\"namespace\":\"html\",\"tag\":\"button\"},\"children\":[\"stop\"]}]}]},{\"props\":{\"className\":\"interact-widget\"},\"nodeType\":\"DOM\",\"type\":\"node\",\"instanceArgs\":{\"namespace\":\"html\",\"tag\":\"div\"},\"children\":[{\"props\":{},\"nodeType\":\"Scope\",\"type\":\"node\",\"instanceArgs\":{\"imports\":{\"data\":[{\"name\":null,\"type\":\"js\",\"url\":\"\\/assetserver\\/dd22ed1bf1896c2748f3fe616ce0b838adc895c1-katex.min.js\"},{\"name\":null,\"type\":\"css\",\"url\":\"\\/assetserver\\/46517a424aa5e6cffc1360d7e0848b601c584ee3-katex.min.css\"}],\"type\":\"async_block\"},\"id\":\"7562002161545707687\",\"handlers\":{\"value\":[\"(function (txt){return this.k.render(txt,this.container)})\"]},\"systemjs_options\":null,\"mount_callbacks\":[\"function () {\\n    var handler = ((function (k){this.k=k; this.container=this.dom.querySelector(\\\"#container\\\"); return k.render(\\\"\\\\\\\\;\\\\\\\\;\\\",this.container)}));\\n    (WebIO.importBlock({\\\"data\\\":[{\\\"name\\\":null,\\\"type\\\":\\\"js\\\",\\\"url\\\":\\\"\\/assetserver\\/dd22ed1bf1896c2748f3fe616ce0b838adc895c1-katex.min.js\\\"},{\\\"name\\\":null,\\\"type\\\":\\\"css\\\",\\\"url\\\":\\\"\\/assetserver\\/46517a424aa5e6cffc1360d7e0848b601c584ee3-katex.min.css\\\"}],\\\"type\\\":\\\"async_block\\\"})).then((imports) => handler.apply(this, imports));\\n}\\n\"],\"observables\":{\"value\":{\"sync\":false,\"id\":\"17681487615241356976\",\"value\":\"\\\\;\\\\;\"}}},\"children\":[{\"props\":{\"id\":\"container\"},\"nodeType\":\"DOM\",\"type\":\"node\",\"instanceArgs\":{\"namespace\":\"html\",\"tag\":\"div\"},\"children\":[]}]}]},{\"props\":{\"className\":\"field interact-widget\"},\"nodeType\":\"DOM\",\"type\":\"node\",\"instanceArgs\":{\"namespace\":\"html\",\"tag\":\"div\"},\"children\":[{\"props\":{},\"nodeType\":\"Scope\",\"type\":\"node\",\"instanceArgs\":{\"imports\":{\"data\":[{\"name\":\"knockout\",\"type\":\"js\",\"url\":\"\\/assetserver\\/727383f2a47bd31570b7da84eee7b022dd6d7c78-knockout.js\"},{\"name\":\"knockout_punches\",\"type\":\"js\",\"url\":\"\\/assetserver\\/382b41b3b1bd9f26f75861d360bad7f8beea211f-knockout_punches.js\"},{\"name\":null,\"type\":\"js\",\"url\":\"\\/assetserver\\/5ab20f1060420992a9b82a65b735dee4d81ef413-all.js\"},{\"name\":null,\"type\":\"css\",\"url\":\"\\/assetserver\\/1cc0ed62837210b80a182cc3676512f895dab686-style.css\"},{\"name\":null,\"type\":\"css\",\"url\":\"\\/assetserver\\/2eee816f616df3549d7044d45e744fbf8d42bfa1-bulma_confined.min.css\"}],\"type\":\"async_block\"},\"id\":\"8715050362239074035\",\"handlers\":{\"loading\":[\"(function (val){return (val!=this.model[\\\"loading\\\"]()) ? (this.valueFromJulia[\\\"loading\\\"]=true, this.model[\\\"loading\\\"](val)) : undefined})\"],\"clicks\":[\"(function (val){return (val!=this.model[\\\"clicks\\\"]()) ? (this.valueFromJulia[\\\"clicks\\\"]=true, this.model[\\\"clicks\\\"](val)) : undefined})\"]},\"systemjs_options\":null,\"mount_callbacks\":[\"function () {\\n    var handler = (function (ko, koPunches) {\\n    ko.punches.enableAll();\\n    ko.bindingHandlers.numericValue = {\\n        init: function(element, valueAccessor, allBindings, data, context) {\\n            var stringified = ko.observable(ko.unwrap(valueAccessor()));\\n            stringified.subscribe(function(value) {\\n                var val = parseFloat(value);\\n                if (!isNaN(val)) {\\n                    valueAccessor()(val);\\n                }\\n            });\\n            valueAccessor().subscribe(function(value) {\\n                var str = JSON.stringify(value);\\n                if ((str == \\\"0\\\") && ([\\\"-0\\\", \\\"-0.\\\"].indexOf(stringified()) >= 0))\\n                     return;\\n                 if ([\\\"null\\\", \\\"\\\"].indexOf(str) >= 0)\\n                     return;\\n                stringified(str);\\n            });\\n            ko.applyBindingsToNode(\\n                element,\\n                {\\n                    value: stringified,\\n                    valueUpdate: allBindings.get('valueUpdate'),\\n                },\\n                context,\\n            );\\n        }\\n    };\\n    var json_data = {\\\"loading\\\":WebIO.getval({\\\"name\\\":\\\"loading\\\",\\\"scope\\\":\\\"8715050362239074035\\\",\\\"id\\\":\\\"5381142837002566911\\\",\\\"type\\\":\\\"observable\\\"}),\\\"clicks\\\":WebIO.getval({\\\"name\\\":\\\"clicks\\\",\\\"scope\\\":\\\"8715050362239074035\\\",\\\"id\\\":\\\"3918569879186069781\\\",\\\"type\\\":\\\"observable\\\"})};\\n    var self = this;\\n    function AppViewModel() {\\n        for (var key in json_data) {\\n            var el = json_data[key];\\n            this[key] = Array.isArray(el) ? ko.observableArray(el) : ko.observable(el);\\n        }\\n        \\n        \\n        [this[\\\"loading\\\"].subscribe((function (val){!(this.valueFromJulia[\\\"loading\\\"]) ? (WebIO.setval({\\\"name\\\":\\\"loading\\\",\\\"scope\\\":\\\"8715050362239074035\\\",\\\"id\\\":\\\"5381142837002566911\\\",\\\"type\\\":\\\"observable\\\"},val)) : undefined; return this.valueFromJulia[\\\"loading\\\"]=false}),self),this[\\\"clicks\\\"].subscribe((function (val){!(this.valueFromJulia[\\\"clicks\\\"]) ? (WebIO.setval({\\\"name\\\":\\\"clicks\\\",\\\"scope\\\":\\\"8715050362239074035\\\",\\\"id\\\":\\\"3918569879186069781\\\",\\\"type\\\":\\\"observable\\\"},val)) : undefined; return this.valueFromJulia[\\\"clicks\\\"]=false}),self)]\\n        \\n    }\\n    self.model = new AppViewModel();\\n    self.valueFromJulia = {};\\n    for (var key in json_data) {\\n        self.valueFromJulia[key] = false;\\n    }\\n    ko.applyBindings(self.model, self.dom);\\n}\\n);\\n    (WebIO.importBlock({\\\"data\\\":[{\\\"name\\\":\\\"knockout\\\",\\\"type\\\":\\\"js\\\",\\\"url\\\":\\\"\\/assetserver\\/727383f2a47bd31570b7da84eee7b022dd6d7c78-knockout.js\\\"},{\\\"name\\\":\\\"knockout_punches\\\",\\\"type\\\":\\\"js\\\",\\\"url\\\":\\\"\\/assetserver\\/382b41b3b1bd9f26f75861d360bad7f8beea211f-knockout_punches.js\\\"}],\\\"type\\\":\\\"async_block\\\"})).then((imports) => handler.apply(this, imports));\\n}\\n\"],\"observables\":{\"loading\":{\"sync\":false,\"id\":\"5381142837002566911\",\"value\":false},\"clicks\":{\"sync\":true,\"id\":\"3918569879186069781\",\"value\":0}}},\"children\":[{\"props\":{\"attributes\":{\"data-bind\":\"click: function (){this.clicks(this.clicks()+1)}, css: {'is-loading' : loading}\"},\"className\":\"is-medium button is-primary\",\"style\":{}},\"nodeType\":\"DOM\",\"type\":\"node\",\"instanceArgs\":{\"namespace\":\"html\",\"tag\":\"button\"},\"children\":[\"reset\"]}]}]}]}]},{\"props\":{},\"nodeType\":\"Scope\",\"type\":\"node\",\"instanceArgs\":{\"imports\":{\"data\":[],\"type\":\"async_block\"},\"id\":\"465473992660193278\",\"handlers\":{\"obs-output\":[\"function (value, scope) {\\n    scope.setInnerHTML(value);\\n}\\n\"]},\"systemjs_options\":null,\"mount_callbacks\":[],\"observables\":{\"obs-output\":{\"sync\":false,\"id\":\"4734547909940479857\",\"value\":\"    <div style=\\\"height: 500px; width: 100%; overflow-x: auto; overflow-y: hidden; resize: both\\\">\\n    <iframe src=\\\"http:\\/\\/127.0.0.1:8718\\\" style=\\\"width: 100%; height: 100%; border: none\\\"><\\/iframe>\\n    <\\/div>\\n\"}}},\"children\":[{\"props\":{\"className\":\"webio-observable\",\"setInnerHtml\":\"    <div style=\\\"height: 500px; width: 100%; overflow-x: auto; overflow-y: hidden; resize: both\\\">\\n    <iframe src=\\\"http:\\/\\/127.0.0.1:8718\\\" style=\\\"width: 100%; height: 100%; border: none\\\"><\\/iframe>\\n    <\\/div>\\n\"},\"nodeType\":\"DOM\",\"type\":\"node\",\"instanceArgs\":{\"namespace\":\"html\",\"tag\":\"div\"},\"children\":[]}]},{\"props\":{\"className\":\"interact-widget\"},\"nodeType\":\"DOM\",\"type\":\"node\",\"instanceArgs\":{\"namespace\":\"html\",\"tag\":\"div\"},\"children\":[{\"props\":{},\"nodeType\":\"Scope\",\"type\":\"node\",\"instanceArgs\":{\"imports\":{\"data\":[{\"name\":null,\"type\":\"js\",\"url\":\"\\/assetserver\\/dd22ed1bf1896c2748f3fe616ce0b838adc895c1-katex.min.js\"},{\"name\":null,\"type\":\"css\",\"url\":\"\\/assetserver\\/46517a424aa5e6cffc1360d7e0848b601c584ee3-katex.min.css\"}],\"type\":\"async_block\"},\"id\":\"7562002161545707687\",\"handlers\":{\"value\":[\"(function (txt){return this.k.render(txt,this.container)})\"]},\"systemjs_options\":null,\"mount_callbacks\":[\"function () {\\n    var handler = ((function (k){this.k=k; this.container=this.dom.querySelector(\\\"#container\\\"); return k.render(\\\"\\\\\\\\;\\\\\\\\;\\\",this.container)}));\\n    (WebIO.importBlock({\\\"data\\\":[{\\\"name\\\":null,\\\"type\\\":\\\"js\\\",\\\"url\\\":\\\"\\/assetserver\\/dd22ed1bf1896c2748f3fe616ce0b838adc895c1-katex.min.js\\\"},{\\\"name\\\":null,\\\"type\\\":\\\"css\\\",\\\"url\\\":\\\"\\/assetserver\\/46517a424aa5e6cffc1360d7e0848b601c584ee3-katex.min.css\\\"}],\\\"type\\\":\\\"async_block\\\"})).then((imports) => handler.apply(this, imports));\\n}\\n\"],\"observables\":{\"value\":{\"sync\":false,\"id\":\"17681487615241356976\",\"value\":\"\\\\;\\\\;\"}}},\"children\":[{\"props\":{\"id\":\"container\"},\"nodeType\":\"DOM\",\"type\":\"node\",\"instanceArgs\":{\"namespace\":\"html\",\"tag\":\"div\"},\"children\":[]}]}]},{\"props\":{\"style\":{\"display\":\"flex\",\"flex-direction\":\"column\"}},\"nodeType\":\"DOM\",\"type\":\"node\",\"instanceArgs\":{\"namespace\":\"html\",\"tag\":\"div\"},\"children\":[]}]}]},\n",
       "        window,\n",
       "    );\n",
       "    })()\n",
       "    </script>\n",
       "</div>\n"
      ],
      "text/plain": [
       "WebIO.Node{WebIO.DOM}(WebIO.DOM(:html, :div), Any[WebIO.Node{WebIO.DOM}(WebIO.DOM(:html, :div), Any[WebIO.Node{WebIO.DOM}(WebIO.DOM(:html, :div), Any[WebIO.Node{WebIO.DOM}(WebIO.DOM(:html, :div), Any[WebIO.Scope(WebIO.Node{WebIO.DOM}(WebIO.DOM(:html, :div), Any[WebIO.Node{WebIO.DOM}(WebIO.DOM(:html, :div), Any[WebIO.Node{WebIO.DOM}(WebIO.DOM(:html, :label), Any[\"time\"], Dict{Symbol, Any}(:className => \"interact \", :style => Dict{Any, Any}(:padding => \"5px 10px 0px 10px\")))], Dict{Symbol, Any}(:className => \"interact-flex-row-left\")), WebIO.Node{WebIO.DOM}(WebIO.DOM(:html, :div), Any[WebIO.Node{WebIO.DOM}(WebIO.DOM(:html, :input), Any[], Dict{Symbol, Any}(:max => 100, :min => 1, :attributes => Dict{Any, Any}(:type => \"range\", Symbol(\"data-bind\") => \"numericValue: index, valueUpdate: 'input', event: {change: function (){this.changes(this.changes()+1)}}\", \"orient\" => \"horizontal\"), :step => 1, :className => \"slider slider is-fullwidth\", :style => Dict{Any, Any}()))], Dict{Symbol, Any}(:className => \"interact-flex-row-center\")), WebIO.Node{WebIO.DOM}(WebIO.DOM(:html, :div), Any[WebIO.Node{WebIO.DOM}(WebIO.DOM(:html, :p), Any[], Dict{Symbol, Any}(:attributes => Dict(\"data-bind\" => \"text: formatted_val\")))], Dict{Symbol, Any}(:className => \"interact-flex-row-right\"))], Dict{Symbol, Any}(:className => \"interact-flex-row interact-widget\")), Dict{String, Tuple{Observables.AbstractObservable, Union{Nothing, Bool}}}(\"changes\" => (Observable(0), nothing), \"index\" => (Observable(1), nothing)), Set{String}(), nothing, WebIO.Asset[WebIO.Asset(\"js\", \"knockout\", \"/home/dushya/.julia/packages/Knockout/HReiN/src/../assets/knockout.js\"), WebIO.Asset(\"js\", \"knockout_punches\", \"/home/dushya/.julia/packages/Knockout/HReiN/src/../assets/knockout_punches.js\"), WebIO.Asset(\"js\", nothing, \"/home/dushya/.julia/packages/InteractBase/LJXv3/src/../assets/all.js\"), WebIO.Asset(\"css\", nothing, \"/home/dushya/.julia/packages/InteractBase/LJXv3/src/../assets/style.css\"), WebIO.Asset(\"css\", nothing, \"/home/dushya/.julia/packages/Interact/PENUy/src/../assets/bulma_confined.min.css\")], Dict{Any, Any}(\"changes\" => Any[WebIO.JSString(\"(function (val){return (val!=this.model[\\\"changes\\\"]()) ? (this.valueFromJulia[\\\"changes\\\"]=true, this.model[\\\"changes\\\"](val)) : undefined})\")], \"index\" => Any[WebIO.JSString(\"(function (val){return (val!=this.model[\\\"index\\\"]()) ? (this.valueFromJulia[\\\"index\\\"]=true, this.model[\\\"index\\\"](val)) : undefined})\")]), WebIO.ConnectionPool(Channel{Any}(32), Set{WebIO.AbstractConnection}(), Base.GenericCondition{ReentrantLock}(Base.IntrusiveLinkedList{Task}(Task (runnable) @0x00007fcee85d7080, Task (runnable) @0x00007fcee85d7080), ReentrantLock(nothing, 0x00000000, 0x00, Base.GenericCondition{Base.Threads.SpinLock}(Base.IntrusiveLinkedList{Task}(nothing, nothing), Base.Threads.SpinLock(0)), (0, 140527463490840, 0)))), WebIO.JSString[WebIO.JSString(\"function () {\\n    var handler = (function (ko, koPunches) {\\n    ko.punches.enableAll();\\n    ko.bindingHandlers.numericValue = {\\n        init: function(element, valueAccessor, allBindings, data, context) {\\n            var stringified = ko.observable(ko.unwrap(valueAccessor()));\\n            stringified.subscribe(function(value) {\\n                var val = parseFloat(value);\\n                if (!isNaN(val)) {\\n                    valueAccessor()(val);\\n                }\\n            });\\n            valueAccessor().subscribe(function(value) {\\n                var str = JSON.stringify(value);\\n                if ((str == \\\"0\\\") && ([\\\"-0\\\", \\\"-0.\\\"].indexOf(stringified()) >= 0))\\n                     return;\\n                 if ([\\\"null\\\", \\\"\\\"].indexOf(str) >= 0)\\n                     return;\\n                stringified(str);\\n            });\\n            ko.applyBindingsToNode(\\n                element,\\n                {\\n                    value: stringified,\\n                    valueUpdate: allBindings.get('valueUpdate'),\\n                },\\n                context,\\n            );\\n        }\\n    };\\n    var json_data = {\\\"formatted_vals\\\":[\\\"1\\\",\\\"2\\\",\\\"3\\\",\\\"4\\\",\\\"5\\\",\\\"6\\\",\\\"7\\\",\\\"8\\\",\\\"9\\\",\\\"10\\\",\\\"11\\\",\\\"12\\\",\\\"13\\\",\\\"14\\\",\\\"15\\\",\\\"16\\\",\\\"17\\\",\\\"18\\\",\\\"19\\\",\\\"20\\\",\\\"21\\\",\\\"22\\\",\\\"23\\\",\\\"24\\\",\\\"25\\\",\\\"26\\\",\\\"27\\\",\\\"28\\\",\\\"29\\\",\\\"30\\\",\\\"31\\\",\\\"32\\\",\\\"33\\\",\\\"34\\\",\\\"35\\\",\\\"36\\\",\\\"37\\\",\\\"38\\\",\\\"39\\\",\\\"40\\\",\\\"41\\\",\\\"42\\\",\\\"43\\\",\\\"44\\\",\\\"45\\\",\\\"46\\\",\\\"47\\\",\\\"48\\\",\\\"49\\\",\\\"50\\\",\\\"51\\\",\\\"52\\\",\\\"53\\\",\\\"54\\\",\\\"55\\\",\\\"56\\\",\\\"57\\\",\\\"58\\\",\\\"59\\\",\\\"60\\\",\\\"61\\\",\\\"62\\\",\\\"63\\\",\\\"64\\\",\\\"65\\\",\\\"66\\\",\\\"67\\\",\\\"68\\\",\\\"69\\\",\\\"70\\\",\\\"71\\\",\\\"72\\\",\\\"73\\\",\\\"74\\\",\\\"75\\\",\\\"76\\\",\\\"77\\\",\\\"78\\\",\\\"79\\\",\\\"80\\\",\\\"81\\\",\\\"82\\\",\\\"83\\\",\\\"84\\\",\\\"85\\\",\\\"86\\\",\\\"87\\\",\\\"88\\\",\\\"89\\\",\\\"90\\\",\\\"91\\\",\\\"92\\\",\\\"93\\\",\\\"94\\\",\\\"95\\\",\\\"96\\\",\\\"97\\\",\\\"98\\\",\\\"99\\\",\\\"100\\\"],\\\"changes\\\":WebIO.getval({\\\"name\\\":\\\"changes\\\",\\\"scope\\\":\\\"403314561391904672\\\",\\\"id\\\":\\\"5049839498551058096\\\",\\\"type\\\":\\\"observable\\\"}),\\\"index\\\":WebIO.getval({\\\"name\\\":\\\"index\\\",\\\"scope\\\":\\\"403314561391904672\\\",\\\"id\\\":\\\"711536622611550635\\\",\\\"type\\\":\\\"observable\\\"})};\\n    var self = this;\\n    function AppViewModel() {\\n        for (var key in json_data) {\\n            var el = json_data[key];\\n            this[key] = Array.isArray(el) ? ko.observableArray(el) : ko.observable(el);\\n        }\\n        \\n        [this[\\\"formatted_val\\\"]=ko.computed(    function(){\\n        return this.formatted_vals()[parseInt(this.index())-(1)];\\n    }\\n,this)]\\n        [this[\\\"changes\\\"].subscribe((function (val){!(this.valueFromJulia[\\\"changes\\\"]) ? (WebIO.setval({\\\"name\\\":\\\"changes\\\",\\\"scope\\\":\\\"403314561391904672\\\",\\\"id\\\":\\\"5049839498551058096\\\",\\\"type\\\":\\\"observable\\\"},val)) : undefined; return this.valueFromJulia[\\\"changes\\\"]=false}),self),this[\\\"index\\\"].subscribe((function (val){!(this.valueFromJulia[\\\"index\\\"]) ? (WebIO.setval({\\\"name\\\":\\\"index\\\",\\\"scope\\\":\\\"403314561391904672\\\",\\\"id\\\":\\\"711536622611550635\\\",\\\"type\\\":\\\"observable\\\"},val)) : undefined; return this.valueFromJulia[\\\"index\\\"]=false}),self)]\\n        \\n    }\\n    self.model = new AppViewModel();\\n    self.valueFromJulia = {};\\n    for (var key in json_data) {\\n        self.valueFromJulia[key] = false;\\n    }\\n    ko.applyBindings(self.model, self.dom);\\n}\\n);\\n    (WebIO.importBlock({\\\"data\\\":[{\\\"name\\\":\\\"knockout\\\",\\\"type\\\":\\\"js\\\",\\\"url\\\":\\\"/assetserver/727383f2a47bd31570b7da84eee7b022dd6d7c78-knockout.js\\\"},{\\\"name\\\":\\\"knockout_punches\\\",\\\"type\\\":\\\"js\\\",\\\"url\\\":\\\"/assetserver/382b41b3b1bd9f26f75861d360bad7f8beea211f-knockout_punches.js\\\"}],\\\"type\\\":\\\"async_block\\\"})).then((imports) => handler.apply(this, imports));\\n}\\n\")])], Dict{Symbol, Any}(:className => \"field interact-widget\")), WebIO.Node{WebIO.DOM}(WebIO.DOM(:html, :div), Any[WebIO.Scope(WebIO.Node{WebIO.DOM}(WebIO.DOM(:html, :div), Any[WebIO.Node{WebIO.DOM}(WebIO.DOM(:html, :div), Any[WebIO.Node{WebIO.DOM}(WebIO.DOM(:html, :label), Any[\"scale\"], Dict{Symbol, Any}(:className => \"interact \", :style => Dict{Any, Any}(:padding => \"5px 10px 0px 10px\")))], Dict{Symbol, Any}(:className => \"interact-flex-row-left\")), WebIO.Node{WebIO.DOM}(WebIO.DOM(:html, :div), Any[WebIO.Node{WebIO.DOM}(WebIO.DOM(:html, :input), Any[], Dict{Symbol, Any}(:max => 20, :min => 1, :attributes => Dict{Any, Any}(:type => \"range\", Symbol(\"data-bind\") => \"numericValue: index, valueUpdate: 'input', event: {change: function (){this.changes(this.changes()+1)}}\", \"orient\" => \"horizontal\"), :step => 1, :className => \"slider slider is-fullwidth\", :style => Dict{Any, Any}()))], Dict{Symbol, Any}(:className => \"interact-flex-row-center\")), WebIO.Node{WebIO.DOM}(WebIO.DOM(:html, :div), Any[WebIO.Node{WebIO.DOM}(WebIO.DOM(:html, :p), Any[], Dict{Symbol, Any}(:attributes => Dict(\"data-bind\" => \"text: formatted_val\")))], Dict{Symbol, Any}(:className => \"interact-flex-row-right\"))], Dict{Symbol, Any}(:className => \"interact-flex-row interact-widget\")), Dict{String, Tuple{Observables.AbstractObservable, Union{Nothing, Bool}}}(\"changes\" => (Observable(0), nothing), \"index\" => (Observable{Any}(10), nothing)), Set{String}(), nothing, WebIO.Asset[WebIO.Asset(\"js\", \"knockout\", \"/home/dushya/.julia/packages/Knockout/HReiN/src/../assets/knockout.js\"), WebIO.Asset(\"js\", \"knockout_punches\", \"/home/dushya/.julia/packages/Knockout/HReiN/src/../assets/knockout_punches.js\"), WebIO.Asset(\"js\", nothing, \"/home/dushya/.julia/packages/InteractBase/LJXv3/src/../assets/all.js\"), WebIO.Asset(\"css\", nothing, \"/home/dushya/.julia/packages/InteractBase/LJXv3/src/../assets/style.css\"), WebIO.Asset(\"css\", nothing, \"/home/dushya/.julia/packages/Interact/PENUy/src/../assets/bulma_confined.min.css\")], Dict{Any, Any}(\"changes\" => Any[WebIO.JSString(\"(function (val){return (val!=this.model[\\\"changes\\\"]()) ? (this.valueFromJulia[\\\"changes\\\"]=true, this.model[\\\"changes\\\"](val)) : undefined})\")], \"index\" => Any[WebIO.JSString(\"(function (val){return (val!=this.model[\\\"index\\\"]()) ? (this.valueFromJulia[\\\"index\\\"]=true, this.model[\\\"index\\\"](val)) : undefined})\")]), WebIO.ConnectionPool(Channel{Any}(32), Set{WebIO.AbstractConnection}(), Base.GenericCondition{ReentrantLock}(Base.IntrusiveLinkedList{Task}(Task (runnable) @0x00007fcee8631dc0, Task (runnable) @0x00007fcee8631dc0), ReentrantLock(nothing, 0x00000000, 0x00, Base.GenericCondition{Base.Threads.SpinLock}(Base.IntrusiveLinkedList{Task}(nothing, nothing), Base.Threads.SpinLock(0)), (0, 140527336897552, 1)))), WebIO.JSString[WebIO.JSString(\"function () {\\n    var handler = (function (ko, koPunches) {\\n    ko.punches.enableAll();\\n    ko.bindingHandlers.numericValue = {\\n        init: function(element, valueAccessor, allBindings, data, context) {\\n            var stringified = ko.observable(ko.unwrap(valueAccessor()));\\n            stringified.subscribe(function(value) {\\n                var val = parseFloat(value);\\n                if (!isNaN(val)) {\\n                    valueAccessor()(val);\\n                }\\n            });\\n            valueAccessor().subscribe(function(value) {\\n                var str = JSON.stringify(value);\\n                if ((str == \\\"0\\\") && ([\\\"-0\\\", \\\"-0.\\\"].indexOf(stringified()) >= 0))\\n                     return;\\n                 if ([\\\"null\\\", \\\"\\\"].indexOf(str) >= 0)\\n                     return;\\n                stringified(str);\\n            });\\n            ko.applyBindingsToNode(\\n                element,\\n                {\\n                    value: stringified,\\n                    valueUpdate: allBindings.get('valueUpdate'),\\n                },\\n                context,\\n            );\\n        }\\n    };\\n    var json_data = {\\\"formatted_vals\\\":[\\\"0.1\\\",\\\"0.2\\\",\\\"0.3\\\",\\\"0.4\\\",\\\"0.5\\\",\\\"0.6\\\",\\\"0.7\\\",\\\"0.8\\\",\\\"0.9\\\",\\\"1.0\\\",\\\"1.1\\\",\\\"1.2\\\",\\\"1.3\\\",\\\"1.4\\\",\\\"1.5\\\",\\\"1.6\\\",\\\"1.7\\\",\\\"1.8\\\",\\\"1.9\\\",\\\"2.0\\\"],\\\"changes\\\":WebIO.getval({\\\"name\\\":\\\"changes\\\",\\\"scope\\\":\\\"9642633489702168776\\\",\\\"id\\\":\\\"5433498731028378420\\\",\\\"type\\\":\\\"observable\\\"}),\\\"index\\\":WebIO.getval({\\\"name\\\":\\\"index\\\",\\\"scope\\\":\\\"9642633489702168776\\\",\\\"id\\\":\\\"2052151778532755482\\\",\\\"type\\\":\\\"observable\\\"})};\\n    var self = this;\\n    function AppViewModel() {\\n        for (var key in json_data) {\\n            var el = json_data[key];\\n            this[key] = Array.isArray(el) ? ko.observableArray(el) : ko.observable(el);\\n        }\\n        \\n        [this[\\\"formatted_val\\\"]=ko.computed(    function(){\\n        return this.formatted_vals()[parseInt(this.index())-(1)];\\n    }\\n,this)]\\n        [this[\\\"changes\\\"].subscribe((function (val){!(this.valueFromJulia[\\\"changes\\\"]) ? (WebIO.setval({\\\"name\\\":\\\"changes\\\",\\\"scope\\\":\\\"9642633489702168776\\\",\\\"id\\\":\\\"5433498731028378420\\\",\\\"type\\\":\\\"observable\\\"},val)) : undefined; return this.valueFromJulia[\\\"changes\\\"]=false}),self),this[\\\"index\\\"].subscribe((function (val){!(this.valueFromJulia[\\\"index\\\"]) ? (WebIO.setval({\\\"name\\\":\\\"index\\\",\\\"scope\\\":\\\"9642633489702168776\\\",\\\"id\\\":\\\"2052151778532755482\\\",\\\"type\\\":\\\"observable\\\"},val)) : undefined; return this.valueFromJulia[\\\"index\\\"]=false}),self)]\\n        \\n    }\\n    self.model = new AppViewModel();\\n    self.valueFromJulia = {};\\n    for (var key in json_data) {\\n        self.valueFromJulia[key] = false;\\n    }\\n    ko.applyBindings(self.model, self.dom);\\n}\\n);\\n    (WebIO.importBlock({\\\"data\\\":[{\\\"name\\\":\\\"knockout\\\",\\\"type\\\":\\\"js\\\",\\\"url\\\":\\\"/assetserver/727383f2a47bd31570b7da84eee7b022dd6d7c78-knockout.js\\\"},{\\\"name\\\":\\\"knockout_punches\\\",\\\"type\\\":\\\"js\\\",\\\"url\\\":\\\"/assetserver/382b41b3b1bd9f26f75861d360bad7f8beea211f-knockout_punches.js\\\"}],\\\"type\\\":\\\"async_block\\\"})).then((imports) => handler.apply(this, imports));\\n}\\n\")])], Dict{Symbol, Any}(:className => \"field interact-widget\")), WebIO.Node{WebIO.DOM}(WebIO.DOM(:html, :div), Any[], Dict{Symbol, Any}(:style => Dict(\"display\" => \"flex\", \"flex-direction\" => \"column\"))), WebIO.Node{WebIO.DOM}(WebIO.DOM(:html, :div), Any[WebIO.Node{WebIO.DOM}(WebIO.DOM(:html, :div), Any[WebIO.Scope(WebIO.Node{WebIO.DOM}(WebIO.DOM(:html, :div), Any[WebIO.Node{WebIO.DOM}(WebIO.DOM(:html, :div), Any[WebIO.Node{WebIO.DOM}(WebIO.DOM(:html, :label), Any[\"nns\"], Dict{Symbol, Any}(:className => \"interact \", :style => Dict{Any, Any}(:padding => \"5px 10px 0px 10px\")))], Dict{Symbol, Any}(:className => \"interact-flex-row-left\")), WebIO.Node{WebIO.DOM}(WebIO.DOM(:html, :div), Any[WebIO.Node{WebIO.DOM}(WebIO.DOM(:html, :input), Any[], Dict{Symbol, Any}(:max => 20, :min => 1, :attributes => Dict{Any, Any}(:type => \"range\", Symbol(\"data-bind\") => \"numericValue: index, valueUpdate: 'input', event: {change: function (){this.changes(this.changes()+1)}}\", \"orient\" => \"horizontal\"), :step => 1, :className => \"slider slider is-fullwidth\", :style => Dict{Any, Any}()))], Dict{Symbol, Any}(:className => \"interact-flex-row-center\")), WebIO.Node{WebIO.DOM}(WebIO.DOM(:html, :div), Any[WebIO.Node{WebIO.DOM}(WebIO.DOM(:html, :p), Any[], Dict{Symbol, Any}(:attributes => Dict(\"data-bind\" => \"text: formatted_val\")))], Dict{Symbol, Any}(:className => \"interact-flex-row-right\"))], Dict{Symbol, Any}(:className => \"interact-flex-row interact-widget\")), Dict{String, Tuple{Observables.AbstractObservable, Union{Nothing, Bool}}}(\"changes\" => (Observable(0), nothing), \"index\" => (Observable(10), nothing)), Set{String}(), nothing, WebIO.Asset[WebIO.Asset(\"js\", \"knockout\", \"/home/dushya/.julia/packages/Knockout/HReiN/src/../assets/knockout.js\"), WebIO.Asset(\"js\", \"knockout_punches\", \"/home/dushya/.julia/packages/Knockout/HReiN/src/../assets/knockout_punches.js\"), WebIO.Asset(\"js\", nothing, \"/home/dushya/.julia/packages/InteractBase/LJXv3/src/../assets/all.js\"), WebIO.Asset(\"css\", nothing, \"/home/dushya/.julia/packages/InteractBase/LJXv3/src/../assets/style.css\"), WebIO.Asset(\"css\", nothing, \"/home/dushya/.julia/packages/Interact/PENUy/src/../assets/bulma_confined.min.css\")], Dict{Any, Any}(\"changes\" => Any[WebIO.JSString(\"(function (val){return (val!=this.model[\\\"changes\\\"]()) ? (this.valueFromJulia[\\\"changes\\\"]=true, this.model[\\\"changes\\\"](val)) : undefined})\")], \"index\" => Any[WebIO.JSString(\"(function (val){return (val!=this.model[\\\"index\\\"]()) ? (this.valueFromJulia[\\\"index\\\"]=true, this.model[\\\"index\\\"](val)) : undefined})\")]), WebIO.ConnectionPool(Channel{Any}(32), Set{WebIO.AbstractConnection}(), Base.GenericCondition{ReentrantLock}(Base.IntrusiveLinkedList{Task}(Task (runnable) @0x00007fcee867f9e0, Task (runnable) @0x00007fcee867f9e0), ReentrantLock(nothing, 0x00000000, 0x00, Base.GenericCondition{Base.Threads.SpinLock}(Base.IntrusiveLinkedList{Task}(nothing, nothing), Base.Threads.SpinLock(0)), (326, 140525417582560, 140522739990529)))), WebIO.JSString[WebIO.JSString(\"function () {\\n    var handler = (function (ko, koPunches) {\\n    ko.punches.enableAll();\\n    ko.bindingHandlers.numericValue = {\\n        init: function(element, valueAccessor, allBindings, data, context) {\\n            var stringified = ko.observable(ko.unwrap(valueAccessor()));\\n            stringified.subscribe(function(value) {\\n                var val = parseFloat(value);\\n                if (!isNaN(val)) {\\n                    valueAccessor()(val);\\n                }\\n            });\\n            valueAccessor().subscribe(function(value) {\\n                var str = JSON.stringify(value);\\n                if ((str == \\\"0\\\") && ([\\\"-0\\\", \\\"-0.\\\"].indexOf(stringified()) >= 0))\\n                     return;\\n                 if ([\\\"null\\\", \\\"\\\"].indexOf(str) >= 0)\\n                     return;\\n                stringified(str);\\n            });\\n            ko.applyBindingsToNode(\\n                element,\\n                {\\n                    value: stringified,\\n                    valueUpdate: allBindings.get('valueUpdate'),\\n                },\\n                context,\\n            );\\n        }\\n    };\\n    var json_data = {\\\"formatted_vals\\\":[\\\"1\\\",\\\"2\\\",\\\"3\\\",\\\"4\\\",\\\"5\\\",\\\"6\\\",\\\"7\\\",\\\"8\\\",\\\"9\\\",\\\"10\\\",\\\"11\\\",\\\"12\\\",\\\"13\\\",\\\"14\\\",\\\"15\\\",\\\"16\\\",\\\"17\\\",\\\"18\\\",\\\"19\\\",\\\"20\\\"],\\\"changes\\\":WebIO.getval({\\\"name\\\":\\\"changes\\\",\\\"scope\\\":\\\"8716015372692210323\\\",\\\"id\\\":\\\"17067479489541643322\\\",\\\"type\\\":\\\"observable\\\"}),\\\"index\\\":WebIO.getval({\\\"name\\\":\\\"index\\\",\\\"scope\\\":\\\"8716015372692210323\\\",\\\"id\\\":\\\"2457012741267750759\\\",\\\"type\\\":\\\"observable\\\"})};\\n    var self = this;\\n    function AppViewModel() {\\n        for (var key in json_data) {\\n            var el = json_data[key];\\n            this[key] = Array.isArray(el) ? ko.observableArray(el) : ko.observable(el);\\n        }\\n        \\n        [this[\\\"formatted_val\\\"]=ko.computed(    function(){\\n        return this.formatted_vals()[parseInt(this.index())-(1)];\\n    }\\n,this)]\\n        [this[\\\"changes\\\"].subscribe((function (val){!(this.valueFromJulia[\\\"changes\\\"]) ? (WebIO.setval({\\\"name\\\":\\\"changes\\\",\\\"scope\\\":\\\"8716015372692210323\\\",\\\"id\\\":\\\"17067479489541643322\\\",\\\"type\\\":\\\"observable\\\"},val)) : undefined; return this.valueFromJulia[\\\"changes\\\"]=false}),self),this[\\\"index\\\"].subscribe((function (val){!(this.valueFromJulia[\\\"index\\\"]) ? (WebIO.setval({\\\"name\\\":\\\"index\\\",\\\"scope\\\":\\\"8716015372692210323\\\",\\\"id\\\":\\\"2457012741267750759\\\",\\\"type\\\":\\\"observable\\\"},val)) : undefined; return this.valueFromJulia[\\\"index\\\"]=false}),self)]\\n        \\n    }\\n    self.model = new AppViewModel();\\n    self.valueFromJulia = {};\\n    for (var key in json_data) {\\n        self.valueFromJulia[key] = false;\\n    }\\n    ko.applyBindings(self.model, self.dom);\\n}\\n);\\n    (WebIO.importBlock({\\\"data\\\":[{\\\"name\\\":\\\"knockout\\\",\\\"type\\\":\\\"js\\\",\\\"url\\\":\\\"/assetserver/727383f2a47bd31570b7da84eee7b022dd6d7c78-knockout.js\\\"},{\\\"name\\\":\\\"knockout_punches\\\",\\\"type\\\":\\\"js\\\",\\\"url\\\":\\\"/assetserver/382b41b3b1bd9f26f75861d360bad7f8beea211f-knockout_punches.js\\\"}],\\\"type\\\":\\\"async_block\\\"})).then((imports) => handler.apply(this, imports));\\n}\\n\")])], Dict{Symbol, Any}(:className => \"field interact-widget\"))], Dict{Symbol, Any}(:style => Dict(\"display\" => \"flex\", \"flex-direction\" => \"column\"))), WebIO.Node{WebIO.DOM}(WebIO.DOM(:html, :div), Any[WebIO.Node{WebIO.DOM}(WebIO.DOM(:html, :div), Any[WebIO.Scope(WebIO.Node{WebIO.DOM}(WebIO.DOM(:html, :div), Any[], Dict{Symbol, Any}(:id => \"container\")), Dict{String, Tuple{Observables.AbstractObservable, Union{Nothing, Bool}}}(\"value\" => (Observable(\"\\\\;\\\\;\"), nothing)), Set{String}(), nothing, WebIO.Asset[WebIO.Asset(\"js\", nothing, \"/home/dushya/.julia/packages/InteractBase/LJXv3/src/../assets/katex.min.js\"), WebIO.Asset(\"css\", nothing, \"/home/dushya/.julia/packages/InteractBase/LJXv3/src/../assets/katex.min.css\")], Dict{Any, Any}(\"value\" => Any[WebIO.JSString(\"(function (txt){return this.k.render(txt,this.container)})\")]), WebIO.ConnectionPool(Channel{Any}(32), Set{WebIO.AbstractConnection}(), Base.GenericCondition{ReentrantLock}(Base.IntrusiveLinkedList{Task}(Task (runnable) @0x00007fcea61c5780, Task (runnable) @0x00007fcea61c5780), ReentrantLock(nothing, 0x00000000, 0x00, Base.GenericCondition{Base.Threads.SpinLock}(Base.IntrusiveLinkedList{Task}(nothing, nothing), Base.Threads.SpinLock(0)), (8, 140526390702160, 140525555843408)))), WebIO.JSString[WebIO.JSString(\"function () {\\n    var handler = ((function (k){this.k=k; this.container=this.dom.querySelector(\\\"#container\\\"); return k.render(\\\"\\\\\\\\;\\\\\\\\;\\\",this.container)}));\\n    (WebIO.importBlock({\\\"data\\\":[{\\\"name\\\":null,\\\"type\\\":\\\"js\\\",\\\"url\\\":\\\"/assetserver/dd22ed1bf1896c2748f3fe616ce0b838adc895c1-katex.min.js\\\"},{\\\"name\\\":null,\\\"type\\\":\\\"css\\\",\\\"url\\\":\\\"/assetserver/46517a424aa5e6cffc1360d7e0848b601c584ee3-katex.min.css\\\"}],\\\"type\\\":\\\"async_block\\\"})).then((imports) => handler.apply(this, imports));\\n}\\n\")])], Dict{Symbol, Any}(:className => \"interact-widget\")), WebIO.Node{WebIO.DOM}(WebIO.DOM(:html, :div), Any[WebIO.Scope(WebIO.Node{WebIO.DOM}(WebIO.DOM(:html, :button), Any[\"run\"], Dict{Symbol, Any}(:attributes => Dict{Any, Any}(\"data-bind\" => \"click: function (){this.clicks(this.clicks()+1)}, css: {'is-loading' : loading}\"), :className => \"is-medium button is-primary\", :style => Dict{String, Any}())), Dict{String, Tuple{Observables.AbstractObservable, Union{Nothing, Bool}}}(\"loading\" => (Observable(false), nothing), \"clicks\" => (Observable(0), nothing)), Set{String}(), nothing, WebIO.Asset[WebIO.Asset(\"js\", \"knockout\", \"/home/dushya/.julia/packages/Knockout/HReiN/src/../assets/knockout.js\"), WebIO.Asset(\"js\", \"knockout_punches\", \"/home/dushya/.julia/packages/Knockout/HReiN/src/../assets/knockout_punches.js\"), WebIO.Asset(\"js\", nothing, \"/home/dushya/.julia/packages/InteractBase/LJXv3/src/../assets/all.js\"), WebIO.Asset(\"css\", nothing, \"/home/dushya/.julia/packages/InteractBase/LJXv3/src/../assets/style.css\"), WebIO.Asset(\"css\", nothing, \"/home/dushya/.julia/packages/Interact/PENUy/src/../assets/bulma_confined.min.css\")], Dict{Any, Any}(\"loading\" => Any[WebIO.JSString(\"(function (val){return (val!=this.model[\\\"loading\\\"]()) ? (this.valueFromJulia[\\\"loading\\\"]=true, this.model[\\\"loading\\\"](val)) : undefined})\")], \"clicks\" => Any[WebIO.JSString(\"(function (val){return (val!=this.model[\\\"clicks\\\"]()) ? (this.valueFromJulia[\\\"clicks\\\"]=true, this.model[\\\"clicks\\\"](val)) : undefined})\")]), WebIO.ConnectionPool(Channel{Any}(32), Set{WebIO.AbstractConnection}(), Base.GenericCondition{ReentrantLock}(Base.IntrusiveLinkedList{Task}(Task (runnable) @0x00007fcee86e2270, Task (runnable) @0x00007fcee86e2270), ReentrantLock(nothing, 0x00000000, 0x00, Base.GenericCondition{Base.Threads.SpinLock}(Base.IntrusiveLinkedList{Task}(nothing, nothing), Base.Threads.SpinLock(0)), (0, 140527451674960, 141733920768)))), WebIO.JSString[WebIO.JSString(\"function () {\\n    var handler = (function (ko, koPunches) {\\n    ko.punches.enableAll();\\n    ko.bindingHandlers.numericValue = {\\n        init: function(element, valueAccessor, allBindings, data, context) {\\n            var stringified = ko.observable(ko.unwrap(valueAccessor()));\\n            stringified.subscribe(function(value) {\\n                var val = parseFloat(value);\\n                if (!isNaN(val)) {\\n                    valueAccessor()(val);\\n                }\\n            });\\n            valueAccessor().subscribe(function(value) {\\n                var str = JSON.stringify(value);\\n                if ((str == \\\"0\\\") && ([\\\"-0\\\", \\\"-0.\\\"].indexOf(stringified()) >= 0))\\n                     return;\\n                 if ([\\\"null\\\", \\\"\\\"].indexOf(str) >= 0)\\n                     return;\\n                stringified(str);\\n            });\\n            ko.applyBindingsToNode(\\n                element,\\n                {\\n                    value: stringified,\\n                    valueUpdate: allBindings.get('valueUpdate'),\\n                },\\n                context,\\n            );\\n        }\\n    };\\n    var json_data = {\\\"loading\\\":WebIO.getval({\\\"name\\\":\\\"loading\\\",\\\"scope\\\":\\\"9359204783744653280\\\",\\\"id\\\":\\\"12442985410481440145\\\",\\\"type\\\":\\\"observable\\\"}),\\\"clicks\\\":WebIO.getval({\\\"name\\\":\\\"clicks\\\",\\\"scope\\\":\\\"9359204783744653280\\\",\\\"id\\\":\\\"10609225779451773599\\\",\\\"type\\\":\\\"observable\\\"})};\\n    var self = this;\\n    function AppViewModel() {\\n        for (var key in json_data) {\\n            var el = json_data[key];\\n            this[key] = Array.isArray(el) ? ko.observableArray(el) : ko.observable(el);\\n        }\\n        \\n        \\n        [this[\\\"loading\\\"].subscribe((function (val){!(this.valueFromJulia[\\\"loading\\\"]) ? (WebIO.setval({\\\"name\\\":\\\"loading\\\",\\\"scope\\\":\\\"9359204783744653280\\\",\\\"id\\\":\\\"12442985410481440145\\\",\\\"type\\\":\\\"observable\\\"},val)) : undefined; return this.valueFromJulia[\\\"loading\\\"]=false}),self),this[\\\"clicks\\\"].subscribe((function (val){!(this.valueFromJulia[\\\"clicks\\\"]) ? (WebIO.setval({\\\"name\\\":\\\"clicks\\\",\\\"scope\\\":\\\"9359204783744653280\\\",\\\"id\\\":\\\"10609225779451773599\\\",\\\"type\\\":\\\"observable\\\"},val)) : undefined; return this.valueFromJulia[\\\"clicks\\\"]=false}),self)]\\n        \\n    }\\n    self.model = new AppViewModel();\\n    self.valueFromJulia = {};\\n    for (var key in json_data) {\\n        self.valueFromJulia[key] = false;\\n    }\\n    ko.applyBindings(self.model, self.dom);\\n}\\n);\\n    (WebIO.importBlock({\\\"data\\\":[{\\\"name\\\":\\\"knockout\\\",\\\"type\\\":\\\"js\\\",\\\"url\\\":\\\"/assetserver/727383f2a47bd31570b7da84eee7b022dd6d7c78-knockout.js\\\"},{\\\"name\\\":\\\"knockout_punches\\\",\\\"type\\\":\\\"js\\\",\\\"url\\\":\\\"/assetserver/382b41b3b1bd9f26f75861d360bad7f8beea211f-knockout_punches.js\\\"}],\\\"type\\\":\\\"async_block\\\"})).then((imports) => handler.apply(this, imports));\\n}\\n\")])], Dict{Symbol, Any}(:className => \"field interact-widget\")), WebIO.Node{WebIO.DOM}(WebIO.DOM(:html, :div), Any[WebIO.Scope(WebIO.Node{WebIO.DOM}(WebIO.DOM(:html, :div), Any[], Dict{Symbol, Any}(:id => \"container\")), Dict{String, Tuple{Observables.AbstractObservable, Union{Nothing, Bool}}}(\"value\" => (Observable(\"\\\\;\\\\;\"), nothing)), Set{String}(), nothing, WebIO.Asset[WebIO.Asset(\"js\", nothing, \"/home/dushya/.julia/packages/InteractBase/LJXv3/src/../assets/katex.min.js\"), WebIO.Asset(\"css\", nothing, \"/home/dushya/.julia/packages/InteractBase/LJXv3/src/../assets/katex.min.css\")], Dict{Any, Any}(\"value\" => Any[WebIO.JSString(\"(function (txt){return this.k.render(txt,this.container)})\")]), WebIO.ConnectionPool(Channel{Any}(32), Set{WebIO.AbstractConnection}(), Base.GenericCondition{ReentrantLock}(Base.IntrusiveLinkedList{Task}(Task (runnable) @0x00007fcea61c5780, Task (runnable) @0x00007fcea61c5780), ReentrantLock(nothing, 0x00000000, 0x00, Base.GenericCondition{Base.Threads.SpinLock}(Base.IntrusiveLinkedList{Task}(nothing, nothing), Base.Threads.SpinLock(0)), (8, 140526390702160, 140525555843408)))), WebIO.JSString[WebIO.JSString(\"function () {\\n    var handler = ((function (k){this.k=k; this.container=this.dom.querySelector(\\\"#container\\\"); return k.render(\\\"\\\\\\\\;\\\\\\\\;\\\",this.container)}));\\n    (WebIO.importBlock({\\\"data\\\":[{\\\"name\\\":null,\\\"type\\\":\\\"js\\\",\\\"url\\\":\\\"/assetserver/dd22ed1bf1896c2748f3fe616ce0b838adc895c1-katex.min.js\\\"},{\\\"name\\\":null,\\\"type\\\":\\\"css\\\",\\\"url\\\":\\\"/assetserver/46517a424aa5e6cffc1360d7e0848b601c584ee3-katex.min.css\\\"}],\\\"type\\\":\\\"async_block\\\"})).then((imports) => handler.apply(this, imports));\\n}\\n\")])], Dict{Symbol, Any}(:className => \"interact-widget\")), WebIO.Node{WebIO.DOM}(WebIO.DOM(:html, :div), Any[WebIO.Scope(WebIO.Node{WebIO.DOM}(WebIO.DOM(:html, :button), Any[\"stop\"], Dict{Symbol, Any}(:attributes => Dict{Any, Any}(\"data-bind\" => \"click: function (){this.clicks(this.clicks()+1)}, css: {'is-loading' : loading}\"), :className => \"is-medium button is-primary\", :style => Dict{String, Any}())), Dict{String, Tuple{Observables.AbstractObservable, Union{Nothing, Bool}}}(\"loading\" => (Observable(false), nothing), \"clicks\" => (Observable(0), nothing)), Set{String}(), nothing, WebIO.Asset[WebIO.Asset(\"js\", \"knockout\", \"/home/dushya/.julia/packages/Knockout/HReiN/src/../assets/knockout.js\"), WebIO.Asset(\"js\", \"knockout_punches\", \"/home/dushya/.julia/packages/Knockout/HReiN/src/../assets/knockout_punches.js\"), WebIO.Asset(\"js\", nothing, \"/home/dushya/.julia/packages/InteractBase/LJXv3/src/../assets/all.js\"), WebIO.Asset(\"css\", nothing, \"/home/dushya/.julia/packages/InteractBase/LJXv3/src/../assets/style.css\"), WebIO.Asset(\"css\", nothing, \"/home/dushya/.julia/packages/Interact/PENUy/src/../assets/bulma_confined.min.css\")], Dict{Any, Any}(\"loading\" => Any[WebIO.JSString(\"(function (val){return (val!=this.model[\\\"loading\\\"]()) ? (this.valueFromJulia[\\\"loading\\\"]=true, this.model[\\\"loading\\\"](val)) : undefined})\")], \"clicks\" => Any[WebIO.JSString(\"(function (val){return (val!=this.model[\\\"clicks\\\"]()) ? (this.valueFromJulia[\\\"clicks\\\"]=true, this.model[\\\"clicks\\\"](val)) : undefined})\")]), WebIO.ConnectionPool(Channel{Any}(32), Set{WebIO.AbstractConnection}(), Base.GenericCondition{ReentrantLock}(Base.IntrusiveLinkedList{Task}(Task (runnable) @0x00007fcee8745910, Task (runnable) @0x00007fcee8745910), ReentrantLock(nothing, 0x00000000, 0x00, Base.GenericCondition{Base.Threads.SpinLock}(Base.IntrusiveLinkedList{Task}(nothing, nothing), Base.Threads.SpinLock(0)), (0, 0, 140527451635712)))), WebIO.JSString[WebIO.JSString(\"function () {\\n    var handler = (function (ko, koPunches) {\\n    ko.punches.enableAll();\\n    ko.bindingHandlers.numericValue = {\\n        init: function(element, valueAccessor, allBindings, data, context) {\\n            var stringified = ko.observable(ko.unwrap(valueAccessor()));\\n            stringified.subscribe(function(value) {\\n                var val = parseFloat(value);\\n                if (!isNaN(val)) {\\n                    valueAccessor()(val);\\n                }\\n            });\\n            valueAccessor().subscribe(function(value) {\\n                var str = JSON.stringify(value);\\n                if ((str == \\\"0\\\") && ([\\\"-0\\\", \\\"-0.\\\"].indexOf(stringified()) >= 0))\\n                     return;\\n                 if ([\\\"null\\\", \\\"\\\"].indexOf(str) >= 0)\\n                     return;\\n                stringified(str);\\n            });\\n            ko.applyBindingsToNode(\\n                element,\\n                {\\n                    value: stringified,\\n                    valueUpdate: allBindings.get('valueUpdate'),\\n                },\\n                context,\\n            );\\n        }\\n    };\\n    var json_data = {\\\"loading\\\":WebIO.getval({\\\"name\\\":\\\"loading\\\",\\\"scope\\\":\\\"16373768999305920469\\\",\\\"id\\\":\\\"3809837213615320560\\\",\\\"type\\\":\\\"observable\\\"}),\\\"clicks\\\":WebIO.getval({\\\"name\\\":\\\"clicks\\\",\\\"scope\\\":\\\"16373768999305920469\\\",\\\"id\\\":\\\"16949373422911565931\\\",\\\"type\\\":\\\"observable\\\"})};\\n    var self = this;\\n    function AppViewModel() {\\n        for (var key in json_data) {\\n            var el = json_data[key];\\n            this[key] = Array.isArray(el) ? ko.observableArray(el) : ko.observable(el);\\n        }\\n        \\n        \\n        [this[\\\"loading\\\"].subscribe((function (val){!(this.valueFromJulia[\\\"loading\\\"]) ? (WebIO.setval({\\\"name\\\":\\\"loading\\\",\\\"scope\\\":\\\"16373768999305920469\\\",\\\"id\\\":\\\"3809837213615320560\\\",\\\"type\\\":\\\"observable\\\"},val)) : undefined; return this.valueFromJulia[\\\"loading\\\"]=false}),self),this[\\\"clicks\\\"].subscribe((function (val){!(this.valueFromJulia[\\\"clicks\\\"]) ? (WebIO.setval({\\\"name\\\":\\\"clicks\\\",\\\"scope\\\":\\\"16373768999305920469\\\",\\\"id\\\":\\\"16949373422911565931\\\",\\\"type\\\":\\\"observable\\\"},val)) : undefined; return this.valueFromJulia[\\\"clicks\\\"]=false}),self)]\\n        \\n    }\\n    self.model = new AppViewModel();\\n    self.valueFromJulia = {};\\n    for (var key in json_data) {\\n        self.valueFromJulia[key] = false;\\n    }\\n    ko.applyBindings(self.model, self.dom);\\n}\\n);\\n    (WebIO.importBlock({\\\"data\\\":[{\\\"name\\\":\\\"knockout\\\",\\\"type\\\":\\\"js\\\",\\\"url\\\":\\\"/assetserver/727383f2a47bd31570b7da84eee7b022dd6d7c78-knockout.js\\\"},{\\\"name\\\":\\\"knockout_punches\\\",\\\"type\\\":\\\"js\\\",\\\"url\\\":\\\"/assetserver/382b41b3b1bd9f26f75861d360bad7f8beea211f-knockout_punches.js\\\"}],\\\"type\\\":\\\"async_block\\\"})).then((imports) => handler.apply(this, imports));\\n}\\n\")])], Dict{Symbol, Any}(:className => \"field interact-widget\")), WebIO.Node{WebIO.DOM}(WebIO.DOM(:html, :div), Any[WebIO.Scope(WebIO.Node{WebIO.DOM}(WebIO.DOM(:html, :div), Any[], Dict{Symbol, Any}(:id => \"container\")), Dict{String, Tuple{Observables.AbstractObservable, Union{Nothing, Bool}}}(\"value\" => (Observable(\"\\\\;\\\\;\"), nothing)), Set{String}(), nothing, WebIO.Asset[WebIO.Asset(\"js\", nothing, \"/home/dushya/.julia/packages/InteractBase/LJXv3/src/../assets/katex.min.js\"), WebIO.Asset(\"css\", nothing, \"/home/dushya/.julia/packages/InteractBase/LJXv3/src/../assets/katex.min.css\")], Dict{Any, Any}(\"value\" => Any[WebIO.JSString(\"(function (txt){return this.k.render(txt,this.container)})\")]), WebIO.ConnectionPool(Channel{Any}(32), Set{WebIO.AbstractConnection}(), Base.GenericCondition{ReentrantLock}(Base.IntrusiveLinkedList{Task}(Task (runnable) @0x00007fcea61c5780, Task (runnable) @0x00007fcea61c5780), ReentrantLock(nothing, 0x00000000, 0x00, Base.GenericCondition{Base.Threads.SpinLock}(Base.IntrusiveLinkedList{Task}(nothing, nothing), Base.Threads.SpinLock(0)), (8, 140526390702160, 140525555843408)))), WebIO.JSString[WebIO.JSString(\"function () {\\n    var handler = ((function (k){this.k=k; this.container=this.dom.querySelector(\\\"#container\\\"); return k.render(\\\"\\\\\\\\;\\\\\\\\;\\\",this.container)}));\\n    (WebIO.importBlock({\\\"data\\\":[{\\\"name\\\":null,\\\"type\\\":\\\"js\\\",\\\"url\\\":\\\"/assetserver/dd22ed1bf1896c2748f3fe616ce0b838adc895c1-katex.min.js\\\"},{\\\"name\\\":null,\\\"type\\\":\\\"css\\\",\\\"url\\\":\\\"/assetserver/46517a424aa5e6cffc1360d7e0848b601c584ee3-katex.min.css\\\"}],\\\"type\\\":\\\"async_block\\\"})).then((imports) => handler.apply(this, imports));\\n}\\n\")])], Dict{Symbol, Any}(:className => \"interact-widget\")), WebIO.Node{WebIO.DOM}(WebIO.DOM(:html, :div), Any[WebIO.Scope(WebIO.Node{WebIO.DOM}(WebIO.DOM(:html, :button), Any[\"reset\"], Dict{Symbol, Any}(:attributes => Dict{Any, Any}(\"data-bind\" => \"click: function (){this.clicks(this.clicks()+1)}, css: {'is-loading' : loading}\"), :className => \"is-medium button is-primary\", :style => Dict{String, Any}())), Dict{String, Tuple{Observables.AbstractObservable, Union{Nothing, Bool}}}(\"loading\" => (Observable(false), nothing), \"clicks\" => (Observable(0), nothing)), Set{String}(), nothing, WebIO.Asset[WebIO.Asset(\"js\", \"knockout\", \"/home/dushya/.julia/packages/Knockout/HReiN/src/../assets/knockout.js\"), WebIO.Asset(\"js\", \"knockout_punches\", \"/home/dushya/.julia/packages/Knockout/HReiN/src/../assets/knockout_punches.js\"), WebIO.Asset(\"js\", nothing, \"/home/dushya/.julia/packages/InteractBase/LJXv3/src/../assets/all.js\"), WebIO.Asset(\"css\", nothing, \"/home/dushya/.julia/packages/InteractBase/LJXv3/src/../assets/style.css\"), WebIO.Asset(\"css\", nothing, \"/home/dushya/.julia/packages/Interact/PENUy/src/../assets/bulma_confined.min.css\")], Dict{Any, Any}(\"loading\" => Any[WebIO.JSString(\"(function (val){return (val!=this.model[\\\"loading\\\"]()) ? (this.valueFromJulia[\\\"loading\\\"]=true, this.model[\\\"loading\\\"](val)) : undefined})\")], \"clicks\" => Any[WebIO.JSString(\"(function (val){return (val!=this.model[\\\"clicks\\\"]()) ? (this.valueFromJulia[\\\"clicks\\\"]=true, this.model[\\\"clicks\\\"](val)) : undefined})\")]), WebIO.ConnectionPool(Channel{Any}(32), Set{WebIO.AbstractConnection}(), Base.GenericCondition{ReentrantLock}(Base.IntrusiveLinkedList{Task}(Task (runnable) @0x00007fcee87adaa0, Task (runnable) @0x00007fcee87adaa0), ReentrantLock(nothing, 0x00000000, 0x00, Base.GenericCondition{Base.Threads.SpinLock}(Base.IntrusiveLinkedList{Task}(nothing, nothing), Base.Threads.SpinLock(0)), (0, 0, 141733920768)))), WebIO.JSString[WebIO.JSString(\"function () {\\n    var handler = (function (ko, koPunches) {\\n    ko.punches.enableAll();\\n    ko.bindingHandlers.numericValue = {\\n        init: function(element, valueAccessor, allBindings, data, context) {\\n            var stringified = ko.observable(ko.unwrap(valueAccessor()));\\n            stringified.subscribe(function(value) {\\n                var val = parseFloat(value);\\n                if (!isNaN(val)) {\\n                    valueAccessor()(val);\\n                }\\n            });\\n            valueAccessor().subscribe(function(value) {\\n                var str = JSON.stringify(value);\\n                if ((str == \\\"0\\\") && ([\\\"-0\\\", \\\"-0.\\\"].indexOf(stringified()) >= 0))\\n                     return;\\n                 if ([\\\"null\\\", \\\"\\\"].indexOf(str) >= 0)\\n                     return;\\n                stringified(str);\\n            });\\n            ko.applyBindingsToNode(\\n                element,\\n                {\\n                    value: stringified,\\n                    valueUpdate: allBindings.get('valueUpdate'),\\n                },\\n                context,\\n            );\\n        }\\n    };\\n    var json_data = {\\\"loading\\\":WebIO.getval({\\\"name\\\":\\\"loading\\\",\\\"scope\\\":\\\"8715050362239074035\\\",\\\"id\\\":\\\"5381142837002566911\\\",\\\"type\\\":\\\"observable\\\"}),\\\"clicks\\\":WebIO.getval({\\\"name\\\":\\\"clicks\\\",\\\"scope\\\":\\\"8715050362239074035\\\",\\\"id\\\":\\\"3918569879186069781\\\",\\\"type\\\":\\\"observable\\\"})};\\n    var self = this;\\n    function AppViewModel() {\\n        for (var key in json_data) {\\n            var el = json_data[key];\\n            this[key] = Array.isArray(el) ? ko.observableArray(el) : ko.observable(el);\\n        }\\n        \\n        \\n        [this[\\\"loading\\\"].subscribe((function (val){!(this.valueFromJulia[\\\"loading\\\"]) ? (WebIO.setval({\\\"name\\\":\\\"loading\\\",\\\"scope\\\":\\\"8715050362239074035\\\",\\\"id\\\":\\\"5381142837002566911\\\",\\\"type\\\":\\\"observable\\\"},val)) : undefined; return this.valueFromJulia[\\\"loading\\\"]=false}),self),this[\\\"clicks\\\"].subscribe((function (val){!(this.valueFromJulia[\\\"clicks\\\"]) ? (WebIO.setval({\\\"name\\\":\\\"clicks\\\",\\\"scope\\\":\\\"8715050362239074035\\\",\\\"id\\\":\\\"3918569879186069781\\\",\\\"type\\\":\\\"observable\\\"},val)) : undefined; return this.valueFromJulia[\\\"clicks\\\"]=false}),self)]\\n        \\n    }\\n    self.model = new AppViewModel();\\n    self.valueFromJulia = {};\\n    for (var key in json_data) {\\n        self.valueFromJulia[key] = false;\\n    }\\n    ko.applyBindings(self.model, self.dom);\\n}\\n);\\n    (WebIO.importBlock({\\\"data\\\":[{\\\"name\\\":\\\"knockout\\\",\\\"type\\\":\\\"js\\\",\\\"url\\\":\\\"/assetserver/727383f2a47bd31570b7da84eee7b022dd6d7c78-knockout.js\\\"},{\\\"name\\\":\\\"knockout_punches\\\",\\\"type\\\":\\\"js\\\",\\\"url\\\":\\\"/assetserver/382b41b3b1bd9f26f75861d360bad7f8beea211f-knockout_punches.js\\\"}],\\\"type\\\":\\\"async_block\\\"})).then((imports) => handler.apply(this, imports));\\n}\\n\")])], Dict{Symbol, Any}(:className => \"field interact-widget\"))], Dict{Symbol, Any}(:style => Dict(\"display\" => \"flex\", \"flex-direction\" => \"row\")))], Dict{Symbol, Any}(:style => Dict(\"display\" => \"flex\", \"flex-direction\" => \"column\"))), Observable(MeshCat.DisplayedVisualizer(MeshCat.CoreVisualizer(MeshCat.SceneTrees.SceneNode(nothing, nothing, Dict{String, Vector{UInt8}}(), nothing, Dict{String, MeshCat.SceneTrees.SceneNode}(\"meshcat\" => MeshCat.SceneTrees.SceneNode(nothing, UInt8[0x83, 0xa6, 0x6d, 0x61, 0x74, 0x72, 0x69, 0x78, 0xc7, 0x40  …  0x68, 0xa8, 0x2f, 0x6d, 0x65, 0x73, 0x68, 0x63, 0x61, 0x74], Dict{String, Vector{UInt8}}(), nothing, Dict{String, MeshCat.SceneTrees.SceneNode}(\"nodes\" => MeshCat.SceneTrees.SceneNode(nothing, nothing, Dict{String, Vector{UInt8}}(), nothing, Dict{String, MeshCat.SceneTrees.SceneNode}(\"32\" => MeshCat.SceneTrees.SceneNode(nothing, UInt8[0x83, 0xa6, 0x6d, 0x61, 0x74, 0x72, 0x69, 0x78, 0xc7, 0x40  …  0x74, 0x2f, 0x6e, 0x6f, 0x64, 0x65, 0x73, 0x2f, 0x33, 0x32], Dict{String, Vector{UInt8}}(\"scale\" => [0x84, 0xa8, 0x70, 0x72, 0x6f, 0x70, 0x65, 0x72, 0x74, 0x79  …  0x74, 0x2f, 0x6e, 0x6f, 0x64, 0x65, 0x73, 0x2f, 0x33, 0x32]), nothing, Dict{String, MeshCat.SceneTrees.SceneNode}(\"(1.0N0f8, 1.0N0f8, 1.0N0f8, 1.0N0f8)\" => MeshCat.SceneTrees.SceneNode(UInt8[0x83, 0xa6, 0x6f, 0x62, 0x6a, 0x65, 0x63, 0x74, 0x84, 0xaa  …  0x2c, 0x20, 0x31, 0x2e, 0x30, 0x4e, 0x30, 0x66, 0x38, 0x29], nothing, Dict{String, Vector{UInt8}}(\"visible\" => [0x84, 0xa8, 0x70, 0x72, 0x6f, 0x70, 0x65, 0x72, 0x74, 0x79  …  0x2c, 0x20, 0x31, 0x2e, 0x30, 0x4e, 0x30, 0x66, 0x38, 0x29]), nothing, Dict{String, MeshCat.SceneTrees.SceneNode}()))), \"29\" => MeshCat.SceneTrees.SceneNode(nothing, UInt8[0x83, 0xa6, 0x6d, 0x61, 0x74, 0x72, 0x69, 0x78, 0xc7, 0x40  …  0x74, 0x2f, 0x6e, 0x6f, 0x64, 0x65, 0x73, 0x2f, 0x32, 0x39], Dict{String, Vector{UInt8}}(\"scale\" => [0x84, 0xa8, 0x70, 0x72, 0x6f, 0x70, 0x65, 0x72, 0x74, 0x79  …  0x74, 0x2f, 0x6e, 0x6f, 0x64, 0x65, 0x73, 0x2f, 0x32, 0x39]), nothing, Dict{String, MeshCat.SceneTrees.SceneNode}(\"(1.0N0f8, 1.0N0f8, 1.0N0f8, 1.0N0f8)\" => MeshCat.SceneTrees.SceneNode(UInt8[0x83, 0xa6, 0x6f, 0x62, 0x6a, 0x65, 0x63, 0x74, 0x84, 0xaa  …  0x2c, 0x20, 0x31, 0x2e, 0x30, 0x4e, 0x30, 0x66, 0x38, 0x29], nothing, Dict{String, Vector{UInt8}}(\"visible\" => [0x84, 0xa8, 0x70, 0x72, 0x6f, 0x70, 0x65, 0x72, 0x74, 0x79  …  0x2c, 0x20, 0x31, 0x2e, 0x30, 0x4e, 0x30, 0x66, 0x38, 0x29]), nothing, Dict{String, MeshCat.SceneTrees.SceneNode}()))), \"1\" => MeshCat.SceneTrees.SceneNode(nothing, UInt8[0x83, 0xa6, 0x6d, 0x61, 0x74, 0x72, 0x69, 0x78, 0xc7, 0x40  …  0x61, 0x74, 0x2f, 0x6e, 0x6f, 0x64, 0x65, 0x73, 0x2f, 0x31], Dict{String, Vector{UInt8}}(\"scale\" => [0x84, 0xa8, 0x70, 0x72, 0x6f, 0x70, 0x65, 0x72, 0x74, 0x79  …  0x61, 0x74, 0x2f, 0x6e, 0x6f, 0x64, 0x65, 0x73, 0x2f, 0x31]), nothing, Dict{String, MeshCat.SceneTrees.SceneNode}(\"(1.0N0f8, 1.0N0f8, 1.0N0f8, 1.0N0f8)\" => MeshCat.SceneTrees.SceneNode(UInt8[0x83, 0xa6, 0x6f, 0x62, 0x6a, 0x65, 0x63, 0x74, 0x84, 0xaa  …  0x2c, 0x20, 0x31, 0x2e, 0x30, 0x4e, 0x30, 0x66, 0x38, 0x29], nothing, Dict{String, Vector{UInt8}}(\"visible\" => [0x84, 0xa8, 0x70, 0x72, 0x6f, 0x70, 0x65, 0x72, 0x74, 0x79  …  0x2c, 0x20, 0x31, 0x2e, 0x30, 0x4e, 0x30, 0x66, 0x38, 0x29]), nothing, Dict{String, MeshCat.SceneTrees.SceneNode}()))), \"54\" => MeshCat.SceneTrees.SceneNode(nothing, UInt8[0x83, 0xa6, 0x6d, 0x61, 0x74, 0x72, 0x69, 0x78, 0xc7, 0x40  …  0x74, 0x2f, 0x6e, 0x6f, 0x64, 0x65, 0x73, 0x2f, 0x35, 0x34], Dict{String, Vector{UInt8}}(\"scale\" => [0x84, 0xa8, 0x70, 0x72, 0x6f, 0x70, 0x65, 0x72, 0x74, 0x79  …  0x74, 0x2f, 0x6e, 0x6f, 0x64, 0x65, 0x73, 0x2f, 0x35, 0x34]), nothing, Dict{String, MeshCat.SceneTrees.SceneNode}(\"(1.0N0f8, 1.0N0f8, 1.0N0f8, 1.0N0f8)\" => MeshCat.SceneTrees.SceneNode(UInt8[0x83, 0xa6, 0x6f, 0x62, 0x6a, 0x65, 0x63, 0x74, 0x84, 0xaa  …  0x2c, 0x20, 0x31, 0x2e, 0x30, 0x4e, 0x30, 0x66, 0x38, 0x29], nothing, Dict{String, Vector{UInt8}}(\"visible\" => [0x84, 0xa8, 0x70, 0x72, 0x6f, 0x70, 0x65, 0x72, 0x74, 0x79  …  0x2c, 0x20, 0x31, 0x2e, 0x30, 0x4e, 0x30, 0x66, 0x38, 0x29]), nothing, Dict{String, MeshCat.SceneTrees.SceneNode}()))), \"78\" => MeshCat.SceneTrees.SceneNode(nothing, UInt8[0x83, 0xa6, 0x6d, 0x61, 0x74, 0x72, 0x69, 0x78, 0xc7, 0x40  …  0x74, 0x2f, 0x6e, 0x6f, 0x64, 0x65, 0x73, 0x2f, 0x37, 0x38], Dict{String, Vector{UInt8}}(\"scale\" => [0x84, 0xa8, 0x70, 0x72, 0x6f, 0x70, 0x65, 0x72, 0x74, 0x79  …  0x74, 0x2f, 0x6e, 0x6f, 0x64, 0x65, 0x73, 0x2f, 0x37, 0x38]), nothing, Dict{String, MeshCat.SceneTrees.SceneNode}(\"(1.0N0f8, 1.0N0f8, 1.0N0f8, 1.0N0f8)\" => MeshCat.SceneTrees.SceneNode(UInt8[0x83, 0xa6, 0x6f, 0x62, 0x6a, 0x65, 0x63, 0x74, 0x84, 0xaa  …  0x2c, 0x20, 0x31, 0x2e, 0x30, 0x4e, 0x30, 0x66, 0x38, 0x29], nothing, Dict{String, Vector{UInt8}}(\"visible\" => [0x84, 0xa8, 0x70, 0x72, 0x6f, 0x70, 0x65, 0x72, 0x74, 0x79  …  0x2c, 0x20, 0x31, 0x2e, 0x30, 0x4e, 0x30, 0x66, 0x38, 0x29]), nothing, Dict{String, MeshCat.SceneTrees.SceneNode}()))), \"81\" => MeshCat.SceneTrees.SceneNode(nothing, UInt8[0x83, 0xa6, 0x6d, 0x61, 0x74, 0x72, 0x69, 0x78, 0xc7, 0x40  …  0x74, 0x2f, 0x6e, 0x6f, 0x64, 0x65, 0x73, 0x2f, 0x38, 0x31], Dict{String, Vector{UInt8}}(\"scale\" => [0x84, 0xa8, 0x70, 0x72, 0x6f, 0x70, 0x65, 0x72, 0x74, 0x79  …  0x74, 0x2f, 0x6e, 0x6f, 0x64, 0x65, 0x73, 0x2f, 0x38, 0x31]), nothing, Dict{String, MeshCat.SceneTrees.SceneNode}(\"(1.0N0f8, 1.0N0f8, 1.0N0f8, 1.0N0f8)\" => MeshCat.SceneTrees.SceneNode(UInt8[0x83, 0xa6, 0x6f, 0x62, 0x6a, 0x65, 0x63, 0x74, 0x84, 0xaa  …  0x2c, 0x20, 0x31, 0x2e, 0x30, 0x4e, 0x30, 0x66, 0x38, 0x29], nothing, Dict{String, Vector{UInt8}}(\"visible\" => [0x84, 0xa8, 0x70, 0x72, 0x6f, 0x70, 0x65, 0x72, 0x74, 0x79  …  0x2c, 0x20, 0x31, 0x2e, 0x30, 0x4e, 0x30, 0x66, 0x38, 0x29]), nothing, Dict{String, MeshCat.SceneTrees.SceneNode}()))), \"2\" => MeshCat.SceneTrees.SceneNode(nothing, UInt8[0x83, 0xa6, 0x6d, 0x61, 0x74, 0x72, 0x69, 0x78, 0xc7, 0x40  …  0x61, 0x74, 0x2f, 0x6e, 0x6f, 0x64, 0x65, 0x73, 0x2f, 0x32], Dict{String, Vector{UInt8}}(\"scale\" => [0x84, 0xa8, 0x70, 0x72, 0x6f, 0x70, 0x65, 0x72, 0x74, 0x79  …  0x61, 0x74, 0x2f, 0x6e, 0x6f, 0x64, 0x65, 0x73, 0x2f, 0x32]), nothing, Dict{String, MeshCat.SceneTrees.SceneNode}(\"(1.0N0f8, 1.0N0f8, 1.0N0f8, 1.0N0f8)\" => MeshCat.SceneTrees.SceneNode(UInt8[0x83, 0xa6, 0x6f, 0x62, 0x6a, 0x65, 0x63, 0x74, 0x84, 0xaa  …  0x2c, 0x20, 0x31, 0x2e, 0x30, 0x4e, 0x30, 0x66, 0x38, 0x29], nothing, Dict{String, Vector{UInt8}}(\"visible\" => [0x84, 0xa8, 0x70, 0x72, 0x6f, 0x70, 0x65, 0x72, 0x74, 0x79  …  0x2c, 0x20, 0x31, 0x2e, 0x30, 0x4e, 0x30, 0x66, 0x38, 0x29]), nothing, Dict{String, MeshCat.SceneTrees.SceneNode}()))), \"74\" => MeshCat.SceneTrees.SceneNode(nothing, UInt8[0x83, 0xa6, 0x6d, 0x61, 0x74, 0x72, 0x69, 0x78, 0xc7, 0x40  …  0x74, 0x2f, 0x6e, 0x6f, 0x64, 0x65, 0x73, 0x2f, 0x37, 0x34], Dict{String, Vector{UInt8}}(\"scale\" => [0x84, 0xa8, 0x70, 0x72, 0x6f, 0x70, 0x65, 0x72, 0x74, 0x79  …  0x74, 0x2f, 0x6e, 0x6f, 0x64, 0x65, 0x73, 0x2f, 0x37, 0x34]), nothing, Dict{String, MeshCat.SceneTrees.SceneNode}(\"(1.0N0f8, 1.0N0f8, 1.0N0f8, 1.0N0f8)\" => MeshCat.SceneTrees.SceneNode(UInt8[0x83, 0xa6, 0x6f, 0x62, 0x6a, 0x65, 0x63, 0x74, 0x84, 0xaa  …  0x2c, 0x20, 0x31, 0x2e, 0x30, 0x4e, 0x30, 0x66, 0x38, 0x29], nothing, Dict{String, Vector{UInt8}}(\"visible\" => [0x84, 0xa8, 0x70, 0x72, 0x6f, 0x70, 0x65, 0x72, 0x74, 0x79  …  0x2c, 0x20, 0x31, 0x2e, 0x30, 0x4e, 0x30, 0x66, 0x38, 0x29]), nothing, Dict{String, MeshCat.SceneTrees.SceneNode}()))), \"41\" => MeshCat.SceneTrees.SceneNode(nothing, UInt8[0x83, 0xa6, 0x6d, 0x61, 0x74, 0x72, 0x69, 0x78, 0xc7, 0x40  …  0x74, 0x2f, 0x6e, 0x6f, 0x64, 0x65, 0x73, 0x2f, 0x34, 0x31], Dict{String, Vector{UInt8}}(\"scale\" => [0x84, 0xa8, 0x70, 0x72, 0x6f, 0x70, 0x65, 0x72, 0x74, 0x79  …  0x74, 0x2f, 0x6e, 0x6f, 0x64, 0x65, 0x73, 0x2f, 0x34, 0x31]), nothing, Dict{String, MeshCat.SceneTrees.SceneNode}(\"(1.0N0f8, 1.0N0f8, 1.0N0f8, 1.0N0f8)\" => MeshCat.SceneTrees.SceneNode(UInt8[0x83, 0xa6, 0x6f, 0x62, 0x6a, 0x65, 0x63, 0x74, 0x84, 0xaa  …  0x2c, 0x20, 0x31, 0x2e, 0x30, 0x4e, 0x30, 0x66, 0x38, 0x29], nothing, Dict{String, Vector{UInt8}}(\"visible\" => [0x84, 0xa8, 0x70, 0x72, 0x6f, 0x70, 0x65, 0x72, 0x74, 0x79  …  0x2c, 0x20, 0x31, 0x2e, 0x30, 0x4e, 0x30, 0x66, 0x38, 0x29]), nothing, Dict{String, MeshCat.SceneTrees.SceneNode}()))), \"65\" => MeshCat.SceneTrees.SceneNode(nothing, UInt8[0x83, 0xa6, 0x6d, 0x61, 0x74, 0x72, 0x69, 0x78, 0xc7, 0x40  …  0x74, 0x2f, 0x6e, 0x6f, 0x64, 0x65, 0x73, 0x2f, 0x36, 0x35], Dict{String, Vector{UInt8}}(\"scale\" => [0x84, 0xa8, 0x70, 0x72, 0x6f, 0x70, 0x65, 0x72, 0x74, 0x79  …  0x74, 0x2f, 0x6e, 0x6f, 0x64, 0x65, 0x73, 0x2f, 0x36, 0x35]), nothing, Dict{String, MeshCat.SceneTrees.SceneNode}(\"(1.0N0f8, 1.0N0f8, 1.0N0f8, 1.0N0f8)\" => MeshCat.SceneTrees.SceneNode(UInt8[0x83, 0xa6, 0x6f, 0x62, 0x6a, 0x65, 0x63, 0x74, 0x84, 0xaa  …  0x2c, 0x20, 0x31, 0x2e, 0x30, 0x4e, 0x30, 0x66, 0x38, 0x29], nothing, Dict{String, Vector{UInt8}}(\"visible\" => [0x84, 0xa8, 0x70, 0x72, 0x6f, 0x70, 0x65, 0x72, 0x74, 0x79  …  0x2c, 0x20, 0x31, 0x2e, 0x30, 0x4e, 0x30, 0x66, 0x38, 0x29]), nothing, Dict{String, MeshCat.SceneTrees.SceneNode}())))…)), \"bbox_line_segments\" => MeshCat.SceneTrees.SceneNode(nothing, nothing, Dict{String, Vector{UInt8}}(), nothing, Dict{String, MeshCat.SceneTrees.SceneNode}(\"4\" => MeshCat.SceneTrees.SceneNode(UInt8[0x83, 0xa6, 0x6f, 0x62, 0x6a, 0x65, 0x63, 0x74, 0x84, 0xaa  …  0x73, 0x65, 0x67, 0x6d, 0x65, 0x6e, 0x74, 0x73, 0x2f, 0x34], nothing, Dict{String, Vector{UInt8}}(), nothing, Dict{String, MeshCat.SceneTrees.SceneNode}()), \"1\" => MeshCat.SceneTrees.SceneNode(UInt8[0x83, 0xa6, 0x6f, 0x62, 0x6a, 0x65, 0x63, 0x74, 0x84, 0xaa  …  0x73, 0x65, 0x67, 0x6d, 0x65, 0x6e, 0x74, 0x73, 0x2f, 0x31], nothing, Dict{String, Vector{UInt8}}(), nothing, Dict{String, MeshCat.SceneTrees.SceneNode}()), \"12\" => MeshCat.SceneTrees.SceneNode(UInt8[0x83, 0xa6, 0x6f, 0x62, 0x6a, 0x65, 0x63, 0x74, 0x84, 0xaa  …  0x65, 0x67, 0x6d, 0x65, 0x6e, 0x74, 0x73, 0x2f, 0x31, 0x32], nothing, Dict{String, Vector{UInt8}}(), nothing, Dict{String, MeshCat.SceneTrees.SceneNode}()), \"2\" => MeshCat.SceneTrees.SceneNode(UInt8[0x83, 0xa6, 0x6f, 0x62, 0x6a, 0x65, 0x63, 0x74, 0x84, 0xaa  …  0x73, 0x65, 0x67, 0x6d, 0x65, 0x6e, 0x74, 0x73, 0x2f, 0x32], nothing, Dict{String, Vector{UInt8}}(), nothing, Dict{String, MeshCat.SceneTrees.SceneNode}()), \"6\" => MeshCat.SceneTrees.SceneNode(UInt8[0x83, 0xa6, 0x6f, 0x62, 0x6a, 0x65, 0x63, 0x74, 0x84, 0xaa  …  0x73, 0x65, 0x67, 0x6d, 0x65, 0x6e, 0x74, 0x73, 0x2f, 0x36], nothing, Dict{String, Vector{UInt8}}(), nothing, Dict{String, MeshCat.SceneTrees.SceneNode}()), \"11\" => MeshCat.SceneTrees.SceneNode(UInt8[0x83, 0xa6, 0x6f, 0x62, 0x6a, 0x65, 0x63, 0x74, 0x84, 0xaa  …  0x65, 0x67, 0x6d, 0x65, 0x6e, 0x74, 0x73, 0x2f, 0x31, 0x31], nothing, Dict{String, Vector{UInt8}}(), nothing, Dict{String, MeshCat.SceneTrees.SceneNode}()), \"5\" => MeshCat.SceneTrees.SceneNode(UInt8[0x83, 0xa6, 0x6f, 0x62, 0x6a, 0x65, 0x63, 0x74, 0x84, 0xaa  …  0x73, 0x65, 0x67, 0x6d, 0x65, 0x6e, 0x74, 0x73, 0x2f, 0x35], nothing, Dict{String, Vector{UInt8}}(), nothing, Dict{String, MeshCat.SceneTrees.SceneNode}()), \"7\" => MeshCat.SceneTrees.SceneNode(UInt8[0x83, 0xa6, 0x6f, 0x62, 0x6a, 0x65, 0x63, 0x74, 0x84, 0xaa  …  0x73, 0x65, 0x67, 0x6d, 0x65, 0x6e, 0x74, 0x73, 0x2f, 0x37], nothing, Dict{String, Vector{UInt8}}(), nothing, Dict{String, MeshCat.SceneTrees.SceneNode}()), \"8\" => MeshCat.SceneTrees.SceneNode(UInt8[0x83, 0xa6, 0x6f, 0x62, 0x6a, 0x65, 0x63, 0x74, 0x84, 0xaa  …  0x73, 0x65, 0x67, 0x6d, 0x65, 0x6e, 0x74, 0x73, 0x2f, 0x38], nothing, Dict{String, Vector{UInt8}}(), nothing, Dict{String, MeshCat.SceneTrees.SceneNode}()), \"10\" => MeshCat.SceneTrees.SceneNode(UInt8[0x83, 0xa6, 0x6f, 0x62, 0x6a, 0x65, 0x63, 0x74, 0x84, 0xaa  …  0x65, 0x67, 0x6d, 0x65, 0x6e, 0x74, 0x73, 0x2f, 0x31, 0x30], nothing, Dict{String, Vector{UInt8}}(), nothing, Dict{String, MeshCat.SceneTrees.SceneNode}())…)), \"edges\" => MeshCat.SceneTrees.SceneNode(nothing, nothing, Dict{String, Vector{UInt8}}(), nothing, Dict{String, MeshCat.SceneTrees.SceneNode}(\"(84, 90)\" => MeshCat.SceneTrees.SceneNode(nothing, nothing, Dict{String, Vector{UInt8}}(), nothing, Dict{String, MeshCat.SceneTrees.SceneNode}(\"(0.0N0f8, 0.0N0f8, 1.0N0f8, 1.0N0f8)\" => MeshCat.SceneTrees.SceneNode(UInt8[0x83, 0xa6, 0x6f, 0x62, 0x6a, 0x65, 0x63, 0x74, 0x84, 0xaa  …  0x2c, 0x20, 0x31, 0x2e, 0x30, 0x4e, 0x30, 0x66, 0x38, 0x29], nothing, Dict{String, Vector{UInt8}}(\"visible\" => [0x84, 0xa8, 0x70, 0x72, 0x6f, 0x70, 0x65, 0x72, 0x74, 0x79  …  0x2c, 0x20, 0x31, 0x2e, 0x30, 0x4e, 0x30, 0x66, 0x38, 0x29]), nothing, Dict{String, MeshCat.SceneTrees.SceneNode}()))), \"(43, 45)\" => MeshCat.SceneTrees.SceneNode(nothing, nothing, Dict{String, Vector{UInt8}}(), nothing, Dict{String, MeshCat.SceneTrees.SceneNode}(\"(0.0N0f8, 0.0N0f8, 1.0N0f8, 1.0N0f8)\" => MeshCat.SceneTrees.SceneNode(UInt8[0x83, 0xa6, 0x6f, 0x62, 0x6a, 0x65, 0x63, 0x74, 0x84, 0xaa  …  0x2c, 0x20, 0x31, 0x2e, 0x30, 0x4e, 0x30, 0x66, 0x38, 0x29], nothing, Dict{String, Vector{UInt8}}(\"visible\" => [0x84, 0xa8, 0x70, 0x72, 0x6f, 0x70, 0x65, 0x72, 0x74, 0x79  …  0x2c, 0x20, 0x31, 0x2e, 0x30, 0x4e, 0x30, 0x66, 0x38, 0x29]), nothing, Dict{String, MeshCat.SceneTrees.SceneNode}()))), \"(23, 45)\" => MeshCat.SceneTrees.SceneNode(nothing, nothing, Dict{String, Vector{UInt8}}(), nothing, Dict{String, MeshCat.SceneTrees.SceneNode}(\"(0.0N0f8, 0.0N0f8, 1.0N0f8, 1.0N0f8)\" => MeshCat.SceneTrees.SceneNode(UInt8[0x83, 0xa6, 0x6f, 0x62, 0x6a, 0x65, 0x63, 0x74, 0x84, 0xaa  …  0x2c, 0x20, 0x31, 0x2e, 0x30, 0x4e, 0x30, 0x66, 0x38, 0x29], nothing, Dict{String, Vector{UInt8}}(\"visible\" => [0x84, 0xa8, 0x70, 0x72, 0x6f, 0x70, 0x65, 0x72, 0x74, 0x79  …  0x2c, 0x20, 0x31, 0x2e, 0x30, 0x4e, 0x30, 0x66, 0x38, 0x29]), nothing, Dict{String, MeshCat.SceneTrees.SceneNode}()))), \"(4, 36)\" => MeshCat.SceneTrees.SceneNode(nothing, nothing, Dict{String, Vector{UInt8}}(), nothing, Dict{String, MeshCat.SceneTrees.SceneNode}(\"(0.0N0f8, 0.0N0f8, 1.0N0f8, 1.0N0f8)\" => MeshCat.SceneTrees.SceneNode(UInt8[0x83, 0xa6, 0x6f, 0x62, 0x6a, 0x65, 0x63, 0x74, 0x84, 0xaa  …  0x2c, 0x20, 0x31, 0x2e, 0x30, 0x4e, 0x30, 0x66, 0x38, 0x29], nothing, Dict{String, Vector{UInt8}}(\"visible\" => [0x84, 0xa8, 0x70, 0x72, 0x6f, 0x70, 0x65, 0x72, 0x74, 0x79  …  0x2c, 0x20, 0x31, 0x2e, 0x30, 0x4e, 0x30, 0x66, 0x38, 0x29]), nothing, Dict{String, MeshCat.SceneTrees.SceneNode}()))), \"(87, 100)\" => MeshCat.SceneTrees.SceneNode(nothing, nothing, Dict{String, Vector{UInt8}}(), nothing, Dict{String, MeshCat.SceneTrees.SceneNode}(\"(0.0N0f8, 0.0N0f8, 1.0N0f8, 1.0N0f8)\" => MeshCat.SceneTrees.SceneNode(UInt8[0x83, 0xa6, 0x6f, 0x62, 0x6a, 0x65, 0x63, 0x74, 0x84, 0xaa  …  0x2c, 0x20, 0x31, 0x2e, 0x30, 0x4e, 0x30, 0x66, 0x38, 0x29], nothing, Dict{String, Vector{UInt8}}(\"visible\" => [0x84, 0xa8, 0x70, 0x72, 0x6f, 0x70, 0x65, 0x72, 0x74, 0x79  …  0x2c, 0x20, 0x31, 0x2e, 0x30, 0x4e, 0x30, 0x66, 0x38, 0x29]), nothing, Dict{String, MeshCat.SceneTrees.SceneNode}()))), \"(41, 98)\" => MeshCat.SceneTrees.SceneNode(nothing, nothing, Dict{String, Vector{UInt8}}(), nothing, Dict{String, MeshCat.SceneTrees.SceneNode}(\"(0.0N0f8, 0.0N0f8, 1.0N0f8, 1.0N0f8)\" => MeshCat.SceneTrees.SceneNode(UInt8[0x83, 0xa6, 0x6f, 0x62, 0x6a, 0x65, 0x63, 0x74, 0x84, 0xaa  …  0x2c, 0x20, 0x31, 0x2e, 0x30, 0x4e, 0x30, 0x66, 0x38, 0x29], nothing, Dict{String, Vector{UInt8}}(\"visible\" => [0x84, 0xa8, 0x70, 0x72, 0x6f, 0x70, 0x65, 0x72, 0x74, 0x79  …  0x2c, 0x20, 0x31, 0x2e, 0x30, 0x4e, 0x30, 0x66, 0x38, 0x29]), nothing, Dict{String, MeshCat.SceneTrees.SceneNode}()))), \"(47, 97)\" => MeshCat.SceneTrees.SceneNode(nothing, nothing, Dict{String, Vector{UInt8}}(), nothing, Dict{String, MeshCat.SceneTrees.SceneNode}(\"(0.0N0f8, 0.0N0f8, 1.0N0f8, 1.0N0f8)\" => MeshCat.SceneTrees.SceneNode(UInt8[0x83, 0xa6, 0x6f, 0x62, 0x6a, 0x65, 0x63, 0x74, 0x84, 0xaa  …  0x2c, 0x20, 0x31, 0x2e, 0x30, 0x4e, 0x30, 0x66, 0x38, 0x29], nothing, Dict{String, Vector{UInt8}}(\"visible\" => [0x84, 0xa8, 0x70, 0x72, 0x6f, 0x70, 0x65, 0x72, 0x74, 0x79  …  0x2c, 0x20, 0x31, 0x2e, 0x30, 0x4e, 0x30, 0x66, 0x38, 0x29]), nothing, Dict{String, MeshCat.SceneTrees.SceneNode}()))), \"(9, 73)\" => MeshCat.SceneTrees.SceneNode(nothing, nothing, Dict{String, Vector{UInt8}}(), nothing, Dict{String, MeshCat.SceneTrees.SceneNode}(\"(0.0N0f8, 0.0N0f8, 1.0N0f8, 1.0N0f8)\" => MeshCat.SceneTrees.SceneNode(UInt8[0x83, 0xa6, 0x6f, 0x62, 0x6a, 0x65, 0x63, 0x74, 0x84, 0xaa  …  0x2c, 0x20, 0x31, 0x2e, 0x30, 0x4e, 0x30, 0x66, 0x38, 0x29], nothing, Dict{String, Vector{UInt8}}(\"visible\" => [0x84, 0xa8, 0x70, 0x72, 0x6f, 0x70, 0x65, 0x72, 0x74, 0x79  …  0x2c, 0x20, 0x31, 0x2e, 0x30, 0x4e, 0x30, 0x66, 0x38, 0x29]), nothing, Dict{String, MeshCat.SceneTrees.SceneNode}()))), \"(72, 76)\" => MeshCat.SceneTrees.SceneNode(nothing, nothing, Dict{String, Vector{UInt8}}(), nothing, Dict{String, MeshCat.SceneTrees.SceneNode}(\"(0.0N0f8, 0.0N0f8, 1.0N0f8, 1.0N0f8)\" => MeshCat.SceneTrees.SceneNode(UInt8[0x83, 0xa6, 0x6f, 0x62, 0x6a, 0x65, 0x63, 0x74, 0x84, 0xaa  …  0x2c, 0x20, 0x31, 0x2e, 0x30, 0x4e, 0x30, 0x66, 0x38, 0x29], nothing, Dict{String, Vector{UInt8}}(\"visible\" => [0x84, 0xa8, 0x70, 0x72, 0x6f, 0x70, 0x65, 0x72, 0x74, 0x79  …  0x2c, 0x20, 0x31, 0x2e, 0x30, 0x4e, 0x30, 0x66, 0x38, 0x29]), nothing, Dict{String, MeshCat.SceneTrees.SceneNode}()))), \"(50, 85)\" => MeshCat.SceneTrees.SceneNode(nothing, nothing, Dict{String, Vector{UInt8}}(), nothing, Dict{String, MeshCat.SceneTrees.SceneNode}(\"(0.0N0f8, 0.0N0f8, 1.0N0f8, 1.0N0f8)\" => MeshCat.SceneTrees.SceneNode(UInt8[0x83, 0xa6, 0x6f, 0x62, 0x6a, 0x65, 0x63, 0x74, 0x84, 0xaa  …  0x2c, 0x20, 0x31, 0x2e, 0x30, 0x4e, 0x30, 0x66, 0x38, 0x29], nothing, Dict{String, Vector{UInt8}}(\"visible\" => [0x84, 0xa8, 0x70, 0x72, 0x6f, 0x70, 0x65, 0x72, 0x74, 0x79  …  0x2c, 0x20, 0x31, 0x2e, 0x30, 0x4e, 0x30, 0x66, 0x38, 0x29]), nothing, Dict{String, MeshCat.SceneTrees.SceneNode}())))…)))), \"Axes\" => MeshCat.SceneTrees.SceneNode(nothing, nothing, Dict{String, Vector{UInt8}}(), nothing, Dict{String, MeshCat.SceneTrees.SceneNode}(\"<object>\" => MeshCat.SceneTrees.SceneNode(UInt8[0x83, 0xa6, 0x6f, 0x62, 0x6a, 0x65, 0x63, 0x74, 0x84, 0xaa  …  0x73, 0x2f, 0x3c, 0x6f, 0x62, 0x6a, 0x65, 0x63, 0x74, 0x3e], UInt8[0x83, 0xa6, 0x6d, 0x61, 0x74, 0x72, 0x69, 0x78, 0xc7, 0x40  …  0x73, 0x2f, 0x3c, 0x6f, 0x62, 0x6a, 0x65, 0x63, 0x74, 0x3e], Dict{String, Vector{UInt8}}(), nothing, Dict{String, MeshCat.SceneTrees.SceneNode}()))))), Set{HTTP.WebSockets.WebSocket}(), ip\"127.0.0.1\", 8718))), WebIO.Node{WebIO.DOM}(WebIO.DOM(:html, :div), Any[WebIO.Scope(WebIO.Node{WebIO.DOM}(WebIO.DOM(:html, :div), Any[], Dict{Symbol, Any}(:id => \"container\")), Dict{String, Tuple{Observables.AbstractObservable, Union{Nothing, Bool}}}(\"value\" => (Observable(\"\\\\;\\\\;\"), nothing)), Set{String}(), nothing, WebIO.Asset[WebIO.Asset(\"js\", nothing, \"/home/dushya/.julia/packages/InteractBase/LJXv3/src/../assets/katex.min.js\"), WebIO.Asset(\"css\", nothing, \"/home/dushya/.julia/packages/InteractBase/LJXv3/src/../assets/katex.min.css\")], Dict{Any, Any}(\"value\" => Any[WebIO.JSString(\"(function (txt){return this.k.render(txt,this.container)})\")]), WebIO.ConnectionPool(Channel{Any}(32), Set{WebIO.AbstractConnection}(), Base.GenericCondition{ReentrantLock}(Base.IntrusiveLinkedList{Task}(Task (runnable) @0x00007fcea61c5780, Task (runnable) @0x00007fcea61c5780), ReentrantLock(nothing, 0x00000000, 0x00, Base.GenericCondition{Base.Threads.SpinLock}(Base.IntrusiveLinkedList{Task}(nothing, nothing), Base.Threads.SpinLock(0)), (8, 140526390702160, 140525555843408)))), WebIO.JSString[WebIO.JSString(\"function () {\\n    var handler = ((function (k){this.k=k; this.container=this.dom.querySelector(\\\"#container\\\"); return k.render(\\\"\\\\\\\\;\\\\\\\\;\\\",this.container)}));\\n    (WebIO.importBlock({\\\"data\\\":[{\\\"name\\\":null,\\\"type\\\":\\\"js\\\",\\\"url\\\":\\\"/assetserver/dd22ed1bf1896c2748f3fe616ce0b838adc895c1-katex.min.js\\\"},{\\\"name\\\":null,\\\"type\\\":\\\"css\\\",\\\"url\\\":\\\"/assetserver/46517a424aa5e6cffc1360d7e0848b601c584ee3-katex.min.css\\\"}],\\\"type\\\":\\\"async_block\\\"})).then((imports) => handler.apply(this, imports));\\n}\\n\")])], Dict{Symbol, Any}(:className => \"interact-widget\")), WebIO.Node{WebIO.DOM}(WebIO.DOM(:html, :div), Any[], Dict{Symbol, Any}(:style => Dict(\"display\" => \"flex\", \"flex-direction\" => \"column\")))], Dict{Symbol, Any}(:style => Dict(\"display\" => \"flex\", \"flex-direction\" => \"row\")))], Dict{Symbol, Any}(:style => Dict(\"display\" => \"flex\", \"flex-direction\" => \"column\")))"
      ]
     },
     "execution_count": 69,
     "metadata": {
      "application/vnd.webio.node+json": {
       "kernelId": "fab3a207-5cc6-48f3-878c-afb9e67be364"
      }
     },
     "output_type": "execute_result"
    }
   ],
   "source": [
    "create_interactive_app(model, initialiser = initialiser!,\n",
    "    step_rule = step_rule!,\n",
    "    model_controls = [(:nns, \"slider\", 1:20)],\n",
    "    frames = n\n",
    ")"
   ]
  },
  {
   "cell_type": "markdown",
   "metadata": {},
   "source": [
    "## Step 5: Fetch Data \n",
    "\n",
    "In the present model we didn't record any data, however, since the model involved a dynamic graph the number of edges (and nodes) at each time step were recorded by default by EasyABM. We can get the data of number of edges at each time step as follows"
   ]
  },
  {
   "cell_type": "code",
   "execution_count": 70,
   "metadata": {},
   "outputs": [
    {
     "data": {
      "image/png": "[encoded data removed]",
      "image/svg+xml": [
       "<?xml version=\"1.0\" encoding=\"utf-8\"?>\n",
       "<svg xmlns=\"http://www.w3.org/2000/svg\" xmlns:xlink=\"http://www.w3.org/1999/xlink\" width=\"600\" height=\"400\" viewBox=\"0 0 2400 1600\">\n",
       "<defs>\n",
       "  <clipPath id=\"clip480\">\n",
       "    <rect x=\"0\" y=\"0\" width=\"2400\" height=\"1600\"/>\n",
       "  </clipPath>\n",
       "</defs>\n",
       "<path clip-path=\"url(#clip480)\" d=\"M0 1600 L2400 1600 L2400 0 L0 0  Z\" fill=\"#ffffff\" fill-rule=\"evenodd\" fill-opacity=\"1\"/>\n",
       "<defs>\n",
       "  <clipPath id=\"clip481\">\n",
       "    <rect x=\"480\" y=\"0\" width=\"1681\" height=\"1600\"/>\n",
       "  </clipPath>\n",
       "</defs>\n",
       "<path clip-path=\"url(#clip480)\" d=\"M232.389 1423.18 L2352.76 1423.18 L2352.76 47.2441 L232.389 47.2441  Z\" fill=\"#ffffff\" fill-rule=\"evenodd\" fill-opacity=\"1\"/>\n",
       "<defs>\n",
       "  <clipPath id=\"clip482\">\n",
       "    <rect x=\"232\" y=\"47\" width=\"2121\" height=\"1377\"/>\n",
       "  </clipPath>\n",
       "</defs>\n",
       "<polyline clip-path=\"url(#clip482)\" style=\"stroke:#000000; stroke-linecap:round; stroke-linejoin:round; stroke-width:2; stroke-opacity:0.1; fill:none\" points=\"272.396,1423.18 272.396,47.2441 \"/>\n",
       "<polyline clip-path=\"url(#clip482)\" style=\"stroke:#000000; stroke-linecap:round; stroke-linejoin:round; stroke-width:2; stroke-opacity:0.1; fill:none\" points=\"772.483,1423.18 772.483,47.2441 \"/>\n",
       "<polyline clip-path=\"url(#clip482)\" style=\"stroke:#000000; stroke-linecap:round; stroke-linejoin:round; stroke-width:2; stroke-opacity:0.1; fill:none\" points=\"1272.57,1423.18 1272.57,47.2441 \"/>\n",
       "<polyline clip-path=\"url(#clip482)\" style=\"stroke:#000000; stroke-linecap:round; stroke-linejoin:round; stroke-width:2; stroke-opacity:0.1; fill:none\" points=\"1772.66,1423.18 1772.66,47.2441 \"/>\n",
       "<polyline clip-path=\"url(#clip482)\" style=\"stroke:#000000; stroke-linecap:round; stroke-linejoin:round; stroke-width:2; stroke-opacity:0.1; fill:none\" points=\"2272.74,1423.18 2272.74,47.2441 \"/>\n",
       "<polyline clip-path=\"url(#clip480)\" style=\"stroke:#000000; stroke-linecap:round; stroke-linejoin:round; stroke-width:4; stroke-opacity:1; fill:none\" points=\"232.389,1423.18 2352.76,1423.18 \"/>\n",
       "<polyline clip-path=\"url(#clip480)\" style=\"stroke:#000000; stroke-linecap:round; stroke-linejoin:round; stroke-width:4; stroke-opacity:1; fill:none\" points=\"272.396,1423.18 272.396,1404.28 \"/>\n",
       "<polyline clip-path=\"url(#clip480)\" style=\"stroke:#000000; stroke-linecap:round; stroke-linejoin:round; stroke-width:4; stroke-opacity:1; fill:none\" points=\"772.483,1423.18 772.483,1404.28 \"/>\n",
       "<polyline clip-path=\"url(#clip480)\" style=\"stroke:#000000; stroke-linecap:round; stroke-linejoin:round; stroke-width:4; stroke-opacity:1; fill:none\" points=\"1272.57,1423.18 1272.57,1404.28 \"/>\n",
       "<polyline clip-path=\"url(#clip480)\" style=\"stroke:#000000; stroke-linecap:round; stroke-linejoin:round; stroke-width:4; stroke-opacity:1; fill:none\" points=\"1772.66,1423.18 1772.66,1404.28 \"/>\n",
       "<polyline clip-path=\"url(#clip480)\" style=\"stroke:#000000; stroke-linecap:round; stroke-linejoin:round; stroke-width:4; stroke-opacity:1; fill:none\" points=\"2272.74,1423.18 2272.74,1404.28 \"/>\n",
       "<path clip-path=\"url(#clip480)\" d=\"M272.396 1454.1 Q268.785 1454.1 266.956 1457.66 Q265.151 1461.2 265.151 1468.33 Q265.151 1475.44 266.956 1479.01 Q268.785 1482.55 272.396 1482.55 Q276.031 1482.55 277.836 1479.01 Q279.665 1475.44 279.665 1468.33 Q279.665 1461.2 277.836 1457.66 Q276.031 1454.1 272.396 1454.1 M272.396 1450.39 Q278.206 1450.39 281.262 1455 Q284.341 1459.58 284.341 1468.33 Q284.341 1477.06 281.262 1481.67 Q278.206 1486.25 272.396 1486.25 Q266.586 1486.25 263.507 1481.67 Q260.452 1477.06 260.452 1468.33 Q260.452 1459.58 263.507 1455 Q266.586 1450.39 272.396 1450.39 Z\" fill=\"#000000\" fill-rule=\"nonzero\" fill-opacity=\"1\" /><path clip-path=\"url(#clip480)\" d=\"M751.754 1481.64 L768.073 1481.64 L768.073 1485.58 L746.129 1485.58 L746.129 1481.64 Q748.791 1478.89 753.374 1474.26 Q757.98 1469.61 759.161 1468.27 Q761.406 1465.74 762.286 1464.01 Q763.189 1462.25 763.189 1460.56 Q763.189 1457.8 761.244 1456.07 Q759.323 1454.33 756.221 1454.33 Q754.022 1454.33 751.568 1455.09 Q749.138 1455.86 746.36 1457.41 L746.36 1452.69 Q749.184 1451.55 751.638 1450.97 Q754.092 1450.39 756.129 1450.39 Q761.499 1450.39 764.693 1453.08 Q767.888 1455.77 767.888 1460.26 Q767.888 1462.39 767.078 1464.31 Q766.291 1466.2 764.184 1468.8 Q763.605 1469.47 760.504 1472.69 Q757.402 1475.88 751.754 1481.64 Z\" fill=\"#000000\" fill-rule=\"nonzero\" fill-opacity=\"1\" /><path clip-path=\"url(#clip480)\" d=\"M777.934 1451.02 L796.29 1451.02 L796.29 1454.96 L782.216 1454.96 L782.216 1463.43 Q783.235 1463.08 784.253 1462.92 Q785.272 1462.73 786.291 1462.73 Q792.078 1462.73 795.457 1465.9 Q798.837 1469.08 798.837 1474.49 Q798.837 1480.07 795.365 1483.17 Q791.892 1486.25 785.573 1486.25 Q783.397 1486.25 781.129 1485.88 Q778.883 1485.51 776.476 1484.77 L776.476 1480.07 Q778.559 1481.2 780.781 1481.76 Q783.003 1482.32 785.48 1482.32 Q789.485 1482.32 791.823 1480.21 Q794.161 1478.1 794.161 1474.49 Q794.161 1470.88 791.823 1468.77 Q789.485 1466.67 785.48 1466.67 Q783.605 1466.67 781.73 1467.08 Q779.879 1467.5 777.934 1468.38 L777.934 1451.02 Z\" fill=\"#000000\" fill-rule=\"nonzero\" fill-opacity=\"1\" /><path clip-path=\"url(#clip480)\" d=\"M1247.27 1451.02 L1265.62 1451.02 L1265.62 1454.96 L1251.55 1454.96 L1251.55 1463.43 Q1252.57 1463.08 1253.59 1462.92 Q1254.61 1462.73 1255.62 1462.73 Q1261.41 1462.73 1264.79 1465.9 Q1268.17 1469.08 1268.17 1474.49 Q1268.17 1480.07 1264.7 1483.17 Q1261.23 1486.25 1254.91 1486.25 Q1252.73 1486.25 1250.46 1485.88 Q1248.22 1485.51 1245.81 1484.77 L1245.81 1480.07 Q1247.89 1481.2 1250.12 1481.76 Q1252.34 1482.32 1254.81 1482.32 Q1258.82 1482.32 1261.16 1480.21 Q1263.5 1478.1 1263.5 1474.49 Q1263.5 1470.88 1261.16 1468.77 Q1258.82 1466.67 1254.81 1466.67 Q1252.94 1466.67 1251.06 1467.08 Q1249.21 1467.5 1247.27 1468.38 L1247.27 1451.02 Z\" fill=\"#000000\" fill-rule=\"nonzero\" fill-opacity=\"1\" /><path clip-path=\"url(#clip480)\" d=\"M1287.38 1454.1 Q1283.77 1454.1 1281.94 1457.66 Q1280.14 1461.2 1280.14 1468.33 Q1280.14 1475.44 1281.94 1479.01 Q1283.77 1482.55 1287.38 1482.55 Q1291.02 1482.55 1292.82 1479.01 Q1294.65 1475.44 1294.65 1468.33 Q1294.65 1461.2 1292.82 1457.66 Q1291.02 1454.1 1287.38 1454.1 M1287.38 1450.39 Q1293.19 1450.39 1296.25 1455 Q1299.33 1459.58 1299.33 1468.33 Q1299.33 1477.06 1296.25 1481.67 Q1293.19 1486.25 1287.38 1486.25 Q1281.57 1486.25 1278.5 1481.67 Q1275.44 1477.06 1275.44 1468.33 Q1275.44 1459.58 1278.5 1455 Q1281.57 1450.39 1287.38 1450.39 Z\" fill=\"#000000\" fill-rule=\"nonzero\" fill-opacity=\"1\" /><path clip-path=\"url(#clip480)\" d=\"M1746.51 1451.02 L1768.73 1451.02 L1768.73 1453.01 L1756.19 1485.58 L1751.3 1485.58 L1763.11 1454.96 L1746.51 1454.96 L1746.51 1451.02 Z\" fill=\"#000000\" fill-rule=\"nonzero\" fill-opacity=\"1\" /><path clip-path=\"url(#clip480)\" d=\"M1777.9 1451.02 L1796.26 1451.02 L1796.26 1454.96 L1782.18 1454.96 L1782.18 1463.43 Q1783.2 1463.08 1784.22 1462.92 Q1785.24 1462.73 1786.26 1462.73 Q1792.04 1462.73 1795.42 1465.9 Q1798.8 1469.08 1798.8 1474.49 Q1798.8 1480.07 1795.33 1483.17 Q1791.86 1486.25 1785.54 1486.25 Q1783.36 1486.25 1781.09 1485.88 Q1778.85 1485.51 1776.44 1484.77 L1776.44 1480.07 Q1778.52 1481.2 1780.75 1481.76 Q1782.97 1482.32 1785.44 1482.32 Q1789.45 1482.32 1791.79 1480.21 Q1794.13 1478.1 1794.13 1474.49 Q1794.13 1470.88 1791.79 1468.77 Q1789.45 1466.67 1785.44 1466.67 Q1783.57 1466.67 1781.69 1467.08 Q1779.84 1467.5 1777.9 1468.38 L1777.9 1451.02 Z\" fill=\"#000000\" fill-rule=\"nonzero\" fill-opacity=\"1\" /><path clip-path=\"url(#clip480)\" d=\"M2232.35 1481.64 L2239.99 1481.64 L2239.99 1455.28 L2231.68 1456.95 L2231.68 1452.69 L2239.94 1451.02 L2244.62 1451.02 L2244.62 1481.64 L2252.26 1481.64 L2252.26 1485.58 L2232.35 1485.58 L2232.35 1481.64 Z\" fill=\"#000000\" fill-rule=\"nonzero\" fill-opacity=\"1\" /><path clip-path=\"url(#clip480)\" d=\"M2271.7 1454.1 Q2268.09 1454.1 2266.26 1457.66 Q2264.46 1461.2 2264.46 1468.33 Q2264.46 1475.44 2266.26 1479.01 Q2268.09 1482.55 2271.7 1482.55 Q2275.33 1482.55 2277.14 1479.01 Q2278.97 1475.44 2278.97 1468.33 Q2278.97 1461.2 2277.14 1457.66 Q2275.33 1454.1 2271.7 1454.1 M2271.7 1450.39 Q2277.51 1450.39 2280.57 1455 Q2283.64 1459.58 2283.64 1468.33 Q2283.64 1477.06 2280.57 1481.67 Q2277.51 1486.25 2271.7 1486.25 Q2265.89 1486.25 2262.81 1481.67 Q2259.76 1477.06 2259.76 1468.33 Q2259.76 1459.58 2262.81 1455 Q2265.89 1450.39 2271.7 1450.39 Z\" fill=\"#000000\" fill-rule=\"nonzero\" fill-opacity=\"1\" /><path clip-path=\"url(#clip480)\" d=\"M2301.86 1454.1 Q2298.25 1454.1 2296.42 1457.66 Q2294.62 1461.2 2294.62 1468.33 Q2294.62 1475.44 2296.42 1479.01 Q2298.25 1482.55 2301.86 1482.55 Q2305.5 1482.55 2307.3 1479.01 Q2309.13 1475.44 2309.13 1468.33 Q2309.13 1461.2 2307.3 1457.66 Q2305.5 1454.1 2301.86 1454.1 M2301.86 1450.39 Q2307.67 1450.39 2310.73 1455 Q2313.81 1459.58 2313.81 1468.33 Q2313.81 1477.06 2310.73 1481.67 Q2307.67 1486.25 2301.86 1486.25 Q2296.05 1486.25 2292.97 1481.67 Q2289.92 1477.06 2289.92 1468.33 Q2289.92 1459.58 2292.97 1455 Q2296.05 1450.39 2301.86 1450.39 Z\" fill=\"#000000\" fill-rule=\"nonzero\" fill-opacity=\"1\" /><path clip-path=\"url(#clip480)\" d=\"M1229.62 1522.27 L1229.62 1532.4 L1241.68 1532.4 L1241.68 1536.95 L1229.62 1536.95 L1229.62 1556.3 Q1229.62 1560.66 1230.79 1561.9 Q1232 1563.14 1235.66 1563.14 L1241.68 1563.14 L1241.68 1568.04 L1235.66 1568.04 Q1228.88 1568.04 1226.31 1565.53 Q1223.73 1562.98 1223.73 1556.3 L1223.73 1536.95 L1219.43 1536.95 L1219.43 1532.4 L1223.73 1532.4 L1223.73 1522.27 L1229.62 1522.27 Z\" fill=\"#000000\" fill-rule=\"nonzero\" fill-opacity=\"1\" /><path clip-path=\"url(#clip480)\" d=\"M1249.38 1532.4 L1255.24 1532.4 L1255.24 1568.04 L1249.38 1568.04 L1249.38 1532.4 M1249.38 1518.52 L1255.24 1518.52 L1255.24 1525.93 L1249.38 1525.93 L1249.38 1518.52 Z\" fill=\"#000000\" fill-rule=\"nonzero\" fill-opacity=\"1\" /><path clip-path=\"url(#clip480)\" d=\"M1293.15 1533.76 L1293.15 1539.24 Q1290.66 1537.87 1288.15 1537.2 Q1285.67 1536.5 1283.12 1536.5 Q1277.42 1536.5 1274.27 1540.13 Q1271.12 1543.73 1271.12 1550.25 Q1271.12 1556.78 1274.27 1560.4 Q1277.42 1564 1283.12 1564 Q1285.67 1564 1288.15 1563.33 Q1290.66 1562.63 1293.15 1561.26 L1293.15 1566.68 Q1290.69 1567.82 1288.05 1568.39 Q1285.44 1568.97 1282.48 1568.97 Q1274.43 1568.97 1269.69 1563.91 Q1264.95 1558.85 1264.95 1550.25 Q1264.95 1541.53 1269.72 1536.53 Q1274.53 1531.54 1282.86 1531.54 Q1285.57 1531.54 1288.15 1532.11 Q1290.73 1532.65 1293.15 1533.76 Z\" fill=\"#000000\" fill-rule=\"nonzero\" fill-opacity=\"1\" /><path clip-path=\"url(#clip480)\" d=\"M1303.11 1518.52 L1309 1518.52 L1309 1547.77 L1326.47 1532.4 L1333.95 1532.4 L1315.04 1549.07 L1334.75 1568.04 L1327.11 1568.04 L1309 1550.63 L1309 1568.04 L1303.11 1568.04 L1303.11 1518.52 Z\" fill=\"#000000\" fill-rule=\"nonzero\" fill-opacity=\"1\" /><path clip-path=\"url(#clip480)\" d=\"M1363.8 1533.45 L1363.8 1538.98 Q1361.32 1537.71 1358.65 1537.07 Q1355.98 1536.44 1353.11 1536.44 Q1348.75 1536.44 1346.55 1537.77 Q1344.39 1539.11 1344.39 1541.79 Q1344.39 1543.82 1345.95 1545 Q1347.51 1546.15 1352.22 1547.2 L1354.22 1547.64 Q1360.46 1548.98 1363.07 1551.43 Q1365.71 1553.85 1365.71 1558.21 Q1365.71 1563.17 1361.77 1566.07 Q1357.85 1568.97 1350.98 1568.97 Q1348.11 1568.97 1344.99 1568.39 Q1341.91 1567.85 1338.47 1566.74 L1338.47 1560.69 Q1341.72 1562.38 1344.87 1563.24 Q1348.02 1564.07 1351.11 1564.07 Q1355.24 1564.07 1357.47 1562.66 Q1359.7 1561.23 1359.7 1558.65 Q1359.7 1556.27 1358.08 1554.99 Q1356.48 1553.72 1351.04 1552.54 L1349 1552.07 Q1343.56 1550.92 1341.14 1548.56 Q1338.72 1546.18 1338.72 1542.04 Q1338.72 1537.01 1342.29 1534.27 Q1345.85 1531.54 1352.41 1531.54 Q1355.66 1531.54 1358.52 1532.01 Q1361.39 1532.49 1363.8 1533.45 Z\" fill=\"#000000\" fill-rule=\"nonzero\" fill-opacity=\"1\" /><polyline clip-path=\"url(#clip482)\" style=\"stroke:#000000; stroke-linecap:round; stroke-linejoin:round; stroke-width:2; stroke-opacity:0.1; fill:none\" points=\"232.389,1404.52 2352.76,1404.52 \"/>\n",
       "<polyline clip-path=\"url(#clip482)\" style=\"stroke:#000000; stroke-linecap:round; stroke-linejoin:round; stroke-width:2; stroke-opacity:0.1; fill:none\" points=\"232.389,1201.7 2352.76,1201.7 \"/>\n",
       "<polyline clip-path=\"url(#clip482)\" style=\"stroke:#000000; stroke-linecap:round; stroke-linejoin:round; stroke-width:2; stroke-opacity:0.1; fill:none\" points=\"232.389,998.879 2352.76,998.879 \"/>\n",
       "<polyline clip-path=\"url(#clip482)\" style=\"stroke:#000000; stroke-linecap:round; stroke-linejoin:round; stroke-width:2; stroke-opacity:0.1; fill:none\" points=\"232.389,796.058 2352.76,796.058 \"/>\n",
       "<polyline clip-path=\"url(#clip482)\" style=\"stroke:#000000; stroke-linecap:round; stroke-linejoin:round; stroke-width:2; stroke-opacity:0.1; fill:none\" points=\"232.389,593.237 2352.76,593.237 \"/>\n",
       "<polyline clip-path=\"url(#clip482)\" style=\"stroke:#000000; stroke-linecap:round; stroke-linejoin:round; stroke-width:2; stroke-opacity:0.1; fill:none\" points=\"232.389,390.417 2352.76,390.417 \"/>\n",
       "<polyline clip-path=\"url(#clip482)\" style=\"stroke:#000000; stroke-linecap:round; stroke-linejoin:round; stroke-width:2; stroke-opacity:0.1; fill:none\" points=\"232.389,187.596 2352.76,187.596 \"/>\n",
       "<polyline clip-path=\"url(#clip480)\" style=\"stroke:#000000; stroke-linecap:round; stroke-linejoin:round; stroke-width:4; stroke-opacity:1; fill:none\" points=\"232.389,1423.18 232.389,47.2441 \"/>\n",
       "<polyline clip-path=\"url(#clip480)\" style=\"stroke:#000000; stroke-linecap:round; stroke-linejoin:round; stroke-width:4; stroke-opacity:1; fill:none\" points=\"232.389,1404.52 251.287,1404.52 \"/>\n",
       "<polyline clip-path=\"url(#clip480)\" style=\"stroke:#000000; stroke-linecap:round; stroke-linejoin:round; stroke-width:4; stroke-opacity:1; fill:none\" points=\"232.389,1201.7 251.287,1201.7 \"/>\n",
       "<polyline clip-path=\"url(#clip480)\" style=\"stroke:#000000; stroke-linecap:round; stroke-linejoin:round; stroke-width:4; stroke-opacity:1; fill:none\" points=\"232.389,998.879 251.287,998.879 \"/>\n",
       "<polyline clip-path=\"url(#clip480)\" style=\"stroke:#000000; stroke-linecap:round; stroke-linejoin:round; stroke-width:4; stroke-opacity:1; fill:none\" points=\"232.389,796.058 251.287,796.058 \"/>\n",
       "<polyline clip-path=\"url(#clip480)\" style=\"stroke:#000000; stroke-linecap:round; stroke-linejoin:round; stroke-width:4; stroke-opacity:1; fill:none\" points=\"232.389,593.237 251.287,593.237 \"/>\n",
       "<polyline clip-path=\"url(#clip480)\" style=\"stroke:#000000; stroke-linecap:round; stroke-linejoin:round; stroke-width:4; stroke-opacity:1; fill:none\" points=\"232.389,390.417 251.287,390.417 \"/>\n",
       "<polyline clip-path=\"url(#clip480)\" style=\"stroke:#000000; stroke-linecap:round; stroke-linejoin:round; stroke-width:4; stroke-opacity:1; fill:none\" points=\"232.389,187.596 251.287,187.596 \"/>\n",
       "<path clip-path=\"url(#clip480)\" d=\"M184.445 1390.32 Q180.834 1390.32 179.005 1393.88 Q177.2 1397.43 177.2 1404.56 Q177.2 1411.66 179.005 1415.23 Q180.834 1418.77 184.445 1418.77 Q188.079 1418.77 189.885 1415.23 Q191.713 1411.66 191.713 1404.56 Q191.713 1397.43 189.885 1393.88 Q188.079 1390.32 184.445 1390.32 M184.445 1386.62 Q190.255 1386.62 193.311 1391.22 Q196.389 1395.81 196.389 1404.56 Q196.389 1413.28 193.311 1417.89 Q190.255 1422.47 184.445 1422.47 Q178.635 1422.47 175.556 1417.89 Q172.501 1413.28 172.501 1404.56 Q172.501 1395.81 175.556 1391.22 Q178.635 1386.62 184.445 1386.62 Z\" fill=\"#000000\" fill-rule=\"nonzero\" fill-opacity=\"1\" /><path clip-path=\"url(#clip480)\" d=\"M148.311 1215.04 L164.63 1215.04 L164.63 1218.98 L142.686 1218.98 L142.686 1215.04 Q145.348 1212.29 149.931 1207.66 Q154.538 1203.01 155.718 1201.66 Q157.964 1199.14 158.843 1197.41 Q159.746 1195.65 159.746 1193.96 Q159.746 1191.2 157.802 1189.47 Q155.88 1187.73 152.778 1187.73 Q150.579 1187.73 148.126 1188.49 Q145.695 1189.26 142.917 1190.81 L142.917 1186.09 Q145.741 1184.95 148.195 1184.37 Q150.649 1183.79 152.686 1183.79 Q158.056 1183.79 161.251 1186.48 Q164.445 1189.16 164.445 1193.66 Q164.445 1195.79 163.635 1197.71 Q162.848 1199.6 160.741 1202.2 Q160.163 1202.87 157.061 1206.09 Q153.959 1209.28 148.311 1215.04 Z\" fill=\"#000000\" fill-rule=\"nonzero\" fill-opacity=\"1\" /><path clip-path=\"url(#clip480)\" d=\"M184.445 1187.5 Q180.834 1187.5 179.005 1191.06 Q177.2 1194.6 177.2 1201.73 Q177.2 1208.84 179.005 1212.41 Q180.834 1215.95 184.445 1215.95 Q188.079 1215.95 189.885 1212.41 Q191.713 1208.84 191.713 1201.73 Q191.713 1194.6 189.885 1191.06 Q188.079 1187.5 184.445 1187.5 M184.445 1183.79 Q190.255 1183.79 193.311 1188.4 Q196.389 1192.98 196.389 1201.73 Q196.389 1210.46 193.311 1215.07 Q190.255 1219.65 184.445 1219.65 Q178.635 1219.65 175.556 1215.07 Q172.501 1210.46 172.501 1201.73 Q172.501 1192.98 175.556 1188.4 Q178.635 1183.79 184.445 1183.79 Z\" fill=\"#000000\" fill-rule=\"nonzero\" fill-opacity=\"1\" /><path clip-path=\"url(#clip480)\" d=\"M157.13 985.673 L145.325 1004.12 L157.13 1004.12 L157.13 985.673 M155.903 981.599 L161.783 981.599 L161.783 1004.12 L166.714 1004.12 L166.714 1008.01 L161.783 1008.01 L161.783 1016.16 L157.13 1016.16 L157.13 1008.01 L141.529 1008.01 L141.529 1003.5 L155.903 981.599 Z\" fill=\"#000000\" fill-rule=\"nonzero\" fill-opacity=\"1\" /><path clip-path=\"url(#clip480)\" d=\"M184.445 984.678 Q180.834 984.678 179.005 988.242 Q177.2 991.784 177.2 998.914 Q177.2 1006.02 179.005 1009.58 Q180.834 1013.13 184.445 1013.13 Q188.079 1013.13 189.885 1009.58 Q191.713 1006.02 191.713 998.914 Q191.713 991.784 189.885 988.242 Q188.079 984.678 184.445 984.678 M184.445 980.974 Q190.255 980.974 193.311 985.58 Q196.389 990.164 196.389 998.914 Q196.389 1007.64 193.311 1012.25 Q190.255 1016.83 184.445 1016.83 Q178.635 1016.83 175.556 1012.25 Q172.501 1007.64 172.501 998.914 Q172.501 990.164 175.556 985.58 Q178.635 980.974 184.445 980.974 Z\" fill=\"#000000\" fill-rule=\"nonzero\" fill-opacity=\"1\" /><path clip-path=\"url(#clip480)\" d=\"M154.862 794.195 Q151.714 794.195 149.862 796.348 Q148.033 798.5 148.033 802.25 Q148.033 805.977 149.862 808.153 Q151.714 810.306 154.862 810.306 Q158.01 810.306 159.839 808.153 Q161.69 805.977 161.69 802.25 Q161.69 798.5 159.839 796.348 Q158.01 794.195 154.862 794.195 M164.144 779.542 L164.144 783.801 Q162.385 782.968 160.579 782.528 Q158.797 782.088 157.038 782.088 Q152.408 782.088 149.954 785.213 Q147.524 788.338 147.177 794.658 Q148.542 792.644 150.603 791.579 Q152.663 790.491 155.14 790.491 Q160.348 790.491 163.357 793.662 Q166.39 796.81 166.39 802.25 Q166.39 807.574 163.241 810.792 Q160.093 814.009 154.862 814.009 Q148.866 814.009 145.695 809.426 Q142.524 804.82 142.524 796.093 Q142.524 787.899 146.413 783.037 Q150.302 778.153 156.853 778.153 Q158.612 778.153 160.394 778.5 Q162.2 778.848 164.144 779.542 Z\" fill=\"#000000\" fill-rule=\"nonzero\" fill-opacity=\"1\" /><path clip-path=\"url(#clip480)\" d=\"M184.445 781.857 Q180.834 781.857 179.005 785.422 Q177.2 788.963 177.2 796.093 Q177.2 803.199 179.005 806.764 Q180.834 810.306 184.445 810.306 Q188.079 810.306 189.885 806.764 Q191.713 803.199 191.713 796.093 Q191.713 788.963 189.885 785.422 Q188.079 781.857 184.445 781.857 M184.445 778.153 Q190.255 778.153 193.311 782.76 Q196.389 787.343 196.389 796.093 Q196.389 804.82 193.311 809.426 Q190.255 814.009 184.445 814.009 Q178.635 814.009 175.556 809.426 Q172.501 804.82 172.501 796.093 Q172.501 787.343 175.556 782.76 Q178.635 778.153 184.445 778.153 Z\" fill=\"#000000\" fill-rule=\"nonzero\" fill-opacity=\"1\" /><path clip-path=\"url(#clip480)\" d=\"M154.283 594.106 Q150.95 594.106 149.028 595.888 Q147.13 597.67 147.13 600.795 Q147.13 603.92 149.028 605.703 Q150.95 607.485 154.283 607.485 Q157.616 607.485 159.538 605.703 Q161.459 603.897 161.459 600.795 Q161.459 597.67 159.538 595.888 Q157.64 594.106 154.283 594.106 M149.607 592.115 Q146.598 591.374 144.908 589.314 Q143.241 587.254 143.241 584.291 Q143.241 580.147 146.181 577.74 Q149.144 575.332 154.283 575.332 Q159.445 575.332 162.385 577.74 Q165.325 580.147 165.325 584.291 Q165.325 587.254 163.635 589.314 Q161.968 591.374 158.982 592.115 Q162.362 592.902 164.237 595.193 Q166.135 597.485 166.135 600.795 Q166.135 605.818 163.056 608.504 Q160.001 611.189 154.283 611.189 Q148.566 611.189 145.487 608.504 Q142.431 605.818 142.431 600.795 Q142.431 597.485 144.329 595.193 Q146.228 592.902 149.607 592.115 M147.894 584.731 Q147.894 587.416 149.561 588.92 Q151.251 590.425 154.283 590.425 Q157.292 590.425 158.982 588.92 Q160.695 587.416 160.695 584.731 Q160.695 582.045 158.982 580.541 Q157.292 579.036 154.283 579.036 Q151.251 579.036 149.561 580.541 Q147.894 582.045 147.894 584.731 Z\" fill=\"#000000\" fill-rule=\"nonzero\" fill-opacity=\"1\" /><path clip-path=\"url(#clip480)\" d=\"M184.445 579.036 Q180.834 579.036 179.005 582.601 Q177.2 586.143 177.2 593.272 Q177.2 600.379 179.005 603.943 Q180.834 607.485 184.445 607.485 Q188.079 607.485 189.885 603.943 Q191.713 600.379 191.713 593.272 Q191.713 586.143 189.885 582.601 Q188.079 579.036 184.445 579.036 M184.445 575.332 Q190.255 575.332 193.311 579.939 Q196.389 584.522 196.389 593.272 Q196.389 601.999 193.311 606.605 Q190.255 611.189 184.445 611.189 Q178.635 611.189 175.556 606.605 Q172.501 601.999 172.501 593.272 Q172.501 584.522 175.556 579.939 Q178.635 575.332 184.445 575.332 Z\" fill=\"#000000\" fill-rule=\"nonzero\" fill-opacity=\"1\" /><path clip-path=\"url(#clip480)\" d=\"M114.931 403.762 L122.57 403.762 L122.57 377.396 L114.26 379.063 L114.26 374.803 L122.524 373.137 L127.2 373.137 L127.2 403.762 L134.839 403.762 L134.839 407.697 L114.931 407.697 L114.931 403.762 Z\" fill=\"#000000\" fill-rule=\"nonzero\" fill-opacity=\"1\" /><path clip-path=\"url(#clip480)\" d=\"M154.283 376.215 Q150.672 376.215 148.843 379.78 Q147.038 383.322 147.038 390.451 Q147.038 397.558 148.843 401.123 Q150.672 404.664 154.283 404.664 Q157.917 404.664 159.723 401.123 Q161.552 397.558 161.552 390.451 Q161.552 383.322 159.723 379.78 Q157.917 376.215 154.283 376.215 M154.283 372.512 Q160.093 372.512 163.149 377.118 Q166.227 381.702 166.227 390.451 Q166.227 399.178 163.149 403.785 Q160.093 408.368 154.283 408.368 Q148.473 408.368 145.394 403.785 Q142.339 399.178 142.339 390.451 Q142.339 381.702 145.394 377.118 Q148.473 372.512 154.283 372.512 Z\" fill=\"#000000\" fill-rule=\"nonzero\" fill-opacity=\"1\" /><path clip-path=\"url(#clip480)\" d=\"M184.445 376.215 Q180.834 376.215 179.005 379.78 Q177.2 383.322 177.2 390.451 Q177.2 397.558 179.005 401.123 Q180.834 404.664 184.445 404.664 Q188.079 404.664 189.885 401.123 Q191.713 397.558 191.713 390.451 Q191.713 383.322 189.885 379.78 Q188.079 376.215 184.445 376.215 M184.445 372.512 Q190.255 372.512 193.311 377.118 Q196.389 381.702 196.389 390.451 Q196.389 399.178 193.311 403.785 Q190.255 408.368 184.445 408.368 Q178.635 408.368 175.556 403.785 Q172.501 399.178 172.501 390.451 Q172.501 381.702 175.556 377.118 Q178.635 372.512 184.445 372.512 Z\" fill=\"#000000\" fill-rule=\"nonzero\" fill-opacity=\"1\" /><path clip-path=\"url(#clip480)\" d=\"M114.931 200.941 L122.57 200.941 L122.57 174.575 L114.26 176.242 L114.26 171.983 L122.524 170.316 L127.2 170.316 L127.2 200.941 L134.839 200.941 L134.839 204.876 L114.931 204.876 L114.931 200.941 Z\" fill=\"#000000\" fill-rule=\"nonzero\" fill-opacity=\"1\" /><path clip-path=\"url(#clip480)\" d=\"M148.311 200.941 L164.63 200.941 L164.63 204.876 L142.686 204.876 L142.686 200.941 Q145.348 198.186 149.931 193.557 Q154.538 188.904 155.718 187.561 Q157.964 185.038 158.843 183.302 Q159.746 181.543 159.746 179.853 Q159.746 177.098 157.802 175.362 Q155.88 173.626 152.778 173.626 Q150.579 173.626 148.126 174.39 Q145.695 175.154 142.917 176.705 L142.917 171.983 Q145.741 170.848 148.195 170.27 Q150.649 169.691 152.686 169.691 Q158.056 169.691 161.251 172.376 Q164.445 175.061 164.445 179.552 Q164.445 181.682 163.635 183.603 Q162.848 185.501 160.741 188.094 Q160.163 188.765 157.061 191.983 Q153.959 195.177 148.311 200.941 Z\" fill=\"#000000\" fill-rule=\"nonzero\" fill-opacity=\"1\" /><path clip-path=\"url(#clip480)\" d=\"M184.445 173.395 Q180.834 173.395 179.005 176.96 Q177.2 180.501 177.2 187.631 Q177.2 194.737 179.005 198.302 Q180.834 201.844 184.445 201.844 Q188.079 201.844 189.885 198.302 Q191.713 194.737 191.713 187.631 Q191.713 180.501 189.885 176.96 Q188.079 173.395 184.445 173.395 M184.445 169.691 Q190.255 169.691 193.311 174.297 Q196.389 178.881 196.389 187.631 Q196.389 196.358 193.311 200.964 Q190.255 205.547 184.445 205.547 Q178.635 205.547 175.556 200.964 Q172.501 196.358 172.501 187.631 Q172.501 178.881 175.556 174.297 Q178.635 169.691 184.445 169.691 Z\" fill=\"#000000\" fill-rule=\"nonzero\" fill-opacity=\"1\" /><path clip-path=\"url(#clip480)\" d=\"M42.4881 978.605 L64.0042 978.605 L64.0042 984.461 L42.679 984.461 Q37.6183 984.461 35.1038 986.435 Q32.5894 988.408 32.5894 992.355 Q32.5894 997.097 35.6131 999.834 Q38.6368 1002.57 43.8567 1002.57 L64.0042 1002.57 L64.0042 1008.46 L28.3562 1008.46 L28.3562 1002.57 L33.8944 1002.57 Q30.6797 1000.47 29.0883 997.638 Q27.4968 994.774 27.4968 991.05 Q27.4968 984.907 31.3163 981.756 Q35.1038 978.605 42.4881 978.605 Z\" fill=\"#000000\" fill-rule=\"nonzero\" fill-opacity=\"1\" /><path clip-path=\"url(#clip480)\" d=\"M49.9359 967.528 L28.3562 967.528 L28.3562 961.672 L49.7131 961.672 Q54.7739 961.672 57.3202 959.699 Q59.8346 957.725 59.8346 953.779 Q59.8346 949.036 56.8109 946.299 Q53.7872 943.53 48.5673 943.53 L28.3562 943.53 L28.3562 937.673 L64.0042 937.673 L64.0042 943.53 L58.5296 943.53 Q61.7762 945.662 63.3676 948.495 Q64.9272 951.296 64.9272 955.02 Q64.9272 961.163 61.1078 964.346 Q57.2883 967.528 49.9359 967.528 M27.4968 952.792 L27.4968 952.792 Z\" fill=\"#000000\" fill-rule=\"nonzero\" fill-opacity=\"1\" /><path clip-path=\"url(#clip480)\" d=\"M35.1993 897.856 Q31.2526 895.66 29.3747 892.604 Q27.4968 889.549 27.4968 885.411 Q27.4968 879.841 31.4117 876.817 Q35.2948 873.793 42.4881 873.793 L64.0042 873.793 L64.0042 879.682 L42.679 879.682 Q37.5546 879.682 35.072 881.496 Q32.5894 883.31 32.5894 887.034 Q32.5894 891.586 35.6131 894.227 Q38.6368 896.869 43.8567 896.869 L64.0042 896.869 L64.0042 902.757 L42.679 902.757 Q37.5228 902.757 35.072 904.572 Q32.5894 906.386 32.5894 910.173 Q32.5894 914.661 35.6449 917.303 Q38.6686 919.945 43.8567 919.945 L64.0042 919.945 L64.0042 925.833 L28.3562 925.833 L28.3562 919.945 L33.8944 919.945 Q30.616 917.94 29.0564 915.139 Q27.4968 912.338 27.4968 908.487 Q27.4968 904.603 29.4702 901.898 Q31.4436 899.161 35.1993 897.856 Z\" fill=\"#000000\" fill-rule=\"nonzero\" fill-opacity=\"1\" /><path clip-path=\"url(#clip480)\" d=\"M46.212 836.522 Q39.7508 836.522 36.0905 839.196 Q32.3984 841.838 32.3984 846.485 Q32.3984 851.131 36.0905 853.805 Q39.7508 856.447 46.212 856.447 Q52.6732 856.447 56.3653 853.805 Q60.0256 851.131 60.0256 846.485 Q60.0256 841.838 56.3653 839.196 Q52.6732 836.522 46.212 836.522 M33.7671 856.447 Q30.5842 854.601 29.0564 851.8 Q27.4968 848.967 27.4968 845.052 Q27.4968 838.559 32.6531 834.517 Q37.8093 830.443 46.212 830.443 Q54.6147 830.443 59.771 834.517 Q64.9272 838.559 64.9272 845.052 Q64.9272 848.967 63.3994 851.8 Q61.8398 854.601 58.657 856.447 L64.0042 856.447 L64.0042 862.335 L14.479 862.335 L14.479 856.447 L33.7671 856.447 Z\" fill=\"#000000\" fill-rule=\"nonzero\" fill-opacity=\"1\" /><path clip-path=\"url(#clip480)\" d=\"M44.7161 790.244 L47.5806 790.244 L47.5806 817.17 Q53.6281 816.788 56.8109 813.542 Q59.9619 810.264 59.9619 804.439 Q59.9619 801.065 59.1344 797.914 Q58.3069 794.731 56.6518 791.612 L62.1899 791.612 Q63.5267 794.763 64.227 798.073 Q64.9272 801.383 64.9272 804.789 Q64.9272 813.319 59.9619 818.316 Q54.9967 823.282 46.5303 823.282 Q37.7774 823.282 32.6531 818.571 Q27.4968 813.828 27.4968 805.808 Q27.4968 798.614 32.1438 794.445 Q36.7589 790.244 44.7161 790.244 M42.9973 796.1 Q38.1912 796.164 35.3266 798.805 Q32.4621 801.415 32.4621 805.744 Q32.4621 810.646 35.2312 813.606 Q38.0002 816.534 43.0292 816.979 L42.9973 796.1 Z\" fill=\"#000000\" fill-rule=\"nonzero\" fill-opacity=\"1\" /><path clip-path=\"url(#clip480)\" d=\"M33.8307 759.975 Q33.2578 760.961 33.0032 762.139 Q32.7167 763.285 32.7167 764.685 Q32.7167 769.65 35.9632 772.324 Q39.1779 774.966 45.2253 774.966 L64.0042 774.966 L64.0042 780.854 L28.3562 780.854 L28.3562 774.966 L33.8944 774.966 Q30.6479 773.12 29.0883 770.16 Q27.4968 767.2 27.4968 762.966 Q27.4968 762.362 27.5923 761.63 Q27.656 760.898 27.8151 760.006 L33.8307 759.975 Z\" fill=\"#000000\" fill-rule=\"nonzero\" fill-opacity=\"1\" /><path clip-path=\"url(#clip480)\" d=\"M32.4621 719.298 Q32.4621 724.008 36.1542 726.746 Q39.8145 729.483 46.212 729.483 Q52.6095 729.483 56.3017 726.777 Q59.9619 724.04 59.9619 719.298 Q59.9619 714.619 56.2698 711.882 Q52.5777 709.144 46.212 709.144 Q39.8781 709.144 36.186 711.882 Q32.4621 714.619 32.4621 719.298 M27.4968 719.298 Q27.4968 711.659 32.4621 707.298 Q37.4273 702.938 46.212 702.938 Q54.9649 702.938 59.9619 707.298 Q64.9272 711.659 64.9272 719.298 Q64.9272 726.968 59.9619 731.329 Q54.9649 735.658 46.212 735.658 Q37.4273 735.658 32.4621 731.329 Q27.4968 726.968 27.4968 719.298 Z\" fill=\"#000000\" fill-rule=\"nonzero\" fill-opacity=\"1\" /><path clip-path=\"url(#clip480)\" d=\"M14.479 675.183 L19.3487 675.183 L19.3487 680.785 Q19.3487 683.936 20.6219 685.178 Q21.895 686.387 25.2052 686.387 L28.3562 686.387 L28.3562 676.743 L32.9077 676.743 L32.9077 686.387 L64.0042 686.387 L64.0042 692.275 L32.9077 692.275 L32.9077 697.877 L28.3562 697.877 L28.3562 692.275 L25.8736 692.275 Q19.9216 692.275 17.2162 689.506 Q14.479 686.737 14.479 680.722 L14.479 675.183 Z\" fill=\"#000000\" fill-rule=\"nonzero\" fill-opacity=\"1\" /><path clip-path=\"url(#clip480)\" d=\"M44.7161 619.07 L47.5806 619.07 L47.5806 645.997 Q53.6281 645.615 56.8109 642.368 Q59.9619 639.09 59.9619 633.265 Q59.9619 629.891 59.1344 626.74 Q58.3069 623.557 56.6518 620.438 L62.1899 620.438 Q63.5267 623.589 64.227 626.899 Q64.9272 630.21 64.9272 633.615 Q64.9272 642.145 59.9619 647.142 Q54.9967 652.108 46.5303 652.108 Q37.7774 652.108 32.6531 647.397 Q27.4968 642.655 27.4968 634.634 Q27.4968 627.441 32.1438 623.271 Q36.7589 619.07 44.7161 619.07 M42.9973 624.926 Q38.1912 624.99 35.3266 627.632 Q32.4621 630.241 32.4621 634.57 Q32.4621 639.472 35.2312 642.432 Q38.0002 645.36 43.0292 645.806 L42.9973 624.926 Z\" fill=\"#000000\" fill-rule=\"nonzero\" fill-opacity=\"1\" /><path clip-path=\"url(#clip480)\" d=\"M33.7671 586 L14.479 586 L14.479 580.143 L64.0042 580.143 L64.0042 586 L58.657 586 Q61.8398 587.846 63.3994 590.679 Q64.9272 593.48 64.9272 597.426 Q64.9272 603.887 59.771 607.961 Q54.6147 612.004 46.212 612.004 Q37.8093 612.004 32.6531 607.961 Q27.4968 603.887 27.4968 597.426 Q27.4968 593.48 29.0564 590.679 Q30.5842 587.846 33.7671 586 M46.212 605.956 Q52.6732 605.956 56.3653 603.315 Q60.0256 600.641 60.0256 595.994 Q60.0256 591.347 56.3653 588.673 Q52.6732 586 46.212 586 Q39.7508 586 36.0905 588.673 Q32.3984 591.347 32.3984 595.994 Q32.3984 600.641 36.0905 603.315 Q39.7508 605.956 46.212 605.956 Z\" fill=\"#000000\" fill-rule=\"nonzero\" fill-opacity=\"1\" /><path clip-path=\"url(#clip480)\" d=\"M45.7664 544.623 Q39.4007 544.623 35.8996 547.264 Q32.3984 549.874 32.3984 554.617 Q32.3984 559.327 35.8996 561.969 Q39.4007 564.579 45.7664 564.579 Q52.1003 564.579 55.6014 561.969 Q59.1026 559.327 59.1026 554.617 Q59.1026 549.874 55.6014 547.264 Q52.1003 544.623 45.7664 544.623 M59.58 538.766 Q68.683 538.766 73.1071 542.808 Q77.5631 546.851 77.5631 555.19 Q77.5631 558.277 77.0857 561.014 Q76.6401 563.752 75.6852 566.33 L69.9879 566.33 Q71.3884 563.752 72.0568 561.237 Q72.7252 558.723 72.7252 556.113 Q72.7252 550.352 69.7015 547.487 Q66.7096 544.623 60.6303 544.623 L57.7339 544.623 Q60.885 546.437 62.4446 549.27 Q64.0042 552.102 64.0042 556.049 Q64.0042 562.606 59.0071 566.616 Q54.01 570.627 45.7664 570.627 Q37.491 570.627 32.4939 566.616 Q27.4968 562.606 27.4968 556.049 Q27.4968 552.102 29.0564 549.27 Q30.616 546.437 33.7671 544.623 L28.3562 544.623 L28.3562 538.766 L59.58 538.766 Z\" fill=\"#000000\" fill-rule=\"nonzero\" fill-opacity=\"1\" /><path clip-path=\"url(#clip480)\" d=\"M44.7161 496.212 L47.5806 496.212 L47.5806 523.138 Q53.6281 522.757 56.8109 519.51 Q59.9619 516.232 59.9619 510.407 Q59.9619 507.033 59.1344 503.882 Q58.3069 500.699 56.6518 497.58 L62.1899 497.58 Q63.5267 500.731 64.227 504.041 Q64.9272 507.351 64.9272 510.757 Q64.9272 519.287 59.9619 524.284 Q54.9967 529.25 46.5303 529.25 Q37.7774 529.25 32.6531 524.539 Q27.4968 519.796 27.4968 511.776 Q27.4968 504.582 32.1438 500.413 Q36.7589 496.212 44.7161 496.212 M42.9973 502.068 Q38.1912 502.132 35.3266 504.773 Q32.4621 507.383 32.4621 511.712 Q32.4621 516.614 35.2312 519.574 Q38.0002 522.502 43.0292 522.947 L42.9973 502.068 Z\" fill=\"#000000\" fill-rule=\"nonzero\" fill-opacity=\"1\" /><path clip-path=\"url(#clip480)\" d=\"M29.4065 463.874 L34.9447 463.874 Q33.6716 466.356 33.035 469.03 Q32.3984 471.704 32.3984 474.568 Q32.3984 478.929 33.7352 481.125 Q35.072 483.289 37.7456 483.289 Q39.7826 483.289 40.9603 481.73 Q42.1061 480.17 43.1565 475.459 L43.6021 473.454 Q44.9389 467.216 47.3897 464.606 Q49.8086 461.964 54.1691 461.964 Q59.1344 461.964 62.0308 465.911 Q64.9272 469.826 64.9272 476.701 Q64.9272 479.565 64.3543 482.684 Q63.8132 485.772 62.6992 489.209 L56.6518 489.209 Q58.3387 485.963 59.198 482.812 Q60.0256 479.661 60.0256 476.573 Q60.0256 472.436 58.6251 470.208 Q57.1929 467.98 54.6147 467.98 Q52.2276 467.98 50.9545 469.603 Q49.6813 471.194 48.5037 476.637 L48.0262 478.674 Q46.8804 484.117 44.5251 486.536 Q42.138 488.955 38.0002 488.955 Q32.9713 488.955 30.2341 485.39 Q27.4968 481.825 27.4968 475.268 Q27.4968 472.022 27.9743 469.157 Q28.4517 466.293 29.4065 463.874 Z\" fill=\"#000000\" fill-rule=\"nonzero\" fill-opacity=\"1\" /><polyline clip-path=\"url(#clip482)\" style=\"stroke:#009af9; stroke-linecap:round; stroke-linejoin:round; stroke-width:4; stroke-opacity:1; fill:none\" points=\"292.4,1384.24 312.403,1363.96 332.407,1343.67 352.41,1323.39 372.414,1303.11 392.417,1282.83 412.42,1262.55 432.424,1242.26 452.427,1221.98 472.431,1201.7 492.434,1191.56 512.438,1171.28 532.441,1150.99 552.445,1130.71 572.448,1120.57 592.452,1100.29 612.455,1080.01 632.459,1059.73 652.462,1039.44 672.465,1029.3 692.469,1019.16 712.472,998.879 732.476,978.597 752.479,958.315 772.483,948.174 792.486,938.033 812.49,917.751 832.493,897.469 852.497,887.328 872.5,867.045 892.503,846.763 912.507,836.622 932.51,816.34 952.514,796.058 972.517,785.917 992.521,775.776 1012.52,765.635 1032.53,745.353 1052.53,735.212 1072.53,714.93 1092.54,694.648 1112.54,694.648 1132.54,674.366 1152.55,654.084 1172.55,633.802 1192.56,623.661 1212.56,603.379 1232.56,593.237 1252.57,583.096 1272.57,562.814 1292.57,552.673 1312.58,552.673 1332.58,532.391 1352.58,522.25 1372.59,512.109 1392.59,501.968 1412.59,491.827 1432.6,481.686 1452.6,481.686 1472.6,481.686 1492.61,471.545 1512.61,461.404 1532.61,451.263 1552.62,430.981 1572.62,430.981 1592.62,410.699 1612.63,410.699 1632.63,390.417 1652.63,390.417 1672.64,370.135 1692.64,349.853 1712.65,349.853 1732.65,339.712 1752.65,339.712 1772.66,319.429 1792.66,309.288 1812.66,289.006 1832.67,268.724 1852.67,268.724 1872.67,248.442 1892.68,238.301 1912.68,228.16 1932.68,228.16 1952.69,218.019 1972.69,197.737 1992.69,197.737 2012.7,197.737 2032.7,177.455 2052.7,177.455 2072.71,177.455 2092.71,157.173 2112.71,157.173 2132.72,147.032 2152.72,136.891 2172.72,136.891 2192.73,136.891 2212.73,116.609 2232.74,106.468 2252.74,106.468 2272.74,86.1857 2292.75,86.1857 \"/>\n",
       "<path clip-path=\"url(#clip480)\" d=\"M1812.1 196.789 L2282.08 196.789 L2282.08 93.1086 L1812.1 93.1086  Z\" fill=\"#ffffff\" fill-rule=\"evenodd\" fill-opacity=\"1\"/>\n",
       "<polyline clip-path=\"url(#clip480)\" style=\"stroke:#000000; stroke-linecap:round; stroke-linejoin:round; stroke-width:4; stroke-opacity:1; fill:none\" points=\"1812.1,196.789 2282.08,196.789 2282.08,93.1086 1812.1,93.1086 1812.1,196.789 \"/>\n",
       "<polyline clip-path=\"url(#clip480)\" style=\"stroke:#009af9; stroke-linecap:round; stroke-linejoin:round; stroke-width:4; stroke-opacity:1; fill:none\" points=\"1835.66,144.949 1977.02,144.949 \"/>\n",
       "<path clip-path=\"url(#clip480)\" d=\"M2022.29 146.581 L2022.29 162.229 L2018.03 162.229 L2018.03 146.719 Q2018.03 143.039 2016.6 141.21 Q2015.16 139.382 2012.29 139.382 Q2008.84 139.382 2006.85 141.581 Q2004.86 143.78 2004.86 147.576 L2004.86 162.229 L2000.58 162.229 L2000.58 136.303 L2004.86 136.303 L2004.86 140.331 Q2006.39 137.993 2008.45 136.835 Q2010.53 135.678 2013.24 135.678 Q2017.71 135.678 2020 138.456 Q2022.29 141.21 2022.29 146.581 Z\" fill=\"#000000\" fill-rule=\"nonzero\" fill-opacity=\"1\" /><path clip-path=\"url(#clip480)\" d=\"M2030.35 151.997 L2030.35 136.303 L2034.61 136.303 L2034.61 151.835 Q2034.61 155.516 2036.04 157.368 Q2037.48 159.196 2040.35 159.196 Q2043.8 159.196 2045.79 156.997 Q2047.8 154.798 2047.8 151.002 L2047.8 136.303 L2052.06 136.303 L2052.06 162.229 L2047.8 162.229 L2047.8 158.247 Q2046.25 160.608 2044.19 161.766 Q2042.15 162.9 2039.44 162.9 Q2034.98 162.9 2032.66 160.122 Q2030.35 157.344 2030.35 151.997 M2041.06 135.678 L2041.06 135.678 Z\" fill=\"#000000\" fill-rule=\"nonzero\" fill-opacity=\"1\" /><path clip-path=\"url(#clip480)\" d=\"M2081.02 141.28 Q2082.62 138.409 2084.84 137.044 Q2087.06 135.678 2090.07 135.678 Q2094.12 135.678 2096.32 138.525 Q2098.52 141.349 2098.52 146.581 L2098.52 162.229 L2094.24 162.229 L2094.24 146.719 Q2094.24 142.993 2092.92 141.187 Q2091.6 139.382 2088.89 139.382 Q2085.58 139.382 2083.66 141.581 Q2081.74 143.78 2081.74 147.576 L2081.74 162.229 L2077.45 162.229 L2077.45 146.719 Q2077.45 142.969 2076.13 141.187 Q2074.81 139.382 2072.06 139.382 Q2068.8 139.382 2066.87 141.604 Q2064.95 143.803 2064.95 147.576 L2064.95 162.229 L2060.67 162.229 L2060.67 136.303 L2064.95 136.303 L2064.95 140.331 Q2066.41 137.946 2068.45 136.812 Q2070.49 135.678 2073.29 135.678 Q2076.11 135.678 2078.08 137.113 Q2080.07 138.548 2081.02 141.28 Z\" fill=\"#000000\" fill-rule=\"nonzero\" fill-opacity=\"1\" /><path clip-path=\"url(#clip480)\" d=\"M2144.26 148.201 L2144.26 150.284 L2124.68 150.284 Q2124.95 154.682 2127.31 156.997 Q2129.7 159.289 2133.93 159.289 Q2136.39 159.289 2138.68 158.687 Q2140.99 158.085 2143.26 156.881 L2143.26 160.909 Q2140.97 161.881 2138.56 162.391 Q2136.16 162.9 2133.68 162.9 Q2127.48 162.9 2123.84 159.289 Q2120.23 155.678 2120.23 149.52 Q2120.23 143.155 2123.66 139.428 Q2127.11 135.678 2132.94 135.678 Q2138.17 135.678 2141.2 139.057 Q2144.26 142.414 2144.26 148.201 M2140 146.951 Q2139.95 143.456 2138.03 141.372 Q2136.13 139.289 2132.99 139.289 Q2129.42 139.289 2127.27 141.303 Q2125.14 143.317 2124.81 146.974 L2140 146.951 Z\" fill=\"#000000\" fill-rule=\"nonzero\" fill-opacity=\"1\" /><path clip-path=\"url(#clip480)\" d=\"M2168.31 140.238 L2168.31 126.21 L2172.57 126.21 L2172.57 162.229 L2168.31 162.229 L2168.31 158.34 Q2166.97 160.655 2164.91 161.789 Q2162.87 162.9 2160 162.9 Q2155.3 162.9 2152.34 159.15 Q2149.4 155.4 2149.4 149.289 Q2149.4 143.178 2152.34 139.428 Q2155.3 135.678 2160 135.678 Q2162.87 135.678 2164.91 136.812 Q2166.97 137.923 2168.31 140.238 M2153.8 149.289 Q2153.8 153.988 2155.72 156.673 Q2157.66 159.335 2161.04 159.335 Q2164.42 159.335 2166.37 156.673 Q2168.31 153.988 2168.31 149.289 Q2168.31 144.59 2166.37 141.928 Q2164.42 139.243 2161.04 139.243 Q2157.66 139.243 2155.72 141.928 Q2153.8 144.59 2153.8 149.289 Z\" fill=\"#000000\" fill-rule=\"nonzero\" fill-opacity=\"1\" /><path clip-path=\"url(#clip480)\" d=\"M2198.4 148.965 Q2198.4 144.335 2196.48 141.789 Q2194.58 139.243 2191.13 139.243 Q2187.71 139.243 2185.79 141.789 Q2183.89 144.335 2183.89 148.965 Q2183.89 153.571 2185.79 156.118 Q2187.71 158.664 2191.13 158.664 Q2194.58 158.664 2196.48 156.118 Q2198.4 153.571 2198.4 148.965 M2202.66 159.011 Q2202.66 165.631 2199.72 168.849 Q2196.78 172.09 2190.72 172.09 Q2188.47 172.09 2186.48 171.742 Q2184.49 171.418 2182.62 170.724 L2182.62 166.58 Q2184.49 167.599 2186.32 168.085 Q2188.15 168.571 2190.05 168.571 Q2194.24 168.571 2196.32 166.372 Q2198.4 164.196 2198.4 159.775 L2198.4 157.668 Q2197.08 159.96 2195.02 161.094 Q2192.96 162.229 2190.09 162.229 Q2185.32 162.229 2182.41 158.594 Q2179.49 154.96 2179.49 148.965 Q2179.49 142.946 2182.41 139.312 Q2185.32 135.678 2190.09 135.678 Q2192.96 135.678 2195.02 136.812 Q2197.08 137.946 2198.4 140.238 L2198.4 136.303 L2202.66 136.303 L2202.66 159.011 Z\" fill=\"#000000\" fill-rule=\"nonzero\" fill-opacity=\"1\" /><path clip-path=\"url(#clip480)\" d=\"M2233.61 148.201 L2233.61 150.284 L2214.03 150.284 Q2214.3 154.682 2216.67 156.997 Q2219.05 159.289 2223.29 159.289 Q2225.74 159.289 2228.03 158.687 Q2230.35 158.085 2232.61 156.881 L2232.61 160.909 Q2230.32 161.881 2227.92 162.391 Q2225.51 162.9 2223.03 162.9 Q2216.83 162.9 2213.19 159.289 Q2209.58 155.678 2209.58 149.52 Q2209.58 143.155 2213.01 139.428 Q2216.46 135.678 2222.29 135.678 Q2227.52 135.678 2230.55 139.057 Q2233.61 142.414 2233.61 148.201 M2229.35 146.951 Q2229.3 143.456 2227.38 141.372 Q2225.49 139.289 2222.34 139.289 Q2218.77 139.289 2216.62 141.303 Q2214.49 143.317 2214.17 146.974 L2229.35 146.951 Z\" fill=\"#000000\" fill-rule=\"nonzero\" fill-opacity=\"1\" /><path clip-path=\"url(#clip480)\" d=\"M2257.13 137.067 L2257.13 141.094 Q2255.32 140.169 2253.38 139.706 Q2251.43 139.243 2249.35 139.243 Q2246.18 139.243 2244.58 140.215 Q2243.01 141.187 2243.01 143.131 Q2243.01 144.613 2244.14 145.469 Q2245.28 146.303 2248.7 147.067 L2250.16 147.391 Q2254.7 148.363 2256.6 150.145 Q2258.52 151.905 2258.52 155.076 Q2258.52 158.687 2255.65 160.793 Q2252.8 162.9 2247.8 162.9 Q2245.72 162.9 2243.45 162.483 Q2241.2 162.09 2238.7 161.28 L2238.7 156.881 Q2241.06 158.108 2243.36 158.733 Q2245.65 159.335 2247.89 159.335 Q2250.9 159.335 2252.52 158.317 Q2254.14 157.275 2254.14 155.4 Q2254.14 153.664 2252.96 152.738 Q2251.8 151.812 2247.85 150.956 L2246.36 150.608 Q2242.41 149.775 2240.65 148.062 Q2238.89 146.326 2238.89 143.317 Q2238.89 139.659 2241.48 137.669 Q2244.07 135.678 2248.84 135.678 Q2251.2 135.678 2253.29 136.025 Q2255.37 136.372 2257.13 137.067 Z\" fill=\"#000000\" fill-rule=\"nonzero\" fill-opacity=\"1\" /></svg>\n"
      ],
      "text/html": [
       "<img src=\"data:image/png;base64,iVBORw0KGgoAAAANSUhEUgAAAlgAAAGQCAIAAAD9V4nPAAAABmJLR0QA/wD/AP+gvaeTAAAgAElEQVR4nO3deWAM5/8H8Gd3JtfmFsIKQZAQcWtcQRCRQygqqFsJ1Tqr37YoLXW1vop+tQlFHVV1HyEhEUEdRQ6EREQSkYTNLXLvzjO/P+b7W/myjsYeye779dfss5OdTyabfe8z88w8Ip7nCQAAgKES67oAAAAAXUIQAgCAQUMQAgCAQUMQAgCAQUMQAgCAQUMQAgCAQUMQAgCAQUMQAgCAQUMQAgCAQUMQAgCAQatLQXjt2rV9+/a96lme5yml2qwHCHa7jmC36wp2u05oerfXpSCMi4uLjo5+1bMcx1VWVmqxHCCEEEopdrv2UUorKip0XYXBwW7XCUppeXm5RjdRl4IQAABA7RCEAABg0BCEAABg0BCEAABg0BCEAABg0BCEAABg0BCEAABg0BCEAABg0FhdFwAAAPBK39/i194yEonkypZpLuLv3Rk1bgJBCACgBs+ePUtOTtZ1Ffpm13167CEf0kXewMJUIpE4t2lLCLE2VvNWEIQAAGoQHBy8fv16BwcHXReiP6ooqeJIPZas3c+LRKL4+PiKigqWVX9sIQgBANRAoVBMmTJl1apVui5EbxkbG/M8r4lXxmAZAAAwaAhCAAAwaAhCAAAwaAhCAAAwaAhCAAAwaAhCAAAwaAhCAABQs02bNhUWFuq6ireFIAQAADVbsWJFfn6+rqt4WwhCAAC9RSktKyt7+5VLSkqUD0tLS1+zMs/z5eXlLzQqFIqKioqXV67+stWpfIXi4uK3Kld9EIQAAHqoW7du3333nYuLi6Ojo7e3txCH27Ztmz59urBCSUlJvXr1FAoFIaRXr17Lli1zcXFp2rTpqFGjbt++3blz55YtW/bo0aOoqOiFV5bL5Z999lmzZs3atWvXt2/fjIwMof27775r3Lixm5vbggULlCunpKR06dLFzc2tQ4cO8+bNmzp1qtB+7NgxZ2fnDh06tGjR4tixY4QQSunMmTMdHBx69OjRpEmTv//+W8N76DncYg0AQCOyy/i72jpN1syCtLYWVW8pLi6OiYlJSEgQiUSenp579+6dNm1aZWWlsp/H87zyNF5xcXFcXNydO3fkcnn79u2DgoIiIyNtbW2HDBmyffv26sFGCFm/fv29e/fu3btnZma2fv36mTNnnjp16vz587/88svNmzelUunKlSvz8vKElYOCgt5///2lS5cWFBT06NGjc+fOhJB79+7NnDkzOjraxcUlKSnJ09Oze/fujx49ioqKevTokbGxcVlZWVVVlcb32v9DEAIAaERUNr/zPtXOtjyl4sWdRC80zpo1y8TEhBAyYMCApKSk17/CjBkzjI2NjY2N3d3d27VrZ2dnRwjp16/fyz+4b9++Dz744NKlS4SQli1bLlq0iOO40NDQMWPGSKVSQsj8+fOXLl1KCCkvL4+Ojj506BAhpF69euPGjbt79y4h5PDhw+3bt3/06NGjR48IIU2aNLl8+XLnzp1zcnLWr18/fPhwFxcXiUSijh3zVhCEAAAaMb6VeHwrXZ5+srKyEhaMjY1fPvH2wg2sq69cffnlnllOTs6NGzeUR0QnTZpUWVlZUFDg5OQktEgkEjMzM0LIs2fPRCKRpaWl0G5jYyMsyGSyJ0+eHDhwQHjYtWvXBg0atGjR4uTJk9u2bevbt6+9vf2hQ4ecnZ3f6fd/awhCAABDYWNjU1BQICzfv3+/Zi/i4uIyePDgmTNnVm90cnISenuEkLS0NOEAbIMGDWxtbWNjY93d3Qkh169fV77CrVu3QkJCXnjl3r179+7dm+O4adOmbd68eePGjTWr8J9CEAIAGIrevXsHBQXt2rXL3t7+xx9/rNmLLFu2bPTo0QzDdOjQISsr6+bNm99+++3UqVPd3Nw2b97coUOHtWvXCodkRSLR0qVLx48f/9lnn92/f//vv//u2rUrIWTSpEkbNmyYO3fuqFGjKisro6KiZs6cmZGRcfny5V69elFKExMTJ0+erMZf/PUQhAAAeigoKKhx48bCcu/evYUuWrNmzQ4fPrxt2zYLC4t169b9/vvvYrGYEPLRRx81bdpUWNnf379JkybC8nvvvffyVMP9+vU7c+bM1q1bQ0NDGzVqNGzYMEKIVCo9d+7chg0bLl68+MUXX3Tv3t3W1pYQMmfOHGdn57/++qtr1662trY5OTmEEIlEcv369Y0bN65fv14ikbz33nt2dnbC4J0ffvjB1NQ0KChoypQp2thNhBBCRBqa51ATQkJC4uLigoODVT6rUCjkcrlwYBq0huO4qqoq7HYt4ziusrJSm6MJgBBCKa2oqHjVbl+9evWzZ88wMe8LHj9+bG5ubmVllZ2d3b9//x9++GHo0KE1eyljY+PS0lIjIyP1Vkg01COUy+UJCQm3bt2ytLQcMWKE0Mhx3IULFy5evFhRUeHu7j5s2DCR6L9jnDIyMnbu3FlaWjpq1Cih4wwAAHrg3r17H330UVVVFcMw06ZNq3EKapRGRjT9/PPPI0eO3LBhQ/UvR1FRUbNnz66srLS1tf3888+nTZsmtMtksm7duuXn59erV2/gwIEXL17UREkAAKB9np6eDx48ePToUXp6+pIlS3Rdjmoa6RHOnj177ty5e/bs2bBhg7KxT58+t2/fFnqB3t7eXbt23bRpk7m5+ZYtW3r37q1cc+3atX369NFEVQAAAC/TSI9QOPv6AlNTU+Wx0MrKSiMjI2NjY0LI+fPnvb29hXZvb+/z589roiQAAACVdDBqVKFQLFiwYMGCBcI5z8ePHzdo0EB4yt7evqSkpLi4WHk5Z3VZWVnnz59XHlMlhCxcuLB58+bKl5XL5cqsBe0QBstgt2uZMFhG5TdO0BxhsMyrdrtw007QqIqKCo7j/tGPGBsbv/E/RdtBSCmdPHmyRCIRbsBDCGFZVvkGEhZeNSjIwsKiQYMG3bp1U7bUr19fubLwWayJAUXwGmKxmOd57HYtE4vFlFLsdi2jlHIc96rdju8lWmBkZPRP3/Zv8zVdq0FIKZ02bdqTJ09OnDghXG5JCHFwcMjOzhaWs7KybG1tXzUW39ra2tXV9YXbGSjxPE8pZRhGE5XDazAMg92ufdjt2icSiV6z28VicWJiovK2YaB2wie8Jt722gtCnuc//fTT5OTk8PDw6lE3ZMiQvXv3zps3TywWHzx4MCAgQGslAQCoi7u7e1xcnPaDMKmIf1xGXtPtsTIiHe1ETJ09faHs5EyYMIFlNZJZGrmgPjY29osvvnjy5ElGRoa7u7u7u/vKlStPnDgxdOjQHj16WFhYCKtt3769adOmJSUlffr0sbGxadSo0blz586fP+/i4qLyZXFBfS2EC+p1AhfU68TrL6jXPp6QOZe5mDz+tC9rqb+HySml5eXl5ubmmtuERtK1VatWa9asUT60trYmhHh4eNy4caP6asIYGQsLi6tXr0ZGRpaUlGzevLlevXqaKAkAQM98eY27ksNH6HUKaodGgtDKyurlG8TY2tq+6q4xJiYm/v7+mqgEAEAvfXWdi8jiz/qxtia6LqXuw023AQDqmEXXufBMpKDaIAgBAOqMa7n8shgut4Kc9WPrIQXVBEEIAFAH3C7gV8TRv3P5BW7imW3FJrh2Rn0QhAAAtcvNAv505v+M6L+Sw8fk8V92FO/2ZBCBaocgBACoLRIK+W9i6RUZP9pJZFwt8AY3Ee0bwJgiAjUDQQgAoHuJRfzqeHomi853Y3b1YyT4bNYi7GwAAF2695RfHkvPZtPP2jO/eBiZ41NZ67DLAQB0I/0Zv/omPfqQftxW/HNvI2tjXRdkqBCEAADallNOvrzOhWbQ2e2YlEAj3BpGtxCEAABalVNO+p9UDG4iuh+IXmCtgCAEANCe3AriFaYIdBIv64L5C2sL/CUAALSkqIr4hit8moiQgrUK/hgAANpQVEUGnVJ4SkXfu+N6wNoFh0YBANTvaRWJyKLVp3tde5MOaIwUrI0QhAAAava0igwKU1gaETuT5xPDf9BC/GVHHISrjRCEAADqVCwng8MVvRqKNvRA569uwNcTAAC1KVWQgNOKDvVEPyIF6w4EIQCAepQpyJDTCmdrUYgHI3rz6lBbIAgBANSgVEF8wxWtrUVb+iAF6xgEIQDAuypTkIDTitbWouDeSMG6B0EIAPBOyhVk6BmFo4VoiwcjRgzWQQhCAICaq6Jk1FmFnaloW1+kYF2FIAQAqKEqSkZGKiSs6HdPBodE6y4EIQBATVRyZESEQsKK9vZnWHyU1mX46wEA/DNySrYmUZcDCjtT0e+eSME6D3eWAQB4W5QnB9Loouu0oRnZ2Y/pJ8XxUH2AIAQAeCuXZfzkC0bNLelv/ZjeDRGB+gNBCADwZldy+JFRdLO74oPWZrquBdQMQQgA8AaxefzwCMW2PsyA+nJd1wLqh5O8AACvE5fP+59WbO3D+DXRdSmgGQhCAIBXis/n/cIVIR5MgCM+LfUWDo0CAPzXyUf8yQzKVZtX/vhDGuzBDG2GFNRnCEIAABKeyX8Ty5UryDQXsUm1mQQntmYxQFTvIQgBwLAUywlHnz+8kcd/E8s9rSLLuohHNhfjfqEGCEEIAIaCJ2TeFW7bPWpcrc/XxFy0qKM40AkRaLgQhABgKL66zv0l4x+NNbI10XUpUJvgDDAAGISvrnNnMvkIXxYpCC9AjxAA9N/iG1x4Jn/Wj62HFISXoEcIAHru6xjuZAYfiRSEV0CPEAD02bIY7vhD/qwfa4cUhFfQSI/w3r1733333YgRI2bNmlW9XSaTjRs3rk2bNsOGDUtOTla279+/v0ePHh06dFi5ciXP8y+9HgBATXwbS/en8ad92fqmui4FajGNBGFSUpJMJrO2tr527Vr19okTJ5qZmYWHh3fp0mXIkCGUUkJIXFxcUFDQihUr/vjjjz179mzdulUTJQGAoVl3m/7xgEb5sY0wXQS8lkaCcNiwYT/99NPAgQOrN6akpERHR//73/9u3rz50qVLy8rKIiMjCSEhISHjx48fNGhQu3btlixZ8ssvv2iiJAAwKOtv061JNMqfkUp0XQrUetobLHP37t1WrVpZW1sTQkQiUZcuXRISEgghCQkJXbt2Fdbp1q3bnTt3hJ4iAEDNbEigwUn0nD/TWIKL5OHNtDdYJjc3V0hBga2tbU5OjtBuY2MjNNrY2Mjl8qKionr16r38ComJiXv37j19+rSyZffu3R07dhSWFQqFXC5XKBQa/B3gJRzHVVVVYbdrmbDbOY7TdSG1wi/J7C/Jz28VwxPCislJz0pLjjx7ps4NUUorKyux27WMUlpRUVHjDpJEImEY5vXraC8IbWxsSktLlQ+fPXvm6uoqtJeUlCgbxWKxlZWVyldo06ZNQEDAihUrhIcsyzZt2lQk+u83PiEIzcxwNkCrhE9k7HYt4ziusrJSIsFRP7LpDt3ygB72ZqyNnzdKzURmrPGrf6iGKKVGRkbY7VpGKWVZ1tzcXHOb0F4QtmjRIi0traqqytjYmBBy7969sWPHCu3KEaTJycmOjo4sq7oqkUhkaWnp5OSktZoBoDbbmkTX36bn/JkWljgECjWnkXOEcrm8sLCwtLRUoVAUFhYKHb4uXbo4Ojpu2bKFEBIeHv748eMhQ4YQQiZMmLBr167c3FyFQrFx48YJEyZooiQA0DPb7tGV8TQKKQjvTCM9wsuXLw8fPlxYbtmy5aBBg/78809CyG+//TZmzJiVK1cSQvbs2SMcT/Pz8wsMDGzdurVYLPbw8PjXv/6liZIAQJ9sT6bL42iUH+OEFIR3JtL+BexFRUVWVlZi8f90RisrKxUKxeuPAoeEhMTFxQUHB6t8FucIdQLnCHXC0M4R7rxPf7rzfKwET0huOYnyZ1pZaTUFhVEbhrPbawlKaXl5uZ6cI1RSjhGtzsTExMQEd0ACgBftuk+X3KA7+/3PcJiWViIb9Y+GAQOFe40CQO21P5V+dZ1G+DGuNjgECpqC2ScAoJY6mEbnX6VnfJGCoFkIQgCojQ6l0TlXuNO+TDtbpCBoFg6NAoDuHX1IN9+tNhyGJ3eL+HAf1g0pCJqHIAQAHTv2kH78F/efXoy18fPYc7UluFMoaAeCEAB0KTyTn/EXd8Kbfa8BYg90A+cIAUBnTmfyk88rjiMFQacQhACgG2ey+EnnFccGse5IQdApBCEAaFsVJZvv0gnRiqOD2O72SEHQMZwjBADtkVOyI5muiqdutuSsHwaFQq2AIAQAbaA8OZROF12nDc3ILk+mbyNEINQWbxWE58+fv3btWteuXQcMGKDpggBAzwgRuOQGbWBKtvZhPKWIQKhdVAehu7t7//79165dSwjZs2ePco7AH3/8cd68edqrDgDqMiECv75B65uSX3ozAxojAqE2UjFYpqqqKiYmRpg1lxCyatUqb2/v4uLiVatWLV++vLKyUrsVAkDdQ3lyIoN2OaLYkEB/6C7+K4BFCkKtpSII8/PzKaVNmzYlhKSnpycmJs6ePdvS0vLjjz8uLCx8+PCh1osEgDqDJ+REBu12VLEqnq7oJr4UwAY4YnQ61GoqDo1aWloSQgoKCpo3b37s2DGWZfv06UMIMTIyIoSUlJRouUQAqCV4Qopee0jo/BP6TQw1YcjKboxvU3QBoW5QEYQWFhaurq4rV66cN29eSEhI3759ra2tCSEpKSmEEKlUqu0aAUDXeEJCM+iyGPqgmGde3cFztRF9140Z4ogIhLpE9WCZTZs2DR8+/PDhwzY2Ntu3bxcaDxw40KxZMwQhgKGJzOIX3eDKFWRpF/EHLcRIOdAzqoNw4MCB2dnZKSkpTk5OVlZWQmP//v19fHy0WBsA6NhfT/glMVxeBflXB/H4VmJkIOilV15HaGFh0alTp+otAwcO1Hw9AFAr/PWEXxrDPSknX3YUj2slZhCBoL9eGYQXL17csGHDnTt3GIa5c+cOIeSnn34yNzefOnWqFssDAG27JOOXxXCpz8iXHcUfuSACQf+pPut99OjR/v37p6amurq6Pn36VGg0MTFZunQpz/NaLA8AtOdKDh9wRjE+mgt0EiePYoPaIAXBIKgOwgULFkyYMCEmJmbOnDnKRk9Pz6ysrKysLG3VBgBacjWHDzijGBvFBTiK749ig9qIWVz7BwZDxaHRnJyctLS0gwcPisVikej5F0IHBwdCyJMnT5o0aaK9AgFAk67n8t/EcncKyeJO4sNeYiPkHxgeFUEoFosJIZTSF9qFvqCFhYUWygIATYvN47+JpfH5/KJO4iODxMaIQDBUKt779evXd3Jy2rlzJyGkeo/wp59+sre3b926tfaqAwANSCjkA89yfqcVvRuKkgPZmW2RgmDQVI8aXbFixbhx43Jzc52dnauqqv78888///zzyJEjmzdvZhhGyyUCgLokFPLfxtLLMv5fHcS7PI1M8d8M8Kog/PDDD+Vy+Zdffvnnn38SQsaMGWNlZbV+/fpZs2ZptzwAUI/EIn51PD2TRee7MTv7MRLMyQ3w/1753zBp0qRx48bFx8fn5uZaWVl16dLFzMxMm5UBgFpkl/H/ukYjs+iC9swvHkbmiECA//W6/wmWZbt166a1UgBA7bLL+P4nuRHNRSmBRhZGuq4GoFZSHYQnTpyoqKh4oVEkEkml0hYtWjRu3FjzhQHAu8opJ4NOcZNaixd1wmAYgFdSHYTTp0+XyWSv+hl3d/c9e/Zg+ChAbZZTTgacUoxtiRQEeAPV/yF79uxp3LjxnDlzIiIi4uLiTp06NXHiRCcnp1OnTm3dujU7O3vo0KEKhULLtQLAW8qtIANPKQKdxEs6IwUB3kB1j3Dx4sWfffbZggULhIedOnXy9fWdPXv2zp079+3b17Vr1y5duly5ckWYuR4AdOtxGflL9vwOGDxPVsbTEc1FS5GCAG9BRRAWFBRcu3Zt165dL7T7+/uPGTOGENK5c2epVJqeno4gBNAtWTlZc5PbfZ/2afQ/d0eb1Fq8oD1SEOCtqAhCYX6J5ORkFxeX6u3JycnKqSeMjIxMTU21UB8AqJRfKfo+idt8l45oLr41km0swTwRADWk4jujnZ1dr169Pvnkk7NnzwotlNJDhw59/fXXAQEBhJCcnJysrCwnJyetVgoA/+/3B3ynE0xBJbk5gg3xYJCCAO9C9TnCXbt2+fr6enl5mZmZNWjQQCaTVVZWuru7b9iwgRCSnJwcFBT0wvz1AKAdv6fQRTEk0pvr3MhY17UA6APVQdiyZctbt24dOXLk1q1bwrxL7733nr+/v3CjUQ8PDw8PD+3WCQCEEHIwjf7rGg0fLGpphimyAdTjlXeWMTU1HTt27NixY9W7vYqKiuzsbHt7+xemc8rJyamoqHB0dFTv5gD0yaE0OucKd8aXbWtFKyt1XQ2AvtDquLKNGzc6ODiMGTOmefPmn332mdBIKZ0yZYqbm5unp2evXr0KCgq0WRJAXXE4nc6+wp32Yd1scUYQQJ2eB+HevXvrvYUabyk3N3fBggVnz569du3a7du3Q0JCrl27Rgg5evTopUuXUlJSHjx40KhRo7Vr16rh1wLQI6UKsvYm/eQSF+bDtq+HFARQs+eHRp2dnYOCgoRluVy+bds2ExMTX1/fRo0a5efnR0REyGSy6dOn13hL5eXlhJCWLVsSQho2bGhtbV1WVkYI2bt377hx46ysrAghM2fO/Oijj5CFAIJyBfklkf5wi+snFV8MYFtZIQUB1O95EHbr1k0518SsWbN69ep16NAh5dRLCoVi+vTp6enpNd6So6Pjl19+GRgY6Ovre/ny5YEDB/bt25cQkp6ePnz4cGGd1q1bZ2VlVVVVGRurGA4nl8tzc3NjYmKULR07dmRZTCoDeqiKkt+S6fI42tmOnPJhO9shAgE0RUWKlJeXb9u27a+//qo+ASHLsitXrnRwcHj06FHTpk1rtjGe54uKilJTU3Nycpo1a6ZQKIyNjUtKSpQbkkgkPM+XlJSoPAablpZ24cKFtLQ0ZcvPP//s5uYmLCsUCrlcznFczWqDmuE4rqqqCrtdjaoo+T2NWXOHdbGif/RWdK7HE0JKSv5nHY7jKisrKaWqXwI0g1JaUVGB3a5lwm5X3s7ln5JIJGLxG0bDqAjCoqKiqqqqV/1ATk5OzYLw/PnzW7duTU9PNzc3p5R26dJlz549U6dOtbe3LyoqEtYpKCgwMTGxtbVV+QrOzs4jR44MDg5W+awQhJg9WMuEIMRuVws5JX88oN/GUicrcsyb6VZfRIiJyjU5jjMyMpJIJFqu0MBRSlmWxW7XMkopwzDm5uaa24SKnLS3t5dKpUuXLhXO6gnkcvmiRYskEomzs3PNtpSTk1O/fn3hlxGLxU2bNhVmeurUqdPVq1eFda5evdqxY0eRCEeBwOBEP+adDyj2pdJ9A5gIX7ZbffwXAGiJih4hwzD/+c9/Ro8e7ejo6OPj07hxY5lMFhUVlZmZuXnzZktLy5ptycPD4/Hjx2vXrh0yZMj169fPnj27fPlyQsjMmTN79uw5YMCAxo0bL1++fMWKFe/0CwHUQdGP+dFRij2e7CAH5B+AtqkeaTJixIhLly798MMPV69ezczMbNSoUadOnXbs2DFw4MAab0kqlUZHR69fvz40NFQqlYaGhnbu3JkQ4urqevDgwY0bN5aWln711Vfjx4+v8SYA6qJLMn50lGLfALa/FCkIoAOiGp+B1L6QkJC4uDicI6xVcI7wHV3J4d+PUOztzw5s/A9SUBgsg5NVWiaM2sBu1zJKaXl5ubbPESpxHJeamnr58mXNbR7AkF3N4YeeUezo+89SEADUS3UQUkqXLl1qY2PTsmXLwMBAoXHu3LkzZszQYm0Aeosn5FAafT9CsduT9WuKFATQJdVBuHTp0u+///6TTz5ZvXq1stHLy2vv3r2vubICAN6IJ+T4Q9rliGLNTXpwIOvTBCkIoGMqglChUPz0009r1qxZs2ZNz549le2dO3cuKSl59OiRFssD0CuRWXz3Y4olMXRRJ/G191mPRkhBAN1TMWo0JyenuLjY29v7hXZra2tCSEFBgXC/UAB4ezwhQRe5Kzn8iq7i95uLEYAAtYeKHqGlpaVYLH78+PEL7QkJCYQQqVSqjboA9AhPyKeXucQi/upQdjhSEKCWUR2EHh4ey5cvLykpUd7k5enTp1988UWnTp2aNGmi3QoB6jaekNmXufh8PsyHtTDSdTUA8BLVF9Rv2rSpb9++bdq0adeuXXFx8eTJk8PDw58+fRoREaHl+gDqNJ6QuVe4mDz+tC9riRQEqJVUjxrt2LFjTExM//794+Pjnz17duTIke7du1++fNnDw0PL9QHUaV9d5y7J+FODWSukIEBt9crJ/Fq1arV7925tlgKgZxZd585k8pF+rK3qOSQAoFbArLYAGrH4BheWyUf6sfWQggC12xumKwSAGvg6hjuZwUf6sXZIQYBaDz1CADVbFsMde8hHIQUB6ggEIYA6/XCL7k/jz/mz9U11XQoAvJ3nh0bz8/Pv3Lmjw1IA6rp1t+m2ezTKj22EaakA6o7nQXj8+HHlRBPe3t63bt3SUUkAddL623RrEo3yZ6SYrg6gTnl+aNTc3Ly0tFRYvnXrVklJiY5KAqh7NiTQ4CQa7c80luAGagB1zPMg7Nix46NHjz799NMOHTqUl5cfO3ZMuLnoC4KCgrRYHkAdsDGBbryDFASoq54HoYuLy7p161asWLF582ZCyPfff6/yBxCEANVtTaIb7tBzfkwzC6QgQJ30P6NG58+fP3/+/OLiYuG2Mu7u7roqC6B2Ckmi625Ryj9v4QmJ9kcKAtRhKi6fsLKyWrp0qZubm62trfYLAqi1tiTR1fH0kBdT/ZZpDUxFuJs2QJ2m+jrCTz/9lBBCKX306FFmZqZUKnV0dGRZXHQIhmtHMl0ZT6P8mJZW6PwB6JVX3mJtw4YNDRs2bN68uYeHR8uWLe3s7JYtW8ZxnDaLA6gldpEBbUIAACAASURBVN6ni29wp32QggB6SHUn78cff1ywYEG/fv1Gjx7dqFGjvLy848ePr1ixory8/FWDaAD01f5Uuug6jfRj29ggBQH0kIogpJSuXr06KCgoJCRE2Th9+vTly5evXLny66+/trS01GKFALr0xwO68G961o9BCgLoKxWHRnNycnJzc2fOnPlC+8yZM6uqqpKTk7VSGIDu7U+lC/+mEUhBAL2mIghNTU0JIfn5+S+0Cy0SCe4fBQbhcDqdd5UL92FckYIAek1FENrY2HTr1m3BggUZGRnKxry8vE8++aRJkyYuLi5aLA9AN46k05l/cSe82fb1kIIAek71YJn//Oc/Xl5erVq16tGjh1Qqzc3N/fvvvxUKxeHDh8VizOULei7sEf/xJe6UD9u1PlIQQP+pTrXu3bvHx8dPnz69qKjo0qVLT548GTNmzI0bN/z9/bVcH4A2VXDkxwQ65YLi5GC2G1IQwDC88hr5li1bCjcdBTAElRzZeo+uvUm71RdF++NKCQADgpvFgKGTU7LtHl0VTzvakWODmC7oCAIYGAQhGLQqSkZGKkrl5JAX814DRCCAIUIQguGSUxJ4ljMWiw77MkYYBAZgqPDfDwaK48nE85yc8nv7IwUBDBp6hGCIOJ5MiOaeVvFHvFgTRtfVAIBOqfgm/PjxY5FIdPLkSe1XA6AFHE/GneOKkYIAQAhRGYSWlpZisRh31gb9wxNyOJ12PqIoU5BDSEEAIISoDEILCws/P78DBw5ovxoAzYnM4t87qvg2ln7dWXzMm0EKAoBA9TnCSZMmzZo1KycnJyAgoFGjRtWf8vLy0kphAGoTmsF/E8tRnnzbVTzEUYyLJACgOtVB+Omnn+bm5u7fv3///v0vPMXz/Ltsr6CgIDQ0tLCw0M3NbcCAASKRiBBSXFx8+PDhsrKyIUOGODo6vsvrA1QXnskvi+EqOPJNF/H7zRGBAKCC6iA8c+aMXC5X+8ZiY2N9fHw8PDyaNWt26NCh3r17m5qaPn36tFu3bh06dJBKpYsXL46Oju7YsaPaNw2G5q8n/NcxXE45+aKjeFwrMYMMBIBXUB2EHTp0UPuWeJ6fOHHi119/PXv27Ort27dvF3KREGJjY7N69ep9+/apfetgOP56wi+L5bLLyFeIQAB4C6+7jjAhIeHu3bsFBQXCbPXFxcUsy9Z4Yt7ExMTU1NSxY8eGhoZKJJK+ffuyLEsICQ8PHzp0qLDOsGHDBg0aVLPXB7gs45fFcg+KyZcdxVOdxSwukweAt6A6CIuLi0ePHh0eHk4IcXBwEILw888/f/DgQWRkZM22lJqaamlpOXjw4K5du96+fZvn+ejoaFNT0+zsbKlUKqwjlUqfPn1aUlJiYWHx8ivk5eXFxcWtXLlS2TJhwoSGDRsKywqFQi6XY7pELeM4rqqqSue7/X4xmXtNlF4iWtSBH9OcZ8UcJyecbmvSJI7jKisrGQYjX7WKUordrn3Cbhc6TjVgbGwsDEZ5DdWfXx9//HFcXNzBgwePHDmibBw3btyFCxdKSkpqVk1VVVVOTs4PP/ywZcuWS5culZWV7dq1ixDC8/xbDsARdkfR/ystLeU4Pf6sg7d1v5j4RIj9HMjNoXS8E4+OIAD8Iyoytry8/ODBg7t27Ro5cuT58+eV7W3atJHL5ZmZmW3atKnBlho3bkwI6dGjByFELBa/9957SUlJQrtMJhPWkclklpaWKruDhBB7e/sePXr88MMPKp9lGEYsFpuYmNSgNqgxjuNEIpEOd3tKMe8byS3tIg5qY0ABKHwFxLtdyyilPM9jt2sZpZRSqtHdruKzo6CgoKqq6uWhm0LPtMY9ws6dO9vb29+5c0d4ePfu3RYtWhBCvLy8Tp06JTSePHnS29u7Zq8PBuhhCe8dxi3uZFgpCADqpaJHaGdnZ2JikpCQ8ELP79KlS2KxWEivGjAxMVm2bNno0aOnTZsWHx9fVFQ0ZcoUQsi0adM2b948ceJEqVS6ZcuWiIiImr0+GJqMEn7ASW5he/HMtkhBAKg5FZ8gpqamw4YN+/LLL5OSkpTnGG/dujV//vxBgwbZ2dnVeGOzZs3as2cPwzABAQExMTHCIdB69erFxsb27NnT3t7++vXr3bp1q/Hrg+F4WMJ7nuQWdhDPckUKAsA7UT0OZ9OmTf3792/Xrl2TJk3y8vLatWuXlJTk4OAQHBz8jtvr1atXr169Xmi0s7P7+OOP3/GVwXA8KuUHnOQWtBd/jL4gALwz1UHYsGHD69ev//rrr5GRkY8fP7axsRk7duysWbPq1aun5foAXpBZyg84yc1oK/4UfUEAUIdXXplhbm4+d+7cuXPnarMagNeTlRPvMO4jF/G/OiAFAUA9XneJYm5u7p07d7Kysho2bOjq6ipc/wCgKznlZMBJxfhW4i87IgUBQG1UB2FVVdX8+fO3bt2qvPW2WCweM2ZMcHAwJuwFnXhYwvuGcxNai79CCgKAWqkOwk8++WTHjh0zZ84cNWpUw4YN8/LyTp48uXHjxqdPn4aGhmq5RDBwWaX86pt03wO6pDMzzw0pCABqpiIIS0tLd+7cuWbNmoULFyobPTw82rdvP27cuIcPHzZr1kyLFYLhyq0g/77N/ZpEx7USJ3xg1MhM1wUBgD5S8f362bNncrl8yJAhL7QHBAQQQvLz87VRFxi87cm07QF5FUfufmC0sSeDFAQADVHRI7S3t3dwcHj5zjK3b9+WSCTOzs7aqg0M145k+m0svTqMbWWF6QQBQLNUBKFYLP7ll19mzZrF8/z7779vZGTEcVxERMScOXM2bdr0qjtiA6jLn6l0yQ0a6ccgBQFAC54H4cGDB7/44gvlw6dPnwYGBorFYjs7u8LCQoVCYWZmtmrVqo8++kgXdYKh2J9KF1ylEX5MWxukIABow/MgbNy4sZeXlw5LATiYRudd5SJ8WVekIABoy/MgVHkXUACtOZRG51zhzviy7WyRggCgPa+7swyA1hxOp7Muc2GDWTekIABo1yuDMD09PTQ09PHjx8Jc2Epr1qzRfFVgWMIe8bMucacGs13qIwUBQNtUB+GOHTtmzJghl8stLS2FiemVEISgXuGZ/JQLitDBbFekIADogoogpJTOnTvX398/JCTE3t5e+zWB4TidyU8+rzjuzXZDCgKAjqi4s0xeXt6zZ88WLVqEFATNqaJk81068bziuDfr3gApCAA6o6JHWL9+/UaNGslkMu1XA4ZATslvyXRlPG1nS876YXQMAOiY6jvLrFu3btGiRW3btm3ZsqX2awJ9paBkdwpdEUedrcmfA5ju9ohAANA91YNlxowZExkZ2aZNGycnpxcmILxx44ZWCgN9I6ck8CyXX8nv9mR6N0QEAkBtoToIZ8+e/dtvv7Vu3drZ2dnMDLf9h3fF8WTiea6S8hG+rAmj62oAAKpRPR/hli1bFi9e/N1332m/INA/HE8mRHNFlfzRQUhBAKh1VARhWVkZx3EjRozQfjWgfzieTDrPFSAFAaC2UnH5RIMGDVxdXePj47VfDegZjieTz3O55fzRQawpUhAAaiXV5wh37949YcIEExMTb2/vBg0aaLkm0A+UJ1POc7Jy/rg3UhAAai/VQejn5yeTycaPH//yUzzPa7gk0Ac8IbMuceklfJgPUhAAajXVQbhkyZLS0lItlwJ6Q0jBO0V82GDWHBOcAEDtpvpT6tNPP9VyHaA3eEI+vczdLuDDfVgLI11XAwDwJvi6DurEEzL7MhefjxQEgDpDdRB+/vnnxcXFKp8KCQnRZD1Qh12S8UtjuEqOhPmwlkhBAKgjVAfhhQsX8vLylA8LCwsLCwslEkmjRo20VRjUJX/n8N/Fc7cLyKJO4qnOYlbFVTkAALWU6iD8+++/X2i5efPmpEmTvvrqK82XBHXJ7UKyIpa5UcAtcBMfHCjGJfMAUOe87Vf3jh07btiwYcaMGWVlZRotCOqK2wV84FluaATfswF/bxQ71w0pCAB10j84htW2bdunT5/eu3dPc9VAnXCnkA88yw0KU3StL7o7QvRJG4orBQGg7voHo0ZPnTpFCMFpQgO3PI4GJ3L/6sDs7GdkxhKO46qqdF0TAMA7eKtRo5TS1NTU6OjoAQMGSKVSbdUGtc73t+gfD2jscKNGmJsLAPTFW40aFYvFUql0xYoVc+bM0VZhUOusu02336Pn/FmkIADok7cdNQoGbv1tujWJnvNnpBJdlwIAoFa4swy82YYEGpxEo/2ZxhKRrmsBAFCzVwZhVVVVXFxcdna2QqGo3j5q1CjNVwW1yIYEuvkuUhAA9JbqIDx37tyUKVMePnz48lPvPg1Tamrq2rVrR40a5eXlJbRcuHBh06ZNFRUVo0ePnjBhwju+PqjR1iS68Q4958c4mCMFAUA/qQ7CqVOnmpmZnThxwtnZmWXVefiU5/mgoKDExEQXFxchCJOTk4cMGbJhwwapVDp9+nQTE5PAwEA1bhFq7Nd7dGU8PefPNLdECgKA3lIRcgUFBenp6REREcoemxqFhIQ4OzsbGT2/JXNwcPCoUaOmTp1KCPnmm282btyIIKwNtifT7+JolD/TAikIAHpNxZ1lTE1NWZY1NzdX+8aysrI2bdq0atWq6o0xMTG9evUSlnv16hUbG/vuR1/hHe1Ipt/G0rN+jBNSEAD0nYoeoUQiGTdu3O7du3v27KnejU2fPn3VqlU2NjbVG2Uyma2trbBcr169ioqKoqIiZUt1KSkphw4dUl7aYWRktGnTpnbt2gkPFQqFXC5/YWgP1MDedObbW0YnPCvtRfyzZ29YmeO4qqoq7HYtE3Y7x3G6LsSwUEorKyux27WMUlpRUUEprdmPSyQShnnDTSBVn//z8fH57LPP0tPT/fz8GjZsWP2pGo8a3b17t7m5+fvvv/9Cu4WFRXl5ubBcVlYmEole1Rl1dHTs27fvokWLlC0dOnRQHmUVgtDMDBd7v5M/U+ny2/SsP9PW5q1mFBQ+kbHbtYzjuMrKSokEF3VqFaXUyMgIu13LKKUaOkippDoI582bJ5PJsrOzw8LCXniqxscto6OjDx48KBL991BbeHj4pUuXDh065OjomJaWJjSmpaVJpVJjY2OVr2BsbNygQYOuXbvWrAB4owNpdMFVGuHHtLXBEVEAMBSvvLOM2rv/27Zt27Ztm7Ds6+s7aNCgBQsWEEJGjx797bffzp8/39zcfOvWraNHj1bvduEtHUyjc69wEb6sK1IQAAyJ6iBs1qyZ1ioYOXLkkSNHXFxcrK2tTUxMfvrpJ61tGpQOp9M5V7jTPmw7W6QgABgW3dxi7cCBA8rLE1mW3bdvX0ZGRllZmYuLi/LYKWhHqYL85w7dkMCd9mXb18POBwCDo5sgtLCweKHF0dFRJ5UYsnIFCU6iP9zi+jQSXwxgW1khBQHAEOGm24aoipLfkumKONrJjpwczHa2QwQCgOFCEBoWZQS2sSFHBzFd6yMCAcDQIQgNhZySPx7Qb2OpkxU57MW81wARCABACILQQJx7zE+9wLWxJn8MYNwRgQAA1SAI9d+5x/yYKMUeT3aQAyIQAOBFCEI9d0nGj4lS7BvA9pciBQEAVFAx+wTojcsyfkSk4o/+SEEAgFdCEOqtKzn88EjF3v7sgMZIQQCAV0IQ6qerOfz7EYo9nuxApCAAwGshCPXQtVx+WIRiZz+MjgEAeDMEob6Jz+eHnVH82ofxaYIUBAB4MwShXrlZwPuGK4I9mABH/GUBAN4KPi71x60C3jdc8YsHM6wZ/qwAAG8Ln5h64nYB7xOu+Kkn8z5SEADgn8CHpj64U8gPDlds6MGMbIE/KADAP4PPzTov+SnvE859784EOuGvCQDwj+Gjs267/5QfeIpb9Z54fCv8KQEAagKfnnVYSjE/4BT3dWfxBKQgAEBN4abbdVXqM37gKe6bLuKPXJCCAAA1h8/QOin9GT/gJLe4E1IQAOBd4WO07nlUyg88xX3eQRzUBn8+AIB3hU/SOiazlO9/kpvnJv7EFX87AAA1wIdpXZJVyvc/yU13Ec9uhz8cAIB6YLBMnfGgmPc7zc1sK/6sPVIQAEBtEIR1QEYJvzKeHkqjy7sys3BEFABArRCEtVpOOVmfwG27Rz9sKb77gZG9ma4LAgDQO+he1F7BidT1oJwQkviB0caeDFIQAEAT0COspUKS6Npb9Pr7bAtLzK8LAKBBCMLaaHsyXRVPo/wYpCAAgKbh0Git81sy/TaWRvkxLa2QggAAGoceYe3yZypdfINGIgUBALQFPcJaZH8qXXCVRvgxbW2QggAAWoIgrC0OptH5V+kZX8YVKQgAoEUIwlrhUBqdc4U77cu0s0UKAgBoFc4R6t7hdDrrMhc2mHVDCgIAaB16hDoW9oifdYk7NZjtUh8pCACgAwhCXQrP5KdcUIQOZrsiBQEAdARBqDOnM/nJ5xXHvdluSEEAAN1BEOrGmSx+0nnFsUGsewOkIACALukgCOVy+cuNPM+rbNdLkVn8uHOK/QPZ7vZIQQAAHdNeED548MDb21sikdja2rq7u8fExCifWrZsmY2NjZ2d3ZgxY8rLy7VWkk5cfMKPi1YcHMj2bYQUBADQPe0FYXl5+cSJE2Uy2dOnTwcPHjxixAie5wkhERER27Ztu3v3bk5OjkwmW7dundZK0jKOJ7vu0w/OKg4OZPtJkYIAALWC9oLQzc1t/PjxlpaWDMNMmzYtIyOjuLiYEPLbb79NnDjRwcHB1NR0/vz5O3fu1FpJWkN58scD6nZI8es9enIw2wd9QQCAWkM3F9QfP368ffv21tbWhJCUlBQfHx+h3dXVNS0tTaFQsKyKwnier6ysLCwsVLbY2tpqp+Aa4wkJzaBLY6gpQ753Fwc4YnQSAEDtooMgvH79+rJly8LCwoSHRUVFFhYWwrKlpSWltLi4uF69ei//YFJS0h9//HH06FFly4kTJzp16iQsKxQKuVzOcZyGy/8HOJ5Mv2qU8ky0tL1ikJQSQkpKdF2TunEcV1VVVat2uyHgOK6yspJSqutCDAultKKiArtdy4TdLpxKqwGJRCIWv6EHou0gvHnzZkBAwG+//da9e3ehpX79+k+fPhWWi4qKjIyMbGxsVP5s27ZtJ0+eHBwcrPJZIQjNzMw0UXYNcDyZcp4rUvCXh7GmjLGuy9EUIQhrz243EBzHGRkZSSQSXRdiWCilLMtit2sZpZRhGHNzc81tQqtBmJSU5O/vv2HDhqFDhyobXV1d4+PjheW4uLg2bdq8Mb1rP8qTqRe4x+X88UGsKaPragAA4NW0F4Spqamenp4BAQH169ePjIwkhPTs2dPc3Hz69Ok+Pj6BgYGNGzdevXp1UFCQ1krSEJ6QWZe4tGd8mA9rhruaAwDUbtr7nM7Kymrfvn16evratWuFlu3bt5ubm7u7u2/YsGHmzJmlpaVjx46dNWuW1krSBJ6QTy5xd4r4sMGsOVIQAKDW095HdZ8+fSIiIlQ+NXHixIkTJ2qtEs3hCfn4L+5uER/ugxQEAKgb8GmtNjwhcy5ztwr4075IQQCAOgMf2OrBEzL3Cncjjz/ty1oa6boaAAB4awhC9fjqOndJxkf6slZIQQCAOqXOX6hQGyy6zp3J5CN8WVsTXZcCAAD/EHqE72rJDS4sk4/0Y+shBQEA6iD0CN/J1zFcaAYf6cfaIQUBAOom9AhrblkMd+whH4UUBACoyxCENfTDLbo/jT/nz9Y31XUpAADwDnBotCbW3abb7tEoP7YR7jUNAFDHoUf4j62/Tbcm0XP+jBT3oAcAqPsQhP/MhgQanETP+TGNJZhlHgBAHyAI/4GNCXTjHRrtzziYIwUBAPQEzhG+ra1JdMMdes6PaWaBFAQA0B8Iwrfy6z26Mp5G+THNLZGCAAB6BYdG32xrEl0ZT8/5My2QggAAegdB+Abbk+l38TTKDykIAKCfEISvs/M+XXKDO+vHtrRCCgIA6CecI3yl/al00XUa6ce2tUEKAgDoLQShagfS6PyrNMKPcUUKAgDoNQShCn+m0nlXkIIAAAYBQfiig2l0/lXutC9SEADAIGCwzP84kk5nXeLCfFg3W6QgAIBBQI/wubBH/MeXuFM+bNf6SEEAAEOBIPyv8Ex+ygXFCW+2G1IQAMCQIAgJIeRMFj/5vOK4N/teA6QgAIBhQRCSiCx+YrTi2CDWHSkIAGB4DH2wzIUn/PhoxYGBbHd7pCAAgCEy6B7hX0/4UWcVfw5g+zZCCgIAGCjDDcJLMn7kWcW+AaynFCkIAGC4DDQIL8v4EZGKP/qz/ZGCAACGzRCD8EoOPzxS8bsnO6AxUhAAwNAZXBDG5vHDIxTb+7JeDkhBAAAwsCCMy+f9Tyu29mH8myIFAQCAEIMKwvh83i9cEeLBBDga0G8NAACvZyiRcLOA9w1XBHswQ5sZyq8MAABvwyAuqL9VwA8OU2zsyQxDCgIAwP/S/2BIKuL9TnM/9mBGO+n/LwsAAP+UnmfDvae8Vxj3vbt4bEs9/00BAKBm9Dkekp/yXqe4Ne+JP0QKAgDAK+htQqQ94wee4la9Jx7fSm9/RwAAeHe1YrCMXC6/cOFCeXl53759rays1PKaFRz5Ty8xRscAAMDr6T4Iy8vL+/fvLxKJ7O3tZ8yYceHChZYtW777y7a1EbW1wVXzAADwBrrvMO3Zs4fn+b/++uvYsWPDhw9fvXq1risCAAADovsgPHr06KhRoxiGIYSMHTv26NGjuq4IAAAMiO4PjWZmZjZt2lRYbtq0aX5+fnl5uZmZ2ctrFhcXJyYmBgcHCw9Zlh0+fLiNjY3w8OHDhzk5Oe7u7topGwSPHj3Kysrq0aOHrgsxLFlZWenp6b1799Z1IYZFJpPdu3evb9++ui7EsOTm5iYkJPTv379mPy4Wi0WiN5wm030QyuVyoTtICDEyMiKEVFVVqQzCp0+f5uTkXL9+XdnSo0cP5ZonT56MjY3t2LGj5kuG58LDwy9evNi5c2ddF2JYIiIiTp8+3a1bN10XYljOnj17+PDh7t2767oQwxIdHb1nz55evXrV7MdNTU3rQBBKpdK8vDxhOScnRyKRWFtbq1yzadOm/fr1U/YIX2BkZMSyrEQi0VShoAp2u04YGRkxDIPdrmXGxsbY7dqnhd2u+3OEHh4eUVFRwnJUVFSfPn10Ww8AABgU3fcIg4KCOnTosGjRIqlUunz58oMHD+q6IgAAMCAinud1XQN58ODBtm3bysrKRo0a9Zrz/4sWLdq9e3ebNm1UPpuZmfns2bO2bdtqrExQITs7u7CwsF27drouxLA8fvw4Pz/fzc1N14UYFplMlpOT0759e10XYlhyc3Ozs7NrPP5j+PDhs2bNev06tSII39LDhw8vX77coEEDlc+WlJSUl5e/6lnQkLKysmfPnjVs2FDXhRgW7HadqKioKCwslEqlui7EsFRWVubn5zdu3LhmP96iRYs33qSlLgUhAACA2ul+sAwAAIAOIQgBAMCgIQgBAMCgIQgBAMCg6f46QrUoKys7ffp0eXm5t7d3/fr1dV2OPktPT79+/TrP8z179lTeJPbBgwdpaWnKdfr16yfcLQ/UoqSk5OrVq8qHbdq0adKkibD85MmTyMhIKyurwYMHm5iY6KhA/fT48eM7d+5Ub+nRo4eFhUVKSkp6erqy0dPTk2X15INUh3iev3//fkZGRs+ePc3NzZXt+fn5p0+fNjU19fHxqX5zmatXryYmJnbq1Ekt93fUh1GjxcXFvXr1aty4sb29fURExMWLF52dnXVdlH7atWvXwoUL+/XrJxaLw8LCfv3118DAQELI119/vWvXLuVuP3TokLomWAZCyM2bN3v06OHh4SE8nDt37pAhQwghcXFxXl5eAQEB6enp5eXl58+fNzU11WmleiUiIuL7778XlvPz82/fvp2ZmdmwYcPFixf//vvvrVu3Fp46cuSIhYWF7srUBwUFBU5OTkZGRnl5eYmJicqLxVNSUnr37j1w4MDCwsKHDx9euXJFuAHnkiVLfv/998GDB4eGhn722Wfz589/1wr4um/jxo39+vWjlPI8P2/evMmTJ+u6Ir2VmZlZXl4uLIeEhLRq1UpYXrJkyYIFC3RXl56Lj49v2rTpy+3Dhw9funQpz/MKhaJr1647d+7UemmGYvHixUOGDBGWFy1atHDhQt3Wo2eqqqrS09MppYSQxMREZfv06dNnzZrF8zyl1MvL69///jfP8zKZzNTU9MGDBzzPx8TEWFlZPXv27B0L0IdzhKGhoSNGjBDuL/7BBx+EhobquiK95eDgoOxzSKXSyspK5VMymSwsLCwhIUFHpek5hUIRGRl55cqVsrIyoYVSevLkyQ8++IAQwjDM+++/j3e+hlBKd+3aNXXqVGXLkydP8G5XIyMjo2bNmr3cHhoaOnLkSEKISCQaOXKk8A4/c+aMm5ubk5MTIaRLly52dnYXLlx4xwL0IQizsrIcHByEZQcHh/z8/IqKCt2WpPfkcvnq1aunTZsmPBSLxSkpKb/88sugQYMGDRpUXl6u2/L0j0Qi2bRp08yZM52dnYWZyPLy8qqqqqq/87OysnRao94KDw+vrKwUDkeTau92Ly+vwYMH49NGQxQKRU5OjvJ0uPIdnpWVpWwkanrn60MQchwnFv/3F2EYhud5juN0W5J+o5QGBQWZm5t/+eWXQsvSpUuvXr16/PjxlJSU3NzcjRs36rZCPePm5paSknL8+PGbN29OnDhxxowZhBDhTa6caI1hGIVCocsq9df27dsnTpyoHP/1zTffXLlyRXi3P378eNOmTbotT19RSimlL7/DOY6rPr8gy7Lv/s7XhyCUSqU5OTnCskwms7a2rj7oCNSL5/lPPvnkwYMHR48eNTY2FhqVUyubm5sPHTo0Li5OdwXqIeXuJYR8+OGHt27d4jjO3t6eYZjc3FyhXSaT1fhmjPAa+fn5oaGhU6ZMGb9cdAAABfxJREFUUbYo/xwWFhZ4t2uOsbGxnZ3dy+/w6h/4RE3vfH0IQk9PzzNnzgjLZ86c8fT01Gk5+ozn+blz58bHx588efJV3zZiY2OVl1WA2sXExDg4ODAMwzBMnz598M7XtJ07d3bp0sXV1VXls7GxsY6OjlouyXB4enqePn1aWFa+w/v27RsTE1NQUEAIefjwYVpaWo0nr1fSh8tfgoKCOnXqNGfOHHt7+3Xr1oWFhem6Ir21Y8eOn376afTo0QsXLhRafv75Z4Zh/Pz8OnXqZGNjc+HChRs3bgQHB+u2Tj2zatWqhw8ftmrVKiMjY+fOnZs3bxbav/rqq9GjR5eUlKSmpt67d+/AgQO6rVMv7dy5c86cOdVbfH19O3fubGNjc/78+bi4uK1bt+qqNn2ycOHCZ8+eEUKWLVtmY2Pz448/SiSSzz//fNCgQQzDFBYWnj17dt26dYSQli1bjhw5csiQIaNHj/7tt9+CgoLefdIhfbiOkBCSmZm5e/fuioqKkSNHdujQQdfl6K34+Phr165Vb5k2bZpYLD579uzVq1fLysqaNWs2evRo4VofUJeUlJTw8PDMzMz69ev7+PhUn4bwxo0bx44ds7S0nDRpEmZlUruysrI9e/Z8+OGH1a8UjIyM/Pvvv4V3+5gxY3DJrFrs3r27+iC7yZMnC2deEhISDh48aGxsPGHCBOWhJoVC8fvvvycmJnbu3DkwMLD6KcOa0ZMgBAAAqBl9OEcIAABQYwhCAAAwaAhCAAAwaAhCAAAwaAhCAAAwaAhCAAAwaAhCgDrgwoULbzO5hEwm27JlS3Z2thZKAtAbCEKA2qWysnLLli2JiYnVG3/++eevv/76jT+bmpo6Y8aM5ORkjVUHoIf04RZrAPqkrKxsxowZwcHBbdu2VTaOHj06Pz9fh1UB6DEEIUAdMHz48Jcb5XJ5fn6+jY2Ncrbkt1FaWlpaWmpnZ1d9UgsAQ4ZDowC1SFpamjD19oIFC+rVq1evXr1t27YRQj7++GNvb2/lavn5+ZMnT7a1tZVKpWZmZh07dlQ5W3p+fv6AAQO6dOny8OFDQsiJEyecnZ0tLCwaNmxoZmZW/QUBDBl6hAC1SMOGDXfs2DF8+PCgoCB/f39CSJs2bQghhYWFyonZKioqvLy8UlNT16xZ07dv39LS0sjIyNLS0hdeKi0tzc/Pz9jY+NSpUw4ODtnZ2YGBgYGBgfv375dIJBkZGcopnAAMHIIQoBaRSCT9+vUjhLRp08bLy0vlOrt27YqPjz969OiwYcOElp49e76wzo0bN4YMGdK+fftDhw4J0yMkJCRUVFQsWrTIxcWFEOLs7Pyq1wcwNDg0ClDHREZG1q9fX5mCLzt16pSnp6e/v39YWJhykiBXV1cTE5Nx48b9+uuvjx8/1laxAHUAghCgjsnLy3NwcHjNClu2bBGLxYsXL2bZ54d8mjRpcuLECZZlZ8yY4eDg0LVr1xMnTmi+WIA6AEEIUMfY2NjIZLLXrLBjxw5XV1cPD487d+5Ubx80aNDVq1dlMtmff/5pbGw8fPjw27dva7hYgDoAQQhQu5ibm4vF4uqzdb+gX79+T548uXjx4qtWsLW1PX36dIsWLQYOHHjr1q0Xnq1fv/6oUaP27NnDcdyNGzfUVjdAnYUgBKhdjI2NW7VqtW/fvqioqJiYGOVgUaWpU6e2aNFi3LhxoaGhxcXFT548+f33318IPGtr6zNnzrRv397T0/PatWuEkLCwsNWrVycmJlZWVhYUFGzdulUsFnfu3Fl7vxhAbYUgBKh1tmzZIpfLhwwZ0q1bt/3797/wrKWl5dmzZ52cnAICAqytraVS6fz586uqql5YzdzcPDQ0tE+fPt7e3leuXBGLxZs2bXJ1dTU1NbWzs9u+fXtISEinTp209TsB1F4inud1XQMAvAHP8zzPi8X/8801MzMzOzvbysqqdevWb3mbmIyMjCdPnlhbW7do0cLY2FgzxQLUMQhCAAAwaDg0CgAABg1BCAAABg1BCAAABg1BCAAABg1BCAAABg1BCAAABu3/AJMapvP5IU5nAAAAAElFTkSuQmCC\" />"
      ]
     },
     "metadata": {},
     "output_type": "display_data"
    },
    {
     "data": {
      "text/html": [
       "<div><div style = \"float: left;\"><span>101×1 DataFrame</span></div><div style = \"float: right;\"><span style = \"font-style: italic;\">76 rows omitted</span></div><div style = \"clear: both;\"></div></div><div class = \"data-frame\" style = \"overflow-x: scroll;\"><table class = \"data-frame\" style = \"margin-bottom: 6px;\"><thead><tr class = \"header\"><th class = \"rowNumber\" style = \"font-weight: bold; text-align: right;\">Row</th><th style = \"text-align: left;\">num edges</th></tr><tr class = \"subheader headerLastRow\"><th class = \"rowNumber\" style = \"font-weight: bold; text-align: right;\"></th><th title = \"Int64\" style = \"text-align: left;\">Int64</th></tr></thead><tbody><tr><td class = \"rowNumber\" style = \"font-weight: bold; text-align: right;\">1</td><td style = \"text-align: right;\">2</td></tr><tr><td class = \"rowNumber\" style = \"font-weight: bold; text-align: right;\">2</td><td style = \"text-align: right;\">4</td></tr><tr><td class = \"rowNumber\" style = \"font-weight: bold; text-align: right;\">3</td><td style = \"text-align: right;\">6</td></tr><tr><td class = \"rowNumber\" style = \"font-weight: bold; text-align: right;\">4</td><td style = \"text-align: right;\">8</td></tr><tr><td class = \"rowNumber\" style = \"font-weight: bold; text-align: right;\">5</td><td style = \"text-align: right;\">10</td></tr><tr><td class = \"rowNumber\" style = \"font-weight: bold; text-align: right;\">6</td><td style = \"text-align: right;\">12</td></tr><tr><td class = \"rowNumber\" style = \"font-weight: bold; text-align: right;\">7</td><td style = \"text-align: right;\">14</td></tr><tr><td class = \"rowNumber\" style = \"font-weight: bold; text-align: right;\">8</td><td style = \"text-align: right;\">16</td></tr><tr><td class = \"rowNumber\" style = \"font-weight: bold; text-align: right;\">9</td><td style = \"text-align: right;\">18</td></tr><tr><td class = \"rowNumber\" style = \"font-weight: bold; text-align: right;\">10</td><td style = \"text-align: right;\">20</td></tr><tr><td class = \"rowNumber\" style = \"font-weight: bold; text-align: right;\">11</td><td style = \"text-align: right;\">21</td></tr><tr><td class = \"rowNumber\" style = \"font-weight: bold; text-align: right;\">12</td><td style = \"text-align: right;\">23</td></tr><tr><td class = \"rowNumber\" style = \"font-weight: bold; text-align: right;\">13</td><td style = \"text-align: right;\">25</td></tr><tr><td style = \"text-align: right;\">&vellip;</td><td style = \"text-align: right;\">&vellip;</td></tr><tr><td class = \"rowNumber\" style = \"font-weight: bold; text-align: right;\">90</td><td style = \"text-align: right;\">121</td></tr><tr><td class = \"rowNumber\" style = \"font-weight: bold; text-align: right;\">91</td><td style = \"text-align: right;\">123</td></tr><tr><td class = \"rowNumber\" style = \"font-weight: bold; text-align: right;\">92</td><td style = \"text-align: right;\">123</td></tr><tr><td class = \"rowNumber\" style = \"font-weight: bold; text-align: right;\">93</td><td style = \"text-align: right;\">124</td></tr><tr><td class = \"rowNumber\" style = \"font-weight: bold; text-align: right;\">94</td><td style = \"text-align: right;\">125</td></tr><tr><td class = \"rowNumber\" style = \"font-weight: bold; text-align: right;\">95</td><td style = \"text-align: right;\">125</td></tr><tr><td class = \"rowNumber\" style = \"font-weight: bold; text-align: right;\">96</td><td style = \"text-align: right;\">125</td></tr><tr><td class = \"rowNumber\" style = \"font-weight: bold; text-align: right;\">97</td><td style = \"text-align: right;\">127</td></tr><tr><td class = \"rowNumber\" style = \"font-weight: bold; text-align: right;\">98</td><td style = \"text-align: right;\">128</td></tr><tr><td class = \"rowNumber\" style = \"font-weight: bold; text-align: right;\">99</td><td style = \"text-align: right;\">128</td></tr><tr><td class = \"rowNumber\" style = \"font-weight: bold; text-align: right;\">100</td><td style = \"text-align: right;\">130</td></tr><tr><td class = \"rowNumber\" style = \"font-weight: bold; text-align: right;\">101</td><td style = \"text-align: right;\">130</td></tr></tbody></table></div>"
      ],
      "text/latex": [
       "\\begin{tabular}{r|c}\n",
       "\t& num edges\\\\\n",
       "\t\\hline\n",
       "\t& Int64\\\\\n",
       "\t\\hline\n",
       "\t1 & 2 \\\\\n",
       "\t2 & 4 \\\\\n",
       "\t3 & 6 \\\\\n",
       "\t4 & 8 \\\\\n",
       "\t5 & 10 \\\\\n",
       "\t6 & 12 \\\\\n",
       "\t7 & 14 \\\\\n",
       "\t8 & 16 \\\\\n",
       "\t9 & 18 \\\\\n",
       "\t10 & 20 \\\\\n",
       "\t11 & 21 \\\\\n",
       "\t12 & 23 \\\\\n",
       "\t13 & 25 \\\\\n",
       "\t14 & 27 \\\\\n",
       "\t15 & 28 \\\\\n",
       "\t16 & 30 \\\\\n",
       "\t17 & 32 \\\\\n",
       "\t18 & 34 \\\\\n",
       "\t19 & 36 \\\\\n",
       "\t20 & 37 \\\\\n",
       "\t21 & 38 \\\\\n",
       "\t22 & 40 \\\\\n",
       "\t23 & 42 \\\\\n",
       "\t24 & 44 \\\\\n",
       "\t25 & 45 \\\\\n",
       "\t26 & 46 \\\\\n",
       "\t27 & 48 \\\\\n",
       "\t28 & 50 \\\\\n",
       "\t29 & 51 \\\\\n",
       "\t30 & 53 \\\\\n",
       "\t$\\dots$ & $\\dots$ \\\\\n",
       "\\end{tabular}\n"
      ],
      "text/plain": [
       "\u001b[1m101×1 DataFrame\u001b[0m\n",
       "\u001b[1m Row \u001b[0m│\u001b[1m num edges \u001b[0m\n",
       "     │\u001b[90m Int64     \u001b[0m\n",
       "─────┼───────────\n",
       "   1 │         2\n",
       "   2 │         4\n",
       "   3 │         6\n",
       "   4 │         8\n",
       "   5 │        10\n",
       "   6 │        12\n",
       "   7 │        14\n",
       "   8 │        16\n",
       "   9 │        18\n",
       "  10 │        20\n",
       "  11 │        21\n",
       "  ⋮  │     ⋮\n",
       "  92 │       123\n",
       "  93 │       124\n",
       "  94 │       125\n",
       "  95 │       125\n",
       "  96 │       125\n",
       "  97 │       127\n",
       "  98 │       128\n",
       "  99 │       128\n",
       " 100 │       130\n",
       " 101 │       130\n",
       "\u001b[36m  80 rows omitted\u001b[0m"
      ]
     },
     "execution_count": 70,
     "metadata": {},
     "output_type": "execute_result"
    }
   ],
   "source": [
    "df = get_nums_edges(model, edge-> true, labels=[\"num edges\"], plot_result = true)"
   ]
  },
  {
   "cell_type": "code",
   "execution_count": null,
   "metadata": {},
   "outputs": [],
   "source": []
  }
 ],
 "metadata": {
  "@webio": {
   "lastCommId": "dda7f587df274c5483576a27d88bdbc4",
   "lastKernelId": "fab3a207-5cc6-48f3-878c-afb9e67be364"
  },
  "kernelspec": {
   "display_name": "Julia 1.9.2",
   "language": "julia",
   "name": "julia-1.9"
  },
  "language_info": {
   "file_extension": ".jl",
   "mimetype": "application/julia",
   "name": "julia",
   "version": "1.9.2"
  }
 },
 "nbformat": 4,
 "nbformat_minor": 4
}
