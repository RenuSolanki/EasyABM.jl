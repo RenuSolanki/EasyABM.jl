{
 "cells": [
  {
   "cell_type": "code",
   "execution_count": 1,
   "metadata": {
    "scrolled": true
   },
   "outputs": [
    {
     "name": "stderr",
     "output_type": "stream",
     "text": [
      "\u001b[32m\u001b[1m  Activating\u001b[22m\u001b[39m project at `~/Documents/EasyABM`\n",
      "\u001b[36m\u001b[1m[ \u001b[22m\u001b[39m\u001b[36m\u001b[1mInfo: \u001b[22m\u001b[39mPrecompiling EasyABM [2ab8e4d3-e1e9-4248-86a3-8419d2d242e9]\n"
     ]
    },
    {
     "data": {
      "application/vnd.webio.node+json": {
       "children": [],
       "instanceArgs": {
        "namespace": "html",
        "tag": "div"
       },
       "nodeType": "DOM",
       "props": {},
       "type": "node"
      },
      "text/html": [
       "<div style=\"padding: 1em; background-color: #f8d6da; border: 1px solid #f5c6cb; font-weight: bold;\">\n",
       "<p>The WebIO Jupyter extension was not detected. See the\n",
       "<a href=\"https://juliagizmos.github.io/WebIO.jl/latest/providers/ijulia/\" target=\"_blank\">\n",
       "    WebIO Jupyter integration documentation\n",
       "</a>\n",
       "for more information.\n",
       "</div>\n"
      ],
      "text/plain": [
       "WebIO._IJuliaInit()"
      ]
     },
     "metadata": {
      "application/vnd.webio.node+json": {
       "kernelId": "fb118d88-0755-48e8-a653-4253416b6e2c"
      }
     },
     "output_type": "display_data"
    }
   ],
   "source": [
    "using Pkg, Revise\n",
    "Pkg.activate(joinpath(@__DIR__, \"../..\"))\n",
    "using EasyABM"
   ]
  },
  {
   "cell_type": "code",
   "execution_count": 2,
   "metadata": {},
   "outputs": [
    {
     "name": "stderr",
     "output_type": "stream",
     "text": [
      "\u001b[32m\u001b[1m    Updating\u001b[22m\u001b[39m registry at `~/.julia/registries/General`\n",
      "\u001b[32m\u001b[1m    Updating\u001b[22m\u001b[39m git-repo `https://github.com/JuliaRegistries/General.git`\n",
      "\u001b[32m\u001b[1m   Resolving\u001b[22m\u001b[39m package versions...\n",
      "\u001b[32m\u001b[1m   Installed\u001b[22m\u001b[39m CodeTracking ───── v1.3.5\n",
      "\u001b[32m\u001b[1m   Installed\u001b[22m\u001b[39m JuliaInterpreter ─ v0.9.26\n",
      "\u001b[32m\u001b[1m   Installed\u001b[22m\u001b[39m Revise ─────────── v3.5.6\n",
      "\u001b[32m\u001b[1m    Updating\u001b[22m\u001b[39m `~/.julia/environments/v1.9/Project.toml`\n",
      "  \u001b[90m[295af30f] \u001b[39m\u001b[92m+ Revise v3.5.6\u001b[39m\n",
      "\u001b[32m\u001b[1m    Updating\u001b[22m\u001b[39m `~/.julia/environments/v1.9/Manifest.toml`\n",
      "  \u001b[90m[da1fd8a2] \u001b[39m\u001b[92m+ CodeTracking v1.3.5\u001b[39m\n",
      "  \u001b[90m[aa1ae85d] \u001b[39m\u001b[92m+ JuliaInterpreter v0.9.26\u001b[39m\n",
      "  \u001b[90m[6f1432cf] \u001b[39m\u001b[92m+ LoweredCodeUtils v2.3.0\u001b[39m\n",
      "  \u001b[90m[295af30f] \u001b[39m\u001b[92m+ Revise v3.5.6\u001b[39m\n",
      "\u001b[32m\u001b[1mPrecompiling\u001b[22m\u001b[39m project...\n",
      "\u001b[32m  ✓ \u001b[39m\u001b[90mCodeTracking\u001b[39m\n",
      "\u001b[32m  ✓ \u001b[39mEasyABM\n",
      "\u001b[32m  ✓ \u001b[39m\u001b[90mJuliaInterpreter\u001b[39m\n",
      "\u001b[32m  ✓ \u001b[39m\u001b[90mLoweredCodeUtils\u001b[39m\n",
      "\u001b[32m  ✓ \u001b[39mRevise\n",
      "  5 dependencies successfully precompiled in 45 seconds. 295 already precompiled.\n"
     ]
    }
   ],
   "source": [
    "Pkg.add(\"Revise\")"
   ]
  },
  {
   "cell_type": "code",
   "execution_count": 2,
   "metadata": {},
   "outputs": [],
   "source": [
    "using BenchmarkTools"
   ]
  },
  {
   "cell_type": "code",
   "execution_count": 3,
   "metadata": {},
   "outputs": [],
   "source": [
    "@enum agentsfeeling happy sad"
   ]
  },
  {
   "cell_type": "code",
   "execution_count": 48,
   "metadata": {},
   "outputs": [
    {
     "data": {
      "text/plain": [
       "Int64"
      ]
     },
     "execution_count": 48,
     "metadata": {},
     "output_type": "execute_result"
    }
   ],
   "source": [
    "typeof(1)"
   ]
  },
  {
   "cell_type": "code",
   "execution_count": 27,
   "metadata": {
    "scrolled": false
   },
   "outputs": [
    {
     "data": {
      "text/plain": [
       "return_vals (generic function with 1 method)"
      ]
     },
     "execution_count": 27,
     "metadata": {},
     "output_type": "execute_result"
    }
   ],
   "source": [
    "function return_vals(numagents, griddims, min_to_be_happy, radius)\n",
    "        agents = grid_2d_agents(numagents, pos = Vect(1,1), space_type=NPeriodic, color = cl\"green\", mood = happy, keeps_record_of=Set([:pos, :mood]))\n",
    "        model = create_2d_model(agents, agents_type = Static, space_type=NPeriodic, size = griddims, min_alike = min_to_be_happy)\n",
    "        \n",
    "        function initialiser!(model)\n",
    "            min_alike = model.parameters.min_alike::Int\n",
    "            for agent in model.agents\n",
    "                agent.color::Col = [cl\"red\", cl\"green\"][rand(1:2)]\n",
    "                x,y = random_empty_patch(model)::Tuple{Int, Int}\n",
    "                agent.pos = Vect(x,y)\n",
    "                 agent.mood = sad\n",
    "            end    \n",
    "        end\n",
    "\n",
    "\n",
    "        function step_rule!(model)\n",
    "            min_alike = model.parameters.min_alike::Int\n",
    "            for agent in model.agents\n",
    "                count_alike = 0\n",
    "                for nbr in neighbors_moore(agent, model,1)\n",
    "                    if agent.color::Col == nbr.color::Col\n",
    "                        count_alike += 1\n",
    "                    end\n",
    "                end\n",
    "                if count_alike ≥ min_alike\n",
    "                    agent.mood = happy\n",
    "                else\n",
    "                    agent.mood = sad\n",
    "                    x,y = random_empty_patch(model)::Tuple{Int, Int}\n",
    "                    agent.pos = Vect(x,y)\n",
    "                end\n",
    "            end\n",
    "            return\n",
    "        end\n",
    "    return model, initialiser!, step_rule!\n",
    "end"
   ]
  },
  {
   "cell_type": "code",
   "execution_count": null,
   "metadata": {},
   "outputs": [],
   "source": []
  },
  {
   "cell_type": "code",
   "execution_count": 5,
   "metadata": {
    "scrolled": true
   },
   "outputs": [
    {
     "data": {
      "text/plain": [
       "EasyABM SpaceModel2D{Static, Int64, NPeriodic}: In a Static model number of agents is fixed.\n"
      ]
     },
     "execution_count": 5,
     "metadata": {},
     "output_type": "execute_result"
    }
   ],
   "source": [
    "const agents = grid_2d_agents(1000, pos = Vect(1,1), color = cl\"green\", mood = happy, keeps_record_of=Set([:pos, :mood]))\n",
    "const model = create_2d_model(agents, agents_type = Static, space_type=NPeriodic, size = (40,40), min_alike = 3)"
   ]
  },
  {
   "cell_type": "code",
   "execution_count": 16,
   "metadata": {},
   "outputs": [
    {
     "name": "stdout",
     "output_type": "stream",
     "text": [
      "MethodInstance for Core.kwcall(::NamedTuple{(:pos, :color, :mood, :keeps_record_of), Tuple{Vect{2, Int64}, Col, agentsfeeling, Set{Symbol}}}, ::typeof(grid_2d_agents), ::Int64)\n",
      "  from kwcall(::\u001b[1mAny\u001b[22m, ::\u001b[1mtypeof(grid_2d_agents)\u001b[22m, \u001b[90mn\u001b[39m::\u001b[1mInt64\u001b[22m)\u001b[90m @\u001b[39m \u001b[90mEasyABM\u001b[39m \u001b[90m~/Documents/EasyABM/src/agents/\u001b[39m\u001b[90m\u001b[4magent2dgrid.jl:43\u001b[24m\u001b[39m\n",
      "Arguments\n",
      "  _\u001b[36m::Core.Const(Core.kwcall)\u001b[39m\n",
      "  @_2\u001b[36m::NamedTuple{(:pos, :color, :mood, :keeps_record_of), Tuple{Vect{2, Int64}, Col, agentsfeeling, Set{Symbol}}}\u001b[39m\n",
      "  @_3\u001b[36m::Core.Const(EasyABM.grid_2d_agents)\u001b[39m\n",
      "  n\u001b[36m::Int64\u001b[39m\n",
      "Locals\n",
      "  pos\u001b[36m::Union{}\u001b[39m\n",
      "  space_type\u001b[36m::Union{}\u001b[39m\n",
      "  agent_type\u001b[36m::Union{}\u001b[39m\n",
      "  kwargs...\u001b[36m::Base.Pairs{Symbol, Any, Tuple{Symbol, Symbol, Symbol}, NamedTuple{(:color, :mood, :keeps_record_of), Tuple{Col, agentsfeeling, Set{Symbol}}}}\u001b[39m\n",
      "  @_9\u001b[33m\u001b[1m::Union{Vect{2, Int64}, Type{Periodic}, Type{Static}}\u001b[22m\u001b[39m\n",
      "Body\u001b[36m::Vector{EasyABM.Agent2D{Int64, Periodic, Static}}\u001b[39m\n",
      "\u001b[90m1 ──\u001b[39m       Core.NewvarNode(:(pos))\n",
      "\u001b[90m│   \u001b[39m       Core.NewvarNode(:(space_type))\n",
      "\u001b[90m│   \u001b[39m       Core.NewvarNode(:(agent_type))\n",
      "\u001b[90m│   \u001b[39m       Core.NewvarNode(:(kwargs...))\n",
      "\u001b[90m│   \u001b[39m       Core.NewvarNode(:(@_9))\n",
      "\u001b[90m│   \u001b[39m %6  = Core.isdefined(@_2, :pos)\u001b[36m::Core.Const(true)\u001b[39m\n",
      "\u001b[90m└───\u001b[39m       goto #6 if not %6\n",
      "\u001b[90m2 ──\u001b[39m %8  = Core.getfield(@_2, :pos)\u001b[36m::Vect{2, Int64}\u001b[39m\n",
      "\u001b[90m│   \u001b[39m %9  = Core.apply_type(EasyABM.Vect, 2, EasyABM.Int)\u001b[36m::Core.Const(Vect{2, Int64})\u001b[39m\n",
      "\u001b[90m│   \u001b[39m %10 = (%8 isa %9)\u001b[36m::Core.Const(true)\u001b[39m\n",
      "\u001b[90m└───\u001b[39m       goto #4 if not %10\n",
      "\u001b[90m3 ──\u001b[39m       goto #5\n",
      "\u001b[90m4 ──\u001b[39m       Core.Const(:(Core.apply_type(EasyABM.Vect, 2, EasyABM.Int)))\n",
      "\u001b[90m│   \u001b[39m       Core.Const(:(%new(Core.TypeError, Symbol(\"keyword argument\"), :pos, %13, %8)))\n",
      "\u001b[90m└───\u001b[39m       Core.Const(:(Core.throw(%14)))\n",
      "\u001b[90m5 ┄─\u001b[39m       (@_9 = %8)\n",
      "\u001b[90m└───\u001b[39m       goto #7\n",
      "\u001b[90m6 ──\u001b[39m       Core.Const(:(@_9 = EasyABM.Vect(1, 1)))\n",
      "\u001b[90m7 ┄─\u001b[39m %19 = @_9\u001b[36m::Vect{2, Int64}\u001b[39m\n",
      "\u001b[90m│   \u001b[39m %20 = Core.isdefined(@_2, :space_type)\u001b[36m::Core.Const(false)\u001b[39m\n",
      "\u001b[90m└───\u001b[39m       goto #9 if not %20\n",
      "\u001b[90m8 ──\u001b[39m       Core.Const(:(@_9 = Core.getfield(@_2, :space_type)))\n",
      "\u001b[90m└───\u001b[39m       Core.Const(:(goto %25))\n",
      "\u001b[90m9 ┄─\u001b[39m       (@_9 = EasyABM.Periodic)\n",
      "\u001b[90m│   \u001b[39m %25 = @_9\u001b[36m::Core.Const(Periodic)\u001b[39m\n",
      "\u001b[90m│   \u001b[39m %26 = Core.isdefined(@_2, :agent_type)\u001b[36m::Core.Const(false)\u001b[39m\n",
      "\u001b[90m└───\u001b[39m       goto #11 if not %26\n",
      "\u001b[90m10 ─\u001b[39m       Core.Const(:(@_9 = Core.getfield(@_2, :agent_type)))\n",
      "\u001b[90m└───\u001b[39m       Core.Const(:(goto %31))\n",
      "\u001b[90m11 ┄\u001b[39m       (@_9 = EasyABM.Static)\n",
      "\u001b[90m│   \u001b[39m %31 = @_9\u001b[36m::Core.Const(Static)\u001b[39m\n",
      "\u001b[90m│   \u001b[39m %32 = (:pos, :space_type, :agent_type)\u001b[36m::Core.Const((:pos, :space_type, :agent_type))\u001b[39m\n",
      "\u001b[90m│   \u001b[39m %33 = Core.apply_type(Core.NamedTuple, %32)\u001b[36m::Core.Const(NamedTuple{(:pos, :space_type, :agent_type)})\u001b[39m\n",
      "\u001b[90m│   \u001b[39m %34 = Base.structdiff(@_2, %33)\u001b[36m::NamedTuple{(:color, :mood, :keeps_record_of), Tuple{Col, agentsfeeling, Set{Symbol}}}\u001b[39m\n",
      "\u001b[90m│   \u001b[39m       (kwargs... = Base.pairs(%34))\n",
      "\u001b[90m│   \u001b[39m %36 = EasyABM.:(var\"#grid_2d_agents#7\")(%19, %25, %31, kwargs...::Core.PartialStruct(Base.Pairs{Symbol, Any, Tuple{Symbol, Symbol, Symbol}, NamedTuple{(:color, :mood, :keeps_record_of), Tuple{Col, agentsfeeling, Set{Symbol}}}}, Any[NamedTuple{(:color, :mood, :keeps_record_of), Tuple{Col, agentsfeeling, Set{Symbol}}}, Core.Const((:color, :mood, :keeps_record_of))]), @_3, n)\u001b[36m::Vector{EasyABM.Agent2D{Int64, Periodic, Static}}\u001b[39m\n",
      "\u001b[90m└───\u001b[39m       return %36\n",
      "\n"
     ]
    }
   ],
   "source": [
    "@code_warntype grid_2d_agents(1000, pos = Vect(1,1), color = cl\"green\", mood = happy, keeps_record_of=Set([:pos, :mood]))"
   ]
  },
  {
   "cell_type": "code",
   "execution_count": 12,
   "metadata": {},
   "outputs": [
    {
     "name": "stdout",
     "output_type": "stream",
     "text": [
      "MethodInstance for Core.kwcall(::NamedTuple{(:steps, :step_rule), Tuple{Int64, typeof(step_rule!)}}, ::typeof(run_model!), ::EasyABM.SpaceModel2D{Static, Int64, NPeriodic})\n",
      "  from kwcall(::\u001b[1mAny\u001b[22m, ::\u001b[1mtypeof(run_model!)\u001b[22m, \u001b[90mmodel\u001b[39m::\u001b[1mEasyABM.SpaceModel2D\u001b[22m)\u001b[90m @\u001b[39m \u001b[90mEasyABM\u001b[39m \u001b[90m~/Documents/EasyABM/src/2d_model/\u001b[39m\u001b[90m\u001b[4mmainfunctions.jl:155\u001b[24m\u001b[39m\n",
      "Arguments\n",
      "  _\u001b[36m::Core.Const(Core.kwcall)\u001b[39m\n",
      "  @_2\u001b[36m::NamedTuple{(:steps, :step_rule), Tuple{Int64, typeof(step_rule!)}}\u001b[39m\n",
      "  @_3\u001b[36m::Core.Const(EasyABM.run_model!)\u001b[39m\n",
      "  model\u001b[36m::EasyABM.SpaceModel2D{Static, Int64, NPeriodic}\u001b[39m\n",
      "Locals\n",
      "  steps\u001b[36m::Union{}\u001b[39m\n",
      "  step_rule\u001b[36m::Union{}\u001b[39m\n",
      "  @_7\u001b[33m\u001b[1m::Union{typeof(step_rule!), Int64}\u001b[22m\u001b[39m\n",
      "Body\u001b[36m::Nothing\u001b[39m\n",
      "\u001b[90m1 ──\u001b[39m       Core.NewvarNode(:(steps))\n",
      "\u001b[90m│   \u001b[39m       Core.NewvarNode(:(step_rule))\n",
      "\u001b[90m│   \u001b[39m       Core.NewvarNode(:(@_7))\n",
      "\u001b[90m│   \u001b[39m %4  = Core.isdefined(@_2, :steps)\u001b[36m::Core.Const(true)\u001b[39m\n",
      "\u001b[90m└───\u001b[39m       goto #3 if not %4\n",
      "\u001b[90m2 ──\u001b[39m       (@_7 = Core.getfield(@_2, :steps))\n",
      "\u001b[90m└───\u001b[39m       goto #4\n",
      "\u001b[90m3 ──\u001b[39m       Core.Const(:(@_7 = 1))\n",
      "\u001b[90m4 ┄─\u001b[39m %9  = @_7\u001b[36m::Int64\u001b[39m\n",
      "\u001b[90m│   \u001b[39m %10 = Core.isdefined(@_2, :step_rule)\u001b[36m::Core.Const(true)\u001b[39m\n",
      "\u001b[90m└───\u001b[39m       goto #9 if not %10\n",
      "\u001b[90m5 ──\u001b[39m %12 = Core.getfield(@_2, :step_rule)\u001b[36m::Core.Const(step_rule!)\u001b[39m\n",
      "\u001b[90m│   \u001b[39m %13 = (%12 isa EasyABM.Function)\u001b[36m::Core.Const(true)\u001b[39m\n",
      "\u001b[90m└───\u001b[39m       goto #7 if not %13\n",
      "\u001b[90m6 ──\u001b[39m       goto #8\n",
      "\u001b[90m7 ──\u001b[39m       Core.Const(:(%new(Core.TypeError, Symbol(\"keyword argument\"), :step_rule, EasyABM.Function, %12)))\n",
      "\u001b[90m└───\u001b[39m       Core.Const(:(Core.throw(%16)))\n",
      "\u001b[90m8 ┄─\u001b[39m       (@_7 = %12)\n",
      "\u001b[90m└───\u001b[39m       goto #10\n",
      "\u001b[90m9 ──\u001b[39m       Core.Const(:(@_7 = EasyABM.model_null_step!))\n",
      "\u001b[90m10 ┄\u001b[39m %21 = @_7\u001b[36m::Core.Const(step_rule!)\u001b[39m\n",
      "\u001b[90m│   \u001b[39m %22 = (:steps, :step_rule)\u001b[36m::Core.Const((:steps, :step_rule))\u001b[39m\n",
      "\u001b[90m│   \u001b[39m %23 = Core.apply_type(Core.NamedTuple, %22)\u001b[36m::Core.Const(NamedTuple{(:steps, :step_rule)})\u001b[39m\n",
      "\u001b[90m│   \u001b[39m %24 = Base.structdiff(@_2, %23)\u001b[36m::Core.Const(NamedTuple())\u001b[39m\n",
      "\u001b[90m│   \u001b[39m %25 = Base.pairs(%24)\u001b[36m::Core.Const(Base.Pairs{Symbol, Union{}, Tuple{}, NamedTuple{(), Tuple{}}}())\u001b[39m\n",
      "\u001b[90m│   \u001b[39m %26 = Base.isempty(%25)\u001b[36m::Core.Const(true)\u001b[39m\n",
      "\u001b[90m└───\u001b[39m       goto #12 if not %26\n",
      "\u001b[90m11 ─\u001b[39m       goto #13\n",
      "\u001b[90m12 ─\u001b[39m       Core.Const(:(Base.kwerr(@_2, @_3, model)))\n",
      "\u001b[90m13 ┄\u001b[39m %30 = EasyABM.:(var\"#run_model!#211\")(%9, %21, @_3, model)\u001b[36m::Core.Const(nothing)\u001b[39m\n",
      "\u001b[90m└───\u001b[39m       return %30\n",
      "\n"
     ]
    }
   ],
   "source": [
    "@code_warntype run_model!(model, steps=20, step_rule = step_rule!)"
   ]
  },
  {
   "cell_type": "code",
   "execution_count": 28,
   "metadata": {
    "scrolled": false
   },
   "outputs": [
    {
     "data": {
      "text/plain": [
       "bench_easyabm_model (generic function with 1 method)"
      ]
     },
     "execution_count": 28,
     "metadata": {},
     "output_type": "execute_result"
    }
   ],
   "source": [
    "\n",
    "function bench_easyabm_model(numagents, griddims, min_to_be_happy, radius)\n",
    "#@enum agentsfeeling happy sad\n",
    "    model, initialiser!, step_rule! = return_vals(numagents, griddims, min_to_be_happy, radius)\n",
    "    init_model!(model, initialiser = initialiser!)\n",
    "    run_model!(model, steps=20, step_rule = step_rule!)\n",
    "end"
   ]
  },
  {
   "cell_type": "code",
   "execution_count": 30,
   "metadata": {
    "scrolled": true
   },
   "outputs": [
    {
     "name": "stdout",
     "output_type": "stream",
     "text": [
      "  0.000003 seconds\n"
     ]
    },
    {
     "data": {
      "text/plain": [
       "(10, 30)\n"
      ]
     },
     "execution_count": 30,
     "metadata": {},
     "output_type": "execute_result"
    }
   ],
   "source": [
    "@time getfield(model.agents[1], :pos)"
   ]
  },
  {
   "cell_type": "code",
   "execution_count": 32,
   "metadata": {
    "scrolled": true
   },
   "outputs": [
    {
     "name": "stdout",
     "output_type": "stream",
     "text": [
      "  0.000003 seconds\n"
     ]
    },
    {
     "data": {
      "text/plain": [
       "(1, 1)"
      ]
     },
     "execution_count": 32,
     "metadata": {},
     "output_type": "execute_result"
    }
   ],
   "source": [
    "@time getfield(model.agents[1], :last_grid_loc)"
   ]
  },
  {
   "cell_type": "code",
   "execution_count": 28,
   "metadata": {
    "scrolled": true
   },
   "outputs": [
    {
     "name": "stdout",
     "output_type": "stream",
     "text": [
      "  0.000003 seconds\n"
     ]
    },
    {
     "data": {
      "text/plain": [
       "(10, 30)\n"
      ]
     },
     "execution_count": 28,
     "metadata": {},
     "output_type": "execute_result"
    }
   ],
   "source": [
    "@time model.agents[1].pos"
   ]
  },
  {
   "cell_type": "code",
   "execution_count": 40,
   "metadata": {},
   "outputs": [
    {
     "name": "stdout",
     "output_type": "stream",
     "text": [
      "getfield(...)\u001b[90m @\u001b[39m \u001b[90mCore\u001b[39m \u001b[90m\u001b[4mnone:0\u001b[24m\u001b[39m\n",
      "  failed to infer\n"
     ]
    }
   ],
   "source": [
    "@code_warntype getfield(model.agents[1],:pos)"
   ]
  },
  {
   "cell_type": "code",
   "execution_count": 31,
   "metadata": {},
   "outputs": [
    {
     "data": {
      "text/plain": [
       "BenchmarkTools.Trial: 94 samples with 1 evaluation.\n",
       " Range \u001b[90m(\u001b[39m\u001b[36m\u001b[1mmin\u001b[22m\u001b[39m … \u001b[35mmax\u001b[39m\u001b[90m):  \u001b[39m\u001b[36m\u001b[1m44.629 ms\u001b[22m\u001b[39m … \u001b[35m71.867 ms\u001b[39m  \u001b[90m┊\u001b[39m GC \u001b[90m(\u001b[39mmin … max\u001b[90m): \u001b[39m 9.73% … 19.89%\n",
       " Time  \u001b[90m(\u001b[39m\u001b[34m\u001b[1mmedian\u001b[22m\u001b[39m\u001b[90m):     \u001b[39m\u001b[34m\u001b[1m53.149 ms              \u001b[22m\u001b[39m\u001b[90m┊\u001b[39m GC \u001b[90m(\u001b[39mmedian\u001b[90m):    \u001b[39m22.96%\n",
       " Time  \u001b[90m(\u001b[39m\u001b[32m\u001b[1mmean\u001b[22m\u001b[39m ± \u001b[32mσ\u001b[39m\u001b[90m):   \u001b[39m\u001b[32m\u001b[1m53.414 ms\u001b[22m\u001b[39m ± \u001b[32m 4.746 ms\u001b[39m  \u001b[90m┊\u001b[39m GC \u001b[90m(\u001b[39mmean ± σ\u001b[90m):  \u001b[39m20.19% ±  5.34%\n",
       "\n",
       "  \u001b[39m \u001b[39m \u001b[39m \u001b[39m \u001b[39m \u001b[39m \u001b[39m \u001b[39m \u001b[39m \u001b[39m \u001b[39m \u001b[39m \u001b[39m▆\u001b[39m▁\u001b[39m \u001b[39m▁\u001b[39m \u001b[39m▃\u001b[39m \u001b[39m \u001b[39m▁\u001b[34m█\u001b[39m\u001b[32m▃\u001b[39m\u001b[39m▁\u001b[39m▄\u001b[39m \u001b[39m \u001b[39m \u001b[39m \u001b[39m \u001b[39m \u001b[39m \u001b[39m \u001b[39m \u001b[39m \u001b[39m \u001b[39m \u001b[39m \u001b[39m \u001b[39m \u001b[39m \u001b[39m \u001b[39m \u001b[39m \u001b[39m \u001b[39m \u001b[39m \u001b[39m \u001b[39m \u001b[39m \u001b[39m \u001b[39m \u001b[39m \u001b[39m \u001b[39m \u001b[39m \u001b[39m \u001b[39m \u001b[39m \u001b[39m \u001b[39m \n",
       "  \u001b[39m▄\u001b[39m▆\u001b[39m▄\u001b[39m▁\u001b[39m▄\u001b[39m▄\u001b[39m▇\u001b[39m▄\u001b[39m▁\u001b[39m▁\u001b[39m▁\u001b[39m▇\u001b[39m█\u001b[39m█\u001b[39m▆\u001b[39m█\u001b[39m▁\u001b[39m█\u001b[39m▆\u001b[39m▇\u001b[39m█\u001b[34m█\u001b[39m\u001b[32m█\u001b[39m\u001b[39m█\u001b[39m█\u001b[39m▆\u001b[39m▇\u001b[39m▇\u001b[39m▆\u001b[39m▄\u001b[39m▄\u001b[39m▁\u001b[39m▄\u001b[39m▁\u001b[39m▇\u001b[39m▇\u001b[39m▁\u001b[39m▄\u001b[39m▁\u001b[39m▁\u001b[39m▁\u001b[39m▁\u001b[39m▁\u001b[39m▄\u001b[39m▆\u001b[39m▁\u001b[39m▄\u001b[39m▁\u001b[39m▁\u001b[39m▁\u001b[39m▁\u001b[39m▄\u001b[39m▁\u001b[39m▁\u001b[39m▁\u001b[39m▁\u001b[39m▁\u001b[39m▁\u001b[39m▄\u001b[39m \u001b[39m▁\n",
       "  44.6 ms\u001b[90m         Histogram: frequency by time\u001b[39m        68.2 ms \u001b[0m\u001b[1m<\u001b[22m\n",
       "\n",
       " Memory estimate\u001b[90m: \u001b[39m\u001b[33m67.57 MiB\u001b[39m, allocs estimate\u001b[90m: \u001b[39m\u001b[33m121826\u001b[39m."
      ]
     },
     "execution_count": 31,
     "metadata": {},
     "output_type": "execute_result"
    }
   ],
   "source": [
    "@benchmark bench_easyabm_model(1000, (40, 40), 3, 1)"
   ]
  },
  {
   "cell_type": "code",
   "execution_count": 32,
   "metadata": {},
   "outputs": [
    {
     "data": {
      "text/plain": [
       "BenchmarkTools.Trial: 9 samples with 1 evaluation.\n",
       " Range \u001b[90m(\u001b[39m\u001b[36m\u001b[1mmin\u001b[22m\u001b[39m … \u001b[35mmax\u001b[39m\u001b[90m):  \u001b[39m\u001b[36m\u001b[1m516.232 ms\u001b[22m\u001b[39m … \u001b[35m632.301 ms\u001b[39m  \u001b[90m┊\u001b[39m GC \u001b[90m(\u001b[39mmin … max\u001b[90m): \u001b[39m14.85% … 13.02%\n",
       " Time  \u001b[90m(\u001b[39m\u001b[34m\u001b[1mmedian\u001b[22m\u001b[39m\u001b[90m):     \u001b[39m\u001b[34m\u001b[1m566.141 ms               \u001b[22m\u001b[39m\u001b[90m┊\u001b[39m GC \u001b[90m(\u001b[39mmedian\u001b[90m):    \u001b[39m13.84%\n",
       " Time  \u001b[90m(\u001b[39m\u001b[32m\u001b[1mmean\u001b[22m\u001b[39m ± \u001b[32mσ\u001b[39m\u001b[90m):   \u001b[39m\u001b[32m\u001b[1m577.140 ms\u001b[22m\u001b[39m ± \u001b[32m 36.246 ms\u001b[39m  \u001b[90m┊\u001b[39m GC \u001b[90m(\u001b[39mmean ± σ\u001b[90m):  \u001b[39m13.44% ±  1.09%\n",
       "\n",
       "  \u001b[39m█\u001b[39m \u001b[39m \u001b[39m \u001b[39m \u001b[39m \u001b[39m \u001b[39m \u001b[39m \u001b[39m \u001b[39m \u001b[39m \u001b[39m \u001b[39m \u001b[39m \u001b[39m \u001b[39m \u001b[39m \u001b[39m \u001b[39m \u001b[39m \u001b[39m█\u001b[39m \u001b[39m█\u001b[39m \u001b[39m█\u001b[34m█\u001b[39m\u001b[39m█\u001b[39m \u001b[39m \u001b[39m \u001b[39m \u001b[32m \u001b[39m\u001b[39m \u001b[39m \u001b[39m \u001b[39m \u001b[39m \u001b[39m \u001b[39m \u001b[39m \u001b[39m \u001b[39m \u001b[39m \u001b[39m \u001b[39m \u001b[39m \u001b[39m \u001b[39m█\u001b[39m \u001b[39m \u001b[39m \u001b[39m \u001b[39m \u001b[39m█\u001b[39m \u001b[39m \u001b[39m \u001b[39m \u001b[39m \u001b[39m█\u001b[39m \u001b[39m \n",
       "  \u001b[39m█\u001b[39m▁\u001b[39m▁\u001b[39m▁\u001b[39m▁\u001b[39m▁\u001b[39m▁\u001b[39m▁\u001b[39m▁\u001b[39m▁\u001b[39m▁\u001b[39m▁\u001b[39m▁\u001b[39m▁\u001b[39m▁\u001b[39m▁\u001b[39m▁\u001b[39m▁\u001b[39m▁\u001b[39m▁\u001b[39m▁\u001b[39m█\u001b[39m▁\u001b[39m█\u001b[39m▁\u001b[39m█\u001b[34m█\u001b[39m\u001b[39m█\u001b[39m▁\u001b[39m▁\u001b[39m▁\u001b[39m▁\u001b[32m▁\u001b[39m\u001b[39m▁\u001b[39m▁\u001b[39m▁\u001b[39m▁\u001b[39m▁\u001b[39m▁\u001b[39m▁\u001b[39m▁\u001b[39m▁\u001b[39m▁\u001b[39m▁\u001b[39m▁\u001b[39m▁\u001b[39m▁\u001b[39m▁\u001b[39m█\u001b[39m▁\u001b[39m▁\u001b[39m▁\u001b[39m▁\u001b[39m▁\u001b[39m█\u001b[39m▁\u001b[39m▁\u001b[39m▁\u001b[39m▁\u001b[39m▁\u001b[39m█\u001b[39m \u001b[39m▁\n",
       "  516 ms\u001b[90m           Histogram: frequency by time\u001b[39m          632 ms \u001b[0m\u001b[1m<\u001b[22m\n",
       "\n",
       " Memory estimate\u001b[90m: \u001b[39m\u001b[33m907.10 MiB\u001b[39m, allocs estimate\u001b[90m: \u001b[39m\u001b[33m552220\u001b[39m."
      ]
     },
     "execution_count": 32,
     "metadata": {},
     "output_type": "execute_result"
    }
   ],
   "source": [
    "@benchmark bench_easyabm_model(5000, (80, 80), 3, 1) evals=1"
   ]
  },
  {
   "cell_type": "code",
   "execution_count": 33,
   "metadata": {},
   "outputs": [
    {
     "name": "stdout",
     "output_type": "stream",
     "text": [
      "MethodInstance for bench_easyabm_model(::Int64, ::Tuple{Int64, Int64}, ::Int64, ::Int64)\n",
      "  from bench_easyabm_model(\u001b[90mnumagents\u001b[39m, \u001b[90mgriddims\u001b[39m, \u001b[90mmin_to_be_happy\u001b[39m, \u001b[90mradius\u001b[39m)\u001b[90m @\u001b[39m \u001b[90mMain\u001b[39m \u001b[90m\u001b[4mIn[28]:2\u001b[24m\u001b[39m\n",
      "Arguments\n",
      "  #self#\u001b[36m::Core.Const(bench_easyabm_model)\u001b[39m\n",
      "  numagents\u001b[36m::Int64\u001b[39m\n",
      "  griddims\u001b[36m::Tuple{Int64, Int64}\u001b[39m\n",
      "  min_to_be_happy\u001b[36m::Int64\u001b[39m\n",
      "  radius\u001b[36m::Int64\u001b[39m\n",
      "Locals\n",
      "  @_6\u001b[36m::Int64\u001b[39m\n",
      "  step_rule!\u001b[36m::var\"#step_rule!#10\"\u001b[39m\n",
      "  initialiser!\u001b[36m::var\"#initialiser!#9\"\u001b[39m\n",
      "  model\u001b[91m\u001b[1m::EasyABM.SpaceModel2D\u001b[22m\u001b[39m\n",
      "Body\u001b[36m::Nothing\u001b[39m\n",
      "\u001b[90m1 ─\u001b[39m %1  = Main.return_vals(numagents, griddims, min_to_be_happy, radius)\u001b[91m\u001b[1m::Tuple{EasyABM.SpaceModel2D, var\"#initialiser!#9\", var\"#step_rule!#10\"}\u001b[22m\u001b[39m\n",
      "\u001b[90m│  \u001b[39m %2  = Base.indexed_iterate(%1, 1)\u001b[36m::Core.PartialStruct(Tuple{EasyABM.SpaceModel2D, Int64}, Any[EasyABM.SpaceModel2D, Core.Const(2)])\u001b[39m\n",
      "\u001b[90m│  \u001b[39m       (model = Core.getfield(%2, 1))\n",
      "\u001b[90m│  \u001b[39m       (@_6 = Core.getfield(%2, 2))\n",
      "\u001b[90m│  \u001b[39m %5  = Base.indexed_iterate(%1, 2, @_6::Core.Const(2))\u001b[36m::Core.Const((var\"#initialiser!#9\"(), 3))\u001b[39m\n",
      "\u001b[90m│  \u001b[39m       (initialiser! = Core.getfield(%5, 1))\n",
      "\u001b[90m│  \u001b[39m       (@_6 = Core.getfield(%5, 2))\n",
      "\u001b[90m│  \u001b[39m %8  = Base.indexed_iterate(%1, 3, @_6::Core.Const(3))\u001b[36m::Core.Const((var\"#step_rule!#10\"(), 4))\u001b[39m\n",
      "\u001b[90m│  \u001b[39m       (step_rule! = Core.getfield(%8, 1))\n",
      "\u001b[90m│  \u001b[39m %10 = (:initialiser,)\u001b[36m::Core.Const((:initialiser,))\u001b[39m\n",
      "\u001b[90m│  \u001b[39m %11 = Core.apply_type(Core.NamedTuple, %10)\u001b[36m::Core.Const(NamedTuple{(:initialiser,)})\u001b[39m\n",
      "\u001b[90m│  \u001b[39m %12 = Core.tuple(initialiser!)\u001b[36m::Core.Const((var\"#initialiser!#9\"(),))\u001b[39m\n",
      "\u001b[90m│  \u001b[39m %13 = (%11)(%12)\u001b[36m::Core.Const((initialiser = var\"#initialiser!#9\"(),))\u001b[39m\n",
      "\u001b[90m│  \u001b[39m       Core.kwcall(%13, Main.init_model!, model)\n",
      "\u001b[90m│  \u001b[39m %15 = (:steps, :step_rule)\u001b[36m::Core.Const((:steps, :step_rule))\u001b[39m\n",
      "\u001b[90m│  \u001b[39m %16 = Core.apply_type(Core.NamedTuple, %15)\u001b[36m::Core.Const(NamedTuple{(:steps, :step_rule)})\u001b[39m\n",
      "\u001b[90m│  \u001b[39m %17 = Core.tuple(20, step_rule!)\u001b[36m::Core.Const((20, var\"#step_rule!#10\"()))\u001b[39m\n",
      "\u001b[90m│  \u001b[39m %18 = (%16)(%17)\u001b[36m::Core.Const((steps = 20, step_rule = var\"#step_rule!#10\"()))\u001b[39m\n",
      "\u001b[90m│  \u001b[39m %19 = Core.kwcall(%18, Main.run_model!, model)\u001b[36m::Core.Const(nothing)\u001b[39m\n",
      "\u001b[90m└──\u001b[39m       return %19\n",
      "\n"
     ]
    }
   ],
   "source": [
    "@code_warntype bench_easyabm_model(1000, (40, 40), 3, 1)"
   ]
  },
  {
   "cell_type": "code",
   "execution_count": 14,
   "metadata": {},
   "outputs": [],
   "source": [
    "using Base.Threads"
   ]
  },
  {
   "cell_type": "code",
   "execution_count": 15,
   "metadata": {},
   "outputs": [
    {
     "data": {
      "text/plain": [
       "loop1 (generic function with 1 method)"
      ]
     },
     "execution_count": 15,
     "metadata": {},
     "output_type": "execute_result"
    }
   ],
   "source": [
    "function loop1()\n",
    "    @threads for i in 1:1000\n",
    "        x=rand()\n",
    "        if x<0.05\n",
    "            println(\"num \", i, \" threadId \", Threads.threadid() )\n",
    "            return \n",
    "        end\n",
    "    end\n",
    "end"
   ]
  },
  {
   "cell_type": "code",
   "execution_count": 16,
   "metadata": {},
   "outputs": [
    {
     "name": "stdout",
     "output_type": "stream",
     "text": [
      "num 77 threadId 3\n",
      "num 257 threadId 2\n",
      "num 537 threadId 5\n",
      "num 170 threadId 4\n",
      "num 844 threadId 6\n",
      "num 678 threadId 8\n",
      "num 380 threadId 1\n",
      "num 957 threadId 7\n"
     ]
    }
   ],
   "source": [
    "loop1()"
   ]
  },
  {
   "cell_type": "code",
   "execution_count": 61,
   "metadata": {},
   "outputs": [
    {
     "data": {
      "text/plain": [
       "0.11153748856225099"
      ]
     },
     "execution_count": 61,
     "metadata": {},
     "output_type": "execute_result"
    }
   ],
   "source": [
    "rand()"
   ]
  },
  {
   "cell_type": "code",
   "execution_count": 17,
   "metadata": {},
   "outputs": [
    {
     "data": {
      "text/plain": [
       "8"
      ]
     },
     "execution_count": 17,
     "metadata": {},
     "output_type": "execute_result"
    }
   ],
   "source": [
    "nthreads()"
   ]
  },
  {
   "cell_type": "code",
   "execution_count": 18,
   "metadata": {},
   "outputs": [
    {
     "data": {
      "text/plain": [
       "10-element Vector{Symbol}:\n",
       " :a\n",
       " :b\n",
       " :c\n",
       " :d\n",
       " :e\n",
       " :f\n",
       " :g\n",
       " :h\n",
       " :i\n",
       " :j"
      ]
     },
     "execution_count": 18,
     "metadata": {},
     "output_type": "execute_result"
    }
   ],
   "source": [
    "vals = [:a, :b,:c, :d, :e, :f, :g, :h,:i,:j]\n",
    "\n"
   ]
  },
  {
   "cell_type": "code",
   "execution_count": 20,
   "metadata": {},
   "outputs": [
    {
     "name": "stdout",
     "output_type": "stream",
     "text": [
      "1 a\n",
      "2 b\n",
      "3 c\n",
      "4 d\n",
      "5 e\n",
      "6 f\n",
      "7 g\n",
      "8 h\n",
      "9 i\n",
      "10 j\n"
     ]
    }
   ],
   "source": [
    "for (i, x) in enumerate(vals)\n",
    "    println(i,\" \", x)\n",
    "end"
   ]
  },
  {
   "cell_type": "code",
   "execution_count": 23,
   "metadata": {},
   "outputs": [
    {
     "data": {
      "text/plain": [
       "3×3 Matrix{Int64}:\n",
       " 2  3  4\n",
       " 3  4  5\n",
       " 4  5  6"
      ]
     },
     "execution_count": 23,
     "metadata": {},
     "output_type": "execute_result"
    }
   ],
   "source": [
    "mat = [i+j for i in 1:3, j in 1:3]"
   ]
  },
  {
   "cell_type": "code",
   "execution_count": 25,
   "metadata": {},
   "outputs": [
    {
     "data": {
      "text/plain": [
       "5-element Vector{Int64}:\n",
       " 2\n",
       " 4\n",
       " 4\n",
       " 4\n",
       " 6"
      ]
     },
     "execution_count": 25,
     "metadata": {},
     "output_type": "execute_result"
    }
   ],
   "source": [
    "filter(val->val%2==0, mat)"
   ]
  },
  {
   "cell_type": "code",
   "execution_count": null,
   "metadata": {},
   "outputs": [],
   "source": []
  }
 ],
 "metadata": {
  "@webio": {
   "lastCommId": "6db0e479855a410a8b81cf3a2fd2d8e0",
   "lastKernelId": "fb118d88-0755-48e8-a653-4253416b6e2c"
  },
  "kernelspec": {
   "display_name": "Julia 9.2 (8 threads) 1.9.2",
   "language": "julia",
   "name": "julia-9.2-_8-threads_-1.9"
  },
  "language_info": {
   "file_extension": ".jl",
   "mimetype": "application/julia",
   "name": "julia",
   "version": "1.9.2"
  }
 },
 "nbformat": 4,
 "nbformat_minor": 4
}
