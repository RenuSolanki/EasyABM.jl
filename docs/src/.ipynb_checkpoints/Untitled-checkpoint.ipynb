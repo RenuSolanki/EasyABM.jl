{
 "cells": [
  {
   "cell_type": "code",
   "execution_count": 1,
   "metadata": {
    "scrolled": true
   },
   "outputs": [
    {
     "name": "stderr",
     "output_type": "stream",
     "text": [
      "\u001b[32m\u001b[1m  Activating\u001b[22m\u001b[39m project at `~/Documents/EasyABM`\n",
      "\u001b[36m\u001b[1m[ \u001b[22m\u001b[39m\u001b[36m\u001b[1mInfo: \u001b[22m\u001b[39mPrecompiling EasyABM [2ab8e4d3-e1e9-4248-86a3-8419d2d242e9]\n"
     ]
    },
    {
     "data": {
      "application/vnd.webio.node+json": {
       "children": [],
       "instanceArgs": {
        "namespace": "html",
        "tag": "div"
       },
       "nodeType": "DOM",
       "props": {},
       "type": "node"
      },
      "text/html": [
       "<div style=\"padding: 1em; background-color: #f8d6da; border: 1px solid #f5c6cb; font-weight: bold;\">\n",
       "<p>The WebIO Jupyter extension was not detected. See the\n",
       "<a href=\"https://juliagizmos.github.io/WebIO.jl/latest/providers/ijulia/\" target=\"_blank\">\n",
       "    WebIO Jupyter integration documentation\n",
       "</a>\n",
       "for more information.\n",
       "</div>\n"
      ],
      "text/plain": [
       "WebIO._IJuliaInit()"
      ]
     },
     "metadata": {
      "application/vnd.webio.node+json": {
       "kernelId": null
      }
     },
     "output_type": "display_data"
    }
   ],
   "source": [
    "using Pkg, Revise\n",
    "Pkg.activate(joinpath(@__DIR__, \"../..\"))\n",
    "using EasyABM"
   ]
  },
  {
   "cell_type": "code",
   "execution_count": 3,
   "metadata": {},
   "outputs": [
    {
     "name": "stderr",
     "output_type": "stream",
     "text": [
      "\u001b[32m\u001b[1m    Updating\u001b[22m\u001b[39m registry at `~/.julia/registries/General`\n",
      "\u001b[32m\u001b[1m    Updating\u001b[22m\u001b[39m git-repo `https://github.com/JuliaRegistries/General.git`\n",
      "\u001b[32m\u001b[1m   Resolving\u001b[22m\u001b[39m package versions...\n",
      "\u001b[32m\u001b[1m    Updating\u001b[22m\u001b[39m `~/Documents/EasyABM/Project.toml`\n",
      "  \u001b[90m[6e4b80f9] \u001b[39m\u001b[92m+ BenchmarkTools v1.3.2\u001b[39m\n",
      "\u001b[32m\u001b[1m    Updating\u001b[22m\u001b[39m `~/Documents/EasyABM/Manifest.toml`\n",
      "  \u001b[90m[6e4b80f9] \u001b[39m\u001b[92m+ BenchmarkTools v1.3.2\u001b[39m\n"
     ]
    }
   ],
   "source": [
    "Pkg.add(\"BenchmarkTools\")"
   ]
  },
  {
   "cell_type": "code",
   "execution_count": 2,
   "metadata": {},
   "outputs": [],
   "source": [
    "using BenchmarkTools"
   ]
  },
  {
   "cell_type": "code",
   "execution_count": 3,
   "metadata": {},
   "outputs": [],
   "source": [
    "@enum agentsfeeling happy sad"
   ]
  },
  {
   "cell_type": "code",
   "execution_count": 4,
   "metadata": {
    "scrolled": false
   },
   "outputs": [
    {
     "data": {
      "text/plain": [
       "step_rule! (generic function with 1 method)"
      ]
     },
     "execution_count": 4,
     "metadata": {},
     "output_type": "execute_result"
    }
   ],
   "source": [
    "function initialiser!(model)\n",
    "    min_alike = model.parameters.min_alike\n",
    "    for agent in model.agents\n",
    "        agent.color = [cl\"red\", cl\"green\"][rand(1:2)]\n",
    "        x,y = random_empty_patch(model)   \n",
    "        agent.pos = Vect(x,y)\n",
    "         agent.mood = sad\n",
    "    end    \n",
    "end\n",
    "\n",
    "\n",
    "function step_rule!(model)\n",
    "    min_alike = model.parameters.min_alike\n",
    "    for agent in model.agents\n",
    "        count_alike = 0\n",
    "        for nbr in grid_neighbors(agent, model,1)\n",
    "            if agent.color == nbr.color\n",
    "                count_alike += 1\n",
    "            end\n",
    "        end\n",
    "        if count_alike ≥ min_alike\n",
    "            agent.mood = happy\n",
    "        else\n",
    "            agent.mood = sad\n",
    "            x,y = random_empty_patch(model) \n",
    "            agent.pos = Vect(x,y)\n",
    "        end\n",
    "    end\n",
    "    return\n",
    "end"
   ]
  },
  {
   "cell_type": "code",
   "execution_count": null,
   "metadata": {},
   "outputs": [],
   "source": []
  },
  {
   "cell_type": "code",
   "execution_count": 5,
   "metadata": {
    "scrolled": true
   },
   "outputs": [
    {
     "data": {
      "text/plain": [
       "EasyABM SpaceModel2D{Static, Int64, NPeriodic}: In a Static model number of agents is fixed.\n"
      ]
     },
     "execution_count": 5,
     "metadata": {},
     "output_type": "execute_result"
    }
   ],
   "source": [
    "const agents = grid_2d_agents(1000, pos = Vect(1,1), color = cl\"green\", mood = happy, keeps_record_of=Set([:pos, :mood]))\n",
    "const model = create_2d_model(agents, agents_type = Static, space_type=NPeriodic, size = (40,40), min_alike = 3)"
   ]
  },
  {
   "cell_type": "code",
   "execution_count": 11,
   "metadata": {},
   "outputs": [
    {
     "name": "stdout",
     "output_type": "stream",
     "text": [
      "MethodInstance for Core.kwcall(::NamedTuple{(:initialiser,), Tuple{typeof(initialiser!)}}, ::typeof(init_model!), ::EasyABM.SpaceModel2D{Static, Int64, NPeriodic})\n",
      "  from kwcall(::\u001b[1mAny\u001b[22m, ::\u001b[1mtypeof(init_model!)\u001b[22m, \u001b[90mmodel\u001b[39m::\u001b[1mEasyABM.SpaceModel2D\u001b[22m)\u001b[90m @\u001b[39m \u001b[90mEasyABM\u001b[39m \u001b[90m~/Documents/EasyABM/src/2d_model/\u001b[39m\u001b[90m\u001b[4mmainfunctions.jl:124\u001b[24m\u001b[39m\n",
      "Arguments\n",
      "  _\u001b[36m::Core.Const(Core.kwcall)\u001b[39m\n",
      "  @_2\u001b[36m::Core.Const((initialiser = initialiser!,))\u001b[39m\n",
      "  @_3\u001b[36m::Core.Const(EasyABM.init_model!)\u001b[39m\n",
      "  model\u001b[36m::EasyABM.SpaceModel2D{Static, Int64, NPeriodic}\u001b[39m\n",
      "Locals\n",
      "  initialiser\u001b[36m::Union{}\u001b[39m\n",
      "  props_to_record\u001b[36m::Union{}\u001b[39m\n",
      "  keep_deads_data\u001b[36m::Union{}\u001b[39m\n",
      "  @_8\u001b[33m\u001b[1m::Union{typeof(initialiser!), Bool, Dict{String, Set{Symbol}}}\u001b[22m\u001b[39m\n",
      "Body\u001b[36m::Nothing\u001b[39m\n",
      "\u001b[90m1 ──\u001b[39m       Core.NewvarNode(:(initialiser))\n",
      "\u001b[90m│   \u001b[39m       Core.NewvarNode(:(props_to_record))\n",
      "\u001b[90m│   \u001b[39m       Core.NewvarNode(:(keep_deads_data))\n",
      "\u001b[90m│   \u001b[39m       Core.NewvarNode(:(@_8))\n",
      "\u001b[90m│   \u001b[39m %5  = Core.isdefined(@_2, :initialiser)\u001b[36m::Core.Const(true)\u001b[39m\n",
      "\u001b[90m└───\u001b[39m       goto #6 if not %5\n",
      "\u001b[90m2 ──\u001b[39m %7  = Core.getfield(@_2, :initialiser)\u001b[36m::Core.Const(initialiser!)\u001b[39m\n",
      "\u001b[90m│   \u001b[39m %8  = (%7 isa EasyABM.Function)\u001b[36m::Core.Const(true)\u001b[39m\n",
      "\u001b[90m└───\u001b[39m       goto #4 if not %8\n",
      "\u001b[90m3 ──\u001b[39m       goto #5\n",
      "\u001b[90m4 ──\u001b[39m       Core.Const(:(%new(Core.TypeError, Symbol(\"keyword argument\"), :initialiser, EasyABM.Function, %7)))\n",
      "\u001b[90m└───\u001b[39m       Core.Const(:(Core.throw(%11)))\n",
      "\u001b[90m5 ┄─\u001b[39m       (@_8 = %7)\n",
      "\u001b[90m└───\u001b[39m       goto #7\n",
      "\u001b[90m6 ──\u001b[39m       Core.Const(:(@_8 = EasyABM.null_init!))\n",
      "\u001b[90m7 ┄─\u001b[39m %16 = @_8\u001b[36m::Core.Const(initialiser!)\u001b[39m\n",
      "\u001b[90m│   \u001b[39m %17 = Core.isdefined(@_2, :props_to_record)\u001b[36m::Core.Const(false)\u001b[39m\n",
      "\u001b[90m└───\u001b[39m       goto #9 if not %17\n",
      "\u001b[90m8 ──\u001b[39m       Core.Const(:(Core.getfield(@_2, :props_to_record)))\n",
      "\u001b[90m│   \u001b[39m       Core.Const(:(EasyABM.Dict))\n",
      "\u001b[90m│   \u001b[39m       Core.Const(:(EasyABM.String))\n",
      "\u001b[90m│   \u001b[39m       Core.Const(:(Core.apply_type(EasyABM.Set, EasyABM.Symbol)))\n",
      "\u001b[90m│   \u001b[39m       Core.Const(:(Core.apply_type(%20, %21, %22)))\n",
      "\u001b[90m│   \u001b[39m       Core.Const(:(%19 isa %23))\n",
      "\u001b[90m│   \u001b[39m       Core.Const(:(goto %27 if not %24))\n",
      "\u001b[90m│   \u001b[39m       Core.Const(:(goto %33))\n",
      "\u001b[90m│   \u001b[39m       Core.Const(:(EasyABM.Dict))\n",
      "\u001b[90m│   \u001b[39m       Core.Const(:(EasyABM.String))\n",
      "\u001b[90m│   \u001b[39m       Core.Const(:(Core.apply_type(EasyABM.Set, EasyABM.Symbol)))\n",
      "\u001b[90m│   \u001b[39m       Core.Const(:(Core.apply_type(%27, %28, %29)))\n",
      "\u001b[90m│   \u001b[39m       Core.Const(:(%new(Core.TypeError, Symbol(\"keyword argument\"), :props_to_record, %30, %19)))\n",
      "\u001b[90m│   \u001b[39m       Core.Const(:(Core.throw(%31)))\n",
      "\u001b[90m│   \u001b[39m       Core.Const(:(@_8 = %19))\n",
      "\u001b[90m└───\u001b[39m       Core.Const(:(goto %52))\n",
      "\u001b[90m9 ┄─\u001b[39m %35 = EasyABM.Dict\u001b[36m::Core.Const(Dict)\u001b[39m\n",
      "\u001b[90m│   \u001b[39m %36 = EasyABM.String\u001b[36m::Core.Const(String)\u001b[39m\n",
      "\u001b[90m│   \u001b[39m %37 = Core.apply_type(EasyABM.Set, EasyABM.Symbol)\u001b[36m::Core.Const(Set{Symbol})\u001b[39m\n",
      "\u001b[90m│   \u001b[39m %38 = Core.apply_type(%35, %36, %37)\u001b[36m::Core.Const(Dict{String, Set{Symbol}})\u001b[39m\n",
      "\u001b[90m│   \u001b[39m %39 = Core.apply_type(EasyABM.Set, EasyABM.Symbol)\u001b[36m::Core.Const(Set{Symbol})\u001b[39m\n",
      "\u001b[90m│   \u001b[39m %40 = Base.vect()\u001b[36m::Vector{Any}\u001b[39m\n",
      "\u001b[90m│   \u001b[39m %41 = (%39)(%40)\u001b[36m::Set{Symbol}\u001b[39m\n",
      "\u001b[90m│   \u001b[39m %42 = (\"agents\" => %41)\u001b[36m::Core.PartialStruct(Pair{String, Set{Symbol}}, Any[Core.Const(\"agents\"), Set{Symbol}])\u001b[39m\n",
      "\u001b[90m│   \u001b[39m %43 = Core.apply_type(EasyABM.Set, EasyABM.Symbol)\u001b[36m::Core.Const(Set{Symbol})\u001b[39m\n",
      "\u001b[90m│   \u001b[39m %44 = Base.vect()\u001b[36m::Vector{Any}\u001b[39m\n",
      "\u001b[90m│   \u001b[39m %45 = (%43)(%44)\u001b[36m::Set{Symbol}\u001b[39m\n",
      "\u001b[90m│   \u001b[39m %46 = (\"patches\" => %45)\u001b[36m::Core.PartialStruct(Pair{String, Set{Symbol}}, Any[Core.Const(\"patches\"), Set{Symbol}])\u001b[39m\n",
      "\u001b[90m│   \u001b[39m %47 = Core.apply_type(EasyABM.Set, EasyABM.Symbol)\u001b[36m::Core.Const(Set{Symbol})\u001b[39m\n",
      "\u001b[90m│   \u001b[39m %48 = Base.vect()\u001b[36m::Vector{Any}\u001b[39m\n",
      "\u001b[90m│   \u001b[39m %49 = (%47)(%48)\u001b[36m::Set{Symbol}\u001b[39m\n",
      "\u001b[90m│   \u001b[39m %50 = (\"model\" => %49)\u001b[36m::Core.PartialStruct(Pair{String, Set{Symbol}}, Any[Core.Const(\"model\"), Set{Symbol}])\u001b[39m\n",
      "\u001b[90m│   \u001b[39m       (@_8 = (%38)(%42, %46, %50))\n",
      "\u001b[90m│   \u001b[39m %52 = @_8\u001b[36m::Dict{String, Set{Symbol}}\u001b[39m\n",
      "\u001b[90m│   \u001b[39m %53 = Core.isdefined(@_2, :keep_deads_data)\u001b[36m::Core.Const(false)\u001b[39m\n",
      "\u001b[90m└───\u001b[39m       goto #11 if not %53\n",
      "\u001b[90m10 ─\u001b[39m       Core.Const(:(@_8 = Core.getfield(@_2, :keep_deads_data)))\n",
      "\u001b[90m└───\u001b[39m       Core.Const(:(goto %58))\n",
      "\u001b[90m11 ┄\u001b[39m       (@_8 = true)\n",
      "\u001b[90m│   \u001b[39m %58 = @_8\u001b[36m::Core.Const(true)\u001b[39m\n",
      "\u001b[90m│   \u001b[39m %59 = (:initialiser, :props_to_record, :keep_deads_data)\u001b[36m::Core.Const((:initialiser, :props_to_record, :keep_deads_data))\u001b[39m\n",
      "\u001b[90m│   \u001b[39m %60 = Core.apply_type(Core.NamedTuple, %59)\u001b[36m::Core.Const(NamedTuple{(:initialiser, :props_to_record, :keep_deads_data)})\u001b[39m\n",
      "\u001b[90m│   \u001b[39m %61 = Base.structdiff(@_2, %60)\u001b[36m::Core.Const(NamedTuple())\u001b[39m\n",
      "\u001b[90m│   \u001b[39m %62 = Base.pairs(%61)\u001b[36m::Core.Const(Base.Pairs{Symbol, Union{}, Tuple{}, NamedTuple{(), Tuple{}}}())\u001b[39m\n",
      "\u001b[90m│   \u001b[39m %63 = Base.isempty(%62)\u001b[36m::Core.Const(true)\u001b[39m\n",
      "\u001b[90m└───\u001b[39m       goto #13 if not %63\n",
      "\u001b[90m12 ─\u001b[39m       goto #14\n",
      "\u001b[90m13 ─\u001b[39m       Core.Const(:(Base.kwerr(@_2, @_3, model)))\n",
      "\u001b[90m14 ┄\u001b[39m %67 = EasyABM.:(var\"#init_model!#210\")(%16, %52, %58, @_3, model)\u001b[36m::Core.Const(nothing)\u001b[39m\n",
      "\u001b[90m└───\u001b[39m       return %67\n",
      "\n"
     ]
    }
   ],
   "source": [
    "@code_warntype init_model!(model, initialiser = initialiser!)"
   ]
  },
  {
   "cell_type": "code",
   "execution_count": 12,
   "metadata": {},
   "outputs": [
    {
     "name": "stdout",
     "output_type": "stream",
     "text": [
      "MethodInstance for Core.kwcall(::NamedTuple{(:steps, :step_rule), Tuple{Int64, typeof(step_rule!)}}, ::typeof(run_model!), ::EasyABM.SpaceModel2D{Static, Int64, NPeriodic})\n",
      "  from kwcall(::\u001b[1mAny\u001b[22m, ::\u001b[1mtypeof(run_model!)\u001b[22m, \u001b[90mmodel\u001b[39m::\u001b[1mEasyABM.SpaceModel2D\u001b[22m)\u001b[90m @\u001b[39m \u001b[90mEasyABM\u001b[39m \u001b[90m~/Documents/EasyABM/src/2d_model/\u001b[39m\u001b[90m\u001b[4mmainfunctions.jl:155\u001b[24m\u001b[39m\n",
      "Arguments\n",
      "  _\u001b[36m::Core.Const(Core.kwcall)\u001b[39m\n",
      "  @_2\u001b[36m::NamedTuple{(:steps, :step_rule), Tuple{Int64, typeof(step_rule!)}}\u001b[39m\n",
      "  @_3\u001b[36m::Core.Const(EasyABM.run_model!)\u001b[39m\n",
      "  model\u001b[36m::EasyABM.SpaceModel2D{Static, Int64, NPeriodic}\u001b[39m\n",
      "Locals\n",
      "  steps\u001b[36m::Union{}\u001b[39m\n",
      "  step_rule\u001b[36m::Union{}\u001b[39m\n",
      "  @_7\u001b[33m\u001b[1m::Union{typeof(step_rule!), Int64}\u001b[22m\u001b[39m\n",
      "Body\u001b[36m::Nothing\u001b[39m\n",
      "\u001b[90m1 ──\u001b[39m       Core.NewvarNode(:(steps))\n",
      "\u001b[90m│   \u001b[39m       Core.NewvarNode(:(step_rule))\n",
      "\u001b[90m│   \u001b[39m       Core.NewvarNode(:(@_7))\n",
      "\u001b[90m│   \u001b[39m %4  = Core.isdefined(@_2, :steps)\u001b[36m::Core.Const(true)\u001b[39m\n",
      "\u001b[90m└───\u001b[39m       goto #3 if not %4\n",
      "\u001b[90m2 ──\u001b[39m       (@_7 = Core.getfield(@_2, :steps))\n",
      "\u001b[90m└───\u001b[39m       goto #4\n",
      "\u001b[90m3 ──\u001b[39m       Core.Const(:(@_7 = 1))\n",
      "\u001b[90m4 ┄─\u001b[39m %9  = @_7\u001b[36m::Int64\u001b[39m\n",
      "\u001b[90m│   \u001b[39m %10 = Core.isdefined(@_2, :step_rule)\u001b[36m::Core.Const(true)\u001b[39m\n",
      "\u001b[90m└───\u001b[39m       goto #9 if not %10\n",
      "\u001b[90m5 ──\u001b[39m %12 = Core.getfield(@_2, :step_rule)\u001b[36m::Core.Const(step_rule!)\u001b[39m\n",
      "\u001b[90m│   \u001b[39m %13 = (%12 isa EasyABM.Function)\u001b[36m::Core.Const(true)\u001b[39m\n",
      "\u001b[90m└───\u001b[39m       goto #7 if not %13\n",
      "\u001b[90m6 ──\u001b[39m       goto #8\n",
      "\u001b[90m7 ──\u001b[39m       Core.Const(:(%new(Core.TypeError, Symbol(\"keyword argument\"), :step_rule, EasyABM.Function, %12)))\n",
      "\u001b[90m└───\u001b[39m       Core.Const(:(Core.throw(%16)))\n",
      "\u001b[90m8 ┄─\u001b[39m       (@_7 = %12)\n",
      "\u001b[90m└───\u001b[39m       goto #10\n",
      "\u001b[90m9 ──\u001b[39m       Core.Const(:(@_7 = EasyABM.model_null_step!))\n",
      "\u001b[90m10 ┄\u001b[39m %21 = @_7\u001b[36m::Core.Const(step_rule!)\u001b[39m\n",
      "\u001b[90m│   \u001b[39m %22 = (:steps, :step_rule)\u001b[36m::Core.Const((:steps, :step_rule))\u001b[39m\n",
      "\u001b[90m│   \u001b[39m %23 = Core.apply_type(Core.NamedTuple, %22)\u001b[36m::Core.Const(NamedTuple{(:steps, :step_rule)})\u001b[39m\n",
      "\u001b[90m│   \u001b[39m %24 = Base.structdiff(@_2, %23)\u001b[36m::Core.Const(NamedTuple())\u001b[39m\n",
      "\u001b[90m│   \u001b[39m %25 = Base.pairs(%24)\u001b[36m::Core.Const(Base.Pairs{Symbol, Union{}, Tuple{}, NamedTuple{(), Tuple{}}}())\u001b[39m\n",
      "\u001b[90m│   \u001b[39m %26 = Base.isempty(%25)\u001b[36m::Core.Const(true)\u001b[39m\n",
      "\u001b[90m└───\u001b[39m       goto #12 if not %26\n",
      "\u001b[90m11 ─\u001b[39m       goto #13\n",
      "\u001b[90m12 ─\u001b[39m       Core.Const(:(Base.kwerr(@_2, @_3, model)))\n",
      "\u001b[90m13 ┄\u001b[39m %30 = EasyABM.:(var\"#run_model!#211\")(%9, %21, @_3, model)\u001b[36m::Core.Const(nothing)\u001b[39m\n",
      "\u001b[90m└───\u001b[39m       return %30\n",
      "\n"
     ]
    }
   ],
   "source": [
    "@code_warntype run_model!(model, steps=20, step_rule = step_rule!)"
   ]
  },
  {
   "cell_type": "code",
   "execution_count": 14,
   "metadata": {
    "scrolled": true
   },
   "outputs": [
    {
     "data": {
      "text/plain": [
       "bench_easyabm_model (generic function with 1 method)"
      ]
     },
     "execution_count": 14,
     "metadata": {},
     "output_type": "execute_result"
    }
   ],
   "source": [
    "\n",
    "function bench_easyabm_model(numagents, griddims, min_to_be_happy, radius)\n",
    "#@enum agentsfeeling happy sad\n",
    "    agents = grid_2d_agents(numagents, pos = Vect(1,1), space_type=NPeriodic, color = cl\"green\", mood = happy, keeps_record_of=Set([:pos, :mood]))\n",
    "    model = create_2d_model(agents, agents_type = Static, space_type=NPeriodic, size = griddims, min_alike = min_to_be_happy)\n",
    "    init_model!(model, initialiser = initialiser!)\n",
    "    run_model!(model, steps=20, step_rule = step_rule!)\n",
    "end"
   ]
  },
  {
   "cell_type": "code",
   "execution_count": 43,
   "metadata": {},
   "outputs": [
    {
     "name": "stdout",
     "output_type": "stream",
     "text": [
      "  0.073333 seconds (172.41 k allocations: 77.265 MiB, 10.44% gc time)\n"
     ]
    }
   ],
   "source": [
    "@time bench_easyabm_model(1000, (40, 40), 3, 1)"
   ]
  },
  {
   "cell_type": "code",
   "execution_count": 44,
   "metadata": {},
   "outputs": [
    {
     "data": {
      "text/plain": [
       "BenchmarkTools.Trial: 63 samples with 1 evaluation.\n",
       " Range \u001b[90m(\u001b[39m\u001b[36m\u001b[1mmin\u001b[22m\u001b[39m … \u001b[35mmax\u001b[39m\u001b[90m):  \u001b[39m\u001b[36m\u001b[1m66.103 ms\u001b[22m\u001b[39m … \u001b[35m98.177 ms\u001b[39m  \u001b[90m┊\u001b[39m GC \u001b[90m(\u001b[39mmin … max\u001b[90m): \u001b[39m 5.92% … 12.81%\n",
       " Time  \u001b[90m(\u001b[39m\u001b[34m\u001b[1mmedian\u001b[22m\u001b[39m\u001b[90m):     \u001b[39m\u001b[34m\u001b[1m79.869 ms              \u001b[22m\u001b[39m\u001b[90m┊\u001b[39m GC \u001b[90m(\u001b[39mmedian\u001b[90m):    \u001b[39m11.91%\n",
       " Time  \u001b[90m(\u001b[39m\u001b[32m\u001b[1mmean\u001b[22m\u001b[39m ± \u001b[32mσ\u001b[39m\u001b[90m):   \u001b[39m\u001b[32m\u001b[1m80.197 ms\u001b[22m\u001b[39m ± \u001b[32m 7.771 ms\u001b[39m  \u001b[90m┊\u001b[39m GC \u001b[90m(\u001b[39mmean ± σ\u001b[90m):  \u001b[39m10.55% ±  2.82%\n",
       "\n",
       "  \u001b[39m \u001b[39m \u001b[39m \u001b[39m \u001b[39m▁\u001b[39m▁\u001b[39m \u001b[39m \u001b[39m \u001b[39m \u001b[39m \u001b[39m \u001b[39m \u001b[39m \u001b[39m \u001b[39m \u001b[39m \u001b[39m▁\u001b[39m▁\u001b[39m \u001b[39m▁\u001b[39m \u001b[39m▁\u001b[39m▁\u001b[39m \u001b[39m▁\u001b[39m \u001b[39m▁\u001b[34m█\u001b[39m\u001b[32m \u001b[39m\u001b[39m \u001b[39m▄\u001b[39m▁\u001b[39m \u001b[39m▁\u001b[39m \u001b[39m▁\u001b[39m \u001b[39m \u001b[39m█\u001b[39m \u001b[39m▁\u001b[39m \u001b[39m \u001b[39m \u001b[39m \u001b[39m \u001b[39m \u001b[39m \u001b[39m \u001b[39m \u001b[39m \u001b[39m \u001b[39m \u001b[39m \u001b[39m \u001b[39m \u001b[39m \u001b[39m▁\u001b[39m \u001b[39m \n",
       "  \u001b[39m▆\u001b[39m▁\u001b[39m▆\u001b[39m▆\u001b[39m█\u001b[39m█\u001b[39m▆\u001b[39m▆\u001b[39m▆\u001b[39m▁\u001b[39m▆\u001b[39m▁\u001b[39m▆\u001b[39m▁\u001b[39m▁\u001b[39m▆\u001b[39m▁\u001b[39m█\u001b[39m█\u001b[39m▁\u001b[39m█\u001b[39m▆\u001b[39m█\u001b[39m█\u001b[39m▆\u001b[39m█\u001b[39m▁\u001b[39m█\u001b[34m█\u001b[39m\u001b[32m▆\u001b[39m\u001b[39m▁\u001b[39m█\u001b[39m█\u001b[39m▁\u001b[39m█\u001b[39m▆\u001b[39m█\u001b[39m▁\u001b[39m▁\u001b[39m█\u001b[39m▆\u001b[39m█\u001b[39m▆\u001b[39m▁\u001b[39m▆\u001b[39m▁\u001b[39m▁\u001b[39m▁\u001b[39m▆\u001b[39m▁\u001b[39m▆\u001b[39m▆\u001b[39m▆\u001b[39m▆\u001b[39m▆\u001b[39m▁\u001b[39m▆\u001b[39m▁\u001b[39m█\u001b[39m \u001b[39m▁\n",
       "  66.1 ms\u001b[90m         Histogram: frequency by time\u001b[39m        94.5 ms \u001b[0m\u001b[1m<\u001b[22m\n",
       "\n",
       " Memory estimate\u001b[90m: \u001b[39m\u001b[33m70.10 MiB\u001b[39m, allocs estimate\u001b[90m: \u001b[39m\u001b[33m167073\u001b[39m."
      ]
     },
     "execution_count": 44,
     "metadata": {},
     "output_type": "execute_result"
    }
   ],
   "source": [
    "@benchmark bench_easyabm_model(1000, (40, 40), 3, 1) evals=1"
   ]
  },
  {
   "cell_type": "code",
   "execution_count": 19,
   "metadata": {},
   "outputs": [
    {
     "name": "stdout",
     "output_type": "stream",
     "text": [
      "MethodInstance for bench_easyabm_model(::Int64, ::Tuple{Int64, Int64}, ::Int64, ::Int64)\n",
      "  from bench_easyabm_model(\u001b[90mnumagents\u001b[39m, \u001b[90mgriddims\u001b[39m, \u001b[90mmin_to_be_happy\u001b[39m, \u001b[90mradius\u001b[39m)\u001b[90m @\u001b[39m \u001b[90mMain\u001b[39m \u001b[90m\u001b[4mIn[11]:2\u001b[24m\u001b[39m\n",
      "Arguments\n",
      "  #self#\u001b[36m::Core.Const(bench_easyabm_model)\u001b[39m\n",
      "  numagents\u001b[36m::Int64\u001b[39m\n",
      "  griddims\u001b[36m::Tuple{Int64, Int64}\u001b[39m\n",
      "  min_to_be_happy\u001b[36m::Int64\u001b[39m\n",
      "  radius\u001b[36m::Int64\u001b[39m\n",
      "Locals\n",
      "  model\u001b[91m\u001b[1m::EasyABM.SpaceModel2D\u001b[22m\u001b[39m\n",
      "  agents\u001b[91m\u001b[1m::Vector\u001b[22m\u001b[39m\n",
      "Body\u001b[36m::Nothing\u001b[39m\n",
      "\u001b[90m1 ─\u001b[39m %1  = Main.Vect(1, 1)\u001b[36m::Core.Const((1, 1)\u001b[39m\n",
      "\u001b[36m)\u001b[39m\n",
      "\u001b[90m│  \u001b[39m %2  = Main.Col(\"green\")\u001b[36m::Col\u001b[39m\n",
      "\u001b[90m│  \u001b[39m %3  = Base.vect(:pos, :mood)\u001b[36m::Vector{Symbol}\u001b[39m\n",
      "\u001b[90m│  \u001b[39m %4  = Main.Set(%3)\u001b[36m::Set{Symbol}\u001b[39m\n",
      "\u001b[90m│  \u001b[39m %5  = (:pos, :space_type, :color, :mood, :keeps_record_of)\u001b[36m::Core.Const((:pos, :space_type, :color, :mood, :keeps_record_of))\u001b[39m\n",
      "\u001b[90m│  \u001b[39m %6  = Core.apply_type(Core.NamedTuple, %5)\u001b[36m::Core.Const(NamedTuple{(:pos, :space_type, :color, :mood, :keeps_record_of)})\u001b[39m\n",
      "\u001b[90m│  \u001b[39m %7  = Core.tuple(%1, Main.NPeriodic, %2, Main.happy, %4)\u001b[36m::Core.PartialStruct(Tuple{Vect{2, Int64}, DataType, Col, agentsfeeling, Set{Symbol}}, Any[Core.Const((1, 1)\u001b[39m\n",
      "\u001b[36m), Type{NPeriodic}, Col, Core.Const(happy), Set{Symbol}])\u001b[39m\n",
      "\u001b[90m│  \u001b[39m %8  = (%6)(%7)\u001b[36m::Core.PartialStruct(NamedTuple{(:pos, :space_type, :color, :mood, :keeps_record_of), Tuple{Vect{2, Int64}, DataType, Col, agentsfeeling, Set{Symbol}}}, Any[Core.Const((1, 1)\u001b[39m\n",
      "\u001b[36m), Type{NPeriodic}, Col, Core.Const(happy), Set{Symbol}])\u001b[39m\n",
      "\u001b[90m│  \u001b[39m       (agents = Core.kwcall(%8, Main.grid_2d_agents, numagents))\n",
      "\u001b[90m│  \u001b[39m %10 = (:agents_type, :space_type, :size, :min_alike)\u001b[36m::Core.Const((:agents_type, :space_type, :size, :min_alike))\u001b[39m\n",
      "\u001b[90m│  \u001b[39m %11 = Core.apply_type(Core.NamedTuple, %10)\u001b[36m::Core.Const(NamedTuple{(:agents_type, :space_type, :size, :min_alike)})\u001b[39m\n",
      "\u001b[90m│  \u001b[39m %12 = Core.tuple(Main.Static, Main.NPeriodic, griddims, min_to_be_happy)\u001b[36m::Core.PartialStruct(Tuple{DataType, DataType, Tuple{Int64, Int64}, Int64}, Any[Type{Static}, Type{NPeriodic}, Tuple{Int64, Int64}, Int64])\u001b[39m\n",
      "\u001b[90m│  \u001b[39m %13 = (%11)(%12)\u001b[36m::Core.PartialStruct(NamedTuple{(:agents_type, :space_type, :size, :min_alike), Tuple{DataType, DataType, Tuple{Int64, Int64}, Int64}}, Any[Type{Static}, Type{NPeriodic}, Tuple{Int64, Int64}, Int64])\u001b[39m\n",
      "\u001b[90m│  \u001b[39m       (model = Core.kwcall(%13, Main.create_2d_model, agents))\n",
      "\u001b[90m│  \u001b[39m %15 = (:initialiser,)\u001b[36m::Core.Const((:initialiser,))\u001b[39m\n",
      "\u001b[90m│  \u001b[39m %16 = Core.apply_type(Core.NamedTuple, %15)\u001b[36m::Core.Const(NamedTuple{(:initialiser,)})\u001b[39m\n",
      "\u001b[90m│  \u001b[39m %17 = Core.tuple(Main.initialiser!)\u001b[36m::Core.Const((initialiser!,))\u001b[39m\n",
      "\u001b[90m│  \u001b[39m %18 = (%16)(%17)\u001b[36m::Core.Const((initialiser = initialiser!,))\u001b[39m\n",
      "\u001b[90m│  \u001b[39m       Core.kwcall(%18, Main.init_model!, model)\n",
      "\u001b[90m│  \u001b[39m %20 = (:steps, :step_rule)\u001b[36m::Core.Const((:steps, :step_rule))\u001b[39m\n",
      "\u001b[90m│  \u001b[39m %21 = Core.apply_type(Core.NamedTuple, %20)\u001b[36m::Core.Const(NamedTuple{(:steps, :step_rule)})\u001b[39m\n",
      "\u001b[90m│  \u001b[39m %22 = Core.tuple(20, Main.step_rule!)\u001b[36m::Core.Const((20, step_rule!))\u001b[39m\n",
      "\u001b[90m│  \u001b[39m %23 = (%21)(%22)\u001b[36m::Core.Const((steps = 20, step_rule = step_rule!))\u001b[39m\n",
      "\u001b[90m│  \u001b[39m %24 = Core.kwcall(%23, Main.run_model!, model)\u001b[36m::Core.Const(nothing)\u001b[39m\n",
      "\u001b[90m└──\u001b[39m       return %24\n",
      "\n"
     ]
    }
   ],
   "source": [
    "@code_warntype bench_easyabm_model(1000, (40, 40), 3, 1)"
   ]
  },
  {
   "cell_type": "code",
   "execution_count": null,
   "metadata": {},
   "outputs": [],
   "source": []
  }
 ],
 "metadata": {
  "@webio": {
   "lastCommId": null,
   "lastKernelId": null
  },
  "kernelspec": {
   "display_name": "Julia 1.9.2",
   "language": "julia",
   "name": "julia-1.9"
  },
  "language_info": {
   "file_extension": ".jl",
   "mimetype": "application/julia",
   "name": "julia",
   "version": "1.9.2"
  }
 },
 "nbformat": 4,
 "nbformat_minor": 4
}
