{
 "cells": [
  {
   "cell_type": "markdown",
   "metadata": {},
   "source": [
    "# Conway's Game of Life"
   ]
  },
  {
   "cell_type": "code",
   "execution_count": 1,
   "metadata": {},
   "outputs": [
    {
     "name": "stderr",
     "output_type": "stream",
     "text": [
      "\u001b[32m\u001b[1m  Activating\u001b[22m\u001b[39m project at `~/Documents/EasyABM`\n"
     ]
    },
    {
     "data": {
      "application/vnd.webio.node+json": {
       "children": [],
       "instanceArgs": {
        "namespace": "html",
        "tag": "div"
       },
       "nodeType": "DOM",
       "props": {},
       "type": "node"
      },
      "text/html": [
       "<div style=\"padding: 1em; background-color: #f8d6da; border: 1px solid #f5c6cb; font-weight: bold;\">\n",
       "<p>The WebIO Jupyter extension was not detected. See the\n",
       "<a href=\"https://juliagizmos.github.io/WebIO.jl/latest/providers/ijulia/\" target=\"_blank\">\n",
       "    WebIO Jupyter integration documentation\n",
       "</a>\n",
       "for more information.\n",
       "</div>\n"
      ],
      "text/plain": [
       "WebIO._IJuliaInit()"
      ]
     },
     "metadata": {
      "application/vnd.webio.node+json": {
       "kernelId": "421b23d4-61f0-4273-9252-a6ecc987a4b2"
      }
     },
     "output_type": "display_data"
    }
   ],
   "source": [
    "using Pkg, Revise\n",
    "Pkg.activate(joinpath(@__DIR__, \"../..\"))\n",
    "using EasyABM"
   ]
  },
  {
   "cell_type": "markdown",
   "metadata": {},
   "source": [
    "## Step 1: Create Agents and Model\n",
    "\n",
    "We work with only patches in this model. The size of the \n",
    "grid in the model created is 20x20 and `alive_percent` is the fraction of patches that are live initially."
   ]
  },
  {
   "cell_type": "code",
   "execution_count": 29,
   "metadata": {},
   "outputs": [
    {
     "data": {
      "text/plain": [
       "EasyABM SpaceModel2D{EasyABM.StaticType, Int64, EasyABM.PeriodicType}: In a EasyABM.StaticType model number of agents is fixed.\n"
      ]
     },
     "execution_count": 29,
     "metadata": {},
     "output_type": "execute_result"
    }
   ],
   "source": [
    "model = create_2d_model(size = (20,20), alive_percent = 0.4, space_type = Periodic)"
   ]
  },
  {
   "cell_type": "markdown",
   "metadata": {},
   "source": [
    "## Step 2: Initialise the model\n",
    "\n",
    "In the second step we initialise the patches by defining `initialiser!` function and sending it as an argument to `init_model!`. In the `initialiser!` function we randomly set patches to be either of color `cl\"green\"` or `cl\"white\"` (a named color, say \"green\", can be defined in EasyABM as `cl\"green\"` or as `Col(\"green\")` or more generally as `Col(0,1,0)` or `Col(0,1,0,1)`). The patches with green color have their `is_alive` property set to true and the patches with white color have their `is_alive` property set to false. We specify the patch properties `color` and `is_alive` that we want to be recorded during time evolution in the `props_to_record` argument to the `init_model!` "
   ]
  },
  {
   "cell_type": "code",
   "execution_count": 30,
   "metadata": {},
   "outputs": [],
   "source": [
    "function initialiser!(model)\n",
    "    for j in 1:model.size[2]\n",
    "        for i in 1:model.size[1]\n",
    "            if rand()<model.parameters.alive_percent\n",
    "                model.patches[i,j].color = cl\"green\"\n",
    "                model.patches[i,j].is_alive = true\n",
    "            else\n",
    "                model.patches[i,j].color = cl\"white\"\n",
    "                model.patches[i,j].is_alive = false\n",
    "            end\n",
    "        end\n",
    "    end\n",
    "end\n",
    "\n",
    "init_model!(model, initialiser = initialiser!, \n",
    "    props_to_record=Dict(\"patches\"=>Set([:color, :is_alive])))"
   ]
  },
  {
   "cell_type": "markdown",
   "metadata": {},
   "source": [
    "## Step 3: Defining the step_rule! and running the model\n",
    "\n",
    "In this step we implement the step logic of the Conway's Game of Life in the `step_rule!` function and run the model for 100 steps. \n",
    "Since Conway's model requires all patches to be updated at the same time, in the `step_rule!` function we first compute the `is_alive` \n",
    "property for all patches and then apply it to patches."
   ]
  },
  {
   "cell_type": "code",
   "execution_count": 31,
   "metadata": {},
   "outputs": [
    {
     "data": {
      "text/plain": [
       "step_rule! (generic function with 1 method)"
      ]
     },
     "execution_count": 31,
     "metadata": {},
     "output_type": "execute_result"
    }
   ],
   "source": [
    "function calculate_vals(model)\n",
    "    vals = [false for i in 1:model.size[1], j in 1:model.size[2]]\n",
    "    for j in 1:model.size[2]\n",
    "        for i in 1:model.size[1]\n",
    "            patch = model.patches[i,j]\n",
    "            nbrs = neighbor_patches_moore((i,j), model, 1)\n",
    "            num_alive = 0\n",
    "            for nbr in nbrs\n",
    "                num_alive+= model.patches[nbr...].is_alive\n",
    "            end\n",
    "            condition1 = patch.is_alive && ((num_alive == 2) || (num_alive == 3))\n",
    "            condition2 = !(patch.is_alive) && (num_alive == 3)\n",
    "            if condition1 || condition2\n",
    "                vals[i,j] = true\n",
    "            end\n",
    "        end\n",
    "    end\n",
    "    return vals\n",
    "end\n",
    "\n",
    "function apply_vals!(model, vals)\n",
    "    for j in 1:model.size[2]\n",
    "        for i in 1:model.size[1]\n",
    "            is_alive = vals[i,j]\n",
    "            model.patches[i,j].is_alive = is_alive\n",
    "            model.patches[i,j].color = is_alive ? cl\"green\" : cl\"white\"\n",
    "        end\n",
    "    end       \n",
    "end\n",
    "\n",
    "\n",
    "function step_rule!(model)\n",
    "    vals = calculate_vals(model)\n",
    "    apply_vals!(model, vals)\n",
    "end"
   ]
  },
  {
   "cell_type": "code",
   "execution_count": 26,
   "metadata": {},
   "outputs": [],
   "source": [
    "run_model!(model, steps = 100, step_rule = step_rule!)"
   ]
  },
  {
   "cell_type": "markdown",
   "metadata": {},
   "source": [
    "In order to draw the model at a specific frame, say 4th, one can use `draw_frame(model, frame = 4, show_patches=true)`. If one wants to see the animation of the model run, it can be done as "
   ]
  },
  {
   "cell_type": "code",
   "execution_count": 27,
   "metadata": {},
   "outputs": [
    {
     "data": {
      "application/vnd.webio.node+json": {
       "children": [
        {
         "children": [
          {
           "children": [
            {
             "children": [
              {
               "children": [
                {
                 "children": [
                  {
                   "children": [
                    {
                     "children": [
                      "time"
                     ],
                     "instanceArgs": {
                      "namespace": "html",
                      "tag": "label"
                     },
                     "nodeType": "DOM",
                     "props": {
                      "className": "interact ",
                      "style": {
                       "padding": "5px 10px 0px 10px"
                      }
                     },
                     "type": "node"
                    }
                   ],
                   "instanceArgs": {
                    "namespace": "html",
                    "tag": "div"
                   },
                   "nodeType": "DOM",
                   "props": {
                    "className": "interact-flex-row-left"
                   },
                   "type": "node"
                  },
                  {
                   "children": [
                    {
                     "children": [],
                     "instanceArgs": {
                      "namespace": "html",
                      "tag": "input"
                     },
                     "nodeType": "DOM",
                     "props": {
                      "attributes": {
                       "data-bind": "numericValue: index, valueUpdate: 'input', event: {change: function (){this.changes(this.changes()+1)}}",
                       "orient": "horizontal",
                       "type": "range"
                      },
                      "className": "slider slider is-fullwidth",
                      "max": 101,
                      "min": 1,
                      "step": 1,
                      "style": {}
                     },
                     "type": "node"
                    }
                   ],
                   "instanceArgs": {
                    "namespace": "html",
                    "tag": "div"
                   },
                   "nodeType": "DOM",
                   "props": {
                    "className": "interact-flex-row-center"
                   },
                   "type": "node"
                  },
                  {
                   "children": [
                    {
                     "children": [],
                     "instanceArgs": {
                      "namespace": "html",
                      "tag": "p"
                     },
                     "nodeType": "DOM",
                     "props": {
                      "attributes": {
                       "data-bind": "text: formatted_val"
                      }
                     },
                     "type": "node"
                    }
                   ],
                   "instanceArgs": {
                    "namespace": "html",
                    "tag": "div"
                   },
                   "nodeType": "DOM",
                   "props": {
                    "className": "interact-flex-row-right"
                   },
                   "type": "node"
                  }
                 ],
                 "instanceArgs": {
                  "namespace": "html",
                  "tag": "div"
                 },
                 "nodeType": "DOM",
                 "props": {
                  "className": "interact-flex-row interact-widget"
                 },
                 "type": "node"
                }
               ],
               "instanceArgs": {
                "handlers": {
                 "changes": [
                  "(function (val){return (val!=this.model[\"changes\"]()) ? (this.valueFromJulia[\"changes\"]=true, this.model[\"changes\"](val)) : undefined})"
                 ],
                 "index": [
                  "(function (val){return (val!=this.model[\"index\"]()) ? (this.valueFromJulia[\"index\"]=true, this.model[\"index\"](val)) : undefined})"
                 ]
                },
                "id": "14887149004624091231",
                "imports": {
                 "data": [
                  {
                   "name": "knockout",
                   "type": "js",
                   "url": "/assetserver/727383f2a47bd31570b7da84eee7b022dd6d7c78-knockout.js"
                  },
                  {
                   "name": "knockout_punches",
                   "type": "js",
                   "url": "/assetserver/382b41b3b1bd9f26f75861d360bad7f8beea211f-knockout_punches.js"
                  },
                  {
                   "name": null,
                   "type": "js",
                   "url": "/assetserver/5ab20f1060420992a9b82a65b735dee4d81ef413-all.js"
                  },
                  {
                   "name": null,
                   "type": "css",
                   "url": "/assetserver/1cc0ed62837210b80a182cc3676512f895dab686-style.css"
                  },
                  {
                   "name": null,
                   "type": "css",
                   "url": "/assetserver/2eee816f616df3549d7044d45e744fbf8d42bfa1-bulma_confined.min.css"
                  }
                 ],
                 "type": "async_block"
                },
                "mount_callbacks": [
                 "function () {\n    var handler = (function (ko, koPunches) {\n    ko.punches.enableAll();\n    ko.bindingHandlers.numericValue = {\n        init: function(element, valueAccessor, allBindings, data, context) {\n            var stringified = ko.observable(ko.unwrap(valueAccessor()));\n            stringified.subscribe(function(value) {\n                var val = parseFloat(value);\n                if (!isNaN(val)) {\n                    valueAccessor()(val);\n                }\n            });\n            valueAccessor().subscribe(function(value) {\n                var str = JSON.stringify(value);\n                if ((str == \"0\") && ([\"-0\", \"-0.\"].indexOf(stringified()) >= 0))\n                     return;\n                 if ([\"null\", \"\"].indexOf(str) >= 0)\n                     return;\n                stringified(str);\n            });\n            ko.applyBindingsToNode(\n                element,\n                {\n                    value: stringified,\n                    valueUpdate: allBindings.get('valueUpdate'),\n                },\n                context,\n            );\n        }\n    };\n    var json_data = {\"formatted_vals\":[\"1\",\"2\",\"3\",\"4\",\"5\",\"6\",\"7\",\"8\",\"9\",\"10\",\"11\",\"12\",\"13\",\"14\",\"15\",\"16\",\"17\",\"18\",\"19\",\"20\",\"21\",\"22\",\"23\",\"24\",\"25\",\"26\",\"27\",\"28\",\"29\",\"30\",\"31\",\"32\",\"33\",\"34\",\"35\",\"36\",\"37\",\"38\",\"39\",\"40\",\"41\",\"42\",\"43\",\"44\",\"45\",\"46\",\"47\",\"48\",\"49\",\"50\",\"51\",\"52\",\"53\",\"54\",\"55\",\"56\",\"57\",\"58\",\"59\",\"60\",\"61\",\"62\",\"63\",\"64\",\"65\",\"66\",\"67\",\"68\",\"69\",\"70\",\"71\",\"72\",\"73\",\"74\",\"75\",\"76\",\"77\",\"78\",\"79\",\"80\",\"81\",\"82\",\"83\",\"84\",\"85\",\"86\",\"87\",\"88\",\"89\",\"90\",\"91\",\"92\",\"93\",\"94\",\"95\",\"96\",\"97\",\"98\",\"99\",\"100\",\"101\"],\"changes\":WebIO.getval({\"name\":\"changes\",\"scope\":\"14887149004624091231\",\"id\":\"4445442630133068054\",\"type\":\"observable\"}),\"index\":WebIO.getval({\"name\":\"index\",\"scope\":\"14887149004624091231\",\"id\":\"2717084142301630916\",\"type\":\"observable\"})};\n    var self = this;\n    function AppViewModel() {\n        for (var key in json_data) {\n            var el = json_data[key];\n            this[key] = Array.isArray(el) ? ko.observableArray(el) : ko.observable(el);\n        }\n        \n        [this[\"formatted_val\"]=ko.computed(    function(){\n        return this.formatted_vals()[parseInt(this.index())-(1)];\n    }\n,this)]\n        [this[\"changes\"].subscribe((function (val){!(this.valueFromJulia[\"changes\"]) ? (WebIO.setval({\"name\":\"changes\",\"scope\":\"14887149004624091231\",\"id\":\"4445442630133068054\",\"type\":\"observable\"},val)) : undefined; return this.valueFromJulia[\"changes\"]=false}),self),this[\"index\"].subscribe((function (val){!(this.valueFromJulia[\"index\"]) ? (WebIO.setval({\"name\":\"index\",\"scope\":\"14887149004624091231\",\"id\":\"2717084142301630916\",\"type\":\"observable\"},val)) : undefined; return this.valueFromJulia[\"index\"]=false}),self)]\n        \n    }\n    self.model = new AppViewModel();\n    self.valueFromJulia = {};\n    for (var key in json_data) {\n        self.valueFromJulia[key] = false;\n    }\n    ko.applyBindings(self.model, self.dom);\n}\n);\n    (WebIO.importBlock({\"data\":[{\"name\":\"knockout\",\"type\":\"js\",\"url\":\"/assetserver/727383f2a47bd31570b7da84eee7b022dd6d7c78-knockout.js\"},{\"name\":\"knockout_punches\",\"type\":\"js\",\"url\":\"/assetserver/382b41b3b1bd9f26f75861d360bad7f8beea211f-knockout_punches.js\"}],\"type\":\"async_block\"})).then((imports) => handler.apply(this, imports));\n}\n"
                ],
                "observables": {
                 "changes": {
                  "id": "4445442630133068054",
                  "sync": false,
                  "value": 0
                 },
                 "index": {
                  "id": "2717084142301630916",
                  "sync": true,
                  "value": 51
                 }
                },
                "systemjs_options": null
               },
               "nodeType": "Scope",
               "props": {},
               "type": "node"
              }
             ],
             "instanceArgs": {
              "namespace": "html",
              "tag": "div"
             },
             "nodeType": "DOM",
             "props": {
              "className": "field interact-widget"
             },
             "type": "node"
            },
            {
             "children": [
              {
               "children": [
                {
                 "children": [
                  {
                   "children": [
                    {
                     "children": [
                      "scale"
                     ],
                     "instanceArgs": {
                      "namespace": "html",
                      "tag": "label"
                     },
                     "nodeType": "DOM",
                     "props": {
                      "className": "interact ",
                      "style": {
                       "padding": "5px 10px 0px 10px"
                      }
                     },
                     "type": "node"
                    }
                   ],
                   "instanceArgs": {
                    "namespace": "html",
                    "tag": "div"
                   },
                   "nodeType": "DOM",
                   "props": {
                    "className": "interact-flex-row-left"
                   },
                   "type": "node"
                  },
                  {
                   "children": [
                    {
                     "children": [],
                     "instanceArgs": {
                      "namespace": "html",
                      "tag": "input"
                     },
                     "nodeType": "DOM",
                     "props": {
                      "attributes": {
                       "data-bind": "numericValue: index, valueUpdate: 'input', event: {change: function (){this.changes(this.changes()+1)}}",
                       "orient": "horizontal",
                       "type": "range"
                      },
                      "className": "slider slider is-fullwidth",
                      "max": 20,
                      "min": 1,
                      "step": 1,
                      "style": {}
                     },
                     "type": "node"
                    }
                   ],
                   "instanceArgs": {
                    "namespace": "html",
                    "tag": "div"
                   },
                   "nodeType": "DOM",
                   "props": {
                    "className": "interact-flex-row-center"
                   },
                   "type": "node"
                  },
                  {
                   "children": [
                    {
                     "children": [],
                     "instanceArgs": {
                      "namespace": "html",
                      "tag": "p"
                     },
                     "nodeType": "DOM",
                     "props": {
                      "attributes": {
                       "data-bind": "text: formatted_val"
                      }
                     },
                     "type": "node"
                    }
                   ],
                   "instanceArgs": {
                    "namespace": "html",
                    "tag": "div"
                   },
                   "nodeType": "DOM",
                   "props": {
                    "className": "interact-flex-row-right"
                   },
                   "type": "node"
                  }
                 ],
                 "instanceArgs": {
                  "namespace": "html",
                  "tag": "div"
                 },
                 "nodeType": "DOM",
                 "props": {
                  "className": "interact-flex-row interact-widget"
                 },
                 "type": "node"
                }
               ],
               "instanceArgs": {
                "handlers": {
                 "changes": [
                  "(function (val){return (val!=this.model[\"changes\"]()) ? (this.valueFromJulia[\"changes\"]=true, this.model[\"changes\"](val)) : undefined})"
                 ],
                 "index": [
                  "(function (val){return (val!=this.model[\"index\"]()) ? (this.valueFromJulia[\"index\"]=true, this.model[\"index\"](val)) : undefined})"
                 ]
                },
                "id": "14980754580628070004",
                "imports": {
                 "data": [
                  {
                   "name": "knockout",
                   "type": "js",
                   "url": "/assetserver/727383f2a47bd31570b7da84eee7b022dd6d7c78-knockout.js"
                  },
                  {
                   "name": "knockout_punches",
                   "type": "js",
                   "url": "/assetserver/382b41b3b1bd9f26f75861d360bad7f8beea211f-knockout_punches.js"
                  },
                  {
                   "name": null,
                   "type": "js",
                   "url": "/assetserver/5ab20f1060420992a9b82a65b735dee4d81ef413-all.js"
                  },
                  {
                   "name": null,
                   "type": "css",
                   "url": "/assetserver/1cc0ed62837210b80a182cc3676512f895dab686-style.css"
                  },
                  {
                   "name": null,
                   "type": "css",
                   "url": "/assetserver/2eee816f616df3549d7044d45e744fbf8d42bfa1-bulma_confined.min.css"
                  }
                 ],
                 "type": "async_block"
                },
                "mount_callbacks": [
                 "function () {\n    var handler = (function (ko, koPunches) {\n    ko.punches.enableAll();\n    ko.bindingHandlers.numericValue = {\n        init: function(element, valueAccessor, allBindings, data, context) {\n            var stringified = ko.observable(ko.unwrap(valueAccessor()));\n            stringified.subscribe(function(value) {\n                var val = parseFloat(value);\n                if (!isNaN(val)) {\n                    valueAccessor()(val);\n                }\n            });\n            valueAccessor().subscribe(function(value) {\n                var str = JSON.stringify(value);\n                if ((str == \"0\") && ([\"-0\", \"-0.\"].indexOf(stringified()) >= 0))\n                     return;\n                 if ([\"null\", \"\"].indexOf(str) >= 0)\n                     return;\n                stringified(str);\n            });\n            ko.applyBindingsToNode(\n                element,\n                {\n                    value: stringified,\n                    valueUpdate: allBindings.get('valueUpdate'),\n                },\n                context,\n            );\n        }\n    };\n    var json_data = {\"formatted_vals\":[\"0.1\",\"0.2\",\"0.3\",\"0.4\",\"0.5\",\"0.6\",\"0.7\",\"0.8\",\"0.9\",\"1.0\",\"1.1\",\"1.2\",\"1.3\",\"1.4\",\"1.5\",\"1.6\",\"1.7\",\"1.8\",\"1.9\",\"2.0\"],\"changes\":WebIO.getval({\"name\":\"changes\",\"scope\":\"14980754580628070004\",\"id\":\"4363116138620012366\",\"type\":\"observable\"}),\"index\":WebIO.getval({\"name\":\"index\",\"scope\":\"14980754580628070004\",\"id\":\"12396614532635669352\",\"type\":\"observable\"})};\n    var self = this;\n    function AppViewModel() {\n        for (var key in json_data) {\n            var el = json_data[key];\n            this[key] = Array.isArray(el) ? ko.observableArray(el) : ko.observable(el);\n        }\n        \n        [this[\"formatted_val\"]=ko.computed(    function(){\n        return this.formatted_vals()[parseInt(this.index())-(1)];\n    }\n,this)]\n        [this[\"changes\"].subscribe((function (val){!(this.valueFromJulia[\"changes\"]) ? (WebIO.setval({\"name\":\"changes\",\"scope\":\"14980754580628070004\",\"id\":\"4363116138620012366\",\"type\":\"observable\"},val)) : undefined; return this.valueFromJulia[\"changes\"]=false}),self),this[\"index\"].subscribe((function (val){!(this.valueFromJulia[\"index\"]) ? (WebIO.setval({\"name\":\"index\",\"scope\":\"14980754580628070004\",\"id\":\"12396614532635669352\",\"type\":\"observable\"},val)) : undefined; return this.valueFromJulia[\"index\"]=false}),self)]\n        \n    }\n    self.model = new AppViewModel();\n    self.valueFromJulia = {};\n    for (var key in json_data) {\n        self.valueFromJulia[key] = false;\n    }\n    ko.applyBindings(self.model, self.dom);\n}\n);\n    (WebIO.importBlock({\"data\":[{\"name\":\"knockout\",\"type\":\"js\",\"url\":\"/assetserver/727383f2a47bd31570b7da84eee7b022dd6d7c78-knockout.js\"},{\"name\":\"knockout_punches\",\"type\":\"js\",\"url\":\"/assetserver/382b41b3b1bd9f26f75861d360bad7f8beea211f-knockout_punches.js\"}],\"type\":\"async_block\"})).then((imports) => handler.apply(this, imports));\n}\n"
                ],
                "observables": {
                 "changes": {
                  "id": "4363116138620012366",
                  "sync": false,
                  "value": 0
                 },
                 "index": {
                  "id": "12396614532635669352",
                  "sync": true,
                  "value": 10
                 }
                },
                "systemjs_options": null
               },
               "nodeType": "Scope",
               "props": {},
               "type": "node"
              }
             ],
             "instanceArgs": {
              "namespace": "html",
              "tag": "div"
             },
             "nodeType": "DOM",
             "props": {
              "className": "field interact-widget"
             },
             "type": "node"
            },
            {
             "children": [
              {
               "children": [
                {
                 "children": [
                  {
                   "children": [],
                   "instanceArgs": {
                    "namespace": "html",
                    "tag": "div"
                   },
                   "nodeType": "DOM",
                   "props": {
                    "id": "container"
                   },
                   "type": "node"
                  }
                 ],
                 "instanceArgs": {
                  "handlers": {
                   "value": [
                    "(function (txt){return this.k.render(txt,this.container)})"
                   ]
                  },
                  "id": "3434827687342054699",
                  "imports": {
                   "data": [
                    {
                     "name": null,
                     "type": "js",
                     "url": "/assetserver/dd22ed1bf1896c2748f3fe616ce0b838adc895c1-katex.min.js"
                    },
                    {
                     "name": null,
                     "type": "css",
                     "url": "/assetserver/46517a424aa5e6cffc1360d7e0848b601c584ee3-katex.min.css"
                    }
                   ],
                   "type": "async_block"
                  },
                  "mount_callbacks": [
                   "function () {\n    var handler = ((function (k){this.k=k; this.container=this.dom.querySelector(\"#container\"); return k.render(\"\\\\;\\\\;\",this.container)}));\n    (WebIO.importBlock({\"data\":[{\"name\":null,\"type\":\"js\",\"url\":\"/assetserver/dd22ed1bf1896c2748f3fe616ce0b838adc895c1-katex.min.js\"},{\"name\":null,\"type\":\"css\",\"url\":\"/assetserver/46517a424aa5e6cffc1360d7e0848b601c584ee3-katex.min.css\"}],\"type\":\"async_block\"})).then((imports) => handler.apply(this, imports));\n}\n"
                  ],
                  "observables": {
                   "value": {
                    "id": "11347191940390379821",
                    "sync": false,
                    "value": "\\;\\;"
                   }
                  },
                  "systemjs_options": null
                 },
                 "nodeType": "Scope",
                 "props": {},
                 "type": "node"
                }
               ],
               "instanceArgs": {
                "namespace": "html",
                "tag": "div"
               },
               "nodeType": "DOM",
               "props": {
                "className": "interact-widget"
               },
               "type": "node"
              },
              {
               "children": [
                {
                 "children": [
                  {
                   "children": [
                    "run"
                   ],
                   "instanceArgs": {
                    "namespace": "html",
                    "tag": "button"
                   },
                   "nodeType": "DOM",
                   "props": {
                    "attributes": {
                     "data-bind": "click: function (){this.clicks(this.clicks()+1)}, css: {'is-loading' : loading}"
                    },
                    "className": "is-medium button is-primary",
                    "style": {}
                   },
                   "type": "node"
                  }
                 ],
                 "instanceArgs": {
                  "handlers": {
                   "clicks": [
                    "(function (val){return (val!=this.model[\"clicks\"]()) ? (this.valueFromJulia[\"clicks\"]=true, this.model[\"clicks\"](val)) : undefined})"
                   ],
                   "loading": [
                    "(function (val){return (val!=this.model[\"loading\"]()) ? (this.valueFromJulia[\"loading\"]=true, this.model[\"loading\"](val)) : undefined})"
                   ]
                  },
                  "id": "10548724269727143049",
                  "imports": {
                   "data": [
                    {
                     "name": "knockout",
                     "type": "js",
                     "url": "/assetserver/727383f2a47bd31570b7da84eee7b022dd6d7c78-knockout.js"
                    },
                    {
                     "name": "knockout_punches",
                     "type": "js",
                     "url": "/assetserver/382b41b3b1bd9f26f75861d360bad7f8beea211f-knockout_punches.js"
                    },
                    {
                     "name": null,
                     "type": "js",
                     "url": "/assetserver/5ab20f1060420992a9b82a65b735dee4d81ef413-all.js"
                    },
                    {
                     "name": null,
                     "type": "css",
                     "url": "/assetserver/1cc0ed62837210b80a182cc3676512f895dab686-style.css"
                    },
                    {
                     "name": null,
                     "type": "css",
                     "url": "/assetserver/2eee816f616df3549d7044d45e744fbf8d42bfa1-bulma_confined.min.css"
                    }
                   ],
                   "type": "async_block"
                  },
                  "mount_callbacks": [
                   "function () {\n    var handler = (function (ko, koPunches) {\n    ko.punches.enableAll();\n    ko.bindingHandlers.numericValue = {\n        init: function(element, valueAccessor, allBindings, data, context) {\n            var stringified = ko.observable(ko.unwrap(valueAccessor()));\n            stringified.subscribe(function(value) {\n                var val = parseFloat(value);\n                if (!isNaN(val)) {\n                    valueAccessor()(val);\n                }\n            });\n            valueAccessor().subscribe(function(value) {\n                var str = JSON.stringify(value);\n                if ((str == \"0\") && ([\"-0\", \"-0.\"].indexOf(stringified()) >= 0))\n                     return;\n                 if ([\"null\", \"\"].indexOf(str) >= 0)\n                     return;\n                stringified(str);\n            });\n            ko.applyBindingsToNode(\n                element,\n                {\n                    value: stringified,\n                    valueUpdate: allBindings.get('valueUpdate'),\n                },\n                context,\n            );\n        }\n    };\n    var json_data = {\"loading\":WebIO.getval({\"name\":\"loading\",\"scope\":\"10548724269727143049\",\"id\":\"2858496469399706829\",\"type\":\"observable\"}),\"clicks\":WebIO.getval({\"name\":\"clicks\",\"scope\":\"10548724269727143049\",\"id\":\"9363589808112291099\",\"type\":\"observable\"})};\n    var self = this;\n    function AppViewModel() {\n        for (var key in json_data) {\n            var el = json_data[key];\n            this[key] = Array.isArray(el) ? ko.observableArray(el) : ko.observable(el);\n        }\n        \n        \n        [this[\"loading\"].subscribe((function (val){!(this.valueFromJulia[\"loading\"]) ? (WebIO.setval({\"name\":\"loading\",\"scope\":\"10548724269727143049\",\"id\":\"2858496469399706829\",\"type\":\"observable\"},val)) : undefined; return this.valueFromJulia[\"loading\"]=false}),self),this[\"clicks\"].subscribe((function (val){!(this.valueFromJulia[\"clicks\"]) ? (WebIO.setval({\"name\":\"clicks\",\"scope\":\"10548724269727143049\",\"id\":\"9363589808112291099\",\"type\":\"observable\"},val)) : undefined; return this.valueFromJulia[\"clicks\"]=false}),self)]\n        \n    }\n    self.model = new AppViewModel();\n    self.valueFromJulia = {};\n    for (var key in json_data) {\n        self.valueFromJulia[key] = false;\n    }\n    ko.applyBindings(self.model, self.dom);\n}\n);\n    (WebIO.importBlock({\"data\":[{\"name\":\"knockout\",\"type\":\"js\",\"url\":\"/assetserver/727383f2a47bd31570b7da84eee7b022dd6d7c78-knockout.js\"},{\"name\":\"knockout_punches\",\"type\":\"js\",\"url\":\"/assetserver/382b41b3b1bd9f26f75861d360bad7f8beea211f-knockout_punches.js\"}],\"type\":\"async_block\"})).then((imports) => handler.apply(this, imports));\n}\n"
                  ],
                  "observables": {
                   "clicks": {
                    "id": "9363589808112291099",
                    "sync": true,
                    "value": 0
                   },
                   "loading": {
                    "id": "2858496469399706829",
                    "sync": false,
                    "value": false
                   }
                  },
                  "systemjs_options": null
                 },
                 "nodeType": "Scope",
                 "props": {},
                 "type": "node"
                }
               ],
               "instanceArgs": {
                "namespace": "html",
                "tag": "div"
               },
               "nodeType": "DOM",
               "props": {
                "className": "field interact-widget"
               },
               "type": "node"
              },
              {
               "children": [
                {
                 "children": [
                  {
                   "children": [],
                   "instanceArgs": {
                    "namespace": "html",
                    "tag": "div"
                   },
                   "nodeType": "DOM",
                   "props": {
                    "id": "container"
                   },
                   "type": "node"
                  }
                 ],
                 "instanceArgs": {
                  "handlers": {
                   "value": [
                    "(function (txt){return this.k.render(txt,this.container)})"
                   ]
                  },
                  "id": "3434827687342054699",
                  "imports": {
                   "data": [
                    {
                     "name": null,
                     "type": "js",
                     "url": "/assetserver/dd22ed1bf1896c2748f3fe616ce0b838adc895c1-katex.min.js"
                    },
                    {
                     "name": null,
                     "type": "css",
                     "url": "/assetserver/46517a424aa5e6cffc1360d7e0848b601c584ee3-katex.min.css"
                    }
                   ],
                   "type": "async_block"
                  },
                  "mount_callbacks": [
                   "function () {\n    var handler = ((function (k){this.k=k; this.container=this.dom.querySelector(\"#container\"); return k.render(\"\\\\;\\\\;\",this.container)}));\n    (WebIO.importBlock({\"data\":[{\"name\":null,\"type\":\"js\",\"url\":\"/assetserver/dd22ed1bf1896c2748f3fe616ce0b838adc895c1-katex.min.js\"},{\"name\":null,\"type\":\"css\",\"url\":\"/assetserver/46517a424aa5e6cffc1360d7e0848b601c584ee3-katex.min.css\"}],\"type\":\"async_block\"})).then((imports) => handler.apply(this, imports));\n}\n"
                  ],
                  "observables": {
                   "value": {
                    "id": "11347191940390379821",
                    "sync": false,
                    "value": "\\;\\;"
                   }
                  },
                  "systemjs_options": null
                 },
                 "nodeType": "Scope",
                 "props": {},
                 "type": "node"
                }
               ],
               "instanceArgs": {
                "namespace": "html",
                "tag": "div"
               },
               "nodeType": "DOM",
               "props": {
                "className": "interact-widget"
               },
               "type": "node"
              },
              {
               "children": [
                {
                 "children": [
                  {
                   "children": [
                    "stop"
                   ],
                   "instanceArgs": {
                    "namespace": "html",
                    "tag": "button"
                   },
                   "nodeType": "DOM",
                   "props": {
                    "attributes": {
                     "data-bind": "click: function (){this.clicks(this.clicks()+1)}, css: {'is-loading' : loading}"
                    },
                    "className": "is-medium button is-primary",
                    "style": {}
                   },
                   "type": "node"
                  }
                 ],
                 "instanceArgs": {
                  "handlers": {
                   "clicks": [
                    "(function (val){return (val!=this.model[\"clicks\"]()) ? (this.valueFromJulia[\"clicks\"]=true, this.model[\"clicks\"](val)) : undefined})"
                   ],
                   "loading": [
                    "(function (val){return (val!=this.model[\"loading\"]()) ? (this.valueFromJulia[\"loading\"]=true, this.model[\"loading\"](val)) : undefined})"
                   ]
                  },
                  "id": "11060011910766523778",
                  "imports": {
                   "data": [
                    {
                     "name": "knockout",
                     "type": "js",
                     "url": "/assetserver/727383f2a47bd31570b7da84eee7b022dd6d7c78-knockout.js"
                    },
                    {
                     "name": "knockout_punches",
                     "type": "js",
                     "url": "/assetserver/382b41b3b1bd9f26f75861d360bad7f8beea211f-knockout_punches.js"
                    },
                    {
                     "name": null,
                     "type": "js",
                     "url": "/assetserver/5ab20f1060420992a9b82a65b735dee4d81ef413-all.js"
                    },
                    {
                     "name": null,
                     "type": "css",
                     "url": "/assetserver/1cc0ed62837210b80a182cc3676512f895dab686-style.css"
                    },
                    {
                     "name": null,
                     "type": "css",
                     "url": "/assetserver/2eee816f616df3549d7044d45e744fbf8d42bfa1-bulma_confined.min.css"
                    }
                   ],
                   "type": "async_block"
                  },
                  "mount_callbacks": [
                   "function () {\n    var handler = (function (ko, koPunches) {\n    ko.punches.enableAll();\n    ko.bindingHandlers.numericValue = {\n        init: function(element, valueAccessor, allBindings, data, context) {\n            var stringified = ko.observable(ko.unwrap(valueAccessor()));\n            stringified.subscribe(function(value) {\n                var val = parseFloat(value);\n                if (!isNaN(val)) {\n                    valueAccessor()(val);\n                }\n            });\n            valueAccessor().subscribe(function(value) {\n                var str = JSON.stringify(value);\n                if ((str == \"0\") && ([\"-0\", \"-0.\"].indexOf(stringified()) >= 0))\n                     return;\n                 if ([\"null\", \"\"].indexOf(str) >= 0)\n                     return;\n                stringified(str);\n            });\n            ko.applyBindingsToNode(\n                element,\n                {\n                    value: stringified,\n                    valueUpdate: allBindings.get('valueUpdate'),\n                },\n                context,\n            );\n        }\n    };\n    var json_data = {\"loading\":WebIO.getval({\"name\":\"loading\",\"scope\":\"11060011910766523778\",\"id\":\"7450259596966962165\",\"type\":\"observable\"}),\"clicks\":WebIO.getval({\"name\":\"clicks\",\"scope\":\"11060011910766523778\",\"id\":\"7491154801866266196\",\"type\":\"observable\"})};\n    var self = this;\n    function AppViewModel() {\n        for (var key in json_data) {\n            var el = json_data[key];\n            this[key] = Array.isArray(el) ? ko.observableArray(el) : ko.observable(el);\n        }\n        \n        \n        [this[\"loading\"].subscribe((function (val){!(this.valueFromJulia[\"loading\"]) ? (WebIO.setval({\"name\":\"loading\",\"scope\":\"11060011910766523778\",\"id\":\"7450259596966962165\",\"type\":\"observable\"},val)) : undefined; return this.valueFromJulia[\"loading\"]=false}),self),this[\"clicks\"].subscribe((function (val){!(this.valueFromJulia[\"clicks\"]) ? (WebIO.setval({\"name\":\"clicks\",\"scope\":\"11060011910766523778\",\"id\":\"7491154801866266196\",\"type\":\"observable\"},val)) : undefined; return this.valueFromJulia[\"clicks\"]=false}),self)]\n        \n    }\n    self.model = new AppViewModel();\n    self.valueFromJulia = {};\n    for (var key in json_data) {\n        self.valueFromJulia[key] = false;\n    }\n    ko.applyBindings(self.model, self.dom);\n}\n);\n    (WebIO.importBlock({\"data\":[{\"name\":\"knockout\",\"type\":\"js\",\"url\":\"/assetserver/727383f2a47bd31570b7da84eee7b022dd6d7c78-knockout.js\"},{\"name\":\"knockout_punches\",\"type\":\"js\",\"url\":\"/assetserver/382b41b3b1bd9f26f75861d360bad7f8beea211f-knockout_punches.js\"}],\"type\":\"async_block\"})).then((imports) => handler.apply(this, imports));\n}\n"
                  ],
                  "observables": {
                   "clicks": {
                    "id": "7491154801866266196",
                    "sync": true,
                    "value": 0
                   },
                   "loading": {
                    "id": "7450259596966962165",
                    "sync": false,
                    "value": false
                   }
                  },
                  "systemjs_options": null
                 },
                 "nodeType": "Scope",
                 "props": {},
                 "type": "node"
                }
               ],
               "instanceArgs": {
                "namespace": "html",
                "tag": "div"
               },
               "nodeType": "DOM",
               "props": {
                "className": "field interact-widget"
               },
               "type": "node"
              },
              {
               "children": [
                {
                 "children": [
                  {
                   "children": [],
                   "instanceArgs": {
                    "namespace": "html",
                    "tag": "div"
                   },
                   "nodeType": "DOM",
                   "props": {
                    "id": "container"
                   },
                   "type": "node"
                  }
                 ],
                 "instanceArgs": {
                  "handlers": {
                   "value": [
                    "(function (txt){return this.k.render(txt,this.container)})"
                   ]
                  },
                  "id": "3434827687342054699",
                  "imports": {
                   "data": [
                    {
                     "name": null,
                     "type": "js",
                     "url": "/assetserver/dd22ed1bf1896c2748f3fe616ce0b838adc895c1-katex.min.js"
                    },
                    {
                     "name": null,
                     "type": "css",
                     "url": "/assetserver/46517a424aa5e6cffc1360d7e0848b601c584ee3-katex.min.css"
                    }
                   ],
                   "type": "async_block"
                  },
                  "mount_callbacks": [
                   "function () {\n    var handler = ((function (k){this.k=k; this.container=this.dom.querySelector(\"#container\"); return k.render(\"\\\\;\\\\;\",this.container)}));\n    (WebIO.importBlock({\"data\":[{\"name\":null,\"type\":\"js\",\"url\":\"/assetserver/dd22ed1bf1896c2748f3fe616ce0b838adc895c1-katex.min.js\"},{\"name\":null,\"type\":\"css\",\"url\":\"/assetserver/46517a424aa5e6cffc1360d7e0848b601c584ee3-katex.min.css\"}],\"type\":\"async_block\"})).then((imports) => handler.apply(this, imports));\n}\n"
                  ],
                  "observables": {
                   "value": {
                    "id": "11347191940390379821",
                    "sync": false,
                    "value": "\\;\\;"
                   }
                  },
                  "systemjs_options": null
                 },
                 "nodeType": "Scope",
                 "props": {},
                 "type": "node"
                }
               ],
               "instanceArgs": {
                "namespace": "html",
                "tag": "div"
               },
               "nodeType": "DOM",
               "props": {
                "className": "interact-widget"
               },
               "type": "node"
              },
              {
               "children": [
                {
                 "children": [
                  {
                   "children": [
                    "save"
                   ],
                   "instanceArgs": {
                    "namespace": "html",
                    "tag": "button"
                   },
                   "nodeType": "DOM",
                   "props": {
                    "attributes": {
                     "data-bind": "click: function (){this.clicks(this.clicks()+1)}, css: {'is-loading' : loading}"
                    },
                    "className": "is-medium button is-primary",
                    "style": {}
                   },
                   "type": "node"
                  }
                 ],
                 "instanceArgs": {
                  "handlers": {
                   "clicks": [
                    "(function (val){return (val!=this.model[\"clicks\"]()) ? (this.valueFromJulia[\"clicks\"]=true, this.model[\"clicks\"](val)) : undefined})"
                   ],
                   "loading": [
                    "(function (val){return (val!=this.model[\"loading\"]()) ? (this.valueFromJulia[\"loading\"]=true, this.model[\"loading\"](val)) : undefined})"
                   ]
                  },
                  "id": "931390484095691216",
                  "imports": {
                   "data": [
                    {
                     "name": "knockout",
                     "type": "js",
                     "url": "/assetserver/727383f2a47bd31570b7da84eee7b022dd6d7c78-knockout.js"
                    },
                    {
                     "name": "knockout_punches",
                     "type": "js",
                     "url": "/assetserver/382b41b3b1bd9f26f75861d360bad7f8beea211f-knockout_punches.js"
                    },
                    {
                     "name": null,
                     "type": "js",
                     "url": "/assetserver/5ab20f1060420992a9b82a65b735dee4d81ef413-all.js"
                    },
                    {
                     "name": null,
                     "type": "css",
                     "url": "/assetserver/1cc0ed62837210b80a182cc3676512f895dab686-style.css"
                    },
                    {
                     "name": null,
                     "type": "css",
                     "url": "/assetserver/2eee816f616df3549d7044d45e744fbf8d42bfa1-bulma_confined.min.css"
                    }
                   ],
                   "type": "async_block"
                  },
                  "mount_callbacks": [
                   "function () {\n    var handler = (function (ko, koPunches) {\n    ko.punches.enableAll();\n    ko.bindingHandlers.numericValue = {\n        init: function(element, valueAccessor, allBindings, data, context) {\n            var stringified = ko.observable(ko.unwrap(valueAccessor()));\n            stringified.subscribe(function(value) {\n                var val = parseFloat(value);\n                if (!isNaN(val)) {\n                    valueAccessor()(val);\n                }\n            });\n            valueAccessor().subscribe(function(value) {\n                var str = JSON.stringify(value);\n                if ((str == \"0\") && ([\"-0\", \"-0.\"].indexOf(stringified()) >= 0))\n                     return;\n                 if ([\"null\", \"\"].indexOf(str) >= 0)\n                     return;\n                stringified(str);\n            });\n            ko.applyBindingsToNode(\n                element,\n                {\n                    value: stringified,\n                    valueUpdate: allBindings.get('valueUpdate'),\n                },\n                context,\n            );\n        }\n    };\n    var json_data = {\"loading\":WebIO.getval({\"name\":\"loading\",\"scope\":\"931390484095691216\",\"id\":\"11855753016470073753\",\"type\":\"observable\"}),\"clicks\":WebIO.getval({\"name\":\"clicks\",\"scope\":\"931390484095691216\",\"id\":\"949466346223388166\",\"type\":\"observable\"})};\n    var self = this;\n    function AppViewModel() {\n        for (var key in json_data) {\n            var el = json_data[key];\n            this[key] = Array.isArray(el) ? ko.observableArray(el) : ko.observable(el);\n        }\n        \n        \n        [this[\"loading\"].subscribe((function (val){!(this.valueFromJulia[\"loading\"]) ? (WebIO.setval({\"name\":\"loading\",\"scope\":\"931390484095691216\",\"id\":\"11855753016470073753\",\"type\":\"observable\"},val)) : undefined; return this.valueFromJulia[\"loading\"]=false}),self),this[\"clicks\"].subscribe((function (val){!(this.valueFromJulia[\"clicks\"]) ? (WebIO.setval({\"name\":\"clicks\",\"scope\":\"931390484095691216\",\"id\":\"949466346223388166\",\"type\":\"observable\"},val)) : undefined; return this.valueFromJulia[\"clicks\"]=false}),self)]\n        \n    }\n    self.model = new AppViewModel();\n    self.valueFromJulia = {};\n    for (var key in json_data) {\n        self.valueFromJulia[key] = false;\n    }\n    ko.applyBindings(self.model, self.dom);\n}\n);\n    (WebIO.importBlock({\"data\":[{\"name\":\"knockout\",\"type\":\"js\",\"url\":\"/assetserver/727383f2a47bd31570b7da84eee7b022dd6d7c78-knockout.js\"},{\"name\":\"knockout_punches\",\"type\":\"js\",\"url\":\"/assetserver/382b41b3b1bd9f26f75861d360bad7f8beea211f-knockout_punches.js\"}],\"type\":\"async_block\"})).then((imports) => handler.apply(this, imports));\n}\n"
                  ],
                  "observables": {
                   "clicks": {
                    "id": "949466346223388166",
                    "sync": true,
                    "value": 0
                   },
                   "loading": {
                    "id": "11855753016470073753",
                    "sync": false,
                    "value": false
                   }
                  },
                  "systemjs_options": null
                 },
                 "nodeType": "Scope",
                 "props": {},
                 "type": "node"
                }
               ],
               "instanceArgs": {
                "namespace": "html",
                "tag": "div"
               },
               "nodeType": "DOM",
               "props": {
                "className": "field interact-widget"
               },
               "type": "node"
              }
             ],
             "instanceArgs": {
              "namespace": "html",
              "tag": "div"
             },
             "nodeType": "DOM",
             "props": {
              "style": {
               "display": "flex",
               "flex-direction": "row"
              }
             },
             "type": "node"
            }
           ],
           "instanceArgs": {
            "namespace": "html",
            "tag": "div"
           },
           "nodeType": "DOM",
           "props": {
            "style": {
             "display": "flex",
             "flex-direction": "column"
            }
           },
           "type": "node"
          },
          {
           "children": [
            {
             "children": [
              {
               "children": [],
               "instanceArgs": {
                "namespace": "html",
                "tag": "div"
               },
               "nodeType": "DOM",
               "props": {
                "id": "container"
               },
               "type": "node"
              }
             ],
             "instanceArgs": {
              "handlers": {
               "value": [
                "(function (txt){return this.k.render(txt,this.container)})"
               ]
              },
              "id": "3434827687342054699",
              "imports": {
               "data": [
                {
                 "name": null,
                 "type": "js",
                 "url": "/assetserver/dd22ed1bf1896c2748f3fe616ce0b838adc895c1-katex.min.js"
                },
                {
                 "name": null,
                 "type": "css",
                 "url": "/assetserver/46517a424aa5e6cffc1360d7e0848b601c584ee3-katex.min.css"
                }
               ],
               "type": "async_block"
              },
              "mount_callbacks": [
               "function () {\n    var handler = ((function (k){this.k=k; this.container=this.dom.querySelector(\"#container\"); return k.render(\"\\\\;\\\\;\",this.container)}));\n    (WebIO.importBlock({\"data\":[{\"name\":null,\"type\":\"js\",\"url\":\"/assetserver/dd22ed1bf1896c2748f3fe616ce0b838adc895c1-katex.min.js\"},{\"name\":null,\"type\":\"css\",\"url\":\"/assetserver/46517a424aa5e6cffc1360d7e0848b601c584ee3-katex.min.css\"}],\"type\":\"async_block\"})).then((imports) => handler.apply(this, imports));\n}\n"
              ],
              "observables": {
               "value": {
                "id": "11347191940390379821",
                "sync": false,
                "value": "\\;\\;"
               }
              },
              "systemjs_options": null
             },
             "nodeType": "Scope",
             "props": {},
             "type": "node"
            }
           ],
           "instanceArgs": {
            "namespace": "html",
            "tag": "div"
           },
           "nodeType": "DOM",
           "props": {
            "className": "interact-widget"
           },
           "type": "node"
          },
          {
           "children": [
            {
             "children": [],
             "instanceArgs": {
              "namespace": "html",
              "tag": "div"
             },
             "nodeType": "DOM",
             "props": {
              "className": "webio-observable",
              "setInnerHtml": "<img src='data:image/png;base64,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'></img>"
             },
             "type": "node"
            }
           ],
           "instanceArgs": {
            "handlers": {
             "obs-output": [
              "function (value, scope) {\n    scope.setInnerHTML(value);\n}\n"
             ]
            },
            "id": "2089174442400443901",
            "imports": {
             "data": [],
             "type": "async_block"
            },
            "mount_callbacks": [],
            "observables": {
             "obs-output": {
              "id": "6966188658275919302",
              "sync": false,
              "value": "<img src='data:image/png;base64,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'></img>"
             }
            },
            "systemjs_options": null
           },
           "nodeType": "Scope",
           "props": {},
           "type": "node"
          },
          {
           "children": [
            {
             "children": [
              {
               "children": [],
               "instanceArgs": {
                "namespace": "html",
                "tag": "div"
               },
               "nodeType": "DOM",
               "props": {
                "id": "container"
               },
               "type": "node"
              }
             ],
             "instanceArgs": {
              "handlers": {
               "value": [
                "(function (txt){return this.k.render(txt,this.container)})"
               ]
              },
              "id": "3434827687342054699",
              "imports": {
               "data": [
                {
                 "name": null,
                 "type": "js",
                 "url": "/assetserver/dd22ed1bf1896c2748f3fe616ce0b838adc895c1-katex.min.js"
                },
                {
                 "name": null,
                 "type": "css",
                 "url": "/assetserver/46517a424aa5e6cffc1360d7e0848b601c584ee3-katex.min.css"
                }
               ],
               "type": "async_block"
              },
              "mount_callbacks": [
               "function () {\n    var handler = ((function (k){this.k=k; this.container=this.dom.querySelector(\"#container\"); return k.render(\"\\\\;\\\\;\",this.container)}));\n    (WebIO.importBlock({\"data\":[{\"name\":null,\"type\":\"js\",\"url\":\"/assetserver/dd22ed1bf1896c2748f3fe616ce0b838adc895c1-katex.min.js\"},{\"name\":null,\"type\":\"css\",\"url\":\"/assetserver/46517a424aa5e6cffc1360d7e0848b601c584ee3-katex.min.css\"}],\"type\":\"async_block\"})).then((imports) => handler.apply(this, imports));\n}\n"
              ],
              "observables": {
               "value": {
                "id": "11347191940390379821",
                "sync": false,
                "value": "\\;\\;"
               }
              },
              "systemjs_options": null
             },
             "nodeType": "Scope",
             "props": {},
             "type": "node"
            }
           ],
           "instanceArgs": {
            "namespace": "html",
            "tag": "div"
           },
           "nodeType": "DOM",
           "props": {
            "className": "interact-widget"
           },
           "type": "node"
          },
          {
           "children": [],
           "instanceArgs": {
            "namespace": "html",
            "tag": "div"
           },
           "nodeType": "DOM",
           "props": {
            "style": {
             "display": "flex",
             "flex-direction": "column"
            }
           },
           "type": "node"
          }
         ],
         "instanceArgs": {
          "namespace": "html",
          "tag": "div"
         },
         "nodeType": "DOM",
         "props": {
          "style": {
           "display": "flex",
           "flex-direction": "row"
          }
         },
         "type": "node"
        }
       ],
       "instanceArgs": {
        "namespace": "html",
        "tag": "div"
       },
       "nodeType": "DOM",
       "props": {
        "style": {
         "display": "flex",
         "flex-direction": "column"
        }
       },
       "type": "node"
      },
      "text/html": [
       "<div\n",
       "    class=\"webio-mountpoint\"\n",
       "    data-webio-mountpoint=\"9647065263471360876\"\n",
       ">\n",
       "    <script>\n",
       "    (function(){\n",
       "    // Some integrations (namely, IJulia/Jupyter) use an alternate render pathway than\n",
       "    // just putting the html on the page. If WebIO isn't defined, then it's pretty likely\n",
       "    // that we're in one of those situations and the integration just isn't installed\n",
       "    // correctly.\n",
       "    if (typeof window.WebIO === \"undefined\") {\n",
       "        document\n",
       "            .querySelector('[data-webio-mountpoint=\"9647065263471360876\"]')\n",
       "            .innerHTML = (\n",
       "                '<div style=\"padding: 1em; background-color: #f8d6da; border: 1px solid #f5c6cb; font-weight: bold;\">' +\n",
       "                '<p><strong>WebIO not detected.</strong></p>' +\n",
       "                '<p>Please read ' +\n",
       "                '<a href=\"https://juliagizmos.github.io/WebIO.jl/latest/troubleshooting/not-detected/\" target=\"_blank\">the troubleshooting guide</a> ' +\n",
       "                'for more information on how to resolve this issue.</p>' +\n",
       "                '<p><a href=\"https://juliagizmos.github.io/WebIO.jl/latest/troubleshooting/not-detected/\" target=\"_blank\">https://juliagizmos.github.io/WebIO.jl/latest/troubleshooting/not-detected/</a></p>' +\n",
       "                '</div>'\n",
       "            );\n",
       "        return;\n",
       "    }\n",
       "    WebIO.mount(\n",
       "        document.querySelector('[data-webio-mountpoint=\"9647065263471360876\"]'),\n",
       "        {\"props\":{\"style\":{\"display\":\"flex\",\"flex-direction\":\"column\"}},\"nodeType\":\"DOM\",\"type\":\"node\",\"instanceArgs\":{\"namespace\":\"html\",\"tag\":\"div\"},\"children\":[{\"props\":{\"style\":{\"display\":\"flex\",\"flex-direction\":\"row\"}},\"nodeType\":\"DOM\",\"type\":\"node\",\"instanceArgs\":{\"namespace\":\"html\",\"tag\":\"div\"},\"children\":[{\"props\":{\"style\":{\"display\":\"flex\",\"flex-direction\":\"column\"}},\"nodeType\":\"DOM\",\"type\":\"node\",\"instanceArgs\":{\"namespace\":\"html\",\"tag\":\"div\"},\"children\":[{\"props\":{\"className\":\"field interact-widget\"},\"nodeType\":\"DOM\",\"type\":\"node\",\"instanceArgs\":{\"namespace\":\"html\",\"tag\":\"div\"},\"children\":[{\"props\":{},\"nodeType\":\"Scope\",\"type\":\"node\",\"instanceArgs\":{\"imports\":{\"data\":[{\"name\":\"knockout\",\"type\":\"js\",\"url\":\"\\/assetserver\\/727383f2a47bd31570b7da84eee7b022dd6d7c78-knockout.js\"},{\"name\":\"knockout_punches\",\"type\":\"js\",\"url\":\"\\/assetserver\\/382b41b3b1bd9f26f75861d360bad7f8beea211f-knockout_punches.js\"},{\"name\":null,\"type\":\"js\",\"url\":\"\\/assetserver\\/5ab20f1060420992a9b82a65b735dee4d81ef413-all.js\"},{\"name\":null,\"type\":\"css\",\"url\":\"\\/assetserver\\/1cc0ed62837210b80a182cc3676512f895dab686-style.css\"},{\"name\":null,\"type\":\"css\",\"url\":\"\\/assetserver\\/2eee816f616df3549d7044d45e744fbf8d42bfa1-bulma_confined.min.css\"}],\"type\":\"async_block\"},\"id\":\"14887149004624091231\",\"handlers\":{\"changes\":[\"(function (val){return (val!=this.model[\\\"changes\\\"]()) ? (this.valueFromJulia[\\\"changes\\\"]=true, this.model[\\\"changes\\\"](val)) : undefined})\"],\"index\":[\"(function (val){return (val!=this.model[\\\"index\\\"]()) ? (this.valueFromJulia[\\\"index\\\"]=true, this.model[\\\"index\\\"](val)) : undefined})\"]},\"systemjs_options\":null,\"mount_callbacks\":[\"function () {\\n    var handler = (function (ko, koPunches) {\\n    ko.punches.enableAll();\\n    ko.bindingHandlers.numericValue = {\\n        init: function(element, valueAccessor, allBindings, data, context) {\\n            var stringified = ko.observable(ko.unwrap(valueAccessor()));\\n            stringified.subscribe(function(value) {\\n                var val = parseFloat(value);\\n                if (!isNaN(val)) {\\n                    valueAccessor()(val);\\n                }\\n            });\\n            valueAccessor().subscribe(function(value) {\\n                var str = JSON.stringify(value);\\n                if ((str == \\\"0\\\") && ([\\\"-0\\\", \\\"-0.\\\"].indexOf(stringified()) >= 0))\\n                     return;\\n                 if ([\\\"null\\\", \\\"\\\"].indexOf(str) >= 0)\\n                     return;\\n                stringified(str);\\n            });\\n            ko.applyBindingsToNode(\\n                element,\\n                {\\n                    value: stringified,\\n                    valueUpdate: allBindings.get('valueUpdate'),\\n                },\\n                context,\\n            );\\n        }\\n    };\\n    var json_data = {\\\"formatted_vals\\\":[\\\"1\\\",\\\"2\\\",\\\"3\\\",\\\"4\\\",\\\"5\\\",\\\"6\\\",\\\"7\\\",\\\"8\\\",\\\"9\\\",\\\"10\\\",\\\"11\\\",\\\"12\\\",\\\"13\\\",\\\"14\\\",\\\"15\\\",\\\"16\\\",\\\"17\\\",\\\"18\\\",\\\"19\\\",\\\"20\\\",\\\"21\\\",\\\"22\\\",\\\"23\\\",\\\"24\\\",\\\"25\\\",\\\"26\\\",\\\"27\\\",\\\"28\\\",\\\"29\\\",\\\"30\\\",\\\"31\\\",\\\"32\\\",\\\"33\\\",\\\"34\\\",\\\"35\\\",\\\"36\\\",\\\"37\\\",\\\"38\\\",\\\"39\\\",\\\"40\\\",\\\"41\\\",\\\"42\\\",\\\"43\\\",\\\"44\\\",\\\"45\\\",\\\"46\\\",\\\"47\\\",\\\"48\\\",\\\"49\\\",\\\"50\\\",\\\"51\\\",\\\"52\\\",\\\"53\\\",\\\"54\\\",\\\"55\\\",\\\"56\\\",\\\"57\\\",\\\"58\\\",\\\"59\\\",\\\"60\\\",\\\"61\\\",\\\"62\\\",\\\"63\\\",\\\"64\\\",\\\"65\\\",\\\"66\\\",\\\"67\\\",\\\"68\\\",\\\"69\\\",\\\"70\\\",\\\"71\\\",\\\"72\\\",\\\"73\\\",\\\"74\\\",\\\"75\\\",\\\"76\\\",\\\"77\\\",\\\"78\\\",\\\"79\\\",\\\"80\\\",\\\"81\\\",\\\"82\\\",\\\"83\\\",\\\"84\\\",\\\"85\\\",\\\"86\\\",\\\"87\\\",\\\"88\\\",\\\"89\\\",\\\"90\\\",\\\"91\\\",\\\"92\\\",\\\"93\\\",\\\"94\\\",\\\"95\\\",\\\"96\\\",\\\"97\\\",\\\"98\\\",\\\"99\\\",\\\"100\\\",\\\"101\\\"],\\\"changes\\\":WebIO.getval({\\\"name\\\":\\\"changes\\\",\\\"scope\\\":\\\"14887149004624091231\\\",\\\"id\\\":\\\"4445442630133068054\\\",\\\"type\\\":\\\"observable\\\"}),\\\"index\\\":WebIO.getval({\\\"name\\\":\\\"index\\\",\\\"scope\\\":\\\"14887149004624091231\\\",\\\"id\\\":\\\"2717084142301630916\\\",\\\"type\\\":\\\"observable\\\"})};\\n    var self = this;\\n    function AppViewModel() {\\n        for (var key in json_data) {\\n            var el = json_data[key];\\n            this[key] = Array.isArray(el) ? ko.observableArray(el) : ko.observable(el);\\n        }\\n        \\n        [this[\\\"formatted_val\\\"]=ko.computed(    function(){\\n        return this.formatted_vals()[parseInt(this.index())-(1)];\\n    }\\n,this)]\\n        [this[\\\"changes\\\"].subscribe((function (val){!(this.valueFromJulia[\\\"changes\\\"]) ? (WebIO.setval({\\\"name\\\":\\\"changes\\\",\\\"scope\\\":\\\"14887149004624091231\\\",\\\"id\\\":\\\"4445442630133068054\\\",\\\"type\\\":\\\"observable\\\"},val)) : undefined; return this.valueFromJulia[\\\"changes\\\"]=false}),self),this[\\\"index\\\"].subscribe((function (val){!(this.valueFromJulia[\\\"index\\\"]) ? (WebIO.setval({\\\"name\\\":\\\"index\\\",\\\"scope\\\":\\\"14887149004624091231\\\",\\\"id\\\":\\\"2717084142301630916\\\",\\\"type\\\":\\\"observable\\\"},val)) : undefined; return this.valueFromJulia[\\\"index\\\"]=false}),self)]\\n        \\n    }\\n    self.model = new AppViewModel();\\n    self.valueFromJulia = {};\\n    for (var key in json_data) {\\n        self.valueFromJulia[key] = false;\\n    }\\n    ko.applyBindings(self.model, self.dom);\\n}\\n);\\n    (WebIO.importBlock({\\\"data\\\":[{\\\"name\\\":\\\"knockout\\\",\\\"type\\\":\\\"js\\\",\\\"url\\\":\\\"\\/assetserver\\/727383f2a47bd31570b7da84eee7b022dd6d7c78-knockout.js\\\"},{\\\"name\\\":\\\"knockout_punches\\\",\\\"type\\\":\\\"js\\\",\\\"url\\\":\\\"\\/assetserver\\/382b41b3b1bd9f26f75861d360bad7f8beea211f-knockout_punches.js\\\"}],\\\"type\\\":\\\"async_block\\\"})).then((imports) => handler.apply(this, imports));\\n}\\n\"],\"observables\":{\"changes\":{\"sync\":false,\"id\":\"4445442630133068054\",\"value\":0},\"index\":{\"sync\":true,\"id\":\"2717084142301630916\",\"value\":51}}},\"children\":[{\"props\":{\"className\":\"interact-flex-row interact-widget\"},\"nodeType\":\"DOM\",\"type\":\"node\",\"instanceArgs\":{\"namespace\":\"html\",\"tag\":\"div\"},\"children\":[{\"props\":{\"className\":\"interact-flex-row-left\"},\"nodeType\":\"DOM\",\"type\":\"node\",\"instanceArgs\":{\"namespace\":\"html\",\"tag\":\"div\"},\"children\":[{\"props\":{\"className\":\"interact \",\"style\":{\"padding\":\"5px 10px 0px 10px\"}},\"nodeType\":\"DOM\",\"type\":\"node\",\"instanceArgs\":{\"namespace\":\"html\",\"tag\":\"label\"},\"children\":[\"time\"]}]},{\"props\":{\"className\":\"interact-flex-row-center\"},\"nodeType\":\"DOM\",\"type\":\"node\",\"instanceArgs\":{\"namespace\":\"html\",\"tag\":\"div\"},\"children\":[{\"props\":{\"max\":101,\"min\":1,\"attributes\":{\"type\":\"range\",\"data-bind\":\"numericValue: index, valueUpdate: 'input', event: {change: function (){this.changes(this.changes()+1)}}\",\"orient\":\"horizontal\"},\"step\":1,\"className\":\"slider slider is-fullwidth\",\"style\":{}},\"nodeType\":\"DOM\",\"type\":\"node\",\"instanceArgs\":{\"namespace\":\"html\",\"tag\":\"input\"},\"children\":[]}]},{\"props\":{\"className\":\"interact-flex-row-right\"},\"nodeType\":\"DOM\",\"type\":\"node\",\"instanceArgs\":{\"namespace\":\"html\",\"tag\":\"div\"},\"children\":[{\"props\":{\"attributes\":{\"data-bind\":\"text: formatted_val\"}},\"nodeType\":\"DOM\",\"type\":\"node\",\"instanceArgs\":{\"namespace\":\"html\",\"tag\":\"p\"},\"children\":[]}]}]}]}]},{\"props\":{\"className\":\"field interact-widget\"},\"nodeType\":\"DOM\",\"type\":\"node\",\"instanceArgs\":{\"namespace\":\"html\",\"tag\":\"div\"},\"children\":[{\"props\":{},\"nodeType\":\"Scope\",\"type\":\"node\",\"instanceArgs\":{\"imports\":{\"data\":[{\"name\":\"knockout\",\"type\":\"js\",\"url\":\"\\/assetserver\\/727383f2a47bd31570b7da84eee7b022dd6d7c78-knockout.js\"},{\"name\":\"knockout_punches\",\"type\":\"js\",\"url\":\"\\/assetserver\\/382b41b3b1bd9f26f75861d360bad7f8beea211f-knockout_punches.js\"},{\"name\":null,\"type\":\"js\",\"url\":\"\\/assetserver\\/5ab20f1060420992a9b82a65b735dee4d81ef413-all.js\"},{\"name\":null,\"type\":\"css\",\"url\":\"\\/assetserver\\/1cc0ed62837210b80a182cc3676512f895dab686-style.css\"},{\"name\":null,\"type\":\"css\",\"url\":\"\\/assetserver\\/2eee816f616df3549d7044d45e744fbf8d42bfa1-bulma_confined.min.css\"}],\"type\":\"async_block\"},\"id\":\"14980754580628070004\",\"handlers\":{\"changes\":[\"(function (val){return (val!=this.model[\\\"changes\\\"]()) ? (this.valueFromJulia[\\\"changes\\\"]=true, this.model[\\\"changes\\\"](val)) : undefined})\"],\"index\":[\"(function (val){return (val!=this.model[\\\"index\\\"]()) ? (this.valueFromJulia[\\\"index\\\"]=true, this.model[\\\"index\\\"](val)) : undefined})\"]},\"systemjs_options\":null,\"mount_callbacks\":[\"function () {\\n    var handler = (function (ko, koPunches) {\\n    ko.punches.enableAll();\\n    ko.bindingHandlers.numericValue = {\\n        init: function(element, valueAccessor, allBindings, data, context) {\\n            var stringified = ko.observable(ko.unwrap(valueAccessor()));\\n            stringified.subscribe(function(value) {\\n                var val = parseFloat(value);\\n                if (!isNaN(val)) {\\n                    valueAccessor()(val);\\n                }\\n            });\\n            valueAccessor().subscribe(function(value) {\\n                var str = JSON.stringify(value);\\n                if ((str == \\\"0\\\") && ([\\\"-0\\\", \\\"-0.\\\"].indexOf(stringified()) >= 0))\\n                     return;\\n                 if ([\\\"null\\\", \\\"\\\"].indexOf(str) >= 0)\\n                     return;\\n                stringified(str);\\n            });\\n            ko.applyBindingsToNode(\\n                element,\\n                {\\n                    value: stringified,\\n                    valueUpdate: allBindings.get('valueUpdate'),\\n                },\\n                context,\\n            );\\n        }\\n    };\\n    var json_data = {\\\"formatted_vals\\\":[\\\"0.1\\\",\\\"0.2\\\",\\\"0.3\\\",\\\"0.4\\\",\\\"0.5\\\",\\\"0.6\\\",\\\"0.7\\\",\\\"0.8\\\",\\\"0.9\\\",\\\"1.0\\\",\\\"1.1\\\",\\\"1.2\\\",\\\"1.3\\\",\\\"1.4\\\",\\\"1.5\\\",\\\"1.6\\\",\\\"1.7\\\",\\\"1.8\\\",\\\"1.9\\\",\\\"2.0\\\"],\\\"changes\\\":WebIO.getval({\\\"name\\\":\\\"changes\\\",\\\"scope\\\":\\\"14980754580628070004\\\",\\\"id\\\":\\\"4363116138620012366\\\",\\\"type\\\":\\\"observable\\\"}),\\\"index\\\":WebIO.getval({\\\"name\\\":\\\"index\\\",\\\"scope\\\":\\\"14980754580628070004\\\",\\\"id\\\":\\\"12396614532635669352\\\",\\\"type\\\":\\\"observable\\\"})};\\n    var self = this;\\n    function AppViewModel() {\\n        for (var key in json_data) {\\n            var el = json_data[key];\\n            this[key] = Array.isArray(el) ? ko.observableArray(el) : ko.observable(el);\\n        }\\n        \\n        [this[\\\"formatted_val\\\"]=ko.computed(    function(){\\n        return this.formatted_vals()[parseInt(this.index())-(1)];\\n    }\\n,this)]\\n        [this[\\\"changes\\\"].subscribe((function (val){!(this.valueFromJulia[\\\"changes\\\"]) ? (WebIO.setval({\\\"name\\\":\\\"changes\\\",\\\"scope\\\":\\\"14980754580628070004\\\",\\\"id\\\":\\\"4363116138620012366\\\",\\\"type\\\":\\\"observable\\\"},val)) : undefined; return this.valueFromJulia[\\\"changes\\\"]=false}),self),this[\\\"index\\\"].subscribe((function (val){!(this.valueFromJulia[\\\"index\\\"]) ? (WebIO.setval({\\\"name\\\":\\\"index\\\",\\\"scope\\\":\\\"14980754580628070004\\\",\\\"id\\\":\\\"12396614532635669352\\\",\\\"type\\\":\\\"observable\\\"},val)) : undefined; return this.valueFromJulia[\\\"index\\\"]=false}),self)]\\n        \\n    }\\n    self.model = new AppViewModel();\\n    self.valueFromJulia = {};\\n    for (var key in json_data) {\\n        self.valueFromJulia[key] = false;\\n    }\\n    ko.applyBindings(self.model, self.dom);\\n}\\n);\\n    (WebIO.importBlock({\\\"data\\\":[{\\\"name\\\":\\\"knockout\\\",\\\"type\\\":\\\"js\\\",\\\"url\\\":\\\"\\/assetserver\\/727383f2a47bd31570b7da84eee7b022dd6d7c78-knockout.js\\\"},{\\\"name\\\":\\\"knockout_punches\\\",\\\"type\\\":\\\"js\\\",\\\"url\\\":\\\"\\/assetserver\\/382b41b3b1bd9f26f75861d360bad7f8beea211f-knockout_punches.js\\\"}],\\\"type\\\":\\\"async_block\\\"})).then((imports) => handler.apply(this, imports));\\n}\\n\"],\"observables\":{\"changes\":{\"sync\":false,\"id\":\"4363116138620012366\",\"value\":0},\"index\":{\"sync\":true,\"id\":\"12396614532635669352\",\"value\":10}}},\"children\":[{\"props\":{\"className\":\"interact-flex-row interact-widget\"},\"nodeType\":\"DOM\",\"type\":\"node\",\"instanceArgs\":{\"namespace\":\"html\",\"tag\":\"div\"},\"children\":[{\"props\":{\"className\":\"interact-flex-row-left\"},\"nodeType\":\"DOM\",\"type\":\"node\",\"instanceArgs\":{\"namespace\":\"html\",\"tag\":\"div\"},\"children\":[{\"props\":{\"className\":\"interact \",\"style\":{\"padding\":\"5px 10px 0px 10px\"}},\"nodeType\":\"DOM\",\"type\":\"node\",\"instanceArgs\":{\"namespace\":\"html\",\"tag\":\"label\"},\"children\":[\"scale\"]}]},{\"props\":{\"className\":\"interact-flex-row-center\"},\"nodeType\":\"DOM\",\"type\":\"node\",\"instanceArgs\":{\"namespace\":\"html\",\"tag\":\"div\"},\"children\":[{\"props\":{\"max\":20,\"min\":1,\"attributes\":{\"type\":\"range\",\"data-bind\":\"numericValue: index, valueUpdate: 'input', event: {change: function (){this.changes(this.changes()+1)}}\",\"orient\":\"horizontal\"},\"step\":1,\"className\":\"slider slider is-fullwidth\",\"style\":{}},\"nodeType\":\"DOM\",\"type\":\"node\",\"instanceArgs\":{\"namespace\":\"html\",\"tag\":\"input\"},\"children\":[]}]},{\"props\":{\"className\":\"interact-flex-row-right\"},\"nodeType\":\"DOM\",\"type\":\"node\",\"instanceArgs\":{\"namespace\":\"html\",\"tag\":\"div\"},\"children\":[{\"props\":{\"attributes\":{\"data-bind\":\"text: formatted_val\"}},\"nodeType\":\"DOM\",\"type\":\"node\",\"instanceArgs\":{\"namespace\":\"html\",\"tag\":\"p\"},\"children\":[]}]}]}]}]},{\"props\":{\"style\":{\"display\":\"flex\",\"flex-direction\":\"row\"}},\"nodeType\":\"DOM\",\"type\":\"node\",\"instanceArgs\":{\"namespace\":\"html\",\"tag\":\"div\"},\"children\":[{\"props\":{\"className\":\"interact-widget\"},\"nodeType\":\"DOM\",\"type\":\"node\",\"instanceArgs\":{\"namespace\":\"html\",\"tag\":\"div\"},\"children\":[{\"props\":{},\"nodeType\":\"Scope\",\"type\":\"node\",\"instanceArgs\":{\"imports\":{\"data\":[{\"name\":null,\"type\":\"js\",\"url\":\"\\/assetserver\\/dd22ed1bf1896c2748f3fe616ce0b838adc895c1-katex.min.js\"},{\"name\":null,\"type\":\"css\",\"url\":\"\\/assetserver\\/46517a424aa5e6cffc1360d7e0848b601c584ee3-katex.min.css\"}],\"type\":\"async_block\"},\"id\":\"3434827687342054699\",\"handlers\":{\"value\":[\"(function (txt){return this.k.render(txt,this.container)})\"]},\"systemjs_options\":null,\"mount_callbacks\":[\"function () {\\n    var handler = ((function (k){this.k=k; this.container=this.dom.querySelector(\\\"#container\\\"); return k.render(\\\"\\\\\\\\;\\\\\\\\;\\\",this.container)}));\\n    (WebIO.importBlock({\\\"data\\\":[{\\\"name\\\":null,\\\"type\\\":\\\"js\\\",\\\"url\\\":\\\"\\/assetserver\\/dd22ed1bf1896c2748f3fe616ce0b838adc895c1-katex.min.js\\\"},{\\\"name\\\":null,\\\"type\\\":\\\"css\\\",\\\"url\\\":\\\"\\/assetserver\\/46517a424aa5e6cffc1360d7e0848b601c584ee3-katex.min.css\\\"}],\\\"type\\\":\\\"async_block\\\"})).then((imports) => handler.apply(this, imports));\\n}\\n\"],\"observables\":{\"value\":{\"sync\":false,\"id\":\"11347191940390379821\",\"value\":\"\\\\;\\\\;\"}}},\"children\":[{\"props\":{\"id\":\"container\"},\"nodeType\":\"DOM\",\"type\":\"node\",\"instanceArgs\":{\"namespace\":\"html\",\"tag\":\"div\"},\"children\":[]}]}]},{\"props\":{\"className\":\"field interact-widget\"},\"nodeType\":\"DOM\",\"type\":\"node\",\"instanceArgs\":{\"namespace\":\"html\",\"tag\":\"div\"},\"children\":[{\"props\":{},\"nodeType\":\"Scope\",\"type\":\"node\",\"instanceArgs\":{\"imports\":{\"data\":[{\"name\":\"knockout\",\"type\":\"js\",\"url\":\"\\/assetserver\\/727383f2a47bd31570b7da84eee7b022dd6d7c78-knockout.js\"},{\"name\":\"knockout_punches\",\"type\":\"js\",\"url\":\"\\/assetserver\\/382b41b3b1bd9f26f75861d360bad7f8beea211f-knockout_punches.js\"},{\"name\":null,\"type\":\"js\",\"url\":\"\\/assetserver\\/5ab20f1060420992a9b82a65b735dee4d81ef413-all.js\"},{\"name\":null,\"type\":\"css\",\"url\":\"\\/assetserver\\/1cc0ed62837210b80a182cc3676512f895dab686-style.css\"},{\"name\":null,\"type\":\"css\",\"url\":\"\\/assetserver\\/2eee816f616df3549d7044d45e744fbf8d42bfa1-bulma_confined.min.css\"}],\"type\":\"async_block\"},\"id\":\"10548724269727143049\",\"handlers\":{\"loading\":[\"(function (val){return (val!=this.model[\\\"loading\\\"]()) ? (this.valueFromJulia[\\\"loading\\\"]=true, this.model[\\\"loading\\\"](val)) : undefined})\"],\"clicks\":[\"(function (val){return (val!=this.model[\\\"clicks\\\"]()) ? (this.valueFromJulia[\\\"clicks\\\"]=true, this.model[\\\"clicks\\\"](val)) : undefined})\"]},\"systemjs_options\":null,\"mount_callbacks\":[\"function () {\\n    var handler = (function (ko, koPunches) {\\n    ko.punches.enableAll();\\n    ko.bindingHandlers.numericValue = {\\n        init: function(element, valueAccessor, allBindings, data, context) {\\n            var stringified = ko.observable(ko.unwrap(valueAccessor()));\\n            stringified.subscribe(function(value) {\\n                var val = parseFloat(value);\\n                if (!isNaN(val)) {\\n                    valueAccessor()(val);\\n                }\\n            });\\n            valueAccessor().subscribe(function(value) {\\n                var str = JSON.stringify(value);\\n                if ((str == \\\"0\\\") && ([\\\"-0\\\", \\\"-0.\\\"].indexOf(stringified()) >= 0))\\n                     return;\\n                 if ([\\\"null\\\", \\\"\\\"].indexOf(str) >= 0)\\n                     return;\\n                stringified(str);\\n            });\\n            ko.applyBindingsToNode(\\n                element,\\n                {\\n                    value: stringified,\\n                    valueUpdate: allBindings.get('valueUpdate'),\\n                },\\n                context,\\n            );\\n        }\\n    };\\n    var json_data = {\\\"loading\\\":WebIO.getval({\\\"name\\\":\\\"loading\\\",\\\"scope\\\":\\\"10548724269727143049\\\",\\\"id\\\":\\\"2858496469399706829\\\",\\\"type\\\":\\\"observable\\\"}),\\\"clicks\\\":WebIO.getval({\\\"name\\\":\\\"clicks\\\",\\\"scope\\\":\\\"10548724269727143049\\\",\\\"id\\\":\\\"9363589808112291099\\\",\\\"type\\\":\\\"observable\\\"})};\\n    var self = this;\\n    function AppViewModel() {\\n        for (var key in json_data) {\\n            var el = json_data[key];\\n            this[key] = Array.isArray(el) ? ko.observableArray(el) : ko.observable(el);\\n        }\\n        \\n        \\n        [this[\\\"loading\\\"].subscribe((function (val){!(this.valueFromJulia[\\\"loading\\\"]) ? (WebIO.setval({\\\"name\\\":\\\"loading\\\",\\\"scope\\\":\\\"10548724269727143049\\\",\\\"id\\\":\\\"2858496469399706829\\\",\\\"type\\\":\\\"observable\\\"},val)) : undefined; return this.valueFromJulia[\\\"loading\\\"]=false}),self),this[\\\"clicks\\\"].subscribe((function (val){!(this.valueFromJulia[\\\"clicks\\\"]) ? (WebIO.setval({\\\"name\\\":\\\"clicks\\\",\\\"scope\\\":\\\"10548724269727143049\\\",\\\"id\\\":\\\"9363589808112291099\\\",\\\"type\\\":\\\"observable\\\"},val)) : undefined; return this.valueFromJulia[\\\"clicks\\\"]=false}),self)]\\n        \\n    }\\n    self.model = new AppViewModel();\\n    self.valueFromJulia = {};\\n    for (var key in json_data) {\\n        self.valueFromJulia[key] = false;\\n    }\\n    ko.applyBindings(self.model, self.dom);\\n}\\n);\\n    (WebIO.importBlock({\\\"data\\\":[{\\\"name\\\":\\\"knockout\\\",\\\"type\\\":\\\"js\\\",\\\"url\\\":\\\"\\/assetserver\\/727383f2a47bd31570b7da84eee7b022dd6d7c78-knockout.js\\\"},{\\\"name\\\":\\\"knockout_punches\\\",\\\"type\\\":\\\"js\\\",\\\"url\\\":\\\"\\/assetserver\\/382b41b3b1bd9f26f75861d360bad7f8beea211f-knockout_punches.js\\\"}],\\\"type\\\":\\\"async_block\\\"})).then((imports) => handler.apply(this, imports));\\n}\\n\"],\"observables\":{\"loading\":{\"sync\":false,\"id\":\"2858496469399706829\",\"value\":false},\"clicks\":{\"sync\":true,\"id\":\"9363589808112291099\",\"value\":0}}},\"children\":[{\"props\":{\"attributes\":{\"data-bind\":\"click: function (){this.clicks(this.clicks()+1)}, css: {'is-loading' : loading}\"},\"className\":\"is-medium button is-primary\",\"style\":{}},\"nodeType\":\"DOM\",\"type\":\"node\",\"instanceArgs\":{\"namespace\":\"html\",\"tag\":\"button\"},\"children\":[\"run\"]}]}]},{\"props\":{\"className\":\"interact-widget\"},\"nodeType\":\"DOM\",\"type\":\"node\",\"instanceArgs\":{\"namespace\":\"html\",\"tag\":\"div\"},\"children\":[{\"props\":{},\"nodeType\":\"Scope\",\"type\":\"node\",\"instanceArgs\":{\"imports\":{\"data\":[{\"name\":null,\"type\":\"js\",\"url\":\"\\/assetserver\\/dd22ed1bf1896c2748f3fe616ce0b838adc895c1-katex.min.js\"},{\"name\":null,\"type\":\"css\",\"url\":\"\\/assetserver\\/46517a424aa5e6cffc1360d7e0848b601c584ee3-katex.min.css\"}],\"type\":\"async_block\"},\"id\":\"3434827687342054699\",\"handlers\":{\"value\":[\"(function (txt){return this.k.render(txt,this.container)})\"]},\"systemjs_options\":null,\"mount_callbacks\":[\"function () {\\n    var handler = ((function (k){this.k=k; this.container=this.dom.querySelector(\\\"#container\\\"); return k.render(\\\"\\\\\\\\;\\\\\\\\;\\\",this.container)}));\\n    (WebIO.importBlock({\\\"data\\\":[{\\\"name\\\":null,\\\"type\\\":\\\"js\\\",\\\"url\\\":\\\"\\/assetserver\\/dd22ed1bf1896c2748f3fe616ce0b838adc895c1-katex.min.js\\\"},{\\\"name\\\":null,\\\"type\\\":\\\"css\\\",\\\"url\\\":\\\"\\/assetserver\\/46517a424aa5e6cffc1360d7e0848b601c584ee3-katex.min.css\\\"}],\\\"type\\\":\\\"async_block\\\"})).then((imports) => handler.apply(this, imports));\\n}\\n\"],\"observables\":{\"value\":{\"sync\":false,\"id\":\"11347191940390379821\",\"value\":\"\\\\;\\\\;\"}}},\"children\":[{\"props\":{\"id\":\"container\"},\"nodeType\":\"DOM\",\"type\":\"node\",\"instanceArgs\":{\"namespace\":\"html\",\"tag\":\"div\"},\"children\":[]}]}]},{\"props\":{\"className\":\"field interact-widget\"},\"nodeType\":\"DOM\",\"type\":\"node\",\"instanceArgs\":{\"namespace\":\"html\",\"tag\":\"div\"},\"children\":[{\"props\":{},\"nodeType\":\"Scope\",\"type\":\"node\",\"instanceArgs\":{\"imports\":{\"data\":[{\"name\":\"knockout\",\"type\":\"js\",\"url\":\"\\/assetserver\\/727383f2a47bd31570b7da84eee7b022dd6d7c78-knockout.js\"},{\"name\":\"knockout_punches\",\"type\":\"js\",\"url\":\"\\/assetserver\\/382b41b3b1bd9f26f75861d360bad7f8beea211f-knockout_punches.js\"},{\"name\":null,\"type\":\"js\",\"url\":\"\\/assetserver\\/5ab20f1060420992a9b82a65b735dee4d81ef413-all.js\"},{\"name\":null,\"type\":\"css\",\"url\":\"\\/assetserver\\/1cc0ed62837210b80a182cc3676512f895dab686-style.css\"},{\"name\":null,\"type\":\"css\",\"url\":\"\\/assetserver\\/2eee816f616df3549d7044d45e744fbf8d42bfa1-bulma_confined.min.css\"}],\"type\":\"async_block\"},\"id\":\"11060011910766523778\",\"handlers\":{\"loading\":[\"(function (val){return (val!=this.model[\\\"loading\\\"]()) ? (this.valueFromJulia[\\\"loading\\\"]=true, this.model[\\\"loading\\\"](val)) : undefined})\"],\"clicks\":[\"(function (val){return (val!=this.model[\\\"clicks\\\"]()) ? (this.valueFromJulia[\\\"clicks\\\"]=true, this.model[\\\"clicks\\\"](val)) : undefined})\"]},\"systemjs_options\":null,\"mount_callbacks\":[\"function () {\\n    var handler = (function (ko, koPunches) {\\n    ko.punches.enableAll();\\n    ko.bindingHandlers.numericValue = {\\n        init: function(element, valueAccessor, allBindings, data, context) {\\n            var stringified = ko.observable(ko.unwrap(valueAccessor()));\\n            stringified.subscribe(function(value) {\\n                var val = parseFloat(value);\\n                if (!isNaN(val)) {\\n                    valueAccessor()(val);\\n                }\\n            });\\n            valueAccessor().subscribe(function(value) {\\n                var str = JSON.stringify(value);\\n                if ((str == \\\"0\\\") && ([\\\"-0\\\", \\\"-0.\\\"].indexOf(stringified()) >= 0))\\n                     return;\\n                 if ([\\\"null\\\", \\\"\\\"].indexOf(str) >= 0)\\n                     return;\\n                stringified(str);\\n            });\\n            ko.applyBindingsToNode(\\n                element,\\n                {\\n                    value: stringified,\\n                    valueUpdate: allBindings.get('valueUpdate'),\\n                },\\n                context,\\n            );\\n        }\\n    };\\n    var json_data = {\\\"loading\\\":WebIO.getval({\\\"name\\\":\\\"loading\\\",\\\"scope\\\":\\\"11060011910766523778\\\",\\\"id\\\":\\\"7450259596966962165\\\",\\\"type\\\":\\\"observable\\\"}),\\\"clicks\\\":WebIO.getval({\\\"name\\\":\\\"clicks\\\",\\\"scope\\\":\\\"11060011910766523778\\\",\\\"id\\\":\\\"7491154801866266196\\\",\\\"type\\\":\\\"observable\\\"})};\\n    var self = this;\\n    function AppViewModel() {\\n        for (var key in json_data) {\\n            var el = json_data[key];\\n            this[key] = Array.isArray(el) ? ko.observableArray(el) : ko.observable(el);\\n        }\\n        \\n        \\n        [this[\\\"loading\\\"].subscribe((function (val){!(this.valueFromJulia[\\\"loading\\\"]) ? (WebIO.setval({\\\"name\\\":\\\"loading\\\",\\\"scope\\\":\\\"11060011910766523778\\\",\\\"id\\\":\\\"7450259596966962165\\\",\\\"type\\\":\\\"observable\\\"},val)) : undefined; return this.valueFromJulia[\\\"loading\\\"]=false}),self),this[\\\"clicks\\\"].subscribe((function (val){!(this.valueFromJulia[\\\"clicks\\\"]) ? (WebIO.setval({\\\"name\\\":\\\"clicks\\\",\\\"scope\\\":\\\"11060011910766523778\\\",\\\"id\\\":\\\"7491154801866266196\\\",\\\"type\\\":\\\"observable\\\"},val)) : undefined; return this.valueFromJulia[\\\"clicks\\\"]=false}),self)]\\n        \\n    }\\n    self.model = new AppViewModel();\\n    self.valueFromJulia = {};\\n    for (var key in json_data) {\\n        self.valueFromJulia[key] = false;\\n    }\\n    ko.applyBindings(self.model, self.dom);\\n}\\n);\\n    (WebIO.importBlock({\\\"data\\\":[{\\\"name\\\":\\\"knockout\\\",\\\"type\\\":\\\"js\\\",\\\"url\\\":\\\"\\/assetserver\\/727383f2a47bd31570b7da84eee7b022dd6d7c78-knockout.js\\\"},{\\\"name\\\":\\\"knockout_punches\\\",\\\"type\\\":\\\"js\\\",\\\"url\\\":\\\"\\/assetserver\\/382b41b3b1bd9f26f75861d360bad7f8beea211f-knockout_punches.js\\\"}],\\\"type\\\":\\\"async_block\\\"})).then((imports) => handler.apply(this, imports));\\n}\\n\"],\"observables\":{\"loading\":{\"sync\":false,\"id\":\"7450259596966962165\",\"value\":false},\"clicks\":{\"sync\":true,\"id\":\"7491154801866266196\",\"value\":0}}},\"children\":[{\"props\":{\"attributes\":{\"data-bind\":\"click: function (){this.clicks(this.clicks()+1)}, css: {'is-loading' : loading}\"},\"className\":\"is-medium button is-primary\",\"style\":{}},\"nodeType\":\"DOM\",\"type\":\"node\",\"instanceArgs\":{\"namespace\":\"html\",\"tag\":\"button\"},\"children\":[\"stop\"]}]}]},{\"props\":{\"className\":\"interact-widget\"},\"nodeType\":\"DOM\",\"type\":\"node\",\"instanceArgs\":{\"namespace\":\"html\",\"tag\":\"div\"},\"children\":[{\"props\":{},\"nodeType\":\"Scope\",\"type\":\"node\",\"instanceArgs\":{\"imports\":{\"data\":[{\"name\":null,\"type\":\"js\",\"url\":\"\\/assetserver\\/dd22ed1bf1896c2748f3fe616ce0b838adc895c1-katex.min.js\"},{\"name\":null,\"type\":\"css\",\"url\":\"\\/assetserver\\/46517a424aa5e6cffc1360d7e0848b601c584ee3-katex.min.css\"}],\"type\":\"async_block\"},\"id\":\"3434827687342054699\",\"handlers\":{\"value\":[\"(function (txt){return this.k.render(txt,this.container)})\"]},\"systemjs_options\":null,\"mount_callbacks\":[\"function () {\\n    var handler = ((function (k){this.k=k; this.container=this.dom.querySelector(\\\"#container\\\"); return k.render(\\\"\\\\\\\\;\\\\\\\\;\\\",this.container)}));\\n    (WebIO.importBlock({\\\"data\\\":[{\\\"name\\\":null,\\\"type\\\":\\\"js\\\",\\\"url\\\":\\\"\\/assetserver\\/dd22ed1bf1896c2748f3fe616ce0b838adc895c1-katex.min.js\\\"},{\\\"name\\\":null,\\\"type\\\":\\\"css\\\",\\\"url\\\":\\\"\\/assetserver\\/46517a424aa5e6cffc1360d7e0848b601c584ee3-katex.min.css\\\"}],\\\"type\\\":\\\"async_block\\\"})).then((imports) => handler.apply(this, imports));\\n}\\n\"],\"observables\":{\"value\":{\"sync\":false,\"id\":\"11347191940390379821\",\"value\":\"\\\\;\\\\;\"}}},\"children\":[{\"props\":{\"id\":\"container\"},\"nodeType\":\"DOM\",\"type\":\"node\",\"instanceArgs\":{\"namespace\":\"html\",\"tag\":\"div\"},\"children\":[]}]}]},{\"props\":{\"className\":\"field interact-widget\"},\"nodeType\":\"DOM\",\"type\":\"node\",\"instanceArgs\":{\"namespace\":\"html\",\"tag\":\"div\"},\"children\":[{\"props\":{},\"nodeType\":\"Scope\",\"type\":\"node\",\"instanceArgs\":{\"imports\":{\"data\":[{\"name\":\"knockout\",\"type\":\"js\",\"url\":\"\\/assetserver\\/727383f2a47bd31570b7da84eee7b022dd6d7c78-knockout.js\"},{\"name\":\"knockout_punches\",\"type\":\"js\",\"url\":\"\\/assetserver\\/382b41b3b1bd9f26f75861d360bad7f8beea211f-knockout_punches.js\"},{\"name\":null,\"type\":\"js\",\"url\":\"\\/assetserver\\/5ab20f1060420992a9b82a65b735dee4d81ef413-all.js\"},{\"name\":null,\"type\":\"css\",\"url\":\"\\/assetserver\\/1cc0ed62837210b80a182cc3676512f895dab686-style.css\"},{\"name\":null,\"type\":\"css\",\"url\":\"\\/assetserver\\/2eee816f616df3549d7044d45e744fbf8d42bfa1-bulma_confined.min.css\"}],\"type\":\"async_block\"},\"id\":\"931390484095691216\",\"handlers\":{\"loading\":[\"(function (val){return (val!=this.model[\\\"loading\\\"]()) ? (this.valueFromJulia[\\\"loading\\\"]=true, this.model[\\\"loading\\\"](val)) : undefined})\"],\"clicks\":[\"(function (val){return (val!=this.model[\\\"clicks\\\"]()) ? (this.valueFromJulia[\\\"clicks\\\"]=true, this.model[\\\"clicks\\\"](val)) : undefined})\"]},\"systemjs_options\":null,\"mount_callbacks\":[\"function () {\\n    var handler = (function (ko, koPunches) {\\n    ko.punches.enableAll();\\n    ko.bindingHandlers.numericValue = {\\n        init: function(element, valueAccessor, allBindings, data, context) {\\n            var stringified = ko.observable(ko.unwrap(valueAccessor()));\\n            stringified.subscribe(function(value) {\\n                var val = parseFloat(value);\\n                if (!isNaN(val)) {\\n                    valueAccessor()(val);\\n                }\\n            });\\n            valueAccessor().subscribe(function(value) {\\n                var str = JSON.stringify(value);\\n                if ((str == \\\"0\\\") && ([\\\"-0\\\", \\\"-0.\\\"].indexOf(stringified()) >= 0))\\n                     return;\\n                 if ([\\\"null\\\", \\\"\\\"].indexOf(str) >= 0)\\n                     return;\\n                stringified(str);\\n            });\\n            ko.applyBindingsToNode(\\n                element,\\n                {\\n                    value: stringified,\\n                    valueUpdate: allBindings.get('valueUpdate'),\\n                },\\n                context,\\n            );\\n        }\\n    };\\n    var json_data = {\\\"loading\\\":WebIO.getval({\\\"name\\\":\\\"loading\\\",\\\"scope\\\":\\\"931390484095691216\\\",\\\"id\\\":\\\"11855753016470073753\\\",\\\"type\\\":\\\"observable\\\"}),\\\"clicks\\\":WebIO.getval({\\\"name\\\":\\\"clicks\\\",\\\"scope\\\":\\\"931390484095691216\\\",\\\"id\\\":\\\"949466346223388166\\\",\\\"type\\\":\\\"observable\\\"})};\\n    var self = this;\\n    function AppViewModel() {\\n        for (var key in json_data) {\\n            var el = json_data[key];\\n            this[key] = Array.isArray(el) ? ko.observableArray(el) : ko.observable(el);\\n        }\\n        \\n        \\n        [this[\\\"loading\\\"].subscribe((function (val){!(this.valueFromJulia[\\\"loading\\\"]) ? (WebIO.setval({\\\"name\\\":\\\"loading\\\",\\\"scope\\\":\\\"931390484095691216\\\",\\\"id\\\":\\\"11855753016470073753\\\",\\\"type\\\":\\\"observable\\\"},val)) : undefined; return this.valueFromJulia[\\\"loading\\\"]=false}),self),this[\\\"clicks\\\"].subscribe((function (val){!(this.valueFromJulia[\\\"clicks\\\"]) ? (WebIO.setval({\\\"name\\\":\\\"clicks\\\",\\\"scope\\\":\\\"931390484095691216\\\",\\\"id\\\":\\\"949466346223388166\\\",\\\"type\\\":\\\"observable\\\"},val)) : undefined; return this.valueFromJulia[\\\"clicks\\\"]=false}),self)]\\n        \\n    }\\n    self.model = new AppViewModel();\\n    self.valueFromJulia = {};\\n    for (var key in json_data) {\\n        self.valueFromJulia[key] = false;\\n    }\\n    ko.applyBindings(self.model, self.dom);\\n}\\n);\\n    (WebIO.importBlock({\\\"data\\\":[{\\\"name\\\":\\\"knockout\\\",\\\"type\\\":\\\"js\\\",\\\"url\\\":\\\"\\/assetserver\\/727383f2a47bd31570b7da84eee7b022dd6d7c78-knockout.js\\\"},{\\\"name\\\":\\\"knockout_punches\\\",\\\"type\\\":\\\"js\\\",\\\"url\\\":\\\"\\/assetserver\\/382b41b3b1bd9f26f75861d360bad7f8beea211f-knockout_punches.js\\\"}],\\\"type\\\":\\\"async_block\\\"})).then((imports) => handler.apply(this, imports));\\n}\\n\"],\"observables\":{\"loading\":{\"sync\":false,\"id\":\"11855753016470073753\",\"value\":false},\"clicks\":{\"sync\":true,\"id\":\"949466346223388166\",\"value\":0}}},\"children\":[{\"props\":{\"attributes\":{\"data-bind\":\"click: function (){this.clicks(this.clicks()+1)}, css: {'is-loading' : loading}\"},\"className\":\"is-medium button is-primary\",\"style\":{}},\"nodeType\":\"DOM\",\"type\":\"node\",\"instanceArgs\":{\"namespace\":\"html\",\"tag\":\"button\"},\"children\":[\"save\"]}]}]}]}]},{\"props\":{\"className\":\"interact-widget\"},\"nodeType\":\"DOM\",\"type\":\"node\",\"instanceArgs\":{\"namespace\":\"html\",\"tag\":\"div\"},\"children\":[{\"props\":{},\"nodeType\":\"Scope\",\"type\":\"node\",\"instanceArgs\":{\"imports\":{\"data\":[{\"name\":null,\"type\":\"js\",\"url\":\"\\/assetserver\\/dd22ed1bf1896c2748f3fe616ce0b838adc895c1-katex.min.js\"},{\"name\":null,\"type\":\"css\",\"url\":\"\\/assetserver\\/46517a424aa5e6cffc1360d7e0848b601c584ee3-katex.min.css\"}],\"type\":\"async_block\"},\"id\":\"3434827687342054699\",\"handlers\":{\"value\":[\"(function (txt){return this.k.render(txt,this.container)})\"]},\"systemjs_options\":null,\"mount_callbacks\":[\"function () {\\n    var handler = ((function (k){this.k=k; this.container=this.dom.querySelector(\\\"#container\\\"); return k.render(\\\"\\\\\\\\;\\\\\\\\;\\\",this.container)}));\\n    (WebIO.importBlock({\\\"data\\\":[{\\\"name\\\":null,\\\"type\\\":\\\"js\\\",\\\"url\\\":\\\"\\/assetserver\\/dd22ed1bf1896c2748f3fe616ce0b838adc895c1-katex.min.js\\\"},{\\\"name\\\":null,\\\"type\\\":\\\"css\\\",\\\"url\\\":\\\"\\/assetserver\\/46517a424aa5e6cffc1360d7e0848b601c584ee3-katex.min.css\\\"}],\\\"type\\\":\\\"async_block\\\"})).then((imports) => handler.apply(this, imports));\\n}\\n\"],\"observables\":{\"value\":{\"sync\":false,\"id\":\"11347191940390379821\",\"value\":\"\\\\;\\\\;\"}}},\"children\":[{\"props\":{\"id\":\"container\"},\"nodeType\":\"DOM\",\"type\":\"node\",\"instanceArgs\":{\"namespace\":\"html\",\"tag\":\"div\"},\"children\":[]}]}]},{\"props\":{},\"nodeType\":\"Scope\",\"type\":\"node\",\"instanceArgs\":{\"imports\":{\"data\":[],\"type\":\"async_block\"},\"id\":\"13633715680942295881\",\"handlers\":{\"obs-output\":[\"function (value, scope) {\\n    scope.setInnerHTML(value);\\n}\\n\"]},\"systemjs_options\":null,\"mount_callbacks\":[],\"observables\":{\"obs-output\":{\"sync\":false,\"id\":\"15518354413687777063\",\"value\":\"<img src='data:image\\/png;base64,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'><\\/img>\"}}},\"children\":[{\"props\":{\"className\":\"webio-observable\",\"setInnerHtml\":\"<img src='data:image\\/png;base64,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'><\\/img>\"},\"nodeType\":\"DOM\",\"type\":\"node\",\"instanceArgs\":{\"namespace\":\"html\",\"tag\":\"div\"},\"children\":[]}]},{\"props\":{\"className\":\"interact-widget\"},\"nodeType\":\"DOM\",\"type\":\"node\",\"instanceArgs\":{\"namespace\":\"html\",\"tag\":\"div\"},\"children\":[{\"props\":{},\"nodeType\":\"Scope\",\"type\":\"node\",\"instanceArgs\":{\"imports\":{\"data\":[{\"name\":null,\"type\":\"js\",\"url\":\"\\/assetserver\\/dd22ed1bf1896c2748f3fe616ce0b838adc895c1-katex.min.js\"},{\"name\":null,\"type\":\"css\",\"url\":\"\\/assetserver\\/46517a424aa5e6cffc1360d7e0848b601c584ee3-katex.min.css\"}],\"type\":\"async_block\"},\"id\":\"3434827687342054699\",\"handlers\":{\"value\":[\"(function (txt){return this.k.render(txt,this.container)})\"]},\"systemjs_options\":null,\"mount_callbacks\":[\"function () {\\n    var handler = ((function (k){this.k=k; this.container=this.dom.querySelector(\\\"#container\\\"); return k.render(\\\"\\\\\\\\;\\\\\\\\;\\\",this.container)}));\\n    (WebIO.importBlock({\\\"data\\\":[{\\\"name\\\":null,\\\"type\\\":\\\"js\\\",\\\"url\\\":\\\"\\/assetserver\\/dd22ed1bf1896c2748f3fe616ce0b838adc895c1-katex.min.js\\\"},{\\\"name\\\":null,\\\"type\\\":\\\"css\\\",\\\"url\\\":\\\"\\/assetserver\\/46517a424aa5e6cffc1360d7e0848b601c584ee3-katex.min.css\\\"}],\\\"type\\\":\\\"async_block\\\"})).then((imports) => handler.apply(this, imports));\\n}\\n\"],\"observables\":{\"value\":{\"sync\":false,\"id\":\"11347191940390379821\",\"value\":\"\\\\;\\\\;\"}}},\"children\":[{\"props\":{\"id\":\"container\"},\"nodeType\":\"DOM\",\"type\":\"node\",\"instanceArgs\":{\"namespace\":\"html\",\"tag\":\"div\"},\"children\":[]}]}]},{\"props\":{\"style\":{\"display\":\"flex\",\"flex-direction\":\"column\"}},\"nodeType\":\"DOM\",\"type\":\"node\",\"instanceArgs\":{\"namespace\":\"html\",\"tag\":\"div\"},\"children\":[]}]}]},\n",
       "        window,\n",
       "    );\n",
       "    })()\n",
       "    </script>\n",
       "</div>\n"
      ],
      "text/plain": [
       "WebIO.Node{WebIO.DOM}(WebIO.DOM(:html, :div), Any[WebIO.Node{WebIO.DOM}(WebIO.DOM(:html, :div), Any[WebIO.Node{WebIO.DOM}(WebIO.DOM(:html, :div), Any[WebIO.Node{WebIO.DOM}(WebIO.DOM(:html, :div), Any[WebIO.Scope(WebIO.Node{WebIO.DOM}(WebIO.DOM(:html, :div), Any[WebIO.Node{WebIO.DOM}(WebIO.DOM(:html, :div), Any[WebIO.Node{WebIO.DOM}(WebIO.DOM(:html, :label), Any[\"time\"], Dict{Symbol, Any}(:className => \"interact \", :style => Dict{Any, Any}(:padding => \"5px 10px 0px 10px\")))], Dict{Symbol, Any}(:className => \"interact-flex-row-left\")), WebIO.Node{WebIO.DOM}(WebIO.DOM(:html, :div), Any[WebIO.Node{WebIO.DOM}(WebIO.DOM(:html, :input), Any[], Dict{Symbol, Any}(:max => 101, :min => 1, :attributes => Dict{Any, Any}(:type => \"range\", Symbol(\"data-bind\") => \"numericValue: index, valueUpdate: 'input', event: {change: function (){this.changes(this.changes()+1)}}\", \"orient\" => \"horizontal\"), :step => 1, :className => \"slider slider is-fullwidth\", :style => Dict{Any, Any}()))], Dict{Symbol, Any}(:className => \"interact-flex-row-center\")), WebIO.Node{WebIO.DOM}(WebIO.DOM(:html, :div), Any[WebIO.Node{WebIO.DOM}(WebIO.DOM(:html, :p), Any[], Dict{Symbol, Any}(:attributes => Dict(\"data-bind\" => \"text: formatted_val\")))], Dict{Symbol, Any}(:className => \"interact-flex-row-right\"))], Dict{Symbol, Any}(:className => \"interact-flex-row interact-widget\")), Dict{String, Tuple{Observables.AbstractObservable, Union{Nothing, Bool}}}(\"changes\" => (Observable(0), nothing), \"index\" => (Observable(51), nothing)), Set{String}(), nothing, WebIO.Asset[WebIO.Asset(\"js\", \"knockout\", \"/home/dushya/.julia/packages/Knockout/HReiN/src/../assets/knockout.js\"), WebIO.Asset(\"js\", \"knockout_punches\", \"/home/dushya/.julia/packages/Knockout/HReiN/src/../assets/knockout_punches.js\"), WebIO.Asset(\"js\", nothing, \"/home/dushya/.julia/packages/InteractBase/LJXv3/src/../assets/all.js\"), WebIO.Asset(\"css\", nothing, \"/home/dushya/.julia/packages/InteractBase/LJXv3/src/../assets/style.css\"), WebIO.Asset(\"css\", nothing, \"/home/dushya/.julia/packages/Interact/PENUy/src/../assets/bulma_confined.min.css\")], Dict{Any, Any}(\"changes\" => Any[WebIO.JSString(\"(function (val){return (val!=this.model[\\\"changes\\\"]()) ? (this.valueFromJulia[\\\"changes\\\"]=true, this.model[\\\"changes\\\"](val)) : undefined})\")], \"index\" => Any[WebIO.JSString(\"(function (val){return (val!=this.model[\\\"index\\\"]()) ? (this.valueFromJulia[\\\"index\\\"]=true, this.model[\\\"index\\\"](val)) : undefined})\")]), WebIO.ConnectionPool(Channel{Any}(32), Set{WebIO.AbstractConnection}(), Base.GenericCondition{ReentrantLock}(Base.IntrusiveLinkedList{Task}(Task (runnable) @0x00007f19062ed780, Task (runnable) @0x00007f19062ed780), ReentrantLock(nothing, 0x00000000, 0x00, Base.GenericCondition{Base.Threads.SpinLock}(Base.IntrusiveLinkedList{Task}(nothing, nothing), Base.Threads.SpinLock(0)), (1, 6320240, 4)))), WebIO.JSString[WebIO.JSString(\"function () {\\n    var handler = (function (ko, koPunches) {\\n    ko.punches.enableAll();\\n    ko.bindingHandlers.numericValue = {\\n        init: function(element, valueAccessor, allBindings, data, context) {\\n            var stringified = ko.observable(ko.unwrap(valueAccessor()));\\n            stringified.subscribe(function(value) {\\n                var val = parseFloat(value);\\n                if (!isNaN(val)) {\\n                    valueAccessor()(val);\\n                }\\n            });\\n            valueAccessor().subscribe(function(value) {\\n                var str = JSON.stringify(value);\\n                if ((str == \\\"0\\\") && ([\\\"-0\\\", \\\"-0.\\\"].indexOf(stringified()) >= 0))\\n                     return;\\n                 if ([\\\"null\\\", \\\"\\\"].indexOf(str) >= 0)\\n                     return;\\n                stringified(str);\\n            });\\n            ko.applyBindingsToNode(\\n                element,\\n                {\\n                    value: stringified,\\n                    valueUpdate: allBindings.get('valueUpdate'),\\n                },\\n                context,\\n            );\\n        }\\n    };\\n    var json_data = {\\\"formatted_vals\\\":[\\\"1\\\",\\\"2\\\",\\\"3\\\",\\\"4\\\",\\\"5\\\",\\\"6\\\",\\\"7\\\",\\\"8\\\",\\\"9\\\",\\\"10\\\",\\\"11\\\",\\\"12\\\",\\\"13\\\",\\\"14\\\",\\\"15\\\",\\\"16\\\",\\\"17\\\",\\\"18\\\",\\\"19\\\",\\\"20\\\",\\\"21\\\",\\\"22\\\",\\\"23\\\",\\\"24\\\",\\\"25\\\",\\\"26\\\",\\\"27\\\",\\\"28\\\",\\\"29\\\",\\\"30\\\",\\\"31\\\",\\\"32\\\",\\\"33\\\",\\\"34\\\",\\\"35\\\",\\\"36\\\",\\\"37\\\",\\\"38\\\",\\\"39\\\",\\\"40\\\",\\\"41\\\",\\\"42\\\",\\\"43\\\",\\\"44\\\",\\\"45\\\",\\\"46\\\",\\\"47\\\",\\\"48\\\",\\\"49\\\",\\\"50\\\",\\\"51\\\",\\\"52\\\",\\\"53\\\",\\\"54\\\",\\\"55\\\",\\\"56\\\",\\\"57\\\",\\\"58\\\",\\\"59\\\",\\\"60\\\",\\\"61\\\",\\\"62\\\",\\\"63\\\",\\\"64\\\",\\\"65\\\",\\\"66\\\",\\\"67\\\",\\\"68\\\",\\\"69\\\",\\\"70\\\",\\\"71\\\",\\\"72\\\",\\\"73\\\",\\\"74\\\",\\\"75\\\",\\\"76\\\",\\\"77\\\",\\\"78\\\",\\\"79\\\",\\\"80\\\",\\\"81\\\",\\\"82\\\",\\\"83\\\",\\\"84\\\",\\\"85\\\",\\\"86\\\",\\\"87\\\",\\\"88\\\",\\\"89\\\",\\\"90\\\",\\\"91\\\",\\\"92\\\",\\\"93\\\",\\\"94\\\",\\\"95\\\",\\\"96\\\",\\\"97\\\",\\\"98\\\",\\\"99\\\",\\\"100\\\",\\\"101\\\"],\\\"changes\\\":WebIO.getval({\\\"name\\\":\\\"changes\\\",\\\"scope\\\":\\\"14887149004624091231\\\",\\\"id\\\":\\\"4445442630133068054\\\",\\\"type\\\":\\\"observable\\\"}),\\\"index\\\":WebIO.getval({\\\"name\\\":\\\"index\\\",\\\"scope\\\":\\\"14887149004624091231\\\",\\\"id\\\":\\\"2717084142301630916\\\",\\\"type\\\":\\\"observable\\\"})};\\n    var self = this;\\n    function AppViewModel() {\\n        for (var key in json_data) {\\n            var el = json_data[key];\\n            this[key] = Array.isArray(el) ? ko.observableArray(el) : ko.observable(el);\\n        }\\n        \\n        [this[\\\"formatted_val\\\"]=ko.computed(    function(){\\n        return this.formatted_vals()[parseInt(this.index())-(1)];\\n    }\\n,this)]\\n        [this[\\\"changes\\\"].subscribe((function (val){!(this.valueFromJulia[\\\"changes\\\"]) ? (WebIO.setval({\\\"name\\\":\\\"changes\\\",\\\"scope\\\":\\\"14887149004624091231\\\",\\\"id\\\":\\\"4445442630133068054\\\",\\\"type\\\":\\\"observable\\\"},val)) : undefined; return this.valueFromJulia[\\\"changes\\\"]=false}),self),this[\\\"index\\\"].subscribe((function (val){!(this.valueFromJulia[\\\"index\\\"]) ? (WebIO.setval({\\\"name\\\":\\\"index\\\",\\\"scope\\\":\\\"14887149004624091231\\\",\\\"id\\\":\\\"2717084142301630916\\\",\\\"type\\\":\\\"observable\\\"},val)) : undefined; return this.valueFromJulia[\\\"index\\\"]=false}),self)]\\n        \\n    }\\n    self.model = new AppViewModel();\\n    self.valueFromJulia = {};\\n    for (var key in json_data) {\\n        self.valueFromJulia[key] = false;\\n    }\\n    ko.applyBindings(self.model, self.dom);\\n}\\n);\\n    (WebIO.importBlock({\\\"data\\\":[{\\\"name\\\":\\\"knockout\\\",\\\"type\\\":\\\"js\\\",\\\"url\\\":\\\"/assetserver/727383f2a47bd31570b7da84eee7b022dd6d7c78-knockout.js\\\"},{\\\"name\\\":\\\"knockout_punches\\\",\\\"type\\\":\\\"js\\\",\\\"url\\\":\\\"/assetserver/382b41b3b1bd9f26f75861d360bad7f8beea211f-knockout_punches.js\\\"}],\\\"type\\\":\\\"async_block\\\"})).then((imports) => handler.apply(this, imports));\\n}\\n\")])], Dict{Symbol, Any}(:className => \"field interact-widget\")), WebIO.Node{WebIO.DOM}(WebIO.DOM(:html, :div), Any[WebIO.Scope(WebIO.Node{WebIO.DOM}(WebIO.DOM(:html, :div), Any[WebIO.Node{WebIO.DOM}(WebIO.DOM(:html, :div), Any[WebIO.Node{WebIO.DOM}(WebIO.DOM(:html, :label), Any[\"scale\"], Dict{Symbol, Any}(:className => \"interact \", :style => Dict{Any, Any}(:padding => \"5px 10px 0px 10px\")))], Dict{Symbol, Any}(:className => \"interact-flex-row-left\")), WebIO.Node{WebIO.DOM}(WebIO.DOM(:html, :div), Any[WebIO.Node{WebIO.DOM}(WebIO.DOM(:html, :input), Any[], Dict{Symbol, Any}(:max => 20, :min => 1, :attributes => Dict{Any, Any}(:type => \"range\", Symbol(\"data-bind\") => \"numericValue: index, valueUpdate: 'input', event: {change: function (){this.changes(this.changes()+1)}}\", \"orient\" => \"horizontal\"), :step => 1, :className => \"slider slider is-fullwidth\", :style => Dict{Any, Any}()))], Dict{Symbol, Any}(:className => \"interact-flex-row-center\")), WebIO.Node{WebIO.DOM}(WebIO.DOM(:html, :div), Any[WebIO.Node{WebIO.DOM}(WebIO.DOM(:html, :p), Any[], Dict{Symbol, Any}(:attributes => Dict(\"data-bind\" => \"text: formatted_val\")))], Dict{Symbol, Any}(:className => \"interact-flex-row-right\"))], Dict{Symbol, Any}(:className => \"interact-flex-row interact-widget\")), Dict{String, Tuple{Observables.AbstractObservable, Union{Nothing, Bool}}}(\"changes\" => (Observable(0), nothing), \"index\" => (Observable{Any}(10), nothing)), Set{String}(), nothing, WebIO.Asset[WebIO.Asset(\"js\", \"knockout\", \"/home/dushya/.julia/packages/Knockout/HReiN/src/../assets/knockout.js\"), WebIO.Asset(\"js\", \"knockout_punches\", \"/home/dushya/.julia/packages/Knockout/HReiN/src/../assets/knockout_punches.js\"), WebIO.Asset(\"js\", nothing, \"/home/dushya/.julia/packages/InteractBase/LJXv3/src/../assets/all.js\"), WebIO.Asset(\"css\", nothing, \"/home/dushya/.julia/packages/InteractBase/LJXv3/src/../assets/style.css\"), WebIO.Asset(\"css\", nothing, \"/home/dushya/.julia/packages/Interact/PENUy/src/../assets/bulma_confined.min.css\")], Dict{Any, Any}(\"changes\" => Any[WebIO.JSString(\"(function (val){return (val!=this.model[\\\"changes\\\"]()) ? (this.valueFromJulia[\\\"changes\\\"]=true, this.model[\\\"changes\\\"](val)) : undefined})\")], \"index\" => Any[WebIO.JSString(\"(function (val){return (val!=this.model[\\\"index\\\"]()) ? (this.valueFromJulia[\\\"index\\\"]=true, this.model[\\\"index\\\"](val)) : undefined})\")]), WebIO.ConnectionPool(Channel{Any}(32), Set{WebIO.AbstractConnection}(), Base.GenericCondition{ReentrantLock}(Base.IntrusiveLinkedList{Task}(Task (runnable) @0x00007f1942d701a0, Task (runnable) @0x00007f1942d701a0), ReentrantLock(nothing, 0x00000000, 0x00, Base.GenericCondition{Base.Threads.SpinLock}(Base.IntrusiveLinkedList{Task}(nothing, nothing), Base.Threads.SpinLock(0)), (1, 139747372566960, 0)))), WebIO.JSString[WebIO.JSString(\"function () {\\n    var handler = (function (ko, koPunches) {\\n    ko.punches.enableAll();\\n    ko.bindingHandlers.numericValue = {\\n        init: function(element, valueAccessor, allBindings, data, context) {\\n            var stringified = ko.observable(ko.unwrap(valueAccessor()));\\n            stringified.subscribe(function(value) {\\n                var val = parseFloat(value);\\n                if (!isNaN(val)) {\\n                    valueAccessor()(val);\\n                }\\n            });\\n            valueAccessor().subscribe(function(value) {\\n                var str = JSON.stringify(value);\\n                if ((str == \\\"0\\\") && ([\\\"-0\\\", \\\"-0.\\\"].indexOf(stringified()) >= 0))\\n                     return;\\n                 if ([\\\"null\\\", \\\"\\\"].indexOf(str) >= 0)\\n                     return;\\n                stringified(str);\\n            });\\n            ko.applyBindingsToNode(\\n                element,\\n                {\\n                    value: stringified,\\n                    valueUpdate: allBindings.get('valueUpdate'),\\n                },\\n                context,\\n            );\\n        }\\n    };\\n    var json_data = {\\\"formatted_vals\\\":[\\\"0.1\\\",\\\"0.2\\\",\\\"0.3\\\",\\\"0.4\\\",\\\"0.5\\\",\\\"0.6\\\",\\\"0.7\\\",\\\"0.8\\\",\\\"0.9\\\",\\\"1.0\\\",\\\"1.1\\\",\\\"1.2\\\",\\\"1.3\\\",\\\"1.4\\\",\\\"1.5\\\",\\\"1.6\\\",\\\"1.7\\\",\\\"1.8\\\",\\\"1.9\\\",\\\"2.0\\\"],\\\"changes\\\":WebIO.getval({\\\"name\\\":\\\"changes\\\",\\\"scope\\\":\\\"14980754580628070004\\\",\\\"id\\\":\\\"4363116138620012366\\\",\\\"type\\\":\\\"observable\\\"}),\\\"index\\\":WebIO.getval({\\\"name\\\":\\\"index\\\",\\\"scope\\\":\\\"14980754580628070004\\\",\\\"id\\\":\\\"12396614532635669352\\\",\\\"type\\\":\\\"observable\\\"})};\\n    var self = this;\\n    function AppViewModel() {\\n        for (var key in json_data) {\\n            var el = json_data[key];\\n            this[key] = Array.isArray(el) ? ko.observableArray(el) : ko.observable(el);\\n        }\\n        \\n        [this[\\\"formatted_val\\\"]=ko.computed(    function(){\\n        return this.formatted_vals()[parseInt(this.index())-(1)];\\n    }\\n,this)]\\n        [this[\\\"changes\\\"].subscribe((function (val){!(this.valueFromJulia[\\\"changes\\\"]) ? (WebIO.setval({\\\"name\\\":\\\"changes\\\",\\\"scope\\\":\\\"14980754580628070004\\\",\\\"id\\\":\\\"4363116138620012366\\\",\\\"type\\\":\\\"observable\\\"},val)) : undefined; return this.valueFromJulia[\\\"changes\\\"]=false}),self),this[\\\"index\\\"].subscribe((function (val){!(this.valueFromJulia[\\\"index\\\"]) ? (WebIO.setval({\\\"name\\\":\\\"index\\\",\\\"scope\\\":\\\"14980754580628070004\\\",\\\"id\\\":\\\"12396614532635669352\\\",\\\"type\\\":\\\"observable\\\"},val)) : undefined; return this.valueFromJulia[\\\"index\\\"]=false}),self)]\\n        \\n    }\\n    self.model = new AppViewModel();\\n    self.valueFromJulia = {};\\n    for (var key in json_data) {\\n        self.valueFromJulia[key] = false;\\n    }\\n    ko.applyBindings(self.model, self.dom);\\n}\\n);\\n    (WebIO.importBlock({\\\"data\\\":[{\\\"name\\\":\\\"knockout\\\",\\\"type\\\":\\\"js\\\",\\\"url\\\":\\\"/assetserver/727383f2a47bd31570b7da84eee7b022dd6d7c78-knockout.js\\\"},{\\\"name\\\":\\\"knockout_punches\\\",\\\"type\\\":\\\"js\\\",\\\"url\\\":\\\"/assetserver/382b41b3b1bd9f26f75861d360bad7f8beea211f-knockout_punches.js\\\"}],\\\"type\\\":\\\"async_block\\\"})).then((imports) => handler.apply(this, imports));\\n}\\n\")])], Dict{Symbol, Any}(:className => \"field interact-widget\")), WebIO.Node{WebIO.DOM}(WebIO.DOM(:html, :div), Any[WebIO.Node{WebIO.DOM}(WebIO.DOM(:html, :div), Any[WebIO.Scope(WebIO.Node{WebIO.DOM}(WebIO.DOM(:html, :div), Any[], Dict{Symbol, Any}(:id => \"container\")), Dict{String, Tuple{Observables.AbstractObservable, Union{Nothing, Bool}}}(\"value\" => (Observable(\"\\\\;\\\\;\"), nothing)), Set{String}(), nothing, WebIO.Asset[WebIO.Asset(\"js\", nothing, \"/home/dushya/.julia/packages/InteractBase/LJXv3/src/../assets/katex.min.js\"), WebIO.Asset(\"css\", nothing, \"/home/dushya/.julia/packages/InteractBase/LJXv3/src/../assets/katex.min.css\")], Dict{Any, Any}(\"value\" => Any[WebIO.JSString(\"(function (txt){return this.k.render(txt,this.container)})\")]), WebIO.ConnectionPool(Channel{Any}(32), Set{WebIO.AbstractConnection}(), Base.GenericCondition{ReentrantLock}(Base.IntrusiveLinkedList{Task}(Task (runnable) @0x00007f19436db850, Task (runnable) @0x00007f19436db850), ReentrantLock(nothing, 0x00000000, 0x00, Base.GenericCondition{Base.Threads.SpinLock}(Base.IntrusiveLinkedList{Task}(nothing, nothing), Base.Threads.SpinLock(0)), (2, 139747147071904, 528280977503)))), WebIO.JSString[WebIO.JSString(\"function () {\\n    var handler = ((function (k){this.k=k; this.container=this.dom.querySelector(\\\"#container\\\"); return k.render(\\\"\\\\\\\\;\\\\\\\\;\\\",this.container)}));\\n    (WebIO.importBlock({\\\"data\\\":[{\\\"name\\\":null,\\\"type\\\":\\\"js\\\",\\\"url\\\":\\\"/assetserver/dd22ed1bf1896c2748f3fe616ce0b838adc895c1-katex.min.js\\\"},{\\\"name\\\":null,\\\"type\\\":\\\"css\\\",\\\"url\\\":\\\"/assetserver/46517a424aa5e6cffc1360d7e0848b601c584ee3-katex.min.css\\\"}],\\\"type\\\":\\\"async_block\\\"})).then((imports) => handler.apply(this, imports));\\n}\\n\")])], Dict{Symbol, Any}(:className => \"interact-widget\")), WebIO.Node{WebIO.DOM}(WebIO.DOM(:html, :div), Any[WebIO.Scope(WebIO.Node{WebIO.DOM}(WebIO.DOM(:html, :button), Any[\"run\"], Dict{Symbol, Any}(:attributes => Dict{Any, Any}(\"data-bind\" => \"click: function (){this.clicks(this.clicks()+1)}, css: {'is-loading' : loading}\"), :className => \"is-medium button is-primary\", :style => Dict{String, Any}())), Dict{String, Tuple{Observables.AbstractObservable, Union{Nothing, Bool}}}(\"loading\" => (Observable(false), nothing), \"clicks\" => (Observable(0), nothing)), Set{String}(), nothing, WebIO.Asset[WebIO.Asset(\"js\", \"knockout\", \"/home/dushya/.julia/packages/Knockout/HReiN/src/../assets/knockout.js\"), WebIO.Asset(\"js\", \"knockout_punches\", \"/home/dushya/.julia/packages/Knockout/HReiN/src/../assets/knockout_punches.js\"), WebIO.Asset(\"js\", nothing, \"/home/dushya/.julia/packages/InteractBase/LJXv3/src/../assets/all.js\"), WebIO.Asset(\"css\", nothing, \"/home/dushya/.julia/packages/InteractBase/LJXv3/src/../assets/style.css\"), WebIO.Asset(\"css\", nothing, \"/home/dushya/.julia/packages/Interact/PENUy/src/../assets/bulma_confined.min.css\")], Dict{Any, Any}(\"loading\" => Any[WebIO.JSString(\"(function (val){return (val!=this.model[\\\"loading\\\"]()) ? (this.valueFromJulia[\\\"loading\\\"]=true, this.model[\\\"loading\\\"](val)) : undefined})\")], \"clicks\" => Any[WebIO.JSString(\"(function (val){return (val!=this.model[\\\"clicks\\\"]()) ? (this.valueFromJulia[\\\"clicks\\\"]=true, this.model[\\\"clicks\\\"](val)) : undefined})\")]), WebIO.ConnectionPool(Channel{Any}(32), Set{WebIO.AbstractConnection}(), Base.GenericCondition{ReentrantLock}(Base.IntrusiveLinkedList{Task}(Task (runnable) @0x00007f1942d72a40, Task (runnable) @0x00007f1942d72a40), ReentrantLock(nothing, 0x00000000, 0x00, Base.GenericCondition{Base.Threads.SpinLock}(Base.IntrusiveLinkedList{Task}(nothing, nothing), Base.Threads.SpinLock(0)), (0, 139745418339296, 139745397385936)))), WebIO.JSString[WebIO.JSString(\"function () {\\n    var handler = (function (ko, koPunches) {\\n    ko.punches.enableAll();\\n    ko.bindingHandlers.numericValue = {\\n        init: function(element, valueAccessor, allBindings, data, context) {\\n            var stringified = ko.observable(ko.unwrap(valueAccessor()));\\n            stringified.subscribe(function(value) {\\n                var val = parseFloat(value);\\n                if (!isNaN(val)) {\\n                    valueAccessor()(val);\\n                }\\n            });\\n            valueAccessor().subscribe(function(value) {\\n                var str = JSON.stringify(value);\\n                if ((str == \\\"0\\\") && ([\\\"-0\\\", \\\"-0.\\\"].indexOf(stringified()) >= 0))\\n                     return;\\n                 if ([\\\"null\\\", \\\"\\\"].indexOf(str) >= 0)\\n                     return;\\n                stringified(str);\\n            });\\n            ko.applyBindingsToNode(\\n                element,\\n                {\\n                    value: stringified,\\n                    valueUpdate: allBindings.get('valueUpdate'),\\n                },\\n                context,\\n            );\\n        }\\n    };\\n    var json_data = {\\\"loading\\\":WebIO.getval({\\\"name\\\":\\\"loading\\\",\\\"scope\\\":\\\"10548724269727143049\\\",\\\"id\\\":\\\"2858496469399706829\\\",\\\"type\\\":\\\"observable\\\"}),\\\"clicks\\\":WebIO.getval({\\\"name\\\":\\\"clicks\\\",\\\"scope\\\":\\\"10548724269727143049\\\",\\\"id\\\":\\\"9363589808112291099\\\",\\\"type\\\":\\\"observable\\\"})};\\n    var self = this;\\n    function AppViewModel() {\\n        for (var key in json_data) {\\n            var el = json_data[key];\\n            this[key] = Array.isArray(el) ? ko.observableArray(el) : ko.observable(el);\\n        }\\n        \\n        \\n        [this[\\\"loading\\\"].subscribe((function (val){!(this.valueFromJulia[\\\"loading\\\"]) ? (WebIO.setval({\\\"name\\\":\\\"loading\\\",\\\"scope\\\":\\\"10548724269727143049\\\",\\\"id\\\":\\\"2858496469399706829\\\",\\\"type\\\":\\\"observable\\\"},val)) : undefined; return this.valueFromJulia[\\\"loading\\\"]=false}),self),this[\\\"clicks\\\"].subscribe((function (val){!(this.valueFromJulia[\\\"clicks\\\"]) ? (WebIO.setval({\\\"name\\\":\\\"clicks\\\",\\\"scope\\\":\\\"10548724269727143049\\\",\\\"id\\\":\\\"9363589808112291099\\\",\\\"type\\\":\\\"observable\\\"},val)) : undefined; return this.valueFromJulia[\\\"clicks\\\"]=false}),self)]\\n        \\n    }\\n    self.model = new AppViewModel();\\n    self.valueFromJulia = {};\\n    for (var key in json_data) {\\n        self.valueFromJulia[key] = false;\\n    }\\n    ko.applyBindings(self.model, self.dom);\\n}\\n);\\n    (WebIO.importBlock({\\\"data\\\":[{\\\"name\\\":\\\"knockout\\\",\\\"type\\\":\\\"js\\\",\\\"url\\\":\\\"/assetserver/727383f2a47bd31570b7da84eee7b022dd6d7c78-knockout.js\\\"},{\\\"name\\\":\\\"knockout_punches\\\",\\\"type\\\":\\\"js\\\",\\\"url\\\":\\\"/assetserver/382b41b3b1bd9f26f75861d360bad7f8beea211f-knockout_punches.js\\\"}],\\\"type\\\":\\\"async_block\\\"})).then((imports) => handler.apply(this, imports));\\n}\\n\")])], Dict{Symbol, Any}(:className => \"field interact-widget\")), WebIO.Node{WebIO.DOM}(WebIO.DOM(:html, :div), Any[WebIO.Scope(WebIO.Node{WebIO.DOM}(WebIO.DOM(:html, :div), Any[], Dict{Symbol, Any}(:id => \"container\")), Dict{String, Tuple{Observables.AbstractObservable, Union{Nothing, Bool}}}(\"value\" => (Observable(\"\\\\;\\\\;\"), nothing)), Set{String}(), nothing, WebIO.Asset[WebIO.Asset(\"js\", nothing, \"/home/dushya/.julia/packages/InteractBase/LJXv3/src/../assets/katex.min.js\"), WebIO.Asset(\"css\", nothing, \"/home/dushya/.julia/packages/InteractBase/LJXv3/src/../assets/katex.min.css\")], Dict{Any, Any}(\"value\" => Any[WebIO.JSString(\"(function (txt){return this.k.render(txt,this.container)})\")]), WebIO.ConnectionPool(Channel{Any}(32), Set{WebIO.AbstractConnection}(), Base.GenericCondition{ReentrantLock}(Base.IntrusiveLinkedList{Task}(Task (runnable) @0x00007f19436db850, Task (runnable) @0x00007f19436db850), ReentrantLock(nothing, 0x00000000, 0x00, Base.GenericCondition{Base.Threads.SpinLock}(Base.IntrusiveLinkedList{Task}(nothing, nothing), Base.Threads.SpinLock(0)), (2, 139747147071904, 528280977503)))), WebIO.JSString[WebIO.JSString(\"function () {\\n    var handler = ((function (k){this.k=k; this.container=this.dom.querySelector(\\\"#container\\\"); return k.render(\\\"\\\\\\\\;\\\\\\\\;\\\",this.container)}));\\n    (WebIO.importBlock({\\\"data\\\":[{\\\"name\\\":null,\\\"type\\\":\\\"js\\\",\\\"url\\\":\\\"/assetserver/dd22ed1bf1896c2748f3fe616ce0b838adc895c1-katex.min.js\\\"},{\\\"name\\\":null,\\\"type\\\":\\\"css\\\",\\\"url\\\":\\\"/assetserver/46517a424aa5e6cffc1360d7e0848b601c584ee3-katex.min.css\\\"}],\\\"type\\\":\\\"async_block\\\"})).then((imports) => handler.apply(this, imports));\\n}\\n\")])], Dict{Symbol, Any}(:className => \"interact-widget\")), WebIO.Node{WebIO.DOM}(WebIO.DOM(:html, :div), Any[WebIO.Scope(WebIO.Node{WebIO.DOM}(WebIO.DOM(:html, :button), Any[\"stop\"], Dict{Symbol, Any}(:attributes => Dict{Any, Any}(\"data-bind\" => \"click: function (){this.clicks(this.clicks()+1)}, css: {'is-loading' : loading}\"), :className => \"is-medium button is-primary\", :style => Dict{String, Any}())), Dict{String, Tuple{Observables.AbstractObservable, Union{Nothing, Bool}}}(\"loading\" => (Observable(false), nothing), \"clicks\" => (Observable(0), nothing)), Set{String}(), nothing, WebIO.Asset[WebIO.Asset(\"js\", \"knockout\", \"/home/dushya/.julia/packages/Knockout/HReiN/src/../assets/knockout.js\"), WebIO.Asset(\"js\", \"knockout_punches\", \"/home/dushya/.julia/packages/Knockout/HReiN/src/../assets/knockout_punches.js\"), WebIO.Asset(\"js\", nothing, \"/home/dushya/.julia/packages/InteractBase/LJXv3/src/../assets/all.js\"), WebIO.Asset(\"css\", nothing, \"/home/dushya/.julia/packages/InteractBase/LJXv3/src/../assets/style.css\"), WebIO.Asset(\"css\", nothing, \"/home/dushya/.julia/packages/Interact/PENUy/src/../assets/bulma_confined.min.css\")], Dict{Any, Any}(\"loading\" => Any[WebIO.JSString(\"(function (val){return (val!=this.model[\\\"loading\\\"]()) ? (this.valueFromJulia[\\\"loading\\\"]=true, this.model[\\\"loading\\\"](val)) : undefined})\")], \"clicks\" => Any[WebIO.JSString(\"(function (val){return (val!=this.model[\\\"clicks\\\"]()) ? (this.valueFromJulia[\\\"clicks\\\"]=true, this.model[\\\"clicks\\\"](val)) : undefined})\")]), WebIO.ConnectionPool(Channel{Any}(32), Set{WebIO.AbstractConnection}(), Base.GenericCondition{ReentrantLock}(Base.IntrusiveLinkedList{Task}(Task (runnable) @0x00007f1942db2a40, Task (runnable) @0x00007f1942db2a40), ReentrantLock(nothing, 0x00000000, 0x00, Base.GenericCondition{Base.Threads.SpinLock}(Base.IntrusiveLinkedList{Task}(nothing, nothing), Base.Threads.SpinLock(0)), (0, 139745418744736, 139746502438928)))), WebIO.JSString[WebIO.JSString(\"function () {\\n    var handler = (function (ko, koPunches) {\\n    ko.punches.enableAll();\\n    ko.bindingHandlers.numericValue = {\\n        init: function(element, valueAccessor, allBindings, data, context) {\\n            var stringified = ko.observable(ko.unwrap(valueAccessor()));\\n            stringified.subscribe(function(value) {\\n                var val = parseFloat(value);\\n                if (!isNaN(val)) {\\n                    valueAccessor()(val);\\n                }\\n            });\\n            valueAccessor().subscribe(function(value) {\\n                var str = JSON.stringify(value);\\n                if ((str == \\\"0\\\") && ([\\\"-0\\\", \\\"-0.\\\"].indexOf(stringified()) >= 0))\\n                     return;\\n                 if ([\\\"null\\\", \\\"\\\"].indexOf(str) >= 0)\\n                     return;\\n                stringified(str);\\n            });\\n            ko.applyBindingsToNode(\\n                element,\\n                {\\n                    value: stringified,\\n                    valueUpdate: allBindings.get('valueUpdate'),\\n                },\\n                context,\\n            );\\n        }\\n    };\\n    var json_data = {\\\"loading\\\":WebIO.getval({\\\"name\\\":\\\"loading\\\",\\\"scope\\\":\\\"11060011910766523778\\\",\\\"id\\\":\\\"7450259596966962165\\\",\\\"type\\\":\\\"observable\\\"}),\\\"clicks\\\":WebIO.getval({\\\"name\\\":\\\"clicks\\\",\\\"scope\\\":\\\"11060011910766523778\\\",\\\"id\\\":\\\"7491154801866266196\\\",\\\"type\\\":\\\"observable\\\"})};\\n    var self = this;\\n    function AppViewModel() {\\n        for (var key in json_data) {\\n            var el = json_data[key];\\n            this[key] = Array.isArray(el) ? ko.observableArray(el) : ko.observable(el);\\n        }\\n        \\n        \\n        [this[\\\"loading\\\"].subscribe((function (val){!(this.valueFromJulia[\\\"loading\\\"]) ? (WebIO.setval({\\\"name\\\":\\\"loading\\\",\\\"scope\\\":\\\"11060011910766523778\\\",\\\"id\\\":\\\"7450259596966962165\\\",\\\"type\\\":\\\"observable\\\"},val)) : undefined; return this.valueFromJulia[\\\"loading\\\"]=false}),self),this[\\\"clicks\\\"].subscribe((function (val){!(this.valueFromJulia[\\\"clicks\\\"]) ? (WebIO.setval({\\\"name\\\":\\\"clicks\\\",\\\"scope\\\":\\\"11060011910766523778\\\",\\\"id\\\":\\\"7491154801866266196\\\",\\\"type\\\":\\\"observable\\\"},val)) : undefined; return this.valueFromJulia[\\\"clicks\\\"]=false}),self)]\\n        \\n    }\\n    self.model = new AppViewModel();\\n    self.valueFromJulia = {};\\n    for (var key in json_data) {\\n        self.valueFromJulia[key] = false;\\n    }\\n    ko.applyBindings(self.model, self.dom);\\n}\\n);\\n    (WebIO.importBlock({\\\"data\\\":[{\\\"name\\\":\\\"knockout\\\",\\\"type\\\":\\\"js\\\",\\\"url\\\":\\\"/assetserver/727383f2a47bd31570b7da84eee7b022dd6d7c78-knockout.js\\\"},{\\\"name\\\":\\\"knockout_punches\\\",\\\"type\\\":\\\"js\\\",\\\"url\\\":\\\"/assetserver/382b41b3b1bd9f26f75861d360bad7f8beea211f-knockout_punches.js\\\"}],\\\"type\\\":\\\"async_block\\\"})).then((imports) => handler.apply(this, imports));\\n}\\n\")])], Dict{Symbol, Any}(:className => \"field interact-widget\")), WebIO.Node{WebIO.DOM}(WebIO.DOM(:html, :div), Any[WebIO.Scope(WebIO.Node{WebIO.DOM}(WebIO.DOM(:html, :div), Any[], Dict{Symbol, Any}(:id => \"container\")), Dict{String, Tuple{Observables.AbstractObservable, Union{Nothing, Bool}}}(\"value\" => (Observable(\"\\\\;\\\\;\"), nothing)), Set{String}(), nothing, WebIO.Asset[WebIO.Asset(\"js\", nothing, \"/home/dushya/.julia/packages/InteractBase/LJXv3/src/../assets/katex.min.js\"), WebIO.Asset(\"css\", nothing, \"/home/dushya/.julia/packages/InteractBase/LJXv3/src/../assets/katex.min.css\")], Dict{Any, Any}(\"value\" => Any[WebIO.JSString(\"(function (txt){return this.k.render(txt,this.container)})\")]), WebIO.ConnectionPool(Channel{Any}(32), Set{WebIO.AbstractConnection}(), Base.GenericCondition{ReentrantLock}(Base.IntrusiveLinkedList{Task}(Task (runnable) @0x00007f19436db850, Task (runnable) @0x00007f19436db850), ReentrantLock(nothing, 0x00000000, 0x00, Base.GenericCondition{Base.Threads.SpinLock}(Base.IntrusiveLinkedList{Task}(nothing, nothing), Base.Threads.SpinLock(0)), (2, 139747147071904, 528280977503)))), WebIO.JSString[WebIO.JSString(\"function () {\\n    var handler = ((function (k){this.k=k; this.container=this.dom.querySelector(\\\"#container\\\"); return k.render(\\\"\\\\\\\\;\\\\\\\\;\\\",this.container)}));\\n    (WebIO.importBlock({\\\"data\\\":[{\\\"name\\\":null,\\\"type\\\":\\\"js\\\",\\\"url\\\":\\\"/assetserver/dd22ed1bf1896c2748f3fe616ce0b838adc895c1-katex.min.js\\\"},{\\\"name\\\":null,\\\"type\\\":\\\"css\\\",\\\"url\\\":\\\"/assetserver/46517a424aa5e6cffc1360d7e0848b601c584ee3-katex.min.css\\\"}],\\\"type\\\":\\\"async_block\\\"})).then((imports) => handler.apply(this, imports));\\n}\\n\")])], Dict{Symbol, Any}(:className => \"interact-widget\")), WebIO.Node{WebIO.DOM}(WebIO.DOM(:html, :div), Any[WebIO.Scope(WebIO.Node{WebIO.DOM}(WebIO.DOM(:html, :button), Any[\"save\"], Dict{Symbol, Any}(:attributes => Dict{Any, Any}(\"data-bind\" => \"click: function (){this.clicks(this.clicks()+1)}, css: {'is-loading' : loading}\"), :className => \"is-medium button is-primary\", :style => Dict{String, Any}())), Dict{String, Tuple{Observables.AbstractObservable, Union{Nothing, Bool}}}(\"loading\" => (Observable(false), nothing), \"clicks\" => (Observable(0), nothing)), Set{String}(), nothing, WebIO.Asset[WebIO.Asset(\"js\", \"knockout\", \"/home/dushya/.julia/packages/Knockout/HReiN/src/../assets/knockout.js\"), WebIO.Asset(\"js\", \"knockout_punches\", \"/home/dushya/.julia/packages/Knockout/HReiN/src/../assets/knockout_punches.js\"), WebIO.Asset(\"js\", nothing, \"/home/dushya/.julia/packages/InteractBase/LJXv3/src/../assets/all.js\"), WebIO.Asset(\"css\", nothing, \"/home/dushya/.julia/packages/InteractBase/LJXv3/src/../assets/style.css\"), WebIO.Asset(\"css\", nothing, \"/home/dushya/.julia/packages/Interact/PENUy/src/../assets/bulma_confined.min.css\")], Dict{Any, Any}(\"loading\" => Any[WebIO.JSString(\"(function (val){return (val!=this.model[\\\"loading\\\"]()) ? (this.valueFromJulia[\\\"loading\\\"]=true, this.model[\\\"loading\\\"](val)) : undefined})\")], \"clicks\" => Any[WebIO.JSString(\"(function (val){return (val!=this.model[\\\"clicks\\\"]()) ? (this.valueFromJulia[\\\"clicks\\\"]=true, this.model[\\\"clicks\\\"](val)) : undefined})\")]), WebIO.ConnectionPool(Channel{Any}(32), Set{WebIO.AbstractConnection}(), Base.GenericCondition{ReentrantLock}(Base.IntrusiveLinkedList{Task}(Task (runnable) @0x00007f1942fc52d0, Task (runnable) @0x00007f1942fc52d0), ReentrantLock(nothing, 0x00000000, 0x00, Base.GenericCondition{Base.Threads.SpinLock}(Base.IntrusiveLinkedList{Task}(nothing, nothing), Base.Threads.SpinLock(0)), (8, 139747372562352, 139747223776880)))), WebIO.JSString[WebIO.JSString(\"function () {\\n    var handler = (function (ko, koPunches) {\\n    ko.punches.enableAll();\\n    ko.bindingHandlers.numericValue = {\\n        init: function(element, valueAccessor, allBindings, data, context) {\\n            var stringified = ko.observable(ko.unwrap(valueAccessor()));\\n            stringified.subscribe(function(value) {\\n                var val = parseFloat(value);\\n                if (!isNaN(val)) {\\n                    valueAccessor()(val);\\n                }\\n            });\\n            valueAccessor().subscribe(function(value) {\\n                var str = JSON.stringify(value);\\n                if ((str == \\\"0\\\") && ([\\\"-0\\\", \\\"-0.\\\"].indexOf(stringified()) >= 0))\\n                     return;\\n                 if ([\\\"null\\\", \\\"\\\"].indexOf(str) >= 0)\\n                     return;\\n                stringified(str);\\n            });\\n            ko.applyBindingsToNode(\\n                element,\\n                {\\n                    value: stringified,\\n                    valueUpdate: allBindings.get('valueUpdate'),\\n                },\\n                context,\\n            );\\n        }\\n    };\\n    var json_data = {\\\"loading\\\":WebIO.getval({\\\"name\\\":\\\"loading\\\",\\\"scope\\\":\\\"931390484095691216\\\",\\\"id\\\":\\\"11855753016470073753\\\",\\\"type\\\":\\\"observable\\\"}),\\\"clicks\\\":WebIO.getval({\\\"name\\\":\\\"clicks\\\",\\\"scope\\\":\\\"931390484095691216\\\",\\\"id\\\":\\\"949466346223388166\\\",\\\"type\\\":\\\"observable\\\"})};\\n    var self = this;\\n    function AppViewModel() {\\n        for (var key in json_data) {\\n            var el = json_data[key];\\n            this[key] = Array.isArray(el) ? ko.observableArray(el) : ko.observable(el);\\n        }\\n        \\n        \\n        [this[\\\"loading\\\"].subscribe((function (val){!(this.valueFromJulia[\\\"loading\\\"]) ? (WebIO.setval({\\\"name\\\":\\\"loading\\\",\\\"scope\\\":\\\"931390484095691216\\\",\\\"id\\\":\\\"11855753016470073753\\\",\\\"type\\\":\\\"observable\\\"},val)) : undefined; return this.valueFromJulia[\\\"loading\\\"]=false}),self),this[\\\"clicks\\\"].subscribe((function (val){!(this.valueFromJulia[\\\"clicks\\\"]) ? (WebIO.setval({\\\"name\\\":\\\"clicks\\\",\\\"scope\\\":\\\"931390484095691216\\\",\\\"id\\\":\\\"949466346223388166\\\",\\\"type\\\":\\\"observable\\\"},val)) : undefined; return this.valueFromJulia[\\\"clicks\\\"]=false}),self)]\\n        \\n    }\\n    self.model = new AppViewModel();\\n    self.valueFromJulia = {};\\n    for (var key in json_data) {\\n        self.valueFromJulia[key] = false;\\n    }\\n    ko.applyBindings(self.model, self.dom);\\n}\\n);\\n    (WebIO.importBlock({\\\"data\\\":[{\\\"name\\\":\\\"knockout\\\",\\\"type\\\":\\\"js\\\",\\\"url\\\":\\\"/assetserver/727383f2a47bd31570b7da84eee7b022dd6d7c78-knockout.js\\\"},{\\\"name\\\":\\\"knockout_punches\\\",\\\"type\\\":\\\"js\\\",\\\"url\\\":\\\"/assetserver/382b41b3b1bd9f26f75861d360bad7f8beea211f-knockout_punches.js\\\"}],\\\"type\\\":\\\"async_block\\\"})).then((imports) => handler.apply(this, imports));\\n}\\n\")])], Dict{Symbol, Any}(:className => \"field interact-widget\"))], Dict{Symbol, Any}(:style => Dict(\"display\" => \"flex\", \"flex-direction\" => \"row\")))], Dict{Symbol, Any}(:style => Dict(\"display\" => \"flex\", \"flex-direction\" => \"column\"))), WebIO.Node{WebIO.DOM}(WebIO.DOM(:html, :div), Any[WebIO.Scope(WebIO.Node{WebIO.DOM}(WebIO.DOM(:html, :div), Any[], Dict{Symbol, Any}(:id => \"container\")), Dict{String, Tuple{Observables.AbstractObservable, Union{Nothing, Bool}}}(\"value\" => (Observable(\"\\\\;\\\\;\"), nothing)), Set{String}(), nothing, WebIO.Asset[WebIO.Asset(\"js\", nothing, \"/home/dushya/.julia/packages/InteractBase/LJXv3/src/../assets/katex.min.js\"), WebIO.Asset(\"css\", nothing, \"/home/dushya/.julia/packages/InteractBase/LJXv3/src/../assets/katex.min.css\")], Dict{Any, Any}(\"value\" => Any[WebIO.JSString(\"(function (txt){return this.k.render(txt,this.container)})\")]), WebIO.ConnectionPool(Channel{Any}(32), Set{WebIO.AbstractConnection}(), Base.GenericCondition{ReentrantLock}(Base.IntrusiveLinkedList{Task}(Task (runnable) @0x00007f19436db850, Task (runnable) @0x00007f19436db850), ReentrantLock(nothing, 0x00000000, 0x00, Base.GenericCondition{Base.Threads.SpinLock}(Base.IntrusiveLinkedList{Task}(nothing, nothing), Base.Threads.SpinLock(0)), (2, 139747147071904, 528280977503)))), WebIO.JSString[WebIO.JSString(\"function () {\\n    var handler = ((function (k){this.k=k; this.container=this.dom.querySelector(\\\"#container\\\"); return k.render(\\\"\\\\\\\\;\\\\\\\\;\\\",this.container)}));\\n    (WebIO.importBlock({\\\"data\\\":[{\\\"name\\\":null,\\\"type\\\":\\\"js\\\",\\\"url\\\":\\\"/assetserver/dd22ed1bf1896c2748f3fe616ce0b838adc895c1-katex.min.js\\\"},{\\\"name\\\":null,\\\"type\\\":\\\"css\\\",\\\"url\\\":\\\"/assetserver/46517a424aa5e6cffc1360d7e0848b601c584ee3-katex.min.css\\\"}],\\\"type\\\":\\\"async_block\\\"})).then((imports) => handler.apply(this, imports));\\n}\\n\")])], Dict{Symbol, Any}(:className => \"interact-widget\")), Observable(Luxor.Drawing(430.0, 430.0, \"\", Cairo.CairoSurfaceBase{UInt32}(Ptr{Nothing} @0x0000000000000000, 430.0, 430.0), Cairo.CairoContext(Ptr{Nothing} @0x0000000006211bc0, Cairo.CairoSurfaceBase{UInt32}(Ptr{Nothing} @0x0000000000000000, 430.0, 430.0), Ptr{Nothing} @0x000000000537d250), :png, 0.5, 0.5, 0.5, 0.5, IOBuffer(data=UInt8[...], readable=true, writable=true, seekable=true, append=false, size=2392, maxsize=Inf, ptr=2393, mark=-1), UInt8[0x89, 0x50, 0x4e, 0x47, 0x0d, 0x0a, 0x1a, 0x0a, 0x00, 0x00  …  0x00, 0x00, 0x49, 0x45, 0x4e, 0x44, 0xae, 0x42, 0x60, 0x82], false)), WebIO.Node{WebIO.DOM}(WebIO.DOM(:html, :div), Any[WebIO.Scope(WebIO.Node{WebIO.DOM}(WebIO.DOM(:html, :div), Any[], Dict{Symbol, Any}(:id => \"container\")), Dict{String, Tuple{Observables.AbstractObservable, Union{Nothing, Bool}}}(\"value\" => (Observable(\"\\\\;\\\\;\"), nothing)), Set{String}(), nothing, WebIO.Asset[WebIO.Asset(\"js\", nothing, \"/home/dushya/.julia/packages/InteractBase/LJXv3/src/../assets/katex.min.js\"), WebIO.Asset(\"css\", nothing, \"/home/dushya/.julia/packages/InteractBase/LJXv3/src/../assets/katex.min.css\")], Dict{Any, Any}(\"value\" => Any[WebIO.JSString(\"(function (txt){return this.k.render(txt,this.container)})\")]), WebIO.ConnectionPool(Channel{Any}(32), Set{WebIO.AbstractConnection}(), Base.GenericCondition{ReentrantLock}(Base.IntrusiveLinkedList{Task}(Task (runnable) @0x00007f19436db850, Task (runnable) @0x00007f19436db850), ReentrantLock(nothing, 0x00000000, 0x00, Base.GenericCondition{Base.Threads.SpinLock}(Base.IntrusiveLinkedList{Task}(nothing, nothing), Base.Threads.SpinLock(0)), (2, 139747147071904, 528280977503)))), WebIO.JSString[WebIO.JSString(\"function () {\\n    var handler = ((function (k){this.k=k; this.container=this.dom.querySelector(\\\"#container\\\"); return k.render(\\\"\\\\\\\\;\\\\\\\\;\\\",this.container)}));\\n    (WebIO.importBlock({\\\"data\\\":[{\\\"name\\\":null,\\\"type\\\":\\\"js\\\",\\\"url\\\":\\\"/assetserver/dd22ed1bf1896c2748f3fe616ce0b838adc895c1-katex.min.js\\\"},{\\\"name\\\":null,\\\"type\\\":\\\"css\\\",\\\"url\\\":\\\"/assetserver/46517a424aa5e6cffc1360d7e0848b601c584ee3-katex.min.css\\\"}],\\\"type\\\":\\\"async_block\\\"})).then((imports) => handler.apply(this, imports));\\n}\\n\")])], Dict{Symbol, Any}(:className => \"interact-widget\")), WebIO.Node{WebIO.DOM}(WebIO.DOM(:html, :div), Any[], Dict{Symbol, Any}(:style => Dict(\"display\" => \"flex\", \"flex-direction\" => \"column\")))], Dict{Symbol, Any}(:style => Dict(\"display\" => \"flex\", \"flex-direction\" => \"row\")))], Dict{Symbol, Any}(:style => Dict(\"display\" => \"flex\", \"flex-direction\" => \"column\")))"
      ]
     },
     "execution_count": 27,
     "metadata": {
      "application/vnd.webio.node+json": {
       "kernelId": "421b23d4-61f0-4273-9252-a6ecc987a4b2"
      }
     },
     "output_type": "execute_result"
    }
   ],
   "source": [
    "animate_sim(model, show_patches=true)"
   ]
  },
  {
   "cell_type": "markdown",
   "metadata": {},
   "source": [
    "After defining the `step_rule!` function we can also choose to create an interactive application (which currently works in Jupyter with WebIO installation) as "
   ]
  },
  {
   "cell_type": "code",
   "execution_count": 32,
   "metadata": {},
   "outputs": [
    {
     "data": {
      "application/vnd.webio.node+json": {
       "children": [
        {
         "children": [
          {
           "children": [
            {
             "children": [
              {
               "children": [
                {
                 "children": [
                  {
                   "children": [
                    {
                     "children": [
                      "time"
                     ],
                     "instanceArgs": {
                      "namespace": "html",
                      "tag": "label"
                     },
                     "nodeType": "DOM",
                     "props": {
                      "className": "interact ",
                      "style": {
                       "padding": "5px 10px 0px 10px"
                      }
                     },
                     "type": "node"
                    }
                   ],
                   "instanceArgs": {
                    "namespace": "html",
                    "tag": "div"
                   },
                   "nodeType": "DOM",
                   "props": {
                    "className": "interact-flex-row-left"
                   },
                   "type": "node"
                  },
                  {
                   "children": [
                    {
                     "children": [],
                     "instanceArgs": {
                      "namespace": "html",
                      "tag": "input"
                     },
                     "nodeType": "DOM",
                     "props": {
                      "attributes": {
                       "data-bind": "numericValue: index, valueUpdate: 'input', event: {change: function (){this.changes(this.changes()+1)}}",
                       "orient": "horizontal",
                       "type": "range"
                      },
                      "className": "slider slider is-fullwidth",
                      "max": 200,
                      "min": 1,
                      "step": 1,
                      "style": {}
                     },
                     "type": "node"
                    }
                   ],
                   "instanceArgs": {
                    "namespace": "html",
                    "tag": "div"
                   },
                   "nodeType": "DOM",
                   "props": {
                    "className": "interact-flex-row-center"
                   },
                   "type": "node"
                  },
                  {
                   "children": [
                    {
                     "children": [],
                     "instanceArgs": {
                      "namespace": "html",
                      "tag": "p"
                     },
                     "nodeType": "DOM",
                     "props": {
                      "attributes": {
                       "data-bind": "text: formatted_val"
                      }
                     },
                     "type": "node"
                    }
                   ],
                   "instanceArgs": {
                    "namespace": "html",
                    "tag": "div"
                   },
                   "nodeType": "DOM",
                   "props": {
                    "className": "interact-flex-row-right"
                   },
                   "type": "node"
                  }
                 ],
                 "instanceArgs": {
                  "namespace": "html",
                  "tag": "div"
                 },
                 "nodeType": "DOM",
                 "props": {
                  "className": "interact-flex-row interact-widget"
                 },
                 "type": "node"
                }
               ],
               "instanceArgs": {
                "handlers": {
                 "changes": [
                  "(function (val){return (val!=this.model[\"changes\"]()) ? (this.valueFromJulia[\"changes\"]=true, this.model[\"changes\"](val)) : undefined})"
                 ],
                 "index": [
                  "(function (val){return (val!=this.model[\"index\"]()) ? (this.valueFromJulia[\"index\"]=true, this.model[\"index\"](val)) : undefined})"
                 ]
                },
                "id": "11727146738375085704",
                "imports": {
                 "data": [
                  {
                   "name": "knockout",
                   "type": "js",
                   "url": "/assetserver/727383f2a47bd31570b7da84eee7b022dd6d7c78-knockout.js"
                  },
                  {
                   "name": "knockout_punches",
                   "type": "js",
                   "url": "/assetserver/382b41b3b1bd9f26f75861d360bad7f8beea211f-knockout_punches.js"
                  },
                  {
                   "name": null,
                   "type": "js",
                   "url": "/assetserver/5ab20f1060420992a9b82a65b735dee4d81ef413-all.js"
                  },
                  {
                   "name": null,
                   "type": "css",
                   "url": "/assetserver/1cc0ed62837210b80a182cc3676512f895dab686-style.css"
                  },
                  {
                   "name": null,
                   "type": "css",
                   "url": "/assetserver/2eee816f616df3549d7044d45e744fbf8d42bfa1-bulma_confined.min.css"
                  }
                 ],
                 "type": "async_block"
                },
                "mount_callbacks": [
                 "function () {\n    var handler = (function (ko, koPunches) {\n    ko.punches.enableAll();\n    ko.bindingHandlers.numericValue = {\n        init: function(element, valueAccessor, allBindings, data, context) {\n            var stringified = ko.observable(ko.unwrap(valueAccessor()));\n            stringified.subscribe(function(value) {\n                var val = parseFloat(value);\n                if (!isNaN(val)) {\n                    valueAccessor()(val);\n                }\n            });\n            valueAccessor().subscribe(function(value) {\n                var str = JSON.stringify(value);\n                if ((str == \"0\") && ([\"-0\", \"-0.\"].indexOf(stringified()) >= 0))\n                     return;\n                 if ([\"null\", \"\"].indexOf(str) >= 0)\n                     return;\n                stringified(str);\n            });\n            ko.applyBindingsToNode(\n                element,\n                {\n                    value: stringified,\n                    valueUpdate: allBindings.get('valueUpdate'),\n                },\n                context,\n            );\n        }\n    };\n    var json_data = {\"formatted_vals\":[\"1\",\"2\",\"3\",\"4\",\"5\",\"6\",\"7\",\"8\",\"9\",\"10\",\"11\",\"12\",\"13\",\"14\",\"15\",\"16\",\"17\",\"18\",\"19\",\"20\",\"21\",\"22\",\"23\",\"24\",\"25\",\"26\",\"27\",\"28\",\"29\",\"30\",\"31\",\"32\",\"33\",\"34\",\"35\",\"36\",\"37\",\"38\",\"39\",\"40\",\"41\",\"42\",\"43\",\"44\",\"45\",\"46\",\"47\",\"48\",\"49\",\"50\",\"51\",\"52\",\"53\",\"54\",\"55\",\"56\",\"57\",\"58\",\"59\",\"60\",\"61\",\"62\",\"63\",\"64\",\"65\",\"66\",\"67\",\"68\",\"69\",\"70\",\"71\",\"72\",\"73\",\"74\",\"75\",\"76\",\"77\",\"78\",\"79\",\"80\",\"81\",\"82\",\"83\",\"84\",\"85\",\"86\",\"87\",\"88\",\"89\",\"90\",\"91\",\"92\",\"93\",\"94\",\"95\",\"96\",\"97\",\"98\",\"99\",\"100\",\"101\",\"102\",\"103\",\"104\",\"105\",\"106\",\"107\",\"108\",\"109\",\"110\",\"111\",\"112\",\"113\",\"114\",\"115\",\"116\",\"117\",\"118\",\"119\",\"120\",\"121\",\"122\",\"123\",\"124\",\"125\",\"126\",\"127\",\"128\",\"129\",\"130\",\"131\",\"132\",\"133\",\"134\",\"135\",\"136\",\"137\",\"138\",\"139\",\"140\",\"141\",\"142\",\"143\",\"144\",\"145\",\"146\",\"147\",\"148\",\"149\",\"150\",\"151\",\"152\",\"153\",\"154\",\"155\",\"156\",\"157\",\"158\",\"159\",\"160\",\"161\",\"162\",\"163\",\"164\",\"165\",\"166\",\"167\",\"168\",\"169\",\"170\",\"171\",\"172\",\"173\",\"174\",\"175\",\"176\",\"177\",\"178\",\"179\",\"180\",\"181\",\"182\",\"183\",\"184\",\"185\",\"186\",\"187\",\"188\",\"189\",\"190\",\"191\",\"192\",\"193\",\"194\",\"195\",\"196\",\"197\",\"198\",\"199\",\"200\"],\"changes\":WebIO.getval({\"name\":\"changes\",\"scope\":\"11727146738375085704\",\"id\":\"1888894802030482974\",\"type\":\"observable\"}),\"index\":WebIO.getval({\"name\":\"index\",\"scope\":\"11727146738375085704\",\"id\":\"13134041661270747882\",\"type\":\"observable\"})};\n    var self = this;\n    function AppViewModel() {\n        for (var key in json_data) {\n            var el = json_data[key];\n            this[key] = Array.isArray(el) ? ko.observableArray(el) : ko.observable(el);\n        }\n        \n        [this[\"formatted_val\"]=ko.computed(    function(){\n        return this.formatted_vals()[parseInt(this.index())-(1)];\n    }\n,this)]\n        [this[\"changes\"].subscribe((function (val){!(this.valueFromJulia[\"changes\"]) ? (WebIO.setval({\"name\":\"changes\",\"scope\":\"11727146738375085704\",\"id\":\"1888894802030482974\",\"type\":\"observable\"},val)) : undefined; return this.valueFromJulia[\"changes\"]=false}),self),this[\"index\"].subscribe((function (val){!(this.valueFromJulia[\"index\"]) ? (WebIO.setval({\"name\":\"index\",\"scope\":\"11727146738375085704\",\"id\":\"13134041661270747882\",\"type\":\"observable\"},val)) : undefined; return this.valueFromJulia[\"index\"]=false}),self)]\n        \n    }\n    self.model = new AppViewModel();\n    self.valueFromJulia = {};\n    for (var key in json_data) {\n        self.valueFromJulia[key] = false;\n    }\n    ko.applyBindings(self.model, self.dom);\n}\n);\n    (WebIO.importBlock({\"data\":[{\"name\":\"knockout\",\"type\":\"js\",\"url\":\"/assetserver/727383f2a47bd31570b7da84eee7b022dd6d7c78-knockout.js\"},{\"name\":\"knockout_punches\",\"type\":\"js\",\"url\":\"/assetserver/382b41b3b1bd9f26f75861d360bad7f8beea211f-knockout_punches.js\"}],\"type\":\"async_block\"})).then((imports) => handler.apply(this, imports));\n}\n"
                ],
                "observables": {
                 "changes": {
                  "id": "1888894802030482974",
                  "sync": false,
                  "value": 0
                 },
                 "index": {
                  "id": "13134041661270747882",
                  "sync": true,
                  "value": 1
                 }
                },
                "systemjs_options": null
               },
               "nodeType": "Scope",
               "props": {},
               "type": "node"
              }
             ],
             "instanceArgs": {
              "namespace": "html",
              "tag": "div"
             },
             "nodeType": "DOM",
             "props": {
              "className": "field interact-widget"
             },
             "type": "node"
            },
            {
             "children": [
              {
               "children": [
                {
                 "children": [
                  {
                   "children": [
                    {
                     "children": [
                      "scale"
                     ],
                     "instanceArgs": {
                      "namespace": "html",
                      "tag": "label"
                     },
                     "nodeType": "DOM",
                     "props": {
                      "className": "interact ",
                      "style": {
                       "padding": "5px 10px 0px 10px"
                      }
                     },
                     "type": "node"
                    }
                   ],
                   "instanceArgs": {
                    "namespace": "html",
                    "tag": "div"
                   },
                   "nodeType": "DOM",
                   "props": {
                    "className": "interact-flex-row-left"
                   },
                   "type": "node"
                  },
                  {
                   "children": [
                    {
                     "children": [],
                     "instanceArgs": {
                      "namespace": "html",
                      "tag": "input"
                     },
                     "nodeType": "DOM",
                     "props": {
                      "attributes": {
                       "data-bind": "numericValue: index, valueUpdate: 'input', event: {change: function (){this.changes(this.changes()+1)}}",
                       "orient": "horizontal",
                       "type": "range"
                      },
                      "className": "slider slider is-fullwidth",
                      "max": 20,
                      "min": 1,
                      "step": 1,
                      "style": {}
                     },
                     "type": "node"
                    }
                   ],
                   "instanceArgs": {
                    "namespace": "html",
                    "tag": "div"
                   },
                   "nodeType": "DOM",
                   "props": {
                    "className": "interact-flex-row-center"
                   },
                   "type": "node"
                  },
                  {
                   "children": [
                    {
                     "children": [],
                     "instanceArgs": {
                      "namespace": "html",
                      "tag": "p"
                     },
                     "nodeType": "DOM",
                     "props": {
                      "attributes": {
                       "data-bind": "text: formatted_val"
                      }
                     },
                     "type": "node"
                    }
                   ],
                   "instanceArgs": {
                    "namespace": "html",
                    "tag": "div"
                   },
                   "nodeType": "DOM",
                   "props": {
                    "className": "interact-flex-row-right"
                   },
                   "type": "node"
                  }
                 ],
                 "instanceArgs": {
                  "namespace": "html",
                  "tag": "div"
                 },
                 "nodeType": "DOM",
                 "props": {
                  "className": "interact-flex-row interact-widget"
                 },
                 "type": "node"
                }
               ],
               "instanceArgs": {
                "handlers": {
                 "changes": [
                  "(function (val){return (val!=this.model[\"changes\"]()) ? (this.valueFromJulia[\"changes\"]=true, this.model[\"changes\"](val)) : undefined})"
                 ],
                 "index": [
                  "(function (val){return (val!=this.model[\"index\"]()) ? (this.valueFromJulia[\"index\"]=true, this.model[\"index\"](val)) : undefined})"
                 ]
                },
                "id": "6854832288157315630",
                "imports": {
                 "data": [
                  {
                   "name": "knockout",
                   "type": "js",
                   "url": "/assetserver/727383f2a47bd31570b7da84eee7b022dd6d7c78-knockout.js"
                  },
                  {
                   "name": "knockout_punches",
                   "type": "js",
                   "url": "/assetserver/382b41b3b1bd9f26f75861d360bad7f8beea211f-knockout_punches.js"
                  },
                  {
                   "name": null,
                   "type": "js",
                   "url": "/assetserver/5ab20f1060420992a9b82a65b735dee4d81ef413-all.js"
                  },
                  {
                   "name": null,
                   "type": "css",
                   "url": "/assetserver/1cc0ed62837210b80a182cc3676512f895dab686-style.css"
                  },
                  {
                   "name": null,
                   "type": "css",
                   "url": "/assetserver/2eee816f616df3549d7044d45e744fbf8d42bfa1-bulma_confined.min.css"
                  }
                 ],
                 "type": "async_block"
                },
                "mount_callbacks": [
                 "function () {\n    var handler = (function (ko, koPunches) {\n    ko.punches.enableAll();\n    ko.bindingHandlers.numericValue = {\n        init: function(element, valueAccessor, allBindings, data, context) {\n            var stringified = ko.observable(ko.unwrap(valueAccessor()));\n            stringified.subscribe(function(value) {\n                var val = parseFloat(value);\n                if (!isNaN(val)) {\n                    valueAccessor()(val);\n                }\n            });\n            valueAccessor().subscribe(function(value) {\n                var str = JSON.stringify(value);\n                if ((str == \"0\") && ([\"-0\", \"-0.\"].indexOf(stringified()) >= 0))\n                     return;\n                 if ([\"null\", \"\"].indexOf(str) >= 0)\n                     return;\n                stringified(str);\n            });\n            ko.applyBindingsToNode(\n                element,\n                {\n                    value: stringified,\n                    valueUpdate: allBindings.get('valueUpdate'),\n                },\n                context,\n            );\n        }\n    };\n    var json_data = {\"formatted_vals\":[\"0.1\",\"0.2\",\"0.3\",\"0.4\",\"0.5\",\"0.6\",\"0.7\",\"0.8\",\"0.9\",\"1.0\",\"1.1\",\"1.2\",\"1.3\",\"1.4\",\"1.5\",\"1.6\",\"1.7\",\"1.8\",\"1.9\",\"2.0\"],\"changes\":WebIO.getval({\"name\":\"changes\",\"scope\":\"6854832288157315630\",\"id\":\"17447908116757341200\",\"type\":\"observable\"}),\"index\":WebIO.getval({\"name\":\"index\",\"scope\":\"6854832288157315630\",\"id\":\"8385448232312977654\",\"type\":\"observable\"})};\n    var self = this;\n    function AppViewModel() {\n        for (var key in json_data) {\n            var el = json_data[key];\n            this[key] = Array.isArray(el) ? ko.observableArray(el) : ko.observable(el);\n        }\n        \n        [this[\"formatted_val\"]=ko.computed(    function(){\n        return this.formatted_vals()[parseInt(this.index())-(1)];\n    }\n,this)]\n        [this[\"changes\"].subscribe((function (val){!(this.valueFromJulia[\"changes\"]) ? (WebIO.setval({\"name\":\"changes\",\"scope\":\"6854832288157315630\",\"id\":\"17447908116757341200\",\"type\":\"observable\"},val)) : undefined; return this.valueFromJulia[\"changes\"]=false}),self),this[\"index\"].subscribe((function (val){!(this.valueFromJulia[\"index\"]) ? (WebIO.setval({\"name\":\"index\",\"scope\":\"6854832288157315630\",\"id\":\"8385448232312977654\",\"type\":\"observable\"},val)) : undefined; return this.valueFromJulia[\"index\"]=false}),self)]\n        \n    }\n    self.model = new AppViewModel();\n    self.valueFromJulia = {};\n    for (var key in json_data) {\n        self.valueFromJulia[key] = false;\n    }\n    ko.applyBindings(self.model, self.dom);\n}\n);\n    (WebIO.importBlock({\"data\":[{\"name\":\"knockout\",\"type\":\"js\",\"url\":\"/assetserver/727383f2a47bd31570b7da84eee7b022dd6d7c78-knockout.js\"},{\"name\":\"knockout_punches\",\"type\":\"js\",\"url\":\"/assetserver/382b41b3b1bd9f26f75861d360bad7f8beea211f-knockout_punches.js\"}],\"type\":\"async_block\"})).then((imports) => handler.apply(this, imports));\n}\n"
                ],
                "observables": {
                 "changes": {
                  "id": "17447908116757341200",
                  "sync": false,
                  "value": 0
                 },
                 "index": {
                  "id": "8385448232312977654",
                  "sync": true,
                  "value": 10
                 }
                },
                "systemjs_options": null
               },
               "nodeType": "Scope",
               "props": {},
               "type": "node"
              }
             ],
             "instanceArgs": {
              "namespace": "html",
              "tag": "div"
             },
             "nodeType": "DOM",
             "props": {
              "className": "field interact-widget"
             },
             "type": "node"
            },
            {
             "children": [],
             "instanceArgs": {
              "namespace": "html",
              "tag": "div"
             },
             "nodeType": "DOM",
             "props": {
              "style": {
               "display": "flex",
               "flex-direction": "column"
              }
             },
             "type": "node"
            },
            {
             "children": [
              {
               "children": [
                {
                 "children": [
                  {
                   "children": [
                    {
                     "children": [
                      {
                       "children": [
                        "alive_percent"
                       ],
                       "instanceArgs": {
                        "namespace": "html",
                        "tag": "label"
                       },
                       "nodeType": "DOM",
                       "props": {
                        "className": "interact ",
                        "style": {
                         "padding": "5px 10px 0px 10px"
                        }
                       },
                       "type": "node"
                      }
                     ],
                     "instanceArgs": {
                      "namespace": "html",
                      "tag": "div"
                     },
                     "nodeType": "DOM",
                     "props": {
                      "className": "interact-flex-row-left"
                     },
                     "type": "node"
                    },
                    {
                     "children": [
                      {
                       "children": [],
                       "instanceArgs": {
                        "namespace": "html",
                        "tag": "input"
                       },
                       "nodeType": "DOM",
                       "props": {
                        "attributes": {
                         "data-bind": "numericValue: index, valueUpdate: 'input', event: {change: function (){this.changes(this.changes()+1)}}",
                         "orient": "horizontal",
                         "type": "range"
                        },
                        "className": "slider slider is-fullwidth",
                        "max": 101,
                        "min": 1,
                        "step": 1,
                        "style": {}
                       },
                       "type": "node"
                      }
                     ],
                     "instanceArgs": {
                      "namespace": "html",
                      "tag": "div"
                     },
                     "nodeType": "DOM",
                     "props": {
                      "className": "interact-flex-row-center"
                     },
                     "type": "node"
                    },
                    {
                     "children": [
                      {
                       "children": [],
                       "instanceArgs": {
                        "namespace": "html",
                        "tag": "p"
                       },
                       "nodeType": "DOM",
                       "props": {
                        "attributes": {
                         "data-bind": "text: formatted_val"
                        }
                       },
                       "type": "node"
                      }
                     ],
                     "instanceArgs": {
                      "namespace": "html",
                      "tag": "div"
                     },
                     "nodeType": "DOM",
                     "props": {
                      "className": "interact-flex-row-right"
                     },
                     "type": "node"
                    }
                   ],
                   "instanceArgs": {
                    "namespace": "html",
                    "tag": "div"
                   },
                   "nodeType": "DOM",
                   "props": {
                    "className": "interact-flex-row interact-widget"
                   },
                   "type": "node"
                  }
                 ],
                 "instanceArgs": {
                  "handlers": {
                   "changes": [
                    "(function (val){return (val!=this.model[\"changes\"]()) ? (this.valueFromJulia[\"changes\"]=true, this.model[\"changes\"](val)) : undefined})"
                   ],
                   "index": [
                    "(function (val){return (val!=this.model[\"index\"]()) ? (this.valueFromJulia[\"index\"]=true, this.model[\"index\"](val)) : undefined})"
                   ]
                  },
                  "id": "5559188538664746954",
                  "imports": {
                   "data": [
                    {
                     "name": "knockout",
                     "type": "js",
                     "url": "/assetserver/727383f2a47bd31570b7da84eee7b022dd6d7c78-knockout.js"
                    },
                    {
                     "name": "knockout_punches",
                     "type": "js",
                     "url": "/assetserver/382b41b3b1bd9f26f75861d360bad7f8beea211f-knockout_punches.js"
                    },
                    {
                     "name": null,
                     "type": "js",
                     "url": "/assetserver/5ab20f1060420992a9b82a65b735dee4d81ef413-all.js"
                    },
                    {
                     "name": null,
                     "type": "css",
                     "url": "/assetserver/1cc0ed62837210b80a182cc3676512f895dab686-style.css"
                    },
                    {
                     "name": null,
                     "type": "css",
                     "url": "/assetserver/2eee816f616df3549d7044d45e744fbf8d42bfa1-bulma_confined.min.css"
                    }
                   ],
                   "type": "async_block"
                  },
                  "mount_callbacks": [
                   "function () {\n    var handler = (function (ko, koPunches) {\n    ko.punches.enableAll();\n    ko.bindingHandlers.numericValue = {\n        init: function(element, valueAccessor, allBindings, data, context) {\n            var stringified = ko.observable(ko.unwrap(valueAccessor()));\n            stringified.subscribe(function(value) {\n                var val = parseFloat(value);\n                if (!isNaN(val)) {\n                    valueAccessor()(val);\n                }\n            });\n            valueAccessor().subscribe(function(value) {\n                var str = JSON.stringify(value);\n                if ((str == \"0\") && ([\"-0\", \"-0.\"].indexOf(stringified()) >= 0))\n                     return;\n                 if ([\"null\", \"\"].indexOf(str) >= 0)\n                     return;\n                stringified(str);\n            });\n            ko.applyBindingsToNode(\n                element,\n                {\n                    value: stringified,\n                    valueUpdate: allBindings.get('valueUpdate'),\n                },\n                context,\n            );\n        }\n    };\n    var json_data = {\"formatted_vals\":[\"0.0\",\"0.01\",\"0.02\",\"0.03\",\"0.04\",\"0.05\",\"0.06\",\"0.07\",\"0.08\",\"0.09\",\"0.1\",\"0.11\",\"0.12\",\"0.13\",\"0.14\",\"0.15\",\"0.16\",\"0.17\",\"0.18\",\"0.19\",\"0.2\",\"0.21\",\"0.22\",\"0.23\",\"0.24\",\"0.25\",\"0.26\",\"0.27\",\"0.28\",\"0.29\",\"0.3\",\"0.31\",\"0.32\",\"0.33\",\"0.34\",\"0.35\",\"0.36\",\"0.37\",\"0.38\",\"0.39\",\"0.4\",\"0.41\",\"0.42\",\"0.43\",\"0.44\",\"0.45\",\"0.46\",\"0.47\",\"0.48\",\"0.49\",\"0.5\",\"0.51\",\"0.52\",\"0.53\",\"0.54\",\"0.55\",\"0.56\",\"0.57\",\"0.58\",\"0.59\",\"0.6\",\"0.61\",\"0.62\",\"0.63\",\"0.64\",\"0.65\",\"0.66\",\"0.67\",\"0.68\",\"0.69\",\"0.7\",\"0.71\",\"0.72\",\"0.73\",\"0.74\",\"0.75\",\"0.76\",\"0.77\",\"0.78\",\"0.79\",\"0.8\",\"0.81\",\"0.82\",\"0.83\",\"0.84\",\"0.85\",\"0.86\",\"0.87\",\"0.88\",\"0.89\",\"0.9\",\"0.91\",\"0.92\",\"0.93\",\"0.94\",\"0.95\",\"0.96\",\"0.97\",\"0.98\",\"0.99\",\"1.0\"],\"changes\":WebIO.getval({\"name\":\"changes\",\"scope\":\"5559188538664746954\",\"id\":\"13621601469852476902\",\"type\":\"observable\"}),\"index\":WebIO.getval({\"name\":\"index\",\"scope\":\"5559188538664746954\",\"id\":\"2622351439861940216\",\"type\":\"observable\"})};\n    var self = this;\n    function AppViewModel() {\n        for (var key in json_data) {\n            var el = json_data[key];\n            this[key] = Array.isArray(el) ? ko.observableArray(el) : ko.observable(el);\n        }\n        \n        [this[\"formatted_val\"]=ko.computed(    function(){\n        return this.formatted_vals()[parseInt(this.index())-(1)];\n    }\n,this)]\n        [this[\"changes\"].subscribe((function (val){!(this.valueFromJulia[\"changes\"]) ? (WebIO.setval({\"name\":\"changes\",\"scope\":\"5559188538664746954\",\"id\":\"13621601469852476902\",\"type\":\"observable\"},val)) : undefined; return this.valueFromJulia[\"changes\"]=false}),self),this[\"index\"].subscribe((function (val){!(this.valueFromJulia[\"index\"]) ? (WebIO.setval({\"name\":\"index\",\"scope\":\"5559188538664746954\",\"id\":\"2622351439861940216\",\"type\":\"observable\"},val)) : undefined; return this.valueFromJulia[\"index\"]=false}),self)]\n        \n    }\n    self.model = new AppViewModel();\n    self.valueFromJulia = {};\n    for (var key in json_data) {\n        self.valueFromJulia[key] = false;\n    }\n    ko.applyBindings(self.model, self.dom);\n}\n);\n    (WebIO.importBlock({\"data\":[{\"name\":\"knockout\",\"type\":\"js\",\"url\":\"/assetserver/727383f2a47bd31570b7da84eee7b022dd6d7c78-knockout.js\"},{\"name\":\"knockout_punches\",\"type\":\"js\",\"url\":\"/assetserver/382b41b3b1bd9f26f75861d360bad7f8beea211f-knockout_punches.js\"}],\"type\":\"async_block\"})).then((imports) => handler.apply(this, imports));\n}\n"
                  ],
                  "observables": {
                   "changes": {
                    "id": "13621601469852476902",
                    "sync": false,
                    "value": 0
                   },
                   "index": {
                    "id": "2622351439861940216",
                    "sync": true,
                    "value": 51
                   }
                  },
                  "systemjs_options": null
                 },
                 "nodeType": "Scope",
                 "props": {},
                 "type": "node"
                }
               ],
               "instanceArgs": {
                "namespace": "html",
                "tag": "div"
               },
               "nodeType": "DOM",
               "props": {
                "className": "field interact-widget"
               },
               "type": "node"
              }
             ],
             "instanceArgs": {
              "namespace": "html",
              "tag": "div"
             },
             "nodeType": "DOM",
             "props": {
              "style": {
               "display": "flex",
               "flex-direction": "column"
              }
             },
             "type": "node"
            },
            {
             "children": [
              {
               "children": [
                {
                 "children": [
                  {
                   "children": [],
                   "instanceArgs": {
                    "namespace": "html",
                    "tag": "div"
                   },
                   "nodeType": "DOM",
                   "props": {
                    "id": "container"
                   },
                   "type": "node"
                  }
                 ],
                 "instanceArgs": {
                  "handlers": {
                   "value": [
                    "(function (txt){return this.k.render(txt,this.container)})"
                   ]
                  },
                  "id": "12991356987835906920",
                  "imports": {
                   "data": [
                    {
                     "name": null,
                     "type": "js",
                     "url": "/assetserver/dd22ed1bf1896c2748f3fe616ce0b838adc895c1-katex.min.js"
                    },
                    {
                     "name": null,
                     "type": "css",
                     "url": "/assetserver/46517a424aa5e6cffc1360d7e0848b601c584ee3-katex.min.css"
                    }
                   ],
                   "type": "async_block"
                  },
                  "mount_callbacks": [
                   "function () {\n    var handler = ((function (k){this.k=k; this.container=this.dom.querySelector(\"#container\"); return k.render(\"\\\\;\\\\;\",this.container)}));\n    (WebIO.importBlock({\"data\":[{\"name\":null,\"type\":\"js\",\"url\":\"/assetserver/dd22ed1bf1896c2748f3fe616ce0b838adc895c1-katex.min.js\"},{\"name\":null,\"type\":\"css\",\"url\":\"/assetserver/46517a424aa5e6cffc1360d7e0848b601c584ee3-katex.min.css\"}],\"type\":\"async_block\"})).then((imports) => handler.apply(this, imports));\n}\n"
                  ],
                  "observables": {
                   "value": {
                    "id": "13886915086650642509",
                    "sync": false,
                    "value": "\\;\\;"
                   }
                  },
                  "systemjs_options": null
                 },
                 "nodeType": "Scope",
                 "props": {},
                 "type": "node"
                }
               ],
               "instanceArgs": {
                "namespace": "html",
                "tag": "div"
               },
               "nodeType": "DOM",
               "props": {
                "className": "interact-widget"
               },
               "type": "node"
              },
              {
               "children": [
                {
                 "children": [
                  {
                   "children": [
                    "run"
                   ],
                   "instanceArgs": {
                    "namespace": "html",
                    "tag": "button"
                   },
                   "nodeType": "DOM",
                   "props": {
                    "attributes": {
                     "data-bind": "click: function (){this.clicks(this.clicks()+1)}, css: {'is-loading' : loading}"
                    },
                    "className": "is-medium button is-primary",
                    "style": {}
                   },
                   "type": "node"
                  }
                 ],
                 "instanceArgs": {
                  "handlers": {
                   "clicks": [
                    "(function (val){return (val!=this.model[\"clicks\"]()) ? (this.valueFromJulia[\"clicks\"]=true, this.model[\"clicks\"](val)) : undefined})"
                   ],
                   "loading": [
                    "(function (val){return (val!=this.model[\"loading\"]()) ? (this.valueFromJulia[\"loading\"]=true, this.model[\"loading\"](val)) : undefined})"
                   ]
                  },
                  "id": "17342436736681450200",
                  "imports": {
                   "data": [
                    {
                     "name": "knockout",
                     "type": "js",
                     "url": "/assetserver/727383f2a47bd31570b7da84eee7b022dd6d7c78-knockout.js"
                    },
                    {
                     "name": "knockout_punches",
                     "type": "js",
                     "url": "/assetserver/382b41b3b1bd9f26f75861d360bad7f8beea211f-knockout_punches.js"
                    },
                    {
                     "name": null,
                     "type": "js",
                     "url": "/assetserver/5ab20f1060420992a9b82a65b735dee4d81ef413-all.js"
                    },
                    {
                     "name": null,
                     "type": "css",
                     "url": "/assetserver/1cc0ed62837210b80a182cc3676512f895dab686-style.css"
                    },
                    {
                     "name": null,
                     "type": "css",
                     "url": "/assetserver/2eee816f616df3549d7044d45e744fbf8d42bfa1-bulma_confined.min.css"
                    }
                   ],
                   "type": "async_block"
                  },
                  "mount_callbacks": [
                   "function () {\n    var handler = (function (ko, koPunches) {\n    ko.punches.enableAll();\n    ko.bindingHandlers.numericValue = {\n        init: function(element, valueAccessor, allBindings, data, context) {\n            var stringified = ko.observable(ko.unwrap(valueAccessor()));\n            stringified.subscribe(function(value) {\n                var val = parseFloat(value);\n                if (!isNaN(val)) {\n                    valueAccessor()(val);\n                }\n            });\n            valueAccessor().subscribe(function(value) {\n                var str = JSON.stringify(value);\n                if ((str == \"0\") && ([\"-0\", \"-0.\"].indexOf(stringified()) >= 0))\n                     return;\n                 if ([\"null\", \"\"].indexOf(str) >= 0)\n                     return;\n                stringified(str);\n            });\n            ko.applyBindingsToNode(\n                element,\n                {\n                    value: stringified,\n                    valueUpdate: allBindings.get('valueUpdate'),\n                },\n                context,\n            );\n        }\n    };\n    var json_data = {\"loading\":WebIO.getval({\"name\":\"loading\",\"scope\":\"17342436736681450200\",\"id\":\"3664119140437917103\",\"type\":\"observable\"}),\"clicks\":WebIO.getval({\"name\":\"clicks\",\"scope\":\"17342436736681450200\",\"id\":\"1803774591053887995\",\"type\":\"observable\"})};\n    var self = this;\n    function AppViewModel() {\n        for (var key in json_data) {\n            var el = json_data[key];\n            this[key] = Array.isArray(el) ? ko.observableArray(el) : ko.observable(el);\n        }\n        \n        \n        [this[\"loading\"].subscribe((function (val){!(this.valueFromJulia[\"loading\"]) ? (WebIO.setval({\"name\":\"loading\",\"scope\":\"17342436736681450200\",\"id\":\"3664119140437917103\",\"type\":\"observable\"},val)) : undefined; return this.valueFromJulia[\"loading\"]=false}),self),this[\"clicks\"].subscribe((function (val){!(this.valueFromJulia[\"clicks\"]) ? (WebIO.setval({\"name\":\"clicks\",\"scope\":\"17342436736681450200\",\"id\":\"1803774591053887995\",\"type\":\"observable\"},val)) : undefined; return this.valueFromJulia[\"clicks\"]=false}),self)]\n        \n    }\n    self.model = new AppViewModel();\n    self.valueFromJulia = {};\n    for (var key in json_data) {\n        self.valueFromJulia[key] = false;\n    }\n    ko.applyBindings(self.model, self.dom);\n}\n);\n    (WebIO.importBlock({\"data\":[{\"name\":\"knockout\",\"type\":\"js\",\"url\":\"/assetserver/727383f2a47bd31570b7da84eee7b022dd6d7c78-knockout.js\"},{\"name\":\"knockout_punches\",\"type\":\"js\",\"url\":\"/assetserver/382b41b3b1bd9f26f75861d360bad7f8beea211f-knockout_punches.js\"}],\"type\":\"async_block\"})).then((imports) => handler.apply(this, imports));\n}\n"
                  ],
                  "observables": {
                   "clicks": {
                    "id": "1803774591053887995",
                    "sync": true,
                    "value": 0
                   },
                   "loading": {
                    "id": "3664119140437917103",
                    "sync": false,
                    "value": false
                   }
                  },
                  "systemjs_options": null
                 },
                 "nodeType": "Scope",
                 "props": {},
                 "type": "node"
                }
               ],
               "instanceArgs": {
                "namespace": "html",
                "tag": "div"
               },
               "nodeType": "DOM",
               "props": {
                "className": "field interact-widget"
               },
               "type": "node"
              },
              {
               "children": [
                {
                 "children": [
                  {
                   "children": [],
                   "instanceArgs": {
                    "namespace": "html",
                    "tag": "div"
                   },
                   "nodeType": "DOM",
                   "props": {
                    "id": "container"
                   },
                   "type": "node"
                  }
                 ],
                 "instanceArgs": {
                  "handlers": {
                   "value": [
                    "(function (txt){return this.k.render(txt,this.container)})"
                   ]
                  },
                  "id": "12991356987835906920",
                  "imports": {
                   "data": [
                    {
                     "name": null,
                     "type": "js",
                     "url": "/assetserver/dd22ed1bf1896c2748f3fe616ce0b838adc895c1-katex.min.js"
                    },
                    {
                     "name": null,
                     "type": "css",
                     "url": "/assetserver/46517a424aa5e6cffc1360d7e0848b601c584ee3-katex.min.css"
                    }
                   ],
                   "type": "async_block"
                  },
                  "mount_callbacks": [
                   "function () {\n    var handler = ((function (k){this.k=k; this.container=this.dom.querySelector(\"#container\"); return k.render(\"\\\\;\\\\;\",this.container)}));\n    (WebIO.importBlock({\"data\":[{\"name\":null,\"type\":\"js\",\"url\":\"/assetserver/dd22ed1bf1896c2748f3fe616ce0b838adc895c1-katex.min.js\"},{\"name\":null,\"type\":\"css\",\"url\":\"/assetserver/46517a424aa5e6cffc1360d7e0848b601c584ee3-katex.min.css\"}],\"type\":\"async_block\"})).then((imports) => handler.apply(this, imports));\n}\n"
                  ],
                  "observables": {
                   "value": {
                    "id": "13886915086650642509",
                    "sync": false,
                    "value": "\\;\\;"
                   }
                  },
                  "systemjs_options": null
                 },
                 "nodeType": "Scope",
                 "props": {},
                 "type": "node"
                }
               ],
               "instanceArgs": {
                "namespace": "html",
                "tag": "div"
               },
               "nodeType": "DOM",
               "props": {
                "className": "interact-widget"
               },
               "type": "node"
              },
              {
               "children": [
                {
                 "children": [
                  {
                   "children": [
                    "stop"
                   ],
                   "instanceArgs": {
                    "namespace": "html",
                    "tag": "button"
                   },
                   "nodeType": "DOM",
                   "props": {
                    "attributes": {
                     "data-bind": "click: function (){this.clicks(this.clicks()+1)}, css: {'is-loading' : loading}"
                    },
                    "className": "is-medium button is-primary",
                    "style": {}
                   },
                   "type": "node"
                  }
                 ],
                 "instanceArgs": {
                  "handlers": {
                   "clicks": [
                    "(function (val){return (val!=this.model[\"clicks\"]()) ? (this.valueFromJulia[\"clicks\"]=true, this.model[\"clicks\"](val)) : undefined})"
                   ],
                   "loading": [
                    "(function (val){return (val!=this.model[\"loading\"]()) ? (this.valueFromJulia[\"loading\"]=true, this.model[\"loading\"](val)) : undefined})"
                   ]
                  },
                  "id": "7279828330315632286",
                  "imports": {
                   "data": [
                    {
                     "name": "knockout",
                     "type": "js",
                     "url": "/assetserver/727383f2a47bd31570b7da84eee7b022dd6d7c78-knockout.js"
                    },
                    {
                     "name": "knockout_punches",
                     "type": "js",
                     "url": "/assetserver/382b41b3b1bd9f26f75861d360bad7f8beea211f-knockout_punches.js"
                    },
                    {
                     "name": null,
                     "type": "js",
                     "url": "/assetserver/5ab20f1060420992a9b82a65b735dee4d81ef413-all.js"
                    },
                    {
                     "name": null,
                     "type": "css",
                     "url": "/assetserver/1cc0ed62837210b80a182cc3676512f895dab686-style.css"
                    },
                    {
                     "name": null,
                     "type": "css",
                     "url": "/assetserver/2eee816f616df3549d7044d45e744fbf8d42bfa1-bulma_confined.min.css"
                    }
                   ],
                   "type": "async_block"
                  },
                  "mount_callbacks": [
                   "function () {\n    var handler = (function (ko, koPunches) {\n    ko.punches.enableAll();\n    ko.bindingHandlers.numericValue = {\n        init: function(element, valueAccessor, allBindings, data, context) {\n            var stringified = ko.observable(ko.unwrap(valueAccessor()));\n            stringified.subscribe(function(value) {\n                var val = parseFloat(value);\n                if (!isNaN(val)) {\n                    valueAccessor()(val);\n                }\n            });\n            valueAccessor().subscribe(function(value) {\n                var str = JSON.stringify(value);\n                if ((str == \"0\") && ([\"-0\", \"-0.\"].indexOf(stringified()) >= 0))\n                     return;\n                 if ([\"null\", \"\"].indexOf(str) >= 0)\n                     return;\n                stringified(str);\n            });\n            ko.applyBindingsToNode(\n                element,\n                {\n                    value: stringified,\n                    valueUpdate: allBindings.get('valueUpdate'),\n                },\n                context,\n            );\n        }\n    };\n    var json_data = {\"loading\":WebIO.getval({\"name\":\"loading\",\"scope\":\"7279828330315632286\",\"id\":\"6327475329545468106\",\"type\":\"observable\"}),\"clicks\":WebIO.getval({\"name\":\"clicks\",\"scope\":\"7279828330315632286\",\"id\":\"7724683516561747858\",\"type\":\"observable\"})};\n    var self = this;\n    function AppViewModel() {\n        for (var key in json_data) {\n            var el = json_data[key];\n            this[key] = Array.isArray(el) ? ko.observableArray(el) : ko.observable(el);\n        }\n        \n        \n        [this[\"loading\"].subscribe((function (val){!(this.valueFromJulia[\"loading\"]) ? (WebIO.setval({\"name\":\"loading\",\"scope\":\"7279828330315632286\",\"id\":\"6327475329545468106\",\"type\":\"observable\"},val)) : undefined; return this.valueFromJulia[\"loading\"]=false}),self),this[\"clicks\"].subscribe((function (val){!(this.valueFromJulia[\"clicks\"]) ? (WebIO.setval({\"name\":\"clicks\",\"scope\":\"7279828330315632286\",\"id\":\"7724683516561747858\",\"type\":\"observable\"},val)) : undefined; return this.valueFromJulia[\"clicks\"]=false}),self)]\n        \n    }\n    self.model = new AppViewModel();\n    self.valueFromJulia = {};\n    for (var key in json_data) {\n        self.valueFromJulia[key] = false;\n    }\n    ko.applyBindings(self.model, self.dom);\n}\n);\n    (WebIO.importBlock({\"data\":[{\"name\":\"knockout\",\"type\":\"js\",\"url\":\"/assetserver/727383f2a47bd31570b7da84eee7b022dd6d7c78-knockout.js\"},{\"name\":\"knockout_punches\",\"type\":\"js\",\"url\":\"/assetserver/382b41b3b1bd9f26f75861d360bad7f8beea211f-knockout_punches.js\"}],\"type\":\"async_block\"})).then((imports) => handler.apply(this, imports));\n}\n"
                  ],
                  "observables": {
                   "clicks": {
                    "id": "7724683516561747858",
                    "sync": true,
                    "value": 0
                   },
                   "loading": {
                    "id": "6327475329545468106",
                    "sync": false,
                    "value": false
                   }
                  },
                  "systemjs_options": null
                 },
                 "nodeType": "Scope",
                 "props": {},
                 "type": "node"
                }
               ],
               "instanceArgs": {
                "namespace": "html",
                "tag": "div"
               },
               "nodeType": "DOM",
               "props": {
                "className": "field interact-widget"
               },
               "type": "node"
              },
              {
               "children": [
                {
                 "children": [
                  {
                   "children": [],
                   "instanceArgs": {
                    "namespace": "html",
                    "tag": "div"
                   },
                   "nodeType": "DOM",
                   "props": {
                    "id": "container"
                   },
                   "type": "node"
                  }
                 ],
                 "instanceArgs": {
                  "handlers": {
                   "value": [
                    "(function (txt){return this.k.render(txt,this.container)})"
                   ]
                  },
                  "id": "12991356987835906920",
                  "imports": {
                   "data": [
                    {
                     "name": null,
                     "type": "js",
                     "url": "/assetserver/dd22ed1bf1896c2748f3fe616ce0b838adc895c1-katex.min.js"
                    },
                    {
                     "name": null,
                     "type": "css",
                     "url": "/assetserver/46517a424aa5e6cffc1360d7e0848b601c584ee3-katex.min.css"
                    }
                   ],
                   "type": "async_block"
                  },
                  "mount_callbacks": [
                   "function () {\n    var handler = ((function (k){this.k=k; this.container=this.dom.querySelector(\"#container\"); return k.render(\"\\\\;\\\\;\",this.container)}));\n    (WebIO.importBlock({\"data\":[{\"name\":null,\"type\":\"js\",\"url\":\"/assetserver/dd22ed1bf1896c2748f3fe616ce0b838adc895c1-katex.min.js\"},{\"name\":null,\"type\":\"css\",\"url\":\"/assetserver/46517a424aa5e6cffc1360d7e0848b601c584ee3-katex.min.css\"}],\"type\":\"async_block\"})).then((imports) => handler.apply(this, imports));\n}\n"
                  ],
                  "observables": {
                   "value": {
                    "id": "13886915086650642509",
                    "sync": false,
                    "value": "\\;\\;"
                   }
                  },
                  "systemjs_options": null
                 },
                 "nodeType": "Scope",
                 "props": {},
                 "type": "node"
                }
               ],
               "instanceArgs": {
                "namespace": "html",
                "tag": "div"
               },
               "nodeType": "DOM",
               "props": {
                "className": "interact-widget"
               },
               "type": "node"
              },
              {
               "children": [
                {
                 "children": [
                  {
                   "children": [
                    "reset"
                   ],
                   "instanceArgs": {
                    "namespace": "html",
                    "tag": "button"
                   },
                   "nodeType": "DOM",
                   "props": {
                    "attributes": {
                     "data-bind": "click: function (){this.clicks(this.clicks()+1)}, css: {'is-loading' : loading}"
                    },
                    "className": "is-medium button is-primary",
                    "style": {}
                   },
                   "type": "node"
                  }
                 ],
                 "instanceArgs": {
                  "handlers": {
                   "clicks": [
                    "(function (val){return (val!=this.model[\"clicks\"]()) ? (this.valueFromJulia[\"clicks\"]=true, this.model[\"clicks\"](val)) : undefined})"
                   ],
                   "loading": [
                    "(function (val){return (val!=this.model[\"loading\"]()) ? (this.valueFromJulia[\"loading\"]=true, this.model[\"loading\"](val)) : undefined})"
                   ]
                  },
                  "id": "18333006646157239175",
                  "imports": {
                   "data": [
                    {
                     "name": "knockout",
                     "type": "js",
                     "url": "/assetserver/727383f2a47bd31570b7da84eee7b022dd6d7c78-knockout.js"
                    },
                    {
                     "name": "knockout_punches",
                     "type": "js",
                     "url": "/assetserver/382b41b3b1bd9f26f75861d360bad7f8beea211f-knockout_punches.js"
                    },
                    {
                     "name": null,
                     "type": "js",
                     "url": "/assetserver/5ab20f1060420992a9b82a65b735dee4d81ef413-all.js"
                    },
                    {
                     "name": null,
                     "type": "css",
                     "url": "/assetserver/1cc0ed62837210b80a182cc3676512f895dab686-style.css"
                    },
                    {
                     "name": null,
                     "type": "css",
                     "url": "/assetserver/2eee816f616df3549d7044d45e744fbf8d42bfa1-bulma_confined.min.css"
                    }
                   ],
                   "type": "async_block"
                  },
                  "mount_callbacks": [
                   "function () {\n    var handler = (function (ko, koPunches) {\n    ko.punches.enableAll();\n    ko.bindingHandlers.numericValue = {\n        init: function(element, valueAccessor, allBindings, data, context) {\n            var stringified = ko.observable(ko.unwrap(valueAccessor()));\n            stringified.subscribe(function(value) {\n                var val = parseFloat(value);\n                if (!isNaN(val)) {\n                    valueAccessor()(val);\n                }\n            });\n            valueAccessor().subscribe(function(value) {\n                var str = JSON.stringify(value);\n                if ((str == \"0\") && ([\"-0\", \"-0.\"].indexOf(stringified()) >= 0))\n                     return;\n                 if ([\"null\", \"\"].indexOf(str) >= 0)\n                     return;\n                stringified(str);\n            });\n            ko.applyBindingsToNode(\n                element,\n                {\n                    value: stringified,\n                    valueUpdate: allBindings.get('valueUpdate'),\n                },\n                context,\n            );\n        }\n    };\n    var json_data = {\"loading\":WebIO.getval({\"name\":\"loading\",\"scope\":\"18333006646157239175\",\"id\":\"16648917842033938103\",\"type\":\"observable\"}),\"clicks\":WebIO.getval({\"name\":\"clicks\",\"scope\":\"18333006646157239175\",\"id\":\"6153415383938629197\",\"type\":\"observable\"})};\n    var self = this;\n    function AppViewModel() {\n        for (var key in json_data) {\n            var el = json_data[key];\n            this[key] = Array.isArray(el) ? ko.observableArray(el) : ko.observable(el);\n        }\n        \n        \n        [this[\"loading\"].subscribe((function (val){!(this.valueFromJulia[\"loading\"]) ? (WebIO.setval({\"name\":\"loading\",\"scope\":\"18333006646157239175\",\"id\":\"16648917842033938103\",\"type\":\"observable\"},val)) : undefined; return this.valueFromJulia[\"loading\"]=false}),self),this[\"clicks\"].subscribe((function (val){!(this.valueFromJulia[\"clicks\"]) ? (WebIO.setval({\"name\":\"clicks\",\"scope\":\"18333006646157239175\",\"id\":\"6153415383938629197\",\"type\":\"observable\"},val)) : undefined; return this.valueFromJulia[\"clicks\"]=false}),self)]\n        \n    }\n    self.model = new AppViewModel();\n    self.valueFromJulia = {};\n    for (var key in json_data) {\n        self.valueFromJulia[key] = false;\n    }\n    ko.applyBindings(self.model, self.dom);\n}\n);\n    (WebIO.importBlock({\"data\":[{\"name\":\"knockout\",\"type\":\"js\",\"url\":\"/assetserver/727383f2a47bd31570b7da84eee7b022dd6d7c78-knockout.js\"},{\"name\":\"knockout_punches\",\"type\":\"js\",\"url\":\"/assetserver/382b41b3b1bd9f26f75861d360bad7f8beea211f-knockout_punches.js\"}],\"type\":\"async_block\"})).then((imports) => handler.apply(this, imports));\n}\n"
                  ],
                  "observables": {
                   "clicks": {
                    "id": "6153415383938629197",
                    "sync": true,
                    "value": 0
                   },
                   "loading": {
                    "id": "16648917842033938103",
                    "sync": false,
                    "value": false
                   }
                  },
                  "systemjs_options": null
                 },
                 "nodeType": "Scope",
                 "props": {},
                 "type": "node"
                }
               ],
               "instanceArgs": {
                "namespace": "html",
                "tag": "div"
               },
               "nodeType": "DOM",
               "props": {
                "className": "field interact-widget"
               },
               "type": "node"
              },
              {
               "children": [
                {
                 "children": [
                  {
                   "children": [],
                   "instanceArgs": {
                    "namespace": "html",
                    "tag": "div"
                   },
                   "nodeType": "DOM",
                   "props": {
                    "id": "container"
                   },
                   "type": "node"
                  }
                 ],
                 "instanceArgs": {
                  "handlers": {
                   "value": [
                    "(function (txt){return this.k.render(txt,this.container)})"
                   ]
                  },
                  "id": "12991356987835906920",
                  "imports": {
                   "data": [
                    {
                     "name": null,
                     "type": "js",
                     "url": "/assetserver/dd22ed1bf1896c2748f3fe616ce0b838adc895c1-katex.min.js"
                    },
                    {
                     "name": null,
                     "type": "css",
                     "url": "/assetserver/46517a424aa5e6cffc1360d7e0848b601c584ee3-katex.min.css"
                    }
                   ],
                   "type": "async_block"
                  },
                  "mount_callbacks": [
                   "function () {\n    var handler = ((function (k){this.k=k; this.container=this.dom.querySelector(\"#container\"); return k.render(\"\\\\;\\\\;\",this.container)}));\n    (WebIO.importBlock({\"data\":[{\"name\":null,\"type\":\"js\",\"url\":\"/assetserver/dd22ed1bf1896c2748f3fe616ce0b838adc895c1-katex.min.js\"},{\"name\":null,\"type\":\"css\",\"url\":\"/assetserver/46517a424aa5e6cffc1360d7e0848b601c584ee3-katex.min.css\"}],\"type\":\"async_block\"})).then((imports) => handler.apply(this, imports));\n}\n"
                  ],
                  "observables": {
                   "value": {
                    "id": "13886915086650642509",
                    "sync": false,
                    "value": "\\;\\;"
                   }
                  },
                  "systemjs_options": null
                 },
                 "nodeType": "Scope",
                 "props": {},
                 "type": "node"
                }
               ],
               "instanceArgs": {
                "namespace": "html",
                "tag": "div"
               },
               "nodeType": "DOM",
               "props": {
                "className": "interact-widget"
               },
               "type": "node"
              },
              {
               "children": [
                {
                 "children": [
                  {
                   "children": [
                    "save"
                   ],
                   "instanceArgs": {
                    "namespace": "html",
                    "tag": "button"
                   },
                   "nodeType": "DOM",
                   "props": {
                    "attributes": {
                     "data-bind": "click: function (){this.clicks(this.clicks()+1)}, css: {'is-loading' : loading}"
                    },
                    "className": "is-medium button is-primary",
                    "style": {}
                   },
                   "type": "node"
                  }
                 ],
                 "instanceArgs": {
                  "handlers": {
                   "clicks": [
                    "(function (val){return (val!=this.model[\"clicks\"]()) ? (this.valueFromJulia[\"clicks\"]=true, this.model[\"clicks\"](val)) : undefined})"
                   ],
                   "loading": [
                    "(function (val){return (val!=this.model[\"loading\"]()) ? (this.valueFromJulia[\"loading\"]=true, this.model[\"loading\"](val)) : undefined})"
                   ]
                  },
                  "id": "9005826465184319563",
                  "imports": {
                   "data": [
                    {
                     "name": "knockout",
                     "type": "js",
                     "url": "/assetserver/727383f2a47bd31570b7da84eee7b022dd6d7c78-knockout.js"
                    },
                    {
                     "name": "knockout_punches",
                     "type": "js",
                     "url": "/assetserver/382b41b3b1bd9f26f75861d360bad7f8beea211f-knockout_punches.js"
                    },
                    {
                     "name": null,
                     "type": "js",
                     "url": "/assetserver/5ab20f1060420992a9b82a65b735dee4d81ef413-all.js"
                    },
                    {
                     "name": null,
                     "type": "css",
                     "url": "/assetserver/1cc0ed62837210b80a182cc3676512f895dab686-style.css"
                    },
                    {
                     "name": null,
                     "type": "css",
                     "url": "/assetserver/2eee816f616df3549d7044d45e744fbf8d42bfa1-bulma_confined.min.css"
                    }
                   ],
                   "type": "async_block"
                  },
                  "mount_callbacks": [
                   "function () {\n    var handler = (function (ko, koPunches) {\n    ko.punches.enableAll();\n    ko.bindingHandlers.numericValue = {\n        init: function(element, valueAccessor, allBindings, data, context) {\n            var stringified = ko.observable(ko.unwrap(valueAccessor()));\n            stringified.subscribe(function(value) {\n                var val = parseFloat(value);\n                if (!isNaN(val)) {\n                    valueAccessor()(val);\n                }\n            });\n            valueAccessor().subscribe(function(value) {\n                var str = JSON.stringify(value);\n                if ((str == \"0\") && ([\"-0\", \"-0.\"].indexOf(stringified()) >= 0))\n                     return;\n                 if ([\"null\", \"\"].indexOf(str) >= 0)\n                     return;\n                stringified(str);\n            });\n            ko.applyBindingsToNode(\n                element,\n                {\n                    value: stringified,\n                    valueUpdate: allBindings.get('valueUpdate'),\n                },\n                context,\n            );\n        }\n    };\n    var json_data = {\"loading\":WebIO.getval({\"name\":\"loading\",\"scope\":\"9005826465184319563\",\"id\":\"435929308747932011\",\"type\":\"observable\"}),\"clicks\":WebIO.getval({\"name\":\"clicks\",\"scope\":\"9005826465184319563\",\"id\":\"16699534801939770795\",\"type\":\"observable\"})};\n    var self = this;\n    function AppViewModel() {\n        for (var key in json_data) {\n            var el = json_data[key];\n            this[key] = Array.isArray(el) ? ko.observableArray(el) : ko.observable(el);\n        }\n        \n        \n        [this[\"loading\"].subscribe((function (val){!(this.valueFromJulia[\"loading\"]) ? (WebIO.setval({\"name\":\"loading\",\"scope\":\"9005826465184319563\",\"id\":\"435929308747932011\",\"type\":\"observable\"},val)) : undefined; return this.valueFromJulia[\"loading\"]=false}),self),this[\"clicks\"].subscribe((function (val){!(this.valueFromJulia[\"clicks\"]) ? (WebIO.setval({\"name\":\"clicks\",\"scope\":\"9005826465184319563\",\"id\":\"16699534801939770795\",\"type\":\"observable\"},val)) : undefined; return this.valueFromJulia[\"clicks\"]=false}),self)]\n        \n    }\n    self.model = new AppViewModel();\n    self.valueFromJulia = {};\n    for (var key in json_data) {\n        self.valueFromJulia[key] = false;\n    }\n    ko.applyBindings(self.model, self.dom);\n}\n);\n    (WebIO.importBlock({\"data\":[{\"name\":\"knockout\",\"type\":\"js\",\"url\":\"/assetserver/727383f2a47bd31570b7da84eee7b022dd6d7c78-knockout.js\"},{\"name\":\"knockout_punches\",\"type\":\"js\",\"url\":\"/assetserver/382b41b3b1bd9f26f75861d360bad7f8beea211f-knockout_punches.js\"}],\"type\":\"async_block\"})).then((imports) => handler.apply(this, imports));\n}\n"
                  ],
                  "observables": {
                   "clicks": {
                    "id": "16699534801939770795",
                    "sync": true,
                    "value": 0
                   },
                   "loading": {
                    "id": "435929308747932011",
                    "sync": false,
                    "value": false
                   }
                  },
                  "systemjs_options": null
                 },
                 "nodeType": "Scope",
                 "props": {},
                 "type": "node"
                }
               ],
               "instanceArgs": {
                "namespace": "html",
                "tag": "div"
               },
               "nodeType": "DOM",
               "props": {
                "className": "field interact-widget"
               },
               "type": "node"
              }
             ],
             "instanceArgs": {
              "namespace": "html",
              "tag": "div"
             },
             "nodeType": "DOM",
             "props": {
              "style": {
               "display": "flex",
               "flex-direction": "row"
              }
             },
             "type": "node"
            }
           ],
           "instanceArgs": {
            "namespace": "html",
            "tag": "div"
           },
           "nodeType": "DOM",
           "props": {
            "style": {
             "display": "flex",
             "flex-direction": "column"
            }
           },
           "type": "node"
          },
          {
           "children": [
            {
             "children": [
              {
               "children": [],
               "instanceArgs": {
                "namespace": "html",
                "tag": "div"
               },
               "nodeType": "DOM",
               "props": {
                "id": "container"
               },
               "type": "node"
              }
             ],
             "instanceArgs": {
              "handlers": {
               "value": [
                "(function (txt){return this.k.render(txt,this.container)})"
               ]
              },
              "id": "12991356987835906920",
              "imports": {
               "data": [
                {
                 "name": null,
                 "type": "js",
                 "url": "/assetserver/dd22ed1bf1896c2748f3fe616ce0b838adc895c1-katex.min.js"
                },
                {
                 "name": null,
                 "type": "css",
                 "url": "/assetserver/46517a424aa5e6cffc1360d7e0848b601c584ee3-katex.min.css"
                }
               ],
               "type": "async_block"
              },
              "mount_callbacks": [
               "function () {\n    var handler = ((function (k){this.k=k; this.container=this.dom.querySelector(\"#container\"); return k.render(\"\\\\;\\\\;\",this.container)}));\n    (WebIO.importBlock({\"data\":[{\"name\":null,\"type\":\"js\",\"url\":\"/assetserver/dd22ed1bf1896c2748f3fe616ce0b838adc895c1-katex.min.js\"},{\"name\":null,\"type\":\"css\",\"url\":\"/assetserver/46517a424aa5e6cffc1360d7e0848b601c584ee3-katex.min.css\"}],\"type\":\"async_block\"})).then((imports) => handler.apply(this, imports));\n}\n"
              ],
              "observables": {
               "value": {
                "id": "13886915086650642509",
                "sync": false,
                "value": "\\;\\;"
               }
              },
              "systemjs_options": null
             },
             "nodeType": "Scope",
             "props": {},
             "type": "node"
            }
           ],
           "instanceArgs": {
            "namespace": "html",
            "tag": "div"
           },
           "nodeType": "DOM",
           "props": {
            "className": "interact-widget"
           },
           "type": "node"
          },
          {
           "children": [
            {
             "children": [],
             "instanceArgs": {
              "namespace": "html",
              "tag": "div"
             },
             "nodeType": "DOM",
             "props": {
              "className": "webio-observable",
              "setInnerHtml": "<img src='data:image/png;base64,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'></img>"
             },
             "type": "node"
            }
           ],
           "instanceArgs": {
            "handlers": {
             "obs-output": [
              "function (value, scope) {\n    scope.setInnerHTML(value);\n}\n"
             ]
            },
            "id": "6065198224341312164",
            "imports": {
             "data": [],
             "type": "async_block"
            },
            "mount_callbacks": [],
            "observables": {
             "obs-output": {
              "id": "5778565885390785421",
              "sync": false,
              "value": "<img src='data:image/png;base64,iVBORw0KGgoAAAANSUhEUgAAAa4AAAGuCAIAAABHl3XNAAAABmJLR0QA/wD/AP+gvaeTAAALD0lEQVR4nO3dwZHbVhpG0eupCYAhOIQOQSE4FKfkTBRCh+AQmIFmoZpZ2S4Az4PnXzhnrVcASfCWzUV/P3379i2AZ/vX7hsA2E8KAaQQQAoBkkKApBAgKQRICgGSQoCkECApBEgKAZJCgKQQoPr3qX/9+fn5er0uXOb9fn/t6+fr88LZj/fHl75cvm417uzKe1WNOzvx8534Ga28z7u+vyvX/fXj1+P//lwKX6/Xzz//fO6Oqvr9998/+/zt598unO33fumXy9etxp1dea+qcWcnfr4TP6OV93nX93fxfT7O/yADSCGAFAIkhQBJIUBSCJAUAiSFAEkhQFIIkBQCJIUASSFAUgiQFAIkhQBJIUBn/4r1+/3+/rd/z3q/3x99nP27st99vD/eXb9u//17xYPOrrxXdfrv924/O/HznfgZrbzPu76/q+/zYedSuMvXvn52ad+gjy992XLdauWef+mXC2ffvauJZy/b9WysfEZf+3r5urssvt5d34XjZmybNHDPoYdtfew6O3Ez52nP1cbP6Di/FQJIIYAUAiSFAEkhQFIIkBQCJIUASSFAUgiQFAIkhQBJIUBSCJAUAiSFAEkhQFO2TWrenkM9a+tj19mJmzlPe642fkbH3bdtYgvioMWtjxW7dkJ2sYty3OLOz5brnrr0fdsmDdxGmLibsXJ24uu1E3L48Midn8Wzx/mtEEAKAaQQICkESAoBkkKApBAgKQRICgGSQoCkECApBEgKAZJCgKQQICkESAoBunPbpIHbCBN3M1bOTny9dkIOGrrzs3r2sHMpnLgFcfmiGy3uSIzboGjhnhefjZWNkYmvd4tdn9Gpf38uhZ+vedsXK2ftSPzzz07cGOlhr3fjd/84vxUCSCGAFAIkhQBJIUBSCJAUAiSFAEkhQFIIkBQCJIUASSFAUgiQFAIkhQBJIUBn/4r1x3ve9sXKWTsS//yzEzdG6lmvd+N3/7hzKVyxaxeF4zZuUGzZ61h8Jld2US4c/M736P/kvm2T7Dncct0Gvs+7zvp8jx61bQLwBFIIIIUAUgiQFAIkhQBJIUBSCJAUAiSFAEkhQFIIkBQCJIUASSFAUgiQFAJ057ZJ2XO447o1733eddbne5Btk7/T4hbElj2Hxa2PLdd92m7Gxn2Sy9e9cOp/Nn6Pxn1/T7lv2+SBuwrj9joauItin+To0Znv1eJzdZzfCgGkEEAKAZJCgKQQICkESAoBkkKApBAgKQRICgGSQoCkECApBEgKAZJCgKQQoDu3TR64qzBur6Pm7aLYJzlo6Hu1+Fwddy6FE7cgFq878exlu7Zchj4bl03czJl43VPOpfD1eo3bgnD2+NmJ+yR5n53987PH+a0QQAoBpBAgKQRICgGSQoCkECApBEgKAZJCgKQQICkESAoBkkKApBAgKQRICgE6+1es3+95WxDOHj87cZ+kvM/O/unZ486lcGULYnEX5cLB73Zdd8Wue964AzPO0B2Yle/vhYPf7brnU4/WuRR+vq5vUKzsOaxsX+y6bpu2L562E7Lr7NN2YIY+k8f5rRBACgGkECApBEgKAZJCgKQQICkESAoBkkKApBAgKQRICgGSQoCkECApBEgKATr7V6w/3tc3KFb2HFa2L3Zdt/ZsXzxtJ2TX2aftwEx9Jg87l8LFzY0t2xe79liqLe/Vxnu+cJApdn1/b9uQOZfC1+s1cd/gUfsVE+852yaHz3qfjx49+d+wfisEkEIAKQRICgGSQoCkECApBEgKAZJCgKQQICkESAoBkkKApBAgKQRICgGSQoDO/hXr93vmvsHVsxP3Kybec9k2OXrW+3zQ9/f5uHMpnLi5sXj2sqFbLpevu7h7s+W6bdqfqbY8Gyt2fb63OZfCz9e8zY1dZyduUEzc65h4zz1sY2Tj53uc3woBpBBACgGSQoCkECApBEgKAZJCgKQQICkESAoBkkKApBAgKQRICgGSQoCkEKCzf8X64z1vc2PX2YkbFBP3Oibecz1rY2Tj53vcuRQ+za4tl41bH5dN3HJp08bIxJ2QjbtG97Bt8ldnd20y2Pr4sc/uejYa+Hpb++4f57dCACkEkEKApBAgKQRICgGSQoCkECApBEgKAZJCgKQQICkESAoBkkKApBAgKQTItslfn921yWDr48c+u+vZqHmvt7Xv/nEztk0m7lfs2vrYZeKWy8SdkL/9Zm6wuIvyd9/OH5uxbTJxz2HXWRsy91y3gc/GxLOLz/NxfisEkEIAKQRICgGSQoCkECApBEgKAZJCgKQQICkESAoBkkKApBAgKQRICgGSQoCmbJtM3HPYddaGzD3XrXnPxsSzi8/zcedSuLgjsbJvMG6/YsXK61257sQNmV0WP6NxOzBtuueVZ/LUo3Uuha/Xy37FDWd37ZM87b3a9Uw2cAemmc/VcX4rBJBCACkESAoBkkKApBAgKQRICgGSQoCkECApBEgKAZJCgKQQICkESAoBkkKAzv4V6/d7z47E0/Yrdu2TPO292vVMNnAHpqHP1WHnUrhi4i5KC3sOK2d3bYxM3L5YsWtDZsWu71E/+nbNfdsmPWzPYeXsri2IidsXEz/fXWcnbtcsnj3Ob4UAUggghQBJIUBSCJAUAiSFAEkhQFIIkBQCJIUASSFAUgiQFAIkhQBJIUBSCNCd2yY9bM9h5eyuLYiJ2xcTP99dZydu16yePey+bZMVEzcoVmzcGBm3qbJxr2Pl9V44+N2unZ9d+zO3mbFt4uw9Zyduqkzc69j1ep/2Pp/it0IAKQSQQoCkECApBEgKAZJCgKQQICkESAoBkkKApBAgKQRICgGSQoCkECApBGjKtomz95yduKkyca9j1+t92vt86t/ft22ycTfjwsHvJt7zil3bFxP3OuztHLS4t7N49rj7tk3sZhw/u3LP2UU5eHTfTkib3ueJz9Xi2eP8VggghQBSCJAUAiSFAEkhQFIIkBQCJIUASSFAUgiQFAIkhQBJIUBSCJAUAiSFAN25bWI34/jZlXvOLsoxG3dC2vQ+T3yuFs8ed9+2yYqJOxIT73nXxkgL+xUbd1HGbddMvOfbzNg2sSNxz9mJr3fXPU+8bg/b2zn17/1WCCCFAFIIkBQCJIUASSFAUgiQFAIkhQBJIUBSCJAUAiSFAEkhQFIIkBQCJIUATdk2sSNxz9mJr3fXPU+8bj1rb+fUv79v22TX1sfKnsPG6+46u8XGTZXLhl533N7Obe7bNmngXkcLWxBPOztxJ6R9mxvO3nP2OL8VAkghgBQCJIUASSFAUgiQFAIkhQBJIUBSCJAUAiSFAEkhQFIIkBQCJIUASSFAd26bNHCvo65vQTzt7MSdkPZtbjh7z9njzqXwaXsdKzsSX/u6cunLdm1f7NonmfhMfunLhYNzLT4bf/ft/LFzKfx8PWsnZNdeR5vuuU0bMhPf55WzT9tj2bhdc5zfCgGkEEAKAZJCgKQQICkESAoBkkKApBAgKQRICgGSQoCkECApBEgKAZJCgKQQoLN/xfrj/aydkF17HbXnntu0ITPxfV45+7Q9lo3bNcedS+EDtz52XXfLPT/N0B2YCwfXTdyuOTVtdC6Fr9dr3AbF03Ykdp2duG3ytB2YBt7zYjeO81shgBQCSCFAUgiQFAIkhQBJIUBSCJAUAiSFAEkhQFIIkBQCJIUASSFAUgiQFAJ09q9Yv9/zNiietiOx6+zEbZOn7cA08J5Xu3HYT9++fbtyHYAfiP9BBpBCACkESAoBkkKApBAgKQRICgGSQoCkECApBEgKAZJCgKQQoPoPPwnMpRWOVGkAAAAASUVORK5CYII='></img>"
             }
            },
            "systemjs_options": null
           },
           "nodeType": "Scope",
           "props": {},
           "type": "node"
          },
          {
           "children": [
            {
             "children": [
              {
               "children": [],
               "instanceArgs": {
                "namespace": "html",
                "tag": "div"
               },
               "nodeType": "DOM",
               "props": {
                "id": "container"
               },
               "type": "node"
              }
             ],
             "instanceArgs": {
              "handlers": {
               "value": [
                "(function (txt){return this.k.render(txt,this.container)})"
               ]
              },
              "id": "12991356987835906920",
              "imports": {
               "data": [
                {
                 "name": null,
                 "type": "js",
                 "url": "/assetserver/dd22ed1bf1896c2748f3fe616ce0b838adc895c1-katex.min.js"
                },
                {
                 "name": null,
                 "type": "css",
                 "url": "/assetserver/46517a424aa5e6cffc1360d7e0848b601c584ee3-katex.min.css"
                }
               ],
               "type": "async_block"
              },
              "mount_callbacks": [
               "function () {\n    var handler = ((function (k){this.k=k; this.container=this.dom.querySelector(\"#container\"); return k.render(\"\\\\;\\\\;\",this.container)}));\n    (WebIO.importBlock({\"data\":[{\"name\":null,\"type\":\"js\",\"url\":\"/assetserver/dd22ed1bf1896c2748f3fe616ce0b838adc895c1-katex.min.js\"},{\"name\":null,\"type\":\"css\",\"url\":\"/assetserver/46517a424aa5e6cffc1360d7e0848b601c584ee3-katex.min.css\"}],\"type\":\"async_block\"})).then((imports) => handler.apply(this, imports));\n}\n"
              ],
              "observables": {
               "value": {
                "id": "13886915086650642509",
                "sync": false,
                "value": "\\;\\;"
               }
              },
              "systemjs_options": null
             },
             "nodeType": "Scope",
             "props": {},
             "type": "node"
            }
           ],
           "instanceArgs": {
            "namespace": "html",
            "tag": "div"
           },
           "nodeType": "DOM",
           "props": {
            "className": "interact-widget"
           },
           "type": "node"
          },
          {
           "children": [],
           "instanceArgs": {
            "namespace": "html",
            "tag": "div"
           },
           "nodeType": "DOM",
           "props": {
            "style": {
             "display": "flex",
             "flex-direction": "column"
            }
           },
           "type": "node"
          }
         ],
         "instanceArgs": {
          "namespace": "html",
          "tag": "div"
         },
         "nodeType": "DOM",
         "props": {
          "style": {
           "display": "flex",
           "flex-direction": "row"
          }
         },
         "type": "node"
        }
       ],
       "instanceArgs": {
        "namespace": "html",
        "tag": "div"
       },
       "nodeType": "DOM",
       "props": {
        "style": {
         "display": "flex",
         "flex-direction": "column"
        }
       },
       "type": "node"
      },
      "text/html": [
       "<div\n",
       "    class=\"webio-mountpoint\"\n",
       "    data-webio-mountpoint=\"6527490290149307895\"\n",
       ">\n",
       "    <script>\n",
       "    (function(){\n",
       "    // Some integrations (namely, IJulia/Jupyter) use an alternate render pathway than\n",
       "    // just putting the html on the page. If WebIO isn't defined, then it's pretty likely\n",
       "    // that we're in one of those situations and the integration just isn't installed\n",
       "    // correctly.\n",
       "    if (typeof window.WebIO === \"undefined\") {\n",
       "        document\n",
       "            .querySelector('[data-webio-mountpoint=\"6527490290149307895\"]')\n",
       "            .innerHTML = (\n",
       "                '<div style=\"padding: 1em; background-color: #f8d6da; border: 1px solid #f5c6cb; font-weight: bold;\">' +\n",
       "                '<p><strong>WebIO not detected.</strong></p>' +\n",
       "                '<p>Please read ' +\n",
       "                '<a href=\"https://juliagizmos.github.io/WebIO.jl/latest/troubleshooting/not-detected/\" target=\"_blank\">the troubleshooting guide</a> ' +\n",
       "                'for more information on how to resolve this issue.</p>' +\n",
       "                '<p><a href=\"https://juliagizmos.github.io/WebIO.jl/latest/troubleshooting/not-detected/\" target=\"_blank\">https://juliagizmos.github.io/WebIO.jl/latest/troubleshooting/not-detected/</a></p>' +\n",
       "                '</div>'\n",
       "            );\n",
       "        return;\n",
       "    }\n",
       "    WebIO.mount(\n",
       "        document.querySelector('[data-webio-mountpoint=\"6527490290149307895\"]'),\n",
       "        {\"props\":{\"style\":{\"display\":\"flex\",\"flex-direction\":\"column\"}},\"nodeType\":\"DOM\",\"type\":\"node\",\"instanceArgs\":{\"namespace\":\"html\",\"tag\":\"div\"},\"children\":[{\"props\":{\"style\":{\"display\":\"flex\",\"flex-direction\":\"row\"}},\"nodeType\":\"DOM\",\"type\":\"node\",\"instanceArgs\":{\"namespace\":\"html\",\"tag\":\"div\"},\"children\":[{\"props\":{\"style\":{\"display\":\"flex\",\"flex-direction\":\"column\"}},\"nodeType\":\"DOM\",\"type\":\"node\",\"instanceArgs\":{\"namespace\":\"html\",\"tag\":\"div\"},\"children\":[{\"props\":{\"className\":\"field interact-widget\"},\"nodeType\":\"DOM\",\"type\":\"node\",\"instanceArgs\":{\"namespace\":\"html\",\"tag\":\"div\"},\"children\":[{\"props\":{},\"nodeType\":\"Scope\",\"type\":\"node\",\"instanceArgs\":{\"imports\":{\"data\":[{\"name\":\"knockout\",\"type\":\"js\",\"url\":\"\\/assetserver\\/727383f2a47bd31570b7da84eee7b022dd6d7c78-knockout.js\"},{\"name\":\"knockout_punches\",\"type\":\"js\",\"url\":\"\\/assetserver\\/382b41b3b1bd9f26f75861d360bad7f8beea211f-knockout_punches.js\"},{\"name\":null,\"type\":\"js\",\"url\":\"\\/assetserver\\/5ab20f1060420992a9b82a65b735dee4d81ef413-all.js\"},{\"name\":null,\"type\":\"css\",\"url\":\"\\/assetserver\\/1cc0ed62837210b80a182cc3676512f895dab686-style.css\"},{\"name\":null,\"type\":\"css\",\"url\":\"\\/assetserver\\/2eee816f616df3549d7044d45e744fbf8d42bfa1-bulma_confined.min.css\"}],\"type\":\"async_block\"},\"id\":\"11727146738375085704\",\"handlers\":{\"changes\":[\"(function (val){return (val!=this.model[\\\"changes\\\"]()) ? (this.valueFromJulia[\\\"changes\\\"]=true, this.model[\\\"changes\\\"](val)) : undefined})\"],\"index\":[\"(function (val){return (val!=this.model[\\\"index\\\"]()) ? (this.valueFromJulia[\\\"index\\\"]=true, this.model[\\\"index\\\"](val)) : undefined})\"]},\"systemjs_options\":null,\"mount_callbacks\":[\"function () {\\n    var handler = (function (ko, koPunches) {\\n    ko.punches.enableAll();\\n    ko.bindingHandlers.numericValue = {\\n        init: function(element, valueAccessor, allBindings, data, context) {\\n            var stringified = ko.observable(ko.unwrap(valueAccessor()));\\n            stringified.subscribe(function(value) {\\n                var val = parseFloat(value);\\n                if (!isNaN(val)) {\\n                    valueAccessor()(val);\\n                }\\n            });\\n            valueAccessor().subscribe(function(value) {\\n                var str = JSON.stringify(value);\\n                if ((str == \\\"0\\\") && ([\\\"-0\\\", \\\"-0.\\\"].indexOf(stringified()) >= 0))\\n                     return;\\n                 if ([\\\"null\\\", \\\"\\\"].indexOf(str) >= 0)\\n                     return;\\n                stringified(str);\\n            });\\n            ko.applyBindingsToNode(\\n                element,\\n                {\\n                    value: stringified,\\n                    valueUpdate: allBindings.get('valueUpdate'),\\n                },\\n                context,\\n            );\\n        }\\n    };\\n    var json_data = {\\\"formatted_vals\\\":[\\\"1\\\",\\\"2\\\",\\\"3\\\",\\\"4\\\",\\\"5\\\",\\\"6\\\",\\\"7\\\",\\\"8\\\",\\\"9\\\",\\\"10\\\",\\\"11\\\",\\\"12\\\",\\\"13\\\",\\\"14\\\",\\\"15\\\",\\\"16\\\",\\\"17\\\",\\\"18\\\",\\\"19\\\",\\\"20\\\",\\\"21\\\",\\\"22\\\",\\\"23\\\",\\\"24\\\",\\\"25\\\",\\\"26\\\",\\\"27\\\",\\\"28\\\",\\\"29\\\",\\\"30\\\",\\\"31\\\",\\\"32\\\",\\\"33\\\",\\\"34\\\",\\\"35\\\",\\\"36\\\",\\\"37\\\",\\\"38\\\",\\\"39\\\",\\\"40\\\",\\\"41\\\",\\\"42\\\",\\\"43\\\",\\\"44\\\",\\\"45\\\",\\\"46\\\",\\\"47\\\",\\\"48\\\",\\\"49\\\",\\\"50\\\",\\\"51\\\",\\\"52\\\",\\\"53\\\",\\\"54\\\",\\\"55\\\",\\\"56\\\",\\\"57\\\",\\\"58\\\",\\\"59\\\",\\\"60\\\",\\\"61\\\",\\\"62\\\",\\\"63\\\",\\\"64\\\",\\\"65\\\",\\\"66\\\",\\\"67\\\",\\\"68\\\",\\\"69\\\",\\\"70\\\",\\\"71\\\",\\\"72\\\",\\\"73\\\",\\\"74\\\",\\\"75\\\",\\\"76\\\",\\\"77\\\",\\\"78\\\",\\\"79\\\",\\\"80\\\",\\\"81\\\",\\\"82\\\",\\\"83\\\",\\\"84\\\",\\\"85\\\",\\\"86\\\",\\\"87\\\",\\\"88\\\",\\\"89\\\",\\\"90\\\",\\\"91\\\",\\\"92\\\",\\\"93\\\",\\\"94\\\",\\\"95\\\",\\\"96\\\",\\\"97\\\",\\\"98\\\",\\\"99\\\",\\\"100\\\",\\\"101\\\",\\\"102\\\",\\\"103\\\",\\\"104\\\",\\\"105\\\",\\\"106\\\",\\\"107\\\",\\\"108\\\",\\\"109\\\",\\\"110\\\",\\\"111\\\",\\\"112\\\",\\\"113\\\",\\\"114\\\",\\\"115\\\",\\\"116\\\",\\\"117\\\",\\\"118\\\",\\\"119\\\",\\\"120\\\",\\\"121\\\",\\\"122\\\",\\\"123\\\",\\\"124\\\",\\\"125\\\",\\\"126\\\",\\\"127\\\",\\\"128\\\",\\\"129\\\",\\\"130\\\",\\\"131\\\",\\\"132\\\",\\\"133\\\",\\\"134\\\",\\\"135\\\",\\\"136\\\",\\\"137\\\",\\\"138\\\",\\\"139\\\",\\\"140\\\",\\\"141\\\",\\\"142\\\",\\\"143\\\",\\\"144\\\",\\\"145\\\",\\\"146\\\",\\\"147\\\",\\\"148\\\",\\\"149\\\",\\\"150\\\",\\\"151\\\",\\\"152\\\",\\\"153\\\",\\\"154\\\",\\\"155\\\",\\\"156\\\",\\\"157\\\",\\\"158\\\",\\\"159\\\",\\\"160\\\",\\\"161\\\",\\\"162\\\",\\\"163\\\",\\\"164\\\",\\\"165\\\",\\\"166\\\",\\\"167\\\",\\\"168\\\",\\\"169\\\",\\\"170\\\",\\\"171\\\",\\\"172\\\",\\\"173\\\",\\\"174\\\",\\\"175\\\",\\\"176\\\",\\\"177\\\",\\\"178\\\",\\\"179\\\",\\\"180\\\",\\\"181\\\",\\\"182\\\",\\\"183\\\",\\\"184\\\",\\\"185\\\",\\\"186\\\",\\\"187\\\",\\\"188\\\",\\\"189\\\",\\\"190\\\",\\\"191\\\",\\\"192\\\",\\\"193\\\",\\\"194\\\",\\\"195\\\",\\\"196\\\",\\\"197\\\",\\\"198\\\",\\\"199\\\",\\\"200\\\"],\\\"changes\\\":WebIO.getval({\\\"name\\\":\\\"changes\\\",\\\"scope\\\":\\\"11727146738375085704\\\",\\\"id\\\":\\\"1888894802030482974\\\",\\\"type\\\":\\\"observable\\\"}),\\\"index\\\":WebIO.getval({\\\"name\\\":\\\"index\\\",\\\"scope\\\":\\\"11727146738375085704\\\",\\\"id\\\":\\\"13134041661270747882\\\",\\\"type\\\":\\\"observable\\\"})};\\n    var self = this;\\n    function AppViewModel() {\\n        for (var key in json_data) {\\n            var el = json_data[key];\\n            this[key] = Array.isArray(el) ? ko.observableArray(el) : ko.observable(el);\\n        }\\n        \\n        [this[\\\"formatted_val\\\"]=ko.computed(    function(){\\n        return this.formatted_vals()[parseInt(this.index())-(1)];\\n    }\\n,this)]\\n        [this[\\\"changes\\\"].subscribe((function (val){!(this.valueFromJulia[\\\"changes\\\"]) ? (WebIO.setval({\\\"name\\\":\\\"changes\\\",\\\"scope\\\":\\\"11727146738375085704\\\",\\\"id\\\":\\\"1888894802030482974\\\",\\\"type\\\":\\\"observable\\\"},val)) : undefined; return this.valueFromJulia[\\\"changes\\\"]=false}),self),this[\\\"index\\\"].subscribe((function (val){!(this.valueFromJulia[\\\"index\\\"]) ? (WebIO.setval({\\\"name\\\":\\\"index\\\",\\\"scope\\\":\\\"11727146738375085704\\\",\\\"id\\\":\\\"13134041661270747882\\\",\\\"type\\\":\\\"observable\\\"},val)) : undefined; return this.valueFromJulia[\\\"index\\\"]=false}),self)]\\n        \\n    }\\n    self.model = new AppViewModel();\\n    self.valueFromJulia = {};\\n    for (var key in json_data) {\\n        self.valueFromJulia[key] = false;\\n    }\\n    ko.applyBindings(self.model, self.dom);\\n}\\n);\\n    (WebIO.importBlock({\\\"data\\\":[{\\\"name\\\":\\\"knockout\\\",\\\"type\\\":\\\"js\\\",\\\"url\\\":\\\"\\/assetserver\\/727383f2a47bd31570b7da84eee7b022dd6d7c78-knockout.js\\\"},{\\\"name\\\":\\\"knockout_punches\\\",\\\"type\\\":\\\"js\\\",\\\"url\\\":\\\"\\/assetserver\\/382b41b3b1bd9f26f75861d360bad7f8beea211f-knockout_punches.js\\\"}],\\\"type\\\":\\\"async_block\\\"})).then((imports) => handler.apply(this, imports));\\n}\\n\"],\"observables\":{\"changes\":{\"sync\":false,\"id\":\"1888894802030482974\",\"value\":0},\"index\":{\"sync\":true,\"id\":\"13134041661270747882\",\"value\":1}}},\"children\":[{\"props\":{\"className\":\"interact-flex-row interact-widget\"},\"nodeType\":\"DOM\",\"type\":\"node\",\"instanceArgs\":{\"namespace\":\"html\",\"tag\":\"div\"},\"children\":[{\"props\":{\"className\":\"interact-flex-row-left\"},\"nodeType\":\"DOM\",\"type\":\"node\",\"instanceArgs\":{\"namespace\":\"html\",\"tag\":\"div\"},\"children\":[{\"props\":{\"className\":\"interact \",\"style\":{\"padding\":\"5px 10px 0px 10px\"}},\"nodeType\":\"DOM\",\"type\":\"node\",\"instanceArgs\":{\"namespace\":\"html\",\"tag\":\"label\"},\"children\":[\"time\"]}]},{\"props\":{\"className\":\"interact-flex-row-center\"},\"nodeType\":\"DOM\",\"type\":\"node\",\"instanceArgs\":{\"namespace\":\"html\",\"tag\":\"div\"},\"children\":[{\"props\":{\"max\":200,\"min\":1,\"attributes\":{\"type\":\"range\",\"data-bind\":\"numericValue: index, valueUpdate: 'input', event: {change: function (){this.changes(this.changes()+1)}}\",\"orient\":\"horizontal\"},\"step\":1,\"className\":\"slider slider is-fullwidth\",\"style\":{}},\"nodeType\":\"DOM\",\"type\":\"node\",\"instanceArgs\":{\"namespace\":\"html\",\"tag\":\"input\"},\"children\":[]}]},{\"props\":{\"className\":\"interact-flex-row-right\"},\"nodeType\":\"DOM\",\"type\":\"node\",\"instanceArgs\":{\"namespace\":\"html\",\"tag\":\"div\"},\"children\":[{\"props\":{\"attributes\":{\"data-bind\":\"text: formatted_val\"}},\"nodeType\":\"DOM\",\"type\":\"node\",\"instanceArgs\":{\"namespace\":\"html\",\"tag\":\"p\"},\"children\":[]}]}]}]}]},{\"props\":{\"className\":\"field interact-widget\"},\"nodeType\":\"DOM\",\"type\":\"node\",\"instanceArgs\":{\"namespace\":\"html\",\"tag\":\"div\"},\"children\":[{\"props\":{},\"nodeType\":\"Scope\",\"type\":\"node\",\"instanceArgs\":{\"imports\":{\"data\":[{\"name\":\"knockout\",\"type\":\"js\",\"url\":\"\\/assetserver\\/727383f2a47bd31570b7da84eee7b022dd6d7c78-knockout.js\"},{\"name\":\"knockout_punches\",\"type\":\"js\",\"url\":\"\\/assetserver\\/382b41b3b1bd9f26f75861d360bad7f8beea211f-knockout_punches.js\"},{\"name\":null,\"type\":\"js\",\"url\":\"\\/assetserver\\/5ab20f1060420992a9b82a65b735dee4d81ef413-all.js\"},{\"name\":null,\"type\":\"css\",\"url\":\"\\/assetserver\\/1cc0ed62837210b80a182cc3676512f895dab686-style.css\"},{\"name\":null,\"type\":\"css\",\"url\":\"\\/assetserver\\/2eee816f616df3549d7044d45e744fbf8d42bfa1-bulma_confined.min.css\"}],\"type\":\"async_block\"},\"id\":\"6854832288157315630\",\"handlers\":{\"changes\":[\"(function (val){return (val!=this.model[\\\"changes\\\"]()) ? (this.valueFromJulia[\\\"changes\\\"]=true, this.model[\\\"changes\\\"](val)) : undefined})\"],\"index\":[\"(function (val){return (val!=this.model[\\\"index\\\"]()) ? (this.valueFromJulia[\\\"index\\\"]=true, this.model[\\\"index\\\"](val)) : undefined})\"]},\"systemjs_options\":null,\"mount_callbacks\":[\"function () {\\n    var handler = (function (ko, koPunches) {\\n    ko.punches.enableAll();\\n    ko.bindingHandlers.numericValue = {\\n        init: function(element, valueAccessor, allBindings, data, context) {\\n            var stringified = ko.observable(ko.unwrap(valueAccessor()));\\n            stringified.subscribe(function(value) {\\n                var val = parseFloat(value);\\n                if (!isNaN(val)) {\\n                    valueAccessor()(val);\\n                }\\n            });\\n            valueAccessor().subscribe(function(value) {\\n                var str = JSON.stringify(value);\\n                if ((str == \\\"0\\\") && ([\\\"-0\\\", \\\"-0.\\\"].indexOf(stringified()) >= 0))\\n                     return;\\n                 if ([\\\"null\\\", \\\"\\\"].indexOf(str) >= 0)\\n                     return;\\n                stringified(str);\\n            });\\n            ko.applyBindingsToNode(\\n                element,\\n                {\\n                    value: stringified,\\n                    valueUpdate: allBindings.get('valueUpdate'),\\n                },\\n                context,\\n            );\\n        }\\n    };\\n    var json_data = {\\\"formatted_vals\\\":[\\\"0.1\\\",\\\"0.2\\\",\\\"0.3\\\",\\\"0.4\\\",\\\"0.5\\\",\\\"0.6\\\",\\\"0.7\\\",\\\"0.8\\\",\\\"0.9\\\",\\\"1.0\\\",\\\"1.1\\\",\\\"1.2\\\",\\\"1.3\\\",\\\"1.4\\\",\\\"1.5\\\",\\\"1.6\\\",\\\"1.7\\\",\\\"1.8\\\",\\\"1.9\\\",\\\"2.0\\\"],\\\"changes\\\":WebIO.getval({\\\"name\\\":\\\"changes\\\",\\\"scope\\\":\\\"6854832288157315630\\\",\\\"id\\\":\\\"17447908116757341200\\\",\\\"type\\\":\\\"observable\\\"}),\\\"index\\\":WebIO.getval({\\\"name\\\":\\\"index\\\",\\\"scope\\\":\\\"6854832288157315630\\\",\\\"id\\\":\\\"8385448232312977654\\\",\\\"type\\\":\\\"observable\\\"})};\\n    var self = this;\\n    function AppViewModel() {\\n        for (var key in json_data) {\\n            var el = json_data[key];\\n            this[key] = Array.isArray(el) ? ko.observableArray(el) : ko.observable(el);\\n        }\\n        \\n        [this[\\\"formatted_val\\\"]=ko.computed(    function(){\\n        return this.formatted_vals()[parseInt(this.index())-(1)];\\n    }\\n,this)]\\n        [this[\\\"changes\\\"].subscribe((function (val){!(this.valueFromJulia[\\\"changes\\\"]) ? (WebIO.setval({\\\"name\\\":\\\"changes\\\",\\\"scope\\\":\\\"6854832288157315630\\\",\\\"id\\\":\\\"17447908116757341200\\\",\\\"type\\\":\\\"observable\\\"},val)) : undefined; return this.valueFromJulia[\\\"changes\\\"]=false}),self),this[\\\"index\\\"].subscribe((function (val){!(this.valueFromJulia[\\\"index\\\"]) ? (WebIO.setval({\\\"name\\\":\\\"index\\\",\\\"scope\\\":\\\"6854832288157315630\\\",\\\"id\\\":\\\"8385448232312977654\\\",\\\"type\\\":\\\"observable\\\"},val)) : undefined; return this.valueFromJulia[\\\"index\\\"]=false}),self)]\\n        \\n    }\\n    self.model = new AppViewModel();\\n    self.valueFromJulia = {};\\n    for (var key in json_data) {\\n        self.valueFromJulia[key] = false;\\n    }\\n    ko.applyBindings(self.model, self.dom);\\n}\\n);\\n    (WebIO.importBlock({\\\"data\\\":[{\\\"name\\\":\\\"knockout\\\",\\\"type\\\":\\\"js\\\",\\\"url\\\":\\\"\\/assetserver\\/727383f2a47bd31570b7da84eee7b022dd6d7c78-knockout.js\\\"},{\\\"name\\\":\\\"knockout_punches\\\",\\\"type\\\":\\\"js\\\",\\\"url\\\":\\\"\\/assetserver\\/382b41b3b1bd9f26f75861d360bad7f8beea211f-knockout_punches.js\\\"}],\\\"type\\\":\\\"async_block\\\"})).then((imports) => handler.apply(this, imports));\\n}\\n\"],\"observables\":{\"changes\":{\"sync\":false,\"id\":\"17447908116757341200\",\"value\":0},\"index\":{\"sync\":true,\"id\":\"8385448232312977654\",\"value\":10}}},\"children\":[{\"props\":{\"className\":\"interact-flex-row interact-widget\"},\"nodeType\":\"DOM\",\"type\":\"node\",\"instanceArgs\":{\"namespace\":\"html\",\"tag\":\"div\"},\"children\":[{\"props\":{\"className\":\"interact-flex-row-left\"},\"nodeType\":\"DOM\",\"type\":\"node\",\"instanceArgs\":{\"namespace\":\"html\",\"tag\":\"div\"},\"children\":[{\"props\":{\"className\":\"interact \",\"style\":{\"padding\":\"5px 10px 0px 10px\"}},\"nodeType\":\"DOM\",\"type\":\"node\",\"instanceArgs\":{\"namespace\":\"html\",\"tag\":\"label\"},\"children\":[\"scale\"]}]},{\"props\":{\"className\":\"interact-flex-row-center\"},\"nodeType\":\"DOM\",\"type\":\"node\",\"instanceArgs\":{\"namespace\":\"html\",\"tag\":\"div\"},\"children\":[{\"props\":{\"max\":20,\"min\":1,\"attributes\":{\"type\":\"range\",\"data-bind\":\"numericValue: index, valueUpdate: 'input', event: {change: function (){this.changes(this.changes()+1)}}\",\"orient\":\"horizontal\"},\"step\":1,\"className\":\"slider slider is-fullwidth\",\"style\":{}},\"nodeType\":\"DOM\",\"type\":\"node\",\"instanceArgs\":{\"namespace\":\"html\",\"tag\":\"input\"},\"children\":[]}]},{\"props\":{\"className\":\"interact-flex-row-right\"},\"nodeType\":\"DOM\",\"type\":\"node\",\"instanceArgs\":{\"namespace\":\"html\",\"tag\":\"div\"},\"children\":[{\"props\":{\"attributes\":{\"data-bind\":\"text: formatted_val\"}},\"nodeType\":\"DOM\",\"type\":\"node\",\"instanceArgs\":{\"namespace\":\"html\",\"tag\":\"p\"},\"children\":[]}]}]}]}]},{\"props\":{\"style\":{\"display\":\"flex\",\"flex-direction\":\"column\"}},\"nodeType\":\"DOM\",\"type\":\"node\",\"instanceArgs\":{\"namespace\":\"html\",\"tag\":\"div\"},\"children\":[]},{\"props\":{\"style\":{\"display\":\"flex\",\"flex-direction\":\"column\"}},\"nodeType\":\"DOM\",\"type\":\"node\",\"instanceArgs\":{\"namespace\":\"html\",\"tag\":\"div\"},\"children\":[{\"props\":{\"className\":\"field interact-widget\"},\"nodeType\":\"DOM\",\"type\":\"node\",\"instanceArgs\":{\"namespace\":\"html\",\"tag\":\"div\"},\"children\":[{\"props\":{},\"nodeType\":\"Scope\",\"type\":\"node\",\"instanceArgs\":{\"imports\":{\"data\":[{\"name\":\"knockout\",\"type\":\"js\",\"url\":\"\\/assetserver\\/727383f2a47bd31570b7da84eee7b022dd6d7c78-knockout.js\"},{\"name\":\"knockout_punches\",\"type\":\"js\",\"url\":\"\\/assetserver\\/382b41b3b1bd9f26f75861d360bad7f8beea211f-knockout_punches.js\"},{\"name\":null,\"type\":\"js\",\"url\":\"\\/assetserver\\/5ab20f1060420992a9b82a65b735dee4d81ef413-all.js\"},{\"name\":null,\"type\":\"css\",\"url\":\"\\/assetserver\\/1cc0ed62837210b80a182cc3676512f895dab686-style.css\"},{\"name\":null,\"type\":\"css\",\"url\":\"\\/assetserver\\/2eee816f616df3549d7044d45e744fbf8d42bfa1-bulma_confined.min.css\"}],\"type\":\"async_block\"},\"id\":\"5559188538664746954\",\"handlers\":{\"changes\":[\"(function (val){return (val!=this.model[\\\"changes\\\"]()) ? (this.valueFromJulia[\\\"changes\\\"]=true, this.model[\\\"changes\\\"](val)) : undefined})\"],\"index\":[\"(function (val){return (val!=this.model[\\\"index\\\"]()) ? (this.valueFromJulia[\\\"index\\\"]=true, this.model[\\\"index\\\"](val)) : undefined})\"]},\"systemjs_options\":null,\"mount_callbacks\":[\"function () {\\n    var handler = (function (ko, koPunches) {\\n    ko.punches.enableAll();\\n    ko.bindingHandlers.numericValue = {\\n        init: function(element, valueAccessor, allBindings, data, context) {\\n            var stringified = ko.observable(ko.unwrap(valueAccessor()));\\n            stringified.subscribe(function(value) {\\n                var val = parseFloat(value);\\n                if (!isNaN(val)) {\\n                    valueAccessor()(val);\\n                }\\n            });\\n            valueAccessor().subscribe(function(value) {\\n                var str = JSON.stringify(value);\\n                if ((str == \\\"0\\\") && ([\\\"-0\\\", \\\"-0.\\\"].indexOf(stringified()) >= 0))\\n                     return;\\n                 if ([\\\"null\\\", \\\"\\\"].indexOf(str) >= 0)\\n                     return;\\n                stringified(str);\\n            });\\n            ko.applyBindingsToNode(\\n                element,\\n                {\\n                    value: stringified,\\n                    valueUpdate: allBindings.get('valueUpdate'),\\n                },\\n                context,\\n            );\\n        }\\n    };\\n    var json_data = {\\\"formatted_vals\\\":[\\\"0.0\\\",\\\"0.01\\\",\\\"0.02\\\",\\\"0.03\\\",\\\"0.04\\\",\\\"0.05\\\",\\\"0.06\\\",\\\"0.07\\\",\\\"0.08\\\",\\\"0.09\\\",\\\"0.1\\\",\\\"0.11\\\",\\\"0.12\\\",\\\"0.13\\\",\\\"0.14\\\",\\\"0.15\\\",\\\"0.16\\\",\\\"0.17\\\",\\\"0.18\\\",\\\"0.19\\\",\\\"0.2\\\",\\\"0.21\\\",\\\"0.22\\\",\\\"0.23\\\",\\\"0.24\\\",\\\"0.25\\\",\\\"0.26\\\",\\\"0.27\\\",\\\"0.28\\\",\\\"0.29\\\",\\\"0.3\\\",\\\"0.31\\\",\\\"0.32\\\",\\\"0.33\\\",\\\"0.34\\\",\\\"0.35\\\",\\\"0.36\\\",\\\"0.37\\\",\\\"0.38\\\",\\\"0.39\\\",\\\"0.4\\\",\\\"0.41\\\",\\\"0.42\\\",\\\"0.43\\\",\\\"0.44\\\",\\\"0.45\\\",\\\"0.46\\\",\\\"0.47\\\",\\\"0.48\\\",\\\"0.49\\\",\\\"0.5\\\",\\\"0.51\\\",\\\"0.52\\\",\\\"0.53\\\",\\\"0.54\\\",\\\"0.55\\\",\\\"0.56\\\",\\\"0.57\\\",\\\"0.58\\\",\\\"0.59\\\",\\\"0.6\\\",\\\"0.61\\\",\\\"0.62\\\",\\\"0.63\\\",\\\"0.64\\\",\\\"0.65\\\",\\\"0.66\\\",\\\"0.67\\\",\\\"0.68\\\",\\\"0.69\\\",\\\"0.7\\\",\\\"0.71\\\",\\\"0.72\\\",\\\"0.73\\\",\\\"0.74\\\",\\\"0.75\\\",\\\"0.76\\\",\\\"0.77\\\",\\\"0.78\\\",\\\"0.79\\\",\\\"0.8\\\",\\\"0.81\\\",\\\"0.82\\\",\\\"0.83\\\",\\\"0.84\\\",\\\"0.85\\\",\\\"0.86\\\",\\\"0.87\\\",\\\"0.88\\\",\\\"0.89\\\",\\\"0.9\\\",\\\"0.91\\\",\\\"0.92\\\",\\\"0.93\\\",\\\"0.94\\\",\\\"0.95\\\",\\\"0.96\\\",\\\"0.97\\\",\\\"0.98\\\",\\\"0.99\\\",\\\"1.0\\\"],\\\"changes\\\":WebIO.getval({\\\"name\\\":\\\"changes\\\",\\\"scope\\\":\\\"5559188538664746954\\\",\\\"id\\\":\\\"13621601469852476902\\\",\\\"type\\\":\\\"observable\\\"}),\\\"index\\\":WebIO.getval({\\\"name\\\":\\\"index\\\",\\\"scope\\\":\\\"5559188538664746954\\\",\\\"id\\\":\\\"2622351439861940216\\\",\\\"type\\\":\\\"observable\\\"})};\\n    var self = this;\\n    function AppViewModel() {\\n        for (var key in json_data) {\\n            var el = json_data[key];\\n            this[key] = Array.isArray(el) ? ko.observableArray(el) : ko.observable(el);\\n        }\\n        \\n        [this[\\\"formatted_val\\\"]=ko.computed(    function(){\\n        return this.formatted_vals()[parseInt(this.index())-(1)];\\n    }\\n,this)]\\n        [this[\\\"changes\\\"].subscribe((function (val){!(this.valueFromJulia[\\\"changes\\\"]) ? (WebIO.setval({\\\"name\\\":\\\"changes\\\",\\\"scope\\\":\\\"5559188538664746954\\\",\\\"id\\\":\\\"13621601469852476902\\\",\\\"type\\\":\\\"observable\\\"},val)) : undefined; return this.valueFromJulia[\\\"changes\\\"]=false}),self),this[\\\"index\\\"].subscribe((function (val){!(this.valueFromJulia[\\\"index\\\"]) ? (WebIO.setval({\\\"name\\\":\\\"index\\\",\\\"scope\\\":\\\"5559188538664746954\\\",\\\"id\\\":\\\"2622351439861940216\\\",\\\"type\\\":\\\"observable\\\"},val)) : undefined; return this.valueFromJulia[\\\"index\\\"]=false}),self)]\\n        \\n    }\\n    self.model = new AppViewModel();\\n    self.valueFromJulia = {};\\n    for (var key in json_data) {\\n        self.valueFromJulia[key] = false;\\n    }\\n    ko.applyBindings(self.model, self.dom);\\n}\\n);\\n    (WebIO.importBlock({\\\"data\\\":[{\\\"name\\\":\\\"knockout\\\",\\\"type\\\":\\\"js\\\",\\\"url\\\":\\\"\\/assetserver\\/727383f2a47bd31570b7da84eee7b022dd6d7c78-knockout.js\\\"},{\\\"name\\\":\\\"knockout_punches\\\",\\\"type\\\":\\\"js\\\",\\\"url\\\":\\\"\\/assetserver\\/382b41b3b1bd9f26f75861d360bad7f8beea211f-knockout_punches.js\\\"}],\\\"type\\\":\\\"async_block\\\"})).then((imports) => handler.apply(this, imports));\\n}\\n\"],\"observables\":{\"changes\":{\"sync\":false,\"id\":\"13621601469852476902\",\"value\":0},\"index\":{\"sync\":true,\"id\":\"2622351439861940216\",\"value\":51}}},\"children\":[{\"props\":{\"className\":\"interact-flex-row interact-widget\"},\"nodeType\":\"DOM\",\"type\":\"node\",\"instanceArgs\":{\"namespace\":\"html\",\"tag\":\"div\"},\"children\":[{\"props\":{\"className\":\"interact-flex-row-left\"},\"nodeType\":\"DOM\",\"type\":\"node\",\"instanceArgs\":{\"namespace\":\"html\",\"tag\":\"div\"},\"children\":[{\"props\":{\"className\":\"interact \",\"style\":{\"padding\":\"5px 10px 0px 10px\"}},\"nodeType\":\"DOM\",\"type\":\"node\",\"instanceArgs\":{\"namespace\":\"html\",\"tag\":\"label\"},\"children\":[\"alive_percent\"]}]},{\"props\":{\"className\":\"interact-flex-row-center\"},\"nodeType\":\"DOM\",\"type\":\"node\",\"instanceArgs\":{\"namespace\":\"html\",\"tag\":\"div\"},\"children\":[{\"props\":{\"max\":101,\"min\":1,\"attributes\":{\"type\":\"range\",\"data-bind\":\"numericValue: index, valueUpdate: 'input', event: {change: function (){this.changes(this.changes()+1)}}\",\"orient\":\"horizontal\"},\"step\":1,\"className\":\"slider slider is-fullwidth\",\"style\":{}},\"nodeType\":\"DOM\",\"type\":\"node\",\"instanceArgs\":{\"namespace\":\"html\",\"tag\":\"input\"},\"children\":[]}]},{\"props\":{\"className\":\"interact-flex-row-right\"},\"nodeType\":\"DOM\",\"type\":\"node\",\"instanceArgs\":{\"namespace\":\"html\",\"tag\":\"div\"},\"children\":[{\"props\":{\"attributes\":{\"data-bind\":\"text: formatted_val\"}},\"nodeType\":\"DOM\",\"type\":\"node\",\"instanceArgs\":{\"namespace\":\"html\",\"tag\":\"p\"},\"children\":[]}]}]}]}]}]},{\"props\":{\"style\":{\"display\":\"flex\",\"flex-direction\":\"row\"}},\"nodeType\":\"DOM\",\"type\":\"node\",\"instanceArgs\":{\"namespace\":\"html\",\"tag\":\"div\"},\"children\":[{\"props\":{\"className\":\"interact-widget\"},\"nodeType\":\"DOM\",\"type\":\"node\",\"instanceArgs\":{\"namespace\":\"html\",\"tag\":\"div\"},\"children\":[{\"props\":{},\"nodeType\":\"Scope\",\"type\":\"node\",\"instanceArgs\":{\"imports\":{\"data\":[{\"name\":null,\"type\":\"js\",\"url\":\"\\/assetserver\\/dd22ed1bf1896c2748f3fe616ce0b838adc895c1-katex.min.js\"},{\"name\":null,\"type\":\"css\",\"url\":\"\\/assetserver\\/46517a424aa5e6cffc1360d7e0848b601c584ee3-katex.min.css\"}],\"type\":\"async_block\"},\"id\":\"12991356987835906920\",\"handlers\":{\"value\":[\"(function (txt){return this.k.render(txt,this.container)})\"]},\"systemjs_options\":null,\"mount_callbacks\":[\"function () {\\n    var handler = ((function (k){this.k=k; this.container=this.dom.querySelector(\\\"#container\\\"); return k.render(\\\"\\\\\\\\;\\\\\\\\;\\\",this.container)}));\\n    (WebIO.importBlock({\\\"data\\\":[{\\\"name\\\":null,\\\"type\\\":\\\"js\\\",\\\"url\\\":\\\"\\/assetserver\\/dd22ed1bf1896c2748f3fe616ce0b838adc895c1-katex.min.js\\\"},{\\\"name\\\":null,\\\"type\\\":\\\"css\\\",\\\"url\\\":\\\"\\/assetserver\\/46517a424aa5e6cffc1360d7e0848b601c584ee3-katex.min.css\\\"}],\\\"type\\\":\\\"async_block\\\"})).then((imports) => handler.apply(this, imports));\\n}\\n\"],\"observables\":{\"value\":{\"sync\":false,\"id\":\"13886915086650642509\",\"value\":\"\\\\;\\\\;\"}}},\"children\":[{\"props\":{\"id\":\"container\"},\"nodeType\":\"DOM\",\"type\":\"node\",\"instanceArgs\":{\"namespace\":\"html\",\"tag\":\"div\"},\"children\":[]}]}]},{\"props\":{\"className\":\"field interact-widget\"},\"nodeType\":\"DOM\",\"type\":\"node\",\"instanceArgs\":{\"namespace\":\"html\",\"tag\":\"div\"},\"children\":[{\"props\":{},\"nodeType\":\"Scope\",\"type\":\"node\",\"instanceArgs\":{\"imports\":{\"data\":[{\"name\":\"knockout\",\"type\":\"js\",\"url\":\"\\/assetserver\\/727383f2a47bd31570b7da84eee7b022dd6d7c78-knockout.js\"},{\"name\":\"knockout_punches\",\"type\":\"js\",\"url\":\"\\/assetserver\\/382b41b3b1bd9f26f75861d360bad7f8beea211f-knockout_punches.js\"},{\"name\":null,\"type\":\"js\",\"url\":\"\\/assetserver\\/5ab20f1060420992a9b82a65b735dee4d81ef413-all.js\"},{\"name\":null,\"type\":\"css\",\"url\":\"\\/assetserver\\/1cc0ed62837210b80a182cc3676512f895dab686-style.css\"},{\"name\":null,\"type\":\"css\",\"url\":\"\\/assetserver\\/2eee816f616df3549d7044d45e744fbf8d42bfa1-bulma_confined.min.css\"}],\"type\":\"async_block\"},\"id\":\"17342436736681450200\",\"handlers\":{\"loading\":[\"(function (val){return (val!=this.model[\\\"loading\\\"]()) ? (this.valueFromJulia[\\\"loading\\\"]=true, this.model[\\\"loading\\\"](val)) : undefined})\"],\"clicks\":[\"(function (val){return (val!=this.model[\\\"clicks\\\"]()) ? (this.valueFromJulia[\\\"clicks\\\"]=true, this.model[\\\"clicks\\\"](val)) : undefined})\"]},\"systemjs_options\":null,\"mount_callbacks\":[\"function () {\\n    var handler = (function (ko, koPunches) {\\n    ko.punches.enableAll();\\n    ko.bindingHandlers.numericValue = {\\n        init: function(element, valueAccessor, allBindings, data, context) {\\n            var stringified = ko.observable(ko.unwrap(valueAccessor()));\\n            stringified.subscribe(function(value) {\\n                var val = parseFloat(value);\\n                if (!isNaN(val)) {\\n                    valueAccessor()(val);\\n                }\\n            });\\n            valueAccessor().subscribe(function(value) {\\n                var str = JSON.stringify(value);\\n                if ((str == \\\"0\\\") && ([\\\"-0\\\", \\\"-0.\\\"].indexOf(stringified()) >= 0))\\n                     return;\\n                 if ([\\\"null\\\", \\\"\\\"].indexOf(str) >= 0)\\n                     return;\\n                stringified(str);\\n            });\\n            ko.applyBindingsToNode(\\n                element,\\n                {\\n                    value: stringified,\\n                    valueUpdate: allBindings.get('valueUpdate'),\\n                },\\n                context,\\n            );\\n        }\\n    };\\n    var json_data = {\\\"loading\\\":WebIO.getval({\\\"name\\\":\\\"loading\\\",\\\"scope\\\":\\\"17342436736681450200\\\",\\\"id\\\":\\\"3664119140437917103\\\",\\\"type\\\":\\\"observable\\\"}),\\\"clicks\\\":WebIO.getval({\\\"name\\\":\\\"clicks\\\",\\\"scope\\\":\\\"17342436736681450200\\\",\\\"id\\\":\\\"1803774591053887995\\\",\\\"type\\\":\\\"observable\\\"})};\\n    var self = this;\\n    function AppViewModel() {\\n        for (var key in json_data) {\\n            var el = json_data[key];\\n            this[key] = Array.isArray(el) ? ko.observableArray(el) : ko.observable(el);\\n        }\\n        \\n        \\n        [this[\\\"loading\\\"].subscribe((function (val){!(this.valueFromJulia[\\\"loading\\\"]) ? (WebIO.setval({\\\"name\\\":\\\"loading\\\",\\\"scope\\\":\\\"17342436736681450200\\\",\\\"id\\\":\\\"3664119140437917103\\\",\\\"type\\\":\\\"observable\\\"},val)) : undefined; return this.valueFromJulia[\\\"loading\\\"]=false}),self),this[\\\"clicks\\\"].subscribe((function (val){!(this.valueFromJulia[\\\"clicks\\\"]) ? (WebIO.setval({\\\"name\\\":\\\"clicks\\\",\\\"scope\\\":\\\"17342436736681450200\\\",\\\"id\\\":\\\"1803774591053887995\\\",\\\"type\\\":\\\"observable\\\"},val)) : undefined; return this.valueFromJulia[\\\"clicks\\\"]=false}),self)]\\n        \\n    }\\n    self.model = new AppViewModel();\\n    self.valueFromJulia = {};\\n    for (var key in json_data) {\\n        self.valueFromJulia[key] = false;\\n    }\\n    ko.applyBindings(self.model, self.dom);\\n}\\n);\\n    (WebIO.importBlock({\\\"data\\\":[{\\\"name\\\":\\\"knockout\\\",\\\"type\\\":\\\"js\\\",\\\"url\\\":\\\"\\/assetserver\\/727383f2a47bd31570b7da84eee7b022dd6d7c78-knockout.js\\\"},{\\\"name\\\":\\\"knockout_punches\\\",\\\"type\\\":\\\"js\\\",\\\"url\\\":\\\"\\/assetserver\\/382b41b3b1bd9f26f75861d360bad7f8beea211f-knockout_punches.js\\\"}],\\\"type\\\":\\\"async_block\\\"})).then((imports) => handler.apply(this, imports));\\n}\\n\"],\"observables\":{\"loading\":{\"sync\":false,\"id\":\"3664119140437917103\",\"value\":false},\"clicks\":{\"sync\":true,\"id\":\"1803774591053887995\",\"value\":0}}},\"children\":[{\"props\":{\"attributes\":{\"data-bind\":\"click: function (){this.clicks(this.clicks()+1)}, css: {'is-loading' : loading}\"},\"className\":\"is-medium button is-primary\",\"style\":{}},\"nodeType\":\"DOM\",\"type\":\"node\",\"instanceArgs\":{\"namespace\":\"html\",\"tag\":\"button\"},\"children\":[\"run\"]}]}]},{\"props\":{\"className\":\"interact-widget\"},\"nodeType\":\"DOM\",\"type\":\"node\",\"instanceArgs\":{\"namespace\":\"html\",\"tag\":\"div\"},\"children\":[{\"props\":{},\"nodeType\":\"Scope\",\"type\":\"node\",\"instanceArgs\":{\"imports\":{\"data\":[{\"name\":null,\"type\":\"js\",\"url\":\"\\/assetserver\\/dd22ed1bf1896c2748f3fe616ce0b838adc895c1-katex.min.js\"},{\"name\":null,\"type\":\"css\",\"url\":\"\\/assetserver\\/46517a424aa5e6cffc1360d7e0848b601c584ee3-katex.min.css\"}],\"type\":\"async_block\"},\"id\":\"12991356987835906920\",\"handlers\":{\"value\":[\"(function (txt){return this.k.render(txt,this.container)})\"]},\"systemjs_options\":null,\"mount_callbacks\":[\"function () {\\n    var handler = ((function (k){this.k=k; this.container=this.dom.querySelector(\\\"#container\\\"); return k.render(\\\"\\\\\\\\;\\\\\\\\;\\\",this.container)}));\\n    (WebIO.importBlock({\\\"data\\\":[{\\\"name\\\":null,\\\"type\\\":\\\"js\\\",\\\"url\\\":\\\"\\/assetserver\\/dd22ed1bf1896c2748f3fe616ce0b838adc895c1-katex.min.js\\\"},{\\\"name\\\":null,\\\"type\\\":\\\"css\\\",\\\"url\\\":\\\"\\/assetserver\\/46517a424aa5e6cffc1360d7e0848b601c584ee3-katex.min.css\\\"}],\\\"type\\\":\\\"async_block\\\"})).then((imports) => handler.apply(this, imports));\\n}\\n\"],\"observables\":{\"value\":{\"sync\":false,\"id\":\"13886915086650642509\",\"value\":\"\\\\;\\\\;\"}}},\"children\":[{\"props\":{\"id\":\"container\"},\"nodeType\":\"DOM\",\"type\":\"node\",\"instanceArgs\":{\"namespace\":\"html\",\"tag\":\"div\"},\"children\":[]}]}]},{\"props\":{\"className\":\"field interact-widget\"},\"nodeType\":\"DOM\",\"type\":\"node\",\"instanceArgs\":{\"namespace\":\"html\",\"tag\":\"div\"},\"children\":[{\"props\":{},\"nodeType\":\"Scope\",\"type\":\"node\",\"instanceArgs\":{\"imports\":{\"data\":[{\"name\":\"knockout\",\"type\":\"js\",\"url\":\"\\/assetserver\\/727383f2a47bd31570b7da84eee7b022dd6d7c78-knockout.js\"},{\"name\":\"knockout_punches\",\"type\":\"js\",\"url\":\"\\/assetserver\\/382b41b3b1bd9f26f75861d360bad7f8beea211f-knockout_punches.js\"},{\"name\":null,\"type\":\"js\",\"url\":\"\\/assetserver\\/5ab20f1060420992a9b82a65b735dee4d81ef413-all.js\"},{\"name\":null,\"type\":\"css\",\"url\":\"\\/assetserver\\/1cc0ed62837210b80a182cc3676512f895dab686-style.css\"},{\"name\":null,\"type\":\"css\",\"url\":\"\\/assetserver\\/2eee816f616df3549d7044d45e744fbf8d42bfa1-bulma_confined.min.css\"}],\"type\":\"async_block\"},\"id\":\"7279828330315632286\",\"handlers\":{\"loading\":[\"(function (val){return (val!=this.model[\\\"loading\\\"]()) ? (this.valueFromJulia[\\\"loading\\\"]=true, this.model[\\\"loading\\\"](val)) : undefined})\"],\"clicks\":[\"(function (val){return (val!=this.model[\\\"clicks\\\"]()) ? (this.valueFromJulia[\\\"clicks\\\"]=true, this.model[\\\"clicks\\\"](val)) : undefined})\"]},\"systemjs_options\":null,\"mount_callbacks\":[\"function () {\\n    var handler = (function (ko, koPunches) {\\n    ko.punches.enableAll();\\n    ko.bindingHandlers.numericValue = {\\n        init: function(element, valueAccessor, allBindings, data, context) {\\n            var stringified = ko.observable(ko.unwrap(valueAccessor()));\\n            stringified.subscribe(function(value) {\\n                var val = parseFloat(value);\\n                if (!isNaN(val)) {\\n                    valueAccessor()(val);\\n                }\\n            });\\n            valueAccessor().subscribe(function(value) {\\n                var str = JSON.stringify(value);\\n                if ((str == \\\"0\\\") && ([\\\"-0\\\", \\\"-0.\\\"].indexOf(stringified()) >= 0))\\n                     return;\\n                 if ([\\\"null\\\", \\\"\\\"].indexOf(str) >= 0)\\n                     return;\\n                stringified(str);\\n            });\\n            ko.applyBindingsToNode(\\n                element,\\n                {\\n                    value: stringified,\\n                    valueUpdate: allBindings.get('valueUpdate'),\\n                },\\n                context,\\n            );\\n        }\\n    };\\n    var json_data = {\\\"loading\\\":WebIO.getval({\\\"name\\\":\\\"loading\\\",\\\"scope\\\":\\\"7279828330315632286\\\",\\\"id\\\":\\\"6327475329545468106\\\",\\\"type\\\":\\\"observable\\\"}),\\\"clicks\\\":WebIO.getval({\\\"name\\\":\\\"clicks\\\",\\\"scope\\\":\\\"7279828330315632286\\\",\\\"id\\\":\\\"7724683516561747858\\\",\\\"type\\\":\\\"observable\\\"})};\\n    var self = this;\\n    function AppViewModel() {\\n        for (var key in json_data) {\\n            var el = json_data[key];\\n            this[key] = Array.isArray(el) ? ko.observableArray(el) : ko.observable(el);\\n        }\\n        \\n        \\n        [this[\\\"loading\\\"].subscribe((function (val){!(this.valueFromJulia[\\\"loading\\\"]) ? (WebIO.setval({\\\"name\\\":\\\"loading\\\",\\\"scope\\\":\\\"7279828330315632286\\\",\\\"id\\\":\\\"6327475329545468106\\\",\\\"type\\\":\\\"observable\\\"},val)) : undefined; return this.valueFromJulia[\\\"loading\\\"]=false}),self),this[\\\"clicks\\\"].subscribe((function (val){!(this.valueFromJulia[\\\"clicks\\\"]) ? (WebIO.setval({\\\"name\\\":\\\"clicks\\\",\\\"scope\\\":\\\"7279828330315632286\\\",\\\"id\\\":\\\"7724683516561747858\\\",\\\"type\\\":\\\"observable\\\"},val)) : undefined; return this.valueFromJulia[\\\"clicks\\\"]=false}),self)]\\n        \\n    }\\n    self.model = new AppViewModel();\\n    self.valueFromJulia = {};\\n    for (var key in json_data) {\\n        self.valueFromJulia[key] = false;\\n    }\\n    ko.applyBindings(self.model, self.dom);\\n}\\n);\\n    (WebIO.importBlock({\\\"data\\\":[{\\\"name\\\":\\\"knockout\\\",\\\"type\\\":\\\"js\\\",\\\"url\\\":\\\"\\/assetserver\\/727383f2a47bd31570b7da84eee7b022dd6d7c78-knockout.js\\\"},{\\\"name\\\":\\\"knockout_punches\\\",\\\"type\\\":\\\"js\\\",\\\"url\\\":\\\"\\/assetserver\\/382b41b3b1bd9f26f75861d360bad7f8beea211f-knockout_punches.js\\\"}],\\\"type\\\":\\\"async_block\\\"})).then((imports) => handler.apply(this, imports));\\n}\\n\"],\"observables\":{\"loading\":{\"sync\":false,\"id\":\"6327475329545468106\",\"value\":false},\"clicks\":{\"sync\":true,\"id\":\"7724683516561747858\",\"value\":0}}},\"children\":[{\"props\":{\"attributes\":{\"data-bind\":\"click: function (){this.clicks(this.clicks()+1)}, css: {'is-loading' : loading}\"},\"className\":\"is-medium button is-primary\",\"style\":{}},\"nodeType\":\"DOM\",\"type\":\"node\",\"instanceArgs\":{\"namespace\":\"html\",\"tag\":\"button\"},\"children\":[\"stop\"]}]}]},{\"props\":{\"className\":\"interact-widget\"},\"nodeType\":\"DOM\",\"type\":\"node\",\"instanceArgs\":{\"namespace\":\"html\",\"tag\":\"div\"},\"children\":[{\"props\":{},\"nodeType\":\"Scope\",\"type\":\"node\",\"instanceArgs\":{\"imports\":{\"data\":[{\"name\":null,\"type\":\"js\",\"url\":\"\\/assetserver\\/dd22ed1bf1896c2748f3fe616ce0b838adc895c1-katex.min.js\"},{\"name\":null,\"type\":\"css\",\"url\":\"\\/assetserver\\/46517a424aa5e6cffc1360d7e0848b601c584ee3-katex.min.css\"}],\"type\":\"async_block\"},\"id\":\"12991356987835906920\",\"handlers\":{\"value\":[\"(function (txt){return this.k.render(txt,this.container)})\"]},\"systemjs_options\":null,\"mount_callbacks\":[\"function () {\\n    var handler = ((function (k){this.k=k; this.container=this.dom.querySelector(\\\"#container\\\"); return k.render(\\\"\\\\\\\\;\\\\\\\\;\\\",this.container)}));\\n    (WebIO.importBlock({\\\"data\\\":[{\\\"name\\\":null,\\\"type\\\":\\\"js\\\",\\\"url\\\":\\\"\\/assetserver\\/dd22ed1bf1896c2748f3fe616ce0b838adc895c1-katex.min.js\\\"},{\\\"name\\\":null,\\\"type\\\":\\\"css\\\",\\\"url\\\":\\\"\\/assetserver\\/46517a424aa5e6cffc1360d7e0848b601c584ee3-katex.min.css\\\"}],\\\"type\\\":\\\"async_block\\\"})).then((imports) => handler.apply(this, imports));\\n}\\n\"],\"observables\":{\"value\":{\"sync\":false,\"id\":\"13886915086650642509\",\"value\":\"\\\\;\\\\;\"}}},\"children\":[{\"props\":{\"id\":\"container\"},\"nodeType\":\"DOM\",\"type\":\"node\",\"instanceArgs\":{\"namespace\":\"html\",\"tag\":\"div\"},\"children\":[]}]}]},{\"props\":{\"className\":\"field interact-widget\"},\"nodeType\":\"DOM\",\"type\":\"node\",\"instanceArgs\":{\"namespace\":\"html\",\"tag\":\"div\"},\"children\":[{\"props\":{},\"nodeType\":\"Scope\",\"type\":\"node\",\"instanceArgs\":{\"imports\":{\"data\":[{\"name\":\"knockout\",\"type\":\"js\",\"url\":\"\\/assetserver\\/727383f2a47bd31570b7da84eee7b022dd6d7c78-knockout.js\"},{\"name\":\"knockout_punches\",\"type\":\"js\",\"url\":\"\\/assetserver\\/382b41b3b1bd9f26f75861d360bad7f8beea211f-knockout_punches.js\"},{\"name\":null,\"type\":\"js\",\"url\":\"\\/assetserver\\/5ab20f1060420992a9b82a65b735dee4d81ef413-all.js\"},{\"name\":null,\"type\":\"css\",\"url\":\"\\/assetserver\\/1cc0ed62837210b80a182cc3676512f895dab686-style.css\"},{\"name\":null,\"type\":\"css\",\"url\":\"\\/assetserver\\/2eee816f616df3549d7044d45e744fbf8d42bfa1-bulma_confined.min.css\"}],\"type\":\"async_block\"},\"id\":\"18333006646157239175\",\"handlers\":{\"loading\":[\"(function (val){return (val!=this.model[\\\"loading\\\"]()) ? (this.valueFromJulia[\\\"loading\\\"]=true, this.model[\\\"loading\\\"](val)) : undefined})\"],\"clicks\":[\"(function (val){return (val!=this.model[\\\"clicks\\\"]()) ? (this.valueFromJulia[\\\"clicks\\\"]=true, this.model[\\\"clicks\\\"](val)) : undefined})\"]},\"systemjs_options\":null,\"mount_callbacks\":[\"function () {\\n    var handler = (function (ko, koPunches) {\\n    ko.punches.enableAll();\\n    ko.bindingHandlers.numericValue = {\\n        init: function(element, valueAccessor, allBindings, data, context) {\\n            var stringified = ko.observable(ko.unwrap(valueAccessor()));\\n            stringified.subscribe(function(value) {\\n                var val = parseFloat(value);\\n                if (!isNaN(val)) {\\n                    valueAccessor()(val);\\n                }\\n            });\\n            valueAccessor().subscribe(function(value) {\\n                var str = JSON.stringify(value);\\n                if ((str == \\\"0\\\") && ([\\\"-0\\\", \\\"-0.\\\"].indexOf(stringified()) >= 0))\\n                     return;\\n                 if ([\\\"null\\\", \\\"\\\"].indexOf(str) >= 0)\\n                     return;\\n                stringified(str);\\n            });\\n            ko.applyBindingsToNode(\\n                element,\\n                {\\n                    value: stringified,\\n                    valueUpdate: allBindings.get('valueUpdate'),\\n                },\\n                context,\\n            );\\n        }\\n    };\\n    var json_data = {\\\"loading\\\":WebIO.getval({\\\"name\\\":\\\"loading\\\",\\\"scope\\\":\\\"18333006646157239175\\\",\\\"id\\\":\\\"16648917842033938103\\\",\\\"type\\\":\\\"observable\\\"}),\\\"clicks\\\":WebIO.getval({\\\"name\\\":\\\"clicks\\\",\\\"scope\\\":\\\"18333006646157239175\\\",\\\"id\\\":\\\"6153415383938629197\\\",\\\"type\\\":\\\"observable\\\"})};\\n    var self = this;\\n    function AppViewModel() {\\n        for (var key in json_data) {\\n            var el = json_data[key];\\n            this[key] = Array.isArray(el) ? ko.observableArray(el) : ko.observable(el);\\n        }\\n        \\n        \\n        [this[\\\"loading\\\"].subscribe((function (val){!(this.valueFromJulia[\\\"loading\\\"]) ? (WebIO.setval({\\\"name\\\":\\\"loading\\\",\\\"scope\\\":\\\"18333006646157239175\\\",\\\"id\\\":\\\"16648917842033938103\\\",\\\"type\\\":\\\"observable\\\"},val)) : undefined; return this.valueFromJulia[\\\"loading\\\"]=false}),self),this[\\\"clicks\\\"].subscribe((function (val){!(this.valueFromJulia[\\\"clicks\\\"]) ? (WebIO.setval({\\\"name\\\":\\\"clicks\\\",\\\"scope\\\":\\\"18333006646157239175\\\",\\\"id\\\":\\\"6153415383938629197\\\",\\\"type\\\":\\\"observable\\\"},val)) : undefined; return this.valueFromJulia[\\\"clicks\\\"]=false}),self)]\\n        \\n    }\\n    self.model = new AppViewModel();\\n    self.valueFromJulia = {};\\n    for (var key in json_data) {\\n        self.valueFromJulia[key] = false;\\n    }\\n    ko.applyBindings(self.model, self.dom);\\n}\\n);\\n    (WebIO.importBlock({\\\"data\\\":[{\\\"name\\\":\\\"knockout\\\",\\\"type\\\":\\\"js\\\",\\\"url\\\":\\\"\\/assetserver\\/727383f2a47bd31570b7da84eee7b022dd6d7c78-knockout.js\\\"},{\\\"name\\\":\\\"knockout_punches\\\",\\\"type\\\":\\\"js\\\",\\\"url\\\":\\\"\\/assetserver\\/382b41b3b1bd9f26f75861d360bad7f8beea211f-knockout_punches.js\\\"}],\\\"type\\\":\\\"async_block\\\"})).then((imports) => handler.apply(this, imports));\\n}\\n\"],\"observables\":{\"loading\":{\"sync\":false,\"id\":\"16648917842033938103\",\"value\":false},\"clicks\":{\"sync\":true,\"id\":\"6153415383938629197\",\"value\":0}}},\"children\":[{\"props\":{\"attributes\":{\"data-bind\":\"click: function (){this.clicks(this.clicks()+1)}, css: {'is-loading' : loading}\"},\"className\":\"is-medium button is-primary\",\"style\":{}},\"nodeType\":\"DOM\",\"type\":\"node\",\"instanceArgs\":{\"namespace\":\"html\",\"tag\":\"button\"},\"children\":[\"reset\"]}]}]},{\"props\":{\"className\":\"interact-widget\"},\"nodeType\":\"DOM\",\"type\":\"node\",\"instanceArgs\":{\"namespace\":\"html\",\"tag\":\"div\"},\"children\":[{\"props\":{},\"nodeType\":\"Scope\",\"type\":\"node\",\"instanceArgs\":{\"imports\":{\"data\":[{\"name\":null,\"type\":\"js\",\"url\":\"\\/assetserver\\/dd22ed1bf1896c2748f3fe616ce0b838adc895c1-katex.min.js\"},{\"name\":null,\"type\":\"css\",\"url\":\"\\/assetserver\\/46517a424aa5e6cffc1360d7e0848b601c584ee3-katex.min.css\"}],\"type\":\"async_block\"},\"id\":\"12991356987835906920\",\"handlers\":{\"value\":[\"(function (txt){return this.k.render(txt,this.container)})\"]},\"systemjs_options\":null,\"mount_callbacks\":[\"function () {\\n    var handler = ((function (k){this.k=k; this.container=this.dom.querySelector(\\\"#container\\\"); return k.render(\\\"\\\\\\\\;\\\\\\\\;\\\",this.container)}));\\n    (WebIO.importBlock({\\\"data\\\":[{\\\"name\\\":null,\\\"type\\\":\\\"js\\\",\\\"url\\\":\\\"\\/assetserver\\/dd22ed1bf1896c2748f3fe616ce0b838adc895c1-katex.min.js\\\"},{\\\"name\\\":null,\\\"type\\\":\\\"css\\\",\\\"url\\\":\\\"\\/assetserver\\/46517a424aa5e6cffc1360d7e0848b601c584ee3-katex.min.css\\\"}],\\\"type\\\":\\\"async_block\\\"})).then((imports) => handler.apply(this, imports));\\n}\\n\"],\"observables\":{\"value\":{\"sync\":false,\"id\":\"13886915086650642509\",\"value\":\"\\\\;\\\\;\"}}},\"children\":[{\"props\":{\"id\":\"container\"},\"nodeType\":\"DOM\",\"type\":\"node\",\"instanceArgs\":{\"namespace\":\"html\",\"tag\":\"div\"},\"children\":[]}]}]},{\"props\":{\"className\":\"field interact-widget\"},\"nodeType\":\"DOM\",\"type\":\"node\",\"instanceArgs\":{\"namespace\":\"html\",\"tag\":\"div\"},\"children\":[{\"props\":{},\"nodeType\":\"Scope\",\"type\":\"node\",\"instanceArgs\":{\"imports\":{\"data\":[{\"name\":\"knockout\",\"type\":\"js\",\"url\":\"\\/assetserver\\/727383f2a47bd31570b7da84eee7b022dd6d7c78-knockout.js\"},{\"name\":\"knockout_punches\",\"type\":\"js\",\"url\":\"\\/assetserver\\/382b41b3b1bd9f26f75861d360bad7f8beea211f-knockout_punches.js\"},{\"name\":null,\"type\":\"js\",\"url\":\"\\/assetserver\\/5ab20f1060420992a9b82a65b735dee4d81ef413-all.js\"},{\"name\":null,\"type\":\"css\",\"url\":\"\\/assetserver\\/1cc0ed62837210b80a182cc3676512f895dab686-style.css\"},{\"name\":null,\"type\":\"css\",\"url\":\"\\/assetserver\\/2eee816f616df3549d7044d45e744fbf8d42bfa1-bulma_confined.min.css\"}],\"type\":\"async_block\"},\"id\":\"9005826465184319563\",\"handlers\":{\"loading\":[\"(function (val){return (val!=this.model[\\\"loading\\\"]()) ? (this.valueFromJulia[\\\"loading\\\"]=true, this.model[\\\"loading\\\"](val)) : undefined})\"],\"clicks\":[\"(function (val){return (val!=this.model[\\\"clicks\\\"]()) ? (this.valueFromJulia[\\\"clicks\\\"]=true, this.model[\\\"clicks\\\"](val)) : undefined})\"]},\"systemjs_options\":null,\"mount_callbacks\":[\"function () {\\n    var handler = (function (ko, koPunches) {\\n    ko.punches.enableAll();\\n    ko.bindingHandlers.numericValue = {\\n        init: function(element, valueAccessor, allBindings, data, context) {\\n            var stringified = ko.observable(ko.unwrap(valueAccessor()));\\n            stringified.subscribe(function(value) {\\n                var val = parseFloat(value);\\n                if (!isNaN(val)) {\\n                    valueAccessor()(val);\\n                }\\n            });\\n            valueAccessor().subscribe(function(value) {\\n                var str = JSON.stringify(value);\\n                if ((str == \\\"0\\\") && ([\\\"-0\\\", \\\"-0.\\\"].indexOf(stringified()) >= 0))\\n                     return;\\n                 if ([\\\"null\\\", \\\"\\\"].indexOf(str) >= 0)\\n                     return;\\n                stringified(str);\\n            });\\n            ko.applyBindingsToNode(\\n                element,\\n                {\\n                    value: stringified,\\n                    valueUpdate: allBindings.get('valueUpdate'),\\n                },\\n                context,\\n            );\\n        }\\n    };\\n    var json_data = {\\\"loading\\\":WebIO.getval({\\\"name\\\":\\\"loading\\\",\\\"scope\\\":\\\"9005826465184319563\\\",\\\"id\\\":\\\"435929308747932011\\\",\\\"type\\\":\\\"observable\\\"}),\\\"clicks\\\":WebIO.getval({\\\"name\\\":\\\"clicks\\\",\\\"scope\\\":\\\"9005826465184319563\\\",\\\"id\\\":\\\"16699534801939770795\\\",\\\"type\\\":\\\"observable\\\"})};\\n    var self = this;\\n    function AppViewModel() {\\n        for (var key in json_data) {\\n            var el = json_data[key];\\n            this[key] = Array.isArray(el) ? ko.observableArray(el) : ko.observable(el);\\n        }\\n        \\n        \\n        [this[\\\"loading\\\"].subscribe((function (val){!(this.valueFromJulia[\\\"loading\\\"]) ? (WebIO.setval({\\\"name\\\":\\\"loading\\\",\\\"scope\\\":\\\"9005826465184319563\\\",\\\"id\\\":\\\"435929308747932011\\\",\\\"type\\\":\\\"observable\\\"},val)) : undefined; return this.valueFromJulia[\\\"loading\\\"]=false}),self),this[\\\"clicks\\\"].subscribe((function (val){!(this.valueFromJulia[\\\"clicks\\\"]) ? (WebIO.setval({\\\"name\\\":\\\"clicks\\\",\\\"scope\\\":\\\"9005826465184319563\\\",\\\"id\\\":\\\"16699534801939770795\\\",\\\"type\\\":\\\"observable\\\"},val)) : undefined; return this.valueFromJulia[\\\"clicks\\\"]=false}),self)]\\n        \\n    }\\n    self.model = new AppViewModel();\\n    self.valueFromJulia = {};\\n    for (var key in json_data) {\\n        self.valueFromJulia[key] = false;\\n    }\\n    ko.applyBindings(self.model, self.dom);\\n}\\n);\\n    (WebIO.importBlock({\\\"data\\\":[{\\\"name\\\":\\\"knockout\\\",\\\"type\\\":\\\"js\\\",\\\"url\\\":\\\"\\/assetserver\\/727383f2a47bd31570b7da84eee7b022dd6d7c78-knockout.js\\\"},{\\\"name\\\":\\\"knockout_punches\\\",\\\"type\\\":\\\"js\\\",\\\"url\\\":\\\"\\/assetserver\\/382b41b3b1bd9f26f75861d360bad7f8beea211f-knockout_punches.js\\\"}],\\\"type\\\":\\\"async_block\\\"})).then((imports) => handler.apply(this, imports));\\n}\\n\"],\"observables\":{\"loading\":{\"sync\":false,\"id\":\"435929308747932011\",\"value\":false},\"clicks\":{\"sync\":true,\"id\":\"16699534801939770795\",\"value\":0}}},\"children\":[{\"props\":{\"attributes\":{\"data-bind\":\"click: function (){this.clicks(this.clicks()+1)}, css: {'is-loading' : loading}\"},\"className\":\"is-medium button is-primary\",\"style\":{}},\"nodeType\":\"DOM\",\"type\":\"node\",\"instanceArgs\":{\"namespace\":\"html\",\"tag\":\"button\"},\"children\":[\"save\"]}]}]}]}]},{\"props\":{\"className\":\"interact-widget\"},\"nodeType\":\"DOM\",\"type\":\"node\",\"instanceArgs\":{\"namespace\":\"html\",\"tag\":\"div\"},\"children\":[{\"props\":{},\"nodeType\":\"Scope\",\"type\":\"node\",\"instanceArgs\":{\"imports\":{\"data\":[{\"name\":null,\"type\":\"js\",\"url\":\"\\/assetserver\\/dd22ed1bf1896c2748f3fe616ce0b838adc895c1-katex.min.js\"},{\"name\":null,\"type\":\"css\",\"url\":\"\\/assetserver\\/46517a424aa5e6cffc1360d7e0848b601c584ee3-katex.min.css\"}],\"type\":\"async_block\"},\"id\":\"12991356987835906920\",\"handlers\":{\"value\":[\"(function (txt){return this.k.render(txt,this.container)})\"]},\"systemjs_options\":null,\"mount_callbacks\":[\"function () {\\n    var handler = ((function (k){this.k=k; this.container=this.dom.querySelector(\\\"#container\\\"); return k.render(\\\"\\\\\\\\;\\\\\\\\;\\\",this.container)}));\\n    (WebIO.importBlock({\\\"data\\\":[{\\\"name\\\":null,\\\"type\\\":\\\"js\\\",\\\"url\\\":\\\"\\/assetserver\\/dd22ed1bf1896c2748f3fe616ce0b838adc895c1-katex.min.js\\\"},{\\\"name\\\":null,\\\"type\\\":\\\"css\\\",\\\"url\\\":\\\"\\/assetserver\\/46517a424aa5e6cffc1360d7e0848b601c584ee3-katex.min.css\\\"}],\\\"type\\\":\\\"async_block\\\"})).then((imports) => handler.apply(this, imports));\\n}\\n\"],\"observables\":{\"value\":{\"sync\":false,\"id\":\"13886915086650642509\",\"value\":\"\\\\;\\\\;\"}}},\"children\":[{\"props\":{\"id\":\"container\"},\"nodeType\":\"DOM\",\"type\":\"node\",\"instanceArgs\":{\"namespace\":\"html\",\"tag\":\"div\"},\"children\":[]}]}]},{\"props\":{},\"nodeType\":\"Scope\",\"type\":\"node\",\"instanceArgs\":{\"imports\":{\"data\":[],\"type\":\"async_block\"},\"id\":\"7005327453763959651\",\"handlers\":{\"obs-output\":[\"function (value, scope) {\\n    scope.setInnerHTML(value);\\n}\\n\"]},\"systemjs_options\":null,\"mount_callbacks\":[],\"observables\":{\"obs-output\":{\"sync\":false,\"id\":\"12085336283762629594\",\"value\":\"<img src='data:image\\/png;base64,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'><\\/img>\"}}},\"children\":[{\"props\":{\"className\":\"webio-observable\",\"setInnerHtml\":\"<img src='data:image\\/png;base64,iVBORw0KGgoAAAANSUhEUgAAAa4AAAGuCAIAAABHl3XNAAAABmJLR0QA\\/wD\\/AP+gvaeTAAALD0lEQVR4nO3dwZHbVhpG0eupCYAhOIQOQSE4FKfkTBRCh+AQmIFmoZpZ2S4Az4PnXzhnrVcASfCWzUV\\/P3379i2AZ\\/vX7hsA2E8KAaQQQAoBkkKApBAgKQRICgGSQoCkECApBEgKAZJCgKQQoPr3qX\\/9+fn5er0uXOb9fn\\/t6+fr88LZj\\/fHl75cvm417uzKe1WNOzvx8534Ga28z7u+vyvX\\/fXj1+P\\/\\/lwKX6\\/Xzz\\/\\/fO6Oqvr9998\\/+\\/zt598unO33fumXy9etxp1dea+qcWcnfr4TP6OV93nX93fxfT7O\\/yADSCGAFAIkhQBJIUBSCJAUAiSFAEkhQFIIkBQCJIUASSFAUgiQFAIkhQBJIUBn\\/4r1+\\/3+\\/rd\\/z3q\\/3x99nP27st99vD\\/eXb9u\\/\\/17xYPOrrxXdfrv924\\/O\\/HznfgZrbzPu76\\/q+\\/zYedSuMvXvn52ad+gjy992XLdauWef+mXC2ffvauJZy\\/b9WysfEZf+3r5urssvt5d34XjZmybNHDPoYdtfew6O3Ez52nP1cbP6Di\\/FQJIIYAUAiSFAEkhQFIIkBQCJIUASSFAUgiQFAIkhQBJIUBSCJAUAiSFAEkhQFO2TWrenkM9a+tj19mJmzlPe642fkbH3bdtYgvioMWtjxW7dkJ2sYty3OLOz5brnrr0fdsmDdxGmLibsXJ24uu1E3L48Midn8Wzx\\/mtEEAKAaQQICkESAoBkkKApBAgKQRICgGSQoCkECApBEgKAZJCgKQQICkESAoBunPbpIHbCBN3M1bOTny9dkIOGrrzs3r2sHMpnLgFcfmiGy3uSIzboGjhnhefjZWNkYmvd4tdn9Gpf38uhZ+vedsXK2ftSPzzz07cGOlhr3fjd\\/84vxUCSCGAFAIkhQBJIUBSCJAUAiSFAEkhQFIIkBQCJIUASSFAUgiQFAIkhQBJIUBn\\/4r1x3ve9sXKWTsS\\/\\/yzEzdG6lmvd+N3\\/7hzKVyxaxeF4zZuUGzZ61h8Jld2US4c\\/M736P\\/kvm2T7Dncct0Gvs+7zvp8jx61bQLwBFIIIIUAUgiQFAIkhQBJIUBSCJAUAiSFAEkhQFIIkBQCJIUASSFAUgiQFAJ057ZJ2XO447o1733eddbne5Btk7\\/T4hbElj2Hxa2PLdd92m7Gxn2Sy9e9cOp\\/Nn6Pxn1\\/T7lv2+SBuwrj9joauItin+To0Znv1eJzdZzfCgGkEEAKAZJCgKQQICkESAoBkkKApBAgKQRICgGSQoCkECApBEgKAZJCgKQQoDu3TR64qzBur6Pm7aLYJzlo6Hu1+Fwddy6FE7cgFq878exlu7Zchj4bl03czJl43VPOpfD1eo3bgnD2+NmJ+yR5n53987PH+a0QQAoBpBAgKQRICgGSQoCkECApBEgKAZJCgKQQICkESAoBkkKApBAgKQRICgE6+1es3+95WxDOHj87cZ+kvM\\/O\\/unZ486lcGULYnEX5cLB73Zdd8Wue964AzPO0B2Yle\\/vhYPf7brnU4\\/WuRR+vq5vUKzsOaxsX+y6bpu2L562E7Lr7NN2YIY+k8f5rRBACgGkECApBEgKAZJCgKQQICkESAoBkkKApBAgKQRICgGSQoCkECApBEgKATr7V6w\\/3tc3KFb2HFa2L3Zdt\\/ZsXzxtJ2TX2aftwEx9Jg87l8LFzY0t2xe79liqLe\\/Vxnu+cJApdn1\\/b9uQOZfC1+s1cd\\/gUfsVE+852yaHz3qfjx49+d+wfisEkEIAKQRICgGSQoCkECApBEgKAZJCgKQQICkESAoBkkKApBAgKQRICgGSQoDO\\/hXr93vmvsHVsxP3Kybec9k2OXrW+3zQ9\\/f5uHMpnLi5sXj2sqFbLpevu7h7s+W6bdqfqbY8Gyt2fb63OZfCz9e8zY1dZyduUEzc65h4zz1sY2Tj53uc3woBpBBACgGSQoCkECApBEgKAZJCgKQQICkESAoBkkKApBAgKQRICgGSQoCkEKCzf8X64z1vc2PX2YkbFBP3Oibecz1rY2Tj53vcuRQ+za4tl41bH5dN3HJp08bIxJ2QjbtG97Bt8ldnd20y2Pr4sc\\/uejYa+Hpb++4f57dCACkEkEKApBAgKQRICgGSQoCkECApBEgKAZJCgKQQICkESAoBkkKApBAgKQTItslfn921yWDr48c+u+vZqHmvt7Xv\\/nEztk0m7lfs2vrYZeKWy8SdkL\\/9Zm6wuIvyd9\\/OH5uxbTJxz2HXWRsy91y3gc\\/GxLOLz\\/NxfisEkEIAKQRICgGSQoCkECApBEgKAZJCgKQQICkESAoBkkKApBAgKQRICgGSQoCmbJtM3HPYddaGzD3XrXnPxsSzi8\\/zcedSuLgjsbJvMG6\\/YsXK61257sQNmV0WP6NxOzBtuueVZ\\/LUo3Uuha\\/Xy37FDWd37ZM87b3a9Uw2cAemmc\\/VcX4rBJBCACkESAoBkkKApBAgKQRICgGSQoCkECApBEgKAZJCgKQQICkESAoBkkKAzv4V6\\/d7z47E0\\/Yrdu2TPO292vVMNnAHpqHP1WHnUrhi4i5KC3sOK2d3bYxM3L5YsWtDZsWu71E\\/+nbNfdsmPWzPYeXsri2IidsXEz\\/fXWcnbtcsnj3Ob4UAUggghQBJIUBSCJAUAiSFAEkhQFIIkBQCJIUASSFAUgiQFAIkhQBJIUBSCNCd2yY9bM9h5eyuLYiJ2xcTP99dZydu16yePey+bZMVEzcoVmzcGBm3qbJxr2Pl9V44+N2unZ9d+zO3mbFt4uw9Zyduqkzc69j1ep\\/2Pp\\/it0IAKQSQQoCkECApBEgKAZJCgKQQICkESAoBkkKApBAgKQRICgGSQoCkECApBGjKtomz95yduKkyca9j1+t92vt86t\\/ft22ycTfjwsHvJt7zil3bFxP3OuztHLS4t7N49rj7tk3sZhw\\/u3LP2UU5eHTfTkib3ueJz9Xi2eP8VggghQBSCJAUAiSFAEkhQFIIkBQCJIUASSFAUgiQFAIkhQBJIUBSCJAUAiSFAN25bWI34\\/jZlXvOLsoxG3dC2vQ+T3yuFs8ed9+2yYqJOxIT73nXxkgL+xUbd1HGbddMvOfbzNg2sSNxz9mJr3fXPU+8bg\\/b2zn17\\/1WCCCFAFIIkBQCJIUASSFAUgiQFAIkhQBJIUBSCJAUAiSFAEkhQFIIkBQCJIUATdk2sSNxz9mJr3fXPU+8bj1rb+fUv79v22TX1sfKnsPG6+46u8XGTZXLhl533N7Obe7bNmngXkcLWxBPOztxJ6R9mxvO3nP2OL8VAkghgBQCJIUASSFAUgiQFAIkhQBJIUBSCJAUAiSFAEkhQFIIkBQCJIUASSFAd26bNHCvo65vQTzt7MSdkPZtbjh7z9njzqXwaXsdKzsSX\\/u6cunLdm1f7NonmfhMfunLhYNzLT4bf\\/ft\\/LFzKfx8PWsnZNdeR5vuuU0bMhPf55WzT9tj2bhdc5zfCgGkEEAKAZJCgKQQICkESAoBkkKApBAgKQRICgGSQoCkECApBEgKAZJCgKQQoLN\\/xfrj\\/aydkF17HbXnntu0ITPxfV45+7Q9lo3bNcedS+EDtz52XXfLPT\\/N0B2YCwfXTdyuOTVtdC6Fr9dr3AbF03Ykdp2duG3ytB2YBt7zYjeO81shgBQCSCFAUgiQFAIkhQBJIUBSCJAUAiSFAEkhQFIIkBQCJIUASSFAUgiQFAJ09q9Yv9\\/zNiietiOx6+zEbZOn7cA08J5Xu3HYT9++fbtyHYAfiP9BBpBCACkESAoBkkKApBAgKQRICgGSQoCkECApBEgKAZJCgKQQoPoPPwnMpRWOVGkAAAAASUVORK5CYII='><\\/img>\"},\"nodeType\":\"DOM\",\"type\":\"node\",\"instanceArgs\":{\"namespace\":\"html\",\"tag\":\"div\"},\"children\":[]}]},{\"props\":{\"className\":\"interact-widget\"},\"nodeType\":\"DOM\",\"type\":\"node\",\"instanceArgs\":{\"namespace\":\"html\",\"tag\":\"div\"},\"children\":[{\"props\":{},\"nodeType\":\"Scope\",\"type\":\"node\",\"instanceArgs\":{\"imports\":{\"data\":[{\"name\":null,\"type\":\"js\",\"url\":\"\\/assetserver\\/dd22ed1bf1896c2748f3fe616ce0b838adc895c1-katex.min.js\"},{\"name\":null,\"type\":\"css\",\"url\":\"\\/assetserver\\/46517a424aa5e6cffc1360d7e0848b601c584ee3-katex.min.css\"}],\"type\":\"async_block\"},\"id\":\"12991356987835906920\",\"handlers\":{\"value\":[\"(function (txt){return this.k.render(txt,this.container)})\"]},\"systemjs_options\":null,\"mount_callbacks\":[\"function () {\\n    var handler = ((function (k){this.k=k; this.container=this.dom.querySelector(\\\"#container\\\"); return k.render(\\\"\\\\\\\\;\\\\\\\\;\\\",this.container)}));\\n    (WebIO.importBlock({\\\"data\\\":[{\\\"name\\\":null,\\\"type\\\":\\\"js\\\",\\\"url\\\":\\\"\\/assetserver\\/dd22ed1bf1896c2748f3fe616ce0b838adc895c1-katex.min.js\\\"},{\\\"name\\\":null,\\\"type\\\":\\\"css\\\",\\\"url\\\":\\\"\\/assetserver\\/46517a424aa5e6cffc1360d7e0848b601c584ee3-katex.min.css\\\"}],\\\"type\\\":\\\"async_block\\\"})).then((imports) => handler.apply(this, imports));\\n}\\n\"],\"observables\":{\"value\":{\"sync\":false,\"id\":\"13886915086650642509\",\"value\":\"\\\\;\\\\;\"}}},\"children\":[{\"props\":{\"id\":\"container\"},\"nodeType\":\"DOM\",\"type\":\"node\",\"instanceArgs\":{\"namespace\":\"html\",\"tag\":\"div\"},\"children\":[]}]}]},{\"props\":{\"style\":{\"display\":\"flex\",\"flex-direction\":\"column\"}},\"nodeType\":\"DOM\",\"type\":\"node\",\"instanceArgs\":{\"namespace\":\"html\",\"tag\":\"div\"},\"children\":[]}]}]},\n",
       "        window,\n",
       "    );\n",
       "    })()\n",
       "    </script>\n",
       "</div>\n"
      ],
      "text/plain": [
       "WebIO.Node{WebIO.DOM}(WebIO.DOM(:html, :div), Any[WebIO.Node{WebIO.DOM}(WebIO.DOM(:html, :div), Any[WebIO.Node{WebIO.DOM}(WebIO.DOM(:html, :div), Any[WebIO.Node{WebIO.DOM}(WebIO.DOM(:html, :div), Any[WebIO.Scope(WebIO.Node{WebIO.DOM}(WebIO.DOM(:html, :div), Any[WebIO.Node{WebIO.DOM}(WebIO.DOM(:html, :div), Any[WebIO.Node{WebIO.DOM}(WebIO.DOM(:html, :label), Any[\"time\"], Dict{Symbol, Any}(:className => \"interact \", :style => Dict{Any, Any}(:padding => \"5px 10px 0px 10px\")))], Dict{Symbol, Any}(:className => \"interact-flex-row-left\")), WebIO.Node{WebIO.DOM}(WebIO.DOM(:html, :div), Any[WebIO.Node{WebIO.DOM}(WebIO.DOM(:html, :input), Any[], Dict{Symbol, Any}(:max => 200, :min => 1, :attributes => Dict{Any, Any}(:type => \"range\", Symbol(\"data-bind\") => \"numericValue: index, valueUpdate: 'input', event: {change: function (){this.changes(this.changes()+1)}}\", \"orient\" => \"horizontal\"), :step => 1, :className => \"slider slider is-fullwidth\", :style => Dict{Any, Any}()))], Dict{Symbol, Any}(:className => \"interact-flex-row-center\")), WebIO.Node{WebIO.DOM}(WebIO.DOM(:html, :div), Any[WebIO.Node{WebIO.DOM}(WebIO.DOM(:html, :p), Any[], Dict{Symbol, Any}(:attributes => Dict(\"data-bind\" => \"text: formatted_val\")))], Dict{Symbol, Any}(:className => \"interact-flex-row-right\"))], Dict{Symbol, Any}(:className => \"interact-flex-row interact-widget\")), Dict{String, Tuple{Observables.AbstractObservable, Union{Nothing, Bool}}}(\"changes\" => (Observable(0), nothing), \"index\" => (Observable(1), nothing)), Set{String}(), nothing, WebIO.Asset[WebIO.Asset(\"js\", \"knockout\", \"/home/dushya/.julia/packages/Knockout/HReiN/src/../assets/knockout.js\"), WebIO.Asset(\"js\", \"knockout_punches\", \"/home/dushya/.julia/packages/Knockout/HReiN/src/../assets/knockout_punches.js\"), WebIO.Asset(\"js\", nothing, \"/home/dushya/.julia/packages/InteractBase/LJXv3/src/../assets/all.js\"), WebIO.Asset(\"css\", nothing, \"/home/dushya/.julia/packages/InteractBase/LJXv3/src/../assets/style.css\"), WebIO.Asset(\"css\", nothing, \"/home/dushya/.julia/packages/Interact/PENUy/src/../assets/bulma_confined.min.css\")], Dict{Any, Any}(\"changes\" => Any[WebIO.JSString(\"(function (val){return (val!=this.model[\\\"changes\\\"]()) ? (this.valueFromJulia[\\\"changes\\\"]=true, this.model[\\\"changes\\\"](val)) : undefined})\")], \"index\" => Any[WebIO.JSString(\"(function (val){return (val!=this.model[\\\"index\\\"]()) ? (this.valueFromJulia[\\\"index\\\"]=true, this.model[\\\"index\\\"](val)) : undefined})\")]), WebIO.ConnectionPool(Channel{Any}(32), Set{WebIO.AbstractConnection}(), Base.GenericCondition{ReentrantLock}(Base.IntrusiveLinkedList{Task}(Task (runnable) @0x00007f1904c06d60, Task (runnable) @0x00007f1904c06d60), ReentrantLock(nothing, 0x00000000, 0x00, Base.GenericCondition{Base.Threads.SpinLock}(Base.IntrusiveLinkedList{Task}(nothing, nothing), Base.Threads.SpinLock(0)), (8, 3833742183571337779, 139747372498997)))), WebIO.JSString[WebIO.JSString(\"function () {\\n    var handler = (function (ko, koPunches) {\\n    ko.punches.enableAll();\\n    ko.bindingHandlers.numericValue = {\\n        init: function(element, valueAccessor, allBindings, data, context) {\\n            var stringified = ko.observable(ko.unwrap(valueAccessor()));\\n            stringified.subscribe(function(value) {\\n                var val = parseFloat(value);\\n                if (!isNaN(val)) {\\n                    valueAccessor()(val);\\n                }\\n            });\\n            valueAccessor().subscribe(function(value) {\\n                var str = JSON.stringify(value);\\n                if ((str == \\\"0\\\") && ([\\\"-0\\\", \\\"-0.\\\"].indexOf(stringified()) >= 0))\\n                     return;\\n                 if ([\\\"null\\\", \\\"\\\"].indexOf(str) >= 0)\\n                     return;\\n                stringified(str);\\n            });\\n            ko.applyBindingsToNode(\\n                element,\\n                {\\n                    value: stringified,\\n                    valueUpdate: allBindings.get('valueUpdate'),\\n                },\\n                context,\\n            );\\n        }\\n    };\\n    var json_data = {\\\"formatted_vals\\\":[\\\"1\\\",\\\"2\\\",\\\"3\\\",\\\"4\\\",\\\"5\\\",\\\"6\\\",\\\"7\\\",\\\"8\\\",\\\"9\\\",\\\"10\\\",\\\"11\\\",\\\"12\\\",\\\"13\\\",\\\"14\\\",\\\"15\\\",\\\"16\\\",\\\"17\\\",\\\"18\\\",\\\"19\\\",\\\"20\\\",\\\"21\\\",\\\"22\\\",\\\"23\\\",\\\"24\\\",\\\"25\\\",\\\"26\\\",\\\"27\\\",\\\"28\\\",\\\"29\\\",\\\"30\\\",\\\"31\\\",\\\"32\\\",\\\"33\\\",\\\"34\\\",\\\"35\\\",\\\"36\\\",\\\"37\\\",\\\"38\\\",\\\"39\\\",\\\"40\\\",\\\"41\\\",\\\"42\\\",\\\"43\\\",\\\"44\\\",\\\"45\\\",\\\"46\\\",\\\"47\\\",\\\"48\\\",\\\"49\\\",\\\"50\\\",\\\"51\\\",\\\"52\\\",\\\"53\\\",\\\"54\\\",\\\"55\\\",\\\"56\\\",\\\"57\\\",\\\"58\\\",\\\"59\\\",\\\"60\\\",\\\"61\\\",\\\"62\\\",\\\"63\\\",\\\"64\\\",\\\"65\\\",\\\"66\\\",\\\"67\\\",\\\"68\\\",\\\"69\\\",\\\"70\\\",\\\"71\\\",\\\"72\\\",\\\"73\\\",\\\"74\\\",\\\"75\\\",\\\"76\\\",\\\"77\\\",\\\"78\\\",\\\"79\\\",\\\"80\\\",\\\"81\\\",\\\"82\\\",\\\"83\\\",\\\"84\\\",\\\"85\\\",\\\"86\\\",\\\"87\\\",\\\"88\\\",\\\"89\\\",\\\"90\\\",\\\"91\\\",\\\"92\\\",\\\"93\\\",\\\"94\\\",\\\"95\\\",\\\"96\\\",\\\"97\\\",\\\"98\\\",\\\"99\\\",\\\"100\\\",\\\"101\\\",\\\"102\\\",\\\"103\\\",\\\"104\\\",\\\"105\\\",\\\"106\\\",\\\"107\\\",\\\"108\\\",\\\"109\\\",\\\"110\\\",\\\"111\\\",\\\"112\\\",\\\"113\\\",\\\"114\\\",\\\"115\\\",\\\"116\\\",\\\"117\\\",\\\"118\\\",\\\"119\\\",\\\"120\\\",\\\"121\\\",\\\"122\\\",\\\"123\\\",\\\"124\\\",\\\"125\\\",\\\"126\\\",\\\"127\\\",\\\"128\\\",\\\"129\\\",\\\"130\\\",\\\"131\\\",\\\"132\\\",\\\"133\\\",\\\"134\\\",\\\"135\\\",\\\"136\\\",\\\"137\\\",\\\"138\\\",\\\"139\\\",\\\"140\\\",\\\"141\\\",\\\"142\\\",\\\"143\\\",\\\"144\\\",\\\"145\\\",\\\"146\\\",\\\"147\\\",\\\"148\\\",\\\"149\\\",\\\"150\\\",\\\"151\\\",\\\"152\\\",\\\"153\\\",\\\"154\\\",\\\"155\\\",\\\"156\\\",\\\"157\\\",\\\"158\\\",\\\"159\\\",\\\"160\\\",\\\"161\\\",\\\"162\\\",\\\"163\\\",\\\"164\\\",\\\"165\\\",\\\"166\\\",\\\"167\\\",\\\"168\\\",\\\"169\\\",\\\"170\\\",\\\"171\\\",\\\"172\\\",\\\"173\\\",\\\"174\\\",\\\"175\\\",\\\"176\\\",\\\"177\\\",\\\"178\\\",\\\"179\\\",\\\"180\\\",\\\"181\\\",\\\"182\\\",\\\"183\\\",\\\"184\\\",\\\"185\\\",\\\"186\\\",\\\"187\\\",\\\"188\\\",\\\"189\\\",\\\"190\\\",\\\"191\\\",\\\"192\\\",\\\"193\\\",\\\"194\\\",\\\"195\\\",\\\"196\\\",\\\"197\\\",\\\"198\\\",\\\"199\\\",\\\"200\\\"],\\\"changes\\\":WebIO.getval({\\\"name\\\":\\\"changes\\\",\\\"scope\\\":\\\"11727146738375085704\\\",\\\"id\\\":\\\"1888894802030482974\\\",\\\"type\\\":\\\"observable\\\"}),\\\"index\\\":WebIO.getval({\\\"name\\\":\\\"index\\\",\\\"scope\\\":\\\"11727146738375085704\\\",\\\"id\\\":\\\"13134041661270747882\\\",\\\"type\\\":\\\"observable\\\"})};\\n    var self = this;\\n    function AppViewModel() {\\n        for (var key in json_data) {\\n            var el = json_data[key];\\n            this[key] = Array.isArray(el) ? ko.observableArray(el) : ko.observable(el);\\n        }\\n        \\n        [this[\\\"formatted_val\\\"]=ko.computed(    function(){\\n        return this.formatted_vals()[parseInt(this.index())-(1)];\\n    }\\n,this)]\\n        [this[\\\"changes\\\"].subscribe((function (val){!(this.valueFromJulia[\\\"changes\\\"]) ? (WebIO.setval({\\\"name\\\":\\\"changes\\\",\\\"scope\\\":\\\"11727146738375085704\\\",\\\"id\\\":\\\"1888894802030482974\\\",\\\"type\\\":\\\"observable\\\"},val)) : undefined; return this.valueFromJulia[\\\"changes\\\"]=false}),self),this[\\\"index\\\"].subscribe((function (val){!(this.valueFromJulia[\\\"index\\\"]) ? (WebIO.setval({\\\"name\\\":\\\"index\\\",\\\"scope\\\":\\\"11727146738375085704\\\",\\\"id\\\":\\\"13134041661270747882\\\",\\\"type\\\":\\\"observable\\\"},val)) : undefined; return this.valueFromJulia[\\\"index\\\"]=false}),self)]\\n        \\n    }\\n    self.model = new AppViewModel();\\n    self.valueFromJulia = {};\\n    for (var key in json_data) {\\n        self.valueFromJulia[key] = false;\\n    }\\n    ko.applyBindings(self.model, self.dom);\\n}\\n);\\n    (WebIO.importBlock({\\\"data\\\":[{\\\"name\\\":\\\"knockout\\\",\\\"type\\\":\\\"js\\\",\\\"url\\\":\\\"/assetserver/727383f2a47bd31570b7da84eee7b022dd6d7c78-knockout.js\\\"},{\\\"name\\\":\\\"knockout_punches\\\",\\\"type\\\":\\\"js\\\",\\\"url\\\":\\\"/assetserver/382b41b3b1bd9f26f75861d360bad7f8beea211f-knockout_punches.js\\\"}],\\\"type\\\":\\\"async_block\\\"})).then((imports) => handler.apply(this, imports));\\n}\\n\")])], Dict{Symbol, Any}(:className => \"field interact-widget\")), WebIO.Node{WebIO.DOM}(WebIO.DOM(:html, :div), Any[WebIO.Scope(WebIO.Node{WebIO.DOM}(WebIO.DOM(:html, :div), Any[WebIO.Node{WebIO.DOM}(WebIO.DOM(:html, :div), Any[WebIO.Node{WebIO.DOM}(WebIO.DOM(:html, :label), Any[\"scale\"], Dict{Symbol, Any}(:className => \"interact \", :style => Dict{Any, Any}(:padding => \"5px 10px 0px 10px\")))], Dict{Symbol, Any}(:className => \"interact-flex-row-left\")), WebIO.Node{WebIO.DOM}(WebIO.DOM(:html, :div), Any[WebIO.Node{WebIO.DOM}(WebIO.DOM(:html, :input), Any[], Dict{Symbol, Any}(:max => 20, :min => 1, :attributes => Dict{Any, Any}(:type => \"range\", Symbol(\"data-bind\") => \"numericValue: index, valueUpdate: 'input', event: {change: function (){this.changes(this.changes()+1)}}\", \"orient\" => \"horizontal\"), :step => 1, :className => \"slider slider is-fullwidth\", :style => Dict{Any, Any}()))], Dict{Symbol, Any}(:className => \"interact-flex-row-center\")), WebIO.Node{WebIO.DOM}(WebIO.DOM(:html, :div), Any[WebIO.Node{WebIO.DOM}(WebIO.DOM(:html, :p), Any[], Dict{Symbol, Any}(:attributes => Dict(\"data-bind\" => \"text: formatted_val\")))], Dict{Symbol, Any}(:className => \"interact-flex-row-right\"))], Dict{Symbol, Any}(:className => \"interact-flex-row interact-widget\")), Dict{String, Tuple{Observables.AbstractObservable, Union{Nothing, Bool}}}(\"changes\" => (Observable(0), nothing), \"index\" => (Observable{Any}(10), nothing)), Set{String}(), nothing, WebIO.Asset[WebIO.Asset(\"js\", \"knockout\", \"/home/dushya/.julia/packages/Knockout/HReiN/src/../assets/knockout.js\"), WebIO.Asset(\"js\", \"knockout_punches\", \"/home/dushya/.julia/packages/Knockout/HReiN/src/../assets/knockout_punches.js\"), WebIO.Asset(\"js\", nothing, \"/home/dushya/.julia/packages/InteractBase/LJXv3/src/../assets/all.js\"), WebIO.Asset(\"css\", nothing, \"/home/dushya/.julia/packages/InteractBase/LJXv3/src/../assets/style.css\"), WebIO.Asset(\"css\", nothing, \"/home/dushya/.julia/packages/Interact/PENUy/src/../assets/bulma_confined.min.css\")], Dict{Any, Any}(\"changes\" => Any[WebIO.JSString(\"(function (val){return (val!=this.model[\\\"changes\\\"]()) ? (this.valueFromJulia[\\\"changes\\\"]=true, this.model[\\\"changes\\\"](val)) : undefined})\")], \"index\" => Any[WebIO.JSString(\"(function (val){return (val!=this.model[\\\"index\\\"]()) ? (this.valueFromJulia[\\\"index\\\"]=true, this.model[\\\"index\\\"](val)) : undefined})\")]), WebIO.ConnectionPool(Channel{Any}(32), Set{WebIO.AbstractConnection}(), Base.GenericCondition{ReentrantLock}(Base.IntrusiveLinkedList{Task}(Task (runnable) @0x00007f1904d455f0, Task (runnable) @0x00007f1904d455f0), ReentrantLock(nothing, 0x00000000, 0x00, Base.GenericCondition{Base.Threads.SpinLock}(Base.IntrusiveLinkedList{Task}(nothing, nothing), Base.Threads.SpinLock(0)), (8, -1, 1211180777720)))), WebIO.JSString[WebIO.JSString(\"function () {\\n    var handler = (function (ko, koPunches) {\\n    ko.punches.enableAll();\\n    ko.bindingHandlers.numericValue = {\\n        init: function(element, valueAccessor, allBindings, data, context) {\\n            var stringified = ko.observable(ko.unwrap(valueAccessor()));\\n            stringified.subscribe(function(value) {\\n                var val = parseFloat(value);\\n                if (!isNaN(val)) {\\n                    valueAccessor()(val);\\n                }\\n            });\\n            valueAccessor().subscribe(function(value) {\\n                var str = JSON.stringify(value);\\n                if ((str == \\\"0\\\") && ([\\\"-0\\\", \\\"-0.\\\"].indexOf(stringified()) >= 0))\\n                     return;\\n                 if ([\\\"null\\\", \\\"\\\"].indexOf(str) >= 0)\\n                     return;\\n                stringified(str);\\n            });\\n            ko.applyBindingsToNode(\\n                element,\\n                {\\n                    value: stringified,\\n                    valueUpdate: allBindings.get('valueUpdate'),\\n                },\\n                context,\\n            );\\n        }\\n    };\\n    var json_data = {\\\"formatted_vals\\\":[\\\"0.1\\\",\\\"0.2\\\",\\\"0.3\\\",\\\"0.4\\\",\\\"0.5\\\",\\\"0.6\\\",\\\"0.7\\\",\\\"0.8\\\",\\\"0.9\\\",\\\"1.0\\\",\\\"1.1\\\",\\\"1.2\\\",\\\"1.3\\\",\\\"1.4\\\",\\\"1.5\\\",\\\"1.6\\\",\\\"1.7\\\",\\\"1.8\\\",\\\"1.9\\\",\\\"2.0\\\"],\\\"changes\\\":WebIO.getval({\\\"name\\\":\\\"changes\\\",\\\"scope\\\":\\\"6854832288157315630\\\",\\\"id\\\":\\\"17447908116757341200\\\",\\\"type\\\":\\\"observable\\\"}),\\\"index\\\":WebIO.getval({\\\"name\\\":\\\"index\\\",\\\"scope\\\":\\\"6854832288157315630\\\",\\\"id\\\":\\\"8385448232312977654\\\",\\\"type\\\":\\\"observable\\\"})};\\n    var self = this;\\n    function AppViewModel() {\\n        for (var key in json_data) {\\n            var el = json_data[key];\\n            this[key] = Array.isArray(el) ? ko.observableArray(el) : ko.observable(el);\\n        }\\n        \\n        [this[\\\"formatted_val\\\"]=ko.computed(    function(){\\n        return this.formatted_vals()[parseInt(this.index())-(1)];\\n    }\\n,this)]\\n        [this[\\\"changes\\\"].subscribe((function (val){!(this.valueFromJulia[\\\"changes\\\"]) ? (WebIO.setval({\\\"name\\\":\\\"changes\\\",\\\"scope\\\":\\\"6854832288157315630\\\",\\\"id\\\":\\\"17447908116757341200\\\",\\\"type\\\":\\\"observable\\\"},val)) : undefined; return this.valueFromJulia[\\\"changes\\\"]=false}),self),this[\\\"index\\\"].subscribe((function (val){!(this.valueFromJulia[\\\"index\\\"]) ? (WebIO.setval({\\\"name\\\":\\\"index\\\",\\\"scope\\\":\\\"6854832288157315630\\\",\\\"id\\\":\\\"8385448232312977654\\\",\\\"type\\\":\\\"observable\\\"},val)) : undefined; return this.valueFromJulia[\\\"index\\\"]=false}),self)]\\n        \\n    }\\n    self.model = new AppViewModel();\\n    self.valueFromJulia = {};\\n    for (var key in json_data) {\\n        self.valueFromJulia[key] = false;\\n    }\\n    ko.applyBindings(self.model, self.dom);\\n}\\n);\\n    (WebIO.importBlock({\\\"data\\\":[{\\\"name\\\":\\\"knockout\\\",\\\"type\\\":\\\"js\\\",\\\"url\\\":\\\"/assetserver/727383f2a47bd31570b7da84eee7b022dd6d7c78-knockout.js\\\"},{\\\"name\\\":\\\"knockout_punches\\\",\\\"type\\\":\\\"js\\\",\\\"url\\\":\\\"/assetserver/382b41b3b1bd9f26f75861d360bad7f8beea211f-knockout_punches.js\\\"}],\\\"type\\\":\\\"async_block\\\"})).then((imports) => handler.apply(this, imports));\\n}\\n\")])], Dict{Symbol, Any}(:className => \"field interact-widget\")), WebIO.Node{WebIO.DOM}(WebIO.DOM(:html, :div), Any[], Dict{Symbol, Any}(:style => Dict(\"display\" => \"flex\", \"flex-direction\" => \"column\"))), WebIO.Node{WebIO.DOM}(WebIO.DOM(:html, :div), Any[WebIO.Node{WebIO.DOM}(WebIO.DOM(:html, :div), Any[WebIO.Scope(WebIO.Node{WebIO.DOM}(WebIO.DOM(:html, :div), Any[WebIO.Node{WebIO.DOM}(WebIO.DOM(:html, :div), Any[WebIO.Node{WebIO.DOM}(WebIO.DOM(:html, :label), Any[\"alive_percent\"], Dict{Symbol, Any}(:className => \"interact \", :style => Dict{Any, Any}(:padding => \"5px 10px 0px 10px\")))], Dict{Symbol, Any}(:className => \"interact-flex-row-left\")), WebIO.Node{WebIO.DOM}(WebIO.DOM(:html, :div), Any[WebIO.Node{WebIO.DOM}(WebIO.DOM(:html, :input), Any[], Dict{Symbol, Any}(:max => 101, :min => 1, :attributes => Dict{Any, Any}(:type => \"range\", Symbol(\"data-bind\") => \"numericValue: index, valueUpdate: 'input', event: {change: function (){this.changes(this.changes()+1)}}\", \"orient\" => \"horizontal\"), :step => 1, :className => \"slider slider is-fullwidth\", :style => Dict{Any, Any}()))], Dict{Symbol, Any}(:className => \"interact-flex-row-center\")), WebIO.Node{WebIO.DOM}(WebIO.DOM(:html, :div), Any[WebIO.Node{WebIO.DOM}(WebIO.DOM(:html, :p), Any[], Dict{Symbol, Any}(:attributes => Dict(\"data-bind\" => \"text: formatted_val\")))], Dict{Symbol, Any}(:className => \"interact-flex-row-right\"))], Dict{Symbol, Any}(:className => \"interact-flex-row interact-widget\")), Dict{String, Tuple{Observables.AbstractObservable, Union{Nothing, Bool}}}(\"changes\" => (Observable(0), nothing), \"index\" => (Observable{Any}(51), nothing)), Set{String}(), nothing, WebIO.Asset[WebIO.Asset(\"js\", \"knockout\", \"/home/dushya/.julia/packages/Knockout/HReiN/src/../assets/knockout.js\"), WebIO.Asset(\"js\", \"knockout_punches\", \"/home/dushya/.julia/packages/Knockout/HReiN/src/../assets/knockout_punches.js\"), WebIO.Asset(\"js\", nothing, \"/home/dushya/.julia/packages/InteractBase/LJXv3/src/../assets/all.js\"), WebIO.Asset(\"css\", nothing, \"/home/dushya/.julia/packages/InteractBase/LJXv3/src/../assets/style.css\"), WebIO.Asset(\"css\", nothing, \"/home/dushya/.julia/packages/Interact/PENUy/src/../assets/bulma_confined.min.css\")], Dict{Any, Any}(\"changes\" => Any[WebIO.JSString(\"(function (val){return (val!=this.model[\\\"changes\\\"]()) ? (this.valueFromJulia[\\\"changes\\\"]=true, this.model[\\\"changes\\\"](val)) : undefined})\")], \"index\" => Any[WebIO.JSString(\"(function (val){return (val!=this.model[\\\"index\\\"]()) ? (this.valueFromJulia[\\\"index\\\"]=true, this.model[\\\"index\\\"](val)) : undefined})\")]), WebIO.ConnectionPool(Channel{Any}(32), Set{WebIO.AbstractConnection}(), Base.GenericCondition{ReentrantLock}(Base.IntrusiveLinkedList{Task}(Task (runnable) @0x00007f1904e26bd0, Task (runnable) @0x00007f1904e26bd0), ReentrantLock(nothing, 0x00000000, 0x00, Base.GenericCondition{Base.Threads.SpinLock}(Base.IntrusiveLinkedList{Task}(nothing, nothing), Base.Threads.SpinLock(0)), (8, 139746515395072, 3)))), WebIO.JSString[WebIO.JSString(\"function () {\\n    var handler = (function (ko, koPunches) {\\n    ko.punches.enableAll();\\n    ko.bindingHandlers.numericValue = {\\n        init: function(element, valueAccessor, allBindings, data, context) {\\n            var stringified = ko.observable(ko.unwrap(valueAccessor()));\\n            stringified.subscribe(function(value) {\\n                var val = parseFloat(value);\\n                if (!isNaN(val)) {\\n                    valueAccessor()(val);\\n                }\\n            });\\n            valueAccessor().subscribe(function(value) {\\n                var str = JSON.stringify(value);\\n                if ((str == \\\"0\\\") && ([\\\"-0\\\", \\\"-0.\\\"].indexOf(stringified()) >= 0))\\n                     return;\\n                 if ([\\\"null\\\", \\\"\\\"].indexOf(str) >= 0)\\n                     return;\\n                stringified(str);\\n            });\\n            ko.applyBindingsToNode(\\n                element,\\n                {\\n                    value: stringified,\\n                    valueUpdate: allBindings.get('valueUpdate'),\\n                },\\n                context,\\n            );\\n        }\\n    };\\n    var json_data = {\\\"formatted_vals\\\":[\\\"0.0\\\",\\\"0.01\\\",\\\"0.02\\\",\\\"0.03\\\",\\\"0.04\\\",\\\"0.05\\\",\\\"0.06\\\",\\\"0.07\\\",\\\"0.08\\\",\\\"0.09\\\",\\\"0.1\\\",\\\"0.11\\\",\\\"0.12\\\",\\\"0.13\\\",\\\"0.14\\\",\\\"0.15\\\",\\\"0.16\\\",\\\"0.17\\\",\\\"0.18\\\",\\\"0.19\\\",\\\"0.2\\\",\\\"0.21\\\",\\\"0.22\\\",\\\"0.23\\\",\\\"0.24\\\",\\\"0.25\\\",\\\"0.26\\\",\\\"0.27\\\",\\\"0.28\\\",\\\"0.29\\\",\\\"0.3\\\",\\\"0.31\\\",\\\"0.32\\\",\\\"0.33\\\",\\\"0.34\\\",\\\"0.35\\\",\\\"0.36\\\",\\\"0.37\\\",\\\"0.38\\\",\\\"0.39\\\",\\\"0.4\\\",\\\"0.41\\\",\\\"0.42\\\",\\\"0.43\\\",\\\"0.44\\\",\\\"0.45\\\",\\\"0.46\\\",\\\"0.47\\\",\\\"0.48\\\",\\\"0.49\\\",\\\"0.5\\\",\\\"0.51\\\",\\\"0.52\\\",\\\"0.53\\\",\\\"0.54\\\",\\\"0.55\\\",\\\"0.56\\\",\\\"0.57\\\",\\\"0.58\\\",\\\"0.59\\\",\\\"0.6\\\",\\\"0.61\\\",\\\"0.62\\\",\\\"0.63\\\",\\\"0.64\\\",\\\"0.65\\\",\\\"0.66\\\",\\\"0.67\\\",\\\"0.68\\\",\\\"0.69\\\",\\\"0.7\\\",\\\"0.71\\\",\\\"0.72\\\",\\\"0.73\\\",\\\"0.74\\\",\\\"0.75\\\",\\\"0.76\\\",\\\"0.77\\\",\\\"0.78\\\",\\\"0.79\\\",\\\"0.8\\\",\\\"0.81\\\",\\\"0.82\\\",\\\"0.83\\\",\\\"0.84\\\",\\\"0.85\\\",\\\"0.86\\\",\\\"0.87\\\",\\\"0.88\\\",\\\"0.89\\\",\\\"0.9\\\",\\\"0.91\\\",\\\"0.92\\\",\\\"0.93\\\",\\\"0.94\\\",\\\"0.95\\\",\\\"0.96\\\",\\\"0.97\\\",\\\"0.98\\\",\\\"0.99\\\",\\\"1.0\\\"],\\\"changes\\\":WebIO.getval({\\\"name\\\":\\\"changes\\\",\\\"scope\\\":\\\"5559188538664746954\\\",\\\"id\\\":\\\"13621601469852476902\\\",\\\"type\\\":\\\"observable\\\"}),\\\"index\\\":WebIO.getval({\\\"name\\\":\\\"index\\\",\\\"scope\\\":\\\"5559188538664746954\\\",\\\"id\\\":\\\"2622351439861940216\\\",\\\"type\\\":\\\"observable\\\"})};\\n    var self = this;\\n    function AppViewModel() {\\n        for (var key in json_data) {\\n            var el = json_data[key];\\n            this[key] = Array.isArray(el) ? ko.observableArray(el) : ko.observable(el);\\n        }\\n        \\n        [this[\\\"formatted_val\\\"]=ko.computed(    function(){\\n        return this.formatted_vals()[parseInt(this.index())-(1)];\\n    }\\n,this)]\\n        [this[\\\"changes\\\"].subscribe((function (val){!(this.valueFromJulia[\\\"changes\\\"]) ? (WebIO.setval({\\\"name\\\":\\\"changes\\\",\\\"scope\\\":\\\"5559188538664746954\\\",\\\"id\\\":\\\"13621601469852476902\\\",\\\"type\\\":\\\"observable\\\"},val)) : undefined; return this.valueFromJulia[\\\"changes\\\"]=false}),self),this[\\\"index\\\"].subscribe((function (val){!(this.valueFromJulia[\\\"index\\\"]) ? (WebIO.setval({\\\"name\\\":\\\"index\\\",\\\"scope\\\":\\\"5559188538664746954\\\",\\\"id\\\":\\\"2622351439861940216\\\",\\\"type\\\":\\\"observable\\\"},val)) : undefined; return this.valueFromJulia[\\\"index\\\"]=false}),self)]\\n        \\n    }\\n    self.model = new AppViewModel();\\n    self.valueFromJulia = {};\\n    for (var key in json_data) {\\n        self.valueFromJulia[key] = false;\\n    }\\n    ko.applyBindings(self.model, self.dom);\\n}\\n);\\n    (WebIO.importBlock({\\\"data\\\":[{\\\"name\\\":\\\"knockout\\\",\\\"type\\\":\\\"js\\\",\\\"url\\\":\\\"/assetserver/727383f2a47bd31570b7da84eee7b022dd6d7c78-knockout.js\\\"},{\\\"name\\\":\\\"knockout_punches\\\",\\\"type\\\":\\\"js\\\",\\\"url\\\":\\\"/assetserver/382b41b3b1bd9f26f75861d360bad7f8beea211f-knockout_punches.js\\\"}],\\\"type\\\":\\\"async_block\\\"})).then((imports) => handler.apply(this, imports));\\n}\\n\")])], Dict{Symbol, Any}(:className => \"field interact-widget\"))], Dict{Symbol, Any}(:style => Dict(\"display\" => \"flex\", \"flex-direction\" => \"column\"))), WebIO.Node{WebIO.DOM}(WebIO.DOM(:html, :div), Any[WebIO.Node{WebIO.DOM}(WebIO.DOM(:html, :div), Any[WebIO.Scope(WebIO.Node{WebIO.DOM}(WebIO.DOM(:html, :div), Any[], Dict{Symbol, Any}(:id => \"container\")), Dict{String, Tuple{Observables.AbstractObservable, Union{Nothing, Bool}}}(\"value\" => (Observable(\"\\\\;\\\\;\"), nothing)), Set{String}(), nothing, WebIO.Asset[WebIO.Asset(\"js\", nothing, \"/home/dushya/.julia/packages/InteractBase/LJXv3/src/../assets/katex.min.js\"), WebIO.Asset(\"css\", nothing, \"/home/dushya/.julia/packages/InteractBase/LJXv3/src/../assets/katex.min.css\")], Dict{Any, Any}(\"value\" => Any[WebIO.JSString(\"(function (txt){return this.k.render(txt,this.container)})\")]), WebIO.ConnectionPool(Channel{Any}(32), Set{WebIO.AbstractConnection}(), Base.GenericCondition{ReentrantLock}(Base.IntrusiveLinkedList{Task}(Task (runnable) @0x00007f1904196400, Task (runnable) @0x00007f1904196400), ReentrantLock(nothing, 0x00000000, 0x00, Base.GenericCondition{Base.Threads.SpinLock}(Base.IntrusiveLinkedList{Task}(nothing, nothing), Base.Threads.SpinLock(0)), (0, 139746502800464, 141733920768)))), WebIO.JSString[WebIO.JSString(\"function () {\\n    var handler = ((function (k){this.k=k; this.container=this.dom.querySelector(\\\"#container\\\"); return k.render(\\\"\\\\\\\\;\\\\\\\\;\\\",this.container)}));\\n    (WebIO.importBlock({\\\"data\\\":[{\\\"name\\\":null,\\\"type\\\":\\\"js\\\",\\\"url\\\":\\\"/assetserver/dd22ed1bf1896c2748f3fe616ce0b838adc895c1-katex.min.js\\\"},{\\\"name\\\":null,\\\"type\\\":\\\"css\\\",\\\"url\\\":\\\"/assetserver/46517a424aa5e6cffc1360d7e0848b601c584ee3-katex.min.css\\\"}],\\\"type\\\":\\\"async_block\\\"})).then((imports) => handler.apply(this, imports));\\n}\\n\")])], Dict{Symbol, Any}(:className => \"interact-widget\")), WebIO.Node{WebIO.DOM}(WebIO.DOM(:html, :div), Any[WebIO.Scope(WebIO.Node{WebIO.DOM}(WebIO.DOM(:html, :button), Any[\"run\"], Dict{Symbol, Any}(:attributes => Dict{Any, Any}(\"data-bind\" => \"click: function (){this.clicks(this.clicks()+1)}, css: {'is-loading' : loading}\"), :className => \"is-medium button is-primary\", :style => Dict{String, Any}())), Dict{String, Tuple{Observables.AbstractObservable, Union{Nothing, Bool}}}(\"loading\" => (Observable(false), nothing), \"clicks\" => (Observable(0), nothing)), Set{String}(), nothing, WebIO.Asset[WebIO.Asset(\"js\", \"knockout\", \"/home/dushya/.julia/packages/Knockout/HReiN/src/../assets/knockout.js\"), WebIO.Asset(\"js\", \"knockout_punches\", \"/home/dushya/.julia/packages/Knockout/HReiN/src/../assets/knockout_punches.js\"), WebIO.Asset(\"js\", nothing, \"/home/dushya/.julia/packages/InteractBase/LJXv3/src/../assets/all.js\"), WebIO.Asset(\"css\", nothing, \"/home/dushya/.julia/packages/InteractBase/LJXv3/src/../assets/style.css\"), WebIO.Asset(\"css\", nothing, \"/home/dushya/.julia/packages/Interact/PENUy/src/../assets/bulma_confined.min.css\")], Dict{Any, Any}(\"loading\" => Any[WebIO.JSString(\"(function (val){return (val!=this.model[\\\"loading\\\"]()) ? (this.valueFromJulia[\\\"loading\\\"]=true, this.model[\\\"loading\\\"](val)) : undefined})\")], \"clicks\" => Any[WebIO.JSString(\"(function (val){return (val!=this.model[\\\"clicks\\\"]()) ? (this.valueFromJulia[\\\"clicks\\\"]=true, this.model[\\\"clicks\\\"](val)) : undefined})\")]), WebIO.ConnectionPool(Channel{Any}(32), Set{WebIO.AbstractConnection}(), Base.GenericCondition{ReentrantLock}(Base.IntrusiveLinkedList{Task}(Task (runnable) @0x00007f1904fb5910, Task (runnable) @0x00007f1904fb5910), ReentrantLock(nothing, 0x00000000, 0x00, Base.GenericCondition{Base.Threads.SpinLock}(Base.IntrusiveLinkedList{Task}(nothing, nothing), Base.Threads.SpinLock(0)), (8, 139747152083904, 139747152083904)))), WebIO.JSString[WebIO.JSString(\"function () {\\n    var handler = (function (ko, koPunches) {\\n    ko.punches.enableAll();\\n    ko.bindingHandlers.numericValue = {\\n        init: function(element, valueAccessor, allBindings, data, context) {\\n            var stringified = ko.observable(ko.unwrap(valueAccessor()));\\n            stringified.subscribe(function(value) {\\n                var val = parseFloat(value);\\n                if (!isNaN(val)) {\\n                    valueAccessor()(val);\\n                }\\n            });\\n            valueAccessor().subscribe(function(value) {\\n                var str = JSON.stringify(value);\\n                if ((str == \\\"0\\\") && ([\\\"-0\\\", \\\"-0.\\\"].indexOf(stringified()) >= 0))\\n                     return;\\n                 if ([\\\"null\\\", \\\"\\\"].indexOf(str) >= 0)\\n                     return;\\n                stringified(str);\\n            });\\n            ko.applyBindingsToNode(\\n                element,\\n                {\\n                    value: stringified,\\n                    valueUpdate: allBindings.get('valueUpdate'),\\n                },\\n                context,\\n            );\\n        }\\n    };\\n    var json_data = {\\\"loading\\\":WebIO.getval({\\\"name\\\":\\\"loading\\\",\\\"scope\\\":\\\"17342436736681450200\\\",\\\"id\\\":\\\"3664119140437917103\\\",\\\"type\\\":\\\"observable\\\"}),\\\"clicks\\\":WebIO.getval({\\\"name\\\":\\\"clicks\\\",\\\"scope\\\":\\\"17342436736681450200\\\",\\\"id\\\":\\\"1803774591053887995\\\",\\\"type\\\":\\\"observable\\\"})};\\n    var self = this;\\n    function AppViewModel() {\\n        for (var key in json_data) {\\n            var el = json_data[key];\\n            this[key] = Array.isArray(el) ? ko.observableArray(el) : ko.observable(el);\\n        }\\n        \\n        \\n        [this[\\\"loading\\\"].subscribe((function (val){!(this.valueFromJulia[\\\"loading\\\"]) ? (WebIO.setval({\\\"name\\\":\\\"loading\\\",\\\"scope\\\":\\\"17342436736681450200\\\",\\\"id\\\":\\\"3664119140437917103\\\",\\\"type\\\":\\\"observable\\\"},val)) : undefined; return this.valueFromJulia[\\\"loading\\\"]=false}),self),this[\\\"clicks\\\"].subscribe((function (val){!(this.valueFromJulia[\\\"clicks\\\"]) ? (WebIO.setval({\\\"name\\\":\\\"clicks\\\",\\\"scope\\\":\\\"17342436736681450200\\\",\\\"id\\\":\\\"1803774591053887995\\\",\\\"type\\\":\\\"observable\\\"},val)) : undefined; return this.valueFromJulia[\\\"clicks\\\"]=false}),self)]\\n        \\n    }\\n    self.model = new AppViewModel();\\n    self.valueFromJulia = {};\\n    for (var key in json_data) {\\n        self.valueFromJulia[key] = false;\\n    }\\n    ko.applyBindings(self.model, self.dom);\\n}\\n);\\n    (WebIO.importBlock({\\\"data\\\":[{\\\"name\\\":\\\"knockout\\\",\\\"type\\\":\\\"js\\\",\\\"url\\\":\\\"/assetserver/727383f2a47bd31570b7da84eee7b022dd6d7c78-knockout.js\\\"},{\\\"name\\\":\\\"knockout_punches\\\",\\\"type\\\":\\\"js\\\",\\\"url\\\":\\\"/assetserver/382b41b3b1bd9f26f75861d360bad7f8beea211f-knockout_punches.js\\\"}],\\\"type\\\":\\\"async_block\\\"})).then((imports) => handler.apply(this, imports));\\n}\\n\")])], Dict{Symbol, Any}(:className => \"field interact-widget\")), WebIO.Node{WebIO.DOM}(WebIO.DOM(:html, :div), Any[WebIO.Scope(WebIO.Node{WebIO.DOM}(WebIO.DOM(:html, :div), Any[], Dict{Symbol, Any}(:id => \"container\")), Dict{String, Tuple{Observables.AbstractObservable, Union{Nothing, Bool}}}(\"value\" => (Observable(\"\\\\;\\\\;\"), nothing)), Set{String}(), nothing, WebIO.Asset[WebIO.Asset(\"js\", nothing, \"/home/dushya/.julia/packages/InteractBase/LJXv3/src/../assets/katex.min.js\"), WebIO.Asset(\"css\", nothing, \"/home/dushya/.julia/packages/InteractBase/LJXv3/src/../assets/katex.min.css\")], Dict{Any, Any}(\"value\" => Any[WebIO.JSString(\"(function (txt){return this.k.render(txt,this.container)})\")]), WebIO.ConnectionPool(Channel{Any}(32), Set{WebIO.AbstractConnection}(), Base.GenericCondition{ReentrantLock}(Base.IntrusiveLinkedList{Task}(Task (runnable) @0x00007f1904196400, Task (runnable) @0x00007f1904196400), ReentrantLock(nothing, 0x00000000, 0x00, Base.GenericCondition{Base.Threads.SpinLock}(Base.IntrusiveLinkedList{Task}(nothing, nothing), Base.Threads.SpinLock(0)), (0, 139746502800464, 141733920768)))), WebIO.JSString[WebIO.JSString(\"function () {\\n    var handler = ((function (k){this.k=k; this.container=this.dom.querySelector(\\\"#container\\\"); return k.render(\\\"\\\\\\\\;\\\\\\\\;\\\",this.container)}));\\n    (WebIO.importBlock({\\\"data\\\":[{\\\"name\\\":null,\\\"type\\\":\\\"js\\\",\\\"url\\\":\\\"/assetserver/dd22ed1bf1896c2748f3fe616ce0b838adc895c1-katex.min.js\\\"},{\\\"name\\\":null,\\\"type\\\":\\\"css\\\",\\\"url\\\":\\\"/assetserver/46517a424aa5e6cffc1360d7e0848b601c584ee3-katex.min.css\\\"}],\\\"type\\\":\\\"async_block\\\"})).then((imports) => handler.apply(this, imports));\\n}\\n\")])], Dict{Symbol, Any}(:className => \"interact-widget\")), WebIO.Node{WebIO.DOM}(WebIO.DOM(:html, :div), Any[WebIO.Scope(WebIO.Node{WebIO.DOM}(WebIO.DOM(:html, :button), Any[\"stop\"], Dict{Symbol, Any}(:attributes => Dict{Any, Any}(\"data-bind\" => \"click: function (){this.clicks(this.clicks()+1)}, css: {'is-loading' : loading}\"), :className => \"is-medium button is-primary\", :style => Dict{String, Any}())), Dict{String, Tuple{Observables.AbstractObservable, Union{Nothing, Bool}}}(\"loading\" => (Observable(false), nothing), \"clicks\" => (Observable(0), nothing)), Set{String}(), nothing, WebIO.Asset[WebIO.Asset(\"js\", \"knockout\", \"/home/dushya/.julia/packages/Knockout/HReiN/src/../assets/knockout.js\"), WebIO.Asset(\"js\", \"knockout_punches\", \"/home/dushya/.julia/packages/Knockout/HReiN/src/../assets/knockout_punches.js\"), WebIO.Asset(\"js\", nothing, \"/home/dushya/.julia/packages/InteractBase/LJXv3/src/../assets/all.js\"), WebIO.Asset(\"css\", nothing, \"/home/dushya/.julia/packages/InteractBase/LJXv3/src/../assets/style.css\"), WebIO.Asset(\"css\", nothing, \"/home/dushya/.julia/packages/Interact/PENUy/src/../assets/bulma_confined.min.css\")], Dict{Any, Any}(\"loading\" => Any[WebIO.JSString(\"(function (val){return (val!=this.model[\\\"loading\\\"]()) ? (this.valueFromJulia[\\\"loading\\\"]=true, this.model[\\\"loading\\\"](val)) : undefined})\")], \"clicks\" => Any[WebIO.JSString(\"(function (val){return (val!=this.model[\\\"clicks\\\"]()) ? (this.valueFromJulia[\\\"clicks\\\"]=true, this.model[\\\"clicks\\\"](val)) : undefined})\")]), WebIO.ConnectionPool(Channel{Any}(32), Set{WebIO.AbstractConnection}(), Base.GenericCondition{ReentrantLock}(Base.IntrusiveLinkedList{Task}(Task (runnable) @0x00007f1905214650, Task (runnable) @0x00007f1905214650), ReentrantLock(nothing, 0x00000000, 0x00, Base.GenericCondition{Base.Threads.SpinLock}(Base.IntrusiveLinkedList{Task}(nothing, nothing), Base.Threads.SpinLock(0)), (8, 139746608122208, 3)))), WebIO.JSString[WebIO.JSString(\"function () {\\n    var handler = (function (ko, koPunches) {\\n    ko.punches.enableAll();\\n    ko.bindingHandlers.numericValue = {\\n        init: function(element, valueAccessor, allBindings, data, context) {\\n            var stringified = ko.observable(ko.unwrap(valueAccessor()));\\n            stringified.subscribe(function(value) {\\n                var val = parseFloat(value);\\n                if (!isNaN(val)) {\\n                    valueAccessor()(val);\\n                }\\n            });\\n            valueAccessor().subscribe(function(value) {\\n                var str = JSON.stringify(value);\\n                if ((str == \\\"0\\\") && ([\\\"-0\\\", \\\"-0.\\\"].indexOf(stringified()) >= 0))\\n                     return;\\n                 if ([\\\"null\\\", \\\"\\\"].indexOf(str) >= 0)\\n                     return;\\n                stringified(str);\\n            });\\n            ko.applyBindingsToNode(\\n                element,\\n                {\\n                    value: stringified,\\n                    valueUpdate: allBindings.get('valueUpdate'),\\n                },\\n                context,\\n            );\\n        }\\n    };\\n    var json_data = {\\\"loading\\\":WebIO.getval({\\\"name\\\":\\\"loading\\\",\\\"scope\\\":\\\"7279828330315632286\\\",\\\"id\\\":\\\"6327475329545468106\\\",\\\"type\\\":\\\"observable\\\"}),\\\"clicks\\\":WebIO.getval({\\\"name\\\":\\\"clicks\\\",\\\"scope\\\":\\\"7279828330315632286\\\",\\\"id\\\":\\\"7724683516561747858\\\",\\\"type\\\":\\\"observable\\\"})};\\n    var self = this;\\n    function AppViewModel() {\\n        for (var key in json_data) {\\n            var el = json_data[key];\\n            this[key] = Array.isArray(el) ? ko.observableArray(el) : ko.observable(el);\\n        }\\n        \\n        \\n        [this[\\\"loading\\\"].subscribe((function (val){!(this.valueFromJulia[\\\"loading\\\"]) ? (WebIO.setval({\\\"name\\\":\\\"loading\\\",\\\"scope\\\":\\\"7279828330315632286\\\",\\\"id\\\":\\\"6327475329545468106\\\",\\\"type\\\":\\\"observable\\\"},val)) : undefined; return this.valueFromJulia[\\\"loading\\\"]=false}),self),this[\\\"clicks\\\"].subscribe((function (val){!(this.valueFromJulia[\\\"clicks\\\"]) ? (WebIO.setval({\\\"name\\\":\\\"clicks\\\",\\\"scope\\\":\\\"7279828330315632286\\\",\\\"id\\\":\\\"7724683516561747858\\\",\\\"type\\\":\\\"observable\\\"},val)) : undefined; return this.valueFromJulia[\\\"clicks\\\"]=false}),self)]\\n        \\n    }\\n    self.model = new AppViewModel();\\n    self.valueFromJulia = {};\\n    for (var key in json_data) {\\n        self.valueFromJulia[key] = false;\\n    }\\n    ko.applyBindings(self.model, self.dom);\\n}\\n);\\n    (WebIO.importBlock({\\\"data\\\":[{\\\"name\\\":\\\"knockout\\\",\\\"type\\\":\\\"js\\\",\\\"url\\\":\\\"/assetserver/727383f2a47bd31570b7da84eee7b022dd6d7c78-knockout.js\\\"},{\\\"name\\\":\\\"knockout_punches\\\",\\\"type\\\":\\\"js\\\",\\\"url\\\":\\\"/assetserver/382b41b3b1bd9f26f75861d360bad7f8beea211f-knockout_punches.js\\\"}],\\\"type\\\":\\\"async_block\\\"})).then((imports) => handler.apply(this, imports));\\n}\\n\")])], Dict{Symbol, Any}(:className => \"field interact-widget\")), WebIO.Node{WebIO.DOM}(WebIO.DOM(:html, :div), Any[WebIO.Scope(WebIO.Node{WebIO.DOM}(WebIO.DOM(:html, :div), Any[], Dict{Symbol, Any}(:id => \"container\")), Dict{String, Tuple{Observables.AbstractObservable, Union{Nothing, Bool}}}(\"value\" => (Observable(\"\\\\;\\\\;\"), nothing)), Set{String}(), nothing, WebIO.Asset[WebIO.Asset(\"js\", nothing, \"/home/dushya/.julia/packages/InteractBase/LJXv3/src/../assets/katex.min.js\"), WebIO.Asset(\"css\", nothing, \"/home/dushya/.julia/packages/InteractBase/LJXv3/src/../assets/katex.min.css\")], Dict{Any, Any}(\"value\" => Any[WebIO.JSString(\"(function (txt){return this.k.render(txt,this.container)})\")]), WebIO.ConnectionPool(Channel{Any}(32), Set{WebIO.AbstractConnection}(), Base.GenericCondition{ReentrantLock}(Base.IntrusiveLinkedList{Task}(Task (runnable) @0x00007f1904196400, Task (runnable) @0x00007f1904196400), ReentrantLock(nothing, 0x00000000, 0x00, Base.GenericCondition{Base.Threads.SpinLock}(Base.IntrusiveLinkedList{Task}(nothing, nothing), Base.Threads.SpinLock(0)), (0, 139746502800464, 141733920768)))), WebIO.JSString[WebIO.JSString(\"function () {\\n    var handler = ((function (k){this.k=k; this.container=this.dom.querySelector(\\\"#container\\\"); return k.render(\\\"\\\\\\\\;\\\\\\\\;\\\",this.container)}));\\n    (WebIO.importBlock({\\\"data\\\":[{\\\"name\\\":null,\\\"type\\\":\\\"js\\\",\\\"url\\\":\\\"/assetserver/dd22ed1bf1896c2748f3fe616ce0b838adc895c1-katex.min.js\\\"},{\\\"name\\\":null,\\\"type\\\":\\\"css\\\",\\\"url\\\":\\\"/assetserver/46517a424aa5e6cffc1360d7e0848b601c584ee3-katex.min.css\\\"}],\\\"type\\\":\\\"async_block\\\"})).then((imports) => handler.apply(this, imports));\\n}\\n\")])], Dict{Symbol, Any}(:className => \"interact-widget\")), WebIO.Node{WebIO.DOM}(WebIO.DOM(:html, :div), Any[WebIO.Scope(WebIO.Node{WebIO.DOM}(WebIO.DOM(:html, :button), Any[\"reset\"], Dict{Symbol, Any}(:attributes => Dict{Any, Any}(\"data-bind\" => \"click: function (){this.clicks(this.clicks()+1)}, css: {'is-loading' : loading}\"), :className => \"is-medium button is-primary\", :style => Dict{String, Any}())), Dict{String, Tuple{Observables.AbstractObservable, Union{Nothing, Bool}}}(\"loading\" => (Observable(false), nothing), \"clicks\" => (Observable(0), nothing)), Set{String}(), nothing, WebIO.Asset[WebIO.Asset(\"js\", \"knockout\", \"/home/dushya/.julia/packages/Knockout/HReiN/src/../assets/knockout.js\"), WebIO.Asset(\"js\", \"knockout_punches\", \"/home/dushya/.julia/packages/Knockout/HReiN/src/../assets/knockout_punches.js\"), WebIO.Asset(\"js\", nothing, \"/home/dushya/.julia/packages/InteractBase/LJXv3/src/../assets/all.js\"), WebIO.Asset(\"css\", nothing, \"/home/dushya/.julia/packages/InteractBase/LJXv3/src/../assets/style.css\"), WebIO.Asset(\"css\", nothing, \"/home/dushya/.julia/packages/Interact/PENUy/src/../assets/bulma_confined.min.css\")], Dict{Any, Any}(\"loading\" => Any[WebIO.JSString(\"(function (val){return (val!=this.model[\\\"loading\\\"]()) ? (this.valueFromJulia[\\\"loading\\\"]=true, this.model[\\\"loading\\\"](val)) : undefined})\")], \"clicks\" => Any[WebIO.JSString(\"(function (val){return (val!=this.model[\\\"clicks\\\"]()) ? (this.valueFromJulia[\\\"clicks\\\"]=true, this.model[\\\"clicks\\\"](val)) : undefined})\")]), WebIO.ConnectionPool(Channel{Any}(32), Set{WebIO.AbstractConnection}(), Base.GenericCondition{ReentrantLock}(Base.IntrusiveLinkedList{Task}(Task (runnable) @0x00007f1905217210, Task (runnable) @0x00007f1905217210), ReentrantLock(nothing, 0x00000000, 0x00, Base.GenericCondition{Base.Threads.SpinLock}(Base.IntrusiveLinkedList{Task}(nothing, nothing), Base.Threads.SpinLock(0)), (8, 139747372566576, 139747372593184)))), WebIO.JSString[WebIO.JSString(\"function () {\\n    var handler = (function (ko, koPunches) {\\n    ko.punches.enableAll();\\n    ko.bindingHandlers.numericValue = {\\n        init: function(element, valueAccessor, allBindings, data, context) {\\n            var stringified = ko.observable(ko.unwrap(valueAccessor()));\\n            stringified.subscribe(function(value) {\\n                var val = parseFloat(value);\\n                if (!isNaN(val)) {\\n                    valueAccessor()(val);\\n                }\\n            });\\n            valueAccessor().subscribe(function(value) {\\n                var str = JSON.stringify(value);\\n                if ((str == \\\"0\\\") && ([\\\"-0\\\", \\\"-0.\\\"].indexOf(stringified()) >= 0))\\n                     return;\\n                 if ([\\\"null\\\", \\\"\\\"].indexOf(str) >= 0)\\n                     return;\\n                stringified(str);\\n            });\\n            ko.applyBindingsToNode(\\n                element,\\n                {\\n                    value: stringified,\\n                    valueUpdate: allBindings.get('valueUpdate'),\\n                },\\n                context,\\n            );\\n        }\\n    };\\n    var json_data = {\\\"loading\\\":WebIO.getval({\\\"name\\\":\\\"loading\\\",\\\"scope\\\":\\\"18333006646157239175\\\",\\\"id\\\":\\\"16648917842033938103\\\",\\\"type\\\":\\\"observable\\\"}),\\\"clicks\\\":WebIO.getval({\\\"name\\\":\\\"clicks\\\",\\\"scope\\\":\\\"18333006646157239175\\\",\\\"id\\\":\\\"6153415383938629197\\\",\\\"type\\\":\\\"observable\\\"})};\\n    var self = this;\\n    function AppViewModel() {\\n        for (var key in json_data) {\\n            var el = json_data[key];\\n            this[key] = Array.isArray(el) ? ko.observableArray(el) : ko.observable(el);\\n        }\\n        \\n        \\n        [this[\\\"loading\\\"].subscribe((function (val){!(this.valueFromJulia[\\\"loading\\\"]) ? (WebIO.setval({\\\"name\\\":\\\"loading\\\",\\\"scope\\\":\\\"18333006646157239175\\\",\\\"id\\\":\\\"16648917842033938103\\\",\\\"type\\\":\\\"observable\\\"},val)) : undefined; return this.valueFromJulia[\\\"loading\\\"]=false}),self),this[\\\"clicks\\\"].subscribe((function (val){!(this.valueFromJulia[\\\"clicks\\\"]) ? (WebIO.setval({\\\"name\\\":\\\"clicks\\\",\\\"scope\\\":\\\"18333006646157239175\\\",\\\"id\\\":\\\"6153415383938629197\\\",\\\"type\\\":\\\"observable\\\"},val)) : undefined; return this.valueFromJulia[\\\"clicks\\\"]=false}),self)]\\n        \\n    }\\n    self.model = new AppViewModel();\\n    self.valueFromJulia = {};\\n    for (var key in json_data) {\\n        self.valueFromJulia[key] = false;\\n    }\\n    ko.applyBindings(self.model, self.dom);\\n}\\n);\\n    (WebIO.importBlock({\\\"data\\\":[{\\\"name\\\":\\\"knockout\\\",\\\"type\\\":\\\"js\\\",\\\"url\\\":\\\"/assetserver/727383f2a47bd31570b7da84eee7b022dd6d7c78-knockout.js\\\"},{\\\"name\\\":\\\"knockout_punches\\\",\\\"type\\\":\\\"js\\\",\\\"url\\\":\\\"/assetserver/382b41b3b1bd9f26f75861d360bad7f8beea211f-knockout_punches.js\\\"}],\\\"type\\\":\\\"async_block\\\"})).then((imports) => handler.apply(this, imports));\\n}\\n\")])], Dict{Symbol, Any}(:className => \"field interact-widget\")), WebIO.Node{WebIO.DOM}(WebIO.DOM(:html, :div), Any[WebIO.Scope(WebIO.Node{WebIO.DOM}(WebIO.DOM(:html, :div), Any[], Dict{Symbol, Any}(:id => \"container\")), Dict{String, Tuple{Observables.AbstractObservable, Union{Nothing, Bool}}}(\"value\" => (Observable(\"\\\\;\\\\;\"), nothing)), Set{String}(), nothing, WebIO.Asset[WebIO.Asset(\"js\", nothing, \"/home/dushya/.julia/packages/InteractBase/LJXv3/src/../assets/katex.min.js\"), WebIO.Asset(\"css\", nothing, \"/home/dushya/.julia/packages/InteractBase/LJXv3/src/../assets/katex.min.css\")], Dict{Any, Any}(\"value\" => Any[WebIO.JSString(\"(function (txt){return this.k.render(txt,this.container)})\")]), WebIO.ConnectionPool(Channel{Any}(32), Set{WebIO.AbstractConnection}(), Base.GenericCondition{ReentrantLock}(Base.IntrusiveLinkedList{Task}(Task (runnable) @0x00007f1904196400, Task (runnable) @0x00007f1904196400), ReentrantLock(nothing, 0x00000000, 0x00, Base.GenericCondition{Base.Threads.SpinLock}(Base.IntrusiveLinkedList{Task}(nothing, nothing), Base.Threads.SpinLock(0)), (0, 139746502800464, 141733920768)))), WebIO.JSString[WebIO.JSString(\"function () {\\n    var handler = ((function (k){this.k=k; this.container=this.dom.querySelector(\\\"#container\\\"); return k.render(\\\"\\\\\\\\;\\\\\\\\;\\\",this.container)}));\\n    (WebIO.importBlock({\\\"data\\\":[{\\\"name\\\":null,\\\"type\\\":\\\"js\\\",\\\"url\\\":\\\"/assetserver/dd22ed1bf1896c2748f3fe616ce0b838adc895c1-katex.min.js\\\"},{\\\"name\\\":null,\\\"type\\\":\\\"css\\\",\\\"url\\\":\\\"/assetserver/46517a424aa5e6cffc1360d7e0848b601c584ee3-katex.min.css\\\"}],\\\"type\\\":\\\"async_block\\\"})).then((imports) => handler.apply(this, imports));\\n}\\n\")])], Dict{Symbol, Any}(:className => \"interact-widget\")), WebIO.Node{WebIO.DOM}(WebIO.DOM(:html, :div), Any[WebIO.Scope(WebIO.Node{WebIO.DOM}(WebIO.DOM(:html, :button), Any[\"save\"], Dict{Symbol, Any}(:attributes => Dict{Any, Any}(\"data-bind\" => \"click: function (){this.clicks(this.clicks()+1)}, css: {'is-loading' : loading}\"), :className => \"is-medium button is-primary\", :style => Dict{String, Any}())), Dict{String, Tuple{Observables.AbstractObservable, Union{Nothing, Bool}}}(\"loading\" => (Observable(false), nothing), \"clicks\" => (Observable(0), nothing)), Set{String}(), nothing, WebIO.Asset[WebIO.Asset(\"js\", \"knockout\", \"/home/dushya/.julia/packages/Knockout/HReiN/src/../assets/knockout.js\"), WebIO.Asset(\"js\", \"knockout_punches\", \"/home/dushya/.julia/packages/Knockout/HReiN/src/../assets/knockout_punches.js\"), WebIO.Asset(\"js\", nothing, \"/home/dushya/.julia/packages/InteractBase/LJXv3/src/../assets/all.js\"), WebIO.Asset(\"css\", nothing, \"/home/dushya/.julia/packages/InteractBase/LJXv3/src/../assets/style.css\"), WebIO.Asset(\"css\", nothing, \"/home/dushya/.julia/packages/Interact/PENUy/src/../assets/bulma_confined.min.css\")], Dict{Any, Any}(\"loading\" => Any[WebIO.JSString(\"(function (val){return (val!=this.model[\\\"loading\\\"]()) ? (this.valueFromJulia[\\\"loading\\\"]=true, this.model[\\\"loading\\\"](val)) : undefined})\")], \"clicks\" => Any[WebIO.JSString(\"(function (val){return (val!=this.model[\\\"clicks\\\"]()) ? (this.valueFromJulia[\\\"clicks\\\"]=true, this.model[\\\"clicks\\\"](val)) : undefined})\")]), WebIO.ConnectionPool(Channel{Any}(32), Set{WebIO.AbstractConnection}(), Base.GenericCondition{ReentrantLock}(Base.IntrusiveLinkedList{Task}(Task (runnable) @0x00007f19062edf50, Task (runnable) @0x00007f19062edf50), ReentrantLock(nothing, 0x00000000, 0x00, Base.GenericCondition{Base.Threads.SpinLock}(Base.IntrusiveLinkedList{Task}(nothing, nothing), Base.Threads.SpinLock(0)), (8, 139746484102640, 139746483327664)))), WebIO.JSString[WebIO.JSString(\"function () {\\n    var handler = (function (ko, koPunches) {\\n    ko.punches.enableAll();\\n    ko.bindingHandlers.numericValue = {\\n        init: function(element, valueAccessor, allBindings, data, context) {\\n            var stringified = ko.observable(ko.unwrap(valueAccessor()));\\n            stringified.subscribe(function(value) {\\n                var val = parseFloat(value);\\n                if (!isNaN(val)) {\\n                    valueAccessor()(val);\\n                }\\n            });\\n            valueAccessor().subscribe(function(value) {\\n                var str = JSON.stringify(value);\\n                if ((str == \\\"0\\\") && ([\\\"-0\\\", \\\"-0.\\\"].indexOf(stringified()) >= 0))\\n                     return;\\n                 if ([\\\"null\\\", \\\"\\\"].indexOf(str) >= 0)\\n                     return;\\n                stringified(str);\\n            });\\n            ko.applyBindingsToNode(\\n                element,\\n                {\\n                    value: stringified,\\n                    valueUpdate: allBindings.get('valueUpdate'),\\n                },\\n                context,\\n            );\\n        }\\n    };\\n    var json_data = {\\\"loading\\\":WebIO.getval({\\\"name\\\":\\\"loading\\\",\\\"scope\\\":\\\"9005826465184319563\\\",\\\"id\\\":\\\"435929308747932011\\\",\\\"type\\\":\\\"observable\\\"}),\\\"clicks\\\":WebIO.getval({\\\"name\\\":\\\"clicks\\\",\\\"scope\\\":\\\"9005826465184319563\\\",\\\"id\\\":\\\"16699534801939770795\\\",\\\"type\\\":\\\"observable\\\"})};\\n    var self = this;\\n    function AppViewModel() {\\n        for (var key in json_data) {\\n            var el = json_data[key];\\n            this[key] = Array.isArray(el) ? ko.observableArray(el) : ko.observable(el);\\n        }\\n        \\n        \\n        [this[\\\"loading\\\"].subscribe((function (val){!(this.valueFromJulia[\\\"loading\\\"]) ? (WebIO.setval({\\\"name\\\":\\\"loading\\\",\\\"scope\\\":\\\"9005826465184319563\\\",\\\"id\\\":\\\"435929308747932011\\\",\\\"type\\\":\\\"observable\\\"},val)) : undefined; return this.valueFromJulia[\\\"loading\\\"]=false}),self),this[\\\"clicks\\\"].subscribe((function (val){!(this.valueFromJulia[\\\"clicks\\\"]) ? (WebIO.setval({\\\"name\\\":\\\"clicks\\\",\\\"scope\\\":\\\"9005826465184319563\\\",\\\"id\\\":\\\"16699534801939770795\\\",\\\"type\\\":\\\"observable\\\"},val)) : undefined; return this.valueFromJulia[\\\"clicks\\\"]=false}),self)]\\n        \\n    }\\n    self.model = new AppViewModel();\\n    self.valueFromJulia = {};\\n    for (var key in json_data) {\\n        self.valueFromJulia[key] = false;\\n    }\\n    ko.applyBindings(self.model, self.dom);\\n}\\n);\\n    (WebIO.importBlock({\\\"data\\\":[{\\\"name\\\":\\\"knockout\\\",\\\"type\\\":\\\"js\\\",\\\"url\\\":\\\"/assetserver/727383f2a47bd31570b7da84eee7b022dd6d7c78-knockout.js\\\"},{\\\"name\\\":\\\"knockout_punches\\\",\\\"type\\\":\\\"js\\\",\\\"url\\\":\\\"/assetserver/382b41b3b1bd9f26f75861d360bad7f8beea211f-knockout_punches.js\\\"}],\\\"type\\\":\\\"async_block\\\"})).then((imports) => handler.apply(this, imports));\\n}\\n\")])], Dict{Symbol, Any}(:className => \"field interact-widget\"))], Dict{Symbol, Any}(:style => Dict(\"display\" => \"flex\", \"flex-direction\" => \"row\")))], Dict{Symbol, Any}(:style => Dict(\"display\" => \"flex\", \"flex-direction\" => \"column\"))), WebIO.Node{WebIO.DOM}(WebIO.DOM(:html, :div), Any[WebIO.Scope(WebIO.Node{WebIO.DOM}(WebIO.DOM(:html, :div), Any[], Dict{Symbol, Any}(:id => \"container\")), Dict{String, Tuple{Observables.AbstractObservable, Union{Nothing, Bool}}}(\"value\" => (Observable(\"\\\\;\\\\;\"), nothing)), Set{String}(), nothing, WebIO.Asset[WebIO.Asset(\"js\", nothing, \"/home/dushya/.julia/packages/InteractBase/LJXv3/src/../assets/katex.min.js\"), WebIO.Asset(\"css\", nothing, \"/home/dushya/.julia/packages/InteractBase/LJXv3/src/../assets/katex.min.css\")], Dict{Any, Any}(\"value\" => Any[WebIO.JSString(\"(function (txt){return this.k.render(txt,this.container)})\")]), WebIO.ConnectionPool(Channel{Any}(32), Set{WebIO.AbstractConnection}(), Base.GenericCondition{ReentrantLock}(Base.IntrusiveLinkedList{Task}(Task (runnable) @0x00007f1904196400, Task (runnable) @0x00007f1904196400), ReentrantLock(nothing, 0x00000000, 0x00, Base.GenericCondition{Base.Threads.SpinLock}(Base.IntrusiveLinkedList{Task}(nothing, nothing), Base.Threads.SpinLock(0)), (0, 139746502800464, 141733920768)))), WebIO.JSString[WebIO.JSString(\"function () {\\n    var handler = ((function (k){this.k=k; this.container=this.dom.querySelector(\\\"#container\\\"); return k.render(\\\"\\\\\\\\;\\\\\\\\;\\\",this.container)}));\\n    (WebIO.importBlock({\\\"data\\\":[{\\\"name\\\":null,\\\"type\\\":\\\"js\\\",\\\"url\\\":\\\"/assetserver/dd22ed1bf1896c2748f3fe616ce0b838adc895c1-katex.min.js\\\"},{\\\"name\\\":null,\\\"type\\\":\\\"css\\\",\\\"url\\\":\\\"/assetserver/46517a424aa5e6cffc1360d7e0848b601c584ee3-katex.min.css\\\"}],\\\"type\\\":\\\"async_block\\\"})).then((imports) => handler.apply(this, imports));\\n}\\n\")])], Dict{Symbol, Any}(:className => \"interact-widget\")), Observable(Luxor.Drawing(430.0, 430.0, \"\", Cairo.CairoSurfaceBase{UInt32}(Ptr{Nothing} @0x0000000000000000, 430.0, 430.0), Cairo.CairoContext(Ptr{Nothing} @0x000000000700e6d0, Cairo.CairoSurfaceBase{UInt32}(Ptr{Nothing} @0x0000000000000000, 430.0, 430.0), Ptr{Nothing} @0x00000000060a8a50), :png, 0.5, 0.5, 0.5, 0.5, IOBuffer(data=UInt8[...], readable=true, writable=true, seekable=true, append=false, size=2906, maxsize=Inf, ptr=2907, mark=-1), UInt8[0x89, 0x50, 0x4e, 0x47, 0x0d, 0x0a, 0x1a, 0x0a, 0x00, 0x00  …  0x00, 0x00, 0x49, 0x45, 0x4e, 0x44, 0xae, 0x42, 0x60, 0x82], false)), WebIO.Node{WebIO.DOM}(WebIO.DOM(:html, :div), Any[WebIO.Scope(WebIO.Node{WebIO.DOM}(WebIO.DOM(:html, :div), Any[], Dict{Symbol, Any}(:id => \"container\")), Dict{String, Tuple{Observables.AbstractObservable, Union{Nothing, Bool}}}(\"value\" => (Observable(\"\\\\;\\\\;\"), nothing)), Set{String}(), nothing, WebIO.Asset[WebIO.Asset(\"js\", nothing, \"/home/dushya/.julia/packages/InteractBase/LJXv3/src/../assets/katex.min.js\"), WebIO.Asset(\"css\", nothing, \"/home/dushya/.julia/packages/InteractBase/LJXv3/src/../assets/katex.min.css\")], Dict{Any, Any}(\"value\" => Any[WebIO.JSString(\"(function (txt){return this.k.render(txt,this.container)})\")]), WebIO.ConnectionPool(Channel{Any}(32), Set{WebIO.AbstractConnection}(), Base.GenericCondition{ReentrantLock}(Base.IntrusiveLinkedList{Task}(Task (runnable) @0x00007f1904196400, Task (runnable) @0x00007f1904196400), ReentrantLock(nothing, 0x00000000, 0x00, Base.GenericCondition{Base.Threads.SpinLock}(Base.IntrusiveLinkedList{Task}(nothing, nothing), Base.Threads.SpinLock(0)), (0, 139746502800464, 141733920768)))), WebIO.JSString[WebIO.JSString(\"function () {\\n    var handler = ((function (k){this.k=k; this.container=this.dom.querySelector(\\\"#container\\\"); return k.render(\\\"\\\\\\\\;\\\\\\\\;\\\",this.container)}));\\n    (WebIO.importBlock({\\\"data\\\":[{\\\"name\\\":null,\\\"type\\\":\\\"js\\\",\\\"url\\\":\\\"/assetserver/dd22ed1bf1896c2748f3fe616ce0b838adc895c1-katex.min.js\\\"},{\\\"name\\\":null,\\\"type\\\":\\\"css\\\",\\\"url\\\":\\\"/assetserver/46517a424aa5e6cffc1360d7e0848b601c584ee3-katex.min.css\\\"}],\\\"type\\\":\\\"async_block\\\"})).then((imports) => handler.apply(this, imports));\\n}\\n\")])], Dict{Symbol, Any}(:className => \"interact-widget\")), WebIO.Node{WebIO.DOM}(WebIO.DOM(:html, :div), Any[], Dict{Symbol, Any}(:style => Dict(\"display\" => \"flex\", \"flex-direction\" => \"column\")))], Dict{Symbol, Any}(:style => Dict(\"display\" => \"flex\", \"flex-direction\" => \"row\")))], Dict{Symbol, Any}(:style => Dict(\"display\" => \"flex\", \"flex-direction\" => \"column\")))"
      ]
     },
     "execution_count": 32,
     "metadata": {
      "application/vnd.webio.node+json": {
       "kernelId": "421b23d4-61f0-4273-9252-a6ecc987a4b2"
      }
     },
     "output_type": "execute_result"
    }
   ],
   "source": [
    "create_interactive_app(model, initialiser= initialiser!,\n",
    "    props_to_record=Dict(\"patches\"=>Set([:color, :is_alive])),\n",
    "    step_rule= step_rule!,\n",
    "    model_controls=[\n",
    "        (:alive_percent, \"slider\", 0:0.01:1.0)\n",
    "        ], \n",
    "    frames=200, show_patches=true) "
   ]
  },
  {
   "cell_type": "markdown",
   "metadata": {},
   "source": [
    "## Step 4: Fetch Data \n",
    "\n",
    "We can fetch the data of number alive patches as follows."
   ]
  },
  {
   "cell_type": "code",
   "execution_count": 33,
   "metadata": {},
   "outputs": [
    {
     "data": {
      "image/png": "[encoded data removed]",
      "image/svg+xml": [
       "<?xml version=\"1.0\" encoding=\"utf-8\"?>\n",
       "<svg xmlns=\"http://www.w3.org/2000/svg\" xmlns:xlink=\"http://www.w3.org/1999/xlink\" width=\"600\" height=\"400\" viewBox=\"0 0 2400 1600\">\n",
       "<defs>\n",
       "  <clipPath id=\"clip370\">\n",
       "    <rect x=\"0\" y=\"0\" width=\"2400\" height=\"1600\"/>\n",
       "  </clipPath>\n",
       "</defs>\n",
       "<path clip-path=\"url(#clip370)\" d=\"M0 1600 L2400 1600 L2400 0 L0 0  Z\" fill=\"#ffffff\" fill-rule=\"evenodd\" fill-opacity=\"1\"/>\n",
       "<defs>\n",
       "  <clipPath id=\"clip371\">\n",
       "    <rect x=\"480\" y=\"0\" width=\"1681\" height=\"1600\"/>\n",
       "  </clipPath>\n",
       "</defs>\n",
       "<path clip-path=\"url(#clip370)\" d=\"M234.125 1423.18 L2352.76 1423.18 L2352.76 47.2441 L234.125 47.2441  Z\" fill=\"#ffffff\" fill-rule=\"evenodd\" fill-opacity=\"1\"/>\n",
       "<defs>\n",
       "  <clipPath id=\"clip372\">\n",
       "    <rect x=\"234\" y=\"47\" width=\"2120\" height=\"1377\"/>\n",
       "  </clipPath>\n",
       "</defs>\n",
       "<polyline clip-path=\"url(#clip372)\" style=\"stroke:#000000; stroke-linecap:round; stroke-linejoin:round; stroke-width:2; stroke-opacity:0.1; fill:none\" points=\"284.093,1423.18 284.093,47.2441 \"/>\n",
       "<polyline clip-path=\"url(#clip372)\" style=\"stroke:#000000; stroke-linecap:round; stroke-linejoin:round; stroke-width:2; stroke-opacity:0.1; fill:none\" points=\"783.77,1423.18 783.77,47.2441 \"/>\n",
       "<polyline clip-path=\"url(#clip372)\" style=\"stroke:#000000; stroke-linecap:round; stroke-linejoin:round; stroke-width:2; stroke-opacity:0.1; fill:none\" points=\"1283.45,1423.18 1283.45,47.2441 \"/>\n",
       "<polyline clip-path=\"url(#clip372)\" style=\"stroke:#000000; stroke-linecap:round; stroke-linejoin:round; stroke-width:2; stroke-opacity:0.1; fill:none\" points=\"1783.12,1423.18 1783.12,47.2441 \"/>\n",
       "<polyline clip-path=\"url(#clip372)\" style=\"stroke:#000000; stroke-linecap:round; stroke-linejoin:round; stroke-width:2; stroke-opacity:0.1; fill:none\" points=\"2282.8,1423.18 2282.8,47.2441 \"/>\n",
       "<polyline clip-path=\"url(#clip370)\" style=\"stroke:#000000; stroke-linecap:round; stroke-linejoin:round; stroke-width:4; stroke-opacity:1; fill:none\" points=\"234.125,1423.18 2352.76,1423.18 \"/>\n",
       "<polyline clip-path=\"url(#clip370)\" style=\"stroke:#000000; stroke-linecap:round; stroke-linejoin:round; stroke-width:4; stroke-opacity:1; fill:none\" points=\"284.093,1423.18 284.093,1404.28 \"/>\n",
       "<polyline clip-path=\"url(#clip370)\" style=\"stroke:#000000; stroke-linecap:round; stroke-linejoin:round; stroke-width:4; stroke-opacity:1; fill:none\" points=\"783.77,1423.18 783.77,1404.28 \"/>\n",
       "<polyline clip-path=\"url(#clip370)\" style=\"stroke:#000000; stroke-linecap:round; stroke-linejoin:round; stroke-width:4; stroke-opacity:1; fill:none\" points=\"1283.45,1423.18 1283.45,1404.28 \"/>\n",
       "<polyline clip-path=\"url(#clip370)\" style=\"stroke:#000000; stroke-linecap:round; stroke-linejoin:round; stroke-width:4; stroke-opacity:1; fill:none\" points=\"1783.12,1423.18 1783.12,1404.28 \"/>\n",
       "<polyline clip-path=\"url(#clip370)\" style=\"stroke:#000000; stroke-linecap:round; stroke-linejoin:round; stroke-width:4; stroke-opacity:1; fill:none\" points=\"2282.8,1423.18 2282.8,1404.28 \"/>\n",
       "<path clip-path=\"url(#clip370)\" d=\"M284.093 1454.1 Q280.482 1454.1 278.653 1457.66 Q276.848 1461.2 276.848 1468.33 Q276.848 1475.44 278.653 1479.01 Q280.482 1482.55 284.093 1482.55 Q287.727 1482.55 289.533 1479.01 Q291.362 1475.44 291.362 1468.33 Q291.362 1461.2 289.533 1457.66 Q287.727 1454.1 284.093 1454.1 M284.093 1450.39 Q289.903 1450.39 292.959 1455 Q296.038 1459.58 296.038 1468.33 Q296.038 1477.06 292.959 1481.67 Q289.903 1486.25 284.093 1486.25 Q278.283 1486.25 275.204 1481.67 Q272.149 1477.06 272.149 1468.33 Q272.149 1459.58 275.204 1455 Q278.283 1450.39 284.093 1450.39 Z\" fill=\"#000000\" fill-rule=\"nonzero\" fill-opacity=\"1\" /><path clip-path=\"url(#clip370)\" d=\"M758.469 1451.02 L776.826 1451.02 L776.826 1454.96 L762.752 1454.96 L762.752 1463.43 Q763.77 1463.08 764.789 1462.92 Q765.807 1462.73 766.826 1462.73 Q772.613 1462.73 775.992 1465.9 Q779.372 1469.08 779.372 1474.49 Q779.372 1480.07 775.9 1483.17 Q772.428 1486.25 766.108 1486.25 Q763.932 1486.25 761.664 1485.88 Q759.418 1485.51 757.011 1484.77 L757.011 1480.07 Q759.094 1481.2 761.317 1481.76 Q763.539 1482.32 766.016 1482.32 Q770.02 1482.32 772.358 1480.21 Q774.696 1478.1 774.696 1474.49 Q774.696 1470.88 772.358 1468.77 Q770.02 1466.67 766.016 1466.67 Q764.141 1466.67 762.266 1467.08 Q760.414 1467.5 758.469 1468.38 L758.469 1451.02 Z\" fill=\"#000000\" fill-rule=\"nonzero\" fill-opacity=\"1\" /><path clip-path=\"url(#clip370)\" d=\"M798.585 1454.1 Q794.974 1454.1 793.145 1457.66 Q791.34 1461.2 791.34 1468.33 Q791.34 1475.44 793.145 1479.01 Q794.974 1482.55 798.585 1482.55 Q802.219 1482.55 804.025 1479.01 Q805.853 1475.44 805.853 1468.33 Q805.853 1461.2 804.025 1457.66 Q802.219 1454.1 798.585 1454.1 M798.585 1450.39 Q804.395 1450.39 807.451 1455 Q810.529 1459.58 810.529 1468.33 Q810.529 1477.06 807.451 1481.67 Q804.395 1486.25 798.585 1486.25 Q792.775 1486.25 789.696 1481.67 Q786.64 1477.06 786.64 1468.33 Q786.64 1459.58 789.696 1455 Q792.775 1450.39 798.585 1450.39 Z\" fill=\"#000000\" fill-rule=\"nonzero\" fill-opacity=\"1\" /><path clip-path=\"url(#clip370)\" d=\"M1243.05 1481.64 L1250.69 1481.64 L1250.69 1455.28 L1242.38 1456.95 L1242.38 1452.69 L1250.65 1451.02 L1255.32 1451.02 L1255.32 1481.64 L1262.96 1481.64 L1262.96 1485.58 L1243.05 1485.58 L1243.05 1481.64 Z\" fill=\"#000000\" fill-rule=\"nonzero\" fill-opacity=\"1\" /><path clip-path=\"url(#clip370)\" d=\"M1282.41 1454.1 Q1278.79 1454.1 1276.97 1457.66 Q1275.16 1461.2 1275.16 1468.33 Q1275.16 1475.44 1276.97 1479.01 Q1278.79 1482.55 1282.41 1482.55 Q1286.04 1482.55 1287.85 1479.01 Q1289.67 1475.44 1289.67 1468.33 Q1289.67 1461.2 1287.85 1457.66 Q1286.04 1454.1 1282.41 1454.1 M1282.41 1450.39 Q1288.22 1450.39 1291.27 1455 Q1294.35 1459.58 1294.35 1468.33 Q1294.35 1477.06 1291.27 1481.67 Q1288.22 1486.25 1282.41 1486.25 Q1276.6 1486.25 1273.52 1481.67 Q1270.46 1477.06 1270.46 1468.33 Q1270.46 1459.58 1273.52 1455 Q1276.6 1450.39 1282.41 1450.39 Z\" fill=\"#000000\" fill-rule=\"nonzero\" fill-opacity=\"1\" /><path clip-path=\"url(#clip370)\" d=\"M1312.57 1454.1 Q1308.96 1454.1 1307.13 1457.66 Q1305.32 1461.2 1305.32 1468.33 Q1305.32 1475.44 1307.13 1479.01 Q1308.96 1482.55 1312.57 1482.55 Q1316.2 1482.55 1318.01 1479.01 Q1319.84 1475.44 1319.84 1468.33 Q1319.84 1461.2 1318.01 1457.66 Q1316.2 1454.1 1312.57 1454.1 M1312.57 1450.39 Q1318.38 1450.39 1321.43 1455 Q1324.51 1459.58 1324.51 1468.33 Q1324.51 1477.06 1321.43 1481.67 Q1318.38 1486.25 1312.57 1486.25 Q1306.76 1486.25 1303.68 1481.67 Q1300.62 1477.06 1300.62 1468.33 Q1300.62 1459.58 1303.68 1455 Q1306.76 1450.39 1312.57 1450.39 Z\" fill=\"#000000\" fill-rule=\"nonzero\" fill-opacity=\"1\" /><path clip-path=\"url(#clip370)\" d=\"M1742.73 1481.64 L1750.37 1481.64 L1750.37 1455.28 L1742.06 1456.95 L1742.06 1452.69 L1750.32 1451.02 L1755 1451.02 L1755 1481.64 L1762.64 1481.64 L1762.64 1485.58 L1742.73 1485.58 L1742.73 1481.64 Z\" fill=\"#000000\" fill-rule=\"nonzero\" fill-opacity=\"1\" /><path clip-path=\"url(#clip370)\" d=\"M1772.13 1451.02 L1790.49 1451.02 L1790.49 1454.96 L1776.41 1454.96 L1776.41 1463.43 Q1777.43 1463.08 1778.45 1462.92 Q1779.47 1462.73 1780.49 1462.73 Q1786.27 1462.73 1789.65 1465.9 Q1793.03 1469.08 1793.03 1474.49 Q1793.03 1480.07 1789.56 1483.17 Q1786.09 1486.25 1779.77 1486.25 Q1777.59 1486.25 1775.32 1485.88 Q1773.08 1485.51 1770.67 1484.77 L1770.67 1480.07 Q1772.75 1481.2 1774.98 1481.76 Q1777.2 1482.32 1779.68 1482.32 Q1783.68 1482.32 1786.02 1480.21 Q1788.36 1478.1 1788.36 1474.49 Q1788.36 1470.88 1786.02 1468.77 Q1783.68 1466.67 1779.68 1466.67 Q1777.8 1466.67 1775.93 1467.08 Q1774.07 1467.5 1772.13 1468.38 L1772.13 1451.02 Z\" fill=\"#000000\" fill-rule=\"nonzero\" fill-opacity=\"1\" /><path clip-path=\"url(#clip370)\" d=\"M1812.24 1454.1 Q1808.63 1454.1 1806.8 1457.66 Q1805 1461.2 1805 1468.33 Q1805 1475.44 1806.8 1479.01 Q1808.63 1482.55 1812.24 1482.55 Q1815.88 1482.55 1817.68 1479.01 Q1819.51 1475.44 1819.51 1468.33 Q1819.51 1461.2 1817.68 1457.66 Q1815.88 1454.1 1812.24 1454.1 M1812.24 1450.39 Q1818.05 1450.39 1821.11 1455 Q1824.19 1459.58 1824.19 1468.33 Q1824.19 1477.06 1821.11 1481.67 Q1818.05 1486.25 1812.24 1486.25 Q1806.43 1486.25 1803.36 1481.67 Q1800.3 1477.06 1800.3 1468.33 Q1800.3 1459.58 1803.36 1455 Q1806.43 1450.39 1812.24 1450.39 Z\" fill=\"#000000\" fill-rule=\"nonzero\" fill-opacity=\"1\" /><path clip-path=\"url(#clip370)\" d=\"M2246.49 1481.64 L2262.81 1481.64 L2262.81 1485.58 L2240.87 1485.58 L2240.87 1481.64 Q2243.53 1478.89 2248.11 1474.26 Q2252.72 1469.61 2253.9 1468.27 Q2256.15 1465.74 2257.03 1464.01 Q2257.93 1462.25 2257.93 1460.56 Q2257.93 1457.8 2255.98 1456.07 Q2254.06 1454.33 2250.96 1454.33 Q2248.76 1454.33 2246.31 1455.09 Q2243.88 1455.86 2241.1 1457.41 L2241.1 1452.69 Q2243.92 1451.55 2246.38 1450.97 Q2248.83 1450.39 2250.87 1450.39 Q2256.24 1450.39 2259.43 1453.08 Q2262.63 1455.77 2262.63 1460.26 Q2262.63 1462.39 2261.82 1464.31 Q2261.03 1466.2 2258.92 1468.8 Q2258.35 1469.47 2255.24 1472.69 Q2252.14 1475.88 2246.49 1481.64 Z\" fill=\"#000000\" fill-rule=\"nonzero\" fill-opacity=\"1\" /><path clip-path=\"url(#clip370)\" d=\"M2282.63 1454.1 Q2279.02 1454.1 2277.19 1457.66 Q2275.38 1461.2 2275.38 1468.33 Q2275.38 1475.44 2277.19 1479.01 Q2279.02 1482.55 2282.63 1482.55 Q2286.26 1482.55 2288.07 1479.01 Q2289.9 1475.44 2289.9 1468.33 Q2289.9 1461.2 2288.07 1457.66 Q2286.26 1454.1 2282.63 1454.1 M2282.63 1450.39 Q2288.44 1450.39 2291.49 1455 Q2294.57 1459.58 2294.57 1468.33 Q2294.57 1477.06 2291.49 1481.67 Q2288.44 1486.25 2282.63 1486.25 Q2276.82 1486.25 2273.74 1481.67 Q2270.68 1477.06 2270.68 1468.33 Q2270.68 1459.58 2273.74 1455 Q2276.82 1450.39 2282.63 1450.39 Z\" fill=\"#000000\" fill-rule=\"nonzero\" fill-opacity=\"1\" /><path clip-path=\"url(#clip370)\" d=\"M2312.79 1454.1 Q2309.18 1454.1 2307.35 1457.66 Q2305.54 1461.2 2305.54 1468.33 Q2305.54 1475.44 2307.35 1479.01 Q2309.18 1482.55 2312.79 1482.55 Q2316.42 1482.55 2318.23 1479.01 Q2320.06 1475.44 2320.06 1468.33 Q2320.06 1461.2 2318.23 1457.66 Q2316.42 1454.1 2312.79 1454.1 M2312.79 1450.39 Q2318.6 1450.39 2321.66 1455 Q2324.73 1459.58 2324.73 1468.33 Q2324.73 1477.06 2321.66 1481.67 Q2318.6 1486.25 2312.79 1486.25 Q2306.98 1486.25 2303.9 1481.67 Q2300.85 1477.06 2300.85 1468.33 Q2300.85 1459.58 2303.9 1455 Q2306.98 1450.39 2312.79 1450.39 Z\" fill=\"#000000\" fill-rule=\"nonzero\" fill-opacity=\"1\" /><path clip-path=\"url(#clip370)\" d=\"M1230.48 1522.27 L1230.48 1532.4 L1242.55 1532.4 L1242.55 1536.95 L1230.48 1536.95 L1230.48 1556.3 Q1230.48 1560.66 1231.66 1561.9 Q1232.87 1563.14 1236.53 1563.14 L1242.55 1563.14 L1242.55 1568.04 L1236.53 1568.04 Q1229.75 1568.04 1227.17 1565.53 Q1224.6 1562.98 1224.6 1556.3 L1224.6 1536.95 L1220.3 1536.95 L1220.3 1532.4 L1224.6 1532.4 L1224.6 1522.27 L1230.48 1522.27 Z\" fill=\"#000000\" fill-rule=\"nonzero\" fill-opacity=\"1\" /><path clip-path=\"url(#clip370)\" d=\"M1250.25 1532.4 L1256.11 1532.4 L1256.11 1568.04 L1250.25 1568.04 L1250.25 1532.4 M1250.25 1518.52 L1256.11 1518.52 L1256.11 1525.93 L1250.25 1525.93 L1250.25 1518.52 Z\" fill=\"#000000\" fill-rule=\"nonzero\" fill-opacity=\"1\" /><path clip-path=\"url(#clip370)\" d=\"M1294.01 1533.76 L1294.01 1539.24 Q1291.53 1537.87 1289.02 1537.2 Q1286.53 1536.5 1283.99 1536.5 Q1278.29 1536.5 1275.14 1540.13 Q1271.99 1543.73 1271.99 1550.25 Q1271.99 1556.78 1275.14 1560.4 Q1278.29 1564 1283.99 1564 Q1286.53 1564 1289.02 1563.33 Q1291.53 1562.63 1294.01 1561.26 L1294.01 1566.68 Q1291.56 1567.82 1288.92 1568.39 Q1286.31 1568.97 1283.35 1568.97 Q1275.3 1568.97 1270.56 1563.91 Q1265.81 1558.85 1265.81 1550.25 Q1265.81 1541.53 1270.59 1536.53 Q1275.39 1531.54 1283.73 1531.54 Q1286.44 1531.54 1289.02 1532.11 Q1291.59 1532.65 1294.01 1533.76 Z\" fill=\"#000000\" fill-rule=\"nonzero\" fill-opacity=\"1\" /><path clip-path=\"url(#clip370)\" d=\"M1303.98 1518.52 L1309.86 1518.52 L1309.86 1547.77 L1327.34 1532.4 L1334.82 1532.4 L1315.91 1549.07 L1335.61 1568.04 L1327.97 1568.04 L1309.86 1550.63 L1309.86 1568.04 L1303.98 1568.04 L1303.98 1518.52 Z\" fill=\"#000000\" fill-rule=\"nonzero\" fill-opacity=\"1\" /><path clip-path=\"url(#clip370)\" d=\"M1364.67 1533.45 L1364.67 1538.98 Q1362.19 1537.71 1359.52 1537.07 Q1356.84 1536.44 1353.98 1536.44 Q1349.62 1536.44 1347.42 1537.77 Q1345.26 1539.11 1345.26 1541.79 Q1345.26 1543.82 1346.82 1545 Q1348.38 1546.15 1353.09 1547.2 L1355.09 1547.64 Q1361.33 1548.98 1363.94 1551.43 Q1366.58 1553.85 1366.58 1558.21 Q1366.58 1563.17 1362.64 1566.07 Q1358.72 1568.97 1351.85 1568.97 Q1348.98 1568.97 1345.86 1568.39 Q1342.77 1567.85 1339.34 1566.74 L1339.34 1560.69 Q1342.58 1562.38 1345.73 1563.24 Q1348.89 1564.07 1351.97 1564.07 Q1356.11 1564.07 1358.34 1562.66 Q1360.57 1561.23 1360.57 1558.65 Q1360.57 1556.27 1358.94 1554.99 Q1357.35 1553.72 1351.91 1552.54 L1349.87 1552.07 Q1344.43 1550.92 1342.01 1548.56 Q1339.59 1546.18 1339.59 1542.04 Q1339.59 1537.01 1343.16 1534.27 Q1346.72 1531.54 1353.28 1531.54 Q1356.52 1531.54 1359.39 1532.01 Q1362.25 1532.49 1364.67 1533.45 Z\" fill=\"#000000\" fill-rule=\"nonzero\" fill-opacity=\"1\" /><polyline clip-path=\"url(#clip372)\" style=\"stroke:#000000; stroke-linecap:round; stroke-linejoin:round; stroke-width:2; stroke-opacity:0.1; fill:none\" points=\"234.125,1103.58 2352.76,1103.58 \"/>\n",
       "<polyline clip-path=\"url(#clip372)\" style=\"stroke:#000000; stroke-linecap:round; stroke-linejoin:round; stroke-width:2; stroke-opacity:0.1; fill:none\" points=\"234.125,752.753 2352.76,752.753 \"/>\n",
       "<polyline clip-path=\"url(#clip372)\" style=\"stroke:#000000; stroke-linecap:round; stroke-linejoin:round; stroke-width:2; stroke-opacity:0.1; fill:none\" points=\"234.125,401.928 2352.76,401.928 \"/>\n",
       "<polyline clip-path=\"url(#clip372)\" style=\"stroke:#000000; stroke-linecap:round; stroke-linejoin:round; stroke-width:2; stroke-opacity:0.1; fill:none\" points=\"234.125,51.1032 2352.76,51.1032 \"/>\n",
       "<polyline clip-path=\"url(#clip370)\" style=\"stroke:#000000; stroke-linecap:round; stroke-linejoin:round; stroke-width:4; stroke-opacity:1; fill:none\" points=\"234.125,1423.18 234.125,47.2441 \"/>\n",
       "<polyline clip-path=\"url(#clip370)\" style=\"stroke:#000000; stroke-linecap:round; stroke-linejoin:round; stroke-width:4; stroke-opacity:1; fill:none\" points=\"234.125,1103.58 253.023,1103.58 \"/>\n",
       "<polyline clip-path=\"url(#clip370)\" style=\"stroke:#000000; stroke-linecap:round; stroke-linejoin:round; stroke-width:4; stroke-opacity:1; fill:none\" points=\"234.125,752.753 253.023,752.753 \"/>\n",
       "<polyline clip-path=\"url(#clip370)\" style=\"stroke:#000000; stroke-linecap:round; stroke-linejoin:round; stroke-width:4; stroke-opacity:1; fill:none\" points=\"234.125,401.928 253.023,401.928 \"/>\n",
       "<polyline clip-path=\"url(#clip370)\" style=\"stroke:#000000; stroke-linecap:round; stroke-linejoin:round; stroke-width:4; stroke-opacity:1; fill:none\" points=\"234.125,51.1032 253.023,51.1032 \"/>\n",
       "<path clip-path=\"url(#clip370)\" d=\"M146.066 1086.3 L164.422 1086.3 L164.422 1090.23 L150.348 1090.23 L150.348 1098.71 Q151.366 1098.36 152.385 1098.2 Q153.403 1098.01 154.422 1098.01 Q160.209 1098.01 163.589 1101.18 Q166.968 1104.35 166.968 1109.77 Q166.968 1115.35 163.496 1118.45 Q160.024 1121.53 153.704 1121.53 Q151.528 1121.53 149.26 1121.16 Q147.015 1120.79 144.607 1120.05 L144.607 1115.35 Q146.691 1116.48 148.913 1117.04 Q151.135 1117.59 153.612 1117.59 Q157.616 1117.59 159.954 1115.49 Q162.292 1113.38 162.292 1109.77 Q162.292 1106.16 159.954 1104.05 Q157.616 1101.95 153.612 1101.95 Q151.737 1101.95 149.862 1102.36 Q148.01 1102.78 146.066 1103.66 L146.066 1086.3 Z\" fill=\"#000000\" fill-rule=\"nonzero\" fill-opacity=\"1\" /><path clip-path=\"url(#clip370)\" d=\"M186.181 1089.38 Q182.57 1089.38 180.741 1092.94 Q178.936 1096.48 178.936 1103.61 Q178.936 1110.72 180.741 1114.28 Q182.57 1117.83 186.181 1117.83 Q189.815 1117.83 191.621 1114.28 Q193.45 1110.72 193.45 1103.61 Q193.45 1096.48 191.621 1092.94 Q189.815 1089.38 186.181 1089.38 M186.181 1085.67 Q191.991 1085.67 195.047 1090.28 Q198.125 1094.86 198.125 1103.61 Q198.125 1112.34 195.047 1116.95 Q191.991 1121.53 186.181 1121.53 Q180.371 1121.53 177.292 1116.95 Q174.237 1112.34 174.237 1103.61 Q174.237 1094.86 177.292 1090.28 Q180.371 1085.67 186.181 1085.67 Z\" fill=\"#000000\" fill-rule=\"nonzero\" fill-opacity=\"1\" /><path clip-path=\"url(#clip370)\" d=\"M116.668 766.098 L124.306 766.098 L124.306 739.732 L115.996 741.399 L115.996 737.14 L124.26 735.473 L128.936 735.473 L128.936 766.098 L136.575 766.098 L136.575 770.033 L116.668 770.033 L116.668 766.098 Z\" fill=\"#000000\" fill-rule=\"nonzero\" fill-opacity=\"1\" /><path clip-path=\"url(#clip370)\" d=\"M156.019 738.552 Q152.408 738.552 150.579 742.117 Q148.774 745.658 148.774 752.788 Q148.774 759.894 150.579 763.459 Q152.408 767.001 156.019 767.001 Q159.653 767.001 161.459 763.459 Q163.288 759.894 163.288 752.788 Q163.288 745.658 161.459 742.117 Q159.653 738.552 156.019 738.552 M156.019 734.848 Q161.829 734.848 164.885 739.455 Q167.964 744.038 167.964 752.788 Q167.964 761.515 164.885 766.121 Q161.829 770.705 156.019 770.705 Q150.209 770.705 147.13 766.121 Q144.075 761.515 144.075 752.788 Q144.075 744.038 147.13 739.455 Q150.209 734.848 156.019 734.848 Z\" fill=\"#000000\" fill-rule=\"nonzero\" fill-opacity=\"1\" /><path clip-path=\"url(#clip370)\" d=\"M186.181 738.552 Q182.57 738.552 180.741 742.117 Q178.936 745.658 178.936 752.788 Q178.936 759.894 180.741 763.459 Q182.57 767.001 186.181 767.001 Q189.815 767.001 191.621 763.459 Q193.45 759.894 193.45 752.788 Q193.45 745.658 191.621 742.117 Q189.815 738.552 186.181 738.552 M186.181 734.848 Q191.991 734.848 195.047 739.455 Q198.125 744.038 198.125 752.788 Q198.125 761.515 195.047 766.121 Q191.991 770.705 186.181 770.705 Q180.371 770.705 177.292 766.121 Q174.237 761.515 174.237 752.788 Q174.237 744.038 177.292 739.455 Q180.371 734.848 186.181 734.848 Z\" fill=\"#000000\" fill-rule=\"nonzero\" fill-opacity=\"1\" /><path clip-path=\"url(#clip370)\" d=\"M116.668 415.273 L124.306 415.273 L124.306 388.907 L115.996 390.574 L115.996 386.315 L124.26 384.648 L128.936 384.648 L128.936 415.273 L136.575 415.273 L136.575 419.208 L116.668 419.208 L116.668 415.273 Z\" fill=\"#000000\" fill-rule=\"nonzero\" fill-opacity=\"1\" /><path clip-path=\"url(#clip370)\" d=\"M146.066 384.648 L164.422 384.648 L164.422 388.583 L150.348 388.583 L150.348 397.056 Q151.366 396.708 152.385 396.546 Q153.403 396.361 154.422 396.361 Q160.209 396.361 163.589 399.532 Q166.968 402.704 166.968 408.12 Q166.968 413.699 163.496 416.801 Q160.024 419.879 153.704 419.879 Q151.528 419.879 149.26 419.509 Q147.015 419.139 144.607 418.398 L144.607 413.699 Q146.691 414.833 148.913 415.389 Q151.135 415.944 153.612 415.944 Q157.616 415.944 159.954 413.838 Q162.292 411.731 162.292 408.12 Q162.292 404.509 159.954 402.403 Q157.616 400.296 153.612 400.296 Q151.737 400.296 149.862 400.713 Q148.01 401.13 146.066 402.009 L146.066 384.648 Z\" fill=\"#000000\" fill-rule=\"nonzero\" fill-opacity=\"1\" /><path clip-path=\"url(#clip370)\" d=\"M186.181 387.727 Q182.57 387.727 180.741 391.292 Q178.936 394.833 178.936 401.963 Q178.936 409.069 180.741 412.634 Q182.57 416.176 186.181 416.176 Q189.815 416.176 191.621 412.634 Q193.45 409.069 193.45 401.963 Q193.45 394.833 191.621 391.292 Q189.815 387.727 186.181 387.727 M186.181 384.023 Q191.991 384.023 195.047 388.63 Q198.125 393.213 198.125 401.963 Q198.125 410.69 195.047 415.296 Q191.991 419.879 186.181 419.879 Q180.371 419.879 177.292 415.296 Q174.237 410.69 174.237 401.963 Q174.237 393.213 177.292 388.63 Q180.371 384.023 186.181 384.023 Z\" fill=\"#000000\" fill-rule=\"nonzero\" fill-opacity=\"1\" /><path clip-path=\"url(#clip370)\" d=\"M119.885 64.448 L136.204 64.448 L136.204 68.3832 L114.26 68.3832 L114.26 64.448 Q116.922 61.6934 121.505 57.0638 Q126.112 52.411 127.292 51.0684 Q129.538 48.5453 130.417 46.8092 Q131.32 45.05 131.32 43.3602 Q131.32 40.6055 129.376 38.8694 Q127.455 37.1333 124.353 37.1333 Q122.154 37.1333 119.7 37.8972 Q117.269 38.6611 114.492 40.212 L114.492 35.4898 Q117.316 34.3556 119.769 33.7769 Q122.223 33.1982 124.26 33.1982 Q129.63 33.1982 132.825 35.8833 Q136.019 38.5685 136.019 43.0592 Q136.019 45.1888 135.209 47.1101 Q134.422 49.0083 132.316 51.6009 Q131.737 52.2721 128.635 55.4897 Q125.533 58.6841 119.885 64.448 Z\" fill=\"#000000\" fill-rule=\"nonzero\" fill-opacity=\"1\" /><path clip-path=\"url(#clip370)\" d=\"M156.019 36.9019 Q152.408 36.9019 150.579 40.4667 Q148.774 44.0083 148.774 51.1379 Q148.774 58.2443 150.579 61.8091 Q152.408 65.3508 156.019 65.3508 Q159.653 65.3508 161.459 61.8091 Q163.288 58.2443 163.288 51.1379 Q163.288 44.0083 161.459 40.4667 Q159.653 36.9019 156.019 36.9019 M156.019 33.1982 Q161.829 33.1982 164.885 37.8046 Q167.964 42.3879 167.964 51.1379 Q167.964 59.8647 164.885 64.4712 Q161.829 69.0545 156.019 69.0545 Q150.209 69.0545 147.13 64.4712 Q144.075 59.8647 144.075 51.1379 Q144.075 42.3879 147.13 37.8046 Q150.209 33.1982 156.019 33.1982 Z\" fill=\"#000000\" fill-rule=\"nonzero\" fill-opacity=\"1\" /><path clip-path=\"url(#clip370)\" d=\"M186.181 36.9019 Q182.57 36.9019 180.741 40.4667 Q178.936 44.0083 178.936 51.1379 Q178.936 58.2443 180.741 61.8091 Q182.57 65.3508 186.181 65.3508 Q189.815 65.3508 191.621 61.8091 Q193.45 58.2443 193.45 51.1379 Q193.45 44.0083 191.621 40.4667 Q189.815 36.9019 186.181 36.9019 M186.181 33.1982 Q191.991 33.1982 195.047 37.8046 Q198.125 42.3879 198.125 51.1379 Q198.125 59.8647 195.047 64.4712 Q191.991 69.0545 186.181 69.0545 Q180.371 69.0545 177.292 64.4712 Q174.237 59.8647 174.237 51.1379 Q174.237 42.3879 177.292 37.8046 Q180.371 33.1982 186.181 33.1982 Z\" fill=\"#000000\" fill-rule=\"nonzero\" fill-opacity=\"1\" /><path clip-path=\"url(#clip370)\" d=\"M42.4881 1009.19 L64.0042 1009.19 L64.0042 1015.05 L42.679 1015.05 Q37.6183 1015.05 35.1038 1017.02 Q32.5894 1019 32.5894 1022.94 Q32.5894 1027.68 35.6131 1030.42 Q38.6368 1033.16 43.8567 1033.16 L64.0042 1033.16 L64.0042 1039.05 L28.3562 1039.05 L28.3562 1033.16 L33.8944 1033.16 Q30.6797 1031.06 29.0883 1028.23 Q27.4968 1025.36 27.4968 1021.64 Q27.4968 1015.49 31.3163 1012.34 Q35.1038 1009.19 42.4881 1009.19 Z\" fill=\"#000000\" fill-rule=\"nonzero\" fill-opacity=\"1\" /><path clip-path=\"url(#clip370)\" d=\"M49.9359 998.116 L28.3562 998.116 L28.3562 992.259 L49.7131 992.259 Q54.7739 992.259 57.3202 990.286 Q59.8346 988.312 59.8346 984.366 Q59.8346 979.623 56.8109 976.886 Q53.7872 974.117 48.5673 974.117 L28.3562 974.117 L28.3562 968.26 L64.0042 968.26 L64.0042 974.117 L58.5296 974.117 Q61.7762 976.249 63.3676 979.082 Q64.9272 981.883 64.9272 985.607 Q64.9272 991.75 61.1078 994.933 Q57.2883 998.116 49.9359 998.116 M27.4968 983.379 L27.4968 983.379 Z\" fill=\"#000000\" fill-rule=\"nonzero\" fill-opacity=\"1\" /><path clip-path=\"url(#clip370)\" d=\"M35.1993 928.443 Q31.2526 926.247 29.3747 923.191 Q27.4968 920.136 27.4968 915.998 Q27.4968 910.428 31.4117 907.404 Q35.2948 904.381 42.4881 904.381 L64.0042 904.381 L64.0042 910.269 L42.679 910.269 Q37.5546 910.269 35.072 912.083 Q32.5894 913.897 32.5894 917.621 Q32.5894 922.173 35.6131 924.815 Q38.6368 927.456 43.8567 927.456 L64.0042 927.456 L64.0042 933.345 L42.679 933.345 Q37.5228 933.345 35.072 935.159 Q32.5894 936.973 32.5894 940.761 Q32.5894 945.248 35.6449 947.89 Q38.6686 950.532 43.8567 950.532 L64.0042 950.532 L64.0042 956.42 L28.3562 956.42 L28.3562 950.532 L33.8944 950.532 Q30.616 948.527 29.0564 945.726 Q27.4968 942.925 27.4968 939.074 Q27.4968 935.191 29.4702 932.485 Q31.4436 929.748 35.1993 928.443 Z\" fill=\"#000000\" fill-rule=\"nonzero\" fill-opacity=\"1\" /><path clip-path=\"url(#clip370)\" d=\"M46.212 867.109 Q39.7508 867.109 36.0905 869.783 Q32.3984 872.425 32.3984 877.072 Q32.3984 881.719 36.0905 884.392 Q39.7508 887.034 46.212 887.034 Q52.6732 887.034 56.3653 884.392 Q60.0256 881.719 60.0256 877.072 Q60.0256 872.425 56.3653 869.783 Q52.6732 867.109 46.212 867.109 M33.7671 887.034 Q30.5842 885.188 29.0564 882.387 Q27.4968 879.554 27.4968 875.639 Q27.4968 869.146 32.6531 865.104 Q37.8093 861.03 46.212 861.03 Q54.6147 861.03 59.771 865.104 Q64.9272 869.146 64.9272 875.639 Q64.9272 879.554 63.3994 882.387 Q61.8398 885.188 58.657 887.034 L64.0042 887.034 L64.0042 892.922 L14.479 892.922 L14.479 887.034 L33.7671 887.034 Z\" fill=\"#000000\" fill-rule=\"nonzero\" fill-opacity=\"1\" /><path clip-path=\"url(#clip370)\" d=\"M44.7161 820.831 L47.5806 820.831 L47.5806 847.758 Q53.6281 847.376 56.8109 844.129 Q59.9619 840.851 59.9619 835.026 Q59.9619 831.652 59.1344 828.501 Q58.3069 825.319 56.6518 822.199 L62.1899 822.199 Q63.5267 825.35 64.227 828.661 Q64.9272 831.971 64.9272 835.376 Q64.9272 843.906 59.9619 848.903 Q54.9967 853.869 46.5303 853.869 Q37.7774 853.869 32.6531 849.158 Q27.4968 844.416 27.4968 836.395 Q27.4968 829.202 32.1438 825.032 Q36.7589 820.831 44.7161 820.831 M42.9973 826.687 Q38.1912 826.751 35.3266 829.393 Q32.4621 832.003 32.4621 836.331 Q32.4621 841.233 35.2312 844.193 Q38.0002 847.121 43.0292 847.567 L42.9973 826.687 Z\" fill=\"#000000\" fill-rule=\"nonzero\" fill-opacity=\"1\" /><path clip-path=\"url(#clip370)\" d=\"M33.8307 790.562 Q33.2578 791.548 33.0032 792.726 Q32.7167 793.872 32.7167 795.272 Q32.7167 800.238 35.9632 802.911 Q39.1779 805.553 45.2253 805.553 L64.0042 805.553 L64.0042 811.441 L28.3562 811.441 L28.3562 805.553 L33.8944 805.553 Q30.6479 803.707 29.0883 800.747 Q27.4968 797.787 27.4968 793.554 Q27.4968 792.949 27.5923 792.217 Q27.656 791.485 27.8151 790.594 L33.8307 790.562 Z\" fill=\"#000000\" fill-rule=\"nonzero\" fill-opacity=\"1\" /><path clip-path=\"url(#clip370)\" d=\"M32.4621 749.885 Q32.4621 754.596 36.1542 757.333 Q39.8145 760.07 46.212 760.07 Q52.6095 760.07 56.3017 757.365 Q59.9619 754.627 59.9619 749.885 Q59.9619 745.206 56.2698 742.469 Q52.5777 739.732 46.212 739.732 Q39.8781 739.732 36.186 742.469 Q32.4621 745.206 32.4621 749.885 M27.4968 749.885 Q27.4968 742.246 32.4621 737.886 Q37.4273 733.525 46.212 733.525 Q54.9649 733.525 59.9619 737.886 Q64.9272 742.246 64.9272 749.885 Q64.9272 757.556 59.9619 761.916 Q54.9649 766.245 46.212 766.245 Q37.4273 766.245 32.4621 761.916 Q27.4968 757.556 27.4968 749.885 Z\" fill=\"#000000\" fill-rule=\"nonzero\" fill-opacity=\"1\" /><path clip-path=\"url(#clip370)\" d=\"M14.479 705.771 L19.3487 705.771 L19.3487 711.372 Q19.3487 714.523 20.6219 715.765 Q21.895 716.974 25.2052 716.974 L28.3562 716.974 L28.3562 707.33 L32.9077 707.33 L32.9077 716.974 L64.0042 716.974 L64.0042 722.862 L32.9077 722.862 L32.9077 728.464 L28.3562 728.464 L28.3562 722.862 L25.8736 722.862 Q19.9216 722.862 17.2162 720.093 Q14.479 717.324 14.479 711.309 L14.479 705.771 Z\" fill=\"#000000\" fill-rule=\"nonzero\" fill-opacity=\"1\" /><path clip-path=\"url(#clip370)\" d=\"M58.657 674.483 L77.5631 674.483 L77.5631 680.371 L28.3562 680.371 L28.3562 674.483 L33.7671 674.483 Q30.5842 672.637 29.0564 669.836 Q27.4968 667.003 27.4968 663.089 Q27.4968 656.595 32.6531 652.553 Q37.8093 648.479 46.212 648.479 Q54.6147 648.479 59.771 652.553 Q64.9272 656.595 64.9272 663.089 Q64.9272 667.003 63.3994 669.836 Q61.8398 672.637 58.657 674.483 M46.212 654.558 Q39.7508 654.558 36.0905 657.232 Q32.3984 659.874 32.3984 664.521 Q32.3984 669.168 36.0905 671.841 Q39.7508 674.483 46.212 674.483 Q52.6732 674.483 56.3653 671.841 Q60.0256 669.168 60.0256 664.521 Q60.0256 659.874 56.3653 657.232 Q52.6732 654.558 46.212 654.558 Z\" fill=\"#000000\" fill-rule=\"nonzero\" fill-opacity=\"1\" /><path clip-path=\"url(#clip370)\" d=\"M46.0847 622.571 Q46.0847 629.669 47.7079 632.406 Q49.3312 635.143 53.2461 635.143 Q56.3653 635.143 58.2114 633.106 Q60.0256 631.037 60.0256 627.504 Q60.0256 622.634 56.5881 619.706 Q53.1188 616.746 47.3897 616.746 L46.0847 616.746 L46.0847 622.571 M43.6657 610.89 L64.0042 610.89 L64.0042 616.746 L58.5933 616.746 Q61.8398 618.751 63.3994 621.743 Q64.9272 624.735 64.9272 629.064 Q64.9272 634.538 61.8716 637.785 Q58.7843 641 53.6281 641 Q47.6125 641 44.5569 636.989 Q41.5014 632.947 41.5014 624.958 L41.5014 616.746 L40.9285 616.746 Q36.8862 616.746 34.6901 619.42 Q32.4621 622.062 32.4621 626.868 Q32.4621 629.923 33.1941 632.82 Q33.9262 635.716 35.3903 638.39 L29.9795 638.39 Q28.7381 635.175 28.1334 632.151 Q27.4968 629.127 27.4968 626.263 Q27.4968 618.529 31.5072 614.709 Q35.5176 610.89 43.6657 610.89 Z\" fill=\"#000000\" fill-rule=\"nonzero\" fill-opacity=\"1\" /><path clip-path=\"url(#clip370)\" d=\"M18.2347 593.034 L28.3562 593.034 L28.3562 580.971 L32.9077 580.971 L32.9077 593.034 L52.2594 593.034 Q56.6199 593.034 57.8613 591.856 Q59.1026 590.647 59.1026 586.986 L59.1026 580.971 L64.0042 580.971 L64.0042 586.986 Q64.0042 593.766 61.4897 596.344 Q58.9434 598.922 52.2594 598.922 L32.9077 598.922 L32.9077 603.219 L28.3562 603.219 L28.3562 598.922 L18.2347 598.922 L18.2347 593.034 Z\" fill=\"#000000\" fill-rule=\"nonzero\" fill-opacity=\"1\" /><path clip-path=\"url(#clip370)\" d=\"M29.7248 547.615 L35.1993 547.615 Q33.8307 550.097 33.1623 552.612 Q32.4621 555.094 32.4621 557.641 Q32.4621 563.338 36.0905 566.489 Q39.6872 569.64 46.212 569.64 Q52.7369 569.64 56.3653 566.489 Q59.9619 563.338 59.9619 557.641 Q59.9619 555.094 59.2935 552.612 Q58.5933 550.097 57.2247 547.615 L62.6355 547.615 Q63.7814 550.065 64.3543 552.707 Q64.9272 555.317 64.9272 558.277 Q64.9272 566.33 59.8664 571.072 Q54.8057 575.815 46.212 575.815 Q37.491 575.815 32.4939 571.04 Q27.4968 566.234 27.4968 557.895 Q27.4968 555.19 28.0697 552.612 Q28.6108 550.034 29.7248 547.615 Z\" fill=\"#000000\" fill-rule=\"nonzero\" fill-opacity=\"1\" /><path clip-path=\"url(#clip370)\" d=\"M42.4881 507.797 L64.0042 507.797 L64.0042 513.654 L42.679 513.654 Q37.6183 513.654 35.1038 515.627 Q32.5894 517.6 32.5894 521.547 Q32.5894 526.289 35.6131 529.027 Q38.6368 531.764 43.8567 531.764 L64.0042 531.764 L64.0042 537.652 L14.479 537.652 L14.479 531.764 L33.8944 531.764 Q30.6797 529.663 29.0883 526.831 Q27.4968 523.966 27.4968 520.242 Q27.4968 514.099 31.3163 510.948 Q35.1038 507.797 42.4881 507.797 Z\" fill=\"#000000\" fill-rule=\"nonzero\" fill-opacity=\"1\" /><path clip-path=\"url(#clip370)\" d=\"M44.7161 465.624 L47.5806 465.624 L47.5806 492.551 Q53.6281 492.169 56.8109 488.923 Q59.9619 485.644 59.9619 479.82 Q59.9619 476.446 59.1344 473.295 Q58.3069 470.112 56.6518 466.993 L62.1899 466.993 Q63.5267 470.144 64.227 473.454 Q64.9272 476.764 64.9272 480.17 Q64.9272 488.7 59.9619 493.697 Q54.9967 498.662 46.5303 498.662 Q37.7774 498.662 32.6531 493.952 Q27.4968 489.209 27.4968 481.188 Q27.4968 473.995 32.1438 469.826 Q36.7589 465.624 44.7161 465.624 M42.9973 471.481 Q38.1912 471.544 35.3266 474.186 Q32.4621 476.796 32.4621 481.125 Q32.4621 486.026 35.2312 488.986 Q38.0002 491.915 43.0292 492.36 L42.9973 471.481 Z\" fill=\"#000000\" fill-rule=\"nonzero\" fill-opacity=\"1\" /><path clip-path=\"url(#clip370)\" d=\"M29.4065 433.287 L34.9447 433.287 Q33.6716 435.769 33.035 438.443 Q32.3984 441.116 32.3984 443.981 Q32.3984 448.341 33.7352 450.538 Q35.072 452.702 37.7456 452.702 Q39.7826 452.702 40.9603 451.142 Q42.1061 449.583 43.1565 444.872 L43.6021 442.867 Q44.9389 436.628 47.3897 434.019 Q49.8086 431.377 54.1691 431.377 Q59.1344 431.377 62.0308 435.324 Q64.9272 439.238 64.9272 446.113 Q64.9272 448.978 64.3543 452.097 Q63.8132 455.185 62.6992 458.622 L56.6518 458.622 Q58.3387 455.376 59.198 452.224 Q60.0256 449.073 60.0256 445.986 Q60.0256 441.848 58.6251 439.62 Q57.1929 437.392 54.6147 437.392 Q52.2276 437.392 50.9545 439.016 Q49.6813 440.607 48.5037 446.05 L48.0262 448.087 Q46.8804 453.529 44.5251 455.948 Q42.138 458.367 38.0002 458.367 Q32.9713 458.367 30.2341 454.803 Q27.4968 451.238 27.4968 444.681 Q27.4968 441.435 27.9743 438.57 Q28.4517 435.705 29.4065 433.287 Z\" fill=\"#000000\" fill-rule=\"nonzero\" fill-opacity=\"1\" /><polyline clip-path=\"url(#clip372)\" style=\"stroke:#009af9; stroke-linecap:round; stroke-linejoin:round; stroke-width:4; stroke-opacity:1; fill:none\" points=\"294.087,86.1857 304.08,528.225 314.074,780.819 324.067,696.621 334.061,780.819 344.054,907.116 354.048,829.935 364.041,991.314 374.035,900.1 384.029,970.265 394.022,928.166 404.016,914.133 414.009,801.869 424.003,893.083 433.996,865.017 443.99,822.918 453.983,843.968 463.977,886.067 473.97,963.248 483.964,970.265 493.957,1117.61 503.951,1145.68 513.945,1110.59 523.938,1089.55 533.932,1054.46 543.925,1061.48 553.919,1110.59 563.912,1089.55 573.906,1103.58 583.899,1131.64 593.893,1117.61 603.886,1124.63 613.88,1124.63 623.874,1124.63 633.867,1138.66 643.861,1089.55 653.854,1131.64 663.848,1047.45 673.841,1152.69 683.835,1152.69 693.828,1159.71 703.822,1124.63 713.815,1145.68 723.809,1152.69 733.802,1124.63 743.796,1110.59 753.79,1082.53 763.783,1005.35 773.777,1110.59 783.77,1012.36 793.764,1166.73 803.757,1208.83 813.751,1250.92 823.744,1250.92 833.738,1250.92 843.731,1229.88 853.725,1187.78 863.718,1194.79 873.712,1180.76 883.706,1180.76 893.699,1173.74 903.693,1201.81 913.686,1229.88 923.68,1243.91 933.673,1187.78 943.667,1194.79 953.66,1215.84 963.654,1215.84 973.647,1222.86 983.641,1187.78 993.634,1208.83 1003.63,1257.94 1013.62,1293.02 1023.62,1300.04 1033.61,1278.99 1043.6,1264.96 1053.6,1229.88 1063.59,1250.92 1073.58,1229.88 1083.58,1208.83 1093.57,1208.83 1103.56,1215.84 1113.56,1208.83 1123.55,1250.92 1133.54,1257.94 1143.54,1243.91 1153.53,1229.88 1163.52,1215.84 1173.52,1229.88 1183.51,1194.79 1193.51,1229.88 1203.5,1264.96 1213.49,1271.97 1223.49,1264.96 1233.48,1293.02 1243.47,1328.11 1253.47,1328.11 1263.46,1307.06 1273.45,1307.06 1283.45,1293.02 1293.44,1307.06 1303.43,1257.94 1313.43,1321.09 1323.42,1321.09 1333.41,1286.01 1343.41,1314.07 1353.4,1293.02 1363.4,1300.04 1373.39,1300.04 1383.38,1286.01 1393.38,1278.99 1403.37,1286.01 1413.36,1286.01 1423.36,1286.01 1433.35,1257.94 1443.34,1257.94 1453.34,1166.73 1463.33,1250.92 1473.32,1187.78 1483.32,1271.97 1493.31,1278.99 1503.31,1278.99 1513.3,1271.97 1523.29,1250.92 1533.29,1194.79 1543.28,1180.76 1553.27,1166.73 1563.27,1173.74 1573.26,1180.76 1583.25,1152.69 1593.25,1173.74 1603.24,1166.73 1613.23,1194.79 1623.23,1215.84 1633.22,1201.81 1643.21,1201.81 1653.21,1264.96 1663.2,1257.94 1673.2,1278.99 1683.19,1300.04 1693.18,1293.02 1703.18,1264.96 1713.17,1229.88 1723.16,1187.78 1733.16,1278.99 1743.15,1222.86 1753.14,1293.02 1763.14,1250.92 1773.13,1300.04 1783.12,1271.97 1793.12,1286.01 1803.11,1314.07 1813.1,1335.12 1823.1,1363.19 1833.09,1370.21 1843.09,1384.24 1853.08,1384.24 1863.07,1384.24 1873.07,1384.24 1883.06,1384.24 1893.05,1384.24 1903.05,1384.24 1913.04,1384.24 1923.03,1384.24 1933.03,1384.24 1943.02,1384.24 1953.01,1384.24 1963.01,1384.24 1973,1384.24 1982.99,1384.24 1992.99,1384.24 2002.98,1384.24 2012.98,1384.24 2022.97,1384.24 2032.96,1384.24 2042.96,1384.24 2052.95,1384.24 2062.94,1384.24 2072.94,1384.24 2082.93,1384.24 2092.92,1384.24 2102.92,1384.24 2112.91,1384.24 2122.9,1384.24 2132.9,1384.24 2142.89,1384.24 2152.89,1384.24 2162.88,1384.24 2172.87,1384.24 2182.87,1384.24 2192.86,1384.24 2202.85,1384.24 2212.85,1384.24 2222.84,1384.24 2232.83,1384.24 2242.83,1384.24 2252.82,1384.24 2262.81,1384.24 2272.81,1384.24 2282.8,1384.24 2292.79,1384.24 \"/>\n",
       "<path clip-path=\"url(#clip370)\" d=\"M1957.17 196.789 L2282.13 196.789 L2282.13 93.1086 L1957.17 93.1086  Z\" fill=\"#ffffff\" fill-rule=\"evenodd\" fill-opacity=\"1\"/>\n",
       "<polyline clip-path=\"url(#clip370)\" style=\"stroke:#000000; stroke-linecap:round; stroke-linejoin:round; stroke-width:4; stroke-opacity:1; fill:none\" points=\"1957.17,196.789 2282.13,196.789 2282.13,93.1086 1957.17,93.1086 1957.17,196.789 \"/>\n",
       "<polyline clip-path=\"url(#clip370)\" style=\"stroke:#009af9; stroke-linecap:round; stroke-linejoin:round; stroke-width:4; stroke-opacity:1; fill:none\" points=\"1980.71,144.949 2121.95,144.949 \"/>\n",
       "<path clip-path=\"url(#clip370)\" d=\"M2161.33 132.275 L2154.98 149.474 L2167.69 149.474 L2161.33 132.275 M2158.69 127.669 L2163.99 127.669 L2177.16 162.229 L2172.3 162.229 L2169.15 153.363 L2153.57 153.363 L2150.42 162.229 L2145.49 162.229 L2158.69 127.669 Z\" fill=\"#000000\" fill-rule=\"nonzero\" fill-opacity=\"1\" /><path clip-path=\"url(#clip370)\" d=\"M2182.02 126.21 L2186.28 126.21 L2186.28 162.229 L2182.02 162.229 L2182.02 126.21 Z\" fill=\"#000000\" fill-rule=\"nonzero\" fill-opacity=\"1\" /><path clip-path=\"url(#clip370)\" d=\"M2195.19 136.303 L2199.45 136.303 L2199.45 162.229 L2195.19 162.229 L2195.19 136.303 M2195.19 126.21 L2199.45 126.21 L2199.45 131.604 L2195.19 131.604 L2195.19 126.21 Z\" fill=\"#000000\" fill-rule=\"nonzero\" fill-opacity=\"1\" /><path clip-path=\"url(#clip370)\" d=\"M2205.31 136.303 L2209.82 136.303 L2217.92 158.062 L2226.03 136.303 L2230.54 136.303 L2220.82 162.229 L2215.03 162.229 L2205.31 136.303 Z\" fill=\"#000000\" fill-rule=\"nonzero\" fill-opacity=\"1\" /><path clip-path=\"url(#clip370)\" d=\"M2258.59 148.201 L2258.59 150.284 L2239.01 150.284 Q2239.29 154.682 2241.65 156.997 Q2244.03 159.289 2248.27 159.289 Q2250.72 159.289 2253.02 158.687 Q2255.33 158.085 2257.6 156.881 L2257.6 160.909 Q2255.31 161.881 2252.9 162.391 Q2250.49 162.9 2248.02 162.9 Q2241.81 162.9 2238.18 159.289 Q2234.57 155.678 2234.57 149.52 Q2234.57 143.155 2237.99 139.428 Q2241.44 135.678 2247.28 135.678 Q2252.51 135.678 2255.54 139.057 Q2258.59 142.414 2258.59 148.201 M2254.34 146.951 Q2254.29 143.456 2252.37 141.372 Q2250.47 139.289 2247.32 139.289 Q2243.76 139.289 2241.6 141.303 Q2239.47 143.317 2239.15 146.974 L2254.34 146.951 Z\" fill=\"#000000\" fill-rule=\"nonzero\" fill-opacity=\"1\" /></svg>\n"
      ],
      "text/html": [
       "<img src=\"data:image/png;base64,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\" />"
      ]
     },
     "metadata": {},
     "output_type": "display_data"
    },
    {
     "data": {
      "text/html": [
       "<div><div style = \"float: left;\"><span>201×1 DataFrame</span></div><div style = \"float: right;\"><span style = \"font-style: italic;\">176 rows omitted</span></div><div style = \"clear: both;\"></div></div><div class = \"data-frame\" style = \"overflow-x: scroll;\"><table class = \"data-frame\" style = \"margin-bottom: 6px;\"><thead><tr class = \"header\"><th class = \"rowNumber\" style = \"font-weight: bold; text-align: right;\">Row</th><th style = \"text-align: left;\">Alive</th></tr><tr class = \"subheader headerLastRow\"><th class = \"rowNumber\" style = \"font-weight: bold; text-align: right;\"></th><th title = \"Int64\" style = \"text-align: left;\">Int64</th></tr></thead><tbody><tr><td class = \"rowNumber\" style = \"font-weight: bold; text-align: right;\">1</td><td style = \"text-align: right;\">195</td></tr><tr><td class = \"rowNumber\" style = \"font-weight: bold; text-align: right;\">2</td><td style = \"text-align: right;\">132</td></tr><tr><td class = \"rowNumber\" style = \"font-weight: bold; text-align: right;\">3</td><td style = \"text-align: right;\">96</td></tr><tr><td class = \"rowNumber\" style = \"font-weight: bold; text-align: right;\">4</td><td style = \"text-align: right;\">108</td></tr><tr><td class = \"rowNumber\" style = \"font-weight: bold; text-align: right;\">5</td><td style = \"text-align: right;\">96</td></tr><tr><td class = \"rowNumber\" style = \"font-weight: bold; text-align: right;\">6</td><td style = \"text-align: right;\">78</td></tr><tr><td class = \"rowNumber\" style = \"font-weight: bold; text-align: right;\">7</td><td style = \"text-align: right;\">89</td></tr><tr><td class = \"rowNumber\" style = \"font-weight: bold; text-align: right;\">8</td><td style = \"text-align: right;\">66</td></tr><tr><td class = \"rowNumber\" style = \"font-weight: bold; text-align: right;\">9</td><td style = \"text-align: right;\">79</td></tr><tr><td class = \"rowNumber\" style = \"font-weight: bold; text-align: right;\">10</td><td style = \"text-align: right;\">69</td></tr><tr><td class = \"rowNumber\" style = \"font-weight: bold; text-align: right;\">11</td><td style = \"text-align: right;\">75</td></tr><tr><td class = \"rowNumber\" style = \"font-weight: bold; text-align: right;\">12</td><td style = \"text-align: right;\">77</td></tr><tr><td class = \"rowNumber\" style = \"font-weight: bold; text-align: right;\">13</td><td style = \"text-align: right;\">93</td></tr><tr><td style = \"text-align: right;\">&vellip;</td><td style = \"text-align: right;\">&vellip;</td></tr><tr><td class = \"rowNumber\" style = \"font-weight: bold; text-align: right;\">190</td><td style = \"text-align: right;\">10</td></tr><tr><td class = \"rowNumber\" style = \"font-weight: bold; text-align: right;\">191</td><td style = \"text-align: right;\">10</td></tr><tr><td class = \"rowNumber\" style = \"font-weight: bold; text-align: right;\">192</td><td style = \"text-align: right;\">10</td></tr><tr><td class = \"rowNumber\" style = \"font-weight: bold; text-align: right;\">193</td><td style = \"text-align: right;\">10</td></tr><tr><td class = \"rowNumber\" style = \"font-weight: bold; text-align: right;\">194</td><td style = \"text-align: right;\">10</td></tr><tr><td class = \"rowNumber\" style = \"font-weight: bold; text-align: right;\">195</td><td style = \"text-align: right;\">10</td></tr><tr><td class = \"rowNumber\" style = \"font-weight: bold; text-align: right;\">196</td><td style = \"text-align: right;\">10</td></tr><tr><td class = \"rowNumber\" style = \"font-weight: bold; text-align: right;\">197</td><td style = \"text-align: right;\">10</td></tr><tr><td class = \"rowNumber\" style = \"font-weight: bold; text-align: right;\">198</td><td style = \"text-align: right;\">10</td></tr><tr><td class = \"rowNumber\" style = \"font-weight: bold; text-align: right;\">199</td><td style = \"text-align: right;\">10</td></tr><tr><td class = \"rowNumber\" style = \"font-weight: bold; text-align: right;\">200</td><td style = \"text-align: right;\">10</td></tr><tr><td class = \"rowNumber\" style = \"font-weight: bold; text-align: right;\">201</td><td style = \"text-align: right;\">10</td></tr></tbody></table></div>"
      ],
      "text/latex": [
       "\\begin{tabular}{r|c}\n",
       "\t& Alive\\\\\n",
       "\t\\hline\n",
       "\t& Int64\\\\\n",
       "\t\\hline\n",
       "\t1 & 195 \\\\\n",
       "\t2 & 132 \\\\\n",
       "\t3 & 96 \\\\\n",
       "\t4 & 108 \\\\\n",
       "\t5 & 96 \\\\\n",
       "\t6 & 78 \\\\\n",
       "\t7 & 89 \\\\\n",
       "\t8 & 66 \\\\\n",
       "\t9 & 79 \\\\\n",
       "\t10 & 69 \\\\\n",
       "\t11 & 75 \\\\\n",
       "\t12 & 77 \\\\\n",
       "\t13 & 93 \\\\\n",
       "\t14 & 80 \\\\\n",
       "\t15 & 84 \\\\\n",
       "\t16 & 90 \\\\\n",
       "\t17 & 87 \\\\\n",
       "\t18 & 81 \\\\\n",
       "\t19 & 70 \\\\\n",
       "\t20 & 69 \\\\\n",
       "\t21 & 48 \\\\\n",
       "\t22 & 44 \\\\\n",
       "\t23 & 49 \\\\\n",
       "\t24 & 52 \\\\\n",
       "\t25 & 57 \\\\\n",
       "\t26 & 56 \\\\\n",
       "\t27 & 49 \\\\\n",
       "\t28 & 52 \\\\\n",
       "\t29 & 50 \\\\\n",
       "\t30 & 46 \\\\\n",
       "\t$\\dots$ & $\\dots$ \\\\\n",
       "\\end{tabular}\n"
      ],
      "text/plain": [
       "\u001b[1m201×1 DataFrame\u001b[0m\n",
       "\u001b[1m Row \u001b[0m│\u001b[1m Alive \u001b[0m\n",
       "     │\u001b[90m Int64 \u001b[0m\n",
       "─────┼───────\n",
       "   1 │   195\n",
       "   2 │   132\n",
       "   3 │    96\n",
       "   4 │   108\n",
       "   5 │    96\n",
       "   6 │    78\n",
       "   7 │    89\n",
       "   8 │    66\n",
       "   9 │    79\n",
       "  10 │    69\n",
       "  11 │    75\n",
       "  ⋮  │   ⋮\n",
       " 192 │    10\n",
       " 193 │    10\n",
       " 194 │    10\n",
       " 195 │    10\n",
       " 196 │    10\n",
       " 197 │    10\n",
       " 198 │    10\n",
       " 199 │    10\n",
       " 200 │    10\n",
       " 201 │    10\n",
       "\u001b[36m180 rows omitted\u001b[0m"
      ]
     },
     "execution_count": 33,
     "metadata": {},
     "output_type": "execute_result"
    }
   ],
   "source": [
    "df = get_nums_patches(model, patch-> patch.is_alive, labels=[\"Alive\"], \n",
    "    plot_result = true)"
   ]
  },
  {
   "cell_type": "markdown",
   "metadata": {},
   "source": [
    "![png](assets/CGOL/CGOLPlot1.png)"
   ]
  }
 ],
 "metadata": {
  "@webio": {
   "lastCommId": "ca69b64d2a4742ae95808a4170c3ba25",
   "lastKernelId": "421b23d4-61f0-4273-9252-a6ecc987a4b2"
  },
  "kernelspec": {
   "display_name": "Julia 1.9.2",
   "language": "julia",
   "name": "julia-1.9"
  },
  "language_info": {
   "file_extension": ".jl",
   "mimetype": "application/julia",
   "name": "julia",
   "version": "1.9.2"
  }
 },
 "nbformat": 4,
 "nbformat_minor": 4
}
