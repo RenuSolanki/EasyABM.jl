{
 "cells": [
  {
   "cell_type": "markdown",
   "metadata": {},
   "source": [
    "# Schelling segregation model 3D"
   ]
  },
  {
   "cell_type": "code",
   "execution_count": 1,
   "metadata": {},
   "outputs": [
    {
     "name": "stderr",
     "output_type": "stream",
     "text": [
      "\u001b[32m\u001b[1m  Activating\u001b[22m\u001b[39m project at `~/Documents/EasyABM`\n",
      "\u001b[36m\u001b[1m[ \u001b[22m\u001b[39m\u001b[36m\u001b[1mInfo: \u001b[22m\u001b[39mPrecompiling EasyABM [2ab8e4d3-e1e9-4248-86a3-8419d2d242e9]\n"
     ]
    },
    {
     "data": {
      "application/vnd.webio.node+json": {
       "children": [],
       "instanceArgs": {
        "namespace": "html",
        "tag": "div"
       },
       "nodeType": "DOM",
       "props": {},
       "type": "node"
      },
      "text/html": [
       "<div style=\"padding: 1em; background-color: #f8d6da; border: 1px solid #f5c6cb; font-weight: bold;\">\n",
       "<p>The WebIO Jupyter extension was not detected. See the\n",
       "<a href=\"https://juliagizmos.github.io/WebIO.jl/latest/providers/ijulia/\" target=\"_blank\">\n",
       "    WebIO Jupyter integration documentation\n",
       "</a>\n",
       "for more information.\n",
       "</div>\n"
      ],
      "text/plain": [
       "WebIO._IJuliaInit()"
      ]
     },
     "metadata": {
      "application/vnd.webio.node+json": {
       "kernelId": "9c3c8871-1e92-47db-882d-2cd8db451a36"
      }
     },
     "output_type": "display_data"
    }
   ],
   "source": [
    "using Pkg, Revise\n",
    "Pkg.activate(joinpath(@__DIR__, \"../..\"))\n",
    "using EasyABM"
   ]
  },
  {
   "cell_type": "markdown",
   "metadata": {},
   "source": [
    "## Step 1: Create Agents and Model\n",
    "\n",
    "Lets create 200 agents with properties `pos`, `mood` and `color`. The `keeps_record_of` argument is list of properties that the agent will record during time evolution. The `min_alike` property of the model which specifies the minimum number of alike neighbors for an agent to be happy, is set to be 8. "
   ]
  },
  {
   "cell_type": "code",
   "execution_count": 2,
   "metadata": {},
   "outputs": [],
   "source": [
    "@enum agentsfeeling happy sad"
   ]
  },
  {
   "cell_type": "code",
   "execution_count": 3,
   "metadata": {
    "scrolled": true
   },
   "outputs": [
    {
     "data": {
      "text/plain": [
       "EasyABM SpaceModel3D{EasyABM.StaticType, Int64, EasyABM.NPeriodicType}: In a EasyABM.StaticType model number of agents is fixed.\n"
      ]
     },
     "execution_count": 3,
     "metadata": {},
     "output_type": "execute_result"
    }
   ],
   "source": [
    "@enum agentsfeeling happy sad\n",
    "agents = grid_3d_agents(200, pos = Vect(1,1,1), \n",
    "    color = cl\"red\", mood = happy, keeps_record_of=Set([:pos, :mood]))\n",
    "model = create_3d_model(agents, agents_type = Static, \n",
    "    space_type = NPeriodic, size = (7,7,7), min_alike = 8)"
   ]
  },
  {
   "cell_type": "markdown",
   "metadata": {},
   "source": [
    "\n",
    "## Step 2: Initialise the model\n",
    "\n",
    "In the second step we initialise the agents by defining `initialiser!` function and then sending it as an argument to `init_model!`. In the `initialiser!` function we randomly set agents color to be either `cl\"red\"` or `cl\"green\"` and set their positions randomly such that there is not more than one agent on each patch. Then we set the `mood` property of each agent to be `happy` or `sad` depending upon the number of alike agents in neighborhood. "
   ]
  },
  {
   "cell_type": "code",
   "execution_count": 4,
   "metadata": {},
   "outputs": [],
   "source": [
    "function initialiser!(model)\n",
    "    for agent in model.agents\n",
    "        agent.color = [cl\"red\", cl\"green\"][rand(1:2)]\n",
    "        x,y,z = random_empty_patch(model) \n",
    "        agent.pos = Vect(x, y, z)     \n",
    "    end    \n",
    "    for agent in model.agents\n",
    "        nbrs = neighbors_moore(agent, model, 1)\n",
    "        num_same = 0\n",
    "        for nbr in nbrs\n",
    "            if nbr.color == agent.color\n",
    "                num_same += 1\n",
    "            end\n",
    "        end\n",
    "        if num_same < model.parameters.min_alike\n",
    "            agent.mood = sad\n",
    "        end\n",
    "    end\n",
    "end\n",
    "init_model!(model, initialiser = initialiser!)"
   ]
  },
  {
   "cell_type": "markdown",
   "metadata": {},
   "source": [
    "\n",
    "## Step 3: Defining the step_rule! and running the model\n",
    "\n",
    "In this step we implement the step logic of the Schellings model in the `step_rule!` function and run the model for 100 steps. "
   ]
  },
  {
   "cell_type": "code",
   "execution_count": 5,
   "metadata": {},
   "outputs": [
    {
     "data": {
      "text/plain": [
       "step_rule! (generic function with 1 method)"
      ]
     },
     "execution_count": 5,
     "metadata": {},
     "output_type": "execute_result"
    }
   ],
   "source": [
    "function step_rule!(model)\n",
    "    min_alike = model.parameters.min_alike\n",
    "    for agent in model.agents\n",
    "        num_alike = 0\n",
    "        for nbr in neighbors_moore(agent, model,1)\n",
    "            if agent.color == nbr.color\n",
    "                num_alike += 1\n",
    "            end\n",
    "        end\n",
    "        if num_alike ≥ min_alike\n",
    "            agent.mood = happy\n",
    "        else\n",
    "            agent.mood = sad\n",
    "            x,y,z = random_empty_patch(model) \n",
    "            agent.pos = Vect(x, y, z)\n",
    "        end\n",
    "    end\n",
    "    return\n",
    "end"
   ]
  },
  {
   "cell_type": "code",
   "execution_count": 6,
   "metadata": {
    "scrolled": true
   },
   "outputs": [],
   "source": [
    "run_model!(model, steps=100, step_rule = step_rule!)"
   ]
  },
  {
   "cell_type": "markdown",
   "metadata": {},
   "source": [
    "## Step 4: Visualisation"
   ]
  },
  {
   "cell_type": "markdown",
   "metadata": {},
   "source": [
    "The following code will draw the state of the model at frame number 4. "
   ]
  },
  {
   "cell_type": "code",
   "execution_count": 7,
   "metadata": {},
   "outputs": [
    {
     "name": "stderr",
     "output_type": "stream",
     "text": [
      "\u001b[36m\u001b[1m[ \u001b[22m\u001b[39m\u001b[36m\u001b[1mInfo: \u001b[22m\u001b[39mListening on: 127.0.0.1:8700, thread id: 1\n",
      "\u001b[36m\u001b[1m┌ \u001b[22m\u001b[39m\u001b[36m\u001b[1mInfo: \u001b[22m\u001b[39mMeshCat server started. You can open the visualizer by visiting the following URL in your browser:\n",
      "\u001b[36m\u001b[1m└ \u001b[22m\u001b[39mhttp://127.0.0.1:8700\n"
     ]
    },
    {
     "data": {
      "text/html": [
       "    <div style=\"height: 500px; width: 100%; overflow-x: auto; overflow-y: hidden; resize: both\">\n",
       "    <iframe src=\"http://127.0.0.1:8700\" style=\"width: 100%; height: 100%; border: none\"></iframe>\n",
       "    </div>\n"
      ],
      "text/plain": [
       "MeshCat.DisplayedVisualizer(MeshCat.CoreVisualizer(MeshCat.SceneTrees.SceneNode(nothing, nothing, Dict{String, Vector{UInt8}}(), nothing, Dict{String, MeshCat.SceneTrees.SceneNode}(\"meshcat\" => MeshCat.SceneTrees.SceneNode(nothing, UInt8[0x83, 0xa6, 0x6d, 0x61, 0x74, 0x72, 0x69, 0x78, 0xc7, 0x40  …  0x68, 0xa8, 0x2f, 0x6d, 0x65, 0x73, 0x68, 0x63, 0x61, 0x74], Dict{String, Vector{UInt8}}(), nothing, Dict{String, MeshCat.SceneTrees.SceneNode}(\"agents\" => MeshCat.SceneTrees.SceneNode(nothing, nothing, Dict{String, Vector{UInt8}}(), nothing, Dict{String, MeshCat.SceneTrees.SceneNode}(\"1\" => MeshCat.SceneTrees.SceneNode(UInt8[0x83, 0xa6, 0x6f, 0x62, 0x6a, 0x65, 0x63, 0x74, 0x84, 0xaa  …  0x74, 0x2f, 0x61, 0x67, 0x65, 0x6e, 0x74, 0x73, 0x2f, 0x31], UInt8[0x83, 0xa6, 0x6d, 0x61, 0x74, 0x72, 0x69, 0x78, 0xc7, 0x40  …  0x74, 0x2f, 0x61, 0x67, 0x65, 0x6e, 0x74, 0x73, 0x2f, 0x31], Dict{String, Vector{UInt8}}(\"position\" => [0x84, 0xa8, 0x70, 0x72, 0x6f, 0x70, 0x65, 0x72, 0x74, 0x79  …  0x74, 0x2f, 0x61, 0x67, 0x65, 0x6e, 0x74, 0x73, 0x2f, 0x31]), nothing, Dict{String, MeshCat.SceneTrees.SceneNode}()), \"54\" => MeshCat.SceneTrees.SceneNode(UInt8[0x83, 0xa6, 0x6f, 0x62, 0x6a, 0x65, 0x63, 0x74, 0x84, 0xaa  …  0x2f, 0x61, 0x67, 0x65, 0x6e, 0x74, 0x73, 0x2f, 0x35, 0x34], UInt8[0x83, 0xa6, 0x6d, 0x61, 0x74, 0x72, 0x69, 0x78, 0xc7, 0x40  …  0x2f, 0x61, 0x67, 0x65, 0x6e, 0x74, 0x73, 0x2f, 0x35, 0x34], Dict{String, Vector{UInt8}}(\"position\" => [0x84, 0xa8, 0x70, 0x72, 0x6f, 0x70, 0x65, 0x72, 0x74, 0x79  …  0x2f, 0x61, 0x67, 0x65, 0x6e, 0x74, 0x73, 0x2f, 0x35, 0x34]), nothing, Dict{String, MeshCat.SceneTrees.SceneNode}()), \"101\" => MeshCat.SceneTrees.SceneNode(UInt8[0x83, 0xa6, 0x6f, 0x62, 0x6a, 0x65, 0x63, 0x74, 0x84, 0xaa  …  0x61, 0x67, 0x65, 0x6e, 0x74, 0x73, 0x2f, 0x31, 0x30, 0x31], UInt8[0x83, 0xa6, 0x6d, 0x61, 0x74, 0x72, 0x69, 0x78, 0xc7, 0x40  …  0x61, 0x67, 0x65, 0x6e, 0x74, 0x73, 0x2f, 0x31, 0x30, 0x31], Dict{String, Vector{UInt8}}(\"position\" => [0x84, 0xa8, 0x70, 0x72, 0x6f, 0x70, 0x65, 0x72, 0x74, 0x79  …  0x61, 0x67, 0x65, 0x6e, 0x74, 0x73, 0x2f, 0x31, 0x30, 0x31]), nothing, Dict{String, MeshCat.SceneTrees.SceneNode}()), \"41\" => MeshCat.SceneTrees.SceneNode(UInt8[0x83, 0xa6, 0x6f, 0x62, 0x6a, 0x65, 0x63, 0x74, 0x84, 0xaa  …  0x2f, 0x61, 0x67, 0x65, 0x6e, 0x74, 0x73, 0x2f, 0x34, 0x31], UInt8[0x83, 0xa6, 0x6d, 0x61, 0x74, 0x72, 0x69, 0x78, 0xc7, 0x40  …  0x2f, 0x61, 0x67, 0x65, 0x6e, 0x74, 0x73, 0x2f, 0x34, 0x31], Dict{String, Vector{UInt8}}(\"position\" => [0x84, 0xa8, 0x70, 0x72, 0x6f, 0x70, 0x65, 0x72, 0x74, 0x79  …  0x2f, 0x61, 0x67, 0x65, 0x6e, 0x74, 0x73, 0x2f, 0x34, 0x31]), nothing, Dict{String, MeshCat.SceneTrees.SceneNode}()), \"65\" => MeshCat.SceneTrees.SceneNode(UInt8[0x83, 0xa6, 0x6f, 0x62, 0x6a, 0x65, 0x63, 0x74, 0x84, 0xaa  …  0x2f, 0x61, 0x67, 0x65, 0x6e, 0x74, 0x73, 0x2f, 0x36, 0x35], UInt8[0x83, 0xa6, 0x6d, 0x61, 0x74, 0x72, 0x69, 0x78, 0xc7, 0x40  …  0x2f, 0x61, 0x67, 0x65, 0x6e, 0x74, 0x73, 0x2f, 0x36, 0x35], Dict{String, Vector{UInt8}}(\"position\" => [0x84, 0xa8, 0x70, 0x72, 0x6f, 0x70, 0x65, 0x72, 0x74, 0x79  …  0x2f, 0x61, 0x67, 0x65, 0x6e, 0x74, 0x73, 0x2f, 0x36, 0x35]), nothing, Dict{String, MeshCat.SceneTrees.SceneNode}()), \"168\" => MeshCat.SceneTrees.SceneNode(UInt8[0x83, 0xa6, 0x6f, 0x62, 0x6a, 0x65, 0x63, 0x74, 0x84, 0xaa  …  0x61, 0x67, 0x65, 0x6e, 0x74, 0x73, 0x2f, 0x31, 0x36, 0x38], UInt8[0x83, 0xa6, 0x6d, 0x61, 0x74, 0x72, 0x69, 0x78, 0xc7, 0x40  …  0x61, 0x67, 0x65, 0x6e, 0x74, 0x73, 0x2f, 0x31, 0x36, 0x38], Dict{String, Vector{UInt8}}(\"position\" => [0x84, 0xa8, 0x70, 0x72, 0x6f, 0x70, 0x65, 0x72, 0x74, 0x79  …  0x61, 0x67, 0x65, 0x6e, 0x74, 0x73, 0x2f, 0x31, 0x36, 0x38]), nothing, Dict{String, MeshCat.SceneTrees.SceneNode}()), \"159\" => MeshCat.SceneTrees.SceneNode(UInt8[0x83, 0xa6, 0x6f, 0x62, 0x6a, 0x65, 0x63, 0x74, 0x84, 0xaa  …  0x61, 0x67, 0x65, 0x6e, 0x74, 0x73, 0x2f, 0x31, 0x35, 0x39], UInt8[0x83, 0xa6, 0x6d, 0x61, 0x74, 0x72, 0x69, 0x78, 0xc7, 0x40  …  0x61, 0x67, 0x65, 0x6e, 0x74, 0x73, 0x2f, 0x31, 0x35, 0x39], Dict{String, Vector{UInt8}}(\"position\" => [0x84, 0xa8, 0x70, 0x72, 0x6f, 0x70, 0x65, 0x72, 0x74, 0x79  …  0x61, 0x67, 0x65, 0x6e, 0x74, 0x73, 0x2f, 0x31, 0x35, 0x39]), nothing, Dict{String, MeshCat.SceneTrees.SceneNode}()), \"190\" => MeshCat.SceneTrees.SceneNode(UInt8[0x83, 0xa6, 0x6f, 0x62, 0x6a, 0x65, 0x63, 0x74, 0x84, 0xaa  …  0x61, 0x67, 0x65, 0x6e, 0x74, 0x73, 0x2f, 0x31, 0x39, 0x30], UInt8[0x83, 0xa6, 0x6d, 0x61, 0x74, 0x72, 0x69, 0x78, 0xc7, 0x40  …  0x61, 0x67, 0x65, 0x6e, 0x74, 0x73, 0x2f, 0x31, 0x39, 0x30], Dict{String, Vector{UInt8}}(\"position\" => [0x84, 0xa8, 0x70, 0x72, 0x6f, 0x70, 0x65, 0x72, 0x74, 0x79  …  0x61, 0x67, 0x65, 0x6e, 0x74, 0x73, 0x2f, 0x31, 0x39, 0x30]), nothing, Dict{String, MeshCat.SceneTrees.SceneNode}()), \"88\" => MeshCat.SceneTrees.SceneNode(UInt8[0x83, 0xa6, 0x6f, 0x62, 0x6a, 0x65, 0x63, 0x74, 0x84, 0xaa  …  0x2f, 0x61, 0x67, 0x65, 0x6e, 0x74, 0x73, 0x2f, 0x38, 0x38], UInt8[0x83, 0xa6, 0x6d, 0x61, 0x74, 0x72, 0x69, 0x78, 0xc7, 0x40  …  0x2f, 0x61, 0x67, 0x65, 0x6e, 0x74, 0x73, 0x2f, 0x38, 0x38], Dict{String, Vector{UInt8}}(\"position\" => [0x84, 0xa8, 0x70, 0x72, 0x6f, 0x70, 0x65, 0x72, 0x74, 0x79  …  0x2f, 0x61, 0x67, 0x65, 0x6e, 0x74, 0x73, 0x2f, 0x38, 0x38]), nothing, Dict{String, MeshCat.SceneTrees.SceneNode}()), \"26\" => MeshCat.SceneTrees.SceneNode(UInt8[0x83, 0xa6, 0x6f, 0x62, 0x6a, 0x65, 0x63, 0x74, 0x84, 0xaa  …  0x2f, 0x61, 0x67, 0x65, 0x6e, 0x74, 0x73, 0x2f, 0x32, 0x36], UInt8[0x83, 0xa6, 0x6d, 0x61, 0x74, 0x72, 0x69, 0x78, 0xc7, 0x40  …  0x2f, 0x61, 0x67, 0x65, 0x6e, 0x74, 0x73, 0x2f, 0x32, 0x36], Dict{String, Vector{UInt8}}(\"position\" => [0x84, 0xa8, 0x70, 0x72, 0x6f, 0x70, 0x65, 0x72, 0x74, 0x79  …  0x2f, 0x61, 0x67, 0x65, 0x6e, 0x74, 0x73, 0x2f, 0x32, 0x36]), nothing, Dict{String, MeshCat.SceneTrees.SceneNode}())…)), \"bbox_line_segments\" => MeshCat.SceneTrees.SceneNode(nothing, nothing, Dict{String, Vector{UInt8}}(), nothing, Dict{String, MeshCat.SceneTrees.SceneNode}(\"4\" => MeshCat.SceneTrees.SceneNode(UInt8[0x83, 0xa6, 0x6f, 0x62, 0x6a, 0x65, 0x63, 0x74, 0x84, 0xaa  …  0x73, 0x65, 0x67, 0x6d, 0x65, 0x6e, 0x74, 0x73, 0x2f, 0x34], nothing, Dict{String, Vector{UInt8}}(), nothing, Dict{String, MeshCat.SceneTrees.SceneNode}()), \"1\" => MeshCat.SceneTrees.SceneNode(UInt8[0x83, 0xa6, 0x6f, 0x62, 0x6a, 0x65, 0x63, 0x74, 0x84, 0xaa  …  0x73, 0x65, 0x67, 0x6d, 0x65, 0x6e, 0x74, 0x73, 0x2f, 0x31], nothing, Dict{String, Vector{UInt8}}(), nothing, Dict{String, MeshCat.SceneTrees.SceneNode}()), \"12\" => MeshCat.SceneTrees.SceneNode(UInt8[0x83, 0xa6, 0x6f, 0x62, 0x6a, 0x65, 0x63, 0x74, 0x84, 0xaa  …  0x65, 0x67, 0x6d, 0x65, 0x6e, 0x74, 0x73, 0x2f, 0x31, 0x32], nothing, Dict{String, Vector{UInt8}}(), nothing, Dict{String, MeshCat.SceneTrees.SceneNode}()), \"2\" => MeshCat.SceneTrees.SceneNode(UInt8[0x83, 0xa6, 0x6f, 0x62, 0x6a, 0x65, 0x63, 0x74, 0x84, 0xaa  …  0x73, 0x65, 0x67, 0x6d, 0x65, 0x6e, 0x74, 0x73, 0x2f, 0x32], nothing, Dict{String, Vector{UInt8}}(), nothing, Dict{String, MeshCat.SceneTrees.SceneNode}()), \"6\" => MeshCat.SceneTrees.SceneNode(UInt8[0x83, 0xa6, 0x6f, 0x62, 0x6a, 0x65, 0x63, 0x74, 0x84, 0xaa  …  0x73, 0x65, 0x67, 0x6d, 0x65, 0x6e, 0x74, 0x73, 0x2f, 0x36], nothing, Dict{String, Vector{UInt8}}(), nothing, Dict{String, MeshCat.SceneTrees.SceneNode}()), \"11\" => MeshCat.SceneTrees.SceneNode(UInt8[0x83, 0xa6, 0x6f, 0x62, 0x6a, 0x65, 0x63, 0x74, 0x84, 0xaa  …  0x65, 0x67, 0x6d, 0x65, 0x6e, 0x74, 0x73, 0x2f, 0x31, 0x31], nothing, Dict{String, Vector{UInt8}}(), nothing, Dict{String, MeshCat.SceneTrees.SceneNode}()), \"5\" => MeshCat.SceneTrees.SceneNode(UInt8[0x83, 0xa6, 0x6f, 0x62, 0x6a, 0x65, 0x63, 0x74, 0x84, 0xaa  …  0x73, 0x65, 0x67, 0x6d, 0x65, 0x6e, 0x74, 0x73, 0x2f, 0x35], nothing, Dict{String, Vector{UInt8}}(), nothing, Dict{String, MeshCat.SceneTrees.SceneNode}()), \"7\" => MeshCat.SceneTrees.SceneNode(UInt8[0x83, 0xa6, 0x6f, 0x62, 0x6a, 0x65, 0x63, 0x74, 0x84, 0xaa  …  0x73, 0x65, 0x67, 0x6d, 0x65, 0x6e, 0x74, 0x73, 0x2f, 0x37], nothing, Dict{String, Vector{UInt8}}(), nothing, Dict{String, MeshCat.SceneTrees.SceneNode}()), \"8\" => MeshCat.SceneTrees.SceneNode(UInt8[0x83, 0xa6, 0x6f, 0x62, 0x6a, 0x65, 0x63, 0x74, 0x84, 0xaa  …  0x73, 0x65, 0x67, 0x6d, 0x65, 0x6e, 0x74, 0x73, 0x2f, 0x38], nothing, Dict{String, Vector{UInt8}}(), nothing, Dict{String, MeshCat.SceneTrees.SceneNode}()), \"10\" => MeshCat.SceneTrees.SceneNode(UInt8[0x83, 0xa6, 0x6f, 0x62, 0x6a, 0x65, 0x63, 0x74, 0x84, 0xaa  …  0x65, 0x67, 0x6d, 0x65, 0x6e, 0x74, 0x73, 0x2f, 0x31, 0x30], nothing, Dict{String, Vector{UInt8}}(), nothing, Dict{String, MeshCat.SceneTrees.SceneNode}())…)))), \"Axes\" => MeshCat.SceneTrees.SceneNode(nothing, nothing, Dict{String, Vector{UInt8}}(), nothing, Dict{String, MeshCat.SceneTrees.SceneNode}(\"<object>\" => MeshCat.SceneTrees.SceneNode(UInt8[0x83, 0xa6, 0x6f, 0x62, 0x6a, 0x65, 0x63, 0x74, 0x84, 0xaa  …  0x73, 0x2f, 0x3c, 0x6f, 0x62, 0x6a, 0x65, 0x63, 0x74, 0x3e], UInt8[0x83, 0xa6, 0x6d, 0x61, 0x74, 0x72, 0x69, 0x78, 0xc7, 0x40  …  0x73, 0x2f, 0x3c, 0x6f, 0x62, 0x6a, 0x65, 0x63, 0x74, 0x3e], Dict{String, Vector{UInt8}}(), nothing, Dict{String, MeshCat.SceneTrees.SceneNode}()))))), Set{HTTP.WebSockets.WebSocket}(), ip\"127.0.0.1\", 8700))"
      ]
     },
     "execution_count": 7,
     "metadata": {},
     "output_type": "execute_result"
    }
   ],
   "source": [
    "draw_frame(model, frame=4)"
   ]
  },
  {
   "cell_type": "markdown",
   "metadata": {},
   "source": [
    "If one wants to see the animation of the model run, it can be done as "
   ]
  },
  {
   "cell_type": "code",
   "execution_count": 9,
   "metadata": {},
   "outputs": [
    {
     "name": "stderr",
     "output_type": "stream",
     "text": [
      "\u001b[36m\u001b[1m[ \u001b[22m\u001b[39m\u001b[36m\u001b[1mInfo: \u001b[22m\u001b[39mListening on: 127.0.0.1:8702, thread id: 1\n",
      "\u001b[36m\u001b[1m┌ \u001b[22m\u001b[39m\u001b[36m\u001b[1mInfo: \u001b[22m\u001b[39mMeshCat server started. You can open the visualizer by visiting the following URL in your browser:\n",
      "\u001b[36m\u001b[1m└ \u001b[22m\u001b[39mhttp://127.0.0.1:8702\n"
     ]
    },
    {
     "data": {
      "application/vnd.webio.node+json": {
       "children": [
        {
         "children": [
          {
           "children": [
            {
             "children": [
              {
               "children": [
                {
                 "children": [
                  {
                   "children": [
                    {
                     "children": [
                      "time"
                     ],
                     "instanceArgs": {
                      "namespace": "html",
                      "tag": "label"
                     },
                     "nodeType": "DOM",
                     "props": {
                      "className": "interact ",
                      "style": {
                       "padding": "5px 10px 0px 10px"
                      }
                     },
                     "type": "node"
                    }
                   ],
                   "instanceArgs": {
                    "namespace": "html",
                    "tag": "div"
                   },
                   "nodeType": "DOM",
                   "props": {
                    "className": "interact-flex-row-left"
                   },
                   "type": "node"
                  },
                  {
                   "children": [
                    {
                     "children": [],
                     "instanceArgs": {
                      "namespace": "html",
                      "tag": "input"
                     },
                     "nodeType": "DOM",
                     "props": {
                      "attributes": {
                       "data-bind": "numericValue: index, valueUpdate: 'input', event: {change: function (){this.changes(this.changes()+1)}}",
                       "orient": "horizontal",
                       "type": "range"
                      },
                      "className": "slider slider is-fullwidth",
                      "max": 20,
                      "min": 1,
                      "step": 1,
                      "style": {}
                     },
                     "type": "node"
                    }
                   ],
                   "instanceArgs": {
                    "namespace": "html",
                    "tag": "div"
                   },
                   "nodeType": "DOM",
                   "props": {
                    "className": "interact-flex-row-center"
                   },
                   "type": "node"
                  },
                  {
                   "children": [
                    {
                     "children": [],
                     "instanceArgs": {
                      "namespace": "html",
                      "tag": "p"
                     },
                     "nodeType": "DOM",
                     "props": {
                      "attributes": {
                       "data-bind": "text: formatted_val"
                      }
                     },
                     "type": "node"
                    }
                   ],
                   "instanceArgs": {
                    "namespace": "html",
                    "tag": "div"
                   },
                   "nodeType": "DOM",
                   "props": {
                    "className": "interact-flex-row-right"
                   },
                   "type": "node"
                  }
                 ],
                 "instanceArgs": {
                  "namespace": "html",
                  "tag": "div"
                 },
                 "nodeType": "DOM",
                 "props": {
                  "className": "interact-flex-row interact-widget"
                 },
                 "type": "node"
                }
               ],
               "instanceArgs": {
                "handlers": {
                 "changes": [
                  "(function (val){return (val!=this.model[\"changes\"]()) ? (this.valueFromJulia[\"changes\"]=true, this.model[\"changes\"](val)) : undefined})"
                 ],
                 "index": [
                  "(function (val){return (val!=this.model[\"index\"]()) ? (this.valueFromJulia[\"index\"]=true, this.model[\"index\"](val)) : undefined})"
                 ]
                },
                "id": "16724062157979820593",
                "imports": {
                 "data": [
                  {
                   "name": "knockout",
                   "type": "js",
                   "url": "/assetserver/727383f2a47bd31570b7da84eee7b022dd6d7c78-knockout.js"
                  },
                  {
                   "name": "knockout_punches",
                   "type": "js",
                   "url": "/assetserver/382b41b3b1bd9f26f75861d360bad7f8beea211f-knockout_punches.js"
                  },
                  {
                   "name": null,
                   "type": "js",
                   "url": "/assetserver/5ab20f1060420992a9b82a65b735dee4d81ef413-all.js"
                  },
                  {
                   "name": null,
                   "type": "css",
                   "url": "/assetserver/1cc0ed62837210b80a182cc3676512f895dab686-style.css"
                  },
                  {
                   "name": null,
                   "type": "css",
                   "url": "/assetserver/2eee816f616df3549d7044d45e744fbf8d42bfa1-bulma_confined.min.css"
                  }
                 ],
                 "type": "async_block"
                },
                "mount_callbacks": [
                 "function () {\n    var handler = (function (ko, koPunches) {\n    ko.punches.enableAll();\n    ko.bindingHandlers.numericValue = {\n        init: function(element, valueAccessor, allBindings, data, context) {\n            var stringified = ko.observable(ko.unwrap(valueAccessor()));\n            stringified.subscribe(function(value) {\n                var val = parseFloat(value);\n                if (!isNaN(val)) {\n                    valueAccessor()(val);\n                }\n            });\n            valueAccessor().subscribe(function(value) {\n                var str = JSON.stringify(value);\n                if ((str == \"0\") && ([\"-0\", \"-0.\"].indexOf(stringified()) >= 0))\n                     return;\n                 if ([\"null\", \"\"].indexOf(str) >= 0)\n                     return;\n                stringified(str);\n            });\n            ko.applyBindingsToNode(\n                element,\n                {\n                    value: stringified,\n                    valueUpdate: allBindings.get('valueUpdate'),\n                },\n                context,\n            );\n        }\n    };\n    var json_data = {\"formatted_vals\":[\"1\",\"2\",\"3\",\"4\",\"5\",\"6\",\"7\",\"8\",\"9\",\"10\",\"11\",\"12\",\"13\",\"14\",\"15\",\"16\",\"17\",\"18\",\"19\",\"20\"],\"changes\":WebIO.getval({\"name\":\"changes\",\"scope\":\"16724062157979820593\",\"id\":\"5904814361389944572\",\"type\":\"observable\"}),\"index\":WebIO.getval({\"name\":\"index\",\"scope\":\"16724062157979820593\",\"id\":\"14556662216660674564\",\"type\":\"observable\"})};\n    var self = this;\n    function AppViewModel() {\n        for (var key in json_data) {\n            var el = json_data[key];\n            this[key] = Array.isArray(el) ? ko.observableArray(el) : ko.observable(el);\n        }\n        \n        [this[\"formatted_val\"]=ko.computed(    function(){\n        return this.formatted_vals()[parseInt(this.index())-(1)];\n    }\n,this)]\n        [this[\"changes\"].subscribe((function (val){!(this.valueFromJulia[\"changes\"]) ? (WebIO.setval({\"name\":\"changes\",\"scope\":\"16724062157979820593\",\"id\":\"5904814361389944572\",\"type\":\"observable\"},val)) : undefined; return this.valueFromJulia[\"changes\"]=false}),self),this[\"index\"].subscribe((function (val){!(this.valueFromJulia[\"index\"]) ? (WebIO.setval({\"name\":\"index\",\"scope\":\"16724062157979820593\",\"id\":\"14556662216660674564\",\"type\":\"observable\"},val)) : undefined; return this.valueFromJulia[\"index\"]=false}),self)]\n        \n    }\n    self.model = new AppViewModel();\n    self.valueFromJulia = {};\n    for (var key in json_data) {\n        self.valueFromJulia[key] = false;\n    }\n    ko.applyBindings(self.model, self.dom);\n}\n);\n    (WebIO.importBlock({\"data\":[{\"name\":\"knockout\",\"type\":\"js\",\"url\":\"/assetserver/727383f2a47bd31570b7da84eee7b022dd6d7c78-knockout.js\"},{\"name\":\"knockout_punches\",\"type\":\"js\",\"url\":\"/assetserver/382b41b3b1bd9f26f75861d360bad7f8beea211f-knockout_punches.js\"}],\"type\":\"async_block\"})).then((imports) => handler.apply(this, imports));\n}\n"
                ],
                "observables": {
                 "changes": {
                  "id": "5904814361389944572",
                  "sync": false,
                  "value": 0
                 },
                 "index": {
                  "id": "14556662216660674564",
                  "sync": true,
                  "value": 10
                 }
                },
                "systemjs_options": null
               },
               "nodeType": "Scope",
               "props": {},
               "type": "node"
              }
             ],
             "instanceArgs": {
              "namespace": "html",
              "tag": "div"
             },
             "nodeType": "DOM",
             "props": {
              "className": "field interact-widget"
             },
             "type": "node"
            },
            {
             "children": [
              {
               "children": [
                {
                 "children": [
                  {
                   "children": [
                    {
                     "children": [
                      "scale"
                     ],
                     "instanceArgs": {
                      "namespace": "html",
                      "tag": "label"
                     },
                     "nodeType": "DOM",
                     "props": {
                      "className": "interact ",
                      "style": {
                       "padding": "5px 10px 0px 10px"
                      }
                     },
                     "type": "node"
                    }
                   ],
                   "instanceArgs": {
                    "namespace": "html",
                    "tag": "div"
                   },
                   "nodeType": "DOM",
                   "props": {
                    "className": "interact-flex-row-left"
                   },
                   "type": "node"
                  },
                  {
                   "children": [
                    {
                     "children": [],
                     "instanceArgs": {
                      "namespace": "html",
                      "tag": "input"
                     },
                     "nodeType": "DOM",
                     "props": {
                      "attributes": {
                       "data-bind": "numericValue: index, valueUpdate: 'input', event: {change: function (){this.changes(this.changes()+1)}}",
                       "orient": "horizontal",
                       "type": "range"
                      },
                      "className": "slider slider is-fullwidth",
                      "max": 20,
                      "min": 1,
                      "step": 1,
                      "style": {}
                     },
                     "type": "node"
                    }
                   ],
                   "instanceArgs": {
                    "namespace": "html",
                    "tag": "div"
                   },
                   "nodeType": "DOM",
                   "props": {
                    "className": "interact-flex-row-center"
                   },
                   "type": "node"
                  },
                  {
                   "children": [
                    {
                     "children": [],
                     "instanceArgs": {
                      "namespace": "html",
                      "tag": "p"
                     },
                     "nodeType": "DOM",
                     "props": {
                      "attributes": {
                       "data-bind": "text: formatted_val"
                      }
                     },
                     "type": "node"
                    }
                   ],
                   "instanceArgs": {
                    "namespace": "html",
                    "tag": "div"
                   },
                   "nodeType": "DOM",
                   "props": {
                    "className": "interact-flex-row-right"
                   },
                   "type": "node"
                  }
                 ],
                 "instanceArgs": {
                  "namespace": "html",
                  "tag": "div"
                 },
                 "nodeType": "DOM",
                 "props": {
                  "className": "interact-flex-row interact-widget"
                 },
                 "type": "node"
                }
               ],
               "instanceArgs": {
                "handlers": {
                 "changes": [
                  "(function (val){return (val!=this.model[\"changes\"]()) ? (this.valueFromJulia[\"changes\"]=true, this.model[\"changes\"](val)) : undefined})"
                 ],
                 "index": [
                  "(function (val){return (val!=this.model[\"index\"]()) ? (this.valueFromJulia[\"index\"]=true, this.model[\"index\"](val)) : undefined})"
                 ]
                },
                "id": "14347321186204569265",
                "imports": {
                 "data": [
                  {
                   "name": "knockout",
                   "type": "js",
                   "url": "/assetserver/727383f2a47bd31570b7da84eee7b022dd6d7c78-knockout.js"
                  },
                  {
                   "name": "knockout_punches",
                   "type": "js",
                   "url": "/assetserver/382b41b3b1bd9f26f75861d360bad7f8beea211f-knockout_punches.js"
                  },
                  {
                   "name": null,
                   "type": "js",
                   "url": "/assetserver/5ab20f1060420992a9b82a65b735dee4d81ef413-all.js"
                  },
                  {
                   "name": null,
                   "type": "css",
                   "url": "/assetserver/1cc0ed62837210b80a182cc3676512f895dab686-style.css"
                  },
                  {
                   "name": null,
                   "type": "css",
                   "url": "/assetserver/2eee816f616df3549d7044d45e744fbf8d42bfa1-bulma_confined.min.css"
                  }
                 ],
                 "type": "async_block"
                },
                "mount_callbacks": [
                 "function () {\n    var handler = (function (ko, koPunches) {\n    ko.punches.enableAll();\n    ko.bindingHandlers.numericValue = {\n        init: function(element, valueAccessor, allBindings, data, context) {\n            var stringified = ko.observable(ko.unwrap(valueAccessor()));\n            stringified.subscribe(function(value) {\n                var val = parseFloat(value);\n                if (!isNaN(val)) {\n                    valueAccessor()(val);\n                }\n            });\n            valueAccessor().subscribe(function(value) {\n                var str = JSON.stringify(value);\n                if ((str == \"0\") && ([\"-0\", \"-0.\"].indexOf(stringified()) >= 0))\n                     return;\n                 if ([\"null\", \"\"].indexOf(str) >= 0)\n                     return;\n                stringified(str);\n            });\n            ko.applyBindingsToNode(\n                element,\n                {\n                    value: stringified,\n                    valueUpdate: allBindings.get('valueUpdate'),\n                },\n                context,\n            );\n        }\n    };\n    var json_data = {\"formatted_vals\":[\"0.1\",\"0.2\",\"0.3\",\"0.4\",\"0.5\",\"0.6\",\"0.7\",\"0.8\",\"0.9\",\"1.0\",\"1.1\",\"1.2\",\"1.3\",\"1.4\",\"1.5\",\"1.6\",\"1.7\",\"1.8\",\"1.9\",\"2.0\"],\"changes\":WebIO.getval({\"name\":\"changes\",\"scope\":\"14347321186204569265\",\"id\":\"17947071698463490899\",\"type\":\"observable\"}),\"index\":WebIO.getval({\"name\":\"index\",\"scope\":\"14347321186204569265\",\"id\":\"12694988147849819909\",\"type\":\"observable\"})};\n    var self = this;\n    function AppViewModel() {\n        for (var key in json_data) {\n            var el = json_data[key];\n            this[key] = Array.isArray(el) ? ko.observableArray(el) : ko.observable(el);\n        }\n        \n        [this[\"formatted_val\"]=ko.computed(    function(){\n        return this.formatted_vals()[parseInt(this.index())-(1)];\n    }\n,this)]\n        [this[\"changes\"].subscribe((function (val){!(this.valueFromJulia[\"changes\"]) ? (WebIO.setval({\"name\":\"changes\",\"scope\":\"14347321186204569265\",\"id\":\"17947071698463490899\",\"type\":\"observable\"},val)) : undefined; return this.valueFromJulia[\"changes\"]=false}),self),this[\"index\"].subscribe((function (val){!(this.valueFromJulia[\"index\"]) ? (WebIO.setval({\"name\":\"index\",\"scope\":\"14347321186204569265\",\"id\":\"12694988147849819909\",\"type\":\"observable\"},val)) : undefined; return this.valueFromJulia[\"index\"]=false}),self)]\n        \n    }\n    self.model = new AppViewModel();\n    self.valueFromJulia = {};\n    for (var key in json_data) {\n        self.valueFromJulia[key] = false;\n    }\n    ko.applyBindings(self.model, self.dom);\n}\n);\n    (WebIO.importBlock({\"data\":[{\"name\":\"knockout\",\"type\":\"js\",\"url\":\"/assetserver/727383f2a47bd31570b7da84eee7b022dd6d7c78-knockout.js\"},{\"name\":\"knockout_punches\",\"type\":\"js\",\"url\":\"/assetserver/382b41b3b1bd9f26f75861d360bad7f8beea211f-knockout_punches.js\"}],\"type\":\"async_block\"})).then((imports) => handler.apply(this, imports));\n}\n"
                ],
                "observables": {
                 "changes": {
                  "id": "17947071698463490899",
                  "sync": false,
                  "value": 0
                 },
                 "index": {
                  "id": "12694988147849819909",
                  "sync": true,
                  "value": 10
                 }
                },
                "systemjs_options": null
               },
               "nodeType": "Scope",
               "props": {},
               "type": "node"
              }
             ],
             "instanceArgs": {
              "namespace": "html",
              "tag": "div"
             },
             "nodeType": "DOM",
             "props": {
              "className": "field interact-widget"
             },
             "type": "node"
            },
            {
             "children": [
              {
               "children": [
                {
                 "children": [
                  {
                   "children": [],
                   "instanceArgs": {
                    "namespace": "html",
                    "tag": "div"
                   },
                   "nodeType": "DOM",
                   "props": {
                    "id": "container"
                   },
                   "type": "node"
                  }
                 ],
                 "instanceArgs": {
                  "handlers": {
                   "value": [
                    "(function (txt){return this.k.render(txt,this.container)})"
                   ]
                  },
                  "id": "11470368885768925194",
                  "imports": {
                   "data": [
                    {
                     "name": null,
                     "type": "js",
                     "url": "/assetserver/dd22ed1bf1896c2748f3fe616ce0b838adc895c1-katex.min.js"
                    },
                    {
                     "name": null,
                     "type": "css",
                     "url": "/assetserver/46517a424aa5e6cffc1360d7e0848b601c584ee3-katex.min.css"
                    }
                   ],
                   "type": "async_block"
                  },
                  "mount_callbacks": [
                   "function () {\n    var handler = ((function (k){this.k=k; this.container=this.dom.querySelector(\"#container\"); return k.render(\"\\\\;\\\\;\",this.container)}));\n    (WebIO.importBlock({\"data\":[{\"name\":null,\"type\":\"js\",\"url\":\"/assetserver/dd22ed1bf1896c2748f3fe616ce0b838adc895c1-katex.min.js\"},{\"name\":null,\"type\":\"css\",\"url\":\"/assetserver/46517a424aa5e6cffc1360d7e0848b601c584ee3-katex.min.css\"}],\"type\":\"async_block\"})).then((imports) => handler.apply(this, imports));\n}\n"
                  ],
                  "observables": {
                   "value": {
                    "id": "2565267694883542733",
                    "sync": false,
                    "value": "\\;\\;"
                   }
                  },
                  "systemjs_options": null
                 },
                 "nodeType": "Scope",
                 "props": {},
                 "type": "node"
                }
               ],
               "instanceArgs": {
                "namespace": "html",
                "tag": "div"
               },
               "nodeType": "DOM",
               "props": {
                "className": "interact-widget"
               },
               "type": "node"
              },
              {
               "children": [
                {
                 "children": [
                  {
                   "children": [
                    "run"
                   ],
                   "instanceArgs": {
                    "namespace": "html",
                    "tag": "button"
                   },
                   "nodeType": "DOM",
                   "props": {
                    "attributes": {
                     "data-bind": "click: function (){this.clicks(this.clicks()+1)}, css: {'is-loading' : loading}"
                    },
                    "className": "is-medium button is-primary",
                    "style": {}
                   },
                   "type": "node"
                  }
                 ],
                 "instanceArgs": {
                  "handlers": {
                   "clicks": [
                    "(function (val){return (val!=this.model[\"clicks\"]()) ? (this.valueFromJulia[\"clicks\"]=true, this.model[\"clicks\"](val)) : undefined})"
                   ],
                   "loading": [
                    "(function (val){return (val!=this.model[\"loading\"]()) ? (this.valueFromJulia[\"loading\"]=true, this.model[\"loading\"](val)) : undefined})"
                   ]
                  },
                  "id": "15382399012593077288",
                  "imports": {
                   "data": [
                    {
                     "name": "knockout",
                     "type": "js",
                     "url": "/assetserver/727383f2a47bd31570b7da84eee7b022dd6d7c78-knockout.js"
                    },
                    {
                     "name": "knockout_punches",
                     "type": "js",
                     "url": "/assetserver/382b41b3b1bd9f26f75861d360bad7f8beea211f-knockout_punches.js"
                    },
                    {
                     "name": null,
                     "type": "js",
                     "url": "/assetserver/5ab20f1060420992a9b82a65b735dee4d81ef413-all.js"
                    },
                    {
                     "name": null,
                     "type": "css",
                     "url": "/assetserver/1cc0ed62837210b80a182cc3676512f895dab686-style.css"
                    },
                    {
                     "name": null,
                     "type": "css",
                     "url": "/assetserver/2eee816f616df3549d7044d45e744fbf8d42bfa1-bulma_confined.min.css"
                    }
                   ],
                   "type": "async_block"
                  },
                  "mount_callbacks": [
                   "function () {\n    var handler = (function (ko, koPunches) {\n    ko.punches.enableAll();\n    ko.bindingHandlers.numericValue = {\n        init: function(element, valueAccessor, allBindings, data, context) {\n            var stringified = ko.observable(ko.unwrap(valueAccessor()));\n            stringified.subscribe(function(value) {\n                var val = parseFloat(value);\n                if (!isNaN(val)) {\n                    valueAccessor()(val);\n                }\n            });\n            valueAccessor().subscribe(function(value) {\n                var str = JSON.stringify(value);\n                if ((str == \"0\") && ([\"-0\", \"-0.\"].indexOf(stringified()) >= 0))\n                     return;\n                 if ([\"null\", \"\"].indexOf(str) >= 0)\n                     return;\n                stringified(str);\n            });\n            ko.applyBindingsToNode(\n                element,\n                {\n                    value: stringified,\n                    valueUpdate: allBindings.get('valueUpdate'),\n                },\n                context,\n            );\n        }\n    };\n    var json_data = {\"loading\":WebIO.getval({\"name\":\"loading\",\"scope\":\"15382399012593077288\",\"id\":\"15311643199540400389\",\"type\":\"observable\"}),\"clicks\":WebIO.getval({\"name\":\"clicks\",\"scope\":\"15382399012593077288\",\"id\":\"6942373399207477761\",\"type\":\"observable\"})};\n    var self = this;\n    function AppViewModel() {\n        for (var key in json_data) {\n            var el = json_data[key];\n            this[key] = Array.isArray(el) ? ko.observableArray(el) : ko.observable(el);\n        }\n        \n        \n        [this[\"loading\"].subscribe((function (val){!(this.valueFromJulia[\"loading\"]) ? (WebIO.setval({\"name\":\"loading\",\"scope\":\"15382399012593077288\",\"id\":\"15311643199540400389\",\"type\":\"observable\"},val)) : undefined; return this.valueFromJulia[\"loading\"]=false}),self),this[\"clicks\"].subscribe((function (val){!(this.valueFromJulia[\"clicks\"]) ? (WebIO.setval({\"name\":\"clicks\",\"scope\":\"15382399012593077288\",\"id\":\"6942373399207477761\",\"type\":\"observable\"},val)) : undefined; return this.valueFromJulia[\"clicks\"]=false}),self)]\n        \n    }\n    self.model = new AppViewModel();\n    self.valueFromJulia = {};\n    for (var key in json_data) {\n        self.valueFromJulia[key] = false;\n    }\n    ko.applyBindings(self.model, self.dom);\n}\n);\n    (WebIO.importBlock({\"data\":[{\"name\":\"knockout\",\"type\":\"js\",\"url\":\"/assetserver/727383f2a47bd31570b7da84eee7b022dd6d7c78-knockout.js\"},{\"name\":\"knockout_punches\",\"type\":\"js\",\"url\":\"/assetserver/382b41b3b1bd9f26f75861d360bad7f8beea211f-knockout_punches.js\"}],\"type\":\"async_block\"})).then((imports) => handler.apply(this, imports));\n}\n"
                  ],
                  "observables": {
                   "clicks": {
                    "id": "6942373399207477761",
                    "sync": true,
                    "value": 0
                   },
                   "loading": {
                    "id": "15311643199540400389",
                    "sync": false,
                    "value": false
                   }
                  },
                  "systemjs_options": null
                 },
                 "nodeType": "Scope",
                 "props": {},
                 "type": "node"
                }
               ],
               "instanceArgs": {
                "namespace": "html",
                "tag": "div"
               },
               "nodeType": "DOM",
               "props": {
                "className": "field interact-widget"
               },
               "type": "node"
              },
              {
               "children": [
                {
                 "children": [
                  {
                   "children": [],
                   "instanceArgs": {
                    "namespace": "html",
                    "tag": "div"
                   },
                   "nodeType": "DOM",
                   "props": {
                    "id": "container"
                   },
                   "type": "node"
                  }
                 ],
                 "instanceArgs": {
                  "handlers": {
                   "value": [
                    "(function (txt){return this.k.render(txt,this.container)})"
                   ]
                  },
                  "id": "11470368885768925194",
                  "imports": {
                   "data": [
                    {
                     "name": null,
                     "type": "js",
                     "url": "/assetserver/dd22ed1bf1896c2748f3fe616ce0b838adc895c1-katex.min.js"
                    },
                    {
                     "name": null,
                     "type": "css",
                     "url": "/assetserver/46517a424aa5e6cffc1360d7e0848b601c584ee3-katex.min.css"
                    }
                   ],
                   "type": "async_block"
                  },
                  "mount_callbacks": [
                   "function () {\n    var handler = ((function (k){this.k=k; this.container=this.dom.querySelector(\"#container\"); return k.render(\"\\\\;\\\\;\",this.container)}));\n    (WebIO.importBlock({\"data\":[{\"name\":null,\"type\":\"js\",\"url\":\"/assetserver/dd22ed1bf1896c2748f3fe616ce0b838adc895c1-katex.min.js\"},{\"name\":null,\"type\":\"css\",\"url\":\"/assetserver/46517a424aa5e6cffc1360d7e0848b601c584ee3-katex.min.css\"}],\"type\":\"async_block\"})).then((imports) => handler.apply(this, imports));\n}\n"
                  ],
                  "observables": {
                   "value": {
                    "id": "2565267694883542733",
                    "sync": false,
                    "value": "\\;\\;"
                   }
                  },
                  "systemjs_options": null
                 },
                 "nodeType": "Scope",
                 "props": {},
                 "type": "node"
                }
               ],
               "instanceArgs": {
                "namespace": "html",
                "tag": "div"
               },
               "nodeType": "DOM",
               "props": {
                "className": "interact-widget"
               },
               "type": "node"
              },
              {
               "children": [
                {
                 "children": [
                  {
                   "children": [
                    "stop"
                   ],
                   "instanceArgs": {
                    "namespace": "html",
                    "tag": "button"
                   },
                   "nodeType": "DOM",
                   "props": {
                    "attributes": {
                     "data-bind": "click: function (){this.clicks(this.clicks()+1)}, css: {'is-loading' : loading}"
                    },
                    "className": "is-medium button is-primary",
                    "style": {}
                   },
                   "type": "node"
                  }
                 ],
                 "instanceArgs": {
                  "handlers": {
                   "clicks": [
                    "(function (val){return (val!=this.model[\"clicks\"]()) ? (this.valueFromJulia[\"clicks\"]=true, this.model[\"clicks\"](val)) : undefined})"
                   ],
                   "loading": [
                    "(function (val){return (val!=this.model[\"loading\"]()) ? (this.valueFromJulia[\"loading\"]=true, this.model[\"loading\"](val)) : undefined})"
                   ]
                  },
                  "id": "8906695182922668680",
                  "imports": {
                   "data": [
                    {
                     "name": "knockout",
                     "type": "js",
                     "url": "/assetserver/727383f2a47bd31570b7da84eee7b022dd6d7c78-knockout.js"
                    },
                    {
                     "name": "knockout_punches",
                     "type": "js",
                     "url": "/assetserver/382b41b3b1bd9f26f75861d360bad7f8beea211f-knockout_punches.js"
                    },
                    {
                     "name": null,
                     "type": "js",
                     "url": "/assetserver/5ab20f1060420992a9b82a65b735dee4d81ef413-all.js"
                    },
                    {
                     "name": null,
                     "type": "css",
                     "url": "/assetserver/1cc0ed62837210b80a182cc3676512f895dab686-style.css"
                    },
                    {
                     "name": null,
                     "type": "css",
                     "url": "/assetserver/2eee816f616df3549d7044d45e744fbf8d42bfa1-bulma_confined.min.css"
                    }
                   ],
                   "type": "async_block"
                  },
                  "mount_callbacks": [
                   "function () {\n    var handler = (function (ko, koPunches) {\n    ko.punches.enableAll();\n    ko.bindingHandlers.numericValue = {\n        init: function(element, valueAccessor, allBindings, data, context) {\n            var stringified = ko.observable(ko.unwrap(valueAccessor()));\n            stringified.subscribe(function(value) {\n                var val = parseFloat(value);\n                if (!isNaN(val)) {\n                    valueAccessor()(val);\n                }\n            });\n            valueAccessor().subscribe(function(value) {\n                var str = JSON.stringify(value);\n                if ((str == \"0\") && ([\"-0\", \"-0.\"].indexOf(stringified()) >= 0))\n                     return;\n                 if ([\"null\", \"\"].indexOf(str) >= 0)\n                     return;\n                stringified(str);\n            });\n            ko.applyBindingsToNode(\n                element,\n                {\n                    value: stringified,\n                    valueUpdate: allBindings.get('valueUpdate'),\n                },\n                context,\n            );\n        }\n    };\n    var json_data = {\"loading\":WebIO.getval({\"name\":\"loading\",\"scope\":\"8906695182922668680\",\"id\":\"15081707701396464549\",\"type\":\"observable\"}),\"clicks\":WebIO.getval({\"name\":\"clicks\",\"scope\":\"8906695182922668680\",\"id\":\"9020066224042481588\",\"type\":\"observable\"})};\n    var self = this;\n    function AppViewModel() {\n        for (var key in json_data) {\n            var el = json_data[key];\n            this[key] = Array.isArray(el) ? ko.observableArray(el) : ko.observable(el);\n        }\n        \n        \n        [this[\"loading\"].subscribe((function (val){!(this.valueFromJulia[\"loading\"]) ? (WebIO.setval({\"name\":\"loading\",\"scope\":\"8906695182922668680\",\"id\":\"15081707701396464549\",\"type\":\"observable\"},val)) : undefined; return this.valueFromJulia[\"loading\"]=false}),self),this[\"clicks\"].subscribe((function (val){!(this.valueFromJulia[\"clicks\"]) ? (WebIO.setval({\"name\":\"clicks\",\"scope\":\"8906695182922668680\",\"id\":\"9020066224042481588\",\"type\":\"observable\"},val)) : undefined; return this.valueFromJulia[\"clicks\"]=false}),self)]\n        \n    }\n    self.model = new AppViewModel();\n    self.valueFromJulia = {};\n    for (var key in json_data) {\n        self.valueFromJulia[key] = false;\n    }\n    ko.applyBindings(self.model, self.dom);\n}\n);\n    (WebIO.importBlock({\"data\":[{\"name\":\"knockout\",\"type\":\"js\",\"url\":\"/assetserver/727383f2a47bd31570b7da84eee7b022dd6d7c78-knockout.js\"},{\"name\":\"knockout_punches\",\"type\":\"js\",\"url\":\"/assetserver/382b41b3b1bd9f26f75861d360bad7f8beea211f-knockout_punches.js\"}],\"type\":\"async_block\"})).then((imports) => handler.apply(this, imports));\n}\n"
                  ],
                  "observables": {
                   "clicks": {
                    "id": "9020066224042481588",
                    "sync": true,
                    "value": 0
                   },
                   "loading": {
                    "id": "15081707701396464549",
                    "sync": false,
                    "value": false
                   }
                  },
                  "systemjs_options": null
                 },
                 "nodeType": "Scope",
                 "props": {},
                 "type": "node"
                }
               ],
               "instanceArgs": {
                "namespace": "html",
                "tag": "div"
               },
               "nodeType": "DOM",
               "props": {
                "className": "field interact-widget"
               },
               "type": "node"
              }
             ],
             "instanceArgs": {
              "namespace": "html",
              "tag": "div"
             },
             "nodeType": "DOM",
             "props": {
              "style": {
               "display": "flex",
               "flex-direction": "row"
              }
             },
             "type": "node"
            }
           ],
           "instanceArgs": {
            "namespace": "html",
            "tag": "div"
           },
           "nodeType": "DOM",
           "props": {
            "style": {
             "display": "flex",
             "flex-direction": "column"
            }
           },
           "type": "node"
          },
          {
           "children": [
            {
             "children": [],
             "instanceArgs": {
              "namespace": "html",
              "tag": "div"
             },
             "nodeType": "DOM",
             "props": {
              "className": "webio-observable",
              "setInnerHtml": "    <div style=\"height: 500px; width: 100%; overflow-x: auto; overflow-y: hidden; resize: both\">\n    <iframe src=\"http://127.0.0.1:8702\" style=\"width: 100%; height: 100%; border: none\"></iframe>\n    </div>\n"
             },
             "type": "node"
            }
           ],
           "instanceArgs": {
            "handlers": {
             "obs-output": [
              "function (value, scope) {\n    scope.setInnerHTML(value);\n}\n"
             ]
            },
            "id": "7004050559815660999",
            "imports": {
             "data": [],
             "type": "async_block"
            },
            "mount_callbacks": [],
            "observables": {
             "obs-output": {
              "id": "4477347405655509152",
              "sync": false,
              "value": "    <div style=\"height: 500px; width: 100%; overflow-x: auto; overflow-y: hidden; resize: both\">\n    <iframe src=\"http://127.0.0.1:8702\" style=\"width: 100%; height: 100%; border: none\"></iframe>\n    </div>\n"
             }
            },
            "systemjs_options": null
           },
           "nodeType": "Scope",
           "props": {},
           "type": "node"
          },
          {
           "children": [
            {
             "children": [
              {
               "children": [],
               "instanceArgs": {
                "namespace": "html",
                "tag": "div"
               },
               "nodeType": "DOM",
               "props": {
                "id": "container"
               },
               "type": "node"
              }
             ],
             "instanceArgs": {
              "handlers": {
               "value": [
                "(function (txt){return this.k.render(txt,this.container)})"
               ]
              },
              "id": "11470368885768925194",
              "imports": {
               "data": [
                {
                 "name": null,
                 "type": "js",
                 "url": "/assetserver/dd22ed1bf1896c2748f3fe616ce0b838adc895c1-katex.min.js"
                },
                {
                 "name": null,
                 "type": "css",
                 "url": "/assetserver/46517a424aa5e6cffc1360d7e0848b601c584ee3-katex.min.css"
                }
               ],
               "type": "async_block"
              },
              "mount_callbacks": [
               "function () {\n    var handler = ((function (k){this.k=k; this.container=this.dom.querySelector(\"#container\"); return k.render(\"\\\\;\\\\;\",this.container)}));\n    (WebIO.importBlock({\"data\":[{\"name\":null,\"type\":\"js\",\"url\":\"/assetserver/dd22ed1bf1896c2748f3fe616ce0b838adc895c1-katex.min.js\"},{\"name\":null,\"type\":\"css\",\"url\":\"/assetserver/46517a424aa5e6cffc1360d7e0848b601c584ee3-katex.min.css\"}],\"type\":\"async_block\"})).then((imports) => handler.apply(this, imports));\n}\n"
              ],
              "observables": {
               "value": {
                "id": "2565267694883542733",
                "sync": false,
                "value": "\\;\\;"
               }
              },
              "systemjs_options": null
             },
             "nodeType": "Scope",
             "props": {},
             "type": "node"
            }
           ],
           "instanceArgs": {
            "namespace": "html",
            "tag": "div"
           },
           "nodeType": "DOM",
           "props": {
            "className": "interact-widget"
           },
           "type": "node"
          },
          {
           "children": [
            {
             "children": [
              {
               "children": [],
               "instanceArgs": {
                "namespace": "html",
                "tag": "div"
               },
               "nodeType": "DOM",
               "props": {
                "className": "webio-observable",
                "setInnerHtml": "<?xml version=\"1.0\" encoding=\"utf-8\"?>\n<svg xmlns=\"http://www.w3.org/2000/svg\" xmlns:xlink=\"http://www.w3.org/1999/xlink\" width=\"300\" height=\"150\" viewBox=\"0 0 1200 600\">\n<defs>\n  <clipPath id=\"clip390\">\n    <rect x=\"0\" y=\"0\" width=\"1200\" height=\"600\"/>\n  </clipPath>\n</defs>\n<path clip-path=\"url(#clip390)\" d=\"M0 600 L1200 600 L1200 0 L0 0  Z\" fill=\"#ffffff\" fill-rule=\"evenodd\" fill-opacity=\"1\"/>\n<defs>\n  <clipPath id=\"clip391\">\n    <rect x=\"240\" y=\"0\" width=\"841\" height=\"600\"/>\n  </clipPath>\n</defs>\n<path clip-path=\"url(#clip390)\" d=\"M144.598 453.7 L876.715 453.7 L876.715 47.2441 L144.598 47.2441  Z\" fill=\"#ffffff\" fill-rule=\"evenodd\" fill-opacity=\"1\"/>\n<defs>\n  <clipPath id=\"clip392\">\n    <rect x=\"144\" y=\"47\" width=\"733\" height=\"407\"/>\n  </clipPath>\n</defs>\n<polyline clip-path=\"url(#clip392)\" style=\"stroke:#000000; stroke-linecap:round; stroke-linejoin:round; stroke-width:2; stroke-opacity:0.1; fill:none\" points=\"242.06,453.7 242.06,47.2441 \"/>\n<polyline clip-path=\"url(#clip392)\" style=\"stroke:#000000; stroke-linecap:round; stroke-linejoin:round; stroke-width:2; stroke-opacity:0.1; fill:none\" points=\"395.544,453.7 395.544,47.2441 \"/>\n<polyline clip-path=\"url(#clip392)\" style=\"stroke:#000000; stroke-linecap:round; stroke-linejoin:round; stroke-width:2; stroke-opacity:0.1; fill:none\" points=\"549.028,453.7 549.028,47.2441 \"/>\n<polyline clip-path=\"url(#clip392)\" style=\"stroke:#000000; stroke-linecap:round; stroke-linejoin:round; stroke-width:2; stroke-opacity:0.1; fill:none\" points=\"702.511,453.7 702.511,47.2441 \"/>\n<polyline clip-path=\"url(#clip392)\" style=\"stroke:#000000; stroke-linecap:round; stroke-linejoin:round; stroke-width:2; stroke-opacity:0.1; fill:none\" points=\"855.995,453.7 855.995,47.2441 \"/>\n<polyline clip-path=\"url(#clip390)\" style=\"stroke:#000000; stroke-linecap:round; stroke-linejoin:round; stroke-width:4; stroke-opacity:1; fill:none\" points=\"144.598,453.7 876.715,453.7 \"/>\n<polyline clip-path=\"url(#clip390)\" style=\"stroke:#000000; stroke-linecap:round; stroke-linejoin:round; stroke-width:4; stroke-opacity:1; fill:none\" points=\"242.06,453.7 242.06,434.802 \"/>\n<polyline clip-path=\"url(#clip390)\" style=\"stroke:#000000; stroke-linecap:round; stroke-linejoin:round; stroke-width:4; stroke-opacity:1; fill:none\" points=\"395.544,453.7 395.544,434.802 \"/>\n<polyline clip-path=\"url(#clip390)\" style=\"stroke:#000000; stroke-linecap:round; stroke-linejoin:round; stroke-width:4; stroke-opacity:1; fill:none\" points=\"549.028,453.7 549.028,434.802 \"/>\n<polyline clip-path=\"url(#clip390)\" style=\"stroke:#000000; stroke-linecap:round; stroke-linejoin:round; stroke-width:4; stroke-opacity:1; fill:none\" points=\"702.511,453.7 702.511,434.802 \"/>\n<polyline clip-path=\"url(#clip390)\" style=\"stroke:#000000; stroke-linecap:round; stroke-linejoin:round; stroke-width:4; stroke-opacity:1; fill:none\" points=\"855.995,453.7 855.995,434.802 \"/>\n<path clip-path=\"url(#clip390)\" d=\"M236.713 502.565 L253.033 502.565 L253.033 506.5 L231.088 506.5 L231.088 502.565 Q233.75 499.81 238.334 495.18 Q242.94 490.528 244.121 489.185 Q246.366 486.662 247.246 484.926 Q248.148 483.167 248.148 481.477 Q248.148 478.722 246.204 476.986 Q244.283 475.25 241.181 475.25 Q238.982 475.25 236.528 476.014 Q234.097 476.778 231.32 478.329 L231.32 473.607 Q234.144 472.472 236.597 471.894 Q239.051 471.315 241.088 471.315 Q246.458 471.315 249.653 474 Q252.847 476.685 252.847 481.176 Q252.847 483.306 252.037 485.227 Q251.25 487.125 249.144 489.718 Q248.565 490.389 245.463 493.606 Q242.361 496.801 236.713 502.565 Z\" fill=\"#000000\" fill-rule=\"nonzero\" fill-opacity=\"1\" /><path clip-path=\"url(#clip390)\" d=\"M398.553 476.014 L386.748 494.463 L398.553 494.463 L398.553 476.014 M397.326 471.94 L403.206 471.94 L403.206 494.463 L408.137 494.463 L408.137 498.352 L403.206 498.352 L403.206 506.5 L398.553 506.5 L398.553 498.352 L382.951 498.352 L382.951 493.838 L397.326 471.94 Z\" fill=\"#000000\" fill-rule=\"nonzero\" fill-opacity=\"1\" /><path clip-path=\"url(#clip390)\" d=\"M549.433 487.356 Q546.285 487.356 544.433 489.509 Q542.604 491.662 542.604 495.412 Q542.604 499.139 544.433 501.315 Q546.285 503.467 549.433 503.467 Q552.581 503.467 554.41 501.315 Q556.261 499.139 556.261 495.412 Q556.261 491.662 554.41 489.509 Q552.581 487.356 549.433 487.356 M558.715 472.704 L558.715 476.963 Q556.956 476.13 555.15 475.69 Q553.368 475.25 551.609 475.25 Q546.979 475.25 544.525 478.375 Q542.095 481.5 541.748 487.819 Q543.113 485.806 545.174 484.741 Q547.234 483.653 549.711 483.653 Q554.919 483.653 557.928 486.824 Q560.96 489.972 560.96 495.412 Q560.96 500.736 557.812 503.954 Q554.664 507.171 549.433 507.171 Q543.437 507.171 540.266 502.588 Q537.095 497.981 537.095 489.255 Q537.095 481.06 540.984 476.199 Q544.873 471.315 551.423 471.315 Q553.183 471.315 554.965 471.662 Q556.771 472.009 558.715 472.704 Z\" fill=\"#000000\" fill-rule=\"nonzero\" fill-opacity=\"1\" /><path clip-path=\"url(#clip390)\" d=\"M702.511 490.088 Q699.178 490.088 697.257 491.87 Q695.359 493.653 695.359 496.778 Q695.359 499.903 697.257 501.685 Q699.178 503.467 702.511 503.467 Q705.845 503.467 707.766 501.685 Q709.687 499.88 709.687 496.778 Q709.687 493.653 707.766 491.87 Q705.868 490.088 702.511 490.088 M697.835 488.097 Q694.826 487.356 693.136 485.296 Q691.47 483.236 691.47 480.273 Q691.47 476.13 694.41 473.722 Q697.372 471.315 702.511 471.315 Q707.673 471.315 710.613 473.722 Q713.553 476.13 713.553 480.273 Q713.553 483.236 711.863 485.296 Q710.196 487.356 707.21 488.097 Q710.59 488.884 712.465 491.176 Q714.363 493.468 714.363 496.778 Q714.363 501.801 711.284 504.486 Q708.229 507.171 702.511 507.171 Q696.794 507.171 693.715 504.486 Q690.66 501.801 690.66 496.778 Q690.66 493.468 692.558 491.176 Q694.456 488.884 697.835 488.097 M696.122 480.713 Q696.122 483.398 697.789 484.903 Q699.479 486.407 702.511 486.407 Q705.521 486.407 707.21 484.903 Q708.923 483.398 708.923 480.713 Q708.923 478.028 707.21 476.523 Q705.521 475.019 702.511 475.019 Q699.479 475.019 697.789 476.523 Q696.122 478.028 696.122 480.713 Z\" fill=\"#000000\" fill-rule=\"nonzero\" fill-opacity=\"1\" /><path clip-path=\"url(#clip390)\" d=\"M830.683 502.565 L838.321 502.565 L838.321 476.199 L830.011 477.866 L830.011 473.607 L838.275 471.94 L842.951 471.94 L842.951 502.565 L850.59 502.565 L850.59 506.5 L830.683 506.5 L830.683 502.565 Z\" fill=\"#000000\" fill-rule=\"nonzero\" fill-opacity=\"1\" /><path clip-path=\"url(#clip390)\" d=\"M870.034 475.019 Q866.423 475.019 864.594 478.583 Q862.789 482.125 862.789 489.255 Q862.789 496.361 864.594 499.926 Q866.423 503.467 870.034 503.467 Q873.668 503.467 875.474 499.926 Q877.303 496.361 877.303 489.255 Q877.303 482.125 875.474 478.583 Q873.668 475.019 870.034 475.019 M870.034 471.315 Q875.844 471.315 878.9 475.921 Q881.979 480.505 881.979 489.255 Q881.979 497.981 878.9 502.588 Q875.844 507.171 870.034 507.171 Q864.224 507.171 861.145 502.588 Q858.09 497.981 858.09 489.255 Q858.09 480.505 861.145 475.921 Q864.224 471.315 870.034 471.315 Z\" fill=\"#000000\" fill-rule=\"nonzero\" fill-opacity=\"1\" /><path clip-path=\"url(#clip390)\" d=\"M447.7 534.794 L447.7 544.916 L459.763 544.916 L459.763 549.467 L447.7 549.467 L447.7 568.819 Q447.7 573.18 448.878 574.421 Q450.087 575.662 453.747 575.662 L459.763 575.662 L459.763 580.564 L453.747 580.564 Q446.968 580.564 444.39 578.049 Q441.812 575.503 441.812 568.819 L441.812 549.467 L437.515 549.467 L437.515 544.916 L441.812 544.916 L441.812 534.794 L447.7 534.794 Z\" fill=\"#000000\" fill-rule=\"nonzero\" fill-opacity=\"1\" /><path clip-path=\"url(#clip390)\" d=\"M467.465 544.916 L473.322 544.916 L473.322 580.564 L467.465 580.564 L467.465 544.916 M467.465 531.039 L473.322 531.039 L473.322 538.455 L467.465 538.455 L467.465 531.039 Z\" fill=\"#000000\" fill-rule=\"nonzero\" fill-opacity=\"1\" /><path clip-path=\"url(#clip390)\" d=\"M511.23 546.285 L511.23 551.759 Q508.747 550.39 506.233 549.722 Q503.75 549.022 501.204 549.022 Q495.506 549.022 492.355 552.65 Q489.204 556.247 489.204 562.772 Q489.204 569.297 492.355 572.925 Q495.506 576.522 501.204 576.522 Q503.75 576.522 506.233 575.853 Q508.747 575.153 511.23 573.784 L511.23 579.195 Q508.779 580.341 506.137 580.914 Q503.527 581.487 500.567 581.487 Q492.514 581.487 487.772 576.426 Q483.03 571.365 483.03 562.772 Q483.03 554.051 487.804 549.054 Q492.61 544.057 500.949 544.057 Q503.654 544.057 506.233 544.629 Q508.811 545.171 511.23 546.285 Z\" fill=\"#000000\" fill-rule=\"nonzero\" fill-opacity=\"1\" /><path clip-path=\"url(#clip390)\" d=\"M521.192 531.039 L527.08 531.039 L527.08 560.289 L544.554 544.916 L552.034 544.916 L533.128 561.594 L552.83 580.564 L545.191 580.564 L527.08 563.154 L527.08 580.564 L521.192 580.564 L521.192 531.039 Z\" fill=\"#000000\" fill-rule=\"nonzero\" fill-opacity=\"1\" /><path clip-path=\"url(#clip390)\" d=\"M581.889 545.966 L581.889 551.504 Q579.406 550.231 576.733 549.595 Q574.059 548.958 571.195 548.958 Q566.834 548.958 564.638 550.295 Q562.474 551.632 562.474 554.305 Q562.474 556.342 564.033 557.52 Q565.593 558.666 570.303 559.716 L572.309 560.162 Q578.547 561.499 581.157 563.949 Q583.799 566.368 583.799 570.729 Q583.799 575.694 579.852 578.59 Q575.937 581.487 569.062 581.487 Q566.198 581.487 563.078 580.914 Q559.991 580.373 556.553 579.259 L556.553 573.211 Q559.8 574.898 562.951 575.758 Q566.102 576.585 569.189 576.585 Q573.327 576.585 575.555 575.185 Q577.783 573.753 577.783 571.174 Q577.783 568.787 576.16 567.514 Q574.568 566.241 569.126 565.063 L567.089 564.586 Q561.646 563.44 559.227 561.085 Q556.808 558.698 556.808 554.56 Q556.808 549.531 560.373 546.794 Q563.938 544.057 570.494 544.057 Q573.741 544.057 576.605 544.534 Q579.47 545.011 581.889 545.966 Z\" fill=\"#000000\" fill-rule=\"nonzero\" fill-opacity=\"1\" /><polyline clip-path=\"url(#clip392)\" style=\"stroke:#000000; stroke-linecap:round; stroke-linejoin:round; stroke-width:2; stroke-opacity:0.1; fill:none\" points=\"144.598,392.503 876.715,392.503 \"/>\n<polyline clip-path=\"url(#clip392)\" style=\"stroke:#000000; stroke-linecap:round; stroke-linejoin:round; stroke-width:2; stroke-opacity:0.1; fill:none\" points=\"144.598,326.244 876.715,326.244 \"/>\n<polyline clip-path=\"url(#clip392)\" style=\"stroke:#000000; stroke-linecap:round; stroke-linejoin:round; stroke-width:2; stroke-opacity:0.1; fill:none\" points=\"144.598,259.986 876.715,259.986 \"/>\n<polyline clip-path=\"url(#clip392)\" style=\"stroke:#000000; stroke-linecap:round; stroke-linejoin:round; stroke-width:2; stroke-opacity:0.1; fill:none\" points=\"144.598,193.728 876.715,193.728 \"/>\n<polyline clip-path=\"url(#clip392)\" style=\"stroke:#000000; stroke-linecap:round; stroke-linejoin:round; stroke-width:2; stroke-opacity:0.1; fill:none\" points=\"144.598,127.469 876.715,127.469 \"/>\n<polyline clip-path=\"url(#clip392)\" style=\"stroke:#000000; stroke-linecap:round; stroke-linejoin:round; stroke-width:2; stroke-opacity:0.1; fill:none\" points=\"144.598,61.2112 876.715,61.2112 \"/>\n<polyline clip-path=\"url(#clip390)\" style=\"stroke:#000000; stroke-linecap:round; stroke-linejoin:round; stroke-width:4; stroke-opacity:1; fill:none\" points=\"144.598,453.7 144.598,47.2441 \"/>\n<polyline clip-path=\"url(#clip390)\" style=\"stroke:#000000; stroke-linecap:round; stroke-linejoin:round; stroke-width:4; stroke-opacity:1; fill:none\" points=\"144.598,392.503 158.322,392.503 \"/>\n<polyline clip-path=\"url(#clip390)\" style=\"stroke:#000000; stroke-linecap:round; stroke-linejoin:round; stroke-width:4; stroke-opacity:1; fill:none\" points=\"144.598,326.244 158.322,326.244 \"/>\n<polyline clip-path=\"url(#clip390)\" style=\"stroke:#000000; stroke-linecap:round; stroke-linejoin:round; stroke-width:4; stroke-opacity:1; fill:none\" points=\"144.598,259.986 158.322,259.986 \"/>\n<polyline clip-path=\"url(#clip390)\" style=\"stroke:#000000; stroke-linecap:round; stroke-linejoin:round; stroke-width:4; stroke-opacity:1; fill:none\" points=\"144.598,193.728 158.322,193.728 \"/>\n<polyline clip-path=\"url(#clip390)\" style=\"stroke:#000000; stroke-linecap:round; stroke-linejoin:round; stroke-width:4; stroke-opacity:1; fill:none\" points=\"144.598,127.469 158.322,127.469 \"/>\n<polyline clip-path=\"url(#clip390)\" style=\"stroke:#000000; stroke-linecap:round; stroke-linejoin:round; stroke-width:4; stroke-opacity:1; fill:none\" points=\"144.598,61.2112 158.322,61.2112 \"/>\n<path clip-path=\"url(#clip390)\" d=\"M70.0708 378.301 Q66.4597 378.301 64.631 381.866 Q62.8254 385.408 62.8254 392.537 Q62.8254 399.644 64.631 403.209 Q66.4597 406.75 70.0708 406.75 Q73.705 406.75 75.5105 403.209 Q77.3392 399.644 77.3392 392.537 Q77.3392 385.408 75.5105 381.866 Q73.705 378.301 70.0708 378.301 M70.0708 374.598 Q75.8809 374.598 78.9365 379.204 Q82.0151 383.787 82.0151 392.537 Q82.0151 401.264 78.9365 405.871 Q75.8809 410.454 70.0708 410.454 Q64.2606 410.454 61.1819 405.871 Q58.1264 401.264 58.1264 392.537 Q58.1264 383.787 61.1819 379.204 Q64.2606 374.598 70.0708 374.598 Z\" fill=\"#000000\" fill-rule=\"nonzero\" fill-opacity=\"1\" /><path clip-path=\"url(#clip390)\" d=\"M90.2327 403.903 L95.1169 403.903 L95.1169 409.783 L90.2327 409.783 L90.2327 403.903 Z\" fill=\"#000000\" fill-rule=\"nonzero\" fill-opacity=\"1\" /><path clip-path=\"url(#clip390)\" d=\"M119.469 391.148 Q122.825 391.866 124.7 394.135 Q126.598 396.403 126.598 399.736 Q126.598 404.852 123.08 407.653 Q119.561 410.454 113.08 410.454 Q110.904 410.454 108.589 410.014 Q106.297 409.597 103.844 408.741 L103.844 404.227 Q105.788 405.361 108.103 405.94 Q110.418 406.519 112.941 406.519 Q117.339 406.519 119.631 404.783 Q121.945 403.047 121.945 399.736 Q121.945 396.681 119.793 394.968 Q117.663 393.232 113.844 393.232 L109.816 393.232 L109.816 389.389 L114.029 389.389 Q117.478 389.389 119.307 388.024 Q121.135 386.635 121.135 384.042 Q121.135 381.38 119.237 379.968 Q117.362 378.533 113.844 378.533 Q111.922 378.533 109.723 378.949 Q107.524 379.366 104.885 380.246 L104.885 376.079 Q107.547 375.338 109.862 374.968 Q112.2 374.598 114.26 374.598 Q119.584 374.598 122.686 377.028 Q125.788 379.436 125.788 383.556 Q125.788 386.426 124.145 388.417 Q122.501 390.385 119.469 391.148 Z\" fill=\"#000000\" fill-rule=\"nonzero\" fill-opacity=\"1\" /><path clip-path=\"url(#clip390)\" d=\"M68.9365 312.043 Q65.3254 312.043 63.4967 315.608 Q61.6912 319.149 61.6912 326.279 Q61.6912 333.386 63.4967 336.95 Q65.3254 340.492 68.9365 340.492 Q72.5707 340.492 74.3763 336.95 Q76.205 333.386 76.205 326.279 Q76.205 319.149 74.3763 315.608 Q72.5707 312.043 68.9365 312.043 M68.9365 308.339 Q74.7467 308.339 77.8022 312.946 Q80.8809 317.529 80.8809 326.279 Q80.8809 335.006 77.8022 339.612 Q74.7467 344.196 68.9365 344.196 Q63.1264 344.196 60.0477 339.612 Q56.9921 335.006 56.9921 326.279 Q56.9921 317.529 60.0477 312.946 Q63.1264 308.339 68.9365 308.339 Z\" fill=\"#000000\" fill-rule=\"nonzero\" fill-opacity=\"1\" /><path clip-path=\"url(#clip390)\" d=\"M89.0984 337.645 L93.9827 337.645 L93.9827 343.524 L89.0984 343.524 L89.0984 337.645 Z\" fill=\"#000000\" fill-rule=\"nonzero\" fill-opacity=\"1\" /><path clip-path=\"url(#clip390)\" d=\"M117.015 313.038 L105.209 331.487 L117.015 331.487 L117.015 313.038 M115.788 308.964 L121.668 308.964 L121.668 331.487 L126.598 331.487 L126.598 335.376 L121.668 335.376 L121.668 343.524 L117.015 343.524 L117.015 335.376 L101.413 335.376 L101.413 330.862 L115.788 308.964 Z\" fill=\"#000000\" fill-rule=\"nonzero\" fill-opacity=\"1\" /><path clip-path=\"url(#clip390)\" d=\"M70.418 245.785 Q66.8069 245.785 64.9782 249.35 Q63.1726 252.891 63.1726 260.021 Q63.1726 267.127 64.9782 270.692 Q66.8069 274.234 70.418 274.234 Q74.0522 274.234 75.8578 270.692 Q77.6865 267.127 77.6865 260.021 Q77.6865 252.891 75.8578 249.35 Q74.0522 245.785 70.418 245.785 M70.418 242.081 Q76.2281 242.081 79.2837 246.688 Q82.3624 251.271 82.3624 260.021 Q82.3624 268.748 79.2837 273.354 Q76.2281 277.937 70.418 277.937 Q64.6078 277.937 61.5291 273.354 Q58.4736 268.748 58.4736 260.021 Q58.4736 251.271 61.5291 246.688 Q64.6078 242.081 70.418 242.081 Z\" fill=\"#000000\" fill-rule=\"nonzero\" fill-opacity=\"1\" /><path clip-path=\"url(#clip390)\" d=\"M90.5799 271.386 L95.4641 271.386 L95.4641 277.266 L90.5799 277.266 L90.5799 271.386 Z\" fill=\"#000000\" fill-rule=\"nonzero\" fill-opacity=\"1\" /><path clip-path=\"url(#clip390)\" d=\"M105.696 242.706 L124.052 242.706 L124.052 246.641 L109.978 246.641 L109.978 255.113 Q110.996 254.766 112.015 254.604 Q113.033 254.419 114.052 254.419 Q119.839 254.419 123.219 257.59 Q126.598 260.762 126.598 266.178 Q126.598 271.757 123.126 274.859 Q119.654 277.937 113.334 277.937 Q111.159 277.937 108.89 277.567 Q106.645 277.197 104.237 276.456 L104.237 271.757 Q106.321 272.891 108.543 273.447 Q110.765 274.002 113.242 274.002 Q117.246 274.002 119.584 271.896 Q121.922 269.789 121.922 266.178 Q121.922 262.567 119.584 260.461 Q117.246 258.354 113.242 258.354 Q111.367 258.354 109.492 258.771 Q107.64 259.187 105.696 260.067 L105.696 242.706 Z\" fill=\"#000000\" fill-rule=\"nonzero\" fill-opacity=\"1\" /><path clip-path=\"url(#clip390)\" d=\"M69.2606 179.526 Q65.6495 179.526 63.8208 183.091 Q62.0152 186.633 62.0152 193.762 Q62.0152 200.869 63.8208 204.434 Q65.6495 207.975 69.2606 207.975 Q72.8948 207.975 74.7004 204.434 Q76.5291 200.869 76.5291 193.762 Q76.5291 186.633 74.7004 183.091 Q72.8948 179.526 69.2606 179.526 M69.2606 175.823 Q75.0707 175.823 78.1263 180.429 Q81.205 185.013 81.205 193.762 Q81.205 202.489 78.1263 207.096 Q75.0707 211.679 69.2606 211.679 Q63.4504 211.679 60.3717 207.096 Q57.3162 202.489 57.3162 193.762 Q57.3162 185.013 60.3717 180.429 Q63.4504 175.823 69.2606 175.823 Z\" fill=\"#000000\" fill-rule=\"nonzero\" fill-opacity=\"1\" /><path clip-path=\"url(#clip390)\" d=\"M89.4225 205.128 L94.3067 205.128 L94.3067 211.008 L89.4225 211.008 L89.4225 205.128 Z\" fill=\"#000000\" fill-rule=\"nonzero\" fill-opacity=\"1\" /><path clip-path=\"url(#clip390)\" d=\"M115.071 191.864 Q111.922 191.864 110.071 194.017 Q108.242 196.17 108.242 199.92 Q108.242 203.647 110.071 205.823 Q111.922 207.975 115.071 207.975 Q118.219 207.975 120.047 205.823 Q121.899 203.647 121.899 199.92 Q121.899 196.17 120.047 194.017 Q118.219 191.864 115.071 191.864 M124.353 177.212 L124.353 181.471 Q122.594 180.638 120.788 180.198 Q119.006 179.758 117.246 179.758 Q112.617 179.758 110.163 182.883 Q107.733 186.008 107.385 192.327 Q108.751 190.313 110.811 189.249 Q112.871 188.161 115.348 188.161 Q120.557 188.161 123.566 191.332 Q126.598 194.48 126.598 199.92 Q126.598 205.244 123.45 208.461 Q120.302 211.679 115.071 211.679 Q109.075 211.679 105.904 207.096 Q102.733 202.489 102.733 193.762 Q102.733 185.568 106.621 180.707 Q110.51 175.823 117.061 175.823 Q118.82 175.823 120.603 176.17 Q122.408 176.517 124.353 177.212 Z\" fill=\"#000000\" fill-rule=\"nonzero\" fill-opacity=\"1\" /><path clip-path=\"url(#clip390)\" d=\"M70.3254 113.268 Q66.7143 113.268 64.8856 116.833 Q63.0801 120.375 63.0801 127.504 Q63.0801 134.611 64.8856 138.175 Q66.7143 141.717 70.3254 141.717 Q73.9596 141.717 75.7652 138.175 Q77.5939 134.611 77.5939 127.504 Q77.5939 120.375 75.7652 116.833 Q73.9596 113.268 70.3254 113.268 M70.3254 109.564 Q76.1355 109.564 79.1911 114.171 Q82.2698 118.754 82.2698 127.504 Q82.2698 136.231 79.1911 140.837 Q76.1355 145.421 70.3254 145.421 Q64.5152 145.421 61.4365 140.837 Q58.381 136.231 58.381 127.504 Q58.381 118.754 61.4365 114.171 Q64.5152 109.564 70.3254 109.564 Z\" fill=\"#000000\" fill-rule=\"nonzero\" fill-opacity=\"1\" /><path clip-path=\"url(#clip390)\" d=\"M90.4873 138.87 L95.3715 138.87 L95.3715 144.749 L90.4873 144.749 L90.4873 138.87 Z\" fill=\"#000000\" fill-rule=\"nonzero\" fill-opacity=\"1\" /><path clip-path=\"url(#clip390)\" d=\"M104.376 110.189 L126.598 110.189 L126.598 112.18 L114.052 144.749 L109.168 144.749 L120.973 114.125 L104.376 114.125 L104.376 110.189 Z\" fill=\"#000000\" fill-rule=\"nonzero\" fill-opacity=\"1\" /><path clip-path=\"url(#clip390)\" d=\"M69.5152 47.0099 Q65.9041 47.0099 64.0754 50.5747 Q62.2699 54.1163 62.2699 61.2459 Q62.2699 68.3523 64.0754 71.9171 Q65.9041 75.4588 69.5152 75.4588 Q73.1494 75.4588 74.955 71.9171 Q76.7837 68.3523 76.7837 61.2459 Q76.7837 54.1163 74.955 50.5747 Q73.1494 47.0099 69.5152 47.0099 M69.5152 43.3062 Q75.3254 43.3062 78.3809 47.9126 Q81.4596 52.496 81.4596 61.2459 Q81.4596 69.9727 78.3809 74.5792 Q75.3254 79.1625 69.5152 79.1625 Q63.7051 79.1625 60.6264 74.5792 Q57.5708 69.9727 57.5708 61.2459 Q57.5708 52.496 60.6264 47.9126 Q63.7051 43.3062 69.5152 43.3062 Z\" fill=\"#000000\" fill-rule=\"nonzero\" fill-opacity=\"1\" /><path clip-path=\"url(#clip390)\" d=\"M89.6771 72.6116 L94.5614 72.6116 L94.5614 78.4912 L89.6771 78.4912 L89.6771 72.6116 Z\" fill=\"#000000\" fill-rule=\"nonzero\" fill-opacity=\"1\" /><path clip-path=\"url(#clip390)\" d=\"M114.746 62.0792 Q111.413 62.0792 109.492 63.8616 Q107.594 65.644 107.594 68.769 Q107.594 71.894 109.492 73.6764 Q111.413 75.4588 114.746 75.4588 Q118.08 75.4588 120.001 73.6764 Q121.922 71.8708 121.922 68.769 Q121.922 65.644 120.001 63.8616 Q118.103 62.0792 114.746 62.0792 M110.071 60.0885 Q107.061 59.3478 105.371 57.2876 Q103.705 55.2274 103.705 52.2645 Q103.705 48.121 106.645 45.7136 Q109.608 43.3062 114.746 43.3062 Q119.908 43.3062 122.848 45.7136 Q125.788 48.121 125.788 52.2645 Q125.788 55.2274 124.098 57.2876 Q122.432 59.3478 119.445 60.0885 Q122.825 60.8755 124.7 63.1672 Q126.598 65.4588 126.598 68.769 Q126.598 73.7921 123.52 76.4773 Q120.464 79.1625 114.746 79.1625 Q109.029 79.1625 105.95 76.4773 Q102.895 73.7921 102.895 68.769 Q102.895 65.4588 104.793 63.1672 Q106.691 60.8755 110.071 60.0885 M108.358 52.7043 Q108.358 55.3895 110.024 56.8941 Q111.714 58.3987 114.746 58.3987 Q117.756 58.3987 119.445 56.8941 Q121.158 55.3895 121.158 52.7043 Q121.158 50.0191 119.445 48.5145 Q117.756 47.0099 114.746 47.0099 Q111.714 47.0099 110.024 48.5145 Q108.358 50.0191 108.358 52.7043 Z\" fill=\"#000000\" fill-rule=\"nonzero\" fill-opacity=\"1\" /><polyline clip-path=\"url(#clip392)\" style=\"stroke:#009af9; stroke-linecap:round; stroke-linejoin:round; stroke-width:4; stroke-opacity:1; fill:none\" points=\"165.319,442.196 242.06,428.199 318.802,341.994 395.544,288.556 472.286,212.092 549.028,142.138 625.769,125.224 702.511,108.575 779.253,98.5526 855.995,58.7476 \"/>\n<path clip-path=\"url(#clip390)\" d=\"M910.321 164.473 L1152.76 164.473 L1152.76 60.7926 L910.321 60.7926  Z\" fill=\"#ffffff\" fill-rule=\"evenodd\" fill-opacity=\"1\"/>\n<polyline clip-path=\"url(#clip390)\" style=\"stroke:#000000; stroke-linecap:round; stroke-linejoin:round; stroke-width:4; stroke-opacity:1; fill:none\" points=\"910.321,164.473 1152.76,164.473 1152.76,60.7926 910.321,60.7926 910.321,164.473 \"/>\n<polyline clip-path=\"url(#clip390)\" style=\"stroke:#009af9; stroke-linecap:round; stroke-linejoin:round; stroke-width:4; stroke-opacity:1; fill:none\" points=\"921.522,112.633 988.733,112.633 \"/>\n<path clip-path=\"url(#clip390)\" d=\"M1021.65 114.265 L1021.65 129.913 L1017.39 129.913 L1017.39 114.403 Q1017.39 110.723 1015.95 108.894 Q1014.52 107.066 1011.65 107.066 Q1008.2 107.066 1006.21 109.265 Q1004.22 111.464 1004.22 115.26 L1004.22 129.913 L999.935 129.913 L999.935 93.8943 L1004.22 93.8943 L1004.22 108.015 Q1005.74 105.677 1007.8 104.519 Q1009.89 103.362 1012.6 103.362 Q1017.06 103.362 1019.36 106.14 Q1021.65 108.894 1021.65 114.265 Z\" fill=\"#000000\" fill-rule=\"nonzero\" fill-opacity=\"1\" /><path clip-path=\"url(#clip390)\" d=\"M1041.93 116.88 Q1036.76 116.88 1034.77 118.061 Q1032.78 119.241 1032.78 122.089 Q1032.78 124.357 1034.26 125.7 Q1035.77 127.019 1038.34 127.019 Q1041.88 127.019 1044.01 124.519 Q1046.16 121.996 1046.16 117.829 L1046.16 116.88 L1041.93 116.88 M1050.42 115.121 L1050.42 129.913 L1046.16 129.913 L1046.16 125.977 Q1044.7 128.339 1042.53 129.473 Q1040.35 130.584 1037.2 130.584 Q1033.22 130.584 1030.86 128.362 Q1028.52 126.116 1028.52 122.366 Q1028.52 117.991 1031.44 115.769 Q1034.38 113.547 1040.19 113.547 L1046.16 113.547 L1046.16 113.13 Q1046.16 110.191 1044.22 108.593 Q1042.3 106.973 1038.8 106.973 Q1036.58 106.973 1034.47 107.505 Q1032.36 108.038 1030.42 109.103 L1030.42 105.167 Q1032.76 104.265 1034.96 103.825 Q1037.16 103.362 1039.24 103.362 Q1044.86 103.362 1047.64 106.278 Q1050.42 109.195 1050.42 115.121 Z\" fill=\"#000000\" fill-rule=\"nonzero\" fill-opacity=\"1\" /><path clip-path=\"url(#clip390)\" d=\"M1063.31 126.024 L1063.31 139.774 L1059.03 139.774 L1059.03 103.987 L1063.31 103.987 L1063.31 107.922 Q1064.66 105.607 1066.69 104.496 Q1068.75 103.362 1071.6 103.362 Q1076.32 103.362 1079.26 107.112 Q1082.23 110.862 1082.23 116.973 Q1082.23 123.084 1079.26 126.834 Q1076.32 130.584 1071.6 130.584 Q1068.75 130.584 1066.69 129.473 Q1064.66 128.339 1063.31 126.024 M1077.8 116.973 Q1077.8 112.274 1075.86 109.612 Q1073.94 106.927 1070.56 106.927 Q1067.18 106.927 1065.24 109.612 Q1063.31 112.274 1063.31 116.973 Q1063.31 121.672 1065.24 124.357 Q1067.18 127.019 1070.56 127.019 Q1073.94 127.019 1075.86 124.357 Q1077.8 121.672 1077.8 116.973 Z\" fill=\"#000000\" fill-rule=\"nonzero\" fill-opacity=\"1\" /><path clip-path=\"url(#clip390)\" d=\"M1093.41 126.024 L1093.41 139.774 L1089.12 139.774 L1089.12 103.987 L1093.41 103.987 L1093.41 107.922 Q1094.75 105.607 1096.79 104.496 Q1098.85 103.362 1101.69 103.362 Q1106.42 103.362 1109.36 107.112 Q1112.32 110.862 1112.32 116.973 Q1112.32 123.084 1109.36 126.834 Q1106.42 130.584 1101.69 130.584 Q1098.85 130.584 1096.79 129.473 Q1094.75 128.339 1093.41 126.024 M1107.9 116.973 Q1107.9 112.274 1105.95 109.612 Q1104.03 106.927 1100.65 106.927 Q1097.27 106.927 1095.33 109.612 Q1093.41 112.274 1093.41 116.973 Q1093.41 121.672 1095.33 124.357 Q1097.27 127.019 1100.65 127.019 Q1104.03 127.019 1105.95 124.357 Q1107.9 121.672 1107.9 116.973 Z\" fill=\"#000000\" fill-rule=\"nonzero\" fill-opacity=\"1\" /><path clip-path=\"url(#clip390)\" d=\"M1130.17 132.32 Q1128.36 136.95 1126.65 138.362 Q1124.93 139.774 1122.06 139.774 L1118.66 139.774 L1118.66 136.209 L1121.16 136.209 Q1122.92 136.209 1123.89 135.376 Q1124.86 134.542 1126.04 131.44 L1126.81 129.496 L1116.32 103.987 L1120.84 103.987 L1128.94 124.265 L1137.04 103.987 L1141.55 103.987 L1130.17 132.32 Z\" fill=\"#000000\" fill-rule=\"nonzero\" fill-opacity=\"1\" /></svg>\n"
               },
               "type": "node"
              }
             ],
             "instanceArgs": {
              "handlers": {
               "obs-output": [
                "function (value, scope) {\n    scope.setInnerHTML(value);\n}\n"
               ]
              },
              "id": "8056196185702696616",
              "imports": {
               "data": [],
               "type": "async_block"
              },
              "mount_callbacks": [],
              "observables": {
               "obs-output": {
                "id": "5549086274292654125",
                "sync": false,
                "value": "<?xml version=\"1.0\" encoding=\"utf-8\"?>\n<svg xmlns=\"http://www.w3.org/2000/svg\" xmlns:xlink=\"http://www.w3.org/1999/xlink\" width=\"300\" height=\"150\" viewBox=\"0 0 1200 600\">\n<defs>\n  <clipPath id=\"clip390\">\n    <rect x=\"0\" y=\"0\" width=\"1200\" height=\"600\"/>\n  </clipPath>\n</defs>\n<path clip-path=\"url(#clip390)\" d=\"M0 600 L1200 600 L1200 0 L0 0  Z\" fill=\"#ffffff\" fill-rule=\"evenodd\" fill-opacity=\"1\"/>\n<defs>\n  <clipPath id=\"clip391\">\n    <rect x=\"240\" y=\"0\" width=\"841\" height=\"600\"/>\n  </clipPath>\n</defs>\n<path clip-path=\"url(#clip390)\" d=\"M144.598 453.7 L876.715 453.7 L876.715 47.2441 L144.598 47.2441  Z\" fill=\"#ffffff\" fill-rule=\"evenodd\" fill-opacity=\"1\"/>\n<defs>\n  <clipPath id=\"clip392\">\n    <rect x=\"144\" y=\"47\" width=\"733\" height=\"407\"/>\n  </clipPath>\n</defs>\n<polyline clip-path=\"url(#clip392)\" style=\"stroke:#000000; stroke-linecap:round; stroke-linejoin:round; stroke-width:2; stroke-opacity:0.1; fill:none\" points=\"242.06,453.7 242.06,47.2441 \"/>\n<polyline clip-path=\"url(#clip392)\" style=\"stroke:#000000; stroke-linecap:round; stroke-linejoin:round; stroke-width:2; stroke-opacity:0.1; fill:none\" points=\"395.544,453.7 395.544,47.2441 \"/>\n<polyline clip-path=\"url(#clip392)\" style=\"stroke:#000000; stroke-linecap:round; stroke-linejoin:round; stroke-width:2; stroke-opacity:0.1; fill:none\" points=\"549.028,453.7 549.028,47.2441 \"/>\n<polyline clip-path=\"url(#clip392)\" style=\"stroke:#000000; stroke-linecap:round; stroke-linejoin:round; stroke-width:2; stroke-opacity:0.1; fill:none\" points=\"702.511,453.7 702.511,47.2441 \"/>\n<polyline clip-path=\"url(#clip392)\" style=\"stroke:#000000; stroke-linecap:round; stroke-linejoin:round; stroke-width:2; stroke-opacity:0.1; fill:none\" points=\"855.995,453.7 855.995,47.2441 \"/>\n<polyline clip-path=\"url(#clip390)\" style=\"stroke:#000000; stroke-linecap:round; stroke-linejoin:round; stroke-width:4; stroke-opacity:1; fill:none\" points=\"144.598,453.7 876.715,453.7 \"/>\n<polyline clip-path=\"url(#clip390)\" style=\"stroke:#000000; stroke-linecap:round; stroke-linejoin:round; stroke-width:4; stroke-opacity:1; fill:none\" points=\"242.06,453.7 242.06,434.802 \"/>\n<polyline clip-path=\"url(#clip390)\" style=\"stroke:#000000; stroke-linecap:round; stroke-linejoin:round; stroke-width:4; stroke-opacity:1; fill:none\" points=\"395.544,453.7 395.544,434.802 \"/>\n<polyline clip-path=\"url(#clip390)\" style=\"stroke:#000000; stroke-linecap:round; stroke-linejoin:round; stroke-width:4; stroke-opacity:1; fill:none\" points=\"549.028,453.7 549.028,434.802 \"/>\n<polyline clip-path=\"url(#clip390)\" style=\"stroke:#000000; stroke-linecap:round; stroke-linejoin:round; stroke-width:4; stroke-opacity:1; fill:none\" points=\"702.511,453.7 702.511,434.802 \"/>\n<polyline clip-path=\"url(#clip390)\" style=\"stroke:#000000; stroke-linecap:round; stroke-linejoin:round; stroke-width:4; stroke-opacity:1; fill:none\" points=\"855.995,453.7 855.995,434.802 \"/>\n<path clip-path=\"url(#clip390)\" d=\"M236.713 502.565 L253.033 502.565 L253.033 506.5 L231.088 506.5 L231.088 502.565 Q233.75 499.81 238.334 495.18 Q242.94 490.528 244.121 489.185 Q246.366 486.662 247.246 484.926 Q248.148 483.167 248.148 481.477 Q248.148 478.722 246.204 476.986 Q244.283 475.25 241.181 475.25 Q238.982 475.25 236.528 476.014 Q234.097 476.778 231.32 478.329 L231.32 473.607 Q234.144 472.472 236.597 471.894 Q239.051 471.315 241.088 471.315 Q246.458 471.315 249.653 474 Q252.847 476.685 252.847 481.176 Q252.847 483.306 252.037 485.227 Q251.25 487.125 249.144 489.718 Q248.565 490.389 245.463 493.606 Q242.361 496.801 236.713 502.565 Z\" fill=\"#000000\" fill-rule=\"nonzero\" fill-opacity=\"1\" /><path clip-path=\"url(#clip390)\" d=\"M398.553 476.014 L386.748 494.463 L398.553 494.463 L398.553 476.014 M397.326 471.94 L403.206 471.94 L403.206 494.463 L408.137 494.463 L408.137 498.352 L403.206 498.352 L403.206 506.5 L398.553 506.5 L398.553 498.352 L382.951 498.352 L382.951 493.838 L397.326 471.94 Z\" fill=\"#000000\" fill-rule=\"nonzero\" fill-opacity=\"1\" /><path clip-path=\"url(#clip390)\" d=\"M549.433 487.356 Q546.285 487.356 544.433 489.509 Q542.604 491.662 542.604 495.412 Q542.604 499.139 544.433 501.315 Q546.285 503.467 549.433 503.467 Q552.581 503.467 554.41 501.315 Q556.261 499.139 556.261 495.412 Q556.261 491.662 554.41 489.509 Q552.581 487.356 549.433 487.356 M558.715 472.704 L558.715 476.963 Q556.956 476.13 555.15 475.69 Q553.368 475.25 551.609 475.25 Q546.979 475.25 544.525 478.375 Q542.095 481.5 541.748 487.819 Q543.113 485.806 545.174 484.741 Q547.234 483.653 549.711 483.653 Q554.919 483.653 557.928 486.824 Q560.96 489.972 560.96 495.412 Q560.96 500.736 557.812 503.954 Q554.664 507.171 549.433 507.171 Q543.437 507.171 540.266 502.588 Q537.095 497.981 537.095 489.255 Q537.095 481.06 540.984 476.199 Q544.873 471.315 551.423 471.315 Q553.183 471.315 554.965 471.662 Q556.771 472.009 558.715 472.704 Z\" fill=\"#000000\" fill-rule=\"nonzero\" fill-opacity=\"1\" /><path clip-path=\"url(#clip390)\" d=\"M702.511 490.088 Q699.178 490.088 697.257 491.87 Q695.359 493.653 695.359 496.778 Q695.359 499.903 697.257 501.685 Q699.178 503.467 702.511 503.467 Q705.845 503.467 707.766 501.685 Q709.687 499.88 709.687 496.778 Q709.687 493.653 707.766 491.87 Q705.868 490.088 702.511 490.088 M697.835 488.097 Q694.826 487.356 693.136 485.296 Q691.47 483.236 691.47 480.273 Q691.47 476.13 694.41 473.722 Q697.372 471.315 702.511 471.315 Q707.673 471.315 710.613 473.722 Q713.553 476.13 713.553 480.273 Q713.553 483.236 711.863 485.296 Q710.196 487.356 707.21 488.097 Q710.59 488.884 712.465 491.176 Q714.363 493.468 714.363 496.778 Q714.363 501.801 711.284 504.486 Q708.229 507.171 702.511 507.171 Q696.794 507.171 693.715 504.486 Q690.66 501.801 690.66 496.778 Q690.66 493.468 692.558 491.176 Q694.456 488.884 697.835 488.097 M696.122 480.713 Q696.122 483.398 697.789 484.903 Q699.479 486.407 702.511 486.407 Q705.521 486.407 707.21 484.903 Q708.923 483.398 708.923 480.713 Q708.923 478.028 707.21 476.523 Q705.521 475.019 702.511 475.019 Q699.479 475.019 697.789 476.523 Q696.122 478.028 696.122 480.713 Z\" fill=\"#000000\" fill-rule=\"nonzero\" fill-opacity=\"1\" /><path clip-path=\"url(#clip390)\" d=\"M830.683 502.565 L838.321 502.565 L838.321 476.199 L830.011 477.866 L830.011 473.607 L838.275 471.94 L842.951 471.94 L842.951 502.565 L850.59 502.565 L850.59 506.5 L830.683 506.5 L830.683 502.565 Z\" fill=\"#000000\" fill-rule=\"nonzero\" fill-opacity=\"1\" /><path clip-path=\"url(#clip390)\" d=\"M870.034 475.019 Q866.423 475.019 864.594 478.583 Q862.789 482.125 862.789 489.255 Q862.789 496.361 864.594 499.926 Q866.423 503.467 870.034 503.467 Q873.668 503.467 875.474 499.926 Q877.303 496.361 877.303 489.255 Q877.303 482.125 875.474 478.583 Q873.668 475.019 870.034 475.019 M870.034 471.315 Q875.844 471.315 878.9 475.921 Q881.979 480.505 881.979 489.255 Q881.979 497.981 878.9 502.588 Q875.844 507.171 870.034 507.171 Q864.224 507.171 861.145 502.588 Q858.09 497.981 858.09 489.255 Q858.09 480.505 861.145 475.921 Q864.224 471.315 870.034 471.315 Z\" fill=\"#000000\" fill-rule=\"nonzero\" fill-opacity=\"1\" /><path clip-path=\"url(#clip390)\" d=\"M447.7 534.794 L447.7 544.916 L459.763 544.916 L459.763 549.467 L447.7 549.467 L447.7 568.819 Q447.7 573.18 448.878 574.421 Q450.087 575.662 453.747 575.662 L459.763 575.662 L459.763 580.564 L453.747 580.564 Q446.968 580.564 444.39 578.049 Q441.812 575.503 441.812 568.819 L441.812 549.467 L437.515 549.467 L437.515 544.916 L441.812 544.916 L441.812 534.794 L447.7 534.794 Z\" fill=\"#000000\" fill-rule=\"nonzero\" fill-opacity=\"1\" /><path clip-path=\"url(#clip390)\" d=\"M467.465 544.916 L473.322 544.916 L473.322 580.564 L467.465 580.564 L467.465 544.916 M467.465 531.039 L473.322 531.039 L473.322 538.455 L467.465 538.455 L467.465 531.039 Z\" fill=\"#000000\" fill-rule=\"nonzero\" fill-opacity=\"1\" /><path clip-path=\"url(#clip390)\" d=\"M511.23 546.285 L511.23 551.759 Q508.747 550.39 506.233 549.722 Q503.75 549.022 501.204 549.022 Q495.506 549.022 492.355 552.65 Q489.204 556.247 489.204 562.772 Q489.204 569.297 492.355 572.925 Q495.506 576.522 501.204 576.522 Q503.75 576.522 506.233 575.853 Q508.747 575.153 511.23 573.784 L511.23 579.195 Q508.779 580.341 506.137 580.914 Q503.527 581.487 500.567 581.487 Q492.514 581.487 487.772 576.426 Q483.03 571.365 483.03 562.772 Q483.03 554.051 487.804 549.054 Q492.61 544.057 500.949 544.057 Q503.654 544.057 506.233 544.629 Q508.811 545.171 511.23 546.285 Z\" fill=\"#000000\" fill-rule=\"nonzero\" fill-opacity=\"1\" /><path clip-path=\"url(#clip390)\" d=\"M521.192 531.039 L527.08 531.039 L527.08 560.289 L544.554 544.916 L552.034 544.916 L533.128 561.594 L552.83 580.564 L545.191 580.564 L527.08 563.154 L527.08 580.564 L521.192 580.564 L521.192 531.039 Z\" fill=\"#000000\" fill-rule=\"nonzero\" fill-opacity=\"1\" /><path clip-path=\"url(#clip390)\" d=\"M581.889 545.966 L581.889 551.504 Q579.406 550.231 576.733 549.595 Q574.059 548.958 571.195 548.958 Q566.834 548.958 564.638 550.295 Q562.474 551.632 562.474 554.305 Q562.474 556.342 564.033 557.52 Q565.593 558.666 570.303 559.716 L572.309 560.162 Q578.547 561.499 581.157 563.949 Q583.799 566.368 583.799 570.729 Q583.799 575.694 579.852 578.59 Q575.937 581.487 569.062 581.487 Q566.198 581.487 563.078 580.914 Q559.991 580.373 556.553 579.259 L556.553 573.211 Q559.8 574.898 562.951 575.758 Q566.102 576.585 569.189 576.585 Q573.327 576.585 575.555 575.185 Q577.783 573.753 577.783 571.174 Q577.783 568.787 576.16 567.514 Q574.568 566.241 569.126 565.063 L567.089 564.586 Q561.646 563.44 559.227 561.085 Q556.808 558.698 556.808 554.56 Q556.808 549.531 560.373 546.794 Q563.938 544.057 570.494 544.057 Q573.741 544.057 576.605 544.534 Q579.47 545.011 581.889 545.966 Z\" fill=\"#000000\" fill-rule=\"nonzero\" fill-opacity=\"1\" /><polyline clip-path=\"url(#clip392)\" style=\"stroke:#000000; stroke-linecap:round; stroke-linejoin:round; stroke-width:2; stroke-opacity:0.1; fill:none\" points=\"144.598,392.503 876.715,392.503 \"/>\n<polyline clip-path=\"url(#clip392)\" style=\"stroke:#000000; stroke-linecap:round; stroke-linejoin:round; stroke-width:2; stroke-opacity:0.1; fill:none\" points=\"144.598,326.244 876.715,326.244 \"/>\n<polyline clip-path=\"url(#clip392)\" style=\"stroke:#000000; stroke-linecap:round; stroke-linejoin:round; stroke-width:2; stroke-opacity:0.1; fill:none\" points=\"144.598,259.986 876.715,259.986 \"/>\n<polyline clip-path=\"url(#clip392)\" style=\"stroke:#000000; stroke-linecap:round; stroke-linejoin:round; stroke-width:2; stroke-opacity:0.1; fill:none\" points=\"144.598,193.728 876.715,193.728 \"/>\n<polyline clip-path=\"url(#clip392)\" style=\"stroke:#000000; stroke-linecap:round; stroke-linejoin:round; stroke-width:2; stroke-opacity:0.1; fill:none\" points=\"144.598,127.469 876.715,127.469 \"/>\n<polyline clip-path=\"url(#clip392)\" style=\"stroke:#000000; stroke-linecap:round; stroke-linejoin:round; stroke-width:2; stroke-opacity:0.1; fill:none\" points=\"144.598,61.2112 876.715,61.2112 \"/>\n<polyline clip-path=\"url(#clip390)\" style=\"stroke:#000000; stroke-linecap:round; stroke-linejoin:round; stroke-width:4; stroke-opacity:1; fill:none\" points=\"144.598,453.7 144.598,47.2441 \"/>\n<polyline clip-path=\"url(#clip390)\" style=\"stroke:#000000; stroke-linecap:round; stroke-linejoin:round; stroke-width:4; stroke-opacity:1; fill:none\" points=\"144.598,392.503 158.322,392.503 \"/>\n<polyline clip-path=\"url(#clip390)\" style=\"stroke:#000000; stroke-linecap:round; stroke-linejoin:round; stroke-width:4; stroke-opacity:1; fill:none\" points=\"144.598,326.244 158.322,326.244 \"/>\n<polyline clip-path=\"url(#clip390)\" style=\"stroke:#000000; stroke-linecap:round; stroke-linejoin:round; stroke-width:4; stroke-opacity:1; fill:none\" points=\"144.598,259.986 158.322,259.986 \"/>\n<polyline clip-path=\"url(#clip390)\" style=\"stroke:#000000; stroke-linecap:round; stroke-linejoin:round; stroke-width:4; stroke-opacity:1; fill:none\" points=\"144.598,193.728 158.322,193.728 \"/>\n<polyline clip-path=\"url(#clip390)\" style=\"stroke:#000000; stroke-linecap:round; stroke-linejoin:round; stroke-width:4; stroke-opacity:1; fill:none\" points=\"144.598,127.469 158.322,127.469 \"/>\n<polyline clip-path=\"url(#clip390)\" style=\"stroke:#000000; stroke-linecap:round; stroke-linejoin:round; stroke-width:4; stroke-opacity:1; fill:none\" points=\"144.598,61.2112 158.322,61.2112 \"/>\n<path clip-path=\"url(#clip390)\" d=\"M70.0708 378.301 Q66.4597 378.301 64.631 381.866 Q62.8254 385.408 62.8254 392.537 Q62.8254 399.644 64.631 403.209 Q66.4597 406.75 70.0708 406.75 Q73.705 406.75 75.5105 403.209 Q77.3392 399.644 77.3392 392.537 Q77.3392 385.408 75.5105 381.866 Q73.705 378.301 70.0708 378.301 M70.0708 374.598 Q75.8809 374.598 78.9365 379.204 Q82.0151 383.787 82.0151 392.537 Q82.0151 401.264 78.9365 405.871 Q75.8809 410.454 70.0708 410.454 Q64.2606 410.454 61.1819 405.871 Q58.1264 401.264 58.1264 392.537 Q58.1264 383.787 61.1819 379.204 Q64.2606 374.598 70.0708 374.598 Z\" fill=\"#000000\" fill-rule=\"nonzero\" fill-opacity=\"1\" /><path clip-path=\"url(#clip390)\" d=\"M90.2327 403.903 L95.1169 403.903 L95.1169 409.783 L90.2327 409.783 L90.2327 403.903 Z\" fill=\"#000000\" fill-rule=\"nonzero\" fill-opacity=\"1\" /><path clip-path=\"url(#clip390)\" d=\"M119.469 391.148 Q122.825 391.866 124.7 394.135 Q126.598 396.403 126.598 399.736 Q126.598 404.852 123.08 407.653 Q119.561 410.454 113.08 410.454 Q110.904 410.454 108.589 410.014 Q106.297 409.597 103.844 408.741 L103.844 404.227 Q105.788 405.361 108.103 405.94 Q110.418 406.519 112.941 406.519 Q117.339 406.519 119.631 404.783 Q121.945 403.047 121.945 399.736 Q121.945 396.681 119.793 394.968 Q117.663 393.232 113.844 393.232 L109.816 393.232 L109.816 389.389 L114.029 389.389 Q117.478 389.389 119.307 388.024 Q121.135 386.635 121.135 384.042 Q121.135 381.38 119.237 379.968 Q117.362 378.533 113.844 378.533 Q111.922 378.533 109.723 378.949 Q107.524 379.366 104.885 380.246 L104.885 376.079 Q107.547 375.338 109.862 374.968 Q112.2 374.598 114.26 374.598 Q119.584 374.598 122.686 377.028 Q125.788 379.436 125.788 383.556 Q125.788 386.426 124.145 388.417 Q122.501 390.385 119.469 391.148 Z\" fill=\"#000000\" fill-rule=\"nonzero\" fill-opacity=\"1\" /><path clip-path=\"url(#clip390)\" d=\"M68.9365 312.043 Q65.3254 312.043 63.4967 315.608 Q61.6912 319.149 61.6912 326.279 Q61.6912 333.386 63.4967 336.95 Q65.3254 340.492 68.9365 340.492 Q72.5707 340.492 74.3763 336.95 Q76.205 333.386 76.205 326.279 Q76.205 319.149 74.3763 315.608 Q72.5707 312.043 68.9365 312.043 M68.9365 308.339 Q74.7467 308.339 77.8022 312.946 Q80.8809 317.529 80.8809 326.279 Q80.8809 335.006 77.8022 339.612 Q74.7467 344.196 68.9365 344.196 Q63.1264 344.196 60.0477 339.612 Q56.9921 335.006 56.9921 326.279 Q56.9921 317.529 60.0477 312.946 Q63.1264 308.339 68.9365 308.339 Z\" fill=\"#000000\" fill-rule=\"nonzero\" fill-opacity=\"1\" /><path clip-path=\"url(#clip390)\" d=\"M89.0984 337.645 L93.9827 337.645 L93.9827 343.524 L89.0984 343.524 L89.0984 337.645 Z\" fill=\"#000000\" fill-rule=\"nonzero\" fill-opacity=\"1\" /><path clip-path=\"url(#clip390)\" d=\"M117.015 313.038 L105.209 331.487 L117.015 331.487 L117.015 313.038 M115.788 308.964 L121.668 308.964 L121.668 331.487 L126.598 331.487 L126.598 335.376 L121.668 335.376 L121.668 343.524 L117.015 343.524 L117.015 335.376 L101.413 335.376 L101.413 330.862 L115.788 308.964 Z\" fill=\"#000000\" fill-rule=\"nonzero\" fill-opacity=\"1\" /><path clip-path=\"url(#clip390)\" d=\"M70.418 245.785 Q66.8069 245.785 64.9782 249.35 Q63.1726 252.891 63.1726 260.021 Q63.1726 267.127 64.9782 270.692 Q66.8069 274.234 70.418 274.234 Q74.0522 274.234 75.8578 270.692 Q77.6865 267.127 77.6865 260.021 Q77.6865 252.891 75.8578 249.35 Q74.0522 245.785 70.418 245.785 M70.418 242.081 Q76.2281 242.081 79.2837 246.688 Q82.3624 251.271 82.3624 260.021 Q82.3624 268.748 79.2837 273.354 Q76.2281 277.937 70.418 277.937 Q64.6078 277.937 61.5291 273.354 Q58.4736 268.748 58.4736 260.021 Q58.4736 251.271 61.5291 246.688 Q64.6078 242.081 70.418 242.081 Z\" fill=\"#000000\" fill-rule=\"nonzero\" fill-opacity=\"1\" /><path clip-path=\"url(#clip390)\" d=\"M90.5799 271.386 L95.4641 271.386 L95.4641 277.266 L90.5799 277.266 L90.5799 271.386 Z\" fill=\"#000000\" fill-rule=\"nonzero\" fill-opacity=\"1\" /><path clip-path=\"url(#clip390)\" d=\"M105.696 242.706 L124.052 242.706 L124.052 246.641 L109.978 246.641 L109.978 255.113 Q110.996 254.766 112.015 254.604 Q113.033 254.419 114.052 254.419 Q119.839 254.419 123.219 257.59 Q126.598 260.762 126.598 266.178 Q126.598 271.757 123.126 274.859 Q119.654 277.937 113.334 277.937 Q111.159 277.937 108.89 277.567 Q106.645 277.197 104.237 276.456 L104.237 271.757 Q106.321 272.891 108.543 273.447 Q110.765 274.002 113.242 274.002 Q117.246 274.002 119.584 271.896 Q121.922 269.789 121.922 266.178 Q121.922 262.567 119.584 260.461 Q117.246 258.354 113.242 258.354 Q111.367 258.354 109.492 258.771 Q107.64 259.187 105.696 260.067 L105.696 242.706 Z\" fill=\"#000000\" fill-rule=\"nonzero\" fill-opacity=\"1\" /><path clip-path=\"url(#clip390)\" d=\"M69.2606 179.526 Q65.6495 179.526 63.8208 183.091 Q62.0152 186.633 62.0152 193.762 Q62.0152 200.869 63.8208 204.434 Q65.6495 207.975 69.2606 207.975 Q72.8948 207.975 74.7004 204.434 Q76.5291 200.869 76.5291 193.762 Q76.5291 186.633 74.7004 183.091 Q72.8948 179.526 69.2606 179.526 M69.2606 175.823 Q75.0707 175.823 78.1263 180.429 Q81.205 185.013 81.205 193.762 Q81.205 202.489 78.1263 207.096 Q75.0707 211.679 69.2606 211.679 Q63.4504 211.679 60.3717 207.096 Q57.3162 202.489 57.3162 193.762 Q57.3162 185.013 60.3717 180.429 Q63.4504 175.823 69.2606 175.823 Z\" fill=\"#000000\" fill-rule=\"nonzero\" fill-opacity=\"1\" /><path clip-path=\"url(#clip390)\" d=\"M89.4225 205.128 L94.3067 205.128 L94.3067 211.008 L89.4225 211.008 L89.4225 205.128 Z\" fill=\"#000000\" fill-rule=\"nonzero\" fill-opacity=\"1\" /><path clip-path=\"url(#clip390)\" d=\"M115.071 191.864 Q111.922 191.864 110.071 194.017 Q108.242 196.17 108.242 199.92 Q108.242 203.647 110.071 205.823 Q111.922 207.975 115.071 207.975 Q118.219 207.975 120.047 205.823 Q121.899 203.647 121.899 199.92 Q121.899 196.17 120.047 194.017 Q118.219 191.864 115.071 191.864 M124.353 177.212 L124.353 181.471 Q122.594 180.638 120.788 180.198 Q119.006 179.758 117.246 179.758 Q112.617 179.758 110.163 182.883 Q107.733 186.008 107.385 192.327 Q108.751 190.313 110.811 189.249 Q112.871 188.161 115.348 188.161 Q120.557 188.161 123.566 191.332 Q126.598 194.48 126.598 199.92 Q126.598 205.244 123.45 208.461 Q120.302 211.679 115.071 211.679 Q109.075 211.679 105.904 207.096 Q102.733 202.489 102.733 193.762 Q102.733 185.568 106.621 180.707 Q110.51 175.823 117.061 175.823 Q118.82 175.823 120.603 176.17 Q122.408 176.517 124.353 177.212 Z\" fill=\"#000000\" fill-rule=\"nonzero\" fill-opacity=\"1\" /><path clip-path=\"url(#clip390)\" d=\"M70.3254 113.268 Q66.7143 113.268 64.8856 116.833 Q63.0801 120.375 63.0801 127.504 Q63.0801 134.611 64.8856 138.175 Q66.7143 141.717 70.3254 141.717 Q73.9596 141.717 75.7652 138.175 Q77.5939 134.611 77.5939 127.504 Q77.5939 120.375 75.7652 116.833 Q73.9596 113.268 70.3254 113.268 M70.3254 109.564 Q76.1355 109.564 79.1911 114.171 Q82.2698 118.754 82.2698 127.504 Q82.2698 136.231 79.1911 140.837 Q76.1355 145.421 70.3254 145.421 Q64.5152 145.421 61.4365 140.837 Q58.381 136.231 58.381 127.504 Q58.381 118.754 61.4365 114.171 Q64.5152 109.564 70.3254 109.564 Z\" fill=\"#000000\" fill-rule=\"nonzero\" fill-opacity=\"1\" /><path clip-path=\"url(#clip390)\" d=\"M90.4873 138.87 L95.3715 138.87 L95.3715 144.749 L90.4873 144.749 L90.4873 138.87 Z\" fill=\"#000000\" fill-rule=\"nonzero\" fill-opacity=\"1\" /><path clip-path=\"url(#clip390)\" d=\"M104.376 110.189 L126.598 110.189 L126.598 112.18 L114.052 144.749 L109.168 144.749 L120.973 114.125 L104.376 114.125 L104.376 110.189 Z\" fill=\"#000000\" fill-rule=\"nonzero\" fill-opacity=\"1\" /><path clip-path=\"url(#clip390)\" d=\"M69.5152 47.0099 Q65.9041 47.0099 64.0754 50.5747 Q62.2699 54.1163 62.2699 61.2459 Q62.2699 68.3523 64.0754 71.9171 Q65.9041 75.4588 69.5152 75.4588 Q73.1494 75.4588 74.955 71.9171 Q76.7837 68.3523 76.7837 61.2459 Q76.7837 54.1163 74.955 50.5747 Q73.1494 47.0099 69.5152 47.0099 M69.5152 43.3062 Q75.3254 43.3062 78.3809 47.9126 Q81.4596 52.496 81.4596 61.2459 Q81.4596 69.9727 78.3809 74.5792 Q75.3254 79.1625 69.5152 79.1625 Q63.7051 79.1625 60.6264 74.5792 Q57.5708 69.9727 57.5708 61.2459 Q57.5708 52.496 60.6264 47.9126 Q63.7051 43.3062 69.5152 43.3062 Z\" fill=\"#000000\" fill-rule=\"nonzero\" fill-opacity=\"1\" /><path clip-path=\"url(#clip390)\" d=\"M89.6771 72.6116 L94.5614 72.6116 L94.5614 78.4912 L89.6771 78.4912 L89.6771 72.6116 Z\" fill=\"#000000\" fill-rule=\"nonzero\" fill-opacity=\"1\" /><path clip-path=\"url(#clip390)\" d=\"M114.746 62.0792 Q111.413 62.0792 109.492 63.8616 Q107.594 65.644 107.594 68.769 Q107.594 71.894 109.492 73.6764 Q111.413 75.4588 114.746 75.4588 Q118.08 75.4588 120.001 73.6764 Q121.922 71.8708 121.922 68.769 Q121.922 65.644 120.001 63.8616 Q118.103 62.0792 114.746 62.0792 M110.071 60.0885 Q107.061 59.3478 105.371 57.2876 Q103.705 55.2274 103.705 52.2645 Q103.705 48.121 106.645 45.7136 Q109.608 43.3062 114.746 43.3062 Q119.908 43.3062 122.848 45.7136 Q125.788 48.121 125.788 52.2645 Q125.788 55.2274 124.098 57.2876 Q122.432 59.3478 119.445 60.0885 Q122.825 60.8755 124.7 63.1672 Q126.598 65.4588 126.598 68.769 Q126.598 73.7921 123.52 76.4773 Q120.464 79.1625 114.746 79.1625 Q109.029 79.1625 105.95 76.4773 Q102.895 73.7921 102.895 68.769 Q102.895 65.4588 104.793 63.1672 Q106.691 60.8755 110.071 60.0885 M108.358 52.7043 Q108.358 55.3895 110.024 56.8941 Q111.714 58.3987 114.746 58.3987 Q117.756 58.3987 119.445 56.8941 Q121.158 55.3895 121.158 52.7043 Q121.158 50.0191 119.445 48.5145 Q117.756 47.0099 114.746 47.0099 Q111.714 47.0099 110.024 48.5145 Q108.358 50.0191 108.358 52.7043 Z\" fill=\"#000000\" fill-rule=\"nonzero\" fill-opacity=\"1\" /><polyline clip-path=\"url(#clip392)\" style=\"stroke:#009af9; stroke-linecap:round; stroke-linejoin:round; stroke-width:4; stroke-opacity:1; fill:none\" points=\"165.319,442.196 242.06,428.199 318.802,341.994 395.544,288.556 472.286,212.092 549.028,142.138 625.769,125.224 702.511,108.575 779.253,98.5526 855.995,58.7476 \"/>\n<path clip-path=\"url(#clip390)\" d=\"M910.321 164.473 L1152.76 164.473 L1152.76 60.7926 L910.321 60.7926  Z\" fill=\"#ffffff\" fill-rule=\"evenodd\" fill-opacity=\"1\"/>\n<polyline clip-path=\"url(#clip390)\" style=\"stroke:#000000; stroke-linecap:round; stroke-linejoin:round; stroke-width:4; stroke-opacity:1; fill:none\" points=\"910.321,164.473 1152.76,164.473 1152.76,60.7926 910.321,60.7926 910.321,164.473 \"/>\n<polyline clip-path=\"url(#clip390)\" style=\"stroke:#009af9; stroke-linecap:round; stroke-linejoin:round; stroke-width:4; stroke-opacity:1; fill:none\" points=\"921.522,112.633 988.733,112.633 \"/>\n<path clip-path=\"url(#clip390)\" d=\"M1021.65 114.265 L1021.65 129.913 L1017.39 129.913 L1017.39 114.403 Q1017.39 110.723 1015.95 108.894 Q1014.52 107.066 1011.65 107.066 Q1008.2 107.066 1006.21 109.265 Q1004.22 111.464 1004.22 115.26 L1004.22 129.913 L999.935 129.913 L999.935 93.8943 L1004.22 93.8943 L1004.22 108.015 Q1005.74 105.677 1007.8 104.519 Q1009.89 103.362 1012.6 103.362 Q1017.06 103.362 1019.36 106.14 Q1021.65 108.894 1021.65 114.265 Z\" fill=\"#000000\" fill-rule=\"nonzero\" fill-opacity=\"1\" /><path clip-path=\"url(#clip390)\" d=\"M1041.93 116.88 Q1036.76 116.88 1034.77 118.061 Q1032.78 119.241 1032.78 122.089 Q1032.78 124.357 1034.26 125.7 Q1035.77 127.019 1038.34 127.019 Q1041.88 127.019 1044.01 124.519 Q1046.16 121.996 1046.16 117.829 L1046.16 116.88 L1041.93 116.88 M1050.42 115.121 L1050.42 129.913 L1046.16 129.913 L1046.16 125.977 Q1044.7 128.339 1042.53 129.473 Q1040.35 130.584 1037.2 130.584 Q1033.22 130.584 1030.86 128.362 Q1028.52 126.116 1028.52 122.366 Q1028.52 117.991 1031.44 115.769 Q1034.38 113.547 1040.19 113.547 L1046.16 113.547 L1046.16 113.13 Q1046.16 110.191 1044.22 108.593 Q1042.3 106.973 1038.8 106.973 Q1036.58 106.973 1034.47 107.505 Q1032.36 108.038 1030.42 109.103 L1030.42 105.167 Q1032.76 104.265 1034.96 103.825 Q1037.16 103.362 1039.24 103.362 Q1044.86 103.362 1047.64 106.278 Q1050.42 109.195 1050.42 115.121 Z\" fill=\"#000000\" fill-rule=\"nonzero\" fill-opacity=\"1\" /><path clip-path=\"url(#clip390)\" d=\"M1063.31 126.024 L1063.31 139.774 L1059.03 139.774 L1059.03 103.987 L1063.31 103.987 L1063.31 107.922 Q1064.66 105.607 1066.69 104.496 Q1068.75 103.362 1071.6 103.362 Q1076.32 103.362 1079.26 107.112 Q1082.23 110.862 1082.23 116.973 Q1082.23 123.084 1079.26 126.834 Q1076.32 130.584 1071.6 130.584 Q1068.75 130.584 1066.69 129.473 Q1064.66 128.339 1063.31 126.024 M1077.8 116.973 Q1077.8 112.274 1075.86 109.612 Q1073.94 106.927 1070.56 106.927 Q1067.18 106.927 1065.24 109.612 Q1063.31 112.274 1063.31 116.973 Q1063.31 121.672 1065.24 124.357 Q1067.18 127.019 1070.56 127.019 Q1073.94 127.019 1075.86 124.357 Q1077.8 121.672 1077.8 116.973 Z\" fill=\"#000000\" fill-rule=\"nonzero\" fill-opacity=\"1\" /><path clip-path=\"url(#clip390)\" d=\"M1093.41 126.024 L1093.41 139.774 L1089.12 139.774 L1089.12 103.987 L1093.41 103.987 L1093.41 107.922 Q1094.75 105.607 1096.79 104.496 Q1098.85 103.362 1101.69 103.362 Q1106.42 103.362 1109.36 107.112 Q1112.32 110.862 1112.32 116.973 Q1112.32 123.084 1109.36 126.834 Q1106.42 130.584 1101.69 130.584 Q1098.85 130.584 1096.79 129.473 Q1094.75 128.339 1093.41 126.024 M1107.9 116.973 Q1107.9 112.274 1105.95 109.612 Q1104.03 106.927 1100.65 106.927 Q1097.27 106.927 1095.33 109.612 Q1093.41 112.274 1093.41 116.973 Q1093.41 121.672 1095.33 124.357 Q1097.27 127.019 1100.65 127.019 Q1104.03 127.019 1105.95 124.357 Q1107.9 121.672 1107.9 116.973 Z\" fill=\"#000000\" fill-rule=\"nonzero\" fill-opacity=\"1\" /><path clip-path=\"url(#clip390)\" d=\"M1130.17 132.32 Q1128.36 136.95 1126.65 138.362 Q1124.93 139.774 1122.06 139.774 L1118.66 139.774 L1118.66 136.209 L1121.16 136.209 Q1122.92 136.209 1123.89 135.376 Q1124.86 134.542 1126.04 131.44 L1126.81 129.496 L1116.32 103.987 L1120.84 103.987 L1128.94 124.265 L1137.04 103.987 L1141.55 103.987 L1130.17 132.32 Z\" fill=\"#000000\" fill-rule=\"nonzero\" fill-opacity=\"1\" /></svg>\n"
               }
              },
              "systemjs_options": null
             },
             "nodeType": "Scope",
             "props": {},
             "type": "node"
            }
           ],
           "instanceArgs": {
            "namespace": "html",
            "tag": "div"
           },
           "nodeType": "DOM",
           "props": {
            "style": {
             "display": "flex",
             "flex-direction": "column"
            }
           },
           "type": "node"
          }
         ],
         "instanceArgs": {
          "namespace": "html",
          "tag": "div"
         },
         "nodeType": "DOM",
         "props": {
          "style": {
           "display": "flex",
           "flex-direction": "row"
          }
         },
         "type": "node"
        }
       ],
       "instanceArgs": {
        "namespace": "html",
        "tag": "div"
       },
       "nodeType": "DOM",
       "props": {
        "style": {
         "display": "flex",
         "flex-direction": "column"
        }
       },
       "type": "node"
      },
      "text/html": [
       "<div\n",
       "    class=\"webio-mountpoint\"\n",
       "    data-webio-mountpoint=\"16940935644123908267\"\n",
       ">\n",
       "    <script>\n",
       "    (function(){\n",
       "    // Some integrations (namely, IJulia/Jupyter) use an alternate render pathway than\n",
       "    // just putting the html on the page. If WebIO isn't defined, then it's pretty likely\n",
       "    // that we're in one of those situations and the integration just isn't installed\n",
       "    // correctly.\n",
       "    if (typeof window.WebIO === \"undefined\") {\n",
       "        document\n",
       "            .querySelector('[data-webio-mountpoint=\"16940935644123908267\"]')\n",
       "            .innerHTML = (\n",
       "                '<div style=\"padding: 1em; background-color: #f8d6da; border: 1px solid #f5c6cb; font-weight: bold;\">' +\n",
       "                '<p><strong>WebIO not detected.</strong></p>' +\n",
       "                '<p>Please read ' +\n",
       "                '<a href=\"https://juliagizmos.github.io/WebIO.jl/latest/troubleshooting/not-detected/\" target=\"_blank\">the troubleshooting guide</a> ' +\n",
       "                'for more information on how to resolve this issue.</p>' +\n",
       "                '<p><a href=\"https://juliagizmos.github.io/WebIO.jl/latest/troubleshooting/not-detected/\" target=\"_blank\">https://juliagizmos.github.io/WebIO.jl/latest/troubleshooting/not-detected/</a></p>' +\n",
       "                '</div>'\n",
       "            );\n",
       "        return;\n",
       "    }\n",
       "    WebIO.mount(\n",
       "        document.querySelector('[data-webio-mountpoint=\"16940935644123908267\"]'),\n",
       "        {\"props\":{\"style\":{\"display\":\"flex\",\"flex-direction\":\"column\"}},\"nodeType\":\"DOM\",\"type\":\"node\",\"instanceArgs\":{\"namespace\":\"html\",\"tag\":\"div\"},\"children\":[{\"props\":{\"style\":{\"display\":\"flex\",\"flex-direction\":\"row\"}},\"nodeType\":\"DOM\",\"type\":\"node\",\"instanceArgs\":{\"namespace\":\"html\",\"tag\":\"div\"},\"children\":[{\"props\":{\"style\":{\"display\":\"flex\",\"flex-direction\":\"column\"}},\"nodeType\":\"DOM\",\"type\":\"node\",\"instanceArgs\":{\"namespace\":\"html\",\"tag\":\"div\"},\"children\":[{\"props\":{\"className\":\"field interact-widget\"},\"nodeType\":\"DOM\",\"type\":\"node\",\"instanceArgs\":{\"namespace\":\"html\",\"tag\":\"div\"},\"children\":[{\"props\":{},\"nodeType\":\"Scope\",\"type\":\"node\",\"instanceArgs\":{\"imports\":{\"data\":[{\"name\":\"knockout\",\"type\":\"js\",\"url\":\"\\/assetserver\\/727383f2a47bd31570b7da84eee7b022dd6d7c78-knockout.js\"},{\"name\":\"knockout_punches\",\"type\":\"js\",\"url\":\"\\/assetserver\\/382b41b3b1bd9f26f75861d360bad7f8beea211f-knockout_punches.js\"},{\"name\":null,\"type\":\"js\",\"url\":\"\\/assetserver\\/5ab20f1060420992a9b82a65b735dee4d81ef413-all.js\"},{\"name\":null,\"type\":\"css\",\"url\":\"\\/assetserver\\/1cc0ed62837210b80a182cc3676512f895dab686-style.css\"},{\"name\":null,\"type\":\"css\",\"url\":\"\\/assetserver\\/2eee816f616df3549d7044d45e744fbf8d42bfa1-bulma_confined.min.css\"}],\"type\":\"async_block\"},\"id\":\"16724062157979820593\",\"handlers\":{\"changes\":[\"(function (val){return (val!=this.model[\\\"changes\\\"]()) ? (this.valueFromJulia[\\\"changes\\\"]=true, this.model[\\\"changes\\\"](val)) : undefined})\"],\"index\":[\"(function (val){return (val!=this.model[\\\"index\\\"]()) ? (this.valueFromJulia[\\\"index\\\"]=true, this.model[\\\"index\\\"](val)) : undefined})\"]},\"systemjs_options\":null,\"mount_callbacks\":[\"function () {\\n    var handler = (function (ko, koPunches) {\\n    ko.punches.enableAll();\\n    ko.bindingHandlers.numericValue = {\\n        init: function(element, valueAccessor, allBindings, data, context) {\\n            var stringified = ko.observable(ko.unwrap(valueAccessor()));\\n            stringified.subscribe(function(value) {\\n                var val = parseFloat(value);\\n                if (!isNaN(val)) {\\n                    valueAccessor()(val);\\n                }\\n            });\\n            valueAccessor().subscribe(function(value) {\\n                var str = JSON.stringify(value);\\n                if ((str == \\\"0\\\") && ([\\\"-0\\\", \\\"-0.\\\"].indexOf(stringified()) >= 0))\\n                     return;\\n                 if ([\\\"null\\\", \\\"\\\"].indexOf(str) >= 0)\\n                     return;\\n                stringified(str);\\n            });\\n            ko.applyBindingsToNode(\\n                element,\\n                {\\n                    value: stringified,\\n                    valueUpdate: allBindings.get('valueUpdate'),\\n                },\\n                context,\\n            );\\n        }\\n    };\\n    var json_data = {\\\"formatted_vals\\\":[\\\"1\\\",\\\"2\\\",\\\"3\\\",\\\"4\\\",\\\"5\\\",\\\"6\\\",\\\"7\\\",\\\"8\\\",\\\"9\\\",\\\"10\\\",\\\"11\\\",\\\"12\\\",\\\"13\\\",\\\"14\\\",\\\"15\\\",\\\"16\\\",\\\"17\\\",\\\"18\\\",\\\"19\\\",\\\"20\\\"],\\\"changes\\\":WebIO.getval({\\\"name\\\":\\\"changes\\\",\\\"scope\\\":\\\"16724062157979820593\\\",\\\"id\\\":\\\"5904814361389944572\\\",\\\"type\\\":\\\"observable\\\"}),\\\"index\\\":WebIO.getval({\\\"name\\\":\\\"index\\\",\\\"scope\\\":\\\"16724062157979820593\\\",\\\"id\\\":\\\"14556662216660674564\\\",\\\"type\\\":\\\"observable\\\"})};\\n    var self = this;\\n    function AppViewModel() {\\n        for (var key in json_data) {\\n            var el = json_data[key];\\n            this[key] = Array.isArray(el) ? ko.observableArray(el) : ko.observable(el);\\n        }\\n        \\n        [this[\\\"formatted_val\\\"]=ko.computed(    function(){\\n        return this.formatted_vals()[parseInt(this.index())-(1)];\\n    }\\n,this)]\\n        [this[\\\"changes\\\"].subscribe((function (val){!(this.valueFromJulia[\\\"changes\\\"]) ? (WebIO.setval({\\\"name\\\":\\\"changes\\\",\\\"scope\\\":\\\"16724062157979820593\\\",\\\"id\\\":\\\"5904814361389944572\\\",\\\"type\\\":\\\"observable\\\"},val)) : undefined; return this.valueFromJulia[\\\"changes\\\"]=false}),self),this[\\\"index\\\"].subscribe((function (val){!(this.valueFromJulia[\\\"index\\\"]) ? (WebIO.setval({\\\"name\\\":\\\"index\\\",\\\"scope\\\":\\\"16724062157979820593\\\",\\\"id\\\":\\\"14556662216660674564\\\",\\\"type\\\":\\\"observable\\\"},val)) : undefined; return this.valueFromJulia[\\\"index\\\"]=false}),self)]\\n        \\n    }\\n    self.model = new AppViewModel();\\n    self.valueFromJulia = {};\\n    for (var key in json_data) {\\n        self.valueFromJulia[key] = false;\\n    }\\n    ko.applyBindings(self.model, self.dom);\\n}\\n);\\n    (WebIO.importBlock({\\\"data\\\":[{\\\"name\\\":\\\"knockout\\\",\\\"type\\\":\\\"js\\\",\\\"url\\\":\\\"\\/assetserver\\/727383f2a47bd31570b7da84eee7b022dd6d7c78-knockout.js\\\"},{\\\"name\\\":\\\"knockout_punches\\\",\\\"type\\\":\\\"js\\\",\\\"url\\\":\\\"\\/assetserver\\/382b41b3b1bd9f26f75861d360bad7f8beea211f-knockout_punches.js\\\"}],\\\"type\\\":\\\"async_block\\\"})).then((imports) => handler.apply(this, imports));\\n}\\n\"],\"observables\":{\"changes\":{\"sync\":false,\"id\":\"5904814361389944572\",\"value\":0},\"index\":{\"sync\":true,\"id\":\"14556662216660674564\",\"value\":10}}},\"children\":[{\"props\":{\"className\":\"interact-flex-row interact-widget\"},\"nodeType\":\"DOM\",\"type\":\"node\",\"instanceArgs\":{\"namespace\":\"html\",\"tag\":\"div\"},\"children\":[{\"props\":{\"className\":\"interact-flex-row-left\"},\"nodeType\":\"DOM\",\"type\":\"node\",\"instanceArgs\":{\"namespace\":\"html\",\"tag\":\"div\"},\"children\":[{\"props\":{\"className\":\"interact \",\"style\":{\"padding\":\"5px 10px 0px 10px\"}},\"nodeType\":\"DOM\",\"type\":\"node\",\"instanceArgs\":{\"namespace\":\"html\",\"tag\":\"label\"},\"children\":[\"time\"]}]},{\"props\":{\"className\":\"interact-flex-row-center\"},\"nodeType\":\"DOM\",\"type\":\"node\",\"instanceArgs\":{\"namespace\":\"html\",\"tag\":\"div\"},\"children\":[{\"props\":{\"max\":20,\"min\":1,\"attributes\":{\"type\":\"range\",\"data-bind\":\"numericValue: index, valueUpdate: 'input', event: {change: function (){this.changes(this.changes()+1)}}\",\"orient\":\"horizontal\"},\"step\":1,\"className\":\"slider slider is-fullwidth\",\"style\":{}},\"nodeType\":\"DOM\",\"type\":\"node\",\"instanceArgs\":{\"namespace\":\"html\",\"tag\":\"input\"},\"children\":[]}]},{\"props\":{\"className\":\"interact-flex-row-right\"},\"nodeType\":\"DOM\",\"type\":\"node\",\"instanceArgs\":{\"namespace\":\"html\",\"tag\":\"div\"},\"children\":[{\"props\":{\"attributes\":{\"data-bind\":\"text: formatted_val\"}},\"nodeType\":\"DOM\",\"type\":\"node\",\"instanceArgs\":{\"namespace\":\"html\",\"tag\":\"p\"},\"children\":[]}]}]}]}]},{\"props\":{\"className\":\"field interact-widget\"},\"nodeType\":\"DOM\",\"type\":\"node\",\"instanceArgs\":{\"namespace\":\"html\",\"tag\":\"div\"},\"children\":[{\"props\":{},\"nodeType\":\"Scope\",\"type\":\"node\",\"instanceArgs\":{\"imports\":{\"data\":[{\"name\":\"knockout\",\"type\":\"js\",\"url\":\"\\/assetserver\\/727383f2a47bd31570b7da84eee7b022dd6d7c78-knockout.js\"},{\"name\":\"knockout_punches\",\"type\":\"js\",\"url\":\"\\/assetserver\\/382b41b3b1bd9f26f75861d360bad7f8beea211f-knockout_punches.js\"},{\"name\":null,\"type\":\"js\",\"url\":\"\\/assetserver\\/5ab20f1060420992a9b82a65b735dee4d81ef413-all.js\"},{\"name\":null,\"type\":\"css\",\"url\":\"\\/assetserver\\/1cc0ed62837210b80a182cc3676512f895dab686-style.css\"},{\"name\":null,\"type\":\"css\",\"url\":\"\\/assetserver\\/2eee816f616df3549d7044d45e744fbf8d42bfa1-bulma_confined.min.css\"}],\"type\":\"async_block\"},\"id\":\"14347321186204569265\",\"handlers\":{\"changes\":[\"(function (val){return (val!=this.model[\\\"changes\\\"]()) ? (this.valueFromJulia[\\\"changes\\\"]=true, this.model[\\\"changes\\\"](val)) : undefined})\"],\"index\":[\"(function (val){return (val!=this.model[\\\"index\\\"]()) ? (this.valueFromJulia[\\\"index\\\"]=true, this.model[\\\"index\\\"](val)) : undefined})\"]},\"systemjs_options\":null,\"mount_callbacks\":[\"function () {\\n    var handler = (function (ko, koPunches) {\\n    ko.punches.enableAll();\\n    ko.bindingHandlers.numericValue = {\\n        init: function(element, valueAccessor, allBindings, data, context) {\\n            var stringified = ko.observable(ko.unwrap(valueAccessor()));\\n            stringified.subscribe(function(value) {\\n                var val = parseFloat(value);\\n                if (!isNaN(val)) {\\n                    valueAccessor()(val);\\n                }\\n            });\\n            valueAccessor().subscribe(function(value) {\\n                var str = JSON.stringify(value);\\n                if ((str == \\\"0\\\") && ([\\\"-0\\\", \\\"-0.\\\"].indexOf(stringified()) >= 0))\\n                     return;\\n                 if ([\\\"null\\\", \\\"\\\"].indexOf(str) >= 0)\\n                     return;\\n                stringified(str);\\n            });\\n            ko.applyBindingsToNode(\\n                element,\\n                {\\n                    value: stringified,\\n                    valueUpdate: allBindings.get('valueUpdate'),\\n                },\\n                context,\\n            );\\n        }\\n    };\\n    var json_data = {\\\"formatted_vals\\\":[\\\"0.1\\\",\\\"0.2\\\",\\\"0.3\\\",\\\"0.4\\\",\\\"0.5\\\",\\\"0.6\\\",\\\"0.7\\\",\\\"0.8\\\",\\\"0.9\\\",\\\"1.0\\\",\\\"1.1\\\",\\\"1.2\\\",\\\"1.3\\\",\\\"1.4\\\",\\\"1.5\\\",\\\"1.6\\\",\\\"1.7\\\",\\\"1.8\\\",\\\"1.9\\\",\\\"2.0\\\"],\\\"changes\\\":WebIO.getval({\\\"name\\\":\\\"changes\\\",\\\"scope\\\":\\\"14347321186204569265\\\",\\\"id\\\":\\\"17947071698463490899\\\",\\\"type\\\":\\\"observable\\\"}),\\\"index\\\":WebIO.getval({\\\"name\\\":\\\"index\\\",\\\"scope\\\":\\\"14347321186204569265\\\",\\\"id\\\":\\\"12694988147849819909\\\",\\\"type\\\":\\\"observable\\\"})};\\n    var self = this;\\n    function AppViewModel() {\\n        for (var key in json_data) {\\n            var el = json_data[key];\\n            this[key] = Array.isArray(el) ? ko.observableArray(el) : ko.observable(el);\\n        }\\n        \\n        [this[\\\"formatted_val\\\"]=ko.computed(    function(){\\n        return this.formatted_vals()[parseInt(this.index())-(1)];\\n    }\\n,this)]\\n        [this[\\\"changes\\\"].subscribe((function (val){!(this.valueFromJulia[\\\"changes\\\"]) ? (WebIO.setval({\\\"name\\\":\\\"changes\\\",\\\"scope\\\":\\\"14347321186204569265\\\",\\\"id\\\":\\\"17947071698463490899\\\",\\\"type\\\":\\\"observable\\\"},val)) : undefined; return this.valueFromJulia[\\\"changes\\\"]=false}),self),this[\\\"index\\\"].subscribe((function (val){!(this.valueFromJulia[\\\"index\\\"]) ? (WebIO.setval({\\\"name\\\":\\\"index\\\",\\\"scope\\\":\\\"14347321186204569265\\\",\\\"id\\\":\\\"12694988147849819909\\\",\\\"type\\\":\\\"observable\\\"},val)) : undefined; return this.valueFromJulia[\\\"index\\\"]=false}),self)]\\n        \\n    }\\n    self.model = new AppViewModel();\\n    self.valueFromJulia = {};\\n    for (var key in json_data) {\\n        self.valueFromJulia[key] = false;\\n    }\\n    ko.applyBindings(self.model, self.dom);\\n}\\n);\\n    (WebIO.importBlock({\\\"data\\\":[{\\\"name\\\":\\\"knockout\\\",\\\"type\\\":\\\"js\\\",\\\"url\\\":\\\"\\/assetserver\\/727383f2a47bd31570b7da84eee7b022dd6d7c78-knockout.js\\\"},{\\\"name\\\":\\\"knockout_punches\\\",\\\"type\\\":\\\"js\\\",\\\"url\\\":\\\"\\/assetserver\\/382b41b3b1bd9f26f75861d360bad7f8beea211f-knockout_punches.js\\\"}],\\\"type\\\":\\\"async_block\\\"})).then((imports) => handler.apply(this, imports));\\n}\\n\"],\"observables\":{\"changes\":{\"sync\":false,\"id\":\"17947071698463490899\",\"value\":0},\"index\":{\"sync\":true,\"id\":\"12694988147849819909\",\"value\":10}}},\"children\":[{\"props\":{\"className\":\"interact-flex-row interact-widget\"},\"nodeType\":\"DOM\",\"type\":\"node\",\"instanceArgs\":{\"namespace\":\"html\",\"tag\":\"div\"},\"children\":[{\"props\":{\"className\":\"interact-flex-row-left\"},\"nodeType\":\"DOM\",\"type\":\"node\",\"instanceArgs\":{\"namespace\":\"html\",\"tag\":\"div\"},\"children\":[{\"props\":{\"className\":\"interact \",\"style\":{\"padding\":\"5px 10px 0px 10px\"}},\"nodeType\":\"DOM\",\"type\":\"node\",\"instanceArgs\":{\"namespace\":\"html\",\"tag\":\"label\"},\"children\":[\"scale\"]}]},{\"props\":{\"className\":\"interact-flex-row-center\"},\"nodeType\":\"DOM\",\"type\":\"node\",\"instanceArgs\":{\"namespace\":\"html\",\"tag\":\"div\"},\"children\":[{\"props\":{\"max\":20,\"min\":1,\"attributes\":{\"type\":\"range\",\"data-bind\":\"numericValue: index, valueUpdate: 'input', event: {change: function (){this.changes(this.changes()+1)}}\",\"orient\":\"horizontal\"},\"step\":1,\"className\":\"slider slider is-fullwidth\",\"style\":{}},\"nodeType\":\"DOM\",\"type\":\"node\",\"instanceArgs\":{\"namespace\":\"html\",\"tag\":\"input\"},\"children\":[]}]},{\"props\":{\"className\":\"interact-flex-row-right\"},\"nodeType\":\"DOM\",\"type\":\"node\",\"instanceArgs\":{\"namespace\":\"html\",\"tag\":\"div\"},\"children\":[{\"props\":{\"attributes\":{\"data-bind\":\"text: formatted_val\"}},\"nodeType\":\"DOM\",\"type\":\"node\",\"instanceArgs\":{\"namespace\":\"html\",\"tag\":\"p\"},\"children\":[]}]}]}]}]},{\"props\":{\"style\":{\"display\":\"flex\",\"flex-direction\":\"row\"}},\"nodeType\":\"DOM\",\"type\":\"node\",\"instanceArgs\":{\"namespace\":\"html\",\"tag\":\"div\"},\"children\":[{\"props\":{\"className\":\"interact-widget\"},\"nodeType\":\"DOM\",\"type\":\"node\",\"instanceArgs\":{\"namespace\":\"html\",\"tag\":\"div\"},\"children\":[{\"props\":{},\"nodeType\":\"Scope\",\"type\":\"node\",\"instanceArgs\":{\"imports\":{\"data\":[{\"name\":null,\"type\":\"js\",\"url\":\"\\/assetserver\\/dd22ed1bf1896c2748f3fe616ce0b838adc895c1-katex.min.js\"},{\"name\":null,\"type\":\"css\",\"url\":\"\\/assetserver\\/46517a424aa5e6cffc1360d7e0848b601c584ee3-katex.min.css\"}],\"type\":\"async_block\"},\"id\":\"11470368885768925194\",\"handlers\":{\"value\":[\"(function (txt){return this.k.render(txt,this.container)})\"]},\"systemjs_options\":null,\"mount_callbacks\":[\"function () {\\n    var handler = ((function (k){this.k=k; this.container=this.dom.querySelector(\\\"#container\\\"); return k.render(\\\"\\\\\\\\;\\\\\\\\;\\\",this.container)}));\\n    (WebIO.importBlock({\\\"data\\\":[{\\\"name\\\":null,\\\"type\\\":\\\"js\\\",\\\"url\\\":\\\"\\/assetserver\\/dd22ed1bf1896c2748f3fe616ce0b838adc895c1-katex.min.js\\\"},{\\\"name\\\":null,\\\"type\\\":\\\"css\\\",\\\"url\\\":\\\"\\/assetserver\\/46517a424aa5e6cffc1360d7e0848b601c584ee3-katex.min.css\\\"}],\\\"type\\\":\\\"async_block\\\"})).then((imports) => handler.apply(this, imports));\\n}\\n\"],\"observables\":{\"value\":{\"sync\":false,\"id\":\"2565267694883542733\",\"value\":\"\\\\;\\\\;\"}}},\"children\":[{\"props\":{\"id\":\"container\"},\"nodeType\":\"DOM\",\"type\":\"node\",\"instanceArgs\":{\"namespace\":\"html\",\"tag\":\"div\"},\"children\":[]}]}]},{\"props\":{\"className\":\"field interact-widget\"},\"nodeType\":\"DOM\",\"type\":\"node\",\"instanceArgs\":{\"namespace\":\"html\",\"tag\":\"div\"},\"children\":[{\"props\":{},\"nodeType\":\"Scope\",\"type\":\"node\",\"instanceArgs\":{\"imports\":{\"data\":[{\"name\":\"knockout\",\"type\":\"js\",\"url\":\"\\/assetserver\\/727383f2a47bd31570b7da84eee7b022dd6d7c78-knockout.js\"},{\"name\":\"knockout_punches\",\"type\":\"js\",\"url\":\"\\/assetserver\\/382b41b3b1bd9f26f75861d360bad7f8beea211f-knockout_punches.js\"},{\"name\":null,\"type\":\"js\",\"url\":\"\\/assetserver\\/5ab20f1060420992a9b82a65b735dee4d81ef413-all.js\"},{\"name\":null,\"type\":\"css\",\"url\":\"\\/assetserver\\/1cc0ed62837210b80a182cc3676512f895dab686-style.css\"},{\"name\":null,\"type\":\"css\",\"url\":\"\\/assetserver\\/2eee816f616df3549d7044d45e744fbf8d42bfa1-bulma_confined.min.css\"}],\"type\":\"async_block\"},\"id\":\"15382399012593077288\",\"handlers\":{\"loading\":[\"(function (val){return (val!=this.model[\\\"loading\\\"]()) ? (this.valueFromJulia[\\\"loading\\\"]=true, this.model[\\\"loading\\\"](val)) : undefined})\"],\"clicks\":[\"(function (val){return (val!=this.model[\\\"clicks\\\"]()) ? (this.valueFromJulia[\\\"clicks\\\"]=true, this.model[\\\"clicks\\\"](val)) : undefined})\"]},\"systemjs_options\":null,\"mount_callbacks\":[\"function () {\\n    var handler = (function (ko, koPunches) {\\n    ko.punches.enableAll();\\n    ko.bindingHandlers.numericValue = {\\n        init: function(element, valueAccessor, allBindings, data, context) {\\n            var stringified = ko.observable(ko.unwrap(valueAccessor()));\\n            stringified.subscribe(function(value) {\\n                var val = parseFloat(value);\\n                if (!isNaN(val)) {\\n                    valueAccessor()(val);\\n                }\\n            });\\n            valueAccessor().subscribe(function(value) {\\n                var str = JSON.stringify(value);\\n                if ((str == \\\"0\\\") && ([\\\"-0\\\", \\\"-0.\\\"].indexOf(stringified()) >= 0))\\n                     return;\\n                 if ([\\\"null\\\", \\\"\\\"].indexOf(str) >= 0)\\n                     return;\\n                stringified(str);\\n            });\\n            ko.applyBindingsToNode(\\n                element,\\n                {\\n                    value: stringified,\\n                    valueUpdate: allBindings.get('valueUpdate'),\\n                },\\n                context,\\n            );\\n        }\\n    };\\n    var json_data = {\\\"loading\\\":WebIO.getval({\\\"name\\\":\\\"loading\\\",\\\"scope\\\":\\\"15382399012593077288\\\",\\\"id\\\":\\\"15311643199540400389\\\",\\\"type\\\":\\\"observable\\\"}),\\\"clicks\\\":WebIO.getval({\\\"name\\\":\\\"clicks\\\",\\\"scope\\\":\\\"15382399012593077288\\\",\\\"id\\\":\\\"6942373399207477761\\\",\\\"type\\\":\\\"observable\\\"})};\\n    var self = this;\\n    function AppViewModel() {\\n        for (var key in json_data) {\\n            var el = json_data[key];\\n            this[key] = Array.isArray(el) ? ko.observableArray(el) : ko.observable(el);\\n        }\\n        \\n        \\n        [this[\\\"loading\\\"].subscribe((function (val){!(this.valueFromJulia[\\\"loading\\\"]) ? (WebIO.setval({\\\"name\\\":\\\"loading\\\",\\\"scope\\\":\\\"15382399012593077288\\\",\\\"id\\\":\\\"15311643199540400389\\\",\\\"type\\\":\\\"observable\\\"},val)) : undefined; return this.valueFromJulia[\\\"loading\\\"]=false}),self),this[\\\"clicks\\\"].subscribe((function (val){!(this.valueFromJulia[\\\"clicks\\\"]) ? (WebIO.setval({\\\"name\\\":\\\"clicks\\\",\\\"scope\\\":\\\"15382399012593077288\\\",\\\"id\\\":\\\"6942373399207477761\\\",\\\"type\\\":\\\"observable\\\"},val)) : undefined; return this.valueFromJulia[\\\"clicks\\\"]=false}),self)]\\n        \\n    }\\n    self.model = new AppViewModel();\\n    self.valueFromJulia = {};\\n    for (var key in json_data) {\\n        self.valueFromJulia[key] = false;\\n    }\\n    ko.applyBindings(self.model, self.dom);\\n}\\n);\\n    (WebIO.importBlock({\\\"data\\\":[{\\\"name\\\":\\\"knockout\\\",\\\"type\\\":\\\"js\\\",\\\"url\\\":\\\"\\/assetserver\\/727383f2a47bd31570b7da84eee7b022dd6d7c78-knockout.js\\\"},{\\\"name\\\":\\\"knockout_punches\\\",\\\"type\\\":\\\"js\\\",\\\"url\\\":\\\"\\/assetserver\\/382b41b3b1bd9f26f75861d360bad7f8beea211f-knockout_punches.js\\\"}],\\\"type\\\":\\\"async_block\\\"})).then((imports) => handler.apply(this, imports));\\n}\\n\"],\"observables\":{\"loading\":{\"sync\":false,\"id\":\"15311643199540400389\",\"value\":false},\"clicks\":{\"sync\":true,\"id\":\"6942373399207477761\",\"value\":0}}},\"children\":[{\"props\":{\"attributes\":{\"data-bind\":\"click: function (){this.clicks(this.clicks()+1)}, css: {'is-loading' : loading}\"},\"className\":\"is-medium button is-primary\",\"style\":{}},\"nodeType\":\"DOM\",\"type\":\"node\",\"instanceArgs\":{\"namespace\":\"html\",\"tag\":\"button\"},\"children\":[\"run\"]}]}]},{\"props\":{\"className\":\"interact-widget\"},\"nodeType\":\"DOM\",\"type\":\"node\",\"instanceArgs\":{\"namespace\":\"html\",\"tag\":\"div\"},\"children\":[{\"props\":{},\"nodeType\":\"Scope\",\"type\":\"node\",\"instanceArgs\":{\"imports\":{\"data\":[{\"name\":null,\"type\":\"js\",\"url\":\"\\/assetserver\\/dd22ed1bf1896c2748f3fe616ce0b838adc895c1-katex.min.js\"},{\"name\":null,\"type\":\"css\",\"url\":\"\\/assetserver\\/46517a424aa5e6cffc1360d7e0848b601c584ee3-katex.min.css\"}],\"type\":\"async_block\"},\"id\":\"11470368885768925194\",\"handlers\":{\"value\":[\"(function (txt){return this.k.render(txt,this.container)})\"]},\"systemjs_options\":null,\"mount_callbacks\":[\"function () {\\n    var handler = ((function (k){this.k=k; this.container=this.dom.querySelector(\\\"#container\\\"); return k.render(\\\"\\\\\\\\;\\\\\\\\;\\\",this.container)}));\\n    (WebIO.importBlock({\\\"data\\\":[{\\\"name\\\":null,\\\"type\\\":\\\"js\\\",\\\"url\\\":\\\"\\/assetserver\\/dd22ed1bf1896c2748f3fe616ce0b838adc895c1-katex.min.js\\\"},{\\\"name\\\":null,\\\"type\\\":\\\"css\\\",\\\"url\\\":\\\"\\/assetserver\\/46517a424aa5e6cffc1360d7e0848b601c584ee3-katex.min.css\\\"}],\\\"type\\\":\\\"async_block\\\"})).then((imports) => handler.apply(this, imports));\\n}\\n\"],\"observables\":{\"value\":{\"sync\":false,\"id\":\"2565267694883542733\",\"value\":\"\\\\;\\\\;\"}}},\"children\":[{\"props\":{\"id\":\"container\"},\"nodeType\":\"DOM\",\"type\":\"node\",\"instanceArgs\":{\"namespace\":\"html\",\"tag\":\"div\"},\"children\":[]}]}]},{\"props\":{\"className\":\"field interact-widget\"},\"nodeType\":\"DOM\",\"type\":\"node\",\"instanceArgs\":{\"namespace\":\"html\",\"tag\":\"div\"},\"children\":[{\"props\":{},\"nodeType\":\"Scope\",\"type\":\"node\",\"instanceArgs\":{\"imports\":{\"data\":[{\"name\":\"knockout\",\"type\":\"js\",\"url\":\"\\/assetserver\\/727383f2a47bd31570b7da84eee7b022dd6d7c78-knockout.js\"},{\"name\":\"knockout_punches\",\"type\":\"js\",\"url\":\"\\/assetserver\\/382b41b3b1bd9f26f75861d360bad7f8beea211f-knockout_punches.js\"},{\"name\":null,\"type\":\"js\",\"url\":\"\\/assetserver\\/5ab20f1060420992a9b82a65b735dee4d81ef413-all.js\"},{\"name\":null,\"type\":\"css\",\"url\":\"\\/assetserver\\/1cc0ed62837210b80a182cc3676512f895dab686-style.css\"},{\"name\":null,\"type\":\"css\",\"url\":\"\\/assetserver\\/2eee816f616df3549d7044d45e744fbf8d42bfa1-bulma_confined.min.css\"}],\"type\":\"async_block\"},\"id\":\"8906695182922668680\",\"handlers\":{\"loading\":[\"(function (val){return (val!=this.model[\\\"loading\\\"]()) ? (this.valueFromJulia[\\\"loading\\\"]=true, this.model[\\\"loading\\\"](val)) : undefined})\"],\"clicks\":[\"(function (val){return (val!=this.model[\\\"clicks\\\"]()) ? (this.valueFromJulia[\\\"clicks\\\"]=true, this.model[\\\"clicks\\\"](val)) : undefined})\"]},\"systemjs_options\":null,\"mount_callbacks\":[\"function () {\\n    var handler = (function (ko, koPunches) {\\n    ko.punches.enableAll();\\n    ko.bindingHandlers.numericValue = {\\n        init: function(element, valueAccessor, allBindings, data, context) {\\n            var stringified = ko.observable(ko.unwrap(valueAccessor()));\\n            stringified.subscribe(function(value) {\\n                var val = parseFloat(value);\\n                if (!isNaN(val)) {\\n                    valueAccessor()(val);\\n                }\\n            });\\n            valueAccessor().subscribe(function(value) {\\n                var str = JSON.stringify(value);\\n                if ((str == \\\"0\\\") && ([\\\"-0\\\", \\\"-0.\\\"].indexOf(stringified()) >= 0))\\n                     return;\\n                 if ([\\\"null\\\", \\\"\\\"].indexOf(str) >= 0)\\n                     return;\\n                stringified(str);\\n            });\\n            ko.applyBindingsToNode(\\n                element,\\n                {\\n                    value: stringified,\\n                    valueUpdate: allBindings.get('valueUpdate'),\\n                },\\n                context,\\n            );\\n        }\\n    };\\n    var json_data = {\\\"loading\\\":WebIO.getval({\\\"name\\\":\\\"loading\\\",\\\"scope\\\":\\\"8906695182922668680\\\",\\\"id\\\":\\\"15081707701396464549\\\",\\\"type\\\":\\\"observable\\\"}),\\\"clicks\\\":WebIO.getval({\\\"name\\\":\\\"clicks\\\",\\\"scope\\\":\\\"8906695182922668680\\\",\\\"id\\\":\\\"9020066224042481588\\\",\\\"type\\\":\\\"observable\\\"})};\\n    var self = this;\\n    function AppViewModel() {\\n        for (var key in json_data) {\\n            var el = json_data[key];\\n            this[key] = Array.isArray(el) ? ko.observableArray(el) : ko.observable(el);\\n        }\\n        \\n        \\n        [this[\\\"loading\\\"].subscribe((function (val){!(this.valueFromJulia[\\\"loading\\\"]) ? (WebIO.setval({\\\"name\\\":\\\"loading\\\",\\\"scope\\\":\\\"8906695182922668680\\\",\\\"id\\\":\\\"15081707701396464549\\\",\\\"type\\\":\\\"observable\\\"},val)) : undefined; return this.valueFromJulia[\\\"loading\\\"]=false}),self),this[\\\"clicks\\\"].subscribe((function (val){!(this.valueFromJulia[\\\"clicks\\\"]) ? (WebIO.setval({\\\"name\\\":\\\"clicks\\\",\\\"scope\\\":\\\"8906695182922668680\\\",\\\"id\\\":\\\"9020066224042481588\\\",\\\"type\\\":\\\"observable\\\"},val)) : undefined; return this.valueFromJulia[\\\"clicks\\\"]=false}),self)]\\n        \\n    }\\n    self.model = new AppViewModel();\\n    self.valueFromJulia = {};\\n    for (var key in json_data) {\\n        self.valueFromJulia[key] = false;\\n    }\\n    ko.applyBindings(self.model, self.dom);\\n}\\n);\\n    (WebIO.importBlock({\\\"data\\\":[{\\\"name\\\":\\\"knockout\\\",\\\"type\\\":\\\"js\\\",\\\"url\\\":\\\"\\/assetserver\\/727383f2a47bd31570b7da84eee7b022dd6d7c78-knockout.js\\\"},{\\\"name\\\":\\\"knockout_punches\\\",\\\"type\\\":\\\"js\\\",\\\"url\\\":\\\"\\/assetserver\\/382b41b3b1bd9f26f75861d360bad7f8beea211f-knockout_punches.js\\\"}],\\\"type\\\":\\\"async_block\\\"})).then((imports) => handler.apply(this, imports));\\n}\\n\"],\"observables\":{\"loading\":{\"sync\":false,\"id\":\"15081707701396464549\",\"value\":false},\"clicks\":{\"sync\":true,\"id\":\"9020066224042481588\",\"value\":0}}},\"children\":[{\"props\":{\"attributes\":{\"data-bind\":\"click: function (){this.clicks(this.clicks()+1)}, css: {'is-loading' : loading}\"},\"className\":\"is-medium button is-primary\",\"style\":{}},\"nodeType\":\"DOM\",\"type\":\"node\",\"instanceArgs\":{\"namespace\":\"html\",\"tag\":\"button\"},\"children\":[\"stop\"]}]}]}]}]},{\"props\":{},\"nodeType\":\"Scope\",\"type\":\"node\",\"instanceArgs\":{\"imports\":{\"data\":[],\"type\":\"async_block\"},\"id\":\"6161260921458437670\",\"handlers\":{\"obs-output\":[\"function (value, scope) {\\n    scope.setInnerHTML(value);\\n}\\n\"]},\"systemjs_options\":null,\"mount_callbacks\":[],\"observables\":{\"obs-output\":{\"sync\":false,\"id\":\"8003964917990912414\",\"value\":\"    <div style=\\\"height: 500px; width: 100%; overflow-x: auto; overflow-y: hidden; resize: both\\\">\\n    <iframe src=\\\"http:\\/\\/127.0.0.1:8702\\\" style=\\\"width: 100%; height: 100%; border: none\\\"><\\/iframe>\\n    <\\/div>\\n\"}}},\"children\":[{\"props\":{\"className\":\"webio-observable\",\"setInnerHtml\":\"    <div style=\\\"height: 500px; width: 100%; overflow-x: auto; overflow-y: hidden; resize: both\\\">\\n    <iframe src=\\\"http:\\/\\/127.0.0.1:8702\\\" style=\\\"width: 100%; height: 100%; border: none\\\"><\\/iframe>\\n    <\\/div>\\n\"},\"nodeType\":\"DOM\",\"type\":\"node\",\"instanceArgs\":{\"namespace\":\"html\",\"tag\":\"div\"},\"children\":[]}]},{\"props\":{\"className\":\"interact-widget\"},\"nodeType\":\"DOM\",\"type\":\"node\",\"instanceArgs\":{\"namespace\":\"html\",\"tag\":\"div\"},\"children\":[{\"props\":{},\"nodeType\":\"Scope\",\"type\":\"node\",\"instanceArgs\":{\"imports\":{\"data\":[{\"name\":null,\"type\":\"js\",\"url\":\"\\/assetserver\\/dd22ed1bf1896c2748f3fe616ce0b838adc895c1-katex.min.js\"},{\"name\":null,\"type\":\"css\",\"url\":\"\\/assetserver\\/46517a424aa5e6cffc1360d7e0848b601c584ee3-katex.min.css\"}],\"type\":\"async_block\"},\"id\":\"11470368885768925194\",\"handlers\":{\"value\":[\"(function (txt){return this.k.render(txt,this.container)})\"]},\"systemjs_options\":null,\"mount_callbacks\":[\"function () {\\n    var handler = ((function (k){this.k=k; this.container=this.dom.querySelector(\\\"#container\\\"); return k.render(\\\"\\\\\\\\;\\\\\\\\;\\\",this.container)}));\\n    (WebIO.importBlock({\\\"data\\\":[{\\\"name\\\":null,\\\"type\\\":\\\"js\\\",\\\"url\\\":\\\"\\/assetserver\\/dd22ed1bf1896c2748f3fe616ce0b838adc895c1-katex.min.js\\\"},{\\\"name\\\":null,\\\"type\\\":\\\"css\\\",\\\"url\\\":\\\"\\/assetserver\\/46517a424aa5e6cffc1360d7e0848b601c584ee3-katex.min.css\\\"}],\\\"type\\\":\\\"async_block\\\"})).then((imports) => handler.apply(this, imports));\\n}\\n\"],\"observables\":{\"value\":{\"sync\":false,\"id\":\"2565267694883542733\",\"value\":\"\\\\;\\\\;\"}}},\"children\":[{\"props\":{\"id\":\"container\"},\"nodeType\":\"DOM\",\"type\":\"node\",\"instanceArgs\":{\"namespace\":\"html\",\"tag\":\"div\"},\"children\":[]}]}]},{\"props\":{\"style\":{\"display\":\"flex\",\"flex-direction\":\"column\"}},\"nodeType\":\"DOM\",\"type\":\"node\",\"instanceArgs\":{\"namespace\":\"html\",\"tag\":\"div\"},\"children\":[{\"props\":{},\"nodeType\":\"Scope\",\"type\":\"node\",\"instanceArgs\":{\"imports\":{\"data\":[],\"type\":\"async_block\"},\"id\":\"9423354808388271936\",\"handlers\":{\"obs-output\":[\"function (value, scope) {\\n    scope.setInnerHTML(value);\\n}\\n\"]},\"systemjs_options\":null,\"mount_callbacks\":[],\"observables\":{\"obs-output\":{\"sync\":false,\"id\":\"3416303443391581679\",\"value\":\"<?xml version=\\\"1.0\\\" encoding=\\\"utf-8\\\"?>\\n<svg xmlns=\\\"http:\\/\\/www.w3.org\\/2000\\/svg\\\" xmlns:xlink=\\\"http:\\/\\/www.w3.org\\/1999\\/xlink\\\" width=\\\"300\\\" height=\\\"150\\\" viewBox=\\\"0 0 1200 600\\\">\\n<defs>\\n  <clipPath id=\\\"clip310\\\">\\n    <rect x=\\\"0\\\" y=\\\"0\\\" width=\\\"1200\\\" height=\\\"600\\\"\\/>\\n  <\\/clipPath>\\n<\\/defs>\\n<path clip-path=\\\"url(#clip310)\\\" d=\\\"M0 600 L1200 600 L1200 0 L0 0  Z\\\" fill=\\\"#ffffff\\\" fill-rule=\\\"evenodd\\\" fill-opacity=\\\"1\\\"\\/>\\n<defs>\\n  <clipPath id=\\\"clip311\\\">\\n    <rect x=\\\"240\\\" y=\\\"0\\\" width=\\\"841\\\" height=\\\"600\\\"\\/>\\n  <\\/clipPath>\\n<\\/defs>\\n<path clip-path=\\\"url(#clip310)\\\" d=\\\"M144.598 453.7 L876.715 453.7 L876.715 47.2441 L144.598 47.2441  Z\\\" fill=\\\"#ffffff\\\" fill-rule=\\\"evenodd\\\" fill-opacity=\\\"1\\\"\\/>\\n<defs>\\n  <clipPath id=\\\"clip312\\\">\\n    <rect x=\\\"144\\\" y=\\\"47\\\" width=\\\"733\\\" height=\\\"407\\\"\\/>\\n  <\\/clipPath>\\n<\\/defs>\\n<polyline clip-path=\\\"url(#clip312)\\\" style=\\\"stroke:#000000; stroke-linecap:round; stroke-linejoin:round; stroke-width:2; stroke-opacity:0.1; fill:none\\\" points=\\\"242.06,453.7 242.06,47.2441 \\\"\\/>\\n<polyline clip-path=\\\"url(#clip312)\\\" style=\\\"stroke:#000000; stroke-linecap:round; stroke-linejoin:round; stroke-width:2; stroke-opacity:0.1; fill:none\\\" points=\\\"395.544,453.7 395.544,47.2441 \\\"\\/>\\n<polyline clip-path=\\\"url(#clip312)\\\" style=\\\"stroke:#000000; stroke-linecap:round; stroke-linejoin:round; stroke-width:2; stroke-opacity:0.1; fill:none\\\" points=\\\"549.028,453.7 549.028,47.2441 \\\"\\/>\\n<polyline clip-path=\\\"url(#clip312)\\\" style=\\\"stroke:#000000; stroke-linecap:round; stroke-linejoin:round; stroke-width:2; stroke-opacity:0.1; fill:none\\\" points=\\\"702.511,453.7 702.511,47.2441 \\\"\\/>\\n<polyline clip-path=\\\"url(#clip312)\\\" style=\\\"stroke:#000000; stroke-linecap:round; stroke-linejoin:round; stroke-width:2; stroke-opacity:0.1; fill:none\\\" points=\\\"855.995,453.7 855.995,47.2441 \\\"\\/>\\n<polyline clip-path=\\\"url(#clip310)\\\" style=\\\"stroke:#000000; stroke-linecap:round; stroke-linejoin:round; stroke-width:4; stroke-opacity:1; fill:none\\\" points=\\\"144.598,453.7 876.715,453.7 \\\"\\/>\\n<polyline clip-path=\\\"url(#clip310)\\\" style=\\\"stroke:#000000; stroke-linecap:round; stroke-linejoin:round; stroke-width:4; stroke-opacity:1; fill:none\\\" points=\\\"242.06,453.7 242.06,434.802 \\\"\\/>\\n<polyline clip-path=\\\"url(#clip310)\\\" style=\\\"stroke:#000000; stroke-linecap:round; stroke-linejoin:round; stroke-width:4; stroke-opacity:1; fill:none\\\" points=\\\"395.544,453.7 395.544,434.802 \\\"\\/>\\n<polyline clip-path=\\\"url(#clip310)\\\" style=\\\"stroke:#000000; stroke-linecap:round; stroke-linejoin:round; stroke-width:4; stroke-opacity:1; fill:none\\\" points=\\\"549.028,453.7 549.028,434.802 \\\"\\/>\\n<polyline clip-path=\\\"url(#clip310)\\\" style=\\\"stroke:#000000; stroke-linecap:round; stroke-linejoin:round; stroke-width:4; stroke-opacity:1; fill:none\\\" points=\\\"702.511,453.7 702.511,434.802 \\\"\\/>\\n<polyline clip-path=\\\"url(#clip310)\\\" style=\\\"stroke:#000000; stroke-linecap:round; stroke-linejoin:round; stroke-width:4; stroke-opacity:1; fill:none\\\" points=\\\"855.995,453.7 855.995,434.802 \\\"\\/>\\n<path clip-path=\\\"url(#clip310)\\\" d=\\\"M236.713 502.565 L253.033 502.565 L253.033 506.5 L231.088 506.5 L231.088 502.565 Q233.75 499.81 238.334 495.18 Q242.94 490.528 244.121 489.185 Q246.366 486.662 247.246 484.926 Q248.148 483.167 248.148 481.477 Q248.148 478.722 246.204 476.986 Q244.283 475.25 241.181 475.25 Q238.982 475.25 236.528 476.014 Q234.097 476.778 231.32 478.329 L231.32 473.607 Q234.144 472.472 236.597 471.894 Q239.051 471.315 241.088 471.315 Q246.458 471.315 249.653 474 Q252.847 476.685 252.847 481.176 Q252.847 483.306 252.037 485.227 Q251.25 487.125 249.144 489.718 Q248.565 490.389 245.463 493.606 Q242.361 496.801 236.713 502.565 Z\\\" fill=\\\"#000000\\\" fill-rule=\\\"nonzero\\\" fill-opacity=\\\"1\\\" \\/><path clip-path=\\\"url(#clip310)\\\" d=\\\"M398.553 476.014 L386.748 494.463 L398.553 494.463 L398.553 476.014 M397.326 471.94 L403.206 471.94 L403.206 494.463 L408.137 494.463 L408.137 498.352 L403.206 498.352 L403.206 506.5 L398.553 506.5 L398.553 498.352 L382.951 498.352 L382.951 493.838 L397.326 471.94 Z\\\" fill=\\\"#000000\\\" fill-rule=\\\"nonzero\\\" fill-opacity=\\\"1\\\" \\/><path clip-path=\\\"url(#clip310)\\\" d=\\\"M549.433 487.356 Q546.285 487.356 544.433 489.509 Q542.604 491.662 542.604 495.412 Q542.604 499.139 544.433 501.315 Q546.285 503.467 549.433 503.467 Q552.581 503.467 554.41 501.315 Q556.261 499.139 556.261 495.412 Q556.261 491.662 554.41 489.509 Q552.581 487.356 549.433 487.356 M558.715 472.704 L558.715 476.963 Q556.956 476.13 555.15 475.69 Q553.368 475.25 551.609 475.25 Q546.979 475.25 544.525 478.375 Q542.095 481.5 541.748 487.819 Q543.113 485.806 545.174 484.741 Q547.234 483.653 549.711 483.653 Q554.919 483.653 557.928 486.824 Q560.96 489.972 560.96 495.412 Q560.96 500.736 557.812 503.954 Q554.664 507.171 549.433 507.171 Q543.437 507.171 540.266 502.588 Q537.095 497.981 537.095 489.255 Q537.095 481.06 540.984 476.199 Q544.873 471.315 551.423 471.315 Q553.183 471.315 554.965 471.662 Q556.771 472.009 558.715 472.704 Z\\\" fill=\\\"#000000\\\" fill-rule=\\\"nonzero\\\" fill-opacity=\\\"1\\\" \\/><path clip-path=\\\"url(#clip310)\\\" d=\\\"M702.511 490.088 Q699.178 490.088 697.257 491.87 Q695.359 493.653 695.359 496.778 Q695.359 499.903 697.257 501.685 Q699.178 503.467 702.511 503.467 Q705.845 503.467 707.766 501.685 Q709.687 499.88 709.687 496.778 Q709.687 493.653 707.766 491.87 Q705.868 490.088 702.511 490.088 M697.835 488.097 Q694.826 487.356 693.136 485.296 Q691.47 483.236 691.47 480.273 Q691.47 476.13 694.41 473.722 Q697.372 471.315 702.511 471.315 Q707.673 471.315 710.613 473.722 Q713.553 476.13 713.553 480.273 Q713.553 483.236 711.863 485.296 Q710.196 487.356 707.21 488.097 Q710.59 488.884 712.465 491.176 Q714.363 493.468 714.363 496.778 Q714.363 501.801 711.284 504.486 Q708.229 507.171 702.511 507.171 Q696.794 507.171 693.715 504.486 Q690.66 501.801 690.66 496.778 Q690.66 493.468 692.558 491.176 Q694.456 488.884 697.835 488.097 M696.122 480.713 Q696.122 483.398 697.789 484.903 Q699.479 486.407 702.511 486.407 Q705.521 486.407 707.21 484.903 Q708.923 483.398 708.923 480.713 Q708.923 478.028 707.21 476.523 Q705.521 475.019 702.511 475.019 Q699.479 475.019 697.789 476.523 Q696.122 478.028 696.122 480.713 Z\\\" fill=\\\"#000000\\\" fill-rule=\\\"nonzero\\\" fill-opacity=\\\"1\\\" \\/><path clip-path=\\\"url(#clip310)\\\" d=\\\"M830.683 502.565 L838.321 502.565 L838.321 476.199 L830.011 477.866 L830.011 473.607 L838.275 471.94 L842.951 471.94 L842.951 502.565 L850.59 502.565 L850.59 506.5 L830.683 506.5 L830.683 502.565 Z\\\" fill=\\\"#000000\\\" fill-rule=\\\"nonzero\\\" fill-opacity=\\\"1\\\" \\/><path clip-path=\\\"url(#clip310)\\\" d=\\\"M870.034 475.019 Q866.423 475.019 864.594 478.583 Q862.789 482.125 862.789 489.255 Q862.789 496.361 864.594 499.926 Q866.423 503.467 870.034 503.467 Q873.668 503.467 875.474 499.926 Q877.303 496.361 877.303 489.255 Q877.303 482.125 875.474 478.583 Q873.668 475.019 870.034 475.019 M870.034 471.315 Q875.844 471.315 878.9 475.921 Q881.979 480.505 881.979 489.255 Q881.979 497.981 878.9 502.588 Q875.844 507.171 870.034 507.171 Q864.224 507.171 861.145 502.588 Q858.09 497.981 858.09 489.255 Q858.09 480.505 861.145 475.921 Q864.224 471.315 870.034 471.315 Z\\\" fill=\\\"#000000\\\" fill-rule=\\\"nonzero\\\" fill-opacity=\\\"1\\\" \\/><path clip-path=\\\"url(#clip310)\\\" d=\\\"M447.7 534.794 L447.7 544.916 L459.763 544.916 L459.763 549.467 L447.7 549.467 L447.7 568.819 Q447.7 573.18 448.878 574.421 Q450.087 575.662 453.747 575.662 L459.763 575.662 L459.763 580.564 L453.747 580.564 Q446.968 580.564 444.39 578.049 Q441.812 575.503 441.812 568.819 L441.812 549.467 L437.515 549.467 L437.515 544.916 L441.812 544.916 L441.812 534.794 L447.7 534.794 Z\\\" fill=\\\"#000000\\\" fill-rule=\\\"nonzero\\\" fill-opacity=\\\"1\\\" \\/><path clip-path=\\\"url(#clip310)\\\" d=\\\"M467.465 544.916 L473.322 544.916 L473.322 580.564 L467.465 580.564 L467.465 544.916 M467.465 531.039 L473.322 531.039 L473.322 538.455 L467.465 538.455 L467.465 531.039 Z\\\" fill=\\\"#000000\\\" fill-rule=\\\"nonzero\\\" fill-opacity=\\\"1\\\" \\/><path clip-path=\\\"url(#clip310)\\\" d=\\\"M511.23 546.285 L511.23 551.759 Q508.747 550.39 506.233 549.722 Q503.75 549.022 501.204 549.022 Q495.506 549.022 492.355 552.65 Q489.204 556.247 489.204 562.772 Q489.204 569.297 492.355 572.925 Q495.506 576.522 501.204 576.522 Q503.75 576.522 506.233 575.853 Q508.747 575.153 511.23 573.784 L511.23 579.195 Q508.779 580.341 506.137 580.914 Q503.527 581.487 500.567 581.487 Q492.514 581.487 487.772 576.426 Q483.03 571.365 483.03 562.772 Q483.03 554.051 487.804 549.054 Q492.61 544.057 500.949 544.057 Q503.654 544.057 506.233 544.629 Q508.811 545.171 511.23 546.285 Z\\\" fill=\\\"#000000\\\" fill-rule=\\\"nonzero\\\" fill-opacity=\\\"1\\\" \\/><path clip-path=\\\"url(#clip310)\\\" d=\\\"M521.192 531.039 L527.08 531.039 L527.08 560.289 L544.554 544.916 L552.034 544.916 L533.128 561.594 L552.83 580.564 L545.191 580.564 L527.08 563.154 L527.08 580.564 L521.192 580.564 L521.192 531.039 Z\\\" fill=\\\"#000000\\\" fill-rule=\\\"nonzero\\\" fill-opacity=\\\"1\\\" \\/><path clip-path=\\\"url(#clip310)\\\" d=\\\"M581.889 545.966 L581.889 551.504 Q579.406 550.231 576.733 549.595 Q574.059 548.958 571.195 548.958 Q566.834 548.958 564.638 550.295 Q562.474 551.632 562.474 554.305 Q562.474 556.342 564.033 557.52 Q565.593 558.666 570.303 559.716 L572.309 560.162 Q578.547 561.499 581.157 563.949 Q583.799 566.368 583.799 570.729 Q583.799 575.694 579.852 578.59 Q575.937 581.487 569.062 581.487 Q566.198 581.487 563.078 580.914 Q559.991 580.373 556.553 579.259 L556.553 573.211 Q559.8 574.898 562.951 575.758 Q566.102 576.585 569.189 576.585 Q573.327 576.585 575.555 575.185 Q577.783 573.753 577.783 571.174 Q577.783 568.787 576.16 567.514 Q574.568 566.241 569.126 565.063 L567.089 564.586 Q561.646 563.44 559.227 561.085 Q556.808 558.698 556.808 554.56 Q556.808 549.531 560.373 546.794 Q563.938 544.057 570.494 544.057 Q573.741 544.057 576.605 544.534 Q579.47 545.011 581.889 545.966 Z\\\" fill=\\\"#000000\\\" fill-rule=\\\"nonzero\\\" fill-opacity=\\\"1\\\" \\/><polyline clip-path=\\\"url(#clip312)\\\" style=\\\"stroke:#000000; stroke-linecap:round; stroke-linejoin:round; stroke-width:2; stroke-opacity:0.1; fill:none\\\" points=\\\"144.598,392.503 876.715,392.503 \\\"\\/>\\n<polyline clip-path=\\\"url(#clip312)\\\" style=\\\"stroke:#000000; stroke-linecap:round; stroke-linejoin:round; stroke-width:2; stroke-opacity:0.1; fill:none\\\" points=\\\"144.598,326.244 876.715,326.244 \\\"\\/>\\n<polyline clip-path=\\\"url(#clip312)\\\" style=\\\"stroke:#000000; stroke-linecap:round; stroke-linejoin:round; stroke-width:2; stroke-opacity:0.1; fill:none\\\" points=\\\"144.598,259.986 876.715,259.986 \\\"\\/>\\n<polyline clip-path=\\\"url(#clip312)\\\" style=\\\"stroke:#000000; stroke-linecap:round; stroke-linejoin:round; stroke-width:2; stroke-opacity:0.1; fill:none\\\" points=\\\"144.598,193.728 876.715,193.728 \\\"\\/>\\n<polyline clip-path=\\\"url(#clip312)\\\" style=\\\"stroke:#000000; stroke-linecap:round; stroke-linejoin:round; stroke-width:2; stroke-opacity:0.1; fill:none\\\" points=\\\"144.598,127.469 876.715,127.469 \\\"\\/>\\n<polyline clip-path=\\\"url(#clip312)\\\" style=\\\"stroke:#000000; stroke-linecap:round; stroke-linejoin:round; stroke-width:2; stroke-opacity:0.1; fill:none\\\" points=\\\"144.598,61.2112 876.715,61.2112 \\\"\\/>\\n<polyline clip-path=\\\"url(#clip310)\\\" style=\\\"stroke:#000000; stroke-linecap:round; stroke-linejoin:round; stroke-width:4; stroke-opacity:1; fill:none\\\" points=\\\"144.598,453.7 144.598,47.2441 \\\"\\/>\\n<polyline clip-path=\\\"url(#clip310)\\\" style=\\\"stroke:#000000; stroke-linecap:round; stroke-linejoin:round; stroke-width:4; stroke-opacity:1; fill:none\\\" points=\\\"144.598,392.503 158.322,392.503 \\\"\\/>\\n<polyline clip-path=\\\"url(#clip310)\\\" style=\\\"stroke:#000000; stroke-linecap:round; stroke-linejoin:round; stroke-width:4; stroke-opacity:1; fill:none\\\" points=\\\"144.598,326.244 158.322,326.244 \\\"\\/>\\n<polyline clip-path=\\\"url(#clip310)\\\" style=\\\"stroke:#000000; stroke-linecap:round; stroke-linejoin:round; stroke-width:4; stroke-opacity:1; fill:none\\\" points=\\\"144.598,259.986 158.322,259.986 \\\"\\/>\\n<polyline clip-path=\\\"url(#clip310)\\\" style=\\\"stroke:#000000; stroke-linecap:round; stroke-linejoin:round; stroke-width:4; stroke-opacity:1; fill:none\\\" points=\\\"144.598,193.728 158.322,193.728 \\\"\\/>\\n<polyline clip-path=\\\"url(#clip310)\\\" style=\\\"stroke:#000000; stroke-linecap:round; stroke-linejoin:round; stroke-width:4; stroke-opacity:1; fill:none\\\" points=\\\"144.598,127.469 158.322,127.469 \\\"\\/>\\n<polyline clip-path=\\\"url(#clip310)\\\" style=\\\"stroke:#000000; stroke-linecap:round; stroke-linejoin:round; stroke-width:4; stroke-opacity:1; fill:none\\\" points=\\\"144.598,61.2112 158.322,61.2112 \\\"\\/>\\n<path clip-path=\\\"url(#clip310)\\\" d=\\\"M70.0708 378.301 Q66.4597 378.301 64.631 381.866 Q62.8254 385.408 62.8254 392.537 Q62.8254 399.644 64.631 403.209 Q66.4597 406.75 70.0708 406.75 Q73.705 406.75 75.5105 403.209 Q77.3392 399.644 77.3392 392.537 Q77.3392 385.408 75.5105 381.866 Q73.705 378.301 70.0708 378.301 M70.0708 374.598 Q75.8809 374.598 78.9365 379.204 Q82.0151 383.787 82.0151 392.537 Q82.0151 401.264 78.9365 405.871 Q75.8809 410.454 70.0708 410.454 Q64.2606 410.454 61.1819 405.871 Q58.1264 401.264 58.1264 392.537 Q58.1264 383.787 61.1819 379.204 Q64.2606 374.598 70.0708 374.598 Z\\\" fill=\\\"#000000\\\" fill-rule=\\\"nonzero\\\" fill-opacity=\\\"1\\\" \\/><path clip-path=\\\"url(#clip310)\\\" d=\\\"M90.2327 403.903 L95.1169 403.903 L95.1169 409.783 L90.2327 409.783 L90.2327 403.903 Z\\\" fill=\\\"#000000\\\" fill-rule=\\\"nonzero\\\" fill-opacity=\\\"1\\\" \\/><path clip-path=\\\"url(#clip310)\\\" d=\\\"M119.469 391.148 Q122.825 391.866 124.7 394.135 Q126.598 396.403 126.598 399.736 Q126.598 404.852 123.08 407.653 Q119.561 410.454 113.08 410.454 Q110.904 410.454 108.589 410.014 Q106.297 409.597 103.844 408.741 L103.844 404.227 Q105.788 405.361 108.103 405.94 Q110.418 406.519 112.941 406.519 Q117.339 406.519 119.631 404.783 Q121.945 403.047 121.945 399.736 Q121.945 396.681 119.793 394.968 Q117.663 393.232 113.844 393.232 L109.816 393.232 L109.816 389.389 L114.029 389.389 Q117.478 389.389 119.307 388.024 Q121.135 386.635 121.135 384.042 Q121.135 381.38 119.237 379.968 Q117.362 378.533 113.844 378.533 Q111.922 378.533 109.723 378.949 Q107.524 379.366 104.885 380.246 L104.885 376.079 Q107.547 375.338 109.862 374.968 Q112.2 374.598 114.26 374.598 Q119.584 374.598 122.686 377.028 Q125.788 379.436 125.788 383.556 Q125.788 386.426 124.145 388.417 Q122.501 390.385 119.469 391.148 Z\\\" fill=\\\"#000000\\\" fill-rule=\\\"nonzero\\\" fill-opacity=\\\"1\\\" \\/><path clip-path=\\\"url(#clip310)\\\" d=\\\"M68.9365 312.043 Q65.3254 312.043 63.4967 315.608 Q61.6912 319.149 61.6912 326.279 Q61.6912 333.386 63.4967 336.95 Q65.3254 340.492 68.9365 340.492 Q72.5707 340.492 74.3763 336.95 Q76.205 333.386 76.205 326.279 Q76.205 319.149 74.3763 315.608 Q72.5707 312.043 68.9365 312.043 M68.9365 308.339 Q74.7467 308.339 77.8022 312.946 Q80.8809 317.529 80.8809 326.279 Q80.8809 335.006 77.8022 339.612 Q74.7467 344.196 68.9365 344.196 Q63.1264 344.196 60.0477 339.612 Q56.9921 335.006 56.9921 326.279 Q56.9921 317.529 60.0477 312.946 Q63.1264 308.339 68.9365 308.339 Z\\\" fill=\\\"#000000\\\" fill-rule=\\\"nonzero\\\" fill-opacity=\\\"1\\\" \\/><path clip-path=\\\"url(#clip310)\\\" d=\\\"M89.0984 337.645 L93.9827 337.645 L93.9827 343.524 L89.0984 343.524 L89.0984 337.645 Z\\\" fill=\\\"#000000\\\" fill-rule=\\\"nonzero\\\" fill-opacity=\\\"1\\\" \\/><path clip-path=\\\"url(#clip310)\\\" d=\\\"M117.015 313.038 L105.209 331.487 L117.015 331.487 L117.015 313.038 M115.788 308.964 L121.668 308.964 L121.668 331.487 L126.598 331.487 L126.598 335.376 L121.668 335.376 L121.668 343.524 L117.015 343.524 L117.015 335.376 L101.413 335.376 L101.413 330.862 L115.788 308.964 Z\\\" fill=\\\"#000000\\\" fill-rule=\\\"nonzero\\\" fill-opacity=\\\"1\\\" \\/><path clip-path=\\\"url(#clip310)\\\" d=\\\"M70.418 245.785 Q66.8069 245.785 64.9782 249.35 Q63.1726 252.891 63.1726 260.021 Q63.1726 267.127 64.9782 270.692 Q66.8069 274.234 70.418 274.234 Q74.0522 274.234 75.8578 270.692 Q77.6865 267.127 77.6865 260.021 Q77.6865 252.891 75.8578 249.35 Q74.0522 245.785 70.418 245.785 M70.418 242.081 Q76.2281 242.081 79.2837 246.688 Q82.3624 251.271 82.3624 260.021 Q82.3624 268.748 79.2837 273.354 Q76.2281 277.937 70.418 277.937 Q64.6078 277.937 61.5291 273.354 Q58.4736 268.748 58.4736 260.021 Q58.4736 251.271 61.5291 246.688 Q64.6078 242.081 70.418 242.081 Z\\\" fill=\\\"#000000\\\" fill-rule=\\\"nonzero\\\" fill-opacity=\\\"1\\\" \\/><path clip-path=\\\"url(#clip310)\\\" d=\\\"M90.5799 271.386 L95.4641 271.386 L95.4641 277.266 L90.5799 277.266 L90.5799 271.386 Z\\\" fill=\\\"#000000\\\" fill-rule=\\\"nonzero\\\" fill-opacity=\\\"1\\\" \\/><path clip-path=\\\"url(#clip310)\\\" d=\\\"M105.696 242.706 L124.052 242.706 L124.052 246.641 L109.978 246.641 L109.978 255.113 Q110.996 254.766 112.015 254.604 Q113.033 254.419 114.052 254.419 Q119.839 254.419 123.219 257.59 Q126.598 260.762 126.598 266.178 Q126.598 271.757 123.126 274.859 Q119.654 277.937 113.334 277.937 Q111.159 277.937 108.89 277.567 Q106.645 277.197 104.237 276.456 L104.237 271.757 Q106.321 272.891 108.543 273.447 Q110.765 274.002 113.242 274.002 Q117.246 274.002 119.584 271.896 Q121.922 269.789 121.922 266.178 Q121.922 262.567 119.584 260.461 Q117.246 258.354 113.242 258.354 Q111.367 258.354 109.492 258.771 Q107.64 259.187 105.696 260.067 L105.696 242.706 Z\\\" fill=\\\"#000000\\\" fill-rule=\\\"nonzero\\\" fill-opacity=\\\"1\\\" \\/><path clip-path=\\\"url(#clip310)\\\" d=\\\"M69.2606 179.526 Q65.6495 179.526 63.8208 183.091 Q62.0152 186.633 62.0152 193.762 Q62.0152 200.869 63.8208 204.434 Q65.6495 207.975 69.2606 207.975 Q72.8948 207.975 74.7004 204.434 Q76.5291 200.869 76.5291 193.762 Q76.5291 186.633 74.7004 183.091 Q72.8948 179.526 69.2606 179.526 M69.2606 175.823 Q75.0707 175.823 78.1263 180.429 Q81.205 185.013 81.205 193.762 Q81.205 202.489 78.1263 207.096 Q75.0707 211.679 69.2606 211.679 Q63.4504 211.679 60.3717 207.096 Q57.3162 202.489 57.3162 193.762 Q57.3162 185.013 60.3717 180.429 Q63.4504 175.823 69.2606 175.823 Z\\\" fill=\\\"#000000\\\" fill-rule=\\\"nonzero\\\" fill-opacity=\\\"1\\\" \\/><path clip-path=\\\"url(#clip310)\\\" d=\\\"M89.4225 205.128 L94.3067 205.128 L94.3067 211.008 L89.4225 211.008 L89.4225 205.128 Z\\\" fill=\\\"#000000\\\" fill-rule=\\\"nonzero\\\" fill-opacity=\\\"1\\\" \\/><path clip-path=\\\"url(#clip310)\\\" d=\\\"M115.071 191.864 Q111.922 191.864 110.071 194.017 Q108.242 196.17 108.242 199.92 Q108.242 203.647 110.071 205.823 Q111.922 207.975 115.071 207.975 Q118.219 207.975 120.047 205.823 Q121.899 203.647 121.899 199.92 Q121.899 196.17 120.047 194.017 Q118.219 191.864 115.071 191.864 M124.353 177.212 L124.353 181.471 Q122.594 180.638 120.788 180.198 Q119.006 179.758 117.246 179.758 Q112.617 179.758 110.163 182.883 Q107.733 186.008 107.385 192.327 Q108.751 190.313 110.811 189.249 Q112.871 188.161 115.348 188.161 Q120.557 188.161 123.566 191.332 Q126.598 194.48 126.598 199.92 Q126.598 205.244 123.45 208.461 Q120.302 211.679 115.071 211.679 Q109.075 211.679 105.904 207.096 Q102.733 202.489 102.733 193.762 Q102.733 185.568 106.621 180.707 Q110.51 175.823 117.061 175.823 Q118.82 175.823 120.603 176.17 Q122.408 176.517 124.353 177.212 Z\\\" fill=\\\"#000000\\\" fill-rule=\\\"nonzero\\\" fill-opacity=\\\"1\\\" \\/><path clip-path=\\\"url(#clip310)\\\" d=\\\"M70.3254 113.268 Q66.7143 113.268 64.8856 116.833 Q63.0801 120.375 63.0801 127.504 Q63.0801 134.611 64.8856 138.175 Q66.7143 141.717 70.3254 141.717 Q73.9596 141.717 75.7652 138.175 Q77.5939 134.611 77.5939 127.504 Q77.5939 120.375 75.7652 116.833 Q73.9596 113.268 70.3254 113.268 M70.3254 109.564 Q76.1355 109.564 79.1911 114.171 Q82.2698 118.754 82.2698 127.504 Q82.2698 136.231 79.1911 140.837 Q76.1355 145.421 70.3254 145.421 Q64.5152 145.421 61.4365 140.837 Q58.381 136.231 58.381 127.504 Q58.381 118.754 61.4365 114.171 Q64.5152 109.564 70.3254 109.564 Z\\\" fill=\\\"#000000\\\" fill-rule=\\\"nonzero\\\" fill-opacity=\\\"1\\\" \\/><path clip-path=\\\"url(#clip310)\\\" d=\\\"M90.4873 138.87 L95.3715 138.87 L95.3715 144.749 L90.4873 144.749 L90.4873 138.87 Z\\\" fill=\\\"#000000\\\" fill-rule=\\\"nonzero\\\" fill-opacity=\\\"1\\\" \\/><path clip-path=\\\"url(#clip310)\\\" d=\\\"M104.376 110.189 L126.598 110.189 L126.598 112.18 L114.052 144.749 L109.168 144.749 L120.973 114.125 L104.376 114.125 L104.376 110.189 Z\\\" fill=\\\"#000000\\\" fill-rule=\\\"nonzero\\\" fill-opacity=\\\"1\\\" \\/><path clip-path=\\\"url(#clip310)\\\" d=\\\"M69.5152 47.0099 Q65.9041 47.0099 64.0754 50.5747 Q62.2699 54.1163 62.2699 61.2459 Q62.2699 68.3523 64.0754 71.9171 Q65.9041 75.4588 69.5152 75.4588 Q73.1494 75.4588 74.955 71.9171 Q76.7837 68.3523 76.7837 61.2459 Q76.7837 54.1163 74.955 50.5747 Q73.1494 47.0099 69.5152 47.0099 M69.5152 43.3062 Q75.3254 43.3062 78.3809 47.9126 Q81.4596 52.496 81.4596 61.2459 Q81.4596 69.9727 78.3809 74.5792 Q75.3254 79.1625 69.5152 79.1625 Q63.7051 79.1625 60.6264 74.5792 Q57.5708 69.9727 57.5708 61.2459 Q57.5708 52.496 60.6264 47.9126 Q63.7051 43.3062 69.5152 43.3062 Z\\\" fill=\\\"#000000\\\" fill-rule=\\\"nonzero\\\" fill-opacity=\\\"1\\\" \\/><path clip-path=\\\"url(#clip310)\\\" d=\\\"M89.6771 72.6116 L94.5614 72.6116 L94.5614 78.4912 L89.6771 78.4912 L89.6771 72.6116 Z\\\" fill=\\\"#000000\\\" fill-rule=\\\"nonzero\\\" fill-opacity=\\\"1\\\" \\/><path clip-path=\\\"url(#clip310)\\\" d=\\\"M114.746 62.0792 Q111.413 62.0792 109.492 63.8616 Q107.594 65.644 107.594 68.769 Q107.594 71.894 109.492 73.6764 Q111.413 75.4588 114.746 75.4588 Q118.08 75.4588 120.001 73.6764 Q121.922 71.8708 121.922 68.769 Q121.922 65.644 120.001 63.8616 Q118.103 62.0792 114.746 62.0792 M110.071 60.0885 Q107.061 59.3478 105.371 57.2876 Q103.705 55.2274 103.705 52.2645 Q103.705 48.121 106.645 45.7136 Q109.608 43.3062 114.746 43.3062 Q119.908 43.3062 122.848 45.7136 Q125.788 48.121 125.788 52.2645 Q125.788 55.2274 124.098 57.2876 Q122.432 59.3478 119.445 60.0885 Q122.825 60.8755 124.7 63.1672 Q126.598 65.4588 126.598 68.769 Q126.598 73.7921 123.52 76.4773 Q120.464 79.1625 114.746 79.1625 Q109.029 79.1625 105.95 76.4773 Q102.895 73.7921 102.895 68.769 Q102.895 65.4588 104.793 63.1672 Q106.691 60.8755 110.071 60.0885 M108.358 52.7043 Q108.358 55.3895 110.024 56.8941 Q111.714 58.3987 114.746 58.3987 Q117.756 58.3987 119.445 56.8941 Q121.158 55.3895 121.158 52.7043 Q121.158 50.0191 119.445 48.5145 Q117.756 47.0099 114.746 47.0099 Q111.714 47.0099 110.024 48.5145 Q108.358 50.0191 108.358 52.7043 Z\\\" fill=\\\"#000000\\\" fill-rule=\\\"nonzero\\\" fill-opacity=\\\"1\\\" \\/><polyline clip-path=\\\"url(#clip312)\\\" style=\\\"stroke:#009af9; stroke-linecap:round; stroke-linejoin:round; stroke-width:4; stroke-opacity:1; fill:none\\\" points=\\\"165.319,442.196 242.06,428.199 318.802,341.994 395.544,288.556 472.286,212.092 549.028,142.138 625.769,125.224 702.511,108.575 779.253,98.5526 855.995,58.7476 \\\"\\/>\\n<path clip-path=\\\"url(#clip310)\\\" d=\\\"M910.321 164.473 L1152.76 164.473 L1152.76 60.7926 L910.321 60.7926  Z\\\" fill=\\\"#ffffff\\\" fill-rule=\\\"evenodd\\\" fill-opacity=\\\"1\\\"\\/>\\n<polyline clip-path=\\\"url(#clip310)\\\" style=\\\"stroke:#000000; stroke-linecap:round; stroke-linejoin:round; stroke-width:4; stroke-opacity:1; fill:none\\\" points=\\\"910.321,164.473 1152.76,164.473 1152.76,60.7926 910.321,60.7926 910.321,164.473 \\\"\\/>\\n<polyline clip-path=\\\"url(#clip310)\\\" style=\\\"stroke:#009af9; stroke-linecap:round; stroke-linejoin:round; stroke-width:4; stroke-opacity:1; fill:none\\\" points=\\\"921.522,112.633 988.733,112.633 \\\"\\/>\\n<path clip-path=\\\"url(#clip310)\\\" d=\\\"M1021.65 114.265 L1021.65 129.913 L1017.39 129.913 L1017.39 114.403 Q1017.39 110.723 1015.95 108.894 Q1014.52 107.066 1011.65 107.066 Q1008.2 107.066 1006.21 109.265 Q1004.22 111.464 1004.22 115.26 L1004.22 129.913 L999.935 129.913 L999.935 93.8943 L1004.22 93.8943 L1004.22 108.015 Q1005.74 105.677 1007.8 104.519 Q1009.89 103.362 1012.6 103.362 Q1017.06 103.362 1019.36 106.14 Q1021.65 108.894 1021.65 114.265 Z\\\" fill=\\\"#000000\\\" fill-rule=\\\"nonzero\\\" fill-opacity=\\\"1\\\" \\/><path clip-path=\\\"url(#clip310)\\\" d=\\\"M1041.93 116.88 Q1036.76 116.88 1034.77 118.061 Q1032.78 119.241 1032.78 122.089 Q1032.78 124.357 1034.26 125.7 Q1035.77 127.019 1038.34 127.019 Q1041.88 127.019 1044.01 124.519 Q1046.16 121.996 1046.16 117.829 L1046.16 116.88 L1041.93 116.88 M1050.42 115.121 L1050.42 129.913 L1046.16 129.913 L1046.16 125.977 Q1044.7 128.339 1042.53 129.473 Q1040.35 130.584 1037.2 130.584 Q1033.22 130.584 1030.86 128.362 Q1028.52 126.116 1028.52 122.366 Q1028.52 117.991 1031.44 115.769 Q1034.38 113.547 1040.19 113.547 L1046.16 113.547 L1046.16 113.13 Q1046.16 110.191 1044.22 108.593 Q1042.3 106.973 1038.8 106.973 Q1036.58 106.973 1034.47 107.505 Q1032.36 108.038 1030.42 109.103 L1030.42 105.167 Q1032.76 104.265 1034.96 103.825 Q1037.16 103.362 1039.24 103.362 Q1044.86 103.362 1047.64 106.278 Q1050.42 109.195 1050.42 115.121 Z\\\" fill=\\\"#000000\\\" fill-rule=\\\"nonzero\\\" fill-opacity=\\\"1\\\" \\/><path clip-path=\\\"url(#clip310)\\\" d=\\\"M1063.31 126.024 L1063.31 139.774 L1059.03 139.774 L1059.03 103.987 L1063.31 103.987 L1063.31 107.922 Q1064.66 105.607 1066.69 104.496 Q1068.75 103.362 1071.6 103.362 Q1076.32 103.362 1079.26 107.112 Q1082.23 110.862 1082.23 116.973 Q1082.23 123.084 1079.26 126.834 Q1076.32 130.584 1071.6 130.584 Q1068.75 130.584 1066.69 129.473 Q1064.66 128.339 1063.31 126.024 M1077.8 116.973 Q1077.8 112.274 1075.86 109.612 Q1073.94 106.927 1070.56 106.927 Q1067.18 106.927 1065.24 109.612 Q1063.31 112.274 1063.31 116.973 Q1063.31 121.672 1065.24 124.357 Q1067.18 127.019 1070.56 127.019 Q1073.94 127.019 1075.86 124.357 Q1077.8 121.672 1077.8 116.973 Z\\\" fill=\\\"#000000\\\" fill-rule=\\\"nonzero\\\" fill-opacity=\\\"1\\\" \\/><path clip-path=\\\"url(#clip310)\\\" d=\\\"M1093.41 126.024 L1093.41 139.774 L1089.12 139.774 L1089.12 103.987 L1093.41 103.987 L1093.41 107.922 Q1094.75 105.607 1096.79 104.496 Q1098.85 103.362 1101.69 103.362 Q1106.42 103.362 1109.36 107.112 Q1112.32 110.862 1112.32 116.973 Q1112.32 123.084 1109.36 126.834 Q1106.42 130.584 1101.69 130.584 Q1098.85 130.584 1096.79 129.473 Q1094.75 128.339 1093.41 126.024 M1107.9 116.973 Q1107.9 112.274 1105.95 109.612 Q1104.03 106.927 1100.65 106.927 Q1097.27 106.927 1095.33 109.612 Q1093.41 112.274 1093.41 116.973 Q1093.41 121.672 1095.33 124.357 Q1097.27 127.019 1100.65 127.019 Q1104.03 127.019 1105.95 124.357 Q1107.9 121.672 1107.9 116.973 Z\\\" fill=\\\"#000000\\\" fill-rule=\\\"nonzero\\\" fill-opacity=\\\"1\\\" \\/><path clip-path=\\\"url(#clip310)\\\" d=\\\"M1130.17 132.32 Q1128.36 136.95 1126.65 138.362 Q1124.93 139.774 1122.06 139.774 L1118.66 139.774 L1118.66 136.209 L1121.16 136.209 Q1122.92 136.209 1123.89 135.376 Q1124.86 134.542 1126.04 131.44 L1126.81 129.496 L1116.32 103.987 L1120.84 103.987 L1128.94 124.265 L1137.04 103.987 L1141.55 103.987 L1130.17 132.32 Z\\\" fill=\\\"#000000\\\" fill-rule=\\\"nonzero\\\" fill-opacity=\\\"1\\\" \\/><\\/svg>\\n\"}}},\"children\":[{\"props\":{\"className\":\"webio-observable\",\"setInnerHtml\":\"<?xml version=\\\"1.0\\\" encoding=\\\"utf-8\\\"?>\\n<svg xmlns=\\\"http:\\/\\/www.w3.org\\/2000\\/svg\\\" xmlns:xlink=\\\"http:\\/\\/www.w3.org\\/1999\\/xlink\\\" width=\\\"300\\\" height=\\\"150\\\" viewBox=\\\"0 0 1200 600\\\">\\n<defs>\\n  <clipPath id=\\\"clip310\\\">\\n    <rect x=\\\"0\\\" y=\\\"0\\\" width=\\\"1200\\\" height=\\\"600\\\"\\/>\\n  <\\/clipPath>\\n<\\/defs>\\n<path clip-path=\\\"url(#clip310)\\\" d=\\\"M0 600 L1200 600 L1200 0 L0 0  Z\\\" fill=\\\"#ffffff\\\" fill-rule=\\\"evenodd\\\" fill-opacity=\\\"1\\\"\\/>\\n<defs>\\n  <clipPath id=\\\"clip311\\\">\\n    <rect x=\\\"240\\\" y=\\\"0\\\" width=\\\"841\\\" height=\\\"600\\\"\\/>\\n  <\\/clipPath>\\n<\\/defs>\\n<path clip-path=\\\"url(#clip310)\\\" d=\\\"M144.598 453.7 L876.715 453.7 L876.715 47.2441 L144.598 47.2441  Z\\\" fill=\\\"#ffffff\\\" fill-rule=\\\"evenodd\\\" fill-opacity=\\\"1\\\"\\/>\\n<defs>\\n  <clipPath id=\\\"clip312\\\">\\n    <rect x=\\\"144\\\" y=\\\"47\\\" width=\\\"733\\\" height=\\\"407\\\"\\/>\\n  <\\/clipPath>\\n<\\/defs>\\n<polyline clip-path=\\\"url(#clip312)\\\" style=\\\"stroke:#000000; stroke-linecap:round; stroke-linejoin:round; stroke-width:2; stroke-opacity:0.1; fill:none\\\" points=\\\"242.06,453.7 242.06,47.2441 \\\"\\/>\\n<polyline clip-path=\\\"url(#clip312)\\\" style=\\\"stroke:#000000; stroke-linecap:round; stroke-linejoin:round; stroke-width:2; stroke-opacity:0.1; fill:none\\\" points=\\\"395.544,453.7 395.544,47.2441 \\\"\\/>\\n<polyline clip-path=\\\"url(#clip312)\\\" style=\\\"stroke:#000000; stroke-linecap:round; stroke-linejoin:round; stroke-width:2; stroke-opacity:0.1; fill:none\\\" points=\\\"549.028,453.7 549.028,47.2441 \\\"\\/>\\n<polyline clip-path=\\\"url(#clip312)\\\" style=\\\"stroke:#000000; stroke-linecap:round; stroke-linejoin:round; stroke-width:2; stroke-opacity:0.1; fill:none\\\" points=\\\"702.511,453.7 702.511,47.2441 \\\"\\/>\\n<polyline clip-path=\\\"url(#clip312)\\\" style=\\\"stroke:#000000; stroke-linecap:round; stroke-linejoin:round; stroke-width:2; stroke-opacity:0.1; fill:none\\\" points=\\\"855.995,453.7 855.995,47.2441 \\\"\\/>\\n<polyline clip-path=\\\"url(#clip310)\\\" style=\\\"stroke:#000000; stroke-linecap:round; stroke-linejoin:round; stroke-width:4; stroke-opacity:1; fill:none\\\" points=\\\"144.598,453.7 876.715,453.7 \\\"\\/>\\n<polyline clip-path=\\\"url(#clip310)\\\" style=\\\"stroke:#000000; stroke-linecap:round; stroke-linejoin:round; stroke-width:4; stroke-opacity:1; fill:none\\\" points=\\\"242.06,453.7 242.06,434.802 \\\"\\/>\\n<polyline clip-path=\\\"url(#clip310)\\\" style=\\\"stroke:#000000; stroke-linecap:round; stroke-linejoin:round; stroke-width:4; stroke-opacity:1; fill:none\\\" points=\\\"395.544,453.7 395.544,434.802 \\\"\\/>\\n<polyline clip-path=\\\"url(#clip310)\\\" style=\\\"stroke:#000000; stroke-linecap:round; stroke-linejoin:round; stroke-width:4; stroke-opacity:1; fill:none\\\" points=\\\"549.028,453.7 549.028,434.802 \\\"\\/>\\n<polyline clip-path=\\\"url(#clip310)\\\" style=\\\"stroke:#000000; stroke-linecap:round; stroke-linejoin:round; stroke-width:4; stroke-opacity:1; fill:none\\\" points=\\\"702.511,453.7 702.511,434.802 \\\"\\/>\\n<polyline clip-path=\\\"url(#clip310)\\\" style=\\\"stroke:#000000; stroke-linecap:round; stroke-linejoin:round; stroke-width:4; stroke-opacity:1; fill:none\\\" points=\\\"855.995,453.7 855.995,434.802 \\\"\\/>\\n<path clip-path=\\\"url(#clip310)\\\" d=\\\"M236.713 502.565 L253.033 502.565 L253.033 506.5 L231.088 506.5 L231.088 502.565 Q233.75 499.81 238.334 495.18 Q242.94 490.528 244.121 489.185 Q246.366 486.662 247.246 484.926 Q248.148 483.167 248.148 481.477 Q248.148 478.722 246.204 476.986 Q244.283 475.25 241.181 475.25 Q238.982 475.25 236.528 476.014 Q234.097 476.778 231.32 478.329 L231.32 473.607 Q234.144 472.472 236.597 471.894 Q239.051 471.315 241.088 471.315 Q246.458 471.315 249.653 474 Q252.847 476.685 252.847 481.176 Q252.847 483.306 252.037 485.227 Q251.25 487.125 249.144 489.718 Q248.565 490.389 245.463 493.606 Q242.361 496.801 236.713 502.565 Z\\\" fill=\\\"#000000\\\" fill-rule=\\\"nonzero\\\" fill-opacity=\\\"1\\\" \\/><path clip-path=\\\"url(#clip310)\\\" d=\\\"M398.553 476.014 L386.748 494.463 L398.553 494.463 L398.553 476.014 M397.326 471.94 L403.206 471.94 L403.206 494.463 L408.137 494.463 L408.137 498.352 L403.206 498.352 L403.206 506.5 L398.553 506.5 L398.553 498.352 L382.951 498.352 L382.951 493.838 L397.326 471.94 Z\\\" fill=\\\"#000000\\\" fill-rule=\\\"nonzero\\\" fill-opacity=\\\"1\\\" \\/><path clip-path=\\\"url(#clip310)\\\" d=\\\"M549.433 487.356 Q546.285 487.356 544.433 489.509 Q542.604 491.662 542.604 495.412 Q542.604 499.139 544.433 501.315 Q546.285 503.467 549.433 503.467 Q552.581 503.467 554.41 501.315 Q556.261 499.139 556.261 495.412 Q556.261 491.662 554.41 489.509 Q552.581 487.356 549.433 487.356 M558.715 472.704 L558.715 476.963 Q556.956 476.13 555.15 475.69 Q553.368 475.25 551.609 475.25 Q546.979 475.25 544.525 478.375 Q542.095 481.5 541.748 487.819 Q543.113 485.806 545.174 484.741 Q547.234 483.653 549.711 483.653 Q554.919 483.653 557.928 486.824 Q560.96 489.972 560.96 495.412 Q560.96 500.736 557.812 503.954 Q554.664 507.171 549.433 507.171 Q543.437 507.171 540.266 502.588 Q537.095 497.981 537.095 489.255 Q537.095 481.06 540.984 476.199 Q544.873 471.315 551.423 471.315 Q553.183 471.315 554.965 471.662 Q556.771 472.009 558.715 472.704 Z\\\" fill=\\\"#000000\\\" fill-rule=\\\"nonzero\\\" fill-opacity=\\\"1\\\" \\/><path clip-path=\\\"url(#clip310)\\\" d=\\\"M702.511 490.088 Q699.178 490.088 697.257 491.87 Q695.359 493.653 695.359 496.778 Q695.359 499.903 697.257 501.685 Q699.178 503.467 702.511 503.467 Q705.845 503.467 707.766 501.685 Q709.687 499.88 709.687 496.778 Q709.687 493.653 707.766 491.87 Q705.868 490.088 702.511 490.088 M697.835 488.097 Q694.826 487.356 693.136 485.296 Q691.47 483.236 691.47 480.273 Q691.47 476.13 694.41 473.722 Q697.372 471.315 702.511 471.315 Q707.673 471.315 710.613 473.722 Q713.553 476.13 713.553 480.273 Q713.553 483.236 711.863 485.296 Q710.196 487.356 707.21 488.097 Q710.59 488.884 712.465 491.176 Q714.363 493.468 714.363 496.778 Q714.363 501.801 711.284 504.486 Q708.229 507.171 702.511 507.171 Q696.794 507.171 693.715 504.486 Q690.66 501.801 690.66 496.778 Q690.66 493.468 692.558 491.176 Q694.456 488.884 697.835 488.097 M696.122 480.713 Q696.122 483.398 697.789 484.903 Q699.479 486.407 702.511 486.407 Q705.521 486.407 707.21 484.903 Q708.923 483.398 708.923 480.713 Q708.923 478.028 707.21 476.523 Q705.521 475.019 702.511 475.019 Q699.479 475.019 697.789 476.523 Q696.122 478.028 696.122 480.713 Z\\\" fill=\\\"#000000\\\" fill-rule=\\\"nonzero\\\" fill-opacity=\\\"1\\\" \\/><path clip-path=\\\"url(#clip310)\\\" d=\\\"M830.683 502.565 L838.321 502.565 L838.321 476.199 L830.011 477.866 L830.011 473.607 L838.275 471.94 L842.951 471.94 L842.951 502.565 L850.59 502.565 L850.59 506.5 L830.683 506.5 L830.683 502.565 Z\\\" fill=\\\"#000000\\\" fill-rule=\\\"nonzero\\\" fill-opacity=\\\"1\\\" \\/><path clip-path=\\\"url(#clip310)\\\" d=\\\"M870.034 475.019 Q866.423 475.019 864.594 478.583 Q862.789 482.125 862.789 489.255 Q862.789 496.361 864.594 499.926 Q866.423 503.467 870.034 503.467 Q873.668 503.467 875.474 499.926 Q877.303 496.361 877.303 489.255 Q877.303 482.125 875.474 478.583 Q873.668 475.019 870.034 475.019 M870.034 471.315 Q875.844 471.315 878.9 475.921 Q881.979 480.505 881.979 489.255 Q881.979 497.981 878.9 502.588 Q875.844 507.171 870.034 507.171 Q864.224 507.171 861.145 502.588 Q858.09 497.981 858.09 489.255 Q858.09 480.505 861.145 475.921 Q864.224 471.315 870.034 471.315 Z\\\" fill=\\\"#000000\\\" fill-rule=\\\"nonzero\\\" fill-opacity=\\\"1\\\" \\/><path clip-path=\\\"url(#clip310)\\\" d=\\\"M447.7 534.794 L447.7 544.916 L459.763 544.916 L459.763 549.467 L447.7 549.467 L447.7 568.819 Q447.7 573.18 448.878 574.421 Q450.087 575.662 453.747 575.662 L459.763 575.662 L459.763 580.564 L453.747 580.564 Q446.968 580.564 444.39 578.049 Q441.812 575.503 441.812 568.819 L441.812 549.467 L437.515 549.467 L437.515 544.916 L441.812 544.916 L441.812 534.794 L447.7 534.794 Z\\\" fill=\\\"#000000\\\" fill-rule=\\\"nonzero\\\" fill-opacity=\\\"1\\\" \\/><path clip-path=\\\"url(#clip310)\\\" d=\\\"M467.465 544.916 L473.322 544.916 L473.322 580.564 L467.465 580.564 L467.465 544.916 M467.465 531.039 L473.322 531.039 L473.322 538.455 L467.465 538.455 L467.465 531.039 Z\\\" fill=\\\"#000000\\\" fill-rule=\\\"nonzero\\\" fill-opacity=\\\"1\\\" \\/><path clip-path=\\\"url(#clip310)\\\" d=\\\"M511.23 546.285 L511.23 551.759 Q508.747 550.39 506.233 549.722 Q503.75 549.022 501.204 549.022 Q495.506 549.022 492.355 552.65 Q489.204 556.247 489.204 562.772 Q489.204 569.297 492.355 572.925 Q495.506 576.522 501.204 576.522 Q503.75 576.522 506.233 575.853 Q508.747 575.153 511.23 573.784 L511.23 579.195 Q508.779 580.341 506.137 580.914 Q503.527 581.487 500.567 581.487 Q492.514 581.487 487.772 576.426 Q483.03 571.365 483.03 562.772 Q483.03 554.051 487.804 549.054 Q492.61 544.057 500.949 544.057 Q503.654 544.057 506.233 544.629 Q508.811 545.171 511.23 546.285 Z\\\" fill=\\\"#000000\\\" fill-rule=\\\"nonzero\\\" fill-opacity=\\\"1\\\" \\/><path clip-path=\\\"url(#clip310)\\\" d=\\\"M521.192 531.039 L527.08 531.039 L527.08 560.289 L544.554 544.916 L552.034 544.916 L533.128 561.594 L552.83 580.564 L545.191 580.564 L527.08 563.154 L527.08 580.564 L521.192 580.564 L521.192 531.039 Z\\\" fill=\\\"#000000\\\" fill-rule=\\\"nonzero\\\" fill-opacity=\\\"1\\\" \\/><path clip-path=\\\"url(#clip310)\\\" d=\\\"M581.889 545.966 L581.889 551.504 Q579.406 550.231 576.733 549.595 Q574.059 548.958 571.195 548.958 Q566.834 548.958 564.638 550.295 Q562.474 551.632 562.474 554.305 Q562.474 556.342 564.033 557.52 Q565.593 558.666 570.303 559.716 L572.309 560.162 Q578.547 561.499 581.157 563.949 Q583.799 566.368 583.799 570.729 Q583.799 575.694 579.852 578.59 Q575.937 581.487 569.062 581.487 Q566.198 581.487 563.078 580.914 Q559.991 580.373 556.553 579.259 L556.553 573.211 Q559.8 574.898 562.951 575.758 Q566.102 576.585 569.189 576.585 Q573.327 576.585 575.555 575.185 Q577.783 573.753 577.783 571.174 Q577.783 568.787 576.16 567.514 Q574.568 566.241 569.126 565.063 L567.089 564.586 Q561.646 563.44 559.227 561.085 Q556.808 558.698 556.808 554.56 Q556.808 549.531 560.373 546.794 Q563.938 544.057 570.494 544.057 Q573.741 544.057 576.605 544.534 Q579.47 545.011 581.889 545.966 Z\\\" fill=\\\"#000000\\\" fill-rule=\\\"nonzero\\\" fill-opacity=\\\"1\\\" \\/><polyline clip-path=\\\"url(#clip312)\\\" style=\\\"stroke:#000000; stroke-linecap:round; stroke-linejoin:round; stroke-width:2; stroke-opacity:0.1; fill:none\\\" points=\\\"144.598,392.503 876.715,392.503 \\\"\\/>\\n<polyline clip-path=\\\"url(#clip312)\\\" style=\\\"stroke:#000000; stroke-linecap:round; stroke-linejoin:round; stroke-width:2; stroke-opacity:0.1; fill:none\\\" points=\\\"144.598,326.244 876.715,326.244 \\\"\\/>\\n<polyline clip-path=\\\"url(#clip312)\\\" style=\\\"stroke:#000000; stroke-linecap:round; stroke-linejoin:round; stroke-width:2; stroke-opacity:0.1; fill:none\\\" points=\\\"144.598,259.986 876.715,259.986 \\\"\\/>\\n<polyline clip-path=\\\"url(#clip312)\\\" style=\\\"stroke:#000000; stroke-linecap:round; stroke-linejoin:round; stroke-width:2; stroke-opacity:0.1; fill:none\\\" points=\\\"144.598,193.728 876.715,193.728 \\\"\\/>\\n<polyline clip-path=\\\"url(#clip312)\\\" style=\\\"stroke:#000000; stroke-linecap:round; stroke-linejoin:round; stroke-width:2; stroke-opacity:0.1; fill:none\\\" points=\\\"144.598,127.469 876.715,127.469 \\\"\\/>\\n<polyline clip-path=\\\"url(#clip312)\\\" style=\\\"stroke:#000000; stroke-linecap:round; stroke-linejoin:round; stroke-width:2; stroke-opacity:0.1; fill:none\\\" points=\\\"144.598,61.2112 876.715,61.2112 \\\"\\/>\\n<polyline clip-path=\\\"url(#clip310)\\\" style=\\\"stroke:#000000; stroke-linecap:round; stroke-linejoin:round; stroke-width:4; stroke-opacity:1; fill:none\\\" points=\\\"144.598,453.7 144.598,47.2441 \\\"\\/>\\n<polyline clip-path=\\\"url(#clip310)\\\" style=\\\"stroke:#000000; stroke-linecap:round; stroke-linejoin:round; stroke-width:4; stroke-opacity:1; fill:none\\\" points=\\\"144.598,392.503 158.322,392.503 \\\"\\/>\\n<polyline clip-path=\\\"url(#clip310)\\\" style=\\\"stroke:#000000; stroke-linecap:round; stroke-linejoin:round; stroke-width:4; stroke-opacity:1; fill:none\\\" points=\\\"144.598,326.244 158.322,326.244 \\\"\\/>\\n<polyline clip-path=\\\"url(#clip310)\\\" style=\\\"stroke:#000000; stroke-linecap:round; stroke-linejoin:round; stroke-width:4; stroke-opacity:1; fill:none\\\" points=\\\"144.598,259.986 158.322,259.986 \\\"\\/>\\n<polyline clip-path=\\\"url(#clip310)\\\" style=\\\"stroke:#000000; stroke-linecap:round; stroke-linejoin:round; stroke-width:4; stroke-opacity:1; fill:none\\\" points=\\\"144.598,193.728 158.322,193.728 \\\"\\/>\\n<polyline clip-path=\\\"url(#clip310)\\\" style=\\\"stroke:#000000; stroke-linecap:round; stroke-linejoin:round; stroke-width:4; stroke-opacity:1; fill:none\\\" points=\\\"144.598,127.469 158.322,127.469 \\\"\\/>\\n<polyline clip-path=\\\"url(#clip310)\\\" style=\\\"stroke:#000000; stroke-linecap:round; stroke-linejoin:round; stroke-width:4; stroke-opacity:1; fill:none\\\" points=\\\"144.598,61.2112 158.322,61.2112 \\\"\\/>\\n<path clip-path=\\\"url(#clip310)\\\" d=\\\"M70.0708 378.301 Q66.4597 378.301 64.631 381.866 Q62.8254 385.408 62.8254 392.537 Q62.8254 399.644 64.631 403.209 Q66.4597 406.75 70.0708 406.75 Q73.705 406.75 75.5105 403.209 Q77.3392 399.644 77.3392 392.537 Q77.3392 385.408 75.5105 381.866 Q73.705 378.301 70.0708 378.301 M70.0708 374.598 Q75.8809 374.598 78.9365 379.204 Q82.0151 383.787 82.0151 392.537 Q82.0151 401.264 78.9365 405.871 Q75.8809 410.454 70.0708 410.454 Q64.2606 410.454 61.1819 405.871 Q58.1264 401.264 58.1264 392.537 Q58.1264 383.787 61.1819 379.204 Q64.2606 374.598 70.0708 374.598 Z\\\" fill=\\\"#000000\\\" fill-rule=\\\"nonzero\\\" fill-opacity=\\\"1\\\" \\/><path clip-path=\\\"url(#clip310)\\\" d=\\\"M90.2327 403.903 L95.1169 403.903 L95.1169 409.783 L90.2327 409.783 L90.2327 403.903 Z\\\" fill=\\\"#000000\\\" fill-rule=\\\"nonzero\\\" fill-opacity=\\\"1\\\" \\/><path clip-path=\\\"url(#clip310)\\\" d=\\\"M119.469 391.148 Q122.825 391.866 124.7 394.135 Q126.598 396.403 126.598 399.736 Q126.598 404.852 123.08 407.653 Q119.561 410.454 113.08 410.454 Q110.904 410.454 108.589 410.014 Q106.297 409.597 103.844 408.741 L103.844 404.227 Q105.788 405.361 108.103 405.94 Q110.418 406.519 112.941 406.519 Q117.339 406.519 119.631 404.783 Q121.945 403.047 121.945 399.736 Q121.945 396.681 119.793 394.968 Q117.663 393.232 113.844 393.232 L109.816 393.232 L109.816 389.389 L114.029 389.389 Q117.478 389.389 119.307 388.024 Q121.135 386.635 121.135 384.042 Q121.135 381.38 119.237 379.968 Q117.362 378.533 113.844 378.533 Q111.922 378.533 109.723 378.949 Q107.524 379.366 104.885 380.246 L104.885 376.079 Q107.547 375.338 109.862 374.968 Q112.2 374.598 114.26 374.598 Q119.584 374.598 122.686 377.028 Q125.788 379.436 125.788 383.556 Q125.788 386.426 124.145 388.417 Q122.501 390.385 119.469 391.148 Z\\\" fill=\\\"#000000\\\" fill-rule=\\\"nonzero\\\" fill-opacity=\\\"1\\\" \\/><path clip-path=\\\"url(#clip310)\\\" d=\\\"M68.9365 312.043 Q65.3254 312.043 63.4967 315.608 Q61.6912 319.149 61.6912 326.279 Q61.6912 333.386 63.4967 336.95 Q65.3254 340.492 68.9365 340.492 Q72.5707 340.492 74.3763 336.95 Q76.205 333.386 76.205 326.279 Q76.205 319.149 74.3763 315.608 Q72.5707 312.043 68.9365 312.043 M68.9365 308.339 Q74.7467 308.339 77.8022 312.946 Q80.8809 317.529 80.8809 326.279 Q80.8809 335.006 77.8022 339.612 Q74.7467 344.196 68.9365 344.196 Q63.1264 344.196 60.0477 339.612 Q56.9921 335.006 56.9921 326.279 Q56.9921 317.529 60.0477 312.946 Q63.1264 308.339 68.9365 308.339 Z\\\" fill=\\\"#000000\\\" fill-rule=\\\"nonzero\\\" fill-opacity=\\\"1\\\" \\/><path clip-path=\\\"url(#clip310)\\\" d=\\\"M89.0984 337.645 L93.9827 337.645 L93.9827 343.524 L89.0984 343.524 L89.0984 337.645 Z\\\" fill=\\\"#000000\\\" fill-rule=\\\"nonzero\\\" fill-opacity=\\\"1\\\" \\/><path clip-path=\\\"url(#clip310)\\\" d=\\\"M117.015 313.038 L105.209 331.487 L117.015 331.487 L117.015 313.038 M115.788 308.964 L121.668 308.964 L121.668 331.487 L126.598 331.487 L126.598 335.376 L121.668 335.376 L121.668 343.524 L117.015 343.524 L117.015 335.376 L101.413 335.376 L101.413 330.862 L115.788 308.964 Z\\\" fill=\\\"#000000\\\" fill-rule=\\\"nonzero\\\" fill-opacity=\\\"1\\\" \\/><path clip-path=\\\"url(#clip310)\\\" d=\\\"M70.418 245.785 Q66.8069 245.785 64.9782 249.35 Q63.1726 252.891 63.1726 260.021 Q63.1726 267.127 64.9782 270.692 Q66.8069 274.234 70.418 274.234 Q74.0522 274.234 75.8578 270.692 Q77.6865 267.127 77.6865 260.021 Q77.6865 252.891 75.8578 249.35 Q74.0522 245.785 70.418 245.785 M70.418 242.081 Q76.2281 242.081 79.2837 246.688 Q82.3624 251.271 82.3624 260.021 Q82.3624 268.748 79.2837 273.354 Q76.2281 277.937 70.418 277.937 Q64.6078 277.937 61.5291 273.354 Q58.4736 268.748 58.4736 260.021 Q58.4736 251.271 61.5291 246.688 Q64.6078 242.081 70.418 242.081 Z\\\" fill=\\\"#000000\\\" fill-rule=\\\"nonzero\\\" fill-opacity=\\\"1\\\" \\/><path clip-path=\\\"url(#clip310)\\\" d=\\\"M90.5799 271.386 L95.4641 271.386 L95.4641 277.266 L90.5799 277.266 L90.5799 271.386 Z\\\" fill=\\\"#000000\\\" fill-rule=\\\"nonzero\\\" fill-opacity=\\\"1\\\" \\/><path clip-path=\\\"url(#clip310)\\\" d=\\\"M105.696 242.706 L124.052 242.706 L124.052 246.641 L109.978 246.641 L109.978 255.113 Q110.996 254.766 112.015 254.604 Q113.033 254.419 114.052 254.419 Q119.839 254.419 123.219 257.59 Q126.598 260.762 126.598 266.178 Q126.598 271.757 123.126 274.859 Q119.654 277.937 113.334 277.937 Q111.159 277.937 108.89 277.567 Q106.645 277.197 104.237 276.456 L104.237 271.757 Q106.321 272.891 108.543 273.447 Q110.765 274.002 113.242 274.002 Q117.246 274.002 119.584 271.896 Q121.922 269.789 121.922 266.178 Q121.922 262.567 119.584 260.461 Q117.246 258.354 113.242 258.354 Q111.367 258.354 109.492 258.771 Q107.64 259.187 105.696 260.067 L105.696 242.706 Z\\\" fill=\\\"#000000\\\" fill-rule=\\\"nonzero\\\" fill-opacity=\\\"1\\\" \\/><path clip-path=\\\"url(#clip310)\\\" d=\\\"M69.2606 179.526 Q65.6495 179.526 63.8208 183.091 Q62.0152 186.633 62.0152 193.762 Q62.0152 200.869 63.8208 204.434 Q65.6495 207.975 69.2606 207.975 Q72.8948 207.975 74.7004 204.434 Q76.5291 200.869 76.5291 193.762 Q76.5291 186.633 74.7004 183.091 Q72.8948 179.526 69.2606 179.526 M69.2606 175.823 Q75.0707 175.823 78.1263 180.429 Q81.205 185.013 81.205 193.762 Q81.205 202.489 78.1263 207.096 Q75.0707 211.679 69.2606 211.679 Q63.4504 211.679 60.3717 207.096 Q57.3162 202.489 57.3162 193.762 Q57.3162 185.013 60.3717 180.429 Q63.4504 175.823 69.2606 175.823 Z\\\" fill=\\\"#000000\\\" fill-rule=\\\"nonzero\\\" fill-opacity=\\\"1\\\" \\/><path clip-path=\\\"url(#clip310)\\\" d=\\\"M89.4225 205.128 L94.3067 205.128 L94.3067 211.008 L89.4225 211.008 L89.4225 205.128 Z\\\" fill=\\\"#000000\\\" fill-rule=\\\"nonzero\\\" fill-opacity=\\\"1\\\" \\/><path clip-path=\\\"url(#clip310)\\\" d=\\\"M115.071 191.864 Q111.922 191.864 110.071 194.017 Q108.242 196.17 108.242 199.92 Q108.242 203.647 110.071 205.823 Q111.922 207.975 115.071 207.975 Q118.219 207.975 120.047 205.823 Q121.899 203.647 121.899 199.92 Q121.899 196.17 120.047 194.017 Q118.219 191.864 115.071 191.864 M124.353 177.212 L124.353 181.471 Q122.594 180.638 120.788 180.198 Q119.006 179.758 117.246 179.758 Q112.617 179.758 110.163 182.883 Q107.733 186.008 107.385 192.327 Q108.751 190.313 110.811 189.249 Q112.871 188.161 115.348 188.161 Q120.557 188.161 123.566 191.332 Q126.598 194.48 126.598 199.92 Q126.598 205.244 123.45 208.461 Q120.302 211.679 115.071 211.679 Q109.075 211.679 105.904 207.096 Q102.733 202.489 102.733 193.762 Q102.733 185.568 106.621 180.707 Q110.51 175.823 117.061 175.823 Q118.82 175.823 120.603 176.17 Q122.408 176.517 124.353 177.212 Z\\\" fill=\\\"#000000\\\" fill-rule=\\\"nonzero\\\" fill-opacity=\\\"1\\\" \\/><path clip-path=\\\"url(#clip310)\\\" d=\\\"M70.3254 113.268 Q66.7143 113.268 64.8856 116.833 Q63.0801 120.375 63.0801 127.504 Q63.0801 134.611 64.8856 138.175 Q66.7143 141.717 70.3254 141.717 Q73.9596 141.717 75.7652 138.175 Q77.5939 134.611 77.5939 127.504 Q77.5939 120.375 75.7652 116.833 Q73.9596 113.268 70.3254 113.268 M70.3254 109.564 Q76.1355 109.564 79.1911 114.171 Q82.2698 118.754 82.2698 127.504 Q82.2698 136.231 79.1911 140.837 Q76.1355 145.421 70.3254 145.421 Q64.5152 145.421 61.4365 140.837 Q58.381 136.231 58.381 127.504 Q58.381 118.754 61.4365 114.171 Q64.5152 109.564 70.3254 109.564 Z\\\" fill=\\\"#000000\\\" fill-rule=\\\"nonzero\\\" fill-opacity=\\\"1\\\" \\/><path clip-path=\\\"url(#clip310)\\\" d=\\\"M90.4873 138.87 L95.3715 138.87 L95.3715 144.749 L90.4873 144.749 L90.4873 138.87 Z\\\" fill=\\\"#000000\\\" fill-rule=\\\"nonzero\\\" fill-opacity=\\\"1\\\" \\/><path clip-path=\\\"url(#clip310)\\\" d=\\\"M104.376 110.189 L126.598 110.189 L126.598 112.18 L114.052 144.749 L109.168 144.749 L120.973 114.125 L104.376 114.125 L104.376 110.189 Z\\\" fill=\\\"#000000\\\" fill-rule=\\\"nonzero\\\" fill-opacity=\\\"1\\\" \\/><path clip-path=\\\"url(#clip310)\\\" d=\\\"M69.5152 47.0099 Q65.9041 47.0099 64.0754 50.5747 Q62.2699 54.1163 62.2699 61.2459 Q62.2699 68.3523 64.0754 71.9171 Q65.9041 75.4588 69.5152 75.4588 Q73.1494 75.4588 74.955 71.9171 Q76.7837 68.3523 76.7837 61.2459 Q76.7837 54.1163 74.955 50.5747 Q73.1494 47.0099 69.5152 47.0099 M69.5152 43.3062 Q75.3254 43.3062 78.3809 47.9126 Q81.4596 52.496 81.4596 61.2459 Q81.4596 69.9727 78.3809 74.5792 Q75.3254 79.1625 69.5152 79.1625 Q63.7051 79.1625 60.6264 74.5792 Q57.5708 69.9727 57.5708 61.2459 Q57.5708 52.496 60.6264 47.9126 Q63.7051 43.3062 69.5152 43.3062 Z\\\" fill=\\\"#000000\\\" fill-rule=\\\"nonzero\\\" fill-opacity=\\\"1\\\" \\/><path clip-path=\\\"url(#clip310)\\\" d=\\\"M89.6771 72.6116 L94.5614 72.6116 L94.5614 78.4912 L89.6771 78.4912 L89.6771 72.6116 Z\\\" fill=\\\"#000000\\\" fill-rule=\\\"nonzero\\\" fill-opacity=\\\"1\\\" \\/><path clip-path=\\\"url(#clip310)\\\" d=\\\"M114.746 62.0792 Q111.413 62.0792 109.492 63.8616 Q107.594 65.644 107.594 68.769 Q107.594 71.894 109.492 73.6764 Q111.413 75.4588 114.746 75.4588 Q118.08 75.4588 120.001 73.6764 Q121.922 71.8708 121.922 68.769 Q121.922 65.644 120.001 63.8616 Q118.103 62.0792 114.746 62.0792 M110.071 60.0885 Q107.061 59.3478 105.371 57.2876 Q103.705 55.2274 103.705 52.2645 Q103.705 48.121 106.645 45.7136 Q109.608 43.3062 114.746 43.3062 Q119.908 43.3062 122.848 45.7136 Q125.788 48.121 125.788 52.2645 Q125.788 55.2274 124.098 57.2876 Q122.432 59.3478 119.445 60.0885 Q122.825 60.8755 124.7 63.1672 Q126.598 65.4588 126.598 68.769 Q126.598 73.7921 123.52 76.4773 Q120.464 79.1625 114.746 79.1625 Q109.029 79.1625 105.95 76.4773 Q102.895 73.7921 102.895 68.769 Q102.895 65.4588 104.793 63.1672 Q106.691 60.8755 110.071 60.0885 M108.358 52.7043 Q108.358 55.3895 110.024 56.8941 Q111.714 58.3987 114.746 58.3987 Q117.756 58.3987 119.445 56.8941 Q121.158 55.3895 121.158 52.7043 Q121.158 50.0191 119.445 48.5145 Q117.756 47.0099 114.746 47.0099 Q111.714 47.0099 110.024 48.5145 Q108.358 50.0191 108.358 52.7043 Z\\\" fill=\\\"#000000\\\" fill-rule=\\\"nonzero\\\" fill-opacity=\\\"1\\\" \\/><polyline clip-path=\\\"url(#clip312)\\\" style=\\\"stroke:#009af9; stroke-linecap:round; stroke-linejoin:round; stroke-width:4; stroke-opacity:1; fill:none\\\" points=\\\"165.319,442.196 242.06,428.199 318.802,341.994 395.544,288.556 472.286,212.092 549.028,142.138 625.769,125.224 702.511,108.575 779.253,98.5526 855.995,58.7476 \\\"\\/>\\n<path clip-path=\\\"url(#clip310)\\\" d=\\\"M910.321 164.473 L1152.76 164.473 L1152.76 60.7926 L910.321 60.7926  Z\\\" fill=\\\"#ffffff\\\" fill-rule=\\\"evenodd\\\" fill-opacity=\\\"1\\\"\\/>\\n<polyline clip-path=\\\"url(#clip310)\\\" style=\\\"stroke:#000000; stroke-linecap:round; stroke-linejoin:round; stroke-width:4; stroke-opacity:1; fill:none\\\" points=\\\"910.321,164.473 1152.76,164.473 1152.76,60.7926 910.321,60.7926 910.321,164.473 \\\"\\/>\\n<polyline clip-path=\\\"url(#clip310)\\\" style=\\\"stroke:#009af9; stroke-linecap:round; stroke-linejoin:round; stroke-width:4; stroke-opacity:1; fill:none\\\" points=\\\"921.522,112.633 988.733,112.633 \\\"\\/>\\n<path clip-path=\\\"url(#clip310)\\\" d=\\\"M1021.65 114.265 L1021.65 129.913 L1017.39 129.913 L1017.39 114.403 Q1017.39 110.723 1015.95 108.894 Q1014.52 107.066 1011.65 107.066 Q1008.2 107.066 1006.21 109.265 Q1004.22 111.464 1004.22 115.26 L1004.22 129.913 L999.935 129.913 L999.935 93.8943 L1004.22 93.8943 L1004.22 108.015 Q1005.74 105.677 1007.8 104.519 Q1009.89 103.362 1012.6 103.362 Q1017.06 103.362 1019.36 106.14 Q1021.65 108.894 1021.65 114.265 Z\\\" fill=\\\"#000000\\\" fill-rule=\\\"nonzero\\\" fill-opacity=\\\"1\\\" \\/><path clip-path=\\\"url(#clip310)\\\" d=\\\"M1041.93 116.88 Q1036.76 116.88 1034.77 118.061 Q1032.78 119.241 1032.78 122.089 Q1032.78 124.357 1034.26 125.7 Q1035.77 127.019 1038.34 127.019 Q1041.88 127.019 1044.01 124.519 Q1046.16 121.996 1046.16 117.829 L1046.16 116.88 L1041.93 116.88 M1050.42 115.121 L1050.42 129.913 L1046.16 129.913 L1046.16 125.977 Q1044.7 128.339 1042.53 129.473 Q1040.35 130.584 1037.2 130.584 Q1033.22 130.584 1030.86 128.362 Q1028.52 126.116 1028.52 122.366 Q1028.52 117.991 1031.44 115.769 Q1034.38 113.547 1040.19 113.547 L1046.16 113.547 L1046.16 113.13 Q1046.16 110.191 1044.22 108.593 Q1042.3 106.973 1038.8 106.973 Q1036.58 106.973 1034.47 107.505 Q1032.36 108.038 1030.42 109.103 L1030.42 105.167 Q1032.76 104.265 1034.96 103.825 Q1037.16 103.362 1039.24 103.362 Q1044.86 103.362 1047.64 106.278 Q1050.42 109.195 1050.42 115.121 Z\\\" fill=\\\"#000000\\\" fill-rule=\\\"nonzero\\\" fill-opacity=\\\"1\\\" \\/><path clip-path=\\\"url(#clip310)\\\" d=\\\"M1063.31 126.024 L1063.31 139.774 L1059.03 139.774 L1059.03 103.987 L1063.31 103.987 L1063.31 107.922 Q1064.66 105.607 1066.69 104.496 Q1068.75 103.362 1071.6 103.362 Q1076.32 103.362 1079.26 107.112 Q1082.23 110.862 1082.23 116.973 Q1082.23 123.084 1079.26 126.834 Q1076.32 130.584 1071.6 130.584 Q1068.75 130.584 1066.69 129.473 Q1064.66 128.339 1063.31 126.024 M1077.8 116.973 Q1077.8 112.274 1075.86 109.612 Q1073.94 106.927 1070.56 106.927 Q1067.18 106.927 1065.24 109.612 Q1063.31 112.274 1063.31 116.973 Q1063.31 121.672 1065.24 124.357 Q1067.18 127.019 1070.56 127.019 Q1073.94 127.019 1075.86 124.357 Q1077.8 121.672 1077.8 116.973 Z\\\" fill=\\\"#000000\\\" fill-rule=\\\"nonzero\\\" fill-opacity=\\\"1\\\" \\/><path clip-path=\\\"url(#clip310)\\\" d=\\\"M1093.41 126.024 L1093.41 139.774 L1089.12 139.774 L1089.12 103.987 L1093.41 103.987 L1093.41 107.922 Q1094.75 105.607 1096.79 104.496 Q1098.85 103.362 1101.69 103.362 Q1106.42 103.362 1109.36 107.112 Q1112.32 110.862 1112.32 116.973 Q1112.32 123.084 1109.36 126.834 Q1106.42 130.584 1101.69 130.584 Q1098.85 130.584 1096.79 129.473 Q1094.75 128.339 1093.41 126.024 M1107.9 116.973 Q1107.9 112.274 1105.95 109.612 Q1104.03 106.927 1100.65 106.927 Q1097.27 106.927 1095.33 109.612 Q1093.41 112.274 1093.41 116.973 Q1093.41 121.672 1095.33 124.357 Q1097.27 127.019 1100.65 127.019 Q1104.03 127.019 1105.95 124.357 Q1107.9 121.672 1107.9 116.973 Z\\\" fill=\\\"#000000\\\" fill-rule=\\\"nonzero\\\" fill-opacity=\\\"1\\\" \\/><path clip-path=\\\"url(#clip310)\\\" d=\\\"M1130.17 132.32 Q1128.36 136.95 1126.65 138.362 Q1124.93 139.774 1122.06 139.774 L1118.66 139.774 L1118.66 136.209 L1121.16 136.209 Q1122.92 136.209 1123.89 135.376 Q1124.86 134.542 1126.04 131.44 L1126.81 129.496 L1116.32 103.987 L1120.84 103.987 L1128.94 124.265 L1137.04 103.987 L1141.55 103.987 L1130.17 132.32 Z\\\" fill=\\\"#000000\\\" fill-rule=\\\"nonzero\\\" fill-opacity=\\\"1\\\" \\/><\\/svg>\\n\"},\"nodeType\":\"DOM\",\"type\":\"node\",\"instanceArgs\":{\"namespace\":\"html\",\"tag\":\"div\"},\"children\":[]}]}]}]}]},\n",
       "        window,\n",
       "    );\n",
       "    })()\n",
       "    </script>\n",
       "</div>\n"
      ],
      "text/plain": [
       "WebIO.Node{WebIO.DOM}(WebIO.DOM(:html, :div), Any[WebIO.Node{WebIO.DOM}(WebIO.DOM(:html, :div), Any[WebIO.Node{WebIO.DOM}(WebIO.DOM(:html, :div), Any[WebIO.Node{WebIO.DOM}(WebIO.DOM(:html, :div), Any[WebIO.Scope(WebIO.Node{WebIO.DOM}(WebIO.DOM(:html, :div), Any[WebIO.Node{WebIO.DOM}(WebIO.DOM(:html, :div), Any[WebIO.Node{WebIO.DOM}(WebIO.DOM(:html, :label), Any[\"time\"], Dict{Symbol, Any}(:className => \"interact \", :style => Dict{Any, Any}(:padding => \"5px 10px 0px 10px\")))], Dict{Symbol, Any}(:className => \"interact-flex-row-left\")), WebIO.Node{WebIO.DOM}(WebIO.DOM(:html, :div), Any[WebIO.Node{WebIO.DOM}(WebIO.DOM(:html, :input), Any[], Dict{Symbol, Any}(:max => 20, :min => 1, :attributes => Dict{Any, Any}(:type => \"range\", Symbol(\"data-bind\") => \"numericValue: index, valueUpdate: 'input', event: {change: function (){this.changes(this.changes()+1)}}\", \"orient\" => \"horizontal\"), :step => 1, :className => \"slider slider is-fullwidth\", :style => Dict{Any, Any}()))], Dict{Symbol, Any}(:className => \"interact-flex-row-center\")), WebIO.Node{WebIO.DOM}(WebIO.DOM(:html, :div), Any[WebIO.Node{WebIO.DOM}(WebIO.DOM(:html, :p), Any[], Dict{Symbol, Any}(:attributes => Dict(\"data-bind\" => \"text: formatted_val\")))], Dict{Symbol, Any}(:className => \"interact-flex-row-right\"))], Dict{Symbol, Any}(:className => \"interact-flex-row interact-widget\")), Dict{String, Tuple{Observables.AbstractObservable, Union{Nothing, Bool}}}(\"changes\" => (Observable(0), nothing), \"index\" => (Observable(10), nothing)), Set{String}(), nothing, WebIO.Asset[WebIO.Asset(\"js\", \"knockout\", \"/home/dushya/.julia/packages/Knockout/HReiN/src/../assets/knockout.js\"), WebIO.Asset(\"js\", \"knockout_punches\", \"/home/dushya/.julia/packages/Knockout/HReiN/src/../assets/knockout_punches.js\"), WebIO.Asset(\"js\", nothing, \"/home/dushya/.julia/packages/InteractBase/LJXv3/src/../assets/all.js\"), WebIO.Asset(\"css\", nothing, \"/home/dushya/.julia/packages/InteractBase/LJXv3/src/../assets/style.css\"), WebIO.Asset(\"css\", nothing, \"/home/dushya/.julia/packages/Interact/PENUy/src/../assets/bulma_confined.min.css\")], Dict{Any, Any}(\"changes\" => Any[WebIO.JSString(\"(function (val){return (val!=this.model[\\\"changes\\\"]()) ? (this.valueFromJulia[\\\"changes\\\"]=true, this.model[\\\"changes\\\"](val)) : undefined})\")], \"index\" => Any[WebIO.JSString(\"(function (val){return (val!=this.model[\\\"index\\\"]()) ? (this.valueFromJulia[\\\"index\\\"]=true, this.model[\\\"index\\\"](val)) : undefined})\")]), WebIO.ConnectionPool(Channel{Any}(32), Set{WebIO.AbstractConnection}(), Base.GenericCondition{ReentrantLock}(Base.IntrusiveLinkedList{Task}(Task (runnable) @0x00007fb88b570010, Task (runnable) @0x00007fb88b570010), ReentrantLock(nothing, 0x00000000, 0x00, Base.GenericCondition{Base.Threads.SpinLock}(Base.IntrusiveLinkedList{Task}(nothing, nothing), Base.Threads.SpinLock(0)), (2, 140430311778320, 140430604697520)))), WebIO.JSString[WebIO.JSString(\"function () {\\n    var handler = (function (ko, koPunches) {\\n    ko.punches.enableAll();\\n    ko.bindingHandlers.numericValue = {\\n        init: function(element, valueAccessor, allBindings, data, context) {\\n            var stringified = ko.observable(ko.unwrap(valueAccessor()));\\n            stringified.subscribe(function(value) {\\n                var val = parseFloat(value);\\n                if (!isNaN(val)) {\\n                    valueAccessor()(val);\\n                }\\n            });\\n            valueAccessor().subscribe(function(value) {\\n                var str = JSON.stringify(value);\\n                if ((str == \\\"0\\\") && ([\\\"-0\\\", \\\"-0.\\\"].indexOf(stringified()) >= 0))\\n                     return;\\n                 if ([\\\"null\\\", \\\"\\\"].indexOf(str) >= 0)\\n                     return;\\n                stringified(str);\\n            });\\n            ko.applyBindingsToNode(\\n                element,\\n                {\\n                    value: stringified,\\n                    valueUpdate: allBindings.get('valueUpdate'),\\n                },\\n                context,\\n            );\\n        }\\n    };\\n    var json_data = {\\\"formatted_vals\\\":[\\\"1\\\",\\\"2\\\",\\\"3\\\",\\\"4\\\",\\\"5\\\",\\\"6\\\",\\\"7\\\",\\\"8\\\",\\\"9\\\",\\\"10\\\",\\\"11\\\",\\\"12\\\",\\\"13\\\",\\\"14\\\",\\\"15\\\",\\\"16\\\",\\\"17\\\",\\\"18\\\",\\\"19\\\",\\\"20\\\"],\\\"changes\\\":WebIO.getval({\\\"name\\\":\\\"changes\\\",\\\"scope\\\":\\\"16724062157979820593\\\",\\\"id\\\":\\\"5904814361389944572\\\",\\\"type\\\":\\\"observable\\\"}),\\\"index\\\":WebIO.getval({\\\"name\\\":\\\"index\\\",\\\"scope\\\":\\\"16724062157979820593\\\",\\\"id\\\":\\\"14556662216660674564\\\",\\\"type\\\":\\\"observable\\\"})};\\n    var self = this;\\n    function AppViewModel() {\\n        for (var key in json_data) {\\n            var el = json_data[key];\\n            this[key] = Array.isArray(el) ? ko.observableArray(el) : ko.observable(el);\\n        }\\n        \\n        [this[\\\"formatted_val\\\"]=ko.computed(    function(){\\n        return this.formatted_vals()[parseInt(this.index())-(1)];\\n    }\\n,this)]\\n        [this[\\\"changes\\\"].subscribe((function (val){!(this.valueFromJulia[\\\"changes\\\"]) ? (WebIO.setval({\\\"name\\\":\\\"changes\\\",\\\"scope\\\":\\\"16724062157979820593\\\",\\\"id\\\":\\\"5904814361389944572\\\",\\\"type\\\":\\\"observable\\\"},val)) : undefined; return this.valueFromJulia[\\\"changes\\\"]=false}),self),this[\\\"index\\\"].subscribe((function (val){!(this.valueFromJulia[\\\"index\\\"]) ? (WebIO.setval({\\\"name\\\":\\\"index\\\",\\\"scope\\\":\\\"16724062157979820593\\\",\\\"id\\\":\\\"14556662216660674564\\\",\\\"type\\\":\\\"observable\\\"},val)) : undefined; return this.valueFromJulia[\\\"index\\\"]=false}),self)]\\n        \\n    }\\n    self.model = new AppViewModel();\\n    self.valueFromJulia = {};\\n    for (var key in json_data) {\\n        self.valueFromJulia[key] = false;\\n    }\\n    ko.applyBindings(self.model, self.dom);\\n}\\n);\\n    (WebIO.importBlock({\\\"data\\\":[{\\\"name\\\":\\\"knockout\\\",\\\"type\\\":\\\"js\\\",\\\"url\\\":\\\"/assetserver/727383f2a47bd31570b7da84eee7b022dd6d7c78-knockout.js\\\"},{\\\"name\\\":\\\"knockout_punches\\\",\\\"type\\\":\\\"js\\\",\\\"url\\\":\\\"/assetserver/382b41b3b1bd9f26f75861d360bad7f8beea211f-knockout_punches.js\\\"}],\\\"type\\\":\\\"async_block\\\"})).then((imports) => handler.apply(this, imports));\\n}\\n\")])], Dict{Symbol, Any}(:className => \"field interact-widget\")), WebIO.Node{WebIO.DOM}(WebIO.DOM(:html, :div), Any[WebIO.Scope(WebIO.Node{WebIO.DOM}(WebIO.DOM(:html, :div), Any[WebIO.Node{WebIO.DOM}(WebIO.DOM(:html, :div), Any[WebIO.Node{WebIO.DOM}(WebIO.DOM(:html, :label), Any[\"scale\"], Dict{Symbol, Any}(:className => \"interact \", :style => Dict{Any, Any}(:padding => \"5px 10px 0px 10px\")))], Dict{Symbol, Any}(:className => \"interact-flex-row-left\")), WebIO.Node{WebIO.DOM}(WebIO.DOM(:html, :div), Any[WebIO.Node{WebIO.DOM}(WebIO.DOM(:html, :input), Any[], Dict{Symbol, Any}(:max => 20, :min => 1, :attributes => Dict{Any, Any}(:type => \"range\", Symbol(\"data-bind\") => \"numericValue: index, valueUpdate: 'input', event: {change: function (){this.changes(this.changes()+1)}}\", \"orient\" => \"horizontal\"), :step => 1, :className => \"slider slider is-fullwidth\", :style => Dict{Any, Any}()))], Dict{Symbol, Any}(:className => \"interact-flex-row-center\")), WebIO.Node{WebIO.DOM}(WebIO.DOM(:html, :div), Any[WebIO.Node{WebIO.DOM}(WebIO.DOM(:html, :p), Any[], Dict{Symbol, Any}(:attributes => Dict(\"data-bind\" => \"text: formatted_val\")))], Dict{Symbol, Any}(:className => \"interact-flex-row-right\"))], Dict{Symbol, Any}(:className => \"interact-flex-row interact-widget\")), Dict{String, Tuple{Observables.AbstractObservable, Union{Nothing, Bool}}}(\"changes\" => (Observable(0), nothing), \"index\" => (Observable{Any}(10), nothing)), Set{String}(), nothing, WebIO.Asset[WebIO.Asset(\"js\", \"knockout\", \"/home/dushya/.julia/packages/Knockout/HReiN/src/../assets/knockout.js\"), WebIO.Asset(\"js\", \"knockout_punches\", \"/home/dushya/.julia/packages/Knockout/HReiN/src/../assets/knockout_punches.js\"), WebIO.Asset(\"js\", nothing, \"/home/dushya/.julia/packages/InteractBase/LJXv3/src/../assets/all.js\"), WebIO.Asset(\"css\", nothing, \"/home/dushya/.julia/packages/InteractBase/LJXv3/src/../assets/style.css\"), WebIO.Asset(\"css\", nothing, \"/home/dushya/.julia/packages/Interact/PENUy/src/../assets/bulma_confined.min.css\")], Dict{Any, Any}(\"changes\" => Any[WebIO.JSString(\"(function (val){return (val!=this.model[\\\"changes\\\"]()) ? (this.valueFromJulia[\\\"changes\\\"]=true, this.model[\\\"changes\\\"](val)) : undefined})\")], \"index\" => Any[WebIO.JSString(\"(function (val){return (val!=this.model[\\\"index\\\"]()) ? (this.valueFromJulia[\\\"index\\\"]=true, this.model[\\\"index\\\"](val)) : undefined})\")]), WebIO.ConnectionPool(Channel{Any}(32), Set{WebIO.AbstractConnection}(), Base.GenericCondition{ReentrantLock}(Base.IntrusiveLinkedList{Task}(Task (runnable) @0x00007fb88b629780, Task (runnable) @0x00007fb88b629780), ReentrantLock(nothing, 0x00000000, 0x00, Base.GenericCondition{Base.Threads.SpinLock}(Base.IntrusiveLinkedList{Task}(nothing, nothing), Base.Threads.SpinLock(0)), (8, -1, 0)))), WebIO.JSString[WebIO.JSString(\"function () {\\n    var handler = (function (ko, koPunches) {\\n    ko.punches.enableAll();\\n    ko.bindingHandlers.numericValue = {\\n        init: function(element, valueAccessor, allBindings, data, context) {\\n            var stringified = ko.observable(ko.unwrap(valueAccessor()));\\n            stringified.subscribe(function(value) {\\n                var val = parseFloat(value);\\n                if (!isNaN(val)) {\\n                    valueAccessor()(val);\\n                }\\n            });\\n            valueAccessor().subscribe(function(value) {\\n                var str = JSON.stringify(value);\\n                if ((str == \\\"0\\\") && ([\\\"-0\\\", \\\"-0.\\\"].indexOf(stringified()) >= 0))\\n                     return;\\n                 if ([\\\"null\\\", \\\"\\\"].indexOf(str) >= 0)\\n                     return;\\n                stringified(str);\\n            });\\n            ko.applyBindingsToNode(\\n                element,\\n                {\\n                    value: stringified,\\n                    valueUpdate: allBindings.get('valueUpdate'),\\n                },\\n                context,\\n            );\\n        }\\n    };\\n    var json_data = {\\\"formatted_vals\\\":[\\\"0.1\\\",\\\"0.2\\\",\\\"0.3\\\",\\\"0.4\\\",\\\"0.5\\\",\\\"0.6\\\",\\\"0.7\\\",\\\"0.8\\\",\\\"0.9\\\",\\\"1.0\\\",\\\"1.1\\\",\\\"1.2\\\",\\\"1.3\\\",\\\"1.4\\\",\\\"1.5\\\",\\\"1.6\\\",\\\"1.7\\\",\\\"1.8\\\",\\\"1.9\\\",\\\"2.0\\\"],\\\"changes\\\":WebIO.getval({\\\"name\\\":\\\"changes\\\",\\\"scope\\\":\\\"14347321186204569265\\\",\\\"id\\\":\\\"17947071698463490899\\\",\\\"type\\\":\\\"observable\\\"}),\\\"index\\\":WebIO.getval({\\\"name\\\":\\\"index\\\",\\\"scope\\\":\\\"14347321186204569265\\\",\\\"id\\\":\\\"12694988147849819909\\\",\\\"type\\\":\\\"observable\\\"})};\\n    var self = this;\\n    function AppViewModel() {\\n        for (var key in json_data) {\\n            var el = json_data[key];\\n            this[key] = Array.isArray(el) ? ko.observableArray(el) : ko.observable(el);\\n        }\\n        \\n        [this[\\\"formatted_val\\\"]=ko.computed(    function(){\\n        return this.formatted_vals()[parseInt(this.index())-(1)];\\n    }\\n,this)]\\n        [this[\\\"changes\\\"].subscribe((function (val){!(this.valueFromJulia[\\\"changes\\\"]) ? (WebIO.setval({\\\"name\\\":\\\"changes\\\",\\\"scope\\\":\\\"14347321186204569265\\\",\\\"id\\\":\\\"17947071698463490899\\\",\\\"type\\\":\\\"observable\\\"},val)) : undefined; return this.valueFromJulia[\\\"changes\\\"]=false}),self),this[\\\"index\\\"].subscribe((function (val){!(this.valueFromJulia[\\\"index\\\"]) ? (WebIO.setval({\\\"name\\\":\\\"index\\\",\\\"scope\\\":\\\"14347321186204569265\\\",\\\"id\\\":\\\"12694988147849819909\\\",\\\"type\\\":\\\"observable\\\"},val)) : undefined; return this.valueFromJulia[\\\"index\\\"]=false}),self)]\\n        \\n    }\\n    self.model = new AppViewModel();\\n    self.valueFromJulia = {};\\n    for (var key in json_data) {\\n        self.valueFromJulia[key] = false;\\n    }\\n    ko.applyBindings(self.model, self.dom);\\n}\\n);\\n    (WebIO.importBlock({\\\"data\\\":[{\\\"name\\\":\\\"knockout\\\",\\\"type\\\":\\\"js\\\",\\\"url\\\":\\\"/assetserver/727383f2a47bd31570b7da84eee7b022dd6d7c78-knockout.js\\\"},{\\\"name\\\":\\\"knockout_punches\\\",\\\"type\\\":\\\"js\\\",\\\"url\\\":\\\"/assetserver/382b41b3b1bd9f26f75861d360bad7f8beea211f-knockout_punches.js\\\"}],\\\"type\\\":\\\"async_block\\\"})).then((imports) => handler.apply(this, imports));\\n}\\n\")])], Dict{Symbol, Any}(:className => \"field interact-widget\")), WebIO.Node{WebIO.DOM}(WebIO.DOM(:html, :div), Any[WebIO.Node{WebIO.DOM}(WebIO.DOM(:html, :div), Any[WebIO.Scope(WebIO.Node{WebIO.DOM}(WebIO.DOM(:html, :div), Any[], Dict{Symbol, Any}(:id => \"container\")), Dict{String, Tuple{Observables.AbstractObservable, Union{Nothing, Bool}}}(\"value\" => (Observable(\"\\\\;\\\\;\"), nothing)), Set{String}(), nothing, WebIO.Asset[WebIO.Asset(\"js\", nothing, \"/home/dushya/.julia/packages/InteractBase/LJXv3/src/../assets/katex.min.js\"), WebIO.Asset(\"css\", nothing, \"/home/dushya/.julia/packages/InteractBase/LJXv3/src/../assets/katex.min.css\")], Dict{Any, Any}(\"value\" => Any[WebIO.JSString(\"(function (txt){return this.k.render(txt,this.container)})\")]), WebIO.ConnectionPool(Channel{Any}(32), Set{WebIO.AbstractConnection}(), Base.GenericCondition{ReentrantLock}(Base.IntrusiveLinkedList{Task}(Task (runnable) @0x00007fb8be748330, Task (runnable) @0x00007fb8be748330), ReentrantLock(nothing, 0x00000000, 0x00, Base.GenericCondition{Base.Threads.SpinLock}(Base.IntrusiveLinkedList{Task}(nothing, nothing), Base.Threads.SpinLock(0)), (1, 140429518159248, 0)))), WebIO.JSString[WebIO.JSString(\"function () {\\n    var handler = ((function (k){this.k=k; this.container=this.dom.querySelector(\\\"#container\\\"); return k.render(\\\"\\\\\\\\;\\\\\\\\;\\\",this.container)}));\\n    (WebIO.importBlock({\\\"data\\\":[{\\\"name\\\":null,\\\"type\\\":\\\"js\\\",\\\"url\\\":\\\"/assetserver/dd22ed1bf1896c2748f3fe616ce0b838adc895c1-katex.min.js\\\"},{\\\"name\\\":null,\\\"type\\\":\\\"css\\\",\\\"url\\\":\\\"/assetserver/46517a424aa5e6cffc1360d7e0848b601c584ee3-katex.min.css\\\"}],\\\"type\\\":\\\"async_block\\\"})).then((imports) => handler.apply(this, imports));\\n}\\n\")])], Dict{Symbol, Any}(:className => \"interact-widget\")), WebIO.Node{WebIO.DOM}(WebIO.DOM(:html, :div), Any[WebIO.Scope(WebIO.Node{WebIO.DOM}(WebIO.DOM(:html, :button), Any[\"run\"], Dict{Symbol, Any}(:attributes => Dict{Any, Any}(\"data-bind\" => \"click: function (){this.clicks(this.clicks()+1)}, css: {'is-loading' : loading}\"), :className => \"is-medium button is-primary\", :style => Dict{String, Any}())), Dict{String, Tuple{Observables.AbstractObservable, Union{Nothing, Bool}}}(\"loading\" => (Observable(false), nothing), \"clicks\" => (Observable(0), nothing)), Set{String}(), nothing, WebIO.Asset[WebIO.Asset(\"js\", \"knockout\", \"/home/dushya/.julia/packages/Knockout/HReiN/src/../assets/knockout.js\"), WebIO.Asset(\"js\", \"knockout_punches\", \"/home/dushya/.julia/packages/Knockout/HReiN/src/../assets/knockout_punches.js\"), WebIO.Asset(\"js\", nothing, \"/home/dushya/.julia/packages/InteractBase/LJXv3/src/../assets/all.js\"), WebIO.Asset(\"css\", nothing, \"/home/dushya/.julia/packages/InteractBase/LJXv3/src/../assets/style.css\"), WebIO.Asset(\"css\", nothing, \"/home/dushya/.julia/packages/Interact/PENUy/src/../assets/bulma_confined.min.css\")], Dict{Any, Any}(\"loading\" => Any[WebIO.JSString(\"(function (val){return (val!=this.model[\\\"loading\\\"]()) ? (this.valueFromJulia[\\\"loading\\\"]=true, this.model[\\\"loading\\\"](val)) : undefined})\")], \"clicks\" => Any[WebIO.JSString(\"(function (val){return (val!=this.model[\\\"clicks\\\"]()) ? (this.valueFromJulia[\\\"clicks\\\"]=true, this.model[\\\"clicks\\\"](val)) : undefined})\")]), WebIO.ConnectionPool(Channel{Any}(32), Set{WebIO.AbstractConnection}(), Base.GenericCondition{ReentrantLock}(Base.IntrusiveLinkedList{Task}(Task (runnable) @0x00007fb8be23a590, Task (runnable) @0x00007fb8be23a590), ReentrantLock(nothing, 0x00000000, 0x00, Base.GenericCondition{Base.Threads.SpinLock}(Base.IntrusiveLinkedList{Task}(nothing, nothing), Base.Threads.SpinLock(0)), (0, 140431324156992, 0)))), WebIO.JSString[WebIO.JSString(\"function () {\\n    var handler = (function (ko, koPunches) {\\n    ko.punches.enableAll();\\n    ko.bindingHandlers.numericValue = {\\n        init: function(element, valueAccessor, allBindings, data, context) {\\n            var stringified = ko.observable(ko.unwrap(valueAccessor()));\\n            stringified.subscribe(function(value) {\\n                var val = parseFloat(value);\\n                if (!isNaN(val)) {\\n                    valueAccessor()(val);\\n                }\\n            });\\n            valueAccessor().subscribe(function(value) {\\n                var str = JSON.stringify(value);\\n                if ((str == \\\"0\\\") && ([\\\"-0\\\", \\\"-0.\\\"].indexOf(stringified()) >= 0))\\n                     return;\\n                 if ([\\\"null\\\", \\\"\\\"].indexOf(str) >= 0)\\n                     return;\\n                stringified(str);\\n            });\\n            ko.applyBindingsToNode(\\n                element,\\n                {\\n                    value: stringified,\\n                    valueUpdate: allBindings.get('valueUpdate'),\\n                },\\n                context,\\n            );\\n        }\\n    };\\n    var json_data = {\\\"loading\\\":WebIO.getval({\\\"name\\\":\\\"loading\\\",\\\"scope\\\":\\\"15382399012593077288\\\",\\\"id\\\":\\\"15311643199540400389\\\",\\\"type\\\":\\\"observable\\\"}),\\\"clicks\\\":WebIO.getval({\\\"name\\\":\\\"clicks\\\",\\\"scope\\\":\\\"15382399012593077288\\\",\\\"id\\\":\\\"6942373399207477761\\\",\\\"type\\\":\\\"observable\\\"})};\\n    var self = this;\\n    function AppViewModel() {\\n        for (var key in json_data) {\\n            var el = json_data[key];\\n            this[key] = Array.isArray(el) ? ko.observableArray(el) : ko.observable(el);\\n        }\\n        \\n        \\n        [this[\\\"loading\\\"].subscribe((function (val){!(this.valueFromJulia[\\\"loading\\\"]) ? (WebIO.setval({\\\"name\\\":\\\"loading\\\",\\\"scope\\\":\\\"15382399012593077288\\\",\\\"id\\\":\\\"15311643199540400389\\\",\\\"type\\\":\\\"observable\\\"},val)) : undefined; return this.valueFromJulia[\\\"loading\\\"]=false}),self),this[\\\"clicks\\\"].subscribe((function (val){!(this.valueFromJulia[\\\"clicks\\\"]) ? (WebIO.setval({\\\"name\\\":\\\"clicks\\\",\\\"scope\\\":\\\"15382399012593077288\\\",\\\"id\\\":\\\"6942373399207477761\\\",\\\"type\\\":\\\"observable\\\"},val)) : undefined; return this.valueFromJulia[\\\"clicks\\\"]=false}),self)]\\n        \\n    }\\n    self.model = new AppViewModel();\\n    self.valueFromJulia = {};\\n    for (var key in json_data) {\\n        self.valueFromJulia[key] = false;\\n    }\\n    ko.applyBindings(self.model, self.dom);\\n}\\n);\\n    (WebIO.importBlock({\\\"data\\\":[{\\\"name\\\":\\\"knockout\\\",\\\"type\\\":\\\"js\\\",\\\"url\\\":\\\"/assetserver/727383f2a47bd31570b7da84eee7b022dd6d7c78-knockout.js\\\"},{\\\"name\\\":\\\"knockout_punches\\\",\\\"type\\\":\\\"js\\\",\\\"url\\\":\\\"/assetserver/382b41b3b1bd9f26f75861d360bad7f8beea211f-knockout_punches.js\\\"}],\\\"type\\\":\\\"async_block\\\"})).then((imports) => handler.apply(this, imports));\\n}\\n\")])], Dict{Symbol, Any}(:className => \"field interact-widget\")), WebIO.Node{WebIO.DOM}(WebIO.DOM(:html, :div), Any[WebIO.Scope(WebIO.Node{WebIO.DOM}(WebIO.DOM(:html, :div), Any[], Dict{Symbol, Any}(:id => \"container\")), Dict{String, Tuple{Observables.AbstractObservable, Union{Nothing, Bool}}}(\"value\" => (Observable(\"\\\\;\\\\;\"), nothing)), Set{String}(), nothing, WebIO.Asset[WebIO.Asset(\"js\", nothing, \"/home/dushya/.julia/packages/InteractBase/LJXv3/src/../assets/katex.min.js\"), WebIO.Asset(\"css\", nothing, \"/home/dushya/.julia/packages/InteractBase/LJXv3/src/../assets/katex.min.css\")], Dict{Any, Any}(\"value\" => Any[WebIO.JSString(\"(function (txt){return this.k.render(txt,this.container)})\")]), WebIO.ConnectionPool(Channel{Any}(32), Set{WebIO.AbstractConnection}(), Base.GenericCondition{ReentrantLock}(Base.IntrusiveLinkedList{Task}(Task (runnable) @0x00007fb8be748330, Task (runnable) @0x00007fb8be748330), ReentrantLock(nothing, 0x00000000, 0x00, Base.GenericCondition{Base.Threads.SpinLock}(Base.IntrusiveLinkedList{Task}(nothing, nothing), Base.Threads.SpinLock(0)), (1, 140429518159248, 0)))), WebIO.JSString[WebIO.JSString(\"function () {\\n    var handler = ((function (k){this.k=k; this.container=this.dom.querySelector(\\\"#container\\\"); return k.render(\\\"\\\\\\\\;\\\\\\\\;\\\",this.container)}));\\n    (WebIO.importBlock({\\\"data\\\":[{\\\"name\\\":null,\\\"type\\\":\\\"js\\\",\\\"url\\\":\\\"/assetserver/dd22ed1bf1896c2748f3fe616ce0b838adc895c1-katex.min.js\\\"},{\\\"name\\\":null,\\\"type\\\":\\\"css\\\",\\\"url\\\":\\\"/assetserver/46517a424aa5e6cffc1360d7e0848b601c584ee3-katex.min.css\\\"}],\\\"type\\\":\\\"async_block\\\"})).then((imports) => handler.apply(this, imports));\\n}\\n\")])], Dict{Symbol, Any}(:className => \"interact-widget\")), WebIO.Node{WebIO.DOM}(WebIO.DOM(:html, :div), Any[WebIO.Scope(WebIO.Node{WebIO.DOM}(WebIO.DOM(:html, :button), Any[\"stop\"], Dict{Symbol, Any}(:attributes => Dict{Any, Any}(\"data-bind\" => \"click: function (){this.clicks(this.clicks()+1)}, css: {'is-loading' : loading}\"), :className => \"is-medium button is-primary\", :style => Dict{String, Any}())), Dict{String, Tuple{Observables.AbstractObservable, Union{Nothing, Bool}}}(\"loading\" => (Observable(false), nothing), \"clicks\" => (Observable(0), nothing)), Set{String}(), nothing, WebIO.Asset[WebIO.Asset(\"js\", \"knockout\", \"/home/dushya/.julia/packages/Knockout/HReiN/src/../assets/knockout.js\"), WebIO.Asset(\"js\", \"knockout_punches\", \"/home/dushya/.julia/packages/Knockout/HReiN/src/../assets/knockout_punches.js\"), WebIO.Asset(\"js\", nothing, \"/home/dushya/.julia/packages/InteractBase/LJXv3/src/../assets/all.js\"), WebIO.Asset(\"css\", nothing, \"/home/dushya/.julia/packages/InteractBase/LJXv3/src/../assets/style.css\"), WebIO.Asset(\"css\", nothing, \"/home/dushya/.julia/packages/Interact/PENUy/src/../assets/bulma_confined.min.css\")], Dict{Any, Any}(\"loading\" => Any[WebIO.JSString(\"(function (val){return (val!=this.model[\\\"loading\\\"]()) ? (this.valueFromJulia[\\\"loading\\\"]=true, this.model[\\\"loading\\\"](val)) : undefined})\")], \"clicks\" => Any[WebIO.JSString(\"(function (val){return (val!=this.model[\\\"clicks\\\"]()) ? (this.valueFromJulia[\\\"clicks\\\"]=true, this.model[\\\"clicks\\\"](val)) : undefined})\")]), WebIO.ConnectionPool(Channel{Any}(32), Set{WebIO.AbstractConnection}(), Base.GenericCondition{ReentrantLock}(Base.IntrusiveLinkedList{Task}(Task (runnable) @0x00007fb88bb9bd00, Task (runnable) @0x00007fb88bb9bd00), ReentrantLock(nothing, 0x00000000, 0x00, Base.GenericCondition{Base.Threads.SpinLock}(Base.IntrusiveLinkedList{Task}(nothing, nothing), Base.Threads.SpinLock(0)), (8, 140431463645584, 140431463645824)))), WebIO.JSString[WebIO.JSString(\"function () {\\n    var handler = (function (ko, koPunches) {\\n    ko.punches.enableAll();\\n    ko.bindingHandlers.numericValue = {\\n        init: function(element, valueAccessor, allBindings, data, context) {\\n            var stringified = ko.observable(ko.unwrap(valueAccessor()));\\n            stringified.subscribe(function(value) {\\n                var val = parseFloat(value);\\n                if (!isNaN(val)) {\\n                    valueAccessor()(val);\\n                }\\n            });\\n            valueAccessor().subscribe(function(value) {\\n                var str = JSON.stringify(value);\\n                if ((str == \\\"0\\\") && ([\\\"-0\\\", \\\"-0.\\\"].indexOf(stringified()) >= 0))\\n                     return;\\n                 if ([\\\"null\\\", \\\"\\\"].indexOf(str) >= 0)\\n                     return;\\n                stringified(str);\\n            });\\n            ko.applyBindingsToNode(\\n                element,\\n                {\\n                    value: stringified,\\n                    valueUpdate: allBindings.get('valueUpdate'),\\n                },\\n                context,\\n            );\\n        }\\n    };\\n    var json_data = {\\\"loading\\\":WebIO.getval({\\\"name\\\":\\\"loading\\\",\\\"scope\\\":\\\"8906695182922668680\\\",\\\"id\\\":\\\"15081707701396464549\\\",\\\"type\\\":\\\"observable\\\"}),\\\"clicks\\\":WebIO.getval({\\\"name\\\":\\\"clicks\\\",\\\"scope\\\":\\\"8906695182922668680\\\",\\\"id\\\":\\\"9020066224042481588\\\",\\\"type\\\":\\\"observable\\\"})};\\n    var self = this;\\n    function AppViewModel() {\\n        for (var key in json_data) {\\n            var el = json_data[key];\\n            this[key] = Array.isArray(el) ? ko.observableArray(el) : ko.observable(el);\\n        }\\n        \\n        \\n        [this[\\\"loading\\\"].subscribe((function (val){!(this.valueFromJulia[\\\"loading\\\"]) ? (WebIO.setval({\\\"name\\\":\\\"loading\\\",\\\"scope\\\":\\\"8906695182922668680\\\",\\\"id\\\":\\\"15081707701396464549\\\",\\\"type\\\":\\\"observable\\\"},val)) : undefined; return this.valueFromJulia[\\\"loading\\\"]=false}),self),this[\\\"clicks\\\"].subscribe((function (val){!(this.valueFromJulia[\\\"clicks\\\"]) ? (WebIO.setval({\\\"name\\\":\\\"clicks\\\",\\\"scope\\\":\\\"8906695182922668680\\\",\\\"id\\\":\\\"9020066224042481588\\\",\\\"type\\\":\\\"observable\\\"},val)) : undefined; return this.valueFromJulia[\\\"clicks\\\"]=false}),self)]\\n        \\n    }\\n    self.model = new AppViewModel();\\n    self.valueFromJulia = {};\\n    for (var key in json_data) {\\n        self.valueFromJulia[key] = false;\\n    }\\n    ko.applyBindings(self.model, self.dom);\\n}\\n);\\n    (WebIO.importBlock({\\\"data\\\":[{\\\"name\\\":\\\"knockout\\\",\\\"type\\\":\\\"js\\\",\\\"url\\\":\\\"/assetserver/727383f2a47bd31570b7da84eee7b022dd6d7c78-knockout.js\\\"},{\\\"name\\\":\\\"knockout_punches\\\",\\\"type\\\":\\\"js\\\",\\\"url\\\":\\\"/assetserver/382b41b3b1bd9f26f75861d360bad7f8beea211f-knockout_punches.js\\\"}],\\\"type\\\":\\\"async_block\\\"})).then((imports) => handler.apply(this, imports));\\n}\\n\")])], Dict{Symbol, Any}(:className => \"field interact-widget\"))], Dict{Symbol, Any}(:style => Dict(\"display\" => \"flex\", \"flex-direction\" => \"row\")))], Dict{Symbol, Any}(:style => Dict(\"display\" => \"flex\", \"flex-direction\" => \"column\"))), Observable(MeshCat.DisplayedVisualizer(MeshCat.CoreVisualizer(MeshCat.SceneTrees.SceneNode(nothing, nothing, Dict{String, Vector{UInt8}}(), nothing, Dict{String, MeshCat.SceneTrees.SceneNode}(\"meshcat\" => MeshCat.SceneTrees.SceneNode(nothing, UInt8[0x83, 0xa6, 0x6d, 0x61, 0x74, 0x72, 0x69, 0x78, 0xc7, 0x40  …  0x68, 0xa8, 0x2f, 0x6d, 0x65, 0x73, 0x68, 0x63, 0x61, 0x74], Dict{String, Vector{UInt8}}(), nothing, Dict{String, MeshCat.SceneTrees.SceneNode}(\"agents\" => MeshCat.SceneTrees.SceneNode(nothing, nothing, Dict{String, Vector{UInt8}}(), nothing, Dict{String, MeshCat.SceneTrees.SceneNode}(\"131sphere\" => MeshCat.SceneTrees.SceneNode(nothing, UInt8[0x83, 0xa6, 0x6d, 0x61, 0x74, 0x72, 0x69, 0x78, 0xc7, 0x40  …  0x2f, 0x31, 0x33, 0x31, 0x73, 0x70, 0x68, 0x65, 0x72, 0x65], Dict{String, Vector{UInt8}}(\"scale\" => [0x84, 0xa8, 0x70, 0x72, 0x6f, 0x70, 0x65, 0x72, 0x74, 0x79  …  0x2f, 0x31, 0x33, 0x31, 0x73, 0x70, 0x68, 0x65, 0x72, 0x65]), nothing, Dict{String, MeshCat.SceneTrees.SceneNode}(\"(0.0N0f8, 1.0N0f8, 0.0N0f8, 1.0N0f8)\" => MeshCat.SceneTrees.SceneNode(UInt8[0x83, 0xa6, 0x6f, 0x62, 0x6a, 0x65, 0x63, 0x74, 0x84, 0xaa  …  0x2c, 0x20, 0x31, 0x2e, 0x30, 0x4e, 0x30, 0x66, 0x38, 0x29], nothing, Dict{String, Vector{UInt8}}(\"visible\" => [0x84, 0xa8, 0x70, 0x72, 0x6f, 0x70, 0x65, 0x72, 0x74, 0x79  …  0x2c, 0x20, 0x31, 0x2e, 0x30, 0x4e, 0x30, 0x66, 0x38, 0x29]), nothing, Dict{String, MeshCat.SceneTrees.SceneNode}()))), \"183sphere\" => MeshCat.SceneTrees.SceneNode(nothing, UInt8[0x83, 0xa6, 0x6d, 0x61, 0x74, 0x72, 0x69, 0x78, 0xc7, 0x40  …  0x2f, 0x31, 0x38, 0x33, 0x73, 0x70, 0x68, 0x65, 0x72, 0x65], Dict{String, Vector{UInt8}}(\"scale\" => [0x84, 0xa8, 0x70, 0x72, 0x6f, 0x70, 0x65, 0x72, 0x74, 0x79  …  0x2f, 0x31, 0x38, 0x33, 0x73, 0x70, 0x68, 0x65, 0x72, 0x65]), nothing, Dict{String, MeshCat.SceneTrees.SceneNode}(\"(0.0N0f8, 1.0N0f8, 0.0N0f8, 1.0N0f8)\" => MeshCat.SceneTrees.SceneNode(UInt8[0x83, 0xa6, 0x6f, 0x62, 0x6a, 0x65, 0x63, 0x74, 0x84, 0xaa  …  0x2c, 0x20, 0x31, 0x2e, 0x30, 0x4e, 0x30, 0x66, 0x38, 0x29], nothing, Dict{String, Vector{UInt8}}(\"visible\" => [0x84, 0xa8, 0x70, 0x72, 0x6f, 0x70, 0x65, 0x72, 0x74, 0x79  …  0x2c, 0x20, 0x31, 0x2e, 0x30, 0x4e, 0x30, 0x66, 0x38, 0x29]), nothing, Dict{String, MeshCat.SceneTrees.SceneNode}()))), \"186sphere\" => MeshCat.SceneTrees.SceneNode(nothing, UInt8[0x83, 0xa6, 0x6d, 0x61, 0x74, 0x72, 0x69, 0x78, 0xc7, 0x40  …  0x2f, 0x31, 0x38, 0x36, 0x73, 0x70, 0x68, 0x65, 0x72, 0x65], Dict{String, Vector{UInt8}}(\"scale\" => [0x84, 0xa8, 0x70, 0x72, 0x6f, 0x70, 0x65, 0x72, 0x74, 0x79  …  0x2f, 0x31, 0x38, 0x36, 0x73, 0x70, 0x68, 0x65, 0x72, 0x65]), nothing, Dict{String, MeshCat.SceneTrees.SceneNode}(\"(0.0N0f8, 1.0N0f8, 0.0N0f8, 1.0N0f8)\" => MeshCat.SceneTrees.SceneNode(UInt8[0x83, 0xa6, 0x6f, 0x62, 0x6a, 0x65, 0x63, 0x74, 0x84, 0xaa  …  0x2c, 0x20, 0x31, 0x2e, 0x30, 0x4e, 0x30, 0x66, 0x38, 0x29], nothing, Dict{String, Vector{UInt8}}(\"visible\" => [0x84, 0xa8, 0x70, 0x72, 0x6f, 0x70, 0x65, 0x72, 0x74, 0x79  …  0x2c, 0x20, 0x31, 0x2e, 0x30, 0x4e, 0x30, 0x66, 0x38, 0x29]), nothing, Dict{String, MeshCat.SceneTrees.SceneNode}()))), \"87sphere\" => MeshCat.SceneTrees.SceneNode(nothing, UInt8[0x83, 0xa6, 0x6d, 0x61, 0x74, 0x72, 0x69, 0x78, 0xc7, 0x40  …  0x73, 0x2f, 0x38, 0x37, 0x73, 0x70, 0x68, 0x65, 0x72, 0x65], Dict{String, Vector{UInt8}}(\"scale\" => [0x84, 0xa8, 0x70, 0x72, 0x6f, 0x70, 0x65, 0x72, 0x74, 0x79  …  0x73, 0x2f, 0x38, 0x37, 0x73, 0x70, 0x68, 0x65, 0x72, 0x65]), nothing, Dict{String, MeshCat.SceneTrees.SceneNode}(\"(1.0N0f8, 0.0N0f8, 0.0N0f8, 1.0N0f8)\" => MeshCat.SceneTrees.SceneNode(UInt8[0x83, 0xa6, 0x6f, 0x62, 0x6a, 0x65, 0x63, 0x74, 0x84, 0xaa  …  0x2c, 0x20, 0x31, 0x2e, 0x30, 0x4e, 0x30, 0x66, 0x38, 0x29], nothing, Dict{String, Vector{UInt8}}(\"visible\" => [0x84, 0xa8, 0x70, 0x72, 0x6f, 0x70, 0x65, 0x72, 0x74, 0x79  …  0x2c, 0x20, 0x31, 0x2e, 0x30, 0x4e, 0x30, 0x66, 0x38, 0x29]), nothing, Dict{String, MeshCat.SceneTrees.SceneNode}()))), \"130sphere\" => MeshCat.SceneTrees.SceneNode(nothing, UInt8[0x83, 0xa6, 0x6d, 0x61, 0x74, 0x72, 0x69, 0x78, 0xc7, 0x40  …  0x2f, 0x31, 0x33, 0x30, 0x73, 0x70, 0x68, 0x65, 0x72, 0x65], Dict{String, Vector{UInt8}}(\"scale\" => [0x84, 0xa8, 0x70, 0x72, 0x6f, 0x70, 0x65, 0x72, 0x74, 0x79  …  0x2f, 0x31, 0x33, 0x30, 0x73, 0x70, 0x68, 0x65, 0x72, 0x65]), nothing, Dict{String, MeshCat.SceneTrees.SceneNode}(\"(1.0N0f8, 0.0N0f8, 0.0N0f8, 1.0N0f8)\" => MeshCat.SceneTrees.SceneNode(UInt8[0x83, 0xa6, 0x6f, 0x62, 0x6a, 0x65, 0x63, 0x74, 0x84, 0xaa  …  0x2c, 0x20, 0x31, 0x2e, 0x30, 0x4e, 0x30, 0x66, 0x38, 0x29], nothing, Dict{String, Vector{UInt8}}(\"visible\" => [0x84, 0xa8, 0x70, 0x72, 0x6f, 0x70, 0x65, 0x72, 0x74, 0x79  …  0x2c, 0x20, 0x31, 0x2e, 0x30, 0x4e, 0x30, 0x66, 0x38, 0x29]), nothing, Dict{String, MeshCat.SceneTrees.SceneNode}()))), \"51sphere\" => MeshCat.SceneTrees.SceneNode(nothing, UInt8[0x83, 0xa6, 0x6d, 0x61, 0x74, 0x72, 0x69, 0x78, 0xc7, 0x40  …  0x73, 0x2f, 0x35, 0x31, 0x73, 0x70, 0x68, 0x65, 0x72, 0x65], Dict{String, Vector{UInt8}}(\"scale\" => [0x84, 0xa8, 0x70, 0x72, 0x6f, 0x70, 0x65, 0x72, 0x74, 0x79  …  0x73, 0x2f, 0x35, 0x31, 0x73, 0x70, 0x68, 0x65, 0x72, 0x65]), nothing, Dict{String, MeshCat.SceneTrees.SceneNode}(\"(0.0N0f8, 1.0N0f8, 0.0N0f8, 1.0N0f8)\" => MeshCat.SceneTrees.SceneNode(UInt8[0x83, 0xa6, 0x6f, 0x62, 0x6a, 0x65, 0x63, 0x74, 0x84, 0xaa  …  0x2c, 0x20, 0x31, 0x2e, 0x30, 0x4e, 0x30, 0x66, 0x38, 0x29], nothing, Dict{String, Vector{UInt8}}(\"visible\" => [0x84, 0xa8, 0x70, 0x72, 0x6f, 0x70, 0x65, 0x72, 0x74, 0x79  …  0x2c, 0x20, 0x31, 0x2e, 0x30, 0x4e, 0x30, 0x66, 0x38, 0x29]), nothing, Dict{String, MeshCat.SceneTrees.SceneNode}()))), \"9sphere\" => MeshCat.SceneTrees.SceneNode(nothing, UInt8[0x83, 0xa6, 0x6d, 0x61, 0x74, 0x72, 0x69, 0x78, 0xc7, 0x40  …  0x74, 0x73, 0x2f, 0x39, 0x73, 0x70, 0x68, 0x65, 0x72, 0x65], Dict{String, Vector{UInt8}}(\"scale\" => [0x84, 0xa8, 0x70, 0x72, 0x6f, 0x70, 0x65, 0x72, 0x74, 0x79  …  0x74, 0x73, 0x2f, 0x39, 0x73, 0x70, 0x68, 0x65, 0x72, 0x65]), nothing, Dict{String, MeshCat.SceneTrees.SceneNode}(\"(1.0N0f8, 0.0N0f8, 0.0N0f8, 1.0N0f8)\" => MeshCat.SceneTrees.SceneNode(UInt8[0x83, 0xa6, 0x6f, 0x62, 0x6a, 0x65, 0x63, 0x74, 0x84, 0xaa  …  0x2c, 0x20, 0x31, 0x2e, 0x30, 0x4e, 0x30, 0x66, 0x38, 0x29], nothing, Dict{String, Vector{UInt8}}(\"visible\" => [0x84, 0xa8, 0x70, 0x72, 0x6f, 0x70, 0x65, 0x72, 0x74, 0x79  …  0x2c, 0x20, 0x31, 0x2e, 0x30, 0x4e, 0x30, 0x66, 0x38, 0x29]), nothing, Dict{String, MeshCat.SceneTrees.SceneNode}()))), \"154sphere\" => MeshCat.SceneTrees.SceneNode(nothing, UInt8[0x83, 0xa6, 0x6d, 0x61, 0x74, 0x72, 0x69, 0x78, 0xc7, 0x40  …  0x2f, 0x31, 0x35, 0x34, 0x73, 0x70, 0x68, 0x65, 0x72, 0x65], Dict{String, Vector{UInt8}}(\"scale\" => [0x84, 0xa8, 0x70, 0x72, 0x6f, 0x70, 0x65, 0x72, 0x74, 0x79  …  0x2f, 0x31, 0x35, 0x34, 0x73, 0x70, 0x68, 0x65, 0x72, 0x65]), nothing, Dict{String, MeshCat.SceneTrees.SceneNode}(\"(1.0N0f8, 0.0N0f8, 0.0N0f8, 1.0N0f8)\" => MeshCat.SceneTrees.SceneNode(UInt8[0x83, 0xa6, 0x6f, 0x62, 0x6a, 0x65, 0x63, 0x74, 0x84, 0xaa  …  0x2c, 0x20, 0x31, 0x2e, 0x30, 0x4e, 0x30, 0x66, 0x38, 0x29], nothing, Dict{String, Vector{UInt8}}(\"visible\" => [0x84, 0xa8, 0x70, 0x72, 0x6f, 0x70, 0x65, 0x72, 0x74, 0x79  …  0x2c, 0x20, 0x31, 0x2e, 0x30, 0x4e, 0x30, 0x66, 0x38, 0x29]), nothing, Dict{String, MeshCat.SceneTrees.SceneNode}()))), \"102sphere\" => MeshCat.SceneTrees.SceneNode(nothing, UInt8[0x83, 0xa6, 0x6d, 0x61, 0x74, 0x72, 0x69, 0x78, 0xc7, 0x40  …  0x2f, 0x31, 0x30, 0x32, 0x73, 0x70, 0x68, 0x65, 0x72, 0x65], Dict{String, Vector{UInt8}}(\"scale\" => [0x84, 0xa8, 0x70, 0x72, 0x6f, 0x70, 0x65, 0x72, 0x74, 0x79  …  0x2f, 0x31, 0x30, 0x32, 0x73, 0x70, 0x68, 0x65, 0x72, 0x65]), nothing, Dict{String, MeshCat.SceneTrees.SceneNode}(\"(0.0N0f8, 1.0N0f8, 0.0N0f8, 1.0N0f8)\" => MeshCat.SceneTrees.SceneNode(UInt8[0x83, 0xa6, 0x6f, 0x62, 0x6a, 0x65, 0x63, 0x74, 0x84, 0xaa  …  0x2c, 0x20, 0x31, 0x2e, 0x30, 0x4e, 0x30, 0x66, 0x38, 0x29], nothing, Dict{String, Vector{UInt8}}(\"visible\" => [0x84, 0xa8, 0x70, 0x72, 0x6f, 0x70, 0x65, 0x72, 0x74, 0x79  …  0x2c, 0x20, 0x31, 0x2e, 0x30, 0x4e, 0x30, 0x66, 0x38, 0x29]), nothing, Dict{String, MeshCat.SceneTrees.SceneNode}()))), \"64sphere\" => MeshCat.SceneTrees.SceneNode(nothing, UInt8[0x83, 0xa6, 0x6d, 0x61, 0x74, 0x72, 0x69, 0x78, 0xc7, 0x40  …  0x73, 0x2f, 0x36, 0x34, 0x73, 0x70, 0x68, 0x65, 0x72, 0x65], Dict{String, Vector{UInt8}}(\"scale\" => [0x84, 0xa8, 0x70, 0x72, 0x6f, 0x70, 0x65, 0x72, 0x74, 0x79  …  0x73, 0x2f, 0x36, 0x34, 0x73, 0x70, 0x68, 0x65, 0x72, 0x65]), nothing, Dict{String, MeshCat.SceneTrees.SceneNode}(\"(1.0N0f8, 0.0N0f8, 0.0N0f8, 1.0N0f8)\" => MeshCat.SceneTrees.SceneNode(UInt8[0x83, 0xa6, 0x6f, 0x62, 0x6a, 0x65, 0x63, 0x74, 0x84, 0xaa  …  0x2c, 0x20, 0x31, 0x2e, 0x30, 0x4e, 0x30, 0x66, 0x38, 0x29], nothing, Dict{String, Vector{UInt8}}(\"visible\" => [0x84, 0xa8, 0x70, 0x72, 0x6f, 0x70, 0x65, 0x72, 0x74, 0x79  …  0x2c, 0x20, 0x31, 0x2e, 0x30, 0x4e, 0x30, 0x66, 0x38, 0x29]), nothing, Dict{String, MeshCat.SceneTrees.SceneNode}())))…)), \"bbox_line_segments\" => MeshCat.SceneTrees.SceneNode(nothing, nothing, Dict{String, Vector{UInt8}}(), nothing, Dict{String, MeshCat.SceneTrees.SceneNode}(\"4\" => MeshCat.SceneTrees.SceneNode(UInt8[0x83, 0xa6, 0x6f, 0x62, 0x6a, 0x65, 0x63, 0x74, 0x84, 0xaa  …  0x73, 0x65, 0x67, 0x6d, 0x65, 0x6e, 0x74, 0x73, 0x2f, 0x34], nothing, Dict{String, Vector{UInt8}}(), nothing, Dict{String, MeshCat.SceneTrees.SceneNode}()), \"1\" => MeshCat.SceneTrees.SceneNode(UInt8[0x83, 0xa6, 0x6f, 0x62, 0x6a, 0x65, 0x63, 0x74, 0x84, 0xaa  …  0x73, 0x65, 0x67, 0x6d, 0x65, 0x6e, 0x74, 0x73, 0x2f, 0x31], nothing, Dict{String, Vector{UInt8}}(), nothing, Dict{String, MeshCat.SceneTrees.SceneNode}()), \"12\" => MeshCat.SceneTrees.SceneNode(UInt8[0x83, 0xa6, 0x6f, 0x62, 0x6a, 0x65, 0x63, 0x74, 0x84, 0xaa  …  0x65, 0x67, 0x6d, 0x65, 0x6e, 0x74, 0x73, 0x2f, 0x31, 0x32], nothing, Dict{String, Vector{UInt8}}(), nothing, Dict{String, MeshCat.SceneTrees.SceneNode}()), \"2\" => MeshCat.SceneTrees.SceneNode(UInt8[0x83, 0xa6, 0x6f, 0x62, 0x6a, 0x65, 0x63, 0x74, 0x84, 0xaa  …  0x73, 0x65, 0x67, 0x6d, 0x65, 0x6e, 0x74, 0x73, 0x2f, 0x32], nothing, Dict{String, Vector{UInt8}}(), nothing, Dict{String, MeshCat.SceneTrees.SceneNode}()), \"6\" => MeshCat.SceneTrees.SceneNode(UInt8[0x83, 0xa6, 0x6f, 0x62, 0x6a, 0x65, 0x63, 0x74, 0x84, 0xaa  …  0x73, 0x65, 0x67, 0x6d, 0x65, 0x6e, 0x74, 0x73, 0x2f, 0x36], nothing, Dict{String, Vector{UInt8}}(), nothing, Dict{String, MeshCat.SceneTrees.SceneNode}()), \"11\" => MeshCat.SceneTrees.SceneNode(UInt8[0x83, 0xa6, 0x6f, 0x62, 0x6a, 0x65, 0x63, 0x74, 0x84, 0xaa  …  0x65, 0x67, 0x6d, 0x65, 0x6e, 0x74, 0x73, 0x2f, 0x31, 0x31], nothing, Dict{String, Vector{UInt8}}(), nothing, Dict{String, MeshCat.SceneTrees.SceneNode}()), \"5\" => MeshCat.SceneTrees.SceneNode(UInt8[0x83, 0xa6, 0x6f, 0x62, 0x6a, 0x65, 0x63, 0x74, 0x84, 0xaa  …  0x73, 0x65, 0x67, 0x6d, 0x65, 0x6e, 0x74, 0x73, 0x2f, 0x35], nothing, Dict{String, Vector{UInt8}}(), nothing, Dict{String, MeshCat.SceneTrees.SceneNode}()), \"7\" => MeshCat.SceneTrees.SceneNode(UInt8[0x83, 0xa6, 0x6f, 0x62, 0x6a, 0x65, 0x63, 0x74, 0x84, 0xaa  …  0x73, 0x65, 0x67, 0x6d, 0x65, 0x6e, 0x74, 0x73, 0x2f, 0x37], nothing, Dict{String, Vector{UInt8}}(), nothing, Dict{String, MeshCat.SceneTrees.SceneNode}()), \"8\" => MeshCat.SceneTrees.SceneNode(UInt8[0x83, 0xa6, 0x6f, 0x62, 0x6a, 0x65, 0x63, 0x74, 0x84, 0xaa  …  0x73, 0x65, 0x67, 0x6d, 0x65, 0x6e, 0x74, 0x73, 0x2f, 0x38], nothing, Dict{String, Vector{UInt8}}(), nothing, Dict{String, MeshCat.SceneTrees.SceneNode}()), \"10\" => MeshCat.SceneTrees.SceneNode(UInt8[0x83, 0xa6, 0x6f, 0x62, 0x6a, 0x65, 0x63, 0x74, 0x84, 0xaa  …  0x65, 0x67, 0x6d, 0x65, 0x6e, 0x74, 0x73, 0x2f, 0x31, 0x30], nothing, Dict{String, Vector{UInt8}}(), nothing, Dict{String, MeshCat.SceneTrees.SceneNode}())…)))), \"Axes\" => MeshCat.SceneTrees.SceneNode(nothing, nothing, Dict{String, Vector{UInt8}}(), nothing, Dict{String, MeshCat.SceneTrees.SceneNode}(\"<object>\" => MeshCat.SceneTrees.SceneNode(UInt8[0x83, 0xa6, 0x6f, 0x62, 0x6a, 0x65, 0x63, 0x74, 0x84, 0xaa  …  0x73, 0x2f, 0x3c, 0x6f, 0x62, 0x6a, 0x65, 0x63, 0x74, 0x3e], UInt8[0x83, 0xa6, 0x6d, 0x61, 0x74, 0x72, 0x69, 0x78, 0xc7, 0x40  …  0x73, 0x2f, 0x3c, 0x6f, 0x62, 0x6a, 0x65, 0x63, 0x74, 0x3e], Dict{String, Vector{UInt8}}(), nothing, Dict{String, MeshCat.SceneTrees.SceneNode}()))))), Set{HTTP.WebSockets.WebSocket}(), ip\"127.0.0.1\", 8702))), WebIO.Node{WebIO.DOM}(WebIO.DOM(:html, :div), Any[WebIO.Scope(WebIO.Node{WebIO.DOM}(WebIO.DOM(:html, :div), Any[], Dict{Symbol, Any}(:id => \"container\")), Dict{String, Tuple{Observables.AbstractObservable, Union{Nothing, Bool}}}(\"value\" => (Observable(\"\\\\;\\\\;\"), nothing)), Set{String}(), nothing, WebIO.Asset[WebIO.Asset(\"js\", nothing, \"/home/dushya/.julia/packages/InteractBase/LJXv3/src/../assets/katex.min.js\"), WebIO.Asset(\"css\", nothing, \"/home/dushya/.julia/packages/InteractBase/LJXv3/src/../assets/katex.min.css\")], Dict{Any, Any}(\"value\" => Any[WebIO.JSString(\"(function (txt){return this.k.render(txt,this.container)})\")]), WebIO.ConnectionPool(Channel{Any}(32), Set{WebIO.AbstractConnection}(), Base.GenericCondition{ReentrantLock}(Base.IntrusiveLinkedList{Task}(Task (runnable) @0x00007fb8be748330, Task (runnable) @0x00007fb8be748330), ReentrantLock(nothing, 0x00000000, 0x00, Base.GenericCondition{Base.Threads.SpinLock}(Base.IntrusiveLinkedList{Task}(nothing, nothing), Base.Threads.SpinLock(0)), (1, 140429518159248, 0)))), WebIO.JSString[WebIO.JSString(\"function () {\\n    var handler = ((function (k){this.k=k; this.container=this.dom.querySelector(\\\"#container\\\"); return k.render(\\\"\\\\\\\\;\\\\\\\\;\\\",this.container)}));\\n    (WebIO.importBlock({\\\"data\\\":[{\\\"name\\\":null,\\\"type\\\":\\\"js\\\",\\\"url\\\":\\\"/assetserver/dd22ed1bf1896c2748f3fe616ce0b838adc895c1-katex.min.js\\\"},{\\\"name\\\":null,\\\"type\\\":\\\"css\\\",\\\"url\\\":\\\"/assetserver/46517a424aa5e6cffc1360d7e0848b601c584ee3-katex.min.css\\\"}],\\\"type\\\":\\\"async_block\\\"})).then((imports) => handler.apply(this, imports));\\n}\\n\")])], Dict{Symbol, Any}(:className => \"interact-widget\")), WebIO.Node{WebIO.DOM}(WebIO.DOM(:html, :div), Any[Observable(Plot{Plots.GRBackend() n=1})], Dict{Symbol, Any}(:style => Dict(\"display\" => \"flex\", \"flex-direction\" => \"column\")))], Dict{Symbol, Any}(:style => Dict(\"display\" => \"flex\", \"flex-direction\" => \"row\")))], Dict{Symbol, Any}(:style => Dict(\"display\" => \"flex\", \"flex-direction\" => \"column\")))"
      ]
     },
     "execution_count": 9,
     "metadata": {
      "application/vnd.webio.node+json": {
       "kernelId": "9c3c8871-1e92-47db-882d-2cd8db451a36"
      }
     },
     "output_type": "execute_result"
    }
   ],
   "source": [
    "animate_sim(model, 20, agent_plots = Dict(\n",
    "        \"happy\"=> ag -> ag.mood == happy ? 1 : 0\n",
    "        ))"
   ]
  },
  {
   "cell_type": "markdown",
   "metadata": {},
   "source": [
    "After defining the `step_rule!` function we can also choose to create an interactive application (which currently works in Jupyter with WebIO installation) as "
   ]
  },
  {
   "cell_type": "code",
   "execution_count": 14,
   "metadata": {},
   "outputs": [
    {
     "name": "stderr",
     "output_type": "stream",
     "text": [
      "\u001b[36m\u001b[1m[ \u001b[22m\u001b[39m\u001b[36m\u001b[1mInfo: \u001b[22m\u001b[39mListening on: 127.0.0.1:8702, thread id: 1\n",
      "\u001b[36m\u001b[1m┌ \u001b[22m\u001b[39m\u001b[36m\u001b[1mInfo: \u001b[22m\u001b[39mMeshCat server started. You can open the visualizer by visiting the following URL in your browser:\n",
      "\u001b[36m\u001b[1m└ \u001b[22m\u001b[39mhttp://127.0.0.1:8702\n"
     ]
    },
    {
     "data": {
      "application/vnd.webio.node+json": {
       "children": [
        {
         "children": [
          {
           "children": [
            {
             "children": [
              {
               "children": [
                {
                 "children": [
                  {
                   "children": [
                    {
                     "children": [
                      "time"
                     ],
                     "instanceArgs": {
                      "namespace": "html",
                      "tag": "label"
                     },
                     "nodeType": "DOM",
                     "props": {
                      "className": "interact ",
                      "style": {
                       "padding": "5px 10px 0px 10px"
                      }
                     },
                     "type": "node"
                    }
                   ],
                   "instanceArgs": {
                    "namespace": "html",
                    "tag": "div"
                   },
                   "nodeType": "DOM",
                   "props": {
                    "className": "interact-flex-row-left"
                   },
                   "type": "node"
                  },
                  {
                   "children": [
                    {
                     "children": [],
                     "instanceArgs": {
                      "namespace": "html",
                      "tag": "input"
                     },
                     "nodeType": "DOM",
                     "props": {
                      "attributes": {
                       "data-bind": "numericValue: index, valueUpdate: 'input', event: {change: function (){this.changes(this.changes()+1)}}",
                       "orient": "horizontal",
                       "type": "range"
                      },
                      "className": "slider slider is-fullwidth",
                      "max": 200,
                      "min": 1,
                      "step": 1,
                      "style": {}
                     },
                     "type": "node"
                    }
                   ],
                   "instanceArgs": {
                    "namespace": "html",
                    "tag": "div"
                   },
                   "nodeType": "DOM",
                   "props": {
                    "className": "interact-flex-row-center"
                   },
                   "type": "node"
                  },
                  {
                   "children": [
                    {
                     "children": [],
                     "instanceArgs": {
                      "namespace": "html",
                      "tag": "p"
                     },
                     "nodeType": "DOM",
                     "props": {
                      "attributes": {
                       "data-bind": "text: formatted_val"
                      }
                     },
                     "type": "node"
                    }
                   ],
                   "instanceArgs": {
                    "namespace": "html",
                    "tag": "div"
                   },
                   "nodeType": "DOM",
                   "props": {
                    "className": "interact-flex-row-right"
                   },
                   "type": "node"
                  }
                 ],
                 "instanceArgs": {
                  "namespace": "html",
                  "tag": "div"
                 },
                 "nodeType": "DOM",
                 "props": {
                  "className": "interact-flex-row interact-widget"
                 },
                 "type": "node"
                }
               ],
               "instanceArgs": {
                "handlers": {
                 "changes": [
                  "(function (val){return (val!=this.model[\"changes\"]()) ? (this.valueFromJulia[\"changes\"]=true, this.model[\"changes\"](val)) : undefined})"
                 ],
                 "index": [
                  "(function (val){return (val!=this.model[\"index\"]()) ? (this.valueFromJulia[\"index\"]=true, this.model[\"index\"](val)) : undefined})"
                 ]
                },
                "id": "2577037180724543148",
                "imports": {
                 "data": [
                  {
                   "name": "knockout",
                   "type": "js",
                   "url": "/assetserver/727383f2a47bd31570b7da84eee7b022dd6d7c78-knockout.js"
                  },
                  {
                   "name": "knockout_punches",
                   "type": "js",
                   "url": "/assetserver/382b41b3b1bd9f26f75861d360bad7f8beea211f-knockout_punches.js"
                  },
                  {
                   "name": null,
                   "type": "js",
                   "url": "/assetserver/5ab20f1060420992a9b82a65b735dee4d81ef413-all.js"
                  },
                  {
                   "name": null,
                   "type": "css",
                   "url": "/assetserver/1cc0ed62837210b80a182cc3676512f895dab686-style.css"
                  },
                  {
                   "name": null,
                   "type": "css",
                   "url": "/assetserver/2eee816f616df3549d7044d45e744fbf8d42bfa1-bulma_confined.min.css"
                  }
                 ],
                 "type": "async_block"
                },
                "mount_callbacks": [
                 "function () {\n    var handler = (function (ko, koPunches) {\n    ko.punches.enableAll();\n    ko.bindingHandlers.numericValue = {\n        init: function(element, valueAccessor, allBindings, data, context) {\n            var stringified = ko.observable(ko.unwrap(valueAccessor()));\n            stringified.subscribe(function(value) {\n                var val = parseFloat(value);\n                if (!isNaN(val)) {\n                    valueAccessor()(val);\n                }\n            });\n            valueAccessor().subscribe(function(value) {\n                var str = JSON.stringify(value);\n                if ((str == \"0\") && ([\"-0\", \"-0.\"].indexOf(stringified()) >= 0))\n                     return;\n                 if ([\"null\", \"\"].indexOf(str) >= 0)\n                     return;\n                stringified(str);\n            });\n            ko.applyBindingsToNode(\n                element,\n                {\n                    value: stringified,\n                    valueUpdate: allBindings.get('valueUpdate'),\n                },\n                context,\n            );\n        }\n    };\n    var json_data = {\"formatted_vals\":[\"1\",\"2\",\"3\",\"4\",\"5\",\"6\",\"7\",\"8\",\"9\",\"10\",\"11\",\"12\",\"13\",\"14\",\"15\",\"16\",\"17\",\"18\",\"19\",\"20\",\"21\",\"22\",\"23\",\"24\",\"25\",\"26\",\"27\",\"28\",\"29\",\"30\",\"31\",\"32\",\"33\",\"34\",\"35\",\"36\",\"37\",\"38\",\"39\",\"40\",\"41\",\"42\",\"43\",\"44\",\"45\",\"46\",\"47\",\"48\",\"49\",\"50\",\"51\",\"52\",\"53\",\"54\",\"55\",\"56\",\"57\",\"58\",\"59\",\"60\",\"61\",\"62\",\"63\",\"64\",\"65\",\"66\",\"67\",\"68\",\"69\",\"70\",\"71\",\"72\",\"73\",\"74\",\"75\",\"76\",\"77\",\"78\",\"79\",\"80\",\"81\",\"82\",\"83\",\"84\",\"85\",\"86\",\"87\",\"88\",\"89\",\"90\",\"91\",\"92\",\"93\",\"94\",\"95\",\"96\",\"97\",\"98\",\"99\",\"100\",\"101\",\"102\",\"103\",\"104\",\"105\",\"106\",\"107\",\"108\",\"109\",\"110\",\"111\",\"112\",\"113\",\"114\",\"115\",\"116\",\"117\",\"118\",\"119\",\"120\",\"121\",\"122\",\"123\",\"124\",\"125\",\"126\",\"127\",\"128\",\"129\",\"130\",\"131\",\"132\",\"133\",\"134\",\"135\",\"136\",\"137\",\"138\",\"139\",\"140\",\"141\",\"142\",\"143\",\"144\",\"145\",\"146\",\"147\",\"148\",\"149\",\"150\",\"151\",\"152\",\"153\",\"154\",\"155\",\"156\",\"157\",\"158\",\"159\",\"160\",\"161\",\"162\",\"163\",\"164\",\"165\",\"166\",\"167\",\"168\",\"169\",\"170\",\"171\",\"172\",\"173\",\"174\",\"175\",\"176\",\"177\",\"178\",\"179\",\"180\",\"181\",\"182\",\"183\",\"184\",\"185\",\"186\",\"187\",\"188\",\"189\",\"190\",\"191\",\"192\",\"193\",\"194\",\"195\",\"196\",\"197\",\"198\",\"199\",\"200\"],\"changes\":WebIO.getval({\"name\":\"changes\",\"scope\":\"2577037180724543148\",\"id\":\"854938276902561388\",\"type\":\"observable\"}),\"index\":WebIO.getval({\"name\":\"index\",\"scope\":\"2577037180724543148\",\"id\":\"15849935743026413024\",\"type\":\"observable\"})};\n    var self = this;\n    function AppViewModel() {\n        for (var key in json_data) {\n            var el = json_data[key];\n            this[key] = Array.isArray(el) ? ko.observableArray(el) : ko.observable(el);\n        }\n        \n        [this[\"formatted_val\"]=ko.computed(    function(){\n        return this.formatted_vals()[parseInt(this.index())-(1)];\n    }\n,this)]\n        [this[\"changes\"].subscribe((function (val){!(this.valueFromJulia[\"changes\"]) ? (WebIO.setval({\"name\":\"changes\",\"scope\":\"2577037180724543148\",\"id\":\"854938276902561388\",\"type\":\"observable\"},val)) : undefined; return this.valueFromJulia[\"changes\"]=false}),self),this[\"index\"].subscribe((function (val){!(this.valueFromJulia[\"index\"]) ? (WebIO.setval({\"name\":\"index\",\"scope\":\"2577037180724543148\",\"id\":\"15849935743026413024\",\"type\":\"observable\"},val)) : undefined; return this.valueFromJulia[\"index\"]=false}),self)]\n        \n    }\n    self.model = new AppViewModel();\n    self.valueFromJulia = {};\n    for (var key in json_data) {\n        self.valueFromJulia[key] = false;\n    }\n    ko.applyBindings(self.model, self.dom);\n}\n);\n    (WebIO.importBlock({\"data\":[{\"name\":\"knockout\",\"type\":\"js\",\"url\":\"/assetserver/727383f2a47bd31570b7da84eee7b022dd6d7c78-knockout.js\"},{\"name\":\"knockout_punches\",\"type\":\"js\",\"url\":\"/assetserver/382b41b3b1bd9f26f75861d360bad7f8beea211f-knockout_punches.js\"}],\"type\":\"async_block\"})).then((imports) => handler.apply(this, imports));\n}\n"
                ],
                "observables": {
                 "changes": {
                  "id": "854938276902561388",
                  "sync": false,
                  "value": 0
                 },
                 "index": {
                  "id": "15849935743026413024",
                  "sync": true,
                  "value": 1
                 }
                },
                "systemjs_options": null
               },
               "nodeType": "Scope",
               "props": {},
               "type": "node"
              }
             ],
             "instanceArgs": {
              "namespace": "html",
              "tag": "div"
             },
             "nodeType": "DOM",
             "props": {
              "className": "field interact-widget"
             },
             "type": "node"
            },
            {
             "children": [
              {
               "children": [
                {
                 "children": [
                  {
                   "children": [
                    {
                     "children": [
                      "scale"
                     ],
                     "instanceArgs": {
                      "namespace": "html",
                      "tag": "label"
                     },
                     "nodeType": "DOM",
                     "props": {
                      "className": "interact ",
                      "style": {
                       "padding": "5px 10px 0px 10px"
                      }
                     },
                     "type": "node"
                    }
                   ],
                   "instanceArgs": {
                    "namespace": "html",
                    "tag": "div"
                   },
                   "nodeType": "DOM",
                   "props": {
                    "className": "interact-flex-row-left"
                   },
                   "type": "node"
                  },
                  {
                   "children": [
                    {
                     "children": [],
                     "instanceArgs": {
                      "namespace": "html",
                      "tag": "input"
                     },
                     "nodeType": "DOM",
                     "props": {
                      "attributes": {
                       "data-bind": "numericValue: index, valueUpdate: 'input', event: {change: function (){this.changes(this.changes()+1)}}",
                       "orient": "horizontal",
                       "type": "range"
                      },
                      "className": "slider slider is-fullwidth",
                      "max": 20,
                      "min": 1,
                      "step": 1,
                      "style": {}
                     },
                     "type": "node"
                    }
                   ],
                   "instanceArgs": {
                    "namespace": "html",
                    "tag": "div"
                   },
                   "nodeType": "DOM",
                   "props": {
                    "className": "interact-flex-row-center"
                   },
                   "type": "node"
                  },
                  {
                   "children": [
                    {
                     "children": [],
                     "instanceArgs": {
                      "namespace": "html",
                      "tag": "p"
                     },
                     "nodeType": "DOM",
                     "props": {
                      "attributes": {
                       "data-bind": "text: formatted_val"
                      }
                     },
                     "type": "node"
                    }
                   ],
                   "instanceArgs": {
                    "namespace": "html",
                    "tag": "div"
                   },
                   "nodeType": "DOM",
                   "props": {
                    "className": "interact-flex-row-right"
                   },
                   "type": "node"
                  }
                 ],
                 "instanceArgs": {
                  "namespace": "html",
                  "tag": "div"
                 },
                 "nodeType": "DOM",
                 "props": {
                  "className": "interact-flex-row interact-widget"
                 },
                 "type": "node"
                }
               ],
               "instanceArgs": {
                "handlers": {
                 "changes": [
                  "(function (val){return (val!=this.model[\"changes\"]()) ? (this.valueFromJulia[\"changes\"]=true, this.model[\"changes\"](val)) : undefined})"
                 ],
                 "index": [
                  "(function (val){return (val!=this.model[\"index\"]()) ? (this.valueFromJulia[\"index\"]=true, this.model[\"index\"](val)) : undefined})"
                 ]
                },
                "id": "11623366608262238642",
                "imports": {
                 "data": [
                  {
                   "name": "knockout",
                   "type": "js",
                   "url": "/assetserver/727383f2a47bd31570b7da84eee7b022dd6d7c78-knockout.js"
                  },
                  {
                   "name": "knockout_punches",
                   "type": "js",
                   "url": "/assetserver/382b41b3b1bd9f26f75861d360bad7f8beea211f-knockout_punches.js"
                  },
                  {
                   "name": null,
                   "type": "js",
                   "url": "/assetserver/5ab20f1060420992a9b82a65b735dee4d81ef413-all.js"
                  },
                  {
                   "name": null,
                   "type": "css",
                   "url": "/assetserver/1cc0ed62837210b80a182cc3676512f895dab686-style.css"
                  },
                  {
                   "name": null,
                   "type": "css",
                   "url": "/assetserver/2eee816f616df3549d7044d45e744fbf8d42bfa1-bulma_confined.min.css"
                  }
                 ],
                 "type": "async_block"
                },
                "mount_callbacks": [
                 "function () {\n    var handler = (function (ko, koPunches) {\n    ko.punches.enableAll();\n    ko.bindingHandlers.numericValue = {\n        init: function(element, valueAccessor, allBindings, data, context) {\n            var stringified = ko.observable(ko.unwrap(valueAccessor()));\n            stringified.subscribe(function(value) {\n                var val = parseFloat(value);\n                if (!isNaN(val)) {\n                    valueAccessor()(val);\n                }\n            });\n            valueAccessor().subscribe(function(value) {\n                var str = JSON.stringify(value);\n                if ((str == \"0\") && ([\"-0\", \"-0.\"].indexOf(stringified()) >= 0))\n                     return;\n                 if ([\"null\", \"\"].indexOf(str) >= 0)\n                     return;\n                stringified(str);\n            });\n            ko.applyBindingsToNode(\n                element,\n                {\n                    value: stringified,\n                    valueUpdate: allBindings.get('valueUpdate'),\n                },\n                context,\n            );\n        }\n    };\n    var json_data = {\"formatted_vals\":[\"0.1\",\"0.2\",\"0.3\",\"0.4\",\"0.5\",\"0.6\",\"0.7\",\"0.8\",\"0.9\",\"1.0\",\"1.1\",\"1.2\",\"1.3\",\"1.4\",\"1.5\",\"1.6\",\"1.7\",\"1.8\",\"1.9\",\"2.0\"],\"changes\":WebIO.getval({\"name\":\"changes\",\"scope\":\"11623366608262238642\",\"id\":\"6298449535562904683\",\"type\":\"observable\"}),\"index\":WebIO.getval({\"name\":\"index\",\"scope\":\"11623366608262238642\",\"id\":\"8928176611260968451\",\"type\":\"observable\"})};\n    var self = this;\n    function AppViewModel() {\n        for (var key in json_data) {\n            var el = json_data[key];\n            this[key] = Array.isArray(el) ? ko.observableArray(el) : ko.observable(el);\n        }\n        \n        [this[\"formatted_val\"]=ko.computed(    function(){\n        return this.formatted_vals()[parseInt(this.index())-(1)];\n    }\n,this)]\n        [this[\"changes\"].subscribe((function (val){!(this.valueFromJulia[\"changes\"]) ? (WebIO.setval({\"name\":\"changes\",\"scope\":\"11623366608262238642\",\"id\":\"6298449535562904683\",\"type\":\"observable\"},val)) : undefined; return this.valueFromJulia[\"changes\"]=false}),self),this[\"index\"].subscribe((function (val){!(this.valueFromJulia[\"index\"]) ? (WebIO.setval({\"name\":\"index\",\"scope\":\"11623366608262238642\",\"id\":\"8928176611260968451\",\"type\":\"observable\"},val)) : undefined; return this.valueFromJulia[\"index\"]=false}),self)]\n        \n    }\n    self.model = new AppViewModel();\n    self.valueFromJulia = {};\n    for (var key in json_data) {\n        self.valueFromJulia[key] = false;\n    }\n    ko.applyBindings(self.model, self.dom);\n}\n);\n    (WebIO.importBlock({\"data\":[{\"name\":\"knockout\",\"type\":\"js\",\"url\":\"/assetserver/727383f2a47bd31570b7da84eee7b022dd6d7c78-knockout.js\"},{\"name\":\"knockout_punches\",\"type\":\"js\",\"url\":\"/assetserver/382b41b3b1bd9f26f75861d360bad7f8beea211f-knockout_punches.js\"}],\"type\":\"async_block\"})).then((imports) => handler.apply(this, imports));\n}\n"
                ],
                "observables": {
                 "changes": {
                  "id": "6298449535562904683",
                  "sync": false,
                  "value": 0
                 },
                 "index": {
                  "id": "8928176611260968451",
                  "sync": true,
                  "value": 10
                 }
                },
                "systemjs_options": null
               },
               "nodeType": "Scope",
               "props": {},
               "type": "node"
              }
             ],
             "instanceArgs": {
              "namespace": "html",
              "tag": "div"
             },
             "nodeType": "DOM",
             "props": {
              "className": "field interact-widget"
             },
             "type": "node"
            },
            {
             "children": [],
             "instanceArgs": {
              "namespace": "html",
              "tag": "div"
             },
             "nodeType": "DOM",
             "props": {
              "style": {
               "display": "flex",
               "flex-direction": "column"
              }
             },
             "type": "node"
            },
            {
             "children": [
              {
               "children": [
                {
                 "children": [
                  {
                   "children": [
                    {
                     "children": [
                      {
                       "children": [
                        "min_alike"
                       ],
                       "instanceArgs": {
                        "namespace": "html",
                        "tag": "label"
                       },
                       "nodeType": "DOM",
                       "props": {
                        "className": "interact ",
                        "style": {
                         "padding": "5px 10px 0px 10px"
                        }
                       },
                       "type": "node"
                      }
                     ],
                     "instanceArgs": {
                      "namespace": "html",
                      "tag": "div"
                     },
                     "nodeType": "DOM",
                     "props": {
                      "className": "interact-flex-row-left"
                     },
                     "type": "node"
                    },
                    {
                     "children": [
                      {
                       "children": [],
                       "instanceArgs": {
                        "namespace": "html",
                        "tag": "input"
                       },
                       "nodeType": "DOM",
                       "props": {
                        "attributes": {
                         "data-bind": "numericValue: index, valueUpdate: 'input', event: {change: function (){this.changes(this.changes()+1)}}",
                         "orient": "horizontal",
                         "type": "range"
                        },
                        "className": "slider slider is-fullwidth",
                        "max": 12,
                        "min": 1,
                        "step": 1,
                        "style": {}
                       },
                       "type": "node"
                      }
                     ],
                     "instanceArgs": {
                      "namespace": "html",
                      "tag": "div"
                     },
                     "nodeType": "DOM",
                     "props": {
                      "className": "interact-flex-row-center"
                     },
                     "type": "node"
                    },
                    {
                     "children": [
                      {
                       "children": [],
                       "instanceArgs": {
                        "namespace": "html",
                        "tag": "p"
                       },
                       "nodeType": "DOM",
                       "props": {
                        "attributes": {
                         "data-bind": "text: formatted_val"
                        }
                       },
                       "type": "node"
                      }
                     ],
                     "instanceArgs": {
                      "namespace": "html",
                      "tag": "div"
                     },
                     "nodeType": "DOM",
                     "props": {
                      "className": "interact-flex-row-right"
                     },
                     "type": "node"
                    }
                   ],
                   "instanceArgs": {
                    "namespace": "html",
                    "tag": "div"
                   },
                   "nodeType": "DOM",
                   "props": {
                    "className": "interact-flex-row interact-widget"
                   },
                   "type": "node"
                  }
                 ],
                 "instanceArgs": {
                  "handlers": {
                   "changes": [
                    "(function (val){return (val!=this.model[\"changes\"]()) ? (this.valueFromJulia[\"changes\"]=true, this.model[\"changes\"](val)) : undefined})"
                   ],
                   "index": [
                    "(function (val){return (val!=this.model[\"index\"]()) ? (this.valueFromJulia[\"index\"]=true, this.model[\"index\"](val)) : undefined})"
                   ]
                  },
                  "id": "6860497118943257604",
                  "imports": {
                   "data": [
                    {
                     "name": "knockout",
                     "type": "js",
                     "url": "/assetserver/727383f2a47bd31570b7da84eee7b022dd6d7c78-knockout.js"
                    },
                    {
                     "name": "knockout_punches",
                     "type": "js",
                     "url": "/assetserver/382b41b3b1bd9f26f75861d360bad7f8beea211f-knockout_punches.js"
                    },
                    {
                     "name": null,
                     "type": "js",
                     "url": "/assetserver/5ab20f1060420992a9b82a65b735dee4d81ef413-all.js"
                    },
                    {
                     "name": null,
                     "type": "css",
                     "url": "/assetserver/1cc0ed62837210b80a182cc3676512f895dab686-style.css"
                    },
                    {
                     "name": null,
                     "type": "css",
                     "url": "/assetserver/2eee816f616df3549d7044d45e744fbf8d42bfa1-bulma_confined.min.css"
                    }
                   ],
                   "type": "async_block"
                  },
                  "mount_callbacks": [
                   "function () {\n    var handler = (function (ko, koPunches) {\n    ko.punches.enableAll();\n    ko.bindingHandlers.numericValue = {\n        init: function(element, valueAccessor, allBindings, data, context) {\n            var stringified = ko.observable(ko.unwrap(valueAccessor()));\n            stringified.subscribe(function(value) {\n                var val = parseFloat(value);\n                if (!isNaN(val)) {\n                    valueAccessor()(val);\n                }\n            });\n            valueAccessor().subscribe(function(value) {\n                var str = JSON.stringify(value);\n                if ((str == \"0\") && ([\"-0\", \"-0.\"].indexOf(stringified()) >= 0))\n                     return;\n                 if ([\"null\", \"\"].indexOf(str) >= 0)\n                     return;\n                stringified(str);\n            });\n            ko.applyBindingsToNode(\n                element,\n                {\n                    value: stringified,\n                    valueUpdate: allBindings.get('valueUpdate'),\n                },\n                context,\n            );\n        }\n    };\n    var json_data = {\"formatted_vals\":[\"1\",\"2\",\"3\",\"4\",\"5\",\"6\",\"7\",\"8\",\"9\",\"10\",\"11\",\"12\"],\"changes\":WebIO.getval({\"name\":\"changes\",\"scope\":\"6860497118943257604\",\"id\":\"3160981563771021769\",\"type\":\"observable\"}),\"index\":WebIO.getval({\"name\":\"index\",\"scope\":\"6860497118943257604\",\"id\":\"17819766709179801267\",\"type\":\"observable\"})};\n    var self = this;\n    function AppViewModel() {\n        for (var key in json_data) {\n            var el = json_data[key];\n            this[key] = Array.isArray(el) ? ko.observableArray(el) : ko.observable(el);\n        }\n        \n        [this[\"formatted_val\"]=ko.computed(    function(){\n        return this.formatted_vals()[parseInt(this.index())-(1)];\n    }\n,this)]\n        [this[\"changes\"].subscribe((function (val){!(this.valueFromJulia[\"changes\"]) ? (WebIO.setval({\"name\":\"changes\",\"scope\":\"6860497118943257604\",\"id\":\"3160981563771021769\",\"type\":\"observable\"},val)) : undefined; return this.valueFromJulia[\"changes\"]=false}),self),this[\"index\"].subscribe((function (val){!(this.valueFromJulia[\"index\"]) ? (WebIO.setval({\"name\":\"index\",\"scope\":\"6860497118943257604\",\"id\":\"17819766709179801267\",\"type\":\"observable\"},val)) : undefined; return this.valueFromJulia[\"index\"]=false}),self)]\n        \n    }\n    self.model = new AppViewModel();\n    self.valueFromJulia = {};\n    for (var key in json_data) {\n        self.valueFromJulia[key] = false;\n    }\n    ko.applyBindings(self.model, self.dom);\n}\n);\n    (WebIO.importBlock({\"data\":[{\"name\":\"knockout\",\"type\":\"js\",\"url\":\"/assetserver/727383f2a47bd31570b7da84eee7b022dd6d7c78-knockout.js\"},{\"name\":\"knockout_punches\",\"type\":\"js\",\"url\":\"/assetserver/382b41b3b1bd9f26f75861d360bad7f8beea211f-knockout_punches.js\"}],\"type\":\"async_block\"})).then((imports) => handler.apply(this, imports));\n}\n"
                  ],
                  "observables": {
                   "changes": {
                    "id": "3160981563771021769",
                    "sync": false,
                    "value": 0
                   },
                   "index": {
                    "id": "17819766709179801267",
                    "sync": true,
                    "value": 6
                   }
                  },
                  "systemjs_options": null
                 },
                 "nodeType": "Scope",
                 "props": {},
                 "type": "node"
                }
               ],
               "instanceArgs": {
                "namespace": "html",
                "tag": "div"
               },
               "nodeType": "DOM",
               "props": {
                "className": "field interact-widget"
               },
               "type": "node"
              }
             ],
             "instanceArgs": {
              "namespace": "html",
              "tag": "div"
             },
             "nodeType": "DOM",
             "props": {
              "style": {
               "display": "flex",
               "flex-direction": "column"
              }
             },
             "type": "node"
            },
            {
             "children": [
              {
               "children": [
                {
                 "children": [
                  {
                   "children": [],
                   "instanceArgs": {
                    "namespace": "html",
                    "tag": "div"
                   },
                   "nodeType": "DOM",
                   "props": {
                    "id": "container"
                   },
                   "type": "node"
                  }
                 ],
                 "instanceArgs": {
                  "handlers": {
                   "value": [
                    "(function (txt){return this.k.render(txt,this.container)})"
                   ]
                  },
                  "id": "12458551694742004231",
                  "imports": {
                   "data": [
                    {
                     "name": null,
                     "type": "js",
                     "url": "/assetserver/dd22ed1bf1896c2748f3fe616ce0b838adc895c1-katex.min.js"
                    },
                    {
                     "name": null,
                     "type": "css",
                     "url": "/assetserver/46517a424aa5e6cffc1360d7e0848b601c584ee3-katex.min.css"
                    }
                   ],
                   "type": "async_block"
                  },
                  "mount_callbacks": [
                   "function () {\n    var handler = ((function (k){this.k=k; this.container=this.dom.querySelector(\"#container\"); return k.render(\"\\\\;\\\\;\",this.container)}));\n    (WebIO.importBlock({\"data\":[{\"name\":null,\"type\":\"js\",\"url\":\"/assetserver/dd22ed1bf1896c2748f3fe616ce0b838adc895c1-katex.min.js\"},{\"name\":null,\"type\":\"css\",\"url\":\"/assetserver/46517a424aa5e6cffc1360d7e0848b601c584ee3-katex.min.css\"}],\"type\":\"async_block\"})).then((imports) => handler.apply(this, imports));\n}\n"
                  ],
                  "observables": {
                   "value": {
                    "id": "9785286895708396228",
                    "sync": false,
                    "value": "\\;\\;"
                   }
                  },
                  "systemjs_options": null
                 },
                 "nodeType": "Scope",
                 "props": {},
                 "type": "node"
                }
               ],
               "instanceArgs": {
                "namespace": "html",
                "tag": "div"
               },
               "nodeType": "DOM",
               "props": {
                "className": "interact-widget"
               },
               "type": "node"
              },
              {
               "children": [
                {
                 "children": [
                  {
                   "children": [
                    "run"
                   ],
                   "instanceArgs": {
                    "namespace": "html",
                    "tag": "button"
                   },
                   "nodeType": "DOM",
                   "props": {
                    "attributes": {
                     "data-bind": "click: function (){this.clicks(this.clicks()+1)}, css: {'is-loading' : loading}"
                    },
                    "className": "is-medium button is-primary",
                    "style": {}
                   },
                   "type": "node"
                  }
                 ],
                 "instanceArgs": {
                  "handlers": {
                   "clicks": [
                    "(function (val){return (val!=this.model[\"clicks\"]()) ? (this.valueFromJulia[\"clicks\"]=true, this.model[\"clicks\"](val)) : undefined})"
                   ],
                   "loading": [
                    "(function (val){return (val!=this.model[\"loading\"]()) ? (this.valueFromJulia[\"loading\"]=true, this.model[\"loading\"](val)) : undefined})"
                   ]
                  },
                  "id": "18011971297585217047",
                  "imports": {
                   "data": [
                    {
                     "name": "knockout",
                     "type": "js",
                     "url": "/assetserver/727383f2a47bd31570b7da84eee7b022dd6d7c78-knockout.js"
                    },
                    {
                     "name": "knockout_punches",
                     "type": "js",
                     "url": "/assetserver/382b41b3b1bd9f26f75861d360bad7f8beea211f-knockout_punches.js"
                    },
                    {
                     "name": null,
                     "type": "js",
                     "url": "/assetserver/5ab20f1060420992a9b82a65b735dee4d81ef413-all.js"
                    },
                    {
                     "name": null,
                     "type": "css",
                     "url": "/assetserver/1cc0ed62837210b80a182cc3676512f895dab686-style.css"
                    },
                    {
                     "name": null,
                     "type": "css",
                     "url": "/assetserver/2eee816f616df3549d7044d45e744fbf8d42bfa1-bulma_confined.min.css"
                    }
                   ],
                   "type": "async_block"
                  },
                  "mount_callbacks": [
                   "function () {\n    var handler = (function (ko, koPunches) {\n    ko.punches.enableAll();\n    ko.bindingHandlers.numericValue = {\n        init: function(element, valueAccessor, allBindings, data, context) {\n            var stringified = ko.observable(ko.unwrap(valueAccessor()));\n            stringified.subscribe(function(value) {\n                var val = parseFloat(value);\n                if (!isNaN(val)) {\n                    valueAccessor()(val);\n                }\n            });\n            valueAccessor().subscribe(function(value) {\n                var str = JSON.stringify(value);\n                if ((str == \"0\") && ([\"-0\", \"-0.\"].indexOf(stringified()) >= 0))\n                     return;\n                 if ([\"null\", \"\"].indexOf(str) >= 0)\n                     return;\n                stringified(str);\n            });\n            ko.applyBindingsToNode(\n                element,\n                {\n                    value: stringified,\n                    valueUpdate: allBindings.get('valueUpdate'),\n                },\n                context,\n            );\n        }\n    };\n    var json_data = {\"loading\":WebIO.getval({\"name\":\"loading\",\"scope\":\"18011971297585217047\",\"id\":\"12512616478621859896\",\"type\":\"observable\"}),\"clicks\":WebIO.getval({\"name\":\"clicks\",\"scope\":\"18011971297585217047\",\"id\":\"12546925156580939835\",\"type\":\"observable\"})};\n    var self = this;\n    function AppViewModel() {\n        for (var key in json_data) {\n            var el = json_data[key];\n            this[key] = Array.isArray(el) ? ko.observableArray(el) : ko.observable(el);\n        }\n        \n        \n        [this[\"loading\"].subscribe((function (val){!(this.valueFromJulia[\"loading\"]) ? (WebIO.setval({\"name\":\"loading\",\"scope\":\"18011971297585217047\",\"id\":\"12512616478621859896\",\"type\":\"observable\"},val)) : undefined; return this.valueFromJulia[\"loading\"]=false}),self),this[\"clicks\"].subscribe((function (val){!(this.valueFromJulia[\"clicks\"]) ? (WebIO.setval({\"name\":\"clicks\",\"scope\":\"18011971297585217047\",\"id\":\"12546925156580939835\",\"type\":\"observable\"},val)) : undefined; return this.valueFromJulia[\"clicks\"]=false}),self)]\n        \n    }\n    self.model = new AppViewModel();\n    self.valueFromJulia = {};\n    for (var key in json_data) {\n        self.valueFromJulia[key] = false;\n    }\n    ko.applyBindings(self.model, self.dom);\n}\n);\n    (WebIO.importBlock({\"data\":[{\"name\":\"knockout\",\"type\":\"js\",\"url\":\"/assetserver/727383f2a47bd31570b7da84eee7b022dd6d7c78-knockout.js\"},{\"name\":\"knockout_punches\",\"type\":\"js\",\"url\":\"/assetserver/382b41b3b1bd9f26f75861d360bad7f8beea211f-knockout_punches.js\"}],\"type\":\"async_block\"})).then((imports) => handler.apply(this, imports));\n}\n"
                  ],
                  "observables": {
                   "clicks": {
                    "id": "12546925156580939835",
                    "sync": true,
                    "value": 0
                   },
                   "loading": {
                    "id": "12512616478621859896",
                    "sync": false,
                    "value": false
                   }
                  },
                  "systemjs_options": null
                 },
                 "nodeType": "Scope",
                 "props": {},
                 "type": "node"
                }
               ],
               "instanceArgs": {
                "namespace": "html",
                "tag": "div"
               },
               "nodeType": "DOM",
               "props": {
                "className": "field interact-widget"
               },
               "type": "node"
              },
              {
               "children": [
                {
                 "children": [
                  {
                   "children": [],
                   "instanceArgs": {
                    "namespace": "html",
                    "tag": "div"
                   },
                   "nodeType": "DOM",
                   "props": {
                    "id": "container"
                   },
                   "type": "node"
                  }
                 ],
                 "instanceArgs": {
                  "handlers": {
                   "value": [
                    "(function (txt){return this.k.render(txt,this.container)})"
                   ]
                  },
                  "id": "12458551694742004231",
                  "imports": {
                   "data": [
                    {
                     "name": null,
                     "type": "js",
                     "url": "/assetserver/dd22ed1bf1896c2748f3fe616ce0b838adc895c1-katex.min.js"
                    },
                    {
                     "name": null,
                     "type": "css",
                     "url": "/assetserver/46517a424aa5e6cffc1360d7e0848b601c584ee3-katex.min.css"
                    }
                   ],
                   "type": "async_block"
                  },
                  "mount_callbacks": [
                   "function () {\n    var handler = ((function (k){this.k=k; this.container=this.dom.querySelector(\"#container\"); return k.render(\"\\\\;\\\\;\",this.container)}));\n    (WebIO.importBlock({\"data\":[{\"name\":null,\"type\":\"js\",\"url\":\"/assetserver/dd22ed1bf1896c2748f3fe616ce0b838adc895c1-katex.min.js\"},{\"name\":null,\"type\":\"css\",\"url\":\"/assetserver/46517a424aa5e6cffc1360d7e0848b601c584ee3-katex.min.css\"}],\"type\":\"async_block\"})).then((imports) => handler.apply(this, imports));\n}\n"
                  ],
                  "observables": {
                   "value": {
                    "id": "9785286895708396228",
                    "sync": false,
                    "value": "\\;\\;"
                   }
                  },
                  "systemjs_options": null
                 },
                 "nodeType": "Scope",
                 "props": {},
                 "type": "node"
                }
               ],
               "instanceArgs": {
                "namespace": "html",
                "tag": "div"
               },
               "nodeType": "DOM",
               "props": {
                "className": "interact-widget"
               },
               "type": "node"
              },
              {
               "children": [
                {
                 "children": [
                  {
                   "children": [
                    "stop"
                   ],
                   "instanceArgs": {
                    "namespace": "html",
                    "tag": "button"
                   },
                   "nodeType": "DOM",
                   "props": {
                    "attributes": {
                     "data-bind": "click: function (){this.clicks(this.clicks()+1)}, css: {'is-loading' : loading}"
                    },
                    "className": "is-medium button is-primary",
                    "style": {}
                   },
                   "type": "node"
                  }
                 ],
                 "instanceArgs": {
                  "handlers": {
                   "clicks": [
                    "(function (val){return (val!=this.model[\"clicks\"]()) ? (this.valueFromJulia[\"clicks\"]=true, this.model[\"clicks\"](val)) : undefined})"
                   ],
                   "loading": [
                    "(function (val){return (val!=this.model[\"loading\"]()) ? (this.valueFromJulia[\"loading\"]=true, this.model[\"loading\"](val)) : undefined})"
                   ]
                  },
                  "id": "2125543084427958450",
                  "imports": {
                   "data": [
                    {
                     "name": "knockout",
                     "type": "js",
                     "url": "/assetserver/727383f2a47bd31570b7da84eee7b022dd6d7c78-knockout.js"
                    },
                    {
                     "name": "knockout_punches",
                     "type": "js",
                     "url": "/assetserver/382b41b3b1bd9f26f75861d360bad7f8beea211f-knockout_punches.js"
                    },
                    {
                     "name": null,
                     "type": "js",
                     "url": "/assetserver/5ab20f1060420992a9b82a65b735dee4d81ef413-all.js"
                    },
                    {
                     "name": null,
                     "type": "css",
                     "url": "/assetserver/1cc0ed62837210b80a182cc3676512f895dab686-style.css"
                    },
                    {
                     "name": null,
                     "type": "css",
                     "url": "/assetserver/2eee816f616df3549d7044d45e744fbf8d42bfa1-bulma_confined.min.css"
                    }
                   ],
                   "type": "async_block"
                  },
                  "mount_callbacks": [
                   "function () {\n    var handler = (function (ko, koPunches) {\n    ko.punches.enableAll();\n    ko.bindingHandlers.numericValue = {\n        init: function(element, valueAccessor, allBindings, data, context) {\n            var stringified = ko.observable(ko.unwrap(valueAccessor()));\n            stringified.subscribe(function(value) {\n                var val = parseFloat(value);\n                if (!isNaN(val)) {\n                    valueAccessor()(val);\n                }\n            });\n            valueAccessor().subscribe(function(value) {\n                var str = JSON.stringify(value);\n                if ((str == \"0\") && ([\"-0\", \"-0.\"].indexOf(stringified()) >= 0))\n                     return;\n                 if ([\"null\", \"\"].indexOf(str) >= 0)\n                     return;\n                stringified(str);\n            });\n            ko.applyBindingsToNode(\n                element,\n                {\n                    value: stringified,\n                    valueUpdate: allBindings.get('valueUpdate'),\n                },\n                context,\n            );\n        }\n    };\n    var json_data = {\"loading\":WebIO.getval({\"name\":\"loading\",\"scope\":\"2125543084427958450\",\"id\":\"5784703540915807198\",\"type\":\"observable\"}),\"clicks\":WebIO.getval({\"name\":\"clicks\",\"scope\":\"2125543084427958450\",\"id\":\"15633927002858124864\",\"type\":\"observable\"})};\n    var self = this;\n    function AppViewModel() {\n        for (var key in json_data) {\n            var el = json_data[key];\n            this[key] = Array.isArray(el) ? ko.observableArray(el) : ko.observable(el);\n        }\n        \n        \n        [this[\"loading\"].subscribe((function (val){!(this.valueFromJulia[\"loading\"]) ? (WebIO.setval({\"name\":\"loading\",\"scope\":\"2125543084427958450\",\"id\":\"5784703540915807198\",\"type\":\"observable\"},val)) : undefined; return this.valueFromJulia[\"loading\"]=false}),self),this[\"clicks\"].subscribe((function (val){!(this.valueFromJulia[\"clicks\"]) ? (WebIO.setval({\"name\":\"clicks\",\"scope\":\"2125543084427958450\",\"id\":\"15633927002858124864\",\"type\":\"observable\"},val)) : undefined; return this.valueFromJulia[\"clicks\"]=false}),self)]\n        \n    }\n    self.model = new AppViewModel();\n    self.valueFromJulia = {};\n    for (var key in json_data) {\n        self.valueFromJulia[key] = false;\n    }\n    ko.applyBindings(self.model, self.dom);\n}\n);\n    (WebIO.importBlock({\"data\":[{\"name\":\"knockout\",\"type\":\"js\",\"url\":\"/assetserver/727383f2a47bd31570b7da84eee7b022dd6d7c78-knockout.js\"},{\"name\":\"knockout_punches\",\"type\":\"js\",\"url\":\"/assetserver/382b41b3b1bd9f26f75861d360bad7f8beea211f-knockout_punches.js\"}],\"type\":\"async_block\"})).then((imports) => handler.apply(this, imports));\n}\n"
                  ],
                  "observables": {
                   "clicks": {
                    "id": "15633927002858124864",
                    "sync": true,
                    "value": 0
                   },
                   "loading": {
                    "id": "5784703540915807198",
                    "sync": false,
                    "value": false
                   }
                  },
                  "systemjs_options": null
                 },
                 "nodeType": "Scope",
                 "props": {},
                 "type": "node"
                }
               ],
               "instanceArgs": {
                "namespace": "html",
                "tag": "div"
               },
               "nodeType": "DOM",
               "props": {
                "className": "field interact-widget"
               },
               "type": "node"
              },
              {
               "children": [
                {
                 "children": [
                  {
                   "children": [],
                   "instanceArgs": {
                    "namespace": "html",
                    "tag": "div"
                   },
                   "nodeType": "DOM",
                   "props": {
                    "id": "container"
                   },
                   "type": "node"
                  }
                 ],
                 "instanceArgs": {
                  "handlers": {
                   "value": [
                    "(function (txt){return this.k.render(txt,this.container)})"
                   ]
                  },
                  "id": "12458551694742004231",
                  "imports": {
                   "data": [
                    {
                     "name": null,
                     "type": "js",
                     "url": "/assetserver/dd22ed1bf1896c2748f3fe616ce0b838adc895c1-katex.min.js"
                    },
                    {
                     "name": null,
                     "type": "css",
                     "url": "/assetserver/46517a424aa5e6cffc1360d7e0848b601c584ee3-katex.min.css"
                    }
                   ],
                   "type": "async_block"
                  },
                  "mount_callbacks": [
                   "function () {\n    var handler = ((function (k){this.k=k; this.container=this.dom.querySelector(\"#container\"); return k.render(\"\\\\;\\\\;\",this.container)}));\n    (WebIO.importBlock({\"data\":[{\"name\":null,\"type\":\"js\",\"url\":\"/assetserver/dd22ed1bf1896c2748f3fe616ce0b838adc895c1-katex.min.js\"},{\"name\":null,\"type\":\"css\",\"url\":\"/assetserver/46517a424aa5e6cffc1360d7e0848b601c584ee3-katex.min.css\"}],\"type\":\"async_block\"})).then((imports) => handler.apply(this, imports));\n}\n"
                  ],
                  "observables": {
                   "value": {
                    "id": "9785286895708396228",
                    "sync": false,
                    "value": "\\;\\;"
                   }
                  },
                  "systemjs_options": null
                 },
                 "nodeType": "Scope",
                 "props": {},
                 "type": "node"
                }
               ],
               "instanceArgs": {
                "namespace": "html",
                "tag": "div"
               },
               "nodeType": "DOM",
               "props": {
                "className": "interact-widget"
               },
               "type": "node"
              },
              {
               "children": [
                {
                 "children": [
                  {
                   "children": [
                    "reset"
                   ],
                   "instanceArgs": {
                    "namespace": "html",
                    "tag": "button"
                   },
                   "nodeType": "DOM",
                   "props": {
                    "attributes": {
                     "data-bind": "click: function (){this.clicks(this.clicks()+1)}, css: {'is-loading' : loading}"
                    },
                    "className": "is-medium button is-primary",
                    "style": {}
                   },
                   "type": "node"
                  }
                 ],
                 "instanceArgs": {
                  "handlers": {
                   "clicks": [
                    "(function (val){return (val!=this.model[\"clicks\"]()) ? (this.valueFromJulia[\"clicks\"]=true, this.model[\"clicks\"](val)) : undefined})"
                   ],
                   "loading": [
                    "(function (val){return (val!=this.model[\"loading\"]()) ? (this.valueFromJulia[\"loading\"]=true, this.model[\"loading\"](val)) : undefined})"
                   ]
                  },
                  "id": "8521590163211097493",
                  "imports": {
                   "data": [
                    {
                     "name": "knockout",
                     "type": "js",
                     "url": "/assetserver/727383f2a47bd31570b7da84eee7b022dd6d7c78-knockout.js"
                    },
                    {
                     "name": "knockout_punches",
                     "type": "js",
                     "url": "/assetserver/382b41b3b1bd9f26f75861d360bad7f8beea211f-knockout_punches.js"
                    },
                    {
                     "name": null,
                     "type": "js",
                     "url": "/assetserver/5ab20f1060420992a9b82a65b735dee4d81ef413-all.js"
                    },
                    {
                     "name": null,
                     "type": "css",
                     "url": "/assetserver/1cc0ed62837210b80a182cc3676512f895dab686-style.css"
                    },
                    {
                     "name": null,
                     "type": "css",
                     "url": "/assetserver/2eee816f616df3549d7044d45e744fbf8d42bfa1-bulma_confined.min.css"
                    }
                   ],
                   "type": "async_block"
                  },
                  "mount_callbacks": [
                   "function () {\n    var handler = (function (ko, koPunches) {\n    ko.punches.enableAll();\n    ko.bindingHandlers.numericValue = {\n        init: function(element, valueAccessor, allBindings, data, context) {\n            var stringified = ko.observable(ko.unwrap(valueAccessor()));\n            stringified.subscribe(function(value) {\n                var val = parseFloat(value);\n                if (!isNaN(val)) {\n                    valueAccessor()(val);\n                }\n            });\n            valueAccessor().subscribe(function(value) {\n                var str = JSON.stringify(value);\n                if ((str == \"0\") && ([\"-0\", \"-0.\"].indexOf(stringified()) >= 0))\n                     return;\n                 if ([\"null\", \"\"].indexOf(str) >= 0)\n                     return;\n                stringified(str);\n            });\n            ko.applyBindingsToNode(\n                element,\n                {\n                    value: stringified,\n                    valueUpdate: allBindings.get('valueUpdate'),\n                },\n                context,\n            );\n        }\n    };\n    var json_data = {\"loading\":WebIO.getval({\"name\":\"loading\",\"scope\":\"8521590163211097493\",\"id\":\"10746430691210050793\",\"type\":\"observable\"}),\"clicks\":WebIO.getval({\"name\":\"clicks\",\"scope\":\"8521590163211097493\",\"id\":\"10942295588427067757\",\"type\":\"observable\"})};\n    var self = this;\n    function AppViewModel() {\n        for (var key in json_data) {\n            var el = json_data[key];\n            this[key] = Array.isArray(el) ? ko.observableArray(el) : ko.observable(el);\n        }\n        \n        \n        [this[\"loading\"].subscribe((function (val){!(this.valueFromJulia[\"loading\"]) ? (WebIO.setval({\"name\":\"loading\",\"scope\":\"8521590163211097493\",\"id\":\"10746430691210050793\",\"type\":\"observable\"},val)) : undefined; return this.valueFromJulia[\"loading\"]=false}),self),this[\"clicks\"].subscribe((function (val){!(this.valueFromJulia[\"clicks\"]) ? (WebIO.setval({\"name\":\"clicks\",\"scope\":\"8521590163211097493\",\"id\":\"10942295588427067757\",\"type\":\"observable\"},val)) : undefined; return this.valueFromJulia[\"clicks\"]=false}),self)]\n        \n    }\n    self.model = new AppViewModel();\n    self.valueFromJulia = {};\n    for (var key in json_data) {\n        self.valueFromJulia[key] = false;\n    }\n    ko.applyBindings(self.model, self.dom);\n}\n);\n    (WebIO.importBlock({\"data\":[{\"name\":\"knockout\",\"type\":\"js\",\"url\":\"/assetserver/727383f2a47bd31570b7da84eee7b022dd6d7c78-knockout.js\"},{\"name\":\"knockout_punches\",\"type\":\"js\",\"url\":\"/assetserver/382b41b3b1bd9f26f75861d360bad7f8beea211f-knockout_punches.js\"}],\"type\":\"async_block\"})).then((imports) => handler.apply(this, imports));\n}\n"
                  ],
                  "observables": {
                   "clicks": {
                    "id": "10942295588427067757",
                    "sync": true,
                    "value": 0
                   },
                   "loading": {
                    "id": "10746430691210050793",
                    "sync": false,
                    "value": false
                   }
                  },
                  "systemjs_options": null
                 },
                 "nodeType": "Scope",
                 "props": {},
                 "type": "node"
                }
               ],
               "instanceArgs": {
                "namespace": "html",
                "tag": "div"
               },
               "nodeType": "DOM",
               "props": {
                "className": "field interact-widget"
               },
               "type": "node"
              }
             ],
             "instanceArgs": {
              "namespace": "html",
              "tag": "div"
             },
             "nodeType": "DOM",
             "props": {
              "style": {
               "display": "flex",
               "flex-direction": "row"
              }
             },
             "type": "node"
            }
           ],
           "instanceArgs": {
            "namespace": "html",
            "tag": "div"
           },
           "nodeType": "DOM",
           "props": {
            "style": {
             "display": "flex",
             "flex-direction": "column"
            }
           },
           "type": "node"
          },
          {
           "children": [
            {
             "children": [],
             "instanceArgs": {
              "namespace": "html",
              "tag": "div"
             },
             "nodeType": "DOM",
             "props": {
              "className": "webio-observable",
              "setInnerHtml": "    <div style=\"height: 500px; width: 100%; overflow-x: auto; overflow-y: hidden; resize: both\">\n    <iframe src=\"http://127.0.0.1:8702\" style=\"width: 100%; height: 100%; border: none\"></iframe>\n    </div>\n"
             },
             "type": "node"
            }
           ],
           "instanceArgs": {
            "handlers": {
             "obs-output": [
              "function (value, scope) {\n    scope.setInnerHTML(value);\n}\n"
             ]
            },
            "id": "6939883108116720154",
            "imports": {
             "data": [],
             "type": "async_block"
            },
            "mount_callbacks": [],
            "observables": {
             "obs-output": {
              "id": "7666417592119191473",
              "sync": false,
              "value": "    <div style=\"height: 500px; width: 100%; overflow-x: auto; overflow-y: hidden; resize: both\">\n    <iframe src=\"http://127.0.0.1:8702\" style=\"width: 100%; height: 100%; border: none\"></iframe>\n    </div>\n"
             }
            },
            "systemjs_options": null
           },
           "nodeType": "Scope",
           "props": {},
           "type": "node"
          },
          {
           "children": [
            {
             "children": [
              {
               "children": [],
               "instanceArgs": {
                "namespace": "html",
                "tag": "div"
               },
               "nodeType": "DOM",
               "props": {
                "id": "container"
               },
               "type": "node"
              }
             ],
             "instanceArgs": {
              "handlers": {
               "value": [
                "(function (txt){return this.k.render(txt,this.container)})"
               ]
              },
              "id": "12458551694742004231",
              "imports": {
               "data": [
                {
                 "name": null,
                 "type": "js",
                 "url": "/assetserver/dd22ed1bf1896c2748f3fe616ce0b838adc895c1-katex.min.js"
                },
                {
                 "name": null,
                 "type": "css",
                 "url": "/assetserver/46517a424aa5e6cffc1360d7e0848b601c584ee3-katex.min.css"
                }
               ],
               "type": "async_block"
              },
              "mount_callbacks": [
               "function () {\n    var handler = ((function (k){this.k=k; this.container=this.dom.querySelector(\"#container\"); return k.render(\"\\\\;\\\\;\",this.container)}));\n    (WebIO.importBlock({\"data\":[{\"name\":null,\"type\":\"js\",\"url\":\"/assetserver/dd22ed1bf1896c2748f3fe616ce0b838adc895c1-katex.min.js\"},{\"name\":null,\"type\":\"css\",\"url\":\"/assetserver/46517a424aa5e6cffc1360d7e0848b601c584ee3-katex.min.css\"}],\"type\":\"async_block\"})).then((imports) => handler.apply(this, imports));\n}\n"
              ],
              "observables": {
               "value": {
                "id": "9785286895708396228",
                "sync": false,
                "value": "\\;\\;"
               }
              },
              "systemjs_options": null
             },
             "nodeType": "Scope",
             "props": {},
             "type": "node"
            }
           ],
           "instanceArgs": {
            "namespace": "html",
            "tag": "div"
           },
           "nodeType": "DOM",
           "props": {
            "className": "interact-widget"
           },
           "type": "node"
          },
          {
           "children": [
            {
             "children": [
              {
               "children": [],
               "instanceArgs": {
                "namespace": "html",
                "tag": "div"
               },
               "nodeType": "DOM",
               "props": {
                "className": "webio-observable",
                "setInnerHtml": "<img src=\"data:image/png;base64,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\" />"
               },
               "type": "node"
              }
             ],
             "instanceArgs": {
              "handlers": {
               "obs-output": [
                "function (value, scope) {\n    scope.setInnerHTML(value);\n}\n"
               ]
              },
              "id": "8292891944353641050",
              "imports": {
               "data": [],
               "type": "async_block"
              },
              "mount_callbacks": [],
              "observables": {
               "obs-output": {
                "id": "6474000740566176571",
                "sync": false,
                "value": "<img src=\"data:image/png;base64,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\" />"
               }
              },
              "systemjs_options": null
             },
             "nodeType": "Scope",
             "props": {},
             "type": "node"
            }
           ],
           "instanceArgs": {
            "namespace": "html",
            "tag": "div"
           },
           "nodeType": "DOM",
           "props": {
            "style": {
             "display": "flex",
             "flex-direction": "column"
            }
           },
           "type": "node"
          }
         ],
         "instanceArgs": {
          "namespace": "html",
          "tag": "div"
         },
         "nodeType": "DOM",
         "props": {
          "style": {
           "display": "flex",
           "flex-direction": "row"
          }
         },
         "type": "node"
        }
       ],
       "instanceArgs": {
        "namespace": "html",
        "tag": "div"
       },
       "nodeType": "DOM",
       "props": {
        "style": {
         "display": "flex",
         "flex-direction": "column"
        }
       },
       "type": "node"
      },
      "text/html": [
       "<div\n",
       "    class=\"webio-mountpoint\"\n",
       "    data-webio-mountpoint=\"4459722224513786172\"\n",
       ">\n",
       "    <script>\n",
       "    (function(){\n",
       "    // Some integrations (namely, IJulia/Jupyter) use an alternate render pathway than\n",
       "    // just putting the html on the page. If WebIO isn't defined, then it's pretty likely\n",
       "    // that we're in one of those situations and the integration just isn't installed\n",
       "    // correctly.\n",
       "    if (typeof window.WebIO === \"undefined\") {\n",
       "        document\n",
       "            .querySelector('[data-webio-mountpoint=\"4459722224513786172\"]')\n",
       "            .innerHTML = (\n",
       "                '<div style=\"padding: 1em; background-color: #f8d6da; border: 1px solid #f5c6cb; font-weight: bold;\">' +\n",
       "                '<p><strong>WebIO not detected.</strong></p>' +\n",
       "                '<p>Please read ' +\n",
       "                '<a href=\"https://juliagizmos.github.io/WebIO.jl/latest/troubleshooting/not-detected/\" target=\"_blank\">the troubleshooting guide</a> ' +\n",
       "                'for more information on how to resolve this issue.</p>' +\n",
       "                '<p><a href=\"https://juliagizmos.github.io/WebIO.jl/latest/troubleshooting/not-detected/\" target=\"_blank\">https://juliagizmos.github.io/WebIO.jl/latest/troubleshooting/not-detected/</a></p>' +\n",
       "                '</div>'\n",
       "            );\n",
       "        return;\n",
       "    }\n",
       "    WebIO.mount(\n",
       "        document.querySelector('[data-webio-mountpoint=\"4459722224513786172\"]'),\n",
       "        {\"props\":{\"style\":{\"display\":\"flex\",\"flex-direction\":\"column\"}},\"nodeType\":\"DOM\",\"type\":\"node\",\"instanceArgs\":{\"namespace\":\"html\",\"tag\":\"div\"},\"children\":[{\"props\":{\"style\":{\"display\":\"flex\",\"flex-direction\":\"row\"}},\"nodeType\":\"DOM\",\"type\":\"node\",\"instanceArgs\":{\"namespace\":\"html\",\"tag\":\"div\"},\"children\":[{\"props\":{\"style\":{\"display\":\"flex\",\"flex-direction\":\"column\"}},\"nodeType\":\"DOM\",\"type\":\"node\",\"instanceArgs\":{\"namespace\":\"html\",\"tag\":\"div\"},\"children\":[{\"props\":{\"className\":\"field interact-widget\"},\"nodeType\":\"DOM\",\"type\":\"node\",\"instanceArgs\":{\"namespace\":\"html\",\"tag\":\"div\"},\"children\":[{\"props\":{},\"nodeType\":\"Scope\",\"type\":\"node\",\"instanceArgs\":{\"imports\":{\"data\":[{\"name\":\"knockout\",\"type\":\"js\",\"url\":\"\\/assetserver\\/727383f2a47bd31570b7da84eee7b022dd6d7c78-knockout.js\"},{\"name\":\"knockout_punches\",\"type\":\"js\",\"url\":\"\\/assetserver\\/382b41b3b1bd9f26f75861d360bad7f8beea211f-knockout_punches.js\"},{\"name\":null,\"type\":\"js\",\"url\":\"\\/assetserver\\/5ab20f1060420992a9b82a65b735dee4d81ef413-all.js\"},{\"name\":null,\"type\":\"css\",\"url\":\"\\/assetserver\\/1cc0ed62837210b80a182cc3676512f895dab686-style.css\"},{\"name\":null,\"type\":\"css\",\"url\":\"\\/assetserver\\/2eee816f616df3549d7044d45e744fbf8d42bfa1-bulma_confined.min.css\"}],\"type\":\"async_block\"},\"id\":\"2577037180724543148\",\"handlers\":{\"changes\":[\"(function (val){return (val!=this.model[\\\"changes\\\"]()) ? (this.valueFromJulia[\\\"changes\\\"]=true, this.model[\\\"changes\\\"](val)) : undefined})\"],\"index\":[\"(function (val){return (val!=this.model[\\\"index\\\"]()) ? (this.valueFromJulia[\\\"index\\\"]=true, this.model[\\\"index\\\"](val)) : undefined})\"]},\"systemjs_options\":null,\"mount_callbacks\":[\"function () {\\n    var handler = (function (ko, koPunches) {\\n    ko.punches.enableAll();\\n    ko.bindingHandlers.numericValue = {\\n        init: function(element, valueAccessor, allBindings, data, context) {\\n            var stringified = ko.observable(ko.unwrap(valueAccessor()));\\n            stringified.subscribe(function(value) {\\n                var val = parseFloat(value);\\n                if (!isNaN(val)) {\\n                    valueAccessor()(val);\\n                }\\n            });\\n            valueAccessor().subscribe(function(value) {\\n                var str = JSON.stringify(value);\\n                if ((str == \\\"0\\\") && ([\\\"-0\\\", \\\"-0.\\\"].indexOf(stringified()) >= 0))\\n                     return;\\n                 if ([\\\"null\\\", \\\"\\\"].indexOf(str) >= 0)\\n                     return;\\n                stringified(str);\\n            });\\n            ko.applyBindingsToNode(\\n                element,\\n                {\\n                    value: stringified,\\n                    valueUpdate: allBindings.get('valueUpdate'),\\n                },\\n                context,\\n            );\\n        }\\n    };\\n    var json_data = {\\\"formatted_vals\\\":[\\\"1\\\",\\\"2\\\",\\\"3\\\",\\\"4\\\",\\\"5\\\",\\\"6\\\",\\\"7\\\",\\\"8\\\",\\\"9\\\",\\\"10\\\",\\\"11\\\",\\\"12\\\",\\\"13\\\",\\\"14\\\",\\\"15\\\",\\\"16\\\",\\\"17\\\",\\\"18\\\",\\\"19\\\",\\\"20\\\",\\\"21\\\",\\\"22\\\",\\\"23\\\",\\\"24\\\",\\\"25\\\",\\\"26\\\",\\\"27\\\",\\\"28\\\",\\\"29\\\",\\\"30\\\",\\\"31\\\",\\\"32\\\",\\\"33\\\",\\\"34\\\",\\\"35\\\",\\\"36\\\",\\\"37\\\",\\\"38\\\",\\\"39\\\",\\\"40\\\",\\\"41\\\",\\\"42\\\",\\\"43\\\",\\\"44\\\",\\\"45\\\",\\\"46\\\",\\\"47\\\",\\\"48\\\",\\\"49\\\",\\\"50\\\",\\\"51\\\",\\\"52\\\",\\\"53\\\",\\\"54\\\",\\\"55\\\",\\\"56\\\",\\\"57\\\",\\\"58\\\",\\\"59\\\",\\\"60\\\",\\\"61\\\",\\\"62\\\",\\\"63\\\",\\\"64\\\",\\\"65\\\",\\\"66\\\",\\\"67\\\",\\\"68\\\",\\\"69\\\",\\\"70\\\",\\\"71\\\",\\\"72\\\",\\\"73\\\",\\\"74\\\",\\\"75\\\",\\\"76\\\",\\\"77\\\",\\\"78\\\",\\\"79\\\",\\\"80\\\",\\\"81\\\",\\\"82\\\",\\\"83\\\",\\\"84\\\",\\\"85\\\",\\\"86\\\",\\\"87\\\",\\\"88\\\",\\\"89\\\",\\\"90\\\",\\\"91\\\",\\\"92\\\",\\\"93\\\",\\\"94\\\",\\\"95\\\",\\\"96\\\",\\\"97\\\",\\\"98\\\",\\\"99\\\",\\\"100\\\",\\\"101\\\",\\\"102\\\",\\\"103\\\",\\\"104\\\",\\\"105\\\",\\\"106\\\",\\\"107\\\",\\\"108\\\",\\\"109\\\",\\\"110\\\",\\\"111\\\",\\\"112\\\",\\\"113\\\",\\\"114\\\",\\\"115\\\",\\\"116\\\",\\\"117\\\",\\\"118\\\",\\\"119\\\",\\\"120\\\",\\\"121\\\",\\\"122\\\",\\\"123\\\",\\\"124\\\",\\\"125\\\",\\\"126\\\",\\\"127\\\",\\\"128\\\",\\\"129\\\",\\\"130\\\",\\\"131\\\",\\\"132\\\",\\\"133\\\",\\\"134\\\",\\\"135\\\",\\\"136\\\",\\\"137\\\",\\\"138\\\",\\\"139\\\",\\\"140\\\",\\\"141\\\",\\\"142\\\",\\\"143\\\",\\\"144\\\",\\\"145\\\",\\\"146\\\",\\\"147\\\",\\\"148\\\",\\\"149\\\",\\\"150\\\",\\\"151\\\",\\\"152\\\",\\\"153\\\",\\\"154\\\",\\\"155\\\",\\\"156\\\",\\\"157\\\",\\\"158\\\",\\\"159\\\",\\\"160\\\",\\\"161\\\",\\\"162\\\",\\\"163\\\",\\\"164\\\",\\\"165\\\",\\\"166\\\",\\\"167\\\",\\\"168\\\",\\\"169\\\",\\\"170\\\",\\\"171\\\",\\\"172\\\",\\\"173\\\",\\\"174\\\",\\\"175\\\",\\\"176\\\",\\\"177\\\",\\\"178\\\",\\\"179\\\",\\\"180\\\",\\\"181\\\",\\\"182\\\",\\\"183\\\",\\\"184\\\",\\\"185\\\",\\\"186\\\",\\\"187\\\",\\\"188\\\",\\\"189\\\",\\\"190\\\",\\\"191\\\",\\\"192\\\",\\\"193\\\",\\\"194\\\",\\\"195\\\",\\\"196\\\",\\\"197\\\",\\\"198\\\",\\\"199\\\",\\\"200\\\"],\\\"changes\\\":WebIO.getval({\\\"name\\\":\\\"changes\\\",\\\"scope\\\":\\\"2577037180724543148\\\",\\\"id\\\":\\\"854938276902561388\\\",\\\"type\\\":\\\"observable\\\"}),\\\"index\\\":WebIO.getval({\\\"name\\\":\\\"index\\\",\\\"scope\\\":\\\"2577037180724543148\\\",\\\"id\\\":\\\"15849935743026413024\\\",\\\"type\\\":\\\"observable\\\"})};\\n    var self = this;\\n    function AppViewModel() {\\n        for (var key in json_data) {\\n            var el = json_data[key];\\n            this[key] = Array.isArray(el) ? ko.observableArray(el) : ko.observable(el);\\n        }\\n        \\n        [this[\\\"formatted_val\\\"]=ko.computed(    function(){\\n        return this.formatted_vals()[parseInt(this.index())-(1)];\\n    }\\n,this)]\\n        [this[\\\"changes\\\"].subscribe((function (val){!(this.valueFromJulia[\\\"changes\\\"]) ? (WebIO.setval({\\\"name\\\":\\\"changes\\\",\\\"scope\\\":\\\"2577037180724543148\\\",\\\"id\\\":\\\"854938276902561388\\\",\\\"type\\\":\\\"observable\\\"},val)) : undefined; return this.valueFromJulia[\\\"changes\\\"]=false}),self),this[\\\"index\\\"].subscribe((function (val){!(this.valueFromJulia[\\\"index\\\"]) ? (WebIO.setval({\\\"name\\\":\\\"index\\\",\\\"scope\\\":\\\"2577037180724543148\\\",\\\"id\\\":\\\"15849935743026413024\\\",\\\"type\\\":\\\"observable\\\"},val)) : undefined; return this.valueFromJulia[\\\"index\\\"]=false}),self)]\\n        \\n    }\\n    self.model = new AppViewModel();\\n    self.valueFromJulia = {};\\n    for (var key in json_data) {\\n        self.valueFromJulia[key] = false;\\n    }\\n    ko.applyBindings(self.model, self.dom);\\n}\\n);\\n    (WebIO.importBlock({\\\"data\\\":[{\\\"name\\\":\\\"knockout\\\",\\\"type\\\":\\\"js\\\",\\\"url\\\":\\\"\\/assetserver\\/727383f2a47bd31570b7da84eee7b022dd6d7c78-knockout.js\\\"},{\\\"name\\\":\\\"knockout_punches\\\",\\\"type\\\":\\\"js\\\",\\\"url\\\":\\\"\\/assetserver\\/382b41b3b1bd9f26f75861d360bad7f8beea211f-knockout_punches.js\\\"}],\\\"type\\\":\\\"async_block\\\"})).then((imports) => handler.apply(this, imports));\\n}\\n\"],\"observables\":{\"changes\":{\"sync\":false,\"id\":\"854938276902561388\",\"value\":0},\"index\":{\"sync\":true,\"id\":\"15849935743026413024\",\"value\":1}}},\"children\":[{\"props\":{\"className\":\"interact-flex-row interact-widget\"},\"nodeType\":\"DOM\",\"type\":\"node\",\"instanceArgs\":{\"namespace\":\"html\",\"tag\":\"div\"},\"children\":[{\"props\":{\"className\":\"interact-flex-row-left\"},\"nodeType\":\"DOM\",\"type\":\"node\",\"instanceArgs\":{\"namespace\":\"html\",\"tag\":\"div\"},\"children\":[{\"props\":{\"className\":\"interact \",\"style\":{\"padding\":\"5px 10px 0px 10px\"}},\"nodeType\":\"DOM\",\"type\":\"node\",\"instanceArgs\":{\"namespace\":\"html\",\"tag\":\"label\"},\"children\":[\"time\"]}]},{\"props\":{\"className\":\"interact-flex-row-center\"},\"nodeType\":\"DOM\",\"type\":\"node\",\"instanceArgs\":{\"namespace\":\"html\",\"tag\":\"div\"},\"children\":[{\"props\":{\"max\":200,\"min\":1,\"attributes\":{\"type\":\"range\",\"data-bind\":\"numericValue: index, valueUpdate: 'input', event: {change: function (){this.changes(this.changes()+1)}}\",\"orient\":\"horizontal\"},\"step\":1,\"className\":\"slider slider is-fullwidth\",\"style\":{}},\"nodeType\":\"DOM\",\"type\":\"node\",\"instanceArgs\":{\"namespace\":\"html\",\"tag\":\"input\"},\"children\":[]}]},{\"props\":{\"className\":\"interact-flex-row-right\"},\"nodeType\":\"DOM\",\"type\":\"node\",\"instanceArgs\":{\"namespace\":\"html\",\"tag\":\"div\"},\"children\":[{\"props\":{\"attributes\":{\"data-bind\":\"text: formatted_val\"}},\"nodeType\":\"DOM\",\"type\":\"node\",\"instanceArgs\":{\"namespace\":\"html\",\"tag\":\"p\"},\"children\":[]}]}]}]}]},{\"props\":{\"className\":\"field interact-widget\"},\"nodeType\":\"DOM\",\"type\":\"node\",\"instanceArgs\":{\"namespace\":\"html\",\"tag\":\"div\"},\"children\":[{\"props\":{},\"nodeType\":\"Scope\",\"type\":\"node\",\"instanceArgs\":{\"imports\":{\"data\":[{\"name\":\"knockout\",\"type\":\"js\",\"url\":\"\\/assetserver\\/727383f2a47bd31570b7da84eee7b022dd6d7c78-knockout.js\"},{\"name\":\"knockout_punches\",\"type\":\"js\",\"url\":\"\\/assetserver\\/382b41b3b1bd9f26f75861d360bad7f8beea211f-knockout_punches.js\"},{\"name\":null,\"type\":\"js\",\"url\":\"\\/assetserver\\/5ab20f1060420992a9b82a65b735dee4d81ef413-all.js\"},{\"name\":null,\"type\":\"css\",\"url\":\"\\/assetserver\\/1cc0ed62837210b80a182cc3676512f895dab686-style.css\"},{\"name\":null,\"type\":\"css\",\"url\":\"\\/assetserver\\/2eee816f616df3549d7044d45e744fbf8d42bfa1-bulma_confined.min.css\"}],\"type\":\"async_block\"},\"id\":\"11623366608262238642\",\"handlers\":{\"changes\":[\"(function (val){return (val!=this.model[\\\"changes\\\"]()) ? (this.valueFromJulia[\\\"changes\\\"]=true, this.model[\\\"changes\\\"](val)) : undefined})\"],\"index\":[\"(function (val){return (val!=this.model[\\\"index\\\"]()) ? (this.valueFromJulia[\\\"index\\\"]=true, this.model[\\\"index\\\"](val)) : undefined})\"]},\"systemjs_options\":null,\"mount_callbacks\":[\"function () {\\n    var handler = (function (ko, koPunches) {\\n    ko.punches.enableAll();\\n    ko.bindingHandlers.numericValue = {\\n        init: function(element, valueAccessor, allBindings, data, context) {\\n            var stringified = ko.observable(ko.unwrap(valueAccessor()));\\n            stringified.subscribe(function(value) {\\n                var val = parseFloat(value);\\n                if (!isNaN(val)) {\\n                    valueAccessor()(val);\\n                }\\n            });\\n            valueAccessor().subscribe(function(value) {\\n                var str = JSON.stringify(value);\\n                if ((str == \\\"0\\\") && ([\\\"-0\\\", \\\"-0.\\\"].indexOf(stringified()) >= 0))\\n                     return;\\n                 if ([\\\"null\\\", \\\"\\\"].indexOf(str) >= 0)\\n                     return;\\n                stringified(str);\\n            });\\n            ko.applyBindingsToNode(\\n                element,\\n                {\\n                    value: stringified,\\n                    valueUpdate: allBindings.get('valueUpdate'),\\n                },\\n                context,\\n            );\\n        }\\n    };\\n    var json_data = {\\\"formatted_vals\\\":[\\\"0.1\\\",\\\"0.2\\\",\\\"0.3\\\",\\\"0.4\\\",\\\"0.5\\\",\\\"0.6\\\",\\\"0.7\\\",\\\"0.8\\\",\\\"0.9\\\",\\\"1.0\\\",\\\"1.1\\\",\\\"1.2\\\",\\\"1.3\\\",\\\"1.4\\\",\\\"1.5\\\",\\\"1.6\\\",\\\"1.7\\\",\\\"1.8\\\",\\\"1.9\\\",\\\"2.0\\\"],\\\"changes\\\":WebIO.getval({\\\"name\\\":\\\"changes\\\",\\\"scope\\\":\\\"11623366608262238642\\\",\\\"id\\\":\\\"6298449535562904683\\\",\\\"type\\\":\\\"observable\\\"}),\\\"index\\\":WebIO.getval({\\\"name\\\":\\\"index\\\",\\\"scope\\\":\\\"11623366608262238642\\\",\\\"id\\\":\\\"8928176611260968451\\\",\\\"type\\\":\\\"observable\\\"})};\\n    var self = this;\\n    function AppViewModel() {\\n        for (var key in json_data) {\\n            var el = json_data[key];\\n            this[key] = Array.isArray(el) ? ko.observableArray(el) : ko.observable(el);\\n        }\\n        \\n        [this[\\\"formatted_val\\\"]=ko.computed(    function(){\\n        return this.formatted_vals()[parseInt(this.index())-(1)];\\n    }\\n,this)]\\n        [this[\\\"changes\\\"].subscribe((function (val){!(this.valueFromJulia[\\\"changes\\\"]) ? (WebIO.setval({\\\"name\\\":\\\"changes\\\",\\\"scope\\\":\\\"11623366608262238642\\\",\\\"id\\\":\\\"6298449535562904683\\\",\\\"type\\\":\\\"observable\\\"},val)) : undefined; return this.valueFromJulia[\\\"changes\\\"]=false}),self),this[\\\"index\\\"].subscribe((function (val){!(this.valueFromJulia[\\\"index\\\"]) ? (WebIO.setval({\\\"name\\\":\\\"index\\\",\\\"scope\\\":\\\"11623366608262238642\\\",\\\"id\\\":\\\"8928176611260968451\\\",\\\"type\\\":\\\"observable\\\"},val)) : undefined; return this.valueFromJulia[\\\"index\\\"]=false}),self)]\\n        \\n    }\\n    self.model = new AppViewModel();\\n    self.valueFromJulia = {};\\n    for (var key in json_data) {\\n        self.valueFromJulia[key] = false;\\n    }\\n    ko.applyBindings(self.model, self.dom);\\n}\\n);\\n    (WebIO.importBlock({\\\"data\\\":[{\\\"name\\\":\\\"knockout\\\",\\\"type\\\":\\\"js\\\",\\\"url\\\":\\\"\\/assetserver\\/727383f2a47bd31570b7da84eee7b022dd6d7c78-knockout.js\\\"},{\\\"name\\\":\\\"knockout_punches\\\",\\\"type\\\":\\\"js\\\",\\\"url\\\":\\\"\\/assetserver\\/382b41b3b1bd9f26f75861d360bad7f8beea211f-knockout_punches.js\\\"}],\\\"type\\\":\\\"async_block\\\"})).then((imports) => handler.apply(this, imports));\\n}\\n\"],\"observables\":{\"changes\":{\"sync\":false,\"id\":\"6298449535562904683\",\"value\":0},\"index\":{\"sync\":true,\"id\":\"8928176611260968451\",\"value\":10}}},\"children\":[{\"props\":{\"className\":\"interact-flex-row interact-widget\"},\"nodeType\":\"DOM\",\"type\":\"node\",\"instanceArgs\":{\"namespace\":\"html\",\"tag\":\"div\"},\"children\":[{\"props\":{\"className\":\"interact-flex-row-left\"},\"nodeType\":\"DOM\",\"type\":\"node\",\"instanceArgs\":{\"namespace\":\"html\",\"tag\":\"div\"},\"children\":[{\"props\":{\"className\":\"interact \",\"style\":{\"padding\":\"5px 10px 0px 10px\"}},\"nodeType\":\"DOM\",\"type\":\"node\",\"instanceArgs\":{\"namespace\":\"html\",\"tag\":\"label\"},\"children\":[\"scale\"]}]},{\"props\":{\"className\":\"interact-flex-row-center\"},\"nodeType\":\"DOM\",\"type\":\"node\",\"instanceArgs\":{\"namespace\":\"html\",\"tag\":\"div\"},\"children\":[{\"props\":{\"max\":20,\"min\":1,\"attributes\":{\"type\":\"range\",\"data-bind\":\"numericValue: index, valueUpdate: 'input', event: {change: function (){this.changes(this.changes()+1)}}\",\"orient\":\"horizontal\"},\"step\":1,\"className\":\"slider slider is-fullwidth\",\"style\":{}},\"nodeType\":\"DOM\",\"type\":\"node\",\"instanceArgs\":{\"namespace\":\"html\",\"tag\":\"input\"},\"children\":[]}]},{\"props\":{\"className\":\"interact-flex-row-right\"},\"nodeType\":\"DOM\",\"type\":\"node\",\"instanceArgs\":{\"namespace\":\"html\",\"tag\":\"div\"},\"children\":[{\"props\":{\"attributes\":{\"data-bind\":\"text: formatted_val\"}},\"nodeType\":\"DOM\",\"type\":\"node\",\"instanceArgs\":{\"namespace\":\"html\",\"tag\":\"p\"},\"children\":[]}]}]}]}]},{\"props\":{\"style\":{\"display\":\"flex\",\"flex-direction\":\"column\"}},\"nodeType\":\"DOM\",\"type\":\"node\",\"instanceArgs\":{\"namespace\":\"html\",\"tag\":\"div\"},\"children\":[]},{\"props\":{\"style\":{\"display\":\"flex\",\"flex-direction\":\"column\"}},\"nodeType\":\"DOM\",\"type\":\"node\",\"instanceArgs\":{\"namespace\":\"html\",\"tag\":\"div\"},\"children\":[{\"props\":{\"className\":\"field interact-widget\"},\"nodeType\":\"DOM\",\"type\":\"node\",\"instanceArgs\":{\"namespace\":\"html\",\"tag\":\"div\"},\"children\":[{\"props\":{},\"nodeType\":\"Scope\",\"type\":\"node\",\"instanceArgs\":{\"imports\":{\"data\":[{\"name\":\"knockout\",\"type\":\"js\",\"url\":\"\\/assetserver\\/727383f2a47bd31570b7da84eee7b022dd6d7c78-knockout.js\"},{\"name\":\"knockout_punches\",\"type\":\"js\",\"url\":\"\\/assetserver\\/382b41b3b1bd9f26f75861d360bad7f8beea211f-knockout_punches.js\"},{\"name\":null,\"type\":\"js\",\"url\":\"\\/assetserver\\/5ab20f1060420992a9b82a65b735dee4d81ef413-all.js\"},{\"name\":null,\"type\":\"css\",\"url\":\"\\/assetserver\\/1cc0ed62837210b80a182cc3676512f895dab686-style.css\"},{\"name\":null,\"type\":\"css\",\"url\":\"\\/assetserver\\/2eee816f616df3549d7044d45e744fbf8d42bfa1-bulma_confined.min.css\"}],\"type\":\"async_block\"},\"id\":\"6860497118943257604\",\"handlers\":{\"changes\":[\"(function (val){return (val!=this.model[\\\"changes\\\"]()) ? (this.valueFromJulia[\\\"changes\\\"]=true, this.model[\\\"changes\\\"](val)) : undefined})\"],\"index\":[\"(function (val){return (val!=this.model[\\\"index\\\"]()) ? (this.valueFromJulia[\\\"index\\\"]=true, this.model[\\\"index\\\"](val)) : undefined})\"]},\"systemjs_options\":null,\"mount_callbacks\":[\"function () {\\n    var handler = (function (ko, koPunches) {\\n    ko.punches.enableAll();\\n    ko.bindingHandlers.numericValue = {\\n        init: function(element, valueAccessor, allBindings, data, context) {\\n            var stringified = ko.observable(ko.unwrap(valueAccessor()));\\n            stringified.subscribe(function(value) {\\n                var val = parseFloat(value);\\n                if (!isNaN(val)) {\\n                    valueAccessor()(val);\\n                }\\n            });\\n            valueAccessor().subscribe(function(value) {\\n                var str = JSON.stringify(value);\\n                if ((str == \\\"0\\\") && ([\\\"-0\\\", \\\"-0.\\\"].indexOf(stringified()) >= 0))\\n                     return;\\n                 if ([\\\"null\\\", \\\"\\\"].indexOf(str) >= 0)\\n                     return;\\n                stringified(str);\\n            });\\n            ko.applyBindingsToNode(\\n                element,\\n                {\\n                    value: stringified,\\n                    valueUpdate: allBindings.get('valueUpdate'),\\n                },\\n                context,\\n            );\\n        }\\n    };\\n    var json_data = {\\\"formatted_vals\\\":[\\\"1\\\",\\\"2\\\",\\\"3\\\",\\\"4\\\",\\\"5\\\",\\\"6\\\",\\\"7\\\",\\\"8\\\",\\\"9\\\",\\\"10\\\",\\\"11\\\",\\\"12\\\"],\\\"changes\\\":WebIO.getval({\\\"name\\\":\\\"changes\\\",\\\"scope\\\":\\\"6860497118943257604\\\",\\\"id\\\":\\\"3160981563771021769\\\",\\\"type\\\":\\\"observable\\\"}),\\\"index\\\":WebIO.getval({\\\"name\\\":\\\"index\\\",\\\"scope\\\":\\\"6860497118943257604\\\",\\\"id\\\":\\\"17819766709179801267\\\",\\\"type\\\":\\\"observable\\\"})};\\n    var self = this;\\n    function AppViewModel() {\\n        for (var key in json_data) {\\n            var el = json_data[key];\\n            this[key] = Array.isArray(el) ? ko.observableArray(el) : ko.observable(el);\\n        }\\n        \\n        [this[\\\"formatted_val\\\"]=ko.computed(    function(){\\n        return this.formatted_vals()[parseInt(this.index())-(1)];\\n    }\\n,this)]\\n        [this[\\\"changes\\\"].subscribe((function (val){!(this.valueFromJulia[\\\"changes\\\"]) ? (WebIO.setval({\\\"name\\\":\\\"changes\\\",\\\"scope\\\":\\\"6860497118943257604\\\",\\\"id\\\":\\\"3160981563771021769\\\",\\\"type\\\":\\\"observable\\\"},val)) : undefined; return this.valueFromJulia[\\\"changes\\\"]=false}),self),this[\\\"index\\\"].subscribe((function (val){!(this.valueFromJulia[\\\"index\\\"]) ? (WebIO.setval({\\\"name\\\":\\\"index\\\",\\\"scope\\\":\\\"6860497118943257604\\\",\\\"id\\\":\\\"17819766709179801267\\\",\\\"type\\\":\\\"observable\\\"},val)) : undefined; return this.valueFromJulia[\\\"index\\\"]=false}),self)]\\n        \\n    }\\n    self.model = new AppViewModel();\\n    self.valueFromJulia = {};\\n    for (var key in json_data) {\\n        self.valueFromJulia[key] = false;\\n    }\\n    ko.applyBindings(self.model, self.dom);\\n}\\n);\\n    (WebIO.importBlock({\\\"data\\\":[{\\\"name\\\":\\\"knockout\\\",\\\"type\\\":\\\"js\\\",\\\"url\\\":\\\"\\/assetserver\\/727383f2a47bd31570b7da84eee7b022dd6d7c78-knockout.js\\\"},{\\\"name\\\":\\\"knockout_punches\\\",\\\"type\\\":\\\"js\\\",\\\"url\\\":\\\"\\/assetserver\\/382b41b3b1bd9f26f75861d360bad7f8beea211f-knockout_punches.js\\\"}],\\\"type\\\":\\\"async_block\\\"})).then((imports) => handler.apply(this, imports));\\n}\\n\"],\"observables\":{\"changes\":{\"sync\":false,\"id\":\"3160981563771021769\",\"value\":0},\"index\":{\"sync\":true,\"id\":\"17819766709179801267\",\"value\":6}}},\"children\":[{\"props\":{\"className\":\"interact-flex-row interact-widget\"},\"nodeType\":\"DOM\",\"type\":\"node\",\"instanceArgs\":{\"namespace\":\"html\",\"tag\":\"div\"},\"children\":[{\"props\":{\"className\":\"interact-flex-row-left\"},\"nodeType\":\"DOM\",\"type\":\"node\",\"instanceArgs\":{\"namespace\":\"html\",\"tag\":\"div\"},\"children\":[{\"props\":{\"className\":\"interact \",\"style\":{\"padding\":\"5px 10px 0px 10px\"}},\"nodeType\":\"DOM\",\"type\":\"node\",\"instanceArgs\":{\"namespace\":\"html\",\"tag\":\"label\"},\"children\":[\"min_alike\"]}]},{\"props\":{\"className\":\"interact-flex-row-center\"},\"nodeType\":\"DOM\",\"type\":\"node\",\"instanceArgs\":{\"namespace\":\"html\",\"tag\":\"div\"},\"children\":[{\"props\":{\"max\":12,\"min\":1,\"attributes\":{\"type\":\"range\",\"data-bind\":\"numericValue: index, valueUpdate: 'input', event: {change: function (){this.changes(this.changes()+1)}}\",\"orient\":\"horizontal\"},\"step\":1,\"className\":\"slider slider is-fullwidth\",\"style\":{}},\"nodeType\":\"DOM\",\"type\":\"node\",\"instanceArgs\":{\"namespace\":\"html\",\"tag\":\"input\"},\"children\":[]}]},{\"props\":{\"className\":\"interact-flex-row-right\"},\"nodeType\":\"DOM\",\"type\":\"node\",\"instanceArgs\":{\"namespace\":\"html\",\"tag\":\"div\"},\"children\":[{\"props\":{\"attributes\":{\"data-bind\":\"text: formatted_val\"}},\"nodeType\":\"DOM\",\"type\":\"node\",\"instanceArgs\":{\"namespace\":\"html\",\"tag\":\"p\"},\"children\":[]}]}]}]}]}]},{\"props\":{\"style\":{\"display\":\"flex\",\"flex-direction\":\"row\"}},\"nodeType\":\"DOM\",\"type\":\"node\",\"instanceArgs\":{\"namespace\":\"html\",\"tag\":\"div\"},\"children\":[{\"props\":{\"className\":\"interact-widget\"},\"nodeType\":\"DOM\",\"type\":\"node\",\"instanceArgs\":{\"namespace\":\"html\",\"tag\":\"div\"},\"children\":[{\"props\":{},\"nodeType\":\"Scope\",\"type\":\"node\",\"instanceArgs\":{\"imports\":{\"data\":[{\"name\":null,\"type\":\"js\",\"url\":\"\\/assetserver\\/dd22ed1bf1896c2748f3fe616ce0b838adc895c1-katex.min.js\"},{\"name\":null,\"type\":\"css\",\"url\":\"\\/assetserver\\/46517a424aa5e6cffc1360d7e0848b601c584ee3-katex.min.css\"}],\"type\":\"async_block\"},\"id\":\"12458551694742004231\",\"handlers\":{\"value\":[\"(function (txt){return this.k.render(txt,this.container)})\"]},\"systemjs_options\":null,\"mount_callbacks\":[\"function () {\\n    var handler = ((function (k){this.k=k; this.container=this.dom.querySelector(\\\"#container\\\"); return k.render(\\\"\\\\\\\\;\\\\\\\\;\\\",this.container)}));\\n    (WebIO.importBlock({\\\"data\\\":[{\\\"name\\\":null,\\\"type\\\":\\\"js\\\",\\\"url\\\":\\\"\\/assetserver\\/dd22ed1bf1896c2748f3fe616ce0b838adc895c1-katex.min.js\\\"},{\\\"name\\\":null,\\\"type\\\":\\\"css\\\",\\\"url\\\":\\\"\\/assetserver\\/46517a424aa5e6cffc1360d7e0848b601c584ee3-katex.min.css\\\"}],\\\"type\\\":\\\"async_block\\\"})).then((imports) => handler.apply(this, imports));\\n}\\n\"],\"observables\":{\"value\":{\"sync\":false,\"id\":\"9785286895708396228\",\"value\":\"\\\\;\\\\;\"}}},\"children\":[{\"props\":{\"id\":\"container\"},\"nodeType\":\"DOM\",\"type\":\"node\",\"instanceArgs\":{\"namespace\":\"html\",\"tag\":\"div\"},\"children\":[]}]}]},{\"props\":{\"className\":\"field interact-widget\"},\"nodeType\":\"DOM\",\"type\":\"node\",\"instanceArgs\":{\"namespace\":\"html\",\"tag\":\"div\"},\"children\":[{\"props\":{},\"nodeType\":\"Scope\",\"type\":\"node\",\"instanceArgs\":{\"imports\":{\"data\":[{\"name\":\"knockout\",\"type\":\"js\",\"url\":\"\\/assetserver\\/727383f2a47bd31570b7da84eee7b022dd6d7c78-knockout.js\"},{\"name\":\"knockout_punches\",\"type\":\"js\",\"url\":\"\\/assetserver\\/382b41b3b1bd9f26f75861d360bad7f8beea211f-knockout_punches.js\"},{\"name\":null,\"type\":\"js\",\"url\":\"\\/assetserver\\/5ab20f1060420992a9b82a65b735dee4d81ef413-all.js\"},{\"name\":null,\"type\":\"css\",\"url\":\"\\/assetserver\\/1cc0ed62837210b80a182cc3676512f895dab686-style.css\"},{\"name\":null,\"type\":\"css\",\"url\":\"\\/assetserver\\/2eee816f616df3549d7044d45e744fbf8d42bfa1-bulma_confined.min.css\"}],\"type\":\"async_block\"},\"id\":\"18011971297585217047\",\"handlers\":{\"loading\":[\"(function (val){return (val!=this.model[\\\"loading\\\"]()) ? (this.valueFromJulia[\\\"loading\\\"]=true, this.model[\\\"loading\\\"](val)) : undefined})\"],\"clicks\":[\"(function (val){return (val!=this.model[\\\"clicks\\\"]()) ? (this.valueFromJulia[\\\"clicks\\\"]=true, this.model[\\\"clicks\\\"](val)) : undefined})\"]},\"systemjs_options\":null,\"mount_callbacks\":[\"function () {\\n    var handler = (function (ko, koPunches) {\\n    ko.punches.enableAll();\\n    ko.bindingHandlers.numericValue = {\\n        init: function(element, valueAccessor, allBindings, data, context) {\\n            var stringified = ko.observable(ko.unwrap(valueAccessor()));\\n            stringified.subscribe(function(value) {\\n                var val = parseFloat(value);\\n                if (!isNaN(val)) {\\n                    valueAccessor()(val);\\n                }\\n            });\\n            valueAccessor().subscribe(function(value) {\\n                var str = JSON.stringify(value);\\n                if ((str == \\\"0\\\") && ([\\\"-0\\\", \\\"-0.\\\"].indexOf(stringified()) >= 0))\\n                     return;\\n                 if ([\\\"null\\\", \\\"\\\"].indexOf(str) >= 0)\\n                     return;\\n                stringified(str);\\n            });\\n            ko.applyBindingsToNode(\\n                element,\\n                {\\n                    value: stringified,\\n                    valueUpdate: allBindings.get('valueUpdate'),\\n                },\\n                context,\\n            );\\n        }\\n    };\\n    var json_data = {\\\"loading\\\":WebIO.getval({\\\"name\\\":\\\"loading\\\",\\\"scope\\\":\\\"18011971297585217047\\\",\\\"id\\\":\\\"12512616478621859896\\\",\\\"type\\\":\\\"observable\\\"}),\\\"clicks\\\":WebIO.getval({\\\"name\\\":\\\"clicks\\\",\\\"scope\\\":\\\"18011971297585217047\\\",\\\"id\\\":\\\"12546925156580939835\\\",\\\"type\\\":\\\"observable\\\"})};\\n    var self = this;\\n    function AppViewModel() {\\n        for (var key in json_data) {\\n            var el = json_data[key];\\n            this[key] = Array.isArray(el) ? ko.observableArray(el) : ko.observable(el);\\n        }\\n        \\n        \\n        [this[\\\"loading\\\"].subscribe((function (val){!(this.valueFromJulia[\\\"loading\\\"]) ? (WebIO.setval({\\\"name\\\":\\\"loading\\\",\\\"scope\\\":\\\"18011971297585217047\\\",\\\"id\\\":\\\"12512616478621859896\\\",\\\"type\\\":\\\"observable\\\"},val)) : undefined; return this.valueFromJulia[\\\"loading\\\"]=false}),self),this[\\\"clicks\\\"].subscribe((function (val){!(this.valueFromJulia[\\\"clicks\\\"]) ? (WebIO.setval({\\\"name\\\":\\\"clicks\\\",\\\"scope\\\":\\\"18011971297585217047\\\",\\\"id\\\":\\\"12546925156580939835\\\",\\\"type\\\":\\\"observable\\\"},val)) : undefined; return this.valueFromJulia[\\\"clicks\\\"]=false}),self)]\\n        \\n    }\\n    self.model = new AppViewModel();\\n    self.valueFromJulia = {};\\n    for (var key in json_data) {\\n        self.valueFromJulia[key] = false;\\n    }\\n    ko.applyBindings(self.model, self.dom);\\n}\\n);\\n    (WebIO.importBlock({\\\"data\\\":[{\\\"name\\\":\\\"knockout\\\",\\\"type\\\":\\\"js\\\",\\\"url\\\":\\\"\\/assetserver\\/727383f2a47bd31570b7da84eee7b022dd6d7c78-knockout.js\\\"},{\\\"name\\\":\\\"knockout_punches\\\",\\\"type\\\":\\\"js\\\",\\\"url\\\":\\\"\\/assetserver\\/382b41b3b1bd9f26f75861d360bad7f8beea211f-knockout_punches.js\\\"}],\\\"type\\\":\\\"async_block\\\"})).then((imports) => handler.apply(this, imports));\\n}\\n\"],\"observables\":{\"loading\":{\"sync\":false,\"id\":\"12512616478621859896\",\"value\":false},\"clicks\":{\"sync\":true,\"id\":\"12546925156580939835\",\"value\":0}}},\"children\":[{\"props\":{\"attributes\":{\"data-bind\":\"click: function (){this.clicks(this.clicks()+1)}, css: {'is-loading' : loading}\"},\"className\":\"is-medium button is-primary\",\"style\":{}},\"nodeType\":\"DOM\",\"type\":\"node\",\"instanceArgs\":{\"namespace\":\"html\",\"tag\":\"button\"},\"children\":[\"run\"]}]}]},{\"props\":{\"className\":\"interact-widget\"},\"nodeType\":\"DOM\",\"type\":\"node\",\"instanceArgs\":{\"namespace\":\"html\",\"tag\":\"div\"},\"children\":[{\"props\":{},\"nodeType\":\"Scope\",\"type\":\"node\",\"instanceArgs\":{\"imports\":{\"data\":[{\"name\":null,\"type\":\"js\",\"url\":\"\\/assetserver\\/dd22ed1bf1896c2748f3fe616ce0b838adc895c1-katex.min.js\"},{\"name\":null,\"type\":\"css\",\"url\":\"\\/assetserver\\/46517a424aa5e6cffc1360d7e0848b601c584ee3-katex.min.css\"}],\"type\":\"async_block\"},\"id\":\"12458551694742004231\",\"handlers\":{\"value\":[\"(function (txt){return this.k.render(txt,this.container)})\"]},\"systemjs_options\":null,\"mount_callbacks\":[\"function () {\\n    var handler = ((function (k){this.k=k; this.container=this.dom.querySelector(\\\"#container\\\"); return k.render(\\\"\\\\\\\\;\\\\\\\\;\\\",this.container)}));\\n    (WebIO.importBlock({\\\"data\\\":[{\\\"name\\\":null,\\\"type\\\":\\\"js\\\",\\\"url\\\":\\\"\\/assetserver\\/dd22ed1bf1896c2748f3fe616ce0b838adc895c1-katex.min.js\\\"},{\\\"name\\\":null,\\\"type\\\":\\\"css\\\",\\\"url\\\":\\\"\\/assetserver\\/46517a424aa5e6cffc1360d7e0848b601c584ee3-katex.min.css\\\"}],\\\"type\\\":\\\"async_block\\\"})).then((imports) => handler.apply(this, imports));\\n}\\n\"],\"observables\":{\"value\":{\"sync\":false,\"id\":\"9785286895708396228\",\"value\":\"\\\\;\\\\;\"}}},\"children\":[{\"props\":{\"id\":\"container\"},\"nodeType\":\"DOM\",\"type\":\"node\",\"instanceArgs\":{\"namespace\":\"html\",\"tag\":\"div\"},\"children\":[]}]}]},{\"props\":{\"className\":\"field interact-widget\"},\"nodeType\":\"DOM\",\"type\":\"node\",\"instanceArgs\":{\"namespace\":\"html\",\"tag\":\"div\"},\"children\":[{\"props\":{},\"nodeType\":\"Scope\",\"type\":\"node\",\"instanceArgs\":{\"imports\":{\"data\":[{\"name\":\"knockout\",\"type\":\"js\",\"url\":\"\\/assetserver\\/727383f2a47bd31570b7da84eee7b022dd6d7c78-knockout.js\"},{\"name\":\"knockout_punches\",\"type\":\"js\",\"url\":\"\\/assetserver\\/382b41b3b1bd9f26f75861d360bad7f8beea211f-knockout_punches.js\"},{\"name\":null,\"type\":\"js\",\"url\":\"\\/assetserver\\/5ab20f1060420992a9b82a65b735dee4d81ef413-all.js\"},{\"name\":null,\"type\":\"css\",\"url\":\"\\/assetserver\\/1cc0ed62837210b80a182cc3676512f895dab686-style.css\"},{\"name\":null,\"type\":\"css\",\"url\":\"\\/assetserver\\/2eee816f616df3549d7044d45e744fbf8d42bfa1-bulma_confined.min.css\"}],\"type\":\"async_block\"},\"id\":\"2125543084427958450\",\"handlers\":{\"loading\":[\"(function (val){return (val!=this.model[\\\"loading\\\"]()) ? (this.valueFromJulia[\\\"loading\\\"]=true, this.model[\\\"loading\\\"](val)) : undefined})\"],\"clicks\":[\"(function (val){return (val!=this.model[\\\"clicks\\\"]()) ? (this.valueFromJulia[\\\"clicks\\\"]=true, this.model[\\\"clicks\\\"](val)) : undefined})\"]},\"systemjs_options\":null,\"mount_callbacks\":[\"function () {\\n    var handler = (function (ko, koPunches) {\\n    ko.punches.enableAll();\\n    ko.bindingHandlers.numericValue = {\\n        init: function(element, valueAccessor, allBindings, data, context) {\\n            var stringified = ko.observable(ko.unwrap(valueAccessor()));\\n            stringified.subscribe(function(value) {\\n                var val = parseFloat(value);\\n                if (!isNaN(val)) {\\n                    valueAccessor()(val);\\n                }\\n            });\\n            valueAccessor().subscribe(function(value) {\\n                var str = JSON.stringify(value);\\n                if ((str == \\\"0\\\") && ([\\\"-0\\\", \\\"-0.\\\"].indexOf(stringified()) >= 0))\\n                     return;\\n                 if ([\\\"null\\\", \\\"\\\"].indexOf(str) >= 0)\\n                     return;\\n                stringified(str);\\n            });\\n            ko.applyBindingsToNode(\\n                element,\\n                {\\n                    value: stringified,\\n                    valueUpdate: allBindings.get('valueUpdate'),\\n                },\\n                context,\\n            );\\n        }\\n    };\\n    var json_data = {\\\"loading\\\":WebIO.getval({\\\"name\\\":\\\"loading\\\",\\\"scope\\\":\\\"2125543084427958450\\\",\\\"id\\\":\\\"5784703540915807198\\\",\\\"type\\\":\\\"observable\\\"}),\\\"clicks\\\":WebIO.getval({\\\"name\\\":\\\"clicks\\\",\\\"scope\\\":\\\"2125543084427958450\\\",\\\"id\\\":\\\"15633927002858124864\\\",\\\"type\\\":\\\"observable\\\"})};\\n    var self = this;\\n    function AppViewModel() {\\n        for (var key in json_data) {\\n            var el = json_data[key];\\n            this[key] = Array.isArray(el) ? ko.observableArray(el) : ko.observable(el);\\n        }\\n        \\n        \\n        [this[\\\"loading\\\"].subscribe((function (val){!(this.valueFromJulia[\\\"loading\\\"]) ? (WebIO.setval({\\\"name\\\":\\\"loading\\\",\\\"scope\\\":\\\"2125543084427958450\\\",\\\"id\\\":\\\"5784703540915807198\\\",\\\"type\\\":\\\"observable\\\"},val)) : undefined; return this.valueFromJulia[\\\"loading\\\"]=false}),self),this[\\\"clicks\\\"].subscribe((function (val){!(this.valueFromJulia[\\\"clicks\\\"]) ? (WebIO.setval({\\\"name\\\":\\\"clicks\\\",\\\"scope\\\":\\\"2125543084427958450\\\",\\\"id\\\":\\\"15633927002858124864\\\",\\\"type\\\":\\\"observable\\\"},val)) : undefined; return this.valueFromJulia[\\\"clicks\\\"]=false}),self)]\\n        \\n    }\\n    self.model = new AppViewModel();\\n    self.valueFromJulia = {};\\n    for (var key in json_data) {\\n        self.valueFromJulia[key] = false;\\n    }\\n    ko.applyBindings(self.model, self.dom);\\n}\\n);\\n    (WebIO.importBlock({\\\"data\\\":[{\\\"name\\\":\\\"knockout\\\",\\\"type\\\":\\\"js\\\",\\\"url\\\":\\\"\\/assetserver\\/727383f2a47bd31570b7da84eee7b022dd6d7c78-knockout.js\\\"},{\\\"name\\\":\\\"knockout_punches\\\",\\\"type\\\":\\\"js\\\",\\\"url\\\":\\\"\\/assetserver\\/382b41b3b1bd9f26f75861d360bad7f8beea211f-knockout_punches.js\\\"}],\\\"type\\\":\\\"async_block\\\"})).then((imports) => handler.apply(this, imports));\\n}\\n\"],\"observables\":{\"loading\":{\"sync\":false,\"id\":\"5784703540915807198\",\"value\":false},\"clicks\":{\"sync\":true,\"id\":\"15633927002858124864\",\"value\":0}}},\"children\":[{\"props\":{\"attributes\":{\"data-bind\":\"click: function (){this.clicks(this.clicks()+1)}, css: {'is-loading' : loading}\"},\"className\":\"is-medium button is-primary\",\"style\":{}},\"nodeType\":\"DOM\",\"type\":\"node\",\"instanceArgs\":{\"namespace\":\"html\",\"tag\":\"button\"},\"children\":[\"stop\"]}]}]},{\"props\":{\"className\":\"interact-widget\"},\"nodeType\":\"DOM\",\"type\":\"node\",\"instanceArgs\":{\"namespace\":\"html\",\"tag\":\"div\"},\"children\":[{\"props\":{},\"nodeType\":\"Scope\",\"type\":\"node\",\"instanceArgs\":{\"imports\":{\"data\":[{\"name\":null,\"type\":\"js\",\"url\":\"\\/assetserver\\/dd22ed1bf1896c2748f3fe616ce0b838adc895c1-katex.min.js\"},{\"name\":null,\"type\":\"css\",\"url\":\"\\/assetserver\\/46517a424aa5e6cffc1360d7e0848b601c584ee3-katex.min.css\"}],\"type\":\"async_block\"},\"id\":\"12458551694742004231\",\"handlers\":{\"value\":[\"(function (txt){return this.k.render(txt,this.container)})\"]},\"systemjs_options\":null,\"mount_callbacks\":[\"function () {\\n    var handler = ((function (k){this.k=k; this.container=this.dom.querySelector(\\\"#container\\\"); return k.render(\\\"\\\\\\\\;\\\\\\\\;\\\",this.container)}));\\n    (WebIO.importBlock({\\\"data\\\":[{\\\"name\\\":null,\\\"type\\\":\\\"js\\\",\\\"url\\\":\\\"\\/assetserver\\/dd22ed1bf1896c2748f3fe616ce0b838adc895c1-katex.min.js\\\"},{\\\"name\\\":null,\\\"type\\\":\\\"css\\\",\\\"url\\\":\\\"\\/assetserver\\/46517a424aa5e6cffc1360d7e0848b601c584ee3-katex.min.css\\\"}],\\\"type\\\":\\\"async_block\\\"})).then((imports) => handler.apply(this, imports));\\n}\\n\"],\"observables\":{\"value\":{\"sync\":false,\"id\":\"9785286895708396228\",\"value\":\"\\\\;\\\\;\"}}},\"children\":[{\"props\":{\"id\":\"container\"},\"nodeType\":\"DOM\",\"type\":\"node\",\"instanceArgs\":{\"namespace\":\"html\",\"tag\":\"div\"},\"children\":[]}]}]},{\"props\":{\"className\":\"field interact-widget\"},\"nodeType\":\"DOM\",\"type\":\"node\",\"instanceArgs\":{\"namespace\":\"html\",\"tag\":\"div\"},\"children\":[{\"props\":{},\"nodeType\":\"Scope\",\"type\":\"node\",\"instanceArgs\":{\"imports\":{\"data\":[{\"name\":\"knockout\",\"type\":\"js\",\"url\":\"\\/assetserver\\/727383f2a47bd31570b7da84eee7b022dd6d7c78-knockout.js\"},{\"name\":\"knockout_punches\",\"type\":\"js\",\"url\":\"\\/assetserver\\/382b41b3b1bd9f26f75861d360bad7f8beea211f-knockout_punches.js\"},{\"name\":null,\"type\":\"js\",\"url\":\"\\/assetserver\\/5ab20f1060420992a9b82a65b735dee4d81ef413-all.js\"},{\"name\":null,\"type\":\"css\",\"url\":\"\\/assetserver\\/1cc0ed62837210b80a182cc3676512f895dab686-style.css\"},{\"name\":null,\"type\":\"css\",\"url\":\"\\/assetserver\\/2eee816f616df3549d7044d45e744fbf8d42bfa1-bulma_confined.min.css\"}],\"type\":\"async_block\"},\"id\":\"8521590163211097493\",\"handlers\":{\"loading\":[\"(function (val){return (val!=this.model[\\\"loading\\\"]()) ? (this.valueFromJulia[\\\"loading\\\"]=true, this.model[\\\"loading\\\"](val)) : undefined})\"],\"clicks\":[\"(function (val){return (val!=this.model[\\\"clicks\\\"]()) ? (this.valueFromJulia[\\\"clicks\\\"]=true, this.model[\\\"clicks\\\"](val)) : undefined})\"]},\"systemjs_options\":null,\"mount_callbacks\":[\"function () {\\n    var handler = (function (ko, koPunches) {\\n    ko.punches.enableAll();\\n    ko.bindingHandlers.numericValue = {\\n        init: function(element, valueAccessor, allBindings, data, context) {\\n            var stringified = ko.observable(ko.unwrap(valueAccessor()));\\n            stringified.subscribe(function(value) {\\n                var val = parseFloat(value);\\n                if (!isNaN(val)) {\\n                    valueAccessor()(val);\\n                }\\n            });\\n            valueAccessor().subscribe(function(value) {\\n                var str = JSON.stringify(value);\\n                if ((str == \\\"0\\\") && ([\\\"-0\\\", \\\"-0.\\\"].indexOf(stringified()) >= 0))\\n                     return;\\n                 if ([\\\"null\\\", \\\"\\\"].indexOf(str) >= 0)\\n                     return;\\n                stringified(str);\\n            });\\n            ko.applyBindingsToNode(\\n                element,\\n                {\\n                    value: stringified,\\n                    valueUpdate: allBindings.get('valueUpdate'),\\n                },\\n                context,\\n            );\\n        }\\n    };\\n    var json_data = {\\\"loading\\\":WebIO.getval({\\\"name\\\":\\\"loading\\\",\\\"scope\\\":\\\"8521590163211097493\\\",\\\"id\\\":\\\"10746430691210050793\\\",\\\"type\\\":\\\"observable\\\"}),\\\"clicks\\\":WebIO.getval({\\\"name\\\":\\\"clicks\\\",\\\"scope\\\":\\\"8521590163211097493\\\",\\\"id\\\":\\\"10942295588427067757\\\",\\\"type\\\":\\\"observable\\\"})};\\n    var self = this;\\n    function AppViewModel() {\\n        for (var key in json_data) {\\n            var el = json_data[key];\\n            this[key] = Array.isArray(el) ? ko.observableArray(el) : ko.observable(el);\\n        }\\n        \\n        \\n        [this[\\\"loading\\\"].subscribe((function (val){!(this.valueFromJulia[\\\"loading\\\"]) ? (WebIO.setval({\\\"name\\\":\\\"loading\\\",\\\"scope\\\":\\\"8521590163211097493\\\",\\\"id\\\":\\\"10746430691210050793\\\",\\\"type\\\":\\\"observable\\\"},val)) : undefined; return this.valueFromJulia[\\\"loading\\\"]=false}),self),this[\\\"clicks\\\"].subscribe((function (val){!(this.valueFromJulia[\\\"clicks\\\"]) ? (WebIO.setval({\\\"name\\\":\\\"clicks\\\",\\\"scope\\\":\\\"8521590163211097493\\\",\\\"id\\\":\\\"10942295588427067757\\\",\\\"type\\\":\\\"observable\\\"},val)) : undefined; return this.valueFromJulia[\\\"clicks\\\"]=false}),self)]\\n        \\n    }\\n    self.model = new AppViewModel();\\n    self.valueFromJulia = {};\\n    for (var key in json_data) {\\n        self.valueFromJulia[key] = false;\\n    }\\n    ko.applyBindings(self.model, self.dom);\\n}\\n);\\n    (WebIO.importBlock({\\\"data\\\":[{\\\"name\\\":\\\"knockout\\\",\\\"type\\\":\\\"js\\\",\\\"url\\\":\\\"\\/assetserver\\/727383f2a47bd31570b7da84eee7b022dd6d7c78-knockout.js\\\"},{\\\"name\\\":\\\"knockout_punches\\\",\\\"type\\\":\\\"js\\\",\\\"url\\\":\\\"\\/assetserver\\/382b41b3b1bd9f26f75861d360bad7f8beea211f-knockout_punches.js\\\"}],\\\"type\\\":\\\"async_block\\\"})).then((imports) => handler.apply(this, imports));\\n}\\n\"],\"observables\":{\"loading\":{\"sync\":false,\"id\":\"10746430691210050793\",\"value\":false},\"clicks\":{\"sync\":true,\"id\":\"10942295588427067757\",\"value\":0}}},\"children\":[{\"props\":{\"attributes\":{\"data-bind\":\"click: function (){this.clicks(this.clicks()+1)}, css: {'is-loading' : loading}\"},\"className\":\"is-medium button is-primary\",\"style\":{}},\"nodeType\":\"DOM\",\"type\":\"node\",\"instanceArgs\":{\"namespace\":\"html\",\"tag\":\"button\"},\"children\":[\"reset\"]}]}]}]}]},{\"props\":{},\"nodeType\":\"Scope\",\"type\":\"node\",\"instanceArgs\":{\"imports\":{\"data\":[],\"type\":\"async_block\"},\"id\":\"12122110733470140188\",\"handlers\":{\"obs-output\":[\"function (value, scope) {\\n    scope.setInnerHTML(value);\\n}\\n\"]},\"systemjs_options\":null,\"mount_callbacks\":[],\"observables\":{\"obs-output\":{\"sync\":false,\"id\":\"13718437238190691759\",\"value\":\"    <div style=\\\"height: 500px; width: 100%; overflow-x: auto; overflow-y: hidden; resize: both\\\">\\n    <iframe src=\\\"http:\\/\\/127.0.0.1:8702\\\" style=\\\"width: 100%; height: 100%; border: none\\\"><\\/iframe>\\n    <\\/div>\\n\"}}},\"children\":[{\"props\":{\"className\":\"webio-observable\",\"setInnerHtml\":\"    <div style=\\\"height: 500px; width: 100%; overflow-x: auto; overflow-y: hidden; resize: both\\\">\\n    <iframe src=\\\"http:\\/\\/127.0.0.1:8702\\\" style=\\\"width: 100%; height: 100%; border: none\\\"><\\/iframe>\\n    <\\/div>\\n\"},\"nodeType\":\"DOM\",\"type\":\"node\",\"instanceArgs\":{\"namespace\":\"html\",\"tag\":\"div\"},\"children\":[]}]},{\"props\":{\"className\":\"interact-widget\"},\"nodeType\":\"DOM\",\"type\":\"node\",\"instanceArgs\":{\"namespace\":\"html\",\"tag\":\"div\"},\"children\":[{\"props\":{},\"nodeType\":\"Scope\",\"type\":\"node\",\"instanceArgs\":{\"imports\":{\"data\":[{\"name\":null,\"type\":\"js\",\"url\":\"\\/assetserver\\/dd22ed1bf1896c2748f3fe616ce0b838adc895c1-katex.min.js\"},{\"name\":null,\"type\":\"css\",\"url\":\"\\/assetserver\\/46517a424aa5e6cffc1360d7e0848b601c584ee3-katex.min.css\"}],\"type\":\"async_block\"},\"id\":\"12458551694742004231\",\"handlers\":{\"value\":[\"(function (txt){return this.k.render(txt,this.container)})\"]},\"systemjs_options\":null,\"mount_callbacks\":[\"function () {\\n    var handler = ((function (k){this.k=k; this.container=this.dom.querySelector(\\\"#container\\\"); return k.render(\\\"\\\\\\\\;\\\\\\\\;\\\",this.container)}));\\n    (WebIO.importBlock({\\\"data\\\":[{\\\"name\\\":null,\\\"type\\\":\\\"js\\\",\\\"url\\\":\\\"\\/assetserver\\/dd22ed1bf1896c2748f3fe616ce0b838adc895c1-katex.min.js\\\"},{\\\"name\\\":null,\\\"type\\\":\\\"css\\\",\\\"url\\\":\\\"\\/assetserver\\/46517a424aa5e6cffc1360d7e0848b601c584ee3-katex.min.css\\\"}],\\\"type\\\":\\\"async_block\\\"})).then((imports) => handler.apply(this, imports));\\n}\\n\"],\"observables\":{\"value\":{\"sync\":false,\"id\":\"9785286895708396228\",\"value\":\"\\\\;\\\\;\"}}},\"children\":[{\"props\":{\"id\":\"container\"},\"nodeType\":\"DOM\",\"type\":\"node\",\"instanceArgs\":{\"namespace\":\"html\",\"tag\":\"div\"},\"children\":[]}]}]},{\"props\":{\"style\":{\"display\":\"flex\",\"flex-direction\":\"column\"}},\"nodeType\":\"DOM\",\"type\":\"node\",\"instanceArgs\":{\"namespace\":\"html\",\"tag\":\"div\"},\"children\":[{\"props\":{},\"nodeType\":\"Scope\",\"type\":\"node\",\"instanceArgs\":{\"imports\":{\"data\":[],\"type\":\"async_block\"},\"id\":\"10729468600681682084\",\"handlers\":{\"obs-output\":[\"function (value, scope) {\\n    scope.setInnerHTML(value);\\n}\\n\"]},\"systemjs_options\":null,\"mount_callbacks\":[],\"observables\":{\"obs-output\":{\"sync\":false,\"id\":\"4651768737154848363\",\"value\":\"<img src=\\\"data:image\\/png;base64,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\\\" \\/>\"}}},\"children\":[{\"props\":{\"className\":\"webio-observable\",\"setInnerHtml\":\"<img src=\\\"data:image\\/png;base64,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\\\" \\/>\"},\"nodeType\":\"DOM\",\"type\":\"node\",\"instanceArgs\":{\"namespace\":\"html\",\"tag\":\"div\"},\"children\":[]}]}]}]}]},\n",
       "        window,\n",
       "    );\n",
       "    })()\n",
       "    </script>\n",
       "</div>\n"
      ],
      "text/plain": [
       "WebIO.Node{WebIO.DOM}(WebIO.DOM(:html, :div), Any[WebIO.Node{WebIO.DOM}(WebIO.DOM(:html, :div), Any[WebIO.Node{WebIO.DOM}(WebIO.DOM(:html, :div), Any[WebIO.Node{WebIO.DOM}(WebIO.DOM(:html, :div), Any[WebIO.Scope(WebIO.Node{WebIO.DOM}(WebIO.DOM(:html, :div), Any[WebIO.Node{WebIO.DOM}(WebIO.DOM(:html, :div), Any[WebIO.Node{WebIO.DOM}(WebIO.DOM(:html, :label), Any[\"time\"], Dict{Symbol, Any}(:className => \"interact \", :style => Dict{Any, Any}(:padding => \"5px 10px 0px 10px\")))], Dict{Symbol, Any}(:className => \"interact-flex-row-left\")), WebIO.Node{WebIO.DOM}(WebIO.DOM(:html, :div), Any[WebIO.Node{WebIO.DOM}(WebIO.DOM(:html, :input), Any[], Dict{Symbol, Any}(:max => 200, :min => 1, :attributes => Dict{Any, Any}(:type => \"range\", Symbol(\"data-bind\") => \"numericValue: index, valueUpdate: 'input', event: {change: function (){this.changes(this.changes()+1)}}\", \"orient\" => \"horizontal\"), :step => 1, :className => \"slider slider is-fullwidth\", :style => Dict{Any, Any}()))], Dict{Symbol, Any}(:className => \"interact-flex-row-center\")), WebIO.Node{WebIO.DOM}(WebIO.DOM(:html, :div), Any[WebIO.Node{WebIO.DOM}(WebIO.DOM(:html, :p), Any[], Dict{Symbol, Any}(:attributes => Dict(\"data-bind\" => \"text: formatted_val\")))], Dict{Symbol, Any}(:className => \"interact-flex-row-right\"))], Dict{Symbol, Any}(:className => \"interact-flex-row interact-widget\")), Dict{String, Tuple{Observables.AbstractObservable, Union{Nothing, Bool}}}(\"changes\" => (Observable(0), nothing), \"index\" => (Observable(1), nothing)), Set{String}(), nothing, WebIO.Asset[WebIO.Asset(\"js\", \"knockout\", \"/home/dushya/.julia/packages/Knockout/HReiN/src/../assets/knockout.js\"), WebIO.Asset(\"js\", \"knockout_punches\", \"/home/dushya/.julia/packages/Knockout/HReiN/src/../assets/knockout_punches.js\"), WebIO.Asset(\"js\", nothing, \"/home/dushya/.julia/packages/InteractBase/LJXv3/src/../assets/all.js\"), WebIO.Asset(\"css\", nothing, \"/home/dushya/.julia/packages/InteractBase/LJXv3/src/../assets/style.css\"), WebIO.Asset(\"css\", nothing, \"/home/dushya/.julia/packages/Interact/PENUy/src/../assets/bulma_confined.min.css\")], Dict{Any, Any}(\"changes\" => Any[WebIO.JSString(\"(function (val){return (val!=this.model[\\\"changes\\\"]()) ? (this.valueFromJulia[\\\"changes\\\"]=true, this.model[\\\"changes\\\"](val)) : undefined})\")], \"index\" => Any[WebIO.JSString(\"(function (val){return (val!=this.model[\\\"index\\\"]()) ? (this.valueFromJulia[\\\"index\\\"]=true, this.model[\\\"index\\\"](val)) : undefined})\")]), WebIO.ConnectionPool(Channel{Any}(32), Set{WebIO.AbstractConnection}(), Base.GenericCondition{ReentrantLock}(Base.IntrusiveLinkedList{Task}(Task (runnable) @0x00007fb7a76660e0, Task (runnable) @0x00007fb7a76660e0), ReentrantLock(nothing, 0x00000000, 0x00, Base.GenericCondition{Base.Threads.SpinLock}(Base.IntrusiveLinkedList{Task}(nothing, nothing), Base.Threads.SpinLock(0)), (0, 0, 141733920768)))), WebIO.JSString[WebIO.JSString(\"function () {\\n    var handler = (function (ko, koPunches) {\\n    ko.punches.enableAll();\\n    ko.bindingHandlers.numericValue = {\\n        init: function(element, valueAccessor, allBindings, data, context) {\\n            var stringified = ko.observable(ko.unwrap(valueAccessor()));\\n            stringified.subscribe(function(value) {\\n                var val = parseFloat(value);\\n                if (!isNaN(val)) {\\n                    valueAccessor()(val);\\n                }\\n            });\\n            valueAccessor().subscribe(function(value) {\\n                var str = JSON.stringify(value);\\n                if ((str == \\\"0\\\") && ([\\\"-0\\\", \\\"-0.\\\"].indexOf(stringified()) >= 0))\\n                     return;\\n                 if ([\\\"null\\\", \\\"\\\"].indexOf(str) >= 0)\\n                     return;\\n                stringified(str);\\n            });\\n            ko.applyBindingsToNode(\\n                element,\\n                {\\n                    value: stringified,\\n                    valueUpdate: allBindings.get('valueUpdate'),\\n                },\\n                context,\\n            );\\n        }\\n    };\\n    var json_data = {\\\"formatted_vals\\\":[\\\"1\\\",\\\"2\\\",\\\"3\\\",\\\"4\\\",\\\"5\\\",\\\"6\\\",\\\"7\\\",\\\"8\\\",\\\"9\\\",\\\"10\\\",\\\"11\\\",\\\"12\\\",\\\"13\\\",\\\"14\\\",\\\"15\\\",\\\"16\\\",\\\"17\\\",\\\"18\\\",\\\"19\\\",\\\"20\\\",\\\"21\\\",\\\"22\\\",\\\"23\\\",\\\"24\\\",\\\"25\\\",\\\"26\\\",\\\"27\\\",\\\"28\\\",\\\"29\\\",\\\"30\\\",\\\"31\\\",\\\"32\\\",\\\"33\\\",\\\"34\\\",\\\"35\\\",\\\"36\\\",\\\"37\\\",\\\"38\\\",\\\"39\\\",\\\"40\\\",\\\"41\\\",\\\"42\\\",\\\"43\\\",\\\"44\\\",\\\"45\\\",\\\"46\\\",\\\"47\\\",\\\"48\\\",\\\"49\\\",\\\"50\\\",\\\"51\\\",\\\"52\\\",\\\"53\\\",\\\"54\\\",\\\"55\\\",\\\"56\\\",\\\"57\\\",\\\"58\\\",\\\"59\\\",\\\"60\\\",\\\"61\\\",\\\"62\\\",\\\"63\\\",\\\"64\\\",\\\"65\\\",\\\"66\\\",\\\"67\\\",\\\"68\\\",\\\"69\\\",\\\"70\\\",\\\"71\\\",\\\"72\\\",\\\"73\\\",\\\"74\\\",\\\"75\\\",\\\"76\\\",\\\"77\\\",\\\"78\\\",\\\"79\\\",\\\"80\\\",\\\"81\\\",\\\"82\\\",\\\"83\\\",\\\"84\\\",\\\"85\\\",\\\"86\\\",\\\"87\\\",\\\"88\\\",\\\"89\\\",\\\"90\\\",\\\"91\\\",\\\"92\\\",\\\"93\\\",\\\"94\\\",\\\"95\\\",\\\"96\\\",\\\"97\\\",\\\"98\\\",\\\"99\\\",\\\"100\\\",\\\"101\\\",\\\"102\\\",\\\"103\\\",\\\"104\\\",\\\"105\\\",\\\"106\\\",\\\"107\\\",\\\"108\\\",\\\"109\\\",\\\"110\\\",\\\"111\\\",\\\"112\\\",\\\"113\\\",\\\"114\\\",\\\"115\\\",\\\"116\\\",\\\"117\\\",\\\"118\\\",\\\"119\\\",\\\"120\\\",\\\"121\\\",\\\"122\\\",\\\"123\\\",\\\"124\\\",\\\"125\\\",\\\"126\\\",\\\"127\\\",\\\"128\\\",\\\"129\\\",\\\"130\\\",\\\"131\\\",\\\"132\\\",\\\"133\\\",\\\"134\\\",\\\"135\\\",\\\"136\\\",\\\"137\\\",\\\"138\\\",\\\"139\\\",\\\"140\\\",\\\"141\\\",\\\"142\\\",\\\"143\\\",\\\"144\\\",\\\"145\\\",\\\"146\\\",\\\"147\\\",\\\"148\\\",\\\"149\\\",\\\"150\\\",\\\"151\\\",\\\"152\\\",\\\"153\\\",\\\"154\\\",\\\"155\\\",\\\"156\\\",\\\"157\\\",\\\"158\\\",\\\"159\\\",\\\"160\\\",\\\"161\\\",\\\"162\\\",\\\"163\\\",\\\"164\\\",\\\"165\\\",\\\"166\\\",\\\"167\\\",\\\"168\\\",\\\"169\\\",\\\"170\\\",\\\"171\\\",\\\"172\\\",\\\"173\\\",\\\"174\\\",\\\"175\\\",\\\"176\\\",\\\"177\\\",\\\"178\\\",\\\"179\\\",\\\"180\\\",\\\"181\\\",\\\"182\\\",\\\"183\\\",\\\"184\\\",\\\"185\\\",\\\"186\\\",\\\"187\\\",\\\"188\\\",\\\"189\\\",\\\"190\\\",\\\"191\\\",\\\"192\\\",\\\"193\\\",\\\"194\\\",\\\"195\\\",\\\"196\\\",\\\"197\\\",\\\"198\\\",\\\"199\\\",\\\"200\\\"],\\\"changes\\\":WebIO.getval({\\\"name\\\":\\\"changes\\\",\\\"scope\\\":\\\"2577037180724543148\\\",\\\"id\\\":\\\"854938276902561388\\\",\\\"type\\\":\\\"observable\\\"}),\\\"index\\\":WebIO.getval({\\\"name\\\":\\\"index\\\",\\\"scope\\\":\\\"2577037180724543148\\\",\\\"id\\\":\\\"15849935743026413024\\\",\\\"type\\\":\\\"observable\\\"})};\\n    var self = this;\\n    function AppViewModel() {\\n        for (var key in json_data) {\\n            var el = json_data[key];\\n            this[key] = Array.isArray(el) ? ko.observableArray(el) : ko.observable(el);\\n        }\\n        \\n        [this[\\\"formatted_val\\\"]=ko.computed(    function(){\\n        return this.formatted_vals()[parseInt(this.index())-(1)];\\n    }\\n,this)]\\n        [this[\\\"changes\\\"].subscribe((function (val){!(this.valueFromJulia[\\\"changes\\\"]) ? (WebIO.setval({\\\"name\\\":\\\"changes\\\",\\\"scope\\\":\\\"2577037180724543148\\\",\\\"id\\\":\\\"854938276902561388\\\",\\\"type\\\":\\\"observable\\\"},val)) : undefined; return this.valueFromJulia[\\\"changes\\\"]=false}),self),this[\\\"index\\\"].subscribe((function (val){!(this.valueFromJulia[\\\"index\\\"]) ? (WebIO.setval({\\\"name\\\":\\\"index\\\",\\\"scope\\\":\\\"2577037180724543148\\\",\\\"id\\\":\\\"15849935743026413024\\\",\\\"type\\\":\\\"observable\\\"},val)) : undefined; return this.valueFromJulia[\\\"index\\\"]=false}),self)]\\n        \\n    }\\n    self.model = new AppViewModel();\\n    self.valueFromJulia = {};\\n    for (var key in json_data) {\\n        self.valueFromJulia[key] = false;\\n    }\\n    ko.applyBindings(self.model, self.dom);\\n}\\n);\\n    (WebIO.importBlock({\\\"data\\\":[{\\\"name\\\":\\\"knockout\\\",\\\"type\\\":\\\"js\\\",\\\"url\\\":\\\"/assetserver/727383f2a47bd31570b7da84eee7b022dd6d7c78-knockout.js\\\"},{\\\"name\\\":\\\"knockout_punches\\\",\\\"type\\\":\\\"js\\\",\\\"url\\\":\\\"/assetserver/382b41b3b1bd9f26f75861d360bad7f8beea211f-knockout_punches.js\\\"}],\\\"type\\\":\\\"async_block\\\"})).then((imports) => handler.apply(this, imports));\\n}\\n\")])], Dict{Symbol, Any}(:className => \"field interact-widget\")), WebIO.Node{WebIO.DOM}(WebIO.DOM(:html, :div), Any[WebIO.Scope(WebIO.Node{WebIO.DOM}(WebIO.DOM(:html, :div), Any[WebIO.Node{WebIO.DOM}(WebIO.DOM(:html, :div), Any[WebIO.Node{WebIO.DOM}(WebIO.DOM(:html, :label), Any[\"scale\"], Dict{Symbol, Any}(:className => \"interact \", :style => Dict{Any, Any}(:padding => \"5px 10px 0px 10px\")))], Dict{Symbol, Any}(:className => \"interact-flex-row-left\")), WebIO.Node{WebIO.DOM}(WebIO.DOM(:html, :div), Any[WebIO.Node{WebIO.DOM}(WebIO.DOM(:html, :input), Any[], Dict{Symbol, Any}(:max => 20, :min => 1, :attributes => Dict{Any, Any}(:type => \"range\", Symbol(\"data-bind\") => \"numericValue: index, valueUpdate: 'input', event: {change: function (){this.changes(this.changes()+1)}}\", \"orient\" => \"horizontal\"), :step => 1, :className => \"slider slider is-fullwidth\", :style => Dict{Any, Any}()))], Dict{Symbol, Any}(:className => \"interact-flex-row-center\")), WebIO.Node{WebIO.DOM}(WebIO.DOM(:html, :div), Any[WebIO.Node{WebIO.DOM}(WebIO.DOM(:html, :p), Any[], Dict{Symbol, Any}(:attributes => Dict(\"data-bind\" => \"text: formatted_val\")))], Dict{Symbol, Any}(:className => \"interact-flex-row-right\"))], Dict{Symbol, Any}(:className => \"interact-flex-row interact-widget\")), Dict{String, Tuple{Observables.AbstractObservable, Union{Nothing, Bool}}}(\"changes\" => (Observable(0), nothing), \"index\" => (Observable{Any}(10), nothing)), Set{String}(), nothing, WebIO.Asset[WebIO.Asset(\"js\", \"knockout\", \"/home/dushya/.julia/packages/Knockout/HReiN/src/../assets/knockout.js\"), WebIO.Asset(\"js\", \"knockout_punches\", \"/home/dushya/.julia/packages/Knockout/HReiN/src/../assets/knockout_punches.js\"), WebIO.Asset(\"js\", nothing, \"/home/dushya/.julia/packages/InteractBase/LJXv3/src/../assets/all.js\"), WebIO.Asset(\"css\", nothing, \"/home/dushya/.julia/packages/InteractBase/LJXv3/src/../assets/style.css\"), WebIO.Asset(\"css\", nothing, \"/home/dushya/.julia/packages/Interact/PENUy/src/../assets/bulma_confined.min.css\")], Dict{Any, Any}(\"changes\" => Any[WebIO.JSString(\"(function (val){return (val!=this.model[\\\"changes\\\"]()) ? (this.valueFromJulia[\\\"changes\\\"]=true, this.model[\\\"changes\\\"](val)) : undefined})\")], \"index\" => Any[WebIO.JSString(\"(function (val){return (val!=this.model[\\\"index\\\"]()) ? (this.valueFromJulia[\\\"index\\\"]=true, this.model[\\\"index\\\"](val)) : undefined})\")]), WebIO.ConnectionPool(Channel{Any}(32), Set{WebIO.AbstractConnection}(), Base.GenericCondition{ReentrantLock}(Base.IntrusiveLinkedList{Task}(Task (runnable) @0x00007fb7a741f850, Task (runnable) @0x00007fb7a741f850), ReentrantLock(nothing, 0x00000000, 0x00, Base.GenericCondition{Base.Threads.SpinLock}(Base.IntrusiveLinkedList{Task}(nothing, nothing), Base.Threads.SpinLock(0)), (8, 0, 139779710648320)))), WebIO.JSString[WebIO.JSString(\"function () {\\n    var handler = (function (ko, koPunches) {\\n    ko.punches.enableAll();\\n    ko.bindingHandlers.numericValue = {\\n        init: function(element, valueAccessor, allBindings, data, context) {\\n            var stringified = ko.observable(ko.unwrap(valueAccessor()));\\n            stringified.subscribe(function(value) {\\n                var val = parseFloat(value);\\n                if (!isNaN(val)) {\\n                    valueAccessor()(val);\\n                }\\n            });\\n            valueAccessor().subscribe(function(value) {\\n                var str = JSON.stringify(value);\\n                if ((str == \\\"0\\\") && ([\\\"-0\\\", \\\"-0.\\\"].indexOf(stringified()) >= 0))\\n                     return;\\n                 if ([\\\"null\\\", \\\"\\\"].indexOf(str) >= 0)\\n                     return;\\n                stringified(str);\\n            });\\n            ko.applyBindingsToNode(\\n                element,\\n                {\\n                    value: stringified,\\n                    valueUpdate: allBindings.get('valueUpdate'),\\n                },\\n                context,\\n            );\\n        }\\n    };\\n    var json_data = {\\\"formatted_vals\\\":[\\\"0.1\\\",\\\"0.2\\\",\\\"0.3\\\",\\\"0.4\\\",\\\"0.5\\\",\\\"0.6\\\",\\\"0.7\\\",\\\"0.8\\\",\\\"0.9\\\",\\\"1.0\\\",\\\"1.1\\\",\\\"1.2\\\",\\\"1.3\\\",\\\"1.4\\\",\\\"1.5\\\",\\\"1.6\\\",\\\"1.7\\\",\\\"1.8\\\",\\\"1.9\\\",\\\"2.0\\\"],\\\"changes\\\":WebIO.getval({\\\"name\\\":\\\"changes\\\",\\\"scope\\\":\\\"11623366608262238642\\\",\\\"id\\\":\\\"6298449535562904683\\\",\\\"type\\\":\\\"observable\\\"}),\\\"index\\\":WebIO.getval({\\\"name\\\":\\\"index\\\",\\\"scope\\\":\\\"11623366608262238642\\\",\\\"id\\\":\\\"8928176611260968451\\\",\\\"type\\\":\\\"observable\\\"})};\\n    var self = this;\\n    function AppViewModel() {\\n        for (var key in json_data) {\\n            var el = json_data[key];\\n            this[key] = Array.isArray(el) ? ko.observableArray(el) : ko.observable(el);\\n        }\\n        \\n        [this[\\\"formatted_val\\\"]=ko.computed(    function(){\\n        return this.formatted_vals()[parseInt(this.index())-(1)];\\n    }\\n,this)]\\n        [this[\\\"changes\\\"].subscribe((function (val){!(this.valueFromJulia[\\\"changes\\\"]) ? (WebIO.setval({\\\"name\\\":\\\"changes\\\",\\\"scope\\\":\\\"11623366608262238642\\\",\\\"id\\\":\\\"6298449535562904683\\\",\\\"type\\\":\\\"observable\\\"},val)) : undefined; return this.valueFromJulia[\\\"changes\\\"]=false}),self),this[\\\"index\\\"].subscribe((function (val){!(this.valueFromJulia[\\\"index\\\"]) ? (WebIO.setval({\\\"name\\\":\\\"index\\\",\\\"scope\\\":\\\"11623366608262238642\\\",\\\"id\\\":\\\"8928176611260968451\\\",\\\"type\\\":\\\"observable\\\"},val)) : undefined; return this.valueFromJulia[\\\"index\\\"]=false}),self)]\\n        \\n    }\\n    self.model = new AppViewModel();\\n    self.valueFromJulia = {};\\n    for (var key in json_data) {\\n        self.valueFromJulia[key] = false;\\n    }\\n    ko.applyBindings(self.model, self.dom);\\n}\\n);\\n    (WebIO.importBlock({\\\"data\\\":[{\\\"name\\\":\\\"knockout\\\",\\\"type\\\":\\\"js\\\",\\\"url\\\":\\\"/assetserver/727383f2a47bd31570b7da84eee7b022dd6d7c78-knockout.js\\\"},{\\\"name\\\":\\\"knockout_punches\\\",\\\"type\\\":\\\"js\\\",\\\"url\\\":\\\"/assetserver/382b41b3b1bd9f26f75861d360bad7f8beea211f-knockout_punches.js\\\"}],\\\"type\\\":\\\"async_block\\\"})).then((imports) => handler.apply(this, imports));\\n}\\n\")])], Dict{Symbol, Any}(:className => \"field interact-widget\")), WebIO.Node{WebIO.DOM}(WebIO.DOM(:html, :div), Any[], Dict{Symbol, Any}(:style => Dict(\"display\" => \"flex\", \"flex-direction\" => \"column\"))), WebIO.Node{WebIO.DOM}(WebIO.DOM(:html, :div), Any[WebIO.Node{WebIO.DOM}(WebIO.DOM(:html, :div), Any[WebIO.Scope(WebIO.Node{WebIO.DOM}(WebIO.DOM(:html, :div), Any[WebIO.Node{WebIO.DOM}(WebIO.DOM(:html, :div), Any[WebIO.Node{WebIO.DOM}(WebIO.DOM(:html, :label), Any[\"min_alike\"], Dict{Symbol, Any}(:className => \"interact \", :style => Dict{Any, Any}(:padding => \"5px 10px 0px 10px\")))], Dict{Symbol, Any}(:className => \"interact-flex-row-left\")), WebIO.Node{WebIO.DOM}(WebIO.DOM(:html, :div), Any[WebIO.Node{WebIO.DOM}(WebIO.DOM(:html, :input), Any[], Dict{Symbol, Any}(:max => 12, :min => 1, :attributes => Dict{Any, Any}(:type => \"range\", Symbol(\"data-bind\") => \"numericValue: index, valueUpdate: 'input', event: {change: function (){this.changes(this.changes()+1)}}\", \"orient\" => \"horizontal\"), :step => 1, :className => \"slider slider is-fullwidth\", :style => Dict{Any, Any}()))], Dict{Symbol, Any}(:className => \"interact-flex-row-center\")), WebIO.Node{WebIO.DOM}(WebIO.DOM(:html, :div), Any[WebIO.Node{WebIO.DOM}(WebIO.DOM(:html, :p), Any[], Dict{Symbol, Any}(:attributes => Dict(\"data-bind\" => \"text: formatted_val\")))], Dict{Symbol, Any}(:className => \"interact-flex-row-right\"))], Dict{Symbol, Any}(:className => \"interact-flex-row interact-widget\")), Dict{String, Tuple{Observables.AbstractObservable, Union{Nothing, Bool}}}(\"changes\" => (Observable(0), nothing), \"index\" => (Observable(6), nothing)), Set{String}(), nothing, WebIO.Asset[WebIO.Asset(\"js\", \"knockout\", \"/home/dushya/.julia/packages/Knockout/HReiN/src/../assets/knockout.js\"), WebIO.Asset(\"js\", \"knockout_punches\", \"/home/dushya/.julia/packages/Knockout/HReiN/src/../assets/knockout_punches.js\"), WebIO.Asset(\"js\", nothing, \"/home/dushya/.julia/packages/InteractBase/LJXv3/src/../assets/all.js\"), WebIO.Asset(\"css\", nothing, \"/home/dushya/.julia/packages/InteractBase/LJXv3/src/../assets/style.css\"), WebIO.Asset(\"css\", nothing, \"/home/dushya/.julia/packages/Interact/PENUy/src/../assets/bulma_confined.min.css\")], Dict{Any, Any}(\"changes\" => Any[WebIO.JSString(\"(function (val){return (val!=this.model[\\\"changes\\\"]()) ? (this.valueFromJulia[\\\"changes\\\"]=true, this.model[\\\"changes\\\"](val)) : undefined})\")], \"index\" => Any[WebIO.JSString(\"(function (val){return (val!=this.model[\\\"index\\\"]()) ? (this.valueFromJulia[\\\"index\\\"]=true, this.model[\\\"index\\\"](val)) : undefined})\")]), WebIO.ConnectionPool(Channel{Any}(32), Set{WebIO.AbstractConnection}(), Base.GenericCondition{ReentrantLock}(Base.IntrusiveLinkedList{Task}(Task (runnable) @0x00007fb7a76515f0, Task (runnable) @0x00007fb7a76515f0), ReentrantLock(nothing, 0x00000000, 0x00, Base.GenericCondition{Base.Threads.SpinLock}(Base.IntrusiveLinkedList{Task}(nothing, nothing), Base.Threads.SpinLock(0)), (0, 0, 141733920768)))), WebIO.JSString[WebIO.JSString(\"function () {\\n    var handler = (function (ko, koPunches) {\\n    ko.punches.enableAll();\\n    ko.bindingHandlers.numericValue = {\\n        init: function(element, valueAccessor, allBindings, data, context) {\\n            var stringified = ko.observable(ko.unwrap(valueAccessor()));\\n            stringified.subscribe(function(value) {\\n                var val = parseFloat(value);\\n                if (!isNaN(val)) {\\n                    valueAccessor()(val);\\n                }\\n            });\\n            valueAccessor().subscribe(function(value) {\\n                var str = JSON.stringify(value);\\n                if ((str == \\\"0\\\") && ([\\\"-0\\\", \\\"-0.\\\"].indexOf(stringified()) >= 0))\\n                     return;\\n                 if ([\\\"null\\\", \\\"\\\"].indexOf(str) >= 0)\\n                     return;\\n                stringified(str);\\n            });\\n            ko.applyBindingsToNode(\\n                element,\\n                {\\n                    value: stringified,\\n                    valueUpdate: allBindings.get('valueUpdate'),\\n                },\\n                context,\\n            );\\n        }\\n    };\\n    var json_data = {\\\"formatted_vals\\\":[\\\"1\\\",\\\"2\\\",\\\"3\\\",\\\"4\\\",\\\"5\\\",\\\"6\\\",\\\"7\\\",\\\"8\\\",\\\"9\\\",\\\"10\\\",\\\"11\\\",\\\"12\\\"],\\\"changes\\\":WebIO.getval({\\\"name\\\":\\\"changes\\\",\\\"scope\\\":\\\"6860497118943257604\\\",\\\"id\\\":\\\"3160981563771021769\\\",\\\"type\\\":\\\"observable\\\"}),\\\"index\\\":WebIO.getval({\\\"name\\\":\\\"index\\\",\\\"scope\\\":\\\"6860497118943257604\\\",\\\"id\\\":\\\"17819766709179801267\\\",\\\"type\\\":\\\"observable\\\"})};\\n    var self = this;\\n    function AppViewModel() {\\n        for (var key in json_data) {\\n            var el = json_data[key];\\n            this[key] = Array.isArray(el) ? ko.observableArray(el) : ko.observable(el);\\n        }\\n        \\n        [this[\\\"formatted_val\\\"]=ko.computed(    function(){\\n        return this.formatted_vals()[parseInt(this.index())-(1)];\\n    }\\n,this)]\\n        [this[\\\"changes\\\"].subscribe((function (val){!(this.valueFromJulia[\\\"changes\\\"]) ? (WebIO.setval({\\\"name\\\":\\\"changes\\\",\\\"scope\\\":\\\"6860497118943257604\\\",\\\"id\\\":\\\"3160981563771021769\\\",\\\"type\\\":\\\"observable\\\"},val)) : undefined; return this.valueFromJulia[\\\"changes\\\"]=false}),self),this[\\\"index\\\"].subscribe((function (val){!(this.valueFromJulia[\\\"index\\\"]) ? (WebIO.setval({\\\"name\\\":\\\"index\\\",\\\"scope\\\":\\\"6860497118943257604\\\",\\\"id\\\":\\\"17819766709179801267\\\",\\\"type\\\":\\\"observable\\\"},val)) : undefined; return this.valueFromJulia[\\\"index\\\"]=false}),self)]\\n        \\n    }\\n    self.model = new AppViewModel();\\n    self.valueFromJulia = {};\\n    for (var key in json_data) {\\n        self.valueFromJulia[key] = false;\\n    }\\n    ko.applyBindings(self.model, self.dom);\\n}\\n);\\n    (WebIO.importBlock({\\\"data\\\":[{\\\"name\\\":\\\"knockout\\\",\\\"type\\\":\\\"js\\\",\\\"url\\\":\\\"/assetserver/727383f2a47bd31570b7da84eee7b022dd6d7c78-knockout.js\\\"},{\\\"name\\\":\\\"knockout_punches\\\",\\\"type\\\":\\\"js\\\",\\\"url\\\":\\\"/assetserver/382b41b3b1bd9f26f75861d360bad7f8beea211f-knockout_punches.js\\\"}],\\\"type\\\":\\\"async_block\\\"})).then((imports) => handler.apply(this, imports));\\n}\\n\")])], Dict{Symbol, Any}(:className => \"field interact-widget\"))], Dict{Symbol, Any}(:style => Dict(\"display\" => \"flex\", \"flex-direction\" => \"column\"))), WebIO.Node{WebIO.DOM}(WebIO.DOM(:html, :div), Any[WebIO.Node{WebIO.DOM}(WebIO.DOM(:html, :div), Any[WebIO.Scope(WebIO.Node{WebIO.DOM}(WebIO.DOM(:html, :div), Any[], Dict{Symbol, Any}(:id => \"container\")), Dict{String, Tuple{Observables.AbstractObservable, Union{Nothing, Bool}}}(\"value\" => (Observable(\"\\\\;\\\\;\"), nothing)), Set{String}(), nothing, WebIO.Asset[WebIO.Asset(\"js\", nothing, \"/home/dushya/.julia/packages/InteractBase/LJXv3/src/../assets/katex.min.js\"), WebIO.Asset(\"css\", nothing, \"/home/dushya/.julia/packages/InteractBase/LJXv3/src/../assets/katex.min.css\")], Dict{Any, Any}(\"value\" => Any[WebIO.JSString(\"(function (txt){return this.k.render(txt,this.container)})\")]), WebIO.ConnectionPool(Channel{Any}(32), Set{WebIO.AbstractConnection}(), Base.GenericCondition{ReentrantLock}(Base.IntrusiveLinkedList{Task}(Task (runnable) @0x00007fb7f3520e20, Task (runnable) @0x00007fb7f3520e20), ReentrantLock(nothing, 0x00000000, 0x00, Base.GenericCondition{Base.Threads.SpinLock}(Base.IntrusiveLinkedList{Task}(nothing, nothing), Base.Threads.SpinLock(0)), (8, 140426959979264, 140426959979344)))), WebIO.JSString[WebIO.JSString(\"function () {\\n    var handler = ((function (k){this.k=k; this.container=this.dom.querySelector(\\\"#container\\\"); return k.render(\\\"\\\\\\\\;\\\\\\\\;\\\",this.container)}));\\n    (WebIO.importBlock({\\\"data\\\":[{\\\"name\\\":null,\\\"type\\\":\\\"js\\\",\\\"url\\\":\\\"/assetserver/dd22ed1bf1896c2748f3fe616ce0b838adc895c1-katex.min.js\\\"},{\\\"name\\\":null,\\\"type\\\":\\\"css\\\",\\\"url\\\":\\\"/assetserver/46517a424aa5e6cffc1360d7e0848b601c584ee3-katex.min.css\\\"}],\\\"type\\\":\\\"async_block\\\"})).then((imports) => handler.apply(this, imports));\\n}\\n\")])], Dict{Symbol, Any}(:className => \"interact-widget\")), WebIO.Node{WebIO.DOM}(WebIO.DOM(:html, :div), Any[WebIO.Scope(WebIO.Node{WebIO.DOM}(WebIO.DOM(:html, :button), Any[\"run\"], Dict{Symbol, Any}(:attributes => Dict{Any, Any}(\"data-bind\" => \"click: function (){this.clicks(this.clicks()+1)}, css: {'is-loading' : loading}\"), :className => \"is-medium button is-primary\", :style => Dict{String, Any}())), Dict{String, Tuple{Observables.AbstractObservable, Union{Nothing, Bool}}}(\"loading\" => (Observable(false), nothing), \"clicks\" => (Observable(0), nothing)), Set{String}(), nothing, WebIO.Asset[WebIO.Asset(\"js\", \"knockout\", \"/home/dushya/.julia/packages/Knockout/HReiN/src/../assets/knockout.js\"), WebIO.Asset(\"js\", \"knockout_punches\", \"/home/dushya/.julia/packages/Knockout/HReiN/src/../assets/knockout_punches.js\"), WebIO.Asset(\"js\", nothing, \"/home/dushya/.julia/packages/InteractBase/LJXv3/src/../assets/all.js\"), WebIO.Asset(\"css\", nothing, \"/home/dushya/.julia/packages/InteractBase/LJXv3/src/../assets/style.css\"), WebIO.Asset(\"css\", nothing, \"/home/dushya/.julia/packages/Interact/PENUy/src/../assets/bulma_confined.min.css\")], Dict{Any, Any}(\"loading\" => Any[WebIO.JSString(\"(function (val){return (val!=this.model[\\\"loading\\\"]()) ? (this.valueFromJulia[\\\"loading\\\"]=true, this.model[\\\"loading\\\"](val)) : undefined})\")], \"clicks\" => Any[WebIO.JSString(\"(function (val){return (val!=this.model[\\\"clicks\\\"]()) ? (this.valueFromJulia[\\\"clicks\\\"]=true, this.model[\\\"clicks\\\"](val)) : undefined})\")]), WebIO.ConnectionPool(Channel{Any}(32), Set{WebIO.AbstractConnection}(), Base.GenericCondition{ReentrantLock}(Base.IntrusiveLinkedList{Task}(Task (runnable) @0x00007fb7a87f6bd0, Task (runnable) @0x00007fb7a87f6bd0), ReentrantLock(nothing, 0x00000000, 0x00, Base.GenericCondition{Base.Threads.SpinLock}(Base.IntrusiveLinkedList{Task}(nothing, nothing), Base.Threads.SpinLock(0)), (0, 0, 141733920768)))), WebIO.JSString[WebIO.JSString(\"function () {\\n    var handler = (function (ko, koPunches) {\\n    ko.punches.enableAll();\\n    ko.bindingHandlers.numericValue = {\\n        init: function(element, valueAccessor, allBindings, data, context) {\\n            var stringified = ko.observable(ko.unwrap(valueAccessor()));\\n            stringified.subscribe(function(value) {\\n                var val = parseFloat(value);\\n                if (!isNaN(val)) {\\n                    valueAccessor()(val);\\n                }\\n            });\\n            valueAccessor().subscribe(function(value) {\\n                var str = JSON.stringify(value);\\n                if ((str == \\\"0\\\") && ([\\\"-0\\\", \\\"-0.\\\"].indexOf(stringified()) >= 0))\\n                     return;\\n                 if ([\\\"null\\\", \\\"\\\"].indexOf(str) >= 0)\\n                     return;\\n                stringified(str);\\n            });\\n            ko.applyBindingsToNode(\\n                element,\\n                {\\n                    value: stringified,\\n                    valueUpdate: allBindings.get('valueUpdate'),\\n                },\\n                context,\\n            );\\n        }\\n    };\\n    var json_data = {\\\"loading\\\":WebIO.getval({\\\"name\\\":\\\"loading\\\",\\\"scope\\\":\\\"18011971297585217047\\\",\\\"id\\\":\\\"12512616478621859896\\\",\\\"type\\\":\\\"observable\\\"}),\\\"clicks\\\":WebIO.getval({\\\"name\\\":\\\"clicks\\\",\\\"scope\\\":\\\"18011971297585217047\\\",\\\"id\\\":\\\"12546925156580939835\\\",\\\"type\\\":\\\"observable\\\"})};\\n    var self = this;\\n    function AppViewModel() {\\n        for (var key in json_data) {\\n            var el = json_data[key];\\n            this[key] = Array.isArray(el) ? ko.observableArray(el) : ko.observable(el);\\n        }\\n        \\n        \\n        [this[\\\"loading\\\"].subscribe((function (val){!(this.valueFromJulia[\\\"loading\\\"]) ? (WebIO.setval({\\\"name\\\":\\\"loading\\\",\\\"scope\\\":\\\"18011971297585217047\\\",\\\"id\\\":\\\"12512616478621859896\\\",\\\"type\\\":\\\"observable\\\"},val)) : undefined; return this.valueFromJulia[\\\"loading\\\"]=false}),self),this[\\\"clicks\\\"].subscribe((function (val){!(this.valueFromJulia[\\\"clicks\\\"]) ? (WebIO.setval({\\\"name\\\":\\\"clicks\\\",\\\"scope\\\":\\\"18011971297585217047\\\",\\\"id\\\":\\\"12546925156580939835\\\",\\\"type\\\":\\\"observable\\\"},val)) : undefined; return this.valueFromJulia[\\\"clicks\\\"]=false}),self)]\\n        \\n    }\\n    self.model = new AppViewModel();\\n    self.valueFromJulia = {};\\n    for (var key in json_data) {\\n        self.valueFromJulia[key] = false;\\n    }\\n    ko.applyBindings(self.model, self.dom);\\n}\\n);\\n    (WebIO.importBlock({\\\"data\\\":[{\\\"name\\\":\\\"knockout\\\",\\\"type\\\":\\\"js\\\",\\\"url\\\":\\\"/assetserver/727383f2a47bd31570b7da84eee7b022dd6d7c78-knockout.js\\\"},{\\\"name\\\":\\\"knockout_punches\\\",\\\"type\\\":\\\"js\\\",\\\"url\\\":\\\"/assetserver/382b41b3b1bd9f26f75861d360bad7f8beea211f-knockout_punches.js\\\"}],\\\"type\\\":\\\"async_block\\\"})).then((imports) => handler.apply(this, imports));\\n}\\n\")])], Dict{Symbol, Any}(:className => \"field interact-widget\")), WebIO.Node{WebIO.DOM}(WebIO.DOM(:html, :div), Any[WebIO.Scope(WebIO.Node{WebIO.DOM}(WebIO.DOM(:html, :div), Any[], Dict{Symbol, Any}(:id => \"container\")), Dict{String, Tuple{Observables.AbstractObservable, Union{Nothing, Bool}}}(\"value\" => (Observable(\"\\\\;\\\\;\"), nothing)), Set{String}(), nothing, WebIO.Asset[WebIO.Asset(\"js\", nothing, \"/home/dushya/.julia/packages/InteractBase/LJXv3/src/../assets/katex.min.js\"), WebIO.Asset(\"css\", nothing, \"/home/dushya/.julia/packages/InteractBase/LJXv3/src/../assets/katex.min.css\")], Dict{Any, Any}(\"value\" => Any[WebIO.JSString(\"(function (txt){return this.k.render(txt,this.container)})\")]), WebIO.ConnectionPool(Channel{Any}(32), Set{WebIO.AbstractConnection}(), Base.GenericCondition{ReentrantLock}(Base.IntrusiveLinkedList{Task}(Task (runnable) @0x00007fb7f3520e20, Task (runnable) @0x00007fb7f3520e20), ReentrantLock(nothing, 0x00000000, 0x00, Base.GenericCondition{Base.Threads.SpinLock}(Base.IntrusiveLinkedList{Task}(nothing, nothing), Base.Threads.SpinLock(0)), (8, 140426959979264, 140426959979344)))), WebIO.JSString[WebIO.JSString(\"function () {\\n    var handler = ((function (k){this.k=k; this.container=this.dom.querySelector(\\\"#container\\\"); return k.render(\\\"\\\\\\\\;\\\\\\\\;\\\",this.container)}));\\n    (WebIO.importBlock({\\\"data\\\":[{\\\"name\\\":null,\\\"type\\\":\\\"js\\\",\\\"url\\\":\\\"/assetserver/dd22ed1bf1896c2748f3fe616ce0b838adc895c1-katex.min.js\\\"},{\\\"name\\\":null,\\\"type\\\":\\\"css\\\",\\\"url\\\":\\\"/assetserver/46517a424aa5e6cffc1360d7e0848b601c584ee3-katex.min.css\\\"}],\\\"type\\\":\\\"async_block\\\"})).then((imports) => handler.apply(this, imports));\\n}\\n\")])], Dict{Symbol, Any}(:className => \"interact-widget\")), WebIO.Node{WebIO.DOM}(WebIO.DOM(:html, :div), Any[WebIO.Scope(WebIO.Node{WebIO.DOM}(WebIO.DOM(:html, :button), Any[\"stop\"], Dict{Symbol, Any}(:attributes => Dict{Any, Any}(\"data-bind\" => \"click: function (){this.clicks(this.clicks()+1)}, css: {'is-loading' : loading}\"), :className => \"is-medium button is-primary\", :style => Dict{String, Any}())), Dict{String, Tuple{Observables.AbstractObservable, Union{Nothing, Bool}}}(\"loading\" => (Observable(false), nothing), \"clicks\" => (Observable(0), nothing)), Set{String}(), nothing, WebIO.Asset[WebIO.Asset(\"js\", \"knockout\", \"/home/dushya/.julia/packages/Knockout/HReiN/src/../assets/knockout.js\"), WebIO.Asset(\"js\", \"knockout_punches\", \"/home/dushya/.julia/packages/Knockout/HReiN/src/../assets/knockout_punches.js\"), WebIO.Asset(\"js\", nothing, \"/home/dushya/.julia/packages/InteractBase/LJXv3/src/../assets/all.js\"), WebIO.Asset(\"css\", nothing, \"/home/dushya/.julia/packages/InteractBase/LJXv3/src/../assets/style.css\"), WebIO.Asset(\"css\", nothing, \"/home/dushya/.julia/packages/Interact/PENUy/src/../assets/bulma_confined.min.css\")], Dict{Any, Any}(\"loading\" => Any[WebIO.JSString(\"(function (val){return (val!=this.model[\\\"loading\\\"]()) ? (this.valueFromJulia[\\\"loading\\\"]=true, this.model[\\\"loading\\\"](val)) : undefined})\")], \"clicks\" => Any[WebIO.JSString(\"(function (val){return (val!=this.model[\\\"clicks\\\"]()) ? (this.valueFromJulia[\\\"clicks\\\"]=true, this.model[\\\"clicks\\\"](val)) : undefined})\")]), WebIO.ConnectionPool(Channel{Any}(32), Set{WebIO.AbstractConnection}(), Base.GenericCondition{ReentrantLock}(Base.IntrusiveLinkedList{Task}(Task (runnable) @0x00007fb7f33720e0, Task (runnable) @0x00007fb7f33720e0), ReentrantLock(nothing, 0x00000000, 0x00, Base.GenericCondition{Base.Threads.SpinLock}(Base.IntrusiveLinkedList{Task}(nothing, nothing), Base.Threads.SpinLock(0)), (0, 0, 141733920768)))), WebIO.JSString[WebIO.JSString(\"function () {\\n    var handler = (function (ko, koPunches) {\\n    ko.punches.enableAll();\\n    ko.bindingHandlers.numericValue = {\\n        init: function(element, valueAccessor, allBindings, data, context) {\\n            var stringified = ko.observable(ko.unwrap(valueAccessor()));\\n            stringified.subscribe(function(value) {\\n                var val = parseFloat(value);\\n                if (!isNaN(val)) {\\n                    valueAccessor()(val);\\n                }\\n            });\\n            valueAccessor().subscribe(function(value) {\\n                var str = JSON.stringify(value);\\n                if ((str == \\\"0\\\") && ([\\\"-0\\\", \\\"-0.\\\"].indexOf(stringified()) >= 0))\\n                     return;\\n                 if ([\\\"null\\\", \\\"\\\"].indexOf(str) >= 0)\\n                     return;\\n                stringified(str);\\n            });\\n            ko.applyBindingsToNode(\\n                element,\\n                {\\n                    value: stringified,\\n                    valueUpdate: allBindings.get('valueUpdate'),\\n                },\\n                context,\\n            );\\n        }\\n    };\\n    var json_data = {\\\"loading\\\":WebIO.getval({\\\"name\\\":\\\"loading\\\",\\\"scope\\\":\\\"2125543084427958450\\\",\\\"id\\\":\\\"5784703540915807198\\\",\\\"type\\\":\\\"observable\\\"}),\\\"clicks\\\":WebIO.getval({\\\"name\\\":\\\"clicks\\\",\\\"scope\\\":\\\"2125543084427958450\\\",\\\"id\\\":\\\"15633927002858124864\\\",\\\"type\\\":\\\"observable\\\"})};\\n    var self = this;\\n    function AppViewModel() {\\n        for (var key in json_data) {\\n            var el = json_data[key];\\n            this[key] = Array.isArray(el) ? ko.observableArray(el) : ko.observable(el);\\n        }\\n        \\n        \\n        [this[\\\"loading\\\"].subscribe((function (val){!(this.valueFromJulia[\\\"loading\\\"]) ? (WebIO.setval({\\\"name\\\":\\\"loading\\\",\\\"scope\\\":\\\"2125543084427958450\\\",\\\"id\\\":\\\"5784703540915807198\\\",\\\"type\\\":\\\"observable\\\"},val)) : undefined; return this.valueFromJulia[\\\"loading\\\"]=false}),self),this[\\\"clicks\\\"].subscribe((function (val){!(this.valueFromJulia[\\\"clicks\\\"]) ? (WebIO.setval({\\\"name\\\":\\\"clicks\\\",\\\"scope\\\":\\\"2125543084427958450\\\",\\\"id\\\":\\\"15633927002858124864\\\",\\\"type\\\":\\\"observable\\\"},val)) : undefined; return this.valueFromJulia[\\\"clicks\\\"]=false}),self)]\\n        \\n    }\\n    self.model = new AppViewModel();\\n    self.valueFromJulia = {};\\n    for (var key in json_data) {\\n        self.valueFromJulia[key] = false;\\n    }\\n    ko.applyBindings(self.model, self.dom);\\n}\\n);\\n    (WebIO.importBlock({\\\"data\\\":[{\\\"name\\\":\\\"knockout\\\",\\\"type\\\":\\\"js\\\",\\\"url\\\":\\\"/assetserver/727383f2a47bd31570b7da84eee7b022dd6d7c78-knockout.js\\\"},{\\\"name\\\":\\\"knockout_punches\\\",\\\"type\\\":\\\"js\\\",\\\"url\\\":\\\"/assetserver/382b41b3b1bd9f26f75861d360bad7f8beea211f-knockout_punches.js\\\"}],\\\"type\\\":\\\"async_block\\\"})).then((imports) => handler.apply(this, imports));\\n}\\n\")])], Dict{Symbol, Any}(:className => \"field interact-widget\")), WebIO.Node{WebIO.DOM}(WebIO.DOM(:html, :div), Any[WebIO.Scope(WebIO.Node{WebIO.DOM}(WebIO.DOM(:html, :div), Any[], Dict{Symbol, Any}(:id => \"container\")), Dict{String, Tuple{Observables.AbstractObservable, Union{Nothing, Bool}}}(\"value\" => (Observable(\"\\\\;\\\\;\"), nothing)), Set{String}(), nothing, WebIO.Asset[WebIO.Asset(\"js\", nothing, \"/home/dushya/.julia/packages/InteractBase/LJXv3/src/../assets/katex.min.js\"), WebIO.Asset(\"css\", nothing, \"/home/dushya/.julia/packages/InteractBase/LJXv3/src/../assets/katex.min.css\")], Dict{Any, Any}(\"value\" => Any[WebIO.JSString(\"(function (txt){return this.k.render(txt,this.container)})\")]), WebIO.ConnectionPool(Channel{Any}(32), Set{WebIO.AbstractConnection}(), Base.GenericCondition{ReentrantLock}(Base.IntrusiveLinkedList{Task}(Task (runnable) @0x00007fb7f3520e20, Task (runnable) @0x00007fb7f3520e20), ReentrantLock(nothing, 0x00000000, 0x00, Base.GenericCondition{Base.Threads.SpinLock}(Base.IntrusiveLinkedList{Task}(nothing, nothing), Base.Threads.SpinLock(0)), (8, 140426959979264, 140426959979344)))), WebIO.JSString[WebIO.JSString(\"function () {\\n    var handler = ((function (k){this.k=k; this.container=this.dom.querySelector(\\\"#container\\\"); return k.render(\\\"\\\\\\\\;\\\\\\\\;\\\",this.container)}));\\n    (WebIO.importBlock({\\\"data\\\":[{\\\"name\\\":null,\\\"type\\\":\\\"js\\\",\\\"url\\\":\\\"/assetserver/dd22ed1bf1896c2748f3fe616ce0b838adc895c1-katex.min.js\\\"},{\\\"name\\\":null,\\\"type\\\":\\\"css\\\",\\\"url\\\":\\\"/assetserver/46517a424aa5e6cffc1360d7e0848b601c584ee3-katex.min.css\\\"}],\\\"type\\\":\\\"async_block\\\"})).then((imports) => handler.apply(this, imports));\\n}\\n\")])], Dict{Symbol, Any}(:className => \"interact-widget\")), WebIO.Node{WebIO.DOM}(WebIO.DOM(:html, :div), Any[WebIO.Scope(WebIO.Node{WebIO.DOM}(WebIO.DOM(:html, :button), Any[\"reset\"], Dict{Symbol, Any}(:attributes => Dict{Any, Any}(\"data-bind\" => \"click: function (){this.clicks(this.clicks()+1)}, css: {'is-loading' : loading}\"), :className => \"is-medium button is-primary\", :style => Dict{String, Any}())), Dict{String, Tuple{Observables.AbstractObservable, Union{Nothing, Bool}}}(\"loading\" => (Observable(false), nothing), \"clicks\" => (Observable(0), nothing)), Set{String}(), nothing, WebIO.Asset[WebIO.Asset(\"js\", \"knockout\", \"/home/dushya/.julia/packages/Knockout/HReiN/src/../assets/knockout.js\"), WebIO.Asset(\"js\", \"knockout_punches\", \"/home/dushya/.julia/packages/Knockout/HReiN/src/../assets/knockout_punches.js\"), WebIO.Asset(\"js\", nothing, \"/home/dushya/.julia/packages/InteractBase/LJXv3/src/../assets/all.js\"), WebIO.Asset(\"css\", nothing, \"/home/dushya/.julia/packages/InteractBase/LJXv3/src/../assets/style.css\"), WebIO.Asset(\"css\", nothing, \"/home/dushya/.julia/packages/Interact/PENUy/src/../assets/bulma_confined.min.css\")], Dict{Any, Any}(\"loading\" => Any[WebIO.JSString(\"(function (val){return (val!=this.model[\\\"loading\\\"]()) ? (this.valueFromJulia[\\\"loading\\\"]=true, this.model[\\\"loading\\\"](val)) : undefined})\")], \"clicks\" => Any[WebIO.JSString(\"(function (val){return (val!=this.model[\\\"clicks\\\"]()) ? (this.valueFromJulia[\\\"clicks\\\"]=true, this.model[\\\"clicks\\\"](val)) : undefined})\")]), WebIO.ConnectionPool(Channel{Any}(32), Set{WebIO.AbstractConnection}(), Base.GenericCondition{ReentrantLock}(Base.IntrusiveLinkedList{Task}(Task (runnable) @0x00007fb7f34212d0, Task (runnable) @0x00007fb7f34212d0), ReentrantLock(nothing, 0x00000000, 0x00, Base.GenericCondition{Base.Threads.SpinLock}(Base.IntrusiveLinkedList{Task}(nothing, nothing), Base.Threads.SpinLock(0)), (1, 140428782391504, 3)))), WebIO.JSString[WebIO.JSString(\"function () {\\n    var handler = (function (ko, koPunches) {\\n    ko.punches.enableAll();\\n    ko.bindingHandlers.numericValue = {\\n        init: function(element, valueAccessor, allBindings, data, context) {\\n            var stringified = ko.observable(ko.unwrap(valueAccessor()));\\n            stringified.subscribe(function(value) {\\n                var val = parseFloat(value);\\n                if (!isNaN(val)) {\\n                    valueAccessor()(val);\\n                }\\n            });\\n            valueAccessor().subscribe(function(value) {\\n                var str = JSON.stringify(value);\\n                if ((str == \\\"0\\\") && ([\\\"-0\\\", \\\"-0.\\\"].indexOf(stringified()) >= 0))\\n                     return;\\n                 if ([\\\"null\\\", \\\"\\\"].indexOf(str) >= 0)\\n                     return;\\n                stringified(str);\\n            });\\n            ko.applyBindingsToNode(\\n                element,\\n                {\\n                    value: stringified,\\n                    valueUpdate: allBindings.get('valueUpdate'),\\n                },\\n                context,\\n            );\\n        }\\n    };\\n    var json_data = {\\\"loading\\\":WebIO.getval({\\\"name\\\":\\\"loading\\\",\\\"scope\\\":\\\"8521590163211097493\\\",\\\"id\\\":\\\"10746430691210050793\\\",\\\"type\\\":\\\"observable\\\"}),\\\"clicks\\\":WebIO.getval({\\\"name\\\":\\\"clicks\\\",\\\"scope\\\":\\\"8521590163211097493\\\",\\\"id\\\":\\\"10942295588427067757\\\",\\\"type\\\":\\\"observable\\\"})};\\n    var self = this;\\n    function AppViewModel() {\\n        for (var key in json_data) {\\n            var el = json_data[key];\\n            this[key] = Array.isArray(el) ? ko.observableArray(el) : ko.observable(el);\\n        }\\n        \\n        \\n        [this[\\\"loading\\\"].subscribe((function (val){!(this.valueFromJulia[\\\"loading\\\"]) ? (WebIO.setval({\\\"name\\\":\\\"loading\\\",\\\"scope\\\":\\\"8521590163211097493\\\",\\\"id\\\":\\\"10746430691210050793\\\",\\\"type\\\":\\\"observable\\\"},val)) : undefined; return this.valueFromJulia[\\\"loading\\\"]=false}),self),this[\\\"clicks\\\"].subscribe((function (val){!(this.valueFromJulia[\\\"clicks\\\"]) ? (WebIO.setval({\\\"name\\\":\\\"clicks\\\",\\\"scope\\\":\\\"8521590163211097493\\\",\\\"id\\\":\\\"10942295588427067757\\\",\\\"type\\\":\\\"observable\\\"},val)) : undefined; return this.valueFromJulia[\\\"clicks\\\"]=false}),self)]\\n        \\n    }\\n    self.model = new AppViewModel();\\n    self.valueFromJulia = {};\\n    for (var key in json_data) {\\n        self.valueFromJulia[key] = false;\\n    }\\n    ko.applyBindings(self.model, self.dom);\\n}\\n);\\n    (WebIO.importBlock({\\\"data\\\":[{\\\"name\\\":\\\"knockout\\\",\\\"type\\\":\\\"js\\\",\\\"url\\\":\\\"/assetserver/727383f2a47bd31570b7da84eee7b022dd6d7c78-knockout.js\\\"},{\\\"name\\\":\\\"knockout_punches\\\",\\\"type\\\":\\\"js\\\",\\\"url\\\":\\\"/assetserver/382b41b3b1bd9f26f75861d360bad7f8beea211f-knockout_punches.js\\\"}],\\\"type\\\":\\\"async_block\\\"})).then((imports) => handler.apply(this, imports));\\n}\\n\")])], Dict{Symbol, Any}(:className => \"field interact-widget\"))], Dict{Symbol, Any}(:style => Dict(\"display\" => \"flex\", \"flex-direction\" => \"row\")))], Dict{Symbol, Any}(:style => Dict(\"display\" => \"flex\", \"flex-direction\" => \"column\"))), Observable(MeshCat.DisplayedVisualizer(MeshCat.CoreVisualizer(MeshCat.SceneTrees.SceneNode(nothing, nothing, Dict{String, Vector{UInt8}}(), nothing, Dict{String, MeshCat.SceneTrees.SceneNode}(\"meshcat\" => MeshCat.SceneTrees.SceneNode(nothing, UInt8[0x83, 0xa6, 0x6d, 0x61, 0x74, 0x72, 0x69, 0x78, 0xc7, 0x40  …  0x68, 0xa8, 0x2f, 0x6d, 0x65, 0x73, 0x68, 0x63, 0x61, 0x74], Dict{String, Vector{UInt8}}(), nothing, Dict{String, MeshCat.SceneTrees.SceneNode}(\"agents\" => MeshCat.SceneTrees.SceneNode(nothing, nothing, Dict{String, Vector{UInt8}}(), nothing, Dict{String, MeshCat.SceneTrees.SceneNode}(\"131sphere\" => MeshCat.SceneTrees.SceneNode(nothing, UInt8[0x83, 0xa6, 0x6d, 0x61, 0x74, 0x72, 0x69, 0x78, 0xc7, 0x40  …  0x2f, 0x31, 0x33, 0x31, 0x73, 0x70, 0x68, 0x65, 0x72, 0x65], Dict{String, Vector{UInt8}}(\"scale\" => [0x84, 0xa8, 0x70, 0x72, 0x6f, 0x70, 0x65, 0x72, 0x74, 0x79  …  0x2f, 0x31, 0x33, 0x31, 0x73, 0x70, 0x68, 0x65, 0x72, 0x65]), nothing, Dict{String, MeshCat.SceneTrees.SceneNode}(\"(0.0N0f8, 1.0N0f8, 0.0N0f8, 1.0N0f8)\" => MeshCat.SceneTrees.SceneNode(UInt8[0x83, 0xa6, 0x6f, 0x62, 0x6a, 0x65, 0x63, 0x74, 0x84, 0xaa  …  0x2c, 0x20, 0x31, 0x2e, 0x30, 0x4e, 0x30, 0x66, 0x38, 0x29], nothing, Dict{String, Vector{UInt8}}(\"visible\" => [0x84, 0xa8, 0x70, 0x72, 0x6f, 0x70, 0x65, 0x72, 0x74, 0x79  …  0x2c, 0x20, 0x31, 0x2e, 0x30, 0x4e, 0x30, 0x66, 0x38, 0x29]), nothing, Dict{String, MeshCat.SceneTrees.SceneNode}()))), \"183sphere\" => MeshCat.SceneTrees.SceneNode(nothing, UInt8[0x83, 0xa6, 0x6d, 0x61, 0x74, 0x72, 0x69, 0x78, 0xc7, 0x40  …  0x2f, 0x31, 0x38, 0x33, 0x73, 0x70, 0x68, 0x65, 0x72, 0x65], Dict{String, Vector{UInt8}}(\"scale\" => [0x84, 0xa8, 0x70, 0x72, 0x6f, 0x70, 0x65, 0x72, 0x74, 0x79  …  0x2f, 0x31, 0x38, 0x33, 0x73, 0x70, 0x68, 0x65, 0x72, 0x65]), nothing, Dict{String, MeshCat.SceneTrees.SceneNode}(\"(0.0N0f8, 1.0N0f8, 0.0N0f8, 1.0N0f8)\" => MeshCat.SceneTrees.SceneNode(UInt8[0x83, 0xa6, 0x6f, 0x62, 0x6a, 0x65, 0x63, 0x74, 0x84, 0xaa  …  0x2c, 0x20, 0x31, 0x2e, 0x30, 0x4e, 0x30, 0x66, 0x38, 0x29], nothing, Dict{String, Vector{UInt8}}(\"visible\" => [0x84, 0xa8, 0x70, 0x72, 0x6f, 0x70, 0x65, 0x72, 0x74, 0x79  …  0x2c, 0x20, 0x31, 0x2e, 0x30, 0x4e, 0x30, 0x66, 0x38, 0x29]), nothing, Dict{String, MeshCat.SceneTrees.SceneNode}()))), \"186sphere\" => MeshCat.SceneTrees.SceneNode(nothing, UInt8[0x83, 0xa6, 0x6d, 0x61, 0x74, 0x72, 0x69, 0x78, 0xc7, 0x40  …  0x2f, 0x31, 0x38, 0x36, 0x73, 0x70, 0x68, 0x65, 0x72, 0x65], Dict{String, Vector{UInt8}}(\"scale\" => [0x84, 0xa8, 0x70, 0x72, 0x6f, 0x70, 0x65, 0x72, 0x74, 0x79  …  0x2f, 0x31, 0x38, 0x36, 0x73, 0x70, 0x68, 0x65, 0x72, 0x65]), nothing, Dict{String, MeshCat.SceneTrees.SceneNode}(\"(1.0N0f8, 0.0N0f8, 0.0N0f8, 1.0N0f8)\" => MeshCat.SceneTrees.SceneNode(UInt8[0x83, 0xa6, 0x6f, 0x62, 0x6a, 0x65, 0x63, 0x74, 0x84, 0xaa  …  0x2c, 0x20, 0x31, 0x2e, 0x30, 0x4e, 0x30, 0x66, 0x38, 0x29], nothing, Dict{String, Vector{UInt8}}(\"visible\" => [0x84, 0xa8, 0x70, 0x72, 0x6f, 0x70, 0x65, 0x72, 0x74, 0x79  …  0x2c, 0x20, 0x31, 0x2e, 0x30, 0x4e, 0x30, 0x66, 0x38, 0x29]), nothing, Dict{String, MeshCat.SceneTrees.SceneNode}()))), \"87sphere\" => MeshCat.SceneTrees.SceneNode(nothing, UInt8[0x83, 0xa6, 0x6d, 0x61, 0x74, 0x72, 0x69, 0x78, 0xc7, 0x40  …  0x73, 0x2f, 0x38, 0x37, 0x73, 0x70, 0x68, 0x65, 0x72, 0x65], Dict{String, Vector{UInt8}}(\"scale\" => [0x84, 0xa8, 0x70, 0x72, 0x6f, 0x70, 0x65, 0x72, 0x74, 0x79  …  0x73, 0x2f, 0x38, 0x37, 0x73, 0x70, 0x68, 0x65, 0x72, 0x65]), nothing, Dict{String, MeshCat.SceneTrees.SceneNode}(\"(1.0N0f8, 0.0N0f8, 0.0N0f8, 1.0N0f8)\" => MeshCat.SceneTrees.SceneNode(UInt8[0x83, 0xa6, 0x6f, 0x62, 0x6a, 0x65, 0x63, 0x74, 0x84, 0xaa  …  0x2c, 0x20, 0x31, 0x2e, 0x30, 0x4e, 0x30, 0x66, 0x38, 0x29], nothing, Dict{String, Vector{UInt8}}(\"visible\" => [0x84, 0xa8, 0x70, 0x72, 0x6f, 0x70, 0x65, 0x72, 0x74, 0x79  …  0x2c, 0x20, 0x31, 0x2e, 0x30, 0x4e, 0x30, 0x66, 0x38, 0x29]), nothing, Dict{String, MeshCat.SceneTrees.SceneNode}()))), \"130sphere\" => MeshCat.SceneTrees.SceneNode(nothing, UInt8[0x83, 0xa6, 0x6d, 0x61, 0x74, 0x72, 0x69, 0x78, 0xc7, 0x40  …  0x2f, 0x31, 0x33, 0x30, 0x73, 0x70, 0x68, 0x65, 0x72, 0x65], Dict{String, Vector{UInt8}}(\"scale\" => [0x84, 0xa8, 0x70, 0x72, 0x6f, 0x70, 0x65, 0x72, 0x74, 0x79  …  0x2f, 0x31, 0x33, 0x30, 0x73, 0x70, 0x68, 0x65, 0x72, 0x65]), nothing, Dict{String, MeshCat.SceneTrees.SceneNode}(\"(1.0N0f8, 0.0N0f8, 0.0N0f8, 1.0N0f8)\" => MeshCat.SceneTrees.SceneNode(UInt8[0x83, 0xa6, 0x6f, 0x62, 0x6a, 0x65, 0x63, 0x74, 0x84, 0xaa  …  0x2c, 0x20, 0x31, 0x2e, 0x30, 0x4e, 0x30, 0x66, 0x38, 0x29], nothing, Dict{String, Vector{UInt8}}(\"visible\" => [0x84, 0xa8, 0x70, 0x72, 0x6f, 0x70, 0x65, 0x72, 0x74, 0x79  …  0x2c, 0x20, 0x31, 0x2e, 0x30, 0x4e, 0x30, 0x66, 0x38, 0x29]), nothing, Dict{String, MeshCat.SceneTrees.SceneNode}()))), \"51sphere\" => MeshCat.SceneTrees.SceneNode(nothing, UInt8[0x83, 0xa6, 0x6d, 0x61, 0x74, 0x72, 0x69, 0x78, 0xc7, 0x40  …  0x73, 0x2f, 0x35, 0x31, 0x73, 0x70, 0x68, 0x65, 0x72, 0x65], Dict{String, Vector{UInt8}}(\"scale\" => [0x84, 0xa8, 0x70, 0x72, 0x6f, 0x70, 0x65, 0x72, 0x74, 0x79  …  0x73, 0x2f, 0x35, 0x31, 0x73, 0x70, 0x68, 0x65, 0x72, 0x65]), nothing, Dict{String, MeshCat.SceneTrees.SceneNode}(\"(0.0N0f8, 1.0N0f8, 0.0N0f8, 1.0N0f8)\" => MeshCat.SceneTrees.SceneNode(UInt8[0x83, 0xa6, 0x6f, 0x62, 0x6a, 0x65, 0x63, 0x74, 0x84, 0xaa  …  0x2c, 0x20, 0x31, 0x2e, 0x30, 0x4e, 0x30, 0x66, 0x38, 0x29], nothing, Dict{String, Vector{UInt8}}(\"visible\" => [0x84, 0xa8, 0x70, 0x72, 0x6f, 0x70, 0x65, 0x72, 0x74, 0x79  …  0x2c, 0x20, 0x31, 0x2e, 0x30, 0x4e, 0x30, 0x66, 0x38, 0x29]), nothing, Dict{String, MeshCat.SceneTrees.SceneNode}()))), \"9sphere\" => MeshCat.SceneTrees.SceneNode(nothing, UInt8[0x83, 0xa6, 0x6d, 0x61, 0x74, 0x72, 0x69, 0x78, 0xc7, 0x40  …  0x74, 0x73, 0x2f, 0x39, 0x73, 0x70, 0x68, 0x65, 0x72, 0x65], Dict{String, Vector{UInt8}}(\"scale\" => [0x84, 0xa8, 0x70, 0x72, 0x6f, 0x70, 0x65, 0x72, 0x74, 0x79  …  0x74, 0x73, 0x2f, 0x39, 0x73, 0x70, 0x68, 0x65, 0x72, 0x65]), nothing, Dict{String, MeshCat.SceneTrees.SceneNode}(\"(1.0N0f8, 0.0N0f8, 0.0N0f8, 1.0N0f8)\" => MeshCat.SceneTrees.SceneNode(UInt8[0x83, 0xa6, 0x6f, 0x62, 0x6a, 0x65, 0x63, 0x74, 0x84, 0xaa  …  0x2c, 0x20, 0x31, 0x2e, 0x30, 0x4e, 0x30, 0x66, 0x38, 0x29], nothing, Dict{String, Vector{UInt8}}(\"visible\" => [0x84, 0xa8, 0x70, 0x72, 0x6f, 0x70, 0x65, 0x72, 0x74, 0x79  …  0x2c, 0x20, 0x31, 0x2e, 0x30, 0x4e, 0x30, 0x66, 0x38, 0x29]), nothing, Dict{String, MeshCat.SceneTrees.SceneNode}()))), \"154sphere\" => MeshCat.SceneTrees.SceneNode(nothing, UInt8[0x83, 0xa6, 0x6d, 0x61, 0x74, 0x72, 0x69, 0x78, 0xc7, 0x40  …  0x2f, 0x31, 0x35, 0x34, 0x73, 0x70, 0x68, 0x65, 0x72, 0x65], Dict{String, Vector{UInt8}}(\"scale\" => [0x84, 0xa8, 0x70, 0x72, 0x6f, 0x70, 0x65, 0x72, 0x74, 0x79  …  0x2f, 0x31, 0x35, 0x34, 0x73, 0x70, 0x68, 0x65, 0x72, 0x65]), nothing, Dict{String, MeshCat.SceneTrees.SceneNode}(\"(1.0N0f8, 0.0N0f8, 0.0N0f8, 1.0N0f8)\" => MeshCat.SceneTrees.SceneNode(UInt8[0x83, 0xa6, 0x6f, 0x62, 0x6a, 0x65, 0x63, 0x74, 0x84, 0xaa  …  0x2c, 0x20, 0x31, 0x2e, 0x30, 0x4e, 0x30, 0x66, 0x38, 0x29], nothing, Dict{String, Vector{UInt8}}(\"visible\" => [0x84, 0xa8, 0x70, 0x72, 0x6f, 0x70, 0x65, 0x72, 0x74, 0x79  …  0x2c, 0x20, 0x31, 0x2e, 0x30, 0x4e, 0x30, 0x66, 0x38, 0x29]), nothing, Dict{String, MeshCat.SceneTrees.SceneNode}()))), \"102sphere\" => MeshCat.SceneTrees.SceneNode(nothing, UInt8[0x83, 0xa6, 0x6d, 0x61, 0x74, 0x72, 0x69, 0x78, 0xc7, 0x40  …  0x2f, 0x31, 0x30, 0x32, 0x73, 0x70, 0x68, 0x65, 0x72, 0x65], Dict{String, Vector{UInt8}}(\"scale\" => [0x84, 0xa8, 0x70, 0x72, 0x6f, 0x70, 0x65, 0x72, 0x74, 0x79  …  0x2f, 0x31, 0x30, 0x32, 0x73, 0x70, 0x68, 0x65, 0x72, 0x65]), nothing, Dict{String, MeshCat.SceneTrees.SceneNode}(\"(1.0N0f8, 0.0N0f8, 0.0N0f8, 1.0N0f8)\" => MeshCat.SceneTrees.SceneNode(UInt8[0x83, 0xa6, 0x6f, 0x62, 0x6a, 0x65, 0x63, 0x74, 0x84, 0xaa  …  0x2c, 0x20, 0x31, 0x2e, 0x30, 0x4e, 0x30, 0x66, 0x38, 0x29], nothing, Dict{String, Vector{UInt8}}(\"visible\" => [0x84, 0xa8, 0x70, 0x72, 0x6f, 0x70, 0x65, 0x72, 0x74, 0x79  …  0x2c, 0x20, 0x31, 0x2e, 0x30, 0x4e, 0x30, 0x66, 0x38, 0x29]), nothing, Dict{String, MeshCat.SceneTrees.SceneNode}()))), \"64sphere\" => MeshCat.SceneTrees.SceneNode(nothing, UInt8[0x83, 0xa6, 0x6d, 0x61, 0x74, 0x72, 0x69, 0x78, 0xc7, 0x40  …  0x73, 0x2f, 0x36, 0x34, 0x73, 0x70, 0x68, 0x65, 0x72, 0x65], Dict{String, Vector{UInt8}}(\"scale\" => [0x84, 0xa8, 0x70, 0x72, 0x6f, 0x70, 0x65, 0x72, 0x74, 0x79  …  0x73, 0x2f, 0x36, 0x34, 0x73, 0x70, 0x68, 0x65, 0x72, 0x65]), nothing, Dict{String, MeshCat.SceneTrees.SceneNode}(\"(0.0N0f8, 1.0N0f8, 0.0N0f8, 1.0N0f8)\" => MeshCat.SceneTrees.SceneNode(UInt8[0x83, 0xa6, 0x6f, 0x62, 0x6a, 0x65, 0x63, 0x74, 0x84, 0xaa  …  0x2c, 0x20, 0x31, 0x2e, 0x30, 0x4e, 0x30, 0x66, 0x38, 0x29], nothing, Dict{String, Vector{UInt8}}(\"visible\" => [0x84, 0xa8, 0x70, 0x72, 0x6f, 0x70, 0x65, 0x72, 0x74, 0x79  …  0x2c, 0x20, 0x31, 0x2e, 0x30, 0x4e, 0x30, 0x66, 0x38, 0x29]), nothing, Dict{String, MeshCat.SceneTrees.SceneNode}())))…)), \"bbox_line_segments\" => MeshCat.SceneTrees.SceneNode(nothing, nothing, Dict{String, Vector{UInt8}}(), nothing, Dict{String, MeshCat.SceneTrees.SceneNode}(\"4\" => MeshCat.SceneTrees.SceneNode(UInt8[0x83, 0xa6, 0x6f, 0x62, 0x6a, 0x65, 0x63, 0x74, 0x84, 0xaa  …  0x73, 0x65, 0x67, 0x6d, 0x65, 0x6e, 0x74, 0x73, 0x2f, 0x34], nothing, Dict{String, Vector{UInt8}}(), nothing, Dict{String, MeshCat.SceneTrees.SceneNode}()), \"1\" => MeshCat.SceneTrees.SceneNode(UInt8[0x83, 0xa6, 0x6f, 0x62, 0x6a, 0x65, 0x63, 0x74, 0x84, 0xaa  …  0x73, 0x65, 0x67, 0x6d, 0x65, 0x6e, 0x74, 0x73, 0x2f, 0x31], nothing, Dict{String, Vector{UInt8}}(), nothing, Dict{String, MeshCat.SceneTrees.SceneNode}()), \"12\" => MeshCat.SceneTrees.SceneNode(UInt8[0x83, 0xa6, 0x6f, 0x62, 0x6a, 0x65, 0x63, 0x74, 0x84, 0xaa  …  0x65, 0x67, 0x6d, 0x65, 0x6e, 0x74, 0x73, 0x2f, 0x31, 0x32], nothing, Dict{String, Vector{UInt8}}(), nothing, Dict{String, MeshCat.SceneTrees.SceneNode}()), \"2\" => MeshCat.SceneTrees.SceneNode(UInt8[0x83, 0xa6, 0x6f, 0x62, 0x6a, 0x65, 0x63, 0x74, 0x84, 0xaa  …  0x73, 0x65, 0x67, 0x6d, 0x65, 0x6e, 0x74, 0x73, 0x2f, 0x32], nothing, Dict{String, Vector{UInt8}}(), nothing, Dict{String, MeshCat.SceneTrees.SceneNode}()), \"6\" => MeshCat.SceneTrees.SceneNode(UInt8[0x83, 0xa6, 0x6f, 0x62, 0x6a, 0x65, 0x63, 0x74, 0x84, 0xaa  …  0x73, 0x65, 0x67, 0x6d, 0x65, 0x6e, 0x74, 0x73, 0x2f, 0x36], nothing, Dict{String, Vector{UInt8}}(), nothing, Dict{String, MeshCat.SceneTrees.SceneNode}()), \"11\" => MeshCat.SceneTrees.SceneNode(UInt8[0x83, 0xa6, 0x6f, 0x62, 0x6a, 0x65, 0x63, 0x74, 0x84, 0xaa  …  0x65, 0x67, 0x6d, 0x65, 0x6e, 0x74, 0x73, 0x2f, 0x31, 0x31], nothing, Dict{String, Vector{UInt8}}(), nothing, Dict{String, MeshCat.SceneTrees.SceneNode}()), \"5\" => MeshCat.SceneTrees.SceneNode(UInt8[0x83, 0xa6, 0x6f, 0x62, 0x6a, 0x65, 0x63, 0x74, 0x84, 0xaa  …  0x73, 0x65, 0x67, 0x6d, 0x65, 0x6e, 0x74, 0x73, 0x2f, 0x35], nothing, Dict{String, Vector{UInt8}}(), nothing, Dict{String, MeshCat.SceneTrees.SceneNode}()), \"7\" => MeshCat.SceneTrees.SceneNode(UInt8[0x83, 0xa6, 0x6f, 0x62, 0x6a, 0x65, 0x63, 0x74, 0x84, 0xaa  …  0x73, 0x65, 0x67, 0x6d, 0x65, 0x6e, 0x74, 0x73, 0x2f, 0x37], nothing, Dict{String, Vector{UInt8}}(), nothing, Dict{String, MeshCat.SceneTrees.SceneNode}()), \"8\" => MeshCat.SceneTrees.SceneNode(UInt8[0x83, 0xa6, 0x6f, 0x62, 0x6a, 0x65, 0x63, 0x74, 0x84, 0xaa  …  0x73, 0x65, 0x67, 0x6d, 0x65, 0x6e, 0x74, 0x73, 0x2f, 0x38], nothing, Dict{String, Vector{UInt8}}(), nothing, Dict{String, MeshCat.SceneTrees.SceneNode}()), \"10\" => MeshCat.SceneTrees.SceneNode(UInt8[0x83, 0xa6, 0x6f, 0x62, 0x6a, 0x65, 0x63, 0x74, 0x84, 0xaa  …  0x65, 0x67, 0x6d, 0x65, 0x6e, 0x74, 0x73, 0x2f, 0x31, 0x30], nothing, Dict{String, Vector{UInt8}}(), nothing, Dict{String, MeshCat.SceneTrees.SceneNode}())…)))), \"Axes\" => MeshCat.SceneTrees.SceneNode(nothing, nothing, Dict{String, Vector{UInt8}}(), nothing, Dict{String, MeshCat.SceneTrees.SceneNode}(\"<object>\" => MeshCat.SceneTrees.SceneNode(UInt8[0x83, 0xa6, 0x6f, 0x62, 0x6a, 0x65, 0x63, 0x74, 0x84, 0xaa  …  0x73, 0x2f, 0x3c, 0x6f, 0x62, 0x6a, 0x65, 0x63, 0x74, 0x3e], UInt8[0x83, 0xa6, 0x6d, 0x61, 0x74, 0x72, 0x69, 0x78, 0xc7, 0x40  …  0x73, 0x2f, 0x3c, 0x6f, 0x62, 0x6a, 0x65, 0x63, 0x74, 0x3e], Dict{String, Vector{UInt8}}(), nothing, Dict{String, MeshCat.SceneTrees.SceneNode}()))))), Set{HTTP.WebSockets.WebSocket}(), ip\"127.0.0.1\", 8702))), WebIO.Node{WebIO.DOM}(WebIO.DOM(:html, :div), Any[WebIO.Scope(WebIO.Node{WebIO.DOM}(WebIO.DOM(:html, :div), Any[], Dict{Symbol, Any}(:id => \"container\")), Dict{String, Tuple{Observables.AbstractObservable, Union{Nothing, Bool}}}(\"value\" => (Observable(\"\\\\;\\\\;\"), nothing)), Set{String}(), nothing, WebIO.Asset[WebIO.Asset(\"js\", nothing, \"/home/dushya/.julia/packages/InteractBase/LJXv3/src/../assets/katex.min.js\"), WebIO.Asset(\"css\", nothing, \"/home/dushya/.julia/packages/InteractBase/LJXv3/src/../assets/katex.min.css\")], Dict{Any, Any}(\"value\" => Any[WebIO.JSString(\"(function (txt){return this.k.render(txt,this.container)})\")]), WebIO.ConnectionPool(Channel{Any}(32), Set{WebIO.AbstractConnection}(), Base.GenericCondition{ReentrantLock}(Base.IntrusiveLinkedList{Task}(Task (runnable) @0x00007fb7f3520e20, Task (runnable) @0x00007fb7f3520e20), ReentrantLock(nothing, 0x00000000, 0x00, Base.GenericCondition{Base.Threads.SpinLock}(Base.IntrusiveLinkedList{Task}(nothing, nothing), Base.Threads.SpinLock(0)), (8, 140426959979264, 140426959979344)))), WebIO.JSString[WebIO.JSString(\"function () {\\n    var handler = ((function (k){this.k=k; this.container=this.dom.querySelector(\\\"#container\\\"); return k.render(\\\"\\\\\\\\;\\\\\\\\;\\\",this.container)}));\\n    (WebIO.importBlock({\\\"data\\\":[{\\\"name\\\":null,\\\"type\\\":\\\"js\\\",\\\"url\\\":\\\"/assetserver/dd22ed1bf1896c2748f3fe616ce0b838adc895c1-katex.min.js\\\"},{\\\"name\\\":null,\\\"type\\\":\\\"css\\\",\\\"url\\\":\\\"/assetserver/46517a424aa5e6cffc1360d7e0848b601c584ee3-katex.min.css\\\"}],\\\"type\\\":\\\"async_block\\\"})).then((imports) => handler.apply(this, imports));\\n}\\n\")])], Dict{Symbol, Any}(:className => \"interact-widget\")), WebIO.Node{WebIO.DOM}(WebIO.DOM(:html, :div), Any[Observable(Plot{Plots.GRBackend() n=2})], Dict{Symbol, Any}(:style => Dict(\"display\" => \"flex\", \"flex-direction\" => \"column\")))], Dict{Symbol, Any}(:style => Dict(\"display\" => \"flex\", \"flex-direction\" => \"row\")))], Dict{Symbol, Any}(:style => Dict(\"display\" => \"flex\", \"flex-direction\" => \"column\")))"
      ]
     },
     "execution_count": 14,
     "metadata": {
      "application/vnd.webio.node+json": {
       "kernelId": "bfd23f60-6777-48ee-aab5-9a8fc59c1d3f"
      }
     },
     "output_type": "execute_result"
    }
   ],
   "source": [
    "create_interactive_app(model, initialiser= initialiser!,\n",
    "    step_rule=step_rule!,\n",
    "    model_controls=[(:min_alike, \"slider\", 1:12)], \n",
    "    agent_plots=Dict(\n",
    "        \"happy\"=> agent-> agent.mood == happy, \n",
    "        \"sad\"=> agent-> agent.mood == sad),\n",
    "    frames=200)   "
   ]
  },
  {
   "cell_type": "markdown",
   "metadata": {},
   "source": [
    "## Step 5: Fetch Data \n",
    "\n",
    "In this step we fetch data of number of happy and sad agents at each time step as a dataframe with following function. "
   ]
  },
  {
   "cell_type": "code",
   "execution_count": 15,
   "metadata": {
    "scrolled": true
   },
   "outputs": [
    {
     "data": {
      "image/png": "[encoded data removed]",
      "image/svg+xml": [
       "<?xml version=\"1.0\" encoding=\"utf-8\"?>\n",
       "<svg xmlns=\"http://www.w3.org/2000/svg\" xmlns:xlink=\"http://www.w3.org/1999/xlink\" width=\"600\" height=\"400\" viewBox=\"0 0 2400 1600\">\n",
       "<defs>\n",
       "  <clipPath id=\"clip710\">\n",
       "    <rect x=\"0\" y=\"0\" width=\"2400\" height=\"1600\"/>\n",
       "  </clipPath>\n",
       "</defs>\n",
       "<path clip-path=\"url(#clip710)\" d=\"M0 1600 L2400 1600 L2400 0 L0 0  Z\" fill=\"#ffffff\" fill-rule=\"evenodd\" fill-opacity=\"1\"/>\n",
       "<defs>\n",
       "  <clipPath id=\"clip711\">\n",
       "    <rect x=\"480\" y=\"0\" width=\"1681\" height=\"1600\"/>\n",
       "  </clipPath>\n",
       "</defs>\n",
       "<path clip-path=\"url(#clip710)\" d=\"M234.125 1423.18 L2352.76 1423.18 L2352.76 47.2441 L234.125 47.2441  Z\" fill=\"#ffffff\" fill-rule=\"evenodd\" fill-opacity=\"1\"/>\n",
       "<defs>\n",
       "  <clipPath id=\"clip712\">\n",
       "    <rect x=\"234\" y=\"47\" width=\"2120\" height=\"1377\"/>\n",
       "  </clipPath>\n",
       "</defs>\n",
       "<polyline clip-path=\"url(#clip712)\" style=\"stroke:#000000; stroke-linecap:round; stroke-linejoin:round; stroke-width:2; stroke-opacity:0.1; fill:none\" points=\"284.093,1423.18 284.093,47.2441 \"/>\n",
       "<polyline clip-path=\"url(#clip712)\" style=\"stroke:#000000; stroke-linecap:round; stroke-linejoin:round; stroke-width:2; stroke-opacity:0.1; fill:none\" points=\"783.77,1423.18 783.77,47.2441 \"/>\n",
       "<polyline clip-path=\"url(#clip712)\" style=\"stroke:#000000; stroke-linecap:round; stroke-linejoin:round; stroke-width:2; stroke-opacity:0.1; fill:none\" points=\"1283.45,1423.18 1283.45,47.2441 \"/>\n",
       "<polyline clip-path=\"url(#clip712)\" style=\"stroke:#000000; stroke-linecap:round; stroke-linejoin:round; stroke-width:2; stroke-opacity:0.1; fill:none\" points=\"1783.12,1423.18 1783.12,47.2441 \"/>\n",
       "<polyline clip-path=\"url(#clip712)\" style=\"stroke:#000000; stroke-linecap:round; stroke-linejoin:round; stroke-width:2; stroke-opacity:0.1; fill:none\" points=\"2282.8,1423.18 2282.8,47.2441 \"/>\n",
       "<polyline clip-path=\"url(#clip710)\" style=\"stroke:#000000; stroke-linecap:round; stroke-linejoin:round; stroke-width:4; stroke-opacity:1; fill:none\" points=\"234.125,1423.18 2352.76,1423.18 \"/>\n",
       "<polyline clip-path=\"url(#clip710)\" style=\"stroke:#000000; stroke-linecap:round; stroke-linejoin:round; stroke-width:4; stroke-opacity:1; fill:none\" points=\"284.093,1423.18 284.093,1404.28 \"/>\n",
       "<polyline clip-path=\"url(#clip710)\" style=\"stroke:#000000; stroke-linecap:round; stroke-linejoin:round; stroke-width:4; stroke-opacity:1; fill:none\" points=\"783.77,1423.18 783.77,1404.28 \"/>\n",
       "<polyline clip-path=\"url(#clip710)\" style=\"stroke:#000000; stroke-linecap:round; stroke-linejoin:round; stroke-width:4; stroke-opacity:1; fill:none\" points=\"1283.45,1423.18 1283.45,1404.28 \"/>\n",
       "<polyline clip-path=\"url(#clip710)\" style=\"stroke:#000000; stroke-linecap:round; stroke-linejoin:round; stroke-width:4; stroke-opacity:1; fill:none\" points=\"1783.12,1423.18 1783.12,1404.28 \"/>\n",
       "<polyline clip-path=\"url(#clip710)\" style=\"stroke:#000000; stroke-linecap:round; stroke-linejoin:round; stroke-width:4; stroke-opacity:1; fill:none\" points=\"2282.8,1423.18 2282.8,1404.28 \"/>\n",
       "<path clip-path=\"url(#clip710)\" d=\"M284.093 1454.1 Q280.482 1454.1 278.653 1457.66 Q276.848 1461.2 276.848 1468.33 Q276.848 1475.44 278.653 1479.01 Q280.482 1482.55 284.093 1482.55 Q287.727 1482.55 289.533 1479.01 Q291.362 1475.44 291.362 1468.33 Q291.362 1461.2 289.533 1457.66 Q287.727 1454.1 284.093 1454.1 M284.093 1450.39 Q289.903 1450.39 292.959 1455 Q296.038 1459.58 296.038 1468.33 Q296.038 1477.06 292.959 1481.67 Q289.903 1486.25 284.093 1486.25 Q278.283 1486.25 275.204 1481.67 Q272.149 1477.06 272.149 1468.33 Q272.149 1459.58 275.204 1455 Q278.283 1450.39 284.093 1450.39 Z\" fill=\"#000000\" fill-rule=\"nonzero\" fill-opacity=\"1\" /><path clip-path=\"url(#clip710)\" d=\"M758.469 1451.02 L776.826 1451.02 L776.826 1454.96 L762.752 1454.96 L762.752 1463.43 Q763.77 1463.08 764.789 1462.92 Q765.807 1462.73 766.826 1462.73 Q772.613 1462.73 775.992 1465.9 Q779.372 1469.08 779.372 1474.49 Q779.372 1480.07 775.9 1483.17 Q772.428 1486.25 766.108 1486.25 Q763.932 1486.25 761.664 1485.88 Q759.418 1485.51 757.011 1484.77 L757.011 1480.07 Q759.094 1481.2 761.317 1481.76 Q763.539 1482.32 766.016 1482.32 Q770.02 1482.32 772.358 1480.21 Q774.696 1478.1 774.696 1474.49 Q774.696 1470.88 772.358 1468.77 Q770.02 1466.67 766.016 1466.67 Q764.141 1466.67 762.266 1467.08 Q760.414 1467.5 758.469 1468.38 L758.469 1451.02 Z\" fill=\"#000000\" fill-rule=\"nonzero\" fill-opacity=\"1\" /><path clip-path=\"url(#clip710)\" d=\"M798.585 1454.1 Q794.974 1454.1 793.145 1457.66 Q791.34 1461.2 791.34 1468.33 Q791.34 1475.44 793.145 1479.01 Q794.974 1482.55 798.585 1482.55 Q802.219 1482.55 804.025 1479.01 Q805.853 1475.44 805.853 1468.33 Q805.853 1461.2 804.025 1457.66 Q802.219 1454.1 798.585 1454.1 M798.585 1450.39 Q804.395 1450.39 807.451 1455 Q810.529 1459.58 810.529 1468.33 Q810.529 1477.06 807.451 1481.67 Q804.395 1486.25 798.585 1486.25 Q792.775 1486.25 789.696 1481.67 Q786.64 1477.06 786.64 1468.33 Q786.64 1459.58 789.696 1455 Q792.775 1450.39 798.585 1450.39 Z\" fill=\"#000000\" fill-rule=\"nonzero\" fill-opacity=\"1\" /><path clip-path=\"url(#clip710)\" d=\"M1243.05 1481.64 L1250.69 1481.64 L1250.69 1455.28 L1242.38 1456.95 L1242.38 1452.69 L1250.65 1451.02 L1255.32 1451.02 L1255.32 1481.64 L1262.96 1481.64 L1262.96 1485.58 L1243.05 1485.58 L1243.05 1481.64 Z\" fill=\"#000000\" fill-rule=\"nonzero\" fill-opacity=\"1\" /><path clip-path=\"url(#clip710)\" d=\"M1282.41 1454.1 Q1278.79 1454.1 1276.97 1457.66 Q1275.16 1461.2 1275.16 1468.33 Q1275.16 1475.44 1276.97 1479.01 Q1278.79 1482.55 1282.41 1482.55 Q1286.04 1482.55 1287.85 1479.01 Q1289.67 1475.44 1289.67 1468.33 Q1289.67 1461.2 1287.85 1457.66 Q1286.04 1454.1 1282.41 1454.1 M1282.41 1450.39 Q1288.22 1450.39 1291.27 1455 Q1294.35 1459.58 1294.35 1468.33 Q1294.35 1477.06 1291.27 1481.67 Q1288.22 1486.25 1282.41 1486.25 Q1276.6 1486.25 1273.52 1481.67 Q1270.46 1477.06 1270.46 1468.33 Q1270.46 1459.58 1273.52 1455 Q1276.6 1450.39 1282.41 1450.39 Z\" fill=\"#000000\" fill-rule=\"nonzero\" fill-opacity=\"1\" /><path clip-path=\"url(#clip710)\" d=\"M1312.57 1454.1 Q1308.96 1454.1 1307.13 1457.66 Q1305.32 1461.2 1305.32 1468.33 Q1305.32 1475.44 1307.13 1479.01 Q1308.96 1482.55 1312.57 1482.55 Q1316.2 1482.55 1318.01 1479.01 Q1319.84 1475.44 1319.84 1468.33 Q1319.84 1461.2 1318.01 1457.66 Q1316.2 1454.1 1312.57 1454.1 M1312.57 1450.39 Q1318.38 1450.39 1321.43 1455 Q1324.51 1459.58 1324.51 1468.33 Q1324.51 1477.06 1321.43 1481.67 Q1318.38 1486.25 1312.57 1486.25 Q1306.76 1486.25 1303.68 1481.67 Q1300.62 1477.06 1300.62 1468.33 Q1300.62 1459.58 1303.68 1455 Q1306.76 1450.39 1312.57 1450.39 Z\" fill=\"#000000\" fill-rule=\"nonzero\" fill-opacity=\"1\" /><path clip-path=\"url(#clip710)\" d=\"M1742.73 1481.64 L1750.37 1481.64 L1750.37 1455.28 L1742.06 1456.95 L1742.06 1452.69 L1750.32 1451.02 L1755 1451.02 L1755 1481.64 L1762.64 1481.64 L1762.64 1485.58 L1742.73 1485.58 L1742.73 1481.64 Z\" fill=\"#000000\" fill-rule=\"nonzero\" fill-opacity=\"1\" /><path clip-path=\"url(#clip710)\" d=\"M1772.13 1451.02 L1790.49 1451.02 L1790.49 1454.96 L1776.41 1454.96 L1776.41 1463.43 Q1777.43 1463.08 1778.45 1462.92 Q1779.47 1462.73 1780.49 1462.73 Q1786.27 1462.73 1789.65 1465.9 Q1793.03 1469.08 1793.03 1474.49 Q1793.03 1480.07 1789.56 1483.17 Q1786.09 1486.25 1779.77 1486.25 Q1777.59 1486.25 1775.32 1485.88 Q1773.08 1485.51 1770.67 1484.77 L1770.67 1480.07 Q1772.75 1481.2 1774.98 1481.76 Q1777.2 1482.32 1779.68 1482.32 Q1783.68 1482.32 1786.02 1480.21 Q1788.36 1478.1 1788.36 1474.49 Q1788.36 1470.88 1786.02 1468.77 Q1783.68 1466.67 1779.68 1466.67 Q1777.8 1466.67 1775.93 1467.08 Q1774.07 1467.5 1772.13 1468.38 L1772.13 1451.02 Z\" fill=\"#000000\" fill-rule=\"nonzero\" fill-opacity=\"1\" /><path clip-path=\"url(#clip710)\" d=\"M1812.24 1454.1 Q1808.63 1454.1 1806.8 1457.66 Q1805 1461.2 1805 1468.33 Q1805 1475.44 1806.8 1479.01 Q1808.63 1482.55 1812.24 1482.55 Q1815.88 1482.55 1817.68 1479.01 Q1819.51 1475.44 1819.51 1468.33 Q1819.51 1461.2 1817.68 1457.66 Q1815.88 1454.1 1812.24 1454.1 M1812.24 1450.39 Q1818.05 1450.39 1821.11 1455 Q1824.19 1459.58 1824.19 1468.33 Q1824.19 1477.06 1821.11 1481.67 Q1818.05 1486.25 1812.24 1486.25 Q1806.43 1486.25 1803.36 1481.67 Q1800.3 1477.06 1800.3 1468.33 Q1800.3 1459.58 1803.36 1455 Q1806.43 1450.39 1812.24 1450.39 Z\" fill=\"#000000\" fill-rule=\"nonzero\" fill-opacity=\"1\" /><path clip-path=\"url(#clip710)\" d=\"M2246.49 1481.64 L2262.81 1481.64 L2262.81 1485.58 L2240.87 1485.58 L2240.87 1481.64 Q2243.53 1478.89 2248.11 1474.26 Q2252.72 1469.61 2253.9 1468.27 Q2256.15 1465.74 2257.03 1464.01 Q2257.93 1462.25 2257.93 1460.56 Q2257.93 1457.8 2255.98 1456.07 Q2254.06 1454.33 2250.96 1454.33 Q2248.76 1454.33 2246.31 1455.09 Q2243.88 1455.86 2241.1 1457.41 L2241.1 1452.69 Q2243.92 1451.55 2246.38 1450.97 Q2248.83 1450.39 2250.87 1450.39 Q2256.24 1450.39 2259.43 1453.08 Q2262.63 1455.77 2262.63 1460.26 Q2262.63 1462.39 2261.82 1464.31 Q2261.03 1466.2 2258.92 1468.8 Q2258.35 1469.47 2255.24 1472.69 Q2252.14 1475.88 2246.49 1481.64 Z\" fill=\"#000000\" fill-rule=\"nonzero\" fill-opacity=\"1\" /><path clip-path=\"url(#clip710)\" d=\"M2282.63 1454.1 Q2279.02 1454.1 2277.19 1457.66 Q2275.38 1461.2 2275.38 1468.33 Q2275.38 1475.44 2277.19 1479.01 Q2279.02 1482.55 2282.63 1482.55 Q2286.26 1482.55 2288.07 1479.01 Q2289.9 1475.44 2289.9 1468.33 Q2289.9 1461.2 2288.07 1457.66 Q2286.26 1454.1 2282.63 1454.1 M2282.63 1450.39 Q2288.44 1450.39 2291.49 1455 Q2294.57 1459.58 2294.57 1468.33 Q2294.57 1477.06 2291.49 1481.67 Q2288.44 1486.25 2282.63 1486.25 Q2276.82 1486.25 2273.74 1481.67 Q2270.68 1477.06 2270.68 1468.33 Q2270.68 1459.58 2273.74 1455 Q2276.82 1450.39 2282.63 1450.39 Z\" fill=\"#000000\" fill-rule=\"nonzero\" fill-opacity=\"1\" /><path clip-path=\"url(#clip710)\" d=\"M2312.79 1454.1 Q2309.18 1454.1 2307.35 1457.66 Q2305.54 1461.2 2305.54 1468.33 Q2305.54 1475.44 2307.35 1479.01 Q2309.18 1482.55 2312.79 1482.55 Q2316.42 1482.55 2318.23 1479.01 Q2320.06 1475.44 2320.06 1468.33 Q2320.06 1461.2 2318.23 1457.66 Q2316.42 1454.1 2312.79 1454.1 M2312.79 1450.39 Q2318.6 1450.39 2321.66 1455 Q2324.73 1459.58 2324.73 1468.33 Q2324.73 1477.06 2321.66 1481.67 Q2318.6 1486.25 2312.79 1486.25 Q2306.98 1486.25 2303.9 1481.67 Q2300.85 1477.06 2300.85 1468.33 Q2300.85 1459.58 2303.9 1455 Q2306.98 1450.39 2312.79 1450.39 Z\" fill=\"#000000\" fill-rule=\"nonzero\" fill-opacity=\"1\" /><path clip-path=\"url(#clip710)\" d=\"M1230.48 1522.27 L1230.48 1532.4 L1242.55 1532.4 L1242.55 1536.95 L1230.48 1536.95 L1230.48 1556.3 Q1230.48 1560.66 1231.66 1561.9 Q1232.87 1563.14 1236.53 1563.14 L1242.55 1563.14 L1242.55 1568.04 L1236.53 1568.04 Q1229.75 1568.04 1227.17 1565.53 Q1224.6 1562.98 1224.6 1556.3 L1224.6 1536.95 L1220.3 1536.95 L1220.3 1532.4 L1224.6 1532.4 L1224.6 1522.27 L1230.48 1522.27 Z\" fill=\"#000000\" fill-rule=\"nonzero\" fill-opacity=\"1\" /><path clip-path=\"url(#clip710)\" d=\"M1250.25 1532.4 L1256.11 1532.4 L1256.11 1568.04 L1250.25 1568.04 L1250.25 1532.4 M1250.25 1518.52 L1256.11 1518.52 L1256.11 1525.93 L1250.25 1525.93 L1250.25 1518.52 Z\" fill=\"#000000\" fill-rule=\"nonzero\" fill-opacity=\"1\" /><path clip-path=\"url(#clip710)\" d=\"M1294.01 1533.76 L1294.01 1539.24 Q1291.53 1537.87 1289.02 1537.2 Q1286.53 1536.5 1283.99 1536.5 Q1278.29 1536.5 1275.14 1540.13 Q1271.99 1543.73 1271.99 1550.25 Q1271.99 1556.78 1275.14 1560.4 Q1278.29 1564 1283.99 1564 Q1286.53 1564 1289.02 1563.33 Q1291.53 1562.63 1294.01 1561.26 L1294.01 1566.68 Q1291.56 1567.82 1288.92 1568.39 Q1286.31 1568.97 1283.35 1568.97 Q1275.3 1568.97 1270.56 1563.91 Q1265.81 1558.85 1265.81 1550.25 Q1265.81 1541.53 1270.59 1536.53 Q1275.39 1531.54 1283.73 1531.54 Q1286.44 1531.54 1289.02 1532.11 Q1291.59 1532.65 1294.01 1533.76 Z\" fill=\"#000000\" fill-rule=\"nonzero\" fill-opacity=\"1\" /><path clip-path=\"url(#clip710)\" d=\"M1303.98 1518.52 L1309.86 1518.52 L1309.86 1547.77 L1327.34 1532.4 L1334.82 1532.4 L1315.91 1549.07 L1335.61 1568.04 L1327.97 1568.04 L1309.86 1550.63 L1309.86 1568.04 L1303.98 1568.04 L1303.98 1518.52 Z\" fill=\"#000000\" fill-rule=\"nonzero\" fill-opacity=\"1\" /><path clip-path=\"url(#clip710)\" d=\"M1364.67 1533.45 L1364.67 1538.98 Q1362.19 1537.71 1359.52 1537.07 Q1356.84 1536.44 1353.98 1536.44 Q1349.62 1536.44 1347.42 1537.77 Q1345.26 1539.11 1345.26 1541.79 Q1345.26 1543.82 1346.82 1545 Q1348.38 1546.15 1353.09 1547.2 L1355.09 1547.64 Q1361.33 1548.98 1363.94 1551.43 Q1366.58 1553.85 1366.58 1558.21 Q1366.58 1563.17 1362.64 1566.07 Q1358.72 1568.97 1351.85 1568.97 Q1348.98 1568.97 1345.86 1568.39 Q1342.77 1567.85 1339.34 1566.74 L1339.34 1560.69 Q1342.58 1562.38 1345.73 1563.24 Q1348.89 1564.07 1351.97 1564.07 Q1356.11 1564.07 1358.34 1562.66 Q1360.57 1561.23 1360.57 1558.65 Q1360.57 1556.27 1358.94 1554.99 Q1357.35 1553.72 1351.91 1552.54 L1349.87 1552.07 Q1344.43 1550.92 1342.01 1548.56 Q1339.59 1546.18 1339.59 1542.04 Q1339.59 1537.01 1343.16 1534.27 Q1346.72 1531.54 1353.28 1531.54 Q1356.52 1531.54 1359.39 1532.01 Q1362.25 1532.49 1364.67 1533.45 Z\" fill=\"#000000\" fill-rule=\"nonzero\" fill-opacity=\"1\" /><polyline clip-path=\"url(#clip712)\" style=\"stroke:#000000; stroke-linecap:round; stroke-linejoin:round; stroke-width:2; stroke-opacity:0.1; fill:none\" points=\"234.125,1384.24 2352.76,1384.24 \"/>\n",
       "<polyline clip-path=\"url(#clip712)\" style=\"stroke:#000000; stroke-linecap:round; stroke-linejoin:round; stroke-width:2; stroke-opacity:0.1; fill:none\" points=\"234.125,1059.73 2352.76,1059.73 \"/>\n",
       "<polyline clip-path=\"url(#clip712)\" style=\"stroke:#000000; stroke-linecap:round; stroke-linejoin:round; stroke-width:2; stroke-opacity:0.1; fill:none\" points=\"234.125,735.212 2352.76,735.212 \"/>\n",
       "<polyline clip-path=\"url(#clip712)\" style=\"stroke:#000000; stroke-linecap:round; stroke-linejoin:round; stroke-width:2; stroke-opacity:0.1; fill:none\" points=\"234.125,410.699 2352.76,410.699 \"/>\n",
       "<polyline clip-path=\"url(#clip712)\" style=\"stroke:#000000; stroke-linecap:round; stroke-linejoin:round; stroke-width:2; stroke-opacity:0.1; fill:none\" points=\"234.125,86.1857 2352.76,86.1857 \"/>\n",
       "<polyline clip-path=\"url(#clip710)\" style=\"stroke:#000000; stroke-linecap:round; stroke-linejoin:round; stroke-width:4; stroke-opacity:1; fill:none\" points=\"234.125,1423.18 234.125,47.2441 \"/>\n",
       "<polyline clip-path=\"url(#clip710)\" style=\"stroke:#000000; stroke-linecap:round; stroke-linejoin:round; stroke-width:4; stroke-opacity:1; fill:none\" points=\"234.125,1384.24 253.023,1384.24 \"/>\n",
       "<polyline clip-path=\"url(#clip710)\" style=\"stroke:#000000; stroke-linecap:round; stroke-linejoin:round; stroke-width:4; stroke-opacity:1; fill:none\" points=\"234.125,1059.73 253.023,1059.73 \"/>\n",
       "<polyline clip-path=\"url(#clip710)\" style=\"stroke:#000000; stroke-linecap:round; stroke-linejoin:round; stroke-width:4; stroke-opacity:1; fill:none\" points=\"234.125,735.212 253.023,735.212 \"/>\n",
       "<polyline clip-path=\"url(#clip710)\" style=\"stroke:#000000; stroke-linecap:round; stroke-linejoin:round; stroke-width:4; stroke-opacity:1; fill:none\" points=\"234.125,410.699 253.023,410.699 \"/>\n",
       "<polyline clip-path=\"url(#clip710)\" style=\"stroke:#000000; stroke-linecap:round; stroke-linejoin:round; stroke-width:4; stroke-opacity:1; fill:none\" points=\"234.125,86.1857 253.023,86.1857 \"/>\n",
       "<path clip-path=\"url(#clip710)\" d=\"M186.181 1370.04 Q182.57 1370.04 180.741 1373.6 Q178.936 1377.14 178.936 1384.27 Q178.936 1391.38 180.741 1394.94 Q182.57 1398.49 186.181 1398.49 Q189.815 1398.49 191.621 1394.94 Q193.45 1391.38 193.45 1384.27 Q193.45 1377.14 191.621 1373.6 Q189.815 1370.04 186.181 1370.04 M186.181 1366.33 Q191.991 1366.33 195.047 1370.94 Q198.125 1375.52 198.125 1384.27 Q198.125 1393 195.047 1397.61 Q191.991 1402.19 186.181 1402.19 Q180.371 1402.19 177.292 1397.61 Q174.237 1393 174.237 1384.27 Q174.237 1375.52 177.292 1370.94 Q180.371 1366.33 186.181 1366.33 Z\" fill=\"#000000\" fill-rule=\"nonzero\" fill-opacity=\"1\" /><path clip-path=\"url(#clip710)\" d=\"M146.066 1042.45 L164.422 1042.45 L164.422 1046.38 L150.348 1046.38 L150.348 1054.85 Q151.366 1054.51 152.385 1054.34 Q153.403 1054.16 154.422 1054.16 Q160.209 1054.16 163.589 1057.33 Q166.968 1060.5 166.968 1065.92 Q166.968 1071.5 163.496 1074.6 Q160.024 1077.68 153.704 1077.68 Q151.528 1077.68 149.26 1077.31 Q147.015 1076.94 144.607 1076.19 L144.607 1071.5 Q146.691 1072.63 148.913 1073.19 Q151.135 1073.74 153.612 1073.74 Q157.616 1073.74 159.954 1071.63 Q162.292 1069.53 162.292 1065.92 Q162.292 1062.31 159.954 1060.2 Q157.616 1058.09 153.612 1058.09 Q151.737 1058.09 149.862 1058.51 Q148.01 1058.93 146.066 1059.81 L146.066 1042.45 Z\" fill=\"#000000\" fill-rule=\"nonzero\" fill-opacity=\"1\" /><path clip-path=\"url(#clip710)\" d=\"M186.181 1045.52 Q182.57 1045.52 180.741 1049.09 Q178.936 1052.63 178.936 1059.76 Q178.936 1066.87 180.741 1070.43 Q182.57 1073.97 186.181 1073.97 Q189.815 1073.97 191.621 1070.43 Q193.45 1066.87 193.45 1059.76 Q193.45 1052.63 191.621 1049.09 Q189.815 1045.52 186.181 1045.52 M186.181 1041.82 Q191.991 1041.82 195.047 1046.43 Q198.125 1051.01 198.125 1059.76 Q198.125 1068.49 195.047 1073.09 Q191.991 1077.68 186.181 1077.68 Q180.371 1077.68 177.292 1073.09 Q174.237 1068.49 174.237 1059.76 Q174.237 1051.01 177.292 1046.43 Q180.371 1041.82 186.181 1041.82 Z\" fill=\"#000000\" fill-rule=\"nonzero\" fill-opacity=\"1\" /><path clip-path=\"url(#clip710)\" d=\"M116.668 748.557 L124.306 748.557 L124.306 722.191 L115.996 723.858 L115.996 719.599 L124.26 717.932 L128.936 717.932 L128.936 748.557 L136.575 748.557 L136.575 752.492 L116.668 752.492 L116.668 748.557 Z\" fill=\"#000000\" fill-rule=\"nonzero\" fill-opacity=\"1\" /><path clip-path=\"url(#clip710)\" d=\"M156.019 721.011 Q152.408 721.011 150.579 724.575 Q148.774 728.117 148.774 735.247 Q148.774 742.353 150.579 745.918 Q152.408 749.46 156.019 749.46 Q159.653 749.46 161.459 745.918 Q163.288 742.353 163.288 735.247 Q163.288 728.117 161.459 724.575 Q159.653 721.011 156.019 721.011 M156.019 717.307 Q161.829 717.307 164.885 721.913 Q167.964 726.497 167.964 735.247 Q167.964 743.973 164.885 748.58 Q161.829 753.163 156.019 753.163 Q150.209 753.163 147.13 748.58 Q144.075 743.973 144.075 735.247 Q144.075 726.497 147.13 721.913 Q150.209 717.307 156.019 717.307 Z\" fill=\"#000000\" fill-rule=\"nonzero\" fill-opacity=\"1\" /><path clip-path=\"url(#clip710)\" d=\"M186.181 721.011 Q182.57 721.011 180.741 724.575 Q178.936 728.117 178.936 735.247 Q178.936 742.353 180.741 745.918 Q182.57 749.46 186.181 749.46 Q189.815 749.46 191.621 745.918 Q193.45 742.353 193.45 735.247 Q193.45 728.117 191.621 724.575 Q189.815 721.011 186.181 721.011 M186.181 717.307 Q191.991 717.307 195.047 721.913 Q198.125 726.497 198.125 735.247 Q198.125 743.973 195.047 748.58 Q191.991 753.163 186.181 753.163 Q180.371 753.163 177.292 748.58 Q174.237 743.973 174.237 735.247 Q174.237 726.497 177.292 721.913 Q180.371 717.307 186.181 717.307 Z\" fill=\"#000000\" fill-rule=\"nonzero\" fill-opacity=\"1\" /><path clip-path=\"url(#clip710)\" d=\"M116.668 424.044 L124.306 424.044 L124.306 397.678 L115.996 399.345 L115.996 395.085 L124.26 393.419 L128.936 393.419 L128.936 424.044 L136.575 424.044 L136.575 427.979 L116.668 427.979 L116.668 424.044 Z\" fill=\"#000000\" fill-rule=\"nonzero\" fill-opacity=\"1\" /><path clip-path=\"url(#clip710)\" d=\"M146.066 393.419 L164.422 393.419 L164.422 397.354 L150.348 397.354 L150.348 405.826 Q151.366 405.479 152.385 405.317 Q153.403 405.132 154.422 405.132 Q160.209 405.132 163.589 408.303 Q166.968 411.474 166.968 416.891 Q166.968 422.47 163.496 425.571 Q160.024 428.65 153.704 428.65 Q151.528 428.65 149.26 428.28 Q147.015 427.909 144.607 427.169 L144.607 422.47 Q146.691 423.604 148.913 424.159 Q151.135 424.715 153.612 424.715 Q157.616 424.715 159.954 422.608 Q162.292 420.502 162.292 416.891 Q162.292 413.28 159.954 411.173 Q157.616 409.067 153.612 409.067 Q151.737 409.067 149.862 409.484 Q148.01 409.9 146.066 410.78 L146.066 393.419 Z\" fill=\"#000000\" fill-rule=\"nonzero\" fill-opacity=\"1\" /><path clip-path=\"url(#clip710)\" d=\"M186.181 396.498 Q182.57 396.498 180.741 400.062 Q178.936 403.604 178.936 410.734 Q178.936 417.84 180.741 421.405 Q182.57 424.946 186.181 424.946 Q189.815 424.946 191.621 421.405 Q193.45 417.84 193.45 410.734 Q193.45 403.604 191.621 400.062 Q189.815 396.498 186.181 396.498 M186.181 392.794 Q191.991 392.794 195.047 397.4 Q198.125 401.984 198.125 410.734 Q198.125 419.46 195.047 424.067 Q191.991 428.65 186.181 428.65 Q180.371 428.65 177.292 424.067 Q174.237 419.46 174.237 410.734 Q174.237 401.984 177.292 397.4 Q180.371 392.794 186.181 392.794 Z\" fill=\"#000000\" fill-rule=\"nonzero\" fill-opacity=\"1\" /><path clip-path=\"url(#clip710)\" d=\"M119.885 99.5305 L136.204 99.5305 L136.204 103.466 L114.26 103.466 L114.26 99.5305 Q116.922 96.7759 121.505 92.1463 Q126.112 87.4935 127.292 86.151 Q129.538 83.6278 130.417 81.8917 Q131.32 80.1325 131.32 78.4427 Q131.32 75.688 129.376 73.9519 Q127.455 72.2158 124.353 72.2158 Q122.154 72.2158 119.7 72.9797 Q117.269 73.7436 114.492 75.2945 L114.492 70.5723 Q117.316 69.4381 119.769 68.8594 Q122.223 68.2807 124.26 68.2807 Q129.63 68.2807 132.825 70.9658 Q136.019 73.651 136.019 78.1417 Q136.019 80.2714 135.209 82.1926 Q134.422 84.0908 132.316 86.6834 Q131.737 87.3546 128.635 90.5722 Q125.533 93.7667 119.885 99.5305 Z\" fill=\"#000000\" fill-rule=\"nonzero\" fill-opacity=\"1\" /><path clip-path=\"url(#clip710)\" d=\"M156.019 71.9844 Q152.408 71.9844 150.579 75.5492 Q148.774 79.0908 148.774 86.2204 Q148.774 93.3268 150.579 96.8916 Q152.408 100.433 156.019 100.433 Q159.653 100.433 161.459 96.8916 Q163.288 93.3268 163.288 86.2204 Q163.288 79.0908 161.459 75.5492 Q159.653 71.9844 156.019 71.9844 M156.019 68.2807 Q161.829 68.2807 164.885 72.8871 Q167.964 77.4704 167.964 86.2204 Q167.964 94.9472 164.885 99.5537 Q161.829 104.137 156.019 104.137 Q150.209 104.137 147.13 99.5537 Q144.075 94.9472 144.075 86.2204 Q144.075 77.4704 147.13 72.8871 Q150.209 68.2807 156.019 68.2807 Z\" fill=\"#000000\" fill-rule=\"nonzero\" fill-opacity=\"1\" /><path clip-path=\"url(#clip710)\" d=\"M186.181 71.9844 Q182.57 71.9844 180.741 75.5492 Q178.936 79.0908 178.936 86.2204 Q178.936 93.3268 180.741 96.8916 Q182.57 100.433 186.181 100.433 Q189.815 100.433 191.621 96.8916 Q193.45 93.3268 193.45 86.2204 Q193.45 79.0908 191.621 75.5492 Q189.815 71.9844 186.181 71.9844 M186.181 68.2807 Q191.991 68.2807 195.047 72.8871 Q198.125 77.4704 198.125 86.2204 Q198.125 94.9472 195.047 99.5537 Q191.991 104.137 186.181 104.137 Q180.371 104.137 177.292 99.5537 Q174.237 94.9472 174.237 86.2204 Q174.237 77.4704 177.292 72.8871 Q180.371 68.2807 186.181 68.2807 Z\" fill=\"#000000\" fill-rule=\"nonzero\" fill-opacity=\"1\" /><path clip-path=\"url(#clip710)\" d=\"M42.4881 991.273 L64.0042 991.273 L64.0042 997.129 L42.679 997.129 Q37.6183 997.129 35.1038 999.102 Q32.5894 1001.08 32.5894 1005.02 Q32.5894 1009.76 35.6131 1012.5 Q38.6368 1015.24 43.8567 1015.24 L64.0042 1015.24 L64.0042 1021.13 L28.3562 1021.13 L28.3562 1015.24 L33.8944 1015.24 Q30.6797 1013.14 29.0883 1010.31 Q27.4968 1007.44 27.4968 1003.72 Q27.4968 997.575 31.3163 994.424 Q35.1038 991.273 42.4881 991.273 Z\" fill=\"#000000\" fill-rule=\"nonzero\" fill-opacity=\"1\" /><path clip-path=\"url(#clip710)\" d=\"M49.9359 980.196 L28.3562 980.196 L28.3562 974.34 L49.7131 974.34 Q54.7739 974.34 57.3202 972.366 Q59.8346 970.393 59.8346 966.446 Q59.8346 961.704 56.8109 958.967 Q53.7872 956.197 48.5673 956.197 L28.3562 956.197 L28.3562 950.341 L64.0042 950.341 L64.0042 956.197 L58.5296 956.197 Q61.7762 958.33 63.3676 961.163 Q64.9272 963.964 64.9272 967.688 Q64.9272 973.83 61.1078 977.013 Q57.2883 980.196 49.9359 980.196 M27.4968 965.46 L27.4968 965.46 Z\" fill=\"#000000\" fill-rule=\"nonzero\" fill-opacity=\"1\" /><path clip-path=\"url(#clip710)\" d=\"M35.1993 910.524 Q31.2526 908.327 29.3747 905.272 Q27.4968 902.216 27.4968 898.079 Q27.4968 892.509 31.4117 889.485 Q35.2948 886.461 42.4881 886.461 L64.0042 886.461 L64.0042 892.349 L42.679 892.349 Q37.5546 892.349 35.072 894.164 Q32.5894 895.978 32.5894 899.702 Q32.5894 904.253 35.6131 906.895 Q38.6368 909.537 43.8567 909.537 L64.0042 909.537 L64.0042 915.425 L42.679 915.425 Q37.5228 915.425 35.072 917.239 Q32.5894 919.054 32.5894 922.841 Q32.5894 927.329 35.6449 929.971 Q38.6686 932.613 43.8567 932.613 L64.0042 932.613 L64.0042 938.501 L28.3562 938.501 L28.3562 932.613 L33.8944 932.613 Q30.616 930.607 29.0564 927.806 Q27.4968 925.006 27.4968 921.154 Q27.4968 917.271 29.4702 914.566 Q31.4436 911.828 35.1993 910.524 Z\" fill=\"#000000\" fill-rule=\"nonzero\" fill-opacity=\"1\" /><path clip-path=\"url(#clip710)\" d=\"M46.212 849.19 Q39.7508 849.19 36.0905 851.864 Q32.3984 854.505 32.3984 859.152 Q32.3984 863.799 36.0905 866.473 Q39.7508 869.115 46.212 869.115 Q52.6732 869.115 56.3653 866.473 Q60.0256 863.799 60.0256 859.152 Q60.0256 854.505 56.3653 851.864 Q52.6732 849.19 46.212 849.19 M33.7671 869.115 Q30.5842 867.269 29.0564 864.468 Q27.4968 861.635 27.4968 857.72 Q27.4968 851.227 32.6531 847.185 Q37.8093 843.111 46.212 843.111 Q54.6147 843.111 59.771 847.185 Q64.9272 851.227 64.9272 857.72 Q64.9272 861.635 63.3994 864.468 Q61.8398 867.269 58.657 869.115 L64.0042 869.115 L64.0042 875.003 L14.479 875.003 L14.479 869.115 L33.7671 869.115 Z\" fill=\"#000000\" fill-rule=\"nonzero\" fill-opacity=\"1\" /><path clip-path=\"url(#clip710)\" d=\"M44.7161 802.911 L47.5806 802.911 L47.5806 829.838 Q53.6281 829.456 56.8109 826.21 Q59.9619 822.931 59.9619 817.107 Q59.9619 813.733 59.1344 810.582 Q58.3069 807.399 56.6518 804.28 L62.1899 804.28 Q63.5267 807.431 64.227 810.741 Q64.9272 814.051 64.9272 817.457 Q64.9272 825.987 59.9619 830.984 Q54.9967 835.949 46.5303 835.949 Q37.7774 835.949 32.6531 831.239 Q27.4968 826.496 27.4968 818.475 Q27.4968 811.282 32.1438 807.113 Q36.7589 802.911 44.7161 802.911 M42.9973 808.768 Q38.1912 808.831 35.3266 811.473 Q32.4621 814.083 32.4621 818.412 Q32.4621 823.313 35.2312 826.273 Q38.0002 829.202 43.0292 829.647 L42.9973 808.768 Z\" fill=\"#000000\" fill-rule=\"nonzero\" fill-opacity=\"1\" /><path clip-path=\"url(#clip710)\" d=\"M33.8307 772.642 Q33.2578 773.629 33.0032 774.807 Q32.7167 775.952 32.7167 777.353 Q32.7167 782.318 35.9632 784.992 Q39.1779 787.634 45.2253 787.634 L64.0042 787.634 L64.0042 793.522 L28.3562 793.522 L28.3562 787.634 L33.8944 787.634 Q30.6479 785.788 29.0883 782.827 Q27.4968 779.867 27.4968 775.634 Q27.4968 775.029 27.5923 774.297 Q27.656 773.565 27.8151 772.674 L33.8307 772.642 Z\" fill=\"#000000\" fill-rule=\"nonzero\" fill-opacity=\"1\" /><path clip-path=\"url(#clip710)\" d=\"M32.4621 731.965 Q32.4621 736.676 36.1542 739.413 Q39.8145 742.151 46.212 742.151 Q52.6095 742.151 56.3017 739.445 Q59.9619 736.708 59.9619 731.965 Q59.9619 727.287 56.2698 724.549 Q52.5777 721.812 46.212 721.812 Q39.8781 721.812 36.186 724.549 Q32.4621 727.287 32.4621 731.965 M27.4968 731.965 Q27.4968 724.327 32.4621 719.966 Q37.4273 715.606 46.212 715.606 Q54.9649 715.606 59.9619 719.966 Q64.9272 724.327 64.9272 731.965 Q64.9272 739.636 59.9619 743.997 Q54.9649 748.325 46.212 748.325 Q37.4273 748.325 32.4621 743.997 Q27.4968 739.636 27.4968 731.965 Z\" fill=\"#000000\" fill-rule=\"nonzero\" fill-opacity=\"1\" /><path clip-path=\"url(#clip710)\" d=\"M14.479 687.851 L19.3487 687.851 L19.3487 693.453 Q19.3487 696.604 20.6219 697.845 Q21.895 699.055 25.2052 699.055 L28.3562 699.055 L28.3562 689.411 L32.9077 689.411 L32.9077 699.055 L64.0042 699.055 L64.0042 704.943 L32.9077 704.943 L32.9077 710.545 L28.3562 710.545 L28.3562 704.943 L25.8736 704.943 Q19.9216 704.943 17.2162 702.174 Q14.479 699.405 14.479 693.389 L14.479 687.851 Z\" fill=\"#000000\" fill-rule=\"nonzero\" fill-opacity=\"1\" /><path clip-path=\"url(#clip710)\" d=\"M46.0847 646.028 Q46.0847 653.126 47.7079 655.863 Q49.3312 658.601 53.2461 658.601 Q56.3653 658.601 58.2114 656.564 Q60.0256 654.495 60.0256 650.962 Q60.0256 646.092 56.5881 643.164 Q53.1188 640.204 47.3897 640.204 L46.0847 640.204 L46.0847 646.028 M43.6657 634.347 L64.0042 634.347 L64.0042 640.204 L58.5933 640.204 Q61.8398 642.209 63.3994 645.201 Q64.9272 648.193 64.9272 652.521 Q64.9272 657.996 61.8716 661.242 Q58.7843 664.457 53.6281 664.457 Q47.6125 664.457 44.5569 660.447 Q41.5014 656.405 41.5014 648.416 L41.5014 640.204 L40.9285 640.204 Q36.8862 640.204 34.6901 642.877 Q32.4621 645.519 32.4621 650.325 Q32.4621 653.381 33.1941 656.277 Q33.9262 659.174 35.3903 661.847 L29.9795 661.847 Q28.7381 658.633 28.1334 655.609 Q27.4968 652.585 27.4968 649.721 Q27.4968 641.986 31.5072 638.167 Q35.5176 634.347 43.6657 634.347 Z\" fill=\"#000000\" fill-rule=\"nonzero\" fill-opacity=\"1\" /><path clip-path=\"url(#clip710)\" d=\"M45.7664 598.827 Q39.4007 598.827 35.8996 601.468 Q32.3984 604.078 32.3984 608.821 Q32.3984 613.531 35.8996 616.173 Q39.4007 618.783 45.7664 618.783 Q52.1003 618.783 55.6014 616.173 Q59.1026 613.531 59.1026 608.821 Q59.1026 604.078 55.6014 601.468 Q52.1003 598.827 45.7664 598.827 M59.58 592.97 Q68.683 592.97 73.1071 597.012 Q77.5631 601.055 77.5631 609.394 Q77.5631 612.481 77.0857 615.218 Q76.6401 617.956 75.6852 620.534 L69.9879 620.534 Q71.3884 617.956 72.0568 615.441 Q72.7252 612.927 72.7252 610.317 Q72.7252 604.556 69.7015 601.691 Q66.7096 598.827 60.6303 598.827 L57.7339 598.827 Q60.885 600.641 62.4446 603.474 Q64.0042 606.306 64.0042 610.253 Q64.0042 616.81 59.0071 620.82 Q54.01 624.831 45.7664 624.831 Q37.491 624.831 32.4939 620.82 Q27.4968 616.81 27.4968 610.253 Q27.4968 606.306 29.0564 603.474 Q30.616 600.641 33.7671 598.827 L28.3562 598.827 L28.3562 592.97 L59.58 592.97 Z\" fill=\"#000000\" fill-rule=\"nonzero\" fill-opacity=\"1\" /><path clip-path=\"url(#clip710)\" d=\"M44.7161 550.416 L47.5806 550.416 L47.5806 577.342 Q53.6281 576.961 56.8109 573.714 Q59.9619 570.436 59.9619 564.611 Q59.9619 561.237 59.1344 558.086 Q58.3069 554.903 56.6518 551.784 L62.1899 551.784 Q63.5267 554.935 64.227 558.245 Q64.9272 561.555 64.9272 564.961 Q64.9272 573.491 59.9619 578.488 Q54.9967 583.454 46.5303 583.454 Q37.7774 583.454 32.6531 578.743 Q27.4968 574 27.4968 565.98 Q27.4968 558.786 32.1438 554.617 Q36.7589 550.416 44.7161 550.416 M42.9973 556.272 Q38.1912 556.336 35.3266 558.977 Q32.4621 561.587 32.4621 565.916 Q32.4621 570.818 35.2312 573.778 Q38.0002 576.706 43.0292 577.151 L42.9973 556.272 Z\" fill=\"#000000\" fill-rule=\"nonzero\" fill-opacity=\"1\" /><path clip-path=\"url(#clip710)\" d=\"M42.4881 511.171 L64.0042 511.171 L64.0042 517.027 L42.679 517.027 Q37.6183 517.027 35.1038 519.001 Q32.5894 520.974 32.5894 524.921 Q32.5894 529.663 35.6131 532.401 Q38.6368 535.138 43.8567 535.138 L64.0042 535.138 L64.0042 541.026 L28.3562 541.026 L28.3562 535.138 L33.8944 535.138 Q30.6797 533.037 29.0883 530.204 Q27.4968 527.34 27.4968 523.616 Q27.4968 517.473 31.3163 514.322 Q35.1038 511.171 42.4881 511.171 Z\" fill=\"#000000\" fill-rule=\"nonzero\" fill-opacity=\"1\" /><path clip-path=\"url(#clip710)\" d=\"M18.2347 493.697 L28.3562 493.697 L28.3562 481.634 L32.9077 481.634 L32.9077 493.697 L52.2594 493.697 Q56.6199 493.697 57.8613 492.519 Q59.1026 491.31 59.1026 487.65 L59.1026 481.634 L64.0042 481.634 L64.0042 487.65 Q64.0042 494.429 61.4897 497.007 Q58.9434 499.585 52.2594 499.585 L32.9077 499.585 L32.9077 503.882 L28.3562 503.882 L28.3562 499.585 L18.2347 499.585 L18.2347 493.697 Z\" fill=\"#000000\" fill-rule=\"nonzero\" fill-opacity=\"1\" /><path clip-path=\"url(#clip710)\" d=\"M29.4065 451.206 L34.9447 451.206 Q33.6716 453.689 33.035 456.362 Q32.3984 459.036 32.3984 461.9 Q32.3984 466.261 33.7352 468.457 Q35.072 470.621 37.7456 470.621 Q39.7826 470.621 40.9603 469.062 Q42.1061 467.502 43.1565 462.792 L43.6021 460.786 Q44.9389 454.548 47.3897 451.938 Q49.8086 449.296 54.1691 449.296 Q59.1344 449.296 62.0308 453.243 Q64.9272 457.158 64.9272 464.033 Q64.9272 466.897 64.3543 470.017 Q63.8132 473.104 62.6992 476.541 L56.6518 476.541 Q58.3387 473.295 59.198 470.144 Q60.0256 466.993 60.0256 463.906 Q60.0256 459.768 58.6251 457.54 Q57.1929 455.312 54.6147 455.312 Q52.2276 455.312 50.9545 456.935 Q49.6813 458.527 48.5037 463.969 L48.0262 466.006 Q46.8804 471.449 44.5251 473.868 Q42.138 476.287 38.0002 476.287 Q32.9713 476.287 30.2341 472.722 Q27.4968 469.157 27.4968 462.601 Q27.4968 459.354 27.9743 456.49 Q28.4517 453.625 29.4065 451.206 Z\" fill=\"#000000\" fill-rule=\"nonzero\" fill-opacity=\"1\" /><polyline clip-path=\"url(#clip712)\" style=\"stroke:#009af9; stroke-linecap:round; stroke-linejoin:round; stroke-width:4; stroke-opacity:1; fill:none\" points=\"294.087,1332.32 304.08,657.329 314.074,482.092 324.067,404.209 334.061,300.364 344.054,293.874 354.048,287.384 364.041,222.481 374.035,209.501 384.029,170.559 394.022,138.108 404.016,131.618 414.009,125.127 424.003,112.147 433.996,99.1662 443.99,92.6759 453.983,92.6759 463.977,86.1857 473.97,86.1857 483.964,86.1857 493.957,86.1857 503.951,86.1857 513.945,86.1857 523.938,86.1857 533.932,86.1857 543.925,86.1857 553.919,86.1857 563.912,86.1857 573.906,86.1857 583.899,86.1857 593.893,86.1857 603.886,86.1857 613.88,86.1857 623.874,86.1857 633.867,86.1857 643.861,86.1857 653.854,86.1857 663.848,86.1857 673.841,86.1857 683.835,86.1857 693.828,86.1857 703.822,86.1857 713.815,86.1857 723.809,86.1857 733.802,86.1857 743.796,86.1857 753.79,86.1857 763.783,86.1857 773.777,86.1857 783.77,86.1857 793.764,86.1857 803.757,86.1857 813.751,86.1857 823.744,86.1857 833.738,86.1857 843.731,86.1857 853.725,86.1857 863.718,86.1857 873.712,86.1857 883.706,86.1857 893.699,86.1857 903.693,86.1857 913.686,86.1857 923.68,86.1857 933.673,86.1857 943.667,86.1857 953.66,86.1857 963.654,86.1857 973.647,86.1857 983.641,86.1857 993.634,86.1857 1003.63,86.1857 1013.62,86.1857 1023.62,86.1857 1033.61,86.1857 1043.6,86.1857 1053.6,86.1857 1063.59,86.1857 1073.58,86.1857 1083.58,86.1857 1093.57,86.1857 1103.56,86.1857 1113.56,86.1857 1123.55,86.1857 1133.54,86.1857 1143.54,86.1857 1153.53,86.1857 1163.52,86.1857 1173.52,86.1857 1183.51,86.1857 1193.51,86.1857 1203.5,86.1857 1213.49,86.1857 1223.49,86.1857 1233.48,86.1857 1243.47,86.1857 1253.47,86.1857 1263.46,86.1857 1273.45,86.1857 1283.45,86.1857 1293.44,86.1857 1303.43,86.1857 1313.43,86.1857 1323.42,86.1857 1333.41,86.1857 1343.41,86.1857 1353.4,86.1857 1363.4,86.1857 1373.39,86.1857 1383.38,86.1857 1393.38,86.1857 1403.37,86.1857 1413.36,86.1857 1423.36,86.1857 1433.35,86.1857 1443.34,86.1857 1453.34,86.1857 1463.33,86.1857 1473.32,86.1857 1483.32,86.1857 1493.31,86.1857 1503.31,86.1857 1513.3,86.1857 1523.29,86.1857 1533.29,86.1857 1543.28,86.1857 1553.27,86.1857 1563.27,86.1857 1573.26,86.1857 1583.25,86.1857 1593.25,86.1857 1603.24,86.1857 1613.23,86.1857 1623.23,86.1857 1633.22,86.1857 1643.21,86.1857 1653.21,86.1857 1663.2,86.1857 1673.2,86.1857 1683.19,86.1857 1693.18,86.1857 1703.18,86.1857 1713.17,86.1857 1723.16,86.1857 1733.16,86.1857 1743.15,86.1857 1753.14,86.1857 1763.14,86.1857 1773.13,86.1857 1783.12,86.1857 1793.12,86.1857 1803.11,86.1857 1813.1,86.1857 1823.1,86.1857 1833.09,86.1857 1843.09,86.1857 1853.08,86.1857 1863.07,86.1857 1873.07,86.1857 1883.06,86.1857 1893.05,86.1857 1903.05,86.1857 1913.04,86.1857 1923.03,86.1857 1933.03,86.1857 1943.02,86.1857 1953.01,86.1857 1963.01,86.1857 1973,86.1857 1982.99,86.1857 1992.99,86.1857 2002.98,86.1857 2012.98,86.1857 2022.97,86.1857 2032.96,86.1857 2042.96,86.1857 2052.95,86.1857 2062.94,86.1857 2072.94,86.1857 2082.93,86.1857 2092.92,86.1857 2102.92,86.1857 2112.91,86.1857 2122.9,86.1857 2132.9,86.1857 2142.89,86.1857 2152.89,86.1857 2162.88,86.1857 2172.87,86.1857 2182.87,86.1857 2192.86,86.1857 2202.85,86.1857 2212.85,86.1857 2222.84,86.1857 2232.83,86.1857 2242.83,86.1857 2252.82,86.1857 2262.81,86.1857 2272.81,86.1857 2282.8,86.1857 2292.79,86.1857 \"/>\n",
       "<polyline clip-path=\"url(#clip712)\" style=\"stroke:#e26f46; stroke-linecap:round; stroke-linejoin:round; stroke-width:4; stroke-opacity:1; fill:none\" points=\"294.087,138.108 304.08,813.095 314.074,988.332 324.067,1066.22 334.061,1170.06 344.054,1176.55 354.048,1183.04 364.041,1247.94 374.035,1260.92 384.029,1299.86 394.022,1332.32 404.016,1338.81 414.009,1345.3 424.003,1358.28 433.996,1371.26 443.99,1377.75 453.983,1377.75 463.977,1384.24 473.97,1384.24 483.964,1384.24 493.957,1384.24 503.951,1384.24 513.945,1384.24 523.938,1384.24 533.932,1384.24 543.925,1384.24 553.919,1384.24 563.912,1384.24 573.906,1384.24 583.899,1384.24 593.893,1384.24 603.886,1384.24 613.88,1384.24 623.874,1384.24 633.867,1384.24 643.861,1384.24 653.854,1384.24 663.848,1384.24 673.841,1384.24 683.835,1384.24 693.828,1384.24 703.822,1384.24 713.815,1384.24 723.809,1384.24 733.802,1384.24 743.796,1384.24 753.79,1384.24 763.783,1384.24 773.777,1384.24 783.77,1384.24 793.764,1384.24 803.757,1384.24 813.751,1384.24 823.744,1384.24 833.738,1384.24 843.731,1384.24 853.725,1384.24 863.718,1384.24 873.712,1384.24 883.706,1384.24 893.699,1384.24 903.693,1384.24 913.686,1384.24 923.68,1384.24 933.673,1384.24 943.667,1384.24 953.66,1384.24 963.654,1384.24 973.647,1384.24 983.641,1384.24 993.634,1384.24 1003.63,1384.24 1013.62,1384.24 1023.62,1384.24 1033.61,1384.24 1043.6,1384.24 1053.6,1384.24 1063.59,1384.24 1073.58,1384.24 1083.58,1384.24 1093.57,1384.24 1103.56,1384.24 1113.56,1384.24 1123.55,1384.24 1133.54,1384.24 1143.54,1384.24 1153.53,1384.24 1163.52,1384.24 1173.52,1384.24 1183.51,1384.24 1193.51,1384.24 1203.5,1384.24 1213.49,1384.24 1223.49,1384.24 1233.48,1384.24 1243.47,1384.24 1253.47,1384.24 1263.46,1384.24 1273.45,1384.24 1283.45,1384.24 1293.44,1384.24 1303.43,1384.24 1313.43,1384.24 1323.42,1384.24 1333.41,1384.24 1343.41,1384.24 1353.4,1384.24 1363.4,1384.24 1373.39,1384.24 1383.38,1384.24 1393.38,1384.24 1403.37,1384.24 1413.36,1384.24 1423.36,1384.24 1433.35,1384.24 1443.34,1384.24 1453.34,1384.24 1463.33,1384.24 1473.32,1384.24 1483.32,1384.24 1493.31,1384.24 1503.31,1384.24 1513.3,1384.24 1523.29,1384.24 1533.29,1384.24 1543.28,1384.24 1553.27,1384.24 1563.27,1384.24 1573.26,1384.24 1583.25,1384.24 1593.25,1384.24 1603.24,1384.24 1613.23,1384.24 1623.23,1384.24 1633.22,1384.24 1643.21,1384.24 1653.21,1384.24 1663.2,1384.24 1673.2,1384.24 1683.19,1384.24 1693.18,1384.24 1703.18,1384.24 1713.17,1384.24 1723.16,1384.24 1733.16,1384.24 1743.15,1384.24 1753.14,1384.24 1763.14,1384.24 1773.13,1384.24 1783.12,1384.24 1793.12,1384.24 1803.11,1384.24 1813.1,1384.24 1823.1,1384.24 1833.09,1384.24 1843.09,1384.24 1853.08,1384.24 1863.07,1384.24 1873.07,1384.24 1883.06,1384.24 1893.05,1384.24 1903.05,1384.24 1913.04,1384.24 1923.03,1384.24 1933.03,1384.24 1943.02,1384.24 1953.01,1384.24 1963.01,1384.24 1973,1384.24 1982.99,1384.24 1992.99,1384.24 2002.98,1384.24 2012.98,1384.24 2022.97,1384.24 2032.96,1384.24 2042.96,1384.24 2052.95,1384.24 2062.94,1384.24 2072.94,1384.24 2082.93,1384.24 2092.92,1384.24 2102.92,1384.24 2112.91,1384.24 2122.9,1384.24 2132.9,1384.24 2142.89,1384.24 2152.89,1384.24 2162.88,1384.24 2172.87,1384.24 2182.87,1384.24 2192.86,1384.24 2202.85,1384.24 2212.85,1384.24 2222.84,1384.24 2232.83,1384.24 2242.83,1384.24 2252.82,1384.24 2262.81,1384.24 2272.81,1384.24 2282.8,1384.24 2292.79,1384.24 \"/>\n",
       "<path clip-path=\"url(#clip710)\" d=\"M1928.65 248.629 L2282.13 248.629 L2282.13 93.1086 L1928.65 93.1086  Z\" fill=\"#ffffff\" fill-rule=\"evenodd\" fill-opacity=\"1\"/>\n",
       "<polyline clip-path=\"url(#clip710)\" style=\"stroke:#000000; stroke-linecap:round; stroke-linejoin:round; stroke-width:4; stroke-opacity:1; fill:none\" points=\"1928.65,248.629 2282.13,248.629 2282.13,93.1086 1928.65,93.1086 1928.65,248.629 \"/>\n",
       "<polyline clip-path=\"url(#clip710)\" style=\"stroke:#009af9; stroke-linecap:round; stroke-linejoin:round; stroke-width:4; stroke-opacity:1; fill:none\" points=\"1952.19,144.949 2093.43,144.949 \"/>\n",
       "<path clip-path=\"url(#clip710)\" d=\"M2138.69 146.581 L2138.69 162.229 L2134.43 162.229 L2134.43 146.719 Q2134.43 143.039 2132.99 141.21 Q2131.56 139.382 2128.69 139.382 Q2125.24 139.382 2123.25 141.581 Q2121.26 143.78 2121.26 147.576 L2121.26 162.229 L2116.97 162.229 L2116.97 126.21 L2121.26 126.21 L2121.26 140.331 Q2122.79 137.993 2124.85 136.835 Q2126.93 135.678 2129.64 135.678 Q2134.1 135.678 2136.4 138.456 Q2138.69 141.21 2138.69 146.581 Z\" fill=\"#000000\" fill-rule=\"nonzero\" fill-opacity=\"1\" /><path clip-path=\"url(#clip710)\" d=\"M2158.97 149.196 Q2153.8 149.196 2151.81 150.377 Q2149.82 151.557 2149.82 154.405 Q2149.82 156.673 2151.3 158.016 Q2152.81 159.335 2155.38 159.335 Q2158.92 159.335 2161.05 156.835 Q2163.2 154.312 2163.2 150.145 L2163.2 149.196 L2158.97 149.196 M2167.46 147.437 L2167.46 162.229 L2163.2 162.229 L2163.2 158.293 Q2161.74 160.655 2159.57 161.789 Q2157.39 162.9 2154.24 162.9 Q2150.26 162.9 2147.9 160.678 Q2145.56 158.432 2145.56 154.682 Q2145.56 150.307 2148.48 148.085 Q2151.42 145.863 2157.23 145.863 L2163.2 145.863 L2163.2 145.446 Q2163.2 142.507 2161.26 140.909 Q2159.34 139.289 2155.84 139.289 Q2153.62 139.289 2151.51 139.821 Q2149.41 140.354 2147.46 141.419 L2147.46 137.483 Q2149.8 136.581 2152 136.141 Q2154.2 135.678 2156.28 135.678 Q2161.91 135.678 2164.68 138.594 Q2167.46 141.511 2167.46 147.437 Z\" fill=\"#000000\" fill-rule=\"nonzero\" fill-opacity=\"1\" /><path clip-path=\"url(#clip710)\" d=\"M2180.35 158.34 L2180.35 172.09 L2176.07 172.09 L2176.07 136.303 L2180.35 136.303 L2180.35 140.238 Q2181.7 137.923 2183.73 136.812 Q2185.79 135.678 2188.64 135.678 Q2193.36 135.678 2196.3 139.428 Q2199.27 143.178 2199.27 149.289 Q2199.27 155.4 2196.3 159.15 Q2193.36 162.9 2188.64 162.9 Q2185.79 162.9 2183.73 161.789 Q2181.7 160.655 2180.35 158.34 M2194.84 149.289 Q2194.84 144.59 2192.9 141.928 Q2190.98 139.243 2187.6 139.243 Q2184.22 139.243 2182.28 141.928 Q2180.35 144.59 2180.35 149.289 Q2180.35 153.988 2182.28 156.673 Q2184.22 159.335 2187.6 159.335 Q2190.98 159.335 2192.9 156.673 Q2194.84 153.988 2194.84 149.289 Z\" fill=\"#000000\" fill-rule=\"nonzero\" fill-opacity=\"1\" /><path clip-path=\"url(#clip710)\" d=\"M2210.45 158.34 L2210.45 172.09 L2206.16 172.09 L2206.16 136.303 L2210.45 136.303 L2210.45 140.238 Q2211.79 137.923 2213.83 136.812 Q2215.89 135.678 2218.73 135.678 Q2223.46 135.678 2226.4 139.428 Q2229.36 143.178 2229.36 149.289 Q2229.36 155.4 2226.4 159.15 Q2223.46 162.9 2218.73 162.9 Q2215.89 162.9 2213.83 161.789 Q2211.79 160.655 2210.45 158.34 M2224.94 149.289 Q2224.94 144.59 2222.99 141.928 Q2221.07 139.243 2217.69 139.243 Q2214.31 139.243 2212.37 141.928 Q2210.45 144.59 2210.45 149.289 Q2210.45 153.988 2212.37 156.673 Q2214.31 159.335 2217.69 159.335 Q2221.07 159.335 2222.99 156.673 Q2224.94 153.988 2224.94 149.289 Z\" fill=\"#000000\" fill-rule=\"nonzero\" fill-opacity=\"1\" /><path clip-path=\"url(#clip710)\" d=\"M2247.21 164.636 Q2245.4 169.266 2243.69 170.678 Q2241.97 172.09 2239.1 172.09 L2235.7 172.09 L2235.7 168.525 L2238.2 168.525 Q2239.96 168.525 2240.93 167.692 Q2241.9 166.858 2243.09 163.756 L2243.85 161.812 L2233.36 136.303 L2237.88 136.303 L2245.98 156.581 L2254.08 136.303 L2258.59 136.303 L2247.21 164.636 Z\" fill=\"#000000\" fill-rule=\"nonzero\" fill-opacity=\"1\" /><polyline clip-path=\"url(#clip710)\" style=\"stroke:#e26f46; stroke-linecap:round; stroke-linejoin:round; stroke-width:4; stroke-opacity:1; fill:none\" points=\"1952.19,196.789 2093.43,196.789 \"/>\n",
       "<path clip-path=\"url(#clip710)\" d=\"M2135.4 188.907 L2135.4 192.934 Q2133.6 192.009 2131.65 191.546 Q2129.71 191.083 2127.62 191.083 Q2124.45 191.083 2122.85 192.055 Q2121.28 193.027 2121.28 194.971 Q2121.28 196.453 2122.41 197.309 Q2123.55 198.143 2126.97 198.907 L2128.43 199.231 Q2132.97 200.203 2134.87 201.985 Q2136.79 203.745 2136.79 206.916 Q2136.79 210.527 2133.92 212.633 Q2131.07 214.74 2126.07 214.74 Q2123.99 214.74 2121.72 214.323 Q2119.47 213.93 2116.97 213.12 L2116.97 208.721 Q2119.34 209.948 2121.63 210.573 Q2123.92 211.175 2126.16 211.175 Q2129.17 211.175 2130.79 210.157 Q2132.41 209.115 2132.41 207.24 Q2132.41 205.504 2131.23 204.578 Q2130.08 203.652 2126.12 202.796 L2124.64 202.448 Q2120.68 201.615 2118.92 199.902 Q2117.16 198.166 2117.16 195.157 Q2117.16 191.499 2119.75 189.509 Q2122.35 187.518 2127.11 187.518 Q2129.47 187.518 2131.56 187.865 Q2133.64 188.212 2135.4 188.907 Z\" fill=\"#000000\" fill-rule=\"nonzero\" fill-opacity=\"1\" /><path clip-path=\"url(#clip710)\" d=\"M2155.35 201.036 Q2150.19 201.036 2148.2 202.217 Q2146.21 203.397 2146.21 206.245 Q2146.21 208.513 2147.69 209.856 Q2149.2 211.175 2151.77 211.175 Q2155.31 211.175 2157.44 208.675 Q2159.59 206.152 2159.59 201.985 L2159.59 201.036 L2155.35 201.036 M2163.85 199.277 L2163.85 214.069 L2159.59 214.069 L2159.59 210.133 Q2158.13 212.495 2155.96 213.629 Q2153.78 214.74 2150.63 214.74 Q2146.65 214.74 2144.29 212.518 Q2141.95 210.272 2141.95 206.522 Q2141.95 202.147 2144.87 199.925 Q2147.81 197.703 2153.62 197.703 L2159.59 197.703 L2159.59 197.286 Q2159.59 194.347 2157.65 192.749 Q2155.72 191.129 2152.23 191.129 Q2150.01 191.129 2147.9 191.661 Q2145.79 192.194 2143.85 193.259 L2143.85 189.323 Q2146.19 188.421 2148.39 187.981 Q2150.59 187.518 2152.67 187.518 Q2158.29 187.518 2161.07 190.434 Q2163.85 193.351 2163.85 199.277 Z\" fill=\"#000000\" fill-rule=\"nonzero\" fill-opacity=\"1\" /><path clip-path=\"url(#clip710)\" d=\"M2189.68 192.078 L2189.68 178.05 L2193.94 178.05 L2193.94 214.069 L2189.68 214.069 L2189.68 210.18 Q2188.34 212.495 2186.28 213.629 Q2184.24 214.74 2181.37 214.74 Q2176.67 214.74 2173.71 210.99 Q2170.77 207.24 2170.77 201.129 Q2170.77 195.018 2173.71 191.268 Q2176.67 187.518 2181.37 187.518 Q2184.24 187.518 2186.28 188.652 Q2188.34 189.763 2189.68 192.078 M2175.17 201.129 Q2175.17 205.828 2177.09 208.513 Q2179.03 211.175 2182.41 211.175 Q2185.79 211.175 2187.74 208.513 Q2189.68 205.828 2189.68 201.129 Q2189.68 196.43 2187.74 193.768 Q2185.79 191.083 2182.41 191.083 Q2179.03 191.083 2177.09 193.768 Q2175.17 196.43 2175.17 201.129 Z\" fill=\"#000000\" fill-rule=\"nonzero\" fill-opacity=\"1\" /></svg>\n"
      ],
      "text/html": [
       "<img src=\"data:image/png;base64,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\" />"
      ]
     },
     "metadata": {},
     "output_type": "display_data"
    },
    {
     "data": {
      "text/html": [
       "<div><div style = \"float: left;\"><span>201×2 DataFrame</span></div><div style = \"float: right;\"><span style = \"font-style: italic;\">176 rows omitted</span></div><div style = \"clear: both;\"></div></div><div class = \"data-frame\" style = \"overflow-x: scroll;\"><table class = \"data-frame\" style = \"margin-bottom: 6px;\"><thead><tr class = \"header\"><th class = \"rowNumber\" style = \"font-weight: bold; text-align: right;\">Row</th><th style = \"text-align: left;\">happy</th><th style = \"text-align: left;\">sad</th></tr><tr class = \"subheader headerLastRow\"><th class = \"rowNumber\" style = \"font-weight: bold; text-align: right;\"></th><th title = \"Int64\" style = \"text-align: left;\">Int64</th><th title = \"Int64\" style = \"text-align: left;\">Int64</th></tr></thead><tbody><tr><td class = \"rowNumber\" style = \"font-weight: bold; text-align: right;\">1</td><td style = \"text-align: right;\">8</td><td style = \"text-align: right;\">192</td></tr><tr><td class = \"rowNumber\" style = \"font-weight: bold; text-align: right;\">2</td><td style = \"text-align: right;\">112</td><td style = \"text-align: right;\">88</td></tr><tr><td class = \"rowNumber\" style = \"font-weight: bold; text-align: right;\">3</td><td style = \"text-align: right;\">139</td><td style = \"text-align: right;\">61</td></tr><tr><td class = \"rowNumber\" style = \"font-weight: bold; text-align: right;\">4</td><td style = \"text-align: right;\">151</td><td style = \"text-align: right;\">49</td></tr><tr><td class = \"rowNumber\" style = \"font-weight: bold; text-align: right;\">5</td><td style = \"text-align: right;\">167</td><td style = \"text-align: right;\">33</td></tr><tr><td class = \"rowNumber\" style = \"font-weight: bold; text-align: right;\">6</td><td style = \"text-align: right;\">168</td><td style = \"text-align: right;\">32</td></tr><tr><td class = \"rowNumber\" style = \"font-weight: bold; text-align: right;\">7</td><td style = \"text-align: right;\">169</td><td style = \"text-align: right;\">31</td></tr><tr><td class = \"rowNumber\" style = \"font-weight: bold; text-align: right;\">8</td><td style = \"text-align: right;\">179</td><td style = \"text-align: right;\">21</td></tr><tr><td class = \"rowNumber\" style = \"font-weight: bold; text-align: right;\">9</td><td style = \"text-align: right;\">181</td><td style = \"text-align: right;\">19</td></tr><tr><td class = \"rowNumber\" style = \"font-weight: bold; text-align: right;\">10</td><td style = \"text-align: right;\">187</td><td style = \"text-align: right;\">13</td></tr><tr><td class = \"rowNumber\" style = \"font-weight: bold; text-align: right;\">11</td><td style = \"text-align: right;\">192</td><td style = \"text-align: right;\">8</td></tr><tr><td class = \"rowNumber\" style = \"font-weight: bold; text-align: right;\">12</td><td style = \"text-align: right;\">193</td><td style = \"text-align: right;\">7</td></tr><tr><td class = \"rowNumber\" style = \"font-weight: bold; text-align: right;\">13</td><td style = \"text-align: right;\">194</td><td style = \"text-align: right;\">6</td></tr><tr><td style = \"text-align: right;\">&vellip;</td><td style = \"text-align: right;\">&vellip;</td><td style = \"text-align: right;\">&vellip;</td></tr><tr><td class = \"rowNumber\" style = \"font-weight: bold; text-align: right;\">190</td><td style = \"text-align: right;\">200</td><td style = \"text-align: right;\">0</td></tr><tr><td class = \"rowNumber\" style = \"font-weight: bold; text-align: right;\">191</td><td style = \"text-align: right;\">200</td><td style = \"text-align: right;\">0</td></tr><tr><td class = \"rowNumber\" style = \"font-weight: bold; text-align: right;\">192</td><td style = \"text-align: right;\">200</td><td style = \"text-align: right;\">0</td></tr><tr><td class = \"rowNumber\" style = \"font-weight: bold; text-align: right;\">193</td><td style = \"text-align: right;\">200</td><td style = \"text-align: right;\">0</td></tr><tr><td class = \"rowNumber\" style = \"font-weight: bold; text-align: right;\">194</td><td style = \"text-align: right;\">200</td><td style = \"text-align: right;\">0</td></tr><tr><td class = \"rowNumber\" style = \"font-weight: bold; text-align: right;\">195</td><td style = \"text-align: right;\">200</td><td style = \"text-align: right;\">0</td></tr><tr><td class = \"rowNumber\" style = \"font-weight: bold; text-align: right;\">196</td><td style = \"text-align: right;\">200</td><td style = \"text-align: right;\">0</td></tr><tr><td class = \"rowNumber\" style = \"font-weight: bold; text-align: right;\">197</td><td style = \"text-align: right;\">200</td><td style = \"text-align: right;\">0</td></tr><tr><td class = \"rowNumber\" style = \"font-weight: bold; text-align: right;\">198</td><td style = \"text-align: right;\">200</td><td style = \"text-align: right;\">0</td></tr><tr><td class = \"rowNumber\" style = \"font-weight: bold; text-align: right;\">199</td><td style = \"text-align: right;\">200</td><td style = \"text-align: right;\">0</td></tr><tr><td class = \"rowNumber\" style = \"font-weight: bold; text-align: right;\">200</td><td style = \"text-align: right;\">200</td><td style = \"text-align: right;\">0</td></tr><tr><td class = \"rowNumber\" style = \"font-weight: bold; text-align: right;\">201</td><td style = \"text-align: right;\">200</td><td style = \"text-align: right;\">0</td></tr></tbody></table></div>"
      ],
      "text/latex": [
       "\\begin{tabular}{r|cc}\n",
       "\t& happy & sad\\\\\n",
       "\t\\hline\n",
       "\t& Int64 & Int64\\\\\n",
       "\t\\hline\n",
       "\t1 & 8 & 192 \\\\\n",
       "\t2 & 112 & 88 \\\\\n",
       "\t3 & 139 & 61 \\\\\n",
       "\t4 & 151 & 49 \\\\\n",
       "\t5 & 167 & 33 \\\\\n",
       "\t6 & 168 & 32 \\\\\n",
       "\t7 & 169 & 31 \\\\\n",
       "\t8 & 179 & 21 \\\\\n",
       "\t9 & 181 & 19 \\\\\n",
       "\t10 & 187 & 13 \\\\\n",
       "\t11 & 192 & 8 \\\\\n",
       "\t12 & 193 & 7 \\\\\n",
       "\t13 & 194 & 6 \\\\\n",
       "\t14 & 196 & 4 \\\\\n",
       "\t15 & 198 & 2 \\\\\n",
       "\t16 & 199 & 1 \\\\\n",
       "\t17 & 199 & 1 \\\\\n",
       "\t18 & 200 & 0 \\\\\n",
       "\t19 & 200 & 0 \\\\\n",
       "\t20 & 200 & 0 \\\\\n",
       "\t21 & 200 & 0 \\\\\n",
       "\t22 & 200 & 0 \\\\\n",
       "\t23 & 200 & 0 \\\\\n",
       "\t24 & 200 & 0 \\\\\n",
       "\t25 & 200 & 0 \\\\\n",
       "\t26 & 200 & 0 \\\\\n",
       "\t27 & 200 & 0 \\\\\n",
       "\t28 & 200 & 0 \\\\\n",
       "\t29 & 200 & 0 \\\\\n",
       "\t30 & 200 & 0 \\\\\n",
       "\t$\\dots$ & $\\dots$ & $\\dots$ \\\\\n",
       "\\end{tabular}\n"
      ],
      "text/plain": [
       "\u001b[1m201×2 DataFrame\u001b[0m\n",
       "\u001b[1m Row \u001b[0m│\u001b[1m happy \u001b[0m\u001b[1m sad   \u001b[0m\n",
       "     │\u001b[90m Int64 \u001b[0m\u001b[90m Int64 \u001b[0m\n",
       "─────┼──────────────\n",
       "   1 │     8    192\n",
       "   2 │   112     88\n",
       "   3 │   139     61\n",
       "   4 │   151     49\n",
       "   5 │   167     33\n",
       "   6 │   168     32\n",
       "   7 │   169     31\n",
       "   8 │   179     21\n",
       "   9 │   181     19\n",
       "  10 │   187     13\n",
       "  11 │   192      8\n",
       "  ⋮  │   ⋮      ⋮\n",
       " 192 │   200      0\n",
       " 193 │   200      0\n",
       " 194 │   200      0\n",
       " 195 │   200      0\n",
       " 196 │   200      0\n",
       " 197 │   200      0\n",
       " 198 │   200      0\n",
       " 199 │   200      0\n",
       " 200 │   200      0\n",
       " 201 │   200      0\n",
       "\u001b[36m    180 rows omitted\u001b[0m"
      ]
     },
     "execution_count": 15,
     "metadata": {},
     "output_type": "execute_result"
    }
   ],
   "source": [
    "df = get_nums_agents(model, \n",
    "    agent-> agent.mood == happy, \n",
    "    agent-> agent.mood == sad,\n",
    "    labels=[\"happy\",\"sad\"], plot_result=true)"
   ]
  },
  {
   "cell_type": "markdown",
   "metadata": {},
   "source": [
    "Individual agent data recorded during model run can be obtained as "
   ]
  },
  {
   "cell_type": "code",
   "execution_count": 16,
   "metadata": {},
   "outputs": [
    {
     "data": {
      "text/html": [
       "<div><div style = \"float: left;\"><span>201×2 DataFrame</span></div><div style = \"float: right;\"><span style = \"font-style: italic;\">176 rows omitted</span></div><div style = \"clear: both;\"></div></div><div class = \"data-frame\" style = \"overflow-x: scroll;\"><table class = \"data-frame\" style = \"margin-bottom: 6px;\"><thead><tr class = \"header\"><th class = \"rowNumber\" style = \"font-weight: bold; text-align: right;\">Row</th><th style = \"text-align: left;\">mood</th><th style = \"text-align: left;\">pos</th></tr><tr class = \"subheader headerLastRow\"><th class = \"rowNumber\" style = \"font-weight: bold; text-align: right;\"></th><th title = \"agentsfeeling\" style = \"text-align: left;\">agentsfe…</th><th title = \"Vect{3, Int64}\" style = \"text-align: left;\">Vect…</th></tr></thead><tbody><tr><td class = \"rowNumber\" style = \"font-weight: bold; text-align: right;\">1</td><td style = \"text-align: left;\">sad</td><td style = \"text-align: left;\">(3, 5, 2)\\n</td></tr><tr><td class = \"rowNumber\" style = \"font-weight: bold; text-align: right;\">2</td><td style = \"text-align: left;\">happy</td><td style = \"text-align: left;\">(3, 5, 2)\\n</td></tr><tr><td class = \"rowNumber\" style = \"font-weight: bold; text-align: right;\">3</td><td style = \"text-align: left;\">happy</td><td style = \"text-align: left;\">(3, 5, 2)\\n</td></tr><tr><td class = \"rowNumber\" style = \"font-weight: bold; text-align: right;\">4</td><td style = \"text-align: left;\">happy</td><td style = \"text-align: left;\">(3, 5, 2)\\n</td></tr><tr><td class = \"rowNumber\" style = \"font-weight: bold; text-align: right;\">5</td><td style = \"text-align: left;\">happy</td><td style = \"text-align: left;\">(3, 5, 2)\\n</td></tr><tr><td class = \"rowNumber\" style = \"font-weight: bold; text-align: right;\">6</td><td style = \"text-align: left;\">happy</td><td style = \"text-align: left;\">(3, 5, 2)\\n</td></tr><tr><td class = \"rowNumber\" style = \"font-weight: bold; text-align: right;\">7</td><td style = \"text-align: left;\">happy</td><td style = \"text-align: left;\">(3, 5, 2)\\n</td></tr><tr><td class = \"rowNumber\" style = \"font-weight: bold; text-align: right;\">8</td><td style = \"text-align: left;\">happy</td><td style = \"text-align: left;\">(3, 5, 2)\\n</td></tr><tr><td class = \"rowNumber\" style = \"font-weight: bold; text-align: right;\">9</td><td style = \"text-align: left;\">happy</td><td style = \"text-align: left;\">(3, 5, 2)\\n</td></tr><tr><td class = \"rowNumber\" style = \"font-weight: bold; text-align: right;\">10</td><td style = \"text-align: left;\">happy</td><td style = \"text-align: left;\">(3, 5, 2)\\n</td></tr><tr><td class = \"rowNumber\" style = \"font-weight: bold; text-align: right;\">11</td><td style = \"text-align: left;\">happy</td><td style = \"text-align: left;\">(3, 5, 2)\\n</td></tr><tr><td class = \"rowNumber\" style = \"font-weight: bold; text-align: right;\">12</td><td style = \"text-align: left;\">happy</td><td style = \"text-align: left;\">(3, 5, 2)\\n</td></tr><tr><td class = \"rowNumber\" style = \"font-weight: bold; text-align: right;\">13</td><td style = \"text-align: left;\">happy</td><td style = \"text-align: left;\">(3, 5, 2)\\n</td></tr><tr><td style = \"text-align: right;\">&vellip;</td><td style = \"text-align: right;\">&vellip;</td><td style = \"text-align: right;\">&vellip;</td></tr><tr><td class = \"rowNumber\" style = \"font-weight: bold; text-align: right;\">190</td><td style = \"text-align: left;\">happy</td><td style = \"text-align: left;\">(3, 5, 2)\\n</td></tr><tr><td class = \"rowNumber\" style = \"font-weight: bold; text-align: right;\">191</td><td style = \"text-align: left;\">happy</td><td style = \"text-align: left;\">(3, 5, 2)\\n</td></tr><tr><td class = \"rowNumber\" style = \"font-weight: bold; text-align: right;\">192</td><td style = \"text-align: left;\">happy</td><td style = \"text-align: left;\">(3, 5, 2)\\n</td></tr><tr><td class = \"rowNumber\" style = \"font-weight: bold; text-align: right;\">193</td><td style = \"text-align: left;\">happy</td><td style = \"text-align: left;\">(3, 5, 2)\\n</td></tr><tr><td class = \"rowNumber\" style = \"font-weight: bold; text-align: right;\">194</td><td style = \"text-align: left;\">happy</td><td style = \"text-align: left;\">(3, 5, 2)\\n</td></tr><tr><td class = \"rowNumber\" style = \"font-weight: bold; text-align: right;\">195</td><td style = \"text-align: left;\">happy</td><td style = \"text-align: left;\">(3, 5, 2)\\n</td></tr><tr><td class = \"rowNumber\" style = \"font-weight: bold; text-align: right;\">196</td><td style = \"text-align: left;\">happy</td><td style = \"text-align: left;\">(3, 5, 2)\\n</td></tr><tr><td class = \"rowNumber\" style = \"font-weight: bold; text-align: right;\">197</td><td style = \"text-align: left;\">happy</td><td style = \"text-align: left;\">(3, 5, 2)\\n</td></tr><tr><td class = \"rowNumber\" style = \"font-weight: bold; text-align: right;\">198</td><td style = \"text-align: left;\">happy</td><td style = \"text-align: left;\">(3, 5, 2)\\n</td></tr><tr><td class = \"rowNumber\" style = \"font-weight: bold; text-align: right;\">199</td><td style = \"text-align: left;\">happy</td><td style = \"text-align: left;\">(3, 5, 2)\\n</td></tr><tr><td class = \"rowNumber\" style = \"font-weight: bold; text-align: right;\">200</td><td style = \"text-align: left;\">happy</td><td style = \"text-align: left;\">(3, 5, 2)\\n</td></tr><tr><td class = \"rowNumber\" style = \"font-weight: bold; text-align: right;\">201</td><td style = \"text-align: left;\">happy</td><td style = \"text-align: left;\">(3, 5, 2)\\n</td></tr></tbody></table></div>"
      ],
      "text/latex": [
       "\\begin{tabular}{r|cc}\n",
       "\t& mood & pos\\\\\n",
       "\t\\hline\n",
       "\t& agentsfe… & Vect…\\\\\n",
       "\t\\hline\n",
       "\t1 & sad & (3, 5, 2)\\textbackslash{}n \\\\\n",
       "\t2 & happy & (3, 5, 2)\\textbackslash{}n \\\\\n",
       "\t3 & happy & (3, 5, 2)\\textbackslash{}n \\\\\n",
       "\t4 & happy & (3, 5, 2)\\textbackslash{}n \\\\\n",
       "\t5 & happy & (3, 5, 2)\\textbackslash{}n \\\\\n",
       "\t6 & happy & (3, 5, 2)\\textbackslash{}n \\\\\n",
       "\t7 & happy & (3, 5, 2)\\textbackslash{}n \\\\\n",
       "\t8 & happy & (3, 5, 2)\\textbackslash{}n \\\\\n",
       "\t9 & happy & (3, 5, 2)\\textbackslash{}n \\\\\n",
       "\t10 & happy & (3, 5, 2)\\textbackslash{}n \\\\\n",
       "\t11 & happy & (3, 5, 2)\\textbackslash{}n \\\\\n",
       "\t12 & happy & (3, 5, 2)\\textbackslash{}n \\\\\n",
       "\t13 & happy & (3, 5, 2)\\textbackslash{}n \\\\\n",
       "\t14 & happy & (3, 5, 2)\\textbackslash{}n \\\\\n",
       "\t15 & happy & (3, 5, 2)\\textbackslash{}n \\\\\n",
       "\t16 & happy & (3, 5, 2)\\textbackslash{}n \\\\\n",
       "\t17 & happy & (3, 5, 2)\\textbackslash{}n \\\\\n",
       "\t18 & happy & (3, 5, 2)\\textbackslash{}n \\\\\n",
       "\t19 & happy & (3, 5, 2)\\textbackslash{}n \\\\\n",
       "\t20 & happy & (3, 5, 2)\\textbackslash{}n \\\\\n",
       "\t21 & happy & (3, 5, 2)\\textbackslash{}n \\\\\n",
       "\t22 & happy & (3, 5, 2)\\textbackslash{}n \\\\\n",
       "\t23 & happy & (3, 5, 2)\\textbackslash{}n \\\\\n",
       "\t24 & happy & (3, 5, 2)\\textbackslash{}n \\\\\n",
       "\t25 & happy & (3, 5, 2)\\textbackslash{}n \\\\\n",
       "\t26 & happy & (3, 5, 2)\\textbackslash{}n \\\\\n",
       "\t27 & happy & (3, 5, 2)\\textbackslash{}n \\\\\n",
       "\t28 & happy & (3, 5, 2)\\textbackslash{}n \\\\\n",
       "\t29 & happy & (3, 5, 2)\\textbackslash{}n \\\\\n",
       "\t30 & happy & (3, 5, 2)\\textbackslash{}n \\\\\n",
       "\t$\\dots$ & $\\dots$ & $\\dots$ \\\\\n",
       "\\end{tabular}\n"
      ],
      "text/plain": [
       "\u001b[1m201×2 DataFrame\u001b[0m\n",
       "\u001b[1m Row \u001b[0m│\u001b[1m mood      \u001b[0m\u001b[1m pos         \u001b[0m\n",
       "     │\u001b[90m agentsfe… \u001b[0m\u001b[90m Vect…       \u001b[0m\n",
       "─────┼────────────────────────\n",
       "   1 │ sad        (3, 5, 2)\\n\n",
       "   2 │ happy      (3, 5, 2)\\n\n",
       "   3 │ happy      (3, 5, 2)\\n\n",
       "   4 │ happy      (3, 5, 2)\\n\n",
       "   5 │ happy      (3, 5, 2)\\n\n",
       "   6 │ happy      (3, 5, 2)\\n\n",
       "   7 │ happy      (3, 5, 2)\\n\n",
       "   8 │ happy      (3, 5, 2)\\n\n",
       "   9 │ happy      (3, 5, 2)\\n\n",
       "  10 │ happy      (3, 5, 2)\\n\n",
       "  11 │ happy      (3, 5, 2)\\n\n",
       "  ⋮  │     ⋮           ⋮\n",
       " 192 │ happy      (3, 5, 2)\\n\n",
       " 193 │ happy      (3, 5, 2)\\n\n",
       " 194 │ happy      (3, 5, 2)\\n\n",
       " 195 │ happy      (3, 5, 2)\\n\n",
       " 196 │ happy      (3, 5, 2)\\n\n",
       " 197 │ happy      (3, 5, 2)\\n\n",
       " 198 │ happy      (3, 5, 2)\\n\n",
       " 199 │ happy      (3, 5, 2)\\n\n",
       " 200 │ happy      (3, 5, 2)\\n\n",
       " 201 │ happy      (3, 5, 2)\\n\n",
       "\u001b[36m              180 rows omitted\u001b[0m"
      ]
     },
     "execution_count": 16,
     "metadata": {},
     "output_type": "execute_result"
    }
   ],
   "source": [
    "df = get_agent_data(model.agents[1], model).record"
   ]
  },
  {
   "cell_type": "code",
   "execution_count": null,
   "metadata": {},
   "outputs": [],
   "source": []
  }
 ],
 "metadata": {
  "@webio": {
   "lastCommId": "654fe1d21b754c24a6a71fa0ae75f4f5",
   "lastKernelId": "9c3c8871-1e92-47db-882d-2cd8db451a36"
  },
  "kernelspec": {
   "display_name": "Julia 1.9.2",
   "language": "julia",
   "name": "julia-1.9"
  },
  "language_info": {
   "file_extension": ".jl",
   "mimetype": "application/julia",
   "name": "julia",
   "version": "1.9.2"
  }
 },
 "nbformat": 4,
 "nbformat_minor": 4
}
