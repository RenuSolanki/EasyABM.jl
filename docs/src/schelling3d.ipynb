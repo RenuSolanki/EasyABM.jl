{
 "cells": [
  {
   "cell_type": "markdown",
   "metadata": {},
   "source": [
    "# Schelling segregation model 3D"
   ]
  },
  {
   "cell_type": "code",
   "execution_count": 1,
   "metadata": {},
   "outputs": [
    {
     "name": "stderr",
     "output_type": "stream",
     "text": [
      "\u001b[32m\u001b[1m  Activating\u001b[22m\u001b[39m project at `~/Documents/EasyABM`\n",
      "\u001b[36m\u001b[1m[ \u001b[22m\u001b[39m\u001b[36m\u001b[1mInfo: \u001b[22m\u001b[39mPrecompiling EasyABM [2ab8e4d3-e1e9-4248-86a3-8419d2d242e9]\n"
     ]
    },
    {
     "data": {
      "application/vnd.webio.node+json": {
       "children": [],
       "instanceArgs": {
        "namespace": "html",
        "tag": "div"
       },
       "nodeType": "DOM",
       "props": {},
       "type": "node"
      },
      "text/html": [
       "<div style=\"padding: 1em; background-color: #f8d6da; border: 1px solid #f5c6cb; font-weight: bold;\">\n",
       "<p>The WebIO Jupyter extension was not detected. See the\n",
       "<a href=\"https://juliagizmos.github.io/WebIO.jl/latest/providers/ijulia/\" target=\"_blank\">\n",
       "    WebIO Jupyter integration documentation\n",
       "</a>\n",
       "for more information.\n",
       "</div>\n"
      ],
      "text/plain": [
       "WebIO._IJuliaInit()"
      ]
     },
     "metadata": {
      "application/vnd.webio.node+json": {
       "kernelId": "c8985f39-da16-41e6-9a33-d70f5985d3f9"
      }
     },
     "output_type": "display_data"
    }
   ],
   "source": [
    "using Pkg, Revise\n",
    "Pkg.activate(joinpath(@__DIR__, \"../..\"))\n",
    "using EasyABM"
   ]
  },
  {
   "cell_type": "markdown",
   "metadata": {},
   "source": [
    "## Step 1: Create Agents and Model\n",
    "\n",
    "Lets create 200 agents with properties `pos`, `mood` and `color`. The `keeps_record_of` argument is list of properties that the agent will record during time evolution. The `min_alike` property of the model which specifies the minimum number of alike neighbors for an agent to be happy, is set to be 8. "
   ]
  },
  {
   "cell_type": "code",
   "execution_count": 2,
   "metadata": {},
   "outputs": [],
   "source": [
    "@enum agentsfeeling happy sad"
   ]
  },
  {
   "cell_type": "code",
   "execution_count": 3,
   "metadata": {
    "scrolled": true
   },
   "outputs": [
    {
     "data": {
      "text/plain": [
       "EasyABM SpaceModel3D{EasyABM.StaticType, Int64, EasyABM.NPeriodicType}: In a EasyABM.StaticType model number of agents is fixed.\n"
      ]
     },
     "execution_count": 3,
     "metadata": {},
     "output_type": "execute_result"
    }
   ],
   "source": [
    "@enum agentsfeeling happy sad\n",
    "agents = grid_3d_agents(200, pos = Vect(1,1,1), \n",
    "    color = cl\"red\", mood = happy, keeps_record_of=Set([:pos, :mood]))\n",
    "model = create_3d_model(agents, agents_type = Static, \n",
    "    space_type = NPeriodic, size = (7,7,7), min_alike = 8)"
   ]
  },
  {
   "cell_type": "markdown",
   "metadata": {},
   "source": [
    "\n",
    "## Step 2: Initialise the model\n",
    "\n",
    "In the second step we initialise the agents by defining `initialiser!` function and then sending it as an argument to `init_model!`. In the `initialiser!` function we randomly set agents color to be either `cl\"red\"` or `cl\"green\"` and set their positions randomly such that there is not more than one agent on each patch. Then we set the `mood` property of each agent to be `happy` or `sad` depending upon the number of alike agents in neighborhood. "
   ]
  },
  {
   "cell_type": "code",
   "execution_count": 4,
   "metadata": {},
   "outputs": [],
   "source": [
    "function initialiser!(model)\n",
    "    for agent in model.agents\n",
    "        agent.color = [cl\"red\", cl\"green\"][rand(1:2)]\n",
    "        x,y,z = random_empty_patch(model) \n",
    "        agent.pos = Vect(x, y, z)     \n",
    "    end    \n",
    "    for agent in model.agents\n",
    "        nbrs = neighbors_moore(agent, model, 1)\n",
    "        num_same = 0\n",
    "        for nbr in nbrs\n",
    "            if nbr.color == agent.color\n",
    "                num_same += 1\n",
    "            end\n",
    "        end\n",
    "        if num_same < model.parameters.min_alike\n",
    "            agent.mood = sad\n",
    "        end\n",
    "    end\n",
    "end\n",
    "init_model!(model, initialiser = initialiser!)"
   ]
  },
  {
   "cell_type": "markdown",
   "metadata": {},
   "source": [
    "\n",
    "## Step 3: Defining the step_rule! and running the model\n",
    "\n",
    "In this step we implement the step logic of the Schellings model in the `step_rule!` function and run the model for 100 steps. "
   ]
  },
  {
   "cell_type": "code",
   "execution_count": 5,
   "metadata": {},
   "outputs": [
    {
     "data": {
      "text/plain": [
       "step_rule! (generic function with 1 method)"
      ]
     },
     "execution_count": 5,
     "metadata": {},
     "output_type": "execute_result"
    }
   ],
   "source": [
    "function step_rule!(model)\n",
    "    min_alike = model.parameters.min_alike\n",
    "    for agent in model.agents\n",
    "        num_alike = 0\n",
    "        for nbr in neighbors_moore(agent, model,1)\n",
    "            if agent.color == nbr.color\n",
    "                num_alike += 1\n",
    "            end\n",
    "        end\n",
    "        if num_alike ≥ min_alike\n",
    "            agent.mood = happy\n",
    "        else\n",
    "            agent.mood = sad\n",
    "            x,y,z = random_empty_patch(model) \n",
    "            agent.pos = Vect(x, y, z)\n",
    "        end\n",
    "    end\n",
    "    return\n",
    "end"
   ]
  },
  {
   "cell_type": "code",
   "execution_count": 6,
   "metadata": {
    "scrolled": true
   },
   "outputs": [],
   "source": [
    "run_model!(model, steps=100, step_rule = step_rule!)"
   ]
  },
  {
   "cell_type": "markdown",
   "metadata": {},
   "source": [
    "## Step 4: Visualisation"
   ]
  },
  {
   "cell_type": "markdown",
   "metadata": {},
   "source": [
    "The following code will draw the state of the model at frame number 4. "
   ]
  },
  {
   "cell_type": "code",
   "execution_count": 7,
   "metadata": {},
   "outputs": [
    {
     "name": "stderr",
     "output_type": "stream",
     "text": [
      "\u001b[36m\u001b[1m[ \u001b[22m\u001b[39m\u001b[36m\u001b[1mInfo: \u001b[22m\u001b[39mListening on: 127.0.0.1:8719, thread id: 1\n",
      "\u001b[36m\u001b[1m┌ \u001b[22m\u001b[39m\u001b[36m\u001b[1mInfo: \u001b[22m\u001b[39mMeshCat server started. You can open the visualizer by visiting the following URL in your browser:\n",
      "\u001b[36m\u001b[1m└ \u001b[22m\u001b[39mhttp://127.0.0.1:8719\n"
     ]
    },
    {
     "data": {
      "text/html": [
       "    <div style=\"height: 500px; width: 100%; overflow-x: auto; overflow-y: hidden; resize: both\">\n",
       "    <iframe src=\"http://127.0.0.1:8719\" style=\"width: 100%; height: 100%; border: none\"></iframe>\n",
       "    </div>\n"
      ],
      "text/plain": [
       "MeshCat.DisplayedVisualizer(MeshCat.CoreVisualizer(MeshCat.SceneTrees.SceneNode(nothing, nothing, Dict{String, Vector{UInt8}}(), nothing, Dict{String, MeshCat.SceneTrees.SceneNode}(\"meshcat\" => MeshCat.SceneTrees.SceneNode(nothing, UInt8[0x83, 0xa6, 0x6d, 0x61, 0x74, 0x72, 0x69, 0x78, 0xc7, 0x40  …  0x68, 0xa8, 0x2f, 0x6d, 0x65, 0x73, 0x68, 0x63, 0x61, 0x74], Dict{String, Vector{UInt8}}(), nothing, Dict{String, MeshCat.SceneTrees.SceneNode}(\"agents\" => MeshCat.SceneTrees.SceneNode(nothing, nothing, Dict{String, Vector{UInt8}}(), nothing, Dict{String, MeshCat.SceneTrees.SceneNode}(\"1\" => MeshCat.SceneTrees.SceneNode(UInt8[0x83, 0xa6, 0x6f, 0x62, 0x6a, 0x65, 0x63, 0x74, 0x84, 0xaa  …  0x74, 0x2f, 0x61, 0x67, 0x65, 0x6e, 0x74, 0x73, 0x2f, 0x31], UInt8[0x83, 0xa6, 0x6d, 0x61, 0x74, 0x72, 0x69, 0x78, 0xc7, 0x40  …  0x74, 0x2f, 0x61, 0x67, 0x65, 0x6e, 0x74, 0x73, 0x2f, 0x31], Dict{String, Vector{UInt8}}(\"position\" => [0x84, 0xa8, 0x70, 0x72, 0x6f, 0x70, 0x65, 0x72, 0x74, 0x79  …  0x74, 0x2f, 0x61, 0x67, 0x65, 0x6e, 0x74, 0x73, 0x2f, 0x31]), nothing, Dict{String, MeshCat.SceneTrees.SceneNode}()), \"54\" => MeshCat.SceneTrees.SceneNode(UInt8[0x83, 0xa6, 0x6f, 0x62, 0x6a, 0x65, 0x63, 0x74, 0x84, 0xaa  …  0x2f, 0x61, 0x67, 0x65, 0x6e, 0x74, 0x73, 0x2f, 0x35, 0x34], UInt8[0x83, 0xa6, 0x6d, 0x61, 0x74, 0x72, 0x69, 0x78, 0xc7, 0x40  …  0x2f, 0x61, 0x67, 0x65, 0x6e, 0x74, 0x73, 0x2f, 0x35, 0x34], Dict{String, Vector{UInt8}}(\"position\" => [0x84, 0xa8, 0x70, 0x72, 0x6f, 0x70, 0x65, 0x72, 0x74, 0x79  …  0x2f, 0x61, 0x67, 0x65, 0x6e, 0x74, 0x73, 0x2f, 0x35, 0x34]), nothing, Dict{String, MeshCat.SceneTrees.SceneNode}()), \"101\" => MeshCat.SceneTrees.SceneNode(UInt8[0x83, 0xa6, 0x6f, 0x62, 0x6a, 0x65, 0x63, 0x74, 0x84, 0xaa  …  0x61, 0x67, 0x65, 0x6e, 0x74, 0x73, 0x2f, 0x31, 0x30, 0x31], UInt8[0x83, 0xa6, 0x6d, 0x61, 0x74, 0x72, 0x69, 0x78, 0xc7, 0x40  …  0x61, 0x67, 0x65, 0x6e, 0x74, 0x73, 0x2f, 0x31, 0x30, 0x31], Dict{String, Vector{UInt8}}(\"position\" => [0x84, 0xa8, 0x70, 0x72, 0x6f, 0x70, 0x65, 0x72, 0x74, 0x79  …  0x61, 0x67, 0x65, 0x6e, 0x74, 0x73, 0x2f, 0x31, 0x30, 0x31]), nothing, Dict{String, MeshCat.SceneTrees.SceneNode}()), \"41\" => MeshCat.SceneTrees.SceneNode(UInt8[0x83, 0xa6, 0x6f, 0x62, 0x6a, 0x65, 0x63, 0x74, 0x84, 0xaa  …  0x2f, 0x61, 0x67, 0x65, 0x6e, 0x74, 0x73, 0x2f, 0x34, 0x31], UInt8[0x83, 0xa6, 0x6d, 0x61, 0x74, 0x72, 0x69, 0x78, 0xc7, 0x40  …  0x2f, 0x61, 0x67, 0x65, 0x6e, 0x74, 0x73, 0x2f, 0x34, 0x31], Dict{String, Vector{UInt8}}(\"position\" => [0x84, 0xa8, 0x70, 0x72, 0x6f, 0x70, 0x65, 0x72, 0x74, 0x79  …  0x2f, 0x61, 0x67, 0x65, 0x6e, 0x74, 0x73, 0x2f, 0x34, 0x31]), nothing, Dict{String, MeshCat.SceneTrees.SceneNode}()), \"65\" => MeshCat.SceneTrees.SceneNode(UInt8[0x83, 0xa6, 0x6f, 0x62, 0x6a, 0x65, 0x63, 0x74, 0x84, 0xaa  …  0x2f, 0x61, 0x67, 0x65, 0x6e, 0x74, 0x73, 0x2f, 0x36, 0x35], UInt8[0x83, 0xa6, 0x6d, 0x61, 0x74, 0x72, 0x69, 0x78, 0xc7, 0x40  …  0x2f, 0x61, 0x67, 0x65, 0x6e, 0x74, 0x73, 0x2f, 0x36, 0x35], Dict{String, Vector{UInt8}}(\"position\" => [0x84, 0xa8, 0x70, 0x72, 0x6f, 0x70, 0x65, 0x72, 0x74, 0x79  …  0x2f, 0x61, 0x67, 0x65, 0x6e, 0x74, 0x73, 0x2f, 0x36, 0x35]), nothing, Dict{String, MeshCat.SceneTrees.SceneNode}()), \"168\" => MeshCat.SceneTrees.SceneNode(UInt8[0x83, 0xa6, 0x6f, 0x62, 0x6a, 0x65, 0x63, 0x74, 0x84, 0xaa  …  0x61, 0x67, 0x65, 0x6e, 0x74, 0x73, 0x2f, 0x31, 0x36, 0x38], UInt8[0x83, 0xa6, 0x6d, 0x61, 0x74, 0x72, 0x69, 0x78, 0xc7, 0x40  …  0x61, 0x67, 0x65, 0x6e, 0x74, 0x73, 0x2f, 0x31, 0x36, 0x38], Dict{String, Vector{UInt8}}(\"position\" => [0x84, 0xa8, 0x70, 0x72, 0x6f, 0x70, 0x65, 0x72, 0x74, 0x79  …  0x61, 0x67, 0x65, 0x6e, 0x74, 0x73, 0x2f, 0x31, 0x36, 0x38]), nothing, Dict{String, MeshCat.SceneTrees.SceneNode}()), \"159\" => MeshCat.SceneTrees.SceneNode(UInt8[0x83, 0xa6, 0x6f, 0x62, 0x6a, 0x65, 0x63, 0x74, 0x84, 0xaa  …  0x61, 0x67, 0x65, 0x6e, 0x74, 0x73, 0x2f, 0x31, 0x35, 0x39], UInt8[0x83, 0xa6, 0x6d, 0x61, 0x74, 0x72, 0x69, 0x78, 0xc7, 0x40  …  0x61, 0x67, 0x65, 0x6e, 0x74, 0x73, 0x2f, 0x31, 0x35, 0x39], Dict{String, Vector{UInt8}}(\"position\" => [0x84, 0xa8, 0x70, 0x72, 0x6f, 0x70, 0x65, 0x72, 0x74, 0x79  …  0x61, 0x67, 0x65, 0x6e, 0x74, 0x73, 0x2f, 0x31, 0x35, 0x39]), nothing, Dict{String, MeshCat.SceneTrees.SceneNode}()), \"190\" => MeshCat.SceneTrees.SceneNode(UInt8[0x83, 0xa6, 0x6f, 0x62, 0x6a, 0x65, 0x63, 0x74, 0x84, 0xaa  …  0x61, 0x67, 0x65, 0x6e, 0x74, 0x73, 0x2f, 0x31, 0x39, 0x30], UInt8[0x83, 0xa6, 0x6d, 0x61, 0x74, 0x72, 0x69, 0x78, 0xc7, 0x40  …  0x61, 0x67, 0x65, 0x6e, 0x74, 0x73, 0x2f, 0x31, 0x39, 0x30], Dict{String, Vector{UInt8}}(\"position\" => [0x84, 0xa8, 0x70, 0x72, 0x6f, 0x70, 0x65, 0x72, 0x74, 0x79  …  0x61, 0x67, 0x65, 0x6e, 0x74, 0x73, 0x2f, 0x31, 0x39, 0x30]), nothing, Dict{String, MeshCat.SceneTrees.SceneNode}()), \"88\" => MeshCat.SceneTrees.SceneNode(UInt8[0x83, 0xa6, 0x6f, 0x62, 0x6a, 0x65, 0x63, 0x74, 0x84, 0xaa  …  0x2f, 0x61, 0x67, 0x65, 0x6e, 0x74, 0x73, 0x2f, 0x38, 0x38], UInt8[0x83, 0xa6, 0x6d, 0x61, 0x74, 0x72, 0x69, 0x78, 0xc7, 0x40  …  0x2f, 0x61, 0x67, 0x65, 0x6e, 0x74, 0x73, 0x2f, 0x38, 0x38], Dict{String, Vector{UInt8}}(\"position\" => [0x84, 0xa8, 0x70, 0x72, 0x6f, 0x70, 0x65, 0x72, 0x74, 0x79  …  0x2f, 0x61, 0x67, 0x65, 0x6e, 0x74, 0x73, 0x2f, 0x38, 0x38]), nothing, Dict{String, MeshCat.SceneTrees.SceneNode}()), \"26\" => MeshCat.SceneTrees.SceneNode(UInt8[0x83, 0xa6, 0x6f, 0x62, 0x6a, 0x65, 0x63, 0x74, 0x84, 0xaa  …  0x2f, 0x61, 0x67, 0x65, 0x6e, 0x74, 0x73, 0x2f, 0x32, 0x36], UInt8[0x83, 0xa6, 0x6d, 0x61, 0x74, 0x72, 0x69, 0x78, 0xc7, 0x40  …  0x2f, 0x61, 0x67, 0x65, 0x6e, 0x74, 0x73, 0x2f, 0x32, 0x36], Dict{String, Vector{UInt8}}(\"position\" => [0x84, 0xa8, 0x70, 0x72, 0x6f, 0x70, 0x65, 0x72, 0x74, 0x79  …  0x2f, 0x61, 0x67, 0x65, 0x6e, 0x74, 0x73, 0x2f, 0x32, 0x36]), nothing, Dict{String, MeshCat.SceneTrees.SceneNode}())…)), \"bbox_line_segments\" => MeshCat.SceneTrees.SceneNode(nothing, nothing, Dict{String, Vector{UInt8}}(), nothing, Dict{String, MeshCat.SceneTrees.SceneNode}(\"4\" => MeshCat.SceneTrees.SceneNode(UInt8[0x83, 0xa6, 0x6f, 0x62, 0x6a, 0x65, 0x63, 0x74, 0x84, 0xaa  …  0x73, 0x65, 0x67, 0x6d, 0x65, 0x6e, 0x74, 0x73, 0x2f, 0x34], nothing, Dict{String, Vector{UInt8}}(), nothing, Dict{String, MeshCat.SceneTrees.SceneNode}()), \"1\" => MeshCat.SceneTrees.SceneNode(UInt8[0x83, 0xa6, 0x6f, 0x62, 0x6a, 0x65, 0x63, 0x74, 0x84, 0xaa  …  0x73, 0x65, 0x67, 0x6d, 0x65, 0x6e, 0x74, 0x73, 0x2f, 0x31], nothing, Dict{String, Vector{UInt8}}(), nothing, Dict{String, MeshCat.SceneTrees.SceneNode}()), \"12\" => MeshCat.SceneTrees.SceneNode(UInt8[0x83, 0xa6, 0x6f, 0x62, 0x6a, 0x65, 0x63, 0x74, 0x84, 0xaa  …  0x65, 0x67, 0x6d, 0x65, 0x6e, 0x74, 0x73, 0x2f, 0x31, 0x32], nothing, Dict{String, Vector{UInt8}}(), nothing, Dict{String, MeshCat.SceneTrees.SceneNode}()), \"2\" => MeshCat.SceneTrees.SceneNode(UInt8[0x83, 0xa6, 0x6f, 0x62, 0x6a, 0x65, 0x63, 0x74, 0x84, 0xaa  …  0x73, 0x65, 0x67, 0x6d, 0x65, 0x6e, 0x74, 0x73, 0x2f, 0x32], nothing, Dict{String, Vector{UInt8}}(), nothing, Dict{String, MeshCat.SceneTrees.SceneNode}()), \"6\" => MeshCat.SceneTrees.SceneNode(UInt8[0x83, 0xa6, 0x6f, 0x62, 0x6a, 0x65, 0x63, 0x74, 0x84, 0xaa  …  0x73, 0x65, 0x67, 0x6d, 0x65, 0x6e, 0x74, 0x73, 0x2f, 0x36], nothing, Dict{String, Vector{UInt8}}(), nothing, Dict{String, MeshCat.SceneTrees.SceneNode}()), \"11\" => MeshCat.SceneTrees.SceneNode(UInt8[0x83, 0xa6, 0x6f, 0x62, 0x6a, 0x65, 0x63, 0x74, 0x84, 0xaa  …  0x65, 0x67, 0x6d, 0x65, 0x6e, 0x74, 0x73, 0x2f, 0x31, 0x31], nothing, Dict{String, Vector{UInt8}}(), nothing, Dict{String, MeshCat.SceneTrees.SceneNode}()), \"5\" => MeshCat.SceneTrees.SceneNode(UInt8[0x83, 0xa6, 0x6f, 0x62, 0x6a, 0x65, 0x63, 0x74, 0x84, 0xaa  …  0x73, 0x65, 0x67, 0x6d, 0x65, 0x6e, 0x74, 0x73, 0x2f, 0x35], nothing, Dict{String, Vector{UInt8}}(), nothing, Dict{String, MeshCat.SceneTrees.SceneNode}()), \"7\" => MeshCat.SceneTrees.SceneNode(UInt8[0x83, 0xa6, 0x6f, 0x62, 0x6a, 0x65, 0x63, 0x74, 0x84, 0xaa  …  0x73, 0x65, 0x67, 0x6d, 0x65, 0x6e, 0x74, 0x73, 0x2f, 0x37], nothing, Dict{String, Vector{UInt8}}(), nothing, Dict{String, MeshCat.SceneTrees.SceneNode}()), \"8\" => MeshCat.SceneTrees.SceneNode(UInt8[0x83, 0xa6, 0x6f, 0x62, 0x6a, 0x65, 0x63, 0x74, 0x84, 0xaa  …  0x73, 0x65, 0x67, 0x6d, 0x65, 0x6e, 0x74, 0x73, 0x2f, 0x38], nothing, Dict{String, Vector{UInt8}}(), nothing, Dict{String, MeshCat.SceneTrees.SceneNode}()), \"10\" => MeshCat.SceneTrees.SceneNode(UInt8[0x83, 0xa6, 0x6f, 0x62, 0x6a, 0x65, 0x63, 0x74, 0x84, 0xaa  …  0x65, 0x67, 0x6d, 0x65, 0x6e, 0x74, 0x73, 0x2f, 0x31, 0x30], nothing, Dict{String, Vector{UInt8}}(), nothing, Dict{String, MeshCat.SceneTrees.SceneNode}())…)))), \"Axes\" => MeshCat.SceneTrees.SceneNode(nothing, nothing, Dict{String, Vector{UInt8}}(), nothing, Dict{String, MeshCat.SceneTrees.SceneNode}(\"<object>\" => MeshCat.SceneTrees.SceneNode(UInt8[0x83, 0xa6, 0x6f, 0x62, 0x6a, 0x65, 0x63, 0x74, 0x84, 0xaa  …  0x73, 0x2f, 0x3c, 0x6f, 0x62, 0x6a, 0x65, 0x63, 0x74, 0x3e], UInt8[0x83, 0xa6, 0x6d, 0x61, 0x74, 0x72, 0x69, 0x78, 0xc7, 0x40  …  0x73, 0x2f, 0x3c, 0x6f, 0x62, 0x6a, 0x65, 0x63, 0x74, 0x3e], Dict{String, Vector{UInt8}}(), nothing, Dict{String, MeshCat.SceneTrees.SceneNode}()))))), Set{HTTP.WebSockets.WebSocket}(), ip\"127.0.0.1\", 8719))"
      ]
     },
     "execution_count": 7,
     "metadata": {},
     "output_type": "execute_result"
    }
   ],
   "source": [
    "draw_frame(model, frame=4)"
   ]
  },
  {
   "cell_type": "markdown",
   "metadata": {},
   "source": [
    "If one wants to see the animation of the model run, it can be done as "
   ]
  },
  {
   "cell_type": "code",
   "execution_count": 8,
   "metadata": {},
   "outputs": [
    {
     "name": "stderr",
     "output_type": "stream",
     "text": [
      "\u001b[36m\u001b[1m[ \u001b[22m\u001b[39m\u001b[36m\u001b[1mInfo: \u001b[22m\u001b[39mListening on: 127.0.0.1:8720, thread id: 1\n",
      "\u001b[36m\u001b[1m┌ \u001b[22m\u001b[39m\u001b[36m\u001b[1mInfo: \u001b[22m\u001b[39mMeshCat server started. You can open the visualizer by visiting the following URL in your browser:\n",
      "\u001b[36m\u001b[1m└ \u001b[22m\u001b[39mhttp://127.0.0.1:8720\n"
     ]
    },
    {
     "data": {
      "application/vnd.webio.node+json": {
       "children": [
        {
         "children": [
          {
           "children": [
            {
             "children": [
              {
               "children": [
                {
                 "children": [
                  {
                   "children": [
                    {
                     "children": [
                      "time"
                     ],
                     "instanceArgs": {
                      "namespace": "html",
                      "tag": "label"
                     },
                     "nodeType": "DOM",
                     "props": {
                      "className": "interact ",
                      "style": {
                       "padding": "5px 10px 0px 10px"
                      }
                     },
                     "type": "node"
                    }
                   ],
                   "instanceArgs": {
                    "namespace": "html",
                    "tag": "div"
                   },
                   "nodeType": "DOM",
                   "props": {
                    "className": "interact-flex-row-left"
                   },
                   "type": "node"
                  },
                  {
                   "children": [
                    {
                     "children": [],
                     "instanceArgs": {
                      "namespace": "html",
                      "tag": "input"
                     },
                     "nodeType": "DOM",
                     "props": {
                      "attributes": {
                       "data-bind": "numericValue: index, valueUpdate: 'input', event: {change: function (){this.changes(this.changes()+1)}}",
                       "orient": "horizontal",
                       "type": "range"
                      },
                      "className": "slider slider is-fullwidth",
                      "max": 20,
                      "min": 1,
                      "step": 1,
                      "style": {}
                     },
                     "type": "node"
                    }
                   ],
                   "instanceArgs": {
                    "namespace": "html",
                    "tag": "div"
                   },
                   "nodeType": "DOM",
                   "props": {
                    "className": "interact-flex-row-center"
                   },
                   "type": "node"
                  },
                  {
                   "children": [
                    {
                     "children": [],
                     "instanceArgs": {
                      "namespace": "html",
                      "tag": "p"
                     },
                     "nodeType": "DOM",
                     "props": {
                      "attributes": {
                       "data-bind": "text: formatted_val"
                      }
                     },
                     "type": "node"
                    }
                   ],
                   "instanceArgs": {
                    "namespace": "html",
                    "tag": "div"
                   },
                   "nodeType": "DOM",
                   "props": {
                    "className": "interact-flex-row-right"
                   },
                   "type": "node"
                  }
                 ],
                 "instanceArgs": {
                  "namespace": "html",
                  "tag": "div"
                 },
                 "nodeType": "DOM",
                 "props": {
                  "className": "interact-flex-row interact-widget"
                 },
                 "type": "node"
                }
               ],
               "instanceArgs": {
                "handlers": {
                 "changes": [
                  "(function (val){return (val!=this.model[\"changes\"]()) ? (this.valueFromJulia[\"changes\"]=true, this.model[\"changes\"](val)) : undefined})"
                 ],
                 "index": [
                  "(function (val){return (val!=this.model[\"index\"]()) ? (this.valueFromJulia[\"index\"]=true, this.model[\"index\"](val)) : undefined})"
                 ]
                },
                "id": "16461535665047080778",
                "imports": {
                 "data": [
                  {
                   "name": "knockout",
                   "type": "js",
                   "url": "/assetserver/727383f2a47bd31570b7da84eee7b022dd6d7c78-knockout.js"
                  },
                  {
                   "name": "knockout_punches",
                   "type": "js",
                   "url": "/assetserver/382b41b3b1bd9f26f75861d360bad7f8beea211f-knockout_punches.js"
                  },
                  {
                   "name": null,
                   "type": "js",
                   "url": "/assetserver/5ab20f1060420992a9b82a65b735dee4d81ef413-all.js"
                  },
                  {
                   "name": null,
                   "type": "css",
                   "url": "/assetserver/1cc0ed62837210b80a182cc3676512f895dab686-style.css"
                  },
                  {
                   "name": null,
                   "type": "css",
                   "url": "/assetserver/2eee816f616df3549d7044d45e744fbf8d42bfa1-bulma_confined.min.css"
                  }
                 ],
                 "type": "async_block"
                },
                "mount_callbacks": [
                 "function () {\n    var handler = (function (ko, koPunches) {\n    ko.punches.enableAll();\n    ko.bindingHandlers.numericValue = {\n        init: function(element, valueAccessor, allBindings, data, context) {\n            var stringified = ko.observable(ko.unwrap(valueAccessor()));\n            stringified.subscribe(function(value) {\n                var val = parseFloat(value);\n                if (!isNaN(val)) {\n                    valueAccessor()(val);\n                }\n            });\n            valueAccessor().subscribe(function(value) {\n                var str = JSON.stringify(value);\n                if ((str == \"0\") && ([\"-0\", \"-0.\"].indexOf(stringified()) >= 0))\n                     return;\n                 if ([\"null\", \"\"].indexOf(str) >= 0)\n                     return;\n                stringified(str);\n            });\n            ko.applyBindingsToNode(\n                element,\n                {\n                    value: stringified,\n                    valueUpdate: allBindings.get('valueUpdate'),\n                },\n                context,\n            );\n        }\n    };\n    var json_data = {\"formatted_vals\":[\"1\",\"2\",\"3\",\"4\",\"5\",\"6\",\"7\",\"8\",\"9\",\"10\",\"11\",\"12\",\"13\",\"14\",\"15\",\"16\",\"17\",\"18\",\"19\",\"20\"],\"changes\":WebIO.getval({\"name\":\"changes\",\"scope\":\"16461535665047080778\",\"id\":\"13908687752822770195\",\"type\":\"observable\"}),\"index\":WebIO.getval({\"name\":\"index\",\"scope\":\"16461535665047080778\",\"id\":\"1066359930470112392\",\"type\":\"observable\"})};\n    var self = this;\n    function AppViewModel() {\n        for (var key in json_data) {\n            var el = json_data[key];\n            this[key] = Array.isArray(el) ? ko.observableArray(el) : ko.observable(el);\n        }\n        \n        [this[\"formatted_val\"]=ko.computed(    function(){\n        return this.formatted_vals()[parseInt(this.index())-(1)];\n    }\n,this)]\n        [this[\"changes\"].subscribe((function (val){!(this.valueFromJulia[\"changes\"]) ? (WebIO.setval({\"name\":\"changes\",\"scope\":\"16461535665047080778\",\"id\":\"13908687752822770195\",\"type\":\"observable\"},val)) : undefined; return this.valueFromJulia[\"changes\"]=false}),self),this[\"index\"].subscribe((function (val){!(this.valueFromJulia[\"index\"]) ? (WebIO.setval({\"name\":\"index\",\"scope\":\"16461535665047080778\",\"id\":\"1066359930470112392\",\"type\":\"observable\"},val)) : undefined; return this.valueFromJulia[\"index\"]=false}),self)]\n        \n    }\n    self.model = new AppViewModel();\n    self.valueFromJulia = {};\n    for (var key in json_data) {\n        self.valueFromJulia[key] = false;\n    }\n    ko.applyBindings(self.model, self.dom);\n}\n);\n    (WebIO.importBlock({\"data\":[{\"name\":\"knockout\",\"type\":\"js\",\"url\":\"/assetserver/727383f2a47bd31570b7da84eee7b022dd6d7c78-knockout.js\"},{\"name\":\"knockout_punches\",\"type\":\"js\",\"url\":\"/assetserver/382b41b3b1bd9f26f75861d360bad7f8beea211f-knockout_punches.js\"}],\"type\":\"async_block\"})).then((imports) => handler.apply(this, imports));\n}\n"
                ],
                "observables": {
                 "changes": {
                  "id": "13908687752822770195",
                  "sync": false,
                  "value": 0
                 },
                 "index": {
                  "id": "1066359930470112392",
                  "sync": true,
                  "value": 10
                 }
                },
                "systemjs_options": null
               },
               "nodeType": "Scope",
               "props": {},
               "type": "node"
              }
             ],
             "instanceArgs": {
              "namespace": "html",
              "tag": "div"
             },
             "nodeType": "DOM",
             "props": {
              "className": "field interact-widget"
             },
             "type": "node"
            },
            {
             "children": [
              {
               "children": [
                {
                 "children": [
                  {
                   "children": [
                    {
                     "children": [
                      "scale"
                     ],
                     "instanceArgs": {
                      "namespace": "html",
                      "tag": "label"
                     },
                     "nodeType": "DOM",
                     "props": {
                      "className": "interact ",
                      "style": {
                       "padding": "5px 10px 0px 10px"
                      }
                     },
                     "type": "node"
                    }
                   ],
                   "instanceArgs": {
                    "namespace": "html",
                    "tag": "div"
                   },
                   "nodeType": "DOM",
                   "props": {
                    "className": "interact-flex-row-left"
                   },
                   "type": "node"
                  },
                  {
                   "children": [
                    {
                     "children": [],
                     "instanceArgs": {
                      "namespace": "html",
                      "tag": "input"
                     },
                     "nodeType": "DOM",
                     "props": {
                      "attributes": {
                       "data-bind": "numericValue: index, valueUpdate: 'input', event: {change: function (){this.changes(this.changes()+1)}}",
                       "orient": "horizontal",
                       "type": "range"
                      },
                      "className": "slider slider is-fullwidth",
                      "max": 20,
                      "min": 1,
                      "step": 1,
                      "style": {}
                     },
                     "type": "node"
                    }
                   ],
                   "instanceArgs": {
                    "namespace": "html",
                    "tag": "div"
                   },
                   "nodeType": "DOM",
                   "props": {
                    "className": "interact-flex-row-center"
                   },
                   "type": "node"
                  },
                  {
                   "children": [
                    {
                     "children": [],
                     "instanceArgs": {
                      "namespace": "html",
                      "tag": "p"
                     },
                     "nodeType": "DOM",
                     "props": {
                      "attributes": {
                       "data-bind": "text: formatted_val"
                      }
                     },
                     "type": "node"
                    }
                   ],
                   "instanceArgs": {
                    "namespace": "html",
                    "tag": "div"
                   },
                   "nodeType": "DOM",
                   "props": {
                    "className": "interact-flex-row-right"
                   },
                   "type": "node"
                  }
                 ],
                 "instanceArgs": {
                  "namespace": "html",
                  "tag": "div"
                 },
                 "nodeType": "DOM",
                 "props": {
                  "className": "interact-flex-row interact-widget"
                 },
                 "type": "node"
                }
               ],
               "instanceArgs": {
                "handlers": {
                 "changes": [
                  "(function (val){return (val!=this.model[\"changes\"]()) ? (this.valueFromJulia[\"changes\"]=true, this.model[\"changes\"](val)) : undefined})"
                 ],
                 "index": [
                  "(function (val){return (val!=this.model[\"index\"]()) ? (this.valueFromJulia[\"index\"]=true, this.model[\"index\"](val)) : undefined})"
                 ]
                },
                "id": "8367660254991233097",
                "imports": {
                 "data": [
                  {
                   "name": "knockout",
                   "type": "js",
                   "url": "/assetserver/727383f2a47bd31570b7da84eee7b022dd6d7c78-knockout.js"
                  },
                  {
                   "name": "knockout_punches",
                   "type": "js",
                   "url": "/assetserver/382b41b3b1bd9f26f75861d360bad7f8beea211f-knockout_punches.js"
                  },
                  {
                   "name": null,
                   "type": "js",
                   "url": "/assetserver/5ab20f1060420992a9b82a65b735dee4d81ef413-all.js"
                  },
                  {
                   "name": null,
                   "type": "css",
                   "url": "/assetserver/1cc0ed62837210b80a182cc3676512f895dab686-style.css"
                  },
                  {
                   "name": null,
                   "type": "css",
                   "url": "/assetserver/2eee816f616df3549d7044d45e744fbf8d42bfa1-bulma_confined.min.css"
                  }
                 ],
                 "type": "async_block"
                },
                "mount_callbacks": [
                 "function () {\n    var handler = (function (ko, koPunches) {\n    ko.punches.enableAll();\n    ko.bindingHandlers.numericValue = {\n        init: function(element, valueAccessor, allBindings, data, context) {\n            var stringified = ko.observable(ko.unwrap(valueAccessor()));\n            stringified.subscribe(function(value) {\n                var val = parseFloat(value);\n                if (!isNaN(val)) {\n                    valueAccessor()(val);\n                }\n            });\n            valueAccessor().subscribe(function(value) {\n                var str = JSON.stringify(value);\n                if ((str == \"0\") && ([\"-0\", \"-0.\"].indexOf(stringified()) >= 0))\n                     return;\n                 if ([\"null\", \"\"].indexOf(str) >= 0)\n                     return;\n                stringified(str);\n            });\n            ko.applyBindingsToNode(\n                element,\n                {\n                    value: stringified,\n                    valueUpdate: allBindings.get('valueUpdate'),\n                },\n                context,\n            );\n        }\n    };\n    var json_data = {\"formatted_vals\":[\"0.1\",\"0.2\",\"0.3\",\"0.4\",\"0.5\",\"0.6\",\"0.7\",\"0.8\",\"0.9\",\"1.0\",\"1.1\",\"1.2\",\"1.3\",\"1.4\",\"1.5\",\"1.6\",\"1.7\",\"1.8\",\"1.9\",\"2.0\"],\"changes\":WebIO.getval({\"name\":\"changes\",\"scope\":\"8367660254991233097\",\"id\":\"2992107764499350611\",\"type\":\"observable\"}),\"index\":WebIO.getval({\"name\":\"index\",\"scope\":\"8367660254991233097\",\"id\":\"9949113998010829148\",\"type\":\"observable\"})};\n    var self = this;\n    function AppViewModel() {\n        for (var key in json_data) {\n            var el = json_data[key];\n            this[key] = Array.isArray(el) ? ko.observableArray(el) : ko.observable(el);\n        }\n        \n        [this[\"formatted_val\"]=ko.computed(    function(){\n        return this.formatted_vals()[parseInt(this.index())-(1)];\n    }\n,this)]\n        [this[\"changes\"].subscribe((function (val){!(this.valueFromJulia[\"changes\"]) ? (WebIO.setval({\"name\":\"changes\",\"scope\":\"8367660254991233097\",\"id\":\"2992107764499350611\",\"type\":\"observable\"},val)) : undefined; return this.valueFromJulia[\"changes\"]=false}),self),this[\"index\"].subscribe((function (val){!(this.valueFromJulia[\"index\"]) ? (WebIO.setval({\"name\":\"index\",\"scope\":\"8367660254991233097\",\"id\":\"9949113998010829148\",\"type\":\"observable\"},val)) : undefined; return this.valueFromJulia[\"index\"]=false}),self)]\n        \n    }\n    self.model = new AppViewModel();\n    self.valueFromJulia = {};\n    for (var key in json_data) {\n        self.valueFromJulia[key] = false;\n    }\n    ko.applyBindings(self.model, self.dom);\n}\n);\n    (WebIO.importBlock({\"data\":[{\"name\":\"knockout\",\"type\":\"js\",\"url\":\"/assetserver/727383f2a47bd31570b7da84eee7b022dd6d7c78-knockout.js\"},{\"name\":\"knockout_punches\",\"type\":\"js\",\"url\":\"/assetserver/382b41b3b1bd9f26f75861d360bad7f8beea211f-knockout_punches.js\"}],\"type\":\"async_block\"})).then((imports) => handler.apply(this, imports));\n}\n"
                ],
                "observables": {
                 "changes": {
                  "id": "2992107764499350611",
                  "sync": false,
                  "value": 0
                 },
                 "index": {
                  "id": "9949113998010829148",
                  "sync": true,
                  "value": 10
                 }
                },
                "systemjs_options": null
               },
               "nodeType": "Scope",
               "props": {},
               "type": "node"
              }
             ],
             "instanceArgs": {
              "namespace": "html",
              "tag": "div"
             },
             "nodeType": "DOM",
             "props": {
              "className": "field interact-widget"
             },
             "type": "node"
            },
            {
             "children": [
              {
               "children": [
                {
                 "children": [
                  {
                   "children": [],
                   "instanceArgs": {
                    "namespace": "html",
                    "tag": "div"
                   },
                   "nodeType": "DOM",
                   "props": {
                    "id": "container"
                   },
                   "type": "node"
                  }
                 ],
                 "instanceArgs": {
                  "handlers": {
                   "value": [
                    "(function (txt){return this.k.render(txt,this.container)})"
                   ]
                  },
                  "id": "8865826607729124342",
                  "imports": {
                   "data": [
                    {
                     "name": null,
                     "type": "js",
                     "url": "/assetserver/dd22ed1bf1896c2748f3fe616ce0b838adc895c1-katex.min.js"
                    },
                    {
                     "name": null,
                     "type": "css",
                     "url": "/assetserver/46517a424aa5e6cffc1360d7e0848b601c584ee3-katex.min.css"
                    }
                   ],
                   "type": "async_block"
                  },
                  "mount_callbacks": [
                   "function () {\n    var handler = ((function (k){this.k=k; this.container=this.dom.querySelector(\"#container\"); return k.render(\"\\\\;\\\\;\",this.container)}));\n    (WebIO.importBlock({\"data\":[{\"name\":null,\"type\":\"js\",\"url\":\"/assetserver/dd22ed1bf1896c2748f3fe616ce0b838adc895c1-katex.min.js\"},{\"name\":null,\"type\":\"css\",\"url\":\"/assetserver/46517a424aa5e6cffc1360d7e0848b601c584ee3-katex.min.css\"}],\"type\":\"async_block\"})).then((imports) => handler.apply(this, imports));\n}\n"
                  ],
                  "observables": {
                   "value": {
                    "id": "16950495291552590361",
                    "sync": false,
                    "value": "\\;\\;"
                   }
                  },
                  "systemjs_options": null
                 },
                 "nodeType": "Scope",
                 "props": {},
                 "type": "node"
                }
               ],
               "instanceArgs": {
                "namespace": "html",
                "tag": "div"
               },
               "nodeType": "DOM",
               "props": {
                "className": "interact-widget"
               },
               "type": "node"
              },
              {
               "children": [
                {
                 "children": [
                  {
                   "children": [
                    "run"
                   ],
                   "instanceArgs": {
                    "namespace": "html",
                    "tag": "button"
                   },
                   "nodeType": "DOM",
                   "props": {
                    "attributes": {
                     "data-bind": "click: function (){this.clicks(this.clicks()+1)}, css: {'is-loading' : loading}"
                    },
                    "className": "is-medium button is-primary",
                    "style": {}
                   },
                   "type": "node"
                  }
                 ],
                 "instanceArgs": {
                  "handlers": {
                   "clicks": [
                    "(function (val){return (val!=this.model[\"clicks\"]()) ? (this.valueFromJulia[\"clicks\"]=true, this.model[\"clicks\"](val)) : undefined})"
                   ],
                   "loading": [
                    "(function (val){return (val!=this.model[\"loading\"]()) ? (this.valueFromJulia[\"loading\"]=true, this.model[\"loading\"](val)) : undefined})"
                   ]
                  },
                  "id": "15482633208790095159",
                  "imports": {
                   "data": [
                    {
                     "name": "knockout",
                     "type": "js",
                     "url": "/assetserver/727383f2a47bd31570b7da84eee7b022dd6d7c78-knockout.js"
                    },
                    {
                     "name": "knockout_punches",
                     "type": "js",
                     "url": "/assetserver/382b41b3b1bd9f26f75861d360bad7f8beea211f-knockout_punches.js"
                    },
                    {
                     "name": null,
                     "type": "js",
                     "url": "/assetserver/5ab20f1060420992a9b82a65b735dee4d81ef413-all.js"
                    },
                    {
                     "name": null,
                     "type": "css",
                     "url": "/assetserver/1cc0ed62837210b80a182cc3676512f895dab686-style.css"
                    },
                    {
                     "name": null,
                     "type": "css",
                     "url": "/assetserver/2eee816f616df3549d7044d45e744fbf8d42bfa1-bulma_confined.min.css"
                    }
                   ],
                   "type": "async_block"
                  },
                  "mount_callbacks": [
                   "function () {\n    var handler = (function (ko, koPunches) {\n    ko.punches.enableAll();\n    ko.bindingHandlers.numericValue = {\n        init: function(element, valueAccessor, allBindings, data, context) {\n            var stringified = ko.observable(ko.unwrap(valueAccessor()));\n            stringified.subscribe(function(value) {\n                var val = parseFloat(value);\n                if (!isNaN(val)) {\n                    valueAccessor()(val);\n                }\n            });\n            valueAccessor().subscribe(function(value) {\n                var str = JSON.stringify(value);\n                if ((str == \"0\") && ([\"-0\", \"-0.\"].indexOf(stringified()) >= 0))\n                     return;\n                 if ([\"null\", \"\"].indexOf(str) >= 0)\n                     return;\n                stringified(str);\n            });\n            ko.applyBindingsToNode(\n                element,\n                {\n                    value: stringified,\n                    valueUpdate: allBindings.get('valueUpdate'),\n                },\n                context,\n            );\n        }\n    };\n    var json_data = {\"loading\":WebIO.getval({\"name\":\"loading\",\"scope\":\"15482633208790095159\",\"id\":\"4476095918578341998\",\"type\":\"observable\"}),\"clicks\":WebIO.getval({\"name\":\"clicks\",\"scope\":\"15482633208790095159\",\"id\":\"14414349194028276827\",\"type\":\"observable\"})};\n    var self = this;\n    function AppViewModel() {\n        for (var key in json_data) {\n            var el = json_data[key];\n            this[key] = Array.isArray(el) ? ko.observableArray(el) : ko.observable(el);\n        }\n        \n        \n        [this[\"loading\"].subscribe((function (val){!(this.valueFromJulia[\"loading\"]) ? (WebIO.setval({\"name\":\"loading\",\"scope\":\"15482633208790095159\",\"id\":\"4476095918578341998\",\"type\":\"observable\"},val)) : undefined; return this.valueFromJulia[\"loading\"]=false}),self),this[\"clicks\"].subscribe((function (val){!(this.valueFromJulia[\"clicks\"]) ? (WebIO.setval({\"name\":\"clicks\",\"scope\":\"15482633208790095159\",\"id\":\"14414349194028276827\",\"type\":\"observable\"},val)) : undefined; return this.valueFromJulia[\"clicks\"]=false}),self)]\n        \n    }\n    self.model = new AppViewModel();\n    self.valueFromJulia = {};\n    for (var key in json_data) {\n        self.valueFromJulia[key] = false;\n    }\n    ko.applyBindings(self.model, self.dom);\n}\n);\n    (WebIO.importBlock({\"data\":[{\"name\":\"knockout\",\"type\":\"js\",\"url\":\"/assetserver/727383f2a47bd31570b7da84eee7b022dd6d7c78-knockout.js\"},{\"name\":\"knockout_punches\",\"type\":\"js\",\"url\":\"/assetserver/382b41b3b1bd9f26f75861d360bad7f8beea211f-knockout_punches.js\"}],\"type\":\"async_block\"})).then((imports) => handler.apply(this, imports));\n}\n"
                  ],
                  "observables": {
                   "clicks": {
                    "id": "14414349194028276827",
                    "sync": true,
                    "value": 0
                   },
                   "loading": {
                    "id": "4476095918578341998",
                    "sync": false,
                    "value": false
                   }
                  },
                  "systemjs_options": null
                 },
                 "nodeType": "Scope",
                 "props": {},
                 "type": "node"
                }
               ],
               "instanceArgs": {
                "namespace": "html",
                "tag": "div"
               },
               "nodeType": "DOM",
               "props": {
                "className": "field interact-widget"
               },
               "type": "node"
              },
              {
               "children": [
                {
                 "children": [
                  {
                   "children": [],
                   "instanceArgs": {
                    "namespace": "html",
                    "tag": "div"
                   },
                   "nodeType": "DOM",
                   "props": {
                    "id": "container"
                   },
                   "type": "node"
                  }
                 ],
                 "instanceArgs": {
                  "handlers": {
                   "value": [
                    "(function (txt){return this.k.render(txt,this.container)})"
                   ]
                  },
                  "id": "8865826607729124342",
                  "imports": {
                   "data": [
                    {
                     "name": null,
                     "type": "js",
                     "url": "/assetserver/dd22ed1bf1896c2748f3fe616ce0b838adc895c1-katex.min.js"
                    },
                    {
                     "name": null,
                     "type": "css",
                     "url": "/assetserver/46517a424aa5e6cffc1360d7e0848b601c584ee3-katex.min.css"
                    }
                   ],
                   "type": "async_block"
                  },
                  "mount_callbacks": [
                   "function () {\n    var handler = ((function (k){this.k=k; this.container=this.dom.querySelector(\"#container\"); return k.render(\"\\\\;\\\\;\",this.container)}));\n    (WebIO.importBlock({\"data\":[{\"name\":null,\"type\":\"js\",\"url\":\"/assetserver/dd22ed1bf1896c2748f3fe616ce0b838adc895c1-katex.min.js\"},{\"name\":null,\"type\":\"css\",\"url\":\"/assetserver/46517a424aa5e6cffc1360d7e0848b601c584ee3-katex.min.css\"}],\"type\":\"async_block\"})).then((imports) => handler.apply(this, imports));\n}\n"
                  ],
                  "observables": {
                   "value": {
                    "id": "16950495291552590361",
                    "sync": false,
                    "value": "\\;\\;"
                   }
                  },
                  "systemjs_options": null
                 },
                 "nodeType": "Scope",
                 "props": {},
                 "type": "node"
                }
               ],
               "instanceArgs": {
                "namespace": "html",
                "tag": "div"
               },
               "nodeType": "DOM",
               "props": {
                "className": "interact-widget"
               },
               "type": "node"
              },
              {
               "children": [
                {
                 "children": [
                  {
                   "children": [
                    "stop"
                   ],
                   "instanceArgs": {
                    "namespace": "html",
                    "tag": "button"
                   },
                   "nodeType": "DOM",
                   "props": {
                    "attributes": {
                     "data-bind": "click: function (){this.clicks(this.clicks()+1)}, css: {'is-loading' : loading}"
                    },
                    "className": "is-medium button is-primary",
                    "style": {}
                   },
                   "type": "node"
                  }
                 ],
                 "instanceArgs": {
                  "handlers": {
                   "clicks": [
                    "(function (val){return (val!=this.model[\"clicks\"]()) ? (this.valueFromJulia[\"clicks\"]=true, this.model[\"clicks\"](val)) : undefined})"
                   ],
                   "loading": [
                    "(function (val){return (val!=this.model[\"loading\"]()) ? (this.valueFromJulia[\"loading\"]=true, this.model[\"loading\"](val)) : undefined})"
                   ]
                  },
                  "id": "16833514156736721100",
                  "imports": {
                   "data": [
                    {
                     "name": "knockout",
                     "type": "js",
                     "url": "/assetserver/727383f2a47bd31570b7da84eee7b022dd6d7c78-knockout.js"
                    },
                    {
                     "name": "knockout_punches",
                     "type": "js",
                     "url": "/assetserver/382b41b3b1bd9f26f75861d360bad7f8beea211f-knockout_punches.js"
                    },
                    {
                     "name": null,
                     "type": "js",
                     "url": "/assetserver/5ab20f1060420992a9b82a65b735dee4d81ef413-all.js"
                    },
                    {
                     "name": null,
                     "type": "css",
                     "url": "/assetserver/1cc0ed62837210b80a182cc3676512f895dab686-style.css"
                    },
                    {
                     "name": null,
                     "type": "css",
                     "url": "/assetserver/2eee816f616df3549d7044d45e744fbf8d42bfa1-bulma_confined.min.css"
                    }
                   ],
                   "type": "async_block"
                  },
                  "mount_callbacks": [
                   "function () {\n    var handler = (function (ko, koPunches) {\n    ko.punches.enableAll();\n    ko.bindingHandlers.numericValue = {\n        init: function(element, valueAccessor, allBindings, data, context) {\n            var stringified = ko.observable(ko.unwrap(valueAccessor()));\n            stringified.subscribe(function(value) {\n                var val = parseFloat(value);\n                if (!isNaN(val)) {\n                    valueAccessor()(val);\n                }\n            });\n            valueAccessor().subscribe(function(value) {\n                var str = JSON.stringify(value);\n                if ((str == \"0\") && ([\"-0\", \"-0.\"].indexOf(stringified()) >= 0))\n                     return;\n                 if ([\"null\", \"\"].indexOf(str) >= 0)\n                     return;\n                stringified(str);\n            });\n            ko.applyBindingsToNode(\n                element,\n                {\n                    value: stringified,\n                    valueUpdate: allBindings.get('valueUpdate'),\n                },\n                context,\n            );\n        }\n    };\n    var json_data = {\"loading\":WebIO.getval({\"name\":\"loading\",\"scope\":\"16833514156736721100\",\"id\":\"1071929961530022229\",\"type\":\"observable\"}),\"clicks\":WebIO.getval({\"name\":\"clicks\",\"scope\":\"16833514156736721100\",\"id\":\"9939887662771774750\",\"type\":\"observable\"})};\n    var self = this;\n    function AppViewModel() {\n        for (var key in json_data) {\n            var el = json_data[key];\n            this[key] = Array.isArray(el) ? ko.observableArray(el) : ko.observable(el);\n        }\n        \n        \n        [this[\"loading\"].subscribe((function (val){!(this.valueFromJulia[\"loading\"]) ? (WebIO.setval({\"name\":\"loading\",\"scope\":\"16833514156736721100\",\"id\":\"1071929961530022229\",\"type\":\"observable\"},val)) : undefined; return this.valueFromJulia[\"loading\"]=false}),self),this[\"clicks\"].subscribe((function (val){!(this.valueFromJulia[\"clicks\"]) ? (WebIO.setval({\"name\":\"clicks\",\"scope\":\"16833514156736721100\",\"id\":\"9939887662771774750\",\"type\":\"observable\"},val)) : undefined; return this.valueFromJulia[\"clicks\"]=false}),self)]\n        \n    }\n    self.model = new AppViewModel();\n    self.valueFromJulia = {};\n    for (var key in json_data) {\n        self.valueFromJulia[key] = false;\n    }\n    ko.applyBindings(self.model, self.dom);\n}\n);\n    (WebIO.importBlock({\"data\":[{\"name\":\"knockout\",\"type\":\"js\",\"url\":\"/assetserver/727383f2a47bd31570b7da84eee7b022dd6d7c78-knockout.js\"},{\"name\":\"knockout_punches\",\"type\":\"js\",\"url\":\"/assetserver/382b41b3b1bd9f26f75861d360bad7f8beea211f-knockout_punches.js\"}],\"type\":\"async_block\"})).then((imports) => handler.apply(this, imports));\n}\n"
                  ],
                  "observables": {
                   "clicks": {
                    "id": "9939887662771774750",
                    "sync": true,
                    "value": 0
                   },
                   "loading": {
                    "id": "1071929961530022229",
                    "sync": false,
                    "value": false
                   }
                  },
                  "systemjs_options": null
                 },
                 "nodeType": "Scope",
                 "props": {},
                 "type": "node"
                }
               ],
               "instanceArgs": {
                "namespace": "html",
                "tag": "div"
               },
               "nodeType": "DOM",
               "props": {
                "className": "field interact-widget"
               },
               "type": "node"
              }
             ],
             "instanceArgs": {
              "namespace": "html",
              "tag": "div"
             },
             "nodeType": "DOM",
             "props": {
              "style": {
               "display": "flex",
               "flex-direction": "row"
              }
             },
             "type": "node"
            }
           ],
           "instanceArgs": {
            "namespace": "html",
            "tag": "div"
           },
           "nodeType": "DOM",
           "props": {
            "style": {
             "display": "flex",
             "flex-direction": "column"
            }
           },
           "type": "node"
          },
          {
           "children": [
            {
             "children": [],
             "instanceArgs": {
              "namespace": "html",
              "tag": "div"
             },
             "nodeType": "DOM",
             "props": {
              "className": "webio-observable",
              "setInnerHtml": "    <div style=\"height: 500px; width: 100%; overflow-x: auto; overflow-y: hidden; resize: both\">\n    <iframe src=\"http://127.0.0.1:8720\" style=\"width: 100%; height: 100%; border: none\"></iframe>\n    </div>\n"
             },
             "type": "node"
            }
           ],
           "instanceArgs": {
            "handlers": {
             "obs-output": [
              "function (value, scope) {\n    scope.setInnerHTML(value);\n}\n"
             ]
            },
            "id": "12514350915868416838",
            "imports": {
             "data": [],
             "type": "async_block"
            },
            "mount_callbacks": [],
            "observables": {
             "obs-output": {
              "id": "6167790340112709723",
              "sync": false,
              "value": "    <div style=\"height: 500px; width: 100%; overflow-x: auto; overflow-y: hidden; resize: both\">\n    <iframe src=\"http://127.0.0.1:8720\" style=\"width: 100%; height: 100%; border: none\"></iframe>\n    </div>\n"
             }
            },
            "systemjs_options": null
           },
           "nodeType": "Scope",
           "props": {},
           "type": "node"
          },
          {
           "children": [
            {
             "children": [
              {
               "children": [],
               "instanceArgs": {
                "namespace": "html",
                "tag": "div"
               },
               "nodeType": "DOM",
               "props": {
                "id": "container"
               },
               "type": "node"
              }
             ],
             "instanceArgs": {
              "handlers": {
               "value": [
                "(function (txt){return this.k.render(txt,this.container)})"
               ]
              },
              "id": "8865826607729124342",
              "imports": {
               "data": [
                {
                 "name": null,
                 "type": "js",
                 "url": "/assetserver/dd22ed1bf1896c2748f3fe616ce0b838adc895c1-katex.min.js"
                },
                {
                 "name": null,
                 "type": "css",
                 "url": "/assetserver/46517a424aa5e6cffc1360d7e0848b601c584ee3-katex.min.css"
                }
               ],
               "type": "async_block"
              },
              "mount_callbacks": [
               "function () {\n    var handler = ((function (k){this.k=k; this.container=this.dom.querySelector(\"#container\"); return k.render(\"\\\\;\\\\;\",this.container)}));\n    (WebIO.importBlock({\"data\":[{\"name\":null,\"type\":\"js\",\"url\":\"/assetserver/dd22ed1bf1896c2748f3fe616ce0b838adc895c1-katex.min.js\"},{\"name\":null,\"type\":\"css\",\"url\":\"/assetserver/46517a424aa5e6cffc1360d7e0848b601c584ee3-katex.min.css\"}],\"type\":\"async_block\"})).then((imports) => handler.apply(this, imports));\n}\n"
              ],
              "observables": {
               "value": {
                "id": "16950495291552590361",
                "sync": false,
                "value": "\\;\\;"
               }
              },
              "systemjs_options": null
             },
             "nodeType": "Scope",
             "props": {},
             "type": "node"
            }
           ],
           "instanceArgs": {
            "namespace": "html",
            "tag": "div"
           },
           "nodeType": "DOM",
           "props": {
            "className": "interact-widget"
           },
           "type": "node"
          },
          {
           "children": [
            {
             "children": [
              {
               "children": [],
               "instanceArgs": {
                "namespace": "html",
                "tag": "div"
               },
               "nodeType": "DOM",
               "props": {
                "className": "webio-observable",
                "setInnerHtml": "<?xml version=\"1.0\" encoding=\"utf-8\"?>\n<svg xmlns=\"http://www.w3.org/2000/svg\" xmlns:xlink=\"http://www.w3.org/1999/xlink\" width=\"300\" height=\"150\" viewBox=\"0 0 1200 600\">\n<defs>\n  <clipPath id=\"clip390\">\n    <rect x=\"0\" y=\"0\" width=\"1200\" height=\"600\"/>\n  </clipPath>\n</defs>\n<path clip-path=\"url(#clip390)\" d=\"M0 600 L1200 600 L1200 0 L0 0  Z\" fill=\"#ffffff\" fill-rule=\"evenodd\" fill-opacity=\"1\"/>\n<defs>\n  <clipPath id=\"clip391\">\n    <rect x=\"240\" y=\"0\" width=\"841\" height=\"600\"/>\n  </clipPath>\n</defs>\n<path clip-path=\"url(#clip390)\" d=\"M144.598 453.7 L876.715 453.7 L876.715 47.2441 L144.598 47.2441  Z\" fill=\"#ffffff\" fill-rule=\"evenodd\" fill-opacity=\"1\"/>\n<defs>\n  <clipPath id=\"clip392\">\n    <rect x=\"144\" y=\"47\" width=\"733\" height=\"407\"/>\n  </clipPath>\n</defs>\n<polyline clip-path=\"url(#clip392)\" style=\"stroke:#000000; stroke-linecap:round; stroke-linejoin:round; stroke-width:2; stroke-opacity:0.1; fill:none\" points=\"242.06,453.7 242.06,47.2441 \"/>\n<polyline clip-path=\"url(#clip392)\" style=\"stroke:#000000; stroke-linecap:round; stroke-linejoin:round; stroke-width:2; stroke-opacity:0.1; fill:none\" points=\"395.544,453.7 395.544,47.2441 \"/>\n<polyline clip-path=\"url(#clip392)\" style=\"stroke:#000000; stroke-linecap:round; stroke-linejoin:round; stroke-width:2; stroke-opacity:0.1; fill:none\" points=\"549.028,453.7 549.028,47.2441 \"/>\n<polyline clip-path=\"url(#clip392)\" style=\"stroke:#000000; stroke-linecap:round; stroke-linejoin:round; stroke-width:2; stroke-opacity:0.1; fill:none\" points=\"702.511,453.7 702.511,47.2441 \"/>\n<polyline clip-path=\"url(#clip392)\" style=\"stroke:#000000; stroke-linecap:round; stroke-linejoin:round; stroke-width:2; stroke-opacity:0.1; fill:none\" points=\"855.995,453.7 855.995,47.2441 \"/>\n<polyline clip-path=\"url(#clip390)\" style=\"stroke:#000000; stroke-linecap:round; stroke-linejoin:round; stroke-width:4; stroke-opacity:1; fill:none\" points=\"144.598,453.7 876.715,453.7 \"/>\n<polyline clip-path=\"url(#clip390)\" style=\"stroke:#000000; stroke-linecap:round; stroke-linejoin:round; stroke-width:4; stroke-opacity:1; fill:none\" points=\"242.06,453.7 242.06,434.802 \"/>\n<polyline clip-path=\"url(#clip390)\" style=\"stroke:#000000; stroke-linecap:round; stroke-linejoin:round; stroke-width:4; stroke-opacity:1; fill:none\" points=\"395.544,453.7 395.544,434.802 \"/>\n<polyline clip-path=\"url(#clip390)\" style=\"stroke:#000000; stroke-linecap:round; stroke-linejoin:round; stroke-width:4; stroke-opacity:1; fill:none\" points=\"549.028,453.7 549.028,434.802 \"/>\n<polyline clip-path=\"url(#clip390)\" style=\"stroke:#000000; stroke-linecap:round; stroke-linejoin:round; stroke-width:4; stroke-opacity:1; fill:none\" points=\"702.511,453.7 702.511,434.802 \"/>\n<polyline clip-path=\"url(#clip390)\" style=\"stroke:#000000; stroke-linecap:round; stroke-linejoin:round; stroke-width:4; stroke-opacity:1; fill:none\" points=\"855.995,453.7 855.995,434.802 \"/>\n<path clip-path=\"url(#clip390)\" d=\"M236.713 502.565 L253.033 502.565 L253.033 506.5 L231.088 506.5 L231.088 502.565 Q233.75 499.81 238.334 495.18 Q242.94 490.528 244.121 489.185 Q246.366 486.662 247.246 484.926 Q248.148 483.167 248.148 481.477 Q248.148 478.722 246.204 476.986 Q244.283 475.25 241.181 475.25 Q238.982 475.25 236.528 476.014 Q234.097 476.778 231.32 478.329 L231.32 473.607 Q234.144 472.472 236.597 471.894 Q239.051 471.315 241.088 471.315 Q246.458 471.315 249.653 474 Q252.847 476.685 252.847 481.176 Q252.847 483.306 252.037 485.227 Q251.25 487.125 249.144 489.718 Q248.565 490.389 245.463 493.606 Q242.361 496.801 236.713 502.565 Z\" fill=\"#000000\" fill-rule=\"nonzero\" fill-opacity=\"1\" /><path clip-path=\"url(#clip390)\" d=\"M398.553 476.014 L386.748 494.463 L398.553 494.463 L398.553 476.014 M397.326 471.94 L403.206 471.94 L403.206 494.463 L408.137 494.463 L408.137 498.352 L403.206 498.352 L403.206 506.5 L398.553 506.5 L398.553 498.352 L382.951 498.352 L382.951 493.838 L397.326 471.94 Z\" fill=\"#000000\" fill-rule=\"nonzero\" fill-opacity=\"1\" /><path clip-path=\"url(#clip390)\" d=\"M549.433 487.356 Q546.285 487.356 544.433 489.509 Q542.604 491.662 542.604 495.412 Q542.604 499.139 544.433 501.315 Q546.285 503.467 549.433 503.467 Q552.581 503.467 554.41 501.315 Q556.261 499.139 556.261 495.412 Q556.261 491.662 554.41 489.509 Q552.581 487.356 549.433 487.356 M558.715 472.704 L558.715 476.963 Q556.956 476.13 555.15 475.69 Q553.368 475.25 551.609 475.25 Q546.979 475.25 544.525 478.375 Q542.095 481.5 541.748 487.819 Q543.113 485.806 545.174 484.741 Q547.234 483.653 549.711 483.653 Q554.919 483.653 557.928 486.824 Q560.96 489.972 560.96 495.412 Q560.96 500.736 557.812 503.954 Q554.664 507.171 549.433 507.171 Q543.437 507.171 540.266 502.588 Q537.095 497.981 537.095 489.255 Q537.095 481.06 540.984 476.199 Q544.873 471.315 551.423 471.315 Q553.183 471.315 554.965 471.662 Q556.771 472.009 558.715 472.704 Z\" fill=\"#000000\" fill-rule=\"nonzero\" fill-opacity=\"1\" /><path clip-path=\"url(#clip390)\" d=\"M702.511 490.088 Q699.178 490.088 697.257 491.87 Q695.359 493.653 695.359 496.778 Q695.359 499.903 697.257 501.685 Q699.178 503.467 702.511 503.467 Q705.845 503.467 707.766 501.685 Q709.687 499.88 709.687 496.778 Q709.687 493.653 707.766 491.87 Q705.868 490.088 702.511 490.088 M697.835 488.097 Q694.826 487.356 693.136 485.296 Q691.47 483.236 691.47 480.273 Q691.47 476.13 694.41 473.722 Q697.372 471.315 702.511 471.315 Q707.673 471.315 710.613 473.722 Q713.553 476.13 713.553 480.273 Q713.553 483.236 711.863 485.296 Q710.196 487.356 707.21 488.097 Q710.59 488.884 712.465 491.176 Q714.363 493.468 714.363 496.778 Q714.363 501.801 711.284 504.486 Q708.229 507.171 702.511 507.171 Q696.794 507.171 693.715 504.486 Q690.66 501.801 690.66 496.778 Q690.66 493.468 692.558 491.176 Q694.456 488.884 697.835 488.097 M696.122 480.713 Q696.122 483.398 697.789 484.903 Q699.479 486.407 702.511 486.407 Q705.521 486.407 707.21 484.903 Q708.923 483.398 708.923 480.713 Q708.923 478.028 707.21 476.523 Q705.521 475.019 702.511 475.019 Q699.479 475.019 697.789 476.523 Q696.122 478.028 696.122 480.713 Z\" fill=\"#000000\" fill-rule=\"nonzero\" fill-opacity=\"1\" /><path clip-path=\"url(#clip390)\" d=\"M830.683 502.565 L838.321 502.565 L838.321 476.199 L830.011 477.866 L830.011 473.607 L838.275 471.94 L842.951 471.94 L842.951 502.565 L850.59 502.565 L850.59 506.5 L830.683 506.5 L830.683 502.565 Z\" fill=\"#000000\" fill-rule=\"nonzero\" fill-opacity=\"1\" /><path clip-path=\"url(#clip390)\" d=\"M870.034 475.019 Q866.423 475.019 864.594 478.583 Q862.789 482.125 862.789 489.255 Q862.789 496.361 864.594 499.926 Q866.423 503.467 870.034 503.467 Q873.668 503.467 875.474 499.926 Q877.303 496.361 877.303 489.255 Q877.303 482.125 875.474 478.583 Q873.668 475.019 870.034 475.019 M870.034 471.315 Q875.844 471.315 878.9 475.921 Q881.979 480.505 881.979 489.255 Q881.979 497.981 878.9 502.588 Q875.844 507.171 870.034 507.171 Q864.224 507.171 861.145 502.588 Q858.09 497.981 858.09 489.255 Q858.09 480.505 861.145 475.921 Q864.224 471.315 870.034 471.315 Z\" fill=\"#000000\" fill-rule=\"nonzero\" fill-opacity=\"1\" /><path clip-path=\"url(#clip390)\" d=\"M447.7 534.794 L447.7 544.916 L459.763 544.916 L459.763 549.467 L447.7 549.467 L447.7 568.819 Q447.7 573.18 448.878 574.421 Q450.087 575.662 453.747 575.662 L459.763 575.662 L459.763 580.564 L453.747 580.564 Q446.968 580.564 444.39 578.049 Q441.812 575.503 441.812 568.819 L441.812 549.467 L437.515 549.467 L437.515 544.916 L441.812 544.916 L441.812 534.794 L447.7 534.794 Z\" fill=\"#000000\" fill-rule=\"nonzero\" fill-opacity=\"1\" /><path clip-path=\"url(#clip390)\" d=\"M467.465 544.916 L473.322 544.916 L473.322 580.564 L467.465 580.564 L467.465 544.916 M467.465 531.039 L473.322 531.039 L473.322 538.455 L467.465 538.455 L467.465 531.039 Z\" fill=\"#000000\" fill-rule=\"nonzero\" fill-opacity=\"1\" /><path clip-path=\"url(#clip390)\" d=\"M511.23 546.285 L511.23 551.759 Q508.747 550.39 506.233 549.722 Q503.75 549.022 501.204 549.022 Q495.506 549.022 492.355 552.65 Q489.204 556.247 489.204 562.772 Q489.204 569.297 492.355 572.925 Q495.506 576.522 501.204 576.522 Q503.75 576.522 506.233 575.853 Q508.747 575.153 511.23 573.784 L511.23 579.195 Q508.779 580.341 506.137 580.914 Q503.527 581.487 500.567 581.487 Q492.514 581.487 487.772 576.426 Q483.03 571.365 483.03 562.772 Q483.03 554.051 487.804 549.054 Q492.61 544.057 500.949 544.057 Q503.654 544.057 506.233 544.629 Q508.811 545.171 511.23 546.285 Z\" fill=\"#000000\" fill-rule=\"nonzero\" fill-opacity=\"1\" /><path clip-path=\"url(#clip390)\" d=\"M521.192 531.039 L527.08 531.039 L527.08 560.289 L544.554 544.916 L552.034 544.916 L533.128 561.594 L552.83 580.564 L545.191 580.564 L527.08 563.154 L527.08 580.564 L521.192 580.564 L521.192 531.039 Z\" fill=\"#000000\" fill-rule=\"nonzero\" fill-opacity=\"1\" /><path clip-path=\"url(#clip390)\" d=\"M581.889 545.966 L581.889 551.504 Q579.406 550.231 576.733 549.595 Q574.059 548.958 571.195 548.958 Q566.834 548.958 564.638 550.295 Q562.474 551.632 562.474 554.305 Q562.474 556.342 564.033 557.52 Q565.593 558.666 570.303 559.716 L572.309 560.162 Q578.547 561.499 581.157 563.949 Q583.799 566.368 583.799 570.729 Q583.799 575.694 579.852 578.59 Q575.937 581.487 569.062 581.487 Q566.198 581.487 563.078 580.914 Q559.991 580.373 556.553 579.259 L556.553 573.211 Q559.8 574.898 562.951 575.758 Q566.102 576.585 569.189 576.585 Q573.327 576.585 575.555 575.185 Q577.783 573.753 577.783 571.174 Q577.783 568.787 576.16 567.514 Q574.568 566.241 569.126 565.063 L567.089 564.586 Q561.646 563.44 559.227 561.085 Q556.808 558.698 556.808 554.56 Q556.808 549.531 560.373 546.794 Q563.938 544.057 570.494 544.057 Q573.741 544.057 576.605 544.534 Q579.47 545.011 581.889 545.966 Z\" fill=\"#000000\" fill-rule=\"nonzero\" fill-opacity=\"1\" /><polyline clip-path=\"url(#clip392)\" style=\"stroke:#000000; stroke-linecap:round; stroke-linejoin:round; stroke-width:2; stroke-opacity:0.1; fill:none\" points=\"144.598,442.196 876.715,442.196 \"/>\n<polyline clip-path=\"url(#clip392)\" style=\"stroke:#000000; stroke-linecap:round; stroke-linejoin:round; stroke-width:2; stroke-opacity:0.1; fill:none\" points=\"144.598,344.724 876.715,344.724 \"/>\n<polyline clip-path=\"url(#clip392)\" style=\"stroke:#000000; stroke-linecap:round; stroke-linejoin:round; stroke-width:2; stroke-opacity:0.1; fill:none\" points=\"144.598,247.251 876.715,247.251 \"/>\n<polyline clip-path=\"url(#clip392)\" style=\"stroke:#000000; stroke-linecap:round; stroke-linejoin:round; stroke-width:2; stroke-opacity:0.1; fill:none\" points=\"144.598,149.778 876.715,149.778 \"/>\n<polyline clip-path=\"url(#clip392)\" style=\"stroke:#000000; stroke-linecap:round; stroke-linejoin:round; stroke-width:2; stroke-opacity:0.1; fill:none\" points=\"144.598,52.3057 876.715,52.3057 \"/>\n<polyline clip-path=\"url(#clip390)\" style=\"stroke:#000000; stroke-linecap:round; stroke-linejoin:round; stroke-width:4; stroke-opacity:1; fill:none\" points=\"144.598,453.7 144.598,47.2441 \"/>\n<polyline clip-path=\"url(#clip390)\" style=\"stroke:#000000; stroke-linecap:round; stroke-linejoin:round; stroke-width:4; stroke-opacity:1; fill:none\" points=\"144.598,442.196 158.322,442.196 \"/>\n<polyline clip-path=\"url(#clip390)\" style=\"stroke:#000000; stroke-linecap:round; stroke-linejoin:round; stroke-width:4; stroke-opacity:1; fill:none\" points=\"144.598,344.724 158.322,344.724 \"/>\n<polyline clip-path=\"url(#clip390)\" style=\"stroke:#000000; stroke-linecap:round; stroke-linejoin:round; stroke-width:4; stroke-opacity:1; fill:none\" points=\"144.598,247.251 158.322,247.251 \"/>\n<polyline clip-path=\"url(#clip390)\" style=\"stroke:#000000; stroke-linecap:round; stroke-linejoin:round; stroke-width:4; stroke-opacity:1; fill:none\" points=\"144.598,149.778 158.322,149.778 \"/>\n<polyline clip-path=\"url(#clip390)\" style=\"stroke:#000000; stroke-linecap:round; stroke-linejoin:round; stroke-width:4; stroke-opacity:1; fill:none\" points=\"144.598,52.3057 158.322,52.3057 \"/>\n<path clip-path=\"url(#clip390)\" d=\"M70.0708 427.995 Q66.4597 427.995 64.631 431.56 Q62.8254 435.102 62.8254 442.231 Q62.8254 449.338 64.631 452.902 Q66.4597 456.444 70.0708 456.444 Q73.705 456.444 75.5105 452.902 Q77.3392 449.338 77.3392 442.231 Q77.3392 435.102 75.5105 431.56 Q73.705 427.995 70.0708 427.995 M70.0708 424.291 Q75.8809 424.291 78.9365 428.898 Q82.0151 433.481 82.0151 442.231 Q82.0151 450.958 78.9365 455.564 Q75.8809 460.148 70.0708 460.148 Q64.2606 460.148 61.1819 455.564 Q58.1264 450.958 58.1264 442.231 Q58.1264 433.481 61.1819 428.898 Q64.2606 424.291 70.0708 424.291 Z\" fill=\"#000000\" fill-rule=\"nonzero\" fill-opacity=\"1\" /><path clip-path=\"url(#clip390)\" d=\"M90.2327 453.597 L95.1169 453.597 L95.1169 459.476 L90.2327 459.476 L90.2327 453.597 Z\" fill=\"#000000\" fill-rule=\"nonzero\" fill-opacity=\"1\" /><path clip-path=\"url(#clip390)\" d=\"M119.469 440.842 Q122.825 441.56 124.7 443.828 Q126.598 446.097 126.598 449.43 Q126.598 454.546 123.08 457.347 Q119.561 460.148 113.08 460.148 Q110.904 460.148 108.589 459.708 Q106.297 459.291 103.844 458.435 L103.844 453.921 Q105.788 455.055 108.103 455.634 Q110.418 456.213 112.941 456.213 Q117.339 456.213 119.631 454.476 Q121.945 452.74 121.945 449.43 Q121.945 446.375 119.793 444.662 Q117.663 442.926 113.844 442.926 L109.816 442.926 L109.816 439.083 L114.029 439.083 Q117.478 439.083 119.307 437.717 Q121.135 436.328 121.135 433.736 Q121.135 431.074 119.237 429.662 Q117.362 428.227 113.844 428.227 Q111.922 428.227 109.723 428.643 Q107.524 429.06 104.885 429.939 L104.885 425.773 Q107.547 425.032 109.862 424.662 Q112.2 424.291 114.26 424.291 Q119.584 424.291 122.686 426.722 Q125.788 429.129 125.788 433.25 Q125.788 436.12 124.145 438.111 Q122.501 440.078 119.469 440.842 Z\" fill=\"#000000\" fill-rule=\"nonzero\" fill-opacity=\"1\" /><path clip-path=\"url(#clip390)\" d=\"M68.9365 330.522 Q65.3254 330.522 63.4967 334.087 Q61.6912 337.629 61.6912 344.758 Q61.6912 351.865 63.4967 355.43 Q65.3254 358.971 68.9365 358.971 Q72.5707 358.971 74.3763 355.43 Q76.205 351.865 76.205 344.758 Q76.205 337.629 74.3763 334.087 Q72.5707 330.522 68.9365 330.522 M68.9365 326.819 Q74.7467 326.819 77.8022 331.425 Q80.8809 336.008 80.8809 344.758 Q80.8809 353.485 77.8022 358.092 Q74.7467 362.675 68.9365 362.675 Q63.1264 362.675 60.0477 358.092 Q56.9921 353.485 56.9921 344.758 Q56.9921 336.008 60.0477 331.425 Q63.1264 326.819 68.9365 326.819 Z\" fill=\"#000000\" fill-rule=\"nonzero\" fill-opacity=\"1\" /><path clip-path=\"url(#clip390)\" d=\"M89.0984 356.124 L93.9827 356.124 L93.9827 362.004 L89.0984 362.004 L89.0984 356.124 Z\" fill=\"#000000\" fill-rule=\"nonzero\" fill-opacity=\"1\" /><path clip-path=\"url(#clip390)\" d=\"M117.015 331.518 L105.209 349.967 L117.015 349.967 L117.015 331.518 M115.788 327.444 L121.668 327.444 L121.668 349.967 L126.598 349.967 L126.598 353.856 L121.668 353.856 L121.668 362.004 L117.015 362.004 L117.015 353.856 L101.413 353.856 L101.413 349.342 L115.788 327.444 Z\" fill=\"#000000\" fill-rule=\"nonzero\" fill-opacity=\"1\" /><path clip-path=\"url(#clip390)\" d=\"M70.418 233.05 Q66.8069 233.05 64.9782 236.615 Q63.1726 240.156 63.1726 247.286 Q63.1726 254.392 64.9782 257.957 Q66.8069 261.499 70.418 261.499 Q74.0522 261.499 75.8578 257.957 Q77.6865 254.392 77.6865 247.286 Q77.6865 240.156 75.8578 236.615 Q74.0522 233.05 70.418 233.05 M70.418 229.346 Q76.2281 229.346 79.2837 233.952 Q82.3624 238.536 82.3624 247.286 Q82.3624 256.013 79.2837 260.619 Q76.2281 265.202 70.418 265.202 Q64.6078 265.202 61.5291 260.619 Q58.4736 256.013 58.4736 247.286 Q58.4736 238.536 61.5291 233.952 Q64.6078 229.346 70.418 229.346 Z\" fill=\"#000000\" fill-rule=\"nonzero\" fill-opacity=\"1\" /><path clip-path=\"url(#clip390)\" d=\"M90.5799 258.651 L95.4641 258.651 L95.4641 264.531 L90.5799 264.531 L90.5799 258.651 Z\" fill=\"#000000\" fill-rule=\"nonzero\" fill-opacity=\"1\" /><path clip-path=\"url(#clip390)\" d=\"M105.696 229.971 L124.052 229.971 L124.052 233.906 L109.978 233.906 L109.978 242.378 Q110.996 242.031 112.015 241.869 Q113.033 241.684 114.052 241.684 Q119.839 241.684 123.219 244.855 Q126.598 248.026 126.598 253.443 Q126.598 259.022 123.126 262.124 Q119.654 265.202 113.334 265.202 Q111.159 265.202 108.89 264.832 Q106.645 264.462 104.237 263.721 L104.237 259.022 Q106.321 260.156 108.543 260.712 Q110.765 261.267 113.242 261.267 Q117.246 261.267 119.584 259.161 Q121.922 257.054 121.922 253.443 Q121.922 249.832 119.584 247.726 Q117.246 245.619 113.242 245.619 Q111.367 245.619 109.492 246.036 Q107.64 246.452 105.696 247.332 L105.696 229.971 Z\" fill=\"#000000\" fill-rule=\"nonzero\" fill-opacity=\"1\" /><path clip-path=\"url(#clip390)\" d=\"M69.2606 135.577 Q65.6495 135.577 63.8208 139.142 Q62.0152 142.683 62.0152 149.813 Q62.0152 156.92 63.8208 160.484 Q65.6495 164.026 69.2606 164.026 Q72.8948 164.026 74.7004 160.484 Q76.5291 156.92 76.5291 149.813 Q76.5291 142.683 74.7004 139.142 Q72.8948 135.577 69.2606 135.577 M69.2606 131.873 Q75.0707 131.873 78.1263 136.48 Q81.205 141.063 81.205 149.813 Q81.205 158.54 78.1263 163.146 Q75.0707 167.73 69.2606 167.73 Q63.4504 167.73 60.3717 163.146 Q57.3162 158.54 57.3162 149.813 Q57.3162 141.063 60.3717 136.48 Q63.4504 131.873 69.2606 131.873 Z\" fill=\"#000000\" fill-rule=\"nonzero\" fill-opacity=\"1\" /><path clip-path=\"url(#clip390)\" d=\"M89.4225 161.179 L94.3067 161.179 L94.3067 167.058 L89.4225 167.058 L89.4225 161.179 Z\" fill=\"#000000\" fill-rule=\"nonzero\" fill-opacity=\"1\" /><path clip-path=\"url(#clip390)\" d=\"M115.071 147.915 Q111.922 147.915 110.071 150.068 Q108.242 152.22 108.242 155.97 Q108.242 159.697 110.071 161.873 Q111.922 164.026 115.071 164.026 Q118.219 164.026 120.047 161.873 Q121.899 159.697 121.899 155.97 Q121.899 152.22 120.047 150.068 Q118.219 147.915 115.071 147.915 M124.353 133.262 L124.353 137.521 Q122.594 136.688 120.788 136.248 Q119.006 135.809 117.246 135.809 Q112.617 135.809 110.163 138.933 Q107.733 142.058 107.385 148.378 Q108.751 146.364 110.811 145.299 Q112.871 144.211 115.348 144.211 Q120.557 144.211 123.566 147.383 Q126.598 150.531 126.598 155.97 Q126.598 161.294 123.45 164.512 Q120.302 167.73 115.071 167.73 Q109.075 167.73 105.904 163.146 Q102.733 158.54 102.733 149.813 Q102.733 141.619 106.621 136.758 Q110.51 131.873 117.061 131.873 Q118.82 131.873 120.603 132.221 Q122.408 132.568 124.353 133.262 Z\" fill=\"#000000\" fill-rule=\"nonzero\" fill-opacity=\"1\" /><path clip-path=\"url(#clip390)\" d=\"M70.3254 38.1044 Q66.7143 38.1044 64.8856 41.6692 Q63.0801 45.2108 63.0801 52.3404 Q63.0801 59.4468 64.8856 63.0116 Q66.7143 66.5533 70.3254 66.5533 Q73.9596 66.5533 75.7652 63.0116 Q77.5939 59.4468 77.5939 52.3404 Q77.5939 45.2108 75.7652 41.6692 Q73.9596 38.1044 70.3254 38.1044 M70.3254 34.4007 Q76.1355 34.4007 79.1911 39.0071 Q82.2698 43.5904 82.2698 52.3404 Q82.2698 61.0672 79.1911 65.6737 Q76.1355 70.257 70.3254 70.257 Q64.5152 70.257 61.4365 65.6737 Q58.381 61.0672 58.381 52.3404 Q58.381 43.5904 61.4365 39.0071 Q64.5152 34.4007 70.3254 34.4007 Z\" fill=\"#000000\" fill-rule=\"nonzero\" fill-opacity=\"1\" /><path clip-path=\"url(#clip390)\" d=\"M90.4873 63.7061 L95.3715 63.7061 L95.3715 69.5857 L90.4873 69.5857 L90.4873 63.7061 Z\" fill=\"#000000\" fill-rule=\"nonzero\" fill-opacity=\"1\" /><path clip-path=\"url(#clip390)\" d=\"M104.376 35.0257 L126.598 35.0257 L126.598 37.0164 L114.052 69.5857 L109.168 69.5857 L120.973 38.9608 L104.376 38.9608 L104.376 35.0257 Z\" fill=\"#000000\" fill-rule=\"nonzero\" fill-opacity=\"1\" /><polyline clip-path=\"url(#clip392)\" style=\"stroke:#009af9; stroke-linecap:round; stroke-linejoin:round; stroke-width:4; stroke-opacity:1; fill:none\" points=\"165.319,442.196 242.06,430.987 318.802,348.079 395.544,240.445 472.286,157.055 549.028,132.27 625.769,107.778 702.511,107.655 779.253,73.539 855.995,58.7476 \"/>\n<path clip-path=\"url(#clip390)\" d=\"M910.321 164.473 L1152.76 164.473 L1152.76 60.7926 L910.321 60.7926  Z\" fill=\"#ffffff\" fill-rule=\"evenodd\" fill-opacity=\"1\"/>\n<polyline clip-path=\"url(#clip390)\" style=\"stroke:#000000; stroke-linecap:round; stroke-linejoin:round; stroke-width:4; stroke-opacity:1; fill:none\" points=\"910.321,164.473 1152.76,164.473 1152.76,60.7926 910.321,60.7926 910.321,164.473 \"/>\n<polyline clip-path=\"url(#clip390)\" style=\"stroke:#009af9; stroke-linecap:round; stroke-linejoin:round; stroke-width:4; stroke-opacity:1; fill:none\" points=\"921.522,112.633 988.733,112.633 \"/>\n<path clip-path=\"url(#clip390)\" d=\"M1021.65 114.265 L1021.65 129.913 L1017.39 129.913 L1017.39 114.403 Q1017.39 110.723 1015.95 108.894 Q1014.52 107.066 1011.65 107.066 Q1008.2 107.066 1006.21 109.265 Q1004.22 111.464 1004.22 115.26 L1004.22 129.913 L999.935 129.913 L999.935 93.8943 L1004.22 93.8943 L1004.22 108.015 Q1005.74 105.677 1007.8 104.519 Q1009.89 103.362 1012.6 103.362 Q1017.06 103.362 1019.36 106.14 Q1021.65 108.894 1021.65 114.265 Z\" fill=\"#000000\" fill-rule=\"nonzero\" fill-opacity=\"1\" /><path clip-path=\"url(#clip390)\" d=\"M1041.93 116.88 Q1036.76 116.88 1034.77 118.061 Q1032.78 119.241 1032.78 122.089 Q1032.78 124.357 1034.26 125.7 Q1035.77 127.019 1038.34 127.019 Q1041.88 127.019 1044.01 124.519 Q1046.16 121.996 1046.16 117.829 L1046.16 116.88 L1041.93 116.88 M1050.42 115.121 L1050.42 129.913 L1046.16 129.913 L1046.16 125.977 Q1044.7 128.339 1042.53 129.473 Q1040.35 130.584 1037.2 130.584 Q1033.22 130.584 1030.86 128.362 Q1028.52 126.116 1028.52 122.366 Q1028.52 117.991 1031.44 115.769 Q1034.38 113.547 1040.19 113.547 L1046.16 113.547 L1046.16 113.13 Q1046.16 110.191 1044.22 108.593 Q1042.3 106.973 1038.8 106.973 Q1036.58 106.973 1034.47 107.505 Q1032.36 108.038 1030.42 109.103 L1030.42 105.167 Q1032.76 104.265 1034.96 103.825 Q1037.16 103.362 1039.24 103.362 Q1044.86 103.362 1047.64 106.278 Q1050.42 109.195 1050.42 115.121 Z\" fill=\"#000000\" fill-rule=\"nonzero\" fill-opacity=\"1\" /><path clip-path=\"url(#clip390)\" d=\"M1063.31 126.024 L1063.31 139.774 L1059.03 139.774 L1059.03 103.987 L1063.31 103.987 L1063.31 107.922 Q1064.66 105.607 1066.69 104.496 Q1068.75 103.362 1071.6 103.362 Q1076.32 103.362 1079.26 107.112 Q1082.23 110.862 1082.23 116.973 Q1082.23 123.084 1079.26 126.834 Q1076.32 130.584 1071.6 130.584 Q1068.75 130.584 1066.69 129.473 Q1064.66 128.339 1063.31 126.024 M1077.8 116.973 Q1077.8 112.274 1075.86 109.612 Q1073.94 106.927 1070.56 106.927 Q1067.18 106.927 1065.24 109.612 Q1063.31 112.274 1063.31 116.973 Q1063.31 121.672 1065.24 124.357 Q1067.18 127.019 1070.56 127.019 Q1073.94 127.019 1075.86 124.357 Q1077.8 121.672 1077.8 116.973 Z\" fill=\"#000000\" fill-rule=\"nonzero\" fill-opacity=\"1\" /><path clip-path=\"url(#clip390)\" d=\"M1093.41 126.024 L1093.41 139.774 L1089.12 139.774 L1089.12 103.987 L1093.41 103.987 L1093.41 107.922 Q1094.75 105.607 1096.79 104.496 Q1098.85 103.362 1101.69 103.362 Q1106.42 103.362 1109.36 107.112 Q1112.32 110.862 1112.32 116.973 Q1112.32 123.084 1109.36 126.834 Q1106.42 130.584 1101.69 130.584 Q1098.85 130.584 1096.79 129.473 Q1094.75 128.339 1093.41 126.024 M1107.9 116.973 Q1107.9 112.274 1105.95 109.612 Q1104.03 106.927 1100.65 106.927 Q1097.27 106.927 1095.33 109.612 Q1093.41 112.274 1093.41 116.973 Q1093.41 121.672 1095.33 124.357 Q1097.27 127.019 1100.65 127.019 Q1104.03 127.019 1105.95 124.357 Q1107.9 121.672 1107.9 116.973 Z\" fill=\"#000000\" fill-rule=\"nonzero\" fill-opacity=\"1\" /><path clip-path=\"url(#clip390)\" d=\"M1130.17 132.32 Q1128.36 136.95 1126.65 138.362 Q1124.93 139.774 1122.06 139.774 L1118.66 139.774 L1118.66 136.209 L1121.16 136.209 Q1122.92 136.209 1123.89 135.376 Q1124.86 134.542 1126.04 131.44 L1126.81 129.496 L1116.32 103.987 L1120.84 103.987 L1128.94 124.265 L1137.04 103.987 L1141.55 103.987 L1130.17 132.32 Z\" fill=\"#000000\" fill-rule=\"nonzero\" fill-opacity=\"1\" /></svg>\n"
               },
               "type": "node"
              }
             ],
             "instanceArgs": {
              "handlers": {
               "obs-output": [
                "function (value, scope) {\n    scope.setInnerHTML(value);\n}\n"
               ]
              },
              "id": "12703738033584778931",
              "imports": {
               "data": [],
               "type": "async_block"
              },
              "mount_callbacks": [],
              "observables": {
               "obs-output": {
                "id": "14976756515116535006",
                "sync": false,
                "value": "<?xml version=\"1.0\" encoding=\"utf-8\"?>\n<svg xmlns=\"http://www.w3.org/2000/svg\" xmlns:xlink=\"http://www.w3.org/1999/xlink\" width=\"300\" height=\"150\" viewBox=\"0 0 1200 600\">\n<defs>\n  <clipPath id=\"clip390\">\n    <rect x=\"0\" y=\"0\" width=\"1200\" height=\"600\"/>\n  </clipPath>\n</defs>\n<path clip-path=\"url(#clip390)\" d=\"M0 600 L1200 600 L1200 0 L0 0  Z\" fill=\"#ffffff\" fill-rule=\"evenodd\" fill-opacity=\"1\"/>\n<defs>\n  <clipPath id=\"clip391\">\n    <rect x=\"240\" y=\"0\" width=\"841\" height=\"600\"/>\n  </clipPath>\n</defs>\n<path clip-path=\"url(#clip390)\" d=\"M144.598 453.7 L876.715 453.7 L876.715 47.2441 L144.598 47.2441  Z\" fill=\"#ffffff\" fill-rule=\"evenodd\" fill-opacity=\"1\"/>\n<defs>\n  <clipPath id=\"clip392\">\n    <rect x=\"144\" y=\"47\" width=\"733\" height=\"407\"/>\n  </clipPath>\n</defs>\n<polyline clip-path=\"url(#clip392)\" style=\"stroke:#000000; stroke-linecap:round; stroke-linejoin:round; stroke-width:2; stroke-opacity:0.1; fill:none\" points=\"242.06,453.7 242.06,47.2441 \"/>\n<polyline clip-path=\"url(#clip392)\" style=\"stroke:#000000; stroke-linecap:round; stroke-linejoin:round; stroke-width:2; stroke-opacity:0.1; fill:none\" points=\"395.544,453.7 395.544,47.2441 \"/>\n<polyline clip-path=\"url(#clip392)\" style=\"stroke:#000000; stroke-linecap:round; stroke-linejoin:round; stroke-width:2; stroke-opacity:0.1; fill:none\" points=\"549.028,453.7 549.028,47.2441 \"/>\n<polyline clip-path=\"url(#clip392)\" style=\"stroke:#000000; stroke-linecap:round; stroke-linejoin:round; stroke-width:2; stroke-opacity:0.1; fill:none\" points=\"702.511,453.7 702.511,47.2441 \"/>\n<polyline clip-path=\"url(#clip392)\" style=\"stroke:#000000; stroke-linecap:round; stroke-linejoin:round; stroke-width:2; stroke-opacity:0.1; fill:none\" points=\"855.995,453.7 855.995,47.2441 \"/>\n<polyline clip-path=\"url(#clip390)\" style=\"stroke:#000000; stroke-linecap:round; stroke-linejoin:round; stroke-width:4; stroke-opacity:1; fill:none\" points=\"144.598,453.7 876.715,453.7 \"/>\n<polyline clip-path=\"url(#clip390)\" style=\"stroke:#000000; stroke-linecap:round; stroke-linejoin:round; stroke-width:4; stroke-opacity:1; fill:none\" points=\"242.06,453.7 242.06,434.802 \"/>\n<polyline clip-path=\"url(#clip390)\" style=\"stroke:#000000; stroke-linecap:round; stroke-linejoin:round; stroke-width:4; stroke-opacity:1; fill:none\" points=\"395.544,453.7 395.544,434.802 \"/>\n<polyline clip-path=\"url(#clip390)\" style=\"stroke:#000000; stroke-linecap:round; stroke-linejoin:round; stroke-width:4; stroke-opacity:1; fill:none\" points=\"549.028,453.7 549.028,434.802 \"/>\n<polyline clip-path=\"url(#clip390)\" style=\"stroke:#000000; stroke-linecap:round; stroke-linejoin:round; stroke-width:4; stroke-opacity:1; fill:none\" points=\"702.511,453.7 702.511,434.802 \"/>\n<polyline clip-path=\"url(#clip390)\" style=\"stroke:#000000; stroke-linecap:round; stroke-linejoin:round; stroke-width:4; stroke-opacity:1; fill:none\" points=\"855.995,453.7 855.995,434.802 \"/>\n<path clip-path=\"url(#clip390)\" d=\"M236.713 502.565 L253.033 502.565 L253.033 506.5 L231.088 506.5 L231.088 502.565 Q233.75 499.81 238.334 495.18 Q242.94 490.528 244.121 489.185 Q246.366 486.662 247.246 484.926 Q248.148 483.167 248.148 481.477 Q248.148 478.722 246.204 476.986 Q244.283 475.25 241.181 475.25 Q238.982 475.25 236.528 476.014 Q234.097 476.778 231.32 478.329 L231.32 473.607 Q234.144 472.472 236.597 471.894 Q239.051 471.315 241.088 471.315 Q246.458 471.315 249.653 474 Q252.847 476.685 252.847 481.176 Q252.847 483.306 252.037 485.227 Q251.25 487.125 249.144 489.718 Q248.565 490.389 245.463 493.606 Q242.361 496.801 236.713 502.565 Z\" fill=\"#000000\" fill-rule=\"nonzero\" fill-opacity=\"1\" /><path clip-path=\"url(#clip390)\" d=\"M398.553 476.014 L386.748 494.463 L398.553 494.463 L398.553 476.014 M397.326 471.94 L403.206 471.94 L403.206 494.463 L408.137 494.463 L408.137 498.352 L403.206 498.352 L403.206 506.5 L398.553 506.5 L398.553 498.352 L382.951 498.352 L382.951 493.838 L397.326 471.94 Z\" fill=\"#000000\" fill-rule=\"nonzero\" fill-opacity=\"1\" /><path clip-path=\"url(#clip390)\" d=\"M549.433 487.356 Q546.285 487.356 544.433 489.509 Q542.604 491.662 542.604 495.412 Q542.604 499.139 544.433 501.315 Q546.285 503.467 549.433 503.467 Q552.581 503.467 554.41 501.315 Q556.261 499.139 556.261 495.412 Q556.261 491.662 554.41 489.509 Q552.581 487.356 549.433 487.356 M558.715 472.704 L558.715 476.963 Q556.956 476.13 555.15 475.69 Q553.368 475.25 551.609 475.25 Q546.979 475.25 544.525 478.375 Q542.095 481.5 541.748 487.819 Q543.113 485.806 545.174 484.741 Q547.234 483.653 549.711 483.653 Q554.919 483.653 557.928 486.824 Q560.96 489.972 560.96 495.412 Q560.96 500.736 557.812 503.954 Q554.664 507.171 549.433 507.171 Q543.437 507.171 540.266 502.588 Q537.095 497.981 537.095 489.255 Q537.095 481.06 540.984 476.199 Q544.873 471.315 551.423 471.315 Q553.183 471.315 554.965 471.662 Q556.771 472.009 558.715 472.704 Z\" fill=\"#000000\" fill-rule=\"nonzero\" fill-opacity=\"1\" /><path clip-path=\"url(#clip390)\" d=\"M702.511 490.088 Q699.178 490.088 697.257 491.87 Q695.359 493.653 695.359 496.778 Q695.359 499.903 697.257 501.685 Q699.178 503.467 702.511 503.467 Q705.845 503.467 707.766 501.685 Q709.687 499.88 709.687 496.778 Q709.687 493.653 707.766 491.87 Q705.868 490.088 702.511 490.088 M697.835 488.097 Q694.826 487.356 693.136 485.296 Q691.47 483.236 691.47 480.273 Q691.47 476.13 694.41 473.722 Q697.372 471.315 702.511 471.315 Q707.673 471.315 710.613 473.722 Q713.553 476.13 713.553 480.273 Q713.553 483.236 711.863 485.296 Q710.196 487.356 707.21 488.097 Q710.59 488.884 712.465 491.176 Q714.363 493.468 714.363 496.778 Q714.363 501.801 711.284 504.486 Q708.229 507.171 702.511 507.171 Q696.794 507.171 693.715 504.486 Q690.66 501.801 690.66 496.778 Q690.66 493.468 692.558 491.176 Q694.456 488.884 697.835 488.097 M696.122 480.713 Q696.122 483.398 697.789 484.903 Q699.479 486.407 702.511 486.407 Q705.521 486.407 707.21 484.903 Q708.923 483.398 708.923 480.713 Q708.923 478.028 707.21 476.523 Q705.521 475.019 702.511 475.019 Q699.479 475.019 697.789 476.523 Q696.122 478.028 696.122 480.713 Z\" fill=\"#000000\" fill-rule=\"nonzero\" fill-opacity=\"1\" /><path clip-path=\"url(#clip390)\" d=\"M830.683 502.565 L838.321 502.565 L838.321 476.199 L830.011 477.866 L830.011 473.607 L838.275 471.94 L842.951 471.94 L842.951 502.565 L850.59 502.565 L850.59 506.5 L830.683 506.5 L830.683 502.565 Z\" fill=\"#000000\" fill-rule=\"nonzero\" fill-opacity=\"1\" /><path clip-path=\"url(#clip390)\" d=\"M870.034 475.019 Q866.423 475.019 864.594 478.583 Q862.789 482.125 862.789 489.255 Q862.789 496.361 864.594 499.926 Q866.423 503.467 870.034 503.467 Q873.668 503.467 875.474 499.926 Q877.303 496.361 877.303 489.255 Q877.303 482.125 875.474 478.583 Q873.668 475.019 870.034 475.019 M870.034 471.315 Q875.844 471.315 878.9 475.921 Q881.979 480.505 881.979 489.255 Q881.979 497.981 878.9 502.588 Q875.844 507.171 870.034 507.171 Q864.224 507.171 861.145 502.588 Q858.09 497.981 858.09 489.255 Q858.09 480.505 861.145 475.921 Q864.224 471.315 870.034 471.315 Z\" fill=\"#000000\" fill-rule=\"nonzero\" fill-opacity=\"1\" /><path clip-path=\"url(#clip390)\" d=\"M447.7 534.794 L447.7 544.916 L459.763 544.916 L459.763 549.467 L447.7 549.467 L447.7 568.819 Q447.7 573.18 448.878 574.421 Q450.087 575.662 453.747 575.662 L459.763 575.662 L459.763 580.564 L453.747 580.564 Q446.968 580.564 444.39 578.049 Q441.812 575.503 441.812 568.819 L441.812 549.467 L437.515 549.467 L437.515 544.916 L441.812 544.916 L441.812 534.794 L447.7 534.794 Z\" fill=\"#000000\" fill-rule=\"nonzero\" fill-opacity=\"1\" /><path clip-path=\"url(#clip390)\" d=\"M467.465 544.916 L473.322 544.916 L473.322 580.564 L467.465 580.564 L467.465 544.916 M467.465 531.039 L473.322 531.039 L473.322 538.455 L467.465 538.455 L467.465 531.039 Z\" fill=\"#000000\" fill-rule=\"nonzero\" fill-opacity=\"1\" /><path clip-path=\"url(#clip390)\" d=\"M511.23 546.285 L511.23 551.759 Q508.747 550.39 506.233 549.722 Q503.75 549.022 501.204 549.022 Q495.506 549.022 492.355 552.65 Q489.204 556.247 489.204 562.772 Q489.204 569.297 492.355 572.925 Q495.506 576.522 501.204 576.522 Q503.75 576.522 506.233 575.853 Q508.747 575.153 511.23 573.784 L511.23 579.195 Q508.779 580.341 506.137 580.914 Q503.527 581.487 500.567 581.487 Q492.514 581.487 487.772 576.426 Q483.03 571.365 483.03 562.772 Q483.03 554.051 487.804 549.054 Q492.61 544.057 500.949 544.057 Q503.654 544.057 506.233 544.629 Q508.811 545.171 511.23 546.285 Z\" fill=\"#000000\" fill-rule=\"nonzero\" fill-opacity=\"1\" /><path clip-path=\"url(#clip390)\" d=\"M521.192 531.039 L527.08 531.039 L527.08 560.289 L544.554 544.916 L552.034 544.916 L533.128 561.594 L552.83 580.564 L545.191 580.564 L527.08 563.154 L527.08 580.564 L521.192 580.564 L521.192 531.039 Z\" fill=\"#000000\" fill-rule=\"nonzero\" fill-opacity=\"1\" /><path clip-path=\"url(#clip390)\" d=\"M581.889 545.966 L581.889 551.504 Q579.406 550.231 576.733 549.595 Q574.059 548.958 571.195 548.958 Q566.834 548.958 564.638 550.295 Q562.474 551.632 562.474 554.305 Q562.474 556.342 564.033 557.52 Q565.593 558.666 570.303 559.716 L572.309 560.162 Q578.547 561.499 581.157 563.949 Q583.799 566.368 583.799 570.729 Q583.799 575.694 579.852 578.59 Q575.937 581.487 569.062 581.487 Q566.198 581.487 563.078 580.914 Q559.991 580.373 556.553 579.259 L556.553 573.211 Q559.8 574.898 562.951 575.758 Q566.102 576.585 569.189 576.585 Q573.327 576.585 575.555 575.185 Q577.783 573.753 577.783 571.174 Q577.783 568.787 576.16 567.514 Q574.568 566.241 569.126 565.063 L567.089 564.586 Q561.646 563.44 559.227 561.085 Q556.808 558.698 556.808 554.56 Q556.808 549.531 560.373 546.794 Q563.938 544.057 570.494 544.057 Q573.741 544.057 576.605 544.534 Q579.47 545.011 581.889 545.966 Z\" fill=\"#000000\" fill-rule=\"nonzero\" fill-opacity=\"1\" /><polyline clip-path=\"url(#clip392)\" style=\"stroke:#000000; stroke-linecap:round; stroke-linejoin:round; stroke-width:2; stroke-opacity:0.1; fill:none\" points=\"144.598,442.196 876.715,442.196 \"/>\n<polyline clip-path=\"url(#clip392)\" style=\"stroke:#000000; stroke-linecap:round; stroke-linejoin:round; stroke-width:2; stroke-opacity:0.1; fill:none\" points=\"144.598,344.724 876.715,344.724 \"/>\n<polyline clip-path=\"url(#clip392)\" style=\"stroke:#000000; stroke-linecap:round; stroke-linejoin:round; stroke-width:2; stroke-opacity:0.1; fill:none\" points=\"144.598,247.251 876.715,247.251 \"/>\n<polyline clip-path=\"url(#clip392)\" style=\"stroke:#000000; stroke-linecap:round; stroke-linejoin:round; stroke-width:2; stroke-opacity:0.1; fill:none\" points=\"144.598,149.778 876.715,149.778 \"/>\n<polyline clip-path=\"url(#clip392)\" style=\"stroke:#000000; stroke-linecap:round; stroke-linejoin:round; stroke-width:2; stroke-opacity:0.1; fill:none\" points=\"144.598,52.3057 876.715,52.3057 \"/>\n<polyline clip-path=\"url(#clip390)\" style=\"stroke:#000000; stroke-linecap:round; stroke-linejoin:round; stroke-width:4; stroke-opacity:1; fill:none\" points=\"144.598,453.7 144.598,47.2441 \"/>\n<polyline clip-path=\"url(#clip390)\" style=\"stroke:#000000; stroke-linecap:round; stroke-linejoin:round; stroke-width:4; stroke-opacity:1; fill:none\" points=\"144.598,442.196 158.322,442.196 \"/>\n<polyline clip-path=\"url(#clip390)\" style=\"stroke:#000000; stroke-linecap:round; stroke-linejoin:round; stroke-width:4; stroke-opacity:1; fill:none\" points=\"144.598,344.724 158.322,344.724 \"/>\n<polyline clip-path=\"url(#clip390)\" style=\"stroke:#000000; stroke-linecap:round; stroke-linejoin:round; stroke-width:4; stroke-opacity:1; fill:none\" points=\"144.598,247.251 158.322,247.251 \"/>\n<polyline clip-path=\"url(#clip390)\" style=\"stroke:#000000; stroke-linecap:round; stroke-linejoin:round; stroke-width:4; stroke-opacity:1; fill:none\" points=\"144.598,149.778 158.322,149.778 \"/>\n<polyline clip-path=\"url(#clip390)\" style=\"stroke:#000000; stroke-linecap:round; stroke-linejoin:round; stroke-width:4; stroke-opacity:1; fill:none\" points=\"144.598,52.3057 158.322,52.3057 \"/>\n<path clip-path=\"url(#clip390)\" d=\"M70.0708 427.995 Q66.4597 427.995 64.631 431.56 Q62.8254 435.102 62.8254 442.231 Q62.8254 449.338 64.631 452.902 Q66.4597 456.444 70.0708 456.444 Q73.705 456.444 75.5105 452.902 Q77.3392 449.338 77.3392 442.231 Q77.3392 435.102 75.5105 431.56 Q73.705 427.995 70.0708 427.995 M70.0708 424.291 Q75.8809 424.291 78.9365 428.898 Q82.0151 433.481 82.0151 442.231 Q82.0151 450.958 78.9365 455.564 Q75.8809 460.148 70.0708 460.148 Q64.2606 460.148 61.1819 455.564 Q58.1264 450.958 58.1264 442.231 Q58.1264 433.481 61.1819 428.898 Q64.2606 424.291 70.0708 424.291 Z\" fill=\"#000000\" fill-rule=\"nonzero\" fill-opacity=\"1\" /><path clip-path=\"url(#clip390)\" d=\"M90.2327 453.597 L95.1169 453.597 L95.1169 459.476 L90.2327 459.476 L90.2327 453.597 Z\" fill=\"#000000\" fill-rule=\"nonzero\" fill-opacity=\"1\" /><path clip-path=\"url(#clip390)\" d=\"M119.469 440.842 Q122.825 441.56 124.7 443.828 Q126.598 446.097 126.598 449.43 Q126.598 454.546 123.08 457.347 Q119.561 460.148 113.08 460.148 Q110.904 460.148 108.589 459.708 Q106.297 459.291 103.844 458.435 L103.844 453.921 Q105.788 455.055 108.103 455.634 Q110.418 456.213 112.941 456.213 Q117.339 456.213 119.631 454.476 Q121.945 452.74 121.945 449.43 Q121.945 446.375 119.793 444.662 Q117.663 442.926 113.844 442.926 L109.816 442.926 L109.816 439.083 L114.029 439.083 Q117.478 439.083 119.307 437.717 Q121.135 436.328 121.135 433.736 Q121.135 431.074 119.237 429.662 Q117.362 428.227 113.844 428.227 Q111.922 428.227 109.723 428.643 Q107.524 429.06 104.885 429.939 L104.885 425.773 Q107.547 425.032 109.862 424.662 Q112.2 424.291 114.26 424.291 Q119.584 424.291 122.686 426.722 Q125.788 429.129 125.788 433.25 Q125.788 436.12 124.145 438.111 Q122.501 440.078 119.469 440.842 Z\" fill=\"#000000\" fill-rule=\"nonzero\" fill-opacity=\"1\" /><path clip-path=\"url(#clip390)\" d=\"M68.9365 330.522 Q65.3254 330.522 63.4967 334.087 Q61.6912 337.629 61.6912 344.758 Q61.6912 351.865 63.4967 355.43 Q65.3254 358.971 68.9365 358.971 Q72.5707 358.971 74.3763 355.43 Q76.205 351.865 76.205 344.758 Q76.205 337.629 74.3763 334.087 Q72.5707 330.522 68.9365 330.522 M68.9365 326.819 Q74.7467 326.819 77.8022 331.425 Q80.8809 336.008 80.8809 344.758 Q80.8809 353.485 77.8022 358.092 Q74.7467 362.675 68.9365 362.675 Q63.1264 362.675 60.0477 358.092 Q56.9921 353.485 56.9921 344.758 Q56.9921 336.008 60.0477 331.425 Q63.1264 326.819 68.9365 326.819 Z\" fill=\"#000000\" fill-rule=\"nonzero\" fill-opacity=\"1\" /><path clip-path=\"url(#clip390)\" d=\"M89.0984 356.124 L93.9827 356.124 L93.9827 362.004 L89.0984 362.004 L89.0984 356.124 Z\" fill=\"#000000\" fill-rule=\"nonzero\" fill-opacity=\"1\" /><path clip-path=\"url(#clip390)\" d=\"M117.015 331.518 L105.209 349.967 L117.015 349.967 L117.015 331.518 M115.788 327.444 L121.668 327.444 L121.668 349.967 L126.598 349.967 L126.598 353.856 L121.668 353.856 L121.668 362.004 L117.015 362.004 L117.015 353.856 L101.413 353.856 L101.413 349.342 L115.788 327.444 Z\" fill=\"#000000\" fill-rule=\"nonzero\" fill-opacity=\"1\" /><path clip-path=\"url(#clip390)\" d=\"M70.418 233.05 Q66.8069 233.05 64.9782 236.615 Q63.1726 240.156 63.1726 247.286 Q63.1726 254.392 64.9782 257.957 Q66.8069 261.499 70.418 261.499 Q74.0522 261.499 75.8578 257.957 Q77.6865 254.392 77.6865 247.286 Q77.6865 240.156 75.8578 236.615 Q74.0522 233.05 70.418 233.05 M70.418 229.346 Q76.2281 229.346 79.2837 233.952 Q82.3624 238.536 82.3624 247.286 Q82.3624 256.013 79.2837 260.619 Q76.2281 265.202 70.418 265.202 Q64.6078 265.202 61.5291 260.619 Q58.4736 256.013 58.4736 247.286 Q58.4736 238.536 61.5291 233.952 Q64.6078 229.346 70.418 229.346 Z\" fill=\"#000000\" fill-rule=\"nonzero\" fill-opacity=\"1\" /><path clip-path=\"url(#clip390)\" d=\"M90.5799 258.651 L95.4641 258.651 L95.4641 264.531 L90.5799 264.531 L90.5799 258.651 Z\" fill=\"#000000\" fill-rule=\"nonzero\" fill-opacity=\"1\" /><path clip-path=\"url(#clip390)\" d=\"M105.696 229.971 L124.052 229.971 L124.052 233.906 L109.978 233.906 L109.978 242.378 Q110.996 242.031 112.015 241.869 Q113.033 241.684 114.052 241.684 Q119.839 241.684 123.219 244.855 Q126.598 248.026 126.598 253.443 Q126.598 259.022 123.126 262.124 Q119.654 265.202 113.334 265.202 Q111.159 265.202 108.89 264.832 Q106.645 264.462 104.237 263.721 L104.237 259.022 Q106.321 260.156 108.543 260.712 Q110.765 261.267 113.242 261.267 Q117.246 261.267 119.584 259.161 Q121.922 257.054 121.922 253.443 Q121.922 249.832 119.584 247.726 Q117.246 245.619 113.242 245.619 Q111.367 245.619 109.492 246.036 Q107.64 246.452 105.696 247.332 L105.696 229.971 Z\" fill=\"#000000\" fill-rule=\"nonzero\" fill-opacity=\"1\" /><path clip-path=\"url(#clip390)\" d=\"M69.2606 135.577 Q65.6495 135.577 63.8208 139.142 Q62.0152 142.683 62.0152 149.813 Q62.0152 156.92 63.8208 160.484 Q65.6495 164.026 69.2606 164.026 Q72.8948 164.026 74.7004 160.484 Q76.5291 156.92 76.5291 149.813 Q76.5291 142.683 74.7004 139.142 Q72.8948 135.577 69.2606 135.577 M69.2606 131.873 Q75.0707 131.873 78.1263 136.48 Q81.205 141.063 81.205 149.813 Q81.205 158.54 78.1263 163.146 Q75.0707 167.73 69.2606 167.73 Q63.4504 167.73 60.3717 163.146 Q57.3162 158.54 57.3162 149.813 Q57.3162 141.063 60.3717 136.48 Q63.4504 131.873 69.2606 131.873 Z\" fill=\"#000000\" fill-rule=\"nonzero\" fill-opacity=\"1\" /><path clip-path=\"url(#clip390)\" d=\"M89.4225 161.179 L94.3067 161.179 L94.3067 167.058 L89.4225 167.058 L89.4225 161.179 Z\" fill=\"#000000\" fill-rule=\"nonzero\" fill-opacity=\"1\" /><path clip-path=\"url(#clip390)\" d=\"M115.071 147.915 Q111.922 147.915 110.071 150.068 Q108.242 152.22 108.242 155.97 Q108.242 159.697 110.071 161.873 Q111.922 164.026 115.071 164.026 Q118.219 164.026 120.047 161.873 Q121.899 159.697 121.899 155.97 Q121.899 152.22 120.047 150.068 Q118.219 147.915 115.071 147.915 M124.353 133.262 L124.353 137.521 Q122.594 136.688 120.788 136.248 Q119.006 135.809 117.246 135.809 Q112.617 135.809 110.163 138.933 Q107.733 142.058 107.385 148.378 Q108.751 146.364 110.811 145.299 Q112.871 144.211 115.348 144.211 Q120.557 144.211 123.566 147.383 Q126.598 150.531 126.598 155.97 Q126.598 161.294 123.45 164.512 Q120.302 167.73 115.071 167.73 Q109.075 167.73 105.904 163.146 Q102.733 158.54 102.733 149.813 Q102.733 141.619 106.621 136.758 Q110.51 131.873 117.061 131.873 Q118.82 131.873 120.603 132.221 Q122.408 132.568 124.353 133.262 Z\" fill=\"#000000\" fill-rule=\"nonzero\" fill-opacity=\"1\" /><path clip-path=\"url(#clip390)\" d=\"M70.3254 38.1044 Q66.7143 38.1044 64.8856 41.6692 Q63.0801 45.2108 63.0801 52.3404 Q63.0801 59.4468 64.8856 63.0116 Q66.7143 66.5533 70.3254 66.5533 Q73.9596 66.5533 75.7652 63.0116 Q77.5939 59.4468 77.5939 52.3404 Q77.5939 45.2108 75.7652 41.6692 Q73.9596 38.1044 70.3254 38.1044 M70.3254 34.4007 Q76.1355 34.4007 79.1911 39.0071 Q82.2698 43.5904 82.2698 52.3404 Q82.2698 61.0672 79.1911 65.6737 Q76.1355 70.257 70.3254 70.257 Q64.5152 70.257 61.4365 65.6737 Q58.381 61.0672 58.381 52.3404 Q58.381 43.5904 61.4365 39.0071 Q64.5152 34.4007 70.3254 34.4007 Z\" fill=\"#000000\" fill-rule=\"nonzero\" fill-opacity=\"1\" /><path clip-path=\"url(#clip390)\" d=\"M90.4873 63.7061 L95.3715 63.7061 L95.3715 69.5857 L90.4873 69.5857 L90.4873 63.7061 Z\" fill=\"#000000\" fill-rule=\"nonzero\" fill-opacity=\"1\" /><path clip-path=\"url(#clip390)\" d=\"M104.376 35.0257 L126.598 35.0257 L126.598 37.0164 L114.052 69.5857 L109.168 69.5857 L120.973 38.9608 L104.376 38.9608 L104.376 35.0257 Z\" fill=\"#000000\" fill-rule=\"nonzero\" fill-opacity=\"1\" /><polyline clip-path=\"url(#clip392)\" style=\"stroke:#009af9; stroke-linecap:round; stroke-linejoin:round; stroke-width:4; stroke-opacity:1; fill:none\" points=\"165.319,442.196 242.06,430.987 318.802,348.079 395.544,240.445 472.286,157.055 549.028,132.27 625.769,107.778 702.511,107.655 779.253,73.539 855.995,58.7476 \"/>\n<path clip-path=\"url(#clip390)\" d=\"M910.321 164.473 L1152.76 164.473 L1152.76 60.7926 L910.321 60.7926  Z\" fill=\"#ffffff\" fill-rule=\"evenodd\" fill-opacity=\"1\"/>\n<polyline clip-path=\"url(#clip390)\" style=\"stroke:#000000; stroke-linecap:round; stroke-linejoin:round; stroke-width:4; stroke-opacity:1; fill:none\" points=\"910.321,164.473 1152.76,164.473 1152.76,60.7926 910.321,60.7926 910.321,164.473 \"/>\n<polyline clip-path=\"url(#clip390)\" style=\"stroke:#009af9; stroke-linecap:round; stroke-linejoin:round; stroke-width:4; stroke-opacity:1; fill:none\" points=\"921.522,112.633 988.733,112.633 \"/>\n<path clip-path=\"url(#clip390)\" d=\"M1021.65 114.265 L1021.65 129.913 L1017.39 129.913 L1017.39 114.403 Q1017.39 110.723 1015.95 108.894 Q1014.52 107.066 1011.65 107.066 Q1008.2 107.066 1006.21 109.265 Q1004.22 111.464 1004.22 115.26 L1004.22 129.913 L999.935 129.913 L999.935 93.8943 L1004.22 93.8943 L1004.22 108.015 Q1005.74 105.677 1007.8 104.519 Q1009.89 103.362 1012.6 103.362 Q1017.06 103.362 1019.36 106.14 Q1021.65 108.894 1021.65 114.265 Z\" fill=\"#000000\" fill-rule=\"nonzero\" fill-opacity=\"1\" /><path clip-path=\"url(#clip390)\" d=\"M1041.93 116.88 Q1036.76 116.88 1034.77 118.061 Q1032.78 119.241 1032.78 122.089 Q1032.78 124.357 1034.26 125.7 Q1035.77 127.019 1038.34 127.019 Q1041.88 127.019 1044.01 124.519 Q1046.16 121.996 1046.16 117.829 L1046.16 116.88 L1041.93 116.88 M1050.42 115.121 L1050.42 129.913 L1046.16 129.913 L1046.16 125.977 Q1044.7 128.339 1042.53 129.473 Q1040.35 130.584 1037.2 130.584 Q1033.22 130.584 1030.86 128.362 Q1028.52 126.116 1028.52 122.366 Q1028.52 117.991 1031.44 115.769 Q1034.38 113.547 1040.19 113.547 L1046.16 113.547 L1046.16 113.13 Q1046.16 110.191 1044.22 108.593 Q1042.3 106.973 1038.8 106.973 Q1036.58 106.973 1034.47 107.505 Q1032.36 108.038 1030.42 109.103 L1030.42 105.167 Q1032.76 104.265 1034.96 103.825 Q1037.16 103.362 1039.24 103.362 Q1044.86 103.362 1047.64 106.278 Q1050.42 109.195 1050.42 115.121 Z\" fill=\"#000000\" fill-rule=\"nonzero\" fill-opacity=\"1\" /><path clip-path=\"url(#clip390)\" d=\"M1063.31 126.024 L1063.31 139.774 L1059.03 139.774 L1059.03 103.987 L1063.31 103.987 L1063.31 107.922 Q1064.66 105.607 1066.69 104.496 Q1068.75 103.362 1071.6 103.362 Q1076.32 103.362 1079.26 107.112 Q1082.23 110.862 1082.23 116.973 Q1082.23 123.084 1079.26 126.834 Q1076.32 130.584 1071.6 130.584 Q1068.75 130.584 1066.69 129.473 Q1064.66 128.339 1063.31 126.024 M1077.8 116.973 Q1077.8 112.274 1075.86 109.612 Q1073.94 106.927 1070.56 106.927 Q1067.18 106.927 1065.24 109.612 Q1063.31 112.274 1063.31 116.973 Q1063.31 121.672 1065.24 124.357 Q1067.18 127.019 1070.56 127.019 Q1073.94 127.019 1075.86 124.357 Q1077.8 121.672 1077.8 116.973 Z\" fill=\"#000000\" fill-rule=\"nonzero\" fill-opacity=\"1\" /><path clip-path=\"url(#clip390)\" d=\"M1093.41 126.024 L1093.41 139.774 L1089.12 139.774 L1089.12 103.987 L1093.41 103.987 L1093.41 107.922 Q1094.75 105.607 1096.79 104.496 Q1098.85 103.362 1101.69 103.362 Q1106.42 103.362 1109.36 107.112 Q1112.32 110.862 1112.32 116.973 Q1112.32 123.084 1109.36 126.834 Q1106.42 130.584 1101.69 130.584 Q1098.85 130.584 1096.79 129.473 Q1094.75 128.339 1093.41 126.024 M1107.9 116.973 Q1107.9 112.274 1105.95 109.612 Q1104.03 106.927 1100.65 106.927 Q1097.27 106.927 1095.33 109.612 Q1093.41 112.274 1093.41 116.973 Q1093.41 121.672 1095.33 124.357 Q1097.27 127.019 1100.65 127.019 Q1104.03 127.019 1105.95 124.357 Q1107.9 121.672 1107.9 116.973 Z\" fill=\"#000000\" fill-rule=\"nonzero\" fill-opacity=\"1\" /><path clip-path=\"url(#clip390)\" d=\"M1130.17 132.32 Q1128.36 136.95 1126.65 138.362 Q1124.93 139.774 1122.06 139.774 L1118.66 139.774 L1118.66 136.209 L1121.16 136.209 Q1122.92 136.209 1123.89 135.376 Q1124.86 134.542 1126.04 131.44 L1126.81 129.496 L1116.32 103.987 L1120.84 103.987 L1128.94 124.265 L1137.04 103.987 L1141.55 103.987 L1130.17 132.32 Z\" fill=\"#000000\" fill-rule=\"nonzero\" fill-opacity=\"1\" /></svg>\n"
               }
              },
              "systemjs_options": null
             },
             "nodeType": "Scope",
             "props": {},
             "type": "node"
            }
           ],
           "instanceArgs": {
            "namespace": "html",
            "tag": "div"
           },
           "nodeType": "DOM",
           "props": {
            "style": {
             "display": "flex",
             "flex-direction": "column"
            }
           },
           "type": "node"
          }
         ],
         "instanceArgs": {
          "namespace": "html",
          "tag": "div"
         },
         "nodeType": "DOM",
         "props": {
          "style": {
           "display": "flex",
           "flex-direction": "row"
          }
         },
         "type": "node"
        }
       ],
       "instanceArgs": {
        "namespace": "html",
        "tag": "div"
       },
       "nodeType": "DOM",
       "props": {
        "style": {
         "display": "flex",
         "flex-direction": "column"
        }
       },
       "type": "node"
      },
      "text/html": [
       "<div\n",
       "    class=\"webio-mountpoint\"\n",
       "    data-webio-mountpoint=\"3094057343124315789\"\n",
       ">\n",
       "    <script>\n",
       "    (function(){\n",
       "    // Some integrations (namely, IJulia/Jupyter) use an alternate render pathway than\n",
       "    // just putting the html on the page. If WebIO isn't defined, then it's pretty likely\n",
       "    // that we're in one of those situations and the integration just isn't installed\n",
       "    // correctly.\n",
       "    if (typeof window.WebIO === \"undefined\") {\n",
       "        document\n",
       "            .querySelector('[data-webio-mountpoint=\"3094057343124315789\"]')\n",
       "            .innerHTML = (\n",
       "                '<div style=\"padding: 1em; background-color: #f8d6da; border: 1px solid #f5c6cb; font-weight: bold;\">' +\n",
       "                '<p><strong>WebIO not detected.</strong></p>' +\n",
       "                '<p>Please read ' +\n",
       "                '<a href=\"https://juliagizmos.github.io/WebIO.jl/latest/troubleshooting/not-detected/\" target=\"_blank\">the troubleshooting guide</a> ' +\n",
       "                'for more information on how to resolve this issue.</p>' +\n",
       "                '<p><a href=\"https://juliagizmos.github.io/WebIO.jl/latest/troubleshooting/not-detected/\" target=\"_blank\">https://juliagizmos.github.io/WebIO.jl/latest/troubleshooting/not-detected/</a></p>' +\n",
       "                '</div>'\n",
       "            );\n",
       "        return;\n",
       "    }\n",
       "    WebIO.mount(\n",
       "        document.querySelector('[data-webio-mountpoint=\"3094057343124315789\"]'),\n",
       "        {\"props\":{\"style\":{\"display\":\"flex\",\"flex-direction\":\"column\"}},\"nodeType\":\"DOM\",\"type\":\"node\",\"instanceArgs\":{\"namespace\":\"html\",\"tag\":\"div\"},\"children\":[{\"props\":{\"style\":{\"display\":\"flex\",\"flex-direction\":\"row\"}},\"nodeType\":\"DOM\",\"type\":\"node\",\"instanceArgs\":{\"namespace\":\"html\",\"tag\":\"div\"},\"children\":[{\"props\":{\"style\":{\"display\":\"flex\",\"flex-direction\":\"column\"}},\"nodeType\":\"DOM\",\"type\":\"node\",\"instanceArgs\":{\"namespace\":\"html\",\"tag\":\"div\"},\"children\":[{\"props\":{\"className\":\"field interact-widget\"},\"nodeType\":\"DOM\",\"type\":\"node\",\"instanceArgs\":{\"namespace\":\"html\",\"tag\":\"div\"},\"children\":[{\"props\":{},\"nodeType\":\"Scope\",\"type\":\"node\",\"instanceArgs\":{\"imports\":{\"data\":[{\"name\":\"knockout\",\"type\":\"js\",\"url\":\"\\/assetserver\\/727383f2a47bd31570b7da84eee7b022dd6d7c78-knockout.js\"},{\"name\":\"knockout_punches\",\"type\":\"js\",\"url\":\"\\/assetserver\\/382b41b3b1bd9f26f75861d360bad7f8beea211f-knockout_punches.js\"},{\"name\":null,\"type\":\"js\",\"url\":\"\\/assetserver\\/5ab20f1060420992a9b82a65b735dee4d81ef413-all.js\"},{\"name\":null,\"type\":\"css\",\"url\":\"\\/assetserver\\/1cc0ed62837210b80a182cc3676512f895dab686-style.css\"},{\"name\":null,\"type\":\"css\",\"url\":\"\\/assetserver\\/2eee816f616df3549d7044d45e744fbf8d42bfa1-bulma_confined.min.css\"}],\"type\":\"async_block\"},\"id\":\"16461535665047080778\",\"handlers\":{\"changes\":[\"(function (val){return (val!=this.model[\\\"changes\\\"]()) ? (this.valueFromJulia[\\\"changes\\\"]=true, this.model[\\\"changes\\\"](val)) : undefined})\"],\"index\":[\"(function (val){return (val!=this.model[\\\"index\\\"]()) ? (this.valueFromJulia[\\\"index\\\"]=true, this.model[\\\"index\\\"](val)) : undefined})\"]},\"systemjs_options\":null,\"mount_callbacks\":[\"function () {\\n    var handler = (function (ko, koPunches) {\\n    ko.punches.enableAll();\\n    ko.bindingHandlers.numericValue = {\\n        init: function(element, valueAccessor, allBindings, data, context) {\\n            var stringified = ko.observable(ko.unwrap(valueAccessor()));\\n            stringified.subscribe(function(value) {\\n                var val = parseFloat(value);\\n                if (!isNaN(val)) {\\n                    valueAccessor()(val);\\n                }\\n            });\\n            valueAccessor().subscribe(function(value) {\\n                var str = JSON.stringify(value);\\n                if ((str == \\\"0\\\") && ([\\\"-0\\\", \\\"-0.\\\"].indexOf(stringified()) >= 0))\\n                     return;\\n                 if ([\\\"null\\\", \\\"\\\"].indexOf(str) >= 0)\\n                     return;\\n                stringified(str);\\n            });\\n            ko.applyBindingsToNode(\\n                element,\\n                {\\n                    value: stringified,\\n                    valueUpdate: allBindings.get('valueUpdate'),\\n                },\\n                context,\\n            );\\n        }\\n    };\\n    var json_data = {\\\"formatted_vals\\\":[\\\"1\\\",\\\"2\\\",\\\"3\\\",\\\"4\\\",\\\"5\\\",\\\"6\\\",\\\"7\\\",\\\"8\\\",\\\"9\\\",\\\"10\\\",\\\"11\\\",\\\"12\\\",\\\"13\\\",\\\"14\\\",\\\"15\\\",\\\"16\\\",\\\"17\\\",\\\"18\\\",\\\"19\\\",\\\"20\\\"],\\\"changes\\\":WebIO.getval({\\\"name\\\":\\\"changes\\\",\\\"scope\\\":\\\"16461535665047080778\\\",\\\"id\\\":\\\"13908687752822770195\\\",\\\"type\\\":\\\"observable\\\"}),\\\"index\\\":WebIO.getval({\\\"name\\\":\\\"index\\\",\\\"scope\\\":\\\"16461535665047080778\\\",\\\"id\\\":\\\"1066359930470112392\\\",\\\"type\\\":\\\"observable\\\"})};\\n    var self = this;\\n    function AppViewModel() {\\n        for (var key in json_data) {\\n            var el = json_data[key];\\n            this[key] = Array.isArray(el) ? ko.observableArray(el) : ko.observable(el);\\n        }\\n        \\n        [this[\\\"formatted_val\\\"]=ko.computed(    function(){\\n        return this.formatted_vals()[parseInt(this.index())-(1)];\\n    }\\n,this)]\\n        [this[\\\"changes\\\"].subscribe((function (val){!(this.valueFromJulia[\\\"changes\\\"]) ? (WebIO.setval({\\\"name\\\":\\\"changes\\\",\\\"scope\\\":\\\"16461535665047080778\\\",\\\"id\\\":\\\"13908687752822770195\\\",\\\"type\\\":\\\"observable\\\"},val)) : undefined; return this.valueFromJulia[\\\"changes\\\"]=false}),self),this[\\\"index\\\"].subscribe((function (val){!(this.valueFromJulia[\\\"index\\\"]) ? (WebIO.setval({\\\"name\\\":\\\"index\\\",\\\"scope\\\":\\\"16461535665047080778\\\",\\\"id\\\":\\\"1066359930470112392\\\",\\\"type\\\":\\\"observable\\\"},val)) : undefined; return this.valueFromJulia[\\\"index\\\"]=false}),self)]\\n        \\n    }\\n    self.model = new AppViewModel();\\n    self.valueFromJulia = {};\\n    for (var key in json_data) {\\n        self.valueFromJulia[key] = false;\\n    }\\n    ko.applyBindings(self.model, self.dom);\\n}\\n);\\n    (WebIO.importBlock({\\\"data\\\":[{\\\"name\\\":\\\"knockout\\\",\\\"type\\\":\\\"js\\\",\\\"url\\\":\\\"\\/assetserver\\/727383f2a47bd31570b7da84eee7b022dd6d7c78-knockout.js\\\"},{\\\"name\\\":\\\"knockout_punches\\\",\\\"type\\\":\\\"js\\\",\\\"url\\\":\\\"\\/assetserver\\/382b41b3b1bd9f26f75861d360bad7f8beea211f-knockout_punches.js\\\"}],\\\"type\\\":\\\"async_block\\\"})).then((imports) => handler.apply(this, imports));\\n}\\n\"],\"observables\":{\"changes\":{\"sync\":false,\"id\":\"13908687752822770195\",\"value\":0},\"index\":{\"sync\":true,\"id\":\"1066359930470112392\",\"value\":10}}},\"children\":[{\"props\":{\"className\":\"interact-flex-row interact-widget\"},\"nodeType\":\"DOM\",\"type\":\"node\",\"instanceArgs\":{\"namespace\":\"html\",\"tag\":\"div\"},\"children\":[{\"props\":{\"className\":\"interact-flex-row-left\"},\"nodeType\":\"DOM\",\"type\":\"node\",\"instanceArgs\":{\"namespace\":\"html\",\"tag\":\"div\"},\"children\":[{\"props\":{\"className\":\"interact \",\"style\":{\"padding\":\"5px 10px 0px 10px\"}},\"nodeType\":\"DOM\",\"type\":\"node\",\"instanceArgs\":{\"namespace\":\"html\",\"tag\":\"label\"},\"children\":[\"time\"]}]},{\"props\":{\"className\":\"interact-flex-row-center\"},\"nodeType\":\"DOM\",\"type\":\"node\",\"instanceArgs\":{\"namespace\":\"html\",\"tag\":\"div\"},\"children\":[{\"props\":{\"max\":20,\"min\":1,\"attributes\":{\"type\":\"range\",\"data-bind\":\"numericValue: index, valueUpdate: 'input', event: {change: function (){this.changes(this.changes()+1)}}\",\"orient\":\"horizontal\"},\"step\":1,\"className\":\"slider slider is-fullwidth\",\"style\":{}},\"nodeType\":\"DOM\",\"type\":\"node\",\"instanceArgs\":{\"namespace\":\"html\",\"tag\":\"input\"},\"children\":[]}]},{\"props\":{\"className\":\"interact-flex-row-right\"},\"nodeType\":\"DOM\",\"type\":\"node\",\"instanceArgs\":{\"namespace\":\"html\",\"tag\":\"div\"},\"children\":[{\"props\":{\"attributes\":{\"data-bind\":\"text: formatted_val\"}},\"nodeType\":\"DOM\",\"type\":\"node\",\"instanceArgs\":{\"namespace\":\"html\",\"tag\":\"p\"},\"children\":[]}]}]}]}]},{\"props\":{\"className\":\"field interact-widget\"},\"nodeType\":\"DOM\",\"type\":\"node\",\"instanceArgs\":{\"namespace\":\"html\",\"tag\":\"div\"},\"children\":[{\"props\":{},\"nodeType\":\"Scope\",\"type\":\"node\",\"instanceArgs\":{\"imports\":{\"data\":[{\"name\":\"knockout\",\"type\":\"js\",\"url\":\"\\/assetserver\\/727383f2a47bd31570b7da84eee7b022dd6d7c78-knockout.js\"},{\"name\":\"knockout_punches\",\"type\":\"js\",\"url\":\"\\/assetserver\\/382b41b3b1bd9f26f75861d360bad7f8beea211f-knockout_punches.js\"},{\"name\":null,\"type\":\"js\",\"url\":\"\\/assetserver\\/5ab20f1060420992a9b82a65b735dee4d81ef413-all.js\"},{\"name\":null,\"type\":\"css\",\"url\":\"\\/assetserver\\/1cc0ed62837210b80a182cc3676512f895dab686-style.css\"},{\"name\":null,\"type\":\"css\",\"url\":\"\\/assetserver\\/2eee816f616df3549d7044d45e744fbf8d42bfa1-bulma_confined.min.css\"}],\"type\":\"async_block\"},\"id\":\"8367660254991233097\",\"handlers\":{\"changes\":[\"(function (val){return (val!=this.model[\\\"changes\\\"]()) ? (this.valueFromJulia[\\\"changes\\\"]=true, this.model[\\\"changes\\\"](val)) : undefined})\"],\"index\":[\"(function (val){return (val!=this.model[\\\"index\\\"]()) ? (this.valueFromJulia[\\\"index\\\"]=true, this.model[\\\"index\\\"](val)) : undefined})\"]},\"systemjs_options\":null,\"mount_callbacks\":[\"function () {\\n    var handler = (function (ko, koPunches) {\\n    ko.punches.enableAll();\\n    ko.bindingHandlers.numericValue = {\\n        init: function(element, valueAccessor, allBindings, data, context) {\\n            var stringified = ko.observable(ko.unwrap(valueAccessor()));\\n            stringified.subscribe(function(value) {\\n                var val = parseFloat(value);\\n                if (!isNaN(val)) {\\n                    valueAccessor()(val);\\n                }\\n            });\\n            valueAccessor().subscribe(function(value) {\\n                var str = JSON.stringify(value);\\n                if ((str == \\\"0\\\") && ([\\\"-0\\\", \\\"-0.\\\"].indexOf(stringified()) >= 0))\\n                     return;\\n                 if ([\\\"null\\\", \\\"\\\"].indexOf(str) >= 0)\\n                     return;\\n                stringified(str);\\n            });\\n            ko.applyBindingsToNode(\\n                element,\\n                {\\n                    value: stringified,\\n                    valueUpdate: allBindings.get('valueUpdate'),\\n                },\\n                context,\\n            );\\n        }\\n    };\\n    var json_data = {\\\"formatted_vals\\\":[\\\"0.1\\\",\\\"0.2\\\",\\\"0.3\\\",\\\"0.4\\\",\\\"0.5\\\",\\\"0.6\\\",\\\"0.7\\\",\\\"0.8\\\",\\\"0.9\\\",\\\"1.0\\\",\\\"1.1\\\",\\\"1.2\\\",\\\"1.3\\\",\\\"1.4\\\",\\\"1.5\\\",\\\"1.6\\\",\\\"1.7\\\",\\\"1.8\\\",\\\"1.9\\\",\\\"2.0\\\"],\\\"changes\\\":WebIO.getval({\\\"name\\\":\\\"changes\\\",\\\"scope\\\":\\\"8367660254991233097\\\",\\\"id\\\":\\\"2992107764499350611\\\",\\\"type\\\":\\\"observable\\\"}),\\\"index\\\":WebIO.getval({\\\"name\\\":\\\"index\\\",\\\"scope\\\":\\\"8367660254991233097\\\",\\\"id\\\":\\\"9949113998010829148\\\",\\\"type\\\":\\\"observable\\\"})};\\n    var self = this;\\n    function AppViewModel() {\\n        for (var key in json_data) {\\n            var el = json_data[key];\\n            this[key] = Array.isArray(el) ? ko.observableArray(el) : ko.observable(el);\\n        }\\n        \\n        [this[\\\"formatted_val\\\"]=ko.computed(    function(){\\n        return this.formatted_vals()[parseInt(this.index())-(1)];\\n    }\\n,this)]\\n        [this[\\\"changes\\\"].subscribe((function (val){!(this.valueFromJulia[\\\"changes\\\"]) ? (WebIO.setval({\\\"name\\\":\\\"changes\\\",\\\"scope\\\":\\\"8367660254991233097\\\",\\\"id\\\":\\\"2992107764499350611\\\",\\\"type\\\":\\\"observable\\\"},val)) : undefined; return this.valueFromJulia[\\\"changes\\\"]=false}),self),this[\\\"index\\\"].subscribe((function (val){!(this.valueFromJulia[\\\"index\\\"]) ? (WebIO.setval({\\\"name\\\":\\\"index\\\",\\\"scope\\\":\\\"8367660254991233097\\\",\\\"id\\\":\\\"9949113998010829148\\\",\\\"type\\\":\\\"observable\\\"},val)) : undefined; return this.valueFromJulia[\\\"index\\\"]=false}),self)]\\n        \\n    }\\n    self.model = new AppViewModel();\\n    self.valueFromJulia = {};\\n    for (var key in json_data) {\\n        self.valueFromJulia[key] = false;\\n    }\\n    ko.applyBindings(self.model, self.dom);\\n}\\n);\\n    (WebIO.importBlock({\\\"data\\\":[{\\\"name\\\":\\\"knockout\\\",\\\"type\\\":\\\"js\\\",\\\"url\\\":\\\"\\/assetserver\\/727383f2a47bd31570b7da84eee7b022dd6d7c78-knockout.js\\\"},{\\\"name\\\":\\\"knockout_punches\\\",\\\"type\\\":\\\"js\\\",\\\"url\\\":\\\"\\/assetserver\\/382b41b3b1bd9f26f75861d360bad7f8beea211f-knockout_punches.js\\\"}],\\\"type\\\":\\\"async_block\\\"})).then((imports) => handler.apply(this, imports));\\n}\\n\"],\"observables\":{\"changes\":{\"sync\":false,\"id\":\"2992107764499350611\",\"value\":0},\"index\":{\"sync\":true,\"id\":\"9949113998010829148\",\"value\":10}}},\"children\":[{\"props\":{\"className\":\"interact-flex-row interact-widget\"},\"nodeType\":\"DOM\",\"type\":\"node\",\"instanceArgs\":{\"namespace\":\"html\",\"tag\":\"div\"},\"children\":[{\"props\":{\"className\":\"interact-flex-row-left\"},\"nodeType\":\"DOM\",\"type\":\"node\",\"instanceArgs\":{\"namespace\":\"html\",\"tag\":\"div\"},\"children\":[{\"props\":{\"className\":\"interact \",\"style\":{\"padding\":\"5px 10px 0px 10px\"}},\"nodeType\":\"DOM\",\"type\":\"node\",\"instanceArgs\":{\"namespace\":\"html\",\"tag\":\"label\"},\"children\":[\"scale\"]}]},{\"props\":{\"className\":\"interact-flex-row-center\"},\"nodeType\":\"DOM\",\"type\":\"node\",\"instanceArgs\":{\"namespace\":\"html\",\"tag\":\"div\"},\"children\":[{\"props\":{\"max\":20,\"min\":1,\"attributes\":{\"type\":\"range\",\"data-bind\":\"numericValue: index, valueUpdate: 'input', event: {change: function (){this.changes(this.changes()+1)}}\",\"orient\":\"horizontal\"},\"step\":1,\"className\":\"slider slider is-fullwidth\",\"style\":{}},\"nodeType\":\"DOM\",\"type\":\"node\",\"instanceArgs\":{\"namespace\":\"html\",\"tag\":\"input\"},\"children\":[]}]},{\"props\":{\"className\":\"interact-flex-row-right\"},\"nodeType\":\"DOM\",\"type\":\"node\",\"instanceArgs\":{\"namespace\":\"html\",\"tag\":\"div\"},\"children\":[{\"props\":{\"attributes\":{\"data-bind\":\"text: formatted_val\"}},\"nodeType\":\"DOM\",\"type\":\"node\",\"instanceArgs\":{\"namespace\":\"html\",\"tag\":\"p\"},\"children\":[]}]}]}]}]},{\"props\":{\"style\":{\"display\":\"flex\",\"flex-direction\":\"row\"}},\"nodeType\":\"DOM\",\"type\":\"node\",\"instanceArgs\":{\"namespace\":\"html\",\"tag\":\"div\"},\"children\":[{\"props\":{\"className\":\"interact-widget\"},\"nodeType\":\"DOM\",\"type\":\"node\",\"instanceArgs\":{\"namespace\":\"html\",\"tag\":\"div\"},\"children\":[{\"props\":{},\"nodeType\":\"Scope\",\"type\":\"node\",\"instanceArgs\":{\"imports\":{\"data\":[{\"name\":null,\"type\":\"js\",\"url\":\"\\/assetserver\\/dd22ed1bf1896c2748f3fe616ce0b838adc895c1-katex.min.js\"},{\"name\":null,\"type\":\"css\",\"url\":\"\\/assetserver\\/46517a424aa5e6cffc1360d7e0848b601c584ee3-katex.min.css\"}],\"type\":\"async_block\"},\"id\":\"8865826607729124342\",\"handlers\":{\"value\":[\"(function (txt){return this.k.render(txt,this.container)})\"]},\"systemjs_options\":null,\"mount_callbacks\":[\"function () {\\n    var handler = ((function (k){this.k=k; this.container=this.dom.querySelector(\\\"#container\\\"); return k.render(\\\"\\\\\\\\;\\\\\\\\;\\\",this.container)}));\\n    (WebIO.importBlock({\\\"data\\\":[{\\\"name\\\":null,\\\"type\\\":\\\"js\\\",\\\"url\\\":\\\"\\/assetserver\\/dd22ed1bf1896c2748f3fe616ce0b838adc895c1-katex.min.js\\\"},{\\\"name\\\":null,\\\"type\\\":\\\"css\\\",\\\"url\\\":\\\"\\/assetserver\\/46517a424aa5e6cffc1360d7e0848b601c584ee3-katex.min.css\\\"}],\\\"type\\\":\\\"async_block\\\"})).then((imports) => handler.apply(this, imports));\\n}\\n\"],\"observables\":{\"value\":{\"sync\":false,\"id\":\"16950495291552590361\",\"value\":\"\\\\;\\\\;\"}}},\"children\":[{\"props\":{\"id\":\"container\"},\"nodeType\":\"DOM\",\"type\":\"node\",\"instanceArgs\":{\"namespace\":\"html\",\"tag\":\"div\"},\"children\":[]}]}]},{\"props\":{\"className\":\"field interact-widget\"},\"nodeType\":\"DOM\",\"type\":\"node\",\"instanceArgs\":{\"namespace\":\"html\",\"tag\":\"div\"},\"children\":[{\"props\":{},\"nodeType\":\"Scope\",\"type\":\"node\",\"instanceArgs\":{\"imports\":{\"data\":[{\"name\":\"knockout\",\"type\":\"js\",\"url\":\"\\/assetserver\\/727383f2a47bd31570b7da84eee7b022dd6d7c78-knockout.js\"},{\"name\":\"knockout_punches\",\"type\":\"js\",\"url\":\"\\/assetserver\\/382b41b3b1bd9f26f75861d360bad7f8beea211f-knockout_punches.js\"},{\"name\":null,\"type\":\"js\",\"url\":\"\\/assetserver\\/5ab20f1060420992a9b82a65b735dee4d81ef413-all.js\"},{\"name\":null,\"type\":\"css\",\"url\":\"\\/assetserver\\/1cc0ed62837210b80a182cc3676512f895dab686-style.css\"},{\"name\":null,\"type\":\"css\",\"url\":\"\\/assetserver\\/2eee816f616df3549d7044d45e744fbf8d42bfa1-bulma_confined.min.css\"}],\"type\":\"async_block\"},\"id\":\"15482633208790095159\",\"handlers\":{\"loading\":[\"(function (val){return (val!=this.model[\\\"loading\\\"]()) ? (this.valueFromJulia[\\\"loading\\\"]=true, this.model[\\\"loading\\\"](val)) : undefined})\"],\"clicks\":[\"(function (val){return (val!=this.model[\\\"clicks\\\"]()) ? (this.valueFromJulia[\\\"clicks\\\"]=true, this.model[\\\"clicks\\\"](val)) : undefined})\"]},\"systemjs_options\":null,\"mount_callbacks\":[\"function () {\\n    var handler = (function (ko, koPunches) {\\n    ko.punches.enableAll();\\n    ko.bindingHandlers.numericValue = {\\n        init: function(element, valueAccessor, allBindings, data, context) {\\n            var stringified = ko.observable(ko.unwrap(valueAccessor()));\\n            stringified.subscribe(function(value) {\\n                var val = parseFloat(value);\\n                if (!isNaN(val)) {\\n                    valueAccessor()(val);\\n                }\\n            });\\n            valueAccessor().subscribe(function(value) {\\n                var str = JSON.stringify(value);\\n                if ((str == \\\"0\\\") && ([\\\"-0\\\", \\\"-0.\\\"].indexOf(stringified()) >= 0))\\n                     return;\\n                 if ([\\\"null\\\", \\\"\\\"].indexOf(str) >= 0)\\n                     return;\\n                stringified(str);\\n            });\\n            ko.applyBindingsToNode(\\n                element,\\n                {\\n                    value: stringified,\\n                    valueUpdate: allBindings.get('valueUpdate'),\\n                },\\n                context,\\n            );\\n        }\\n    };\\n    var json_data = {\\\"loading\\\":WebIO.getval({\\\"name\\\":\\\"loading\\\",\\\"scope\\\":\\\"15482633208790095159\\\",\\\"id\\\":\\\"4476095918578341998\\\",\\\"type\\\":\\\"observable\\\"}),\\\"clicks\\\":WebIO.getval({\\\"name\\\":\\\"clicks\\\",\\\"scope\\\":\\\"15482633208790095159\\\",\\\"id\\\":\\\"14414349194028276827\\\",\\\"type\\\":\\\"observable\\\"})};\\n    var self = this;\\n    function AppViewModel() {\\n        for (var key in json_data) {\\n            var el = json_data[key];\\n            this[key] = Array.isArray(el) ? ko.observableArray(el) : ko.observable(el);\\n        }\\n        \\n        \\n        [this[\\\"loading\\\"].subscribe((function (val){!(this.valueFromJulia[\\\"loading\\\"]) ? (WebIO.setval({\\\"name\\\":\\\"loading\\\",\\\"scope\\\":\\\"15482633208790095159\\\",\\\"id\\\":\\\"4476095918578341998\\\",\\\"type\\\":\\\"observable\\\"},val)) : undefined; return this.valueFromJulia[\\\"loading\\\"]=false}),self),this[\\\"clicks\\\"].subscribe((function (val){!(this.valueFromJulia[\\\"clicks\\\"]) ? (WebIO.setval({\\\"name\\\":\\\"clicks\\\",\\\"scope\\\":\\\"15482633208790095159\\\",\\\"id\\\":\\\"14414349194028276827\\\",\\\"type\\\":\\\"observable\\\"},val)) : undefined; return this.valueFromJulia[\\\"clicks\\\"]=false}),self)]\\n        \\n    }\\n    self.model = new AppViewModel();\\n    self.valueFromJulia = {};\\n    for (var key in json_data) {\\n        self.valueFromJulia[key] = false;\\n    }\\n    ko.applyBindings(self.model, self.dom);\\n}\\n);\\n    (WebIO.importBlock({\\\"data\\\":[{\\\"name\\\":\\\"knockout\\\",\\\"type\\\":\\\"js\\\",\\\"url\\\":\\\"\\/assetserver\\/727383f2a47bd31570b7da84eee7b022dd6d7c78-knockout.js\\\"},{\\\"name\\\":\\\"knockout_punches\\\",\\\"type\\\":\\\"js\\\",\\\"url\\\":\\\"\\/assetserver\\/382b41b3b1bd9f26f75861d360bad7f8beea211f-knockout_punches.js\\\"}],\\\"type\\\":\\\"async_block\\\"})).then((imports) => handler.apply(this, imports));\\n}\\n\"],\"observables\":{\"loading\":{\"sync\":false,\"id\":\"4476095918578341998\",\"value\":false},\"clicks\":{\"sync\":true,\"id\":\"14414349194028276827\",\"value\":0}}},\"children\":[{\"props\":{\"attributes\":{\"data-bind\":\"click: function (){this.clicks(this.clicks()+1)}, css: {'is-loading' : loading}\"},\"className\":\"is-medium button is-primary\",\"style\":{}},\"nodeType\":\"DOM\",\"type\":\"node\",\"instanceArgs\":{\"namespace\":\"html\",\"tag\":\"button\"},\"children\":[\"run\"]}]}]},{\"props\":{\"className\":\"interact-widget\"},\"nodeType\":\"DOM\",\"type\":\"node\",\"instanceArgs\":{\"namespace\":\"html\",\"tag\":\"div\"},\"children\":[{\"props\":{},\"nodeType\":\"Scope\",\"type\":\"node\",\"instanceArgs\":{\"imports\":{\"data\":[{\"name\":null,\"type\":\"js\",\"url\":\"\\/assetserver\\/dd22ed1bf1896c2748f3fe616ce0b838adc895c1-katex.min.js\"},{\"name\":null,\"type\":\"css\",\"url\":\"\\/assetserver\\/46517a424aa5e6cffc1360d7e0848b601c584ee3-katex.min.css\"}],\"type\":\"async_block\"},\"id\":\"8865826607729124342\",\"handlers\":{\"value\":[\"(function (txt){return this.k.render(txt,this.container)})\"]},\"systemjs_options\":null,\"mount_callbacks\":[\"function () {\\n    var handler = ((function (k){this.k=k; this.container=this.dom.querySelector(\\\"#container\\\"); return k.render(\\\"\\\\\\\\;\\\\\\\\;\\\",this.container)}));\\n    (WebIO.importBlock({\\\"data\\\":[{\\\"name\\\":null,\\\"type\\\":\\\"js\\\",\\\"url\\\":\\\"\\/assetserver\\/dd22ed1bf1896c2748f3fe616ce0b838adc895c1-katex.min.js\\\"},{\\\"name\\\":null,\\\"type\\\":\\\"css\\\",\\\"url\\\":\\\"\\/assetserver\\/46517a424aa5e6cffc1360d7e0848b601c584ee3-katex.min.css\\\"}],\\\"type\\\":\\\"async_block\\\"})).then((imports) => handler.apply(this, imports));\\n}\\n\"],\"observables\":{\"value\":{\"sync\":false,\"id\":\"16950495291552590361\",\"value\":\"\\\\;\\\\;\"}}},\"children\":[{\"props\":{\"id\":\"container\"},\"nodeType\":\"DOM\",\"type\":\"node\",\"instanceArgs\":{\"namespace\":\"html\",\"tag\":\"div\"},\"children\":[]}]}]},{\"props\":{\"className\":\"field interact-widget\"},\"nodeType\":\"DOM\",\"type\":\"node\",\"instanceArgs\":{\"namespace\":\"html\",\"tag\":\"div\"},\"children\":[{\"props\":{},\"nodeType\":\"Scope\",\"type\":\"node\",\"instanceArgs\":{\"imports\":{\"data\":[{\"name\":\"knockout\",\"type\":\"js\",\"url\":\"\\/assetserver\\/727383f2a47bd31570b7da84eee7b022dd6d7c78-knockout.js\"},{\"name\":\"knockout_punches\",\"type\":\"js\",\"url\":\"\\/assetserver\\/382b41b3b1bd9f26f75861d360bad7f8beea211f-knockout_punches.js\"},{\"name\":null,\"type\":\"js\",\"url\":\"\\/assetserver\\/5ab20f1060420992a9b82a65b735dee4d81ef413-all.js\"},{\"name\":null,\"type\":\"css\",\"url\":\"\\/assetserver\\/1cc0ed62837210b80a182cc3676512f895dab686-style.css\"},{\"name\":null,\"type\":\"css\",\"url\":\"\\/assetserver\\/2eee816f616df3549d7044d45e744fbf8d42bfa1-bulma_confined.min.css\"}],\"type\":\"async_block\"},\"id\":\"16833514156736721100\",\"handlers\":{\"loading\":[\"(function (val){return (val!=this.model[\\\"loading\\\"]()) ? (this.valueFromJulia[\\\"loading\\\"]=true, this.model[\\\"loading\\\"](val)) : undefined})\"],\"clicks\":[\"(function (val){return (val!=this.model[\\\"clicks\\\"]()) ? (this.valueFromJulia[\\\"clicks\\\"]=true, this.model[\\\"clicks\\\"](val)) : undefined})\"]},\"systemjs_options\":null,\"mount_callbacks\":[\"function () {\\n    var handler = (function (ko, koPunches) {\\n    ko.punches.enableAll();\\n    ko.bindingHandlers.numericValue = {\\n        init: function(element, valueAccessor, allBindings, data, context) {\\n            var stringified = ko.observable(ko.unwrap(valueAccessor()));\\n            stringified.subscribe(function(value) {\\n                var val = parseFloat(value);\\n                if (!isNaN(val)) {\\n                    valueAccessor()(val);\\n                }\\n            });\\n            valueAccessor().subscribe(function(value) {\\n                var str = JSON.stringify(value);\\n                if ((str == \\\"0\\\") && ([\\\"-0\\\", \\\"-0.\\\"].indexOf(stringified()) >= 0))\\n                     return;\\n                 if ([\\\"null\\\", \\\"\\\"].indexOf(str) >= 0)\\n                     return;\\n                stringified(str);\\n            });\\n            ko.applyBindingsToNode(\\n                element,\\n                {\\n                    value: stringified,\\n                    valueUpdate: allBindings.get('valueUpdate'),\\n                },\\n                context,\\n            );\\n        }\\n    };\\n    var json_data = {\\\"loading\\\":WebIO.getval({\\\"name\\\":\\\"loading\\\",\\\"scope\\\":\\\"16833514156736721100\\\",\\\"id\\\":\\\"1071929961530022229\\\",\\\"type\\\":\\\"observable\\\"}),\\\"clicks\\\":WebIO.getval({\\\"name\\\":\\\"clicks\\\",\\\"scope\\\":\\\"16833514156736721100\\\",\\\"id\\\":\\\"9939887662771774750\\\",\\\"type\\\":\\\"observable\\\"})};\\n    var self = this;\\n    function AppViewModel() {\\n        for (var key in json_data) {\\n            var el = json_data[key];\\n            this[key] = Array.isArray(el) ? ko.observableArray(el) : ko.observable(el);\\n        }\\n        \\n        \\n        [this[\\\"loading\\\"].subscribe((function (val){!(this.valueFromJulia[\\\"loading\\\"]) ? (WebIO.setval({\\\"name\\\":\\\"loading\\\",\\\"scope\\\":\\\"16833514156736721100\\\",\\\"id\\\":\\\"1071929961530022229\\\",\\\"type\\\":\\\"observable\\\"},val)) : undefined; return this.valueFromJulia[\\\"loading\\\"]=false}),self),this[\\\"clicks\\\"].subscribe((function (val){!(this.valueFromJulia[\\\"clicks\\\"]) ? (WebIO.setval({\\\"name\\\":\\\"clicks\\\",\\\"scope\\\":\\\"16833514156736721100\\\",\\\"id\\\":\\\"9939887662771774750\\\",\\\"type\\\":\\\"observable\\\"},val)) : undefined; return this.valueFromJulia[\\\"clicks\\\"]=false}),self)]\\n        \\n    }\\n    self.model = new AppViewModel();\\n    self.valueFromJulia = {};\\n    for (var key in json_data) {\\n        self.valueFromJulia[key] = false;\\n    }\\n    ko.applyBindings(self.model, self.dom);\\n}\\n);\\n    (WebIO.importBlock({\\\"data\\\":[{\\\"name\\\":\\\"knockout\\\",\\\"type\\\":\\\"js\\\",\\\"url\\\":\\\"\\/assetserver\\/727383f2a47bd31570b7da84eee7b022dd6d7c78-knockout.js\\\"},{\\\"name\\\":\\\"knockout_punches\\\",\\\"type\\\":\\\"js\\\",\\\"url\\\":\\\"\\/assetserver\\/382b41b3b1bd9f26f75861d360bad7f8beea211f-knockout_punches.js\\\"}],\\\"type\\\":\\\"async_block\\\"})).then((imports) => handler.apply(this, imports));\\n}\\n\"],\"observables\":{\"loading\":{\"sync\":false,\"id\":\"1071929961530022229\",\"value\":false},\"clicks\":{\"sync\":true,\"id\":\"9939887662771774750\",\"value\":0}}},\"children\":[{\"props\":{\"attributes\":{\"data-bind\":\"click: function (){this.clicks(this.clicks()+1)}, css: {'is-loading' : loading}\"},\"className\":\"is-medium button is-primary\",\"style\":{}},\"nodeType\":\"DOM\",\"type\":\"node\",\"instanceArgs\":{\"namespace\":\"html\",\"tag\":\"button\"},\"children\":[\"stop\"]}]}]}]}]},{\"props\":{},\"nodeType\":\"Scope\",\"type\":\"node\",\"instanceArgs\":{\"imports\":{\"data\":[],\"type\":\"async_block\"},\"id\":\"1315440645935967385\",\"handlers\":{\"obs-output\":[\"function (value, scope) {\\n    scope.setInnerHTML(value);\\n}\\n\"]},\"systemjs_options\":null,\"mount_callbacks\":[],\"observables\":{\"obs-output\":{\"sync\":false,\"id\":\"8228879876746169145\",\"value\":\"    <div style=\\\"height: 500px; width: 100%; overflow-x: auto; overflow-y: hidden; resize: both\\\">\\n    <iframe src=\\\"http:\\/\\/127.0.0.1:8720\\\" style=\\\"width: 100%; height: 100%; border: none\\\"><\\/iframe>\\n    <\\/div>\\n\"}}},\"children\":[{\"props\":{\"className\":\"webio-observable\",\"setInnerHtml\":\"    <div style=\\\"height: 500px; width: 100%; overflow-x: auto; overflow-y: hidden; resize: both\\\">\\n    <iframe src=\\\"http:\\/\\/127.0.0.1:8720\\\" style=\\\"width: 100%; height: 100%; border: none\\\"><\\/iframe>\\n    <\\/div>\\n\"},\"nodeType\":\"DOM\",\"type\":\"node\",\"instanceArgs\":{\"namespace\":\"html\",\"tag\":\"div\"},\"children\":[]}]},{\"props\":{\"className\":\"interact-widget\"},\"nodeType\":\"DOM\",\"type\":\"node\",\"instanceArgs\":{\"namespace\":\"html\",\"tag\":\"div\"},\"children\":[{\"props\":{},\"nodeType\":\"Scope\",\"type\":\"node\",\"instanceArgs\":{\"imports\":{\"data\":[{\"name\":null,\"type\":\"js\",\"url\":\"\\/assetserver\\/dd22ed1bf1896c2748f3fe616ce0b838adc895c1-katex.min.js\"},{\"name\":null,\"type\":\"css\",\"url\":\"\\/assetserver\\/46517a424aa5e6cffc1360d7e0848b601c584ee3-katex.min.css\"}],\"type\":\"async_block\"},\"id\":\"8865826607729124342\",\"handlers\":{\"value\":[\"(function (txt){return this.k.render(txt,this.container)})\"]},\"systemjs_options\":null,\"mount_callbacks\":[\"function () {\\n    var handler = ((function (k){this.k=k; this.container=this.dom.querySelector(\\\"#container\\\"); return k.render(\\\"\\\\\\\\;\\\\\\\\;\\\",this.container)}));\\n    (WebIO.importBlock({\\\"data\\\":[{\\\"name\\\":null,\\\"type\\\":\\\"js\\\",\\\"url\\\":\\\"\\/assetserver\\/dd22ed1bf1896c2748f3fe616ce0b838adc895c1-katex.min.js\\\"},{\\\"name\\\":null,\\\"type\\\":\\\"css\\\",\\\"url\\\":\\\"\\/assetserver\\/46517a424aa5e6cffc1360d7e0848b601c584ee3-katex.min.css\\\"}],\\\"type\\\":\\\"async_block\\\"})).then((imports) => handler.apply(this, imports));\\n}\\n\"],\"observables\":{\"value\":{\"sync\":false,\"id\":\"16950495291552590361\",\"value\":\"\\\\;\\\\;\"}}},\"children\":[{\"props\":{\"id\":\"container\"},\"nodeType\":\"DOM\",\"type\":\"node\",\"instanceArgs\":{\"namespace\":\"html\",\"tag\":\"div\"},\"children\":[]}]}]},{\"props\":{\"style\":{\"display\":\"flex\",\"flex-direction\":\"column\"}},\"nodeType\":\"DOM\",\"type\":\"node\",\"instanceArgs\":{\"namespace\":\"html\",\"tag\":\"div\"},\"children\":[{\"props\":{},\"nodeType\":\"Scope\",\"type\":\"node\",\"instanceArgs\":{\"imports\":{\"data\":[],\"type\":\"async_block\"},\"id\":\"15612913851389205876\",\"handlers\":{\"obs-output\":[\"function (value, scope) {\\n    scope.setInnerHTML(value);\\n}\\n\"]},\"systemjs_options\":null,\"mount_callbacks\":[],\"observables\":{\"obs-output\":{\"sync\":false,\"id\":\"6998851190881395932\",\"value\":\"<?xml version=\\\"1.0\\\" encoding=\\\"utf-8\\\"?>\\n<svg xmlns=\\\"http:\\/\\/www.w3.org\\/2000\\/svg\\\" xmlns:xlink=\\\"http:\\/\\/www.w3.org\\/1999\\/xlink\\\" width=\\\"300\\\" height=\\\"150\\\" viewBox=\\\"0 0 1200 600\\\">\\n<defs>\\n  <clipPath id=\\\"clip310\\\">\\n    <rect x=\\\"0\\\" y=\\\"0\\\" width=\\\"1200\\\" height=\\\"600\\\"\\/>\\n  <\\/clipPath>\\n<\\/defs>\\n<path clip-path=\\\"url(#clip310)\\\" d=\\\"M0 600 L1200 600 L1200 0 L0 0  Z\\\" fill=\\\"#ffffff\\\" fill-rule=\\\"evenodd\\\" fill-opacity=\\\"1\\\"\\/>\\n<defs>\\n  <clipPath id=\\\"clip311\\\">\\n    <rect x=\\\"240\\\" y=\\\"0\\\" width=\\\"841\\\" height=\\\"600\\\"\\/>\\n  <\\/clipPath>\\n<\\/defs>\\n<path clip-path=\\\"url(#clip310)\\\" d=\\\"M144.598 453.7 L876.715 453.7 L876.715 47.2441 L144.598 47.2441  Z\\\" fill=\\\"#ffffff\\\" fill-rule=\\\"evenodd\\\" fill-opacity=\\\"1\\\"\\/>\\n<defs>\\n  <clipPath id=\\\"clip312\\\">\\n    <rect x=\\\"144\\\" y=\\\"47\\\" width=\\\"733\\\" height=\\\"407\\\"\\/>\\n  <\\/clipPath>\\n<\\/defs>\\n<polyline clip-path=\\\"url(#clip312)\\\" style=\\\"stroke:#000000; stroke-linecap:round; stroke-linejoin:round; stroke-width:2; stroke-opacity:0.1; fill:none\\\" points=\\\"242.06,453.7 242.06,47.2441 \\\"\\/>\\n<polyline clip-path=\\\"url(#clip312)\\\" style=\\\"stroke:#000000; stroke-linecap:round; stroke-linejoin:round; stroke-width:2; stroke-opacity:0.1; fill:none\\\" points=\\\"395.544,453.7 395.544,47.2441 \\\"\\/>\\n<polyline clip-path=\\\"url(#clip312)\\\" style=\\\"stroke:#000000; stroke-linecap:round; stroke-linejoin:round; stroke-width:2; stroke-opacity:0.1; fill:none\\\" points=\\\"549.028,453.7 549.028,47.2441 \\\"\\/>\\n<polyline clip-path=\\\"url(#clip312)\\\" style=\\\"stroke:#000000; stroke-linecap:round; stroke-linejoin:round; stroke-width:2; stroke-opacity:0.1; fill:none\\\" points=\\\"702.511,453.7 702.511,47.2441 \\\"\\/>\\n<polyline clip-path=\\\"url(#clip312)\\\" style=\\\"stroke:#000000; stroke-linecap:round; stroke-linejoin:round; stroke-width:2; stroke-opacity:0.1; fill:none\\\" points=\\\"855.995,453.7 855.995,47.2441 \\\"\\/>\\n<polyline clip-path=\\\"url(#clip310)\\\" style=\\\"stroke:#000000; stroke-linecap:round; stroke-linejoin:round; stroke-width:4; stroke-opacity:1; fill:none\\\" points=\\\"144.598,453.7 876.715,453.7 \\\"\\/>\\n<polyline clip-path=\\\"url(#clip310)\\\" style=\\\"stroke:#000000; stroke-linecap:round; stroke-linejoin:round; stroke-width:4; stroke-opacity:1; fill:none\\\" points=\\\"242.06,453.7 242.06,434.802 \\\"\\/>\\n<polyline clip-path=\\\"url(#clip310)\\\" style=\\\"stroke:#000000; stroke-linecap:round; stroke-linejoin:round; stroke-width:4; stroke-opacity:1; fill:none\\\" points=\\\"395.544,453.7 395.544,434.802 \\\"\\/>\\n<polyline clip-path=\\\"url(#clip310)\\\" style=\\\"stroke:#000000; stroke-linecap:round; stroke-linejoin:round; stroke-width:4; stroke-opacity:1; fill:none\\\" points=\\\"549.028,453.7 549.028,434.802 \\\"\\/>\\n<polyline clip-path=\\\"url(#clip310)\\\" style=\\\"stroke:#000000; stroke-linecap:round; stroke-linejoin:round; stroke-width:4; stroke-opacity:1; fill:none\\\" points=\\\"702.511,453.7 702.511,434.802 \\\"\\/>\\n<polyline clip-path=\\\"url(#clip310)\\\" style=\\\"stroke:#000000; stroke-linecap:round; stroke-linejoin:round; stroke-width:4; stroke-opacity:1; fill:none\\\" points=\\\"855.995,453.7 855.995,434.802 \\\"\\/>\\n<path clip-path=\\\"url(#clip310)\\\" d=\\\"M236.713 502.565 L253.033 502.565 L253.033 506.5 L231.088 506.5 L231.088 502.565 Q233.75 499.81 238.334 495.18 Q242.94 490.528 244.121 489.185 Q246.366 486.662 247.246 484.926 Q248.148 483.167 248.148 481.477 Q248.148 478.722 246.204 476.986 Q244.283 475.25 241.181 475.25 Q238.982 475.25 236.528 476.014 Q234.097 476.778 231.32 478.329 L231.32 473.607 Q234.144 472.472 236.597 471.894 Q239.051 471.315 241.088 471.315 Q246.458 471.315 249.653 474 Q252.847 476.685 252.847 481.176 Q252.847 483.306 252.037 485.227 Q251.25 487.125 249.144 489.718 Q248.565 490.389 245.463 493.606 Q242.361 496.801 236.713 502.565 Z\\\" fill=\\\"#000000\\\" fill-rule=\\\"nonzero\\\" fill-opacity=\\\"1\\\" \\/><path clip-path=\\\"url(#clip310)\\\" d=\\\"M398.553 476.014 L386.748 494.463 L398.553 494.463 L398.553 476.014 M397.326 471.94 L403.206 471.94 L403.206 494.463 L408.137 494.463 L408.137 498.352 L403.206 498.352 L403.206 506.5 L398.553 506.5 L398.553 498.352 L382.951 498.352 L382.951 493.838 L397.326 471.94 Z\\\" fill=\\\"#000000\\\" fill-rule=\\\"nonzero\\\" fill-opacity=\\\"1\\\" \\/><path clip-path=\\\"url(#clip310)\\\" d=\\\"M549.433 487.356 Q546.285 487.356 544.433 489.509 Q542.604 491.662 542.604 495.412 Q542.604 499.139 544.433 501.315 Q546.285 503.467 549.433 503.467 Q552.581 503.467 554.41 501.315 Q556.261 499.139 556.261 495.412 Q556.261 491.662 554.41 489.509 Q552.581 487.356 549.433 487.356 M558.715 472.704 L558.715 476.963 Q556.956 476.13 555.15 475.69 Q553.368 475.25 551.609 475.25 Q546.979 475.25 544.525 478.375 Q542.095 481.5 541.748 487.819 Q543.113 485.806 545.174 484.741 Q547.234 483.653 549.711 483.653 Q554.919 483.653 557.928 486.824 Q560.96 489.972 560.96 495.412 Q560.96 500.736 557.812 503.954 Q554.664 507.171 549.433 507.171 Q543.437 507.171 540.266 502.588 Q537.095 497.981 537.095 489.255 Q537.095 481.06 540.984 476.199 Q544.873 471.315 551.423 471.315 Q553.183 471.315 554.965 471.662 Q556.771 472.009 558.715 472.704 Z\\\" fill=\\\"#000000\\\" fill-rule=\\\"nonzero\\\" fill-opacity=\\\"1\\\" \\/><path clip-path=\\\"url(#clip310)\\\" d=\\\"M702.511 490.088 Q699.178 490.088 697.257 491.87 Q695.359 493.653 695.359 496.778 Q695.359 499.903 697.257 501.685 Q699.178 503.467 702.511 503.467 Q705.845 503.467 707.766 501.685 Q709.687 499.88 709.687 496.778 Q709.687 493.653 707.766 491.87 Q705.868 490.088 702.511 490.088 M697.835 488.097 Q694.826 487.356 693.136 485.296 Q691.47 483.236 691.47 480.273 Q691.47 476.13 694.41 473.722 Q697.372 471.315 702.511 471.315 Q707.673 471.315 710.613 473.722 Q713.553 476.13 713.553 480.273 Q713.553 483.236 711.863 485.296 Q710.196 487.356 707.21 488.097 Q710.59 488.884 712.465 491.176 Q714.363 493.468 714.363 496.778 Q714.363 501.801 711.284 504.486 Q708.229 507.171 702.511 507.171 Q696.794 507.171 693.715 504.486 Q690.66 501.801 690.66 496.778 Q690.66 493.468 692.558 491.176 Q694.456 488.884 697.835 488.097 M696.122 480.713 Q696.122 483.398 697.789 484.903 Q699.479 486.407 702.511 486.407 Q705.521 486.407 707.21 484.903 Q708.923 483.398 708.923 480.713 Q708.923 478.028 707.21 476.523 Q705.521 475.019 702.511 475.019 Q699.479 475.019 697.789 476.523 Q696.122 478.028 696.122 480.713 Z\\\" fill=\\\"#000000\\\" fill-rule=\\\"nonzero\\\" fill-opacity=\\\"1\\\" \\/><path clip-path=\\\"url(#clip310)\\\" d=\\\"M830.683 502.565 L838.321 502.565 L838.321 476.199 L830.011 477.866 L830.011 473.607 L838.275 471.94 L842.951 471.94 L842.951 502.565 L850.59 502.565 L850.59 506.5 L830.683 506.5 L830.683 502.565 Z\\\" fill=\\\"#000000\\\" fill-rule=\\\"nonzero\\\" fill-opacity=\\\"1\\\" \\/><path clip-path=\\\"url(#clip310)\\\" d=\\\"M870.034 475.019 Q866.423 475.019 864.594 478.583 Q862.789 482.125 862.789 489.255 Q862.789 496.361 864.594 499.926 Q866.423 503.467 870.034 503.467 Q873.668 503.467 875.474 499.926 Q877.303 496.361 877.303 489.255 Q877.303 482.125 875.474 478.583 Q873.668 475.019 870.034 475.019 M870.034 471.315 Q875.844 471.315 878.9 475.921 Q881.979 480.505 881.979 489.255 Q881.979 497.981 878.9 502.588 Q875.844 507.171 870.034 507.171 Q864.224 507.171 861.145 502.588 Q858.09 497.981 858.09 489.255 Q858.09 480.505 861.145 475.921 Q864.224 471.315 870.034 471.315 Z\\\" fill=\\\"#000000\\\" fill-rule=\\\"nonzero\\\" fill-opacity=\\\"1\\\" \\/><path clip-path=\\\"url(#clip310)\\\" d=\\\"M447.7 534.794 L447.7 544.916 L459.763 544.916 L459.763 549.467 L447.7 549.467 L447.7 568.819 Q447.7 573.18 448.878 574.421 Q450.087 575.662 453.747 575.662 L459.763 575.662 L459.763 580.564 L453.747 580.564 Q446.968 580.564 444.39 578.049 Q441.812 575.503 441.812 568.819 L441.812 549.467 L437.515 549.467 L437.515 544.916 L441.812 544.916 L441.812 534.794 L447.7 534.794 Z\\\" fill=\\\"#000000\\\" fill-rule=\\\"nonzero\\\" fill-opacity=\\\"1\\\" \\/><path clip-path=\\\"url(#clip310)\\\" d=\\\"M467.465 544.916 L473.322 544.916 L473.322 580.564 L467.465 580.564 L467.465 544.916 M467.465 531.039 L473.322 531.039 L473.322 538.455 L467.465 538.455 L467.465 531.039 Z\\\" fill=\\\"#000000\\\" fill-rule=\\\"nonzero\\\" fill-opacity=\\\"1\\\" \\/><path clip-path=\\\"url(#clip310)\\\" d=\\\"M511.23 546.285 L511.23 551.759 Q508.747 550.39 506.233 549.722 Q503.75 549.022 501.204 549.022 Q495.506 549.022 492.355 552.65 Q489.204 556.247 489.204 562.772 Q489.204 569.297 492.355 572.925 Q495.506 576.522 501.204 576.522 Q503.75 576.522 506.233 575.853 Q508.747 575.153 511.23 573.784 L511.23 579.195 Q508.779 580.341 506.137 580.914 Q503.527 581.487 500.567 581.487 Q492.514 581.487 487.772 576.426 Q483.03 571.365 483.03 562.772 Q483.03 554.051 487.804 549.054 Q492.61 544.057 500.949 544.057 Q503.654 544.057 506.233 544.629 Q508.811 545.171 511.23 546.285 Z\\\" fill=\\\"#000000\\\" fill-rule=\\\"nonzero\\\" fill-opacity=\\\"1\\\" \\/><path clip-path=\\\"url(#clip310)\\\" d=\\\"M521.192 531.039 L527.08 531.039 L527.08 560.289 L544.554 544.916 L552.034 544.916 L533.128 561.594 L552.83 580.564 L545.191 580.564 L527.08 563.154 L527.08 580.564 L521.192 580.564 L521.192 531.039 Z\\\" fill=\\\"#000000\\\" fill-rule=\\\"nonzero\\\" fill-opacity=\\\"1\\\" \\/><path clip-path=\\\"url(#clip310)\\\" d=\\\"M581.889 545.966 L581.889 551.504 Q579.406 550.231 576.733 549.595 Q574.059 548.958 571.195 548.958 Q566.834 548.958 564.638 550.295 Q562.474 551.632 562.474 554.305 Q562.474 556.342 564.033 557.52 Q565.593 558.666 570.303 559.716 L572.309 560.162 Q578.547 561.499 581.157 563.949 Q583.799 566.368 583.799 570.729 Q583.799 575.694 579.852 578.59 Q575.937 581.487 569.062 581.487 Q566.198 581.487 563.078 580.914 Q559.991 580.373 556.553 579.259 L556.553 573.211 Q559.8 574.898 562.951 575.758 Q566.102 576.585 569.189 576.585 Q573.327 576.585 575.555 575.185 Q577.783 573.753 577.783 571.174 Q577.783 568.787 576.16 567.514 Q574.568 566.241 569.126 565.063 L567.089 564.586 Q561.646 563.44 559.227 561.085 Q556.808 558.698 556.808 554.56 Q556.808 549.531 560.373 546.794 Q563.938 544.057 570.494 544.057 Q573.741 544.057 576.605 544.534 Q579.47 545.011 581.889 545.966 Z\\\" fill=\\\"#000000\\\" fill-rule=\\\"nonzero\\\" fill-opacity=\\\"1\\\" \\/><polyline clip-path=\\\"url(#clip312)\\\" style=\\\"stroke:#000000; stroke-linecap:round; stroke-linejoin:round; stroke-width:2; stroke-opacity:0.1; fill:none\\\" points=\\\"144.598,442.196 876.715,442.196 \\\"\\/>\\n<polyline clip-path=\\\"url(#clip312)\\\" style=\\\"stroke:#000000; stroke-linecap:round; stroke-linejoin:round; stroke-width:2; stroke-opacity:0.1; fill:none\\\" points=\\\"144.598,344.724 876.715,344.724 \\\"\\/>\\n<polyline clip-path=\\\"url(#clip312)\\\" style=\\\"stroke:#000000; stroke-linecap:round; stroke-linejoin:round; stroke-width:2; stroke-opacity:0.1; fill:none\\\" points=\\\"144.598,247.251 876.715,247.251 \\\"\\/>\\n<polyline clip-path=\\\"url(#clip312)\\\" style=\\\"stroke:#000000; stroke-linecap:round; stroke-linejoin:round; stroke-width:2; stroke-opacity:0.1; fill:none\\\" points=\\\"144.598,149.778 876.715,149.778 \\\"\\/>\\n<polyline clip-path=\\\"url(#clip312)\\\" style=\\\"stroke:#000000; stroke-linecap:round; stroke-linejoin:round; stroke-width:2; stroke-opacity:0.1; fill:none\\\" points=\\\"144.598,52.3057 876.715,52.3057 \\\"\\/>\\n<polyline clip-path=\\\"url(#clip310)\\\" style=\\\"stroke:#000000; stroke-linecap:round; stroke-linejoin:round; stroke-width:4; stroke-opacity:1; fill:none\\\" points=\\\"144.598,453.7 144.598,47.2441 \\\"\\/>\\n<polyline clip-path=\\\"url(#clip310)\\\" style=\\\"stroke:#000000; stroke-linecap:round; stroke-linejoin:round; stroke-width:4; stroke-opacity:1; fill:none\\\" points=\\\"144.598,442.196 158.322,442.196 \\\"\\/>\\n<polyline clip-path=\\\"url(#clip310)\\\" style=\\\"stroke:#000000; stroke-linecap:round; stroke-linejoin:round; stroke-width:4; stroke-opacity:1; fill:none\\\" points=\\\"144.598,344.724 158.322,344.724 \\\"\\/>\\n<polyline clip-path=\\\"url(#clip310)\\\" style=\\\"stroke:#000000; stroke-linecap:round; stroke-linejoin:round; stroke-width:4; stroke-opacity:1; fill:none\\\" points=\\\"144.598,247.251 158.322,247.251 \\\"\\/>\\n<polyline clip-path=\\\"url(#clip310)\\\" style=\\\"stroke:#000000; stroke-linecap:round; stroke-linejoin:round; stroke-width:4; stroke-opacity:1; fill:none\\\" points=\\\"144.598,149.778 158.322,149.778 \\\"\\/>\\n<polyline clip-path=\\\"url(#clip310)\\\" style=\\\"stroke:#000000; stroke-linecap:round; stroke-linejoin:round; stroke-width:4; stroke-opacity:1; fill:none\\\" points=\\\"144.598,52.3057 158.322,52.3057 \\\"\\/>\\n<path clip-path=\\\"url(#clip310)\\\" d=\\\"M70.0708 427.995 Q66.4597 427.995 64.631 431.56 Q62.8254 435.102 62.8254 442.231 Q62.8254 449.338 64.631 452.902 Q66.4597 456.444 70.0708 456.444 Q73.705 456.444 75.5105 452.902 Q77.3392 449.338 77.3392 442.231 Q77.3392 435.102 75.5105 431.56 Q73.705 427.995 70.0708 427.995 M70.0708 424.291 Q75.8809 424.291 78.9365 428.898 Q82.0151 433.481 82.0151 442.231 Q82.0151 450.958 78.9365 455.564 Q75.8809 460.148 70.0708 460.148 Q64.2606 460.148 61.1819 455.564 Q58.1264 450.958 58.1264 442.231 Q58.1264 433.481 61.1819 428.898 Q64.2606 424.291 70.0708 424.291 Z\\\" fill=\\\"#000000\\\" fill-rule=\\\"nonzero\\\" fill-opacity=\\\"1\\\" \\/><path clip-path=\\\"url(#clip310)\\\" d=\\\"M90.2327 453.597 L95.1169 453.597 L95.1169 459.476 L90.2327 459.476 L90.2327 453.597 Z\\\" fill=\\\"#000000\\\" fill-rule=\\\"nonzero\\\" fill-opacity=\\\"1\\\" \\/><path clip-path=\\\"url(#clip310)\\\" d=\\\"M119.469 440.842 Q122.825 441.56 124.7 443.828 Q126.598 446.097 126.598 449.43 Q126.598 454.546 123.08 457.347 Q119.561 460.148 113.08 460.148 Q110.904 460.148 108.589 459.708 Q106.297 459.291 103.844 458.435 L103.844 453.921 Q105.788 455.055 108.103 455.634 Q110.418 456.213 112.941 456.213 Q117.339 456.213 119.631 454.476 Q121.945 452.74 121.945 449.43 Q121.945 446.375 119.793 444.662 Q117.663 442.926 113.844 442.926 L109.816 442.926 L109.816 439.083 L114.029 439.083 Q117.478 439.083 119.307 437.717 Q121.135 436.328 121.135 433.736 Q121.135 431.074 119.237 429.662 Q117.362 428.227 113.844 428.227 Q111.922 428.227 109.723 428.643 Q107.524 429.06 104.885 429.939 L104.885 425.773 Q107.547 425.032 109.862 424.662 Q112.2 424.291 114.26 424.291 Q119.584 424.291 122.686 426.722 Q125.788 429.129 125.788 433.25 Q125.788 436.12 124.145 438.111 Q122.501 440.078 119.469 440.842 Z\\\" fill=\\\"#000000\\\" fill-rule=\\\"nonzero\\\" fill-opacity=\\\"1\\\" \\/><path clip-path=\\\"url(#clip310)\\\" d=\\\"M68.9365 330.522 Q65.3254 330.522 63.4967 334.087 Q61.6912 337.629 61.6912 344.758 Q61.6912 351.865 63.4967 355.43 Q65.3254 358.971 68.9365 358.971 Q72.5707 358.971 74.3763 355.43 Q76.205 351.865 76.205 344.758 Q76.205 337.629 74.3763 334.087 Q72.5707 330.522 68.9365 330.522 M68.9365 326.819 Q74.7467 326.819 77.8022 331.425 Q80.8809 336.008 80.8809 344.758 Q80.8809 353.485 77.8022 358.092 Q74.7467 362.675 68.9365 362.675 Q63.1264 362.675 60.0477 358.092 Q56.9921 353.485 56.9921 344.758 Q56.9921 336.008 60.0477 331.425 Q63.1264 326.819 68.9365 326.819 Z\\\" fill=\\\"#000000\\\" fill-rule=\\\"nonzero\\\" fill-opacity=\\\"1\\\" \\/><path clip-path=\\\"url(#clip310)\\\" d=\\\"M89.0984 356.124 L93.9827 356.124 L93.9827 362.004 L89.0984 362.004 L89.0984 356.124 Z\\\" fill=\\\"#000000\\\" fill-rule=\\\"nonzero\\\" fill-opacity=\\\"1\\\" \\/><path clip-path=\\\"url(#clip310)\\\" d=\\\"M117.015 331.518 L105.209 349.967 L117.015 349.967 L117.015 331.518 M115.788 327.444 L121.668 327.444 L121.668 349.967 L126.598 349.967 L126.598 353.856 L121.668 353.856 L121.668 362.004 L117.015 362.004 L117.015 353.856 L101.413 353.856 L101.413 349.342 L115.788 327.444 Z\\\" fill=\\\"#000000\\\" fill-rule=\\\"nonzero\\\" fill-opacity=\\\"1\\\" \\/><path clip-path=\\\"url(#clip310)\\\" d=\\\"M70.418 233.05 Q66.8069 233.05 64.9782 236.615 Q63.1726 240.156 63.1726 247.286 Q63.1726 254.392 64.9782 257.957 Q66.8069 261.499 70.418 261.499 Q74.0522 261.499 75.8578 257.957 Q77.6865 254.392 77.6865 247.286 Q77.6865 240.156 75.8578 236.615 Q74.0522 233.05 70.418 233.05 M70.418 229.346 Q76.2281 229.346 79.2837 233.952 Q82.3624 238.536 82.3624 247.286 Q82.3624 256.013 79.2837 260.619 Q76.2281 265.202 70.418 265.202 Q64.6078 265.202 61.5291 260.619 Q58.4736 256.013 58.4736 247.286 Q58.4736 238.536 61.5291 233.952 Q64.6078 229.346 70.418 229.346 Z\\\" fill=\\\"#000000\\\" fill-rule=\\\"nonzero\\\" fill-opacity=\\\"1\\\" \\/><path clip-path=\\\"url(#clip310)\\\" d=\\\"M90.5799 258.651 L95.4641 258.651 L95.4641 264.531 L90.5799 264.531 L90.5799 258.651 Z\\\" fill=\\\"#000000\\\" fill-rule=\\\"nonzero\\\" fill-opacity=\\\"1\\\" \\/><path clip-path=\\\"url(#clip310)\\\" d=\\\"M105.696 229.971 L124.052 229.971 L124.052 233.906 L109.978 233.906 L109.978 242.378 Q110.996 242.031 112.015 241.869 Q113.033 241.684 114.052 241.684 Q119.839 241.684 123.219 244.855 Q126.598 248.026 126.598 253.443 Q126.598 259.022 123.126 262.124 Q119.654 265.202 113.334 265.202 Q111.159 265.202 108.89 264.832 Q106.645 264.462 104.237 263.721 L104.237 259.022 Q106.321 260.156 108.543 260.712 Q110.765 261.267 113.242 261.267 Q117.246 261.267 119.584 259.161 Q121.922 257.054 121.922 253.443 Q121.922 249.832 119.584 247.726 Q117.246 245.619 113.242 245.619 Q111.367 245.619 109.492 246.036 Q107.64 246.452 105.696 247.332 L105.696 229.971 Z\\\" fill=\\\"#000000\\\" fill-rule=\\\"nonzero\\\" fill-opacity=\\\"1\\\" \\/><path clip-path=\\\"url(#clip310)\\\" d=\\\"M69.2606 135.577 Q65.6495 135.577 63.8208 139.142 Q62.0152 142.683 62.0152 149.813 Q62.0152 156.92 63.8208 160.484 Q65.6495 164.026 69.2606 164.026 Q72.8948 164.026 74.7004 160.484 Q76.5291 156.92 76.5291 149.813 Q76.5291 142.683 74.7004 139.142 Q72.8948 135.577 69.2606 135.577 M69.2606 131.873 Q75.0707 131.873 78.1263 136.48 Q81.205 141.063 81.205 149.813 Q81.205 158.54 78.1263 163.146 Q75.0707 167.73 69.2606 167.73 Q63.4504 167.73 60.3717 163.146 Q57.3162 158.54 57.3162 149.813 Q57.3162 141.063 60.3717 136.48 Q63.4504 131.873 69.2606 131.873 Z\\\" fill=\\\"#000000\\\" fill-rule=\\\"nonzero\\\" fill-opacity=\\\"1\\\" \\/><path clip-path=\\\"url(#clip310)\\\" d=\\\"M89.4225 161.179 L94.3067 161.179 L94.3067 167.058 L89.4225 167.058 L89.4225 161.179 Z\\\" fill=\\\"#000000\\\" fill-rule=\\\"nonzero\\\" fill-opacity=\\\"1\\\" \\/><path clip-path=\\\"url(#clip310)\\\" d=\\\"M115.071 147.915 Q111.922 147.915 110.071 150.068 Q108.242 152.22 108.242 155.97 Q108.242 159.697 110.071 161.873 Q111.922 164.026 115.071 164.026 Q118.219 164.026 120.047 161.873 Q121.899 159.697 121.899 155.97 Q121.899 152.22 120.047 150.068 Q118.219 147.915 115.071 147.915 M124.353 133.262 L124.353 137.521 Q122.594 136.688 120.788 136.248 Q119.006 135.809 117.246 135.809 Q112.617 135.809 110.163 138.933 Q107.733 142.058 107.385 148.378 Q108.751 146.364 110.811 145.299 Q112.871 144.211 115.348 144.211 Q120.557 144.211 123.566 147.383 Q126.598 150.531 126.598 155.97 Q126.598 161.294 123.45 164.512 Q120.302 167.73 115.071 167.73 Q109.075 167.73 105.904 163.146 Q102.733 158.54 102.733 149.813 Q102.733 141.619 106.621 136.758 Q110.51 131.873 117.061 131.873 Q118.82 131.873 120.603 132.221 Q122.408 132.568 124.353 133.262 Z\\\" fill=\\\"#000000\\\" fill-rule=\\\"nonzero\\\" fill-opacity=\\\"1\\\" \\/><path clip-path=\\\"url(#clip310)\\\" d=\\\"M70.3254 38.1044 Q66.7143 38.1044 64.8856 41.6692 Q63.0801 45.2108 63.0801 52.3404 Q63.0801 59.4468 64.8856 63.0116 Q66.7143 66.5533 70.3254 66.5533 Q73.9596 66.5533 75.7652 63.0116 Q77.5939 59.4468 77.5939 52.3404 Q77.5939 45.2108 75.7652 41.6692 Q73.9596 38.1044 70.3254 38.1044 M70.3254 34.4007 Q76.1355 34.4007 79.1911 39.0071 Q82.2698 43.5904 82.2698 52.3404 Q82.2698 61.0672 79.1911 65.6737 Q76.1355 70.257 70.3254 70.257 Q64.5152 70.257 61.4365 65.6737 Q58.381 61.0672 58.381 52.3404 Q58.381 43.5904 61.4365 39.0071 Q64.5152 34.4007 70.3254 34.4007 Z\\\" fill=\\\"#000000\\\" fill-rule=\\\"nonzero\\\" fill-opacity=\\\"1\\\" \\/><path clip-path=\\\"url(#clip310)\\\" d=\\\"M90.4873 63.7061 L95.3715 63.7061 L95.3715 69.5857 L90.4873 69.5857 L90.4873 63.7061 Z\\\" fill=\\\"#000000\\\" fill-rule=\\\"nonzero\\\" fill-opacity=\\\"1\\\" \\/><path clip-path=\\\"url(#clip310)\\\" d=\\\"M104.376 35.0257 L126.598 35.0257 L126.598 37.0164 L114.052 69.5857 L109.168 69.5857 L120.973 38.9608 L104.376 38.9608 L104.376 35.0257 Z\\\" fill=\\\"#000000\\\" fill-rule=\\\"nonzero\\\" fill-opacity=\\\"1\\\" \\/><polyline clip-path=\\\"url(#clip312)\\\" style=\\\"stroke:#009af9; stroke-linecap:round; stroke-linejoin:round; stroke-width:4; stroke-opacity:1; fill:none\\\" points=\\\"165.319,442.196 242.06,430.987 318.802,348.079 395.544,240.445 472.286,157.055 549.028,132.27 625.769,107.778 702.511,107.655 779.253,73.539 855.995,58.7476 \\\"\\/>\\n<path clip-path=\\\"url(#clip310)\\\" d=\\\"M910.321 164.473 L1152.76 164.473 L1152.76 60.7926 L910.321 60.7926  Z\\\" fill=\\\"#ffffff\\\" fill-rule=\\\"evenodd\\\" fill-opacity=\\\"1\\\"\\/>\\n<polyline clip-path=\\\"url(#clip310)\\\" style=\\\"stroke:#000000; stroke-linecap:round; stroke-linejoin:round; stroke-width:4; stroke-opacity:1; fill:none\\\" points=\\\"910.321,164.473 1152.76,164.473 1152.76,60.7926 910.321,60.7926 910.321,164.473 \\\"\\/>\\n<polyline clip-path=\\\"url(#clip310)\\\" style=\\\"stroke:#009af9; stroke-linecap:round; stroke-linejoin:round; stroke-width:4; stroke-opacity:1; fill:none\\\" points=\\\"921.522,112.633 988.733,112.633 \\\"\\/>\\n<path clip-path=\\\"url(#clip310)\\\" d=\\\"M1021.65 114.265 L1021.65 129.913 L1017.39 129.913 L1017.39 114.403 Q1017.39 110.723 1015.95 108.894 Q1014.52 107.066 1011.65 107.066 Q1008.2 107.066 1006.21 109.265 Q1004.22 111.464 1004.22 115.26 L1004.22 129.913 L999.935 129.913 L999.935 93.8943 L1004.22 93.8943 L1004.22 108.015 Q1005.74 105.677 1007.8 104.519 Q1009.89 103.362 1012.6 103.362 Q1017.06 103.362 1019.36 106.14 Q1021.65 108.894 1021.65 114.265 Z\\\" fill=\\\"#000000\\\" fill-rule=\\\"nonzero\\\" fill-opacity=\\\"1\\\" \\/><path clip-path=\\\"url(#clip310)\\\" d=\\\"M1041.93 116.88 Q1036.76 116.88 1034.77 118.061 Q1032.78 119.241 1032.78 122.089 Q1032.78 124.357 1034.26 125.7 Q1035.77 127.019 1038.34 127.019 Q1041.88 127.019 1044.01 124.519 Q1046.16 121.996 1046.16 117.829 L1046.16 116.88 L1041.93 116.88 M1050.42 115.121 L1050.42 129.913 L1046.16 129.913 L1046.16 125.977 Q1044.7 128.339 1042.53 129.473 Q1040.35 130.584 1037.2 130.584 Q1033.22 130.584 1030.86 128.362 Q1028.52 126.116 1028.52 122.366 Q1028.52 117.991 1031.44 115.769 Q1034.38 113.547 1040.19 113.547 L1046.16 113.547 L1046.16 113.13 Q1046.16 110.191 1044.22 108.593 Q1042.3 106.973 1038.8 106.973 Q1036.58 106.973 1034.47 107.505 Q1032.36 108.038 1030.42 109.103 L1030.42 105.167 Q1032.76 104.265 1034.96 103.825 Q1037.16 103.362 1039.24 103.362 Q1044.86 103.362 1047.64 106.278 Q1050.42 109.195 1050.42 115.121 Z\\\" fill=\\\"#000000\\\" fill-rule=\\\"nonzero\\\" fill-opacity=\\\"1\\\" \\/><path clip-path=\\\"url(#clip310)\\\" d=\\\"M1063.31 126.024 L1063.31 139.774 L1059.03 139.774 L1059.03 103.987 L1063.31 103.987 L1063.31 107.922 Q1064.66 105.607 1066.69 104.496 Q1068.75 103.362 1071.6 103.362 Q1076.32 103.362 1079.26 107.112 Q1082.23 110.862 1082.23 116.973 Q1082.23 123.084 1079.26 126.834 Q1076.32 130.584 1071.6 130.584 Q1068.75 130.584 1066.69 129.473 Q1064.66 128.339 1063.31 126.024 M1077.8 116.973 Q1077.8 112.274 1075.86 109.612 Q1073.94 106.927 1070.56 106.927 Q1067.18 106.927 1065.24 109.612 Q1063.31 112.274 1063.31 116.973 Q1063.31 121.672 1065.24 124.357 Q1067.18 127.019 1070.56 127.019 Q1073.94 127.019 1075.86 124.357 Q1077.8 121.672 1077.8 116.973 Z\\\" fill=\\\"#000000\\\" fill-rule=\\\"nonzero\\\" fill-opacity=\\\"1\\\" \\/><path clip-path=\\\"url(#clip310)\\\" d=\\\"M1093.41 126.024 L1093.41 139.774 L1089.12 139.774 L1089.12 103.987 L1093.41 103.987 L1093.41 107.922 Q1094.75 105.607 1096.79 104.496 Q1098.85 103.362 1101.69 103.362 Q1106.42 103.362 1109.36 107.112 Q1112.32 110.862 1112.32 116.973 Q1112.32 123.084 1109.36 126.834 Q1106.42 130.584 1101.69 130.584 Q1098.85 130.584 1096.79 129.473 Q1094.75 128.339 1093.41 126.024 M1107.9 116.973 Q1107.9 112.274 1105.95 109.612 Q1104.03 106.927 1100.65 106.927 Q1097.27 106.927 1095.33 109.612 Q1093.41 112.274 1093.41 116.973 Q1093.41 121.672 1095.33 124.357 Q1097.27 127.019 1100.65 127.019 Q1104.03 127.019 1105.95 124.357 Q1107.9 121.672 1107.9 116.973 Z\\\" fill=\\\"#000000\\\" fill-rule=\\\"nonzero\\\" fill-opacity=\\\"1\\\" \\/><path clip-path=\\\"url(#clip310)\\\" d=\\\"M1130.17 132.32 Q1128.36 136.95 1126.65 138.362 Q1124.93 139.774 1122.06 139.774 L1118.66 139.774 L1118.66 136.209 L1121.16 136.209 Q1122.92 136.209 1123.89 135.376 Q1124.86 134.542 1126.04 131.44 L1126.81 129.496 L1116.32 103.987 L1120.84 103.987 L1128.94 124.265 L1137.04 103.987 L1141.55 103.987 L1130.17 132.32 Z\\\" fill=\\\"#000000\\\" fill-rule=\\\"nonzero\\\" fill-opacity=\\\"1\\\" \\/><\\/svg>\\n\"}}},\"children\":[{\"props\":{\"className\":\"webio-observable\",\"setInnerHtml\":\"<?xml version=\\\"1.0\\\" encoding=\\\"utf-8\\\"?>\\n<svg xmlns=\\\"http:\\/\\/www.w3.org\\/2000\\/svg\\\" xmlns:xlink=\\\"http:\\/\\/www.w3.org\\/1999\\/xlink\\\" width=\\\"300\\\" height=\\\"150\\\" viewBox=\\\"0 0 1200 600\\\">\\n<defs>\\n  <clipPath id=\\\"clip310\\\">\\n    <rect x=\\\"0\\\" y=\\\"0\\\" width=\\\"1200\\\" height=\\\"600\\\"\\/>\\n  <\\/clipPath>\\n<\\/defs>\\n<path clip-path=\\\"url(#clip310)\\\" d=\\\"M0 600 L1200 600 L1200 0 L0 0  Z\\\" fill=\\\"#ffffff\\\" fill-rule=\\\"evenodd\\\" fill-opacity=\\\"1\\\"\\/>\\n<defs>\\n  <clipPath id=\\\"clip311\\\">\\n    <rect x=\\\"240\\\" y=\\\"0\\\" width=\\\"841\\\" height=\\\"600\\\"\\/>\\n  <\\/clipPath>\\n<\\/defs>\\n<path clip-path=\\\"url(#clip310)\\\" d=\\\"M144.598 453.7 L876.715 453.7 L876.715 47.2441 L144.598 47.2441  Z\\\" fill=\\\"#ffffff\\\" fill-rule=\\\"evenodd\\\" fill-opacity=\\\"1\\\"\\/>\\n<defs>\\n  <clipPath id=\\\"clip312\\\">\\n    <rect x=\\\"144\\\" y=\\\"47\\\" width=\\\"733\\\" height=\\\"407\\\"\\/>\\n  <\\/clipPath>\\n<\\/defs>\\n<polyline clip-path=\\\"url(#clip312)\\\" style=\\\"stroke:#000000; stroke-linecap:round; stroke-linejoin:round; stroke-width:2; stroke-opacity:0.1; fill:none\\\" points=\\\"242.06,453.7 242.06,47.2441 \\\"\\/>\\n<polyline clip-path=\\\"url(#clip312)\\\" style=\\\"stroke:#000000; stroke-linecap:round; stroke-linejoin:round; stroke-width:2; stroke-opacity:0.1; fill:none\\\" points=\\\"395.544,453.7 395.544,47.2441 \\\"\\/>\\n<polyline clip-path=\\\"url(#clip312)\\\" style=\\\"stroke:#000000; stroke-linecap:round; stroke-linejoin:round; stroke-width:2; stroke-opacity:0.1; fill:none\\\" points=\\\"549.028,453.7 549.028,47.2441 \\\"\\/>\\n<polyline clip-path=\\\"url(#clip312)\\\" style=\\\"stroke:#000000; stroke-linecap:round; stroke-linejoin:round; stroke-width:2; stroke-opacity:0.1; fill:none\\\" points=\\\"702.511,453.7 702.511,47.2441 \\\"\\/>\\n<polyline clip-path=\\\"url(#clip312)\\\" style=\\\"stroke:#000000; stroke-linecap:round; stroke-linejoin:round; stroke-width:2; stroke-opacity:0.1; fill:none\\\" points=\\\"855.995,453.7 855.995,47.2441 \\\"\\/>\\n<polyline clip-path=\\\"url(#clip310)\\\" style=\\\"stroke:#000000; stroke-linecap:round; stroke-linejoin:round; stroke-width:4; stroke-opacity:1; fill:none\\\" points=\\\"144.598,453.7 876.715,453.7 \\\"\\/>\\n<polyline clip-path=\\\"url(#clip310)\\\" style=\\\"stroke:#000000; stroke-linecap:round; stroke-linejoin:round; stroke-width:4; stroke-opacity:1; fill:none\\\" points=\\\"242.06,453.7 242.06,434.802 \\\"\\/>\\n<polyline clip-path=\\\"url(#clip310)\\\" style=\\\"stroke:#000000; stroke-linecap:round; stroke-linejoin:round; stroke-width:4; stroke-opacity:1; fill:none\\\" points=\\\"395.544,453.7 395.544,434.802 \\\"\\/>\\n<polyline clip-path=\\\"url(#clip310)\\\" style=\\\"stroke:#000000; stroke-linecap:round; stroke-linejoin:round; stroke-width:4; stroke-opacity:1; fill:none\\\" points=\\\"549.028,453.7 549.028,434.802 \\\"\\/>\\n<polyline clip-path=\\\"url(#clip310)\\\" style=\\\"stroke:#000000; stroke-linecap:round; stroke-linejoin:round; stroke-width:4; stroke-opacity:1; fill:none\\\" points=\\\"702.511,453.7 702.511,434.802 \\\"\\/>\\n<polyline clip-path=\\\"url(#clip310)\\\" style=\\\"stroke:#000000; stroke-linecap:round; stroke-linejoin:round; stroke-width:4; stroke-opacity:1; fill:none\\\" points=\\\"855.995,453.7 855.995,434.802 \\\"\\/>\\n<path clip-path=\\\"url(#clip310)\\\" d=\\\"M236.713 502.565 L253.033 502.565 L253.033 506.5 L231.088 506.5 L231.088 502.565 Q233.75 499.81 238.334 495.18 Q242.94 490.528 244.121 489.185 Q246.366 486.662 247.246 484.926 Q248.148 483.167 248.148 481.477 Q248.148 478.722 246.204 476.986 Q244.283 475.25 241.181 475.25 Q238.982 475.25 236.528 476.014 Q234.097 476.778 231.32 478.329 L231.32 473.607 Q234.144 472.472 236.597 471.894 Q239.051 471.315 241.088 471.315 Q246.458 471.315 249.653 474 Q252.847 476.685 252.847 481.176 Q252.847 483.306 252.037 485.227 Q251.25 487.125 249.144 489.718 Q248.565 490.389 245.463 493.606 Q242.361 496.801 236.713 502.565 Z\\\" fill=\\\"#000000\\\" fill-rule=\\\"nonzero\\\" fill-opacity=\\\"1\\\" \\/><path clip-path=\\\"url(#clip310)\\\" d=\\\"M398.553 476.014 L386.748 494.463 L398.553 494.463 L398.553 476.014 M397.326 471.94 L403.206 471.94 L403.206 494.463 L408.137 494.463 L408.137 498.352 L403.206 498.352 L403.206 506.5 L398.553 506.5 L398.553 498.352 L382.951 498.352 L382.951 493.838 L397.326 471.94 Z\\\" fill=\\\"#000000\\\" fill-rule=\\\"nonzero\\\" fill-opacity=\\\"1\\\" \\/><path clip-path=\\\"url(#clip310)\\\" d=\\\"M549.433 487.356 Q546.285 487.356 544.433 489.509 Q542.604 491.662 542.604 495.412 Q542.604 499.139 544.433 501.315 Q546.285 503.467 549.433 503.467 Q552.581 503.467 554.41 501.315 Q556.261 499.139 556.261 495.412 Q556.261 491.662 554.41 489.509 Q552.581 487.356 549.433 487.356 M558.715 472.704 L558.715 476.963 Q556.956 476.13 555.15 475.69 Q553.368 475.25 551.609 475.25 Q546.979 475.25 544.525 478.375 Q542.095 481.5 541.748 487.819 Q543.113 485.806 545.174 484.741 Q547.234 483.653 549.711 483.653 Q554.919 483.653 557.928 486.824 Q560.96 489.972 560.96 495.412 Q560.96 500.736 557.812 503.954 Q554.664 507.171 549.433 507.171 Q543.437 507.171 540.266 502.588 Q537.095 497.981 537.095 489.255 Q537.095 481.06 540.984 476.199 Q544.873 471.315 551.423 471.315 Q553.183 471.315 554.965 471.662 Q556.771 472.009 558.715 472.704 Z\\\" fill=\\\"#000000\\\" fill-rule=\\\"nonzero\\\" fill-opacity=\\\"1\\\" \\/><path clip-path=\\\"url(#clip310)\\\" d=\\\"M702.511 490.088 Q699.178 490.088 697.257 491.87 Q695.359 493.653 695.359 496.778 Q695.359 499.903 697.257 501.685 Q699.178 503.467 702.511 503.467 Q705.845 503.467 707.766 501.685 Q709.687 499.88 709.687 496.778 Q709.687 493.653 707.766 491.87 Q705.868 490.088 702.511 490.088 M697.835 488.097 Q694.826 487.356 693.136 485.296 Q691.47 483.236 691.47 480.273 Q691.47 476.13 694.41 473.722 Q697.372 471.315 702.511 471.315 Q707.673 471.315 710.613 473.722 Q713.553 476.13 713.553 480.273 Q713.553 483.236 711.863 485.296 Q710.196 487.356 707.21 488.097 Q710.59 488.884 712.465 491.176 Q714.363 493.468 714.363 496.778 Q714.363 501.801 711.284 504.486 Q708.229 507.171 702.511 507.171 Q696.794 507.171 693.715 504.486 Q690.66 501.801 690.66 496.778 Q690.66 493.468 692.558 491.176 Q694.456 488.884 697.835 488.097 M696.122 480.713 Q696.122 483.398 697.789 484.903 Q699.479 486.407 702.511 486.407 Q705.521 486.407 707.21 484.903 Q708.923 483.398 708.923 480.713 Q708.923 478.028 707.21 476.523 Q705.521 475.019 702.511 475.019 Q699.479 475.019 697.789 476.523 Q696.122 478.028 696.122 480.713 Z\\\" fill=\\\"#000000\\\" fill-rule=\\\"nonzero\\\" fill-opacity=\\\"1\\\" \\/><path clip-path=\\\"url(#clip310)\\\" d=\\\"M830.683 502.565 L838.321 502.565 L838.321 476.199 L830.011 477.866 L830.011 473.607 L838.275 471.94 L842.951 471.94 L842.951 502.565 L850.59 502.565 L850.59 506.5 L830.683 506.5 L830.683 502.565 Z\\\" fill=\\\"#000000\\\" fill-rule=\\\"nonzero\\\" fill-opacity=\\\"1\\\" \\/><path clip-path=\\\"url(#clip310)\\\" d=\\\"M870.034 475.019 Q866.423 475.019 864.594 478.583 Q862.789 482.125 862.789 489.255 Q862.789 496.361 864.594 499.926 Q866.423 503.467 870.034 503.467 Q873.668 503.467 875.474 499.926 Q877.303 496.361 877.303 489.255 Q877.303 482.125 875.474 478.583 Q873.668 475.019 870.034 475.019 M870.034 471.315 Q875.844 471.315 878.9 475.921 Q881.979 480.505 881.979 489.255 Q881.979 497.981 878.9 502.588 Q875.844 507.171 870.034 507.171 Q864.224 507.171 861.145 502.588 Q858.09 497.981 858.09 489.255 Q858.09 480.505 861.145 475.921 Q864.224 471.315 870.034 471.315 Z\\\" fill=\\\"#000000\\\" fill-rule=\\\"nonzero\\\" fill-opacity=\\\"1\\\" \\/><path clip-path=\\\"url(#clip310)\\\" d=\\\"M447.7 534.794 L447.7 544.916 L459.763 544.916 L459.763 549.467 L447.7 549.467 L447.7 568.819 Q447.7 573.18 448.878 574.421 Q450.087 575.662 453.747 575.662 L459.763 575.662 L459.763 580.564 L453.747 580.564 Q446.968 580.564 444.39 578.049 Q441.812 575.503 441.812 568.819 L441.812 549.467 L437.515 549.467 L437.515 544.916 L441.812 544.916 L441.812 534.794 L447.7 534.794 Z\\\" fill=\\\"#000000\\\" fill-rule=\\\"nonzero\\\" fill-opacity=\\\"1\\\" \\/><path clip-path=\\\"url(#clip310)\\\" d=\\\"M467.465 544.916 L473.322 544.916 L473.322 580.564 L467.465 580.564 L467.465 544.916 M467.465 531.039 L473.322 531.039 L473.322 538.455 L467.465 538.455 L467.465 531.039 Z\\\" fill=\\\"#000000\\\" fill-rule=\\\"nonzero\\\" fill-opacity=\\\"1\\\" \\/><path clip-path=\\\"url(#clip310)\\\" d=\\\"M511.23 546.285 L511.23 551.759 Q508.747 550.39 506.233 549.722 Q503.75 549.022 501.204 549.022 Q495.506 549.022 492.355 552.65 Q489.204 556.247 489.204 562.772 Q489.204 569.297 492.355 572.925 Q495.506 576.522 501.204 576.522 Q503.75 576.522 506.233 575.853 Q508.747 575.153 511.23 573.784 L511.23 579.195 Q508.779 580.341 506.137 580.914 Q503.527 581.487 500.567 581.487 Q492.514 581.487 487.772 576.426 Q483.03 571.365 483.03 562.772 Q483.03 554.051 487.804 549.054 Q492.61 544.057 500.949 544.057 Q503.654 544.057 506.233 544.629 Q508.811 545.171 511.23 546.285 Z\\\" fill=\\\"#000000\\\" fill-rule=\\\"nonzero\\\" fill-opacity=\\\"1\\\" \\/><path clip-path=\\\"url(#clip310)\\\" d=\\\"M521.192 531.039 L527.08 531.039 L527.08 560.289 L544.554 544.916 L552.034 544.916 L533.128 561.594 L552.83 580.564 L545.191 580.564 L527.08 563.154 L527.08 580.564 L521.192 580.564 L521.192 531.039 Z\\\" fill=\\\"#000000\\\" fill-rule=\\\"nonzero\\\" fill-opacity=\\\"1\\\" \\/><path clip-path=\\\"url(#clip310)\\\" d=\\\"M581.889 545.966 L581.889 551.504 Q579.406 550.231 576.733 549.595 Q574.059 548.958 571.195 548.958 Q566.834 548.958 564.638 550.295 Q562.474 551.632 562.474 554.305 Q562.474 556.342 564.033 557.52 Q565.593 558.666 570.303 559.716 L572.309 560.162 Q578.547 561.499 581.157 563.949 Q583.799 566.368 583.799 570.729 Q583.799 575.694 579.852 578.59 Q575.937 581.487 569.062 581.487 Q566.198 581.487 563.078 580.914 Q559.991 580.373 556.553 579.259 L556.553 573.211 Q559.8 574.898 562.951 575.758 Q566.102 576.585 569.189 576.585 Q573.327 576.585 575.555 575.185 Q577.783 573.753 577.783 571.174 Q577.783 568.787 576.16 567.514 Q574.568 566.241 569.126 565.063 L567.089 564.586 Q561.646 563.44 559.227 561.085 Q556.808 558.698 556.808 554.56 Q556.808 549.531 560.373 546.794 Q563.938 544.057 570.494 544.057 Q573.741 544.057 576.605 544.534 Q579.47 545.011 581.889 545.966 Z\\\" fill=\\\"#000000\\\" fill-rule=\\\"nonzero\\\" fill-opacity=\\\"1\\\" \\/><polyline clip-path=\\\"url(#clip312)\\\" style=\\\"stroke:#000000; stroke-linecap:round; stroke-linejoin:round; stroke-width:2; stroke-opacity:0.1; fill:none\\\" points=\\\"144.598,442.196 876.715,442.196 \\\"\\/>\\n<polyline clip-path=\\\"url(#clip312)\\\" style=\\\"stroke:#000000; stroke-linecap:round; stroke-linejoin:round; stroke-width:2; stroke-opacity:0.1; fill:none\\\" points=\\\"144.598,344.724 876.715,344.724 \\\"\\/>\\n<polyline clip-path=\\\"url(#clip312)\\\" style=\\\"stroke:#000000; stroke-linecap:round; stroke-linejoin:round; stroke-width:2; stroke-opacity:0.1; fill:none\\\" points=\\\"144.598,247.251 876.715,247.251 \\\"\\/>\\n<polyline clip-path=\\\"url(#clip312)\\\" style=\\\"stroke:#000000; stroke-linecap:round; stroke-linejoin:round; stroke-width:2; stroke-opacity:0.1; fill:none\\\" points=\\\"144.598,149.778 876.715,149.778 \\\"\\/>\\n<polyline clip-path=\\\"url(#clip312)\\\" style=\\\"stroke:#000000; stroke-linecap:round; stroke-linejoin:round; stroke-width:2; stroke-opacity:0.1; fill:none\\\" points=\\\"144.598,52.3057 876.715,52.3057 \\\"\\/>\\n<polyline clip-path=\\\"url(#clip310)\\\" style=\\\"stroke:#000000; stroke-linecap:round; stroke-linejoin:round; stroke-width:4; stroke-opacity:1; fill:none\\\" points=\\\"144.598,453.7 144.598,47.2441 \\\"\\/>\\n<polyline clip-path=\\\"url(#clip310)\\\" style=\\\"stroke:#000000; stroke-linecap:round; stroke-linejoin:round; stroke-width:4; stroke-opacity:1; fill:none\\\" points=\\\"144.598,442.196 158.322,442.196 \\\"\\/>\\n<polyline clip-path=\\\"url(#clip310)\\\" style=\\\"stroke:#000000; stroke-linecap:round; stroke-linejoin:round; stroke-width:4; stroke-opacity:1; fill:none\\\" points=\\\"144.598,344.724 158.322,344.724 \\\"\\/>\\n<polyline clip-path=\\\"url(#clip310)\\\" style=\\\"stroke:#000000; stroke-linecap:round; stroke-linejoin:round; stroke-width:4; stroke-opacity:1; fill:none\\\" points=\\\"144.598,247.251 158.322,247.251 \\\"\\/>\\n<polyline clip-path=\\\"url(#clip310)\\\" style=\\\"stroke:#000000; stroke-linecap:round; stroke-linejoin:round; stroke-width:4; stroke-opacity:1; fill:none\\\" points=\\\"144.598,149.778 158.322,149.778 \\\"\\/>\\n<polyline clip-path=\\\"url(#clip310)\\\" style=\\\"stroke:#000000; stroke-linecap:round; stroke-linejoin:round; stroke-width:4; stroke-opacity:1; fill:none\\\" points=\\\"144.598,52.3057 158.322,52.3057 \\\"\\/>\\n<path clip-path=\\\"url(#clip310)\\\" d=\\\"M70.0708 427.995 Q66.4597 427.995 64.631 431.56 Q62.8254 435.102 62.8254 442.231 Q62.8254 449.338 64.631 452.902 Q66.4597 456.444 70.0708 456.444 Q73.705 456.444 75.5105 452.902 Q77.3392 449.338 77.3392 442.231 Q77.3392 435.102 75.5105 431.56 Q73.705 427.995 70.0708 427.995 M70.0708 424.291 Q75.8809 424.291 78.9365 428.898 Q82.0151 433.481 82.0151 442.231 Q82.0151 450.958 78.9365 455.564 Q75.8809 460.148 70.0708 460.148 Q64.2606 460.148 61.1819 455.564 Q58.1264 450.958 58.1264 442.231 Q58.1264 433.481 61.1819 428.898 Q64.2606 424.291 70.0708 424.291 Z\\\" fill=\\\"#000000\\\" fill-rule=\\\"nonzero\\\" fill-opacity=\\\"1\\\" \\/><path clip-path=\\\"url(#clip310)\\\" d=\\\"M90.2327 453.597 L95.1169 453.597 L95.1169 459.476 L90.2327 459.476 L90.2327 453.597 Z\\\" fill=\\\"#000000\\\" fill-rule=\\\"nonzero\\\" fill-opacity=\\\"1\\\" \\/><path clip-path=\\\"url(#clip310)\\\" d=\\\"M119.469 440.842 Q122.825 441.56 124.7 443.828 Q126.598 446.097 126.598 449.43 Q126.598 454.546 123.08 457.347 Q119.561 460.148 113.08 460.148 Q110.904 460.148 108.589 459.708 Q106.297 459.291 103.844 458.435 L103.844 453.921 Q105.788 455.055 108.103 455.634 Q110.418 456.213 112.941 456.213 Q117.339 456.213 119.631 454.476 Q121.945 452.74 121.945 449.43 Q121.945 446.375 119.793 444.662 Q117.663 442.926 113.844 442.926 L109.816 442.926 L109.816 439.083 L114.029 439.083 Q117.478 439.083 119.307 437.717 Q121.135 436.328 121.135 433.736 Q121.135 431.074 119.237 429.662 Q117.362 428.227 113.844 428.227 Q111.922 428.227 109.723 428.643 Q107.524 429.06 104.885 429.939 L104.885 425.773 Q107.547 425.032 109.862 424.662 Q112.2 424.291 114.26 424.291 Q119.584 424.291 122.686 426.722 Q125.788 429.129 125.788 433.25 Q125.788 436.12 124.145 438.111 Q122.501 440.078 119.469 440.842 Z\\\" fill=\\\"#000000\\\" fill-rule=\\\"nonzero\\\" fill-opacity=\\\"1\\\" \\/><path clip-path=\\\"url(#clip310)\\\" d=\\\"M68.9365 330.522 Q65.3254 330.522 63.4967 334.087 Q61.6912 337.629 61.6912 344.758 Q61.6912 351.865 63.4967 355.43 Q65.3254 358.971 68.9365 358.971 Q72.5707 358.971 74.3763 355.43 Q76.205 351.865 76.205 344.758 Q76.205 337.629 74.3763 334.087 Q72.5707 330.522 68.9365 330.522 M68.9365 326.819 Q74.7467 326.819 77.8022 331.425 Q80.8809 336.008 80.8809 344.758 Q80.8809 353.485 77.8022 358.092 Q74.7467 362.675 68.9365 362.675 Q63.1264 362.675 60.0477 358.092 Q56.9921 353.485 56.9921 344.758 Q56.9921 336.008 60.0477 331.425 Q63.1264 326.819 68.9365 326.819 Z\\\" fill=\\\"#000000\\\" fill-rule=\\\"nonzero\\\" fill-opacity=\\\"1\\\" \\/><path clip-path=\\\"url(#clip310)\\\" d=\\\"M89.0984 356.124 L93.9827 356.124 L93.9827 362.004 L89.0984 362.004 L89.0984 356.124 Z\\\" fill=\\\"#000000\\\" fill-rule=\\\"nonzero\\\" fill-opacity=\\\"1\\\" \\/><path clip-path=\\\"url(#clip310)\\\" d=\\\"M117.015 331.518 L105.209 349.967 L117.015 349.967 L117.015 331.518 M115.788 327.444 L121.668 327.444 L121.668 349.967 L126.598 349.967 L126.598 353.856 L121.668 353.856 L121.668 362.004 L117.015 362.004 L117.015 353.856 L101.413 353.856 L101.413 349.342 L115.788 327.444 Z\\\" fill=\\\"#000000\\\" fill-rule=\\\"nonzero\\\" fill-opacity=\\\"1\\\" \\/><path clip-path=\\\"url(#clip310)\\\" d=\\\"M70.418 233.05 Q66.8069 233.05 64.9782 236.615 Q63.1726 240.156 63.1726 247.286 Q63.1726 254.392 64.9782 257.957 Q66.8069 261.499 70.418 261.499 Q74.0522 261.499 75.8578 257.957 Q77.6865 254.392 77.6865 247.286 Q77.6865 240.156 75.8578 236.615 Q74.0522 233.05 70.418 233.05 M70.418 229.346 Q76.2281 229.346 79.2837 233.952 Q82.3624 238.536 82.3624 247.286 Q82.3624 256.013 79.2837 260.619 Q76.2281 265.202 70.418 265.202 Q64.6078 265.202 61.5291 260.619 Q58.4736 256.013 58.4736 247.286 Q58.4736 238.536 61.5291 233.952 Q64.6078 229.346 70.418 229.346 Z\\\" fill=\\\"#000000\\\" fill-rule=\\\"nonzero\\\" fill-opacity=\\\"1\\\" \\/><path clip-path=\\\"url(#clip310)\\\" d=\\\"M90.5799 258.651 L95.4641 258.651 L95.4641 264.531 L90.5799 264.531 L90.5799 258.651 Z\\\" fill=\\\"#000000\\\" fill-rule=\\\"nonzero\\\" fill-opacity=\\\"1\\\" \\/><path clip-path=\\\"url(#clip310)\\\" d=\\\"M105.696 229.971 L124.052 229.971 L124.052 233.906 L109.978 233.906 L109.978 242.378 Q110.996 242.031 112.015 241.869 Q113.033 241.684 114.052 241.684 Q119.839 241.684 123.219 244.855 Q126.598 248.026 126.598 253.443 Q126.598 259.022 123.126 262.124 Q119.654 265.202 113.334 265.202 Q111.159 265.202 108.89 264.832 Q106.645 264.462 104.237 263.721 L104.237 259.022 Q106.321 260.156 108.543 260.712 Q110.765 261.267 113.242 261.267 Q117.246 261.267 119.584 259.161 Q121.922 257.054 121.922 253.443 Q121.922 249.832 119.584 247.726 Q117.246 245.619 113.242 245.619 Q111.367 245.619 109.492 246.036 Q107.64 246.452 105.696 247.332 L105.696 229.971 Z\\\" fill=\\\"#000000\\\" fill-rule=\\\"nonzero\\\" fill-opacity=\\\"1\\\" \\/><path clip-path=\\\"url(#clip310)\\\" d=\\\"M69.2606 135.577 Q65.6495 135.577 63.8208 139.142 Q62.0152 142.683 62.0152 149.813 Q62.0152 156.92 63.8208 160.484 Q65.6495 164.026 69.2606 164.026 Q72.8948 164.026 74.7004 160.484 Q76.5291 156.92 76.5291 149.813 Q76.5291 142.683 74.7004 139.142 Q72.8948 135.577 69.2606 135.577 M69.2606 131.873 Q75.0707 131.873 78.1263 136.48 Q81.205 141.063 81.205 149.813 Q81.205 158.54 78.1263 163.146 Q75.0707 167.73 69.2606 167.73 Q63.4504 167.73 60.3717 163.146 Q57.3162 158.54 57.3162 149.813 Q57.3162 141.063 60.3717 136.48 Q63.4504 131.873 69.2606 131.873 Z\\\" fill=\\\"#000000\\\" fill-rule=\\\"nonzero\\\" fill-opacity=\\\"1\\\" \\/><path clip-path=\\\"url(#clip310)\\\" d=\\\"M89.4225 161.179 L94.3067 161.179 L94.3067 167.058 L89.4225 167.058 L89.4225 161.179 Z\\\" fill=\\\"#000000\\\" fill-rule=\\\"nonzero\\\" fill-opacity=\\\"1\\\" \\/><path clip-path=\\\"url(#clip310)\\\" d=\\\"M115.071 147.915 Q111.922 147.915 110.071 150.068 Q108.242 152.22 108.242 155.97 Q108.242 159.697 110.071 161.873 Q111.922 164.026 115.071 164.026 Q118.219 164.026 120.047 161.873 Q121.899 159.697 121.899 155.97 Q121.899 152.22 120.047 150.068 Q118.219 147.915 115.071 147.915 M124.353 133.262 L124.353 137.521 Q122.594 136.688 120.788 136.248 Q119.006 135.809 117.246 135.809 Q112.617 135.809 110.163 138.933 Q107.733 142.058 107.385 148.378 Q108.751 146.364 110.811 145.299 Q112.871 144.211 115.348 144.211 Q120.557 144.211 123.566 147.383 Q126.598 150.531 126.598 155.97 Q126.598 161.294 123.45 164.512 Q120.302 167.73 115.071 167.73 Q109.075 167.73 105.904 163.146 Q102.733 158.54 102.733 149.813 Q102.733 141.619 106.621 136.758 Q110.51 131.873 117.061 131.873 Q118.82 131.873 120.603 132.221 Q122.408 132.568 124.353 133.262 Z\\\" fill=\\\"#000000\\\" fill-rule=\\\"nonzero\\\" fill-opacity=\\\"1\\\" \\/><path clip-path=\\\"url(#clip310)\\\" d=\\\"M70.3254 38.1044 Q66.7143 38.1044 64.8856 41.6692 Q63.0801 45.2108 63.0801 52.3404 Q63.0801 59.4468 64.8856 63.0116 Q66.7143 66.5533 70.3254 66.5533 Q73.9596 66.5533 75.7652 63.0116 Q77.5939 59.4468 77.5939 52.3404 Q77.5939 45.2108 75.7652 41.6692 Q73.9596 38.1044 70.3254 38.1044 M70.3254 34.4007 Q76.1355 34.4007 79.1911 39.0071 Q82.2698 43.5904 82.2698 52.3404 Q82.2698 61.0672 79.1911 65.6737 Q76.1355 70.257 70.3254 70.257 Q64.5152 70.257 61.4365 65.6737 Q58.381 61.0672 58.381 52.3404 Q58.381 43.5904 61.4365 39.0071 Q64.5152 34.4007 70.3254 34.4007 Z\\\" fill=\\\"#000000\\\" fill-rule=\\\"nonzero\\\" fill-opacity=\\\"1\\\" \\/><path clip-path=\\\"url(#clip310)\\\" d=\\\"M90.4873 63.7061 L95.3715 63.7061 L95.3715 69.5857 L90.4873 69.5857 L90.4873 63.7061 Z\\\" fill=\\\"#000000\\\" fill-rule=\\\"nonzero\\\" fill-opacity=\\\"1\\\" \\/><path clip-path=\\\"url(#clip310)\\\" d=\\\"M104.376 35.0257 L126.598 35.0257 L126.598 37.0164 L114.052 69.5857 L109.168 69.5857 L120.973 38.9608 L104.376 38.9608 L104.376 35.0257 Z\\\" fill=\\\"#000000\\\" fill-rule=\\\"nonzero\\\" fill-opacity=\\\"1\\\" \\/><polyline clip-path=\\\"url(#clip312)\\\" style=\\\"stroke:#009af9; stroke-linecap:round; stroke-linejoin:round; stroke-width:4; stroke-opacity:1; fill:none\\\" points=\\\"165.319,442.196 242.06,430.987 318.802,348.079 395.544,240.445 472.286,157.055 549.028,132.27 625.769,107.778 702.511,107.655 779.253,73.539 855.995,58.7476 \\\"\\/>\\n<path clip-path=\\\"url(#clip310)\\\" d=\\\"M910.321 164.473 L1152.76 164.473 L1152.76 60.7926 L910.321 60.7926  Z\\\" fill=\\\"#ffffff\\\" fill-rule=\\\"evenodd\\\" fill-opacity=\\\"1\\\"\\/>\\n<polyline clip-path=\\\"url(#clip310)\\\" style=\\\"stroke:#000000; stroke-linecap:round; stroke-linejoin:round; stroke-width:4; stroke-opacity:1; fill:none\\\" points=\\\"910.321,164.473 1152.76,164.473 1152.76,60.7926 910.321,60.7926 910.321,164.473 \\\"\\/>\\n<polyline clip-path=\\\"url(#clip310)\\\" style=\\\"stroke:#009af9; stroke-linecap:round; stroke-linejoin:round; stroke-width:4; stroke-opacity:1; fill:none\\\" points=\\\"921.522,112.633 988.733,112.633 \\\"\\/>\\n<path clip-path=\\\"url(#clip310)\\\" d=\\\"M1021.65 114.265 L1021.65 129.913 L1017.39 129.913 L1017.39 114.403 Q1017.39 110.723 1015.95 108.894 Q1014.52 107.066 1011.65 107.066 Q1008.2 107.066 1006.21 109.265 Q1004.22 111.464 1004.22 115.26 L1004.22 129.913 L999.935 129.913 L999.935 93.8943 L1004.22 93.8943 L1004.22 108.015 Q1005.74 105.677 1007.8 104.519 Q1009.89 103.362 1012.6 103.362 Q1017.06 103.362 1019.36 106.14 Q1021.65 108.894 1021.65 114.265 Z\\\" fill=\\\"#000000\\\" fill-rule=\\\"nonzero\\\" fill-opacity=\\\"1\\\" \\/><path clip-path=\\\"url(#clip310)\\\" d=\\\"M1041.93 116.88 Q1036.76 116.88 1034.77 118.061 Q1032.78 119.241 1032.78 122.089 Q1032.78 124.357 1034.26 125.7 Q1035.77 127.019 1038.34 127.019 Q1041.88 127.019 1044.01 124.519 Q1046.16 121.996 1046.16 117.829 L1046.16 116.88 L1041.93 116.88 M1050.42 115.121 L1050.42 129.913 L1046.16 129.913 L1046.16 125.977 Q1044.7 128.339 1042.53 129.473 Q1040.35 130.584 1037.2 130.584 Q1033.22 130.584 1030.86 128.362 Q1028.52 126.116 1028.52 122.366 Q1028.52 117.991 1031.44 115.769 Q1034.38 113.547 1040.19 113.547 L1046.16 113.547 L1046.16 113.13 Q1046.16 110.191 1044.22 108.593 Q1042.3 106.973 1038.8 106.973 Q1036.58 106.973 1034.47 107.505 Q1032.36 108.038 1030.42 109.103 L1030.42 105.167 Q1032.76 104.265 1034.96 103.825 Q1037.16 103.362 1039.24 103.362 Q1044.86 103.362 1047.64 106.278 Q1050.42 109.195 1050.42 115.121 Z\\\" fill=\\\"#000000\\\" fill-rule=\\\"nonzero\\\" fill-opacity=\\\"1\\\" \\/><path clip-path=\\\"url(#clip310)\\\" d=\\\"M1063.31 126.024 L1063.31 139.774 L1059.03 139.774 L1059.03 103.987 L1063.31 103.987 L1063.31 107.922 Q1064.66 105.607 1066.69 104.496 Q1068.75 103.362 1071.6 103.362 Q1076.32 103.362 1079.26 107.112 Q1082.23 110.862 1082.23 116.973 Q1082.23 123.084 1079.26 126.834 Q1076.32 130.584 1071.6 130.584 Q1068.75 130.584 1066.69 129.473 Q1064.66 128.339 1063.31 126.024 M1077.8 116.973 Q1077.8 112.274 1075.86 109.612 Q1073.94 106.927 1070.56 106.927 Q1067.18 106.927 1065.24 109.612 Q1063.31 112.274 1063.31 116.973 Q1063.31 121.672 1065.24 124.357 Q1067.18 127.019 1070.56 127.019 Q1073.94 127.019 1075.86 124.357 Q1077.8 121.672 1077.8 116.973 Z\\\" fill=\\\"#000000\\\" fill-rule=\\\"nonzero\\\" fill-opacity=\\\"1\\\" \\/><path clip-path=\\\"url(#clip310)\\\" d=\\\"M1093.41 126.024 L1093.41 139.774 L1089.12 139.774 L1089.12 103.987 L1093.41 103.987 L1093.41 107.922 Q1094.75 105.607 1096.79 104.496 Q1098.85 103.362 1101.69 103.362 Q1106.42 103.362 1109.36 107.112 Q1112.32 110.862 1112.32 116.973 Q1112.32 123.084 1109.36 126.834 Q1106.42 130.584 1101.69 130.584 Q1098.85 130.584 1096.79 129.473 Q1094.75 128.339 1093.41 126.024 M1107.9 116.973 Q1107.9 112.274 1105.95 109.612 Q1104.03 106.927 1100.65 106.927 Q1097.27 106.927 1095.33 109.612 Q1093.41 112.274 1093.41 116.973 Q1093.41 121.672 1095.33 124.357 Q1097.27 127.019 1100.65 127.019 Q1104.03 127.019 1105.95 124.357 Q1107.9 121.672 1107.9 116.973 Z\\\" fill=\\\"#000000\\\" fill-rule=\\\"nonzero\\\" fill-opacity=\\\"1\\\" \\/><path clip-path=\\\"url(#clip310)\\\" d=\\\"M1130.17 132.32 Q1128.36 136.95 1126.65 138.362 Q1124.93 139.774 1122.06 139.774 L1118.66 139.774 L1118.66 136.209 L1121.16 136.209 Q1122.92 136.209 1123.89 135.376 Q1124.86 134.542 1126.04 131.44 L1126.81 129.496 L1116.32 103.987 L1120.84 103.987 L1128.94 124.265 L1137.04 103.987 L1141.55 103.987 L1130.17 132.32 Z\\\" fill=\\\"#000000\\\" fill-rule=\\\"nonzero\\\" fill-opacity=\\\"1\\\" \\/><\\/svg>\\n\"},\"nodeType\":\"DOM\",\"type\":\"node\",\"instanceArgs\":{\"namespace\":\"html\",\"tag\":\"div\"},\"children\":[]}]}]}]}]},\n",
       "        window,\n",
       "    );\n",
       "    })()\n",
       "    </script>\n",
       "</div>\n"
      ],
      "text/plain": [
       "WebIO.Node{WebIO.DOM}(WebIO.DOM(:html, :div), Any[WebIO.Node{WebIO.DOM}(WebIO.DOM(:html, :div), Any[WebIO.Node{WebIO.DOM}(WebIO.DOM(:html, :div), Any[WebIO.Node{WebIO.DOM}(WebIO.DOM(:html, :div), Any[WebIO.Scope(WebIO.Node{WebIO.DOM}(WebIO.DOM(:html, :div), Any[WebIO.Node{WebIO.DOM}(WebIO.DOM(:html, :div), Any[WebIO.Node{WebIO.DOM}(WebIO.DOM(:html, :label), Any[\"time\"], Dict{Symbol, Any}(:className => \"interact \", :style => Dict{Any, Any}(:padding => \"5px 10px 0px 10px\")))], Dict{Symbol, Any}(:className => \"interact-flex-row-left\")), WebIO.Node{WebIO.DOM}(WebIO.DOM(:html, :div), Any[WebIO.Node{WebIO.DOM}(WebIO.DOM(:html, :input), Any[], Dict{Symbol, Any}(:max => 20, :min => 1, :attributes => Dict{Any, Any}(:type => \"range\", Symbol(\"data-bind\") => \"numericValue: index, valueUpdate: 'input', event: {change: function (){this.changes(this.changes()+1)}}\", \"orient\" => \"horizontal\"), :step => 1, :className => \"slider slider is-fullwidth\", :style => Dict{Any, Any}()))], Dict{Symbol, Any}(:className => \"interact-flex-row-center\")), WebIO.Node{WebIO.DOM}(WebIO.DOM(:html, :div), Any[WebIO.Node{WebIO.DOM}(WebIO.DOM(:html, :p), Any[], Dict{Symbol, Any}(:attributes => Dict(\"data-bind\" => \"text: formatted_val\")))], Dict{Symbol, Any}(:className => \"interact-flex-row-right\"))], Dict{Symbol, Any}(:className => \"interact-flex-row interact-widget\")), Dict{String, Tuple{Observables.AbstractObservable, Union{Nothing, Bool}}}(\"changes\" => (Observable(0), nothing), \"index\" => (Observable(10), nothing)), Set{String}(), nothing, WebIO.Asset[WebIO.Asset(\"js\", \"knockout\", \"/home/dushya/.julia/packages/Knockout/HReiN/src/../assets/knockout.js\"), WebIO.Asset(\"js\", \"knockout_punches\", \"/home/dushya/.julia/packages/Knockout/HReiN/src/../assets/knockout_punches.js\"), WebIO.Asset(\"js\", nothing, \"/home/dushya/.julia/packages/InteractBase/LJXv3/src/../assets/all.js\"), WebIO.Asset(\"css\", nothing, \"/home/dushya/.julia/packages/InteractBase/LJXv3/src/../assets/style.css\"), WebIO.Asset(\"css\", nothing, \"/home/dushya/.julia/packages/Interact/PENUy/src/../assets/bulma_confined.min.css\")], Dict{Any, Any}(\"changes\" => Any[WebIO.JSString(\"(function (val){return (val!=this.model[\\\"changes\\\"]()) ? (this.valueFromJulia[\\\"changes\\\"]=true, this.model[\\\"changes\\\"](val)) : undefined})\")], \"index\" => Any[WebIO.JSString(\"(function (val){return (val!=this.model[\\\"index\\\"]()) ? (this.valueFromJulia[\\\"index\\\"]=true, this.model[\\\"index\\\"](val)) : undefined})\")]), WebIO.ConnectionPool(Channel{Any}(32), Set{WebIO.AbstractConnection}(), Base.GenericCondition{ReentrantLock}(Base.IntrusiveLinkedList{Task}(Task (runnable) @0x00007f2ede278970, Task (runnable) @0x00007f2ede278970), ReentrantLock(nothing, 0x00000000, 0x00, Base.GenericCondition{Base.Threads.SpinLock}(Base.IntrusiveLinkedList{Task}(nothing, nothing), Base.Threads.SpinLock(0)), (0, 139841022006336, 0)))), WebIO.JSString[WebIO.JSString(\"function () {\\n    var handler = (function (ko, koPunches) {\\n    ko.punches.enableAll();\\n    ko.bindingHandlers.numericValue = {\\n        init: function(element, valueAccessor, allBindings, data, context) {\\n            var stringified = ko.observable(ko.unwrap(valueAccessor()));\\n            stringified.subscribe(function(value) {\\n                var val = parseFloat(value);\\n                if (!isNaN(val)) {\\n                    valueAccessor()(val);\\n                }\\n            });\\n            valueAccessor().subscribe(function(value) {\\n                var str = JSON.stringify(value);\\n                if ((str == \\\"0\\\") && ([\\\"-0\\\", \\\"-0.\\\"].indexOf(stringified()) >= 0))\\n                     return;\\n                 if ([\\\"null\\\", \\\"\\\"].indexOf(str) >= 0)\\n                     return;\\n                stringified(str);\\n            });\\n            ko.applyBindingsToNode(\\n                element,\\n                {\\n                    value: stringified,\\n                    valueUpdate: allBindings.get('valueUpdate'),\\n                },\\n                context,\\n            );\\n        }\\n    };\\n    var json_data = {\\\"formatted_vals\\\":[\\\"1\\\",\\\"2\\\",\\\"3\\\",\\\"4\\\",\\\"5\\\",\\\"6\\\",\\\"7\\\",\\\"8\\\",\\\"9\\\",\\\"10\\\",\\\"11\\\",\\\"12\\\",\\\"13\\\",\\\"14\\\",\\\"15\\\",\\\"16\\\",\\\"17\\\",\\\"18\\\",\\\"19\\\",\\\"20\\\"],\\\"changes\\\":WebIO.getval({\\\"name\\\":\\\"changes\\\",\\\"scope\\\":\\\"16461535665047080778\\\",\\\"id\\\":\\\"13908687752822770195\\\",\\\"type\\\":\\\"observable\\\"}),\\\"index\\\":WebIO.getval({\\\"name\\\":\\\"index\\\",\\\"scope\\\":\\\"16461535665047080778\\\",\\\"id\\\":\\\"1066359930470112392\\\",\\\"type\\\":\\\"observable\\\"})};\\n    var self = this;\\n    function AppViewModel() {\\n        for (var key in json_data) {\\n            var el = json_data[key];\\n            this[key] = Array.isArray(el) ? ko.observableArray(el) : ko.observable(el);\\n        }\\n        \\n        [this[\\\"formatted_val\\\"]=ko.computed(    function(){\\n        return this.formatted_vals()[parseInt(this.index())-(1)];\\n    }\\n,this)]\\n        [this[\\\"changes\\\"].subscribe((function (val){!(this.valueFromJulia[\\\"changes\\\"]) ? (WebIO.setval({\\\"name\\\":\\\"changes\\\",\\\"scope\\\":\\\"16461535665047080778\\\",\\\"id\\\":\\\"13908687752822770195\\\",\\\"type\\\":\\\"observable\\\"},val)) : undefined; return this.valueFromJulia[\\\"changes\\\"]=false}),self),this[\\\"index\\\"].subscribe((function (val){!(this.valueFromJulia[\\\"index\\\"]) ? (WebIO.setval({\\\"name\\\":\\\"index\\\",\\\"scope\\\":\\\"16461535665047080778\\\",\\\"id\\\":\\\"1066359930470112392\\\",\\\"type\\\":\\\"observable\\\"},val)) : undefined; return this.valueFromJulia[\\\"index\\\"]=false}),self)]\\n        \\n    }\\n    self.model = new AppViewModel();\\n    self.valueFromJulia = {};\\n    for (var key in json_data) {\\n        self.valueFromJulia[key] = false;\\n    }\\n    ko.applyBindings(self.model, self.dom);\\n}\\n);\\n    (WebIO.importBlock({\\\"data\\\":[{\\\"name\\\":\\\"knockout\\\",\\\"type\\\":\\\"js\\\",\\\"url\\\":\\\"/assetserver/727383f2a47bd31570b7da84eee7b022dd6d7c78-knockout.js\\\"},{\\\"name\\\":\\\"knockout_punches\\\",\\\"type\\\":\\\"js\\\",\\\"url\\\":\\\"/assetserver/382b41b3b1bd9f26f75861d360bad7f8beea211f-knockout_punches.js\\\"}],\\\"type\\\":\\\"async_block\\\"})).then((imports) => handler.apply(this, imports));\\n}\\n\")])], Dict{Symbol, Any}(:className => \"field interact-widget\")), WebIO.Node{WebIO.DOM}(WebIO.DOM(:html, :div), Any[WebIO.Scope(WebIO.Node{WebIO.DOM}(WebIO.DOM(:html, :div), Any[WebIO.Node{WebIO.DOM}(WebIO.DOM(:html, :div), Any[WebIO.Node{WebIO.DOM}(WebIO.DOM(:html, :label), Any[\"scale\"], Dict{Symbol, Any}(:className => \"interact \", :style => Dict{Any, Any}(:padding => \"5px 10px 0px 10px\")))], Dict{Symbol, Any}(:className => \"interact-flex-row-left\")), WebIO.Node{WebIO.DOM}(WebIO.DOM(:html, :div), Any[WebIO.Node{WebIO.DOM}(WebIO.DOM(:html, :input), Any[], Dict{Symbol, Any}(:max => 20, :min => 1, :attributes => Dict{Any, Any}(:type => \"range\", Symbol(\"data-bind\") => \"numericValue: index, valueUpdate: 'input', event: {change: function (){this.changes(this.changes()+1)}}\", \"orient\" => \"horizontal\"), :step => 1, :className => \"slider slider is-fullwidth\", :style => Dict{Any, Any}()))], Dict{Symbol, Any}(:className => \"interact-flex-row-center\")), WebIO.Node{WebIO.DOM}(WebIO.DOM(:html, :div), Any[WebIO.Node{WebIO.DOM}(WebIO.DOM(:html, :p), Any[], Dict{Symbol, Any}(:attributes => Dict(\"data-bind\" => \"text: formatted_val\")))], Dict{Symbol, Any}(:className => \"interact-flex-row-right\"))], Dict{Symbol, Any}(:className => \"interact-flex-row interact-widget\")), Dict{String, Tuple{Observables.AbstractObservable, Union{Nothing, Bool}}}(\"changes\" => (Observable(0), nothing), \"index\" => (Observable{Any}(10), nothing)), Set{String}(), nothing, WebIO.Asset[WebIO.Asset(\"js\", \"knockout\", \"/home/dushya/.julia/packages/Knockout/HReiN/src/../assets/knockout.js\"), WebIO.Asset(\"js\", \"knockout_punches\", \"/home/dushya/.julia/packages/Knockout/HReiN/src/../assets/knockout_punches.js\"), WebIO.Asset(\"js\", nothing, \"/home/dushya/.julia/packages/InteractBase/LJXv3/src/../assets/all.js\"), WebIO.Asset(\"css\", nothing, \"/home/dushya/.julia/packages/InteractBase/LJXv3/src/../assets/style.css\"), WebIO.Asset(\"css\", nothing, \"/home/dushya/.julia/packages/Interact/PENUy/src/../assets/bulma_confined.min.css\")], Dict{Any, Any}(\"changes\" => Any[WebIO.JSString(\"(function (val){return (val!=this.model[\\\"changes\\\"]()) ? (this.valueFromJulia[\\\"changes\\\"]=true, this.model[\\\"changes\\\"](val)) : undefined})\")], \"index\" => Any[WebIO.JSString(\"(function (val){return (val!=this.model[\\\"index\\\"]()) ? (this.valueFromJulia[\\\"index\\\"]=true, this.model[\\\"index\\\"](val)) : undefined})\")]), WebIO.ConnectionPool(Channel{Any}(32), Set{WebIO.AbstractConnection}(), Base.GenericCondition{ReentrantLock}(Base.IntrusiveLinkedList{Task}(Task (runnable) @0x00007f2ede31a0e0, Task (runnable) @0x00007f2ede31a0e0), ReentrantLock(nothing, 0x00000000, 0x00, Base.GenericCondition{Base.Threads.SpinLock}(Base.IntrusiveLinkedList{Task}(nothing, nothing), Base.Threads.SpinLock(0)), (0, 139840981730928, 139841002550000)))), WebIO.JSString[WebIO.JSString(\"function () {\\n    var handler = (function (ko, koPunches) {\\n    ko.punches.enableAll();\\n    ko.bindingHandlers.numericValue = {\\n        init: function(element, valueAccessor, allBindings, data, context) {\\n            var stringified = ko.observable(ko.unwrap(valueAccessor()));\\n            stringified.subscribe(function(value) {\\n                var val = parseFloat(value);\\n                if (!isNaN(val)) {\\n                    valueAccessor()(val);\\n                }\\n            });\\n            valueAccessor().subscribe(function(value) {\\n                var str = JSON.stringify(value);\\n                if ((str == \\\"0\\\") && ([\\\"-0\\\", \\\"-0.\\\"].indexOf(stringified()) >= 0))\\n                     return;\\n                 if ([\\\"null\\\", \\\"\\\"].indexOf(str) >= 0)\\n                     return;\\n                stringified(str);\\n            });\\n            ko.applyBindingsToNode(\\n                element,\\n                {\\n                    value: stringified,\\n                    valueUpdate: allBindings.get('valueUpdate'),\\n                },\\n                context,\\n            );\\n        }\\n    };\\n    var json_data = {\\\"formatted_vals\\\":[\\\"0.1\\\",\\\"0.2\\\",\\\"0.3\\\",\\\"0.4\\\",\\\"0.5\\\",\\\"0.6\\\",\\\"0.7\\\",\\\"0.8\\\",\\\"0.9\\\",\\\"1.0\\\",\\\"1.1\\\",\\\"1.2\\\",\\\"1.3\\\",\\\"1.4\\\",\\\"1.5\\\",\\\"1.6\\\",\\\"1.7\\\",\\\"1.8\\\",\\\"1.9\\\",\\\"2.0\\\"],\\\"changes\\\":WebIO.getval({\\\"name\\\":\\\"changes\\\",\\\"scope\\\":\\\"8367660254991233097\\\",\\\"id\\\":\\\"2992107764499350611\\\",\\\"type\\\":\\\"observable\\\"}),\\\"index\\\":WebIO.getval({\\\"name\\\":\\\"index\\\",\\\"scope\\\":\\\"8367660254991233097\\\",\\\"id\\\":\\\"9949113998010829148\\\",\\\"type\\\":\\\"observable\\\"})};\\n    var self = this;\\n    function AppViewModel() {\\n        for (var key in json_data) {\\n            var el = json_data[key];\\n            this[key] = Array.isArray(el) ? ko.observableArray(el) : ko.observable(el);\\n        }\\n        \\n        [this[\\\"formatted_val\\\"]=ko.computed(    function(){\\n        return this.formatted_vals()[parseInt(this.index())-(1)];\\n    }\\n,this)]\\n        [this[\\\"changes\\\"].subscribe((function (val){!(this.valueFromJulia[\\\"changes\\\"]) ? (WebIO.setval({\\\"name\\\":\\\"changes\\\",\\\"scope\\\":\\\"8367660254991233097\\\",\\\"id\\\":\\\"2992107764499350611\\\",\\\"type\\\":\\\"observable\\\"},val)) : undefined; return this.valueFromJulia[\\\"changes\\\"]=false}),self),this[\\\"index\\\"].subscribe((function (val){!(this.valueFromJulia[\\\"index\\\"]) ? (WebIO.setval({\\\"name\\\":\\\"index\\\",\\\"scope\\\":\\\"8367660254991233097\\\",\\\"id\\\":\\\"9949113998010829148\\\",\\\"type\\\":\\\"observable\\\"},val)) : undefined; return this.valueFromJulia[\\\"index\\\"]=false}),self)]\\n        \\n    }\\n    self.model = new AppViewModel();\\n    self.valueFromJulia = {};\\n    for (var key in json_data) {\\n        self.valueFromJulia[key] = false;\\n    }\\n    ko.applyBindings(self.model, self.dom);\\n}\\n);\\n    (WebIO.importBlock({\\\"data\\\":[{\\\"name\\\":\\\"knockout\\\",\\\"type\\\":\\\"js\\\",\\\"url\\\":\\\"/assetserver/727383f2a47bd31570b7da84eee7b022dd6d7c78-knockout.js\\\"},{\\\"name\\\":\\\"knockout_punches\\\",\\\"type\\\":\\\"js\\\",\\\"url\\\":\\\"/assetserver/382b41b3b1bd9f26f75861d360bad7f8beea211f-knockout_punches.js\\\"}],\\\"type\\\":\\\"async_block\\\"})).then((imports) => handler.apply(this, imports));\\n}\\n\")])], Dict{Symbol, Any}(:className => \"field interact-widget\")), WebIO.Node{WebIO.DOM}(WebIO.DOM(:html, :div), Any[WebIO.Node{WebIO.DOM}(WebIO.DOM(:html, :div), Any[WebIO.Scope(WebIO.Node{WebIO.DOM}(WebIO.DOM(:html, :div), Any[], Dict{Symbol, Any}(:id => \"container\")), Dict{String, Tuple{Observables.AbstractObservable, Union{Nothing, Bool}}}(\"value\" => (Observable(\"\\\\;\\\\;\"), nothing)), Set{String}(), nothing, WebIO.Asset[WebIO.Asset(\"js\", nothing, \"/home/dushya/.julia/packages/InteractBase/LJXv3/src/../assets/katex.min.js\"), WebIO.Asset(\"css\", nothing, \"/home/dushya/.julia/packages/InteractBase/LJXv3/src/../assets/katex.min.css\")], Dict{Any, Any}(\"value\" => Any[WebIO.JSString(\"(function (txt){return this.k.render(txt,this.container)})\")]), WebIO.ConnectionPool(Channel{Any}(32), Set{WebIO.AbstractConnection}(), Base.GenericCondition{ReentrantLock}(Base.IntrusiveLinkedList{Task}(Task (runnable) @0x00007f2f0e150330, Task (runnable) @0x00007f2f0e150330), ReentrantLock(nothing, 0x00000000, 0x00, Base.GenericCondition{Base.Threads.SpinLock}(Base.IntrusiveLinkedList{Task}(nothing, nothing), Base.Threads.SpinLock(0)), (0, 139839290302320, 4)))), WebIO.JSString[WebIO.JSString(\"function () {\\n    var handler = ((function (k){this.k=k; this.container=this.dom.querySelector(\\\"#container\\\"); return k.render(\\\"\\\\\\\\;\\\\\\\\;\\\",this.container)}));\\n    (WebIO.importBlock({\\\"data\\\":[{\\\"name\\\":null,\\\"type\\\":\\\"js\\\",\\\"url\\\":\\\"/assetserver/dd22ed1bf1896c2748f3fe616ce0b838adc895c1-katex.min.js\\\"},{\\\"name\\\":null,\\\"type\\\":\\\"css\\\",\\\"url\\\":\\\"/assetserver/46517a424aa5e6cffc1360d7e0848b601c584ee3-katex.min.css\\\"}],\\\"type\\\":\\\"async_block\\\"})).then((imports) => handler.apply(this, imports));\\n}\\n\")])], Dict{Symbol, Any}(:className => \"interact-widget\")), WebIO.Node{WebIO.DOM}(WebIO.DOM(:html, :div), Any[WebIO.Scope(WebIO.Node{WebIO.DOM}(WebIO.DOM(:html, :button), Any[\"run\"], Dict{Symbol, Any}(:attributes => Dict{Any, Any}(\"data-bind\" => \"click: function (){this.clicks(this.clicks()+1)}, css: {'is-loading' : loading}\"), :className => \"is-medium button is-primary\", :style => Dict{String, Any}())), Dict{String, Tuple{Observables.AbstractObservable, Union{Nothing, Bool}}}(\"loading\" => (Observable(false), nothing), \"clicks\" => (Observable(0), nothing)), Set{String}(), nothing, WebIO.Asset[WebIO.Asset(\"js\", \"knockout\", \"/home/dushya/.julia/packages/Knockout/HReiN/src/../assets/knockout.js\"), WebIO.Asset(\"js\", \"knockout_punches\", \"/home/dushya/.julia/packages/Knockout/HReiN/src/../assets/knockout_punches.js\"), WebIO.Asset(\"js\", nothing, \"/home/dushya/.julia/packages/InteractBase/LJXv3/src/../assets/all.js\"), WebIO.Asset(\"css\", nothing, \"/home/dushya/.julia/packages/InteractBase/LJXv3/src/../assets/style.css\"), WebIO.Asset(\"css\", nothing, \"/home/dushya/.julia/packages/Interact/PENUy/src/../assets/bulma_confined.min.css\")], Dict{Any, Any}(\"loading\" => Any[WebIO.JSString(\"(function (val){return (val!=this.model[\\\"loading\\\"]()) ? (this.valueFromJulia[\\\"loading\\\"]=true, this.model[\\\"loading\\\"](val)) : undefined})\")], \"clicks\" => Any[WebIO.JSString(\"(function (val){return (val!=this.model[\\\"clicks\\\"]()) ? (this.valueFromJulia[\\\"clicks\\\"]=true, this.model[\\\"clicks\\\"](val)) : undefined})\")]), WebIO.ConnectionPool(Channel{Any}(32), Set{WebIO.AbstractConnection}(), Base.GenericCondition{ReentrantLock}(Base.IntrusiveLinkedList{Task}(Task (runnable) @0x00007f2f4dd7c4c0, Task (runnable) @0x00007f2f4dd7c4c0), ReentrantLock(nothing, 0x00000000, 0x00, Base.GenericCondition{Base.Threads.SpinLock}(Base.IntrusiveLinkedList{Task}(nothing, nothing), Base.Threads.SpinLock(0)), (8, 139841022006336, 0)))), WebIO.JSString[WebIO.JSString(\"function () {\\n    var handler = (function (ko, koPunches) {\\n    ko.punches.enableAll();\\n    ko.bindingHandlers.numericValue = {\\n        init: function(element, valueAccessor, allBindings, data, context) {\\n            var stringified = ko.observable(ko.unwrap(valueAccessor()));\\n            stringified.subscribe(function(value) {\\n                var val = parseFloat(value);\\n                if (!isNaN(val)) {\\n                    valueAccessor()(val);\\n                }\\n            });\\n            valueAccessor().subscribe(function(value) {\\n                var str = JSON.stringify(value);\\n                if ((str == \\\"0\\\") && ([\\\"-0\\\", \\\"-0.\\\"].indexOf(stringified()) >= 0))\\n                     return;\\n                 if ([\\\"null\\\", \\\"\\\"].indexOf(str) >= 0)\\n                     return;\\n                stringified(str);\\n            });\\n            ko.applyBindingsToNode(\\n                element,\\n                {\\n                    value: stringified,\\n                    valueUpdate: allBindings.get('valueUpdate'),\\n                },\\n                context,\\n            );\\n        }\\n    };\\n    var json_data = {\\\"loading\\\":WebIO.getval({\\\"name\\\":\\\"loading\\\",\\\"scope\\\":\\\"15482633208790095159\\\",\\\"id\\\":\\\"4476095918578341998\\\",\\\"type\\\":\\\"observable\\\"}),\\\"clicks\\\":WebIO.getval({\\\"name\\\":\\\"clicks\\\",\\\"scope\\\":\\\"15482633208790095159\\\",\\\"id\\\":\\\"14414349194028276827\\\",\\\"type\\\":\\\"observable\\\"})};\\n    var self = this;\\n    function AppViewModel() {\\n        for (var key in json_data) {\\n            var el = json_data[key];\\n            this[key] = Array.isArray(el) ? ko.observableArray(el) : ko.observable(el);\\n        }\\n        \\n        \\n        [this[\\\"loading\\\"].subscribe((function (val){!(this.valueFromJulia[\\\"loading\\\"]) ? (WebIO.setval({\\\"name\\\":\\\"loading\\\",\\\"scope\\\":\\\"15482633208790095159\\\",\\\"id\\\":\\\"4476095918578341998\\\",\\\"type\\\":\\\"observable\\\"},val)) : undefined; return this.valueFromJulia[\\\"loading\\\"]=false}),self),this[\\\"clicks\\\"].subscribe((function (val){!(this.valueFromJulia[\\\"clicks\\\"]) ? (WebIO.setval({\\\"name\\\":\\\"clicks\\\",\\\"scope\\\":\\\"15482633208790095159\\\",\\\"id\\\":\\\"14414349194028276827\\\",\\\"type\\\":\\\"observable\\\"},val)) : undefined; return this.valueFromJulia[\\\"clicks\\\"]=false}),self)]\\n        \\n    }\\n    self.model = new AppViewModel();\\n    self.valueFromJulia = {};\\n    for (var key in json_data) {\\n        self.valueFromJulia[key] = false;\\n    }\\n    ko.applyBindings(self.model, self.dom);\\n}\\n);\\n    (WebIO.importBlock({\\\"data\\\":[{\\\"name\\\":\\\"knockout\\\",\\\"type\\\":\\\"js\\\",\\\"url\\\":\\\"/assetserver/727383f2a47bd31570b7da84eee7b022dd6d7c78-knockout.js\\\"},{\\\"name\\\":\\\"knockout_punches\\\",\\\"type\\\":\\\"js\\\",\\\"url\\\":\\\"/assetserver/382b41b3b1bd9f26f75861d360bad7f8beea211f-knockout_punches.js\\\"}],\\\"type\\\":\\\"async_block\\\"})).then((imports) => handler.apply(this, imports));\\n}\\n\")])], Dict{Symbol, Any}(:className => \"field interact-widget\")), WebIO.Node{WebIO.DOM}(WebIO.DOM(:html, :div), Any[WebIO.Scope(WebIO.Node{WebIO.DOM}(WebIO.DOM(:html, :div), Any[], Dict{Symbol, Any}(:id => \"container\")), Dict{String, Tuple{Observables.AbstractObservable, Union{Nothing, Bool}}}(\"value\" => (Observable(\"\\\\;\\\\;\"), nothing)), Set{String}(), nothing, WebIO.Asset[WebIO.Asset(\"js\", nothing, \"/home/dushya/.julia/packages/InteractBase/LJXv3/src/../assets/katex.min.js\"), WebIO.Asset(\"css\", nothing, \"/home/dushya/.julia/packages/InteractBase/LJXv3/src/../assets/katex.min.css\")], Dict{Any, Any}(\"value\" => Any[WebIO.JSString(\"(function (txt){return this.k.render(txt,this.container)})\")]), WebIO.ConnectionPool(Channel{Any}(32), Set{WebIO.AbstractConnection}(), Base.GenericCondition{ReentrantLock}(Base.IntrusiveLinkedList{Task}(Task (runnable) @0x00007f2f0e150330, Task (runnable) @0x00007f2f0e150330), ReentrantLock(nothing, 0x00000000, 0x00, Base.GenericCondition{Base.Threads.SpinLock}(Base.IntrusiveLinkedList{Task}(nothing, nothing), Base.Threads.SpinLock(0)), (0, 139839290302320, 4)))), WebIO.JSString[WebIO.JSString(\"function () {\\n    var handler = ((function (k){this.k=k; this.container=this.dom.querySelector(\\\"#container\\\"); return k.render(\\\"\\\\\\\\;\\\\\\\\;\\\",this.container)}));\\n    (WebIO.importBlock({\\\"data\\\":[{\\\"name\\\":null,\\\"type\\\":\\\"js\\\",\\\"url\\\":\\\"/assetserver/dd22ed1bf1896c2748f3fe616ce0b838adc895c1-katex.min.js\\\"},{\\\"name\\\":null,\\\"type\\\":\\\"css\\\",\\\"url\\\":\\\"/assetserver/46517a424aa5e6cffc1360d7e0848b601c584ee3-katex.min.css\\\"}],\\\"type\\\":\\\"async_block\\\"})).then((imports) => handler.apply(this, imports));\\n}\\n\")])], Dict{Symbol, Any}(:className => \"interact-widget\")), WebIO.Node{WebIO.DOM}(WebIO.DOM(:html, :div), Any[WebIO.Scope(WebIO.Node{WebIO.DOM}(WebIO.DOM(:html, :button), Any[\"stop\"], Dict{Symbol, Any}(:attributes => Dict{Any, Any}(\"data-bind\" => \"click: function (){this.clicks(this.clicks()+1)}, css: {'is-loading' : loading}\"), :className => \"is-medium button is-primary\", :style => Dict{String, Any}())), Dict{String, Tuple{Observables.AbstractObservable, Union{Nothing, Bool}}}(\"loading\" => (Observable(false), nothing), \"clicks\" => (Observable(0), nothing)), Set{String}(), nothing, WebIO.Asset[WebIO.Asset(\"js\", \"knockout\", \"/home/dushya/.julia/packages/Knockout/HReiN/src/../assets/knockout.js\"), WebIO.Asset(\"js\", \"knockout_punches\", \"/home/dushya/.julia/packages/Knockout/HReiN/src/../assets/knockout_punches.js\"), WebIO.Asset(\"js\", nothing, \"/home/dushya/.julia/packages/InteractBase/LJXv3/src/../assets/all.js\"), WebIO.Asset(\"css\", nothing, \"/home/dushya/.julia/packages/InteractBase/LJXv3/src/../assets/style.css\"), WebIO.Asset(\"css\", nothing, \"/home/dushya/.julia/packages/Interact/PENUy/src/../assets/bulma_confined.min.css\")], Dict{Any, Any}(\"loading\" => Any[WebIO.JSString(\"(function (val){return (val!=this.model[\\\"loading\\\"]()) ? (this.valueFromJulia[\\\"loading\\\"]=true, this.model[\\\"loading\\\"](val)) : undefined})\")], \"clicks\" => Any[WebIO.JSString(\"(function (val){return (val!=this.model[\\\"clicks\\\"]()) ? (this.valueFromJulia[\\\"clicks\\\"]=true, this.model[\\\"clicks\\\"](val)) : undefined})\")]), WebIO.ConnectionPool(Channel{Any}(32), Set{WebIO.AbstractConnection}(), Base.GenericCondition{ReentrantLock}(Base.IntrusiveLinkedList{Task}(Task (runnable) @0x00007f2f4e877080, Task (runnable) @0x00007f2f4e877080), ReentrantLock(nothing, 0x00000000, 0x00, Base.GenericCondition{Base.Threads.SpinLock}(Base.IntrusiveLinkedList{Task}(nothing, nothing), Base.Threads.SpinLock(0)), (8, 139840945109952, 139840945109952)))), WebIO.JSString[WebIO.JSString(\"function () {\\n    var handler = (function (ko, koPunches) {\\n    ko.punches.enableAll();\\n    ko.bindingHandlers.numericValue = {\\n        init: function(element, valueAccessor, allBindings, data, context) {\\n            var stringified = ko.observable(ko.unwrap(valueAccessor()));\\n            stringified.subscribe(function(value) {\\n                var val = parseFloat(value);\\n                if (!isNaN(val)) {\\n                    valueAccessor()(val);\\n                }\\n            });\\n            valueAccessor().subscribe(function(value) {\\n                var str = JSON.stringify(value);\\n                if ((str == \\\"0\\\") && ([\\\"-0\\\", \\\"-0.\\\"].indexOf(stringified()) >= 0))\\n                     return;\\n                 if ([\\\"null\\\", \\\"\\\"].indexOf(str) >= 0)\\n                     return;\\n                stringified(str);\\n            });\\n            ko.applyBindingsToNode(\\n                element,\\n                {\\n                    value: stringified,\\n                    valueUpdate: allBindings.get('valueUpdate'),\\n                },\\n                context,\\n            );\\n        }\\n    };\\n    var json_data = {\\\"loading\\\":WebIO.getval({\\\"name\\\":\\\"loading\\\",\\\"scope\\\":\\\"16833514156736721100\\\",\\\"id\\\":\\\"1071929961530022229\\\",\\\"type\\\":\\\"observable\\\"}),\\\"clicks\\\":WebIO.getval({\\\"name\\\":\\\"clicks\\\",\\\"scope\\\":\\\"16833514156736721100\\\",\\\"id\\\":\\\"9939887662771774750\\\",\\\"type\\\":\\\"observable\\\"})};\\n    var self = this;\\n    function AppViewModel() {\\n        for (var key in json_data) {\\n            var el = json_data[key];\\n            this[key] = Array.isArray(el) ? ko.observableArray(el) : ko.observable(el);\\n        }\\n        \\n        \\n        [this[\\\"loading\\\"].subscribe((function (val){!(this.valueFromJulia[\\\"loading\\\"]) ? (WebIO.setval({\\\"name\\\":\\\"loading\\\",\\\"scope\\\":\\\"16833514156736721100\\\",\\\"id\\\":\\\"1071929961530022229\\\",\\\"type\\\":\\\"observable\\\"},val)) : undefined; return this.valueFromJulia[\\\"loading\\\"]=false}),self),this[\\\"clicks\\\"].subscribe((function (val){!(this.valueFromJulia[\\\"clicks\\\"]) ? (WebIO.setval({\\\"name\\\":\\\"clicks\\\",\\\"scope\\\":\\\"16833514156736721100\\\",\\\"id\\\":\\\"9939887662771774750\\\",\\\"type\\\":\\\"observable\\\"},val)) : undefined; return this.valueFromJulia[\\\"clicks\\\"]=false}),self)]\\n        \\n    }\\n    self.model = new AppViewModel();\\n    self.valueFromJulia = {};\\n    for (var key in json_data) {\\n        self.valueFromJulia[key] = false;\\n    }\\n    ko.applyBindings(self.model, self.dom);\\n}\\n);\\n    (WebIO.importBlock({\\\"data\\\":[{\\\"name\\\":\\\"knockout\\\",\\\"type\\\":\\\"js\\\",\\\"url\\\":\\\"/assetserver/727383f2a47bd31570b7da84eee7b022dd6d7c78-knockout.js\\\"},{\\\"name\\\":\\\"knockout_punches\\\",\\\"type\\\":\\\"js\\\",\\\"url\\\":\\\"/assetserver/382b41b3b1bd9f26f75861d360bad7f8beea211f-knockout_punches.js\\\"}],\\\"type\\\":\\\"async_block\\\"})).then((imports) => handler.apply(this, imports));\\n}\\n\")])], Dict{Symbol, Any}(:className => \"field interact-widget\"))], Dict{Symbol, Any}(:style => Dict(\"display\" => \"flex\", \"flex-direction\" => \"row\")))], Dict{Symbol, Any}(:style => Dict(\"display\" => \"flex\", \"flex-direction\" => \"column\"))), Observable(MeshCat.DisplayedVisualizer(MeshCat.CoreVisualizer(MeshCat.SceneTrees.SceneNode(nothing, nothing, Dict{String, Vector{UInt8}}(), nothing, Dict{String, MeshCat.SceneTrees.SceneNode}(\"meshcat\" => MeshCat.SceneTrees.SceneNode(nothing, UInt8[0x83, 0xa6, 0x6d, 0x61, 0x74, 0x72, 0x69, 0x78, 0xc7, 0x40  …  0x68, 0xa8, 0x2f, 0x6d, 0x65, 0x73, 0x68, 0x63, 0x61, 0x74], Dict{String, Vector{UInt8}}(), nothing, Dict{String, MeshCat.SceneTrees.SceneNode}(\"agents\" => MeshCat.SceneTrees.SceneNode(nothing, nothing, Dict{String, Vector{UInt8}}(), nothing, Dict{String, MeshCat.SceneTrees.SceneNode}(\"131sphere\" => MeshCat.SceneTrees.SceneNode(nothing, UInt8[0x83, 0xa6, 0x6d, 0x61, 0x74, 0x72, 0x69, 0x78, 0xc7, 0x40  …  0x2f, 0x31, 0x33, 0x31, 0x73, 0x70, 0x68, 0x65, 0x72, 0x65], Dict{String, Vector{UInt8}}(\"scale\" => [0x84, 0xa8, 0x70, 0x72, 0x6f, 0x70, 0x65, 0x72, 0x74, 0x79  …  0x2f, 0x31, 0x33, 0x31, 0x73, 0x70, 0x68, 0x65, 0x72, 0x65]), nothing, Dict{String, MeshCat.SceneTrees.SceneNode}(\"(0.0N0f8, 1.0N0f8, 0.0N0f8, 1.0N0f8)\" => MeshCat.SceneTrees.SceneNode(UInt8[0x83, 0xa6, 0x6f, 0x62, 0x6a, 0x65, 0x63, 0x74, 0x84, 0xaa  …  0x2c, 0x20, 0x31, 0x2e, 0x30, 0x4e, 0x30, 0x66, 0x38, 0x29], nothing, Dict{String, Vector{UInt8}}(\"visible\" => [0x84, 0xa8, 0x70, 0x72, 0x6f, 0x70, 0x65, 0x72, 0x74, 0x79  …  0x2c, 0x20, 0x31, 0x2e, 0x30, 0x4e, 0x30, 0x66, 0x38, 0x29]), nothing, Dict{String, MeshCat.SceneTrees.SceneNode}()))), \"183sphere\" => MeshCat.SceneTrees.SceneNode(nothing, UInt8[0x83, 0xa6, 0x6d, 0x61, 0x74, 0x72, 0x69, 0x78, 0xc7, 0x40  …  0x2f, 0x31, 0x38, 0x33, 0x73, 0x70, 0x68, 0x65, 0x72, 0x65], Dict{String, Vector{UInt8}}(\"scale\" => [0x84, 0xa8, 0x70, 0x72, 0x6f, 0x70, 0x65, 0x72, 0x74, 0x79  …  0x2f, 0x31, 0x38, 0x33, 0x73, 0x70, 0x68, 0x65, 0x72, 0x65]), nothing, Dict{String, MeshCat.SceneTrees.SceneNode}(\"(0.0N0f8, 1.0N0f8, 0.0N0f8, 1.0N0f8)\" => MeshCat.SceneTrees.SceneNode(UInt8[0x83, 0xa6, 0x6f, 0x62, 0x6a, 0x65, 0x63, 0x74, 0x84, 0xaa  …  0x2c, 0x20, 0x31, 0x2e, 0x30, 0x4e, 0x30, 0x66, 0x38, 0x29], nothing, Dict{String, Vector{UInt8}}(\"visible\" => [0x84, 0xa8, 0x70, 0x72, 0x6f, 0x70, 0x65, 0x72, 0x74, 0x79  …  0x2c, 0x20, 0x31, 0x2e, 0x30, 0x4e, 0x30, 0x66, 0x38, 0x29]), nothing, Dict{String, MeshCat.SceneTrees.SceneNode}()))), \"186sphere\" => MeshCat.SceneTrees.SceneNode(nothing, UInt8[0x83, 0xa6, 0x6d, 0x61, 0x74, 0x72, 0x69, 0x78, 0xc7, 0x40  …  0x2f, 0x31, 0x38, 0x36, 0x73, 0x70, 0x68, 0x65, 0x72, 0x65], Dict{String, Vector{UInt8}}(\"scale\" => [0x84, 0xa8, 0x70, 0x72, 0x6f, 0x70, 0x65, 0x72, 0x74, 0x79  …  0x2f, 0x31, 0x38, 0x36, 0x73, 0x70, 0x68, 0x65, 0x72, 0x65]), nothing, Dict{String, MeshCat.SceneTrees.SceneNode}(\"(0.0N0f8, 1.0N0f8, 0.0N0f8, 1.0N0f8)\" => MeshCat.SceneTrees.SceneNode(UInt8[0x83, 0xa6, 0x6f, 0x62, 0x6a, 0x65, 0x63, 0x74, 0x84, 0xaa  …  0x2c, 0x20, 0x31, 0x2e, 0x30, 0x4e, 0x30, 0x66, 0x38, 0x29], nothing, Dict{String, Vector{UInt8}}(\"visible\" => [0x84, 0xa8, 0x70, 0x72, 0x6f, 0x70, 0x65, 0x72, 0x74, 0x79  …  0x2c, 0x20, 0x31, 0x2e, 0x30, 0x4e, 0x30, 0x66, 0x38, 0x29]), nothing, Dict{String, MeshCat.SceneTrees.SceneNode}()))), \"87sphere\" => MeshCat.SceneTrees.SceneNode(nothing, UInt8[0x83, 0xa6, 0x6d, 0x61, 0x74, 0x72, 0x69, 0x78, 0xc7, 0x40  …  0x73, 0x2f, 0x38, 0x37, 0x73, 0x70, 0x68, 0x65, 0x72, 0x65], Dict{String, Vector{UInt8}}(\"scale\" => [0x84, 0xa8, 0x70, 0x72, 0x6f, 0x70, 0x65, 0x72, 0x74, 0x79  …  0x73, 0x2f, 0x38, 0x37, 0x73, 0x70, 0x68, 0x65, 0x72, 0x65]), nothing, Dict{String, MeshCat.SceneTrees.SceneNode}(\"(0.0N0f8, 1.0N0f8, 0.0N0f8, 1.0N0f8)\" => MeshCat.SceneTrees.SceneNode(UInt8[0x83, 0xa6, 0x6f, 0x62, 0x6a, 0x65, 0x63, 0x74, 0x84, 0xaa  …  0x2c, 0x20, 0x31, 0x2e, 0x30, 0x4e, 0x30, 0x66, 0x38, 0x29], nothing, Dict{String, Vector{UInt8}}(\"visible\" => [0x84, 0xa8, 0x70, 0x72, 0x6f, 0x70, 0x65, 0x72, 0x74, 0x79  …  0x2c, 0x20, 0x31, 0x2e, 0x30, 0x4e, 0x30, 0x66, 0x38, 0x29]), nothing, Dict{String, MeshCat.SceneTrees.SceneNode}()))), \"130sphere\" => MeshCat.SceneTrees.SceneNode(nothing, UInt8[0x83, 0xa6, 0x6d, 0x61, 0x74, 0x72, 0x69, 0x78, 0xc7, 0x40  …  0x2f, 0x31, 0x33, 0x30, 0x73, 0x70, 0x68, 0x65, 0x72, 0x65], Dict{String, Vector{UInt8}}(\"scale\" => [0x84, 0xa8, 0x70, 0x72, 0x6f, 0x70, 0x65, 0x72, 0x74, 0x79  …  0x2f, 0x31, 0x33, 0x30, 0x73, 0x70, 0x68, 0x65, 0x72, 0x65]), nothing, Dict{String, MeshCat.SceneTrees.SceneNode}(\"(1.0N0f8, 0.0N0f8, 0.0N0f8, 1.0N0f8)\" => MeshCat.SceneTrees.SceneNode(UInt8[0x83, 0xa6, 0x6f, 0x62, 0x6a, 0x65, 0x63, 0x74, 0x84, 0xaa  …  0x2c, 0x20, 0x31, 0x2e, 0x30, 0x4e, 0x30, 0x66, 0x38, 0x29], nothing, Dict{String, Vector{UInt8}}(\"visible\" => [0x84, 0xa8, 0x70, 0x72, 0x6f, 0x70, 0x65, 0x72, 0x74, 0x79  …  0x2c, 0x20, 0x31, 0x2e, 0x30, 0x4e, 0x30, 0x66, 0x38, 0x29]), nothing, Dict{String, MeshCat.SceneTrees.SceneNode}()))), \"51sphere\" => MeshCat.SceneTrees.SceneNode(nothing, UInt8[0x83, 0xa6, 0x6d, 0x61, 0x74, 0x72, 0x69, 0x78, 0xc7, 0x40  …  0x73, 0x2f, 0x35, 0x31, 0x73, 0x70, 0x68, 0x65, 0x72, 0x65], Dict{String, Vector{UInt8}}(\"scale\" => [0x84, 0xa8, 0x70, 0x72, 0x6f, 0x70, 0x65, 0x72, 0x74, 0x79  …  0x73, 0x2f, 0x35, 0x31, 0x73, 0x70, 0x68, 0x65, 0x72, 0x65]), nothing, Dict{String, MeshCat.SceneTrees.SceneNode}(\"(1.0N0f8, 0.0N0f8, 0.0N0f8, 1.0N0f8)\" => MeshCat.SceneTrees.SceneNode(UInt8[0x83, 0xa6, 0x6f, 0x62, 0x6a, 0x65, 0x63, 0x74, 0x84, 0xaa  …  0x2c, 0x20, 0x31, 0x2e, 0x30, 0x4e, 0x30, 0x66, 0x38, 0x29], nothing, Dict{String, Vector{UInt8}}(\"visible\" => [0x84, 0xa8, 0x70, 0x72, 0x6f, 0x70, 0x65, 0x72, 0x74, 0x79  …  0x2c, 0x20, 0x31, 0x2e, 0x30, 0x4e, 0x30, 0x66, 0x38, 0x29]), nothing, Dict{String, MeshCat.SceneTrees.SceneNode}()))), \"9sphere\" => MeshCat.SceneTrees.SceneNode(nothing, UInt8[0x83, 0xa6, 0x6d, 0x61, 0x74, 0x72, 0x69, 0x78, 0xc7, 0x40  …  0x74, 0x73, 0x2f, 0x39, 0x73, 0x70, 0x68, 0x65, 0x72, 0x65], Dict{String, Vector{UInt8}}(\"scale\" => [0x84, 0xa8, 0x70, 0x72, 0x6f, 0x70, 0x65, 0x72, 0x74, 0x79  …  0x74, 0x73, 0x2f, 0x39, 0x73, 0x70, 0x68, 0x65, 0x72, 0x65]), nothing, Dict{String, MeshCat.SceneTrees.SceneNode}(\"(1.0N0f8, 0.0N0f8, 0.0N0f8, 1.0N0f8)\" => MeshCat.SceneTrees.SceneNode(UInt8[0x83, 0xa6, 0x6f, 0x62, 0x6a, 0x65, 0x63, 0x74, 0x84, 0xaa  …  0x2c, 0x20, 0x31, 0x2e, 0x30, 0x4e, 0x30, 0x66, 0x38, 0x29], nothing, Dict{String, Vector{UInt8}}(\"visible\" => [0x84, 0xa8, 0x70, 0x72, 0x6f, 0x70, 0x65, 0x72, 0x74, 0x79  …  0x2c, 0x20, 0x31, 0x2e, 0x30, 0x4e, 0x30, 0x66, 0x38, 0x29]), nothing, Dict{String, MeshCat.SceneTrees.SceneNode}()))), \"154sphere\" => MeshCat.SceneTrees.SceneNode(nothing, UInt8[0x83, 0xa6, 0x6d, 0x61, 0x74, 0x72, 0x69, 0x78, 0xc7, 0x40  …  0x2f, 0x31, 0x35, 0x34, 0x73, 0x70, 0x68, 0x65, 0x72, 0x65], Dict{String, Vector{UInt8}}(\"scale\" => [0x84, 0xa8, 0x70, 0x72, 0x6f, 0x70, 0x65, 0x72, 0x74, 0x79  …  0x2f, 0x31, 0x35, 0x34, 0x73, 0x70, 0x68, 0x65, 0x72, 0x65]), nothing, Dict{String, MeshCat.SceneTrees.SceneNode}(\"(0.0N0f8, 1.0N0f8, 0.0N0f8, 1.0N0f8)\" => MeshCat.SceneTrees.SceneNode(UInt8[0x83, 0xa6, 0x6f, 0x62, 0x6a, 0x65, 0x63, 0x74, 0x84, 0xaa  …  0x2c, 0x20, 0x31, 0x2e, 0x30, 0x4e, 0x30, 0x66, 0x38, 0x29], nothing, Dict{String, Vector{UInt8}}(\"visible\" => [0x84, 0xa8, 0x70, 0x72, 0x6f, 0x70, 0x65, 0x72, 0x74, 0x79  …  0x2c, 0x20, 0x31, 0x2e, 0x30, 0x4e, 0x30, 0x66, 0x38, 0x29]), nothing, Dict{String, MeshCat.SceneTrees.SceneNode}()))), \"102sphere\" => MeshCat.SceneTrees.SceneNode(nothing, UInt8[0x83, 0xa6, 0x6d, 0x61, 0x74, 0x72, 0x69, 0x78, 0xc7, 0x40  …  0x2f, 0x31, 0x30, 0x32, 0x73, 0x70, 0x68, 0x65, 0x72, 0x65], Dict{String, Vector{UInt8}}(\"scale\" => [0x84, 0xa8, 0x70, 0x72, 0x6f, 0x70, 0x65, 0x72, 0x74, 0x79  …  0x2f, 0x31, 0x30, 0x32, 0x73, 0x70, 0x68, 0x65, 0x72, 0x65]), nothing, Dict{String, MeshCat.SceneTrees.SceneNode}(\"(0.0N0f8, 1.0N0f8, 0.0N0f8, 1.0N0f8)\" => MeshCat.SceneTrees.SceneNode(UInt8[0x83, 0xa6, 0x6f, 0x62, 0x6a, 0x65, 0x63, 0x74, 0x84, 0xaa  …  0x2c, 0x20, 0x31, 0x2e, 0x30, 0x4e, 0x30, 0x66, 0x38, 0x29], nothing, Dict{String, Vector{UInt8}}(\"visible\" => [0x84, 0xa8, 0x70, 0x72, 0x6f, 0x70, 0x65, 0x72, 0x74, 0x79  …  0x2c, 0x20, 0x31, 0x2e, 0x30, 0x4e, 0x30, 0x66, 0x38, 0x29]), nothing, Dict{String, MeshCat.SceneTrees.SceneNode}()))), \"64sphere\" => MeshCat.SceneTrees.SceneNode(nothing, UInt8[0x83, 0xa6, 0x6d, 0x61, 0x74, 0x72, 0x69, 0x78, 0xc7, 0x40  …  0x73, 0x2f, 0x36, 0x34, 0x73, 0x70, 0x68, 0x65, 0x72, 0x65], Dict{String, Vector{UInt8}}(\"scale\" => [0x84, 0xa8, 0x70, 0x72, 0x6f, 0x70, 0x65, 0x72, 0x74, 0x79  …  0x73, 0x2f, 0x36, 0x34, 0x73, 0x70, 0x68, 0x65, 0x72, 0x65]), nothing, Dict{String, MeshCat.SceneTrees.SceneNode}(\"(0.0N0f8, 1.0N0f8, 0.0N0f8, 1.0N0f8)\" => MeshCat.SceneTrees.SceneNode(UInt8[0x83, 0xa6, 0x6f, 0x62, 0x6a, 0x65, 0x63, 0x74, 0x84, 0xaa  …  0x2c, 0x20, 0x31, 0x2e, 0x30, 0x4e, 0x30, 0x66, 0x38, 0x29], nothing, Dict{String, Vector{UInt8}}(\"visible\" => [0x84, 0xa8, 0x70, 0x72, 0x6f, 0x70, 0x65, 0x72, 0x74, 0x79  …  0x2c, 0x20, 0x31, 0x2e, 0x30, 0x4e, 0x30, 0x66, 0x38, 0x29]), nothing, Dict{String, MeshCat.SceneTrees.SceneNode}())))…)), \"bbox_line_segments\" => MeshCat.SceneTrees.SceneNode(nothing, nothing, Dict{String, Vector{UInt8}}(), nothing, Dict{String, MeshCat.SceneTrees.SceneNode}(\"4\" => MeshCat.SceneTrees.SceneNode(UInt8[0x83, 0xa6, 0x6f, 0x62, 0x6a, 0x65, 0x63, 0x74, 0x84, 0xaa  …  0x73, 0x65, 0x67, 0x6d, 0x65, 0x6e, 0x74, 0x73, 0x2f, 0x34], nothing, Dict{String, Vector{UInt8}}(), nothing, Dict{String, MeshCat.SceneTrees.SceneNode}()), \"1\" => MeshCat.SceneTrees.SceneNode(UInt8[0x83, 0xa6, 0x6f, 0x62, 0x6a, 0x65, 0x63, 0x74, 0x84, 0xaa  …  0x73, 0x65, 0x67, 0x6d, 0x65, 0x6e, 0x74, 0x73, 0x2f, 0x31], nothing, Dict{String, Vector{UInt8}}(), nothing, Dict{String, MeshCat.SceneTrees.SceneNode}()), \"12\" => MeshCat.SceneTrees.SceneNode(UInt8[0x83, 0xa6, 0x6f, 0x62, 0x6a, 0x65, 0x63, 0x74, 0x84, 0xaa  …  0x65, 0x67, 0x6d, 0x65, 0x6e, 0x74, 0x73, 0x2f, 0x31, 0x32], nothing, Dict{String, Vector{UInt8}}(), nothing, Dict{String, MeshCat.SceneTrees.SceneNode}()), \"2\" => MeshCat.SceneTrees.SceneNode(UInt8[0x83, 0xa6, 0x6f, 0x62, 0x6a, 0x65, 0x63, 0x74, 0x84, 0xaa  …  0x73, 0x65, 0x67, 0x6d, 0x65, 0x6e, 0x74, 0x73, 0x2f, 0x32], nothing, Dict{String, Vector{UInt8}}(), nothing, Dict{String, MeshCat.SceneTrees.SceneNode}()), \"6\" => MeshCat.SceneTrees.SceneNode(UInt8[0x83, 0xa6, 0x6f, 0x62, 0x6a, 0x65, 0x63, 0x74, 0x84, 0xaa  …  0x73, 0x65, 0x67, 0x6d, 0x65, 0x6e, 0x74, 0x73, 0x2f, 0x36], nothing, Dict{String, Vector{UInt8}}(), nothing, Dict{String, MeshCat.SceneTrees.SceneNode}()), \"11\" => MeshCat.SceneTrees.SceneNode(UInt8[0x83, 0xa6, 0x6f, 0x62, 0x6a, 0x65, 0x63, 0x74, 0x84, 0xaa  …  0x65, 0x67, 0x6d, 0x65, 0x6e, 0x74, 0x73, 0x2f, 0x31, 0x31], nothing, Dict{String, Vector{UInt8}}(), nothing, Dict{String, MeshCat.SceneTrees.SceneNode}()), \"5\" => MeshCat.SceneTrees.SceneNode(UInt8[0x83, 0xa6, 0x6f, 0x62, 0x6a, 0x65, 0x63, 0x74, 0x84, 0xaa  …  0x73, 0x65, 0x67, 0x6d, 0x65, 0x6e, 0x74, 0x73, 0x2f, 0x35], nothing, Dict{String, Vector{UInt8}}(), nothing, Dict{String, MeshCat.SceneTrees.SceneNode}()), \"7\" => MeshCat.SceneTrees.SceneNode(UInt8[0x83, 0xa6, 0x6f, 0x62, 0x6a, 0x65, 0x63, 0x74, 0x84, 0xaa  …  0x73, 0x65, 0x67, 0x6d, 0x65, 0x6e, 0x74, 0x73, 0x2f, 0x37], nothing, Dict{String, Vector{UInt8}}(), nothing, Dict{String, MeshCat.SceneTrees.SceneNode}()), \"8\" => MeshCat.SceneTrees.SceneNode(UInt8[0x83, 0xa6, 0x6f, 0x62, 0x6a, 0x65, 0x63, 0x74, 0x84, 0xaa  …  0x73, 0x65, 0x67, 0x6d, 0x65, 0x6e, 0x74, 0x73, 0x2f, 0x38], nothing, Dict{String, Vector{UInt8}}(), nothing, Dict{String, MeshCat.SceneTrees.SceneNode}()), \"10\" => MeshCat.SceneTrees.SceneNode(UInt8[0x83, 0xa6, 0x6f, 0x62, 0x6a, 0x65, 0x63, 0x74, 0x84, 0xaa  …  0x65, 0x67, 0x6d, 0x65, 0x6e, 0x74, 0x73, 0x2f, 0x31, 0x30], nothing, Dict{String, Vector{UInt8}}(), nothing, Dict{String, MeshCat.SceneTrees.SceneNode}())…)))), \"Axes\" => MeshCat.SceneTrees.SceneNode(nothing, nothing, Dict{String, Vector{UInt8}}(), nothing, Dict{String, MeshCat.SceneTrees.SceneNode}(\"<object>\" => MeshCat.SceneTrees.SceneNode(UInt8[0x83, 0xa6, 0x6f, 0x62, 0x6a, 0x65, 0x63, 0x74, 0x84, 0xaa  …  0x73, 0x2f, 0x3c, 0x6f, 0x62, 0x6a, 0x65, 0x63, 0x74, 0x3e], UInt8[0x83, 0xa6, 0x6d, 0x61, 0x74, 0x72, 0x69, 0x78, 0xc7, 0x40  …  0x73, 0x2f, 0x3c, 0x6f, 0x62, 0x6a, 0x65, 0x63, 0x74, 0x3e], Dict{String, Vector{UInt8}}(), nothing, Dict{String, MeshCat.SceneTrees.SceneNode}()))))), Set{HTTP.WebSockets.WebSocket}(), ip\"127.0.0.1\", 8720))), WebIO.Node{WebIO.DOM}(WebIO.DOM(:html, :div), Any[WebIO.Scope(WebIO.Node{WebIO.DOM}(WebIO.DOM(:html, :div), Any[], Dict{Symbol, Any}(:id => \"container\")), Dict{String, Tuple{Observables.AbstractObservable, Union{Nothing, Bool}}}(\"value\" => (Observable(\"\\\\;\\\\;\"), nothing)), Set{String}(), nothing, WebIO.Asset[WebIO.Asset(\"js\", nothing, \"/home/dushya/.julia/packages/InteractBase/LJXv3/src/../assets/katex.min.js\"), WebIO.Asset(\"css\", nothing, \"/home/dushya/.julia/packages/InteractBase/LJXv3/src/../assets/katex.min.css\")], Dict{Any, Any}(\"value\" => Any[WebIO.JSString(\"(function (txt){return this.k.render(txt,this.container)})\")]), WebIO.ConnectionPool(Channel{Any}(32), Set{WebIO.AbstractConnection}(), Base.GenericCondition{ReentrantLock}(Base.IntrusiveLinkedList{Task}(Task (runnable) @0x00007f2f0e150330, Task (runnable) @0x00007f2f0e150330), ReentrantLock(nothing, 0x00000000, 0x00, Base.GenericCondition{Base.Threads.SpinLock}(Base.IntrusiveLinkedList{Task}(nothing, nothing), Base.Threads.SpinLock(0)), (0, 139839290302320, 4)))), WebIO.JSString[WebIO.JSString(\"function () {\\n    var handler = ((function (k){this.k=k; this.container=this.dom.querySelector(\\\"#container\\\"); return k.render(\\\"\\\\\\\\;\\\\\\\\;\\\",this.container)}));\\n    (WebIO.importBlock({\\\"data\\\":[{\\\"name\\\":null,\\\"type\\\":\\\"js\\\",\\\"url\\\":\\\"/assetserver/dd22ed1bf1896c2748f3fe616ce0b838adc895c1-katex.min.js\\\"},{\\\"name\\\":null,\\\"type\\\":\\\"css\\\",\\\"url\\\":\\\"/assetserver/46517a424aa5e6cffc1360d7e0848b601c584ee3-katex.min.css\\\"}],\\\"type\\\":\\\"async_block\\\"})).then((imports) => handler.apply(this, imports));\\n}\\n\")])], Dict{Symbol, Any}(:className => \"interact-widget\")), WebIO.Node{WebIO.DOM}(WebIO.DOM(:html, :div), Any[Observable(Plot{Plots.GRBackend() n=1})], Dict{Symbol, Any}(:style => Dict(\"display\" => \"flex\", \"flex-direction\" => \"column\")))], Dict{Symbol, Any}(:style => Dict(\"display\" => \"flex\", \"flex-direction\" => \"row\")))], Dict{Symbol, Any}(:style => Dict(\"display\" => \"flex\", \"flex-direction\" => \"column\")))"
      ]
     },
     "execution_count": 8,
     "metadata": {
      "application/vnd.webio.node+json": {
       "kernelId": "c8985f39-da16-41e6-9a33-d70f5985d3f9"
      }
     },
     "output_type": "execute_result"
    }
   ],
   "source": [
    "animate_sim(model, 20, agent_plots = Dict(\n",
    "        \"happy\"=> ag -> ag.mood == happy ? 1 : 0\n",
    "        ))"
   ]
  },
  {
   "cell_type": "markdown",
   "metadata": {},
   "source": [
    "After defining the `step_rule!` function we can also choose to create an interactive application (which currently works in Jupyter with WebIO installation) as "
   ]
  },
  {
   "cell_type": "code",
   "execution_count": 9,
   "metadata": {},
   "outputs": [
    {
     "name": "stderr",
     "output_type": "stream",
     "text": [
      "\u001b[36m\u001b[1m[ \u001b[22m\u001b[39m\u001b[36m\u001b[1mInfo: \u001b[22m\u001b[39mListening on: 127.0.0.1:8721, thread id: 1\n",
      "\u001b[36m\u001b[1m┌ \u001b[22m\u001b[39m\u001b[36m\u001b[1mInfo: \u001b[22m\u001b[39mMeshCat server started. You can open the visualizer by visiting the following URL in your browser:\n",
      "\u001b[36m\u001b[1m└ \u001b[22m\u001b[39mhttp://127.0.0.1:8721\n"
     ]
    },
    {
     "data": {
      "application/vnd.webio.node+json": {
       "children": [
        {
         "children": [
          {
           "children": [
            {
             "children": [
              {
               "children": [
                {
                 "children": [
                  {
                   "children": [
                    {
                     "children": [
                      "time"
                     ],
                     "instanceArgs": {
                      "namespace": "html",
                      "tag": "label"
                     },
                     "nodeType": "DOM",
                     "props": {
                      "className": "interact ",
                      "style": {
                       "padding": "5px 10px 0px 10px"
                      }
                     },
                     "type": "node"
                    }
                   ],
                   "instanceArgs": {
                    "namespace": "html",
                    "tag": "div"
                   },
                   "nodeType": "DOM",
                   "props": {
                    "className": "interact-flex-row-left"
                   },
                   "type": "node"
                  },
                  {
                   "children": [
                    {
                     "children": [],
                     "instanceArgs": {
                      "namespace": "html",
                      "tag": "input"
                     },
                     "nodeType": "DOM",
                     "props": {
                      "attributes": {
                       "data-bind": "numericValue: index, valueUpdate: 'input', event: {change: function (){this.changes(this.changes()+1)}}",
                       "orient": "horizontal",
                       "type": "range"
                      },
                      "className": "slider slider is-fullwidth",
                      "max": 200,
                      "min": 1,
                      "step": 1,
                      "style": {}
                     },
                     "type": "node"
                    }
                   ],
                   "instanceArgs": {
                    "namespace": "html",
                    "tag": "div"
                   },
                   "nodeType": "DOM",
                   "props": {
                    "className": "interact-flex-row-center"
                   },
                   "type": "node"
                  },
                  {
                   "children": [
                    {
                     "children": [],
                     "instanceArgs": {
                      "namespace": "html",
                      "tag": "p"
                     },
                     "nodeType": "DOM",
                     "props": {
                      "attributes": {
                       "data-bind": "text: formatted_val"
                      }
                     },
                     "type": "node"
                    }
                   ],
                   "instanceArgs": {
                    "namespace": "html",
                    "tag": "div"
                   },
                   "nodeType": "DOM",
                   "props": {
                    "className": "interact-flex-row-right"
                   },
                   "type": "node"
                  }
                 ],
                 "instanceArgs": {
                  "namespace": "html",
                  "tag": "div"
                 },
                 "nodeType": "DOM",
                 "props": {
                  "className": "interact-flex-row interact-widget"
                 },
                 "type": "node"
                }
               ],
               "instanceArgs": {
                "handlers": {
                 "changes": [
                  "(function (val){return (val!=this.model[\"changes\"]()) ? (this.valueFromJulia[\"changes\"]=true, this.model[\"changes\"](val)) : undefined})"
                 ],
                 "index": [
                  "(function (val){return (val!=this.model[\"index\"]()) ? (this.valueFromJulia[\"index\"]=true, this.model[\"index\"](val)) : undefined})"
                 ]
                },
                "id": "8687053193877195382",
                "imports": {
                 "data": [
                  {
                   "name": "knockout",
                   "type": "js",
                   "url": "/assetserver/727383f2a47bd31570b7da84eee7b022dd6d7c78-knockout.js"
                  },
                  {
                   "name": "knockout_punches",
                   "type": "js",
                   "url": "/assetserver/382b41b3b1bd9f26f75861d360bad7f8beea211f-knockout_punches.js"
                  },
                  {
                   "name": null,
                   "type": "js",
                   "url": "/assetserver/5ab20f1060420992a9b82a65b735dee4d81ef413-all.js"
                  },
                  {
                   "name": null,
                   "type": "css",
                   "url": "/assetserver/1cc0ed62837210b80a182cc3676512f895dab686-style.css"
                  },
                  {
                   "name": null,
                   "type": "css",
                   "url": "/assetserver/2eee816f616df3549d7044d45e744fbf8d42bfa1-bulma_confined.min.css"
                  }
                 ],
                 "type": "async_block"
                },
                "mount_callbacks": [
                 "function () {\n    var handler = (function (ko, koPunches) {\n    ko.punches.enableAll();\n    ko.bindingHandlers.numericValue = {\n        init: function(element, valueAccessor, allBindings, data, context) {\n            var stringified = ko.observable(ko.unwrap(valueAccessor()));\n            stringified.subscribe(function(value) {\n                var val = parseFloat(value);\n                if (!isNaN(val)) {\n                    valueAccessor()(val);\n                }\n            });\n            valueAccessor().subscribe(function(value) {\n                var str = JSON.stringify(value);\n                if ((str == \"0\") && ([\"-0\", \"-0.\"].indexOf(stringified()) >= 0))\n                     return;\n                 if ([\"null\", \"\"].indexOf(str) >= 0)\n                     return;\n                stringified(str);\n            });\n            ko.applyBindingsToNode(\n                element,\n                {\n                    value: stringified,\n                    valueUpdate: allBindings.get('valueUpdate'),\n                },\n                context,\n            );\n        }\n    };\n    var json_data = {\"formatted_vals\":[\"1\",\"2\",\"3\",\"4\",\"5\",\"6\",\"7\",\"8\",\"9\",\"10\",\"11\",\"12\",\"13\",\"14\",\"15\",\"16\",\"17\",\"18\",\"19\",\"20\",\"21\",\"22\",\"23\",\"24\",\"25\",\"26\",\"27\",\"28\",\"29\",\"30\",\"31\",\"32\",\"33\",\"34\",\"35\",\"36\",\"37\",\"38\",\"39\",\"40\",\"41\",\"42\",\"43\",\"44\",\"45\",\"46\",\"47\",\"48\",\"49\",\"50\",\"51\",\"52\",\"53\",\"54\",\"55\",\"56\",\"57\",\"58\",\"59\",\"60\",\"61\",\"62\",\"63\",\"64\",\"65\",\"66\",\"67\",\"68\",\"69\",\"70\",\"71\",\"72\",\"73\",\"74\",\"75\",\"76\",\"77\",\"78\",\"79\",\"80\",\"81\",\"82\",\"83\",\"84\",\"85\",\"86\",\"87\",\"88\",\"89\",\"90\",\"91\",\"92\",\"93\",\"94\",\"95\",\"96\",\"97\",\"98\",\"99\",\"100\",\"101\",\"102\",\"103\",\"104\",\"105\",\"106\",\"107\",\"108\",\"109\",\"110\",\"111\",\"112\",\"113\",\"114\",\"115\",\"116\",\"117\",\"118\",\"119\",\"120\",\"121\",\"122\",\"123\",\"124\",\"125\",\"126\",\"127\",\"128\",\"129\",\"130\",\"131\",\"132\",\"133\",\"134\",\"135\",\"136\",\"137\",\"138\",\"139\",\"140\",\"141\",\"142\",\"143\",\"144\",\"145\",\"146\",\"147\",\"148\",\"149\",\"150\",\"151\",\"152\",\"153\",\"154\",\"155\",\"156\",\"157\",\"158\",\"159\",\"160\",\"161\",\"162\",\"163\",\"164\",\"165\",\"166\",\"167\",\"168\",\"169\",\"170\",\"171\",\"172\",\"173\",\"174\",\"175\",\"176\",\"177\",\"178\",\"179\",\"180\",\"181\",\"182\",\"183\",\"184\",\"185\",\"186\",\"187\",\"188\",\"189\",\"190\",\"191\",\"192\",\"193\",\"194\",\"195\",\"196\",\"197\",\"198\",\"199\",\"200\"],\"changes\":WebIO.getval({\"name\":\"changes\",\"scope\":\"8687053193877195382\",\"id\":\"14234392148292000791\",\"type\":\"observable\"}),\"index\":WebIO.getval({\"name\":\"index\",\"scope\":\"8687053193877195382\",\"id\":\"17501876058121486726\",\"type\":\"observable\"})};\n    var self = this;\n    function AppViewModel() {\n        for (var key in json_data) {\n            var el = json_data[key];\n            this[key] = Array.isArray(el) ? ko.observableArray(el) : ko.observable(el);\n        }\n        \n        [this[\"formatted_val\"]=ko.computed(    function(){\n        return this.formatted_vals()[parseInt(this.index())-(1)];\n    }\n,this)]\n        [this[\"changes\"].subscribe((function (val){!(this.valueFromJulia[\"changes\"]) ? (WebIO.setval({\"name\":\"changes\",\"scope\":\"8687053193877195382\",\"id\":\"14234392148292000791\",\"type\":\"observable\"},val)) : undefined; return this.valueFromJulia[\"changes\"]=false}),self),this[\"index\"].subscribe((function (val){!(this.valueFromJulia[\"index\"]) ? (WebIO.setval({\"name\":\"index\",\"scope\":\"8687053193877195382\",\"id\":\"17501876058121486726\",\"type\":\"observable\"},val)) : undefined; return this.valueFromJulia[\"index\"]=false}),self)]\n        \n    }\n    self.model = new AppViewModel();\n    self.valueFromJulia = {};\n    for (var key in json_data) {\n        self.valueFromJulia[key] = false;\n    }\n    ko.applyBindings(self.model, self.dom);\n}\n);\n    (WebIO.importBlock({\"data\":[{\"name\":\"knockout\",\"type\":\"js\",\"url\":\"/assetserver/727383f2a47bd31570b7da84eee7b022dd6d7c78-knockout.js\"},{\"name\":\"knockout_punches\",\"type\":\"js\",\"url\":\"/assetserver/382b41b3b1bd9f26f75861d360bad7f8beea211f-knockout_punches.js\"}],\"type\":\"async_block\"})).then((imports) => handler.apply(this, imports));\n}\n"
                ],
                "observables": {
                 "changes": {
                  "id": "14234392148292000791",
                  "sync": false,
                  "value": 0
                 },
                 "index": {
                  "id": "17501876058121486726",
                  "sync": true,
                  "value": 1
                 }
                },
                "systemjs_options": null
               },
               "nodeType": "Scope",
               "props": {},
               "type": "node"
              }
             ],
             "instanceArgs": {
              "namespace": "html",
              "tag": "div"
             },
             "nodeType": "DOM",
             "props": {
              "className": "field interact-widget"
             },
             "type": "node"
            },
            {
             "children": [
              {
               "children": [
                {
                 "children": [
                  {
                   "children": [
                    {
                     "children": [
                      "scale"
                     ],
                     "instanceArgs": {
                      "namespace": "html",
                      "tag": "label"
                     },
                     "nodeType": "DOM",
                     "props": {
                      "className": "interact ",
                      "style": {
                       "padding": "5px 10px 0px 10px"
                      }
                     },
                     "type": "node"
                    }
                   ],
                   "instanceArgs": {
                    "namespace": "html",
                    "tag": "div"
                   },
                   "nodeType": "DOM",
                   "props": {
                    "className": "interact-flex-row-left"
                   },
                   "type": "node"
                  },
                  {
                   "children": [
                    {
                     "children": [],
                     "instanceArgs": {
                      "namespace": "html",
                      "tag": "input"
                     },
                     "nodeType": "DOM",
                     "props": {
                      "attributes": {
                       "data-bind": "numericValue: index, valueUpdate: 'input', event: {change: function (){this.changes(this.changes()+1)}}",
                       "orient": "horizontal",
                       "type": "range"
                      },
                      "className": "slider slider is-fullwidth",
                      "max": 20,
                      "min": 1,
                      "step": 1,
                      "style": {}
                     },
                     "type": "node"
                    }
                   ],
                   "instanceArgs": {
                    "namespace": "html",
                    "tag": "div"
                   },
                   "nodeType": "DOM",
                   "props": {
                    "className": "interact-flex-row-center"
                   },
                   "type": "node"
                  },
                  {
                   "children": [
                    {
                     "children": [],
                     "instanceArgs": {
                      "namespace": "html",
                      "tag": "p"
                     },
                     "nodeType": "DOM",
                     "props": {
                      "attributes": {
                       "data-bind": "text: formatted_val"
                      }
                     },
                     "type": "node"
                    }
                   ],
                   "instanceArgs": {
                    "namespace": "html",
                    "tag": "div"
                   },
                   "nodeType": "DOM",
                   "props": {
                    "className": "interact-flex-row-right"
                   },
                   "type": "node"
                  }
                 ],
                 "instanceArgs": {
                  "namespace": "html",
                  "tag": "div"
                 },
                 "nodeType": "DOM",
                 "props": {
                  "className": "interact-flex-row interact-widget"
                 },
                 "type": "node"
                }
               ],
               "instanceArgs": {
                "handlers": {
                 "changes": [
                  "(function (val){return (val!=this.model[\"changes\"]()) ? (this.valueFromJulia[\"changes\"]=true, this.model[\"changes\"](val)) : undefined})"
                 ],
                 "index": [
                  "(function (val){return (val!=this.model[\"index\"]()) ? (this.valueFromJulia[\"index\"]=true, this.model[\"index\"](val)) : undefined})"
                 ]
                },
                "id": "18126745280935451549",
                "imports": {
                 "data": [
                  {
                   "name": "knockout",
                   "type": "js",
                   "url": "/assetserver/727383f2a47bd31570b7da84eee7b022dd6d7c78-knockout.js"
                  },
                  {
                   "name": "knockout_punches",
                   "type": "js",
                   "url": "/assetserver/382b41b3b1bd9f26f75861d360bad7f8beea211f-knockout_punches.js"
                  },
                  {
                   "name": null,
                   "type": "js",
                   "url": "/assetserver/5ab20f1060420992a9b82a65b735dee4d81ef413-all.js"
                  },
                  {
                   "name": null,
                   "type": "css",
                   "url": "/assetserver/1cc0ed62837210b80a182cc3676512f895dab686-style.css"
                  },
                  {
                   "name": null,
                   "type": "css",
                   "url": "/assetserver/2eee816f616df3549d7044d45e744fbf8d42bfa1-bulma_confined.min.css"
                  }
                 ],
                 "type": "async_block"
                },
                "mount_callbacks": [
                 "function () {\n    var handler = (function (ko, koPunches) {\n    ko.punches.enableAll();\n    ko.bindingHandlers.numericValue = {\n        init: function(element, valueAccessor, allBindings, data, context) {\n            var stringified = ko.observable(ko.unwrap(valueAccessor()));\n            stringified.subscribe(function(value) {\n                var val = parseFloat(value);\n                if (!isNaN(val)) {\n                    valueAccessor()(val);\n                }\n            });\n            valueAccessor().subscribe(function(value) {\n                var str = JSON.stringify(value);\n                if ((str == \"0\") && ([\"-0\", \"-0.\"].indexOf(stringified()) >= 0))\n                     return;\n                 if ([\"null\", \"\"].indexOf(str) >= 0)\n                     return;\n                stringified(str);\n            });\n            ko.applyBindingsToNode(\n                element,\n                {\n                    value: stringified,\n                    valueUpdate: allBindings.get('valueUpdate'),\n                },\n                context,\n            );\n        }\n    };\n    var json_data = {\"formatted_vals\":[\"0.1\",\"0.2\",\"0.3\",\"0.4\",\"0.5\",\"0.6\",\"0.7\",\"0.8\",\"0.9\",\"1.0\",\"1.1\",\"1.2\",\"1.3\",\"1.4\",\"1.5\",\"1.6\",\"1.7\",\"1.8\",\"1.9\",\"2.0\"],\"changes\":WebIO.getval({\"name\":\"changes\",\"scope\":\"18126745280935451549\",\"id\":\"7767737909516616731\",\"type\":\"observable\"}),\"index\":WebIO.getval({\"name\":\"index\",\"scope\":\"18126745280935451549\",\"id\":\"16487129904426891550\",\"type\":\"observable\"})};\n    var self = this;\n    function AppViewModel() {\n        for (var key in json_data) {\n            var el = json_data[key];\n            this[key] = Array.isArray(el) ? ko.observableArray(el) : ko.observable(el);\n        }\n        \n        [this[\"formatted_val\"]=ko.computed(    function(){\n        return this.formatted_vals()[parseInt(this.index())-(1)];\n    }\n,this)]\n        [this[\"changes\"].subscribe((function (val){!(this.valueFromJulia[\"changes\"]) ? (WebIO.setval({\"name\":\"changes\",\"scope\":\"18126745280935451549\",\"id\":\"7767737909516616731\",\"type\":\"observable\"},val)) : undefined; return this.valueFromJulia[\"changes\"]=false}),self),this[\"index\"].subscribe((function (val){!(this.valueFromJulia[\"index\"]) ? (WebIO.setval({\"name\":\"index\",\"scope\":\"18126745280935451549\",\"id\":\"16487129904426891550\",\"type\":\"observable\"},val)) : undefined; return this.valueFromJulia[\"index\"]=false}),self)]\n        \n    }\n    self.model = new AppViewModel();\n    self.valueFromJulia = {};\n    for (var key in json_data) {\n        self.valueFromJulia[key] = false;\n    }\n    ko.applyBindings(self.model, self.dom);\n}\n);\n    (WebIO.importBlock({\"data\":[{\"name\":\"knockout\",\"type\":\"js\",\"url\":\"/assetserver/727383f2a47bd31570b7da84eee7b022dd6d7c78-knockout.js\"},{\"name\":\"knockout_punches\",\"type\":\"js\",\"url\":\"/assetserver/382b41b3b1bd9f26f75861d360bad7f8beea211f-knockout_punches.js\"}],\"type\":\"async_block\"})).then((imports) => handler.apply(this, imports));\n}\n"
                ],
                "observables": {
                 "changes": {
                  "id": "7767737909516616731",
                  "sync": false,
                  "value": 0
                 },
                 "index": {
                  "id": "16487129904426891550",
                  "sync": true,
                  "value": 10
                 }
                },
                "systemjs_options": null
               },
               "nodeType": "Scope",
               "props": {},
               "type": "node"
              }
             ],
             "instanceArgs": {
              "namespace": "html",
              "tag": "div"
             },
             "nodeType": "DOM",
             "props": {
              "className": "field interact-widget"
             },
             "type": "node"
            },
            {
             "children": [],
             "instanceArgs": {
              "namespace": "html",
              "tag": "div"
             },
             "nodeType": "DOM",
             "props": {
              "style": {
               "display": "flex",
               "flex-direction": "column"
              }
             },
             "type": "node"
            },
            {
             "children": [
              {
               "children": [
                {
                 "children": [
                  {
                   "children": [
                    {
                     "children": [
                      {
                       "children": [
                        "min_alike"
                       ],
                       "instanceArgs": {
                        "namespace": "html",
                        "tag": "label"
                       },
                       "nodeType": "DOM",
                       "props": {
                        "className": "interact ",
                        "style": {
                         "padding": "5px 10px 0px 10px"
                        }
                       },
                       "type": "node"
                      }
                     ],
                     "instanceArgs": {
                      "namespace": "html",
                      "tag": "div"
                     },
                     "nodeType": "DOM",
                     "props": {
                      "className": "interact-flex-row-left"
                     },
                     "type": "node"
                    },
                    {
                     "children": [
                      {
                       "children": [],
                       "instanceArgs": {
                        "namespace": "html",
                        "tag": "input"
                       },
                       "nodeType": "DOM",
                       "props": {
                        "attributes": {
                         "data-bind": "numericValue: index, valueUpdate: 'input', event: {change: function (){this.changes(this.changes()+1)}}",
                         "orient": "horizontal",
                         "type": "range"
                        },
                        "className": "slider slider is-fullwidth",
                        "max": 12,
                        "min": 1,
                        "step": 1,
                        "style": {}
                       },
                       "type": "node"
                      }
                     ],
                     "instanceArgs": {
                      "namespace": "html",
                      "tag": "div"
                     },
                     "nodeType": "DOM",
                     "props": {
                      "className": "interact-flex-row-center"
                     },
                     "type": "node"
                    },
                    {
                     "children": [
                      {
                       "children": [],
                       "instanceArgs": {
                        "namespace": "html",
                        "tag": "p"
                       },
                       "nodeType": "DOM",
                       "props": {
                        "attributes": {
                         "data-bind": "text: formatted_val"
                        }
                       },
                       "type": "node"
                      }
                     ],
                     "instanceArgs": {
                      "namespace": "html",
                      "tag": "div"
                     },
                     "nodeType": "DOM",
                     "props": {
                      "className": "interact-flex-row-right"
                     },
                     "type": "node"
                    }
                   ],
                   "instanceArgs": {
                    "namespace": "html",
                    "tag": "div"
                   },
                   "nodeType": "DOM",
                   "props": {
                    "className": "interact-flex-row interact-widget"
                   },
                   "type": "node"
                  }
                 ],
                 "instanceArgs": {
                  "handlers": {
                   "changes": [
                    "(function (val){return (val!=this.model[\"changes\"]()) ? (this.valueFromJulia[\"changes\"]=true, this.model[\"changes\"](val)) : undefined})"
                   ],
                   "index": [
                    "(function (val){return (val!=this.model[\"index\"]()) ? (this.valueFromJulia[\"index\"]=true, this.model[\"index\"](val)) : undefined})"
                   ]
                  },
                  "id": "8262869424527034126",
                  "imports": {
                   "data": [
                    {
                     "name": "knockout",
                     "type": "js",
                     "url": "/assetserver/727383f2a47bd31570b7da84eee7b022dd6d7c78-knockout.js"
                    },
                    {
                     "name": "knockout_punches",
                     "type": "js",
                     "url": "/assetserver/382b41b3b1bd9f26f75861d360bad7f8beea211f-knockout_punches.js"
                    },
                    {
                     "name": null,
                     "type": "js",
                     "url": "/assetserver/5ab20f1060420992a9b82a65b735dee4d81ef413-all.js"
                    },
                    {
                     "name": null,
                     "type": "css",
                     "url": "/assetserver/1cc0ed62837210b80a182cc3676512f895dab686-style.css"
                    },
                    {
                     "name": null,
                     "type": "css",
                     "url": "/assetserver/2eee816f616df3549d7044d45e744fbf8d42bfa1-bulma_confined.min.css"
                    }
                   ],
                   "type": "async_block"
                  },
                  "mount_callbacks": [
                   "function () {\n    var handler = (function (ko, koPunches) {\n    ko.punches.enableAll();\n    ko.bindingHandlers.numericValue = {\n        init: function(element, valueAccessor, allBindings, data, context) {\n            var stringified = ko.observable(ko.unwrap(valueAccessor()));\n            stringified.subscribe(function(value) {\n                var val = parseFloat(value);\n                if (!isNaN(val)) {\n                    valueAccessor()(val);\n                }\n            });\n            valueAccessor().subscribe(function(value) {\n                var str = JSON.stringify(value);\n                if ((str == \"0\") && ([\"-0\", \"-0.\"].indexOf(stringified()) >= 0))\n                     return;\n                 if ([\"null\", \"\"].indexOf(str) >= 0)\n                     return;\n                stringified(str);\n            });\n            ko.applyBindingsToNode(\n                element,\n                {\n                    value: stringified,\n                    valueUpdate: allBindings.get('valueUpdate'),\n                },\n                context,\n            );\n        }\n    };\n    var json_data = {\"formatted_vals\":[\"1\",\"2\",\"3\",\"4\",\"5\",\"6\",\"7\",\"8\",\"9\",\"10\",\"11\",\"12\"],\"changes\":WebIO.getval({\"name\":\"changes\",\"scope\":\"8262869424527034126\",\"id\":\"15662250824614839608\",\"type\":\"observable\"}),\"index\":WebIO.getval({\"name\":\"index\",\"scope\":\"8262869424527034126\",\"id\":\"12168514417700633076\",\"type\":\"observable\"})};\n    var self = this;\n    function AppViewModel() {\n        for (var key in json_data) {\n            var el = json_data[key];\n            this[key] = Array.isArray(el) ? ko.observableArray(el) : ko.observable(el);\n        }\n        \n        [this[\"formatted_val\"]=ko.computed(    function(){\n        return this.formatted_vals()[parseInt(this.index())-(1)];\n    }\n,this)]\n        [this[\"changes\"].subscribe((function (val){!(this.valueFromJulia[\"changes\"]) ? (WebIO.setval({\"name\":\"changes\",\"scope\":\"8262869424527034126\",\"id\":\"15662250824614839608\",\"type\":\"observable\"},val)) : undefined; return this.valueFromJulia[\"changes\"]=false}),self),this[\"index\"].subscribe((function (val){!(this.valueFromJulia[\"index\"]) ? (WebIO.setval({\"name\":\"index\",\"scope\":\"8262869424527034126\",\"id\":\"12168514417700633076\",\"type\":\"observable\"},val)) : undefined; return this.valueFromJulia[\"index\"]=false}),self)]\n        \n    }\n    self.model = new AppViewModel();\n    self.valueFromJulia = {};\n    for (var key in json_data) {\n        self.valueFromJulia[key] = false;\n    }\n    ko.applyBindings(self.model, self.dom);\n}\n);\n    (WebIO.importBlock({\"data\":[{\"name\":\"knockout\",\"type\":\"js\",\"url\":\"/assetserver/727383f2a47bd31570b7da84eee7b022dd6d7c78-knockout.js\"},{\"name\":\"knockout_punches\",\"type\":\"js\",\"url\":\"/assetserver/382b41b3b1bd9f26f75861d360bad7f8beea211f-knockout_punches.js\"}],\"type\":\"async_block\"})).then((imports) => handler.apply(this, imports));\n}\n"
                  ],
                  "observables": {
                   "changes": {
                    "id": "15662250824614839608",
                    "sync": false,
                    "value": 0
                   },
                   "index": {
                    "id": "12168514417700633076",
                    "sync": true,
                    "value": 6
                   }
                  },
                  "systemjs_options": null
                 },
                 "nodeType": "Scope",
                 "props": {},
                 "type": "node"
                }
               ],
               "instanceArgs": {
                "namespace": "html",
                "tag": "div"
               },
               "nodeType": "DOM",
               "props": {
                "className": "field interact-widget"
               },
               "type": "node"
              }
             ],
             "instanceArgs": {
              "namespace": "html",
              "tag": "div"
             },
             "nodeType": "DOM",
             "props": {
              "style": {
               "display": "flex",
               "flex-direction": "column"
              }
             },
             "type": "node"
            },
            {
             "children": [
              {
               "children": [
                {
                 "children": [
                  {
                   "children": [],
                   "instanceArgs": {
                    "namespace": "html",
                    "tag": "div"
                   },
                   "nodeType": "DOM",
                   "props": {
                    "id": "container"
                   },
                   "type": "node"
                  }
                 ],
                 "instanceArgs": {
                  "handlers": {
                   "value": [
                    "(function (txt){return this.k.render(txt,this.container)})"
                   ]
                  },
                  "id": "18132362213406044463",
                  "imports": {
                   "data": [
                    {
                     "name": null,
                     "type": "js",
                     "url": "/assetserver/dd22ed1bf1896c2748f3fe616ce0b838adc895c1-katex.min.js"
                    },
                    {
                     "name": null,
                     "type": "css",
                     "url": "/assetserver/46517a424aa5e6cffc1360d7e0848b601c584ee3-katex.min.css"
                    }
                   ],
                   "type": "async_block"
                  },
                  "mount_callbacks": [
                   "function () {\n    var handler = ((function (k){this.k=k; this.container=this.dom.querySelector(\"#container\"); return k.render(\"\\\\;\\\\;\",this.container)}));\n    (WebIO.importBlock({\"data\":[{\"name\":null,\"type\":\"js\",\"url\":\"/assetserver/dd22ed1bf1896c2748f3fe616ce0b838adc895c1-katex.min.js\"},{\"name\":null,\"type\":\"css\",\"url\":\"/assetserver/46517a424aa5e6cffc1360d7e0848b601c584ee3-katex.min.css\"}],\"type\":\"async_block\"})).then((imports) => handler.apply(this, imports));\n}\n"
                  ],
                  "observables": {
                   "value": {
                    "id": "6392787675995809694",
                    "sync": false,
                    "value": "\\;\\;"
                   }
                  },
                  "systemjs_options": null
                 },
                 "nodeType": "Scope",
                 "props": {},
                 "type": "node"
                }
               ],
               "instanceArgs": {
                "namespace": "html",
                "tag": "div"
               },
               "nodeType": "DOM",
               "props": {
                "className": "interact-widget"
               },
               "type": "node"
              },
              {
               "children": [
                {
                 "children": [
                  {
                   "children": [
                    "run"
                   ],
                   "instanceArgs": {
                    "namespace": "html",
                    "tag": "button"
                   },
                   "nodeType": "DOM",
                   "props": {
                    "attributes": {
                     "data-bind": "click: function (){this.clicks(this.clicks()+1)}, css: {'is-loading' : loading}"
                    },
                    "className": "is-medium button is-primary",
                    "style": {}
                   },
                   "type": "node"
                  }
                 ],
                 "instanceArgs": {
                  "handlers": {
                   "clicks": [
                    "(function (val){return (val!=this.model[\"clicks\"]()) ? (this.valueFromJulia[\"clicks\"]=true, this.model[\"clicks\"](val)) : undefined})"
                   ],
                   "loading": [
                    "(function (val){return (val!=this.model[\"loading\"]()) ? (this.valueFromJulia[\"loading\"]=true, this.model[\"loading\"](val)) : undefined})"
                   ]
                  },
                  "id": "6979668163084474347",
                  "imports": {
                   "data": [
                    {
                     "name": "knockout",
                     "type": "js",
                     "url": "/assetserver/727383f2a47bd31570b7da84eee7b022dd6d7c78-knockout.js"
                    },
                    {
                     "name": "knockout_punches",
                     "type": "js",
                     "url": "/assetserver/382b41b3b1bd9f26f75861d360bad7f8beea211f-knockout_punches.js"
                    },
                    {
                     "name": null,
                     "type": "js",
                     "url": "/assetserver/5ab20f1060420992a9b82a65b735dee4d81ef413-all.js"
                    },
                    {
                     "name": null,
                     "type": "css",
                     "url": "/assetserver/1cc0ed62837210b80a182cc3676512f895dab686-style.css"
                    },
                    {
                     "name": null,
                     "type": "css",
                     "url": "/assetserver/2eee816f616df3549d7044d45e744fbf8d42bfa1-bulma_confined.min.css"
                    }
                   ],
                   "type": "async_block"
                  },
                  "mount_callbacks": [
                   "function () {\n    var handler = (function (ko, koPunches) {\n    ko.punches.enableAll();\n    ko.bindingHandlers.numericValue = {\n        init: function(element, valueAccessor, allBindings, data, context) {\n            var stringified = ko.observable(ko.unwrap(valueAccessor()));\n            stringified.subscribe(function(value) {\n                var val = parseFloat(value);\n                if (!isNaN(val)) {\n                    valueAccessor()(val);\n                }\n            });\n            valueAccessor().subscribe(function(value) {\n                var str = JSON.stringify(value);\n                if ((str == \"0\") && ([\"-0\", \"-0.\"].indexOf(stringified()) >= 0))\n                     return;\n                 if ([\"null\", \"\"].indexOf(str) >= 0)\n                     return;\n                stringified(str);\n            });\n            ko.applyBindingsToNode(\n                element,\n                {\n                    value: stringified,\n                    valueUpdate: allBindings.get('valueUpdate'),\n                },\n                context,\n            );\n        }\n    };\n    var json_data = {\"loading\":WebIO.getval({\"name\":\"loading\",\"scope\":\"6979668163084474347\",\"id\":\"16922799462081615429\",\"type\":\"observable\"}),\"clicks\":WebIO.getval({\"name\":\"clicks\",\"scope\":\"6979668163084474347\",\"id\":\"9236224592770266366\",\"type\":\"observable\"})};\n    var self = this;\n    function AppViewModel() {\n        for (var key in json_data) {\n            var el = json_data[key];\n            this[key] = Array.isArray(el) ? ko.observableArray(el) : ko.observable(el);\n        }\n        \n        \n        [this[\"loading\"].subscribe((function (val){!(this.valueFromJulia[\"loading\"]) ? (WebIO.setval({\"name\":\"loading\",\"scope\":\"6979668163084474347\",\"id\":\"16922799462081615429\",\"type\":\"observable\"},val)) : undefined; return this.valueFromJulia[\"loading\"]=false}),self),this[\"clicks\"].subscribe((function (val){!(this.valueFromJulia[\"clicks\"]) ? (WebIO.setval({\"name\":\"clicks\",\"scope\":\"6979668163084474347\",\"id\":\"9236224592770266366\",\"type\":\"observable\"},val)) : undefined; return this.valueFromJulia[\"clicks\"]=false}),self)]\n        \n    }\n    self.model = new AppViewModel();\n    self.valueFromJulia = {};\n    for (var key in json_data) {\n        self.valueFromJulia[key] = false;\n    }\n    ko.applyBindings(self.model, self.dom);\n}\n);\n    (WebIO.importBlock({\"data\":[{\"name\":\"knockout\",\"type\":\"js\",\"url\":\"/assetserver/727383f2a47bd31570b7da84eee7b022dd6d7c78-knockout.js\"},{\"name\":\"knockout_punches\",\"type\":\"js\",\"url\":\"/assetserver/382b41b3b1bd9f26f75861d360bad7f8beea211f-knockout_punches.js\"}],\"type\":\"async_block\"})).then((imports) => handler.apply(this, imports));\n}\n"
                  ],
                  "observables": {
                   "clicks": {
                    "id": "9236224592770266366",
                    "sync": true,
                    "value": 0
                   },
                   "loading": {
                    "id": "16922799462081615429",
                    "sync": false,
                    "value": false
                   }
                  },
                  "systemjs_options": null
                 },
                 "nodeType": "Scope",
                 "props": {},
                 "type": "node"
                }
               ],
               "instanceArgs": {
                "namespace": "html",
                "tag": "div"
               },
               "nodeType": "DOM",
               "props": {
                "className": "field interact-widget"
               },
               "type": "node"
              },
              {
               "children": [
                {
                 "children": [
                  {
                   "children": [],
                   "instanceArgs": {
                    "namespace": "html",
                    "tag": "div"
                   },
                   "nodeType": "DOM",
                   "props": {
                    "id": "container"
                   },
                   "type": "node"
                  }
                 ],
                 "instanceArgs": {
                  "handlers": {
                   "value": [
                    "(function (txt){return this.k.render(txt,this.container)})"
                   ]
                  },
                  "id": "18132362213406044463",
                  "imports": {
                   "data": [
                    {
                     "name": null,
                     "type": "js",
                     "url": "/assetserver/dd22ed1bf1896c2748f3fe616ce0b838adc895c1-katex.min.js"
                    },
                    {
                     "name": null,
                     "type": "css",
                     "url": "/assetserver/46517a424aa5e6cffc1360d7e0848b601c584ee3-katex.min.css"
                    }
                   ],
                   "type": "async_block"
                  },
                  "mount_callbacks": [
                   "function () {\n    var handler = ((function (k){this.k=k; this.container=this.dom.querySelector(\"#container\"); return k.render(\"\\\\;\\\\;\",this.container)}));\n    (WebIO.importBlock({\"data\":[{\"name\":null,\"type\":\"js\",\"url\":\"/assetserver/dd22ed1bf1896c2748f3fe616ce0b838adc895c1-katex.min.js\"},{\"name\":null,\"type\":\"css\",\"url\":\"/assetserver/46517a424aa5e6cffc1360d7e0848b601c584ee3-katex.min.css\"}],\"type\":\"async_block\"})).then((imports) => handler.apply(this, imports));\n}\n"
                  ],
                  "observables": {
                   "value": {
                    "id": "6392787675995809694",
                    "sync": false,
                    "value": "\\;\\;"
                   }
                  },
                  "systemjs_options": null
                 },
                 "nodeType": "Scope",
                 "props": {},
                 "type": "node"
                }
               ],
               "instanceArgs": {
                "namespace": "html",
                "tag": "div"
               },
               "nodeType": "DOM",
               "props": {
                "className": "interact-widget"
               },
               "type": "node"
              },
              {
               "children": [
                {
                 "children": [
                  {
                   "children": [
                    "stop"
                   ],
                   "instanceArgs": {
                    "namespace": "html",
                    "tag": "button"
                   },
                   "nodeType": "DOM",
                   "props": {
                    "attributes": {
                     "data-bind": "click: function (){this.clicks(this.clicks()+1)}, css: {'is-loading' : loading}"
                    },
                    "className": "is-medium button is-primary",
                    "style": {}
                   },
                   "type": "node"
                  }
                 ],
                 "instanceArgs": {
                  "handlers": {
                   "clicks": [
                    "(function (val){return (val!=this.model[\"clicks\"]()) ? (this.valueFromJulia[\"clicks\"]=true, this.model[\"clicks\"](val)) : undefined})"
                   ],
                   "loading": [
                    "(function (val){return (val!=this.model[\"loading\"]()) ? (this.valueFromJulia[\"loading\"]=true, this.model[\"loading\"](val)) : undefined})"
                   ]
                  },
                  "id": "14604223747639455038",
                  "imports": {
                   "data": [
                    {
                     "name": "knockout",
                     "type": "js",
                     "url": "/assetserver/727383f2a47bd31570b7da84eee7b022dd6d7c78-knockout.js"
                    },
                    {
                     "name": "knockout_punches",
                     "type": "js",
                     "url": "/assetserver/382b41b3b1bd9f26f75861d360bad7f8beea211f-knockout_punches.js"
                    },
                    {
                     "name": null,
                     "type": "js",
                     "url": "/assetserver/5ab20f1060420992a9b82a65b735dee4d81ef413-all.js"
                    },
                    {
                     "name": null,
                     "type": "css",
                     "url": "/assetserver/1cc0ed62837210b80a182cc3676512f895dab686-style.css"
                    },
                    {
                     "name": null,
                     "type": "css",
                     "url": "/assetserver/2eee816f616df3549d7044d45e744fbf8d42bfa1-bulma_confined.min.css"
                    }
                   ],
                   "type": "async_block"
                  },
                  "mount_callbacks": [
                   "function () {\n    var handler = (function (ko, koPunches) {\n    ko.punches.enableAll();\n    ko.bindingHandlers.numericValue = {\n        init: function(element, valueAccessor, allBindings, data, context) {\n            var stringified = ko.observable(ko.unwrap(valueAccessor()));\n            stringified.subscribe(function(value) {\n                var val = parseFloat(value);\n                if (!isNaN(val)) {\n                    valueAccessor()(val);\n                }\n            });\n            valueAccessor().subscribe(function(value) {\n                var str = JSON.stringify(value);\n                if ((str == \"0\") && ([\"-0\", \"-0.\"].indexOf(stringified()) >= 0))\n                     return;\n                 if ([\"null\", \"\"].indexOf(str) >= 0)\n                     return;\n                stringified(str);\n            });\n            ko.applyBindingsToNode(\n                element,\n                {\n                    value: stringified,\n                    valueUpdate: allBindings.get('valueUpdate'),\n                },\n                context,\n            );\n        }\n    };\n    var json_data = {\"loading\":WebIO.getval({\"name\":\"loading\",\"scope\":\"14604223747639455038\",\"id\":\"6557909328841086009\",\"type\":\"observable\"}),\"clicks\":WebIO.getval({\"name\":\"clicks\",\"scope\":\"14604223747639455038\",\"id\":\"7711583685995879039\",\"type\":\"observable\"})};\n    var self = this;\n    function AppViewModel() {\n        for (var key in json_data) {\n            var el = json_data[key];\n            this[key] = Array.isArray(el) ? ko.observableArray(el) : ko.observable(el);\n        }\n        \n        \n        [this[\"loading\"].subscribe((function (val){!(this.valueFromJulia[\"loading\"]) ? (WebIO.setval({\"name\":\"loading\",\"scope\":\"14604223747639455038\",\"id\":\"6557909328841086009\",\"type\":\"observable\"},val)) : undefined; return this.valueFromJulia[\"loading\"]=false}),self),this[\"clicks\"].subscribe((function (val){!(this.valueFromJulia[\"clicks\"]) ? (WebIO.setval({\"name\":\"clicks\",\"scope\":\"14604223747639455038\",\"id\":\"7711583685995879039\",\"type\":\"observable\"},val)) : undefined; return this.valueFromJulia[\"clicks\"]=false}),self)]\n        \n    }\n    self.model = new AppViewModel();\n    self.valueFromJulia = {};\n    for (var key in json_data) {\n        self.valueFromJulia[key] = false;\n    }\n    ko.applyBindings(self.model, self.dom);\n}\n);\n    (WebIO.importBlock({\"data\":[{\"name\":\"knockout\",\"type\":\"js\",\"url\":\"/assetserver/727383f2a47bd31570b7da84eee7b022dd6d7c78-knockout.js\"},{\"name\":\"knockout_punches\",\"type\":\"js\",\"url\":\"/assetserver/382b41b3b1bd9f26f75861d360bad7f8beea211f-knockout_punches.js\"}],\"type\":\"async_block\"})).then((imports) => handler.apply(this, imports));\n}\n"
                  ],
                  "observables": {
                   "clicks": {
                    "id": "7711583685995879039",
                    "sync": true,
                    "value": 0
                   },
                   "loading": {
                    "id": "6557909328841086009",
                    "sync": false,
                    "value": false
                   }
                  },
                  "systemjs_options": null
                 },
                 "nodeType": "Scope",
                 "props": {},
                 "type": "node"
                }
               ],
               "instanceArgs": {
                "namespace": "html",
                "tag": "div"
               },
               "nodeType": "DOM",
               "props": {
                "className": "field interact-widget"
               },
               "type": "node"
              },
              {
               "children": [
                {
                 "children": [
                  {
                   "children": [],
                   "instanceArgs": {
                    "namespace": "html",
                    "tag": "div"
                   },
                   "nodeType": "DOM",
                   "props": {
                    "id": "container"
                   },
                   "type": "node"
                  }
                 ],
                 "instanceArgs": {
                  "handlers": {
                   "value": [
                    "(function (txt){return this.k.render(txt,this.container)})"
                   ]
                  },
                  "id": "18132362213406044463",
                  "imports": {
                   "data": [
                    {
                     "name": null,
                     "type": "js",
                     "url": "/assetserver/dd22ed1bf1896c2748f3fe616ce0b838adc895c1-katex.min.js"
                    },
                    {
                     "name": null,
                     "type": "css",
                     "url": "/assetserver/46517a424aa5e6cffc1360d7e0848b601c584ee3-katex.min.css"
                    }
                   ],
                   "type": "async_block"
                  },
                  "mount_callbacks": [
                   "function () {\n    var handler = ((function (k){this.k=k; this.container=this.dom.querySelector(\"#container\"); return k.render(\"\\\\;\\\\;\",this.container)}));\n    (WebIO.importBlock({\"data\":[{\"name\":null,\"type\":\"js\",\"url\":\"/assetserver/dd22ed1bf1896c2748f3fe616ce0b838adc895c1-katex.min.js\"},{\"name\":null,\"type\":\"css\",\"url\":\"/assetserver/46517a424aa5e6cffc1360d7e0848b601c584ee3-katex.min.css\"}],\"type\":\"async_block\"})).then((imports) => handler.apply(this, imports));\n}\n"
                  ],
                  "observables": {
                   "value": {
                    "id": "6392787675995809694",
                    "sync": false,
                    "value": "\\;\\;"
                   }
                  },
                  "systemjs_options": null
                 },
                 "nodeType": "Scope",
                 "props": {},
                 "type": "node"
                }
               ],
               "instanceArgs": {
                "namespace": "html",
                "tag": "div"
               },
               "nodeType": "DOM",
               "props": {
                "className": "interact-widget"
               },
               "type": "node"
              },
              {
               "children": [
                {
                 "children": [
                  {
                   "children": [
                    "reset"
                   ],
                   "instanceArgs": {
                    "namespace": "html",
                    "tag": "button"
                   },
                   "nodeType": "DOM",
                   "props": {
                    "attributes": {
                     "data-bind": "click: function (){this.clicks(this.clicks()+1)}, css: {'is-loading' : loading}"
                    },
                    "className": "is-medium button is-primary",
                    "style": {}
                   },
                   "type": "node"
                  }
                 ],
                 "instanceArgs": {
                  "handlers": {
                   "clicks": [
                    "(function (val){return (val!=this.model[\"clicks\"]()) ? (this.valueFromJulia[\"clicks\"]=true, this.model[\"clicks\"](val)) : undefined})"
                   ],
                   "loading": [
                    "(function (val){return (val!=this.model[\"loading\"]()) ? (this.valueFromJulia[\"loading\"]=true, this.model[\"loading\"](val)) : undefined})"
                   ]
                  },
                  "id": "11137228206554552684",
                  "imports": {
                   "data": [
                    {
                     "name": "knockout",
                     "type": "js",
                     "url": "/assetserver/727383f2a47bd31570b7da84eee7b022dd6d7c78-knockout.js"
                    },
                    {
                     "name": "knockout_punches",
                     "type": "js",
                     "url": "/assetserver/382b41b3b1bd9f26f75861d360bad7f8beea211f-knockout_punches.js"
                    },
                    {
                     "name": null,
                     "type": "js",
                     "url": "/assetserver/5ab20f1060420992a9b82a65b735dee4d81ef413-all.js"
                    },
                    {
                     "name": null,
                     "type": "css",
                     "url": "/assetserver/1cc0ed62837210b80a182cc3676512f895dab686-style.css"
                    },
                    {
                     "name": null,
                     "type": "css",
                     "url": "/assetserver/2eee816f616df3549d7044d45e744fbf8d42bfa1-bulma_confined.min.css"
                    }
                   ],
                   "type": "async_block"
                  },
                  "mount_callbacks": [
                   "function () {\n    var handler = (function (ko, koPunches) {\n    ko.punches.enableAll();\n    ko.bindingHandlers.numericValue = {\n        init: function(element, valueAccessor, allBindings, data, context) {\n            var stringified = ko.observable(ko.unwrap(valueAccessor()));\n            stringified.subscribe(function(value) {\n                var val = parseFloat(value);\n                if (!isNaN(val)) {\n                    valueAccessor()(val);\n                }\n            });\n            valueAccessor().subscribe(function(value) {\n                var str = JSON.stringify(value);\n                if ((str == \"0\") && ([\"-0\", \"-0.\"].indexOf(stringified()) >= 0))\n                     return;\n                 if ([\"null\", \"\"].indexOf(str) >= 0)\n                     return;\n                stringified(str);\n            });\n            ko.applyBindingsToNode(\n                element,\n                {\n                    value: stringified,\n                    valueUpdate: allBindings.get('valueUpdate'),\n                },\n                context,\n            );\n        }\n    };\n    var json_data = {\"loading\":WebIO.getval({\"name\":\"loading\",\"scope\":\"11137228206554552684\",\"id\":\"12421476244737714634\",\"type\":\"observable\"}),\"clicks\":WebIO.getval({\"name\":\"clicks\",\"scope\":\"11137228206554552684\",\"id\":\"16728142331508763875\",\"type\":\"observable\"})};\n    var self = this;\n    function AppViewModel() {\n        for (var key in json_data) {\n            var el = json_data[key];\n            this[key] = Array.isArray(el) ? ko.observableArray(el) : ko.observable(el);\n        }\n        \n        \n        [this[\"loading\"].subscribe((function (val){!(this.valueFromJulia[\"loading\"]) ? (WebIO.setval({\"name\":\"loading\",\"scope\":\"11137228206554552684\",\"id\":\"12421476244737714634\",\"type\":\"observable\"},val)) : undefined; return this.valueFromJulia[\"loading\"]=false}),self),this[\"clicks\"].subscribe((function (val){!(this.valueFromJulia[\"clicks\"]) ? (WebIO.setval({\"name\":\"clicks\",\"scope\":\"11137228206554552684\",\"id\":\"16728142331508763875\",\"type\":\"observable\"},val)) : undefined; return this.valueFromJulia[\"clicks\"]=false}),self)]\n        \n    }\n    self.model = new AppViewModel();\n    self.valueFromJulia = {};\n    for (var key in json_data) {\n        self.valueFromJulia[key] = false;\n    }\n    ko.applyBindings(self.model, self.dom);\n}\n);\n    (WebIO.importBlock({\"data\":[{\"name\":\"knockout\",\"type\":\"js\",\"url\":\"/assetserver/727383f2a47bd31570b7da84eee7b022dd6d7c78-knockout.js\"},{\"name\":\"knockout_punches\",\"type\":\"js\",\"url\":\"/assetserver/382b41b3b1bd9f26f75861d360bad7f8beea211f-knockout_punches.js\"}],\"type\":\"async_block\"})).then((imports) => handler.apply(this, imports));\n}\n"
                  ],
                  "observables": {
                   "clicks": {
                    "id": "16728142331508763875",
                    "sync": true,
                    "value": 0
                   },
                   "loading": {
                    "id": "12421476244737714634",
                    "sync": false,
                    "value": false
                   }
                  },
                  "systemjs_options": null
                 },
                 "nodeType": "Scope",
                 "props": {},
                 "type": "node"
                }
               ],
               "instanceArgs": {
                "namespace": "html",
                "tag": "div"
               },
               "nodeType": "DOM",
               "props": {
                "className": "field interact-widget"
               },
               "type": "node"
              }
             ],
             "instanceArgs": {
              "namespace": "html",
              "tag": "div"
             },
             "nodeType": "DOM",
             "props": {
              "style": {
               "display": "flex",
               "flex-direction": "row"
              }
             },
             "type": "node"
            }
           ],
           "instanceArgs": {
            "namespace": "html",
            "tag": "div"
           },
           "nodeType": "DOM",
           "props": {
            "style": {
             "display": "flex",
             "flex-direction": "column"
            }
           },
           "type": "node"
          },
          {
           "children": [
            {
             "children": [],
             "instanceArgs": {
              "namespace": "html",
              "tag": "div"
             },
             "nodeType": "DOM",
             "props": {
              "className": "webio-observable",
              "setInnerHtml": "    <div style=\"height: 500px; width: 100%; overflow-x: auto; overflow-y: hidden; resize: both\">\n    <iframe src=\"http://127.0.0.1:8721\" style=\"width: 100%; height: 100%; border: none\"></iframe>\n    </div>\n"
             },
             "type": "node"
            }
           ],
           "instanceArgs": {
            "handlers": {
             "obs-output": [
              "function (value, scope) {\n    scope.setInnerHTML(value);\n}\n"
             ]
            },
            "id": "843658251554815998",
            "imports": {
             "data": [],
             "type": "async_block"
            },
            "mount_callbacks": [],
            "observables": {
             "obs-output": {
              "id": "12685986989887428132",
              "sync": false,
              "value": "    <div style=\"height: 500px; width: 100%; overflow-x: auto; overflow-y: hidden; resize: both\">\n    <iframe src=\"http://127.0.0.1:8721\" style=\"width: 100%; height: 100%; border: none\"></iframe>\n    </div>\n"
             }
            },
            "systemjs_options": null
           },
           "nodeType": "Scope",
           "props": {},
           "type": "node"
          },
          {
           "children": [
            {
             "children": [
              {
               "children": [],
               "instanceArgs": {
                "namespace": "html",
                "tag": "div"
               },
               "nodeType": "DOM",
               "props": {
                "id": "container"
               },
               "type": "node"
              }
             ],
             "instanceArgs": {
              "handlers": {
               "value": [
                "(function (txt){return this.k.render(txt,this.container)})"
               ]
              },
              "id": "18132362213406044463",
              "imports": {
               "data": [
                {
                 "name": null,
                 "type": "js",
                 "url": "/assetserver/dd22ed1bf1896c2748f3fe616ce0b838adc895c1-katex.min.js"
                },
                {
                 "name": null,
                 "type": "css",
                 "url": "/assetserver/46517a424aa5e6cffc1360d7e0848b601c584ee3-katex.min.css"
                }
               ],
               "type": "async_block"
              },
              "mount_callbacks": [
               "function () {\n    var handler = ((function (k){this.k=k; this.container=this.dom.querySelector(\"#container\"); return k.render(\"\\\\;\\\\;\",this.container)}));\n    (WebIO.importBlock({\"data\":[{\"name\":null,\"type\":\"js\",\"url\":\"/assetserver/dd22ed1bf1896c2748f3fe616ce0b838adc895c1-katex.min.js\"},{\"name\":null,\"type\":\"css\",\"url\":\"/assetserver/46517a424aa5e6cffc1360d7e0848b601c584ee3-katex.min.css\"}],\"type\":\"async_block\"})).then((imports) => handler.apply(this, imports));\n}\n"
              ],
              "observables": {
               "value": {
                "id": "6392787675995809694",
                "sync": false,
                "value": "\\;\\;"
               }
              },
              "systemjs_options": null
             },
             "nodeType": "Scope",
             "props": {},
             "type": "node"
            }
           ],
           "instanceArgs": {
            "namespace": "html",
            "tag": "div"
           },
           "nodeType": "DOM",
           "props": {
            "className": "interact-widget"
           },
           "type": "node"
          },
          {
           "children": [
            {
             "children": [
              {
               "children": [],
               "instanceArgs": {
                "namespace": "html",
                "tag": "div"
               },
               "nodeType": "DOM",
               "props": {
                "className": "webio-observable",
                "setInnerHtml": "<img src=\"data:image/png;base64,iVBORw0KGgoAAAANSUhEUgAAASwAAACWCAIAAADrOSKFAAAABmJLR0QA/wD/AP+gvaeTAAAb4UlEQVR4nO3de1xM+f8H8M90UzM1XXVT6SaRKI1KZTfylS4ktZaljb5Kicfqa79lN8J3RZSsr/D9JrsSoW9SuSTlEooeDZHaNvLQRfeLNU01ze38/jiP7/nOrws7aTqp9/OvMx+fmfM+Y17NOWfO53MoGIYhAAB5pMguAICJDkIIAMkghACQDEIIAMkghACQDEIIAMkghACQDEIIAMkghACQDEIIAMlGL4RlZWVnzpwRbeHxeKO29kFBAXw+n9zrFoVCoVAoJLGAsWD0QlheXp6XlyfawuFwRm3tg4ICuFwuuSHk8/l8Pp/EAsYC2B0FgGQyZBcAwJ9SWFjY2NhIdhVimz179vTp0z/cB0IIPg8+Pj52dnaTJk0iuxAxNDQ0aGlpZWRkfLgbhBB8HoRCYVJS0uTJk8kuRAyZmZnJyckf7QbHhACQDEIIAMkghACQDEIIAMkghACQDEIIAMkghGCiEAqFO3bs6OvrI7uQ/iCEYKIQCoUHDx787EPIZDIXLFhgYGCwatWq1tbWgR3Ky8s9PDwMDQ3nzp2blJQ0QkUCMJI6Ozubm5tFW3g8Xl1d3fv37wd2bmho6O7u7tfY29tbX18/UvWIEcK+vj5PT89vvvmGyWQqKSlt2rRpYB8vLy8Gg/HixYsTJ05s3779wYMHI1UoACMiOjr6iy++sLGxWb58OT6C5OrVq2ZmZmvWrLG0tFy5ciU+vuz+/fvTp0/38vJauXKloaFhTEwM/nQ3N7f169czGAwvL68ZM2a8fv0aIeTh4XHy5Em8A5fL1dLSKi0t/fMliXHZWmZmprq6ekhICELowIEDenp6jY2Nurq6RAcOh/PmzRt/f38lJSV7e3srK6vKysoFCxb8+VUA8GFCDGXXCXlijkCcoUKZpUrBl5WUlMrLy3t7e2fOnFlQUODs7Dx//vyXL1/KysoKBAIPD49z585t2LABIfTy5cuYmBhvb++GhgZLS0s3N7c5c+YghF68eMFkMhUUFCIjI7dt23b16tWQkJDIyEg8GleuXDE2Nra2tv7z5YkRwt9++83GxgZf1tTU1NbWrqqqEg2hvLz8mjVr9u/f/91331VUVNTW1np4ePz51wfgo/oE6PIbrE8g3rOWTUVECAMCAhBCCgoKNjY21dXVzs7OKioqly9ffvz4cU9PT2dn5/Pnz/GekydP9vb2RghNmTLFzc0tLy8PD6Gfn5+CggJCKCgoyNzcXCgUuru7b926taSkZN68eYmJiUFBQWKVJ0YIOzo6lJSUiIcqKiptbW39+oSGhq5du7akpKSxsTE0NFQ0oi9fvkxPT79x4wZCSFFRsaysrK+vj0KhiFXuyOru7p7gBfT09PD5fCkp0s7PcblchJCcnBzRQqVSP1CPggxKcZb+lDUqKiriC3Jycvie5w8//FBWVrZly5bJkydLSUn19PTgHeh0OvEsZWVlFouFLxMpoNPpfX19HA6HSqUGBgYmJiaqqamVlpZmZ2eLVZIYIVRVVa2rqyMeslgsNTU10Q5tbW2urq65ubkODg7d3d1OTk46OjrEoaOZmdny5csTExMRQjIyMkpKSl1dXcQ7QgoMwyZ4AVJSUvLy8mMqhKMvNzc3ISHhiy++QAgdPHiQGKhRX1/f3t6uoaGBEHr69OnWrVvx9mfPnuELpaWlBgYGVCoVIRQYGGhubi4tLb127VoajSZWAWKE0MTEJDc3F19+//59U1OTiYmJaIeqqippaWkHBweEEI1G+/LLL5lMpuj5Gzk5OVVVVbHqA0DSrKys4uLi2Gx2QUFBSUmJu7s73k6lUv39/YOCgu7du9fe3u7j44O3Z2dnGxkZ6evr79y5Mzw8HG+cPHnykiVLEhMTib3ZP0+MP4ErV66sqqq6desWhmHx8fH29vZGRkYIoUuXLuEzOE2fPp3L5WZlZSGEWltbc3JyxDo8BUCipKSkYmJiiGHBq1evtre3RwglJCTY2tpmZGSYmZmlp6evXLkS76CnpxcZGXnz5k0lJaWioiJ5eXm8fc+ePTwe7/bt29HR0Zs3byZe39nZ2d7e3tLSUtzCxPgmpNPp58+fDwgI6OrqMjMzS01NxdvLy8u7uroQQpMnT05NTQ0PDw8KChIKhatXrxb3CBUAyZGSkoqIiCAeLl++HF+g0+k7d+4c9CkODg74np2oSZMmib4Orru7OyEhITIychiFiTey3tPT8+3btzweT1ZWlmj86aefiOUVK1asWLGCz+fLyMCYffAZk5GRET0xQ1BUVBx4BHvjxo3AwMAlS5asWrVqOOsaxnNEEzj4i0ICwWfOwcGhsLBwYPt//vOfgY3u7u4NDQ3DXhdcOwrAR8THx9fW1kru9SGEAHxEUlLSp3zRfRSEEEws7969KysrEw0Vl8utrKysr6/vNxl5R0fHy5cvR6EkOHgDE8jhw4ePHj06c+bM1tZWFxeX2NjYhw8f+vv76+vrd3R0KCoq3rhxA/8pOzIy8vTp0zNmzFBQUJD06CcIIfisCIU9T+5gPK5YT5KbOl12iglC6NChQ4WFhaampui/NwKZM2dOVVUVfioxMDAwISFh165dxcXFSUlJFRUVGhoa2dnZXl5eEtiS/4EQgs8JJuBza6swoXhXcFMmKeAhtLCwCAkJ8ff3d3V1xS9Po9Foly5dKiwsbG1trampwYcU3rlzx9PTE79gbfny5erq6hLYlP+BEILPCUVWTsU3dNhPv3r1akpKysWLF4OCgqKjo8PCwg4dOpSTk/Pjjz9qaGhkZmbi14Wy2WzRa3olfX0vnJgBEwiNRgsODr527dq1a9eOHDmCELpz587mzZtdXV1tbGxaWlrwbubm5kwmE19ubGyU6KlRBN+EYOIQCAQrV65ctmyZurp6amqqk5MTQsjW1vbIkSPS0tJPnz69ffv2zJkzEUJfffXVvn37Nm/e/MUXXyQlJQ166cwIghCCiUJKSsrPz+/JkydlZWVubm7ffPMNQmj37t16enoFBQVWVlZXrlzBf5OQl5cvLCxMTEwsKSmJi4tjMplTp06VXGEQQjBRUCgUX19fX19f0UZZWdng4GDi4ezZs/EFDQ2NH3/8EV+2srKSaGHiHRMWFxcvXrzY3Nw8ODgYHzkx0JkzZxwdHc3Nzb28vNhs9kgUCcB4JkYIu7q63N3dv/rqq5ycnMbGxr/97W8D+xw7diw6OnrXrl3Z2dl+fn4jVycA45YYu6MXL16cNm0aPlI+NjbW2to6Pj5edNYZDocTFRWVlZWFzxRgZmY24uUCMP6I8U1YUVHBYDDw5enTp8vIyOCTLhKqq6t5PF57e7uHh4ePj09+fv5IVgrAOCXGN2FbW5uhoSHxUEVFpd8k3PX19Twe79SpU/v37//9999XrFhx7949IrevXr0iZluj0+mlpaWkT0hO+iEr6QX09vbyeLwxNdETjUYjsR5SiBFCFRUV0fnAWSxWv1mblJWVuVzu4cOHZ86caW1tffPmzUuXLhEhNDU1HTjbmujeLCkmeAHS0tIw2xrpxAihsbFxXl4evtzc3Mxms0W/GPEOUlJSxC+bdDqdmMIRIUShUGC2NfApzp49S/ofTbEQkyN+mBghXLNmze7du588eWJjYxMfH09cApuamqqgoODt7a2trb106dJTp07t3bu3paUlKysLvzIIgE8XFhY2OqP7Rta6des+2keMEOrq6iYkJLi6ulIolKlTp6alpeHtDx48UFFRwScMP378+OrVqxMTE/l8fkhICDFVIwCf6IcffiC7BEmh9BtN/FECgaCnp+fDewVsNptGo/Wb4D01NfX69evnz58nWkg/JoQCenp64JiQdGJftiYtLf3Rzw25U7sD8HmZWOeCARiDIIQAkAxCCADJIIQAkAxCCADJIIQAkAxCCADJIIQAkAxCCADJIIQAkAxCCADJxAvhw4cPlyxZYmNjs3PnTh6PN1S3Z8+erVq1Kjc395PLA2D8EyOELS0tHh4ea9asOXPmzO3bt/ft2zdoNx6Pt2nTpuLi4urq6hEqEoDxTIwQJicnOzo6btiwwdLSMiYm5t///rdAMMjNcQ4cOLB06VITE5ORKxKA8UyMEL548cLW1hZftrW1bWlpIW6gQaisrLx8+fI4Hn8JwIgTYzxha2urjY0NvqygoCAvL9/S0qKrq0t0EAqFgYGBx48fl5eXH/j06urqrKwsIyMj/OmFhYV9fX39Bv6Osu7u7gleQE9PD5/PH1ODeqlUKsy2NiRlZWVitjUej9fX16eioiLa4ejRo8bGxhYWFu/evePxeL29vd3d3TQaDf9XExMTFxcXfNaZSZMmqaqqdnV1kTv8F8OwCV6AlJQUjKwnnRghNDQ0fPXqFb786tUrOTk5HR0d0Q6VlZX4nd8QQl1dXU+fPn358iU+xyFCiEKhKCoqGhsbj1DlAIwTYvwJXLt2bVZWVk1NDULo2LFjvr6++G5ncnLyvXv3EEKJiYmd/7VgwYJDhw4RCQQADEWMb8I5c+b8/e9/t7a2VlRU1NLSysrKwtsvX748f/58Z2dn0c6KioqDHhkCAPoRe7Y1Dofzxx9/aGtri7smmG1tDBYAs62NBWK/+/Ly8sNIIABgKBPrXDAAYxCEEACSQQgBIBmEEACSQQgBIBmEEACSQQgBIBmEEACSQQgBIBmEEACSQQgBIJl4IeTxeD/99JOjo6OPj8+TJ08GdsjNzd2wYYOTk5O3t3dOTs4IFQnAeCZeCPft23f16tUjR444Ozv/5S9/6ezs7Nfh8uXL8+bNi42N9fT09PX1vXPnzsiVCsD4JMZ4Qj6f/69//SstLc3W1tbW1jYrKyslJeW7774T7UOM4p0/f35BQUFOTs6iRYtGsl4Axh0xvgkbGxtbW1vt7Ozwh3Z2ds+ePRuqM4ZhFRUVMJkFAB8l3mxr+CRr+EM1NbXS0tKhOh88eJDD4QQEBBAtr1+/zsnJsba2RghNmjTpxo0bfX19wy17ZLDZ7AleQG9vL4/HG1ODemk0Gsy2NiQ6nd7X1ycQCKSlpRFC3d3dysrKg/Y8ffr0yZMnCwoKJk2aRDQaGhra2dnh83YrKSmpqamRPq4cr2QiFyAtLQ0j60knRgh1dXWlpKTevHljamqKEKqurp46derAbikpKXv27Llz546hoaFou7S0tJqaGjFzKQAAJ8afQEVFxeXLl584cQIhVF9ff+3atTVr1iCEmpub9+/fj89Vk56eHhERkZubO23aNAlVDMA4I95+SGxs7M2bN83MzObMmbNt27Y5c+YghBoaGnbu3CkUChFCu3fvbmpqsrCwoFAoFApl7dq1EqkagHFEjN1RhJCxsXFFRUV9fb2KigqdTscbbWxs8AQihCoqKka4QADGO/FCiBCiUCgGBgaSKAWAiWlinQsGYAyCEAJAMgghACSDEAJAMgghACSDEAJAMtJC2NLSsn37drLWjvPz8yO3gLCwsNbWVhILiIuLYzKZJBaQnp6enp5OYgFjAWkhbGtrKywsJGvtCCEMw7Kzs0ksACFUWFjY3t5OYgHPnz/H7/pKlsrKysrKShILGAtgdxQAkkEIASCZ2JetDRuGYVwu9927d/hDFoslEAiIh6MPH/ZBYgEIIYFAwGKxSKyBy+Wy2WwSC+BwOOj//y/QaLSJNrxQ7NtlD9uxY8fCw8MVFBTwh0KhsKenR1FRcXTWPigWi0Vchk4KNptNpVJJHFPb29srKysrIzN6f4v7wWdXEB38vWnTpgMHDpBVDylGL4QAgEHBMSEAJIMQAkAykkNYV1fX1NTUr7Gnp6e6urq3t1fSa+fz+XV1dW1tbZJekbgwDHvz5s0YLGwYWlpa6urqBALBUB2G2lgWi1VdXc3j8SRc4BiASUZYWJiJiQlC6Pjx44N2YLFYCxcuNDAw0NbW9vX15XK5eHtmZqa6urqlpaWGhsa1a9eGXcDFixfnzp0rKyvr4eExaIfjx4+rqakZGRmpq6s7OTk1Nzfj7Z6ensSbo6+vP+wCMjMzGQyGnJycs7PzoB36XaqSlJSEtzc0NMyePXvatGkaGhpbt24VCoXDK6C2ttbFxUVFRQUh1N3dPbDD48eP+30Yrl+/jmFYcnKyaOOjR4+GVwCTyTQxMdHQ0DAyMtLX17979+7APk1NTVZWVqamphoaGqGhocTGJiYmqqqqWlhYTJky5fHjx8Mr4HMhqRBmZGQwmcwFCxYMFcJ9+/a5uLjw+fze3l4rK6tffvkFwzAOh6OpqYl/FLKysnR0dIhwiuvRo0e3b9+OiooaKoR5eXl1dXUYhvX19bm5uW3cuBFv9/T0TE5OHt5KRZWUlOTl5R04cOADITQyMhrYHhgYuH79egzD2tvbp0yZcufOneEV0NzcnJ6efv/+/aFCKCo3N1ddXZ3D4WAYlpyc7OnpObyViqqsrCwqKsKX4+Li9PT0BvYJDg728/PDMKyjo0NfXz8vLw/DsNbWViqVWlpaimFYQkKCtbX1pxczlklqd9Tb29vGxkZWVnaoDhcuXAgKCsLnvdywYcOFCxcQQvn5+QoKCu7u7gihZcuWSUtL3717d3gF2NvbL1q06AO/QCxevFhfXx8hJCcnt2jRorq6OuKfhELhp0/Ly2AwFi9ejH8RfUB3dzefzyceYhh24cKFkJAQhJC6uvqqVavwd2YYtLS0fHx8Bp2WcqBffvnFz89P9KcCFouFfdqZc3Nz8/nz5+PLS5cubWpqwmcZFZWamopvrJqa2tdff41vbEZGho2NjZWVFUJow4YN4/7SNtKOCWtqavD5SxFCpqam+BWMtbW1RCOFQjExMRmFKxu5XO6FCxfw5OO2bNmio6MzZcqUlJQUia66trbWwMBASUnJy8urpaUFIdTR0cFmswe+MxLV2dmZlZW1fv16ouXWrVuGhoY0Gm3Tpk347+mf6OzZsy4uLv1+he/s7GSxWAM3VvSzQaVSdXV1yb3AVdLICaFAIOjp6SF+uKdSqSwWCyHEZrOJRry9q6tLopVgGLZ161Y6nR4aGoq3xMfHv3//vqur69SpU0FBQU+fPpXQqk1NTRsaGjo6OpqamgQCQXBwMEII396B74xEnTt3ztLSEp/AEiG0ZMmS1tbWzs7OqqqqR48e4ZOmf4rLly8nJyefPHmyX/tQG8tms4m7LaBR+RiQi5wQSktLa2hoEBcrdXZ2amtrI4Q0NTVFr2Dq7OzU0tKSaCXbt29//vx5VlYWcdXItGnT8Hn+3d3dnZ2db9++LaFVKysr41utoqISFRWFHw7h2zvwnZGoX3/99a9//SvxUFtbG7/Bgb6+flhY2K1btz7lxa9fv7558+acnJyBdwcaamM1NTX/+OMPotsofAzIRdruqJWVFXF27vHjx/gBgJWV1fPnz/H9n56enhcvXuA3kJGQyMjIu3fv3rhxY6hDx/b29tG5sK6trU1RUZFCoVCpVDMzs4HvjOQ8efKkqqrq66+/HqqwT7lbRl5eXkBAwNWrVwf9f5SXl58xY8agHwOisa6urqOjw8LCYtg1fAYkdMLn8ePHaWlps2bN2rhxY1paWn19PYZh+fn5Tk5OeIfs7GwtLa1bt25duXJFRUWluLgYb1+wYEFAQEBJSYm/v/+iRYuGXUBNTU1aWtq33347d+7ctLS0kpISDMO4XO706dPLy8sxDIuNjaVSqfgdF9PS0m7evIlhWFdX144dO27dulVQUBAcHKyhodHU1DS8At6+fZuWlhYYGDhz5sy0tDTiRP+sWbPwYs6ePXv27NmioqLz588bGhpGRkbiHf75z3+am5s/fPjw9OnTdDodP4U7DAKBIC0tDb9tQUpKSkZGBt4eGhp6+PBholtISAh+fpJw+PDh9PT0oqKiEydOKCsrp6amDq8AJpOpoKCwbdu2tP/CT9KmpKT4+vrifY4fP25mZvbgwYNff/2VTqfX1NRgGMbj8UxMTCIiIkpKStzd3f39/YdXwOdCUlfuvnjxoqSkxMHBASGUn59vYmKip6enqqo6d+5cvMOyZcvi4uIOHTokKyubkpJia2uLt6enp0dFRYWFhVlaWl66dGnYBTQ3N+fn58vLyzMYjPz8fEdHRwaDISUlZW9vj3+5qaiorFu3jjjk09XVdXV1lZWV5XA4hw4d4vF4s2bNKi4uHvbeYFtbW35+PoVCcXJyys/PZzAY9vb2CCE7Ozv8i1dTUzMpKampqUlTUzMqKurbb7/Fn7hlyxaBQBAZGamqqpqTk4Ofwh0GoVCYn5+PEAoKCnrw4IG8vLy3tzdCyMzMTEdHh+impKS0ceNG0SeqqamdPXu2o6NDT08vNTVV9JSVWHg8np+fX09PD14GQsjFxYVKpWpra1taWuItISEhfD5/586dqqqq169fx8/lysjI5OXl7d69OywszMHBISoqangFfC7gAm4ASAbXjgJAMgghACSDEAJAMgghACSDEEoQh8O5f//+n5nU8NmzZ+TO/wlIBCEcMWVlZVlZWaItjY2NX3755Z+5Bn3Xrl3btm2TWGlgTIMQjpiUlBTRi78QQnQ6PSAgwMjIiKySwGeBtGm2JgINDY3Tp0+TXQUY6+CbcGTs3bs3JSXl/fv3DAaDwWA4OzsjhBobGx0dHUV3R5lMppeXl6amJo1Gs7S0jIuLG/TVHjx4YGdnFxMTgxDi8/n/+Mc/zM3NaTSalpaWo6NjXl7eqGwTGCXwTTgynJ2dCwsLi4qKgoKCEEL4wDkOh1NUVEScmCkoKHB1dTU1NY2OjtbV1a2qqiorKxv4UhkZGevWrQsMDAwPD0cIxcTExMTE7Nmzx9rams1mM5nMxsbGUdwyIHlkX7w6fnz//ffq6uqiLa9fv0YIpaWl4Q9nzZplaGg46EwTnp6ejo6OGIb9/PPP0tLSMTExxD8tXLjQx8dHkoUDksHu6Cipra0tLy/ftGkTlUodtAOGYeHh4REREefOnYuIiCDajY2N8/Ly4uPj3759O1rFglEFIRwl+D7kwIGthCdPnsTGxoaEhKxevVq0ff/+/QsXLgwPD9fX17ewsNi/f/+IzDcBxg4I4Sih0WgIoc7OzqE6MBiMmJiYo0eP/vzzz6LtmpqamZmZLS0t6enpDAYjKiqKmIkDjA9wYmbEKCgoDJxNjDBjxgxlZeWcnBx8LplBRUREKCoqbt26lcVi9RtEp66u7uPj4+PjIxAIbt68OZJ1A7LBN+GIMTEx6erqyszMbG1tFZ0iBScrK7t9+/bs7Ozo6Gj8VkTv37/PzMzs1y00NPTkyZN79+7dsWMH3nL48OGKigp8ua2traysbNq0aRLeFDC6yD4zNH709va6ubnh76qysjI24Owon88PCwuTkZGRkZHR1tamUCjEvMDE2VHcuXPnZGRkvv/+e6FQyGAwEEJUKtXAwEBWVtbMzOy3334b/a0DkgMj60dYb29vc3MzhUIxNDTk8/k1NTU6Ojr4ASGuqampuLiYz+dPnTrVxsYGvzlhc3OzUCjU1dUlujU0NPT19RkYGMjIyPz+++/V1dUcDkdfX3/evHkk3s8QSAKEEACSwd9UAEgGIQSAZBBCAEj2f6ctMxuOJHZiAAAAAElFTkSuQmCC\" />"
               },
               "type": "node"
              }
             ],
             "instanceArgs": {
              "handlers": {
               "obs-output": [
                "function (value, scope) {\n    scope.setInnerHTML(value);\n}\n"
               ]
              },
              "id": "6171697755335074511",
              "imports": {
               "data": [],
               "type": "async_block"
              },
              "mount_callbacks": [],
              "observables": {
               "obs-output": {
                "id": "6695817063105816758",
                "sync": false,
                "value": "<img src=\"data:image/png;base64,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\" />"
               }
              },
              "systemjs_options": null
             },
             "nodeType": "Scope",
             "props": {},
             "type": "node"
            }
           ],
           "instanceArgs": {
            "namespace": "html",
            "tag": "div"
           },
           "nodeType": "DOM",
           "props": {
            "style": {
             "display": "flex",
             "flex-direction": "column"
            }
           },
           "type": "node"
          }
         ],
         "instanceArgs": {
          "namespace": "html",
          "tag": "div"
         },
         "nodeType": "DOM",
         "props": {
          "style": {
           "display": "flex",
           "flex-direction": "row"
          }
         },
         "type": "node"
        }
       ],
       "instanceArgs": {
        "namespace": "html",
        "tag": "div"
       },
       "nodeType": "DOM",
       "props": {
        "style": {
         "display": "flex",
         "flex-direction": "column"
        }
       },
       "type": "node"
      },
      "text/html": [
       "<div\n",
       "    class=\"webio-mountpoint\"\n",
       "    data-webio-mountpoint=\"8012225157518699684\"\n",
       ">\n",
       "    <script>\n",
       "    (function(){\n",
       "    // Some integrations (namely, IJulia/Jupyter) use an alternate render pathway than\n",
       "    // just putting the html on the page. If WebIO isn't defined, then it's pretty likely\n",
       "    // that we're in one of those situations and the integration just isn't installed\n",
       "    // correctly.\n",
       "    if (typeof window.WebIO === \"undefined\") {\n",
       "        document\n",
       "            .querySelector('[data-webio-mountpoint=\"8012225157518699684\"]')\n",
       "            .innerHTML = (\n",
       "                '<div style=\"padding: 1em; background-color: #f8d6da; border: 1px solid #f5c6cb; font-weight: bold;\">' +\n",
       "                '<p><strong>WebIO not detected.</strong></p>' +\n",
       "                '<p>Please read ' +\n",
       "                '<a href=\"https://juliagizmos.github.io/WebIO.jl/latest/troubleshooting/not-detected/\" target=\"_blank\">the troubleshooting guide</a> ' +\n",
       "                'for more information on how to resolve this issue.</p>' +\n",
       "                '<p><a href=\"https://juliagizmos.github.io/WebIO.jl/latest/troubleshooting/not-detected/\" target=\"_blank\">https://juliagizmos.github.io/WebIO.jl/latest/troubleshooting/not-detected/</a></p>' +\n",
       "                '</div>'\n",
       "            );\n",
       "        return;\n",
       "    }\n",
       "    WebIO.mount(\n",
       "        document.querySelector('[data-webio-mountpoint=\"8012225157518699684\"]'),\n",
       "        {\"props\":{\"style\":{\"display\":\"flex\",\"flex-direction\":\"column\"}},\"nodeType\":\"DOM\",\"type\":\"node\",\"instanceArgs\":{\"namespace\":\"html\",\"tag\":\"div\"},\"children\":[{\"props\":{\"style\":{\"display\":\"flex\",\"flex-direction\":\"row\"}},\"nodeType\":\"DOM\",\"type\":\"node\",\"instanceArgs\":{\"namespace\":\"html\",\"tag\":\"div\"},\"children\":[{\"props\":{\"style\":{\"display\":\"flex\",\"flex-direction\":\"column\"}},\"nodeType\":\"DOM\",\"type\":\"node\",\"instanceArgs\":{\"namespace\":\"html\",\"tag\":\"div\"},\"children\":[{\"props\":{\"className\":\"field interact-widget\"},\"nodeType\":\"DOM\",\"type\":\"node\",\"instanceArgs\":{\"namespace\":\"html\",\"tag\":\"div\"},\"children\":[{\"props\":{},\"nodeType\":\"Scope\",\"type\":\"node\",\"instanceArgs\":{\"imports\":{\"data\":[{\"name\":\"knockout\",\"type\":\"js\",\"url\":\"\\/assetserver\\/727383f2a47bd31570b7da84eee7b022dd6d7c78-knockout.js\"},{\"name\":\"knockout_punches\",\"type\":\"js\",\"url\":\"\\/assetserver\\/382b41b3b1bd9f26f75861d360bad7f8beea211f-knockout_punches.js\"},{\"name\":null,\"type\":\"js\",\"url\":\"\\/assetserver\\/5ab20f1060420992a9b82a65b735dee4d81ef413-all.js\"},{\"name\":null,\"type\":\"css\",\"url\":\"\\/assetserver\\/1cc0ed62837210b80a182cc3676512f895dab686-style.css\"},{\"name\":null,\"type\":\"css\",\"url\":\"\\/assetserver\\/2eee816f616df3549d7044d45e744fbf8d42bfa1-bulma_confined.min.css\"}],\"type\":\"async_block\"},\"id\":\"8687053193877195382\",\"handlers\":{\"changes\":[\"(function (val){return (val!=this.model[\\\"changes\\\"]()) ? (this.valueFromJulia[\\\"changes\\\"]=true, this.model[\\\"changes\\\"](val)) : undefined})\"],\"index\":[\"(function (val){return (val!=this.model[\\\"index\\\"]()) ? (this.valueFromJulia[\\\"index\\\"]=true, this.model[\\\"index\\\"](val)) : undefined})\"]},\"systemjs_options\":null,\"mount_callbacks\":[\"function () {\\n    var handler = (function (ko, koPunches) {\\n    ko.punches.enableAll();\\n    ko.bindingHandlers.numericValue = {\\n        init: function(element, valueAccessor, allBindings, data, context) {\\n            var stringified = ko.observable(ko.unwrap(valueAccessor()));\\n            stringified.subscribe(function(value) {\\n                var val = parseFloat(value);\\n                if (!isNaN(val)) {\\n                    valueAccessor()(val);\\n                }\\n            });\\n            valueAccessor().subscribe(function(value) {\\n                var str = JSON.stringify(value);\\n                if ((str == \\\"0\\\") && ([\\\"-0\\\", \\\"-0.\\\"].indexOf(stringified()) >= 0))\\n                     return;\\n                 if ([\\\"null\\\", \\\"\\\"].indexOf(str) >= 0)\\n                     return;\\n                stringified(str);\\n            });\\n            ko.applyBindingsToNode(\\n                element,\\n                {\\n                    value: stringified,\\n                    valueUpdate: allBindings.get('valueUpdate'),\\n                },\\n                context,\\n            );\\n        }\\n    };\\n    var json_data = {\\\"formatted_vals\\\":[\\\"1\\\",\\\"2\\\",\\\"3\\\",\\\"4\\\",\\\"5\\\",\\\"6\\\",\\\"7\\\",\\\"8\\\",\\\"9\\\",\\\"10\\\",\\\"11\\\",\\\"12\\\",\\\"13\\\",\\\"14\\\",\\\"15\\\",\\\"16\\\",\\\"17\\\",\\\"18\\\",\\\"19\\\",\\\"20\\\",\\\"21\\\",\\\"22\\\",\\\"23\\\",\\\"24\\\",\\\"25\\\",\\\"26\\\",\\\"27\\\",\\\"28\\\",\\\"29\\\",\\\"30\\\",\\\"31\\\",\\\"32\\\",\\\"33\\\",\\\"34\\\",\\\"35\\\",\\\"36\\\",\\\"37\\\",\\\"38\\\",\\\"39\\\",\\\"40\\\",\\\"41\\\",\\\"42\\\",\\\"43\\\",\\\"44\\\",\\\"45\\\",\\\"46\\\",\\\"47\\\",\\\"48\\\",\\\"49\\\",\\\"50\\\",\\\"51\\\",\\\"52\\\",\\\"53\\\",\\\"54\\\",\\\"55\\\",\\\"56\\\",\\\"57\\\",\\\"58\\\",\\\"59\\\",\\\"60\\\",\\\"61\\\",\\\"62\\\",\\\"63\\\",\\\"64\\\",\\\"65\\\",\\\"66\\\",\\\"67\\\",\\\"68\\\",\\\"69\\\",\\\"70\\\",\\\"71\\\",\\\"72\\\",\\\"73\\\",\\\"74\\\",\\\"75\\\",\\\"76\\\",\\\"77\\\",\\\"78\\\",\\\"79\\\",\\\"80\\\",\\\"81\\\",\\\"82\\\",\\\"83\\\",\\\"84\\\",\\\"85\\\",\\\"86\\\",\\\"87\\\",\\\"88\\\",\\\"89\\\",\\\"90\\\",\\\"91\\\",\\\"92\\\",\\\"93\\\",\\\"94\\\",\\\"95\\\",\\\"96\\\",\\\"97\\\",\\\"98\\\",\\\"99\\\",\\\"100\\\",\\\"101\\\",\\\"102\\\",\\\"103\\\",\\\"104\\\",\\\"105\\\",\\\"106\\\",\\\"107\\\",\\\"108\\\",\\\"109\\\",\\\"110\\\",\\\"111\\\",\\\"112\\\",\\\"113\\\",\\\"114\\\",\\\"115\\\",\\\"116\\\",\\\"117\\\",\\\"118\\\",\\\"119\\\",\\\"120\\\",\\\"121\\\",\\\"122\\\",\\\"123\\\",\\\"124\\\",\\\"125\\\",\\\"126\\\",\\\"127\\\",\\\"128\\\",\\\"129\\\",\\\"130\\\",\\\"131\\\",\\\"132\\\",\\\"133\\\",\\\"134\\\",\\\"135\\\",\\\"136\\\",\\\"137\\\",\\\"138\\\",\\\"139\\\",\\\"140\\\",\\\"141\\\",\\\"142\\\",\\\"143\\\",\\\"144\\\",\\\"145\\\",\\\"146\\\",\\\"147\\\",\\\"148\\\",\\\"149\\\",\\\"150\\\",\\\"151\\\",\\\"152\\\",\\\"153\\\",\\\"154\\\",\\\"155\\\",\\\"156\\\",\\\"157\\\",\\\"158\\\",\\\"159\\\",\\\"160\\\",\\\"161\\\",\\\"162\\\",\\\"163\\\",\\\"164\\\",\\\"165\\\",\\\"166\\\",\\\"167\\\",\\\"168\\\",\\\"169\\\",\\\"170\\\",\\\"171\\\",\\\"172\\\",\\\"173\\\",\\\"174\\\",\\\"175\\\",\\\"176\\\",\\\"177\\\",\\\"178\\\",\\\"179\\\",\\\"180\\\",\\\"181\\\",\\\"182\\\",\\\"183\\\",\\\"184\\\",\\\"185\\\",\\\"186\\\",\\\"187\\\",\\\"188\\\",\\\"189\\\",\\\"190\\\",\\\"191\\\",\\\"192\\\",\\\"193\\\",\\\"194\\\",\\\"195\\\",\\\"196\\\",\\\"197\\\",\\\"198\\\",\\\"199\\\",\\\"200\\\"],\\\"changes\\\":WebIO.getval({\\\"name\\\":\\\"changes\\\",\\\"scope\\\":\\\"8687053193877195382\\\",\\\"id\\\":\\\"14234392148292000791\\\",\\\"type\\\":\\\"observable\\\"}),\\\"index\\\":WebIO.getval({\\\"name\\\":\\\"index\\\",\\\"scope\\\":\\\"8687053193877195382\\\",\\\"id\\\":\\\"17501876058121486726\\\",\\\"type\\\":\\\"observable\\\"})};\\n    var self = this;\\n    function AppViewModel() {\\n        for (var key in json_data) {\\n            var el = json_data[key];\\n            this[key] = Array.isArray(el) ? ko.observableArray(el) : ko.observable(el);\\n        }\\n        \\n        [this[\\\"formatted_val\\\"]=ko.computed(    function(){\\n        return this.formatted_vals()[parseInt(this.index())-(1)];\\n    }\\n,this)]\\n        [this[\\\"changes\\\"].subscribe((function (val){!(this.valueFromJulia[\\\"changes\\\"]) ? (WebIO.setval({\\\"name\\\":\\\"changes\\\",\\\"scope\\\":\\\"8687053193877195382\\\",\\\"id\\\":\\\"14234392148292000791\\\",\\\"type\\\":\\\"observable\\\"},val)) : undefined; return this.valueFromJulia[\\\"changes\\\"]=false}),self),this[\\\"index\\\"].subscribe((function (val){!(this.valueFromJulia[\\\"index\\\"]) ? (WebIO.setval({\\\"name\\\":\\\"index\\\",\\\"scope\\\":\\\"8687053193877195382\\\",\\\"id\\\":\\\"17501876058121486726\\\",\\\"type\\\":\\\"observable\\\"},val)) : undefined; return this.valueFromJulia[\\\"index\\\"]=false}),self)]\\n        \\n    }\\n    self.model = new AppViewModel();\\n    self.valueFromJulia = {};\\n    for (var key in json_data) {\\n        self.valueFromJulia[key] = false;\\n    }\\n    ko.applyBindings(self.model, self.dom);\\n}\\n);\\n    (WebIO.importBlock({\\\"data\\\":[{\\\"name\\\":\\\"knockout\\\",\\\"type\\\":\\\"js\\\",\\\"url\\\":\\\"\\/assetserver\\/727383f2a47bd31570b7da84eee7b022dd6d7c78-knockout.js\\\"},{\\\"name\\\":\\\"knockout_punches\\\",\\\"type\\\":\\\"js\\\",\\\"url\\\":\\\"\\/assetserver\\/382b41b3b1bd9f26f75861d360bad7f8beea211f-knockout_punches.js\\\"}],\\\"type\\\":\\\"async_block\\\"})).then((imports) => handler.apply(this, imports));\\n}\\n\"],\"observables\":{\"changes\":{\"sync\":false,\"id\":\"14234392148292000791\",\"value\":0},\"index\":{\"sync\":true,\"id\":\"17501876058121486726\",\"value\":1}}},\"children\":[{\"props\":{\"className\":\"interact-flex-row interact-widget\"},\"nodeType\":\"DOM\",\"type\":\"node\",\"instanceArgs\":{\"namespace\":\"html\",\"tag\":\"div\"},\"children\":[{\"props\":{\"className\":\"interact-flex-row-left\"},\"nodeType\":\"DOM\",\"type\":\"node\",\"instanceArgs\":{\"namespace\":\"html\",\"tag\":\"div\"},\"children\":[{\"props\":{\"className\":\"interact \",\"style\":{\"padding\":\"5px 10px 0px 10px\"}},\"nodeType\":\"DOM\",\"type\":\"node\",\"instanceArgs\":{\"namespace\":\"html\",\"tag\":\"label\"},\"children\":[\"time\"]}]},{\"props\":{\"className\":\"interact-flex-row-center\"},\"nodeType\":\"DOM\",\"type\":\"node\",\"instanceArgs\":{\"namespace\":\"html\",\"tag\":\"div\"},\"children\":[{\"props\":{\"max\":200,\"min\":1,\"attributes\":{\"type\":\"range\",\"data-bind\":\"numericValue: index, valueUpdate: 'input', event: {change: function (){this.changes(this.changes()+1)}}\",\"orient\":\"horizontal\"},\"step\":1,\"className\":\"slider slider is-fullwidth\",\"style\":{}},\"nodeType\":\"DOM\",\"type\":\"node\",\"instanceArgs\":{\"namespace\":\"html\",\"tag\":\"input\"},\"children\":[]}]},{\"props\":{\"className\":\"interact-flex-row-right\"},\"nodeType\":\"DOM\",\"type\":\"node\",\"instanceArgs\":{\"namespace\":\"html\",\"tag\":\"div\"},\"children\":[{\"props\":{\"attributes\":{\"data-bind\":\"text: formatted_val\"}},\"nodeType\":\"DOM\",\"type\":\"node\",\"instanceArgs\":{\"namespace\":\"html\",\"tag\":\"p\"},\"children\":[]}]}]}]}]},{\"props\":{\"className\":\"field interact-widget\"},\"nodeType\":\"DOM\",\"type\":\"node\",\"instanceArgs\":{\"namespace\":\"html\",\"tag\":\"div\"},\"children\":[{\"props\":{},\"nodeType\":\"Scope\",\"type\":\"node\",\"instanceArgs\":{\"imports\":{\"data\":[{\"name\":\"knockout\",\"type\":\"js\",\"url\":\"\\/assetserver\\/727383f2a47bd31570b7da84eee7b022dd6d7c78-knockout.js\"},{\"name\":\"knockout_punches\",\"type\":\"js\",\"url\":\"\\/assetserver\\/382b41b3b1bd9f26f75861d360bad7f8beea211f-knockout_punches.js\"},{\"name\":null,\"type\":\"js\",\"url\":\"\\/assetserver\\/5ab20f1060420992a9b82a65b735dee4d81ef413-all.js\"},{\"name\":null,\"type\":\"css\",\"url\":\"\\/assetserver\\/1cc0ed62837210b80a182cc3676512f895dab686-style.css\"},{\"name\":null,\"type\":\"css\",\"url\":\"\\/assetserver\\/2eee816f616df3549d7044d45e744fbf8d42bfa1-bulma_confined.min.css\"}],\"type\":\"async_block\"},\"id\":\"18126745280935451549\",\"handlers\":{\"changes\":[\"(function (val){return (val!=this.model[\\\"changes\\\"]()) ? (this.valueFromJulia[\\\"changes\\\"]=true, this.model[\\\"changes\\\"](val)) : undefined})\"],\"index\":[\"(function (val){return (val!=this.model[\\\"index\\\"]()) ? (this.valueFromJulia[\\\"index\\\"]=true, this.model[\\\"index\\\"](val)) : undefined})\"]},\"systemjs_options\":null,\"mount_callbacks\":[\"function () {\\n    var handler = (function (ko, koPunches) {\\n    ko.punches.enableAll();\\n    ko.bindingHandlers.numericValue = {\\n        init: function(element, valueAccessor, allBindings, data, context) {\\n            var stringified = ko.observable(ko.unwrap(valueAccessor()));\\n            stringified.subscribe(function(value) {\\n                var val = parseFloat(value);\\n                if (!isNaN(val)) {\\n                    valueAccessor()(val);\\n                }\\n            });\\n            valueAccessor().subscribe(function(value) {\\n                var str = JSON.stringify(value);\\n                if ((str == \\\"0\\\") && ([\\\"-0\\\", \\\"-0.\\\"].indexOf(stringified()) >= 0))\\n                     return;\\n                 if ([\\\"null\\\", \\\"\\\"].indexOf(str) >= 0)\\n                     return;\\n                stringified(str);\\n            });\\n            ko.applyBindingsToNode(\\n                element,\\n                {\\n                    value: stringified,\\n                    valueUpdate: allBindings.get('valueUpdate'),\\n                },\\n                context,\\n            );\\n        }\\n    };\\n    var json_data = {\\\"formatted_vals\\\":[\\\"0.1\\\",\\\"0.2\\\",\\\"0.3\\\",\\\"0.4\\\",\\\"0.5\\\",\\\"0.6\\\",\\\"0.7\\\",\\\"0.8\\\",\\\"0.9\\\",\\\"1.0\\\",\\\"1.1\\\",\\\"1.2\\\",\\\"1.3\\\",\\\"1.4\\\",\\\"1.5\\\",\\\"1.6\\\",\\\"1.7\\\",\\\"1.8\\\",\\\"1.9\\\",\\\"2.0\\\"],\\\"changes\\\":WebIO.getval({\\\"name\\\":\\\"changes\\\",\\\"scope\\\":\\\"18126745280935451549\\\",\\\"id\\\":\\\"7767737909516616731\\\",\\\"type\\\":\\\"observable\\\"}),\\\"index\\\":WebIO.getval({\\\"name\\\":\\\"index\\\",\\\"scope\\\":\\\"18126745280935451549\\\",\\\"id\\\":\\\"16487129904426891550\\\",\\\"type\\\":\\\"observable\\\"})};\\n    var self = this;\\n    function AppViewModel() {\\n        for (var key in json_data) {\\n            var el = json_data[key];\\n            this[key] = Array.isArray(el) ? ko.observableArray(el) : ko.observable(el);\\n        }\\n        \\n        [this[\\\"formatted_val\\\"]=ko.computed(    function(){\\n        return this.formatted_vals()[parseInt(this.index())-(1)];\\n    }\\n,this)]\\n        [this[\\\"changes\\\"].subscribe((function (val){!(this.valueFromJulia[\\\"changes\\\"]) ? (WebIO.setval({\\\"name\\\":\\\"changes\\\",\\\"scope\\\":\\\"18126745280935451549\\\",\\\"id\\\":\\\"7767737909516616731\\\",\\\"type\\\":\\\"observable\\\"},val)) : undefined; return this.valueFromJulia[\\\"changes\\\"]=false}),self),this[\\\"index\\\"].subscribe((function (val){!(this.valueFromJulia[\\\"index\\\"]) ? (WebIO.setval({\\\"name\\\":\\\"index\\\",\\\"scope\\\":\\\"18126745280935451549\\\",\\\"id\\\":\\\"16487129904426891550\\\",\\\"type\\\":\\\"observable\\\"},val)) : undefined; return this.valueFromJulia[\\\"index\\\"]=false}),self)]\\n        \\n    }\\n    self.model = new AppViewModel();\\n    self.valueFromJulia = {};\\n    for (var key in json_data) {\\n        self.valueFromJulia[key] = false;\\n    }\\n    ko.applyBindings(self.model, self.dom);\\n}\\n);\\n    (WebIO.importBlock({\\\"data\\\":[{\\\"name\\\":\\\"knockout\\\",\\\"type\\\":\\\"js\\\",\\\"url\\\":\\\"\\/assetserver\\/727383f2a47bd31570b7da84eee7b022dd6d7c78-knockout.js\\\"},{\\\"name\\\":\\\"knockout_punches\\\",\\\"type\\\":\\\"js\\\",\\\"url\\\":\\\"\\/assetserver\\/382b41b3b1bd9f26f75861d360bad7f8beea211f-knockout_punches.js\\\"}],\\\"type\\\":\\\"async_block\\\"})).then((imports) => handler.apply(this, imports));\\n}\\n\"],\"observables\":{\"changes\":{\"sync\":false,\"id\":\"7767737909516616731\",\"value\":0},\"index\":{\"sync\":true,\"id\":\"16487129904426891550\",\"value\":10}}},\"children\":[{\"props\":{\"className\":\"interact-flex-row interact-widget\"},\"nodeType\":\"DOM\",\"type\":\"node\",\"instanceArgs\":{\"namespace\":\"html\",\"tag\":\"div\"},\"children\":[{\"props\":{\"className\":\"interact-flex-row-left\"},\"nodeType\":\"DOM\",\"type\":\"node\",\"instanceArgs\":{\"namespace\":\"html\",\"tag\":\"div\"},\"children\":[{\"props\":{\"className\":\"interact \",\"style\":{\"padding\":\"5px 10px 0px 10px\"}},\"nodeType\":\"DOM\",\"type\":\"node\",\"instanceArgs\":{\"namespace\":\"html\",\"tag\":\"label\"},\"children\":[\"scale\"]}]},{\"props\":{\"className\":\"interact-flex-row-center\"},\"nodeType\":\"DOM\",\"type\":\"node\",\"instanceArgs\":{\"namespace\":\"html\",\"tag\":\"div\"},\"children\":[{\"props\":{\"max\":20,\"min\":1,\"attributes\":{\"type\":\"range\",\"data-bind\":\"numericValue: index, valueUpdate: 'input', event: {change: function (){this.changes(this.changes()+1)}}\",\"orient\":\"horizontal\"},\"step\":1,\"className\":\"slider slider is-fullwidth\",\"style\":{}},\"nodeType\":\"DOM\",\"type\":\"node\",\"instanceArgs\":{\"namespace\":\"html\",\"tag\":\"input\"},\"children\":[]}]},{\"props\":{\"className\":\"interact-flex-row-right\"},\"nodeType\":\"DOM\",\"type\":\"node\",\"instanceArgs\":{\"namespace\":\"html\",\"tag\":\"div\"},\"children\":[{\"props\":{\"attributes\":{\"data-bind\":\"text: formatted_val\"}},\"nodeType\":\"DOM\",\"type\":\"node\",\"instanceArgs\":{\"namespace\":\"html\",\"tag\":\"p\"},\"children\":[]}]}]}]}]},{\"props\":{\"style\":{\"display\":\"flex\",\"flex-direction\":\"column\"}},\"nodeType\":\"DOM\",\"type\":\"node\",\"instanceArgs\":{\"namespace\":\"html\",\"tag\":\"div\"},\"children\":[]},{\"props\":{\"style\":{\"display\":\"flex\",\"flex-direction\":\"column\"}},\"nodeType\":\"DOM\",\"type\":\"node\",\"instanceArgs\":{\"namespace\":\"html\",\"tag\":\"div\"},\"children\":[{\"props\":{\"className\":\"field interact-widget\"},\"nodeType\":\"DOM\",\"type\":\"node\",\"instanceArgs\":{\"namespace\":\"html\",\"tag\":\"div\"},\"children\":[{\"props\":{},\"nodeType\":\"Scope\",\"type\":\"node\",\"instanceArgs\":{\"imports\":{\"data\":[{\"name\":\"knockout\",\"type\":\"js\",\"url\":\"\\/assetserver\\/727383f2a47bd31570b7da84eee7b022dd6d7c78-knockout.js\"},{\"name\":\"knockout_punches\",\"type\":\"js\",\"url\":\"\\/assetserver\\/382b41b3b1bd9f26f75861d360bad7f8beea211f-knockout_punches.js\"},{\"name\":null,\"type\":\"js\",\"url\":\"\\/assetserver\\/5ab20f1060420992a9b82a65b735dee4d81ef413-all.js\"},{\"name\":null,\"type\":\"css\",\"url\":\"\\/assetserver\\/1cc0ed62837210b80a182cc3676512f895dab686-style.css\"},{\"name\":null,\"type\":\"css\",\"url\":\"\\/assetserver\\/2eee816f616df3549d7044d45e744fbf8d42bfa1-bulma_confined.min.css\"}],\"type\":\"async_block\"},\"id\":\"8262869424527034126\",\"handlers\":{\"changes\":[\"(function (val){return (val!=this.model[\\\"changes\\\"]()) ? (this.valueFromJulia[\\\"changes\\\"]=true, this.model[\\\"changes\\\"](val)) : undefined})\"],\"index\":[\"(function (val){return (val!=this.model[\\\"index\\\"]()) ? (this.valueFromJulia[\\\"index\\\"]=true, this.model[\\\"index\\\"](val)) : undefined})\"]},\"systemjs_options\":null,\"mount_callbacks\":[\"function () {\\n    var handler = (function (ko, koPunches) {\\n    ko.punches.enableAll();\\n    ko.bindingHandlers.numericValue = {\\n        init: function(element, valueAccessor, allBindings, data, context) {\\n            var stringified = ko.observable(ko.unwrap(valueAccessor()));\\n            stringified.subscribe(function(value) {\\n                var val = parseFloat(value);\\n                if (!isNaN(val)) {\\n                    valueAccessor()(val);\\n                }\\n            });\\n            valueAccessor().subscribe(function(value) {\\n                var str = JSON.stringify(value);\\n                if ((str == \\\"0\\\") && ([\\\"-0\\\", \\\"-0.\\\"].indexOf(stringified()) >= 0))\\n                     return;\\n                 if ([\\\"null\\\", \\\"\\\"].indexOf(str) >= 0)\\n                     return;\\n                stringified(str);\\n            });\\n            ko.applyBindingsToNode(\\n                element,\\n                {\\n                    value: stringified,\\n                    valueUpdate: allBindings.get('valueUpdate'),\\n                },\\n                context,\\n            );\\n        }\\n    };\\n    var json_data = {\\\"formatted_vals\\\":[\\\"1\\\",\\\"2\\\",\\\"3\\\",\\\"4\\\",\\\"5\\\",\\\"6\\\",\\\"7\\\",\\\"8\\\",\\\"9\\\",\\\"10\\\",\\\"11\\\",\\\"12\\\"],\\\"changes\\\":WebIO.getval({\\\"name\\\":\\\"changes\\\",\\\"scope\\\":\\\"8262869424527034126\\\",\\\"id\\\":\\\"15662250824614839608\\\",\\\"type\\\":\\\"observable\\\"}),\\\"index\\\":WebIO.getval({\\\"name\\\":\\\"index\\\",\\\"scope\\\":\\\"8262869424527034126\\\",\\\"id\\\":\\\"12168514417700633076\\\",\\\"type\\\":\\\"observable\\\"})};\\n    var self = this;\\n    function AppViewModel() {\\n        for (var key in json_data) {\\n            var el = json_data[key];\\n            this[key] = Array.isArray(el) ? ko.observableArray(el) : ko.observable(el);\\n        }\\n        \\n        [this[\\\"formatted_val\\\"]=ko.computed(    function(){\\n        return this.formatted_vals()[parseInt(this.index())-(1)];\\n    }\\n,this)]\\n        [this[\\\"changes\\\"].subscribe((function (val){!(this.valueFromJulia[\\\"changes\\\"]) ? (WebIO.setval({\\\"name\\\":\\\"changes\\\",\\\"scope\\\":\\\"8262869424527034126\\\",\\\"id\\\":\\\"15662250824614839608\\\",\\\"type\\\":\\\"observable\\\"},val)) : undefined; return this.valueFromJulia[\\\"changes\\\"]=false}),self),this[\\\"index\\\"].subscribe((function (val){!(this.valueFromJulia[\\\"index\\\"]) ? (WebIO.setval({\\\"name\\\":\\\"index\\\",\\\"scope\\\":\\\"8262869424527034126\\\",\\\"id\\\":\\\"12168514417700633076\\\",\\\"type\\\":\\\"observable\\\"},val)) : undefined; return this.valueFromJulia[\\\"index\\\"]=false}),self)]\\n        \\n    }\\n    self.model = new AppViewModel();\\n    self.valueFromJulia = {};\\n    for (var key in json_data) {\\n        self.valueFromJulia[key] = false;\\n    }\\n    ko.applyBindings(self.model, self.dom);\\n}\\n);\\n    (WebIO.importBlock({\\\"data\\\":[{\\\"name\\\":\\\"knockout\\\",\\\"type\\\":\\\"js\\\",\\\"url\\\":\\\"\\/assetserver\\/727383f2a47bd31570b7da84eee7b022dd6d7c78-knockout.js\\\"},{\\\"name\\\":\\\"knockout_punches\\\",\\\"type\\\":\\\"js\\\",\\\"url\\\":\\\"\\/assetserver\\/382b41b3b1bd9f26f75861d360bad7f8beea211f-knockout_punches.js\\\"}],\\\"type\\\":\\\"async_block\\\"})).then((imports) => handler.apply(this, imports));\\n}\\n\"],\"observables\":{\"changes\":{\"sync\":false,\"id\":\"15662250824614839608\",\"value\":0},\"index\":{\"sync\":true,\"id\":\"12168514417700633076\",\"value\":6}}},\"children\":[{\"props\":{\"className\":\"interact-flex-row interact-widget\"},\"nodeType\":\"DOM\",\"type\":\"node\",\"instanceArgs\":{\"namespace\":\"html\",\"tag\":\"div\"},\"children\":[{\"props\":{\"className\":\"interact-flex-row-left\"},\"nodeType\":\"DOM\",\"type\":\"node\",\"instanceArgs\":{\"namespace\":\"html\",\"tag\":\"div\"},\"children\":[{\"props\":{\"className\":\"interact \",\"style\":{\"padding\":\"5px 10px 0px 10px\"}},\"nodeType\":\"DOM\",\"type\":\"node\",\"instanceArgs\":{\"namespace\":\"html\",\"tag\":\"label\"},\"children\":[\"min_alike\"]}]},{\"props\":{\"className\":\"interact-flex-row-center\"},\"nodeType\":\"DOM\",\"type\":\"node\",\"instanceArgs\":{\"namespace\":\"html\",\"tag\":\"div\"},\"children\":[{\"props\":{\"max\":12,\"min\":1,\"attributes\":{\"type\":\"range\",\"data-bind\":\"numericValue: index, valueUpdate: 'input', event: {change: function (){this.changes(this.changes()+1)}}\",\"orient\":\"horizontal\"},\"step\":1,\"className\":\"slider slider is-fullwidth\",\"style\":{}},\"nodeType\":\"DOM\",\"type\":\"node\",\"instanceArgs\":{\"namespace\":\"html\",\"tag\":\"input\"},\"children\":[]}]},{\"props\":{\"className\":\"interact-flex-row-right\"},\"nodeType\":\"DOM\",\"type\":\"node\",\"instanceArgs\":{\"namespace\":\"html\",\"tag\":\"div\"},\"children\":[{\"props\":{\"attributes\":{\"data-bind\":\"text: formatted_val\"}},\"nodeType\":\"DOM\",\"type\":\"node\",\"instanceArgs\":{\"namespace\":\"html\",\"tag\":\"p\"},\"children\":[]}]}]}]}]}]},{\"props\":{\"style\":{\"display\":\"flex\",\"flex-direction\":\"row\"}},\"nodeType\":\"DOM\",\"type\":\"node\",\"instanceArgs\":{\"namespace\":\"html\",\"tag\":\"div\"},\"children\":[{\"props\":{\"className\":\"interact-widget\"},\"nodeType\":\"DOM\",\"type\":\"node\",\"instanceArgs\":{\"namespace\":\"html\",\"tag\":\"div\"},\"children\":[{\"props\":{},\"nodeType\":\"Scope\",\"type\":\"node\",\"instanceArgs\":{\"imports\":{\"data\":[{\"name\":null,\"type\":\"js\",\"url\":\"\\/assetserver\\/dd22ed1bf1896c2748f3fe616ce0b838adc895c1-katex.min.js\"},{\"name\":null,\"type\":\"css\",\"url\":\"\\/assetserver\\/46517a424aa5e6cffc1360d7e0848b601c584ee3-katex.min.css\"}],\"type\":\"async_block\"},\"id\":\"18132362213406044463\",\"handlers\":{\"value\":[\"(function (txt){return this.k.render(txt,this.container)})\"]},\"systemjs_options\":null,\"mount_callbacks\":[\"function () {\\n    var handler = ((function (k){this.k=k; this.container=this.dom.querySelector(\\\"#container\\\"); return k.render(\\\"\\\\\\\\;\\\\\\\\;\\\",this.container)}));\\n    (WebIO.importBlock({\\\"data\\\":[{\\\"name\\\":null,\\\"type\\\":\\\"js\\\",\\\"url\\\":\\\"\\/assetserver\\/dd22ed1bf1896c2748f3fe616ce0b838adc895c1-katex.min.js\\\"},{\\\"name\\\":null,\\\"type\\\":\\\"css\\\",\\\"url\\\":\\\"\\/assetserver\\/46517a424aa5e6cffc1360d7e0848b601c584ee3-katex.min.css\\\"}],\\\"type\\\":\\\"async_block\\\"})).then((imports) => handler.apply(this, imports));\\n}\\n\"],\"observables\":{\"value\":{\"sync\":false,\"id\":\"6392787675995809694\",\"value\":\"\\\\;\\\\;\"}}},\"children\":[{\"props\":{\"id\":\"container\"},\"nodeType\":\"DOM\",\"type\":\"node\",\"instanceArgs\":{\"namespace\":\"html\",\"tag\":\"div\"},\"children\":[]}]}]},{\"props\":{\"className\":\"field interact-widget\"},\"nodeType\":\"DOM\",\"type\":\"node\",\"instanceArgs\":{\"namespace\":\"html\",\"tag\":\"div\"},\"children\":[{\"props\":{},\"nodeType\":\"Scope\",\"type\":\"node\",\"instanceArgs\":{\"imports\":{\"data\":[{\"name\":\"knockout\",\"type\":\"js\",\"url\":\"\\/assetserver\\/727383f2a47bd31570b7da84eee7b022dd6d7c78-knockout.js\"},{\"name\":\"knockout_punches\",\"type\":\"js\",\"url\":\"\\/assetserver\\/382b41b3b1bd9f26f75861d360bad7f8beea211f-knockout_punches.js\"},{\"name\":null,\"type\":\"js\",\"url\":\"\\/assetserver\\/5ab20f1060420992a9b82a65b735dee4d81ef413-all.js\"},{\"name\":null,\"type\":\"css\",\"url\":\"\\/assetserver\\/1cc0ed62837210b80a182cc3676512f895dab686-style.css\"},{\"name\":null,\"type\":\"css\",\"url\":\"\\/assetserver\\/2eee816f616df3549d7044d45e744fbf8d42bfa1-bulma_confined.min.css\"}],\"type\":\"async_block\"},\"id\":\"6979668163084474347\",\"handlers\":{\"loading\":[\"(function (val){return (val!=this.model[\\\"loading\\\"]()) ? (this.valueFromJulia[\\\"loading\\\"]=true, this.model[\\\"loading\\\"](val)) : undefined})\"],\"clicks\":[\"(function (val){return (val!=this.model[\\\"clicks\\\"]()) ? (this.valueFromJulia[\\\"clicks\\\"]=true, this.model[\\\"clicks\\\"](val)) : undefined})\"]},\"systemjs_options\":null,\"mount_callbacks\":[\"function () {\\n    var handler = (function (ko, koPunches) {\\n    ko.punches.enableAll();\\n    ko.bindingHandlers.numericValue = {\\n        init: function(element, valueAccessor, allBindings, data, context) {\\n            var stringified = ko.observable(ko.unwrap(valueAccessor()));\\n            stringified.subscribe(function(value) {\\n                var val = parseFloat(value);\\n                if (!isNaN(val)) {\\n                    valueAccessor()(val);\\n                }\\n            });\\n            valueAccessor().subscribe(function(value) {\\n                var str = JSON.stringify(value);\\n                if ((str == \\\"0\\\") && ([\\\"-0\\\", \\\"-0.\\\"].indexOf(stringified()) >= 0))\\n                     return;\\n                 if ([\\\"null\\\", \\\"\\\"].indexOf(str) >= 0)\\n                     return;\\n                stringified(str);\\n            });\\n            ko.applyBindingsToNode(\\n                element,\\n                {\\n                    value: stringified,\\n                    valueUpdate: allBindings.get('valueUpdate'),\\n                },\\n                context,\\n            );\\n        }\\n    };\\n    var json_data = {\\\"loading\\\":WebIO.getval({\\\"name\\\":\\\"loading\\\",\\\"scope\\\":\\\"6979668163084474347\\\",\\\"id\\\":\\\"16922799462081615429\\\",\\\"type\\\":\\\"observable\\\"}),\\\"clicks\\\":WebIO.getval({\\\"name\\\":\\\"clicks\\\",\\\"scope\\\":\\\"6979668163084474347\\\",\\\"id\\\":\\\"9236224592770266366\\\",\\\"type\\\":\\\"observable\\\"})};\\n    var self = this;\\n    function AppViewModel() {\\n        for (var key in json_data) {\\n            var el = json_data[key];\\n            this[key] = Array.isArray(el) ? ko.observableArray(el) : ko.observable(el);\\n        }\\n        \\n        \\n        [this[\\\"loading\\\"].subscribe((function (val){!(this.valueFromJulia[\\\"loading\\\"]) ? (WebIO.setval({\\\"name\\\":\\\"loading\\\",\\\"scope\\\":\\\"6979668163084474347\\\",\\\"id\\\":\\\"16922799462081615429\\\",\\\"type\\\":\\\"observable\\\"},val)) : undefined; return this.valueFromJulia[\\\"loading\\\"]=false}),self),this[\\\"clicks\\\"].subscribe((function (val){!(this.valueFromJulia[\\\"clicks\\\"]) ? (WebIO.setval({\\\"name\\\":\\\"clicks\\\",\\\"scope\\\":\\\"6979668163084474347\\\",\\\"id\\\":\\\"9236224592770266366\\\",\\\"type\\\":\\\"observable\\\"},val)) : undefined; return this.valueFromJulia[\\\"clicks\\\"]=false}),self)]\\n        \\n    }\\n    self.model = new AppViewModel();\\n    self.valueFromJulia = {};\\n    for (var key in json_data) {\\n        self.valueFromJulia[key] = false;\\n    }\\n    ko.applyBindings(self.model, self.dom);\\n}\\n);\\n    (WebIO.importBlock({\\\"data\\\":[{\\\"name\\\":\\\"knockout\\\",\\\"type\\\":\\\"js\\\",\\\"url\\\":\\\"\\/assetserver\\/727383f2a47bd31570b7da84eee7b022dd6d7c78-knockout.js\\\"},{\\\"name\\\":\\\"knockout_punches\\\",\\\"type\\\":\\\"js\\\",\\\"url\\\":\\\"\\/assetserver\\/382b41b3b1bd9f26f75861d360bad7f8beea211f-knockout_punches.js\\\"}],\\\"type\\\":\\\"async_block\\\"})).then((imports) => handler.apply(this, imports));\\n}\\n\"],\"observables\":{\"loading\":{\"sync\":false,\"id\":\"16922799462081615429\",\"value\":false},\"clicks\":{\"sync\":true,\"id\":\"9236224592770266366\",\"value\":0}}},\"children\":[{\"props\":{\"attributes\":{\"data-bind\":\"click: function (){this.clicks(this.clicks()+1)}, css: {'is-loading' : loading}\"},\"className\":\"is-medium button is-primary\",\"style\":{}},\"nodeType\":\"DOM\",\"type\":\"node\",\"instanceArgs\":{\"namespace\":\"html\",\"tag\":\"button\"},\"children\":[\"run\"]}]}]},{\"props\":{\"className\":\"interact-widget\"},\"nodeType\":\"DOM\",\"type\":\"node\",\"instanceArgs\":{\"namespace\":\"html\",\"tag\":\"div\"},\"children\":[{\"props\":{},\"nodeType\":\"Scope\",\"type\":\"node\",\"instanceArgs\":{\"imports\":{\"data\":[{\"name\":null,\"type\":\"js\",\"url\":\"\\/assetserver\\/dd22ed1bf1896c2748f3fe616ce0b838adc895c1-katex.min.js\"},{\"name\":null,\"type\":\"css\",\"url\":\"\\/assetserver\\/46517a424aa5e6cffc1360d7e0848b601c584ee3-katex.min.css\"}],\"type\":\"async_block\"},\"id\":\"18132362213406044463\",\"handlers\":{\"value\":[\"(function (txt){return this.k.render(txt,this.container)})\"]},\"systemjs_options\":null,\"mount_callbacks\":[\"function () {\\n    var handler = ((function (k){this.k=k; this.container=this.dom.querySelector(\\\"#container\\\"); return k.render(\\\"\\\\\\\\;\\\\\\\\;\\\",this.container)}));\\n    (WebIO.importBlock({\\\"data\\\":[{\\\"name\\\":null,\\\"type\\\":\\\"js\\\",\\\"url\\\":\\\"\\/assetserver\\/dd22ed1bf1896c2748f3fe616ce0b838adc895c1-katex.min.js\\\"},{\\\"name\\\":null,\\\"type\\\":\\\"css\\\",\\\"url\\\":\\\"\\/assetserver\\/46517a424aa5e6cffc1360d7e0848b601c584ee3-katex.min.css\\\"}],\\\"type\\\":\\\"async_block\\\"})).then((imports) => handler.apply(this, imports));\\n}\\n\"],\"observables\":{\"value\":{\"sync\":false,\"id\":\"6392787675995809694\",\"value\":\"\\\\;\\\\;\"}}},\"children\":[{\"props\":{\"id\":\"container\"},\"nodeType\":\"DOM\",\"type\":\"node\",\"instanceArgs\":{\"namespace\":\"html\",\"tag\":\"div\"},\"children\":[]}]}]},{\"props\":{\"className\":\"field interact-widget\"},\"nodeType\":\"DOM\",\"type\":\"node\",\"instanceArgs\":{\"namespace\":\"html\",\"tag\":\"div\"},\"children\":[{\"props\":{},\"nodeType\":\"Scope\",\"type\":\"node\",\"instanceArgs\":{\"imports\":{\"data\":[{\"name\":\"knockout\",\"type\":\"js\",\"url\":\"\\/assetserver\\/727383f2a47bd31570b7da84eee7b022dd6d7c78-knockout.js\"},{\"name\":\"knockout_punches\",\"type\":\"js\",\"url\":\"\\/assetserver\\/382b41b3b1bd9f26f75861d360bad7f8beea211f-knockout_punches.js\"},{\"name\":null,\"type\":\"js\",\"url\":\"\\/assetserver\\/5ab20f1060420992a9b82a65b735dee4d81ef413-all.js\"},{\"name\":null,\"type\":\"css\",\"url\":\"\\/assetserver\\/1cc0ed62837210b80a182cc3676512f895dab686-style.css\"},{\"name\":null,\"type\":\"css\",\"url\":\"\\/assetserver\\/2eee816f616df3549d7044d45e744fbf8d42bfa1-bulma_confined.min.css\"}],\"type\":\"async_block\"},\"id\":\"14604223747639455038\",\"handlers\":{\"loading\":[\"(function (val){return (val!=this.model[\\\"loading\\\"]()) ? (this.valueFromJulia[\\\"loading\\\"]=true, this.model[\\\"loading\\\"](val)) : undefined})\"],\"clicks\":[\"(function (val){return (val!=this.model[\\\"clicks\\\"]()) ? (this.valueFromJulia[\\\"clicks\\\"]=true, this.model[\\\"clicks\\\"](val)) : undefined})\"]},\"systemjs_options\":null,\"mount_callbacks\":[\"function () {\\n    var handler = (function (ko, koPunches) {\\n    ko.punches.enableAll();\\n    ko.bindingHandlers.numericValue = {\\n        init: function(element, valueAccessor, allBindings, data, context) {\\n            var stringified = ko.observable(ko.unwrap(valueAccessor()));\\n            stringified.subscribe(function(value) {\\n                var val = parseFloat(value);\\n                if (!isNaN(val)) {\\n                    valueAccessor()(val);\\n                }\\n            });\\n            valueAccessor().subscribe(function(value) {\\n                var str = JSON.stringify(value);\\n                if ((str == \\\"0\\\") && ([\\\"-0\\\", \\\"-0.\\\"].indexOf(stringified()) >= 0))\\n                     return;\\n                 if ([\\\"null\\\", \\\"\\\"].indexOf(str) >= 0)\\n                     return;\\n                stringified(str);\\n            });\\n            ko.applyBindingsToNode(\\n                element,\\n                {\\n                    value: stringified,\\n                    valueUpdate: allBindings.get('valueUpdate'),\\n                },\\n                context,\\n            );\\n        }\\n    };\\n    var json_data = {\\\"loading\\\":WebIO.getval({\\\"name\\\":\\\"loading\\\",\\\"scope\\\":\\\"14604223747639455038\\\",\\\"id\\\":\\\"6557909328841086009\\\",\\\"type\\\":\\\"observable\\\"}),\\\"clicks\\\":WebIO.getval({\\\"name\\\":\\\"clicks\\\",\\\"scope\\\":\\\"14604223747639455038\\\",\\\"id\\\":\\\"7711583685995879039\\\",\\\"type\\\":\\\"observable\\\"})};\\n    var self = this;\\n    function AppViewModel() {\\n        for (var key in json_data) {\\n            var el = json_data[key];\\n            this[key] = Array.isArray(el) ? ko.observableArray(el) : ko.observable(el);\\n        }\\n        \\n        \\n        [this[\\\"loading\\\"].subscribe((function (val){!(this.valueFromJulia[\\\"loading\\\"]) ? (WebIO.setval({\\\"name\\\":\\\"loading\\\",\\\"scope\\\":\\\"14604223747639455038\\\",\\\"id\\\":\\\"6557909328841086009\\\",\\\"type\\\":\\\"observable\\\"},val)) : undefined; return this.valueFromJulia[\\\"loading\\\"]=false}),self),this[\\\"clicks\\\"].subscribe((function (val){!(this.valueFromJulia[\\\"clicks\\\"]) ? (WebIO.setval({\\\"name\\\":\\\"clicks\\\",\\\"scope\\\":\\\"14604223747639455038\\\",\\\"id\\\":\\\"7711583685995879039\\\",\\\"type\\\":\\\"observable\\\"},val)) : undefined; return this.valueFromJulia[\\\"clicks\\\"]=false}),self)]\\n        \\n    }\\n    self.model = new AppViewModel();\\n    self.valueFromJulia = {};\\n    for (var key in json_data) {\\n        self.valueFromJulia[key] = false;\\n    }\\n    ko.applyBindings(self.model, self.dom);\\n}\\n);\\n    (WebIO.importBlock({\\\"data\\\":[{\\\"name\\\":\\\"knockout\\\",\\\"type\\\":\\\"js\\\",\\\"url\\\":\\\"\\/assetserver\\/727383f2a47bd31570b7da84eee7b022dd6d7c78-knockout.js\\\"},{\\\"name\\\":\\\"knockout_punches\\\",\\\"type\\\":\\\"js\\\",\\\"url\\\":\\\"\\/assetserver\\/382b41b3b1bd9f26f75861d360bad7f8beea211f-knockout_punches.js\\\"}],\\\"type\\\":\\\"async_block\\\"})).then((imports) => handler.apply(this, imports));\\n}\\n\"],\"observables\":{\"loading\":{\"sync\":false,\"id\":\"6557909328841086009\",\"value\":false},\"clicks\":{\"sync\":true,\"id\":\"7711583685995879039\",\"value\":0}}},\"children\":[{\"props\":{\"attributes\":{\"data-bind\":\"click: function (){this.clicks(this.clicks()+1)}, css: {'is-loading' : loading}\"},\"className\":\"is-medium button is-primary\",\"style\":{}},\"nodeType\":\"DOM\",\"type\":\"node\",\"instanceArgs\":{\"namespace\":\"html\",\"tag\":\"button\"},\"children\":[\"stop\"]}]}]},{\"props\":{\"className\":\"interact-widget\"},\"nodeType\":\"DOM\",\"type\":\"node\",\"instanceArgs\":{\"namespace\":\"html\",\"tag\":\"div\"},\"children\":[{\"props\":{},\"nodeType\":\"Scope\",\"type\":\"node\",\"instanceArgs\":{\"imports\":{\"data\":[{\"name\":null,\"type\":\"js\",\"url\":\"\\/assetserver\\/dd22ed1bf1896c2748f3fe616ce0b838adc895c1-katex.min.js\"},{\"name\":null,\"type\":\"css\",\"url\":\"\\/assetserver\\/46517a424aa5e6cffc1360d7e0848b601c584ee3-katex.min.css\"}],\"type\":\"async_block\"},\"id\":\"18132362213406044463\",\"handlers\":{\"value\":[\"(function (txt){return this.k.render(txt,this.container)})\"]},\"systemjs_options\":null,\"mount_callbacks\":[\"function () {\\n    var handler = ((function (k){this.k=k; this.container=this.dom.querySelector(\\\"#container\\\"); return k.render(\\\"\\\\\\\\;\\\\\\\\;\\\",this.container)}));\\n    (WebIO.importBlock({\\\"data\\\":[{\\\"name\\\":null,\\\"type\\\":\\\"js\\\",\\\"url\\\":\\\"\\/assetserver\\/dd22ed1bf1896c2748f3fe616ce0b838adc895c1-katex.min.js\\\"},{\\\"name\\\":null,\\\"type\\\":\\\"css\\\",\\\"url\\\":\\\"\\/assetserver\\/46517a424aa5e6cffc1360d7e0848b601c584ee3-katex.min.css\\\"}],\\\"type\\\":\\\"async_block\\\"})).then((imports) => handler.apply(this, imports));\\n}\\n\"],\"observables\":{\"value\":{\"sync\":false,\"id\":\"6392787675995809694\",\"value\":\"\\\\;\\\\;\"}}},\"children\":[{\"props\":{\"id\":\"container\"},\"nodeType\":\"DOM\",\"type\":\"node\",\"instanceArgs\":{\"namespace\":\"html\",\"tag\":\"div\"},\"children\":[]}]}]},{\"props\":{\"className\":\"field interact-widget\"},\"nodeType\":\"DOM\",\"type\":\"node\",\"instanceArgs\":{\"namespace\":\"html\",\"tag\":\"div\"},\"children\":[{\"props\":{},\"nodeType\":\"Scope\",\"type\":\"node\",\"instanceArgs\":{\"imports\":{\"data\":[{\"name\":\"knockout\",\"type\":\"js\",\"url\":\"\\/assetserver\\/727383f2a47bd31570b7da84eee7b022dd6d7c78-knockout.js\"},{\"name\":\"knockout_punches\",\"type\":\"js\",\"url\":\"\\/assetserver\\/382b41b3b1bd9f26f75861d360bad7f8beea211f-knockout_punches.js\"},{\"name\":null,\"type\":\"js\",\"url\":\"\\/assetserver\\/5ab20f1060420992a9b82a65b735dee4d81ef413-all.js\"},{\"name\":null,\"type\":\"css\",\"url\":\"\\/assetserver\\/1cc0ed62837210b80a182cc3676512f895dab686-style.css\"},{\"name\":null,\"type\":\"css\",\"url\":\"\\/assetserver\\/2eee816f616df3549d7044d45e744fbf8d42bfa1-bulma_confined.min.css\"}],\"type\":\"async_block\"},\"id\":\"11137228206554552684\",\"handlers\":{\"loading\":[\"(function (val){return (val!=this.model[\\\"loading\\\"]()) ? (this.valueFromJulia[\\\"loading\\\"]=true, this.model[\\\"loading\\\"](val)) : undefined})\"],\"clicks\":[\"(function (val){return (val!=this.model[\\\"clicks\\\"]()) ? (this.valueFromJulia[\\\"clicks\\\"]=true, this.model[\\\"clicks\\\"](val)) : undefined})\"]},\"systemjs_options\":null,\"mount_callbacks\":[\"function () {\\n    var handler = (function (ko, koPunches) {\\n    ko.punches.enableAll();\\n    ko.bindingHandlers.numericValue = {\\n        init: function(element, valueAccessor, allBindings, data, context) {\\n            var stringified = ko.observable(ko.unwrap(valueAccessor()));\\n            stringified.subscribe(function(value) {\\n                var val = parseFloat(value);\\n                if (!isNaN(val)) {\\n                    valueAccessor()(val);\\n                }\\n            });\\n            valueAccessor().subscribe(function(value) {\\n                var str = JSON.stringify(value);\\n                if ((str == \\\"0\\\") && ([\\\"-0\\\", \\\"-0.\\\"].indexOf(stringified()) >= 0))\\n                     return;\\n                 if ([\\\"null\\\", \\\"\\\"].indexOf(str) >= 0)\\n                     return;\\n                stringified(str);\\n            });\\n            ko.applyBindingsToNode(\\n                element,\\n                {\\n                    value: stringified,\\n                    valueUpdate: allBindings.get('valueUpdate'),\\n                },\\n                context,\\n            );\\n        }\\n    };\\n    var json_data = {\\\"loading\\\":WebIO.getval({\\\"name\\\":\\\"loading\\\",\\\"scope\\\":\\\"11137228206554552684\\\",\\\"id\\\":\\\"12421476244737714634\\\",\\\"type\\\":\\\"observable\\\"}),\\\"clicks\\\":WebIO.getval({\\\"name\\\":\\\"clicks\\\",\\\"scope\\\":\\\"11137228206554552684\\\",\\\"id\\\":\\\"16728142331508763875\\\",\\\"type\\\":\\\"observable\\\"})};\\n    var self = this;\\n    function AppViewModel() {\\n        for (var key in json_data) {\\n            var el = json_data[key];\\n            this[key] = Array.isArray(el) ? ko.observableArray(el) : ko.observable(el);\\n        }\\n        \\n        \\n        [this[\\\"loading\\\"].subscribe((function (val){!(this.valueFromJulia[\\\"loading\\\"]) ? (WebIO.setval({\\\"name\\\":\\\"loading\\\",\\\"scope\\\":\\\"11137228206554552684\\\",\\\"id\\\":\\\"12421476244737714634\\\",\\\"type\\\":\\\"observable\\\"},val)) : undefined; return this.valueFromJulia[\\\"loading\\\"]=false}),self),this[\\\"clicks\\\"].subscribe((function (val){!(this.valueFromJulia[\\\"clicks\\\"]) ? (WebIO.setval({\\\"name\\\":\\\"clicks\\\",\\\"scope\\\":\\\"11137228206554552684\\\",\\\"id\\\":\\\"16728142331508763875\\\",\\\"type\\\":\\\"observable\\\"},val)) : undefined; return this.valueFromJulia[\\\"clicks\\\"]=false}),self)]\\n        \\n    }\\n    self.model = new AppViewModel();\\n    self.valueFromJulia = {};\\n    for (var key in json_data) {\\n        self.valueFromJulia[key] = false;\\n    }\\n    ko.applyBindings(self.model, self.dom);\\n}\\n);\\n    (WebIO.importBlock({\\\"data\\\":[{\\\"name\\\":\\\"knockout\\\",\\\"type\\\":\\\"js\\\",\\\"url\\\":\\\"\\/assetserver\\/727383f2a47bd31570b7da84eee7b022dd6d7c78-knockout.js\\\"},{\\\"name\\\":\\\"knockout_punches\\\",\\\"type\\\":\\\"js\\\",\\\"url\\\":\\\"\\/assetserver\\/382b41b3b1bd9f26f75861d360bad7f8beea211f-knockout_punches.js\\\"}],\\\"type\\\":\\\"async_block\\\"})).then((imports) => handler.apply(this, imports));\\n}\\n\"],\"observables\":{\"loading\":{\"sync\":false,\"id\":\"12421476244737714634\",\"value\":false},\"clicks\":{\"sync\":true,\"id\":\"16728142331508763875\",\"value\":0}}},\"children\":[{\"props\":{\"attributes\":{\"data-bind\":\"click: function (){this.clicks(this.clicks()+1)}, css: {'is-loading' : loading}\"},\"className\":\"is-medium button is-primary\",\"style\":{}},\"nodeType\":\"DOM\",\"type\":\"node\",\"instanceArgs\":{\"namespace\":\"html\",\"tag\":\"button\"},\"children\":[\"reset\"]}]}]}]}]},{\"props\":{},\"nodeType\":\"Scope\",\"type\":\"node\",\"instanceArgs\":{\"imports\":{\"data\":[],\"type\":\"async_block\"},\"id\":\"10557862035381884959\",\"handlers\":{\"obs-output\":[\"function (value, scope) {\\n    scope.setInnerHTML(value);\\n}\\n\"]},\"systemjs_options\":null,\"mount_callbacks\":[],\"observables\":{\"obs-output\":{\"sync\":false,\"id\":\"8483908959681485820\",\"value\":\"    <div style=\\\"height: 500px; width: 100%; overflow-x: auto; overflow-y: hidden; resize: both\\\">\\n    <iframe src=\\\"http:\\/\\/127.0.0.1:8721\\\" style=\\\"width: 100%; height: 100%; border: none\\\"><\\/iframe>\\n    <\\/div>\\n\"}}},\"children\":[{\"props\":{\"className\":\"webio-observable\",\"setInnerHtml\":\"    <div style=\\\"height: 500px; width: 100%; overflow-x: auto; overflow-y: hidden; resize: both\\\">\\n    <iframe src=\\\"http:\\/\\/127.0.0.1:8721\\\" style=\\\"width: 100%; height: 100%; border: none\\\"><\\/iframe>\\n    <\\/div>\\n\"},\"nodeType\":\"DOM\",\"type\":\"node\",\"instanceArgs\":{\"namespace\":\"html\",\"tag\":\"div\"},\"children\":[]}]},{\"props\":{\"className\":\"interact-widget\"},\"nodeType\":\"DOM\",\"type\":\"node\",\"instanceArgs\":{\"namespace\":\"html\",\"tag\":\"div\"},\"children\":[{\"props\":{},\"nodeType\":\"Scope\",\"type\":\"node\",\"instanceArgs\":{\"imports\":{\"data\":[{\"name\":null,\"type\":\"js\",\"url\":\"\\/assetserver\\/dd22ed1bf1896c2748f3fe616ce0b838adc895c1-katex.min.js\"},{\"name\":null,\"type\":\"css\",\"url\":\"\\/assetserver\\/46517a424aa5e6cffc1360d7e0848b601c584ee3-katex.min.css\"}],\"type\":\"async_block\"},\"id\":\"18132362213406044463\",\"handlers\":{\"value\":[\"(function (txt){return this.k.render(txt,this.container)})\"]},\"systemjs_options\":null,\"mount_callbacks\":[\"function () {\\n    var handler = ((function (k){this.k=k; this.container=this.dom.querySelector(\\\"#container\\\"); return k.render(\\\"\\\\\\\\;\\\\\\\\;\\\",this.container)}));\\n    (WebIO.importBlock({\\\"data\\\":[{\\\"name\\\":null,\\\"type\\\":\\\"js\\\",\\\"url\\\":\\\"\\/assetserver\\/dd22ed1bf1896c2748f3fe616ce0b838adc895c1-katex.min.js\\\"},{\\\"name\\\":null,\\\"type\\\":\\\"css\\\",\\\"url\\\":\\\"\\/assetserver\\/46517a424aa5e6cffc1360d7e0848b601c584ee3-katex.min.css\\\"}],\\\"type\\\":\\\"async_block\\\"})).then((imports) => handler.apply(this, imports));\\n}\\n\"],\"observables\":{\"value\":{\"sync\":false,\"id\":\"6392787675995809694\",\"value\":\"\\\\;\\\\;\"}}},\"children\":[{\"props\":{\"id\":\"container\"},\"nodeType\":\"DOM\",\"type\":\"node\",\"instanceArgs\":{\"namespace\":\"html\",\"tag\":\"div\"},\"children\":[]}]}]},{\"props\":{\"style\":{\"display\":\"flex\",\"flex-direction\":\"column\"}},\"nodeType\":\"DOM\",\"type\":\"node\",\"instanceArgs\":{\"namespace\":\"html\",\"tag\":\"div\"},\"children\":[{\"props\":{},\"nodeType\":\"Scope\",\"type\":\"node\",\"instanceArgs\":{\"imports\":{\"data\":[],\"type\":\"async_block\"},\"id\":\"11879546173748172076\",\"handlers\":{\"obs-output\":[\"function (value, scope) {\\n    scope.setInnerHTML(value);\\n}\\n\"]},\"systemjs_options\":null,\"mount_callbacks\":[],\"observables\":{\"obs-output\":{\"sync\":false,\"id\":\"14677014341103871719\",\"value\":\"<img src=\\\"data:image\\/png;base64,iVBORw0KGgoAAAANSUhEUgAAASwAAACWCAIAAADrOSKFAAAABmJLR0QA\\/wD\\/AP+gvaeTAAAb4UlEQVR4nO3de1xM+f8H8M90UzM1XXVT6SaRKI1KZTfylS4ktZaljb5Kicfqa79lN8J3RZSsr\\/D9JrsSoW9SuSTlEooeDZHaNvLQRfeLNU01ze38\\/jiP7\\/nOrws7aTqp9\\/OvMx+fmfM+Y17NOWfO53MoGIYhAAB5pMguAICJDkIIAMkghACQDEIIAMkghACQDEIIAMkghACQDEIIAMkghACQDEIIAMlGL4RlZWVnzpwRbeHxeKO29kFBAXw+n9zrFoVCoVAoJLGAsWD0QlheXp6XlyfawuFwRm3tg4ICuFwuuSHk8\\/l8Pp\\/EAsYC2B0FgGQyZBcAwJ9SWFjY2NhIdhVimz179vTp0z\\/cB0IIPg8+Pj52dnaTJk0iuxAxNDQ0aGlpZWRkfLgbhBB8HoRCYVJS0uTJk8kuRAyZmZnJyckf7QbHhACQDEIIAMkghACQDEIIAMkghACQDEIIAMkghGCiEAqFO3bs6OvrI7uQ\\/iCEYKIQCoUHDx787EPIZDIXLFhgYGCwatWq1tbWgR3Ky8s9PDwMDQ3nzp2blJQ0QkUCMJI6Ozubm5tFW3g8Xl1d3fv37wd2bmho6O7u7tfY29tbX18\\/UvWIEcK+vj5PT89vvvmGyWQqKSlt2rRpYB8vLy8Gg\\/HixYsTJ05s3779wYMHI1UoACMiOjr6iy++sLGxWb58OT6C5OrVq2ZmZmvWrLG0tFy5ciU+vuz+\\/fvTp0\\/38vJauXKloaFhTEwM\\/nQ3N7f169czGAwvL68ZM2a8fv0aIeTh4XHy5Em8A5fL1dLSKi0t\\/fMliXHZWmZmprq6ekhICELowIEDenp6jY2Nurq6RAcOh\\/PmzRt\\/f38lJSV7e3srK6vKysoFCxb8+VUA8GFCDGXXCXlijkCcoUKZpUrBl5WUlMrLy3t7e2fOnFlQUODs7Dx\\/\\/vyXL1\\/KysoKBAIPD49z585t2LABIfTy5cuYmBhvb++GhgZLS0s3N7c5c+YghF68eMFkMhUUFCIjI7dt23b16tWQkJDIyEg8GleuXDE2Nra2tv7z5YkRwt9++83GxgZf1tTU1NbWrqqqEg2hvLz8mjVr9u\\/f\\/91331VUVNTW1np4ePz51wfgo\\/oE6PIbrE8g3rOWTUVECAMCAhBCCgoKNjY21dXVzs7OKioqly9ffvz4cU9PT2dn5\\/Pnz\\/GekydP9vb2RghNmTLFzc0tLy8PD6Gfn5+CggJCKCgoyNzcXCgUuru7b926taSkZN68eYmJiUFBQWKVJ0YIOzo6lJSUiIcqKiptbW39+oSGhq5du7akpKSxsTE0NFQ0oi9fvkxPT79x4wZCSFFRsaysrK+vj0KhiFXuyOru7p7gBfT09PD5fCkp0s7PcblchJCcnBzRQqVSP1CPggxKcZb+lDUqKiriC3Jycvie5w8\\/\\/FBWVrZly5bJkydLSUn19PTgHeh0OvEsZWVlFouFLxMpoNPpfX19HA6HSqUGBgYmJiaqqamVlpZmZ2eLVZIYIVRVVa2rqyMeslgsNTU10Q5tbW2urq65ubkODg7d3d1OTk46OjrEoaOZmdny5csTExMRQjIyMkpKSl1dXcQ7QgoMwyZ4AVJSUvLy8mMqhKMvNzc3ISHhiy++QAgdPHiQGKhRX1\\/f3t6uoaGBEHr69OnWrVvx9mfPnuELpaWlBgYGVCoVIRQYGGhubi4tLb127VoajSZWAWKE0MTEJDc3F19+\\/\\/59U1OTiYmJaIeqqippaWkHBweEEI1G+\\/LLL5lMpuj5Gzk5OVVVVbHqA0DSrKys4uLi2Gx2QUFBSUmJu7s73k6lUv39\\/YOCgu7du9fe3u7j44O3Z2dnGxkZ6evr79y5Mzw8HG+cPHnykiVLEhMTib3ZP0+MP4ErV66sqqq6desWhmHx8fH29vZGRkYIoUuXLuEzOE2fPp3L5WZlZSGEWltbc3JyxDo8BUCipKSkYmJiiGHBq1evtre3RwglJCTY2tpmZGSYmZmlp6evXLkS76CnpxcZGXnz5k0lJaWioiJ5eXm8fc+ePTwe7\\/bt29HR0Zs3byZe39nZ2d7e3tLSUtzCxPgmpNPp58+fDwgI6OrqMjMzS01NxdvLy8u7uroQQpMnT05NTQ0PDw8KChIKhatXrxb3CBUAyZGSkoqIiCAeLl++HF+g0+k7d+4c9CkODg74np2oSZMmib4Orru7OyEhITIychiFiTey3tPT8+3btzweT1ZWlmj86aefiOUVK1asWLGCz+fLyMCYffAZk5GRET0xQ1BUVBx4BHvjxo3AwMAlS5asWrVqOOsaxnNEEzj4i0ICwWfOwcGhsLBwYPt\\/\\/vOfgY3u7u4NDQ3DXhdcOwrAR8THx9fW1kru9SGEAHxEUlLSp3zRfRSEEEws7969KysrEw0Vl8utrKysr6\\/vNxl5R0fHy5cvR6EkOHgDE8jhw4ePHj06c+bM1tZWFxeX2NjYhw8f+vv76+vrd3R0KCoq3rhxA\\/8pOzIy8vTp0zNmzFBQUJD06CcIIfisCIU9T+5gPK5YT5KbOl12iglC6NChQ4WFhaampui\\/NwKZM2dOVVUVfioxMDAwISFh165dxcXFSUlJFRUVGhoa2dnZXl5eEtiS\\/4EQgs8JJuBza6swoXhXcFMmKeAhtLCwCAkJ8ff3d3V1xS9Po9Foly5dKiwsbG1trampwYcU3rlzx9PTE79gbfny5erq6hLYlP+BEILPCUVWTsU3dNhPv3r1akpKysWLF4OCgqKjo8PCwg4dOpSTk\\/Pjjz9qaGhkZmbi14Wy2WzRa3olfX0vnJgBEwiNRgsODr527dq1a9eOHDmCELpz587mzZtdXV1tbGxaWlrwbubm5kwmE19ubGyU6KlRBN+EYOIQCAQrV65ctmyZurp6amqqk5MTQsjW1vbIkSPS0tJPnz69ffv2zJkzEUJfffXVvn37Nm\\/e\\/MUXXyQlJQ166cwIghCCiUJKSsrPz+\\/JkydlZWVubm7ffPMNQmj37t16enoFBQVWVlZXrlzBf5OQl5cvLCxMTEwsKSmJi4tjMplTp06VXGEQQjBRUCgUX19fX19f0UZZWdng4GDi4ezZs\\/EFDQ2NH3\\/8EV+2srKSaGHiHRMWFxcvXrzY3Nw8ODgYHzkx0JkzZxwdHc3Nzb28vNhs9kgUCcB4JkYIu7q63N3dv\\/rqq5ycnMbGxr\\/97W8D+xw7diw6OnrXrl3Z2dl+fn4jVycA45YYu6MXL16cNm0aPlI+NjbW2to6Pj5edNYZDocTFRWVlZWFzxRgZmY24uUCMP6I8U1YUVHBYDDw5enTp8vIyOCTLhKqq6t5PF57e7uHh4ePj09+fv5IVgrAOCXGN2FbW5uhoSHxUEVFpd8k3PX19Twe79SpU\\/v37\\/\\/9999XrFhx7949IrevXr0iZluj0+mlpaWkT0hO+iEr6QX09vbyeLwxNdETjUYjsR5SiBFCFRUV0fnAWSxWv1mblJWVuVzu4cOHZ86caW1tffPmzUuXLhEhNDU1HTjbmujeLCkmeAHS0tIw2xrpxAihsbFxXl4evtzc3Mxms0W\\/GPEOUlJSxC+bdDqdmMIRIUShUGC2NfApzp49S\\/ofTbEQkyN+mBghXLNmze7du588eWJjYxMfH09cApuamqqgoODt7a2trb106dJTp07t3bu3paUlKysLvzIIgE8XFhY2OqP7Rta6des+2keMEOrq6iYkJLi6ulIolKlTp6alpeHtDx48UFFRwScMP378+OrVqxMTE\\/l8fkhICDFVIwCf6IcffiC7BEmh9BtN\\/FECgaCnp+fDewVsNptGo\\/Wb4D01NfX69evnz58nWkg\\/JoQCenp64JiQdGJftiYtLf3Rzw25U7sD8HmZWOeCARiDIIQAkAxCCADJIIQAkAxCCADJIIQAkAxCCADJIIQAkAxCCADJIIQAkAxCCADJxAvhw4cPlyxZYmNjs3PnTh6PN1S3Z8+erVq1Kjc395PLA2D8EyOELS0tHh4ea9asOXPmzO3bt\\/ft2zdoNx6Pt2nTpuLi4urq6hEqEoDxTIwQJicnOzo6btiwwdLSMiYm5t\\/\\/\\/rdAMMjNcQ4cOLB06VITE5ORKxKA8UyMEL548cLW1hZftrW1bWlpIW6gQaisrLx8+fI4Hn8JwIgTYzxha2urjY0NvqygoCAvL9\\/S0qKrq0t0EAqFgYGBx48fl5eXH\\/j06urqrKwsIyMj\\/OmFhYV9fX39Bv6Osu7u7gleQE9PD5\\/PH1ODeqlUKsy2NiRlZWVitjUej9fX16eioiLa4ejRo8bGxhYWFu\\/evePxeL29vd3d3TQaDf9XExMTFxcXfNaZSZMmqaqqdnV1kTv8F8OwCV6AlJQUjKwnnRghNDQ0fPXqFb786tUrOTk5HR0d0Q6VlZX4nd8QQl1dXU+fPn358iU+xyFCiEKhKCoqGhsbj1DlAIwTYvwJXLt2bVZWVk1NDULo2LFjvr6++G5ncnLyvXv3EEKJiYmd\\/7VgwYJDhw4RCQQADEWMb8I5c+b8\\/e9\\/t7a2VlRU1NLSysrKwtsvX748f\\/58Z2dn0c6KioqDHhkCAPoRe7Y1Dofzxx9\\/aGtri7smmG1tDBYAs62NBWK\\/+\\/Ly8sNIIABgKBPrXDAAYxCEEACSQQgBIBmEEACSQQgBIBmEEACSQQgBIBmEEACSQQgBIBmEEACSQQgBIJl4IeTxeD\\/99JOjo6OPj8+TJ08GdsjNzd2wYYOTk5O3t3dOTs4IFQnAeCZeCPft23f16tUjR444Ozv\\/5S9\\/6ezs7Nfh8uXL8+bNi42N9fT09PX1vXPnzsiVCsD4JMZ4Qj6f\\/69\\/\\/SstLc3W1tbW1jYrKyslJeW7774T7UOM4p0\\/f35BQUFOTs6iRYtGsl4Axh0xvgkbGxtbW1vt7Ozwh3Z2ds+ePRuqM4ZhFRUVMJkFAB8l3mxr+CRr+EM1NbXS0tKhOh88eJDD4QQEBBAtr1+\\/zsnJsba2RghNmjTpxo0bfX19wy17ZLDZ7AleQG9vL4\\/HG1ODemk0Gsy2NiQ6nd7X1ycQCKSlpRFC3d3dysrKg\\/Y8ffr0yZMnCwoKJk2aRDQaGhra2dnh83YrKSmpqamRPq4cr2QiFyAtLQ0j60knRgh1dXWlpKTevHljamqKEKqurp46derAbikpKXv27Llz546hoaFou7S0tJqaGjFzKQAAJ8afQEVFxeXLl584cQIhVF9ff+3atTVr1iCEmpub9+\\/fj89Vk56eHhERkZubO23aNAlVDMA4I95+SGxs7M2bN83MzObMmbNt27Y5c+YghBoaGnbu3CkUChFCu3fvbmpqsrCwoFAoFApl7dq1EqkagHFEjN1RhJCxsXFFRUV9fb2KigqdTscbbWxs8AQihCoqKka4QADGO\\/FCiBCiUCgGBgaSKAWAiWlinQsGYAyCEAJAMgghACSDEAJAMgghACSDEAJAMtJC2NLSsn37drLWjvPz8yO3gLCwsNbWVhILiIuLYzKZJBaQnp6enp5OYgFjAWkhbGtrKywsJGvtCCEMw7Kzs0ksACFUWFjY3t5OYgHPnz\\/H7\\/pKlsrKysrKShILGAtgdxQAkkEIASCZ2JetDRuGYVwu9927d\\/hDFoslEAiIh6MPH\\/ZBYgEIIYFAwGKxSKyBy+Wy2WwSC+BwOOj\\/\\/y\\/QaLSJNrxQ7NtlD9uxY8fCw8MVFBTwh0KhsKenR1FRcXTWPigWi0Vchk4KNptNpVJJHFPb29srKysrIzN6f4v7wWdXEB38vWnTpgMHDpBVDylGL4QAgEHBMSEAJIMQAkAykkNYV1fX1NTUr7Gnp6e6urq3t1fSa+fz+XV1dW1tbZJekbgwDHvz5s0YLGwYWlpa6urqBALBUB2G2lgWi1VdXc3j8SRc4BiASUZYWJiJiQlC6Pjx44N2YLFYCxcuNDAw0NbW9vX15XK5eHtmZqa6urqlpaWGhsa1a9eGXcDFixfnzp0rKyvr4eExaIfjx4+rqakZGRmpq6s7OTk1Nzfj7Z6ensSbo6+vP+wCMjMzGQyGnJycs7PzoB36XaqSlJSEtzc0NMyePXvatGkaGhpbt24VCoXDK6C2ttbFxUVFRQUh1N3dPbDD48eP+30Yrl+\\/jmFYcnKyaOOjR4+GVwCTyTQxMdHQ0DAyMtLX17979+7APk1NTVZWVqamphoaGqGhocTGJiYmqqqqWlhYTJky5fHjx8Mr4HMhqRBmZGQwmcwFCxYMFcJ9+\\/a5uLjw+fze3l4rK6tffvkFwzAOh6OpqYl\\/FLKysnR0dIhwiuvRo0e3b9+OiooaKoR5eXl1dXUYhvX19bm5uW3cuBFv9\\/T0TE5OHt5KRZWUlOTl5R04cOADITQyMhrYHhgYuH79egzD2tvbp0yZcufOneEV0NzcnJ6efv\\/+\\/aFCKCo3N1ddXZ3D4WAYlpyc7OnpObyViqqsrCwqKsKX4+Li9PT0BvYJDg728\\/PDMKyjo0NfXz8vLw\\/DsNbWViqVWlpaimFYQkKCtbX1pxczlklqd9Tb29vGxkZWVnaoDhcuXAgKCsLnvdywYcOFCxcQQvn5+QoKCu7u7gihZcuWSUtL3717d3gF2NvbL1q06AO\\/QCxevFhfXx8hJCcnt2jRorq6OuKfhELhp0\\/Ly2AwFi9ejH8RfUB3dzefzyceYhh24cKFkJAQhJC6uvqqVavwd2YYtLS0fHx8Bp2WcqBffvnFz89P9KcCFouFfdqZc3Nz8\\/nz5+PLS5cubWpqwmcZFZWamopvrJqa2tdff41vbEZGho2NjZWVFUJow4YN4\\/7SNtKOCWtqavD5SxFCpqam+BWMtbW1RCOFQjExMRmFKxu5XO6FCxfw5OO2bNmio6MzZcqUlJQUia66trbWwMBASUnJy8urpaUFIdTR0cFmswe+MxLV2dmZlZW1fv16ouXWrVuGhoY0Gm3Tpk347+mf6OzZsy4uLv1+he\\/s7GSxWAM3VvSzQaVSdXV1yb3AVdLICaFAIOjp6SF+uKdSqSwWCyHEZrOJRry9q6tLopVgGLZ161Y6nR4aGoq3xMfHv3\\/\\/vqur69SpU0FBQU+fPpXQqk1NTRsaGjo6OpqamgQCQXBwMEII396B74xEnTt3ztLSEp\\/AEiG0ZMmS1tbWzs7OqqqqR48e4ZOmf4rLly8nJyefPHmyX\\/tQG8tms4m7LaBR+RiQi5wQSktLa2hoEBcrdXZ2amtrI4Q0NTVFr2Dq7OzU0tKSaCXbt29\\/\\/vx5VlYWcdXItGnT8Hn+3d3dnZ2db9++LaFVKysr41utoqISFRWFHw7h2zvwnZGoX3\\/99a9\\/\\/SvxUFtbG7\\/Bgb6+flhY2K1btz7lxa9fv7558+acnJyBdwcaamM1NTX\\/+OMPotsofAzIRdruqJWVFXF27vHjx\\/gBgJWV1fPnz\\/H9n56enhcvXuA3kJGQyMjIu3fv3rhxY6hDx\\/b29tG5sK6trU1RUZFCoVCpVDMzs4HvjOQ8efKkqqrq66+\\/HqqwT7lbRl5eXkBAwNWrVwf9f5SXl58xY8agHwOisa6urqOjw8LCYtg1fAYkdMLn8ePHaWlps2bN2rhxY1paWn19PYZh+fn5Tk5OeIfs7GwtLa1bt25duXJFRUWluLgYb1+wYEFAQEBJSYm\\/v\\/+iRYuGXUBNTU1aWtq33347d+7ctLS0kpISDMO4XO706dPLy8sxDIuNjaVSqfgdF9PS0m7evIlhWFdX144dO27dulVQUBAcHKyhodHU1DS8At6+fZuWlhYYGDhz5sy0tDTiRP+sWbPwYs6ePXv27NmioqLz588bGhpGRkbiHf75z3+am5s\\/fPjw9OnTdDodP4U7DAKBIC0tDb9tQUpKSkZGBt4eGhp6+PBholtISAh+fpJw+PDh9PT0oqKiEydOKCsrp6amDq8AJpOpoKCwbdu2tP\\/CT9KmpKT4+vrifY4fP25mZvbgwYNff\\/2VTqfX1NRgGMbj8UxMTCIiIkpKStzd3f39\\/YdXwOdCUlfuvnjxoqSkxMHBASGUn59vYmKip6enqqo6d+5cvMOyZcvi4uIOHTokKyubkpJia2uLt6enp0dFRYWFhVlaWl66dGnYBTQ3N+fn58vLyzMYjPz8fEdHRwaDISUlZW9vj3+5qaiorFu3jjjk09XVdXV1lZWV5XA4hw4d4vF4s2bNKi4uHvbeYFtbW35+PoVCcXJyys\\/PZzAY9vb2CCE7Ozv8i1dTUzMpKampqUlTUzMqKurbb7\\/Fn7hlyxaBQBAZGamqqpqTk4Ofwh0GoVCYn5+PEAoKCnrw4IG8vLy3tzdCyMzMTEdHh+impKS0ceNG0SeqqamdPXu2o6NDT08vNTVV9JSVWHg8np+fX09PD14GQsjFxYVKpWpra1taWuItISEhfD5\\/586dqqqq169fx8\\/lysjI5OXl7d69OywszMHBISoqangFfC7gAm4ASAbXjgJAMgghACSDEAJAMgghACSDEEoQh8O5f\\/\\/+n5nU8NmzZ+TO\\/wlIBCEcMWVlZVlZWaItjY2NX3755Z+5Bn3Xrl3btm2TWGlgTIMQjpiUlBTRi78QQnQ6PSAgwMjIiKySwGeBtGm2JgINDY3Tp0+TXQUY6+CbcGTs3bs3JSXl\\/fv3DAaDwWA4OzsjhBobGx0dHUV3R5lMppeXl6amJo1Gs7S0jIuLG\\/TVHjx4YGdnFxMTgxDi8\\/n\\/+Mc\\/zM3NaTSalpaWo6NjXl7eqGwTGCXwTTgynJ2dCwsLi4qKgoKCEEL4wDkOh1NUVEScmCkoKHB1dTU1NY2OjtbV1a2qqiorKxv4UhkZGevWrQsMDAwPD0cIxcTExMTE7Nmzx9rams1mM5nMxsbGUdwyIHlkX7w6fnz\\/\\/ffq6uqiLa9fv0YIpaWl4Q9nzZplaGg46EwTnp6ejo6OGIb9\\/PPP0tLSMTExxD8tXLjQx8dHkoUDksHu6Cipra0tLy\\/ftGkTlUodtAOGYeHh4REREefOnYuIiCDajY2N8\\/Ly4uPj3759O1rFglEFIRwl+D7kwIGthCdPnsTGxoaEhKxevVq0ff\\/+\\/QsXLgwPD9fX17ewsNi\\/f\\/+IzDcBxg4I4Sih0WgIoc7OzqE6MBiMmJiYo0eP\\/vzzz6LtmpqamZmZLS0t6enpDAYjKiqKmIkDjA9wYmbEKCgoDJxNjDBjxgxlZeWcnBx8LplBRUREKCoqbt26lcVi9RtEp66u7uPj4+PjIxAIbt68OZJ1A7LBN+GIMTEx6erqyszMbG1tFZ0iBScrK7t9+\\/bs7Ozo6Gj8VkTv37\\/PzMzs1y00NPTkyZN79+7dsWMH3nL48OGKigp8ua2traysbNq0aRLeFDC6yD4zNH709va6ubnh76qysjI24Owon88PCwuTkZGRkZHR1tamUCjEvMDE2VHcuXPnZGRkvv\\/+e6FQyGAwEEJUKtXAwEBWVtbMzOy3334b\\/a0DkgMj60dYb29vc3MzhUIxNDTk8\\/k1NTU6Ojr4ASGuqampuLiYz+dPnTrVxsYGvzlhc3OzUCjU1dUlujU0NPT19RkYGMjIyPz+++\\/V1dUcDkdfX3\\/evHkk3s8QSAKEEACSwd9UAEgGIQSAZBBCAEj2f6ctMxuOJHZiAAAAAElFTkSuQmCC\\\" \\/>\"}}},\"children\":[{\"props\":{\"className\":\"webio-observable\",\"setInnerHtml\":\"<img src=\\\"data:image\\/png;base64,iVBORw0KGgoAAAANSUhEUgAAASwAAACWCAIAAADrOSKFAAAABmJLR0QA\\/wD\\/AP+gvaeTAAAb4UlEQVR4nO3de1xM+f8H8M90UzM1XXVT6SaRKI1KZTfylS4ktZaljb5Kicfqa79lN8J3RZSsr\\/D9JrsSoW9SuSTlEooeDZHaNvLQRfeLNU01ze38\\/jiP7\\/nOrws7aTqp9\\/OvMx+fmfM+Y17NOWfO53MoGIYhAAB5pMguAICJDkIIAMkghACQDEIIAMkghACQDEIIAMkghACQDEIIAMkghACQDEIIAMlGL4RlZWVnzpwRbeHxeKO29kFBAXw+n9zrFoVCoVAoJLGAsWD0QlheXp6XlyfawuFwRm3tg4ICuFwuuSHk8\\/l8Pp\\/EAsYC2B0FgGQyZBcAwJ9SWFjY2NhIdhVimz179vTp0z\\/cB0IIPg8+Pj52dnaTJk0iuxAxNDQ0aGlpZWRkfLgbhBB8HoRCYVJS0uTJk8kuRAyZmZnJyckf7QbHhACQDEIIAMkghACQDEIIAMkghACQDEIIAMkghGCiEAqFO3bs6OvrI7uQ\\/iCEYKIQCoUHDx787EPIZDIXLFhgYGCwatWq1tbWgR3Ky8s9PDwMDQ3nzp2blJQ0QkUCMJI6Ozubm5tFW3g8Xl1d3fv37wd2bmho6O7u7tfY29tbX18\\/UvWIEcK+vj5PT89vvvmGyWQqKSlt2rRpYB8vLy8Gg\\/HixYsTJ05s3779wYMHI1UoACMiOjr6iy++sLGxWb58OT6C5OrVq2ZmZmvWrLG0tFy5ciU+vuz+\\/fvTp0\\/38vJauXKloaFhTEwM\\/nQ3N7f169czGAwvL68ZM2a8fv0aIeTh4XHy5Em8A5fL1dLSKi0t\\/fMliXHZWmZmprq6ekhICELowIEDenp6jY2Nurq6RAcOh\\/PmzRt\\/f38lJSV7e3srK6vKysoFCxb8+VUA8GFCDGXXCXlijkCcoUKZpUrBl5WUlMrLy3t7e2fOnFlQUODs7Dx\\/\\/vyXL1\\/KysoKBAIPD49z585t2LABIfTy5cuYmBhvb++GhgZLS0s3N7c5c+YghF68eMFkMhUUFCIjI7dt23b16tWQkJDIyEg8GleuXDE2Nra2tv7z5YkRwt9++83GxgZf1tTU1NbWrqqqEg2hvLz8mjVr9u\\/f\\/91331VUVNTW1np4ePz51wfgo\\/oE6PIbrE8g3rOWTUVECAMCAhBCCgoKNjY21dXVzs7OKioqly9ffvz4cU9PT2dn5\\/Pnz\\/GekydP9vb2RghNmTLFzc0tLy8PD6Gfn5+CggJCKCgoyNzcXCgUuru7b926taSkZN68eYmJiUFBQWKVJ0YIOzo6lJSUiIcqKiptbW39+oSGhq5du7akpKSxsTE0NFQ0oi9fvkxPT79x4wZCSFFRsaysrK+vj0KhiFXuyOru7p7gBfT09PD5fCkp0s7PcblchJCcnBzRQqVSP1CPggxKcZb+lDUqKiriC3Jycvie5w8\\/\\/FBWVrZly5bJkydLSUn19PTgHeh0OvEsZWVlFouFLxMpoNPpfX19HA6HSqUGBgYmJiaqqamVlpZmZ2eLVZIYIVRVVa2rqyMeslgsNTU10Q5tbW2urq65ubkODg7d3d1OTk46OjrEoaOZmdny5csTExMRQjIyMkpKSl1dXcQ7QgoMwyZ4AVJSUvLy8mMqhKMvNzc3ISHhiy++QAgdPHiQGKhRX1\\/f3t6uoaGBEHr69OnWrVvx9mfPnuELpaWlBgYGVCoVIRQYGGhubi4tLb127VoajSZWAWKE0MTEJDc3F19+\\/\\/59U1OTiYmJaIeqqippaWkHBweEEI1G+\\/LLL5lMpuj5Gzk5OVVVVbHqA0DSrKys4uLi2Gx2QUFBSUmJu7s73k6lUv39\\/YOCgu7du9fe3u7j44O3Z2dnGxkZ6evr79y5Mzw8HG+cPHnykiVLEhMTib3ZP0+MP4ErV66sqqq6desWhmHx8fH29vZGRkYIoUuXLuEzOE2fPp3L5WZlZSGEWltbc3JyxDo8BUCipKSkYmJiiGHBq1evtre3RwglJCTY2tpmZGSYmZmlp6evXLkS76CnpxcZGXnz5k0lJaWioiJ5eXm8fc+ePTwe7\\/bt29HR0Zs3byZe39nZ2d7e3tLSUtzCxPgmpNPp58+fDwgI6OrqMjMzS01NxdvLy8u7uroQQpMnT05NTQ0PDw8KChIKhatXrxb3CBUAyZGSkoqIiCAeLl++HF+g0+k7d+4c9CkODg74np2oSZMmib4Orru7OyEhITIychiFiTey3tPT8+3btzweT1ZWlmj86aefiOUVK1asWLGCz+fLyMCYffAZk5GRET0xQ1BUVBx4BHvjxo3AwMAlS5asWrVqOOsaxnNEEzj4i0ICwWfOwcGhsLBwYPt\\/\\/vOfgY3u7u4NDQ3DXhdcOwrAR8THx9fW1kru9SGEAHxEUlLSp3zRfRSEEEws7969KysrEw0Vl8utrKysr6\\/vNxl5R0fHy5cvR6EkOHgDE8jhw4ePHj06c+bM1tZWFxeX2NjYhw8f+vv76+vrd3R0KCoq3rhxA\\/8pOzIy8vTp0zNmzFBQUJD06CcIIfisCIU9T+5gPK5YT5KbOl12iglC6NChQ4WFhaampui\\/NwKZM2dOVVUVfioxMDAwISFh165dxcXFSUlJFRUVGhoa2dnZXl5eEtiS\\/4EQgs8JJuBza6swoXhXcFMmKeAhtLCwCAkJ8ff3d3V1xS9Po9Foly5dKiwsbG1trampwYcU3rlzx9PTE79gbfny5erq6hLYlP+BEILPCUVWTsU3dNhPv3r1akpKysWLF4OCgqKjo8PCwg4dOpSTk\\/Pjjz9qaGhkZmbi14Wy2WzRa3olfX0vnJgBEwiNRgsODr527dq1a9eOHDmCELpz587mzZtdXV1tbGxaWlrwbubm5kwmE19ubGyU6KlRBN+EYOIQCAQrV65ctmyZurp6amqqk5MTQsjW1vbIkSPS0tJPnz69ffv2zJkzEUJfffXVvn37Nm\\/e\\/MUXXyQlJQ166cwIghCCiUJKSsrPz+\\/JkydlZWVubm7ffPMNQmj37t16enoFBQVWVlZXrlzBf5OQl5cvLCxMTEwsKSmJi4tjMplTp06VXGEQQjBRUCgUX19fX19f0UZZWdng4GDi4ezZs\\/EFDQ2NH3\\/8EV+2srKSaGHiHRMWFxcvXrzY3Nw8ODgYHzkx0JkzZxwdHc3Nzb28vNhs9kgUCcB4JkYIu7q63N3dv\\/rqq5ycnMbGxr\\/97W8D+xw7diw6OnrXrl3Z2dl+fn4jVycA45YYu6MXL16cNm0aPlI+NjbW2to6Pj5edNYZDocTFRWVlZWFzxRgZmY24uUCMP6I8U1YUVHBYDDw5enTp8vIyOCTLhKqq6t5PF57e7uHh4ePj09+fv5IVgrAOCXGN2FbW5uhoSHxUEVFpd8k3PX19Twe79SpU\\/v37\\/\\/9999XrFhx7949IrevXr0iZluj0+mlpaWkT0hO+iEr6QX09vbyeLwxNdETjUYjsR5SiBFCFRUV0fnAWSxWv1mblJWVuVzu4cOHZ86caW1tffPmzUuXLhEhNDU1HTjbmujeLCkmeAHS0tIw2xrpxAihsbFxXl4evtzc3Mxms0W\\/GPEOUlJSxC+bdDqdmMIRIUShUGC2NfApzp49S\\/ofTbEQkyN+mBghXLNmze7du588eWJjYxMfH09cApuamqqgoODt7a2trb106dJTp07t3bu3paUlKysLvzIIgE8XFhY2OqP7Rta6des+2keMEOrq6iYkJLi6ulIolKlTp6alpeHtDx48UFFRwScMP378+OrVqxMTE\\/l8fkhICDFVIwCf6IcffiC7BEmh9BtN\\/FECgaCnp+fDewVsNptGo\\/Wb4D01NfX69evnz58nWkg\\/JoQCenp64JiQdGJftiYtLf3Rzw25U7sD8HmZWOeCARiDIIQAkAxCCADJIIQAkAxCCADJIIQAkAxCCADJIIQAkAxCCADJIIQAkAxCCADJxAvhw4cPlyxZYmNjs3PnTh6PN1S3Z8+erVq1Kjc395PLA2D8EyOELS0tHh4ea9asOXPmzO3bt\\/ft2zdoNx6Pt2nTpuLi4urq6hEqEoDxTIwQJicnOzo6btiwwdLSMiYm5t\\/\\/\\/rdAMMjNcQ4cOLB06VITE5ORKxKA8UyMEL548cLW1hZftrW1bWlpIW6gQaisrLx8+fI4Hn8JwIgTYzxha2urjY0NvqygoCAvL9\\/S0qKrq0t0EAqFgYGBx48fl5eXH\\/j06urqrKwsIyMj\\/OmFhYV9fX39Bv6Osu7u7gleQE9PD5\\/PH1ODeqlUKsy2NiRlZWVitjUej9fX16eioiLa4ejRo8bGxhYWFu\\/evePxeL29vd3d3TQaDf9XExMTFxcXfNaZSZMmqaqqdnV1kTv8F8OwCV6AlJQUjKwnnRghNDQ0fPXqFb786tUrOTk5HR0d0Q6VlZX4nd8QQl1dXU+fPn358iU+xyFCiEKhKCoqGhsbj1DlAIwTYvwJXLt2bVZWVk1NDULo2LFjvr6++G5ncnLyvXv3EEKJiYmd\\/7VgwYJDhw4RCQQADEWMb8I5c+b8\\/e9\\/t7a2VlRU1NLSysrKwtsvX748f\\/58Z2dn0c6KioqDHhkCAPoRe7Y1Dofzxx9\\/aGtri7smmG1tDBYAs62NBWK\\/+\\/Ly8sNIIABgKBPrXDAAYxCEEACSQQgBIBmEEACSQQgBIBmEEACSQQgBIBmEEACSQQgBIBmEEACSQQgBIJl4IeTxeD\\/99JOjo6OPj8+TJ08GdsjNzd2wYYOTk5O3t3dOTs4IFQnAeCZeCPft23f16tUjR444Ozv\\/5S9\\/6ezs7Nfh8uXL8+bNi42N9fT09PX1vXPnzsiVCsD4JMZ4Qj6f\\/69\\/\\/SstLc3W1tbW1jYrKyslJeW7774T7UOM4p0\\/f35BQUFOTs6iRYtGsl4Axh0xvgkbGxtbW1vt7Ozwh3Z2ds+ePRuqM4ZhFRUVMJkFAB8l3mxr+CRr+EM1NbXS0tKhOh88eJDD4QQEBBAtr1+\\/zsnJsba2RghNmjTpxo0bfX19wy17ZLDZ7AleQG9vL4\\/HG1ODemk0Gsy2NiQ6nd7X1ycQCKSlpRFC3d3dysrKg\\/Y8ffr0yZMnCwoKJk2aRDQaGhra2dnh83YrKSmpqamRPq4cr2QiFyAtLQ0j60knRgh1dXWlpKTevHljamqKEKqurp46derAbikpKXv27Llz546hoaFou7S0tJqaGjFzKQAAJ8afQEVFxeXLl584cQIhVF9ff+3atTVr1iCEmpub9+\\/fj89Vk56eHhERkZubO23aNAlVDMA4I95+SGxs7M2bN83MzObMmbNt27Y5c+YghBoaGnbu3CkUChFCu3fvbmpqsrCwoFAoFApl7dq1EqkagHFEjN1RhJCxsXFFRUV9fb2KigqdTscbbWxs8AQihCoqKka4QADGO\\/FCiBCiUCgGBgaSKAWAiWlinQsGYAyCEAJAMgghACSDEAJAMgghACSDEAJAMtJC2NLSsn37drLWjvPz8yO3gLCwsNbWVhILiIuLYzKZJBaQnp6enp5OYgFjAWkhbGtrKywsJGvtCCEMw7Kzs0ksACFUWFjY3t5OYgHPnz\\/H7\\/pKlsrKysrKShILGAtgdxQAkkEIASCZ2JetDRuGYVwu9927d\\/hDFoslEAiIh6MPH\\/ZBYgEIIYFAwGKxSKyBy+Wy2WwSC+BwOOj\\/\\/y\\/QaLSJNrxQ7NtlD9uxY8fCw8MVFBTwh0KhsKenR1FRcXTWPigWi0Vchk4KNptNpVJJHFPb29srKysrIzN6f4v7wWdXEB38vWnTpgMHDpBVDylGL4QAgEHBMSEAJIMQAkAykkNYV1fX1NTUr7Gnp6e6urq3t1fSa+fz+XV1dW1tbZJekbgwDHvz5s0YLGwYWlpa6urqBALBUB2G2lgWi1VdXc3j8SRc4BiASUZYWJiJiQlC6Pjx44N2YLFYCxcuNDAw0NbW9vX15XK5eHtmZqa6urqlpaWGhsa1a9eGXcDFixfnzp0rKyvr4eExaIfjx4+rqakZGRmpq6s7OTk1Nzfj7Z6ensSbo6+vP+wCMjMzGQyGnJycs7PzoB36XaqSlJSEtzc0NMyePXvatGkaGhpbt24VCoXDK6C2ttbFxUVFRQUh1N3dPbDD48eP+30Yrl+\\/jmFYcnKyaOOjR4+GVwCTyTQxMdHQ0DAyMtLX17979+7APk1NTVZWVqamphoaGqGhocTGJiYmqqqqWlhYTJky5fHjx8Mr4HMhqRBmZGQwmcwFCxYMFcJ9+\\/a5uLjw+fze3l4rK6tffvkFwzAOh6OpqYl\\/FLKysnR0dIhwiuvRo0e3b9+OiooaKoR5eXl1dXUYhvX19bm5uW3cuBFv9\\/T0TE5OHt5KRZWUlOTl5R04cOADITQyMhrYHhgYuH79egzD2tvbp0yZcufOneEV0NzcnJ6efv\\/+\\/aFCKCo3N1ddXZ3D4WAYlpyc7OnpObyViqqsrCwqKsKX4+Li9PT0BvYJDg728\\/PDMKyjo0NfXz8vLw\\/DsNbWViqVWlpaimFYQkKCtbX1pxczlklqd9Tb29vGxkZWVnaoDhcuXAgKCsLnvdywYcOFCxcQQvn5+QoKCu7u7gihZcuWSUtL3717d3gF2NvbL1q06AO\\/QCxevFhfXx8hJCcnt2jRorq6OuKfhELhp0\\/Ly2AwFi9ejH8RfUB3dzefzyceYhh24cKFkJAQhJC6uvqqVavwd2YYtLS0fHx8Bp2WcqBffvnFz89P9KcCFouFfdqZc3Nz8\\/nz5+PLS5cubWpqwmcZFZWamopvrJqa2tdff41vbEZGho2NjZWVFUJow4YN4\\/7SNtKOCWtqavD5SxFCpqam+BWMtbW1RCOFQjExMRmFKxu5XO6FCxfw5OO2bNmio6MzZcqUlJQUia66trbWwMBASUnJy8urpaUFIdTR0cFmswe+MxLV2dmZlZW1fv16ouXWrVuGhoY0Gm3Tpk347+mf6OzZsy4uLv1+he\\/s7GSxWAM3VvSzQaVSdXV1yb3AVdLICaFAIOjp6SF+uKdSqSwWCyHEZrOJRry9q6tLopVgGLZ161Y6nR4aGoq3xMfHv3\\/\\/vqur69SpU0FBQU+fPpXQqk1NTRsaGjo6OpqamgQCQXBwMEII396B74xEnTt3ztLSEp\\/AEiG0ZMmS1tbWzs7OqqqqR48e4ZOmf4rLly8nJyefPHmyX\\/tQG8tms4m7LaBR+RiQi5wQSktLa2hoEBcrdXZ2amtrI4Q0NTVFr2Dq7OzU0tKSaCXbt29\\/\\/vx5VlYWcdXItGnT8Hn+3d3dnZ2db9++LaFVKysr41utoqISFRWFHw7h2zvwnZGoX3\\/99a9\\/\\/SvxUFtbG7\\/Bgb6+flhY2K1btz7lxa9fv7558+acnJyBdwcaamM1NTX\\/+OMPotsofAzIRdruqJWVFXF27vHjx\\/gBgJWV1fPnz\\/H9n56enhcvXuA3kJGQyMjIu3fv3rhxY6hDx\\/b29tG5sK6trU1RUZFCoVCpVDMzs4HvjOQ8efKkqqrq66+\\/HqqwT7lbRl5eXkBAwNWrVwf9f5SXl58xY8agHwOisa6urqOjw8LCYtg1fAYkdMLn8ePHaWlps2bN2rhxY1paWn19PYZh+fn5Tk5OeIfs7GwtLa1bt25duXJFRUWluLgYb1+wYEFAQEBJSYm\\/v\\/+iRYuGXUBNTU1aWtq33347d+7ctLS0kpISDMO4XO706dPLy8sxDIuNjaVSqfgdF9PS0m7evIlhWFdX144dO27dulVQUBAcHKyhodHU1DS8At6+fZuWlhYYGDhz5sy0tDTiRP+sWbPwYs6ePXv27NmioqLz588bGhpGRkbiHf75z3+am5s\\/fPjw9OnTdDodP4U7DAKBIC0tDb9tQUpKSkZGBt4eGhp6+PBholtISAh+fpJw+PDh9PT0oqKiEydOKCsrp6amDq8AJpOpoKCwbdu2tP\\/CT9KmpKT4+vrifY4fP25mZvbgwYNff\\/2VTqfX1NRgGMbj8UxMTCIiIkpKStzd3f39\\/YdXwOdCUlfuvnjxoqSkxMHBASGUn59vYmKip6enqqo6d+5cvMOyZcvi4uIOHTokKyubkpJia2uLt6enp0dFRYWFhVlaWl66dGnYBTQ3N+fn58vLyzMYjPz8fEdHRwaDISUlZW9vj3+5qaiorFu3jjjk09XVdXV1lZWV5XA4hw4d4vF4s2bNKi4uHvbeYFtbW35+PoVCcXJyys\\/PZzAY9vb2CCE7Ozv8i1dTUzMpKampqUlTUzMqKurbb7\\/Fn7hlyxaBQBAZGamqqpqTk4Ofwh0GoVCYn5+PEAoKCnrw4IG8vLy3tzdCyMzMTEdHh+impKS0ceNG0SeqqamdPXu2o6NDT08vNTVV9JSVWHg8np+fX09PD14GQsjFxYVKpWpra1taWuItISEhfD5\\/586dqqqq169fx8\\/lysjI5OXl7d69OywszMHBISoqangFfC7gAm4ASAbXjgJAMgghACSDEAJAMgghACSDEEoQh8O5f\\/\\/+n5nU8NmzZ+TO\\/wlIBCEcMWVlZVlZWaItjY2NX3755Z+5Bn3Xrl3btm2TWGlgTIMQjpiUlBTRi78QQnQ6PSAgwMjIiKySwGeBtGm2JgINDY3Tp0+TXQUY6+CbcGTs3bs3JSXl\\/fv3DAaDwWA4OzsjhBobGx0dHUV3R5lMppeXl6amJo1Gs7S0jIuLG\\/TVHjx4YGdnFxMTgxDi8\\/n\\/+Mc\\/zM3NaTSalpaWo6NjXl7eqGwTGCXwTTgynJ2dCwsLi4qKgoKCEEL4wDkOh1NUVEScmCkoKHB1dTU1NY2OjtbV1a2qqiorKxv4UhkZGevWrQsMDAwPD0cIxcTExMTE7Nmzx9rams1mM5nMxsbGUdwyIHlkX7w6fnz\\/\\/ffq6uqiLa9fv0YIpaWl4Q9nzZplaGg46EwTnp6ejo6OGIb9\\/PPP0tLSMTExxD8tXLjQx8dHkoUDksHu6Cipra0tLy\\/ftGkTlUodtAOGYeHh4REREefOnYuIiCDajY2N8\\/Ly4uPj3759O1rFglEFIRwl+D7kwIGthCdPnsTGxoaEhKxevVq0ff\\/+\\/QsXLgwPD9fX17ewsNi\\/f\\/+IzDcBxg4I4Sih0WgIoc7OzqE6MBiMmJiYo0eP\\/vzzz6LtmpqamZmZLS0t6enpDAYjKiqKmIkDjA9wYmbEKCgoDJxNjDBjxgxlZeWcnBx8LplBRUREKCoqbt26lcVi9RtEp66u7uPj4+PjIxAIbt68OZJ1A7LBN+GIMTEx6erqyszMbG1tFZ0iBScrK7t9+\\/bs7Ozo6Gj8VkTv37\\/PzMzs1y00NPTkyZN79+7dsWMH3nL48OGKigp8ua2traysbNq0aRLeFDC6yD4zNH709va6ubnh76qysjI24Owon88PCwuTkZGRkZHR1tamUCjEvMDE2VHcuXPnZGRkvv\\/+e6FQyGAwEEJUKtXAwEBWVtbMzOy3334b\\/a0DkgMj60dYb29vc3MzhUIxNDTk8\\/k1NTU6Ojr4ASGuqampuLiYz+dPnTrVxsYGvzlhc3OzUCjU1dUlujU0NPT19RkYGMjIyPz+++\\/V1dUcDkdfX3\\/evHkk3s8QSAKEEACSwd9UAEgGIQSAZBBCAEj2f6ctMxuOJHZiAAAAAElFTkSuQmCC\\\" \\/>\"},\"nodeType\":\"DOM\",\"type\":\"node\",\"instanceArgs\":{\"namespace\":\"html\",\"tag\":\"div\"},\"children\":[]}]}]}]}]},\n",
       "        window,\n",
       "    );\n",
       "    })()\n",
       "    </script>\n",
       "</div>\n"
      ],
      "text/plain": [
       "WebIO.Node{WebIO.DOM}(WebIO.DOM(:html, :div), Any[WebIO.Node{WebIO.DOM}(WebIO.DOM(:html, :div), Any[WebIO.Node{WebIO.DOM}(WebIO.DOM(:html, :div), Any[WebIO.Node{WebIO.DOM}(WebIO.DOM(:html, :div), Any[WebIO.Scope(WebIO.Node{WebIO.DOM}(WebIO.DOM(:html, :div), Any[WebIO.Node{WebIO.DOM}(WebIO.DOM(:html, :div), Any[WebIO.Node{WebIO.DOM}(WebIO.DOM(:html, :label), Any[\"time\"], Dict{Symbol, Any}(:className => \"interact \", :style => Dict{Any, Any}(:padding => \"5px 10px 0px 10px\")))], Dict{Symbol, Any}(:className => \"interact-flex-row-left\")), WebIO.Node{WebIO.DOM}(WebIO.DOM(:html, :div), Any[WebIO.Node{WebIO.DOM}(WebIO.DOM(:html, :input), Any[], Dict{Symbol, Any}(:max => 200, :min => 1, :attributes => Dict{Any, Any}(:type => \"range\", Symbol(\"data-bind\") => \"numericValue: index, valueUpdate: 'input', event: {change: function (){this.changes(this.changes()+1)}}\", \"orient\" => \"horizontal\"), :step => 1, :className => \"slider slider is-fullwidth\", :style => Dict{Any, Any}()))], Dict{Symbol, Any}(:className => \"interact-flex-row-center\")), WebIO.Node{WebIO.DOM}(WebIO.DOM(:html, :div), Any[WebIO.Node{WebIO.DOM}(WebIO.DOM(:html, :p), Any[], Dict{Symbol, Any}(:attributes => Dict(\"data-bind\" => \"text: formatted_val\")))], Dict{Symbol, Any}(:className => \"interact-flex-row-right\"))], Dict{Symbol, Any}(:className => \"interact-flex-row interact-widget\")), Dict{String, Tuple{Observables.AbstractObservable, Union{Nothing, Bool}}}(\"changes\" => (Observable(0), nothing), \"index\" => (Observable(1), nothing)), Set{String}(), nothing, WebIO.Asset[WebIO.Asset(\"js\", \"knockout\", \"/home/dushya/.julia/packages/Knockout/HReiN/src/../assets/knockout.js\"), WebIO.Asset(\"js\", \"knockout_punches\", \"/home/dushya/.julia/packages/Knockout/HReiN/src/../assets/knockout_punches.js\"), WebIO.Asset(\"js\", nothing, \"/home/dushya/.julia/packages/InteractBase/LJXv3/src/../assets/all.js\"), WebIO.Asset(\"css\", nothing, \"/home/dushya/.julia/packages/InteractBase/LJXv3/src/../assets/style.css\"), WebIO.Asset(\"css\", nothing, \"/home/dushya/.julia/packages/Interact/PENUy/src/../assets/bulma_confined.min.css\")], Dict{Any, Any}(\"changes\" => Any[WebIO.JSString(\"(function (val){return (val!=this.model[\\\"changes\\\"]()) ? (this.valueFromJulia[\\\"changes\\\"]=true, this.model[\\\"changes\\\"](val)) : undefined})\")], \"index\" => Any[WebIO.JSString(\"(function (val){return (val!=this.model[\\\"index\\\"]()) ? (this.valueFromJulia[\\\"index\\\"]=true, this.model[\\\"index\\\"](val)) : undefined})\")]), WebIO.ConnectionPool(Channel{Any}(32), Set{WebIO.AbstractConnection}(), Base.GenericCondition{ReentrantLock}(Base.IntrusiveLinkedList{Task}(Task (runnable) @0x00007f2eddfc7530, Task (runnable) @0x00007f2eddfc7530), ReentrantLock(nothing, 0x00000000, 0x00, Base.GenericCondition{Base.Threads.SpinLock}(Base.IntrusiveLinkedList{Task}(nothing, nothing), Base.Threads.SpinLock(0)), (153, 139841165619360, 0)))), WebIO.JSString[WebIO.JSString(\"function () {\\n    var handler = (function (ko, koPunches) {\\n    ko.punches.enableAll();\\n    ko.bindingHandlers.numericValue = {\\n        init: function(element, valueAccessor, allBindings, data, context) {\\n            var stringified = ko.observable(ko.unwrap(valueAccessor()));\\n            stringified.subscribe(function(value) {\\n                var val = parseFloat(value);\\n                if (!isNaN(val)) {\\n                    valueAccessor()(val);\\n                }\\n            });\\n            valueAccessor().subscribe(function(value) {\\n                var str = JSON.stringify(value);\\n                if ((str == \\\"0\\\") && ([\\\"-0\\\", \\\"-0.\\\"].indexOf(stringified()) >= 0))\\n                     return;\\n                 if ([\\\"null\\\", \\\"\\\"].indexOf(str) >= 0)\\n                     return;\\n                stringified(str);\\n            });\\n            ko.applyBindingsToNode(\\n                element,\\n                {\\n                    value: stringified,\\n                    valueUpdate: allBindings.get('valueUpdate'),\\n                },\\n                context,\\n            );\\n        }\\n    };\\n    var json_data = {\\\"formatted_vals\\\":[\\\"1\\\",\\\"2\\\",\\\"3\\\",\\\"4\\\",\\\"5\\\",\\\"6\\\",\\\"7\\\",\\\"8\\\",\\\"9\\\",\\\"10\\\",\\\"11\\\",\\\"12\\\",\\\"13\\\",\\\"14\\\",\\\"15\\\",\\\"16\\\",\\\"17\\\",\\\"18\\\",\\\"19\\\",\\\"20\\\",\\\"21\\\",\\\"22\\\",\\\"23\\\",\\\"24\\\",\\\"25\\\",\\\"26\\\",\\\"27\\\",\\\"28\\\",\\\"29\\\",\\\"30\\\",\\\"31\\\",\\\"32\\\",\\\"33\\\",\\\"34\\\",\\\"35\\\",\\\"36\\\",\\\"37\\\",\\\"38\\\",\\\"39\\\",\\\"40\\\",\\\"41\\\",\\\"42\\\",\\\"43\\\",\\\"44\\\",\\\"45\\\",\\\"46\\\",\\\"47\\\",\\\"48\\\",\\\"49\\\",\\\"50\\\",\\\"51\\\",\\\"52\\\",\\\"53\\\",\\\"54\\\",\\\"55\\\",\\\"56\\\",\\\"57\\\",\\\"58\\\",\\\"59\\\",\\\"60\\\",\\\"61\\\",\\\"62\\\",\\\"63\\\",\\\"64\\\",\\\"65\\\",\\\"66\\\",\\\"67\\\",\\\"68\\\",\\\"69\\\",\\\"70\\\",\\\"71\\\",\\\"72\\\",\\\"73\\\",\\\"74\\\",\\\"75\\\",\\\"76\\\",\\\"77\\\",\\\"78\\\",\\\"79\\\",\\\"80\\\",\\\"81\\\",\\\"82\\\",\\\"83\\\",\\\"84\\\",\\\"85\\\",\\\"86\\\",\\\"87\\\",\\\"88\\\",\\\"89\\\",\\\"90\\\",\\\"91\\\",\\\"92\\\",\\\"93\\\",\\\"94\\\",\\\"95\\\",\\\"96\\\",\\\"97\\\",\\\"98\\\",\\\"99\\\",\\\"100\\\",\\\"101\\\",\\\"102\\\",\\\"103\\\",\\\"104\\\",\\\"105\\\",\\\"106\\\",\\\"107\\\",\\\"108\\\",\\\"109\\\",\\\"110\\\",\\\"111\\\",\\\"112\\\",\\\"113\\\",\\\"114\\\",\\\"115\\\",\\\"116\\\",\\\"117\\\",\\\"118\\\",\\\"119\\\",\\\"120\\\",\\\"121\\\",\\\"122\\\",\\\"123\\\",\\\"124\\\",\\\"125\\\",\\\"126\\\",\\\"127\\\",\\\"128\\\",\\\"129\\\",\\\"130\\\",\\\"131\\\",\\\"132\\\",\\\"133\\\",\\\"134\\\",\\\"135\\\",\\\"136\\\",\\\"137\\\",\\\"138\\\",\\\"139\\\",\\\"140\\\",\\\"141\\\",\\\"142\\\",\\\"143\\\",\\\"144\\\",\\\"145\\\",\\\"146\\\",\\\"147\\\",\\\"148\\\",\\\"149\\\",\\\"150\\\",\\\"151\\\",\\\"152\\\",\\\"153\\\",\\\"154\\\",\\\"155\\\",\\\"156\\\",\\\"157\\\",\\\"158\\\",\\\"159\\\",\\\"160\\\",\\\"161\\\",\\\"162\\\",\\\"163\\\",\\\"164\\\",\\\"165\\\",\\\"166\\\",\\\"167\\\",\\\"168\\\",\\\"169\\\",\\\"170\\\",\\\"171\\\",\\\"172\\\",\\\"173\\\",\\\"174\\\",\\\"175\\\",\\\"176\\\",\\\"177\\\",\\\"178\\\",\\\"179\\\",\\\"180\\\",\\\"181\\\",\\\"182\\\",\\\"183\\\",\\\"184\\\",\\\"185\\\",\\\"186\\\",\\\"187\\\",\\\"188\\\",\\\"189\\\",\\\"190\\\",\\\"191\\\",\\\"192\\\",\\\"193\\\",\\\"194\\\",\\\"195\\\",\\\"196\\\",\\\"197\\\",\\\"198\\\",\\\"199\\\",\\\"200\\\"],\\\"changes\\\":WebIO.getval({\\\"name\\\":\\\"changes\\\",\\\"scope\\\":\\\"8687053193877195382\\\",\\\"id\\\":\\\"14234392148292000791\\\",\\\"type\\\":\\\"observable\\\"}),\\\"index\\\":WebIO.getval({\\\"name\\\":\\\"index\\\",\\\"scope\\\":\\\"8687053193877195382\\\",\\\"id\\\":\\\"17501876058121486726\\\",\\\"type\\\":\\\"observable\\\"})};\\n    var self = this;\\n    function AppViewModel() {\\n        for (var key in json_data) {\\n            var el = json_data[key];\\n            this[key] = Array.isArray(el) ? ko.observableArray(el) : ko.observable(el);\\n        }\\n        \\n        [this[\\\"formatted_val\\\"]=ko.computed(    function(){\\n        return this.formatted_vals()[parseInt(this.index())-(1)];\\n    }\\n,this)]\\n        [this[\\\"changes\\\"].subscribe((function (val){!(this.valueFromJulia[\\\"changes\\\"]) ? (WebIO.setval({\\\"name\\\":\\\"changes\\\",\\\"scope\\\":\\\"8687053193877195382\\\",\\\"id\\\":\\\"14234392148292000791\\\",\\\"type\\\":\\\"observable\\\"},val)) : undefined; return this.valueFromJulia[\\\"changes\\\"]=false}),self),this[\\\"index\\\"].subscribe((function (val){!(this.valueFromJulia[\\\"index\\\"]) ? (WebIO.setval({\\\"name\\\":\\\"index\\\",\\\"scope\\\":\\\"8687053193877195382\\\",\\\"id\\\":\\\"17501876058121486726\\\",\\\"type\\\":\\\"observable\\\"},val)) : undefined; return this.valueFromJulia[\\\"index\\\"]=false}),self)]\\n        \\n    }\\n    self.model = new AppViewModel();\\n    self.valueFromJulia = {};\\n    for (var key in json_data) {\\n        self.valueFromJulia[key] = false;\\n    }\\n    ko.applyBindings(self.model, self.dom);\\n}\\n);\\n    (WebIO.importBlock({\\\"data\\\":[{\\\"name\\\":\\\"knockout\\\",\\\"type\\\":\\\"js\\\",\\\"url\\\":\\\"/assetserver/727383f2a47bd31570b7da84eee7b022dd6d7c78-knockout.js\\\"},{\\\"name\\\":\\\"knockout_punches\\\",\\\"type\\\":\\\"js\\\",\\\"url\\\":\\\"/assetserver/382b41b3b1bd9f26f75861d360bad7f8beea211f-knockout_punches.js\\\"}],\\\"type\\\":\\\"async_block\\\"})).then((imports) => handler.apply(this, imports));\\n}\\n\")])], Dict{Symbol, Any}(:className => \"field interact-widget\")), WebIO.Node{WebIO.DOM}(WebIO.DOM(:html, :div), Any[WebIO.Scope(WebIO.Node{WebIO.DOM}(WebIO.DOM(:html, :div), Any[WebIO.Node{WebIO.DOM}(WebIO.DOM(:html, :div), Any[WebIO.Node{WebIO.DOM}(WebIO.DOM(:html, :label), Any[\"scale\"], Dict{Symbol, Any}(:className => \"interact \", :style => Dict{Any, Any}(:padding => \"5px 10px 0px 10px\")))], Dict{Symbol, Any}(:className => \"interact-flex-row-left\")), WebIO.Node{WebIO.DOM}(WebIO.DOM(:html, :div), Any[WebIO.Node{WebIO.DOM}(WebIO.DOM(:html, :input), Any[], Dict{Symbol, Any}(:max => 20, :min => 1, :attributes => Dict{Any, Any}(:type => \"range\", Symbol(\"data-bind\") => \"numericValue: index, valueUpdate: 'input', event: {change: function (){this.changes(this.changes()+1)}}\", \"orient\" => \"horizontal\"), :step => 1, :className => \"slider slider is-fullwidth\", :style => Dict{Any, Any}()))], Dict{Symbol, Any}(:className => \"interact-flex-row-center\")), WebIO.Node{WebIO.DOM}(WebIO.DOM(:html, :div), Any[WebIO.Node{WebIO.DOM}(WebIO.DOM(:html, :p), Any[], Dict{Symbol, Any}(:attributes => Dict(\"data-bind\" => \"text: formatted_val\")))], Dict{Symbol, Any}(:className => \"interact-flex-row-right\"))], Dict{Symbol, Any}(:className => \"interact-flex-row interact-widget\")), Dict{String, Tuple{Observables.AbstractObservable, Union{Nothing, Bool}}}(\"changes\" => (Observable(0), nothing), \"index\" => (Observable{Any}(10), nothing)), Set{String}(), nothing, WebIO.Asset[WebIO.Asset(\"js\", \"knockout\", \"/home/dushya/.julia/packages/Knockout/HReiN/src/../assets/knockout.js\"), WebIO.Asset(\"js\", \"knockout_punches\", \"/home/dushya/.julia/packages/Knockout/HReiN/src/../assets/knockout_punches.js\"), WebIO.Asset(\"js\", nothing, \"/home/dushya/.julia/packages/InteractBase/LJXv3/src/../assets/all.js\"), WebIO.Asset(\"css\", nothing, \"/home/dushya/.julia/packages/InteractBase/LJXv3/src/../assets/style.css\"), WebIO.Asset(\"css\", nothing, \"/home/dushya/.julia/packages/Interact/PENUy/src/../assets/bulma_confined.min.css\")], Dict{Any, Any}(\"changes\" => Any[WebIO.JSString(\"(function (val){return (val!=this.model[\\\"changes\\\"]()) ? (this.valueFromJulia[\\\"changes\\\"]=true, this.model[\\\"changes\\\"](val)) : undefined})\")], \"index\" => Any[WebIO.JSString(\"(function (val){return (val!=this.model[\\\"index\\\"]()) ? (this.valueFromJulia[\\\"index\\\"]=true, this.model[\\\"index\\\"](val)) : undefined})\")]), WebIO.ConnectionPool(Channel{Any}(32), Set{WebIO.AbstractConnection}(), Base.GenericCondition{ReentrantLock}(Base.IntrusiveLinkedList{Task}(Task (runnable) @0x00007f2eddfea0e0, Task (runnable) @0x00007f2eddfea0e0), ReentrantLock(nothing, 0x00000000, 0x00, Base.GenericCondition{Base.Threads.SpinLock}(Base.IntrusiveLinkedList{Task}(nothing, nothing), Base.Threads.SpinLock(0)), (0, 139839289179120, 139839273062640)))), WebIO.JSString[WebIO.JSString(\"function () {\\n    var handler = (function (ko, koPunches) {\\n    ko.punches.enableAll();\\n    ko.bindingHandlers.numericValue = {\\n        init: function(element, valueAccessor, allBindings, data, context) {\\n            var stringified = ko.observable(ko.unwrap(valueAccessor()));\\n            stringified.subscribe(function(value) {\\n                var val = parseFloat(value);\\n                if (!isNaN(val)) {\\n                    valueAccessor()(val);\\n                }\\n            });\\n            valueAccessor().subscribe(function(value) {\\n                var str = JSON.stringify(value);\\n                if ((str == \\\"0\\\") && ([\\\"-0\\\", \\\"-0.\\\"].indexOf(stringified()) >= 0))\\n                     return;\\n                 if ([\\\"null\\\", \\\"\\\"].indexOf(str) >= 0)\\n                     return;\\n                stringified(str);\\n            });\\n            ko.applyBindingsToNode(\\n                element,\\n                {\\n                    value: stringified,\\n                    valueUpdate: allBindings.get('valueUpdate'),\\n                },\\n                context,\\n            );\\n        }\\n    };\\n    var json_data = {\\\"formatted_vals\\\":[\\\"0.1\\\",\\\"0.2\\\",\\\"0.3\\\",\\\"0.4\\\",\\\"0.5\\\",\\\"0.6\\\",\\\"0.7\\\",\\\"0.8\\\",\\\"0.9\\\",\\\"1.0\\\",\\\"1.1\\\",\\\"1.2\\\",\\\"1.3\\\",\\\"1.4\\\",\\\"1.5\\\",\\\"1.6\\\",\\\"1.7\\\",\\\"1.8\\\",\\\"1.9\\\",\\\"2.0\\\"],\\\"changes\\\":WebIO.getval({\\\"name\\\":\\\"changes\\\",\\\"scope\\\":\\\"18126745280935451549\\\",\\\"id\\\":\\\"7767737909516616731\\\",\\\"type\\\":\\\"observable\\\"}),\\\"index\\\":WebIO.getval({\\\"name\\\":\\\"index\\\",\\\"scope\\\":\\\"18126745280935451549\\\",\\\"id\\\":\\\"16487129904426891550\\\",\\\"type\\\":\\\"observable\\\"})};\\n    var self = this;\\n    function AppViewModel() {\\n        for (var key in json_data) {\\n            var el = json_data[key];\\n            this[key] = Array.isArray(el) ? ko.observableArray(el) : ko.observable(el);\\n        }\\n        \\n        [this[\\\"formatted_val\\\"]=ko.computed(    function(){\\n        return this.formatted_vals()[parseInt(this.index())-(1)];\\n    }\\n,this)]\\n        [this[\\\"changes\\\"].subscribe((function (val){!(this.valueFromJulia[\\\"changes\\\"]) ? (WebIO.setval({\\\"name\\\":\\\"changes\\\",\\\"scope\\\":\\\"18126745280935451549\\\",\\\"id\\\":\\\"7767737909516616731\\\",\\\"type\\\":\\\"observable\\\"},val)) : undefined; return this.valueFromJulia[\\\"changes\\\"]=false}),self),this[\\\"index\\\"].subscribe((function (val){!(this.valueFromJulia[\\\"index\\\"]) ? (WebIO.setval({\\\"name\\\":\\\"index\\\",\\\"scope\\\":\\\"18126745280935451549\\\",\\\"id\\\":\\\"16487129904426891550\\\",\\\"type\\\":\\\"observable\\\"},val)) : undefined; return this.valueFromJulia[\\\"index\\\"]=false}),self)]\\n        \\n    }\\n    self.model = new AppViewModel();\\n    self.valueFromJulia = {};\\n    for (var key in json_data) {\\n        self.valueFromJulia[key] = false;\\n    }\\n    ko.applyBindings(self.model, self.dom);\\n}\\n);\\n    (WebIO.importBlock({\\\"data\\\":[{\\\"name\\\":\\\"knockout\\\",\\\"type\\\":\\\"js\\\",\\\"url\\\":\\\"/assetserver/727383f2a47bd31570b7da84eee7b022dd6d7c78-knockout.js\\\"},{\\\"name\\\":\\\"knockout_punches\\\",\\\"type\\\":\\\"js\\\",\\\"url\\\":\\\"/assetserver/382b41b3b1bd9f26f75861d360bad7f8beea211f-knockout_punches.js\\\"}],\\\"type\\\":\\\"async_block\\\"})).then((imports) => handler.apply(this, imports));\\n}\\n\")])], Dict{Symbol, Any}(:className => \"field interact-widget\")), WebIO.Node{WebIO.DOM}(WebIO.DOM(:html, :div), Any[], Dict{Symbol, Any}(:style => Dict(\"display\" => \"flex\", \"flex-direction\" => \"column\"))), WebIO.Node{WebIO.DOM}(WebIO.DOM(:html, :div), Any[WebIO.Node{WebIO.DOM}(WebIO.DOM(:html, :div), Any[WebIO.Scope(WebIO.Node{WebIO.DOM}(WebIO.DOM(:html, :div), Any[WebIO.Node{WebIO.DOM}(WebIO.DOM(:html, :div), Any[WebIO.Node{WebIO.DOM}(WebIO.DOM(:html, :label), Any[\"min_alike\"], Dict{Symbol, Any}(:className => \"interact \", :style => Dict{Any, Any}(:padding => \"5px 10px 0px 10px\")))], Dict{Symbol, Any}(:className => \"interact-flex-row-left\")), WebIO.Node{WebIO.DOM}(WebIO.DOM(:html, :div), Any[WebIO.Node{WebIO.DOM}(WebIO.DOM(:html, :input), Any[], Dict{Symbol, Any}(:max => 12, :min => 1, :attributes => Dict{Any, Any}(:type => \"range\", Symbol(\"data-bind\") => \"numericValue: index, valueUpdate: 'input', event: {change: function (){this.changes(this.changes()+1)}}\", \"orient\" => \"horizontal\"), :step => 1, :className => \"slider slider is-fullwidth\", :style => Dict{Any, Any}()))], Dict{Symbol, Any}(:className => \"interact-flex-row-center\")), WebIO.Node{WebIO.DOM}(WebIO.DOM(:html, :div), Any[WebIO.Node{WebIO.DOM}(WebIO.DOM(:html, :p), Any[], Dict{Symbol, Any}(:attributes => Dict(\"data-bind\" => \"text: formatted_val\")))], Dict{Symbol, Any}(:className => \"interact-flex-row-right\"))], Dict{Symbol, Any}(:className => \"interact-flex-row interact-widget\")), Dict{String, Tuple{Observables.AbstractObservable, Union{Nothing, Bool}}}(\"changes\" => (Observable(0), nothing), \"index\" => (Observable(6), nothing)), Set{String}(), nothing, WebIO.Asset[WebIO.Asset(\"js\", \"knockout\", \"/home/dushya/.julia/packages/Knockout/HReiN/src/../assets/knockout.js\"), WebIO.Asset(\"js\", \"knockout_punches\", \"/home/dushya/.julia/packages/Knockout/HReiN/src/../assets/knockout_punches.js\"), WebIO.Asset(\"js\", nothing, \"/home/dushya/.julia/packages/InteractBase/LJXv3/src/../assets/all.js\"), WebIO.Asset(\"css\", nothing, \"/home/dushya/.julia/packages/InteractBase/LJXv3/src/../assets/style.css\"), WebIO.Asset(\"css\", nothing, \"/home/dushya/.julia/packages/Interact/PENUy/src/../assets/bulma_confined.min.css\")], Dict{Any, Any}(\"changes\" => Any[WebIO.JSString(\"(function (val){return (val!=this.model[\\\"changes\\\"]()) ? (this.valueFromJulia[\\\"changes\\\"]=true, this.model[\\\"changes\\\"](val)) : undefined})\")], \"index\" => Any[WebIO.JSString(\"(function (val){return (val!=this.model[\\\"index\\\"]()) ? (this.valueFromJulia[\\\"index\\\"]=true, this.model[\\\"index\\\"](val)) : undefined})\")]), WebIO.ConnectionPool(Channel{Any}(32), Set{WebIO.AbstractConnection}(), Base.GenericCondition{ReentrantLock}(Base.IntrusiveLinkedList{Task}(Task (runnable) @0x00007f2ede0379e0, Task (runnable) @0x00007f2ede0379e0), ReentrantLock(nothing, 0x00000000, 0x00, Base.GenericCondition{Base.Threads.SpinLock}(Base.IntrusiveLinkedList{Task}(nothing, nothing), Base.Threads.SpinLock(0)), (0, 139839274957440, 139840965361616)))), WebIO.JSString[WebIO.JSString(\"function () {\\n    var handler = (function (ko, koPunches) {\\n    ko.punches.enableAll();\\n    ko.bindingHandlers.numericValue = {\\n        init: function(element, valueAccessor, allBindings, data, context) {\\n            var stringified = ko.observable(ko.unwrap(valueAccessor()));\\n            stringified.subscribe(function(value) {\\n                var val = parseFloat(value);\\n                if (!isNaN(val)) {\\n                    valueAccessor()(val);\\n                }\\n            });\\n            valueAccessor().subscribe(function(value) {\\n                var str = JSON.stringify(value);\\n                if ((str == \\\"0\\\") && ([\\\"-0\\\", \\\"-0.\\\"].indexOf(stringified()) >= 0))\\n                     return;\\n                 if ([\\\"null\\\", \\\"\\\"].indexOf(str) >= 0)\\n                     return;\\n                stringified(str);\\n            });\\n            ko.applyBindingsToNode(\\n                element,\\n                {\\n                    value: stringified,\\n                    valueUpdate: allBindings.get('valueUpdate'),\\n                },\\n                context,\\n            );\\n        }\\n    };\\n    var json_data = {\\\"formatted_vals\\\":[\\\"1\\\",\\\"2\\\",\\\"3\\\",\\\"4\\\",\\\"5\\\",\\\"6\\\",\\\"7\\\",\\\"8\\\",\\\"9\\\",\\\"10\\\",\\\"11\\\",\\\"12\\\"],\\\"changes\\\":WebIO.getval({\\\"name\\\":\\\"changes\\\",\\\"scope\\\":\\\"8262869424527034126\\\",\\\"id\\\":\\\"15662250824614839608\\\",\\\"type\\\":\\\"observable\\\"}),\\\"index\\\":WebIO.getval({\\\"name\\\":\\\"index\\\",\\\"scope\\\":\\\"8262869424527034126\\\",\\\"id\\\":\\\"12168514417700633076\\\",\\\"type\\\":\\\"observable\\\"})};\\n    var self = this;\\n    function AppViewModel() {\\n        for (var key in json_data) {\\n            var el = json_data[key];\\n            this[key] = Array.isArray(el) ? ko.observableArray(el) : ko.observable(el);\\n        }\\n        \\n        [this[\\\"formatted_val\\\"]=ko.computed(    function(){\\n        return this.formatted_vals()[parseInt(this.index())-(1)];\\n    }\\n,this)]\\n        [this[\\\"changes\\\"].subscribe((function (val){!(this.valueFromJulia[\\\"changes\\\"]) ? (WebIO.setval({\\\"name\\\":\\\"changes\\\",\\\"scope\\\":\\\"8262869424527034126\\\",\\\"id\\\":\\\"15662250824614839608\\\",\\\"type\\\":\\\"observable\\\"},val)) : undefined; return this.valueFromJulia[\\\"changes\\\"]=false}),self),this[\\\"index\\\"].subscribe((function (val){!(this.valueFromJulia[\\\"index\\\"]) ? (WebIO.setval({\\\"name\\\":\\\"index\\\",\\\"scope\\\":\\\"8262869424527034126\\\",\\\"id\\\":\\\"12168514417700633076\\\",\\\"type\\\":\\\"observable\\\"},val)) : undefined; return this.valueFromJulia[\\\"index\\\"]=false}),self)]\\n        \\n    }\\n    self.model = new AppViewModel();\\n    self.valueFromJulia = {};\\n    for (var key in json_data) {\\n        self.valueFromJulia[key] = false;\\n    }\\n    ko.applyBindings(self.model, self.dom);\\n}\\n);\\n    (WebIO.importBlock({\\\"data\\\":[{\\\"name\\\":\\\"knockout\\\",\\\"type\\\":\\\"js\\\",\\\"url\\\":\\\"/assetserver/727383f2a47bd31570b7da84eee7b022dd6d7c78-knockout.js\\\"},{\\\"name\\\":\\\"knockout_punches\\\",\\\"type\\\":\\\"js\\\",\\\"url\\\":\\\"/assetserver/382b41b3b1bd9f26f75861d360bad7f8beea211f-knockout_punches.js\\\"}],\\\"type\\\":\\\"async_block\\\"})).then((imports) => handler.apply(this, imports));\\n}\\n\")])], Dict{Symbol, Any}(:className => \"field interact-widget\"))], Dict{Symbol, Any}(:style => Dict(\"display\" => \"flex\", \"flex-direction\" => \"column\"))), WebIO.Node{WebIO.DOM}(WebIO.DOM(:html, :div), Any[WebIO.Node{WebIO.DOM}(WebIO.DOM(:html, :div), Any[WebIO.Scope(WebIO.Node{WebIO.DOM}(WebIO.DOM(:html, :div), Any[], Dict{Symbol, Any}(:id => \"container\")), Dict{String, Tuple{Observables.AbstractObservable, Union{Nothing, Bool}}}(\"value\" => (Observable(\"\\\\;\\\\;\"), nothing)), Set{String}(), nothing, WebIO.Asset[WebIO.Asset(\"js\", nothing, \"/home/dushya/.julia/packages/InteractBase/LJXv3/src/../assets/katex.min.js\"), WebIO.Asset(\"css\", nothing, \"/home/dushya/.julia/packages/InteractBase/LJXv3/src/../assets/katex.min.css\")], Dict{Any, Any}(\"value\" => Any[WebIO.JSString(\"(function (txt){return this.k.render(txt,this.container)})\")]), WebIO.ConnectionPool(Channel{Any}(32), Set{WebIO.AbstractConnection}(), Base.GenericCondition{ReentrantLock}(Base.IntrusiveLinkedList{Task}(Task (runnable) @0x00007f2f0e99c970, Task (runnable) @0x00007f2f0e99c970), ReentrantLock(nothing, 0x00000000, 0x00, Base.GenericCondition{Base.Threads.SpinLock}(Base.IntrusiveLinkedList{Task}(nothing, nothing), Base.Threads.SpinLock(0)), (8, 139841165587008, 139840064831600)))), WebIO.JSString[WebIO.JSString(\"function () {\\n    var handler = ((function (k){this.k=k; this.container=this.dom.querySelector(\\\"#container\\\"); return k.render(\\\"\\\\\\\\;\\\\\\\\;\\\",this.container)}));\\n    (WebIO.importBlock({\\\"data\\\":[{\\\"name\\\":null,\\\"type\\\":\\\"js\\\",\\\"url\\\":\\\"/assetserver/dd22ed1bf1896c2748f3fe616ce0b838adc895c1-katex.min.js\\\"},{\\\"name\\\":null,\\\"type\\\":\\\"css\\\",\\\"url\\\":\\\"/assetserver/46517a424aa5e6cffc1360d7e0848b601c584ee3-katex.min.css\\\"}],\\\"type\\\":\\\"async_block\\\"})).then((imports) => handler.apply(this, imports));\\n}\\n\")])], Dict{Symbol, Any}(:className => \"interact-widget\")), WebIO.Node{WebIO.DOM}(WebIO.DOM(:html, :div), Any[WebIO.Scope(WebIO.Node{WebIO.DOM}(WebIO.DOM(:html, :button), Any[\"run\"], Dict{Symbol, Any}(:attributes => Dict{Any, Any}(\"data-bind\" => \"click: function (){this.clicks(this.clicks()+1)}, css: {'is-loading' : loading}\"), :className => \"is-medium button is-primary\", :style => Dict{String, Any}())), Dict{String, Tuple{Observables.AbstractObservable, Union{Nothing, Bool}}}(\"loading\" => (Observable(false), nothing), \"clicks\" => (Observable(0), nothing)), Set{String}(), nothing, WebIO.Asset[WebIO.Asset(\"js\", \"knockout\", \"/home/dushya/.julia/packages/Knockout/HReiN/src/../assets/knockout.js\"), WebIO.Asset(\"js\", \"knockout_punches\", \"/home/dushya/.julia/packages/Knockout/HReiN/src/../assets/knockout_punches.js\"), WebIO.Asset(\"js\", nothing, \"/home/dushya/.julia/packages/InteractBase/LJXv3/src/../assets/all.js\"), WebIO.Asset(\"css\", nothing, \"/home/dushya/.julia/packages/InteractBase/LJXv3/src/../assets/style.css\"), WebIO.Asset(\"css\", nothing, \"/home/dushya/.julia/packages/Interact/PENUy/src/../assets/bulma_confined.min.css\")], Dict{Any, Any}(\"loading\" => Any[WebIO.JSString(\"(function (val){return (val!=this.model[\\\"loading\\\"]()) ? (this.valueFromJulia[\\\"loading\\\"]=true, this.model[\\\"loading\\\"](val)) : undefined})\")], \"clicks\" => Any[WebIO.JSString(\"(function (val){return (val!=this.model[\\\"clicks\\\"]()) ? (this.valueFromJulia[\\\"clicks\\\"]=true, this.model[\\\"clicks\\\"](val)) : undefined})\")]), WebIO.ConnectionPool(Channel{Any}(32), Set{WebIO.AbstractConnection}(), Base.GenericCondition{ReentrantLock}(Base.IntrusiveLinkedList{Task}(Task (runnable) @0x00007f2ede04a590, Task (runnable) @0x00007f2ede04a590), ReentrantLock(nothing, 0x00000000, 0x00, Base.GenericCondition{Base.Threads.SpinLock}(Base.IntrusiveLinkedList{Task}(nothing, nothing), Base.Threads.SpinLock(0)), (0, 139637976727552, 139839275189312)))), WebIO.JSString[WebIO.JSString(\"function () {\\n    var handler = (function (ko, koPunches) {\\n    ko.punches.enableAll();\\n    ko.bindingHandlers.numericValue = {\\n        init: function(element, valueAccessor, allBindings, data, context) {\\n            var stringified = ko.observable(ko.unwrap(valueAccessor()));\\n            stringified.subscribe(function(value) {\\n                var val = parseFloat(value);\\n                if (!isNaN(val)) {\\n                    valueAccessor()(val);\\n                }\\n            });\\n            valueAccessor().subscribe(function(value) {\\n                var str = JSON.stringify(value);\\n                if ((str == \\\"0\\\") && ([\\\"-0\\\", \\\"-0.\\\"].indexOf(stringified()) >= 0))\\n                     return;\\n                 if ([\\\"null\\\", \\\"\\\"].indexOf(str) >= 0)\\n                     return;\\n                stringified(str);\\n            });\\n            ko.applyBindingsToNode(\\n                element,\\n                {\\n                    value: stringified,\\n                    valueUpdate: allBindings.get('valueUpdate'),\\n                },\\n                context,\\n            );\\n        }\\n    };\\n    var json_data = {\\\"loading\\\":WebIO.getval({\\\"name\\\":\\\"loading\\\",\\\"scope\\\":\\\"6979668163084474347\\\",\\\"id\\\":\\\"16922799462081615429\\\",\\\"type\\\":\\\"observable\\\"}),\\\"clicks\\\":WebIO.getval({\\\"name\\\":\\\"clicks\\\",\\\"scope\\\":\\\"6979668163084474347\\\",\\\"id\\\":\\\"9236224592770266366\\\",\\\"type\\\":\\\"observable\\\"})};\\n    var self = this;\\n    function AppViewModel() {\\n        for (var key in json_data) {\\n            var el = json_data[key];\\n            this[key] = Array.isArray(el) ? ko.observableArray(el) : ko.observable(el);\\n        }\\n        \\n        \\n        [this[\\\"loading\\\"].subscribe((function (val){!(this.valueFromJulia[\\\"loading\\\"]) ? (WebIO.setval({\\\"name\\\":\\\"loading\\\",\\\"scope\\\":\\\"6979668163084474347\\\",\\\"id\\\":\\\"16922799462081615429\\\",\\\"type\\\":\\\"observable\\\"},val)) : undefined; return this.valueFromJulia[\\\"loading\\\"]=false}),self),this[\\\"clicks\\\"].subscribe((function (val){!(this.valueFromJulia[\\\"clicks\\\"]) ? (WebIO.setval({\\\"name\\\":\\\"clicks\\\",\\\"scope\\\":\\\"6979668163084474347\\\",\\\"id\\\":\\\"9236224592770266366\\\",\\\"type\\\":\\\"observable\\\"},val)) : undefined; return this.valueFromJulia[\\\"clicks\\\"]=false}),self)]\\n        \\n    }\\n    self.model = new AppViewModel();\\n    self.valueFromJulia = {};\\n    for (var key in json_data) {\\n        self.valueFromJulia[key] = false;\\n    }\\n    ko.applyBindings(self.model, self.dom);\\n}\\n);\\n    (WebIO.importBlock({\\\"data\\\":[{\\\"name\\\":\\\"knockout\\\",\\\"type\\\":\\\"js\\\",\\\"url\\\":\\\"/assetserver/727383f2a47bd31570b7da84eee7b022dd6d7c78-knockout.js\\\"},{\\\"name\\\":\\\"knockout_punches\\\",\\\"type\\\":\\\"js\\\",\\\"url\\\":\\\"/assetserver/382b41b3b1bd9f26f75861d360bad7f8beea211f-knockout_punches.js\\\"}],\\\"type\\\":\\\"async_block\\\"})).then((imports) => handler.apply(this, imports));\\n}\\n\")])], Dict{Symbol, Any}(:className => \"field interact-widget\")), WebIO.Node{WebIO.DOM}(WebIO.DOM(:html, :div), Any[WebIO.Scope(WebIO.Node{WebIO.DOM}(WebIO.DOM(:html, :div), Any[], Dict{Symbol, Any}(:id => \"container\")), Dict{String, Tuple{Observables.AbstractObservable, Union{Nothing, Bool}}}(\"value\" => (Observable(\"\\\\;\\\\;\"), nothing)), Set{String}(), nothing, WebIO.Asset[WebIO.Asset(\"js\", nothing, \"/home/dushya/.julia/packages/InteractBase/LJXv3/src/../assets/katex.min.js\"), WebIO.Asset(\"css\", nothing, \"/home/dushya/.julia/packages/InteractBase/LJXv3/src/../assets/katex.min.css\")], Dict{Any, Any}(\"value\" => Any[WebIO.JSString(\"(function (txt){return this.k.render(txt,this.container)})\")]), WebIO.ConnectionPool(Channel{Any}(32), Set{WebIO.AbstractConnection}(), Base.GenericCondition{ReentrantLock}(Base.IntrusiveLinkedList{Task}(Task (runnable) @0x00007f2f0e99c970, Task (runnable) @0x00007f2f0e99c970), ReentrantLock(nothing, 0x00000000, 0x00, Base.GenericCondition{Base.Threads.SpinLock}(Base.IntrusiveLinkedList{Task}(nothing, nothing), Base.Threads.SpinLock(0)), (8, 139841165587008, 139840064831600)))), WebIO.JSString[WebIO.JSString(\"function () {\\n    var handler = ((function (k){this.k=k; this.container=this.dom.querySelector(\\\"#container\\\"); return k.render(\\\"\\\\\\\\;\\\\\\\\;\\\",this.container)}));\\n    (WebIO.importBlock({\\\"data\\\":[{\\\"name\\\":null,\\\"type\\\":\\\"js\\\",\\\"url\\\":\\\"/assetserver/dd22ed1bf1896c2748f3fe616ce0b838adc895c1-katex.min.js\\\"},{\\\"name\\\":null,\\\"type\\\":\\\"css\\\",\\\"url\\\":\\\"/assetserver/46517a424aa5e6cffc1360d7e0848b601c584ee3-katex.min.css\\\"}],\\\"type\\\":\\\"async_block\\\"})).then((imports) => handler.apply(this, imports));\\n}\\n\")])], Dict{Symbol, Any}(:className => \"interact-widget\")), WebIO.Node{WebIO.DOM}(WebIO.DOM(:html, :div), Any[WebIO.Scope(WebIO.Node{WebIO.DOM}(WebIO.DOM(:html, :button), Any[\"stop\"], Dict{Symbol, Any}(:attributes => Dict{Any, Any}(\"data-bind\" => \"click: function (){this.clicks(this.clicks()+1)}, css: {'is-loading' : loading}\"), :className => \"is-medium button is-primary\", :style => Dict{String, Any}())), Dict{String, Tuple{Observables.AbstractObservable, Union{Nothing, Bool}}}(\"loading\" => (Observable(false), nothing), \"clicks\" => (Observable(0), nothing)), Set{String}(), nothing, WebIO.Asset[WebIO.Asset(\"js\", \"knockout\", \"/home/dushya/.julia/packages/Knockout/HReiN/src/../assets/knockout.js\"), WebIO.Asset(\"js\", \"knockout_punches\", \"/home/dushya/.julia/packages/Knockout/HReiN/src/../assets/knockout_punches.js\"), WebIO.Asset(\"js\", nothing, \"/home/dushya/.julia/packages/InteractBase/LJXv3/src/../assets/all.js\"), WebIO.Asset(\"css\", nothing, \"/home/dushya/.julia/packages/InteractBase/LJXv3/src/../assets/style.css\"), WebIO.Asset(\"css\", nothing, \"/home/dushya/.julia/packages/Interact/PENUy/src/../assets/bulma_confined.min.css\")], Dict{Any, Any}(\"loading\" => Any[WebIO.JSString(\"(function (val){return (val!=this.model[\\\"loading\\\"]()) ? (this.valueFromJulia[\\\"loading\\\"]=true, this.model[\\\"loading\\\"](val)) : undefined})\")], \"clicks\" => Any[WebIO.JSString(\"(function (val){return (val!=this.model[\\\"clicks\\\"]()) ? (this.valueFromJulia[\\\"clicks\\\"]=true, this.model[\\\"clicks\\\"](val)) : undefined})\")]), WebIO.ConnectionPool(Channel{Any}(32), Set{WebIO.AbstractConnection}(), Base.GenericCondition{ReentrantLock}(Base.IntrusiveLinkedList{Task}(Task (runnable) @0x00007f2ede07cfb0, Task (runnable) @0x00007f2ede07cfb0), ReentrantLock(nothing, 0x00000000, 0x00, Base.GenericCondition{Base.Threads.SpinLock}(Base.IntrusiveLinkedList{Task}(nothing, nothing), Base.Threads.SpinLock(0)), (139841021998160, 139840187593648, 0)))), WebIO.JSString[WebIO.JSString(\"function () {\\n    var handler = (function (ko, koPunches) {\\n    ko.punches.enableAll();\\n    ko.bindingHandlers.numericValue = {\\n        init: function(element, valueAccessor, allBindings, data, context) {\\n            var stringified = ko.observable(ko.unwrap(valueAccessor()));\\n            stringified.subscribe(function(value) {\\n                var val = parseFloat(value);\\n                if (!isNaN(val)) {\\n                    valueAccessor()(val);\\n                }\\n            });\\n            valueAccessor().subscribe(function(value) {\\n                var str = JSON.stringify(value);\\n                if ((str == \\\"0\\\") && ([\\\"-0\\\", \\\"-0.\\\"].indexOf(stringified()) >= 0))\\n                     return;\\n                 if ([\\\"null\\\", \\\"\\\"].indexOf(str) >= 0)\\n                     return;\\n                stringified(str);\\n            });\\n            ko.applyBindingsToNode(\\n                element,\\n                {\\n                    value: stringified,\\n                    valueUpdate: allBindings.get('valueUpdate'),\\n                },\\n                context,\\n            );\\n        }\\n    };\\n    var json_data = {\\\"loading\\\":WebIO.getval({\\\"name\\\":\\\"loading\\\",\\\"scope\\\":\\\"14604223747639455038\\\",\\\"id\\\":\\\"6557909328841086009\\\",\\\"type\\\":\\\"observable\\\"}),\\\"clicks\\\":WebIO.getval({\\\"name\\\":\\\"clicks\\\",\\\"scope\\\":\\\"14604223747639455038\\\",\\\"id\\\":\\\"7711583685995879039\\\",\\\"type\\\":\\\"observable\\\"})};\\n    var self = this;\\n    function AppViewModel() {\\n        for (var key in json_data) {\\n            var el = json_data[key];\\n            this[key] = Array.isArray(el) ? ko.observableArray(el) : ko.observable(el);\\n        }\\n        \\n        \\n        [this[\\\"loading\\\"].subscribe((function (val){!(this.valueFromJulia[\\\"loading\\\"]) ? (WebIO.setval({\\\"name\\\":\\\"loading\\\",\\\"scope\\\":\\\"14604223747639455038\\\",\\\"id\\\":\\\"6557909328841086009\\\",\\\"type\\\":\\\"observable\\\"},val)) : undefined; return this.valueFromJulia[\\\"loading\\\"]=false}),self),this[\\\"clicks\\\"].subscribe((function (val){!(this.valueFromJulia[\\\"clicks\\\"]) ? (WebIO.setval({\\\"name\\\":\\\"clicks\\\",\\\"scope\\\":\\\"14604223747639455038\\\",\\\"id\\\":\\\"7711583685995879039\\\",\\\"type\\\":\\\"observable\\\"},val)) : undefined; return this.valueFromJulia[\\\"clicks\\\"]=false}),self)]\\n        \\n    }\\n    self.model = new AppViewModel();\\n    self.valueFromJulia = {};\\n    for (var key in json_data) {\\n        self.valueFromJulia[key] = false;\\n    }\\n    ko.applyBindings(self.model, self.dom);\\n}\\n);\\n    (WebIO.importBlock({\\\"data\\\":[{\\\"name\\\":\\\"knockout\\\",\\\"type\\\":\\\"js\\\",\\\"url\\\":\\\"/assetserver/727383f2a47bd31570b7da84eee7b022dd6d7c78-knockout.js\\\"},{\\\"name\\\":\\\"knockout_punches\\\",\\\"type\\\":\\\"js\\\",\\\"url\\\":\\\"/assetserver/382b41b3b1bd9f26f75861d360bad7f8beea211f-knockout_punches.js\\\"}],\\\"type\\\":\\\"async_block\\\"})).then((imports) => handler.apply(this, imports));\\n}\\n\")])], Dict{Symbol, Any}(:className => \"field interact-widget\")), WebIO.Node{WebIO.DOM}(WebIO.DOM(:html, :div), Any[WebIO.Scope(WebIO.Node{WebIO.DOM}(WebIO.DOM(:html, :div), Any[], Dict{Symbol, Any}(:id => \"container\")), Dict{String, Tuple{Observables.AbstractObservable, Union{Nothing, Bool}}}(\"value\" => (Observable(\"\\\\;\\\\;\"), nothing)), Set{String}(), nothing, WebIO.Asset[WebIO.Asset(\"js\", nothing, \"/home/dushya/.julia/packages/InteractBase/LJXv3/src/../assets/katex.min.js\"), WebIO.Asset(\"css\", nothing, \"/home/dushya/.julia/packages/InteractBase/LJXv3/src/../assets/katex.min.css\")], Dict{Any, Any}(\"value\" => Any[WebIO.JSString(\"(function (txt){return this.k.render(txt,this.container)})\")]), WebIO.ConnectionPool(Channel{Any}(32), Set{WebIO.AbstractConnection}(), Base.GenericCondition{ReentrantLock}(Base.IntrusiveLinkedList{Task}(Task (runnable) @0x00007f2f0e99c970, Task (runnable) @0x00007f2f0e99c970), ReentrantLock(nothing, 0x00000000, 0x00, Base.GenericCondition{Base.Threads.SpinLock}(Base.IntrusiveLinkedList{Task}(nothing, nothing), Base.Threads.SpinLock(0)), (8, 139841165587008, 139840064831600)))), WebIO.JSString[WebIO.JSString(\"function () {\\n    var handler = ((function (k){this.k=k; this.container=this.dom.querySelector(\\\"#container\\\"); return k.render(\\\"\\\\\\\\;\\\\\\\\;\\\",this.container)}));\\n    (WebIO.importBlock({\\\"data\\\":[{\\\"name\\\":null,\\\"type\\\":\\\"js\\\",\\\"url\\\":\\\"/assetserver/dd22ed1bf1896c2748f3fe616ce0b838adc895c1-katex.min.js\\\"},{\\\"name\\\":null,\\\"type\\\":\\\"css\\\",\\\"url\\\":\\\"/assetserver/46517a424aa5e6cffc1360d7e0848b601c584ee3-katex.min.css\\\"}],\\\"type\\\":\\\"async_block\\\"})).then((imports) => handler.apply(this, imports));\\n}\\n\")])], Dict{Symbol, Any}(:className => \"interact-widget\")), WebIO.Node{WebIO.DOM}(WebIO.DOM(:html, :div), Any[WebIO.Scope(WebIO.Node{WebIO.DOM}(WebIO.DOM(:html, :button), Any[\"reset\"], Dict{Symbol, Any}(:attributes => Dict{Any, Any}(\"data-bind\" => \"click: function (){this.clicks(this.clicks()+1)}, css: {'is-loading' : loading}\"), :className => \"is-medium button is-primary\", :style => Dict{String, Any}())), Dict{String, Tuple{Observables.AbstractObservable, Union{Nothing, Bool}}}(\"loading\" => (Observable(false), nothing), \"clicks\" => (Observable(0), nothing)), Set{String}(), nothing, WebIO.Asset[WebIO.Asset(\"js\", \"knockout\", \"/home/dushya/.julia/packages/Knockout/HReiN/src/../assets/knockout.js\"), WebIO.Asset(\"js\", \"knockout_punches\", \"/home/dushya/.julia/packages/Knockout/HReiN/src/../assets/knockout_punches.js\"), WebIO.Asset(\"js\", nothing, \"/home/dushya/.julia/packages/InteractBase/LJXv3/src/../assets/all.js\"), WebIO.Asset(\"css\", nothing, \"/home/dushya/.julia/packages/InteractBase/LJXv3/src/../assets/style.css\"), WebIO.Asset(\"css\", nothing, \"/home/dushya/.julia/packages/Interact/PENUy/src/../assets/bulma_confined.min.css\")], Dict{Any, Any}(\"loading\" => Any[WebIO.JSString(\"(function (val){return (val!=this.model[\\\"loading\\\"]()) ? (this.valueFromJulia[\\\"loading\\\"]=true, this.model[\\\"loading\\\"](val)) : undefined})\")], \"clicks\" => Any[WebIO.JSString(\"(function (val){return (val!=this.model[\\\"clicks\\\"]()) ? (this.valueFromJulia[\\\"clicks\\\"]=true, this.model[\\\"clicks\\\"](val)) : undefined})\")]), WebIO.ConnectionPool(Channel{Any}(32), Set{WebIO.AbstractConnection}(), Base.GenericCondition{ReentrantLock}(Base.IntrusiveLinkedList{Task}(Task (runnable) @0x00007f2ede07f9e0, Task (runnable) @0x00007f2ede07f9e0), ReentrantLock(nothing, 0x00000000, 0x00, Base.GenericCondition{Base.Threads.SpinLock}(Base.IntrusiveLinkedList{Task}(nothing, nothing), Base.Threads.SpinLock(0)), (0, 0, 141733920768)))), WebIO.JSString[WebIO.JSString(\"function () {\\n    var handler = (function (ko, koPunches) {\\n    ko.punches.enableAll();\\n    ko.bindingHandlers.numericValue = {\\n        init: function(element, valueAccessor, allBindings, data, context) {\\n            var stringified = ko.observable(ko.unwrap(valueAccessor()));\\n            stringified.subscribe(function(value) {\\n                var val = parseFloat(value);\\n                if (!isNaN(val)) {\\n                    valueAccessor()(val);\\n                }\\n            });\\n            valueAccessor().subscribe(function(value) {\\n                var str = JSON.stringify(value);\\n                if ((str == \\\"0\\\") && ([\\\"-0\\\", \\\"-0.\\\"].indexOf(stringified()) >= 0))\\n                     return;\\n                 if ([\\\"null\\\", \\\"\\\"].indexOf(str) >= 0)\\n                     return;\\n                stringified(str);\\n            });\\n            ko.applyBindingsToNode(\\n                element,\\n                {\\n                    value: stringified,\\n                    valueUpdate: allBindings.get('valueUpdate'),\\n                },\\n                context,\\n            );\\n        }\\n    };\\n    var json_data = {\\\"loading\\\":WebIO.getval({\\\"name\\\":\\\"loading\\\",\\\"scope\\\":\\\"11137228206554552684\\\",\\\"id\\\":\\\"12421476244737714634\\\",\\\"type\\\":\\\"observable\\\"}),\\\"clicks\\\":WebIO.getval({\\\"name\\\":\\\"clicks\\\",\\\"scope\\\":\\\"11137228206554552684\\\",\\\"id\\\":\\\"16728142331508763875\\\",\\\"type\\\":\\\"observable\\\"})};\\n    var self = this;\\n    function AppViewModel() {\\n        for (var key in json_data) {\\n            var el = json_data[key];\\n            this[key] = Array.isArray(el) ? ko.observableArray(el) : ko.observable(el);\\n        }\\n        \\n        \\n        [this[\\\"loading\\\"].subscribe((function (val){!(this.valueFromJulia[\\\"loading\\\"]) ? (WebIO.setval({\\\"name\\\":\\\"loading\\\",\\\"scope\\\":\\\"11137228206554552684\\\",\\\"id\\\":\\\"12421476244737714634\\\",\\\"type\\\":\\\"observable\\\"},val)) : undefined; return this.valueFromJulia[\\\"loading\\\"]=false}),self),this[\\\"clicks\\\"].subscribe((function (val){!(this.valueFromJulia[\\\"clicks\\\"]) ? (WebIO.setval({\\\"name\\\":\\\"clicks\\\",\\\"scope\\\":\\\"11137228206554552684\\\",\\\"id\\\":\\\"16728142331508763875\\\",\\\"type\\\":\\\"observable\\\"},val)) : undefined; return this.valueFromJulia[\\\"clicks\\\"]=false}),self)]\\n        \\n    }\\n    self.model = new AppViewModel();\\n    self.valueFromJulia = {};\\n    for (var key in json_data) {\\n        self.valueFromJulia[key] = false;\\n    }\\n    ko.applyBindings(self.model, self.dom);\\n}\\n);\\n    (WebIO.importBlock({\\\"data\\\":[{\\\"name\\\":\\\"knockout\\\",\\\"type\\\":\\\"js\\\",\\\"url\\\":\\\"/assetserver/727383f2a47bd31570b7da84eee7b022dd6d7c78-knockout.js\\\"},{\\\"name\\\":\\\"knockout_punches\\\",\\\"type\\\":\\\"js\\\",\\\"url\\\":\\\"/assetserver/382b41b3b1bd9f26f75861d360bad7f8beea211f-knockout_punches.js\\\"}],\\\"type\\\":\\\"async_block\\\"})).then((imports) => handler.apply(this, imports));\\n}\\n\")])], Dict{Symbol, Any}(:className => \"field interact-widget\"))], Dict{Symbol, Any}(:style => Dict(\"display\" => \"flex\", \"flex-direction\" => \"row\")))], Dict{Symbol, Any}(:style => Dict(\"display\" => \"flex\", \"flex-direction\" => \"column\"))), Observable(MeshCat.DisplayedVisualizer(MeshCat.CoreVisualizer(MeshCat.SceneTrees.SceneNode(nothing, nothing, Dict{String, Vector{UInt8}}(), nothing, Dict{String, MeshCat.SceneTrees.SceneNode}(\"meshcat\" => MeshCat.SceneTrees.SceneNode(nothing, UInt8[0x83, 0xa6, 0x6d, 0x61, 0x74, 0x72, 0x69, 0x78, 0xc7, 0x40  …  0x68, 0xa8, 0x2f, 0x6d, 0x65, 0x73, 0x68, 0x63, 0x61, 0x74], Dict{String, Vector{UInt8}}(), nothing, Dict{String, MeshCat.SceneTrees.SceneNode}(\"agents\" => MeshCat.SceneTrees.SceneNode(nothing, nothing, Dict{String, Vector{UInt8}}(), nothing, Dict{String, MeshCat.SceneTrees.SceneNode}(\"131sphere\" => MeshCat.SceneTrees.SceneNode(nothing, UInt8[0x83, 0xa6, 0x6d, 0x61, 0x74, 0x72, 0x69, 0x78, 0xc7, 0x40  …  0x2f, 0x31, 0x33, 0x31, 0x73, 0x70, 0x68, 0x65, 0x72, 0x65], Dict{String, Vector{UInt8}}(\"scale\" => [0x84, 0xa8, 0x70, 0x72, 0x6f, 0x70, 0x65, 0x72, 0x74, 0x79  …  0x2f, 0x31, 0x33, 0x31, 0x73, 0x70, 0x68, 0x65, 0x72, 0x65]), nothing, Dict{String, MeshCat.SceneTrees.SceneNode}(\"(0.0N0f8, 1.0N0f8, 0.0N0f8, 1.0N0f8)\" => MeshCat.SceneTrees.SceneNode(UInt8[0x83, 0xa6, 0x6f, 0x62, 0x6a, 0x65, 0x63, 0x74, 0x84, 0xaa  …  0x2c, 0x20, 0x31, 0x2e, 0x30, 0x4e, 0x30, 0x66, 0x38, 0x29], nothing, Dict{String, Vector{UInt8}}(\"visible\" => [0x84, 0xa8, 0x70, 0x72, 0x6f, 0x70, 0x65, 0x72, 0x74, 0x79  …  0x2c, 0x20, 0x31, 0x2e, 0x30, 0x4e, 0x30, 0x66, 0x38, 0x29]), nothing, Dict{String, MeshCat.SceneTrees.SceneNode}()))), \"183sphere\" => MeshCat.SceneTrees.SceneNode(nothing, UInt8[0x83, 0xa6, 0x6d, 0x61, 0x74, 0x72, 0x69, 0x78, 0xc7, 0x40  …  0x2f, 0x31, 0x38, 0x33, 0x73, 0x70, 0x68, 0x65, 0x72, 0x65], Dict{String, Vector{UInt8}}(\"scale\" => [0x84, 0xa8, 0x70, 0x72, 0x6f, 0x70, 0x65, 0x72, 0x74, 0x79  …  0x2f, 0x31, 0x38, 0x33, 0x73, 0x70, 0x68, 0x65, 0x72, 0x65]), nothing, Dict{String, MeshCat.SceneTrees.SceneNode}(\"(0.0N0f8, 1.0N0f8, 0.0N0f8, 1.0N0f8)\" => MeshCat.SceneTrees.SceneNode(UInt8[0x83, 0xa6, 0x6f, 0x62, 0x6a, 0x65, 0x63, 0x74, 0x84, 0xaa  …  0x2c, 0x20, 0x31, 0x2e, 0x30, 0x4e, 0x30, 0x66, 0x38, 0x29], nothing, Dict{String, Vector{UInt8}}(\"visible\" => [0x84, 0xa8, 0x70, 0x72, 0x6f, 0x70, 0x65, 0x72, 0x74, 0x79  …  0x2c, 0x20, 0x31, 0x2e, 0x30, 0x4e, 0x30, 0x66, 0x38, 0x29]), nothing, Dict{String, MeshCat.SceneTrees.SceneNode}()))), \"186sphere\" => MeshCat.SceneTrees.SceneNode(nothing, UInt8[0x83, 0xa6, 0x6d, 0x61, 0x74, 0x72, 0x69, 0x78, 0xc7, 0x40  …  0x2f, 0x31, 0x38, 0x36, 0x73, 0x70, 0x68, 0x65, 0x72, 0x65], Dict{String, Vector{UInt8}}(\"scale\" => [0x84, 0xa8, 0x70, 0x72, 0x6f, 0x70, 0x65, 0x72, 0x74, 0x79  …  0x2f, 0x31, 0x38, 0x36, 0x73, 0x70, 0x68, 0x65, 0x72, 0x65]), nothing, Dict{String, MeshCat.SceneTrees.SceneNode}(\"(0.0N0f8, 1.0N0f8, 0.0N0f8, 1.0N0f8)\" => MeshCat.SceneTrees.SceneNode(UInt8[0x83, 0xa6, 0x6f, 0x62, 0x6a, 0x65, 0x63, 0x74, 0x84, 0xaa  …  0x2c, 0x20, 0x31, 0x2e, 0x30, 0x4e, 0x30, 0x66, 0x38, 0x29], nothing, Dict{String, Vector{UInt8}}(\"visible\" => [0x84, 0xa8, 0x70, 0x72, 0x6f, 0x70, 0x65, 0x72, 0x74, 0x79  …  0x2c, 0x20, 0x31, 0x2e, 0x30, 0x4e, 0x30, 0x66, 0x38, 0x29]), nothing, Dict{String, MeshCat.SceneTrees.SceneNode}()))), \"87sphere\" => MeshCat.SceneTrees.SceneNode(nothing, UInt8[0x83, 0xa6, 0x6d, 0x61, 0x74, 0x72, 0x69, 0x78, 0xc7, 0x40  …  0x73, 0x2f, 0x38, 0x37, 0x73, 0x70, 0x68, 0x65, 0x72, 0x65], Dict{String, Vector{UInt8}}(\"scale\" => [0x84, 0xa8, 0x70, 0x72, 0x6f, 0x70, 0x65, 0x72, 0x74, 0x79  …  0x73, 0x2f, 0x38, 0x37, 0x73, 0x70, 0x68, 0x65, 0x72, 0x65]), nothing, Dict{String, MeshCat.SceneTrees.SceneNode}(\"(0.0N0f8, 1.0N0f8, 0.0N0f8, 1.0N0f8)\" => MeshCat.SceneTrees.SceneNode(UInt8[0x83, 0xa6, 0x6f, 0x62, 0x6a, 0x65, 0x63, 0x74, 0x84, 0xaa  …  0x2c, 0x20, 0x31, 0x2e, 0x30, 0x4e, 0x30, 0x66, 0x38, 0x29], nothing, Dict{String, Vector{UInt8}}(\"visible\" => [0x84, 0xa8, 0x70, 0x72, 0x6f, 0x70, 0x65, 0x72, 0x74, 0x79  …  0x2c, 0x20, 0x31, 0x2e, 0x30, 0x4e, 0x30, 0x66, 0x38, 0x29]), nothing, Dict{String, MeshCat.SceneTrees.SceneNode}()))), \"130sphere\" => MeshCat.SceneTrees.SceneNode(nothing, UInt8[0x83, 0xa6, 0x6d, 0x61, 0x74, 0x72, 0x69, 0x78, 0xc7, 0x40  …  0x2f, 0x31, 0x33, 0x30, 0x73, 0x70, 0x68, 0x65, 0x72, 0x65], Dict{String, Vector{UInt8}}(\"scale\" => [0x84, 0xa8, 0x70, 0x72, 0x6f, 0x70, 0x65, 0x72, 0x74, 0x79  …  0x2f, 0x31, 0x33, 0x30, 0x73, 0x70, 0x68, 0x65, 0x72, 0x65]), nothing, Dict{String, MeshCat.SceneTrees.SceneNode}(\"(0.0N0f8, 1.0N0f8, 0.0N0f8, 1.0N0f8)\" => MeshCat.SceneTrees.SceneNode(UInt8[0x83, 0xa6, 0x6f, 0x62, 0x6a, 0x65, 0x63, 0x74, 0x84, 0xaa  …  0x2c, 0x20, 0x31, 0x2e, 0x30, 0x4e, 0x30, 0x66, 0x38, 0x29], nothing, Dict{String, Vector{UInt8}}(\"visible\" => [0x84, 0xa8, 0x70, 0x72, 0x6f, 0x70, 0x65, 0x72, 0x74, 0x79  …  0x2c, 0x20, 0x31, 0x2e, 0x30, 0x4e, 0x30, 0x66, 0x38, 0x29]), nothing, Dict{String, MeshCat.SceneTrees.SceneNode}()))), \"51sphere\" => MeshCat.SceneTrees.SceneNode(nothing, UInt8[0x83, 0xa6, 0x6d, 0x61, 0x74, 0x72, 0x69, 0x78, 0xc7, 0x40  …  0x73, 0x2f, 0x35, 0x31, 0x73, 0x70, 0x68, 0x65, 0x72, 0x65], Dict{String, Vector{UInt8}}(\"scale\" => [0x84, 0xa8, 0x70, 0x72, 0x6f, 0x70, 0x65, 0x72, 0x74, 0x79  …  0x73, 0x2f, 0x35, 0x31, 0x73, 0x70, 0x68, 0x65, 0x72, 0x65]), nothing, Dict{String, MeshCat.SceneTrees.SceneNode}(\"(0.0N0f8, 1.0N0f8, 0.0N0f8, 1.0N0f8)\" => MeshCat.SceneTrees.SceneNode(UInt8[0x83, 0xa6, 0x6f, 0x62, 0x6a, 0x65, 0x63, 0x74, 0x84, 0xaa  …  0x2c, 0x20, 0x31, 0x2e, 0x30, 0x4e, 0x30, 0x66, 0x38, 0x29], nothing, Dict{String, Vector{UInt8}}(\"visible\" => [0x84, 0xa8, 0x70, 0x72, 0x6f, 0x70, 0x65, 0x72, 0x74, 0x79  …  0x2c, 0x20, 0x31, 0x2e, 0x30, 0x4e, 0x30, 0x66, 0x38, 0x29]), nothing, Dict{String, MeshCat.SceneTrees.SceneNode}()))), \"9sphere\" => MeshCat.SceneTrees.SceneNode(nothing, UInt8[0x83, 0xa6, 0x6d, 0x61, 0x74, 0x72, 0x69, 0x78, 0xc7, 0x40  …  0x74, 0x73, 0x2f, 0x39, 0x73, 0x70, 0x68, 0x65, 0x72, 0x65], Dict{String, Vector{UInt8}}(\"scale\" => [0x84, 0xa8, 0x70, 0x72, 0x6f, 0x70, 0x65, 0x72, 0x74, 0x79  …  0x74, 0x73, 0x2f, 0x39, 0x73, 0x70, 0x68, 0x65, 0x72, 0x65]), nothing, Dict{String, MeshCat.SceneTrees.SceneNode}(\"(0.0N0f8, 1.0N0f8, 0.0N0f8, 1.0N0f8)\" => MeshCat.SceneTrees.SceneNode(UInt8[0x83, 0xa6, 0x6f, 0x62, 0x6a, 0x65, 0x63, 0x74, 0x84, 0xaa  …  0x2c, 0x20, 0x31, 0x2e, 0x30, 0x4e, 0x30, 0x66, 0x38, 0x29], nothing, Dict{String, Vector{UInt8}}(\"visible\" => [0x84, 0xa8, 0x70, 0x72, 0x6f, 0x70, 0x65, 0x72, 0x74, 0x79  …  0x2c, 0x20, 0x31, 0x2e, 0x30, 0x4e, 0x30, 0x66, 0x38, 0x29]), nothing, Dict{String, MeshCat.SceneTrees.SceneNode}()))), \"154sphere\" => MeshCat.SceneTrees.SceneNode(nothing, UInt8[0x83, 0xa6, 0x6d, 0x61, 0x74, 0x72, 0x69, 0x78, 0xc7, 0x40  …  0x2f, 0x31, 0x35, 0x34, 0x73, 0x70, 0x68, 0x65, 0x72, 0x65], Dict{String, Vector{UInt8}}(\"scale\" => [0x84, 0xa8, 0x70, 0x72, 0x6f, 0x70, 0x65, 0x72, 0x74, 0x79  …  0x2f, 0x31, 0x35, 0x34, 0x73, 0x70, 0x68, 0x65, 0x72, 0x65]), nothing, Dict{String, MeshCat.SceneTrees.SceneNode}(\"(0.0N0f8, 1.0N0f8, 0.0N0f8, 1.0N0f8)\" => MeshCat.SceneTrees.SceneNode(UInt8[0x83, 0xa6, 0x6f, 0x62, 0x6a, 0x65, 0x63, 0x74, 0x84, 0xaa  …  0x2c, 0x20, 0x31, 0x2e, 0x30, 0x4e, 0x30, 0x66, 0x38, 0x29], nothing, Dict{String, Vector{UInt8}}(\"visible\" => [0x84, 0xa8, 0x70, 0x72, 0x6f, 0x70, 0x65, 0x72, 0x74, 0x79  …  0x2c, 0x20, 0x31, 0x2e, 0x30, 0x4e, 0x30, 0x66, 0x38, 0x29]), nothing, Dict{String, MeshCat.SceneTrees.SceneNode}()))), \"102sphere\" => MeshCat.SceneTrees.SceneNode(nothing, UInt8[0x83, 0xa6, 0x6d, 0x61, 0x74, 0x72, 0x69, 0x78, 0xc7, 0x40  …  0x2f, 0x31, 0x30, 0x32, 0x73, 0x70, 0x68, 0x65, 0x72, 0x65], Dict{String, Vector{UInt8}}(\"scale\" => [0x84, 0xa8, 0x70, 0x72, 0x6f, 0x70, 0x65, 0x72, 0x74, 0x79  …  0x2f, 0x31, 0x30, 0x32, 0x73, 0x70, 0x68, 0x65, 0x72, 0x65]), nothing, Dict{String, MeshCat.SceneTrees.SceneNode}(\"(1.0N0f8, 0.0N0f8, 0.0N0f8, 1.0N0f8)\" => MeshCat.SceneTrees.SceneNode(UInt8[0x83, 0xa6, 0x6f, 0x62, 0x6a, 0x65, 0x63, 0x74, 0x84, 0xaa  …  0x2c, 0x20, 0x31, 0x2e, 0x30, 0x4e, 0x30, 0x66, 0x38, 0x29], nothing, Dict{String, Vector{UInt8}}(\"visible\" => [0x84, 0xa8, 0x70, 0x72, 0x6f, 0x70, 0x65, 0x72, 0x74, 0x79  …  0x2c, 0x20, 0x31, 0x2e, 0x30, 0x4e, 0x30, 0x66, 0x38, 0x29]), nothing, Dict{String, MeshCat.SceneTrees.SceneNode}()))), \"64sphere\" => MeshCat.SceneTrees.SceneNode(nothing, UInt8[0x83, 0xa6, 0x6d, 0x61, 0x74, 0x72, 0x69, 0x78, 0xc7, 0x40  …  0x73, 0x2f, 0x36, 0x34, 0x73, 0x70, 0x68, 0x65, 0x72, 0x65], Dict{String, Vector{UInt8}}(\"scale\" => [0x84, 0xa8, 0x70, 0x72, 0x6f, 0x70, 0x65, 0x72, 0x74, 0x79  …  0x73, 0x2f, 0x36, 0x34, 0x73, 0x70, 0x68, 0x65, 0x72, 0x65]), nothing, Dict{String, MeshCat.SceneTrees.SceneNode}(\"(0.0N0f8, 1.0N0f8, 0.0N0f8, 1.0N0f8)\" => MeshCat.SceneTrees.SceneNode(UInt8[0x83, 0xa6, 0x6f, 0x62, 0x6a, 0x65, 0x63, 0x74, 0x84, 0xaa  …  0x2c, 0x20, 0x31, 0x2e, 0x30, 0x4e, 0x30, 0x66, 0x38, 0x29], nothing, Dict{String, Vector{UInt8}}(\"visible\" => [0x84, 0xa8, 0x70, 0x72, 0x6f, 0x70, 0x65, 0x72, 0x74, 0x79  …  0x2c, 0x20, 0x31, 0x2e, 0x30, 0x4e, 0x30, 0x66, 0x38, 0x29]), nothing, Dict{String, MeshCat.SceneTrees.SceneNode}())))…)), \"bbox_line_segments\" => MeshCat.SceneTrees.SceneNode(nothing, nothing, Dict{String, Vector{UInt8}}(), nothing, Dict{String, MeshCat.SceneTrees.SceneNode}(\"4\" => MeshCat.SceneTrees.SceneNode(UInt8[0x83, 0xa6, 0x6f, 0x62, 0x6a, 0x65, 0x63, 0x74, 0x84, 0xaa  …  0x73, 0x65, 0x67, 0x6d, 0x65, 0x6e, 0x74, 0x73, 0x2f, 0x34], nothing, Dict{String, Vector{UInt8}}(), nothing, Dict{String, MeshCat.SceneTrees.SceneNode}()), \"1\" => MeshCat.SceneTrees.SceneNode(UInt8[0x83, 0xa6, 0x6f, 0x62, 0x6a, 0x65, 0x63, 0x74, 0x84, 0xaa  …  0x73, 0x65, 0x67, 0x6d, 0x65, 0x6e, 0x74, 0x73, 0x2f, 0x31], nothing, Dict{String, Vector{UInt8}}(), nothing, Dict{String, MeshCat.SceneTrees.SceneNode}()), \"12\" => MeshCat.SceneTrees.SceneNode(UInt8[0x83, 0xa6, 0x6f, 0x62, 0x6a, 0x65, 0x63, 0x74, 0x84, 0xaa  …  0x65, 0x67, 0x6d, 0x65, 0x6e, 0x74, 0x73, 0x2f, 0x31, 0x32], nothing, Dict{String, Vector{UInt8}}(), nothing, Dict{String, MeshCat.SceneTrees.SceneNode}()), \"2\" => MeshCat.SceneTrees.SceneNode(UInt8[0x83, 0xa6, 0x6f, 0x62, 0x6a, 0x65, 0x63, 0x74, 0x84, 0xaa  …  0x73, 0x65, 0x67, 0x6d, 0x65, 0x6e, 0x74, 0x73, 0x2f, 0x32], nothing, Dict{String, Vector{UInt8}}(), nothing, Dict{String, MeshCat.SceneTrees.SceneNode}()), \"6\" => MeshCat.SceneTrees.SceneNode(UInt8[0x83, 0xa6, 0x6f, 0x62, 0x6a, 0x65, 0x63, 0x74, 0x84, 0xaa  …  0x73, 0x65, 0x67, 0x6d, 0x65, 0x6e, 0x74, 0x73, 0x2f, 0x36], nothing, Dict{String, Vector{UInt8}}(), nothing, Dict{String, MeshCat.SceneTrees.SceneNode}()), \"11\" => MeshCat.SceneTrees.SceneNode(UInt8[0x83, 0xa6, 0x6f, 0x62, 0x6a, 0x65, 0x63, 0x74, 0x84, 0xaa  …  0x65, 0x67, 0x6d, 0x65, 0x6e, 0x74, 0x73, 0x2f, 0x31, 0x31], nothing, Dict{String, Vector{UInt8}}(), nothing, Dict{String, MeshCat.SceneTrees.SceneNode}()), \"5\" => MeshCat.SceneTrees.SceneNode(UInt8[0x83, 0xa6, 0x6f, 0x62, 0x6a, 0x65, 0x63, 0x74, 0x84, 0xaa  …  0x73, 0x65, 0x67, 0x6d, 0x65, 0x6e, 0x74, 0x73, 0x2f, 0x35], nothing, Dict{String, Vector{UInt8}}(), nothing, Dict{String, MeshCat.SceneTrees.SceneNode}()), \"7\" => MeshCat.SceneTrees.SceneNode(UInt8[0x83, 0xa6, 0x6f, 0x62, 0x6a, 0x65, 0x63, 0x74, 0x84, 0xaa  …  0x73, 0x65, 0x67, 0x6d, 0x65, 0x6e, 0x74, 0x73, 0x2f, 0x37], nothing, Dict{String, Vector{UInt8}}(), nothing, Dict{String, MeshCat.SceneTrees.SceneNode}()), \"8\" => MeshCat.SceneTrees.SceneNode(UInt8[0x83, 0xa6, 0x6f, 0x62, 0x6a, 0x65, 0x63, 0x74, 0x84, 0xaa  …  0x73, 0x65, 0x67, 0x6d, 0x65, 0x6e, 0x74, 0x73, 0x2f, 0x38], nothing, Dict{String, Vector{UInt8}}(), nothing, Dict{String, MeshCat.SceneTrees.SceneNode}()), \"10\" => MeshCat.SceneTrees.SceneNode(UInt8[0x83, 0xa6, 0x6f, 0x62, 0x6a, 0x65, 0x63, 0x74, 0x84, 0xaa  …  0x65, 0x67, 0x6d, 0x65, 0x6e, 0x74, 0x73, 0x2f, 0x31, 0x30], nothing, Dict{String, Vector{UInt8}}(), nothing, Dict{String, MeshCat.SceneTrees.SceneNode}())…)))), \"Axes\" => MeshCat.SceneTrees.SceneNode(nothing, nothing, Dict{String, Vector{UInt8}}(), nothing, Dict{String, MeshCat.SceneTrees.SceneNode}(\"<object>\" => MeshCat.SceneTrees.SceneNode(UInt8[0x83, 0xa6, 0x6f, 0x62, 0x6a, 0x65, 0x63, 0x74, 0x84, 0xaa  …  0x73, 0x2f, 0x3c, 0x6f, 0x62, 0x6a, 0x65, 0x63, 0x74, 0x3e], UInt8[0x83, 0xa6, 0x6d, 0x61, 0x74, 0x72, 0x69, 0x78, 0xc7, 0x40  …  0x73, 0x2f, 0x3c, 0x6f, 0x62, 0x6a, 0x65, 0x63, 0x74, 0x3e], Dict{String, Vector{UInt8}}(), nothing, Dict{String, MeshCat.SceneTrees.SceneNode}()))))), Set{HTTP.WebSockets.WebSocket}(), ip\"127.0.0.1\", 8721))), WebIO.Node{WebIO.DOM}(WebIO.DOM(:html, :div), Any[WebIO.Scope(WebIO.Node{WebIO.DOM}(WebIO.DOM(:html, :div), Any[], Dict{Symbol, Any}(:id => \"container\")), Dict{String, Tuple{Observables.AbstractObservable, Union{Nothing, Bool}}}(\"value\" => (Observable(\"\\\\;\\\\;\"), nothing)), Set{String}(), nothing, WebIO.Asset[WebIO.Asset(\"js\", nothing, \"/home/dushya/.julia/packages/InteractBase/LJXv3/src/../assets/katex.min.js\"), WebIO.Asset(\"css\", nothing, \"/home/dushya/.julia/packages/InteractBase/LJXv3/src/../assets/katex.min.css\")], Dict{Any, Any}(\"value\" => Any[WebIO.JSString(\"(function (txt){return this.k.render(txt,this.container)})\")]), WebIO.ConnectionPool(Channel{Any}(32), Set{WebIO.AbstractConnection}(), Base.GenericCondition{ReentrantLock}(Base.IntrusiveLinkedList{Task}(Task (runnable) @0x00007f2f0e99c970, Task (runnable) @0x00007f2f0e99c970), ReentrantLock(nothing, 0x00000000, 0x00, Base.GenericCondition{Base.Threads.SpinLock}(Base.IntrusiveLinkedList{Task}(nothing, nothing), Base.Threads.SpinLock(0)), (8, 139841165587008, 139840064831600)))), WebIO.JSString[WebIO.JSString(\"function () {\\n    var handler = ((function (k){this.k=k; this.container=this.dom.querySelector(\\\"#container\\\"); return k.render(\\\"\\\\\\\\;\\\\\\\\;\\\",this.container)}));\\n    (WebIO.importBlock({\\\"data\\\":[{\\\"name\\\":null,\\\"type\\\":\\\"js\\\",\\\"url\\\":\\\"/assetserver/dd22ed1bf1896c2748f3fe616ce0b838adc895c1-katex.min.js\\\"},{\\\"name\\\":null,\\\"type\\\":\\\"css\\\",\\\"url\\\":\\\"/assetserver/46517a424aa5e6cffc1360d7e0848b601c584ee3-katex.min.css\\\"}],\\\"type\\\":\\\"async_block\\\"})).then((imports) => handler.apply(this, imports));\\n}\\n\")])], Dict{Symbol, Any}(:className => \"interact-widget\")), WebIO.Node{WebIO.DOM}(WebIO.DOM(:html, :div), Any[Observable(Plot{Plots.GRBackend() n=2})], Dict{Symbol, Any}(:style => Dict(\"display\" => \"flex\", \"flex-direction\" => \"column\")))], Dict{Symbol, Any}(:style => Dict(\"display\" => \"flex\", \"flex-direction\" => \"row\")))], Dict{Symbol, Any}(:style => Dict(\"display\" => \"flex\", \"flex-direction\" => \"column\")))"
      ]
     },
     "execution_count": 9,
     "metadata": {
      "application/vnd.webio.node+json": {
       "kernelId": "c8985f39-da16-41e6-9a33-d70f5985d3f9"
      }
     },
     "output_type": "execute_result"
    }
   ],
   "source": [
    "create_interactive_app(model, initialiser= initialiser!,\n",
    "    step_rule=step_rule!,\n",
    "    model_controls=[(:min_alike, \"slider\", 1:12)], \n",
    "    agent_plots=Dict(\n",
    "        \"happy\"=> agent-> agent.mood == happy, \n",
    "        \"sad\"=> agent-> agent.mood == sad),\n",
    "    frames=200)   "
   ]
  },
  {
   "cell_type": "markdown",
   "metadata": {},
   "source": [
    "## Step 5: Fetch Data \n",
    "\n",
    "In this step we fetch data of number of happy and sad agents at each time step as a dataframe with following function. "
   ]
  },
  {
   "cell_type": "code",
   "execution_count": 10,
   "metadata": {
    "scrolled": true
   },
   "outputs": [
    {
     "data": {
      "image/png": "[encoded data removed]",
      "image/svg+xml": [
       "<?xml version=\"1.0\" encoding=\"utf-8\"?>\n",
       "<svg xmlns=\"http://www.w3.org/2000/svg\" xmlns:xlink=\"http://www.w3.org/1999/xlink\" width=\"600\" height=\"400\" viewBox=\"0 0 2400 1600\">\n",
       "<defs>\n",
       "  <clipPath id=\"clip470\">\n",
       "    <rect x=\"0\" y=\"0\" width=\"2400\" height=\"1600\"/>\n",
       "  </clipPath>\n",
       "</defs>\n",
       "<path clip-path=\"url(#clip470)\" d=\"M0 1600 L2400 1600 L2400 0 L0 0  Z\" fill=\"#ffffff\" fill-rule=\"evenodd\" fill-opacity=\"1\"/>\n",
       "<defs>\n",
       "  <clipPath id=\"clip471\">\n",
       "    <rect x=\"480\" y=\"0\" width=\"1681\" height=\"1600\"/>\n",
       "  </clipPath>\n",
       "</defs>\n",
       "<path clip-path=\"url(#clip470)\" d=\"M234.125 1423.18 L2352.76 1423.18 L2352.76 47.2441 L234.125 47.2441  Z\" fill=\"#ffffff\" fill-rule=\"evenodd\" fill-opacity=\"1\"/>\n",
       "<defs>\n",
       "  <clipPath id=\"clip472\">\n",
       "    <rect x=\"234\" y=\"47\" width=\"2120\" height=\"1377\"/>\n",
       "  </clipPath>\n",
       "</defs>\n",
       "<polyline clip-path=\"url(#clip472)\" style=\"stroke:#000000; stroke-linecap:round; stroke-linejoin:round; stroke-width:2; stroke-opacity:0.1; fill:none\" points=\"284.093,1423.18 284.093,47.2441 \"/>\n",
       "<polyline clip-path=\"url(#clip472)\" style=\"stroke:#000000; stroke-linecap:round; stroke-linejoin:round; stroke-width:2; stroke-opacity:0.1; fill:none\" points=\"783.77,1423.18 783.77,47.2441 \"/>\n",
       "<polyline clip-path=\"url(#clip472)\" style=\"stroke:#000000; stroke-linecap:round; stroke-linejoin:round; stroke-width:2; stroke-opacity:0.1; fill:none\" points=\"1283.45,1423.18 1283.45,47.2441 \"/>\n",
       "<polyline clip-path=\"url(#clip472)\" style=\"stroke:#000000; stroke-linecap:round; stroke-linejoin:round; stroke-width:2; stroke-opacity:0.1; fill:none\" points=\"1783.12,1423.18 1783.12,47.2441 \"/>\n",
       "<polyline clip-path=\"url(#clip472)\" style=\"stroke:#000000; stroke-linecap:round; stroke-linejoin:round; stroke-width:2; stroke-opacity:0.1; fill:none\" points=\"2282.8,1423.18 2282.8,47.2441 \"/>\n",
       "<polyline clip-path=\"url(#clip470)\" style=\"stroke:#000000; stroke-linecap:round; stroke-linejoin:round; stroke-width:4; stroke-opacity:1; fill:none\" points=\"234.125,1423.18 2352.76,1423.18 \"/>\n",
       "<polyline clip-path=\"url(#clip470)\" style=\"stroke:#000000; stroke-linecap:round; stroke-linejoin:round; stroke-width:4; stroke-opacity:1; fill:none\" points=\"284.093,1423.18 284.093,1404.28 \"/>\n",
       "<polyline clip-path=\"url(#clip470)\" style=\"stroke:#000000; stroke-linecap:round; stroke-linejoin:round; stroke-width:4; stroke-opacity:1; fill:none\" points=\"783.77,1423.18 783.77,1404.28 \"/>\n",
       "<polyline clip-path=\"url(#clip470)\" style=\"stroke:#000000; stroke-linecap:round; stroke-linejoin:round; stroke-width:4; stroke-opacity:1; fill:none\" points=\"1283.45,1423.18 1283.45,1404.28 \"/>\n",
       "<polyline clip-path=\"url(#clip470)\" style=\"stroke:#000000; stroke-linecap:round; stroke-linejoin:round; stroke-width:4; stroke-opacity:1; fill:none\" points=\"1783.12,1423.18 1783.12,1404.28 \"/>\n",
       "<polyline clip-path=\"url(#clip470)\" style=\"stroke:#000000; stroke-linecap:round; stroke-linejoin:round; stroke-width:4; stroke-opacity:1; fill:none\" points=\"2282.8,1423.18 2282.8,1404.28 \"/>\n",
       "<path clip-path=\"url(#clip470)\" d=\"M284.093 1454.1 Q280.482 1454.1 278.653 1457.66 Q276.848 1461.2 276.848 1468.33 Q276.848 1475.44 278.653 1479.01 Q280.482 1482.55 284.093 1482.55 Q287.727 1482.55 289.533 1479.01 Q291.362 1475.44 291.362 1468.33 Q291.362 1461.2 289.533 1457.66 Q287.727 1454.1 284.093 1454.1 M284.093 1450.39 Q289.903 1450.39 292.959 1455 Q296.038 1459.58 296.038 1468.33 Q296.038 1477.06 292.959 1481.67 Q289.903 1486.25 284.093 1486.25 Q278.283 1486.25 275.204 1481.67 Q272.149 1477.06 272.149 1468.33 Q272.149 1459.58 275.204 1455 Q278.283 1450.39 284.093 1450.39 Z\" fill=\"#000000\" fill-rule=\"nonzero\" fill-opacity=\"1\" /><path clip-path=\"url(#clip470)\" d=\"M758.469 1451.02 L776.826 1451.02 L776.826 1454.96 L762.752 1454.96 L762.752 1463.43 Q763.77 1463.08 764.789 1462.92 Q765.807 1462.73 766.826 1462.73 Q772.613 1462.73 775.992 1465.9 Q779.372 1469.08 779.372 1474.49 Q779.372 1480.07 775.9 1483.17 Q772.428 1486.25 766.108 1486.25 Q763.932 1486.25 761.664 1485.88 Q759.418 1485.51 757.011 1484.77 L757.011 1480.07 Q759.094 1481.2 761.317 1481.76 Q763.539 1482.32 766.016 1482.32 Q770.02 1482.32 772.358 1480.21 Q774.696 1478.1 774.696 1474.49 Q774.696 1470.88 772.358 1468.77 Q770.02 1466.67 766.016 1466.67 Q764.141 1466.67 762.266 1467.08 Q760.414 1467.5 758.469 1468.38 L758.469 1451.02 Z\" fill=\"#000000\" fill-rule=\"nonzero\" fill-opacity=\"1\" /><path clip-path=\"url(#clip470)\" d=\"M798.585 1454.1 Q794.974 1454.1 793.145 1457.66 Q791.34 1461.2 791.34 1468.33 Q791.34 1475.44 793.145 1479.01 Q794.974 1482.55 798.585 1482.55 Q802.219 1482.55 804.025 1479.01 Q805.853 1475.44 805.853 1468.33 Q805.853 1461.2 804.025 1457.66 Q802.219 1454.1 798.585 1454.1 M798.585 1450.39 Q804.395 1450.39 807.451 1455 Q810.529 1459.58 810.529 1468.33 Q810.529 1477.06 807.451 1481.67 Q804.395 1486.25 798.585 1486.25 Q792.775 1486.25 789.696 1481.67 Q786.64 1477.06 786.64 1468.33 Q786.64 1459.58 789.696 1455 Q792.775 1450.39 798.585 1450.39 Z\" fill=\"#000000\" fill-rule=\"nonzero\" fill-opacity=\"1\" /><path clip-path=\"url(#clip470)\" d=\"M1243.05 1481.64 L1250.69 1481.64 L1250.69 1455.28 L1242.38 1456.95 L1242.38 1452.69 L1250.65 1451.02 L1255.32 1451.02 L1255.32 1481.64 L1262.96 1481.64 L1262.96 1485.58 L1243.05 1485.58 L1243.05 1481.64 Z\" fill=\"#000000\" fill-rule=\"nonzero\" fill-opacity=\"1\" /><path clip-path=\"url(#clip470)\" d=\"M1282.41 1454.1 Q1278.79 1454.1 1276.97 1457.66 Q1275.16 1461.2 1275.16 1468.33 Q1275.16 1475.44 1276.97 1479.01 Q1278.79 1482.55 1282.41 1482.55 Q1286.04 1482.55 1287.85 1479.01 Q1289.67 1475.44 1289.67 1468.33 Q1289.67 1461.2 1287.85 1457.66 Q1286.04 1454.1 1282.41 1454.1 M1282.41 1450.39 Q1288.22 1450.39 1291.27 1455 Q1294.35 1459.58 1294.35 1468.33 Q1294.35 1477.06 1291.27 1481.67 Q1288.22 1486.25 1282.41 1486.25 Q1276.6 1486.25 1273.52 1481.67 Q1270.46 1477.06 1270.46 1468.33 Q1270.46 1459.58 1273.52 1455 Q1276.6 1450.39 1282.41 1450.39 Z\" fill=\"#000000\" fill-rule=\"nonzero\" fill-opacity=\"1\" /><path clip-path=\"url(#clip470)\" d=\"M1312.57 1454.1 Q1308.96 1454.1 1307.13 1457.66 Q1305.32 1461.2 1305.32 1468.33 Q1305.32 1475.44 1307.13 1479.01 Q1308.96 1482.55 1312.57 1482.55 Q1316.2 1482.55 1318.01 1479.01 Q1319.84 1475.44 1319.84 1468.33 Q1319.84 1461.2 1318.01 1457.66 Q1316.2 1454.1 1312.57 1454.1 M1312.57 1450.39 Q1318.38 1450.39 1321.43 1455 Q1324.51 1459.58 1324.51 1468.33 Q1324.51 1477.06 1321.43 1481.67 Q1318.38 1486.25 1312.57 1486.25 Q1306.76 1486.25 1303.68 1481.67 Q1300.62 1477.06 1300.62 1468.33 Q1300.62 1459.58 1303.68 1455 Q1306.76 1450.39 1312.57 1450.39 Z\" fill=\"#000000\" fill-rule=\"nonzero\" fill-opacity=\"1\" /><path clip-path=\"url(#clip470)\" d=\"M1742.73 1481.64 L1750.37 1481.64 L1750.37 1455.28 L1742.06 1456.95 L1742.06 1452.69 L1750.32 1451.02 L1755 1451.02 L1755 1481.64 L1762.64 1481.64 L1762.64 1485.58 L1742.73 1485.58 L1742.73 1481.64 Z\" fill=\"#000000\" fill-rule=\"nonzero\" fill-opacity=\"1\" /><path clip-path=\"url(#clip470)\" d=\"M1772.13 1451.02 L1790.49 1451.02 L1790.49 1454.96 L1776.41 1454.96 L1776.41 1463.43 Q1777.43 1463.08 1778.45 1462.92 Q1779.47 1462.73 1780.49 1462.73 Q1786.27 1462.73 1789.65 1465.9 Q1793.03 1469.08 1793.03 1474.49 Q1793.03 1480.07 1789.56 1483.17 Q1786.09 1486.25 1779.77 1486.25 Q1777.59 1486.25 1775.32 1485.88 Q1773.08 1485.51 1770.67 1484.77 L1770.67 1480.07 Q1772.75 1481.2 1774.98 1481.76 Q1777.2 1482.32 1779.68 1482.32 Q1783.68 1482.32 1786.02 1480.21 Q1788.36 1478.1 1788.36 1474.49 Q1788.36 1470.88 1786.02 1468.77 Q1783.68 1466.67 1779.68 1466.67 Q1777.8 1466.67 1775.93 1467.08 Q1774.07 1467.5 1772.13 1468.38 L1772.13 1451.02 Z\" fill=\"#000000\" fill-rule=\"nonzero\" fill-opacity=\"1\" /><path clip-path=\"url(#clip470)\" d=\"M1812.24 1454.1 Q1808.63 1454.1 1806.8 1457.66 Q1805 1461.2 1805 1468.33 Q1805 1475.44 1806.8 1479.01 Q1808.63 1482.55 1812.24 1482.55 Q1815.88 1482.55 1817.68 1479.01 Q1819.51 1475.44 1819.51 1468.33 Q1819.51 1461.2 1817.68 1457.66 Q1815.88 1454.1 1812.24 1454.1 M1812.24 1450.39 Q1818.05 1450.39 1821.11 1455 Q1824.19 1459.58 1824.19 1468.33 Q1824.19 1477.06 1821.11 1481.67 Q1818.05 1486.25 1812.24 1486.25 Q1806.43 1486.25 1803.36 1481.67 Q1800.3 1477.06 1800.3 1468.33 Q1800.3 1459.58 1803.36 1455 Q1806.43 1450.39 1812.24 1450.39 Z\" fill=\"#000000\" fill-rule=\"nonzero\" fill-opacity=\"1\" /><path clip-path=\"url(#clip470)\" d=\"M2246.49 1481.64 L2262.81 1481.64 L2262.81 1485.58 L2240.87 1485.58 L2240.87 1481.64 Q2243.53 1478.89 2248.11 1474.26 Q2252.72 1469.61 2253.9 1468.27 Q2256.15 1465.74 2257.03 1464.01 Q2257.93 1462.25 2257.93 1460.56 Q2257.93 1457.8 2255.98 1456.07 Q2254.06 1454.33 2250.96 1454.33 Q2248.76 1454.33 2246.31 1455.09 Q2243.88 1455.86 2241.1 1457.41 L2241.1 1452.69 Q2243.92 1451.55 2246.38 1450.97 Q2248.83 1450.39 2250.87 1450.39 Q2256.24 1450.39 2259.43 1453.08 Q2262.63 1455.77 2262.63 1460.26 Q2262.63 1462.39 2261.82 1464.31 Q2261.03 1466.2 2258.92 1468.8 Q2258.35 1469.47 2255.24 1472.69 Q2252.14 1475.88 2246.49 1481.64 Z\" fill=\"#000000\" fill-rule=\"nonzero\" fill-opacity=\"1\" /><path clip-path=\"url(#clip470)\" d=\"M2282.63 1454.1 Q2279.02 1454.1 2277.19 1457.66 Q2275.38 1461.2 2275.38 1468.33 Q2275.38 1475.44 2277.19 1479.01 Q2279.02 1482.55 2282.63 1482.55 Q2286.26 1482.55 2288.07 1479.01 Q2289.9 1475.44 2289.9 1468.33 Q2289.9 1461.2 2288.07 1457.66 Q2286.26 1454.1 2282.63 1454.1 M2282.63 1450.39 Q2288.44 1450.39 2291.49 1455 Q2294.57 1459.58 2294.57 1468.33 Q2294.57 1477.06 2291.49 1481.67 Q2288.44 1486.25 2282.63 1486.25 Q2276.82 1486.25 2273.74 1481.67 Q2270.68 1477.06 2270.68 1468.33 Q2270.68 1459.58 2273.74 1455 Q2276.82 1450.39 2282.63 1450.39 Z\" fill=\"#000000\" fill-rule=\"nonzero\" fill-opacity=\"1\" /><path clip-path=\"url(#clip470)\" d=\"M2312.79 1454.1 Q2309.18 1454.1 2307.35 1457.66 Q2305.54 1461.2 2305.54 1468.33 Q2305.54 1475.44 2307.35 1479.01 Q2309.18 1482.55 2312.79 1482.55 Q2316.42 1482.55 2318.23 1479.01 Q2320.06 1475.44 2320.06 1468.33 Q2320.06 1461.2 2318.23 1457.66 Q2316.42 1454.1 2312.79 1454.1 M2312.79 1450.39 Q2318.6 1450.39 2321.66 1455 Q2324.73 1459.58 2324.73 1468.33 Q2324.73 1477.06 2321.66 1481.67 Q2318.6 1486.25 2312.79 1486.25 Q2306.98 1486.25 2303.9 1481.67 Q2300.85 1477.06 2300.85 1468.33 Q2300.85 1459.58 2303.9 1455 Q2306.98 1450.39 2312.79 1450.39 Z\" fill=\"#000000\" fill-rule=\"nonzero\" fill-opacity=\"1\" /><path clip-path=\"url(#clip470)\" d=\"M1230.48 1522.27 L1230.48 1532.4 L1242.55 1532.4 L1242.55 1536.95 L1230.48 1536.95 L1230.48 1556.3 Q1230.48 1560.66 1231.66 1561.9 Q1232.87 1563.14 1236.53 1563.14 L1242.55 1563.14 L1242.55 1568.04 L1236.53 1568.04 Q1229.75 1568.04 1227.17 1565.53 Q1224.6 1562.98 1224.6 1556.3 L1224.6 1536.95 L1220.3 1536.95 L1220.3 1532.4 L1224.6 1532.4 L1224.6 1522.27 L1230.48 1522.27 Z\" fill=\"#000000\" fill-rule=\"nonzero\" fill-opacity=\"1\" /><path clip-path=\"url(#clip470)\" d=\"M1250.25 1532.4 L1256.11 1532.4 L1256.11 1568.04 L1250.25 1568.04 L1250.25 1532.4 M1250.25 1518.52 L1256.11 1518.52 L1256.11 1525.93 L1250.25 1525.93 L1250.25 1518.52 Z\" fill=\"#000000\" fill-rule=\"nonzero\" fill-opacity=\"1\" /><path clip-path=\"url(#clip470)\" d=\"M1294.01 1533.76 L1294.01 1539.24 Q1291.53 1537.87 1289.02 1537.2 Q1286.53 1536.5 1283.99 1536.5 Q1278.29 1536.5 1275.14 1540.13 Q1271.99 1543.73 1271.99 1550.25 Q1271.99 1556.78 1275.14 1560.4 Q1278.29 1564 1283.99 1564 Q1286.53 1564 1289.02 1563.33 Q1291.53 1562.63 1294.01 1561.26 L1294.01 1566.68 Q1291.56 1567.82 1288.92 1568.39 Q1286.31 1568.97 1283.35 1568.97 Q1275.3 1568.97 1270.56 1563.91 Q1265.81 1558.85 1265.81 1550.25 Q1265.81 1541.53 1270.59 1536.53 Q1275.39 1531.54 1283.73 1531.54 Q1286.44 1531.54 1289.02 1532.11 Q1291.59 1532.65 1294.01 1533.76 Z\" fill=\"#000000\" fill-rule=\"nonzero\" fill-opacity=\"1\" /><path clip-path=\"url(#clip470)\" d=\"M1303.98 1518.52 L1309.86 1518.52 L1309.86 1547.77 L1327.34 1532.4 L1334.82 1532.4 L1315.91 1549.07 L1335.61 1568.04 L1327.97 1568.04 L1309.86 1550.63 L1309.86 1568.04 L1303.98 1568.04 L1303.98 1518.52 Z\" fill=\"#000000\" fill-rule=\"nonzero\" fill-opacity=\"1\" /><path clip-path=\"url(#clip470)\" d=\"M1364.67 1533.45 L1364.67 1538.98 Q1362.19 1537.71 1359.52 1537.07 Q1356.84 1536.44 1353.98 1536.44 Q1349.62 1536.44 1347.42 1537.77 Q1345.26 1539.11 1345.26 1541.79 Q1345.26 1543.82 1346.82 1545 Q1348.38 1546.15 1353.09 1547.2 L1355.09 1547.64 Q1361.33 1548.98 1363.94 1551.43 Q1366.58 1553.85 1366.58 1558.21 Q1366.58 1563.17 1362.64 1566.07 Q1358.72 1568.97 1351.85 1568.97 Q1348.98 1568.97 1345.86 1568.39 Q1342.77 1567.85 1339.34 1566.74 L1339.34 1560.69 Q1342.58 1562.38 1345.73 1563.24 Q1348.89 1564.07 1351.97 1564.07 Q1356.11 1564.07 1358.34 1562.66 Q1360.57 1561.23 1360.57 1558.65 Q1360.57 1556.27 1358.94 1554.99 Q1357.35 1553.72 1351.91 1552.54 L1349.87 1552.07 Q1344.43 1550.92 1342.01 1548.56 Q1339.59 1546.18 1339.59 1542.04 Q1339.59 1537.01 1343.16 1534.27 Q1346.72 1531.54 1353.28 1531.54 Q1356.52 1531.54 1359.39 1532.01 Q1362.25 1532.49 1364.67 1533.45 Z\" fill=\"#000000\" fill-rule=\"nonzero\" fill-opacity=\"1\" /><polyline clip-path=\"url(#clip472)\" style=\"stroke:#000000; stroke-linecap:round; stroke-linejoin:round; stroke-width:2; stroke-opacity:0.1; fill:none\" points=\"234.125,1384.24 2352.76,1384.24 \"/>\n",
       "<polyline clip-path=\"url(#clip472)\" style=\"stroke:#000000; stroke-linecap:round; stroke-linejoin:round; stroke-width:2; stroke-opacity:0.1; fill:none\" points=\"234.125,1059.73 2352.76,1059.73 \"/>\n",
       "<polyline clip-path=\"url(#clip472)\" style=\"stroke:#000000; stroke-linecap:round; stroke-linejoin:round; stroke-width:2; stroke-opacity:0.1; fill:none\" points=\"234.125,735.212 2352.76,735.212 \"/>\n",
       "<polyline clip-path=\"url(#clip472)\" style=\"stroke:#000000; stroke-linecap:round; stroke-linejoin:round; stroke-width:2; stroke-opacity:0.1; fill:none\" points=\"234.125,410.699 2352.76,410.699 \"/>\n",
       "<polyline clip-path=\"url(#clip472)\" style=\"stroke:#000000; stroke-linecap:round; stroke-linejoin:round; stroke-width:2; stroke-opacity:0.1; fill:none\" points=\"234.125,86.1857 2352.76,86.1857 \"/>\n",
       "<polyline clip-path=\"url(#clip470)\" style=\"stroke:#000000; stroke-linecap:round; stroke-linejoin:round; stroke-width:4; stroke-opacity:1; fill:none\" points=\"234.125,1423.18 234.125,47.2441 \"/>\n",
       "<polyline clip-path=\"url(#clip470)\" style=\"stroke:#000000; stroke-linecap:round; stroke-linejoin:round; stroke-width:4; stroke-opacity:1; fill:none\" points=\"234.125,1384.24 253.023,1384.24 \"/>\n",
       "<polyline clip-path=\"url(#clip470)\" style=\"stroke:#000000; stroke-linecap:round; stroke-linejoin:round; stroke-width:4; stroke-opacity:1; fill:none\" points=\"234.125,1059.73 253.023,1059.73 \"/>\n",
       "<polyline clip-path=\"url(#clip470)\" style=\"stroke:#000000; stroke-linecap:round; stroke-linejoin:round; stroke-width:4; stroke-opacity:1; fill:none\" points=\"234.125,735.212 253.023,735.212 \"/>\n",
       "<polyline clip-path=\"url(#clip470)\" style=\"stroke:#000000; stroke-linecap:round; stroke-linejoin:round; stroke-width:4; stroke-opacity:1; fill:none\" points=\"234.125,410.699 253.023,410.699 \"/>\n",
       "<polyline clip-path=\"url(#clip470)\" style=\"stroke:#000000; stroke-linecap:round; stroke-linejoin:round; stroke-width:4; stroke-opacity:1; fill:none\" points=\"234.125,86.1857 253.023,86.1857 \"/>\n",
       "<path clip-path=\"url(#clip470)\" d=\"M186.181 1370.04 Q182.57 1370.04 180.741 1373.6 Q178.936 1377.14 178.936 1384.27 Q178.936 1391.38 180.741 1394.94 Q182.57 1398.49 186.181 1398.49 Q189.815 1398.49 191.621 1394.94 Q193.45 1391.38 193.45 1384.27 Q193.45 1377.14 191.621 1373.6 Q189.815 1370.04 186.181 1370.04 M186.181 1366.33 Q191.991 1366.33 195.047 1370.94 Q198.125 1375.52 198.125 1384.27 Q198.125 1393 195.047 1397.61 Q191.991 1402.19 186.181 1402.19 Q180.371 1402.19 177.292 1397.61 Q174.237 1393 174.237 1384.27 Q174.237 1375.52 177.292 1370.94 Q180.371 1366.33 186.181 1366.33 Z\" fill=\"#000000\" fill-rule=\"nonzero\" fill-opacity=\"1\" /><path clip-path=\"url(#clip470)\" d=\"M146.066 1042.45 L164.422 1042.45 L164.422 1046.38 L150.348 1046.38 L150.348 1054.85 Q151.366 1054.51 152.385 1054.34 Q153.403 1054.16 154.422 1054.16 Q160.209 1054.16 163.589 1057.33 Q166.968 1060.5 166.968 1065.92 Q166.968 1071.5 163.496 1074.6 Q160.024 1077.68 153.704 1077.68 Q151.528 1077.68 149.26 1077.31 Q147.015 1076.94 144.607 1076.19 L144.607 1071.5 Q146.691 1072.63 148.913 1073.19 Q151.135 1073.74 153.612 1073.74 Q157.616 1073.74 159.954 1071.63 Q162.292 1069.53 162.292 1065.92 Q162.292 1062.31 159.954 1060.2 Q157.616 1058.09 153.612 1058.09 Q151.737 1058.09 149.862 1058.51 Q148.01 1058.93 146.066 1059.81 L146.066 1042.45 Z\" fill=\"#000000\" fill-rule=\"nonzero\" fill-opacity=\"1\" /><path clip-path=\"url(#clip470)\" d=\"M186.181 1045.52 Q182.57 1045.52 180.741 1049.09 Q178.936 1052.63 178.936 1059.76 Q178.936 1066.87 180.741 1070.43 Q182.57 1073.97 186.181 1073.97 Q189.815 1073.97 191.621 1070.43 Q193.45 1066.87 193.45 1059.76 Q193.45 1052.63 191.621 1049.09 Q189.815 1045.52 186.181 1045.52 M186.181 1041.82 Q191.991 1041.82 195.047 1046.43 Q198.125 1051.01 198.125 1059.76 Q198.125 1068.49 195.047 1073.09 Q191.991 1077.68 186.181 1077.68 Q180.371 1077.68 177.292 1073.09 Q174.237 1068.49 174.237 1059.76 Q174.237 1051.01 177.292 1046.43 Q180.371 1041.82 186.181 1041.82 Z\" fill=\"#000000\" fill-rule=\"nonzero\" fill-opacity=\"1\" /><path clip-path=\"url(#clip470)\" d=\"M116.668 748.557 L124.306 748.557 L124.306 722.191 L115.996 723.858 L115.996 719.599 L124.26 717.932 L128.936 717.932 L128.936 748.557 L136.575 748.557 L136.575 752.492 L116.668 752.492 L116.668 748.557 Z\" fill=\"#000000\" fill-rule=\"nonzero\" fill-opacity=\"1\" /><path clip-path=\"url(#clip470)\" d=\"M156.019 721.011 Q152.408 721.011 150.579 724.575 Q148.774 728.117 148.774 735.247 Q148.774 742.353 150.579 745.918 Q152.408 749.46 156.019 749.46 Q159.653 749.46 161.459 745.918 Q163.288 742.353 163.288 735.247 Q163.288 728.117 161.459 724.575 Q159.653 721.011 156.019 721.011 M156.019 717.307 Q161.829 717.307 164.885 721.913 Q167.964 726.497 167.964 735.247 Q167.964 743.973 164.885 748.58 Q161.829 753.163 156.019 753.163 Q150.209 753.163 147.13 748.58 Q144.075 743.973 144.075 735.247 Q144.075 726.497 147.13 721.913 Q150.209 717.307 156.019 717.307 Z\" fill=\"#000000\" fill-rule=\"nonzero\" fill-opacity=\"1\" /><path clip-path=\"url(#clip470)\" d=\"M186.181 721.011 Q182.57 721.011 180.741 724.575 Q178.936 728.117 178.936 735.247 Q178.936 742.353 180.741 745.918 Q182.57 749.46 186.181 749.46 Q189.815 749.46 191.621 745.918 Q193.45 742.353 193.45 735.247 Q193.45 728.117 191.621 724.575 Q189.815 721.011 186.181 721.011 M186.181 717.307 Q191.991 717.307 195.047 721.913 Q198.125 726.497 198.125 735.247 Q198.125 743.973 195.047 748.58 Q191.991 753.163 186.181 753.163 Q180.371 753.163 177.292 748.58 Q174.237 743.973 174.237 735.247 Q174.237 726.497 177.292 721.913 Q180.371 717.307 186.181 717.307 Z\" fill=\"#000000\" fill-rule=\"nonzero\" fill-opacity=\"1\" /><path clip-path=\"url(#clip470)\" d=\"M116.668 424.044 L124.306 424.044 L124.306 397.678 L115.996 399.345 L115.996 395.085 L124.26 393.419 L128.936 393.419 L128.936 424.044 L136.575 424.044 L136.575 427.979 L116.668 427.979 L116.668 424.044 Z\" fill=\"#000000\" fill-rule=\"nonzero\" fill-opacity=\"1\" /><path clip-path=\"url(#clip470)\" d=\"M146.066 393.419 L164.422 393.419 L164.422 397.354 L150.348 397.354 L150.348 405.826 Q151.366 405.479 152.385 405.317 Q153.403 405.132 154.422 405.132 Q160.209 405.132 163.589 408.303 Q166.968 411.474 166.968 416.891 Q166.968 422.47 163.496 425.571 Q160.024 428.65 153.704 428.65 Q151.528 428.65 149.26 428.28 Q147.015 427.909 144.607 427.169 L144.607 422.47 Q146.691 423.604 148.913 424.159 Q151.135 424.715 153.612 424.715 Q157.616 424.715 159.954 422.608 Q162.292 420.502 162.292 416.891 Q162.292 413.28 159.954 411.173 Q157.616 409.067 153.612 409.067 Q151.737 409.067 149.862 409.484 Q148.01 409.9 146.066 410.78 L146.066 393.419 Z\" fill=\"#000000\" fill-rule=\"nonzero\" fill-opacity=\"1\" /><path clip-path=\"url(#clip470)\" d=\"M186.181 396.498 Q182.57 396.498 180.741 400.062 Q178.936 403.604 178.936 410.734 Q178.936 417.84 180.741 421.405 Q182.57 424.946 186.181 424.946 Q189.815 424.946 191.621 421.405 Q193.45 417.84 193.45 410.734 Q193.45 403.604 191.621 400.062 Q189.815 396.498 186.181 396.498 M186.181 392.794 Q191.991 392.794 195.047 397.4 Q198.125 401.984 198.125 410.734 Q198.125 419.46 195.047 424.067 Q191.991 428.65 186.181 428.65 Q180.371 428.65 177.292 424.067 Q174.237 419.46 174.237 410.734 Q174.237 401.984 177.292 397.4 Q180.371 392.794 186.181 392.794 Z\" fill=\"#000000\" fill-rule=\"nonzero\" fill-opacity=\"1\" /><path clip-path=\"url(#clip470)\" d=\"M119.885 99.5305 L136.204 99.5305 L136.204 103.466 L114.26 103.466 L114.26 99.5305 Q116.922 96.7759 121.505 92.1463 Q126.112 87.4935 127.292 86.151 Q129.538 83.6278 130.417 81.8917 Q131.32 80.1325 131.32 78.4427 Q131.32 75.688 129.376 73.9519 Q127.455 72.2158 124.353 72.2158 Q122.154 72.2158 119.7 72.9797 Q117.269 73.7436 114.492 75.2945 L114.492 70.5723 Q117.316 69.4381 119.769 68.8594 Q122.223 68.2807 124.26 68.2807 Q129.63 68.2807 132.825 70.9658 Q136.019 73.651 136.019 78.1417 Q136.019 80.2714 135.209 82.1926 Q134.422 84.0908 132.316 86.6834 Q131.737 87.3546 128.635 90.5722 Q125.533 93.7667 119.885 99.5305 Z\" fill=\"#000000\" fill-rule=\"nonzero\" fill-opacity=\"1\" /><path clip-path=\"url(#clip470)\" d=\"M156.019 71.9844 Q152.408 71.9844 150.579 75.5492 Q148.774 79.0908 148.774 86.2204 Q148.774 93.3268 150.579 96.8916 Q152.408 100.433 156.019 100.433 Q159.653 100.433 161.459 96.8916 Q163.288 93.3268 163.288 86.2204 Q163.288 79.0908 161.459 75.5492 Q159.653 71.9844 156.019 71.9844 M156.019 68.2807 Q161.829 68.2807 164.885 72.8871 Q167.964 77.4704 167.964 86.2204 Q167.964 94.9472 164.885 99.5537 Q161.829 104.137 156.019 104.137 Q150.209 104.137 147.13 99.5537 Q144.075 94.9472 144.075 86.2204 Q144.075 77.4704 147.13 72.8871 Q150.209 68.2807 156.019 68.2807 Z\" fill=\"#000000\" fill-rule=\"nonzero\" fill-opacity=\"1\" /><path clip-path=\"url(#clip470)\" d=\"M186.181 71.9844 Q182.57 71.9844 180.741 75.5492 Q178.936 79.0908 178.936 86.2204 Q178.936 93.3268 180.741 96.8916 Q182.57 100.433 186.181 100.433 Q189.815 100.433 191.621 96.8916 Q193.45 93.3268 193.45 86.2204 Q193.45 79.0908 191.621 75.5492 Q189.815 71.9844 186.181 71.9844 M186.181 68.2807 Q191.991 68.2807 195.047 72.8871 Q198.125 77.4704 198.125 86.2204 Q198.125 94.9472 195.047 99.5537 Q191.991 104.137 186.181 104.137 Q180.371 104.137 177.292 99.5537 Q174.237 94.9472 174.237 86.2204 Q174.237 77.4704 177.292 72.8871 Q180.371 68.2807 186.181 68.2807 Z\" fill=\"#000000\" fill-rule=\"nonzero\" fill-opacity=\"1\" /><path clip-path=\"url(#clip470)\" d=\"M42.4881 991.273 L64.0042 991.273 L64.0042 997.129 L42.679 997.129 Q37.6183 997.129 35.1038 999.102 Q32.5894 1001.08 32.5894 1005.02 Q32.5894 1009.76 35.6131 1012.5 Q38.6368 1015.24 43.8567 1015.24 L64.0042 1015.24 L64.0042 1021.13 L28.3562 1021.13 L28.3562 1015.24 L33.8944 1015.24 Q30.6797 1013.14 29.0883 1010.31 Q27.4968 1007.44 27.4968 1003.72 Q27.4968 997.575 31.3163 994.424 Q35.1038 991.273 42.4881 991.273 Z\" fill=\"#000000\" fill-rule=\"nonzero\" fill-opacity=\"1\" /><path clip-path=\"url(#clip470)\" d=\"M49.9359 980.196 L28.3562 980.196 L28.3562 974.34 L49.7131 974.34 Q54.7739 974.34 57.3202 972.366 Q59.8346 970.393 59.8346 966.446 Q59.8346 961.704 56.8109 958.967 Q53.7872 956.197 48.5673 956.197 L28.3562 956.197 L28.3562 950.341 L64.0042 950.341 L64.0042 956.197 L58.5296 956.197 Q61.7762 958.33 63.3676 961.163 Q64.9272 963.964 64.9272 967.688 Q64.9272 973.83 61.1078 977.013 Q57.2883 980.196 49.9359 980.196 M27.4968 965.46 L27.4968 965.46 Z\" fill=\"#000000\" fill-rule=\"nonzero\" fill-opacity=\"1\" /><path clip-path=\"url(#clip470)\" d=\"M35.1993 910.524 Q31.2526 908.327 29.3747 905.272 Q27.4968 902.216 27.4968 898.079 Q27.4968 892.509 31.4117 889.485 Q35.2948 886.461 42.4881 886.461 L64.0042 886.461 L64.0042 892.349 L42.679 892.349 Q37.5546 892.349 35.072 894.164 Q32.5894 895.978 32.5894 899.702 Q32.5894 904.253 35.6131 906.895 Q38.6368 909.537 43.8567 909.537 L64.0042 909.537 L64.0042 915.425 L42.679 915.425 Q37.5228 915.425 35.072 917.239 Q32.5894 919.054 32.5894 922.841 Q32.5894 927.329 35.6449 929.971 Q38.6686 932.613 43.8567 932.613 L64.0042 932.613 L64.0042 938.501 L28.3562 938.501 L28.3562 932.613 L33.8944 932.613 Q30.616 930.607 29.0564 927.806 Q27.4968 925.006 27.4968 921.154 Q27.4968 917.271 29.4702 914.566 Q31.4436 911.828 35.1993 910.524 Z\" fill=\"#000000\" fill-rule=\"nonzero\" fill-opacity=\"1\" /><path clip-path=\"url(#clip470)\" d=\"M46.212 849.19 Q39.7508 849.19 36.0905 851.864 Q32.3984 854.505 32.3984 859.152 Q32.3984 863.799 36.0905 866.473 Q39.7508 869.115 46.212 869.115 Q52.6732 869.115 56.3653 866.473 Q60.0256 863.799 60.0256 859.152 Q60.0256 854.505 56.3653 851.864 Q52.6732 849.19 46.212 849.19 M33.7671 869.115 Q30.5842 867.269 29.0564 864.468 Q27.4968 861.635 27.4968 857.72 Q27.4968 851.227 32.6531 847.185 Q37.8093 843.111 46.212 843.111 Q54.6147 843.111 59.771 847.185 Q64.9272 851.227 64.9272 857.72 Q64.9272 861.635 63.3994 864.468 Q61.8398 867.269 58.657 869.115 L64.0042 869.115 L64.0042 875.003 L14.479 875.003 L14.479 869.115 L33.7671 869.115 Z\" fill=\"#000000\" fill-rule=\"nonzero\" fill-opacity=\"1\" /><path clip-path=\"url(#clip470)\" d=\"M44.7161 802.911 L47.5806 802.911 L47.5806 829.838 Q53.6281 829.456 56.8109 826.21 Q59.9619 822.931 59.9619 817.107 Q59.9619 813.733 59.1344 810.582 Q58.3069 807.399 56.6518 804.28 L62.1899 804.28 Q63.5267 807.431 64.227 810.741 Q64.9272 814.051 64.9272 817.457 Q64.9272 825.987 59.9619 830.984 Q54.9967 835.949 46.5303 835.949 Q37.7774 835.949 32.6531 831.239 Q27.4968 826.496 27.4968 818.475 Q27.4968 811.282 32.1438 807.113 Q36.7589 802.911 44.7161 802.911 M42.9973 808.768 Q38.1912 808.831 35.3266 811.473 Q32.4621 814.083 32.4621 818.412 Q32.4621 823.313 35.2312 826.273 Q38.0002 829.202 43.0292 829.647 L42.9973 808.768 Z\" fill=\"#000000\" fill-rule=\"nonzero\" fill-opacity=\"1\" /><path clip-path=\"url(#clip470)\" d=\"M33.8307 772.642 Q33.2578 773.629 33.0032 774.807 Q32.7167 775.952 32.7167 777.353 Q32.7167 782.318 35.9632 784.992 Q39.1779 787.634 45.2253 787.634 L64.0042 787.634 L64.0042 793.522 L28.3562 793.522 L28.3562 787.634 L33.8944 787.634 Q30.6479 785.788 29.0883 782.827 Q27.4968 779.867 27.4968 775.634 Q27.4968 775.029 27.5923 774.297 Q27.656 773.565 27.8151 772.674 L33.8307 772.642 Z\" fill=\"#000000\" fill-rule=\"nonzero\" fill-opacity=\"1\" /><path clip-path=\"url(#clip470)\" d=\"M32.4621 731.965 Q32.4621 736.676 36.1542 739.413 Q39.8145 742.151 46.212 742.151 Q52.6095 742.151 56.3017 739.445 Q59.9619 736.708 59.9619 731.965 Q59.9619 727.287 56.2698 724.549 Q52.5777 721.812 46.212 721.812 Q39.8781 721.812 36.186 724.549 Q32.4621 727.287 32.4621 731.965 M27.4968 731.965 Q27.4968 724.327 32.4621 719.966 Q37.4273 715.606 46.212 715.606 Q54.9649 715.606 59.9619 719.966 Q64.9272 724.327 64.9272 731.965 Q64.9272 739.636 59.9619 743.997 Q54.9649 748.325 46.212 748.325 Q37.4273 748.325 32.4621 743.997 Q27.4968 739.636 27.4968 731.965 Z\" fill=\"#000000\" fill-rule=\"nonzero\" fill-opacity=\"1\" /><path clip-path=\"url(#clip470)\" d=\"M14.479 687.851 L19.3487 687.851 L19.3487 693.453 Q19.3487 696.604 20.6219 697.845 Q21.895 699.055 25.2052 699.055 L28.3562 699.055 L28.3562 689.411 L32.9077 689.411 L32.9077 699.055 L64.0042 699.055 L64.0042 704.943 L32.9077 704.943 L32.9077 710.545 L28.3562 710.545 L28.3562 704.943 L25.8736 704.943 Q19.9216 704.943 17.2162 702.174 Q14.479 699.405 14.479 693.389 L14.479 687.851 Z\" fill=\"#000000\" fill-rule=\"nonzero\" fill-opacity=\"1\" /><path clip-path=\"url(#clip470)\" d=\"M46.0847 646.028 Q46.0847 653.126 47.7079 655.863 Q49.3312 658.601 53.2461 658.601 Q56.3653 658.601 58.2114 656.564 Q60.0256 654.495 60.0256 650.962 Q60.0256 646.092 56.5881 643.164 Q53.1188 640.204 47.3897 640.204 L46.0847 640.204 L46.0847 646.028 M43.6657 634.347 L64.0042 634.347 L64.0042 640.204 L58.5933 640.204 Q61.8398 642.209 63.3994 645.201 Q64.9272 648.193 64.9272 652.521 Q64.9272 657.996 61.8716 661.242 Q58.7843 664.457 53.6281 664.457 Q47.6125 664.457 44.5569 660.447 Q41.5014 656.405 41.5014 648.416 L41.5014 640.204 L40.9285 640.204 Q36.8862 640.204 34.6901 642.877 Q32.4621 645.519 32.4621 650.325 Q32.4621 653.381 33.1941 656.277 Q33.9262 659.174 35.3903 661.847 L29.9795 661.847 Q28.7381 658.633 28.1334 655.609 Q27.4968 652.585 27.4968 649.721 Q27.4968 641.986 31.5072 638.167 Q35.5176 634.347 43.6657 634.347 Z\" fill=\"#000000\" fill-rule=\"nonzero\" fill-opacity=\"1\" /><path clip-path=\"url(#clip470)\" d=\"M45.7664 598.827 Q39.4007 598.827 35.8996 601.468 Q32.3984 604.078 32.3984 608.821 Q32.3984 613.531 35.8996 616.173 Q39.4007 618.783 45.7664 618.783 Q52.1003 618.783 55.6014 616.173 Q59.1026 613.531 59.1026 608.821 Q59.1026 604.078 55.6014 601.468 Q52.1003 598.827 45.7664 598.827 M59.58 592.97 Q68.683 592.97 73.1071 597.012 Q77.5631 601.055 77.5631 609.394 Q77.5631 612.481 77.0857 615.218 Q76.6401 617.956 75.6852 620.534 L69.9879 620.534 Q71.3884 617.956 72.0568 615.441 Q72.7252 612.927 72.7252 610.317 Q72.7252 604.556 69.7015 601.691 Q66.7096 598.827 60.6303 598.827 L57.7339 598.827 Q60.885 600.641 62.4446 603.474 Q64.0042 606.306 64.0042 610.253 Q64.0042 616.81 59.0071 620.82 Q54.01 624.831 45.7664 624.831 Q37.491 624.831 32.4939 620.82 Q27.4968 616.81 27.4968 610.253 Q27.4968 606.306 29.0564 603.474 Q30.616 600.641 33.7671 598.827 L28.3562 598.827 L28.3562 592.97 L59.58 592.97 Z\" fill=\"#000000\" fill-rule=\"nonzero\" fill-opacity=\"1\" /><path clip-path=\"url(#clip470)\" d=\"M44.7161 550.416 L47.5806 550.416 L47.5806 577.342 Q53.6281 576.961 56.8109 573.714 Q59.9619 570.436 59.9619 564.611 Q59.9619 561.237 59.1344 558.086 Q58.3069 554.903 56.6518 551.784 L62.1899 551.784 Q63.5267 554.935 64.227 558.245 Q64.9272 561.555 64.9272 564.961 Q64.9272 573.491 59.9619 578.488 Q54.9967 583.454 46.5303 583.454 Q37.7774 583.454 32.6531 578.743 Q27.4968 574 27.4968 565.98 Q27.4968 558.786 32.1438 554.617 Q36.7589 550.416 44.7161 550.416 M42.9973 556.272 Q38.1912 556.336 35.3266 558.977 Q32.4621 561.587 32.4621 565.916 Q32.4621 570.818 35.2312 573.778 Q38.0002 576.706 43.0292 577.151 L42.9973 556.272 Z\" fill=\"#000000\" fill-rule=\"nonzero\" fill-opacity=\"1\" /><path clip-path=\"url(#clip470)\" d=\"M42.4881 511.171 L64.0042 511.171 L64.0042 517.027 L42.679 517.027 Q37.6183 517.027 35.1038 519.001 Q32.5894 520.974 32.5894 524.921 Q32.5894 529.663 35.6131 532.401 Q38.6368 535.138 43.8567 535.138 L64.0042 535.138 L64.0042 541.026 L28.3562 541.026 L28.3562 535.138 L33.8944 535.138 Q30.6797 533.037 29.0883 530.204 Q27.4968 527.34 27.4968 523.616 Q27.4968 517.473 31.3163 514.322 Q35.1038 511.171 42.4881 511.171 Z\" fill=\"#000000\" fill-rule=\"nonzero\" fill-opacity=\"1\" /><path clip-path=\"url(#clip470)\" d=\"M18.2347 493.697 L28.3562 493.697 L28.3562 481.634 L32.9077 481.634 L32.9077 493.697 L52.2594 493.697 Q56.6199 493.697 57.8613 492.519 Q59.1026 491.31 59.1026 487.65 L59.1026 481.634 L64.0042 481.634 L64.0042 487.65 Q64.0042 494.429 61.4897 497.007 Q58.9434 499.585 52.2594 499.585 L32.9077 499.585 L32.9077 503.882 L28.3562 503.882 L28.3562 499.585 L18.2347 499.585 L18.2347 493.697 Z\" fill=\"#000000\" fill-rule=\"nonzero\" fill-opacity=\"1\" /><path clip-path=\"url(#clip470)\" d=\"M29.4065 451.206 L34.9447 451.206 Q33.6716 453.689 33.035 456.362 Q32.3984 459.036 32.3984 461.9 Q32.3984 466.261 33.7352 468.457 Q35.072 470.621 37.7456 470.621 Q39.7826 470.621 40.9603 469.062 Q42.1061 467.502 43.1565 462.792 L43.6021 460.786 Q44.9389 454.548 47.3897 451.938 Q49.8086 449.296 54.1691 449.296 Q59.1344 449.296 62.0308 453.243 Q64.9272 457.158 64.9272 464.033 Q64.9272 466.897 64.3543 470.017 Q63.8132 473.104 62.6992 476.541 L56.6518 476.541 Q58.3387 473.295 59.198 470.144 Q60.0256 466.993 60.0256 463.906 Q60.0256 459.768 58.6251 457.54 Q57.1929 455.312 54.6147 455.312 Q52.2276 455.312 50.9545 456.935 Q49.6813 458.527 48.5037 463.969 L48.0262 466.006 Q46.8804 471.449 44.5251 473.868 Q42.138 476.287 38.0002 476.287 Q32.9713 476.287 30.2341 472.722 Q27.4968 469.157 27.4968 462.601 Q27.4968 459.354 27.9743 456.49 Q28.4517 453.625 29.4065 451.206 Z\" fill=\"#000000\" fill-rule=\"nonzero\" fill-opacity=\"1\" /><polyline clip-path=\"url(#clip472)\" style=\"stroke:#009af9; stroke-linecap:round; stroke-linejoin:round; stroke-width:4; stroke-opacity:1; fill:none\" points=\"294.087,1299.86 304.08,683.29 314.074,508.053 324.067,339.306 334.061,313.345 344.054,254.933 354.048,209.501 364.041,144.598 374.035,131.618 384.029,118.637 394.022,112.147 404.016,112.147 414.009,112.147 424.003,112.147 433.996,92.6759 443.99,92.6759 453.983,92.6759 463.977,92.6759 473.97,86.1857 483.964,86.1857 493.957,86.1857 503.951,86.1857 513.945,86.1857 523.938,86.1857 533.932,86.1857 543.925,86.1857 553.919,86.1857 563.912,86.1857 573.906,86.1857 583.899,86.1857 593.893,86.1857 603.886,86.1857 613.88,86.1857 623.874,86.1857 633.867,86.1857 643.861,86.1857 653.854,86.1857 663.848,86.1857 673.841,86.1857 683.835,86.1857 693.828,86.1857 703.822,86.1857 713.815,86.1857 723.809,86.1857 733.802,86.1857 743.796,86.1857 753.79,86.1857 763.783,86.1857 773.777,86.1857 783.77,86.1857 793.764,86.1857 803.757,86.1857 813.751,86.1857 823.744,86.1857 833.738,86.1857 843.731,86.1857 853.725,86.1857 863.718,86.1857 873.712,86.1857 883.706,86.1857 893.699,86.1857 903.693,86.1857 913.686,86.1857 923.68,86.1857 933.673,86.1857 943.667,86.1857 953.66,86.1857 963.654,86.1857 973.647,86.1857 983.641,86.1857 993.634,86.1857 1003.63,86.1857 1013.62,86.1857 1023.62,86.1857 1033.61,86.1857 1043.6,86.1857 1053.6,86.1857 1063.59,86.1857 1073.58,86.1857 1083.58,86.1857 1093.57,86.1857 1103.56,86.1857 1113.56,86.1857 1123.55,86.1857 1133.54,86.1857 1143.54,86.1857 1153.53,86.1857 1163.52,86.1857 1173.52,86.1857 1183.51,86.1857 1193.51,86.1857 1203.5,86.1857 1213.49,86.1857 1223.49,86.1857 1233.48,86.1857 1243.47,86.1857 1253.47,86.1857 1263.46,86.1857 1273.45,86.1857 1283.45,86.1857 1293.44,86.1857 1303.43,86.1857 1313.43,86.1857 1323.42,86.1857 1333.41,86.1857 1343.41,86.1857 1353.4,86.1857 1363.4,86.1857 1373.39,86.1857 1383.38,86.1857 1393.38,86.1857 1403.37,86.1857 1413.36,86.1857 1423.36,86.1857 1433.35,86.1857 1443.34,86.1857 1453.34,86.1857 1463.33,86.1857 1473.32,86.1857 1483.32,86.1857 1493.31,86.1857 1503.31,86.1857 1513.3,86.1857 1523.29,86.1857 1533.29,86.1857 1543.28,86.1857 1553.27,86.1857 1563.27,86.1857 1573.26,86.1857 1583.25,86.1857 1593.25,86.1857 1603.24,86.1857 1613.23,86.1857 1623.23,86.1857 1633.22,86.1857 1643.21,86.1857 1653.21,86.1857 1663.2,86.1857 1673.2,86.1857 1683.19,86.1857 1693.18,86.1857 1703.18,86.1857 1713.17,86.1857 1723.16,86.1857 1733.16,86.1857 1743.15,86.1857 1753.14,86.1857 1763.14,86.1857 1773.13,86.1857 1783.12,86.1857 1793.12,86.1857 1803.11,86.1857 1813.1,86.1857 1823.1,86.1857 1833.09,86.1857 1843.09,86.1857 1853.08,86.1857 1863.07,86.1857 1873.07,86.1857 1883.06,86.1857 1893.05,86.1857 1903.05,86.1857 1913.04,86.1857 1923.03,86.1857 1933.03,86.1857 1943.02,86.1857 1953.01,86.1857 1963.01,86.1857 1973,86.1857 1982.99,86.1857 1992.99,86.1857 2002.98,86.1857 2012.98,86.1857 2022.97,86.1857 2032.96,86.1857 2042.96,86.1857 2052.95,86.1857 2062.94,86.1857 2072.94,86.1857 2082.93,86.1857 2092.92,86.1857 2102.92,86.1857 2112.91,86.1857 2122.9,86.1857 2132.9,86.1857 2142.89,86.1857 2152.89,86.1857 2162.88,86.1857 2172.87,86.1857 2182.87,86.1857 2192.86,86.1857 2202.85,86.1857 2212.85,86.1857 2222.84,86.1857 2232.83,86.1857 2242.83,86.1857 2252.82,86.1857 2262.81,86.1857 2272.81,86.1857 2282.8,86.1857 2292.79,86.1857 \"/>\n",
       "<polyline clip-path=\"url(#clip472)\" style=\"stroke:#e26f46; stroke-linecap:round; stroke-linejoin:round; stroke-width:4; stroke-opacity:1; fill:none\" points=\"294.087,170.559 304.08,787.134 314.074,962.371 324.067,1131.12 334.061,1157.08 344.054,1215.49 354.048,1260.92 364.041,1325.83 374.035,1338.81 384.029,1351.79 394.022,1358.28 404.016,1358.28 414.009,1358.28 424.003,1358.28 433.996,1377.75 443.99,1377.75 453.983,1377.75 463.977,1377.75 473.97,1384.24 483.964,1384.24 493.957,1384.24 503.951,1384.24 513.945,1384.24 523.938,1384.24 533.932,1384.24 543.925,1384.24 553.919,1384.24 563.912,1384.24 573.906,1384.24 583.899,1384.24 593.893,1384.24 603.886,1384.24 613.88,1384.24 623.874,1384.24 633.867,1384.24 643.861,1384.24 653.854,1384.24 663.848,1384.24 673.841,1384.24 683.835,1384.24 693.828,1384.24 703.822,1384.24 713.815,1384.24 723.809,1384.24 733.802,1384.24 743.796,1384.24 753.79,1384.24 763.783,1384.24 773.777,1384.24 783.77,1384.24 793.764,1384.24 803.757,1384.24 813.751,1384.24 823.744,1384.24 833.738,1384.24 843.731,1384.24 853.725,1384.24 863.718,1384.24 873.712,1384.24 883.706,1384.24 893.699,1384.24 903.693,1384.24 913.686,1384.24 923.68,1384.24 933.673,1384.24 943.667,1384.24 953.66,1384.24 963.654,1384.24 973.647,1384.24 983.641,1384.24 993.634,1384.24 1003.63,1384.24 1013.62,1384.24 1023.62,1384.24 1033.61,1384.24 1043.6,1384.24 1053.6,1384.24 1063.59,1384.24 1073.58,1384.24 1083.58,1384.24 1093.57,1384.24 1103.56,1384.24 1113.56,1384.24 1123.55,1384.24 1133.54,1384.24 1143.54,1384.24 1153.53,1384.24 1163.52,1384.24 1173.52,1384.24 1183.51,1384.24 1193.51,1384.24 1203.5,1384.24 1213.49,1384.24 1223.49,1384.24 1233.48,1384.24 1243.47,1384.24 1253.47,1384.24 1263.46,1384.24 1273.45,1384.24 1283.45,1384.24 1293.44,1384.24 1303.43,1384.24 1313.43,1384.24 1323.42,1384.24 1333.41,1384.24 1343.41,1384.24 1353.4,1384.24 1363.4,1384.24 1373.39,1384.24 1383.38,1384.24 1393.38,1384.24 1403.37,1384.24 1413.36,1384.24 1423.36,1384.24 1433.35,1384.24 1443.34,1384.24 1453.34,1384.24 1463.33,1384.24 1473.32,1384.24 1483.32,1384.24 1493.31,1384.24 1503.31,1384.24 1513.3,1384.24 1523.29,1384.24 1533.29,1384.24 1543.28,1384.24 1553.27,1384.24 1563.27,1384.24 1573.26,1384.24 1583.25,1384.24 1593.25,1384.24 1603.24,1384.24 1613.23,1384.24 1623.23,1384.24 1633.22,1384.24 1643.21,1384.24 1653.21,1384.24 1663.2,1384.24 1673.2,1384.24 1683.19,1384.24 1693.18,1384.24 1703.18,1384.24 1713.17,1384.24 1723.16,1384.24 1733.16,1384.24 1743.15,1384.24 1753.14,1384.24 1763.14,1384.24 1773.13,1384.24 1783.12,1384.24 1793.12,1384.24 1803.11,1384.24 1813.1,1384.24 1823.1,1384.24 1833.09,1384.24 1843.09,1384.24 1853.08,1384.24 1863.07,1384.24 1873.07,1384.24 1883.06,1384.24 1893.05,1384.24 1903.05,1384.24 1913.04,1384.24 1923.03,1384.24 1933.03,1384.24 1943.02,1384.24 1953.01,1384.24 1963.01,1384.24 1973,1384.24 1982.99,1384.24 1992.99,1384.24 2002.98,1384.24 2012.98,1384.24 2022.97,1384.24 2032.96,1384.24 2042.96,1384.24 2052.95,1384.24 2062.94,1384.24 2072.94,1384.24 2082.93,1384.24 2092.92,1384.24 2102.92,1384.24 2112.91,1384.24 2122.9,1384.24 2132.9,1384.24 2142.89,1384.24 2152.89,1384.24 2162.88,1384.24 2172.87,1384.24 2182.87,1384.24 2192.86,1384.24 2202.85,1384.24 2212.85,1384.24 2222.84,1384.24 2232.83,1384.24 2242.83,1384.24 2252.82,1384.24 2262.81,1384.24 2272.81,1384.24 2282.8,1384.24 2292.79,1384.24 \"/>\n",
       "<path clip-path=\"url(#clip470)\" d=\"M1928.65 248.629 L2282.13 248.629 L2282.13 93.1086 L1928.65 93.1086  Z\" fill=\"#ffffff\" fill-rule=\"evenodd\" fill-opacity=\"1\"/>\n",
       "<polyline clip-path=\"url(#clip470)\" style=\"stroke:#000000; stroke-linecap:round; stroke-linejoin:round; stroke-width:4; stroke-opacity:1; fill:none\" points=\"1928.65,248.629 2282.13,248.629 2282.13,93.1086 1928.65,93.1086 1928.65,248.629 \"/>\n",
       "<polyline clip-path=\"url(#clip470)\" style=\"stroke:#009af9; stroke-linecap:round; stroke-linejoin:round; stroke-width:4; stroke-opacity:1; fill:none\" points=\"1952.19,144.949 2093.43,144.949 \"/>\n",
       "<path clip-path=\"url(#clip470)\" d=\"M2138.69 146.581 L2138.69 162.229 L2134.43 162.229 L2134.43 146.719 Q2134.43 143.039 2132.99 141.21 Q2131.56 139.382 2128.69 139.382 Q2125.24 139.382 2123.25 141.581 Q2121.26 143.78 2121.26 147.576 L2121.26 162.229 L2116.97 162.229 L2116.97 126.21 L2121.26 126.21 L2121.26 140.331 Q2122.79 137.993 2124.85 136.835 Q2126.93 135.678 2129.64 135.678 Q2134.1 135.678 2136.4 138.456 Q2138.69 141.21 2138.69 146.581 Z\" fill=\"#000000\" fill-rule=\"nonzero\" fill-opacity=\"1\" /><path clip-path=\"url(#clip470)\" d=\"M2158.97 149.196 Q2153.8 149.196 2151.81 150.377 Q2149.82 151.557 2149.82 154.405 Q2149.82 156.673 2151.3 158.016 Q2152.81 159.335 2155.38 159.335 Q2158.92 159.335 2161.05 156.835 Q2163.2 154.312 2163.2 150.145 L2163.2 149.196 L2158.97 149.196 M2167.46 147.437 L2167.46 162.229 L2163.2 162.229 L2163.2 158.293 Q2161.74 160.655 2159.57 161.789 Q2157.39 162.9 2154.24 162.9 Q2150.26 162.9 2147.9 160.678 Q2145.56 158.432 2145.56 154.682 Q2145.56 150.307 2148.48 148.085 Q2151.42 145.863 2157.23 145.863 L2163.2 145.863 L2163.2 145.446 Q2163.2 142.507 2161.26 140.909 Q2159.34 139.289 2155.84 139.289 Q2153.62 139.289 2151.51 139.821 Q2149.41 140.354 2147.46 141.419 L2147.46 137.483 Q2149.8 136.581 2152 136.141 Q2154.2 135.678 2156.28 135.678 Q2161.91 135.678 2164.68 138.594 Q2167.46 141.511 2167.46 147.437 Z\" fill=\"#000000\" fill-rule=\"nonzero\" fill-opacity=\"1\" /><path clip-path=\"url(#clip470)\" d=\"M2180.35 158.34 L2180.35 172.09 L2176.07 172.09 L2176.07 136.303 L2180.35 136.303 L2180.35 140.238 Q2181.7 137.923 2183.73 136.812 Q2185.79 135.678 2188.64 135.678 Q2193.36 135.678 2196.3 139.428 Q2199.27 143.178 2199.27 149.289 Q2199.27 155.4 2196.3 159.15 Q2193.36 162.9 2188.64 162.9 Q2185.79 162.9 2183.73 161.789 Q2181.7 160.655 2180.35 158.34 M2194.84 149.289 Q2194.84 144.59 2192.9 141.928 Q2190.98 139.243 2187.6 139.243 Q2184.22 139.243 2182.28 141.928 Q2180.35 144.59 2180.35 149.289 Q2180.35 153.988 2182.28 156.673 Q2184.22 159.335 2187.6 159.335 Q2190.98 159.335 2192.9 156.673 Q2194.84 153.988 2194.84 149.289 Z\" fill=\"#000000\" fill-rule=\"nonzero\" fill-opacity=\"1\" /><path clip-path=\"url(#clip470)\" d=\"M2210.45 158.34 L2210.45 172.09 L2206.16 172.09 L2206.16 136.303 L2210.45 136.303 L2210.45 140.238 Q2211.79 137.923 2213.83 136.812 Q2215.89 135.678 2218.73 135.678 Q2223.46 135.678 2226.4 139.428 Q2229.36 143.178 2229.36 149.289 Q2229.36 155.4 2226.4 159.15 Q2223.46 162.9 2218.73 162.9 Q2215.89 162.9 2213.83 161.789 Q2211.79 160.655 2210.45 158.34 M2224.94 149.289 Q2224.94 144.59 2222.99 141.928 Q2221.07 139.243 2217.69 139.243 Q2214.31 139.243 2212.37 141.928 Q2210.45 144.59 2210.45 149.289 Q2210.45 153.988 2212.37 156.673 Q2214.31 159.335 2217.69 159.335 Q2221.07 159.335 2222.99 156.673 Q2224.94 153.988 2224.94 149.289 Z\" fill=\"#000000\" fill-rule=\"nonzero\" fill-opacity=\"1\" /><path clip-path=\"url(#clip470)\" d=\"M2247.21 164.636 Q2245.4 169.266 2243.69 170.678 Q2241.97 172.09 2239.1 172.09 L2235.7 172.09 L2235.7 168.525 L2238.2 168.525 Q2239.96 168.525 2240.93 167.692 Q2241.9 166.858 2243.09 163.756 L2243.85 161.812 L2233.36 136.303 L2237.88 136.303 L2245.98 156.581 L2254.08 136.303 L2258.59 136.303 L2247.21 164.636 Z\" fill=\"#000000\" fill-rule=\"nonzero\" fill-opacity=\"1\" /><polyline clip-path=\"url(#clip470)\" style=\"stroke:#e26f46; stroke-linecap:round; stroke-linejoin:round; stroke-width:4; stroke-opacity:1; fill:none\" points=\"1952.19,196.789 2093.43,196.789 \"/>\n",
       "<path clip-path=\"url(#clip470)\" d=\"M2135.4 188.907 L2135.4 192.934 Q2133.6 192.009 2131.65 191.546 Q2129.71 191.083 2127.62 191.083 Q2124.45 191.083 2122.85 192.055 Q2121.28 193.027 2121.28 194.971 Q2121.28 196.453 2122.41 197.309 Q2123.55 198.143 2126.97 198.907 L2128.43 199.231 Q2132.97 200.203 2134.87 201.985 Q2136.79 203.745 2136.79 206.916 Q2136.79 210.527 2133.92 212.633 Q2131.07 214.74 2126.07 214.74 Q2123.99 214.74 2121.72 214.323 Q2119.47 213.93 2116.97 213.12 L2116.97 208.721 Q2119.34 209.948 2121.63 210.573 Q2123.92 211.175 2126.16 211.175 Q2129.17 211.175 2130.79 210.157 Q2132.41 209.115 2132.41 207.24 Q2132.41 205.504 2131.23 204.578 Q2130.08 203.652 2126.12 202.796 L2124.64 202.448 Q2120.68 201.615 2118.92 199.902 Q2117.16 198.166 2117.16 195.157 Q2117.16 191.499 2119.75 189.509 Q2122.35 187.518 2127.11 187.518 Q2129.47 187.518 2131.56 187.865 Q2133.64 188.212 2135.4 188.907 Z\" fill=\"#000000\" fill-rule=\"nonzero\" fill-opacity=\"1\" /><path clip-path=\"url(#clip470)\" d=\"M2155.35 201.036 Q2150.19 201.036 2148.2 202.217 Q2146.21 203.397 2146.21 206.245 Q2146.21 208.513 2147.69 209.856 Q2149.2 211.175 2151.77 211.175 Q2155.31 211.175 2157.44 208.675 Q2159.59 206.152 2159.59 201.985 L2159.59 201.036 L2155.35 201.036 M2163.85 199.277 L2163.85 214.069 L2159.59 214.069 L2159.59 210.133 Q2158.13 212.495 2155.96 213.629 Q2153.78 214.74 2150.63 214.74 Q2146.65 214.74 2144.29 212.518 Q2141.95 210.272 2141.95 206.522 Q2141.95 202.147 2144.87 199.925 Q2147.81 197.703 2153.62 197.703 L2159.59 197.703 L2159.59 197.286 Q2159.59 194.347 2157.65 192.749 Q2155.72 191.129 2152.23 191.129 Q2150.01 191.129 2147.9 191.661 Q2145.79 192.194 2143.85 193.259 L2143.85 189.323 Q2146.19 188.421 2148.39 187.981 Q2150.59 187.518 2152.67 187.518 Q2158.29 187.518 2161.07 190.434 Q2163.85 193.351 2163.85 199.277 Z\" fill=\"#000000\" fill-rule=\"nonzero\" fill-opacity=\"1\" /><path clip-path=\"url(#clip470)\" d=\"M2189.68 192.078 L2189.68 178.05 L2193.94 178.05 L2193.94 214.069 L2189.68 214.069 L2189.68 210.18 Q2188.34 212.495 2186.28 213.629 Q2184.24 214.74 2181.37 214.74 Q2176.67 214.74 2173.71 210.99 Q2170.77 207.24 2170.77 201.129 Q2170.77 195.018 2173.71 191.268 Q2176.67 187.518 2181.37 187.518 Q2184.24 187.518 2186.28 188.652 Q2188.34 189.763 2189.68 192.078 M2175.17 201.129 Q2175.17 205.828 2177.09 208.513 Q2179.03 211.175 2182.41 211.175 Q2185.79 211.175 2187.74 208.513 Q2189.68 205.828 2189.68 201.129 Q2189.68 196.43 2187.74 193.768 Q2185.79 191.083 2182.41 191.083 Q2179.03 191.083 2177.09 193.768 Q2175.17 196.43 2175.17 201.129 Z\" fill=\"#000000\" fill-rule=\"nonzero\" fill-opacity=\"1\" /></svg>\n"
      ],
      "text/html": [
       "<img src=\"data:image/png;base64,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\" />"
      ]
     },
     "metadata": {},
     "output_type": "display_data"
    },
    {
     "data": {
      "text/html": [
       "<div><div style = \"float: left;\"><span>201×2 DataFrame</span></div><div style = \"float: right;\"><span style = \"font-style: italic;\">176 rows omitted</span></div><div style = \"clear: both;\"></div></div><div class = \"data-frame\" style = \"overflow-x: scroll;\"><table class = \"data-frame\" style = \"margin-bottom: 6px;\"><thead><tr class = \"header\"><th class = \"rowNumber\" style = \"font-weight: bold; text-align: right;\">Row</th><th style = \"text-align: left;\">happy</th><th style = \"text-align: left;\">sad</th></tr><tr class = \"subheader headerLastRow\"><th class = \"rowNumber\" style = \"font-weight: bold; text-align: right;\"></th><th title = \"Int64\" style = \"text-align: left;\">Int64</th><th title = \"Int64\" style = \"text-align: left;\">Int64</th></tr></thead><tbody><tr><td class = \"rowNumber\" style = \"font-weight: bold; text-align: right;\">1</td><td style = \"text-align: right;\">13</td><td style = \"text-align: right;\">187</td></tr><tr><td class = \"rowNumber\" style = \"font-weight: bold; text-align: right;\">2</td><td style = \"text-align: right;\">108</td><td style = \"text-align: right;\">92</td></tr><tr><td class = \"rowNumber\" style = \"font-weight: bold; text-align: right;\">3</td><td style = \"text-align: right;\">135</td><td style = \"text-align: right;\">65</td></tr><tr><td class = \"rowNumber\" style = \"font-weight: bold; text-align: right;\">4</td><td style = \"text-align: right;\">161</td><td style = \"text-align: right;\">39</td></tr><tr><td class = \"rowNumber\" style = \"font-weight: bold; text-align: right;\">5</td><td style = \"text-align: right;\">165</td><td style = \"text-align: right;\">35</td></tr><tr><td class = \"rowNumber\" style = \"font-weight: bold; text-align: right;\">6</td><td style = \"text-align: right;\">174</td><td style = \"text-align: right;\">26</td></tr><tr><td class = \"rowNumber\" style = \"font-weight: bold; text-align: right;\">7</td><td style = \"text-align: right;\">181</td><td style = \"text-align: right;\">19</td></tr><tr><td class = \"rowNumber\" style = \"font-weight: bold; text-align: right;\">8</td><td style = \"text-align: right;\">191</td><td style = \"text-align: right;\">9</td></tr><tr><td class = \"rowNumber\" style = \"font-weight: bold; text-align: right;\">9</td><td style = \"text-align: right;\">193</td><td style = \"text-align: right;\">7</td></tr><tr><td class = \"rowNumber\" style = \"font-weight: bold; text-align: right;\">10</td><td style = \"text-align: right;\">195</td><td style = \"text-align: right;\">5</td></tr><tr><td class = \"rowNumber\" style = \"font-weight: bold; text-align: right;\">11</td><td style = \"text-align: right;\">196</td><td style = \"text-align: right;\">4</td></tr><tr><td class = \"rowNumber\" style = \"font-weight: bold; text-align: right;\">12</td><td style = \"text-align: right;\">196</td><td style = \"text-align: right;\">4</td></tr><tr><td class = \"rowNumber\" style = \"font-weight: bold; text-align: right;\">13</td><td style = \"text-align: right;\">196</td><td style = \"text-align: right;\">4</td></tr><tr><td style = \"text-align: right;\">&vellip;</td><td style = \"text-align: right;\">&vellip;</td><td style = \"text-align: right;\">&vellip;</td></tr><tr><td class = \"rowNumber\" style = \"font-weight: bold; text-align: right;\">190</td><td style = \"text-align: right;\">200</td><td style = \"text-align: right;\">0</td></tr><tr><td class = \"rowNumber\" style = \"font-weight: bold; text-align: right;\">191</td><td style = \"text-align: right;\">200</td><td style = \"text-align: right;\">0</td></tr><tr><td class = \"rowNumber\" style = \"font-weight: bold; text-align: right;\">192</td><td style = \"text-align: right;\">200</td><td style = \"text-align: right;\">0</td></tr><tr><td class = \"rowNumber\" style = \"font-weight: bold; text-align: right;\">193</td><td style = \"text-align: right;\">200</td><td style = \"text-align: right;\">0</td></tr><tr><td class = \"rowNumber\" style = \"font-weight: bold; text-align: right;\">194</td><td style = \"text-align: right;\">200</td><td style = \"text-align: right;\">0</td></tr><tr><td class = \"rowNumber\" style = \"font-weight: bold; text-align: right;\">195</td><td style = \"text-align: right;\">200</td><td style = \"text-align: right;\">0</td></tr><tr><td class = \"rowNumber\" style = \"font-weight: bold; text-align: right;\">196</td><td style = \"text-align: right;\">200</td><td style = \"text-align: right;\">0</td></tr><tr><td class = \"rowNumber\" style = \"font-weight: bold; text-align: right;\">197</td><td style = \"text-align: right;\">200</td><td style = \"text-align: right;\">0</td></tr><tr><td class = \"rowNumber\" style = \"font-weight: bold; text-align: right;\">198</td><td style = \"text-align: right;\">200</td><td style = \"text-align: right;\">0</td></tr><tr><td class = \"rowNumber\" style = \"font-weight: bold; text-align: right;\">199</td><td style = \"text-align: right;\">200</td><td style = \"text-align: right;\">0</td></tr><tr><td class = \"rowNumber\" style = \"font-weight: bold; text-align: right;\">200</td><td style = \"text-align: right;\">200</td><td style = \"text-align: right;\">0</td></tr><tr><td class = \"rowNumber\" style = \"font-weight: bold; text-align: right;\">201</td><td style = \"text-align: right;\">200</td><td style = \"text-align: right;\">0</td></tr></tbody></table></div>"
      ],
      "text/latex": [
       "\\begin{tabular}{r|cc}\n",
       "\t& happy & sad\\\\\n",
       "\t\\hline\n",
       "\t& Int64 & Int64\\\\\n",
       "\t\\hline\n",
       "\t1 & 13 & 187 \\\\\n",
       "\t2 & 108 & 92 \\\\\n",
       "\t3 & 135 & 65 \\\\\n",
       "\t4 & 161 & 39 \\\\\n",
       "\t5 & 165 & 35 \\\\\n",
       "\t6 & 174 & 26 \\\\\n",
       "\t7 & 181 & 19 \\\\\n",
       "\t8 & 191 & 9 \\\\\n",
       "\t9 & 193 & 7 \\\\\n",
       "\t10 & 195 & 5 \\\\\n",
       "\t11 & 196 & 4 \\\\\n",
       "\t12 & 196 & 4 \\\\\n",
       "\t13 & 196 & 4 \\\\\n",
       "\t14 & 196 & 4 \\\\\n",
       "\t15 & 199 & 1 \\\\\n",
       "\t16 & 199 & 1 \\\\\n",
       "\t17 & 199 & 1 \\\\\n",
       "\t18 & 199 & 1 \\\\\n",
       "\t19 & 200 & 0 \\\\\n",
       "\t20 & 200 & 0 \\\\\n",
       "\t21 & 200 & 0 \\\\\n",
       "\t22 & 200 & 0 \\\\\n",
       "\t23 & 200 & 0 \\\\\n",
       "\t24 & 200 & 0 \\\\\n",
       "\t25 & 200 & 0 \\\\\n",
       "\t26 & 200 & 0 \\\\\n",
       "\t27 & 200 & 0 \\\\\n",
       "\t28 & 200 & 0 \\\\\n",
       "\t29 & 200 & 0 \\\\\n",
       "\t30 & 200 & 0 \\\\\n",
       "\t$\\dots$ & $\\dots$ & $\\dots$ \\\\\n",
       "\\end{tabular}\n"
      ],
      "text/plain": [
       "\u001b[1m201×2 DataFrame\u001b[0m\n",
       "\u001b[1m Row \u001b[0m│\u001b[1m happy \u001b[0m\u001b[1m sad   \u001b[0m\n",
       "     │\u001b[90m Int64 \u001b[0m\u001b[90m Int64 \u001b[0m\n",
       "─────┼──────────────\n",
       "   1 │    13    187\n",
       "   2 │   108     92\n",
       "   3 │   135     65\n",
       "   4 │   161     39\n",
       "   5 │   165     35\n",
       "   6 │   174     26\n",
       "   7 │   181     19\n",
       "   8 │   191      9\n",
       "   9 │   193      7\n",
       "  10 │   195      5\n",
       "  11 │   196      4\n",
       "  ⋮  │   ⋮      ⋮\n",
       " 192 │   200      0\n",
       " 193 │   200      0\n",
       " 194 │   200      0\n",
       " 195 │   200      0\n",
       " 196 │   200      0\n",
       " 197 │   200      0\n",
       " 198 │   200      0\n",
       " 199 │   200      0\n",
       " 200 │   200      0\n",
       " 201 │   200      0\n",
       "\u001b[36m    180 rows omitted\u001b[0m"
      ]
     },
     "execution_count": 10,
     "metadata": {},
     "output_type": "execute_result"
    }
   ],
   "source": [
    "df = get_nums_agents(model, \n",
    "    agent-> agent.mood == happy, \n",
    "    agent-> agent.mood == sad,\n",
    "    labels=[\"happy\",\"sad\"], plot_result=true)"
   ]
  },
  {
   "cell_type": "markdown",
   "metadata": {},
   "source": [
    "Individual agent data recorded during model run can be obtained as "
   ]
  },
  {
   "cell_type": "code",
   "execution_count": 11,
   "metadata": {},
   "outputs": [
    {
     "data": {
      "text/html": [
       "<div><div style = \"float: left;\"><span>201×2 DataFrame</span></div><div style = \"float: right;\"><span style = \"font-style: italic;\">176 rows omitted</span></div><div style = \"clear: both;\"></div></div><div class = \"data-frame\" style = \"overflow-x: scroll;\"><table class = \"data-frame\" style = \"margin-bottom: 6px;\"><thead><tr class = \"header\"><th class = \"rowNumber\" style = \"font-weight: bold; text-align: right;\">Row</th><th style = \"text-align: left;\">mood</th><th style = \"text-align: left;\">pos</th></tr><tr class = \"subheader headerLastRow\"><th class = \"rowNumber\" style = \"font-weight: bold; text-align: right;\"></th><th title = \"agentsfeeling\" style = \"text-align: left;\">agentsfe…</th><th title = \"Vect{3, Int64}\" style = \"text-align: left;\">Vect…</th></tr></thead><tbody><tr><td class = \"rowNumber\" style = \"font-weight: bold; text-align: right;\">1</td><td style = \"text-align: left;\">sad</td><td style = \"text-align: left;\">(3, 6, 7)\\n</td></tr><tr><td class = \"rowNumber\" style = \"font-weight: bold; text-align: right;\">2</td><td style = \"text-align: left;\">happy</td><td style = \"text-align: left;\">(3, 6, 7)\\n</td></tr><tr><td class = \"rowNumber\" style = \"font-weight: bold; text-align: right;\">3</td><td style = \"text-align: left;\">happy</td><td style = \"text-align: left;\">(3, 6, 7)\\n</td></tr><tr><td class = \"rowNumber\" style = \"font-weight: bold; text-align: right;\">4</td><td style = \"text-align: left;\">happy</td><td style = \"text-align: left;\">(3, 6, 7)\\n</td></tr><tr><td class = \"rowNumber\" style = \"font-weight: bold; text-align: right;\">5</td><td style = \"text-align: left;\">happy</td><td style = \"text-align: left;\">(3, 6, 7)\\n</td></tr><tr><td class = \"rowNumber\" style = \"font-weight: bold; text-align: right;\">6</td><td style = \"text-align: left;\">happy</td><td style = \"text-align: left;\">(3, 6, 7)\\n</td></tr><tr><td class = \"rowNumber\" style = \"font-weight: bold; text-align: right;\">7</td><td style = \"text-align: left;\">happy</td><td style = \"text-align: left;\">(3, 6, 7)\\n</td></tr><tr><td class = \"rowNumber\" style = \"font-weight: bold; text-align: right;\">8</td><td style = \"text-align: left;\">happy</td><td style = \"text-align: left;\">(3, 6, 7)\\n</td></tr><tr><td class = \"rowNumber\" style = \"font-weight: bold; text-align: right;\">9</td><td style = \"text-align: left;\">happy</td><td style = \"text-align: left;\">(3, 6, 7)\\n</td></tr><tr><td class = \"rowNumber\" style = \"font-weight: bold; text-align: right;\">10</td><td style = \"text-align: left;\">happy</td><td style = \"text-align: left;\">(3, 6, 7)\\n</td></tr><tr><td class = \"rowNumber\" style = \"font-weight: bold; text-align: right;\">11</td><td style = \"text-align: left;\">happy</td><td style = \"text-align: left;\">(3, 6, 7)\\n</td></tr><tr><td class = \"rowNumber\" style = \"font-weight: bold; text-align: right;\">12</td><td style = \"text-align: left;\">happy</td><td style = \"text-align: left;\">(3, 6, 7)\\n</td></tr><tr><td class = \"rowNumber\" style = \"font-weight: bold; text-align: right;\">13</td><td style = \"text-align: left;\">happy</td><td style = \"text-align: left;\">(3, 6, 7)\\n</td></tr><tr><td style = \"text-align: right;\">&vellip;</td><td style = \"text-align: right;\">&vellip;</td><td style = \"text-align: right;\">&vellip;</td></tr><tr><td class = \"rowNumber\" style = \"font-weight: bold; text-align: right;\">190</td><td style = \"text-align: left;\">happy</td><td style = \"text-align: left;\">(3, 6, 7)\\n</td></tr><tr><td class = \"rowNumber\" style = \"font-weight: bold; text-align: right;\">191</td><td style = \"text-align: left;\">happy</td><td style = \"text-align: left;\">(3, 6, 7)\\n</td></tr><tr><td class = \"rowNumber\" style = \"font-weight: bold; text-align: right;\">192</td><td style = \"text-align: left;\">happy</td><td style = \"text-align: left;\">(3, 6, 7)\\n</td></tr><tr><td class = \"rowNumber\" style = \"font-weight: bold; text-align: right;\">193</td><td style = \"text-align: left;\">happy</td><td style = \"text-align: left;\">(3, 6, 7)\\n</td></tr><tr><td class = \"rowNumber\" style = \"font-weight: bold; text-align: right;\">194</td><td style = \"text-align: left;\">happy</td><td style = \"text-align: left;\">(3, 6, 7)\\n</td></tr><tr><td class = \"rowNumber\" style = \"font-weight: bold; text-align: right;\">195</td><td style = \"text-align: left;\">happy</td><td style = \"text-align: left;\">(3, 6, 7)\\n</td></tr><tr><td class = \"rowNumber\" style = \"font-weight: bold; text-align: right;\">196</td><td style = \"text-align: left;\">happy</td><td style = \"text-align: left;\">(3, 6, 7)\\n</td></tr><tr><td class = \"rowNumber\" style = \"font-weight: bold; text-align: right;\">197</td><td style = \"text-align: left;\">happy</td><td style = \"text-align: left;\">(3, 6, 7)\\n</td></tr><tr><td class = \"rowNumber\" style = \"font-weight: bold; text-align: right;\">198</td><td style = \"text-align: left;\">happy</td><td style = \"text-align: left;\">(3, 6, 7)\\n</td></tr><tr><td class = \"rowNumber\" style = \"font-weight: bold; text-align: right;\">199</td><td style = \"text-align: left;\">happy</td><td style = \"text-align: left;\">(3, 6, 7)\\n</td></tr><tr><td class = \"rowNumber\" style = \"font-weight: bold; text-align: right;\">200</td><td style = \"text-align: left;\">happy</td><td style = \"text-align: left;\">(3, 6, 7)\\n</td></tr><tr><td class = \"rowNumber\" style = \"font-weight: bold; text-align: right;\">201</td><td style = \"text-align: left;\">happy</td><td style = \"text-align: left;\">(3, 6, 7)\\n</td></tr></tbody></table></div>"
      ],
      "text/latex": [
       "\\begin{tabular}{r|cc}\n",
       "\t& mood & pos\\\\\n",
       "\t\\hline\n",
       "\t& agentsfe… & Vect…\\\\\n",
       "\t\\hline\n",
       "\t1 & sad & (3, 6, 7)\\textbackslash{}n \\\\\n",
       "\t2 & happy & (3, 6, 7)\\textbackslash{}n \\\\\n",
       "\t3 & happy & (3, 6, 7)\\textbackslash{}n \\\\\n",
       "\t4 & happy & (3, 6, 7)\\textbackslash{}n \\\\\n",
       "\t5 & happy & (3, 6, 7)\\textbackslash{}n \\\\\n",
       "\t6 & happy & (3, 6, 7)\\textbackslash{}n \\\\\n",
       "\t7 & happy & (3, 6, 7)\\textbackslash{}n \\\\\n",
       "\t8 & happy & (3, 6, 7)\\textbackslash{}n \\\\\n",
       "\t9 & happy & (3, 6, 7)\\textbackslash{}n \\\\\n",
       "\t10 & happy & (3, 6, 7)\\textbackslash{}n \\\\\n",
       "\t11 & happy & (3, 6, 7)\\textbackslash{}n \\\\\n",
       "\t12 & happy & (3, 6, 7)\\textbackslash{}n \\\\\n",
       "\t13 & happy & (3, 6, 7)\\textbackslash{}n \\\\\n",
       "\t14 & happy & (3, 6, 7)\\textbackslash{}n \\\\\n",
       "\t15 & happy & (3, 6, 7)\\textbackslash{}n \\\\\n",
       "\t16 & happy & (3, 6, 7)\\textbackslash{}n \\\\\n",
       "\t17 & happy & (3, 6, 7)\\textbackslash{}n \\\\\n",
       "\t18 & happy & (3, 6, 7)\\textbackslash{}n \\\\\n",
       "\t19 & happy & (3, 6, 7)\\textbackslash{}n \\\\\n",
       "\t20 & happy & (3, 6, 7)\\textbackslash{}n \\\\\n",
       "\t21 & happy & (3, 6, 7)\\textbackslash{}n \\\\\n",
       "\t22 & happy & (3, 6, 7)\\textbackslash{}n \\\\\n",
       "\t23 & happy & (3, 6, 7)\\textbackslash{}n \\\\\n",
       "\t24 & happy & (3, 6, 7)\\textbackslash{}n \\\\\n",
       "\t25 & happy & (3, 6, 7)\\textbackslash{}n \\\\\n",
       "\t26 & happy & (3, 6, 7)\\textbackslash{}n \\\\\n",
       "\t27 & happy & (3, 6, 7)\\textbackslash{}n \\\\\n",
       "\t28 & happy & (3, 6, 7)\\textbackslash{}n \\\\\n",
       "\t29 & happy & (3, 6, 7)\\textbackslash{}n \\\\\n",
       "\t30 & happy & (3, 6, 7)\\textbackslash{}n \\\\\n",
       "\t$\\dots$ & $\\dots$ & $\\dots$ \\\\\n",
       "\\end{tabular}\n"
      ],
      "text/plain": [
       "\u001b[1m201×2 DataFrame\u001b[0m\n",
       "\u001b[1m Row \u001b[0m│\u001b[1m mood      \u001b[0m\u001b[1m pos         \u001b[0m\n",
       "     │\u001b[90m agentsfe… \u001b[0m\u001b[90m Vect…       \u001b[0m\n",
       "─────┼────────────────────────\n",
       "   1 │ sad        (3, 6, 7)\\n\n",
       "   2 │ happy      (3, 6, 7)\\n\n",
       "   3 │ happy      (3, 6, 7)\\n\n",
       "   4 │ happy      (3, 6, 7)\\n\n",
       "   5 │ happy      (3, 6, 7)\\n\n",
       "   6 │ happy      (3, 6, 7)\\n\n",
       "   7 │ happy      (3, 6, 7)\\n\n",
       "   8 │ happy      (3, 6, 7)\\n\n",
       "   9 │ happy      (3, 6, 7)\\n\n",
       "  10 │ happy      (3, 6, 7)\\n\n",
       "  11 │ happy      (3, 6, 7)\\n\n",
       "  ⋮  │     ⋮           ⋮\n",
       " 192 │ happy      (3, 6, 7)\\n\n",
       " 193 │ happy      (3, 6, 7)\\n\n",
       " 194 │ happy      (3, 6, 7)\\n\n",
       " 195 │ happy      (3, 6, 7)\\n\n",
       " 196 │ happy      (3, 6, 7)\\n\n",
       " 197 │ happy      (3, 6, 7)\\n\n",
       " 198 │ happy      (3, 6, 7)\\n\n",
       " 199 │ happy      (3, 6, 7)\\n\n",
       " 200 │ happy      (3, 6, 7)\\n\n",
       " 201 │ happy      (3, 6, 7)\\n\n",
       "\u001b[36m              180 rows omitted\u001b[0m"
      ]
     },
     "execution_count": 11,
     "metadata": {},
     "output_type": "execute_result"
    }
   ],
   "source": [
    "df = get_agent_data(model.agents[1], model).record"
   ]
  },
  {
   "cell_type": "code",
   "execution_count": null,
   "metadata": {},
   "outputs": [],
   "source": []
  }
 ],
 "metadata": {
  "@webio": {
   "lastCommId": "ccf415bedaeb4482855af6cb8db55601",
   "lastKernelId": "c8985f39-da16-41e6-9a33-d70f5985d3f9"
  },
  "kernelspec": {
   "display_name": "Julia 1.9.2",
   "language": "julia",
   "name": "julia-1.9"
  },
  "language_info": {
   "file_extension": ".jl",
   "mimetype": "application/julia",
   "name": "julia",
   "version": "1.9.2"
  }
 },
 "nbformat": 4,
 "nbformat_minor": 4
}
