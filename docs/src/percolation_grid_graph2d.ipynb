{
 "cells": [
  {
   "cell_type": "code",
   "execution_count": 1,
   "metadata": {},
   "outputs": [
    {
     "name": "stderr",
     "output_type": "stream",
     "text": [
      "\u001b[32m\u001b[1m  Activating\u001b[22m\u001b[39m project at `~/Documents/EasyABM`\n"
     ]
    },
    {
     "data": {
      "application/vnd.webio.node+json": {
       "children": [],
       "instanceArgs": {
        "namespace": "html",
        "tag": "div"
       },
       "nodeType": "DOM",
       "props": {},
       "type": "node"
      },
      "text/html": [
       "<div style=\"padding: 1em; background-color: #f8d6da; border: 1px solid #f5c6cb; font-weight: bold;\">\n",
       "<p>The WebIO Jupyter extension was not detected. See the\n",
       "<a href=\"https://juliagizmos.github.io/WebIO.jl/latest/providers/ijulia/\" target=\"_blank\">\n",
       "    WebIO Jupyter integration documentation\n",
       "</a>\n",
       "for more information.\n",
       "</div>\n"
      ],
      "text/plain": [
       "WebIO._IJuliaInit()"
      ]
     },
     "metadata": {
      "application/vnd.webio.node+json": {
       "kernelId": "3e56fc4e-e90a-4d77-a8cd-50c583d74f33"
      }
     },
     "output_type": "display_data"
    }
   ],
   "source": [
    "using Pkg, Revise\n",
    "Pkg.activate(joinpath(@__DIR__,\"../..\"))\n",
    "using EasyABM"
   ]
  },
  {
   "cell_type": "code",
   "execution_count": 47,
   "metadata": {},
   "outputs": [],
   "source": [
    "graph = square_grid_graph(50,50);"
   ]
  },
  {
   "cell_type": "code",
   "execution_count": 19,
   "metadata": {},
   "outputs": [
    {
     "data": {
      "image/png": "[encoded data removed]",
      "text/plain": []
     },
     "execution_count": 19,
     "metadata": {},
     "output_type": "execute_result"
    }
   ],
   "source": [
    "draw_graph(graph)"
   ]
  },
  {
   "cell_type": "code",
   "execution_count": 48,
   "metadata": {
    "scrolled": true
   },
   "outputs": [
    {
     "data": {
      "text/plain": [
       "EasyABM GraphModel{EasyABM.StaticType, EasyABM.StaticType, EasyABM.SimGType}: In a {EasyABM.StaticType, EasyABM.StaticType} model both graph topology and agents number is fixed.\n"
      ]
     },
     "execution_count": 48,
     "metadata": {},
     "output_type": "execute_result"
    }
   ],
   "source": [
    "model = create_graph_model(graph, prob=0.3)"
   ]
  },
  {
   "cell_type": "code",
   "execution_count": 6,
   "metadata": {},
   "outputs": [
    {
     "data": {
      "text/plain": [
       "Col(0.0N0f8,0.0N0f8,0.0N0f8,0.0N0f8)\n"
      ]
     },
     "execution_count": 6,
     "metadata": {},
     "output_type": "execute_result"
    }
   ],
   "source": [
    "const visible = Col(0,0,0,1)\n",
    "const invisible = Col(0,0,0,0)"
   ]
  },
  {
   "cell_type": "code",
   "execution_count": 49,
   "metadata": {},
   "outputs": [
    {
     "data": {
      "text/plain": [
       "1-element Vector{Int64}:\n",
       " 190"
      ]
     },
     "execution_count": 49,
     "metadata": {},
     "output_type": "execute_result"
    }
   ],
   "source": [
    "start_node = 190\n",
    "nodes_to_explore = [start_node]"
   ]
  },
  {
   "cell_type": "code",
   "execution_count": 50,
   "metadata": {},
   "outputs": [],
   "source": [
    "function initialiser!(model)\n",
    "    empty!(nodes_to_explore)\n",
    "    push!(nodes_to_explore, start_node)\n",
    "    for ed in edges(model.graph)\n",
    "        model.graph.edgesprops[ed].color = visible\n",
    "        r = rand()\n",
    "        if r>model.parameters.prob\n",
    "            model.graph.edgesprops[ed].color = invisible\n",
    "        end\n",
    "    end\n",
    "    for nd in vertices(model.graph)\n",
    "        model.graph.nodesprops[nd].color = cl\"white\"\n",
    "    end\n",
    "end\n",
    "init_model!(model, initialiser= initialiser!, props_to_record = Dict(\"nodes\"=>Set([:color])))"
   ]
  },
  {
   "cell_type": "code",
   "execution_count": 51,
   "metadata": {
    "scrolled": true
   },
   "outputs": [
    {
     "data": {
      "text/plain": [
       "step_rule! (generic function with 1 method)"
      ]
     },
     "execution_count": 51,
     "metadata": {},
     "output_type": "execute_result"
    }
   ],
   "source": [
    "function is_visible(edge, model)\n",
    "    return model.graph.edgesprops[edge].color == visible\n",
    "end\n",
    "\n",
    "function step_rule!(model)\n",
    "    condition = true\n",
    "    n=20\n",
    "    while condition\n",
    "        if !isempty(nodes_to_explore)\n",
    "            if (n==0)\n",
    "                break\n",
    "            end\n",
    "            node = pop!(nodes_to_explore)\n",
    "            n-=1\n",
    "        else\n",
    "            break\n",
    "        end\n",
    "        if model.graph.nodesprops[node].color != cl\"red\"\n",
    "            if n==0\n",
    "            condition = false\n",
    "            end\n",
    "            model.graph.nodesprops[node].color = cl\"red\"\n",
    "            nbrs = neighbor_nodes(node, model)\n",
    "            for nbr in nbrs\n",
    "                edge = nbr>node ? (node, nbr) : (nbr, node)\n",
    "                if is_visible(edge, model)\n",
    "                    push!(nodes_to_explore, nbr)\n",
    "                end\n",
    "            end\n",
    "        end\n",
    "    end\n",
    "end"
   ]
  },
  {
   "cell_type": "code",
   "execution_count": 52,
   "metadata": {},
   "outputs": [],
   "source": [
    "run_model!(model, steps=100, step_rule = step_rule! )"
   ]
  },
  {
   "cell_type": "code",
   "execution_count": 53,
   "metadata": {
    "scrolled": true
   },
   "outputs": [
    {
     "data": {
      "application/vnd.webio.node+json": {
       "children": [
        {
         "children": [
          {
           "children": [
            {
             "children": [
              {
               "children": [
                {
                 "children": [
                  {
                   "children": [
                    {
                     "children": [
                      "time"
                     ],
                     "instanceArgs": {
                      "namespace": "html",
                      "tag": "label"
                     },
                     "nodeType": "DOM",
                     "props": {
                      "className": "interact ",
                      "style": {
                       "padding": "5px 10px 0px 10px"
                      }
                     },
                     "type": "node"
                    }
                   ],
                   "instanceArgs": {
                    "namespace": "html",
                    "tag": "div"
                   },
                   "nodeType": "DOM",
                   "props": {
                    "className": "interact-flex-row-left"
                   },
                   "type": "node"
                  },
                  {
                   "children": [
                    {
                     "children": [],
                     "instanceArgs": {
                      "namespace": "html",
                      "tag": "input"
                     },
                     "nodeType": "DOM",
                     "props": {
                      "attributes": {
                       "data-bind": "numericValue: index, valueUpdate: 'input', event: {change: function (){this.changes(this.changes()+1)}}",
                       "orient": "horizontal",
                       "type": "range"
                      },
                      "className": "slider slider is-fullwidth",
                      "max": 101,
                      "min": 1,
                      "step": 1,
                      "style": {}
                     },
                     "type": "node"
                    }
                   ],
                   "instanceArgs": {
                    "namespace": "html",
                    "tag": "div"
                   },
                   "nodeType": "DOM",
                   "props": {
                    "className": "interact-flex-row-center"
                   },
                   "type": "node"
                  },
                  {
                   "children": [
                    {
                     "children": [],
                     "instanceArgs": {
                      "namespace": "html",
                      "tag": "p"
                     },
                     "nodeType": "DOM",
                     "props": {
                      "attributes": {
                       "data-bind": "text: formatted_val"
                      }
                     },
                     "type": "node"
                    }
                   ],
                   "instanceArgs": {
                    "namespace": "html",
                    "tag": "div"
                   },
                   "nodeType": "DOM",
                   "props": {
                    "className": "interact-flex-row-right"
                   },
                   "type": "node"
                  }
                 ],
                 "instanceArgs": {
                  "namespace": "html",
                  "tag": "div"
                 },
                 "nodeType": "DOM",
                 "props": {
                  "className": "interact-flex-row interact-widget"
                 },
                 "type": "node"
                }
               ],
               "instanceArgs": {
                "handlers": {
                 "changes": [
                  "(function (val){return (val!=this.model[\"changes\"]()) ? (this.valueFromJulia[\"changes\"]=true, this.model[\"changes\"](val)) : undefined})"
                 ],
                 "index": [
                  "(function (val){return (val!=this.model[\"index\"]()) ? (this.valueFromJulia[\"index\"]=true, this.model[\"index\"](val)) : undefined})"
                 ]
                },
                "id": "1086430649426854201",
                "imports": {
                 "data": [
                  {
                   "name": "knockout",
                   "type": "js",
                   "url": "/assetserver/727383f2a47bd31570b7da84eee7b022dd6d7c78-knockout.js"
                  },
                  {
                   "name": "knockout_punches",
                   "type": "js",
                   "url": "/assetserver/382b41b3b1bd9f26f75861d360bad7f8beea211f-knockout_punches.js"
                  },
                  {
                   "name": null,
                   "type": "js",
                   "url": "/assetserver/5ab20f1060420992a9b82a65b735dee4d81ef413-all.js"
                  },
                  {
                   "name": null,
                   "type": "css",
                   "url": "/assetserver/1cc0ed62837210b80a182cc3676512f895dab686-style.css"
                  },
                  {
                   "name": null,
                   "type": "css",
                   "url": "/assetserver/2eee816f616df3549d7044d45e744fbf8d42bfa1-bulma_confined.min.css"
                  }
                 ],
                 "type": "async_block"
                },
                "mount_callbacks": [
                 "function () {\n    var handler = (function (ko, koPunches) {\n    ko.punches.enableAll();\n    ko.bindingHandlers.numericValue = {\n        init: function(element, valueAccessor, allBindings, data, context) {\n            var stringified = ko.observable(ko.unwrap(valueAccessor()));\n            stringified.subscribe(function(value) {\n                var val = parseFloat(value);\n                if (!isNaN(val)) {\n                    valueAccessor()(val);\n                }\n            });\n            valueAccessor().subscribe(function(value) {\n                var str = JSON.stringify(value);\n                if ((str == \"0\") && ([\"-0\", \"-0.\"].indexOf(stringified()) >= 0))\n                     return;\n                 if ([\"null\", \"\"].indexOf(str) >= 0)\n                     return;\n                stringified(str);\n            });\n            ko.applyBindingsToNode(\n                element,\n                {\n                    value: stringified,\n                    valueUpdate: allBindings.get('valueUpdate'),\n                },\n                context,\n            );\n        }\n    };\n    var json_data = {\"formatted_vals\":[\"1\",\"2\",\"3\",\"4\",\"5\",\"6\",\"7\",\"8\",\"9\",\"10\",\"11\",\"12\",\"13\",\"14\",\"15\",\"16\",\"17\",\"18\",\"19\",\"20\",\"21\",\"22\",\"23\",\"24\",\"25\",\"26\",\"27\",\"28\",\"29\",\"30\",\"31\",\"32\",\"33\",\"34\",\"35\",\"36\",\"37\",\"38\",\"39\",\"40\",\"41\",\"42\",\"43\",\"44\",\"45\",\"46\",\"47\",\"48\",\"49\",\"50\",\"51\",\"52\",\"53\",\"54\",\"55\",\"56\",\"57\",\"58\",\"59\",\"60\",\"61\",\"62\",\"63\",\"64\",\"65\",\"66\",\"67\",\"68\",\"69\",\"70\",\"71\",\"72\",\"73\",\"74\",\"75\",\"76\",\"77\",\"78\",\"79\",\"80\",\"81\",\"82\",\"83\",\"84\",\"85\",\"86\",\"87\",\"88\",\"89\",\"90\",\"91\",\"92\",\"93\",\"94\",\"95\",\"96\",\"97\",\"98\",\"99\",\"100\",\"101\"],\"changes\":WebIO.getval({\"name\":\"changes\",\"scope\":\"1086430649426854201\",\"id\":\"7740880684107547095\",\"type\":\"observable\"}),\"index\":WebIO.getval({\"name\":\"index\",\"scope\":\"1086430649426854201\",\"id\":\"9928902268133086538\",\"type\":\"observable\"})};\n    var self = this;\n    function AppViewModel() {\n        for (var key in json_data) {\n            var el = json_data[key];\n            this[key] = Array.isArray(el) ? ko.observableArray(el) : ko.observable(el);\n        }\n        \n        [this[\"formatted_val\"]=ko.computed(    function(){\n        return this.formatted_vals()[parseInt(this.index())-(1)];\n    }\n,this)]\n        [this[\"changes\"].subscribe((function (val){!(this.valueFromJulia[\"changes\"]) ? (WebIO.setval({\"name\":\"changes\",\"scope\":\"1086430649426854201\",\"id\":\"7740880684107547095\",\"type\":\"observable\"},val)) : undefined; return this.valueFromJulia[\"changes\"]=false}),self),this[\"index\"].subscribe((function (val){!(this.valueFromJulia[\"index\"]) ? (WebIO.setval({\"name\":\"index\",\"scope\":\"1086430649426854201\",\"id\":\"9928902268133086538\",\"type\":\"observable\"},val)) : undefined; return this.valueFromJulia[\"index\"]=false}),self)]\n        \n    }\n    self.model = new AppViewModel();\n    self.valueFromJulia = {};\n    for (var key in json_data) {\n        self.valueFromJulia[key] = false;\n    }\n    ko.applyBindings(self.model, self.dom);\n}\n);\n    (WebIO.importBlock({\"data\":[{\"name\":\"knockout\",\"type\":\"js\",\"url\":\"/assetserver/727383f2a47bd31570b7da84eee7b022dd6d7c78-knockout.js\"},{\"name\":\"knockout_punches\",\"type\":\"js\",\"url\":\"/assetserver/382b41b3b1bd9f26f75861d360bad7f8beea211f-knockout_punches.js\"}],\"type\":\"async_block\"})).then((imports) => handler.apply(this, imports));\n}\n"
                ],
                "observables": {
                 "changes": {
                  "id": "7740880684107547095",
                  "sync": false,
                  "value": 0
                 },
                 "index": {
                  "id": "9928902268133086538",
                  "sync": true,
                  "value": 51
                 }
                },
                "systemjs_options": null
               },
               "nodeType": "Scope",
               "props": {},
               "type": "node"
              }
             ],
             "instanceArgs": {
              "namespace": "html",
              "tag": "div"
             },
             "nodeType": "DOM",
             "props": {
              "className": "field interact-widget"
             },
             "type": "node"
            },
            {
             "children": [
              {
               "children": [
                {
                 "children": [
                  {
                   "children": [
                    {
                     "children": [
                      "scale"
                     ],
                     "instanceArgs": {
                      "namespace": "html",
                      "tag": "label"
                     },
                     "nodeType": "DOM",
                     "props": {
                      "className": "interact ",
                      "style": {
                       "padding": "5px 10px 0px 10px"
                      }
                     },
                     "type": "node"
                    }
                   ],
                   "instanceArgs": {
                    "namespace": "html",
                    "tag": "div"
                   },
                   "nodeType": "DOM",
                   "props": {
                    "className": "interact-flex-row-left"
                   },
                   "type": "node"
                  },
                  {
                   "children": [
                    {
                     "children": [],
                     "instanceArgs": {
                      "namespace": "html",
                      "tag": "input"
                     },
                     "nodeType": "DOM",
                     "props": {
                      "attributes": {
                       "data-bind": "numericValue: index, valueUpdate: 'input', event: {change: function (){this.changes(this.changes()+1)}}",
                       "orient": "horizontal",
                       "type": "range"
                      },
                      "className": "slider slider is-fullwidth",
                      "max": 20,
                      "min": 1,
                      "step": 1,
                      "style": {}
                     },
                     "type": "node"
                    }
                   ],
                   "instanceArgs": {
                    "namespace": "html",
                    "tag": "div"
                   },
                   "nodeType": "DOM",
                   "props": {
                    "className": "interact-flex-row-center"
                   },
                   "type": "node"
                  },
                  {
                   "children": [
                    {
                     "children": [],
                     "instanceArgs": {
                      "namespace": "html",
                      "tag": "p"
                     },
                     "nodeType": "DOM",
                     "props": {
                      "attributes": {
                       "data-bind": "text: formatted_val"
                      }
                     },
                     "type": "node"
                    }
                   ],
                   "instanceArgs": {
                    "namespace": "html",
                    "tag": "div"
                   },
                   "nodeType": "DOM",
                   "props": {
                    "className": "interact-flex-row-right"
                   },
                   "type": "node"
                  }
                 ],
                 "instanceArgs": {
                  "namespace": "html",
                  "tag": "div"
                 },
                 "nodeType": "DOM",
                 "props": {
                  "className": "interact-flex-row interact-widget"
                 },
                 "type": "node"
                }
               ],
               "instanceArgs": {
                "handlers": {
                 "changes": [
                  "(function (val){return (val!=this.model[\"changes\"]()) ? (this.valueFromJulia[\"changes\"]=true, this.model[\"changes\"](val)) : undefined})"
                 ],
                 "index": [
                  "(function (val){return (val!=this.model[\"index\"]()) ? (this.valueFromJulia[\"index\"]=true, this.model[\"index\"](val)) : undefined})"
                 ]
                },
                "id": "1444910984012672743",
                "imports": {
                 "data": [
                  {
                   "name": "knockout",
                   "type": "js",
                   "url": "/assetserver/727383f2a47bd31570b7da84eee7b022dd6d7c78-knockout.js"
                  },
                  {
                   "name": "knockout_punches",
                   "type": "js",
                   "url": "/assetserver/382b41b3b1bd9f26f75861d360bad7f8beea211f-knockout_punches.js"
                  },
                  {
                   "name": null,
                   "type": "js",
                   "url": "/assetserver/5ab20f1060420992a9b82a65b735dee4d81ef413-all.js"
                  },
                  {
                   "name": null,
                   "type": "css",
                   "url": "/assetserver/1cc0ed62837210b80a182cc3676512f895dab686-style.css"
                  },
                  {
                   "name": null,
                   "type": "css",
                   "url": "/assetserver/2eee816f616df3549d7044d45e744fbf8d42bfa1-bulma_confined.min.css"
                  }
                 ],
                 "type": "async_block"
                },
                "mount_callbacks": [
                 "function () {\n    var handler = (function (ko, koPunches) {\n    ko.punches.enableAll();\n    ko.bindingHandlers.numericValue = {\n        init: function(element, valueAccessor, allBindings, data, context) {\n            var stringified = ko.observable(ko.unwrap(valueAccessor()));\n            stringified.subscribe(function(value) {\n                var val = parseFloat(value);\n                if (!isNaN(val)) {\n                    valueAccessor()(val);\n                }\n            });\n            valueAccessor().subscribe(function(value) {\n                var str = JSON.stringify(value);\n                if ((str == \"0\") && ([\"-0\", \"-0.\"].indexOf(stringified()) >= 0))\n                     return;\n                 if ([\"null\", \"\"].indexOf(str) >= 0)\n                     return;\n                stringified(str);\n            });\n            ko.applyBindingsToNode(\n                element,\n                {\n                    value: stringified,\n                    valueUpdate: allBindings.get('valueUpdate'),\n                },\n                context,\n            );\n        }\n    };\n    var json_data = {\"formatted_vals\":[\"0.1\",\"0.2\",\"0.3\",\"0.4\",\"0.5\",\"0.6\",\"0.7\",\"0.8\",\"0.9\",\"1.0\",\"1.1\",\"1.2\",\"1.3\",\"1.4\",\"1.5\",\"1.6\",\"1.7\",\"1.8\",\"1.9\",\"2.0\"],\"changes\":WebIO.getval({\"name\":\"changes\",\"scope\":\"1444910984012672743\",\"id\":\"12363834910018543230\",\"type\":\"observable\"}),\"index\":WebIO.getval({\"name\":\"index\",\"scope\":\"1444910984012672743\",\"id\":\"15871441398425555442\",\"type\":\"observable\"})};\n    var self = this;\n    function AppViewModel() {\n        for (var key in json_data) {\n            var el = json_data[key];\n            this[key] = Array.isArray(el) ? ko.observableArray(el) : ko.observable(el);\n        }\n        \n        [this[\"formatted_val\"]=ko.computed(    function(){\n        return this.formatted_vals()[parseInt(this.index())-(1)];\n    }\n,this)]\n        [this[\"changes\"].subscribe((function (val){!(this.valueFromJulia[\"changes\"]) ? (WebIO.setval({\"name\":\"changes\",\"scope\":\"1444910984012672743\",\"id\":\"12363834910018543230\",\"type\":\"observable\"},val)) : undefined; return this.valueFromJulia[\"changes\"]=false}),self),this[\"index\"].subscribe((function (val){!(this.valueFromJulia[\"index\"]) ? (WebIO.setval({\"name\":\"index\",\"scope\":\"1444910984012672743\",\"id\":\"15871441398425555442\",\"type\":\"observable\"},val)) : undefined; return this.valueFromJulia[\"index\"]=false}),self)]\n        \n    }\n    self.model = new AppViewModel();\n    self.valueFromJulia = {};\n    for (var key in json_data) {\n        self.valueFromJulia[key] = false;\n    }\n    ko.applyBindings(self.model, self.dom);\n}\n);\n    (WebIO.importBlock({\"data\":[{\"name\":\"knockout\",\"type\":\"js\",\"url\":\"/assetserver/727383f2a47bd31570b7da84eee7b022dd6d7c78-knockout.js\"},{\"name\":\"knockout_punches\",\"type\":\"js\",\"url\":\"/assetserver/382b41b3b1bd9f26f75861d360bad7f8beea211f-knockout_punches.js\"}],\"type\":\"async_block\"})).then((imports) => handler.apply(this, imports));\n}\n"
                ],
                "observables": {
                 "changes": {
                  "id": "12363834910018543230",
                  "sync": false,
                  "value": 0
                 },
                 "index": {
                  "id": "15871441398425555442",
                  "sync": true,
                  "value": 10
                 }
                },
                "systemjs_options": null
               },
               "nodeType": "Scope",
               "props": {},
               "type": "node"
              }
             ],
             "instanceArgs": {
              "namespace": "html",
              "tag": "div"
             },
             "nodeType": "DOM",
             "props": {
              "className": "field interact-widget"
             },
             "type": "node"
            },
            {
             "children": [
              {
               "children": [
                {
                 "children": [
                  {
                   "children": [],
                   "instanceArgs": {
                    "namespace": "html",
                    "tag": "div"
                   },
                   "nodeType": "DOM",
                   "props": {
                    "id": "container"
                   },
                   "type": "node"
                  }
                 ],
                 "instanceArgs": {
                  "handlers": {
                   "value": [
                    "(function (txt){return this.k.render(txt,this.container)})"
                   ]
                  },
                  "id": "13706242531819596489",
                  "imports": {
                   "data": [
                    {
                     "name": null,
                     "type": "js",
                     "url": "/assetserver/dd22ed1bf1896c2748f3fe616ce0b838adc895c1-katex.min.js"
                    },
                    {
                     "name": null,
                     "type": "css",
                     "url": "/assetserver/46517a424aa5e6cffc1360d7e0848b601c584ee3-katex.min.css"
                    }
                   ],
                   "type": "async_block"
                  },
                  "mount_callbacks": [
                   "function () {\n    var handler = ((function (k){this.k=k; this.container=this.dom.querySelector(\"#container\"); return k.render(\"\\\\;\\\\;\",this.container)}));\n    (WebIO.importBlock({\"data\":[{\"name\":null,\"type\":\"js\",\"url\":\"/assetserver/dd22ed1bf1896c2748f3fe616ce0b838adc895c1-katex.min.js\"},{\"name\":null,\"type\":\"css\",\"url\":\"/assetserver/46517a424aa5e6cffc1360d7e0848b601c584ee3-katex.min.css\"}],\"type\":\"async_block\"})).then((imports) => handler.apply(this, imports));\n}\n"
                  ],
                  "observables": {
                   "value": {
                    "id": "15474518390227095024",
                    "sync": false,
                    "value": "\\;\\;"
                   }
                  },
                  "systemjs_options": null
                 },
                 "nodeType": "Scope",
                 "props": {},
                 "type": "node"
                }
               ],
               "instanceArgs": {
                "namespace": "html",
                "tag": "div"
               },
               "nodeType": "DOM",
               "props": {
                "className": "interact-widget"
               },
               "type": "node"
              },
              {
               "children": [
                {
                 "children": [
                  {
                   "children": [
                    "run"
                   ],
                   "instanceArgs": {
                    "namespace": "html",
                    "tag": "button"
                   },
                   "nodeType": "DOM",
                   "props": {
                    "attributes": {
                     "data-bind": "click: function (){this.clicks(this.clicks()+1)}, css: {'is-loading' : loading}"
                    },
                    "className": "is-medium button is-primary",
                    "style": {}
                   },
                   "type": "node"
                  }
                 ],
                 "instanceArgs": {
                  "handlers": {
                   "clicks": [
                    "(function (val){return (val!=this.model[\"clicks\"]()) ? (this.valueFromJulia[\"clicks\"]=true, this.model[\"clicks\"](val)) : undefined})"
                   ],
                   "loading": [
                    "(function (val){return (val!=this.model[\"loading\"]()) ? (this.valueFromJulia[\"loading\"]=true, this.model[\"loading\"](val)) : undefined})"
                   ]
                  },
                  "id": "4554963286293290229",
                  "imports": {
                   "data": [
                    {
                     "name": "knockout",
                     "type": "js",
                     "url": "/assetserver/727383f2a47bd31570b7da84eee7b022dd6d7c78-knockout.js"
                    },
                    {
                     "name": "knockout_punches",
                     "type": "js",
                     "url": "/assetserver/382b41b3b1bd9f26f75861d360bad7f8beea211f-knockout_punches.js"
                    },
                    {
                     "name": null,
                     "type": "js",
                     "url": "/assetserver/5ab20f1060420992a9b82a65b735dee4d81ef413-all.js"
                    },
                    {
                     "name": null,
                     "type": "css",
                     "url": "/assetserver/1cc0ed62837210b80a182cc3676512f895dab686-style.css"
                    },
                    {
                     "name": null,
                     "type": "css",
                     "url": "/assetserver/2eee816f616df3549d7044d45e744fbf8d42bfa1-bulma_confined.min.css"
                    }
                   ],
                   "type": "async_block"
                  },
                  "mount_callbacks": [
                   "function () {\n    var handler = (function (ko, koPunches) {\n    ko.punches.enableAll();\n    ko.bindingHandlers.numericValue = {\n        init: function(element, valueAccessor, allBindings, data, context) {\n            var stringified = ko.observable(ko.unwrap(valueAccessor()));\n            stringified.subscribe(function(value) {\n                var val = parseFloat(value);\n                if (!isNaN(val)) {\n                    valueAccessor()(val);\n                }\n            });\n            valueAccessor().subscribe(function(value) {\n                var str = JSON.stringify(value);\n                if ((str == \"0\") && ([\"-0\", \"-0.\"].indexOf(stringified()) >= 0))\n                     return;\n                 if ([\"null\", \"\"].indexOf(str) >= 0)\n                     return;\n                stringified(str);\n            });\n            ko.applyBindingsToNode(\n                element,\n                {\n                    value: stringified,\n                    valueUpdate: allBindings.get('valueUpdate'),\n                },\n                context,\n            );\n        }\n    };\n    var json_data = {\"loading\":WebIO.getval({\"name\":\"loading\",\"scope\":\"4554963286293290229\",\"id\":\"10786438094641305429\",\"type\":\"observable\"}),\"clicks\":WebIO.getval({\"name\":\"clicks\",\"scope\":\"4554963286293290229\",\"id\":\"3081826366801857785\",\"type\":\"observable\"})};\n    var self = this;\n    function AppViewModel() {\n        for (var key in json_data) {\n            var el = json_data[key];\n            this[key] = Array.isArray(el) ? ko.observableArray(el) : ko.observable(el);\n        }\n        \n        \n        [this[\"loading\"].subscribe((function (val){!(this.valueFromJulia[\"loading\"]) ? (WebIO.setval({\"name\":\"loading\",\"scope\":\"4554963286293290229\",\"id\":\"10786438094641305429\",\"type\":\"observable\"},val)) : undefined; return this.valueFromJulia[\"loading\"]=false}),self),this[\"clicks\"].subscribe((function (val){!(this.valueFromJulia[\"clicks\"]) ? (WebIO.setval({\"name\":\"clicks\",\"scope\":\"4554963286293290229\",\"id\":\"3081826366801857785\",\"type\":\"observable\"},val)) : undefined; return this.valueFromJulia[\"clicks\"]=false}),self)]\n        \n    }\n    self.model = new AppViewModel();\n    self.valueFromJulia = {};\n    for (var key in json_data) {\n        self.valueFromJulia[key] = false;\n    }\n    ko.applyBindings(self.model, self.dom);\n}\n);\n    (WebIO.importBlock({\"data\":[{\"name\":\"knockout\",\"type\":\"js\",\"url\":\"/assetserver/727383f2a47bd31570b7da84eee7b022dd6d7c78-knockout.js\"},{\"name\":\"knockout_punches\",\"type\":\"js\",\"url\":\"/assetserver/382b41b3b1bd9f26f75861d360bad7f8beea211f-knockout_punches.js\"}],\"type\":\"async_block\"})).then((imports) => handler.apply(this, imports));\n}\n"
                  ],
                  "observables": {
                   "clicks": {
                    "id": "3081826366801857785",
                    "sync": true,
                    "value": 0
                   },
                   "loading": {
                    "id": "10786438094641305429",
                    "sync": false,
                    "value": false
                   }
                  },
                  "systemjs_options": null
                 },
                 "nodeType": "Scope",
                 "props": {},
                 "type": "node"
                }
               ],
               "instanceArgs": {
                "namespace": "html",
                "tag": "div"
               },
               "nodeType": "DOM",
               "props": {
                "className": "field interact-widget"
               },
               "type": "node"
              },
              {
               "children": [
                {
                 "children": [
                  {
                   "children": [],
                   "instanceArgs": {
                    "namespace": "html",
                    "tag": "div"
                   },
                   "nodeType": "DOM",
                   "props": {
                    "id": "container"
                   },
                   "type": "node"
                  }
                 ],
                 "instanceArgs": {
                  "handlers": {
                   "value": [
                    "(function (txt){return this.k.render(txt,this.container)})"
                   ]
                  },
                  "id": "13706242531819596489",
                  "imports": {
                   "data": [
                    {
                     "name": null,
                     "type": "js",
                     "url": "/assetserver/dd22ed1bf1896c2748f3fe616ce0b838adc895c1-katex.min.js"
                    },
                    {
                     "name": null,
                     "type": "css",
                     "url": "/assetserver/46517a424aa5e6cffc1360d7e0848b601c584ee3-katex.min.css"
                    }
                   ],
                   "type": "async_block"
                  },
                  "mount_callbacks": [
                   "function () {\n    var handler = ((function (k){this.k=k; this.container=this.dom.querySelector(\"#container\"); return k.render(\"\\\\;\\\\;\",this.container)}));\n    (WebIO.importBlock({\"data\":[{\"name\":null,\"type\":\"js\",\"url\":\"/assetserver/dd22ed1bf1896c2748f3fe616ce0b838adc895c1-katex.min.js\"},{\"name\":null,\"type\":\"css\",\"url\":\"/assetserver/46517a424aa5e6cffc1360d7e0848b601c584ee3-katex.min.css\"}],\"type\":\"async_block\"})).then((imports) => handler.apply(this, imports));\n}\n"
                  ],
                  "observables": {
                   "value": {
                    "id": "15474518390227095024",
                    "sync": false,
                    "value": "\\;\\;"
                   }
                  },
                  "systemjs_options": null
                 },
                 "nodeType": "Scope",
                 "props": {},
                 "type": "node"
                }
               ],
               "instanceArgs": {
                "namespace": "html",
                "tag": "div"
               },
               "nodeType": "DOM",
               "props": {
                "className": "interact-widget"
               },
               "type": "node"
              },
              {
               "children": [
                {
                 "children": [
                  {
                   "children": [
                    "stop"
                   ],
                   "instanceArgs": {
                    "namespace": "html",
                    "tag": "button"
                   },
                   "nodeType": "DOM",
                   "props": {
                    "attributes": {
                     "data-bind": "click: function (){this.clicks(this.clicks()+1)}, css: {'is-loading' : loading}"
                    },
                    "className": "is-medium button is-primary",
                    "style": {}
                   },
                   "type": "node"
                  }
                 ],
                 "instanceArgs": {
                  "handlers": {
                   "clicks": [
                    "(function (val){return (val!=this.model[\"clicks\"]()) ? (this.valueFromJulia[\"clicks\"]=true, this.model[\"clicks\"](val)) : undefined})"
                   ],
                   "loading": [
                    "(function (val){return (val!=this.model[\"loading\"]()) ? (this.valueFromJulia[\"loading\"]=true, this.model[\"loading\"](val)) : undefined})"
                   ]
                  },
                  "id": "1838745674771947372",
                  "imports": {
                   "data": [
                    {
                     "name": "knockout",
                     "type": "js",
                     "url": "/assetserver/727383f2a47bd31570b7da84eee7b022dd6d7c78-knockout.js"
                    },
                    {
                     "name": "knockout_punches",
                     "type": "js",
                     "url": "/assetserver/382b41b3b1bd9f26f75861d360bad7f8beea211f-knockout_punches.js"
                    },
                    {
                     "name": null,
                     "type": "js",
                     "url": "/assetserver/5ab20f1060420992a9b82a65b735dee4d81ef413-all.js"
                    },
                    {
                     "name": null,
                     "type": "css",
                     "url": "/assetserver/1cc0ed62837210b80a182cc3676512f895dab686-style.css"
                    },
                    {
                     "name": null,
                     "type": "css",
                     "url": "/assetserver/2eee816f616df3549d7044d45e744fbf8d42bfa1-bulma_confined.min.css"
                    }
                   ],
                   "type": "async_block"
                  },
                  "mount_callbacks": [
                   "function () {\n    var handler = (function (ko, koPunches) {\n    ko.punches.enableAll();\n    ko.bindingHandlers.numericValue = {\n        init: function(element, valueAccessor, allBindings, data, context) {\n            var stringified = ko.observable(ko.unwrap(valueAccessor()));\n            stringified.subscribe(function(value) {\n                var val = parseFloat(value);\n                if (!isNaN(val)) {\n                    valueAccessor()(val);\n                }\n            });\n            valueAccessor().subscribe(function(value) {\n                var str = JSON.stringify(value);\n                if ((str == \"0\") && ([\"-0\", \"-0.\"].indexOf(stringified()) >= 0))\n                     return;\n                 if ([\"null\", \"\"].indexOf(str) >= 0)\n                     return;\n                stringified(str);\n            });\n            ko.applyBindingsToNode(\n                element,\n                {\n                    value: stringified,\n                    valueUpdate: allBindings.get('valueUpdate'),\n                },\n                context,\n            );\n        }\n    };\n    var json_data = {\"loading\":WebIO.getval({\"name\":\"loading\",\"scope\":\"1838745674771947372\",\"id\":\"9942454822044748088\",\"type\":\"observable\"}),\"clicks\":WebIO.getval({\"name\":\"clicks\",\"scope\":\"1838745674771947372\",\"id\":\"4266140032739665427\",\"type\":\"observable\"})};\n    var self = this;\n    function AppViewModel() {\n        for (var key in json_data) {\n            var el = json_data[key];\n            this[key] = Array.isArray(el) ? ko.observableArray(el) : ko.observable(el);\n        }\n        \n        \n        [this[\"loading\"].subscribe((function (val){!(this.valueFromJulia[\"loading\"]) ? (WebIO.setval({\"name\":\"loading\",\"scope\":\"1838745674771947372\",\"id\":\"9942454822044748088\",\"type\":\"observable\"},val)) : undefined; return this.valueFromJulia[\"loading\"]=false}),self),this[\"clicks\"].subscribe((function (val){!(this.valueFromJulia[\"clicks\"]) ? (WebIO.setval({\"name\":\"clicks\",\"scope\":\"1838745674771947372\",\"id\":\"4266140032739665427\",\"type\":\"observable\"},val)) : undefined; return this.valueFromJulia[\"clicks\"]=false}),self)]\n        \n    }\n    self.model = new AppViewModel();\n    self.valueFromJulia = {};\n    for (var key in json_data) {\n        self.valueFromJulia[key] = false;\n    }\n    ko.applyBindings(self.model, self.dom);\n}\n);\n    (WebIO.importBlock({\"data\":[{\"name\":\"knockout\",\"type\":\"js\",\"url\":\"/assetserver/727383f2a47bd31570b7da84eee7b022dd6d7c78-knockout.js\"},{\"name\":\"knockout_punches\",\"type\":\"js\",\"url\":\"/assetserver/382b41b3b1bd9f26f75861d360bad7f8beea211f-knockout_punches.js\"}],\"type\":\"async_block\"})).then((imports) => handler.apply(this, imports));\n}\n"
                  ],
                  "observables": {
                   "clicks": {
                    "id": "4266140032739665427",
                    "sync": true,
                    "value": 0
                   },
                   "loading": {
                    "id": "9942454822044748088",
                    "sync": false,
                    "value": false
                   }
                  },
                  "systemjs_options": null
                 },
                 "nodeType": "Scope",
                 "props": {},
                 "type": "node"
                }
               ],
               "instanceArgs": {
                "namespace": "html",
                "tag": "div"
               },
               "nodeType": "DOM",
               "props": {
                "className": "field interact-widget"
               },
               "type": "node"
              },
              {
               "children": [
                {
                 "children": [
                  {
                   "children": [],
                   "instanceArgs": {
                    "namespace": "html",
                    "tag": "div"
                   },
                   "nodeType": "DOM",
                   "props": {
                    "id": "container"
                   },
                   "type": "node"
                  }
                 ],
                 "instanceArgs": {
                  "handlers": {
                   "value": [
                    "(function (txt){return this.k.render(txt,this.container)})"
                   ]
                  },
                  "id": "13706242531819596489",
                  "imports": {
                   "data": [
                    {
                     "name": null,
                     "type": "js",
                     "url": "/assetserver/dd22ed1bf1896c2748f3fe616ce0b838adc895c1-katex.min.js"
                    },
                    {
                     "name": null,
                     "type": "css",
                     "url": "/assetserver/46517a424aa5e6cffc1360d7e0848b601c584ee3-katex.min.css"
                    }
                   ],
                   "type": "async_block"
                  },
                  "mount_callbacks": [
                   "function () {\n    var handler = ((function (k){this.k=k; this.container=this.dom.querySelector(\"#container\"); return k.render(\"\\\\;\\\\;\",this.container)}));\n    (WebIO.importBlock({\"data\":[{\"name\":null,\"type\":\"js\",\"url\":\"/assetserver/dd22ed1bf1896c2748f3fe616ce0b838adc895c1-katex.min.js\"},{\"name\":null,\"type\":\"css\",\"url\":\"/assetserver/46517a424aa5e6cffc1360d7e0848b601c584ee3-katex.min.css\"}],\"type\":\"async_block\"})).then((imports) => handler.apply(this, imports));\n}\n"
                  ],
                  "observables": {
                   "value": {
                    "id": "15474518390227095024",
                    "sync": false,
                    "value": "\\;\\;"
                   }
                  },
                  "systemjs_options": null
                 },
                 "nodeType": "Scope",
                 "props": {},
                 "type": "node"
                }
               ],
               "instanceArgs": {
                "namespace": "html",
                "tag": "div"
               },
               "nodeType": "DOM",
               "props": {
                "className": "interact-widget"
               },
               "type": "node"
              },
              {
               "children": [
                {
                 "children": [
                  {
                   "children": [
                    "save"
                   ],
                   "instanceArgs": {
                    "namespace": "html",
                    "tag": "button"
                   },
                   "nodeType": "DOM",
                   "props": {
                    "attributes": {
                     "data-bind": "click: function (){this.clicks(this.clicks()+1)}, css: {'is-loading' : loading}"
                    },
                    "className": "is-medium button is-primary",
                    "style": {}
                   },
                   "type": "node"
                  }
                 ],
                 "instanceArgs": {
                  "handlers": {
                   "clicks": [
                    "(function (val){return (val!=this.model[\"clicks\"]()) ? (this.valueFromJulia[\"clicks\"]=true, this.model[\"clicks\"](val)) : undefined})"
                   ],
                   "loading": [
                    "(function (val){return (val!=this.model[\"loading\"]()) ? (this.valueFromJulia[\"loading\"]=true, this.model[\"loading\"](val)) : undefined})"
                   ]
                  },
                  "id": "11284474982609796899",
                  "imports": {
                   "data": [
                    {
                     "name": "knockout",
                     "type": "js",
                     "url": "/assetserver/727383f2a47bd31570b7da84eee7b022dd6d7c78-knockout.js"
                    },
                    {
                     "name": "knockout_punches",
                     "type": "js",
                     "url": "/assetserver/382b41b3b1bd9f26f75861d360bad7f8beea211f-knockout_punches.js"
                    },
                    {
                     "name": null,
                     "type": "js",
                     "url": "/assetserver/5ab20f1060420992a9b82a65b735dee4d81ef413-all.js"
                    },
                    {
                     "name": null,
                     "type": "css",
                     "url": "/assetserver/1cc0ed62837210b80a182cc3676512f895dab686-style.css"
                    },
                    {
                     "name": null,
                     "type": "css",
                     "url": "/assetserver/2eee816f616df3549d7044d45e744fbf8d42bfa1-bulma_confined.min.css"
                    }
                   ],
                   "type": "async_block"
                  },
                  "mount_callbacks": [
                   "function () {\n    var handler = (function (ko, koPunches) {\n    ko.punches.enableAll();\n    ko.bindingHandlers.numericValue = {\n        init: function(element, valueAccessor, allBindings, data, context) {\n            var stringified = ko.observable(ko.unwrap(valueAccessor()));\n            stringified.subscribe(function(value) {\n                var val = parseFloat(value);\n                if (!isNaN(val)) {\n                    valueAccessor()(val);\n                }\n            });\n            valueAccessor().subscribe(function(value) {\n                var str = JSON.stringify(value);\n                if ((str == \"0\") && ([\"-0\", \"-0.\"].indexOf(stringified()) >= 0))\n                     return;\n                 if ([\"null\", \"\"].indexOf(str) >= 0)\n                     return;\n                stringified(str);\n            });\n            ko.applyBindingsToNode(\n                element,\n                {\n                    value: stringified,\n                    valueUpdate: allBindings.get('valueUpdate'),\n                },\n                context,\n            );\n        }\n    };\n    var json_data = {\"loading\":WebIO.getval({\"name\":\"loading\",\"scope\":\"11284474982609796899\",\"id\":\"17331222008372044614\",\"type\":\"observable\"}),\"clicks\":WebIO.getval({\"name\":\"clicks\",\"scope\":\"11284474982609796899\",\"id\":\"4985382463413465311\",\"type\":\"observable\"})};\n    var self = this;\n    function AppViewModel() {\n        for (var key in json_data) {\n            var el = json_data[key];\n            this[key] = Array.isArray(el) ? ko.observableArray(el) : ko.observable(el);\n        }\n        \n        \n        [this[\"loading\"].subscribe((function (val){!(this.valueFromJulia[\"loading\"]) ? (WebIO.setval({\"name\":\"loading\",\"scope\":\"11284474982609796899\",\"id\":\"17331222008372044614\",\"type\":\"observable\"},val)) : undefined; return this.valueFromJulia[\"loading\"]=false}),self),this[\"clicks\"].subscribe((function (val){!(this.valueFromJulia[\"clicks\"]) ? (WebIO.setval({\"name\":\"clicks\",\"scope\":\"11284474982609796899\",\"id\":\"4985382463413465311\",\"type\":\"observable\"},val)) : undefined; return this.valueFromJulia[\"clicks\"]=false}),self)]\n        \n    }\n    self.model = new AppViewModel();\n    self.valueFromJulia = {};\n    for (var key in json_data) {\n        self.valueFromJulia[key] = false;\n    }\n    ko.applyBindings(self.model, self.dom);\n}\n);\n    (WebIO.importBlock({\"data\":[{\"name\":\"knockout\",\"type\":\"js\",\"url\":\"/assetserver/727383f2a47bd31570b7da84eee7b022dd6d7c78-knockout.js\"},{\"name\":\"knockout_punches\",\"type\":\"js\",\"url\":\"/assetserver/382b41b3b1bd9f26f75861d360bad7f8beea211f-knockout_punches.js\"}],\"type\":\"async_block\"})).then((imports) => handler.apply(this, imports));\n}\n"
                  ],
                  "observables": {
                   "clicks": {
                    "id": "4985382463413465311",
                    "sync": true,
                    "value": 0
                   },
                   "loading": {
                    "id": "17331222008372044614",
                    "sync": false,
                    "value": false
                   }
                  },
                  "systemjs_options": null
                 },
                 "nodeType": "Scope",
                 "props": {},
                 "type": "node"
                }
               ],
               "instanceArgs": {
                "namespace": "html",
                "tag": "div"
               },
               "nodeType": "DOM",
               "props": {
                "className": "field interact-widget"
               },
               "type": "node"
              }
             ],
             "instanceArgs": {
              "namespace": "html",
              "tag": "div"
             },
             "nodeType": "DOM",
             "props": {
              "style": {
               "display": "flex",
               "flex-direction": "row"
              }
             },
             "type": "node"
            }
           ],
           "instanceArgs": {
            "namespace": "html",
            "tag": "div"
           },
           "nodeType": "DOM",
           "props": {
            "style": {
             "display": "flex",
             "flex-direction": "column"
            }
           },
           "type": "node"
          },
          {
           "children": [
            {
             "children": [
              {
               "children": [],
               "instanceArgs": {
                "namespace": "html",
                "tag": "div"
               },
               "nodeType": "DOM",
               "props": {
                "id": "container"
               },
               "type": "node"
              }
             ],
             "instanceArgs": {
              "handlers": {
               "value": [
                "(function (txt){return this.k.render(txt,this.container)})"
               ]
              },
              "id": "13706242531819596489",
              "imports": {
               "data": [
                {
                 "name": null,
                 "type": "js",
                 "url": "/assetserver/dd22ed1bf1896c2748f3fe616ce0b838adc895c1-katex.min.js"
                },
                {
                 "name": null,
                 "type": "css",
                 "url": "/assetserver/46517a424aa5e6cffc1360d7e0848b601c584ee3-katex.min.css"
                }
               ],
               "type": "async_block"
              },
              "mount_callbacks": [
               "function () {\n    var handler = ((function (k){this.k=k; this.container=this.dom.querySelector(\"#container\"); return k.render(\"\\\\;\\\\;\",this.container)}));\n    (WebIO.importBlock({\"data\":[{\"name\":null,\"type\":\"js\",\"url\":\"/assetserver/dd22ed1bf1896c2748f3fe616ce0b838adc895c1-katex.min.js\"},{\"name\":null,\"type\":\"css\",\"url\":\"/assetserver/46517a424aa5e6cffc1360d7e0848b601c584ee3-katex.min.css\"}],\"type\":\"async_block\"})).then((imports) => handler.apply(this, imports));\n}\n"
              ],
              "observables": {
               "value": {
                "id": "15474518390227095024",
                "sync": false,
                "value": "\\;\\;"
               }
              },
              "systemjs_options": null
             },
             "nodeType": "Scope",
             "props": {},
             "type": "node"
            }
           ],
           "instanceArgs": {
            "namespace": "html",
            "tag": "div"
           },
           "nodeType": "DOM",
           "props": {
            "className": "interact-widget"
           },
           "type": "node"
          },
          {
           "children": [
            {
             "children": [],
             "instanceArgs": {
              "namespace": "html",
              "tag": "div"
             },
             "nodeType": "DOM",
             "props": {
              "className": "webio-observable",
              "setInnerHtml": "<img src='data:image/png;base64,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'></img>"
             },
             "type": "node"
            }
           ],
           "instanceArgs": {
            "handlers": {
             "obs-output": [
              "function (value, scope) {\n    scope.setInnerHTML(value);\n}\n"
             ]
            },
            "id": "9787862385438891491",
            "imports": {
             "data": [],
             "type": "async_block"
            },
            "mount_callbacks": [],
            "observables": {
             "obs-output": {
              "id": "9496639103250120047",
              "sync": false,
              "value": "<img src='data:image/png;base64,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'></img>"
             }
            },
            "systemjs_options": null
           },
           "nodeType": "Scope",
           "props": {},
           "type": "node"
          },
          {
           "children": [
            {
             "children": [
              {
               "children": [],
               "instanceArgs": {
                "namespace": "html",
                "tag": "div"
               },
               "nodeType": "DOM",
               "props": {
                "id": "container"
               },
               "type": "node"
              }
             ],
             "instanceArgs": {
              "handlers": {
               "value": [
                "(function (txt){return this.k.render(txt,this.container)})"
               ]
              },
              "id": "13706242531819596489",
              "imports": {
               "data": [
                {
                 "name": null,
                 "type": "js",
                 "url": "/assetserver/dd22ed1bf1896c2748f3fe616ce0b838adc895c1-katex.min.js"
                },
                {
                 "name": null,
                 "type": "css",
                 "url": "/assetserver/46517a424aa5e6cffc1360d7e0848b601c584ee3-katex.min.css"
                }
               ],
               "type": "async_block"
              },
              "mount_callbacks": [
               "function () {\n    var handler = ((function (k){this.k=k; this.container=this.dom.querySelector(\"#container\"); return k.render(\"\\\\;\\\\;\",this.container)}));\n    (WebIO.importBlock({\"data\":[{\"name\":null,\"type\":\"js\",\"url\":\"/assetserver/dd22ed1bf1896c2748f3fe616ce0b838adc895c1-katex.min.js\"},{\"name\":null,\"type\":\"css\",\"url\":\"/assetserver/46517a424aa5e6cffc1360d7e0848b601c584ee3-katex.min.css\"}],\"type\":\"async_block\"})).then((imports) => handler.apply(this, imports));\n}\n"
              ],
              "observables": {
               "value": {
                "id": "15474518390227095024",
                "sync": false,
                "value": "\\;\\;"
               }
              },
              "systemjs_options": null
             },
             "nodeType": "Scope",
             "props": {},
             "type": "node"
            }
           ],
           "instanceArgs": {
            "namespace": "html",
            "tag": "div"
           },
           "nodeType": "DOM",
           "props": {
            "className": "interact-widget"
           },
           "type": "node"
          },
          {
           "children": [],
           "instanceArgs": {
            "namespace": "html",
            "tag": "div"
           },
           "nodeType": "DOM",
           "props": {
            "style": {
             "display": "flex",
             "flex-direction": "column"
            }
           },
           "type": "node"
          }
         ],
         "instanceArgs": {
          "namespace": "html",
          "tag": "div"
         },
         "nodeType": "DOM",
         "props": {
          "style": {
           "display": "flex",
           "flex-direction": "row"
          }
         },
         "type": "node"
        }
       ],
       "instanceArgs": {
        "namespace": "html",
        "tag": "div"
       },
       "nodeType": "DOM",
       "props": {
        "style": {
         "display": "flex",
         "flex-direction": "column"
        }
       },
       "type": "node"
      },
      "text/html": [
       "<div\n",
       "    class=\"webio-mountpoint\"\n",
       "    data-webio-mountpoint=\"4113837634293307693\"\n",
       ">\n",
       "    <script>\n",
       "    (function(){\n",
       "    // Some integrations (namely, IJulia/Jupyter) use an alternate render pathway than\n",
       "    // just putting the html on the page. If WebIO isn't defined, then it's pretty likely\n",
       "    // that we're in one of those situations and the integration just isn't installed\n",
       "    // correctly.\n",
       "    if (typeof window.WebIO === \"undefined\") {\n",
       "        document\n",
       "            .querySelector('[data-webio-mountpoint=\"4113837634293307693\"]')\n",
       "            .innerHTML = (\n",
       "                '<div style=\"padding: 1em; background-color: #f8d6da; border: 1px solid #f5c6cb; font-weight: bold;\">' +\n",
       "                '<p><strong>WebIO not detected.</strong></p>' +\n",
       "                '<p>Please read ' +\n",
       "                '<a href=\"https://juliagizmos.github.io/WebIO.jl/latest/troubleshooting/not-detected/\" target=\"_blank\">the troubleshooting guide</a> ' +\n",
       "                'for more information on how to resolve this issue.</p>' +\n",
       "                '<p><a href=\"https://juliagizmos.github.io/WebIO.jl/latest/troubleshooting/not-detected/\" target=\"_blank\">https://juliagizmos.github.io/WebIO.jl/latest/troubleshooting/not-detected/</a></p>' +\n",
       "                '</div>'\n",
       "            );\n",
       "        return;\n",
       "    }\n",
       "    WebIO.mount(\n",
       "        document.querySelector('[data-webio-mountpoint=\"4113837634293307693\"]'),\n",
       "        {\"props\":{\"style\":{\"display\":\"flex\",\"flex-direction\":\"column\"}},\"nodeType\":\"DOM\",\"type\":\"node\",\"instanceArgs\":{\"namespace\":\"html\",\"tag\":\"div\"},\"children\":[{\"props\":{\"style\":{\"display\":\"flex\",\"flex-direction\":\"row\"}},\"nodeType\":\"DOM\",\"type\":\"node\",\"instanceArgs\":{\"namespace\":\"html\",\"tag\":\"div\"},\"children\":[{\"props\":{\"style\":{\"display\":\"flex\",\"flex-direction\":\"column\"}},\"nodeType\":\"DOM\",\"type\":\"node\",\"instanceArgs\":{\"namespace\":\"html\",\"tag\":\"div\"},\"children\":[{\"props\":{\"className\":\"field interact-widget\"},\"nodeType\":\"DOM\",\"type\":\"node\",\"instanceArgs\":{\"namespace\":\"html\",\"tag\":\"div\"},\"children\":[{\"props\":{},\"nodeType\":\"Scope\",\"type\":\"node\",\"instanceArgs\":{\"imports\":{\"data\":[{\"name\":\"knockout\",\"type\":\"js\",\"url\":\"\\/assetserver\\/727383f2a47bd31570b7da84eee7b022dd6d7c78-knockout.js\"},{\"name\":\"knockout_punches\",\"type\":\"js\",\"url\":\"\\/assetserver\\/382b41b3b1bd9f26f75861d360bad7f8beea211f-knockout_punches.js\"},{\"name\":null,\"type\":\"js\",\"url\":\"\\/assetserver\\/5ab20f1060420992a9b82a65b735dee4d81ef413-all.js\"},{\"name\":null,\"type\":\"css\",\"url\":\"\\/assetserver\\/1cc0ed62837210b80a182cc3676512f895dab686-style.css\"},{\"name\":null,\"type\":\"css\",\"url\":\"\\/assetserver\\/2eee816f616df3549d7044d45e744fbf8d42bfa1-bulma_confined.min.css\"}],\"type\":\"async_block\"},\"id\":\"1086430649426854201\",\"handlers\":{\"changes\":[\"(function (val){return (val!=this.model[\\\"changes\\\"]()) ? (this.valueFromJulia[\\\"changes\\\"]=true, this.model[\\\"changes\\\"](val)) : undefined})\"],\"index\":[\"(function (val){return (val!=this.model[\\\"index\\\"]()) ? (this.valueFromJulia[\\\"index\\\"]=true, this.model[\\\"index\\\"](val)) : undefined})\"]},\"systemjs_options\":null,\"mount_callbacks\":[\"function () {\\n    var handler = (function (ko, koPunches) {\\n    ko.punches.enableAll();\\n    ko.bindingHandlers.numericValue = {\\n        init: function(element, valueAccessor, allBindings, data, context) {\\n            var stringified = ko.observable(ko.unwrap(valueAccessor()));\\n            stringified.subscribe(function(value) {\\n                var val = parseFloat(value);\\n                if (!isNaN(val)) {\\n                    valueAccessor()(val);\\n                }\\n            });\\n            valueAccessor().subscribe(function(value) {\\n                var str = JSON.stringify(value);\\n                if ((str == \\\"0\\\") && ([\\\"-0\\\", \\\"-0.\\\"].indexOf(stringified()) >= 0))\\n                     return;\\n                 if ([\\\"null\\\", \\\"\\\"].indexOf(str) >= 0)\\n                     return;\\n                stringified(str);\\n            });\\n            ko.applyBindingsToNode(\\n                element,\\n                {\\n                    value: stringified,\\n                    valueUpdate: allBindings.get('valueUpdate'),\\n                },\\n                context,\\n            );\\n        }\\n    };\\n    var json_data = {\\\"formatted_vals\\\":[\\\"1\\\",\\\"2\\\",\\\"3\\\",\\\"4\\\",\\\"5\\\",\\\"6\\\",\\\"7\\\",\\\"8\\\",\\\"9\\\",\\\"10\\\",\\\"11\\\",\\\"12\\\",\\\"13\\\",\\\"14\\\",\\\"15\\\",\\\"16\\\",\\\"17\\\",\\\"18\\\",\\\"19\\\",\\\"20\\\",\\\"21\\\",\\\"22\\\",\\\"23\\\",\\\"24\\\",\\\"25\\\",\\\"26\\\",\\\"27\\\",\\\"28\\\",\\\"29\\\",\\\"30\\\",\\\"31\\\",\\\"32\\\",\\\"33\\\",\\\"34\\\",\\\"35\\\",\\\"36\\\",\\\"37\\\",\\\"38\\\",\\\"39\\\",\\\"40\\\",\\\"41\\\",\\\"42\\\",\\\"43\\\",\\\"44\\\",\\\"45\\\",\\\"46\\\",\\\"47\\\",\\\"48\\\",\\\"49\\\",\\\"50\\\",\\\"51\\\",\\\"52\\\",\\\"53\\\",\\\"54\\\",\\\"55\\\",\\\"56\\\",\\\"57\\\",\\\"58\\\",\\\"59\\\",\\\"60\\\",\\\"61\\\",\\\"62\\\",\\\"63\\\",\\\"64\\\",\\\"65\\\",\\\"66\\\",\\\"67\\\",\\\"68\\\",\\\"69\\\",\\\"70\\\",\\\"71\\\",\\\"72\\\",\\\"73\\\",\\\"74\\\",\\\"75\\\",\\\"76\\\",\\\"77\\\",\\\"78\\\",\\\"79\\\",\\\"80\\\",\\\"81\\\",\\\"82\\\",\\\"83\\\",\\\"84\\\",\\\"85\\\",\\\"86\\\",\\\"87\\\",\\\"88\\\",\\\"89\\\",\\\"90\\\",\\\"91\\\",\\\"92\\\",\\\"93\\\",\\\"94\\\",\\\"95\\\",\\\"96\\\",\\\"97\\\",\\\"98\\\",\\\"99\\\",\\\"100\\\",\\\"101\\\"],\\\"changes\\\":WebIO.getval({\\\"name\\\":\\\"changes\\\",\\\"scope\\\":\\\"1086430649426854201\\\",\\\"id\\\":\\\"7740880684107547095\\\",\\\"type\\\":\\\"observable\\\"}),\\\"index\\\":WebIO.getval({\\\"name\\\":\\\"index\\\",\\\"scope\\\":\\\"1086430649426854201\\\",\\\"id\\\":\\\"9928902268133086538\\\",\\\"type\\\":\\\"observable\\\"})};\\n    var self = this;\\n    function AppViewModel() {\\n        for (var key in json_data) {\\n            var el = json_data[key];\\n            this[key] = Array.isArray(el) ? ko.observableArray(el) : ko.observable(el);\\n        }\\n        \\n        [this[\\\"formatted_val\\\"]=ko.computed(    function(){\\n        return this.formatted_vals()[parseInt(this.index())-(1)];\\n    }\\n,this)]\\n        [this[\\\"changes\\\"].subscribe((function (val){!(this.valueFromJulia[\\\"changes\\\"]) ? (WebIO.setval({\\\"name\\\":\\\"changes\\\",\\\"scope\\\":\\\"1086430649426854201\\\",\\\"id\\\":\\\"7740880684107547095\\\",\\\"type\\\":\\\"observable\\\"},val)) : undefined; return this.valueFromJulia[\\\"changes\\\"]=false}),self),this[\\\"index\\\"].subscribe((function (val){!(this.valueFromJulia[\\\"index\\\"]) ? (WebIO.setval({\\\"name\\\":\\\"index\\\",\\\"scope\\\":\\\"1086430649426854201\\\",\\\"id\\\":\\\"9928902268133086538\\\",\\\"type\\\":\\\"observable\\\"},val)) : undefined; return this.valueFromJulia[\\\"index\\\"]=false}),self)]\\n        \\n    }\\n    self.model = new AppViewModel();\\n    self.valueFromJulia = {};\\n    for (var key in json_data) {\\n        self.valueFromJulia[key] = false;\\n    }\\n    ko.applyBindings(self.model, self.dom);\\n}\\n);\\n    (WebIO.importBlock({\\\"data\\\":[{\\\"name\\\":\\\"knockout\\\",\\\"type\\\":\\\"js\\\",\\\"url\\\":\\\"\\/assetserver\\/727383f2a47bd31570b7da84eee7b022dd6d7c78-knockout.js\\\"},{\\\"name\\\":\\\"knockout_punches\\\",\\\"type\\\":\\\"js\\\",\\\"url\\\":\\\"\\/assetserver\\/382b41b3b1bd9f26f75861d360bad7f8beea211f-knockout_punches.js\\\"}],\\\"type\\\":\\\"async_block\\\"})).then((imports) => handler.apply(this, imports));\\n}\\n\"],\"observables\":{\"changes\":{\"sync\":false,\"id\":\"7740880684107547095\",\"value\":0},\"index\":{\"sync\":true,\"id\":\"9928902268133086538\",\"value\":51}}},\"children\":[{\"props\":{\"className\":\"interact-flex-row interact-widget\"},\"nodeType\":\"DOM\",\"type\":\"node\",\"instanceArgs\":{\"namespace\":\"html\",\"tag\":\"div\"},\"children\":[{\"props\":{\"className\":\"interact-flex-row-left\"},\"nodeType\":\"DOM\",\"type\":\"node\",\"instanceArgs\":{\"namespace\":\"html\",\"tag\":\"div\"},\"children\":[{\"props\":{\"className\":\"interact \",\"style\":{\"padding\":\"5px 10px 0px 10px\"}},\"nodeType\":\"DOM\",\"type\":\"node\",\"instanceArgs\":{\"namespace\":\"html\",\"tag\":\"label\"},\"children\":[\"time\"]}]},{\"props\":{\"className\":\"interact-flex-row-center\"},\"nodeType\":\"DOM\",\"type\":\"node\",\"instanceArgs\":{\"namespace\":\"html\",\"tag\":\"div\"},\"children\":[{\"props\":{\"max\":101,\"min\":1,\"attributes\":{\"type\":\"range\",\"data-bind\":\"numericValue: index, valueUpdate: 'input', event: {change: function (){this.changes(this.changes()+1)}}\",\"orient\":\"horizontal\"},\"step\":1,\"className\":\"slider slider is-fullwidth\",\"style\":{}},\"nodeType\":\"DOM\",\"type\":\"node\",\"instanceArgs\":{\"namespace\":\"html\",\"tag\":\"input\"},\"children\":[]}]},{\"props\":{\"className\":\"interact-flex-row-right\"},\"nodeType\":\"DOM\",\"type\":\"node\",\"instanceArgs\":{\"namespace\":\"html\",\"tag\":\"div\"},\"children\":[{\"props\":{\"attributes\":{\"data-bind\":\"text: formatted_val\"}},\"nodeType\":\"DOM\",\"type\":\"node\",\"instanceArgs\":{\"namespace\":\"html\",\"tag\":\"p\"},\"children\":[]}]}]}]}]},{\"props\":{\"className\":\"field interact-widget\"},\"nodeType\":\"DOM\",\"type\":\"node\",\"instanceArgs\":{\"namespace\":\"html\",\"tag\":\"div\"},\"children\":[{\"props\":{},\"nodeType\":\"Scope\",\"type\":\"node\",\"instanceArgs\":{\"imports\":{\"data\":[{\"name\":\"knockout\",\"type\":\"js\",\"url\":\"\\/assetserver\\/727383f2a47bd31570b7da84eee7b022dd6d7c78-knockout.js\"},{\"name\":\"knockout_punches\",\"type\":\"js\",\"url\":\"\\/assetserver\\/382b41b3b1bd9f26f75861d360bad7f8beea211f-knockout_punches.js\"},{\"name\":null,\"type\":\"js\",\"url\":\"\\/assetserver\\/5ab20f1060420992a9b82a65b735dee4d81ef413-all.js\"},{\"name\":null,\"type\":\"css\",\"url\":\"\\/assetserver\\/1cc0ed62837210b80a182cc3676512f895dab686-style.css\"},{\"name\":null,\"type\":\"css\",\"url\":\"\\/assetserver\\/2eee816f616df3549d7044d45e744fbf8d42bfa1-bulma_confined.min.css\"}],\"type\":\"async_block\"},\"id\":\"1444910984012672743\",\"handlers\":{\"changes\":[\"(function (val){return (val!=this.model[\\\"changes\\\"]()) ? (this.valueFromJulia[\\\"changes\\\"]=true, this.model[\\\"changes\\\"](val)) : undefined})\"],\"index\":[\"(function (val){return (val!=this.model[\\\"index\\\"]()) ? (this.valueFromJulia[\\\"index\\\"]=true, this.model[\\\"index\\\"](val)) : undefined})\"]},\"systemjs_options\":null,\"mount_callbacks\":[\"function () {\\n    var handler = (function (ko, koPunches) {\\n    ko.punches.enableAll();\\n    ko.bindingHandlers.numericValue = {\\n        init: function(element, valueAccessor, allBindings, data, context) {\\n            var stringified = ko.observable(ko.unwrap(valueAccessor()));\\n            stringified.subscribe(function(value) {\\n                var val = parseFloat(value);\\n                if (!isNaN(val)) {\\n                    valueAccessor()(val);\\n                }\\n            });\\n            valueAccessor().subscribe(function(value) {\\n                var str = JSON.stringify(value);\\n                if ((str == \\\"0\\\") && ([\\\"-0\\\", \\\"-0.\\\"].indexOf(stringified()) >= 0))\\n                     return;\\n                 if ([\\\"null\\\", \\\"\\\"].indexOf(str) >= 0)\\n                     return;\\n                stringified(str);\\n            });\\n            ko.applyBindingsToNode(\\n                element,\\n                {\\n                    value: stringified,\\n                    valueUpdate: allBindings.get('valueUpdate'),\\n                },\\n                context,\\n            );\\n        }\\n    };\\n    var json_data = {\\\"formatted_vals\\\":[\\\"0.1\\\",\\\"0.2\\\",\\\"0.3\\\",\\\"0.4\\\",\\\"0.5\\\",\\\"0.6\\\",\\\"0.7\\\",\\\"0.8\\\",\\\"0.9\\\",\\\"1.0\\\",\\\"1.1\\\",\\\"1.2\\\",\\\"1.3\\\",\\\"1.4\\\",\\\"1.5\\\",\\\"1.6\\\",\\\"1.7\\\",\\\"1.8\\\",\\\"1.9\\\",\\\"2.0\\\"],\\\"changes\\\":WebIO.getval({\\\"name\\\":\\\"changes\\\",\\\"scope\\\":\\\"1444910984012672743\\\",\\\"id\\\":\\\"12363834910018543230\\\",\\\"type\\\":\\\"observable\\\"}),\\\"index\\\":WebIO.getval({\\\"name\\\":\\\"index\\\",\\\"scope\\\":\\\"1444910984012672743\\\",\\\"id\\\":\\\"15871441398425555442\\\",\\\"type\\\":\\\"observable\\\"})};\\n    var self = this;\\n    function AppViewModel() {\\n        for (var key in json_data) {\\n            var el = json_data[key];\\n            this[key] = Array.isArray(el) ? ko.observableArray(el) : ko.observable(el);\\n        }\\n        \\n        [this[\\\"formatted_val\\\"]=ko.computed(    function(){\\n        return this.formatted_vals()[parseInt(this.index())-(1)];\\n    }\\n,this)]\\n        [this[\\\"changes\\\"].subscribe((function (val){!(this.valueFromJulia[\\\"changes\\\"]) ? (WebIO.setval({\\\"name\\\":\\\"changes\\\",\\\"scope\\\":\\\"1444910984012672743\\\",\\\"id\\\":\\\"12363834910018543230\\\",\\\"type\\\":\\\"observable\\\"},val)) : undefined; return this.valueFromJulia[\\\"changes\\\"]=false}),self),this[\\\"index\\\"].subscribe((function (val){!(this.valueFromJulia[\\\"index\\\"]) ? (WebIO.setval({\\\"name\\\":\\\"index\\\",\\\"scope\\\":\\\"1444910984012672743\\\",\\\"id\\\":\\\"15871441398425555442\\\",\\\"type\\\":\\\"observable\\\"},val)) : undefined; return this.valueFromJulia[\\\"index\\\"]=false}),self)]\\n        \\n    }\\n    self.model = new AppViewModel();\\n    self.valueFromJulia = {};\\n    for (var key in json_data) {\\n        self.valueFromJulia[key] = false;\\n    }\\n    ko.applyBindings(self.model, self.dom);\\n}\\n);\\n    (WebIO.importBlock({\\\"data\\\":[{\\\"name\\\":\\\"knockout\\\",\\\"type\\\":\\\"js\\\",\\\"url\\\":\\\"\\/assetserver\\/727383f2a47bd31570b7da84eee7b022dd6d7c78-knockout.js\\\"},{\\\"name\\\":\\\"knockout_punches\\\",\\\"type\\\":\\\"js\\\",\\\"url\\\":\\\"\\/assetserver\\/382b41b3b1bd9f26f75861d360bad7f8beea211f-knockout_punches.js\\\"}],\\\"type\\\":\\\"async_block\\\"})).then((imports) => handler.apply(this, imports));\\n}\\n\"],\"observables\":{\"changes\":{\"sync\":false,\"id\":\"12363834910018543230\",\"value\":0},\"index\":{\"sync\":true,\"id\":\"15871441398425555442\",\"value\":10}}},\"children\":[{\"props\":{\"className\":\"interact-flex-row interact-widget\"},\"nodeType\":\"DOM\",\"type\":\"node\",\"instanceArgs\":{\"namespace\":\"html\",\"tag\":\"div\"},\"children\":[{\"props\":{\"className\":\"interact-flex-row-left\"},\"nodeType\":\"DOM\",\"type\":\"node\",\"instanceArgs\":{\"namespace\":\"html\",\"tag\":\"div\"},\"children\":[{\"props\":{\"className\":\"interact \",\"style\":{\"padding\":\"5px 10px 0px 10px\"}},\"nodeType\":\"DOM\",\"type\":\"node\",\"instanceArgs\":{\"namespace\":\"html\",\"tag\":\"label\"},\"children\":[\"scale\"]}]},{\"props\":{\"className\":\"interact-flex-row-center\"},\"nodeType\":\"DOM\",\"type\":\"node\",\"instanceArgs\":{\"namespace\":\"html\",\"tag\":\"div\"},\"children\":[{\"props\":{\"max\":20,\"min\":1,\"attributes\":{\"type\":\"range\",\"data-bind\":\"numericValue: index, valueUpdate: 'input', event: {change: function (){this.changes(this.changes()+1)}}\",\"orient\":\"horizontal\"},\"step\":1,\"className\":\"slider slider is-fullwidth\",\"style\":{}},\"nodeType\":\"DOM\",\"type\":\"node\",\"instanceArgs\":{\"namespace\":\"html\",\"tag\":\"input\"},\"children\":[]}]},{\"props\":{\"className\":\"interact-flex-row-right\"},\"nodeType\":\"DOM\",\"type\":\"node\",\"instanceArgs\":{\"namespace\":\"html\",\"tag\":\"div\"},\"children\":[{\"props\":{\"attributes\":{\"data-bind\":\"text: formatted_val\"}},\"nodeType\":\"DOM\",\"type\":\"node\",\"instanceArgs\":{\"namespace\":\"html\",\"tag\":\"p\"},\"children\":[]}]}]}]}]},{\"props\":{\"style\":{\"display\":\"flex\",\"flex-direction\":\"row\"}},\"nodeType\":\"DOM\",\"type\":\"node\",\"instanceArgs\":{\"namespace\":\"html\",\"tag\":\"div\"},\"children\":[{\"props\":{\"className\":\"interact-widget\"},\"nodeType\":\"DOM\",\"type\":\"node\",\"instanceArgs\":{\"namespace\":\"html\",\"tag\":\"div\"},\"children\":[{\"props\":{},\"nodeType\":\"Scope\",\"type\":\"node\",\"instanceArgs\":{\"imports\":{\"data\":[{\"name\":null,\"type\":\"js\",\"url\":\"\\/assetserver\\/dd22ed1bf1896c2748f3fe616ce0b838adc895c1-katex.min.js\"},{\"name\":null,\"type\":\"css\",\"url\":\"\\/assetserver\\/46517a424aa5e6cffc1360d7e0848b601c584ee3-katex.min.css\"}],\"type\":\"async_block\"},\"id\":\"13706242531819596489\",\"handlers\":{\"value\":[\"(function (txt){return this.k.render(txt,this.container)})\"]},\"systemjs_options\":null,\"mount_callbacks\":[\"function () {\\n    var handler = ((function (k){this.k=k; this.container=this.dom.querySelector(\\\"#container\\\"); return k.render(\\\"\\\\\\\\;\\\\\\\\;\\\",this.container)}));\\n    (WebIO.importBlock({\\\"data\\\":[{\\\"name\\\":null,\\\"type\\\":\\\"js\\\",\\\"url\\\":\\\"\\/assetserver\\/dd22ed1bf1896c2748f3fe616ce0b838adc895c1-katex.min.js\\\"},{\\\"name\\\":null,\\\"type\\\":\\\"css\\\",\\\"url\\\":\\\"\\/assetserver\\/46517a424aa5e6cffc1360d7e0848b601c584ee3-katex.min.css\\\"}],\\\"type\\\":\\\"async_block\\\"})).then((imports) => handler.apply(this, imports));\\n}\\n\"],\"observables\":{\"value\":{\"sync\":false,\"id\":\"15474518390227095024\",\"value\":\"\\\\;\\\\;\"}}},\"children\":[{\"props\":{\"id\":\"container\"},\"nodeType\":\"DOM\",\"type\":\"node\",\"instanceArgs\":{\"namespace\":\"html\",\"tag\":\"div\"},\"children\":[]}]}]},{\"props\":{\"className\":\"field interact-widget\"},\"nodeType\":\"DOM\",\"type\":\"node\",\"instanceArgs\":{\"namespace\":\"html\",\"tag\":\"div\"},\"children\":[{\"props\":{},\"nodeType\":\"Scope\",\"type\":\"node\",\"instanceArgs\":{\"imports\":{\"data\":[{\"name\":\"knockout\",\"type\":\"js\",\"url\":\"\\/assetserver\\/727383f2a47bd31570b7da84eee7b022dd6d7c78-knockout.js\"},{\"name\":\"knockout_punches\",\"type\":\"js\",\"url\":\"\\/assetserver\\/382b41b3b1bd9f26f75861d360bad7f8beea211f-knockout_punches.js\"},{\"name\":null,\"type\":\"js\",\"url\":\"\\/assetserver\\/5ab20f1060420992a9b82a65b735dee4d81ef413-all.js\"},{\"name\":null,\"type\":\"css\",\"url\":\"\\/assetserver\\/1cc0ed62837210b80a182cc3676512f895dab686-style.css\"},{\"name\":null,\"type\":\"css\",\"url\":\"\\/assetserver\\/2eee816f616df3549d7044d45e744fbf8d42bfa1-bulma_confined.min.css\"}],\"type\":\"async_block\"},\"id\":\"4554963286293290229\",\"handlers\":{\"loading\":[\"(function (val){return (val!=this.model[\\\"loading\\\"]()) ? (this.valueFromJulia[\\\"loading\\\"]=true, this.model[\\\"loading\\\"](val)) : undefined})\"],\"clicks\":[\"(function (val){return (val!=this.model[\\\"clicks\\\"]()) ? (this.valueFromJulia[\\\"clicks\\\"]=true, this.model[\\\"clicks\\\"](val)) : undefined})\"]},\"systemjs_options\":null,\"mount_callbacks\":[\"function () {\\n    var handler = (function (ko, koPunches) {\\n    ko.punches.enableAll();\\n    ko.bindingHandlers.numericValue = {\\n        init: function(element, valueAccessor, allBindings, data, context) {\\n            var stringified = ko.observable(ko.unwrap(valueAccessor()));\\n            stringified.subscribe(function(value) {\\n                var val = parseFloat(value);\\n                if (!isNaN(val)) {\\n                    valueAccessor()(val);\\n                }\\n            });\\n            valueAccessor().subscribe(function(value) {\\n                var str = JSON.stringify(value);\\n                if ((str == \\\"0\\\") && ([\\\"-0\\\", \\\"-0.\\\"].indexOf(stringified()) >= 0))\\n                     return;\\n                 if ([\\\"null\\\", \\\"\\\"].indexOf(str) >= 0)\\n                     return;\\n                stringified(str);\\n            });\\n            ko.applyBindingsToNode(\\n                element,\\n                {\\n                    value: stringified,\\n                    valueUpdate: allBindings.get('valueUpdate'),\\n                },\\n                context,\\n            );\\n        }\\n    };\\n    var json_data = {\\\"loading\\\":WebIO.getval({\\\"name\\\":\\\"loading\\\",\\\"scope\\\":\\\"4554963286293290229\\\",\\\"id\\\":\\\"10786438094641305429\\\",\\\"type\\\":\\\"observable\\\"}),\\\"clicks\\\":WebIO.getval({\\\"name\\\":\\\"clicks\\\",\\\"scope\\\":\\\"4554963286293290229\\\",\\\"id\\\":\\\"3081826366801857785\\\",\\\"type\\\":\\\"observable\\\"})};\\n    var self = this;\\n    function AppViewModel() {\\n        for (var key in json_data) {\\n            var el = json_data[key];\\n            this[key] = Array.isArray(el) ? ko.observableArray(el) : ko.observable(el);\\n        }\\n        \\n        \\n        [this[\\\"loading\\\"].subscribe((function (val){!(this.valueFromJulia[\\\"loading\\\"]) ? (WebIO.setval({\\\"name\\\":\\\"loading\\\",\\\"scope\\\":\\\"4554963286293290229\\\",\\\"id\\\":\\\"10786438094641305429\\\",\\\"type\\\":\\\"observable\\\"},val)) : undefined; return this.valueFromJulia[\\\"loading\\\"]=false}),self),this[\\\"clicks\\\"].subscribe((function (val){!(this.valueFromJulia[\\\"clicks\\\"]) ? (WebIO.setval({\\\"name\\\":\\\"clicks\\\",\\\"scope\\\":\\\"4554963286293290229\\\",\\\"id\\\":\\\"3081826366801857785\\\",\\\"type\\\":\\\"observable\\\"},val)) : undefined; return this.valueFromJulia[\\\"clicks\\\"]=false}),self)]\\n        \\n    }\\n    self.model = new AppViewModel();\\n    self.valueFromJulia = {};\\n    for (var key in json_data) {\\n        self.valueFromJulia[key] = false;\\n    }\\n    ko.applyBindings(self.model, self.dom);\\n}\\n);\\n    (WebIO.importBlock({\\\"data\\\":[{\\\"name\\\":\\\"knockout\\\",\\\"type\\\":\\\"js\\\",\\\"url\\\":\\\"\\/assetserver\\/727383f2a47bd31570b7da84eee7b022dd6d7c78-knockout.js\\\"},{\\\"name\\\":\\\"knockout_punches\\\",\\\"type\\\":\\\"js\\\",\\\"url\\\":\\\"\\/assetserver\\/382b41b3b1bd9f26f75861d360bad7f8beea211f-knockout_punches.js\\\"}],\\\"type\\\":\\\"async_block\\\"})).then((imports) => handler.apply(this, imports));\\n}\\n\"],\"observables\":{\"loading\":{\"sync\":false,\"id\":\"10786438094641305429\",\"value\":false},\"clicks\":{\"sync\":true,\"id\":\"3081826366801857785\",\"value\":0}}},\"children\":[{\"props\":{\"attributes\":{\"data-bind\":\"click: function (){this.clicks(this.clicks()+1)}, css: {'is-loading' : loading}\"},\"className\":\"is-medium button is-primary\",\"style\":{}},\"nodeType\":\"DOM\",\"type\":\"node\",\"instanceArgs\":{\"namespace\":\"html\",\"tag\":\"button\"},\"children\":[\"run\"]}]}]},{\"props\":{\"className\":\"interact-widget\"},\"nodeType\":\"DOM\",\"type\":\"node\",\"instanceArgs\":{\"namespace\":\"html\",\"tag\":\"div\"},\"children\":[{\"props\":{},\"nodeType\":\"Scope\",\"type\":\"node\",\"instanceArgs\":{\"imports\":{\"data\":[{\"name\":null,\"type\":\"js\",\"url\":\"\\/assetserver\\/dd22ed1bf1896c2748f3fe616ce0b838adc895c1-katex.min.js\"},{\"name\":null,\"type\":\"css\",\"url\":\"\\/assetserver\\/46517a424aa5e6cffc1360d7e0848b601c584ee3-katex.min.css\"}],\"type\":\"async_block\"},\"id\":\"13706242531819596489\",\"handlers\":{\"value\":[\"(function (txt){return this.k.render(txt,this.container)})\"]},\"systemjs_options\":null,\"mount_callbacks\":[\"function () {\\n    var handler = ((function (k){this.k=k; this.container=this.dom.querySelector(\\\"#container\\\"); return k.render(\\\"\\\\\\\\;\\\\\\\\;\\\",this.container)}));\\n    (WebIO.importBlock({\\\"data\\\":[{\\\"name\\\":null,\\\"type\\\":\\\"js\\\",\\\"url\\\":\\\"\\/assetserver\\/dd22ed1bf1896c2748f3fe616ce0b838adc895c1-katex.min.js\\\"},{\\\"name\\\":null,\\\"type\\\":\\\"css\\\",\\\"url\\\":\\\"\\/assetserver\\/46517a424aa5e6cffc1360d7e0848b601c584ee3-katex.min.css\\\"}],\\\"type\\\":\\\"async_block\\\"})).then((imports) => handler.apply(this, imports));\\n}\\n\"],\"observables\":{\"value\":{\"sync\":false,\"id\":\"15474518390227095024\",\"value\":\"\\\\;\\\\;\"}}},\"children\":[{\"props\":{\"id\":\"container\"},\"nodeType\":\"DOM\",\"type\":\"node\",\"instanceArgs\":{\"namespace\":\"html\",\"tag\":\"div\"},\"children\":[]}]}]},{\"props\":{\"className\":\"field interact-widget\"},\"nodeType\":\"DOM\",\"type\":\"node\",\"instanceArgs\":{\"namespace\":\"html\",\"tag\":\"div\"},\"children\":[{\"props\":{},\"nodeType\":\"Scope\",\"type\":\"node\",\"instanceArgs\":{\"imports\":{\"data\":[{\"name\":\"knockout\",\"type\":\"js\",\"url\":\"\\/assetserver\\/727383f2a47bd31570b7da84eee7b022dd6d7c78-knockout.js\"},{\"name\":\"knockout_punches\",\"type\":\"js\",\"url\":\"\\/assetserver\\/382b41b3b1bd9f26f75861d360bad7f8beea211f-knockout_punches.js\"},{\"name\":null,\"type\":\"js\",\"url\":\"\\/assetserver\\/5ab20f1060420992a9b82a65b735dee4d81ef413-all.js\"},{\"name\":null,\"type\":\"css\",\"url\":\"\\/assetserver\\/1cc0ed62837210b80a182cc3676512f895dab686-style.css\"},{\"name\":null,\"type\":\"css\",\"url\":\"\\/assetserver\\/2eee816f616df3549d7044d45e744fbf8d42bfa1-bulma_confined.min.css\"}],\"type\":\"async_block\"},\"id\":\"1838745674771947372\",\"handlers\":{\"loading\":[\"(function (val){return (val!=this.model[\\\"loading\\\"]()) ? (this.valueFromJulia[\\\"loading\\\"]=true, this.model[\\\"loading\\\"](val)) : undefined})\"],\"clicks\":[\"(function (val){return (val!=this.model[\\\"clicks\\\"]()) ? (this.valueFromJulia[\\\"clicks\\\"]=true, this.model[\\\"clicks\\\"](val)) : undefined})\"]},\"systemjs_options\":null,\"mount_callbacks\":[\"function () {\\n    var handler = (function (ko, koPunches) {\\n    ko.punches.enableAll();\\n    ko.bindingHandlers.numericValue = {\\n        init: function(element, valueAccessor, allBindings, data, context) {\\n            var stringified = ko.observable(ko.unwrap(valueAccessor()));\\n            stringified.subscribe(function(value) {\\n                var val = parseFloat(value);\\n                if (!isNaN(val)) {\\n                    valueAccessor()(val);\\n                }\\n            });\\n            valueAccessor().subscribe(function(value) {\\n                var str = JSON.stringify(value);\\n                if ((str == \\\"0\\\") && ([\\\"-0\\\", \\\"-0.\\\"].indexOf(stringified()) >= 0))\\n                     return;\\n                 if ([\\\"null\\\", \\\"\\\"].indexOf(str) >= 0)\\n                     return;\\n                stringified(str);\\n            });\\n            ko.applyBindingsToNode(\\n                element,\\n                {\\n                    value: stringified,\\n                    valueUpdate: allBindings.get('valueUpdate'),\\n                },\\n                context,\\n            );\\n        }\\n    };\\n    var json_data = {\\\"loading\\\":WebIO.getval({\\\"name\\\":\\\"loading\\\",\\\"scope\\\":\\\"1838745674771947372\\\",\\\"id\\\":\\\"9942454822044748088\\\",\\\"type\\\":\\\"observable\\\"}),\\\"clicks\\\":WebIO.getval({\\\"name\\\":\\\"clicks\\\",\\\"scope\\\":\\\"1838745674771947372\\\",\\\"id\\\":\\\"4266140032739665427\\\",\\\"type\\\":\\\"observable\\\"})};\\n    var self = this;\\n    function AppViewModel() {\\n        for (var key in json_data) {\\n            var el = json_data[key];\\n            this[key] = Array.isArray(el) ? ko.observableArray(el) : ko.observable(el);\\n        }\\n        \\n        \\n        [this[\\\"loading\\\"].subscribe((function (val){!(this.valueFromJulia[\\\"loading\\\"]) ? (WebIO.setval({\\\"name\\\":\\\"loading\\\",\\\"scope\\\":\\\"1838745674771947372\\\",\\\"id\\\":\\\"9942454822044748088\\\",\\\"type\\\":\\\"observable\\\"},val)) : undefined; return this.valueFromJulia[\\\"loading\\\"]=false}),self),this[\\\"clicks\\\"].subscribe((function (val){!(this.valueFromJulia[\\\"clicks\\\"]) ? (WebIO.setval({\\\"name\\\":\\\"clicks\\\",\\\"scope\\\":\\\"1838745674771947372\\\",\\\"id\\\":\\\"4266140032739665427\\\",\\\"type\\\":\\\"observable\\\"},val)) : undefined; return this.valueFromJulia[\\\"clicks\\\"]=false}),self)]\\n        \\n    }\\n    self.model = new AppViewModel();\\n    self.valueFromJulia = {};\\n    for (var key in json_data) {\\n        self.valueFromJulia[key] = false;\\n    }\\n    ko.applyBindings(self.model, self.dom);\\n}\\n);\\n    (WebIO.importBlock({\\\"data\\\":[{\\\"name\\\":\\\"knockout\\\",\\\"type\\\":\\\"js\\\",\\\"url\\\":\\\"\\/assetserver\\/727383f2a47bd31570b7da84eee7b022dd6d7c78-knockout.js\\\"},{\\\"name\\\":\\\"knockout_punches\\\",\\\"type\\\":\\\"js\\\",\\\"url\\\":\\\"\\/assetserver\\/382b41b3b1bd9f26f75861d360bad7f8beea211f-knockout_punches.js\\\"}],\\\"type\\\":\\\"async_block\\\"})).then((imports) => handler.apply(this, imports));\\n}\\n\"],\"observables\":{\"loading\":{\"sync\":false,\"id\":\"9942454822044748088\",\"value\":false},\"clicks\":{\"sync\":true,\"id\":\"4266140032739665427\",\"value\":0}}},\"children\":[{\"props\":{\"attributes\":{\"data-bind\":\"click: function (){this.clicks(this.clicks()+1)}, css: {'is-loading' : loading}\"},\"className\":\"is-medium button is-primary\",\"style\":{}},\"nodeType\":\"DOM\",\"type\":\"node\",\"instanceArgs\":{\"namespace\":\"html\",\"tag\":\"button\"},\"children\":[\"stop\"]}]}]},{\"props\":{\"className\":\"interact-widget\"},\"nodeType\":\"DOM\",\"type\":\"node\",\"instanceArgs\":{\"namespace\":\"html\",\"tag\":\"div\"},\"children\":[{\"props\":{},\"nodeType\":\"Scope\",\"type\":\"node\",\"instanceArgs\":{\"imports\":{\"data\":[{\"name\":null,\"type\":\"js\",\"url\":\"\\/assetserver\\/dd22ed1bf1896c2748f3fe616ce0b838adc895c1-katex.min.js\"},{\"name\":null,\"type\":\"css\",\"url\":\"\\/assetserver\\/46517a424aa5e6cffc1360d7e0848b601c584ee3-katex.min.css\"}],\"type\":\"async_block\"},\"id\":\"13706242531819596489\",\"handlers\":{\"value\":[\"(function (txt){return this.k.render(txt,this.container)})\"]},\"systemjs_options\":null,\"mount_callbacks\":[\"function () {\\n    var handler = ((function (k){this.k=k; this.container=this.dom.querySelector(\\\"#container\\\"); return k.render(\\\"\\\\\\\\;\\\\\\\\;\\\",this.container)}));\\n    (WebIO.importBlock({\\\"data\\\":[{\\\"name\\\":null,\\\"type\\\":\\\"js\\\",\\\"url\\\":\\\"\\/assetserver\\/dd22ed1bf1896c2748f3fe616ce0b838adc895c1-katex.min.js\\\"},{\\\"name\\\":null,\\\"type\\\":\\\"css\\\",\\\"url\\\":\\\"\\/assetserver\\/46517a424aa5e6cffc1360d7e0848b601c584ee3-katex.min.css\\\"}],\\\"type\\\":\\\"async_block\\\"})).then((imports) => handler.apply(this, imports));\\n}\\n\"],\"observables\":{\"value\":{\"sync\":false,\"id\":\"15474518390227095024\",\"value\":\"\\\\;\\\\;\"}}},\"children\":[{\"props\":{\"id\":\"container\"},\"nodeType\":\"DOM\",\"type\":\"node\",\"instanceArgs\":{\"namespace\":\"html\",\"tag\":\"div\"},\"children\":[]}]}]},{\"props\":{\"className\":\"field interact-widget\"},\"nodeType\":\"DOM\",\"type\":\"node\",\"instanceArgs\":{\"namespace\":\"html\",\"tag\":\"div\"},\"children\":[{\"props\":{},\"nodeType\":\"Scope\",\"type\":\"node\",\"instanceArgs\":{\"imports\":{\"data\":[{\"name\":\"knockout\",\"type\":\"js\",\"url\":\"\\/assetserver\\/727383f2a47bd31570b7da84eee7b022dd6d7c78-knockout.js\"},{\"name\":\"knockout_punches\",\"type\":\"js\",\"url\":\"\\/assetserver\\/382b41b3b1bd9f26f75861d360bad7f8beea211f-knockout_punches.js\"},{\"name\":null,\"type\":\"js\",\"url\":\"\\/assetserver\\/5ab20f1060420992a9b82a65b735dee4d81ef413-all.js\"},{\"name\":null,\"type\":\"css\",\"url\":\"\\/assetserver\\/1cc0ed62837210b80a182cc3676512f895dab686-style.css\"},{\"name\":null,\"type\":\"css\",\"url\":\"\\/assetserver\\/2eee816f616df3549d7044d45e744fbf8d42bfa1-bulma_confined.min.css\"}],\"type\":\"async_block\"},\"id\":\"11284474982609796899\",\"handlers\":{\"loading\":[\"(function (val){return (val!=this.model[\\\"loading\\\"]()) ? (this.valueFromJulia[\\\"loading\\\"]=true, this.model[\\\"loading\\\"](val)) : undefined})\"],\"clicks\":[\"(function (val){return (val!=this.model[\\\"clicks\\\"]()) ? (this.valueFromJulia[\\\"clicks\\\"]=true, this.model[\\\"clicks\\\"](val)) : undefined})\"]},\"systemjs_options\":null,\"mount_callbacks\":[\"function () {\\n    var handler = (function (ko, koPunches) {\\n    ko.punches.enableAll();\\n    ko.bindingHandlers.numericValue = {\\n        init: function(element, valueAccessor, allBindings, data, context) {\\n            var stringified = ko.observable(ko.unwrap(valueAccessor()));\\n            stringified.subscribe(function(value) {\\n                var val = parseFloat(value);\\n                if (!isNaN(val)) {\\n                    valueAccessor()(val);\\n                }\\n            });\\n            valueAccessor().subscribe(function(value) {\\n                var str = JSON.stringify(value);\\n                if ((str == \\\"0\\\") && ([\\\"-0\\\", \\\"-0.\\\"].indexOf(stringified()) >= 0))\\n                     return;\\n                 if ([\\\"null\\\", \\\"\\\"].indexOf(str) >= 0)\\n                     return;\\n                stringified(str);\\n            });\\n            ko.applyBindingsToNode(\\n                element,\\n                {\\n                    value: stringified,\\n                    valueUpdate: allBindings.get('valueUpdate'),\\n                },\\n                context,\\n            );\\n        }\\n    };\\n    var json_data = {\\\"loading\\\":WebIO.getval({\\\"name\\\":\\\"loading\\\",\\\"scope\\\":\\\"11284474982609796899\\\",\\\"id\\\":\\\"17331222008372044614\\\",\\\"type\\\":\\\"observable\\\"}),\\\"clicks\\\":WebIO.getval({\\\"name\\\":\\\"clicks\\\",\\\"scope\\\":\\\"11284474982609796899\\\",\\\"id\\\":\\\"4985382463413465311\\\",\\\"type\\\":\\\"observable\\\"})};\\n    var self = this;\\n    function AppViewModel() {\\n        for (var key in json_data) {\\n            var el = json_data[key];\\n            this[key] = Array.isArray(el) ? ko.observableArray(el) : ko.observable(el);\\n        }\\n        \\n        \\n        [this[\\\"loading\\\"].subscribe((function (val){!(this.valueFromJulia[\\\"loading\\\"]) ? (WebIO.setval({\\\"name\\\":\\\"loading\\\",\\\"scope\\\":\\\"11284474982609796899\\\",\\\"id\\\":\\\"17331222008372044614\\\",\\\"type\\\":\\\"observable\\\"},val)) : undefined; return this.valueFromJulia[\\\"loading\\\"]=false}),self),this[\\\"clicks\\\"].subscribe((function (val){!(this.valueFromJulia[\\\"clicks\\\"]) ? (WebIO.setval({\\\"name\\\":\\\"clicks\\\",\\\"scope\\\":\\\"11284474982609796899\\\",\\\"id\\\":\\\"4985382463413465311\\\",\\\"type\\\":\\\"observable\\\"},val)) : undefined; return this.valueFromJulia[\\\"clicks\\\"]=false}),self)]\\n        \\n    }\\n    self.model = new AppViewModel();\\n    self.valueFromJulia = {};\\n    for (var key in json_data) {\\n        self.valueFromJulia[key] = false;\\n    }\\n    ko.applyBindings(self.model, self.dom);\\n}\\n);\\n    (WebIO.importBlock({\\\"data\\\":[{\\\"name\\\":\\\"knockout\\\",\\\"type\\\":\\\"js\\\",\\\"url\\\":\\\"\\/assetserver\\/727383f2a47bd31570b7da84eee7b022dd6d7c78-knockout.js\\\"},{\\\"name\\\":\\\"knockout_punches\\\",\\\"type\\\":\\\"js\\\",\\\"url\\\":\\\"\\/assetserver\\/382b41b3b1bd9f26f75861d360bad7f8beea211f-knockout_punches.js\\\"}],\\\"type\\\":\\\"async_block\\\"})).then((imports) => handler.apply(this, imports));\\n}\\n\"],\"observables\":{\"loading\":{\"sync\":false,\"id\":\"17331222008372044614\",\"value\":false},\"clicks\":{\"sync\":true,\"id\":\"4985382463413465311\",\"value\":0}}},\"children\":[{\"props\":{\"attributes\":{\"data-bind\":\"click: function (){this.clicks(this.clicks()+1)}, css: {'is-loading' : loading}\"},\"className\":\"is-medium button is-primary\",\"style\":{}},\"nodeType\":\"DOM\",\"type\":\"node\",\"instanceArgs\":{\"namespace\":\"html\",\"tag\":\"button\"},\"children\":[\"save\"]}]}]}]}]},{\"props\":{\"className\":\"interact-widget\"},\"nodeType\":\"DOM\",\"type\":\"node\",\"instanceArgs\":{\"namespace\":\"html\",\"tag\":\"div\"},\"children\":[{\"props\":{},\"nodeType\":\"Scope\",\"type\":\"node\",\"instanceArgs\":{\"imports\":{\"data\":[{\"name\":null,\"type\":\"js\",\"url\":\"\\/assetserver\\/dd22ed1bf1896c2748f3fe616ce0b838adc895c1-katex.min.js\"},{\"name\":null,\"type\":\"css\",\"url\":\"\\/assetserver\\/46517a424aa5e6cffc1360d7e0848b601c584ee3-katex.min.css\"}],\"type\":\"async_block\"},\"id\":\"13706242531819596489\",\"handlers\":{\"value\":[\"(function (txt){return this.k.render(txt,this.container)})\"]},\"systemjs_options\":null,\"mount_callbacks\":[\"function () {\\n    var handler = ((function (k){this.k=k; this.container=this.dom.querySelector(\\\"#container\\\"); return k.render(\\\"\\\\\\\\;\\\\\\\\;\\\",this.container)}));\\n    (WebIO.importBlock({\\\"data\\\":[{\\\"name\\\":null,\\\"type\\\":\\\"js\\\",\\\"url\\\":\\\"\\/assetserver\\/dd22ed1bf1896c2748f3fe616ce0b838adc895c1-katex.min.js\\\"},{\\\"name\\\":null,\\\"type\\\":\\\"css\\\",\\\"url\\\":\\\"\\/assetserver\\/46517a424aa5e6cffc1360d7e0848b601c584ee3-katex.min.css\\\"}],\\\"type\\\":\\\"async_block\\\"})).then((imports) => handler.apply(this, imports));\\n}\\n\"],\"observables\":{\"value\":{\"sync\":false,\"id\":\"15474518390227095024\",\"value\":\"\\\\;\\\\;\"}}},\"children\":[{\"props\":{\"id\":\"container\"},\"nodeType\":\"DOM\",\"type\":\"node\",\"instanceArgs\":{\"namespace\":\"html\",\"tag\":\"div\"},\"children\":[]}]}]},{\"props\":{},\"nodeType\":\"Scope\",\"type\":\"node\",\"instanceArgs\":{\"imports\":{\"data\":[],\"type\":\"async_block\"},\"id\":\"13092845809365151166\",\"handlers\":{\"obs-output\":[\"function (value, scope) {\\n    scope.setInnerHTML(value);\\n}\\n\"]},\"systemjs_options\":null,\"mount_callbacks\":[],\"observables\":{\"obs-output\":{\"sync\":false,\"id\":\"4650450269167764865\",\"value\":\"<img src='data:image\\/png;base64,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'><\\/img>\"}}},\"children\":[{\"props\":{\"className\":\"webio-observable\",\"setInnerHtml\":\"<img src='data:image\\/png;base64,iVBORw0KGgoAAAANSUhEUgAAAa4AAAGuCAIAAABHl3XNAAAABmJLR0QA\\/wD\\/AP+gvaeTAAAeDElEQVR4nO2dzYolx7VGs8t3IPQOBk9r1FBDg4rzBhpW04+iie1X6IdoFWjqocA\\/IDQueiDQE2hqDwwGk30Hze3b3FvV2hEVO\\/f37Vxr1HycjIzcEecgZS12vHj\\/\\/v0GAHBurqonAABQDz+FAAD8FAIA8FMIALDxUwgAsPFTCACw8VMIALDxUwgAsPFTCACw8VMIALDxUwgAsPFTCACw8VMIALDxUwgAsPFTCACwbdt\\/TVyz7\\/vf\\/\\/73bdtub2+vrq7IycnJZfMgL0Zbt+77fnd3d3Nzs+\\/7w8PD\\/f39h7uSk5OTq+VxfvPHP\\/5x6IK\\/\\/e1v\\/\\/nPf7755pvb29uff\\/5527bf\\/e538fz777\\/\\/5Zdf3r1799133\\/32t7+dHmdVnj0f9\\/HV1sXleVfNc7QOo\\/dV25\\/LnzfO8H9Gbtv26X9IvnjxgpycnFw2DzLzP8ivXr16+fLl+\\/fv37179+233378D1RycnJyqTzO8E\\/h9j+vJ1+8ePHVV1\\/9\\/9eWJfkf\\/vCHbdv+9Kc\\/ic9n1Tyzx6+q8+j4q+pQtX+ynzc7t9gnQWb+gnx1dXW5XKTy6+vrD\\/8Qn8+qeWaPX1Xn0fFX1aFq\\/2Q\\/b3ZusU+CDP92AgD0o4lX+NNPP334h\\/h8Vs0ze\\/yqOo+Ov6oOVfsn+3mzc4t9EmT4gn3f7+7ufvzxxx9++OHVq1f7vivkX3755RdffKE\\/n1XzzB6\\/qs6j46+qQ9X+yX7e7Fx\\/n8TJ8grV\\/K9yv0mkblXPVbWOanVWm2f7PM7Mu0I1b4icnJwcr5CcnJzc3CtU8+O6+mVqHqha7r7u7nVInU+QmZ\\/Chbx9+3bbttevXwdz9\\/uOzmf081Xzd8d93avmk82R85l5VwgA0Ixir1DNj+vql6l5oGq5+7q71yF1PkGGL9it\\/Du1+6r5dOQ91t29DnnzifNcr1DNe6ry49zHr6q\\/2nOtmn\\/Vc53tvr+ax5l5V6jmDZGTk5PjFZKTk5OLeYVVnlR2\\/7Uqfyq7Pmp+H16eZj2t+2wGWewVVnlSo56diz+VXR938PLWUrUPFeo2864QAKAZi73CKk8qu\\/9alT+VXR81vw8vT7Oe1n02gwxfsEt6Utn917r2N1Tz+\\/DyNOvp22czztH9Cl28J\\/fzZNXGV1tfl3Fc1qvq+8I5yOTk5OR4heTk5OTKXqGaR+bif6nNp6u\\/ebZ1dP++nKhf4ShdPTu1+TyFu7+Zjdrzun9f6FcIAHAoZucgd\\/Xs1ObT1d882zq6f19O1K+wyttS87\\/U5tPV3zzbOrp\\/X5z6FW5d\\/CMRn2uVj+nib7qM41I3lzof9rxxZt4VqnlD5OTk5HiF5OTk5CfzCtW8J5f5ZPuD7vOnj2HjPIiZV\\/gUXX2uKtw9QTX\\/0aVuZ2bmXSEAQDPMvEI178llPtn+oPv86WPYOA8y82eTu7u7m5ubfd8fHh7u7+8\\/vrYkJycnl8rjqHuFVeOv8qTc+ySq1d+9Pmp5+\\/rEGf7PyE3PGyInJyfHKyQnJycv8gpXeVv4VmtzNT9u1efd94n7ulh7qUEmvcJV3ha+1VrU\\/LhVn3ffJ+7rsmo+yus4864QAKAZk17hKm8L32ptrubHrfq8+z5xXxdrLzXI8AX70r51av3d3HO1c35Xfd59n7ivi\\/55x0\\/lcdS9wvbe08G+mJr3p1YftTrQ3xOvkJycnHxBHgSvkJycvG0eZ7FXWOVDncqTKqyz2nOpra\\/a59XqWbIuQRZ7hdnjqPWbU\\/akPkXNO1Nj1fqqfb6K7N+HjDrMvCsEAGjGYq+wyoc6lSdVWGe151JbX7XPq9WzZF2CDF+wl56vWuUr6XhStXVWey619VX7vFo9j1+XOCpeYbl\\/JJ7jl3n5fWr7RK1P6Og8p+cfZ+ZdoZo3RE5OTo5XSE5OTn4yr9Ddh7LwsATr4zKOyz508R+X3DfIzF+Qr66urq+vP\\/zj\\/+SXy+XRzz+VrxpnVV71XNn3VVuvruO47MPs\\/Sn1PQoycw0AQDPMvEJ3H8rCwxKsj8s4LvvQxX9cct8gwxfspV6huw+l72Fp1sdlHJd96OI\\/Pv++cZ7rFbqcF5w9Dnmtp8Z+8xr\\/sN+NODPvCtW8IXJycnK8QnJycvIir7DKs1PrG3g2j6+qDl1z6nNAPYNM9iscJbsvYVUft+z5qI0zOr5Lf70qqM9anlPPmXeFAADNmPQKqzw7tb6BZ\\/P4qurQNac+B9QzyPAFu2Rfwiov7GweX9d+ju7+IPlT9YxztFdIXuthucyf+875dF37gdKvkJycnByvkJycnFzZK6w6v9jF43P3BKueV+1cYHdfNdvPtah\\/kIP6FWb3TXPpW+cyz6rnreqLp1bnqu9Ly\\/oHGf7tBADox0H9CrP7prn7d2rzrHpetXOB3X3VbD\\/Xov5Bhi\\/YD\\/EE3T0+d0\\/Q5fxll\\/VS6zNY1cfw+PrHOfoc5Kfys51jSx+92vu6r7v7fjhsPnFm3hWqeUPk5OTkeIXk5OTkYv0Kq85vVfOhpLwqwXm6eKZV81dbLxcPtMArvFwuj+ZV57eq+VCr8q7zdPFMq+avtl7Z6576vEGGfzsBAPqxuF9h1fmtaj6UlFclOE8Xz7Rq\\/mrr5eKBFniFaue3qvlQOl6V5jxdPFO184XV9pX+88Y52it07x9H3sNrUxvf\\/fOj4xzmmcaZeVeo5g2Rk5OT4xWSk5OTN\\/UKs33Drr6emgendl\\/3dVT7Xlj03wwi6hWOjp\\/tIVblVZ7mqvmo3dd9HdW+Fxb9N4MM\\/3YCAPRD1CvM9g27+npqHpzafd3XUe17YdF\\/M8jwBbtk\\/zKXc5PV\\/K+qfoLufQzV\\/NCq74V+\\/804Z+lX6JJX9bNzqbPLPFfN3\\/15s5\\/rV8eJM\\/OuUM0bIicnJ8crJCcnJxfzCqV8oga5xTmzgrl730P3eUrttyAzP4ULefv27bZtr1+\\/LpyDMtn16Vr\\/0ed66vNq9XeZZ\\/Y4Gcy8KwQAaMZir1DKJ2qQW5wzK5i79z10n6fUfgsyfMFu5Vu55\\/rnzGrm7n0P3eeps9\\/iPNcrdOlP13U+qzw1tX522fPvuh9W1U1tfafrFmfmXaGaN0ROTk6OV0hOTk5e5BXiox0zDvnn66nWz9Flv6n1JVToVzjpFSr7Qc\\/hDP6UI9k+3dl8vezPj46j8H2ZeVcIANCMSa8QH+2Yccg\\/X0+1fo4u+02tL6Fxv0J8tGPGIf98PdX6ObrsN7W+hJ37FXY977hr38Cqc3XV6uCyn9XqIzv\\/ODPvCtW8IXJycnK8QnJycnIxr1DNp1PzwtTOw3WvZ\\/a6qO1nF39Tar8FWewVKvhBn6LmhVXNx8WXVPPs1PZzNqvq4LLfPmXmXSEAQDMWe4VqPp2aF6Z2Hq57PbPXRW0\\/u\\/ibUvstyPAFe6mHpeb3qZ3PW+Xfqa2XSx9Atbzf+chxVPoVrsqz\\/TW151XLz9Z\\/sGqean0GZZ83zsy7QjVviJycnByvkJycnNzEK1Tzs1y8Myk\\/q3HuXp+u81\\/yvQtykFeo5me5eGeOfpYj7vXpOv8jv3cz7woBAJpxkFeo5me5eGdSflbj3L0+Xee\\/5HsXZPiCfco\\/UvOzXLwzHT+rd+5en67zf\\/73Lk5Wv8KncrXzdtU8uFVelZov6bKOPFetJ7i8\\/nFm3hWqeUPk5OTkeIXk5OTkJl5hiU\\/UYD7uflmVf2p9bm+Ddc\\/+Pg59PsjMX5Cvrq6ur68\\/\\/COYXy6XJeOsGt9lPqN59vir5rOqntl1yJ5n13XP\\/j4OfT7IzDUAAM0o7leY7Se6z8fdL6vyT63P7W2w7tnfx6HPBxm+YD+kr1lV3zS1+bj7ZVX+qe+5vT3WXee85jhHe4VP5V371ql5Xmq5+\\/qu2g9qfqtLjldITk5OjldITk5O3skrVPOqXHw3C5+rcX2qvMsqf9al\\/sZe4arcxSNzqU+VL+lSn+z7qvmzLvXHKwQAeBZNzkF28chc6mN97m2D+6r5sy71N\\/YK1bwqF99N3+fqXR\\/3c4fP8\\/2No3IOsovfl90\\/rurz7n6fSx2q1t0lX\\/5ccWbeFap5Q+Tk5OR4heTk5ORFXqGLt+XiVak9l1ofxrPlXb3Okn0SZPIc5FHUzml1Oa95lFXPlf15+DxV9Xc51zuDmXeFAADNmPQKXbwtF69K7bnU+jCeLe\\/qdZbskyDDF+xW3paLV6X2XGp9GM+Wd\\/U6j98ncdT7Fa76vEvuUgf3fnwu+0fNx6zat9PzjDPzrlDNGyInJyfHKyQnJyc38QrdPSwXb67KL1M777hq\\/mrnaLv4hqnPG2SyX+HlcpHKXfrxqdUhuz5V\\/R+r5q92jvbZ+kjSrxAA4Fkc5BW6e1gu3lyVX6Z23nHV\\/NXO0XbxDVOfN8jwBfspPSwXb67KL1M777hq\\/mrnaLv4hp3PQXbxy0bvm\\/15l\\/pk52r1z14vl3qq7SvOQSYnJyfHKyQnJyfHK9TxrdR8wGz\\/zr2eLs\\/rPn+p70WQg\\/oVZuPeX6+qT5xLn7tR3J\\/Xff6rOHKeM+8KAQCagVdoOf8q\\/869ni7P6z5\\/qe9FkOEL9hY+nZonWNUnzt076\\/q87vPX+V7EOfocZDsvScSzWzV\\/dz+uan3dn9dlfTkHmZycnByvkJycnPzMXmFV3zcX30rtudzHUVvf7Odyed7UPEixVzjqT53Nt1J7Lvdx1Nb3KVY9l8vzKjDzrhAAoBnFXmFV3zcX30rtudzHUVvf7Odyed7UPMjwBXupP3U230rtudzHUVvfqn6Ras\\/b4RxkNd\\/KZT5q81Srj1o9q\\/ohqq2Lyzw\\/fj7OzLtCNW+InJycHK+QnJycXMwrxPPyyl3OI67yWNXq7O4nltQhyGKvEM\\/Li2y\\/T20\\/VPl3VftHzU9U\\/h7NvCsEAGjGYq8Qz8srdzmPuMpjVauzu59YUocgwxfseF4C81F7rqpzftX6AKrtHzU\\/8fg6xMk6B\\/mpvMr\\/6tq3ruo83+z5u9Rf7bnUxim\\/b5yZd4Vq3hA5OTk5XiE5OTm5mFd4Nn+tqq+ihc8lmGd7dmrrrvY9LXmuIAf1K+zqr1X1VRxF2ec6kmzPTm3dRzmDP\\/gUM+8KAQCacVC\\/wq7+WlVfRQufSzDP9uzU1l3te1ryXEGGL9jx154xHxe\\/rGue7dmprbva97Rzv8LNxAfMnmfVfNSeq2octf3j3lexzfcizsy7QjVviJycnByvkJycnFzMK+zqzVX5jGr95txz9zqozd9ivwUp7lfoct8qn1Gt35w77nVQm3+n\\/TbzrhAAoBnF\\/QrVfCg1n1Gt35x77l4Htflb7Lcgwxfskj6RS5+7qs\\/reF61uXsd1Oavv9\\/iqHiFq3I1v8ylDlV9HtU8O3LNuk3PJ87Mu0I1b4icnJwcr5CcnJxczCtU84\\/Uxlc7F\\/hsz1vVj09tHd2\\/R0PjBCnuV+h+\\/qyaV5iN+\\/NW9eNTW8dRuq7Lp8y8KwQAaEZxv0L382fVvEI1r03teav68amto\\/v3aGicIMMX7Fb+kdr4aucCn+15q\\/rxqa2j+\\/coPk6c53qFq3wxfMBjPK\\/s9cp+Xvd+iC7fC7X9Nj3PODPvCtW8IXJycnK8QnJycvIir5A+emtz9zq4+3ruvmTV986iDkEmvUL66K3FvQ7uvp67Lzl6X5e6HcnMu0IAgGZMeoX00Vubu9fB3ddz9yWrvncWdQgyfMFOH72E3L0O7r6euy9Z9b3Tr0OcrH6FLj6gi6fmcl6ti4+mVrfsfaX2XIfVJ87Mu0I1b4icnJwcr5CcnJzcpF+hmmenNr6ad6Y2vnt91HxJtXVPnU+Qg\\/oVjuLSH23V+Gremdr47vVR8yXV1l3BN5x5VwgA0IyD+hWqeXZq46t5Z2rju9dHzZdUW\\/fU+QQZvmC38tRcxlfzztTGd6+Pmi+ptu5584lzdq8we\\/7ufpyap+buXartT7X6L8\\/jzLwrVPOGyMnJyfEKycnJycW8QimfaGHe9blcPLtV3pzauqj5fS750PoGWewVOvpEEbo+1yhqnuCoN6e2Lmp+nwsZ6zvzrhAAoBmLvUIpn2hh3vW5XDy7Vd6c2rqo+X0u+dD6Bhm+YDfxidbmXZ\\/LxbNb5c2prYua3+eSx9c3TpZX+FSu5uup+VnZ9101H\\/f6s2971Id+heTk5OR4heTk5OQKXqGaD9W1n53a+bxq6+6yH9Tm41LPJXmQg85Bzh6\\/az87tfN51dY9e5xV91WbT9U4ysy8KwQAaMZB5yB39fjU+sqpfV6tnlK+W4P9qeYbPpoHGb5gl\\/ShuvazUzufV23dXfaD2nxc6tmhX+FTuVq\\/s6r5uPfXqzrHObs+7v0WXfbPYXmcmXeFat4QOTk5OV4hOTk5uVi\\/QpdczY\\/DR+tdz677fFX9U9criOg5yNmo+XH4aGvHUatnFWr7R7m\\/5My7QgCAZoieg+ziW2X7evhoPerZdZ+vqn\\/qegUZvmAX84bmcjU\\/Dh+tdz277vPsPpLPn3+c53qFal6Smre1ap5qftyq+1Y9V1V\\/RrX1csmn6xNn5l2hmjdETk5OjldITk5Ojle4bbv\\/ebguXlj2urjM070vZNdc6BzkKpR9peeg5oWtGsfFW3TpIwkf4BxkAIBn0cQrdD8P18ULy14Xl3m694Xsmgudg6zmT7n7ZWpemFr\\/PpfzlNX6QnbNFc9BdvH7RvOuPpq735e9vmrr5bI\\/V90Xr5CcnJwcr5CcnJz8zF6hWp+7Kv+r6\\/hV\\/excPFM1n9Slzs\\/xCmf+gnx1dXW5XFLz6+vrD\\/84eJzsz1fVQW387HzVfLL3edW6ZNenqs6Pjh9k5hoAgGaIeoVqfe6q\\/K+u41f1s3PxTNV8Upc6N\\/QK1frcufQ9dBm\\/qp+di2eq5pO61FnRK3TPsz0ytfFdxnHZD2rr65Ivf644M+8K1bwhcnJycrxCcnJycrzCQ8bpel81ny77uar6WuK3rr3vUB4Er1B6\\/tn3VfPpsp8r21usWhd3\\/zR1HYPMXAMA0Ay8Qun5q3mULp6d1Dm8B6yLu3+auo5Bhi\\/YrbwqNT9L7b5qPl3VOchqfRXV1lFtP8fzOEf3K1z1+dFx1Lw2tfFd+vGp5V3XsU0948y8K1TzhsjJycnxCsnJyclNvEI1f01tPmqemtr81XL3vn7u6zI0zyAHnYOsdq6r2nxGcT9XV20+o2Sfj+x+\\/nU2GfOceVcIANCMg7xCNX9NbT5qnpra\\/NVy975+7usyNM8gwxfsVl6Sy3zUPDW1+avl7n393NclPs84z\\/UKXTwm5lnraa4a36U+avc9m5\\/4MY8z865QzRsiJycnxyskJycnF\\/MKq\\/rBqfliaj4g5wt71dm9nlLrEmRxv8KqfnCrcve+dVXr4rK+LnV2r6fUugQZ\\/u0EAOjHYq+wqh+cmi+m5gNyvrBXnd3rKbUuQYYv2A\\/pE6fmK7n0rataF5f1damzez111iVOllfo7jGpzd+ln6BL3dTu6+4nVj3vr44TZ+ZdoZo3RE5OTo5XSE5OTo5XWHrfKn9K7bnUfEz3vKvvWXLfIE28Qnc\\/y93jU\\/Mx3fOuvmfJfYMM\\/3YCAPSjiVfo7me5e3xqPqZ73tX3LLlvkOELdkmv0N3Pcvf41HxM97yr73n8feNknYP8VK7mVa3Kq\\/rHufhoXXO1dTnbc+EVkpOTk+MVkpOTkyt7hVI+UeF91frluXuOauuYPZ+udSuZZ5Dm5yCf7VzXqnGyz\\/NVW8fs+XSt21MozHPmXSEAQDOan4Ps4qOp+Xdq\\/praOmbPp2vdSuYZZPiC3cQnqr2vWr88d89RbR2z59O1bsfPM87RXqFa7tK3Tq3vnsv4anl5\\/z7x\\/by8\\/nFm3hWqeUPk5OTkeIXk5OTkeIWfHd\\/dZ1TzBLv6aO7juOzzkvoEaeIVZnttq+bjMo6C5xXBvc6rxnHZ52p1\\/pSZd4UAAM1o4hV27cum5gl29dHcx3HZ5yX1CTJ8wS7mDX1+fHefUc0T7OqjuY\\/jss+Pr08cvMIanyv7vi7P5VI39\\/O+Xe67fJ5xZt4VqnlD5OTk5HiF5OTk5EVeYfY5re7+lJovqTZ\\/d29UypsTHF8qDzLpFa7y+Lr6U9n3PVvd1LzRp1D25o4c35GZd4UAAM2Y9Aqzz2l196fUfEm1+bt7o1LenOD4UnmQ4Qv2Q85pdfen1HxJtfm7e6M63pzm+Dp5HBWv0K4Pmoj\\/qOblVX1ebV2qxnEfH6+QnJycHK+QnJyc3NErdPeVXObZ1Wtzr8\\/Z6uZSn0fHD7K4X6GLr+Qyz1FcvLYq8PVqUa7\\/zLtCAIBmLO5X6OIrucyzq9fmXp+z1c2lPo+OH2TmzyZ3d3c3Nzf7vj88PNzf3398bUlOTk4ulcdR8QpX5Wo+mlqfuFV+n\\/u5zC7juM+z\\/PsYZ\\/g\\/Izc9b4icnJwcr5CcnJxczCvM9oyqPq\\/mi43OU803dBnHpS8k+WfqH+Sgc5CfQq2\\/oXtfvOz5n20cl76Q8AG8QgCAZ3HQOcirPKOqz6v5YqPzVPMNXcZx6QtJ\\/pn6Bxm+YLc6R3XV59X6u43OU62Pnss4Ln0hyZ+qf5zneoX0v\\/PyBNXm714Hl\\/qvqmeVVzg9TpyZd4Vq3hA5OTk5XiE5OTm5iVfo7uup+YBqPp17nV3uq3aetdr399E8yMxfkK+uri6Xy1B+fX394R\\/BfHT8VXn2fEbrkF23qnVRq7PLfau+Ly7f30fzIMO\\/nQAA\\/TjIK3T39dR8QDWfzr3OLvdVO89a7fv7aB5k+IKdc2wPrEOVJ+h+Dq\\/ac6l5lGrPdcZzkN373K0aP7tvYNe6Va2Lu7d4Ng\\/3Yx5n5l2hmjdETk5OjldITk5OXuQVuvR3U5tPlUem9lwu9ezqb6p9L1LrHGSyX6FLfze1+Yyi1tfPnar9UNUHs+v3NGOcmXeFAADNmPQKXfq7qc1HrR+flP8lWM+u\\/qba9yK1zkGGL9it+rupzUetH5+O\\/6VZz67+ptr3Iq\\/Ocbqdg+ySq\\/l0VeO7zDP7vtnnVruv43QeZ+ZdoZo3RE5OTo5XSE5OTi7mFWb7XC5+nIuHtar+Z9sPavVXu6\\/U\\/g8y2a9wtE\\/Zqs9b9Ec7YJ5qfffOth\\/U6q92X6n9H2T4txMAoB+LvcJsn8vFj3PxsFbV\\/2z7Qa3+aveV2v9Bhi\\/YD\\/GSfPujHTNPNR\\/tbPtBq\\/63tz9+\\/fUPX3\\/96nJ5Vt7RQ4yT5RWqnXsr6z2J5Gr+Hb7hQP7mzTf\\/\\/Oftv\\/\\/98z\\/+sf3+94\\/m3\\/\\/rX\\/973z\\/\\/+fHPC3wfl9cnzsy7QjVviJycnByvkJz83Pnl8vLh4f2LF+9evvz2L3+Zz9Wey8IrVPP11PrQufhrrGOPdVHzLqXqH2SyX2EVav3XXPq4qaG2jqOorUtVP8QqMp5r5l0hAEAzDjoHuav3JOVPGeVq6+i+LmrepVT9g8z82eTu7u7m5mbf94eHh\\/v7+4+vLcnJyRfkt7c3797t2\\/bw8uX9X\\/96XK5WhxV5nLP0K3T3CrO9rbP1uVOr5\\/aEJxjyAQOfX+UVqq3Lr+Zxhv8zctPzhsjJycnxCsnJe+WrPEG8whEWe4X4fZ\\/\\/vJrnpbZeavuB9dKsw1AeZLFXiN\\/3+c+reV5q66W2H1ivteMoM\\/OuEACgGYu9Qvy+z39ezfNSWy+1\\/cB6adZhKA8yfMFudc6s2vm5av0W1dZLbT+sGWdVP8Hb2y\\/fvPnizZusz3c8RzuOer9Ctdzdp3Opm5pvmO0JVuVVXuFh6xtn5l2hmjdETk5OjldITq6dV3mCeIUjNPEKq3zArn4cHuUx41Q9r9o+T51\\/kMlzkC+Xy6O59Xmpn\\/l89rnA2fU52znFavVUe161fZ46\\/yAz1wAANKOJV1jlA3b14\\/Aojxmn6nnV9nnq\\/IMMX7BLempVPmBXPw6Psnbfrsmf9gofz+v2ed73MY56v0L383DVPES1capytflXnY+s1q9weX3izLwrVPOGyMnJyfEKycnJV\\/iMavO39grdPSy1XK1uVb6hi3+qtr5V9ZfyTIMcdA7yGfqdZaBWt6q+jS79KLPvu2r87Od16df5KTPvCgEAmnHQOcguHpZarla3Kt\\/QxT9VW9+q+kt5pkGGL9gbe1h6uVrdqnxDF\\/9UrR\\/iqFeotu4d+hWuyrPPq101H7V+fO7zrJpP1TyftV7PODf5Ka\\/Qpc6\\/mseZeVeo5g2Rk5OT4xWSk587p1\\/h03mcg7xCcnJy8pI8yEFeIQCAMjPvCgEAmsFPIQAAP4UAAPwUAgBs\\/BQCAGz8FAIAbPwUAgBs\\/BQCAGz8FAIAbPwUAgBs\\/BQCAGz8FAIAbPwUAgBs\\/BQCAGz8FAIAbNv2321ekIZBOpYTAAAAAElFTkSuQmCC'><\\/img>\"},\"nodeType\":\"DOM\",\"type\":\"node\",\"instanceArgs\":{\"namespace\":\"html\",\"tag\":\"div\"},\"children\":[]}]},{\"props\":{\"className\":\"interact-widget\"},\"nodeType\":\"DOM\",\"type\":\"node\",\"instanceArgs\":{\"namespace\":\"html\",\"tag\":\"div\"},\"children\":[{\"props\":{},\"nodeType\":\"Scope\",\"type\":\"node\",\"instanceArgs\":{\"imports\":{\"data\":[{\"name\":null,\"type\":\"js\",\"url\":\"\\/assetserver\\/dd22ed1bf1896c2748f3fe616ce0b838adc895c1-katex.min.js\"},{\"name\":null,\"type\":\"css\",\"url\":\"\\/assetserver\\/46517a424aa5e6cffc1360d7e0848b601c584ee3-katex.min.css\"}],\"type\":\"async_block\"},\"id\":\"13706242531819596489\",\"handlers\":{\"value\":[\"(function (txt){return this.k.render(txt,this.container)})\"]},\"systemjs_options\":null,\"mount_callbacks\":[\"function () {\\n    var handler = ((function (k){this.k=k; this.container=this.dom.querySelector(\\\"#container\\\"); return k.render(\\\"\\\\\\\\;\\\\\\\\;\\\",this.container)}));\\n    (WebIO.importBlock({\\\"data\\\":[{\\\"name\\\":null,\\\"type\\\":\\\"js\\\",\\\"url\\\":\\\"\\/assetserver\\/dd22ed1bf1896c2748f3fe616ce0b838adc895c1-katex.min.js\\\"},{\\\"name\\\":null,\\\"type\\\":\\\"css\\\",\\\"url\\\":\\\"\\/assetserver\\/46517a424aa5e6cffc1360d7e0848b601c584ee3-katex.min.css\\\"}],\\\"type\\\":\\\"async_block\\\"})).then((imports) => handler.apply(this, imports));\\n}\\n\"],\"observables\":{\"value\":{\"sync\":false,\"id\":\"15474518390227095024\",\"value\":\"\\\\;\\\\;\"}}},\"children\":[{\"props\":{\"id\":\"container\"},\"nodeType\":\"DOM\",\"type\":\"node\",\"instanceArgs\":{\"namespace\":\"html\",\"tag\":\"div\"},\"children\":[]}]}]},{\"props\":{\"style\":{\"display\":\"flex\",\"flex-direction\":\"column\"}},\"nodeType\":\"DOM\",\"type\":\"node\",\"instanceArgs\":{\"namespace\":\"html\",\"tag\":\"div\"},\"children\":[]}]}]},\n",
       "        window,\n",
       "    );\n",
       "    })()\n",
       "    </script>\n",
       "</div>\n"
      ],
      "text/plain": [
       "WebIO.Node{WebIO.DOM}(WebIO.DOM(:html, :div), Any[WebIO.Node{WebIO.DOM}(WebIO.DOM(:html, :div), Any[WebIO.Node{WebIO.DOM}(WebIO.DOM(:html, :div), Any[WebIO.Node{WebIO.DOM}(WebIO.DOM(:html, :div), Any[WebIO.Scope(WebIO.Node{WebIO.DOM}(WebIO.DOM(:html, :div), Any[WebIO.Node{WebIO.DOM}(WebIO.DOM(:html, :div), Any[WebIO.Node{WebIO.DOM}(WebIO.DOM(:html, :label), Any[\"time\"], Dict{Symbol, Any}(:className => \"interact \", :style => Dict{Any, Any}(:padding => \"5px 10px 0px 10px\")))], Dict{Symbol, Any}(:className => \"interact-flex-row-left\")), WebIO.Node{WebIO.DOM}(WebIO.DOM(:html, :div), Any[WebIO.Node{WebIO.DOM}(WebIO.DOM(:html, :input), Any[], Dict{Symbol, Any}(:max => 101, :min => 1, :attributes => Dict{Any, Any}(:type => \"range\", Symbol(\"data-bind\") => \"numericValue: index, valueUpdate: 'input', event: {change: function (){this.changes(this.changes()+1)}}\", \"orient\" => \"horizontal\"), :step => 1, :className => \"slider slider is-fullwidth\", :style => Dict{Any, Any}()))], Dict{Symbol, Any}(:className => \"interact-flex-row-center\")), WebIO.Node{WebIO.DOM}(WebIO.DOM(:html, :div), Any[WebIO.Node{WebIO.DOM}(WebIO.DOM(:html, :p), Any[], Dict{Symbol, Any}(:attributes => Dict(\"data-bind\" => \"text: formatted_val\")))], Dict{Symbol, Any}(:className => \"interact-flex-row-right\"))], Dict{Symbol, Any}(:className => \"interact-flex-row interact-widget\")), Dict{String, Tuple{Observables.AbstractObservable, Union{Nothing, Bool}}}(\"changes\" => (Observable(0), nothing), \"index\" => (Observable(51), nothing)), Set{String}(), nothing, WebIO.Asset[WebIO.Asset(\"js\", \"knockout\", \"/home/dushya/.julia/packages/Knockout/HReiN/src/../assets/knockout.js\"), WebIO.Asset(\"js\", \"knockout_punches\", \"/home/dushya/.julia/packages/Knockout/HReiN/src/../assets/knockout_punches.js\"), WebIO.Asset(\"js\", nothing, \"/home/dushya/.julia/packages/InteractBase/LJXv3/src/../assets/all.js\"), WebIO.Asset(\"css\", nothing, \"/home/dushya/.julia/packages/InteractBase/LJXv3/src/../assets/style.css\"), WebIO.Asset(\"css\", nothing, \"/home/dushya/.julia/packages/Interact/PENUy/src/../assets/bulma_confined.min.css\")], Dict{Any, Any}(\"changes\" => Any[WebIO.JSString(\"(function (val){return (val!=this.model[\\\"changes\\\"]()) ? (this.valueFromJulia[\\\"changes\\\"]=true, this.model[\\\"changes\\\"](val)) : undefined})\")], \"index\" => Any[WebIO.JSString(\"(function (val){return (val!=this.model[\\\"index\\\"]()) ? (this.valueFromJulia[\\\"index\\\"]=true, this.model[\\\"index\\\"](val)) : undefined})\")]), WebIO.ConnectionPool(Channel{Any}(32), Set{WebIO.AbstractConnection}(), Base.GenericCondition{ReentrantLock}(Base.IntrusiveLinkedList{Task}(Task (runnable) @0x00007f2a4ef3eef0, Task (runnable) @0x00007f2a4ef3eef0), ReentrantLock(nothing, 0x00000000, 0x00, Base.GenericCondition{Base.Threads.SpinLock}(Base.IntrusiveLinkedList{Task}(nothing, nothing), Base.Threads.SpinLock(0)), (0, 139818834264752, 139818806197664)))), WebIO.JSString[WebIO.JSString(\"function () {\\n    var handler = (function (ko, koPunches) {\\n    ko.punches.enableAll();\\n    ko.bindingHandlers.numericValue = {\\n        init: function(element, valueAccessor, allBindings, data, context) {\\n            var stringified = ko.observable(ko.unwrap(valueAccessor()));\\n            stringified.subscribe(function(value) {\\n                var val = parseFloat(value);\\n                if (!isNaN(val)) {\\n                    valueAccessor()(val);\\n                }\\n            });\\n            valueAccessor().subscribe(function(value) {\\n                var str = JSON.stringify(value);\\n                if ((str == \\\"0\\\") && ([\\\"-0\\\", \\\"-0.\\\"].indexOf(stringified()) >= 0))\\n                     return;\\n                 if ([\\\"null\\\", \\\"\\\"].indexOf(str) >= 0)\\n                     return;\\n                stringified(str);\\n            });\\n            ko.applyBindingsToNode(\\n                element,\\n                {\\n                    value: stringified,\\n                    valueUpdate: allBindings.get('valueUpdate'),\\n                },\\n                context,\\n            );\\n        }\\n    };\\n    var json_data = {\\\"formatted_vals\\\":[\\\"1\\\",\\\"2\\\",\\\"3\\\",\\\"4\\\",\\\"5\\\",\\\"6\\\",\\\"7\\\",\\\"8\\\",\\\"9\\\",\\\"10\\\",\\\"11\\\",\\\"12\\\",\\\"13\\\",\\\"14\\\",\\\"15\\\",\\\"16\\\",\\\"17\\\",\\\"18\\\",\\\"19\\\",\\\"20\\\",\\\"21\\\",\\\"22\\\",\\\"23\\\",\\\"24\\\",\\\"25\\\",\\\"26\\\",\\\"27\\\",\\\"28\\\",\\\"29\\\",\\\"30\\\",\\\"31\\\",\\\"32\\\",\\\"33\\\",\\\"34\\\",\\\"35\\\",\\\"36\\\",\\\"37\\\",\\\"38\\\",\\\"39\\\",\\\"40\\\",\\\"41\\\",\\\"42\\\",\\\"43\\\",\\\"44\\\",\\\"45\\\",\\\"46\\\",\\\"47\\\",\\\"48\\\",\\\"49\\\",\\\"50\\\",\\\"51\\\",\\\"52\\\",\\\"53\\\",\\\"54\\\",\\\"55\\\",\\\"56\\\",\\\"57\\\",\\\"58\\\",\\\"59\\\",\\\"60\\\",\\\"61\\\",\\\"62\\\",\\\"63\\\",\\\"64\\\",\\\"65\\\",\\\"66\\\",\\\"67\\\",\\\"68\\\",\\\"69\\\",\\\"70\\\",\\\"71\\\",\\\"72\\\",\\\"73\\\",\\\"74\\\",\\\"75\\\",\\\"76\\\",\\\"77\\\",\\\"78\\\",\\\"79\\\",\\\"80\\\",\\\"81\\\",\\\"82\\\",\\\"83\\\",\\\"84\\\",\\\"85\\\",\\\"86\\\",\\\"87\\\",\\\"88\\\",\\\"89\\\",\\\"90\\\",\\\"91\\\",\\\"92\\\",\\\"93\\\",\\\"94\\\",\\\"95\\\",\\\"96\\\",\\\"97\\\",\\\"98\\\",\\\"99\\\",\\\"100\\\",\\\"101\\\"],\\\"changes\\\":WebIO.getval({\\\"name\\\":\\\"changes\\\",\\\"scope\\\":\\\"1086430649426854201\\\",\\\"id\\\":\\\"7740880684107547095\\\",\\\"type\\\":\\\"observable\\\"}),\\\"index\\\":WebIO.getval({\\\"name\\\":\\\"index\\\",\\\"scope\\\":\\\"1086430649426854201\\\",\\\"id\\\":\\\"9928902268133086538\\\",\\\"type\\\":\\\"observable\\\"})};\\n    var self = this;\\n    function AppViewModel() {\\n        for (var key in json_data) {\\n            var el = json_data[key];\\n            this[key] = Array.isArray(el) ? ko.observableArray(el) : ko.observable(el);\\n        }\\n        \\n        [this[\\\"formatted_val\\\"]=ko.computed(    function(){\\n        return this.formatted_vals()[parseInt(this.index())-(1)];\\n    }\\n,this)]\\n        [this[\\\"changes\\\"].subscribe((function (val){!(this.valueFromJulia[\\\"changes\\\"]) ? (WebIO.setval({\\\"name\\\":\\\"changes\\\",\\\"scope\\\":\\\"1086430649426854201\\\",\\\"id\\\":\\\"7740880684107547095\\\",\\\"type\\\":\\\"observable\\\"},val)) : undefined; return this.valueFromJulia[\\\"changes\\\"]=false}),self),this[\\\"index\\\"].subscribe((function (val){!(this.valueFromJulia[\\\"index\\\"]) ? (WebIO.setval({\\\"name\\\":\\\"index\\\",\\\"scope\\\":\\\"1086430649426854201\\\",\\\"id\\\":\\\"9928902268133086538\\\",\\\"type\\\":\\\"observable\\\"},val)) : undefined; return this.valueFromJulia[\\\"index\\\"]=false}),self)]\\n        \\n    }\\n    self.model = new AppViewModel();\\n    self.valueFromJulia = {};\\n    for (var key in json_data) {\\n        self.valueFromJulia[key] = false;\\n    }\\n    ko.applyBindings(self.model, self.dom);\\n}\\n);\\n    (WebIO.importBlock({\\\"data\\\":[{\\\"name\\\":\\\"knockout\\\",\\\"type\\\":\\\"js\\\",\\\"url\\\":\\\"/assetserver/727383f2a47bd31570b7da84eee7b022dd6d7c78-knockout.js\\\"},{\\\"name\\\":\\\"knockout_punches\\\",\\\"type\\\":\\\"js\\\",\\\"url\\\":\\\"/assetserver/382b41b3b1bd9f26f75861d360bad7f8beea211f-knockout_punches.js\\\"}],\\\"type\\\":\\\"async_block\\\"})).then((imports) => handler.apply(this, imports));\\n}\\n\")])], Dict{Symbol, Any}(:className => \"field interact-widget\")), WebIO.Node{WebIO.DOM}(WebIO.DOM(:html, :div), Any[WebIO.Scope(WebIO.Node{WebIO.DOM}(WebIO.DOM(:html, :div), Any[WebIO.Node{WebIO.DOM}(WebIO.DOM(:html, :div), Any[WebIO.Node{WebIO.DOM}(WebIO.DOM(:html, :label), Any[\"scale\"], Dict{Symbol, Any}(:className => \"interact \", :style => Dict{Any, Any}(:padding => \"5px 10px 0px 10px\")))], Dict{Symbol, Any}(:className => \"interact-flex-row-left\")), WebIO.Node{WebIO.DOM}(WebIO.DOM(:html, :div), Any[WebIO.Node{WebIO.DOM}(WebIO.DOM(:html, :input), Any[], Dict{Symbol, Any}(:max => 20, :min => 1, :attributes => Dict{Any, Any}(:type => \"range\", Symbol(\"data-bind\") => \"numericValue: index, valueUpdate: 'input', event: {change: function (){this.changes(this.changes()+1)}}\", \"orient\" => \"horizontal\"), :step => 1, :className => \"slider slider is-fullwidth\", :style => Dict{Any, Any}()))], Dict{Symbol, Any}(:className => \"interact-flex-row-center\")), WebIO.Node{WebIO.DOM}(WebIO.DOM(:html, :div), Any[WebIO.Node{WebIO.DOM}(WebIO.DOM(:html, :p), Any[], Dict{Symbol, Any}(:attributes => Dict(\"data-bind\" => \"text: formatted_val\")))], Dict{Symbol, Any}(:className => \"interact-flex-row-right\"))], Dict{Symbol, Any}(:className => \"interact-flex-row interact-widget\")), Dict{String, Tuple{Observables.AbstractObservable, Union{Nothing, Bool}}}(\"changes\" => (Observable(0), nothing), \"index\" => (Observable{Any}(10), nothing)), Set{String}(), nothing, WebIO.Asset[WebIO.Asset(\"js\", \"knockout\", \"/home/dushya/.julia/packages/Knockout/HReiN/src/../assets/knockout.js\"), WebIO.Asset(\"js\", \"knockout_punches\", \"/home/dushya/.julia/packages/Knockout/HReiN/src/../assets/knockout_punches.js\"), WebIO.Asset(\"js\", nothing, \"/home/dushya/.julia/packages/InteractBase/LJXv3/src/../assets/all.js\"), WebIO.Asset(\"css\", nothing, \"/home/dushya/.julia/packages/InteractBase/LJXv3/src/../assets/style.css\"), WebIO.Asset(\"css\", nothing, \"/home/dushya/.julia/packages/Interact/PENUy/src/../assets/bulma_confined.min.css\")], Dict{Any, Any}(\"changes\" => Any[WebIO.JSString(\"(function (val){return (val!=this.model[\\\"changes\\\"]()) ? (this.valueFromJulia[\\\"changes\\\"]=true, this.model[\\\"changes\\\"](val)) : undefined})\")], \"index\" => Any[WebIO.JSString(\"(function (val){return (val!=this.model[\\\"index\\\"]()) ? (this.valueFromJulia[\\\"index\\\"]=true, this.model[\\\"index\\\"](val)) : undefined})\")]), WebIO.ConnectionPool(Channel{Any}(32), Set{WebIO.AbstractConnection}(), Base.GenericCondition{ReentrantLock}(Base.IntrusiveLinkedList{Task}(Task (runnable) @0x00007f2a4ef61c30, Task (runnable) @0x00007f2a4ef61c30), ReentrantLock(nothing, 0x00000000, 0x00, Base.GenericCondition{Base.Threads.SpinLock}(Base.IntrusiveLinkedList{Task}(nothing, nothing), Base.Threads.SpinLock(0)), (0, 139818834347824, 139818806624128)))), WebIO.JSString[WebIO.JSString(\"function () {\\n    var handler = (function (ko, koPunches) {\\n    ko.punches.enableAll();\\n    ko.bindingHandlers.numericValue = {\\n        init: function(element, valueAccessor, allBindings, data, context) {\\n            var stringified = ko.observable(ko.unwrap(valueAccessor()));\\n            stringified.subscribe(function(value) {\\n                var val = parseFloat(value);\\n                if (!isNaN(val)) {\\n                    valueAccessor()(val);\\n                }\\n            });\\n            valueAccessor().subscribe(function(value) {\\n                var str = JSON.stringify(value);\\n                if ((str == \\\"0\\\") && ([\\\"-0\\\", \\\"-0.\\\"].indexOf(stringified()) >= 0))\\n                     return;\\n                 if ([\\\"null\\\", \\\"\\\"].indexOf(str) >= 0)\\n                     return;\\n                stringified(str);\\n            });\\n            ko.applyBindingsToNode(\\n                element,\\n                {\\n                    value: stringified,\\n                    valueUpdate: allBindings.get('valueUpdate'),\\n                },\\n                context,\\n            );\\n        }\\n    };\\n    var json_data = {\\\"formatted_vals\\\":[\\\"0.1\\\",\\\"0.2\\\",\\\"0.3\\\",\\\"0.4\\\",\\\"0.5\\\",\\\"0.6\\\",\\\"0.7\\\",\\\"0.8\\\",\\\"0.9\\\",\\\"1.0\\\",\\\"1.1\\\",\\\"1.2\\\",\\\"1.3\\\",\\\"1.4\\\",\\\"1.5\\\",\\\"1.6\\\",\\\"1.7\\\",\\\"1.8\\\",\\\"1.9\\\",\\\"2.0\\\"],\\\"changes\\\":WebIO.getval({\\\"name\\\":\\\"changes\\\",\\\"scope\\\":\\\"1444910984012672743\\\",\\\"id\\\":\\\"12363834910018543230\\\",\\\"type\\\":\\\"observable\\\"}),\\\"index\\\":WebIO.getval({\\\"name\\\":\\\"index\\\",\\\"scope\\\":\\\"1444910984012672743\\\",\\\"id\\\":\\\"15871441398425555442\\\",\\\"type\\\":\\\"observable\\\"})};\\n    var self = this;\\n    function AppViewModel() {\\n        for (var key in json_data) {\\n            var el = json_data[key];\\n            this[key] = Array.isArray(el) ? ko.observableArray(el) : ko.observable(el);\\n        }\\n        \\n        [this[\\\"formatted_val\\\"]=ko.computed(    function(){\\n        return this.formatted_vals()[parseInt(this.index())-(1)];\\n    }\\n,this)]\\n        [this[\\\"changes\\\"].subscribe((function (val){!(this.valueFromJulia[\\\"changes\\\"]) ? (WebIO.setval({\\\"name\\\":\\\"changes\\\",\\\"scope\\\":\\\"1444910984012672743\\\",\\\"id\\\":\\\"12363834910018543230\\\",\\\"type\\\":\\\"observable\\\"},val)) : undefined; return this.valueFromJulia[\\\"changes\\\"]=false}),self),this[\\\"index\\\"].subscribe((function (val){!(this.valueFromJulia[\\\"index\\\"]) ? (WebIO.setval({\\\"name\\\":\\\"index\\\",\\\"scope\\\":\\\"1444910984012672743\\\",\\\"id\\\":\\\"15871441398425555442\\\",\\\"type\\\":\\\"observable\\\"},val)) : undefined; return this.valueFromJulia[\\\"index\\\"]=false}),self)]\\n        \\n    }\\n    self.model = new AppViewModel();\\n    self.valueFromJulia = {};\\n    for (var key in json_data) {\\n        self.valueFromJulia[key] = false;\\n    }\\n    ko.applyBindings(self.model, self.dom);\\n}\\n);\\n    (WebIO.importBlock({\\\"data\\\":[{\\\"name\\\":\\\"knockout\\\",\\\"type\\\":\\\"js\\\",\\\"url\\\":\\\"/assetserver/727383f2a47bd31570b7da84eee7b022dd6d7c78-knockout.js\\\"},{\\\"name\\\":\\\"knockout_punches\\\",\\\"type\\\":\\\"js\\\",\\\"url\\\":\\\"/assetserver/382b41b3b1bd9f26f75861d360bad7f8beea211f-knockout_punches.js\\\"}],\\\"type\\\":\\\"async_block\\\"})).then((imports) => handler.apply(this, imports));\\n}\\n\")])], Dict{Symbol, Any}(:className => \"field interact-widget\")), WebIO.Node{WebIO.DOM}(WebIO.DOM(:html, :div), Any[WebIO.Node{WebIO.DOM}(WebIO.DOM(:html, :div), Any[WebIO.Scope(WebIO.Node{WebIO.DOM}(WebIO.DOM(:html, :div), Any[], Dict{Symbol, Any}(:id => \"container\")), Dict{String, Tuple{Observables.AbstractObservable, Union{Nothing, Bool}}}(\"value\" => (Observable(\"\\\\;\\\\;\"), nothing)), Set{String}(), nothing, WebIO.Asset[WebIO.Asset(\"js\", nothing, \"/home/dushya/.julia/packages/InteractBase/LJXv3/src/../assets/katex.min.js\"), WebIO.Asset(\"css\", nothing, \"/home/dushya/.julia/packages/InteractBase/LJXv3/src/../assets/katex.min.css\")], Dict{Any, Any}(\"value\" => Any[WebIO.JSString(\"(function (txt){return this.k.render(txt,this.container)})\")]), WebIO.ConnectionPool(Channel{Any}(32), Set{WebIO.AbstractConnection}(), Base.GenericCondition{ReentrantLock}(Base.IntrusiveLinkedList{Task}(Task (runnable) @0x00007f2a4f0f79e0, Task (runnable) @0x00007f2a4f0f79e0), ReentrantLock(nothing, 0x00000000, 0x00, Base.GenericCondition{Base.Threads.SpinLock}(Base.IntrusiveLinkedList{Task}(nothing, nothing), Base.Threads.SpinLock(0)), (8, 139819006052240, 4611686018427387904)))), WebIO.JSString[WebIO.JSString(\"function () {\\n    var handler = ((function (k){this.k=k; this.container=this.dom.querySelector(\\\"#container\\\"); return k.render(\\\"\\\\\\\\;\\\\\\\\;\\\",this.container)}));\\n    (WebIO.importBlock({\\\"data\\\":[{\\\"name\\\":null,\\\"type\\\":\\\"js\\\",\\\"url\\\":\\\"/assetserver/dd22ed1bf1896c2748f3fe616ce0b838adc895c1-katex.min.js\\\"},{\\\"name\\\":null,\\\"type\\\":\\\"css\\\",\\\"url\\\":\\\"/assetserver/46517a424aa5e6cffc1360d7e0848b601c584ee3-katex.min.css\\\"}],\\\"type\\\":\\\"async_block\\\"})).then((imports) => handler.apply(this, imports));\\n}\\n\")])], Dict{Symbol, Any}(:className => \"interact-widget\")), WebIO.Node{WebIO.DOM}(WebIO.DOM(:html, :div), Any[WebIO.Scope(WebIO.Node{WebIO.DOM}(WebIO.DOM(:html, :button), Any[\"run\"], Dict{Symbol, Any}(:attributes => Dict{Any, Any}(\"data-bind\" => \"click: function (){this.clicks(this.clicks()+1)}, css: {'is-loading' : loading}\"), :className => \"is-medium button is-primary\", :style => Dict{String, Any}())), Dict{String, Tuple{Observables.AbstractObservable, Union{Nothing, Bool}}}(\"loading\" => (Observable(false), nothing), \"clicks\" => (Observable(0), nothing)), Set{String}(), nothing, WebIO.Asset[WebIO.Asset(\"js\", \"knockout\", \"/home/dushya/.julia/packages/Knockout/HReiN/src/../assets/knockout.js\"), WebIO.Asset(\"js\", \"knockout_punches\", \"/home/dushya/.julia/packages/Knockout/HReiN/src/../assets/knockout_punches.js\"), WebIO.Asset(\"js\", nothing, \"/home/dushya/.julia/packages/InteractBase/LJXv3/src/../assets/all.js\"), WebIO.Asset(\"css\", nothing, \"/home/dushya/.julia/packages/InteractBase/LJXv3/src/../assets/style.css\"), WebIO.Asset(\"css\", nothing, \"/home/dushya/.julia/packages/Interact/PENUy/src/../assets/bulma_confined.min.css\")], Dict{Any, Any}(\"loading\" => Any[WebIO.JSString(\"(function (val){return (val!=this.model[\\\"loading\\\"]()) ? (this.valueFromJulia[\\\"loading\\\"]=true, this.model[\\\"loading\\\"](val)) : undefined})\")], \"clicks\" => Any[WebIO.JSString(\"(function (val){return (val!=this.model[\\\"clicks\\\"]()) ? (this.valueFromJulia[\\\"clicks\\\"]=true, this.model[\\\"clicks\\\"](val)) : undefined})\")]), WebIO.ConnectionPool(Channel{Any}(32), Set{WebIO.AbstractConnection}(), Base.GenericCondition{ReentrantLock}(Base.IntrusiveLinkedList{Task}(Task (runnable) @0x00007f2a4ef77210, Task (runnable) @0x00007f2a4ef77210), ReentrantLock(nothing, 0x00000000, 0x00, Base.GenericCondition{Base.Threads.SpinLock}(Base.IntrusiveLinkedList{Task}(nothing, nothing), Base.Threads.SpinLock(0)), (0, 139818834330192, 4611686018427387904)))), WebIO.JSString[WebIO.JSString(\"function () {\\n    var handler = (function (ko, koPunches) {\\n    ko.punches.enableAll();\\n    ko.bindingHandlers.numericValue = {\\n        init: function(element, valueAccessor, allBindings, data, context) {\\n            var stringified = ko.observable(ko.unwrap(valueAccessor()));\\n            stringified.subscribe(function(value) {\\n                var val = parseFloat(value);\\n                if (!isNaN(val)) {\\n                    valueAccessor()(val);\\n                }\\n            });\\n            valueAccessor().subscribe(function(value) {\\n                var str = JSON.stringify(value);\\n                if ((str == \\\"0\\\") && ([\\\"-0\\\", \\\"-0.\\\"].indexOf(stringified()) >= 0))\\n                     return;\\n                 if ([\\\"null\\\", \\\"\\\"].indexOf(str) >= 0)\\n                     return;\\n                stringified(str);\\n            });\\n            ko.applyBindingsToNode(\\n                element,\\n                {\\n                    value: stringified,\\n                    valueUpdate: allBindings.get('valueUpdate'),\\n                },\\n                context,\\n            );\\n        }\\n    };\\n    var json_data = {\\\"loading\\\":WebIO.getval({\\\"name\\\":\\\"loading\\\",\\\"scope\\\":\\\"4554963286293290229\\\",\\\"id\\\":\\\"10786438094641305429\\\",\\\"type\\\":\\\"observable\\\"}),\\\"clicks\\\":WebIO.getval({\\\"name\\\":\\\"clicks\\\",\\\"scope\\\":\\\"4554963286293290229\\\",\\\"id\\\":\\\"3081826366801857785\\\",\\\"type\\\":\\\"observable\\\"})};\\n    var self = this;\\n    function AppViewModel() {\\n        for (var key in json_data) {\\n            var el = json_data[key];\\n            this[key] = Array.isArray(el) ? ko.observableArray(el) : ko.observable(el);\\n        }\\n        \\n        \\n        [this[\\\"loading\\\"].subscribe((function (val){!(this.valueFromJulia[\\\"loading\\\"]) ? (WebIO.setval({\\\"name\\\":\\\"loading\\\",\\\"scope\\\":\\\"4554963286293290229\\\",\\\"id\\\":\\\"10786438094641305429\\\",\\\"type\\\":\\\"observable\\\"},val)) : undefined; return this.valueFromJulia[\\\"loading\\\"]=false}),self),this[\\\"clicks\\\"].subscribe((function (val){!(this.valueFromJulia[\\\"clicks\\\"]) ? (WebIO.setval({\\\"name\\\":\\\"clicks\\\",\\\"scope\\\":\\\"4554963286293290229\\\",\\\"id\\\":\\\"3081826366801857785\\\",\\\"type\\\":\\\"observable\\\"},val)) : undefined; return this.valueFromJulia[\\\"clicks\\\"]=false}),self)]\\n        \\n    }\\n    self.model = new AppViewModel();\\n    self.valueFromJulia = {};\\n    for (var key in json_data) {\\n        self.valueFromJulia[key] = false;\\n    }\\n    ko.applyBindings(self.model, self.dom);\\n}\\n);\\n    (WebIO.importBlock({\\\"data\\\":[{\\\"name\\\":\\\"knockout\\\",\\\"type\\\":\\\"js\\\",\\\"url\\\":\\\"/assetserver/727383f2a47bd31570b7da84eee7b022dd6d7c78-knockout.js\\\"},{\\\"name\\\":\\\"knockout_punches\\\",\\\"type\\\":\\\"js\\\",\\\"url\\\":\\\"/assetserver/382b41b3b1bd9f26f75861d360bad7f8beea211f-knockout_punches.js\\\"}],\\\"type\\\":\\\"async_block\\\"})).then((imports) => handler.apply(this, imports));\\n}\\n\")])], Dict{Symbol, Any}(:className => \"field interact-widget\")), WebIO.Node{WebIO.DOM}(WebIO.DOM(:html, :div), Any[WebIO.Scope(WebIO.Node{WebIO.DOM}(WebIO.DOM(:html, :div), Any[], Dict{Symbol, Any}(:id => \"container\")), Dict{String, Tuple{Observables.AbstractObservable, Union{Nothing, Bool}}}(\"value\" => (Observable(\"\\\\;\\\\;\"), nothing)), Set{String}(), nothing, WebIO.Asset[WebIO.Asset(\"js\", nothing, \"/home/dushya/.julia/packages/InteractBase/LJXv3/src/../assets/katex.min.js\"), WebIO.Asset(\"css\", nothing, \"/home/dushya/.julia/packages/InteractBase/LJXv3/src/../assets/katex.min.css\")], Dict{Any, Any}(\"value\" => Any[WebIO.JSString(\"(function (txt){return this.k.render(txt,this.container)})\")]), WebIO.ConnectionPool(Channel{Any}(32), Set{WebIO.AbstractConnection}(), Base.GenericCondition{ReentrantLock}(Base.IntrusiveLinkedList{Task}(Task (runnable) @0x00007f2a4f0f79e0, Task (runnable) @0x00007f2a4f0f79e0), ReentrantLock(nothing, 0x00000000, 0x00, Base.GenericCondition{Base.Threads.SpinLock}(Base.IntrusiveLinkedList{Task}(nothing, nothing), Base.Threads.SpinLock(0)), (8, 139819006052240, 4611686018427387904)))), WebIO.JSString[WebIO.JSString(\"function () {\\n    var handler = ((function (k){this.k=k; this.container=this.dom.querySelector(\\\"#container\\\"); return k.render(\\\"\\\\\\\\;\\\\\\\\;\\\",this.container)}));\\n    (WebIO.importBlock({\\\"data\\\":[{\\\"name\\\":null,\\\"type\\\":\\\"js\\\",\\\"url\\\":\\\"/assetserver/dd22ed1bf1896c2748f3fe616ce0b838adc895c1-katex.min.js\\\"},{\\\"name\\\":null,\\\"type\\\":\\\"css\\\",\\\"url\\\":\\\"/assetserver/46517a424aa5e6cffc1360d7e0848b601c584ee3-katex.min.css\\\"}],\\\"type\\\":\\\"async_block\\\"})).then((imports) => handler.apply(this, imports));\\n}\\n\")])], Dict{Symbol, Any}(:className => \"interact-widget\")), WebIO.Node{WebIO.DOM}(WebIO.DOM(:html, :div), Any[WebIO.Scope(WebIO.Node{WebIO.DOM}(WebIO.DOM(:html, :button), Any[\"stop\"], Dict{Symbol, Any}(:attributes => Dict{Any, Any}(\"data-bind\" => \"click: function (){this.clicks(this.clicks()+1)}, css: {'is-loading' : loading}\"), :className => \"is-medium button is-primary\", :style => Dict{String, Any}())), Dict{String, Tuple{Observables.AbstractObservable, Union{Nothing, Bool}}}(\"loading\" => (Observable(false), nothing), \"clicks\" => (Observable(0), nothing)), Set{String}(), nothing, WebIO.Asset[WebIO.Asset(\"js\", \"knockout\", \"/home/dushya/.julia/packages/Knockout/HReiN/src/../assets/knockout.js\"), WebIO.Asset(\"js\", \"knockout_punches\", \"/home/dushya/.julia/packages/Knockout/HReiN/src/../assets/knockout_punches.js\"), WebIO.Asset(\"js\", nothing, \"/home/dushya/.julia/packages/InteractBase/LJXv3/src/../assets/all.js\"), WebIO.Asset(\"css\", nothing, \"/home/dushya/.julia/packages/InteractBase/LJXv3/src/../assets/style.css\"), WebIO.Asset(\"css\", nothing, \"/home/dushya/.julia/packages/Interact/PENUy/src/../assets/bulma_confined.min.css\")], Dict{Any, Any}(\"loading\" => Any[WebIO.JSString(\"(function (val){return (val!=this.model[\\\"loading\\\"]()) ? (this.valueFromJulia[\\\"loading\\\"]=true, this.model[\\\"loading\\\"](val)) : undefined})\")], \"clicks\" => Any[WebIO.JSString(\"(function (val){return (val!=this.model[\\\"clicks\\\"]()) ? (this.valueFromJulia[\\\"clicks\\\"]=true, this.model[\\\"clicks\\\"](val)) : undefined})\")]), WebIO.ConnectionPool(Channel{Any}(32), Set{WebIO.AbstractConnection}(), Base.GenericCondition{ReentrantLock}(Base.IntrusiveLinkedList{Task}(Task (runnable) @0x00007f2a4ef92590, Task (runnable) @0x00007f2a4ef92590), ReentrantLock(nothing, 0x00000000, 0x00, Base.GenericCondition{Base.Threads.SpinLock}(Base.IntrusiveLinkedList{Task}(nothing, nothing), Base.Threads.SpinLock(0)), (0, 139818765972720, 139818807600928)))), WebIO.JSString[WebIO.JSString(\"function () {\\n    var handler = (function (ko, koPunches) {\\n    ko.punches.enableAll();\\n    ko.bindingHandlers.numericValue = {\\n        init: function(element, valueAccessor, allBindings, data, context) {\\n            var stringified = ko.observable(ko.unwrap(valueAccessor()));\\n            stringified.subscribe(function(value) {\\n                var val = parseFloat(value);\\n                if (!isNaN(val)) {\\n                    valueAccessor()(val);\\n                }\\n            });\\n            valueAccessor().subscribe(function(value) {\\n                var str = JSON.stringify(value);\\n                if ((str == \\\"0\\\") && ([\\\"-0\\\", \\\"-0.\\\"].indexOf(stringified()) >= 0))\\n                     return;\\n                 if ([\\\"null\\\", \\\"\\\"].indexOf(str) >= 0)\\n                     return;\\n                stringified(str);\\n            });\\n            ko.applyBindingsToNode(\\n                element,\\n                {\\n                    value: stringified,\\n                    valueUpdate: allBindings.get('valueUpdate'),\\n                },\\n                context,\\n            );\\n        }\\n    };\\n    var json_data = {\\\"loading\\\":WebIO.getval({\\\"name\\\":\\\"loading\\\",\\\"scope\\\":\\\"1838745674771947372\\\",\\\"id\\\":\\\"9942454822044748088\\\",\\\"type\\\":\\\"observable\\\"}),\\\"clicks\\\":WebIO.getval({\\\"name\\\":\\\"clicks\\\",\\\"scope\\\":\\\"1838745674771947372\\\",\\\"id\\\":\\\"4266140032739665427\\\",\\\"type\\\":\\\"observable\\\"})};\\n    var self = this;\\n    function AppViewModel() {\\n        for (var key in json_data) {\\n            var el = json_data[key];\\n            this[key] = Array.isArray(el) ? ko.observableArray(el) : ko.observable(el);\\n        }\\n        \\n        \\n        [this[\\\"loading\\\"].subscribe((function (val){!(this.valueFromJulia[\\\"loading\\\"]) ? (WebIO.setval({\\\"name\\\":\\\"loading\\\",\\\"scope\\\":\\\"1838745674771947372\\\",\\\"id\\\":\\\"9942454822044748088\\\",\\\"type\\\":\\\"observable\\\"},val)) : undefined; return this.valueFromJulia[\\\"loading\\\"]=false}),self),this[\\\"clicks\\\"].subscribe((function (val){!(this.valueFromJulia[\\\"clicks\\\"]) ? (WebIO.setval({\\\"name\\\":\\\"clicks\\\",\\\"scope\\\":\\\"1838745674771947372\\\",\\\"id\\\":\\\"4266140032739665427\\\",\\\"type\\\":\\\"observable\\\"},val)) : undefined; return this.valueFromJulia[\\\"clicks\\\"]=false}),self)]\\n        \\n    }\\n    self.model = new AppViewModel();\\n    self.valueFromJulia = {};\\n    for (var key in json_data) {\\n        self.valueFromJulia[key] = false;\\n    }\\n    ko.applyBindings(self.model, self.dom);\\n}\\n);\\n    (WebIO.importBlock({\\\"data\\\":[{\\\"name\\\":\\\"knockout\\\",\\\"type\\\":\\\"js\\\",\\\"url\\\":\\\"/assetserver/727383f2a47bd31570b7da84eee7b022dd6d7c78-knockout.js\\\"},{\\\"name\\\":\\\"knockout_punches\\\",\\\"type\\\":\\\"js\\\",\\\"url\\\":\\\"/assetserver/382b41b3b1bd9f26f75861d360bad7f8beea211f-knockout_punches.js\\\"}],\\\"type\\\":\\\"async_block\\\"})).then((imports) => handler.apply(this, imports));\\n}\\n\")])], Dict{Symbol, Any}(:className => \"field interact-widget\")), WebIO.Node{WebIO.DOM}(WebIO.DOM(:html, :div), Any[WebIO.Scope(WebIO.Node{WebIO.DOM}(WebIO.DOM(:html, :div), Any[], Dict{Symbol, Any}(:id => \"container\")), Dict{String, Tuple{Observables.AbstractObservable, Union{Nothing, Bool}}}(\"value\" => (Observable(\"\\\\;\\\\;\"), nothing)), Set{String}(), nothing, WebIO.Asset[WebIO.Asset(\"js\", nothing, \"/home/dushya/.julia/packages/InteractBase/LJXv3/src/../assets/katex.min.js\"), WebIO.Asset(\"css\", nothing, \"/home/dushya/.julia/packages/InteractBase/LJXv3/src/../assets/katex.min.css\")], Dict{Any, Any}(\"value\" => Any[WebIO.JSString(\"(function (txt){return this.k.render(txt,this.container)})\")]), WebIO.ConnectionPool(Channel{Any}(32), Set{WebIO.AbstractConnection}(), Base.GenericCondition{ReentrantLock}(Base.IntrusiveLinkedList{Task}(Task (runnable) @0x00007f2a4f0f79e0, Task (runnable) @0x00007f2a4f0f79e0), ReentrantLock(nothing, 0x00000000, 0x00, Base.GenericCondition{Base.Threads.SpinLock}(Base.IntrusiveLinkedList{Task}(nothing, nothing), Base.Threads.SpinLock(0)), (8, 139819006052240, 4611686018427387904)))), WebIO.JSString[WebIO.JSString(\"function () {\\n    var handler = ((function (k){this.k=k; this.container=this.dom.querySelector(\\\"#container\\\"); return k.render(\\\"\\\\\\\\;\\\\\\\\;\\\",this.container)}));\\n    (WebIO.importBlock({\\\"data\\\":[{\\\"name\\\":null,\\\"type\\\":\\\"js\\\",\\\"url\\\":\\\"/assetserver/dd22ed1bf1896c2748f3fe616ce0b838adc895c1-katex.min.js\\\"},{\\\"name\\\":null,\\\"type\\\":\\\"css\\\",\\\"url\\\":\\\"/assetserver/46517a424aa5e6cffc1360d7e0848b601c584ee3-katex.min.css\\\"}],\\\"type\\\":\\\"async_block\\\"})).then((imports) => handler.apply(this, imports));\\n}\\n\")])], Dict{Symbol, Any}(:className => \"interact-widget\")), WebIO.Node{WebIO.DOM}(WebIO.DOM(:html, :div), Any[WebIO.Scope(WebIO.Node{WebIO.DOM}(WebIO.DOM(:html, :button), Any[\"save\"], Dict{Symbol, Any}(:attributes => Dict{Any, Any}(\"data-bind\" => \"click: function (){this.clicks(this.clicks()+1)}, css: {'is-loading' : loading}\"), :className => \"is-medium button is-primary\", :style => Dict{String, Any}())), Dict{String, Tuple{Observables.AbstractObservable, Union{Nothing, Bool}}}(\"loading\" => (Observable(false), nothing), \"clicks\" => (Observable(0), nothing)), Set{String}(), nothing, WebIO.Asset[WebIO.Asset(\"js\", \"knockout\", \"/home/dushya/.julia/packages/Knockout/HReiN/src/../assets/knockout.js\"), WebIO.Asset(\"js\", \"knockout_punches\", \"/home/dushya/.julia/packages/Knockout/HReiN/src/../assets/knockout_punches.js\"), WebIO.Asset(\"js\", nothing, \"/home/dushya/.julia/packages/InteractBase/LJXv3/src/../assets/all.js\"), WebIO.Asset(\"css\", nothing, \"/home/dushya/.julia/packages/InteractBase/LJXv3/src/../assets/style.css\"), WebIO.Asset(\"css\", nothing, \"/home/dushya/.julia/packages/Interact/PENUy/src/../assets/bulma_confined.min.css\")], Dict{Any, Any}(\"loading\" => Any[WebIO.JSString(\"(function (val){return (val!=this.model[\\\"loading\\\"]()) ? (this.valueFromJulia[\\\"loading\\\"]=true, this.model[\\\"loading\\\"](val)) : undefined})\")], \"clicks\" => Any[WebIO.JSString(\"(function (val){return (val!=this.model[\\\"clicks\\\"]()) ? (this.valueFromJulia[\\\"clicks\\\"]=true, this.model[\\\"clicks\\\"](val)) : undefined})\")]), WebIO.ConnectionPool(Channel{Any}(32), Set{WebIO.AbstractConnection}(), Base.GenericCondition{ReentrantLock}(Base.IntrusiveLinkedList{Task}(Task (runnable) @0x00007f2a4f0f5140, Task (runnable) @0x00007f2a4f0f5140), ReentrantLock(nothing, 0x00000000, 0x00, Base.GenericCondition{Base.Threads.SpinLock}(Base.IntrusiveLinkedList{Task}(nothing, nothing), Base.Threads.SpinLock(0)), (8, 139819006051184, 4611686018427387904)))), WebIO.JSString[WebIO.JSString(\"function () {\\n    var handler = (function (ko, koPunches) {\\n    ko.punches.enableAll();\\n    ko.bindingHandlers.numericValue = {\\n        init: function(element, valueAccessor, allBindings, data, context) {\\n            var stringified = ko.observable(ko.unwrap(valueAccessor()));\\n            stringified.subscribe(function(value) {\\n                var val = parseFloat(value);\\n                if (!isNaN(val)) {\\n                    valueAccessor()(val);\\n                }\\n            });\\n            valueAccessor().subscribe(function(value) {\\n                var str = JSON.stringify(value);\\n                if ((str == \\\"0\\\") && ([\\\"-0\\\", \\\"-0.\\\"].indexOf(stringified()) >= 0))\\n                     return;\\n                 if ([\\\"null\\\", \\\"\\\"].indexOf(str) >= 0)\\n                     return;\\n                stringified(str);\\n            });\\n            ko.applyBindingsToNode(\\n                element,\\n                {\\n                    value: stringified,\\n                    valueUpdate: allBindings.get('valueUpdate'),\\n                },\\n                context,\\n            );\\n        }\\n    };\\n    var json_data = {\\\"loading\\\":WebIO.getval({\\\"name\\\":\\\"loading\\\",\\\"scope\\\":\\\"11284474982609796899\\\",\\\"id\\\":\\\"17331222008372044614\\\",\\\"type\\\":\\\"observable\\\"}),\\\"clicks\\\":WebIO.getval({\\\"name\\\":\\\"clicks\\\",\\\"scope\\\":\\\"11284474982609796899\\\",\\\"id\\\":\\\"4985382463413465311\\\",\\\"type\\\":\\\"observable\\\"})};\\n    var self = this;\\n    function AppViewModel() {\\n        for (var key in json_data) {\\n            var el = json_data[key];\\n            this[key] = Array.isArray(el) ? ko.observableArray(el) : ko.observable(el);\\n        }\\n        \\n        \\n        [this[\\\"loading\\\"].subscribe((function (val){!(this.valueFromJulia[\\\"loading\\\"]) ? (WebIO.setval({\\\"name\\\":\\\"loading\\\",\\\"scope\\\":\\\"11284474982609796899\\\",\\\"id\\\":\\\"17331222008372044614\\\",\\\"type\\\":\\\"observable\\\"},val)) : undefined; return this.valueFromJulia[\\\"loading\\\"]=false}),self),this[\\\"clicks\\\"].subscribe((function (val){!(this.valueFromJulia[\\\"clicks\\\"]) ? (WebIO.setval({\\\"name\\\":\\\"clicks\\\",\\\"scope\\\":\\\"11284474982609796899\\\",\\\"id\\\":\\\"4985382463413465311\\\",\\\"type\\\":\\\"observable\\\"},val)) : undefined; return this.valueFromJulia[\\\"clicks\\\"]=false}),self)]\\n        \\n    }\\n    self.model = new AppViewModel();\\n    self.valueFromJulia = {};\\n    for (var key in json_data) {\\n        self.valueFromJulia[key] = false;\\n    }\\n    ko.applyBindings(self.model, self.dom);\\n}\\n);\\n    (WebIO.importBlock({\\\"data\\\":[{\\\"name\\\":\\\"knockout\\\",\\\"type\\\":\\\"js\\\",\\\"url\\\":\\\"/assetserver/727383f2a47bd31570b7da84eee7b022dd6d7c78-knockout.js\\\"},{\\\"name\\\":\\\"knockout_punches\\\",\\\"type\\\":\\\"js\\\",\\\"url\\\":\\\"/assetserver/382b41b3b1bd9f26f75861d360bad7f8beea211f-knockout_punches.js\\\"}],\\\"type\\\":\\\"async_block\\\"})).then((imports) => handler.apply(this, imports));\\n}\\n\")])], Dict{Symbol, Any}(:className => \"field interact-widget\"))], Dict{Symbol, Any}(:style => Dict(\"display\" => \"flex\", \"flex-direction\" => \"row\")))], Dict{Symbol, Any}(:style => Dict(\"display\" => \"flex\", \"flex-direction\" => \"column\"))), WebIO.Node{WebIO.DOM}(WebIO.DOM(:html, :div), Any[WebIO.Scope(WebIO.Node{WebIO.DOM}(WebIO.DOM(:html, :div), Any[], Dict{Symbol, Any}(:id => \"container\")), Dict{String, Tuple{Observables.AbstractObservable, Union{Nothing, Bool}}}(\"value\" => (Observable(\"\\\\;\\\\;\"), nothing)), Set{String}(), nothing, WebIO.Asset[WebIO.Asset(\"js\", nothing, \"/home/dushya/.julia/packages/InteractBase/LJXv3/src/../assets/katex.min.js\"), WebIO.Asset(\"css\", nothing, \"/home/dushya/.julia/packages/InteractBase/LJXv3/src/../assets/katex.min.css\")], Dict{Any, Any}(\"value\" => Any[WebIO.JSString(\"(function (txt){return this.k.render(txt,this.container)})\")]), WebIO.ConnectionPool(Channel{Any}(32), Set{WebIO.AbstractConnection}(), Base.GenericCondition{ReentrantLock}(Base.IntrusiveLinkedList{Task}(Task (runnable) @0x00007f2a4f0f79e0, Task (runnable) @0x00007f2a4f0f79e0), ReentrantLock(nothing, 0x00000000, 0x00, Base.GenericCondition{Base.Threads.SpinLock}(Base.IntrusiveLinkedList{Task}(nothing, nothing), Base.Threads.SpinLock(0)), (8, 139819006052240, 4611686018427387904)))), WebIO.JSString[WebIO.JSString(\"function () {\\n    var handler = ((function (k){this.k=k; this.container=this.dom.querySelector(\\\"#container\\\"); return k.render(\\\"\\\\\\\\;\\\\\\\\;\\\",this.container)}));\\n    (WebIO.importBlock({\\\"data\\\":[{\\\"name\\\":null,\\\"type\\\":\\\"js\\\",\\\"url\\\":\\\"/assetserver/dd22ed1bf1896c2748f3fe616ce0b838adc895c1-katex.min.js\\\"},{\\\"name\\\":null,\\\"type\\\":\\\"css\\\",\\\"url\\\":\\\"/assetserver/46517a424aa5e6cffc1360d7e0848b601c584ee3-katex.min.css\\\"}],\\\"type\\\":\\\"async_block\\\"})).then((imports) => handler.apply(this, imports));\\n}\\n\")])], Dict{Symbol, Any}(:className => \"interact-widget\")), Observable(Luxor.Drawing(430.0, 430.0, \"\", Cairo.CairoSurfaceBase{UInt32}(Ptr{Nothing} @0x0000000000000000, 430.0, 430.0), Cairo.CairoContext(Ptr{Nothing} @0x000000000649a9b0, Cairo.CairoSurfaceBase{UInt32}(Ptr{Nothing} @0x0000000000000000, 430.0, 430.0), Ptr{Nothing} @0x0000000008c849d0), :png, 0.0, 0.0, 0.0, 1.0, IOBuffer(data=UInt8[...], readable=true, writable=true, seekable=true, append=false, size=7767, maxsize=Inf, ptr=7768, mark=-1), UInt8[0x89, 0x50, 0x4e, 0x47, 0x0d, 0x0a, 0x1a, 0x0a, 0x00, 0x00  …  0x00, 0x00, 0x49, 0x45, 0x4e, 0x44, 0xae, 0x42, 0x60, 0x82], false)), WebIO.Node{WebIO.DOM}(WebIO.DOM(:html, :div), Any[WebIO.Scope(WebIO.Node{WebIO.DOM}(WebIO.DOM(:html, :div), Any[], Dict{Symbol, Any}(:id => \"container\")), Dict{String, Tuple{Observables.AbstractObservable, Union{Nothing, Bool}}}(\"value\" => (Observable(\"\\\\;\\\\;\"), nothing)), Set{String}(), nothing, WebIO.Asset[WebIO.Asset(\"js\", nothing, \"/home/dushya/.julia/packages/InteractBase/LJXv3/src/../assets/katex.min.js\"), WebIO.Asset(\"css\", nothing, \"/home/dushya/.julia/packages/InteractBase/LJXv3/src/../assets/katex.min.css\")], Dict{Any, Any}(\"value\" => Any[WebIO.JSString(\"(function (txt){return this.k.render(txt,this.container)})\")]), WebIO.ConnectionPool(Channel{Any}(32), Set{WebIO.AbstractConnection}(), Base.GenericCondition{ReentrantLock}(Base.IntrusiveLinkedList{Task}(Task (runnable) @0x00007f2a4f0f79e0, Task (runnable) @0x00007f2a4f0f79e0), ReentrantLock(nothing, 0x00000000, 0x00, Base.GenericCondition{Base.Threads.SpinLock}(Base.IntrusiveLinkedList{Task}(nothing, nothing), Base.Threads.SpinLock(0)), (8, 139819006052240, 4611686018427387904)))), WebIO.JSString[WebIO.JSString(\"function () {\\n    var handler = ((function (k){this.k=k; this.container=this.dom.querySelector(\\\"#container\\\"); return k.render(\\\"\\\\\\\\;\\\\\\\\;\\\",this.container)}));\\n    (WebIO.importBlock({\\\"data\\\":[{\\\"name\\\":null,\\\"type\\\":\\\"js\\\",\\\"url\\\":\\\"/assetserver/dd22ed1bf1896c2748f3fe616ce0b838adc895c1-katex.min.js\\\"},{\\\"name\\\":null,\\\"type\\\":\\\"css\\\",\\\"url\\\":\\\"/assetserver/46517a424aa5e6cffc1360d7e0848b601c584ee3-katex.min.css\\\"}],\\\"type\\\":\\\"async_block\\\"})).then((imports) => handler.apply(this, imports));\\n}\\n\")])], Dict{Symbol, Any}(:className => \"interact-widget\")), WebIO.Node{WebIO.DOM}(WebIO.DOM(:html, :div), Any[], Dict{Symbol, Any}(:style => Dict(\"display\" => \"flex\", \"flex-direction\" => \"column\")))], Dict{Symbol, Any}(:style => Dict(\"display\" => \"flex\", \"flex-direction\" => \"row\")))], Dict{Symbol, Any}(:style => Dict(\"display\" => \"flex\", \"flex-direction\" => \"column\")))"
      ]
     },
     "execution_count": 53,
     "metadata": {
      "application/vnd.webio.node+json": {
       "kernelId": "3e56fc4e-e90a-4d77-a8cd-50c583d74f33"
      }
     },
     "output_type": "execute_result"
    }
   ],
   "source": [
    "animate_sim(model)"
   ]
  },
  {
   "cell_type": "code",
   "execution_count": 12,
   "metadata": {},
   "outputs": [
    {
     "data": {
      "text/plain": [
       "Col(1.0N0f8,0.0N0f8,0.0N0f8,1.0N0f8)\n"
      ]
     },
     "execution_count": 12,
     "metadata": {},
     "output_type": "execute_result"
    }
   ],
   "source": [
    "model1.graph.nodesprops[190].color"
   ]
  },
  {
   "cell_type": "code",
   "execution_count": 37,
   "metadata": {},
   "outputs": [
    {
     "data": {
      "application/vnd.webio.node+json": {
       "children": [
        {
         "children": [
          {
           "children": [
            {
             "children": [
              {
               "children": [
                {
                 "children": [
                  {
                   "children": [
                    {
                     "children": [
                      "time"
                     ],
                     "instanceArgs": {
                      "namespace": "html",
                      "tag": "label"
                     },
                     "nodeType": "DOM",
                     "props": {
                      "className": "interact ",
                      "style": {
                       "padding": "5px 10px 0px 10px"
                      }
                     },
                     "type": "node"
                    }
                   ],
                   "instanceArgs": {
                    "namespace": "html",
                    "tag": "div"
                   },
                   "nodeType": "DOM",
                   "props": {
                    "className": "interact-flex-row-left"
                   },
                   "type": "node"
                  },
                  {
                   "children": [
                    {
                     "children": [],
                     "instanceArgs": {
                      "namespace": "html",
                      "tag": "input"
                     },
                     "nodeType": "DOM",
                     "props": {
                      "attributes": {
                       "data-bind": "numericValue: index, valueUpdate: 'input', event: {change: function (){this.changes(this.changes()+1)}}",
                       "orient": "horizontal",
                       "type": "range"
                      },
                      "className": "slider slider is-fullwidth",
                      "max": 400,
                      "min": 1,
                      "step": 1,
                      "style": {}
                     },
                     "type": "node"
                    }
                   ],
                   "instanceArgs": {
                    "namespace": "html",
                    "tag": "div"
                   },
                   "nodeType": "DOM",
                   "props": {
                    "className": "interact-flex-row-center"
                   },
                   "type": "node"
                  },
                  {
                   "children": [
                    {
                     "children": [],
                     "instanceArgs": {
                      "namespace": "html",
                      "tag": "p"
                     },
                     "nodeType": "DOM",
                     "props": {
                      "attributes": {
                       "data-bind": "text: formatted_val"
                      }
                     },
                     "type": "node"
                    }
                   ],
                   "instanceArgs": {
                    "namespace": "html",
                    "tag": "div"
                   },
                   "nodeType": "DOM",
                   "props": {
                    "className": "interact-flex-row-right"
                   },
                   "type": "node"
                  }
                 ],
                 "instanceArgs": {
                  "namespace": "html",
                  "tag": "div"
                 },
                 "nodeType": "DOM",
                 "props": {
                  "className": "interact-flex-row interact-widget"
                 },
                 "type": "node"
                }
               ],
               "instanceArgs": {
                "handlers": {
                 "changes": [
                  "(function (val){return (val!=this.model[\"changes\"]()) ? (this.valueFromJulia[\"changes\"]=true, this.model[\"changes\"](val)) : undefined})"
                 ],
                 "index": [
                  "(function (val){return (val!=this.model[\"index\"]()) ? (this.valueFromJulia[\"index\"]=true, this.model[\"index\"](val)) : undefined})"
                 ]
                },
                "id": "1355616830622239761",
                "imports": {
                 "data": [
                  {
                   "name": "knockout",
                   "type": "js",
                   "url": "/assetserver/727383f2a47bd31570b7da84eee7b022dd6d7c78-knockout.js"
                  },
                  {
                   "name": "knockout_punches",
                   "type": "js",
                   "url": "/assetserver/382b41b3b1bd9f26f75861d360bad7f8beea211f-knockout_punches.js"
                  },
                  {
                   "name": null,
                   "type": "js",
                   "url": "/assetserver/5ab20f1060420992a9b82a65b735dee4d81ef413-all.js"
                  },
                  {
                   "name": null,
                   "type": "css",
                   "url": "/assetserver/1cc0ed62837210b80a182cc3676512f895dab686-style.css"
                  },
                  {
                   "name": null,
                   "type": "css",
                   "url": "/assetserver/2eee816f616df3549d7044d45e744fbf8d42bfa1-bulma_confined.min.css"
                  }
                 ],
                 "type": "async_block"
                },
                "mount_callbacks": [
                 "function () {\n    var handler = (function (ko, koPunches) {\n    ko.punches.enableAll();\n    ko.bindingHandlers.numericValue = {\n        init: function(element, valueAccessor, allBindings, data, context) {\n            var stringified = ko.observable(ko.unwrap(valueAccessor()));\n            stringified.subscribe(function(value) {\n                var val = parseFloat(value);\n                if (!isNaN(val)) {\n                    valueAccessor()(val);\n                }\n            });\n            valueAccessor().subscribe(function(value) {\n                var str = JSON.stringify(value);\n                if ((str == \"0\") && ([\"-0\", \"-0.\"].indexOf(stringified()) >= 0))\n                     return;\n                 if ([\"null\", \"\"].indexOf(str) >= 0)\n                     return;\n                stringified(str);\n            });\n            ko.applyBindingsToNode(\n                element,\n                {\n                    value: stringified,\n                    valueUpdate: allBindings.get('valueUpdate'),\n                },\n                context,\n            );\n        }\n    };\n    var json_data = {\"formatted_vals\":[\"1\",\"2\",\"3\",\"4\",\"5\",\"6\",\"7\",\"8\",\"9\",\"10\",\"11\",\"12\",\"13\",\"14\",\"15\",\"16\",\"17\",\"18\",\"19\",\"20\",\"21\",\"22\",\"23\",\"24\",\"25\",\"26\",\"27\",\"28\",\"29\",\"30\",\"31\",\"32\",\"33\",\"34\",\"35\",\"36\",\"37\",\"38\",\"39\",\"40\",\"41\",\"42\",\"43\",\"44\",\"45\",\"46\",\"47\",\"48\",\"49\",\"50\",\"51\",\"52\",\"53\",\"54\",\"55\",\"56\",\"57\",\"58\",\"59\",\"60\",\"61\",\"62\",\"63\",\"64\",\"65\",\"66\",\"67\",\"68\",\"69\",\"70\",\"71\",\"72\",\"73\",\"74\",\"75\",\"76\",\"77\",\"78\",\"79\",\"80\",\"81\",\"82\",\"83\",\"84\",\"85\",\"86\",\"87\",\"88\",\"89\",\"90\",\"91\",\"92\",\"93\",\"94\",\"95\",\"96\",\"97\",\"98\",\"99\",\"100\",\"101\",\"102\",\"103\",\"104\",\"105\",\"106\",\"107\",\"108\",\"109\",\"110\",\"111\",\"112\",\"113\",\"114\",\"115\",\"116\",\"117\",\"118\",\"119\",\"120\",\"121\",\"122\",\"123\",\"124\",\"125\",\"126\",\"127\",\"128\",\"129\",\"130\",\"131\",\"132\",\"133\",\"134\",\"135\",\"136\",\"137\",\"138\",\"139\",\"140\",\"141\",\"142\",\"143\",\"144\",\"145\",\"146\",\"147\",\"148\",\"149\",\"150\",\"151\",\"152\",\"153\",\"154\",\"155\",\"156\",\"157\",\"158\",\"159\",\"160\",\"161\",\"162\",\"163\",\"164\",\"165\",\"166\",\"167\",\"168\",\"169\",\"170\",\"171\",\"172\",\"173\",\"174\",\"175\",\"176\",\"177\",\"178\",\"179\",\"180\",\"181\",\"182\",\"183\",\"184\",\"185\",\"186\",\"187\",\"188\",\"189\",\"190\",\"191\",\"192\",\"193\",\"194\",\"195\",\"196\",\"197\",\"198\",\"199\",\"200\",\"201\",\"202\",\"203\",\"204\",\"205\",\"206\",\"207\",\"208\",\"209\",\"210\",\"211\",\"212\",\"213\",\"214\",\"215\",\"216\",\"217\",\"218\",\"219\",\"220\",\"221\",\"222\",\"223\",\"224\",\"225\",\"226\",\"227\",\"228\",\"229\",\"230\",\"231\",\"232\",\"233\",\"234\",\"235\",\"236\",\"237\",\"238\",\"239\",\"240\",\"241\",\"242\",\"243\",\"244\",\"245\",\"246\",\"247\",\"248\",\"249\",\"250\",\"251\",\"252\",\"253\",\"254\",\"255\",\"256\",\"257\",\"258\",\"259\",\"260\",\"261\",\"262\",\"263\",\"264\",\"265\",\"266\",\"267\",\"268\",\"269\",\"270\",\"271\",\"272\",\"273\",\"274\",\"275\",\"276\",\"277\",\"278\",\"279\",\"280\",\"281\",\"282\",\"283\",\"284\",\"285\",\"286\",\"287\",\"288\",\"289\",\"290\",\"291\",\"292\",\"293\",\"294\",\"295\",\"296\",\"297\",\"298\",\"299\",\"300\",\"301\",\"302\",\"303\",\"304\",\"305\",\"306\",\"307\",\"308\",\"309\",\"310\",\"311\",\"312\",\"313\",\"314\",\"315\",\"316\",\"317\",\"318\",\"319\",\"320\",\"321\",\"322\",\"323\",\"324\",\"325\",\"326\",\"327\",\"328\",\"329\",\"330\",\"331\",\"332\",\"333\",\"334\",\"335\",\"336\",\"337\",\"338\",\"339\",\"340\",\"341\",\"342\",\"343\",\"344\",\"345\",\"346\",\"347\",\"348\",\"349\",\"350\",\"351\",\"352\",\"353\",\"354\",\"355\",\"356\",\"357\",\"358\",\"359\",\"360\",\"361\",\"362\",\"363\",\"364\",\"365\",\"366\",\"367\",\"368\",\"369\",\"370\",\"371\",\"372\",\"373\",\"374\",\"375\",\"376\",\"377\",\"378\",\"379\",\"380\",\"381\",\"382\",\"383\",\"384\",\"385\",\"386\",\"387\",\"388\",\"389\",\"390\",\"391\",\"392\",\"393\",\"394\",\"395\",\"396\",\"397\",\"398\",\"399\",\"400\"],\"changes\":WebIO.getval({\"name\":\"changes\",\"scope\":\"1355616830622239761\",\"id\":\"7892730434087332529\",\"type\":\"observable\"}),\"index\":WebIO.getval({\"name\":\"index\",\"scope\":\"1355616830622239761\",\"id\":\"4422255415440268717\",\"type\":\"observable\"})};\n    var self = this;\n    function AppViewModel() {\n        for (var key in json_data) {\n            var el = json_data[key];\n            this[key] = Array.isArray(el) ? ko.observableArray(el) : ko.observable(el);\n        }\n        \n        [this[\"formatted_val\"]=ko.computed(    function(){\n        return this.formatted_vals()[parseInt(this.index())-(1)];\n    }\n,this)]\n        [this[\"changes\"].subscribe((function (val){!(this.valueFromJulia[\"changes\"]) ? (WebIO.setval({\"name\":\"changes\",\"scope\":\"1355616830622239761\",\"id\":\"7892730434087332529\",\"type\":\"observable\"},val)) : undefined; return this.valueFromJulia[\"changes\"]=false}),self),this[\"index\"].subscribe((function (val){!(this.valueFromJulia[\"index\"]) ? (WebIO.setval({\"name\":\"index\",\"scope\":\"1355616830622239761\",\"id\":\"4422255415440268717\",\"type\":\"observable\"},val)) : undefined; return this.valueFromJulia[\"index\"]=false}),self)]\n        \n    }\n    self.model = new AppViewModel();\n    self.valueFromJulia = {};\n    for (var key in json_data) {\n        self.valueFromJulia[key] = false;\n    }\n    ko.applyBindings(self.model, self.dom);\n}\n);\n    (WebIO.importBlock({\"data\":[{\"name\":\"knockout\",\"type\":\"js\",\"url\":\"/assetserver/727383f2a47bd31570b7da84eee7b022dd6d7c78-knockout.js\"},{\"name\":\"knockout_punches\",\"type\":\"js\",\"url\":\"/assetserver/382b41b3b1bd9f26f75861d360bad7f8beea211f-knockout_punches.js\"}],\"type\":\"async_block\"})).then((imports) => handler.apply(this, imports));\n}\n"
                ],
                "observables": {
                 "changes": {
                  "id": "7892730434087332529",
                  "sync": false,
                  "value": 0
                 },
                 "index": {
                  "id": "4422255415440268717",
                  "sync": true,
                  "value": 1
                 }
                },
                "systemjs_options": null
               },
               "nodeType": "Scope",
               "props": {},
               "type": "node"
              }
             ],
             "instanceArgs": {
              "namespace": "html",
              "tag": "div"
             },
             "nodeType": "DOM",
             "props": {
              "className": "field interact-widget"
             },
             "type": "node"
            },
            {
             "children": [
              {
               "children": [
                {
                 "children": [
                  {
                   "children": [
                    {
                     "children": [
                      "scale"
                     ],
                     "instanceArgs": {
                      "namespace": "html",
                      "tag": "label"
                     },
                     "nodeType": "DOM",
                     "props": {
                      "className": "interact ",
                      "style": {
                       "padding": "5px 10px 0px 10px"
                      }
                     },
                     "type": "node"
                    }
                   ],
                   "instanceArgs": {
                    "namespace": "html",
                    "tag": "div"
                   },
                   "nodeType": "DOM",
                   "props": {
                    "className": "interact-flex-row-left"
                   },
                   "type": "node"
                  },
                  {
                   "children": [
                    {
                     "children": [],
                     "instanceArgs": {
                      "namespace": "html",
                      "tag": "input"
                     },
                     "nodeType": "DOM",
                     "props": {
                      "attributes": {
                       "data-bind": "numericValue: index, valueUpdate: 'input', event: {change: function (){this.changes(this.changes()+1)}}",
                       "orient": "horizontal",
                       "type": "range"
                      },
                      "className": "slider slider is-fullwidth",
                      "max": 20,
                      "min": 1,
                      "step": 1,
                      "style": {}
                     },
                     "type": "node"
                    }
                   ],
                   "instanceArgs": {
                    "namespace": "html",
                    "tag": "div"
                   },
                   "nodeType": "DOM",
                   "props": {
                    "className": "interact-flex-row-center"
                   },
                   "type": "node"
                  },
                  {
                   "children": [
                    {
                     "children": [],
                     "instanceArgs": {
                      "namespace": "html",
                      "tag": "p"
                     },
                     "nodeType": "DOM",
                     "props": {
                      "attributes": {
                       "data-bind": "text: formatted_val"
                      }
                     },
                     "type": "node"
                    }
                   ],
                   "instanceArgs": {
                    "namespace": "html",
                    "tag": "div"
                   },
                   "nodeType": "DOM",
                   "props": {
                    "className": "interact-flex-row-right"
                   },
                   "type": "node"
                  }
                 ],
                 "instanceArgs": {
                  "namespace": "html",
                  "tag": "div"
                 },
                 "nodeType": "DOM",
                 "props": {
                  "className": "interact-flex-row interact-widget"
                 },
                 "type": "node"
                }
               ],
               "instanceArgs": {
                "handlers": {
                 "changes": [
                  "(function (val){return (val!=this.model[\"changes\"]()) ? (this.valueFromJulia[\"changes\"]=true, this.model[\"changes\"](val)) : undefined})"
                 ],
                 "index": [
                  "(function (val){return (val!=this.model[\"index\"]()) ? (this.valueFromJulia[\"index\"]=true, this.model[\"index\"](val)) : undefined})"
                 ]
                },
                "id": "2660991934482658336",
                "imports": {
                 "data": [
                  {
                   "name": "knockout",
                   "type": "js",
                   "url": "/assetserver/727383f2a47bd31570b7da84eee7b022dd6d7c78-knockout.js"
                  },
                  {
                   "name": "knockout_punches",
                   "type": "js",
                   "url": "/assetserver/382b41b3b1bd9f26f75861d360bad7f8beea211f-knockout_punches.js"
                  },
                  {
                   "name": null,
                   "type": "js",
                   "url": "/assetserver/5ab20f1060420992a9b82a65b735dee4d81ef413-all.js"
                  },
                  {
                   "name": null,
                   "type": "css",
                   "url": "/assetserver/1cc0ed62837210b80a182cc3676512f895dab686-style.css"
                  },
                  {
                   "name": null,
                   "type": "css",
                   "url": "/assetserver/2eee816f616df3549d7044d45e744fbf8d42bfa1-bulma_confined.min.css"
                  }
                 ],
                 "type": "async_block"
                },
                "mount_callbacks": [
                 "function () {\n    var handler = (function (ko, koPunches) {\n    ko.punches.enableAll();\n    ko.bindingHandlers.numericValue = {\n        init: function(element, valueAccessor, allBindings, data, context) {\n            var stringified = ko.observable(ko.unwrap(valueAccessor()));\n            stringified.subscribe(function(value) {\n                var val = parseFloat(value);\n                if (!isNaN(val)) {\n                    valueAccessor()(val);\n                }\n            });\n            valueAccessor().subscribe(function(value) {\n                var str = JSON.stringify(value);\n                if ((str == \"0\") && ([\"-0\", \"-0.\"].indexOf(stringified()) >= 0))\n                     return;\n                 if ([\"null\", \"\"].indexOf(str) >= 0)\n                     return;\n                stringified(str);\n            });\n            ko.applyBindingsToNode(\n                element,\n                {\n                    value: stringified,\n                    valueUpdate: allBindings.get('valueUpdate'),\n                },\n                context,\n            );\n        }\n    };\n    var json_data = {\"formatted_vals\":[\"0.1\",\"0.2\",\"0.3\",\"0.4\",\"0.5\",\"0.6\",\"0.7\",\"0.8\",\"0.9\",\"1.0\",\"1.1\",\"1.2\",\"1.3\",\"1.4\",\"1.5\",\"1.6\",\"1.7\",\"1.8\",\"1.9\",\"2.0\"],\"changes\":WebIO.getval({\"name\":\"changes\",\"scope\":\"2660991934482658336\",\"id\":\"16290136940493189279\",\"type\":\"observable\"}),\"index\":WebIO.getval({\"name\":\"index\",\"scope\":\"2660991934482658336\",\"id\":\"17527393300366491584\",\"type\":\"observable\"})};\n    var self = this;\n    function AppViewModel() {\n        for (var key in json_data) {\n            var el = json_data[key];\n            this[key] = Array.isArray(el) ? ko.observableArray(el) : ko.observable(el);\n        }\n        \n        [this[\"formatted_val\"]=ko.computed(    function(){\n        return this.formatted_vals()[parseInt(this.index())-(1)];\n    }\n,this)]\n        [this[\"changes\"].subscribe((function (val){!(this.valueFromJulia[\"changes\"]) ? (WebIO.setval({\"name\":\"changes\",\"scope\":\"2660991934482658336\",\"id\":\"16290136940493189279\",\"type\":\"observable\"},val)) : undefined; return this.valueFromJulia[\"changes\"]=false}),self),this[\"index\"].subscribe((function (val){!(this.valueFromJulia[\"index\"]) ? (WebIO.setval({\"name\":\"index\",\"scope\":\"2660991934482658336\",\"id\":\"17527393300366491584\",\"type\":\"observable\"},val)) : undefined; return this.valueFromJulia[\"index\"]=false}),self)]\n        \n    }\n    self.model = new AppViewModel();\n    self.valueFromJulia = {};\n    for (var key in json_data) {\n        self.valueFromJulia[key] = false;\n    }\n    ko.applyBindings(self.model, self.dom);\n}\n);\n    (WebIO.importBlock({\"data\":[{\"name\":\"knockout\",\"type\":\"js\",\"url\":\"/assetserver/727383f2a47bd31570b7da84eee7b022dd6d7c78-knockout.js\"},{\"name\":\"knockout_punches\",\"type\":\"js\",\"url\":\"/assetserver/382b41b3b1bd9f26f75861d360bad7f8beea211f-knockout_punches.js\"}],\"type\":\"async_block\"})).then((imports) => handler.apply(this, imports));\n}\n"
                ],
                "observables": {
                 "changes": {
                  "id": "16290136940493189279",
                  "sync": false,
                  "value": 0
                 },
                 "index": {
                  "id": "17527393300366491584",
                  "sync": true,
                  "value": 10
                 }
                },
                "systemjs_options": null
               },
               "nodeType": "Scope",
               "props": {},
               "type": "node"
              }
             ],
             "instanceArgs": {
              "namespace": "html",
              "tag": "div"
             },
             "nodeType": "DOM",
             "props": {
              "className": "field interact-widget"
             },
             "type": "node"
            },
            {
             "children": [],
             "instanceArgs": {
              "namespace": "html",
              "tag": "div"
             },
             "nodeType": "DOM",
             "props": {
              "style": {
               "display": "flex",
               "flex-direction": "column"
              }
             },
             "type": "node"
            },
            {
             "children": [
              {
               "children": [
                {
                 "children": [
                  {
                   "children": [
                    {
                     "children": [
                      {
                       "children": [
                        "prob"
                       ],
                       "instanceArgs": {
                        "namespace": "html",
                        "tag": "label"
                       },
                       "nodeType": "DOM",
                       "props": {
                        "className": "interact ",
                        "style": {
                         "padding": "5px 10px 0px 10px"
                        }
                       },
                       "type": "node"
                      }
                     ],
                     "instanceArgs": {
                      "namespace": "html",
                      "tag": "div"
                     },
                     "nodeType": "DOM",
                     "props": {
                      "className": "interact-flex-row-left"
                     },
                     "type": "node"
                    },
                    {
                     "children": [
                      {
                       "children": [],
                       "instanceArgs": {
                        "namespace": "html",
                        "tag": "input"
                       },
                       "nodeType": "DOM",
                       "props": {
                        "attributes": {
                         "data-bind": "numericValue: index, valueUpdate: 'input', event: {change: function (){this.changes(this.changes()+1)}}",
                         "orient": "horizontal",
                         "type": "range"
                        },
                        "className": "slider slider is-fullwidth",
                        "max": 101,
                        "min": 1,
                        "step": 1,
                        "style": {}
                       },
                       "type": "node"
                      }
                     ],
                     "instanceArgs": {
                      "namespace": "html",
                      "tag": "div"
                     },
                     "nodeType": "DOM",
                     "props": {
                      "className": "interact-flex-row-center"
                     },
                     "type": "node"
                    },
                    {
                     "children": [
                      {
                       "children": [],
                       "instanceArgs": {
                        "namespace": "html",
                        "tag": "p"
                       },
                       "nodeType": "DOM",
                       "props": {
                        "attributes": {
                         "data-bind": "text: formatted_val"
                        }
                       },
                       "type": "node"
                      }
                     ],
                     "instanceArgs": {
                      "namespace": "html",
                      "tag": "div"
                     },
                     "nodeType": "DOM",
                     "props": {
                      "className": "interact-flex-row-right"
                     },
                     "type": "node"
                    }
                   ],
                   "instanceArgs": {
                    "namespace": "html",
                    "tag": "div"
                   },
                   "nodeType": "DOM",
                   "props": {
                    "className": "interact-flex-row interact-widget"
                   },
                   "type": "node"
                  }
                 ],
                 "instanceArgs": {
                  "handlers": {
                   "changes": [
                    "(function (val){return (val!=this.model[\"changes\"]()) ? (this.valueFromJulia[\"changes\"]=true, this.model[\"changes\"](val)) : undefined})"
                   ],
                   "index": [
                    "(function (val){return (val!=this.model[\"index\"]()) ? (this.valueFromJulia[\"index\"]=true, this.model[\"index\"](val)) : undefined})"
                   ]
                  },
                  "id": "13582576326374001749",
                  "imports": {
                   "data": [
                    {
                     "name": "knockout",
                     "type": "js",
                     "url": "/assetserver/727383f2a47bd31570b7da84eee7b022dd6d7c78-knockout.js"
                    },
                    {
                     "name": "knockout_punches",
                     "type": "js",
                     "url": "/assetserver/382b41b3b1bd9f26f75861d360bad7f8beea211f-knockout_punches.js"
                    },
                    {
                     "name": null,
                     "type": "js",
                     "url": "/assetserver/5ab20f1060420992a9b82a65b735dee4d81ef413-all.js"
                    },
                    {
                     "name": null,
                     "type": "css",
                     "url": "/assetserver/1cc0ed62837210b80a182cc3676512f895dab686-style.css"
                    },
                    {
                     "name": null,
                     "type": "css",
                     "url": "/assetserver/2eee816f616df3549d7044d45e744fbf8d42bfa1-bulma_confined.min.css"
                    }
                   ],
                   "type": "async_block"
                  },
                  "mount_callbacks": [
                   "function () {\n    var handler = (function (ko, koPunches) {\n    ko.punches.enableAll();\n    ko.bindingHandlers.numericValue = {\n        init: function(element, valueAccessor, allBindings, data, context) {\n            var stringified = ko.observable(ko.unwrap(valueAccessor()));\n            stringified.subscribe(function(value) {\n                var val = parseFloat(value);\n                if (!isNaN(val)) {\n                    valueAccessor()(val);\n                }\n            });\n            valueAccessor().subscribe(function(value) {\n                var str = JSON.stringify(value);\n                if ((str == \"0\") && ([\"-0\", \"-0.\"].indexOf(stringified()) >= 0))\n                     return;\n                 if ([\"null\", \"\"].indexOf(str) >= 0)\n                     return;\n                stringified(str);\n            });\n            ko.applyBindingsToNode(\n                element,\n                {\n                    value: stringified,\n                    valueUpdate: allBindings.get('valueUpdate'),\n                },\n                context,\n            );\n        }\n    };\n    var json_data = {\"formatted_vals\":[\"0.0\",\"0.01\",\"0.02\",\"0.03\",\"0.04\",\"0.05\",\"0.06\",\"0.07\",\"0.08\",\"0.09\",\"0.1\",\"0.11\",\"0.12\",\"0.13\",\"0.14\",\"0.15\",\"0.16\",\"0.17\",\"0.18\",\"0.19\",\"0.2\",\"0.21\",\"0.22\",\"0.23\",\"0.24\",\"0.25\",\"0.26\",\"0.27\",\"0.28\",\"0.29\",\"0.3\",\"0.31\",\"0.32\",\"0.33\",\"0.34\",\"0.35\",\"0.36\",\"0.37\",\"0.38\",\"0.39\",\"0.4\",\"0.41\",\"0.42\",\"0.43\",\"0.44\",\"0.45\",\"0.46\",\"0.47\",\"0.48\",\"0.49\",\"0.5\",\"0.51\",\"0.52\",\"0.53\",\"0.54\",\"0.55\",\"0.56\",\"0.57\",\"0.58\",\"0.59\",\"0.6\",\"0.61\",\"0.62\",\"0.63\",\"0.64\",\"0.65\",\"0.66\",\"0.67\",\"0.68\",\"0.69\",\"0.7\",\"0.71\",\"0.72\",\"0.73\",\"0.74\",\"0.75\",\"0.76\",\"0.77\",\"0.78\",\"0.79\",\"0.8\",\"0.81\",\"0.82\",\"0.83\",\"0.84\",\"0.85\",\"0.86\",\"0.87\",\"0.88\",\"0.89\",\"0.9\",\"0.91\",\"0.92\",\"0.93\",\"0.94\",\"0.95\",\"0.96\",\"0.97\",\"0.98\",\"0.99\",\"1.0\"],\"changes\":WebIO.getval({\"name\":\"changes\",\"scope\":\"13582576326374001749\",\"id\":\"4223021881162598133\",\"type\":\"observable\"}),\"index\":WebIO.getval({\"name\":\"index\",\"scope\":\"13582576326374001749\",\"id\":\"16721405116666373485\",\"type\":\"observable\"})};\n    var self = this;\n    function AppViewModel() {\n        for (var key in json_data) {\n            var el = json_data[key];\n            this[key] = Array.isArray(el) ? ko.observableArray(el) : ko.observable(el);\n        }\n        \n        [this[\"formatted_val\"]=ko.computed(    function(){\n        return this.formatted_vals()[parseInt(this.index())-(1)];\n    }\n,this)]\n        [this[\"changes\"].subscribe((function (val){!(this.valueFromJulia[\"changes\"]) ? (WebIO.setval({\"name\":\"changes\",\"scope\":\"13582576326374001749\",\"id\":\"4223021881162598133\",\"type\":\"observable\"},val)) : undefined; return this.valueFromJulia[\"changes\"]=false}),self),this[\"index\"].subscribe((function (val){!(this.valueFromJulia[\"index\"]) ? (WebIO.setval({\"name\":\"index\",\"scope\":\"13582576326374001749\",\"id\":\"16721405116666373485\",\"type\":\"observable\"},val)) : undefined; return this.valueFromJulia[\"index\"]=false}),self)]\n        \n    }\n    self.model = new AppViewModel();\n    self.valueFromJulia = {};\n    for (var key in json_data) {\n        self.valueFromJulia[key] = false;\n    }\n    ko.applyBindings(self.model, self.dom);\n}\n);\n    (WebIO.importBlock({\"data\":[{\"name\":\"knockout\",\"type\":\"js\",\"url\":\"/assetserver/727383f2a47bd31570b7da84eee7b022dd6d7c78-knockout.js\"},{\"name\":\"knockout_punches\",\"type\":\"js\",\"url\":\"/assetserver/382b41b3b1bd9f26f75861d360bad7f8beea211f-knockout_punches.js\"}],\"type\":\"async_block\"})).then((imports) => handler.apply(this, imports));\n}\n"
                  ],
                  "observables": {
                   "changes": {
                    "id": "4223021881162598133",
                    "sync": false,
                    "value": 0
                   },
                   "index": {
                    "id": "16721405116666373485",
                    "sync": true,
                    "value": 51
                   }
                  },
                  "systemjs_options": null
                 },
                 "nodeType": "Scope",
                 "props": {},
                 "type": "node"
                }
               ],
               "instanceArgs": {
                "namespace": "html",
                "tag": "div"
               },
               "nodeType": "DOM",
               "props": {
                "className": "field interact-widget"
               },
               "type": "node"
              }
             ],
             "instanceArgs": {
              "namespace": "html",
              "tag": "div"
             },
             "nodeType": "DOM",
             "props": {
              "style": {
               "display": "flex",
               "flex-direction": "column"
              }
             },
             "type": "node"
            },
            {
             "children": [
              {
               "children": [
                {
                 "children": [
                  {
                   "children": [],
                   "instanceArgs": {
                    "namespace": "html",
                    "tag": "div"
                   },
                   "nodeType": "DOM",
                   "props": {
                    "id": "container"
                   },
                   "type": "node"
                  }
                 ],
                 "instanceArgs": {
                  "handlers": {
                   "value": [
                    "(function (txt){return this.k.render(txt,this.container)})"
                   ]
                  },
                  "id": "12652180783574931407",
                  "imports": {
                   "data": [
                    {
                     "name": null,
                     "type": "js",
                     "url": "/assetserver/dd22ed1bf1896c2748f3fe616ce0b838adc895c1-katex.min.js"
                    },
                    {
                     "name": null,
                     "type": "css",
                     "url": "/assetserver/46517a424aa5e6cffc1360d7e0848b601c584ee3-katex.min.css"
                    }
                   ],
                   "type": "async_block"
                  },
                  "mount_callbacks": [
                   "function () {\n    var handler = ((function (k){this.k=k; this.container=this.dom.querySelector(\"#container\"); return k.render(\"\\\\;\\\\;\",this.container)}));\n    (WebIO.importBlock({\"data\":[{\"name\":null,\"type\":\"js\",\"url\":\"/assetserver/dd22ed1bf1896c2748f3fe616ce0b838adc895c1-katex.min.js\"},{\"name\":null,\"type\":\"css\",\"url\":\"/assetserver/46517a424aa5e6cffc1360d7e0848b601c584ee3-katex.min.css\"}],\"type\":\"async_block\"})).then((imports) => handler.apply(this, imports));\n}\n"
                  ],
                  "observables": {
                   "value": {
                    "id": "16831990772896363628",
                    "sync": false,
                    "value": "\\;\\;"
                   }
                  },
                  "systemjs_options": null
                 },
                 "nodeType": "Scope",
                 "props": {},
                 "type": "node"
                }
               ],
               "instanceArgs": {
                "namespace": "html",
                "tag": "div"
               },
               "nodeType": "DOM",
               "props": {
                "className": "interact-widget"
               },
               "type": "node"
              },
              {
               "children": [
                {
                 "children": [
                  {
                   "children": [
                    "run"
                   ],
                   "instanceArgs": {
                    "namespace": "html",
                    "tag": "button"
                   },
                   "nodeType": "DOM",
                   "props": {
                    "attributes": {
                     "data-bind": "click: function (){this.clicks(this.clicks()+1)}, css: {'is-loading' : loading}"
                    },
                    "className": "is-medium button is-primary",
                    "style": {}
                   },
                   "type": "node"
                  }
                 ],
                 "instanceArgs": {
                  "handlers": {
                   "clicks": [
                    "(function (val){return (val!=this.model[\"clicks\"]()) ? (this.valueFromJulia[\"clicks\"]=true, this.model[\"clicks\"](val)) : undefined})"
                   ],
                   "loading": [
                    "(function (val){return (val!=this.model[\"loading\"]()) ? (this.valueFromJulia[\"loading\"]=true, this.model[\"loading\"](val)) : undefined})"
                   ]
                  },
                  "id": "12681263972018739558",
                  "imports": {
                   "data": [
                    {
                     "name": "knockout",
                     "type": "js",
                     "url": "/assetserver/727383f2a47bd31570b7da84eee7b022dd6d7c78-knockout.js"
                    },
                    {
                     "name": "knockout_punches",
                     "type": "js",
                     "url": "/assetserver/382b41b3b1bd9f26f75861d360bad7f8beea211f-knockout_punches.js"
                    },
                    {
                     "name": null,
                     "type": "js",
                     "url": "/assetserver/5ab20f1060420992a9b82a65b735dee4d81ef413-all.js"
                    },
                    {
                     "name": null,
                     "type": "css",
                     "url": "/assetserver/1cc0ed62837210b80a182cc3676512f895dab686-style.css"
                    },
                    {
                     "name": null,
                     "type": "css",
                     "url": "/assetserver/2eee816f616df3549d7044d45e744fbf8d42bfa1-bulma_confined.min.css"
                    }
                   ],
                   "type": "async_block"
                  },
                  "mount_callbacks": [
                   "function () {\n    var handler = (function (ko, koPunches) {\n    ko.punches.enableAll();\n    ko.bindingHandlers.numericValue = {\n        init: function(element, valueAccessor, allBindings, data, context) {\n            var stringified = ko.observable(ko.unwrap(valueAccessor()));\n            stringified.subscribe(function(value) {\n                var val = parseFloat(value);\n                if (!isNaN(val)) {\n                    valueAccessor()(val);\n                }\n            });\n            valueAccessor().subscribe(function(value) {\n                var str = JSON.stringify(value);\n                if ((str == \"0\") && ([\"-0\", \"-0.\"].indexOf(stringified()) >= 0))\n                     return;\n                 if ([\"null\", \"\"].indexOf(str) >= 0)\n                     return;\n                stringified(str);\n            });\n            ko.applyBindingsToNode(\n                element,\n                {\n                    value: stringified,\n                    valueUpdate: allBindings.get('valueUpdate'),\n                },\n                context,\n            );\n        }\n    };\n    var json_data = {\"loading\":WebIO.getval({\"name\":\"loading\",\"scope\":\"12681263972018739558\",\"id\":\"8705095649264886279\",\"type\":\"observable\"}),\"clicks\":WebIO.getval({\"name\":\"clicks\",\"scope\":\"12681263972018739558\",\"id\":\"583761579779579761\",\"type\":\"observable\"})};\n    var self = this;\n    function AppViewModel() {\n        for (var key in json_data) {\n            var el = json_data[key];\n            this[key] = Array.isArray(el) ? ko.observableArray(el) : ko.observable(el);\n        }\n        \n        \n        [this[\"loading\"].subscribe((function (val){!(this.valueFromJulia[\"loading\"]) ? (WebIO.setval({\"name\":\"loading\",\"scope\":\"12681263972018739558\",\"id\":\"8705095649264886279\",\"type\":\"observable\"},val)) : undefined; return this.valueFromJulia[\"loading\"]=false}),self),this[\"clicks\"].subscribe((function (val){!(this.valueFromJulia[\"clicks\"]) ? (WebIO.setval({\"name\":\"clicks\",\"scope\":\"12681263972018739558\",\"id\":\"583761579779579761\",\"type\":\"observable\"},val)) : undefined; return this.valueFromJulia[\"clicks\"]=false}),self)]\n        \n    }\n    self.model = new AppViewModel();\n    self.valueFromJulia = {};\n    for (var key in json_data) {\n        self.valueFromJulia[key] = false;\n    }\n    ko.applyBindings(self.model, self.dom);\n}\n);\n    (WebIO.importBlock({\"data\":[{\"name\":\"knockout\",\"type\":\"js\",\"url\":\"/assetserver/727383f2a47bd31570b7da84eee7b022dd6d7c78-knockout.js\"},{\"name\":\"knockout_punches\",\"type\":\"js\",\"url\":\"/assetserver/382b41b3b1bd9f26f75861d360bad7f8beea211f-knockout_punches.js\"}],\"type\":\"async_block\"})).then((imports) => handler.apply(this, imports));\n}\n"
                  ],
                  "observables": {
                   "clicks": {
                    "id": "583761579779579761",
                    "sync": true,
                    "value": 0
                   },
                   "loading": {
                    "id": "8705095649264886279",
                    "sync": false,
                    "value": false
                   }
                  },
                  "systemjs_options": null
                 },
                 "nodeType": "Scope",
                 "props": {},
                 "type": "node"
                }
               ],
               "instanceArgs": {
                "namespace": "html",
                "tag": "div"
               },
               "nodeType": "DOM",
               "props": {
                "className": "field interact-widget"
               },
               "type": "node"
              },
              {
               "children": [
                {
                 "children": [
                  {
                   "children": [],
                   "instanceArgs": {
                    "namespace": "html",
                    "tag": "div"
                   },
                   "nodeType": "DOM",
                   "props": {
                    "id": "container"
                   },
                   "type": "node"
                  }
                 ],
                 "instanceArgs": {
                  "handlers": {
                   "value": [
                    "(function (txt){return this.k.render(txt,this.container)})"
                   ]
                  },
                  "id": "12652180783574931407",
                  "imports": {
                   "data": [
                    {
                     "name": null,
                     "type": "js",
                     "url": "/assetserver/dd22ed1bf1896c2748f3fe616ce0b838adc895c1-katex.min.js"
                    },
                    {
                     "name": null,
                     "type": "css",
                     "url": "/assetserver/46517a424aa5e6cffc1360d7e0848b601c584ee3-katex.min.css"
                    }
                   ],
                   "type": "async_block"
                  },
                  "mount_callbacks": [
                   "function () {\n    var handler = ((function (k){this.k=k; this.container=this.dom.querySelector(\"#container\"); return k.render(\"\\\\;\\\\;\",this.container)}));\n    (WebIO.importBlock({\"data\":[{\"name\":null,\"type\":\"js\",\"url\":\"/assetserver/dd22ed1bf1896c2748f3fe616ce0b838adc895c1-katex.min.js\"},{\"name\":null,\"type\":\"css\",\"url\":\"/assetserver/46517a424aa5e6cffc1360d7e0848b601c584ee3-katex.min.css\"}],\"type\":\"async_block\"})).then((imports) => handler.apply(this, imports));\n}\n"
                  ],
                  "observables": {
                   "value": {
                    "id": "16831990772896363628",
                    "sync": false,
                    "value": "\\;\\;"
                   }
                  },
                  "systemjs_options": null
                 },
                 "nodeType": "Scope",
                 "props": {},
                 "type": "node"
                }
               ],
               "instanceArgs": {
                "namespace": "html",
                "tag": "div"
               },
               "nodeType": "DOM",
               "props": {
                "className": "interact-widget"
               },
               "type": "node"
              },
              {
               "children": [
                {
                 "children": [
                  {
                   "children": [
                    "stop"
                   ],
                   "instanceArgs": {
                    "namespace": "html",
                    "tag": "button"
                   },
                   "nodeType": "DOM",
                   "props": {
                    "attributes": {
                     "data-bind": "click: function (){this.clicks(this.clicks()+1)}, css: {'is-loading' : loading}"
                    },
                    "className": "is-medium button is-primary",
                    "style": {}
                   },
                   "type": "node"
                  }
                 ],
                 "instanceArgs": {
                  "handlers": {
                   "clicks": [
                    "(function (val){return (val!=this.model[\"clicks\"]()) ? (this.valueFromJulia[\"clicks\"]=true, this.model[\"clicks\"](val)) : undefined})"
                   ],
                   "loading": [
                    "(function (val){return (val!=this.model[\"loading\"]()) ? (this.valueFromJulia[\"loading\"]=true, this.model[\"loading\"](val)) : undefined})"
                   ]
                  },
                  "id": "1983511182385005529",
                  "imports": {
                   "data": [
                    {
                     "name": "knockout",
                     "type": "js",
                     "url": "/assetserver/727383f2a47bd31570b7da84eee7b022dd6d7c78-knockout.js"
                    },
                    {
                     "name": "knockout_punches",
                     "type": "js",
                     "url": "/assetserver/382b41b3b1bd9f26f75861d360bad7f8beea211f-knockout_punches.js"
                    },
                    {
                     "name": null,
                     "type": "js",
                     "url": "/assetserver/5ab20f1060420992a9b82a65b735dee4d81ef413-all.js"
                    },
                    {
                     "name": null,
                     "type": "css",
                     "url": "/assetserver/1cc0ed62837210b80a182cc3676512f895dab686-style.css"
                    },
                    {
                     "name": null,
                     "type": "css",
                     "url": "/assetserver/2eee816f616df3549d7044d45e744fbf8d42bfa1-bulma_confined.min.css"
                    }
                   ],
                   "type": "async_block"
                  },
                  "mount_callbacks": [
                   "function () {\n    var handler = (function (ko, koPunches) {\n    ko.punches.enableAll();\n    ko.bindingHandlers.numericValue = {\n        init: function(element, valueAccessor, allBindings, data, context) {\n            var stringified = ko.observable(ko.unwrap(valueAccessor()));\n            stringified.subscribe(function(value) {\n                var val = parseFloat(value);\n                if (!isNaN(val)) {\n                    valueAccessor()(val);\n                }\n            });\n            valueAccessor().subscribe(function(value) {\n                var str = JSON.stringify(value);\n                if ((str == \"0\") && ([\"-0\", \"-0.\"].indexOf(stringified()) >= 0))\n                     return;\n                 if ([\"null\", \"\"].indexOf(str) >= 0)\n                     return;\n                stringified(str);\n            });\n            ko.applyBindingsToNode(\n                element,\n                {\n                    value: stringified,\n                    valueUpdate: allBindings.get('valueUpdate'),\n                },\n                context,\n            );\n        }\n    };\n    var json_data = {\"loading\":WebIO.getval({\"name\":\"loading\",\"scope\":\"1983511182385005529\",\"id\":\"7345806551063883232\",\"type\":\"observable\"}),\"clicks\":WebIO.getval({\"name\":\"clicks\",\"scope\":\"1983511182385005529\",\"id\":\"2639874687187422597\",\"type\":\"observable\"})};\n    var self = this;\n    function AppViewModel() {\n        for (var key in json_data) {\n            var el = json_data[key];\n            this[key] = Array.isArray(el) ? ko.observableArray(el) : ko.observable(el);\n        }\n        \n        \n        [this[\"loading\"].subscribe((function (val){!(this.valueFromJulia[\"loading\"]) ? (WebIO.setval({\"name\":\"loading\",\"scope\":\"1983511182385005529\",\"id\":\"7345806551063883232\",\"type\":\"observable\"},val)) : undefined; return this.valueFromJulia[\"loading\"]=false}),self),this[\"clicks\"].subscribe((function (val){!(this.valueFromJulia[\"clicks\"]) ? (WebIO.setval({\"name\":\"clicks\",\"scope\":\"1983511182385005529\",\"id\":\"2639874687187422597\",\"type\":\"observable\"},val)) : undefined; return this.valueFromJulia[\"clicks\"]=false}),self)]\n        \n    }\n    self.model = new AppViewModel();\n    self.valueFromJulia = {};\n    for (var key in json_data) {\n        self.valueFromJulia[key] = false;\n    }\n    ko.applyBindings(self.model, self.dom);\n}\n);\n    (WebIO.importBlock({\"data\":[{\"name\":\"knockout\",\"type\":\"js\",\"url\":\"/assetserver/727383f2a47bd31570b7da84eee7b022dd6d7c78-knockout.js\"},{\"name\":\"knockout_punches\",\"type\":\"js\",\"url\":\"/assetserver/382b41b3b1bd9f26f75861d360bad7f8beea211f-knockout_punches.js\"}],\"type\":\"async_block\"})).then((imports) => handler.apply(this, imports));\n}\n"
                  ],
                  "observables": {
                   "clicks": {
                    "id": "2639874687187422597",
                    "sync": true,
                    "value": 0
                   },
                   "loading": {
                    "id": "7345806551063883232",
                    "sync": false,
                    "value": false
                   }
                  },
                  "systemjs_options": null
                 },
                 "nodeType": "Scope",
                 "props": {},
                 "type": "node"
                }
               ],
               "instanceArgs": {
                "namespace": "html",
                "tag": "div"
               },
               "nodeType": "DOM",
               "props": {
                "className": "field interact-widget"
               },
               "type": "node"
              },
              {
               "children": [
                {
                 "children": [
                  {
                   "children": [],
                   "instanceArgs": {
                    "namespace": "html",
                    "tag": "div"
                   },
                   "nodeType": "DOM",
                   "props": {
                    "id": "container"
                   },
                   "type": "node"
                  }
                 ],
                 "instanceArgs": {
                  "handlers": {
                   "value": [
                    "(function (txt){return this.k.render(txt,this.container)})"
                   ]
                  },
                  "id": "12652180783574931407",
                  "imports": {
                   "data": [
                    {
                     "name": null,
                     "type": "js",
                     "url": "/assetserver/dd22ed1bf1896c2748f3fe616ce0b838adc895c1-katex.min.js"
                    },
                    {
                     "name": null,
                     "type": "css",
                     "url": "/assetserver/46517a424aa5e6cffc1360d7e0848b601c584ee3-katex.min.css"
                    }
                   ],
                   "type": "async_block"
                  },
                  "mount_callbacks": [
                   "function () {\n    var handler = ((function (k){this.k=k; this.container=this.dom.querySelector(\"#container\"); return k.render(\"\\\\;\\\\;\",this.container)}));\n    (WebIO.importBlock({\"data\":[{\"name\":null,\"type\":\"js\",\"url\":\"/assetserver/dd22ed1bf1896c2748f3fe616ce0b838adc895c1-katex.min.js\"},{\"name\":null,\"type\":\"css\",\"url\":\"/assetserver/46517a424aa5e6cffc1360d7e0848b601c584ee3-katex.min.css\"}],\"type\":\"async_block\"})).then((imports) => handler.apply(this, imports));\n}\n"
                  ],
                  "observables": {
                   "value": {
                    "id": "16831990772896363628",
                    "sync": false,
                    "value": "\\;\\;"
                   }
                  },
                  "systemjs_options": null
                 },
                 "nodeType": "Scope",
                 "props": {},
                 "type": "node"
                }
               ],
               "instanceArgs": {
                "namespace": "html",
                "tag": "div"
               },
               "nodeType": "DOM",
               "props": {
                "className": "interact-widget"
               },
               "type": "node"
              },
              {
               "children": [
                {
                 "children": [
                  {
                   "children": [
                    "reset"
                   ],
                   "instanceArgs": {
                    "namespace": "html",
                    "tag": "button"
                   },
                   "nodeType": "DOM",
                   "props": {
                    "attributes": {
                     "data-bind": "click: function (){this.clicks(this.clicks()+1)}, css: {'is-loading' : loading}"
                    },
                    "className": "is-medium button is-primary",
                    "style": {}
                   },
                   "type": "node"
                  }
                 ],
                 "instanceArgs": {
                  "handlers": {
                   "clicks": [
                    "(function (val){return (val!=this.model[\"clicks\"]()) ? (this.valueFromJulia[\"clicks\"]=true, this.model[\"clicks\"](val)) : undefined})"
                   ],
                   "loading": [
                    "(function (val){return (val!=this.model[\"loading\"]()) ? (this.valueFromJulia[\"loading\"]=true, this.model[\"loading\"](val)) : undefined})"
                   ]
                  },
                  "id": "8440043325700385881",
                  "imports": {
                   "data": [
                    {
                     "name": "knockout",
                     "type": "js",
                     "url": "/assetserver/727383f2a47bd31570b7da84eee7b022dd6d7c78-knockout.js"
                    },
                    {
                     "name": "knockout_punches",
                     "type": "js",
                     "url": "/assetserver/382b41b3b1bd9f26f75861d360bad7f8beea211f-knockout_punches.js"
                    },
                    {
                     "name": null,
                     "type": "js",
                     "url": "/assetserver/5ab20f1060420992a9b82a65b735dee4d81ef413-all.js"
                    },
                    {
                     "name": null,
                     "type": "css",
                     "url": "/assetserver/1cc0ed62837210b80a182cc3676512f895dab686-style.css"
                    },
                    {
                     "name": null,
                     "type": "css",
                     "url": "/assetserver/2eee816f616df3549d7044d45e744fbf8d42bfa1-bulma_confined.min.css"
                    }
                   ],
                   "type": "async_block"
                  },
                  "mount_callbacks": [
                   "function () {\n    var handler = (function (ko, koPunches) {\n    ko.punches.enableAll();\n    ko.bindingHandlers.numericValue = {\n        init: function(element, valueAccessor, allBindings, data, context) {\n            var stringified = ko.observable(ko.unwrap(valueAccessor()));\n            stringified.subscribe(function(value) {\n                var val = parseFloat(value);\n                if (!isNaN(val)) {\n                    valueAccessor()(val);\n                }\n            });\n            valueAccessor().subscribe(function(value) {\n                var str = JSON.stringify(value);\n                if ((str == \"0\") && ([\"-0\", \"-0.\"].indexOf(stringified()) >= 0))\n                     return;\n                 if ([\"null\", \"\"].indexOf(str) >= 0)\n                     return;\n                stringified(str);\n            });\n            ko.applyBindingsToNode(\n                element,\n                {\n                    value: stringified,\n                    valueUpdate: allBindings.get('valueUpdate'),\n                },\n                context,\n            );\n        }\n    };\n    var json_data = {\"loading\":WebIO.getval({\"name\":\"loading\",\"scope\":\"8440043325700385881\",\"id\":\"16082122143057524519\",\"type\":\"observable\"}),\"clicks\":WebIO.getval({\"name\":\"clicks\",\"scope\":\"8440043325700385881\",\"id\":\"16542424562967170242\",\"type\":\"observable\"})};\n    var self = this;\n    function AppViewModel() {\n        for (var key in json_data) {\n            var el = json_data[key];\n            this[key] = Array.isArray(el) ? ko.observableArray(el) : ko.observable(el);\n        }\n        \n        \n        [this[\"loading\"].subscribe((function (val){!(this.valueFromJulia[\"loading\"]) ? (WebIO.setval({\"name\":\"loading\",\"scope\":\"8440043325700385881\",\"id\":\"16082122143057524519\",\"type\":\"observable\"},val)) : undefined; return this.valueFromJulia[\"loading\"]=false}),self),this[\"clicks\"].subscribe((function (val){!(this.valueFromJulia[\"clicks\"]) ? (WebIO.setval({\"name\":\"clicks\",\"scope\":\"8440043325700385881\",\"id\":\"16542424562967170242\",\"type\":\"observable\"},val)) : undefined; return this.valueFromJulia[\"clicks\"]=false}),self)]\n        \n    }\n    self.model = new AppViewModel();\n    self.valueFromJulia = {};\n    for (var key in json_data) {\n        self.valueFromJulia[key] = false;\n    }\n    ko.applyBindings(self.model, self.dom);\n}\n);\n    (WebIO.importBlock({\"data\":[{\"name\":\"knockout\",\"type\":\"js\",\"url\":\"/assetserver/727383f2a47bd31570b7da84eee7b022dd6d7c78-knockout.js\"},{\"name\":\"knockout_punches\",\"type\":\"js\",\"url\":\"/assetserver/382b41b3b1bd9f26f75861d360bad7f8beea211f-knockout_punches.js\"}],\"type\":\"async_block\"})).then((imports) => handler.apply(this, imports));\n}\n"
                  ],
                  "observables": {
                   "clicks": {
                    "id": "16542424562967170242",
                    "sync": true,
                    "value": 0
                   },
                   "loading": {
                    "id": "16082122143057524519",
                    "sync": false,
                    "value": false
                   }
                  },
                  "systemjs_options": null
                 },
                 "nodeType": "Scope",
                 "props": {},
                 "type": "node"
                }
               ],
               "instanceArgs": {
                "namespace": "html",
                "tag": "div"
               },
               "nodeType": "DOM",
               "props": {
                "className": "field interact-widget"
               },
               "type": "node"
              },
              {
               "children": [
                {
                 "children": [
                  {
                   "children": [],
                   "instanceArgs": {
                    "namespace": "html",
                    "tag": "div"
                   },
                   "nodeType": "DOM",
                   "props": {
                    "id": "container"
                   },
                   "type": "node"
                  }
                 ],
                 "instanceArgs": {
                  "handlers": {
                   "value": [
                    "(function (txt){return this.k.render(txt,this.container)})"
                   ]
                  },
                  "id": "12652180783574931407",
                  "imports": {
                   "data": [
                    {
                     "name": null,
                     "type": "js",
                     "url": "/assetserver/dd22ed1bf1896c2748f3fe616ce0b838adc895c1-katex.min.js"
                    },
                    {
                     "name": null,
                     "type": "css",
                     "url": "/assetserver/46517a424aa5e6cffc1360d7e0848b601c584ee3-katex.min.css"
                    }
                   ],
                   "type": "async_block"
                  },
                  "mount_callbacks": [
                   "function () {\n    var handler = ((function (k){this.k=k; this.container=this.dom.querySelector(\"#container\"); return k.render(\"\\\\;\\\\;\",this.container)}));\n    (WebIO.importBlock({\"data\":[{\"name\":null,\"type\":\"js\",\"url\":\"/assetserver/dd22ed1bf1896c2748f3fe616ce0b838adc895c1-katex.min.js\"},{\"name\":null,\"type\":\"css\",\"url\":\"/assetserver/46517a424aa5e6cffc1360d7e0848b601c584ee3-katex.min.css\"}],\"type\":\"async_block\"})).then((imports) => handler.apply(this, imports));\n}\n"
                  ],
                  "observables": {
                   "value": {
                    "id": "16831990772896363628",
                    "sync": false,
                    "value": "\\;\\;"
                   }
                  },
                  "systemjs_options": null
                 },
                 "nodeType": "Scope",
                 "props": {},
                 "type": "node"
                }
               ],
               "instanceArgs": {
                "namespace": "html",
                "tag": "div"
               },
               "nodeType": "DOM",
               "props": {
                "className": "interact-widget"
               },
               "type": "node"
              },
              {
               "children": [
                {
                 "children": [
                  {
                   "children": [
                    "save"
                   ],
                   "instanceArgs": {
                    "namespace": "html",
                    "tag": "button"
                   },
                   "nodeType": "DOM",
                   "props": {
                    "attributes": {
                     "data-bind": "click: function (){this.clicks(this.clicks()+1)}, css: {'is-loading' : loading}"
                    },
                    "className": "is-medium button is-primary",
                    "style": {}
                   },
                   "type": "node"
                  }
                 ],
                 "instanceArgs": {
                  "handlers": {
                   "clicks": [
                    "(function (val){return (val!=this.model[\"clicks\"]()) ? (this.valueFromJulia[\"clicks\"]=true, this.model[\"clicks\"](val)) : undefined})"
                   ],
                   "loading": [
                    "(function (val){return (val!=this.model[\"loading\"]()) ? (this.valueFromJulia[\"loading\"]=true, this.model[\"loading\"](val)) : undefined})"
                   ]
                  },
                  "id": "5292580516076908402",
                  "imports": {
                   "data": [
                    {
                     "name": "knockout",
                     "type": "js",
                     "url": "/assetserver/727383f2a47bd31570b7da84eee7b022dd6d7c78-knockout.js"
                    },
                    {
                     "name": "knockout_punches",
                     "type": "js",
                     "url": "/assetserver/382b41b3b1bd9f26f75861d360bad7f8beea211f-knockout_punches.js"
                    },
                    {
                     "name": null,
                     "type": "js",
                     "url": "/assetserver/5ab20f1060420992a9b82a65b735dee4d81ef413-all.js"
                    },
                    {
                     "name": null,
                     "type": "css",
                     "url": "/assetserver/1cc0ed62837210b80a182cc3676512f895dab686-style.css"
                    },
                    {
                     "name": null,
                     "type": "css",
                     "url": "/assetserver/2eee816f616df3549d7044d45e744fbf8d42bfa1-bulma_confined.min.css"
                    }
                   ],
                   "type": "async_block"
                  },
                  "mount_callbacks": [
                   "function () {\n    var handler = (function (ko, koPunches) {\n    ko.punches.enableAll();\n    ko.bindingHandlers.numericValue = {\n        init: function(element, valueAccessor, allBindings, data, context) {\n            var stringified = ko.observable(ko.unwrap(valueAccessor()));\n            stringified.subscribe(function(value) {\n                var val = parseFloat(value);\n                if (!isNaN(val)) {\n                    valueAccessor()(val);\n                }\n            });\n            valueAccessor().subscribe(function(value) {\n                var str = JSON.stringify(value);\n                if ((str == \"0\") && ([\"-0\", \"-0.\"].indexOf(stringified()) >= 0))\n                     return;\n                 if ([\"null\", \"\"].indexOf(str) >= 0)\n                     return;\n                stringified(str);\n            });\n            ko.applyBindingsToNode(\n                element,\n                {\n                    value: stringified,\n                    valueUpdate: allBindings.get('valueUpdate'),\n                },\n                context,\n            );\n        }\n    };\n    var json_data = {\"loading\":WebIO.getval({\"name\":\"loading\",\"scope\":\"5292580516076908402\",\"id\":\"5898249621409969537\",\"type\":\"observable\"}),\"clicks\":WebIO.getval({\"name\":\"clicks\",\"scope\":\"5292580516076908402\",\"id\":\"15779575896247916294\",\"type\":\"observable\"})};\n    var self = this;\n    function AppViewModel() {\n        for (var key in json_data) {\n            var el = json_data[key];\n            this[key] = Array.isArray(el) ? ko.observableArray(el) : ko.observable(el);\n        }\n        \n        \n        [this[\"loading\"].subscribe((function (val){!(this.valueFromJulia[\"loading\"]) ? (WebIO.setval({\"name\":\"loading\",\"scope\":\"5292580516076908402\",\"id\":\"5898249621409969537\",\"type\":\"observable\"},val)) : undefined; return this.valueFromJulia[\"loading\"]=false}),self),this[\"clicks\"].subscribe((function (val){!(this.valueFromJulia[\"clicks\"]) ? (WebIO.setval({\"name\":\"clicks\",\"scope\":\"5292580516076908402\",\"id\":\"15779575896247916294\",\"type\":\"observable\"},val)) : undefined; return this.valueFromJulia[\"clicks\"]=false}),self)]\n        \n    }\n    self.model = new AppViewModel();\n    self.valueFromJulia = {};\n    for (var key in json_data) {\n        self.valueFromJulia[key] = false;\n    }\n    ko.applyBindings(self.model, self.dom);\n}\n);\n    (WebIO.importBlock({\"data\":[{\"name\":\"knockout\",\"type\":\"js\",\"url\":\"/assetserver/727383f2a47bd31570b7da84eee7b022dd6d7c78-knockout.js\"},{\"name\":\"knockout_punches\",\"type\":\"js\",\"url\":\"/assetserver/382b41b3b1bd9f26f75861d360bad7f8beea211f-knockout_punches.js\"}],\"type\":\"async_block\"})).then((imports) => handler.apply(this, imports));\n}\n"
                  ],
                  "observables": {
                   "clicks": {
                    "id": "15779575896247916294",
                    "sync": true,
                    "value": 0
                   },
                   "loading": {
                    "id": "5898249621409969537",
                    "sync": false,
                    "value": false
                   }
                  },
                  "systemjs_options": null
                 },
                 "nodeType": "Scope",
                 "props": {},
                 "type": "node"
                }
               ],
               "instanceArgs": {
                "namespace": "html",
                "tag": "div"
               },
               "nodeType": "DOM",
               "props": {
                "className": "field interact-widget"
               },
               "type": "node"
              }
             ],
             "instanceArgs": {
              "namespace": "html",
              "tag": "div"
             },
             "nodeType": "DOM",
             "props": {
              "style": {
               "display": "flex",
               "flex-direction": "row"
              }
             },
             "type": "node"
            }
           ],
           "instanceArgs": {
            "namespace": "html",
            "tag": "div"
           },
           "nodeType": "DOM",
           "props": {
            "style": {
             "display": "flex",
             "flex-direction": "column"
            }
           },
           "type": "node"
          },
          {
           "children": [
            {
             "children": [
              {
               "children": [],
               "instanceArgs": {
                "namespace": "html",
                "tag": "div"
               },
               "nodeType": "DOM",
               "props": {
                "id": "container"
               },
               "type": "node"
              }
             ],
             "instanceArgs": {
              "handlers": {
               "value": [
                "(function (txt){return this.k.render(txt,this.container)})"
               ]
              },
              "id": "12652180783574931407",
              "imports": {
               "data": [
                {
                 "name": null,
                 "type": "js",
                 "url": "/assetserver/dd22ed1bf1896c2748f3fe616ce0b838adc895c1-katex.min.js"
                },
                {
                 "name": null,
                 "type": "css",
                 "url": "/assetserver/46517a424aa5e6cffc1360d7e0848b601c584ee3-katex.min.css"
                }
               ],
               "type": "async_block"
              },
              "mount_callbacks": [
               "function () {\n    var handler = ((function (k){this.k=k; this.container=this.dom.querySelector(\"#container\"); return k.render(\"\\\\;\\\\;\",this.container)}));\n    (WebIO.importBlock({\"data\":[{\"name\":null,\"type\":\"js\",\"url\":\"/assetserver/dd22ed1bf1896c2748f3fe616ce0b838adc895c1-katex.min.js\"},{\"name\":null,\"type\":\"css\",\"url\":\"/assetserver/46517a424aa5e6cffc1360d7e0848b601c584ee3-katex.min.css\"}],\"type\":\"async_block\"})).then((imports) => handler.apply(this, imports));\n}\n"
              ],
              "observables": {
               "value": {
                "id": "16831990772896363628",
                "sync": false,
                "value": "\\;\\;"
               }
              },
              "systemjs_options": null
             },
             "nodeType": "Scope",
             "props": {},
             "type": "node"
            }
           ],
           "instanceArgs": {
            "namespace": "html",
            "tag": "div"
           },
           "nodeType": "DOM",
           "props": {
            "className": "interact-widget"
           },
           "type": "node"
          },
          {
           "children": [
            {
             "children": [],
             "instanceArgs": {
              "namespace": "html",
              "tag": "div"
             },
             "nodeType": "DOM",
             "props": {
              "className": "webio-observable",
              "setInnerHtml": "<img src='data:image/png;base64,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'></img>"
             },
             "type": "node"
            }
           ],
           "instanceArgs": {
            "handlers": {
             "obs-output": [
              "function (value, scope) {\n    scope.setInnerHTML(value);\n}\n"
             ]
            },
            "id": "12498894444034485717",
            "imports": {
             "data": [],
             "type": "async_block"
            },
            "mount_callbacks": [],
            "observables": {
             "obs-output": {
              "id": "16717722562331027842",
              "sync": false,
              "value": "<img src='data:image/png;base64,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'></img>"
             }
            },
            "systemjs_options": null
           },
           "nodeType": "Scope",
           "props": {},
           "type": "node"
          },
          {
           "children": [
            {
             "children": [
              {
               "children": [],
               "instanceArgs": {
                "namespace": "html",
                "tag": "div"
               },
               "nodeType": "DOM",
               "props": {
                "id": "container"
               },
               "type": "node"
              }
             ],
             "instanceArgs": {
              "handlers": {
               "value": [
                "(function (txt){return this.k.render(txt,this.container)})"
               ]
              },
              "id": "12652180783574931407",
              "imports": {
               "data": [
                {
                 "name": null,
                 "type": "js",
                 "url": "/assetserver/dd22ed1bf1896c2748f3fe616ce0b838adc895c1-katex.min.js"
                },
                {
                 "name": null,
                 "type": "css",
                 "url": "/assetserver/46517a424aa5e6cffc1360d7e0848b601c584ee3-katex.min.css"
                }
               ],
               "type": "async_block"
              },
              "mount_callbacks": [
               "function () {\n    var handler = ((function (k){this.k=k; this.container=this.dom.querySelector(\"#container\"); return k.render(\"\\\\;\\\\;\",this.container)}));\n    (WebIO.importBlock({\"data\":[{\"name\":null,\"type\":\"js\",\"url\":\"/assetserver/dd22ed1bf1896c2748f3fe616ce0b838adc895c1-katex.min.js\"},{\"name\":null,\"type\":\"css\",\"url\":\"/assetserver/46517a424aa5e6cffc1360d7e0848b601c584ee3-katex.min.css\"}],\"type\":\"async_block\"})).then((imports) => handler.apply(this, imports));\n}\n"
              ],
              "observables": {
               "value": {
                "id": "16831990772896363628",
                "sync": false,
                "value": "\\;\\;"
               }
              },
              "systemjs_options": null
             },
             "nodeType": "Scope",
             "props": {},
             "type": "node"
            }
           ],
           "instanceArgs": {
            "namespace": "html",
            "tag": "div"
           },
           "nodeType": "DOM",
           "props": {
            "className": "interact-widget"
           },
           "type": "node"
          },
          {
           "children": [],
           "instanceArgs": {
            "namespace": "html",
            "tag": "div"
           },
           "nodeType": "DOM",
           "props": {
            "style": {
             "display": "flex",
             "flex-direction": "column"
            }
           },
           "type": "node"
          }
         ],
         "instanceArgs": {
          "namespace": "html",
          "tag": "div"
         },
         "nodeType": "DOM",
         "props": {
          "style": {
           "display": "flex",
           "flex-direction": "row"
          }
         },
         "type": "node"
        }
       ],
       "instanceArgs": {
        "namespace": "html",
        "tag": "div"
       },
       "nodeType": "DOM",
       "props": {
        "style": {
         "display": "flex",
         "flex-direction": "column"
        }
       },
       "type": "node"
      },
      "text/html": [
       "<div\n",
       "    class=\"webio-mountpoint\"\n",
       "    data-webio-mountpoint=\"6974481781404165132\"\n",
       ">\n",
       "    <script>\n",
       "    (function(){\n",
       "    // Some integrations (namely, IJulia/Jupyter) use an alternate render pathway than\n",
       "    // just putting the html on the page. If WebIO isn't defined, then it's pretty likely\n",
       "    // that we're in one of those situations and the integration just isn't installed\n",
       "    // correctly.\n",
       "    if (typeof window.WebIO === \"undefined\") {\n",
       "        document\n",
       "            .querySelector('[data-webio-mountpoint=\"6974481781404165132\"]')\n",
       "            .innerHTML = (\n",
       "                '<div style=\"padding: 1em; background-color: #f8d6da; border: 1px solid #f5c6cb; font-weight: bold;\">' +\n",
       "                '<p><strong>WebIO not detected.</strong></p>' +\n",
       "                '<p>Please read ' +\n",
       "                '<a href=\"https://juliagizmos.github.io/WebIO.jl/latest/troubleshooting/not-detected/\" target=\"_blank\">the troubleshooting guide</a> ' +\n",
       "                'for more information on how to resolve this issue.</p>' +\n",
       "                '<p><a href=\"https://juliagizmos.github.io/WebIO.jl/latest/troubleshooting/not-detected/\" target=\"_blank\">https://juliagizmos.github.io/WebIO.jl/latest/troubleshooting/not-detected/</a></p>' +\n",
       "                '</div>'\n",
       "            );\n",
       "        return;\n",
       "    }\n",
       "    WebIO.mount(\n",
       "        document.querySelector('[data-webio-mountpoint=\"6974481781404165132\"]'),\n",
       "        {\"props\":{\"style\":{\"display\":\"flex\",\"flex-direction\":\"column\"}},\"nodeType\":\"DOM\",\"type\":\"node\",\"instanceArgs\":{\"namespace\":\"html\",\"tag\":\"div\"},\"children\":[{\"props\":{\"style\":{\"display\":\"flex\",\"flex-direction\":\"row\"}},\"nodeType\":\"DOM\",\"type\":\"node\",\"instanceArgs\":{\"namespace\":\"html\",\"tag\":\"div\"},\"children\":[{\"props\":{\"style\":{\"display\":\"flex\",\"flex-direction\":\"column\"}},\"nodeType\":\"DOM\",\"type\":\"node\",\"instanceArgs\":{\"namespace\":\"html\",\"tag\":\"div\"},\"children\":[{\"props\":{\"className\":\"field interact-widget\"},\"nodeType\":\"DOM\",\"type\":\"node\",\"instanceArgs\":{\"namespace\":\"html\",\"tag\":\"div\"},\"children\":[{\"props\":{},\"nodeType\":\"Scope\",\"type\":\"node\",\"instanceArgs\":{\"imports\":{\"data\":[{\"name\":\"knockout\",\"type\":\"js\",\"url\":\"\\/assetserver\\/727383f2a47bd31570b7da84eee7b022dd6d7c78-knockout.js\"},{\"name\":\"knockout_punches\",\"type\":\"js\",\"url\":\"\\/assetserver\\/382b41b3b1bd9f26f75861d360bad7f8beea211f-knockout_punches.js\"},{\"name\":null,\"type\":\"js\",\"url\":\"\\/assetserver\\/5ab20f1060420992a9b82a65b735dee4d81ef413-all.js\"},{\"name\":null,\"type\":\"css\",\"url\":\"\\/assetserver\\/1cc0ed62837210b80a182cc3676512f895dab686-style.css\"},{\"name\":null,\"type\":\"css\",\"url\":\"\\/assetserver\\/2eee816f616df3549d7044d45e744fbf8d42bfa1-bulma_confined.min.css\"}],\"type\":\"async_block\"},\"id\":\"1355616830622239761\",\"handlers\":{\"changes\":[\"(function (val){return (val!=this.model[\\\"changes\\\"]()) ? (this.valueFromJulia[\\\"changes\\\"]=true, this.model[\\\"changes\\\"](val)) : undefined})\"],\"index\":[\"(function (val){return (val!=this.model[\\\"index\\\"]()) ? (this.valueFromJulia[\\\"index\\\"]=true, this.model[\\\"index\\\"](val)) : undefined})\"]},\"systemjs_options\":null,\"mount_callbacks\":[\"function () {\\n    var handler = (function (ko, koPunches) {\\n    ko.punches.enableAll();\\n    ko.bindingHandlers.numericValue = {\\n        init: function(element, valueAccessor, allBindings, data, context) {\\n            var stringified = ko.observable(ko.unwrap(valueAccessor()));\\n            stringified.subscribe(function(value) {\\n                var val = parseFloat(value);\\n                if (!isNaN(val)) {\\n                    valueAccessor()(val);\\n                }\\n            });\\n            valueAccessor().subscribe(function(value) {\\n                var str = JSON.stringify(value);\\n                if ((str == \\\"0\\\") && ([\\\"-0\\\", \\\"-0.\\\"].indexOf(stringified()) >= 0))\\n                     return;\\n                 if ([\\\"null\\\", \\\"\\\"].indexOf(str) >= 0)\\n                     return;\\n                stringified(str);\\n            });\\n            ko.applyBindingsToNode(\\n                element,\\n                {\\n                    value: stringified,\\n                    valueUpdate: allBindings.get('valueUpdate'),\\n                },\\n                context,\\n            );\\n        }\\n    };\\n    var json_data = {\\\"formatted_vals\\\":[\\\"1\\\",\\\"2\\\",\\\"3\\\",\\\"4\\\",\\\"5\\\",\\\"6\\\",\\\"7\\\",\\\"8\\\",\\\"9\\\",\\\"10\\\",\\\"11\\\",\\\"12\\\",\\\"13\\\",\\\"14\\\",\\\"15\\\",\\\"16\\\",\\\"17\\\",\\\"18\\\",\\\"19\\\",\\\"20\\\",\\\"21\\\",\\\"22\\\",\\\"23\\\",\\\"24\\\",\\\"25\\\",\\\"26\\\",\\\"27\\\",\\\"28\\\",\\\"29\\\",\\\"30\\\",\\\"31\\\",\\\"32\\\",\\\"33\\\",\\\"34\\\",\\\"35\\\",\\\"36\\\",\\\"37\\\",\\\"38\\\",\\\"39\\\",\\\"40\\\",\\\"41\\\",\\\"42\\\",\\\"43\\\",\\\"44\\\",\\\"45\\\",\\\"46\\\",\\\"47\\\",\\\"48\\\",\\\"49\\\",\\\"50\\\",\\\"51\\\",\\\"52\\\",\\\"53\\\",\\\"54\\\",\\\"55\\\",\\\"56\\\",\\\"57\\\",\\\"58\\\",\\\"59\\\",\\\"60\\\",\\\"61\\\",\\\"62\\\",\\\"63\\\",\\\"64\\\",\\\"65\\\",\\\"66\\\",\\\"67\\\",\\\"68\\\",\\\"69\\\",\\\"70\\\",\\\"71\\\",\\\"72\\\",\\\"73\\\",\\\"74\\\",\\\"75\\\",\\\"76\\\",\\\"77\\\",\\\"78\\\",\\\"79\\\",\\\"80\\\",\\\"81\\\",\\\"82\\\",\\\"83\\\",\\\"84\\\",\\\"85\\\",\\\"86\\\",\\\"87\\\",\\\"88\\\",\\\"89\\\",\\\"90\\\",\\\"91\\\",\\\"92\\\",\\\"93\\\",\\\"94\\\",\\\"95\\\",\\\"96\\\",\\\"97\\\",\\\"98\\\",\\\"99\\\",\\\"100\\\",\\\"101\\\",\\\"102\\\",\\\"103\\\",\\\"104\\\",\\\"105\\\",\\\"106\\\",\\\"107\\\",\\\"108\\\",\\\"109\\\",\\\"110\\\",\\\"111\\\",\\\"112\\\",\\\"113\\\",\\\"114\\\",\\\"115\\\",\\\"116\\\",\\\"117\\\",\\\"118\\\",\\\"119\\\",\\\"120\\\",\\\"121\\\",\\\"122\\\",\\\"123\\\",\\\"124\\\",\\\"125\\\",\\\"126\\\",\\\"127\\\",\\\"128\\\",\\\"129\\\",\\\"130\\\",\\\"131\\\",\\\"132\\\",\\\"133\\\",\\\"134\\\",\\\"135\\\",\\\"136\\\",\\\"137\\\",\\\"138\\\",\\\"139\\\",\\\"140\\\",\\\"141\\\",\\\"142\\\",\\\"143\\\",\\\"144\\\",\\\"145\\\",\\\"146\\\",\\\"147\\\",\\\"148\\\",\\\"149\\\",\\\"150\\\",\\\"151\\\",\\\"152\\\",\\\"153\\\",\\\"154\\\",\\\"155\\\",\\\"156\\\",\\\"157\\\",\\\"158\\\",\\\"159\\\",\\\"160\\\",\\\"161\\\",\\\"162\\\",\\\"163\\\",\\\"164\\\",\\\"165\\\",\\\"166\\\",\\\"167\\\",\\\"168\\\",\\\"169\\\",\\\"170\\\",\\\"171\\\",\\\"172\\\",\\\"173\\\",\\\"174\\\",\\\"175\\\",\\\"176\\\",\\\"177\\\",\\\"178\\\",\\\"179\\\",\\\"180\\\",\\\"181\\\",\\\"182\\\",\\\"183\\\",\\\"184\\\",\\\"185\\\",\\\"186\\\",\\\"187\\\",\\\"188\\\",\\\"189\\\",\\\"190\\\",\\\"191\\\",\\\"192\\\",\\\"193\\\",\\\"194\\\",\\\"195\\\",\\\"196\\\",\\\"197\\\",\\\"198\\\",\\\"199\\\",\\\"200\\\",\\\"201\\\",\\\"202\\\",\\\"203\\\",\\\"204\\\",\\\"205\\\",\\\"206\\\",\\\"207\\\",\\\"208\\\",\\\"209\\\",\\\"210\\\",\\\"211\\\",\\\"212\\\",\\\"213\\\",\\\"214\\\",\\\"215\\\",\\\"216\\\",\\\"217\\\",\\\"218\\\",\\\"219\\\",\\\"220\\\",\\\"221\\\",\\\"222\\\",\\\"223\\\",\\\"224\\\",\\\"225\\\",\\\"226\\\",\\\"227\\\",\\\"228\\\",\\\"229\\\",\\\"230\\\",\\\"231\\\",\\\"232\\\",\\\"233\\\",\\\"234\\\",\\\"235\\\",\\\"236\\\",\\\"237\\\",\\\"238\\\",\\\"239\\\",\\\"240\\\",\\\"241\\\",\\\"242\\\",\\\"243\\\",\\\"244\\\",\\\"245\\\",\\\"246\\\",\\\"247\\\",\\\"248\\\",\\\"249\\\",\\\"250\\\",\\\"251\\\",\\\"252\\\",\\\"253\\\",\\\"254\\\",\\\"255\\\",\\\"256\\\",\\\"257\\\",\\\"258\\\",\\\"259\\\",\\\"260\\\",\\\"261\\\",\\\"262\\\",\\\"263\\\",\\\"264\\\",\\\"265\\\",\\\"266\\\",\\\"267\\\",\\\"268\\\",\\\"269\\\",\\\"270\\\",\\\"271\\\",\\\"272\\\",\\\"273\\\",\\\"274\\\",\\\"275\\\",\\\"276\\\",\\\"277\\\",\\\"278\\\",\\\"279\\\",\\\"280\\\",\\\"281\\\",\\\"282\\\",\\\"283\\\",\\\"284\\\",\\\"285\\\",\\\"286\\\",\\\"287\\\",\\\"288\\\",\\\"289\\\",\\\"290\\\",\\\"291\\\",\\\"292\\\",\\\"293\\\",\\\"294\\\",\\\"295\\\",\\\"296\\\",\\\"297\\\",\\\"298\\\",\\\"299\\\",\\\"300\\\",\\\"301\\\",\\\"302\\\",\\\"303\\\",\\\"304\\\",\\\"305\\\",\\\"306\\\",\\\"307\\\",\\\"308\\\",\\\"309\\\",\\\"310\\\",\\\"311\\\",\\\"312\\\",\\\"313\\\",\\\"314\\\",\\\"315\\\",\\\"316\\\",\\\"317\\\",\\\"318\\\",\\\"319\\\",\\\"320\\\",\\\"321\\\",\\\"322\\\",\\\"323\\\",\\\"324\\\",\\\"325\\\",\\\"326\\\",\\\"327\\\",\\\"328\\\",\\\"329\\\",\\\"330\\\",\\\"331\\\",\\\"332\\\",\\\"333\\\",\\\"334\\\",\\\"335\\\",\\\"336\\\",\\\"337\\\",\\\"338\\\",\\\"339\\\",\\\"340\\\",\\\"341\\\",\\\"342\\\",\\\"343\\\",\\\"344\\\",\\\"345\\\",\\\"346\\\",\\\"347\\\",\\\"348\\\",\\\"349\\\",\\\"350\\\",\\\"351\\\",\\\"352\\\",\\\"353\\\",\\\"354\\\",\\\"355\\\",\\\"356\\\",\\\"357\\\",\\\"358\\\",\\\"359\\\",\\\"360\\\",\\\"361\\\",\\\"362\\\",\\\"363\\\",\\\"364\\\",\\\"365\\\",\\\"366\\\",\\\"367\\\",\\\"368\\\",\\\"369\\\",\\\"370\\\",\\\"371\\\",\\\"372\\\",\\\"373\\\",\\\"374\\\",\\\"375\\\",\\\"376\\\",\\\"377\\\",\\\"378\\\",\\\"379\\\",\\\"380\\\",\\\"381\\\",\\\"382\\\",\\\"383\\\",\\\"384\\\",\\\"385\\\",\\\"386\\\",\\\"387\\\",\\\"388\\\",\\\"389\\\",\\\"390\\\",\\\"391\\\",\\\"392\\\",\\\"393\\\",\\\"394\\\",\\\"395\\\",\\\"396\\\",\\\"397\\\",\\\"398\\\",\\\"399\\\",\\\"400\\\"],\\\"changes\\\":WebIO.getval({\\\"name\\\":\\\"changes\\\",\\\"scope\\\":\\\"1355616830622239761\\\",\\\"id\\\":\\\"7892730434087332529\\\",\\\"type\\\":\\\"observable\\\"}),\\\"index\\\":WebIO.getval({\\\"name\\\":\\\"index\\\",\\\"scope\\\":\\\"1355616830622239761\\\",\\\"id\\\":\\\"4422255415440268717\\\",\\\"type\\\":\\\"observable\\\"})};\\n    var self = this;\\n    function AppViewModel() {\\n        for (var key in json_data) {\\n            var el = json_data[key];\\n            this[key] = Array.isArray(el) ? ko.observableArray(el) : ko.observable(el);\\n        }\\n        \\n        [this[\\\"formatted_val\\\"]=ko.computed(    function(){\\n        return this.formatted_vals()[parseInt(this.index())-(1)];\\n    }\\n,this)]\\n        [this[\\\"changes\\\"].subscribe((function (val){!(this.valueFromJulia[\\\"changes\\\"]) ? (WebIO.setval({\\\"name\\\":\\\"changes\\\",\\\"scope\\\":\\\"1355616830622239761\\\",\\\"id\\\":\\\"7892730434087332529\\\",\\\"type\\\":\\\"observable\\\"},val)) : undefined; return this.valueFromJulia[\\\"changes\\\"]=false}),self),this[\\\"index\\\"].subscribe((function (val){!(this.valueFromJulia[\\\"index\\\"]) ? (WebIO.setval({\\\"name\\\":\\\"index\\\",\\\"scope\\\":\\\"1355616830622239761\\\",\\\"id\\\":\\\"4422255415440268717\\\",\\\"type\\\":\\\"observable\\\"},val)) : undefined; return this.valueFromJulia[\\\"index\\\"]=false}),self)]\\n        \\n    }\\n    self.model = new AppViewModel();\\n    self.valueFromJulia = {};\\n    for (var key in json_data) {\\n        self.valueFromJulia[key] = false;\\n    }\\n    ko.applyBindings(self.model, self.dom);\\n}\\n);\\n    (WebIO.importBlock({\\\"data\\\":[{\\\"name\\\":\\\"knockout\\\",\\\"type\\\":\\\"js\\\",\\\"url\\\":\\\"\\/assetserver\\/727383f2a47bd31570b7da84eee7b022dd6d7c78-knockout.js\\\"},{\\\"name\\\":\\\"knockout_punches\\\",\\\"type\\\":\\\"js\\\",\\\"url\\\":\\\"\\/assetserver\\/382b41b3b1bd9f26f75861d360bad7f8beea211f-knockout_punches.js\\\"}],\\\"type\\\":\\\"async_block\\\"})).then((imports) => handler.apply(this, imports));\\n}\\n\"],\"observables\":{\"changes\":{\"sync\":false,\"id\":\"7892730434087332529\",\"value\":0},\"index\":{\"sync\":true,\"id\":\"4422255415440268717\",\"value\":1}}},\"children\":[{\"props\":{\"className\":\"interact-flex-row interact-widget\"},\"nodeType\":\"DOM\",\"type\":\"node\",\"instanceArgs\":{\"namespace\":\"html\",\"tag\":\"div\"},\"children\":[{\"props\":{\"className\":\"interact-flex-row-left\"},\"nodeType\":\"DOM\",\"type\":\"node\",\"instanceArgs\":{\"namespace\":\"html\",\"tag\":\"div\"},\"children\":[{\"props\":{\"className\":\"interact \",\"style\":{\"padding\":\"5px 10px 0px 10px\"}},\"nodeType\":\"DOM\",\"type\":\"node\",\"instanceArgs\":{\"namespace\":\"html\",\"tag\":\"label\"},\"children\":[\"time\"]}]},{\"props\":{\"className\":\"interact-flex-row-center\"},\"nodeType\":\"DOM\",\"type\":\"node\",\"instanceArgs\":{\"namespace\":\"html\",\"tag\":\"div\"},\"children\":[{\"props\":{\"max\":400,\"min\":1,\"attributes\":{\"type\":\"range\",\"data-bind\":\"numericValue: index, valueUpdate: 'input', event: {change: function (){this.changes(this.changes()+1)}}\",\"orient\":\"horizontal\"},\"step\":1,\"className\":\"slider slider is-fullwidth\",\"style\":{}},\"nodeType\":\"DOM\",\"type\":\"node\",\"instanceArgs\":{\"namespace\":\"html\",\"tag\":\"input\"},\"children\":[]}]},{\"props\":{\"className\":\"interact-flex-row-right\"},\"nodeType\":\"DOM\",\"type\":\"node\",\"instanceArgs\":{\"namespace\":\"html\",\"tag\":\"div\"},\"children\":[{\"props\":{\"attributes\":{\"data-bind\":\"text: formatted_val\"}},\"nodeType\":\"DOM\",\"type\":\"node\",\"instanceArgs\":{\"namespace\":\"html\",\"tag\":\"p\"},\"children\":[]}]}]}]}]},{\"props\":{\"className\":\"field interact-widget\"},\"nodeType\":\"DOM\",\"type\":\"node\",\"instanceArgs\":{\"namespace\":\"html\",\"tag\":\"div\"},\"children\":[{\"props\":{},\"nodeType\":\"Scope\",\"type\":\"node\",\"instanceArgs\":{\"imports\":{\"data\":[{\"name\":\"knockout\",\"type\":\"js\",\"url\":\"\\/assetserver\\/727383f2a47bd31570b7da84eee7b022dd6d7c78-knockout.js\"},{\"name\":\"knockout_punches\",\"type\":\"js\",\"url\":\"\\/assetserver\\/382b41b3b1bd9f26f75861d360bad7f8beea211f-knockout_punches.js\"},{\"name\":null,\"type\":\"js\",\"url\":\"\\/assetserver\\/5ab20f1060420992a9b82a65b735dee4d81ef413-all.js\"},{\"name\":null,\"type\":\"css\",\"url\":\"\\/assetserver\\/1cc0ed62837210b80a182cc3676512f895dab686-style.css\"},{\"name\":null,\"type\":\"css\",\"url\":\"\\/assetserver\\/2eee816f616df3549d7044d45e744fbf8d42bfa1-bulma_confined.min.css\"}],\"type\":\"async_block\"},\"id\":\"2660991934482658336\",\"handlers\":{\"changes\":[\"(function (val){return (val!=this.model[\\\"changes\\\"]()) ? (this.valueFromJulia[\\\"changes\\\"]=true, this.model[\\\"changes\\\"](val)) : undefined})\"],\"index\":[\"(function (val){return (val!=this.model[\\\"index\\\"]()) ? (this.valueFromJulia[\\\"index\\\"]=true, this.model[\\\"index\\\"](val)) : undefined})\"]},\"systemjs_options\":null,\"mount_callbacks\":[\"function () {\\n    var handler = (function (ko, koPunches) {\\n    ko.punches.enableAll();\\n    ko.bindingHandlers.numericValue = {\\n        init: function(element, valueAccessor, allBindings, data, context) {\\n            var stringified = ko.observable(ko.unwrap(valueAccessor()));\\n            stringified.subscribe(function(value) {\\n                var val = parseFloat(value);\\n                if (!isNaN(val)) {\\n                    valueAccessor()(val);\\n                }\\n            });\\n            valueAccessor().subscribe(function(value) {\\n                var str = JSON.stringify(value);\\n                if ((str == \\\"0\\\") && ([\\\"-0\\\", \\\"-0.\\\"].indexOf(stringified()) >= 0))\\n                     return;\\n                 if ([\\\"null\\\", \\\"\\\"].indexOf(str) >= 0)\\n                     return;\\n                stringified(str);\\n            });\\n            ko.applyBindingsToNode(\\n                element,\\n                {\\n                    value: stringified,\\n                    valueUpdate: allBindings.get('valueUpdate'),\\n                },\\n                context,\\n            );\\n        }\\n    };\\n    var json_data = {\\\"formatted_vals\\\":[\\\"0.1\\\",\\\"0.2\\\",\\\"0.3\\\",\\\"0.4\\\",\\\"0.5\\\",\\\"0.6\\\",\\\"0.7\\\",\\\"0.8\\\",\\\"0.9\\\",\\\"1.0\\\",\\\"1.1\\\",\\\"1.2\\\",\\\"1.3\\\",\\\"1.4\\\",\\\"1.5\\\",\\\"1.6\\\",\\\"1.7\\\",\\\"1.8\\\",\\\"1.9\\\",\\\"2.0\\\"],\\\"changes\\\":WebIO.getval({\\\"name\\\":\\\"changes\\\",\\\"scope\\\":\\\"2660991934482658336\\\",\\\"id\\\":\\\"16290136940493189279\\\",\\\"type\\\":\\\"observable\\\"}),\\\"index\\\":WebIO.getval({\\\"name\\\":\\\"index\\\",\\\"scope\\\":\\\"2660991934482658336\\\",\\\"id\\\":\\\"17527393300366491584\\\",\\\"type\\\":\\\"observable\\\"})};\\n    var self = this;\\n    function AppViewModel() {\\n        for (var key in json_data) {\\n            var el = json_data[key];\\n            this[key] = Array.isArray(el) ? ko.observableArray(el) : ko.observable(el);\\n        }\\n        \\n        [this[\\\"formatted_val\\\"]=ko.computed(    function(){\\n        return this.formatted_vals()[parseInt(this.index())-(1)];\\n    }\\n,this)]\\n        [this[\\\"changes\\\"].subscribe((function (val){!(this.valueFromJulia[\\\"changes\\\"]) ? (WebIO.setval({\\\"name\\\":\\\"changes\\\",\\\"scope\\\":\\\"2660991934482658336\\\",\\\"id\\\":\\\"16290136940493189279\\\",\\\"type\\\":\\\"observable\\\"},val)) : undefined; return this.valueFromJulia[\\\"changes\\\"]=false}),self),this[\\\"index\\\"].subscribe((function (val){!(this.valueFromJulia[\\\"index\\\"]) ? (WebIO.setval({\\\"name\\\":\\\"index\\\",\\\"scope\\\":\\\"2660991934482658336\\\",\\\"id\\\":\\\"17527393300366491584\\\",\\\"type\\\":\\\"observable\\\"},val)) : undefined; return this.valueFromJulia[\\\"index\\\"]=false}),self)]\\n        \\n    }\\n    self.model = new AppViewModel();\\n    self.valueFromJulia = {};\\n    for (var key in json_data) {\\n        self.valueFromJulia[key] = false;\\n    }\\n    ko.applyBindings(self.model, self.dom);\\n}\\n);\\n    (WebIO.importBlock({\\\"data\\\":[{\\\"name\\\":\\\"knockout\\\",\\\"type\\\":\\\"js\\\",\\\"url\\\":\\\"\\/assetserver\\/727383f2a47bd31570b7da84eee7b022dd6d7c78-knockout.js\\\"},{\\\"name\\\":\\\"knockout_punches\\\",\\\"type\\\":\\\"js\\\",\\\"url\\\":\\\"\\/assetserver\\/382b41b3b1bd9f26f75861d360bad7f8beea211f-knockout_punches.js\\\"}],\\\"type\\\":\\\"async_block\\\"})).then((imports) => handler.apply(this, imports));\\n}\\n\"],\"observables\":{\"changes\":{\"sync\":false,\"id\":\"16290136940493189279\",\"value\":0},\"index\":{\"sync\":true,\"id\":\"17527393300366491584\",\"value\":10}}},\"children\":[{\"props\":{\"className\":\"interact-flex-row interact-widget\"},\"nodeType\":\"DOM\",\"type\":\"node\",\"instanceArgs\":{\"namespace\":\"html\",\"tag\":\"div\"},\"children\":[{\"props\":{\"className\":\"interact-flex-row-left\"},\"nodeType\":\"DOM\",\"type\":\"node\",\"instanceArgs\":{\"namespace\":\"html\",\"tag\":\"div\"},\"children\":[{\"props\":{\"className\":\"interact \",\"style\":{\"padding\":\"5px 10px 0px 10px\"}},\"nodeType\":\"DOM\",\"type\":\"node\",\"instanceArgs\":{\"namespace\":\"html\",\"tag\":\"label\"},\"children\":[\"scale\"]}]},{\"props\":{\"className\":\"interact-flex-row-center\"},\"nodeType\":\"DOM\",\"type\":\"node\",\"instanceArgs\":{\"namespace\":\"html\",\"tag\":\"div\"},\"children\":[{\"props\":{\"max\":20,\"min\":1,\"attributes\":{\"type\":\"range\",\"data-bind\":\"numericValue: index, valueUpdate: 'input', event: {change: function (){this.changes(this.changes()+1)}}\",\"orient\":\"horizontal\"},\"step\":1,\"className\":\"slider slider is-fullwidth\",\"style\":{}},\"nodeType\":\"DOM\",\"type\":\"node\",\"instanceArgs\":{\"namespace\":\"html\",\"tag\":\"input\"},\"children\":[]}]},{\"props\":{\"className\":\"interact-flex-row-right\"},\"nodeType\":\"DOM\",\"type\":\"node\",\"instanceArgs\":{\"namespace\":\"html\",\"tag\":\"div\"},\"children\":[{\"props\":{\"attributes\":{\"data-bind\":\"text: formatted_val\"}},\"nodeType\":\"DOM\",\"type\":\"node\",\"instanceArgs\":{\"namespace\":\"html\",\"tag\":\"p\"},\"children\":[]}]}]}]}]},{\"props\":{\"style\":{\"display\":\"flex\",\"flex-direction\":\"column\"}},\"nodeType\":\"DOM\",\"type\":\"node\",\"instanceArgs\":{\"namespace\":\"html\",\"tag\":\"div\"},\"children\":[]},{\"props\":{\"style\":{\"display\":\"flex\",\"flex-direction\":\"column\"}},\"nodeType\":\"DOM\",\"type\":\"node\",\"instanceArgs\":{\"namespace\":\"html\",\"tag\":\"div\"},\"children\":[{\"props\":{\"className\":\"field interact-widget\"},\"nodeType\":\"DOM\",\"type\":\"node\",\"instanceArgs\":{\"namespace\":\"html\",\"tag\":\"div\"},\"children\":[{\"props\":{},\"nodeType\":\"Scope\",\"type\":\"node\",\"instanceArgs\":{\"imports\":{\"data\":[{\"name\":\"knockout\",\"type\":\"js\",\"url\":\"\\/assetserver\\/727383f2a47bd31570b7da84eee7b022dd6d7c78-knockout.js\"},{\"name\":\"knockout_punches\",\"type\":\"js\",\"url\":\"\\/assetserver\\/382b41b3b1bd9f26f75861d360bad7f8beea211f-knockout_punches.js\"},{\"name\":null,\"type\":\"js\",\"url\":\"\\/assetserver\\/5ab20f1060420992a9b82a65b735dee4d81ef413-all.js\"},{\"name\":null,\"type\":\"css\",\"url\":\"\\/assetserver\\/1cc0ed62837210b80a182cc3676512f895dab686-style.css\"},{\"name\":null,\"type\":\"css\",\"url\":\"\\/assetserver\\/2eee816f616df3549d7044d45e744fbf8d42bfa1-bulma_confined.min.css\"}],\"type\":\"async_block\"},\"id\":\"13582576326374001749\",\"handlers\":{\"changes\":[\"(function (val){return (val!=this.model[\\\"changes\\\"]()) ? (this.valueFromJulia[\\\"changes\\\"]=true, this.model[\\\"changes\\\"](val)) : undefined})\"],\"index\":[\"(function (val){return (val!=this.model[\\\"index\\\"]()) ? (this.valueFromJulia[\\\"index\\\"]=true, this.model[\\\"index\\\"](val)) : undefined})\"]},\"systemjs_options\":null,\"mount_callbacks\":[\"function () {\\n    var handler = (function (ko, koPunches) {\\n    ko.punches.enableAll();\\n    ko.bindingHandlers.numericValue = {\\n        init: function(element, valueAccessor, allBindings, data, context) {\\n            var stringified = ko.observable(ko.unwrap(valueAccessor()));\\n            stringified.subscribe(function(value) {\\n                var val = parseFloat(value);\\n                if (!isNaN(val)) {\\n                    valueAccessor()(val);\\n                }\\n            });\\n            valueAccessor().subscribe(function(value) {\\n                var str = JSON.stringify(value);\\n                if ((str == \\\"0\\\") && ([\\\"-0\\\", \\\"-0.\\\"].indexOf(stringified()) >= 0))\\n                     return;\\n                 if ([\\\"null\\\", \\\"\\\"].indexOf(str) >= 0)\\n                     return;\\n                stringified(str);\\n            });\\n            ko.applyBindingsToNode(\\n                element,\\n                {\\n                    value: stringified,\\n                    valueUpdate: allBindings.get('valueUpdate'),\\n                },\\n                context,\\n            );\\n        }\\n    };\\n    var json_data = {\\\"formatted_vals\\\":[\\\"0.0\\\",\\\"0.01\\\",\\\"0.02\\\",\\\"0.03\\\",\\\"0.04\\\",\\\"0.05\\\",\\\"0.06\\\",\\\"0.07\\\",\\\"0.08\\\",\\\"0.09\\\",\\\"0.1\\\",\\\"0.11\\\",\\\"0.12\\\",\\\"0.13\\\",\\\"0.14\\\",\\\"0.15\\\",\\\"0.16\\\",\\\"0.17\\\",\\\"0.18\\\",\\\"0.19\\\",\\\"0.2\\\",\\\"0.21\\\",\\\"0.22\\\",\\\"0.23\\\",\\\"0.24\\\",\\\"0.25\\\",\\\"0.26\\\",\\\"0.27\\\",\\\"0.28\\\",\\\"0.29\\\",\\\"0.3\\\",\\\"0.31\\\",\\\"0.32\\\",\\\"0.33\\\",\\\"0.34\\\",\\\"0.35\\\",\\\"0.36\\\",\\\"0.37\\\",\\\"0.38\\\",\\\"0.39\\\",\\\"0.4\\\",\\\"0.41\\\",\\\"0.42\\\",\\\"0.43\\\",\\\"0.44\\\",\\\"0.45\\\",\\\"0.46\\\",\\\"0.47\\\",\\\"0.48\\\",\\\"0.49\\\",\\\"0.5\\\",\\\"0.51\\\",\\\"0.52\\\",\\\"0.53\\\",\\\"0.54\\\",\\\"0.55\\\",\\\"0.56\\\",\\\"0.57\\\",\\\"0.58\\\",\\\"0.59\\\",\\\"0.6\\\",\\\"0.61\\\",\\\"0.62\\\",\\\"0.63\\\",\\\"0.64\\\",\\\"0.65\\\",\\\"0.66\\\",\\\"0.67\\\",\\\"0.68\\\",\\\"0.69\\\",\\\"0.7\\\",\\\"0.71\\\",\\\"0.72\\\",\\\"0.73\\\",\\\"0.74\\\",\\\"0.75\\\",\\\"0.76\\\",\\\"0.77\\\",\\\"0.78\\\",\\\"0.79\\\",\\\"0.8\\\",\\\"0.81\\\",\\\"0.82\\\",\\\"0.83\\\",\\\"0.84\\\",\\\"0.85\\\",\\\"0.86\\\",\\\"0.87\\\",\\\"0.88\\\",\\\"0.89\\\",\\\"0.9\\\",\\\"0.91\\\",\\\"0.92\\\",\\\"0.93\\\",\\\"0.94\\\",\\\"0.95\\\",\\\"0.96\\\",\\\"0.97\\\",\\\"0.98\\\",\\\"0.99\\\",\\\"1.0\\\"],\\\"changes\\\":WebIO.getval({\\\"name\\\":\\\"changes\\\",\\\"scope\\\":\\\"13582576326374001749\\\",\\\"id\\\":\\\"4223021881162598133\\\",\\\"type\\\":\\\"observable\\\"}),\\\"index\\\":WebIO.getval({\\\"name\\\":\\\"index\\\",\\\"scope\\\":\\\"13582576326374001749\\\",\\\"id\\\":\\\"16721405116666373485\\\",\\\"type\\\":\\\"observable\\\"})};\\n    var self = this;\\n    function AppViewModel() {\\n        for (var key in json_data) {\\n            var el = json_data[key];\\n            this[key] = Array.isArray(el) ? ko.observableArray(el) : ko.observable(el);\\n        }\\n        \\n        [this[\\\"formatted_val\\\"]=ko.computed(    function(){\\n        return this.formatted_vals()[parseInt(this.index())-(1)];\\n    }\\n,this)]\\n        [this[\\\"changes\\\"].subscribe((function (val){!(this.valueFromJulia[\\\"changes\\\"]) ? (WebIO.setval({\\\"name\\\":\\\"changes\\\",\\\"scope\\\":\\\"13582576326374001749\\\",\\\"id\\\":\\\"4223021881162598133\\\",\\\"type\\\":\\\"observable\\\"},val)) : undefined; return this.valueFromJulia[\\\"changes\\\"]=false}),self),this[\\\"index\\\"].subscribe((function (val){!(this.valueFromJulia[\\\"index\\\"]) ? (WebIO.setval({\\\"name\\\":\\\"index\\\",\\\"scope\\\":\\\"13582576326374001749\\\",\\\"id\\\":\\\"16721405116666373485\\\",\\\"type\\\":\\\"observable\\\"},val)) : undefined; return this.valueFromJulia[\\\"index\\\"]=false}),self)]\\n        \\n    }\\n    self.model = new AppViewModel();\\n    self.valueFromJulia = {};\\n    for (var key in json_data) {\\n        self.valueFromJulia[key] = false;\\n    }\\n    ko.applyBindings(self.model, self.dom);\\n}\\n);\\n    (WebIO.importBlock({\\\"data\\\":[{\\\"name\\\":\\\"knockout\\\",\\\"type\\\":\\\"js\\\",\\\"url\\\":\\\"\\/assetserver\\/727383f2a47bd31570b7da84eee7b022dd6d7c78-knockout.js\\\"},{\\\"name\\\":\\\"knockout_punches\\\",\\\"type\\\":\\\"js\\\",\\\"url\\\":\\\"\\/assetserver\\/382b41b3b1bd9f26f75861d360bad7f8beea211f-knockout_punches.js\\\"}],\\\"type\\\":\\\"async_block\\\"})).then((imports) => handler.apply(this, imports));\\n}\\n\"],\"observables\":{\"changes\":{\"sync\":false,\"id\":\"4223021881162598133\",\"value\":0},\"index\":{\"sync\":true,\"id\":\"16721405116666373485\",\"value\":51}}},\"children\":[{\"props\":{\"className\":\"interact-flex-row interact-widget\"},\"nodeType\":\"DOM\",\"type\":\"node\",\"instanceArgs\":{\"namespace\":\"html\",\"tag\":\"div\"},\"children\":[{\"props\":{\"className\":\"interact-flex-row-left\"},\"nodeType\":\"DOM\",\"type\":\"node\",\"instanceArgs\":{\"namespace\":\"html\",\"tag\":\"div\"},\"children\":[{\"props\":{\"className\":\"interact \",\"style\":{\"padding\":\"5px 10px 0px 10px\"}},\"nodeType\":\"DOM\",\"type\":\"node\",\"instanceArgs\":{\"namespace\":\"html\",\"tag\":\"label\"},\"children\":[\"prob\"]}]},{\"props\":{\"className\":\"interact-flex-row-center\"},\"nodeType\":\"DOM\",\"type\":\"node\",\"instanceArgs\":{\"namespace\":\"html\",\"tag\":\"div\"},\"children\":[{\"props\":{\"max\":101,\"min\":1,\"attributes\":{\"type\":\"range\",\"data-bind\":\"numericValue: index, valueUpdate: 'input', event: {change: function (){this.changes(this.changes()+1)}}\",\"orient\":\"horizontal\"},\"step\":1,\"className\":\"slider slider is-fullwidth\",\"style\":{}},\"nodeType\":\"DOM\",\"type\":\"node\",\"instanceArgs\":{\"namespace\":\"html\",\"tag\":\"input\"},\"children\":[]}]},{\"props\":{\"className\":\"interact-flex-row-right\"},\"nodeType\":\"DOM\",\"type\":\"node\",\"instanceArgs\":{\"namespace\":\"html\",\"tag\":\"div\"},\"children\":[{\"props\":{\"attributes\":{\"data-bind\":\"text: formatted_val\"}},\"nodeType\":\"DOM\",\"type\":\"node\",\"instanceArgs\":{\"namespace\":\"html\",\"tag\":\"p\"},\"children\":[]}]}]}]}]}]},{\"props\":{\"style\":{\"display\":\"flex\",\"flex-direction\":\"row\"}},\"nodeType\":\"DOM\",\"type\":\"node\",\"instanceArgs\":{\"namespace\":\"html\",\"tag\":\"div\"},\"children\":[{\"props\":{\"className\":\"interact-widget\"},\"nodeType\":\"DOM\",\"type\":\"node\",\"instanceArgs\":{\"namespace\":\"html\",\"tag\":\"div\"},\"children\":[{\"props\":{},\"nodeType\":\"Scope\",\"type\":\"node\",\"instanceArgs\":{\"imports\":{\"data\":[{\"name\":null,\"type\":\"js\",\"url\":\"\\/assetserver\\/dd22ed1bf1896c2748f3fe616ce0b838adc895c1-katex.min.js\"},{\"name\":null,\"type\":\"css\",\"url\":\"\\/assetserver\\/46517a424aa5e6cffc1360d7e0848b601c584ee3-katex.min.css\"}],\"type\":\"async_block\"},\"id\":\"12652180783574931407\",\"handlers\":{\"value\":[\"(function (txt){return this.k.render(txt,this.container)})\"]},\"systemjs_options\":null,\"mount_callbacks\":[\"function () {\\n    var handler = ((function (k){this.k=k; this.container=this.dom.querySelector(\\\"#container\\\"); return k.render(\\\"\\\\\\\\;\\\\\\\\;\\\",this.container)}));\\n    (WebIO.importBlock({\\\"data\\\":[{\\\"name\\\":null,\\\"type\\\":\\\"js\\\",\\\"url\\\":\\\"\\/assetserver\\/dd22ed1bf1896c2748f3fe616ce0b838adc895c1-katex.min.js\\\"},{\\\"name\\\":null,\\\"type\\\":\\\"css\\\",\\\"url\\\":\\\"\\/assetserver\\/46517a424aa5e6cffc1360d7e0848b601c584ee3-katex.min.css\\\"}],\\\"type\\\":\\\"async_block\\\"})).then((imports) => handler.apply(this, imports));\\n}\\n\"],\"observables\":{\"value\":{\"sync\":false,\"id\":\"16831990772896363628\",\"value\":\"\\\\;\\\\;\"}}},\"children\":[{\"props\":{\"id\":\"container\"},\"nodeType\":\"DOM\",\"type\":\"node\",\"instanceArgs\":{\"namespace\":\"html\",\"tag\":\"div\"},\"children\":[]}]}]},{\"props\":{\"className\":\"field interact-widget\"},\"nodeType\":\"DOM\",\"type\":\"node\",\"instanceArgs\":{\"namespace\":\"html\",\"tag\":\"div\"},\"children\":[{\"props\":{},\"nodeType\":\"Scope\",\"type\":\"node\",\"instanceArgs\":{\"imports\":{\"data\":[{\"name\":\"knockout\",\"type\":\"js\",\"url\":\"\\/assetserver\\/727383f2a47bd31570b7da84eee7b022dd6d7c78-knockout.js\"},{\"name\":\"knockout_punches\",\"type\":\"js\",\"url\":\"\\/assetserver\\/382b41b3b1bd9f26f75861d360bad7f8beea211f-knockout_punches.js\"},{\"name\":null,\"type\":\"js\",\"url\":\"\\/assetserver\\/5ab20f1060420992a9b82a65b735dee4d81ef413-all.js\"},{\"name\":null,\"type\":\"css\",\"url\":\"\\/assetserver\\/1cc0ed62837210b80a182cc3676512f895dab686-style.css\"},{\"name\":null,\"type\":\"css\",\"url\":\"\\/assetserver\\/2eee816f616df3549d7044d45e744fbf8d42bfa1-bulma_confined.min.css\"}],\"type\":\"async_block\"},\"id\":\"12681263972018739558\",\"handlers\":{\"loading\":[\"(function (val){return (val!=this.model[\\\"loading\\\"]()) ? (this.valueFromJulia[\\\"loading\\\"]=true, this.model[\\\"loading\\\"](val)) : undefined})\"],\"clicks\":[\"(function (val){return (val!=this.model[\\\"clicks\\\"]()) ? (this.valueFromJulia[\\\"clicks\\\"]=true, this.model[\\\"clicks\\\"](val)) : undefined})\"]},\"systemjs_options\":null,\"mount_callbacks\":[\"function () {\\n    var handler = (function (ko, koPunches) {\\n    ko.punches.enableAll();\\n    ko.bindingHandlers.numericValue = {\\n        init: function(element, valueAccessor, allBindings, data, context) {\\n            var stringified = ko.observable(ko.unwrap(valueAccessor()));\\n            stringified.subscribe(function(value) {\\n                var val = parseFloat(value);\\n                if (!isNaN(val)) {\\n                    valueAccessor()(val);\\n                }\\n            });\\n            valueAccessor().subscribe(function(value) {\\n                var str = JSON.stringify(value);\\n                if ((str == \\\"0\\\") && ([\\\"-0\\\", \\\"-0.\\\"].indexOf(stringified()) >= 0))\\n                     return;\\n                 if ([\\\"null\\\", \\\"\\\"].indexOf(str) >= 0)\\n                     return;\\n                stringified(str);\\n            });\\n            ko.applyBindingsToNode(\\n                element,\\n                {\\n                    value: stringified,\\n                    valueUpdate: allBindings.get('valueUpdate'),\\n                },\\n                context,\\n            );\\n        }\\n    };\\n    var json_data = {\\\"loading\\\":WebIO.getval({\\\"name\\\":\\\"loading\\\",\\\"scope\\\":\\\"12681263972018739558\\\",\\\"id\\\":\\\"8705095649264886279\\\",\\\"type\\\":\\\"observable\\\"}),\\\"clicks\\\":WebIO.getval({\\\"name\\\":\\\"clicks\\\",\\\"scope\\\":\\\"12681263972018739558\\\",\\\"id\\\":\\\"583761579779579761\\\",\\\"type\\\":\\\"observable\\\"})};\\n    var self = this;\\n    function AppViewModel() {\\n        for (var key in json_data) {\\n            var el = json_data[key];\\n            this[key] = Array.isArray(el) ? ko.observableArray(el) : ko.observable(el);\\n        }\\n        \\n        \\n        [this[\\\"loading\\\"].subscribe((function (val){!(this.valueFromJulia[\\\"loading\\\"]) ? (WebIO.setval({\\\"name\\\":\\\"loading\\\",\\\"scope\\\":\\\"12681263972018739558\\\",\\\"id\\\":\\\"8705095649264886279\\\",\\\"type\\\":\\\"observable\\\"},val)) : undefined; return this.valueFromJulia[\\\"loading\\\"]=false}),self),this[\\\"clicks\\\"].subscribe((function (val){!(this.valueFromJulia[\\\"clicks\\\"]) ? (WebIO.setval({\\\"name\\\":\\\"clicks\\\",\\\"scope\\\":\\\"12681263972018739558\\\",\\\"id\\\":\\\"583761579779579761\\\",\\\"type\\\":\\\"observable\\\"},val)) : undefined; return this.valueFromJulia[\\\"clicks\\\"]=false}),self)]\\n        \\n    }\\n    self.model = new AppViewModel();\\n    self.valueFromJulia = {};\\n    for (var key in json_data) {\\n        self.valueFromJulia[key] = false;\\n    }\\n    ko.applyBindings(self.model, self.dom);\\n}\\n);\\n    (WebIO.importBlock({\\\"data\\\":[{\\\"name\\\":\\\"knockout\\\",\\\"type\\\":\\\"js\\\",\\\"url\\\":\\\"\\/assetserver\\/727383f2a47bd31570b7da84eee7b022dd6d7c78-knockout.js\\\"},{\\\"name\\\":\\\"knockout_punches\\\",\\\"type\\\":\\\"js\\\",\\\"url\\\":\\\"\\/assetserver\\/382b41b3b1bd9f26f75861d360bad7f8beea211f-knockout_punches.js\\\"}],\\\"type\\\":\\\"async_block\\\"})).then((imports) => handler.apply(this, imports));\\n}\\n\"],\"observables\":{\"loading\":{\"sync\":false,\"id\":\"8705095649264886279\",\"value\":false},\"clicks\":{\"sync\":true,\"id\":\"583761579779579761\",\"value\":0}}},\"children\":[{\"props\":{\"attributes\":{\"data-bind\":\"click: function (){this.clicks(this.clicks()+1)}, css: {'is-loading' : loading}\"},\"className\":\"is-medium button is-primary\",\"style\":{}},\"nodeType\":\"DOM\",\"type\":\"node\",\"instanceArgs\":{\"namespace\":\"html\",\"tag\":\"button\"},\"children\":[\"run\"]}]}]},{\"props\":{\"className\":\"interact-widget\"},\"nodeType\":\"DOM\",\"type\":\"node\",\"instanceArgs\":{\"namespace\":\"html\",\"tag\":\"div\"},\"children\":[{\"props\":{},\"nodeType\":\"Scope\",\"type\":\"node\",\"instanceArgs\":{\"imports\":{\"data\":[{\"name\":null,\"type\":\"js\",\"url\":\"\\/assetserver\\/dd22ed1bf1896c2748f3fe616ce0b838adc895c1-katex.min.js\"},{\"name\":null,\"type\":\"css\",\"url\":\"\\/assetserver\\/46517a424aa5e6cffc1360d7e0848b601c584ee3-katex.min.css\"}],\"type\":\"async_block\"},\"id\":\"12652180783574931407\",\"handlers\":{\"value\":[\"(function (txt){return this.k.render(txt,this.container)})\"]},\"systemjs_options\":null,\"mount_callbacks\":[\"function () {\\n    var handler = ((function (k){this.k=k; this.container=this.dom.querySelector(\\\"#container\\\"); return k.render(\\\"\\\\\\\\;\\\\\\\\;\\\",this.container)}));\\n    (WebIO.importBlock({\\\"data\\\":[{\\\"name\\\":null,\\\"type\\\":\\\"js\\\",\\\"url\\\":\\\"\\/assetserver\\/dd22ed1bf1896c2748f3fe616ce0b838adc895c1-katex.min.js\\\"},{\\\"name\\\":null,\\\"type\\\":\\\"css\\\",\\\"url\\\":\\\"\\/assetserver\\/46517a424aa5e6cffc1360d7e0848b601c584ee3-katex.min.css\\\"}],\\\"type\\\":\\\"async_block\\\"})).then((imports) => handler.apply(this, imports));\\n}\\n\"],\"observables\":{\"value\":{\"sync\":false,\"id\":\"16831990772896363628\",\"value\":\"\\\\;\\\\;\"}}},\"children\":[{\"props\":{\"id\":\"container\"},\"nodeType\":\"DOM\",\"type\":\"node\",\"instanceArgs\":{\"namespace\":\"html\",\"tag\":\"div\"},\"children\":[]}]}]},{\"props\":{\"className\":\"field interact-widget\"},\"nodeType\":\"DOM\",\"type\":\"node\",\"instanceArgs\":{\"namespace\":\"html\",\"tag\":\"div\"},\"children\":[{\"props\":{},\"nodeType\":\"Scope\",\"type\":\"node\",\"instanceArgs\":{\"imports\":{\"data\":[{\"name\":\"knockout\",\"type\":\"js\",\"url\":\"\\/assetserver\\/727383f2a47bd31570b7da84eee7b022dd6d7c78-knockout.js\"},{\"name\":\"knockout_punches\",\"type\":\"js\",\"url\":\"\\/assetserver\\/382b41b3b1bd9f26f75861d360bad7f8beea211f-knockout_punches.js\"},{\"name\":null,\"type\":\"js\",\"url\":\"\\/assetserver\\/5ab20f1060420992a9b82a65b735dee4d81ef413-all.js\"},{\"name\":null,\"type\":\"css\",\"url\":\"\\/assetserver\\/1cc0ed62837210b80a182cc3676512f895dab686-style.css\"},{\"name\":null,\"type\":\"css\",\"url\":\"\\/assetserver\\/2eee816f616df3549d7044d45e744fbf8d42bfa1-bulma_confined.min.css\"}],\"type\":\"async_block\"},\"id\":\"1983511182385005529\",\"handlers\":{\"loading\":[\"(function (val){return (val!=this.model[\\\"loading\\\"]()) ? (this.valueFromJulia[\\\"loading\\\"]=true, this.model[\\\"loading\\\"](val)) : undefined})\"],\"clicks\":[\"(function (val){return (val!=this.model[\\\"clicks\\\"]()) ? (this.valueFromJulia[\\\"clicks\\\"]=true, this.model[\\\"clicks\\\"](val)) : undefined})\"]},\"systemjs_options\":null,\"mount_callbacks\":[\"function () {\\n    var handler = (function (ko, koPunches) {\\n    ko.punches.enableAll();\\n    ko.bindingHandlers.numericValue = {\\n        init: function(element, valueAccessor, allBindings, data, context) {\\n            var stringified = ko.observable(ko.unwrap(valueAccessor()));\\n            stringified.subscribe(function(value) {\\n                var val = parseFloat(value);\\n                if (!isNaN(val)) {\\n                    valueAccessor()(val);\\n                }\\n            });\\n            valueAccessor().subscribe(function(value) {\\n                var str = JSON.stringify(value);\\n                if ((str == \\\"0\\\") && ([\\\"-0\\\", \\\"-0.\\\"].indexOf(stringified()) >= 0))\\n                     return;\\n                 if ([\\\"null\\\", \\\"\\\"].indexOf(str) >= 0)\\n                     return;\\n                stringified(str);\\n            });\\n            ko.applyBindingsToNode(\\n                element,\\n                {\\n                    value: stringified,\\n                    valueUpdate: allBindings.get('valueUpdate'),\\n                },\\n                context,\\n            );\\n        }\\n    };\\n    var json_data = {\\\"loading\\\":WebIO.getval({\\\"name\\\":\\\"loading\\\",\\\"scope\\\":\\\"1983511182385005529\\\",\\\"id\\\":\\\"7345806551063883232\\\",\\\"type\\\":\\\"observable\\\"}),\\\"clicks\\\":WebIO.getval({\\\"name\\\":\\\"clicks\\\",\\\"scope\\\":\\\"1983511182385005529\\\",\\\"id\\\":\\\"2639874687187422597\\\",\\\"type\\\":\\\"observable\\\"})};\\n    var self = this;\\n    function AppViewModel() {\\n        for (var key in json_data) {\\n            var el = json_data[key];\\n            this[key] = Array.isArray(el) ? ko.observableArray(el) : ko.observable(el);\\n        }\\n        \\n        \\n        [this[\\\"loading\\\"].subscribe((function (val){!(this.valueFromJulia[\\\"loading\\\"]) ? (WebIO.setval({\\\"name\\\":\\\"loading\\\",\\\"scope\\\":\\\"1983511182385005529\\\",\\\"id\\\":\\\"7345806551063883232\\\",\\\"type\\\":\\\"observable\\\"},val)) : undefined; return this.valueFromJulia[\\\"loading\\\"]=false}),self),this[\\\"clicks\\\"].subscribe((function (val){!(this.valueFromJulia[\\\"clicks\\\"]) ? (WebIO.setval({\\\"name\\\":\\\"clicks\\\",\\\"scope\\\":\\\"1983511182385005529\\\",\\\"id\\\":\\\"2639874687187422597\\\",\\\"type\\\":\\\"observable\\\"},val)) : undefined; return this.valueFromJulia[\\\"clicks\\\"]=false}),self)]\\n        \\n    }\\n    self.model = new AppViewModel();\\n    self.valueFromJulia = {};\\n    for (var key in json_data) {\\n        self.valueFromJulia[key] = false;\\n    }\\n    ko.applyBindings(self.model, self.dom);\\n}\\n);\\n    (WebIO.importBlock({\\\"data\\\":[{\\\"name\\\":\\\"knockout\\\",\\\"type\\\":\\\"js\\\",\\\"url\\\":\\\"\\/assetserver\\/727383f2a47bd31570b7da84eee7b022dd6d7c78-knockout.js\\\"},{\\\"name\\\":\\\"knockout_punches\\\",\\\"type\\\":\\\"js\\\",\\\"url\\\":\\\"\\/assetserver\\/382b41b3b1bd9f26f75861d360bad7f8beea211f-knockout_punches.js\\\"}],\\\"type\\\":\\\"async_block\\\"})).then((imports) => handler.apply(this, imports));\\n}\\n\"],\"observables\":{\"loading\":{\"sync\":false,\"id\":\"7345806551063883232\",\"value\":false},\"clicks\":{\"sync\":true,\"id\":\"2639874687187422597\",\"value\":0}}},\"children\":[{\"props\":{\"attributes\":{\"data-bind\":\"click: function (){this.clicks(this.clicks()+1)}, css: {'is-loading' : loading}\"},\"className\":\"is-medium button is-primary\",\"style\":{}},\"nodeType\":\"DOM\",\"type\":\"node\",\"instanceArgs\":{\"namespace\":\"html\",\"tag\":\"button\"},\"children\":[\"stop\"]}]}]},{\"props\":{\"className\":\"interact-widget\"},\"nodeType\":\"DOM\",\"type\":\"node\",\"instanceArgs\":{\"namespace\":\"html\",\"tag\":\"div\"},\"children\":[{\"props\":{},\"nodeType\":\"Scope\",\"type\":\"node\",\"instanceArgs\":{\"imports\":{\"data\":[{\"name\":null,\"type\":\"js\",\"url\":\"\\/assetserver\\/dd22ed1bf1896c2748f3fe616ce0b838adc895c1-katex.min.js\"},{\"name\":null,\"type\":\"css\",\"url\":\"\\/assetserver\\/46517a424aa5e6cffc1360d7e0848b601c584ee3-katex.min.css\"}],\"type\":\"async_block\"},\"id\":\"12652180783574931407\",\"handlers\":{\"value\":[\"(function (txt){return this.k.render(txt,this.container)})\"]},\"systemjs_options\":null,\"mount_callbacks\":[\"function () {\\n    var handler = ((function (k){this.k=k; this.container=this.dom.querySelector(\\\"#container\\\"); return k.render(\\\"\\\\\\\\;\\\\\\\\;\\\",this.container)}));\\n    (WebIO.importBlock({\\\"data\\\":[{\\\"name\\\":null,\\\"type\\\":\\\"js\\\",\\\"url\\\":\\\"\\/assetserver\\/dd22ed1bf1896c2748f3fe616ce0b838adc895c1-katex.min.js\\\"},{\\\"name\\\":null,\\\"type\\\":\\\"css\\\",\\\"url\\\":\\\"\\/assetserver\\/46517a424aa5e6cffc1360d7e0848b601c584ee3-katex.min.css\\\"}],\\\"type\\\":\\\"async_block\\\"})).then((imports) => handler.apply(this, imports));\\n}\\n\"],\"observables\":{\"value\":{\"sync\":false,\"id\":\"16831990772896363628\",\"value\":\"\\\\;\\\\;\"}}},\"children\":[{\"props\":{\"id\":\"container\"},\"nodeType\":\"DOM\",\"type\":\"node\",\"instanceArgs\":{\"namespace\":\"html\",\"tag\":\"div\"},\"children\":[]}]}]},{\"props\":{\"className\":\"field interact-widget\"},\"nodeType\":\"DOM\",\"type\":\"node\",\"instanceArgs\":{\"namespace\":\"html\",\"tag\":\"div\"},\"children\":[{\"props\":{},\"nodeType\":\"Scope\",\"type\":\"node\",\"instanceArgs\":{\"imports\":{\"data\":[{\"name\":\"knockout\",\"type\":\"js\",\"url\":\"\\/assetserver\\/727383f2a47bd31570b7da84eee7b022dd6d7c78-knockout.js\"},{\"name\":\"knockout_punches\",\"type\":\"js\",\"url\":\"\\/assetserver\\/382b41b3b1bd9f26f75861d360bad7f8beea211f-knockout_punches.js\"},{\"name\":null,\"type\":\"js\",\"url\":\"\\/assetserver\\/5ab20f1060420992a9b82a65b735dee4d81ef413-all.js\"},{\"name\":null,\"type\":\"css\",\"url\":\"\\/assetserver\\/1cc0ed62837210b80a182cc3676512f895dab686-style.css\"},{\"name\":null,\"type\":\"css\",\"url\":\"\\/assetserver\\/2eee816f616df3549d7044d45e744fbf8d42bfa1-bulma_confined.min.css\"}],\"type\":\"async_block\"},\"id\":\"8440043325700385881\",\"handlers\":{\"loading\":[\"(function (val){return (val!=this.model[\\\"loading\\\"]()) ? (this.valueFromJulia[\\\"loading\\\"]=true, this.model[\\\"loading\\\"](val)) : undefined})\"],\"clicks\":[\"(function (val){return (val!=this.model[\\\"clicks\\\"]()) ? (this.valueFromJulia[\\\"clicks\\\"]=true, this.model[\\\"clicks\\\"](val)) : undefined})\"]},\"systemjs_options\":null,\"mount_callbacks\":[\"function () {\\n    var handler = (function (ko, koPunches) {\\n    ko.punches.enableAll();\\n    ko.bindingHandlers.numericValue = {\\n        init: function(element, valueAccessor, allBindings, data, context) {\\n            var stringified = ko.observable(ko.unwrap(valueAccessor()));\\n            stringified.subscribe(function(value) {\\n                var val = parseFloat(value);\\n                if (!isNaN(val)) {\\n                    valueAccessor()(val);\\n                }\\n            });\\n            valueAccessor().subscribe(function(value) {\\n                var str = JSON.stringify(value);\\n                if ((str == \\\"0\\\") && ([\\\"-0\\\", \\\"-0.\\\"].indexOf(stringified()) >= 0))\\n                     return;\\n                 if ([\\\"null\\\", \\\"\\\"].indexOf(str) >= 0)\\n                     return;\\n                stringified(str);\\n            });\\n            ko.applyBindingsToNode(\\n                element,\\n                {\\n                    value: stringified,\\n                    valueUpdate: allBindings.get('valueUpdate'),\\n                },\\n                context,\\n            );\\n        }\\n    };\\n    var json_data = {\\\"loading\\\":WebIO.getval({\\\"name\\\":\\\"loading\\\",\\\"scope\\\":\\\"8440043325700385881\\\",\\\"id\\\":\\\"16082122143057524519\\\",\\\"type\\\":\\\"observable\\\"}),\\\"clicks\\\":WebIO.getval({\\\"name\\\":\\\"clicks\\\",\\\"scope\\\":\\\"8440043325700385881\\\",\\\"id\\\":\\\"16542424562967170242\\\",\\\"type\\\":\\\"observable\\\"})};\\n    var self = this;\\n    function AppViewModel() {\\n        for (var key in json_data) {\\n            var el = json_data[key];\\n            this[key] = Array.isArray(el) ? ko.observableArray(el) : ko.observable(el);\\n        }\\n        \\n        \\n        [this[\\\"loading\\\"].subscribe((function (val){!(this.valueFromJulia[\\\"loading\\\"]) ? (WebIO.setval({\\\"name\\\":\\\"loading\\\",\\\"scope\\\":\\\"8440043325700385881\\\",\\\"id\\\":\\\"16082122143057524519\\\",\\\"type\\\":\\\"observable\\\"},val)) : undefined; return this.valueFromJulia[\\\"loading\\\"]=false}),self),this[\\\"clicks\\\"].subscribe((function (val){!(this.valueFromJulia[\\\"clicks\\\"]) ? (WebIO.setval({\\\"name\\\":\\\"clicks\\\",\\\"scope\\\":\\\"8440043325700385881\\\",\\\"id\\\":\\\"16542424562967170242\\\",\\\"type\\\":\\\"observable\\\"},val)) : undefined; return this.valueFromJulia[\\\"clicks\\\"]=false}),self)]\\n        \\n    }\\n    self.model = new AppViewModel();\\n    self.valueFromJulia = {};\\n    for (var key in json_data) {\\n        self.valueFromJulia[key] = false;\\n    }\\n    ko.applyBindings(self.model, self.dom);\\n}\\n);\\n    (WebIO.importBlock({\\\"data\\\":[{\\\"name\\\":\\\"knockout\\\",\\\"type\\\":\\\"js\\\",\\\"url\\\":\\\"\\/assetserver\\/727383f2a47bd31570b7da84eee7b022dd6d7c78-knockout.js\\\"},{\\\"name\\\":\\\"knockout_punches\\\",\\\"type\\\":\\\"js\\\",\\\"url\\\":\\\"\\/assetserver\\/382b41b3b1bd9f26f75861d360bad7f8beea211f-knockout_punches.js\\\"}],\\\"type\\\":\\\"async_block\\\"})).then((imports) => handler.apply(this, imports));\\n}\\n\"],\"observables\":{\"loading\":{\"sync\":false,\"id\":\"16082122143057524519\",\"value\":false},\"clicks\":{\"sync\":true,\"id\":\"16542424562967170242\",\"value\":0}}},\"children\":[{\"props\":{\"attributes\":{\"data-bind\":\"click: function (){this.clicks(this.clicks()+1)}, css: {'is-loading' : loading}\"},\"className\":\"is-medium button is-primary\",\"style\":{}},\"nodeType\":\"DOM\",\"type\":\"node\",\"instanceArgs\":{\"namespace\":\"html\",\"tag\":\"button\"},\"children\":[\"reset\"]}]}]},{\"props\":{\"className\":\"interact-widget\"},\"nodeType\":\"DOM\",\"type\":\"node\",\"instanceArgs\":{\"namespace\":\"html\",\"tag\":\"div\"},\"children\":[{\"props\":{},\"nodeType\":\"Scope\",\"type\":\"node\",\"instanceArgs\":{\"imports\":{\"data\":[{\"name\":null,\"type\":\"js\",\"url\":\"\\/assetserver\\/dd22ed1bf1896c2748f3fe616ce0b838adc895c1-katex.min.js\"},{\"name\":null,\"type\":\"css\",\"url\":\"\\/assetserver\\/46517a424aa5e6cffc1360d7e0848b601c584ee3-katex.min.css\"}],\"type\":\"async_block\"},\"id\":\"12652180783574931407\",\"handlers\":{\"value\":[\"(function (txt){return this.k.render(txt,this.container)})\"]},\"systemjs_options\":null,\"mount_callbacks\":[\"function () {\\n    var handler = ((function (k){this.k=k; this.container=this.dom.querySelector(\\\"#container\\\"); return k.render(\\\"\\\\\\\\;\\\\\\\\;\\\",this.container)}));\\n    (WebIO.importBlock({\\\"data\\\":[{\\\"name\\\":null,\\\"type\\\":\\\"js\\\",\\\"url\\\":\\\"\\/assetserver\\/dd22ed1bf1896c2748f3fe616ce0b838adc895c1-katex.min.js\\\"},{\\\"name\\\":null,\\\"type\\\":\\\"css\\\",\\\"url\\\":\\\"\\/assetserver\\/46517a424aa5e6cffc1360d7e0848b601c584ee3-katex.min.css\\\"}],\\\"type\\\":\\\"async_block\\\"})).then((imports) => handler.apply(this, imports));\\n}\\n\"],\"observables\":{\"value\":{\"sync\":false,\"id\":\"16831990772896363628\",\"value\":\"\\\\;\\\\;\"}}},\"children\":[{\"props\":{\"id\":\"container\"},\"nodeType\":\"DOM\",\"type\":\"node\",\"instanceArgs\":{\"namespace\":\"html\",\"tag\":\"div\"},\"children\":[]}]}]},{\"props\":{\"className\":\"field interact-widget\"},\"nodeType\":\"DOM\",\"type\":\"node\",\"instanceArgs\":{\"namespace\":\"html\",\"tag\":\"div\"},\"children\":[{\"props\":{},\"nodeType\":\"Scope\",\"type\":\"node\",\"instanceArgs\":{\"imports\":{\"data\":[{\"name\":\"knockout\",\"type\":\"js\",\"url\":\"\\/assetserver\\/727383f2a47bd31570b7da84eee7b022dd6d7c78-knockout.js\"},{\"name\":\"knockout_punches\",\"type\":\"js\",\"url\":\"\\/assetserver\\/382b41b3b1bd9f26f75861d360bad7f8beea211f-knockout_punches.js\"},{\"name\":null,\"type\":\"js\",\"url\":\"\\/assetserver\\/5ab20f1060420992a9b82a65b735dee4d81ef413-all.js\"},{\"name\":null,\"type\":\"css\",\"url\":\"\\/assetserver\\/1cc0ed62837210b80a182cc3676512f895dab686-style.css\"},{\"name\":null,\"type\":\"css\",\"url\":\"\\/assetserver\\/2eee816f616df3549d7044d45e744fbf8d42bfa1-bulma_confined.min.css\"}],\"type\":\"async_block\"},\"id\":\"5292580516076908402\",\"handlers\":{\"loading\":[\"(function (val){return (val!=this.model[\\\"loading\\\"]()) ? (this.valueFromJulia[\\\"loading\\\"]=true, this.model[\\\"loading\\\"](val)) : undefined})\"],\"clicks\":[\"(function (val){return (val!=this.model[\\\"clicks\\\"]()) ? (this.valueFromJulia[\\\"clicks\\\"]=true, this.model[\\\"clicks\\\"](val)) : undefined})\"]},\"systemjs_options\":null,\"mount_callbacks\":[\"function () {\\n    var handler = (function (ko, koPunches) {\\n    ko.punches.enableAll();\\n    ko.bindingHandlers.numericValue = {\\n        init: function(element, valueAccessor, allBindings, data, context) {\\n            var stringified = ko.observable(ko.unwrap(valueAccessor()));\\n            stringified.subscribe(function(value) {\\n                var val = parseFloat(value);\\n                if (!isNaN(val)) {\\n                    valueAccessor()(val);\\n                }\\n            });\\n            valueAccessor().subscribe(function(value) {\\n                var str = JSON.stringify(value);\\n                if ((str == \\\"0\\\") && ([\\\"-0\\\", \\\"-0.\\\"].indexOf(stringified()) >= 0))\\n                     return;\\n                 if ([\\\"null\\\", \\\"\\\"].indexOf(str) >= 0)\\n                     return;\\n                stringified(str);\\n            });\\n            ko.applyBindingsToNode(\\n                element,\\n                {\\n                    value: stringified,\\n                    valueUpdate: allBindings.get('valueUpdate'),\\n                },\\n                context,\\n            );\\n        }\\n    };\\n    var json_data = {\\\"loading\\\":WebIO.getval({\\\"name\\\":\\\"loading\\\",\\\"scope\\\":\\\"5292580516076908402\\\",\\\"id\\\":\\\"5898249621409969537\\\",\\\"type\\\":\\\"observable\\\"}),\\\"clicks\\\":WebIO.getval({\\\"name\\\":\\\"clicks\\\",\\\"scope\\\":\\\"5292580516076908402\\\",\\\"id\\\":\\\"15779575896247916294\\\",\\\"type\\\":\\\"observable\\\"})};\\n    var self = this;\\n    function AppViewModel() {\\n        for (var key in json_data) {\\n            var el = json_data[key];\\n            this[key] = Array.isArray(el) ? ko.observableArray(el) : ko.observable(el);\\n        }\\n        \\n        \\n        [this[\\\"loading\\\"].subscribe((function (val){!(this.valueFromJulia[\\\"loading\\\"]) ? (WebIO.setval({\\\"name\\\":\\\"loading\\\",\\\"scope\\\":\\\"5292580516076908402\\\",\\\"id\\\":\\\"5898249621409969537\\\",\\\"type\\\":\\\"observable\\\"},val)) : undefined; return this.valueFromJulia[\\\"loading\\\"]=false}),self),this[\\\"clicks\\\"].subscribe((function (val){!(this.valueFromJulia[\\\"clicks\\\"]) ? (WebIO.setval({\\\"name\\\":\\\"clicks\\\",\\\"scope\\\":\\\"5292580516076908402\\\",\\\"id\\\":\\\"15779575896247916294\\\",\\\"type\\\":\\\"observable\\\"},val)) : undefined; return this.valueFromJulia[\\\"clicks\\\"]=false}),self)]\\n        \\n    }\\n    self.model = new AppViewModel();\\n    self.valueFromJulia = {};\\n    for (var key in json_data) {\\n        self.valueFromJulia[key] = false;\\n    }\\n    ko.applyBindings(self.model, self.dom);\\n}\\n);\\n    (WebIO.importBlock({\\\"data\\\":[{\\\"name\\\":\\\"knockout\\\",\\\"type\\\":\\\"js\\\",\\\"url\\\":\\\"\\/assetserver\\/727383f2a47bd31570b7da84eee7b022dd6d7c78-knockout.js\\\"},{\\\"name\\\":\\\"knockout_punches\\\",\\\"type\\\":\\\"js\\\",\\\"url\\\":\\\"\\/assetserver\\/382b41b3b1bd9f26f75861d360bad7f8beea211f-knockout_punches.js\\\"}],\\\"type\\\":\\\"async_block\\\"})).then((imports) => handler.apply(this, imports));\\n}\\n\"],\"observables\":{\"loading\":{\"sync\":false,\"id\":\"5898249621409969537\",\"value\":false},\"clicks\":{\"sync\":true,\"id\":\"15779575896247916294\",\"value\":0}}},\"children\":[{\"props\":{\"attributes\":{\"data-bind\":\"click: function (){this.clicks(this.clicks()+1)}, css: {'is-loading' : loading}\"},\"className\":\"is-medium button is-primary\",\"style\":{}},\"nodeType\":\"DOM\",\"type\":\"node\",\"instanceArgs\":{\"namespace\":\"html\",\"tag\":\"button\"},\"children\":[\"save\"]}]}]}]}]},{\"props\":{\"className\":\"interact-widget\"},\"nodeType\":\"DOM\",\"type\":\"node\",\"instanceArgs\":{\"namespace\":\"html\",\"tag\":\"div\"},\"children\":[{\"props\":{},\"nodeType\":\"Scope\",\"type\":\"node\",\"instanceArgs\":{\"imports\":{\"data\":[{\"name\":null,\"type\":\"js\",\"url\":\"\\/assetserver\\/dd22ed1bf1896c2748f3fe616ce0b838adc895c1-katex.min.js\"},{\"name\":null,\"type\":\"css\",\"url\":\"\\/assetserver\\/46517a424aa5e6cffc1360d7e0848b601c584ee3-katex.min.css\"}],\"type\":\"async_block\"},\"id\":\"12652180783574931407\",\"handlers\":{\"value\":[\"(function (txt){return this.k.render(txt,this.container)})\"]},\"systemjs_options\":null,\"mount_callbacks\":[\"function () {\\n    var handler = ((function (k){this.k=k; this.container=this.dom.querySelector(\\\"#container\\\"); return k.render(\\\"\\\\\\\\;\\\\\\\\;\\\",this.container)}));\\n    (WebIO.importBlock({\\\"data\\\":[{\\\"name\\\":null,\\\"type\\\":\\\"js\\\",\\\"url\\\":\\\"\\/assetserver\\/dd22ed1bf1896c2748f3fe616ce0b838adc895c1-katex.min.js\\\"},{\\\"name\\\":null,\\\"type\\\":\\\"css\\\",\\\"url\\\":\\\"\\/assetserver\\/46517a424aa5e6cffc1360d7e0848b601c584ee3-katex.min.css\\\"}],\\\"type\\\":\\\"async_block\\\"})).then((imports) => handler.apply(this, imports));\\n}\\n\"],\"observables\":{\"value\":{\"sync\":false,\"id\":\"16831990772896363628\",\"value\":\"\\\\;\\\\;\"}}},\"children\":[{\"props\":{\"id\":\"container\"},\"nodeType\":\"DOM\",\"type\":\"node\",\"instanceArgs\":{\"namespace\":\"html\",\"tag\":\"div\"},\"children\":[]}]}]},{\"props\":{},\"nodeType\":\"Scope\",\"type\":\"node\",\"instanceArgs\":{\"imports\":{\"data\":[],\"type\":\"async_block\"},\"id\":\"1186374106032129872\",\"handlers\":{\"obs-output\":[\"function (value, scope) {\\n    scope.setInnerHTML(value);\\n}\\n\"]},\"systemjs_options\":null,\"mount_callbacks\":[],\"observables\":{\"obs-output\":{\"sync\":false,\"id\":\"2931876414160392549\",\"value\":\"<img src='data:image\\/png;base64,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'><\\/img>\"}}},\"children\":[{\"props\":{\"className\":\"webio-observable\",\"setInnerHtml\":\"<img src='data:image\\/png;base64,iVBORw0KGgoAAAANSUhEUgAAAa4AAAGuCAIAAABHl3XNAAAABmJLR0QA\\/wD\\/AP+gvaeTAAAgAElEQVR4nO2dMW4tx7VF+z3\\/wPQcDDhVZMAxLd5ZSGNhIingWGzAU3BAGzAdGwoIeAQeAgOj9YOHLxj\\/kX5Vzao+a9ddOxI2uk9Xnarb0Gsu7Prw008\\/bUopdd36WD0ApZSql69CpZTyVaiUUr4KlVJq81WolFKbr0KllNp8FSql1OarUCmlNl+FSim1+SpUSqnNV6FSSm2+CpVSavNVqJRSm69CpZTafBUqpdS2bf9z4J593\\/\\/6179u2\\/b1119\\/\\/PhRX19fH+s36kNvdOu+7998883vfve7fd\\/\\/8Y9\\/\\/PGPf\\/z0VH19fX2a365ffP\\/99103\\/OUvf\\/n3v\\/99f3\\/\\/9ddf\\/\\/Of\\/\\/zzn\\/\\/8r3\\/968cff\\/zTn\\/7061\\/\\/eri\\/bdtvfvObz5\\/b688e5+zx986r6vrZ\\/U95btW6V+1n2jr+XKdd3f8buW3bf\\/6P5IcPH\\/T19fWxfqOO\\/AP522+\\/\\/e1vf\\/vTTz\\/9+OOPf\\/jDH37+H1R9fX19lN+u7lfh9n+fJz98+PD73\\/\\/+\\/322\\/O6777Zt++GHHxr9t+r0+qPq946\\/97lV18+eF63Ps\\/fP7HUZNa+q3xGqb4068hfkjx8\\/Xi6XV\\/2vvvrq0380+m\\/V6fVH1e8df+9zq66fPS9an2fvn9nrMmpeVb8jVN8a1f3uVEqp9TSYK3x+fv70H43+KJ5oVP3e8fc+t+r62fOi9Xn2\\/pm9LlVcXkqfu+o0qvuGfd+\\/+eabv\\/\\/973\\/729++\\/fbbfd\\/\\/0\\/\\/Vr371y1\\/+st1\\/q06vP6p+7\\/h7n1t1\\/ex50fo8e\\/\\/MXpdR86r6HXH61i46V0jjvLD81MkcYhWnVnV9Sp1rG\\/8X\\/XYd+VZI44b09fX15Qr19fX1i7hCGk9XxXNVcXxVXButn1X8XdW+pfWTxiEWcIU0nq63Do1DTOHaaP3srT\\/bn90HWj9pHOKrfqO6351KKbWeDnKFNJ6uiueq4viquDZaP1G5eCf0gdZPGodYwBXSeLoqnquK46vi2mj9rOLvqvYtrZ80DrGSK9zSOKPFxpnCG6asS1V+37XxmLP7tskV6uvr68sV6uvr68sVnp6jR+OwUnL6aLxkSg4jbf\\/Qfl9yhWU5eqPqz55X1bqk8JJV+yfld5Hy+3rVb1T3u1MppdbT4lzhtXFYKTl9NF4yJYeRtn9ovy+5wrIcPRqHlZLTR+MlU3IYafuH9vsi5hVu4ef80uqMem76OdRV+2TV\\/Zn+O\\/3iONt15FshjRvS19fXlyvU19fXD+EKU3IA031afiKNK6TVp+UY0vbtkOsbdRJX2OunnOdL82n5iTSukFZ\\/1PpW1amal+cgK6XUFJ3EFabkAKb7tPxEGldIq0\\/LMaTt2yHXN6r7hr00p4x2fi7Np+Un0rhCWn1ajiFt377\\/+nadzRWmcFJVPo2zo\\/GJs\\/cDlo+DnD9O259f7Fu7jnwrpHFD+vr6+nKF+vr6+kVcYURO2YH6NI4sfb60PD7aOqbvf9pzC7jCy+XS5adwWDSOLH2+tDw+2jqm73\\/ac1\\/1G9X97lRKqfV0kCuMyCk7UJ\\/GkaXPl5bHR1vH9P1Pe24BV8jPKTtWn8aRpc+XlsdHW8f0\\/U977nu4wu4\\/mzw+Pj49Pd3f32\\/b9vDw8PLy8unf88\\/Pzzc3N1\\/0b29v7+7u5tUZ5VfNK\\/25tHWh+b3zou3b2eMfXr9dR74V0rghfX19fblCfX19fRhXmM4PVuUDpvchPT+RxofS9kMKf\\/qq36jBXGE6PzjqudfWh9n9ofGSKX5V31AcYqOO3KOUUotpMFeYzg9W5QOm9yE9P5HGh9L2Qwp\\/+qrfqO4bdiS3VcWv0TjEdI5v1ZzBa+NMORxiu96bV7hNzt3rrV91\\/ajx0\\/LgaOdEV\\/WZlsuZ0v+qeW3mFerr6+vLFerr6+tfAVdYxQPS8v7S+cRV1zEl95C2P6f2rVFhXGEVDziqDirHbWCfU7jO2euYkntI259T+9ao7nenUkqtpzCusIoHpOX9pfOJq65jSu4hbX9O7Vujum\\/YS7nCKh6QlveXzieuuo4puYe0\\/Tmvb+06+xzkt3wa\\/1U1\\/lHP7a0zyqf1M4XTTKkzex2H12nXkW+FNG5IX19fX65QX19fP4QrTOHyaM9N4blS1oWWb5iyjtF5jo06iSvsvT6dF6PVH7VetHVPz51MWcfoPMdGdb87lVJqPZ3EFaZwebTnpvBcKetCyzdMWcfoPMdGdd+wI\\/PRaLwYrX4V30dbF1q+Yco65uY5tutsrjCdq6ri2kb5tPGM2idVz6VxozTusopb3OQK9fX19eUK9fX19QFcIY3bWjWvjdbPqtzJqn24Ks+YUifgHOS3fFruWzrfR+vnqP5XPTeFK0zJ\\/Zxdx3OQlVJqigZzhTRua9W8Nlo\\/q3Inq\\/bhqjxjSp2Ac5Bp3NaqeW20flblTqacy0xbx\\/Q6K5+DnM49peQkVtWn5QnO9mn7n7bup61ju458K6RxQ\\/r6+vpyhfr6+vowrpDGK6VwcLN5NxrHtyoHmsIbpp+j3VWnUcV5hbPrjPJpnGMKV0jL0aPVmb0faPu5ZJ806sg9Sim1mIrzCmncWdV4ZvNuNI5vVQ40hTdMP0e7q06jum\\/YkZxROgc3m3ejcXyrcqApvGH6Odrtddo1iyt8y6dxZNfGG87uD40brZpXb59T9kPVPj88\\/nYd+VZI44b09fX15Qr19fX1i7hCGs9F492qcglTcvHSOUdariKtPiqXs1EHuUIaz\\/XW9bQ6tL7R+Lje+lXrXjXO9HUp2beNOnKPUkotpoNcIY3novFuVbmEKbl46ZwjLVeRVh+Vy9mo7ht2JM9F492qcglTcvHSOUdariKtPieXs11nc4U0n8Ynrso5jpovjV+r4hBp+7bqd\\/HF8bTryLdCGjekr6+vL1eor6+vD8srvDZOisZb0fg72rrTcidT8i5pOZsgrvByuXT5q3JSo\\/z0vLmUdaflTlY9l8arTvUbdeQepZRaTNBzkGn1abwbjf9KWXda7mRK3iUtZxPEFdI4Jhq\\/RuMTadxlSq4fbb60852rcjZncIXdfzZ5fHx8enq6v7\\/ftu3h4eHl5eXTv8+fn59vbm6G+7e3t3d3d58\\/d5Q\\/6rm9dUb1oar\\/VfOt6sPs\\/syeF22cs\\/fVz9e368i3Qho3pK+vry9XqK+vr78oV5iSr5c+LxpHSVtH2nPTcz9LfheNgnKFKfl66fPqrTPKT1lH2nPTcz9LfheN6n53KqXUeoJyhSn5eunzonGUtHWkPTc997Pkd9Go7ht2JPdE49RS5kXjKGnrSHtueu7n+b+Ldr03r5B2niytzuzn0vLmaOc+0\\/INq\\/YbrT+njaddR74V0rghfX19fblCfX19fRhXSOOb0s8pTskfTJkXLU8wnVuk9Q2UV0jjm9LPKe7tQ1WfU+ZFyxOcvc9Tzsueur6NOnKPUkotpsFcIY1vSj+nOCV\\/MGVetDzBdG6R1jdQXiGNb0o\\/pzglfzBlXrQ8wXRukda3ynOQaZzRKL+K85pdh3ZeM23dR\\/U\\/fd\\/SeNXD823XkW+FNG5IX19fX65QX19fv4grrOL1qnL0aLl7KX1L4dGq+k\\/bP7Q6AecgV\\/F6b10\\/yqdxaul9S+HRqvpP2z+0Op6DrJRSp+ogV1jF61Xl6NFy91L6lsKjVfWftn9odQLOQa7i9VLOI16V41uVR6vqP23\\/0OqceQ7ye7nCrSj\\/jsY9leeyhXKLNM40nWekjbPcb9eRb4U0bkhfX19frlBfX18flldYleuX4qdzbbR8Sdp+o+UV0vjQEs60UdBzkEfVofmj+jb7etp5wSn7bdS6pPSNxlG+6jeq+92plFLrCXoO8mx+bdXzi1Py6VLq0\\/IoaX2jcZSv+o3qvmFH5gmm+OlcGy1fkrbfaHmFND70fM60Xd1\\/Nnl8fHx6erq\\/v9+27eHh4eXl5dO\\/85+fn29ubr7o397e3t3dtdfpvb63zmx\\/9jhn9232+tKeWzV+2jhpv5fD17fryLdCGjekr6+vL1eor6+vD8srNF+vdr7yksz+0\\/Zz1f4pmVejBucVmq937Lm0edH6kN5\\/2n6u2j8l82pU97tTKaXW0+C8QvP1aucrL8nsP20\\/V+2fknk1qvuGHclb0fgp2rnA18ZL0vpP289V++f8ebXrvVzhbG7o2jgvGrdVxVFW8XEp9dPrnDbOdh35VkjjhvT19fXlCvX19fVheYW03LQqTorGc1WdR0zj8lLyClPWkfZ7B+UV0nLTqjgpGs9VkhM3cN2r6qfvh5T1mjrfRnW\\/O5VSaj0Nziuk5aZVcVI0nqskJ27gulfVT98PKes1db6N6r5hR+ay0Xg6Gs9VdR4xjctLyStMWUfa7\\/09XOF7z0GmnWM7yq861ziln1XnHdP6P7tvo+rT+nCa364j3wpp3JC+vr6+XKG+vr5+CFdI47NofB+Ns6P1gZb3h8rjO6E+bR2DuUIanzV7\\/Cl5jvKMteNPqU9bR7lCpZSaopO4QhqfReP7aJwdrQ+0vD9UHt8J9WnrGMwV0vgsGt9H4+xofaDl\\/XHy+M6pT1vHFbjCDcapvTUe2jhn81xVXNvsPo\\/qz+z5juoDbb3K59uuI98KadyQvr6+vlyhvr6+PowrTDnXlZZnl8L90Ti19PORaedN0\\/IKh4yzUYO5wlH+qhzi7D7QfNr6zq4zex1T5oUaZ6O6351KKbWeBnOFKee60vLsUrg\\/GqeWfj4y7bxpWl7hkHE2qvuGHcl5pXCI6dwfjVNLPx+Zdt40La\\/w\\/eNsF50r7L0eyzfB\\/fS8PJpPW6+U39fwvrXryLdCGjekr6+vL1eor6+vX8QVpnNzNN6Nxp1V9TNlXimcbFUd1O+xUQe5wnRubtR4euvM7kNV\\/69tXrPHM2pfVdVB\\/R4b1f3uVEqp9XSQK0zn5mi8G407q+pnyrxSONmqOqjfY6O6b9iX4OZovBuNO6vqZ8q8UjjZ3POLR9Vp13u5wi3kvN1R9WfPq6pvo8ZJe27Vvpq97rR1wfK87TryrZDGDenr6+vLFerr6+vDuEIax3dV\\/NRAn5ZzR+sPrc80DhR1PnijBnOFNI7vqvipgT4t547WH1qfaRwo6nzwRnW\\/O5VSaj0N5gppHN9V8VMDfVrOHa0\\/tD7TOFDU+eCN6r5hh3FDY+vk8lNjfVrOHa0\\/tD7TOFDO+eDtSuUKe6+fzanNrpPy3JTxjBo\\/lqeDP\\/e0cbbryLdCGjekr6+vL1eor6+vD+MKafl9NB6Q1oeqPD4aJ0jbV+ncK6pvjTopr\\/Da+CZafVoeH40TpO2rqvHT+jOkb43qfncqpdR6Oimv8Nr4Jlp9Wh4fjROk7at07hXVt0Z137BH5ffReEBaH2jn\\/NI4ypR5pe\\/DeX1r1yyukHYe7uxxjrp+lJ+S3zd7XunzXbWfs+tscoX6+vr6coX6+vr6J3KFq+amXdv5syl5iyn5iSnzWvV86levb9RBrvByubzqp3NMveN56\\/qqOrT+0Po2qn76vFY9n\\/rV6xt15B6llFpMB7nCVXPTru382ZS8xZT8xJR5rXo+9avXN6r7hn3p3LRrO382JW8xJT8xZV6rnk\\/9+fXt6v6zyePj49PT0\\/39\\/bZtDw8PLy8vn\\/59\\/vz8fHNz80X\\/9vb27u7u8zpv+aPqj7p+lD+7DynjoT2Xtk9mj59WZ\\/j17TryrZDGDenr6+vLFerr6+vDuMKq81tX5bBSzsOt4shWPb+Ytu60PoPOQb5cLkP8a8uto42fViflXGMaV0jjZ1H7uVHd706llFpPg7nCqvNbV+WwUs7DreLIqnwaV0jjZ1H7uVHdN+yl3FN6bh1t\\/LQ6Keca07hCGj\\/L2c\\/touQV9vq0PETaec0p9WfvB1rOIC1\\/s+r3eNo6tuvIt0IaN6Svr68vV6ivr68P4wrTebr0XDla32bnA6bkYNLWd9U+g7jCdJ6ual4p+XGz5zt7nLTzfGn7Nr3Pr46nUd3vTqWUWk8n5RVG8EeF80rJj6PlA6bkYNLWd9U+g7jCdJ4uPVeO1reqc7FpOY+09V21z0SusNen8XpV4x9Vf9V+jrq+at1Tzu9O3+ebXKG+vr6+XKG+vr4+gCtMyXdL4fto\\/aTlD15bPmN6P0uub9RJeYXyfceeS+snLX\\/w2vIZ0\\/tZcn2jut+dSim1nk7KK5TvGzsv2nNpfGI6T5ey\\/6v2cwBXmJLvlsL30fpJyx+8tnzG9H6ef3273ssV0vLgen1aThytnzTejXZ91TrSeFJaXucmV6ivr68vV6ivr69\\/IleIyiM7cL11zqlDO+84PX+Qtu4RPGmjDnKFqDyyA9db55w6tPOO0\\/MHaesewZM26sg9Sim1mA5yhag8sgPXW+ecOrTzjtPzB2nrHsGTNqr7hh2WR3bseuucU4d23nF6\\/iBt3fk8abtmcYU0Pis9Vy6dp6vaDynrVfW7mD2e8n6268i3Qho3pK+vry9XqK+vrx\\/OFabzXym8ZEqeHY1\\/TO8bjSss+V00qpgrvFwuU+unjLO3\\/lvXz\\/Zp+YCj+obi4Ar3G+33OGS9GtX97lRKqfVUzBWm818pvGRKnh2Nf0zvG40rLPldNKr7hr2UE6TxXym8ZEqeHY1\\/TO8bjSs8\\/3fRrlnnIFdxfL0+bTyjxlk1nlHXV9VJOeeXxsNW7RPzCvX19fXlCvX19fXJXGEKV2Wu3DnjWZXHpO1D2nxR+7xRg7nCy+XSdX0Kb\\/jWeEb5VfzX7PHMXsf08a86X9Q+b9SRe5RSajEN5gpTuCpz5c4Zz6o8Jm0f0uaL2ueN6r5hX+KcWXPlzhnPqjwmbR\\/S5svZ5+3q\\/rPJ4+Pj09PT\\/f39tm0PDw+3t7d3d3ef+y8vL5\\/+3f78\\/Hxzc1PuvzXOXr+3\\/qjrZ\\/ehapyz12V2H1L2CW2\\/zZ7Xz367jnwrpHFD+vr6+nKF+vr6+jCukHYuKo0Xq8rXq7qelhdJ40Np\\/OCSfGijoHmFvX5KLtuo8adcT8uLHLXfaH2ePa\\/Z6z51vo3qfncqpdR6guYVpnB5VbxVyvW0vEgaH0rjB5fkQxvVfcOO5PVSctmq8vWqrqflRdL4UBo\\/uB4f2i5KXuFbdXrr08ZDyxmc3c9R189eR9q6pMyrKifxcP12HflWSOOG9PX19eUK9fX19Yu4wqq8s\\/Q8xJT8uxROjdbP9H1O4wcDuMLL5dLl085pHVUn5bk0Hi19HVPOI+6tM7ufJe+HRnW\\/O5VSaj0d5Aqr8s7S8xBT8u9SODVaP9P3OY0fDOAKq\\/LO0vMQU\\/LvUjg1Wj\\/T9zmNH0ziCqt4tHQOi1aHdn7u7PWijZO2T2i\\/l8P123XkWyGNG9LX19eXK9TX19cP5wppfGIVh0XLiUuZ16rc3Kr1S\\/jWRhVzhaPq0PIQaXxZSv\\/l5tauX8K3Nqr73amUUuupmCuk8YlVHBYtJy5lXqtyc6vWL+FbG9V9wx6VJ0jLoaPlKtL6Lze3dv3z+dZ2zcorfMun8UdykVm8YVXOIG1dZveZtk\\/MK9TX19eXK9TX19cnc4URPNF\\/8as4wWu7nraOVfuEtq9ScieHPLdRi5yD3OtXcYLXdj1tHav2CW1fVa1LyXo16sg9Sim1mBY5BzmFE7y262nrWLVPaPsqJXdyyHMb1X3DHsIT\\/Xe\\/ihO8tutp65hyrvGq63L+erWr+88mj4+PT09P9\\/f327Y9PDzc3t7e3d197r+8vHz6d\\/vz8\\/PNzc3h63vrVI2nar6jxjl7POl9Tul\\/1ThH7YfhfruOfCukcUP6+vr6coX6+vr6sLzCdE4q5ZzcVfPmaLmQtPxNWi5hRK5lowbnFaZzUinn5K6aN0fLhZy9P1P2FW1duuo36sg9Sim1mAbnFaZzUinn5K6aN0fLhaTlb9JyCSNyLRvVfcO+NCeVck7uqnlztFxIWv4mLZeQn2vZrll5hen5dCnjHJXvNtuv2ie056asO238h\\/vfriPfCmnckL6+vr5cob6+vj4srzAlF4\\/G\\/VXlwaVzbavm9NE4PlqeY0Be4eVyKbm+16dxf7PHP7sPtPGM6jNtXWY\\/d9R8Udc36sg9Sim1mAbnFabk4tG4v6o8uHSubdWcPhrHR8tzDMgrTMnFo3F\\/tPOCU7i2VXP6aBwfLc9xRl7he7nCqvNhe+uPqpPCwVXxZTTecLZP63NKndM4x3Yd+VZI44b09fX15Qr19fX1YXmFKJ4I6KfwXOm5fil1aJxsVc7g1Hk1anBe4Vs+jaui8XS0flaNc9T6ptSZ3Wfafi75XTfqyD1KKbWYBucVongioJ\\/Cc6Xn+qXUoXGyVTmDU+fVqO4b9ij+iOan8FzpuX4pdWicbFXO4Lx5tetsrrDXT+GzZvs0Lo+WD0ib7+x50fhN2v7c5Ar19fX15Qr19fX1A7lCGpdHG08Vr0ebF41PTHlu+roMqdOoYq6QxuXRxjPq+tl1Zs+LxiemPDd9XYbUadSRe5RSajEVc4U0Lo82nipejzYvGp+Y8tz0dRlSp1HdN+zIfMBVx1PF69HmReMTU56bvi7vr9OuWVwhjfOinQtcxYvRzr2dPX4al0r7XaT4h+fVriPfCmnckL6+vr5cob6+vn4IV5iSo0c7z5eWr0fj+1LOWaatYwqfOGRejTqJK3zLp3FVtPN8afl6NL4v5Zxl2jpW\\/X5L+t+o7nenUkqtp5O4wpQcPdp5vrR8PRrfl3LOMm0dU\\/jEIfNqVPcNOzLPjsYV0vLjaOc7p5wXnDJf2u+I0\\/92vZcr3Bbl\\/t4a56j5ptQZtV60cVbNN6XPKeduf9Fv15FvhTRuSF9fX1+uUF9fX7+IK4zOLztQB8VJnTBOeTTmfFOei+KIG3WQK4zOLztQp7d+Cv9FG096n2fPN+W5VfVf9RvV\\/e5USqn1dJArjM4vO1AHxUmdME55NOZ8U56L4ogb1X3DHp5fdqwOh5M6Z5zyaMz5pjyXwxG36+y8wirOi8Y59s53tp\\/Cx1XNN4Xvqxo\\/7fe4yRXq6+vryxXq6+vrA7jClJw7mk\\/LN7w2TpC2f2jrTuOIu8bTqMFc4eVyGXJ9bx0aRzZ7XjTOLp0TpO0f2rrTOOKu8TTqyD1KKbWYBnOFKTl3NJ+Wb3htnCBt\\/9DWncYRd42nUd037EhOisaRVfGJtHN+UzhB2v6hrTuNI24fT7vOzitMz7lL4Shn9yF9\\/Ck8YPp+Lr++XUe+FdK4IX19fX25Qn19fX0YV0g7x5aWy0bjwmg5fbTx0HhP2v6n8Z4grpB2ju2o5\\/b6KVzYqPnSnlu13zzP+lidqevVqCP3KKXUYirOK0w\\/zzedC6Pl9NHGQ+M9afufxnuCuELaOba0XDYaF0bL6aONh8Z70vY\\/jfes5AppXNiq5x1fW75eVf2Uea26\\/+UK9fX19eUK9fX19a+BK6ziDdM5tRTOsYqbS+9\\/VW4gbb9Nrd+ok7jCKt7wretH+VVc2KhxpnNz6f2fvY5VvxdUfmKjjtyjlFKL6SSusIo3TOfUUjjHKm4uvf9VuYG0\\/Ta1fqO6b9hL+Skav1bFhdE4xypuLr3\\/VbmBtP02r367zj4HeQvhv1YdP+0c3mubF+25tDrD+9auI98KadyQvr6+vlyhvr6+fhFXmMID0nIDq8afwlGm8IMp+ZIpv6+p42nUQa7wcrm86qfzTbRzlmnjpOX9jXru7HWZ3ef039fU8TTqyD1KKbWYDnKFKTwgLTewavwpHGUKP5iSL5ny+5o6nkZ137BH8YC03MCq8adwlCn8YEq+ZMrva9542jXrHORen5ZL2DvOqvo0Xo+27nEcHIRXreINh\\/ezXUe+FdK4IX19fX25Qn19fX25wqF1quYlB1fbf1q+Yco4aXmXr\\/qNWoQrTOHpeq+\\/Ng4uZV+lnO+cwhVOHX+jut+dSim1nhbhClN4OhqnZv9r+5aSD0jLwewaZ6O6b9iRXGEKT0fj1Ox\\/bd9S8gFpOZjt42zX2ecg0\\/i1UeOk5cHN9mm5e6OeW87BQfpG27eH67fryLdCGjekr6+vL1eor6+vD+MKo3PNBo6fNh5aP1ftTwRnd239bNRgrvAtPyLXbOD4aeOh9XPV\\/kRwdtfWz0YduUcppRbTYK4wOtds4Php46H1c9X+RHB219bPRnXfsC+aazZ2\\/LTx0Pq5an\\/4nN219bNd9HOQ03MMV83Roz23aj+krBdt\\/Kf9Ttt15FshjRvS19fXlyvU19fXh3GFKecFr\\/rcdI6sqv+03MZVzxMvyXNsVHFe4SifxtOlcHaj5pW+7rTcxlXPE5+9H171G9X97lRKqfVUnFd4bXltNM6OxpFV9Z+W27jqeeIleY6N6r5hL+XL0vPaaJwdjSOr6j8tt3HV88TPz3NsV\\/efTR4fH5+enu7v77dte3h4uL29vbu7+9x\\/eXn59L3g+fn55ubmi9f3+r3137qe5qf0Yfa6z65zbX2bPR5sn9t15FshjRvS19fXlyvU19fXD+EKaRwcjRej5dxV9Z9Wh8Z10nIJqzjErusbdRJXSOPg3qozajyjxlmVc1fVf1qd2f2p2m+0\\/k\\/tT6O6351KKbWeTuIKaRwcjRej5dxV9Z9Wh8Z10nIJqzjErusb1X3DjuS8aPlutDy7lP7T6tC4TlouYRWH2H59u+jnINPOY+31q3IJR9WpWhdaziCtPu252H3YriPfCmnckL6+vr5cob6+vj6MK6RxXjQeisZh0fLmUnjAdE6Qlps5tc+Ngp6DXFU\\/+rxX4LxS9knVvqoa\\/+z1Qu3zRh25RymlFhP0HGRabh1t\\/CnzStknNE6Wxiem5GAueA4yLbeONv6UeaXsExonS+MTU3Iw33MO8nvzCmfnElblG9Jy62bnHtLmm57Hl7IfaPWH\\/67bdeRbIY0b0tfX15cr1NfX1w\\/hCvX19fVL\\/EYdeRUqpdRiOvKtUCmlFpOvQqWU8lWolFK+CpVSavNVqJRSm69CpZTafBUqpdTmq1AppTZfhUoptfkqVEqpzVehUkptvgqVUmrzVaiUUpuvQvgdA9gAAAAQSURBVKWU2nwVKqXUtm3\\/C+qyhJnb6Fm7AAAAAElFTkSuQmCC'><\\/img>\"},\"nodeType\":\"DOM\",\"type\":\"node\",\"instanceArgs\":{\"namespace\":\"html\",\"tag\":\"div\"},\"children\":[]}]},{\"props\":{\"className\":\"interact-widget\"},\"nodeType\":\"DOM\",\"type\":\"node\",\"instanceArgs\":{\"namespace\":\"html\",\"tag\":\"div\"},\"children\":[{\"props\":{},\"nodeType\":\"Scope\",\"type\":\"node\",\"instanceArgs\":{\"imports\":{\"data\":[{\"name\":null,\"type\":\"js\",\"url\":\"\\/assetserver\\/dd22ed1bf1896c2748f3fe616ce0b838adc895c1-katex.min.js\"},{\"name\":null,\"type\":\"css\",\"url\":\"\\/assetserver\\/46517a424aa5e6cffc1360d7e0848b601c584ee3-katex.min.css\"}],\"type\":\"async_block\"},\"id\":\"12652180783574931407\",\"handlers\":{\"value\":[\"(function (txt){return this.k.render(txt,this.container)})\"]},\"systemjs_options\":null,\"mount_callbacks\":[\"function () {\\n    var handler = ((function (k){this.k=k; this.container=this.dom.querySelector(\\\"#container\\\"); return k.render(\\\"\\\\\\\\;\\\\\\\\;\\\",this.container)}));\\n    (WebIO.importBlock({\\\"data\\\":[{\\\"name\\\":null,\\\"type\\\":\\\"js\\\",\\\"url\\\":\\\"\\/assetserver\\/dd22ed1bf1896c2748f3fe616ce0b838adc895c1-katex.min.js\\\"},{\\\"name\\\":null,\\\"type\\\":\\\"css\\\",\\\"url\\\":\\\"\\/assetserver\\/46517a424aa5e6cffc1360d7e0848b601c584ee3-katex.min.css\\\"}],\\\"type\\\":\\\"async_block\\\"})).then((imports) => handler.apply(this, imports));\\n}\\n\"],\"observables\":{\"value\":{\"sync\":false,\"id\":\"16831990772896363628\",\"value\":\"\\\\;\\\\;\"}}},\"children\":[{\"props\":{\"id\":\"container\"},\"nodeType\":\"DOM\",\"type\":\"node\",\"instanceArgs\":{\"namespace\":\"html\",\"tag\":\"div\"},\"children\":[]}]}]},{\"props\":{\"style\":{\"display\":\"flex\",\"flex-direction\":\"column\"}},\"nodeType\":\"DOM\",\"type\":\"node\",\"instanceArgs\":{\"namespace\":\"html\",\"tag\":\"div\"},\"children\":[]}]}]},\n",
       "        window,\n",
       "    );\n",
       "    })()\n",
       "    </script>\n",
       "</div>\n"
      ],
      "text/plain": [
       "WebIO.Node{WebIO.DOM}(WebIO.DOM(:html, :div), Any[WebIO.Node{WebIO.DOM}(WebIO.DOM(:html, :div), Any[WebIO.Node{WebIO.DOM}(WebIO.DOM(:html, :div), Any[WebIO.Node{WebIO.DOM}(WebIO.DOM(:html, :div), Any[WebIO.Scope(WebIO.Node{WebIO.DOM}(WebIO.DOM(:html, :div), Any[WebIO.Node{WebIO.DOM}(WebIO.DOM(:html, :div), Any[WebIO.Node{WebIO.DOM}(WebIO.DOM(:html, :label), Any[\"time\"], Dict{Symbol, Any}(:className => \"interact \", :style => Dict{Any, Any}(:padding => \"5px 10px 0px 10px\")))], Dict{Symbol, Any}(:className => \"interact-flex-row-left\")), WebIO.Node{WebIO.DOM}(WebIO.DOM(:html, :div), Any[WebIO.Node{WebIO.DOM}(WebIO.DOM(:html, :input), Any[], Dict{Symbol, Any}(:max => 400, :min => 1, :attributes => Dict{Any, Any}(:type => \"range\", Symbol(\"data-bind\") => \"numericValue: index, valueUpdate: 'input', event: {change: function (){this.changes(this.changes()+1)}}\", \"orient\" => \"horizontal\"), :step => 1, :className => \"slider slider is-fullwidth\", :style => Dict{Any, Any}()))], Dict{Symbol, Any}(:className => \"interact-flex-row-center\")), WebIO.Node{WebIO.DOM}(WebIO.DOM(:html, :div), Any[WebIO.Node{WebIO.DOM}(WebIO.DOM(:html, :p), Any[], Dict{Symbol, Any}(:attributes => Dict(\"data-bind\" => \"text: formatted_val\")))], Dict{Symbol, Any}(:className => \"interact-flex-row-right\"))], Dict{Symbol, Any}(:className => \"interact-flex-row interact-widget\")), Dict{String, Tuple{Observables.AbstractObservable, Union{Nothing, Bool}}}(\"changes\" => (Observable(0), nothing), \"index\" => (Observable(1), nothing)), Set{String}(), nothing, WebIO.Asset[WebIO.Asset(\"js\", \"knockout\", \"/home/dushya/.julia/packages/Knockout/HReiN/src/../assets/knockout.js\"), WebIO.Asset(\"js\", \"knockout_punches\", \"/home/dushya/.julia/packages/Knockout/HReiN/src/../assets/knockout_punches.js\"), WebIO.Asset(\"js\", nothing, \"/home/dushya/.julia/packages/InteractBase/LJXv3/src/../assets/all.js\"), WebIO.Asset(\"css\", nothing, \"/home/dushya/.julia/packages/InteractBase/LJXv3/src/../assets/style.css\"), WebIO.Asset(\"css\", nothing, \"/home/dushya/.julia/packages/Interact/PENUy/src/../assets/bulma_confined.min.css\")], Dict{Any, Any}(\"changes\" => Any[WebIO.JSString(\"(function (val){return (val!=this.model[\\\"changes\\\"]()) ? (this.valueFromJulia[\\\"changes\\\"]=true, this.model[\\\"changes\\\"](val)) : undefined})\")], \"index\" => Any[WebIO.JSString(\"(function (val){return (val!=this.model[\\\"index\\\"]()) ? (this.valueFromJulia[\\\"index\\\"]=true, this.model[\\\"index\\\"](val)) : undefined})\")]), WebIO.ConnectionPool(Channel{Any}(32), Set{WebIO.AbstractConnection}(), Base.GenericCondition{ReentrantLock}(Base.IntrusiveLinkedList{Task}(Task (runnable) @0x00007f2a5086e590, Task (runnable) @0x00007f2a5086e590), ReentrantLock(nothing, 0x00000000, 0x00, Base.GenericCondition{Base.Threads.SpinLock}(Base.IntrusiveLinkedList{Task}(nothing, nothing), Base.Threads.SpinLock(0)), (8, 139820468481392, 139821435984576)))), WebIO.JSString[WebIO.JSString(\"function () {\\n    var handler = (function (ko, koPunches) {\\n    ko.punches.enableAll();\\n    ko.bindingHandlers.numericValue = {\\n        init: function(element, valueAccessor, allBindings, data, context) {\\n            var stringified = ko.observable(ko.unwrap(valueAccessor()));\\n            stringified.subscribe(function(value) {\\n                var val = parseFloat(value);\\n                if (!isNaN(val)) {\\n                    valueAccessor()(val);\\n                }\\n            });\\n            valueAccessor().subscribe(function(value) {\\n                var str = JSON.stringify(value);\\n                if ((str == \\\"0\\\") && ([\\\"-0\\\", \\\"-0.\\\"].indexOf(stringified()) >= 0))\\n                     return;\\n                 if ([\\\"null\\\", \\\"\\\"].indexOf(str) >= 0)\\n                     return;\\n                stringified(str);\\n            });\\n            ko.applyBindingsToNode(\\n                element,\\n                {\\n                    value: stringified,\\n                    valueUpdate: allBindings.get('valueUpdate'),\\n                },\\n                context,\\n            );\\n        }\\n    };\\n    var json_data = {\\\"formatted_vals\\\":[\\\"1\\\",\\\"2\\\",\\\"3\\\",\\\"4\\\",\\\"5\\\",\\\"6\\\",\\\"7\\\",\\\"8\\\",\\\"9\\\",\\\"10\\\",\\\"11\\\",\\\"12\\\",\\\"13\\\",\\\"14\\\",\\\"15\\\",\\\"16\\\",\\\"17\\\",\\\"18\\\",\\\"19\\\",\\\"20\\\",\\\"21\\\",\\\"22\\\",\\\"23\\\",\\\"24\\\",\\\"25\\\",\\\"26\\\",\\\"27\\\",\\\"28\\\",\\\"29\\\",\\\"30\\\",\\\"31\\\",\\\"32\\\",\\\"33\\\",\\\"34\\\",\\\"35\\\",\\\"36\\\",\\\"37\\\",\\\"38\\\",\\\"39\\\",\\\"40\\\",\\\"41\\\",\\\"42\\\",\\\"43\\\",\\\"44\\\",\\\"45\\\",\\\"46\\\",\\\"47\\\",\\\"48\\\",\\\"49\\\",\\\"50\\\",\\\"51\\\",\\\"52\\\",\\\"53\\\",\\\"54\\\",\\\"55\\\",\\\"56\\\",\\\"57\\\",\\\"58\\\",\\\"59\\\",\\\"60\\\",\\\"61\\\",\\\"62\\\",\\\"63\\\",\\\"64\\\",\\\"65\\\",\\\"66\\\",\\\"67\\\",\\\"68\\\",\\\"69\\\",\\\"70\\\",\\\"71\\\",\\\"72\\\",\\\"73\\\",\\\"74\\\",\\\"75\\\",\\\"76\\\",\\\"77\\\",\\\"78\\\",\\\"79\\\",\\\"80\\\",\\\"81\\\",\\\"82\\\",\\\"83\\\",\\\"84\\\",\\\"85\\\",\\\"86\\\",\\\"87\\\",\\\"88\\\",\\\"89\\\",\\\"90\\\",\\\"91\\\",\\\"92\\\",\\\"93\\\",\\\"94\\\",\\\"95\\\",\\\"96\\\",\\\"97\\\",\\\"98\\\",\\\"99\\\",\\\"100\\\",\\\"101\\\",\\\"102\\\",\\\"103\\\",\\\"104\\\",\\\"105\\\",\\\"106\\\",\\\"107\\\",\\\"108\\\",\\\"109\\\",\\\"110\\\",\\\"111\\\",\\\"112\\\",\\\"113\\\",\\\"114\\\",\\\"115\\\",\\\"116\\\",\\\"117\\\",\\\"118\\\",\\\"119\\\",\\\"120\\\",\\\"121\\\",\\\"122\\\",\\\"123\\\",\\\"124\\\",\\\"125\\\",\\\"126\\\",\\\"127\\\",\\\"128\\\",\\\"129\\\",\\\"130\\\",\\\"131\\\",\\\"132\\\",\\\"133\\\",\\\"134\\\",\\\"135\\\",\\\"136\\\",\\\"137\\\",\\\"138\\\",\\\"139\\\",\\\"140\\\",\\\"141\\\",\\\"142\\\",\\\"143\\\",\\\"144\\\",\\\"145\\\",\\\"146\\\",\\\"147\\\",\\\"148\\\",\\\"149\\\",\\\"150\\\",\\\"151\\\",\\\"152\\\",\\\"153\\\",\\\"154\\\",\\\"155\\\",\\\"156\\\",\\\"157\\\",\\\"158\\\",\\\"159\\\",\\\"160\\\",\\\"161\\\",\\\"162\\\",\\\"163\\\",\\\"164\\\",\\\"165\\\",\\\"166\\\",\\\"167\\\",\\\"168\\\",\\\"169\\\",\\\"170\\\",\\\"171\\\",\\\"172\\\",\\\"173\\\",\\\"174\\\",\\\"175\\\",\\\"176\\\",\\\"177\\\",\\\"178\\\",\\\"179\\\",\\\"180\\\",\\\"181\\\",\\\"182\\\",\\\"183\\\",\\\"184\\\",\\\"185\\\",\\\"186\\\",\\\"187\\\",\\\"188\\\",\\\"189\\\",\\\"190\\\",\\\"191\\\",\\\"192\\\",\\\"193\\\",\\\"194\\\",\\\"195\\\",\\\"196\\\",\\\"197\\\",\\\"198\\\",\\\"199\\\",\\\"200\\\",\\\"201\\\",\\\"202\\\",\\\"203\\\",\\\"204\\\",\\\"205\\\",\\\"206\\\",\\\"207\\\",\\\"208\\\",\\\"209\\\",\\\"210\\\",\\\"211\\\",\\\"212\\\",\\\"213\\\",\\\"214\\\",\\\"215\\\",\\\"216\\\",\\\"217\\\",\\\"218\\\",\\\"219\\\",\\\"220\\\",\\\"221\\\",\\\"222\\\",\\\"223\\\",\\\"224\\\",\\\"225\\\",\\\"226\\\",\\\"227\\\",\\\"228\\\",\\\"229\\\",\\\"230\\\",\\\"231\\\",\\\"232\\\",\\\"233\\\",\\\"234\\\",\\\"235\\\",\\\"236\\\",\\\"237\\\",\\\"238\\\",\\\"239\\\",\\\"240\\\",\\\"241\\\",\\\"242\\\",\\\"243\\\",\\\"244\\\",\\\"245\\\",\\\"246\\\",\\\"247\\\",\\\"248\\\",\\\"249\\\",\\\"250\\\",\\\"251\\\",\\\"252\\\",\\\"253\\\",\\\"254\\\",\\\"255\\\",\\\"256\\\",\\\"257\\\",\\\"258\\\",\\\"259\\\",\\\"260\\\",\\\"261\\\",\\\"262\\\",\\\"263\\\",\\\"264\\\",\\\"265\\\",\\\"266\\\",\\\"267\\\",\\\"268\\\",\\\"269\\\",\\\"270\\\",\\\"271\\\",\\\"272\\\",\\\"273\\\",\\\"274\\\",\\\"275\\\",\\\"276\\\",\\\"277\\\",\\\"278\\\",\\\"279\\\",\\\"280\\\",\\\"281\\\",\\\"282\\\",\\\"283\\\",\\\"284\\\",\\\"285\\\",\\\"286\\\",\\\"287\\\",\\\"288\\\",\\\"289\\\",\\\"290\\\",\\\"291\\\",\\\"292\\\",\\\"293\\\",\\\"294\\\",\\\"295\\\",\\\"296\\\",\\\"297\\\",\\\"298\\\",\\\"299\\\",\\\"300\\\",\\\"301\\\",\\\"302\\\",\\\"303\\\",\\\"304\\\",\\\"305\\\",\\\"306\\\",\\\"307\\\",\\\"308\\\",\\\"309\\\",\\\"310\\\",\\\"311\\\",\\\"312\\\",\\\"313\\\",\\\"314\\\",\\\"315\\\",\\\"316\\\",\\\"317\\\",\\\"318\\\",\\\"319\\\",\\\"320\\\",\\\"321\\\",\\\"322\\\",\\\"323\\\",\\\"324\\\",\\\"325\\\",\\\"326\\\",\\\"327\\\",\\\"328\\\",\\\"329\\\",\\\"330\\\",\\\"331\\\",\\\"332\\\",\\\"333\\\",\\\"334\\\",\\\"335\\\",\\\"336\\\",\\\"337\\\",\\\"338\\\",\\\"339\\\",\\\"340\\\",\\\"341\\\",\\\"342\\\",\\\"343\\\",\\\"344\\\",\\\"345\\\",\\\"346\\\",\\\"347\\\",\\\"348\\\",\\\"349\\\",\\\"350\\\",\\\"351\\\",\\\"352\\\",\\\"353\\\",\\\"354\\\",\\\"355\\\",\\\"356\\\",\\\"357\\\",\\\"358\\\",\\\"359\\\",\\\"360\\\",\\\"361\\\",\\\"362\\\",\\\"363\\\",\\\"364\\\",\\\"365\\\",\\\"366\\\",\\\"367\\\",\\\"368\\\",\\\"369\\\",\\\"370\\\",\\\"371\\\",\\\"372\\\",\\\"373\\\",\\\"374\\\",\\\"375\\\",\\\"376\\\",\\\"377\\\",\\\"378\\\",\\\"379\\\",\\\"380\\\",\\\"381\\\",\\\"382\\\",\\\"383\\\",\\\"384\\\",\\\"385\\\",\\\"386\\\",\\\"387\\\",\\\"388\\\",\\\"389\\\",\\\"390\\\",\\\"391\\\",\\\"392\\\",\\\"393\\\",\\\"394\\\",\\\"395\\\",\\\"396\\\",\\\"397\\\",\\\"398\\\",\\\"399\\\",\\\"400\\\"],\\\"changes\\\":WebIO.getval({\\\"name\\\":\\\"changes\\\",\\\"scope\\\":\\\"1355616830622239761\\\",\\\"id\\\":\\\"7892730434087332529\\\",\\\"type\\\":\\\"observable\\\"}),\\\"index\\\":WebIO.getval({\\\"name\\\":\\\"index\\\",\\\"scope\\\":\\\"1355616830622239761\\\",\\\"id\\\":\\\"4422255415440268717\\\",\\\"type\\\":\\\"observable\\\"})};\\n    var self = this;\\n    function AppViewModel() {\\n        for (var key in json_data) {\\n            var el = json_data[key];\\n            this[key] = Array.isArray(el) ? ko.observableArray(el) : ko.observable(el);\\n        }\\n        \\n        [this[\\\"formatted_val\\\"]=ko.computed(    function(){\\n        return this.formatted_vals()[parseInt(this.index())-(1)];\\n    }\\n,this)]\\n        [this[\\\"changes\\\"].subscribe((function (val){!(this.valueFromJulia[\\\"changes\\\"]) ? (WebIO.setval({\\\"name\\\":\\\"changes\\\",\\\"scope\\\":\\\"1355616830622239761\\\",\\\"id\\\":\\\"7892730434087332529\\\",\\\"type\\\":\\\"observable\\\"},val)) : undefined; return this.valueFromJulia[\\\"changes\\\"]=false}),self),this[\\\"index\\\"].subscribe((function (val){!(this.valueFromJulia[\\\"index\\\"]) ? (WebIO.setval({\\\"name\\\":\\\"index\\\",\\\"scope\\\":\\\"1355616830622239761\\\",\\\"id\\\":\\\"4422255415440268717\\\",\\\"type\\\":\\\"observable\\\"},val)) : undefined; return this.valueFromJulia[\\\"index\\\"]=false}),self)]\\n        \\n    }\\n    self.model = new AppViewModel();\\n    self.valueFromJulia = {};\\n    for (var key in json_data) {\\n        self.valueFromJulia[key] = false;\\n    }\\n    ko.applyBindings(self.model, self.dom);\\n}\\n);\\n    (WebIO.importBlock({\\\"data\\\":[{\\\"name\\\":\\\"knockout\\\",\\\"type\\\":\\\"js\\\",\\\"url\\\":\\\"/assetserver/727383f2a47bd31570b7da84eee7b022dd6d7c78-knockout.js\\\"},{\\\"name\\\":\\\"knockout_punches\\\",\\\"type\\\":\\\"js\\\",\\\"url\\\":\\\"/assetserver/382b41b3b1bd9f26f75861d360bad7f8beea211f-knockout_punches.js\\\"}],\\\"type\\\":\\\"async_block\\\"})).then((imports) => handler.apply(this, imports));\\n}\\n\")])], Dict{Symbol, Any}(:className => \"field interact-widget\")), WebIO.Node{WebIO.DOM}(WebIO.DOM(:html, :div), Any[WebIO.Scope(WebIO.Node{WebIO.DOM}(WebIO.DOM(:html, :div), Any[WebIO.Node{WebIO.DOM}(WebIO.DOM(:html, :div), Any[WebIO.Node{WebIO.DOM}(WebIO.DOM(:html, :label), Any[\"scale\"], Dict{Symbol, Any}(:className => \"interact \", :style => Dict{Any, Any}(:padding => \"5px 10px 0px 10px\")))], Dict{Symbol, Any}(:className => \"interact-flex-row-left\")), WebIO.Node{WebIO.DOM}(WebIO.DOM(:html, :div), Any[WebIO.Node{WebIO.DOM}(WebIO.DOM(:html, :input), Any[], Dict{Symbol, Any}(:max => 20, :min => 1, :attributes => Dict{Any, Any}(:type => \"range\", Symbol(\"data-bind\") => \"numericValue: index, valueUpdate: 'input', event: {change: function (){this.changes(this.changes()+1)}}\", \"orient\" => \"horizontal\"), :step => 1, :className => \"slider slider is-fullwidth\", :style => Dict{Any, Any}()))], Dict{Symbol, Any}(:className => \"interact-flex-row-center\")), WebIO.Node{WebIO.DOM}(WebIO.DOM(:html, :div), Any[WebIO.Node{WebIO.DOM}(WebIO.DOM(:html, :p), Any[], Dict{Symbol, Any}(:attributes => Dict(\"data-bind\" => \"text: formatted_val\")))], Dict{Symbol, Any}(:className => \"interact-flex-row-right\"))], Dict{Symbol, Any}(:className => \"interact-flex-row interact-widget\")), Dict{String, Tuple{Observables.AbstractObservable, Union{Nothing, Bool}}}(\"changes\" => (Observable(0), nothing), \"index\" => (Observable{Any}(10), nothing)), Set{String}(), nothing, WebIO.Asset[WebIO.Asset(\"js\", \"knockout\", \"/home/dushya/.julia/packages/Knockout/HReiN/src/../assets/knockout.js\"), WebIO.Asset(\"js\", \"knockout_punches\", \"/home/dushya/.julia/packages/Knockout/HReiN/src/../assets/knockout_punches.js\"), WebIO.Asset(\"js\", nothing, \"/home/dushya/.julia/packages/InteractBase/LJXv3/src/../assets/all.js\"), WebIO.Asset(\"css\", nothing, \"/home/dushya/.julia/packages/InteractBase/LJXv3/src/../assets/style.css\"), WebIO.Asset(\"css\", nothing, \"/home/dushya/.julia/packages/Interact/PENUy/src/../assets/bulma_confined.min.css\")], Dict{Any, Any}(\"changes\" => Any[WebIO.JSString(\"(function (val){return (val!=this.model[\\\"changes\\\"]()) ? (this.valueFromJulia[\\\"changes\\\"]=true, this.model[\\\"changes\\\"](val)) : undefined})\")], \"index\" => Any[WebIO.JSString(\"(function (val){return (val!=this.model[\\\"index\\\"]()) ? (this.valueFromJulia[\\\"index\\\"]=true, this.model[\\\"index\\\"](val)) : undefined})\")]), WebIO.ConnectionPool(Channel{Any}(32), Set{WebIO.AbstractConnection}(), Base.GenericCondition{ReentrantLock}(Base.IntrusiveLinkedList{Task}(Task (runnable) @0x00007f2a50951460, Task (runnable) @0x00007f2a50951460), ReentrantLock(nothing, 0x00000000, 0x00, Base.GenericCondition{Base.Threads.SpinLock}(Base.IntrusiveLinkedList{Task}(nothing, nothing), Base.Threads.SpinLock(0)), (8, 139818988857584, 4611686018427387904)))), WebIO.JSString[WebIO.JSString(\"function () {\\n    var handler = (function (ko, koPunches) {\\n    ko.punches.enableAll();\\n    ko.bindingHandlers.numericValue = {\\n        init: function(element, valueAccessor, allBindings, data, context) {\\n            var stringified = ko.observable(ko.unwrap(valueAccessor()));\\n            stringified.subscribe(function(value) {\\n                var val = parseFloat(value);\\n                if (!isNaN(val)) {\\n                    valueAccessor()(val);\\n                }\\n            });\\n            valueAccessor().subscribe(function(value) {\\n                var str = JSON.stringify(value);\\n                if ((str == \\\"0\\\") && ([\\\"-0\\\", \\\"-0.\\\"].indexOf(stringified()) >= 0))\\n                     return;\\n                 if ([\\\"null\\\", \\\"\\\"].indexOf(str) >= 0)\\n                     return;\\n                stringified(str);\\n            });\\n            ko.applyBindingsToNode(\\n                element,\\n                {\\n                    value: stringified,\\n                    valueUpdate: allBindings.get('valueUpdate'),\\n                },\\n                context,\\n            );\\n        }\\n    };\\n    var json_data = {\\\"formatted_vals\\\":[\\\"0.1\\\",\\\"0.2\\\",\\\"0.3\\\",\\\"0.4\\\",\\\"0.5\\\",\\\"0.6\\\",\\\"0.7\\\",\\\"0.8\\\",\\\"0.9\\\",\\\"1.0\\\",\\\"1.1\\\",\\\"1.2\\\",\\\"1.3\\\",\\\"1.4\\\",\\\"1.5\\\",\\\"1.6\\\",\\\"1.7\\\",\\\"1.8\\\",\\\"1.9\\\",\\\"2.0\\\"],\\\"changes\\\":WebIO.getval({\\\"name\\\":\\\"changes\\\",\\\"scope\\\":\\\"2660991934482658336\\\",\\\"id\\\":\\\"16290136940493189279\\\",\\\"type\\\":\\\"observable\\\"}),\\\"index\\\":WebIO.getval({\\\"name\\\":\\\"index\\\",\\\"scope\\\":\\\"2660991934482658336\\\",\\\"id\\\":\\\"17527393300366491584\\\",\\\"type\\\":\\\"observable\\\"})};\\n    var self = this;\\n    function AppViewModel() {\\n        for (var key in json_data) {\\n            var el = json_data[key];\\n            this[key] = Array.isArray(el) ? ko.observableArray(el) : ko.observable(el);\\n        }\\n        \\n        [this[\\\"formatted_val\\\"]=ko.computed(    function(){\\n        return this.formatted_vals()[parseInt(this.index())-(1)];\\n    }\\n,this)]\\n        [this[\\\"changes\\\"].subscribe((function (val){!(this.valueFromJulia[\\\"changes\\\"]) ? (WebIO.setval({\\\"name\\\":\\\"changes\\\",\\\"scope\\\":\\\"2660991934482658336\\\",\\\"id\\\":\\\"16290136940493189279\\\",\\\"type\\\":\\\"observable\\\"},val)) : undefined; return this.valueFromJulia[\\\"changes\\\"]=false}),self),this[\\\"index\\\"].subscribe((function (val){!(this.valueFromJulia[\\\"index\\\"]) ? (WebIO.setval({\\\"name\\\":\\\"index\\\",\\\"scope\\\":\\\"2660991934482658336\\\",\\\"id\\\":\\\"17527393300366491584\\\",\\\"type\\\":\\\"observable\\\"},val)) : undefined; return this.valueFromJulia[\\\"index\\\"]=false}),self)]\\n        \\n    }\\n    self.model = new AppViewModel();\\n    self.valueFromJulia = {};\\n    for (var key in json_data) {\\n        self.valueFromJulia[key] = false;\\n    }\\n    ko.applyBindings(self.model, self.dom);\\n}\\n);\\n    (WebIO.importBlock({\\\"data\\\":[{\\\"name\\\":\\\"knockout\\\",\\\"type\\\":\\\"js\\\",\\\"url\\\":\\\"/assetserver/727383f2a47bd31570b7da84eee7b022dd6d7c78-knockout.js\\\"},{\\\"name\\\":\\\"knockout_punches\\\",\\\"type\\\":\\\"js\\\",\\\"url\\\":\\\"/assetserver/382b41b3b1bd9f26f75861d360bad7f8beea211f-knockout_punches.js\\\"}],\\\"type\\\":\\\"async_block\\\"})).then((imports) => handler.apply(this, imports));\\n}\\n\")])], Dict{Symbol, Any}(:className => \"field interact-widget\")), WebIO.Node{WebIO.DOM}(WebIO.DOM(:html, :div), Any[], Dict{Symbol, Any}(:style => Dict(\"display\" => \"flex\", \"flex-direction\" => \"column\"))), WebIO.Node{WebIO.DOM}(WebIO.DOM(:html, :div), Any[WebIO.Node{WebIO.DOM}(WebIO.DOM(:html, :div), Any[WebIO.Scope(WebIO.Node{WebIO.DOM}(WebIO.DOM(:html, :div), Any[WebIO.Node{WebIO.DOM}(WebIO.DOM(:html, :div), Any[WebIO.Node{WebIO.DOM}(WebIO.DOM(:html, :label), Any[\"prob\"], Dict{Symbol, Any}(:className => \"interact \", :style => Dict{Any, Any}(:padding => \"5px 10px 0px 10px\")))], Dict{Symbol, Any}(:className => \"interact-flex-row-left\")), WebIO.Node{WebIO.DOM}(WebIO.DOM(:html, :div), Any[WebIO.Node{WebIO.DOM}(WebIO.DOM(:html, :input), Any[], Dict{Symbol, Any}(:max => 101, :min => 1, :attributes => Dict{Any, Any}(:type => \"range\", Symbol(\"data-bind\") => \"numericValue: index, valueUpdate: 'input', event: {change: function (){this.changes(this.changes()+1)}}\", \"orient\" => \"horizontal\"), :step => 1, :className => \"slider slider is-fullwidth\", :style => Dict{Any, Any}()))], Dict{Symbol, Any}(:className => \"interact-flex-row-center\")), WebIO.Node{WebIO.DOM}(WebIO.DOM(:html, :div), Any[WebIO.Node{WebIO.DOM}(WebIO.DOM(:html, :p), Any[], Dict{Symbol, Any}(:attributes => Dict(\"data-bind\" => \"text: formatted_val\")))], Dict{Symbol, Any}(:className => \"interact-flex-row-right\"))], Dict{Symbol, Any}(:className => \"interact-flex-row interact-widget\")), Dict{String, Tuple{Observables.AbstractObservable, Union{Nothing, Bool}}}(\"changes\" => (Observable(0), nothing), \"index\" => (Observable{Any}(51), nothing)), Set{String}(), nothing, WebIO.Asset[WebIO.Asset(\"js\", \"knockout\", \"/home/dushya/.julia/packages/Knockout/HReiN/src/../assets/knockout.js\"), WebIO.Asset(\"js\", \"knockout_punches\", \"/home/dushya/.julia/packages/Knockout/HReiN/src/../assets/knockout_punches.js\"), WebIO.Asset(\"js\", nothing, \"/home/dushya/.julia/packages/InteractBase/LJXv3/src/../assets/all.js\"), WebIO.Asset(\"css\", nothing, \"/home/dushya/.julia/packages/InteractBase/LJXv3/src/../assets/style.css\"), WebIO.Asset(\"css\", nothing, \"/home/dushya/.julia/packages/Interact/PENUy/src/../assets/bulma_confined.min.css\")], Dict{Any, Any}(\"changes\" => Any[WebIO.JSString(\"(function (val){return (val!=this.model[\\\"changes\\\"]()) ? (this.valueFromJulia[\\\"changes\\\"]=true, this.model[\\\"changes\\\"](val)) : undefined})\")], \"index\" => Any[WebIO.JSString(\"(function (val){return (val!=this.model[\\\"index\\\"]()) ? (this.valueFromJulia[\\\"index\\\"]=true, this.model[\\\"index\\\"](val)) : undefined})\")]), WebIO.ConnectionPool(Channel{Any}(32), Set{WebIO.AbstractConnection}(), Base.GenericCondition{ReentrantLock}(Base.IntrusiveLinkedList{Task}(Task (runnable) @0x00007f2a50976a40, Task (runnable) @0x00007f2a50976a40), ReentrantLock(nothing, 0x00000000, 0x00, Base.GenericCondition{Base.Threads.SpinLock}(Base.IntrusiveLinkedList{Task}(nothing, nothing), Base.Threads.SpinLock(0)), (8, 139818751708560, 139818997924416)))), WebIO.JSString[WebIO.JSString(\"function () {\\n    var handler = (function (ko, koPunches) {\\n    ko.punches.enableAll();\\n    ko.bindingHandlers.numericValue = {\\n        init: function(element, valueAccessor, allBindings, data, context) {\\n            var stringified = ko.observable(ko.unwrap(valueAccessor()));\\n            stringified.subscribe(function(value) {\\n                var val = parseFloat(value);\\n                if (!isNaN(val)) {\\n                    valueAccessor()(val);\\n                }\\n            });\\n            valueAccessor().subscribe(function(value) {\\n                var str = JSON.stringify(value);\\n                if ((str == \\\"0\\\") && ([\\\"-0\\\", \\\"-0.\\\"].indexOf(stringified()) >= 0))\\n                     return;\\n                 if ([\\\"null\\\", \\\"\\\"].indexOf(str) >= 0)\\n                     return;\\n                stringified(str);\\n            });\\n            ko.applyBindingsToNode(\\n                element,\\n                {\\n                    value: stringified,\\n                    valueUpdate: allBindings.get('valueUpdate'),\\n                },\\n                context,\\n            );\\n        }\\n    };\\n    var json_data = {\\\"formatted_vals\\\":[\\\"0.0\\\",\\\"0.01\\\",\\\"0.02\\\",\\\"0.03\\\",\\\"0.04\\\",\\\"0.05\\\",\\\"0.06\\\",\\\"0.07\\\",\\\"0.08\\\",\\\"0.09\\\",\\\"0.1\\\",\\\"0.11\\\",\\\"0.12\\\",\\\"0.13\\\",\\\"0.14\\\",\\\"0.15\\\",\\\"0.16\\\",\\\"0.17\\\",\\\"0.18\\\",\\\"0.19\\\",\\\"0.2\\\",\\\"0.21\\\",\\\"0.22\\\",\\\"0.23\\\",\\\"0.24\\\",\\\"0.25\\\",\\\"0.26\\\",\\\"0.27\\\",\\\"0.28\\\",\\\"0.29\\\",\\\"0.3\\\",\\\"0.31\\\",\\\"0.32\\\",\\\"0.33\\\",\\\"0.34\\\",\\\"0.35\\\",\\\"0.36\\\",\\\"0.37\\\",\\\"0.38\\\",\\\"0.39\\\",\\\"0.4\\\",\\\"0.41\\\",\\\"0.42\\\",\\\"0.43\\\",\\\"0.44\\\",\\\"0.45\\\",\\\"0.46\\\",\\\"0.47\\\",\\\"0.48\\\",\\\"0.49\\\",\\\"0.5\\\",\\\"0.51\\\",\\\"0.52\\\",\\\"0.53\\\",\\\"0.54\\\",\\\"0.55\\\",\\\"0.56\\\",\\\"0.57\\\",\\\"0.58\\\",\\\"0.59\\\",\\\"0.6\\\",\\\"0.61\\\",\\\"0.62\\\",\\\"0.63\\\",\\\"0.64\\\",\\\"0.65\\\",\\\"0.66\\\",\\\"0.67\\\",\\\"0.68\\\",\\\"0.69\\\",\\\"0.7\\\",\\\"0.71\\\",\\\"0.72\\\",\\\"0.73\\\",\\\"0.74\\\",\\\"0.75\\\",\\\"0.76\\\",\\\"0.77\\\",\\\"0.78\\\",\\\"0.79\\\",\\\"0.8\\\",\\\"0.81\\\",\\\"0.82\\\",\\\"0.83\\\",\\\"0.84\\\",\\\"0.85\\\",\\\"0.86\\\",\\\"0.87\\\",\\\"0.88\\\",\\\"0.89\\\",\\\"0.9\\\",\\\"0.91\\\",\\\"0.92\\\",\\\"0.93\\\",\\\"0.94\\\",\\\"0.95\\\",\\\"0.96\\\",\\\"0.97\\\",\\\"0.98\\\",\\\"0.99\\\",\\\"1.0\\\"],\\\"changes\\\":WebIO.getval({\\\"name\\\":\\\"changes\\\",\\\"scope\\\":\\\"13582576326374001749\\\",\\\"id\\\":\\\"4223021881162598133\\\",\\\"type\\\":\\\"observable\\\"}),\\\"index\\\":WebIO.getval({\\\"name\\\":\\\"index\\\",\\\"scope\\\":\\\"13582576326374001749\\\",\\\"id\\\":\\\"16721405116666373485\\\",\\\"type\\\":\\\"observable\\\"})};\\n    var self = this;\\n    function AppViewModel() {\\n        for (var key in json_data) {\\n            var el = json_data[key];\\n            this[key] = Array.isArray(el) ? ko.observableArray(el) : ko.observable(el);\\n        }\\n        \\n        [this[\\\"formatted_val\\\"]=ko.computed(    function(){\\n        return this.formatted_vals()[parseInt(this.index())-(1)];\\n    }\\n,this)]\\n        [this[\\\"changes\\\"].subscribe((function (val){!(this.valueFromJulia[\\\"changes\\\"]) ? (WebIO.setval({\\\"name\\\":\\\"changes\\\",\\\"scope\\\":\\\"13582576326374001749\\\",\\\"id\\\":\\\"4223021881162598133\\\",\\\"type\\\":\\\"observable\\\"},val)) : undefined; return this.valueFromJulia[\\\"changes\\\"]=false}),self),this[\\\"index\\\"].subscribe((function (val){!(this.valueFromJulia[\\\"index\\\"]) ? (WebIO.setval({\\\"name\\\":\\\"index\\\",\\\"scope\\\":\\\"13582576326374001749\\\",\\\"id\\\":\\\"16721405116666373485\\\",\\\"type\\\":\\\"observable\\\"},val)) : undefined; return this.valueFromJulia[\\\"index\\\"]=false}),self)]\\n        \\n    }\\n    self.model = new AppViewModel();\\n    self.valueFromJulia = {};\\n    for (var key in json_data) {\\n        self.valueFromJulia[key] = false;\\n    }\\n    ko.applyBindings(self.model, self.dom);\\n}\\n);\\n    (WebIO.importBlock({\\\"data\\\":[{\\\"name\\\":\\\"knockout\\\",\\\"type\\\":\\\"js\\\",\\\"url\\\":\\\"/assetserver/727383f2a47bd31570b7da84eee7b022dd6d7c78-knockout.js\\\"},{\\\"name\\\":\\\"knockout_punches\\\",\\\"type\\\":\\\"js\\\",\\\"url\\\":\\\"/assetserver/382b41b3b1bd9f26f75861d360bad7f8beea211f-knockout_punches.js\\\"}],\\\"type\\\":\\\"async_block\\\"})).then((imports) => handler.apply(this, imports));\\n}\\n\")])], Dict{Symbol, Any}(:className => \"field interact-widget\"))], Dict{Symbol, Any}(:style => Dict(\"display\" => \"flex\", \"flex-direction\" => \"column\"))), WebIO.Node{WebIO.DOM}(WebIO.DOM(:html, :div), Any[WebIO.Node{WebIO.DOM}(WebIO.DOM(:html, :div), Any[WebIO.Scope(WebIO.Node{WebIO.DOM}(WebIO.DOM(:html, :div), Any[], Dict{Symbol, Any}(:id => \"container\")), Dict{String, Tuple{Observables.AbstractObservable, Union{Nothing, Bool}}}(\"value\" => (Observable(\"\\\\;\\\\;\"), nothing)), Set{String}(), nothing, WebIO.Asset[WebIO.Asset(\"js\", nothing, \"/home/dushya/.julia/packages/InteractBase/LJXv3/src/../assets/katex.min.js\"), WebIO.Asset(\"css\", nothing, \"/home/dushya/.julia/packages/InteractBase/LJXv3/src/../assets/katex.min.css\")], Dict{Any, Any}(\"value\" => Any[WebIO.JSString(\"(function (txt){return this.k.render(txt,this.container)})\")]), WebIO.ConnectionPool(Channel{Any}(32), Set{WebIO.AbstractConnection}(), Base.GenericCondition{ReentrantLock}(Base.IntrusiveLinkedList{Task}(Task (runnable) @0x00007f2a3c34c1a0, Task (runnable) @0x00007f2a3c34c1a0), ReentrantLock(nothing, 0x00000000, 0x00, Base.GenericCondition{Base.Threads.SpinLock}(Base.IntrusiveLinkedList{Task}(nothing, nothing), Base.Threads.SpinLock(0)), (0, 139820456097200, 4611686018427387904)))), WebIO.JSString[WebIO.JSString(\"function () {\\n    var handler = ((function (k){this.k=k; this.container=this.dom.querySelector(\\\"#container\\\"); return k.render(\\\"\\\\\\\\;\\\\\\\\;\\\",this.container)}));\\n    (WebIO.importBlock({\\\"data\\\":[{\\\"name\\\":null,\\\"type\\\":\\\"js\\\",\\\"url\\\":\\\"/assetserver/dd22ed1bf1896c2748f3fe616ce0b838adc895c1-katex.min.js\\\"},{\\\"name\\\":null,\\\"type\\\":\\\"css\\\",\\\"url\\\":\\\"/assetserver/46517a424aa5e6cffc1360d7e0848b601c584ee3-katex.min.css\\\"}],\\\"type\\\":\\\"async_block\\\"})).then((imports) => handler.apply(this, imports));\\n}\\n\")])], Dict{Symbol, Any}(:className => \"interact-widget\")), WebIO.Node{WebIO.DOM}(WebIO.DOM(:html, :div), Any[WebIO.Scope(WebIO.Node{WebIO.DOM}(WebIO.DOM(:html, :button), Any[\"run\"], Dict{Symbol, Any}(:attributes => Dict{Any, Any}(\"data-bind\" => \"click: function (){this.clicks(this.clicks()+1)}, css: {'is-loading' : loading}\"), :className => \"is-medium button is-primary\", :style => Dict{String, Any}())), Dict{String, Tuple{Observables.AbstractObservable, Union{Nothing, Bool}}}(\"loading\" => (Observable(false), nothing), \"clicks\" => (Observable(0), nothing)), Set{String}(), nothing, WebIO.Asset[WebIO.Asset(\"js\", \"knockout\", \"/home/dushya/.julia/packages/Knockout/HReiN/src/../assets/knockout.js\"), WebIO.Asset(\"js\", \"knockout_punches\", \"/home/dushya/.julia/packages/Knockout/HReiN/src/../assets/knockout_punches.js\"), WebIO.Asset(\"js\", nothing, \"/home/dushya/.julia/packages/InteractBase/LJXv3/src/../assets/all.js\"), WebIO.Asset(\"css\", nothing, \"/home/dushya/.julia/packages/InteractBase/LJXv3/src/../assets/style.css\"), WebIO.Asset(\"css\", nothing, \"/home/dushya/.julia/packages/Interact/PENUy/src/../assets/bulma_confined.min.css\")], Dict{Any, Any}(\"loading\" => Any[WebIO.JSString(\"(function (val){return (val!=this.model[\\\"loading\\\"]()) ? (this.valueFromJulia[\\\"loading\\\"]=true, this.model[\\\"loading\\\"](val)) : undefined})\")], \"clicks\" => Any[WebIO.JSString(\"(function (val){return (val!=this.model[\\\"clicks\\\"]()) ? (this.valueFromJulia[\\\"clicks\\\"]=true, this.model[\\\"clicks\\\"](val)) : undefined})\")]), WebIO.ConnectionPool(Channel{Any}(32), Set{WebIO.AbstractConnection}(), Base.GenericCondition{ReentrantLock}(Base.IntrusiveLinkedList{Task}(Task (runnable) @0x00007f2a509995f0, Task (runnable) @0x00007f2a509995f0), ReentrantLock(nothing, 0x00000000, 0x00, Base.GenericCondition{Base.Threads.SpinLock}(Base.IntrusiveLinkedList{Task}(nothing, nothing), Base.Threads.SpinLock(0)), (0, 139818751659792, 139818998246752)))), WebIO.JSString[WebIO.JSString(\"function () {\\n    var handler = (function (ko, koPunches) {\\n    ko.punches.enableAll();\\n    ko.bindingHandlers.numericValue = {\\n        init: function(element, valueAccessor, allBindings, data, context) {\\n            var stringified = ko.observable(ko.unwrap(valueAccessor()));\\n            stringified.subscribe(function(value) {\\n                var val = parseFloat(value);\\n                if (!isNaN(val)) {\\n                    valueAccessor()(val);\\n                }\\n            });\\n            valueAccessor().subscribe(function(value) {\\n                var str = JSON.stringify(value);\\n                if ((str == \\\"0\\\") && ([\\\"-0\\\", \\\"-0.\\\"].indexOf(stringified()) >= 0))\\n                     return;\\n                 if ([\\\"null\\\", \\\"\\\"].indexOf(str) >= 0)\\n                     return;\\n                stringified(str);\\n            });\\n            ko.applyBindingsToNode(\\n                element,\\n                {\\n                    value: stringified,\\n                    valueUpdate: allBindings.get('valueUpdate'),\\n                },\\n                context,\\n            );\\n        }\\n    };\\n    var json_data = {\\\"loading\\\":WebIO.getval({\\\"name\\\":\\\"loading\\\",\\\"scope\\\":\\\"12681263972018739558\\\",\\\"id\\\":\\\"8705095649264886279\\\",\\\"type\\\":\\\"observable\\\"}),\\\"clicks\\\":WebIO.getval({\\\"name\\\":\\\"clicks\\\",\\\"scope\\\":\\\"12681263972018739558\\\",\\\"id\\\":\\\"583761579779579761\\\",\\\"type\\\":\\\"observable\\\"})};\\n    var self = this;\\n    function AppViewModel() {\\n        for (var key in json_data) {\\n            var el = json_data[key];\\n            this[key] = Array.isArray(el) ? ko.observableArray(el) : ko.observable(el);\\n        }\\n        \\n        \\n        [this[\\\"loading\\\"].subscribe((function (val){!(this.valueFromJulia[\\\"loading\\\"]) ? (WebIO.setval({\\\"name\\\":\\\"loading\\\",\\\"scope\\\":\\\"12681263972018739558\\\",\\\"id\\\":\\\"8705095649264886279\\\",\\\"type\\\":\\\"observable\\\"},val)) : undefined; return this.valueFromJulia[\\\"loading\\\"]=false}),self),this[\\\"clicks\\\"].subscribe((function (val){!(this.valueFromJulia[\\\"clicks\\\"]) ? (WebIO.setval({\\\"name\\\":\\\"clicks\\\",\\\"scope\\\":\\\"12681263972018739558\\\",\\\"id\\\":\\\"583761579779579761\\\",\\\"type\\\":\\\"observable\\\"},val)) : undefined; return this.valueFromJulia[\\\"clicks\\\"]=false}),self)]\\n        \\n    }\\n    self.model = new AppViewModel();\\n    self.valueFromJulia = {};\\n    for (var key in json_data) {\\n        self.valueFromJulia[key] = false;\\n    }\\n    ko.applyBindings(self.model, self.dom);\\n}\\n);\\n    (WebIO.importBlock({\\\"data\\\":[{\\\"name\\\":\\\"knockout\\\",\\\"type\\\":\\\"js\\\",\\\"url\\\":\\\"/assetserver/727383f2a47bd31570b7da84eee7b022dd6d7c78-knockout.js\\\"},{\\\"name\\\":\\\"knockout_punches\\\",\\\"type\\\":\\\"js\\\",\\\"url\\\":\\\"/assetserver/382b41b3b1bd9f26f75861d360bad7f8beea211f-knockout_punches.js\\\"}],\\\"type\\\":\\\"async_block\\\"})).then((imports) => handler.apply(this, imports));\\n}\\n\")])], Dict{Symbol, Any}(:className => \"field interact-widget\")), WebIO.Node{WebIO.DOM}(WebIO.DOM(:html, :div), Any[WebIO.Scope(WebIO.Node{WebIO.DOM}(WebIO.DOM(:html, :div), Any[], Dict{Symbol, Any}(:id => \"container\")), Dict{String, Tuple{Observables.AbstractObservable, Union{Nothing, Bool}}}(\"value\" => (Observable(\"\\\\;\\\\;\"), nothing)), Set{String}(), nothing, WebIO.Asset[WebIO.Asset(\"js\", nothing, \"/home/dushya/.julia/packages/InteractBase/LJXv3/src/../assets/katex.min.js\"), WebIO.Asset(\"css\", nothing, \"/home/dushya/.julia/packages/InteractBase/LJXv3/src/../assets/katex.min.css\")], Dict{Any, Any}(\"value\" => Any[WebIO.JSString(\"(function (txt){return this.k.render(txt,this.container)})\")]), WebIO.ConnectionPool(Channel{Any}(32), Set{WebIO.AbstractConnection}(), Base.GenericCondition{ReentrantLock}(Base.IntrusiveLinkedList{Task}(Task (runnable) @0x00007f2a3c34c1a0, Task (runnable) @0x00007f2a3c34c1a0), ReentrantLock(nothing, 0x00000000, 0x00, Base.GenericCondition{Base.Threads.SpinLock}(Base.IntrusiveLinkedList{Task}(nothing, nothing), Base.Threads.SpinLock(0)), (0, 139820456097200, 4611686018427387904)))), WebIO.JSString[WebIO.JSString(\"function () {\\n    var handler = ((function (k){this.k=k; this.container=this.dom.querySelector(\\\"#container\\\"); return k.render(\\\"\\\\\\\\;\\\\\\\\;\\\",this.container)}));\\n    (WebIO.importBlock({\\\"data\\\":[{\\\"name\\\":null,\\\"type\\\":\\\"js\\\",\\\"url\\\":\\\"/assetserver/dd22ed1bf1896c2748f3fe616ce0b838adc895c1-katex.min.js\\\"},{\\\"name\\\":null,\\\"type\\\":\\\"css\\\",\\\"url\\\":\\\"/assetserver/46517a424aa5e6cffc1360d7e0848b601c584ee3-katex.min.css\\\"}],\\\"type\\\":\\\"async_block\\\"})).then((imports) => handler.apply(this, imports));\\n}\\n\")])], Dict{Symbol, Any}(:className => \"interact-widget\")), WebIO.Node{WebIO.DOM}(WebIO.DOM(:html, :div), Any[WebIO.Scope(WebIO.Node{WebIO.DOM}(WebIO.DOM(:html, :button), Any[\"stop\"], Dict{Symbol, Any}(:attributes => Dict{Any, Any}(\"data-bind\" => \"click: function (){this.clicks(this.clicks()+1)}, css: {'is-loading' : loading}\"), :className => \"is-medium button is-primary\", :style => Dict{String, Any}())), Dict{String, Tuple{Observables.AbstractObservable, Union{Nothing, Bool}}}(\"loading\" => (Observable(false), nothing), \"clicks\" => (Observable(0), nothing)), Set{String}(), nothing, WebIO.Asset[WebIO.Asset(\"js\", \"knockout\", \"/home/dushya/.julia/packages/Knockout/HReiN/src/../assets/knockout.js\"), WebIO.Asset(\"js\", \"knockout_punches\", \"/home/dushya/.julia/packages/Knockout/HReiN/src/../assets/knockout_punches.js\"), WebIO.Asset(\"js\", nothing, \"/home/dushya/.julia/packages/InteractBase/LJXv3/src/../assets/all.js\"), WebIO.Asset(\"css\", nothing, \"/home/dushya/.julia/packages/InteractBase/LJXv3/src/../assets/style.css\"), WebIO.Asset(\"css\", nothing, \"/home/dushya/.julia/packages/Interact/PENUy/src/../assets/bulma_confined.min.css\")], Dict{Any, Any}(\"loading\" => Any[WebIO.JSString(\"(function (val){return (val!=this.model[\\\"loading\\\"]()) ? (this.valueFromJulia[\\\"loading\\\"]=true, this.model[\\\"loading\\\"](val)) : undefined})\")], \"clicks\" => Any[WebIO.JSString(\"(function (val){return (val!=this.model[\\\"clicks\\\"]()) ? (this.valueFromJulia[\\\"clicks\\\"]=true, this.model[\\\"clicks\\\"](val)) : undefined})\")]), WebIO.ConnectionPool(Channel{Any}(32), Set{WebIO.AbstractConnection}(), Base.GenericCondition{ReentrantLock}(Base.IntrusiveLinkedList{Task}(Task (runnable) @0x00007f2a5099bd00, Task (runnable) @0x00007f2a5099bd00), ReentrantLock(nothing, 0x00000000, 0x00, Base.GenericCondition{Base.Threads.SpinLock}(Base.IntrusiveLinkedList{Task}(nothing, nothing), Base.Threads.SpinLock(0)), (8, 139818744222816, 139818998527680)))), WebIO.JSString[WebIO.JSString(\"function () {\\n    var handler = (function (ko, koPunches) {\\n    ko.punches.enableAll();\\n    ko.bindingHandlers.numericValue = {\\n        init: function(element, valueAccessor, allBindings, data, context) {\\n            var stringified = ko.observable(ko.unwrap(valueAccessor()));\\n            stringified.subscribe(function(value) {\\n                var val = parseFloat(value);\\n                if (!isNaN(val)) {\\n                    valueAccessor()(val);\\n                }\\n            });\\n            valueAccessor().subscribe(function(value) {\\n                var str = JSON.stringify(value);\\n                if ((str == \\\"0\\\") && ([\\\"-0\\\", \\\"-0.\\\"].indexOf(stringified()) >= 0))\\n                     return;\\n                 if ([\\\"null\\\", \\\"\\\"].indexOf(str) >= 0)\\n                     return;\\n                stringified(str);\\n            });\\n            ko.applyBindingsToNode(\\n                element,\\n                {\\n                    value: stringified,\\n                    valueUpdate: allBindings.get('valueUpdate'),\\n                },\\n                context,\\n            );\\n        }\\n    };\\n    var json_data = {\\\"loading\\\":WebIO.getval({\\\"name\\\":\\\"loading\\\",\\\"scope\\\":\\\"1983511182385005529\\\",\\\"id\\\":\\\"7345806551063883232\\\",\\\"type\\\":\\\"observable\\\"}),\\\"clicks\\\":WebIO.getval({\\\"name\\\":\\\"clicks\\\",\\\"scope\\\":\\\"1983511182385005529\\\",\\\"id\\\":\\\"2639874687187422597\\\",\\\"type\\\":\\\"observable\\\"})};\\n    var self = this;\\n    function AppViewModel() {\\n        for (var key in json_data) {\\n            var el = json_data[key];\\n            this[key] = Array.isArray(el) ? ko.observableArray(el) : ko.observable(el);\\n        }\\n        \\n        \\n        [this[\\\"loading\\\"].subscribe((function (val){!(this.valueFromJulia[\\\"loading\\\"]) ? (WebIO.setval({\\\"name\\\":\\\"loading\\\",\\\"scope\\\":\\\"1983511182385005529\\\",\\\"id\\\":\\\"7345806551063883232\\\",\\\"type\\\":\\\"observable\\\"},val)) : undefined; return this.valueFromJulia[\\\"loading\\\"]=false}),self),this[\\\"clicks\\\"].subscribe((function (val){!(this.valueFromJulia[\\\"clicks\\\"]) ? (WebIO.setval({\\\"name\\\":\\\"clicks\\\",\\\"scope\\\":\\\"1983511182385005529\\\",\\\"id\\\":\\\"2639874687187422597\\\",\\\"type\\\":\\\"observable\\\"},val)) : undefined; return this.valueFromJulia[\\\"clicks\\\"]=false}),self)]\\n        \\n    }\\n    self.model = new AppViewModel();\\n    self.valueFromJulia = {};\\n    for (var key in json_data) {\\n        self.valueFromJulia[key] = false;\\n    }\\n    ko.applyBindings(self.model, self.dom);\\n}\\n);\\n    (WebIO.importBlock({\\\"data\\\":[{\\\"name\\\":\\\"knockout\\\",\\\"type\\\":\\\"js\\\",\\\"url\\\":\\\"/assetserver/727383f2a47bd31570b7da84eee7b022dd6d7c78-knockout.js\\\"},{\\\"name\\\":\\\"knockout_punches\\\",\\\"type\\\":\\\"js\\\",\\\"url\\\":\\\"/assetserver/382b41b3b1bd9f26f75861d360bad7f8beea211f-knockout_punches.js\\\"}],\\\"type\\\":\\\"async_block\\\"})).then((imports) => handler.apply(this, imports));\\n}\\n\")])], Dict{Symbol, Any}(:className => \"field interact-widget\")), WebIO.Node{WebIO.DOM}(WebIO.DOM(:html, :div), Any[WebIO.Scope(WebIO.Node{WebIO.DOM}(WebIO.DOM(:html, :div), Any[], Dict{Symbol, Any}(:id => \"container\")), Dict{String, Tuple{Observables.AbstractObservable, Union{Nothing, Bool}}}(\"value\" => (Observable(\"\\\\;\\\\;\"), nothing)), Set{String}(), nothing, WebIO.Asset[WebIO.Asset(\"js\", nothing, \"/home/dushya/.julia/packages/InteractBase/LJXv3/src/../assets/katex.min.js\"), WebIO.Asset(\"css\", nothing, \"/home/dushya/.julia/packages/InteractBase/LJXv3/src/../assets/katex.min.css\")], Dict{Any, Any}(\"value\" => Any[WebIO.JSString(\"(function (txt){return this.k.render(txt,this.container)})\")]), WebIO.ConnectionPool(Channel{Any}(32), Set{WebIO.AbstractConnection}(), Base.GenericCondition{ReentrantLock}(Base.IntrusiveLinkedList{Task}(Task (runnable) @0x00007f2a3c34c1a0, Task (runnable) @0x00007f2a3c34c1a0), ReentrantLock(nothing, 0x00000000, 0x00, Base.GenericCondition{Base.Threads.SpinLock}(Base.IntrusiveLinkedList{Task}(nothing, nothing), Base.Threads.SpinLock(0)), (0, 139820456097200, 4611686018427387904)))), WebIO.JSString[WebIO.JSString(\"function () {\\n    var handler = ((function (k){this.k=k; this.container=this.dom.querySelector(\\\"#container\\\"); return k.render(\\\"\\\\\\\\;\\\\\\\\;\\\",this.container)}));\\n    (WebIO.importBlock({\\\"data\\\":[{\\\"name\\\":null,\\\"type\\\":\\\"js\\\",\\\"url\\\":\\\"/assetserver/dd22ed1bf1896c2748f3fe616ce0b838adc895c1-katex.min.js\\\"},{\\\"name\\\":null,\\\"type\\\":\\\"css\\\",\\\"url\\\":\\\"/assetserver/46517a424aa5e6cffc1360d7e0848b601c584ee3-katex.min.css\\\"}],\\\"type\\\":\\\"async_block\\\"})).then((imports) => handler.apply(this, imports));\\n}\\n\")])], Dict{Symbol, Any}(:className => \"interact-widget\")), WebIO.Node{WebIO.DOM}(WebIO.DOM(:html, :div), Any[WebIO.Scope(WebIO.Node{WebIO.DOM}(WebIO.DOM(:html, :button), Any[\"reset\"], Dict{Symbol, Any}(:attributes => Dict{Any, Any}(\"data-bind\" => \"click: function (){this.clicks(this.clicks()+1)}, css: {'is-loading' : loading}\"), :className => \"is-medium button is-primary\", :style => Dict{String, Any}())), Dict{String, Tuple{Observables.AbstractObservable, Union{Nothing, Bool}}}(\"loading\" => (Observable(false), nothing), \"clicks\" => (Observable(0), nothing)), Set{String}(), nothing, WebIO.Asset[WebIO.Asset(\"js\", \"knockout\", \"/home/dushya/.julia/packages/Knockout/HReiN/src/../assets/knockout.js\"), WebIO.Asset(\"js\", \"knockout_punches\", \"/home/dushya/.julia/packages/Knockout/HReiN/src/../assets/knockout_punches.js\"), WebIO.Asset(\"js\", nothing, \"/home/dushya/.julia/packages/InteractBase/LJXv3/src/../assets/all.js\"), WebIO.Asset(\"css\", nothing, \"/home/dushya/.julia/packages/InteractBase/LJXv3/src/../assets/style.css\"), WebIO.Asset(\"css\", nothing, \"/home/dushya/.julia/packages/Interact/PENUy/src/../assets/bulma_confined.min.css\")], Dict{Any, Any}(\"loading\" => Any[WebIO.JSString(\"(function (val){return (val!=this.model[\\\"loading\\\"]()) ? (this.valueFromJulia[\\\"loading\\\"]=true, this.model[\\\"loading\\\"](val)) : undefined})\")], \"clicks\" => Any[WebIO.JSString(\"(function (val){return (val!=this.model[\\\"clicks\\\"]()) ? (this.valueFromJulia[\\\"clicks\\\"]=true, this.model[\\\"clicks\\\"](val)) : undefined})\")]), WebIO.ConnectionPool(Channel{Any}(32), Set{WebIO.AbstractConnection}(), Base.GenericCondition{ReentrantLock}(Base.IntrusiveLinkedList{Task}(Task (runnable) @0x00007f2a509b68b0, Task (runnable) @0x00007f2a509b68b0), ReentrantLock(nothing, 0x00000000, 0x00, Base.GenericCondition{Base.Threads.SpinLock}(Base.IntrusiveLinkedList{Task}(nothing, nothing), Base.Threads.SpinLock(0)), (8, 191587776, 139818998857824)))), WebIO.JSString[WebIO.JSString(\"function () {\\n    var handler = (function (ko, koPunches) {\\n    ko.punches.enableAll();\\n    ko.bindingHandlers.numericValue = {\\n        init: function(element, valueAccessor, allBindings, data, context) {\\n            var stringified = ko.observable(ko.unwrap(valueAccessor()));\\n            stringified.subscribe(function(value) {\\n                var val = parseFloat(value);\\n                if (!isNaN(val)) {\\n                    valueAccessor()(val);\\n                }\\n            });\\n            valueAccessor().subscribe(function(value) {\\n                var str = JSON.stringify(value);\\n                if ((str == \\\"0\\\") && ([\\\"-0\\\", \\\"-0.\\\"].indexOf(stringified()) >= 0))\\n                     return;\\n                 if ([\\\"null\\\", \\\"\\\"].indexOf(str) >= 0)\\n                     return;\\n                stringified(str);\\n            });\\n            ko.applyBindingsToNode(\\n                element,\\n                {\\n                    value: stringified,\\n                    valueUpdate: allBindings.get('valueUpdate'),\\n                },\\n                context,\\n            );\\n        }\\n    };\\n    var json_data = {\\\"loading\\\":WebIO.getval({\\\"name\\\":\\\"loading\\\",\\\"scope\\\":\\\"8440043325700385881\\\",\\\"id\\\":\\\"16082122143057524519\\\",\\\"type\\\":\\\"observable\\\"}),\\\"clicks\\\":WebIO.getval({\\\"name\\\":\\\"clicks\\\",\\\"scope\\\":\\\"8440043325700385881\\\",\\\"id\\\":\\\"16542424562967170242\\\",\\\"type\\\":\\\"observable\\\"})};\\n    var self = this;\\n    function AppViewModel() {\\n        for (var key in json_data) {\\n            var el = json_data[key];\\n            this[key] = Array.isArray(el) ? ko.observableArray(el) : ko.observable(el);\\n        }\\n        \\n        \\n        [this[\\\"loading\\\"].subscribe((function (val){!(this.valueFromJulia[\\\"loading\\\"]) ? (WebIO.setval({\\\"name\\\":\\\"loading\\\",\\\"scope\\\":\\\"8440043325700385881\\\",\\\"id\\\":\\\"16082122143057524519\\\",\\\"type\\\":\\\"observable\\\"},val)) : undefined; return this.valueFromJulia[\\\"loading\\\"]=false}),self),this[\\\"clicks\\\"].subscribe((function (val){!(this.valueFromJulia[\\\"clicks\\\"]) ? (WebIO.setval({\\\"name\\\":\\\"clicks\\\",\\\"scope\\\":\\\"8440043325700385881\\\",\\\"id\\\":\\\"16542424562967170242\\\",\\\"type\\\":\\\"observable\\\"},val)) : undefined; return this.valueFromJulia[\\\"clicks\\\"]=false}),self)]\\n        \\n    }\\n    self.model = new AppViewModel();\\n    self.valueFromJulia = {};\\n    for (var key in json_data) {\\n        self.valueFromJulia[key] = false;\\n    }\\n    ko.applyBindings(self.model, self.dom);\\n}\\n);\\n    (WebIO.importBlock({\\\"data\\\":[{\\\"name\\\":\\\"knockout\\\",\\\"type\\\":\\\"js\\\",\\\"url\\\":\\\"/assetserver/727383f2a47bd31570b7da84eee7b022dd6d7c78-knockout.js\\\"},{\\\"name\\\":\\\"knockout_punches\\\",\\\"type\\\":\\\"js\\\",\\\"url\\\":\\\"/assetserver/382b41b3b1bd9f26f75861d360bad7f8beea211f-knockout_punches.js\\\"}],\\\"type\\\":\\\"async_block\\\"})).then((imports) => handler.apply(this, imports));\\n}\\n\")])], Dict{Symbol, Any}(:className => \"field interact-widget\")), WebIO.Node{WebIO.DOM}(WebIO.DOM(:html, :div), Any[WebIO.Scope(WebIO.Node{WebIO.DOM}(WebIO.DOM(:html, :div), Any[], Dict{Symbol, Any}(:id => \"container\")), Dict{String, Tuple{Observables.AbstractObservable, Union{Nothing, Bool}}}(\"value\" => (Observable(\"\\\\;\\\\;\"), nothing)), Set{String}(), nothing, WebIO.Asset[WebIO.Asset(\"js\", nothing, \"/home/dushya/.julia/packages/InteractBase/LJXv3/src/../assets/katex.min.js\"), WebIO.Asset(\"css\", nothing, \"/home/dushya/.julia/packages/InteractBase/LJXv3/src/../assets/katex.min.css\")], Dict{Any, Any}(\"value\" => Any[WebIO.JSString(\"(function (txt){return this.k.render(txt,this.container)})\")]), WebIO.ConnectionPool(Channel{Any}(32), Set{WebIO.AbstractConnection}(), Base.GenericCondition{ReentrantLock}(Base.IntrusiveLinkedList{Task}(Task (runnable) @0x00007f2a3c34c1a0, Task (runnable) @0x00007f2a3c34c1a0), ReentrantLock(nothing, 0x00000000, 0x00, Base.GenericCondition{Base.Threads.SpinLock}(Base.IntrusiveLinkedList{Task}(nothing, nothing), Base.Threads.SpinLock(0)), (0, 139820456097200, 4611686018427387904)))), WebIO.JSString[WebIO.JSString(\"function () {\\n    var handler = ((function (k){this.k=k; this.container=this.dom.querySelector(\\\"#container\\\"); return k.render(\\\"\\\\\\\\;\\\\\\\\;\\\",this.container)}));\\n    (WebIO.importBlock({\\\"data\\\":[{\\\"name\\\":null,\\\"type\\\":\\\"js\\\",\\\"url\\\":\\\"/assetserver/dd22ed1bf1896c2748f3fe616ce0b838adc895c1-katex.min.js\\\"},{\\\"name\\\":null,\\\"type\\\":\\\"css\\\",\\\"url\\\":\\\"/assetserver/46517a424aa5e6cffc1360d7e0848b601c584ee3-katex.min.css\\\"}],\\\"type\\\":\\\"async_block\\\"})).then((imports) => handler.apply(this, imports));\\n}\\n\")])], Dict{Symbol, Any}(:className => \"interact-widget\")), WebIO.Node{WebIO.DOM}(WebIO.DOM(:html, :div), Any[WebIO.Scope(WebIO.Node{WebIO.DOM}(WebIO.DOM(:html, :button), Any[\"save\"], Dict{Symbol, Any}(:attributes => Dict{Any, Any}(\"data-bind\" => \"click: function (){this.clicks(this.clicks()+1)}, css: {'is-loading' : loading}\"), :className => \"is-medium button is-primary\", :style => Dict{String, Any}())), Dict{String, Tuple{Observables.AbstractObservable, Union{Nothing, Bool}}}(\"loading\" => (Observable(false), nothing), \"clicks\" => (Observable(0), nothing)), Set{String}(), nothing, WebIO.Asset[WebIO.Asset(\"js\", \"knockout\", \"/home/dushya/.julia/packages/Knockout/HReiN/src/../assets/knockout.js\"), WebIO.Asset(\"js\", \"knockout_punches\", \"/home/dushya/.julia/packages/Knockout/HReiN/src/../assets/knockout_punches.js\"), WebIO.Asset(\"js\", nothing, \"/home/dushya/.julia/packages/InteractBase/LJXv3/src/../assets/all.js\"), WebIO.Asset(\"css\", nothing, \"/home/dushya/.julia/packages/InteractBase/LJXv3/src/../assets/style.css\"), WebIO.Asset(\"css\", nothing, \"/home/dushya/.julia/packages/Interact/PENUy/src/../assets/bulma_confined.min.css\")], Dict{Any, Any}(\"loading\" => Any[WebIO.JSString(\"(function (val){return (val!=this.model[\\\"loading\\\"]()) ? (this.valueFromJulia[\\\"loading\\\"]=true, this.model[\\\"loading\\\"](val)) : undefined})\")], \"clicks\" => Any[WebIO.JSString(\"(function (val){return (val!=this.model[\\\"clicks\\\"]()) ? (this.valueFromJulia[\\\"clicks\\\"]=true, this.model[\\\"clicks\\\"](val)) : undefined})\")]), WebIO.ConnectionPool(Channel{Any}(32), Set{WebIO.AbstractConnection}(), Base.GenericCondition{ReentrantLock}(Base.IntrusiveLinkedList{Task}(Task (runnable) @0x00007f2a509e5140, Task (runnable) @0x00007f2a509e5140), ReentrantLock(nothing, 0x00000000, 0x00, Base.GenericCondition{Base.Threads.SpinLock}(Base.IntrusiveLinkedList{Task}(nothing, nothing), Base.Threads.SpinLock(0)), (0, 139818999122048, 139818999122368)))), WebIO.JSString[WebIO.JSString(\"function () {\\n    var handler = (function (ko, koPunches) {\\n    ko.punches.enableAll();\\n    ko.bindingHandlers.numericValue = {\\n        init: function(element, valueAccessor, allBindings, data, context) {\\n            var stringified = ko.observable(ko.unwrap(valueAccessor()));\\n            stringified.subscribe(function(value) {\\n                var val = parseFloat(value);\\n                if (!isNaN(val)) {\\n                    valueAccessor()(val);\\n                }\\n            });\\n            valueAccessor().subscribe(function(value) {\\n                var str = JSON.stringify(value);\\n                if ((str == \\\"0\\\") && ([\\\"-0\\\", \\\"-0.\\\"].indexOf(stringified()) >= 0))\\n                     return;\\n                 if ([\\\"null\\\", \\\"\\\"].indexOf(str) >= 0)\\n                     return;\\n                stringified(str);\\n            });\\n            ko.applyBindingsToNode(\\n                element,\\n                {\\n                    value: stringified,\\n                    valueUpdate: allBindings.get('valueUpdate'),\\n                },\\n                context,\\n            );\\n        }\\n    };\\n    var json_data = {\\\"loading\\\":WebIO.getval({\\\"name\\\":\\\"loading\\\",\\\"scope\\\":\\\"5292580516076908402\\\",\\\"id\\\":\\\"5898249621409969537\\\",\\\"type\\\":\\\"observable\\\"}),\\\"clicks\\\":WebIO.getval({\\\"name\\\":\\\"clicks\\\",\\\"scope\\\":\\\"5292580516076908402\\\",\\\"id\\\":\\\"15779575896247916294\\\",\\\"type\\\":\\\"observable\\\"})};\\n    var self = this;\\n    function AppViewModel() {\\n        for (var key in json_data) {\\n            var el = json_data[key];\\n            this[key] = Array.isArray(el) ? ko.observableArray(el) : ko.observable(el);\\n        }\\n        \\n        \\n        [this[\\\"loading\\\"].subscribe((function (val){!(this.valueFromJulia[\\\"loading\\\"]) ? (WebIO.setval({\\\"name\\\":\\\"loading\\\",\\\"scope\\\":\\\"5292580516076908402\\\",\\\"id\\\":\\\"5898249621409969537\\\",\\\"type\\\":\\\"observable\\\"},val)) : undefined; return this.valueFromJulia[\\\"loading\\\"]=false}),self),this[\\\"clicks\\\"].subscribe((function (val){!(this.valueFromJulia[\\\"clicks\\\"]) ? (WebIO.setval({\\\"name\\\":\\\"clicks\\\",\\\"scope\\\":\\\"5292580516076908402\\\",\\\"id\\\":\\\"15779575896247916294\\\",\\\"type\\\":\\\"observable\\\"},val)) : undefined; return this.valueFromJulia[\\\"clicks\\\"]=false}),self)]\\n        \\n    }\\n    self.model = new AppViewModel();\\n    self.valueFromJulia = {};\\n    for (var key in json_data) {\\n        self.valueFromJulia[key] = false;\\n    }\\n    ko.applyBindings(self.model, self.dom);\\n}\\n);\\n    (WebIO.importBlock({\\\"data\\\":[{\\\"name\\\":\\\"knockout\\\",\\\"type\\\":\\\"js\\\",\\\"url\\\":\\\"/assetserver/727383f2a47bd31570b7da84eee7b022dd6d7c78-knockout.js\\\"},{\\\"name\\\":\\\"knockout_punches\\\",\\\"type\\\":\\\"js\\\",\\\"url\\\":\\\"/assetserver/382b41b3b1bd9f26f75861d360bad7f8beea211f-knockout_punches.js\\\"}],\\\"type\\\":\\\"async_block\\\"})).then((imports) => handler.apply(this, imports));\\n}\\n\")])], Dict{Symbol, Any}(:className => \"field interact-widget\"))], Dict{Symbol, Any}(:style => Dict(\"display\" => \"flex\", \"flex-direction\" => \"row\")))], Dict{Symbol, Any}(:style => Dict(\"display\" => \"flex\", \"flex-direction\" => \"column\"))), WebIO.Node{WebIO.DOM}(WebIO.DOM(:html, :div), Any[WebIO.Scope(WebIO.Node{WebIO.DOM}(WebIO.DOM(:html, :div), Any[], Dict{Symbol, Any}(:id => \"container\")), Dict{String, Tuple{Observables.AbstractObservable, Union{Nothing, Bool}}}(\"value\" => (Observable(\"\\\\;\\\\;\"), nothing)), Set{String}(), nothing, WebIO.Asset[WebIO.Asset(\"js\", nothing, \"/home/dushya/.julia/packages/InteractBase/LJXv3/src/../assets/katex.min.js\"), WebIO.Asset(\"css\", nothing, \"/home/dushya/.julia/packages/InteractBase/LJXv3/src/../assets/katex.min.css\")], Dict{Any, Any}(\"value\" => Any[WebIO.JSString(\"(function (txt){return this.k.render(txt,this.container)})\")]), WebIO.ConnectionPool(Channel{Any}(32), Set{WebIO.AbstractConnection}(), Base.GenericCondition{ReentrantLock}(Base.IntrusiveLinkedList{Task}(Task (runnable) @0x00007f2a3c34c1a0, Task (runnable) @0x00007f2a3c34c1a0), ReentrantLock(nothing, 0x00000000, 0x00, Base.GenericCondition{Base.Threads.SpinLock}(Base.IntrusiveLinkedList{Task}(nothing, nothing), Base.Threads.SpinLock(0)), (0, 139820456097200, 4611686018427387904)))), WebIO.JSString[WebIO.JSString(\"function () {\\n    var handler = ((function (k){this.k=k; this.container=this.dom.querySelector(\\\"#container\\\"); return k.render(\\\"\\\\\\\\;\\\\\\\\;\\\",this.container)}));\\n    (WebIO.importBlock({\\\"data\\\":[{\\\"name\\\":null,\\\"type\\\":\\\"js\\\",\\\"url\\\":\\\"/assetserver/dd22ed1bf1896c2748f3fe616ce0b838adc895c1-katex.min.js\\\"},{\\\"name\\\":null,\\\"type\\\":\\\"css\\\",\\\"url\\\":\\\"/assetserver/46517a424aa5e6cffc1360d7e0848b601c584ee3-katex.min.css\\\"}],\\\"type\\\":\\\"async_block\\\"})).then((imports) => handler.apply(this, imports));\\n}\\n\")])], Dict{Symbol, Any}(:className => \"interact-widget\")), Observable(Luxor.Drawing(430.0, 430.0, \"\", Cairo.CairoSurfaceBase{UInt32}(Ptr{Nothing} @0x0000000000000000, 430.0, 430.0), Cairo.CairoContext(Ptr{Nothing} @0x0000000005fc5d80, Cairo.CairoSurfaceBase{UInt32}(Ptr{Nothing} @0x0000000000000000, 430.0, 430.0), Ptr{Nothing} @0x0000000005ad4c70), :png, 0.0, 0.0, 0.0, 1.0, IOBuffer(data=UInt8[...], readable=true, writable=true, seekable=true, append=false, size=8295, maxsize=Inf, ptr=8296, mark=-1), UInt8[0x89, 0x50, 0x4e, 0x47, 0x0d, 0x0a, 0x1a, 0x0a, 0x00, 0x00  …  0x00, 0x00, 0x49, 0x45, 0x4e, 0x44, 0xae, 0x42, 0x60, 0x82], false)), WebIO.Node{WebIO.DOM}(WebIO.DOM(:html, :div), Any[WebIO.Scope(WebIO.Node{WebIO.DOM}(WebIO.DOM(:html, :div), Any[], Dict{Symbol, Any}(:id => \"container\")), Dict{String, Tuple{Observables.AbstractObservable, Union{Nothing, Bool}}}(\"value\" => (Observable(\"\\\\;\\\\;\"), nothing)), Set{String}(), nothing, WebIO.Asset[WebIO.Asset(\"js\", nothing, \"/home/dushya/.julia/packages/InteractBase/LJXv3/src/../assets/katex.min.js\"), WebIO.Asset(\"css\", nothing, \"/home/dushya/.julia/packages/InteractBase/LJXv3/src/../assets/katex.min.css\")], Dict{Any, Any}(\"value\" => Any[WebIO.JSString(\"(function (txt){return this.k.render(txt,this.container)})\")]), WebIO.ConnectionPool(Channel{Any}(32), Set{WebIO.AbstractConnection}(), Base.GenericCondition{ReentrantLock}(Base.IntrusiveLinkedList{Task}(Task (runnable) @0x00007f2a3c34c1a0, Task (runnable) @0x00007f2a3c34c1a0), ReentrantLock(nothing, 0x00000000, 0x00, Base.GenericCondition{Base.Threads.SpinLock}(Base.IntrusiveLinkedList{Task}(nothing, nothing), Base.Threads.SpinLock(0)), (0, 139820456097200, 4611686018427387904)))), WebIO.JSString[WebIO.JSString(\"function () {\\n    var handler = ((function (k){this.k=k; this.container=this.dom.querySelector(\\\"#container\\\"); return k.render(\\\"\\\\\\\\;\\\\\\\\;\\\",this.container)}));\\n    (WebIO.importBlock({\\\"data\\\":[{\\\"name\\\":null,\\\"type\\\":\\\"js\\\",\\\"url\\\":\\\"/assetserver/dd22ed1bf1896c2748f3fe616ce0b838adc895c1-katex.min.js\\\"},{\\\"name\\\":null,\\\"type\\\":\\\"css\\\",\\\"url\\\":\\\"/assetserver/46517a424aa5e6cffc1360d7e0848b601c584ee3-katex.min.css\\\"}],\\\"type\\\":\\\"async_block\\\"})).then((imports) => handler.apply(this, imports));\\n}\\n\")])], Dict{Symbol, Any}(:className => \"interact-widget\")), WebIO.Node{WebIO.DOM}(WebIO.DOM(:html, :div), Any[], Dict{Symbol, Any}(:style => Dict(\"display\" => \"flex\", \"flex-direction\" => \"column\")))], Dict{Symbol, Any}(:style => Dict(\"display\" => \"flex\", \"flex-direction\" => \"row\")))], Dict{Symbol, Any}(:style => Dict(\"display\" => \"flex\", \"flex-direction\" => \"column\")))"
      ]
     },
     "execution_count": 37,
     "metadata": {
      "application/vnd.webio.node+json": {
       "kernelId": "3e56fc4e-e90a-4d77-a8cd-50c583d74f33"
      }
     },
     "output_type": "execute_result"
    }
   ],
   "source": [
    "create_interactive_app(model, initialiser = initialiser!,\n",
    "    step_rule = step_rule!,\n",
    "    props_to_record = Dict(\"nodes\"=>Set([:color])),\n",
    "    model_controls = [(:prob, \"slider\", 0.0:0.01:1)],\n",
    "    frames = 400\n",
    ")"
   ]
  },
  {
   "cell_type": "code",
   "execution_count": null,
   "metadata": {},
   "outputs": [],
   "source": []
  }
 ],
 "metadata": {
  "@webio": {
   "lastCommId": "86260195778f47e1b56163d8f48b89b8",
   "lastKernelId": "3e56fc4e-e90a-4d77-a8cd-50c583d74f33"
  },
  "kernelspec": {
   "display_name": "Julia 1.9.2",
   "language": "julia",
   "name": "julia-1.9"
  },
  "language_info": {
   "file_extension": ".jl",
   "mimetype": "application/julia",
   "name": "julia",
   "version": "1.9.2"
  }
 },
 "nbformat": 4,
 "nbformat_minor": 4
}
