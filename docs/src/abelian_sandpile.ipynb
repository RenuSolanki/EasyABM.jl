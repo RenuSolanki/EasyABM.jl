{
 "cells": [
  {
   "cell_type": "markdown",
   "metadata": {},
   "source": [
    "# Abelian Sandpile"
   ]
  },
  {
   "cell_type": "code",
   "execution_count": 1,
   "metadata": {},
   "outputs": [
    {
     "name": "stderr",
     "output_type": "stream",
     "text": [
      "\u001b[32m\u001b[1m  Activating\u001b[22m\u001b[39m project at `~/Documents/EasyABM`\n"
     ]
    },
    {
     "data": {
      "application/vnd.webio.node+json": {
       "children": [],
       "instanceArgs": {
        "namespace": "html",
        "tag": "div"
       },
       "nodeType": "DOM",
       "props": {},
       "type": "node"
      },
      "text/html": [
       "<div style=\"padding: 1em; background-color: #f8d6da; border: 1px solid #f5c6cb; font-weight: bold;\">\n",
       "<p>The WebIO Jupyter extension was not detected. See the\n",
       "<a href=\"https://juliagizmos.github.io/WebIO.jl/latest/providers/ijulia/\" target=\"_blank\">\n",
       "    WebIO Jupyter integration documentation\n",
       "</a>\n",
       "for more information.\n",
       "</div>\n"
      ],
      "text/plain": [
       "WebIO._IJuliaInit()"
      ]
     },
     "metadata": {
      "application/vnd.webio.node+json": {
       "kernelId": "96121b82-0264-4dfe-a77c-77265da645ff"
      }
     },
     "output_type": "display_data"
    }
   ],
   "source": [
    "using Pkg, Revise\n",
    "Pkg.activate(joinpath(@__DIR__, \"../..\"))\n",
    "using EasyABM"
   ]
  },
  {
   "cell_type": "code",
   "execution_count": 2,
   "metadata": {
    "scrolled": true
   },
   "outputs": [
    {
     "data": {
      "text/plain": [
       "EasyABM SpaceModel2D{Static, Int64, NPeriodic}: In a Static model number of agents is fixed.\n"
      ]
     },
     "execution_count": 2,
     "metadata": {},
     "output_type": "execute_result"
    }
   ],
   "source": [
    "model = create_2d_model(size = (50,50), space_type=NPeriodic, threshold = 4)"
   ]
  },
  {
   "cell_type": "code",
   "execution_count": 3,
   "metadata": {},
   "outputs": [
    {
     "data": {
      "text/plain": [
       "Dict{Int64, Col} with 5 entries:\n",
       "  0 => RGBA{N0f8}(1.0,1.0,1.0,1.0)…\n",
       "  4 => RGBA{N0f8}(1.0,0.0,0.0,1.0)…\n",
       "  2 => RGBA{N0f8}(0.0,1.0,0.0,1.0)…\n",
       "  3 => RGBA{N0f8}(1.0,0.651,0.0,1.0)…\n",
       "  1 => RGBA{N0f8}(1.0,1.0,0.0,1.0)…"
      ]
     },
     "execution_count": 3,
     "metadata": {},
     "output_type": "execute_result"
    }
   ],
   "source": [
    "const coldict = Dict(0=>cl\"white\", 1=>cl\"yellow\", 2=>cl\"green\", 3=> cl\"orange\", 4=>cl\"red\")"
   ]
  },
  {
   "cell_type": "code",
   "execution_count": 4,
   "metadata": {},
   "outputs": [],
   "source": [
    "function initialiser!(model)\n",
    "    for j in 1:model.size[2]\n",
    "        for i in 1:model.size[1]\n",
    "            model.patches[i,j].sand = 2\n",
    "            model.patches[i,j].color= coldict[2]\n",
    "        end\n",
    "    end\n",
    "    model.patches[25,25].sand = 2000\n",
    "    model.patches[25,25].color= cl\"blue\"\n",
    "end\n",
    "\n",
    "init_model!(model, initialiser = initialiser!, props_to_record = Dict(\"patches\" => Set([:color,:sand])))"
   ]
  },
  {
   "cell_type": "code",
   "execution_count": 5,
   "metadata": {
    "scrolled": true
   },
   "outputs": [
    {
     "data": {
      "text/plain": [
       "step_rule! (generic function with 1 method)"
      ]
     },
     "execution_count": 5,
     "metadata": {},
     "output_type": "execute_result"
    }
   ],
   "source": [
    "function topple!(patch_loc, model, threshold)\n",
    "    nbr_patch_locs = neighbor_patches_moore(patch_loc, model, 1, dist_func=manhattan_distance)\n",
    "    for p in nbr_patch_locs\n",
    "        pth_patch = model.patches[p...]\n",
    "        sand = pth_patch.sand + 1\n",
    "        pth_patch.sand = sand\n",
    "        pth_patch.color = sand <= 4 ? coldict[sand] : cl\"blue\" \n",
    "    end\n",
    "    patch = model.patches[patch_loc...]\n",
    "    sand = patch.sand-threshold\n",
    "    patch.sand = sand\n",
    "    patch.color = sand <= 4 ? coldict[sand] : cl\"blue\" \n",
    "end\n",
    "\n",
    "function step_rule!(model)\n",
    "    threshold = model.parameters.threshold\n",
    "    for j in 1:model.size[2]\n",
    "        for i in 1:model.size[1]\n",
    "            if model.patches[i,j].sand>=threshold\n",
    "                topple!((i,j),model, threshold)\n",
    "            end\n",
    "        end\n",
    "    end\n",
    "end"
   ]
  },
  {
   "cell_type": "code",
   "execution_count": 6,
   "metadata": {},
   "outputs": [],
   "source": [
    "run_model!(model, steps = 1000, step_rule = step_rule!)"
   ]
  },
  {
   "cell_type": "code",
   "execution_count": 9,
   "metadata": {},
   "outputs": [
    {
     "data": {
      "application/vnd.webio.node+json": {
       "children": [
        {
         "children": [
          {
           "children": [
            {
             "children": [
              {
               "children": [
                {
                 "children": [
                  {
                   "children": [
                    {
                     "children": [
                      "time"
                     ],
                     "instanceArgs": {
                      "namespace": "html",
                      "tag": "label"
                     },
                     "nodeType": "DOM",
                     "props": {
                      "className": "interact ",
                      "style": {
                       "padding": "5px 10px 0px 10px"
                      }
                     },
                     "type": "node"
                    }
                   ],
                   "instanceArgs": {
                    "namespace": "html",
                    "tag": "div"
                   },
                   "nodeType": "DOM",
                   "props": {
                    "className": "interact-flex-row-left"
                   },
                   "type": "node"
                  },
                  {
                   "children": [
                    {
                     "children": [],
                     "instanceArgs": {
                      "namespace": "html",
                      "tag": "input"
                     },
                     "nodeType": "DOM",
                     "props": {
                      "attributes": {
                       "data-bind": "numericValue: index, valueUpdate: 'input', event: {change: function (){this.changes(this.changes()+1)}}",
                       "orient": "horizontal",
                       "type": "range"
                      },
                      "className": "slider slider is-fullwidth",
                      "max": 1001,
                      "min": 1,
                      "step": 1,
                      "style": {}
                     },
                     "type": "node"
                    }
                   ],
                   "instanceArgs": {
                    "namespace": "html",
                    "tag": "div"
                   },
                   "nodeType": "DOM",
                   "props": {
                    "className": "interact-flex-row-center"
                   },
                   "type": "node"
                  },
                  {
                   "children": [
                    {
                     "children": [],
                     "instanceArgs": {
                      "namespace": "html",
                      "tag": "p"
                     },
                     "nodeType": "DOM",
                     "props": {
                      "attributes": {
                       "data-bind": "text: formatted_val"
                      }
                     },
                     "type": "node"
                    }
                   ],
                   "instanceArgs": {
                    "namespace": "html",
                    "tag": "div"
                   },
                   "nodeType": "DOM",
                   "props": {
                    "className": "interact-flex-row-right"
                   },
                   "type": "node"
                  }
                 ],
                 "instanceArgs": {
                  "namespace": "html",
                  "tag": "div"
                 },
                 "nodeType": "DOM",
                 "props": {
                  "className": "interact-flex-row interact-widget"
                 },
                 "type": "node"
                }
               ],
               "instanceArgs": {
                "handlers": {
                 "changes": [
                  "(function (val){return (val!=this.model[\"changes\"]()) ? (this.valueFromJulia[\"changes\"]=true, this.model[\"changes\"](val)) : undefined})"
                 ],
                 "index": [
                  "(function (val){return (val!=this.model[\"index\"]()) ? (this.valueFromJulia[\"index\"]=true, this.model[\"index\"](val)) : undefined})"
                 ]
                },
                "id": "1474386619770564904",
                "imports": {
                 "data": [
                  {
                   "name": "knockout",
                   "type": "js",
                   "url": "/assetserver/727383f2a47bd31570b7da84eee7b022dd6d7c78-knockout.js"
                  },
                  {
                   "name": "knockout_punches",
                   "type": "js",
                   "url": "/assetserver/382b41b3b1bd9f26f75861d360bad7f8beea211f-knockout_punches.js"
                  },
                  {
                   "name": null,
                   "type": "js",
                   "url": "/assetserver/5ab20f1060420992a9b82a65b735dee4d81ef413-all.js"
                  },
                  {
                   "name": null,
                   "type": "css",
                   "url": "/assetserver/1cc0ed62837210b80a182cc3676512f895dab686-style.css"
                  },
                  {
                   "name": null,
                   "type": "css",
                   "url": "/assetserver/2eee816f616df3549d7044d45e744fbf8d42bfa1-bulma_confined.min.css"
                  }
                 ],
                 "type": "async_block"
                },
                "mount_callbacks": [
                 "function () {\n    var handler = (function (ko, koPunches) {\n    ko.punches.enableAll();\n    ko.bindingHandlers.numericValue = {\n        init: function(element, valueAccessor, allBindings, data, context) {\n            var stringified = ko.observable(ko.unwrap(valueAccessor()));\n            stringified.subscribe(function(value) {\n                var val = parseFloat(value);\n                if (!isNaN(val)) {\n                    valueAccessor()(val);\n                }\n            });\n            valueAccessor().subscribe(function(value) {\n                var str = JSON.stringify(value);\n                if ((str == \"0\") && ([\"-0\", \"-0.\"].indexOf(stringified()) >= 0))\n                     return;\n                 if ([\"null\", \"\"].indexOf(str) >= 0)\n                     return;\n                stringified(str);\n            });\n            ko.applyBindingsToNode(\n                element,\n                {\n                    value: stringified,\n                    valueUpdate: allBindings.get('valueUpdate'),\n                },\n                context,\n            );\n        }\n    };\n    var json_data = {\"formatted_vals\":[\"1\",\"2\",\"3\",\"4\",\"5\",\"6\",\"7\",\"8\",\"9\",\"10\",\"11\",\"12\",\"13\",\"14\",\"15\",\"16\",\"17\",\"18\",\"19\",\"20\",\"21\",\"22\",\"23\",\"24\",\"25\",\"26\",\"27\",\"28\",\"29\",\"30\",\"31\",\"32\",\"33\",\"34\",\"35\",\"36\",\"37\",\"38\",\"39\",\"40\",\"41\",\"42\",\"43\",\"44\",\"45\",\"46\",\"47\",\"48\",\"49\",\"50\",\"51\",\"52\",\"53\",\"54\",\"55\",\"56\",\"57\",\"58\",\"59\",\"60\",\"61\",\"62\",\"63\",\"64\",\"65\",\"66\",\"67\",\"68\",\"69\",\"70\",\"71\",\"72\",\"73\",\"74\",\"75\",\"76\",\"77\",\"78\",\"79\",\"80\",\"81\",\"82\",\"83\",\"84\",\"85\",\"86\",\"87\",\"88\",\"89\",\"90\",\"91\",\"92\",\"93\",\"94\",\"95\",\"96\",\"97\",\"98\",\"99\",\"100\",\"101\",\"102\",\"103\",\"104\",\"105\",\"106\",\"107\",\"108\",\"109\",\"110\",\"111\",\"112\",\"113\",\"114\",\"115\",\"116\",\"117\",\"118\",\"119\",\"120\",\"121\",\"122\",\"123\",\"124\",\"125\",\"126\",\"127\",\"128\",\"129\",\"130\",\"131\",\"132\",\"133\",\"134\",\"135\",\"136\",\"137\",\"138\",\"139\",\"140\",\"141\",\"142\",\"143\",\"144\",\"145\",\"146\",\"147\",\"148\",\"149\",\"150\",\"151\",\"152\",\"153\",\"154\",\"155\",\"156\",\"157\",\"158\",\"159\",\"160\",\"161\",\"162\",\"163\",\"164\",\"165\",\"166\",\"167\",\"168\",\"169\",\"170\",\"171\",\"172\",\"173\",\"174\",\"175\",\"176\",\"177\",\"178\",\"179\",\"180\",\"181\",\"182\",\"183\",\"184\",\"185\",\"186\",\"187\",\"188\",\"189\",\"190\",\"191\",\"192\",\"193\",\"194\",\"195\",\"196\",\"197\",\"198\",\"199\",\"200\",\"201\",\"202\",\"203\",\"204\",\"205\",\"206\",\"207\",\"208\",\"209\",\"210\",\"211\",\"212\",\"213\",\"214\",\"215\",\"216\",\"217\",\"218\",\"219\",\"220\",\"221\",\"222\",\"223\",\"224\",\"225\",\"226\",\"227\",\"228\",\"229\",\"230\",\"231\",\"232\",\"233\",\"234\",\"235\",\"236\",\"237\",\"238\",\"239\",\"240\",\"241\",\"242\",\"243\",\"244\",\"245\",\"246\",\"247\",\"248\",\"249\",\"250\",\"251\",\"252\",\"253\",\"254\",\"255\",\"256\",\"257\",\"258\",\"259\",\"260\",\"261\",\"262\",\"263\",\"264\",\"265\",\"266\",\"267\",\"268\",\"269\",\"270\",\"271\",\"272\",\"273\",\"274\",\"275\",\"276\",\"277\",\"278\",\"279\",\"280\",\"281\",\"282\",\"283\",\"284\",\"285\",\"286\",\"287\",\"288\",\"289\",\"290\",\"291\",\"292\",\"293\",\"294\",\"295\",\"296\",\"297\",\"298\",\"299\",\"300\",\"301\",\"302\",\"303\",\"304\",\"305\",\"306\",\"307\",\"308\",\"309\",\"310\",\"311\",\"312\",\"313\",\"314\",\"315\",\"316\",\"317\",\"318\",\"319\",\"320\",\"321\",\"322\",\"323\",\"324\",\"325\",\"326\",\"327\",\"328\",\"329\",\"330\",\"331\",\"332\",\"333\",\"334\",\"335\",\"336\",\"337\",\"338\",\"339\",\"340\",\"341\",\"342\",\"343\",\"344\",\"345\",\"346\",\"347\",\"348\",\"349\",\"350\",\"351\",\"352\",\"353\",\"354\",\"355\",\"356\",\"357\",\"358\",\"359\",\"360\",\"361\",\"362\",\"363\",\"364\",\"365\",\"366\",\"367\",\"368\",\"369\",\"370\",\"371\",\"372\",\"373\",\"374\",\"375\",\"376\",\"377\",\"378\",\"379\",\"380\",\"381\",\"382\",\"383\",\"384\",\"385\",\"386\",\"387\",\"388\",\"389\",\"390\",\"391\",\"392\",\"393\",\"394\",\"395\",\"396\",\"397\",\"398\",\"399\",\"400\",\"401\",\"402\",\"403\",\"404\",\"405\",\"406\",\"407\",\"408\",\"409\",\"410\",\"411\",\"412\",\"413\",\"414\",\"415\",\"416\",\"417\",\"418\",\"419\",\"420\",\"421\",\"422\",\"423\",\"424\",\"425\",\"426\",\"427\",\"428\",\"429\",\"430\",\"431\",\"432\",\"433\",\"434\",\"435\",\"436\",\"437\",\"438\",\"439\",\"440\",\"441\",\"442\",\"443\",\"444\",\"445\",\"446\",\"447\",\"448\",\"449\",\"450\",\"451\",\"452\",\"453\",\"454\",\"455\",\"456\",\"457\",\"458\",\"459\",\"460\",\"461\",\"462\",\"463\",\"464\",\"465\",\"466\",\"467\",\"468\",\"469\",\"470\",\"471\",\"472\",\"473\",\"474\",\"475\",\"476\",\"477\",\"478\",\"479\",\"480\",\"481\",\"482\",\"483\",\"484\",\"485\",\"486\",\"487\",\"488\",\"489\",\"490\",\"491\",\"492\",\"493\",\"494\",\"495\",\"496\",\"497\",\"498\",\"499\",\"500\",\"501\",\"502\",\"503\",\"504\",\"505\",\"506\",\"507\",\"508\",\"509\",\"510\",\"511\",\"512\",\"513\",\"514\",\"515\",\"516\",\"517\",\"518\",\"519\",\"520\",\"521\",\"522\",\"523\",\"524\",\"525\",\"526\",\"527\",\"528\",\"529\",\"530\",\"531\",\"532\",\"533\",\"534\",\"535\",\"536\",\"537\",\"538\",\"539\",\"540\",\"541\",\"542\",\"543\",\"544\",\"545\",\"546\",\"547\",\"548\",\"549\",\"550\",\"551\",\"552\",\"553\",\"554\",\"555\",\"556\",\"557\",\"558\",\"559\",\"560\",\"561\",\"562\",\"563\",\"564\",\"565\",\"566\",\"567\",\"568\",\"569\",\"570\",\"571\",\"572\",\"573\",\"574\",\"575\",\"576\",\"577\",\"578\",\"579\",\"580\",\"581\",\"582\",\"583\",\"584\",\"585\",\"586\",\"587\",\"588\",\"589\",\"590\",\"591\",\"592\",\"593\",\"594\",\"595\",\"596\",\"597\",\"598\",\"599\",\"600\",\"601\",\"602\",\"603\",\"604\",\"605\",\"606\",\"607\",\"608\",\"609\",\"610\",\"611\",\"612\",\"613\",\"614\",\"615\",\"616\",\"617\",\"618\",\"619\",\"620\",\"621\",\"622\",\"623\",\"624\",\"625\",\"626\",\"627\",\"628\",\"629\",\"630\",\"631\",\"632\",\"633\",\"634\",\"635\",\"636\",\"637\",\"638\",\"639\",\"640\",\"641\",\"642\",\"643\",\"644\",\"645\",\"646\",\"647\",\"648\",\"649\",\"650\",\"651\",\"652\",\"653\",\"654\",\"655\",\"656\",\"657\",\"658\",\"659\",\"660\",\"661\",\"662\",\"663\",\"664\",\"665\",\"666\",\"667\",\"668\",\"669\",\"670\",\"671\",\"672\",\"673\",\"674\",\"675\",\"676\",\"677\",\"678\",\"679\",\"680\",\"681\",\"682\",\"683\",\"684\",\"685\",\"686\",\"687\",\"688\",\"689\",\"690\",\"691\",\"692\",\"693\",\"694\",\"695\",\"696\",\"697\",\"698\",\"699\",\"700\",\"701\",\"702\",\"703\",\"704\",\"705\",\"706\",\"707\",\"708\",\"709\",\"710\",\"711\",\"712\",\"713\",\"714\",\"715\",\"716\",\"717\",\"718\",\"719\",\"720\",\"721\",\"722\",\"723\",\"724\",\"725\",\"726\",\"727\",\"728\",\"729\",\"730\",\"731\",\"732\",\"733\",\"734\",\"735\",\"736\",\"737\",\"738\",\"739\",\"740\",\"741\",\"742\",\"743\",\"744\",\"745\",\"746\",\"747\",\"748\",\"749\",\"750\",\"751\",\"752\",\"753\",\"754\",\"755\",\"756\",\"757\",\"758\",\"759\",\"760\",\"761\",\"762\",\"763\",\"764\",\"765\",\"766\",\"767\",\"768\",\"769\",\"770\",\"771\",\"772\",\"773\",\"774\",\"775\",\"776\",\"777\",\"778\",\"779\",\"780\",\"781\",\"782\",\"783\",\"784\",\"785\",\"786\",\"787\",\"788\",\"789\",\"790\",\"791\",\"792\",\"793\",\"794\",\"795\",\"796\",\"797\",\"798\",\"799\",\"800\",\"801\",\"802\",\"803\",\"804\",\"805\",\"806\",\"807\",\"808\",\"809\",\"810\",\"811\",\"812\",\"813\",\"814\",\"815\",\"816\",\"817\",\"818\",\"819\",\"820\",\"821\",\"822\",\"823\",\"824\",\"825\",\"826\",\"827\",\"828\",\"829\",\"830\",\"831\",\"832\",\"833\",\"834\",\"835\",\"836\",\"837\",\"838\",\"839\",\"840\",\"841\",\"842\",\"843\",\"844\",\"845\",\"846\",\"847\",\"848\",\"849\",\"850\",\"851\",\"852\",\"853\",\"854\",\"855\",\"856\",\"857\",\"858\",\"859\",\"860\",\"861\",\"862\",\"863\",\"864\",\"865\",\"866\",\"867\",\"868\",\"869\",\"870\",\"871\",\"872\",\"873\",\"874\",\"875\",\"876\",\"877\",\"878\",\"879\",\"880\",\"881\",\"882\",\"883\",\"884\",\"885\",\"886\",\"887\",\"888\",\"889\",\"890\",\"891\",\"892\",\"893\",\"894\",\"895\",\"896\",\"897\",\"898\",\"899\",\"900\",\"901\",\"902\",\"903\",\"904\",\"905\",\"906\",\"907\",\"908\",\"909\",\"910\",\"911\",\"912\",\"913\",\"914\",\"915\",\"916\",\"917\",\"918\",\"919\",\"920\",\"921\",\"922\",\"923\",\"924\",\"925\",\"926\",\"927\",\"928\",\"929\",\"930\",\"931\",\"932\",\"933\",\"934\",\"935\",\"936\",\"937\",\"938\",\"939\",\"940\",\"941\",\"942\",\"943\",\"944\",\"945\",\"946\",\"947\",\"948\",\"949\",\"950\",\"951\",\"952\",\"953\",\"954\",\"955\",\"956\",\"957\",\"958\",\"959\",\"960\",\"961\",\"962\",\"963\",\"964\",\"965\",\"966\",\"967\",\"968\",\"969\",\"970\",\"971\",\"972\",\"973\",\"974\",\"975\",\"976\",\"977\",\"978\",\"979\",\"980\",\"981\",\"982\",\"983\",\"984\",\"985\",\"986\",\"987\",\"988\",\"989\",\"990\",\"991\",\"992\",\"993\",\"994\",\"995\",\"996\",\"997\",\"998\",\"999\",\"1000\",\"1001\"],\"changes\":WebIO.getval({\"name\":\"changes\",\"scope\":\"1474386619770564904\",\"id\":\"7691619573216243698\",\"type\":\"observable\"}),\"index\":WebIO.getval({\"name\":\"index\",\"scope\":\"1474386619770564904\",\"id\":\"8360399954221392187\",\"type\":\"observable\"})};\n    var self = this;\n    function AppViewModel() {\n        for (var key in json_data) {\n            var el = json_data[key];\n            this[key] = Array.isArray(el) ? ko.observableArray(el) : ko.observable(el);\n        }\n        \n        [this[\"formatted_val\"]=ko.computed(    function(){\n        return this.formatted_vals()[parseInt(this.index())-(1)];\n    }\n,this)]\n        [this[\"changes\"].subscribe((function (val){!(this.valueFromJulia[\"changes\"]) ? (WebIO.setval({\"name\":\"changes\",\"scope\":\"1474386619770564904\",\"id\":\"7691619573216243698\",\"type\":\"observable\"},val)) : undefined; return this.valueFromJulia[\"changes\"]=false}),self),this[\"index\"].subscribe((function (val){!(this.valueFromJulia[\"index\"]) ? (WebIO.setval({\"name\":\"index\",\"scope\":\"1474386619770564904\",\"id\":\"8360399954221392187\",\"type\":\"observable\"},val)) : undefined; return this.valueFromJulia[\"index\"]=false}),self)]\n        \n    }\n    self.model = new AppViewModel();\n    self.valueFromJulia = {};\n    for (var key in json_data) {\n        self.valueFromJulia[key] = false;\n    }\n    ko.applyBindings(self.model, self.dom);\n}\n);\n    (WebIO.importBlock({\"data\":[{\"name\":\"knockout\",\"type\":\"js\",\"url\":\"/assetserver/727383f2a47bd31570b7da84eee7b022dd6d7c78-knockout.js\"},{\"name\":\"knockout_punches\",\"type\":\"js\",\"url\":\"/assetserver/382b41b3b1bd9f26f75861d360bad7f8beea211f-knockout_punches.js\"}],\"type\":\"async_block\"})).then((imports) => handler.apply(this, imports));\n}\n"
                ],
                "observables": {
                 "changes": {
                  "id": "7691619573216243698",
                  "sync": false,
                  "value": 0
                 },
                 "index": {
                  "id": "8360399954221392187",
                  "sync": true,
                  "value": 501
                 }
                },
                "systemjs_options": null
               },
               "nodeType": "Scope",
               "props": {},
               "type": "node"
              }
             ],
             "instanceArgs": {
              "namespace": "html",
              "tag": "div"
             },
             "nodeType": "DOM",
             "props": {
              "className": "field interact-widget"
             },
             "type": "node"
            },
            {
             "children": [
              {
               "children": [
                {
                 "children": [
                  {
                   "children": [
                    {
                     "children": [
                      "scale"
                     ],
                     "instanceArgs": {
                      "namespace": "html",
                      "tag": "label"
                     },
                     "nodeType": "DOM",
                     "props": {
                      "className": "interact ",
                      "style": {
                       "padding": "5px 10px 0px 10px"
                      }
                     },
                     "type": "node"
                    }
                   ],
                   "instanceArgs": {
                    "namespace": "html",
                    "tag": "div"
                   },
                   "nodeType": "DOM",
                   "props": {
                    "className": "interact-flex-row-left"
                   },
                   "type": "node"
                  },
                  {
                   "children": [
                    {
                     "children": [],
                     "instanceArgs": {
                      "namespace": "html",
                      "tag": "input"
                     },
                     "nodeType": "DOM",
                     "props": {
                      "attributes": {
                       "data-bind": "numericValue: index, valueUpdate: 'input', event: {change: function (){this.changes(this.changes()+1)}}",
                       "orient": "horizontal",
                       "type": "range"
                      },
                      "className": "slider slider is-fullwidth",
                      "max": 20,
                      "min": 1,
                      "step": 1,
                      "style": {}
                     },
                     "type": "node"
                    }
                   ],
                   "instanceArgs": {
                    "namespace": "html",
                    "tag": "div"
                   },
                   "nodeType": "DOM",
                   "props": {
                    "className": "interact-flex-row-center"
                   },
                   "type": "node"
                  },
                  {
                   "children": [
                    {
                     "children": [],
                     "instanceArgs": {
                      "namespace": "html",
                      "tag": "p"
                     },
                     "nodeType": "DOM",
                     "props": {
                      "attributes": {
                       "data-bind": "text: formatted_val"
                      }
                     },
                     "type": "node"
                    }
                   ],
                   "instanceArgs": {
                    "namespace": "html",
                    "tag": "div"
                   },
                   "nodeType": "DOM",
                   "props": {
                    "className": "interact-flex-row-right"
                   },
                   "type": "node"
                  }
                 ],
                 "instanceArgs": {
                  "namespace": "html",
                  "tag": "div"
                 },
                 "nodeType": "DOM",
                 "props": {
                  "className": "interact-flex-row interact-widget"
                 },
                 "type": "node"
                }
               ],
               "instanceArgs": {
                "handlers": {
                 "changes": [
                  "(function (val){return (val!=this.model[\"changes\"]()) ? (this.valueFromJulia[\"changes\"]=true, this.model[\"changes\"](val)) : undefined})"
                 ],
                 "index": [
                  "(function (val){return (val!=this.model[\"index\"]()) ? (this.valueFromJulia[\"index\"]=true, this.model[\"index\"](val)) : undefined})"
                 ]
                },
                "id": "1421285673893697983",
                "imports": {
                 "data": [
                  {
                   "name": "knockout",
                   "type": "js",
                   "url": "/assetserver/727383f2a47bd31570b7da84eee7b022dd6d7c78-knockout.js"
                  },
                  {
                   "name": "knockout_punches",
                   "type": "js",
                   "url": "/assetserver/382b41b3b1bd9f26f75861d360bad7f8beea211f-knockout_punches.js"
                  },
                  {
                   "name": null,
                   "type": "js",
                   "url": "/assetserver/5ab20f1060420992a9b82a65b735dee4d81ef413-all.js"
                  },
                  {
                   "name": null,
                   "type": "css",
                   "url": "/assetserver/1cc0ed62837210b80a182cc3676512f895dab686-style.css"
                  },
                  {
                   "name": null,
                   "type": "css",
                   "url": "/assetserver/2eee816f616df3549d7044d45e744fbf8d42bfa1-bulma_confined.min.css"
                  }
                 ],
                 "type": "async_block"
                },
                "mount_callbacks": [
                 "function () {\n    var handler = (function (ko, koPunches) {\n    ko.punches.enableAll();\n    ko.bindingHandlers.numericValue = {\n        init: function(element, valueAccessor, allBindings, data, context) {\n            var stringified = ko.observable(ko.unwrap(valueAccessor()));\n            stringified.subscribe(function(value) {\n                var val = parseFloat(value);\n                if (!isNaN(val)) {\n                    valueAccessor()(val);\n                }\n            });\n            valueAccessor().subscribe(function(value) {\n                var str = JSON.stringify(value);\n                if ((str == \"0\") && ([\"-0\", \"-0.\"].indexOf(stringified()) >= 0))\n                     return;\n                 if ([\"null\", \"\"].indexOf(str) >= 0)\n                     return;\n                stringified(str);\n            });\n            ko.applyBindingsToNode(\n                element,\n                {\n                    value: stringified,\n                    valueUpdate: allBindings.get('valueUpdate'),\n                },\n                context,\n            );\n        }\n    };\n    var json_data = {\"formatted_vals\":[\"0.1\",\"0.2\",\"0.3\",\"0.4\",\"0.5\",\"0.6\",\"0.7\",\"0.8\",\"0.9\",\"1.0\",\"1.1\",\"1.2\",\"1.3\",\"1.4\",\"1.5\",\"1.6\",\"1.7\",\"1.8\",\"1.9\",\"2.0\"],\"changes\":WebIO.getval({\"name\":\"changes\",\"scope\":\"1421285673893697983\",\"id\":\"17624351634468925850\",\"type\":\"observable\"}),\"index\":WebIO.getval({\"name\":\"index\",\"scope\":\"1421285673893697983\",\"id\":\"11807532585786603845\",\"type\":\"observable\"})};\n    var self = this;\n    function AppViewModel() {\n        for (var key in json_data) {\n            var el = json_data[key];\n            this[key] = Array.isArray(el) ? ko.observableArray(el) : ko.observable(el);\n        }\n        \n        [this[\"formatted_val\"]=ko.computed(    function(){\n        return this.formatted_vals()[parseInt(this.index())-(1)];\n    }\n,this)]\n        [this[\"changes\"].subscribe((function (val){!(this.valueFromJulia[\"changes\"]) ? (WebIO.setval({\"name\":\"changes\",\"scope\":\"1421285673893697983\",\"id\":\"17624351634468925850\",\"type\":\"observable\"},val)) : undefined; return this.valueFromJulia[\"changes\"]=false}),self),this[\"index\"].subscribe((function (val){!(this.valueFromJulia[\"index\"]) ? (WebIO.setval({\"name\":\"index\",\"scope\":\"1421285673893697983\",\"id\":\"11807532585786603845\",\"type\":\"observable\"},val)) : undefined; return this.valueFromJulia[\"index\"]=false}),self)]\n        \n    }\n    self.model = new AppViewModel();\n    self.valueFromJulia = {};\n    for (var key in json_data) {\n        self.valueFromJulia[key] = false;\n    }\n    ko.applyBindings(self.model, self.dom);\n}\n);\n    (WebIO.importBlock({\"data\":[{\"name\":\"knockout\",\"type\":\"js\",\"url\":\"/assetserver/727383f2a47bd31570b7da84eee7b022dd6d7c78-knockout.js\"},{\"name\":\"knockout_punches\",\"type\":\"js\",\"url\":\"/assetserver/382b41b3b1bd9f26f75861d360bad7f8beea211f-knockout_punches.js\"}],\"type\":\"async_block\"})).then((imports) => handler.apply(this, imports));\n}\n"
                ],
                "observables": {
                 "changes": {
                  "id": "17624351634468925850",
                  "sync": false,
                  "value": 0
                 },
                 "index": {
                  "id": "11807532585786603845",
                  "sync": true,
                  "value": 10
                 }
                },
                "systemjs_options": null
               },
               "nodeType": "Scope",
               "props": {},
               "type": "node"
              }
             ],
             "instanceArgs": {
              "namespace": "html",
              "tag": "div"
             },
             "nodeType": "DOM",
             "props": {
              "className": "field interact-widget"
             },
             "type": "node"
            },
            {
             "children": [
              {
               "children": [
                {
                 "children": [
                  {
                   "children": [],
                   "instanceArgs": {
                    "namespace": "html",
                    "tag": "div"
                   },
                   "nodeType": "DOM",
                   "props": {
                    "id": "container"
                   },
                   "type": "node"
                  }
                 ],
                 "instanceArgs": {
                  "handlers": {
                   "value": [
                    "(function (txt){return this.k.render(txt,this.container)})"
                   ]
                  },
                  "id": "11753068416811828953",
                  "imports": {
                   "data": [
                    {
                     "name": null,
                     "type": "js",
                     "url": "/assetserver/dd22ed1bf1896c2748f3fe616ce0b838adc895c1-katex.min.js"
                    },
                    {
                     "name": null,
                     "type": "css",
                     "url": "/assetserver/46517a424aa5e6cffc1360d7e0848b601c584ee3-katex.min.css"
                    }
                   ],
                   "type": "async_block"
                  },
                  "mount_callbacks": [
                   "function () {\n    var handler = ((function (k){this.k=k; this.container=this.dom.querySelector(\"#container\"); return k.render(\"\\\\;\\\\;\",this.container)}));\n    (WebIO.importBlock({\"data\":[{\"name\":null,\"type\":\"js\",\"url\":\"/assetserver/dd22ed1bf1896c2748f3fe616ce0b838adc895c1-katex.min.js\"},{\"name\":null,\"type\":\"css\",\"url\":\"/assetserver/46517a424aa5e6cffc1360d7e0848b601c584ee3-katex.min.css\"}],\"type\":\"async_block\"})).then((imports) => handler.apply(this, imports));\n}\n"
                  ],
                  "observables": {
                   "value": {
                    "id": "14391299206161683759",
                    "sync": false,
                    "value": "\\;\\;"
                   }
                  },
                  "systemjs_options": null
                 },
                 "nodeType": "Scope",
                 "props": {},
                 "type": "node"
                }
               ],
               "instanceArgs": {
                "namespace": "html",
                "tag": "div"
               },
               "nodeType": "DOM",
               "props": {
                "className": "interact-widget"
               },
               "type": "node"
              },
              {
               "children": [
                {
                 "children": [
                  {
                   "children": [
                    "run"
                   ],
                   "instanceArgs": {
                    "namespace": "html",
                    "tag": "button"
                   },
                   "nodeType": "DOM",
                   "props": {
                    "attributes": {
                     "data-bind": "click: function (){this.clicks(this.clicks()+1)}, css: {'is-loading' : loading}"
                    },
                    "className": "is-medium button is-primary",
                    "style": {}
                   },
                   "type": "node"
                  }
                 ],
                 "instanceArgs": {
                  "handlers": {
                   "clicks": [
                    "(function (val){return (val!=this.model[\"clicks\"]()) ? (this.valueFromJulia[\"clicks\"]=true, this.model[\"clicks\"](val)) : undefined})"
                   ],
                   "loading": [
                    "(function (val){return (val!=this.model[\"loading\"]()) ? (this.valueFromJulia[\"loading\"]=true, this.model[\"loading\"](val)) : undefined})"
                   ]
                  },
                  "id": "2828908809056366846",
                  "imports": {
                   "data": [
                    {
                     "name": "knockout",
                     "type": "js",
                     "url": "/assetserver/727383f2a47bd31570b7da84eee7b022dd6d7c78-knockout.js"
                    },
                    {
                     "name": "knockout_punches",
                     "type": "js",
                     "url": "/assetserver/382b41b3b1bd9f26f75861d360bad7f8beea211f-knockout_punches.js"
                    },
                    {
                     "name": null,
                     "type": "js",
                     "url": "/assetserver/5ab20f1060420992a9b82a65b735dee4d81ef413-all.js"
                    },
                    {
                     "name": null,
                     "type": "css",
                     "url": "/assetserver/1cc0ed62837210b80a182cc3676512f895dab686-style.css"
                    },
                    {
                     "name": null,
                     "type": "css",
                     "url": "/assetserver/2eee816f616df3549d7044d45e744fbf8d42bfa1-bulma_confined.min.css"
                    }
                   ],
                   "type": "async_block"
                  },
                  "mount_callbacks": [
                   "function () {\n    var handler = (function (ko, koPunches) {\n    ko.punches.enableAll();\n    ko.bindingHandlers.numericValue = {\n        init: function(element, valueAccessor, allBindings, data, context) {\n            var stringified = ko.observable(ko.unwrap(valueAccessor()));\n            stringified.subscribe(function(value) {\n                var val = parseFloat(value);\n                if (!isNaN(val)) {\n                    valueAccessor()(val);\n                }\n            });\n            valueAccessor().subscribe(function(value) {\n                var str = JSON.stringify(value);\n                if ((str == \"0\") && ([\"-0\", \"-0.\"].indexOf(stringified()) >= 0))\n                     return;\n                 if ([\"null\", \"\"].indexOf(str) >= 0)\n                     return;\n                stringified(str);\n            });\n            ko.applyBindingsToNode(\n                element,\n                {\n                    value: stringified,\n                    valueUpdate: allBindings.get('valueUpdate'),\n                },\n                context,\n            );\n        }\n    };\n    var json_data = {\"loading\":WebIO.getval({\"name\":\"loading\",\"scope\":\"2828908809056366846\",\"id\":\"10419506962975309422\",\"type\":\"observable\"}),\"clicks\":WebIO.getval({\"name\":\"clicks\",\"scope\":\"2828908809056366846\",\"id\":\"14498333991527608046\",\"type\":\"observable\"})};\n    var self = this;\n    function AppViewModel() {\n        for (var key in json_data) {\n            var el = json_data[key];\n            this[key] = Array.isArray(el) ? ko.observableArray(el) : ko.observable(el);\n        }\n        \n        \n        [this[\"loading\"].subscribe((function (val){!(this.valueFromJulia[\"loading\"]) ? (WebIO.setval({\"name\":\"loading\",\"scope\":\"2828908809056366846\",\"id\":\"10419506962975309422\",\"type\":\"observable\"},val)) : undefined; return this.valueFromJulia[\"loading\"]=false}),self),this[\"clicks\"].subscribe((function (val){!(this.valueFromJulia[\"clicks\"]) ? (WebIO.setval({\"name\":\"clicks\",\"scope\":\"2828908809056366846\",\"id\":\"14498333991527608046\",\"type\":\"observable\"},val)) : undefined; return this.valueFromJulia[\"clicks\"]=false}),self)]\n        \n    }\n    self.model = new AppViewModel();\n    self.valueFromJulia = {};\n    for (var key in json_data) {\n        self.valueFromJulia[key] = false;\n    }\n    ko.applyBindings(self.model, self.dom);\n}\n);\n    (WebIO.importBlock({\"data\":[{\"name\":\"knockout\",\"type\":\"js\",\"url\":\"/assetserver/727383f2a47bd31570b7da84eee7b022dd6d7c78-knockout.js\"},{\"name\":\"knockout_punches\",\"type\":\"js\",\"url\":\"/assetserver/382b41b3b1bd9f26f75861d360bad7f8beea211f-knockout_punches.js\"}],\"type\":\"async_block\"})).then((imports) => handler.apply(this, imports));\n}\n"
                  ],
                  "observables": {
                   "clicks": {
                    "id": "14498333991527608046",
                    "sync": true,
                    "value": 0
                   },
                   "loading": {
                    "id": "10419506962975309422",
                    "sync": false,
                    "value": false
                   }
                  },
                  "systemjs_options": null
                 },
                 "nodeType": "Scope",
                 "props": {},
                 "type": "node"
                }
               ],
               "instanceArgs": {
                "namespace": "html",
                "tag": "div"
               },
               "nodeType": "DOM",
               "props": {
                "className": "field interact-widget"
               },
               "type": "node"
              },
              {
               "children": [
                {
                 "children": [
                  {
                   "children": [],
                   "instanceArgs": {
                    "namespace": "html",
                    "tag": "div"
                   },
                   "nodeType": "DOM",
                   "props": {
                    "id": "container"
                   },
                   "type": "node"
                  }
                 ],
                 "instanceArgs": {
                  "handlers": {
                   "value": [
                    "(function (txt){return this.k.render(txt,this.container)})"
                   ]
                  },
                  "id": "11753068416811828953",
                  "imports": {
                   "data": [
                    {
                     "name": null,
                     "type": "js",
                     "url": "/assetserver/dd22ed1bf1896c2748f3fe616ce0b838adc895c1-katex.min.js"
                    },
                    {
                     "name": null,
                     "type": "css",
                     "url": "/assetserver/46517a424aa5e6cffc1360d7e0848b601c584ee3-katex.min.css"
                    }
                   ],
                   "type": "async_block"
                  },
                  "mount_callbacks": [
                   "function () {\n    var handler = ((function (k){this.k=k; this.container=this.dom.querySelector(\"#container\"); return k.render(\"\\\\;\\\\;\",this.container)}));\n    (WebIO.importBlock({\"data\":[{\"name\":null,\"type\":\"js\",\"url\":\"/assetserver/dd22ed1bf1896c2748f3fe616ce0b838adc895c1-katex.min.js\"},{\"name\":null,\"type\":\"css\",\"url\":\"/assetserver/46517a424aa5e6cffc1360d7e0848b601c584ee3-katex.min.css\"}],\"type\":\"async_block\"})).then((imports) => handler.apply(this, imports));\n}\n"
                  ],
                  "observables": {
                   "value": {
                    "id": "14391299206161683759",
                    "sync": false,
                    "value": "\\;\\;"
                   }
                  },
                  "systemjs_options": null
                 },
                 "nodeType": "Scope",
                 "props": {},
                 "type": "node"
                }
               ],
               "instanceArgs": {
                "namespace": "html",
                "tag": "div"
               },
               "nodeType": "DOM",
               "props": {
                "className": "interact-widget"
               },
               "type": "node"
              },
              {
               "children": [
                {
                 "children": [
                  {
                   "children": [
                    "stop"
                   ],
                   "instanceArgs": {
                    "namespace": "html",
                    "tag": "button"
                   },
                   "nodeType": "DOM",
                   "props": {
                    "attributes": {
                     "data-bind": "click: function (){this.clicks(this.clicks()+1)}, css: {'is-loading' : loading}"
                    },
                    "className": "is-medium button is-primary",
                    "style": {}
                   },
                   "type": "node"
                  }
                 ],
                 "instanceArgs": {
                  "handlers": {
                   "clicks": [
                    "(function (val){return (val!=this.model[\"clicks\"]()) ? (this.valueFromJulia[\"clicks\"]=true, this.model[\"clicks\"](val)) : undefined})"
                   ],
                   "loading": [
                    "(function (val){return (val!=this.model[\"loading\"]()) ? (this.valueFromJulia[\"loading\"]=true, this.model[\"loading\"](val)) : undefined})"
                   ]
                  },
                  "id": "13426226197755128741",
                  "imports": {
                   "data": [
                    {
                     "name": "knockout",
                     "type": "js",
                     "url": "/assetserver/727383f2a47bd31570b7da84eee7b022dd6d7c78-knockout.js"
                    },
                    {
                     "name": "knockout_punches",
                     "type": "js",
                     "url": "/assetserver/382b41b3b1bd9f26f75861d360bad7f8beea211f-knockout_punches.js"
                    },
                    {
                     "name": null,
                     "type": "js",
                     "url": "/assetserver/5ab20f1060420992a9b82a65b735dee4d81ef413-all.js"
                    },
                    {
                     "name": null,
                     "type": "css",
                     "url": "/assetserver/1cc0ed62837210b80a182cc3676512f895dab686-style.css"
                    },
                    {
                     "name": null,
                     "type": "css",
                     "url": "/assetserver/2eee816f616df3549d7044d45e744fbf8d42bfa1-bulma_confined.min.css"
                    }
                   ],
                   "type": "async_block"
                  },
                  "mount_callbacks": [
                   "function () {\n    var handler = (function (ko, koPunches) {\n    ko.punches.enableAll();\n    ko.bindingHandlers.numericValue = {\n        init: function(element, valueAccessor, allBindings, data, context) {\n            var stringified = ko.observable(ko.unwrap(valueAccessor()));\n            stringified.subscribe(function(value) {\n                var val = parseFloat(value);\n                if (!isNaN(val)) {\n                    valueAccessor()(val);\n                }\n            });\n            valueAccessor().subscribe(function(value) {\n                var str = JSON.stringify(value);\n                if ((str == \"0\") && ([\"-0\", \"-0.\"].indexOf(stringified()) >= 0))\n                     return;\n                 if ([\"null\", \"\"].indexOf(str) >= 0)\n                     return;\n                stringified(str);\n            });\n            ko.applyBindingsToNode(\n                element,\n                {\n                    value: stringified,\n                    valueUpdate: allBindings.get('valueUpdate'),\n                },\n                context,\n            );\n        }\n    };\n    var json_data = {\"loading\":WebIO.getval({\"name\":\"loading\",\"scope\":\"13426226197755128741\",\"id\":\"13097690424958637112\",\"type\":\"observable\"}),\"clicks\":WebIO.getval({\"name\":\"clicks\",\"scope\":\"13426226197755128741\",\"id\":\"15646165880896830937\",\"type\":\"observable\"})};\n    var self = this;\n    function AppViewModel() {\n        for (var key in json_data) {\n            var el = json_data[key];\n            this[key] = Array.isArray(el) ? ko.observableArray(el) : ko.observable(el);\n        }\n        \n        \n        [this[\"loading\"].subscribe((function (val){!(this.valueFromJulia[\"loading\"]) ? (WebIO.setval({\"name\":\"loading\",\"scope\":\"13426226197755128741\",\"id\":\"13097690424958637112\",\"type\":\"observable\"},val)) : undefined; return this.valueFromJulia[\"loading\"]=false}),self),this[\"clicks\"].subscribe((function (val){!(this.valueFromJulia[\"clicks\"]) ? (WebIO.setval({\"name\":\"clicks\",\"scope\":\"13426226197755128741\",\"id\":\"15646165880896830937\",\"type\":\"observable\"},val)) : undefined; return this.valueFromJulia[\"clicks\"]=false}),self)]\n        \n    }\n    self.model = new AppViewModel();\n    self.valueFromJulia = {};\n    for (var key in json_data) {\n        self.valueFromJulia[key] = false;\n    }\n    ko.applyBindings(self.model, self.dom);\n}\n);\n    (WebIO.importBlock({\"data\":[{\"name\":\"knockout\",\"type\":\"js\",\"url\":\"/assetserver/727383f2a47bd31570b7da84eee7b022dd6d7c78-knockout.js\"},{\"name\":\"knockout_punches\",\"type\":\"js\",\"url\":\"/assetserver/382b41b3b1bd9f26f75861d360bad7f8beea211f-knockout_punches.js\"}],\"type\":\"async_block\"})).then((imports) => handler.apply(this, imports));\n}\n"
                  ],
                  "observables": {
                   "clicks": {
                    "id": "15646165880896830937",
                    "sync": true,
                    "value": 0
                   },
                   "loading": {
                    "id": "13097690424958637112",
                    "sync": false,
                    "value": false
                   }
                  },
                  "systemjs_options": null
                 },
                 "nodeType": "Scope",
                 "props": {},
                 "type": "node"
                }
               ],
               "instanceArgs": {
                "namespace": "html",
                "tag": "div"
               },
               "nodeType": "DOM",
               "props": {
                "className": "field interact-widget"
               },
               "type": "node"
              },
              {
               "children": [
                {
                 "children": [
                  {
                   "children": [],
                   "instanceArgs": {
                    "namespace": "html",
                    "tag": "div"
                   },
                   "nodeType": "DOM",
                   "props": {
                    "id": "container"
                   },
                   "type": "node"
                  }
                 ],
                 "instanceArgs": {
                  "handlers": {
                   "value": [
                    "(function (txt){return this.k.render(txt,this.container)})"
                   ]
                  },
                  "id": "11753068416811828953",
                  "imports": {
                   "data": [
                    {
                     "name": null,
                     "type": "js",
                     "url": "/assetserver/dd22ed1bf1896c2748f3fe616ce0b838adc895c1-katex.min.js"
                    },
                    {
                     "name": null,
                     "type": "css",
                     "url": "/assetserver/46517a424aa5e6cffc1360d7e0848b601c584ee3-katex.min.css"
                    }
                   ],
                   "type": "async_block"
                  },
                  "mount_callbacks": [
                   "function () {\n    var handler = ((function (k){this.k=k; this.container=this.dom.querySelector(\"#container\"); return k.render(\"\\\\;\\\\;\",this.container)}));\n    (WebIO.importBlock({\"data\":[{\"name\":null,\"type\":\"js\",\"url\":\"/assetserver/dd22ed1bf1896c2748f3fe616ce0b838adc895c1-katex.min.js\"},{\"name\":null,\"type\":\"css\",\"url\":\"/assetserver/46517a424aa5e6cffc1360d7e0848b601c584ee3-katex.min.css\"}],\"type\":\"async_block\"})).then((imports) => handler.apply(this, imports));\n}\n"
                  ],
                  "observables": {
                   "value": {
                    "id": "14391299206161683759",
                    "sync": false,
                    "value": "\\;\\;"
                   }
                  },
                  "systemjs_options": null
                 },
                 "nodeType": "Scope",
                 "props": {},
                 "type": "node"
                }
               ],
               "instanceArgs": {
                "namespace": "html",
                "tag": "div"
               },
               "nodeType": "DOM",
               "props": {
                "className": "interact-widget"
               },
               "type": "node"
              },
              {
               "children": [
                {
                 "children": [
                  {
                   "children": [
                    "save"
                   ],
                   "instanceArgs": {
                    "namespace": "html",
                    "tag": "button"
                   },
                   "nodeType": "DOM",
                   "props": {
                    "attributes": {
                     "data-bind": "click: function (){this.clicks(this.clicks()+1)}, css: {'is-loading' : loading}"
                    },
                    "className": "is-medium button is-primary",
                    "style": {}
                   },
                   "type": "node"
                  }
                 ],
                 "instanceArgs": {
                  "handlers": {
                   "clicks": [
                    "(function (val){return (val!=this.model[\"clicks\"]()) ? (this.valueFromJulia[\"clicks\"]=true, this.model[\"clicks\"](val)) : undefined})"
                   ],
                   "loading": [
                    "(function (val){return (val!=this.model[\"loading\"]()) ? (this.valueFromJulia[\"loading\"]=true, this.model[\"loading\"](val)) : undefined})"
                   ]
                  },
                  "id": "14672287766722826383",
                  "imports": {
                   "data": [
                    {
                     "name": "knockout",
                     "type": "js",
                     "url": "/assetserver/727383f2a47bd31570b7da84eee7b022dd6d7c78-knockout.js"
                    },
                    {
                     "name": "knockout_punches",
                     "type": "js",
                     "url": "/assetserver/382b41b3b1bd9f26f75861d360bad7f8beea211f-knockout_punches.js"
                    },
                    {
                     "name": null,
                     "type": "js",
                     "url": "/assetserver/5ab20f1060420992a9b82a65b735dee4d81ef413-all.js"
                    },
                    {
                     "name": null,
                     "type": "css",
                     "url": "/assetserver/1cc0ed62837210b80a182cc3676512f895dab686-style.css"
                    },
                    {
                     "name": null,
                     "type": "css",
                     "url": "/assetserver/2eee816f616df3549d7044d45e744fbf8d42bfa1-bulma_confined.min.css"
                    }
                   ],
                   "type": "async_block"
                  },
                  "mount_callbacks": [
                   "function () {\n    var handler = (function (ko, koPunches) {\n    ko.punches.enableAll();\n    ko.bindingHandlers.numericValue = {\n        init: function(element, valueAccessor, allBindings, data, context) {\n            var stringified = ko.observable(ko.unwrap(valueAccessor()));\n            stringified.subscribe(function(value) {\n                var val = parseFloat(value);\n                if (!isNaN(val)) {\n                    valueAccessor()(val);\n                }\n            });\n            valueAccessor().subscribe(function(value) {\n                var str = JSON.stringify(value);\n                if ((str == \"0\") && ([\"-0\", \"-0.\"].indexOf(stringified()) >= 0))\n                     return;\n                 if ([\"null\", \"\"].indexOf(str) >= 0)\n                     return;\n                stringified(str);\n            });\n            ko.applyBindingsToNode(\n                element,\n                {\n                    value: stringified,\n                    valueUpdate: allBindings.get('valueUpdate'),\n                },\n                context,\n            );\n        }\n    };\n    var json_data = {\"loading\":WebIO.getval({\"name\":\"loading\",\"scope\":\"14672287766722826383\",\"id\":\"14427644067593070461\",\"type\":\"observable\"}),\"clicks\":WebIO.getval({\"name\":\"clicks\",\"scope\":\"14672287766722826383\",\"id\":\"17965976049674500974\",\"type\":\"observable\"})};\n    var self = this;\n    function AppViewModel() {\n        for (var key in json_data) {\n            var el = json_data[key];\n            this[key] = Array.isArray(el) ? ko.observableArray(el) : ko.observable(el);\n        }\n        \n        \n        [this[\"loading\"].subscribe((function (val){!(this.valueFromJulia[\"loading\"]) ? (WebIO.setval({\"name\":\"loading\",\"scope\":\"14672287766722826383\",\"id\":\"14427644067593070461\",\"type\":\"observable\"},val)) : undefined; return this.valueFromJulia[\"loading\"]=false}),self),this[\"clicks\"].subscribe((function (val){!(this.valueFromJulia[\"clicks\"]) ? (WebIO.setval({\"name\":\"clicks\",\"scope\":\"14672287766722826383\",\"id\":\"17965976049674500974\",\"type\":\"observable\"},val)) : undefined; return this.valueFromJulia[\"clicks\"]=false}),self)]\n        \n    }\n    self.model = new AppViewModel();\n    self.valueFromJulia = {};\n    for (var key in json_data) {\n        self.valueFromJulia[key] = false;\n    }\n    ko.applyBindings(self.model, self.dom);\n}\n);\n    (WebIO.importBlock({\"data\":[{\"name\":\"knockout\",\"type\":\"js\",\"url\":\"/assetserver/727383f2a47bd31570b7da84eee7b022dd6d7c78-knockout.js\"},{\"name\":\"knockout_punches\",\"type\":\"js\",\"url\":\"/assetserver/382b41b3b1bd9f26f75861d360bad7f8beea211f-knockout_punches.js\"}],\"type\":\"async_block\"})).then((imports) => handler.apply(this, imports));\n}\n"
                  ],
                  "observables": {
                   "clicks": {
                    "id": "17965976049674500974",
                    "sync": true,
                    "value": 0
                   },
                   "loading": {
                    "id": "14427644067593070461",
                    "sync": false,
                    "value": false
                   }
                  },
                  "systemjs_options": null
                 },
                 "nodeType": "Scope",
                 "props": {},
                 "type": "node"
                }
               ],
               "instanceArgs": {
                "namespace": "html",
                "tag": "div"
               },
               "nodeType": "DOM",
               "props": {
                "className": "field interact-widget"
               },
               "type": "node"
              }
             ],
             "instanceArgs": {
              "namespace": "html",
              "tag": "div"
             },
             "nodeType": "DOM",
             "props": {
              "style": {
               "display": "flex",
               "flex-direction": "row"
              }
             },
             "type": "node"
            }
           ],
           "instanceArgs": {
            "namespace": "html",
            "tag": "div"
           },
           "nodeType": "DOM",
           "props": {
            "style": {
             "display": "flex",
             "flex-direction": "column"
            }
           },
           "type": "node"
          },
          {
           "children": [
            {
             "children": [
              {
               "children": [],
               "instanceArgs": {
                "namespace": "html",
                "tag": "div"
               },
               "nodeType": "DOM",
               "props": {
                "id": "container"
               },
               "type": "node"
              }
             ],
             "instanceArgs": {
              "handlers": {
               "value": [
                "(function (txt){return this.k.render(txt,this.container)})"
               ]
              },
              "id": "11753068416811828953",
              "imports": {
               "data": [
                {
                 "name": null,
                 "type": "js",
                 "url": "/assetserver/dd22ed1bf1896c2748f3fe616ce0b838adc895c1-katex.min.js"
                },
                {
                 "name": null,
                 "type": "css",
                 "url": "/assetserver/46517a424aa5e6cffc1360d7e0848b601c584ee3-katex.min.css"
                }
               ],
               "type": "async_block"
              },
              "mount_callbacks": [
               "function () {\n    var handler = ((function (k){this.k=k; this.container=this.dom.querySelector(\"#container\"); return k.render(\"\\\\;\\\\;\",this.container)}));\n    (WebIO.importBlock({\"data\":[{\"name\":null,\"type\":\"js\",\"url\":\"/assetserver/dd22ed1bf1896c2748f3fe616ce0b838adc895c1-katex.min.js\"},{\"name\":null,\"type\":\"css\",\"url\":\"/assetserver/46517a424aa5e6cffc1360d7e0848b601c584ee3-katex.min.css\"}],\"type\":\"async_block\"})).then((imports) => handler.apply(this, imports));\n}\n"
              ],
              "observables": {
               "value": {
                "id": "14391299206161683759",
                "sync": false,
                "value": "\\;\\;"
               }
              },
              "systemjs_options": null
             },
             "nodeType": "Scope",
             "props": {},
             "type": "node"
            }
           ],
           "instanceArgs": {
            "namespace": "html",
            "tag": "div"
           },
           "nodeType": "DOM",
           "props": {
            "className": "interact-widget"
           },
           "type": "node"
          },
          {
           "children": [
            {
             "children": [],
             "instanceArgs": {
              "namespace": "html",
              "tag": "div"
             },
             "nodeType": "DOM",
             "props": {
              "className": "webio-observable",
              "setInnerHtml": "<img src='data:image/png;base64,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'></img>"
             },
             "type": "node"
            }
           ],
           "instanceArgs": {
            "handlers": {
             "obs-output": [
              "function (value, scope) {\n    scope.setInnerHTML(value);\n}\n"
             ]
            },
            "id": "15559932710957231916",
            "imports": {
             "data": [],
             "type": "async_block"
            },
            "mount_callbacks": [],
            "observables": {
             "obs-output": {
              "id": "1299180933802926",
              "sync": false,
              "value": "<img src='data:image/png;base64,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'></img>"
             }
            },
            "systemjs_options": null
           },
           "nodeType": "Scope",
           "props": {},
           "type": "node"
          },
          {
           "children": [
            {
             "children": [
              {
               "children": [],
               "instanceArgs": {
                "namespace": "html",
                "tag": "div"
               },
               "nodeType": "DOM",
               "props": {
                "id": "container"
               },
               "type": "node"
              }
             ],
             "instanceArgs": {
              "handlers": {
               "value": [
                "(function (txt){return this.k.render(txt,this.container)})"
               ]
              },
              "id": "11753068416811828953",
              "imports": {
               "data": [
                {
                 "name": null,
                 "type": "js",
                 "url": "/assetserver/dd22ed1bf1896c2748f3fe616ce0b838adc895c1-katex.min.js"
                },
                {
                 "name": null,
                 "type": "css",
                 "url": "/assetserver/46517a424aa5e6cffc1360d7e0848b601c584ee3-katex.min.css"
                }
               ],
               "type": "async_block"
              },
              "mount_callbacks": [
               "function () {\n    var handler = ((function (k){this.k=k; this.container=this.dom.querySelector(\"#container\"); return k.render(\"\\\\;\\\\;\",this.container)}));\n    (WebIO.importBlock({\"data\":[{\"name\":null,\"type\":\"js\",\"url\":\"/assetserver/dd22ed1bf1896c2748f3fe616ce0b838adc895c1-katex.min.js\"},{\"name\":null,\"type\":\"css\",\"url\":\"/assetserver/46517a424aa5e6cffc1360d7e0848b601c584ee3-katex.min.css\"}],\"type\":\"async_block\"})).then((imports) => handler.apply(this, imports));\n}\n"
              ],
              "observables": {
               "value": {
                "id": "14391299206161683759",
                "sync": false,
                "value": "\\;\\;"
               }
              },
              "systemjs_options": null
             },
             "nodeType": "Scope",
             "props": {},
             "type": "node"
            }
           ],
           "instanceArgs": {
            "namespace": "html",
            "tag": "div"
           },
           "nodeType": "DOM",
           "props": {
            "className": "interact-widget"
           },
           "type": "node"
          },
          {
           "children": [],
           "instanceArgs": {
            "namespace": "html",
            "tag": "div"
           },
           "nodeType": "DOM",
           "props": {
            "style": {
             "display": "flex",
             "flex-direction": "column"
            }
           },
           "type": "node"
          }
         ],
         "instanceArgs": {
          "namespace": "html",
          "tag": "div"
         },
         "nodeType": "DOM",
         "props": {
          "style": {
           "display": "flex",
           "flex-direction": "row"
          }
         },
         "type": "node"
        }
       ],
       "instanceArgs": {
        "namespace": "html",
        "tag": "div"
       },
       "nodeType": "DOM",
       "props": {
        "style": {
         "display": "flex",
         "flex-direction": "column"
        }
       },
       "type": "node"
      },
      "text/html": [
       "<div\n",
       "    class=\"webio-mountpoint\"\n",
       "    data-webio-mountpoint=\"7510691653651807098\"\n",
       ">\n",
       "    <script>\n",
       "    (function(){\n",
       "    // Some integrations (namely, IJulia/Jupyter) use an alternate render pathway than\n",
       "    // just putting the html on the page. If WebIO isn't defined, then it's pretty likely\n",
       "    // that we're in one of those situations and the integration just isn't installed\n",
       "    // correctly.\n",
       "    if (typeof window.WebIO === \"undefined\") {\n",
       "        document\n",
       "            .querySelector('[data-webio-mountpoint=\"7510691653651807098\"]')\n",
       "            .innerHTML = (\n",
       "                '<div style=\"padding: 1em; background-color: #f8d6da; border: 1px solid #f5c6cb; font-weight: bold;\">' +\n",
       "                '<p><strong>WebIO not detected.</strong></p>' +\n",
       "                '<p>Please read ' +\n",
       "                '<a href=\"https://juliagizmos.github.io/WebIO.jl/latest/troubleshooting/not-detected/\" target=\"_blank\">the troubleshooting guide</a> ' +\n",
       "                'for more information on how to resolve this issue.</p>' +\n",
       "                '<p><a href=\"https://juliagizmos.github.io/WebIO.jl/latest/troubleshooting/not-detected/\" target=\"_blank\">https://juliagizmos.github.io/WebIO.jl/latest/troubleshooting/not-detected/</a></p>' +\n",
       "                '</div>'\n",
       "            );\n",
       "        return;\n",
       "    }\n",
       "    WebIO.mount(\n",
       "        document.querySelector('[data-webio-mountpoint=\"7510691653651807098\"]'),\n",
       "        {\"props\":{\"style\":{\"display\":\"flex\",\"flex-direction\":\"column\"}},\"nodeType\":\"DOM\",\"type\":\"node\",\"instanceArgs\":{\"namespace\":\"html\",\"tag\":\"div\"},\"children\":[{\"props\":{\"style\":{\"display\":\"flex\",\"flex-direction\":\"row\"}},\"nodeType\":\"DOM\",\"type\":\"node\",\"instanceArgs\":{\"namespace\":\"html\",\"tag\":\"div\"},\"children\":[{\"props\":{\"style\":{\"display\":\"flex\",\"flex-direction\":\"column\"}},\"nodeType\":\"DOM\",\"type\":\"node\",\"instanceArgs\":{\"namespace\":\"html\",\"tag\":\"div\"},\"children\":[{\"props\":{\"className\":\"field interact-widget\"},\"nodeType\":\"DOM\",\"type\":\"node\",\"instanceArgs\":{\"namespace\":\"html\",\"tag\":\"div\"},\"children\":[{\"props\":{},\"nodeType\":\"Scope\",\"type\":\"node\",\"instanceArgs\":{\"imports\":{\"data\":[{\"name\":\"knockout\",\"type\":\"js\",\"url\":\"\\/assetserver\\/727383f2a47bd31570b7da84eee7b022dd6d7c78-knockout.js\"},{\"name\":\"knockout_punches\",\"type\":\"js\",\"url\":\"\\/assetserver\\/382b41b3b1bd9f26f75861d360bad7f8beea211f-knockout_punches.js\"},{\"name\":null,\"type\":\"js\",\"url\":\"\\/assetserver\\/5ab20f1060420992a9b82a65b735dee4d81ef413-all.js\"},{\"name\":null,\"type\":\"css\",\"url\":\"\\/assetserver\\/1cc0ed62837210b80a182cc3676512f895dab686-style.css\"},{\"name\":null,\"type\":\"css\",\"url\":\"\\/assetserver\\/2eee816f616df3549d7044d45e744fbf8d42bfa1-bulma_confined.min.css\"}],\"type\":\"async_block\"},\"id\":\"1474386619770564904\",\"handlers\":{\"changes\":[\"(function (val){return (val!=this.model[\\\"changes\\\"]()) ? (this.valueFromJulia[\\\"changes\\\"]=true, this.model[\\\"changes\\\"](val)) : undefined})\"],\"index\":[\"(function (val){return (val!=this.model[\\\"index\\\"]()) ? (this.valueFromJulia[\\\"index\\\"]=true, this.model[\\\"index\\\"](val)) : undefined})\"]},\"systemjs_options\":null,\"mount_callbacks\":[\"function () {\\n    var handler = (function (ko, koPunches) {\\n    ko.punches.enableAll();\\n    ko.bindingHandlers.numericValue = {\\n        init: function(element, valueAccessor, allBindings, data, context) {\\n            var stringified = ko.observable(ko.unwrap(valueAccessor()));\\n            stringified.subscribe(function(value) {\\n                var val = parseFloat(value);\\n                if (!isNaN(val)) {\\n                    valueAccessor()(val);\\n                }\\n            });\\n            valueAccessor().subscribe(function(value) {\\n                var str = JSON.stringify(value);\\n                if ((str == \\\"0\\\") && ([\\\"-0\\\", \\\"-0.\\\"].indexOf(stringified()) >= 0))\\n                     return;\\n                 if ([\\\"null\\\", \\\"\\\"].indexOf(str) >= 0)\\n                     return;\\n                stringified(str);\\n            });\\n            ko.applyBindingsToNode(\\n                element,\\n                {\\n                    value: stringified,\\n                    valueUpdate: allBindings.get('valueUpdate'),\\n                },\\n                context,\\n            );\\n        }\\n    };\\n    var json_data = {\\\"formatted_vals\\\":[\\\"1\\\",\\\"2\\\",\\\"3\\\",\\\"4\\\",\\\"5\\\",\\\"6\\\",\\\"7\\\",\\\"8\\\",\\\"9\\\",\\\"10\\\",\\\"11\\\",\\\"12\\\",\\\"13\\\",\\\"14\\\",\\\"15\\\",\\\"16\\\",\\\"17\\\",\\\"18\\\",\\\"19\\\",\\\"20\\\",\\\"21\\\",\\\"22\\\",\\\"23\\\",\\\"24\\\",\\\"25\\\",\\\"26\\\",\\\"27\\\",\\\"28\\\",\\\"29\\\",\\\"30\\\",\\\"31\\\",\\\"32\\\",\\\"33\\\",\\\"34\\\",\\\"35\\\",\\\"36\\\",\\\"37\\\",\\\"38\\\",\\\"39\\\",\\\"40\\\",\\\"41\\\",\\\"42\\\",\\\"43\\\",\\\"44\\\",\\\"45\\\",\\\"46\\\",\\\"47\\\",\\\"48\\\",\\\"49\\\",\\\"50\\\",\\\"51\\\",\\\"52\\\",\\\"53\\\",\\\"54\\\",\\\"55\\\",\\\"56\\\",\\\"57\\\",\\\"58\\\",\\\"59\\\",\\\"60\\\",\\\"61\\\",\\\"62\\\",\\\"63\\\",\\\"64\\\",\\\"65\\\",\\\"66\\\",\\\"67\\\",\\\"68\\\",\\\"69\\\",\\\"70\\\",\\\"71\\\",\\\"72\\\",\\\"73\\\",\\\"74\\\",\\\"75\\\",\\\"76\\\",\\\"77\\\",\\\"78\\\",\\\"79\\\",\\\"80\\\",\\\"81\\\",\\\"82\\\",\\\"83\\\",\\\"84\\\",\\\"85\\\",\\\"86\\\",\\\"87\\\",\\\"88\\\",\\\"89\\\",\\\"90\\\",\\\"91\\\",\\\"92\\\",\\\"93\\\",\\\"94\\\",\\\"95\\\",\\\"96\\\",\\\"97\\\",\\\"98\\\",\\\"99\\\",\\\"100\\\",\\\"101\\\",\\\"102\\\",\\\"103\\\",\\\"104\\\",\\\"105\\\",\\\"106\\\",\\\"107\\\",\\\"108\\\",\\\"109\\\",\\\"110\\\",\\\"111\\\",\\\"112\\\",\\\"113\\\",\\\"114\\\",\\\"115\\\",\\\"116\\\",\\\"117\\\",\\\"118\\\",\\\"119\\\",\\\"120\\\",\\\"121\\\",\\\"122\\\",\\\"123\\\",\\\"124\\\",\\\"125\\\",\\\"126\\\",\\\"127\\\",\\\"128\\\",\\\"129\\\",\\\"130\\\",\\\"131\\\",\\\"132\\\",\\\"133\\\",\\\"134\\\",\\\"135\\\",\\\"136\\\",\\\"137\\\",\\\"138\\\",\\\"139\\\",\\\"140\\\",\\\"141\\\",\\\"142\\\",\\\"143\\\",\\\"144\\\",\\\"145\\\",\\\"146\\\",\\\"147\\\",\\\"148\\\",\\\"149\\\",\\\"150\\\",\\\"151\\\",\\\"152\\\",\\\"153\\\",\\\"154\\\",\\\"155\\\",\\\"156\\\",\\\"157\\\",\\\"158\\\",\\\"159\\\",\\\"160\\\",\\\"161\\\",\\\"162\\\",\\\"163\\\",\\\"164\\\",\\\"165\\\",\\\"166\\\",\\\"167\\\",\\\"168\\\",\\\"169\\\",\\\"170\\\",\\\"171\\\",\\\"172\\\",\\\"173\\\",\\\"174\\\",\\\"175\\\",\\\"176\\\",\\\"177\\\",\\\"178\\\",\\\"179\\\",\\\"180\\\",\\\"181\\\",\\\"182\\\",\\\"183\\\",\\\"184\\\",\\\"185\\\",\\\"186\\\",\\\"187\\\",\\\"188\\\",\\\"189\\\",\\\"190\\\",\\\"191\\\",\\\"192\\\",\\\"193\\\",\\\"194\\\",\\\"195\\\",\\\"196\\\",\\\"197\\\",\\\"198\\\",\\\"199\\\",\\\"200\\\",\\\"201\\\",\\\"202\\\",\\\"203\\\",\\\"204\\\",\\\"205\\\",\\\"206\\\",\\\"207\\\",\\\"208\\\",\\\"209\\\",\\\"210\\\",\\\"211\\\",\\\"212\\\",\\\"213\\\",\\\"214\\\",\\\"215\\\",\\\"216\\\",\\\"217\\\",\\\"218\\\",\\\"219\\\",\\\"220\\\",\\\"221\\\",\\\"222\\\",\\\"223\\\",\\\"224\\\",\\\"225\\\",\\\"226\\\",\\\"227\\\",\\\"228\\\",\\\"229\\\",\\\"230\\\",\\\"231\\\",\\\"232\\\",\\\"233\\\",\\\"234\\\",\\\"235\\\",\\\"236\\\",\\\"237\\\",\\\"238\\\",\\\"239\\\",\\\"240\\\",\\\"241\\\",\\\"242\\\",\\\"243\\\",\\\"244\\\",\\\"245\\\",\\\"246\\\",\\\"247\\\",\\\"248\\\",\\\"249\\\",\\\"250\\\",\\\"251\\\",\\\"252\\\",\\\"253\\\",\\\"254\\\",\\\"255\\\",\\\"256\\\",\\\"257\\\",\\\"258\\\",\\\"259\\\",\\\"260\\\",\\\"261\\\",\\\"262\\\",\\\"263\\\",\\\"264\\\",\\\"265\\\",\\\"266\\\",\\\"267\\\",\\\"268\\\",\\\"269\\\",\\\"270\\\",\\\"271\\\",\\\"272\\\",\\\"273\\\",\\\"274\\\",\\\"275\\\",\\\"276\\\",\\\"277\\\",\\\"278\\\",\\\"279\\\",\\\"280\\\",\\\"281\\\",\\\"282\\\",\\\"283\\\",\\\"284\\\",\\\"285\\\",\\\"286\\\",\\\"287\\\",\\\"288\\\",\\\"289\\\",\\\"290\\\",\\\"291\\\",\\\"292\\\",\\\"293\\\",\\\"294\\\",\\\"295\\\",\\\"296\\\",\\\"297\\\",\\\"298\\\",\\\"299\\\",\\\"300\\\",\\\"301\\\",\\\"302\\\",\\\"303\\\",\\\"304\\\",\\\"305\\\",\\\"306\\\",\\\"307\\\",\\\"308\\\",\\\"309\\\",\\\"310\\\",\\\"311\\\",\\\"312\\\",\\\"313\\\",\\\"314\\\",\\\"315\\\",\\\"316\\\",\\\"317\\\",\\\"318\\\",\\\"319\\\",\\\"320\\\",\\\"321\\\",\\\"322\\\",\\\"323\\\",\\\"324\\\",\\\"325\\\",\\\"326\\\",\\\"327\\\",\\\"328\\\",\\\"329\\\",\\\"330\\\",\\\"331\\\",\\\"332\\\",\\\"333\\\",\\\"334\\\",\\\"335\\\",\\\"336\\\",\\\"337\\\",\\\"338\\\",\\\"339\\\",\\\"340\\\",\\\"341\\\",\\\"342\\\",\\\"343\\\",\\\"344\\\",\\\"345\\\",\\\"346\\\",\\\"347\\\",\\\"348\\\",\\\"349\\\",\\\"350\\\",\\\"351\\\",\\\"352\\\",\\\"353\\\",\\\"354\\\",\\\"355\\\",\\\"356\\\",\\\"357\\\",\\\"358\\\",\\\"359\\\",\\\"360\\\",\\\"361\\\",\\\"362\\\",\\\"363\\\",\\\"364\\\",\\\"365\\\",\\\"366\\\",\\\"367\\\",\\\"368\\\",\\\"369\\\",\\\"370\\\",\\\"371\\\",\\\"372\\\",\\\"373\\\",\\\"374\\\",\\\"375\\\",\\\"376\\\",\\\"377\\\",\\\"378\\\",\\\"379\\\",\\\"380\\\",\\\"381\\\",\\\"382\\\",\\\"383\\\",\\\"384\\\",\\\"385\\\",\\\"386\\\",\\\"387\\\",\\\"388\\\",\\\"389\\\",\\\"390\\\",\\\"391\\\",\\\"392\\\",\\\"393\\\",\\\"394\\\",\\\"395\\\",\\\"396\\\",\\\"397\\\",\\\"398\\\",\\\"399\\\",\\\"400\\\",\\\"401\\\",\\\"402\\\",\\\"403\\\",\\\"404\\\",\\\"405\\\",\\\"406\\\",\\\"407\\\",\\\"408\\\",\\\"409\\\",\\\"410\\\",\\\"411\\\",\\\"412\\\",\\\"413\\\",\\\"414\\\",\\\"415\\\",\\\"416\\\",\\\"417\\\",\\\"418\\\",\\\"419\\\",\\\"420\\\",\\\"421\\\",\\\"422\\\",\\\"423\\\",\\\"424\\\",\\\"425\\\",\\\"426\\\",\\\"427\\\",\\\"428\\\",\\\"429\\\",\\\"430\\\",\\\"431\\\",\\\"432\\\",\\\"433\\\",\\\"434\\\",\\\"435\\\",\\\"436\\\",\\\"437\\\",\\\"438\\\",\\\"439\\\",\\\"440\\\",\\\"441\\\",\\\"442\\\",\\\"443\\\",\\\"444\\\",\\\"445\\\",\\\"446\\\",\\\"447\\\",\\\"448\\\",\\\"449\\\",\\\"450\\\",\\\"451\\\",\\\"452\\\",\\\"453\\\",\\\"454\\\",\\\"455\\\",\\\"456\\\",\\\"457\\\",\\\"458\\\",\\\"459\\\",\\\"460\\\",\\\"461\\\",\\\"462\\\",\\\"463\\\",\\\"464\\\",\\\"465\\\",\\\"466\\\",\\\"467\\\",\\\"468\\\",\\\"469\\\",\\\"470\\\",\\\"471\\\",\\\"472\\\",\\\"473\\\",\\\"474\\\",\\\"475\\\",\\\"476\\\",\\\"477\\\",\\\"478\\\",\\\"479\\\",\\\"480\\\",\\\"481\\\",\\\"482\\\",\\\"483\\\",\\\"484\\\",\\\"485\\\",\\\"486\\\",\\\"487\\\",\\\"488\\\",\\\"489\\\",\\\"490\\\",\\\"491\\\",\\\"492\\\",\\\"493\\\",\\\"494\\\",\\\"495\\\",\\\"496\\\",\\\"497\\\",\\\"498\\\",\\\"499\\\",\\\"500\\\",\\\"501\\\",\\\"502\\\",\\\"503\\\",\\\"504\\\",\\\"505\\\",\\\"506\\\",\\\"507\\\",\\\"508\\\",\\\"509\\\",\\\"510\\\",\\\"511\\\",\\\"512\\\",\\\"513\\\",\\\"514\\\",\\\"515\\\",\\\"516\\\",\\\"517\\\",\\\"518\\\",\\\"519\\\",\\\"520\\\",\\\"521\\\",\\\"522\\\",\\\"523\\\",\\\"524\\\",\\\"525\\\",\\\"526\\\",\\\"527\\\",\\\"528\\\",\\\"529\\\",\\\"530\\\",\\\"531\\\",\\\"532\\\",\\\"533\\\",\\\"534\\\",\\\"535\\\",\\\"536\\\",\\\"537\\\",\\\"538\\\",\\\"539\\\",\\\"540\\\",\\\"541\\\",\\\"542\\\",\\\"543\\\",\\\"544\\\",\\\"545\\\",\\\"546\\\",\\\"547\\\",\\\"548\\\",\\\"549\\\",\\\"550\\\",\\\"551\\\",\\\"552\\\",\\\"553\\\",\\\"554\\\",\\\"555\\\",\\\"556\\\",\\\"557\\\",\\\"558\\\",\\\"559\\\",\\\"560\\\",\\\"561\\\",\\\"562\\\",\\\"563\\\",\\\"564\\\",\\\"565\\\",\\\"566\\\",\\\"567\\\",\\\"568\\\",\\\"569\\\",\\\"570\\\",\\\"571\\\",\\\"572\\\",\\\"573\\\",\\\"574\\\",\\\"575\\\",\\\"576\\\",\\\"577\\\",\\\"578\\\",\\\"579\\\",\\\"580\\\",\\\"581\\\",\\\"582\\\",\\\"583\\\",\\\"584\\\",\\\"585\\\",\\\"586\\\",\\\"587\\\",\\\"588\\\",\\\"589\\\",\\\"590\\\",\\\"591\\\",\\\"592\\\",\\\"593\\\",\\\"594\\\",\\\"595\\\",\\\"596\\\",\\\"597\\\",\\\"598\\\",\\\"599\\\",\\\"600\\\",\\\"601\\\",\\\"602\\\",\\\"603\\\",\\\"604\\\",\\\"605\\\",\\\"606\\\",\\\"607\\\",\\\"608\\\",\\\"609\\\",\\\"610\\\",\\\"611\\\",\\\"612\\\",\\\"613\\\",\\\"614\\\",\\\"615\\\",\\\"616\\\",\\\"617\\\",\\\"618\\\",\\\"619\\\",\\\"620\\\",\\\"621\\\",\\\"622\\\",\\\"623\\\",\\\"624\\\",\\\"625\\\",\\\"626\\\",\\\"627\\\",\\\"628\\\",\\\"629\\\",\\\"630\\\",\\\"631\\\",\\\"632\\\",\\\"633\\\",\\\"634\\\",\\\"635\\\",\\\"636\\\",\\\"637\\\",\\\"638\\\",\\\"639\\\",\\\"640\\\",\\\"641\\\",\\\"642\\\",\\\"643\\\",\\\"644\\\",\\\"645\\\",\\\"646\\\",\\\"647\\\",\\\"648\\\",\\\"649\\\",\\\"650\\\",\\\"651\\\",\\\"652\\\",\\\"653\\\",\\\"654\\\",\\\"655\\\",\\\"656\\\",\\\"657\\\",\\\"658\\\",\\\"659\\\",\\\"660\\\",\\\"661\\\",\\\"662\\\",\\\"663\\\",\\\"664\\\",\\\"665\\\",\\\"666\\\",\\\"667\\\",\\\"668\\\",\\\"669\\\",\\\"670\\\",\\\"671\\\",\\\"672\\\",\\\"673\\\",\\\"674\\\",\\\"675\\\",\\\"676\\\",\\\"677\\\",\\\"678\\\",\\\"679\\\",\\\"680\\\",\\\"681\\\",\\\"682\\\",\\\"683\\\",\\\"684\\\",\\\"685\\\",\\\"686\\\",\\\"687\\\",\\\"688\\\",\\\"689\\\",\\\"690\\\",\\\"691\\\",\\\"692\\\",\\\"693\\\",\\\"694\\\",\\\"695\\\",\\\"696\\\",\\\"697\\\",\\\"698\\\",\\\"699\\\",\\\"700\\\",\\\"701\\\",\\\"702\\\",\\\"703\\\",\\\"704\\\",\\\"705\\\",\\\"706\\\",\\\"707\\\",\\\"708\\\",\\\"709\\\",\\\"710\\\",\\\"711\\\",\\\"712\\\",\\\"713\\\",\\\"714\\\",\\\"715\\\",\\\"716\\\",\\\"717\\\",\\\"718\\\",\\\"719\\\",\\\"720\\\",\\\"721\\\",\\\"722\\\",\\\"723\\\",\\\"724\\\",\\\"725\\\",\\\"726\\\",\\\"727\\\",\\\"728\\\",\\\"729\\\",\\\"730\\\",\\\"731\\\",\\\"732\\\",\\\"733\\\",\\\"734\\\",\\\"735\\\",\\\"736\\\",\\\"737\\\",\\\"738\\\",\\\"739\\\",\\\"740\\\",\\\"741\\\",\\\"742\\\",\\\"743\\\",\\\"744\\\",\\\"745\\\",\\\"746\\\",\\\"747\\\",\\\"748\\\",\\\"749\\\",\\\"750\\\",\\\"751\\\",\\\"752\\\",\\\"753\\\",\\\"754\\\",\\\"755\\\",\\\"756\\\",\\\"757\\\",\\\"758\\\",\\\"759\\\",\\\"760\\\",\\\"761\\\",\\\"762\\\",\\\"763\\\",\\\"764\\\",\\\"765\\\",\\\"766\\\",\\\"767\\\",\\\"768\\\",\\\"769\\\",\\\"770\\\",\\\"771\\\",\\\"772\\\",\\\"773\\\",\\\"774\\\",\\\"775\\\",\\\"776\\\",\\\"777\\\",\\\"778\\\",\\\"779\\\",\\\"780\\\",\\\"781\\\",\\\"782\\\",\\\"783\\\",\\\"784\\\",\\\"785\\\",\\\"786\\\",\\\"787\\\",\\\"788\\\",\\\"789\\\",\\\"790\\\",\\\"791\\\",\\\"792\\\",\\\"793\\\",\\\"794\\\",\\\"795\\\",\\\"796\\\",\\\"797\\\",\\\"798\\\",\\\"799\\\",\\\"800\\\",\\\"801\\\",\\\"802\\\",\\\"803\\\",\\\"804\\\",\\\"805\\\",\\\"806\\\",\\\"807\\\",\\\"808\\\",\\\"809\\\",\\\"810\\\",\\\"811\\\",\\\"812\\\",\\\"813\\\",\\\"814\\\",\\\"815\\\",\\\"816\\\",\\\"817\\\",\\\"818\\\",\\\"819\\\",\\\"820\\\",\\\"821\\\",\\\"822\\\",\\\"823\\\",\\\"824\\\",\\\"825\\\",\\\"826\\\",\\\"827\\\",\\\"828\\\",\\\"829\\\",\\\"830\\\",\\\"831\\\",\\\"832\\\",\\\"833\\\",\\\"834\\\",\\\"835\\\",\\\"836\\\",\\\"837\\\",\\\"838\\\",\\\"839\\\",\\\"840\\\",\\\"841\\\",\\\"842\\\",\\\"843\\\",\\\"844\\\",\\\"845\\\",\\\"846\\\",\\\"847\\\",\\\"848\\\",\\\"849\\\",\\\"850\\\",\\\"851\\\",\\\"852\\\",\\\"853\\\",\\\"854\\\",\\\"855\\\",\\\"856\\\",\\\"857\\\",\\\"858\\\",\\\"859\\\",\\\"860\\\",\\\"861\\\",\\\"862\\\",\\\"863\\\",\\\"864\\\",\\\"865\\\",\\\"866\\\",\\\"867\\\",\\\"868\\\",\\\"869\\\",\\\"870\\\",\\\"871\\\",\\\"872\\\",\\\"873\\\",\\\"874\\\",\\\"875\\\",\\\"876\\\",\\\"877\\\",\\\"878\\\",\\\"879\\\",\\\"880\\\",\\\"881\\\",\\\"882\\\",\\\"883\\\",\\\"884\\\",\\\"885\\\",\\\"886\\\",\\\"887\\\",\\\"888\\\",\\\"889\\\",\\\"890\\\",\\\"891\\\",\\\"892\\\",\\\"893\\\",\\\"894\\\",\\\"895\\\",\\\"896\\\",\\\"897\\\",\\\"898\\\",\\\"899\\\",\\\"900\\\",\\\"901\\\",\\\"902\\\",\\\"903\\\",\\\"904\\\",\\\"905\\\",\\\"906\\\",\\\"907\\\",\\\"908\\\",\\\"909\\\",\\\"910\\\",\\\"911\\\",\\\"912\\\",\\\"913\\\",\\\"914\\\",\\\"915\\\",\\\"916\\\",\\\"917\\\",\\\"918\\\",\\\"919\\\",\\\"920\\\",\\\"921\\\",\\\"922\\\",\\\"923\\\",\\\"924\\\",\\\"925\\\",\\\"926\\\",\\\"927\\\",\\\"928\\\",\\\"929\\\",\\\"930\\\",\\\"931\\\",\\\"932\\\",\\\"933\\\",\\\"934\\\",\\\"935\\\",\\\"936\\\",\\\"937\\\",\\\"938\\\",\\\"939\\\",\\\"940\\\",\\\"941\\\",\\\"942\\\",\\\"943\\\",\\\"944\\\",\\\"945\\\",\\\"946\\\",\\\"947\\\",\\\"948\\\",\\\"949\\\",\\\"950\\\",\\\"951\\\",\\\"952\\\",\\\"953\\\",\\\"954\\\",\\\"955\\\",\\\"956\\\",\\\"957\\\",\\\"958\\\",\\\"959\\\",\\\"960\\\",\\\"961\\\",\\\"962\\\",\\\"963\\\",\\\"964\\\",\\\"965\\\",\\\"966\\\",\\\"967\\\",\\\"968\\\",\\\"969\\\",\\\"970\\\",\\\"971\\\",\\\"972\\\",\\\"973\\\",\\\"974\\\",\\\"975\\\",\\\"976\\\",\\\"977\\\",\\\"978\\\",\\\"979\\\",\\\"980\\\",\\\"981\\\",\\\"982\\\",\\\"983\\\",\\\"984\\\",\\\"985\\\",\\\"986\\\",\\\"987\\\",\\\"988\\\",\\\"989\\\",\\\"990\\\",\\\"991\\\",\\\"992\\\",\\\"993\\\",\\\"994\\\",\\\"995\\\",\\\"996\\\",\\\"997\\\",\\\"998\\\",\\\"999\\\",\\\"1000\\\",\\\"1001\\\"],\\\"changes\\\":WebIO.getval({\\\"name\\\":\\\"changes\\\",\\\"scope\\\":\\\"1474386619770564904\\\",\\\"id\\\":\\\"7691619573216243698\\\",\\\"type\\\":\\\"observable\\\"}),\\\"index\\\":WebIO.getval({\\\"name\\\":\\\"index\\\",\\\"scope\\\":\\\"1474386619770564904\\\",\\\"id\\\":\\\"8360399954221392187\\\",\\\"type\\\":\\\"observable\\\"})};\\n    var self = this;\\n    function AppViewModel() {\\n        for (var key in json_data) {\\n            var el = json_data[key];\\n            this[key] = Array.isArray(el) ? ko.observableArray(el) : ko.observable(el);\\n        }\\n        \\n        [this[\\\"formatted_val\\\"]=ko.computed(    function(){\\n        return this.formatted_vals()[parseInt(this.index())-(1)];\\n    }\\n,this)]\\n        [this[\\\"changes\\\"].subscribe((function (val){!(this.valueFromJulia[\\\"changes\\\"]) ? (WebIO.setval({\\\"name\\\":\\\"changes\\\",\\\"scope\\\":\\\"1474386619770564904\\\",\\\"id\\\":\\\"7691619573216243698\\\",\\\"type\\\":\\\"observable\\\"},val)) : undefined; return this.valueFromJulia[\\\"changes\\\"]=false}),self),this[\\\"index\\\"].subscribe((function (val){!(this.valueFromJulia[\\\"index\\\"]) ? (WebIO.setval({\\\"name\\\":\\\"index\\\",\\\"scope\\\":\\\"1474386619770564904\\\",\\\"id\\\":\\\"8360399954221392187\\\",\\\"type\\\":\\\"observable\\\"},val)) : undefined; return this.valueFromJulia[\\\"index\\\"]=false}),self)]\\n        \\n    }\\n    self.model = new AppViewModel();\\n    self.valueFromJulia = {};\\n    for (var key in json_data) {\\n        self.valueFromJulia[key] = false;\\n    }\\n    ko.applyBindings(self.model, self.dom);\\n}\\n);\\n    (WebIO.importBlock({\\\"data\\\":[{\\\"name\\\":\\\"knockout\\\",\\\"type\\\":\\\"js\\\",\\\"url\\\":\\\"\\/assetserver\\/727383f2a47bd31570b7da84eee7b022dd6d7c78-knockout.js\\\"},{\\\"name\\\":\\\"knockout_punches\\\",\\\"type\\\":\\\"js\\\",\\\"url\\\":\\\"\\/assetserver\\/382b41b3b1bd9f26f75861d360bad7f8beea211f-knockout_punches.js\\\"}],\\\"type\\\":\\\"async_block\\\"})).then((imports) => handler.apply(this, imports));\\n}\\n\"],\"observables\":{\"changes\":{\"sync\":false,\"id\":\"7691619573216243698\",\"value\":0},\"index\":{\"sync\":true,\"id\":\"8360399954221392187\",\"value\":501}}},\"children\":[{\"props\":{\"className\":\"interact-flex-row interact-widget\"},\"nodeType\":\"DOM\",\"type\":\"node\",\"instanceArgs\":{\"namespace\":\"html\",\"tag\":\"div\"},\"children\":[{\"props\":{\"className\":\"interact-flex-row-left\"},\"nodeType\":\"DOM\",\"type\":\"node\",\"instanceArgs\":{\"namespace\":\"html\",\"tag\":\"div\"},\"children\":[{\"props\":{\"className\":\"interact \",\"style\":{\"padding\":\"5px 10px 0px 10px\"}},\"nodeType\":\"DOM\",\"type\":\"node\",\"instanceArgs\":{\"namespace\":\"html\",\"tag\":\"label\"},\"children\":[\"time\"]}]},{\"props\":{\"className\":\"interact-flex-row-center\"},\"nodeType\":\"DOM\",\"type\":\"node\",\"instanceArgs\":{\"namespace\":\"html\",\"tag\":\"div\"},\"children\":[{\"props\":{\"max\":1001,\"min\":1,\"attributes\":{\"type\":\"range\",\"data-bind\":\"numericValue: index, valueUpdate: 'input', event: {change: function (){this.changes(this.changes()+1)}}\",\"orient\":\"horizontal\"},\"step\":1,\"className\":\"slider slider is-fullwidth\",\"style\":{}},\"nodeType\":\"DOM\",\"type\":\"node\",\"instanceArgs\":{\"namespace\":\"html\",\"tag\":\"input\"},\"children\":[]}]},{\"props\":{\"className\":\"interact-flex-row-right\"},\"nodeType\":\"DOM\",\"type\":\"node\",\"instanceArgs\":{\"namespace\":\"html\",\"tag\":\"div\"},\"children\":[{\"props\":{\"attributes\":{\"data-bind\":\"text: formatted_val\"}},\"nodeType\":\"DOM\",\"type\":\"node\",\"instanceArgs\":{\"namespace\":\"html\",\"tag\":\"p\"},\"children\":[]}]}]}]}]},{\"props\":{\"className\":\"field interact-widget\"},\"nodeType\":\"DOM\",\"type\":\"node\",\"instanceArgs\":{\"namespace\":\"html\",\"tag\":\"div\"},\"children\":[{\"props\":{},\"nodeType\":\"Scope\",\"type\":\"node\",\"instanceArgs\":{\"imports\":{\"data\":[{\"name\":\"knockout\",\"type\":\"js\",\"url\":\"\\/assetserver\\/727383f2a47bd31570b7da84eee7b022dd6d7c78-knockout.js\"},{\"name\":\"knockout_punches\",\"type\":\"js\",\"url\":\"\\/assetserver\\/382b41b3b1bd9f26f75861d360bad7f8beea211f-knockout_punches.js\"},{\"name\":null,\"type\":\"js\",\"url\":\"\\/assetserver\\/5ab20f1060420992a9b82a65b735dee4d81ef413-all.js\"},{\"name\":null,\"type\":\"css\",\"url\":\"\\/assetserver\\/1cc0ed62837210b80a182cc3676512f895dab686-style.css\"},{\"name\":null,\"type\":\"css\",\"url\":\"\\/assetserver\\/2eee816f616df3549d7044d45e744fbf8d42bfa1-bulma_confined.min.css\"}],\"type\":\"async_block\"},\"id\":\"1421285673893697983\",\"handlers\":{\"changes\":[\"(function (val){return (val!=this.model[\\\"changes\\\"]()) ? (this.valueFromJulia[\\\"changes\\\"]=true, this.model[\\\"changes\\\"](val)) : undefined})\"],\"index\":[\"(function (val){return (val!=this.model[\\\"index\\\"]()) ? (this.valueFromJulia[\\\"index\\\"]=true, this.model[\\\"index\\\"](val)) : undefined})\"]},\"systemjs_options\":null,\"mount_callbacks\":[\"function () {\\n    var handler = (function (ko, koPunches) {\\n    ko.punches.enableAll();\\n    ko.bindingHandlers.numericValue = {\\n        init: function(element, valueAccessor, allBindings, data, context) {\\n            var stringified = ko.observable(ko.unwrap(valueAccessor()));\\n            stringified.subscribe(function(value) {\\n                var val = parseFloat(value);\\n                if (!isNaN(val)) {\\n                    valueAccessor()(val);\\n                }\\n            });\\n            valueAccessor().subscribe(function(value) {\\n                var str = JSON.stringify(value);\\n                if ((str == \\\"0\\\") && ([\\\"-0\\\", \\\"-0.\\\"].indexOf(stringified()) >= 0))\\n                     return;\\n                 if ([\\\"null\\\", \\\"\\\"].indexOf(str) >= 0)\\n                     return;\\n                stringified(str);\\n            });\\n            ko.applyBindingsToNode(\\n                element,\\n                {\\n                    value: stringified,\\n                    valueUpdate: allBindings.get('valueUpdate'),\\n                },\\n                context,\\n            );\\n        }\\n    };\\n    var json_data = {\\\"formatted_vals\\\":[\\\"0.1\\\",\\\"0.2\\\",\\\"0.3\\\",\\\"0.4\\\",\\\"0.5\\\",\\\"0.6\\\",\\\"0.7\\\",\\\"0.8\\\",\\\"0.9\\\",\\\"1.0\\\",\\\"1.1\\\",\\\"1.2\\\",\\\"1.3\\\",\\\"1.4\\\",\\\"1.5\\\",\\\"1.6\\\",\\\"1.7\\\",\\\"1.8\\\",\\\"1.9\\\",\\\"2.0\\\"],\\\"changes\\\":WebIO.getval({\\\"name\\\":\\\"changes\\\",\\\"scope\\\":\\\"1421285673893697983\\\",\\\"id\\\":\\\"17624351634468925850\\\",\\\"type\\\":\\\"observable\\\"}),\\\"index\\\":WebIO.getval({\\\"name\\\":\\\"index\\\",\\\"scope\\\":\\\"1421285673893697983\\\",\\\"id\\\":\\\"11807532585786603845\\\",\\\"type\\\":\\\"observable\\\"})};\\n    var self = this;\\n    function AppViewModel() {\\n        for (var key in json_data) {\\n            var el = json_data[key];\\n            this[key] = Array.isArray(el) ? ko.observableArray(el) : ko.observable(el);\\n        }\\n        \\n        [this[\\\"formatted_val\\\"]=ko.computed(    function(){\\n        return this.formatted_vals()[parseInt(this.index())-(1)];\\n    }\\n,this)]\\n        [this[\\\"changes\\\"].subscribe((function (val){!(this.valueFromJulia[\\\"changes\\\"]) ? (WebIO.setval({\\\"name\\\":\\\"changes\\\",\\\"scope\\\":\\\"1421285673893697983\\\",\\\"id\\\":\\\"17624351634468925850\\\",\\\"type\\\":\\\"observable\\\"},val)) : undefined; return this.valueFromJulia[\\\"changes\\\"]=false}),self),this[\\\"index\\\"].subscribe((function (val){!(this.valueFromJulia[\\\"index\\\"]) ? (WebIO.setval({\\\"name\\\":\\\"index\\\",\\\"scope\\\":\\\"1421285673893697983\\\",\\\"id\\\":\\\"11807532585786603845\\\",\\\"type\\\":\\\"observable\\\"},val)) : undefined; return this.valueFromJulia[\\\"index\\\"]=false}),self)]\\n        \\n    }\\n    self.model = new AppViewModel();\\n    self.valueFromJulia = {};\\n    for (var key in json_data) {\\n        self.valueFromJulia[key] = false;\\n    }\\n    ko.applyBindings(self.model, self.dom);\\n}\\n);\\n    (WebIO.importBlock({\\\"data\\\":[{\\\"name\\\":\\\"knockout\\\",\\\"type\\\":\\\"js\\\",\\\"url\\\":\\\"\\/assetserver\\/727383f2a47bd31570b7da84eee7b022dd6d7c78-knockout.js\\\"},{\\\"name\\\":\\\"knockout_punches\\\",\\\"type\\\":\\\"js\\\",\\\"url\\\":\\\"\\/assetserver\\/382b41b3b1bd9f26f75861d360bad7f8beea211f-knockout_punches.js\\\"}],\\\"type\\\":\\\"async_block\\\"})).then((imports) => handler.apply(this, imports));\\n}\\n\"],\"observables\":{\"changes\":{\"sync\":false,\"id\":\"17624351634468925850\",\"value\":0},\"index\":{\"sync\":true,\"id\":\"11807532585786603845\",\"value\":10}}},\"children\":[{\"props\":{\"className\":\"interact-flex-row interact-widget\"},\"nodeType\":\"DOM\",\"type\":\"node\",\"instanceArgs\":{\"namespace\":\"html\",\"tag\":\"div\"},\"children\":[{\"props\":{\"className\":\"interact-flex-row-left\"},\"nodeType\":\"DOM\",\"type\":\"node\",\"instanceArgs\":{\"namespace\":\"html\",\"tag\":\"div\"},\"children\":[{\"props\":{\"className\":\"interact \",\"style\":{\"padding\":\"5px 10px 0px 10px\"}},\"nodeType\":\"DOM\",\"type\":\"node\",\"instanceArgs\":{\"namespace\":\"html\",\"tag\":\"label\"},\"children\":[\"scale\"]}]},{\"props\":{\"className\":\"interact-flex-row-center\"},\"nodeType\":\"DOM\",\"type\":\"node\",\"instanceArgs\":{\"namespace\":\"html\",\"tag\":\"div\"},\"children\":[{\"props\":{\"max\":20,\"min\":1,\"attributes\":{\"type\":\"range\",\"data-bind\":\"numericValue: index, valueUpdate: 'input', event: {change: function (){this.changes(this.changes()+1)}}\",\"orient\":\"horizontal\"},\"step\":1,\"className\":\"slider slider is-fullwidth\",\"style\":{}},\"nodeType\":\"DOM\",\"type\":\"node\",\"instanceArgs\":{\"namespace\":\"html\",\"tag\":\"input\"},\"children\":[]}]},{\"props\":{\"className\":\"interact-flex-row-right\"},\"nodeType\":\"DOM\",\"type\":\"node\",\"instanceArgs\":{\"namespace\":\"html\",\"tag\":\"div\"},\"children\":[{\"props\":{\"attributes\":{\"data-bind\":\"text: formatted_val\"}},\"nodeType\":\"DOM\",\"type\":\"node\",\"instanceArgs\":{\"namespace\":\"html\",\"tag\":\"p\"},\"children\":[]}]}]}]}]},{\"props\":{\"style\":{\"display\":\"flex\",\"flex-direction\":\"row\"}},\"nodeType\":\"DOM\",\"type\":\"node\",\"instanceArgs\":{\"namespace\":\"html\",\"tag\":\"div\"},\"children\":[{\"props\":{\"className\":\"interact-widget\"},\"nodeType\":\"DOM\",\"type\":\"node\",\"instanceArgs\":{\"namespace\":\"html\",\"tag\":\"div\"},\"children\":[{\"props\":{},\"nodeType\":\"Scope\",\"type\":\"node\",\"instanceArgs\":{\"imports\":{\"data\":[{\"name\":null,\"type\":\"js\",\"url\":\"\\/assetserver\\/dd22ed1bf1896c2748f3fe616ce0b838adc895c1-katex.min.js\"},{\"name\":null,\"type\":\"css\",\"url\":\"\\/assetserver\\/46517a424aa5e6cffc1360d7e0848b601c584ee3-katex.min.css\"}],\"type\":\"async_block\"},\"id\":\"11753068416811828953\",\"handlers\":{\"value\":[\"(function (txt){return this.k.render(txt,this.container)})\"]},\"systemjs_options\":null,\"mount_callbacks\":[\"function () {\\n    var handler = ((function (k){this.k=k; this.container=this.dom.querySelector(\\\"#container\\\"); return k.render(\\\"\\\\\\\\;\\\\\\\\;\\\",this.container)}));\\n    (WebIO.importBlock({\\\"data\\\":[{\\\"name\\\":null,\\\"type\\\":\\\"js\\\",\\\"url\\\":\\\"\\/assetserver\\/dd22ed1bf1896c2748f3fe616ce0b838adc895c1-katex.min.js\\\"},{\\\"name\\\":null,\\\"type\\\":\\\"css\\\",\\\"url\\\":\\\"\\/assetserver\\/46517a424aa5e6cffc1360d7e0848b601c584ee3-katex.min.css\\\"}],\\\"type\\\":\\\"async_block\\\"})).then((imports) => handler.apply(this, imports));\\n}\\n\"],\"observables\":{\"value\":{\"sync\":false,\"id\":\"14391299206161683759\",\"value\":\"\\\\;\\\\;\"}}},\"children\":[{\"props\":{\"id\":\"container\"},\"nodeType\":\"DOM\",\"type\":\"node\",\"instanceArgs\":{\"namespace\":\"html\",\"tag\":\"div\"},\"children\":[]}]}]},{\"props\":{\"className\":\"field interact-widget\"},\"nodeType\":\"DOM\",\"type\":\"node\",\"instanceArgs\":{\"namespace\":\"html\",\"tag\":\"div\"},\"children\":[{\"props\":{},\"nodeType\":\"Scope\",\"type\":\"node\",\"instanceArgs\":{\"imports\":{\"data\":[{\"name\":\"knockout\",\"type\":\"js\",\"url\":\"\\/assetserver\\/727383f2a47bd31570b7da84eee7b022dd6d7c78-knockout.js\"},{\"name\":\"knockout_punches\",\"type\":\"js\",\"url\":\"\\/assetserver\\/382b41b3b1bd9f26f75861d360bad7f8beea211f-knockout_punches.js\"},{\"name\":null,\"type\":\"js\",\"url\":\"\\/assetserver\\/5ab20f1060420992a9b82a65b735dee4d81ef413-all.js\"},{\"name\":null,\"type\":\"css\",\"url\":\"\\/assetserver\\/1cc0ed62837210b80a182cc3676512f895dab686-style.css\"},{\"name\":null,\"type\":\"css\",\"url\":\"\\/assetserver\\/2eee816f616df3549d7044d45e744fbf8d42bfa1-bulma_confined.min.css\"}],\"type\":\"async_block\"},\"id\":\"2828908809056366846\",\"handlers\":{\"loading\":[\"(function (val){return (val!=this.model[\\\"loading\\\"]()) ? (this.valueFromJulia[\\\"loading\\\"]=true, this.model[\\\"loading\\\"](val)) : undefined})\"],\"clicks\":[\"(function (val){return (val!=this.model[\\\"clicks\\\"]()) ? (this.valueFromJulia[\\\"clicks\\\"]=true, this.model[\\\"clicks\\\"](val)) : undefined})\"]},\"systemjs_options\":null,\"mount_callbacks\":[\"function () {\\n    var handler = (function (ko, koPunches) {\\n    ko.punches.enableAll();\\n    ko.bindingHandlers.numericValue = {\\n        init: function(element, valueAccessor, allBindings, data, context) {\\n            var stringified = ko.observable(ko.unwrap(valueAccessor()));\\n            stringified.subscribe(function(value) {\\n                var val = parseFloat(value);\\n                if (!isNaN(val)) {\\n                    valueAccessor()(val);\\n                }\\n            });\\n            valueAccessor().subscribe(function(value) {\\n                var str = JSON.stringify(value);\\n                if ((str == \\\"0\\\") && ([\\\"-0\\\", \\\"-0.\\\"].indexOf(stringified()) >= 0))\\n                     return;\\n                 if ([\\\"null\\\", \\\"\\\"].indexOf(str) >= 0)\\n                     return;\\n                stringified(str);\\n            });\\n            ko.applyBindingsToNode(\\n                element,\\n                {\\n                    value: stringified,\\n                    valueUpdate: allBindings.get('valueUpdate'),\\n                },\\n                context,\\n            );\\n        }\\n    };\\n    var json_data = {\\\"loading\\\":WebIO.getval({\\\"name\\\":\\\"loading\\\",\\\"scope\\\":\\\"2828908809056366846\\\",\\\"id\\\":\\\"10419506962975309422\\\",\\\"type\\\":\\\"observable\\\"}),\\\"clicks\\\":WebIO.getval({\\\"name\\\":\\\"clicks\\\",\\\"scope\\\":\\\"2828908809056366846\\\",\\\"id\\\":\\\"14498333991527608046\\\",\\\"type\\\":\\\"observable\\\"})};\\n    var self = this;\\n    function AppViewModel() {\\n        for (var key in json_data) {\\n            var el = json_data[key];\\n            this[key] = Array.isArray(el) ? ko.observableArray(el) : ko.observable(el);\\n        }\\n        \\n        \\n        [this[\\\"loading\\\"].subscribe((function (val){!(this.valueFromJulia[\\\"loading\\\"]) ? (WebIO.setval({\\\"name\\\":\\\"loading\\\",\\\"scope\\\":\\\"2828908809056366846\\\",\\\"id\\\":\\\"10419506962975309422\\\",\\\"type\\\":\\\"observable\\\"},val)) : undefined; return this.valueFromJulia[\\\"loading\\\"]=false}),self),this[\\\"clicks\\\"].subscribe((function (val){!(this.valueFromJulia[\\\"clicks\\\"]) ? (WebIO.setval({\\\"name\\\":\\\"clicks\\\",\\\"scope\\\":\\\"2828908809056366846\\\",\\\"id\\\":\\\"14498333991527608046\\\",\\\"type\\\":\\\"observable\\\"},val)) : undefined; return this.valueFromJulia[\\\"clicks\\\"]=false}),self)]\\n        \\n    }\\n    self.model = new AppViewModel();\\n    self.valueFromJulia = {};\\n    for (var key in json_data) {\\n        self.valueFromJulia[key] = false;\\n    }\\n    ko.applyBindings(self.model, self.dom);\\n}\\n);\\n    (WebIO.importBlock({\\\"data\\\":[{\\\"name\\\":\\\"knockout\\\",\\\"type\\\":\\\"js\\\",\\\"url\\\":\\\"\\/assetserver\\/727383f2a47bd31570b7da84eee7b022dd6d7c78-knockout.js\\\"},{\\\"name\\\":\\\"knockout_punches\\\",\\\"type\\\":\\\"js\\\",\\\"url\\\":\\\"\\/assetserver\\/382b41b3b1bd9f26f75861d360bad7f8beea211f-knockout_punches.js\\\"}],\\\"type\\\":\\\"async_block\\\"})).then((imports) => handler.apply(this, imports));\\n}\\n\"],\"observables\":{\"loading\":{\"sync\":false,\"id\":\"10419506962975309422\",\"value\":false},\"clicks\":{\"sync\":true,\"id\":\"14498333991527608046\",\"value\":0}}},\"children\":[{\"props\":{\"attributes\":{\"data-bind\":\"click: function (){this.clicks(this.clicks()+1)}, css: {'is-loading' : loading}\"},\"className\":\"is-medium button is-primary\",\"style\":{}},\"nodeType\":\"DOM\",\"type\":\"node\",\"instanceArgs\":{\"namespace\":\"html\",\"tag\":\"button\"},\"children\":[\"run\"]}]}]},{\"props\":{\"className\":\"interact-widget\"},\"nodeType\":\"DOM\",\"type\":\"node\",\"instanceArgs\":{\"namespace\":\"html\",\"tag\":\"div\"},\"children\":[{\"props\":{},\"nodeType\":\"Scope\",\"type\":\"node\",\"instanceArgs\":{\"imports\":{\"data\":[{\"name\":null,\"type\":\"js\",\"url\":\"\\/assetserver\\/dd22ed1bf1896c2748f3fe616ce0b838adc895c1-katex.min.js\"},{\"name\":null,\"type\":\"css\",\"url\":\"\\/assetserver\\/46517a424aa5e6cffc1360d7e0848b601c584ee3-katex.min.css\"}],\"type\":\"async_block\"},\"id\":\"11753068416811828953\",\"handlers\":{\"value\":[\"(function (txt){return this.k.render(txt,this.container)})\"]},\"systemjs_options\":null,\"mount_callbacks\":[\"function () {\\n    var handler = ((function (k){this.k=k; this.container=this.dom.querySelector(\\\"#container\\\"); return k.render(\\\"\\\\\\\\;\\\\\\\\;\\\",this.container)}));\\n    (WebIO.importBlock({\\\"data\\\":[{\\\"name\\\":null,\\\"type\\\":\\\"js\\\",\\\"url\\\":\\\"\\/assetserver\\/dd22ed1bf1896c2748f3fe616ce0b838adc895c1-katex.min.js\\\"},{\\\"name\\\":null,\\\"type\\\":\\\"css\\\",\\\"url\\\":\\\"\\/assetserver\\/46517a424aa5e6cffc1360d7e0848b601c584ee3-katex.min.css\\\"}],\\\"type\\\":\\\"async_block\\\"})).then((imports) => handler.apply(this, imports));\\n}\\n\"],\"observables\":{\"value\":{\"sync\":false,\"id\":\"14391299206161683759\",\"value\":\"\\\\;\\\\;\"}}},\"children\":[{\"props\":{\"id\":\"container\"},\"nodeType\":\"DOM\",\"type\":\"node\",\"instanceArgs\":{\"namespace\":\"html\",\"tag\":\"div\"},\"children\":[]}]}]},{\"props\":{\"className\":\"field interact-widget\"},\"nodeType\":\"DOM\",\"type\":\"node\",\"instanceArgs\":{\"namespace\":\"html\",\"tag\":\"div\"},\"children\":[{\"props\":{},\"nodeType\":\"Scope\",\"type\":\"node\",\"instanceArgs\":{\"imports\":{\"data\":[{\"name\":\"knockout\",\"type\":\"js\",\"url\":\"\\/assetserver\\/727383f2a47bd31570b7da84eee7b022dd6d7c78-knockout.js\"},{\"name\":\"knockout_punches\",\"type\":\"js\",\"url\":\"\\/assetserver\\/382b41b3b1bd9f26f75861d360bad7f8beea211f-knockout_punches.js\"},{\"name\":null,\"type\":\"js\",\"url\":\"\\/assetserver\\/5ab20f1060420992a9b82a65b735dee4d81ef413-all.js\"},{\"name\":null,\"type\":\"css\",\"url\":\"\\/assetserver\\/1cc0ed62837210b80a182cc3676512f895dab686-style.css\"},{\"name\":null,\"type\":\"css\",\"url\":\"\\/assetserver\\/2eee816f616df3549d7044d45e744fbf8d42bfa1-bulma_confined.min.css\"}],\"type\":\"async_block\"},\"id\":\"13426226197755128741\",\"handlers\":{\"loading\":[\"(function (val){return (val!=this.model[\\\"loading\\\"]()) ? (this.valueFromJulia[\\\"loading\\\"]=true, this.model[\\\"loading\\\"](val)) : undefined})\"],\"clicks\":[\"(function (val){return (val!=this.model[\\\"clicks\\\"]()) ? (this.valueFromJulia[\\\"clicks\\\"]=true, this.model[\\\"clicks\\\"](val)) : undefined})\"]},\"systemjs_options\":null,\"mount_callbacks\":[\"function () {\\n    var handler = (function (ko, koPunches) {\\n    ko.punches.enableAll();\\n    ko.bindingHandlers.numericValue = {\\n        init: function(element, valueAccessor, allBindings, data, context) {\\n            var stringified = ko.observable(ko.unwrap(valueAccessor()));\\n            stringified.subscribe(function(value) {\\n                var val = parseFloat(value);\\n                if (!isNaN(val)) {\\n                    valueAccessor()(val);\\n                }\\n            });\\n            valueAccessor().subscribe(function(value) {\\n                var str = JSON.stringify(value);\\n                if ((str == \\\"0\\\") && ([\\\"-0\\\", \\\"-0.\\\"].indexOf(stringified()) >= 0))\\n                     return;\\n                 if ([\\\"null\\\", \\\"\\\"].indexOf(str) >= 0)\\n                     return;\\n                stringified(str);\\n            });\\n            ko.applyBindingsToNode(\\n                element,\\n                {\\n                    value: stringified,\\n                    valueUpdate: allBindings.get('valueUpdate'),\\n                },\\n                context,\\n            );\\n        }\\n    };\\n    var json_data = {\\\"loading\\\":WebIO.getval({\\\"name\\\":\\\"loading\\\",\\\"scope\\\":\\\"13426226197755128741\\\",\\\"id\\\":\\\"13097690424958637112\\\",\\\"type\\\":\\\"observable\\\"}),\\\"clicks\\\":WebIO.getval({\\\"name\\\":\\\"clicks\\\",\\\"scope\\\":\\\"13426226197755128741\\\",\\\"id\\\":\\\"15646165880896830937\\\",\\\"type\\\":\\\"observable\\\"})};\\n    var self = this;\\n    function AppViewModel() {\\n        for (var key in json_data) {\\n            var el = json_data[key];\\n            this[key] = Array.isArray(el) ? ko.observableArray(el) : ko.observable(el);\\n        }\\n        \\n        \\n        [this[\\\"loading\\\"].subscribe((function (val){!(this.valueFromJulia[\\\"loading\\\"]) ? (WebIO.setval({\\\"name\\\":\\\"loading\\\",\\\"scope\\\":\\\"13426226197755128741\\\",\\\"id\\\":\\\"13097690424958637112\\\",\\\"type\\\":\\\"observable\\\"},val)) : undefined; return this.valueFromJulia[\\\"loading\\\"]=false}),self),this[\\\"clicks\\\"].subscribe((function (val){!(this.valueFromJulia[\\\"clicks\\\"]) ? (WebIO.setval({\\\"name\\\":\\\"clicks\\\",\\\"scope\\\":\\\"13426226197755128741\\\",\\\"id\\\":\\\"15646165880896830937\\\",\\\"type\\\":\\\"observable\\\"},val)) : undefined; return this.valueFromJulia[\\\"clicks\\\"]=false}),self)]\\n        \\n    }\\n    self.model = new AppViewModel();\\n    self.valueFromJulia = {};\\n    for (var key in json_data) {\\n        self.valueFromJulia[key] = false;\\n    }\\n    ko.applyBindings(self.model, self.dom);\\n}\\n);\\n    (WebIO.importBlock({\\\"data\\\":[{\\\"name\\\":\\\"knockout\\\",\\\"type\\\":\\\"js\\\",\\\"url\\\":\\\"\\/assetserver\\/727383f2a47bd31570b7da84eee7b022dd6d7c78-knockout.js\\\"},{\\\"name\\\":\\\"knockout_punches\\\",\\\"type\\\":\\\"js\\\",\\\"url\\\":\\\"\\/assetserver\\/382b41b3b1bd9f26f75861d360bad7f8beea211f-knockout_punches.js\\\"}],\\\"type\\\":\\\"async_block\\\"})).then((imports) => handler.apply(this, imports));\\n}\\n\"],\"observables\":{\"loading\":{\"sync\":false,\"id\":\"13097690424958637112\",\"value\":false},\"clicks\":{\"sync\":true,\"id\":\"15646165880896830937\",\"value\":0}}},\"children\":[{\"props\":{\"attributes\":{\"data-bind\":\"click: function (){this.clicks(this.clicks()+1)}, css: {'is-loading' : loading}\"},\"className\":\"is-medium button is-primary\",\"style\":{}},\"nodeType\":\"DOM\",\"type\":\"node\",\"instanceArgs\":{\"namespace\":\"html\",\"tag\":\"button\"},\"children\":[\"stop\"]}]}]},{\"props\":{\"className\":\"interact-widget\"},\"nodeType\":\"DOM\",\"type\":\"node\",\"instanceArgs\":{\"namespace\":\"html\",\"tag\":\"div\"},\"children\":[{\"props\":{},\"nodeType\":\"Scope\",\"type\":\"node\",\"instanceArgs\":{\"imports\":{\"data\":[{\"name\":null,\"type\":\"js\",\"url\":\"\\/assetserver\\/dd22ed1bf1896c2748f3fe616ce0b838adc895c1-katex.min.js\"},{\"name\":null,\"type\":\"css\",\"url\":\"\\/assetserver\\/46517a424aa5e6cffc1360d7e0848b601c584ee3-katex.min.css\"}],\"type\":\"async_block\"},\"id\":\"11753068416811828953\",\"handlers\":{\"value\":[\"(function (txt){return this.k.render(txt,this.container)})\"]},\"systemjs_options\":null,\"mount_callbacks\":[\"function () {\\n    var handler = ((function (k){this.k=k; this.container=this.dom.querySelector(\\\"#container\\\"); return k.render(\\\"\\\\\\\\;\\\\\\\\;\\\",this.container)}));\\n    (WebIO.importBlock({\\\"data\\\":[{\\\"name\\\":null,\\\"type\\\":\\\"js\\\",\\\"url\\\":\\\"\\/assetserver\\/dd22ed1bf1896c2748f3fe616ce0b838adc895c1-katex.min.js\\\"},{\\\"name\\\":null,\\\"type\\\":\\\"css\\\",\\\"url\\\":\\\"\\/assetserver\\/46517a424aa5e6cffc1360d7e0848b601c584ee3-katex.min.css\\\"}],\\\"type\\\":\\\"async_block\\\"})).then((imports) => handler.apply(this, imports));\\n}\\n\"],\"observables\":{\"value\":{\"sync\":false,\"id\":\"14391299206161683759\",\"value\":\"\\\\;\\\\;\"}}},\"children\":[{\"props\":{\"id\":\"container\"},\"nodeType\":\"DOM\",\"type\":\"node\",\"instanceArgs\":{\"namespace\":\"html\",\"tag\":\"div\"},\"children\":[]}]}]},{\"props\":{\"className\":\"field interact-widget\"},\"nodeType\":\"DOM\",\"type\":\"node\",\"instanceArgs\":{\"namespace\":\"html\",\"tag\":\"div\"},\"children\":[{\"props\":{},\"nodeType\":\"Scope\",\"type\":\"node\",\"instanceArgs\":{\"imports\":{\"data\":[{\"name\":\"knockout\",\"type\":\"js\",\"url\":\"\\/assetserver\\/727383f2a47bd31570b7da84eee7b022dd6d7c78-knockout.js\"},{\"name\":\"knockout_punches\",\"type\":\"js\",\"url\":\"\\/assetserver\\/382b41b3b1bd9f26f75861d360bad7f8beea211f-knockout_punches.js\"},{\"name\":null,\"type\":\"js\",\"url\":\"\\/assetserver\\/5ab20f1060420992a9b82a65b735dee4d81ef413-all.js\"},{\"name\":null,\"type\":\"css\",\"url\":\"\\/assetserver\\/1cc0ed62837210b80a182cc3676512f895dab686-style.css\"},{\"name\":null,\"type\":\"css\",\"url\":\"\\/assetserver\\/2eee816f616df3549d7044d45e744fbf8d42bfa1-bulma_confined.min.css\"}],\"type\":\"async_block\"},\"id\":\"14672287766722826383\",\"handlers\":{\"loading\":[\"(function (val){return (val!=this.model[\\\"loading\\\"]()) ? (this.valueFromJulia[\\\"loading\\\"]=true, this.model[\\\"loading\\\"](val)) : undefined})\"],\"clicks\":[\"(function (val){return (val!=this.model[\\\"clicks\\\"]()) ? (this.valueFromJulia[\\\"clicks\\\"]=true, this.model[\\\"clicks\\\"](val)) : undefined})\"]},\"systemjs_options\":null,\"mount_callbacks\":[\"function () {\\n    var handler = (function (ko, koPunches) {\\n    ko.punches.enableAll();\\n    ko.bindingHandlers.numericValue = {\\n        init: function(element, valueAccessor, allBindings, data, context) {\\n            var stringified = ko.observable(ko.unwrap(valueAccessor()));\\n            stringified.subscribe(function(value) {\\n                var val = parseFloat(value);\\n                if (!isNaN(val)) {\\n                    valueAccessor()(val);\\n                }\\n            });\\n            valueAccessor().subscribe(function(value) {\\n                var str = JSON.stringify(value);\\n                if ((str == \\\"0\\\") && ([\\\"-0\\\", \\\"-0.\\\"].indexOf(stringified()) >= 0))\\n                     return;\\n                 if ([\\\"null\\\", \\\"\\\"].indexOf(str) >= 0)\\n                     return;\\n                stringified(str);\\n            });\\n            ko.applyBindingsToNode(\\n                element,\\n                {\\n                    value: stringified,\\n                    valueUpdate: allBindings.get('valueUpdate'),\\n                },\\n                context,\\n            );\\n        }\\n    };\\n    var json_data = {\\\"loading\\\":WebIO.getval({\\\"name\\\":\\\"loading\\\",\\\"scope\\\":\\\"14672287766722826383\\\",\\\"id\\\":\\\"14427644067593070461\\\",\\\"type\\\":\\\"observable\\\"}),\\\"clicks\\\":WebIO.getval({\\\"name\\\":\\\"clicks\\\",\\\"scope\\\":\\\"14672287766722826383\\\",\\\"id\\\":\\\"17965976049674500974\\\",\\\"type\\\":\\\"observable\\\"})};\\n    var self = this;\\n    function AppViewModel() {\\n        for (var key in json_data) {\\n            var el = json_data[key];\\n            this[key] = Array.isArray(el) ? ko.observableArray(el) : ko.observable(el);\\n        }\\n        \\n        \\n        [this[\\\"loading\\\"].subscribe((function (val){!(this.valueFromJulia[\\\"loading\\\"]) ? (WebIO.setval({\\\"name\\\":\\\"loading\\\",\\\"scope\\\":\\\"14672287766722826383\\\",\\\"id\\\":\\\"14427644067593070461\\\",\\\"type\\\":\\\"observable\\\"},val)) : undefined; return this.valueFromJulia[\\\"loading\\\"]=false}),self),this[\\\"clicks\\\"].subscribe((function (val){!(this.valueFromJulia[\\\"clicks\\\"]) ? (WebIO.setval({\\\"name\\\":\\\"clicks\\\",\\\"scope\\\":\\\"14672287766722826383\\\",\\\"id\\\":\\\"17965976049674500974\\\",\\\"type\\\":\\\"observable\\\"},val)) : undefined; return this.valueFromJulia[\\\"clicks\\\"]=false}),self)]\\n        \\n    }\\n    self.model = new AppViewModel();\\n    self.valueFromJulia = {};\\n    for (var key in json_data) {\\n        self.valueFromJulia[key] = false;\\n    }\\n    ko.applyBindings(self.model, self.dom);\\n}\\n);\\n    (WebIO.importBlock({\\\"data\\\":[{\\\"name\\\":\\\"knockout\\\",\\\"type\\\":\\\"js\\\",\\\"url\\\":\\\"\\/assetserver\\/727383f2a47bd31570b7da84eee7b022dd6d7c78-knockout.js\\\"},{\\\"name\\\":\\\"knockout_punches\\\",\\\"type\\\":\\\"js\\\",\\\"url\\\":\\\"\\/assetserver\\/382b41b3b1bd9f26f75861d360bad7f8beea211f-knockout_punches.js\\\"}],\\\"type\\\":\\\"async_block\\\"})).then((imports) => handler.apply(this, imports));\\n}\\n\"],\"observables\":{\"loading\":{\"sync\":false,\"id\":\"14427644067593070461\",\"value\":false},\"clicks\":{\"sync\":true,\"id\":\"17965976049674500974\",\"value\":0}}},\"children\":[{\"props\":{\"attributes\":{\"data-bind\":\"click: function (){this.clicks(this.clicks()+1)}, css: {'is-loading' : loading}\"},\"className\":\"is-medium button is-primary\",\"style\":{}},\"nodeType\":\"DOM\",\"type\":\"node\",\"instanceArgs\":{\"namespace\":\"html\",\"tag\":\"button\"},\"children\":[\"save\"]}]}]}]}]},{\"props\":{\"className\":\"interact-widget\"},\"nodeType\":\"DOM\",\"type\":\"node\",\"instanceArgs\":{\"namespace\":\"html\",\"tag\":\"div\"},\"children\":[{\"props\":{},\"nodeType\":\"Scope\",\"type\":\"node\",\"instanceArgs\":{\"imports\":{\"data\":[{\"name\":null,\"type\":\"js\",\"url\":\"\\/assetserver\\/dd22ed1bf1896c2748f3fe616ce0b838adc895c1-katex.min.js\"},{\"name\":null,\"type\":\"css\",\"url\":\"\\/assetserver\\/46517a424aa5e6cffc1360d7e0848b601c584ee3-katex.min.css\"}],\"type\":\"async_block\"},\"id\":\"11753068416811828953\",\"handlers\":{\"value\":[\"(function (txt){return this.k.render(txt,this.container)})\"]},\"systemjs_options\":null,\"mount_callbacks\":[\"function () {\\n    var handler = ((function (k){this.k=k; this.container=this.dom.querySelector(\\\"#container\\\"); return k.render(\\\"\\\\\\\\;\\\\\\\\;\\\",this.container)}));\\n    (WebIO.importBlock({\\\"data\\\":[{\\\"name\\\":null,\\\"type\\\":\\\"js\\\",\\\"url\\\":\\\"\\/assetserver\\/dd22ed1bf1896c2748f3fe616ce0b838adc895c1-katex.min.js\\\"},{\\\"name\\\":null,\\\"type\\\":\\\"css\\\",\\\"url\\\":\\\"\\/assetserver\\/46517a424aa5e6cffc1360d7e0848b601c584ee3-katex.min.css\\\"}],\\\"type\\\":\\\"async_block\\\"})).then((imports) => handler.apply(this, imports));\\n}\\n\"],\"observables\":{\"value\":{\"sync\":false,\"id\":\"14391299206161683759\",\"value\":\"\\\\;\\\\;\"}}},\"children\":[{\"props\":{\"id\":\"container\"},\"nodeType\":\"DOM\",\"type\":\"node\",\"instanceArgs\":{\"namespace\":\"html\",\"tag\":\"div\"},\"children\":[]}]}]},{\"props\":{},\"nodeType\":\"Scope\",\"type\":\"node\",\"instanceArgs\":{\"imports\":{\"data\":[],\"type\":\"async_block\"},\"id\":\"8920492212442627436\",\"handlers\":{\"obs-output\":[\"function (value, scope) {\\n    scope.setInnerHTML(value);\\n}\\n\"]},\"systemjs_options\":null,\"mount_callbacks\":[],\"observables\":{\"obs-output\":{\"sync\":false,\"id\":\"10865836790486719220\",\"value\":\"<img src='data:image\\/png;base64,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'><\\/img>\"}}},\"children\":[{\"props\":{\"className\":\"webio-observable\",\"setInnerHtml\":\"<img src='data:image\\/png;base64,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'><\\/img>\"},\"nodeType\":\"DOM\",\"type\":\"node\",\"instanceArgs\":{\"namespace\":\"html\",\"tag\":\"div\"},\"children\":[]}]},{\"props\":{\"className\":\"interact-widget\"},\"nodeType\":\"DOM\",\"type\":\"node\",\"instanceArgs\":{\"namespace\":\"html\",\"tag\":\"div\"},\"children\":[{\"props\":{},\"nodeType\":\"Scope\",\"type\":\"node\",\"instanceArgs\":{\"imports\":{\"data\":[{\"name\":null,\"type\":\"js\",\"url\":\"\\/assetserver\\/dd22ed1bf1896c2748f3fe616ce0b838adc895c1-katex.min.js\"},{\"name\":null,\"type\":\"css\",\"url\":\"\\/assetserver\\/46517a424aa5e6cffc1360d7e0848b601c584ee3-katex.min.css\"}],\"type\":\"async_block\"},\"id\":\"11753068416811828953\",\"handlers\":{\"value\":[\"(function (txt){return this.k.render(txt,this.container)})\"]},\"systemjs_options\":null,\"mount_callbacks\":[\"function () {\\n    var handler = ((function (k){this.k=k; this.container=this.dom.querySelector(\\\"#container\\\"); return k.render(\\\"\\\\\\\\;\\\\\\\\;\\\",this.container)}));\\n    (WebIO.importBlock({\\\"data\\\":[{\\\"name\\\":null,\\\"type\\\":\\\"js\\\",\\\"url\\\":\\\"\\/assetserver\\/dd22ed1bf1896c2748f3fe616ce0b838adc895c1-katex.min.js\\\"},{\\\"name\\\":null,\\\"type\\\":\\\"css\\\",\\\"url\\\":\\\"\\/assetserver\\/46517a424aa5e6cffc1360d7e0848b601c584ee3-katex.min.css\\\"}],\\\"type\\\":\\\"async_block\\\"})).then((imports) => handler.apply(this, imports));\\n}\\n\"],\"observables\":{\"value\":{\"sync\":false,\"id\":\"14391299206161683759\",\"value\":\"\\\\;\\\\;\"}}},\"children\":[{\"props\":{\"id\":\"container\"},\"nodeType\":\"DOM\",\"type\":\"node\",\"instanceArgs\":{\"namespace\":\"html\",\"tag\":\"div\"},\"children\":[]}]}]},{\"props\":{\"style\":{\"display\":\"flex\",\"flex-direction\":\"column\"}},\"nodeType\":\"DOM\",\"type\":\"node\",\"instanceArgs\":{\"namespace\":\"html\",\"tag\":\"div\"},\"children\":[]}]}]},\n",
       "        window,\n",
       "    );\n",
       "    })()\n",
       "    </script>\n",
       "</div>\n"
      ],
      "text/plain": [
       "WebIO.Node{WebIO.DOM}(WebIO.DOM(:html, :div), Any[WebIO.Node{WebIO.DOM}(WebIO.DOM(:html, :div), Any[WebIO.Node{WebIO.DOM}(WebIO.DOM(:html, :div), Any[WebIO.Node{WebIO.DOM}(WebIO.DOM(:html, :div), Any[WebIO.Scope(WebIO.Node{WebIO.DOM}(WebIO.DOM(:html, :div), Any[WebIO.Node{WebIO.DOM}(WebIO.DOM(:html, :div), Any[WebIO.Node{WebIO.DOM}(WebIO.DOM(:html, :label), Any[\"time\"], Dict{Symbol, Any}(:className => \"interact \", :style => Dict{Any, Any}(:padding => \"5px 10px 0px 10px\")))], Dict{Symbol, Any}(:className => \"interact-flex-row-left\")), WebIO.Node{WebIO.DOM}(WebIO.DOM(:html, :div), Any[WebIO.Node{WebIO.DOM}(WebIO.DOM(:html, :input), Any[], Dict{Symbol, Any}(:max => 1001, :min => 1, :attributes => Dict{Any, Any}(:type => \"range\", Symbol(\"data-bind\") => \"numericValue: index, valueUpdate: 'input', event: {change: function (){this.changes(this.changes()+1)}}\", \"orient\" => \"horizontal\"), :step => 1, :className => \"slider slider is-fullwidth\", :style => Dict{Any, Any}()))], Dict{Symbol, Any}(:className => \"interact-flex-row-center\")), WebIO.Node{WebIO.DOM}(WebIO.DOM(:html, :div), Any[WebIO.Node{WebIO.DOM}(WebIO.DOM(:html, :p), Any[], Dict{Symbol, Any}(:attributes => Dict(\"data-bind\" => \"text: formatted_val\")))], Dict{Symbol, Any}(:className => \"interact-flex-row-right\"))], Dict{Symbol, Any}(:className => \"interact-flex-row interact-widget\")), Dict{String, Tuple{Observables.AbstractObservable, Union{Nothing, Bool}}}(\"changes\" => (Observable(0), nothing), \"index\" => (Observable(501), nothing)), Set{String}(), nothing, WebIO.Asset[WebIO.Asset(\"js\", \"knockout\", \"/home/dushya/.julia/packages/Knockout/HReiN/src/../assets/knockout.js\"), WebIO.Asset(\"js\", \"knockout_punches\", \"/home/dushya/.julia/packages/Knockout/HReiN/src/../assets/knockout_punches.js\"), WebIO.Asset(\"js\", nothing, \"/home/dushya/.julia/packages/InteractBase/LJXv3/src/../assets/all.js\"), WebIO.Asset(\"css\", nothing, \"/home/dushya/.julia/packages/InteractBase/LJXv3/src/../assets/style.css\"), WebIO.Asset(\"css\", nothing, \"/home/dushya/.julia/packages/Interact/PENUy/src/../assets/bulma_confined.min.css\")], Dict{Any, Any}(\"changes\" => Any[WebIO.JSString(\"(function (val){return (val!=this.model[\\\"changes\\\"]()) ? (this.valueFromJulia[\\\"changes\\\"]=true, this.model[\\\"changes\\\"](val)) : undefined})\")], \"index\" => Any[WebIO.JSString(\"(function (val){return (val!=this.model[\\\"index\\\"]()) ? (this.valueFromJulia[\\\"index\\\"]=true, this.model[\\\"index\\\"](val)) : undefined})\")]), WebIO.ConnectionPool(Channel{Any}(32), Set{WebIO.AbstractConnection}(), Base.GenericCondition{ReentrantLock}(Base.IntrusiveLinkedList{Task}(Task (runnable) @0x00007f00fc5e4e20, Task (runnable) @0x00007f00fc5e4e20), ReentrantLock(nothing, 0x00000000, 0x00, Base.GenericCondition{Base.Threads.SpinLock}(Base.IntrusiveLinkedList{Task}(nothing, nothing), Base.Threads.SpinLock(0)), (1, 0, 15)))), WebIO.JSString[WebIO.JSString(\"function () {\\n    var handler = (function (ko, koPunches) {\\n    ko.punches.enableAll();\\n    ko.bindingHandlers.numericValue = {\\n        init: function(element, valueAccessor, allBindings, data, context) {\\n            var stringified = ko.observable(ko.unwrap(valueAccessor()));\\n            stringified.subscribe(function(value) {\\n                var val = parseFloat(value);\\n                if (!isNaN(val)) {\\n                    valueAccessor()(val);\\n                }\\n            });\\n            valueAccessor().subscribe(function(value) {\\n                var str = JSON.stringify(value);\\n                if ((str == \\\"0\\\") && ([\\\"-0\\\", \\\"-0.\\\"].indexOf(stringified()) >= 0))\\n                     return;\\n                 if ([\\\"null\\\", \\\"\\\"].indexOf(str) >= 0)\\n                     return;\\n                stringified(str);\\n            });\\n            ko.applyBindingsToNode(\\n                element,\\n                {\\n                    value: stringified,\\n                    valueUpdate: allBindings.get('valueUpdate'),\\n                },\\n                context,\\n            );\\n        }\\n    };\\n    var json_data = {\\\"formatted_vals\\\":[\\\"1\\\",\\\"2\\\",\\\"3\\\",\\\"4\\\",\\\"5\\\",\\\"6\\\",\\\"7\\\",\\\"8\\\",\\\"9\\\",\\\"10\\\",\\\"11\\\",\\\"12\\\",\\\"13\\\",\\\"14\\\",\\\"15\\\",\\\"16\\\",\\\"17\\\",\\\"18\\\",\\\"19\\\",\\\"20\\\",\\\"21\\\",\\\"22\\\",\\\"23\\\",\\\"24\\\",\\\"25\\\",\\\"26\\\",\\\"27\\\",\\\"28\\\",\\\"29\\\",\\\"30\\\",\\\"31\\\",\\\"32\\\",\\\"33\\\",\\\"34\\\",\\\"35\\\",\\\"36\\\",\\\"37\\\",\\\"38\\\",\\\"39\\\",\\\"40\\\",\\\"41\\\",\\\"42\\\",\\\"43\\\",\\\"44\\\",\\\"45\\\",\\\"46\\\",\\\"47\\\",\\\"48\\\",\\\"49\\\",\\\"50\\\",\\\"51\\\",\\\"52\\\",\\\"53\\\",\\\"54\\\",\\\"55\\\",\\\"56\\\",\\\"57\\\",\\\"58\\\",\\\"59\\\",\\\"60\\\",\\\"61\\\",\\\"62\\\",\\\"63\\\",\\\"64\\\",\\\"65\\\",\\\"66\\\",\\\"67\\\",\\\"68\\\",\\\"69\\\",\\\"70\\\",\\\"71\\\",\\\"72\\\",\\\"73\\\",\\\"74\\\",\\\"75\\\",\\\"76\\\",\\\"77\\\",\\\"78\\\",\\\"79\\\",\\\"80\\\",\\\"81\\\",\\\"82\\\",\\\"83\\\",\\\"84\\\",\\\"85\\\",\\\"86\\\",\\\"87\\\",\\\"88\\\",\\\"89\\\",\\\"90\\\",\\\"91\\\",\\\"92\\\",\\\"93\\\",\\\"94\\\",\\\"95\\\",\\\"96\\\",\\\"97\\\",\\\"98\\\",\\\"99\\\",\\\"100\\\",\\\"101\\\",\\\"102\\\",\\\"103\\\",\\\"104\\\",\\\"105\\\",\\\"106\\\",\\\"107\\\",\\\"108\\\",\\\"109\\\",\\\"110\\\",\\\"111\\\",\\\"112\\\",\\\"113\\\",\\\"114\\\",\\\"115\\\",\\\"116\\\",\\\"117\\\",\\\"118\\\",\\\"119\\\",\\\"120\\\",\\\"121\\\",\\\"122\\\",\\\"123\\\",\\\"124\\\",\\\"125\\\",\\\"126\\\",\\\"127\\\",\\\"128\\\",\\\"129\\\",\\\"130\\\",\\\"131\\\",\\\"132\\\",\\\"133\\\",\\\"134\\\",\\\"135\\\",\\\"136\\\",\\\"137\\\",\\\"138\\\",\\\"139\\\",\\\"140\\\",\\\"141\\\",\\\"142\\\",\\\"143\\\",\\\"144\\\",\\\"145\\\",\\\"146\\\",\\\"147\\\",\\\"148\\\",\\\"149\\\",\\\"150\\\",\\\"151\\\",\\\"152\\\",\\\"153\\\",\\\"154\\\",\\\"155\\\",\\\"156\\\",\\\"157\\\",\\\"158\\\",\\\"159\\\",\\\"160\\\",\\\"161\\\",\\\"162\\\",\\\"163\\\",\\\"164\\\",\\\"165\\\",\\\"166\\\",\\\"167\\\",\\\"168\\\",\\\"169\\\",\\\"170\\\",\\\"171\\\",\\\"172\\\",\\\"173\\\",\\\"174\\\",\\\"175\\\",\\\"176\\\",\\\"177\\\",\\\"178\\\",\\\"179\\\",\\\"180\\\",\\\"181\\\",\\\"182\\\",\\\"183\\\",\\\"184\\\",\\\"185\\\",\\\"186\\\",\\\"187\\\",\\\"188\\\",\\\"189\\\",\\\"190\\\",\\\"191\\\",\\\"192\\\",\\\"193\\\",\\\"194\\\",\\\"195\\\",\\\"196\\\",\\\"197\\\",\\\"198\\\",\\\"199\\\",\\\"200\\\",\\\"201\\\",\\\"202\\\",\\\"203\\\",\\\"204\\\",\\\"205\\\",\\\"206\\\",\\\"207\\\",\\\"208\\\",\\\"209\\\",\\\"210\\\",\\\"211\\\",\\\"212\\\",\\\"213\\\",\\\"214\\\",\\\"215\\\",\\\"216\\\",\\\"217\\\",\\\"218\\\",\\\"219\\\",\\\"220\\\",\\\"221\\\",\\\"222\\\",\\\"223\\\",\\\"224\\\",\\\"225\\\",\\\"226\\\",\\\"227\\\",\\\"228\\\",\\\"229\\\",\\\"230\\\",\\\"231\\\",\\\"232\\\",\\\"233\\\",\\\"234\\\",\\\"235\\\",\\\"236\\\",\\\"237\\\",\\\"238\\\",\\\"239\\\",\\\"240\\\",\\\"241\\\",\\\"242\\\",\\\"243\\\",\\\"244\\\",\\\"245\\\",\\\"246\\\",\\\"247\\\",\\\"248\\\",\\\"249\\\",\\\"250\\\",\\\"251\\\",\\\"252\\\",\\\"253\\\",\\\"254\\\",\\\"255\\\",\\\"256\\\",\\\"257\\\",\\\"258\\\",\\\"259\\\",\\\"260\\\",\\\"261\\\",\\\"262\\\",\\\"263\\\",\\\"264\\\",\\\"265\\\",\\\"266\\\",\\\"267\\\",\\\"268\\\",\\\"269\\\",\\\"270\\\",\\\"271\\\",\\\"272\\\",\\\"273\\\",\\\"274\\\",\\\"275\\\",\\\"276\\\",\\\"277\\\",\\\"278\\\",\\\"279\\\",\\\"280\\\",\\\"281\\\",\\\"282\\\",\\\"283\\\",\\\"284\\\",\\\"285\\\",\\\"286\\\",\\\"287\\\",\\\"288\\\",\\\"289\\\",\\\"290\\\",\\\"291\\\",\\\"292\\\",\\\"293\\\",\\\"294\\\",\\\"295\\\",\\\"296\\\",\\\"297\\\",\\\"298\\\",\\\"299\\\",\\\"300\\\",\\\"301\\\",\\\"302\\\",\\\"303\\\",\\\"304\\\",\\\"305\\\",\\\"306\\\",\\\"307\\\",\\\"308\\\",\\\"309\\\",\\\"310\\\",\\\"311\\\",\\\"312\\\",\\\"313\\\",\\\"314\\\",\\\"315\\\",\\\"316\\\",\\\"317\\\",\\\"318\\\",\\\"319\\\",\\\"320\\\",\\\"321\\\",\\\"322\\\",\\\"323\\\",\\\"324\\\",\\\"325\\\",\\\"326\\\",\\\"327\\\",\\\"328\\\",\\\"329\\\",\\\"330\\\",\\\"331\\\",\\\"332\\\",\\\"333\\\",\\\"334\\\",\\\"335\\\",\\\"336\\\",\\\"337\\\",\\\"338\\\",\\\"339\\\",\\\"340\\\",\\\"341\\\",\\\"342\\\",\\\"343\\\",\\\"344\\\",\\\"345\\\",\\\"346\\\",\\\"347\\\",\\\"348\\\",\\\"349\\\",\\\"350\\\",\\\"351\\\",\\\"352\\\",\\\"353\\\",\\\"354\\\",\\\"355\\\",\\\"356\\\",\\\"357\\\",\\\"358\\\",\\\"359\\\",\\\"360\\\",\\\"361\\\",\\\"362\\\",\\\"363\\\",\\\"364\\\",\\\"365\\\",\\\"366\\\",\\\"367\\\",\\\"368\\\",\\\"369\\\",\\\"370\\\",\\\"371\\\",\\\"372\\\",\\\"373\\\",\\\"374\\\",\\\"375\\\",\\\"376\\\",\\\"377\\\",\\\"378\\\",\\\"379\\\",\\\"380\\\",\\\"381\\\",\\\"382\\\",\\\"383\\\",\\\"384\\\",\\\"385\\\",\\\"386\\\",\\\"387\\\",\\\"388\\\",\\\"389\\\",\\\"390\\\",\\\"391\\\",\\\"392\\\",\\\"393\\\",\\\"394\\\",\\\"395\\\",\\\"396\\\",\\\"397\\\",\\\"398\\\",\\\"399\\\",\\\"400\\\",\\\"401\\\",\\\"402\\\",\\\"403\\\",\\\"404\\\",\\\"405\\\",\\\"406\\\",\\\"407\\\",\\\"408\\\",\\\"409\\\",\\\"410\\\",\\\"411\\\",\\\"412\\\",\\\"413\\\",\\\"414\\\",\\\"415\\\",\\\"416\\\",\\\"417\\\",\\\"418\\\",\\\"419\\\",\\\"420\\\",\\\"421\\\",\\\"422\\\",\\\"423\\\",\\\"424\\\",\\\"425\\\",\\\"426\\\",\\\"427\\\",\\\"428\\\",\\\"429\\\",\\\"430\\\",\\\"431\\\",\\\"432\\\",\\\"433\\\",\\\"434\\\",\\\"435\\\",\\\"436\\\",\\\"437\\\",\\\"438\\\",\\\"439\\\",\\\"440\\\",\\\"441\\\",\\\"442\\\",\\\"443\\\",\\\"444\\\",\\\"445\\\",\\\"446\\\",\\\"447\\\",\\\"448\\\",\\\"449\\\",\\\"450\\\",\\\"451\\\",\\\"452\\\",\\\"453\\\",\\\"454\\\",\\\"455\\\",\\\"456\\\",\\\"457\\\",\\\"458\\\",\\\"459\\\",\\\"460\\\",\\\"461\\\",\\\"462\\\",\\\"463\\\",\\\"464\\\",\\\"465\\\",\\\"466\\\",\\\"467\\\",\\\"468\\\",\\\"469\\\",\\\"470\\\",\\\"471\\\",\\\"472\\\",\\\"473\\\",\\\"474\\\",\\\"475\\\",\\\"476\\\",\\\"477\\\",\\\"478\\\",\\\"479\\\",\\\"480\\\",\\\"481\\\",\\\"482\\\",\\\"483\\\",\\\"484\\\",\\\"485\\\",\\\"486\\\",\\\"487\\\",\\\"488\\\",\\\"489\\\",\\\"490\\\",\\\"491\\\",\\\"492\\\",\\\"493\\\",\\\"494\\\",\\\"495\\\",\\\"496\\\",\\\"497\\\",\\\"498\\\",\\\"499\\\",\\\"500\\\",\\\"501\\\",\\\"502\\\",\\\"503\\\",\\\"504\\\",\\\"505\\\",\\\"506\\\",\\\"507\\\",\\\"508\\\",\\\"509\\\",\\\"510\\\",\\\"511\\\",\\\"512\\\",\\\"513\\\",\\\"514\\\",\\\"515\\\",\\\"516\\\",\\\"517\\\",\\\"518\\\",\\\"519\\\",\\\"520\\\",\\\"521\\\",\\\"522\\\",\\\"523\\\",\\\"524\\\",\\\"525\\\",\\\"526\\\",\\\"527\\\",\\\"528\\\",\\\"529\\\",\\\"530\\\",\\\"531\\\",\\\"532\\\",\\\"533\\\",\\\"534\\\",\\\"535\\\",\\\"536\\\",\\\"537\\\",\\\"538\\\",\\\"539\\\",\\\"540\\\",\\\"541\\\",\\\"542\\\",\\\"543\\\",\\\"544\\\",\\\"545\\\",\\\"546\\\",\\\"547\\\",\\\"548\\\",\\\"549\\\",\\\"550\\\",\\\"551\\\",\\\"552\\\",\\\"553\\\",\\\"554\\\",\\\"555\\\",\\\"556\\\",\\\"557\\\",\\\"558\\\",\\\"559\\\",\\\"560\\\",\\\"561\\\",\\\"562\\\",\\\"563\\\",\\\"564\\\",\\\"565\\\",\\\"566\\\",\\\"567\\\",\\\"568\\\",\\\"569\\\",\\\"570\\\",\\\"571\\\",\\\"572\\\",\\\"573\\\",\\\"574\\\",\\\"575\\\",\\\"576\\\",\\\"577\\\",\\\"578\\\",\\\"579\\\",\\\"580\\\",\\\"581\\\",\\\"582\\\",\\\"583\\\",\\\"584\\\",\\\"585\\\",\\\"586\\\",\\\"587\\\",\\\"588\\\",\\\"589\\\",\\\"590\\\",\\\"591\\\",\\\"592\\\",\\\"593\\\",\\\"594\\\",\\\"595\\\",\\\"596\\\",\\\"597\\\",\\\"598\\\",\\\"599\\\",\\\"600\\\",\\\"601\\\",\\\"602\\\",\\\"603\\\",\\\"604\\\",\\\"605\\\",\\\"606\\\",\\\"607\\\",\\\"608\\\",\\\"609\\\",\\\"610\\\",\\\"611\\\",\\\"612\\\",\\\"613\\\",\\\"614\\\",\\\"615\\\",\\\"616\\\",\\\"617\\\",\\\"618\\\",\\\"619\\\",\\\"620\\\",\\\"621\\\",\\\"622\\\",\\\"623\\\",\\\"624\\\",\\\"625\\\",\\\"626\\\",\\\"627\\\",\\\"628\\\",\\\"629\\\",\\\"630\\\",\\\"631\\\",\\\"632\\\",\\\"633\\\",\\\"634\\\",\\\"635\\\",\\\"636\\\",\\\"637\\\",\\\"638\\\",\\\"639\\\",\\\"640\\\",\\\"641\\\",\\\"642\\\",\\\"643\\\",\\\"644\\\",\\\"645\\\",\\\"646\\\",\\\"647\\\",\\\"648\\\",\\\"649\\\",\\\"650\\\",\\\"651\\\",\\\"652\\\",\\\"653\\\",\\\"654\\\",\\\"655\\\",\\\"656\\\",\\\"657\\\",\\\"658\\\",\\\"659\\\",\\\"660\\\",\\\"661\\\",\\\"662\\\",\\\"663\\\",\\\"664\\\",\\\"665\\\",\\\"666\\\",\\\"667\\\",\\\"668\\\",\\\"669\\\",\\\"670\\\",\\\"671\\\",\\\"672\\\",\\\"673\\\",\\\"674\\\",\\\"675\\\",\\\"676\\\",\\\"677\\\",\\\"678\\\",\\\"679\\\",\\\"680\\\",\\\"681\\\",\\\"682\\\",\\\"683\\\",\\\"684\\\",\\\"685\\\",\\\"686\\\",\\\"687\\\",\\\"688\\\",\\\"689\\\",\\\"690\\\",\\\"691\\\",\\\"692\\\",\\\"693\\\",\\\"694\\\",\\\"695\\\",\\\"696\\\",\\\"697\\\",\\\"698\\\",\\\"699\\\",\\\"700\\\",\\\"701\\\",\\\"702\\\",\\\"703\\\",\\\"704\\\",\\\"705\\\",\\\"706\\\",\\\"707\\\",\\\"708\\\",\\\"709\\\",\\\"710\\\",\\\"711\\\",\\\"712\\\",\\\"713\\\",\\\"714\\\",\\\"715\\\",\\\"716\\\",\\\"717\\\",\\\"718\\\",\\\"719\\\",\\\"720\\\",\\\"721\\\",\\\"722\\\",\\\"723\\\",\\\"724\\\",\\\"725\\\",\\\"726\\\",\\\"727\\\",\\\"728\\\",\\\"729\\\",\\\"730\\\",\\\"731\\\",\\\"732\\\",\\\"733\\\",\\\"734\\\",\\\"735\\\",\\\"736\\\",\\\"737\\\",\\\"738\\\",\\\"739\\\",\\\"740\\\",\\\"741\\\",\\\"742\\\",\\\"743\\\",\\\"744\\\",\\\"745\\\",\\\"746\\\",\\\"747\\\",\\\"748\\\",\\\"749\\\",\\\"750\\\",\\\"751\\\",\\\"752\\\",\\\"753\\\",\\\"754\\\",\\\"755\\\",\\\"756\\\",\\\"757\\\",\\\"758\\\",\\\"759\\\",\\\"760\\\",\\\"761\\\",\\\"762\\\",\\\"763\\\",\\\"764\\\",\\\"765\\\",\\\"766\\\",\\\"767\\\",\\\"768\\\",\\\"769\\\",\\\"770\\\",\\\"771\\\",\\\"772\\\",\\\"773\\\",\\\"774\\\",\\\"775\\\",\\\"776\\\",\\\"777\\\",\\\"778\\\",\\\"779\\\",\\\"780\\\",\\\"781\\\",\\\"782\\\",\\\"783\\\",\\\"784\\\",\\\"785\\\",\\\"786\\\",\\\"787\\\",\\\"788\\\",\\\"789\\\",\\\"790\\\",\\\"791\\\",\\\"792\\\",\\\"793\\\",\\\"794\\\",\\\"795\\\",\\\"796\\\",\\\"797\\\",\\\"798\\\",\\\"799\\\",\\\"800\\\",\\\"801\\\",\\\"802\\\",\\\"803\\\",\\\"804\\\",\\\"805\\\",\\\"806\\\",\\\"807\\\",\\\"808\\\",\\\"809\\\",\\\"810\\\",\\\"811\\\",\\\"812\\\",\\\"813\\\",\\\"814\\\",\\\"815\\\",\\\"816\\\",\\\"817\\\",\\\"818\\\",\\\"819\\\",\\\"820\\\",\\\"821\\\",\\\"822\\\",\\\"823\\\",\\\"824\\\",\\\"825\\\",\\\"826\\\",\\\"827\\\",\\\"828\\\",\\\"829\\\",\\\"830\\\",\\\"831\\\",\\\"832\\\",\\\"833\\\",\\\"834\\\",\\\"835\\\",\\\"836\\\",\\\"837\\\",\\\"838\\\",\\\"839\\\",\\\"840\\\",\\\"841\\\",\\\"842\\\",\\\"843\\\",\\\"844\\\",\\\"845\\\",\\\"846\\\",\\\"847\\\",\\\"848\\\",\\\"849\\\",\\\"850\\\",\\\"851\\\",\\\"852\\\",\\\"853\\\",\\\"854\\\",\\\"855\\\",\\\"856\\\",\\\"857\\\",\\\"858\\\",\\\"859\\\",\\\"860\\\",\\\"861\\\",\\\"862\\\",\\\"863\\\",\\\"864\\\",\\\"865\\\",\\\"866\\\",\\\"867\\\",\\\"868\\\",\\\"869\\\",\\\"870\\\",\\\"871\\\",\\\"872\\\",\\\"873\\\",\\\"874\\\",\\\"875\\\",\\\"876\\\",\\\"877\\\",\\\"878\\\",\\\"879\\\",\\\"880\\\",\\\"881\\\",\\\"882\\\",\\\"883\\\",\\\"884\\\",\\\"885\\\",\\\"886\\\",\\\"887\\\",\\\"888\\\",\\\"889\\\",\\\"890\\\",\\\"891\\\",\\\"892\\\",\\\"893\\\",\\\"894\\\",\\\"895\\\",\\\"896\\\",\\\"897\\\",\\\"898\\\",\\\"899\\\",\\\"900\\\",\\\"901\\\",\\\"902\\\",\\\"903\\\",\\\"904\\\",\\\"905\\\",\\\"906\\\",\\\"907\\\",\\\"908\\\",\\\"909\\\",\\\"910\\\",\\\"911\\\",\\\"912\\\",\\\"913\\\",\\\"914\\\",\\\"915\\\",\\\"916\\\",\\\"917\\\",\\\"918\\\",\\\"919\\\",\\\"920\\\",\\\"921\\\",\\\"922\\\",\\\"923\\\",\\\"924\\\",\\\"925\\\",\\\"926\\\",\\\"927\\\",\\\"928\\\",\\\"929\\\",\\\"930\\\",\\\"931\\\",\\\"932\\\",\\\"933\\\",\\\"934\\\",\\\"935\\\",\\\"936\\\",\\\"937\\\",\\\"938\\\",\\\"939\\\",\\\"940\\\",\\\"941\\\",\\\"942\\\",\\\"943\\\",\\\"944\\\",\\\"945\\\",\\\"946\\\",\\\"947\\\",\\\"948\\\",\\\"949\\\",\\\"950\\\",\\\"951\\\",\\\"952\\\",\\\"953\\\",\\\"954\\\",\\\"955\\\",\\\"956\\\",\\\"957\\\",\\\"958\\\",\\\"959\\\",\\\"960\\\",\\\"961\\\",\\\"962\\\",\\\"963\\\",\\\"964\\\",\\\"965\\\",\\\"966\\\",\\\"967\\\",\\\"968\\\",\\\"969\\\",\\\"970\\\",\\\"971\\\",\\\"972\\\",\\\"973\\\",\\\"974\\\",\\\"975\\\",\\\"976\\\",\\\"977\\\",\\\"978\\\",\\\"979\\\",\\\"980\\\",\\\"981\\\",\\\"982\\\",\\\"983\\\",\\\"984\\\",\\\"985\\\",\\\"986\\\",\\\"987\\\",\\\"988\\\",\\\"989\\\",\\\"990\\\",\\\"991\\\",\\\"992\\\",\\\"993\\\",\\\"994\\\",\\\"995\\\",\\\"996\\\",\\\"997\\\",\\\"998\\\",\\\"999\\\",\\\"1000\\\",\\\"1001\\\"],\\\"changes\\\":WebIO.getval({\\\"name\\\":\\\"changes\\\",\\\"scope\\\":\\\"1474386619770564904\\\",\\\"id\\\":\\\"7691619573216243698\\\",\\\"type\\\":\\\"observable\\\"}),\\\"index\\\":WebIO.getval({\\\"name\\\":\\\"index\\\",\\\"scope\\\":\\\"1474386619770564904\\\",\\\"id\\\":\\\"8360399954221392187\\\",\\\"type\\\":\\\"observable\\\"})};\\n    var self = this;\\n    function AppViewModel() {\\n        for (var key in json_data) {\\n            var el = json_data[key];\\n            this[key] = Array.isArray(el) ? ko.observableArray(el) : ko.observable(el);\\n        }\\n        \\n        [this[\\\"formatted_val\\\"]=ko.computed(    function(){\\n        return this.formatted_vals()[parseInt(this.index())-(1)];\\n    }\\n,this)]\\n        [this[\\\"changes\\\"].subscribe((function (val){!(this.valueFromJulia[\\\"changes\\\"]) ? (WebIO.setval({\\\"name\\\":\\\"changes\\\",\\\"scope\\\":\\\"1474386619770564904\\\",\\\"id\\\":\\\"7691619573216243698\\\",\\\"type\\\":\\\"observable\\\"},val)) : undefined; return this.valueFromJulia[\\\"changes\\\"]=false}),self),this[\\\"index\\\"].subscribe((function (val){!(this.valueFromJulia[\\\"index\\\"]) ? (WebIO.setval({\\\"name\\\":\\\"index\\\",\\\"scope\\\":\\\"1474386619770564904\\\",\\\"id\\\":\\\"8360399954221392187\\\",\\\"type\\\":\\\"observable\\\"},val)) : undefined; return this.valueFromJulia[\\\"index\\\"]=false}),self)]\\n        \\n    }\\n    self.model = new AppViewModel();\\n    self.valueFromJulia = {};\\n    for (var key in json_data) {\\n        self.valueFromJulia[key] = false;\\n    }\\n    ko.applyBindings(self.model, self.dom);\\n}\\n);\\n    (WebIO.importBlock({\\\"data\\\":[{\\\"name\\\":\\\"knockout\\\",\\\"type\\\":\\\"js\\\",\\\"url\\\":\\\"/assetserver/727383f2a47bd31570b7da84eee7b022dd6d7c78-knockout.js\\\"},{\\\"name\\\":\\\"knockout_punches\\\",\\\"type\\\":\\\"js\\\",\\\"url\\\":\\\"/assetserver/382b41b3b1bd9f26f75861d360bad7f8beea211f-knockout_punches.js\\\"}],\\\"type\\\":\\\"async_block\\\"})).then((imports) => handler.apply(this, imports));\\n}\\n\")])], Dict{Symbol, Any}(:className => \"field interact-widget\")), WebIO.Node{WebIO.DOM}(WebIO.DOM(:html, :div), Any[WebIO.Scope(WebIO.Node{WebIO.DOM}(WebIO.DOM(:html, :div), Any[WebIO.Node{WebIO.DOM}(WebIO.DOM(:html, :div), Any[WebIO.Node{WebIO.DOM}(WebIO.DOM(:html, :label), Any[\"scale\"], Dict{Symbol, Any}(:className => \"interact \", :style => Dict{Any, Any}(:padding => \"5px 10px 0px 10px\")))], Dict{Symbol, Any}(:className => \"interact-flex-row-left\")), WebIO.Node{WebIO.DOM}(WebIO.DOM(:html, :div), Any[WebIO.Node{WebIO.DOM}(WebIO.DOM(:html, :input), Any[], Dict{Symbol, Any}(:max => 20, :min => 1, :attributes => Dict{Any, Any}(:type => \"range\", Symbol(\"data-bind\") => \"numericValue: index, valueUpdate: 'input', event: {change: function (){this.changes(this.changes()+1)}}\", \"orient\" => \"horizontal\"), :step => 1, :className => \"slider slider is-fullwidth\", :style => Dict{Any, Any}()))], Dict{Symbol, Any}(:className => \"interact-flex-row-center\")), WebIO.Node{WebIO.DOM}(WebIO.DOM(:html, :div), Any[WebIO.Node{WebIO.DOM}(WebIO.DOM(:html, :p), Any[], Dict{Symbol, Any}(:attributes => Dict(\"data-bind\" => \"text: formatted_val\")))], Dict{Symbol, Any}(:className => \"interact-flex-row-right\"))], Dict{Symbol, Any}(:className => \"interact-flex-row interact-widget\")), Dict{String, Tuple{Observables.AbstractObservable, Union{Nothing, Bool}}}(\"changes\" => (Observable(0), nothing), \"index\" => (Observable{Any}(10), nothing)), Set{String}(), nothing, WebIO.Asset[WebIO.Asset(\"js\", \"knockout\", \"/home/dushya/.julia/packages/Knockout/HReiN/src/../assets/knockout.js\"), WebIO.Asset(\"js\", \"knockout_punches\", \"/home/dushya/.julia/packages/Knockout/HReiN/src/../assets/knockout_punches.js\"), WebIO.Asset(\"js\", nothing, \"/home/dushya/.julia/packages/InteractBase/LJXv3/src/../assets/all.js\"), WebIO.Asset(\"css\", nothing, \"/home/dushya/.julia/packages/InteractBase/LJXv3/src/../assets/style.css\"), WebIO.Asset(\"css\", nothing, \"/home/dushya/.julia/packages/Interact/PENUy/src/../assets/bulma_confined.min.css\")], Dict{Any, Any}(\"changes\" => Any[WebIO.JSString(\"(function (val){return (val!=this.model[\\\"changes\\\"]()) ? (this.valueFromJulia[\\\"changes\\\"]=true, this.model[\\\"changes\\\"](val)) : undefined})\")], \"index\" => Any[WebIO.JSString(\"(function (val){return (val!=this.model[\\\"index\\\"]()) ? (this.valueFromJulia[\\\"index\\\"]=true, this.model[\\\"index\\\"](val)) : undefined})\")]), WebIO.ConnectionPool(Channel{Any}(32), Set{WebIO.AbstractConnection}(), Base.GenericCondition{ReentrantLock}(Base.IntrusiveLinkedList{Task}(Task (runnable) @0x00007f016dc38970, Task (runnable) @0x00007f016dc38970), ReentrantLock(nothing, 0x00000000, 0x00, Base.GenericCondition{Base.Threads.SpinLock}(Base.IntrusiveLinkedList{Task}(nothing, nothing), Base.Threads.SpinLock(0)), (1, 139644161233136, 139643277908528)))), WebIO.JSString[WebIO.JSString(\"function () {\\n    var handler = (function (ko, koPunches) {\\n    ko.punches.enableAll();\\n    ko.bindingHandlers.numericValue = {\\n        init: function(element, valueAccessor, allBindings, data, context) {\\n            var stringified = ko.observable(ko.unwrap(valueAccessor()));\\n            stringified.subscribe(function(value) {\\n                var val = parseFloat(value);\\n                if (!isNaN(val)) {\\n                    valueAccessor()(val);\\n                }\\n            });\\n            valueAccessor().subscribe(function(value) {\\n                var str = JSON.stringify(value);\\n                if ((str == \\\"0\\\") && ([\\\"-0\\\", \\\"-0.\\\"].indexOf(stringified()) >= 0))\\n                     return;\\n                 if ([\\\"null\\\", \\\"\\\"].indexOf(str) >= 0)\\n                     return;\\n                stringified(str);\\n            });\\n            ko.applyBindingsToNode(\\n                element,\\n                {\\n                    value: stringified,\\n                    valueUpdate: allBindings.get('valueUpdate'),\\n                },\\n                context,\\n            );\\n        }\\n    };\\n    var json_data = {\\\"formatted_vals\\\":[\\\"0.1\\\",\\\"0.2\\\",\\\"0.3\\\",\\\"0.4\\\",\\\"0.5\\\",\\\"0.6\\\",\\\"0.7\\\",\\\"0.8\\\",\\\"0.9\\\",\\\"1.0\\\",\\\"1.1\\\",\\\"1.2\\\",\\\"1.3\\\",\\\"1.4\\\",\\\"1.5\\\",\\\"1.6\\\",\\\"1.7\\\",\\\"1.8\\\",\\\"1.9\\\",\\\"2.0\\\"],\\\"changes\\\":WebIO.getval({\\\"name\\\":\\\"changes\\\",\\\"scope\\\":\\\"1421285673893697983\\\",\\\"id\\\":\\\"17624351634468925850\\\",\\\"type\\\":\\\"observable\\\"}),\\\"index\\\":WebIO.getval({\\\"name\\\":\\\"index\\\",\\\"scope\\\":\\\"1421285673893697983\\\",\\\"id\\\":\\\"11807532585786603845\\\",\\\"type\\\":\\\"observable\\\"})};\\n    var self = this;\\n    function AppViewModel() {\\n        for (var key in json_data) {\\n            var el = json_data[key];\\n            this[key] = Array.isArray(el) ? ko.observableArray(el) : ko.observable(el);\\n        }\\n        \\n        [this[\\\"formatted_val\\\"]=ko.computed(    function(){\\n        return this.formatted_vals()[parseInt(this.index())-(1)];\\n    }\\n,this)]\\n        [this[\\\"changes\\\"].subscribe((function (val){!(this.valueFromJulia[\\\"changes\\\"]) ? (WebIO.setval({\\\"name\\\":\\\"changes\\\",\\\"scope\\\":\\\"1421285673893697983\\\",\\\"id\\\":\\\"17624351634468925850\\\",\\\"type\\\":\\\"observable\\\"},val)) : undefined; return this.valueFromJulia[\\\"changes\\\"]=false}),self),this[\\\"index\\\"].subscribe((function (val){!(this.valueFromJulia[\\\"index\\\"]) ? (WebIO.setval({\\\"name\\\":\\\"index\\\",\\\"scope\\\":\\\"1421285673893697983\\\",\\\"id\\\":\\\"11807532585786603845\\\",\\\"type\\\":\\\"observable\\\"},val)) : undefined; return this.valueFromJulia[\\\"index\\\"]=false}),self)]\\n        \\n    }\\n    self.model = new AppViewModel();\\n    self.valueFromJulia = {};\\n    for (var key in json_data) {\\n        self.valueFromJulia[key] = false;\\n    }\\n    ko.applyBindings(self.model, self.dom);\\n}\\n);\\n    (WebIO.importBlock({\\\"data\\\":[{\\\"name\\\":\\\"knockout\\\",\\\"type\\\":\\\"js\\\",\\\"url\\\":\\\"/assetserver/727383f2a47bd31570b7da84eee7b022dd6d7c78-knockout.js\\\"},{\\\"name\\\":\\\"knockout_punches\\\",\\\"type\\\":\\\"js\\\",\\\"url\\\":\\\"/assetserver/382b41b3b1bd9f26f75861d360bad7f8beea211f-knockout_punches.js\\\"}],\\\"type\\\":\\\"async_block\\\"})).then((imports) => handler.apply(this, imports));\\n}\\n\")])], Dict{Symbol, Any}(:className => \"field interact-widget\")), WebIO.Node{WebIO.DOM}(WebIO.DOM(:html, :div), Any[WebIO.Node{WebIO.DOM}(WebIO.DOM(:html, :div), Any[WebIO.Scope(WebIO.Node{WebIO.DOM}(WebIO.DOM(:html, :div), Any[], Dict{Symbol, Any}(:id => \"container\")), Dict{String, Tuple{Observables.AbstractObservable, Union{Nothing, Bool}}}(\"value\" => (Observable(\"\\\\;\\\\;\"), nothing)), Set{String}(), nothing, WebIO.Asset[WebIO.Asset(\"js\", nothing, \"/home/dushya/.julia/packages/InteractBase/LJXv3/src/../assets/katex.min.js\"), WebIO.Asset(\"css\", nothing, \"/home/dushya/.julia/packages/InteractBase/LJXv3/src/../assets/katex.min.css\")], Dict{Any, Any}(\"value\" => Any[WebIO.JSString(\"(function (txt){return this.k.render(txt,this.container)})\")]), WebIO.ConnectionPool(Channel{Any}(32), Set{WebIO.AbstractConnection}(), Base.GenericCondition{ReentrantLock}(Base.IntrusiveLinkedList{Task}(Task (runnable) @0x00007f016fad01a0, Task (runnable) @0x00007f016fad01a0), ReentrantLock(nothing, 0x00000000, 0x00, Base.GenericCondition{Base.Threads.SpinLock}(Base.IntrusiveLinkedList{Task}(nothing, nothing), Base.Threads.SpinLock(0)), (0, 0, 139779710648320)))), WebIO.JSString[WebIO.JSString(\"function () {\\n    var handler = ((function (k){this.k=k; this.container=this.dom.querySelector(\\\"#container\\\"); return k.render(\\\"\\\\\\\\;\\\\\\\\;\\\",this.container)}));\\n    (WebIO.importBlock({\\\"data\\\":[{\\\"name\\\":null,\\\"type\\\":\\\"js\\\",\\\"url\\\":\\\"/assetserver/dd22ed1bf1896c2748f3fe616ce0b838adc895c1-katex.min.js\\\"},{\\\"name\\\":null,\\\"type\\\":\\\"css\\\",\\\"url\\\":\\\"/assetserver/46517a424aa5e6cffc1360d7e0848b601c584ee3-katex.min.css\\\"}],\\\"type\\\":\\\"async_block\\\"})).then((imports) => handler.apply(this, imports));\\n}\\n\")])], Dict{Symbol, Any}(:className => \"interact-widget\")), WebIO.Node{WebIO.DOM}(WebIO.DOM(:html, :div), Any[WebIO.Scope(WebIO.Node{WebIO.DOM}(WebIO.DOM(:html, :button), Any[\"run\"], Dict{Symbol, Any}(:attributes => Dict{Any, Any}(\"data-bind\" => \"click: function (){this.clicks(this.clicks()+1)}, css: {'is-loading' : loading}\"), :className => \"is-medium button is-primary\", :style => Dict{String, Any}())), Dict{String, Tuple{Observables.AbstractObservable, Union{Nothing, Bool}}}(\"loading\" => (Observable(false), nothing), \"clicks\" => (Observable(0), nothing)), Set{String}(), nothing, WebIO.Asset[WebIO.Asset(\"js\", \"knockout\", \"/home/dushya/.julia/packages/Knockout/HReiN/src/../assets/knockout.js\"), WebIO.Asset(\"js\", \"knockout_punches\", \"/home/dushya/.julia/packages/Knockout/HReiN/src/../assets/knockout_punches.js\"), WebIO.Asset(\"js\", nothing, \"/home/dushya/.julia/packages/InteractBase/LJXv3/src/../assets/all.js\"), WebIO.Asset(\"css\", nothing, \"/home/dushya/.julia/packages/InteractBase/LJXv3/src/../assets/style.css\"), WebIO.Asset(\"css\", nothing, \"/home/dushya/.julia/packages/Interact/PENUy/src/../assets/bulma_confined.min.css\")], Dict{Any, Any}(\"loading\" => Any[WebIO.JSString(\"(function (val){return (val!=this.model[\\\"loading\\\"]()) ? (this.valueFromJulia[\\\"loading\\\"]=true, this.model[\\\"loading\\\"](val)) : undefined})\")], \"clicks\" => Any[WebIO.JSString(\"(function (val){return (val!=this.model[\\\"clicks\\\"]()) ? (this.valueFromJulia[\\\"clicks\\\"]=true, this.model[\\\"clicks\\\"](val)) : undefined})\")]), WebIO.ConnectionPool(Channel{Any}(32), Set{WebIO.AbstractConnection}(), Base.GenericCondition{ReentrantLock}(Base.IntrusiveLinkedList{Task}(Task (runnable) @0x00007f00fc822270, Task (runnable) @0x00007f00fc822270), ReentrantLock(nothing, 0x00000000, 0x00, Base.GenericCondition{Base.Threads.SpinLock}(Base.IntrusiveLinkedList{Task}(nothing, nothing), Base.Threads.SpinLock(0)), (0, 0, 154618822656)))), WebIO.JSString[WebIO.JSString(\"function () {\\n    var handler = (function (ko, koPunches) {\\n    ko.punches.enableAll();\\n    ko.bindingHandlers.numericValue = {\\n        init: function(element, valueAccessor, allBindings, data, context) {\\n            var stringified = ko.observable(ko.unwrap(valueAccessor()));\\n            stringified.subscribe(function(value) {\\n                var val = parseFloat(value);\\n                if (!isNaN(val)) {\\n                    valueAccessor()(val);\\n                }\\n            });\\n            valueAccessor().subscribe(function(value) {\\n                var str = JSON.stringify(value);\\n                if ((str == \\\"0\\\") && ([\\\"-0\\\", \\\"-0.\\\"].indexOf(stringified()) >= 0))\\n                     return;\\n                 if ([\\\"null\\\", \\\"\\\"].indexOf(str) >= 0)\\n                     return;\\n                stringified(str);\\n            });\\n            ko.applyBindingsToNode(\\n                element,\\n                {\\n                    value: stringified,\\n                    valueUpdate: allBindings.get('valueUpdate'),\\n                },\\n                context,\\n            );\\n        }\\n    };\\n    var json_data = {\\\"loading\\\":WebIO.getval({\\\"name\\\":\\\"loading\\\",\\\"scope\\\":\\\"2828908809056366846\\\",\\\"id\\\":\\\"10419506962975309422\\\",\\\"type\\\":\\\"observable\\\"}),\\\"clicks\\\":WebIO.getval({\\\"name\\\":\\\"clicks\\\",\\\"scope\\\":\\\"2828908809056366846\\\",\\\"id\\\":\\\"14498333991527608046\\\",\\\"type\\\":\\\"observable\\\"})};\\n    var self = this;\\n    function AppViewModel() {\\n        for (var key in json_data) {\\n            var el = json_data[key];\\n            this[key] = Array.isArray(el) ? ko.observableArray(el) : ko.observable(el);\\n        }\\n        \\n        \\n        [this[\\\"loading\\\"].subscribe((function (val){!(this.valueFromJulia[\\\"loading\\\"]) ? (WebIO.setval({\\\"name\\\":\\\"loading\\\",\\\"scope\\\":\\\"2828908809056366846\\\",\\\"id\\\":\\\"10419506962975309422\\\",\\\"type\\\":\\\"observable\\\"},val)) : undefined; return this.valueFromJulia[\\\"loading\\\"]=false}),self),this[\\\"clicks\\\"].subscribe((function (val){!(this.valueFromJulia[\\\"clicks\\\"]) ? (WebIO.setval({\\\"name\\\":\\\"clicks\\\",\\\"scope\\\":\\\"2828908809056366846\\\",\\\"id\\\":\\\"14498333991527608046\\\",\\\"type\\\":\\\"observable\\\"},val)) : undefined; return this.valueFromJulia[\\\"clicks\\\"]=false}),self)]\\n        \\n    }\\n    self.model = new AppViewModel();\\n    self.valueFromJulia = {};\\n    for (var key in json_data) {\\n        self.valueFromJulia[key] = false;\\n    }\\n    ko.applyBindings(self.model, self.dom);\\n}\\n);\\n    (WebIO.importBlock({\\\"data\\\":[{\\\"name\\\":\\\"knockout\\\",\\\"type\\\":\\\"js\\\",\\\"url\\\":\\\"/assetserver/727383f2a47bd31570b7da84eee7b022dd6d7c78-knockout.js\\\"},{\\\"name\\\":\\\"knockout_punches\\\",\\\"type\\\":\\\"js\\\",\\\"url\\\":\\\"/assetserver/382b41b3b1bd9f26f75861d360bad7f8beea211f-knockout_punches.js\\\"}],\\\"type\\\":\\\"async_block\\\"})).then((imports) => handler.apply(this, imports));\\n}\\n\")])], Dict{Symbol, Any}(:className => \"field interact-widget\")), WebIO.Node{WebIO.DOM}(WebIO.DOM(:html, :div), Any[WebIO.Scope(WebIO.Node{WebIO.DOM}(WebIO.DOM(:html, :div), Any[], Dict{Symbol, Any}(:id => \"container\")), Dict{String, Tuple{Observables.AbstractObservable, Union{Nothing, Bool}}}(\"value\" => (Observable(\"\\\\;\\\\;\"), nothing)), Set{String}(), nothing, WebIO.Asset[WebIO.Asset(\"js\", nothing, \"/home/dushya/.julia/packages/InteractBase/LJXv3/src/../assets/katex.min.js\"), WebIO.Asset(\"css\", nothing, \"/home/dushya/.julia/packages/InteractBase/LJXv3/src/../assets/katex.min.css\")], Dict{Any, Any}(\"value\" => Any[WebIO.JSString(\"(function (txt){return this.k.render(txt,this.container)})\")]), WebIO.ConnectionPool(Channel{Any}(32), Set{WebIO.AbstractConnection}(), Base.GenericCondition{ReentrantLock}(Base.IntrusiveLinkedList{Task}(Task (runnable) @0x00007f016fad01a0, Task (runnable) @0x00007f016fad01a0), ReentrantLock(nothing, 0x00000000, 0x00, Base.GenericCondition{Base.Threads.SpinLock}(Base.IntrusiveLinkedList{Task}(nothing, nothing), Base.Threads.SpinLock(0)), (0, 0, 139779710648320)))), WebIO.JSString[WebIO.JSString(\"function () {\\n    var handler = ((function (k){this.k=k; this.container=this.dom.querySelector(\\\"#container\\\"); return k.render(\\\"\\\\\\\\;\\\\\\\\;\\\",this.container)}));\\n    (WebIO.importBlock({\\\"data\\\":[{\\\"name\\\":null,\\\"type\\\":\\\"js\\\",\\\"url\\\":\\\"/assetserver/dd22ed1bf1896c2748f3fe616ce0b838adc895c1-katex.min.js\\\"},{\\\"name\\\":null,\\\"type\\\":\\\"css\\\",\\\"url\\\":\\\"/assetserver/46517a424aa5e6cffc1360d7e0848b601c584ee3-katex.min.css\\\"}],\\\"type\\\":\\\"async_block\\\"})).then((imports) => handler.apply(this, imports));\\n}\\n\")])], Dict{Symbol, Any}(:className => \"interact-widget\")), WebIO.Node{WebIO.DOM}(WebIO.DOM(:html, :div), Any[WebIO.Scope(WebIO.Node{WebIO.DOM}(WebIO.DOM(:html, :button), Any[\"stop\"], Dict{Symbol, Any}(:attributes => Dict{Any, Any}(\"data-bind\" => \"click: function (){this.clicks(this.clicks()+1)}, css: {'is-loading' : loading}\"), :className => \"is-medium button is-primary\", :style => Dict{String, Any}())), Dict{String, Tuple{Observables.AbstractObservable, Union{Nothing, Bool}}}(\"loading\" => (Observable(false), nothing), \"clicks\" => (Observable(0), nothing)), Set{String}(), nothing, WebIO.Asset[WebIO.Asset(\"js\", \"knockout\", \"/home/dushya/.julia/packages/Knockout/HReiN/src/../assets/knockout.js\"), WebIO.Asset(\"js\", \"knockout_punches\", \"/home/dushya/.julia/packages/Knockout/HReiN/src/../assets/knockout_punches.js\"), WebIO.Asset(\"js\", nothing, \"/home/dushya/.julia/packages/InteractBase/LJXv3/src/../assets/all.js\"), WebIO.Asset(\"css\", nothing, \"/home/dushya/.julia/packages/InteractBase/LJXv3/src/../assets/style.css\"), WebIO.Asset(\"css\", nothing, \"/home/dushya/.julia/packages/Interact/PENUy/src/../assets/bulma_confined.min.css\")], Dict{Any, Any}(\"loading\" => Any[WebIO.JSString(\"(function (val){return (val!=this.model[\\\"loading\\\"]()) ? (this.valueFromJulia[\\\"loading\\\"]=true, this.model[\\\"loading\\\"](val)) : undefined})\")], \"clicks\" => Any[WebIO.JSString(\"(function (val){return (val!=this.model[\\\"clicks\\\"]()) ? (this.valueFromJulia[\\\"clicks\\\"]=true, this.model[\\\"clicks\\\"](val)) : undefined})\")]), WebIO.ConnectionPool(Channel{Any}(32), Set{WebIO.AbstractConnection}(), Base.GenericCondition{ReentrantLock}(Base.IntrusiveLinkedList{Task}(Task (runnable) @0x00007f00fc56ed60, Task (runnable) @0x00007f00fc56ed60), ReentrantLock(nothing, 0x00000000, 0x00, Base.GenericCondition{Base.Threads.SpinLock}(Base.IntrusiveLinkedList{Task}(nothing, nothing), Base.Threads.SpinLock(0)), (1, 139644161257568, 141733920768)))), WebIO.JSString[WebIO.JSString(\"function () {\\n    var handler = (function (ko, koPunches) {\\n    ko.punches.enableAll();\\n    ko.bindingHandlers.numericValue = {\\n        init: function(element, valueAccessor, allBindings, data, context) {\\n            var stringified = ko.observable(ko.unwrap(valueAccessor()));\\n            stringified.subscribe(function(value) {\\n                var val = parseFloat(value);\\n                if (!isNaN(val)) {\\n                    valueAccessor()(val);\\n                }\\n            });\\n            valueAccessor().subscribe(function(value) {\\n                var str = JSON.stringify(value);\\n                if ((str == \\\"0\\\") && ([\\\"-0\\\", \\\"-0.\\\"].indexOf(stringified()) >= 0))\\n                     return;\\n                 if ([\\\"null\\\", \\\"\\\"].indexOf(str) >= 0)\\n                     return;\\n                stringified(str);\\n            });\\n            ko.applyBindingsToNode(\\n                element,\\n                {\\n                    value: stringified,\\n                    valueUpdate: allBindings.get('valueUpdate'),\\n                },\\n                context,\\n            );\\n        }\\n    };\\n    var json_data = {\\\"loading\\\":WebIO.getval({\\\"name\\\":\\\"loading\\\",\\\"scope\\\":\\\"13426226197755128741\\\",\\\"id\\\":\\\"13097690424958637112\\\",\\\"type\\\":\\\"observable\\\"}),\\\"clicks\\\":WebIO.getval({\\\"name\\\":\\\"clicks\\\",\\\"scope\\\":\\\"13426226197755128741\\\",\\\"id\\\":\\\"15646165880896830937\\\",\\\"type\\\":\\\"observable\\\"})};\\n    var self = this;\\n    function AppViewModel() {\\n        for (var key in json_data) {\\n            var el = json_data[key];\\n            this[key] = Array.isArray(el) ? ko.observableArray(el) : ko.observable(el);\\n        }\\n        \\n        \\n        [this[\\\"loading\\\"].subscribe((function (val){!(this.valueFromJulia[\\\"loading\\\"]) ? (WebIO.setval({\\\"name\\\":\\\"loading\\\",\\\"scope\\\":\\\"13426226197755128741\\\",\\\"id\\\":\\\"13097690424958637112\\\",\\\"type\\\":\\\"observable\\\"},val)) : undefined; return this.valueFromJulia[\\\"loading\\\"]=false}),self),this[\\\"clicks\\\"].subscribe((function (val){!(this.valueFromJulia[\\\"clicks\\\"]) ? (WebIO.setval({\\\"name\\\":\\\"clicks\\\",\\\"scope\\\":\\\"13426226197755128741\\\",\\\"id\\\":\\\"15646165880896830937\\\",\\\"type\\\":\\\"observable\\\"},val)) : undefined; return this.valueFromJulia[\\\"clicks\\\"]=false}),self)]\\n        \\n    }\\n    self.model = new AppViewModel();\\n    self.valueFromJulia = {};\\n    for (var key in json_data) {\\n        self.valueFromJulia[key] = false;\\n    }\\n    ko.applyBindings(self.model, self.dom);\\n}\\n);\\n    (WebIO.importBlock({\\\"data\\\":[{\\\"name\\\":\\\"knockout\\\",\\\"type\\\":\\\"js\\\",\\\"url\\\":\\\"/assetserver/727383f2a47bd31570b7da84eee7b022dd6d7c78-knockout.js\\\"},{\\\"name\\\":\\\"knockout_punches\\\",\\\"type\\\":\\\"js\\\",\\\"url\\\":\\\"/assetserver/382b41b3b1bd9f26f75861d360bad7f8beea211f-knockout_punches.js\\\"}],\\\"type\\\":\\\"async_block\\\"})).then((imports) => handler.apply(this, imports));\\n}\\n\")])], Dict{Symbol, Any}(:className => \"field interact-widget\")), WebIO.Node{WebIO.DOM}(WebIO.DOM(:html, :div), Any[WebIO.Scope(WebIO.Node{WebIO.DOM}(WebIO.DOM(:html, :div), Any[], Dict{Symbol, Any}(:id => \"container\")), Dict{String, Tuple{Observables.AbstractObservable, Union{Nothing, Bool}}}(\"value\" => (Observable(\"\\\\;\\\\;\"), nothing)), Set{String}(), nothing, WebIO.Asset[WebIO.Asset(\"js\", nothing, \"/home/dushya/.julia/packages/InteractBase/LJXv3/src/../assets/katex.min.js\"), WebIO.Asset(\"css\", nothing, \"/home/dushya/.julia/packages/InteractBase/LJXv3/src/../assets/katex.min.css\")], Dict{Any, Any}(\"value\" => Any[WebIO.JSString(\"(function (txt){return this.k.render(txt,this.container)})\")]), WebIO.ConnectionPool(Channel{Any}(32), Set{WebIO.AbstractConnection}(), Base.GenericCondition{ReentrantLock}(Base.IntrusiveLinkedList{Task}(Task (runnable) @0x00007f016fad01a0, Task (runnable) @0x00007f016fad01a0), ReentrantLock(nothing, 0x00000000, 0x00, Base.GenericCondition{Base.Threads.SpinLock}(Base.IntrusiveLinkedList{Task}(nothing, nothing), Base.Threads.SpinLock(0)), (0, 0, 139779710648320)))), WebIO.JSString[WebIO.JSString(\"function () {\\n    var handler = ((function (k){this.k=k; this.container=this.dom.querySelector(\\\"#container\\\"); return k.render(\\\"\\\\\\\\;\\\\\\\\;\\\",this.container)}));\\n    (WebIO.importBlock({\\\"data\\\":[{\\\"name\\\":null,\\\"type\\\":\\\"js\\\",\\\"url\\\":\\\"/assetserver/dd22ed1bf1896c2748f3fe616ce0b838adc895c1-katex.min.js\\\"},{\\\"name\\\":null,\\\"type\\\":\\\"css\\\",\\\"url\\\":\\\"/assetserver/46517a424aa5e6cffc1360d7e0848b601c584ee3-katex.min.css\\\"}],\\\"type\\\":\\\"async_block\\\"})).then((imports) => handler.apply(this, imports));\\n}\\n\")])], Dict{Symbol, Any}(:className => \"interact-widget\")), WebIO.Node{WebIO.DOM}(WebIO.DOM(:html, :div), Any[WebIO.Scope(WebIO.Node{WebIO.DOM}(WebIO.DOM(:html, :button), Any[\"save\"], Dict{Symbol, Any}(:attributes => Dict{Any, Any}(\"data-bind\" => \"click: function (){this.clicks(this.clicks()+1)}, css: {'is-loading' : loading}\"), :className => \"is-medium button is-primary\", :style => Dict{String, Any}())), Dict{String, Tuple{Observables.AbstractObservable, Union{Nothing, Bool}}}(\"loading\" => (Observable(false), nothing), \"clicks\" => (Observable(0), nothing)), Set{String}(), nothing, WebIO.Asset[WebIO.Asset(\"js\", \"knockout\", \"/home/dushya/.julia/packages/Knockout/HReiN/src/../assets/knockout.js\"), WebIO.Asset(\"js\", \"knockout_punches\", \"/home/dushya/.julia/packages/Knockout/HReiN/src/../assets/knockout_punches.js\"), WebIO.Asset(\"js\", nothing, \"/home/dushya/.julia/packages/InteractBase/LJXv3/src/../assets/all.js\"), WebIO.Asset(\"css\", nothing, \"/home/dushya/.julia/packages/InteractBase/LJXv3/src/../assets/style.css\"), WebIO.Asset(\"css\", nothing, \"/home/dushya/.julia/packages/Interact/PENUy/src/../assets/bulma_confined.min.css\")], Dict{Any, Any}(\"loading\" => Any[WebIO.JSString(\"(function (val){return (val!=this.model[\\\"loading\\\"]()) ? (this.valueFromJulia[\\\"loading\\\"]=true, this.model[\\\"loading\\\"](val)) : undefined})\")], \"clicks\" => Any[WebIO.JSString(\"(function (val){return (val!=this.model[\\\"clicks\\\"]()) ? (this.valueFromJulia[\\\"clicks\\\"]=true, this.model[\\\"clicks\\\"](val)) : undefined})\")]), WebIO.ConnectionPool(Channel{Any}(32), Set{WebIO.AbstractConnection}(), Base.GenericCondition{ReentrantLock}(Base.IntrusiveLinkedList{Task}(Task (runnable) @0x00007f00fc55d5f0, Task (runnable) @0x00007f00fc55d5f0), ReentrantLock(nothing, 0x00000000, 0x00, Base.GenericCondition{Base.Threads.SpinLock}(Base.IntrusiveLinkedList{Task}(nothing, nothing), Base.Threads.SpinLock(0)), (1, 0, 141733920835)))), WebIO.JSString[WebIO.JSString(\"function () {\\n    var handler = (function (ko, koPunches) {\\n    ko.punches.enableAll();\\n    ko.bindingHandlers.numericValue = {\\n        init: function(element, valueAccessor, allBindings, data, context) {\\n            var stringified = ko.observable(ko.unwrap(valueAccessor()));\\n            stringified.subscribe(function(value) {\\n                var val = parseFloat(value);\\n                if (!isNaN(val)) {\\n                    valueAccessor()(val);\\n                }\\n            });\\n            valueAccessor().subscribe(function(value) {\\n                var str = JSON.stringify(value);\\n                if ((str == \\\"0\\\") && ([\\\"-0\\\", \\\"-0.\\\"].indexOf(stringified()) >= 0))\\n                     return;\\n                 if ([\\\"null\\\", \\\"\\\"].indexOf(str) >= 0)\\n                     return;\\n                stringified(str);\\n            });\\n            ko.applyBindingsToNode(\\n                element,\\n                {\\n                    value: stringified,\\n                    valueUpdate: allBindings.get('valueUpdate'),\\n                },\\n                context,\\n            );\\n        }\\n    };\\n    var json_data = {\\\"loading\\\":WebIO.getval({\\\"name\\\":\\\"loading\\\",\\\"scope\\\":\\\"14672287766722826383\\\",\\\"id\\\":\\\"14427644067593070461\\\",\\\"type\\\":\\\"observable\\\"}),\\\"clicks\\\":WebIO.getval({\\\"name\\\":\\\"clicks\\\",\\\"scope\\\":\\\"14672287766722826383\\\",\\\"id\\\":\\\"17965976049674500974\\\",\\\"type\\\":\\\"observable\\\"})};\\n    var self = this;\\n    function AppViewModel() {\\n        for (var key in json_data) {\\n            var el = json_data[key];\\n            this[key] = Array.isArray(el) ? ko.observableArray(el) : ko.observable(el);\\n        }\\n        \\n        \\n        [this[\\\"loading\\\"].subscribe((function (val){!(this.valueFromJulia[\\\"loading\\\"]) ? (WebIO.setval({\\\"name\\\":\\\"loading\\\",\\\"scope\\\":\\\"14672287766722826383\\\",\\\"id\\\":\\\"14427644067593070461\\\",\\\"type\\\":\\\"observable\\\"},val)) : undefined; return this.valueFromJulia[\\\"loading\\\"]=false}),self),this[\\\"clicks\\\"].subscribe((function (val){!(this.valueFromJulia[\\\"clicks\\\"]) ? (WebIO.setval({\\\"name\\\":\\\"clicks\\\",\\\"scope\\\":\\\"14672287766722826383\\\",\\\"id\\\":\\\"17965976049674500974\\\",\\\"type\\\":\\\"observable\\\"},val)) : undefined; return this.valueFromJulia[\\\"clicks\\\"]=false}),self)]\\n        \\n    }\\n    self.model = new AppViewModel();\\n    self.valueFromJulia = {};\\n    for (var key in json_data) {\\n        self.valueFromJulia[key] = false;\\n    }\\n    ko.applyBindings(self.model, self.dom);\\n}\\n);\\n    (WebIO.importBlock({\\\"data\\\":[{\\\"name\\\":\\\"knockout\\\",\\\"type\\\":\\\"js\\\",\\\"url\\\":\\\"/assetserver/727383f2a47bd31570b7da84eee7b022dd6d7c78-knockout.js\\\"},{\\\"name\\\":\\\"knockout_punches\\\",\\\"type\\\":\\\"js\\\",\\\"url\\\":\\\"/assetserver/382b41b3b1bd9f26f75861d360bad7f8beea211f-knockout_punches.js\\\"}],\\\"type\\\":\\\"async_block\\\"})).then((imports) => handler.apply(this, imports));\\n}\\n\")])], Dict{Symbol, Any}(:className => \"field interact-widget\"))], Dict{Symbol, Any}(:style => Dict(\"display\" => \"flex\", \"flex-direction\" => \"row\")))], Dict{Symbol, Any}(:style => Dict(\"display\" => \"flex\", \"flex-direction\" => \"column\"))), WebIO.Node{WebIO.DOM}(WebIO.DOM(:html, :div), Any[WebIO.Scope(WebIO.Node{WebIO.DOM}(WebIO.DOM(:html, :div), Any[], Dict{Symbol, Any}(:id => \"container\")), Dict{String, Tuple{Observables.AbstractObservable, Union{Nothing, Bool}}}(\"value\" => (Observable(\"\\\\;\\\\;\"), nothing)), Set{String}(), nothing, WebIO.Asset[WebIO.Asset(\"js\", nothing, \"/home/dushya/.julia/packages/InteractBase/LJXv3/src/../assets/katex.min.js\"), WebIO.Asset(\"css\", nothing, \"/home/dushya/.julia/packages/InteractBase/LJXv3/src/../assets/katex.min.css\")], Dict{Any, Any}(\"value\" => Any[WebIO.JSString(\"(function (txt){return this.k.render(txt,this.container)})\")]), WebIO.ConnectionPool(Channel{Any}(32), Set{WebIO.AbstractConnection}(), Base.GenericCondition{ReentrantLock}(Base.IntrusiveLinkedList{Task}(Task (runnable) @0x00007f016fad01a0, Task (runnable) @0x00007f016fad01a0), ReentrantLock(nothing, 0x00000000, 0x00, Base.GenericCondition{Base.Threads.SpinLock}(Base.IntrusiveLinkedList{Task}(nothing, nothing), Base.Threads.SpinLock(0)), (0, 0, 139779710648320)))), WebIO.JSString[WebIO.JSString(\"function () {\\n    var handler = ((function (k){this.k=k; this.container=this.dom.querySelector(\\\"#container\\\"); return k.render(\\\"\\\\\\\\;\\\\\\\\;\\\",this.container)}));\\n    (WebIO.importBlock({\\\"data\\\":[{\\\"name\\\":null,\\\"type\\\":\\\"js\\\",\\\"url\\\":\\\"/assetserver/dd22ed1bf1896c2748f3fe616ce0b838adc895c1-katex.min.js\\\"},{\\\"name\\\":null,\\\"type\\\":\\\"css\\\",\\\"url\\\":\\\"/assetserver/46517a424aa5e6cffc1360d7e0848b601c584ee3-katex.min.css\\\"}],\\\"type\\\":\\\"async_block\\\"})).then((imports) => handler.apply(this, imports));\\n}\\n\")])], Dict{Symbol, Any}(:className => \"interact-widget\")), Observable(Luxor.Drawing(430.0, 430.0, \"\", Cairo.CairoSurfaceBase{UInt32}(Ptr{Nothing} @0x0000000000000000, 430.0, 430.0), Cairo.CairoContext(Ptr{Nothing} @0x0000000009326e70, Cairo.CairoSurfaceBase{UInt32}(Ptr{Nothing} @0x0000000000000000, 430.0, 430.0), Ptr{Nothing} @0x000000000914b010), :png, 0.0, 0.0, 0.0, 1.0, IOBuffer(data=UInt8[...], readable=true, writable=true, seekable=true, append=false, size=8093, maxsize=Inf, ptr=8094, mark=-1), UInt8[0x89, 0x50, 0x4e, 0x47, 0x0d, 0x0a, 0x1a, 0x0a, 0x00, 0x00  …  0x00, 0x00, 0x49, 0x45, 0x4e, 0x44, 0xae, 0x42, 0x60, 0x82], false)), WebIO.Node{WebIO.DOM}(WebIO.DOM(:html, :div), Any[WebIO.Scope(WebIO.Node{WebIO.DOM}(WebIO.DOM(:html, :div), Any[], Dict{Symbol, Any}(:id => \"container\")), Dict{String, Tuple{Observables.AbstractObservable, Union{Nothing, Bool}}}(\"value\" => (Observable(\"\\\\;\\\\;\"), nothing)), Set{String}(), nothing, WebIO.Asset[WebIO.Asset(\"js\", nothing, \"/home/dushya/.julia/packages/InteractBase/LJXv3/src/../assets/katex.min.js\"), WebIO.Asset(\"css\", nothing, \"/home/dushya/.julia/packages/InteractBase/LJXv3/src/../assets/katex.min.css\")], Dict{Any, Any}(\"value\" => Any[WebIO.JSString(\"(function (txt){return this.k.render(txt,this.container)})\")]), WebIO.ConnectionPool(Channel{Any}(32), Set{WebIO.AbstractConnection}(), Base.GenericCondition{ReentrantLock}(Base.IntrusiveLinkedList{Task}(Task (runnable) @0x00007f016fad01a0, Task (runnable) @0x00007f016fad01a0), ReentrantLock(nothing, 0x00000000, 0x00, Base.GenericCondition{Base.Threads.SpinLock}(Base.IntrusiveLinkedList{Task}(nothing, nothing), Base.Threads.SpinLock(0)), (0, 0, 139779710648320)))), WebIO.JSString[WebIO.JSString(\"function () {\\n    var handler = ((function (k){this.k=k; this.container=this.dom.querySelector(\\\"#container\\\"); return k.render(\\\"\\\\\\\\;\\\\\\\\;\\\",this.container)}));\\n    (WebIO.importBlock({\\\"data\\\":[{\\\"name\\\":null,\\\"type\\\":\\\"js\\\",\\\"url\\\":\\\"/assetserver/dd22ed1bf1896c2748f3fe616ce0b838adc895c1-katex.min.js\\\"},{\\\"name\\\":null,\\\"type\\\":\\\"css\\\",\\\"url\\\":\\\"/assetserver/46517a424aa5e6cffc1360d7e0848b601c584ee3-katex.min.css\\\"}],\\\"type\\\":\\\"async_block\\\"})).then((imports) => handler.apply(this, imports));\\n}\\n\")])], Dict{Symbol, Any}(:className => \"interact-widget\")), WebIO.Node{WebIO.DOM}(WebIO.DOM(:html, :div), Any[], Dict{Symbol, Any}(:style => Dict(\"display\" => \"flex\", \"flex-direction\" => \"column\")))], Dict{Symbol, Any}(:style => Dict(\"display\" => \"flex\", \"flex-direction\" => \"row\")))], Dict{Symbol, Any}(:style => Dict(\"display\" => \"flex\", \"flex-direction\" => \"column\")))"
      ]
     },
     "execution_count": 9,
     "metadata": {
      "application/vnd.webio.node+json": {
       "kernelId": "96121b82-0264-4dfe-a77c-77265da645ff"
      }
     },
     "output_type": "execute_result"
    }
   ],
   "source": [
    "animate_sim(model, show_patches=true)"
   ]
  },
  {
   "cell_type": "code",
   "execution_count": 10,
   "metadata": {},
   "outputs": [
    {
     "data": {
      "application/vnd.webio.node+json": {
       "children": [
        {
         "children": [
          {
           "children": [
            {
             "children": [
              {
               "children": [
                {
                 "children": [
                  {
                   "children": [
                    {
                     "children": [
                      "time"
                     ],
                     "instanceArgs": {
                      "namespace": "html",
                      "tag": "label"
                     },
                     "nodeType": "DOM",
                     "props": {
                      "className": "interact ",
                      "style": {
                       "padding": "5px 10px 0px 10px"
                      }
                     },
                     "type": "node"
                    }
                   ],
                   "instanceArgs": {
                    "namespace": "html",
                    "tag": "div"
                   },
                   "nodeType": "DOM",
                   "props": {
                    "className": "interact-flex-row-left"
                   },
                   "type": "node"
                  },
                  {
                   "children": [
                    {
                     "children": [],
                     "instanceArgs": {
                      "namespace": "html",
                      "tag": "input"
                     },
                     "nodeType": "DOM",
                     "props": {
                      "attributes": {
                       "data-bind": "numericValue: index, valueUpdate: 'input', event: {change: function (){this.changes(this.changes()+1)}}",
                       "orient": "horizontal",
                       "type": "range"
                      },
                      "className": "slider slider is-fullwidth",
                      "max": 500,
                      "min": 1,
                      "step": 1,
                      "style": {}
                     },
                     "type": "node"
                    }
                   ],
                   "instanceArgs": {
                    "namespace": "html",
                    "tag": "div"
                   },
                   "nodeType": "DOM",
                   "props": {
                    "className": "interact-flex-row-center"
                   },
                   "type": "node"
                  },
                  {
                   "children": [
                    {
                     "children": [],
                     "instanceArgs": {
                      "namespace": "html",
                      "tag": "p"
                     },
                     "nodeType": "DOM",
                     "props": {
                      "attributes": {
                       "data-bind": "text: formatted_val"
                      }
                     },
                     "type": "node"
                    }
                   ],
                   "instanceArgs": {
                    "namespace": "html",
                    "tag": "div"
                   },
                   "nodeType": "DOM",
                   "props": {
                    "className": "interact-flex-row-right"
                   },
                   "type": "node"
                  }
                 ],
                 "instanceArgs": {
                  "namespace": "html",
                  "tag": "div"
                 },
                 "nodeType": "DOM",
                 "props": {
                  "className": "interact-flex-row interact-widget"
                 },
                 "type": "node"
                }
               ],
               "instanceArgs": {
                "handlers": {
                 "changes": [
                  "(function (val){return (val!=this.model[\"changes\"]()) ? (this.valueFromJulia[\"changes\"]=true, this.model[\"changes\"](val)) : undefined})"
                 ],
                 "index": [
                  "(function (val){return (val!=this.model[\"index\"]()) ? (this.valueFromJulia[\"index\"]=true, this.model[\"index\"](val)) : undefined})"
                 ]
                },
                "id": "13677928500486183246",
                "imports": {
                 "data": [
                  {
                   "name": "knockout",
                   "type": "js",
                   "url": "/assetserver/727383f2a47bd31570b7da84eee7b022dd6d7c78-knockout.js"
                  },
                  {
                   "name": "knockout_punches",
                   "type": "js",
                   "url": "/assetserver/382b41b3b1bd9f26f75861d360bad7f8beea211f-knockout_punches.js"
                  },
                  {
                   "name": null,
                   "type": "js",
                   "url": "/assetserver/5ab20f1060420992a9b82a65b735dee4d81ef413-all.js"
                  },
                  {
                   "name": null,
                   "type": "css",
                   "url": "/assetserver/1cc0ed62837210b80a182cc3676512f895dab686-style.css"
                  },
                  {
                   "name": null,
                   "type": "css",
                   "url": "/assetserver/2eee816f616df3549d7044d45e744fbf8d42bfa1-bulma_confined.min.css"
                  }
                 ],
                 "type": "async_block"
                },
                "mount_callbacks": [
                 "function () {\n    var handler = (function (ko, koPunches) {\n    ko.punches.enableAll();\n    ko.bindingHandlers.numericValue = {\n        init: function(element, valueAccessor, allBindings, data, context) {\n            var stringified = ko.observable(ko.unwrap(valueAccessor()));\n            stringified.subscribe(function(value) {\n                var val = parseFloat(value);\n                if (!isNaN(val)) {\n                    valueAccessor()(val);\n                }\n            });\n            valueAccessor().subscribe(function(value) {\n                var str = JSON.stringify(value);\n                if ((str == \"0\") && ([\"-0\", \"-0.\"].indexOf(stringified()) >= 0))\n                     return;\n                 if ([\"null\", \"\"].indexOf(str) >= 0)\n                     return;\n                stringified(str);\n            });\n            ko.applyBindingsToNode(\n                element,\n                {\n                    value: stringified,\n                    valueUpdate: allBindings.get('valueUpdate'),\n                },\n                context,\n            );\n        }\n    };\n    var json_data = {\"formatted_vals\":[\"1\",\"2\",\"3\",\"4\",\"5\",\"6\",\"7\",\"8\",\"9\",\"10\",\"11\",\"12\",\"13\",\"14\",\"15\",\"16\",\"17\",\"18\",\"19\",\"20\",\"21\",\"22\",\"23\",\"24\",\"25\",\"26\",\"27\",\"28\",\"29\",\"30\",\"31\",\"32\",\"33\",\"34\",\"35\",\"36\",\"37\",\"38\",\"39\",\"40\",\"41\",\"42\",\"43\",\"44\",\"45\",\"46\",\"47\",\"48\",\"49\",\"50\",\"51\",\"52\",\"53\",\"54\",\"55\",\"56\",\"57\",\"58\",\"59\",\"60\",\"61\",\"62\",\"63\",\"64\",\"65\",\"66\",\"67\",\"68\",\"69\",\"70\",\"71\",\"72\",\"73\",\"74\",\"75\",\"76\",\"77\",\"78\",\"79\",\"80\",\"81\",\"82\",\"83\",\"84\",\"85\",\"86\",\"87\",\"88\",\"89\",\"90\",\"91\",\"92\",\"93\",\"94\",\"95\",\"96\",\"97\",\"98\",\"99\",\"100\",\"101\",\"102\",\"103\",\"104\",\"105\",\"106\",\"107\",\"108\",\"109\",\"110\",\"111\",\"112\",\"113\",\"114\",\"115\",\"116\",\"117\",\"118\",\"119\",\"120\",\"121\",\"122\",\"123\",\"124\",\"125\",\"126\",\"127\",\"128\",\"129\",\"130\",\"131\",\"132\",\"133\",\"134\",\"135\",\"136\",\"137\",\"138\",\"139\",\"140\",\"141\",\"142\",\"143\",\"144\",\"145\",\"146\",\"147\",\"148\",\"149\",\"150\",\"151\",\"152\",\"153\",\"154\",\"155\",\"156\",\"157\",\"158\",\"159\",\"160\",\"161\",\"162\",\"163\",\"164\",\"165\",\"166\",\"167\",\"168\",\"169\",\"170\",\"171\",\"172\",\"173\",\"174\",\"175\",\"176\",\"177\",\"178\",\"179\",\"180\",\"181\",\"182\",\"183\",\"184\",\"185\",\"186\",\"187\",\"188\",\"189\",\"190\",\"191\",\"192\",\"193\",\"194\",\"195\",\"196\",\"197\",\"198\",\"199\",\"200\",\"201\",\"202\",\"203\",\"204\",\"205\",\"206\",\"207\",\"208\",\"209\",\"210\",\"211\",\"212\",\"213\",\"214\",\"215\",\"216\",\"217\",\"218\",\"219\",\"220\",\"221\",\"222\",\"223\",\"224\",\"225\",\"226\",\"227\",\"228\",\"229\",\"230\",\"231\",\"232\",\"233\",\"234\",\"235\",\"236\",\"237\",\"238\",\"239\",\"240\",\"241\",\"242\",\"243\",\"244\",\"245\",\"246\",\"247\",\"248\",\"249\",\"250\",\"251\",\"252\",\"253\",\"254\",\"255\",\"256\",\"257\",\"258\",\"259\",\"260\",\"261\",\"262\",\"263\",\"264\",\"265\",\"266\",\"267\",\"268\",\"269\",\"270\",\"271\",\"272\",\"273\",\"274\",\"275\",\"276\",\"277\",\"278\",\"279\",\"280\",\"281\",\"282\",\"283\",\"284\",\"285\",\"286\",\"287\",\"288\",\"289\",\"290\",\"291\",\"292\",\"293\",\"294\",\"295\",\"296\",\"297\",\"298\",\"299\",\"300\",\"301\",\"302\",\"303\",\"304\",\"305\",\"306\",\"307\",\"308\",\"309\",\"310\",\"311\",\"312\",\"313\",\"314\",\"315\",\"316\",\"317\",\"318\",\"319\",\"320\",\"321\",\"322\",\"323\",\"324\",\"325\",\"326\",\"327\",\"328\",\"329\",\"330\",\"331\",\"332\",\"333\",\"334\",\"335\",\"336\",\"337\",\"338\",\"339\",\"340\",\"341\",\"342\",\"343\",\"344\",\"345\",\"346\",\"347\",\"348\",\"349\",\"350\",\"351\",\"352\",\"353\",\"354\",\"355\",\"356\",\"357\",\"358\",\"359\",\"360\",\"361\",\"362\",\"363\",\"364\",\"365\",\"366\",\"367\",\"368\",\"369\",\"370\",\"371\",\"372\",\"373\",\"374\",\"375\",\"376\",\"377\",\"378\",\"379\",\"380\",\"381\",\"382\",\"383\",\"384\",\"385\",\"386\",\"387\",\"388\",\"389\",\"390\",\"391\",\"392\",\"393\",\"394\",\"395\",\"396\",\"397\",\"398\",\"399\",\"400\",\"401\",\"402\",\"403\",\"404\",\"405\",\"406\",\"407\",\"408\",\"409\",\"410\",\"411\",\"412\",\"413\",\"414\",\"415\",\"416\",\"417\",\"418\",\"419\",\"420\",\"421\",\"422\",\"423\",\"424\",\"425\",\"426\",\"427\",\"428\",\"429\",\"430\",\"431\",\"432\",\"433\",\"434\",\"435\",\"436\",\"437\",\"438\",\"439\",\"440\",\"441\",\"442\",\"443\",\"444\",\"445\",\"446\",\"447\",\"448\",\"449\",\"450\",\"451\",\"452\",\"453\",\"454\",\"455\",\"456\",\"457\",\"458\",\"459\",\"460\",\"461\",\"462\",\"463\",\"464\",\"465\",\"466\",\"467\",\"468\",\"469\",\"470\",\"471\",\"472\",\"473\",\"474\",\"475\",\"476\",\"477\",\"478\",\"479\",\"480\",\"481\",\"482\",\"483\",\"484\",\"485\",\"486\",\"487\",\"488\",\"489\",\"490\",\"491\",\"492\",\"493\",\"494\",\"495\",\"496\",\"497\",\"498\",\"499\",\"500\"],\"changes\":WebIO.getval({\"name\":\"changes\",\"scope\":\"13677928500486183246\",\"id\":\"3960987830452816463\",\"type\":\"observable\"}),\"index\":WebIO.getval({\"name\":\"index\",\"scope\":\"13677928500486183246\",\"id\":\"4546979663067268774\",\"type\":\"observable\"})};\n    var self = this;\n    function AppViewModel() {\n        for (var key in json_data) {\n            var el = json_data[key];\n            this[key] = Array.isArray(el) ? ko.observableArray(el) : ko.observable(el);\n        }\n        \n        [this[\"formatted_val\"]=ko.computed(    function(){\n        return this.formatted_vals()[parseInt(this.index())-(1)];\n    }\n,this)]\n        [this[\"changes\"].subscribe((function (val){!(this.valueFromJulia[\"changes\"]) ? (WebIO.setval({\"name\":\"changes\",\"scope\":\"13677928500486183246\",\"id\":\"3960987830452816463\",\"type\":\"observable\"},val)) : undefined; return this.valueFromJulia[\"changes\"]=false}),self),this[\"index\"].subscribe((function (val){!(this.valueFromJulia[\"index\"]) ? (WebIO.setval({\"name\":\"index\",\"scope\":\"13677928500486183246\",\"id\":\"4546979663067268774\",\"type\":\"observable\"},val)) : undefined; return this.valueFromJulia[\"index\"]=false}),self)]\n        \n    }\n    self.model = new AppViewModel();\n    self.valueFromJulia = {};\n    for (var key in json_data) {\n        self.valueFromJulia[key] = false;\n    }\n    ko.applyBindings(self.model, self.dom);\n}\n);\n    (WebIO.importBlock({\"data\":[{\"name\":\"knockout\",\"type\":\"js\",\"url\":\"/assetserver/727383f2a47bd31570b7da84eee7b022dd6d7c78-knockout.js\"},{\"name\":\"knockout_punches\",\"type\":\"js\",\"url\":\"/assetserver/382b41b3b1bd9f26f75861d360bad7f8beea211f-knockout_punches.js\"}],\"type\":\"async_block\"})).then((imports) => handler.apply(this, imports));\n}\n"
                ],
                "observables": {
                 "changes": {
                  "id": "3960987830452816463",
                  "sync": false,
                  "value": 0
                 },
                 "index": {
                  "id": "4546979663067268774",
                  "sync": true,
                  "value": 1
                 }
                },
                "systemjs_options": null
               },
               "nodeType": "Scope",
               "props": {},
               "type": "node"
              }
             ],
             "instanceArgs": {
              "namespace": "html",
              "tag": "div"
             },
             "nodeType": "DOM",
             "props": {
              "className": "field interact-widget"
             },
             "type": "node"
            },
            {
             "children": [
              {
               "children": [
                {
                 "children": [
                  {
                   "children": [
                    {
                     "children": [
                      "scale"
                     ],
                     "instanceArgs": {
                      "namespace": "html",
                      "tag": "label"
                     },
                     "nodeType": "DOM",
                     "props": {
                      "className": "interact ",
                      "style": {
                       "padding": "5px 10px 0px 10px"
                      }
                     },
                     "type": "node"
                    }
                   ],
                   "instanceArgs": {
                    "namespace": "html",
                    "tag": "div"
                   },
                   "nodeType": "DOM",
                   "props": {
                    "className": "interact-flex-row-left"
                   },
                   "type": "node"
                  },
                  {
                   "children": [
                    {
                     "children": [],
                     "instanceArgs": {
                      "namespace": "html",
                      "tag": "input"
                     },
                     "nodeType": "DOM",
                     "props": {
                      "attributes": {
                       "data-bind": "numericValue: index, valueUpdate: 'input', event: {change: function (){this.changes(this.changes()+1)}}",
                       "orient": "horizontal",
                       "type": "range"
                      },
                      "className": "slider slider is-fullwidth",
                      "max": 20,
                      "min": 1,
                      "step": 1,
                      "style": {}
                     },
                     "type": "node"
                    }
                   ],
                   "instanceArgs": {
                    "namespace": "html",
                    "tag": "div"
                   },
                   "nodeType": "DOM",
                   "props": {
                    "className": "interact-flex-row-center"
                   },
                   "type": "node"
                  },
                  {
                   "children": [
                    {
                     "children": [],
                     "instanceArgs": {
                      "namespace": "html",
                      "tag": "p"
                     },
                     "nodeType": "DOM",
                     "props": {
                      "attributes": {
                       "data-bind": "text: formatted_val"
                      }
                     },
                     "type": "node"
                    }
                   ],
                   "instanceArgs": {
                    "namespace": "html",
                    "tag": "div"
                   },
                   "nodeType": "DOM",
                   "props": {
                    "className": "interact-flex-row-right"
                   },
                   "type": "node"
                  }
                 ],
                 "instanceArgs": {
                  "namespace": "html",
                  "tag": "div"
                 },
                 "nodeType": "DOM",
                 "props": {
                  "className": "interact-flex-row interact-widget"
                 },
                 "type": "node"
                }
               ],
               "instanceArgs": {
                "handlers": {
                 "changes": [
                  "(function (val){return (val!=this.model[\"changes\"]()) ? (this.valueFromJulia[\"changes\"]=true, this.model[\"changes\"](val)) : undefined})"
                 ],
                 "index": [
                  "(function (val){return (val!=this.model[\"index\"]()) ? (this.valueFromJulia[\"index\"]=true, this.model[\"index\"](val)) : undefined})"
                 ]
                },
                "id": "9625706558678385645",
                "imports": {
                 "data": [
                  {
                   "name": "knockout",
                   "type": "js",
                   "url": "/assetserver/727383f2a47bd31570b7da84eee7b022dd6d7c78-knockout.js"
                  },
                  {
                   "name": "knockout_punches",
                   "type": "js",
                   "url": "/assetserver/382b41b3b1bd9f26f75861d360bad7f8beea211f-knockout_punches.js"
                  },
                  {
                   "name": null,
                   "type": "js",
                   "url": "/assetserver/5ab20f1060420992a9b82a65b735dee4d81ef413-all.js"
                  },
                  {
                   "name": null,
                   "type": "css",
                   "url": "/assetserver/1cc0ed62837210b80a182cc3676512f895dab686-style.css"
                  },
                  {
                   "name": null,
                   "type": "css",
                   "url": "/assetserver/2eee816f616df3549d7044d45e744fbf8d42bfa1-bulma_confined.min.css"
                  }
                 ],
                 "type": "async_block"
                },
                "mount_callbacks": [
                 "function () {\n    var handler = (function (ko, koPunches) {\n    ko.punches.enableAll();\n    ko.bindingHandlers.numericValue = {\n        init: function(element, valueAccessor, allBindings, data, context) {\n            var stringified = ko.observable(ko.unwrap(valueAccessor()));\n            stringified.subscribe(function(value) {\n                var val = parseFloat(value);\n                if (!isNaN(val)) {\n                    valueAccessor()(val);\n                }\n            });\n            valueAccessor().subscribe(function(value) {\n                var str = JSON.stringify(value);\n                if ((str == \"0\") && ([\"-0\", \"-0.\"].indexOf(stringified()) >= 0))\n                     return;\n                 if ([\"null\", \"\"].indexOf(str) >= 0)\n                     return;\n                stringified(str);\n            });\n            ko.applyBindingsToNode(\n                element,\n                {\n                    value: stringified,\n                    valueUpdate: allBindings.get('valueUpdate'),\n                },\n                context,\n            );\n        }\n    };\n    var json_data = {\"formatted_vals\":[\"0.1\",\"0.2\",\"0.3\",\"0.4\",\"0.5\",\"0.6\",\"0.7\",\"0.8\",\"0.9\",\"1.0\",\"1.1\",\"1.2\",\"1.3\",\"1.4\",\"1.5\",\"1.6\",\"1.7\",\"1.8\",\"1.9\",\"2.0\"],\"changes\":WebIO.getval({\"name\":\"changes\",\"scope\":\"9625706558678385645\",\"id\":\"8992386067649786362\",\"type\":\"observable\"}),\"index\":WebIO.getval({\"name\":\"index\",\"scope\":\"9625706558678385645\",\"id\":\"16221965513756587548\",\"type\":\"observable\"})};\n    var self = this;\n    function AppViewModel() {\n        for (var key in json_data) {\n            var el = json_data[key];\n            this[key] = Array.isArray(el) ? ko.observableArray(el) : ko.observable(el);\n        }\n        \n        [this[\"formatted_val\"]=ko.computed(    function(){\n        return this.formatted_vals()[parseInt(this.index())-(1)];\n    }\n,this)]\n        [this[\"changes\"].subscribe((function (val){!(this.valueFromJulia[\"changes\"]) ? (WebIO.setval({\"name\":\"changes\",\"scope\":\"9625706558678385645\",\"id\":\"8992386067649786362\",\"type\":\"observable\"},val)) : undefined; return this.valueFromJulia[\"changes\"]=false}),self),this[\"index\"].subscribe((function (val){!(this.valueFromJulia[\"index\"]) ? (WebIO.setval({\"name\":\"index\",\"scope\":\"9625706558678385645\",\"id\":\"16221965513756587548\",\"type\":\"observable\"},val)) : undefined; return this.valueFromJulia[\"index\"]=false}),self)]\n        \n    }\n    self.model = new AppViewModel();\n    self.valueFromJulia = {};\n    for (var key in json_data) {\n        self.valueFromJulia[key] = false;\n    }\n    ko.applyBindings(self.model, self.dom);\n}\n);\n    (WebIO.importBlock({\"data\":[{\"name\":\"knockout\",\"type\":\"js\",\"url\":\"/assetserver/727383f2a47bd31570b7da84eee7b022dd6d7c78-knockout.js\"},{\"name\":\"knockout_punches\",\"type\":\"js\",\"url\":\"/assetserver/382b41b3b1bd9f26f75861d360bad7f8beea211f-knockout_punches.js\"}],\"type\":\"async_block\"})).then((imports) => handler.apply(this, imports));\n}\n"
                ],
                "observables": {
                 "changes": {
                  "id": "8992386067649786362",
                  "sync": false,
                  "value": 0
                 },
                 "index": {
                  "id": "16221965513756587548",
                  "sync": true,
                  "value": 10
                 }
                },
                "systemjs_options": null
               },
               "nodeType": "Scope",
               "props": {},
               "type": "node"
              }
             ],
             "instanceArgs": {
              "namespace": "html",
              "tag": "div"
             },
             "nodeType": "DOM",
             "props": {
              "className": "field interact-widget"
             },
             "type": "node"
            },
            {
             "children": [],
             "instanceArgs": {
              "namespace": "html",
              "tag": "div"
             },
             "nodeType": "DOM",
             "props": {
              "style": {
               "display": "flex",
               "flex-direction": "column"
              }
             },
             "type": "node"
            },
            {
             "children": [
              {
               "children": [
                {
                 "children": [
                  {
                   "children": [
                    {
                     "children": [
                      {
                       "children": [
                        "threshold"
                       ],
                       "instanceArgs": {
                        "namespace": "html",
                        "tag": "label"
                       },
                       "nodeType": "DOM",
                       "props": {
                        "className": "interact ",
                        "style": {
                         "padding": "5px 10px 0px 10px"
                        }
                       },
                       "type": "node"
                      }
                     ],
                     "instanceArgs": {
                      "namespace": "html",
                      "tag": "div"
                     },
                     "nodeType": "DOM",
                     "props": {
                      "className": "interact-flex-row-left"
                     },
                     "type": "node"
                    },
                    {
                     "children": [
                      {
                       "children": [],
                       "instanceArgs": {
                        "namespace": "html",
                        "tag": "input"
                       },
                       "nodeType": "DOM",
                       "props": {
                        "attributes": {
                         "data-bind": "numericValue: index, valueUpdate: 'input', event: {change: function (){this.changes(this.changes()+1)}}",
                         "orient": "horizontal",
                         "type": "range"
                        },
                        "className": "slider slider is-fullwidth",
                        "max": 10,
                        "min": 1,
                        "step": 1,
                        "style": {}
                       },
                       "type": "node"
                      }
                     ],
                     "instanceArgs": {
                      "namespace": "html",
                      "tag": "div"
                     },
                     "nodeType": "DOM",
                     "props": {
                      "className": "interact-flex-row-center"
                     },
                     "type": "node"
                    },
                    {
                     "children": [
                      {
                       "children": [],
                       "instanceArgs": {
                        "namespace": "html",
                        "tag": "p"
                       },
                       "nodeType": "DOM",
                       "props": {
                        "attributes": {
                         "data-bind": "text: formatted_val"
                        }
                       },
                       "type": "node"
                      }
                     ],
                     "instanceArgs": {
                      "namespace": "html",
                      "tag": "div"
                     },
                     "nodeType": "DOM",
                     "props": {
                      "className": "interact-flex-row-right"
                     },
                     "type": "node"
                    }
                   ],
                   "instanceArgs": {
                    "namespace": "html",
                    "tag": "div"
                   },
                   "nodeType": "DOM",
                   "props": {
                    "className": "interact-flex-row interact-widget"
                   },
                   "type": "node"
                  }
                 ],
                 "instanceArgs": {
                  "handlers": {
                   "changes": [
                    "(function (val){return (val!=this.model[\"changes\"]()) ? (this.valueFromJulia[\"changes\"]=true, this.model[\"changes\"](val)) : undefined})"
                   ],
                   "index": [
                    "(function (val){return (val!=this.model[\"index\"]()) ? (this.valueFromJulia[\"index\"]=true, this.model[\"index\"](val)) : undefined})"
                   ]
                  },
                  "id": "1435713615899031494",
                  "imports": {
                   "data": [
                    {
                     "name": "knockout",
                     "type": "js",
                     "url": "/assetserver/727383f2a47bd31570b7da84eee7b022dd6d7c78-knockout.js"
                    },
                    {
                     "name": "knockout_punches",
                     "type": "js",
                     "url": "/assetserver/382b41b3b1bd9f26f75861d360bad7f8beea211f-knockout_punches.js"
                    },
                    {
                     "name": null,
                     "type": "js",
                     "url": "/assetserver/5ab20f1060420992a9b82a65b735dee4d81ef413-all.js"
                    },
                    {
                     "name": null,
                     "type": "css",
                     "url": "/assetserver/1cc0ed62837210b80a182cc3676512f895dab686-style.css"
                    },
                    {
                     "name": null,
                     "type": "css",
                     "url": "/assetserver/2eee816f616df3549d7044d45e744fbf8d42bfa1-bulma_confined.min.css"
                    }
                   ],
                   "type": "async_block"
                  },
                  "mount_callbacks": [
                   "function () {\n    var handler = (function (ko, koPunches) {\n    ko.punches.enableAll();\n    ko.bindingHandlers.numericValue = {\n        init: function(element, valueAccessor, allBindings, data, context) {\n            var stringified = ko.observable(ko.unwrap(valueAccessor()));\n            stringified.subscribe(function(value) {\n                var val = parseFloat(value);\n                if (!isNaN(val)) {\n                    valueAccessor()(val);\n                }\n            });\n            valueAccessor().subscribe(function(value) {\n                var str = JSON.stringify(value);\n                if ((str == \"0\") && ([\"-0\", \"-0.\"].indexOf(stringified()) >= 0))\n                     return;\n                 if ([\"null\", \"\"].indexOf(str) >= 0)\n                     return;\n                stringified(str);\n            });\n            ko.applyBindingsToNode(\n                element,\n                {\n                    value: stringified,\n                    valueUpdate: allBindings.get('valueUpdate'),\n                },\n                context,\n            );\n        }\n    };\n    var json_data = {\"formatted_vals\":[\"1\",\"2\",\"3\",\"4\",\"5\",\"6\",\"7\",\"8\",\"9\",\"10\"],\"changes\":WebIO.getval({\"name\":\"changes\",\"scope\":\"1435713615899031494\",\"id\":\"3900503912676677884\",\"type\":\"observable\"}),\"index\":WebIO.getval({\"name\":\"index\",\"scope\":\"1435713615899031494\",\"id\":\"290290780074492010\",\"type\":\"observable\"})};\n    var self = this;\n    function AppViewModel() {\n        for (var key in json_data) {\n            var el = json_data[key];\n            this[key] = Array.isArray(el) ? ko.observableArray(el) : ko.observable(el);\n        }\n        \n        [this[\"formatted_val\"]=ko.computed(    function(){\n        return this.formatted_vals()[parseInt(this.index())-(1)];\n    }\n,this)]\n        [this[\"changes\"].subscribe((function (val){!(this.valueFromJulia[\"changes\"]) ? (WebIO.setval({\"name\":\"changes\",\"scope\":\"1435713615899031494\",\"id\":\"3900503912676677884\",\"type\":\"observable\"},val)) : undefined; return this.valueFromJulia[\"changes\"]=false}),self),this[\"index\"].subscribe((function (val){!(this.valueFromJulia[\"index\"]) ? (WebIO.setval({\"name\":\"index\",\"scope\":\"1435713615899031494\",\"id\":\"290290780074492010\",\"type\":\"observable\"},val)) : undefined; return this.valueFromJulia[\"index\"]=false}),self)]\n        \n    }\n    self.model = new AppViewModel();\n    self.valueFromJulia = {};\n    for (var key in json_data) {\n        self.valueFromJulia[key] = false;\n    }\n    ko.applyBindings(self.model, self.dom);\n}\n);\n    (WebIO.importBlock({\"data\":[{\"name\":\"knockout\",\"type\":\"js\",\"url\":\"/assetserver/727383f2a47bd31570b7da84eee7b022dd6d7c78-knockout.js\"},{\"name\":\"knockout_punches\",\"type\":\"js\",\"url\":\"/assetserver/382b41b3b1bd9f26f75861d360bad7f8beea211f-knockout_punches.js\"}],\"type\":\"async_block\"})).then((imports) => handler.apply(this, imports));\n}\n"
                  ],
                  "observables": {
                   "changes": {
                    "id": "3900503912676677884",
                    "sync": false,
                    "value": 0
                   },
                   "index": {
                    "id": "290290780074492010",
                    "sync": true,
                    "value": 5
                   }
                  },
                  "systemjs_options": null
                 },
                 "nodeType": "Scope",
                 "props": {},
                 "type": "node"
                }
               ],
               "instanceArgs": {
                "namespace": "html",
                "tag": "div"
               },
               "nodeType": "DOM",
               "props": {
                "className": "field interact-widget"
               },
               "type": "node"
              }
             ],
             "instanceArgs": {
              "namespace": "html",
              "tag": "div"
             },
             "nodeType": "DOM",
             "props": {
              "style": {
               "display": "flex",
               "flex-direction": "column"
              }
             },
             "type": "node"
            },
            {
             "children": [
              {
               "children": [
                {
                 "children": [
                  {
                   "children": [],
                   "instanceArgs": {
                    "namespace": "html",
                    "tag": "div"
                   },
                   "nodeType": "DOM",
                   "props": {
                    "id": "container"
                   },
                   "type": "node"
                  }
                 ],
                 "instanceArgs": {
                  "handlers": {
                   "value": [
                    "(function (txt){return this.k.render(txt,this.container)})"
                   ]
                  },
                  "id": "7824891384096469577",
                  "imports": {
                   "data": [
                    {
                     "name": null,
                     "type": "js",
                     "url": "/assetserver/dd22ed1bf1896c2748f3fe616ce0b838adc895c1-katex.min.js"
                    },
                    {
                     "name": null,
                     "type": "css",
                     "url": "/assetserver/46517a424aa5e6cffc1360d7e0848b601c584ee3-katex.min.css"
                    }
                   ],
                   "type": "async_block"
                  },
                  "mount_callbacks": [
                   "function () {\n    var handler = ((function (k){this.k=k; this.container=this.dom.querySelector(\"#container\"); return k.render(\"\\\\;\\\\;\",this.container)}));\n    (WebIO.importBlock({\"data\":[{\"name\":null,\"type\":\"js\",\"url\":\"/assetserver/dd22ed1bf1896c2748f3fe616ce0b838adc895c1-katex.min.js\"},{\"name\":null,\"type\":\"css\",\"url\":\"/assetserver/46517a424aa5e6cffc1360d7e0848b601c584ee3-katex.min.css\"}],\"type\":\"async_block\"})).then((imports) => handler.apply(this, imports));\n}\n"
                  ],
                  "observables": {
                   "value": {
                    "id": "134165153981354266",
                    "sync": false,
                    "value": "\\;\\;"
                   }
                  },
                  "systemjs_options": null
                 },
                 "nodeType": "Scope",
                 "props": {},
                 "type": "node"
                }
               ],
               "instanceArgs": {
                "namespace": "html",
                "tag": "div"
               },
               "nodeType": "DOM",
               "props": {
                "className": "interact-widget"
               },
               "type": "node"
              },
              {
               "children": [
                {
                 "children": [
                  {
                   "children": [
                    "run"
                   ],
                   "instanceArgs": {
                    "namespace": "html",
                    "tag": "button"
                   },
                   "nodeType": "DOM",
                   "props": {
                    "attributes": {
                     "data-bind": "click: function (){this.clicks(this.clicks()+1)}, css: {'is-loading' : loading}"
                    },
                    "className": "is-medium button is-primary",
                    "style": {}
                   },
                   "type": "node"
                  }
                 ],
                 "instanceArgs": {
                  "handlers": {
                   "clicks": [
                    "(function (val){return (val!=this.model[\"clicks\"]()) ? (this.valueFromJulia[\"clicks\"]=true, this.model[\"clicks\"](val)) : undefined})"
                   ],
                   "loading": [
                    "(function (val){return (val!=this.model[\"loading\"]()) ? (this.valueFromJulia[\"loading\"]=true, this.model[\"loading\"](val)) : undefined})"
                   ]
                  },
                  "id": "18092873130827573801",
                  "imports": {
                   "data": [
                    {
                     "name": "knockout",
                     "type": "js",
                     "url": "/assetserver/727383f2a47bd31570b7da84eee7b022dd6d7c78-knockout.js"
                    },
                    {
                     "name": "knockout_punches",
                     "type": "js",
                     "url": "/assetserver/382b41b3b1bd9f26f75861d360bad7f8beea211f-knockout_punches.js"
                    },
                    {
                     "name": null,
                     "type": "js",
                     "url": "/assetserver/5ab20f1060420992a9b82a65b735dee4d81ef413-all.js"
                    },
                    {
                     "name": null,
                     "type": "css",
                     "url": "/assetserver/1cc0ed62837210b80a182cc3676512f895dab686-style.css"
                    },
                    {
                     "name": null,
                     "type": "css",
                     "url": "/assetserver/2eee816f616df3549d7044d45e744fbf8d42bfa1-bulma_confined.min.css"
                    }
                   ],
                   "type": "async_block"
                  },
                  "mount_callbacks": [
                   "function () {\n    var handler = (function (ko, koPunches) {\n    ko.punches.enableAll();\n    ko.bindingHandlers.numericValue = {\n        init: function(element, valueAccessor, allBindings, data, context) {\n            var stringified = ko.observable(ko.unwrap(valueAccessor()));\n            stringified.subscribe(function(value) {\n                var val = parseFloat(value);\n                if (!isNaN(val)) {\n                    valueAccessor()(val);\n                }\n            });\n            valueAccessor().subscribe(function(value) {\n                var str = JSON.stringify(value);\n                if ((str == \"0\") && ([\"-0\", \"-0.\"].indexOf(stringified()) >= 0))\n                     return;\n                 if ([\"null\", \"\"].indexOf(str) >= 0)\n                     return;\n                stringified(str);\n            });\n            ko.applyBindingsToNode(\n                element,\n                {\n                    value: stringified,\n                    valueUpdate: allBindings.get('valueUpdate'),\n                },\n                context,\n            );\n        }\n    };\n    var json_data = {\"loading\":WebIO.getval({\"name\":\"loading\",\"scope\":\"18092873130827573801\",\"id\":\"7945313726463890416\",\"type\":\"observable\"}),\"clicks\":WebIO.getval({\"name\":\"clicks\",\"scope\":\"18092873130827573801\",\"id\":\"18285535650761525822\",\"type\":\"observable\"})};\n    var self = this;\n    function AppViewModel() {\n        for (var key in json_data) {\n            var el = json_data[key];\n            this[key] = Array.isArray(el) ? ko.observableArray(el) : ko.observable(el);\n        }\n        \n        \n        [this[\"loading\"].subscribe((function (val){!(this.valueFromJulia[\"loading\"]) ? (WebIO.setval({\"name\":\"loading\",\"scope\":\"18092873130827573801\",\"id\":\"7945313726463890416\",\"type\":\"observable\"},val)) : undefined; return this.valueFromJulia[\"loading\"]=false}),self),this[\"clicks\"].subscribe((function (val){!(this.valueFromJulia[\"clicks\"]) ? (WebIO.setval({\"name\":\"clicks\",\"scope\":\"18092873130827573801\",\"id\":\"18285535650761525822\",\"type\":\"observable\"},val)) : undefined; return this.valueFromJulia[\"clicks\"]=false}),self)]\n        \n    }\n    self.model = new AppViewModel();\n    self.valueFromJulia = {};\n    for (var key in json_data) {\n        self.valueFromJulia[key] = false;\n    }\n    ko.applyBindings(self.model, self.dom);\n}\n);\n    (WebIO.importBlock({\"data\":[{\"name\":\"knockout\",\"type\":\"js\",\"url\":\"/assetserver/727383f2a47bd31570b7da84eee7b022dd6d7c78-knockout.js\"},{\"name\":\"knockout_punches\",\"type\":\"js\",\"url\":\"/assetserver/382b41b3b1bd9f26f75861d360bad7f8beea211f-knockout_punches.js\"}],\"type\":\"async_block\"})).then((imports) => handler.apply(this, imports));\n}\n"
                  ],
                  "observables": {
                   "clicks": {
                    "id": "18285535650761525822",
                    "sync": true,
                    "value": 0
                   },
                   "loading": {
                    "id": "7945313726463890416",
                    "sync": false,
                    "value": false
                   }
                  },
                  "systemjs_options": null
                 },
                 "nodeType": "Scope",
                 "props": {},
                 "type": "node"
                }
               ],
               "instanceArgs": {
                "namespace": "html",
                "tag": "div"
               },
               "nodeType": "DOM",
               "props": {
                "className": "field interact-widget"
               },
               "type": "node"
              },
              {
               "children": [
                {
                 "children": [
                  {
                   "children": [],
                   "instanceArgs": {
                    "namespace": "html",
                    "tag": "div"
                   },
                   "nodeType": "DOM",
                   "props": {
                    "id": "container"
                   },
                   "type": "node"
                  }
                 ],
                 "instanceArgs": {
                  "handlers": {
                   "value": [
                    "(function (txt){return this.k.render(txt,this.container)})"
                   ]
                  },
                  "id": "7824891384096469577",
                  "imports": {
                   "data": [
                    {
                     "name": null,
                     "type": "js",
                     "url": "/assetserver/dd22ed1bf1896c2748f3fe616ce0b838adc895c1-katex.min.js"
                    },
                    {
                     "name": null,
                     "type": "css",
                     "url": "/assetserver/46517a424aa5e6cffc1360d7e0848b601c584ee3-katex.min.css"
                    }
                   ],
                   "type": "async_block"
                  },
                  "mount_callbacks": [
                   "function () {\n    var handler = ((function (k){this.k=k; this.container=this.dom.querySelector(\"#container\"); return k.render(\"\\\\;\\\\;\",this.container)}));\n    (WebIO.importBlock({\"data\":[{\"name\":null,\"type\":\"js\",\"url\":\"/assetserver/dd22ed1bf1896c2748f3fe616ce0b838adc895c1-katex.min.js\"},{\"name\":null,\"type\":\"css\",\"url\":\"/assetserver/46517a424aa5e6cffc1360d7e0848b601c584ee3-katex.min.css\"}],\"type\":\"async_block\"})).then((imports) => handler.apply(this, imports));\n}\n"
                  ],
                  "observables": {
                   "value": {
                    "id": "134165153981354266",
                    "sync": false,
                    "value": "\\;\\;"
                   }
                  },
                  "systemjs_options": null
                 },
                 "nodeType": "Scope",
                 "props": {},
                 "type": "node"
                }
               ],
               "instanceArgs": {
                "namespace": "html",
                "tag": "div"
               },
               "nodeType": "DOM",
               "props": {
                "className": "interact-widget"
               },
               "type": "node"
              },
              {
               "children": [
                {
                 "children": [
                  {
                   "children": [
                    "stop"
                   ],
                   "instanceArgs": {
                    "namespace": "html",
                    "tag": "button"
                   },
                   "nodeType": "DOM",
                   "props": {
                    "attributes": {
                     "data-bind": "click: function (){this.clicks(this.clicks()+1)}, css: {'is-loading' : loading}"
                    },
                    "className": "is-medium button is-primary",
                    "style": {}
                   },
                   "type": "node"
                  }
                 ],
                 "instanceArgs": {
                  "handlers": {
                   "clicks": [
                    "(function (val){return (val!=this.model[\"clicks\"]()) ? (this.valueFromJulia[\"clicks\"]=true, this.model[\"clicks\"](val)) : undefined})"
                   ],
                   "loading": [
                    "(function (val){return (val!=this.model[\"loading\"]()) ? (this.valueFromJulia[\"loading\"]=true, this.model[\"loading\"](val)) : undefined})"
                   ]
                  },
                  "id": "6174367270758902014",
                  "imports": {
                   "data": [
                    {
                     "name": "knockout",
                     "type": "js",
                     "url": "/assetserver/727383f2a47bd31570b7da84eee7b022dd6d7c78-knockout.js"
                    },
                    {
                     "name": "knockout_punches",
                     "type": "js",
                     "url": "/assetserver/382b41b3b1bd9f26f75861d360bad7f8beea211f-knockout_punches.js"
                    },
                    {
                     "name": null,
                     "type": "js",
                     "url": "/assetserver/5ab20f1060420992a9b82a65b735dee4d81ef413-all.js"
                    },
                    {
                     "name": null,
                     "type": "css",
                     "url": "/assetserver/1cc0ed62837210b80a182cc3676512f895dab686-style.css"
                    },
                    {
                     "name": null,
                     "type": "css",
                     "url": "/assetserver/2eee816f616df3549d7044d45e744fbf8d42bfa1-bulma_confined.min.css"
                    }
                   ],
                   "type": "async_block"
                  },
                  "mount_callbacks": [
                   "function () {\n    var handler = (function (ko, koPunches) {\n    ko.punches.enableAll();\n    ko.bindingHandlers.numericValue = {\n        init: function(element, valueAccessor, allBindings, data, context) {\n            var stringified = ko.observable(ko.unwrap(valueAccessor()));\n            stringified.subscribe(function(value) {\n                var val = parseFloat(value);\n                if (!isNaN(val)) {\n                    valueAccessor()(val);\n                }\n            });\n            valueAccessor().subscribe(function(value) {\n                var str = JSON.stringify(value);\n                if ((str == \"0\") && ([\"-0\", \"-0.\"].indexOf(stringified()) >= 0))\n                     return;\n                 if ([\"null\", \"\"].indexOf(str) >= 0)\n                     return;\n                stringified(str);\n            });\n            ko.applyBindingsToNode(\n                element,\n                {\n                    value: stringified,\n                    valueUpdate: allBindings.get('valueUpdate'),\n                },\n                context,\n            );\n        }\n    };\n    var json_data = {\"loading\":WebIO.getval({\"name\":\"loading\",\"scope\":\"6174367270758902014\",\"id\":\"2598660680530405981\",\"type\":\"observable\"}),\"clicks\":WebIO.getval({\"name\":\"clicks\",\"scope\":\"6174367270758902014\",\"id\":\"5536273825521827215\",\"type\":\"observable\"})};\n    var self = this;\n    function AppViewModel() {\n        for (var key in json_data) {\n            var el = json_data[key];\n            this[key] = Array.isArray(el) ? ko.observableArray(el) : ko.observable(el);\n        }\n        \n        \n        [this[\"loading\"].subscribe((function (val){!(this.valueFromJulia[\"loading\"]) ? (WebIO.setval({\"name\":\"loading\",\"scope\":\"6174367270758902014\",\"id\":\"2598660680530405981\",\"type\":\"observable\"},val)) : undefined; return this.valueFromJulia[\"loading\"]=false}),self),this[\"clicks\"].subscribe((function (val){!(this.valueFromJulia[\"clicks\"]) ? (WebIO.setval({\"name\":\"clicks\",\"scope\":\"6174367270758902014\",\"id\":\"5536273825521827215\",\"type\":\"observable\"},val)) : undefined; return this.valueFromJulia[\"clicks\"]=false}),self)]\n        \n    }\n    self.model = new AppViewModel();\n    self.valueFromJulia = {};\n    for (var key in json_data) {\n        self.valueFromJulia[key] = false;\n    }\n    ko.applyBindings(self.model, self.dom);\n}\n);\n    (WebIO.importBlock({\"data\":[{\"name\":\"knockout\",\"type\":\"js\",\"url\":\"/assetserver/727383f2a47bd31570b7da84eee7b022dd6d7c78-knockout.js\"},{\"name\":\"knockout_punches\",\"type\":\"js\",\"url\":\"/assetserver/382b41b3b1bd9f26f75861d360bad7f8beea211f-knockout_punches.js\"}],\"type\":\"async_block\"})).then((imports) => handler.apply(this, imports));\n}\n"
                  ],
                  "observables": {
                   "clicks": {
                    "id": "5536273825521827215",
                    "sync": true,
                    "value": 0
                   },
                   "loading": {
                    "id": "2598660680530405981",
                    "sync": false,
                    "value": false
                   }
                  },
                  "systemjs_options": null
                 },
                 "nodeType": "Scope",
                 "props": {},
                 "type": "node"
                }
               ],
               "instanceArgs": {
                "namespace": "html",
                "tag": "div"
               },
               "nodeType": "DOM",
               "props": {
                "className": "field interact-widget"
               },
               "type": "node"
              },
              {
               "children": [
                {
                 "children": [
                  {
                   "children": [],
                   "instanceArgs": {
                    "namespace": "html",
                    "tag": "div"
                   },
                   "nodeType": "DOM",
                   "props": {
                    "id": "container"
                   },
                   "type": "node"
                  }
                 ],
                 "instanceArgs": {
                  "handlers": {
                   "value": [
                    "(function (txt){return this.k.render(txt,this.container)})"
                   ]
                  },
                  "id": "7824891384096469577",
                  "imports": {
                   "data": [
                    {
                     "name": null,
                     "type": "js",
                     "url": "/assetserver/dd22ed1bf1896c2748f3fe616ce0b838adc895c1-katex.min.js"
                    },
                    {
                     "name": null,
                     "type": "css",
                     "url": "/assetserver/46517a424aa5e6cffc1360d7e0848b601c584ee3-katex.min.css"
                    }
                   ],
                   "type": "async_block"
                  },
                  "mount_callbacks": [
                   "function () {\n    var handler = ((function (k){this.k=k; this.container=this.dom.querySelector(\"#container\"); return k.render(\"\\\\;\\\\;\",this.container)}));\n    (WebIO.importBlock({\"data\":[{\"name\":null,\"type\":\"js\",\"url\":\"/assetserver/dd22ed1bf1896c2748f3fe616ce0b838adc895c1-katex.min.js\"},{\"name\":null,\"type\":\"css\",\"url\":\"/assetserver/46517a424aa5e6cffc1360d7e0848b601c584ee3-katex.min.css\"}],\"type\":\"async_block\"})).then((imports) => handler.apply(this, imports));\n}\n"
                  ],
                  "observables": {
                   "value": {
                    "id": "134165153981354266",
                    "sync": false,
                    "value": "\\;\\;"
                   }
                  },
                  "systemjs_options": null
                 },
                 "nodeType": "Scope",
                 "props": {},
                 "type": "node"
                }
               ],
               "instanceArgs": {
                "namespace": "html",
                "tag": "div"
               },
               "nodeType": "DOM",
               "props": {
                "className": "interact-widget"
               },
               "type": "node"
              },
              {
               "children": [
                {
                 "children": [
                  {
                   "children": [
                    "reset"
                   ],
                   "instanceArgs": {
                    "namespace": "html",
                    "tag": "button"
                   },
                   "nodeType": "DOM",
                   "props": {
                    "attributes": {
                     "data-bind": "click: function (){this.clicks(this.clicks()+1)}, css: {'is-loading' : loading}"
                    },
                    "className": "is-medium button is-primary",
                    "style": {}
                   },
                   "type": "node"
                  }
                 ],
                 "instanceArgs": {
                  "handlers": {
                   "clicks": [
                    "(function (val){return (val!=this.model[\"clicks\"]()) ? (this.valueFromJulia[\"clicks\"]=true, this.model[\"clicks\"](val)) : undefined})"
                   ],
                   "loading": [
                    "(function (val){return (val!=this.model[\"loading\"]()) ? (this.valueFromJulia[\"loading\"]=true, this.model[\"loading\"](val)) : undefined})"
                   ]
                  },
                  "id": "15769593006429292644",
                  "imports": {
                   "data": [
                    {
                     "name": "knockout",
                     "type": "js",
                     "url": "/assetserver/727383f2a47bd31570b7da84eee7b022dd6d7c78-knockout.js"
                    },
                    {
                     "name": "knockout_punches",
                     "type": "js",
                     "url": "/assetserver/382b41b3b1bd9f26f75861d360bad7f8beea211f-knockout_punches.js"
                    },
                    {
                     "name": null,
                     "type": "js",
                     "url": "/assetserver/5ab20f1060420992a9b82a65b735dee4d81ef413-all.js"
                    },
                    {
                     "name": null,
                     "type": "css",
                     "url": "/assetserver/1cc0ed62837210b80a182cc3676512f895dab686-style.css"
                    },
                    {
                     "name": null,
                     "type": "css",
                     "url": "/assetserver/2eee816f616df3549d7044d45e744fbf8d42bfa1-bulma_confined.min.css"
                    }
                   ],
                   "type": "async_block"
                  },
                  "mount_callbacks": [
                   "function () {\n    var handler = (function (ko, koPunches) {\n    ko.punches.enableAll();\n    ko.bindingHandlers.numericValue = {\n        init: function(element, valueAccessor, allBindings, data, context) {\n            var stringified = ko.observable(ko.unwrap(valueAccessor()));\n            stringified.subscribe(function(value) {\n                var val = parseFloat(value);\n                if (!isNaN(val)) {\n                    valueAccessor()(val);\n                }\n            });\n            valueAccessor().subscribe(function(value) {\n                var str = JSON.stringify(value);\n                if ((str == \"0\") && ([\"-0\", \"-0.\"].indexOf(stringified()) >= 0))\n                     return;\n                 if ([\"null\", \"\"].indexOf(str) >= 0)\n                     return;\n                stringified(str);\n            });\n            ko.applyBindingsToNode(\n                element,\n                {\n                    value: stringified,\n                    valueUpdate: allBindings.get('valueUpdate'),\n                },\n                context,\n            );\n        }\n    };\n    var json_data = {\"loading\":WebIO.getval({\"name\":\"loading\",\"scope\":\"15769593006429292644\",\"id\":\"7579880518432139538\",\"type\":\"observable\"}),\"clicks\":WebIO.getval({\"name\":\"clicks\",\"scope\":\"15769593006429292644\",\"id\":\"18141973216319452646\",\"type\":\"observable\"})};\n    var self = this;\n    function AppViewModel() {\n        for (var key in json_data) {\n            var el = json_data[key];\n            this[key] = Array.isArray(el) ? ko.observableArray(el) : ko.observable(el);\n        }\n        \n        \n        [this[\"loading\"].subscribe((function (val){!(this.valueFromJulia[\"loading\"]) ? (WebIO.setval({\"name\":\"loading\",\"scope\":\"15769593006429292644\",\"id\":\"7579880518432139538\",\"type\":\"observable\"},val)) : undefined; return this.valueFromJulia[\"loading\"]=false}),self),this[\"clicks\"].subscribe((function (val){!(this.valueFromJulia[\"clicks\"]) ? (WebIO.setval({\"name\":\"clicks\",\"scope\":\"15769593006429292644\",\"id\":\"18141973216319452646\",\"type\":\"observable\"},val)) : undefined; return this.valueFromJulia[\"clicks\"]=false}),self)]\n        \n    }\n    self.model = new AppViewModel();\n    self.valueFromJulia = {};\n    for (var key in json_data) {\n        self.valueFromJulia[key] = false;\n    }\n    ko.applyBindings(self.model, self.dom);\n}\n);\n    (WebIO.importBlock({\"data\":[{\"name\":\"knockout\",\"type\":\"js\",\"url\":\"/assetserver/727383f2a47bd31570b7da84eee7b022dd6d7c78-knockout.js\"},{\"name\":\"knockout_punches\",\"type\":\"js\",\"url\":\"/assetserver/382b41b3b1bd9f26f75861d360bad7f8beea211f-knockout_punches.js\"}],\"type\":\"async_block\"})).then((imports) => handler.apply(this, imports));\n}\n"
                  ],
                  "observables": {
                   "clicks": {
                    "id": "18141973216319452646",
                    "sync": true,
                    "value": 0
                   },
                   "loading": {
                    "id": "7579880518432139538",
                    "sync": false,
                    "value": false
                   }
                  },
                  "systemjs_options": null
                 },
                 "nodeType": "Scope",
                 "props": {},
                 "type": "node"
                }
               ],
               "instanceArgs": {
                "namespace": "html",
                "tag": "div"
               },
               "nodeType": "DOM",
               "props": {
                "className": "field interact-widget"
               },
               "type": "node"
              },
              {
               "children": [
                {
                 "children": [
                  {
                   "children": [],
                   "instanceArgs": {
                    "namespace": "html",
                    "tag": "div"
                   },
                   "nodeType": "DOM",
                   "props": {
                    "id": "container"
                   },
                   "type": "node"
                  }
                 ],
                 "instanceArgs": {
                  "handlers": {
                   "value": [
                    "(function (txt){return this.k.render(txt,this.container)})"
                   ]
                  },
                  "id": "7824891384096469577",
                  "imports": {
                   "data": [
                    {
                     "name": null,
                     "type": "js",
                     "url": "/assetserver/dd22ed1bf1896c2748f3fe616ce0b838adc895c1-katex.min.js"
                    },
                    {
                     "name": null,
                     "type": "css",
                     "url": "/assetserver/46517a424aa5e6cffc1360d7e0848b601c584ee3-katex.min.css"
                    }
                   ],
                   "type": "async_block"
                  },
                  "mount_callbacks": [
                   "function () {\n    var handler = ((function (k){this.k=k; this.container=this.dom.querySelector(\"#container\"); return k.render(\"\\\\;\\\\;\",this.container)}));\n    (WebIO.importBlock({\"data\":[{\"name\":null,\"type\":\"js\",\"url\":\"/assetserver/dd22ed1bf1896c2748f3fe616ce0b838adc895c1-katex.min.js\"},{\"name\":null,\"type\":\"css\",\"url\":\"/assetserver/46517a424aa5e6cffc1360d7e0848b601c584ee3-katex.min.css\"}],\"type\":\"async_block\"})).then((imports) => handler.apply(this, imports));\n}\n"
                  ],
                  "observables": {
                   "value": {
                    "id": "134165153981354266",
                    "sync": false,
                    "value": "\\;\\;"
                   }
                  },
                  "systemjs_options": null
                 },
                 "nodeType": "Scope",
                 "props": {},
                 "type": "node"
                }
               ],
               "instanceArgs": {
                "namespace": "html",
                "tag": "div"
               },
               "nodeType": "DOM",
               "props": {
                "className": "interact-widget"
               },
               "type": "node"
              },
              {
               "children": [
                {
                 "children": [
                  {
                   "children": [
                    "save"
                   ],
                   "instanceArgs": {
                    "namespace": "html",
                    "tag": "button"
                   },
                   "nodeType": "DOM",
                   "props": {
                    "attributes": {
                     "data-bind": "click: function (){this.clicks(this.clicks()+1)}, css: {'is-loading' : loading}"
                    },
                    "className": "is-medium button is-primary",
                    "style": {}
                   },
                   "type": "node"
                  }
                 ],
                 "instanceArgs": {
                  "handlers": {
                   "clicks": [
                    "(function (val){return (val!=this.model[\"clicks\"]()) ? (this.valueFromJulia[\"clicks\"]=true, this.model[\"clicks\"](val)) : undefined})"
                   ],
                   "loading": [
                    "(function (val){return (val!=this.model[\"loading\"]()) ? (this.valueFromJulia[\"loading\"]=true, this.model[\"loading\"](val)) : undefined})"
                   ]
                  },
                  "id": "6245101254693358460",
                  "imports": {
                   "data": [
                    {
                     "name": "knockout",
                     "type": "js",
                     "url": "/assetserver/727383f2a47bd31570b7da84eee7b022dd6d7c78-knockout.js"
                    },
                    {
                     "name": "knockout_punches",
                     "type": "js",
                     "url": "/assetserver/382b41b3b1bd9f26f75861d360bad7f8beea211f-knockout_punches.js"
                    },
                    {
                     "name": null,
                     "type": "js",
                     "url": "/assetserver/5ab20f1060420992a9b82a65b735dee4d81ef413-all.js"
                    },
                    {
                     "name": null,
                     "type": "css",
                     "url": "/assetserver/1cc0ed62837210b80a182cc3676512f895dab686-style.css"
                    },
                    {
                     "name": null,
                     "type": "css",
                     "url": "/assetserver/2eee816f616df3549d7044d45e744fbf8d42bfa1-bulma_confined.min.css"
                    }
                   ],
                   "type": "async_block"
                  },
                  "mount_callbacks": [
                   "function () {\n    var handler = (function (ko, koPunches) {\n    ko.punches.enableAll();\n    ko.bindingHandlers.numericValue = {\n        init: function(element, valueAccessor, allBindings, data, context) {\n            var stringified = ko.observable(ko.unwrap(valueAccessor()));\n            stringified.subscribe(function(value) {\n                var val = parseFloat(value);\n                if (!isNaN(val)) {\n                    valueAccessor()(val);\n                }\n            });\n            valueAccessor().subscribe(function(value) {\n                var str = JSON.stringify(value);\n                if ((str == \"0\") && ([\"-0\", \"-0.\"].indexOf(stringified()) >= 0))\n                     return;\n                 if ([\"null\", \"\"].indexOf(str) >= 0)\n                     return;\n                stringified(str);\n            });\n            ko.applyBindingsToNode(\n                element,\n                {\n                    value: stringified,\n                    valueUpdate: allBindings.get('valueUpdate'),\n                },\n                context,\n            );\n        }\n    };\n    var json_data = {\"loading\":WebIO.getval({\"name\":\"loading\",\"scope\":\"6245101254693358460\",\"id\":\"12674125620531386269\",\"type\":\"observable\"}),\"clicks\":WebIO.getval({\"name\":\"clicks\",\"scope\":\"6245101254693358460\",\"id\":\"3759746710355592592\",\"type\":\"observable\"})};\n    var self = this;\n    function AppViewModel() {\n        for (var key in json_data) {\n            var el = json_data[key];\n            this[key] = Array.isArray(el) ? ko.observableArray(el) : ko.observable(el);\n        }\n        \n        \n        [this[\"loading\"].subscribe((function (val){!(this.valueFromJulia[\"loading\"]) ? (WebIO.setval({\"name\":\"loading\",\"scope\":\"6245101254693358460\",\"id\":\"12674125620531386269\",\"type\":\"observable\"},val)) : undefined; return this.valueFromJulia[\"loading\"]=false}),self),this[\"clicks\"].subscribe((function (val){!(this.valueFromJulia[\"clicks\"]) ? (WebIO.setval({\"name\":\"clicks\",\"scope\":\"6245101254693358460\",\"id\":\"3759746710355592592\",\"type\":\"observable\"},val)) : undefined; return this.valueFromJulia[\"clicks\"]=false}),self)]\n        \n    }\n    self.model = new AppViewModel();\n    self.valueFromJulia = {};\n    for (var key in json_data) {\n        self.valueFromJulia[key] = false;\n    }\n    ko.applyBindings(self.model, self.dom);\n}\n);\n    (WebIO.importBlock({\"data\":[{\"name\":\"knockout\",\"type\":\"js\",\"url\":\"/assetserver/727383f2a47bd31570b7da84eee7b022dd6d7c78-knockout.js\"},{\"name\":\"knockout_punches\",\"type\":\"js\",\"url\":\"/assetserver/382b41b3b1bd9f26f75861d360bad7f8beea211f-knockout_punches.js\"}],\"type\":\"async_block\"})).then((imports) => handler.apply(this, imports));\n}\n"
                  ],
                  "observables": {
                   "clicks": {
                    "id": "3759746710355592592",
                    "sync": true,
                    "value": 0
                   },
                   "loading": {
                    "id": "12674125620531386269",
                    "sync": false,
                    "value": false
                   }
                  },
                  "systemjs_options": null
                 },
                 "nodeType": "Scope",
                 "props": {},
                 "type": "node"
                }
               ],
               "instanceArgs": {
                "namespace": "html",
                "tag": "div"
               },
               "nodeType": "DOM",
               "props": {
                "className": "field interact-widget"
               },
               "type": "node"
              }
             ],
             "instanceArgs": {
              "namespace": "html",
              "tag": "div"
             },
             "nodeType": "DOM",
             "props": {
              "style": {
               "display": "flex",
               "flex-direction": "row"
              }
             },
             "type": "node"
            }
           ],
           "instanceArgs": {
            "namespace": "html",
            "tag": "div"
           },
           "nodeType": "DOM",
           "props": {
            "style": {
             "display": "flex",
             "flex-direction": "column"
            }
           },
           "type": "node"
          },
          {
           "children": [
            {
             "children": [
              {
               "children": [],
               "instanceArgs": {
                "namespace": "html",
                "tag": "div"
               },
               "nodeType": "DOM",
               "props": {
                "id": "container"
               },
               "type": "node"
              }
             ],
             "instanceArgs": {
              "handlers": {
               "value": [
                "(function (txt){return this.k.render(txt,this.container)})"
               ]
              },
              "id": "7824891384096469577",
              "imports": {
               "data": [
                {
                 "name": null,
                 "type": "js",
                 "url": "/assetserver/dd22ed1bf1896c2748f3fe616ce0b838adc895c1-katex.min.js"
                },
                {
                 "name": null,
                 "type": "css",
                 "url": "/assetserver/46517a424aa5e6cffc1360d7e0848b601c584ee3-katex.min.css"
                }
               ],
               "type": "async_block"
              },
              "mount_callbacks": [
               "function () {\n    var handler = ((function (k){this.k=k; this.container=this.dom.querySelector(\"#container\"); return k.render(\"\\\\;\\\\;\",this.container)}));\n    (WebIO.importBlock({\"data\":[{\"name\":null,\"type\":\"js\",\"url\":\"/assetserver/dd22ed1bf1896c2748f3fe616ce0b838adc895c1-katex.min.js\"},{\"name\":null,\"type\":\"css\",\"url\":\"/assetserver/46517a424aa5e6cffc1360d7e0848b601c584ee3-katex.min.css\"}],\"type\":\"async_block\"})).then((imports) => handler.apply(this, imports));\n}\n"
              ],
              "observables": {
               "value": {
                "id": "134165153981354266",
                "sync": false,
                "value": "\\;\\;"
               }
              },
              "systemjs_options": null
             },
             "nodeType": "Scope",
             "props": {},
             "type": "node"
            }
           ],
           "instanceArgs": {
            "namespace": "html",
            "tag": "div"
           },
           "nodeType": "DOM",
           "props": {
            "className": "interact-widget"
           },
           "type": "node"
          },
          {
           "children": [
            {
             "children": [],
             "instanceArgs": {
              "namespace": "html",
              "tag": "div"
             },
             "nodeType": "DOM",
             "props": {
              "className": "webio-observable",
              "setInnerHtml": "<img src='data:image/png;base64,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'></img>"
             },
             "type": "node"
            }
           ],
           "instanceArgs": {
            "handlers": {
             "obs-output": [
              "function (value, scope) {\n    scope.setInnerHTML(value);\n}\n"
             ]
            },
            "id": "6796506325466343439",
            "imports": {
             "data": [],
             "type": "async_block"
            },
            "mount_callbacks": [],
            "observables": {
             "obs-output": {
              "id": "12247788979632594828",
              "sync": false,
              "value": "<img src='data:image/png;base64,iVBORw0KGgoAAAANSUhEUgAAAa4AAAGuCAIAAABHl3XNAAAABmJLR0QA/wD/AP+gvaeTAAAHEElEQVR4nO3cQU4cVhBF0YuVhXVW5qW5d9YZRxCpSpYBVc4ZXhgwsJ4+dMlvr9crgP+3H1/9AwB8PVMIYAoBTCFAphAgUwiQKQTIFAJkCgEyhQCZQoBMIUCmECBTCFD9tfrut7/feryrzypd1/Vv1V+/Fv8D4W4Ke9TP//iSruv6d+tjfkEGMIUAphAgUwiQKQRo/Qnycxx1Xde/tm8+VvYqBHBXqOv64T7mVQhgCgFMIUCmECBTCJC7Ql3Xz3Z3hQAr7gp1Xb/bx7wKAUwhgCkEyBQCZAoBcleo6/rZ7q4QYMVdoa7rd/uYVyGAKQQwhQCZQoBMIUDuCnVdP9vdFQKsuCvUdf1uH/MqBDCFAKYQIFMIkCkEyF2hrutnu7tCgBV3hbqu3+1jXoUAphDAFAJkCgEyhQC5K9R1/Wx3Vwiw4q5Q1/W7fcyrEMAUAphCgEwhQKYQIHeFuq6f7e4KAVbcFeq6frePeRUCmEIAUwiQKQTIFALkrlDX9bPdXSHAirtCXdfv9jGvQgBTCGAKATKFAJlCgNwV6rp+trsrBFhxV6jr+t0+5lUIYAoBTCFAphAgUwiQu0Jd1892d4UAK+4KdV2/28e8CgFMIYApBMgUAmQKAXJXqOv62e6uEGDFXaGu63f7mFchgCkEMIUAmUKATCFA7gp1XT/b3RUCrLgr1HX9bh/zKgQwhQCmECBTCJApBMhdoa7rZ7u7QoAVd4W6rt/tY16FAKYQwBQCZAoBMoUAuSvUdf1sd1cIsOKuUNf1u33MqxDAFAKYQoBMIUCmECB3hbqun+3uCgFW3BXqun63j3kVAphCAFMIkCkEyBQC5K5Q1/Wz3V0hwIq7Ql3X7/Yxr0IAUwhgCgEyhQCZQoDcFeq6fra7KwRYcVeo6/rdPuZVCGAKAUwhQKYQIFMIkLtCXdfPdneFACvuCnVdv9vHvAoBTCGAKQTIFAJkCgFyV6jr+tnurhBgxV2hrut3+5hXIYApBDCFAJlCgEwhQO4KdV0/290VAqy4K9R1/W4f8yoEMIUAphAgUwiQKQTIXaGu62e7u0KAFXeFuq7f7WNehQCmEMAUAmQKATKFALkr1HX9bHdXCLDirlDX9bt9zKsQwBQCmEKATCFAphAgd4W6rp/t7goBVtwV6rp+t495FQKYQgBTCJApBMgUAuSuUNf1s91dIcCKu0Jd1+/2Ma9CAFMIYAoBMoUAmUKA3BXqun62bz5WXk4h/I7no+fjfe3x/PQfBf7FXaH+if35+PgLj+f3+jn1M33M3woBTCGAKQTIFAJkCgFyV6h/bv/wa0//rvQ/0t0V8k09PjohfBfg87kr1HX9bh/zt0IAUwhgCgEyhQCZQoDcFeq6frZvPlb2KgRwV6jr+uE+5lUIYAoBTCFAphAgUwiQu0Jd1892d4UAK+4KdV2/28e8CgFMIYApBMgUAmQKAXJXqOv62e6uEGDFXaGu63f7mFchgCkEMIUAmUKATCFA7gp1XT/b3RUCrLgr1HX9bh/zKgQwhQCmECBTCJApBMhdoa7rZ7u7QoAVd4W6rt/tY16FAKYQwBQCZAoBMoUAuSvUdf1sd1cIsOKuUNf1u33MqxDAFAKYQoBMIUCmECB3hbqun+3uCgFW3BXqun63j3kVAphCAFMIkCkEyBQC5K5Q1/Wz3V0hwIq7Ql3X7/Yxr0IAUwhgCgEyhQCZQoDcFeq6fra7KwRYcVeo6/rdPuZVCGAKAUwhQKYQIFMIkLtCXdfPdneFACvuCnVdv9vHvAoBTCGAKQTIFAJkCgFyV6jr+tnurhBgxV2hrut3+5hXIYApBDCFAJlCgEwhQO4KdV0/290VAqy4K9R1/W4f8yoEMIUAphAgUwiQKQTIXaGu62e7u0KAFXeFuq7f7WNehQCmEMAUAmQKATKFALkr1HX9bHdXCLDirlDX9bt9zKsQwBQCmEKATCFAphAgd4W6rp/t7goBVtwV6rp+t495FQKYQgBTCJApBMgUAuSuUNf1s91dIcCKu0Jd1+/2Ma9CAFMIYAoBMoUAmUKA3BXqun62uysEWHFXqOv63T7mVQhgCgFMIUCmECBTCJC7Ql3Xz3Z3hQAr7gp1Xb/bx7wKAUwhgCkEyBQCZAoBcleo6/rZ7q4QYMVdoa7rd/uYVyGAKQQwhQCZQoBMIUDuCnVdP9vdFQKsuCvUdf1uH/MqBDCFAKYQIFMIkCkEyF2hrutnu7tCgBV3hbqu3+1jXoUAphDAFAJkCgEyhQC5K9R1/Wx3Vwiw4q5Q1/W7fcyrEMAUAphCgEwhQKYQIHeFuq6f7e4KAVbcFeq6frePeRUCmEIAUwiQKQTIFALkrlDX9bN987Hy2+v1Wnw7wEV+QQYwhQCmECBTCJApBMgUAmQKATKFAJlCgEwhQKYQIFMIkCkEyBQCVP8Aw9y/4Tu55SwAAAAASUVORK5CYII='></img>"
             }
            },
            "systemjs_options": null
           },
           "nodeType": "Scope",
           "props": {},
           "type": "node"
          },
          {
           "children": [
            {
             "children": [
              {
               "children": [],
               "instanceArgs": {
                "namespace": "html",
                "tag": "div"
               },
               "nodeType": "DOM",
               "props": {
                "id": "container"
               },
               "type": "node"
              }
             ],
             "instanceArgs": {
              "handlers": {
               "value": [
                "(function (txt){return this.k.render(txt,this.container)})"
               ]
              },
              "id": "7824891384096469577",
              "imports": {
               "data": [
                {
                 "name": null,
                 "type": "js",
                 "url": "/assetserver/dd22ed1bf1896c2748f3fe616ce0b838adc895c1-katex.min.js"
                },
                {
                 "name": null,
                 "type": "css",
                 "url": "/assetserver/46517a424aa5e6cffc1360d7e0848b601c584ee3-katex.min.css"
                }
               ],
               "type": "async_block"
              },
              "mount_callbacks": [
               "function () {\n    var handler = ((function (k){this.k=k; this.container=this.dom.querySelector(\"#container\"); return k.render(\"\\\\;\\\\;\",this.container)}));\n    (WebIO.importBlock({\"data\":[{\"name\":null,\"type\":\"js\",\"url\":\"/assetserver/dd22ed1bf1896c2748f3fe616ce0b838adc895c1-katex.min.js\"},{\"name\":null,\"type\":\"css\",\"url\":\"/assetserver/46517a424aa5e6cffc1360d7e0848b601c584ee3-katex.min.css\"}],\"type\":\"async_block\"})).then((imports) => handler.apply(this, imports));\n}\n"
              ],
              "observables": {
               "value": {
                "id": "134165153981354266",
                "sync": false,
                "value": "\\;\\;"
               }
              },
              "systemjs_options": null
             },
             "nodeType": "Scope",
             "props": {},
             "type": "node"
            }
           ],
           "instanceArgs": {
            "namespace": "html",
            "tag": "div"
           },
           "nodeType": "DOM",
           "props": {
            "className": "interact-widget"
           },
           "type": "node"
          },
          {
           "children": [],
           "instanceArgs": {
            "namespace": "html",
            "tag": "div"
           },
           "nodeType": "DOM",
           "props": {
            "style": {
             "display": "flex",
             "flex-direction": "column"
            }
           },
           "type": "node"
          }
         ],
         "instanceArgs": {
          "namespace": "html",
          "tag": "div"
         },
         "nodeType": "DOM",
         "props": {
          "style": {
           "display": "flex",
           "flex-direction": "row"
          }
         },
         "type": "node"
        }
       ],
       "instanceArgs": {
        "namespace": "html",
        "tag": "div"
       },
       "nodeType": "DOM",
       "props": {
        "style": {
         "display": "flex",
         "flex-direction": "column"
        }
       },
       "type": "node"
      },
      "text/html": [
       "<div\n",
       "    class=\"webio-mountpoint\"\n",
       "    data-webio-mountpoint=\"4029537871415544787\"\n",
       ">\n",
       "    <script>\n",
       "    (function(){\n",
       "    // Some integrations (namely, IJulia/Jupyter) use an alternate render pathway than\n",
       "    // just putting the html on the page. If WebIO isn't defined, then it's pretty likely\n",
       "    // that we're in one of those situations and the integration just isn't installed\n",
       "    // correctly.\n",
       "    if (typeof window.WebIO === \"undefined\") {\n",
       "        document\n",
       "            .querySelector('[data-webio-mountpoint=\"4029537871415544787\"]')\n",
       "            .innerHTML = (\n",
       "                '<div style=\"padding: 1em; background-color: #f8d6da; border: 1px solid #f5c6cb; font-weight: bold;\">' +\n",
       "                '<p><strong>WebIO not detected.</strong></p>' +\n",
       "                '<p>Please read ' +\n",
       "                '<a href=\"https://juliagizmos.github.io/WebIO.jl/latest/troubleshooting/not-detected/\" target=\"_blank\">the troubleshooting guide</a> ' +\n",
       "                'for more information on how to resolve this issue.</p>' +\n",
       "                '<p><a href=\"https://juliagizmos.github.io/WebIO.jl/latest/troubleshooting/not-detected/\" target=\"_blank\">https://juliagizmos.github.io/WebIO.jl/latest/troubleshooting/not-detected/</a></p>' +\n",
       "                '</div>'\n",
       "            );\n",
       "        return;\n",
       "    }\n",
       "    WebIO.mount(\n",
       "        document.querySelector('[data-webio-mountpoint=\"4029537871415544787\"]'),\n",
       "        {\"props\":{\"style\":{\"display\":\"flex\",\"flex-direction\":\"column\"}},\"nodeType\":\"DOM\",\"type\":\"node\",\"instanceArgs\":{\"namespace\":\"html\",\"tag\":\"div\"},\"children\":[{\"props\":{\"style\":{\"display\":\"flex\",\"flex-direction\":\"row\"}},\"nodeType\":\"DOM\",\"type\":\"node\",\"instanceArgs\":{\"namespace\":\"html\",\"tag\":\"div\"},\"children\":[{\"props\":{\"style\":{\"display\":\"flex\",\"flex-direction\":\"column\"}},\"nodeType\":\"DOM\",\"type\":\"node\",\"instanceArgs\":{\"namespace\":\"html\",\"tag\":\"div\"},\"children\":[{\"props\":{\"className\":\"field interact-widget\"},\"nodeType\":\"DOM\",\"type\":\"node\",\"instanceArgs\":{\"namespace\":\"html\",\"tag\":\"div\"},\"children\":[{\"props\":{},\"nodeType\":\"Scope\",\"type\":\"node\",\"instanceArgs\":{\"imports\":{\"data\":[{\"name\":\"knockout\",\"type\":\"js\",\"url\":\"\\/assetserver\\/727383f2a47bd31570b7da84eee7b022dd6d7c78-knockout.js\"},{\"name\":\"knockout_punches\",\"type\":\"js\",\"url\":\"\\/assetserver\\/382b41b3b1bd9f26f75861d360bad7f8beea211f-knockout_punches.js\"},{\"name\":null,\"type\":\"js\",\"url\":\"\\/assetserver\\/5ab20f1060420992a9b82a65b735dee4d81ef413-all.js\"},{\"name\":null,\"type\":\"css\",\"url\":\"\\/assetserver\\/1cc0ed62837210b80a182cc3676512f895dab686-style.css\"},{\"name\":null,\"type\":\"css\",\"url\":\"\\/assetserver\\/2eee816f616df3549d7044d45e744fbf8d42bfa1-bulma_confined.min.css\"}],\"type\":\"async_block\"},\"id\":\"13677928500486183246\",\"handlers\":{\"changes\":[\"(function (val){return (val!=this.model[\\\"changes\\\"]()) ? (this.valueFromJulia[\\\"changes\\\"]=true, this.model[\\\"changes\\\"](val)) : undefined})\"],\"index\":[\"(function (val){return (val!=this.model[\\\"index\\\"]()) ? (this.valueFromJulia[\\\"index\\\"]=true, this.model[\\\"index\\\"](val)) : undefined})\"]},\"systemjs_options\":null,\"mount_callbacks\":[\"function () {\\n    var handler = (function (ko, koPunches) {\\n    ko.punches.enableAll();\\n    ko.bindingHandlers.numericValue = {\\n        init: function(element, valueAccessor, allBindings, data, context) {\\n            var stringified = ko.observable(ko.unwrap(valueAccessor()));\\n            stringified.subscribe(function(value) {\\n                var val = parseFloat(value);\\n                if (!isNaN(val)) {\\n                    valueAccessor()(val);\\n                }\\n            });\\n            valueAccessor().subscribe(function(value) {\\n                var str = JSON.stringify(value);\\n                if ((str == \\\"0\\\") && ([\\\"-0\\\", \\\"-0.\\\"].indexOf(stringified()) >= 0))\\n                     return;\\n                 if ([\\\"null\\\", \\\"\\\"].indexOf(str) >= 0)\\n                     return;\\n                stringified(str);\\n            });\\n            ko.applyBindingsToNode(\\n                element,\\n                {\\n                    value: stringified,\\n                    valueUpdate: allBindings.get('valueUpdate'),\\n                },\\n                context,\\n            );\\n        }\\n    };\\n    var json_data = {\\\"formatted_vals\\\":[\\\"1\\\",\\\"2\\\",\\\"3\\\",\\\"4\\\",\\\"5\\\",\\\"6\\\",\\\"7\\\",\\\"8\\\",\\\"9\\\",\\\"10\\\",\\\"11\\\",\\\"12\\\",\\\"13\\\",\\\"14\\\",\\\"15\\\",\\\"16\\\",\\\"17\\\",\\\"18\\\",\\\"19\\\",\\\"20\\\",\\\"21\\\",\\\"22\\\",\\\"23\\\",\\\"24\\\",\\\"25\\\",\\\"26\\\",\\\"27\\\",\\\"28\\\",\\\"29\\\",\\\"30\\\",\\\"31\\\",\\\"32\\\",\\\"33\\\",\\\"34\\\",\\\"35\\\",\\\"36\\\",\\\"37\\\",\\\"38\\\",\\\"39\\\",\\\"40\\\",\\\"41\\\",\\\"42\\\",\\\"43\\\",\\\"44\\\",\\\"45\\\",\\\"46\\\",\\\"47\\\",\\\"48\\\",\\\"49\\\",\\\"50\\\",\\\"51\\\",\\\"52\\\",\\\"53\\\",\\\"54\\\",\\\"55\\\",\\\"56\\\",\\\"57\\\",\\\"58\\\",\\\"59\\\",\\\"60\\\",\\\"61\\\",\\\"62\\\",\\\"63\\\",\\\"64\\\",\\\"65\\\",\\\"66\\\",\\\"67\\\",\\\"68\\\",\\\"69\\\",\\\"70\\\",\\\"71\\\",\\\"72\\\",\\\"73\\\",\\\"74\\\",\\\"75\\\",\\\"76\\\",\\\"77\\\",\\\"78\\\",\\\"79\\\",\\\"80\\\",\\\"81\\\",\\\"82\\\",\\\"83\\\",\\\"84\\\",\\\"85\\\",\\\"86\\\",\\\"87\\\",\\\"88\\\",\\\"89\\\",\\\"90\\\",\\\"91\\\",\\\"92\\\",\\\"93\\\",\\\"94\\\",\\\"95\\\",\\\"96\\\",\\\"97\\\",\\\"98\\\",\\\"99\\\",\\\"100\\\",\\\"101\\\",\\\"102\\\",\\\"103\\\",\\\"104\\\",\\\"105\\\",\\\"106\\\",\\\"107\\\",\\\"108\\\",\\\"109\\\",\\\"110\\\",\\\"111\\\",\\\"112\\\",\\\"113\\\",\\\"114\\\",\\\"115\\\",\\\"116\\\",\\\"117\\\",\\\"118\\\",\\\"119\\\",\\\"120\\\",\\\"121\\\",\\\"122\\\",\\\"123\\\",\\\"124\\\",\\\"125\\\",\\\"126\\\",\\\"127\\\",\\\"128\\\",\\\"129\\\",\\\"130\\\",\\\"131\\\",\\\"132\\\",\\\"133\\\",\\\"134\\\",\\\"135\\\",\\\"136\\\",\\\"137\\\",\\\"138\\\",\\\"139\\\",\\\"140\\\",\\\"141\\\",\\\"142\\\",\\\"143\\\",\\\"144\\\",\\\"145\\\",\\\"146\\\",\\\"147\\\",\\\"148\\\",\\\"149\\\",\\\"150\\\",\\\"151\\\",\\\"152\\\",\\\"153\\\",\\\"154\\\",\\\"155\\\",\\\"156\\\",\\\"157\\\",\\\"158\\\",\\\"159\\\",\\\"160\\\",\\\"161\\\",\\\"162\\\",\\\"163\\\",\\\"164\\\",\\\"165\\\",\\\"166\\\",\\\"167\\\",\\\"168\\\",\\\"169\\\",\\\"170\\\",\\\"171\\\",\\\"172\\\",\\\"173\\\",\\\"174\\\",\\\"175\\\",\\\"176\\\",\\\"177\\\",\\\"178\\\",\\\"179\\\",\\\"180\\\",\\\"181\\\",\\\"182\\\",\\\"183\\\",\\\"184\\\",\\\"185\\\",\\\"186\\\",\\\"187\\\",\\\"188\\\",\\\"189\\\",\\\"190\\\",\\\"191\\\",\\\"192\\\",\\\"193\\\",\\\"194\\\",\\\"195\\\",\\\"196\\\",\\\"197\\\",\\\"198\\\",\\\"199\\\",\\\"200\\\",\\\"201\\\",\\\"202\\\",\\\"203\\\",\\\"204\\\",\\\"205\\\",\\\"206\\\",\\\"207\\\",\\\"208\\\",\\\"209\\\",\\\"210\\\",\\\"211\\\",\\\"212\\\",\\\"213\\\",\\\"214\\\",\\\"215\\\",\\\"216\\\",\\\"217\\\",\\\"218\\\",\\\"219\\\",\\\"220\\\",\\\"221\\\",\\\"222\\\",\\\"223\\\",\\\"224\\\",\\\"225\\\",\\\"226\\\",\\\"227\\\",\\\"228\\\",\\\"229\\\",\\\"230\\\",\\\"231\\\",\\\"232\\\",\\\"233\\\",\\\"234\\\",\\\"235\\\",\\\"236\\\",\\\"237\\\",\\\"238\\\",\\\"239\\\",\\\"240\\\",\\\"241\\\",\\\"242\\\",\\\"243\\\",\\\"244\\\",\\\"245\\\",\\\"246\\\",\\\"247\\\",\\\"248\\\",\\\"249\\\",\\\"250\\\",\\\"251\\\",\\\"252\\\",\\\"253\\\",\\\"254\\\",\\\"255\\\",\\\"256\\\",\\\"257\\\",\\\"258\\\",\\\"259\\\",\\\"260\\\",\\\"261\\\",\\\"262\\\",\\\"263\\\",\\\"264\\\",\\\"265\\\",\\\"266\\\",\\\"267\\\",\\\"268\\\",\\\"269\\\",\\\"270\\\",\\\"271\\\",\\\"272\\\",\\\"273\\\",\\\"274\\\",\\\"275\\\",\\\"276\\\",\\\"277\\\",\\\"278\\\",\\\"279\\\",\\\"280\\\",\\\"281\\\",\\\"282\\\",\\\"283\\\",\\\"284\\\",\\\"285\\\",\\\"286\\\",\\\"287\\\",\\\"288\\\",\\\"289\\\",\\\"290\\\",\\\"291\\\",\\\"292\\\",\\\"293\\\",\\\"294\\\",\\\"295\\\",\\\"296\\\",\\\"297\\\",\\\"298\\\",\\\"299\\\",\\\"300\\\",\\\"301\\\",\\\"302\\\",\\\"303\\\",\\\"304\\\",\\\"305\\\",\\\"306\\\",\\\"307\\\",\\\"308\\\",\\\"309\\\",\\\"310\\\",\\\"311\\\",\\\"312\\\",\\\"313\\\",\\\"314\\\",\\\"315\\\",\\\"316\\\",\\\"317\\\",\\\"318\\\",\\\"319\\\",\\\"320\\\",\\\"321\\\",\\\"322\\\",\\\"323\\\",\\\"324\\\",\\\"325\\\",\\\"326\\\",\\\"327\\\",\\\"328\\\",\\\"329\\\",\\\"330\\\",\\\"331\\\",\\\"332\\\",\\\"333\\\",\\\"334\\\",\\\"335\\\",\\\"336\\\",\\\"337\\\",\\\"338\\\",\\\"339\\\",\\\"340\\\",\\\"341\\\",\\\"342\\\",\\\"343\\\",\\\"344\\\",\\\"345\\\",\\\"346\\\",\\\"347\\\",\\\"348\\\",\\\"349\\\",\\\"350\\\",\\\"351\\\",\\\"352\\\",\\\"353\\\",\\\"354\\\",\\\"355\\\",\\\"356\\\",\\\"357\\\",\\\"358\\\",\\\"359\\\",\\\"360\\\",\\\"361\\\",\\\"362\\\",\\\"363\\\",\\\"364\\\",\\\"365\\\",\\\"366\\\",\\\"367\\\",\\\"368\\\",\\\"369\\\",\\\"370\\\",\\\"371\\\",\\\"372\\\",\\\"373\\\",\\\"374\\\",\\\"375\\\",\\\"376\\\",\\\"377\\\",\\\"378\\\",\\\"379\\\",\\\"380\\\",\\\"381\\\",\\\"382\\\",\\\"383\\\",\\\"384\\\",\\\"385\\\",\\\"386\\\",\\\"387\\\",\\\"388\\\",\\\"389\\\",\\\"390\\\",\\\"391\\\",\\\"392\\\",\\\"393\\\",\\\"394\\\",\\\"395\\\",\\\"396\\\",\\\"397\\\",\\\"398\\\",\\\"399\\\",\\\"400\\\",\\\"401\\\",\\\"402\\\",\\\"403\\\",\\\"404\\\",\\\"405\\\",\\\"406\\\",\\\"407\\\",\\\"408\\\",\\\"409\\\",\\\"410\\\",\\\"411\\\",\\\"412\\\",\\\"413\\\",\\\"414\\\",\\\"415\\\",\\\"416\\\",\\\"417\\\",\\\"418\\\",\\\"419\\\",\\\"420\\\",\\\"421\\\",\\\"422\\\",\\\"423\\\",\\\"424\\\",\\\"425\\\",\\\"426\\\",\\\"427\\\",\\\"428\\\",\\\"429\\\",\\\"430\\\",\\\"431\\\",\\\"432\\\",\\\"433\\\",\\\"434\\\",\\\"435\\\",\\\"436\\\",\\\"437\\\",\\\"438\\\",\\\"439\\\",\\\"440\\\",\\\"441\\\",\\\"442\\\",\\\"443\\\",\\\"444\\\",\\\"445\\\",\\\"446\\\",\\\"447\\\",\\\"448\\\",\\\"449\\\",\\\"450\\\",\\\"451\\\",\\\"452\\\",\\\"453\\\",\\\"454\\\",\\\"455\\\",\\\"456\\\",\\\"457\\\",\\\"458\\\",\\\"459\\\",\\\"460\\\",\\\"461\\\",\\\"462\\\",\\\"463\\\",\\\"464\\\",\\\"465\\\",\\\"466\\\",\\\"467\\\",\\\"468\\\",\\\"469\\\",\\\"470\\\",\\\"471\\\",\\\"472\\\",\\\"473\\\",\\\"474\\\",\\\"475\\\",\\\"476\\\",\\\"477\\\",\\\"478\\\",\\\"479\\\",\\\"480\\\",\\\"481\\\",\\\"482\\\",\\\"483\\\",\\\"484\\\",\\\"485\\\",\\\"486\\\",\\\"487\\\",\\\"488\\\",\\\"489\\\",\\\"490\\\",\\\"491\\\",\\\"492\\\",\\\"493\\\",\\\"494\\\",\\\"495\\\",\\\"496\\\",\\\"497\\\",\\\"498\\\",\\\"499\\\",\\\"500\\\"],\\\"changes\\\":WebIO.getval({\\\"name\\\":\\\"changes\\\",\\\"scope\\\":\\\"13677928500486183246\\\",\\\"id\\\":\\\"3960987830452816463\\\",\\\"type\\\":\\\"observable\\\"}),\\\"index\\\":WebIO.getval({\\\"name\\\":\\\"index\\\",\\\"scope\\\":\\\"13677928500486183246\\\",\\\"id\\\":\\\"4546979663067268774\\\",\\\"type\\\":\\\"observable\\\"})};\\n    var self = this;\\n    function AppViewModel() {\\n        for (var key in json_data) {\\n            var el = json_data[key];\\n            this[key] = Array.isArray(el) ? ko.observableArray(el) : ko.observable(el);\\n        }\\n        \\n        [this[\\\"formatted_val\\\"]=ko.computed(    function(){\\n        return this.formatted_vals()[parseInt(this.index())-(1)];\\n    }\\n,this)]\\n        [this[\\\"changes\\\"].subscribe((function (val){!(this.valueFromJulia[\\\"changes\\\"]) ? (WebIO.setval({\\\"name\\\":\\\"changes\\\",\\\"scope\\\":\\\"13677928500486183246\\\",\\\"id\\\":\\\"3960987830452816463\\\",\\\"type\\\":\\\"observable\\\"},val)) : undefined; return this.valueFromJulia[\\\"changes\\\"]=false}),self),this[\\\"index\\\"].subscribe((function (val){!(this.valueFromJulia[\\\"index\\\"]) ? (WebIO.setval({\\\"name\\\":\\\"index\\\",\\\"scope\\\":\\\"13677928500486183246\\\",\\\"id\\\":\\\"4546979663067268774\\\",\\\"type\\\":\\\"observable\\\"},val)) : undefined; return this.valueFromJulia[\\\"index\\\"]=false}),self)]\\n        \\n    }\\n    self.model = new AppViewModel();\\n    self.valueFromJulia = {};\\n    for (var key in json_data) {\\n        self.valueFromJulia[key] = false;\\n    }\\n    ko.applyBindings(self.model, self.dom);\\n}\\n);\\n    (WebIO.importBlock({\\\"data\\\":[{\\\"name\\\":\\\"knockout\\\",\\\"type\\\":\\\"js\\\",\\\"url\\\":\\\"\\/assetserver\\/727383f2a47bd31570b7da84eee7b022dd6d7c78-knockout.js\\\"},{\\\"name\\\":\\\"knockout_punches\\\",\\\"type\\\":\\\"js\\\",\\\"url\\\":\\\"\\/assetserver\\/382b41b3b1bd9f26f75861d360bad7f8beea211f-knockout_punches.js\\\"}],\\\"type\\\":\\\"async_block\\\"})).then((imports) => handler.apply(this, imports));\\n}\\n\"],\"observables\":{\"changes\":{\"sync\":false,\"id\":\"3960987830452816463\",\"value\":0},\"index\":{\"sync\":true,\"id\":\"4546979663067268774\",\"value\":1}}},\"children\":[{\"props\":{\"className\":\"interact-flex-row interact-widget\"},\"nodeType\":\"DOM\",\"type\":\"node\",\"instanceArgs\":{\"namespace\":\"html\",\"tag\":\"div\"},\"children\":[{\"props\":{\"className\":\"interact-flex-row-left\"},\"nodeType\":\"DOM\",\"type\":\"node\",\"instanceArgs\":{\"namespace\":\"html\",\"tag\":\"div\"},\"children\":[{\"props\":{\"className\":\"interact \",\"style\":{\"padding\":\"5px 10px 0px 10px\"}},\"nodeType\":\"DOM\",\"type\":\"node\",\"instanceArgs\":{\"namespace\":\"html\",\"tag\":\"label\"},\"children\":[\"time\"]}]},{\"props\":{\"className\":\"interact-flex-row-center\"},\"nodeType\":\"DOM\",\"type\":\"node\",\"instanceArgs\":{\"namespace\":\"html\",\"tag\":\"div\"},\"children\":[{\"props\":{\"max\":500,\"min\":1,\"attributes\":{\"type\":\"range\",\"data-bind\":\"numericValue: index, valueUpdate: 'input', event: {change: function (){this.changes(this.changes()+1)}}\",\"orient\":\"horizontal\"},\"step\":1,\"className\":\"slider slider is-fullwidth\",\"style\":{}},\"nodeType\":\"DOM\",\"type\":\"node\",\"instanceArgs\":{\"namespace\":\"html\",\"tag\":\"input\"},\"children\":[]}]},{\"props\":{\"className\":\"interact-flex-row-right\"},\"nodeType\":\"DOM\",\"type\":\"node\",\"instanceArgs\":{\"namespace\":\"html\",\"tag\":\"div\"},\"children\":[{\"props\":{\"attributes\":{\"data-bind\":\"text: formatted_val\"}},\"nodeType\":\"DOM\",\"type\":\"node\",\"instanceArgs\":{\"namespace\":\"html\",\"tag\":\"p\"},\"children\":[]}]}]}]}]},{\"props\":{\"className\":\"field interact-widget\"},\"nodeType\":\"DOM\",\"type\":\"node\",\"instanceArgs\":{\"namespace\":\"html\",\"tag\":\"div\"},\"children\":[{\"props\":{},\"nodeType\":\"Scope\",\"type\":\"node\",\"instanceArgs\":{\"imports\":{\"data\":[{\"name\":\"knockout\",\"type\":\"js\",\"url\":\"\\/assetserver\\/727383f2a47bd31570b7da84eee7b022dd6d7c78-knockout.js\"},{\"name\":\"knockout_punches\",\"type\":\"js\",\"url\":\"\\/assetserver\\/382b41b3b1bd9f26f75861d360bad7f8beea211f-knockout_punches.js\"},{\"name\":null,\"type\":\"js\",\"url\":\"\\/assetserver\\/5ab20f1060420992a9b82a65b735dee4d81ef413-all.js\"},{\"name\":null,\"type\":\"css\",\"url\":\"\\/assetserver\\/1cc0ed62837210b80a182cc3676512f895dab686-style.css\"},{\"name\":null,\"type\":\"css\",\"url\":\"\\/assetserver\\/2eee816f616df3549d7044d45e744fbf8d42bfa1-bulma_confined.min.css\"}],\"type\":\"async_block\"},\"id\":\"9625706558678385645\",\"handlers\":{\"changes\":[\"(function (val){return (val!=this.model[\\\"changes\\\"]()) ? (this.valueFromJulia[\\\"changes\\\"]=true, this.model[\\\"changes\\\"](val)) : undefined})\"],\"index\":[\"(function (val){return (val!=this.model[\\\"index\\\"]()) ? (this.valueFromJulia[\\\"index\\\"]=true, this.model[\\\"index\\\"](val)) : undefined})\"]},\"systemjs_options\":null,\"mount_callbacks\":[\"function () {\\n    var handler = (function (ko, koPunches) {\\n    ko.punches.enableAll();\\n    ko.bindingHandlers.numericValue = {\\n        init: function(element, valueAccessor, allBindings, data, context) {\\n            var stringified = ko.observable(ko.unwrap(valueAccessor()));\\n            stringified.subscribe(function(value) {\\n                var val = parseFloat(value);\\n                if (!isNaN(val)) {\\n                    valueAccessor()(val);\\n                }\\n            });\\n            valueAccessor().subscribe(function(value) {\\n                var str = JSON.stringify(value);\\n                if ((str == \\\"0\\\") && ([\\\"-0\\\", \\\"-0.\\\"].indexOf(stringified()) >= 0))\\n                     return;\\n                 if ([\\\"null\\\", \\\"\\\"].indexOf(str) >= 0)\\n                     return;\\n                stringified(str);\\n            });\\n            ko.applyBindingsToNode(\\n                element,\\n                {\\n                    value: stringified,\\n                    valueUpdate: allBindings.get('valueUpdate'),\\n                },\\n                context,\\n            );\\n        }\\n    };\\n    var json_data = {\\\"formatted_vals\\\":[\\\"0.1\\\",\\\"0.2\\\",\\\"0.3\\\",\\\"0.4\\\",\\\"0.5\\\",\\\"0.6\\\",\\\"0.7\\\",\\\"0.8\\\",\\\"0.9\\\",\\\"1.0\\\",\\\"1.1\\\",\\\"1.2\\\",\\\"1.3\\\",\\\"1.4\\\",\\\"1.5\\\",\\\"1.6\\\",\\\"1.7\\\",\\\"1.8\\\",\\\"1.9\\\",\\\"2.0\\\"],\\\"changes\\\":WebIO.getval({\\\"name\\\":\\\"changes\\\",\\\"scope\\\":\\\"9625706558678385645\\\",\\\"id\\\":\\\"8992386067649786362\\\",\\\"type\\\":\\\"observable\\\"}),\\\"index\\\":WebIO.getval({\\\"name\\\":\\\"index\\\",\\\"scope\\\":\\\"9625706558678385645\\\",\\\"id\\\":\\\"16221965513756587548\\\",\\\"type\\\":\\\"observable\\\"})};\\n    var self = this;\\n    function AppViewModel() {\\n        for (var key in json_data) {\\n            var el = json_data[key];\\n            this[key] = Array.isArray(el) ? ko.observableArray(el) : ko.observable(el);\\n        }\\n        \\n        [this[\\\"formatted_val\\\"]=ko.computed(    function(){\\n        return this.formatted_vals()[parseInt(this.index())-(1)];\\n    }\\n,this)]\\n        [this[\\\"changes\\\"].subscribe((function (val){!(this.valueFromJulia[\\\"changes\\\"]) ? (WebIO.setval({\\\"name\\\":\\\"changes\\\",\\\"scope\\\":\\\"9625706558678385645\\\",\\\"id\\\":\\\"8992386067649786362\\\",\\\"type\\\":\\\"observable\\\"},val)) : undefined; return this.valueFromJulia[\\\"changes\\\"]=false}),self),this[\\\"index\\\"].subscribe((function (val){!(this.valueFromJulia[\\\"index\\\"]) ? (WebIO.setval({\\\"name\\\":\\\"index\\\",\\\"scope\\\":\\\"9625706558678385645\\\",\\\"id\\\":\\\"16221965513756587548\\\",\\\"type\\\":\\\"observable\\\"},val)) : undefined; return this.valueFromJulia[\\\"index\\\"]=false}),self)]\\n        \\n    }\\n    self.model = new AppViewModel();\\n    self.valueFromJulia = {};\\n    for (var key in json_data) {\\n        self.valueFromJulia[key] = false;\\n    }\\n    ko.applyBindings(self.model, self.dom);\\n}\\n);\\n    (WebIO.importBlock({\\\"data\\\":[{\\\"name\\\":\\\"knockout\\\",\\\"type\\\":\\\"js\\\",\\\"url\\\":\\\"\\/assetserver\\/727383f2a47bd31570b7da84eee7b022dd6d7c78-knockout.js\\\"},{\\\"name\\\":\\\"knockout_punches\\\",\\\"type\\\":\\\"js\\\",\\\"url\\\":\\\"\\/assetserver\\/382b41b3b1bd9f26f75861d360bad7f8beea211f-knockout_punches.js\\\"}],\\\"type\\\":\\\"async_block\\\"})).then((imports) => handler.apply(this, imports));\\n}\\n\"],\"observables\":{\"changes\":{\"sync\":false,\"id\":\"8992386067649786362\",\"value\":0},\"index\":{\"sync\":true,\"id\":\"16221965513756587548\",\"value\":10}}},\"children\":[{\"props\":{\"className\":\"interact-flex-row interact-widget\"},\"nodeType\":\"DOM\",\"type\":\"node\",\"instanceArgs\":{\"namespace\":\"html\",\"tag\":\"div\"},\"children\":[{\"props\":{\"className\":\"interact-flex-row-left\"},\"nodeType\":\"DOM\",\"type\":\"node\",\"instanceArgs\":{\"namespace\":\"html\",\"tag\":\"div\"},\"children\":[{\"props\":{\"className\":\"interact \",\"style\":{\"padding\":\"5px 10px 0px 10px\"}},\"nodeType\":\"DOM\",\"type\":\"node\",\"instanceArgs\":{\"namespace\":\"html\",\"tag\":\"label\"},\"children\":[\"scale\"]}]},{\"props\":{\"className\":\"interact-flex-row-center\"},\"nodeType\":\"DOM\",\"type\":\"node\",\"instanceArgs\":{\"namespace\":\"html\",\"tag\":\"div\"},\"children\":[{\"props\":{\"max\":20,\"min\":1,\"attributes\":{\"type\":\"range\",\"data-bind\":\"numericValue: index, valueUpdate: 'input', event: {change: function (){this.changes(this.changes()+1)}}\",\"orient\":\"horizontal\"},\"step\":1,\"className\":\"slider slider is-fullwidth\",\"style\":{}},\"nodeType\":\"DOM\",\"type\":\"node\",\"instanceArgs\":{\"namespace\":\"html\",\"tag\":\"input\"},\"children\":[]}]},{\"props\":{\"className\":\"interact-flex-row-right\"},\"nodeType\":\"DOM\",\"type\":\"node\",\"instanceArgs\":{\"namespace\":\"html\",\"tag\":\"div\"},\"children\":[{\"props\":{\"attributes\":{\"data-bind\":\"text: formatted_val\"}},\"nodeType\":\"DOM\",\"type\":\"node\",\"instanceArgs\":{\"namespace\":\"html\",\"tag\":\"p\"},\"children\":[]}]}]}]}]},{\"props\":{\"style\":{\"display\":\"flex\",\"flex-direction\":\"column\"}},\"nodeType\":\"DOM\",\"type\":\"node\",\"instanceArgs\":{\"namespace\":\"html\",\"tag\":\"div\"},\"children\":[]},{\"props\":{\"style\":{\"display\":\"flex\",\"flex-direction\":\"column\"}},\"nodeType\":\"DOM\",\"type\":\"node\",\"instanceArgs\":{\"namespace\":\"html\",\"tag\":\"div\"},\"children\":[{\"props\":{\"className\":\"field interact-widget\"},\"nodeType\":\"DOM\",\"type\":\"node\",\"instanceArgs\":{\"namespace\":\"html\",\"tag\":\"div\"},\"children\":[{\"props\":{},\"nodeType\":\"Scope\",\"type\":\"node\",\"instanceArgs\":{\"imports\":{\"data\":[{\"name\":\"knockout\",\"type\":\"js\",\"url\":\"\\/assetserver\\/727383f2a47bd31570b7da84eee7b022dd6d7c78-knockout.js\"},{\"name\":\"knockout_punches\",\"type\":\"js\",\"url\":\"\\/assetserver\\/382b41b3b1bd9f26f75861d360bad7f8beea211f-knockout_punches.js\"},{\"name\":null,\"type\":\"js\",\"url\":\"\\/assetserver\\/5ab20f1060420992a9b82a65b735dee4d81ef413-all.js\"},{\"name\":null,\"type\":\"css\",\"url\":\"\\/assetserver\\/1cc0ed62837210b80a182cc3676512f895dab686-style.css\"},{\"name\":null,\"type\":\"css\",\"url\":\"\\/assetserver\\/2eee816f616df3549d7044d45e744fbf8d42bfa1-bulma_confined.min.css\"}],\"type\":\"async_block\"},\"id\":\"1435713615899031494\",\"handlers\":{\"changes\":[\"(function (val){return (val!=this.model[\\\"changes\\\"]()) ? (this.valueFromJulia[\\\"changes\\\"]=true, this.model[\\\"changes\\\"](val)) : undefined})\"],\"index\":[\"(function (val){return (val!=this.model[\\\"index\\\"]()) ? (this.valueFromJulia[\\\"index\\\"]=true, this.model[\\\"index\\\"](val)) : undefined})\"]},\"systemjs_options\":null,\"mount_callbacks\":[\"function () {\\n    var handler = (function (ko, koPunches) {\\n    ko.punches.enableAll();\\n    ko.bindingHandlers.numericValue = {\\n        init: function(element, valueAccessor, allBindings, data, context) {\\n            var stringified = ko.observable(ko.unwrap(valueAccessor()));\\n            stringified.subscribe(function(value) {\\n                var val = parseFloat(value);\\n                if (!isNaN(val)) {\\n                    valueAccessor()(val);\\n                }\\n            });\\n            valueAccessor().subscribe(function(value) {\\n                var str = JSON.stringify(value);\\n                if ((str == \\\"0\\\") && ([\\\"-0\\\", \\\"-0.\\\"].indexOf(stringified()) >= 0))\\n                     return;\\n                 if ([\\\"null\\\", \\\"\\\"].indexOf(str) >= 0)\\n                     return;\\n                stringified(str);\\n            });\\n            ko.applyBindingsToNode(\\n                element,\\n                {\\n                    value: stringified,\\n                    valueUpdate: allBindings.get('valueUpdate'),\\n                },\\n                context,\\n            );\\n        }\\n    };\\n    var json_data = {\\\"formatted_vals\\\":[\\\"1\\\",\\\"2\\\",\\\"3\\\",\\\"4\\\",\\\"5\\\",\\\"6\\\",\\\"7\\\",\\\"8\\\",\\\"9\\\",\\\"10\\\"],\\\"changes\\\":WebIO.getval({\\\"name\\\":\\\"changes\\\",\\\"scope\\\":\\\"1435713615899031494\\\",\\\"id\\\":\\\"3900503912676677884\\\",\\\"type\\\":\\\"observable\\\"}),\\\"index\\\":WebIO.getval({\\\"name\\\":\\\"index\\\",\\\"scope\\\":\\\"1435713615899031494\\\",\\\"id\\\":\\\"290290780074492010\\\",\\\"type\\\":\\\"observable\\\"})};\\n    var self = this;\\n    function AppViewModel() {\\n        for (var key in json_data) {\\n            var el = json_data[key];\\n            this[key] = Array.isArray(el) ? ko.observableArray(el) : ko.observable(el);\\n        }\\n        \\n        [this[\\\"formatted_val\\\"]=ko.computed(    function(){\\n        return this.formatted_vals()[parseInt(this.index())-(1)];\\n    }\\n,this)]\\n        [this[\\\"changes\\\"].subscribe((function (val){!(this.valueFromJulia[\\\"changes\\\"]) ? (WebIO.setval({\\\"name\\\":\\\"changes\\\",\\\"scope\\\":\\\"1435713615899031494\\\",\\\"id\\\":\\\"3900503912676677884\\\",\\\"type\\\":\\\"observable\\\"},val)) : undefined; return this.valueFromJulia[\\\"changes\\\"]=false}),self),this[\\\"index\\\"].subscribe((function (val){!(this.valueFromJulia[\\\"index\\\"]) ? (WebIO.setval({\\\"name\\\":\\\"index\\\",\\\"scope\\\":\\\"1435713615899031494\\\",\\\"id\\\":\\\"290290780074492010\\\",\\\"type\\\":\\\"observable\\\"},val)) : undefined; return this.valueFromJulia[\\\"index\\\"]=false}),self)]\\n        \\n    }\\n    self.model = new AppViewModel();\\n    self.valueFromJulia = {};\\n    for (var key in json_data) {\\n        self.valueFromJulia[key] = false;\\n    }\\n    ko.applyBindings(self.model, self.dom);\\n}\\n);\\n    (WebIO.importBlock({\\\"data\\\":[{\\\"name\\\":\\\"knockout\\\",\\\"type\\\":\\\"js\\\",\\\"url\\\":\\\"\\/assetserver\\/727383f2a47bd31570b7da84eee7b022dd6d7c78-knockout.js\\\"},{\\\"name\\\":\\\"knockout_punches\\\",\\\"type\\\":\\\"js\\\",\\\"url\\\":\\\"\\/assetserver\\/382b41b3b1bd9f26f75861d360bad7f8beea211f-knockout_punches.js\\\"}],\\\"type\\\":\\\"async_block\\\"})).then((imports) => handler.apply(this, imports));\\n}\\n\"],\"observables\":{\"changes\":{\"sync\":false,\"id\":\"3900503912676677884\",\"value\":0},\"index\":{\"sync\":true,\"id\":\"290290780074492010\",\"value\":5}}},\"children\":[{\"props\":{\"className\":\"interact-flex-row interact-widget\"},\"nodeType\":\"DOM\",\"type\":\"node\",\"instanceArgs\":{\"namespace\":\"html\",\"tag\":\"div\"},\"children\":[{\"props\":{\"className\":\"interact-flex-row-left\"},\"nodeType\":\"DOM\",\"type\":\"node\",\"instanceArgs\":{\"namespace\":\"html\",\"tag\":\"div\"},\"children\":[{\"props\":{\"className\":\"interact \",\"style\":{\"padding\":\"5px 10px 0px 10px\"}},\"nodeType\":\"DOM\",\"type\":\"node\",\"instanceArgs\":{\"namespace\":\"html\",\"tag\":\"label\"},\"children\":[\"threshold\"]}]},{\"props\":{\"className\":\"interact-flex-row-center\"},\"nodeType\":\"DOM\",\"type\":\"node\",\"instanceArgs\":{\"namespace\":\"html\",\"tag\":\"div\"},\"children\":[{\"props\":{\"max\":10,\"min\":1,\"attributes\":{\"type\":\"range\",\"data-bind\":\"numericValue: index, valueUpdate: 'input', event: {change: function (){this.changes(this.changes()+1)}}\",\"orient\":\"horizontal\"},\"step\":1,\"className\":\"slider slider is-fullwidth\",\"style\":{}},\"nodeType\":\"DOM\",\"type\":\"node\",\"instanceArgs\":{\"namespace\":\"html\",\"tag\":\"input\"},\"children\":[]}]},{\"props\":{\"className\":\"interact-flex-row-right\"},\"nodeType\":\"DOM\",\"type\":\"node\",\"instanceArgs\":{\"namespace\":\"html\",\"tag\":\"div\"},\"children\":[{\"props\":{\"attributes\":{\"data-bind\":\"text: formatted_val\"}},\"nodeType\":\"DOM\",\"type\":\"node\",\"instanceArgs\":{\"namespace\":\"html\",\"tag\":\"p\"},\"children\":[]}]}]}]}]}]},{\"props\":{\"style\":{\"display\":\"flex\",\"flex-direction\":\"row\"}},\"nodeType\":\"DOM\",\"type\":\"node\",\"instanceArgs\":{\"namespace\":\"html\",\"tag\":\"div\"},\"children\":[{\"props\":{\"className\":\"interact-widget\"},\"nodeType\":\"DOM\",\"type\":\"node\",\"instanceArgs\":{\"namespace\":\"html\",\"tag\":\"div\"},\"children\":[{\"props\":{},\"nodeType\":\"Scope\",\"type\":\"node\",\"instanceArgs\":{\"imports\":{\"data\":[{\"name\":null,\"type\":\"js\",\"url\":\"\\/assetserver\\/dd22ed1bf1896c2748f3fe616ce0b838adc895c1-katex.min.js\"},{\"name\":null,\"type\":\"css\",\"url\":\"\\/assetserver\\/46517a424aa5e6cffc1360d7e0848b601c584ee3-katex.min.css\"}],\"type\":\"async_block\"},\"id\":\"7824891384096469577\",\"handlers\":{\"value\":[\"(function (txt){return this.k.render(txt,this.container)})\"]},\"systemjs_options\":null,\"mount_callbacks\":[\"function () {\\n    var handler = ((function (k){this.k=k; this.container=this.dom.querySelector(\\\"#container\\\"); return k.render(\\\"\\\\\\\\;\\\\\\\\;\\\",this.container)}));\\n    (WebIO.importBlock({\\\"data\\\":[{\\\"name\\\":null,\\\"type\\\":\\\"js\\\",\\\"url\\\":\\\"\\/assetserver\\/dd22ed1bf1896c2748f3fe616ce0b838adc895c1-katex.min.js\\\"},{\\\"name\\\":null,\\\"type\\\":\\\"css\\\",\\\"url\\\":\\\"\\/assetserver\\/46517a424aa5e6cffc1360d7e0848b601c584ee3-katex.min.css\\\"}],\\\"type\\\":\\\"async_block\\\"})).then((imports) => handler.apply(this, imports));\\n}\\n\"],\"observables\":{\"value\":{\"sync\":false,\"id\":\"134165153981354266\",\"value\":\"\\\\;\\\\;\"}}},\"children\":[{\"props\":{\"id\":\"container\"},\"nodeType\":\"DOM\",\"type\":\"node\",\"instanceArgs\":{\"namespace\":\"html\",\"tag\":\"div\"},\"children\":[]}]}]},{\"props\":{\"className\":\"field interact-widget\"},\"nodeType\":\"DOM\",\"type\":\"node\",\"instanceArgs\":{\"namespace\":\"html\",\"tag\":\"div\"},\"children\":[{\"props\":{},\"nodeType\":\"Scope\",\"type\":\"node\",\"instanceArgs\":{\"imports\":{\"data\":[{\"name\":\"knockout\",\"type\":\"js\",\"url\":\"\\/assetserver\\/727383f2a47bd31570b7da84eee7b022dd6d7c78-knockout.js\"},{\"name\":\"knockout_punches\",\"type\":\"js\",\"url\":\"\\/assetserver\\/382b41b3b1bd9f26f75861d360bad7f8beea211f-knockout_punches.js\"},{\"name\":null,\"type\":\"js\",\"url\":\"\\/assetserver\\/5ab20f1060420992a9b82a65b735dee4d81ef413-all.js\"},{\"name\":null,\"type\":\"css\",\"url\":\"\\/assetserver\\/1cc0ed62837210b80a182cc3676512f895dab686-style.css\"},{\"name\":null,\"type\":\"css\",\"url\":\"\\/assetserver\\/2eee816f616df3549d7044d45e744fbf8d42bfa1-bulma_confined.min.css\"}],\"type\":\"async_block\"},\"id\":\"18092873130827573801\",\"handlers\":{\"loading\":[\"(function (val){return (val!=this.model[\\\"loading\\\"]()) ? (this.valueFromJulia[\\\"loading\\\"]=true, this.model[\\\"loading\\\"](val)) : undefined})\"],\"clicks\":[\"(function (val){return (val!=this.model[\\\"clicks\\\"]()) ? (this.valueFromJulia[\\\"clicks\\\"]=true, this.model[\\\"clicks\\\"](val)) : undefined})\"]},\"systemjs_options\":null,\"mount_callbacks\":[\"function () {\\n    var handler = (function (ko, koPunches) {\\n    ko.punches.enableAll();\\n    ko.bindingHandlers.numericValue = {\\n        init: function(element, valueAccessor, allBindings, data, context) {\\n            var stringified = ko.observable(ko.unwrap(valueAccessor()));\\n            stringified.subscribe(function(value) {\\n                var val = parseFloat(value);\\n                if (!isNaN(val)) {\\n                    valueAccessor()(val);\\n                }\\n            });\\n            valueAccessor().subscribe(function(value) {\\n                var str = JSON.stringify(value);\\n                if ((str == \\\"0\\\") && ([\\\"-0\\\", \\\"-0.\\\"].indexOf(stringified()) >= 0))\\n                     return;\\n                 if ([\\\"null\\\", \\\"\\\"].indexOf(str) >= 0)\\n                     return;\\n                stringified(str);\\n            });\\n            ko.applyBindingsToNode(\\n                element,\\n                {\\n                    value: stringified,\\n                    valueUpdate: allBindings.get('valueUpdate'),\\n                },\\n                context,\\n            );\\n        }\\n    };\\n    var json_data = {\\\"loading\\\":WebIO.getval({\\\"name\\\":\\\"loading\\\",\\\"scope\\\":\\\"18092873130827573801\\\",\\\"id\\\":\\\"7945313726463890416\\\",\\\"type\\\":\\\"observable\\\"}),\\\"clicks\\\":WebIO.getval({\\\"name\\\":\\\"clicks\\\",\\\"scope\\\":\\\"18092873130827573801\\\",\\\"id\\\":\\\"18285535650761525822\\\",\\\"type\\\":\\\"observable\\\"})};\\n    var self = this;\\n    function AppViewModel() {\\n        for (var key in json_data) {\\n            var el = json_data[key];\\n            this[key] = Array.isArray(el) ? ko.observableArray(el) : ko.observable(el);\\n        }\\n        \\n        \\n        [this[\\\"loading\\\"].subscribe((function (val){!(this.valueFromJulia[\\\"loading\\\"]) ? (WebIO.setval({\\\"name\\\":\\\"loading\\\",\\\"scope\\\":\\\"18092873130827573801\\\",\\\"id\\\":\\\"7945313726463890416\\\",\\\"type\\\":\\\"observable\\\"},val)) : undefined; return this.valueFromJulia[\\\"loading\\\"]=false}),self),this[\\\"clicks\\\"].subscribe((function (val){!(this.valueFromJulia[\\\"clicks\\\"]) ? (WebIO.setval({\\\"name\\\":\\\"clicks\\\",\\\"scope\\\":\\\"18092873130827573801\\\",\\\"id\\\":\\\"18285535650761525822\\\",\\\"type\\\":\\\"observable\\\"},val)) : undefined; return this.valueFromJulia[\\\"clicks\\\"]=false}),self)]\\n        \\n    }\\n    self.model = new AppViewModel();\\n    self.valueFromJulia = {};\\n    for (var key in json_data) {\\n        self.valueFromJulia[key] = false;\\n    }\\n    ko.applyBindings(self.model, self.dom);\\n}\\n);\\n    (WebIO.importBlock({\\\"data\\\":[{\\\"name\\\":\\\"knockout\\\",\\\"type\\\":\\\"js\\\",\\\"url\\\":\\\"\\/assetserver\\/727383f2a47bd31570b7da84eee7b022dd6d7c78-knockout.js\\\"},{\\\"name\\\":\\\"knockout_punches\\\",\\\"type\\\":\\\"js\\\",\\\"url\\\":\\\"\\/assetserver\\/382b41b3b1bd9f26f75861d360bad7f8beea211f-knockout_punches.js\\\"}],\\\"type\\\":\\\"async_block\\\"})).then((imports) => handler.apply(this, imports));\\n}\\n\"],\"observables\":{\"loading\":{\"sync\":false,\"id\":\"7945313726463890416\",\"value\":false},\"clicks\":{\"sync\":true,\"id\":\"18285535650761525822\",\"value\":0}}},\"children\":[{\"props\":{\"attributes\":{\"data-bind\":\"click: function (){this.clicks(this.clicks()+1)}, css: {'is-loading' : loading}\"},\"className\":\"is-medium button is-primary\",\"style\":{}},\"nodeType\":\"DOM\",\"type\":\"node\",\"instanceArgs\":{\"namespace\":\"html\",\"tag\":\"button\"},\"children\":[\"run\"]}]}]},{\"props\":{\"className\":\"interact-widget\"},\"nodeType\":\"DOM\",\"type\":\"node\",\"instanceArgs\":{\"namespace\":\"html\",\"tag\":\"div\"},\"children\":[{\"props\":{},\"nodeType\":\"Scope\",\"type\":\"node\",\"instanceArgs\":{\"imports\":{\"data\":[{\"name\":null,\"type\":\"js\",\"url\":\"\\/assetserver\\/dd22ed1bf1896c2748f3fe616ce0b838adc895c1-katex.min.js\"},{\"name\":null,\"type\":\"css\",\"url\":\"\\/assetserver\\/46517a424aa5e6cffc1360d7e0848b601c584ee3-katex.min.css\"}],\"type\":\"async_block\"},\"id\":\"7824891384096469577\",\"handlers\":{\"value\":[\"(function (txt){return this.k.render(txt,this.container)})\"]},\"systemjs_options\":null,\"mount_callbacks\":[\"function () {\\n    var handler = ((function (k){this.k=k; this.container=this.dom.querySelector(\\\"#container\\\"); return k.render(\\\"\\\\\\\\;\\\\\\\\;\\\",this.container)}));\\n    (WebIO.importBlock({\\\"data\\\":[{\\\"name\\\":null,\\\"type\\\":\\\"js\\\",\\\"url\\\":\\\"\\/assetserver\\/dd22ed1bf1896c2748f3fe616ce0b838adc895c1-katex.min.js\\\"},{\\\"name\\\":null,\\\"type\\\":\\\"css\\\",\\\"url\\\":\\\"\\/assetserver\\/46517a424aa5e6cffc1360d7e0848b601c584ee3-katex.min.css\\\"}],\\\"type\\\":\\\"async_block\\\"})).then((imports) => handler.apply(this, imports));\\n}\\n\"],\"observables\":{\"value\":{\"sync\":false,\"id\":\"134165153981354266\",\"value\":\"\\\\;\\\\;\"}}},\"children\":[{\"props\":{\"id\":\"container\"},\"nodeType\":\"DOM\",\"type\":\"node\",\"instanceArgs\":{\"namespace\":\"html\",\"tag\":\"div\"},\"children\":[]}]}]},{\"props\":{\"className\":\"field interact-widget\"},\"nodeType\":\"DOM\",\"type\":\"node\",\"instanceArgs\":{\"namespace\":\"html\",\"tag\":\"div\"},\"children\":[{\"props\":{},\"nodeType\":\"Scope\",\"type\":\"node\",\"instanceArgs\":{\"imports\":{\"data\":[{\"name\":\"knockout\",\"type\":\"js\",\"url\":\"\\/assetserver\\/727383f2a47bd31570b7da84eee7b022dd6d7c78-knockout.js\"},{\"name\":\"knockout_punches\",\"type\":\"js\",\"url\":\"\\/assetserver\\/382b41b3b1bd9f26f75861d360bad7f8beea211f-knockout_punches.js\"},{\"name\":null,\"type\":\"js\",\"url\":\"\\/assetserver\\/5ab20f1060420992a9b82a65b735dee4d81ef413-all.js\"},{\"name\":null,\"type\":\"css\",\"url\":\"\\/assetserver\\/1cc0ed62837210b80a182cc3676512f895dab686-style.css\"},{\"name\":null,\"type\":\"css\",\"url\":\"\\/assetserver\\/2eee816f616df3549d7044d45e744fbf8d42bfa1-bulma_confined.min.css\"}],\"type\":\"async_block\"},\"id\":\"6174367270758902014\",\"handlers\":{\"loading\":[\"(function (val){return (val!=this.model[\\\"loading\\\"]()) ? (this.valueFromJulia[\\\"loading\\\"]=true, this.model[\\\"loading\\\"](val)) : undefined})\"],\"clicks\":[\"(function (val){return (val!=this.model[\\\"clicks\\\"]()) ? (this.valueFromJulia[\\\"clicks\\\"]=true, this.model[\\\"clicks\\\"](val)) : undefined})\"]},\"systemjs_options\":null,\"mount_callbacks\":[\"function () {\\n    var handler = (function (ko, koPunches) {\\n    ko.punches.enableAll();\\n    ko.bindingHandlers.numericValue = {\\n        init: function(element, valueAccessor, allBindings, data, context) {\\n            var stringified = ko.observable(ko.unwrap(valueAccessor()));\\n            stringified.subscribe(function(value) {\\n                var val = parseFloat(value);\\n                if (!isNaN(val)) {\\n                    valueAccessor()(val);\\n                }\\n            });\\n            valueAccessor().subscribe(function(value) {\\n                var str = JSON.stringify(value);\\n                if ((str == \\\"0\\\") && ([\\\"-0\\\", \\\"-0.\\\"].indexOf(stringified()) >= 0))\\n                     return;\\n                 if ([\\\"null\\\", \\\"\\\"].indexOf(str) >= 0)\\n                     return;\\n                stringified(str);\\n            });\\n            ko.applyBindingsToNode(\\n                element,\\n                {\\n                    value: stringified,\\n                    valueUpdate: allBindings.get('valueUpdate'),\\n                },\\n                context,\\n            );\\n        }\\n    };\\n    var json_data = {\\\"loading\\\":WebIO.getval({\\\"name\\\":\\\"loading\\\",\\\"scope\\\":\\\"6174367270758902014\\\",\\\"id\\\":\\\"2598660680530405981\\\",\\\"type\\\":\\\"observable\\\"}),\\\"clicks\\\":WebIO.getval({\\\"name\\\":\\\"clicks\\\",\\\"scope\\\":\\\"6174367270758902014\\\",\\\"id\\\":\\\"5536273825521827215\\\",\\\"type\\\":\\\"observable\\\"})};\\n    var self = this;\\n    function AppViewModel() {\\n        for (var key in json_data) {\\n            var el = json_data[key];\\n            this[key] = Array.isArray(el) ? ko.observableArray(el) : ko.observable(el);\\n        }\\n        \\n        \\n        [this[\\\"loading\\\"].subscribe((function (val){!(this.valueFromJulia[\\\"loading\\\"]) ? (WebIO.setval({\\\"name\\\":\\\"loading\\\",\\\"scope\\\":\\\"6174367270758902014\\\",\\\"id\\\":\\\"2598660680530405981\\\",\\\"type\\\":\\\"observable\\\"},val)) : undefined; return this.valueFromJulia[\\\"loading\\\"]=false}),self),this[\\\"clicks\\\"].subscribe((function (val){!(this.valueFromJulia[\\\"clicks\\\"]) ? (WebIO.setval({\\\"name\\\":\\\"clicks\\\",\\\"scope\\\":\\\"6174367270758902014\\\",\\\"id\\\":\\\"5536273825521827215\\\",\\\"type\\\":\\\"observable\\\"},val)) : undefined; return this.valueFromJulia[\\\"clicks\\\"]=false}),self)]\\n        \\n    }\\n    self.model = new AppViewModel();\\n    self.valueFromJulia = {};\\n    for (var key in json_data) {\\n        self.valueFromJulia[key] = false;\\n    }\\n    ko.applyBindings(self.model, self.dom);\\n}\\n);\\n    (WebIO.importBlock({\\\"data\\\":[{\\\"name\\\":\\\"knockout\\\",\\\"type\\\":\\\"js\\\",\\\"url\\\":\\\"\\/assetserver\\/727383f2a47bd31570b7da84eee7b022dd6d7c78-knockout.js\\\"},{\\\"name\\\":\\\"knockout_punches\\\",\\\"type\\\":\\\"js\\\",\\\"url\\\":\\\"\\/assetserver\\/382b41b3b1bd9f26f75861d360bad7f8beea211f-knockout_punches.js\\\"}],\\\"type\\\":\\\"async_block\\\"})).then((imports) => handler.apply(this, imports));\\n}\\n\"],\"observables\":{\"loading\":{\"sync\":false,\"id\":\"2598660680530405981\",\"value\":false},\"clicks\":{\"sync\":true,\"id\":\"5536273825521827215\",\"value\":0}}},\"children\":[{\"props\":{\"attributes\":{\"data-bind\":\"click: function (){this.clicks(this.clicks()+1)}, css: {'is-loading' : loading}\"},\"className\":\"is-medium button is-primary\",\"style\":{}},\"nodeType\":\"DOM\",\"type\":\"node\",\"instanceArgs\":{\"namespace\":\"html\",\"tag\":\"button\"},\"children\":[\"stop\"]}]}]},{\"props\":{\"className\":\"interact-widget\"},\"nodeType\":\"DOM\",\"type\":\"node\",\"instanceArgs\":{\"namespace\":\"html\",\"tag\":\"div\"},\"children\":[{\"props\":{},\"nodeType\":\"Scope\",\"type\":\"node\",\"instanceArgs\":{\"imports\":{\"data\":[{\"name\":null,\"type\":\"js\",\"url\":\"\\/assetserver\\/dd22ed1bf1896c2748f3fe616ce0b838adc895c1-katex.min.js\"},{\"name\":null,\"type\":\"css\",\"url\":\"\\/assetserver\\/46517a424aa5e6cffc1360d7e0848b601c584ee3-katex.min.css\"}],\"type\":\"async_block\"},\"id\":\"7824891384096469577\",\"handlers\":{\"value\":[\"(function (txt){return this.k.render(txt,this.container)})\"]},\"systemjs_options\":null,\"mount_callbacks\":[\"function () {\\n    var handler = ((function (k){this.k=k; this.container=this.dom.querySelector(\\\"#container\\\"); return k.render(\\\"\\\\\\\\;\\\\\\\\;\\\",this.container)}));\\n    (WebIO.importBlock({\\\"data\\\":[{\\\"name\\\":null,\\\"type\\\":\\\"js\\\",\\\"url\\\":\\\"\\/assetserver\\/dd22ed1bf1896c2748f3fe616ce0b838adc895c1-katex.min.js\\\"},{\\\"name\\\":null,\\\"type\\\":\\\"css\\\",\\\"url\\\":\\\"\\/assetserver\\/46517a424aa5e6cffc1360d7e0848b601c584ee3-katex.min.css\\\"}],\\\"type\\\":\\\"async_block\\\"})).then((imports) => handler.apply(this, imports));\\n}\\n\"],\"observables\":{\"value\":{\"sync\":false,\"id\":\"134165153981354266\",\"value\":\"\\\\;\\\\;\"}}},\"children\":[{\"props\":{\"id\":\"container\"},\"nodeType\":\"DOM\",\"type\":\"node\",\"instanceArgs\":{\"namespace\":\"html\",\"tag\":\"div\"},\"children\":[]}]}]},{\"props\":{\"className\":\"field interact-widget\"},\"nodeType\":\"DOM\",\"type\":\"node\",\"instanceArgs\":{\"namespace\":\"html\",\"tag\":\"div\"},\"children\":[{\"props\":{},\"nodeType\":\"Scope\",\"type\":\"node\",\"instanceArgs\":{\"imports\":{\"data\":[{\"name\":\"knockout\",\"type\":\"js\",\"url\":\"\\/assetserver\\/727383f2a47bd31570b7da84eee7b022dd6d7c78-knockout.js\"},{\"name\":\"knockout_punches\",\"type\":\"js\",\"url\":\"\\/assetserver\\/382b41b3b1bd9f26f75861d360bad7f8beea211f-knockout_punches.js\"},{\"name\":null,\"type\":\"js\",\"url\":\"\\/assetserver\\/5ab20f1060420992a9b82a65b735dee4d81ef413-all.js\"},{\"name\":null,\"type\":\"css\",\"url\":\"\\/assetserver\\/1cc0ed62837210b80a182cc3676512f895dab686-style.css\"},{\"name\":null,\"type\":\"css\",\"url\":\"\\/assetserver\\/2eee816f616df3549d7044d45e744fbf8d42bfa1-bulma_confined.min.css\"}],\"type\":\"async_block\"},\"id\":\"15769593006429292644\",\"handlers\":{\"loading\":[\"(function (val){return (val!=this.model[\\\"loading\\\"]()) ? (this.valueFromJulia[\\\"loading\\\"]=true, this.model[\\\"loading\\\"](val)) : undefined})\"],\"clicks\":[\"(function (val){return (val!=this.model[\\\"clicks\\\"]()) ? (this.valueFromJulia[\\\"clicks\\\"]=true, this.model[\\\"clicks\\\"](val)) : undefined})\"]},\"systemjs_options\":null,\"mount_callbacks\":[\"function () {\\n    var handler = (function (ko, koPunches) {\\n    ko.punches.enableAll();\\n    ko.bindingHandlers.numericValue = {\\n        init: function(element, valueAccessor, allBindings, data, context) {\\n            var stringified = ko.observable(ko.unwrap(valueAccessor()));\\n            stringified.subscribe(function(value) {\\n                var val = parseFloat(value);\\n                if (!isNaN(val)) {\\n                    valueAccessor()(val);\\n                }\\n            });\\n            valueAccessor().subscribe(function(value) {\\n                var str = JSON.stringify(value);\\n                if ((str == \\\"0\\\") && ([\\\"-0\\\", \\\"-0.\\\"].indexOf(stringified()) >= 0))\\n                     return;\\n                 if ([\\\"null\\\", \\\"\\\"].indexOf(str) >= 0)\\n                     return;\\n                stringified(str);\\n            });\\n            ko.applyBindingsToNode(\\n                element,\\n                {\\n                    value: stringified,\\n                    valueUpdate: allBindings.get('valueUpdate'),\\n                },\\n                context,\\n            );\\n        }\\n    };\\n    var json_data = {\\\"loading\\\":WebIO.getval({\\\"name\\\":\\\"loading\\\",\\\"scope\\\":\\\"15769593006429292644\\\",\\\"id\\\":\\\"7579880518432139538\\\",\\\"type\\\":\\\"observable\\\"}),\\\"clicks\\\":WebIO.getval({\\\"name\\\":\\\"clicks\\\",\\\"scope\\\":\\\"15769593006429292644\\\",\\\"id\\\":\\\"18141973216319452646\\\",\\\"type\\\":\\\"observable\\\"})};\\n    var self = this;\\n    function AppViewModel() {\\n        for (var key in json_data) {\\n            var el = json_data[key];\\n            this[key] = Array.isArray(el) ? ko.observableArray(el) : ko.observable(el);\\n        }\\n        \\n        \\n        [this[\\\"loading\\\"].subscribe((function (val){!(this.valueFromJulia[\\\"loading\\\"]) ? (WebIO.setval({\\\"name\\\":\\\"loading\\\",\\\"scope\\\":\\\"15769593006429292644\\\",\\\"id\\\":\\\"7579880518432139538\\\",\\\"type\\\":\\\"observable\\\"},val)) : undefined; return this.valueFromJulia[\\\"loading\\\"]=false}),self),this[\\\"clicks\\\"].subscribe((function (val){!(this.valueFromJulia[\\\"clicks\\\"]) ? (WebIO.setval({\\\"name\\\":\\\"clicks\\\",\\\"scope\\\":\\\"15769593006429292644\\\",\\\"id\\\":\\\"18141973216319452646\\\",\\\"type\\\":\\\"observable\\\"},val)) : undefined; return this.valueFromJulia[\\\"clicks\\\"]=false}),self)]\\n        \\n    }\\n    self.model = new AppViewModel();\\n    self.valueFromJulia = {};\\n    for (var key in json_data) {\\n        self.valueFromJulia[key] = false;\\n    }\\n    ko.applyBindings(self.model, self.dom);\\n}\\n);\\n    (WebIO.importBlock({\\\"data\\\":[{\\\"name\\\":\\\"knockout\\\",\\\"type\\\":\\\"js\\\",\\\"url\\\":\\\"\\/assetserver\\/727383f2a47bd31570b7da84eee7b022dd6d7c78-knockout.js\\\"},{\\\"name\\\":\\\"knockout_punches\\\",\\\"type\\\":\\\"js\\\",\\\"url\\\":\\\"\\/assetserver\\/382b41b3b1bd9f26f75861d360bad7f8beea211f-knockout_punches.js\\\"}],\\\"type\\\":\\\"async_block\\\"})).then((imports) => handler.apply(this, imports));\\n}\\n\"],\"observables\":{\"loading\":{\"sync\":false,\"id\":\"7579880518432139538\",\"value\":false},\"clicks\":{\"sync\":true,\"id\":\"18141973216319452646\",\"value\":0}}},\"children\":[{\"props\":{\"attributes\":{\"data-bind\":\"click: function (){this.clicks(this.clicks()+1)}, css: {'is-loading' : loading}\"},\"className\":\"is-medium button is-primary\",\"style\":{}},\"nodeType\":\"DOM\",\"type\":\"node\",\"instanceArgs\":{\"namespace\":\"html\",\"tag\":\"button\"},\"children\":[\"reset\"]}]}]},{\"props\":{\"className\":\"interact-widget\"},\"nodeType\":\"DOM\",\"type\":\"node\",\"instanceArgs\":{\"namespace\":\"html\",\"tag\":\"div\"},\"children\":[{\"props\":{},\"nodeType\":\"Scope\",\"type\":\"node\",\"instanceArgs\":{\"imports\":{\"data\":[{\"name\":null,\"type\":\"js\",\"url\":\"\\/assetserver\\/dd22ed1bf1896c2748f3fe616ce0b838adc895c1-katex.min.js\"},{\"name\":null,\"type\":\"css\",\"url\":\"\\/assetserver\\/46517a424aa5e6cffc1360d7e0848b601c584ee3-katex.min.css\"}],\"type\":\"async_block\"},\"id\":\"7824891384096469577\",\"handlers\":{\"value\":[\"(function (txt){return this.k.render(txt,this.container)})\"]},\"systemjs_options\":null,\"mount_callbacks\":[\"function () {\\n    var handler = ((function (k){this.k=k; this.container=this.dom.querySelector(\\\"#container\\\"); return k.render(\\\"\\\\\\\\;\\\\\\\\;\\\",this.container)}));\\n    (WebIO.importBlock({\\\"data\\\":[{\\\"name\\\":null,\\\"type\\\":\\\"js\\\",\\\"url\\\":\\\"\\/assetserver\\/dd22ed1bf1896c2748f3fe616ce0b838adc895c1-katex.min.js\\\"},{\\\"name\\\":null,\\\"type\\\":\\\"css\\\",\\\"url\\\":\\\"\\/assetserver\\/46517a424aa5e6cffc1360d7e0848b601c584ee3-katex.min.css\\\"}],\\\"type\\\":\\\"async_block\\\"})).then((imports) => handler.apply(this, imports));\\n}\\n\"],\"observables\":{\"value\":{\"sync\":false,\"id\":\"134165153981354266\",\"value\":\"\\\\;\\\\;\"}}},\"children\":[{\"props\":{\"id\":\"container\"},\"nodeType\":\"DOM\",\"type\":\"node\",\"instanceArgs\":{\"namespace\":\"html\",\"tag\":\"div\"},\"children\":[]}]}]},{\"props\":{\"className\":\"field interact-widget\"},\"nodeType\":\"DOM\",\"type\":\"node\",\"instanceArgs\":{\"namespace\":\"html\",\"tag\":\"div\"},\"children\":[{\"props\":{},\"nodeType\":\"Scope\",\"type\":\"node\",\"instanceArgs\":{\"imports\":{\"data\":[{\"name\":\"knockout\",\"type\":\"js\",\"url\":\"\\/assetserver\\/727383f2a47bd31570b7da84eee7b022dd6d7c78-knockout.js\"},{\"name\":\"knockout_punches\",\"type\":\"js\",\"url\":\"\\/assetserver\\/382b41b3b1bd9f26f75861d360bad7f8beea211f-knockout_punches.js\"},{\"name\":null,\"type\":\"js\",\"url\":\"\\/assetserver\\/5ab20f1060420992a9b82a65b735dee4d81ef413-all.js\"},{\"name\":null,\"type\":\"css\",\"url\":\"\\/assetserver\\/1cc0ed62837210b80a182cc3676512f895dab686-style.css\"},{\"name\":null,\"type\":\"css\",\"url\":\"\\/assetserver\\/2eee816f616df3549d7044d45e744fbf8d42bfa1-bulma_confined.min.css\"}],\"type\":\"async_block\"},\"id\":\"6245101254693358460\",\"handlers\":{\"loading\":[\"(function (val){return (val!=this.model[\\\"loading\\\"]()) ? (this.valueFromJulia[\\\"loading\\\"]=true, this.model[\\\"loading\\\"](val)) : undefined})\"],\"clicks\":[\"(function (val){return (val!=this.model[\\\"clicks\\\"]()) ? (this.valueFromJulia[\\\"clicks\\\"]=true, this.model[\\\"clicks\\\"](val)) : undefined})\"]},\"systemjs_options\":null,\"mount_callbacks\":[\"function () {\\n    var handler = (function (ko, koPunches) {\\n    ko.punches.enableAll();\\n    ko.bindingHandlers.numericValue = {\\n        init: function(element, valueAccessor, allBindings, data, context) {\\n            var stringified = ko.observable(ko.unwrap(valueAccessor()));\\n            stringified.subscribe(function(value) {\\n                var val = parseFloat(value);\\n                if (!isNaN(val)) {\\n                    valueAccessor()(val);\\n                }\\n            });\\n            valueAccessor().subscribe(function(value) {\\n                var str = JSON.stringify(value);\\n                if ((str == \\\"0\\\") && ([\\\"-0\\\", \\\"-0.\\\"].indexOf(stringified()) >= 0))\\n                     return;\\n                 if ([\\\"null\\\", \\\"\\\"].indexOf(str) >= 0)\\n                     return;\\n                stringified(str);\\n            });\\n            ko.applyBindingsToNode(\\n                element,\\n                {\\n                    value: stringified,\\n                    valueUpdate: allBindings.get('valueUpdate'),\\n                },\\n                context,\\n            );\\n        }\\n    };\\n    var json_data = {\\\"loading\\\":WebIO.getval({\\\"name\\\":\\\"loading\\\",\\\"scope\\\":\\\"6245101254693358460\\\",\\\"id\\\":\\\"12674125620531386269\\\",\\\"type\\\":\\\"observable\\\"}),\\\"clicks\\\":WebIO.getval({\\\"name\\\":\\\"clicks\\\",\\\"scope\\\":\\\"6245101254693358460\\\",\\\"id\\\":\\\"3759746710355592592\\\",\\\"type\\\":\\\"observable\\\"})};\\n    var self = this;\\n    function AppViewModel() {\\n        for (var key in json_data) {\\n            var el = json_data[key];\\n            this[key] = Array.isArray(el) ? ko.observableArray(el) : ko.observable(el);\\n        }\\n        \\n        \\n        [this[\\\"loading\\\"].subscribe((function (val){!(this.valueFromJulia[\\\"loading\\\"]) ? (WebIO.setval({\\\"name\\\":\\\"loading\\\",\\\"scope\\\":\\\"6245101254693358460\\\",\\\"id\\\":\\\"12674125620531386269\\\",\\\"type\\\":\\\"observable\\\"},val)) : undefined; return this.valueFromJulia[\\\"loading\\\"]=false}),self),this[\\\"clicks\\\"].subscribe((function (val){!(this.valueFromJulia[\\\"clicks\\\"]) ? (WebIO.setval({\\\"name\\\":\\\"clicks\\\",\\\"scope\\\":\\\"6245101254693358460\\\",\\\"id\\\":\\\"3759746710355592592\\\",\\\"type\\\":\\\"observable\\\"},val)) : undefined; return this.valueFromJulia[\\\"clicks\\\"]=false}),self)]\\n        \\n    }\\n    self.model = new AppViewModel();\\n    self.valueFromJulia = {};\\n    for (var key in json_data) {\\n        self.valueFromJulia[key] = false;\\n    }\\n    ko.applyBindings(self.model, self.dom);\\n}\\n);\\n    (WebIO.importBlock({\\\"data\\\":[{\\\"name\\\":\\\"knockout\\\",\\\"type\\\":\\\"js\\\",\\\"url\\\":\\\"\\/assetserver\\/727383f2a47bd31570b7da84eee7b022dd6d7c78-knockout.js\\\"},{\\\"name\\\":\\\"knockout_punches\\\",\\\"type\\\":\\\"js\\\",\\\"url\\\":\\\"\\/assetserver\\/382b41b3b1bd9f26f75861d360bad7f8beea211f-knockout_punches.js\\\"}],\\\"type\\\":\\\"async_block\\\"})).then((imports) => handler.apply(this, imports));\\n}\\n\"],\"observables\":{\"loading\":{\"sync\":false,\"id\":\"12674125620531386269\",\"value\":false},\"clicks\":{\"sync\":true,\"id\":\"3759746710355592592\",\"value\":0}}},\"children\":[{\"props\":{\"attributes\":{\"data-bind\":\"click: function (){this.clicks(this.clicks()+1)}, css: {'is-loading' : loading}\"},\"className\":\"is-medium button is-primary\",\"style\":{}},\"nodeType\":\"DOM\",\"type\":\"node\",\"instanceArgs\":{\"namespace\":\"html\",\"tag\":\"button\"},\"children\":[\"save\"]}]}]}]}]},{\"props\":{\"className\":\"interact-widget\"},\"nodeType\":\"DOM\",\"type\":\"node\",\"instanceArgs\":{\"namespace\":\"html\",\"tag\":\"div\"},\"children\":[{\"props\":{},\"nodeType\":\"Scope\",\"type\":\"node\",\"instanceArgs\":{\"imports\":{\"data\":[{\"name\":null,\"type\":\"js\",\"url\":\"\\/assetserver\\/dd22ed1bf1896c2748f3fe616ce0b838adc895c1-katex.min.js\"},{\"name\":null,\"type\":\"css\",\"url\":\"\\/assetserver\\/46517a424aa5e6cffc1360d7e0848b601c584ee3-katex.min.css\"}],\"type\":\"async_block\"},\"id\":\"7824891384096469577\",\"handlers\":{\"value\":[\"(function (txt){return this.k.render(txt,this.container)})\"]},\"systemjs_options\":null,\"mount_callbacks\":[\"function () {\\n    var handler = ((function (k){this.k=k; this.container=this.dom.querySelector(\\\"#container\\\"); return k.render(\\\"\\\\\\\\;\\\\\\\\;\\\",this.container)}));\\n    (WebIO.importBlock({\\\"data\\\":[{\\\"name\\\":null,\\\"type\\\":\\\"js\\\",\\\"url\\\":\\\"\\/assetserver\\/dd22ed1bf1896c2748f3fe616ce0b838adc895c1-katex.min.js\\\"},{\\\"name\\\":null,\\\"type\\\":\\\"css\\\",\\\"url\\\":\\\"\\/assetserver\\/46517a424aa5e6cffc1360d7e0848b601c584ee3-katex.min.css\\\"}],\\\"type\\\":\\\"async_block\\\"})).then((imports) => handler.apply(this, imports));\\n}\\n\"],\"observables\":{\"value\":{\"sync\":false,\"id\":\"134165153981354266\",\"value\":\"\\\\;\\\\;\"}}},\"children\":[{\"props\":{\"id\":\"container\"},\"nodeType\":\"DOM\",\"type\":\"node\",\"instanceArgs\":{\"namespace\":\"html\",\"tag\":\"div\"},\"children\":[]}]}]},{\"props\":{},\"nodeType\":\"Scope\",\"type\":\"node\",\"instanceArgs\":{\"imports\":{\"data\":[],\"type\":\"async_block\"},\"id\":\"13745747028338537009\",\"handlers\":{\"obs-output\":[\"function (value, scope) {\\n    scope.setInnerHTML(value);\\n}\\n\"]},\"systemjs_options\":null,\"mount_callbacks\":[],\"observables\":{\"obs-output\":{\"sync\":false,\"id\":\"14629487464657004846\",\"value\":\"<img src='data:image\\/png;base64,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'><\\/img>\"}}},\"children\":[{\"props\":{\"className\":\"webio-observable\",\"setInnerHtml\":\"<img src='data:image\\/png;base64,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'><\\/img>\"},\"nodeType\":\"DOM\",\"type\":\"node\",\"instanceArgs\":{\"namespace\":\"html\",\"tag\":\"div\"},\"children\":[]}]},{\"props\":{\"className\":\"interact-widget\"},\"nodeType\":\"DOM\",\"type\":\"node\",\"instanceArgs\":{\"namespace\":\"html\",\"tag\":\"div\"},\"children\":[{\"props\":{},\"nodeType\":\"Scope\",\"type\":\"node\",\"instanceArgs\":{\"imports\":{\"data\":[{\"name\":null,\"type\":\"js\",\"url\":\"\\/assetserver\\/dd22ed1bf1896c2748f3fe616ce0b838adc895c1-katex.min.js\"},{\"name\":null,\"type\":\"css\",\"url\":\"\\/assetserver\\/46517a424aa5e6cffc1360d7e0848b601c584ee3-katex.min.css\"}],\"type\":\"async_block\"},\"id\":\"7824891384096469577\",\"handlers\":{\"value\":[\"(function (txt){return this.k.render(txt,this.container)})\"]},\"systemjs_options\":null,\"mount_callbacks\":[\"function () {\\n    var handler = ((function (k){this.k=k; this.container=this.dom.querySelector(\\\"#container\\\"); return k.render(\\\"\\\\\\\\;\\\\\\\\;\\\",this.container)}));\\n    (WebIO.importBlock({\\\"data\\\":[{\\\"name\\\":null,\\\"type\\\":\\\"js\\\",\\\"url\\\":\\\"\\/assetserver\\/dd22ed1bf1896c2748f3fe616ce0b838adc895c1-katex.min.js\\\"},{\\\"name\\\":null,\\\"type\\\":\\\"css\\\",\\\"url\\\":\\\"\\/assetserver\\/46517a424aa5e6cffc1360d7e0848b601c584ee3-katex.min.css\\\"}],\\\"type\\\":\\\"async_block\\\"})).then((imports) => handler.apply(this, imports));\\n}\\n\"],\"observables\":{\"value\":{\"sync\":false,\"id\":\"134165153981354266\",\"value\":\"\\\\;\\\\;\"}}},\"children\":[{\"props\":{\"id\":\"container\"},\"nodeType\":\"DOM\",\"type\":\"node\",\"instanceArgs\":{\"namespace\":\"html\",\"tag\":\"div\"},\"children\":[]}]}]},{\"props\":{\"style\":{\"display\":\"flex\",\"flex-direction\":\"column\"}},\"nodeType\":\"DOM\",\"type\":\"node\",\"instanceArgs\":{\"namespace\":\"html\",\"tag\":\"div\"},\"children\":[]}]}]},\n",
       "        window,\n",
       "    );\n",
       "    })()\n",
       "    </script>\n",
       "</div>\n"
      ],
      "text/plain": [
       "WebIO.Node{WebIO.DOM}(WebIO.DOM(:html, :div), Any[WebIO.Node{WebIO.DOM}(WebIO.DOM(:html, :div), Any[WebIO.Node{WebIO.DOM}(WebIO.DOM(:html, :div), Any[WebIO.Node{WebIO.DOM}(WebIO.DOM(:html, :div), Any[WebIO.Scope(WebIO.Node{WebIO.DOM}(WebIO.DOM(:html, :div), Any[WebIO.Node{WebIO.DOM}(WebIO.DOM(:html, :div), Any[WebIO.Node{WebIO.DOM}(WebIO.DOM(:html, :label), Any[\"time\"], Dict{Symbol, Any}(:className => \"interact \", :style => Dict{Any, Any}(:padding => \"5px 10px 0px 10px\")))], Dict{Symbol, Any}(:className => \"interact-flex-row-left\")), WebIO.Node{WebIO.DOM}(WebIO.DOM(:html, :div), Any[WebIO.Node{WebIO.DOM}(WebIO.DOM(:html, :input), Any[], Dict{Symbol, Any}(:max => 500, :min => 1, :attributes => Dict{Any, Any}(:type => \"range\", Symbol(\"data-bind\") => \"numericValue: index, valueUpdate: 'input', event: {change: function (){this.changes(this.changes()+1)}}\", \"orient\" => \"horizontal\"), :step => 1, :className => \"slider slider is-fullwidth\", :style => Dict{Any, Any}()))], Dict{Symbol, Any}(:className => \"interact-flex-row-center\")), WebIO.Node{WebIO.DOM}(WebIO.DOM(:html, :div), Any[WebIO.Node{WebIO.DOM}(WebIO.DOM(:html, :p), Any[], Dict{Symbol, Any}(:attributes => Dict(\"data-bind\" => \"text: formatted_val\")))], Dict{Symbol, Any}(:className => \"interact-flex-row-right\"))], Dict{Symbol, Any}(:className => \"interact-flex-row interact-widget\")), Dict{String, Tuple{Observables.AbstractObservable, Union{Nothing, Bool}}}(\"changes\" => (Observable(0), nothing), \"index\" => (Observable(1), nothing)), Set{String}(), nothing, WebIO.Asset[WebIO.Asset(\"js\", \"knockout\", \"/home/dushya/.julia/packages/Knockout/HReiN/src/../assets/knockout.js\"), WebIO.Asset(\"js\", \"knockout_punches\", \"/home/dushya/.julia/packages/Knockout/HReiN/src/../assets/knockout_punches.js\"), WebIO.Asset(\"js\", nothing, \"/home/dushya/.julia/packages/InteractBase/LJXv3/src/../assets/all.js\"), WebIO.Asset(\"css\", nothing, \"/home/dushya/.julia/packages/InteractBase/LJXv3/src/../assets/style.css\"), WebIO.Asset(\"css\", nothing, \"/home/dushya/.julia/packages/Interact/PENUy/src/../assets/bulma_confined.min.css\")], Dict{Any, Any}(\"changes\" => Any[WebIO.JSString(\"(function (val){return (val!=this.model[\\\"changes\\\"]()) ? (this.valueFromJulia[\\\"changes\\\"]=true, this.model[\\\"changes\\\"](val)) : undefined})\")], \"index\" => Any[WebIO.JSString(\"(function (val){return (val!=this.model[\\\"index\\\"]()) ? (this.valueFromJulia[\\\"index\\\"]=true, this.model[\\\"index\\\"](val)) : undefined})\")]), WebIO.ConnectionPool(Channel{Any}(32), Set{WebIO.AbstractConnection}(), Base.GenericCondition{ReentrantLock}(Base.IntrusiveLinkedList{Task}(Task (runnable) @0x00007f00fc2b36c0, Task (runnable) @0x00007f00fc2b36c0), ReentrantLock(nothing, 0x00000000, 0x00, Base.GenericCondition{Base.Threads.SpinLock}(Base.IntrusiveLinkedList{Task}(nothing, nothing), Base.Threads.SpinLock(0)), (0, 0, 139779710648320)))), WebIO.JSString[WebIO.JSString(\"function () {\\n    var handler = (function (ko, koPunches) {\\n    ko.punches.enableAll();\\n    ko.bindingHandlers.numericValue = {\\n        init: function(element, valueAccessor, allBindings, data, context) {\\n            var stringified = ko.observable(ko.unwrap(valueAccessor()));\\n            stringified.subscribe(function(value) {\\n                var val = parseFloat(value);\\n                if (!isNaN(val)) {\\n                    valueAccessor()(val);\\n                }\\n            });\\n            valueAccessor().subscribe(function(value) {\\n                var str = JSON.stringify(value);\\n                if ((str == \\\"0\\\") && ([\\\"-0\\\", \\\"-0.\\\"].indexOf(stringified()) >= 0))\\n                     return;\\n                 if ([\\\"null\\\", \\\"\\\"].indexOf(str) >= 0)\\n                     return;\\n                stringified(str);\\n            });\\n            ko.applyBindingsToNode(\\n                element,\\n                {\\n                    value: stringified,\\n                    valueUpdate: allBindings.get('valueUpdate'),\\n                },\\n                context,\\n            );\\n        }\\n    };\\n    var json_data = {\\\"formatted_vals\\\":[\\\"1\\\",\\\"2\\\",\\\"3\\\",\\\"4\\\",\\\"5\\\",\\\"6\\\",\\\"7\\\",\\\"8\\\",\\\"9\\\",\\\"10\\\",\\\"11\\\",\\\"12\\\",\\\"13\\\",\\\"14\\\",\\\"15\\\",\\\"16\\\",\\\"17\\\",\\\"18\\\",\\\"19\\\",\\\"20\\\",\\\"21\\\",\\\"22\\\",\\\"23\\\",\\\"24\\\",\\\"25\\\",\\\"26\\\",\\\"27\\\",\\\"28\\\",\\\"29\\\",\\\"30\\\",\\\"31\\\",\\\"32\\\",\\\"33\\\",\\\"34\\\",\\\"35\\\",\\\"36\\\",\\\"37\\\",\\\"38\\\",\\\"39\\\",\\\"40\\\",\\\"41\\\",\\\"42\\\",\\\"43\\\",\\\"44\\\",\\\"45\\\",\\\"46\\\",\\\"47\\\",\\\"48\\\",\\\"49\\\",\\\"50\\\",\\\"51\\\",\\\"52\\\",\\\"53\\\",\\\"54\\\",\\\"55\\\",\\\"56\\\",\\\"57\\\",\\\"58\\\",\\\"59\\\",\\\"60\\\",\\\"61\\\",\\\"62\\\",\\\"63\\\",\\\"64\\\",\\\"65\\\",\\\"66\\\",\\\"67\\\",\\\"68\\\",\\\"69\\\",\\\"70\\\",\\\"71\\\",\\\"72\\\",\\\"73\\\",\\\"74\\\",\\\"75\\\",\\\"76\\\",\\\"77\\\",\\\"78\\\",\\\"79\\\",\\\"80\\\",\\\"81\\\",\\\"82\\\",\\\"83\\\",\\\"84\\\",\\\"85\\\",\\\"86\\\",\\\"87\\\",\\\"88\\\",\\\"89\\\",\\\"90\\\",\\\"91\\\",\\\"92\\\",\\\"93\\\",\\\"94\\\",\\\"95\\\",\\\"96\\\",\\\"97\\\",\\\"98\\\",\\\"99\\\",\\\"100\\\",\\\"101\\\",\\\"102\\\",\\\"103\\\",\\\"104\\\",\\\"105\\\",\\\"106\\\",\\\"107\\\",\\\"108\\\",\\\"109\\\",\\\"110\\\",\\\"111\\\",\\\"112\\\",\\\"113\\\",\\\"114\\\",\\\"115\\\",\\\"116\\\",\\\"117\\\",\\\"118\\\",\\\"119\\\",\\\"120\\\",\\\"121\\\",\\\"122\\\",\\\"123\\\",\\\"124\\\",\\\"125\\\",\\\"126\\\",\\\"127\\\",\\\"128\\\",\\\"129\\\",\\\"130\\\",\\\"131\\\",\\\"132\\\",\\\"133\\\",\\\"134\\\",\\\"135\\\",\\\"136\\\",\\\"137\\\",\\\"138\\\",\\\"139\\\",\\\"140\\\",\\\"141\\\",\\\"142\\\",\\\"143\\\",\\\"144\\\",\\\"145\\\",\\\"146\\\",\\\"147\\\",\\\"148\\\",\\\"149\\\",\\\"150\\\",\\\"151\\\",\\\"152\\\",\\\"153\\\",\\\"154\\\",\\\"155\\\",\\\"156\\\",\\\"157\\\",\\\"158\\\",\\\"159\\\",\\\"160\\\",\\\"161\\\",\\\"162\\\",\\\"163\\\",\\\"164\\\",\\\"165\\\",\\\"166\\\",\\\"167\\\",\\\"168\\\",\\\"169\\\",\\\"170\\\",\\\"171\\\",\\\"172\\\",\\\"173\\\",\\\"174\\\",\\\"175\\\",\\\"176\\\",\\\"177\\\",\\\"178\\\",\\\"179\\\",\\\"180\\\",\\\"181\\\",\\\"182\\\",\\\"183\\\",\\\"184\\\",\\\"185\\\",\\\"186\\\",\\\"187\\\",\\\"188\\\",\\\"189\\\",\\\"190\\\",\\\"191\\\",\\\"192\\\",\\\"193\\\",\\\"194\\\",\\\"195\\\",\\\"196\\\",\\\"197\\\",\\\"198\\\",\\\"199\\\",\\\"200\\\",\\\"201\\\",\\\"202\\\",\\\"203\\\",\\\"204\\\",\\\"205\\\",\\\"206\\\",\\\"207\\\",\\\"208\\\",\\\"209\\\",\\\"210\\\",\\\"211\\\",\\\"212\\\",\\\"213\\\",\\\"214\\\",\\\"215\\\",\\\"216\\\",\\\"217\\\",\\\"218\\\",\\\"219\\\",\\\"220\\\",\\\"221\\\",\\\"222\\\",\\\"223\\\",\\\"224\\\",\\\"225\\\",\\\"226\\\",\\\"227\\\",\\\"228\\\",\\\"229\\\",\\\"230\\\",\\\"231\\\",\\\"232\\\",\\\"233\\\",\\\"234\\\",\\\"235\\\",\\\"236\\\",\\\"237\\\",\\\"238\\\",\\\"239\\\",\\\"240\\\",\\\"241\\\",\\\"242\\\",\\\"243\\\",\\\"244\\\",\\\"245\\\",\\\"246\\\",\\\"247\\\",\\\"248\\\",\\\"249\\\",\\\"250\\\",\\\"251\\\",\\\"252\\\",\\\"253\\\",\\\"254\\\",\\\"255\\\",\\\"256\\\",\\\"257\\\",\\\"258\\\",\\\"259\\\",\\\"260\\\",\\\"261\\\",\\\"262\\\",\\\"263\\\",\\\"264\\\",\\\"265\\\",\\\"266\\\",\\\"267\\\",\\\"268\\\",\\\"269\\\",\\\"270\\\",\\\"271\\\",\\\"272\\\",\\\"273\\\",\\\"274\\\",\\\"275\\\",\\\"276\\\",\\\"277\\\",\\\"278\\\",\\\"279\\\",\\\"280\\\",\\\"281\\\",\\\"282\\\",\\\"283\\\",\\\"284\\\",\\\"285\\\",\\\"286\\\",\\\"287\\\",\\\"288\\\",\\\"289\\\",\\\"290\\\",\\\"291\\\",\\\"292\\\",\\\"293\\\",\\\"294\\\",\\\"295\\\",\\\"296\\\",\\\"297\\\",\\\"298\\\",\\\"299\\\",\\\"300\\\",\\\"301\\\",\\\"302\\\",\\\"303\\\",\\\"304\\\",\\\"305\\\",\\\"306\\\",\\\"307\\\",\\\"308\\\",\\\"309\\\",\\\"310\\\",\\\"311\\\",\\\"312\\\",\\\"313\\\",\\\"314\\\",\\\"315\\\",\\\"316\\\",\\\"317\\\",\\\"318\\\",\\\"319\\\",\\\"320\\\",\\\"321\\\",\\\"322\\\",\\\"323\\\",\\\"324\\\",\\\"325\\\",\\\"326\\\",\\\"327\\\",\\\"328\\\",\\\"329\\\",\\\"330\\\",\\\"331\\\",\\\"332\\\",\\\"333\\\",\\\"334\\\",\\\"335\\\",\\\"336\\\",\\\"337\\\",\\\"338\\\",\\\"339\\\",\\\"340\\\",\\\"341\\\",\\\"342\\\",\\\"343\\\",\\\"344\\\",\\\"345\\\",\\\"346\\\",\\\"347\\\",\\\"348\\\",\\\"349\\\",\\\"350\\\",\\\"351\\\",\\\"352\\\",\\\"353\\\",\\\"354\\\",\\\"355\\\",\\\"356\\\",\\\"357\\\",\\\"358\\\",\\\"359\\\",\\\"360\\\",\\\"361\\\",\\\"362\\\",\\\"363\\\",\\\"364\\\",\\\"365\\\",\\\"366\\\",\\\"367\\\",\\\"368\\\",\\\"369\\\",\\\"370\\\",\\\"371\\\",\\\"372\\\",\\\"373\\\",\\\"374\\\",\\\"375\\\",\\\"376\\\",\\\"377\\\",\\\"378\\\",\\\"379\\\",\\\"380\\\",\\\"381\\\",\\\"382\\\",\\\"383\\\",\\\"384\\\",\\\"385\\\",\\\"386\\\",\\\"387\\\",\\\"388\\\",\\\"389\\\",\\\"390\\\",\\\"391\\\",\\\"392\\\",\\\"393\\\",\\\"394\\\",\\\"395\\\",\\\"396\\\",\\\"397\\\",\\\"398\\\",\\\"399\\\",\\\"400\\\",\\\"401\\\",\\\"402\\\",\\\"403\\\",\\\"404\\\",\\\"405\\\",\\\"406\\\",\\\"407\\\",\\\"408\\\",\\\"409\\\",\\\"410\\\",\\\"411\\\",\\\"412\\\",\\\"413\\\",\\\"414\\\",\\\"415\\\",\\\"416\\\",\\\"417\\\",\\\"418\\\",\\\"419\\\",\\\"420\\\",\\\"421\\\",\\\"422\\\",\\\"423\\\",\\\"424\\\",\\\"425\\\",\\\"426\\\",\\\"427\\\",\\\"428\\\",\\\"429\\\",\\\"430\\\",\\\"431\\\",\\\"432\\\",\\\"433\\\",\\\"434\\\",\\\"435\\\",\\\"436\\\",\\\"437\\\",\\\"438\\\",\\\"439\\\",\\\"440\\\",\\\"441\\\",\\\"442\\\",\\\"443\\\",\\\"444\\\",\\\"445\\\",\\\"446\\\",\\\"447\\\",\\\"448\\\",\\\"449\\\",\\\"450\\\",\\\"451\\\",\\\"452\\\",\\\"453\\\",\\\"454\\\",\\\"455\\\",\\\"456\\\",\\\"457\\\",\\\"458\\\",\\\"459\\\",\\\"460\\\",\\\"461\\\",\\\"462\\\",\\\"463\\\",\\\"464\\\",\\\"465\\\",\\\"466\\\",\\\"467\\\",\\\"468\\\",\\\"469\\\",\\\"470\\\",\\\"471\\\",\\\"472\\\",\\\"473\\\",\\\"474\\\",\\\"475\\\",\\\"476\\\",\\\"477\\\",\\\"478\\\",\\\"479\\\",\\\"480\\\",\\\"481\\\",\\\"482\\\",\\\"483\\\",\\\"484\\\",\\\"485\\\",\\\"486\\\",\\\"487\\\",\\\"488\\\",\\\"489\\\",\\\"490\\\",\\\"491\\\",\\\"492\\\",\\\"493\\\",\\\"494\\\",\\\"495\\\",\\\"496\\\",\\\"497\\\",\\\"498\\\",\\\"499\\\",\\\"500\\\"],\\\"changes\\\":WebIO.getval({\\\"name\\\":\\\"changes\\\",\\\"scope\\\":\\\"13677928500486183246\\\",\\\"id\\\":\\\"3960987830452816463\\\",\\\"type\\\":\\\"observable\\\"}),\\\"index\\\":WebIO.getval({\\\"name\\\":\\\"index\\\",\\\"scope\\\":\\\"13677928500486183246\\\",\\\"id\\\":\\\"4546979663067268774\\\",\\\"type\\\":\\\"observable\\\"})};\\n    var self = this;\\n    function AppViewModel() {\\n        for (var key in json_data) {\\n            var el = json_data[key];\\n            this[key] = Array.isArray(el) ? ko.observableArray(el) : ko.observable(el);\\n        }\\n        \\n        [this[\\\"formatted_val\\\"]=ko.computed(    function(){\\n        return this.formatted_vals()[parseInt(this.index())-(1)];\\n    }\\n,this)]\\n        [this[\\\"changes\\\"].subscribe((function (val){!(this.valueFromJulia[\\\"changes\\\"]) ? (WebIO.setval({\\\"name\\\":\\\"changes\\\",\\\"scope\\\":\\\"13677928500486183246\\\",\\\"id\\\":\\\"3960987830452816463\\\",\\\"type\\\":\\\"observable\\\"},val)) : undefined; return this.valueFromJulia[\\\"changes\\\"]=false}),self),this[\\\"index\\\"].subscribe((function (val){!(this.valueFromJulia[\\\"index\\\"]) ? (WebIO.setval({\\\"name\\\":\\\"index\\\",\\\"scope\\\":\\\"13677928500486183246\\\",\\\"id\\\":\\\"4546979663067268774\\\",\\\"type\\\":\\\"observable\\\"},val)) : undefined; return this.valueFromJulia[\\\"index\\\"]=false}),self)]\\n        \\n    }\\n    self.model = new AppViewModel();\\n    self.valueFromJulia = {};\\n    for (var key in json_data) {\\n        self.valueFromJulia[key] = false;\\n    }\\n    ko.applyBindings(self.model, self.dom);\\n}\\n);\\n    (WebIO.importBlock({\\\"data\\\":[{\\\"name\\\":\\\"knockout\\\",\\\"type\\\":\\\"js\\\",\\\"url\\\":\\\"/assetserver/727383f2a47bd31570b7da84eee7b022dd6d7c78-knockout.js\\\"},{\\\"name\\\":\\\"knockout_punches\\\",\\\"type\\\":\\\"js\\\",\\\"url\\\":\\\"/assetserver/382b41b3b1bd9f26f75861d360bad7f8beea211f-knockout_punches.js\\\"}],\\\"type\\\":\\\"async_block\\\"})).then((imports) => handler.apply(this, imports));\\n}\\n\")])], Dict{Symbol, Any}(:className => \"field interact-widget\")), WebIO.Node{WebIO.DOM}(WebIO.DOM(:html, :div), Any[WebIO.Scope(WebIO.Node{WebIO.DOM}(WebIO.DOM(:html, :div), Any[WebIO.Node{WebIO.DOM}(WebIO.DOM(:html, :div), Any[WebIO.Node{WebIO.DOM}(WebIO.DOM(:html, :label), Any[\"scale\"], Dict{Symbol, Any}(:className => \"interact \", :style => Dict{Any, Any}(:padding => \"5px 10px 0px 10px\")))], Dict{Symbol, Any}(:className => \"interact-flex-row-left\")), WebIO.Node{WebIO.DOM}(WebIO.DOM(:html, :div), Any[WebIO.Node{WebIO.DOM}(WebIO.DOM(:html, :input), Any[], Dict{Symbol, Any}(:max => 20, :min => 1, :attributes => Dict{Any, Any}(:type => \"range\", Symbol(\"data-bind\") => \"numericValue: index, valueUpdate: 'input', event: {change: function (){this.changes(this.changes()+1)}}\", \"orient\" => \"horizontal\"), :step => 1, :className => \"slider slider is-fullwidth\", :style => Dict{Any, Any}()))], Dict{Symbol, Any}(:className => \"interact-flex-row-center\")), WebIO.Node{WebIO.DOM}(WebIO.DOM(:html, :div), Any[WebIO.Node{WebIO.DOM}(WebIO.DOM(:html, :p), Any[], Dict{Symbol, Any}(:attributes => Dict(\"data-bind\" => \"text: formatted_val\")))], Dict{Symbol, Any}(:className => \"interact-flex-row-right\"))], Dict{Symbol, Any}(:className => \"interact-flex-row interact-widget\")), Dict{String, Tuple{Observables.AbstractObservable, Union{Nothing, Bool}}}(\"changes\" => (Observable(0), nothing), \"index\" => (Observable{Any}(10), nothing)), Set{String}(), nothing, WebIO.Asset[WebIO.Asset(\"js\", \"knockout\", \"/home/dushya/.julia/packages/Knockout/HReiN/src/../assets/knockout.js\"), WebIO.Asset(\"js\", \"knockout_punches\", \"/home/dushya/.julia/packages/Knockout/HReiN/src/../assets/knockout_punches.js\"), WebIO.Asset(\"js\", nothing, \"/home/dushya/.julia/packages/InteractBase/LJXv3/src/../assets/all.js\"), WebIO.Asset(\"css\", nothing, \"/home/dushya/.julia/packages/InteractBase/LJXv3/src/../assets/style.css\"), WebIO.Asset(\"css\", nothing, \"/home/dushya/.julia/packages/Interact/PENUy/src/../assets/bulma_confined.min.css\")], Dict{Any, Any}(\"changes\" => Any[WebIO.JSString(\"(function (val){return (val!=this.model[\\\"changes\\\"]()) ? (this.valueFromJulia[\\\"changes\\\"]=true, this.model[\\\"changes\\\"](val)) : undefined})\")], \"index\" => Any[WebIO.JSString(\"(function (val){return (val!=this.model[\\\"index\\\"]()) ? (this.valueFromJulia[\\\"index\\\"]=true, this.model[\\\"index\\\"](val)) : undefined})\")]), WebIO.ConnectionPool(Channel{Any}(32), Set{WebIO.AbstractConnection}(), Base.GenericCondition{ReentrantLock}(Base.IntrusiveLinkedList{Task}(Task (runnable) @0x00007f00fc2c5f50, Task (runnable) @0x00007f00fc2c5f50), ReentrantLock(nothing, 0x00000000, 0x00, Base.GenericCondition{Base.Threads.SpinLock}(Base.IntrusiveLinkedList{Task}(nothing, nothing), Base.Threads.SpinLock(0)), (8, 0, 139779710648320)))), WebIO.JSString[WebIO.JSString(\"function () {\\n    var handler = (function (ko, koPunches) {\\n    ko.punches.enableAll();\\n    ko.bindingHandlers.numericValue = {\\n        init: function(element, valueAccessor, allBindings, data, context) {\\n            var stringified = ko.observable(ko.unwrap(valueAccessor()));\\n            stringified.subscribe(function(value) {\\n                var val = parseFloat(value);\\n                if (!isNaN(val)) {\\n                    valueAccessor()(val);\\n                }\\n            });\\n            valueAccessor().subscribe(function(value) {\\n                var str = JSON.stringify(value);\\n                if ((str == \\\"0\\\") && ([\\\"-0\\\", \\\"-0.\\\"].indexOf(stringified()) >= 0))\\n                     return;\\n                 if ([\\\"null\\\", \\\"\\\"].indexOf(str) >= 0)\\n                     return;\\n                stringified(str);\\n            });\\n            ko.applyBindingsToNode(\\n                element,\\n                {\\n                    value: stringified,\\n                    valueUpdate: allBindings.get('valueUpdate'),\\n                },\\n                context,\\n            );\\n        }\\n    };\\n    var json_data = {\\\"formatted_vals\\\":[\\\"0.1\\\",\\\"0.2\\\",\\\"0.3\\\",\\\"0.4\\\",\\\"0.5\\\",\\\"0.6\\\",\\\"0.7\\\",\\\"0.8\\\",\\\"0.9\\\",\\\"1.0\\\",\\\"1.1\\\",\\\"1.2\\\",\\\"1.3\\\",\\\"1.4\\\",\\\"1.5\\\",\\\"1.6\\\",\\\"1.7\\\",\\\"1.8\\\",\\\"1.9\\\",\\\"2.0\\\"],\\\"changes\\\":WebIO.getval({\\\"name\\\":\\\"changes\\\",\\\"scope\\\":\\\"9625706558678385645\\\",\\\"id\\\":\\\"8992386067649786362\\\",\\\"type\\\":\\\"observable\\\"}),\\\"index\\\":WebIO.getval({\\\"name\\\":\\\"index\\\",\\\"scope\\\":\\\"9625706558678385645\\\",\\\"id\\\":\\\"16221965513756587548\\\",\\\"type\\\":\\\"observable\\\"})};\\n    var self = this;\\n    function AppViewModel() {\\n        for (var key in json_data) {\\n            var el = json_data[key];\\n            this[key] = Array.isArray(el) ? ko.observableArray(el) : ko.observable(el);\\n        }\\n        \\n        [this[\\\"formatted_val\\\"]=ko.computed(    function(){\\n        return this.formatted_vals()[parseInt(this.index())-(1)];\\n    }\\n,this)]\\n        [this[\\\"changes\\\"].subscribe((function (val){!(this.valueFromJulia[\\\"changes\\\"]) ? (WebIO.setval({\\\"name\\\":\\\"changes\\\",\\\"scope\\\":\\\"9625706558678385645\\\",\\\"id\\\":\\\"8992386067649786362\\\",\\\"type\\\":\\\"observable\\\"},val)) : undefined; return this.valueFromJulia[\\\"changes\\\"]=false}),self),this[\\\"index\\\"].subscribe((function (val){!(this.valueFromJulia[\\\"index\\\"]) ? (WebIO.setval({\\\"name\\\":\\\"index\\\",\\\"scope\\\":\\\"9625706558678385645\\\",\\\"id\\\":\\\"16221965513756587548\\\",\\\"type\\\":\\\"observable\\\"},val)) : undefined; return this.valueFromJulia[\\\"index\\\"]=false}),self)]\\n        \\n    }\\n    self.model = new AppViewModel();\\n    self.valueFromJulia = {};\\n    for (var key in json_data) {\\n        self.valueFromJulia[key] = false;\\n    }\\n    ko.applyBindings(self.model, self.dom);\\n}\\n);\\n    (WebIO.importBlock({\\\"data\\\":[{\\\"name\\\":\\\"knockout\\\",\\\"type\\\":\\\"js\\\",\\\"url\\\":\\\"/assetserver/727383f2a47bd31570b7da84eee7b022dd6d7c78-knockout.js\\\"},{\\\"name\\\":\\\"knockout_punches\\\",\\\"type\\\":\\\"js\\\",\\\"url\\\":\\\"/assetserver/382b41b3b1bd9f26f75861d360bad7f8beea211f-knockout_punches.js\\\"}],\\\"type\\\":\\\"async_block\\\"})).then((imports) => handler.apply(this, imports));\\n}\\n\")])], Dict{Symbol, Any}(:className => \"field interact-widget\")), WebIO.Node{WebIO.DOM}(WebIO.DOM(:html, :div), Any[], Dict{Symbol, Any}(:style => Dict(\"display\" => \"flex\", \"flex-direction\" => \"column\"))), WebIO.Node{WebIO.DOM}(WebIO.DOM(:html, :div), Any[WebIO.Node{WebIO.DOM}(WebIO.DOM(:html, :div), Any[WebIO.Scope(WebIO.Node{WebIO.DOM}(WebIO.DOM(:html, :div), Any[WebIO.Node{WebIO.DOM}(WebIO.DOM(:html, :div), Any[WebIO.Node{WebIO.DOM}(WebIO.DOM(:html, :label), Any[\"threshold\"], Dict{Symbol, Any}(:className => \"interact \", :style => Dict{Any, Any}(:padding => \"5px 10px 0px 10px\")))], Dict{Symbol, Any}(:className => \"interact-flex-row-left\")), WebIO.Node{WebIO.DOM}(WebIO.DOM(:html, :div), Any[WebIO.Node{WebIO.DOM}(WebIO.DOM(:html, :input), Any[], Dict{Symbol, Any}(:max => 10, :min => 1, :attributes => Dict{Any, Any}(:type => \"range\", Symbol(\"data-bind\") => \"numericValue: index, valueUpdate: 'input', event: {change: function (){this.changes(this.changes()+1)}}\", \"orient\" => \"horizontal\"), :step => 1, :className => \"slider slider is-fullwidth\", :style => Dict{Any, Any}()))], Dict{Symbol, Any}(:className => \"interact-flex-row-center\")), WebIO.Node{WebIO.DOM}(WebIO.DOM(:html, :div), Any[WebIO.Node{WebIO.DOM}(WebIO.DOM(:html, :p), Any[], Dict{Symbol, Any}(:attributes => Dict(\"data-bind\" => \"text: formatted_val\")))], Dict{Symbol, Any}(:className => \"interact-flex-row-right\"))], Dict{Symbol, Any}(:className => \"interact-flex-row interact-widget\")), Dict{String, Tuple{Observables.AbstractObservable, Union{Nothing, Bool}}}(\"changes\" => (Observable(0), nothing), \"index\" => (Observable(5), nothing)), Set{String}(), nothing, WebIO.Asset[WebIO.Asset(\"js\", \"knockout\", \"/home/dushya/.julia/packages/Knockout/HReiN/src/../assets/knockout.js\"), WebIO.Asset(\"js\", \"knockout_punches\", \"/home/dushya/.julia/packages/Knockout/HReiN/src/../assets/knockout_punches.js\"), WebIO.Asset(\"js\", nothing, \"/home/dushya/.julia/packages/InteractBase/LJXv3/src/../assets/all.js\"), WebIO.Asset(\"css\", nothing, \"/home/dushya/.julia/packages/InteractBase/LJXv3/src/../assets/style.css\"), WebIO.Asset(\"css\", nothing, \"/home/dushya/.julia/packages/Interact/PENUy/src/../assets/bulma_confined.min.css\")], Dict{Any, Any}(\"changes\" => Any[WebIO.JSString(\"(function (val){return (val!=this.model[\\\"changes\\\"]()) ? (this.valueFromJulia[\\\"changes\\\"]=true, this.model[\\\"changes\\\"](val)) : undefined})\")], \"index\" => Any[WebIO.JSString(\"(function (val){return (val!=this.model[\\\"index\\\"]()) ? (this.valueFromJulia[\\\"index\\\"]=true, this.model[\\\"index\\\"](val)) : undefined})\")]), WebIO.ConnectionPool(Channel{Any}(32), Set{WebIO.AbstractConnection}(), Base.GenericCondition{ReentrantLock}(Base.IntrusiveLinkedList{Task}(Task (runnable) @0x00007f00fc2d3080, Task (runnable) @0x00007f00fc2d3080), ReentrantLock(nothing, 0x00000000, 0x00, Base.GenericCondition{Base.Threads.SpinLock}(Base.IntrusiveLinkedList{Task}(nothing, nothing), Base.Threads.SpinLock(0)), (0, 0, 139779710648320)))), WebIO.JSString[WebIO.JSString(\"function () {\\n    var handler = (function (ko, koPunches) {\\n    ko.punches.enableAll();\\n    ko.bindingHandlers.numericValue = {\\n        init: function(element, valueAccessor, allBindings, data, context) {\\n            var stringified = ko.observable(ko.unwrap(valueAccessor()));\\n            stringified.subscribe(function(value) {\\n                var val = parseFloat(value);\\n                if (!isNaN(val)) {\\n                    valueAccessor()(val);\\n                }\\n            });\\n            valueAccessor().subscribe(function(value) {\\n                var str = JSON.stringify(value);\\n                if ((str == \\\"0\\\") && ([\\\"-0\\\", \\\"-0.\\\"].indexOf(stringified()) >= 0))\\n                     return;\\n                 if ([\\\"null\\\", \\\"\\\"].indexOf(str) >= 0)\\n                     return;\\n                stringified(str);\\n            });\\n            ko.applyBindingsToNode(\\n                element,\\n                {\\n                    value: stringified,\\n                    valueUpdate: allBindings.get('valueUpdate'),\\n                },\\n                context,\\n            );\\n        }\\n    };\\n    var json_data = {\\\"formatted_vals\\\":[\\\"1\\\",\\\"2\\\",\\\"3\\\",\\\"4\\\",\\\"5\\\",\\\"6\\\",\\\"7\\\",\\\"8\\\",\\\"9\\\",\\\"10\\\"],\\\"changes\\\":WebIO.getval({\\\"name\\\":\\\"changes\\\",\\\"scope\\\":\\\"1435713615899031494\\\",\\\"id\\\":\\\"3900503912676677884\\\",\\\"type\\\":\\\"observable\\\"}),\\\"index\\\":WebIO.getval({\\\"name\\\":\\\"index\\\",\\\"scope\\\":\\\"1435713615899031494\\\",\\\"id\\\":\\\"290290780074492010\\\",\\\"type\\\":\\\"observable\\\"})};\\n    var self = this;\\n    function AppViewModel() {\\n        for (var key in json_data) {\\n            var el = json_data[key];\\n            this[key] = Array.isArray(el) ? ko.observableArray(el) : ko.observable(el);\\n        }\\n        \\n        [this[\\\"formatted_val\\\"]=ko.computed(    function(){\\n        return this.formatted_vals()[parseInt(this.index())-(1)];\\n    }\\n,this)]\\n        [this[\\\"changes\\\"].subscribe((function (val){!(this.valueFromJulia[\\\"changes\\\"]) ? (WebIO.setval({\\\"name\\\":\\\"changes\\\",\\\"scope\\\":\\\"1435713615899031494\\\",\\\"id\\\":\\\"3900503912676677884\\\",\\\"type\\\":\\\"observable\\\"},val)) : undefined; return this.valueFromJulia[\\\"changes\\\"]=false}),self),this[\\\"index\\\"].subscribe((function (val){!(this.valueFromJulia[\\\"index\\\"]) ? (WebIO.setval({\\\"name\\\":\\\"index\\\",\\\"scope\\\":\\\"1435713615899031494\\\",\\\"id\\\":\\\"290290780074492010\\\",\\\"type\\\":\\\"observable\\\"},val)) : undefined; return this.valueFromJulia[\\\"index\\\"]=false}),self)]\\n        \\n    }\\n    self.model = new AppViewModel();\\n    self.valueFromJulia = {};\\n    for (var key in json_data) {\\n        self.valueFromJulia[key] = false;\\n    }\\n    ko.applyBindings(self.model, self.dom);\\n}\\n);\\n    (WebIO.importBlock({\\\"data\\\":[{\\\"name\\\":\\\"knockout\\\",\\\"type\\\":\\\"js\\\",\\\"url\\\":\\\"/assetserver/727383f2a47bd31570b7da84eee7b022dd6d7c78-knockout.js\\\"},{\\\"name\\\":\\\"knockout_punches\\\",\\\"type\\\":\\\"js\\\",\\\"url\\\":\\\"/assetserver/382b41b3b1bd9f26f75861d360bad7f8beea211f-knockout_punches.js\\\"}],\\\"type\\\":\\\"async_block\\\"})).then((imports) => handler.apply(this, imports));\\n}\\n\")])], Dict{Symbol, Any}(:className => \"field interact-widget\"))], Dict{Symbol, Any}(:style => Dict(\"display\" => \"flex\", \"flex-direction\" => \"column\"))), WebIO.Node{WebIO.DOM}(WebIO.DOM(:html, :div), Any[WebIO.Node{WebIO.DOM}(WebIO.DOM(:html, :div), Any[WebIO.Scope(WebIO.Node{WebIO.DOM}(WebIO.DOM(:html, :div), Any[], Dict{Symbol, Any}(:id => \"container\")), Dict{String, Tuple{Observables.AbstractObservable, Union{Nothing, Bool}}}(\"value\" => (Observable(\"\\\\;\\\\;\"), nothing)), Set{String}(), nothing, WebIO.Asset[WebIO.Asset(\"js\", nothing, \"/home/dushya/.julia/packages/InteractBase/LJXv3/src/../assets/katex.min.js\"), WebIO.Asset(\"css\", nothing, \"/home/dushya/.julia/packages/InteractBase/LJXv3/src/../assets/katex.min.css\")], Dict{Any, Any}(\"value\" => Any[WebIO.JSString(\"(function (txt){return this.k.render(txt,this.container)})\")]), WebIO.ConnectionPool(Channel{Any}(32), Set{WebIO.AbstractConnection}(), Base.GenericCondition{ReentrantLock}(Base.IntrusiveLinkedList{Task}(Task (runnable) @0x00007f00f6c8e0e0, Task (runnable) @0x00007f00f6c8e0e0), ReentrantLock(nothing, 0x00000000, 0x00, Base.GenericCondition{Base.Threads.SpinLock}(Base.IntrusiveLinkedList{Task}(nothing, nothing), Base.Threads.SpinLock(0)), (139644017636432, 139642230191568, 0)))), WebIO.JSString[WebIO.JSString(\"function () {\\n    var handler = ((function (k){this.k=k; this.container=this.dom.querySelector(\\\"#container\\\"); return k.render(\\\"\\\\\\\\;\\\\\\\\;\\\",this.container)}));\\n    (WebIO.importBlock({\\\"data\\\":[{\\\"name\\\":null,\\\"type\\\":\\\"js\\\",\\\"url\\\":\\\"/assetserver/dd22ed1bf1896c2748f3fe616ce0b838adc895c1-katex.min.js\\\"},{\\\"name\\\":null,\\\"type\\\":\\\"css\\\",\\\"url\\\":\\\"/assetserver/46517a424aa5e6cffc1360d7e0848b601c584ee3-katex.min.css\\\"}],\\\"type\\\":\\\"async_block\\\"})).then((imports) => handler.apply(this, imports));\\n}\\n\")])], Dict{Symbol, Any}(:className => \"interact-widget\")), WebIO.Node{WebIO.DOM}(WebIO.DOM(:html, :div), Any[WebIO.Scope(WebIO.Node{WebIO.DOM}(WebIO.DOM(:html, :button), Any[\"run\"], Dict{Symbol, Any}(:attributes => Dict{Any, Any}(\"data-bind\" => \"click: function (){this.clicks(this.clicks()+1)}, css: {'is-loading' : loading}\"), :className => \"is-medium button is-primary\", :style => Dict{String, Any}())), Dict{String, Tuple{Observables.AbstractObservable, Union{Nothing, Bool}}}(\"loading\" => (Observable(false), nothing), \"clicks\" => (Observable(0), nothing)), Set{String}(), nothing, WebIO.Asset[WebIO.Asset(\"js\", \"knockout\", \"/home/dushya/.julia/packages/Knockout/HReiN/src/../assets/knockout.js\"), WebIO.Asset(\"js\", \"knockout_punches\", \"/home/dushya/.julia/packages/Knockout/HReiN/src/../assets/knockout_punches.js\"), WebIO.Asset(\"js\", nothing, \"/home/dushya/.julia/packages/InteractBase/LJXv3/src/../assets/all.js\"), WebIO.Asset(\"css\", nothing, \"/home/dushya/.julia/packages/InteractBase/LJXv3/src/../assets/style.css\"), WebIO.Asset(\"css\", nothing, \"/home/dushya/.julia/packages/Interact/PENUy/src/../assets/bulma_confined.min.css\")], Dict{Any, Any}(\"loading\" => Any[WebIO.JSString(\"(function (val){return (val!=this.model[\\\"loading\\\"]()) ? (this.valueFromJulia[\\\"loading\\\"]=true, this.model[\\\"loading\\\"](val)) : undefined})\")], \"clicks\" => Any[WebIO.JSString(\"(function (val){return (val!=this.model[\\\"clicks\\\"]()) ? (this.valueFromJulia[\\\"clicks\\\"]=true, this.model[\\\"clicks\\\"](val)) : undefined})\")]), WebIO.ConnectionPool(Channel{Any}(32), Set{WebIO.AbstractConnection}(), Base.GenericCondition{ReentrantLock}(Base.IntrusiveLinkedList{Task}(Task (runnable) @0x00007f00fc345aa0, Task (runnable) @0x00007f00fc345aa0), ReentrantLock(nothing, 0x00000000, 0x00, Base.GenericCondition{Base.Threads.SpinLock}(Base.IntrusiveLinkedList{Task}(nothing, nothing), Base.Threads.SpinLock(0)), (8, 0, 141733920768)))), WebIO.JSString[WebIO.JSString(\"function () {\\n    var handler = (function (ko, koPunches) {\\n    ko.punches.enableAll();\\n    ko.bindingHandlers.numericValue = {\\n        init: function(element, valueAccessor, allBindings, data, context) {\\n            var stringified = ko.observable(ko.unwrap(valueAccessor()));\\n            stringified.subscribe(function(value) {\\n                var val = parseFloat(value);\\n                if (!isNaN(val)) {\\n                    valueAccessor()(val);\\n                }\\n            });\\n            valueAccessor().subscribe(function(value) {\\n                var str = JSON.stringify(value);\\n                if ((str == \\\"0\\\") && ([\\\"-0\\\", \\\"-0.\\\"].indexOf(stringified()) >= 0))\\n                     return;\\n                 if ([\\\"null\\\", \\\"\\\"].indexOf(str) >= 0)\\n                     return;\\n                stringified(str);\\n            });\\n            ko.applyBindingsToNode(\\n                element,\\n                {\\n                    value: stringified,\\n                    valueUpdate: allBindings.get('valueUpdate'),\\n                },\\n                context,\\n            );\\n        }\\n    };\\n    var json_data = {\\\"loading\\\":WebIO.getval({\\\"name\\\":\\\"loading\\\",\\\"scope\\\":\\\"18092873130827573801\\\",\\\"id\\\":\\\"7945313726463890416\\\",\\\"type\\\":\\\"observable\\\"}),\\\"clicks\\\":WebIO.getval({\\\"name\\\":\\\"clicks\\\",\\\"scope\\\":\\\"18092873130827573801\\\",\\\"id\\\":\\\"18285535650761525822\\\",\\\"type\\\":\\\"observable\\\"})};\\n    var self = this;\\n    function AppViewModel() {\\n        for (var key in json_data) {\\n            var el = json_data[key];\\n            this[key] = Array.isArray(el) ? ko.observableArray(el) : ko.observable(el);\\n        }\\n        \\n        \\n        [this[\\\"loading\\\"].subscribe((function (val){!(this.valueFromJulia[\\\"loading\\\"]) ? (WebIO.setval({\\\"name\\\":\\\"loading\\\",\\\"scope\\\":\\\"18092873130827573801\\\",\\\"id\\\":\\\"7945313726463890416\\\",\\\"type\\\":\\\"observable\\\"},val)) : undefined; return this.valueFromJulia[\\\"loading\\\"]=false}),self),this[\\\"clicks\\\"].subscribe((function (val){!(this.valueFromJulia[\\\"clicks\\\"]) ? (WebIO.setval({\\\"name\\\":\\\"clicks\\\",\\\"scope\\\":\\\"18092873130827573801\\\",\\\"id\\\":\\\"18285535650761525822\\\",\\\"type\\\":\\\"observable\\\"},val)) : undefined; return this.valueFromJulia[\\\"clicks\\\"]=false}),self)]\\n        \\n    }\\n    self.model = new AppViewModel();\\n    self.valueFromJulia = {};\\n    for (var key in json_data) {\\n        self.valueFromJulia[key] = false;\\n    }\\n    ko.applyBindings(self.model, self.dom);\\n}\\n);\\n    (WebIO.importBlock({\\\"data\\\":[{\\\"name\\\":\\\"knockout\\\",\\\"type\\\":\\\"js\\\",\\\"url\\\":\\\"/assetserver/727383f2a47bd31570b7da84eee7b022dd6d7c78-knockout.js\\\"},{\\\"name\\\":\\\"knockout_punches\\\",\\\"type\\\":\\\"js\\\",\\\"url\\\":\\\"/assetserver/382b41b3b1bd9f26f75861d360bad7f8beea211f-knockout_punches.js\\\"}],\\\"type\\\":\\\"async_block\\\"})).then((imports) => handler.apply(this, imports));\\n}\\n\")])], Dict{Symbol, Any}(:className => \"field interact-widget\")), WebIO.Node{WebIO.DOM}(WebIO.DOM(:html, :div), Any[WebIO.Scope(WebIO.Node{WebIO.DOM}(WebIO.DOM(:html, :div), Any[], Dict{Symbol, Any}(:id => \"container\")), Dict{String, Tuple{Observables.AbstractObservable, Union{Nothing, Bool}}}(\"value\" => (Observable(\"\\\\;\\\\;\"), nothing)), Set{String}(), nothing, WebIO.Asset[WebIO.Asset(\"js\", nothing, \"/home/dushya/.julia/packages/InteractBase/LJXv3/src/../assets/katex.min.js\"), WebIO.Asset(\"css\", nothing, \"/home/dushya/.julia/packages/InteractBase/LJXv3/src/../assets/katex.min.css\")], Dict{Any, Any}(\"value\" => Any[WebIO.JSString(\"(function (txt){return this.k.render(txt,this.container)})\")]), WebIO.ConnectionPool(Channel{Any}(32), Set{WebIO.AbstractConnection}(), Base.GenericCondition{ReentrantLock}(Base.IntrusiveLinkedList{Task}(Task (runnable) @0x00007f00f6c8e0e0, Task (runnable) @0x00007f00f6c8e0e0), ReentrantLock(nothing, 0x00000000, 0x00, Base.GenericCondition{Base.Threads.SpinLock}(Base.IntrusiveLinkedList{Task}(nothing, nothing), Base.Threads.SpinLock(0)), (139644017636432, 139642230191568, 0)))), WebIO.JSString[WebIO.JSString(\"function () {\\n    var handler = ((function (k){this.k=k; this.container=this.dom.querySelector(\\\"#container\\\"); return k.render(\\\"\\\\\\\\;\\\\\\\\;\\\",this.container)}));\\n    (WebIO.importBlock({\\\"data\\\":[{\\\"name\\\":null,\\\"type\\\":\\\"js\\\",\\\"url\\\":\\\"/assetserver/dd22ed1bf1896c2748f3fe616ce0b838adc895c1-katex.min.js\\\"},{\\\"name\\\":null,\\\"type\\\":\\\"css\\\",\\\"url\\\":\\\"/assetserver/46517a424aa5e6cffc1360d7e0848b601c584ee3-katex.min.css\\\"}],\\\"type\\\":\\\"async_block\\\"})).then((imports) => handler.apply(this, imports));\\n}\\n\")])], Dict{Symbol, Any}(:className => \"interact-widget\")), WebIO.Node{WebIO.DOM}(WebIO.DOM(:html, :div), Any[WebIO.Scope(WebIO.Node{WebIO.DOM}(WebIO.DOM(:html, :button), Any[\"stop\"], Dict{Symbol, Any}(:attributes => Dict{Any, Any}(\"data-bind\" => \"click: function (){this.clicks(this.clicks()+1)}, css: {'is-loading' : loading}\"), :className => \"is-medium button is-primary\", :style => Dict{String, Any}())), Dict{String, Tuple{Observables.AbstractObservable, Union{Nothing, Bool}}}(\"loading\" => (Observable(false), nothing), \"clicks\" => (Observable(0), nothing)), Set{String}(), nothing, WebIO.Asset[WebIO.Asset(\"js\", \"knockout\", \"/home/dushya/.julia/packages/Knockout/HReiN/src/../assets/knockout.js\"), WebIO.Asset(\"js\", \"knockout_punches\", \"/home/dushya/.julia/packages/Knockout/HReiN/src/../assets/knockout_punches.js\"), WebIO.Asset(\"js\", nothing, \"/home/dushya/.julia/packages/InteractBase/LJXv3/src/../assets/all.js\"), WebIO.Asset(\"css\", nothing, \"/home/dushya/.julia/packages/InteractBase/LJXv3/src/../assets/style.css\"), WebIO.Asset(\"css\", nothing, \"/home/dushya/.julia/packages/Interact/PENUy/src/../assets/bulma_confined.min.css\")], Dict{Any, Any}(\"loading\" => Any[WebIO.JSString(\"(function (val){return (val!=this.model[\\\"loading\\\"]()) ? (this.valueFromJulia[\\\"loading\\\"]=true, this.model[\\\"loading\\\"](val)) : undefined})\")], \"clicks\" => Any[WebIO.JSString(\"(function (val){return (val!=this.model[\\\"clicks\\\"]()) ? (this.valueFromJulia[\\\"clicks\\\"]=true, this.model[\\\"clicks\\\"](val)) : undefined})\")]), WebIO.ConnectionPool(Channel{Any}(32), Set{WebIO.AbstractConnection}(), Base.GenericCondition{ReentrantLock}(Base.IntrusiveLinkedList{Task}(Task (runnable) @0x00007f00fc3c44c0, Task (runnable) @0x00007f00fc3c44c0), ReentrantLock(nothing, 0x00000000, 0x00, Base.GenericCondition{Base.Threads.SpinLock}(Base.IntrusiveLinkedList{Task}(nothing, nothing), Base.Threads.SpinLock(0)), (8, 0, 139779710648320)))), WebIO.JSString[WebIO.JSString(\"function () {\\n    var handler = (function (ko, koPunches) {\\n    ko.punches.enableAll();\\n    ko.bindingHandlers.numericValue = {\\n        init: function(element, valueAccessor, allBindings, data, context) {\\n            var stringified = ko.observable(ko.unwrap(valueAccessor()));\\n            stringified.subscribe(function(value) {\\n                var val = parseFloat(value);\\n                if (!isNaN(val)) {\\n                    valueAccessor()(val);\\n                }\\n            });\\n            valueAccessor().subscribe(function(value) {\\n                var str = JSON.stringify(value);\\n                if ((str == \\\"0\\\") && ([\\\"-0\\\", \\\"-0.\\\"].indexOf(stringified()) >= 0))\\n                     return;\\n                 if ([\\\"null\\\", \\\"\\\"].indexOf(str) >= 0)\\n                     return;\\n                stringified(str);\\n            });\\n            ko.applyBindingsToNode(\\n                element,\\n                {\\n                    value: stringified,\\n                    valueUpdate: allBindings.get('valueUpdate'),\\n                },\\n                context,\\n            );\\n        }\\n    };\\n    var json_data = {\\\"loading\\\":WebIO.getval({\\\"name\\\":\\\"loading\\\",\\\"scope\\\":\\\"6174367270758902014\\\",\\\"id\\\":\\\"2598660680530405981\\\",\\\"type\\\":\\\"observable\\\"}),\\\"clicks\\\":WebIO.getval({\\\"name\\\":\\\"clicks\\\",\\\"scope\\\":\\\"6174367270758902014\\\",\\\"id\\\":\\\"5536273825521827215\\\",\\\"type\\\":\\\"observable\\\"})};\\n    var self = this;\\n    function AppViewModel() {\\n        for (var key in json_data) {\\n            var el = json_data[key];\\n            this[key] = Array.isArray(el) ? ko.observableArray(el) : ko.observable(el);\\n        }\\n        \\n        \\n        [this[\\\"loading\\\"].subscribe((function (val){!(this.valueFromJulia[\\\"loading\\\"]) ? (WebIO.setval({\\\"name\\\":\\\"loading\\\",\\\"scope\\\":\\\"6174367270758902014\\\",\\\"id\\\":\\\"2598660680530405981\\\",\\\"type\\\":\\\"observable\\\"},val)) : undefined; return this.valueFromJulia[\\\"loading\\\"]=false}),self),this[\\\"clicks\\\"].subscribe((function (val){!(this.valueFromJulia[\\\"clicks\\\"]) ? (WebIO.setval({\\\"name\\\":\\\"clicks\\\",\\\"scope\\\":\\\"6174367270758902014\\\",\\\"id\\\":\\\"5536273825521827215\\\",\\\"type\\\":\\\"observable\\\"},val)) : undefined; return this.valueFromJulia[\\\"clicks\\\"]=false}),self)]\\n        \\n    }\\n    self.model = new AppViewModel();\\n    self.valueFromJulia = {};\\n    for (var key in json_data) {\\n        self.valueFromJulia[key] = false;\\n    }\\n    ko.applyBindings(self.model, self.dom);\\n}\\n);\\n    (WebIO.importBlock({\\\"data\\\":[{\\\"name\\\":\\\"knockout\\\",\\\"type\\\":\\\"js\\\",\\\"url\\\":\\\"/assetserver/727383f2a47bd31570b7da84eee7b022dd6d7c78-knockout.js\\\"},{\\\"name\\\":\\\"knockout_punches\\\",\\\"type\\\":\\\"js\\\",\\\"url\\\":\\\"/assetserver/382b41b3b1bd9f26f75861d360bad7f8beea211f-knockout_punches.js\\\"}],\\\"type\\\":\\\"async_block\\\"})).then((imports) => handler.apply(this, imports));\\n}\\n\")])], Dict{Symbol, Any}(:className => \"field interact-widget\")), WebIO.Node{WebIO.DOM}(WebIO.DOM(:html, :div), Any[WebIO.Scope(WebIO.Node{WebIO.DOM}(WebIO.DOM(:html, :div), Any[], Dict{Symbol, Any}(:id => \"container\")), Dict{String, Tuple{Observables.AbstractObservable, Union{Nothing, Bool}}}(\"value\" => (Observable(\"\\\\;\\\\;\"), nothing)), Set{String}(), nothing, WebIO.Asset[WebIO.Asset(\"js\", nothing, \"/home/dushya/.julia/packages/InteractBase/LJXv3/src/../assets/katex.min.js\"), WebIO.Asset(\"css\", nothing, \"/home/dushya/.julia/packages/InteractBase/LJXv3/src/../assets/katex.min.css\")], Dict{Any, Any}(\"value\" => Any[WebIO.JSString(\"(function (txt){return this.k.render(txt,this.container)})\")]), WebIO.ConnectionPool(Channel{Any}(32), Set{WebIO.AbstractConnection}(), Base.GenericCondition{ReentrantLock}(Base.IntrusiveLinkedList{Task}(Task (runnable) @0x00007f00f6c8e0e0, Task (runnable) @0x00007f00f6c8e0e0), ReentrantLock(nothing, 0x00000000, 0x00, Base.GenericCondition{Base.Threads.SpinLock}(Base.IntrusiveLinkedList{Task}(nothing, nothing), Base.Threads.SpinLock(0)), (139644017636432, 139642230191568, 0)))), WebIO.JSString[WebIO.JSString(\"function () {\\n    var handler = ((function (k){this.k=k; this.container=this.dom.querySelector(\\\"#container\\\"); return k.render(\\\"\\\\\\\\;\\\\\\\\;\\\",this.container)}));\\n    (WebIO.importBlock({\\\"data\\\":[{\\\"name\\\":null,\\\"type\\\":\\\"js\\\",\\\"url\\\":\\\"/assetserver/dd22ed1bf1896c2748f3fe616ce0b838adc895c1-katex.min.js\\\"},{\\\"name\\\":null,\\\"type\\\":\\\"css\\\",\\\"url\\\":\\\"/assetserver/46517a424aa5e6cffc1360d7e0848b601c584ee3-katex.min.css\\\"}],\\\"type\\\":\\\"async_block\\\"})).then((imports) => handler.apply(this, imports));\\n}\\n\")])], Dict{Symbol, Any}(:className => \"interact-widget\")), WebIO.Node{WebIO.DOM}(WebIO.DOM(:html, :div), Any[WebIO.Scope(WebIO.Node{WebIO.DOM}(WebIO.DOM(:html, :button), Any[\"reset\"], Dict{Symbol, Any}(:attributes => Dict{Any, Any}(\"data-bind\" => \"click: function (){this.clicks(this.clicks()+1)}, css: {'is-loading' : loading}\"), :className => \"is-medium button is-primary\", :style => Dict{String, Any}())), Dict{String, Tuple{Observables.AbstractObservable, Union{Nothing, Bool}}}(\"loading\" => (Observable(false), nothing), \"clicks\" => (Observable(0), nothing)), Set{String}(), nothing, WebIO.Asset[WebIO.Asset(\"js\", \"knockout\", \"/home/dushya/.julia/packages/Knockout/HReiN/src/../assets/knockout.js\"), WebIO.Asset(\"js\", \"knockout_punches\", \"/home/dushya/.julia/packages/Knockout/HReiN/src/../assets/knockout_punches.js\"), WebIO.Asset(\"js\", nothing, \"/home/dushya/.julia/packages/InteractBase/LJXv3/src/../assets/all.js\"), WebIO.Asset(\"css\", nothing, \"/home/dushya/.julia/packages/InteractBase/LJXv3/src/../assets/style.css\"), WebIO.Asset(\"css\", nothing, \"/home/dushya/.julia/packages/Interact/PENUy/src/../assets/bulma_confined.min.css\")], Dict{Any, Any}(\"loading\" => Any[WebIO.JSString(\"(function (val){return (val!=this.model[\\\"loading\\\"]()) ? (this.valueFromJulia[\\\"loading\\\"]=true, this.model[\\\"loading\\\"](val)) : undefined})\")], \"clicks\" => Any[WebIO.JSString(\"(function (val){return (val!=this.model[\\\"clicks\\\"]()) ? (this.valueFromJulia[\\\"clicks\\\"]=true, this.model[\\\"clicks\\\"](val)) : undefined})\")]), WebIO.ConnectionPool(Channel{Any}(32), Set{WebIO.AbstractConnection}(), Base.GenericCondition{ReentrantLock}(Base.IntrusiveLinkedList{Task}(Task (runnable) @0x00007f00fc3c6bd0, Task (runnable) @0x00007f00fc3c6bd0), ReentrantLock(nothing, 0x00000000, 0x00, Base.GenericCondition{Base.Threads.SpinLock}(Base.IntrusiveLinkedList{Task}(nothing, nothing), Base.Threads.SpinLock(0)), (1, 0, 7)))), WebIO.JSString[WebIO.JSString(\"function () {\\n    var handler = (function (ko, koPunches) {\\n    ko.punches.enableAll();\\n    ko.bindingHandlers.numericValue = {\\n        init: function(element, valueAccessor, allBindings, data, context) {\\n            var stringified = ko.observable(ko.unwrap(valueAccessor()));\\n            stringified.subscribe(function(value) {\\n                var val = parseFloat(value);\\n                if (!isNaN(val)) {\\n                    valueAccessor()(val);\\n                }\\n            });\\n            valueAccessor().subscribe(function(value) {\\n                var str = JSON.stringify(value);\\n                if ((str == \\\"0\\\") && ([\\\"-0\\\", \\\"-0.\\\"].indexOf(stringified()) >= 0))\\n                     return;\\n                 if ([\\\"null\\\", \\\"\\\"].indexOf(str) >= 0)\\n                     return;\\n                stringified(str);\\n            });\\n            ko.applyBindingsToNode(\\n                element,\\n                {\\n                    value: stringified,\\n                    valueUpdate: allBindings.get('valueUpdate'),\\n                },\\n                context,\\n            );\\n        }\\n    };\\n    var json_data = {\\\"loading\\\":WebIO.getval({\\\"name\\\":\\\"loading\\\",\\\"scope\\\":\\\"15769593006429292644\\\",\\\"id\\\":\\\"7579880518432139538\\\",\\\"type\\\":\\\"observable\\\"}),\\\"clicks\\\":WebIO.getval({\\\"name\\\":\\\"clicks\\\",\\\"scope\\\":\\\"15769593006429292644\\\",\\\"id\\\":\\\"18141973216319452646\\\",\\\"type\\\":\\\"observable\\\"})};\\n    var self = this;\\n    function AppViewModel() {\\n        for (var key in json_data) {\\n            var el = json_data[key];\\n            this[key] = Array.isArray(el) ? ko.observableArray(el) : ko.observable(el);\\n        }\\n        \\n        \\n        [this[\\\"loading\\\"].subscribe((function (val){!(this.valueFromJulia[\\\"loading\\\"]) ? (WebIO.setval({\\\"name\\\":\\\"loading\\\",\\\"scope\\\":\\\"15769593006429292644\\\",\\\"id\\\":\\\"7579880518432139538\\\",\\\"type\\\":\\\"observable\\\"},val)) : undefined; return this.valueFromJulia[\\\"loading\\\"]=false}),self),this[\\\"clicks\\\"].subscribe((function (val){!(this.valueFromJulia[\\\"clicks\\\"]) ? (WebIO.setval({\\\"name\\\":\\\"clicks\\\",\\\"scope\\\":\\\"15769593006429292644\\\",\\\"id\\\":\\\"18141973216319452646\\\",\\\"type\\\":\\\"observable\\\"},val)) : undefined; return this.valueFromJulia[\\\"clicks\\\"]=false}),self)]\\n        \\n    }\\n    self.model = new AppViewModel();\\n    self.valueFromJulia = {};\\n    for (var key in json_data) {\\n        self.valueFromJulia[key] = false;\\n    }\\n    ko.applyBindings(self.model, self.dom);\\n}\\n);\\n    (WebIO.importBlock({\\\"data\\\":[{\\\"name\\\":\\\"knockout\\\",\\\"type\\\":\\\"js\\\",\\\"url\\\":\\\"/assetserver/727383f2a47bd31570b7da84eee7b022dd6d7c78-knockout.js\\\"},{\\\"name\\\":\\\"knockout_punches\\\",\\\"type\\\":\\\"js\\\",\\\"url\\\":\\\"/assetserver/382b41b3b1bd9f26f75861d360bad7f8beea211f-knockout_punches.js\\\"}],\\\"type\\\":\\\"async_block\\\"})).then((imports) => handler.apply(this, imports));\\n}\\n\")])], Dict{Symbol, Any}(:className => \"field interact-widget\")), WebIO.Node{WebIO.DOM}(WebIO.DOM(:html, :div), Any[WebIO.Scope(WebIO.Node{WebIO.DOM}(WebIO.DOM(:html, :div), Any[], Dict{Symbol, Any}(:id => \"container\")), Dict{String, Tuple{Observables.AbstractObservable, Union{Nothing, Bool}}}(\"value\" => (Observable(\"\\\\;\\\\;\"), nothing)), Set{String}(), nothing, WebIO.Asset[WebIO.Asset(\"js\", nothing, \"/home/dushya/.julia/packages/InteractBase/LJXv3/src/../assets/katex.min.js\"), WebIO.Asset(\"css\", nothing, \"/home/dushya/.julia/packages/InteractBase/LJXv3/src/../assets/katex.min.css\")], Dict{Any, Any}(\"value\" => Any[WebIO.JSString(\"(function (txt){return this.k.render(txt,this.container)})\")]), WebIO.ConnectionPool(Channel{Any}(32), Set{WebIO.AbstractConnection}(), Base.GenericCondition{ReentrantLock}(Base.IntrusiveLinkedList{Task}(Task (runnable) @0x00007f00f6c8e0e0, Task (runnable) @0x00007f00f6c8e0e0), ReentrantLock(nothing, 0x00000000, 0x00, Base.GenericCondition{Base.Threads.SpinLock}(Base.IntrusiveLinkedList{Task}(nothing, nothing), Base.Threads.SpinLock(0)), (139644017636432, 139642230191568, 0)))), WebIO.JSString[WebIO.JSString(\"function () {\\n    var handler = ((function (k){this.k=k; this.container=this.dom.querySelector(\\\"#container\\\"); return k.render(\\\"\\\\\\\\;\\\\\\\\;\\\",this.container)}));\\n    (WebIO.importBlock({\\\"data\\\":[{\\\"name\\\":null,\\\"type\\\":\\\"js\\\",\\\"url\\\":\\\"/assetserver/dd22ed1bf1896c2748f3fe616ce0b838adc895c1-katex.min.js\\\"},{\\\"name\\\":null,\\\"type\\\":\\\"css\\\",\\\"url\\\":\\\"/assetserver/46517a424aa5e6cffc1360d7e0848b601c584ee3-katex.min.css\\\"}],\\\"type\\\":\\\"async_block\\\"})).then((imports) => handler.apply(this, imports));\\n}\\n\")])], Dict{Symbol, Any}(:className => \"interact-widget\")), WebIO.Node{WebIO.DOM}(WebIO.DOM(:html, :div), Any[WebIO.Scope(WebIO.Node{WebIO.DOM}(WebIO.DOM(:html, :button), Any[\"save\"], Dict{Symbol, Any}(:attributes => Dict{Any, Any}(\"data-bind\" => \"click: function (){this.clicks(this.clicks()+1)}, css: {'is-loading' : loading}\"), :className => \"is-medium button is-primary\", :style => Dict{String, Any}())), Dict{String, Tuple{Observables.AbstractObservable, Union{Nothing, Bool}}}(\"loading\" => (Observable(false), nothing), \"clicks\" => (Observable(0), nothing)), Set{String}(), nothing, WebIO.Asset[WebIO.Asset(\"js\", \"knockout\", \"/home/dushya/.julia/packages/Knockout/HReiN/src/../assets/knockout.js\"), WebIO.Asset(\"js\", \"knockout_punches\", \"/home/dushya/.julia/packages/Knockout/HReiN/src/../assets/knockout_punches.js\"), WebIO.Asset(\"js\", nothing, \"/home/dushya/.julia/packages/InteractBase/LJXv3/src/../assets/all.js\"), WebIO.Asset(\"css\", nothing, \"/home/dushya/.julia/packages/InteractBase/LJXv3/src/../assets/style.css\"), WebIO.Asset(\"css\", nothing, \"/home/dushya/.julia/packages/Interact/PENUy/src/../assets/bulma_confined.min.css\")], Dict{Any, Any}(\"loading\" => Any[WebIO.JSString(\"(function (val){return (val!=this.model[\\\"loading\\\"]()) ? (this.valueFromJulia[\\\"loading\\\"]=true, this.model[\\\"loading\\\"](val)) : undefined})\")], \"clicks\" => Any[WebIO.JSString(\"(function (val){return (val!=this.model[\\\"clicks\\\"]()) ? (this.valueFromJulia[\\\"clicks\\\"]=true, this.model[\\\"clicks\\\"](val)) : undefined})\")]), WebIO.ConnectionPool(Channel{Any}(32), Set{WebIO.AbstractConnection}(), Base.GenericCondition{ReentrantLock}(Base.IntrusiveLinkedList{Task}(Task (runnable) @0x00007f00fc3cd5f0, Task (runnable) @0x00007f00fc3cd5f0), ReentrantLock(nothing, 0x00000000, 0x00, Base.GenericCondition{Base.Threads.SpinLock}(Base.IntrusiveLinkedList{Task}(nothing, nothing), Base.Threads.SpinLock(0)), (2, 139643940748224, 139643940748224)))), WebIO.JSString[WebIO.JSString(\"function () {\\n    var handler = (function (ko, koPunches) {\\n    ko.punches.enableAll();\\n    ko.bindingHandlers.numericValue = {\\n        init: function(element, valueAccessor, allBindings, data, context) {\\n            var stringified = ko.observable(ko.unwrap(valueAccessor()));\\n            stringified.subscribe(function(value) {\\n                var val = parseFloat(value);\\n                if (!isNaN(val)) {\\n                    valueAccessor()(val);\\n                }\\n            });\\n            valueAccessor().subscribe(function(value) {\\n                var str = JSON.stringify(value);\\n                if ((str == \\\"0\\\") && ([\\\"-0\\\", \\\"-0.\\\"].indexOf(stringified()) >= 0))\\n                     return;\\n                 if ([\\\"null\\\", \\\"\\\"].indexOf(str) >= 0)\\n                     return;\\n                stringified(str);\\n            });\\n            ko.applyBindingsToNode(\\n                element,\\n                {\\n                    value: stringified,\\n                    valueUpdate: allBindings.get('valueUpdate'),\\n                },\\n                context,\\n            );\\n        }\\n    };\\n    var json_data = {\\\"loading\\\":WebIO.getval({\\\"name\\\":\\\"loading\\\",\\\"scope\\\":\\\"6245101254693358460\\\",\\\"id\\\":\\\"12674125620531386269\\\",\\\"type\\\":\\\"observable\\\"}),\\\"clicks\\\":WebIO.getval({\\\"name\\\":\\\"clicks\\\",\\\"scope\\\":\\\"6245101254693358460\\\",\\\"id\\\":\\\"3759746710355592592\\\",\\\"type\\\":\\\"observable\\\"})};\\n    var self = this;\\n    function AppViewModel() {\\n        for (var key in json_data) {\\n            var el = json_data[key];\\n            this[key] = Array.isArray(el) ? ko.observableArray(el) : ko.observable(el);\\n        }\\n        \\n        \\n        [this[\\\"loading\\\"].subscribe((function (val){!(this.valueFromJulia[\\\"loading\\\"]) ? (WebIO.setval({\\\"name\\\":\\\"loading\\\",\\\"scope\\\":\\\"6245101254693358460\\\",\\\"id\\\":\\\"12674125620531386269\\\",\\\"type\\\":\\\"observable\\\"},val)) : undefined; return this.valueFromJulia[\\\"loading\\\"]=false}),self),this[\\\"clicks\\\"].subscribe((function (val){!(this.valueFromJulia[\\\"clicks\\\"]) ? (WebIO.setval({\\\"name\\\":\\\"clicks\\\",\\\"scope\\\":\\\"6245101254693358460\\\",\\\"id\\\":\\\"3759746710355592592\\\",\\\"type\\\":\\\"observable\\\"},val)) : undefined; return this.valueFromJulia[\\\"clicks\\\"]=false}),self)]\\n        \\n    }\\n    self.model = new AppViewModel();\\n    self.valueFromJulia = {};\\n    for (var key in json_data) {\\n        self.valueFromJulia[key] = false;\\n    }\\n    ko.applyBindings(self.model, self.dom);\\n}\\n);\\n    (WebIO.importBlock({\\\"data\\\":[{\\\"name\\\":\\\"knockout\\\",\\\"type\\\":\\\"js\\\",\\\"url\\\":\\\"/assetserver/727383f2a47bd31570b7da84eee7b022dd6d7c78-knockout.js\\\"},{\\\"name\\\":\\\"knockout_punches\\\",\\\"type\\\":\\\"js\\\",\\\"url\\\":\\\"/assetserver/382b41b3b1bd9f26f75861d360bad7f8beea211f-knockout_punches.js\\\"}],\\\"type\\\":\\\"async_block\\\"})).then((imports) => handler.apply(this, imports));\\n}\\n\")])], Dict{Symbol, Any}(:className => \"field interact-widget\"))], Dict{Symbol, Any}(:style => Dict(\"display\" => \"flex\", \"flex-direction\" => \"row\")))], Dict{Symbol, Any}(:style => Dict(\"display\" => \"flex\", \"flex-direction\" => \"column\"))), WebIO.Node{WebIO.DOM}(WebIO.DOM(:html, :div), Any[WebIO.Scope(WebIO.Node{WebIO.DOM}(WebIO.DOM(:html, :div), Any[], Dict{Symbol, Any}(:id => \"container\")), Dict{String, Tuple{Observables.AbstractObservable, Union{Nothing, Bool}}}(\"value\" => (Observable(\"\\\\;\\\\;\"), nothing)), Set{String}(), nothing, WebIO.Asset[WebIO.Asset(\"js\", nothing, \"/home/dushya/.julia/packages/InteractBase/LJXv3/src/../assets/katex.min.js\"), WebIO.Asset(\"css\", nothing, \"/home/dushya/.julia/packages/InteractBase/LJXv3/src/../assets/katex.min.css\")], Dict{Any, Any}(\"value\" => Any[WebIO.JSString(\"(function (txt){return this.k.render(txt,this.container)})\")]), WebIO.ConnectionPool(Channel{Any}(32), Set{WebIO.AbstractConnection}(), Base.GenericCondition{ReentrantLock}(Base.IntrusiveLinkedList{Task}(Task (runnable) @0x00007f00f6c8e0e0, Task (runnable) @0x00007f00f6c8e0e0), ReentrantLock(nothing, 0x00000000, 0x00, Base.GenericCondition{Base.Threads.SpinLock}(Base.IntrusiveLinkedList{Task}(nothing, nothing), Base.Threads.SpinLock(0)), (139644017636432, 139642230191568, 0)))), WebIO.JSString[WebIO.JSString(\"function () {\\n    var handler = ((function (k){this.k=k; this.container=this.dom.querySelector(\\\"#container\\\"); return k.render(\\\"\\\\\\\\;\\\\\\\\;\\\",this.container)}));\\n    (WebIO.importBlock({\\\"data\\\":[{\\\"name\\\":null,\\\"type\\\":\\\"js\\\",\\\"url\\\":\\\"/assetserver/dd22ed1bf1896c2748f3fe616ce0b838adc895c1-katex.min.js\\\"},{\\\"name\\\":null,\\\"type\\\":\\\"css\\\",\\\"url\\\":\\\"/assetserver/46517a424aa5e6cffc1360d7e0848b601c584ee3-katex.min.css\\\"}],\\\"type\\\":\\\"async_block\\\"})).then((imports) => handler.apply(this, imports));\\n}\\n\")])], Dict{Symbol, Any}(:className => \"interact-widget\")), Observable(Luxor.Drawing(430.0, 430.0, \"\", Cairo.CairoSurfaceBase{UInt32}(Ptr{Nothing} @0x0000000000000000, 430.0, 430.0), Cairo.CairoContext(Ptr{Nothing} @0x0000000009ee2720, Cairo.CairoSurfaceBase{UInt32}(Ptr{Nothing} @0x0000000000000000, 430.0, 430.0), Ptr{Nothing} @0x000000000914b0d0), :png, 0.0, 0.0, 0.0, 1.0, IOBuffer(data=UInt8[...], readable=true, writable=true, seekable=true, append=false, size=1883, maxsize=Inf, ptr=1884, mark=-1), UInt8[0x89, 0x50, 0x4e, 0x47, 0x0d, 0x0a, 0x1a, 0x0a, 0x00, 0x00  …  0x00, 0x00, 0x49, 0x45, 0x4e, 0x44, 0xae, 0x42, 0x60, 0x82], false)), WebIO.Node{WebIO.DOM}(WebIO.DOM(:html, :div), Any[WebIO.Scope(WebIO.Node{WebIO.DOM}(WebIO.DOM(:html, :div), Any[], Dict{Symbol, Any}(:id => \"container\")), Dict{String, Tuple{Observables.AbstractObservable, Union{Nothing, Bool}}}(\"value\" => (Observable(\"\\\\;\\\\;\"), nothing)), Set{String}(), nothing, WebIO.Asset[WebIO.Asset(\"js\", nothing, \"/home/dushya/.julia/packages/InteractBase/LJXv3/src/../assets/katex.min.js\"), WebIO.Asset(\"css\", nothing, \"/home/dushya/.julia/packages/InteractBase/LJXv3/src/../assets/katex.min.css\")], Dict{Any, Any}(\"value\" => Any[WebIO.JSString(\"(function (txt){return this.k.render(txt,this.container)})\")]), WebIO.ConnectionPool(Channel{Any}(32), Set{WebIO.AbstractConnection}(), Base.GenericCondition{ReentrantLock}(Base.IntrusiveLinkedList{Task}(Task (runnable) @0x00007f00f6c8e0e0, Task (runnable) @0x00007f00f6c8e0e0), ReentrantLock(nothing, 0x00000000, 0x00, Base.GenericCondition{Base.Threads.SpinLock}(Base.IntrusiveLinkedList{Task}(nothing, nothing), Base.Threads.SpinLock(0)), (139644017636432, 139642230191568, 0)))), WebIO.JSString[WebIO.JSString(\"function () {\\n    var handler = ((function (k){this.k=k; this.container=this.dom.querySelector(\\\"#container\\\"); return k.render(\\\"\\\\\\\\;\\\\\\\\;\\\",this.container)}));\\n    (WebIO.importBlock({\\\"data\\\":[{\\\"name\\\":null,\\\"type\\\":\\\"js\\\",\\\"url\\\":\\\"/assetserver/dd22ed1bf1896c2748f3fe616ce0b838adc895c1-katex.min.js\\\"},{\\\"name\\\":null,\\\"type\\\":\\\"css\\\",\\\"url\\\":\\\"/assetserver/46517a424aa5e6cffc1360d7e0848b601c584ee3-katex.min.css\\\"}],\\\"type\\\":\\\"async_block\\\"})).then((imports) => handler.apply(this, imports));\\n}\\n\")])], Dict{Symbol, Any}(:className => \"interact-widget\")), WebIO.Node{WebIO.DOM}(WebIO.DOM(:html, :div), Any[], Dict{Symbol, Any}(:style => Dict(\"display\" => \"flex\", \"flex-direction\" => \"column\")))], Dict{Symbol, Any}(:style => Dict(\"display\" => \"flex\", \"flex-direction\" => \"row\")))], Dict{Symbol, Any}(:style => Dict(\"display\" => \"flex\", \"flex-direction\" => \"column\")))"
      ]
     },
     "execution_count": 10,
     "metadata": {
      "application/vnd.webio.node+json": {
       "kernelId": "96121b82-0264-4dfe-a77c-77265da645ff"
      }
     },
     "output_type": "execute_result"
    }
   ],
   "source": [
    "create_interactive_app(model, initialiser= initialiser!,\n",
    "    props_to_record = Dict(\"patches\" => Set([:color])),\n",
    "    model_controls = [(:threshold, \"slider\", 1:10)],\n",
    "    step_rule= step_rule!,frames=500, show_patches=true) "
   ]
  },
  {
   "cell_type": "code",
   "execution_count": 11,
   "metadata": {},
   "outputs": [
    {
     "data": {
      "image/png": "[encoded data removed]",
      "image/svg+xml": [
       "<?xml version=\"1.0\" encoding=\"utf-8\"?>\n",
       "<svg xmlns=\"http://www.w3.org/2000/svg\" xmlns:xlink=\"http://www.w3.org/1999/xlink\" width=\"600\" height=\"400\" viewBox=\"0 0 2400 1600\">\n",
       "<defs>\n",
       "  <clipPath id=\"clip280\">\n",
       "    <rect x=\"0\" y=\"0\" width=\"2400\" height=\"1600\"/>\n",
       "  </clipPath>\n",
       "</defs>\n",
       "<path clip-path=\"url(#clip280)\" d=\"M0 1600 L2400 1600 L2400 0 L0 0  Z\" fill=\"#ffffff\" fill-rule=\"evenodd\" fill-opacity=\"1\"/>\n",
       "<defs>\n",
       "  <clipPath id=\"clip281\">\n",
       "    <rect x=\"480\" y=\"0\" width=\"1681\" height=\"1600\"/>\n",
       "  </clipPath>\n",
       "</defs>\n",
       "<path clip-path=\"url(#clip280)\" d=\"M264.287 1423.18 L2352.76 1423.18 L2352.76 47.2441 L264.287 47.2441  Z\" fill=\"#ffffff\" fill-rule=\"evenodd\" fill-opacity=\"1\"/>\n",
       "<defs>\n",
       "  <clipPath id=\"clip282\">\n",
       "    <rect x=\"264\" y=\"47\" width=\"2089\" height=\"1377\"/>\n",
       "  </clipPath>\n",
       "</defs>\n",
       "<polyline clip-path=\"url(#clip282)\" style=\"stroke:#000000; stroke-linecap:round; stroke-linejoin:round; stroke-width:2; stroke-opacity:0.1; fill:none\" points=\"319.454,1423.18 319.454,47.2441 \"/>\n",
       "<polyline clip-path=\"url(#clip282)\" style=\"stroke:#000000; stroke-linecap:round; stroke-linejoin:round; stroke-width:2; stroke-opacity:0.1; fill:none\" points=\"713.505,1423.18 713.505,47.2441 \"/>\n",
       "<polyline clip-path=\"url(#clip282)\" style=\"stroke:#000000; stroke-linecap:round; stroke-linejoin:round; stroke-width:2; stroke-opacity:0.1; fill:none\" points=\"1107.56,1423.18 1107.56,47.2441 \"/>\n",
       "<polyline clip-path=\"url(#clip282)\" style=\"stroke:#000000; stroke-linecap:round; stroke-linejoin:round; stroke-width:2; stroke-opacity:0.1; fill:none\" points=\"1501.61,1423.18 1501.61,47.2441 \"/>\n",
       "<polyline clip-path=\"url(#clip282)\" style=\"stroke:#000000; stroke-linecap:round; stroke-linejoin:round; stroke-width:2; stroke-opacity:0.1; fill:none\" points=\"1895.66,1423.18 1895.66,47.2441 \"/>\n",
       "<polyline clip-path=\"url(#clip282)\" style=\"stroke:#000000; stroke-linecap:round; stroke-linejoin:round; stroke-width:2; stroke-opacity:0.1; fill:none\" points=\"2289.71,1423.18 2289.71,47.2441 \"/>\n",
       "<polyline clip-path=\"url(#clip280)\" style=\"stroke:#000000; stroke-linecap:round; stroke-linejoin:round; stroke-width:4; stroke-opacity:1; fill:none\" points=\"264.287,1423.18 2352.76,1423.18 \"/>\n",
       "<polyline clip-path=\"url(#clip280)\" style=\"stroke:#000000; stroke-linecap:round; stroke-linejoin:round; stroke-width:4; stroke-opacity:1; fill:none\" points=\"319.454,1423.18 319.454,1404.28 \"/>\n",
       "<polyline clip-path=\"url(#clip280)\" style=\"stroke:#000000; stroke-linecap:round; stroke-linejoin:round; stroke-width:4; stroke-opacity:1; fill:none\" points=\"713.505,1423.18 713.505,1404.28 \"/>\n",
       "<polyline clip-path=\"url(#clip280)\" style=\"stroke:#000000; stroke-linecap:round; stroke-linejoin:round; stroke-width:4; stroke-opacity:1; fill:none\" points=\"1107.56,1423.18 1107.56,1404.28 \"/>\n",
       "<polyline clip-path=\"url(#clip280)\" style=\"stroke:#000000; stroke-linecap:round; stroke-linejoin:round; stroke-width:4; stroke-opacity:1; fill:none\" points=\"1501.61,1423.18 1501.61,1404.28 \"/>\n",
       "<polyline clip-path=\"url(#clip280)\" style=\"stroke:#000000; stroke-linecap:round; stroke-linejoin:round; stroke-width:4; stroke-opacity:1; fill:none\" points=\"1895.66,1423.18 1895.66,1404.28 \"/>\n",
       "<polyline clip-path=\"url(#clip280)\" style=\"stroke:#000000; stroke-linecap:round; stroke-linejoin:round; stroke-width:4; stroke-opacity:1; fill:none\" points=\"2289.71,1423.18 2289.71,1404.28 \"/>\n",
       "<path clip-path=\"url(#clip280)\" d=\"M319.454 1454.1 Q315.843 1454.1 314.015 1457.66 Q312.209 1461.2 312.209 1468.33 Q312.209 1475.44 314.015 1479.01 Q315.843 1482.55 319.454 1482.55 Q323.089 1482.55 324.894 1479.01 Q326.723 1475.44 326.723 1468.33 Q326.723 1461.2 324.894 1457.66 Q323.089 1454.1 319.454 1454.1 M319.454 1450.39 Q325.265 1450.39 328.32 1455 Q331.399 1459.58 331.399 1468.33 Q331.399 1477.06 328.32 1481.67 Q325.265 1486.25 319.454 1486.25 Q313.644 1486.25 310.566 1481.67 Q307.51 1477.06 307.51 1468.33 Q307.51 1459.58 310.566 1455 Q313.644 1450.39 319.454 1450.39 Z\" fill=\"#000000\" fill-rule=\"nonzero\" fill-opacity=\"1\" /><path clip-path=\"url(#clip280)\" d=\"M673.112 1481.64 L680.751 1481.64 L680.751 1455.28 L672.44 1456.95 L672.44 1452.69 L680.704 1451.02 L685.38 1451.02 L685.38 1481.64 L693.019 1481.64 L693.019 1485.58 L673.112 1485.58 L673.112 1481.64 Z\" fill=\"#000000\" fill-rule=\"nonzero\" fill-opacity=\"1\" /><path clip-path=\"url(#clip280)\" d=\"M712.463 1454.1 Q708.852 1454.1 707.024 1457.66 Q705.218 1461.2 705.218 1468.33 Q705.218 1475.44 707.024 1479.01 Q708.852 1482.55 712.463 1482.55 Q716.098 1482.55 717.903 1479.01 Q719.732 1475.44 719.732 1468.33 Q719.732 1461.2 717.903 1457.66 Q716.098 1454.1 712.463 1454.1 M712.463 1450.39 Q718.274 1450.39 721.329 1455 Q724.408 1459.58 724.408 1468.33 Q724.408 1477.06 721.329 1481.67 Q718.274 1486.25 712.463 1486.25 Q706.653 1486.25 703.575 1481.67 Q700.519 1477.06 700.519 1468.33 Q700.519 1459.58 703.575 1455 Q706.653 1450.39 712.463 1450.39 Z\" fill=\"#000000\" fill-rule=\"nonzero\" fill-opacity=\"1\" /><path clip-path=\"url(#clip280)\" d=\"M742.625 1454.1 Q739.014 1454.1 737.186 1457.66 Q735.38 1461.2 735.38 1468.33 Q735.38 1475.44 737.186 1479.01 Q739.014 1482.55 742.625 1482.55 Q746.26 1482.55 748.065 1479.01 Q749.894 1475.44 749.894 1468.33 Q749.894 1461.2 748.065 1457.66 Q746.26 1454.1 742.625 1454.1 M742.625 1450.39 Q748.435 1450.39 751.491 1455 Q754.57 1459.58 754.57 1468.33 Q754.57 1477.06 751.491 1481.67 Q748.435 1486.25 742.625 1486.25 Q736.815 1486.25 733.736 1481.67 Q730.681 1477.06 730.681 1468.33 Q730.681 1459.58 733.736 1455 Q736.815 1450.39 742.625 1450.39 Z\" fill=\"#000000\" fill-rule=\"nonzero\" fill-opacity=\"1\" /><path clip-path=\"url(#clip280)\" d=\"M1071.25 1481.64 L1087.57 1481.64 L1087.57 1485.58 L1065.62 1485.58 L1065.62 1481.64 Q1068.29 1478.89 1072.87 1474.26 Q1077.47 1469.61 1078.66 1468.27 Q1080.9 1465.74 1081.78 1464.01 Q1082.68 1462.25 1082.68 1460.56 Q1082.68 1457.8 1080.74 1456.07 Q1078.82 1454.33 1075.72 1454.33 Q1073.52 1454.33 1071.06 1455.09 Q1068.63 1455.86 1065.85 1457.41 L1065.85 1452.69 Q1068.68 1451.55 1071.13 1450.97 Q1073.59 1450.39 1075.62 1450.39 Q1080.99 1450.39 1084.19 1453.08 Q1087.38 1455.77 1087.38 1460.26 Q1087.38 1462.39 1086.57 1464.31 Q1085.79 1466.2 1083.68 1468.8 Q1083.1 1469.47 1080 1472.69 Q1076.9 1475.88 1071.25 1481.64 Z\" fill=\"#000000\" fill-rule=\"nonzero\" fill-opacity=\"1\" /><path clip-path=\"url(#clip280)\" d=\"M1107.38 1454.1 Q1103.77 1454.1 1101.94 1457.66 Q1100.14 1461.2 1100.14 1468.33 Q1100.14 1475.44 1101.94 1479.01 Q1103.77 1482.55 1107.38 1482.55 Q1111.02 1482.55 1112.82 1479.01 Q1114.65 1475.44 1114.65 1468.33 Q1114.65 1461.2 1112.82 1457.66 Q1111.02 1454.1 1107.38 1454.1 M1107.38 1450.39 Q1113.19 1450.39 1116.25 1455 Q1119.33 1459.58 1119.33 1468.33 Q1119.33 1477.06 1116.25 1481.67 Q1113.19 1486.25 1107.38 1486.25 Q1101.57 1486.25 1098.49 1481.67 Q1095.44 1477.06 1095.44 1468.33 Q1095.44 1459.58 1098.49 1455 Q1101.57 1450.39 1107.38 1450.39 Z\" fill=\"#000000\" fill-rule=\"nonzero\" fill-opacity=\"1\" /><path clip-path=\"url(#clip280)\" d=\"M1137.54 1454.1 Q1133.93 1454.1 1132.1 1457.66 Q1130.3 1461.2 1130.3 1468.33 Q1130.3 1475.44 1132.1 1479.01 Q1133.93 1482.55 1137.54 1482.55 Q1141.18 1482.55 1142.98 1479.01 Q1144.81 1475.44 1144.81 1468.33 Q1144.81 1461.2 1142.98 1457.66 Q1141.18 1454.1 1137.54 1454.1 M1137.54 1450.39 Q1143.35 1450.39 1146.41 1455 Q1149.49 1459.58 1149.49 1468.33 Q1149.49 1477.06 1146.41 1481.67 Q1143.35 1486.25 1137.54 1486.25 Q1131.73 1486.25 1128.66 1481.67 Q1125.6 1477.06 1125.6 1468.33 Q1125.6 1459.58 1128.66 1455 Q1131.73 1450.39 1137.54 1450.39 Z\" fill=\"#000000\" fill-rule=\"nonzero\" fill-opacity=\"1\" /><path clip-path=\"url(#clip280)\" d=\"M1475.37 1466.95 Q1478.72 1467.66 1480.6 1469.93 Q1482.5 1472.2 1482.5 1475.53 Q1482.5 1480.65 1478.98 1483.45 Q1475.46 1486.25 1468.98 1486.25 Q1466.8 1486.25 1464.49 1485.81 Q1462.2 1485.39 1459.74 1484.54 L1459.74 1480.02 Q1461.69 1481.16 1464 1481.74 Q1466.32 1482.32 1468.84 1482.32 Q1473.24 1482.32 1475.53 1480.58 Q1477.84 1478.84 1477.84 1475.53 Q1477.84 1472.48 1475.69 1470.77 Q1473.56 1469.03 1469.74 1469.03 L1465.72 1469.03 L1465.72 1465.19 L1469.93 1465.19 Q1473.38 1465.19 1475.21 1463.82 Q1477.03 1462.43 1477.03 1459.84 Q1477.03 1457.18 1475.14 1455.77 Q1473.26 1454.33 1469.74 1454.33 Q1467.82 1454.33 1465.62 1454.75 Q1463.42 1455.16 1460.78 1456.04 L1460.78 1451.88 Q1463.45 1451.14 1465.76 1450.77 Q1468.1 1450.39 1470.16 1450.39 Q1475.48 1450.39 1478.59 1452.83 Q1481.69 1455.23 1481.69 1459.35 Q1481.69 1462.22 1480.04 1464.21 Q1478.4 1466.18 1475.37 1466.95 Z\" fill=\"#000000\" fill-rule=\"nonzero\" fill-opacity=\"1\" /><path clip-path=\"url(#clip280)\" d=\"M1501.36 1454.1 Q1497.75 1454.1 1495.92 1457.66 Q1494.12 1461.2 1494.12 1468.33 Q1494.12 1475.44 1495.92 1479.01 Q1497.75 1482.55 1501.36 1482.55 Q1505 1482.55 1506.8 1479.01 Q1508.63 1475.44 1508.63 1468.33 Q1508.63 1461.2 1506.8 1457.66 Q1505 1454.1 1501.36 1454.1 M1501.36 1450.39 Q1507.17 1450.39 1510.23 1455 Q1513.31 1459.58 1513.31 1468.33 Q1513.31 1477.06 1510.23 1481.67 Q1507.17 1486.25 1501.36 1486.25 Q1495.55 1486.25 1492.47 1481.67 Q1489.42 1477.06 1489.42 1468.33 Q1489.42 1459.58 1492.47 1455 Q1495.55 1450.39 1501.36 1450.39 Z\" fill=\"#000000\" fill-rule=\"nonzero\" fill-opacity=\"1\" /><path clip-path=\"url(#clip280)\" d=\"M1531.53 1454.1 Q1527.91 1454.1 1526.09 1457.66 Q1524.28 1461.2 1524.28 1468.33 Q1524.28 1475.44 1526.09 1479.01 Q1527.91 1482.55 1531.53 1482.55 Q1535.16 1482.55 1536.97 1479.01 Q1538.79 1475.44 1538.79 1468.33 Q1538.79 1461.2 1536.97 1457.66 Q1535.16 1454.1 1531.53 1454.1 M1531.53 1450.39 Q1537.34 1450.39 1540.39 1455 Q1543.47 1459.58 1543.47 1468.33 Q1543.47 1477.06 1540.39 1481.67 Q1537.34 1486.25 1531.53 1486.25 Q1525.72 1486.25 1522.64 1481.67 Q1519.58 1477.06 1519.58 1468.33 Q1519.58 1459.58 1522.64 1455 Q1525.72 1450.39 1531.53 1450.39 Z\" fill=\"#000000\" fill-rule=\"nonzero\" fill-opacity=\"1\" /><path clip-path=\"url(#clip280)\" d=\"M1868.75 1455.09 L1856.94 1473.54 L1868.75 1473.54 L1868.75 1455.09 M1867.52 1451.02 L1873.4 1451.02 L1873.4 1473.54 L1878.33 1473.54 L1878.33 1477.43 L1873.4 1477.43 L1873.4 1485.58 L1868.75 1485.58 L1868.75 1477.43 L1853.15 1477.43 L1853.15 1472.92 L1867.52 1451.02 Z\" fill=\"#000000\" fill-rule=\"nonzero\" fill-opacity=\"1\" /><path clip-path=\"url(#clip280)\" d=\"M1896.06 1454.1 Q1892.45 1454.1 1890.62 1457.66 Q1888.82 1461.2 1888.82 1468.33 Q1888.82 1475.44 1890.62 1479.01 Q1892.45 1482.55 1896.06 1482.55 Q1899.7 1482.55 1901.5 1479.01 Q1903.33 1475.44 1903.33 1468.33 Q1903.33 1461.2 1901.5 1457.66 Q1899.7 1454.1 1896.06 1454.1 M1896.06 1450.39 Q1901.87 1450.39 1904.93 1455 Q1908.01 1459.58 1908.01 1468.33 Q1908.01 1477.06 1904.93 1481.67 Q1901.87 1486.25 1896.06 1486.25 Q1890.25 1486.25 1887.17 1481.67 Q1884.12 1477.06 1884.12 1468.33 Q1884.12 1459.58 1887.17 1455 Q1890.25 1450.39 1896.06 1450.39 Z\" fill=\"#000000\" fill-rule=\"nonzero\" fill-opacity=\"1\" /><path clip-path=\"url(#clip280)\" d=\"M1926.22 1454.1 Q1922.61 1454.1 1920.78 1457.66 Q1918.98 1461.2 1918.98 1468.33 Q1918.98 1475.44 1920.78 1479.01 Q1922.61 1482.55 1926.22 1482.55 Q1929.86 1482.55 1931.66 1479.01 Q1933.49 1475.44 1933.49 1468.33 Q1933.49 1461.2 1931.66 1457.66 Q1929.86 1454.1 1926.22 1454.1 M1926.22 1450.39 Q1932.03 1450.39 1935.09 1455 Q1938.17 1459.58 1938.17 1468.33 Q1938.17 1477.06 1935.09 1481.67 Q1932.03 1486.25 1926.22 1486.25 Q1920.41 1486.25 1917.34 1481.67 Q1914.28 1477.06 1914.28 1468.33 Q1914.28 1459.58 1917.34 1455 Q1920.41 1450.39 1926.22 1450.39 Z\" fill=\"#000000\" fill-rule=\"nonzero\" fill-opacity=\"1\" /><path clip-path=\"url(#clip280)\" d=\"M2249.33 1451.02 L2267.68 1451.02 L2267.68 1454.96 L2253.61 1454.96 L2253.61 1463.43 Q2254.63 1463.08 2255.65 1462.92 Q2256.66 1462.73 2257.68 1462.73 Q2263.47 1462.73 2266.85 1465.9 Q2270.23 1469.08 2270.23 1474.49 Q2270.23 1480.07 2266.76 1483.17 Q2263.28 1486.25 2256.96 1486.25 Q2254.79 1486.25 2252.52 1485.88 Q2250.28 1485.51 2247.87 1484.77 L2247.87 1480.07 Q2249.95 1481.2 2252.17 1481.76 Q2254.4 1482.32 2256.87 1482.32 Q2260.88 1482.32 2263.21 1480.21 Q2265.55 1478.1 2265.55 1474.49 Q2265.55 1470.88 2263.21 1468.77 Q2260.88 1466.67 2256.87 1466.67 Q2255 1466.67 2253.12 1467.08 Q2251.27 1467.5 2249.33 1468.38 L2249.33 1451.02 Z\" fill=\"#000000\" fill-rule=\"nonzero\" fill-opacity=\"1\" /><path clip-path=\"url(#clip280)\" d=\"M2289.44 1454.1 Q2285.83 1454.1 2284 1457.66 Q2282.2 1461.2 2282.2 1468.33 Q2282.2 1475.44 2284 1479.01 Q2285.83 1482.55 2289.44 1482.55 Q2293.08 1482.55 2294.88 1479.01 Q2296.71 1475.44 2296.71 1468.33 Q2296.71 1461.2 2294.88 1457.66 Q2293.08 1454.1 2289.44 1454.1 M2289.44 1450.39 Q2295.25 1450.39 2298.31 1455 Q2301.39 1459.58 2301.39 1468.33 Q2301.39 1477.06 2298.31 1481.67 Q2295.25 1486.25 2289.44 1486.25 Q2283.63 1486.25 2280.55 1481.67 Q2277.5 1477.06 2277.5 1468.33 Q2277.5 1459.58 2280.55 1455 Q2283.63 1450.39 2289.44 1450.39 Z\" fill=\"#000000\" fill-rule=\"nonzero\" fill-opacity=\"1\" /><path clip-path=\"url(#clip280)\" d=\"M2319.6 1454.1 Q2315.99 1454.1 2314.16 1457.66 Q2312.36 1461.2 2312.36 1468.33 Q2312.36 1475.44 2314.16 1479.01 Q2315.99 1482.55 2319.6 1482.55 Q2323.24 1482.55 2325.04 1479.01 Q2326.87 1475.44 2326.87 1468.33 Q2326.87 1461.2 2325.04 1457.66 Q2323.24 1454.1 2319.6 1454.1 M2319.6 1450.39 Q2325.41 1450.39 2328.47 1455 Q2331.55 1459.58 2331.55 1468.33 Q2331.55 1477.06 2328.47 1481.67 Q2325.41 1486.25 2319.6 1486.25 Q2313.79 1486.25 2310.71 1481.67 Q2307.66 1477.06 2307.66 1468.33 Q2307.66 1459.58 2310.71 1455 Q2313.79 1450.39 2319.6 1450.39 Z\" fill=\"#000000\" fill-rule=\"nonzero\" fill-opacity=\"1\" /><path clip-path=\"url(#clip280)\" d=\"M1245.56 1522.27 L1245.56 1532.4 L1257.63 1532.4 L1257.63 1536.95 L1245.56 1536.95 L1245.56 1556.3 Q1245.56 1560.66 1246.74 1561.9 Q1247.95 1563.14 1251.61 1563.14 L1257.63 1563.14 L1257.63 1568.04 L1251.61 1568.04 Q1244.83 1568.04 1242.25 1565.53 Q1239.68 1562.98 1239.68 1556.3 L1239.68 1536.95 L1235.38 1536.95 L1235.38 1532.4 L1239.68 1532.4 L1239.68 1522.27 L1245.56 1522.27 Z\" fill=\"#000000\" fill-rule=\"nonzero\" fill-opacity=\"1\" /><path clip-path=\"url(#clip280)\" d=\"M1265.33 1532.4 L1271.19 1532.4 L1271.19 1568.04 L1265.33 1568.04 L1265.33 1532.4 M1265.33 1518.52 L1271.19 1518.52 L1271.19 1525.93 L1265.33 1525.93 L1265.33 1518.52 Z\" fill=\"#000000\" fill-rule=\"nonzero\" fill-opacity=\"1\" /><path clip-path=\"url(#clip280)\" d=\"M1309.09 1533.76 L1309.09 1539.24 Q1306.61 1537.87 1304.1 1537.2 Q1301.61 1536.5 1299.07 1536.5 Q1293.37 1536.5 1290.22 1540.13 Q1287.07 1543.73 1287.07 1550.25 Q1287.07 1556.78 1290.22 1560.4 Q1293.37 1564 1299.07 1564 Q1301.61 1564 1304.1 1563.33 Q1306.61 1562.63 1309.09 1561.26 L1309.09 1566.68 Q1306.64 1567.82 1304 1568.39 Q1301.39 1568.97 1298.43 1568.97 Q1290.38 1568.97 1285.64 1563.91 Q1280.89 1558.85 1280.89 1550.25 Q1280.89 1541.53 1285.67 1536.53 Q1290.47 1531.54 1298.81 1531.54 Q1301.52 1531.54 1304.1 1532.11 Q1306.68 1532.65 1309.09 1533.76 Z\" fill=\"#000000\" fill-rule=\"nonzero\" fill-opacity=\"1\" /><path clip-path=\"url(#clip280)\" d=\"M1319.06 1518.52 L1324.95 1518.52 L1324.95 1547.77 L1342.42 1532.4 L1349.9 1532.4 L1330.99 1549.07 L1350.69 1568.04 L1343.06 1568.04 L1324.95 1550.63 L1324.95 1568.04 L1319.06 1568.04 L1319.06 1518.52 Z\" fill=\"#000000\" fill-rule=\"nonzero\" fill-opacity=\"1\" /><path clip-path=\"url(#clip280)\" d=\"M1379.75 1533.45 L1379.75 1538.98 Q1377.27 1537.71 1374.6 1537.07 Q1371.92 1536.44 1369.06 1536.44 Q1364.7 1536.44 1362.5 1537.77 Q1360.34 1539.11 1360.34 1541.79 Q1360.34 1543.82 1361.9 1545 Q1363.46 1546.15 1368.17 1547.2 L1370.17 1547.64 Q1376.41 1548.98 1379.02 1551.43 Q1381.66 1553.85 1381.66 1558.21 Q1381.66 1563.17 1377.72 1566.07 Q1373.8 1568.97 1366.93 1568.97 Q1364.06 1568.97 1360.94 1568.39 Q1357.86 1567.85 1354.42 1566.74 L1354.42 1560.69 Q1357.66 1562.38 1360.82 1563.24 Q1363.97 1564.07 1367.05 1564.07 Q1371.19 1564.07 1373.42 1562.66 Q1375.65 1561.23 1375.65 1558.65 Q1375.65 1556.27 1374.02 1554.99 Q1372.43 1553.72 1366.99 1552.54 L1364.95 1552.07 Q1359.51 1550.92 1357.09 1548.56 Q1354.67 1546.18 1354.67 1542.04 Q1354.67 1537.01 1358.24 1534.27 Q1361.8 1531.54 1368.36 1531.54 Q1371.61 1531.54 1374.47 1532.01 Q1377.33 1532.49 1379.75 1533.45 Z\" fill=\"#000000\" fill-rule=\"nonzero\" fill-opacity=\"1\" /><polyline clip-path=\"url(#clip282)\" style=\"stroke:#000000; stroke-linecap:round; stroke-linejoin:round; stroke-width:2; stroke-opacity:0.1; fill:none\" points=\"264.287,1390.76 2352.76,1390.76 \"/>\n",
       "<polyline clip-path=\"url(#clip282)\" style=\"stroke:#000000; stroke-linecap:round; stroke-linejoin:round; stroke-width:2; stroke-opacity:0.1; fill:none\" points=\"264.287,1118.86 2352.76,1118.86 \"/>\n",
       "<polyline clip-path=\"url(#clip282)\" style=\"stroke:#000000; stroke-linecap:round; stroke-linejoin:round; stroke-width:2; stroke-opacity:0.1; fill:none\" points=\"264.287,846.963 2352.76,846.963 \"/>\n",
       "<polyline clip-path=\"url(#clip282)\" style=\"stroke:#000000; stroke-linecap:round; stroke-linejoin:round; stroke-width:2; stroke-opacity:0.1; fill:none\" points=\"264.287,575.063 2352.76,575.063 \"/>\n",
       "<polyline clip-path=\"url(#clip282)\" style=\"stroke:#000000; stroke-linecap:round; stroke-linejoin:round; stroke-width:2; stroke-opacity:0.1; fill:none\" points=\"264.287,303.162 2352.76,303.162 \"/>\n",
       "<polyline clip-path=\"url(#clip280)\" style=\"stroke:#000000; stroke-linecap:round; stroke-linejoin:round; stroke-width:4; stroke-opacity:1; fill:none\" points=\"264.287,1423.18 264.287,47.2441 \"/>\n",
       "<polyline clip-path=\"url(#clip280)\" style=\"stroke:#000000; stroke-linecap:round; stroke-linejoin:round; stroke-width:4; stroke-opacity:1; fill:none\" points=\"264.287,1390.76 283.185,1390.76 \"/>\n",
       "<polyline clip-path=\"url(#clip280)\" style=\"stroke:#000000; stroke-linecap:round; stroke-linejoin:round; stroke-width:4; stroke-opacity:1; fill:none\" points=\"264.287,1118.86 283.185,1118.86 \"/>\n",
       "<polyline clip-path=\"url(#clip280)\" style=\"stroke:#000000; stroke-linecap:round; stroke-linejoin:round; stroke-width:4; stroke-opacity:1; fill:none\" points=\"264.287,846.963 283.185,846.963 \"/>\n",
       "<polyline clip-path=\"url(#clip280)\" style=\"stroke:#000000; stroke-linecap:round; stroke-linejoin:round; stroke-width:4; stroke-opacity:1; fill:none\" points=\"264.287,575.063 283.185,575.063 \"/>\n",
       "<polyline clip-path=\"url(#clip280)\" style=\"stroke:#000000; stroke-linecap:round; stroke-linejoin:round; stroke-width:4; stroke-opacity:1; fill:none\" points=\"264.287,303.162 283.185,303.162 \"/>\n",
       "<path clip-path=\"url(#clip280)\" d=\"M216.343 1376.56 Q212.732 1376.56 210.903 1380.13 Q209.098 1383.67 209.098 1390.8 Q209.098 1397.91 210.903 1401.47 Q212.732 1405.01 216.343 1405.01 Q219.977 1405.01 221.783 1401.47 Q223.611 1397.91 223.611 1390.8 Q223.611 1383.67 221.783 1380.13 Q219.977 1376.56 216.343 1376.56 M216.343 1372.86 Q222.153 1372.86 225.209 1377.47 Q228.287 1382.05 228.287 1390.8 Q228.287 1399.53 225.209 1404.13 Q222.153 1408.72 216.343 1408.72 Q210.533 1408.72 207.454 1404.13 Q204.399 1399.53 204.399 1390.8 Q204.399 1382.05 207.454 1377.47 Q210.533 1372.86 216.343 1372.86 Z\" fill=\"#000000\" fill-rule=\"nonzero\" fill-opacity=\"1\" /><path clip-path=\"url(#clip280)\" d=\"M146.066 1101.58 L164.422 1101.58 L164.422 1105.52 L150.348 1105.52 L150.348 1113.99 Q151.366 1113.64 152.385 1113.48 Q153.403 1113.3 154.422 1113.3 Q160.209 1113.3 163.589 1116.47 Q166.968 1119.64 166.968 1125.06 Q166.968 1130.63 163.496 1133.74 Q160.024 1136.81 153.704 1136.81 Q151.528 1136.81 149.26 1136.44 Q147.015 1136.07 144.607 1135.33 L144.607 1130.63 Q146.691 1131.77 148.913 1132.32 Q151.135 1132.88 153.612 1132.88 Q157.616 1132.88 159.954 1130.77 Q162.292 1128.67 162.292 1125.06 Q162.292 1121.44 159.954 1119.34 Q157.616 1117.23 153.612 1117.23 Q151.737 1117.23 149.862 1117.65 Q148.01 1118.06 146.066 1118.94 L146.066 1101.58 Z\" fill=\"#000000\" fill-rule=\"nonzero\" fill-opacity=\"1\" /><path clip-path=\"url(#clip280)\" d=\"M186.181 1104.66 Q182.57 1104.66 180.741 1108.23 Q178.936 1111.77 178.936 1118.9 Q178.936 1126 180.741 1129.57 Q182.57 1133.11 186.181 1133.11 Q189.815 1133.11 191.621 1129.57 Q193.45 1126 193.45 1118.9 Q193.45 1111.77 191.621 1108.23 Q189.815 1104.66 186.181 1104.66 M186.181 1100.96 Q191.991 1100.96 195.047 1105.56 Q198.125 1110.15 198.125 1118.9 Q198.125 1127.62 195.047 1132.23 Q191.991 1136.81 186.181 1136.81 Q180.371 1136.81 177.292 1132.23 Q174.237 1127.62 174.237 1118.9 Q174.237 1110.15 177.292 1105.56 Q180.371 1100.96 186.181 1100.96 Z\" fill=\"#000000\" fill-rule=\"nonzero\" fill-opacity=\"1\" /><path clip-path=\"url(#clip280)\" d=\"M216.343 1104.66 Q212.732 1104.66 210.903 1108.23 Q209.098 1111.77 209.098 1118.9 Q209.098 1126 210.903 1129.57 Q212.732 1133.11 216.343 1133.11 Q219.977 1133.11 221.783 1129.57 Q223.611 1126 223.611 1118.9 Q223.611 1111.77 221.783 1108.23 Q219.977 1104.66 216.343 1104.66 M216.343 1100.96 Q222.153 1100.96 225.209 1105.56 Q228.287 1110.15 228.287 1118.9 Q228.287 1127.62 225.209 1132.23 Q222.153 1136.81 216.343 1136.81 Q210.533 1136.81 207.454 1132.23 Q204.399 1127.62 204.399 1118.9 Q204.399 1110.15 207.454 1105.56 Q210.533 1100.96 216.343 1100.96 Z\" fill=\"#000000\" fill-rule=\"nonzero\" fill-opacity=\"1\" /><path clip-path=\"url(#clip280)\" d=\"M116.668 860.308 L124.306 860.308 L124.306 833.942 L115.996 835.609 L115.996 831.35 L124.26 829.683 L128.936 829.683 L128.936 860.308 L136.575 860.308 L136.575 864.243 L116.668 864.243 L116.668 860.308 Z\" fill=\"#000000\" fill-rule=\"nonzero\" fill-opacity=\"1\" /><path clip-path=\"url(#clip280)\" d=\"M156.019 832.762 Q152.408 832.762 150.579 836.327 Q148.774 839.868 148.774 846.998 Q148.774 854.104 150.579 857.669 Q152.408 861.211 156.019 861.211 Q159.653 861.211 161.459 857.669 Q163.288 854.104 163.288 846.998 Q163.288 839.868 161.459 836.327 Q159.653 832.762 156.019 832.762 M156.019 829.058 Q161.829 829.058 164.885 833.665 Q167.964 838.248 167.964 846.998 Q167.964 855.725 164.885 860.331 Q161.829 864.914 156.019 864.914 Q150.209 864.914 147.13 860.331 Q144.075 855.725 144.075 846.998 Q144.075 838.248 147.13 833.665 Q150.209 829.058 156.019 829.058 Z\" fill=\"#000000\" fill-rule=\"nonzero\" fill-opacity=\"1\" /><path clip-path=\"url(#clip280)\" d=\"M186.181 832.762 Q182.57 832.762 180.741 836.327 Q178.936 839.868 178.936 846.998 Q178.936 854.104 180.741 857.669 Q182.57 861.211 186.181 861.211 Q189.815 861.211 191.621 857.669 Q193.45 854.104 193.45 846.998 Q193.45 839.868 191.621 836.327 Q189.815 832.762 186.181 832.762 M186.181 829.058 Q191.991 829.058 195.047 833.665 Q198.125 838.248 198.125 846.998 Q198.125 855.725 195.047 860.331 Q191.991 864.914 186.181 864.914 Q180.371 864.914 177.292 860.331 Q174.237 855.725 174.237 846.998 Q174.237 838.248 177.292 833.665 Q180.371 829.058 186.181 829.058 Z\" fill=\"#000000\" fill-rule=\"nonzero\" fill-opacity=\"1\" /><path clip-path=\"url(#clip280)\" d=\"M216.343 832.762 Q212.732 832.762 210.903 836.327 Q209.098 839.868 209.098 846.998 Q209.098 854.104 210.903 857.669 Q212.732 861.211 216.343 861.211 Q219.977 861.211 221.783 857.669 Q223.611 854.104 223.611 846.998 Q223.611 839.868 221.783 836.327 Q219.977 832.762 216.343 832.762 M216.343 829.058 Q222.153 829.058 225.209 833.665 Q228.287 838.248 228.287 846.998 Q228.287 855.725 225.209 860.331 Q222.153 864.914 216.343 864.914 Q210.533 864.914 207.454 860.331 Q204.399 855.725 204.399 846.998 Q204.399 838.248 207.454 833.665 Q210.533 829.058 216.343 829.058 Z\" fill=\"#000000\" fill-rule=\"nonzero\" fill-opacity=\"1\" /><path clip-path=\"url(#clip280)\" d=\"M116.668 588.407 L124.306 588.407 L124.306 562.042 L115.996 563.709 L115.996 559.449 L124.26 557.783 L128.936 557.783 L128.936 588.407 L136.575 588.407 L136.575 592.343 L116.668 592.343 L116.668 588.407 Z\" fill=\"#000000\" fill-rule=\"nonzero\" fill-opacity=\"1\" /><path clip-path=\"url(#clip280)\" d=\"M146.066 557.783 L164.422 557.783 L164.422 561.718 L150.348 561.718 L150.348 570.19 Q151.366 569.843 152.385 569.681 Q153.403 569.496 154.422 569.496 Q160.209 569.496 163.589 572.667 Q166.968 575.838 166.968 581.255 Q166.968 586.833 163.496 589.935 Q160.024 593.014 153.704 593.014 Q151.528 593.014 149.26 592.644 Q147.015 592.273 144.607 591.532 L144.607 586.833 Q146.691 587.968 148.913 588.523 Q151.135 589.079 153.612 589.079 Q157.616 589.079 159.954 586.972 Q162.292 584.866 162.292 581.255 Q162.292 577.644 159.954 575.537 Q157.616 573.431 153.612 573.431 Q151.737 573.431 149.862 573.847 Q148.01 574.264 146.066 575.144 L146.066 557.783 Z\" fill=\"#000000\" fill-rule=\"nonzero\" fill-opacity=\"1\" /><path clip-path=\"url(#clip280)\" d=\"M186.181 560.861 Q182.57 560.861 180.741 564.426 Q178.936 567.968 178.936 575.097 Q178.936 582.204 180.741 585.769 Q182.57 589.31 186.181 589.31 Q189.815 589.31 191.621 585.769 Q193.45 582.204 193.45 575.097 Q193.45 567.968 191.621 564.426 Q189.815 560.861 186.181 560.861 M186.181 557.158 Q191.991 557.158 195.047 561.764 Q198.125 566.347 198.125 575.097 Q198.125 583.824 195.047 588.431 Q191.991 593.014 186.181 593.014 Q180.371 593.014 177.292 588.431 Q174.237 583.824 174.237 575.097 Q174.237 566.347 177.292 561.764 Q180.371 557.158 186.181 557.158 Z\" fill=\"#000000\" fill-rule=\"nonzero\" fill-opacity=\"1\" /><path clip-path=\"url(#clip280)\" d=\"M216.343 560.861 Q212.732 560.861 210.903 564.426 Q209.098 567.968 209.098 575.097 Q209.098 582.204 210.903 585.769 Q212.732 589.31 216.343 589.31 Q219.977 589.31 221.783 585.769 Q223.611 582.204 223.611 575.097 Q223.611 567.968 221.783 564.426 Q219.977 560.861 216.343 560.861 M216.343 557.158 Q222.153 557.158 225.209 561.764 Q228.287 566.347 228.287 575.097 Q228.287 583.824 225.209 588.431 Q222.153 593.014 216.343 593.014 Q210.533 593.014 207.454 588.431 Q204.399 583.824 204.399 575.097 Q204.399 566.347 207.454 561.764 Q210.533 557.158 216.343 557.158 Z\" fill=\"#000000\" fill-rule=\"nonzero\" fill-opacity=\"1\" /><path clip-path=\"url(#clip280)\" d=\"M119.885 316.507 L136.204 316.507 L136.204 320.442 L114.26 320.442 L114.26 316.507 Q116.922 313.752 121.505 309.123 Q126.112 304.47 127.292 303.127 Q129.538 300.604 130.417 298.868 Q131.32 297.109 131.32 295.419 Q131.32 292.665 129.376 290.928 Q127.455 289.192 124.353 289.192 Q122.154 289.192 119.7 289.956 Q117.269 290.72 114.492 292.271 L114.492 287.549 Q117.316 286.415 119.769 285.836 Q122.223 285.257 124.26 285.257 Q129.63 285.257 132.825 287.942 Q136.019 290.628 136.019 295.118 Q136.019 297.248 135.209 299.169 Q134.422 301.067 132.316 303.66 Q131.737 304.331 128.635 307.549 Q125.533 310.743 119.885 316.507 Z\" fill=\"#000000\" fill-rule=\"nonzero\" fill-opacity=\"1\" /><path clip-path=\"url(#clip280)\" d=\"M156.019 288.961 Q152.408 288.961 150.579 292.526 Q148.774 296.067 148.774 303.197 Q148.774 310.303 150.579 313.868 Q152.408 317.41 156.019 317.41 Q159.653 317.41 161.459 313.868 Q163.288 310.303 163.288 303.197 Q163.288 296.067 161.459 292.526 Q159.653 288.961 156.019 288.961 M156.019 285.257 Q161.829 285.257 164.885 289.864 Q167.964 294.447 167.964 303.197 Q167.964 311.924 164.885 316.53 Q161.829 321.113 156.019 321.113 Q150.209 321.113 147.13 316.53 Q144.075 311.924 144.075 303.197 Q144.075 294.447 147.13 289.864 Q150.209 285.257 156.019 285.257 Z\" fill=\"#000000\" fill-rule=\"nonzero\" fill-opacity=\"1\" /><path clip-path=\"url(#clip280)\" d=\"M186.181 288.961 Q182.57 288.961 180.741 292.526 Q178.936 296.067 178.936 303.197 Q178.936 310.303 180.741 313.868 Q182.57 317.41 186.181 317.41 Q189.815 317.41 191.621 313.868 Q193.45 310.303 193.45 303.197 Q193.45 296.067 191.621 292.526 Q189.815 288.961 186.181 288.961 M186.181 285.257 Q191.991 285.257 195.047 289.864 Q198.125 294.447 198.125 303.197 Q198.125 311.924 195.047 316.53 Q191.991 321.113 186.181 321.113 Q180.371 321.113 177.292 316.53 Q174.237 311.924 174.237 303.197 Q174.237 294.447 177.292 289.864 Q180.371 285.257 186.181 285.257 Z\" fill=\"#000000\" fill-rule=\"nonzero\" fill-opacity=\"1\" /><path clip-path=\"url(#clip280)\" d=\"M216.343 288.961 Q212.732 288.961 210.903 292.526 Q209.098 296.067 209.098 303.197 Q209.098 310.303 210.903 313.868 Q212.732 317.41 216.343 317.41 Q219.977 317.41 221.783 313.868 Q223.611 310.303 223.611 303.197 Q223.611 296.067 221.783 292.526 Q219.977 288.961 216.343 288.961 M216.343 285.257 Q222.153 285.257 225.209 289.864 Q228.287 294.447 228.287 303.197 Q228.287 311.924 225.209 316.53 Q222.153 321.113 216.343 321.113 Q210.533 321.113 207.454 316.53 Q204.399 311.924 204.399 303.197 Q204.399 294.447 207.454 289.864 Q210.533 285.257 216.343 285.257 Z\" fill=\"#000000\" fill-rule=\"nonzero\" fill-opacity=\"1\" /><path clip-path=\"url(#clip280)\" d=\"M42.4881 1009.19 L64.0042 1009.19 L64.0042 1015.05 L42.679 1015.05 Q37.6183 1015.05 35.1038 1017.02 Q32.5894 1019 32.5894 1022.94 Q32.5894 1027.68 35.6131 1030.42 Q38.6368 1033.16 43.8567 1033.16 L64.0042 1033.16 L64.0042 1039.05 L28.3562 1039.05 L28.3562 1033.16 L33.8944 1033.16 Q30.6797 1031.06 29.0883 1028.23 Q27.4968 1025.36 27.4968 1021.64 Q27.4968 1015.49 31.3163 1012.34 Q35.1038 1009.19 42.4881 1009.19 Z\" fill=\"#000000\" fill-rule=\"nonzero\" fill-opacity=\"1\" /><path clip-path=\"url(#clip280)\" d=\"M49.9359 998.116 L28.3562 998.116 L28.3562 992.259 L49.7131 992.259 Q54.7739 992.259 57.3202 990.286 Q59.8346 988.312 59.8346 984.366 Q59.8346 979.623 56.8109 976.886 Q53.7872 974.117 48.5673 974.117 L28.3562 974.117 L28.3562 968.26 L64.0042 968.26 L64.0042 974.117 L58.5296 974.117 Q61.7762 976.249 63.3676 979.082 Q64.9272 981.883 64.9272 985.607 Q64.9272 991.75 61.1078 994.933 Q57.2883 998.116 49.9359 998.116 M27.4968 983.379 L27.4968 983.379 Z\" fill=\"#000000\" fill-rule=\"nonzero\" fill-opacity=\"1\" /><path clip-path=\"url(#clip280)\" d=\"M35.1993 928.443 Q31.2526 926.247 29.3747 923.191 Q27.4968 920.136 27.4968 915.998 Q27.4968 910.428 31.4117 907.404 Q35.2948 904.381 42.4881 904.381 L64.0042 904.381 L64.0042 910.269 L42.679 910.269 Q37.5546 910.269 35.072 912.083 Q32.5894 913.897 32.5894 917.621 Q32.5894 922.173 35.6131 924.815 Q38.6368 927.456 43.8567 927.456 L64.0042 927.456 L64.0042 933.345 L42.679 933.345 Q37.5228 933.345 35.072 935.159 Q32.5894 936.973 32.5894 940.761 Q32.5894 945.248 35.6449 947.89 Q38.6686 950.532 43.8567 950.532 L64.0042 950.532 L64.0042 956.42 L28.3562 956.42 L28.3562 950.532 L33.8944 950.532 Q30.616 948.527 29.0564 945.726 Q27.4968 942.925 27.4968 939.074 Q27.4968 935.191 29.4702 932.485 Q31.4436 929.748 35.1993 928.443 Z\" fill=\"#000000\" fill-rule=\"nonzero\" fill-opacity=\"1\" /><path clip-path=\"url(#clip280)\" d=\"M46.212 867.109 Q39.7508 867.109 36.0905 869.783 Q32.3984 872.425 32.3984 877.072 Q32.3984 881.719 36.0905 884.392 Q39.7508 887.034 46.212 887.034 Q52.6732 887.034 56.3653 884.392 Q60.0256 881.719 60.0256 877.072 Q60.0256 872.425 56.3653 869.783 Q52.6732 867.109 46.212 867.109 M33.7671 887.034 Q30.5842 885.188 29.0564 882.387 Q27.4968 879.554 27.4968 875.639 Q27.4968 869.146 32.6531 865.104 Q37.8093 861.03 46.212 861.03 Q54.6147 861.03 59.771 865.104 Q64.9272 869.146 64.9272 875.639 Q64.9272 879.554 63.3994 882.387 Q61.8398 885.188 58.657 887.034 L64.0042 887.034 L64.0042 892.922 L14.479 892.922 L14.479 887.034 L33.7671 887.034 Z\" fill=\"#000000\" fill-rule=\"nonzero\" fill-opacity=\"1\" /><path clip-path=\"url(#clip280)\" d=\"M44.7161 820.831 L47.5806 820.831 L47.5806 847.758 Q53.6281 847.376 56.8109 844.129 Q59.9619 840.851 59.9619 835.026 Q59.9619 831.652 59.1344 828.501 Q58.3069 825.319 56.6518 822.199 L62.1899 822.199 Q63.5267 825.35 64.227 828.661 Q64.9272 831.971 64.9272 835.376 Q64.9272 843.906 59.9619 848.903 Q54.9967 853.869 46.5303 853.869 Q37.7774 853.869 32.6531 849.158 Q27.4968 844.416 27.4968 836.395 Q27.4968 829.202 32.1438 825.032 Q36.7589 820.831 44.7161 820.831 M42.9973 826.687 Q38.1912 826.751 35.3266 829.393 Q32.4621 832.003 32.4621 836.331 Q32.4621 841.233 35.2312 844.193 Q38.0002 847.121 43.0292 847.567 L42.9973 826.687 Z\" fill=\"#000000\" fill-rule=\"nonzero\" fill-opacity=\"1\" /><path clip-path=\"url(#clip280)\" d=\"M33.8307 790.562 Q33.2578 791.548 33.0032 792.726 Q32.7167 793.872 32.7167 795.272 Q32.7167 800.238 35.9632 802.911 Q39.1779 805.553 45.2253 805.553 L64.0042 805.553 L64.0042 811.441 L28.3562 811.441 L28.3562 805.553 L33.8944 805.553 Q30.6479 803.707 29.0883 800.747 Q27.4968 797.787 27.4968 793.554 Q27.4968 792.949 27.5923 792.217 Q27.656 791.485 27.8151 790.594 L33.8307 790.562 Z\" fill=\"#000000\" fill-rule=\"nonzero\" fill-opacity=\"1\" /><path clip-path=\"url(#clip280)\" d=\"M32.4621 749.885 Q32.4621 754.596 36.1542 757.333 Q39.8145 760.07 46.212 760.07 Q52.6095 760.07 56.3017 757.365 Q59.9619 754.627 59.9619 749.885 Q59.9619 745.206 56.2698 742.469 Q52.5777 739.732 46.212 739.732 Q39.8781 739.732 36.186 742.469 Q32.4621 745.206 32.4621 749.885 M27.4968 749.885 Q27.4968 742.246 32.4621 737.886 Q37.4273 733.525 46.212 733.525 Q54.9649 733.525 59.9619 737.886 Q64.9272 742.246 64.9272 749.885 Q64.9272 757.556 59.9619 761.916 Q54.9649 766.245 46.212 766.245 Q37.4273 766.245 32.4621 761.916 Q27.4968 757.556 27.4968 749.885 Z\" fill=\"#000000\" fill-rule=\"nonzero\" fill-opacity=\"1\" /><path clip-path=\"url(#clip280)\" d=\"M14.479 705.771 L19.3487 705.771 L19.3487 711.372 Q19.3487 714.523 20.6219 715.765 Q21.895 716.974 25.2052 716.974 L28.3562 716.974 L28.3562 707.33 L32.9077 707.33 L32.9077 716.974 L64.0042 716.974 L64.0042 722.862 L32.9077 722.862 L32.9077 728.464 L28.3562 728.464 L28.3562 722.862 L25.8736 722.862 Q19.9216 722.862 17.2162 720.093 Q14.479 717.324 14.479 711.309 L14.479 705.771 Z\" fill=\"#000000\" fill-rule=\"nonzero\" fill-opacity=\"1\" /><path clip-path=\"url(#clip280)\" d=\"M58.657 674.483 L77.5631 674.483 L77.5631 680.371 L28.3562 680.371 L28.3562 674.483 L33.7671 674.483 Q30.5842 672.637 29.0564 669.836 Q27.4968 667.003 27.4968 663.089 Q27.4968 656.595 32.6531 652.553 Q37.8093 648.479 46.212 648.479 Q54.6147 648.479 59.771 652.553 Q64.9272 656.595 64.9272 663.089 Q64.9272 667.003 63.3994 669.836 Q61.8398 672.637 58.657 674.483 M46.212 654.558 Q39.7508 654.558 36.0905 657.232 Q32.3984 659.874 32.3984 664.521 Q32.3984 669.168 36.0905 671.841 Q39.7508 674.483 46.212 674.483 Q52.6732 674.483 56.3653 671.841 Q60.0256 669.168 60.0256 664.521 Q60.0256 659.874 56.3653 657.232 Q52.6732 654.558 46.212 654.558 Z\" fill=\"#000000\" fill-rule=\"nonzero\" fill-opacity=\"1\" /><path clip-path=\"url(#clip280)\" d=\"M46.0847 622.571 Q46.0847 629.669 47.7079 632.406 Q49.3312 635.143 53.2461 635.143 Q56.3653 635.143 58.2114 633.106 Q60.0256 631.037 60.0256 627.504 Q60.0256 622.634 56.5881 619.706 Q53.1188 616.746 47.3897 616.746 L46.0847 616.746 L46.0847 622.571 M43.6657 610.89 L64.0042 610.89 L64.0042 616.746 L58.5933 616.746 Q61.8398 618.751 63.3994 621.743 Q64.9272 624.735 64.9272 629.064 Q64.9272 634.538 61.8716 637.785 Q58.7843 641 53.6281 641 Q47.6125 641 44.5569 636.989 Q41.5014 632.947 41.5014 624.958 L41.5014 616.746 L40.9285 616.746 Q36.8862 616.746 34.6901 619.42 Q32.4621 622.062 32.4621 626.868 Q32.4621 629.923 33.1941 632.82 Q33.9262 635.716 35.3903 638.39 L29.9795 638.39 Q28.7381 635.175 28.1334 632.151 Q27.4968 629.127 27.4968 626.263 Q27.4968 618.529 31.5072 614.709 Q35.5176 610.89 43.6657 610.89 Z\" fill=\"#000000\" fill-rule=\"nonzero\" fill-opacity=\"1\" /><path clip-path=\"url(#clip280)\" d=\"M18.2347 593.034 L28.3562 593.034 L28.3562 580.971 L32.9077 580.971 L32.9077 593.034 L52.2594 593.034 Q56.6199 593.034 57.8613 591.856 Q59.1026 590.647 59.1026 586.986 L59.1026 580.971 L64.0042 580.971 L64.0042 586.986 Q64.0042 593.766 61.4897 596.344 Q58.9434 598.922 52.2594 598.922 L32.9077 598.922 L32.9077 603.219 L28.3562 603.219 L28.3562 598.922 L18.2347 598.922 L18.2347 593.034 Z\" fill=\"#000000\" fill-rule=\"nonzero\" fill-opacity=\"1\" /><path clip-path=\"url(#clip280)\" d=\"M29.7248 547.615 L35.1993 547.615 Q33.8307 550.097 33.1623 552.612 Q32.4621 555.094 32.4621 557.641 Q32.4621 563.338 36.0905 566.489 Q39.6872 569.64 46.212 569.64 Q52.7369 569.64 56.3653 566.489 Q59.9619 563.338 59.9619 557.641 Q59.9619 555.094 59.2935 552.612 Q58.5933 550.097 57.2247 547.615 L62.6355 547.615 Q63.7814 550.065 64.3543 552.707 Q64.9272 555.317 64.9272 558.277 Q64.9272 566.33 59.8664 571.072 Q54.8057 575.815 46.212 575.815 Q37.491 575.815 32.4939 571.04 Q27.4968 566.234 27.4968 557.895 Q27.4968 555.19 28.0697 552.612 Q28.6108 550.034 29.7248 547.615 Z\" fill=\"#000000\" fill-rule=\"nonzero\" fill-opacity=\"1\" /><path clip-path=\"url(#clip280)\" d=\"M42.4881 507.797 L64.0042 507.797 L64.0042 513.654 L42.679 513.654 Q37.6183 513.654 35.1038 515.627 Q32.5894 517.6 32.5894 521.547 Q32.5894 526.289 35.6131 529.027 Q38.6368 531.764 43.8567 531.764 L64.0042 531.764 L64.0042 537.652 L14.479 537.652 L14.479 531.764 L33.8944 531.764 Q30.6797 529.663 29.0883 526.831 Q27.4968 523.966 27.4968 520.242 Q27.4968 514.099 31.3163 510.948 Q35.1038 507.797 42.4881 507.797 Z\" fill=\"#000000\" fill-rule=\"nonzero\" fill-opacity=\"1\" /><path clip-path=\"url(#clip280)\" d=\"M44.7161 465.624 L47.5806 465.624 L47.5806 492.551 Q53.6281 492.169 56.8109 488.923 Q59.9619 485.644 59.9619 479.82 Q59.9619 476.446 59.1344 473.295 Q58.3069 470.112 56.6518 466.993 L62.1899 466.993 Q63.5267 470.144 64.227 473.454 Q64.9272 476.764 64.9272 480.17 Q64.9272 488.7 59.9619 493.697 Q54.9967 498.662 46.5303 498.662 Q37.7774 498.662 32.6531 493.952 Q27.4968 489.209 27.4968 481.188 Q27.4968 473.995 32.1438 469.826 Q36.7589 465.624 44.7161 465.624 M42.9973 471.481 Q38.1912 471.544 35.3266 474.186 Q32.4621 476.796 32.4621 481.125 Q32.4621 486.026 35.2312 488.986 Q38.0002 491.915 43.0292 492.36 L42.9973 471.481 Z\" fill=\"#000000\" fill-rule=\"nonzero\" fill-opacity=\"1\" /><path clip-path=\"url(#clip280)\" d=\"M29.4065 433.287 L34.9447 433.287 Q33.6716 435.769 33.035 438.443 Q32.3984 441.116 32.3984 443.981 Q32.3984 448.341 33.7352 450.538 Q35.072 452.702 37.7456 452.702 Q39.7826 452.702 40.9603 451.142 Q42.1061 449.583 43.1565 444.872 L43.6021 442.867 Q44.9389 436.628 47.3897 434.019 Q49.8086 431.377 54.1691 431.377 Q59.1344 431.377 62.0308 435.324 Q64.9272 439.238 64.9272 446.113 Q64.9272 448.978 64.3543 452.097 Q63.8132 455.185 62.6992 458.622 L56.6518 458.622 Q58.3387 455.376 59.198 452.224 Q60.0256 449.073 60.0256 445.986 Q60.0256 441.848 58.6251 439.62 Q57.1929 437.392 54.6147 437.392 Q52.2276 437.392 50.9545 439.016 Q49.6813 440.607 48.5037 446.05 L48.0262 448.087 Q46.8804 453.529 44.5251 455.948 Q42.138 458.367 38.0002 458.367 Q32.9713 458.367 30.2341 454.803 Q27.4968 451.238 27.4968 444.681 Q27.4968 441.435 27.9743 438.57 Q28.4517 435.705 29.4065 433.287 Z\" fill=\"#000000\" fill-rule=\"nonzero\" fill-opacity=\"1\" /><polyline clip-path=\"url(#clip282)\" style=\"stroke:#009af9; stroke-linecap:round; stroke-linejoin:round; stroke-width:4; stroke-opacity:1; fill:none\" points=\"323.395,1384.24 327.335,1384.24 331.276,1384.24 335.216,1384.24 339.157,1384.24 343.097,1384.24 347.038,1384.24 350.978,1384.24 354.919,1384.24 358.859,1384.24 362.8,1384.24 366.74,1384.24 370.681,1384.24 374.622,1384.24 378.562,1384.24 382.503,1384.24 386.443,1384.24 390.384,1384.24 394.324,1384.24 398.265,1384.24 402.205,1384.24 406.146,1384.24 410.086,1384.24 414.027,1384.24 417.967,1384.24 421.908,1384.24 425.848,1384.24 429.789,1384.24 433.729,1384.24 437.67,1384.24 441.61,1384.24 445.551,1384.24 449.491,1384.24 453.432,1384.24 457.372,1384.24 461.313,1384.24 465.253,1384.24 469.194,1384.24 473.134,1384.24 477.075,1384.24 481.015,1384.24 484.956,1384.24 488.896,1384.24 492.837,1384.24 496.777,1384.24 500.718,1384.24 504.658,1384.24 508.599,1384.24 512.539,1384.24 516.48,1384.24 520.42,1384.24 524.361,1384.24 528.301,1384.24 532.242,1384.24 536.182,1384.24 540.123,1384.24 544.063,1384.24 548.004,1384.24 551.944,1384.24 555.885,1384.24 559.825,1384.24 563.766,1384.24 567.706,1384.24 571.647,1384.24 575.587,1384.24 579.528,1384.24 583.468,1384.24 587.409,1384.24 591.349,1384.24 595.29,1384.24 599.23,1384.24 603.171,1384.24 607.111,1384.24 611.052,1384.24 614.992,1384.24 618.933,1384.24 622.873,1384.24 626.814,1384.24 630.754,1384.24 634.695,1384.24 638.635,1384.24 642.576,1384.24 646.516,1384.24 650.457,1384.24 654.397,1384.24 658.338,1384.24 662.279,1384.24 666.219,1384.24 670.16,1384.24 674.1,1384.24 678.041,1384.24 681.981,1384.24 685.922,1384.24 689.862,1384.24 693.803,1384.24 697.743,1384.24 701.684,1384.24 705.624,1384.24 709.565,1384.24 713.505,1384.24 717.446,1384.24 721.386,1384.24 725.327,1384.24 729.267,1384.24 733.208,1384.24 737.148,1384.24 741.089,1384.24 745.029,1384.24 748.97,1384.24 752.91,1384.24 756.851,1384.24 760.791,1384.24 764.732,1384.24 768.672,1384.24 772.613,1384.24 776.553,1384.24 780.494,1384.24 784.434,1384.24 788.375,1384.24 792.315,1384.24 796.256,1384.24 800.196,1384.24 804.137,1384.24 808.077,1384.24 812.018,1384.24 815.958,1384.24 819.899,1384.24 823.839,1384.24 827.78,1384.24 831.72,1384.24 835.661,1384.24 839.601,1384.24 843.542,1384.24 847.482,1384.24 851.423,1384.24 855.363,1384.24 859.304,1384.24 863.244,1384.24 867.185,1384.24 871.125,1384.24 875.066,1384.24 879.006,1384.24 882.947,1384.24 886.887,1384.24 890.828,1384.24 894.768,1384.24 898.709,1384.24 902.649,1384.24 906.59,1384.24 910.53,1384.24 914.471,1384.24 918.411,1384.24 922.352,1384.24 926.292,1384.24 930.233,1384.24 934.173,1384.24 938.114,1384.24 942.054,1384.24 945.995,1384.24 949.935,1384.24 953.876,1384.24 957.817,1384.24 961.757,1384.24 965.698,1384.24 969.638,1384.24 973.579,1384.24 977.519,1384.24 981.46,1384.24 985.4,1384.24 989.341,1384.24 993.281,1384.24 997.222,1384.24 1001.16,1384.24 1005.1,1384.24 1009.04,1384.24 1012.98,1384.24 1016.92,1384.24 1020.86,1384.24 1024.81,1384.24 1028.75,1384.24 1032.69,1384.24 1036.63,1384.24 1040.57,1384.24 1044.51,1384.24 1048.45,1384.24 1052.39,1384.24 1056.33,1384.24 1060.27,1384.24 1064.21,1384.24 1068.15,1384.24 1072.09,1384.24 1076.03,1384.24 1079.97,1384.24 1083.91,1384.24 1087.85,1384.24 1091.79,1384.24 1095.73,1384.24 1099.67,1384.24 1103.62,1384.24 1107.56,1384.24 1111.5,1384.24 1115.44,1384.24 1119.38,1384.24 1123.32,1384.24 1127.26,1384.24 1131.2,1384.24 1135.14,1384.24 1139.08,1384.24 1143.02,1384.24 1146.96,1384.24 1150.9,1384.24 1154.84,1384.24 1158.78,1384.24 1162.72,1384.24 1166.66,1384.24 1170.6,1384.24 1174.54,1384.24 1178.48,1384.24 1182.43,1384.24 1186.37,1384.24 1190.31,1384.24 1194.25,1384.24 1198.19,1384.24 1202.13,1384.24 1206.07,1384.24 1210.01,1384.24 1213.95,1384.24 1217.89,1384.24 1221.83,1384.24 1225.77,1384.24 1229.71,1384.24 1233.65,1384.24 1237.59,1384.24 1241.53,1384.24 1245.47,1384.24 1249.41,1384.24 1253.35,1384.24 1257.3,1384.24 1261.24,1384.24 1265.18,1384.24 1269.12,1384.24 1273.06,1384.24 1277,1384.24 1280.94,1384.24 1284.88,1384.24 1288.82,1384.24 1292.76,1384.24 1296.7,1384.24 1300.64,1384.24 1304.58,1384.24 1308.52,1384.24 1312.46,1384.24 1316.4,1384.24 1320.34,1384.24 1324.28,1384.24 1328.22,1384.24 1332.16,1384.24 1336.11,1384.24 1340.05,1384.24 1343.99,1384.24 1347.93,1384.24 1351.87,1384.24 1355.81,1384.24 1359.75,1384.24 1363.69,1384.24 1367.63,1384.24 1371.57,1384.24 1375.51,1384.24 1379.45,1384.24 1383.39,1384.24 1387.33,1384.24 1391.27,1384.24 1395.21,1384.24 1399.15,1384.24 1403.09,1384.24 1407.03,1384.24 1410.97,1384.24 1414.92,1384.24 1418.86,1384.24 1422.8,1384.24 1426.74,1384.24 1430.68,1384.24 1434.62,1384.24 1438.56,1384.24 1442.5,1384.24 1446.44,1384.24 1450.38,1384.24 1454.32,1384.24 1458.26,1384.24 1462.2,1384.24 1466.14,1384.24 1470.08,1384.24 1474.02,1384.24 1477.96,1384.24 1481.9,1384.24 1485.84,1384.24 1489.78,1384.24 1493.73,1384.24 1497.67,1384.24 1501.61,1384.24 1505.55,1384.24 1509.49,1384.24 1513.43,1384.24 1517.37,1384.24 1521.31,1384.24 1525.25,1384.24 1529.19,1384.24 1533.13,1384.24 1537.07,1384.24 1541.01,1384.24 1544.95,1384.24 1548.89,1384.24 1552.83,1384.24 1556.77,1384.24 1560.71,1384.24 1564.65,1384.24 1568.6,1384.24 1572.54,1384.24 1576.48,1384.24 1580.42,1384.24 1584.36,1384.24 1588.3,1384.24 1592.24,1384.24 1596.18,1384.24 1600.12,1384.24 1604.06,1384.24 1608,1384.24 1611.94,1384.24 1615.88,1384.24 1619.82,1384.24 1623.76,1384.24 1627.7,1384.24 1631.64,1384.24 1635.58,1384.24 1639.52,1384.24 1643.46,1384.24 1647.41,1384.24 1651.35,1384.24 1655.29,1384.24 1659.23,1384.24 1663.17,1384.24 1667.11,1384.24 1671.05,1384.24 1674.99,1384.24 1678.93,1384.24 1682.87,1384.24 1686.81,1384.24 1690.75,1384.24 1694.69,1384.24 1698.63,1384.24 1702.57,1384.24 1706.51,1384.24 1710.45,1384.24 1714.39,1384.24 1718.33,1384.24 1722.27,1384.24 1726.22,1384.24 1730.16,1384.24 1734.1,1384.24 1738.04,1384.24 1741.98,1384.24 1745.92,1384.24 1749.86,1384.24 1753.8,1384.24 1757.74,1384.24 1761.68,1384.24 1765.62,1384.24 1769.56,1384.24 1773.5,1384.24 1777.44,1384.24 1781.38,1384.24 1785.32,1384.24 1789.26,1384.24 1793.2,1384.24 1797.14,1384.24 1801.08,1384.24 1805.03,1384.24 1808.97,1384.24 1812.91,1384.24 1816.85,1384.24 1820.79,1384.24 1824.73,1384.24 1828.67,1384.24 1832.61,1384.24 1836.55,1384.24 1840.49,1384.24 1844.43,1384.24 1848.37,1384.24 1852.31,1384.24 1856.25,1384.24 1860.19,1384.24 1864.13,1384.24 1868.07,1384.24 1872.01,1384.24 1875.95,1384.24 1879.9,1384.24 1883.84,1384.24 1887.78,1384.24 1891.72,1384.24 1895.66,1384.24 1899.6,1384.24 1903.54,1384.24 1907.48,1384.24 1911.42,1384.24 1915.36,1384.24 1919.3,1384.24 1923.24,1384.24 1927.18,1384.24 1931.12,1384.24 1935.06,1384.24 1939,1384.24 1942.94,1384.24 1946.88,1384.24 1950.82,1384.24 1954.76,1384.24 1958.71,1384.24 1962.65,1384.24 1966.59,1384.24 1970.53,1384.24 1974.47,1384.24 1978.41,1384.24 1982.35,1384.24 1986.29,1384.24 1990.23,1384.24 1994.17,1384.24 1998.11,1384.24 2002.05,1384.24 2005.99,1384.24 2009.93,1384.24 2013.87,1384.24 2017.81,1384.24 2021.75,1384.24 2025.69,1384.24 2029.63,1384.24 2033.57,1384.24 2037.52,1384.24 2041.46,1384.24 2045.4,1384.24 2049.34,1384.24 2053.28,1384.24 2057.22,1384.24 2061.16,1384.24 2065.1,1384.24 2069.04,1384.24 2072.98,1384.24 2076.92,1384.24 2080.86,1384.24 2084.8,1384.24 2088.74,1384.24 2092.68,1384.24 2096.62,1384.24 2100.56,1384.24 2104.5,1384.24 2108.44,1384.24 2112.38,1384.24 2116.33,1384.24 2120.27,1384.24 2124.21,1384.24 2128.15,1384.24 2132.09,1384.24 2136.03,1384.24 2139.97,1384.24 2143.91,1384.24 2147.85,1384.24 2151.79,1384.24 2155.73,1384.24 2159.67,1384.24 2163.61,1384.24 2167.55,1384.24 2171.49,1384.24 2175.43,1384.24 2179.37,1384.24 2183.31,1384.24 2187.25,1384.24 2191.2,1384.24 2195.14,1384.24 2199.08,1384.24 2203.02,1384.24 2206.96,1384.24 2210.9,1384.24 2214.84,1384.24 2218.78,1384.24 2222.72,1384.24 2226.66,1384.24 2230.6,1384.24 2234.54,1384.24 2238.48,1384.24 2242.42,1384.24 2246.36,1384.24 2250.3,1384.24 2254.24,1384.24 2258.18,1384.24 2262.12,1384.24 2266.06,1384.24 2270.01,1384.24 2273.95,1384.24 2277.89,1384.24 2281.83,1384.24 2285.77,1384.24 2289.71,1384.24 2293.65,1384.24 \"/>\n",
       "<polyline clip-path=\"url(#clip282)\" style=\"stroke:#e26f46; stroke-linecap:round; stroke-linejoin:round; stroke-width:4; stroke-opacity:1; fill:none\" points=\"323.395,1379.89 327.335,1379.89 331.276,1379.89 335.216,1379.89 339.157,1379.89 343.097,1379.89 347.038,1379.89 350.978,1379.89 354.919,1379.89 358.859,1379.89 362.8,1379.89 366.74,1379.89 370.681,1379.89 374.622,1379.89 378.562,1379.89 382.503,1379.89 386.443,1379.89 390.384,1379.89 394.324,1379.89 398.265,1379.89 402.205,1379.89 406.146,1379.89 410.086,1379.89 414.027,1379.89 417.967,1379.89 421.908,1379.89 425.848,1379.89 429.789,1379.89 433.729,1379.89 437.67,1379.89 441.61,1379.89 445.551,1379.89 449.491,1379.89 453.432,1379.89 457.372,1379.89 461.313,1379.89 465.253,1379.89 469.194,1379.89 473.134,1379.89 477.075,1379.89 481.015,1379.89 484.956,1379.89 488.896,1379.89 492.837,1379.89 496.777,1379.89 500.718,1379.89 504.658,1379.89 508.599,1379.89 512.539,1379.89 516.48,1379.89 520.42,1379.89 524.361,1379.89 528.301,1379.89 532.242,1379.89 536.182,1379.89 540.123,1379.89 544.063,1379.89 548.004,1379.89 551.944,1379.89 555.885,1379.89 559.825,1379.89 563.766,1379.89 567.706,1379.89 571.647,1379.89 575.587,1379.89 579.528,1379.89 583.468,1379.89 587.409,1379.89 591.349,1379.89 595.29,1379.89 599.23,1379.89 603.171,1379.89 607.111,1379.89 611.052,1379.89 614.992,1379.89 618.933,1379.89 622.873,1379.89 626.814,1379.89 630.754,1379.89 634.695,1379.89 638.635,1379.89 642.576,1379.89 646.516,1379.89 650.457,1379.89 654.397,1379.89 658.338,1379.89 662.279,1379.89 666.219,1379.89 670.16,1379.89 674.1,1379.89 678.041,1379.89 681.981,1379.89 685.922,1379.89 689.862,1379.89 693.803,1379.89 697.743,1379.89 701.684,1379.89 705.624,1379.89 709.565,1379.89 713.505,1379.89 717.446,1379.89 721.386,1379.89 725.327,1379.89 729.267,1379.89 733.208,1379.89 737.148,1379.89 741.089,1379.89 745.029,1379.89 748.97,1379.89 752.91,1379.89 756.851,1379.89 760.791,1379.89 764.732,1379.89 768.672,1379.89 772.613,1379.89 776.553,1379.89 780.494,1379.89 784.434,1379.89 788.375,1379.89 792.315,1379.89 796.256,1379.89 800.196,1379.89 804.137,1379.89 808.077,1379.89 812.018,1379.89 815.958,1379.89 819.899,1379.89 823.839,1379.89 827.78,1379.89 831.72,1379.89 835.661,1379.89 839.601,1379.89 843.542,1379.89 847.482,1379.89 851.423,1379.89 855.363,1379.89 859.304,1379.89 863.244,1379.89 867.185,1379.89 871.125,1379.89 875.066,1379.89 879.006,1379.89 882.947,1379.89 886.887,1379.89 890.828,1379.89 894.768,1379.89 898.709,1379.89 902.649,1379.89 906.59,1379.89 910.53,1379.89 914.471,1379.89 918.411,1379.89 922.352,1379.89 926.292,1379.89 930.233,1379.89 934.173,1379.89 938.114,1379.89 942.054,1379.89 945.995,1379.89 949.935,1379.89 953.876,1379.89 957.817,1379.89 961.757,1379.89 965.698,1379.89 969.638,1379.89 973.579,1379.89 977.519,1379.89 981.46,1379.89 985.4,1379.89 989.341,1379.89 993.281,1379.89 997.222,1379.89 1001.16,1379.89 1005.1,1379.89 1009.04,1379.89 1012.98,1379.89 1016.92,1379.89 1020.86,1379.89 1024.81,1379.89 1028.75,1379.89 1032.69,1379.89 1036.63,1379.89 1040.57,1379.89 1044.51,1379.89 1048.45,1379.89 1052.39,1379.89 1056.33,1379.89 1060.27,1379.89 1064.21,1379.89 1068.15,1379.89 1072.09,1379.89 1076.03,1379.89 1079.97,1379.89 1083.91,1379.89 1087.85,1379.89 1091.79,1379.89 1095.73,1379.89 1099.67,1379.89 1103.62,1379.89 1107.56,1379.89 1111.5,1379.89 1115.44,1379.89 1119.38,1379.89 1123.32,1379.89 1127.26,1379.89 1131.2,1379.89 1135.14,1379.89 1139.08,1379.89 1143.02,1379.89 1146.96,1379.89 1150.9,1379.89 1154.84,1379.89 1158.78,1379.89 1162.72,1379.89 1166.66,1379.89 1170.6,1379.89 1174.54,1379.89 1178.48,1379.89 1182.43,1379.89 1186.37,1379.89 1190.31,1379.89 1194.25,1379.89 1198.19,1379.89 1202.13,1379.89 1206.07,1379.89 1210.01,1379.89 1213.95,1379.89 1217.89,1379.89 1221.83,1379.89 1225.77,1379.89 1229.71,1379.89 1233.65,1379.89 1237.59,1379.89 1241.53,1379.89 1245.47,1379.89 1249.41,1379.89 1253.35,1379.89 1257.3,1379.89 1261.24,1379.89 1265.18,1379.89 1269.12,1379.89 1273.06,1379.89 1277,1379.89 1280.94,1379.89 1284.88,1379.89 1288.82,1379.89 1292.76,1379.89 1296.7,1379.89 1300.64,1379.89 1304.58,1379.89 1308.52,1379.89 1312.46,1379.89 1316.4,1379.89 1320.34,1379.89 1324.28,1379.89 1328.22,1379.89 1332.16,1379.89 1336.11,1379.89 1340.05,1379.89 1343.99,1379.89 1347.93,1379.89 1351.87,1379.89 1355.81,1379.89 1359.75,1379.89 1363.69,1379.89 1367.63,1379.89 1371.57,1379.89 1375.51,1379.89 1379.45,1379.89 1383.39,1379.89 1387.33,1379.89 1391.27,1379.89 1395.21,1379.89 1399.15,1379.89 1403.09,1379.89 1407.03,1379.89 1410.97,1379.89 1414.92,1379.89 1418.86,1379.89 1422.8,1379.89 1426.74,1379.89 1430.68,1379.89 1434.62,1379.89 1438.56,1379.89 1442.5,1379.89 1446.44,1379.89 1450.38,1379.89 1454.32,1379.89 1458.26,1379.89 1462.2,1379.89 1466.14,1379.89 1470.08,1379.89 1474.02,1379.89 1477.96,1379.89 1481.9,1379.89 1485.84,1379.89 1489.78,1379.89 1493.73,1379.89 1497.67,1379.89 1501.61,1379.89 1505.55,1379.89 1509.49,1379.89 1513.43,1379.89 1517.37,1379.89 1521.31,1379.89 1525.25,1379.89 1529.19,1379.89 1533.13,1379.89 1537.07,1379.89 1541.01,1379.89 1544.95,1379.89 1548.89,1379.89 1552.83,1379.89 1556.77,1379.89 1560.71,1379.89 1564.65,1379.89 1568.6,1379.89 1572.54,1379.89 1576.48,1379.89 1580.42,1379.89 1584.36,1379.89 1588.3,1379.89 1592.24,1379.89 1596.18,1379.89 1600.12,1379.89 1604.06,1379.89 1608,1379.89 1611.94,1379.89 1615.88,1379.89 1619.82,1379.89 1623.76,1379.89 1627.7,1379.89 1631.64,1379.89 1635.58,1379.89 1639.52,1379.89 1643.46,1379.89 1647.41,1379.89 1651.35,1379.89 1655.29,1379.89 1659.23,1379.89 1663.17,1379.89 1667.11,1379.89 1671.05,1379.89 1674.99,1379.89 1678.93,1379.89 1682.87,1379.89 1686.81,1379.89 1690.75,1379.89 1694.69,1379.89 1698.63,1379.89 1702.57,1379.89 1706.51,1379.89 1710.45,1379.89 1714.39,1379.89 1718.33,1379.89 1722.27,1379.89 1726.22,1379.89 1730.16,1379.89 1734.1,1379.89 1738.04,1379.89 1741.98,1379.89 1745.92,1379.89 1749.86,1379.89 1753.8,1379.89 1757.74,1379.89 1761.68,1379.89 1765.62,1379.89 1769.56,1379.89 1773.5,1379.89 1777.44,1379.89 1781.38,1379.89 1785.32,1379.89 1789.26,1379.89 1793.2,1379.89 1797.14,1379.89 1801.08,1379.89 1805.03,1379.89 1808.97,1379.89 1812.91,1379.89 1816.85,1379.89 1820.79,1379.89 1824.73,1379.89 1828.67,1379.89 1832.61,1379.89 1836.55,1379.89 1840.49,1379.89 1844.43,1379.89 1848.37,1379.89 1852.31,1379.89 1856.25,1379.89 1860.19,1379.89 1864.13,1379.89 1868.07,1379.89 1872.01,1379.89 1875.95,1379.89 1879.9,1379.89 1883.84,1379.89 1887.78,1379.89 1891.72,1379.89 1895.66,1379.89 1899.6,1379.89 1903.54,1379.89 1907.48,1379.89 1911.42,1379.89 1915.36,1379.89 1919.3,1379.89 1923.24,1379.89 1927.18,1379.89 1931.12,1379.89 1935.06,1379.89 1939,1379.89 1942.94,1379.89 1946.88,1379.89 1950.82,1379.89 1954.76,1379.89 1958.71,1379.89 1962.65,1379.89 1966.59,1379.89 1970.53,1379.89 1974.47,1379.89 1978.41,1379.89 1982.35,1379.89 1986.29,1379.89 1990.23,1379.89 1994.17,1379.89 1998.11,1379.89 2002.05,1379.89 2005.99,1379.89 2009.93,1379.89 2013.87,1379.89 2017.81,1379.89 2021.75,1379.89 2025.69,1379.89 2029.63,1379.89 2033.57,1379.89 2037.52,1379.89 2041.46,1379.89 2045.4,1379.89 2049.34,1379.89 2053.28,1379.89 2057.22,1379.89 2061.16,1379.89 2065.1,1379.89 2069.04,1379.89 2072.98,1379.89 2076.92,1379.89 2080.86,1379.89 2084.8,1379.89 2088.74,1379.89 2092.68,1379.89 2096.62,1379.89 2100.56,1379.89 2104.5,1379.89 2108.44,1379.89 2112.38,1379.89 2116.33,1379.89 2120.27,1379.89 2124.21,1379.89 2128.15,1379.89 2132.09,1379.89 2136.03,1379.89 2139.97,1379.89 2143.91,1379.89 2147.85,1379.89 2151.79,1379.89 2155.73,1379.89 2159.67,1379.89 2163.61,1379.89 2167.55,1379.89 2171.49,1379.89 2175.43,1379.89 2179.37,1379.89 2183.31,1379.89 2187.25,1379.89 2191.2,1379.89 2195.14,1379.89 2199.08,1379.89 2203.02,1379.89 2206.96,1379.89 2210.9,1379.89 2214.84,1379.89 2218.78,1379.89 2222.72,1379.89 2226.66,1379.89 2230.6,1379.89 2234.54,1379.89 2238.48,1379.89 2242.42,1379.89 2246.36,1379.89 2250.3,1379.89 2254.24,1379.89 2258.18,1379.89 2262.12,1379.89 2266.06,1379.89 2270.01,1379.89 2273.95,1379.89 2277.89,1379.89 2281.83,1379.89 2285.77,1379.89 2289.71,1379.89 2293.65,1379.89 \"/>\n",
       "<polyline clip-path=\"url(#clip282)\" style=\"stroke:#3da44d; stroke-linecap:round; stroke-linejoin:round; stroke-width:4; stroke-opacity:1; fill:none\" points=\"323.395,86.1857 327.335,86.1857 331.276,86.1857 335.216,86.1857 339.157,86.1857 343.097,86.1857 347.038,86.1857 350.978,86.1857 354.919,86.1857 358.859,86.1857 362.8,86.1857 366.74,86.1857 370.681,86.1857 374.622,86.1857 378.562,86.1857 382.503,86.1857 386.443,86.1857 390.384,86.1857 394.324,86.1857 398.265,86.1857 402.205,86.1857 406.146,86.1857 410.086,86.1857 414.027,86.1857 417.967,86.1857 421.908,86.1857 425.848,86.1857 429.789,86.1857 433.729,86.1857 437.67,86.1857 441.61,86.1857 445.551,86.1857 449.491,86.1857 453.432,86.1857 457.372,86.1857 461.313,86.1857 465.253,86.1857 469.194,86.1857 473.134,86.1857 477.075,86.1857 481.015,86.1857 484.956,86.1857 488.896,86.1857 492.837,86.1857 496.777,86.1857 500.718,86.1857 504.658,86.1857 508.599,86.1857 512.539,86.1857 516.48,86.1857 520.42,86.1857 524.361,86.1857 528.301,86.1857 532.242,86.1857 536.182,86.1857 540.123,86.1857 544.063,86.1857 548.004,86.1857 551.944,86.1857 555.885,86.1857 559.825,86.1857 563.766,86.1857 567.706,86.1857 571.647,86.1857 575.587,86.1857 579.528,86.1857 583.468,86.1857 587.409,86.1857 591.349,86.1857 595.29,86.1857 599.23,86.1857 603.171,86.1857 607.111,86.1857 611.052,86.1857 614.992,86.1857 618.933,86.1857 622.873,86.1857 626.814,86.1857 630.754,86.1857 634.695,86.1857 638.635,86.1857 642.576,86.1857 646.516,86.1857 650.457,86.1857 654.397,86.1857 658.338,86.1857 662.279,86.1857 666.219,86.1857 670.16,86.1857 674.1,86.1857 678.041,86.1857 681.981,86.1857 685.922,86.1857 689.862,86.1857 693.803,86.1857 697.743,86.1857 701.684,86.1857 705.624,86.1857 709.565,86.1857 713.505,86.1857 717.446,86.1857 721.386,86.1857 725.327,86.1857 729.267,86.1857 733.208,86.1857 737.148,86.1857 741.089,86.1857 745.029,86.1857 748.97,86.1857 752.91,86.1857 756.851,86.1857 760.791,86.1857 764.732,86.1857 768.672,86.1857 772.613,86.1857 776.553,86.1857 780.494,86.1857 784.434,86.1857 788.375,86.1857 792.315,86.1857 796.256,86.1857 800.196,86.1857 804.137,86.1857 808.077,86.1857 812.018,86.1857 815.958,86.1857 819.899,86.1857 823.839,86.1857 827.78,86.1857 831.72,86.1857 835.661,86.1857 839.601,86.1857 843.542,86.1857 847.482,86.1857 851.423,86.1857 855.363,86.1857 859.304,86.1857 863.244,86.1857 867.185,86.1857 871.125,86.1857 875.066,86.1857 879.006,86.1857 882.947,86.1857 886.887,86.1857 890.828,86.1857 894.768,86.1857 898.709,86.1857 902.649,86.1857 906.59,86.1857 910.53,86.1857 914.471,86.1857 918.411,86.1857 922.352,86.1857 926.292,86.1857 930.233,86.1857 934.173,86.1857 938.114,86.1857 942.054,86.1857 945.995,86.1857 949.935,86.1857 953.876,86.1857 957.817,86.1857 961.757,86.1857 965.698,86.1857 969.638,86.1857 973.579,86.1857 977.519,86.1857 981.46,86.1857 985.4,86.1857 989.341,86.1857 993.281,86.1857 997.222,86.1857 1001.16,86.1857 1005.1,86.1857 1009.04,86.1857 1012.98,86.1857 1016.92,86.1857 1020.86,86.1857 1024.81,86.1857 1028.75,86.1857 1032.69,86.1857 1036.63,86.1857 1040.57,86.1857 1044.51,86.1857 1048.45,86.1857 1052.39,86.1857 1056.33,86.1857 1060.27,86.1857 1064.21,86.1857 1068.15,86.1857 1072.09,86.1857 1076.03,86.1857 1079.97,86.1857 1083.91,86.1857 1087.85,86.1857 1091.79,86.1857 1095.73,86.1857 1099.67,86.1857 1103.62,86.1857 1107.56,86.1857 1111.5,86.1857 1115.44,86.1857 1119.38,86.1857 1123.32,86.1857 1127.26,86.1857 1131.2,86.1857 1135.14,86.1857 1139.08,86.1857 1143.02,86.1857 1146.96,86.1857 1150.9,86.1857 1154.84,86.1857 1158.78,86.1857 1162.72,86.1857 1166.66,86.1857 1170.6,86.1857 1174.54,86.1857 1178.48,86.1857 1182.43,86.1857 1186.37,86.1857 1190.31,86.1857 1194.25,86.1857 1198.19,86.1857 1202.13,86.1857 1206.07,86.1857 1210.01,86.1857 1213.95,86.1857 1217.89,86.1857 1221.83,86.1857 1225.77,86.1857 1229.71,86.1857 1233.65,86.1857 1237.59,86.1857 1241.53,86.1857 1245.47,86.1857 1249.41,86.1857 1253.35,86.1857 1257.3,86.1857 1261.24,86.1857 1265.18,86.1857 1269.12,86.1857 1273.06,86.1857 1277,86.1857 1280.94,86.1857 1284.88,86.1857 1288.82,86.1857 1292.76,86.1857 1296.7,86.1857 1300.64,86.1857 1304.58,86.1857 1308.52,86.1857 1312.46,86.1857 1316.4,86.1857 1320.34,86.1857 1324.28,86.1857 1328.22,86.1857 1332.16,86.1857 1336.11,86.1857 1340.05,86.1857 1343.99,86.1857 1347.93,86.1857 1351.87,86.1857 1355.81,86.1857 1359.75,86.1857 1363.69,86.1857 1367.63,86.1857 1371.57,86.1857 1375.51,86.1857 1379.45,86.1857 1383.39,86.1857 1387.33,86.1857 1391.27,86.1857 1395.21,86.1857 1399.15,86.1857 1403.09,86.1857 1407.03,86.1857 1410.97,86.1857 1414.92,86.1857 1418.86,86.1857 1422.8,86.1857 1426.74,86.1857 1430.68,86.1857 1434.62,86.1857 1438.56,86.1857 1442.5,86.1857 1446.44,86.1857 1450.38,86.1857 1454.32,86.1857 1458.26,86.1857 1462.2,86.1857 1466.14,86.1857 1470.08,86.1857 1474.02,86.1857 1477.96,86.1857 1481.9,86.1857 1485.84,86.1857 1489.78,86.1857 1493.73,86.1857 1497.67,86.1857 1501.61,86.1857 1505.55,86.1857 1509.49,86.1857 1513.43,86.1857 1517.37,86.1857 1521.31,86.1857 1525.25,86.1857 1529.19,86.1857 1533.13,86.1857 1537.07,86.1857 1541.01,86.1857 1544.95,86.1857 1548.89,86.1857 1552.83,86.1857 1556.77,86.1857 1560.71,86.1857 1564.65,86.1857 1568.6,86.1857 1572.54,86.1857 1576.48,86.1857 1580.42,86.1857 1584.36,86.1857 1588.3,86.1857 1592.24,86.1857 1596.18,86.1857 1600.12,86.1857 1604.06,86.1857 1608,86.1857 1611.94,86.1857 1615.88,86.1857 1619.82,86.1857 1623.76,86.1857 1627.7,86.1857 1631.64,86.1857 1635.58,86.1857 1639.52,86.1857 1643.46,86.1857 1647.41,86.1857 1651.35,86.1857 1655.29,86.1857 1659.23,86.1857 1663.17,86.1857 1667.11,86.1857 1671.05,86.1857 1674.99,86.1857 1678.93,86.1857 1682.87,86.1857 1686.81,86.1857 1690.75,86.1857 1694.69,86.1857 1698.63,86.1857 1702.57,86.1857 1706.51,86.1857 1710.45,86.1857 1714.39,86.1857 1718.33,86.1857 1722.27,86.1857 1726.22,86.1857 1730.16,86.1857 1734.1,86.1857 1738.04,86.1857 1741.98,86.1857 1745.92,86.1857 1749.86,86.1857 1753.8,86.1857 1757.74,86.1857 1761.68,86.1857 1765.62,86.1857 1769.56,86.1857 1773.5,86.1857 1777.44,86.1857 1781.38,86.1857 1785.32,86.1857 1789.26,86.1857 1793.2,86.1857 1797.14,86.1857 1801.08,86.1857 1805.03,86.1857 1808.97,86.1857 1812.91,86.1857 1816.85,86.1857 1820.79,86.1857 1824.73,86.1857 1828.67,86.1857 1832.61,86.1857 1836.55,86.1857 1840.49,86.1857 1844.43,86.1857 1848.37,86.1857 1852.31,86.1857 1856.25,86.1857 1860.19,86.1857 1864.13,86.1857 1868.07,86.1857 1872.01,86.1857 1875.95,86.1857 1879.9,86.1857 1883.84,86.1857 1887.78,86.1857 1891.72,86.1857 1895.66,86.1857 1899.6,86.1857 1903.54,86.1857 1907.48,86.1857 1911.42,86.1857 1915.36,86.1857 1919.3,86.1857 1923.24,86.1857 1927.18,86.1857 1931.12,86.1857 1935.06,86.1857 1939,86.1857 1942.94,86.1857 1946.88,86.1857 1950.82,86.1857 1954.76,86.1857 1958.71,86.1857 1962.65,86.1857 1966.59,86.1857 1970.53,86.1857 1974.47,86.1857 1978.41,86.1857 1982.35,86.1857 1986.29,86.1857 1990.23,86.1857 1994.17,86.1857 1998.11,86.1857 2002.05,86.1857 2005.99,86.1857 2009.93,86.1857 2013.87,86.1857 2017.81,86.1857 2021.75,86.1857 2025.69,86.1857 2029.63,86.1857 2033.57,86.1857 2037.52,86.1857 2041.46,86.1857 2045.4,86.1857 2049.34,86.1857 2053.28,86.1857 2057.22,86.1857 2061.16,86.1857 2065.1,86.1857 2069.04,86.1857 2072.98,86.1857 2076.92,86.1857 2080.86,86.1857 2084.8,86.1857 2088.74,86.1857 2092.68,86.1857 2096.62,86.1857 2100.56,86.1857 2104.5,86.1857 2108.44,86.1857 2112.38,86.1857 2116.33,86.1857 2120.27,86.1857 2124.21,86.1857 2128.15,86.1857 2132.09,86.1857 2136.03,86.1857 2139.97,86.1857 2143.91,86.1857 2147.85,86.1857 2151.79,86.1857 2155.73,86.1857 2159.67,86.1857 2163.61,86.1857 2167.55,86.1857 2171.49,86.1857 2175.43,86.1857 2179.37,86.1857 2183.31,86.1857 2187.25,86.1857 2191.2,86.1857 2195.14,86.1857 2199.08,86.1857 2203.02,86.1857 2206.96,86.1857 2210.9,86.1857 2214.84,86.1857 2218.78,86.1857 2222.72,86.1857 2226.66,86.1857 2230.6,86.1857 2234.54,86.1857 2238.48,86.1857 2242.42,86.1857 2246.36,86.1857 2250.3,86.1857 2254.24,86.1857 2258.18,86.1857 2262.12,86.1857 2266.06,86.1857 2270.01,86.1857 2273.95,86.1857 2277.89,86.1857 2281.83,86.1857 2285.77,86.1857 2289.71,86.1857 2293.65,86.1857 \"/>\n",
       "<polyline clip-path=\"url(#clip282)\" style=\"stroke:#c271d2; stroke-linecap:round; stroke-linejoin:round; stroke-width:4; stroke-opacity:1; fill:none\" points=\"323.395,1369.01 327.335,1369.01 331.276,1369.01 335.216,1369.01 339.157,1369.01 343.097,1369.01 347.038,1369.01 350.978,1369.01 354.919,1369.01 358.859,1369.01 362.8,1369.01 366.74,1369.01 370.681,1369.01 374.622,1369.01 378.562,1369.01 382.503,1369.01 386.443,1369.01 390.384,1369.01 394.324,1369.01 398.265,1369.01 402.205,1369.01 406.146,1369.01 410.086,1369.01 414.027,1369.01 417.967,1369.01 421.908,1369.01 425.848,1369.01 429.789,1369.01 433.729,1369.01 437.67,1369.01 441.61,1369.01 445.551,1369.01 449.491,1369.01 453.432,1369.01 457.372,1369.01 461.313,1369.01 465.253,1369.01 469.194,1369.01 473.134,1369.01 477.075,1369.01 481.015,1369.01 484.956,1369.01 488.896,1369.01 492.837,1369.01 496.777,1369.01 500.718,1369.01 504.658,1369.01 508.599,1369.01 512.539,1369.01 516.48,1369.01 520.42,1369.01 524.361,1369.01 528.301,1369.01 532.242,1369.01 536.182,1369.01 540.123,1369.01 544.063,1369.01 548.004,1369.01 551.944,1369.01 555.885,1369.01 559.825,1369.01 563.766,1369.01 567.706,1369.01 571.647,1369.01 575.587,1369.01 579.528,1369.01 583.468,1369.01 587.409,1369.01 591.349,1369.01 595.29,1369.01 599.23,1369.01 603.171,1369.01 607.111,1369.01 611.052,1369.01 614.992,1369.01 618.933,1369.01 622.873,1369.01 626.814,1369.01 630.754,1369.01 634.695,1369.01 638.635,1369.01 642.576,1369.01 646.516,1369.01 650.457,1369.01 654.397,1369.01 658.338,1369.01 662.279,1369.01 666.219,1369.01 670.16,1369.01 674.1,1369.01 678.041,1369.01 681.981,1369.01 685.922,1369.01 689.862,1369.01 693.803,1369.01 697.743,1369.01 701.684,1369.01 705.624,1369.01 709.565,1369.01 713.505,1369.01 717.446,1369.01 721.386,1369.01 725.327,1369.01 729.267,1369.01 733.208,1369.01 737.148,1369.01 741.089,1369.01 745.029,1369.01 748.97,1369.01 752.91,1369.01 756.851,1369.01 760.791,1369.01 764.732,1369.01 768.672,1369.01 772.613,1369.01 776.553,1369.01 780.494,1369.01 784.434,1369.01 788.375,1369.01 792.315,1369.01 796.256,1369.01 800.196,1369.01 804.137,1369.01 808.077,1369.01 812.018,1369.01 815.958,1369.01 819.899,1369.01 823.839,1369.01 827.78,1369.01 831.72,1369.01 835.661,1369.01 839.601,1369.01 843.542,1369.01 847.482,1369.01 851.423,1369.01 855.363,1369.01 859.304,1369.01 863.244,1369.01 867.185,1369.01 871.125,1369.01 875.066,1369.01 879.006,1369.01 882.947,1369.01 886.887,1369.01 890.828,1369.01 894.768,1369.01 898.709,1369.01 902.649,1369.01 906.59,1369.01 910.53,1369.01 914.471,1369.01 918.411,1369.01 922.352,1369.01 926.292,1369.01 930.233,1369.01 934.173,1369.01 938.114,1369.01 942.054,1369.01 945.995,1369.01 949.935,1369.01 953.876,1369.01 957.817,1369.01 961.757,1369.01 965.698,1369.01 969.638,1369.01 973.579,1369.01 977.519,1369.01 981.46,1369.01 985.4,1369.01 989.341,1369.01 993.281,1369.01 997.222,1369.01 1001.16,1369.01 1005.1,1369.01 1009.04,1369.01 1012.98,1369.01 1016.92,1369.01 1020.86,1369.01 1024.81,1369.01 1028.75,1369.01 1032.69,1369.01 1036.63,1369.01 1040.57,1369.01 1044.51,1369.01 1048.45,1369.01 1052.39,1369.01 1056.33,1369.01 1060.27,1369.01 1064.21,1369.01 1068.15,1369.01 1072.09,1369.01 1076.03,1369.01 1079.97,1369.01 1083.91,1369.01 1087.85,1369.01 1091.79,1369.01 1095.73,1369.01 1099.67,1369.01 1103.62,1369.01 1107.56,1369.01 1111.5,1369.01 1115.44,1369.01 1119.38,1369.01 1123.32,1369.01 1127.26,1369.01 1131.2,1369.01 1135.14,1369.01 1139.08,1369.01 1143.02,1369.01 1146.96,1369.01 1150.9,1369.01 1154.84,1369.01 1158.78,1369.01 1162.72,1369.01 1166.66,1369.01 1170.6,1369.01 1174.54,1369.01 1178.48,1369.01 1182.43,1369.01 1186.37,1369.01 1190.31,1369.01 1194.25,1369.01 1198.19,1369.01 1202.13,1369.01 1206.07,1369.01 1210.01,1369.01 1213.95,1369.01 1217.89,1369.01 1221.83,1369.01 1225.77,1369.01 1229.71,1369.01 1233.65,1369.01 1237.59,1369.01 1241.53,1369.01 1245.47,1369.01 1249.41,1369.01 1253.35,1369.01 1257.3,1369.01 1261.24,1369.01 1265.18,1369.01 1269.12,1369.01 1273.06,1369.01 1277,1369.01 1280.94,1369.01 1284.88,1369.01 1288.82,1369.01 1292.76,1369.01 1296.7,1369.01 1300.64,1369.01 1304.58,1369.01 1308.52,1369.01 1312.46,1369.01 1316.4,1369.01 1320.34,1369.01 1324.28,1369.01 1328.22,1369.01 1332.16,1369.01 1336.11,1369.01 1340.05,1369.01 1343.99,1369.01 1347.93,1369.01 1351.87,1369.01 1355.81,1369.01 1359.75,1369.01 1363.69,1369.01 1367.63,1369.01 1371.57,1369.01 1375.51,1369.01 1379.45,1369.01 1383.39,1369.01 1387.33,1369.01 1391.27,1369.01 1395.21,1369.01 1399.15,1369.01 1403.09,1369.01 1407.03,1369.01 1410.97,1369.01 1414.92,1369.01 1418.86,1369.01 1422.8,1369.01 1426.74,1369.01 1430.68,1369.01 1434.62,1369.01 1438.56,1369.01 1442.5,1369.01 1446.44,1369.01 1450.38,1369.01 1454.32,1369.01 1458.26,1369.01 1462.2,1369.01 1466.14,1369.01 1470.08,1369.01 1474.02,1369.01 1477.96,1369.01 1481.9,1369.01 1485.84,1369.01 1489.78,1369.01 1493.73,1369.01 1497.67,1369.01 1501.61,1369.01 1505.55,1369.01 1509.49,1369.01 1513.43,1369.01 1517.37,1369.01 1521.31,1369.01 1525.25,1369.01 1529.19,1369.01 1533.13,1369.01 1537.07,1369.01 1541.01,1369.01 1544.95,1369.01 1548.89,1369.01 1552.83,1369.01 1556.77,1369.01 1560.71,1369.01 1564.65,1369.01 1568.6,1369.01 1572.54,1369.01 1576.48,1369.01 1580.42,1369.01 1584.36,1369.01 1588.3,1369.01 1592.24,1369.01 1596.18,1369.01 1600.12,1369.01 1604.06,1369.01 1608,1369.01 1611.94,1369.01 1615.88,1369.01 1619.82,1369.01 1623.76,1369.01 1627.7,1369.01 1631.64,1369.01 1635.58,1369.01 1639.52,1369.01 1643.46,1369.01 1647.41,1369.01 1651.35,1369.01 1655.29,1369.01 1659.23,1369.01 1663.17,1369.01 1667.11,1369.01 1671.05,1369.01 1674.99,1369.01 1678.93,1369.01 1682.87,1369.01 1686.81,1369.01 1690.75,1369.01 1694.69,1369.01 1698.63,1369.01 1702.57,1369.01 1706.51,1369.01 1710.45,1369.01 1714.39,1369.01 1718.33,1369.01 1722.27,1369.01 1726.22,1369.01 1730.16,1369.01 1734.1,1369.01 1738.04,1369.01 1741.98,1369.01 1745.92,1369.01 1749.86,1369.01 1753.8,1369.01 1757.74,1369.01 1761.68,1369.01 1765.62,1369.01 1769.56,1369.01 1773.5,1369.01 1777.44,1369.01 1781.38,1369.01 1785.32,1369.01 1789.26,1369.01 1793.2,1369.01 1797.14,1369.01 1801.08,1369.01 1805.03,1369.01 1808.97,1369.01 1812.91,1369.01 1816.85,1369.01 1820.79,1369.01 1824.73,1369.01 1828.67,1369.01 1832.61,1369.01 1836.55,1369.01 1840.49,1369.01 1844.43,1369.01 1848.37,1369.01 1852.31,1369.01 1856.25,1369.01 1860.19,1369.01 1864.13,1369.01 1868.07,1369.01 1872.01,1369.01 1875.95,1369.01 1879.9,1369.01 1883.84,1369.01 1887.78,1369.01 1891.72,1369.01 1895.66,1369.01 1899.6,1369.01 1903.54,1369.01 1907.48,1369.01 1911.42,1369.01 1915.36,1369.01 1919.3,1369.01 1923.24,1369.01 1927.18,1369.01 1931.12,1369.01 1935.06,1369.01 1939,1369.01 1942.94,1369.01 1946.88,1369.01 1950.82,1369.01 1954.76,1369.01 1958.71,1369.01 1962.65,1369.01 1966.59,1369.01 1970.53,1369.01 1974.47,1369.01 1978.41,1369.01 1982.35,1369.01 1986.29,1369.01 1990.23,1369.01 1994.17,1369.01 1998.11,1369.01 2002.05,1369.01 2005.99,1369.01 2009.93,1369.01 2013.87,1369.01 2017.81,1369.01 2021.75,1369.01 2025.69,1369.01 2029.63,1369.01 2033.57,1369.01 2037.52,1369.01 2041.46,1369.01 2045.4,1369.01 2049.34,1369.01 2053.28,1369.01 2057.22,1369.01 2061.16,1369.01 2065.1,1369.01 2069.04,1369.01 2072.98,1369.01 2076.92,1369.01 2080.86,1369.01 2084.8,1369.01 2088.74,1369.01 2092.68,1369.01 2096.62,1369.01 2100.56,1369.01 2104.5,1369.01 2108.44,1369.01 2112.38,1369.01 2116.33,1369.01 2120.27,1369.01 2124.21,1369.01 2128.15,1369.01 2132.09,1369.01 2136.03,1369.01 2139.97,1369.01 2143.91,1369.01 2147.85,1369.01 2151.79,1369.01 2155.73,1369.01 2159.67,1369.01 2163.61,1369.01 2167.55,1369.01 2171.49,1369.01 2175.43,1369.01 2179.37,1369.01 2183.31,1369.01 2187.25,1369.01 2191.2,1369.01 2195.14,1369.01 2199.08,1369.01 2203.02,1369.01 2206.96,1369.01 2210.9,1369.01 2214.84,1369.01 2218.78,1369.01 2222.72,1369.01 2226.66,1369.01 2230.6,1369.01 2234.54,1369.01 2238.48,1369.01 2242.42,1369.01 2246.36,1369.01 2250.3,1369.01 2254.24,1369.01 2258.18,1369.01 2262.12,1369.01 2266.06,1369.01 2270.01,1369.01 2273.95,1369.01 2277.89,1369.01 2281.83,1369.01 2285.77,1369.01 2289.71,1369.01 2293.65,1369.01 \"/>\n",
       "<path clip-path=\"url(#clip280)\" d=\"M1896.24 352.309 L2283.14 352.309 L2283.14 93.1086 L1896.24 93.1086  Z\" fill=\"#ffffff\" fill-rule=\"evenodd\" fill-opacity=\"1\"/>\n",
       "<polyline clip-path=\"url(#clip280)\" style=\"stroke:#000000; stroke-linecap:round; stroke-linejoin:round; stroke-width:4; stroke-opacity:1; fill:none\" points=\"1896.24,352.309 2283.14,352.309 2283.14,93.1086 1896.24,93.1086 1896.24,352.309 \"/>\n",
       "<polyline clip-path=\"url(#clip280)\" style=\"stroke:#009af9; stroke-linecap:round; stroke-linejoin:round; stroke-width:4; stroke-opacity:1; fill:none\" points=\"1919.44,144.949 2058.68,144.949 \"/>\n",
       "<path clip-path=\"url(#clip280)\" d=\"M2100.31 137.067 L2100.31 141.094 Q2098.5 140.169 2096.56 139.706 Q2094.61 139.243 2092.53 139.243 Q2089.36 139.243 2087.76 140.215 Q2086.19 141.187 2086.19 143.131 Q2086.19 144.613 2087.32 145.469 Q2088.45 146.303 2091.88 147.067 L2093.34 147.391 Q2097.88 148.363 2099.77 150.145 Q2101.7 151.905 2101.7 155.076 Q2101.7 158.687 2098.82 160.793 Q2095.98 162.9 2090.98 162.9 Q2088.89 162.9 2086.63 162.483 Q2084.38 162.09 2081.88 161.28 L2081.88 156.881 Q2084.24 158.108 2086.53 158.733 Q2088.82 159.335 2091.07 159.335 Q2094.08 159.335 2095.7 158.317 Q2097.32 157.275 2097.32 155.4 Q2097.32 153.664 2096.14 152.738 Q2094.98 151.812 2091.02 150.956 L2089.54 150.608 Q2085.58 149.775 2083.82 148.062 Q2082.07 146.326 2082.07 143.317 Q2082.07 139.659 2084.66 137.669 Q2087.25 135.678 2092.02 135.678 Q2094.38 135.678 2096.46 136.025 Q2098.55 136.372 2100.31 137.067 Z\" fill=\"#000000\" fill-rule=\"nonzero\" fill-opacity=\"1\" /><path clip-path=\"url(#clip280)\" d=\"M2120.26 149.196 Q2115.1 149.196 2113.11 150.377 Q2111.12 151.557 2111.12 154.405 Q2111.12 156.673 2112.6 158.016 Q2114.1 159.335 2116.67 159.335 Q2120.21 159.335 2122.34 156.835 Q2124.5 154.312 2124.5 150.145 L2124.5 149.196 L2120.26 149.196 M2128.76 147.437 L2128.76 162.229 L2124.5 162.229 L2124.5 158.293 Q2123.04 160.655 2120.86 161.789 Q2118.69 162.9 2115.54 162.9 Q2111.56 162.9 2109.2 160.678 Q2106.86 158.432 2106.86 154.682 Q2106.86 150.307 2109.77 148.085 Q2112.71 145.863 2118.52 145.863 L2124.5 145.863 L2124.5 145.446 Q2124.5 142.507 2122.55 140.909 Q2120.63 139.289 2117.13 139.289 Q2114.91 139.289 2112.81 139.821 Q2110.7 140.354 2108.76 141.419 L2108.76 137.483 Q2111.09 136.581 2113.29 136.141 Q2115.49 135.678 2117.57 135.678 Q2123.2 135.678 2125.98 138.594 Q2128.76 141.511 2128.76 147.437 Z\" fill=\"#000000\" fill-rule=\"nonzero\" fill-opacity=\"1\" /><path clip-path=\"url(#clip280)\" d=\"M2159.08 146.581 L2159.08 162.229 L2154.82 162.229 L2154.82 146.719 Q2154.82 143.039 2153.38 141.21 Q2151.95 139.382 2149.08 139.382 Q2145.63 139.382 2143.64 141.581 Q2141.65 143.78 2141.65 147.576 L2141.65 162.229 L2137.37 162.229 L2137.37 136.303 L2141.65 136.303 L2141.65 140.331 Q2143.18 137.993 2145.24 136.835 Q2147.32 135.678 2150.03 135.678 Q2154.5 135.678 2156.79 138.456 Q2159.08 141.21 2159.08 146.581 Z\" fill=\"#000000\" fill-rule=\"nonzero\" fill-opacity=\"1\" /><path clip-path=\"url(#clip280)\" d=\"M2184.63 140.238 L2184.63 126.21 L2188.89 126.21 L2188.89 162.229 L2184.63 162.229 L2184.63 158.34 Q2183.29 160.655 2181.23 161.789 Q2179.19 162.9 2176.32 162.9 Q2171.63 162.9 2168.66 159.15 Q2165.72 155.4 2165.72 149.289 Q2165.72 143.178 2168.66 139.428 Q2171.63 135.678 2176.32 135.678 Q2179.19 135.678 2181.23 136.812 Q2183.29 137.923 2184.63 140.238 M2170.12 149.289 Q2170.12 153.988 2172.04 156.673 Q2173.99 159.335 2177.37 159.335 Q2180.75 159.335 2182.69 156.673 Q2184.63 153.988 2184.63 149.289 Q2184.63 144.59 2182.69 141.928 Q2180.75 139.243 2177.37 139.243 Q2173.99 139.243 2172.04 141.928 Q2170.12 144.59 2170.12 149.289 Z\" fill=\"#000000\" fill-rule=\"nonzero\" fill-opacity=\"1\" /><path clip-path=\"url(#clip280)\" d=\"M2198.22 140.701 L2227.9 140.701 L2227.9 144.59 L2198.22 144.59 L2198.22 140.701 M2198.22 150.145 L2227.9 150.145 L2227.9 154.081 L2198.22 154.081 L2198.22 150.145 Z\" fill=\"#000000\" fill-rule=\"nonzero\" fill-opacity=\"1\" /><path clip-path=\"url(#clip280)\" d=\"M2247.99 130.747 Q2244.38 130.747 2242.55 134.312 Q2240.75 137.854 2240.75 144.983 Q2240.75 152.09 2242.55 155.655 Q2244.38 159.196 2247.99 159.196 Q2251.62 159.196 2253.43 155.655 Q2255.26 152.09 2255.26 144.983 Q2255.26 137.854 2253.43 134.312 Q2251.62 130.747 2247.99 130.747 M2247.99 127.044 Q2253.8 127.044 2256.86 131.65 Q2259.94 136.233 2259.94 144.983 Q2259.94 153.71 2256.86 158.317 Q2253.8 162.9 2247.99 162.9 Q2242.18 162.9 2239.1 158.317 Q2236.05 153.71 2236.05 144.983 Q2236.05 136.233 2239.1 131.65 Q2242.18 127.044 2247.99 127.044 Z\" fill=\"#000000\" fill-rule=\"nonzero\" fill-opacity=\"1\" /><polyline clip-path=\"url(#clip280)\" style=\"stroke:#e26f46; stroke-linecap:round; stroke-linejoin:round; stroke-width:4; stroke-opacity:1; fill:none\" points=\"1919.44,196.789 2058.68,196.789 \"/>\n",
       "<path clip-path=\"url(#clip280)\" d=\"M2100.31 188.907 L2100.31 192.934 Q2098.5 192.009 2096.56 191.546 Q2094.61 191.083 2092.53 191.083 Q2089.36 191.083 2087.76 192.055 Q2086.19 193.027 2086.19 194.971 Q2086.19 196.453 2087.32 197.309 Q2088.45 198.143 2091.88 198.907 L2093.34 199.231 Q2097.88 200.203 2099.77 201.985 Q2101.7 203.745 2101.7 206.916 Q2101.7 210.527 2098.82 212.633 Q2095.98 214.74 2090.98 214.74 Q2088.89 214.74 2086.63 214.323 Q2084.38 213.93 2081.88 213.12 L2081.88 208.721 Q2084.24 209.948 2086.53 210.573 Q2088.82 211.175 2091.07 211.175 Q2094.08 211.175 2095.7 210.157 Q2097.32 209.115 2097.32 207.24 Q2097.32 205.504 2096.14 204.578 Q2094.98 203.652 2091.02 202.796 L2089.54 202.448 Q2085.58 201.615 2083.82 199.902 Q2082.07 198.166 2082.07 195.157 Q2082.07 191.499 2084.66 189.509 Q2087.25 187.518 2092.02 187.518 Q2094.38 187.518 2096.46 187.865 Q2098.55 188.212 2100.31 188.907 Z\" fill=\"#000000\" fill-rule=\"nonzero\" fill-opacity=\"1\" /><path clip-path=\"url(#clip280)\" d=\"M2120.26 201.036 Q2115.1 201.036 2113.11 202.217 Q2111.12 203.397 2111.12 206.245 Q2111.12 208.513 2112.6 209.856 Q2114.1 211.175 2116.67 211.175 Q2120.21 211.175 2122.34 208.675 Q2124.5 206.152 2124.5 201.985 L2124.5 201.036 L2120.26 201.036 M2128.76 199.277 L2128.76 214.069 L2124.5 214.069 L2124.5 210.133 Q2123.04 212.495 2120.86 213.629 Q2118.69 214.74 2115.54 214.74 Q2111.56 214.74 2109.2 212.518 Q2106.86 210.272 2106.86 206.522 Q2106.86 202.147 2109.77 199.925 Q2112.71 197.703 2118.52 197.703 L2124.5 197.703 L2124.5 197.286 Q2124.5 194.347 2122.55 192.749 Q2120.63 191.129 2117.13 191.129 Q2114.91 191.129 2112.81 191.661 Q2110.7 192.194 2108.76 193.259 L2108.76 189.323 Q2111.09 188.421 2113.29 187.981 Q2115.49 187.518 2117.57 187.518 Q2123.2 187.518 2125.98 190.434 Q2128.76 193.351 2128.76 199.277 Z\" fill=\"#000000\" fill-rule=\"nonzero\" fill-opacity=\"1\" /><path clip-path=\"url(#clip280)\" d=\"M2159.08 198.421 L2159.08 214.069 L2154.82 214.069 L2154.82 198.559 Q2154.82 194.879 2153.38 193.05 Q2151.95 191.222 2149.08 191.222 Q2145.63 191.222 2143.64 193.421 Q2141.65 195.62 2141.65 199.416 L2141.65 214.069 L2137.37 214.069 L2137.37 188.143 L2141.65 188.143 L2141.65 192.171 Q2143.18 189.833 2145.24 188.675 Q2147.32 187.518 2150.03 187.518 Q2154.5 187.518 2156.79 190.296 Q2159.08 193.05 2159.08 198.421 Z\" fill=\"#000000\" fill-rule=\"nonzero\" fill-opacity=\"1\" /><path clip-path=\"url(#clip280)\" d=\"M2184.63 192.078 L2184.63 178.05 L2188.89 178.05 L2188.89 214.069 L2184.63 214.069 L2184.63 210.18 Q2183.29 212.495 2181.23 213.629 Q2179.19 214.74 2176.32 214.74 Q2171.63 214.74 2168.66 210.99 Q2165.72 207.24 2165.72 201.129 Q2165.72 195.018 2168.66 191.268 Q2171.63 187.518 2176.32 187.518 Q2179.19 187.518 2181.23 188.652 Q2183.29 189.763 2184.63 192.078 M2170.12 201.129 Q2170.12 205.828 2172.04 208.513 Q2173.99 211.175 2177.37 211.175 Q2180.75 211.175 2182.69 208.513 Q2184.63 205.828 2184.63 201.129 Q2184.63 196.43 2182.69 193.768 Q2180.75 191.083 2177.37 191.083 Q2173.99 191.083 2172.04 193.768 Q2170.12 196.43 2170.12 201.129 Z\" fill=\"#000000\" fill-rule=\"nonzero\" fill-opacity=\"1\" /><path clip-path=\"url(#clip280)\" d=\"M2198.22 192.541 L2227.9 192.541 L2227.9 196.43 L2198.22 196.43 L2198.22 192.541 M2198.22 201.985 L2227.9 201.985 L2227.9 205.921 L2198.22 205.921 L2198.22 201.985 Z\" fill=\"#000000\" fill-rule=\"nonzero\" fill-opacity=\"1\" /><path clip-path=\"url(#clip280)\" d=\"M2238.8 210.133 L2246.44 210.133 L2246.44 183.768 L2238.13 185.435 L2238.13 181.175 L2246.39 179.509 L2251.07 179.509 L2251.07 210.133 L2258.71 210.133 L2258.71 214.069 L2238.8 214.069 L2238.8 210.133 Z\" fill=\"#000000\" fill-rule=\"nonzero\" fill-opacity=\"1\" /><polyline clip-path=\"url(#clip280)\" style=\"stroke:#3da44d; stroke-linecap:round; stroke-linejoin:round; stroke-width:4; stroke-opacity:1; fill:none\" points=\"1919.44,248.629 2058.68,248.629 \"/>\n",
       "<path clip-path=\"url(#clip280)\" d=\"M2100.31 240.747 L2100.31 244.774 Q2098.5 243.849 2096.56 243.386 Q2094.61 242.923 2092.53 242.923 Q2089.36 242.923 2087.76 243.895 Q2086.19 244.867 2086.19 246.811 Q2086.19 248.293 2087.32 249.149 Q2088.45 249.983 2091.88 250.747 L2093.34 251.071 Q2097.88 252.043 2099.77 253.825 Q2101.7 255.585 2101.7 258.756 Q2101.7 262.367 2098.82 264.473 Q2095.98 266.58 2090.98 266.58 Q2088.89 266.58 2086.63 266.163 Q2084.38 265.77 2081.88 264.96 L2081.88 260.561 Q2084.24 261.788 2086.53 262.413 Q2088.82 263.015 2091.07 263.015 Q2094.08 263.015 2095.7 261.997 Q2097.32 260.955 2097.32 259.08 Q2097.32 257.344 2096.14 256.418 Q2094.98 255.492 2091.02 254.636 L2089.54 254.288 Q2085.58 253.455 2083.82 251.742 Q2082.07 250.006 2082.07 246.997 Q2082.07 243.339 2084.66 241.349 Q2087.25 239.358 2092.02 239.358 Q2094.38 239.358 2096.46 239.705 Q2098.55 240.052 2100.31 240.747 Z\" fill=\"#000000\" fill-rule=\"nonzero\" fill-opacity=\"1\" /><path clip-path=\"url(#clip280)\" d=\"M2120.26 252.876 Q2115.1 252.876 2113.11 254.057 Q2111.12 255.237 2111.12 258.085 Q2111.12 260.353 2112.6 261.696 Q2114.1 263.015 2116.67 263.015 Q2120.21 263.015 2122.34 260.515 Q2124.5 257.992 2124.5 253.825 L2124.5 252.876 L2120.26 252.876 M2128.76 251.117 L2128.76 265.909 L2124.5 265.909 L2124.5 261.973 Q2123.04 264.335 2120.86 265.469 Q2118.69 266.58 2115.54 266.58 Q2111.56 266.58 2109.2 264.358 Q2106.86 262.112 2106.86 258.362 Q2106.86 253.987 2109.77 251.765 Q2112.71 249.543 2118.52 249.543 L2124.5 249.543 L2124.5 249.126 Q2124.5 246.187 2122.55 244.589 Q2120.63 242.969 2117.13 242.969 Q2114.91 242.969 2112.81 243.501 Q2110.7 244.034 2108.76 245.099 L2108.76 241.163 Q2111.09 240.261 2113.29 239.821 Q2115.49 239.358 2117.57 239.358 Q2123.2 239.358 2125.98 242.274 Q2128.76 245.191 2128.76 251.117 Z\" fill=\"#000000\" fill-rule=\"nonzero\" fill-opacity=\"1\" /><path clip-path=\"url(#clip280)\" d=\"M2159.08 250.261 L2159.08 265.909 L2154.82 265.909 L2154.82 250.399 Q2154.82 246.719 2153.38 244.89 Q2151.95 243.062 2149.08 243.062 Q2145.63 243.062 2143.64 245.261 Q2141.65 247.46 2141.65 251.256 L2141.65 265.909 L2137.37 265.909 L2137.37 239.983 L2141.65 239.983 L2141.65 244.011 Q2143.18 241.673 2145.24 240.515 Q2147.32 239.358 2150.03 239.358 Q2154.5 239.358 2156.79 242.136 Q2159.08 244.89 2159.08 250.261 Z\" fill=\"#000000\" fill-rule=\"nonzero\" fill-opacity=\"1\" /><path clip-path=\"url(#clip280)\" d=\"M2184.63 243.918 L2184.63 229.89 L2188.89 229.89 L2188.89 265.909 L2184.63 265.909 L2184.63 262.02 Q2183.29 264.335 2181.23 265.469 Q2179.19 266.58 2176.32 266.58 Q2171.63 266.58 2168.66 262.83 Q2165.72 259.08 2165.72 252.969 Q2165.72 246.858 2168.66 243.108 Q2171.63 239.358 2176.32 239.358 Q2179.19 239.358 2181.23 240.492 Q2183.29 241.603 2184.63 243.918 M2170.12 252.969 Q2170.12 257.668 2172.04 260.353 Q2173.99 263.015 2177.37 263.015 Q2180.75 263.015 2182.69 260.353 Q2184.63 257.668 2184.63 252.969 Q2184.63 248.27 2182.69 245.608 Q2180.75 242.923 2177.37 242.923 Q2173.99 242.923 2172.04 245.608 Q2170.12 248.27 2170.12 252.969 Z\" fill=\"#000000\" fill-rule=\"nonzero\" fill-opacity=\"1\" /><path clip-path=\"url(#clip280)\" d=\"M2198.22 244.381 L2227.9 244.381 L2227.9 248.27 L2198.22 248.27 L2198.22 244.381 M2198.22 253.825 L2227.9 253.825 L2227.9 257.761 L2198.22 257.761 L2198.22 253.825 Z\" fill=\"#000000\" fill-rule=\"nonzero\" fill-opacity=\"1\" /><path clip-path=\"url(#clip280)\" d=\"M2242.02 261.973 L2258.34 261.973 L2258.34 265.909 L2236.39 265.909 L2236.39 261.973 Q2239.06 259.219 2243.64 254.589 Q2248.25 249.936 2249.43 248.594 Q2251.67 246.071 2252.55 244.335 Q2253.45 242.575 2253.45 240.886 Q2253.45 238.131 2251.51 236.395 Q2249.59 234.659 2246.49 234.659 Q2244.29 234.659 2241.83 235.423 Q2239.4 236.187 2236.63 237.737 L2236.63 233.015 Q2239.45 231.881 2241.9 231.302 Q2244.36 230.724 2246.39 230.724 Q2251.76 230.724 2254.96 233.409 Q2258.15 236.094 2258.15 240.585 Q2258.15 242.714 2257.34 244.636 Q2256.56 246.534 2254.45 249.126 Q2253.87 249.798 2250.77 253.015 Q2247.67 256.21 2242.02 261.973 Z\" fill=\"#000000\" fill-rule=\"nonzero\" fill-opacity=\"1\" /><polyline clip-path=\"url(#clip280)\" style=\"stroke:#c271d2; stroke-linecap:round; stroke-linejoin:round; stroke-width:4; stroke-opacity:1; fill:none\" points=\"1919.44,300.469 2058.68,300.469 \"/>\n",
       "<path clip-path=\"url(#clip280)\" d=\"M2100.31 292.587 L2100.31 296.614 Q2098.5 295.689 2096.56 295.226 Q2094.61 294.763 2092.53 294.763 Q2089.36 294.763 2087.76 295.735 Q2086.19 296.707 2086.19 298.651 Q2086.19 300.133 2087.32 300.989 Q2088.45 301.823 2091.88 302.587 L2093.34 302.911 Q2097.88 303.883 2099.77 305.665 Q2101.7 307.425 2101.7 310.596 Q2101.7 314.207 2098.82 316.313 Q2095.98 318.42 2090.98 318.42 Q2088.89 318.42 2086.63 318.003 Q2084.38 317.61 2081.88 316.8 L2081.88 312.401 Q2084.24 313.628 2086.53 314.253 Q2088.82 314.855 2091.07 314.855 Q2094.08 314.855 2095.7 313.837 Q2097.32 312.795 2097.32 310.92 Q2097.32 309.184 2096.14 308.258 Q2094.98 307.332 2091.02 306.476 L2089.54 306.128 Q2085.58 305.295 2083.82 303.582 Q2082.07 301.846 2082.07 298.837 Q2082.07 295.179 2084.66 293.189 Q2087.25 291.198 2092.02 291.198 Q2094.38 291.198 2096.46 291.545 Q2098.55 291.892 2100.31 292.587 Z\" fill=\"#000000\" fill-rule=\"nonzero\" fill-opacity=\"1\" /><path clip-path=\"url(#clip280)\" d=\"M2120.26 304.716 Q2115.1 304.716 2113.11 305.897 Q2111.12 307.077 2111.12 309.925 Q2111.12 312.193 2112.6 313.536 Q2114.1 314.855 2116.67 314.855 Q2120.21 314.855 2122.34 312.355 Q2124.5 309.832 2124.5 305.665 L2124.5 304.716 L2120.26 304.716 M2128.76 302.957 L2128.76 317.749 L2124.5 317.749 L2124.5 313.813 Q2123.04 316.175 2120.86 317.309 Q2118.69 318.42 2115.54 318.42 Q2111.56 318.42 2109.2 316.198 Q2106.86 313.952 2106.86 310.202 Q2106.86 305.827 2109.77 303.605 Q2112.71 301.383 2118.52 301.383 L2124.5 301.383 L2124.5 300.966 Q2124.5 298.027 2122.55 296.429 Q2120.63 294.809 2117.13 294.809 Q2114.91 294.809 2112.81 295.341 Q2110.7 295.874 2108.76 296.939 L2108.76 293.003 Q2111.09 292.101 2113.29 291.661 Q2115.49 291.198 2117.57 291.198 Q2123.2 291.198 2125.98 294.114 Q2128.76 297.031 2128.76 302.957 Z\" fill=\"#000000\" fill-rule=\"nonzero\" fill-opacity=\"1\" /><path clip-path=\"url(#clip280)\" d=\"M2159.08 302.101 L2159.08 317.749 L2154.82 317.749 L2154.82 302.239 Q2154.82 298.559 2153.38 296.73 Q2151.95 294.902 2149.08 294.902 Q2145.63 294.902 2143.64 297.101 Q2141.65 299.3 2141.65 303.096 L2141.65 317.749 L2137.37 317.749 L2137.37 291.823 L2141.65 291.823 L2141.65 295.851 Q2143.18 293.513 2145.24 292.355 Q2147.32 291.198 2150.03 291.198 Q2154.5 291.198 2156.79 293.976 Q2159.08 296.73 2159.08 302.101 Z\" fill=\"#000000\" fill-rule=\"nonzero\" fill-opacity=\"1\" /><path clip-path=\"url(#clip280)\" d=\"M2184.63 295.758 L2184.63 281.73 L2188.89 281.73 L2188.89 317.749 L2184.63 317.749 L2184.63 313.86 Q2183.29 316.175 2181.23 317.309 Q2179.19 318.42 2176.32 318.42 Q2171.63 318.42 2168.66 314.67 Q2165.72 310.92 2165.72 304.809 Q2165.72 298.698 2168.66 294.948 Q2171.63 291.198 2176.32 291.198 Q2179.19 291.198 2181.23 292.332 Q2183.29 293.443 2184.63 295.758 M2170.12 304.809 Q2170.12 309.508 2172.04 312.193 Q2173.99 314.855 2177.37 314.855 Q2180.75 314.855 2182.69 312.193 Q2184.63 309.508 2184.63 304.809 Q2184.63 300.11 2182.69 297.448 Q2180.75 294.763 2177.37 294.763 Q2173.99 294.763 2172.04 297.448 Q2170.12 300.11 2170.12 304.809 Z\" fill=\"#000000\" fill-rule=\"nonzero\" fill-opacity=\"1\" /><path clip-path=\"url(#clip280)\" d=\"M2198.22 296.221 L2227.9 296.221 L2227.9 300.11 L2198.22 300.11 L2198.22 296.221 M2198.22 305.665 L2227.9 305.665 L2227.9 309.601 L2198.22 309.601 L2198.22 305.665 Z\" fill=\"#000000\" fill-rule=\"nonzero\" fill-opacity=\"1\" /><path clip-path=\"url(#clip280)\" d=\"M2252.16 299.114 Q2255.51 299.832 2257.39 302.101 Q2259.29 304.369 2259.29 307.702 Q2259.29 312.818 2255.77 315.619 Q2252.25 318.42 2245.77 318.42 Q2243.59 318.42 2241.28 317.98 Q2238.99 317.563 2236.53 316.707 L2236.53 312.193 Q2238.48 313.327 2240.79 313.906 Q2243.11 314.485 2245.63 314.485 Q2250.03 314.485 2252.32 312.749 Q2254.63 311.013 2254.63 307.702 Q2254.63 304.647 2252.48 302.934 Q2250.35 301.198 2246.53 301.198 L2242.5 301.198 L2242.5 297.355 L2246.72 297.355 Q2250.17 297.355 2252 295.989 Q2253.82 294.601 2253.82 292.008 Q2253.82 289.346 2251.93 287.934 Q2250.05 286.499 2246.53 286.499 Q2244.61 286.499 2242.41 286.915 Q2240.21 287.332 2237.57 288.212 L2237.57 284.045 Q2240.24 283.304 2242.55 282.934 Q2244.89 282.564 2246.95 282.564 Q2252.27 282.564 2255.37 284.994 Q2258.48 287.402 2258.48 291.522 Q2258.48 294.392 2256.83 296.383 Q2255.19 298.351 2252.16 299.114 Z\" fill=\"#000000\" fill-rule=\"nonzero\" fill-opacity=\"1\" /></svg>\n"
      ],
      "text/html": [
       "<img src=\"data:image/png;base64,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\" />"
      ]
     },
     "metadata": {},
     "output_type": "display_data"
    },
    {
     "data": {
      "text/html": [
       "<div><div style = \"float: left;\"><span>501×4 DataFrame</span></div><div style = \"float: right;\"><span style = \"font-style: italic;\">476 rows omitted</span></div><div style = \"clear: both;\"></div></div><div class = \"data-frame\" style = \"overflow-x: scroll;\"><table class = \"data-frame\" style = \"margin-bottom: 6px;\"><thead><tr class = \"header\"><th class = \"rowNumber\" style = \"font-weight: bold; text-align: right;\">Row</th><th style = \"text-align: left;\">sand=0</th><th style = \"text-align: left;\">sand=1</th><th style = \"text-align: left;\">sand=2</th><th style = \"text-align: left;\">sand=3</th></tr><tr class = \"subheader headerLastRow\"><th class = \"rowNumber\" style = \"font-weight: bold; text-align: right;\"></th><th title = \"Int64\" style = \"text-align: left;\">Int64</th><th title = \"Int64\" style = \"text-align: left;\">Int64</th><th title = \"Int64\" style = \"text-align: left;\">Int64</th><th title = \"Int64\" style = \"text-align: left;\">Int64</th></tr></thead><tbody><tr><td class = \"rowNumber\" style = \"font-weight: bold; text-align: right;\">1</td><td style = \"text-align: right;\">12</td><td style = \"text-align: right;\">20</td><td style = \"text-align: right;\">2399</td><td style = \"text-align: right;\">40</td></tr><tr><td class = \"rowNumber\" style = \"font-weight: bold; text-align: right;\">2</td><td style = \"text-align: right;\">12</td><td style = \"text-align: right;\">20</td><td style = \"text-align: right;\">2399</td><td style = \"text-align: right;\">40</td></tr><tr><td class = \"rowNumber\" style = \"font-weight: bold; text-align: right;\">3</td><td style = \"text-align: right;\">12</td><td style = \"text-align: right;\">20</td><td style = \"text-align: right;\">2399</td><td style = \"text-align: right;\">40</td></tr><tr><td class = \"rowNumber\" style = \"font-weight: bold; text-align: right;\">4</td><td style = \"text-align: right;\">12</td><td style = \"text-align: right;\">20</td><td style = \"text-align: right;\">2399</td><td style = \"text-align: right;\">40</td></tr><tr><td class = \"rowNumber\" style = \"font-weight: bold; text-align: right;\">5</td><td style = \"text-align: right;\">12</td><td style = \"text-align: right;\">20</td><td style = \"text-align: right;\">2399</td><td style = \"text-align: right;\">40</td></tr><tr><td class = \"rowNumber\" style = \"font-weight: bold; text-align: right;\">6</td><td style = \"text-align: right;\">12</td><td style = \"text-align: right;\">20</td><td style = \"text-align: right;\">2399</td><td style = \"text-align: right;\">40</td></tr><tr><td class = \"rowNumber\" style = \"font-weight: bold; text-align: right;\">7</td><td style = \"text-align: right;\">12</td><td style = \"text-align: right;\">20</td><td style = \"text-align: right;\">2399</td><td style = \"text-align: right;\">40</td></tr><tr><td class = \"rowNumber\" style = \"font-weight: bold; text-align: right;\">8</td><td style = \"text-align: right;\">12</td><td style = \"text-align: right;\">20</td><td style = \"text-align: right;\">2399</td><td style = \"text-align: right;\">40</td></tr><tr><td class = \"rowNumber\" style = \"font-weight: bold; text-align: right;\">9</td><td style = \"text-align: right;\">12</td><td style = \"text-align: right;\">20</td><td style = \"text-align: right;\">2399</td><td style = \"text-align: right;\">40</td></tr><tr><td class = \"rowNumber\" style = \"font-weight: bold; text-align: right;\">10</td><td style = \"text-align: right;\">12</td><td style = \"text-align: right;\">20</td><td style = \"text-align: right;\">2399</td><td style = \"text-align: right;\">40</td></tr><tr><td class = \"rowNumber\" style = \"font-weight: bold; text-align: right;\">11</td><td style = \"text-align: right;\">12</td><td style = \"text-align: right;\">20</td><td style = \"text-align: right;\">2399</td><td style = \"text-align: right;\">40</td></tr><tr><td class = \"rowNumber\" style = \"font-weight: bold; text-align: right;\">12</td><td style = \"text-align: right;\">12</td><td style = \"text-align: right;\">20</td><td style = \"text-align: right;\">2399</td><td style = \"text-align: right;\">40</td></tr><tr><td class = \"rowNumber\" style = \"font-weight: bold; text-align: right;\">13</td><td style = \"text-align: right;\">12</td><td style = \"text-align: right;\">20</td><td style = \"text-align: right;\">2399</td><td style = \"text-align: right;\">40</td></tr><tr><td style = \"text-align: right;\">&vellip;</td><td style = \"text-align: right;\">&vellip;</td><td style = \"text-align: right;\">&vellip;</td><td style = \"text-align: right;\">&vellip;</td><td style = \"text-align: right;\">&vellip;</td></tr><tr><td class = \"rowNumber\" style = \"font-weight: bold; text-align: right;\">490</td><td style = \"text-align: right;\">12</td><td style = \"text-align: right;\">20</td><td style = \"text-align: right;\">2399</td><td style = \"text-align: right;\">40</td></tr><tr><td class = \"rowNumber\" style = \"font-weight: bold; text-align: right;\">491</td><td style = \"text-align: right;\">12</td><td style = \"text-align: right;\">20</td><td style = \"text-align: right;\">2399</td><td style = \"text-align: right;\">40</td></tr><tr><td class = \"rowNumber\" style = \"font-weight: bold; text-align: right;\">492</td><td style = \"text-align: right;\">12</td><td style = \"text-align: right;\">20</td><td style = \"text-align: right;\">2399</td><td style = \"text-align: right;\">40</td></tr><tr><td class = \"rowNumber\" style = \"font-weight: bold; text-align: right;\">493</td><td style = \"text-align: right;\">12</td><td style = \"text-align: right;\">20</td><td style = \"text-align: right;\">2399</td><td style = \"text-align: right;\">40</td></tr><tr><td class = \"rowNumber\" style = \"font-weight: bold; text-align: right;\">494</td><td style = \"text-align: right;\">12</td><td style = \"text-align: right;\">20</td><td style = \"text-align: right;\">2399</td><td style = \"text-align: right;\">40</td></tr><tr><td class = \"rowNumber\" style = \"font-weight: bold; text-align: right;\">495</td><td style = \"text-align: right;\">12</td><td style = \"text-align: right;\">20</td><td style = \"text-align: right;\">2399</td><td style = \"text-align: right;\">40</td></tr><tr><td class = \"rowNumber\" style = \"font-weight: bold; text-align: right;\">496</td><td style = \"text-align: right;\">12</td><td style = \"text-align: right;\">20</td><td style = \"text-align: right;\">2399</td><td style = \"text-align: right;\">40</td></tr><tr><td class = \"rowNumber\" style = \"font-weight: bold; text-align: right;\">497</td><td style = \"text-align: right;\">12</td><td style = \"text-align: right;\">20</td><td style = \"text-align: right;\">2399</td><td style = \"text-align: right;\">40</td></tr><tr><td class = \"rowNumber\" style = \"font-weight: bold; text-align: right;\">498</td><td style = \"text-align: right;\">12</td><td style = \"text-align: right;\">20</td><td style = \"text-align: right;\">2399</td><td style = \"text-align: right;\">40</td></tr><tr><td class = \"rowNumber\" style = \"font-weight: bold; text-align: right;\">499</td><td style = \"text-align: right;\">12</td><td style = \"text-align: right;\">20</td><td style = \"text-align: right;\">2399</td><td style = \"text-align: right;\">40</td></tr><tr><td class = \"rowNumber\" style = \"font-weight: bold; text-align: right;\">500</td><td style = \"text-align: right;\">12</td><td style = \"text-align: right;\">20</td><td style = \"text-align: right;\">2399</td><td style = \"text-align: right;\">40</td></tr><tr><td class = \"rowNumber\" style = \"font-weight: bold; text-align: right;\">501</td><td style = \"text-align: right;\">12</td><td style = \"text-align: right;\">20</td><td style = \"text-align: right;\">2399</td><td style = \"text-align: right;\">40</td></tr></tbody></table></div>"
      ],
      "text/latex": [
       "\\begin{tabular}{r|cccc}\n",
       "\t& sand=0 & sand=1 & sand=2 & sand=3\\\\\n",
       "\t\\hline\n",
       "\t& Int64 & Int64 & Int64 & Int64\\\\\n",
       "\t\\hline\n",
       "\t1 & 12 & 20 & 2399 & 40 \\\\\n",
       "\t2 & 12 & 20 & 2399 & 40 \\\\\n",
       "\t3 & 12 & 20 & 2399 & 40 \\\\\n",
       "\t4 & 12 & 20 & 2399 & 40 \\\\\n",
       "\t5 & 12 & 20 & 2399 & 40 \\\\\n",
       "\t6 & 12 & 20 & 2399 & 40 \\\\\n",
       "\t7 & 12 & 20 & 2399 & 40 \\\\\n",
       "\t8 & 12 & 20 & 2399 & 40 \\\\\n",
       "\t9 & 12 & 20 & 2399 & 40 \\\\\n",
       "\t10 & 12 & 20 & 2399 & 40 \\\\\n",
       "\t11 & 12 & 20 & 2399 & 40 \\\\\n",
       "\t12 & 12 & 20 & 2399 & 40 \\\\\n",
       "\t13 & 12 & 20 & 2399 & 40 \\\\\n",
       "\t14 & 12 & 20 & 2399 & 40 \\\\\n",
       "\t15 & 12 & 20 & 2399 & 40 \\\\\n",
       "\t16 & 12 & 20 & 2399 & 40 \\\\\n",
       "\t17 & 12 & 20 & 2399 & 40 \\\\\n",
       "\t18 & 12 & 20 & 2399 & 40 \\\\\n",
       "\t19 & 12 & 20 & 2399 & 40 \\\\\n",
       "\t20 & 12 & 20 & 2399 & 40 \\\\\n",
       "\t21 & 12 & 20 & 2399 & 40 \\\\\n",
       "\t22 & 12 & 20 & 2399 & 40 \\\\\n",
       "\t23 & 12 & 20 & 2399 & 40 \\\\\n",
       "\t24 & 12 & 20 & 2399 & 40 \\\\\n",
       "\t25 & 12 & 20 & 2399 & 40 \\\\\n",
       "\t26 & 12 & 20 & 2399 & 40 \\\\\n",
       "\t27 & 12 & 20 & 2399 & 40 \\\\\n",
       "\t28 & 12 & 20 & 2399 & 40 \\\\\n",
       "\t29 & 12 & 20 & 2399 & 40 \\\\\n",
       "\t30 & 12 & 20 & 2399 & 40 \\\\\n",
       "\t$\\dots$ & $\\dots$ & $\\dots$ & $\\dots$ & $\\dots$ \\\\\n",
       "\\end{tabular}\n"
      ],
      "text/plain": [
       "\u001b[1m501×4 DataFrame\u001b[0m\n",
       "\u001b[1m Row \u001b[0m│\u001b[1m sand=0 \u001b[0m\u001b[1m sand=1 \u001b[0m\u001b[1m sand=2 \u001b[0m\u001b[1m sand=3 \u001b[0m\n",
       "     │\u001b[90m Int64  \u001b[0m\u001b[90m Int64  \u001b[0m\u001b[90m Int64  \u001b[0m\u001b[90m Int64  \u001b[0m\n",
       "─────┼────────────────────────────────\n",
       "   1 │     12      20    2399      40\n",
       "   2 │     12      20    2399      40\n",
       "   3 │     12      20    2399      40\n",
       "   4 │     12      20    2399      40\n",
       "   5 │     12      20    2399      40\n",
       "   6 │     12      20    2399      40\n",
       "   7 │     12      20    2399      40\n",
       "   8 │     12      20    2399      40\n",
       "   9 │     12      20    2399      40\n",
       "  10 │     12      20    2399      40\n",
       "  11 │     12      20    2399      40\n",
       "  ⋮  │   ⋮       ⋮       ⋮       ⋮\n",
       " 492 │     12      20    2399      40\n",
       " 493 │     12      20    2399      40\n",
       " 494 │     12      20    2399      40\n",
       " 495 │     12      20    2399      40\n",
       " 496 │     12      20    2399      40\n",
       " 497 │     12      20    2399      40\n",
       " 498 │     12      20    2399      40\n",
       " 499 │     12      20    2399      40\n",
       " 500 │     12      20    2399      40\n",
       " 501 │     12      20    2399      40\n",
       "\u001b[36m                      480 rows omitted\u001b[0m"
      ]
     },
     "execution_count": 11,
     "metadata": {},
     "output_type": "execute_result"
    }
   ],
   "source": [
    "df = get_nums_patches(model, \n",
    "    patch-> patch.sand == 0, \n",
    "    patch-> patch.sand == 1, \n",
    "    patch-> patch.sand == 2, \n",
    "    patch-> patch.sand == 3,\n",
    "    labels=[\"sand=0\",\"sand=1\",\"sand=2\",\"sand=3\"], plot_result=true)"
   ]
  },
  {
   "cell_type": "code",
   "execution_count": null,
   "metadata": {},
   "outputs": [],
   "source": []
  }
 ],
 "metadata": {
  "@webio": {
   "lastCommId": "12740c71ffe741fe9598f47c8dd5818a",
   "lastKernelId": "96121b82-0264-4dfe-a77c-77265da645ff"
  },
  "kernelspec": {
   "display_name": "Julia 1.9.2",
   "language": "julia",
   "name": "julia-1.9"
  },
  "language_info": {
   "file_extension": ".jl",
   "mimetype": "application/julia",
   "name": "julia",
   "version": "1.9.2"
  }
 },
 "nbformat": 4,
 "nbformat_minor": 4
}
