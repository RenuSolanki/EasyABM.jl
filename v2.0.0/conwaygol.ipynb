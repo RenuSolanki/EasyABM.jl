{
 "cells": [
  {
   "cell_type": "markdown",
   "metadata": {},
   "source": [
    "# Conway's Game of Life"
   ]
  },
  {
   "cell_type": "code",
   "execution_count": 1,
   "metadata": {},
   "outputs": [
    {
     "name": "stderr",
     "output_type": "stream",
     "text": [
      "\u001b[32m\u001b[1m  Activating\u001b[22m\u001b[39m project at `~/Documents/EasyABM`\n"
     ]
    },
    {
     "data": {
      "application/vnd.webio.node+json": {
       "children": [],
       "instanceArgs": {
        "namespace": "html",
        "tag": "div"
       },
       "nodeType": "DOM",
       "props": {},
       "type": "node"
      },
      "text/html": [
       "<div style=\"padding: 1em; background-color: #f8d6da; border: 1px solid #f5c6cb; font-weight: bold;\">\n",
       "<p>The WebIO Jupyter extension was not detected. See the\n",
       "<a href=\"https://juliagizmos.github.io/WebIO.jl/latest/providers/ijulia/\" target=\"_blank\">\n",
       "    WebIO Jupyter integration documentation\n",
       "</a>\n",
       "for more information.\n",
       "</div>\n"
      ],
      "text/plain": [
       "WebIO._IJuliaInit()"
      ]
     },
     "metadata": {
      "application/vnd.webio.node+json": {
       "kernelId": "5a81b46e-df37-4a02-83ed-9b51f6fbfe0f"
      }
     },
     "output_type": "display_data"
    }
   ],
   "source": [
    "using Pkg, Revise\n",
    "Pkg.activate(joinpath(@__DIR__, \"../..\"))\n",
    "using EasyABM"
   ]
  },
  {
   "cell_type": "markdown",
   "metadata": {},
   "source": [
    "## Step 1: Create Agents and Model\n",
    "\n",
    "We work with only patches in this model. The size of the \n",
    "grid in the model created is 20x20 and `alive_percent` is the fraction of patches that are live initially."
   ]
  },
  {
   "cell_type": "code",
   "execution_count": 2,
   "metadata": {},
   "outputs": [
    {
     "data": {
      "text/plain": [
       "EasyABM SpaceModel2D{EasyABM.StaticType, Int64, EasyABM.PeriodicType}: In a EasyABM.StaticType model number of agents is fixed.\n"
      ]
     },
     "execution_count": 2,
     "metadata": {},
     "output_type": "execute_result"
    }
   ],
   "source": [
    "model = create_2d_model(size = (30,30), alive_percent = 0.3, space_type = Periodic)"
   ]
  },
  {
   "cell_type": "markdown",
   "metadata": {},
   "source": [
    "## Step 2: Initialise the model\n",
    "\n",
    "In the second step we initialise the patches by defining `initialiser!` function and sending it as an argument to `init_model!`. In the `initialiser!` function we randomly set patches to be either of color `cl\"green\"` or `cl\"white\"` (a named color, say \"green\", can be defined in EasyABM as `cl\"green\"` or as `Col(\"green\")` or more generally as `Col(0,1,0)` or `Col(0,1,0,1)`). The patches with green color have their `is_alive` property set to true and the patches with white color have their `is_alive` property set to false. We specify the patch properties `color` and `is_alive` that we want to be recorded during time evolution in the `props_to_record` argument to the `init_model!` "
   ]
  },
  {
   "cell_type": "code",
   "execution_count": 3,
   "metadata": {},
   "outputs": [],
   "source": [
    "function initialiser!(model)\n",
    "    for j in 1:model.size[2]\n",
    "        for i in 1:model.size[1]\n",
    "            if rand()<model.properties.alive_percent\n",
    "                model.patches[i,j].color = cl\"green\"\n",
    "                model.patches[i,j].is_alive = true\n",
    "            else\n",
    "                model.patches[i,j].color = cl\"white\"\n",
    "                model.patches[i,j].is_alive = false\n",
    "            end\n",
    "        end\n",
    "    end\n",
    "end\n",
    "\n",
    "init_model!(model, initialiser = initialiser!, \n",
    "    props_to_record=Dict(\"patches\"=>Set([:color, :is_alive])))"
   ]
  },
  {
   "cell_type": "markdown",
   "metadata": {},
   "source": [
    "## Step 3: Defining the step_rule! and running the model\n",
    "\n",
    "In this step we implement the step logic of the Conway's Game of Life in the `step_rule!` function and run the model for 100 steps. \n",
    "Since Conway's model requires all patches to be updated at the same time, in the `step_rule!` function we first compute the `is_alive` \n",
    "property for all patches and then apply it to patches."
   ]
  },
  {
   "cell_type": "code",
   "execution_count": 4,
   "metadata": {},
   "outputs": [
    {
     "data": {
      "text/plain": [
       "step_rule! (generic function with 1 method)"
      ]
     },
     "execution_count": 4,
     "metadata": {},
     "output_type": "execute_result"
    }
   ],
   "source": [
    "function calculate_vals(model)\n",
    "    vals = [false for i in 1:model.size[1], j in 1:model.size[2]]\n",
    "    for j in 1:model.size[2]\n",
    "        for i in 1:model.size[1]\n",
    "            patch = model.patches[i,j]\n",
    "            nbrs = neighbor_patches_moore((i,j), model, 1)\n",
    "            num_alive = 0\n",
    "            for nbr in nbrs\n",
    "                num_alive+= model.patches[nbr...].is_alive\n",
    "            end\n",
    "            condition1 = patch.is_alive && ((num_alive == 2) || (num_alive == 3))\n",
    "            condition2 = !(patch.is_alive) && (num_alive == 3)\n",
    "            if condition1 || condition2\n",
    "                vals[i,j] = true\n",
    "            end\n",
    "        end\n",
    "    end\n",
    "    return vals\n",
    "end\n",
    "\n",
    "function apply_vals!(model, vals)\n",
    "    for j in 1:model.size[2]\n",
    "        for i in 1:model.size[1]\n",
    "            is_alive = vals[i,j]\n",
    "            model.patches[i,j].is_alive = is_alive\n",
    "            model.patches[i,j].color = is_alive ? cl\"green\" : cl\"white\"\n",
    "        end\n",
    "    end       \n",
    "end\n",
    "\n",
    "\n",
    "function step_rule!(model)\n",
    "    vals = calculate_vals(model)\n",
    "    apply_vals!(model, vals)\n",
    "end"
   ]
  },
  {
   "cell_type": "code",
   "execution_count": 5,
   "metadata": {},
   "outputs": [],
   "source": [
    "run_model!(model, steps = 200, step_rule = step_rule!)"
   ]
  },
  {
   "cell_type": "markdown",
   "metadata": {},
   "source": [
    "In order to draw the model at a specific frame, say 4th, one can use `draw_frame(model, frame = 4, show_patches=true)`. If one wants to see the animation of the model run, it can be done as "
   ]
  },
  {
   "cell_type": "code",
   "execution_count": 6,
   "metadata": {},
   "outputs": [
    {
     "data": {
      "application/vnd.webio.node+json": {
       "children": [
        {
         "children": [
          {
           "children": [
            {
             "children": [
              {
               "children": [
                {
                 "children": [
                  {
                   "children": [
                    {
                     "children": [
                      "time"
                     ],
                     "instanceArgs": {
                      "namespace": "html",
                      "tag": "label"
                     },
                     "nodeType": "DOM",
                     "props": {
                      "className": "interact ",
                      "style": {
                       "padding": "5px 10px 0px 10px"
                      }
                     },
                     "type": "node"
                    }
                   ],
                   "instanceArgs": {
                    "namespace": "html",
                    "tag": "div"
                   },
                   "nodeType": "DOM",
                   "props": {
                    "className": "interact-flex-row-left"
                   },
                   "type": "node"
                  },
                  {
                   "children": [
                    {
                     "children": [],
                     "instanceArgs": {
                      "namespace": "html",
                      "tag": "input"
                     },
                     "nodeType": "DOM",
                     "props": {
                      "attributes": {
                       "data-bind": "numericValue: index, valueUpdate: 'input', event: {change: function (){this.changes(this.changes()+1)}}",
                       "orient": "horizontal",
                       "type": "range"
                      },
                      "className": "slider slider is-fullwidth",
                      "max": 201,
                      "min": 1,
                      "step": 1,
                      "style": {}
                     },
                     "type": "node"
                    }
                   ],
                   "instanceArgs": {
                    "namespace": "html",
                    "tag": "div"
                   },
                   "nodeType": "DOM",
                   "props": {
                    "className": "interact-flex-row-center"
                   },
                   "type": "node"
                  },
                  {
                   "children": [
                    {
                     "children": [],
                     "instanceArgs": {
                      "namespace": "html",
                      "tag": "p"
                     },
                     "nodeType": "DOM",
                     "props": {
                      "attributes": {
                       "data-bind": "text: formatted_val"
                      }
                     },
                     "type": "node"
                    }
                   ],
                   "instanceArgs": {
                    "namespace": "html",
                    "tag": "div"
                   },
                   "nodeType": "DOM",
                   "props": {
                    "className": "interact-flex-row-right"
                   },
                   "type": "node"
                  }
                 ],
                 "instanceArgs": {
                  "namespace": "html",
                  "tag": "div"
                 },
                 "nodeType": "DOM",
                 "props": {
                  "className": "interact-flex-row interact-widget"
                 },
                 "type": "node"
                }
               ],
               "instanceArgs": {
                "handlers": {
                 "changes": [
                  "(function (val){return (val!=this.model[\"changes\"]()) ? (this.valueFromJulia[\"changes\"]=true, this.model[\"changes\"](val)) : undefined})"
                 ],
                 "index": [
                  "(function (val){return (val!=this.model[\"index\"]()) ? (this.valueFromJulia[\"index\"]=true, this.model[\"index\"](val)) : undefined})"
                 ]
                },
                "id": "16716710052155557029",
                "imports": {
                 "data": [
                  {
                   "name": "knockout",
                   "type": "js",
                   "url": "/assetserver/727383f2a47bd31570b7da84eee7b022dd6d7c78-knockout.js"
                  },
                  {
                   "name": "knockout_punches",
                   "type": "js",
                   "url": "/assetserver/382b41b3b1bd9f26f75861d360bad7f8beea211f-knockout_punches.js"
                  },
                  {
                   "name": null,
                   "type": "js",
                   "url": "/assetserver/5ab20f1060420992a9b82a65b735dee4d81ef413-all.js"
                  },
                  {
                   "name": null,
                   "type": "css",
                   "url": "/assetserver/1cc0ed62837210b80a182cc3676512f895dab686-style.css"
                  },
                  {
                   "name": null,
                   "type": "css",
                   "url": "/assetserver/2eee816f616df3549d7044d45e744fbf8d42bfa1-bulma_confined.min.css"
                  }
                 ],
                 "type": "async_block"
                },
                "mount_callbacks": [
                 "function () {\n    var handler = (function (ko, koPunches) {\n    ko.punches.enableAll();\n    ko.bindingHandlers.numericValue = {\n        init: function(element, valueAccessor, allBindings, data, context) {\n            var stringified = ko.observable(ko.unwrap(valueAccessor()));\n            stringified.subscribe(function(value) {\n                var val = parseFloat(value);\n                if (!isNaN(val)) {\n                    valueAccessor()(val);\n                }\n            });\n            valueAccessor().subscribe(function(value) {\n                var str = JSON.stringify(value);\n                if ((str == \"0\") && ([\"-0\", \"-0.\"].indexOf(stringified()) >= 0))\n                     return;\n                 if ([\"null\", \"\"].indexOf(str) >= 0)\n                     return;\n                stringified(str);\n            });\n            ko.applyBindingsToNode(\n                element,\n                {\n                    value: stringified,\n                    valueUpdate: allBindings.get('valueUpdate'),\n                },\n                context,\n            );\n        }\n    };\n    var json_data = {\"formatted_vals\":[\"1\",\"2\",\"3\",\"4\",\"5\",\"6\",\"7\",\"8\",\"9\",\"10\",\"11\",\"12\",\"13\",\"14\",\"15\",\"16\",\"17\",\"18\",\"19\",\"20\",\"21\",\"22\",\"23\",\"24\",\"25\",\"26\",\"27\",\"28\",\"29\",\"30\",\"31\",\"32\",\"33\",\"34\",\"35\",\"36\",\"37\",\"38\",\"39\",\"40\",\"41\",\"42\",\"43\",\"44\",\"45\",\"46\",\"47\",\"48\",\"49\",\"50\",\"51\",\"52\",\"53\",\"54\",\"55\",\"56\",\"57\",\"58\",\"59\",\"60\",\"61\",\"62\",\"63\",\"64\",\"65\",\"66\",\"67\",\"68\",\"69\",\"70\",\"71\",\"72\",\"73\",\"74\",\"75\",\"76\",\"77\",\"78\",\"79\",\"80\",\"81\",\"82\",\"83\",\"84\",\"85\",\"86\",\"87\",\"88\",\"89\",\"90\",\"91\",\"92\",\"93\",\"94\",\"95\",\"96\",\"97\",\"98\",\"99\",\"100\",\"101\",\"102\",\"103\",\"104\",\"105\",\"106\",\"107\",\"108\",\"109\",\"110\",\"111\",\"112\",\"113\",\"114\",\"115\",\"116\",\"117\",\"118\",\"119\",\"120\",\"121\",\"122\",\"123\",\"124\",\"125\",\"126\",\"127\",\"128\",\"129\",\"130\",\"131\",\"132\",\"133\",\"134\",\"135\",\"136\",\"137\",\"138\",\"139\",\"140\",\"141\",\"142\",\"143\",\"144\",\"145\",\"146\",\"147\",\"148\",\"149\",\"150\",\"151\",\"152\",\"153\",\"154\",\"155\",\"156\",\"157\",\"158\",\"159\",\"160\",\"161\",\"162\",\"163\",\"164\",\"165\",\"166\",\"167\",\"168\",\"169\",\"170\",\"171\",\"172\",\"173\",\"174\",\"175\",\"176\",\"177\",\"178\",\"179\",\"180\",\"181\",\"182\",\"183\",\"184\",\"185\",\"186\",\"187\",\"188\",\"189\",\"190\",\"191\",\"192\",\"193\",\"194\",\"195\",\"196\",\"197\",\"198\",\"199\",\"200\",\"201\"],\"changes\":WebIO.getval({\"name\":\"changes\",\"scope\":\"16716710052155557029\",\"id\":\"12312154880730833918\",\"type\":\"observable\"}),\"index\":WebIO.getval({\"name\":\"index\",\"scope\":\"16716710052155557029\",\"id\":\"14925177916426045576\",\"type\":\"observable\"})};\n    var self = this;\n    function AppViewModel() {\n        for (var key in json_data) {\n            var el = json_data[key];\n            this[key] = Array.isArray(el) ? ko.observableArray(el) : ko.observable(el);\n        }\n        \n        [this[\"formatted_val\"]=ko.computed(    function(){\n        return this.formatted_vals()[parseInt(this.index())-(1)];\n    }\n,this)]\n        [this[\"changes\"].subscribe((function (val){!(this.valueFromJulia[\"changes\"]) ? (WebIO.setval({\"name\":\"changes\",\"scope\":\"16716710052155557029\",\"id\":\"12312154880730833918\",\"type\":\"observable\"},val)) : undefined; return this.valueFromJulia[\"changes\"]=false}),self),this[\"index\"].subscribe((function (val){!(this.valueFromJulia[\"index\"]) ? (WebIO.setval({\"name\":\"index\",\"scope\":\"16716710052155557029\",\"id\":\"14925177916426045576\",\"type\":\"observable\"},val)) : undefined; return this.valueFromJulia[\"index\"]=false}),self)]\n        \n    }\n    self.model = new AppViewModel();\n    self.valueFromJulia = {};\n    for (var key in json_data) {\n        self.valueFromJulia[key] = false;\n    }\n    ko.applyBindings(self.model, self.dom);\n}\n);\n    (WebIO.importBlock({\"data\":[{\"name\":\"knockout\",\"type\":\"js\",\"url\":\"/assetserver/727383f2a47bd31570b7da84eee7b022dd6d7c78-knockout.js\"},{\"name\":\"knockout_punches\",\"type\":\"js\",\"url\":\"/assetserver/382b41b3b1bd9f26f75861d360bad7f8beea211f-knockout_punches.js\"}],\"type\":\"async_block\"})).then((imports) => handler.apply(this, imports));\n}\n"
                ],
                "observables": {
                 "changes": {
                  "id": "12312154880730833918",
                  "sync": false,
                  "value": 0
                 },
                 "index": {
                  "id": "14925177916426045576",
                  "sync": true,
                  "value": 101
                 }
                },
                "systemjs_options": null
               },
               "nodeType": "Scope",
               "props": {},
               "type": "node"
              }
             ],
             "instanceArgs": {
              "namespace": "html",
              "tag": "div"
             },
             "nodeType": "DOM",
             "props": {
              "className": "field interact-widget"
             },
             "type": "node"
            },
            {
             "children": [
              {
               "children": [
                {
                 "children": [
                  {
                   "children": [
                    {
                     "children": [
                      "scale"
                     ],
                     "instanceArgs": {
                      "namespace": "html",
                      "tag": "label"
                     },
                     "nodeType": "DOM",
                     "props": {
                      "className": "interact ",
                      "style": {
                       "padding": "5px 10px 0px 10px"
                      }
                     },
                     "type": "node"
                    }
                   ],
                   "instanceArgs": {
                    "namespace": "html",
                    "tag": "div"
                   },
                   "nodeType": "DOM",
                   "props": {
                    "className": "interact-flex-row-left"
                   },
                   "type": "node"
                  },
                  {
                   "children": [
                    {
                     "children": [],
                     "instanceArgs": {
                      "namespace": "html",
                      "tag": "input"
                     },
                     "nodeType": "DOM",
                     "props": {
                      "attributes": {
                       "data-bind": "numericValue: index, valueUpdate: 'input', event: {change: function (){this.changes(this.changes()+1)}}",
                       "orient": "horizontal",
                       "type": "range"
                      },
                      "className": "slider slider is-fullwidth",
                      "max": 20,
                      "min": 1,
                      "step": 1,
                      "style": {}
                     },
                     "type": "node"
                    }
                   ],
                   "instanceArgs": {
                    "namespace": "html",
                    "tag": "div"
                   },
                   "nodeType": "DOM",
                   "props": {
                    "className": "interact-flex-row-center"
                   },
                   "type": "node"
                  },
                  {
                   "children": [
                    {
                     "children": [],
                     "instanceArgs": {
                      "namespace": "html",
                      "tag": "p"
                     },
                     "nodeType": "DOM",
                     "props": {
                      "attributes": {
                       "data-bind": "text: formatted_val"
                      }
                     },
                     "type": "node"
                    }
                   ],
                   "instanceArgs": {
                    "namespace": "html",
                    "tag": "div"
                   },
                   "nodeType": "DOM",
                   "props": {
                    "className": "interact-flex-row-right"
                   },
                   "type": "node"
                  }
                 ],
                 "instanceArgs": {
                  "namespace": "html",
                  "tag": "div"
                 },
                 "nodeType": "DOM",
                 "props": {
                  "className": "interact-flex-row interact-widget"
                 },
                 "type": "node"
                }
               ],
               "instanceArgs": {
                "handlers": {
                 "changes": [
                  "(function (val){return (val!=this.model[\"changes\"]()) ? (this.valueFromJulia[\"changes\"]=true, this.model[\"changes\"](val)) : undefined})"
                 ],
                 "index": [
                  "(function (val){return (val!=this.model[\"index\"]()) ? (this.valueFromJulia[\"index\"]=true, this.model[\"index\"](val)) : undefined})"
                 ]
                },
                "id": "2186482968941118665",
                "imports": {
                 "data": [
                  {
                   "name": "knockout",
                   "type": "js",
                   "url": "/assetserver/727383f2a47bd31570b7da84eee7b022dd6d7c78-knockout.js"
                  },
                  {
                   "name": "knockout_punches",
                   "type": "js",
                   "url": "/assetserver/382b41b3b1bd9f26f75861d360bad7f8beea211f-knockout_punches.js"
                  },
                  {
                   "name": null,
                   "type": "js",
                   "url": "/assetserver/5ab20f1060420992a9b82a65b735dee4d81ef413-all.js"
                  },
                  {
                   "name": null,
                   "type": "css",
                   "url": "/assetserver/1cc0ed62837210b80a182cc3676512f895dab686-style.css"
                  },
                  {
                   "name": null,
                   "type": "css",
                   "url": "/assetserver/2eee816f616df3549d7044d45e744fbf8d42bfa1-bulma_confined.min.css"
                  }
                 ],
                 "type": "async_block"
                },
                "mount_callbacks": [
                 "function () {\n    var handler = (function (ko, koPunches) {\n    ko.punches.enableAll();\n    ko.bindingHandlers.numericValue = {\n        init: function(element, valueAccessor, allBindings, data, context) {\n            var stringified = ko.observable(ko.unwrap(valueAccessor()));\n            stringified.subscribe(function(value) {\n                var val = parseFloat(value);\n                if (!isNaN(val)) {\n                    valueAccessor()(val);\n                }\n            });\n            valueAccessor().subscribe(function(value) {\n                var str = JSON.stringify(value);\n                if ((str == \"0\") && ([\"-0\", \"-0.\"].indexOf(stringified()) >= 0))\n                     return;\n                 if ([\"null\", \"\"].indexOf(str) >= 0)\n                     return;\n                stringified(str);\n            });\n            ko.applyBindingsToNode(\n                element,\n                {\n                    value: stringified,\n                    valueUpdate: allBindings.get('valueUpdate'),\n                },\n                context,\n            );\n        }\n    };\n    var json_data = {\"formatted_vals\":[\"0.1\",\"0.2\",\"0.3\",\"0.4\",\"0.5\",\"0.6\",\"0.7\",\"0.8\",\"0.9\",\"1.0\",\"1.1\",\"1.2\",\"1.3\",\"1.4\",\"1.5\",\"1.6\",\"1.7\",\"1.8\",\"1.9\",\"2.0\"],\"changes\":WebIO.getval({\"name\":\"changes\",\"scope\":\"2186482968941118665\",\"id\":\"1135085048411370284\",\"type\":\"observable\"}),\"index\":WebIO.getval({\"name\":\"index\",\"scope\":\"2186482968941118665\",\"id\":\"18257811689119699560\",\"type\":\"observable\"})};\n    var self = this;\n    function AppViewModel() {\n        for (var key in json_data) {\n            var el = json_data[key];\n            this[key] = Array.isArray(el) ? ko.observableArray(el) : ko.observable(el);\n        }\n        \n        [this[\"formatted_val\"]=ko.computed(    function(){\n        return this.formatted_vals()[parseInt(this.index())-(1)];\n    }\n,this)]\n        [this[\"changes\"].subscribe((function (val){!(this.valueFromJulia[\"changes\"]) ? (WebIO.setval({\"name\":\"changes\",\"scope\":\"2186482968941118665\",\"id\":\"1135085048411370284\",\"type\":\"observable\"},val)) : undefined; return this.valueFromJulia[\"changes\"]=false}),self),this[\"index\"].subscribe((function (val){!(this.valueFromJulia[\"index\"]) ? (WebIO.setval({\"name\":\"index\",\"scope\":\"2186482968941118665\",\"id\":\"18257811689119699560\",\"type\":\"observable\"},val)) : undefined; return this.valueFromJulia[\"index\"]=false}),self)]\n        \n    }\n    self.model = new AppViewModel();\n    self.valueFromJulia = {};\n    for (var key in json_data) {\n        self.valueFromJulia[key] = false;\n    }\n    ko.applyBindings(self.model, self.dom);\n}\n);\n    (WebIO.importBlock({\"data\":[{\"name\":\"knockout\",\"type\":\"js\",\"url\":\"/assetserver/727383f2a47bd31570b7da84eee7b022dd6d7c78-knockout.js\"},{\"name\":\"knockout_punches\",\"type\":\"js\",\"url\":\"/assetserver/382b41b3b1bd9f26f75861d360bad7f8beea211f-knockout_punches.js\"}],\"type\":\"async_block\"})).then((imports) => handler.apply(this, imports));\n}\n"
                ],
                "observables": {
                 "changes": {
                  "id": "1135085048411370284",
                  "sync": false,
                  "value": 0
                 },
                 "index": {
                  "id": "18257811689119699560",
                  "sync": true,
                  "value": 10
                 }
                },
                "systemjs_options": null
               },
               "nodeType": "Scope",
               "props": {},
               "type": "node"
              }
             ],
             "instanceArgs": {
              "namespace": "html",
              "tag": "div"
             },
             "nodeType": "DOM",
             "props": {
              "className": "field interact-widget"
             },
             "type": "node"
            },
            {
             "children": [
              {
               "children": [
                {
                 "children": [
                  {
                   "children": [],
                   "instanceArgs": {
                    "namespace": "html",
                    "tag": "div"
                   },
                   "nodeType": "DOM",
                   "props": {
                    "id": "container"
                   },
                   "type": "node"
                  }
                 ],
                 "instanceArgs": {
                  "handlers": {
                   "value": [
                    "(function (txt){return this.k.render(txt,this.container)})"
                   ]
                  },
                  "id": "4445714189495756547",
                  "imports": {
                   "data": [
                    {
                     "name": null,
                     "type": "js",
                     "url": "/assetserver/dd22ed1bf1896c2748f3fe616ce0b838adc895c1-katex.min.js"
                    },
                    {
                     "name": null,
                     "type": "css",
                     "url": "/assetserver/46517a424aa5e6cffc1360d7e0848b601c584ee3-katex.min.css"
                    }
                   ],
                   "type": "async_block"
                  },
                  "mount_callbacks": [
                   "function () {\n    var handler = ((function (k){this.k=k; this.container=this.dom.querySelector(\"#container\"); return k.render(\"\\\\;\\\\;\",this.container)}));\n    (WebIO.importBlock({\"data\":[{\"name\":null,\"type\":\"js\",\"url\":\"/assetserver/dd22ed1bf1896c2748f3fe616ce0b838adc895c1-katex.min.js\"},{\"name\":null,\"type\":\"css\",\"url\":\"/assetserver/46517a424aa5e6cffc1360d7e0848b601c584ee3-katex.min.css\"}],\"type\":\"async_block\"})).then((imports) => handler.apply(this, imports));\n}\n"
                  ],
                  "observables": {
                   "value": {
                    "id": "15070408237023909358",
                    "sync": false,
                    "value": "\\;\\;"
                   }
                  },
                  "systemjs_options": null
                 },
                 "nodeType": "Scope",
                 "props": {},
                 "type": "node"
                }
               ],
               "instanceArgs": {
                "namespace": "html",
                "tag": "div"
               },
               "nodeType": "DOM",
               "props": {
                "className": "interact-widget"
               },
               "type": "node"
              },
              {
               "children": [
                {
                 "children": [
                  {
                   "children": [
                    "run"
                   ],
                   "instanceArgs": {
                    "namespace": "html",
                    "tag": "button"
                   },
                   "nodeType": "DOM",
                   "props": {
                    "attributes": {
                     "data-bind": "click: function (){this.clicks(this.clicks()+1)}, css: {'is-loading' : loading}"
                    },
                    "className": "is-medium button is-primary",
                    "style": {}
                   },
                   "type": "node"
                  }
                 ],
                 "instanceArgs": {
                  "handlers": {
                   "clicks": [
                    "(function (val){return (val!=this.model[\"clicks\"]()) ? (this.valueFromJulia[\"clicks\"]=true, this.model[\"clicks\"](val)) : undefined})"
                   ],
                   "loading": [
                    "(function (val){return (val!=this.model[\"loading\"]()) ? (this.valueFromJulia[\"loading\"]=true, this.model[\"loading\"](val)) : undefined})"
                   ]
                  },
                  "id": "3978608522699087341",
                  "imports": {
                   "data": [
                    {
                     "name": "knockout",
                     "type": "js",
                     "url": "/assetserver/727383f2a47bd31570b7da84eee7b022dd6d7c78-knockout.js"
                    },
                    {
                     "name": "knockout_punches",
                     "type": "js",
                     "url": "/assetserver/382b41b3b1bd9f26f75861d360bad7f8beea211f-knockout_punches.js"
                    },
                    {
                     "name": null,
                     "type": "js",
                     "url": "/assetserver/5ab20f1060420992a9b82a65b735dee4d81ef413-all.js"
                    },
                    {
                     "name": null,
                     "type": "css",
                     "url": "/assetserver/1cc0ed62837210b80a182cc3676512f895dab686-style.css"
                    },
                    {
                     "name": null,
                     "type": "css",
                     "url": "/assetserver/2eee816f616df3549d7044d45e744fbf8d42bfa1-bulma_confined.min.css"
                    }
                   ],
                   "type": "async_block"
                  },
                  "mount_callbacks": [
                   "function () {\n    var handler = (function (ko, koPunches) {\n    ko.punches.enableAll();\n    ko.bindingHandlers.numericValue = {\n        init: function(element, valueAccessor, allBindings, data, context) {\n            var stringified = ko.observable(ko.unwrap(valueAccessor()));\n            stringified.subscribe(function(value) {\n                var val = parseFloat(value);\n                if (!isNaN(val)) {\n                    valueAccessor()(val);\n                }\n            });\n            valueAccessor().subscribe(function(value) {\n                var str = JSON.stringify(value);\n                if ((str == \"0\") && ([\"-0\", \"-0.\"].indexOf(stringified()) >= 0))\n                     return;\n                 if ([\"null\", \"\"].indexOf(str) >= 0)\n                     return;\n                stringified(str);\n            });\n            ko.applyBindingsToNode(\n                element,\n                {\n                    value: stringified,\n                    valueUpdate: allBindings.get('valueUpdate'),\n                },\n                context,\n            );\n        }\n    };\n    var json_data = {\"loading\":WebIO.getval({\"name\":\"loading\",\"scope\":\"3978608522699087341\",\"id\":\"14904549700141926007\",\"type\":\"observable\"}),\"clicks\":WebIO.getval({\"name\":\"clicks\",\"scope\":\"3978608522699087341\",\"id\":\"12585787150663171509\",\"type\":\"observable\"})};\n    var self = this;\n    function AppViewModel() {\n        for (var key in json_data) {\n            var el = json_data[key];\n            this[key] = Array.isArray(el) ? ko.observableArray(el) : ko.observable(el);\n        }\n        \n        \n        [this[\"loading\"].subscribe((function (val){!(this.valueFromJulia[\"loading\"]) ? (WebIO.setval({\"name\":\"loading\",\"scope\":\"3978608522699087341\",\"id\":\"14904549700141926007\",\"type\":\"observable\"},val)) : undefined; return this.valueFromJulia[\"loading\"]=false}),self),this[\"clicks\"].subscribe((function (val){!(this.valueFromJulia[\"clicks\"]) ? (WebIO.setval({\"name\":\"clicks\",\"scope\":\"3978608522699087341\",\"id\":\"12585787150663171509\",\"type\":\"observable\"},val)) : undefined; return this.valueFromJulia[\"clicks\"]=false}),self)]\n        \n    }\n    self.model = new AppViewModel();\n    self.valueFromJulia = {};\n    for (var key in json_data) {\n        self.valueFromJulia[key] = false;\n    }\n    ko.applyBindings(self.model, self.dom);\n}\n);\n    (WebIO.importBlock({\"data\":[{\"name\":\"knockout\",\"type\":\"js\",\"url\":\"/assetserver/727383f2a47bd31570b7da84eee7b022dd6d7c78-knockout.js\"},{\"name\":\"knockout_punches\",\"type\":\"js\",\"url\":\"/assetserver/382b41b3b1bd9f26f75861d360bad7f8beea211f-knockout_punches.js\"}],\"type\":\"async_block\"})).then((imports) => handler.apply(this, imports));\n}\n"
                  ],
                  "observables": {
                   "clicks": {
                    "id": "12585787150663171509",
                    "sync": true,
                    "value": 0
                   },
                   "loading": {
                    "id": "14904549700141926007",
                    "sync": false,
                    "value": false
                   }
                  },
                  "systemjs_options": null
                 },
                 "nodeType": "Scope",
                 "props": {},
                 "type": "node"
                }
               ],
               "instanceArgs": {
                "namespace": "html",
                "tag": "div"
               },
               "nodeType": "DOM",
               "props": {
                "className": "field interact-widget"
               },
               "type": "node"
              },
              {
               "children": [
                {
                 "children": [
                  {
                   "children": [],
                   "instanceArgs": {
                    "namespace": "html",
                    "tag": "div"
                   },
                   "nodeType": "DOM",
                   "props": {
                    "id": "container"
                   },
                   "type": "node"
                  }
                 ],
                 "instanceArgs": {
                  "handlers": {
                   "value": [
                    "(function (txt){return this.k.render(txt,this.container)})"
                   ]
                  },
                  "id": "4445714189495756547",
                  "imports": {
                   "data": [
                    {
                     "name": null,
                     "type": "js",
                     "url": "/assetserver/dd22ed1bf1896c2748f3fe616ce0b838adc895c1-katex.min.js"
                    },
                    {
                     "name": null,
                     "type": "css",
                     "url": "/assetserver/46517a424aa5e6cffc1360d7e0848b601c584ee3-katex.min.css"
                    }
                   ],
                   "type": "async_block"
                  },
                  "mount_callbacks": [
                   "function () {\n    var handler = ((function (k){this.k=k; this.container=this.dom.querySelector(\"#container\"); return k.render(\"\\\\;\\\\;\",this.container)}));\n    (WebIO.importBlock({\"data\":[{\"name\":null,\"type\":\"js\",\"url\":\"/assetserver/dd22ed1bf1896c2748f3fe616ce0b838adc895c1-katex.min.js\"},{\"name\":null,\"type\":\"css\",\"url\":\"/assetserver/46517a424aa5e6cffc1360d7e0848b601c584ee3-katex.min.css\"}],\"type\":\"async_block\"})).then((imports) => handler.apply(this, imports));\n}\n"
                  ],
                  "observables": {
                   "value": {
                    "id": "15070408237023909358",
                    "sync": false,
                    "value": "\\;\\;"
                   }
                  },
                  "systemjs_options": null
                 },
                 "nodeType": "Scope",
                 "props": {},
                 "type": "node"
                }
               ],
               "instanceArgs": {
                "namespace": "html",
                "tag": "div"
               },
               "nodeType": "DOM",
               "props": {
                "className": "interact-widget"
               },
               "type": "node"
              },
              {
               "children": [
                {
                 "children": [
                  {
                   "children": [
                    "stop"
                   ],
                   "instanceArgs": {
                    "namespace": "html",
                    "tag": "button"
                   },
                   "nodeType": "DOM",
                   "props": {
                    "attributes": {
                     "data-bind": "click: function (){this.clicks(this.clicks()+1)}, css: {'is-loading' : loading}"
                    },
                    "className": "is-medium button is-primary",
                    "style": {}
                   },
                   "type": "node"
                  }
                 ],
                 "instanceArgs": {
                  "handlers": {
                   "clicks": [
                    "(function (val){return (val!=this.model[\"clicks\"]()) ? (this.valueFromJulia[\"clicks\"]=true, this.model[\"clicks\"](val)) : undefined})"
                   ],
                   "loading": [
                    "(function (val){return (val!=this.model[\"loading\"]()) ? (this.valueFromJulia[\"loading\"]=true, this.model[\"loading\"](val)) : undefined})"
                   ]
                  },
                  "id": "15285759675944302319",
                  "imports": {
                   "data": [
                    {
                     "name": "knockout",
                     "type": "js",
                     "url": "/assetserver/727383f2a47bd31570b7da84eee7b022dd6d7c78-knockout.js"
                    },
                    {
                     "name": "knockout_punches",
                     "type": "js",
                     "url": "/assetserver/382b41b3b1bd9f26f75861d360bad7f8beea211f-knockout_punches.js"
                    },
                    {
                     "name": null,
                     "type": "js",
                     "url": "/assetserver/5ab20f1060420992a9b82a65b735dee4d81ef413-all.js"
                    },
                    {
                     "name": null,
                     "type": "css",
                     "url": "/assetserver/1cc0ed62837210b80a182cc3676512f895dab686-style.css"
                    },
                    {
                     "name": null,
                     "type": "css",
                     "url": "/assetserver/2eee816f616df3549d7044d45e744fbf8d42bfa1-bulma_confined.min.css"
                    }
                   ],
                   "type": "async_block"
                  },
                  "mount_callbacks": [
                   "function () {\n    var handler = (function (ko, koPunches) {\n    ko.punches.enableAll();\n    ko.bindingHandlers.numericValue = {\n        init: function(element, valueAccessor, allBindings, data, context) {\n            var stringified = ko.observable(ko.unwrap(valueAccessor()));\n            stringified.subscribe(function(value) {\n                var val = parseFloat(value);\n                if (!isNaN(val)) {\n                    valueAccessor()(val);\n                }\n            });\n            valueAccessor().subscribe(function(value) {\n                var str = JSON.stringify(value);\n                if ((str == \"0\") && ([\"-0\", \"-0.\"].indexOf(stringified()) >= 0))\n                     return;\n                 if ([\"null\", \"\"].indexOf(str) >= 0)\n                     return;\n                stringified(str);\n            });\n            ko.applyBindingsToNode(\n                element,\n                {\n                    value: stringified,\n                    valueUpdate: allBindings.get('valueUpdate'),\n                },\n                context,\n            );\n        }\n    };\n    var json_data = {\"loading\":WebIO.getval({\"name\":\"loading\",\"scope\":\"15285759675944302319\",\"id\":\"1159199123501695090\",\"type\":\"observable\"}),\"clicks\":WebIO.getval({\"name\":\"clicks\",\"scope\":\"15285759675944302319\",\"id\":\"7887726380628509032\",\"type\":\"observable\"})};\n    var self = this;\n    function AppViewModel() {\n        for (var key in json_data) {\n            var el = json_data[key];\n            this[key] = Array.isArray(el) ? ko.observableArray(el) : ko.observable(el);\n        }\n        \n        \n        [this[\"loading\"].subscribe((function (val){!(this.valueFromJulia[\"loading\"]) ? (WebIO.setval({\"name\":\"loading\",\"scope\":\"15285759675944302319\",\"id\":\"1159199123501695090\",\"type\":\"observable\"},val)) : undefined; return this.valueFromJulia[\"loading\"]=false}),self),this[\"clicks\"].subscribe((function (val){!(this.valueFromJulia[\"clicks\"]) ? (WebIO.setval({\"name\":\"clicks\",\"scope\":\"15285759675944302319\",\"id\":\"7887726380628509032\",\"type\":\"observable\"},val)) : undefined; return this.valueFromJulia[\"clicks\"]=false}),self)]\n        \n    }\n    self.model = new AppViewModel();\n    self.valueFromJulia = {};\n    for (var key in json_data) {\n        self.valueFromJulia[key] = false;\n    }\n    ko.applyBindings(self.model, self.dom);\n}\n);\n    (WebIO.importBlock({\"data\":[{\"name\":\"knockout\",\"type\":\"js\",\"url\":\"/assetserver/727383f2a47bd31570b7da84eee7b022dd6d7c78-knockout.js\"},{\"name\":\"knockout_punches\",\"type\":\"js\",\"url\":\"/assetserver/382b41b3b1bd9f26f75861d360bad7f8beea211f-knockout_punches.js\"}],\"type\":\"async_block\"})).then((imports) => handler.apply(this, imports));\n}\n"
                  ],
                  "observables": {
                   "clicks": {
                    "id": "7887726380628509032",
                    "sync": true,
                    "value": 0
                   },
                   "loading": {
                    "id": "1159199123501695090",
                    "sync": false,
                    "value": false
                   }
                  },
                  "systemjs_options": null
                 },
                 "nodeType": "Scope",
                 "props": {},
                 "type": "node"
                }
               ],
               "instanceArgs": {
                "namespace": "html",
                "tag": "div"
               },
               "nodeType": "DOM",
               "props": {
                "className": "field interact-widget"
               },
               "type": "node"
              },
              {
               "children": [
                {
                 "children": [
                  {
                   "children": [],
                   "instanceArgs": {
                    "namespace": "html",
                    "tag": "div"
                   },
                   "nodeType": "DOM",
                   "props": {
                    "id": "container"
                   },
                   "type": "node"
                  }
                 ],
                 "instanceArgs": {
                  "handlers": {
                   "value": [
                    "(function (txt){return this.k.render(txt,this.container)})"
                   ]
                  },
                  "id": "4445714189495756547",
                  "imports": {
                   "data": [
                    {
                     "name": null,
                     "type": "js",
                     "url": "/assetserver/dd22ed1bf1896c2748f3fe616ce0b838adc895c1-katex.min.js"
                    },
                    {
                     "name": null,
                     "type": "css",
                     "url": "/assetserver/46517a424aa5e6cffc1360d7e0848b601c584ee3-katex.min.css"
                    }
                   ],
                   "type": "async_block"
                  },
                  "mount_callbacks": [
                   "function () {\n    var handler = ((function (k){this.k=k; this.container=this.dom.querySelector(\"#container\"); return k.render(\"\\\\;\\\\;\",this.container)}));\n    (WebIO.importBlock({\"data\":[{\"name\":null,\"type\":\"js\",\"url\":\"/assetserver/dd22ed1bf1896c2748f3fe616ce0b838adc895c1-katex.min.js\"},{\"name\":null,\"type\":\"css\",\"url\":\"/assetserver/46517a424aa5e6cffc1360d7e0848b601c584ee3-katex.min.css\"}],\"type\":\"async_block\"})).then((imports) => handler.apply(this, imports));\n}\n"
                  ],
                  "observables": {
                   "value": {
                    "id": "15070408237023909358",
                    "sync": false,
                    "value": "\\;\\;"
                   }
                  },
                  "systemjs_options": null
                 },
                 "nodeType": "Scope",
                 "props": {},
                 "type": "node"
                }
               ],
               "instanceArgs": {
                "namespace": "html",
                "tag": "div"
               },
               "nodeType": "DOM",
               "props": {
                "className": "interact-widget"
               },
               "type": "node"
              },
              {
               "children": [
                {
                 "children": [
                  {
                   "children": [
                    "save"
                   ],
                   "instanceArgs": {
                    "namespace": "html",
                    "tag": "button"
                   },
                   "nodeType": "DOM",
                   "props": {
                    "attributes": {
                     "data-bind": "click: function (){this.clicks(this.clicks()+1)}, css: {'is-loading' : loading}"
                    },
                    "className": "is-medium button is-primary",
                    "style": {}
                   },
                   "type": "node"
                  }
                 ],
                 "instanceArgs": {
                  "handlers": {
                   "clicks": [
                    "(function (val){return (val!=this.model[\"clicks\"]()) ? (this.valueFromJulia[\"clicks\"]=true, this.model[\"clicks\"](val)) : undefined})"
                   ],
                   "loading": [
                    "(function (val){return (val!=this.model[\"loading\"]()) ? (this.valueFromJulia[\"loading\"]=true, this.model[\"loading\"](val)) : undefined})"
                   ]
                  },
                  "id": "13355425725240437951",
                  "imports": {
                   "data": [
                    {
                     "name": "knockout",
                     "type": "js",
                     "url": "/assetserver/727383f2a47bd31570b7da84eee7b022dd6d7c78-knockout.js"
                    },
                    {
                     "name": "knockout_punches",
                     "type": "js",
                     "url": "/assetserver/382b41b3b1bd9f26f75861d360bad7f8beea211f-knockout_punches.js"
                    },
                    {
                     "name": null,
                     "type": "js",
                     "url": "/assetserver/5ab20f1060420992a9b82a65b735dee4d81ef413-all.js"
                    },
                    {
                     "name": null,
                     "type": "css",
                     "url": "/assetserver/1cc0ed62837210b80a182cc3676512f895dab686-style.css"
                    },
                    {
                     "name": null,
                     "type": "css",
                     "url": "/assetserver/2eee816f616df3549d7044d45e744fbf8d42bfa1-bulma_confined.min.css"
                    }
                   ],
                   "type": "async_block"
                  },
                  "mount_callbacks": [
                   "function () {\n    var handler = (function (ko, koPunches) {\n    ko.punches.enableAll();\n    ko.bindingHandlers.numericValue = {\n        init: function(element, valueAccessor, allBindings, data, context) {\n            var stringified = ko.observable(ko.unwrap(valueAccessor()));\n            stringified.subscribe(function(value) {\n                var val = parseFloat(value);\n                if (!isNaN(val)) {\n                    valueAccessor()(val);\n                }\n            });\n            valueAccessor().subscribe(function(value) {\n                var str = JSON.stringify(value);\n                if ((str == \"0\") && ([\"-0\", \"-0.\"].indexOf(stringified()) >= 0))\n                     return;\n                 if ([\"null\", \"\"].indexOf(str) >= 0)\n                     return;\n                stringified(str);\n            });\n            ko.applyBindingsToNode(\n                element,\n                {\n                    value: stringified,\n                    valueUpdate: allBindings.get('valueUpdate'),\n                },\n                context,\n            );\n        }\n    };\n    var json_data = {\"loading\":WebIO.getval({\"name\":\"loading\",\"scope\":\"13355425725240437951\",\"id\":\"670269892490866283\",\"type\":\"observable\"}),\"clicks\":WebIO.getval({\"name\":\"clicks\",\"scope\":\"13355425725240437951\",\"id\":\"11048753691264026654\",\"type\":\"observable\"})};\n    var self = this;\n    function AppViewModel() {\n        for (var key in json_data) {\n            var el = json_data[key];\n            this[key] = Array.isArray(el) ? ko.observableArray(el) : ko.observable(el);\n        }\n        \n        \n        [this[\"loading\"].subscribe((function (val){!(this.valueFromJulia[\"loading\"]) ? (WebIO.setval({\"name\":\"loading\",\"scope\":\"13355425725240437951\",\"id\":\"670269892490866283\",\"type\":\"observable\"},val)) : undefined; return this.valueFromJulia[\"loading\"]=false}),self),this[\"clicks\"].subscribe((function (val){!(this.valueFromJulia[\"clicks\"]) ? (WebIO.setval({\"name\":\"clicks\",\"scope\":\"13355425725240437951\",\"id\":\"11048753691264026654\",\"type\":\"observable\"},val)) : undefined; return this.valueFromJulia[\"clicks\"]=false}),self)]\n        \n    }\n    self.model = new AppViewModel();\n    self.valueFromJulia = {};\n    for (var key in json_data) {\n        self.valueFromJulia[key] = false;\n    }\n    ko.applyBindings(self.model, self.dom);\n}\n);\n    (WebIO.importBlock({\"data\":[{\"name\":\"knockout\",\"type\":\"js\",\"url\":\"/assetserver/727383f2a47bd31570b7da84eee7b022dd6d7c78-knockout.js\"},{\"name\":\"knockout_punches\",\"type\":\"js\",\"url\":\"/assetserver/382b41b3b1bd9f26f75861d360bad7f8beea211f-knockout_punches.js\"}],\"type\":\"async_block\"})).then((imports) => handler.apply(this, imports));\n}\n"
                  ],
                  "observables": {
                   "clicks": {
                    "id": "11048753691264026654",
                    "sync": true,
                    "value": 0
                   },
                   "loading": {
                    "id": "670269892490866283",
                    "sync": false,
                    "value": false
                   }
                  },
                  "systemjs_options": null
                 },
                 "nodeType": "Scope",
                 "props": {},
                 "type": "node"
                }
               ],
               "instanceArgs": {
                "namespace": "html",
                "tag": "div"
               },
               "nodeType": "DOM",
               "props": {
                "className": "field interact-widget"
               },
               "type": "node"
              }
             ],
             "instanceArgs": {
              "namespace": "html",
              "tag": "div"
             },
             "nodeType": "DOM",
             "props": {
              "style": {
               "display": "flex",
               "flex-direction": "row"
              }
             },
             "type": "node"
            }
           ],
           "instanceArgs": {
            "namespace": "html",
            "tag": "div"
           },
           "nodeType": "DOM",
           "props": {
            "style": {
             "display": "flex",
             "flex-direction": "column"
            }
           },
           "type": "node"
          },
          {
           "children": [
            {
             "children": [
              {
               "children": [],
               "instanceArgs": {
                "namespace": "html",
                "tag": "div"
               },
               "nodeType": "DOM",
               "props": {
                "id": "container"
               },
               "type": "node"
              }
             ],
             "instanceArgs": {
              "handlers": {
               "value": [
                "(function (txt){return this.k.render(txt,this.container)})"
               ]
              },
              "id": "4445714189495756547",
              "imports": {
               "data": [
                {
                 "name": null,
                 "type": "js",
                 "url": "/assetserver/dd22ed1bf1896c2748f3fe616ce0b838adc895c1-katex.min.js"
                },
                {
                 "name": null,
                 "type": "css",
                 "url": "/assetserver/46517a424aa5e6cffc1360d7e0848b601c584ee3-katex.min.css"
                }
               ],
               "type": "async_block"
              },
              "mount_callbacks": [
               "function () {\n    var handler = ((function (k){this.k=k; this.container=this.dom.querySelector(\"#container\"); return k.render(\"\\\\;\\\\;\",this.container)}));\n    (WebIO.importBlock({\"data\":[{\"name\":null,\"type\":\"js\",\"url\":\"/assetserver/dd22ed1bf1896c2748f3fe616ce0b838adc895c1-katex.min.js\"},{\"name\":null,\"type\":\"css\",\"url\":\"/assetserver/46517a424aa5e6cffc1360d7e0848b601c584ee3-katex.min.css\"}],\"type\":\"async_block\"})).then((imports) => handler.apply(this, imports));\n}\n"
              ],
              "observables": {
               "value": {
                "id": "15070408237023909358",
                "sync": false,
                "value": "\\;\\;"
               }
              },
              "systemjs_options": null
             },
             "nodeType": "Scope",
             "props": {},
             "type": "node"
            }
           ],
           "instanceArgs": {
            "namespace": "html",
            "tag": "div"
           },
           "nodeType": "DOM",
           "props": {
            "className": "interact-widget"
           },
           "type": "node"
          },
          {
           "children": [
            {
             "children": [],
             "instanceArgs": {
              "namespace": "html",
              "tag": "div"
             },
             "nodeType": "DOM",
             "props": {
              "className": "webio-observable",
              "setInnerHtml": "<img src='data:image/png;base64,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'></img>"
             },
             "type": "node"
            }
           ],
           "instanceArgs": {
            "handlers": {
             "obs-output": [
              "function (value, scope) {\n    scope.setInnerHTML(value);\n}\n"
             ]
            },
            "id": "1694316567889972804",
            "imports": {
             "data": [],
             "type": "async_block"
            },
            "mount_callbacks": [],
            "observables": {
             "obs-output": {
              "id": "8171118160556857921",
              "sync": false,
              "value": "<img src='data:image/png;base64,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'></img>"
             }
            },
            "systemjs_options": null
           },
           "nodeType": "Scope",
           "props": {},
           "type": "node"
          },
          {
           "children": [
            {
             "children": [
              {
               "children": [],
               "instanceArgs": {
                "namespace": "html",
                "tag": "div"
               },
               "nodeType": "DOM",
               "props": {
                "id": "container"
               },
               "type": "node"
              }
             ],
             "instanceArgs": {
              "handlers": {
               "value": [
                "(function (txt){return this.k.render(txt,this.container)})"
               ]
              },
              "id": "4445714189495756547",
              "imports": {
               "data": [
                {
                 "name": null,
                 "type": "js",
                 "url": "/assetserver/dd22ed1bf1896c2748f3fe616ce0b838adc895c1-katex.min.js"
                },
                {
                 "name": null,
                 "type": "css",
                 "url": "/assetserver/46517a424aa5e6cffc1360d7e0848b601c584ee3-katex.min.css"
                }
               ],
               "type": "async_block"
              },
              "mount_callbacks": [
               "function () {\n    var handler = ((function (k){this.k=k; this.container=this.dom.querySelector(\"#container\"); return k.render(\"\\\\;\\\\;\",this.container)}));\n    (WebIO.importBlock({\"data\":[{\"name\":null,\"type\":\"js\",\"url\":\"/assetserver/dd22ed1bf1896c2748f3fe616ce0b838adc895c1-katex.min.js\"},{\"name\":null,\"type\":\"css\",\"url\":\"/assetserver/46517a424aa5e6cffc1360d7e0848b601c584ee3-katex.min.css\"}],\"type\":\"async_block\"})).then((imports) => handler.apply(this, imports));\n}\n"
              ],
              "observables": {
               "value": {
                "id": "15070408237023909358",
                "sync": false,
                "value": "\\;\\;"
               }
              },
              "systemjs_options": null
             },
             "nodeType": "Scope",
             "props": {},
             "type": "node"
            }
           ],
           "instanceArgs": {
            "namespace": "html",
            "tag": "div"
           },
           "nodeType": "DOM",
           "props": {
            "className": "interact-widget"
           },
           "type": "node"
          },
          {
           "children": [],
           "instanceArgs": {
            "namespace": "html",
            "tag": "div"
           },
           "nodeType": "DOM",
           "props": {
            "style": {
             "display": "flex",
             "flex-direction": "column"
            }
           },
           "type": "node"
          }
         ],
         "instanceArgs": {
          "namespace": "html",
          "tag": "div"
         },
         "nodeType": "DOM",
         "props": {
          "style": {
           "display": "flex",
           "flex-direction": "row"
          }
         },
         "type": "node"
        }
       ],
       "instanceArgs": {
        "namespace": "html",
        "tag": "div"
       },
       "nodeType": "DOM",
       "props": {
        "style": {
         "display": "flex",
         "flex-direction": "column"
        }
       },
       "type": "node"
      },
      "text/html": [
       "<div\n",
       "    class=\"webio-mountpoint\"\n",
       "    data-webio-mountpoint=\"17904198661186342736\"\n",
       ">\n",
       "    <script>\n",
       "    (function(){\n",
       "    // Some integrations (namely, IJulia/Jupyter) use an alternate render pathway than\n",
       "    // just putting the html on the page. If WebIO isn't defined, then it's pretty likely\n",
       "    // that we're in one of those situations and the integration just isn't installed\n",
       "    // correctly.\n",
       "    if (typeof window.WebIO === \"undefined\") {\n",
       "        document\n",
       "            .querySelector('[data-webio-mountpoint=\"17904198661186342736\"]')\n",
       "            .innerHTML = (\n",
       "                '<div style=\"padding: 1em; background-color: #f8d6da; border: 1px solid #f5c6cb; font-weight: bold;\">' +\n",
       "                '<p><strong>WebIO not detected.</strong></p>' +\n",
       "                '<p>Please read ' +\n",
       "                '<a href=\"https://juliagizmos.github.io/WebIO.jl/latest/troubleshooting/not-detected/\" target=\"_blank\">the troubleshooting guide</a> ' +\n",
       "                'for more information on how to resolve this issue.</p>' +\n",
       "                '<p><a href=\"https://juliagizmos.github.io/WebIO.jl/latest/troubleshooting/not-detected/\" target=\"_blank\">https://juliagizmos.github.io/WebIO.jl/latest/troubleshooting/not-detected/</a></p>' +\n",
       "                '</div>'\n",
       "            );\n",
       "        return;\n",
       "    }\n",
       "    WebIO.mount(\n",
       "        document.querySelector('[data-webio-mountpoint=\"17904198661186342736\"]'),\n",
       "        {\"props\":{\"style\":{\"display\":\"flex\",\"flex-direction\":\"column\"}},\"nodeType\":\"DOM\",\"type\":\"node\",\"instanceArgs\":{\"namespace\":\"html\",\"tag\":\"div\"},\"children\":[{\"props\":{\"style\":{\"display\":\"flex\",\"flex-direction\":\"row\"}},\"nodeType\":\"DOM\",\"type\":\"node\",\"instanceArgs\":{\"namespace\":\"html\",\"tag\":\"div\"},\"children\":[{\"props\":{\"style\":{\"display\":\"flex\",\"flex-direction\":\"column\"}},\"nodeType\":\"DOM\",\"type\":\"node\",\"instanceArgs\":{\"namespace\":\"html\",\"tag\":\"div\"},\"children\":[{\"props\":{\"className\":\"field interact-widget\"},\"nodeType\":\"DOM\",\"type\":\"node\",\"instanceArgs\":{\"namespace\":\"html\",\"tag\":\"div\"},\"children\":[{\"props\":{},\"nodeType\":\"Scope\",\"type\":\"node\",\"instanceArgs\":{\"imports\":{\"data\":[{\"name\":\"knockout\",\"type\":\"js\",\"url\":\"\\/assetserver\\/727383f2a47bd31570b7da84eee7b022dd6d7c78-knockout.js\"},{\"name\":\"knockout_punches\",\"type\":\"js\",\"url\":\"\\/assetserver\\/382b41b3b1bd9f26f75861d360bad7f8beea211f-knockout_punches.js\"},{\"name\":null,\"type\":\"js\",\"url\":\"\\/assetserver\\/5ab20f1060420992a9b82a65b735dee4d81ef413-all.js\"},{\"name\":null,\"type\":\"css\",\"url\":\"\\/assetserver\\/1cc0ed62837210b80a182cc3676512f895dab686-style.css\"},{\"name\":null,\"type\":\"css\",\"url\":\"\\/assetserver\\/2eee816f616df3549d7044d45e744fbf8d42bfa1-bulma_confined.min.css\"}],\"type\":\"async_block\"},\"id\":\"16716710052155557029\",\"handlers\":{\"changes\":[\"(function (val){return (val!=this.model[\\\"changes\\\"]()) ? (this.valueFromJulia[\\\"changes\\\"]=true, this.model[\\\"changes\\\"](val)) : undefined})\"],\"index\":[\"(function (val){return (val!=this.model[\\\"index\\\"]()) ? (this.valueFromJulia[\\\"index\\\"]=true, this.model[\\\"index\\\"](val)) : undefined})\"]},\"systemjs_options\":null,\"mount_callbacks\":[\"function () {\\n    var handler = (function (ko, koPunches) {\\n    ko.punches.enableAll();\\n    ko.bindingHandlers.numericValue = {\\n        init: function(element, valueAccessor, allBindings, data, context) {\\n            var stringified = ko.observable(ko.unwrap(valueAccessor()));\\n            stringified.subscribe(function(value) {\\n                var val = parseFloat(value);\\n                if (!isNaN(val)) {\\n                    valueAccessor()(val);\\n                }\\n            });\\n            valueAccessor().subscribe(function(value) {\\n                var str = JSON.stringify(value);\\n                if ((str == \\\"0\\\") && ([\\\"-0\\\", \\\"-0.\\\"].indexOf(stringified()) >= 0))\\n                     return;\\n                 if ([\\\"null\\\", \\\"\\\"].indexOf(str) >= 0)\\n                     return;\\n                stringified(str);\\n            });\\n            ko.applyBindingsToNode(\\n                element,\\n                {\\n                    value: stringified,\\n                    valueUpdate: allBindings.get('valueUpdate'),\\n                },\\n                context,\\n            );\\n        }\\n    };\\n    var json_data = {\\\"formatted_vals\\\":[\\\"1\\\",\\\"2\\\",\\\"3\\\",\\\"4\\\",\\\"5\\\",\\\"6\\\",\\\"7\\\",\\\"8\\\",\\\"9\\\",\\\"10\\\",\\\"11\\\",\\\"12\\\",\\\"13\\\",\\\"14\\\",\\\"15\\\",\\\"16\\\",\\\"17\\\",\\\"18\\\",\\\"19\\\",\\\"20\\\",\\\"21\\\",\\\"22\\\",\\\"23\\\",\\\"24\\\",\\\"25\\\",\\\"26\\\",\\\"27\\\",\\\"28\\\",\\\"29\\\",\\\"30\\\",\\\"31\\\",\\\"32\\\",\\\"33\\\",\\\"34\\\",\\\"35\\\",\\\"36\\\",\\\"37\\\",\\\"38\\\",\\\"39\\\",\\\"40\\\",\\\"41\\\",\\\"42\\\",\\\"43\\\",\\\"44\\\",\\\"45\\\",\\\"46\\\",\\\"47\\\",\\\"48\\\",\\\"49\\\",\\\"50\\\",\\\"51\\\",\\\"52\\\",\\\"53\\\",\\\"54\\\",\\\"55\\\",\\\"56\\\",\\\"57\\\",\\\"58\\\",\\\"59\\\",\\\"60\\\",\\\"61\\\",\\\"62\\\",\\\"63\\\",\\\"64\\\",\\\"65\\\",\\\"66\\\",\\\"67\\\",\\\"68\\\",\\\"69\\\",\\\"70\\\",\\\"71\\\",\\\"72\\\",\\\"73\\\",\\\"74\\\",\\\"75\\\",\\\"76\\\",\\\"77\\\",\\\"78\\\",\\\"79\\\",\\\"80\\\",\\\"81\\\",\\\"82\\\",\\\"83\\\",\\\"84\\\",\\\"85\\\",\\\"86\\\",\\\"87\\\",\\\"88\\\",\\\"89\\\",\\\"90\\\",\\\"91\\\",\\\"92\\\",\\\"93\\\",\\\"94\\\",\\\"95\\\",\\\"96\\\",\\\"97\\\",\\\"98\\\",\\\"99\\\",\\\"100\\\",\\\"101\\\",\\\"102\\\",\\\"103\\\",\\\"104\\\",\\\"105\\\",\\\"106\\\",\\\"107\\\",\\\"108\\\",\\\"109\\\",\\\"110\\\",\\\"111\\\",\\\"112\\\",\\\"113\\\",\\\"114\\\",\\\"115\\\",\\\"116\\\",\\\"117\\\",\\\"118\\\",\\\"119\\\",\\\"120\\\",\\\"121\\\",\\\"122\\\",\\\"123\\\",\\\"124\\\",\\\"125\\\",\\\"126\\\",\\\"127\\\",\\\"128\\\",\\\"129\\\",\\\"130\\\",\\\"131\\\",\\\"132\\\",\\\"133\\\",\\\"134\\\",\\\"135\\\",\\\"136\\\",\\\"137\\\",\\\"138\\\",\\\"139\\\",\\\"140\\\",\\\"141\\\",\\\"142\\\",\\\"143\\\",\\\"144\\\",\\\"145\\\",\\\"146\\\",\\\"147\\\",\\\"148\\\",\\\"149\\\",\\\"150\\\",\\\"151\\\",\\\"152\\\",\\\"153\\\",\\\"154\\\",\\\"155\\\",\\\"156\\\",\\\"157\\\",\\\"158\\\",\\\"159\\\",\\\"160\\\",\\\"161\\\",\\\"162\\\",\\\"163\\\",\\\"164\\\",\\\"165\\\",\\\"166\\\",\\\"167\\\",\\\"168\\\",\\\"169\\\",\\\"170\\\",\\\"171\\\",\\\"172\\\",\\\"173\\\",\\\"174\\\",\\\"175\\\",\\\"176\\\",\\\"177\\\",\\\"178\\\",\\\"179\\\",\\\"180\\\",\\\"181\\\",\\\"182\\\",\\\"183\\\",\\\"184\\\",\\\"185\\\",\\\"186\\\",\\\"187\\\",\\\"188\\\",\\\"189\\\",\\\"190\\\",\\\"191\\\",\\\"192\\\",\\\"193\\\",\\\"194\\\",\\\"195\\\",\\\"196\\\",\\\"197\\\",\\\"198\\\",\\\"199\\\",\\\"200\\\",\\\"201\\\"],\\\"changes\\\":WebIO.getval({\\\"name\\\":\\\"changes\\\",\\\"scope\\\":\\\"16716710052155557029\\\",\\\"id\\\":\\\"12312154880730833918\\\",\\\"type\\\":\\\"observable\\\"}),\\\"index\\\":WebIO.getval({\\\"name\\\":\\\"index\\\",\\\"scope\\\":\\\"16716710052155557029\\\",\\\"id\\\":\\\"14925177916426045576\\\",\\\"type\\\":\\\"observable\\\"})};\\n    var self = this;\\n    function AppViewModel() {\\n        for (var key in json_data) {\\n            var el = json_data[key];\\n            this[key] = Array.isArray(el) ? ko.observableArray(el) : ko.observable(el);\\n        }\\n        \\n        [this[\\\"formatted_val\\\"]=ko.computed(    function(){\\n        return this.formatted_vals()[parseInt(this.index())-(1)];\\n    }\\n,this)]\\n        [this[\\\"changes\\\"].subscribe((function (val){!(this.valueFromJulia[\\\"changes\\\"]) ? (WebIO.setval({\\\"name\\\":\\\"changes\\\",\\\"scope\\\":\\\"16716710052155557029\\\",\\\"id\\\":\\\"12312154880730833918\\\",\\\"type\\\":\\\"observable\\\"},val)) : undefined; return this.valueFromJulia[\\\"changes\\\"]=false}),self),this[\\\"index\\\"].subscribe((function (val){!(this.valueFromJulia[\\\"index\\\"]) ? (WebIO.setval({\\\"name\\\":\\\"index\\\",\\\"scope\\\":\\\"16716710052155557029\\\",\\\"id\\\":\\\"14925177916426045576\\\",\\\"type\\\":\\\"observable\\\"},val)) : undefined; return this.valueFromJulia[\\\"index\\\"]=false}),self)]\\n        \\n    }\\n    self.model = new AppViewModel();\\n    self.valueFromJulia = {};\\n    for (var key in json_data) {\\n        self.valueFromJulia[key] = false;\\n    }\\n    ko.applyBindings(self.model, self.dom);\\n}\\n);\\n    (WebIO.importBlock({\\\"data\\\":[{\\\"name\\\":\\\"knockout\\\",\\\"type\\\":\\\"js\\\",\\\"url\\\":\\\"\\/assetserver\\/727383f2a47bd31570b7da84eee7b022dd6d7c78-knockout.js\\\"},{\\\"name\\\":\\\"knockout_punches\\\",\\\"type\\\":\\\"js\\\",\\\"url\\\":\\\"\\/assetserver\\/382b41b3b1bd9f26f75861d360bad7f8beea211f-knockout_punches.js\\\"}],\\\"type\\\":\\\"async_block\\\"})).then((imports) => handler.apply(this, imports));\\n}\\n\"],\"observables\":{\"changes\":{\"sync\":false,\"id\":\"12312154880730833918\",\"value\":0},\"index\":{\"sync\":true,\"id\":\"14925177916426045576\",\"value\":101}}},\"children\":[{\"props\":{\"className\":\"interact-flex-row interact-widget\"},\"nodeType\":\"DOM\",\"type\":\"node\",\"instanceArgs\":{\"namespace\":\"html\",\"tag\":\"div\"},\"children\":[{\"props\":{\"className\":\"interact-flex-row-left\"},\"nodeType\":\"DOM\",\"type\":\"node\",\"instanceArgs\":{\"namespace\":\"html\",\"tag\":\"div\"},\"children\":[{\"props\":{\"className\":\"interact \",\"style\":{\"padding\":\"5px 10px 0px 10px\"}},\"nodeType\":\"DOM\",\"type\":\"node\",\"instanceArgs\":{\"namespace\":\"html\",\"tag\":\"label\"},\"children\":[\"time\"]}]},{\"props\":{\"className\":\"interact-flex-row-center\"},\"nodeType\":\"DOM\",\"type\":\"node\",\"instanceArgs\":{\"namespace\":\"html\",\"tag\":\"div\"},\"children\":[{\"props\":{\"max\":201,\"min\":1,\"attributes\":{\"type\":\"range\",\"data-bind\":\"numericValue: index, valueUpdate: 'input', event: {change: function (){this.changes(this.changes()+1)}}\",\"orient\":\"horizontal\"},\"step\":1,\"className\":\"slider slider is-fullwidth\",\"style\":{}},\"nodeType\":\"DOM\",\"type\":\"node\",\"instanceArgs\":{\"namespace\":\"html\",\"tag\":\"input\"},\"children\":[]}]},{\"props\":{\"className\":\"interact-flex-row-right\"},\"nodeType\":\"DOM\",\"type\":\"node\",\"instanceArgs\":{\"namespace\":\"html\",\"tag\":\"div\"},\"children\":[{\"props\":{\"attributes\":{\"data-bind\":\"text: formatted_val\"}},\"nodeType\":\"DOM\",\"type\":\"node\",\"instanceArgs\":{\"namespace\":\"html\",\"tag\":\"p\"},\"children\":[]}]}]}]}]},{\"props\":{\"className\":\"field interact-widget\"},\"nodeType\":\"DOM\",\"type\":\"node\",\"instanceArgs\":{\"namespace\":\"html\",\"tag\":\"div\"},\"children\":[{\"props\":{},\"nodeType\":\"Scope\",\"type\":\"node\",\"instanceArgs\":{\"imports\":{\"data\":[{\"name\":\"knockout\",\"type\":\"js\",\"url\":\"\\/assetserver\\/727383f2a47bd31570b7da84eee7b022dd6d7c78-knockout.js\"},{\"name\":\"knockout_punches\",\"type\":\"js\",\"url\":\"\\/assetserver\\/382b41b3b1bd9f26f75861d360bad7f8beea211f-knockout_punches.js\"},{\"name\":null,\"type\":\"js\",\"url\":\"\\/assetserver\\/5ab20f1060420992a9b82a65b735dee4d81ef413-all.js\"},{\"name\":null,\"type\":\"css\",\"url\":\"\\/assetserver\\/1cc0ed62837210b80a182cc3676512f895dab686-style.css\"},{\"name\":null,\"type\":\"css\",\"url\":\"\\/assetserver\\/2eee816f616df3549d7044d45e744fbf8d42bfa1-bulma_confined.min.css\"}],\"type\":\"async_block\"},\"id\":\"2186482968941118665\",\"handlers\":{\"changes\":[\"(function (val){return (val!=this.model[\\\"changes\\\"]()) ? (this.valueFromJulia[\\\"changes\\\"]=true, this.model[\\\"changes\\\"](val)) : undefined})\"],\"index\":[\"(function (val){return (val!=this.model[\\\"index\\\"]()) ? (this.valueFromJulia[\\\"index\\\"]=true, this.model[\\\"index\\\"](val)) : undefined})\"]},\"systemjs_options\":null,\"mount_callbacks\":[\"function () {\\n    var handler = (function (ko, koPunches) {\\n    ko.punches.enableAll();\\n    ko.bindingHandlers.numericValue = {\\n        init: function(element, valueAccessor, allBindings, data, context) {\\n            var stringified = ko.observable(ko.unwrap(valueAccessor()));\\n            stringified.subscribe(function(value) {\\n                var val = parseFloat(value);\\n                if (!isNaN(val)) {\\n                    valueAccessor()(val);\\n                }\\n            });\\n            valueAccessor().subscribe(function(value) {\\n                var str = JSON.stringify(value);\\n                if ((str == \\\"0\\\") && ([\\\"-0\\\", \\\"-0.\\\"].indexOf(stringified()) >= 0))\\n                     return;\\n                 if ([\\\"null\\\", \\\"\\\"].indexOf(str) >= 0)\\n                     return;\\n                stringified(str);\\n            });\\n            ko.applyBindingsToNode(\\n                element,\\n                {\\n                    value: stringified,\\n                    valueUpdate: allBindings.get('valueUpdate'),\\n                },\\n                context,\\n            );\\n        }\\n    };\\n    var json_data = {\\\"formatted_vals\\\":[\\\"0.1\\\",\\\"0.2\\\",\\\"0.3\\\",\\\"0.4\\\",\\\"0.5\\\",\\\"0.6\\\",\\\"0.7\\\",\\\"0.8\\\",\\\"0.9\\\",\\\"1.0\\\",\\\"1.1\\\",\\\"1.2\\\",\\\"1.3\\\",\\\"1.4\\\",\\\"1.5\\\",\\\"1.6\\\",\\\"1.7\\\",\\\"1.8\\\",\\\"1.9\\\",\\\"2.0\\\"],\\\"changes\\\":WebIO.getval({\\\"name\\\":\\\"changes\\\",\\\"scope\\\":\\\"2186482968941118665\\\",\\\"id\\\":\\\"1135085048411370284\\\",\\\"type\\\":\\\"observable\\\"}),\\\"index\\\":WebIO.getval({\\\"name\\\":\\\"index\\\",\\\"scope\\\":\\\"2186482968941118665\\\",\\\"id\\\":\\\"18257811689119699560\\\",\\\"type\\\":\\\"observable\\\"})};\\n    var self = this;\\n    function AppViewModel() {\\n        for (var key in json_data) {\\n            var el = json_data[key];\\n            this[key] = Array.isArray(el) ? ko.observableArray(el) : ko.observable(el);\\n        }\\n        \\n        [this[\\\"formatted_val\\\"]=ko.computed(    function(){\\n        return this.formatted_vals()[parseInt(this.index())-(1)];\\n    }\\n,this)]\\n        [this[\\\"changes\\\"].subscribe((function (val){!(this.valueFromJulia[\\\"changes\\\"]) ? (WebIO.setval({\\\"name\\\":\\\"changes\\\",\\\"scope\\\":\\\"2186482968941118665\\\",\\\"id\\\":\\\"1135085048411370284\\\",\\\"type\\\":\\\"observable\\\"},val)) : undefined; return this.valueFromJulia[\\\"changes\\\"]=false}),self),this[\\\"index\\\"].subscribe((function (val){!(this.valueFromJulia[\\\"index\\\"]) ? (WebIO.setval({\\\"name\\\":\\\"index\\\",\\\"scope\\\":\\\"2186482968941118665\\\",\\\"id\\\":\\\"18257811689119699560\\\",\\\"type\\\":\\\"observable\\\"},val)) : undefined; return this.valueFromJulia[\\\"index\\\"]=false}),self)]\\n        \\n    }\\n    self.model = new AppViewModel();\\n    self.valueFromJulia = {};\\n    for (var key in json_data) {\\n        self.valueFromJulia[key] = false;\\n    }\\n    ko.applyBindings(self.model, self.dom);\\n}\\n);\\n    (WebIO.importBlock({\\\"data\\\":[{\\\"name\\\":\\\"knockout\\\",\\\"type\\\":\\\"js\\\",\\\"url\\\":\\\"\\/assetserver\\/727383f2a47bd31570b7da84eee7b022dd6d7c78-knockout.js\\\"},{\\\"name\\\":\\\"knockout_punches\\\",\\\"type\\\":\\\"js\\\",\\\"url\\\":\\\"\\/assetserver\\/382b41b3b1bd9f26f75861d360bad7f8beea211f-knockout_punches.js\\\"}],\\\"type\\\":\\\"async_block\\\"})).then((imports) => handler.apply(this, imports));\\n}\\n\"],\"observables\":{\"changes\":{\"sync\":false,\"id\":\"1135085048411370284\",\"value\":0},\"index\":{\"sync\":true,\"id\":\"18257811689119699560\",\"value\":10}}},\"children\":[{\"props\":{\"className\":\"interact-flex-row interact-widget\"},\"nodeType\":\"DOM\",\"type\":\"node\",\"instanceArgs\":{\"namespace\":\"html\",\"tag\":\"div\"},\"children\":[{\"props\":{\"className\":\"interact-flex-row-left\"},\"nodeType\":\"DOM\",\"type\":\"node\",\"instanceArgs\":{\"namespace\":\"html\",\"tag\":\"div\"},\"children\":[{\"props\":{\"className\":\"interact \",\"style\":{\"padding\":\"5px 10px 0px 10px\"}},\"nodeType\":\"DOM\",\"type\":\"node\",\"instanceArgs\":{\"namespace\":\"html\",\"tag\":\"label\"},\"children\":[\"scale\"]}]},{\"props\":{\"className\":\"interact-flex-row-center\"},\"nodeType\":\"DOM\",\"type\":\"node\",\"instanceArgs\":{\"namespace\":\"html\",\"tag\":\"div\"},\"children\":[{\"props\":{\"max\":20,\"min\":1,\"attributes\":{\"type\":\"range\",\"data-bind\":\"numericValue: index, valueUpdate: 'input', event: {change: function (){this.changes(this.changes()+1)}}\",\"orient\":\"horizontal\"},\"step\":1,\"className\":\"slider slider is-fullwidth\",\"style\":{}},\"nodeType\":\"DOM\",\"type\":\"node\",\"instanceArgs\":{\"namespace\":\"html\",\"tag\":\"input\"},\"children\":[]}]},{\"props\":{\"className\":\"interact-flex-row-right\"},\"nodeType\":\"DOM\",\"type\":\"node\",\"instanceArgs\":{\"namespace\":\"html\",\"tag\":\"div\"},\"children\":[{\"props\":{\"attributes\":{\"data-bind\":\"text: formatted_val\"}},\"nodeType\":\"DOM\",\"type\":\"node\",\"instanceArgs\":{\"namespace\":\"html\",\"tag\":\"p\"},\"children\":[]}]}]}]}]},{\"props\":{\"style\":{\"display\":\"flex\",\"flex-direction\":\"row\"}},\"nodeType\":\"DOM\",\"type\":\"node\",\"instanceArgs\":{\"namespace\":\"html\",\"tag\":\"div\"},\"children\":[{\"props\":{\"className\":\"interact-widget\"},\"nodeType\":\"DOM\",\"type\":\"node\",\"instanceArgs\":{\"namespace\":\"html\",\"tag\":\"div\"},\"children\":[{\"props\":{},\"nodeType\":\"Scope\",\"type\":\"node\",\"instanceArgs\":{\"imports\":{\"data\":[{\"name\":null,\"type\":\"js\",\"url\":\"\\/assetserver\\/dd22ed1bf1896c2748f3fe616ce0b838adc895c1-katex.min.js\"},{\"name\":null,\"type\":\"css\",\"url\":\"\\/assetserver\\/46517a424aa5e6cffc1360d7e0848b601c584ee3-katex.min.css\"}],\"type\":\"async_block\"},\"id\":\"4445714189495756547\",\"handlers\":{\"value\":[\"(function (txt){return this.k.render(txt,this.container)})\"]},\"systemjs_options\":null,\"mount_callbacks\":[\"function () {\\n    var handler = ((function (k){this.k=k; this.container=this.dom.querySelector(\\\"#container\\\"); return k.render(\\\"\\\\\\\\;\\\\\\\\;\\\",this.container)}));\\n    (WebIO.importBlock({\\\"data\\\":[{\\\"name\\\":null,\\\"type\\\":\\\"js\\\",\\\"url\\\":\\\"\\/assetserver\\/dd22ed1bf1896c2748f3fe616ce0b838adc895c1-katex.min.js\\\"},{\\\"name\\\":null,\\\"type\\\":\\\"css\\\",\\\"url\\\":\\\"\\/assetserver\\/46517a424aa5e6cffc1360d7e0848b601c584ee3-katex.min.css\\\"}],\\\"type\\\":\\\"async_block\\\"})).then((imports) => handler.apply(this, imports));\\n}\\n\"],\"observables\":{\"value\":{\"sync\":false,\"id\":\"15070408237023909358\",\"value\":\"\\\\;\\\\;\"}}},\"children\":[{\"props\":{\"id\":\"container\"},\"nodeType\":\"DOM\",\"type\":\"node\",\"instanceArgs\":{\"namespace\":\"html\",\"tag\":\"div\"},\"children\":[]}]}]},{\"props\":{\"className\":\"field interact-widget\"},\"nodeType\":\"DOM\",\"type\":\"node\",\"instanceArgs\":{\"namespace\":\"html\",\"tag\":\"div\"},\"children\":[{\"props\":{},\"nodeType\":\"Scope\",\"type\":\"node\",\"instanceArgs\":{\"imports\":{\"data\":[{\"name\":\"knockout\",\"type\":\"js\",\"url\":\"\\/assetserver\\/727383f2a47bd31570b7da84eee7b022dd6d7c78-knockout.js\"},{\"name\":\"knockout_punches\",\"type\":\"js\",\"url\":\"\\/assetserver\\/382b41b3b1bd9f26f75861d360bad7f8beea211f-knockout_punches.js\"},{\"name\":null,\"type\":\"js\",\"url\":\"\\/assetserver\\/5ab20f1060420992a9b82a65b735dee4d81ef413-all.js\"},{\"name\":null,\"type\":\"css\",\"url\":\"\\/assetserver\\/1cc0ed62837210b80a182cc3676512f895dab686-style.css\"},{\"name\":null,\"type\":\"css\",\"url\":\"\\/assetserver\\/2eee816f616df3549d7044d45e744fbf8d42bfa1-bulma_confined.min.css\"}],\"type\":\"async_block\"},\"id\":\"3978608522699087341\",\"handlers\":{\"loading\":[\"(function (val){return (val!=this.model[\\\"loading\\\"]()) ? (this.valueFromJulia[\\\"loading\\\"]=true, this.model[\\\"loading\\\"](val)) : undefined})\"],\"clicks\":[\"(function (val){return (val!=this.model[\\\"clicks\\\"]()) ? (this.valueFromJulia[\\\"clicks\\\"]=true, this.model[\\\"clicks\\\"](val)) : undefined})\"]},\"systemjs_options\":null,\"mount_callbacks\":[\"function () {\\n    var handler = (function (ko, koPunches) {\\n    ko.punches.enableAll();\\n    ko.bindingHandlers.numericValue = {\\n        init: function(element, valueAccessor, allBindings, data, context) {\\n            var stringified = ko.observable(ko.unwrap(valueAccessor()));\\n            stringified.subscribe(function(value) {\\n                var val = parseFloat(value);\\n                if (!isNaN(val)) {\\n                    valueAccessor()(val);\\n                }\\n            });\\n            valueAccessor().subscribe(function(value) {\\n                var str = JSON.stringify(value);\\n                if ((str == \\\"0\\\") && ([\\\"-0\\\", \\\"-0.\\\"].indexOf(stringified()) >= 0))\\n                     return;\\n                 if ([\\\"null\\\", \\\"\\\"].indexOf(str) >= 0)\\n                     return;\\n                stringified(str);\\n            });\\n            ko.applyBindingsToNode(\\n                element,\\n                {\\n                    value: stringified,\\n                    valueUpdate: allBindings.get('valueUpdate'),\\n                },\\n                context,\\n            );\\n        }\\n    };\\n    var json_data = {\\\"loading\\\":WebIO.getval({\\\"name\\\":\\\"loading\\\",\\\"scope\\\":\\\"3978608522699087341\\\",\\\"id\\\":\\\"14904549700141926007\\\",\\\"type\\\":\\\"observable\\\"}),\\\"clicks\\\":WebIO.getval({\\\"name\\\":\\\"clicks\\\",\\\"scope\\\":\\\"3978608522699087341\\\",\\\"id\\\":\\\"12585787150663171509\\\",\\\"type\\\":\\\"observable\\\"})};\\n    var self = this;\\n    function AppViewModel() {\\n        for (var key in json_data) {\\n            var el = json_data[key];\\n            this[key] = Array.isArray(el) ? ko.observableArray(el) : ko.observable(el);\\n        }\\n        \\n        \\n        [this[\\\"loading\\\"].subscribe((function (val){!(this.valueFromJulia[\\\"loading\\\"]) ? (WebIO.setval({\\\"name\\\":\\\"loading\\\",\\\"scope\\\":\\\"3978608522699087341\\\",\\\"id\\\":\\\"14904549700141926007\\\",\\\"type\\\":\\\"observable\\\"},val)) : undefined; return this.valueFromJulia[\\\"loading\\\"]=false}),self),this[\\\"clicks\\\"].subscribe((function (val){!(this.valueFromJulia[\\\"clicks\\\"]) ? (WebIO.setval({\\\"name\\\":\\\"clicks\\\",\\\"scope\\\":\\\"3978608522699087341\\\",\\\"id\\\":\\\"12585787150663171509\\\",\\\"type\\\":\\\"observable\\\"},val)) : undefined; return this.valueFromJulia[\\\"clicks\\\"]=false}),self)]\\n        \\n    }\\n    self.model = new AppViewModel();\\n    self.valueFromJulia = {};\\n    for (var key in json_data) {\\n        self.valueFromJulia[key] = false;\\n    }\\n    ko.applyBindings(self.model, self.dom);\\n}\\n);\\n    (WebIO.importBlock({\\\"data\\\":[{\\\"name\\\":\\\"knockout\\\",\\\"type\\\":\\\"js\\\",\\\"url\\\":\\\"\\/assetserver\\/727383f2a47bd31570b7da84eee7b022dd6d7c78-knockout.js\\\"},{\\\"name\\\":\\\"knockout_punches\\\",\\\"type\\\":\\\"js\\\",\\\"url\\\":\\\"\\/assetserver\\/382b41b3b1bd9f26f75861d360bad7f8beea211f-knockout_punches.js\\\"}],\\\"type\\\":\\\"async_block\\\"})).then((imports) => handler.apply(this, imports));\\n}\\n\"],\"observables\":{\"loading\":{\"sync\":false,\"id\":\"14904549700141926007\",\"value\":false},\"clicks\":{\"sync\":true,\"id\":\"12585787150663171509\",\"value\":0}}},\"children\":[{\"props\":{\"attributes\":{\"data-bind\":\"click: function (){this.clicks(this.clicks()+1)}, css: {'is-loading' : loading}\"},\"className\":\"is-medium button is-primary\",\"style\":{}},\"nodeType\":\"DOM\",\"type\":\"node\",\"instanceArgs\":{\"namespace\":\"html\",\"tag\":\"button\"},\"children\":[\"run\"]}]}]},{\"props\":{\"className\":\"interact-widget\"},\"nodeType\":\"DOM\",\"type\":\"node\",\"instanceArgs\":{\"namespace\":\"html\",\"tag\":\"div\"},\"children\":[{\"props\":{},\"nodeType\":\"Scope\",\"type\":\"node\",\"instanceArgs\":{\"imports\":{\"data\":[{\"name\":null,\"type\":\"js\",\"url\":\"\\/assetserver\\/dd22ed1bf1896c2748f3fe616ce0b838adc895c1-katex.min.js\"},{\"name\":null,\"type\":\"css\",\"url\":\"\\/assetserver\\/46517a424aa5e6cffc1360d7e0848b601c584ee3-katex.min.css\"}],\"type\":\"async_block\"},\"id\":\"4445714189495756547\",\"handlers\":{\"value\":[\"(function (txt){return this.k.render(txt,this.container)})\"]},\"systemjs_options\":null,\"mount_callbacks\":[\"function () {\\n    var handler = ((function (k){this.k=k; this.container=this.dom.querySelector(\\\"#container\\\"); return k.render(\\\"\\\\\\\\;\\\\\\\\;\\\",this.container)}));\\n    (WebIO.importBlock({\\\"data\\\":[{\\\"name\\\":null,\\\"type\\\":\\\"js\\\",\\\"url\\\":\\\"\\/assetserver\\/dd22ed1bf1896c2748f3fe616ce0b838adc895c1-katex.min.js\\\"},{\\\"name\\\":null,\\\"type\\\":\\\"css\\\",\\\"url\\\":\\\"\\/assetserver\\/46517a424aa5e6cffc1360d7e0848b601c584ee3-katex.min.css\\\"}],\\\"type\\\":\\\"async_block\\\"})).then((imports) => handler.apply(this, imports));\\n}\\n\"],\"observables\":{\"value\":{\"sync\":false,\"id\":\"15070408237023909358\",\"value\":\"\\\\;\\\\;\"}}},\"children\":[{\"props\":{\"id\":\"container\"},\"nodeType\":\"DOM\",\"type\":\"node\",\"instanceArgs\":{\"namespace\":\"html\",\"tag\":\"div\"},\"children\":[]}]}]},{\"props\":{\"className\":\"field interact-widget\"},\"nodeType\":\"DOM\",\"type\":\"node\",\"instanceArgs\":{\"namespace\":\"html\",\"tag\":\"div\"},\"children\":[{\"props\":{},\"nodeType\":\"Scope\",\"type\":\"node\",\"instanceArgs\":{\"imports\":{\"data\":[{\"name\":\"knockout\",\"type\":\"js\",\"url\":\"\\/assetserver\\/727383f2a47bd31570b7da84eee7b022dd6d7c78-knockout.js\"},{\"name\":\"knockout_punches\",\"type\":\"js\",\"url\":\"\\/assetserver\\/382b41b3b1bd9f26f75861d360bad7f8beea211f-knockout_punches.js\"},{\"name\":null,\"type\":\"js\",\"url\":\"\\/assetserver\\/5ab20f1060420992a9b82a65b735dee4d81ef413-all.js\"},{\"name\":null,\"type\":\"css\",\"url\":\"\\/assetserver\\/1cc0ed62837210b80a182cc3676512f895dab686-style.css\"},{\"name\":null,\"type\":\"css\",\"url\":\"\\/assetserver\\/2eee816f616df3549d7044d45e744fbf8d42bfa1-bulma_confined.min.css\"}],\"type\":\"async_block\"},\"id\":\"15285759675944302319\",\"handlers\":{\"loading\":[\"(function (val){return (val!=this.model[\\\"loading\\\"]()) ? (this.valueFromJulia[\\\"loading\\\"]=true, this.model[\\\"loading\\\"](val)) : undefined})\"],\"clicks\":[\"(function (val){return (val!=this.model[\\\"clicks\\\"]()) ? (this.valueFromJulia[\\\"clicks\\\"]=true, this.model[\\\"clicks\\\"](val)) : undefined})\"]},\"systemjs_options\":null,\"mount_callbacks\":[\"function () {\\n    var handler = (function (ko, koPunches) {\\n    ko.punches.enableAll();\\n    ko.bindingHandlers.numericValue = {\\n        init: function(element, valueAccessor, allBindings, data, context) {\\n            var stringified = ko.observable(ko.unwrap(valueAccessor()));\\n            stringified.subscribe(function(value) {\\n                var val = parseFloat(value);\\n                if (!isNaN(val)) {\\n                    valueAccessor()(val);\\n                }\\n            });\\n            valueAccessor().subscribe(function(value) {\\n                var str = JSON.stringify(value);\\n                if ((str == \\\"0\\\") && ([\\\"-0\\\", \\\"-0.\\\"].indexOf(stringified()) >= 0))\\n                     return;\\n                 if ([\\\"null\\\", \\\"\\\"].indexOf(str) >= 0)\\n                     return;\\n                stringified(str);\\n            });\\n            ko.applyBindingsToNode(\\n                element,\\n                {\\n                    value: stringified,\\n                    valueUpdate: allBindings.get('valueUpdate'),\\n                },\\n                context,\\n            );\\n        }\\n    };\\n    var json_data = {\\\"loading\\\":WebIO.getval({\\\"name\\\":\\\"loading\\\",\\\"scope\\\":\\\"15285759675944302319\\\",\\\"id\\\":\\\"1159199123501695090\\\",\\\"type\\\":\\\"observable\\\"}),\\\"clicks\\\":WebIO.getval({\\\"name\\\":\\\"clicks\\\",\\\"scope\\\":\\\"15285759675944302319\\\",\\\"id\\\":\\\"7887726380628509032\\\",\\\"type\\\":\\\"observable\\\"})};\\n    var self = this;\\n    function AppViewModel() {\\n        for (var key in json_data) {\\n            var el = json_data[key];\\n            this[key] = Array.isArray(el) ? ko.observableArray(el) : ko.observable(el);\\n        }\\n        \\n        \\n        [this[\\\"loading\\\"].subscribe((function (val){!(this.valueFromJulia[\\\"loading\\\"]) ? (WebIO.setval({\\\"name\\\":\\\"loading\\\",\\\"scope\\\":\\\"15285759675944302319\\\",\\\"id\\\":\\\"1159199123501695090\\\",\\\"type\\\":\\\"observable\\\"},val)) : undefined; return this.valueFromJulia[\\\"loading\\\"]=false}),self),this[\\\"clicks\\\"].subscribe((function (val){!(this.valueFromJulia[\\\"clicks\\\"]) ? (WebIO.setval({\\\"name\\\":\\\"clicks\\\",\\\"scope\\\":\\\"15285759675944302319\\\",\\\"id\\\":\\\"7887726380628509032\\\",\\\"type\\\":\\\"observable\\\"},val)) : undefined; return this.valueFromJulia[\\\"clicks\\\"]=false}),self)]\\n        \\n    }\\n    self.model = new AppViewModel();\\n    self.valueFromJulia = {};\\n    for (var key in json_data) {\\n        self.valueFromJulia[key] = false;\\n    }\\n    ko.applyBindings(self.model, self.dom);\\n}\\n);\\n    (WebIO.importBlock({\\\"data\\\":[{\\\"name\\\":\\\"knockout\\\",\\\"type\\\":\\\"js\\\",\\\"url\\\":\\\"\\/assetserver\\/727383f2a47bd31570b7da84eee7b022dd6d7c78-knockout.js\\\"},{\\\"name\\\":\\\"knockout_punches\\\",\\\"type\\\":\\\"js\\\",\\\"url\\\":\\\"\\/assetserver\\/382b41b3b1bd9f26f75861d360bad7f8beea211f-knockout_punches.js\\\"}],\\\"type\\\":\\\"async_block\\\"})).then((imports) => handler.apply(this, imports));\\n}\\n\"],\"observables\":{\"loading\":{\"sync\":false,\"id\":\"1159199123501695090\",\"value\":false},\"clicks\":{\"sync\":true,\"id\":\"7887726380628509032\",\"value\":0}}},\"children\":[{\"props\":{\"attributes\":{\"data-bind\":\"click: function (){this.clicks(this.clicks()+1)}, css: {'is-loading' : loading}\"},\"className\":\"is-medium button is-primary\",\"style\":{}},\"nodeType\":\"DOM\",\"type\":\"node\",\"instanceArgs\":{\"namespace\":\"html\",\"tag\":\"button\"},\"children\":[\"stop\"]}]}]},{\"props\":{\"className\":\"interact-widget\"},\"nodeType\":\"DOM\",\"type\":\"node\",\"instanceArgs\":{\"namespace\":\"html\",\"tag\":\"div\"},\"children\":[{\"props\":{},\"nodeType\":\"Scope\",\"type\":\"node\",\"instanceArgs\":{\"imports\":{\"data\":[{\"name\":null,\"type\":\"js\",\"url\":\"\\/assetserver\\/dd22ed1bf1896c2748f3fe616ce0b838adc895c1-katex.min.js\"},{\"name\":null,\"type\":\"css\",\"url\":\"\\/assetserver\\/46517a424aa5e6cffc1360d7e0848b601c584ee3-katex.min.css\"}],\"type\":\"async_block\"},\"id\":\"4445714189495756547\",\"handlers\":{\"value\":[\"(function (txt){return this.k.render(txt,this.container)})\"]},\"systemjs_options\":null,\"mount_callbacks\":[\"function () {\\n    var handler = ((function (k){this.k=k; this.container=this.dom.querySelector(\\\"#container\\\"); return k.render(\\\"\\\\\\\\;\\\\\\\\;\\\",this.container)}));\\n    (WebIO.importBlock({\\\"data\\\":[{\\\"name\\\":null,\\\"type\\\":\\\"js\\\",\\\"url\\\":\\\"\\/assetserver\\/dd22ed1bf1896c2748f3fe616ce0b838adc895c1-katex.min.js\\\"},{\\\"name\\\":null,\\\"type\\\":\\\"css\\\",\\\"url\\\":\\\"\\/assetserver\\/46517a424aa5e6cffc1360d7e0848b601c584ee3-katex.min.css\\\"}],\\\"type\\\":\\\"async_block\\\"})).then((imports) => handler.apply(this, imports));\\n}\\n\"],\"observables\":{\"value\":{\"sync\":false,\"id\":\"15070408237023909358\",\"value\":\"\\\\;\\\\;\"}}},\"children\":[{\"props\":{\"id\":\"container\"},\"nodeType\":\"DOM\",\"type\":\"node\",\"instanceArgs\":{\"namespace\":\"html\",\"tag\":\"div\"},\"children\":[]}]}]},{\"props\":{\"className\":\"field interact-widget\"},\"nodeType\":\"DOM\",\"type\":\"node\",\"instanceArgs\":{\"namespace\":\"html\",\"tag\":\"div\"},\"children\":[{\"props\":{},\"nodeType\":\"Scope\",\"type\":\"node\",\"instanceArgs\":{\"imports\":{\"data\":[{\"name\":\"knockout\",\"type\":\"js\",\"url\":\"\\/assetserver\\/727383f2a47bd31570b7da84eee7b022dd6d7c78-knockout.js\"},{\"name\":\"knockout_punches\",\"type\":\"js\",\"url\":\"\\/assetserver\\/382b41b3b1bd9f26f75861d360bad7f8beea211f-knockout_punches.js\"},{\"name\":null,\"type\":\"js\",\"url\":\"\\/assetserver\\/5ab20f1060420992a9b82a65b735dee4d81ef413-all.js\"},{\"name\":null,\"type\":\"css\",\"url\":\"\\/assetserver\\/1cc0ed62837210b80a182cc3676512f895dab686-style.css\"},{\"name\":null,\"type\":\"css\",\"url\":\"\\/assetserver\\/2eee816f616df3549d7044d45e744fbf8d42bfa1-bulma_confined.min.css\"}],\"type\":\"async_block\"},\"id\":\"13355425725240437951\",\"handlers\":{\"loading\":[\"(function (val){return (val!=this.model[\\\"loading\\\"]()) ? (this.valueFromJulia[\\\"loading\\\"]=true, this.model[\\\"loading\\\"](val)) : undefined})\"],\"clicks\":[\"(function (val){return (val!=this.model[\\\"clicks\\\"]()) ? (this.valueFromJulia[\\\"clicks\\\"]=true, this.model[\\\"clicks\\\"](val)) : undefined})\"]},\"systemjs_options\":null,\"mount_callbacks\":[\"function () {\\n    var handler = (function (ko, koPunches) {\\n    ko.punches.enableAll();\\n    ko.bindingHandlers.numericValue = {\\n        init: function(element, valueAccessor, allBindings, data, context) {\\n            var stringified = ko.observable(ko.unwrap(valueAccessor()));\\n            stringified.subscribe(function(value) {\\n                var val = parseFloat(value);\\n                if (!isNaN(val)) {\\n                    valueAccessor()(val);\\n                }\\n            });\\n            valueAccessor().subscribe(function(value) {\\n                var str = JSON.stringify(value);\\n                if ((str == \\\"0\\\") && ([\\\"-0\\\", \\\"-0.\\\"].indexOf(stringified()) >= 0))\\n                     return;\\n                 if ([\\\"null\\\", \\\"\\\"].indexOf(str) >= 0)\\n                     return;\\n                stringified(str);\\n            });\\n            ko.applyBindingsToNode(\\n                element,\\n                {\\n                    value: stringified,\\n                    valueUpdate: allBindings.get('valueUpdate'),\\n                },\\n                context,\\n            );\\n        }\\n    };\\n    var json_data = {\\\"loading\\\":WebIO.getval({\\\"name\\\":\\\"loading\\\",\\\"scope\\\":\\\"13355425725240437951\\\",\\\"id\\\":\\\"670269892490866283\\\",\\\"type\\\":\\\"observable\\\"}),\\\"clicks\\\":WebIO.getval({\\\"name\\\":\\\"clicks\\\",\\\"scope\\\":\\\"13355425725240437951\\\",\\\"id\\\":\\\"11048753691264026654\\\",\\\"type\\\":\\\"observable\\\"})};\\n    var self = this;\\n    function AppViewModel() {\\n        for (var key in json_data) {\\n            var el = json_data[key];\\n            this[key] = Array.isArray(el) ? ko.observableArray(el) : ko.observable(el);\\n        }\\n        \\n        \\n        [this[\\\"loading\\\"].subscribe((function (val){!(this.valueFromJulia[\\\"loading\\\"]) ? (WebIO.setval({\\\"name\\\":\\\"loading\\\",\\\"scope\\\":\\\"13355425725240437951\\\",\\\"id\\\":\\\"670269892490866283\\\",\\\"type\\\":\\\"observable\\\"},val)) : undefined; return this.valueFromJulia[\\\"loading\\\"]=false}),self),this[\\\"clicks\\\"].subscribe((function (val){!(this.valueFromJulia[\\\"clicks\\\"]) ? (WebIO.setval({\\\"name\\\":\\\"clicks\\\",\\\"scope\\\":\\\"13355425725240437951\\\",\\\"id\\\":\\\"11048753691264026654\\\",\\\"type\\\":\\\"observable\\\"},val)) : undefined; return this.valueFromJulia[\\\"clicks\\\"]=false}),self)]\\n        \\n    }\\n    self.model = new AppViewModel();\\n    self.valueFromJulia = {};\\n    for (var key in json_data) {\\n        self.valueFromJulia[key] = false;\\n    }\\n    ko.applyBindings(self.model, self.dom);\\n}\\n);\\n    (WebIO.importBlock({\\\"data\\\":[{\\\"name\\\":\\\"knockout\\\",\\\"type\\\":\\\"js\\\",\\\"url\\\":\\\"\\/assetserver\\/727383f2a47bd31570b7da84eee7b022dd6d7c78-knockout.js\\\"},{\\\"name\\\":\\\"knockout_punches\\\",\\\"type\\\":\\\"js\\\",\\\"url\\\":\\\"\\/assetserver\\/382b41b3b1bd9f26f75861d360bad7f8beea211f-knockout_punches.js\\\"}],\\\"type\\\":\\\"async_block\\\"})).then((imports) => handler.apply(this, imports));\\n}\\n\"],\"observables\":{\"loading\":{\"sync\":false,\"id\":\"670269892490866283\",\"value\":false},\"clicks\":{\"sync\":true,\"id\":\"11048753691264026654\",\"value\":0}}},\"children\":[{\"props\":{\"attributes\":{\"data-bind\":\"click: function (){this.clicks(this.clicks()+1)}, css: {'is-loading' : loading}\"},\"className\":\"is-medium button is-primary\",\"style\":{}},\"nodeType\":\"DOM\",\"type\":\"node\",\"instanceArgs\":{\"namespace\":\"html\",\"tag\":\"button\"},\"children\":[\"save\"]}]}]}]}]},{\"props\":{\"className\":\"interact-widget\"},\"nodeType\":\"DOM\",\"type\":\"node\",\"instanceArgs\":{\"namespace\":\"html\",\"tag\":\"div\"},\"children\":[{\"props\":{},\"nodeType\":\"Scope\",\"type\":\"node\",\"instanceArgs\":{\"imports\":{\"data\":[{\"name\":null,\"type\":\"js\",\"url\":\"\\/assetserver\\/dd22ed1bf1896c2748f3fe616ce0b838adc895c1-katex.min.js\"},{\"name\":null,\"type\":\"css\",\"url\":\"\\/assetserver\\/46517a424aa5e6cffc1360d7e0848b601c584ee3-katex.min.css\"}],\"type\":\"async_block\"},\"id\":\"4445714189495756547\",\"handlers\":{\"value\":[\"(function (txt){return this.k.render(txt,this.container)})\"]},\"systemjs_options\":null,\"mount_callbacks\":[\"function () {\\n    var handler = ((function (k){this.k=k; this.container=this.dom.querySelector(\\\"#container\\\"); return k.render(\\\"\\\\\\\\;\\\\\\\\;\\\",this.container)}));\\n    (WebIO.importBlock({\\\"data\\\":[{\\\"name\\\":null,\\\"type\\\":\\\"js\\\",\\\"url\\\":\\\"\\/assetserver\\/dd22ed1bf1896c2748f3fe616ce0b838adc895c1-katex.min.js\\\"},{\\\"name\\\":null,\\\"type\\\":\\\"css\\\",\\\"url\\\":\\\"\\/assetserver\\/46517a424aa5e6cffc1360d7e0848b601c584ee3-katex.min.css\\\"}],\\\"type\\\":\\\"async_block\\\"})).then((imports) => handler.apply(this, imports));\\n}\\n\"],\"observables\":{\"value\":{\"sync\":false,\"id\":\"15070408237023909358\",\"value\":\"\\\\;\\\\;\"}}},\"children\":[{\"props\":{\"id\":\"container\"},\"nodeType\":\"DOM\",\"type\":\"node\",\"instanceArgs\":{\"namespace\":\"html\",\"tag\":\"div\"},\"children\":[]}]}]},{\"props\":{},\"nodeType\":\"Scope\",\"type\":\"node\",\"instanceArgs\":{\"imports\":{\"data\":[],\"type\":\"async_block\"},\"id\":\"665610492229548818\",\"handlers\":{\"obs-output\":[\"function (value, scope) {\\n    scope.setInnerHTML(value);\\n}\\n\"]},\"systemjs_options\":null,\"mount_callbacks\":[],\"observables\":{\"obs-output\":{\"sync\":false,\"id\":\"5453475313537759991\",\"value\":\"<img src='data:image\\/png;base64,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'><\\/img>\"}}},\"children\":[{\"props\":{\"className\":\"webio-observable\",\"setInnerHtml\":\"<img src='data:image\\/png;base64,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'><\\/img>\"},\"nodeType\":\"DOM\",\"type\":\"node\",\"instanceArgs\":{\"namespace\":\"html\",\"tag\":\"div\"},\"children\":[]}]},{\"props\":{\"className\":\"interact-widget\"},\"nodeType\":\"DOM\",\"type\":\"node\",\"instanceArgs\":{\"namespace\":\"html\",\"tag\":\"div\"},\"children\":[{\"props\":{},\"nodeType\":\"Scope\",\"type\":\"node\",\"instanceArgs\":{\"imports\":{\"data\":[{\"name\":null,\"type\":\"js\",\"url\":\"\\/assetserver\\/dd22ed1bf1896c2748f3fe616ce0b838adc895c1-katex.min.js\"},{\"name\":null,\"type\":\"css\",\"url\":\"\\/assetserver\\/46517a424aa5e6cffc1360d7e0848b601c584ee3-katex.min.css\"}],\"type\":\"async_block\"},\"id\":\"4445714189495756547\",\"handlers\":{\"value\":[\"(function (txt){return this.k.render(txt,this.container)})\"]},\"systemjs_options\":null,\"mount_callbacks\":[\"function () {\\n    var handler = ((function (k){this.k=k; this.container=this.dom.querySelector(\\\"#container\\\"); return k.render(\\\"\\\\\\\\;\\\\\\\\;\\\",this.container)}));\\n    (WebIO.importBlock({\\\"data\\\":[{\\\"name\\\":null,\\\"type\\\":\\\"js\\\",\\\"url\\\":\\\"\\/assetserver\\/dd22ed1bf1896c2748f3fe616ce0b838adc895c1-katex.min.js\\\"},{\\\"name\\\":null,\\\"type\\\":\\\"css\\\",\\\"url\\\":\\\"\\/assetserver\\/46517a424aa5e6cffc1360d7e0848b601c584ee3-katex.min.css\\\"}],\\\"type\\\":\\\"async_block\\\"})).then((imports) => handler.apply(this, imports));\\n}\\n\"],\"observables\":{\"value\":{\"sync\":false,\"id\":\"15070408237023909358\",\"value\":\"\\\\;\\\\;\"}}},\"children\":[{\"props\":{\"id\":\"container\"},\"nodeType\":\"DOM\",\"type\":\"node\",\"instanceArgs\":{\"namespace\":\"html\",\"tag\":\"div\"},\"children\":[]}]}]},{\"props\":{\"style\":{\"display\":\"flex\",\"flex-direction\":\"column\"}},\"nodeType\":\"DOM\",\"type\":\"node\",\"instanceArgs\":{\"namespace\":\"html\",\"tag\":\"div\"},\"children\":[]}]}]},\n",
       "        window,\n",
       "    );\n",
       "    })()\n",
       "    </script>\n",
       "</div>\n"
      ],
      "text/plain": [
       "WebIO.Node{WebIO.DOM}(WebIO.DOM(:html, :div), Any[WebIO.Node{WebIO.DOM}(WebIO.DOM(:html, :div), Any[WebIO.Node{WebIO.DOM}(WebIO.DOM(:html, :div), Any[WebIO.Node{WebIO.DOM}(WebIO.DOM(:html, :div), Any[WebIO.Scope(WebIO.Node{WebIO.DOM}(WebIO.DOM(:html, :div), Any[WebIO.Node{WebIO.DOM}(WebIO.DOM(:html, :div), Any[WebIO.Node{WebIO.DOM}(WebIO.DOM(:html, :label), Any[\"time\"], Dict{Symbol, Any}(:className => \"interact \", :style => Dict{Any, Any}(:padding => \"5px 10px 0px 10px\")))], Dict{Symbol, Any}(:className => \"interact-flex-row-left\")), WebIO.Node{WebIO.DOM}(WebIO.DOM(:html, :div), Any[WebIO.Node{WebIO.DOM}(WebIO.DOM(:html, :input), Any[], Dict{Symbol, Any}(:max => 201, :min => 1, :attributes => Dict{Any, Any}(:type => \"range\", Symbol(\"data-bind\") => \"numericValue: index, valueUpdate: 'input', event: {change: function (){this.changes(this.changes()+1)}}\", \"orient\" => \"horizontal\"), :step => 1, :className => \"slider slider is-fullwidth\", :style => Dict{Any, Any}()))], Dict{Symbol, Any}(:className => \"interact-flex-row-center\")), WebIO.Node{WebIO.DOM}(WebIO.DOM(:html, :div), Any[WebIO.Node{WebIO.DOM}(WebIO.DOM(:html, :p), Any[], Dict{Symbol, Any}(:attributes => Dict(\"data-bind\" => \"text: formatted_val\")))], Dict{Symbol, Any}(:className => \"interact-flex-row-right\"))], Dict{Symbol, Any}(:className => \"interact-flex-row interact-widget\")), Dict{String, Tuple{Observables.AbstractObservable, Union{Nothing, Bool}}}(\"changes\" => (Observable(0), nothing), \"index\" => (Observable(101), nothing)), Set{String}(), nothing, WebIO.Asset[WebIO.Asset(\"js\", \"knockout\", \"/home/dushya/.julia/packages/Knockout/HReiN/src/../assets/knockout.js\"), WebIO.Asset(\"js\", \"knockout_punches\", \"/home/dushya/.julia/packages/Knockout/HReiN/src/../assets/knockout_punches.js\"), WebIO.Asset(\"js\", nothing, \"/home/dushya/.julia/packages/InteractBase/LJXv3/src/../assets/all.js\"), WebIO.Asset(\"css\", nothing, \"/home/dushya/.julia/packages/InteractBase/LJXv3/src/../assets/style.css\"), WebIO.Asset(\"css\", nothing, \"/home/dushya/.julia/packages/Interact/PENUy/src/../assets/bulma_confined.min.css\")], Dict{Any, Any}(\"changes\" => Any[WebIO.JSString(\"(function (val){return (val!=this.model[\\\"changes\\\"]()) ? (this.valueFromJulia[\\\"changes\\\"]=true, this.model[\\\"changes\\\"](val)) : undefined})\")], \"index\" => Any[WebIO.JSString(\"(function (val){return (val!=this.model[\\\"index\\\"]()) ? (this.valueFromJulia[\\\"index\\\"]=true, this.model[\\\"index\\\"](val)) : undefined})\")]), WebIO.ConnectionPool(Channel{Any}(32), Set{WebIO.AbstractConnection}(), Base.GenericCondition{ReentrantLock}(Base.IntrusiveLinkedList{Task}(Task (runnable) @0x00007f4dbc93f9e0, Task (runnable) @0x00007f4dbc93f9e0), ReentrantLock(nothing, 0x00000000, 0x00, Base.GenericCondition{Base.Threads.SpinLock}(Base.IntrusiveLinkedList{Task}(nothing, nothing), Base.Threads.SpinLock(0)), (2, 139971862199920, 139971862200240)))), WebIO.JSString[WebIO.JSString(\"function () {\\n    var handler = (function (ko, koPunches) {\\n    ko.punches.enableAll();\\n    ko.bindingHandlers.numericValue = {\\n        init: function(element, valueAccessor, allBindings, data, context) {\\n            var stringified = ko.observable(ko.unwrap(valueAccessor()));\\n            stringified.subscribe(function(value) {\\n                var val = parseFloat(value);\\n                if (!isNaN(val)) {\\n                    valueAccessor()(val);\\n                }\\n            });\\n            valueAccessor().subscribe(function(value) {\\n                var str = JSON.stringify(value);\\n                if ((str == \\\"0\\\") && ([\\\"-0\\\", \\\"-0.\\\"].indexOf(stringified()) >= 0))\\n                     return;\\n                 if ([\\\"null\\\", \\\"\\\"].indexOf(str) >= 0)\\n                     return;\\n                stringified(str);\\n            });\\n            ko.applyBindingsToNode(\\n                element,\\n                {\\n                    value: stringified,\\n                    valueUpdate: allBindings.get('valueUpdate'),\\n                },\\n                context,\\n            );\\n        }\\n    };\\n    var json_data = {\\\"formatted_vals\\\":[\\\"1\\\",\\\"2\\\",\\\"3\\\",\\\"4\\\",\\\"5\\\",\\\"6\\\",\\\"7\\\",\\\"8\\\",\\\"9\\\",\\\"10\\\",\\\"11\\\",\\\"12\\\",\\\"13\\\",\\\"14\\\",\\\"15\\\",\\\"16\\\",\\\"17\\\",\\\"18\\\",\\\"19\\\",\\\"20\\\",\\\"21\\\",\\\"22\\\",\\\"23\\\",\\\"24\\\",\\\"25\\\",\\\"26\\\",\\\"27\\\",\\\"28\\\",\\\"29\\\",\\\"30\\\",\\\"31\\\",\\\"32\\\",\\\"33\\\",\\\"34\\\",\\\"35\\\",\\\"36\\\",\\\"37\\\",\\\"38\\\",\\\"39\\\",\\\"40\\\",\\\"41\\\",\\\"42\\\",\\\"43\\\",\\\"44\\\",\\\"45\\\",\\\"46\\\",\\\"47\\\",\\\"48\\\",\\\"49\\\",\\\"50\\\",\\\"51\\\",\\\"52\\\",\\\"53\\\",\\\"54\\\",\\\"55\\\",\\\"56\\\",\\\"57\\\",\\\"58\\\",\\\"59\\\",\\\"60\\\",\\\"61\\\",\\\"62\\\",\\\"63\\\",\\\"64\\\",\\\"65\\\",\\\"66\\\",\\\"67\\\",\\\"68\\\",\\\"69\\\",\\\"70\\\",\\\"71\\\",\\\"72\\\",\\\"73\\\",\\\"74\\\",\\\"75\\\",\\\"76\\\",\\\"77\\\",\\\"78\\\",\\\"79\\\",\\\"80\\\",\\\"81\\\",\\\"82\\\",\\\"83\\\",\\\"84\\\",\\\"85\\\",\\\"86\\\",\\\"87\\\",\\\"88\\\",\\\"89\\\",\\\"90\\\",\\\"91\\\",\\\"92\\\",\\\"93\\\",\\\"94\\\",\\\"95\\\",\\\"96\\\",\\\"97\\\",\\\"98\\\",\\\"99\\\",\\\"100\\\",\\\"101\\\",\\\"102\\\",\\\"103\\\",\\\"104\\\",\\\"105\\\",\\\"106\\\",\\\"107\\\",\\\"108\\\",\\\"109\\\",\\\"110\\\",\\\"111\\\",\\\"112\\\",\\\"113\\\",\\\"114\\\",\\\"115\\\",\\\"116\\\",\\\"117\\\",\\\"118\\\",\\\"119\\\",\\\"120\\\",\\\"121\\\",\\\"122\\\",\\\"123\\\",\\\"124\\\",\\\"125\\\",\\\"126\\\",\\\"127\\\",\\\"128\\\",\\\"129\\\",\\\"130\\\",\\\"131\\\",\\\"132\\\",\\\"133\\\",\\\"134\\\",\\\"135\\\",\\\"136\\\",\\\"137\\\",\\\"138\\\",\\\"139\\\",\\\"140\\\",\\\"141\\\",\\\"142\\\",\\\"143\\\",\\\"144\\\",\\\"145\\\",\\\"146\\\",\\\"147\\\",\\\"148\\\",\\\"149\\\",\\\"150\\\",\\\"151\\\",\\\"152\\\",\\\"153\\\",\\\"154\\\",\\\"155\\\",\\\"156\\\",\\\"157\\\",\\\"158\\\",\\\"159\\\",\\\"160\\\",\\\"161\\\",\\\"162\\\",\\\"163\\\",\\\"164\\\",\\\"165\\\",\\\"166\\\",\\\"167\\\",\\\"168\\\",\\\"169\\\",\\\"170\\\",\\\"171\\\",\\\"172\\\",\\\"173\\\",\\\"174\\\",\\\"175\\\",\\\"176\\\",\\\"177\\\",\\\"178\\\",\\\"179\\\",\\\"180\\\",\\\"181\\\",\\\"182\\\",\\\"183\\\",\\\"184\\\",\\\"185\\\",\\\"186\\\",\\\"187\\\",\\\"188\\\",\\\"189\\\",\\\"190\\\",\\\"191\\\",\\\"192\\\",\\\"193\\\",\\\"194\\\",\\\"195\\\",\\\"196\\\",\\\"197\\\",\\\"198\\\",\\\"199\\\",\\\"200\\\",\\\"201\\\"],\\\"changes\\\":WebIO.getval({\\\"name\\\":\\\"changes\\\",\\\"scope\\\":\\\"16716710052155557029\\\",\\\"id\\\":\\\"12312154880730833918\\\",\\\"type\\\":\\\"observable\\\"}),\\\"index\\\":WebIO.getval({\\\"name\\\":\\\"index\\\",\\\"scope\\\":\\\"16716710052155557029\\\",\\\"id\\\":\\\"14925177916426045576\\\",\\\"type\\\":\\\"observable\\\"})};\\n    var self = this;\\n    function AppViewModel() {\\n        for (var key in json_data) {\\n            var el = json_data[key];\\n            this[key] = Array.isArray(el) ? ko.observableArray(el) : ko.observable(el);\\n        }\\n        \\n        [this[\\\"formatted_val\\\"]=ko.computed(    function(){\\n        return this.formatted_vals()[parseInt(this.index())-(1)];\\n    }\\n,this)]\\n        [this[\\\"changes\\\"].subscribe((function (val){!(this.valueFromJulia[\\\"changes\\\"]) ? (WebIO.setval({\\\"name\\\":\\\"changes\\\",\\\"scope\\\":\\\"16716710052155557029\\\",\\\"id\\\":\\\"12312154880730833918\\\",\\\"type\\\":\\\"observable\\\"},val)) : undefined; return this.valueFromJulia[\\\"changes\\\"]=false}),self),this[\\\"index\\\"].subscribe((function (val){!(this.valueFromJulia[\\\"index\\\"]) ? (WebIO.setval({\\\"name\\\":\\\"index\\\",\\\"scope\\\":\\\"16716710052155557029\\\",\\\"id\\\":\\\"14925177916426045576\\\",\\\"type\\\":\\\"observable\\\"},val)) : undefined; return this.valueFromJulia[\\\"index\\\"]=false}),self)]\\n        \\n    }\\n    self.model = new AppViewModel();\\n    self.valueFromJulia = {};\\n    for (var key in json_data) {\\n        self.valueFromJulia[key] = false;\\n    }\\n    ko.applyBindings(self.model, self.dom);\\n}\\n);\\n    (WebIO.importBlock({\\\"data\\\":[{\\\"name\\\":\\\"knockout\\\",\\\"type\\\":\\\"js\\\",\\\"url\\\":\\\"/assetserver/727383f2a47bd31570b7da84eee7b022dd6d7c78-knockout.js\\\"},{\\\"name\\\":\\\"knockout_punches\\\",\\\"type\\\":\\\"js\\\",\\\"url\\\":\\\"/assetserver/382b41b3b1bd9f26f75861d360bad7f8beea211f-knockout_punches.js\\\"}],\\\"type\\\":\\\"async_block\\\"})).then((imports) => handler.apply(this, imports));\\n}\\n\")])], Dict{Symbol, Any}(:className => \"field interact-widget\")), WebIO.Node{WebIO.DOM}(WebIO.DOM(:html, :div), Any[WebIO.Scope(WebIO.Node{WebIO.DOM}(WebIO.DOM(:html, :div), Any[WebIO.Node{WebIO.DOM}(WebIO.DOM(:html, :div), Any[WebIO.Node{WebIO.DOM}(WebIO.DOM(:html, :label), Any[\"scale\"], Dict{Symbol, Any}(:className => \"interact \", :style => Dict{Any, Any}(:padding => \"5px 10px 0px 10px\")))], Dict{Symbol, Any}(:className => \"interact-flex-row-left\")), WebIO.Node{WebIO.DOM}(WebIO.DOM(:html, :div), Any[WebIO.Node{WebIO.DOM}(WebIO.DOM(:html, :input), Any[], Dict{Symbol, Any}(:max => 20, :min => 1, :attributes => Dict{Any, Any}(:type => \"range\", Symbol(\"data-bind\") => \"numericValue: index, valueUpdate: 'input', event: {change: function (){this.changes(this.changes()+1)}}\", \"orient\" => \"horizontal\"), :step => 1, :className => \"slider slider is-fullwidth\", :style => Dict{Any, Any}()))], Dict{Symbol, Any}(:className => \"interact-flex-row-center\")), WebIO.Node{WebIO.DOM}(WebIO.DOM(:html, :div), Any[WebIO.Node{WebIO.DOM}(WebIO.DOM(:html, :p), Any[], Dict{Symbol, Any}(:attributes => Dict(\"data-bind\" => \"text: formatted_val\")))], Dict{Symbol, Any}(:className => \"interact-flex-row-right\"))], Dict{Symbol, Any}(:className => \"interact-flex-row interact-widget\")), Dict{String, Tuple{Observables.AbstractObservable, Union{Nothing, Bool}}}(\"changes\" => (Observable(0), nothing), \"index\" => (Observable{Any}(10), nothing)), Set{String}(), nothing, WebIO.Asset[WebIO.Asset(\"js\", \"knockout\", \"/home/dushya/.julia/packages/Knockout/HReiN/src/../assets/knockout.js\"), WebIO.Asset(\"js\", \"knockout_punches\", \"/home/dushya/.julia/packages/Knockout/HReiN/src/../assets/knockout_punches.js\"), WebIO.Asset(\"js\", nothing, \"/home/dushya/.julia/packages/InteractBase/LJXv3/src/../assets/all.js\"), WebIO.Asset(\"css\", nothing, \"/home/dushya/.julia/packages/InteractBase/LJXv3/src/../assets/style.css\"), WebIO.Asset(\"css\", nothing, \"/home/dushya/.julia/packages/Interact/PENUy/src/../assets/bulma_confined.min.css\")], Dict{Any, Any}(\"changes\" => Any[WebIO.JSString(\"(function (val){return (val!=this.model[\\\"changes\\\"]()) ? (this.valueFromJulia[\\\"changes\\\"]=true, this.model[\\\"changes\\\"](val)) : undefined})\")], \"index\" => Any[WebIO.JSString(\"(function (val){return (val!=this.model[\\\"index\\\"]()) ? (this.valueFromJulia[\\\"index\\\"]=true, this.model[\\\"index\\\"](val)) : undefined})\")]), WebIO.ConnectionPool(Channel{Any}(32), Set{WebIO.AbstractConnection}(), Base.GenericCondition{ReentrantLock}(Base.IntrusiveLinkedList{Task}(Task (runnable) @0x00007f4d475c1910, Task (runnable) @0x00007f4d475c1910), ReentrantLock(nothing, 0x00000000, 0x00, Base.GenericCondition{Base.Threads.SpinLock}(Base.IntrusiveLinkedList{Task}(nothing, nothing), Base.Threads.SpinLock(0)), (8, 139971862200688, 1)))), WebIO.JSString[WebIO.JSString(\"function () {\\n    var handler = (function (ko, koPunches) {\\n    ko.punches.enableAll();\\n    ko.bindingHandlers.numericValue = {\\n        init: function(element, valueAccessor, allBindings, data, context) {\\n            var stringified = ko.observable(ko.unwrap(valueAccessor()));\\n            stringified.subscribe(function(value) {\\n                var val = parseFloat(value);\\n                if (!isNaN(val)) {\\n                    valueAccessor()(val);\\n                }\\n            });\\n            valueAccessor().subscribe(function(value) {\\n                var str = JSON.stringify(value);\\n                if ((str == \\\"0\\\") && ([\\\"-0\\\", \\\"-0.\\\"].indexOf(stringified()) >= 0))\\n                     return;\\n                 if ([\\\"null\\\", \\\"\\\"].indexOf(str) >= 0)\\n                     return;\\n                stringified(str);\\n            });\\n            ko.applyBindingsToNode(\\n                element,\\n                {\\n                    value: stringified,\\n                    valueUpdate: allBindings.get('valueUpdate'),\\n                },\\n                context,\\n            );\\n        }\\n    };\\n    var json_data = {\\\"formatted_vals\\\":[\\\"0.1\\\",\\\"0.2\\\",\\\"0.3\\\",\\\"0.4\\\",\\\"0.5\\\",\\\"0.6\\\",\\\"0.7\\\",\\\"0.8\\\",\\\"0.9\\\",\\\"1.0\\\",\\\"1.1\\\",\\\"1.2\\\",\\\"1.3\\\",\\\"1.4\\\",\\\"1.5\\\",\\\"1.6\\\",\\\"1.7\\\",\\\"1.8\\\",\\\"1.9\\\",\\\"2.0\\\"],\\\"changes\\\":WebIO.getval({\\\"name\\\":\\\"changes\\\",\\\"scope\\\":\\\"2186482968941118665\\\",\\\"id\\\":\\\"1135085048411370284\\\",\\\"type\\\":\\\"observable\\\"}),\\\"index\\\":WebIO.getval({\\\"name\\\":\\\"index\\\",\\\"scope\\\":\\\"2186482968941118665\\\",\\\"id\\\":\\\"18257811689119699560\\\",\\\"type\\\":\\\"observable\\\"})};\\n    var self = this;\\n    function AppViewModel() {\\n        for (var key in json_data) {\\n            var el = json_data[key];\\n            this[key] = Array.isArray(el) ? ko.observableArray(el) : ko.observable(el);\\n        }\\n        \\n        [this[\\\"formatted_val\\\"]=ko.computed(    function(){\\n        return this.formatted_vals()[parseInt(this.index())-(1)];\\n    }\\n,this)]\\n        [this[\\\"changes\\\"].subscribe((function (val){!(this.valueFromJulia[\\\"changes\\\"]) ? (WebIO.setval({\\\"name\\\":\\\"changes\\\",\\\"scope\\\":\\\"2186482968941118665\\\",\\\"id\\\":\\\"1135085048411370284\\\",\\\"type\\\":\\\"observable\\\"},val)) : undefined; return this.valueFromJulia[\\\"changes\\\"]=false}),self),this[\\\"index\\\"].subscribe((function (val){!(this.valueFromJulia[\\\"index\\\"]) ? (WebIO.setval({\\\"name\\\":\\\"index\\\",\\\"scope\\\":\\\"2186482968941118665\\\",\\\"id\\\":\\\"18257811689119699560\\\",\\\"type\\\":\\\"observable\\\"},val)) : undefined; return this.valueFromJulia[\\\"index\\\"]=false}),self)]\\n        \\n    }\\n    self.model = new AppViewModel();\\n    self.valueFromJulia = {};\\n    for (var key in json_data) {\\n        self.valueFromJulia[key] = false;\\n    }\\n    ko.applyBindings(self.model, self.dom);\\n}\\n);\\n    (WebIO.importBlock({\\\"data\\\":[{\\\"name\\\":\\\"knockout\\\",\\\"type\\\":\\\"js\\\",\\\"url\\\":\\\"/assetserver/727383f2a47bd31570b7da84eee7b022dd6d7c78-knockout.js\\\"},{\\\"name\\\":\\\"knockout_punches\\\",\\\"type\\\":\\\"js\\\",\\\"url\\\":\\\"/assetserver/382b41b3b1bd9f26f75861d360bad7f8beea211f-knockout_punches.js\\\"}],\\\"type\\\":\\\"async_block\\\"})).then((imports) => handler.apply(this, imports));\\n}\\n\")])], Dict{Symbol, Any}(:className => \"field interact-widget\")), WebIO.Node{WebIO.DOM}(WebIO.DOM(:html, :div), Any[WebIO.Node{WebIO.DOM}(WebIO.DOM(:html, :div), Any[WebIO.Scope(WebIO.Node{WebIO.DOM}(WebIO.DOM(:html, :div), Any[], Dict{Symbol, Any}(:id => \"container\")), Dict{String, Tuple{Observables.AbstractObservable, Union{Nothing, Bool}}}(\"value\" => (Observable(\"\\\\;\\\\;\"), nothing)), Set{String}(), nothing, WebIO.Asset[WebIO.Asset(\"js\", nothing, \"/home/dushya/.julia/packages/InteractBase/LJXv3/src/../assets/katex.min.js\"), WebIO.Asset(\"css\", nothing, \"/home/dushya/.julia/packages/InteractBase/LJXv3/src/../assets/katex.min.css\")], Dict{Any, Any}(\"value\" => Any[WebIO.JSString(\"(function (txt){return this.k.render(txt,this.container)})\")]), WebIO.ConnectionPool(Channel{Any}(32), Set{WebIO.AbstractConnection}(), Base.GenericCondition{ReentrantLock}(Base.IntrusiveLinkedList{Task}(Task (runnable) @0x00007f4d475d33a0, Task (runnable) @0x00007f4d475d33a0), ReentrantLock(nothing, 0x00000000, 0x00, Base.GenericCondition{Base.Threads.SpinLock}(Base.IntrusiveLinkedList{Task}(nothing, nothing), Base.Threads.SpinLock(0)), (1, 139971718616128, 4294967297)))), WebIO.JSString[WebIO.JSString(\"function () {\\n    var handler = ((function (k){this.k=k; this.container=this.dom.querySelector(\\\"#container\\\"); return k.render(\\\"\\\\\\\\;\\\\\\\\;\\\",this.container)}));\\n    (WebIO.importBlock({\\\"data\\\":[{\\\"name\\\":null,\\\"type\\\":\\\"js\\\",\\\"url\\\":\\\"/assetserver/dd22ed1bf1896c2748f3fe616ce0b838adc895c1-katex.min.js\\\"},{\\\"name\\\":null,\\\"type\\\":\\\"css\\\",\\\"url\\\":\\\"/assetserver/46517a424aa5e6cffc1360d7e0848b601c584ee3-katex.min.css\\\"}],\\\"type\\\":\\\"async_block\\\"})).then((imports) => handler.apply(this, imports));\\n}\\n\")])], Dict{Symbol, Any}(:className => \"interact-widget\")), WebIO.Node{WebIO.DOM}(WebIO.DOM(:html, :div), Any[WebIO.Scope(WebIO.Node{WebIO.DOM}(WebIO.DOM(:html, :button), Any[\"run\"], Dict{Symbol, Any}(:attributes => Dict{Any, Any}(\"data-bind\" => \"click: function (){this.clicks(this.clicks()+1)}, css: {'is-loading' : loading}\"), :className => \"is-medium button is-primary\", :style => Dict{String, Any}())), Dict{String, Tuple{Observables.AbstractObservable, Union{Nothing, Bool}}}(\"loading\" => (Observable(false), nothing), \"clicks\" => (Observable(0), nothing)), Set{String}(), nothing, WebIO.Asset[WebIO.Asset(\"js\", \"knockout\", \"/home/dushya/.julia/packages/Knockout/HReiN/src/../assets/knockout.js\"), WebIO.Asset(\"js\", \"knockout_punches\", \"/home/dushya/.julia/packages/Knockout/HReiN/src/../assets/knockout_punches.js\"), WebIO.Asset(\"js\", nothing, \"/home/dushya/.julia/packages/InteractBase/LJXv3/src/../assets/all.js\"), WebIO.Asset(\"css\", nothing, \"/home/dushya/.julia/packages/InteractBase/LJXv3/src/../assets/style.css\"), WebIO.Asset(\"css\", nothing, \"/home/dushya/.julia/packages/Interact/PENUy/src/../assets/bulma_confined.min.css\")], Dict{Any, Any}(\"loading\" => Any[WebIO.JSString(\"(function (val){return (val!=this.model[\\\"loading\\\"]()) ? (this.valueFromJulia[\\\"loading\\\"]=true, this.model[\\\"loading\\\"](val)) : undefined})\")], \"clicks\" => Any[WebIO.JSString(\"(function (val){return (val!=this.model[\\\"clicks\\\"]()) ? (this.valueFromJulia[\\\"clicks\\\"]=true, this.model[\\\"clicks\\\"](val)) : undefined})\")]), WebIO.ConnectionPool(Channel{Any}(32), Set{WebIO.AbstractConnection}(), Base.GenericCondition{ReentrantLock}(Base.IntrusiveLinkedList{Task}(Task (runnable) @0x00007f4dba3f3530, Task (runnable) @0x00007f4dba3f3530), ReentrantLock(nothing, 0x00000000, 0x00, Base.GenericCondition{Base.Threads.SpinLock}(Base.IntrusiveLinkedList{Task}(nothing, nothing), Base.Threads.SpinLock(0)), (0, 139971717446704, 139971717446720)))), WebIO.JSString[WebIO.JSString(\"function () {\\n    var handler = (function (ko, koPunches) {\\n    ko.punches.enableAll();\\n    ko.bindingHandlers.numericValue = {\\n        init: function(element, valueAccessor, allBindings, data, context) {\\n            var stringified = ko.observable(ko.unwrap(valueAccessor()));\\n            stringified.subscribe(function(value) {\\n                var val = parseFloat(value);\\n                if (!isNaN(val)) {\\n                    valueAccessor()(val);\\n                }\\n            });\\n            valueAccessor().subscribe(function(value) {\\n                var str = JSON.stringify(value);\\n                if ((str == \\\"0\\\") && ([\\\"-0\\\", \\\"-0.\\\"].indexOf(stringified()) >= 0))\\n                     return;\\n                 if ([\\\"null\\\", \\\"\\\"].indexOf(str) >= 0)\\n                     return;\\n                stringified(str);\\n            });\\n            ko.applyBindingsToNode(\\n                element,\\n                {\\n                    value: stringified,\\n                    valueUpdate: allBindings.get('valueUpdate'),\\n                },\\n                context,\\n            );\\n        }\\n    };\\n    var json_data = {\\\"loading\\\":WebIO.getval({\\\"name\\\":\\\"loading\\\",\\\"scope\\\":\\\"3978608522699087341\\\",\\\"id\\\":\\\"14904549700141926007\\\",\\\"type\\\":\\\"observable\\\"}),\\\"clicks\\\":WebIO.getval({\\\"name\\\":\\\"clicks\\\",\\\"scope\\\":\\\"3978608522699087341\\\",\\\"id\\\":\\\"12585787150663171509\\\",\\\"type\\\":\\\"observable\\\"})};\\n    var self = this;\\n    function AppViewModel() {\\n        for (var key in json_data) {\\n            var el = json_data[key];\\n            this[key] = Array.isArray(el) ? ko.observableArray(el) : ko.observable(el);\\n        }\\n        \\n        \\n        [this[\\\"loading\\\"].subscribe((function (val){!(this.valueFromJulia[\\\"loading\\\"]) ? (WebIO.setval({\\\"name\\\":\\\"loading\\\",\\\"scope\\\":\\\"3978608522699087341\\\",\\\"id\\\":\\\"14904549700141926007\\\",\\\"type\\\":\\\"observable\\\"},val)) : undefined; return this.valueFromJulia[\\\"loading\\\"]=false}),self),this[\\\"clicks\\\"].subscribe((function (val){!(this.valueFromJulia[\\\"clicks\\\"]) ? (WebIO.setval({\\\"name\\\":\\\"clicks\\\",\\\"scope\\\":\\\"3978608522699087341\\\",\\\"id\\\":\\\"12585787150663171509\\\",\\\"type\\\":\\\"observable\\\"},val)) : undefined; return this.valueFromJulia[\\\"clicks\\\"]=false}),self)]\\n        \\n    }\\n    self.model = new AppViewModel();\\n    self.valueFromJulia = {};\\n    for (var key in json_data) {\\n        self.valueFromJulia[key] = false;\\n    }\\n    ko.applyBindings(self.model, self.dom);\\n}\\n);\\n    (WebIO.importBlock({\\\"data\\\":[{\\\"name\\\":\\\"knockout\\\",\\\"type\\\":\\\"js\\\",\\\"url\\\":\\\"/assetserver/727383f2a47bd31570b7da84eee7b022dd6d7c78-knockout.js\\\"},{\\\"name\\\":\\\"knockout_punches\\\",\\\"type\\\":\\\"js\\\",\\\"url\\\":\\\"/assetserver/382b41b3b1bd9f26f75861d360bad7f8beea211f-knockout_punches.js\\\"}],\\\"type\\\":\\\"async_block\\\"})).then((imports) => handler.apply(this, imports));\\n}\\n\")])], Dict{Symbol, Any}(:className => \"field interact-widget\")), WebIO.Node{WebIO.DOM}(WebIO.DOM(:html, :div), Any[WebIO.Scope(WebIO.Node{WebIO.DOM}(WebIO.DOM(:html, :div), Any[], Dict{Symbol, Any}(:id => \"container\")), Dict{String, Tuple{Observables.AbstractObservable, Union{Nothing, Bool}}}(\"value\" => (Observable(\"\\\\;\\\\;\"), nothing)), Set{String}(), nothing, WebIO.Asset[WebIO.Asset(\"js\", nothing, \"/home/dushya/.julia/packages/InteractBase/LJXv3/src/../assets/katex.min.js\"), WebIO.Asset(\"css\", nothing, \"/home/dushya/.julia/packages/InteractBase/LJXv3/src/../assets/katex.min.css\")], Dict{Any, Any}(\"value\" => Any[WebIO.JSString(\"(function (txt){return this.k.render(txt,this.container)})\")]), WebIO.ConnectionPool(Channel{Any}(32), Set{WebIO.AbstractConnection}(), Base.GenericCondition{ReentrantLock}(Base.IntrusiveLinkedList{Task}(Task (runnable) @0x00007f4d475d33a0, Task (runnable) @0x00007f4d475d33a0), ReentrantLock(nothing, 0x00000000, 0x00, Base.GenericCondition{Base.Threads.SpinLock}(Base.IntrusiveLinkedList{Task}(nothing, nothing), Base.Threads.SpinLock(0)), (1, 139971718616128, 4294967297)))), WebIO.JSString[WebIO.JSString(\"function () {\\n    var handler = ((function (k){this.k=k; this.container=this.dom.querySelector(\\\"#container\\\"); return k.render(\\\"\\\\\\\\;\\\\\\\\;\\\",this.container)}));\\n    (WebIO.importBlock({\\\"data\\\":[{\\\"name\\\":null,\\\"type\\\":\\\"js\\\",\\\"url\\\":\\\"/assetserver/dd22ed1bf1896c2748f3fe616ce0b838adc895c1-katex.min.js\\\"},{\\\"name\\\":null,\\\"type\\\":\\\"css\\\",\\\"url\\\":\\\"/assetserver/46517a424aa5e6cffc1360d7e0848b601c584ee3-katex.min.css\\\"}],\\\"type\\\":\\\"async_block\\\"})).then((imports) => handler.apply(this, imports));\\n}\\n\")])], Dict{Symbol, Any}(:className => \"interact-widget\")), WebIO.Node{WebIO.DOM}(WebIO.DOM(:html, :div), Any[WebIO.Scope(WebIO.Node{WebIO.DOM}(WebIO.DOM(:html, :button), Any[\"stop\"], Dict{Symbol, Any}(:attributes => Dict{Any, Any}(\"data-bind\" => \"click: function (){this.clicks(this.clicks()+1)}, css: {'is-loading' : loading}\"), :className => \"is-medium button is-primary\", :style => Dict{String, Any}())), Dict{String, Tuple{Observables.AbstractObservable, Union{Nothing, Bool}}}(\"loading\" => (Observable(false), nothing), \"clicks\" => (Observable(0), nothing)), Set{String}(), nothing, WebIO.Asset[WebIO.Asset(\"js\", \"knockout\", \"/home/dushya/.julia/packages/Knockout/HReiN/src/../assets/knockout.js\"), WebIO.Asset(\"js\", \"knockout_punches\", \"/home/dushya/.julia/packages/Knockout/HReiN/src/../assets/knockout_punches.js\"), WebIO.Asset(\"js\", nothing, \"/home/dushya/.julia/packages/InteractBase/LJXv3/src/../assets/all.js\"), WebIO.Asset(\"css\", nothing, \"/home/dushya/.julia/packages/InteractBase/LJXv3/src/../assets/style.css\"), WebIO.Asset(\"css\", nothing, \"/home/dushya/.julia/packages/Interact/PENUy/src/../assets/bulma_confined.min.css\")], Dict{Any, Any}(\"loading\" => Any[WebIO.JSString(\"(function (val){return (val!=this.model[\\\"loading\\\"]()) ? (this.valueFromJulia[\\\"loading\\\"]=true, this.model[\\\"loading\\\"](val)) : undefined})\")], \"clicks\" => Any[WebIO.JSString(\"(function (val){return (val!=this.model[\\\"clicks\\\"]()) ? (this.valueFromJulia[\\\"clicks\\\"]=true, this.model[\\\"clicks\\\"](val)) : undefined})\")]), WebIO.ConnectionPool(Channel{Any}(32), Set{WebIO.AbstractConnection}(), Base.GenericCondition{ReentrantLock}(Base.IntrusiveLinkedList{Task}(Task (runnable) @0x00007f4dbbbe3080, Task (runnable) @0x00007f4dbbbe3080), ReentrantLock(nothing, 0x00000000, 0x00, Base.GenericCondition{Base.Threads.SpinLock}(Base.IntrusiveLinkedList{Task}(nothing, nothing), Base.Threads.SpinLock(0)), (0, 139971862196232, 139971836913600)))), WebIO.JSString[WebIO.JSString(\"function () {\\n    var handler = (function (ko, koPunches) {\\n    ko.punches.enableAll();\\n    ko.bindingHandlers.numericValue = {\\n        init: function(element, valueAccessor, allBindings, data, context) {\\n            var stringified = ko.observable(ko.unwrap(valueAccessor()));\\n            stringified.subscribe(function(value) {\\n                var val = parseFloat(value);\\n                if (!isNaN(val)) {\\n                    valueAccessor()(val);\\n                }\\n            });\\n            valueAccessor().subscribe(function(value) {\\n                var str = JSON.stringify(value);\\n                if ((str == \\\"0\\\") && ([\\\"-0\\\", \\\"-0.\\\"].indexOf(stringified()) >= 0))\\n                     return;\\n                 if ([\\\"null\\\", \\\"\\\"].indexOf(str) >= 0)\\n                     return;\\n                stringified(str);\\n            });\\n            ko.applyBindingsToNode(\\n                element,\\n                {\\n                    value: stringified,\\n                    valueUpdate: allBindings.get('valueUpdate'),\\n                },\\n                context,\\n            );\\n        }\\n    };\\n    var json_data = {\\\"loading\\\":WebIO.getval({\\\"name\\\":\\\"loading\\\",\\\"scope\\\":\\\"15285759675944302319\\\",\\\"id\\\":\\\"1159199123501695090\\\",\\\"type\\\":\\\"observable\\\"}),\\\"clicks\\\":WebIO.getval({\\\"name\\\":\\\"clicks\\\",\\\"scope\\\":\\\"15285759675944302319\\\",\\\"id\\\":\\\"7887726380628509032\\\",\\\"type\\\":\\\"observable\\\"})};\\n    var self = this;\\n    function AppViewModel() {\\n        for (var key in json_data) {\\n            var el = json_data[key];\\n            this[key] = Array.isArray(el) ? ko.observableArray(el) : ko.observable(el);\\n        }\\n        \\n        \\n        [this[\\\"loading\\\"].subscribe((function (val){!(this.valueFromJulia[\\\"loading\\\"]) ? (WebIO.setval({\\\"name\\\":\\\"loading\\\",\\\"scope\\\":\\\"15285759675944302319\\\",\\\"id\\\":\\\"1159199123501695090\\\",\\\"type\\\":\\\"observable\\\"},val)) : undefined; return this.valueFromJulia[\\\"loading\\\"]=false}),self),this[\\\"clicks\\\"].subscribe((function (val){!(this.valueFromJulia[\\\"clicks\\\"]) ? (WebIO.setval({\\\"name\\\":\\\"clicks\\\",\\\"scope\\\":\\\"15285759675944302319\\\",\\\"id\\\":\\\"7887726380628509032\\\",\\\"type\\\":\\\"observable\\\"},val)) : undefined; return this.valueFromJulia[\\\"clicks\\\"]=false}),self)]\\n        \\n    }\\n    self.model = new AppViewModel();\\n    self.valueFromJulia = {};\\n    for (var key in json_data) {\\n        self.valueFromJulia[key] = false;\\n    }\\n    ko.applyBindings(self.model, self.dom);\\n}\\n);\\n    (WebIO.importBlock({\\\"data\\\":[{\\\"name\\\":\\\"knockout\\\",\\\"type\\\":\\\"js\\\",\\\"url\\\":\\\"/assetserver/727383f2a47bd31570b7da84eee7b022dd6d7c78-knockout.js\\\"},{\\\"name\\\":\\\"knockout_punches\\\",\\\"type\\\":\\\"js\\\",\\\"url\\\":\\\"/assetserver/382b41b3b1bd9f26f75861d360bad7f8beea211f-knockout_punches.js\\\"}],\\\"type\\\":\\\"async_block\\\"})).then((imports) => handler.apply(this, imports));\\n}\\n\")])], Dict{Symbol, Any}(:className => \"field interact-widget\")), WebIO.Node{WebIO.DOM}(WebIO.DOM(:html, :div), Any[WebIO.Scope(WebIO.Node{WebIO.DOM}(WebIO.DOM(:html, :div), Any[], Dict{Symbol, Any}(:id => \"container\")), Dict{String, Tuple{Observables.AbstractObservable, Union{Nothing, Bool}}}(\"value\" => (Observable(\"\\\\;\\\\;\"), nothing)), Set{String}(), nothing, WebIO.Asset[WebIO.Asset(\"js\", nothing, \"/home/dushya/.julia/packages/InteractBase/LJXv3/src/../assets/katex.min.js\"), WebIO.Asset(\"css\", nothing, \"/home/dushya/.julia/packages/InteractBase/LJXv3/src/../assets/katex.min.css\")], Dict{Any, Any}(\"value\" => Any[WebIO.JSString(\"(function (txt){return this.k.render(txt,this.container)})\")]), WebIO.ConnectionPool(Channel{Any}(32), Set{WebIO.AbstractConnection}(), Base.GenericCondition{ReentrantLock}(Base.IntrusiveLinkedList{Task}(Task (runnable) @0x00007f4d475d33a0, Task (runnable) @0x00007f4d475d33a0), ReentrantLock(nothing, 0x00000000, 0x00, Base.GenericCondition{Base.Threads.SpinLock}(Base.IntrusiveLinkedList{Task}(nothing, nothing), Base.Threads.SpinLock(0)), (1, 139971718616128, 4294967297)))), WebIO.JSString[WebIO.JSString(\"function () {\\n    var handler = ((function (k){this.k=k; this.container=this.dom.querySelector(\\\"#container\\\"); return k.render(\\\"\\\\\\\\;\\\\\\\\;\\\",this.container)}));\\n    (WebIO.importBlock({\\\"data\\\":[{\\\"name\\\":null,\\\"type\\\":\\\"js\\\",\\\"url\\\":\\\"/assetserver/dd22ed1bf1896c2748f3fe616ce0b838adc895c1-katex.min.js\\\"},{\\\"name\\\":null,\\\"type\\\":\\\"css\\\",\\\"url\\\":\\\"/assetserver/46517a424aa5e6cffc1360d7e0848b601c584ee3-katex.min.css\\\"}],\\\"type\\\":\\\"async_block\\\"})).then((imports) => handler.apply(this, imports));\\n}\\n\")])], Dict{Symbol, Any}(:className => \"interact-widget\")), WebIO.Node{WebIO.DOM}(WebIO.DOM(:html, :div), Any[WebIO.Scope(WebIO.Node{WebIO.DOM}(WebIO.DOM(:html, :button), Any[\"save\"], Dict{Symbol, Any}(:attributes => Dict{Any, Any}(\"data-bind\" => \"click: function (){this.clicks(this.clicks()+1)}, css: {'is-loading' : loading}\"), :className => \"is-medium button is-primary\", :style => Dict{String, Any}())), Dict{String, Tuple{Observables.AbstractObservable, Union{Nothing, Bool}}}(\"loading\" => (Observable(false), nothing), \"clicks\" => (Observable(0), nothing)), Set{String}(), nothing, WebIO.Asset[WebIO.Asset(\"js\", \"knockout\", \"/home/dushya/.julia/packages/Knockout/HReiN/src/../assets/knockout.js\"), WebIO.Asset(\"js\", \"knockout_punches\", \"/home/dushya/.julia/packages/Knockout/HReiN/src/../assets/knockout_punches.js\"), WebIO.Asset(\"js\", nothing, \"/home/dushya/.julia/packages/InteractBase/LJXv3/src/../assets/all.js\"), WebIO.Asset(\"css\", nothing, \"/home/dushya/.julia/packages/InteractBase/LJXv3/src/../assets/style.css\"), WebIO.Asset(\"css\", nothing, \"/home/dushya/.julia/packages/Interact/PENUy/src/../assets/bulma_confined.min.css\")], Dict{Any, Any}(\"loading\" => Any[WebIO.JSString(\"(function (val){return (val!=this.model[\\\"loading\\\"]()) ? (this.valueFromJulia[\\\"loading\\\"]=true, this.model[\\\"loading\\\"](val)) : undefined})\")], \"clicks\" => Any[WebIO.JSString(\"(function (val){return (val!=this.model[\\\"clicks\\\"]()) ? (this.valueFromJulia[\\\"clicks\\\"]=true, this.model[\\\"clicks\\\"](val)) : undefined})\")]), WebIO.ConnectionPool(Channel{Any}(32), Set{WebIO.AbstractConnection}(), Base.GenericCondition{ReentrantLock}(Base.IntrusiveLinkedList{Task}(Task (runnable) @0x00007f4dbbc11f50, Task (runnable) @0x00007f4dbbc11f50), ReentrantLock(nothing, 0x00000000, 0x00, Base.GenericCondition{Base.Threads.SpinLock}(Base.IntrusiveLinkedList{Task}(nothing, nothing), Base.Threads.SpinLock(0)), (8, 139971862719824, 2)))), WebIO.JSString[WebIO.JSString(\"function () {\\n    var handler = (function (ko, koPunches) {\\n    ko.punches.enableAll();\\n    ko.bindingHandlers.numericValue = {\\n        init: function(element, valueAccessor, allBindings, data, context) {\\n            var stringified = ko.observable(ko.unwrap(valueAccessor()));\\n            stringified.subscribe(function(value) {\\n                var val = parseFloat(value);\\n                if (!isNaN(val)) {\\n                    valueAccessor()(val);\\n                }\\n            });\\n            valueAccessor().subscribe(function(value) {\\n                var str = JSON.stringify(value);\\n                if ((str == \\\"0\\\") && ([\\\"-0\\\", \\\"-0.\\\"].indexOf(stringified()) >= 0))\\n                     return;\\n                 if ([\\\"null\\\", \\\"\\\"].indexOf(str) >= 0)\\n                     return;\\n                stringified(str);\\n            });\\n            ko.applyBindingsToNode(\\n                element,\\n                {\\n                    value: stringified,\\n                    valueUpdate: allBindings.get('valueUpdate'),\\n                },\\n                context,\\n            );\\n        }\\n    };\\n    var json_data = {\\\"loading\\\":WebIO.getval({\\\"name\\\":\\\"loading\\\",\\\"scope\\\":\\\"13355425725240437951\\\",\\\"id\\\":\\\"670269892490866283\\\",\\\"type\\\":\\\"observable\\\"}),\\\"clicks\\\":WebIO.getval({\\\"name\\\":\\\"clicks\\\",\\\"scope\\\":\\\"13355425725240437951\\\",\\\"id\\\":\\\"11048753691264026654\\\",\\\"type\\\":\\\"observable\\\"})};\\n    var self = this;\\n    function AppViewModel() {\\n        for (var key in json_data) {\\n            var el = json_data[key];\\n            this[key] = Array.isArray(el) ? ko.observableArray(el) : ko.observable(el);\\n        }\\n        \\n        \\n        [this[\\\"loading\\\"].subscribe((function (val){!(this.valueFromJulia[\\\"loading\\\"]) ? (WebIO.setval({\\\"name\\\":\\\"loading\\\",\\\"scope\\\":\\\"13355425725240437951\\\",\\\"id\\\":\\\"670269892490866283\\\",\\\"type\\\":\\\"observable\\\"},val)) : undefined; return this.valueFromJulia[\\\"loading\\\"]=false}),self),this[\\\"clicks\\\"].subscribe((function (val){!(this.valueFromJulia[\\\"clicks\\\"]) ? (WebIO.setval({\\\"name\\\":\\\"clicks\\\",\\\"scope\\\":\\\"13355425725240437951\\\",\\\"id\\\":\\\"11048753691264026654\\\",\\\"type\\\":\\\"observable\\\"},val)) : undefined; return this.valueFromJulia[\\\"clicks\\\"]=false}),self)]\\n        \\n    }\\n    self.model = new AppViewModel();\\n    self.valueFromJulia = {};\\n    for (var key in json_data) {\\n        self.valueFromJulia[key] = false;\\n    }\\n    ko.applyBindings(self.model, self.dom);\\n}\\n);\\n    (WebIO.importBlock({\\\"data\\\":[{\\\"name\\\":\\\"knockout\\\",\\\"type\\\":\\\"js\\\",\\\"url\\\":\\\"/assetserver/727383f2a47bd31570b7da84eee7b022dd6d7c78-knockout.js\\\"},{\\\"name\\\":\\\"knockout_punches\\\",\\\"type\\\":\\\"js\\\",\\\"url\\\":\\\"/assetserver/382b41b3b1bd9f26f75861d360bad7f8beea211f-knockout_punches.js\\\"}],\\\"type\\\":\\\"async_block\\\"})).then((imports) => handler.apply(this, imports));\\n}\\n\")])], Dict{Symbol, Any}(:className => \"field interact-widget\"))], Dict{Symbol, Any}(:style => Dict(\"display\" => \"flex\", \"flex-direction\" => \"row\")))], Dict{Symbol, Any}(:style => Dict(\"display\" => \"flex\", \"flex-direction\" => \"column\"))), WebIO.Node{WebIO.DOM}(WebIO.DOM(:html, :div), Any[WebIO.Scope(WebIO.Node{WebIO.DOM}(WebIO.DOM(:html, :div), Any[], Dict{Symbol, Any}(:id => \"container\")), Dict{String, Tuple{Observables.AbstractObservable, Union{Nothing, Bool}}}(\"value\" => (Observable(\"\\\\;\\\\;\"), nothing)), Set{String}(), nothing, WebIO.Asset[WebIO.Asset(\"js\", nothing, \"/home/dushya/.julia/packages/InteractBase/LJXv3/src/../assets/katex.min.js\"), WebIO.Asset(\"css\", nothing, \"/home/dushya/.julia/packages/InteractBase/LJXv3/src/../assets/katex.min.css\")], Dict{Any, Any}(\"value\" => Any[WebIO.JSString(\"(function (txt){return this.k.render(txt,this.container)})\")]), WebIO.ConnectionPool(Channel{Any}(32), Set{WebIO.AbstractConnection}(), Base.GenericCondition{ReentrantLock}(Base.IntrusiveLinkedList{Task}(Task (runnable) @0x00007f4d475d33a0, Task (runnable) @0x00007f4d475d33a0), ReentrantLock(nothing, 0x00000000, 0x00, Base.GenericCondition{Base.Threads.SpinLock}(Base.IntrusiveLinkedList{Task}(nothing, nothing), Base.Threads.SpinLock(0)), (1, 139971718616128, 4294967297)))), WebIO.JSString[WebIO.JSString(\"function () {\\n    var handler = ((function (k){this.k=k; this.container=this.dom.querySelector(\\\"#container\\\"); return k.render(\\\"\\\\\\\\;\\\\\\\\;\\\",this.container)}));\\n    (WebIO.importBlock({\\\"data\\\":[{\\\"name\\\":null,\\\"type\\\":\\\"js\\\",\\\"url\\\":\\\"/assetserver/dd22ed1bf1896c2748f3fe616ce0b838adc895c1-katex.min.js\\\"},{\\\"name\\\":null,\\\"type\\\":\\\"css\\\",\\\"url\\\":\\\"/assetserver/46517a424aa5e6cffc1360d7e0848b601c584ee3-katex.min.css\\\"}],\\\"type\\\":\\\"async_block\\\"})).then((imports) => handler.apply(this, imports));\\n}\\n\")])], Dict{Symbol, Any}(:className => \"interact-widget\")), Observable(Luxor.Drawing(430.0, 430.0, \"\", Cairo.CairoSurfaceBase{UInt32}(Ptr{Nothing} @0x0000000000000000, 430.0, 430.0), Cairo.CairoContext(Ptr{Nothing} @0x0000000003a5b340, Cairo.CairoSurfaceBase{UInt32}(Ptr{Nothing} @0x0000000000000000, 430.0, 430.0), Ptr{Nothing} @0x0000000003bd4f50), :png, 0.5, 0.5, 0.5, 0.5, IOBuffer(data=UInt8[...], readable=true, writable=true, seekable=true, append=false, size=6674, maxsize=Inf, ptr=6675, mark=-1), UInt8[0x89, 0x50, 0x4e, 0x47, 0x0d, 0x0a, 0x1a, 0x0a, 0x00, 0x00  …  0x00, 0x00, 0x49, 0x45, 0x4e, 0x44, 0xae, 0x42, 0x60, 0x82], false)), WebIO.Node{WebIO.DOM}(WebIO.DOM(:html, :div), Any[WebIO.Scope(WebIO.Node{WebIO.DOM}(WebIO.DOM(:html, :div), Any[], Dict{Symbol, Any}(:id => \"container\")), Dict{String, Tuple{Observables.AbstractObservable, Union{Nothing, Bool}}}(\"value\" => (Observable(\"\\\\;\\\\;\"), nothing)), Set{String}(), nothing, WebIO.Asset[WebIO.Asset(\"js\", nothing, \"/home/dushya/.julia/packages/InteractBase/LJXv3/src/../assets/katex.min.js\"), WebIO.Asset(\"css\", nothing, \"/home/dushya/.julia/packages/InteractBase/LJXv3/src/../assets/katex.min.css\")], Dict{Any, Any}(\"value\" => Any[WebIO.JSString(\"(function (txt){return this.k.render(txt,this.container)})\")]), WebIO.ConnectionPool(Channel{Any}(32), Set{WebIO.AbstractConnection}(), Base.GenericCondition{ReentrantLock}(Base.IntrusiveLinkedList{Task}(Task (runnable) @0x00007f4d475d33a0, Task (runnable) @0x00007f4d475d33a0), ReentrantLock(nothing, 0x00000000, 0x00, Base.GenericCondition{Base.Threads.SpinLock}(Base.IntrusiveLinkedList{Task}(nothing, nothing), Base.Threads.SpinLock(0)), (1, 139971718616128, 4294967297)))), WebIO.JSString[WebIO.JSString(\"function () {\\n    var handler = ((function (k){this.k=k; this.container=this.dom.querySelector(\\\"#container\\\"); return k.render(\\\"\\\\\\\\;\\\\\\\\;\\\",this.container)}));\\n    (WebIO.importBlock({\\\"data\\\":[{\\\"name\\\":null,\\\"type\\\":\\\"js\\\",\\\"url\\\":\\\"/assetserver/dd22ed1bf1896c2748f3fe616ce0b838adc895c1-katex.min.js\\\"},{\\\"name\\\":null,\\\"type\\\":\\\"css\\\",\\\"url\\\":\\\"/assetserver/46517a424aa5e6cffc1360d7e0848b601c584ee3-katex.min.css\\\"}],\\\"type\\\":\\\"async_block\\\"})).then((imports) => handler.apply(this, imports));\\n}\\n\")])], Dict{Symbol, Any}(:className => \"interact-widget\")), WebIO.Node{WebIO.DOM}(WebIO.DOM(:html, :div), Any[], Dict{Symbol, Any}(:style => Dict(\"display\" => \"flex\", \"flex-direction\" => \"column\")))], Dict{Symbol, Any}(:style => Dict(\"display\" => \"flex\", \"flex-direction\" => \"row\")))], Dict{Symbol, Any}(:style => Dict(\"display\" => \"flex\", \"flex-direction\" => \"column\")))"
      ]
     },
     "execution_count": 6,
     "metadata": {
      "application/vnd.webio.node+json": {
       "kernelId": "5a81b46e-df37-4a02-83ed-9b51f6fbfe0f"
      }
     },
     "output_type": "execute_result"
    }
   ],
   "source": [
    "animate_sim(model, show_patches=true)"
   ]
  },
  {
   "cell_type": "markdown",
   "metadata": {},
   "source": [
    "After defining the `step_rule!` function we can also choose to create an interactive application (which currently works in Jupyter with WebIO installation) as "
   ]
  },
  {
   "cell_type": "code",
   "execution_count": 7,
   "metadata": {},
   "outputs": [
    {
     "data": {
      "application/vnd.webio.node+json": {
       "children": [
        {
         "children": [
          {
           "children": [
            {
             "children": [
              {
               "children": [
                {
                 "children": [
                  {
                   "children": [
                    {
                     "children": [
                      "time"
                     ],
                     "instanceArgs": {
                      "namespace": "html",
                      "tag": "label"
                     },
                     "nodeType": "DOM",
                     "props": {
                      "className": "interact ",
                      "style": {
                       "padding": "5px 10px 0px 10px"
                      }
                     },
                     "type": "node"
                    }
                   ],
                   "instanceArgs": {
                    "namespace": "html",
                    "tag": "div"
                   },
                   "nodeType": "DOM",
                   "props": {
                    "className": "interact-flex-row-left"
                   },
                   "type": "node"
                  },
                  {
                   "children": [
                    {
                     "children": [],
                     "instanceArgs": {
                      "namespace": "html",
                      "tag": "input"
                     },
                     "nodeType": "DOM",
                     "props": {
                      "attributes": {
                       "data-bind": "numericValue: index, valueUpdate: 'input', event: {change: function (){this.changes(this.changes()+1)}}",
                       "orient": "horizontal",
                       "type": "range"
                      },
                      "className": "slider slider is-fullwidth",
                      "max": 200,
                      "min": 1,
                      "step": 1,
                      "style": {}
                     },
                     "type": "node"
                    }
                   ],
                   "instanceArgs": {
                    "namespace": "html",
                    "tag": "div"
                   },
                   "nodeType": "DOM",
                   "props": {
                    "className": "interact-flex-row-center"
                   },
                   "type": "node"
                  },
                  {
                   "children": [
                    {
                     "children": [],
                     "instanceArgs": {
                      "namespace": "html",
                      "tag": "p"
                     },
                     "nodeType": "DOM",
                     "props": {
                      "attributes": {
                       "data-bind": "text: formatted_val"
                      }
                     },
                     "type": "node"
                    }
                   ],
                   "instanceArgs": {
                    "namespace": "html",
                    "tag": "div"
                   },
                   "nodeType": "DOM",
                   "props": {
                    "className": "interact-flex-row-right"
                   },
                   "type": "node"
                  }
                 ],
                 "instanceArgs": {
                  "namespace": "html",
                  "tag": "div"
                 },
                 "nodeType": "DOM",
                 "props": {
                  "className": "interact-flex-row interact-widget"
                 },
                 "type": "node"
                }
               ],
               "instanceArgs": {
                "handlers": {
                 "changes": [
                  "(function (val){return (val!=this.model[\"changes\"]()) ? (this.valueFromJulia[\"changes\"]=true, this.model[\"changes\"](val)) : undefined})"
                 ],
                 "index": [
                  "(function (val){return (val!=this.model[\"index\"]()) ? (this.valueFromJulia[\"index\"]=true, this.model[\"index\"](val)) : undefined})"
                 ]
                },
                "id": "18247937804508432883",
                "imports": {
                 "data": [
                  {
                   "name": "knockout",
                   "type": "js",
                   "url": "/assetserver/727383f2a47bd31570b7da84eee7b022dd6d7c78-knockout.js"
                  },
                  {
                   "name": "knockout_punches",
                   "type": "js",
                   "url": "/assetserver/382b41b3b1bd9f26f75861d360bad7f8beea211f-knockout_punches.js"
                  },
                  {
                   "name": null,
                   "type": "js",
                   "url": "/assetserver/5ab20f1060420992a9b82a65b735dee4d81ef413-all.js"
                  },
                  {
                   "name": null,
                   "type": "css",
                   "url": "/assetserver/1cc0ed62837210b80a182cc3676512f895dab686-style.css"
                  },
                  {
                   "name": null,
                   "type": "css",
                   "url": "/assetserver/2eee816f616df3549d7044d45e744fbf8d42bfa1-bulma_confined.min.css"
                  }
                 ],
                 "type": "async_block"
                },
                "mount_callbacks": [
                 "function () {\n    var handler = (function (ko, koPunches) {\n    ko.punches.enableAll();\n    ko.bindingHandlers.numericValue = {\n        init: function(element, valueAccessor, allBindings, data, context) {\n            var stringified = ko.observable(ko.unwrap(valueAccessor()));\n            stringified.subscribe(function(value) {\n                var val = parseFloat(value);\n                if (!isNaN(val)) {\n                    valueAccessor()(val);\n                }\n            });\n            valueAccessor().subscribe(function(value) {\n                var str = JSON.stringify(value);\n                if ((str == \"0\") && ([\"-0\", \"-0.\"].indexOf(stringified()) >= 0))\n                     return;\n                 if ([\"null\", \"\"].indexOf(str) >= 0)\n                     return;\n                stringified(str);\n            });\n            ko.applyBindingsToNode(\n                element,\n                {\n                    value: stringified,\n                    valueUpdate: allBindings.get('valueUpdate'),\n                },\n                context,\n            );\n        }\n    };\n    var json_data = {\"formatted_vals\":[\"1\",\"2\",\"3\",\"4\",\"5\",\"6\",\"7\",\"8\",\"9\",\"10\",\"11\",\"12\",\"13\",\"14\",\"15\",\"16\",\"17\",\"18\",\"19\",\"20\",\"21\",\"22\",\"23\",\"24\",\"25\",\"26\",\"27\",\"28\",\"29\",\"30\",\"31\",\"32\",\"33\",\"34\",\"35\",\"36\",\"37\",\"38\",\"39\",\"40\",\"41\",\"42\",\"43\",\"44\",\"45\",\"46\",\"47\",\"48\",\"49\",\"50\",\"51\",\"52\",\"53\",\"54\",\"55\",\"56\",\"57\",\"58\",\"59\",\"60\",\"61\",\"62\",\"63\",\"64\",\"65\",\"66\",\"67\",\"68\",\"69\",\"70\",\"71\",\"72\",\"73\",\"74\",\"75\",\"76\",\"77\",\"78\",\"79\",\"80\",\"81\",\"82\",\"83\",\"84\",\"85\",\"86\",\"87\",\"88\",\"89\",\"90\",\"91\",\"92\",\"93\",\"94\",\"95\",\"96\",\"97\",\"98\",\"99\",\"100\",\"101\",\"102\",\"103\",\"104\",\"105\",\"106\",\"107\",\"108\",\"109\",\"110\",\"111\",\"112\",\"113\",\"114\",\"115\",\"116\",\"117\",\"118\",\"119\",\"120\",\"121\",\"122\",\"123\",\"124\",\"125\",\"126\",\"127\",\"128\",\"129\",\"130\",\"131\",\"132\",\"133\",\"134\",\"135\",\"136\",\"137\",\"138\",\"139\",\"140\",\"141\",\"142\",\"143\",\"144\",\"145\",\"146\",\"147\",\"148\",\"149\",\"150\",\"151\",\"152\",\"153\",\"154\",\"155\",\"156\",\"157\",\"158\",\"159\",\"160\",\"161\",\"162\",\"163\",\"164\",\"165\",\"166\",\"167\",\"168\",\"169\",\"170\",\"171\",\"172\",\"173\",\"174\",\"175\",\"176\",\"177\",\"178\",\"179\",\"180\",\"181\",\"182\",\"183\",\"184\",\"185\",\"186\",\"187\",\"188\",\"189\",\"190\",\"191\",\"192\",\"193\",\"194\",\"195\",\"196\",\"197\",\"198\",\"199\",\"200\"],\"changes\":WebIO.getval({\"name\":\"changes\",\"scope\":\"18247937804508432883\",\"id\":\"5006248067916773193\",\"type\":\"observable\"}),\"index\":WebIO.getval({\"name\":\"index\",\"scope\":\"18247937804508432883\",\"id\":\"16696273328568066882\",\"type\":\"observable\"})};\n    var self = this;\n    function AppViewModel() {\n        for (var key in json_data) {\n            var el = json_data[key];\n            this[key] = Array.isArray(el) ? ko.observableArray(el) : ko.observable(el);\n        }\n        \n        [this[\"formatted_val\"]=ko.computed(    function(){\n        return this.formatted_vals()[parseInt(this.index())-(1)];\n    }\n,this)]\n        [this[\"changes\"].subscribe((function (val){!(this.valueFromJulia[\"changes\"]) ? (WebIO.setval({\"name\":\"changes\",\"scope\":\"18247937804508432883\",\"id\":\"5006248067916773193\",\"type\":\"observable\"},val)) : undefined; return this.valueFromJulia[\"changes\"]=false}),self),this[\"index\"].subscribe((function (val){!(this.valueFromJulia[\"index\"]) ? (WebIO.setval({\"name\":\"index\",\"scope\":\"18247937804508432883\",\"id\":\"16696273328568066882\",\"type\":\"observable\"},val)) : undefined; return this.valueFromJulia[\"index\"]=false}),self)]\n        \n    }\n    self.model = new AppViewModel();\n    self.valueFromJulia = {};\n    for (var key in json_data) {\n        self.valueFromJulia[key] = false;\n    }\n    ko.applyBindings(self.model, self.dom);\n}\n);\n    (WebIO.importBlock({\"data\":[{\"name\":\"knockout\",\"type\":\"js\",\"url\":\"/assetserver/727383f2a47bd31570b7da84eee7b022dd6d7c78-knockout.js\"},{\"name\":\"knockout_punches\",\"type\":\"js\",\"url\":\"/assetserver/382b41b3b1bd9f26f75861d360bad7f8beea211f-knockout_punches.js\"}],\"type\":\"async_block\"})).then((imports) => handler.apply(this, imports));\n}\n"
                ],
                "observables": {
                 "changes": {
                  "id": "5006248067916773193",
                  "sync": false,
                  "value": 0
                 },
                 "index": {
                  "id": "16696273328568066882",
                  "sync": true,
                  "value": 1
                 }
                },
                "systemjs_options": null
               },
               "nodeType": "Scope",
               "props": {},
               "type": "node"
              }
             ],
             "instanceArgs": {
              "namespace": "html",
              "tag": "div"
             },
             "nodeType": "DOM",
             "props": {
              "className": "field interact-widget"
             },
             "type": "node"
            },
            {
             "children": [
              {
               "children": [
                {
                 "children": [
                  {
                   "children": [
                    {
                     "children": [
                      "scale"
                     ],
                     "instanceArgs": {
                      "namespace": "html",
                      "tag": "label"
                     },
                     "nodeType": "DOM",
                     "props": {
                      "className": "interact ",
                      "style": {
                       "padding": "5px 10px 0px 10px"
                      }
                     },
                     "type": "node"
                    }
                   ],
                   "instanceArgs": {
                    "namespace": "html",
                    "tag": "div"
                   },
                   "nodeType": "DOM",
                   "props": {
                    "className": "interact-flex-row-left"
                   },
                   "type": "node"
                  },
                  {
                   "children": [
                    {
                     "children": [],
                     "instanceArgs": {
                      "namespace": "html",
                      "tag": "input"
                     },
                     "nodeType": "DOM",
                     "props": {
                      "attributes": {
                       "data-bind": "numericValue: index, valueUpdate: 'input', event: {change: function (){this.changes(this.changes()+1)}}",
                       "orient": "horizontal",
                       "type": "range"
                      },
                      "className": "slider slider is-fullwidth",
                      "max": 20,
                      "min": 1,
                      "step": 1,
                      "style": {}
                     },
                     "type": "node"
                    }
                   ],
                   "instanceArgs": {
                    "namespace": "html",
                    "tag": "div"
                   },
                   "nodeType": "DOM",
                   "props": {
                    "className": "interact-flex-row-center"
                   },
                   "type": "node"
                  },
                  {
                   "children": [
                    {
                     "children": [],
                     "instanceArgs": {
                      "namespace": "html",
                      "tag": "p"
                     },
                     "nodeType": "DOM",
                     "props": {
                      "attributes": {
                       "data-bind": "text: formatted_val"
                      }
                     },
                     "type": "node"
                    }
                   ],
                   "instanceArgs": {
                    "namespace": "html",
                    "tag": "div"
                   },
                   "nodeType": "DOM",
                   "props": {
                    "className": "interact-flex-row-right"
                   },
                   "type": "node"
                  }
                 ],
                 "instanceArgs": {
                  "namespace": "html",
                  "tag": "div"
                 },
                 "nodeType": "DOM",
                 "props": {
                  "className": "interact-flex-row interact-widget"
                 },
                 "type": "node"
                }
               ],
               "instanceArgs": {
                "handlers": {
                 "changes": [
                  "(function (val){return (val!=this.model[\"changes\"]()) ? (this.valueFromJulia[\"changes\"]=true, this.model[\"changes\"](val)) : undefined})"
                 ],
                 "index": [
                  "(function (val){return (val!=this.model[\"index\"]()) ? (this.valueFromJulia[\"index\"]=true, this.model[\"index\"](val)) : undefined})"
                 ]
                },
                "id": "8133369304678186177",
                "imports": {
                 "data": [
                  {
                   "name": "knockout",
                   "type": "js",
                   "url": "/assetserver/727383f2a47bd31570b7da84eee7b022dd6d7c78-knockout.js"
                  },
                  {
                   "name": "knockout_punches",
                   "type": "js",
                   "url": "/assetserver/382b41b3b1bd9f26f75861d360bad7f8beea211f-knockout_punches.js"
                  },
                  {
                   "name": null,
                   "type": "js",
                   "url": "/assetserver/5ab20f1060420992a9b82a65b735dee4d81ef413-all.js"
                  },
                  {
                   "name": null,
                   "type": "css",
                   "url": "/assetserver/1cc0ed62837210b80a182cc3676512f895dab686-style.css"
                  },
                  {
                   "name": null,
                   "type": "css",
                   "url": "/assetserver/2eee816f616df3549d7044d45e744fbf8d42bfa1-bulma_confined.min.css"
                  }
                 ],
                 "type": "async_block"
                },
                "mount_callbacks": [
                 "function () {\n    var handler = (function (ko, koPunches) {\n    ko.punches.enableAll();\n    ko.bindingHandlers.numericValue = {\n        init: function(element, valueAccessor, allBindings, data, context) {\n            var stringified = ko.observable(ko.unwrap(valueAccessor()));\n            stringified.subscribe(function(value) {\n                var val = parseFloat(value);\n                if (!isNaN(val)) {\n                    valueAccessor()(val);\n                }\n            });\n            valueAccessor().subscribe(function(value) {\n                var str = JSON.stringify(value);\n                if ((str == \"0\") && ([\"-0\", \"-0.\"].indexOf(stringified()) >= 0))\n                     return;\n                 if ([\"null\", \"\"].indexOf(str) >= 0)\n                     return;\n                stringified(str);\n            });\n            ko.applyBindingsToNode(\n                element,\n                {\n                    value: stringified,\n                    valueUpdate: allBindings.get('valueUpdate'),\n                },\n                context,\n            );\n        }\n    };\n    var json_data = {\"formatted_vals\":[\"0.1\",\"0.2\",\"0.3\",\"0.4\",\"0.5\",\"0.6\",\"0.7\",\"0.8\",\"0.9\",\"1.0\",\"1.1\",\"1.2\",\"1.3\",\"1.4\",\"1.5\",\"1.6\",\"1.7\",\"1.8\",\"1.9\",\"2.0\"],\"changes\":WebIO.getval({\"name\":\"changes\",\"scope\":\"8133369304678186177\",\"id\":\"17925478258968871944\",\"type\":\"observable\"}),\"index\":WebIO.getval({\"name\":\"index\",\"scope\":\"8133369304678186177\",\"id\":\"16967614701561034863\",\"type\":\"observable\"})};\n    var self = this;\n    function AppViewModel() {\n        for (var key in json_data) {\n            var el = json_data[key];\n            this[key] = Array.isArray(el) ? ko.observableArray(el) : ko.observable(el);\n        }\n        \n        [this[\"formatted_val\"]=ko.computed(    function(){\n        return this.formatted_vals()[parseInt(this.index())-(1)];\n    }\n,this)]\n        [this[\"changes\"].subscribe((function (val){!(this.valueFromJulia[\"changes\"]) ? (WebIO.setval({\"name\":\"changes\",\"scope\":\"8133369304678186177\",\"id\":\"17925478258968871944\",\"type\":\"observable\"},val)) : undefined; return this.valueFromJulia[\"changes\"]=false}),self),this[\"index\"].subscribe((function (val){!(this.valueFromJulia[\"index\"]) ? (WebIO.setval({\"name\":\"index\",\"scope\":\"8133369304678186177\",\"id\":\"16967614701561034863\",\"type\":\"observable\"},val)) : undefined; return this.valueFromJulia[\"index\"]=false}),self)]\n        \n    }\n    self.model = new AppViewModel();\n    self.valueFromJulia = {};\n    for (var key in json_data) {\n        self.valueFromJulia[key] = false;\n    }\n    ko.applyBindings(self.model, self.dom);\n}\n);\n    (WebIO.importBlock({\"data\":[{\"name\":\"knockout\",\"type\":\"js\",\"url\":\"/assetserver/727383f2a47bd31570b7da84eee7b022dd6d7c78-knockout.js\"},{\"name\":\"knockout_punches\",\"type\":\"js\",\"url\":\"/assetserver/382b41b3b1bd9f26f75861d360bad7f8beea211f-knockout_punches.js\"}],\"type\":\"async_block\"})).then((imports) => handler.apply(this, imports));\n}\n"
                ],
                "observables": {
                 "changes": {
                  "id": "17925478258968871944",
                  "sync": false,
                  "value": 0
                 },
                 "index": {
                  "id": "16967614701561034863",
                  "sync": true,
                  "value": 10
                 }
                },
                "systemjs_options": null
               },
               "nodeType": "Scope",
               "props": {},
               "type": "node"
              }
             ],
             "instanceArgs": {
              "namespace": "html",
              "tag": "div"
             },
             "nodeType": "DOM",
             "props": {
              "className": "field interact-widget"
             },
             "type": "node"
            },
            {
             "children": [],
             "instanceArgs": {
              "namespace": "html",
              "tag": "div"
             },
             "nodeType": "DOM",
             "props": {
              "style": {
               "display": "flex",
               "flex-direction": "column"
              }
             },
             "type": "node"
            },
            {
             "children": [
              {
               "children": [
                {
                 "children": [
                  {
                   "children": [
                    {
                     "children": [
                      {
                       "children": [
                        "alive_percent"
                       ],
                       "instanceArgs": {
                        "namespace": "html",
                        "tag": "label"
                       },
                       "nodeType": "DOM",
                       "props": {
                        "className": "interact ",
                        "style": {
                         "padding": "5px 10px 0px 10px"
                        }
                       },
                       "type": "node"
                      }
                     ],
                     "instanceArgs": {
                      "namespace": "html",
                      "tag": "div"
                     },
                     "nodeType": "DOM",
                     "props": {
                      "className": "interact-flex-row-left"
                     },
                     "type": "node"
                    },
                    {
                     "children": [
                      {
                       "children": [],
                       "instanceArgs": {
                        "namespace": "html",
                        "tag": "input"
                       },
                       "nodeType": "DOM",
                       "props": {
                        "attributes": {
                         "data-bind": "numericValue: index, valueUpdate: 'input', event: {change: function (){this.changes(this.changes()+1)}}",
                         "orient": "horizontal",
                         "type": "range"
                        },
                        "className": "slider slider is-fullwidth",
                        "max": 101,
                        "min": 1,
                        "step": 1,
                        "style": {}
                       },
                       "type": "node"
                      }
                     ],
                     "instanceArgs": {
                      "namespace": "html",
                      "tag": "div"
                     },
                     "nodeType": "DOM",
                     "props": {
                      "className": "interact-flex-row-center"
                     },
                     "type": "node"
                    },
                    {
                     "children": [
                      {
                       "children": [],
                       "instanceArgs": {
                        "namespace": "html",
                        "tag": "p"
                       },
                       "nodeType": "DOM",
                       "props": {
                        "attributes": {
                         "data-bind": "text: formatted_val"
                        }
                       },
                       "type": "node"
                      }
                     ],
                     "instanceArgs": {
                      "namespace": "html",
                      "tag": "div"
                     },
                     "nodeType": "DOM",
                     "props": {
                      "className": "interact-flex-row-right"
                     },
                     "type": "node"
                    }
                   ],
                   "instanceArgs": {
                    "namespace": "html",
                    "tag": "div"
                   },
                   "nodeType": "DOM",
                   "props": {
                    "className": "interact-flex-row interact-widget"
                   },
                   "type": "node"
                  }
                 ],
                 "instanceArgs": {
                  "handlers": {
                   "changes": [
                    "(function (val){return (val!=this.model[\"changes\"]()) ? (this.valueFromJulia[\"changes\"]=true, this.model[\"changes\"](val)) : undefined})"
                   ],
                   "index": [
                    "(function (val){return (val!=this.model[\"index\"]()) ? (this.valueFromJulia[\"index\"]=true, this.model[\"index\"](val)) : undefined})"
                   ]
                  },
                  "id": "3762480440982371343",
                  "imports": {
                   "data": [
                    {
                     "name": "knockout",
                     "type": "js",
                     "url": "/assetserver/727383f2a47bd31570b7da84eee7b022dd6d7c78-knockout.js"
                    },
                    {
                     "name": "knockout_punches",
                     "type": "js",
                     "url": "/assetserver/382b41b3b1bd9f26f75861d360bad7f8beea211f-knockout_punches.js"
                    },
                    {
                     "name": null,
                     "type": "js",
                     "url": "/assetserver/5ab20f1060420992a9b82a65b735dee4d81ef413-all.js"
                    },
                    {
                     "name": null,
                     "type": "css",
                     "url": "/assetserver/1cc0ed62837210b80a182cc3676512f895dab686-style.css"
                    },
                    {
                     "name": null,
                     "type": "css",
                     "url": "/assetserver/2eee816f616df3549d7044d45e744fbf8d42bfa1-bulma_confined.min.css"
                    }
                   ],
                   "type": "async_block"
                  },
                  "mount_callbacks": [
                   "function () {\n    var handler = (function (ko, koPunches) {\n    ko.punches.enableAll();\n    ko.bindingHandlers.numericValue = {\n        init: function(element, valueAccessor, allBindings, data, context) {\n            var stringified = ko.observable(ko.unwrap(valueAccessor()));\n            stringified.subscribe(function(value) {\n                var val = parseFloat(value);\n                if (!isNaN(val)) {\n                    valueAccessor()(val);\n                }\n            });\n            valueAccessor().subscribe(function(value) {\n                var str = JSON.stringify(value);\n                if ((str == \"0\") && ([\"-0\", \"-0.\"].indexOf(stringified()) >= 0))\n                     return;\n                 if ([\"null\", \"\"].indexOf(str) >= 0)\n                     return;\n                stringified(str);\n            });\n            ko.applyBindingsToNode(\n                element,\n                {\n                    value: stringified,\n                    valueUpdate: allBindings.get('valueUpdate'),\n                },\n                context,\n            );\n        }\n    };\n    var json_data = {\"formatted_vals\":[\"0.0\",\"0.01\",\"0.02\",\"0.03\",\"0.04\",\"0.05\",\"0.06\",\"0.07\",\"0.08\",\"0.09\",\"0.1\",\"0.11\",\"0.12\",\"0.13\",\"0.14\",\"0.15\",\"0.16\",\"0.17\",\"0.18\",\"0.19\",\"0.2\",\"0.21\",\"0.22\",\"0.23\",\"0.24\",\"0.25\",\"0.26\",\"0.27\",\"0.28\",\"0.29\",\"0.3\",\"0.31\",\"0.32\",\"0.33\",\"0.34\",\"0.35\",\"0.36\",\"0.37\",\"0.38\",\"0.39\",\"0.4\",\"0.41\",\"0.42\",\"0.43\",\"0.44\",\"0.45\",\"0.46\",\"0.47\",\"0.48\",\"0.49\",\"0.5\",\"0.51\",\"0.52\",\"0.53\",\"0.54\",\"0.55\",\"0.56\",\"0.57\",\"0.58\",\"0.59\",\"0.6\",\"0.61\",\"0.62\",\"0.63\",\"0.64\",\"0.65\",\"0.66\",\"0.67\",\"0.68\",\"0.69\",\"0.7\",\"0.71\",\"0.72\",\"0.73\",\"0.74\",\"0.75\",\"0.76\",\"0.77\",\"0.78\",\"0.79\",\"0.8\",\"0.81\",\"0.82\",\"0.83\",\"0.84\",\"0.85\",\"0.86\",\"0.87\",\"0.88\",\"0.89\",\"0.9\",\"0.91\",\"0.92\",\"0.93\",\"0.94\",\"0.95\",\"0.96\",\"0.97\",\"0.98\",\"0.99\",\"1.0\"],\"changes\":WebIO.getval({\"name\":\"changes\",\"scope\":\"3762480440982371343\",\"id\":\"15447466555980225837\",\"type\":\"observable\"}),\"index\":WebIO.getval({\"name\":\"index\",\"scope\":\"3762480440982371343\",\"id\":\"11664151389271722207\",\"type\":\"observable\"})};\n    var self = this;\n    function AppViewModel() {\n        for (var key in json_data) {\n            var el = json_data[key];\n            this[key] = Array.isArray(el) ? ko.observableArray(el) : ko.observable(el);\n        }\n        \n        [this[\"formatted_val\"]=ko.computed(    function(){\n        return this.formatted_vals()[parseInt(this.index())-(1)];\n    }\n,this)]\n        [this[\"changes\"].subscribe((function (val){!(this.valueFromJulia[\"changes\"]) ? (WebIO.setval({\"name\":\"changes\",\"scope\":\"3762480440982371343\",\"id\":\"15447466555980225837\",\"type\":\"observable\"},val)) : undefined; return this.valueFromJulia[\"changes\"]=false}),self),this[\"index\"].subscribe((function (val){!(this.valueFromJulia[\"index\"]) ? (WebIO.setval({\"name\":\"index\",\"scope\":\"3762480440982371343\",\"id\":\"11664151389271722207\",\"type\":\"observable\"},val)) : undefined; return this.valueFromJulia[\"index\"]=false}),self)]\n        \n    }\n    self.model = new AppViewModel();\n    self.valueFromJulia = {};\n    for (var key in json_data) {\n        self.valueFromJulia[key] = false;\n    }\n    ko.applyBindings(self.model, self.dom);\n}\n);\n    (WebIO.importBlock({\"data\":[{\"name\":\"knockout\",\"type\":\"js\",\"url\":\"/assetserver/727383f2a47bd31570b7da84eee7b022dd6d7c78-knockout.js\"},{\"name\":\"knockout_punches\",\"type\":\"js\",\"url\":\"/assetserver/382b41b3b1bd9f26f75861d360bad7f8beea211f-knockout_punches.js\"}],\"type\":\"async_block\"})).then((imports) => handler.apply(this, imports));\n}\n"
                  ],
                  "observables": {
                   "changes": {
                    "id": "15447466555980225837",
                    "sync": false,
                    "value": 0
                   },
                   "index": {
                    "id": "11664151389271722207",
                    "sync": true,
                    "value": 51
                   }
                  },
                  "systemjs_options": null
                 },
                 "nodeType": "Scope",
                 "props": {},
                 "type": "node"
                }
               ],
               "instanceArgs": {
                "namespace": "html",
                "tag": "div"
               },
               "nodeType": "DOM",
               "props": {
                "className": "field interact-widget"
               },
               "type": "node"
              }
             ],
             "instanceArgs": {
              "namespace": "html",
              "tag": "div"
             },
             "nodeType": "DOM",
             "props": {
              "style": {
               "display": "flex",
               "flex-direction": "column"
              }
             },
             "type": "node"
            },
            {
             "children": [
              {
               "children": [
                {
                 "children": [
                  {
                   "children": [],
                   "instanceArgs": {
                    "namespace": "html",
                    "tag": "div"
                   },
                   "nodeType": "DOM",
                   "props": {
                    "id": "container"
                   },
                   "type": "node"
                  }
                 ],
                 "instanceArgs": {
                  "handlers": {
                   "value": [
                    "(function (txt){return this.k.render(txt,this.container)})"
                   ]
                  },
                  "id": "4957018086983676082",
                  "imports": {
                   "data": [
                    {
                     "name": null,
                     "type": "js",
                     "url": "/assetserver/dd22ed1bf1896c2748f3fe616ce0b838adc895c1-katex.min.js"
                    },
                    {
                     "name": null,
                     "type": "css",
                     "url": "/assetserver/46517a424aa5e6cffc1360d7e0848b601c584ee3-katex.min.css"
                    }
                   ],
                   "type": "async_block"
                  },
                  "mount_callbacks": [
                   "function () {\n    var handler = ((function (k){this.k=k; this.container=this.dom.querySelector(\"#container\"); return k.render(\"\\\\;\\\\;\",this.container)}));\n    (WebIO.importBlock({\"data\":[{\"name\":null,\"type\":\"js\",\"url\":\"/assetserver/dd22ed1bf1896c2748f3fe616ce0b838adc895c1-katex.min.js\"},{\"name\":null,\"type\":\"css\",\"url\":\"/assetserver/46517a424aa5e6cffc1360d7e0848b601c584ee3-katex.min.css\"}],\"type\":\"async_block\"})).then((imports) => handler.apply(this, imports));\n}\n"
                  ],
                  "observables": {
                   "value": {
                    "id": "12132973633912723328",
                    "sync": false,
                    "value": "\\;\\;"
                   }
                  },
                  "systemjs_options": null
                 },
                 "nodeType": "Scope",
                 "props": {},
                 "type": "node"
                }
               ],
               "instanceArgs": {
                "namespace": "html",
                "tag": "div"
               },
               "nodeType": "DOM",
               "props": {
                "className": "interact-widget"
               },
               "type": "node"
              },
              {
               "children": [
                {
                 "children": [
                  {
                   "children": [
                    "run"
                   ],
                   "instanceArgs": {
                    "namespace": "html",
                    "tag": "button"
                   },
                   "nodeType": "DOM",
                   "props": {
                    "attributes": {
                     "data-bind": "click: function (){this.clicks(this.clicks()+1)}, css: {'is-loading' : loading}"
                    },
                    "className": "is-medium button is-primary",
                    "style": {}
                   },
                   "type": "node"
                  }
                 ],
                 "instanceArgs": {
                  "handlers": {
                   "clicks": [
                    "(function (val){return (val!=this.model[\"clicks\"]()) ? (this.valueFromJulia[\"clicks\"]=true, this.model[\"clicks\"](val)) : undefined})"
                   ],
                   "loading": [
                    "(function (val){return (val!=this.model[\"loading\"]()) ? (this.valueFromJulia[\"loading\"]=true, this.model[\"loading\"](val)) : undefined})"
                   ]
                  },
                  "id": "4509255194736050292",
                  "imports": {
                   "data": [
                    {
                     "name": "knockout",
                     "type": "js",
                     "url": "/assetserver/727383f2a47bd31570b7da84eee7b022dd6d7c78-knockout.js"
                    },
                    {
                     "name": "knockout_punches",
                     "type": "js",
                     "url": "/assetserver/382b41b3b1bd9f26f75861d360bad7f8beea211f-knockout_punches.js"
                    },
                    {
                     "name": null,
                     "type": "js",
                     "url": "/assetserver/5ab20f1060420992a9b82a65b735dee4d81ef413-all.js"
                    },
                    {
                     "name": null,
                     "type": "css",
                     "url": "/assetserver/1cc0ed62837210b80a182cc3676512f895dab686-style.css"
                    },
                    {
                     "name": null,
                     "type": "css",
                     "url": "/assetserver/2eee816f616df3549d7044d45e744fbf8d42bfa1-bulma_confined.min.css"
                    }
                   ],
                   "type": "async_block"
                  },
                  "mount_callbacks": [
                   "function () {\n    var handler = (function (ko, koPunches) {\n    ko.punches.enableAll();\n    ko.bindingHandlers.numericValue = {\n        init: function(element, valueAccessor, allBindings, data, context) {\n            var stringified = ko.observable(ko.unwrap(valueAccessor()));\n            stringified.subscribe(function(value) {\n                var val = parseFloat(value);\n                if (!isNaN(val)) {\n                    valueAccessor()(val);\n                }\n            });\n            valueAccessor().subscribe(function(value) {\n                var str = JSON.stringify(value);\n                if ((str == \"0\") && ([\"-0\", \"-0.\"].indexOf(stringified()) >= 0))\n                     return;\n                 if ([\"null\", \"\"].indexOf(str) >= 0)\n                     return;\n                stringified(str);\n            });\n            ko.applyBindingsToNode(\n                element,\n                {\n                    value: stringified,\n                    valueUpdate: allBindings.get('valueUpdate'),\n                },\n                context,\n            );\n        }\n    };\n    var json_data = {\"loading\":WebIO.getval({\"name\":\"loading\",\"scope\":\"4509255194736050292\",\"id\":\"4655507539122456187\",\"type\":\"observable\"}),\"clicks\":WebIO.getval({\"name\":\"clicks\",\"scope\":\"4509255194736050292\",\"id\":\"1292406584845085528\",\"type\":\"observable\"})};\n    var self = this;\n    function AppViewModel() {\n        for (var key in json_data) {\n            var el = json_data[key];\n            this[key] = Array.isArray(el) ? ko.observableArray(el) : ko.observable(el);\n        }\n        \n        \n        [this[\"loading\"].subscribe((function (val){!(this.valueFromJulia[\"loading\"]) ? (WebIO.setval({\"name\":\"loading\",\"scope\":\"4509255194736050292\",\"id\":\"4655507539122456187\",\"type\":\"observable\"},val)) : undefined; return this.valueFromJulia[\"loading\"]=false}),self),this[\"clicks\"].subscribe((function (val){!(this.valueFromJulia[\"clicks\"]) ? (WebIO.setval({\"name\":\"clicks\",\"scope\":\"4509255194736050292\",\"id\":\"1292406584845085528\",\"type\":\"observable\"},val)) : undefined; return this.valueFromJulia[\"clicks\"]=false}),self)]\n        \n    }\n    self.model = new AppViewModel();\n    self.valueFromJulia = {};\n    for (var key in json_data) {\n        self.valueFromJulia[key] = false;\n    }\n    ko.applyBindings(self.model, self.dom);\n}\n);\n    (WebIO.importBlock({\"data\":[{\"name\":\"knockout\",\"type\":\"js\",\"url\":\"/assetserver/727383f2a47bd31570b7da84eee7b022dd6d7c78-knockout.js\"},{\"name\":\"knockout_punches\",\"type\":\"js\",\"url\":\"/assetserver/382b41b3b1bd9f26f75861d360bad7f8beea211f-knockout_punches.js\"}],\"type\":\"async_block\"})).then((imports) => handler.apply(this, imports));\n}\n"
                  ],
                  "observables": {
                   "clicks": {
                    "id": "1292406584845085528",
                    "sync": true,
                    "value": 0
                   },
                   "loading": {
                    "id": "4655507539122456187",
                    "sync": false,
                    "value": false
                   }
                  },
                  "systemjs_options": null
                 },
                 "nodeType": "Scope",
                 "props": {},
                 "type": "node"
                }
               ],
               "instanceArgs": {
                "namespace": "html",
                "tag": "div"
               },
               "nodeType": "DOM",
               "props": {
                "className": "field interact-widget"
               },
               "type": "node"
              },
              {
               "children": [
                {
                 "children": [
                  {
                   "children": [],
                   "instanceArgs": {
                    "namespace": "html",
                    "tag": "div"
                   },
                   "nodeType": "DOM",
                   "props": {
                    "id": "container"
                   },
                   "type": "node"
                  }
                 ],
                 "instanceArgs": {
                  "handlers": {
                   "value": [
                    "(function (txt){return this.k.render(txt,this.container)})"
                   ]
                  },
                  "id": "4957018086983676082",
                  "imports": {
                   "data": [
                    {
                     "name": null,
                     "type": "js",
                     "url": "/assetserver/dd22ed1bf1896c2748f3fe616ce0b838adc895c1-katex.min.js"
                    },
                    {
                     "name": null,
                     "type": "css",
                     "url": "/assetserver/46517a424aa5e6cffc1360d7e0848b601c584ee3-katex.min.css"
                    }
                   ],
                   "type": "async_block"
                  },
                  "mount_callbacks": [
                   "function () {\n    var handler = ((function (k){this.k=k; this.container=this.dom.querySelector(\"#container\"); return k.render(\"\\\\;\\\\;\",this.container)}));\n    (WebIO.importBlock({\"data\":[{\"name\":null,\"type\":\"js\",\"url\":\"/assetserver/dd22ed1bf1896c2748f3fe616ce0b838adc895c1-katex.min.js\"},{\"name\":null,\"type\":\"css\",\"url\":\"/assetserver/46517a424aa5e6cffc1360d7e0848b601c584ee3-katex.min.css\"}],\"type\":\"async_block\"})).then((imports) => handler.apply(this, imports));\n}\n"
                  ],
                  "observables": {
                   "value": {
                    "id": "12132973633912723328",
                    "sync": false,
                    "value": "\\;\\;"
                   }
                  },
                  "systemjs_options": null
                 },
                 "nodeType": "Scope",
                 "props": {},
                 "type": "node"
                }
               ],
               "instanceArgs": {
                "namespace": "html",
                "tag": "div"
               },
               "nodeType": "DOM",
               "props": {
                "className": "interact-widget"
               },
               "type": "node"
              },
              {
               "children": [
                {
                 "children": [
                  {
                   "children": [
                    "stop"
                   ],
                   "instanceArgs": {
                    "namespace": "html",
                    "tag": "button"
                   },
                   "nodeType": "DOM",
                   "props": {
                    "attributes": {
                     "data-bind": "click: function (){this.clicks(this.clicks()+1)}, css: {'is-loading' : loading}"
                    },
                    "className": "is-medium button is-primary",
                    "style": {}
                   },
                   "type": "node"
                  }
                 ],
                 "instanceArgs": {
                  "handlers": {
                   "clicks": [
                    "(function (val){return (val!=this.model[\"clicks\"]()) ? (this.valueFromJulia[\"clicks\"]=true, this.model[\"clicks\"](val)) : undefined})"
                   ],
                   "loading": [
                    "(function (val){return (val!=this.model[\"loading\"]()) ? (this.valueFromJulia[\"loading\"]=true, this.model[\"loading\"](val)) : undefined})"
                   ]
                  },
                  "id": "13615800631425607057",
                  "imports": {
                   "data": [
                    {
                     "name": "knockout",
                     "type": "js",
                     "url": "/assetserver/727383f2a47bd31570b7da84eee7b022dd6d7c78-knockout.js"
                    },
                    {
                     "name": "knockout_punches",
                     "type": "js",
                     "url": "/assetserver/382b41b3b1bd9f26f75861d360bad7f8beea211f-knockout_punches.js"
                    },
                    {
                     "name": null,
                     "type": "js",
                     "url": "/assetserver/5ab20f1060420992a9b82a65b735dee4d81ef413-all.js"
                    },
                    {
                     "name": null,
                     "type": "css",
                     "url": "/assetserver/1cc0ed62837210b80a182cc3676512f895dab686-style.css"
                    },
                    {
                     "name": null,
                     "type": "css",
                     "url": "/assetserver/2eee816f616df3549d7044d45e744fbf8d42bfa1-bulma_confined.min.css"
                    }
                   ],
                   "type": "async_block"
                  },
                  "mount_callbacks": [
                   "function () {\n    var handler = (function (ko, koPunches) {\n    ko.punches.enableAll();\n    ko.bindingHandlers.numericValue = {\n        init: function(element, valueAccessor, allBindings, data, context) {\n            var stringified = ko.observable(ko.unwrap(valueAccessor()));\n            stringified.subscribe(function(value) {\n                var val = parseFloat(value);\n                if (!isNaN(val)) {\n                    valueAccessor()(val);\n                }\n            });\n            valueAccessor().subscribe(function(value) {\n                var str = JSON.stringify(value);\n                if ((str == \"0\") && ([\"-0\", \"-0.\"].indexOf(stringified()) >= 0))\n                     return;\n                 if ([\"null\", \"\"].indexOf(str) >= 0)\n                     return;\n                stringified(str);\n            });\n            ko.applyBindingsToNode(\n                element,\n                {\n                    value: stringified,\n                    valueUpdate: allBindings.get('valueUpdate'),\n                },\n                context,\n            );\n        }\n    };\n    var json_data = {\"loading\":WebIO.getval({\"name\":\"loading\",\"scope\":\"13615800631425607057\",\"id\":\"9895591219352831458\",\"type\":\"observable\"}),\"clicks\":WebIO.getval({\"name\":\"clicks\",\"scope\":\"13615800631425607057\",\"id\":\"14180995362525198875\",\"type\":\"observable\"})};\n    var self = this;\n    function AppViewModel() {\n        for (var key in json_data) {\n            var el = json_data[key];\n            this[key] = Array.isArray(el) ? ko.observableArray(el) : ko.observable(el);\n        }\n        \n        \n        [this[\"loading\"].subscribe((function (val){!(this.valueFromJulia[\"loading\"]) ? (WebIO.setval({\"name\":\"loading\",\"scope\":\"13615800631425607057\",\"id\":\"9895591219352831458\",\"type\":\"observable\"},val)) : undefined; return this.valueFromJulia[\"loading\"]=false}),self),this[\"clicks\"].subscribe((function (val){!(this.valueFromJulia[\"clicks\"]) ? (WebIO.setval({\"name\":\"clicks\",\"scope\":\"13615800631425607057\",\"id\":\"14180995362525198875\",\"type\":\"observable\"},val)) : undefined; return this.valueFromJulia[\"clicks\"]=false}),self)]\n        \n    }\n    self.model = new AppViewModel();\n    self.valueFromJulia = {};\n    for (var key in json_data) {\n        self.valueFromJulia[key] = false;\n    }\n    ko.applyBindings(self.model, self.dom);\n}\n);\n    (WebIO.importBlock({\"data\":[{\"name\":\"knockout\",\"type\":\"js\",\"url\":\"/assetserver/727383f2a47bd31570b7da84eee7b022dd6d7c78-knockout.js\"},{\"name\":\"knockout_punches\",\"type\":\"js\",\"url\":\"/assetserver/382b41b3b1bd9f26f75861d360bad7f8beea211f-knockout_punches.js\"}],\"type\":\"async_block\"})).then((imports) => handler.apply(this, imports));\n}\n"
                  ],
                  "observables": {
                   "clicks": {
                    "id": "14180995362525198875",
                    "sync": true,
                    "value": 0
                   },
                   "loading": {
                    "id": "9895591219352831458",
                    "sync": false,
                    "value": false
                   }
                  },
                  "systemjs_options": null
                 },
                 "nodeType": "Scope",
                 "props": {},
                 "type": "node"
                }
               ],
               "instanceArgs": {
                "namespace": "html",
                "tag": "div"
               },
               "nodeType": "DOM",
               "props": {
                "className": "field interact-widget"
               },
               "type": "node"
              },
              {
               "children": [
                {
                 "children": [
                  {
                   "children": [],
                   "instanceArgs": {
                    "namespace": "html",
                    "tag": "div"
                   },
                   "nodeType": "DOM",
                   "props": {
                    "id": "container"
                   },
                   "type": "node"
                  }
                 ],
                 "instanceArgs": {
                  "handlers": {
                   "value": [
                    "(function (txt){return this.k.render(txt,this.container)})"
                   ]
                  },
                  "id": "4957018086983676082",
                  "imports": {
                   "data": [
                    {
                     "name": null,
                     "type": "js",
                     "url": "/assetserver/dd22ed1bf1896c2748f3fe616ce0b838adc895c1-katex.min.js"
                    },
                    {
                     "name": null,
                     "type": "css",
                     "url": "/assetserver/46517a424aa5e6cffc1360d7e0848b601c584ee3-katex.min.css"
                    }
                   ],
                   "type": "async_block"
                  },
                  "mount_callbacks": [
                   "function () {\n    var handler = ((function (k){this.k=k; this.container=this.dom.querySelector(\"#container\"); return k.render(\"\\\\;\\\\;\",this.container)}));\n    (WebIO.importBlock({\"data\":[{\"name\":null,\"type\":\"js\",\"url\":\"/assetserver/dd22ed1bf1896c2748f3fe616ce0b838adc895c1-katex.min.js\"},{\"name\":null,\"type\":\"css\",\"url\":\"/assetserver/46517a424aa5e6cffc1360d7e0848b601c584ee3-katex.min.css\"}],\"type\":\"async_block\"})).then((imports) => handler.apply(this, imports));\n}\n"
                  ],
                  "observables": {
                   "value": {
                    "id": "12132973633912723328",
                    "sync": false,
                    "value": "\\;\\;"
                   }
                  },
                  "systemjs_options": null
                 },
                 "nodeType": "Scope",
                 "props": {},
                 "type": "node"
                }
               ],
               "instanceArgs": {
                "namespace": "html",
                "tag": "div"
               },
               "nodeType": "DOM",
               "props": {
                "className": "interact-widget"
               },
               "type": "node"
              },
              {
               "children": [
                {
                 "children": [
                  {
                   "children": [
                    "reset"
                   ],
                   "instanceArgs": {
                    "namespace": "html",
                    "tag": "button"
                   },
                   "nodeType": "DOM",
                   "props": {
                    "attributes": {
                     "data-bind": "click: function (){this.clicks(this.clicks()+1)}, css: {'is-loading' : loading}"
                    },
                    "className": "is-medium button is-primary",
                    "style": {}
                   },
                   "type": "node"
                  }
                 ],
                 "instanceArgs": {
                  "handlers": {
                   "clicks": [
                    "(function (val){return (val!=this.model[\"clicks\"]()) ? (this.valueFromJulia[\"clicks\"]=true, this.model[\"clicks\"](val)) : undefined})"
                   ],
                   "loading": [
                    "(function (val){return (val!=this.model[\"loading\"]()) ? (this.valueFromJulia[\"loading\"]=true, this.model[\"loading\"](val)) : undefined})"
                   ]
                  },
                  "id": "16833075980551959305",
                  "imports": {
                   "data": [
                    {
                     "name": "knockout",
                     "type": "js",
                     "url": "/assetserver/727383f2a47bd31570b7da84eee7b022dd6d7c78-knockout.js"
                    },
                    {
                     "name": "knockout_punches",
                     "type": "js",
                     "url": "/assetserver/382b41b3b1bd9f26f75861d360bad7f8beea211f-knockout_punches.js"
                    },
                    {
                     "name": null,
                     "type": "js",
                     "url": "/assetserver/5ab20f1060420992a9b82a65b735dee4d81ef413-all.js"
                    },
                    {
                     "name": null,
                     "type": "css",
                     "url": "/assetserver/1cc0ed62837210b80a182cc3676512f895dab686-style.css"
                    },
                    {
                     "name": null,
                     "type": "css",
                     "url": "/assetserver/2eee816f616df3549d7044d45e744fbf8d42bfa1-bulma_confined.min.css"
                    }
                   ],
                   "type": "async_block"
                  },
                  "mount_callbacks": [
                   "function () {\n    var handler = (function (ko, koPunches) {\n    ko.punches.enableAll();\n    ko.bindingHandlers.numericValue = {\n        init: function(element, valueAccessor, allBindings, data, context) {\n            var stringified = ko.observable(ko.unwrap(valueAccessor()));\n            stringified.subscribe(function(value) {\n                var val = parseFloat(value);\n                if (!isNaN(val)) {\n                    valueAccessor()(val);\n                }\n            });\n            valueAccessor().subscribe(function(value) {\n                var str = JSON.stringify(value);\n                if ((str == \"0\") && ([\"-0\", \"-0.\"].indexOf(stringified()) >= 0))\n                     return;\n                 if ([\"null\", \"\"].indexOf(str) >= 0)\n                     return;\n                stringified(str);\n            });\n            ko.applyBindingsToNode(\n                element,\n                {\n                    value: stringified,\n                    valueUpdate: allBindings.get('valueUpdate'),\n                },\n                context,\n            );\n        }\n    };\n    var json_data = {\"loading\":WebIO.getval({\"name\":\"loading\",\"scope\":\"16833075980551959305\",\"id\":\"7135398227941034493\",\"type\":\"observable\"}),\"clicks\":WebIO.getval({\"name\":\"clicks\",\"scope\":\"16833075980551959305\",\"id\":\"3256176417877600976\",\"type\":\"observable\"})};\n    var self = this;\n    function AppViewModel() {\n        for (var key in json_data) {\n            var el = json_data[key];\n            this[key] = Array.isArray(el) ? ko.observableArray(el) : ko.observable(el);\n        }\n        \n        \n        [this[\"loading\"].subscribe((function (val){!(this.valueFromJulia[\"loading\"]) ? (WebIO.setval({\"name\":\"loading\",\"scope\":\"16833075980551959305\",\"id\":\"7135398227941034493\",\"type\":\"observable\"},val)) : undefined; return this.valueFromJulia[\"loading\"]=false}),self),this[\"clicks\"].subscribe((function (val){!(this.valueFromJulia[\"clicks\"]) ? (WebIO.setval({\"name\":\"clicks\",\"scope\":\"16833075980551959305\",\"id\":\"3256176417877600976\",\"type\":\"observable\"},val)) : undefined; return this.valueFromJulia[\"clicks\"]=false}),self)]\n        \n    }\n    self.model = new AppViewModel();\n    self.valueFromJulia = {};\n    for (var key in json_data) {\n        self.valueFromJulia[key] = false;\n    }\n    ko.applyBindings(self.model, self.dom);\n}\n);\n    (WebIO.importBlock({\"data\":[{\"name\":\"knockout\",\"type\":\"js\",\"url\":\"/assetserver/727383f2a47bd31570b7da84eee7b022dd6d7c78-knockout.js\"},{\"name\":\"knockout_punches\",\"type\":\"js\",\"url\":\"/assetserver/382b41b3b1bd9f26f75861d360bad7f8beea211f-knockout_punches.js\"}],\"type\":\"async_block\"})).then((imports) => handler.apply(this, imports));\n}\n"
                  ],
                  "observables": {
                   "clicks": {
                    "id": "3256176417877600976",
                    "sync": true,
                    "value": 0
                   },
                   "loading": {
                    "id": "7135398227941034493",
                    "sync": false,
                    "value": false
                   }
                  },
                  "systemjs_options": null
                 },
                 "nodeType": "Scope",
                 "props": {},
                 "type": "node"
                }
               ],
               "instanceArgs": {
                "namespace": "html",
                "tag": "div"
               },
               "nodeType": "DOM",
               "props": {
                "className": "field interact-widget"
               },
               "type": "node"
              },
              {
               "children": [
                {
                 "children": [
                  {
                   "children": [],
                   "instanceArgs": {
                    "namespace": "html",
                    "tag": "div"
                   },
                   "nodeType": "DOM",
                   "props": {
                    "id": "container"
                   },
                   "type": "node"
                  }
                 ],
                 "instanceArgs": {
                  "handlers": {
                   "value": [
                    "(function (txt){return this.k.render(txt,this.container)})"
                   ]
                  },
                  "id": "4957018086983676082",
                  "imports": {
                   "data": [
                    {
                     "name": null,
                     "type": "js",
                     "url": "/assetserver/dd22ed1bf1896c2748f3fe616ce0b838adc895c1-katex.min.js"
                    },
                    {
                     "name": null,
                     "type": "css",
                     "url": "/assetserver/46517a424aa5e6cffc1360d7e0848b601c584ee3-katex.min.css"
                    }
                   ],
                   "type": "async_block"
                  },
                  "mount_callbacks": [
                   "function () {\n    var handler = ((function (k){this.k=k; this.container=this.dom.querySelector(\"#container\"); return k.render(\"\\\\;\\\\;\",this.container)}));\n    (WebIO.importBlock({\"data\":[{\"name\":null,\"type\":\"js\",\"url\":\"/assetserver/dd22ed1bf1896c2748f3fe616ce0b838adc895c1-katex.min.js\"},{\"name\":null,\"type\":\"css\",\"url\":\"/assetserver/46517a424aa5e6cffc1360d7e0848b601c584ee3-katex.min.css\"}],\"type\":\"async_block\"})).then((imports) => handler.apply(this, imports));\n}\n"
                  ],
                  "observables": {
                   "value": {
                    "id": "12132973633912723328",
                    "sync": false,
                    "value": "\\;\\;"
                   }
                  },
                  "systemjs_options": null
                 },
                 "nodeType": "Scope",
                 "props": {},
                 "type": "node"
                }
               ],
               "instanceArgs": {
                "namespace": "html",
                "tag": "div"
               },
               "nodeType": "DOM",
               "props": {
                "className": "interact-widget"
               },
               "type": "node"
              },
              {
               "children": [
                {
                 "children": [
                  {
                   "children": [
                    "save"
                   ],
                   "instanceArgs": {
                    "namespace": "html",
                    "tag": "button"
                   },
                   "nodeType": "DOM",
                   "props": {
                    "attributes": {
                     "data-bind": "click: function (){this.clicks(this.clicks()+1)}, css: {'is-loading' : loading}"
                    },
                    "className": "is-medium button is-primary",
                    "style": {}
                   },
                   "type": "node"
                  }
                 ],
                 "instanceArgs": {
                  "handlers": {
                   "clicks": [
                    "(function (val){return (val!=this.model[\"clicks\"]()) ? (this.valueFromJulia[\"clicks\"]=true, this.model[\"clicks\"](val)) : undefined})"
                   ],
                   "loading": [
                    "(function (val){return (val!=this.model[\"loading\"]()) ? (this.valueFromJulia[\"loading\"]=true, this.model[\"loading\"](val)) : undefined})"
                   ]
                  },
                  "id": "3632359482492178090",
                  "imports": {
                   "data": [
                    {
                     "name": "knockout",
                     "type": "js",
                     "url": "/assetserver/727383f2a47bd31570b7da84eee7b022dd6d7c78-knockout.js"
                    },
                    {
                     "name": "knockout_punches",
                     "type": "js",
                     "url": "/assetserver/382b41b3b1bd9f26f75861d360bad7f8beea211f-knockout_punches.js"
                    },
                    {
                     "name": null,
                     "type": "js",
                     "url": "/assetserver/5ab20f1060420992a9b82a65b735dee4d81ef413-all.js"
                    },
                    {
                     "name": null,
                     "type": "css",
                     "url": "/assetserver/1cc0ed62837210b80a182cc3676512f895dab686-style.css"
                    },
                    {
                     "name": null,
                     "type": "css",
                     "url": "/assetserver/2eee816f616df3549d7044d45e744fbf8d42bfa1-bulma_confined.min.css"
                    }
                   ],
                   "type": "async_block"
                  },
                  "mount_callbacks": [
                   "function () {\n    var handler = (function (ko, koPunches) {\n    ko.punches.enableAll();\n    ko.bindingHandlers.numericValue = {\n        init: function(element, valueAccessor, allBindings, data, context) {\n            var stringified = ko.observable(ko.unwrap(valueAccessor()));\n            stringified.subscribe(function(value) {\n                var val = parseFloat(value);\n                if (!isNaN(val)) {\n                    valueAccessor()(val);\n                }\n            });\n            valueAccessor().subscribe(function(value) {\n                var str = JSON.stringify(value);\n                if ((str == \"0\") && ([\"-0\", \"-0.\"].indexOf(stringified()) >= 0))\n                     return;\n                 if ([\"null\", \"\"].indexOf(str) >= 0)\n                     return;\n                stringified(str);\n            });\n            ko.applyBindingsToNode(\n                element,\n                {\n                    value: stringified,\n                    valueUpdate: allBindings.get('valueUpdate'),\n                },\n                context,\n            );\n        }\n    };\n    var json_data = {\"loading\":WebIO.getval({\"name\":\"loading\",\"scope\":\"3632359482492178090\",\"id\":\"17522526787019710111\",\"type\":\"observable\"}),\"clicks\":WebIO.getval({\"name\":\"clicks\",\"scope\":\"3632359482492178090\",\"id\":\"5034944410753229429\",\"type\":\"observable\"})};\n    var self = this;\n    function AppViewModel() {\n        for (var key in json_data) {\n            var el = json_data[key];\n            this[key] = Array.isArray(el) ? ko.observableArray(el) : ko.observable(el);\n        }\n        \n        \n        [this[\"loading\"].subscribe((function (val){!(this.valueFromJulia[\"loading\"]) ? (WebIO.setval({\"name\":\"loading\",\"scope\":\"3632359482492178090\",\"id\":\"17522526787019710111\",\"type\":\"observable\"},val)) : undefined; return this.valueFromJulia[\"loading\"]=false}),self),this[\"clicks\"].subscribe((function (val){!(this.valueFromJulia[\"clicks\"]) ? (WebIO.setval({\"name\":\"clicks\",\"scope\":\"3632359482492178090\",\"id\":\"5034944410753229429\",\"type\":\"observable\"},val)) : undefined; return this.valueFromJulia[\"clicks\"]=false}),self)]\n        \n    }\n    self.model = new AppViewModel();\n    self.valueFromJulia = {};\n    for (var key in json_data) {\n        self.valueFromJulia[key] = false;\n    }\n    ko.applyBindings(self.model, self.dom);\n}\n);\n    (WebIO.importBlock({\"data\":[{\"name\":\"knockout\",\"type\":\"js\",\"url\":\"/assetserver/727383f2a47bd31570b7da84eee7b022dd6d7c78-knockout.js\"},{\"name\":\"knockout_punches\",\"type\":\"js\",\"url\":\"/assetserver/382b41b3b1bd9f26f75861d360bad7f8beea211f-knockout_punches.js\"}],\"type\":\"async_block\"})).then((imports) => handler.apply(this, imports));\n}\n"
                  ],
                  "observables": {
                   "clicks": {
                    "id": "5034944410753229429",
                    "sync": true,
                    "value": 0
                   },
                   "loading": {
                    "id": "17522526787019710111",
                    "sync": false,
                    "value": false
                   }
                  },
                  "systemjs_options": null
                 },
                 "nodeType": "Scope",
                 "props": {},
                 "type": "node"
                }
               ],
               "instanceArgs": {
                "namespace": "html",
                "tag": "div"
               },
               "nodeType": "DOM",
               "props": {
                "className": "field interact-widget"
               },
               "type": "node"
              }
             ],
             "instanceArgs": {
              "namespace": "html",
              "tag": "div"
             },
             "nodeType": "DOM",
             "props": {
              "style": {
               "display": "flex",
               "flex-direction": "row"
              }
             },
             "type": "node"
            }
           ],
           "instanceArgs": {
            "namespace": "html",
            "tag": "div"
           },
           "nodeType": "DOM",
           "props": {
            "style": {
             "display": "flex",
             "flex-direction": "column"
            }
           },
           "type": "node"
          },
          {
           "children": [
            {
             "children": [
              {
               "children": [],
               "instanceArgs": {
                "namespace": "html",
                "tag": "div"
               },
               "nodeType": "DOM",
               "props": {
                "id": "container"
               },
               "type": "node"
              }
             ],
             "instanceArgs": {
              "handlers": {
               "value": [
                "(function (txt){return this.k.render(txt,this.container)})"
               ]
              },
              "id": "4957018086983676082",
              "imports": {
               "data": [
                {
                 "name": null,
                 "type": "js",
                 "url": "/assetserver/dd22ed1bf1896c2748f3fe616ce0b838adc895c1-katex.min.js"
                },
                {
                 "name": null,
                 "type": "css",
                 "url": "/assetserver/46517a424aa5e6cffc1360d7e0848b601c584ee3-katex.min.css"
                }
               ],
               "type": "async_block"
              },
              "mount_callbacks": [
               "function () {\n    var handler = ((function (k){this.k=k; this.container=this.dom.querySelector(\"#container\"); return k.render(\"\\\\;\\\\;\",this.container)}));\n    (WebIO.importBlock({\"data\":[{\"name\":null,\"type\":\"js\",\"url\":\"/assetserver/dd22ed1bf1896c2748f3fe616ce0b838adc895c1-katex.min.js\"},{\"name\":null,\"type\":\"css\",\"url\":\"/assetserver/46517a424aa5e6cffc1360d7e0848b601c584ee3-katex.min.css\"}],\"type\":\"async_block\"})).then((imports) => handler.apply(this, imports));\n}\n"
              ],
              "observables": {
               "value": {
                "id": "12132973633912723328",
                "sync": false,
                "value": "\\;\\;"
               }
              },
              "systemjs_options": null
             },
             "nodeType": "Scope",
             "props": {},
             "type": "node"
            }
           ],
           "instanceArgs": {
            "namespace": "html",
            "tag": "div"
           },
           "nodeType": "DOM",
           "props": {
            "className": "interact-widget"
           },
           "type": "node"
          },
          {
           "children": [
            {
             "children": [],
             "instanceArgs": {
              "namespace": "html",
              "tag": "div"
             },
             "nodeType": "DOM",
             "props": {
              "className": "webio-observable",
              "setInnerHtml": "<img src='data:image/png;base64,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'></img>"
             },
             "type": "node"
            }
           ],
           "instanceArgs": {
            "handlers": {
             "obs-output": [
              "function (value, scope) {\n    scope.setInnerHTML(value);\n}\n"
             ]
            },
            "id": "4061788439279504612",
            "imports": {
             "data": [],
             "type": "async_block"
            },
            "mount_callbacks": [],
            "observables": {
             "obs-output": {
              "id": "18008756937928742852",
              "sync": false,
              "value": "<img src='data:image/png;base64,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'></img>"
             }
            },
            "systemjs_options": null
           },
           "nodeType": "Scope",
           "props": {},
           "type": "node"
          },
          {
           "children": [
            {
             "children": [
              {
               "children": [],
               "instanceArgs": {
                "namespace": "html",
                "tag": "div"
               },
               "nodeType": "DOM",
               "props": {
                "id": "container"
               },
               "type": "node"
              }
             ],
             "instanceArgs": {
              "handlers": {
               "value": [
                "(function (txt){return this.k.render(txt,this.container)})"
               ]
              },
              "id": "4957018086983676082",
              "imports": {
               "data": [
                {
                 "name": null,
                 "type": "js",
                 "url": "/assetserver/dd22ed1bf1896c2748f3fe616ce0b838adc895c1-katex.min.js"
                },
                {
                 "name": null,
                 "type": "css",
                 "url": "/assetserver/46517a424aa5e6cffc1360d7e0848b601c584ee3-katex.min.css"
                }
               ],
               "type": "async_block"
              },
              "mount_callbacks": [
               "function () {\n    var handler = ((function (k){this.k=k; this.container=this.dom.querySelector(\"#container\"); return k.render(\"\\\\;\\\\;\",this.container)}));\n    (WebIO.importBlock({\"data\":[{\"name\":null,\"type\":\"js\",\"url\":\"/assetserver/dd22ed1bf1896c2748f3fe616ce0b838adc895c1-katex.min.js\"},{\"name\":null,\"type\":\"css\",\"url\":\"/assetserver/46517a424aa5e6cffc1360d7e0848b601c584ee3-katex.min.css\"}],\"type\":\"async_block\"})).then((imports) => handler.apply(this, imports));\n}\n"
              ],
              "observables": {
               "value": {
                "id": "12132973633912723328",
                "sync": false,
                "value": "\\;\\;"
               }
              },
              "systemjs_options": null
             },
             "nodeType": "Scope",
             "props": {},
             "type": "node"
            }
           ],
           "instanceArgs": {
            "namespace": "html",
            "tag": "div"
           },
           "nodeType": "DOM",
           "props": {
            "className": "interact-widget"
           },
           "type": "node"
          },
          {
           "children": [],
           "instanceArgs": {
            "namespace": "html",
            "tag": "div"
           },
           "nodeType": "DOM",
           "props": {
            "style": {
             "display": "flex",
             "flex-direction": "column"
            }
           },
           "type": "node"
          }
         ],
         "instanceArgs": {
          "namespace": "html",
          "tag": "div"
         },
         "nodeType": "DOM",
         "props": {
          "style": {
           "display": "flex",
           "flex-direction": "row"
          }
         },
         "type": "node"
        }
       ],
       "instanceArgs": {
        "namespace": "html",
        "tag": "div"
       },
       "nodeType": "DOM",
       "props": {
        "style": {
         "display": "flex",
         "flex-direction": "column"
        }
       },
       "type": "node"
      },
      "text/html": [
       "<div\n",
       "    class=\"webio-mountpoint\"\n",
       "    data-webio-mountpoint=\"15558356349993908205\"\n",
       ">\n",
       "    <script>\n",
       "    (function(){\n",
       "    // Some integrations (namely, IJulia/Jupyter) use an alternate render pathway than\n",
       "    // just putting the html on the page. If WebIO isn't defined, then it's pretty likely\n",
       "    // that we're in one of those situations and the integration just isn't installed\n",
       "    // correctly.\n",
       "    if (typeof window.WebIO === \"undefined\") {\n",
       "        document\n",
       "            .querySelector('[data-webio-mountpoint=\"15558356349993908205\"]')\n",
       "            .innerHTML = (\n",
       "                '<div style=\"padding: 1em; background-color: #f8d6da; border: 1px solid #f5c6cb; font-weight: bold;\">' +\n",
       "                '<p><strong>WebIO not detected.</strong></p>' +\n",
       "                '<p>Please read ' +\n",
       "                '<a href=\"https://juliagizmos.github.io/WebIO.jl/latest/troubleshooting/not-detected/\" target=\"_blank\">the troubleshooting guide</a> ' +\n",
       "                'for more information on how to resolve this issue.</p>' +\n",
       "                '<p><a href=\"https://juliagizmos.github.io/WebIO.jl/latest/troubleshooting/not-detected/\" target=\"_blank\">https://juliagizmos.github.io/WebIO.jl/latest/troubleshooting/not-detected/</a></p>' +\n",
       "                '</div>'\n",
       "            );\n",
       "        return;\n",
       "    }\n",
       "    WebIO.mount(\n",
       "        document.querySelector('[data-webio-mountpoint=\"15558356349993908205\"]'),\n",
       "        {\"props\":{\"style\":{\"display\":\"flex\",\"flex-direction\":\"column\"}},\"nodeType\":\"DOM\",\"type\":\"node\",\"instanceArgs\":{\"namespace\":\"html\",\"tag\":\"div\"},\"children\":[{\"props\":{\"style\":{\"display\":\"flex\",\"flex-direction\":\"row\"}},\"nodeType\":\"DOM\",\"type\":\"node\",\"instanceArgs\":{\"namespace\":\"html\",\"tag\":\"div\"},\"children\":[{\"props\":{\"style\":{\"display\":\"flex\",\"flex-direction\":\"column\"}},\"nodeType\":\"DOM\",\"type\":\"node\",\"instanceArgs\":{\"namespace\":\"html\",\"tag\":\"div\"},\"children\":[{\"props\":{\"className\":\"field interact-widget\"},\"nodeType\":\"DOM\",\"type\":\"node\",\"instanceArgs\":{\"namespace\":\"html\",\"tag\":\"div\"},\"children\":[{\"props\":{},\"nodeType\":\"Scope\",\"type\":\"node\",\"instanceArgs\":{\"imports\":{\"data\":[{\"name\":\"knockout\",\"type\":\"js\",\"url\":\"\\/assetserver\\/727383f2a47bd31570b7da84eee7b022dd6d7c78-knockout.js\"},{\"name\":\"knockout_punches\",\"type\":\"js\",\"url\":\"\\/assetserver\\/382b41b3b1bd9f26f75861d360bad7f8beea211f-knockout_punches.js\"},{\"name\":null,\"type\":\"js\",\"url\":\"\\/assetserver\\/5ab20f1060420992a9b82a65b735dee4d81ef413-all.js\"},{\"name\":null,\"type\":\"css\",\"url\":\"\\/assetserver\\/1cc0ed62837210b80a182cc3676512f895dab686-style.css\"},{\"name\":null,\"type\":\"css\",\"url\":\"\\/assetserver\\/2eee816f616df3549d7044d45e744fbf8d42bfa1-bulma_confined.min.css\"}],\"type\":\"async_block\"},\"id\":\"18247937804508432883\",\"handlers\":{\"changes\":[\"(function (val){return (val!=this.model[\\\"changes\\\"]()) ? (this.valueFromJulia[\\\"changes\\\"]=true, this.model[\\\"changes\\\"](val)) : undefined})\"],\"index\":[\"(function (val){return (val!=this.model[\\\"index\\\"]()) ? (this.valueFromJulia[\\\"index\\\"]=true, this.model[\\\"index\\\"](val)) : undefined})\"]},\"systemjs_options\":null,\"mount_callbacks\":[\"function () {\\n    var handler = (function (ko, koPunches) {\\n    ko.punches.enableAll();\\n    ko.bindingHandlers.numericValue = {\\n        init: function(element, valueAccessor, allBindings, data, context) {\\n            var stringified = ko.observable(ko.unwrap(valueAccessor()));\\n            stringified.subscribe(function(value) {\\n                var val = parseFloat(value);\\n                if (!isNaN(val)) {\\n                    valueAccessor()(val);\\n                }\\n            });\\n            valueAccessor().subscribe(function(value) {\\n                var str = JSON.stringify(value);\\n                if ((str == \\\"0\\\") && ([\\\"-0\\\", \\\"-0.\\\"].indexOf(stringified()) >= 0))\\n                     return;\\n                 if ([\\\"null\\\", \\\"\\\"].indexOf(str) >= 0)\\n                     return;\\n                stringified(str);\\n            });\\n            ko.applyBindingsToNode(\\n                element,\\n                {\\n                    value: stringified,\\n                    valueUpdate: allBindings.get('valueUpdate'),\\n                },\\n                context,\\n            );\\n        }\\n    };\\n    var json_data = {\\\"formatted_vals\\\":[\\\"1\\\",\\\"2\\\",\\\"3\\\",\\\"4\\\",\\\"5\\\",\\\"6\\\",\\\"7\\\",\\\"8\\\",\\\"9\\\",\\\"10\\\",\\\"11\\\",\\\"12\\\",\\\"13\\\",\\\"14\\\",\\\"15\\\",\\\"16\\\",\\\"17\\\",\\\"18\\\",\\\"19\\\",\\\"20\\\",\\\"21\\\",\\\"22\\\",\\\"23\\\",\\\"24\\\",\\\"25\\\",\\\"26\\\",\\\"27\\\",\\\"28\\\",\\\"29\\\",\\\"30\\\",\\\"31\\\",\\\"32\\\",\\\"33\\\",\\\"34\\\",\\\"35\\\",\\\"36\\\",\\\"37\\\",\\\"38\\\",\\\"39\\\",\\\"40\\\",\\\"41\\\",\\\"42\\\",\\\"43\\\",\\\"44\\\",\\\"45\\\",\\\"46\\\",\\\"47\\\",\\\"48\\\",\\\"49\\\",\\\"50\\\",\\\"51\\\",\\\"52\\\",\\\"53\\\",\\\"54\\\",\\\"55\\\",\\\"56\\\",\\\"57\\\",\\\"58\\\",\\\"59\\\",\\\"60\\\",\\\"61\\\",\\\"62\\\",\\\"63\\\",\\\"64\\\",\\\"65\\\",\\\"66\\\",\\\"67\\\",\\\"68\\\",\\\"69\\\",\\\"70\\\",\\\"71\\\",\\\"72\\\",\\\"73\\\",\\\"74\\\",\\\"75\\\",\\\"76\\\",\\\"77\\\",\\\"78\\\",\\\"79\\\",\\\"80\\\",\\\"81\\\",\\\"82\\\",\\\"83\\\",\\\"84\\\",\\\"85\\\",\\\"86\\\",\\\"87\\\",\\\"88\\\",\\\"89\\\",\\\"90\\\",\\\"91\\\",\\\"92\\\",\\\"93\\\",\\\"94\\\",\\\"95\\\",\\\"96\\\",\\\"97\\\",\\\"98\\\",\\\"99\\\",\\\"100\\\",\\\"101\\\",\\\"102\\\",\\\"103\\\",\\\"104\\\",\\\"105\\\",\\\"106\\\",\\\"107\\\",\\\"108\\\",\\\"109\\\",\\\"110\\\",\\\"111\\\",\\\"112\\\",\\\"113\\\",\\\"114\\\",\\\"115\\\",\\\"116\\\",\\\"117\\\",\\\"118\\\",\\\"119\\\",\\\"120\\\",\\\"121\\\",\\\"122\\\",\\\"123\\\",\\\"124\\\",\\\"125\\\",\\\"126\\\",\\\"127\\\",\\\"128\\\",\\\"129\\\",\\\"130\\\",\\\"131\\\",\\\"132\\\",\\\"133\\\",\\\"134\\\",\\\"135\\\",\\\"136\\\",\\\"137\\\",\\\"138\\\",\\\"139\\\",\\\"140\\\",\\\"141\\\",\\\"142\\\",\\\"143\\\",\\\"144\\\",\\\"145\\\",\\\"146\\\",\\\"147\\\",\\\"148\\\",\\\"149\\\",\\\"150\\\",\\\"151\\\",\\\"152\\\",\\\"153\\\",\\\"154\\\",\\\"155\\\",\\\"156\\\",\\\"157\\\",\\\"158\\\",\\\"159\\\",\\\"160\\\",\\\"161\\\",\\\"162\\\",\\\"163\\\",\\\"164\\\",\\\"165\\\",\\\"166\\\",\\\"167\\\",\\\"168\\\",\\\"169\\\",\\\"170\\\",\\\"171\\\",\\\"172\\\",\\\"173\\\",\\\"174\\\",\\\"175\\\",\\\"176\\\",\\\"177\\\",\\\"178\\\",\\\"179\\\",\\\"180\\\",\\\"181\\\",\\\"182\\\",\\\"183\\\",\\\"184\\\",\\\"185\\\",\\\"186\\\",\\\"187\\\",\\\"188\\\",\\\"189\\\",\\\"190\\\",\\\"191\\\",\\\"192\\\",\\\"193\\\",\\\"194\\\",\\\"195\\\",\\\"196\\\",\\\"197\\\",\\\"198\\\",\\\"199\\\",\\\"200\\\"],\\\"changes\\\":WebIO.getval({\\\"name\\\":\\\"changes\\\",\\\"scope\\\":\\\"18247937804508432883\\\",\\\"id\\\":\\\"5006248067916773193\\\",\\\"type\\\":\\\"observable\\\"}),\\\"index\\\":WebIO.getval({\\\"name\\\":\\\"index\\\",\\\"scope\\\":\\\"18247937804508432883\\\",\\\"id\\\":\\\"16696273328568066882\\\",\\\"type\\\":\\\"observable\\\"})};\\n    var self = this;\\n    function AppViewModel() {\\n        for (var key in json_data) {\\n            var el = json_data[key];\\n            this[key] = Array.isArray(el) ? ko.observableArray(el) : ko.observable(el);\\n        }\\n        \\n        [this[\\\"formatted_val\\\"]=ko.computed(    function(){\\n        return this.formatted_vals()[parseInt(this.index())-(1)];\\n    }\\n,this)]\\n        [this[\\\"changes\\\"].subscribe((function (val){!(this.valueFromJulia[\\\"changes\\\"]) ? (WebIO.setval({\\\"name\\\":\\\"changes\\\",\\\"scope\\\":\\\"18247937804508432883\\\",\\\"id\\\":\\\"5006248067916773193\\\",\\\"type\\\":\\\"observable\\\"},val)) : undefined; return this.valueFromJulia[\\\"changes\\\"]=false}),self),this[\\\"index\\\"].subscribe((function (val){!(this.valueFromJulia[\\\"index\\\"]) ? (WebIO.setval({\\\"name\\\":\\\"index\\\",\\\"scope\\\":\\\"18247937804508432883\\\",\\\"id\\\":\\\"16696273328568066882\\\",\\\"type\\\":\\\"observable\\\"},val)) : undefined; return this.valueFromJulia[\\\"index\\\"]=false}),self)]\\n        \\n    }\\n    self.model = new AppViewModel();\\n    self.valueFromJulia = {};\\n    for (var key in json_data) {\\n        self.valueFromJulia[key] = false;\\n    }\\n    ko.applyBindings(self.model, self.dom);\\n}\\n);\\n    (WebIO.importBlock({\\\"data\\\":[{\\\"name\\\":\\\"knockout\\\",\\\"type\\\":\\\"js\\\",\\\"url\\\":\\\"\\/assetserver\\/727383f2a47bd31570b7da84eee7b022dd6d7c78-knockout.js\\\"},{\\\"name\\\":\\\"knockout_punches\\\",\\\"type\\\":\\\"js\\\",\\\"url\\\":\\\"\\/assetserver\\/382b41b3b1bd9f26f75861d360bad7f8beea211f-knockout_punches.js\\\"}],\\\"type\\\":\\\"async_block\\\"})).then((imports) => handler.apply(this, imports));\\n}\\n\"],\"observables\":{\"changes\":{\"sync\":false,\"id\":\"5006248067916773193\",\"value\":0},\"index\":{\"sync\":true,\"id\":\"16696273328568066882\",\"value\":1}}},\"children\":[{\"props\":{\"className\":\"interact-flex-row interact-widget\"},\"nodeType\":\"DOM\",\"type\":\"node\",\"instanceArgs\":{\"namespace\":\"html\",\"tag\":\"div\"},\"children\":[{\"props\":{\"className\":\"interact-flex-row-left\"},\"nodeType\":\"DOM\",\"type\":\"node\",\"instanceArgs\":{\"namespace\":\"html\",\"tag\":\"div\"},\"children\":[{\"props\":{\"className\":\"interact \",\"style\":{\"padding\":\"5px 10px 0px 10px\"}},\"nodeType\":\"DOM\",\"type\":\"node\",\"instanceArgs\":{\"namespace\":\"html\",\"tag\":\"label\"},\"children\":[\"time\"]}]},{\"props\":{\"className\":\"interact-flex-row-center\"},\"nodeType\":\"DOM\",\"type\":\"node\",\"instanceArgs\":{\"namespace\":\"html\",\"tag\":\"div\"},\"children\":[{\"props\":{\"max\":200,\"min\":1,\"attributes\":{\"type\":\"range\",\"data-bind\":\"numericValue: index, valueUpdate: 'input', event: {change: function (){this.changes(this.changes()+1)}}\",\"orient\":\"horizontal\"},\"step\":1,\"className\":\"slider slider is-fullwidth\",\"style\":{}},\"nodeType\":\"DOM\",\"type\":\"node\",\"instanceArgs\":{\"namespace\":\"html\",\"tag\":\"input\"},\"children\":[]}]},{\"props\":{\"className\":\"interact-flex-row-right\"},\"nodeType\":\"DOM\",\"type\":\"node\",\"instanceArgs\":{\"namespace\":\"html\",\"tag\":\"div\"},\"children\":[{\"props\":{\"attributes\":{\"data-bind\":\"text: formatted_val\"}},\"nodeType\":\"DOM\",\"type\":\"node\",\"instanceArgs\":{\"namespace\":\"html\",\"tag\":\"p\"},\"children\":[]}]}]}]}]},{\"props\":{\"className\":\"field interact-widget\"},\"nodeType\":\"DOM\",\"type\":\"node\",\"instanceArgs\":{\"namespace\":\"html\",\"tag\":\"div\"},\"children\":[{\"props\":{},\"nodeType\":\"Scope\",\"type\":\"node\",\"instanceArgs\":{\"imports\":{\"data\":[{\"name\":\"knockout\",\"type\":\"js\",\"url\":\"\\/assetserver\\/727383f2a47bd31570b7da84eee7b022dd6d7c78-knockout.js\"},{\"name\":\"knockout_punches\",\"type\":\"js\",\"url\":\"\\/assetserver\\/382b41b3b1bd9f26f75861d360bad7f8beea211f-knockout_punches.js\"},{\"name\":null,\"type\":\"js\",\"url\":\"\\/assetserver\\/5ab20f1060420992a9b82a65b735dee4d81ef413-all.js\"},{\"name\":null,\"type\":\"css\",\"url\":\"\\/assetserver\\/1cc0ed62837210b80a182cc3676512f895dab686-style.css\"},{\"name\":null,\"type\":\"css\",\"url\":\"\\/assetserver\\/2eee816f616df3549d7044d45e744fbf8d42bfa1-bulma_confined.min.css\"}],\"type\":\"async_block\"},\"id\":\"8133369304678186177\",\"handlers\":{\"changes\":[\"(function (val){return (val!=this.model[\\\"changes\\\"]()) ? (this.valueFromJulia[\\\"changes\\\"]=true, this.model[\\\"changes\\\"](val)) : undefined})\"],\"index\":[\"(function (val){return (val!=this.model[\\\"index\\\"]()) ? (this.valueFromJulia[\\\"index\\\"]=true, this.model[\\\"index\\\"](val)) : undefined})\"]},\"systemjs_options\":null,\"mount_callbacks\":[\"function () {\\n    var handler = (function (ko, koPunches) {\\n    ko.punches.enableAll();\\n    ko.bindingHandlers.numericValue = {\\n        init: function(element, valueAccessor, allBindings, data, context) {\\n            var stringified = ko.observable(ko.unwrap(valueAccessor()));\\n            stringified.subscribe(function(value) {\\n                var val = parseFloat(value);\\n                if (!isNaN(val)) {\\n                    valueAccessor()(val);\\n                }\\n            });\\n            valueAccessor().subscribe(function(value) {\\n                var str = JSON.stringify(value);\\n                if ((str == \\\"0\\\") && ([\\\"-0\\\", \\\"-0.\\\"].indexOf(stringified()) >= 0))\\n                     return;\\n                 if ([\\\"null\\\", \\\"\\\"].indexOf(str) >= 0)\\n                     return;\\n                stringified(str);\\n            });\\n            ko.applyBindingsToNode(\\n                element,\\n                {\\n                    value: stringified,\\n                    valueUpdate: allBindings.get('valueUpdate'),\\n                },\\n                context,\\n            );\\n        }\\n    };\\n    var json_data = {\\\"formatted_vals\\\":[\\\"0.1\\\",\\\"0.2\\\",\\\"0.3\\\",\\\"0.4\\\",\\\"0.5\\\",\\\"0.6\\\",\\\"0.7\\\",\\\"0.8\\\",\\\"0.9\\\",\\\"1.0\\\",\\\"1.1\\\",\\\"1.2\\\",\\\"1.3\\\",\\\"1.4\\\",\\\"1.5\\\",\\\"1.6\\\",\\\"1.7\\\",\\\"1.8\\\",\\\"1.9\\\",\\\"2.0\\\"],\\\"changes\\\":WebIO.getval({\\\"name\\\":\\\"changes\\\",\\\"scope\\\":\\\"8133369304678186177\\\",\\\"id\\\":\\\"17925478258968871944\\\",\\\"type\\\":\\\"observable\\\"}),\\\"index\\\":WebIO.getval({\\\"name\\\":\\\"index\\\",\\\"scope\\\":\\\"8133369304678186177\\\",\\\"id\\\":\\\"16967614701561034863\\\",\\\"type\\\":\\\"observable\\\"})};\\n    var self = this;\\n    function AppViewModel() {\\n        for (var key in json_data) {\\n            var el = json_data[key];\\n            this[key] = Array.isArray(el) ? ko.observableArray(el) : ko.observable(el);\\n        }\\n        \\n        [this[\\\"formatted_val\\\"]=ko.computed(    function(){\\n        return this.formatted_vals()[parseInt(this.index())-(1)];\\n    }\\n,this)]\\n        [this[\\\"changes\\\"].subscribe((function (val){!(this.valueFromJulia[\\\"changes\\\"]) ? (WebIO.setval({\\\"name\\\":\\\"changes\\\",\\\"scope\\\":\\\"8133369304678186177\\\",\\\"id\\\":\\\"17925478258968871944\\\",\\\"type\\\":\\\"observable\\\"},val)) : undefined; return this.valueFromJulia[\\\"changes\\\"]=false}),self),this[\\\"index\\\"].subscribe((function (val){!(this.valueFromJulia[\\\"index\\\"]) ? (WebIO.setval({\\\"name\\\":\\\"index\\\",\\\"scope\\\":\\\"8133369304678186177\\\",\\\"id\\\":\\\"16967614701561034863\\\",\\\"type\\\":\\\"observable\\\"},val)) : undefined; return this.valueFromJulia[\\\"index\\\"]=false}),self)]\\n        \\n    }\\n    self.model = new AppViewModel();\\n    self.valueFromJulia = {};\\n    for (var key in json_data) {\\n        self.valueFromJulia[key] = false;\\n    }\\n    ko.applyBindings(self.model, self.dom);\\n}\\n);\\n    (WebIO.importBlock({\\\"data\\\":[{\\\"name\\\":\\\"knockout\\\",\\\"type\\\":\\\"js\\\",\\\"url\\\":\\\"\\/assetserver\\/727383f2a47bd31570b7da84eee7b022dd6d7c78-knockout.js\\\"},{\\\"name\\\":\\\"knockout_punches\\\",\\\"type\\\":\\\"js\\\",\\\"url\\\":\\\"\\/assetserver\\/382b41b3b1bd9f26f75861d360bad7f8beea211f-knockout_punches.js\\\"}],\\\"type\\\":\\\"async_block\\\"})).then((imports) => handler.apply(this, imports));\\n}\\n\"],\"observables\":{\"changes\":{\"sync\":false,\"id\":\"17925478258968871944\",\"value\":0},\"index\":{\"sync\":true,\"id\":\"16967614701561034863\",\"value\":10}}},\"children\":[{\"props\":{\"className\":\"interact-flex-row interact-widget\"},\"nodeType\":\"DOM\",\"type\":\"node\",\"instanceArgs\":{\"namespace\":\"html\",\"tag\":\"div\"},\"children\":[{\"props\":{\"className\":\"interact-flex-row-left\"},\"nodeType\":\"DOM\",\"type\":\"node\",\"instanceArgs\":{\"namespace\":\"html\",\"tag\":\"div\"},\"children\":[{\"props\":{\"className\":\"interact \",\"style\":{\"padding\":\"5px 10px 0px 10px\"}},\"nodeType\":\"DOM\",\"type\":\"node\",\"instanceArgs\":{\"namespace\":\"html\",\"tag\":\"label\"},\"children\":[\"scale\"]}]},{\"props\":{\"className\":\"interact-flex-row-center\"},\"nodeType\":\"DOM\",\"type\":\"node\",\"instanceArgs\":{\"namespace\":\"html\",\"tag\":\"div\"},\"children\":[{\"props\":{\"max\":20,\"min\":1,\"attributes\":{\"type\":\"range\",\"data-bind\":\"numericValue: index, valueUpdate: 'input', event: {change: function (){this.changes(this.changes()+1)}}\",\"orient\":\"horizontal\"},\"step\":1,\"className\":\"slider slider is-fullwidth\",\"style\":{}},\"nodeType\":\"DOM\",\"type\":\"node\",\"instanceArgs\":{\"namespace\":\"html\",\"tag\":\"input\"},\"children\":[]}]},{\"props\":{\"className\":\"interact-flex-row-right\"},\"nodeType\":\"DOM\",\"type\":\"node\",\"instanceArgs\":{\"namespace\":\"html\",\"tag\":\"div\"},\"children\":[{\"props\":{\"attributes\":{\"data-bind\":\"text: formatted_val\"}},\"nodeType\":\"DOM\",\"type\":\"node\",\"instanceArgs\":{\"namespace\":\"html\",\"tag\":\"p\"},\"children\":[]}]}]}]}]},{\"props\":{\"style\":{\"display\":\"flex\",\"flex-direction\":\"column\"}},\"nodeType\":\"DOM\",\"type\":\"node\",\"instanceArgs\":{\"namespace\":\"html\",\"tag\":\"div\"},\"children\":[]},{\"props\":{\"style\":{\"display\":\"flex\",\"flex-direction\":\"column\"}},\"nodeType\":\"DOM\",\"type\":\"node\",\"instanceArgs\":{\"namespace\":\"html\",\"tag\":\"div\"},\"children\":[{\"props\":{\"className\":\"field interact-widget\"},\"nodeType\":\"DOM\",\"type\":\"node\",\"instanceArgs\":{\"namespace\":\"html\",\"tag\":\"div\"},\"children\":[{\"props\":{},\"nodeType\":\"Scope\",\"type\":\"node\",\"instanceArgs\":{\"imports\":{\"data\":[{\"name\":\"knockout\",\"type\":\"js\",\"url\":\"\\/assetserver\\/727383f2a47bd31570b7da84eee7b022dd6d7c78-knockout.js\"},{\"name\":\"knockout_punches\",\"type\":\"js\",\"url\":\"\\/assetserver\\/382b41b3b1bd9f26f75861d360bad7f8beea211f-knockout_punches.js\"},{\"name\":null,\"type\":\"js\",\"url\":\"\\/assetserver\\/5ab20f1060420992a9b82a65b735dee4d81ef413-all.js\"},{\"name\":null,\"type\":\"css\",\"url\":\"\\/assetserver\\/1cc0ed62837210b80a182cc3676512f895dab686-style.css\"},{\"name\":null,\"type\":\"css\",\"url\":\"\\/assetserver\\/2eee816f616df3549d7044d45e744fbf8d42bfa1-bulma_confined.min.css\"}],\"type\":\"async_block\"},\"id\":\"3762480440982371343\",\"handlers\":{\"changes\":[\"(function (val){return (val!=this.model[\\\"changes\\\"]()) ? (this.valueFromJulia[\\\"changes\\\"]=true, this.model[\\\"changes\\\"](val)) : undefined})\"],\"index\":[\"(function (val){return (val!=this.model[\\\"index\\\"]()) ? (this.valueFromJulia[\\\"index\\\"]=true, this.model[\\\"index\\\"](val)) : undefined})\"]},\"systemjs_options\":null,\"mount_callbacks\":[\"function () {\\n    var handler = (function (ko, koPunches) {\\n    ko.punches.enableAll();\\n    ko.bindingHandlers.numericValue = {\\n        init: function(element, valueAccessor, allBindings, data, context) {\\n            var stringified = ko.observable(ko.unwrap(valueAccessor()));\\n            stringified.subscribe(function(value) {\\n                var val = parseFloat(value);\\n                if (!isNaN(val)) {\\n                    valueAccessor()(val);\\n                }\\n            });\\n            valueAccessor().subscribe(function(value) {\\n                var str = JSON.stringify(value);\\n                if ((str == \\\"0\\\") && ([\\\"-0\\\", \\\"-0.\\\"].indexOf(stringified()) >= 0))\\n                     return;\\n                 if ([\\\"null\\\", \\\"\\\"].indexOf(str) >= 0)\\n                     return;\\n                stringified(str);\\n            });\\n            ko.applyBindingsToNode(\\n                element,\\n                {\\n                    value: stringified,\\n                    valueUpdate: allBindings.get('valueUpdate'),\\n                },\\n                context,\\n            );\\n        }\\n    };\\n    var json_data = {\\\"formatted_vals\\\":[\\\"0.0\\\",\\\"0.01\\\",\\\"0.02\\\",\\\"0.03\\\",\\\"0.04\\\",\\\"0.05\\\",\\\"0.06\\\",\\\"0.07\\\",\\\"0.08\\\",\\\"0.09\\\",\\\"0.1\\\",\\\"0.11\\\",\\\"0.12\\\",\\\"0.13\\\",\\\"0.14\\\",\\\"0.15\\\",\\\"0.16\\\",\\\"0.17\\\",\\\"0.18\\\",\\\"0.19\\\",\\\"0.2\\\",\\\"0.21\\\",\\\"0.22\\\",\\\"0.23\\\",\\\"0.24\\\",\\\"0.25\\\",\\\"0.26\\\",\\\"0.27\\\",\\\"0.28\\\",\\\"0.29\\\",\\\"0.3\\\",\\\"0.31\\\",\\\"0.32\\\",\\\"0.33\\\",\\\"0.34\\\",\\\"0.35\\\",\\\"0.36\\\",\\\"0.37\\\",\\\"0.38\\\",\\\"0.39\\\",\\\"0.4\\\",\\\"0.41\\\",\\\"0.42\\\",\\\"0.43\\\",\\\"0.44\\\",\\\"0.45\\\",\\\"0.46\\\",\\\"0.47\\\",\\\"0.48\\\",\\\"0.49\\\",\\\"0.5\\\",\\\"0.51\\\",\\\"0.52\\\",\\\"0.53\\\",\\\"0.54\\\",\\\"0.55\\\",\\\"0.56\\\",\\\"0.57\\\",\\\"0.58\\\",\\\"0.59\\\",\\\"0.6\\\",\\\"0.61\\\",\\\"0.62\\\",\\\"0.63\\\",\\\"0.64\\\",\\\"0.65\\\",\\\"0.66\\\",\\\"0.67\\\",\\\"0.68\\\",\\\"0.69\\\",\\\"0.7\\\",\\\"0.71\\\",\\\"0.72\\\",\\\"0.73\\\",\\\"0.74\\\",\\\"0.75\\\",\\\"0.76\\\",\\\"0.77\\\",\\\"0.78\\\",\\\"0.79\\\",\\\"0.8\\\",\\\"0.81\\\",\\\"0.82\\\",\\\"0.83\\\",\\\"0.84\\\",\\\"0.85\\\",\\\"0.86\\\",\\\"0.87\\\",\\\"0.88\\\",\\\"0.89\\\",\\\"0.9\\\",\\\"0.91\\\",\\\"0.92\\\",\\\"0.93\\\",\\\"0.94\\\",\\\"0.95\\\",\\\"0.96\\\",\\\"0.97\\\",\\\"0.98\\\",\\\"0.99\\\",\\\"1.0\\\"],\\\"changes\\\":WebIO.getval({\\\"name\\\":\\\"changes\\\",\\\"scope\\\":\\\"3762480440982371343\\\",\\\"id\\\":\\\"15447466555980225837\\\",\\\"type\\\":\\\"observable\\\"}),\\\"index\\\":WebIO.getval({\\\"name\\\":\\\"index\\\",\\\"scope\\\":\\\"3762480440982371343\\\",\\\"id\\\":\\\"11664151389271722207\\\",\\\"type\\\":\\\"observable\\\"})};\\n    var self = this;\\n    function AppViewModel() {\\n        for (var key in json_data) {\\n            var el = json_data[key];\\n            this[key] = Array.isArray(el) ? ko.observableArray(el) : ko.observable(el);\\n        }\\n        \\n        [this[\\\"formatted_val\\\"]=ko.computed(    function(){\\n        return this.formatted_vals()[parseInt(this.index())-(1)];\\n    }\\n,this)]\\n        [this[\\\"changes\\\"].subscribe((function (val){!(this.valueFromJulia[\\\"changes\\\"]) ? (WebIO.setval({\\\"name\\\":\\\"changes\\\",\\\"scope\\\":\\\"3762480440982371343\\\",\\\"id\\\":\\\"15447466555980225837\\\",\\\"type\\\":\\\"observable\\\"},val)) : undefined; return this.valueFromJulia[\\\"changes\\\"]=false}),self),this[\\\"index\\\"].subscribe((function (val){!(this.valueFromJulia[\\\"index\\\"]) ? (WebIO.setval({\\\"name\\\":\\\"index\\\",\\\"scope\\\":\\\"3762480440982371343\\\",\\\"id\\\":\\\"11664151389271722207\\\",\\\"type\\\":\\\"observable\\\"},val)) : undefined; return this.valueFromJulia[\\\"index\\\"]=false}),self)]\\n        \\n    }\\n    self.model = new AppViewModel();\\n    self.valueFromJulia = {};\\n    for (var key in json_data) {\\n        self.valueFromJulia[key] = false;\\n    }\\n    ko.applyBindings(self.model, self.dom);\\n}\\n);\\n    (WebIO.importBlock({\\\"data\\\":[{\\\"name\\\":\\\"knockout\\\",\\\"type\\\":\\\"js\\\",\\\"url\\\":\\\"\\/assetserver\\/727383f2a47bd31570b7da84eee7b022dd6d7c78-knockout.js\\\"},{\\\"name\\\":\\\"knockout_punches\\\",\\\"type\\\":\\\"js\\\",\\\"url\\\":\\\"\\/assetserver\\/382b41b3b1bd9f26f75861d360bad7f8beea211f-knockout_punches.js\\\"}],\\\"type\\\":\\\"async_block\\\"})).then((imports) => handler.apply(this, imports));\\n}\\n\"],\"observables\":{\"changes\":{\"sync\":false,\"id\":\"15447466555980225837\",\"value\":0},\"index\":{\"sync\":true,\"id\":\"11664151389271722207\",\"value\":51}}},\"children\":[{\"props\":{\"className\":\"interact-flex-row interact-widget\"},\"nodeType\":\"DOM\",\"type\":\"node\",\"instanceArgs\":{\"namespace\":\"html\",\"tag\":\"div\"},\"children\":[{\"props\":{\"className\":\"interact-flex-row-left\"},\"nodeType\":\"DOM\",\"type\":\"node\",\"instanceArgs\":{\"namespace\":\"html\",\"tag\":\"div\"},\"children\":[{\"props\":{\"className\":\"interact \",\"style\":{\"padding\":\"5px 10px 0px 10px\"}},\"nodeType\":\"DOM\",\"type\":\"node\",\"instanceArgs\":{\"namespace\":\"html\",\"tag\":\"label\"},\"children\":[\"alive_percent\"]}]},{\"props\":{\"className\":\"interact-flex-row-center\"},\"nodeType\":\"DOM\",\"type\":\"node\",\"instanceArgs\":{\"namespace\":\"html\",\"tag\":\"div\"},\"children\":[{\"props\":{\"max\":101,\"min\":1,\"attributes\":{\"type\":\"range\",\"data-bind\":\"numericValue: index, valueUpdate: 'input', event: {change: function (){this.changes(this.changes()+1)}}\",\"orient\":\"horizontal\"},\"step\":1,\"className\":\"slider slider is-fullwidth\",\"style\":{}},\"nodeType\":\"DOM\",\"type\":\"node\",\"instanceArgs\":{\"namespace\":\"html\",\"tag\":\"input\"},\"children\":[]}]},{\"props\":{\"className\":\"interact-flex-row-right\"},\"nodeType\":\"DOM\",\"type\":\"node\",\"instanceArgs\":{\"namespace\":\"html\",\"tag\":\"div\"},\"children\":[{\"props\":{\"attributes\":{\"data-bind\":\"text: formatted_val\"}},\"nodeType\":\"DOM\",\"type\":\"node\",\"instanceArgs\":{\"namespace\":\"html\",\"tag\":\"p\"},\"children\":[]}]}]}]}]}]},{\"props\":{\"style\":{\"display\":\"flex\",\"flex-direction\":\"row\"}},\"nodeType\":\"DOM\",\"type\":\"node\",\"instanceArgs\":{\"namespace\":\"html\",\"tag\":\"div\"},\"children\":[{\"props\":{\"className\":\"interact-widget\"},\"nodeType\":\"DOM\",\"type\":\"node\",\"instanceArgs\":{\"namespace\":\"html\",\"tag\":\"div\"},\"children\":[{\"props\":{},\"nodeType\":\"Scope\",\"type\":\"node\",\"instanceArgs\":{\"imports\":{\"data\":[{\"name\":null,\"type\":\"js\",\"url\":\"\\/assetserver\\/dd22ed1bf1896c2748f3fe616ce0b838adc895c1-katex.min.js\"},{\"name\":null,\"type\":\"css\",\"url\":\"\\/assetserver\\/46517a424aa5e6cffc1360d7e0848b601c584ee3-katex.min.css\"}],\"type\":\"async_block\"},\"id\":\"4957018086983676082\",\"handlers\":{\"value\":[\"(function (txt){return this.k.render(txt,this.container)})\"]},\"systemjs_options\":null,\"mount_callbacks\":[\"function () {\\n    var handler = ((function (k){this.k=k; this.container=this.dom.querySelector(\\\"#container\\\"); return k.render(\\\"\\\\\\\\;\\\\\\\\;\\\",this.container)}));\\n    (WebIO.importBlock({\\\"data\\\":[{\\\"name\\\":null,\\\"type\\\":\\\"js\\\",\\\"url\\\":\\\"\\/assetserver\\/dd22ed1bf1896c2748f3fe616ce0b838adc895c1-katex.min.js\\\"},{\\\"name\\\":null,\\\"type\\\":\\\"css\\\",\\\"url\\\":\\\"\\/assetserver\\/46517a424aa5e6cffc1360d7e0848b601c584ee3-katex.min.css\\\"}],\\\"type\\\":\\\"async_block\\\"})).then((imports) => handler.apply(this, imports));\\n}\\n\"],\"observables\":{\"value\":{\"sync\":false,\"id\":\"12132973633912723328\",\"value\":\"\\\\;\\\\;\"}}},\"children\":[{\"props\":{\"id\":\"container\"},\"nodeType\":\"DOM\",\"type\":\"node\",\"instanceArgs\":{\"namespace\":\"html\",\"tag\":\"div\"},\"children\":[]}]}]},{\"props\":{\"className\":\"field interact-widget\"},\"nodeType\":\"DOM\",\"type\":\"node\",\"instanceArgs\":{\"namespace\":\"html\",\"tag\":\"div\"},\"children\":[{\"props\":{},\"nodeType\":\"Scope\",\"type\":\"node\",\"instanceArgs\":{\"imports\":{\"data\":[{\"name\":\"knockout\",\"type\":\"js\",\"url\":\"\\/assetserver\\/727383f2a47bd31570b7da84eee7b022dd6d7c78-knockout.js\"},{\"name\":\"knockout_punches\",\"type\":\"js\",\"url\":\"\\/assetserver\\/382b41b3b1bd9f26f75861d360bad7f8beea211f-knockout_punches.js\"},{\"name\":null,\"type\":\"js\",\"url\":\"\\/assetserver\\/5ab20f1060420992a9b82a65b735dee4d81ef413-all.js\"},{\"name\":null,\"type\":\"css\",\"url\":\"\\/assetserver\\/1cc0ed62837210b80a182cc3676512f895dab686-style.css\"},{\"name\":null,\"type\":\"css\",\"url\":\"\\/assetserver\\/2eee816f616df3549d7044d45e744fbf8d42bfa1-bulma_confined.min.css\"}],\"type\":\"async_block\"},\"id\":\"4509255194736050292\",\"handlers\":{\"loading\":[\"(function (val){return (val!=this.model[\\\"loading\\\"]()) ? (this.valueFromJulia[\\\"loading\\\"]=true, this.model[\\\"loading\\\"](val)) : undefined})\"],\"clicks\":[\"(function (val){return (val!=this.model[\\\"clicks\\\"]()) ? (this.valueFromJulia[\\\"clicks\\\"]=true, this.model[\\\"clicks\\\"](val)) : undefined})\"]},\"systemjs_options\":null,\"mount_callbacks\":[\"function () {\\n    var handler = (function (ko, koPunches) {\\n    ko.punches.enableAll();\\n    ko.bindingHandlers.numericValue = {\\n        init: function(element, valueAccessor, allBindings, data, context) {\\n            var stringified = ko.observable(ko.unwrap(valueAccessor()));\\n            stringified.subscribe(function(value) {\\n                var val = parseFloat(value);\\n                if (!isNaN(val)) {\\n                    valueAccessor()(val);\\n                }\\n            });\\n            valueAccessor().subscribe(function(value) {\\n                var str = JSON.stringify(value);\\n                if ((str == \\\"0\\\") && ([\\\"-0\\\", \\\"-0.\\\"].indexOf(stringified()) >= 0))\\n                     return;\\n                 if ([\\\"null\\\", \\\"\\\"].indexOf(str) >= 0)\\n                     return;\\n                stringified(str);\\n            });\\n            ko.applyBindingsToNode(\\n                element,\\n                {\\n                    value: stringified,\\n                    valueUpdate: allBindings.get('valueUpdate'),\\n                },\\n                context,\\n            );\\n        }\\n    };\\n    var json_data = {\\\"loading\\\":WebIO.getval({\\\"name\\\":\\\"loading\\\",\\\"scope\\\":\\\"4509255194736050292\\\",\\\"id\\\":\\\"4655507539122456187\\\",\\\"type\\\":\\\"observable\\\"}),\\\"clicks\\\":WebIO.getval({\\\"name\\\":\\\"clicks\\\",\\\"scope\\\":\\\"4509255194736050292\\\",\\\"id\\\":\\\"1292406584845085528\\\",\\\"type\\\":\\\"observable\\\"})};\\n    var self = this;\\n    function AppViewModel() {\\n        for (var key in json_data) {\\n            var el = json_data[key];\\n            this[key] = Array.isArray(el) ? ko.observableArray(el) : ko.observable(el);\\n        }\\n        \\n        \\n        [this[\\\"loading\\\"].subscribe((function (val){!(this.valueFromJulia[\\\"loading\\\"]) ? (WebIO.setval({\\\"name\\\":\\\"loading\\\",\\\"scope\\\":\\\"4509255194736050292\\\",\\\"id\\\":\\\"4655507539122456187\\\",\\\"type\\\":\\\"observable\\\"},val)) : undefined; return this.valueFromJulia[\\\"loading\\\"]=false}),self),this[\\\"clicks\\\"].subscribe((function (val){!(this.valueFromJulia[\\\"clicks\\\"]) ? (WebIO.setval({\\\"name\\\":\\\"clicks\\\",\\\"scope\\\":\\\"4509255194736050292\\\",\\\"id\\\":\\\"1292406584845085528\\\",\\\"type\\\":\\\"observable\\\"},val)) : undefined; return this.valueFromJulia[\\\"clicks\\\"]=false}),self)]\\n        \\n    }\\n    self.model = new AppViewModel();\\n    self.valueFromJulia = {};\\n    for (var key in json_data) {\\n        self.valueFromJulia[key] = false;\\n    }\\n    ko.applyBindings(self.model, self.dom);\\n}\\n);\\n    (WebIO.importBlock({\\\"data\\\":[{\\\"name\\\":\\\"knockout\\\",\\\"type\\\":\\\"js\\\",\\\"url\\\":\\\"\\/assetserver\\/727383f2a47bd31570b7da84eee7b022dd6d7c78-knockout.js\\\"},{\\\"name\\\":\\\"knockout_punches\\\",\\\"type\\\":\\\"js\\\",\\\"url\\\":\\\"\\/assetserver\\/382b41b3b1bd9f26f75861d360bad7f8beea211f-knockout_punches.js\\\"}],\\\"type\\\":\\\"async_block\\\"})).then((imports) => handler.apply(this, imports));\\n}\\n\"],\"observables\":{\"loading\":{\"sync\":false,\"id\":\"4655507539122456187\",\"value\":false},\"clicks\":{\"sync\":true,\"id\":\"1292406584845085528\",\"value\":0}}},\"children\":[{\"props\":{\"attributes\":{\"data-bind\":\"click: function (){this.clicks(this.clicks()+1)}, css: {'is-loading' : loading}\"},\"className\":\"is-medium button is-primary\",\"style\":{}},\"nodeType\":\"DOM\",\"type\":\"node\",\"instanceArgs\":{\"namespace\":\"html\",\"tag\":\"button\"},\"children\":[\"run\"]}]}]},{\"props\":{\"className\":\"interact-widget\"},\"nodeType\":\"DOM\",\"type\":\"node\",\"instanceArgs\":{\"namespace\":\"html\",\"tag\":\"div\"},\"children\":[{\"props\":{},\"nodeType\":\"Scope\",\"type\":\"node\",\"instanceArgs\":{\"imports\":{\"data\":[{\"name\":null,\"type\":\"js\",\"url\":\"\\/assetserver\\/dd22ed1bf1896c2748f3fe616ce0b838adc895c1-katex.min.js\"},{\"name\":null,\"type\":\"css\",\"url\":\"\\/assetserver\\/46517a424aa5e6cffc1360d7e0848b601c584ee3-katex.min.css\"}],\"type\":\"async_block\"},\"id\":\"4957018086983676082\",\"handlers\":{\"value\":[\"(function (txt){return this.k.render(txt,this.container)})\"]},\"systemjs_options\":null,\"mount_callbacks\":[\"function () {\\n    var handler = ((function (k){this.k=k; this.container=this.dom.querySelector(\\\"#container\\\"); return k.render(\\\"\\\\\\\\;\\\\\\\\;\\\",this.container)}));\\n    (WebIO.importBlock({\\\"data\\\":[{\\\"name\\\":null,\\\"type\\\":\\\"js\\\",\\\"url\\\":\\\"\\/assetserver\\/dd22ed1bf1896c2748f3fe616ce0b838adc895c1-katex.min.js\\\"},{\\\"name\\\":null,\\\"type\\\":\\\"css\\\",\\\"url\\\":\\\"\\/assetserver\\/46517a424aa5e6cffc1360d7e0848b601c584ee3-katex.min.css\\\"}],\\\"type\\\":\\\"async_block\\\"})).then((imports) => handler.apply(this, imports));\\n}\\n\"],\"observables\":{\"value\":{\"sync\":false,\"id\":\"12132973633912723328\",\"value\":\"\\\\;\\\\;\"}}},\"children\":[{\"props\":{\"id\":\"container\"},\"nodeType\":\"DOM\",\"type\":\"node\",\"instanceArgs\":{\"namespace\":\"html\",\"tag\":\"div\"},\"children\":[]}]}]},{\"props\":{\"className\":\"field interact-widget\"},\"nodeType\":\"DOM\",\"type\":\"node\",\"instanceArgs\":{\"namespace\":\"html\",\"tag\":\"div\"},\"children\":[{\"props\":{},\"nodeType\":\"Scope\",\"type\":\"node\",\"instanceArgs\":{\"imports\":{\"data\":[{\"name\":\"knockout\",\"type\":\"js\",\"url\":\"\\/assetserver\\/727383f2a47bd31570b7da84eee7b022dd6d7c78-knockout.js\"},{\"name\":\"knockout_punches\",\"type\":\"js\",\"url\":\"\\/assetserver\\/382b41b3b1bd9f26f75861d360bad7f8beea211f-knockout_punches.js\"},{\"name\":null,\"type\":\"js\",\"url\":\"\\/assetserver\\/5ab20f1060420992a9b82a65b735dee4d81ef413-all.js\"},{\"name\":null,\"type\":\"css\",\"url\":\"\\/assetserver\\/1cc0ed62837210b80a182cc3676512f895dab686-style.css\"},{\"name\":null,\"type\":\"css\",\"url\":\"\\/assetserver\\/2eee816f616df3549d7044d45e744fbf8d42bfa1-bulma_confined.min.css\"}],\"type\":\"async_block\"},\"id\":\"13615800631425607057\",\"handlers\":{\"loading\":[\"(function (val){return (val!=this.model[\\\"loading\\\"]()) ? (this.valueFromJulia[\\\"loading\\\"]=true, this.model[\\\"loading\\\"](val)) : undefined})\"],\"clicks\":[\"(function (val){return (val!=this.model[\\\"clicks\\\"]()) ? (this.valueFromJulia[\\\"clicks\\\"]=true, this.model[\\\"clicks\\\"](val)) : undefined})\"]},\"systemjs_options\":null,\"mount_callbacks\":[\"function () {\\n    var handler = (function (ko, koPunches) {\\n    ko.punches.enableAll();\\n    ko.bindingHandlers.numericValue = {\\n        init: function(element, valueAccessor, allBindings, data, context) {\\n            var stringified = ko.observable(ko.unwrap(valueAccessor()));\\n            stringified.subscribe(function(value) {\\n                var val = parseFloat(value);\\n                if (!isNaN(val)) {\\n                    valueAccessor()(val);\\n                }\\n            });\\n            valueAccessor().subscribe(function(value) {\\n                var str = JSON.stringify(value);\\n                if ((str == \\\"0\\\") && ([\\\"-0\\\", \\\"-0.\\\"].indexOf(stringified()) >= 0))\\n                     return;\\n                 if ([\\\"null\\\", \\\"\\\"].indexOf(str) >= 0)\\n                     return;\\n                stringified(str);\\n            });\\n            ko.applyBindingsToNode(\\n                element,\\n                {\\n                    value: stringified,\\n                    valueUpdate: allBindings.get('valueUpdate'),\\n                },\\n                context,\\n            );\\n        }\\n    };\\n    var json_data = {\\\"loading\\\":WebIO.getval({\\\"name\\\":\\\"loading\\\",\\\"scope\\\":\\\"13615800631425607057\\\",\\\"id\\\":\\\"9895591219352831458\\\",\\\"type\\\":\\\"observable\\\"}),\\\"clicks\\\":WebIO.getval({\\\"name\\\":\\\"clicks\\\",\\\"scope\\\":\\\"13615800631425607057\\\",\\\"id\\\":\\\"14180995362525198875\\\",\\\"type\\\":\\\"observable\\\"})};\\n    var self = this;\\n    function AppViewModel() {\\n        for (var key in json_data) {\\n            var el = json_data[key];\\n            this[key] = Array.isArray(el) ? ko.observableArray(el) : ko.observable(el);\\n        }\\n        \\n        \\n        [this[\\\"loading\\\"].subscribe((function (val){!(this.valueFromJulia[\\\"loading\\\"]) ? (WebIO.setval({\\\"name\\\":\\\"loading\\\",\\\"scope\\\":\\\"13615800631425607057\\\",\\\"id\\\":\\\"9895591219352831458\\\",\\\"type\\\":\\\"observable\\\"},val)) : undefined; return this.valueFromJulia[\\\"loading\\\"]=false}),self),this[\\\"clicks\\\"].subscribe((function (val){!(this.valueFromJulia[\\\"clicks\\\"]) ? (WebIO.setval({\\\"name\\\":\\\"clicks\\\",\\\"scope\\\":\\\"13615800631425607057\\\",\\\"id\\\":\\\"14180995362525198875\\\",\\\"type\\\":\\\"observable\\\"},val)) : undefined; return this.valueFromJulia[\\\"clicks\\\"]=false}),self)]\\n        \\n    }\\n    self.model = new AppViewModel();\\n    self.valueFromJulia = {};\\n    for (var key in json_data) {\\n        self.valueFromJulia[key] = false;\\n    }\\n    ko.applyBindings(self.model, self.dom);\\n}\\n);\\n    (WebIO.importBlock({\\\"data\\\":[{\\\"name\\\":\\\"knockout\\\",\\\"type\\\":\\\"js\\\",\\\"url\\\":\\\"\\/assetserver\\/727383f2a47bd31570b7da84eee7b022dd6d7c78-knockout.js\\\"},{\\\"name\\\":\\\"knockout_punches\\\",\\\"type\\\":\\\"js\\\",\\\"url\\\":\\\"\\/assetserver\\/382b41b3b1bd9f26f75861d360bad7f8beea211f-knockout_punches.js\\\"}],\\\"type\\\":\\\"async_block\\\"})).then((imports) => handler.apply(this, imports));\\n}\\n\"],\"observables\":{\"loading\":{\"sync\":false,\"id\":\"9895591219352831458\",\"value\":false},\"clicks\":{\"sync\":true,\"id\":\"14180995362525198875\",\"value\":0}}},\"children\":[{\"props\":{\"attributes\":{\"data-bind\":\"click: function (){this.clicks(this.clicks()+1)}, css: {'is-loading' : loading}\"},\"className\":\"is-medium button is-primary\",\"style\":{}},\"nodeType\":\"DOM\",\"type\":\"node\",\"instanceArgs\":{\"namespace\":\"html\",\"tag\":\"button\"},\"children\":[\"stop\"]}]}]},{\"props\":{\"className\":\"interact-widget\"},\"nodeType\":\"DOM\",\"type\":\"node\",\"instanceArgs\":{\"namespace\":\"html\",\"tag\":\"div\"},\"children\":[{\"props\":{},\"nodeType\":\"Scope\",\"type\":\"node\",\"instanceArgs\":{\"imports\":{\"data\":[{\"name\":null,\"type\":\"js\",\"url\":\"\\/assetserver\\/dd22ed1bf1896c2748f3fe616ce0b838adc895c1-katex.min.js\"},{\"name\":null,\"type\":\"css\",\"url\":\"\\/assetserver\\/46517a424aa5e6cffc1360d7e0848b601c584ee3-katex.min.css\"}],\"type\":\"async_block\"},\"id\":\"4957018086983676082\",\"handlers\":{\"value\":[\"(function (txt){return this.k.render(txt,this.container)})\"]},\"systemjs_options\":null,\"mount_callbacks\":[\"function () {\\n    var handler = ((function (k){this.k=k; this.container=this.dom.querySelector(\\\"#container\\\"); return k.render(\\\"\\\\\\\\;\\\\\\\\;\\\",this.container)}));\\n    (WebIO.importBlock({\\\"data\\\":[{\\\"name\\\":null,\\\"type\\\":\\\"js\\\",\\\"url\\\":\\\"\\/assetserver\\/dd22ed1bf1896c2748f3fe616ce0b838adc895c1-katex.min.js\\\"},{\\\"name\\\":null,\\\"type\\\":\\\"css\\\",\\\"url\\\":\\\"\\/assetserver\\/46517a424aa5e6cffc1360d7e0848b601c584ee3-katex.min.css\\\"}],\\\"type\\\":\\\"async_block\\\"})).then((imports) => handler.apply(this, imports));\\n}\\n\"],\"observables\":{\"value\":{\"sync\":false,\"id\":\"12132973633912723328\",\"value\":\"\\\\;\\\\;\"}}},\"children\":[{\"props\":{\"id\":\"container\"},\"nodeType\":\"DOM\",\"type\":\"node\",\"instanceArgs\":{\"namespace\":\"html\",\"tag\":\"div\"},\"children\":[]}]}]},{\"props\":{\"className\":\"field interact-widget\"},\"nodeType\":\"DOM\",\"type\":\"node\",\"instanceArgs\":{\"namespace\":\"html\",\"tag\":\"div\"},\"children\":[{\"props\":{},\"nodeType\":\"Scope\",\"type\":\"node\",\"instanceArgs\":{\"imports\":{\"data\":[{\"name\":\"knockout\",\"type\":\"js\",\"url\":\"\\/assetserver\\/727383f2a47bd31570b7da84eee7b022dd6d7c78-knockout.js\"},{\"name\":\"knockout_punches\",\"type\":\"js\",\"url\":\"\\/assetserver\\/382b41b3b1bd9f26f75861d360bad7f8beea211f-knockout_punches.js\"},{\"name\":null,\"type\":\"js\",\"url\":\"\\/assetserver\\/5ab20f1060420992a9b82a65b735dee4d81ef413-all.js\"},{\"name\":null,\"type\":\"css\",\"url\":\"\\/assetserver\\/1cc0ed62837210b80a182cc3676512f895dab686-style.css\"},{\"name\":null,\"type\":\"css\",\"url\":\"\\/assetserver\\/2eee816f616df3549d7044d45e744fbf8d42bfa1-bulma_confined.min.css\"}],\"type\":\"async_block\"},\"id\":\"16833075980551959305\",\"handlers\":{\"loading\":[\"(function (val){return (val!=this.model[\\\"loading\\\"]()) ? (this.valueFromJulia[\\\"loading\\\"]=true, this.model[\\\"loading\\\"](val)) : undefined})\"],\"clicks\":[\"(function (val){return (val!=this.model[\\\"clicks\\\"]()) ? (this.valueFromJulia[\\\"clicks\\\"]=true, this.model[\\\"clicks\\\"](val)) : undefined})\"]},\"systemjs_options\":null,\"mount_callbacks\":[\"function () {\\n    var handler = (function (ko, koPunches) {\\n    ko.punches.enableAll();\\n    ko.bindingHandlers.numericValue = {\\n        init: function(element, valueAccessor, allBindings, data, context) {\\n            var stringified = ko.observable(ko.unwrap(valueAccessor()));\\n            stringified.subscribe(function(value) {\\n                var val = parseFloat(value);\\n                if (!isNaN(val)) {\\n                    valueAccessor()(val);\\n                }\\n            });\\n            valueAccessor().subscribe(function(value) {\\n                var str = JSON.stringify(value);\\n                if ((str == \\\"0\\\") && ([\\\"-0\\\", \\\"-0.\\\"].indexOf(stringified()) >= 0))\\n                     return;\\n                 if ([\\\"null\\\", \\\"\\\"].indexOf(str) >= 0)\\n                     return;\\n                stringified(str);\\n            });\\n            ko.applyBindingsToNode(\\n                element,\\n                {\\n                    value: stringified,\\n                    valueUpdate: allBindings.get('valueUpdate'),\\n                },\\n                context,\\n            );\\n        }\\n    };\\n    var json_data = {\\\"loading\\\":WebIO.getval({\\\"name\\\":\\\"loading\\\",\\\"scope\\\":\\\"16833075980551959305\\\",\\\"id\\\":\\\"7135398227941034493\\\",\\\"type\\\":\\\"observable\\\"}),\\\"clicks\\\":WebIO.getval({\\\"name\\\":\\\"clicks\\\",\\\"scope\\\":\\\"16833075980551959305\\\",\\\"id\\\":\\\"3256176417877600976\\\",\\\"type\\\":\\\"observable\\\"})};\\n    var self = this;\\n    function AppViewModel() {\\n        for (var key in json_data) {\\n            var el = json_data[key];\\n            this[key] = Array.isArray(el) ? ko.observableArray(el) : ko.observable(el);\\n        }\\n        \\n        \\n        [this[\\\"loading\\\"].subscribe((function (val){!(this.valueFromJulia[\\\"loading\\\"]) ? (WebIO.setval({\\\"name\\\":\\\"loading\\\",\\\"scope\\\":\\\"16833075980551959305\\\",\\\"id\\\":\\\"7135398227941034493\\\",\\\"type\\\":\\\"observable\\\"},val)) : undefined; return this.valueFromJulia[\\\"loading\\\"]=false}),self),this[\\\"clicks\\\"].subscribe((function (val){!(this.valueFromJulia[\\\"clicks\\\"]) ? (WebIO.setval({\\\"name\\\":\\\"clicks\\\",\\\"scope\\\":\\\"16833075980551959305\\\",\\\"id\\\":\\\"3256176417877600976\\\",\\\"type\\\":\\\"observable\\\"},val)) : undefined; return this.valueFromJulia[\\\"clicks\\\"]=false}),self)]\\n        \\n    }\\n    self.model = new AppViewModel();\\n    self.valueFromJulia = {};\\n    for (var key in json_data) {\\n        self.valueFromJulia[key] = false;\\n    }\\n    ko.applyBindings(self.model, self.dom);\\n}\\n);\\n    (WebIO.importBlock({\\\"data\\\":[{\\\"name\\\":\\\"knockout\\\",\\\"type\\\":\\\"js\\\",\\\"url\\\":\\\"\\/assetserver\\/727383f2a47bd31570b7da84eee7b022dd6d7c78-knockout.js\\\"},{\\\"name\\\":\\\"knockout_punches\\\",\\\"type\\\":\\\"js\\\",\\\"url\\\":\\\"\\/assetserver\\/382b41b3b1bd9f26f75861d360bad7f8beea211f-knockout_punches.js\\\"}],\\\"type\\\":\\\"async_block\\\"})).then((imports) => handler.apply(this, imports));\\n}\\n\"],\"observables\":{\"loading\":{\"sync\":false,\"id\":\"7135398227941034493\",\"value\":false},\"clicks\":{\"sync\":true,\"id\":\"3256176417877600976\",\"value\":0}}},\"children\":[{\"props\":{\"attributes\":{\"data-bind\":\"click: function (){this.clicks(this.clicks()+1)}, css: {'is-loading' : loading}\"},\"className\":\"is-medium button is-primary\",\"style\":{}},\"nodeType\":\"DOM\",\"type\":\"node\",\"instanceArgs\":{\"namespace\":\"html\",\"tag\":\"button\"},\"children\":[\"reset\"]}]}]},{\"props\":{\"className\":\"interact-widget\"},\"nodeType\":\"DOM\",\"type\":\"node\",\"instanceArgs\":{\"namespace\":\"html\",\"tag\":\"div\"},\"children\":[{\"props\":{},\"nodeType\":\"Scope\",\"type\":\"node\",\"instanceArgs\":{\"imports\":{\"data\":[{\"name\":null,\"type\":\"js\",\"url\":\"\\/assetserver\\/dd22ed1bf1896c2748f3fe616ce0b838adc895c1-katex.min.js\"},{\"name\":null,\"type\":\"css\",\"url\":\"\\/assetserver\\/46517a424aa5e6cffc1360d7e0848b601c584ee3-katex.min.css\"}],\"type\":\"async_block\"},\"id\":\"4957018086983676082\",\"handlers\":{\"value\":[\"(function (txt){return this.k.render(txt,this.container)})\"]},\"systemjs_options\":null,\"mount_callbacks\":[\"function () {\\n    var handler = ((function (k){this.k=k; this.container=this.dom.querySelector(\\\"#container\\\"); return k.render(\\\"\\\\\\\\;\\\\\\\\;\\\",this.container)}));\\n    (WebIO.importBlock({\\\"data\\\":[{\\\"name\\\":null,\\\"type\\\":\\\"js\\\",\\\"url\\\":\\\"\\/assetserver\\/dd22ed1bf1896c2748f3fe616ce0b838adc895c1-katex.min.js\\\"},{\\\"name\\\":null,\\\"type\\\":\\\"css\\\",\\\"url\\\":\\\"\\/assetserver\\/46517a424aa5e6cffc1360d7e0848b601c584ee3-katex.min.css\\\"}],\\\"type\\\":\\\"async_block\\\"})).then((imports) => handler.apply(this, imports));\\n}\\n\"],\"observables\":{\"value\":{\"sync\":false,\"id\":\"12132973633912723328\",\"value\":\"\\\\;\\\\;\"}}},\"children\":[{\"props\":{\"id\":\"container\"},\"nodeType\":\"DOM\",\"type\":\"node\",\"instanceArgs\":{\"namespace\":\"html\",\"tag\":\"div\"},\"children\":[]}]}]},{\"props\":{\"className\":\"field interact-widget\"},\"nodeType\":\"DOM\",\"type\":\"node\",\"instanceArgs\":{\"namespace\":\"html\",\"tag\":\"div\"},\"children\":[{\"props\":{},\"nodeType\":\"Scope\",\"type\":\"node\",\"instanceArgs\":{\"imports\":{\"data\":[{\"name\":\"knockout\",\"type\":\"js\",\"url\":\"\\/assetserver\\/727383f2a47bd31570b7da84eee7b022dd6d7c78-knockout.js\"},{\"name\":\"knockout_punches\",\"type\":\"js\",\"url\":\"\\/assetserver\\/382b41b3b1bd9f26f75861d360bad7f8beea211f-knockout_punches.js\"},{\"name\":null,\"type\":\"js\",\"url\":\"\\/assetserver\\/5ab20f1060420992a9b82a65b735dee4d81ef413-all.js\"},{\"name\":null,\"type\":\"css\",\"url\":\"\\/assetserver\\/1cc0ed62837210b80a182cc3676512f895dab686-style.css\"},{\"name\":null,\"type\":\"css\",\"url\":\"\\/assetserver\\/2eee816f616df3549d7044d45e744fbf8d42bfa1-bulma_confined.min.css\"}],\"type\":\"async_block\"},\"id\":\"3632359482492178090\",\"handlers\":{\"loading\":[\"(function (val){return (val!=this.model[\\\"loading\\\"]()) ? (this.valueFromJulia[\\\"loading\\\"]=true, this.model[\\\"loading\\\"](val)) : undefined})\"],\"clicks\":[\"(function (val){return (val!=this.model[\\\"clicks\\\"]()) ? (this.valueFromJulia[\\\"clicks\\\"]=true, this.model[\\\"clicks\\\"](val)) : undefined})\"]},\"systemjs_options\":null,\"mount_callbacks\":[\"function () {\\n    var handler = (function (ko, koPunches) {\\n    ko.punches.enableAll();\\n    ko.bindingHandlers.numericValue = {\\n        init: function(element, valueAccessor, allBindings, data, context) {\\n            var stringified = ko.observable(ko.unwrap(valueAccessor()));\\n            stringified.subscribe(function(value) {\\n                var val = parseFloat(value);\\n                if (!isNaN(val)) {\\n                    valueAccessor()(val);\\n                }\\n            });\\n            valueAccessor().subscribe(function(value) {\\n                var str = JSON.stringify(value);\\n                if ((str == \\\"0\\\") && ([\\\"-0\\\", \\\"-0.\\\"].indexOf(stringified()) >= 0))\\n                     return;\\n                 if ([\\\"null\\\", \\\"\\\"].indexOf(str) >= 0)\\n                     return;\\n                stringified(str);\\n            });\\n            ko.applyBindingsToNode(\\n                element,\\n                {\\n                    value: stringified,\\n                    valueUpdate: allBindings.get('valueUpdate'),\\n                },\\n                context,\\n            );\\n        }\\n    };\\n    var json_data = {\\\"loading\\\":WebIO.getval({\\\"name\\\":\\\"loading\\\",\\\"scope\\\":\\\"3632359482492178090\\\",\\\"id\\\":\\\"17522526787019710111\\\",\\\"type\\\":\\\"observable\\\"}),\\\"clicks\\\":WebIO.getval({\\\"name\\\":\\\"clicks\\\",\\\"scope\\\":\\\"3632359482492178090\\\",\\\"id\\\":\\\"5034944410753229429\\\",\\\"type\\\":\\\"observable\\\"})};\\n    var self = this;\\n    function AppViewModel() {\\n        for (var key in json_data) {\\n            var el = json_data[key];\\n            this[key] = Array.isArray(el) ? ko.observableArray(el) : ko.observable(el);\\n        }\\n        \\n        \\n        [this[\\\"loading\\\"].subscribe((function (val){!(this.valueFromJulia[\\\"loading\\\"]) ? (WebIO.setval({\\\"name\\\":\\\"loading\\\",\\\"scope\\\":\\\"3632359482492178090\\\",\\\"id\\\":\\\"17522526787019710111\\\",\\\"type\\\":\\\"observable\\\"},val)) : undefined; return this.valueFromJulia[\\\"loading\\\"]=false}),self),this[\\\"clicks\\\"].subscribe((function (val){!(this.valueFromJulia[\\\"clicks\\\"]) ? (WebIO.setval({\\\"name\\\":\\\"clicks\\\",\\\"scope\\\":\\\"3632359482492178090\\\",\\\"id\\\":\\\"5034944410753229429\\\",\\\"type\\\":\\\"observable\\\"},val)) : undefined; return this.valueFromJulia[\\\"clicks\\\"]=false}),self)]\\n        \\n    }\\n    self.model = new AppViewModel();\\n    self.valueFromJulia = {};\\n    for (var key in json_data) {\\n        self.valueFromJulia[key] = false;\\n    }\\n    ko.applyBindings(self.model, self.dom);\\n}\\n);\\n    (WebIO.importBlock({\\\"data\\\":[{\\\"name\\\":\\\"knockout\\\",\\\"type\\\":\\\"js\\\",\\\"url\\\":\\\"\\/assetserver\\/727383f2a47bd31570b7da84eee7b022dd6d7c78-knockout.js\\\"},{\\\"name\\\":\\\"knockout_punches\\\",\\\"type\\\":\\\"js\\\",\\\"url\\\":\\\"\\/assetserver\\/382b41b3b1bd9f26f75861d360bad7f8beea211f-knockout_punches.js\\\"}],\\\"type\\\":\\\"async_block\\\"})).then((imports) => handler.apply(this, imports));\\n}\\n\"],\"observables\":{\"loading\":{\"sync\":false,\"id\":\"17522526787019710111\",\"value\":false},\"clicks\":{\"sync\":true,\"id\":\"5034944410753229429\",\"value\":0}}},\"children\":[{\"props\":{\"attributes\":{\"data-bind\":\"click: function (){this.clicks(this.clicks()+1)}, css: {'is-loading' : loading}\"},\"className\":\"is-medium button is-primary\",\"style\":{}},\"nodeType\":\"DOM\",\"type\":\"node\",\"instanceArgs\":{\"namespace\":\"html\",\"tag\":\"button\"},\"children\":[\"save\"]}]}]}]}]},{\"props\":{\"className\":\"interact-widget\"},\"nodeType\":\"DOM\",\"type\":\"node\",\"instanceArgs\":{\"namespace\":\"html\",\"tag\":\"div\"},\"children\":[{\"props\":{},\"nodeType\":\"Scope\",\"type\":\"node\",\"instanceArgs\":{\"imports\":{\"data\":[{\"name\":null,\"type\":\"js\",\"url\":\"\\/assetserver\\/dd22ed1bf1896c2748f3fe616ce0b838adc895c1-katex.min.js\"},{\"name\":null,\"type\":\"css\",\"url\":\"\\/assetserver\\/46517a424aa5e6cffc1360d7e0848b601c584ee3-katex.min.css\"}],\"type\":\"async_block\"},\"id\":\"4957018086983676082\",\"handlers\":{\"value\":[\"(function (txt){return this.k.render(txt,this.container)})\"]},\"systemjs_options\":null,\"mount_callbacks\":[\"function () {\\n    var handler = ((function (k){this.k=k; this.container=this.dom.querySelector(\\\"#container\\\"); return k.render(\\\"\\\\\\\\;\\\\\\\\;\\\",this.container)}));\\n    (WebIO.importBlock({\\\"data\\\":[{\\\"name\\\":null,\\\"type\\\":\\\"js\\\",\\\"url\\\":\\\"\\/assetserver\\/dd22ed1bf1896c2748f3fe616ce0b838adc895c1-katex.min.js\\\"},{\\\"name\\\":null,\\\"type\\\":\\\"css\\\",\\\"url\\\":\\\"\\/assetserver\\/46517a424aa5e6cffc1360d7e0848b601c584ee3-katex.min.css\\\"}],\\\"type\\\":\\\"async_block\\\"})).then((imports) => handler.apply(this, imports));\\n}\\n\"],\"observables\":{\"value\":{\"sync\":false,\"id\":\"12132973633912723328\",\"value\":\"\\\\;\\\\;\"}}},\"children\":[{\"props\":{\"id\":\"container\"},\"nodeType\":\"DOM\",\"type\":\"node\",\"instanceArgs\":{\"namespace\":\"html\",\"tag\":\"div\"},\"children\":[]}]}]},{\"props\":{},\"nodeType\":\"Scope\",\"type\":\"node\",\"instanceArgs\":{\"imports\":{\"data\":[],\"type\":\"async_block\"},\"id\":\"10829188174582648947\",\"handlers\":{\"obs-output\":[\"function (value, scope) {\\n    scope.setInnerHTML(value);\\n}\\n\"]},\"systemjs_options\":null,\"mount_callbacks\":[],\"observables\":{\"obs-output\":{\"sync\":false,\"id\":\"12003659341220058328\",\"value\":\"<img src='data:image\\/png;base64,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'><\\/img>\"}}},\"children\":[{\"props\":{\"className\":\"webio-observable\",\"setInnerHtml\":\"<img src='data:image\\/png;base64,iVBORw0KGgoAAAANSUhEUgAAAa4AAAGuCAIAAABHl3XNAAAABmJLR0QA\\/wD\\/AP+gvaeTAAAgAElEQVR4nO3dP2gbWb\\/\\/8c+KOyOEIEiFUkgBBUQab2C17aaIq9QypNpGvdPcmzKVq5S+t4mbFGZ7g1OnylO4UeXCqYKQDJEKq9AQJAbNwOhXBHJ3f7s756v7nDwzj\\/1+4fLL+ej8me96Zebkh+12KwC42ypFfwAAKB6tEABohQBAKwQA0QoBQLRCABCtEABEKwQA0QoBQLRCABCtEABEKwQA0QoBQLRCAJD0HztV\\/8\\/l\\/1w2LvNrmmnz+c3zTqfjHG02m92\\/fz8IgvyyKIo+6IMl9+nN03edd87cwWzw4\\/0fLbmSGo1Gflmapjc3N8b5nt0\\/WwbL\\/LJ+1Jfkd5395ha1zh9vPvrNNZ6ros6z9\\/3d136Zz7P9XP3j\\/j8suf\\/Z\\/0\\/naN\\/s1govG5e\\/Pfwtv6a77v4a\\/frw4UPnaIvFot1u1+v1\\/LLpdHopU+5P0U\\/OMkn7i31jriTnRNbrdRRFxvmet8+v69eOuqkk+V1nv7lFrfNFdOE313iuijrP3vd3oEGZz7P9XNlz7fgfZACgFQIArRAARCsEANEKAUC0QgAQrRAARCsEANEKAUC0QgDQri\\/eNdNmd93Nr+nEnSzL1uu1c7Qsy+I4dpaladqUKTfMQmeZpDALjbmSnBOJ49g+307sfrWzmTYl+V1nv7lFrbP3XOO5Kuo8e9\\/fVGmZz7N9f+25dj9st1t79buLd1EY5deEWfhg86BWqzlHi+O4Wq1WKo7fTJMkWWhR5tzWpjWrzZy5nbizqC6SSpJf1kgaLbXCMMwvy7Lsy+ZLIbmbzca4zp+rny25kvyu873qPcv+SipknWWbr\\/083451tp8r4\\/P75MkT52j\\/a7uL4WSorfJ\\/uqvuaDSyjDYajVarlbNsMpmUPPd0dOos01ano9PuqussG06Gk8nE+fFWq1VRufZ1NuZ6X2fj\\/ha1zt7P8+1YZ+\\/Pr2W0b\\/iuEAD4swkA0AoBQLRCABCtEABEKwQA0QoBQLRCABCtEABEKwQA0QoBQFzH4CWX6xj+0q25JoDrGP7SLbuOYbdLun68\\/2O73c6vieP4\\/fj9q71XztFeX71+1nvmnPx8Pj\\/T2Xn7PL+sE3dejF8Ukns8Pv5l7xdn7tXV1VHvyHnIDuYHksqc632dJRnP1dHekSX3597PltwTnRSyzoc69Pscvem9KeRcvey9LORcGef7RN+tFQZBUK\\/XnWVJJbmuX1vKarWac8AgCJZaGgcsJLdSqViWpVKpzGoz54DLYCmpzLne11lSmc+V93UO5Pk5umvnyp5rx3eFAEArBABaIQCIVggAohUCgGiFACBaIQCIVggAohUCgGiFAKBdX7yLomg6nebXpGnaSBrD6dA5WiNpzOfzr+9d5Yf21ZcjVs20WVRukiTOZZGUJMnB\\/MD5PlA\\/6ksqc673dZZU5nPlfZ0jeX6O7tq52iHXbLdW+EEfLnWZX9NU86meGgc80clSrimpv6\\/9gQb5ZanSj\\/pYVO5bvXWGDjQ41GEg1yOq6Guxx1xnzU5aah3pyFk2k\\/t2k6+M5+q5nvvN9b6\\/xlzvjOfqgz5YRlto4fc8G3Pt58r+HO1gu4vhZKit8n+6q+7p6NRZpq1OR6fdVddZNpwMJ5OJ87OtVqvy565WK+eAk8mkqPka93c0Gjk\\/3na7HY1GxvkWlXvXzpX357fk+2sZ7Ru+KwQA\\/mwCALRCABCtEABEKwQA0QoBQLRCABCtEABEKwQA0QoBQLu+g9xMm911N7+mE3fCLHSWSQqzsBN3LKGp0vV6nV8Wx3H5c+M4dpalaSqpkPlKsuxvlmXOjycpyzLjfJsynSvvuSponYs6V8Z1Lir3e+yv3Q\\/b7dZe\\/e7iXRQ6XnIOs\\/DB5kGtVnOOFsdxtVqtVBy\\/mSZJstDCktvatGY196v4nbizqC6SSpJf1kgakgqZr6QwDPPLsiz7svlS8vl+rn625LbUssx3s9mU\\/Fzdq94r8\\/4a1\\/nW5A6e7HJBxk5vLJf8df1bcz3BrbmOwe\\/1BOU\\/VyXf37uW6wz9Pb4rBAD+bAIAtEIAEK0QAEQrBADRCgFAtEIAEK0QAEQrBADRCgFAtEIAENcx5OA6hr\\/EdQx\\/h+sYypa703UMu7XCT58+tdvt\\/Jo4jt+P3796\\/Mo52uur1296b5yTP5gfSDpvn+eXdeLO8fj48ePHztyrq6uXvZcec1+MXxjn+6z3zPkwz+dzSX7X2Zh7opNC5mvMte9vr9crJLeoc2V8jg51aDlX4\\/G45OtszH306JFztG92u68wCIJ6ve4sSyrJdf3aUjarzZyVy2ApyTJgpVKxfLxKpeI31z7fWq3m\\/IRBEEjyu87G3KWWhczXmGvf36JyizpXxtxApue3\\/Otsf47s+K4QAGiFAEArBADRCgFAtEIAEK0QAEQrBADRCgFAtEIAEK0QALTri3dRFE2n0\\/yaNE0bSWM4HTpHaySNg\\/nB1\\/eQcvSjviQ5YtVMm0mSOD+epCRJ\\/Oba5zufz53vA0VRJMnvOhtz++oXMl9jrn1\\/i8ot6lwZcyOZnt\\/yr7P9ObLbrRV+0IdLXebXNNV8rudHOnKONpP7Forv5FCHgVxLqeiDPvxLPs7\\/UUstv+u8r\\/2BHJd5pEpvdFNI7kd9fKu3ztEGGpzpbClXa1Df+PHsSn6u7M+vccATnVjW2X6u\\/ObutMW7tcLLxuVvD3\\/Lr+muu79Gvz58+NA52mKxOG+fu9\\/TnkqS39x2u+18nXs6nV7KNN+fop+cZZL2F\\/vGXEnOiazX6yiK\\/M635LkX0YVxne\\/auSpqvsbcgQZ+z5V9vnZ8VwgAtEIAoBUCgGiFACBaIQCIVggAohUCgGiFACBaIQCIVggA2vXFu2ba7K67+TWduJNl2Xq9do6WZVkn7lhCJfnNjePYWZamaVOm+YZZ6CyTFGahMVeScyJxHHufb8lz7et8185VUfM15qZK\\/Z4r+3ztfthut\\/bqdxfvotBx30OYha1Na1Zzv4rfiTv3qvcqFcdvpkmSLLSw5D7YPKjVas7cOI4\\/Vz8nlSS\\/rJE0WmqFYZhflmXZl80X43wX1YUlV1Ih8zXm3pr9le\\/5GvfXeK42m41xvtVq1bLOkvzm+n2OvOcOnjjugPiD7S6Gk6G2yv\\/prrqno1NnmbY6HZ2uVitn6GQyMeaORiPLLEajUXfVdQ44nAwnk4lztNVqZZ+vMbeo+d61\\/fU+X7\\/nyj5f4zp7zy1qvsZcy2jf8F0hAPBnEwCgFQKAaIUAIFohAIhWCACiFQKAaIUAIFohAIhWCACiFQKAuI4hB9cx\\/F3urdlfcR3DP5d7m65j2O2Srn\\/c\\/8d5+zy\\/phN3jsfHv+z94hzt6urqZe+l85AdzA8Oddhut\\/PL4jh+P37\\/au+VM\\/f11etnvWfORZ\\/P55KMuUd7R5bcN703hczXmCvJ7\\/72ej3LOp\\/pzJi7t7dnyTXu74lOLLkvxi+M++v3XI3HY+N8jc+RbPv7YvzC73NkXGfv++sc6vd2a4XLYHldv3aWVSqVer1uKZvVZs4Bl8EyUGAZMKkklo+XVJJareYcMAgCSX5zi5qvMVeS3\\/01rvNSns+V39yizpX350i2\\/fU+36L21znUH4bdqRoAbiVaIQDQCgGAVggAohUCgGiFACBaIQCIVggAohUCgGiFAKBdX7zrR31NHTXNtJkkyXTqqpOSJDmYH3x9Hyg\\/NFLkHDBN00bSGE6HztxG0pjP5873cqIokuQ3t6j5GnMl+d1f4zr35flc+c0t6lx5f44k0\\/56n29R++sc6vd2a4X72h\\/IcdlDqvSjPr7VW+dozqG++aAPl7rMr2mq+VRPjQOe6GQp19FRf1\\/7xgGNDnUYyLWFiozzfa7nRzpyhs7kvlXlOzGus3G0hRbGc3WmM+P+Gs+z8ROW\\/FzJ8NClSm904\\/dcGdf5RjfGAb+H3Vpho9F4+PBhfs16vb6ILn57+JtztP3F\\/nn73P2e9lSSnAN2192fop\\/85g408DvfdrvtfI18Op1e6tIy31+jX50fT9JisfC7zkXlln9\\/\\/eZGUWRcZ+O5knTXcu34rhAAaIUAQCsEANEKAUC0QgAQrRAARCsEANEKAUC0QgAQrRAAtOuLd2martfr\\/Jo4jsMs7K67ztHCLOzEHWdZM21Kcg7YiTvec1N5nm8cx86yNE2balrmm2WZ8+NJyrLM7zoXlVv+\\/fWba19n47mSdNdy7X7Ybrf26ncX76LQcd9DmIUPNg+c\\/3a9pDiOq9VqpeL4zTRJkoUWltzWpjWruV8R78Sde9V7llxJYRjml2VZ9mXzxW+ucb7e11m+57uoLpJKkl\\/WSBottSy5m82mkPkWlVv+df5c\\/WzJleT3PBtzB0+sF75I0nYXw8lQW+X\\/dFfd0WhkGW00Gq1WK2fZZDIx5p6OTp1l2up0dGrMnUwmzrLVauU9t6h19j7f7qrrLBtOhsbcoubLOv+l0WhkzPV+no25ltG+4btCAODPJgBAKwQA0QoBQLRCABCtEABEKwQA0QoBQLRCABCtEABEKwQAcR1Dfq64juFP\\/i2uCeA6hj\\/jOoZ8u13S9eP9H9vtdn5NHMfvx+9f7b1yjvb66vWz3jPn5Ofz+ZnOztvn+WWduPNi\\/OJo78iSe9Q7ch6yg\\/mBJL+5P\\/d+9jtfv+ssybK\\/4\\/H4l71fnLlXV1fe19k43ze9N4XkGtf5RCeW3OPxsXGdjedK5v3d29uz5Ppd5+Pxsd\\/cgb5bKwyCoF6vO8uSSnJdv7aU1Wo154BBECy1NA5oLJvVZs7KZbCU5De3qPkacyVZ9rdSqRjLilrn27G\\/9nW+Hfv7PXLt+K4QAGiFAEArBADRCgFAtEIAEK0QAEQrBADRCgFAtEIAEK0QALTri3dRFE2n0\\/yaNE0bSWM4HTpHaySN+Xz+9X2g\\/NC++nLEqpk27bkH8wPnezn9qC\\/Jb25R8zXmSrLsb5IkzjJJSZIUtc63Y3\\/t63w79ve75Jrt1go\\/6MOlLvNrmmo+1\\/MjHTlHm8l968ZX+9p3vlmdKv2oj8YBD3UYyHV0FH3QB8toLbVKPl+\\/Flq81Vtn2UAD4zp\\/Lc4vK3B\\/vbPvr3Gdz3S2lKs1qL+vfcvHs++vZTR9h\\/naz9UOtrsYTobaKv+nu+qORiPLaKPRaLVaOcsmk8lkMnGWrVar09Gp8+Npq9PRqTH3rs33ruUa97f88+2uus6y4WR4a3KN6+ys+T2+KwQA\\/mwCALRCABCtEABEKwQA0QoBQLRCABCtEABEKwQA0QoBQLu+g9xMm911N7+mE3eyLFuv187RsiyL49hZlqapJOeAcRyHWej8eJLCLDTmNnW35nvXco37W\\/75duKOs6yZNlOltyPXvs52P2y3W3v1u4t3Ueh4yTnMwtam5fy36yV14s696r1KxfGbaZIkksIwzC\\/LsuzL5kvJcxfVRVJJ8ssaSUNSIeu80MJvrnG+LbUK2d+i5quC9le287zZbGq1mjM3juNqtVrm52jwxHphhKTvch1D+V9fL\\/lr80Wts\\/fckr+uX9R8S\\/4clf96EeM6W2bxDd8VAgB\\/NgEAWiEAiFYIAKIVAoBohQAgWiEAiFYIAKIVAoBohQAgWiEAiOsY\\/sW5JX9dn+sY\\/ozrGP7OLbuOYbdLun68\\/2O73c6vieN4PB7\\/sveLc7Srq6uXvZfOyR\\/MDySdt8\\/zyzpx53h8bMzt9XrOzZ7P5yc6seS+GL842jty5r6+ev2s96yQ3J97P1ty7+u+3\\/096h153F\\/v8z3Tmd9zZcyVZFnn9+P3fudrPFfH4+O9vT1nboHP0ZveG8u5Gui7tcIgCOr1urOsUqkYy2a12XX9Or9sGSwlOct2yq3Vas7KIAiWWlpyk0piLCt5rqQy729R6+z9XMm2zrdmvt7Ps\\/1c2fFdIQDQCgGAVggAohUCgGiFACBaIQCIVggAohUCgGiFACBaIQBo1xfvoiiaTqf5NWmaJkniLJOUJMnB\\/MD5fkw\\/6kuSa7xm2rTnzufzr+8\\/5YiiqK++JbeRNIbToTO3kTRKniupzPtb1Dp7P1eyrfOtma\\/387zDuTLbrRUaLbR4q7fOsp1elvabe1\\/3Pea21DrSkbNsJvetG1\\/ta9+5OKnSj\\/poHPBEJ0u5jo76ki51mV\\/WVPO5nhtzD3UYyPWoKJLhMKRKb3RjXGfjfO3rbDxXZzoz5jpH0y7nyu98b3Rj+XjeeX+OdrJbK2w0Gg8fPsyvWa\\/XF9HFbw9\\/c462v9g\\/b5+7X8CeSpJzwO66+1P0kzG33W47XyOfTqeXurTk\\/hr96lwWSYvFwpgrqczrXNR8oygy5hrnO9CgkHU25hY1X3tuUc+R\\/Tzb8V0hANAKAYBWCACiFQKAaIUAIFohAIhWCACiFQKAaIUAIFohAGjXF+\\/SNF2v1\\/k1cRyHWdhdd52jhVnYiTvOsmbalOQcsBN37LlxHDvL0jRtqmnJzbLMuSySsiwz5koq8zoXNV97rnG+qYo5z8bcoubrfX+9P0f282z3w3a7tVe\\/u3gXhVF+TZiFDzYParWac7Q4jqvVaqXi+M00SRJJYRjml2VZ9mXzZVZzv6rdiTuL6iKpJPlljaQhqczz3Ww2JV\\/ne9V7ltyFFoWsc1G58r2\\/n6ufCznPxtyWWoU8v4Mnu1z4st3FcDLUVvk\\/3VV3NBpZRhuNRqvVylk2mUwmk4mzbLVanY5OnR9PW52OTrurrrNsOBmWfL7lX2djblHrfGv2t6jzbMwt6vm1zOIbvisEAP5sAgC0QgAQrRAARCsEANEKAUC0QgAQrRAARCsEANEKAUC0QgAQ1zHk4DqGv8vlOoZ\\/Mldcx\\/AnhV\\/HsNslXf+4\\/4\\/z9nl+TSfuvBi\\/eLX3yjna66vXb3pvnJM\\/mB8c6rDdbueXxXE8Ho9\\/2fvFmXt1dXXUO\\/KY+3783jjfZ71nzkM2n88lGee7t7fnzL26unrZe1nIOvvNta+z33PlfX9PdGJ5jo7Hx8b99Ztrf369z9fv8zvQd2uFy2B5Xb92liWVxFg2q82clctgGSio1+vOASuVirHMb659vrVazTlgEASSyjzf8q9zyfd3KdNzZF9nv7nln69xf51D\\/WHYnaoB4FaiFQIArRAAaIUAIFohAIhWCACiFQKAaIUAIFohAIhWCADa9cW7ftTX1FHTTJuNpDGcDp2jNZLGwfzA+X5MP+pHiqZTR3CapkmSOMskJUniN9c+3\\/l8\\/vW9uhxRFEkq83zLv84l39++TM+RfZ395pZ\\/vsb9dQ71e7u1QqOWWkc6cpbN5L6FYicLLd7qrbNsoMGhDgO5tlCOOzz+D050spRrC9Xf175ltKLm6z33gz5c6jK\\/rKnmcz03nquicu3767wpIFV6oxtn6G1S8PO73cVwMtRW+T\\/dVXc0GllGG41G3VXXOeBwMpxMJs7RVqvV6ejUOZq2Oh2drlYr54CTycR77l2brzHX+7kqKtfv\\/hY136L213uuZfW+4btCAODPJgBAKwQA0QoBQLRCABCtEABEKwQA0QoBQLRCABCtEAC06zvIzbTZXXfzazpxJ8uy9XrtHC3Lsk7csYSmSp0DxnEcZqHz40kKszCOY2dZmqaS\\/Obetfkac5vyfK6KyvW7v0XNt6j9\\/R7n2e6H7XZrr764uAjDML8my7LNZlOr1ZyjxXFcrVYrFcdvpkmSLLSIQsfL1WEWPtg8MOZ+rn5OKkl+WSNpSLLktjatWc19tUQn7iyqC0tuSy3LOn\\/ZfPGbK9t87ets3F9JZZ6vfX\\/vVe8VMt+icotaZ2Pu4Injzos\\/2OmN5ZK\\/Ru79tXnvr5EXdR2D3\\/l639+Sz\\/fWXHtxa9bZmOuc7O\\/xXSEA8GcTAKAVAoBohQAgWiEAiFYIAKIVAoBohQAgWiEAiFYIAKIVAoC4jiEH1zH8Ja5jyMnlOoY\\/+3e5jmG3Vvjp06d2u51fE8fx+\\/H7V49fOUd7ffX6We+Z86Gaz+eSLLnj8fjx48fO3Kurq16vZ8k90cl5+zy\\/rBN3XoxfGOf7pvfGudkH8wNJltzj8bFxvi97Ly25hzr0u84lz5Vtne37azzPxnNl39+7dp6N83306JFztG92u68wCIJ6ve4sSyrJdf3aUlar1ZwDBkEgyZJbqVSMZcbcpZbGiRjLZrWZs3IZLCVZBrTP15gbyLS\\/tyZXtnX2fp6N54rz\\/Hdl9r5hx3eFAEArBABaIQCIVggAohUCgGiFACBaIQCIVggAohUCgGiFAKBdX7yLomg6nebXpGnaSBrD6dA5WiNpzOdz5\\/sxURRJsuQmSeIsk5QkiTG3r75c4zXTpn2+B\\/ODr+8h5ehHfUmWXPt8jbmRTPt7a3Il0zp7P8\\/Gc8V5\\/kv2+TqH+r3dWuEHfbjUZX5NU83nen6kI+doM7lvobib9rU\\/kONSjVTpR318q7fO0QYaHOowkOvoKLLvrzP0K7+5T\\/XUOF\\/jxzOu841ujOf5RCdLuVqD+t7390xnllznULuy76\\/3aP+2uxhOhtoq\\/6e76o5GI8too9FotVo5yyaTyWQycZatVivvucb5no5OnWXa6nR02l11nWXDydA4X3uu3\\/netXW2z7eo\\/TXmel\\/nkp8ry2jf8F0hAPBnEwCgFQKAaIUAIFohAIhWCACiFQKAaIUAIFohAIhWCADa9R3kZtrsrrv5NZ24k2XZer12jpZlWRzHzrI0TSU5B4zj2HtuU6b5hlnoLJMUZmEn7jjLmmkzVWqZrz3X73zv2jrb51vU\\/hpzJfld55KfK2fN7\\/2w3W7t1RcXF2EY5tdkWbbZbJz\\/dr2kOI6r1Wql4vjNNEmShRZR6LhnIszCB5sHfnMl3Y75fq5+TipJflkjabTUssz3y+bLrOa+SqMTd+5V77HO\\/59G0pBkyW1tWsZ1XlQXheyv31z7\\/hrXefDEejGHpN2uYyj5tQh37RqI8l8TwDr\\/a65FKPk1EEVde2EZ7Ru+KwQA\\/mwCALRCABCtEABEKwQA0QoBQLRCABCtEABEKwQA0QoBQLRCABDXMeTn6o5dE8B1DH\\/GdQz\\/stxir2PYrRV++vSp3W7n18Rx\\/H78\\/tXjV87RXl+9ftN741z0g\\/nBoQ795j7rPXMu+nw+P9HJefs8v6wTd47Hx48fP3bmXl1dvey9LGS+JV9nSWXOHY\\/Hxv3t9XplzvV+nks+30ePHjlH+2a3+wqDIKjX686ypJJc168tZbPazFm5DJaBPOfWajXngEEQLLW0DFipVCwfr1KpFDXfkq+zpDLn2ve35Lnez3PJ5+sc6g\\/D7lQNALcSrRAAaIUAQCsEANEKAUC0QgAQrRAARCsEANEKAUC0QgDQri\\/eRVE0nU7za9I0bSSN4XToHK2RNA7mB8tgmV\\/Wj\\/qRPOfO53PnezlRFPXVlyNWzbSZJInz40lKkqSo+ZZ8nSWVOde+vyXP9X6eSz5f51C\\/t1srNGqpdaQjZ9lM7tsvvpMTnSzlag3q72t\\/IMflFqnSG934+2i3in2d71SupEtd5pc11Xyqp2\\/11hk60OC+7ls+nvE8f9RHY+6ZzgpZ5+9iu4vJZOKsWa1Wo9HIMtpoNOquutoq\\/2c4GRpzT0enztG01eno1G\\/uXZvvXcv1vr\\/DydBZ1l117fNdrVbOjzeZTG7NOhvnaxntG74rBAD+bAIAtEIAEK0QAEQrBADRCgFAtEIAEK0QAEQrBADRCgFAu76DnKbper3Or4njOMsyZ5mkLMs6ccdZ1kybqUy5YRZ2113ngGEW+s29a\\/O9a7ne91eScyKduGOfbxzHzrI0TSXdjnW2z9fuh+12a6++uLgIwzC\\/JsuyL5svs5r7qoVO3LlXvVepOH4zTZJEkiV3s9nUajVnbhzH1WrVkrvQIgod91uEWfhg88CY+7n6Oakk+WWNpCGpzLmtTcu4v4vqoszzbanl91wVtb\\/G8yzbc+T9+TU+R97P1eCJ4+6JP9jpjWXvr3P7fY3c++vcxtfmi3pdv\\/zXBJR8viW\\/jsH7eS7q+S3qXBkW73\\/xXSEA8GcTAKAVAoBohQAgWiEAiFYIAKIVAoBohQAgWiEAiFYIAKIVAoC4jiE\\/l+sY\\/jKX6xj+yVxxHcOfFH4dw26t8L8+\\/dd5+zy\\/phN3jsfHjx8\\/do52dXX1svfSOfmD+YGkQnIPddhut\\/PL4jgej8eFzPfF+MWrx6+cua+vXr\\/pvSlkvr1ez\\/kwz+dzSWXOfT9+b1znZ71nltwTnfg9z7djnb0\\/R\\/\\/96L+do32z232Fy2B5Xb92llUqlXq9bimb1WbOAZfBUlIhuYEC44CFzDepJMayouZbq9WclUEQSCpzrn2djblLeX6Obsc6f4\\/nyI7vCgGAVggAtEIAEK0QAEQrBADRCgFAtEIAEK0QAEQrBADRCgFAu75414\\/6mjpqmmkzSZLp1FUnJUlyMD9wvh\\/Tj\\/qSCsmNFDkHTNO0qPk2ksZwOnTmNpJGUfOdz+df37vKEUWRpDLn2tfZmNuX5+fodqzzd3mOzHZrhUXZ1\\/5AjksmUqU3ujEOeKjDQK4tlOMujW8WWrzVW2fZQANj7gd9sOS21DrSkbNsppk991KX+WVNNZ\\/qqXG+93XfWVZ+9nU2Dmg8zx\\/10bjOZzpbytUa1Jd0O\\/bX7\\/P71W6t8LJx+dvD3\\/Jruuvur9GvDx8+dI62WCzO2+fu99KnGmjgHHC9XkdRZMxtt9vOF7+\\/\\/gfKknsRXTiXRdL+Yt+YeynP6+w396foJ7\\/zlW2di9rf8p8r43Mk6a7trx3fFQIArRAAaIUAIFohAIhWCACiFQKAaIUAIFohAIhWCACiFQKAdn3xrpk2u+tufk0n7mRZtl6vnaNlWdaJO5bQVKlzwDiO7blxHDvL0jSVZMkNs9C5LJLCLDTmNuV5nf3mep+vbOtc1P6W\\/1wZnyNJd21\\/7X7Ybrf26ouLizAM82uyLNtsNrVazTlaHMefq5+TSpJf1kgaLbX85lar1UrF8RtxkiQLLaLQ8VJ3mIUPNg\\/8zleSJbe1ac1q7isAOnHnXmNl6xQAAAImSURBVPWeZb6SClnnonKN+2tf50V14fE8f9l8Kfn++j3P3p+jwRPHnRd\\/sN3FZDJx1qxWq9FoZBltNBp1V11tlf8znAy9565WK2fZZDIZTobOj9dddb3P15h7Ojp1lmmr09Gpcb5FrXPJ99e+zn7Pc\\/n31+959p5rGe0bvisEAP5sAgC0QgAQrRAARCsEANEKAUC0QgAQrRAARCsEANEKAUC0QgAQ1zHk4DqGv8R1DH+H6xj+0r\\/LdQy7tcJPnz612+38mjiOx+Px48ePnaNdXV297L10bvbB\\/EDSefs8v6wTd47HxyXP7fV6zs2ez+cnOilkvoc69Lu\\/xvlKsuS+H79\\/9fiVM\\/f11etnvWcec72f56LWuahzpYKeo0ePHjlH+2a3+wqDIKjX686ySqViLJvVZtf16\\/yyZbCU5Cz7t8it1WrOyiAIlloWMt9AnvfXOF9JlgGTSmJZlqSS+M29Netc1LlSQc+Rc6g\\/DLtTNQDcSrRCAKAVAgCtEABEKwQA0QoBQLRCABCtEABEKwQA0QoBQLu+eBdF0XQ6za9J0zRJEmeZpCRJDuYHX9\\/LydGP+pLkGq+ZNsufO5\\/Pne8DRVHUV7+Q+UbyvL\\/G+Uqy5DaSxnA6dOY2kobf3FuzzkWdK6mY58g51O\\/tdh0DANxK\\/A8yANAKAYBWCACiFQKAaIUAIFohAIhWCACiFQKAaIUAIFohAIhWCACiFQKAaIUAIFohAEj6f6FWbWi2D2fbAAAAAElFTkSuQmCC'><\\/img>\"},\"nodeType\":\"DOM\",\"type\":\"node\",\"instanceArgs\":{\"namespace\":\"html\",\"tag\":\"div\"},\"children\":[]}]},{\"props\":{\"className\":\"interact-widget\"},\"nodeType\":\"DOM\",\"type\":\"node\",\"instanceArgs\":{\"namespace\":\"html\",\"tag\":\"div\"},\"children\":[{\"props\":{},\"nodeType\":\"Scope\",\"type\":\"node\",\"instanceArgs\":{\"imports\":{\"data\":[{\"name\":null,\"type\":\"js\",\"url\":\"\\/assetserver\\/dd22ed1bf1896c2748f3fe616ce0b838adc895c1-katex.min.js\"},{\"name\":null,\"type\":\"css\",\"url\":\"\\/assetserver\\/46517a424aa5e6cffc1360d7e0848b601c584ee3-katex.min.css\"}],\"type\":\"async_block\"},\"id\":\"4957018086983676082\",\"handlers\":{\"value\":[\"(function (txt){return this.k.render(txt,this.container)})\"]},\"systemjs_options\":null,\"mount_callbacks\":[\"function () {\\n    var handler = ((function (k){this.k=k; this.container=this.dom.querySelector(\\\"#container\\\"); return k.render(\\\"\\\\\\\\;\\\\\\\\;\\\",this.container)}));\\n    (WebIO.importBlock({\\\"data\\\":[{\\\"name\\\":null,\\\"type\\\":\\\"js\\\",\\\"url\\\":\\\"\\/assetserver\\/dd22ed1bf1896c2748f3fe616ce0b838adc895c1-katex.min.js\\\"},{\\\"name\\\":null,\\\"type\\\":\\\"css\\\",\\\"url\\\":\\\"\\/assetserver\\/46517a424aa5e6cffc1360d7e0848b601c584ee3-katex.min.css\\\"}],\\\"type\\\":\\\"async_block\\\"})).then((imports) => handler.apply(this, imports));\\n}\\n\"],\"observables\":{\"value\":{\"sync\":false,\"id\":\"12132973633912723328\",\"value\":\"\\\\;\\\\;\"}}},\"children\":[{\"props\":{\"id\":\"container\"},\"nodeType\":\"DOM\",\"type\":\"node\",\"instanceArgs\":{\"namespace\":\"html\",\"tag\":\"div\"},\"children\":[]}]}]},{\"props\":{\"style\":{\"display\":\"flex\",\"flex-direction\":\"column\"}},\"nodeType\":\"DOM\",\"type\":\"node\",\"instanceArgs\":{\"namespace\":\"html\",\"tag\":\"div\"},\"children\":[]}]}]},\n",
       "        window,\n",
       "    );\n",
       "    })()\n",
       "    </script>\n",
       "</div>\n"
      ],
      "text/plain": [
       "WebIO.Node{WebIO.DOM}(WebIO.DOM(:html, :div), Any[WebIO.Node{WebIO.DOM}(WebIO.DOM(:html, :div), Any[WebIO.Node{WebIO.DOM}(WebIO.DOM(:html, :div), Any[WebIO.Node{WebIO.DOM}(WebIO.DOM(:html, :div), Any[WebIO.Scope(WebIO.Node{WebIO.DOM}(WebIO.DOM(:html, :div), Any[WebIO.Node{WebIO.DOM}(WebIO.DOM(:html, :div), Any[WebIO.Node{WebIO.DOM}(WebIO.DOM(:html, :label), Any[\"time\"], Dict{Symbol, Any}(:className => \"interact \", :style => Dict{Any, Any}(:padding => \"5px 10px 0px 10px\")))], Dict{Symbol, Any}(:className => \"interact-flex-row-left\")), WebIO.Node{WebIO.DOM}(WebIO.DOM(:html, :div), Any[WebIO.Node{WebIO.DOM}(WebIO.DOM(:html, :input), Any[], Dict{Symbol, Any}(:max => 200, :min => 1, :attributes => Dict{Any, Any}(:type => \"range\", Symbol(\"data-bind\") => \"numericValue: index, valueUpdate: 'input', event: {change: function (){this.changes(this.changes()+1)}}\", \"orient\" => \"horizontal\"), :step => 1, :className => \"slider slider is-fullwidth\", :style => Dict{Any, Any}()))], Dict{Symbol, Any}(:className => \"interact-flex-row-center\")), WebIO.Node{WebIO.DOM}(WebIO.DOM(:html, :div), Any[WebIO.Node{WebIO.DOM}(WebIO.DOM(:html, :p), Any[], Dict{Symbol, Any}(:attributes => Dict(\"data-bind\" => \"text: formatted_val\")))], Dict{Symbol, Any}(:className => \"interact-flex-row-right\"))], Dict{Symbol, Any}(:className => \"interact-flex-row interact-widget\")), Dict{String, Tuple{Observables.AbstractObservable, Union{Nothing, Bool}}}(\"changes\" => (Observable(0), nothing), \"index\" => (Observable(1), nothing)), Set{String}(), nothing, WebIO.Asset[WebIO.Asset(\"js\", \"knockout\", \"/home/dushya/.julia/packages/Knockout/HReiN/src/../assets/knockout.js\"), WebIO.Asset(\"js\", \"knockout_punches\", \"/home/dushya/.julia/packages/Knockout/HReiN/src/../assets/knockout_punches.js\"), WebIO.Asset(\"js\", nothing, \"/home/dushya/.julia/packages/InteractBase/LJXv3/src/../assets/all.js\"), WebIO.Asset(\"css\", nothing, \"/home/dushya/.julia/packages/InteractBase/LJXv3/src/../assets/style.css\"), WebIO.Asset(\"css\", nothing, \"/home/dushya/.julia/packages/Interact/PENUy/src/../assets/bulma_confined.min.css\")], Dict{Any, Any}(\"changes\" => Any[WebIO.JSString(\"(function (val){return (val!=this.model[\\\"changes\\\"]()) ? (this.valueFromJulia[\\\"changes\\\"]=true, this.model[\\\"changes\\\"](val)) : undefined})\")], \"index\" => Any[WebIO.JSString(\"(function (val){return (val!=this.model[\\\"index\\\"]()) ? (this.valueFromJulia[\\\"index\\\"]=true, this.model[\\\"index\\\"](val)) : undefined})\")]), WebIO.ConnectionPool(Channel{Any}(32), Set{WebIO.AbstractConnection}(), Base.GenericCondition{ReentrantLock}(Base.IntrusiveLinkedList{Task}(Task (runnable) @0x00007f4dbbe9a0e0, Task (runnable) @0x00007f4dbbe9a0e0), ReentrantLock(nothing, 0x00000000, 0x00, Base.GenericCondition{Base.Threads.SpinLock}(Base.IntrusiveLinkedList{Task}(nothing, nothing), Base.Threads.SpinLock(0)), (0, 0, 141733920768)))), WebIO.JSString[WebIO.JSString(\"function () {\\n    var handler = (function (ko, koPunches) {\\n    ko.punches.enableAll();\\n    ko.bindingHandlers.numericValue = {\\n        init: function(element, valueAccessor, allBindings, data, context) {\\n            var stringified = ko.observable(ko.unwrap(valueAccessor()));\\n            stringified.subscribe(function(value) {\\n                var val = parseFloat(value);\\n                if (!isNaN(val)) {\\n                    valueAccessor()(val);\\n                }\\n            });\\n            valueAccessor().subscribe(function(value) {\\n                var str = JSON.stringify(value);\\n                if ((str == \\\"0\\\") && ([\\\"-0\\\", \\\"-0.\\\"].indexOf(stringified()) >= 0))\\n                     return;\\n                 if ([\\\"null\\\", \\\"\\\"].indexOf(str) >= 0)\\n                     return;\\n                stringified(str);\\n            });\\n            ko.applyBindingsToNode(\\n                element,\\n                {\\n                    value: stringified,\\n                    valueUpdate: allBindings.get('valueUpdate'),\\n                },\\n                context,\\n            );\\n        }\\n    };\\n    var json_data = {\\\"formatted_vals\\\":[\\\"1\\\",\\\"2\\\",\\\"3\\\",\\\"4\\\",\\\"5\\\",\\\"6\\\",\\\"7\\\",\\\"8\\\",\\\"9\\\",\\\"10\\\",\\\"11\\\",\\\"12\\\",\\\"13\\\",\\\"14\\\",\\\"15\\\",\\\"16\\\",\\\"17\\\",\\\"18\\\",\\\"19\\\",\\\"20\\\",\\\"21\\\",\\\"22\\\",\\\"23\\\",\\\"24\\\",\\\"25\\\",\\\"26\\\",\\\"27\\\",\\\"28\\\",\\\"29\\\",\\\"30\\\",\\\"31\\\",\\\"32\\\",\\\"33\\\",\\\"34\\\",\\\"35\\\",\\\"36\\\",\\\"37\\\",\\\"38\\\",\\\"39\\\",\\\"40\\\",\\\"41\\\",\\\"42\\\",\\\"43\\\",\\\"44\\\",\\\"45\\\",\\\"46\\\",\\\"47\\\",\\\"48\\\",\\\"49\\\",\\\"50\\\",\\\"51\\\",\\\"52\\\",\\\"53\\\",\\\"54\\\",\\\"55\\\",\\\"56\\\",\\\"57\\\",\\\"58\\\",\\\"59\\\",\\\"60\\\",\\\"61\\\",\\\"62\\\",\\\"63\\\",\\\"64\\\",\\\"65\\\",\\\"66\\\",\\\"67\\\",\\\"68\\\",\\\"69\\\",\\\"70\\\",\\\"71\\\",\\\"72\\\",\\\"73\\\",\\\"74\\\",\\\"75\\\",\\\"76\\\",\\\"77\\\",\\\"78\\\",\\\"79\\\",\\\"80\\\",\\\"81\\\",\\\"82\\\",\\\"83\\\",\\\"84\\\",\\\"85\\\",\\\"86\\\",\\\"87\\\",\\\"88\\\",\\\"89\\\",\\\"90\\\",\\\"91\\\",\\\"92\\\",\\\"93\\\",\\\"94\\\",\\\"95\\\",\\\"96\\\",\\\"97\\\",\\\"98\\\",\\\"99\\\",\\\"100\\\",\\\"101\\\",\\\"102\\\",\\\"103\\\",\\\"104\\\",\\\"105\\\",\\\"106\\\",\\\"107\\\",\\\"108\\\",\\\"109\\\",\\\"110\\\",\\\"111\\\",\\\"112\\\",\\\"113\\\",\\\"114\\\",\\\"115\\\",\\\"116\\\",\\\"117\\\",\\\"118\\\",\\\"119\\\",\\\"120\\\",\\\"121\\\",\\\"122\\\",\\\"123\\\",\\\"124\\\",\\\"125\\\",\\\"126\\\",\\\"127\\\",\\\"128\\\",\\\"129\\\",\\\"130\\\",\\\"131\\\",\\\"132\\\",\\\"133\\\",\\\"134\\\",\\\"135\\\",\\\"136\\\",\\\"137\\\",\\\"138\\\",\\\"139\\\",\\\"140\\\",\\\"141\\\",\\\"142\\\",\\\"143\\\",\\\"144\\\",\\\"145\\\",\\\"146\\\",\\\"147\\\",\\\"148\\\",\\\"149\\\",\\\"150\\\",\\\"151\\\",\\\"152\\\",\\\"153\\\",\\\"154\\\",\\\"155\\\",\\\"156\\\",\\\"157\\\",\\\"158\\\",\\\"159\\\",\\\"160\\\",\\\"161\\\",\\\"162\\\",\\\"163\\\",\\\"164\\\",\\\"165\\\",\\\"166\\\",\\\"167\\\",\\\"168\\\",\\\"169\\\",\\\"170\\\",\\\"171\\\",\\\"172\\\",\\\"173\\\",\\\"174\\\",\\\"175\\\",\\\"176\\\",\\\"177\\\",\\\"178\\\",\\\"179\\\",\\\"180\\\",\\\"181\\\",\\\"182\\\",\\\"183\\\",\\\"184\\\",\\\"185\\\",\\\"186\\\",\\\"187\\\",\\\"188\\\",\\\"189\\\",\\\"190\\\",\\\"191\\\",\\\"192\\\",\\\"193\\\",\\\"194\\\",\\\"195\\\",\\\"196\\\",\\\"197\\\",\\\"198\\\",\\\"199\\\",\\\"200\\\"],\\\"changes\\\":WebIO.getval({\\\"name\\\":\\\"changes\\\",\\\"scope\\\":\\\"18247937804508432883\\\",\\\"id\\\":\\\"5006248067916773193\\\",\\\"type\\\":\\\"observable\\\"}),\\\"index\\\":WebIO.getval({\\\"name\\\":\\\"index\\\",\\\"scope\\\":\\\"18247937804508432883\\\",\\\"id\\\":\\\"16696273328568066882\\\",\\\"type\\\":\\\"observable\\\"})};\\n    var self = this;\\n    function AppViewModel() {\\n        for (var key in json_data) {\\n            var el = json_data[key];\\n            this[key] = Array.isArray(el) ? ko.observableArray(el) : ko.observable(el);\\n        }\\n        \\n        [this[\\\"formatted_val\\\"]=ko.computed(    function(){\\n        return this.formatted_vals()[parseInt(this.index())-(1)];\\n    }\\n,this)]\\n        [this[\\\"changes\\\"].subscribe((function (val){!(this.valueFromJulia[\\\"changes\\\"]) ? (WebIO.setval({\\\"name\\\":\\\"changes\\\",\\\"scope\\\":\\\"18247937804508432883\\\",\\\"id\\\":\\\"5006248067916773193\\\",\\\"type\\\":\\\"observable\\\"},val)) : undefined; return this.valueFromJulia[\\\"changes\\\"]=false}),self),this[\\\"index\\\"].subscribe((function (val){!(this.valueFromJulia[\\\"index\\\"]) ? (WebIO.setval({\\\"name\\\":\\\"index\\\",\\\"scope\\\":\\\"18247937804508432883\\\",\\\"id\\\":\\\"16696273328568066882\\\",\\\"type\\\":\\\"observable\\\"},val)) : undefined; return this.valueFromJulia[\\\"index\\\"]=false}),self)]\\n        \\n    }\\n    self.model = new AppViewModel();\\n    self.valueFromJulia = {};\\n    for (var key in json_data) {\\n        self.valueFromJulia[key] = false;\\n    }\\n    ko.applyBindings(self.model, self.dom);\\n}\\n);\\n    (WebIO.importBlock({\\\"data\\\":[{\\\"name\\\":\\\"knockout\\\",\\\"type\\\":\\\"js\\\",\\\"url\\\":\\\"/assetserver/727383f2a47bd31570b7da84eee7b022dd6d7c78-knockout.js\\\"},{\\\"name\\\":\\\"knockout_punches\\\",\\\"type\\\":\\\"js\\\",\\\"url\\\":\\\"/assetserver/382b41b3b1bd9f26f75861d360bad7f8beea211f-knockout_punches.js\\\"}],\\\"type\\\":\\\"async_block\\\"})).then((imports) => handler.apply(this, imports));\\n}\\n\")])], Dict{Symbol, Any}(:className => \"field interact-widget\")), WebIO.Node{WebIO.DOM}(WebIO.DOM(:html, :div), Any[WebIO.Scope(WebIO.Node{WebIO.DOM}(WebIO.DOM(:html, :div), Any[WebIO.Node{WebIO.DOM}(WebIO.DOM(:html, :div), Any[WebIO.Node{WebIO.DOM}(WebIO.DOM(:html, :label), Any[\"scale\"], Dict{Symbol, Any}(:className => \"interact \", :style => Dict{Any, Any}(:padding => \"5px 10px 0px 10px\")))], Dict{Symbol, Any}(:className => \"interact-flex-row-left\")), WebIO.Node{WebIO.DOM}(WebIO.DOM(:html, :div), Any[WebIO.Node{WebIO.DOM}(WebIO.DOM(:html, :input), Any[], Dict{Symbol, Any}(:max => 20, :min => 1, :attributes => Dict{Any, Any}(:type => \"range\", Symbol(\"data-bind\") => \"numericValue: index, valueUpdate: 'input', event: {change: function (){this.changes(this.changes()+1)}}\", \"orient\" => \"horizontal\"), :step => 1, :className => \"slider slider is-fullwidth\", :style => Dict{Any, Any}()))], Dict{Symbol, Any}(:className => \"interact-flex-row-center\")), WebIO.Node{WebIO.DOM}(WebIO.DOM(:html, :div), Any[WebIO.Node{WebIO.DOM}(WebIO.DOM(:html, :p), Any[], Dict{Symbol, Any}(:attributes => Dict(\"data-bind\" => \"text: formatted_val\")))], Dict{Symbol, Any}(:className => \"interact-flex-row-right\"))], Dict{Symbol, Any}(:className => \"interact-flex-row interact-widget\")), Dict{String, Tuple{Observables.AbstractObservable, Union{Nothing, Bool}}}(\"changes\" => (Observable(0), nothing), \"index\" => (Observable{Any}(10), nothing)), Set{String}(), nothing, WebIO.Asset[WebIO.Asset(\"js\", \"knockout\", \"/home/dushya/.julia/packages/Knockout/HReiN/src/../assets/knockout.js\"), WebIO.Asset(\"js\", \"knockout_punches\", \"/home/dushya/.julia/packages/Knockout/HReiN/src/../assets/knockout_punches.js\"), WebIO.Asset(\"js\", nothing, \"/home/dushya/.julia/packages/InteractBase/LJXv3/src/../assets/all.js\"), WebIO.Asset(\"css\", nothing, \"/home/dushya/.julia/packages/InteractBase/LJXv3/src/../assets/style.css\"), WebIO.Asset(\"css\", nothing, \"/home/dushya/.julia/packages/Interact/PENUy/src/../assets/bulma_confined.min.css\")], Dict{Any, Any}(\"changes\" => Any[WebIO.JSString(\"(function (val){return (val!=this.model[\\\"changes\\\"]()) ? (this.valueFromJulia[\\\"changes\\\"]=true, this.model[\\\"changes\\\"](val)) : undefined})\")], \"index\" => Any[WebIO.JSString(\"(function (val){return (val!=this.model[\\\"index\\\"]()) ? (this.valueFromJulia[\\\"index\\\"]=true, this.model[\\\"index\\\"](val)) : undefined})\")]), WebIO.ConnectionPool(Channel{Any}(32), Set{WebIO.AbstractConnection}(), Base.GenericCondition{ReentrantLock}(Base.IntrusiveLinkedList{Task}(Task (runnable) @0x00007f4dbbec0fb0, Task (runnable) @0x00007f4dbbec0fb0), ReentrantLock(nothing, 0x00000000, 0x00, Base.GenericCondition{Base.Threads.SpinLock}(Base.IntrusiveLinkedList{Task}(nothing, nothing), Base.Threads.SpinLock(0)), (0, 0, 139779710648320)))), WebIO.JSString[WebIO.JSString(\"function () {\\n    var handler = (function (ko, koPunches) {\\n    ko.punches.enableAll();\\n    ko.bindingHandlers.numericValue = {\\n        init: function(element, valueAccessor, allBindings, data, context) {\\n            var stringified = ko.observable(ko.unwrap(valueAccessor()));\\n            stringified.subscribe(function(value) {\\n                var val = parseFloat(value);\\n                if (!isNaN(val)) {\\n                    valueAccessor()(val);\\n                }\\n            });\\n            valueAccessor().subscribe(function(value) {\\n                var str = JSON.stringify(value);\\n                if ((str == \\\"0\\\") && ([\\\"-0\\\", \\\"-0.\\\"].indexOf(stringified()) >= 0))\\n                     return;\\n                 if ([\\\"null\\\", \\\"\\\"].indexOf(str) >= 0)\\n                     return;\\n                stringified(str);\\n            });\\n            ko.applyBindingsToNode(\\n                element,\\n                {\\n                    value: stringified,\\n                    valueUpdate: allBindings.get('valueUpdate'),\\n                },\\n                context,\\n            );\\n        }\\n    };\\n    var json_data = {\\\"formatted_vals\\\":[\\\"0.1\\\",\\\"0.2\\\",\\\"0.3\\\",\\\"0.4\\\",\\\"0.5\\\",\\\"0.6\\\",\\\"0.7\\\",\\\"0.8\\\",\\\"0.9\\\",\\\"1.0\\\",\\\"1.1\\\",\\\"1.2\\\",\\\"1.3\\\",\\\"1.4\\\",\\\"1.5\\\",\\\"1.6\\\",\\\"1.7\\\",\\\"1.8\\\",\\\"1.9\\\",\\\"2.0\\\"],\\\"changes\\\":WebIO.getval({\\\"name\\\":\\\"changes\\\",\\\"scope\\\":\\\"8133369304678186177\\\",\\\"id\\\":\\\"17925478258968871944\\\",\\\"type\\\":\\\"observable\\\"}),\\\"index\\\":WebIO.getval({\\\"name\\\":\\\"index\\\",\\\"scope\\\":\\\"8133369304678186177\\\",\\\"id\\\":\\\"16967614701561034863\\\",\\\"type\\\":\\\"observable\\\"})};\\n    var self = this;\\n    function AppViewModel() {\\n        for (var key in json_data) {\\n            var el = json_data[key];\\n            this[key] = Array.isArray(el) ? ko.observableArray(el) : ko.observable(el);\\n        }\\n        \\n        [this[\\\"formatted_val\\\"]=ko.computed(    function(){\\n        return this.formatted_vals()[parseInt(this.index())-(1)];\\n    }\\n,this)]\\n        [this[\\\"changes\\\"].subscribe((function (val){!(this.valueFromJulia[\\\"changes\\\"]) ? (WebIO.setval({\\\"name\\\":\\\"changes\\\",\\\"scope\\\":\\\"8133369304678186177\\\",\\\"id\\\":\\\"17925478258968871944\\\",\\\"type\\\":\\\"observable\\\"},val)) : undefined; return this.valueFromJulia[\\\"changes\\\"]=false}),self),this[\\\"index\\\"].subscribe((function (val){!(this.valueFromJulia[\\\"index\\\"]) ? (WebIO.setval({\\\"name\\\":\\\"index\\\",\\\"scope\\\":\\\"8133369304678186177\\\",\\\"id\\\":\\\"16967614701561034863\\\",\\\"type\\\":\\\"observable\\\"},val)) : undefined; return this.valueFromJulia[\\\"index\\\"]=false}),self)]\\n        \\n    }\\n    self.model = new AppViewModel();\\n    self.valueFromJulia = {};\\n    for (var key in json_data) {\\n        self.valueFromJulia[key] = false;\\n    }\\n    ko.applyBindings(self.model, self.dom);\\n}\\n);\\n    (WebIO.importBlock({\\\"data\\\":[{\\\"name\\\":\\\"knockout\\\",\\\"type\\\":\\\"js\\\",\\\"url\\\":\\\"/assetserver/727383f2a47bd31570b7da84eee7b022dd6d7c78-knockout.js\\\"},{\\\"name\\\":\\\"knockout_punches\\\",\\\"type\\\":\\\"js\\\",\\\"url\\\":\\\"/assetserver/382b41b3b1bd9f26f75861d360bad7f8beea211f-knockout_punches.js\\\"}],\\\"type\\\":\\\"async_block\\\"})).then((imports) => handler.apply(this, imports));\\n}\\n\")])], Dict{Symbol, Any}(:className => \"field interact-widget\")), WebIO.Node{WebIO.DOM}(WebIO.DOM(:html, :div), Any[], Dict{Symbol, Any}(:style => Dict(\"display\" => \"flex\", \"flex-direction\" => \"column\"))), WebIO.Node{WebIO.DOM}(WebIO.DOM(:html, :div), Any[WebIO.Node{WebIO.DOM}(WebIO.DOM(:html, :div), Any[WebIO.Scope(WebIO.Node{WebIO.DOM}(WebIO.DOM(:html, :div), Any[WebIO.Node{WebIO.DOM}(WebIO.DOM(:html, :div), Any[WebIO.Node{WebIO.DOM}(WebIO.DOM(:html, :label), Any[\"alive_percent\"], Dict{Symbol, Any}(:className => \"interact \", :style => Dict{Any, Any}(:padding => \"5px 10px 0px 10px\")))], Dict{Symbol, Any}(:className => \"interact-flex-row-left\")), WebIO.Node{WebIO.DOM}(WebIO.DOM(:html, :div), Any[WebIO.Node{WebIO.DOM}(WebIO.DOM(:html, :input), Any[], Dict{Symbol, Any}(:max => 101, :min => 1, :attributes => Dict{Any, Any}(:type => \"range\", Symbol(\"data-bind\") => \"numericValue: index, valueUpdate: 'input', event: {change: function (){this.changes(this.changes()+1)}}\", \"orient\" => \"horizontal\"), :step => 1, :className => \"slider slider is-fullwidth\", :style => Dict{Any, Any}()))], Dict{Symbol, Any}(:className => \"interact-flex-row-center\")), WebIO.Node{WebIO.DOM}(WebIO.DOM(:html, :div), Any[WebIO.Node{WebIO.DOM}(WebIO.DOM(:html, :p), Any[], Dict{Symbol, Any}(:attributes => Dict(\"data-bind\" => \"text: formatted_val\")))], Dict{Symbol, Any}(:className => \"interact-flex-row-right\"))], Dict{Symbol, Any}(:className => \"interact-flex-row interact-widget\")), Dict{String, Tuple{Observables.AbstractObservable, Union{Nothing, Bool}}}(\"changes\" => (Observable(0), nothing), \"index\" => (Observable{Any}(51), nothing)), Set{String}(), nothing, WebIO.Asset[WebIO.Asset(\"js\", \"knockout\", \"/home/dushya/.julia/packages/Knockout/HReiN/src/../assets/knockout.js\"), WebIO.Asset(\"js\", \"knockout_punches\", \"/home/dushya/.julia/packages/Knockout/HReiN/src/../assets/knockout_punches.js\"), WebIO.Asset(\"js\", nothing, \"/home/dushya/.julia/packages/InteractBase/LJXv3/src/../assets/all.js\"), WebIO.Asset(\"css\", nothing, \"/home/dushya/.julia/packages/InteractBase/LJXv3/src/../assets/style.css\"), WebIO.Asset(\"css\", nothing, \"/home/dushya/.julia/packages/Interact/PENUy/src/../assets/bulma_confined.min.css\")], Dict{Any, Any}(\"changes\" => Any[WebIO.JSString(\"(function (val){return (val!=this.model[\\\"changes\\\"]()) ? (this.valueFromJulia[\\\"changes\\\"]=true, this.model[\\\"changes\\\"](val)) : undefined})\")], \"index\" => Any[WebIO.JSString(\"(function (val){return (val!=this.model[\\\"index\\\"]()) ? (this.valueFromJulia[\\\"index\\\"]=true, this.model[\\\"index\\\"](val)) : undefined})\")]), WebIO.ConnectionPool(Channel{Any}(32), Set{WebIO.AbstractConnection}(), Base.GenericCondition{ReentrantLock}(Base.IntrusiveLinkedList{Task}(Task (runnable) @0x00007f4dbbee3b70, Task (runnable) @0x00007f4dbbee3b70), ReentrantLock(nothing, 0x00000000, 0x00, Base.GenericCondition{Base.Threads.SpinLock}(Base.IntrusiveLinkedList{Task}(nothing, nothing), Base.Threads.SpinLock(0)), (1, 0, 1)))), WebIO.JSString[WebIO.JSString(\"function () {\\n    var handler = (function (ko, koPunches) {\\n    ko.punches.enableAll();\\n    ko.bindingHandlers.numericValue = {\\n        init: function(element, valueAccessor, allBindings, data, context) {\\n            var stringified = ko.observable(ko.unwrap(valueAccessor()));\\n            stringified.subscribe(function(value) {\\n                var val = parseFloat(value);\\n                if (!isNaN(val)) {\\n                    valueAccessor()(val);\\n                }\\n            });\\n            valueAccessor().subscribe(function(value) {\\n                var str = JSON.stringify(value);\\n                if ((str == \\\"0\\\") && ([\\\"-0\\\", \\\"-0.\\\"].indexOf(stringified()) >= 0))\\n                     return;\\n                 if ([\\\"null\\\", \\\"\\\"].indexOf(str) >= 0)\\n                     return;\\n                stringified(str);\\n            });\\n            ko.applyBindingsToNode(\\n                element,\\n                {\\n                    value: stringified,\\n                    valueUpdate: allBindings.get('valueUpdate'),\\n                },\\n                context,\\n            );\\n        }\\n    };\\n    var json_data = {\\\"formatted_vals\\\":[\\\"0.0\\\",\\\"0.01\\\",\\\"0.02\\\",\\\"0.03\\\",\\\"0.04\\\",\\\"0.05\\\",\\\"0.06\\\",\\\"0.07\\\",\\\"0.08\\\",\\\"0.09\\\",\\\"0.1\\\",\\\"0.11\\\",\\\"0.12\\\",\\\"0.13\\\",\\\"0.14\\\",\\\"0.15\\\",\\\"0.16\\\",\\\"0.17\\\",\\\"0.18\\\",\\\"0.19\\\",\\\"0.2\\\",\\\"0.21\\\",\\\"0.22\\\",\\\"0.23\\\",\\\"0.24\\\",\\\"0.25\\\",\\\"0.26\\\",\\\"0.27\\\",\\\"0.28\\\",\\\"0.29\\\",\\\"0.3\\\",\\\"0.31\\\",\\\"0.32\\\",\\\"0.33\\\",\\\"0.34\\\",\\\"0.35\\\",\\\"0.36\\\",\\\"0.37\\\",\\\"0.38\\\",\\\"0.39\\\",\\\"0.4\\\",\\\"0.41\\\",\\\"0.42\\\",\\\"0.43\\\",\\\"0.44\\\",\\\"0.45\\\",\\\"0.46\\\",\\\"0.47\\\",\\\"0.48\\\",\\\"0.49\\\",\\\"0.5\\\",\\\"0.51\\\",\\\"0.52\\\",\\\"0.53\\\",\\\"0.54\\\",\\\"0.55\\\",\\\"0.56\\\",\\\"0.57\\\",\\\"0.58\\\",\\\"0.59\\\",\\\"0.6\\\",\\\"0.61\\\",\\\"0.62\\\",\\\"0.63\\\",\\\"0.64\\\",\\\"0.65\\\",\\\"0.66\\\",\\\"0.67\\\",\\\"0.68\\\",\\\"0.69\\\",\\\"0.7\\\",\\\"0.71\\\",\\\"0.72\\\",\\\"0.73\\\",\\\"0.74\\\",\\\"0.75\\\",\\\"0.76\\\",\\\"0.77\\\",\\\"0.78\\\",\\\"0.79\\\",\\\"0.8\\\",\\\"0.81\\\",\\\"0.82\\\",\\\"0.83\\\",\\\"0.84\\\",\\\"0.85\\\",\\\"0.86\\\",\\\"0.87\\\",\\\"0.88\\\",\\\"0.89\\\",\\\"0.9\\\",\\\"0.91\\\",\\\"0.92\\\",\\\"0.93\\\",\\\"0.94\\\",\\\"0.95\\\",\\\"0.96\\\",\\\"0.97\\\",\\\"0.98\\\",\\\"0.99\\\",\\\"1.0\\\"],\\\"changes\\\":WebIO.getval({\\\"name\\\":\\\"changes\\\",\\\"scope\\\":\\\"3762480440982371343\\\",\\\"id\\\":\\\"15447466555980225837\\\",\\\"type\\\":\\\"observable\\\"}),\\\"index\\\":WebIO.getval({\\\"name\\\":\\\"index\\\",\\\"scope\\\":\\\"3762480440982371343\\\",\\\"id\\\":\\\"11664151389271722207\\\",\\\"type\\\":\\\"observable\\\"})};\\n    var self = this;\\n    function AppViewModel() {\\n        for (var key in json_data) {\\n            var el = json_data[key];\\n            this[key] = Array.isArray(el) ? ko.observableArray(el) : ko.observable(el);\\n        }\\n        \\n        [this[\\\"formatted_val\\\"]=ko.computed(    function(){\\n        return this.formatted_vals()[parseInt(this.index())-(1)];\\n    }\\n,this)]\\n        [this[\\\"changes\\\"].subscribe((function (val){!(this.valueFromJulia[\\\"changes\\\"]) ? (WebIO.setval({\\\"name\\\":\\\"changes\\\",\\\"scope\\\":\\\"3762480440982371343\\\",\\\"id\\\":\\\"15447466555980225837\\\",\\\"type\\\":\\\"observable\\\"},val)) : undefined; return this.valueFromJulia[\\\"changes\\\"]=false}),self),this[\\\"index\\\"].subscribe((function (val){!(this.valueFromJulia[\\\"index\\\"]) ? (WebIO.setval({\\\"name\\\":\\\"index\\\",\\\"scope\\\":\\\"3762480440982371343\\\",\\\"id\\\":\\\"11664151389271722207\\\",\\\"type\\\":\\\"observable\\\"},val)) : undefined; return this.valueFromJulia[\\\"index\\\"]=false}),self)]\\n        \\n    }\\n    self.model = new AppViewModel();\\n    self.valueFromJulia = {};\\n    for (var key in json_data) {\\n        self.valueFromJulia[key] = false;\\n    }\\n    ko.applyBindings(self.model, self.dom);\\n}\\n);\\n    (WebIO.importBlock({\\\"data\\\":[{\\\"name\\\":\\\"knockout\\\",\\\"type\\\":\\\"js\\\",\\\"url\\\":\\\"/assetserver/727383f2a47bd31570b7da84eee7b022dd6d7c78-knockout.js\\\"},{\\\"name\\\":\\\"knockout_punches\\\",\\\"type\\\":\\\"js\\\",\\\"url\\\":\\\"/assetserver/382b41b3b1bd9f26f75861d360bad7f8beea211f-knockout_punches.js\\\"}],\\\"type\\\":\\\"async_block\\\"})).then((imports) => handler.apply(this, imports));\\n}\\n\")])], Dict{Symbol, Any}(:className => \"field interact-widget\"))], Dict{Symbol, Any}(:style => Dict(\"display\" => \"flex\", \"flex-direction\" => \"column\"))), WebIO.Node{WebIO.DOM}(WebIO.DOM(:html, :div), Any[WebIO.Node{WebIO.DOM}(WebIO.DOM(:html, :div), Any[WebIO.Scope(WebIO.Node{WebIO.DOM}(WebIO.DOM(:html, :div), Any[], Dict{Symbol, Any}(:id => \"container\")), Dict{String, Tuple{Observables.AbstractObservable, Union{Nothing, Bool}}}(\"value\" => (Observable(\"\\\\;\\\\;\"), nothing)), Set{String}(), nothing, WebIO.Asset[WebIO.Asset(\"js\", nothing, \"/home/dushya/.julia/packages/InteractBase/LJXv3/src/../assets/katex.min.js\"), WebIO.Asset(\"css\", nothing, \"/home/dushya/.julia/packages/InteractBase/LJXv3/src/../assets/katex.min.css\")], Dict{Any, Any}(\"value\" => Any[WebIO.JSString(\"(function (txt){return this.k.render(txt,this.container)})\")]), WebIO.ConnectionPool(Channel{Any}(32), Set{WebIO.AbstractConnection}(), Base.GenericCondition{ReentrantLock}(Base.IntrusiveLinkedList{Task}(Task (runnable) @0x00007f4d475968b0, Task (runnable) @0x00007f4d475968b0), ReentrantLock(nothing, 0x00000000, 0x00, Base.GenericCondition{Base.Threads.SpinLock}(Base.IntrusiveLinkedList{Task}(nothing, nothing), Base.Threads.SpinLock(0)), (8, 139969868377088, 0)))), WebIO.JSString[WebIO.JSString(\"function () {\\n    var handler = ((function (k){this.k=k; this.container=this.dom.querySelector(\\\"#container\\\"); return k.render(\\\"\\\\\\\\;\\\\\\\\;\\\",this.container)}));\\n    (WebIO.importBlock({\\\"data\\\":[{\\\"name\\\":null,\\\"type\\\":\\\"js\\\",\\\"url\\\":\\\"/assetserver/dd22ed1bf1896c2748f3fe616ce0b838adc895c1-katex.min.js\\\"},{\\\"name\\\":null,\\\"type\\\":\\\"css\\\",\\\"url\\\":\\\"/assetserver/46517a424aa5e6cffc1360d7e0848b601c584ee3-katex.min.css\\\"}],\\\"type\\\":\\\"async_block\\\"})).then((imports) => handler.apply(this, imports));\\n}\\n\")])], Dict{Symbol, Any}(:className => \"interact-widget\")), WebIO.Node{WebIO.DOM}(WebIO.DOM(:html, :div), Any[WebIO.Scope(WebIO.Node{WebIO.DOM}(WebIO.DOM(:html, :button), Any[\"run\"], Dict{Symbol, Any}(:attributes => Dict{Any, Any}(\"data-bind\" => \"click: function (){this.clicks(this.clicks()+1)}, css: {'is-loading' : loading}\"), :className => \"is-medium button is-primary\", :style => Dict{String, Any}())), Dict{String, Tuple{Observables.AbstractObservable, Union{Nothing, Bool}}}(\"loading\" => (Observable(false), nothing), \"clicks\" => (Observable(0), nothing)), Set{String}(), nothing, WebIO.Asset[WebIO.Asset(\"js\", \"knockout\", \"/home/dushya/.julia/packages/Knockout/HReiN/src/../assets/knockout.js\"), WebIO.Asset(\"js\", \"knockout_punches\", \"/home/dushya/.julia/packages/Knockout/HReiN/src/../assets/knockout_punches.js\"), WebIO.Asset(\"js\", nothing, \"/home/dushya/.julia/packages/InteractBase/LJXv3/src/../assets/all.js\"), WebIO.Asset(\"css\", nothing, \"/home/dushya/.julia/packages/InteractBase/LJXv3/src/../assets/style.css\"), WebIO.Asset(\"css\", nothing, \"/home/dushya/.julia/packages/Interact/PENUy/src/../assets/bulma_confined.min.css\")], Dict{Any, Any}(\"loading\" => Any[WebIO.JSString(\"(function (val){return (val!=this.model[\\\"loading\\\"]()) ? (this.valueFromJulia[\\\"loading\\\"]=true, this.model[\\\"loading\\\"](val)) : undefined})\")], \"clicks\" => Any[WebIO.JSString(\"(function (val){return (val!=this.model[\\\"clicks\\\"]()) ? (this.valueFromJulia[\\\"clicks\\\"]=true, this.model[\\\"clicks\\\"](val)) : undefined})\")]), WebIO.ConnectionPool(Channel{Any}(32), Set{WebIO.AbstractConnection}(), Base.GenericCondition{ReentrantLock}(Base.IntrusiveLinkedList{Task}(Task (runnable) @0x00007f4dbbef2720, Task (runnable) @0x00007f4dbbef2720), ReentrantLock(nothing, 0x00000000, 0x00, Base.GenericCondition{Base.Threads.SpinLock}(Base.IntrusiveLinkedList{Task}(nothing, nothing), Base.Threads.SpinLock(0)), (8, 0, 141733920768)))), WebIO.JSString[WebIO.JSString(\"function () {\\n    var handler = (function (ko, koPunches) {\\n    ko.punches.enableAll();\\n    ko.bindingHandlers.numericValue = {\\n        init: function(element, valueAccessor, allBindings, data, context) {\\n            var stringified = ko.observable(ko.unwrap(valueAccessor()));\\n            stringified.subscribe(function(value) {\\n                var val = parseFloat(value);\\n                if (!isNaN(val)) {\\n                    valueAccessor()(val);\\n                }\\n            });\\n            valueAccessor().subscribe(function(value) {\\n                var str = JSON.stringify(value);\\n                if ((str == \\\"0\\\") && ([\\\"-0\\\", \\\"-0.\\\"].indexOf(stringified()) >= 0))\\n                     return;\\n                 if ([\\\"null\\\", \\\"\\\"].indexOf(str) >= 0)\\n                     return;\\n                stringified(str);\\n            });\\n            ko.applyBindingsToNode(\\n                element,\\n                {\\n                    value: stringified,\\n                    valueUpdate: allBindings.get('valueUpdate'),\\n                },\\n                context,\\n            );\\n        }\\n    };\\n    var json_data = {\\\"loading\\\":WebIO.getval({\\\"name\\\":\\\"loading\\\",\\\"scope\\\":\\\"4509255194736050292\\\",\\\"id\\\":\\\"4655507539122456187\\\",\\\"type\\\":\\\"observable\\\"}),\\\"clicks\\\":WebIO.getval({\\\"name\\\":\\\"clicks\\\",\\\"scope\\\":\\\"4509255194736050292\\\",\\\"id\\\":\\\"1292406584845085528\\\",\\\"type\\\":\\\"observable\\\"})};\\n    var self = this;\\n    function AppViewModel() {\\n        for (var key in json_data) {\\n            var el = json_data[key];\\n            this[key] = Array.isArray(el) ? ko.observableArray(el) : ko.observable(el);\\n        }\\n        \\n        \\n        [this[\\\"loading\\\"].subscribe((function (val){!(this.valueFromJulia[\\\"loading\\\"]) ? (WebIO.setval({\\\"name\\\":\\\"loading\\\",\\\"scope\\\":\\\"4509255194736050292\\\",\\\"id\\\":\\\"4655507539122456187\\\",\\\"type\\\":\\\"observable\\\"},val)) : undefined; return this.valueFromJulia[\\\"loading\\\"]=false}),self),this[\\\"clicks\\\"].subscribe((function (val){!(this.valueFromJulia[\\\"clicks\\\"]) ? (WebIO.setval({\\\"name\\\":\\\"clicks\\\",\\\"scope\\\":\\\"4509255194736050292\\\",\\\"id\\\":\\\"1292406584845085528\\\",\\\"type\\\":\\\"observable\\\"},val)) : undefined; return this.valueFromJulia[\\\"clicks\\\"]=false}),self)]\\n        \\n    }\\n    self.model = new AppViewModel();\\n    self.valueFromJulia = {};\\n    for (var key in json_data) {\\n        self.valueFromJulia[key] = false;\\n    }\\n    ko.applyBindings(self.model, self.dom);\\n}\\n);\\n    (WebIO.importBlock({\\\"data\\\":[{\\\"name\\\":\\\"knockout\\\",\\\"type\\\":\\\"js\\\",\\\"url\\\":\\\"/assetserver/727383f2a47bd31570b7da84eee7b022dd6d7c78-knockout.js\\\"},{\\\"name\\\":\\\"knockout_punches\\\",\\\"type\\\":\\\"js\\\",\\\"url\\\":\\\"/assetserver/382b41b3b1bd9f26f75861d360bad7f8beea211f-knockout_punches.js\\\"}],\\\"type\\\":\\\"async_block\\\"})).then((imports) => handler.apply(this, imports));\\n}\\n\")])], Dict{Symbol, Any}(:className => \"field interact-widget\")), WebIO.Node{WebIO.DOM}(WebIO.DOM(:html, :div), Any[WebIO.Scope(WebIO.Node{WebIO.DOM}(WebIO.DOM(:html, :div), Any[], Dict{Symbol, Any}(:id => \"container\")), Dict{String, Tuple{Observables.AbstractObservable, Union{Nothing, Bool}}}(\"value\" => (Observable(\"\\\\;\\\\;\"), nothing)), Set{String}(), nothing, WebIO.Asset[WebIO.Asset(\"js\", nothing, \"/home/dushya/.julia/packages/InteractBase/LJXv3/src/../assets/katex.min.js\"), WebIO.Asset(\"css\", nothing, \"/home/dushya/.julia/packages/InteractBase/LJXv3/src/../assets/katex.min.css\")], Dict{Any, Any}(\"value\" => Any[WebIO.JSString(\"(function (txt){return this.k.render(txt,this.container)})\")]), WebIO.ConnectionPool(Channel{Any}(32), Set{WebIO.AbstractConnection}(), Base.GenericCondition{ReentrantLock}(Base.IntrusiveLinkedList{Task}(Task (runnable) @0x00007f4d475968b0, Task (runnable) @0x00007f4d475968b0), ReentrantLock(nothing, 0x00000000, 0x00, Base.GenericCondition{Base.Threads.SpinLock}(Base.IntrusiveLinkedList{Task}(nothing, nothing), Base.Threads.SpinLock(0)), (8, 139969868377088, 0)))), WebIO.JSString[WebIO.JSString(\"function () {\\n    var handler = ((function (k){this.k=k; this.container=this.dom.querySelector(\\\"#container\\\"); return k.render(\\\"\\\\\\\\;\\\\\\\\;\\\",this.container)}));\\n    (WebIO.importBlock({\\\"data\\\":[{\\\"name\\\":null,\\\"type\\\":\\\"js\\\",\\\"url\\\":\\\"/assetserver/dd22ed1bf1896c2748f3fe616ce0b838adc895c1-katex.min.js\\\"},{\\\"name\\\":null,\\\"type\\\":\\\"css\\\",\\\"url\\\":\\\"/assetserver/46517a424aa5e6cffc1360d7e0848b601c584ee3-katex.min.css\\\"}],\\\"type\\\":\\\"async_block\\\"})).then((imports) => handler.apply(this, imports));\\n}\\n\")])], Dict{Symbol, Any}(:className => \"interact-widget\")), WebIO.Node{WebIO.DOM}(WebIO.DOM(:html, :div), Any[WebIO.Scope(WebIO.Node{WebIO.DOM}(WebIO.DOM(:html, :button), Any[\"stop\"], Dict{Symbol, Any}(:attributes => Dict{Any, Any}(\"data-bind\" => \"click: function (){this.clicks(this.clicks()+1)}, css: {'is-loading' : loading}\"), :className => \"is-medium button is-primary\", :style => Dict{String, Any}())), Dict{String, Tuple{Observables.AbstractObservable, Union{Nothing, Bool}}}(\"loading\" => (Observable(false), nothing), \"clicks\" => (Observable(0), nothing)), Set{String}(), nothing, WebIO.Asset[WebIO.Asset(\"js\", \"knockout\", \"/home/dushya/.julia/packages/Knockout/HReiN/src/../assets/knockout.js\"), WebIO.Asset(\"js\", \"knockout_punches\", \"/home/dushya/.julia/packages/Knockout/HReiN/src/../assets/knockout_punches.js\"), WebIO.Asset(\"js\", nothing, \"/home/dushya/.julia/packages/InteractBase/LJXv3/src/../assets/all.js\"), WebIO.Asset(\"css\", nothing, \"/home/dushya/.julia/packages/InteractBase/LJXv3/src/../assets/style.css\"), WebIO.Asset(\"css\", nothing, \"/home/dushya/.julia/packages/Interact/PENUy/src/../assets/bulma_confined.min.css\")], Dict{Any, Any}(\"loading\" => Any[WebIO.JSString(\"(function (val){return (val!=this.model[\\\"loading\\\"]()) ? (this.valueFromJulia[\\\"loading\\\"]=true, this.model[\\\"loading\\\"](val)) : undefined})\")], \"clicks\" => Any[WebIO.JSString(\"(function (val){return (val!=this.model[\\\"clicks\\\"]()) ? (this.valueFromJulia[\\\"clicks\\\"]=true, this.model[\\\"clicks\\\"](val)) : undefined})\")]), WebIO.ConnectionPool(Channel{Any}(32), Set{WebIO.AbstractConnection}(), Base.GenericCondition{ReentrantLock}(Base.IntrusiveLinkedList{Task}(Task (runnable) @0x00007f4dbbf092d0, Task (runnable) @0x00007f4dbbf092d0), ReentrantLock(nothing, 0x00000000, 0x00, Base.GenericCondition{Base.Threads.SpinLock}(Base.IntrusiveLinkedList{Task}(nothing, nothing), Base.Threads.SpinLock(0)), (4, 134744064, 141733920768)))), WebIO.JSString[WebIO.JSString(\"function () {\\n    var handler = (function (ko, koPunches) {\\n    ko.punches.enableAll();\\n    ko.bindingHandlers.numericValue = {\\n        init: function(element, valueAccessor, allBindings, data, context) {\\n            var stringified = ko.observable(ko.unwrap(valueAccessor()));\\n            stringified.subscribe(function(value) {\\n                var val = parseFloat(value);\\n                if (!isNaN(val)) {\\n                    valueAccessor()(val);\\n                }\\n            });\\n            valueAccessor().subscribe(function(value) {\\n                var str = JSON.stringify(value);\\n                if ((str == \\\"0\\\") && ([\\\"-0\\\", \\\"-0.\\\"].indexOf(stringified()) >= 0))\\n                     return;\\n                 if ([\\\"null\\\", \\\"\\\"].indexOf(str) >= 0)\\n                     return;\\n                stringified(str);\\n            });\\n            ko.applyBindingsToNode(\\n                element,\\n                {\\n                    value: stringified,\\n                    valueUpdate: allBindings.get('valueUpdate'),\\n                },\\n                context,\\n            );\\n        }\\n    };\\n    var json_data = {\\\"loading\\\":WebIO.getval({\\\"name\\\":\\\"loading\\\",\\\"scope\\\":\\\"13615800631425607057\\\",\\\"id\\\":\\\"9895591219352831458\\\",\\\"type\\\":\\\"observable\\\"}),\\\"clicks\\\":WebIO.getval({\\\"name\\\":\\\"clicks\\\",\\\"scope\\\":\\\"13615800631425607057\\\",\\\"id\\\":\\\"14180995362525198875\\\",\\\"type\\\":\\\"observable\\\"})};\\n    var self = this;\\n    function AppViewModel() {\\n        for (var key in json_data) {\\n            var el = json_data[key];\\n            this[key] = Array.isArray(el) ? ko.observableArray(el) : ko.observable(el);\\n        }\\n        \\n        \\n        [this[\\\"loading\\\"].subscribe((function (val){!(this.valueFromJulia[\\\"loading\\\"]) ? (WebIO.setval({\\\"name\\\":\\\"loading\\\",\\\"scope\\\":\\\"13615800631425607057\\\",\\\"id\\\":\\\"9895591219352831458\\\",\\\"type\\\":\\\"observable\\\"},val)) : undefined; return this.valueFromJulia[\\\"loading\\\"]=false}),self),this[\\\"clicks\\\"].subscribe((function (val){!(this.valueFromJulia[\\\"clicks\\\"]) ? (WebIO.setval({\\\"name\\\":\\\"clicks\\\",\\\"scope\\\":\\\"13615800631425607057\\\",\\\"id\\\":\\\"14180995362525198875\\\",\\\"type\\\":\\\"observable\\\"},val)) : undefined; return this.valueFromJulia[\\\"clicks\\\"]=false}),self)]\\n        \\n    }\\n    self.model = new AppViewModel();\\n    self.valueFromJulia = {};\\n    for (var key in json_data) {\\n        self.valueFromJulia[key] = false;\\n    }\\n    ko.applyBindings(self.model, self.dom);\\n}\\n);\\n    (WebIO.importBlock({\\\"data\\\":[{\\\"name\\\":\\\"knockout\\\",\\\"type\\\":\\\"js\\\",\\\"url\\\":\\\"/assetserver/727383f2a47bd31570b7da84eee7b022dd6d7c78-knockout.js\\\"},{\\\"name\\\":\\\"knockout_punches\\\",\\\"type\\\":\\\"js\\\",\\\"url\\\":\\\"/assetserver/382b41b3b1bd9f26f75861d360bad7f8beea211f-knockout_punches.js\\\"}],\\\"type\\\":\\\"async_block\\\"})).then((imports) => handler.apply(this, imports));\\n}\\n\")])], Dict{Symbol, Any}(:className => \"field interact-widget\")), WebIO.Node{WebIO.DOM}(WebIO.DOM(:html, :div), Any[WebIO.Scope(WebIO.Node{WebIO.DOM}(WebIO.DOM(:html, :div), Any[], Dict{Symbol, Any}(:id => \"container\")), Dict{String, Tuple{Observables.AbstractObservable, Union{Nothing, Bool}}}(\"value\" => (Observable(\"\\\\;\\\\;\"), nothing)), Set{String}(), nothing, WebIO.Asset[WebIO.Asset(\"js\", nothing, \"/home/dushya/.julia/packages/InteractBase/LJXv3/src/../assets/katex.min.js\"), WebIO.Asset(\"css\", nothing, \"/home/dushya/.julia/packages/InteractBase/LJXv3/src/../assets/katex.min.css\")], Dict{Any, Any}(\"value\" => Any[WebIO.JSString(\"(function (txt){return this.k.render(txt,this.container)})\")]), WebIO.ConnectionPool(Channel{Any}(32), Set{WebIO.AbstractConnection}(), Base.GenericCondition{ReentrantLock}(Base.IntrusiveLinkedList{Task}(Task (runnable) @0x00007f4d475968b0, Task (runnable) @0x00007f4d475968b0), ReentrantLock(nothing, 0x00000000, 0x00, Base.GenericCondition{Base.Threads.SpinLock}(Base.IntrusiveLinkedList{Task}(nothing, nothing), Base.Threads.SpinLock(0)), (8, 139969868377088, 0)))), WebIO.JSString[WebIO.JSString(\"function () {\\n    var handler = ((function (k){this.k=k; this.container=this.dom.querySelector(\\\"#container\\\"); return k.render(\\\"\\\\\\\\;\\\\\\\\;\\\",this.container)}));\\n    (WebIO.importBlock({\\\"data\\\":[{\\\"name\\\":null,\\\"type\\\":\\\"js\\\",\\\"url\\\":\\\"/assetserver/dd22ed1bf1896c2748f3fe616ce0b838adc895c1-katex.min.js\\\"},{\\\"name\\\":null,\\\"type\\\":\\\"css\\\",\\\"url\\\":\\\"/assetserver/46517a424aa5e6cffc1360d7e0848b601c584ee3-katex.min.css\\\"}],\\\"type\\\":\\\"async_block\\\"})).then((imports) => handler.apply(this, imports));\\n}\\n\")])], Dict{Symbol, Any}(:className => \"interact-widget\")), WebIO.Node{WebIO.DOM}(WebIO.DOM(:html, :div), Any[WebIO.Scope(WebIO.Node{WebIO.DOM}(WebIO.DOM(:html, :button), Any[\"reset\"], Dict{Symbol, Any}(:attributes => Dict{Any, Any}(\"data-bind\" => \"click: function (){this.clicks(this.clicks()+1)}, css: {'is-loading' : loading}\"), :className => \"is-medium button is-primary\", :style => Dict{String, Any}())), Dict{String, Tuple{Observables.AbstractObservable, Union{Nothing, Bool}}}(\"loading\" => (Observable(false), nothing), \"clicks\" => (Observable(0), nothing)), Set{String}(), nothing, WebIO.Asset[WebIO.Asset(\"js\", \"knockout\", \"/home/dushya/.julia/packages/Knockout/HReiN/src/../assets/knockout.js\"), WebIO.Asset(\"js\", \"knockout_punches\", \"/home/dushya/.julia/packages/Knockout/HReiN/src/../assets/knockout_punches.js\"), WebIO.Asset(\"js\", nothing, \"/home/dushya/.julia/packages/InteractBase/LJXv3/src/../assets/all.js\"), WebIO.Asset(\"css\", nothing, \"/home/dushya/.julia/packages/InteractBase/LJXv3/src/../assets/style.css\"), WebIO.Asset(\"css\", nothing, \"/home/dushya/.julia/packages/Interact/PENUy/src/../assets/bulma_confined.min.css\")], Dict{Any, Any}(\"loading\" => Any[WebIO.JSString(\"(function (val){return (val!=this.model[\\\"loading\\\"]()) ? (this.valueFromJulia[\\\"loading\\\"]=true, this.model[\\\"loading\\\"](val)) : undefined})\")], \"clicks\" => Any[WebIO.JSString(\"(function (val){return (val!=this.model[\\\"clicks\\\"]()) ? (this.valueFromJulia[\\\"clicks\\\"]=true, this.model[\\\"clicks\\\"](val)) : undefined})\")]), WebIO.ConnectionPool(Channel{Any}(32), Set{WebIO.AbstractConnection}(), Base.GenericCondition{ReentrantLock}(Base.IntrusiveLinkedList{Task}(Task (runnable) @0x00007f4dbbf0bd00, Task (runnable) @0x00007f4dbbf0bd00), ReentrantLock(nothing, 0x00000000, 0x00, Base.GenericCondition{Base.Threads.SpinLock}(Base.IntrusiveLinkedList{Task}(nothing, nothing), Base.Threads.SpinLock(0)), (8, 0, 0)))), WebIO.JSString[WebIO.JSString(\"function () {\\n    var handler = (function (ko, koPunches) {\\n    ko.punches.enableAll();\\n    ko.bindingHandlers.numericValue = {\\n        init: function(element, valueAccessor, allBindings, data, context) {\\n            var stringified = ko.observable(ko.unwrap(valueAccessor()));\\n            stringified.subscribe(function(value) {\\n                var val = parseFloat(value);\\n                if (!isNaN(val)) {\\n                    valueAccessor()(val);\\n                }\\n            });\\n            valueAccessor().subscribe(function(value) {\\n                var str = JSON.stringify(value);\\n                if ((str == \\\"0\\\") && ([\\\"-0\\\", \\\"-0.\\\"].indexOf(stringified()) >= 0))\\n                     return;\\n                 if ([\\\"null\\\", \\\"\\\"].indexOf(str) >= 0)\\n                     return;\\n                stringified(str);\\n            });\\n            ko.applyBindingsToNode(\\n                element,\\n                {\\n                    value: stringified,\\n                    valueUpdate: allBindings.get('valueUpdate'),\\n                },\\n                context,\\n            );\\n        }\\n    };\\n    var json_data = {\\\"loading\\\":WebIO.getval({\\\"name\\\":\\\"loading\\\",\\\"scope\\\":\\\"16833075980551959305\\\",\\\"id\\\":\\\"7135398227941034493\\\",\\\"type\\\":\\\"observable\\\"}),\\\"clicks\\\":WebIO.getval({\\\"name\\\":\\\"clicks\\\",\\\"scope\\\":\\\"16833075980551959305\\\",\\\"id\\\":\\\"3256176417877600976\\\",\\\"type\\\":\\\"observable\\\"})};\\n    var self = this;\\n    function AppViewModel() {\\n        for (var key in json_data) {\\n            var el = json_data[key];\\n            this[key] = Array.isArray(el) ? ko.observableArray(el) : ko.observable(el);\\n        }\\n        \\n        \\n        [this[\\\"loading\\\"].subscribe((function (val){!(this.valueFromJulia[\\\"loading\\\"]) ? (WebIO.setval({\\\"name\\\":\\\"loading\\\",\\\"scope\\\":\\\"16833075980551959305\\\",\\\"id\\\":\\\"7135398227941034493\\\",\\\"type\\\":\\\"observable\\\"},val)) : undefined; return this.valueFromJulia[\\\"loading\\\"]=false}),self),this[\\\"clicks\\\"].subscribe((function (val){!(this.valueFromJulia[\\\"clicks\\\"]) ? (WebIO.setval({\\\"name\\\":\\\"clicks\\\",\\\"scope\\\":\\\"16833075980551959305\\\",\\\"id\\\":\\\"3256176417877600976\\\",\\\"type\\\":\\\"observable\\\"},val)) : undefined; return this.valueFromJulia[\\\"clicks\\\"]=false}),self)]\\n        \\n    }\\n    self.model = new AppViewModel();\\n    self.valueFromJulia = {};\\n    for (var key in json_data) {\\n        self.valueFromJulia[key] = false;\\n    }\\n    ko.applyBindings(self.model, self.dom);\\n}\\n);\\n    (WebIO.importBlock({\\\"data\\\":[{\\\"name\\\":\\\"knockout\\\",\\\"type\\\":\\\"js\\\",\\\"url\\\":\\\"/assetserver/727383f2a47bd31570b7da84eee7b022dd6d7c78-knockout.js\\\"},{\\\"name\\\":\\\"knockout_punches\\\",\\\"type\\\":\\\"js\\\",\\\"url\\\":\\\"/assetserver/382b41b3b1bd9f26f75861d360bad7f8beea211f-knockout_punches.js\\\"}],\\\"type\\\":\\\"async_block\\\"})).then((imports) => handler.apply(this, imports));\\n}\\n\")])], Dict{Symbol, Any}(:className => \"field interact-widget\")), WebIO.Node{WebIO.DOM}(WebIO.DOM(:html, :div), Any[WebIO.Scope(WebIO.Node{WebIO.DOM}(WebIO.DOM(:html, :div), Any[], Dict{Symbol, Any}(:id => \"container\")), Dict{String, Tuple{Observables.AbstractObservable, Union{Nothing, Bool}}}(\"value\" => (Observable(\"\\\\;\\\\;\"), nothing)), Set{String}(), nothing, WebIO.Asset[WebIO.Asset(\"js\", nothing, \"/home/dushya/.julia/packages/InteractBase/LJXv3/src/../assets/katex.min.js\"), WebIO.Asset(\"css\", nothing, \"/home/dushya/.julia/packages/InteractBase/LJXv3/src/../assets/katex.min.css\")], Dict{Any, Any}(\"value\" => Any[WebIO.JSString(\"(function (txt){return this.k.render(txt,this.container)})\")]), WebIO.ConnectionPool(Channel{Any}(32), Set{WebIO.AbstractConnection}(), Base.GenericCondition{ReentrantLock}(Base.IntrusiveLinkedList{Task}(Task (runnable) @0x00007f4d475968b0, Task (runnable) @0x00007f4d475968b0), ReentrantLock(nothing, 0x00000000, 0x00, Base.GenericCondition{Base.Threads.SpinLock}(Base.IntrusiveLinkedList{Task}(nothing, nothing), Base.Threads.SpinLock(0)), (8, 139969868377088, 0)))), WebIO.JSString[WebIO.JSString(\"function () {\\n    var handler = ((function (k){this.k=k; this.container=this.dom.querySelector(\\\"#container\\\"); return k.render(\\\"\\\\\\\\;\\\\\\\\;\\\",this.container)}));\\n    (WebIO.importBlock({\\\"data\\\":[{\\\"name\\\":null,\\\"type\\\":\\\"js\\\",\\\"url\\\":\\\"/assetserver/dd22ed1bf1896c2748f3fe616ce0b838adc895c1-katex.min.js\\\"},{\\\"name\\\":null,\\\"type\\\":\\\"css\\\",\\\"url\\\":\\\"/assetserver/46517a424aa5e6cffc1360d7e0848b601c584ee3-katex.min.css\\\"}],\\\"type\\\":\\\"async_block\\\"})).then((imports) => handler.apply(this, imports));\\n}\\n\")])], Dict{Symbol, Any}(:className => \"interact-widget\")), WebIO.Node{WebIO.DOM}(WebIO.DOM(:html, :div), Any[WebIO.Scope(WebIO.Node{WebIO.DOM}(WebIO.DOM(:html, :button), Any[\"save\"], Dict{Symbol, Any}(:attributes => Dict{Any, Any}(\"data-bind\" => \"click: function (){this.clicks(this.clicks()+1)}, css: {'is-loading' : loading}\"), :className => \"is-medium button is-primary\", :style => Dict{String, Any}())), Dict{String, Tuple{Observables.AbstractObservable, Union{Nothing, Bool}}}(\"loading\" => (Observable(false), nothing), \"clicks\" => (Observable(0), nothing)), Set{String}(), nothing, WebIO.Asset[WebIO.Asset(\"js\", \"knockout\", \"/home/dushya/.julia/packages/Knockout/HReiN/src/../assets/knockout.js\"), WebIO.Asset(\"js\", \"knockout_punches\", \"/home/dushya/.julia/packages/Knockout/HReiN/src/../assets/knockout_punches.js\"), WebIO.Asset(\"js\", nothing, \"/home/dushya/.julia/packages/InteractBase/LJXv3/src/../assets/all.js\"), WebIO.Asset(\"css\", nothing, \"/home/dushya/.julia/packages/InteractBase/LJXv3/src/../assets/style.css\"), WebIO.Asset(\"css\", nothing, \"/home/dushya/.julia/packages/Interact/PENUy/src/../assets/bulma_confined.min.css\")], Dict{Any, Any}(\"loading\" => Any[WebIO.JSString(\"(function (val){return (val!=this.model[\\\"loading\\\"]()) ? (this.valueFromJulia[\\\"loading\\\"]=true, this.model[\\\"loading\\\"](val)) : undefined})\")], \"clicks\" => Any[WebIO.JSString(\"(function (val){return (val!=this.model[\\\"clicks\\\"]()) ? (this.valueFromJulia[\\\"clicks\\\"]=true, this.model[\\\"clicks\\\"](val)) : undefined})\")]), WebIO.ConnectionPool(Channel{Any}(32), Set{WebIO.AbstractConnection}(), Base.GenericCondition{ReentrantLock}(Base.IntrusiveLinkedList{Task}(Task (runnable) @0x00007f4dbbf1ed60, Task (runnable) @0x00007f4dbbf1ed60), ReentrantLock(nothing, 0x00000000, 0x00, Base.GenericCondition{Base.Threads.SpinLock}(Base.IntrusiveLinkedList{Task}(nothing, nothing), Base.Threads.SpinLock(0)), (8, 139971641719744, 139971641719744)))), WebIO.JSString[WebIO.JSString(\"function () {\\n    var handler = (function (ko, koPunches) {\\n    ko.punches.enableAll();\\n    ko.bindingHandlers.numericValue = {\\n        init: function(element, valueAccessor, allBindings, data, context) {\\n            var stringified = ko.observable(ko.unwrap(valueAccessor()));\\n            stringified.subscribe(function(value) {\\n                var val = parseFloat(value);\\n                if (!isNaN(val)) {\\n                    valueAccessor()(val);\\n                }\\n            });\\n            valueAccessor().subscribe(function(value) {\\n                var str = JSON.stringify(value);\\n                if ((str == \\\"0\\\") && ([\\\"-0\\\", \\\"-0.\\\"].indexOf(stringified()) >= 0))\\n                     return;\\n                 if ([\\\"null\\\", \\\"\\\"].indexOf(str) >= 0)\\n                     return;\\n                stringified(str);\\n            });\\n            ko.applyBindingsToNode(\\n                element,\\n                {\\n                    value: stringified,\\n                    valueUpdate: allBindings.get('valueUpdate'),\\n                },\\n                context,\\n            );\\n        }\\n    };\\n    var json_data = {\\\"loading\\\":WebIO.getval({\\\"name\\\":\\\"loading\\\",\\\"scope\\\":\\\"3632359482492178090\\\",\\\"id\\\":\\\"17522526787019710111\\\",\\\"type\\\":\\\"observable\\\"}),\\\"clicks\\\":WebIO.getval({\\\"name\\\":\\\"clicks\\\",\\\"scope\\\":\\\"3632359482492178090\\\",\\\"id\\\":\\\"5034944410753229429\\\",\\\"type\\\":\\\"observable\\\"})};\\n    var self = this;\\n    function AppViewModel() {\\n        for (var key in json_data) {\\n            var el = json_data[key];\\n            this[key] = Array.isArray(el) ? ko.observableArray(el) : ko.observable(el);\\n        }\\n        \\n        \\n        [this[\\\"loading\\\"].subscribe((function (val){!(this.valueFromJulia[\\\"loading\\\"]) ? (WebIO.setval({\\\"name\\\":\\\"loading\\\",\\\"scope\\\":\\\"3632359482492178090\\\",\\\"id\\\":\\\"17522526787019710111\\\",\\\"type\\\":\\\"observable\\\"},val)) : undefined; return this.valueFromJulia[\\\"loading\\\"]=false}),self),this[\\\"clicks\\\"].subscribe((function (val){!(this.valueFromJulia[\\\"clicks\\\"]) ? (WebIO.setval({\\\"name\\\":\\\"clicks\\\",\\\"scope\\\":\\\"3632359482492178090\\\",\\\"id\\\":\\\"5034944410753229429\\\",\\\"type\\\":\\\"observable\\\"},val)) : undefined; return this.valueFromJulia[\\\"clicks\\\"]=false}),self)]\\n        \\n    }\\n    self.model = new AppViewModel();\\n    self.valueFromJulia = {};\\n    for (var key in json_data) {\\n        self.valueFromJulia[key] = false;\\n    }\\n    ko.applyBindings(self.model, self.dom);\\n}\\n);\\n    (WebIO.importBlock({\\\"data\\\":[{\\\"name\\\":\\\"knockout\\\",\\\"type\\\":\\\"js\\\",\\\"url\\\":\\\"/assetserver/727383f2a47bd31570b7da84eee7b022dd6d7c78-knockout.js\\\"},{\\\"name\\\":\\\"knockout_punches\\\",\\\"type\\\":\\\"js\\\",\\\"url\\\":\\\"/assetserver/382b41b3b1bd9f26f75861d360bad7f8beea211f-knockout_punches.js\\\"}],\\\"type\\\":\\\"async_block\\\"})).then((imports) => handler.apply(this, imports));\\n}\\n\")])], Dict{Symbol, Any}(:className => \"field interact-widget\"))], Dict{Symbol, Any}(:style => Dict(\"display\" => \"flex\", \"flex-direction\" => \"row\")))], Dict{Symbol, Any}(:style => Dict(\"display\" => \"flex\", \"flex-direction\" => \"column\"))), WebIO.Node{WebIO.DOM}(WebIO.DOM(:html, :div), Any[WebIO.Scope(WebIO.Node{WebIO.DOM}(WebIO.DOM(:html, :div), Any[], Dict{Symbol, Any}(:id => \"container\")), Dict{String, Tuple{Observables.AbstractObservable, Union{Nothing, Bool}}}(\"value\" => (Observable(\"\\\\;\\\\;\"), nothing)), Set{String}(), nothing, WebIO.Asset[WebIO.Asset(\"js\", nothing, \"/home/dushya/.julia/packages/InteractBase/LJXv3/src/../assets/katex.min.js\"), WebIO.Asset(\"css\", nothing, \"/home/dushya/.julia/packages/InteractBase/LJXv3/src/../assets/katex.min.css\")], Dict{Any, Any}(\"value\" => Any[WebIO.JSString(\"(function (txt){return this.k.render(txt,this.container)})\")]), WebIO.ConnectionPool(Channel{Any}(32), Set{WebIO.AbstractConnection}(), Base.GenericCondition{ReentrantLock}(Base.IntrusiveLinkedList{Task}(Task (runnable) @0x00007f4d475968b0, Task (runnable) @0x00007f4d475968b0), ReentrantLock(nothing, 0x00000000, 0x00, Base.GenericCondition{Base.Threads.SpinLock}(Base.IntrusiveLinkedList{Task}(nothing, nothing), Base.Threads.SpinLock(0)), (8, 139969868377088, 0)))), WebIO.JSString[WebIO.JSString(\"function () {\\n    var handler = ((function (k){this.k=k; this.container=this.dom.querySelector(\\\"#container\\\"); return k.render(\\\"\\\\\\\\;\\\\\\\\;\\\",this.container)}));\\n    (WebIO.importBlock({\\\"data\\\":[{\\\"name\\\":null,\\\"type\\\":\\\"js\\\",\\\"url\\\":\\\"/assetserver/dd22ed1bf1896c2748f3fe616ce0b838adc895c1-katex.min.js\\\"},{\\\"name\\\":null,\\\"type\\\":\\\"css\\\",\\\"url\\\":\\\"/assetserver/46517a424aa5e6cffc1360d7e0848b601c584ee3-katex.min.css\\\"}],\\\"type\\\":\\\"async_block\\\"})).then((imports) => handler.apply(this, imports));\\n}\\n\")])], Dict{Symbol, Any}(:className => \"interact-widget\")), Observable(Luxor.Drawing(430.0, 430.0, \"\", Cairo.CairoSurfaceBase{UInt32}(Ptr{Nothing} @0x0000000000000000, 430.0, 430.0), Cairo.CairoContext(Ptr{Nothing} @0x0000000004f8fbd0, Cairo.CairoSurfaceBase{UInt32}(Ptr{Nothing} @0x0000000000000000, 430.0, 430.0), Ptr{Nothing} @0x0000000005262ff0), :png, 0.5, 0.5, 0.5, 0.5, IOBuffer(data=UInt8[...], readable=true, writable=true, seekable=true, append=false, size=8829, maxsize=Inf, ptr=8830, mark=-1), UInt8[0x89, 0x50, 0x4e, 0x47, 0x0d, 0x0a, 0x1a, 0x0a, 0x00, 0x00  …  0x00, 0x00, 0x49, 0x45, 0x4e, 0x44, 0xae, 0x42, 0x60, 0x82], false)), WebIO.Node{WebIO.DOM}(WebIO.DOM(:html, :div), Any[WebIO.Scope(WebIO.Node{WebIO.DOM}(WebIO.DOM(:html, :div), Any[], Dict{Symbol, Any}(:id => \"container\")), Dict{String, Tuple{Observables.AbstractObservable, Union{Nothing, Bool}}}(\"value\" => (Observable(\"\\\\;\\\\;\"), nothing)), Set{String}(), nothing, WebIO.Asset[WebIO.Asset(\"js\", nothing, \"/home/dushya/.julia/packages/InteractBase/LJXv3/src/../assets/katex.min.js\"), WebIO.Asset(\"css\", nothing, \"/home/dushya/.julia/packages/InteractBase/LJXv3/src/../assets/katex.min.css\")], Dict{Any, Any}(\"value\" => Any[WebIO.JSString(\"(function (txt){return this.k.render(txt,this.container)})\")]), WebIO.ConnectionPool(Channel{Any}(32), Set{WebIO.AbstractConnection}(), Base.GenericCondition{ReentrantLock}(Base.IntrusiveLinkedList{Task}(Task (runnable) @0x00007f4d475968b0, Task (runnable) @0x00007f4d475968b0), ReentrantLock(nothing, 0x00000000, 0x00, Base.GenericCondition{Base.Threads.SpinLock}(Base.IntrusiveLinkedList{Task}(nothing, nothing), Base.Threads.SpinLock(0)), (8, 139969868377088, 0)))), WebIO.JSString[WebIO.JSString(\"function () {\\n    var handler = ((function (k){this.k=k; this.container=this.dom.querySelector(\\\"#container\\\"); return k.render(\\\"\\\\\\\\;\\\\\\\\;\\\",this.container)}));\\n    (WebIO.importBlock({\\\"data\\\":[{\\\"name\\\":null,\\\"type\\\":\\\"js\\\",\\\"url\\\":\\\"/assetserver/dd22ed1bf1896c2748f3fe616ce0b838adc895c1-katex.min.js\\\"},{\\\"name\\\":null,\\\"type\\\":\\\"css\\\",\\\"url\\\":\\\"/assetserver/46517a424aa5e6cffc1360d7e0848b601c584ee3-katex.min.css\\\"}],\\\"type\\\":\\\"async_block\\\"})).then((imports) => handler.apply(this, imports));\\n}\\n\")])], Dict{Symbol, Any}(:className => \"interact-widget\")), WebIO.Node{WebIO.DOM}(WebIO.DOM(:html, :div), Any[], Dict{Symbol, Any}(:style => Dict(\"display\" => \"flex\", \"flex-direction\" => \"column\")))], Dict{Symbol, Any}(:style => Dict(\"display\" => \"flex\", \"flex-direction\" => \"row\")))], Dict{Symbol, Any}(:style => Dict(\"display\" => \"flex\", \"flex-direction\" => \"column\")))"
      ]
     },
     "execution_count": 7,
     "metadata": {
      "application/vnd.webio.node+json": {
       "kernelId": "5a81b46e-df37-4a02-83ed-9b51f6fbfe0f"
      }
     },
     "output_type": "execute_result"
    }
   ],
   "source": [
    "create_interactive_app(model, initialiser= initialiser!,\n",
    "    props_to_record=Dict(\"patches\"=>Set([:color, :is_alive])),\n",
    "    step_rule= step_rule!,\n",
    "    model_controls=[\n",
    "        (:alive_percent, \"slider\", 0:0.01:1.0)\n",
    "        ], \n",
    "    frames=200, show_patches=true) "
   ]
  },
  {
   "cell_type": "markdown",
   "metadata": {},
   "source": [
    "## Step 4: Fetch Data \n",
    "\n",
    "We can fetch the data of number alive patches as follows."
   ]
  },
  {
   "cell_type": "code",
   "execution_count": 8,
   "metadata": {},
   "outputs": [
    {
     "data": {
      "image/png": "[encoded data removed]",
      "image/svg+xml": [
       "<?xml version=\"1.0\" encoding=\"utf-8\"?>\n",
       "<svg xmlns=\"http://www.w3.org/2000/svg\" xmlns:xlink=\"http://www.w3.org/1999/xlink\" width=\"600\" height=\"400\" viewBox=\"0 0 2400 1600\">\n",
       "<defs>\n",
       "  <clipPath id=\"clip280\">\n",
       "    <rect x=\"0\" y=\"0\" width=\"2400\" height=\"1600\"/>\n",
       "  </clipPath>\n",
       "</defs>\n",
       "<path clip-path=\"url(#clip280)\" d=\"M0 1600 L2400 1600 L2400 0 L0 0  Z\" fill=\"#ffffff\" fill-rule=\"evenodd\" fill-opacity=\"1\"/>\n",
       "<defs>\n",
       "  <clipPath id=\"clip281\">\n",
       "    <rect x=\"480\" y=\"0\" width=\"1681\" height=\"1600\"/>\n",
       "  </clipPath>\n",
       "</defs>\n",
       "<path clip-path=\"url(#clip280)\" d=\"M234.125 1423.18 L2352.76 1423.18 L2352.76 47.2441 L234.125 47.2441  Z\" fill=\"#ffffff\" fill-rule=\"evenodd\" fill-opacity=\"1\"/>\n",
       "<defs>\n",
       "  <clipPath id=\"clip282\">\n",
       "    <rect x=\"234\" y=\"47\" width=\"2120\" height=\"1377\"/>\n",
       "  </clipPath>\n",
       "</defs>\n",
       "<polyline clip-path=\"url(#clip282)\" style=\"stroke:#000000; stroke-linecap:round; stroke-linejoin:round; stroke-width:2; stroke-opacity:0.1; fill:none\" points=\"284.093,1423.18 284.093,47.2441 \"/>\n",
       "<polyline clip-path=\"url(#clip282)\" style=\"stroke:#000000; stroke-linecap:round; stroke-linejoin:round; stroke-width:2; stroke-opacity:0.1; fill:none\" points=\"783.77,1423.18 783.77,47.2441 \"/>\n",
       "<polyline clip-path=\"url(#clip282)\" style=\"stroke:#000000; stroke-linecap:round; stroke-linejoin:round; stroke-width:2; stroke-opacity:0.1; fill:none\" points=\"1283.45,1423.18 1283.45,47.2441 \"/>\n",
       "<polyline clip-path=\"url(#clip282)\" style=\"stroke:#000000; stroke-linecap:round; stroke-linejoin:round; stroke-width:2; stroke-opacity:0.1; fill:none\" points=\"1783.12,1423.18 1783.12,47.2441 \"/>\n",
       "<polyline clip-path=\"url(#clip282)\" style=\"stroke:#000000; stroke-linecap:round; stroke-linejoin:round; stroke-width:2; stroke-opacity:0.1; fill:none\" points=\"2282.8,1423.18 2282.8,47.2441 \"/>\n",
       "<polyline clip-path=\"url(#clip280)\" style=\"stroke:#000000; stroke-linecap:round; stroke-linejoin:round; stroke-width:4; stroke-opacity:1; fill:none\" points=\"234.125,1423.18 2352.76,1423.18 \"/>\n",
       "<polyline clip-path=\"url(#clip280)\" style=\"stroke:#000000; stroke-linecap:round; stroke-linejoin:round; stroke-width:4; stroke-opacity:1; fill:none\" points=\"284.093,1423.18 284.093,1404.28 \"/>\n",
       "<polyline clip-path=\"url(#clip280)\" style=\"stroke:#000000; stroke-linecap:round; stroke-linejoin:round; stroke-width:4; stroke-opacity:1; fill:none\" points=\"783.77,1423.18 783.77,1404.28 \"/>\n",
       "<polyline clip-path=\"url(#clip280)\" style=\"stroke:#000000; stroke-linecap:round; stroke-linejoin:round; stroke-width:4; stroke-opacity:1; fill:none\" points=\"1283.45,1423.18 1283.45,1404.28 \"/>\n",
       "<polyline clip-path=\"url(#clip280)\" style=\"stroke:#000000; stroke-linecap:round; stroke-linejoin:round; stroke-width:4; stroke-opacity:1; fill:none\" points=\"1783.12,1423.18 1783.12,1404.28 \"/>\n",
       "<polyline clip-path=\"url(#clip280)\" style=\"stroke:#000000; stroke-linecap:round; stroke-linejoin:round; stroke-width:4; stroke-opacity:1; fill:none\" points=\"2282.8,1423.18 2282.8,1404.28 \"/>\n",
       "<path clip-path=\"url(#clip280)\" d=\"M284.093 1454.1 Q280.482 1454.1 278.653 1457.66 Q276.848 1461.2 276.848 1468.33 Q276.848 1475.44 278.653 1479.01 Q280.482 1482.55 284.093 1482.55 Q287.727 1482.55 289.533 1479.01 Q291.362 1475.44 291.362 1468.33 Q291.362 1461.2 289.533 1457.66 Q287.727 1454.1 284.093 1454.1 M284.093 1450.39 Q289.903 1450.39 292.959 1455 Q296.038 1459.58 296.038 1468.33 Q296.038 1477.06 292.959 1481.67 Q289.903 1486.25 284.093 1486.25 Q278.283 1486.25 275.204 1481.67 Q272.149 1477.06 272.149 1468.33 Q272.149 1459.58 275.204 1455 Q278.283 1450.39 284.093 1450.39 Z\" fill=\"#000000\" fill-rule=\"nonzero\" fill-opacity=\"1\" /><path clip-path=\"url(#clip280)\" d=\"M758.469 1451.02 L776.826 1451.02 L776.826 1454.96 L762.752 1454.96 L762.752 1463.43 Q763.77 1463.08 764.789 1462.92 Q765.807 1462.73 766.826 1462.73 Q772.613 1462.73 775.992 1465.9 Q779.372 1469.08 779.372 1474.49 Q779.372 1480.07 775.9 1483.17 Q772.428 1486.25 766.108 1486.25 Q763.932 1486.25 761.664 1485.88 Q759.418 1485.51 757.011 1484.77 L757.011 1480.07 Q759.094 1481.2 761.317 1481.76 Q763.539 1482.32 766.016 1482.32 Q770.02 1482.32 772.358 1480.21 Q774.696 1478.1 774.696 1474.49 Q774.696 1470.88 772.358 1468.77 Q770.02 1466.67 766.016 1466.67 Q764.141 1466.67 762.266 1467.08 Q760.414 1467.5 758.469 1468.38 L758.469 1451.02 Z\" fill=\"#000000\" fill-rule=\"nonzero\" fill-opacity=\"1\" /><path clip-path=\"url(#clip280)\" d=\"M798.585 1454.1 Q794.974 1454.1 793.145 1457.66 Q791.34 1461.2 791.34 1468.33 Q791.34 1475.44 793.145 1479.01 Q794.974 1482.55 798.585 1482.55 Q802.219 1482.55 804.025 1479.01 Q805.853 1475.44 805.853 1468.33 Q805.853 1461.2 804.025 1457.66 Q802.219 1454.1 798.585 1454.1 M798.585 1450.39 Q804.395 1450.39 807.451 1455 Q810.529 1459.58 810.529 1468.33 Q810.529 1477.06 807.451 1481.67 Q804.395 1486.25 798.585 1486.25 Q792.775 1486.25 789.696 1481.67 Q786.64 1477.06 786.64 1468.33 Q786.64 1459.58 789.696 1455 Q792.775 1450.39 798.585 1450.39 Z\" fill=\"#000000\" fill-rule=\"nonzero\" fill-opacity=\"1\" /><path clip-path=\"url(#clip280)\" d=\"M1243.05 1481.64 L1250.69 1481.64 L1250.69 1455.28 L1242.38 1456.95 L1242.38 1452.69 L1250.65 1451.02 L1255.32 1451.02 L1255.32 1481.64 L1262.96 1481.64 L1262.96 1485.58 L1243.05 1485.58 L1243.05 1481.64 Z\" fill=\"#000000\" fill-rule=\"nonzero\" fill-opacity=\"1\" /><path clip-path=\"url(#clip280)\" d=\"M1282.41 1454.1 Q1278.79 1454.1 1276.97 1457.66 Q1275.16 1461.2 1275.16 1468.33 Q1275.16 1475.44 1276.97 1479.01 Q1278.79 1482.55 1282.41 1482.55 Q1286.04 1482.55 1287.85 1479.01 Q1289.67 1475.44 1289.67 1468.33 Q1289.67 1461.2 1287.85 1457.66 Q1286.04 1454.1 1282.41 1454.1 M1282.41 1450.39 Q1288.22 1450.39 1291.27 1455 Q1294.35 1459.58 1294.35 1468.33 Q1294.35 1477.06 1291.27 1481.67 Q1288.22 1486.25 1282.41 1486.25 Q1276.6 1486.25 1273.52 1481.67 Q1270.46 1477.06 1270.46 1468.33 Q1270.46 1459.58 1273.52 1455 Q1276.6 1450.39 1282.41 1450.39 Z\" fill=\"#000000\" fill-rule=\"nonzero\" fill-opacity=\"1\" /><path clip-path=\"url(#clip280)\" d=\"M1312.57 1454.1 Q1308.96 1454.1 1307.13 1457.66 Q1305.32 1461.2 1305.32 1468.33 Q1305.32 1475.44 1307.13 1479.01 Q1308.96 1482.55 1312.57 1482.55 Q1316.2 1482.55 1318.01 1479.01 Q1319.84 1475.44 1319.84 1468.33 Q1319.84 1461.2 1318.01 1457.66 Q1316.2 1454.1 1312.57 1454.1 M1312.57 1450.39 Q1318.38 1450.39 1321.43 1455 Q1324.51 1459.58 1324.51 1468.33 Q1324.51 1477.06 1321.43 1481.67 Q1318.38 1486.25 1312.57 1486.25 Q1306.76 1486.25 1303.68 1481.67 Q1300.62 1477.06 1300.62 1468.33 Q1300.62 1459.58 1303.68 1455 Q1306.76 1450.39 1312.57 1450.39 Z\" fill=\"#000000\" fill-rule=\"nonzero\" fill-opacity=\"1\" /><path clip-path=\"url(#clip280)\" d=\"M1742.73 1481.64 L1750.37 1481.64 L1750.37 1455.28 L1742.06 1456.95 L1742.06 1452.69 L1750.32 1451.02 L1755 1451.02 L1755 1481.64 L1762.64 1481.64 L1762.64 1485.58 L1742.73 1485.58 L1742.73 1481.64 Z\" fill=\"#000000\" fill-rule=\"nonzero\" fill-opacity=\"1\" /><path clip-path=\"url(#clip280)\" d=\"M1772.13 1451.02 L1790.49 1451.02 L1790.49 1454.96 L1776.41 1454.96 L1776.41 1463.43 Q1777.43 1463.08 1778.45 1462.92 Q1779.47 1462.73 1780.49 1462.73 Q1786.27 1462.73 1789.65 1465.9 Q1793.03 1469.08 1793.03 1474.49 Q1793.03 1480.07 1789.56 1483.17 Q1786.09 1486.25 1779.77 1486.25 Q1777.59 1486.25 1775.32 1485.88 Q1773.08 1485.51 1770.67 1484.77 L1770.67 1480.07 Q1772.75 1481.2 1774.98 1481.76 Q1777.2 1482.32 1779.68 1482.32 Q1783.68 1482.32 1786.02 1480.21 Q1788.36 1478.1 1788.36 1474.49 Q1788.36 1470.88 1786.02 1468.77 Q1783.68 1466.67 1779.68 1466.67 Q1777.8 1466.67 1775.93 1467.08 Q1774.07 1467.5 1772.13 1468.38 L1772.13 1451.02 Z\" fill=\"#000000\" fill-rule=\"nonzero\" fill-opacity=\"1\" /><path clip-path=\"url(#clip280)\" d=\"M1812.24 1454.1 Q1808.63 1454.1 1806.8 1457.66 Q1805 1461.2 1805 1468.33 Q1805 1475.44 1806.8 1479.01 Q1808.63 1482.55 1812.24 1482.55 Q1815.88 1482.55 1817.68 1479.01 Q1819.51 1475.44 1819.51 1468.33 Q1819.51 1461.2 1817.68 1457.66 Q1815.88 1454.1 1812.24 1454.1 M1812.24 1450.39 Q1818.05 1450.39 1821.11 1455 Q1824.19 1459.58 1824.19 1468.33 Q1824.19 1477.06 1821.11 1481.67 Q1818.05 1486.25 1812.24 1486.25 Q1806.43 1486.25 1803.36 1481.67 Q1800.3 1477.06 1800.3 1468.33 Q1800.3 1459.58 1803.36 1455 Q1806.43 1450.39 1812.24 1450.39 Z\" fill=\"#000000\" fill-rule=\"nonzero\" fill-opacity=\"1\" /><path clip-path=\"url(#clip280)\" d=\"M2246.49 1481.64 L2262.81 1481.64 L2262.81 1485.58 L2240.87 1485.58 L2240.87 1481.64 Q2243.53 1478.89 2248.11 1474.26 Q2252.72 1469.61 2253.9 1468.27 Q2256.15 1465.74 2257.03 1464.01 Q2257.93 1462.25 2257.93 1460.56 Q2257.93 1457.8 2255.98 1456.07 Q2254.06 1454.33 2250.96 1454.33 Q2248.76 1454.33 2246.31 1455.09 Q2243.88 1455.86 2241.1 1457.41 L2241.1 1452.69 Q2243.92 1451.55 2246.38 1450.97 Q2248.83 1450.39 2250.87 1450.39 Q2256.24 1450.39 2259.43 1453.08 Q2262.63 1455.77 2262.63 1460.26 Q2262.63 1462.39 2261.82 1464.31 Q2261.03 1466.2 2258.92 1468.8 Q2258.35 1469.47 2255.24 1472.69 Q2252.14 1475.88 2246.49 1481.64 Z\" fill=\"#000000\" fill-rule=\"nonzero\" fill-opacity=\"1\" /><path clip-path=\"url(#clip280)\" d=\"M2282.63 1454.1 Q2279.02 1454.1 2277.19 1457.66 Q2275.38 1461.2 2275.38 1468.33 Q2275.38 1475.44 2277.19 1479.01 Q2279.02 1482.55 2282.63 1482.55 Q2286.26 1482.55 2288.07 1479.01 Q2289.9 1475.44 2289.9 1468.33 Q2289.9 1461.2 2288.07 1457.66 Q2286.26 1454.1 2282.63 1454.1 M2282.63 1450.39 Q2288.44 1450.39 2291.49 1455 Q2294.57 1459.58 2294.57 1468.33 Q2294.57 1477.06 2291.49 1481.67 Q2288.44 1486.25 2282.63 1486.25 Q2276.82 1486.25 2273.74 1481.67 Q2270.68 1477.06 2270.68 1468.33 Q2270.68 1459.58 2273.74 1455 Q2276.82 1450.39 2282.63 1450.39 Z\" fill=\"#000000\" fill-rule=\"nonzero\" fill-opacity=\"1\" /><path clip-path=\"url(#clip280)\" d=\"M2312.79 1454.1 Q2309.18 1454.1 2307.35 1457.66 Q2305.54 1461.2 2305.54 1468.33 Q2305.54 1475.44 2307.35 1479.01 Q2309.18 1482.55 2312.79 1482.55 Q2316.42 1482.55 2318.23 1479.01 Q2320.06 1475.44 2320.06 1468.33 Q2320.06 1461.2 2318.23 1457.66 Q2316.42 1454.1 2312.79 1454.1 M2312.79 1450.39 Q2318.6 1450.39 2321.66 1455 Q2324.73 1459.58 2324.73 1468.33 Q2324.73 1477.06 2321.66 1481.67 Q2318.6 1486.25 2312.79 1486.25 Q2306.98 1486.25 2303.9 1481.67 Q2300.85 1477.06 2300.85 1468.33 Q2300.85 1459.58 2303.9 1455 Q2306.98 1450.39 2312.79 1450.39 Z\" fill=\"#000000\" fill-rule=\"nonzero\" fill-opacity=\"1\" /><path clip-path=\"url(#clip280)\" d=\"M1230.48 1522.27 L1230.48 1532.4 L1242.55 1532.4 L1242.55 1536.95 L1230.48 1536.95 L1230.48 1556.3 Q1230.48 1560.66 1231.66 1561.9 Q1232.87 1563.14 1236.53 1563.14 L1242.55 1563.14 L1242.55 1568.04 L1236.53 1568.04 Q1229.75 1568.04 1227.17 1565.53 Q1224.6 1562.98 1224.6 1556.3 L1224.6 1536.95 L1220.3 1536.95 L1220.3 1532.4 L1224.6 1532.4 L1224.6 1522.27 L1230.48 1522.27 Z\" fill=\"#000000\" fill-rule=\"nonzero\" fill-opacity=\"1\" /><path clip-path=\"url(#clip280)\" d=\"M1250.25 1532.4 L1256.11 1532.4 L1256.11 1568.04 L1250.25 1568.04 L1250.25 1532.4 M1250.25 1518.52 L1256.11 1518.52 L1256.11 1525.93 L1250.25 1525.93 L1250.25 1518.52 Z\" fill=\"#000000\" fill-rule=\"nonzero\" fill-opacity=\"1\" /><path clip-path=\"url(#clip280)\" d=\"M1294.01 1533.76 L1294.01 1539.24 Q1291.53 1537.87 1289.02 1537.2 Q1286.53 1536.5 1283.99 1536.5 Q1278.29 1536.5 1275.14 1540.13 Q1271.99 1543.73 1271.99 1550.25 Q1271.99 1556.78 1275.14 1560.4 Q1278.29 1564 1283.99 1564 Q1286.53 1564 1289.02 1563.33 Q1291.53 1562.63 1294.01 1561.26 L1294.01 1566.68 Q1291.56 1567.82 1288.92 1568.39 Q1286.31 1568.97 1283.35 1568.97 Q1275.3 1568.97 1270.56 1563.91 Q1265.81 1558.85 1265.81 1550.25 Q1265.81 1541.53 1270.59 1536.53 Q1275.39 1531.54 1283.73 1531.54 Q1286.44 1531.54 1289.02 1532.11 Q1291.59 1532.65 1294.01 1533.76 Z\" fill=\"#000000\" fill-rule=\"nonzero\" fill-opacity=\"1\" /><path clip-path=\"url(#clip280)\" d=\"M1303.98 1518.52 L1309.86 1518.52 L1309.86 1547.77 L1327.34 1532.4 L1334.82 1532.4 L1315.91 1549.07 L1335.61 1568.04 L1327.97 1568.04 L1309.86 1550.63 L1309.86 1568.04 L1303.98 1568.04 L1303.98 1518.52 Z\" fill=\"#000000\" fill-rule=\"nonzero\" fill-opacity=\"1\" /><path clip-path=\"url(#clip280)\" d=\"M1364.67 1533.45 L1364.67 1538.98 Q1362.19 1537.71 1359.52 1537.07 Q1356.84 1536.44 1353.98 1536.44 Q1349.62 1536.44 1347.42 1537.77 Q1345.26 1539.11 1345.26 1541.79 Q1345.26 1543.82 1346.82 1545 Q1348.38 1546.15 1353.09 1547.2 L1355.09 1547.64 Q1361.33 1548.98 1363.94 1551.43 Q1366.58 1553.85 1366.58 1558.21 Q1366.58 1563.17 1362.64 1566.07 Q1358.72 1568.97 1351.85 1568.97 Q1348.98 1568.97 1345.86 1568.39 Q1342.77 1567.85 1339.34 1566.74 L1339.34 1560.69 Q1342.58 1562.38 1345.73 1563.24 Q1348.89 1564.07 1351.97 1564.07 Q1356.11 1564.07 1358.34 1562.66 Q1360.57 1561.23 1360.57 1558.65 Q1360.57 1556.27 1358.94 1554.99 Q1357.35 1553.72 1351.91 1552.54 L1349.87 1552.07 Q1344.43 1550.92 1342.01 1548.56 Q1339.59 1546.18 1339.59 1542.04 Q1339.59 1537.01 1343.16 1534.27 Q1346.72 1531.54 1353.28 1531.54 Q1356.52 1531.54 1359.39 1532.01 Q1362.25 1532.49 1364.67 1533.45 Z\" fill=\"#000000\" fill-rule=\"nonzero\" fill-opacity=\"1\" /><polyline clip-path=\"url(#clip282)\" style=\"stroke:#000000; stroke-linecap:round; stroke-linejoin:round; stroke-width:2; stroke-opacity:0.1; fill:none\" points=\"234.125,1416.29 2352.76,1416.29 \"/>\n",
       "<polyline clip-path=\"url(#clip282)\" style=\"stroke:#000000; stroke-linecap:round; stroke-linejoin:round; stroke-width:2; stroke-opacity:0.1; fill:none\" points=\"234.125,1149.2 2352.76,1149.2 \"/>\n",
       "<polyline clip-path=\"url(#clip282)\" style=\"stroke:#000000; stroke-linecap:round; stroke-linejoin:round; stroke-width:2; stroke-opacity:0.1; fill:none\" points=\"234.125,882.111 2352.76,882.111 \"/>\n",
       "<polyline clip-path=\"url(#clip282)\" style=\"stroke:#000000; stroke-linecap:round; stroke-linejoin:round; stroke-width:2; stroke-opacity:0.1; fill:none\" points=\"234.125,615.022 2352.76,615.022 \"/>\n",
       "<polyline clip-path=\"url(#clip282)\" style=\"stroke:#000000; stroke-linecap:round; stroke-linejoin:round; stroke-width:2; stroke-opacity:0.1; fill:none\" points=\"234.125,347.933 2352.76,347.933 \"/>\n",
       "<polyline clip-path=\"url(#clip282)\" style=\"stroke:#000000; stroke-linecap:round; stroke-linejoin:round; stroke-width:2; stroke-opacity:0.1; fill:none\" points=\"234.125,80.8439 2352.76,80.8439 \"/>\n",
       "<polyline clip-path=\"url(#clip280)\" style=\"stroke:#000000; stroke-linecap:round; stroke-linejoin:round; stroke-width:4; stroke-opacity:1; fill:none\" points=\"234.125,1423.18 234.125,47.2441 \"/>\n",
       "<polyline clip-path=\"url(#clip280)\" style=\"stroke:#000000; stroke-linecap:round; stroke-linejoin:round; stroke-width:4; stroke-opacity:1; fill:none\" points=\"234.125,1416.29 253.023,1416.29 \"/>\n",
       "<polyline clip-path=\"url(#clip280)\" style=\"stroke:#000000; stroke-linecap:round; stroke-linejoin:round; stroke-width:4; stroke-opacity:1; fill:none\" points=\"234.125,1149.2 253.023,1149.2 \"/>\n",
       "<polyline clip-path=\"url(#clip280)\" style=\"stroke:#000000; stroke-linecap:round; stroke-linejoin:round; stroke-width:4; stroke-opacity:1; fill:none\" points=\"234.125,882.111 253.023,882.111 \"/>\n",
       "<polyline clip-path=\"url(#clip280)\" style=\"stroke:#000000; stroke-linecap:round; stroke-linejoin:round; stroke-width:4; stroke-opacity:1; fill:none\" points=\"234.125,615.022 253.023,615.022 \"/>\n",
       "<polyline clip-path=\"url(#clip280)\" style=\"stroke:#000000; stroke-linecap:round; stroke-linejoin:round; stroke-width:4; stroke-opacity:1; fill:none\" points=\"234.125,347.933 253.023,347.933 \"/>\n",
       "<polyline clip-path=\"url(#clip280)\" style=\"stroke:#000000; stroke-linecap:round; stroke-linejoin:round; stroke-width:4; stroke-opacity:1; fill:none\" points=\"234.125,80.8439 253.023,80.8439 \"/>\n",
       "<path clip-path=\"url(#clip280)\" d=\"M146.066 1399.01 L164.422 1399.01 L164.422 1402.94 L150.348 1402.94 L150.348 1411.42 Q151.366 1411.07 152.385 1410.91 Q153.403 1410.72 154.422 1410.72 Q160.209 1410.72 163.589 1413.89 Q166.968 1417.06 166.968 1422.48 Q166.968 1428.06 163.496 1431.16 Q160.024 1434.24 153.704 1434.24 Q151.528 1434.24 149.26 1433.87 Q147.015 1433.5 144.607 1432.76 L144.607 1428.06 Q146.691 1429.19 148.913 1429.75 Q151.135 1430.31 153.612 1430.31 Q157.616 1430.31 159.954 1428.2 Q162.292 1426.09 162.292 1422.48 Q162.292 1418.87 159.954 1416.76 Q157.616 1414.66 153.612 1414.66 Q151.737 1414.66 149.862 1415.07 Q148.01 1415.49 146.066 1416.37 L146.066 1399.01 Z\" fill=\"#000000\" fill-rule=\"nonzero\" fill-opacity=\"1\" /><path clip-path=\"url(#clip280)\" d=\"M186.181 1402.09 Q182.57 1402.09 180.741 1405.65 Q178.936 1409.19 178.936 1416.32 Q178.936 1423.43 180.741 1426.99 Q182.57 1430.54 186.181 1430.54 Q189.815 1430.54 191.621 1426.99 Q193.45 1423.43 193.45 1416.32 Q193.45 1409.19 191.621 1405.65 Q189.815 1402.09 186.181 1402.09 M186.181 1398.38 Q191.991 1398.38 195.047 1402.99 Q198.125 1407.57 198.125 1416.32 Q198.125 1425.05 195.047 1429.66 Q191.991 1434.24 186.181 1434.24 Q180.371 1434.24 177.292 1429.66 Q174.237 1425.05 174.237 1416.32 Q174.237 1407.57 177.292 1402.99 Q180.371 1398.38 186.181 1398.38 Z\" fill=\"#000000\" fill-rule=\"nonzero\" fill-opacity=\"1\" /><path clip-path=\"url(#clip280)\" d=\"M116.668 1162.54 L124.306 1162.54 L124.306 1136.18 L115.996 1137.85 L115.996 1133.59 L124.26 1131.92 L128.936 1131.92 L128.936 1162.54 L136.575 1162.54 L136.575 1166.48 L116.668 1166.48 L116.668 1162.54 Z\" fill=\"#000000\" fill-rule=\"nonzero\" fill-opacity=\"1\" /><path clip-path=\"url(#clip280)\" d=\"M156.019 1135 Q152.408 1135 150.579 1138.56 Q148.774 1142.11 148.774 1149.23 Q148.774 1156.34 150.579 1159.91 Q152.408 1163.45 156.019 1163.45 Q159.653 1163.45 161.459 1159.91 Q163.288 1156.34 163.288 1149.23 Q163.288 1142.11 161.459 1138.56 Q159.653 1135 156.019 1135 M156.019 1131.29 Q161.829 1131.29 164.885 1135.9 Q167.964 1140.48 167.964 1149.23 Q167.964 1157.96 164.885 1162.57 Q161.829 1167.15 156.019 1167.15 Q150.209 1167.15 147.13 1162.57 Q144.075 1157.96 144.075 1149.23 Q144.075 1140.48 147.13 1135.9 Q150.209 1131.29 156.019 1131.29 Z\" fill=\"#000000\" fill-rule=\"nonzero\" fill-opacity=\"1\" /><path clip-path=\"url(#clip280)\" d=\"M186.181 1135 Q182.57 1135 180.741 1138.56 Q178.936 1142.11 178.936 1149.23 Q178.936 1156.34 180.741 1159.91 Q182.57 1163.45 186.181 1163.45 Q189.815 1163.45 191.621 1159.91 Q193.45 1156.34 193.45 1149.23 Q193.45 1142.11 191.621 1138.56 Q189.815 1135 186.181 1135 M186.181 1131.29 Q191.991 1131.29 195.047 1135.9 Q198.125 1140.48 198.125 1149.23 Q198.125 1157.96 195.047 1162.57 Q191.991 1167.15 186.181 1167.15 Q180.371 1167.15 177.292 1162.57 Q174.237 1157.96 174.237 1149.23 Q174.237 1140.48 177.292 1135.9 Q180.371 1131.29 186.181 1131.29 Z\" fill=\"#000000\" fill-rule=\"nonzero\" fill-opacity=\"1\" /><path clip-path=\"url(#clip280)\" d=\"M116.668 895.456 L124.306 895.456 L124.306 869.09 L115.996 870.757 L115.996 866.498 L124.26 864.831 L128.936 864.831 L128.936 895.456 L136.575 895.456 L136.575 899.391 L116.668 899.391 L116.668 895.456 Z\" fill=\"#000000\" fill-rule=\"nonzero\" fill-opacity=\"1\" /><path clip-path=\"url(#clip280)\" d=\"M146.066 864.831 L164.422 864.831 L164.422 868.766 L150.348 868.766 L150.348 877.238 Q151.366 876.891 152.385 876.729 Q153.403 876.544 154.422 876.544 Q160.209 876.544 163.589 879.715 Q166.968 882.886 166.968 888.303 Q166.968 893.882 163.496 896.984 Q160.024 900.062 153.704 900.062 Q151.528 900.062 149.26 899.692 Q147.015 899.321 144.607 898.581 L144.607 893.882 Q146.691 895.016 148.913 895.572 Q151.135 896.127 153.612 896.127 Q157.616 896.127 159.954 894.021 Q162.292 891.914 162.292 888.303 Q162.292 884.692 159.954 882.585 Q157.616 880.479 153.612 880.479 Q151.737 880.479 149.862 880.896 Q148.01 881.312 146.066 882.192 L146.066 864.831 Z\" fill=\"#000000\" fill-rule=\"nonzero\" fill-opacity=\"1\" /><path clip-path=\"url(#clip280)\" d=\"M186.181 867.91 Q182.57 867.91 180.741 871.474 Q178.936 875.016 178.936 882.146 Q178.936 889.252 180.741 892.817 Q182.57 896.359 186.181 896.359 Q189.815 896.359 191.621 892.817 Q193.45 889.252 193.45 882.146 Q193.45 875.016 191.621 871.474 Q189.815 867.91 186.181 867.91 M186.181 864.206 Q191.991 864.206 195.047 868.812 Q198.125 873.396 198.125 882.146 Q198.125 890.872 195.047 895.479 Q191.991 900.062 186.181 900.062 Q180.371 900.062 177.292 895.479 Q174.237 890.872 174.237 882.146 Q174.237 873.396 177.292 868.812 Q180.371 864.206 186.181 864.206 Z\" fill=\"#000000\" fill-rule=\"nonzero\" fill-opacity=\"1\" /><path clip-path=\"url(#clip280)\" d=\"M119.885 628.367 L136.204 628.367 L136.204 632.302 L114.26 632.302 L114.26 628.367 Q116.922 625.612 121.505 620.983 Q126.112 616.33 127.292 614.987 Q129.538 612.464 130.417 610.728 Q131.32 608.969 131.32 607.279 Q131.32 604.524 129.376 602.788 Q127.455 601.052 124.353 601.052 Q122.154 601.052 119.7 601.816 Q117.269 602.58 114.492 604.131 L114.492 599.409 Q117.316 598.274 119.769 597.696 Q122.223 597.117 124.26 597.117 Q129.63 597.117 132.825 599.802 Q136.019 602.487 136.019 606.978 Q136.019 609.108 135.209 611.029 Q134.422 612.927 132.316 615.52 Q131.737 616.191 128.635 619.408 Q125.533 622.603 119.885 628.367 Z\" fill=\"#000000\" fill-rule=\"nonzero\" fill-opacity=\"1\" /><path clip-path=\"url(#clip280)\" d=\"M156.019 600.821 Q152.408 600.821 150.579 604.385 Q148.774 607.927 148.774 615.057 Q148.774 622.163 150.579 625.728 Q152.408 629.27 156.019 629.27 Q159.653 629.27 161.459 625.728 Q163.288 622.163 163.288 615.057 Q163.288 607.927 161.459 604.385 Q159.653 600.821 156.019 600.821 M156.019 597.117 Q161.829 597.117 164.885 601.723 Q167.964 606.307 167.964 615.057 Q167.964 623.783 164.885 628.39 Q161.829 632.973 156.019 632.973 Q150.209 632.973 147.13 628.39 Q144.075 623.783 144.075 615.057 Q144.075 606.307 147.13 601.723 Q150.209 597.117 156.019 597.117 Z\" fill=\"#000000\" fill-rule=\"nonzero\" fill-opacity=\"1\" /><path clip-path=\"url(#clip280)\" d=\"M186.181 600.821 Q182.57 600.821 180.741 604.385 Q178.936 607.927 178.936 615.057 Q178.936 622.163 180.741 625.728 Q182.57 629.27 186.181 629.27 Q189.815 629.27 191.621 625.728 Q193.45 622.163 193.45 615.057 Q193.45 607.927 191.621 604.385 Q189.815 600.821 186.181 600.821 M186.181 597.117 Q191.991 597.117 195.047 601.723 Q198.125 606.307 198.125 615.057 Q198.125 623.783 195.047 628.39 Q191.991 632.973 186.181 632.973 Q180.371 632.973 177.292 628.39 Q174.237 623.783 174.237 615.057 Q174.237 606.307 177.292 601.723 Q180.371 597.117 186.181 597.117 Z\" fill=\"#000000\" fill-rule=\"nonzero\" fill-opacity=\"1\" /><path clip-path=\"url(#clip280)\" d=\"M119.885 361.278 L136.204 361.278 L136.204 365.213 L114.26 365.213 L114.26 361.278 Q116.922 358.523 121.505 353.894 Q126.112 349.241 127.292 347.898 Q129.538 345.375 130.417 343.639 Q131.32 341.88 131.32 340.19 Q131.32 337.435 129.376 335.699 Q127.455 333.963 124.353 333.963 Q122.154 333.963 119.7 334.727 Q117.269 335.491 114.492 337.042 L114.492 332.32 Q117.316 331.185 119.769 330.607 Q122.223 330.028 124.26 330.028 Q129.63 330.028 132.825 332.713 Q136.019 335.398 136.019 339.889 Q136.019 342.019 135.209 343.94 Q134.422 345.838 132.316 348.431 Q131.737 349.102 128.635 352.319 Q125.533 355.514 119.885 361.278 Z\" fill=\"#000000\" fill-rule=\"nonzero\" fill-opacity=\"1\" /><path clip-path=\"url(#clip280)\" d=\"M146.066 330.653 L164.422 330.653 L164.422 334.588 L150.348 334.588 L150.348 343.06 Q151.366 342.713 152.385 342.551 Q153.403 342.366 154.422 342.366 Q160.209 342.366 163.589 345.537 Q166.968 348.708 166.968 354.125 Q166.968 359.704 163.496 362.806 Q160.024 365.884 153.704 365.884 Q151.528 365.884 149.26 365.514 Q147.015 365.143 144.607 364.403 L144.607 359.704 Q146.691 360.838 148.913 361.393 Q151.135 361.949 153.612 361.949 Q157.616 361.949 159.954 359.843 Q162.292 357.736 162.292 354.125 Q162.292 350.514 159.954 348.407 Q157.616 346.301 153.612 346.301 Q151.737 346.301 149.862 346.718 Q148.01 347.134 146.066 348.014 L146.066 330.653 Z\" fill=\"#000000\" fill-rule=\"nonzero\" fill-opacity=\"1\" /><path clip-path=\"url(#clip280)\" d=\"M186.181 333.732 Q182.57 333.732 180.741 337.296 Q178.936 340.838 178.936 347.968 Q178.936 355.074 180.741 358.639 Q182.57 362.181 186.181 362.181 Q189.815 362.181 191.621 358.639 Q193.45 355.074 193.45 347.968 Q193.45 340.838 191.621 337.296 Q189.815 333.732 186.181 333.732 M186.181 330.028 Q191.991 330.028 195.047 334.634 Q198.125 339.218 198.125 347.968 Q198.125 356.694 195.047 361.301 Q191.991 365.884 186.181 365.884 Q180.371 365.884 177.292 361.301 Q174.237 356.694 174.237 347.968 Q174.237 339.218 177.292 334.634 Q180.371 330.028 186.181 330.028 Z\" fill=\"#000000\" fill-rule=\"nonzero\" fill-opacity=\"1\" /><path clip-path=\"url(#clip280)\" d=\"M130.024 79.4897 Q133.38 80.2073 135.255 82.4758 Q137.154 84.7443 137.154 88.0776 Q137.154 93.1934 133.635 95.9943 Q130.117 98.7952 123.635 98.7952 Q121.459 98.7952 119.144 98.3554 Q116.853 97.9387 114.399 97.0822 L114.399 92.5684 Q116.343 93.7026 118.658 94.2813 Q120.973 94.86 123.496 94.86 Q127.894 94.86 130.186 93.1239 Q132.501 91.3878 132.501 88.0776 Q132.501 85.0221 130.348 83.3092 Q128.218 81.5731 124.399 81.5731 L120.371 81.5731 L120.371 77.7305 L124.584 77.7305 Q128.033 77.7305 129.862 76.3647 Q131.691 74.9759 131.691 72.3833 Q131.691 69.7213 129.792 68.3092 Q127.917 66.8741 124.399 66.8741 Q122.478 66.8741 120.279 67.2907 Q118.08 67.7074 115.441 68.587 L115.441 64.4204 Q118.103 63.6796 120.418 63.3093 Q122.755 62.9389 124.816 62.9389 Q130.14 62.9389 133.242 65.3694 Q136.343 67.7768 136.343 71.8972 Q136.343 74.7675 134.7 76.7583 Q133.056 78.7258 130.024 79.4897 Z\" fill=\"#000000\" fill-rule=\"nonzero\" fill-opacity=\"1\" /><path clip-path=\"url(#clip280)\" d=\"M156.019 66.6426 Q152.408 66.6426 150.579 70.2074 Q148.774 73.749 148.774 80.8786 Q148.774 87.9851 150.579 91.5499 Q152.408 95.0915 156.019 95.0915 Q159.653 95.0915 161.459 91.5499 Q163.288 87.9851 163.288 80.8786 Q163.288 73.749 161.459 70.2074 Q159.653 66.6426 156.019 66.6426 M156.019 62.9389 Q161.829 62.9389 164.885 67.5454 Q167.964 72.1287 167.964 80.8786 Q167.964 89.6054 164.885 94.2119 Q161.829 98.7952 156.019 98.7952 Q150.209 98.7952 147.13 94.2119 Q144.075 89.6054 144.075 80.8786 Q144.075 72.1287 147.13 67.5454 Q150.209 62.9389 156.019 62.9389 Z\" fill=\"#000000\" fill-rule=\"nonzero\" fill-opacity=\"1\" /><path clip-path=\"url(#clip280)\" d=\"M186.181 66.6426 Q182.57 66.6426 180.741 70.2074 Q178.936 73.749 178.936 80.8786 Q178.936 87.9851 180.741 91.5499 Q182.57 95.0915 186.181 95.0915 Q189.815 95.0915 191.621 91.5499 Q193.45 87.9851 193.45 80.8786 Q193.45 73.749 191.621 70.2074 Q189.815 66.6426 186.181 66.6426 M186.181 62.9389 Q191.991 62.9389 195.047 67.5454 Q198.125 72.1287 198.125 80.8786 Q198.125 89.6054 195.047 94.2119 Q191.991 98.7952 186.181 98.7952 Q180.371 98.7952 177.292 94.2119 Q174.237 89.6054 174.237 80.8786 Q174.237 72.1287 177.292 67.5454 Q180.371 62.9389 186.181 62.9389 Z\" fill=\"#000000\" fill-rule=\"nonzero\" fill-opacity=\"1\" /><path clip-path=\"url(#clip280)\" d=\"M42.4881 1009.19 L64.0042 1009.19 L64.0042 1015.05 L42.679 1015.05 Q37.6183 1015.05 35.1038 1017.02 Q32.5894 1019 32.5894 1022.94 Q32.5894 1027.68 35.6131 1030.42 Q38.6368 1033.16 43.8567 1033.16 L64.0042 1033.16 L64.0042 1039.05 L28.3562 1039.05 L28.3562 1033.16 L33.8944 1033.16 Q30.6797 1031.06 29.0883 1028.23 Q27.4968 1025.36 27.4968 1021.64 Q27.4968 1015.49 31.3163 1012.34 Q35.1038 1009.19 42.4881 1009.19 Z\" fill=\"#000000\" fill-rule=\"nonzero\" fill-opacity=\"1\" /><path clip-path=\"url(#clip280)\" d=\"M49.9359 998.116 L28.3562 998.116 L28.3562 992.259 L49.7131 992.259 Q54.7739 992.259 57.3202 990.286 Q59.8346 988.312 59.8346 984.366 Q59.8346 979.623 56.8109 976.886 Q53.7872 974.117 48.5673 974.117 L28.3562 974.117 L28.3562 968.26 L64.0042 968.26 L64.0042 974.117 L58.5296 974.117 Q61.7762 976.249 63.3676 979.082 Q64.9272 981.883 64.9272 985.607 Q64.9272 991.75 61.1078 994.933 Q57.2883 998.116 49.9359 998.116 M27.4968 983.379 L27.4968 983.379 Z\" fill=\"#000000\" fill-rule=\"nonzero\" fill-opacity=\"1\" /><path clip-path=\"url(#clip280)\" d=\"M35.1993 928.443 Q31.2526 926.247 29.3747 923.191 Q27.4968 920.136 27.4968 915.998 Q27.4968 910.428 31.4117 907.404 Q35.2948 904.381 42.4881 904.381 L64.0042 904.381 L64.0042 910.269 L42.679 910.269 Q37.5546 910.269 35.072 912.083 Q32.5894 913.897 32.5894 917.621 Q32.5894 922.173 35.6131 924.815 Q38.6368 927.456 43.8567 927.456 L64.0042 927.456 L64.0042 933.345 L42.679 933.345 Q37.5228 933.345 35.072 935.159 Q32.5894 936.973 32.5894 940.761 Q32.5894 945.248 35.6449 947.89 Q38.6686 950.532 43.8567 950.532 L64.0042 950.532 L64.0042 956.42 L28.3562 956.42 L28.3562 950.532 L33.8944 950.532 Q30.616 948.527 29.0564 945.726 Q27.4968 942.925 27.4968 939.074 Q27.4968 935.191 29.4702 932.485 Q31.4436 929.748 35.1993 928.443 Z\" fill=\"#000000\" fill-rule=\"nonzero\" fill-opacity=\"1\" /><path clip-path=\"url(#clip280)\" d=\"M46.212 867.109 Q39.7508 867.109 36.0905 869.783 Q32.3984 872.425 32.3984 877.072 Q32.3984 881.719 36.0905 884.392 Q39.7508 887.034 46.212 887.034 Q52.6732 887.034 56.3653 884.392 Q60.0256 881.719 60.0256 877.072 Q60.0256 872.425 56.3653 869.783 Q52.6732 867.109 46.212 867.109 M33.7671 887.034 Q30.5842 885.188 29.0564 882.387 Q27.4968 879.554 27.4968 875.639 Q27.4968 869.146 32.6531 865.104 Q37.8093 861.03 46.212 861.03 Q54.6147 861.03 59.771 865.104 Q64.9272 869.146 64.9272 875.639 Q64.9272 879.554 63.3994 882.387 Q61.8398 885.188 58.657 887.034 L64.0042 887.034 L64.0042 892.922 L14.479 892.922 L14.479 887.034 L33.7671 887.034 Z\" fill=\"#000000\" fill-rule=\"nonzero\" fill-opacity=\"1\" /><path clip-path=\"url(#clip280)\" d=\"M44.7161 820.831 L47.5806 820.831 L47.5806 847.758 Q53.6281 847.376 56.8109 844.129 Q59.9619 840.851 59.9619 835.026 Q59.9619 831.652 59.1344 828.501 Q58.3069 825.319 56.6518 822.199 L62.1899 822.199 Q63.5267 825.35 64.227 828.661 Q64.9272 831.971 64.9272 835.376 Q64.9272 843.906 59.9619 848.903 Q54.9967 853.869 46.5303 853.869 Q37.7774 853.869 32.6531 849.158 Q27.4968 844.416 27.4968 836.395 Q27.4968 829.202 32.1438 825.032 Q36.7589 820.831 44.7161 820.831 M42.9973 826.687 Q38.1912 826.751 35.3266 829.393 Q32.4621 832.003 32.4621 836.331 Q32.4621 841.233 35.2312 844.193 Q38.0002 847.121 43.0292 847.567 L42.9973 826.687 Z\" fill=\"#000000\" fill-rule=\"nonzero\" fill-opacity=\"1\" /><path clip-path=\"url(#clip280)\" d=\"M33.8307 790.562 Q33.2578 791.548 33.0032 792.726 Q32.7167 793.872 32.7167 795.272 Q32.7167 800.238 35.9632 802.911 Q39.1779 805.553 45.2253 805.553 L64.0042 805.553 L64.0042 811.441 L28.3562 811.441 L28.3562 805.553 L33.8944 805.553 Q30.6479 803.707 29.0883 800.747 Q27.4968 797.787 27.4968 793.554 Q27.4968 792.949 27.5923 792.217 Q27.656 791.485 27.8151 790.594 L33.8307 790.562 Z\" fill=\"#000000\" fill-rule=\"nonzero\" fill-opacity=\"1\" /><path clip-path=\"url(#clip280)\" d=\"M32.4621 749.885 Q32.4621 754.596 36.1542 757.333 Q39.8145 760.07 46.212 760.07 Q52.6095 760.07 56.3017 757.365 Q59.9619 754.627 59.9619 749.885 Q59.9619 745.206 56.2698 742.469 Q52.5777 739.732 46.212 739.732 Q39.8781 739.732 36.186 742.469 Q32.4621 745.206 32.4621 749.885 M27.4968 749.885 Q27.4968 742.246 32.4621 737.886 Q37.4273 733.525 46.212 733.525 Q54.9649 733.525 59.9619 737.886 Q64.9272 742.246 64.9272 749.885 Q64.9272 757.556 59.9619 761.916 Q54.9649 766.245 46.212 766.245 Q37.4273 766.245 32.4621 761.916 Q27.4968 757.556 27.4968 749.885 Z\" fill=\"#000000\" fill-rule=\"nonzero\" fill-opacity=\"1\" /><path clip-path=\"url(#clip280)\" d=\"M14.479 705.771 L19.3487 705.771 L19.3487 711.372 Q19.3487 714.523 20.6219 715.765 Q21.895 716.974 25.2052 716.974 L28.3562 716.974 L28.3562 707.33 L32.9077 707.33 L32.9077 716.974 L64.0042 716.974 L64.0042 722.862 L32.9077 722.862 L32.9077 728.464 L28.3562 728.464 L28.3562 722.862 L25.8736 722.862 Q19.9216 722.862 17.2162 720.093 Q14.479 717.324 14.479 711.309 L14.479 705.771 Z\" fill=\"#000000\" fill-rule=\"nonzero\" fill-opacity=\"1\" /><path clip-path=\"url(#clip280)\" d=\"M58.657 674.483 L77.5631 674.483 L77.5631 680.371 L28.3562 680.371 L28.3562 674.483 L33.7671 674.483 Q30.5842 672.637 29.0564 669.836 Q27.4968 667.003 27.4968 663.089 Q27.4968 656.595 32.6531 652.553 Q37.8093 648.479 46.212 648.479 Q54.6147 648.479 59.771 652.553 Q64.9272 656.595 64.9272 663.089 Q64.9272 667.003 63.3994 669.836 Q61.8398 672.637 58.657 674.483 M46.212 654.558 Q39.7508 654.558 36.0905 657.232 Q32.3984 659.874 32.3984 664.521 Q32.3984 669.168 36.0905 671.841 Q39.7508 674.483 46.212 674.483 Q52.6732 674.483 56.3653 671.841 Q60.0256 669.168 60.0256 664.521 Q60.0256 659.874 56.3653 657.232 Q52.6732 654.558 46.212 654.558 Z\" fill=\"#000000\" fill-rule=\"nonzero\" fill-opacity=\"1\" /><path clip-path=\"url(#clip280)\" d=\"M46.0847 622.571 Q46.0847 629.669 47.7079 632.406 Q49.3312 635.143 53.2461 635.143 Q56.3653 635.143 58.2114 633.106 Q60.0256 631.037 60.0256 627.504 Q60.0256 622.634 56.5881 619.706 Q53.1188 616.746 47.3897 616.746 L46.0847 616.746 L46.0847 622.571 M43.6657 610.89 L64.0042 610.89 L64.0042 616.746 L58.5933 616.746 Q61.8398 618.751 63.3994 621.743 Q64.9272 624.735 64.9272 629.064 Q64.9272 634.538 61.8716 637.785 Q58.7843 641 53.6281 641 Q47.6125 641 44.5569 636.989 Q41.5014 632.947 41.5014 624.958 L41.5014 616.746 L40.9285 616.746 Q36.8862 616.746 34.6901 619.42 Q32.4621 622.062 32.4621 626.868 Q32.4621 629.923 33.1941 632.82 Q33.9262 635.716 35.3903 638.39 L29.9795 638.39 Q28.7381 635.175 28.1334 632.151 Q27.4968 629.127 27.4968 626.263 Q27.4968 618.529 31.5072 614.709 Q35.5176 610.89 43.6657 610.89 Z\" fill=\"#000000\" fill-rule=\"nonzero\" fill-opacity=\"1\" /><path clip-path=\"url(#clip280)\" d=\"M18.2347 593.034 L28.3562 593.034 L28.3562 580.971 L32.9077 580.971 L32.9077 593.034 L52.2594 593.034 Q56.6199 593.034 57.8613 591.856 Q59.1026 590.647 59.1026 586.986 L59.1026 580.971 L64.0042 580.971 L64.0042 586.986 Q64.0042 593.766 61.4897 596.344 Q58.9434 598.922 52.2594 598.922 L32.9077 598.922 L32.9077 603.219 L28.3562 603.219 L28.3562 598.922 L18.2347 598.922 L18.2347 593.034 Z\" fill=\"#000000\" fill-rule=\"nonzero\" fill-opacity=\"1\" /><path clip-path=\"url(#clip280)\" d=\"M29.7248 547.615 L35.1993 547.615 Q33.8307 550.097 33.1623 552.612 Q32.4621 555.094 32.4621 557.641 Q32.4621 563.338 36.0905 566.489 Q39.6872 569.64 46.212 569.64 Q52.7369 569.64 56.3653 566.489 Q59.9619 563.338 59.9619 557.641 Q59.9619 555.094 59.2935 552.612 Q58.5933 550.097 57.2247 547.615 L62.6355 547.615 Q63.7814 550.065 64.3543 552.707 Q64.9272 555.317 64.9272 558.277 Q64.9272 566.33 59.8664 571.072 Q54.8057 575.815 46.212 575.815 Q37.491 575.815 32.4939 571.04 Q27.4968 566.234 27.4968 557.895 Q27.4968 555.19 28.0697 552.612 Q28.6108 550.034 29.7248 547.615 Z\" fill=\"#000000\" fill-rule=\"nonzero\" fill-opacity=\"1\" /><path clip-path=\"url(#clip280)\" d=\"M42.4881 507.797 L64.0042 507.797 L64.0042 513.654 L42.679 513.654 Q37.6183 513.654 35.1038 515.627 Q32.5894 517.6 32.5894 521.547 Q32.5894 526.289 35.6131 529.027 Q38.6368 531.764 43.8567 531.764 L64.0042 531.764 L64.0042 537.652 L14.479 537.652 L14.479 531.764 L33.8944 531.764 Q30.6797 529.663 29.0883 526.831 Q27.4968 523.966 27.4968 520.242 Q27.4968 514.099 31.3163 510.948 Q35.1038 507.797 42.4881 507.797 Z\" fill=\"#000000\" fill-rule=\"nonzero\" fill-opacity=\"1\" /><path clip-path=\"url(#clip280)\" d=\"M44.7161 465.624 L47.5806 465.624 L47.5806 492.551 Q53.6281 492.169 56.8109 488.923 Q59.9619 485.644 59.9619 479.82 Q59.9619 476.446 59.1344 473.295 Q58.3069 470.112 56.6518 466.993 L62.1899 466.993 Q63.5267 470.144 64.227 473.454 Q64.9272 476.764 64.9272 480.17 Q64.9272 488.7 59.9619 493.697 Q54.9967 498.662 46.5303 498.662 Q37.7774 498.662 32.6531 493.952 Q27.4968 489.209 27.4968 481.188 Q27.4968 473.995 32.1438 469.826 Q36.7589 465.624 44.7161 465.624 M42.9973 471.481 Q38.1912 471.544 35.3266 474.186 Q32.4621 476.796 32.4621 481.125 Q32.4621 486.026 35.2312 488.986 Q38.0002 491.915 43.0292 492.36 L42.9973 471.481 Z\" fill=\"#000000\" fill-rule=\"nonzero\" fill-opacity=\"1\" /><path clip-path=\"url(#clip280)\" d=\"M29.4065 433.287 L34.9447 433.287 Q33.6716 435.769 33.035 438.443 Q32.3984 441.116 32.3984 443.981 Q32.3984 448.341 33.7352 450.538 Q35.072 452.702 37.7456 452.702 Q39.7826 452.702 40.9603 451.142 Q42.1061 449.583 43.1565 444.872 L43.6021 442.867 Q44.9389 436.628 47.3897 434.019 Q49.8086 431.377 54.1691 431.377 Q59.1344 431.377 62.0308 435.324 Q64.9272 439.238 64.9272 446.113 Q64.9272 448.978 64.3543 452.097 Q63.8132 455.185 62.6992 458.622 L56.6518 458.622 Q58.3387 455.376 59.198 452.224 Q60.0256 449.073 60.0256 445.986 Q60.0256 441.848 58.6251 439.62 Q57.1929 437.392 54.6147 437.392 Q52.2276 437.392 50.9545 439.016 Q49.6813 440.607 48.5037 446.05 L48.0262 448.087 Q46.8804 453.529 44.5251 455.948 Q42.138 458.367 38.0002 458.367 Q32.9713 458.367 30.2341 454.803 Q27.4968 451.238 27.4968 444.681 Q27.4968 441.435 27.9743 438.57 Q28.4517 435.705 29.4065 433.287 Z\" fill=\"#000000\" fill-rule=\"nonzero\" fill-opacity=\"1\" /><polyline clip-path=\"url(#clip282)\" style=\"stroke:#009af9; stroke-linecap:round; stroke-linejoin:round; stroke-width:4; stroke-opacity:1; fill:none\" points=\"294.087,225.072 304.08,86.1857 314.074,486.819 324.067,508.186 334.061,518.87 344.054,540.237 354.048,534.895 364.041,663.098 374.035,625.705 384.029,689.807 394.022,604.338 404.016,711.174 414.009,759.25 424.003,775.275 433.996,705.832 443.99,807.326 453.983,882.111 463.977,951.554 473.97,1004.97 483.964,1047.71 493.957,956.896 503.951,1004.97 513.945,940.871 523.938,999.63 533.932,908.82 543.925,983.605 553.919,924.845 563.912,818.01 573.906,834.035 583.899,775.275 593.893,823.351 603.886,818.01 613.88,887.453 623.874,780.617 633.867,887.453 643.861,1004.97 653.854,983.605 663.848,1010.31 673.841,914.162 683.835,994.288 693.828,924.845 703.822,972.921 713.815,866.086 723.809,823.351 733.802,924.845 743.796,930.187 753.79,1127.83 763.783,1197.28 773.777,1197.28 783.77,1138.52 793.764,1240.01 803.757,1191.93 813.751,1186.59 823.744,1197.28 833.738,1186.59 843.731,1149.2 853.725,1170.57 863.718,1117.15 873.712,1122.49 883.706,1149.2 893.699,1074.42 903.693,1117.15 913.686,1186.59 923.68,1213.3 933.673,1197.28 943.667,1175.91 953.66,1218.64 963.654,1272.06 973.647,1261.38 983.641,1330.82 993.634,1314.8 1003.63,1314.8 1013.62,1266.72 1023.62,1320.14 1033.61,1282.74 1043.6,1298.77 1053.6,1272.06 1063.59,1250.69 1073.58,1309.45 1083.58,1357.53 1093.57,1352.19 1103.56,1384.24 1113.56,1320.14 1123.55,1304.11 1133.54,1245.35 1143.54,1304.11 1153.53,1240.01 1163.52,1282.74 1173.52,1213.3 1183.51,1240.01 1193.51,1320.14 1203.5,1261.38 1213.49,1298.77 1223.49,1218.64 1233.48,1282.74 1243.47,1240.01 1253.47,1197.28 1263.46,1191.93 1273.45,1085.1 1283.45,1095.78 1293.44,1085.1 1303.43,978.263 1313.43,1085.1 1323.42,967.579 1333.41,1015.66 1343.41,962.238 1353.4,972.921 1363.4,940.871 1373.39,972.921 1383.38,924.845 1393.38,1042.36 1403.37,988.947 1413.36,1053.05 1423.36,972.921 1433.35,994.288 1443.34,940.871 1453.34,951.554 1463.33,962.238 1473.32,972.921 1483.32,930.187 1493.31,978.263 1503.31,946.212 1513.3,1015.66 1523.29,1074.42 1533.29,1058.39 1543.28,1079.76 1553.27,935.529 1563.27,1004.97 1573.26,962.238 1583.25,967.579 1593.25,876.769 1603.24,828.693 1613.23,967.579 1623.23,882.111 1633.22,956.896 1643.21,988.947 1653.21,1047.71 1663.2,1138.52 1673.2,1159.88 1683.19,1138.52 1693.18,1101.12 1703.18,1165.23 1713.17,1101.12 1723.16,1186.59 1733.16,1256.04 1743.15,1266.72 1753.14,1266.72 1763.14,1234.67 1773.13,1218.64 1783.12,1181.25 1793.12,1202.62 1803.11,1282.74 1813.1,1245.35 1823.1,1272.06 1833.09,1218.64 1843.09,1213.3 1853.08,1186.59 1863.07,1170.57 1873.07,1181.25 1883.06,1117.15 1893.05,1138.52 1903.05,1085.1 1913.04,1074.42 1923.03,988.947 1933.03,1090.44 1943.02,988.947 1953.01,1079.76 1963.01,999.63 1973,1202.62 1982.99,1207.96 1992.99,1240.01 2002.98,1282.74 2012.98,1240.01 2022.97,1293.43 2032.96,1245.35 2042.96,1304.11 2052.95,1309.45 2062.94,1256.04 2072.94,1293.43 2082.93,1256.04 2092.92,1256.04 2102.92,1223.98 2112.91,1170.57 2122.9,1154.54 2132.9,1191.93 2142.89,1127.83 2152.89,1085.1 2162.88,1053.05 2172.87,1031.68 2182.87,1053.05 2192.86,1063.73 2202.85,1111.81 2212.85,1143.86 2222.84,1218.64 2232.83,1261.38 2242.83,1207.96 2252.82,1234.67 2262.81,1191.93 2272.81,1240.01 2282.8,1202.62 2292.79,1191.93 \"/>\n",
       "<path clip-path=\"url(#clip280)\" d=\"M1957.17 196.789 L2282.13 196.789 L2282.13 93.1086 L1957.17 93.1086  Z\" fill=\"#ffffff\" fill-rule=\"evenodd\" fill-opacity=\"1\"/>\n",
       "<polyline clip-path=\"url(#clip280)\" style=\"stroke:#000000; stroke-linecap:round; stroke-linejoin:round; stroke-width:4; stroke-opacity:1; fill:none\" points=\"1957.17,196.789 2282.13,196.789 2282.13,93.1086 1957.17,93.1086 1957.17,196.789 \"/>\n",
       "<polyline clip-path=\"url(#clip280)\" style=\"stroke:#009af9; stroke-linecap:round; stroke-linejoin:round; stroke-width:4; stroke-opacity:1; fill:none\" points=\"1980.71,144.949 2121.95,144.949 \"/>\n",
       "<path clip-path=\"url(#clip280)\" d=\"M2161.33 132.275 L2154.98 149.474 L2167.69 149.474 L2161.33 132.275 M2158.69 127.669 L2163.99 127.669 L2177.16 162.229 L2172.3 162.229 L2169.15 153.363 L2153.57 153.363 L2150.42 162.229 L2145.49 162.229 L2158.69 127.669 Z\" fill=\"#000000\" fill-rule=\"nonzero\" fill-opacity=\"1\" /><path clip-path=\"url(#clip280)\" d=\"M2182.02 126.21 L2186.28 126.21 L2186.28 162.229 L2182.02 162.229 L2182.02 126.21 Z\" fill=\"#000000\" fill-rule=\"nonzero\" fill-opacity=\"1\" /><path clip-path=\"url(#clip280)\" d=\"M2195.19 136.303 L2199.45 136.303 L2199.45 162.229 L2195.19 162.229 L2195.19 136.303 M2195.19 126.21 L2199.45 126.21 L2199.45 131.604 L2195.19 131.604 L2195.19 126.21 Z\" fill=\"#000000\" fill-rule=\"nonzero\" fill-opacity=\"1\" /><path clip-path=\"url(#clip280)\" d=\"M2205.31 136.303 L2209.82 136.303 L2217.92 158.062 L2226.03 136.303 L2230.54 136.303 L2220.82 162.229 L2215.03 162.229 L2205.31 136.303 Z\" fill=\"#000000\" fill-rule=\"nonzero\" fill-opacity=\"1\" /><path clip-path=\"url(#clip280)\" d=\"M2258.59 148.201 L2258.59 150.284 L2239.01 150.284 Q2239.29 154.682 2241.65 156.997 Q2244.03 159.289 2248.27 159.289 Q2250.72 159.289 2253.02 158.687 Q2255.33 158.085 2257.6 156.881 L2257.6 160.909 Q2255.31 161.881 2252.9 162.391 Q2250.49 162.9 2248.02 162.9 Q2241.81 162.9 2238.18 159.289 Q2234.57 155.678 2234.57 149.52 Q2234.57 143.155 2237.99 139.428 Q2241.44 135.678 2247.28 135.678 Q2252.51 135.678 2255.54 139.057 Q2258.59 142.414 2258.59 148.201 M2254.34 146.951 Q2254.29 143.456 2252.37 141.372 Q2250.47 139.289 2247.32 139.289 Q2243.76 139.289 2241.6 141.303 Q2239.47 143.317 2239.15 146.974 L2254.34 146.951 Z\" fill=\"#000000\" fill-rule=\"nonzero\" fill-opacity=\"1\" /></svg>\n"
      ],
      "text/html": [
       "<img src=\"data:image/png;base64,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\" />"
      ]
     },
     "metadata": {},
     "output_type": "display_data"
    },
    {
     "data": {
      "text/html": [
       "<div><div style = \"float: left;\"><span>201×1 DataFrame</span></div><div style = \"float: right;\"><span style = \"font-style: italic;\">176 rows omitted</span></div><div style = \"clear: both;\"></div></div><div class = \"data-frame\" style = \"overflow-x: scroll;\"><table class = \"data-frame\" style = \"margin-bottom: 6px;\"><thead><tr class = \"header\"><th class = \"rowNumber\" style = \"font-weight: bold; text-align: right;\">Row</th><th style = \"text-align: left;\">Alive</th></tr><tr class = \"subheader headerLastRow\"><th class = \"rowNumber\" style = \"font-weight: bold; text-align: right;\"></th><th title = \"Int64\" style = \"text-align: left;\">Int64</th></tr></thead><tbody><tr><td class = \"rowNumber\" style = \"font-weight: bold; text-align: right;\">1</td><td style = \"text-align: right;\">273</td></tr><tr><td class = \"rowNumber\" style = \"font-weight: bold; text-align: right;\">2</td><td style = \"text-align: right;\">299</td></tr><tr><td class = \"rowNumber\" style = \"font-weight: bold; text-align: right;\">3</td><td style = \"text-align: right;\">224</td></tr><tr><td class = \"rowNumber\" style = \"font-weight: bold; text-align: right;\">4</td><td style = \"text-align: right;\">220</td></tr><tr><td class = \"rowNumber\" style = \"font-weight: bold; text-align: right;\">5</td><td style = \"text-align: right;\">218</td></tr><tr><td class = \"rowNumber\" style = \"font-weight: bold; text-align: right;\">6</td><td style = \"text-align: right;\">214</td></tr><tr><td class = \"rowNumber\" style = \"font-weight: bold; text-align: right;\">7</td><td style = \"text-align: right;\">215</td></tr><tr><td class = \"rowNumber\" style = \"font-weight: bold; text-align: right;\">8</td><td style = \"text-align: right;\">191</td></tr><tr><td class = \"rowNumber\" style = \"font-weight: bold; text-align: right;\">9</td><td style = \"text-align: right;\">198</td></tr><tr><td class = \"rowNumber\" style = \"font-weight: bold; text-align: right;\">10</td><td style = \"text-align: right;\">186</td></tr><tr><td class = \"rowNumber\" style = \"font-weight: bold; text-align: right;\">11</td><td style = \"text-align: right;\">202</td></tr><tr><td class = \"rowNumber\" style = \"font-weight: bold; text-align: right;\">12</td><td style = \"text-align: right;\">182</td></tr><tr><td class = \"rowNumber\" style = \"font-weight: bold; text-align: right;\">13</td><td style = \"text-align: right;\">173</td></tr><tr><td style = \"text-align: right;\">&vellip;</td><td style = \"text-align: right;\">&vellip;</td></tr><tr><td class = \"rowNumber\" style = \"font-weight: bold; text-align: right;\">190</td><td style = \"text-align: right;\">118</td></tr><tr><td class = \"rowNumber\" style = \"font-weight: bold; text-align: right;\">191</td><td style = \"text-align: right;\">116</td></tr><tr><td class = \"rowNumber\" style = \"font-weight: bold; text-align: right;\">192</td><td style = \"text-align: right;\">107</td></tr><tr><td class = \"rowNumber\" style = \"font-weight: bold; text-align: right;\">193</td><td style = \"text-align: right;\">101</td></tr><tr><td class = \"rowNumber\" style = \"font-weight: bold; text-align: right;\">194</td><td style = \"text-align: right;\">87</td></tr><tr><td class = \"rowNumber\" style = \"font-weight: bold; text-align: right;\">195</td><td style = \"text-align: right;\">79</td></tr><tr><td class = \"rowNumber\" style = \"font-weight: bold; text-align: right;\">196</td><td style = \"text-align: right;\">89</td></tr><tr><td class = \"rowNumber\" style = \"font-weight: bold; text-align: right;\">197</td><td style = \"text-align: right;\">84</td></tr><tr><td class = \"rowNumber\" style = \"font-weight: bold; text-align: right;\">198</td><td style = \"text-align: right;\">92</td></tr><tr><td class = \"rowNumber\" style = \"font-weight: bold; text-align: right;\">199</td><td style = \"text-align: right;\">83</td></tr><tr><td class = \"rowNumber\" style = \"font-weight: bold; text-align: right;\">200</td><td style = \"text-align: right;\">90</td></tr><tr><td class = \"rowNumber\" style = \"font-weight: bold; text-align: right;\">201</td><td style = \"text-align: right;\">92</td></tr></tbody></table></div>"
      ],
      "text/latex": [
       "\\begin{tabular}{r|c}\n",
       "\t& Alive\\\\\n",
       "\t\\hline\n",
       "\t& Int64\\\\\n",
       "\t\\hline\n",
       "\t1 & 273 \\\\\n",
       "\t2 & 299 \\\\\n",
       "\t3 & 224 \\\\\n",
       "\t4 & 220 \\\\\n",
       "\t5 & 218 \\\\\n",
       "\t6 & 214 \\\\\n",
       "\t7 & 215 \\\\\n",
       "\t8 & 191 \\\\\n",
       "\t9 & 198 \\\\\n",
       "\t10 & 186 \\\\\n",
       "\t11 & 202 \\\\\n",
       "\t12 & 182 \\\\\n",
       "\t13 & 173 \\\\\n",
       "\t14 & 170 \\\\\n",
       "\t15 & 183 \\\\\n",
       "\t16 & 164 \\\\\n",
       "\t17 & 150 \\\\\n",
       "\t18 & 137 \\\\\n",
       "\t19 & 127 \\\\\n",
       "\t20 & 119 \\\\\n",
       "\t21 & 136 \\\\\n",
       "\t22 & 127 \\\\\n",
       "\t23 & 139 \\\\\n",
       "\t24 & 128 \\\\\n",
       "\t25 & 145 \\\\\n",
       "\t26 & 131 \\\\\n",
       "\t27 & 142 \\\\\n",
       "\t28 & 162 \\\\\n",
       "\t29 & 159 \\\\\n",
       "\t30 & 170 \\\\\n",
       "\t$\\dots$ & $\\dots$ \\\\\n",
       "\\end{tabular}\n"
      ],
      "text/plain": [
       "\u001b[1m201×1 DataFrame\u001b[0m\n",
       "\u001b[1m Row \u001b[0m│\u001b[1m Alive \u001b[0m\n",
       "     │\u001b[90m Int64 \u001b[0m\n",
       "─────┼───────\n",
       "   1 │   273\n",
       "   2 │   299\n",
       "   3 │   224\n",
       "   4 │   220\n",
       "   5 │   218\n",
       "   6 │   214\n",
       "   7 │   215\n",
       "   8 │   191\n",
       "   9 │   198\n",
       "  10 │   186\n",
       "  11 │   202\n",
       "  ⋮  │   ⋮\n",
       " 192 │   107\n",
       " 193 │   101\n",
       " 194 │    87\n",
       " 195 │    79\n",
       " 196 │    89\n",
       " 197 │    84\n",
       " 198 │    92\n",
       " 199 │    83\n",
       " 200 │    90\n",
       " 201 │    92\n",
       "\u001b[36m180 rows omitted\u001b[0m"
      ]
     },
     "execution_count": 8,
     "metadata": {},
     "output_type": "execute_result"
    },
    {
     "name": "stdout",
     "output_type": "stream",
     "text": [
      "Saving animation as gif....\n"
     ]
    },
    {
     "name": "stderr",
     "output_type": "stream",
     "text": [
      "\u001b[36m\u001b[1m┌ \u001b[22m\u001b[39m\u001b[36m\u001b[1mInfo: \u001b[22m\u001b[39mFrames for animation \"movie_abm\" are being stored in directory: \n",
      "\u001b[36m\u001b[1m└ \u001b[22m\u001b[39m\t /tmp/jl_Nh6tNt\n",
      "\u001b[36m\u001b[1m┌ \u001b[22m\u001b[39m\u001b[36m\u001b[1mInfo: \u001b[22m\u001b[39m... 201 frames saved in directory:\n",
      "\u001b[36m\u001b[1m└ \u001b[22m\u001b[39m\t /tmp/jl_Nh6tNt\n"
     ]
    },
    {
     "name": "stdout",
     "output_type": "stream",
     "text": [
      "Animation saved at /home/dushya/.julia/scratchspaces/2ab8e4d3-e1e9-4248-86a3-8419d2d242e9/abm_anims/anim_2d.gif\n"
     ]
    },
    {
     "name": "stderr",
     "output_type": "stream",
     "text": [
      "\u001b[36m\u001b[1m[ \u001b[22m\u001b[39m\u001b[36m\u001b[1mInfo: \u001b[22m\u001b[39mGIF is: /home/dushya/.julia/scratchspaces/2ab8e4d3-e1e9-4248-86a3-8419d2d242e9/abm_anims/anim_2d.gif\n"
     ]
    }
   ],
   "source": [
    "df = get_nums_patches(model, patch-> patch.is_alive, labels=[\"Alive\"], \n",
    "    plot_result = true)"
   ]
  },
  {
   "cell_type": "markdown",
   "metadata": {},
   "source": [
    "![png](assets/CGOL/CGOLPlot1.png)"
   ]
  }
 ],
 "metadata": {
  "@webio": {
   "lastCommId": "786e5139c8cb48318bdf6de259d7849e",
   "lastKernelId": "5a81b46e-df37-4a02-83ed-9b51f6fbfe0f"
  },
  "kernelspec": {
   "display_name": "Julia 1.9.2",
   "language": "julia",
   "name": "julia-1.9"
  },
  "language_info": {
   "file_extension": ".jl",
   "mimetype": "application/julia",
   "name": "julia",
   "version": "1.9.2"
  }
 },
 "nbformat": 4,
 "nbformat_minor": 4
}
