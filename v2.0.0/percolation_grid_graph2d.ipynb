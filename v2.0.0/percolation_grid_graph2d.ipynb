{
 "cells": [
  {
   "cell_type": "code",
   "execution_count": 2,
   "metadata": {
    "scrolled": true
   },
   "outputs": [
    {
     "name": "stderr",
     "output_type": "stream",
     "text": [
      "\u001b[32m\u001b[1m  Activating\u001b[22m\u001b[39m project at `~/Documents/EasyABM`\n"
     ]
    },
    {
     "data": {
      "application/vnd.webio.node+json": {
       "children": [],
       "instanceArgs": {
        "namespace": "html",
        "tag": "div"
       },
       "nodeType": "DOM",
       "props": {},
       "type": "node"
      },
      "text/html": [
       "<div style=\"padding: 1em; background-color: #f8d6da; border: 1px solid #f5c6cb; font-weight: bold;\">\n",
       "<p>The WebIO Jupyter extension was not detected. See the\n",
       "<a href=\"https://juliagizmos.github.io/WebIO.jl/latest/providers/ijulia/\" target=\"_blank\">\n",
       "    WebIO Jupyter integration documentation\n",
       "</a>\n",
       "for more information.\n",
       "</div>\n"
      ],
      "text/plain": [
       "WebIO._IJuliaInit()"
      ]
     },
     "metadata": {
      "application/vnd.webio.node+json": {
       "kernelId": "3e9e0322-4756-454e-b65f-3a92007e480b"
      }
     },
     "output_type": "display_data"
    }
   ],
   "source": [
    "using Pkg, Revise\n",
    "Pkg.activate(joinpath(@__DIR__,\"../..\"))\n",
    "using EasyABM"
   ]
  },
  {
   "cell_type": "code",
   "execution_count": 65,
   "metadata": {},
   "outputs": [
    {
     "data": {
      "text/plain": [
       "20"
      ]
     },
     "execution_count": 65,
     "metadata": {},
     "output_type": "execute_result"
    }
   ],
   "source": [
    "n=20"
   ]
  },
  {
   "cell_type": "code",
   "execution_count": 66,
   "metadata": {},
   "outputs": [],
   "source": [
    "graph = square_grid_graph(n,n);"
   ]
  },
  {
   "cell_type": "code",
   "execution_count": 31,
   "metadata": {},
   "outputs": [
    {
     "data": {
      "image/png": "[encoded data removed]",
      "text/plain": []
     },
     "execution_count": 31,
     "metadata": {},
     "output_type": "execute_result"
    }
   ],
   "source": [
    "draw_graph(graph, mark_nodes=true)"
   ]
  },
  {
   "cell_type": "code",
   "execution_count": 71,
   "metadata": {
    "scrolled": true
   },
   "outputs": [
    {
     "data": {
      "text/plain": [
       "EasyABM GraphModel{EasyABM.StaticType, EasyABM.StaticType, EasyABM.SimGType}: In a {EasyABM.StaticType, EasyABM.StaticType} model both graph topology and agents number is fixed.\n"
      ]
     },
     "execution_count": 71,
     "metadata": {},
     "output_type": "execute_result"
    }
   ],
   "source": [
    "model = create_graph_model(graph, open_nodes=Int[], percolated=false, prob=0.0, graphics=false)"
   ]
  },
  {
   "cell_type": "code",
   "execution_count": 48,
   "metadata": {},
   "outputs": [
    {
     "data": {
      "text/plain": [
       "400"
      ]
     },
     "execution_count": 48,
     "metadata": {},
     "output_type": "execute_result"
    }
   ],
   "source": [
    "last_node = n^2"
   ]
  },
  {
   "cell_type": "code",
   "execution_count": 73,
   "metadata": {},
   "outputs": [],
   "source": [
    "function initialiser!(model)\n",
    "    model.properties.num_nodes=length(vertices(model.graph))\n",
    "    for node in vertices(model.graph)\n",
    "        if node==model.properties.num_nodes\n",
    "            model.graph.nodesprops[node].open=true\n",
    "            model.graph.nodesprops[node].color=cl\"blue\"\n",
    "        else\n",
    "            model.graph.nodesprops[node].open=false\n",
    "            model.graph.nodesprops[node].color=cl\"black\"\n",
    "        end   \n",
    "    end\n",
    "    push!(model.properties.open_nodes, model.properties.num_nodes) #last node is open\n",
    "    model.properties.percolated=false\n",
    "end\n",
    "init_model!(model, initialiser= initialiser!, props_to_record = Dict(\"nodes\"=>Set([:color])))"
   ]
  },
  {
   "cell_type": "code",
   "execution_count": 74,
   "metadata": {
    "scrolled": true
   },
   "outputs": [
    {
     "data": {
      "text/plain": [
       "step_rule! (generic function with 1 method)"
      ]
     },
     "execution_count": 74,
     "metadata": {},
     "output_type": "execute_result"
    }
   ],
   "source": [
    "function let_water_out!(node, model)\n",
    "    water_source_nodes=[node]\n",
    "    loop_condition = true\n",
    "    n = model.properties.num_nodes\n",
    "    while length(water_source_nodes)>0 && loop_condition\n",
    "        nd = pop!(water_source_nodes)\n",
    "        nbrs = neighbor_nodes(nd, model)\n",
    "        for nbr in nbrs\n",
    "            if (model.graph.nodesprops[nbr].open)&&(model.graph.nodesprops[nbr].color==cl\"white\")\n",
    "                model.graph.nodesprops[nbr].color = cl\"blue\"\n",
    "                if (nbr<=sqrt(n))\n",
    "                    model.properties.percolated=true\n",
    "                    model.properties.prob = length(model.properties.open_nodes)/n\n",
    "                    loop_condition=false\n",
    "                    break\n",
    "                end\n",
    "                push!(water_source_nodes, nbr)\n",
    "            end\n",
    "        end   \n",
    "    end\n",
    "end\n",
    "\n",
    "function let_water_in!(node, model)\n",
    "    nbrs = neighbor_nodes(node, model)     \n",
    "    n=model.properties.num_nodes\n",
    "    for nbr in nbrs\n",
    "        if model.graph.nodesprops[nbr].open && (model.graph.nodesprops[nbr].color==cl\"blue\")\n",
    "            model.graph.nodesprops[node].color = cl\"blue\"\n",
    "            if (node<=sqrt(n))\n",
    "                model.properties.percolated=true\n",
    "                model.properties.prob = length(model.properties.open_nodes)/n\n",
    "                return \n",
    "            end\n",
    "            break\n",
    "        end\n",
    "    end\n",
    "end\n",
    "\n",
    "\n",
    "\n",
    "function step_rule!(model)\n",
    "    num=0\n",
    "    n=model.properties.num_nodes\n",
    "    percolated = model.properties.percolated\n",
    "    #open 10 nodes per step\n",
    "    while (num<10) && (length(model.properties.open_nodes)<n) && (!percolated)\n",
    "        node = rand(1:n)\n",
    "        if !(model.graph.nodesprops[node].open)\n",
    "            num+=1\n",
    "            model.graph.nodesprops[node].open = true\n",
    "            push!(model.properties.open_nodes, node)\n",
    "            if (node<=n)&&(node>=(n-sqrt(n)+1))#upper most row\n",
    "                model.graph.nodesprops[node].color=cl\"blue\"\n",
    "            else\n",
    "                model.graph.nodesprops[node].color=cl\"white\"\n",
    "                let_water_in!(node, model)\n",
    "            end \n",
    "            if (model.graph.nodesprops[node].color == cl\"blue\") && !(model.properties.percolated)\n",
    "                let_water_out!(node, model)\n",
    "            end\n",
    "            percolated = model.properties.percolated      \n",
    "        end\n",
    "    end\n",
    "    \n",
    "end"
   ]
  },
  {
   "cell_type": "code",
   "execution_count": 70,
   "metadata": {},
   "outputs": [
    {
     "ename": "LoadError",
     "evalue": "KeyError: key 73951 not found",
     "output_type": "error",
     "traceback": [
      "KeyError: key 73951 not found",
      "",
      "Stacktrace:",
      " [1] getindex(h::Dict{Int64, EasyABM.ContainerDataDict{Symbol, Any}}, key::Int64)",
      "   @ Base ./dict.jl:484",
      " [2] step_rule!(model::EasyABM.GraphModel{EasyABM.StaticType, EasyABM.StaticType, EasyABM.SimGType})",
      "   @ Main ./In[69]:48",
      " [3] _run_sim!",
      "   @ ~/Documents/EasyABM/src/helperfunctionsGeneral.jl:398 [inlined]",
      " [4] #run_model!#685",
      "   @ ~/Documents/EasyABM/src/graph_model/mainfunctions.jl:360 [inlined]",
      " [5] top-level scope",
      "   @ In[70]:1"
     ]
    }
   ],
   "source": [
    "run_model!(model, steps=50, step_rule = step_rule! )"
   ]
  },
  {
   "cell_type": "code",
   "execution_count": 44,
   "metadata": {
    "scrolled": true
   },
   "outputs": [
    {
     "data": {
      "application/vnd.webio.node+json": {
       "children": [
        {
         "children": [
          {
           "children": [
            {
             "children": [
              {
               "children": [
                {
                 "children": [
                  {
                   "children": [
                    {
                     "children": [
                      "time"
                     ],
                     "instanceArgs": {
                      "namespace": "html",
                      "tag": "label"
                     },
                     "nodeType": "DOM",
                     "props": {
                      "className": "interact ",
                      "style": {
                       "padding": "5px 10px 0px 10px"
                      }
                     },
                     "type": "node"
                    }
                   ],
                   "instanceArgs": {
                    "namespace": "html",
                    "tag": "div"
                   },
                   "nodeType": "DOM",
                   "props": {
                    "className": "interact-flex-row-left"
                   },
                   "type": "node"
                  },
                  {
                   "children": [
                    {
                     "children": [],
                     "instanceArgs": {
                      "namespace": "html",
                      "tag": "input"
                     },
                     "nodeType": "DOM",
                     "props": {
                      "attributes": {
                       "data-bind": "numericValue: index, valueUpdate: 'input', event: {change: function (){this.changes(this.changes()+1)}}",
                       "orient": "horizontal",
                       "type": "range"
                      },
                      "className": "slider slider is-fullwidth",
                      "max": 51,
                      "min": 1,
                      "step": 1,
                      "style": {}
                     },
                     "type": "node"
                    }
                   ],
                   "instanceArgs": {
                    "namespace": "html",
                    "tag": "div"
                   },
                   "nodeType": "DOM",
                   "props": {
                    "className": "interact-flex-row-center"
                   },
                   "type": "node"
                  },
                  {
                   "children": [
                    {
                     "children": [],
                     "instanceArgs": {
                      "namespace": "html",
                      "tag": "p"
                     },
                     "nodeType": "DOM",
                     "props": {
                      "attributes": {
                       "data-bind": "text: formatted_val"
                      }
                     },
                     "type": "node"
                    }
                   ],
                   "instanceArgs": {
                    "namespace": "html",
                    "tag": "div"
                   },
                   "nodeType": "DOM",
                   "props": {
                    "className": "interact-flex-row-right"
                   },
                   "type": "node"
                  }
                 ],
                 "instanceArgs": {
                  "namespace": "html",
                  "tag": "div"
                 },
                 "nodeType": "DOM",
                 "props": {
                  "className": "interact-flex-row interact-widget"
                 },
                 "type": "node"
                }
               ],
               "instanceArgs": {
                "handlers": {
                 "changes": [
                  "(function (val){return (val!=this.model[\"changes\"]()) ? (this.valueFromJulia[\"changes\"]=true, this.model[\"changes\"](val)) : undefined})"
                 ],
                 "index": [
                  "(function (val){return (val!=this.model[\"index\"]()) ? (this.valueFromJulia[\"index\"]=true, this.model[\"index\"](val)) : undefined})"
                 ]
                },
                "id": "10992993969153321285",
                "imports": {
                 "data": [
                  {
                   "name": "knockout",
                   "type": "js",
                   "url": "/assetserver/727383f2a47bd31570b7da84eee7b022dd6d7c78-knockout.js"
                  },
                  {
                   "name": "knockout_punches",
                   "type": "js",
                   "url": "/assetserver/382b41b3b1bd9f26f75861d360bad7f8beea211f-knockout_punches.js"
                  },
                  {
                   "name": null,
                   "type": "js",
                   "url": "/assetserver/5ab20f1060420992a9b82a65b735dee4d81ef413-all.js"
                  },
                  {
                   "name": null,
                   "type": "css",
                   "url": "/assetserver/1cc0ed62837210b80a182cc3676512f895dab686-style.css"
                  },
                  {
                   "name": null,
                   "type": "css",
                   "url": "/assetserver/2eee816f616df3549d7044d45e744fbf8d42bfa1-bulma_confined.min.css"
                  }
                 ],
                 "type": "async_block"
                },
                "mount_callbacks": [
                 "function () {\n    var handler = (function (ko, koPunches) {\n    ko.punches.enableAll();\n    ko.bindingHandlers.numericValue = {\n        init: function(element, valueAccessor, allBindings, data, context) {\n            var stringified = ko.observable(ko.unwrap(valueAccessor()));\n            stringified.subscribe(function(value) {\n                var val = parseFloat(value);\n                if (!isNaN(val)) {\n                    valueAccessor()(val);\n                }\n            });\n            valueAccessor().subscribe(function(value) {\n                var str = JSON.stringify(value);\n                if ((str == \"0\") && ([\"-0\", \"-0.\"].indexOf(stringified()) >= 0))\n                     return;\n                 if ([\"null\", \"\"].indexOf(str) >= 0)\n                     return;\n                stringified(str);\n            });\n            ko.applyBindingsToNode(\n                element,\n                {\n                    value: stringified,\n                    valueUpdate: allBindings.get('valueUpdate'),\n                },\n                context,\n            );\n        }\n    };\n    var json_data = {\"formatted_vals\":[\"1\",\"2\",\"3\",\"4\",\"5\",\"6\",\"7\",\"8\",\"9\",\"10\",\"11\",\"12\",\"13\",\"14\",\"15\",\"16\",\"17\",\"18\",\"19\",\"20\",\"21\",\"22\",\"23\",\"24\",\"25\",\"26\",\"27\",\"28\",\"29\",\"30\",\"31\",\"32\",\"33\",\"34\",\"35\",\"36\",\"37\",\"38\",\"39\",\"40\",\"41\",\"42\",\"43\",\"44\",\"45\",\"46\",\"47\",\"48\",\"49\",\"50\",\"51\"],\"changes\":WebIO.getval({\"name\":\"changes\",\"scope\":\"10992993969153321285\",\"id\":\"16432506797098304269\",\"type\":\"observable\"}),\"index\":WebIO.getval({\"name\":\"index\",\"scope\":\"10992993969153321285\",\"id\":\"13606241154055713592\",\"type\":\"observable\"})};\n    var self = this;\n    function AppViewModel() {\n        for (var key in json_data) {\n            var el = json_data[key];\n            this[key] = Array.isArray(el) ? ko.observableArray(el) : ko.observable(el);\n        }\n        \n        [this[\"formatted_val\"]=ko.computed(    function(){\n        return this.formatted_vals()[parseInt(this.index())-(1)];\n    }\n,this)]\n        [this[\"changes\"].subscribe((function (val){!(this.valueFromJulia[\"changes\"]) ? (WebIO.setval({\"name\":\"changes\",\"scope\":\"10992993969153321285\",\"id\":\"16432506797098304269\",\"type\":\"observable\"},val)) : undefined; return this.valueFromJulia[\"changes\"]=false}),self),this[\"index\"].subscribe((function (val){!(this.valueFromJulia[\"index\"]) ? (WebIO.setval({\"name\":\"index\",\"scope\":\"10992993969153321285\",\"id\":\"13606241154055713592\",\"type\":\"observable\"},val)) : undefined; return this.valueFromJulia[\"index\"]=false}),self)]\n        \n    }\n    self.model = new AppViewModel();\n    self.valueFromJulia = {};\n    for (var key in json_data) {\n        self.valueFromJulia[key] = false;\n    }\n    ko.applyBindings(self.model, self.dom);\n}\n);\n    (WebIO.importBlock({\"data\":[{\"name\":\"knockout\",\"type\":\"js\",\"url\":\"/assetserver/727383f2a47bd31570b7da84eee7b022dd6d7c78-knockout.js\"},{\"name\":\"knockout_punches\",\"type\":\"js\",\"url\":\"/assetserver/382b41b3b1bd9f26f75861d360bad7f8beea211f-knockout_punches.js\"}],\"type\":\"async_block\"})).then((imports) => handler.apply(this, imports));\n}\n"
                ],
                "observables": {
                 "changes": {
                  "id": "16432506797098304269",
                  "sync": false,
                  "value": 0
                 },
                 "index": {
                  "id": "13606241154055713592",
                  "sync": true,
                  "value": 26
                 }
                },
                "systemjs_options": null
               },
               "nodeType": "Scope",
               "props": {},
               "type": "node"
              }
             ],
             "instanceArgs": {
              "namespace": "html",
              "tag": "div"
             },
             "nodeType": "DOM",
             "props": {
              "className": "field interact-widget"
             },
             "type": "node"
            },
            {
             "children": [
              {
               "children": [
                {
                 "children": [
                  {
                   "children": [
                    {
                     "children": [
                      "scale"
                     ],
                     "instanceArgs": {
                      "namespace": "html",
                      "tag": "label"
                     },
                     "nodeType": "DOM",
                     "props": {
                      "className": "interact ",
                      "style": {
                       "padding": "5px 10px 0px 10px"
                      }
                     },
                     "type": "node"
                    }
                   ],
                   "instanceArgs": {
                    "namespace": "html",
                    "tag": "div"
                   },
                   "nodeType": "DOM",
                   "props": {
                    "className": "interact-flex-row-left"
                   },
                   "type": "node"
                  },
                  {
                   "children": [
                    {
                     "children": [],
                     "instanceArgs": {
                      "namespace": "html",
                      "tag": "input"
                     },
                     "nodeType": "DOM",
                     "props": {
                      "attributes": {
                       "data-bind": "numericValue: index, valueUpdate: 'input', event: {change: function (){this.changes(this.changes()+1)}}",
                       "orient": "horizontal",
                       "type": "range"
                      },
                      "className": "slider slider is-fullwidth",
                      "max": 20,
                      "min": 1,
                      "step": 1,
                      "style": {}
                     },
                     "type": "node"
                    }
                   ],
                   "instanceArgs": {
                    "namespace": "html",
                    "tag": "div"
                   },
                   "nodeType": "DOM",
                   "props": {
                    "className": "interact-flex-row-center"
                   },
                   "type": "node"
                  },
                  {
                   "children": [
                    {
                     "children": [],
                     "instanceArgs": {
                      "namespace": "html",
                      "tag": "p"
                     },
                     "nodeType": "DOM",
                     "props": {
                      "attributes": {
                       "data-bind": "text: formatted_val"
                      }
                     },
                     "type": "node"
                    }
                   ],
                   "instanceArgs": {
                    "namespace": "html",
                    "tag": "div"
                   },
                   "nodeType": "DOM",
                   "props": {
                    "className": "interact-flex-row-right"
                   },
                   "type": "node"
                  }
                 ],
                 "instanceArgs": {
                  "namespace": "html",
                  "tag": "div"
                 },
                 "nodeType": "DOM",
                 "props": {
                  "className": "interact-flex-row interact-widget"
                 },
                 "type": "node"
                }
               ],
               "instanceArgs": {
                "handlers": {
                 "changes": [
                  "(function (val){return (val!=this.model[\"changes\"]()) ? (this.valueFromJulia[\"changes\"]=true, this.model[\"changes\"](val)) : undefined})"
                 ],
                 "index": [
                  "(function (val){return (val!=this.model[\"index\"]()) ? (this.valueFromJulia[\"index\"]=true, this.model[\"index\"](val)) : undefined})"
                 ]
                },
                "id": "11777942319227336264",
                "imports": {
                 "data": [
                  {
                   "name": "knockout",
                   "type": "js",
                   "url": "/assetserver/727383f2a47bd31570b7da84eee7b022dd6d7c78-knockout.js"
                  },
                  {
                   "name": "knockout_punches",
                   "type": "js",
                   "url": "/assetserver/382b41b3b1bd9f26f75861d360bad7f8beea211f-knockout_punches.js"
                  },
                  {
                   "name": null,
                   "type": "js",
                   "url": "/assetserver/5ab20f1060420992a9b82a65b735dee4d81ef413-all.js"
                  },
                  {
                   "name": null,
                   "type": "css",
                   "url": "/assetserver/1cc0ed62837210b80a182cc3676512f895dab686-style.css"
                  },
                  {
                   "name": null,
                   "type": "css",
                   "url": "/assetserver/2eee816f616df3549d7044d45e744fbf8d42bfa1-bulma_confined.min.css"
                  }
                 ],
                 "type": "async_block"
                },
                "mount_callbacks": [
                 "function () {\n    var handler = (function (ko, koPunches) {\n    ko.punches.enableAll();\n    ko.bindingHandlers.numericValue = {\n        init: function(element, valueAccessor, allBindings, data, context) {\n            var stringified = ko.observable(ko.unwrap(valueAccessor()));\n            stringified.subscribe(function(value) {\n                var val = parseFloat(value);\n                if (!isNaN(val)) {\n                    valueAccessor()(val);\n                }\n            });\n            valueAccessor().subscribe(function(value) {\n                var str = JSON.stringify(value);\n                if ((str == \"0\") && ([\"-0\", \"-0.\"].indexOf(stringified()) >= 0))\n                     return;\n                 if ([\"null\", \"\"].indexOf(str) >= 0)\n                     return;\n                stringified(str);\n            });\n            ko.applyBindingsToNode(\n                element,\n                {\n                    value: stringified,\n                    valueUpdate: allBindings.get('valueUpdate'),\n                },\n                context,\n            );\n        }\n    };\n    var json_data = {\"formatted_vals\":[\"0.1\",\"0.2\",\"0.3\",\"0.4\",\"0.5\",\"0.6\",\"0.7\",\"0.8\",\"0.9\",\"1.0\",\"1.1\",\"1.2\",\"1.3\",\"1.4\",\"1.5\",\"1.6\",\"1.7\",\"1.8\",\"1.9\",\"2.0\"],\"changes\":WebIO.getval({\"name\":\"changes\",\"scope\":\"11777942319227336264\",\"id\":\"7218851930481723029\",\"type\":\"observable\"}),\"index\":WebIO.getval({\"name\":\"index\",\"scope\":\"11777942319227336264\",\"id\":\"3821553125843947703\",\"type\":\"observable\"})};\n    var self = this;\n    function AppViewModel() {\n        for (var key in json_data) {\n            var el = json_data[key];\n            this[key] = Array.isArray(el) ? ko.observableArray(el) : ko.observable(el);\n        }\n        \n        [this[\"formatted_val\"]=ko.computed(    function(){\n        return this.formatted_vals()[parseInt(this.index())-(1)];\n    }\n,this)]\n        [this[\"changes\"].subscribe((function (val){!(this.valueFromJulia[\"changes\"]) ? (WebIO.setval({\"name\":\"changes\",\"scope\":\"11777942319227336264\",\"id\":\"7218851930481723029\",\"type\":\"observable\"},val)) : undefined; return this.valueFromJulia[\"changes\"]=false}),self),this[\"index\"].subscribe((function (val){!(this.valueFromJulia[\"index\"]) ? (WebIO.setval({\"name\":\"index\",\"scope\":\"11777942319227336264\",\"id\":\"3821553125843947703\",\"type\":\"observable\"},val)) : undefined; return this.valueFromJulia[\"index\"]=false}),self)]\n        \n    }\n    self.model = new AppViewModel();\n    self.valueFromJulia = {};\n    for (var key in json_data) {\n        self.valueFromJulia[key] = false;\n    }\n    ko.applyBindings(self.model, self.dom);\n}\n);\n    (WebIO.importBlock({\"data\":[{\"name\":\"knockout\",\"type\":\"js\",\"url\":\"/assetserver/727383f2a47bd31570b7da84eee7b022dd6d7c78-knockout.js\"},{\"name\":\"knockout_punches\",\"type\":\"js\",\"url\":\"/assetserver/382b41b3b1bd9f26f75861d360bad7f8beea211f-knockout_punches.js\"}],\"type\":\"async_block\"})).then((imports) => handler.apply(this, imports));\n}\n"
                ],
                "observables": {
                 "changes": {
                  "id": "7218851930481723029",
                  "sync": false,
                  "value": 0
                 },
                 "index": {
                  "id": "3821553125843947703",
                  "sync": true,
                  "value": 10
                 }
                },
                "systemjs_options": null
               },
               "nodeType": "Scope",
               "props": {},
               "type": "node"
              }
             ],
             "instanceArgs": {
              "namespace": "html",
              "tag": "div"
             },
             "nodeType": "DOM",
             "props": {
              "className": "field interact-widget"
             },
             "type": "node"
            },
            {
             "children": [
              {
               "children": [
                {
                 "children": [
                  {
                   "children": [],
                   "instanceArgs": {
                    "namespace": "html",
                    "tag": "div"
                   },
                   "nodeType": "DOM",
                   "props": {
                    "id": "container"
                   },
                   "type": "node"
                  }
                 ],
                 "instanceArgs": {
                  "handlers": {
                   "value": [
                    "(function (txt){return this.k.render(txt,this.container)})"
                   ]
                  },
                  "id": "7792945355892055185",
                  "imports": {
                   "data": [
                    {
                     "name": null,
                     "type": "js",
                     "url": "/assetserver/dd22ed1bf1896c2748f3fe616ce0b838adc895c1-katex.min.js"
                    },
                    {
                     "name": null,
                     "type": "css",
                     "url": "/assetserver/46517a424aa5e6cffc1360d7e0848b601c584ee3-katex.min.css"
                    }
                   ],
                   "type": "async_block"
                  },
                  "mount_callbacks": [
                   "function () {\n    var handler = ((function (k){this.k=k; this.container=this.dom.querySelector(\"#container\"); return k.render(\"\\\\;\\\\;\",this.container)}));\n    (WebIO.importBlock({\"data\":[{\"name\":null,\"type\":\"js\",\"url\":\"/assetserver/dd22ed1bf1896c2748f3fe616ce0b838adc895c1-katex.min.js\"},{\"name\":null,\"type\":\"css\",\"url\":\"/assetserver/46517a424aa5e6cffc1360d7e0848b601c584ee3-katex.min.css\"}],\"type\":\"async_block\"})).then((imports) => handler.apply(this, imports));\n}\n"
                  ],
                  "observables": {
                   "value": {
                    "id": "6454891399792183469",
                    "sync": false,
                    "value": "\\;\\;"
                   }
                  },
                  "systemjs_options": null
                 },
                 "nodeType": "Scope",
                 "props": {},
                 "type": "node"
                }
               ],
               "instanceArgs": {
                "namespace": "html",
                "tag": "div"
               },
               "nodeType": "DOM",
               "props": {
                "className": "interact-widget"
               },
               "type": "node"
              },
              {
               "children": [
                {
                 "children": [
                  {
                   "children": [
                    "run"
                   ],
                   "instanceArgs": {
                    "namespace": "html",
                    "tag": "button"
                   },
                   "nodeType": "DOM",
                   "props": {
                    "attributes": {
                     "data-bind": "click: function (){this.clicks(this.clicks()+1)}, css: {'is-loading' : loading}"
                    },
                    "className": "is-medium button is-primary",
                    "style": {}
                   },
                   "type": "node"
                  }
                 ],
                 "instanceArgs": {
                  "handlers": {
                   "clicks": [
                    "(function (val){return (val!=this.model[\"clicks\"]()) ? (this.valueFromJulia[\"clicks\"]=true, this.model[\"clicks\"](val)) : undefined})"
                   ],
                   "loading": [
                    "(function (val){return (val!=this.model[\"loading\"]()) ? (this.valueFromJulia[\"loading\"]=true, this.model[\"loading\"](val)) : undefined})"
                   ]
                  },
                  "id": "2127810002939595321",
                  "imports": {
                   "data": [
                    {
                     "name": "knockout",
                     "type": "js",
                     "url": "/assetserver/727383f2a47bd31570b7da84eee7b022dd6d7c78-knockout.js"
                    },
                    {
                     "name": "knockout_punches",
                     "type": "js",
                     "url": "/assetserver/382b41b3b1bd9f26f75861d360bad7f8beea211f-knockout_punches.js"
                    },
                    {
                     "name": null,
                     "type": "js",
                     "url": "/assetserver/5ab20f1060420992a9b82a65b735dee4d81ef413-all.js"
                    },
                    {
                     "name": null,
                     "type": "css",
                     "url": "/assetserver/1cc0ed62837210b80a182cc3676512f895dab686-style.css"
                    },
                    {
                     "name": null,
                     "type": "css",
                     "url": "/assetserver/2eee816f616df3549d7044d45e744fbf8d42bfa1-bulma_confined.min.css"
                    }
                   ],
                   "type": "async_block"
                  },
                  "mount_callbacks": [
                   "function () {\n    var handler = (function (ko, koPunches) {\n    ko.punches.enableAll();\n    ko.bindingHandlers.numericValue = {\n        init: function(element, valueAccessor, allBindings, data, context) {\n            var stringified = ko.observable(ko.unwrap(valueAccessor()));\n            stringified.subscribe(function(value) {\n                var val = parseFloat(value);\n                if (!isNaN(val)) {\n                    valueAccessor()(val);\n                }\n            });\n            valueAccessor().subscribe(function(value) {\n                var str = JSON.stringify(value);\n                if ((str == \"0\") && ([\"-0\", \"-0.\"].indexOf(stringified()) >= 0))\n                     return;\n                 if ([\"null\", \"\"].indexOf(str) >= 0)\n                     return;\n                stringified(str);\n            });\n            ko.applyBindingsToNode(\n                element,\n                {\n                    value: stringified,\n                    valueUpdate: allBindings.get('valueUpdate'),\n                },\n                context,\n            );\n        }\n    };\n    var json_data = {\"loading\":WebIO.getval({\"name\":\"loading\",\"scope\":\"2127810002939595321\",\"id\":\"14714944425063834103\",\"type\":\"observable\"}),\"clicks\":WebIO.getval({\"name\":\"clicks\",\"scope\":\"2127810002939595321\",\"id\":\"714626887577067928\",\"type\":\"observable\"})};\n    var self = this;\n    function AppViewModel() {\n        for (var key in json_data) {\n            var el = json_data[key];\n            this[key] = Array.isArray(el) ? ko.observableArray(el) : ko.observable(el);\n        }\n        \n        \n        [this[\"loading\"].subscribe((function (val){!(this.valueFromJulia[\"loading\"]) ? (WebIO.setval({\"name\":\"loading\",\"scope\":\"2127810002939595321\",\"id\":\"14714944425063834103\",\"type\":\"observable\"},val)) : undefined; return this.valueFromJulia[\"loading\"]=false}),self),this[\"clicks\"].subscribe((function (val){!(this.valueFromJulia[\"clicks\"]) ? (WebIO.setval({\"name\":\"clicks\",\"scope\":\"2127810002939595321\",\"id\":\"714626887577067928\",\"type\":\"observable\"},val)) : undefined; return this.valueFromJulia[\"clicks\"]=false}),self)]\n        \n    }\n    self.model = new AppViewModel();\n    self.valueFromJulia = {};\n    for (var key in json_data) {\n        self.valueFromJulia[key] = false;\n    }\n    ko.applyBindings(self.model, self.dom);\n}\n);\n    (WebIO.importBlock({\"data\":[{\"name\":\"knockout\",\"type\":\"js\",\"url\":\"/assetserver/727383f2a47bd31570b7da84eee7b022dd6d7c78-knockout.js\"},{\"name\":\"knockout_punches\",\"type\":\"js\",\"url\":\"/assetserver/382b41b3b1bd9f26f75861d360bad7f8beea211f-knockout_punches.js\"}],\"type\":\"async_block\"})).then((imports) => handler.apply(this, imports));\n}\n"
                  ],
                  "observables": {
                   "clicks": {
                    "id": "714626887577067928",
                    "sync": true,
                    "value": 0
                   },
                   "loading": {
                    "id": "14714944425063834103",
                    "sync": false,
                    "value": false
                   }
                  },
                  "systemjs_options": null
                 },
                 "nodeType": "Scope",
                 "props": {},
                 "type": "node"
                }
               ],
               "instanceArgs": {
                "namespace": "html",
                "tag": "div"
               },
               "nodeType": "DOM",
               "props": {
                "className": "field interact-widget"
               },
               "type": "node"
              },
              {
               "children": [
                {
                 "children": [
                  {
                   "children": [],
                   "instanceArgs": {
                    "namespace": "html",
                    "tag": "div"
                   },
                   "nodeType": "DOM",
                   "props": {
                    "id": "container"
                   },
                   "type": "node"
                  }
                 ],
                 "instanceArgs": {
                  "handlers": {
                   "value": [
                    "(function (txt){return this.k.render(txt,this.container)})"
                   ]
                  },
                  "id": "7792945355892055185",
                  "imports": {
                   "data": [
                    {
                     "name": null,
                     "type": "js",
                     "url": "/assetserver/dd22ed1bf1896c2748f3fe616ce0b838adc895c1-katex.min.js"
                    },
                    {
                     "name": null,
                     "type": "css",
                     "url": "/assetserver/46517a424aa5e6cffc1360d7e0848b601c584ee3-katex.min.css"
                    }
                   ],
                   "type": "async_block"
                  },
                  "mount_callbacks": [
                   "function () {\n    var handler = ((function (k){this.k=k; this.container=this.dom.querySelector(\"#container\"); return k.render(\"\\\\;\\\\;\",this.container)}));\n    (WebIO.importBlock({\"data\":[{\"name\":null,\"type\":\"js\",\"url\":\"/assetserver/dd22ed1bf1896c2748f3fe616ce0b838adc895c1-katex.min.js\"},{\"name\":null,\"type\":\"css\",\"url\":\"/assetserver/46517a424aa5e6cffc1360d7e0848b601c584ee3-katex.min.css\"}],\"type\":\"async_block\"})).then((imports) => handler.apply(this, imports));\n}\n"
                  ],
                  "observables": {
                   "value": {
                    "id": "6454891399792183469",
                    "sync": false,
                    "value": "\\;\\;"
                   }
                  },
                  "systemjs_options": null
                 },
                 "nodeType": "Scope",
                 "props": {},
                 "type": "node"
                }
               ],
               "instanceArgs": {
                "namespace": "html",
                "tag": "div"
               },
               "nodeType": "DOM",
               "props": {
                "className": "interact-widget"
               },
               "type": "node"
              },
              {
               "children": [
                {
                 "children": [
                  {
                   "children": [
                    "stop"
                   ],
                   "instanceArgs": {
                    "namespace": "html",
                    "tag": "button"
                   },
                   "nodeType": "DOM",
                   "props": {
                    "attributes": {
                     "data-bind": "click: function (){this.clicks(this.clicks()+1)}, css: {'is-loading' : loading}"
                    },
                    "className": "is-medium button is-primary",
                    "style": {}
                   },
                   "type": "node"
                  }
                 ],
                 "instanceArgs": {
                  "handlers": {
                   "clicks": [
                    "(function (val){return (val!=this.model[\"clicks\"]()) ? (this.valueFromJulia[\"clicks\"]=true, this.model[\"clicks\"](val)) : undefined})"
                   ],
                   "loading": [
                    "(function (val){return (val!=this.model[\"loading\"]()) ? (this.valueFromJulia[\"loading\"]=true, this.model[\"loading\"](val)) : undefined})"
                   ]
                  },
                  "id": "7537180072623523046",
                  "imports": {
                   "data": [
                    {
                     "name": "knockout",
                     "type": "js",
                     "url": "/assetserver/727383f2a47bd31570b7da84eee7b022dd6d7c78-knockout.js"
                    },
                    {
                     "name": "knockout_punches",
                     "type": "js",
                     "url": "/assetserver/382b41b3b1bd9f26f75861d360bad7f8beea211f-knockout_punches.js"
                    },
                    {
                     "name": null,
                     "type": "js",
                     "url": "/assetserver/5ab20f1060420992a9b82a65b735dee4d81ef413-all.js"
                    },
                    {
                     "name": null,
                     "type": "css",
                     "url": "/assetserver/1cc0ed62837210b80a182cc3676512f895dab686-style.css"
                    },
                    {
                     "name": null,
                     "type": "css",
                     "url": "/assetserver/2eee816f616df3549d7044d45e744fbf8d42bfa1-bulma_confined.min.css"
                    }
                   ],
                   "type": "async_block"
                  },
                  "mount_callbacks": [
                   "function () {\n    var handler = (function (ko, koPunches) {\n    ko.punches.enableAll();\n    ko.bindingHandlers.numericValue = {\n        init: function(element, valueAccessor, allBindings, data, context) {\n            var stringified = ko.observable(ko.unwrap(valueAccessor()));\n            stringified.subscribe(function(value) {\n                var val = parseFloat(value);\n                if (!isNaN(val)) {\n                    valueAccessor()(val);\n                }\n            });\n            valueAccessor().subscribe(function(value) {\n                var str = JSON.stringify(value);\n                if ((str == \"0\") && ([\"-0\", \"-0.\"].indexOf(stringified()) >= 0))\n                     return;\n                 if ([\"null\", \"\"].indexOf(str) >= 0)\n                     return;\n                stringified(str);\n            });\n            ko.applyBindingsToNode(\n                element,\n                {\n                    value: stringified,\n                    valueUpdate: allBindings.get('valueUpdate'),\n                },\n                context,\n            );\n        }\n    };\n    var json_data = {\"loading\":WebIO.getval({\"name\":\"loading\",\"scope\":\"7537180072623523046\",\"id\":\"4702395546183446821\",\"type\":\"observable\"}),\"clicks\":WebIO.getval({\"name\":\"clicks\",\"scope\":\"7537180072623523046\",\"id\":\"5127992342195234122\",\"type\":\"observable\"})};\n    var self = this;\n    function AppViewModel() {\n        for (var key in json_data) {\n            var el = json_data[key];\n            this[key] = Array.isArray(el) ? ko.observableArray(el) : ko.observable(el);\n        }\n        \n        \n        [this[\"loading\"].subscribe((function (val){!(this.valueFromJulia[\"loading\"]) ? (WebIO.setval({\"name\":\"loading\",\"scope\":\"7537180072623523046\",\"id\":\"4702395546183446821\",\"type\":\"observable\"},val)) : undefined; return this.valueFromJulia[\"loading\"]=false}),self),this[\"clicks\"].subscribe((function (val){!(this.valueFromJulia[\"clicks\"]) ? (WebIO.setval({\"name\":\"clicks\",\"scope\":\"7537180072623523046\",\"id\":\"5127992342195234122\",\"type\":\"observable\"},val)) : undefined; return this.valueFromJulia[\"clicks\"]=false}),self)]\n        \n    }\n    self.model = new AppViewModel();\n    self.valueFromJulia = {};\n    for (var key in json_data) {\n        self.valueFromJulia[key] = false;\n    }\n    ko.applyBindings(self.model, self.dom);\n}\n);\n    (WebIO.importBlock({\"data\":[{\"name\":\"knockout\",\"type\":\"js\",\"url\":\"/assetserver/727383f2a47bd31570b7da84eee7b022dd6d7c78-knockout.js\"},{\"name\":\"knockout_punches\",\"type\":\"js\",\"url\":\"/assetserver/382b41b3b1bd9f26f75861d360bad7f8beea211f-knockout_punches.js\"}],\"type\":\"async_block\"})).then((imports) => handler.apply(this, imports));\n}\n"
                  ],
                  "observables": {
                   "clicks": {
                    "id": "5127992342195234122",
                    "sync": true,
                    "value": 0
                   },
                   "loading": {
                    "id": "4702395546183446821",
                    "sync": false,
                    "value": false
                   }
                  },
                  "systemjs_options": null
                 },
                 "nodeType": "Scope",
                 "props": {},
                 "type": "node"
                }
               ],
               "instanceArgs": {
                "namespace": "html",
                "tag": "div"
               },
               "nodeType": "DOM",
               "props": {
                "className": "field interact-widget"
               },
               "type": "node"
              },
              {
               "children": [
                {
                 "children": [
                  {
                   "children": [],
                   "instanceArgs": {
                    "namespace": "html",
                    "tag": "div"
                   },
                   "nodeType": "DOM",
                   "props": {
                    "id": "container"
                   },
                   "type": "node"
                  }
                 ],
                 "instanceArgs": {
                  "handlers": {
                   "value": [
                    "(function (txt){return this.k.render(txt,this.container)})"
                   ]
                  },
                  "id": "7792945355892055185",
                  "imports": {
                   "data": [
                    {
                     "name": null,
                     "type": "js",
                     "url": "/assetserver/dd22ed1bf1896c2748f3fe616ce0b838adc895c1-katex.min.js"
                    },
                    {
                     "name": null,
                     "type": "css",
                     "url": "/assetserver/46517a424aa5e6cffc1360d7e0848b601c584ee3-katex.min.css"
                    }
                   ],
                   "type": "async_block"
                  },
                  "mount_callbacks": [
                   "function () {\n    var handler = ((function (k){this.k=k; this.container=this.dom.querySelector(\"#container\"); return k.render(\"\\\\;\\\\;\",this.container)}));\n    (WebIO.importBlock({\"data\":[{\"name\":null,\"type\":\"js\",\"url\":\"/assetserver/dd22ed1bf1896c2748f3fe616ce0b838adc895c1-katex.min.js\"},{\"name\":null,\"type\":\"css\",\"url\":\"/assetserver/46517a424aa5e6cffc1360d7e0848b601c584ee3-katex.min.css\"}],\"type\":\"async_block\"})).then((imports) => handler.apply(this, imports));\n}\n"
                  ],
                  "observables": {
                   "value": {
                    "id": "6454891399792183469",
                    "sync": false,
                    "value": "\\;\\;"
                   }
                  },
                  "systemjs_options": null
                 },
                 "nodeType": "Scope",
                 "props": {},
                 "type": "node"
                }
               ],
               "instanceArgs": {
                "namespace": "html",
                "tag": "div"
               },
               "nodeType": "DOM",
               "props": {
                "className": "interact-widget"
               },
               "type": "node"
              },
              {
               "children": [
                {
                 "children": [
                  {
                   "children": [
                    "save"
                   ],
                   "instanceArgs": {
                    "namespace": "html",
                    "tag": "button"
                   },
                   "nodeType": "DOM",
                   "props": {
                    "attributes": {
                     "data-bind": "click: function (){this.clicks(this.clicks()+1)}, css: {'is-loading' : loading}"
                    },
                    "className": "is-medium button is-primary",
                    "style": {}
                   },
                   "type": "node"
                  }
                 ],
                 "instanceArgs": {
                  "handlers": {
                   "clicks": [
                    "(function (val){return (val!=this.model[\"clicks\"]()) ? (this.valueFromJulia[\"clicks\"]=true, this.model[\"clicks\"](val)) : undefined})"
                   ],
                   "loading": [
                    "(function (val){return (val!=this.model[\"loading\"]()) ? (this.valueFromJulia[\"loading\"]=true, this.model[\"loading\"](val)) : undefined})"
                   ]
                  },
                  "id": "4110232458040132665",
                  "imports": {
                   "data": [
                    {
                     "name": "knockout",
                     "type": "js",
                     "url": "/assetserver/727383f2a47bd31570b7da84eee7b022dd6d7c78-knockout.js"
                    },
                    {
                     "name": "knockout_punches",
                     "type": "js",
                     "url": "/assetserver/382b41b3b1bd9f26f75861d360bad7f8beea211f-knockout_punches.js"
                    },
                    {
                     "name": null,
                     "type": "js",
                     "url": "/assetserver/5ab20f1060420992a9b82a65b735dee4d81ef413-all.js"
                    },
                    {
                     "name": null,
                     "type": "css",
                     "url": "/assetserver/1cc0ed62837210b80a182cc3676512f895dab686-style.css"
                    },
                    {
                     "name": null,
                     "type": "css",
                     "url": "/assetserver/2eee816f616df3549d7044d45e744fbf8d42bfa1-bulma_confined.min.css"
                    }
                   ],
                   "type": "async_block"
                  },
                  "mount_callbacks": [
                   "function () {\n    var handler = (function (ko, koPunches) {\n    ko.punches.enableAll();\n    ko.bindingHandlers.numericValue = {\n        init: function(element, valueAccessor, allBindings, data, context) {\n            var stringified = ko.observable(ko.unwrap(valueAccessor()));\n            stringified.subscribe(function(value) {\n                var val = parseFloat(value);\n                if (!isNaN(val)) {\n                    valueAccessor()(val);\n                }\n            });\n            valueAccessor().subscribe(function(value) {\n                var str = JSON.stringify(value);\n                if ((str == \"0\") && ([\"-0\", \"-0.\"].indexOf(stringified()) >= 0))\n                     return;\n                 if ([\"null\", \"\"].indexOf(str) >= 0)\n                     return;\n                stringified(str);\n            });\n            ko.applyBindingsToNode(\n                element,\n                {\n                    value: stringified,\n                    valueUpdate: allBindings.get('valueUpdate'),\n                },\n                context,\n            );\n        }\n    };\n    var json_data = {\"loading\":WebIO.getval({\"name\":\"loading\",\"scope\":\"4110232458040132665\",\"id\":\"9557390605193288301\",\"type\":\"observable\"}),\"clicks\":WebIO.getval({\"name\":\"clicks\",\"scope\":\"4110232458040132665\",\"id\":\"14088177091642773521\",\"type\":\"observable\"})};\n    var self = this;\n    function AppViewModel() {\n        for (var key in json_data) {\n            var el = json_data[key];\n            this[key] = Array.isArray(el) ? ko.observableArray(el) : ko.observable(el);\n        }\n        \n        \n        [this[\"loading\"].subscribe((function (val){!(this.valueFromJulia[\"loading\"]) ? (WebIO.setval({\"name\":\"loading\",\"scope\":\"4110232458040132665\",\"id\":\"9557390605193288301\",\"type\":\"observable\"},val)) : undefined; return this.valueFromJulia[\"loading\"]=false}),self),this[\"clicks\"].subscribe((function (val){!(this.valueFromJulia[\"clicks\"]) ? (WebIO.setval({\"name\":\"clicks\",\"scope\":\"4110232458040132665\",\"id\":\"14088177091642773521\",\"type\":\"observable\"},val)) : undefined; return this.valueFromJulia[\"clicks\"]=false}),self)]\n        \n    }\n    self.model = new AppViewModel();\n    self.valueFromJulia = {};\n    for (var key in json_data) {\n        self.valueFromJulia[key] = false;\n    }\n    ko.applyBindings(self.model, self.dom);\n}\n);\n    (WebIO.importBlock({\"data\":[{\"name\":\"knockout\",\"type\":\"js\",\"url\":\"/assetserver/727383f2a47bd31570b7da84eee7b022dd6d7c78-knockout.js\"},{\"name\":\"knockout_punches\",\"type\":\"js\",\"url\":\"/assetserver/382b41b3b1bd9f26f75861d360bad7f8beea211f-knockout_punches.js\"}],\"type\":\"async_block\"})).then((imports) => handler.apply(this, imports));\n}\n"
                  ],
                  "observables": {
                   "clicks": {
                    "id": "14088177091642773521",
                    "sync": true,
                    "value": 0
                   },
                   "loading": {
                    "id": "9557390605193288301",
                    "sync": false,
                    "value": false
                   }
                  },
                  "systemjs_options": null
                 },
                 "nodeType": "Scope",
                 "props": {},
                 "type": "node"
                }
               ],
               "instanceArgs": {
                "namespace": "html",
                "tag": "div"
               },
               "nodeType": "DOM",
               "props": {
                "className": "field interact-widget"
               },
               "type": "node"
              }
             ],
             "instanceArgs": {
              "namespace": "html",
              "tag": "div"
             },
             "nodeType": "DOM",
             "props": {
              "style": {
               "display": "flex",
               "flex-direction": "row"
              }
             },
             "type": "node"
            }
           ],
           "instanceArgs": {
            "namespace": "html",
            "tag": "div"
           },
           "nodeType": "DOM",
           "props": {
            "style": {
             "display": "flex",
             "flex-direction": "column"
            }
           },
           "type": "node"
          },
          {
           "children": [
            {
             "children": [
              {
               "children": [],
               "instanceArgs": {
                "namespace": "html",
                "tag": "div"
               },
               "nodeType": "DOM",
               "props": {
                "id": "container"
               },
               "type": "node"
              }
             ],
             "instanceArgs": {
              "handlers": {
               "value": [
                "(function (txt){return this.k.render(txt,this.container)})"
               ]
              },
              "id": "7792945355892055185",
              "imports": {
               "data": [
                {
                 "name": null,
                 "type": "js",
                 "url": "/assetserver/dd22ed1bf1896c2748f3fe616ce0b838adc895c1-katex.min.js"
                },
                {
                 "name": null,
                 "type": "css",
                 "url": "/assetserver/46517a424aa5e6cffc1360d7e0848b601c584ee3-katex.min.css"
                }
               ],
               "type": "async_block"
              },
              "mount_callbacks": [
               "function () {\n    var handler = ((function (k){this.k=k; this.container=this.dom.querySelector(\"#container\"); return k.render(\"\\\\;\\\\;\",this.container)}));\n    (WebIO.importBlock({\"data\":[{\"name\":null,\"type\":\"js\",\"url\":\"/assetserver/dd22ed1bf1896c2748f3fe616ce0b838adc895c1-katex.min.js\"},{\"name\":null,\"type\":\"css\",\"url\":\"/assetserver/46517a424aa5e6cffc1360d7e0848b601c584ee3-katex.min.css\"}],\"type\":\"async_block\"})).then((imports) => handler.apply(this, imports));\n}\n"
              ],
              "observables": {
               "value": {
                "id": "6454891399792183469",
                "sync": false,
                "value": "\\;\\;"
               }
              },
              "systemjs_options": null
             },
             "nodeType": "Scope",
             "props": {},
             "type": "node"
            }
           ],
           "instanceArgs": {
            "namespace": "html",
            "tag": "div"
           },
           "nodeType": "DOM",
           "props": {
            "className": "interact-widget"
           },
           "type": "node"
          },
          {
           "children": [
            {
             "children": [],
             "instanceArgs": {
              "namespace": "html",
              "tag": "div"
             },
             "nodeType": "DOM",
             "props": {
              "className": "webio-observable",
              "setInnerHtml": "<img src='data:image/png;base64,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'></img>"
             },
             "type": "node"
            }
           ],
           "instanceArgs": {
            "handlers": {
             "obs-output": [
              "function (value, scope) {\n    scope.setInnerHTML(value);\n}\n"
             ]
            },
            "id": "5339791368934581990",
            "imports": {
             "data": [],
             "type": "async_block"
            },
            "mount_callbacks": [],
            "observables": {
             "obs-output": {
              "id": "8243453580264595880",
              "sync": false,
              "value": "<img src='data:image/png;base64,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'></img>"
             }
            },
            "systemjs_options": null
           },
           "nodeType": "Scope",
           "props": {},
           "type": "node"
          },
          {
           "children": [
            {
             "children": [
              {
               "children": [],
               "instanceArgs": {
                "namespace": "html",
                "tag": "div"
               },
               "nodeType": "DOM",
               "props": {
                "id": "container"
               },
               "type": "node"
              }
             ],
             "instanceArgs": {
              "handlers": {
               "value": [
                "(function (txt){return this.k.render(txt,this.container)})"
               ]
              },
              "id": "7792945355892055185",
              "imports": {
               "data": [
                {
                 "name": null,
                 "type": "js",
                 "url": "/assetserver/dd22ed1bf1896c2748f3fe616ce0b838adc895c1-katex.min.js"
                },
                {
                 "name": null,
                 "type": "css",
                 "url": "/assetserver/46517a424aa5e6cffc1360d7e0848b601c584ee3-katex.min.css"
                }
               ],
               "type": "async_block"
              },
              "mount_callbacks": [
               "function () {\n    var handler = ((function (k){this.k=k; this.container=this.dom.querySelector(\"#container\"); return k.render(\"\\\\;\\\\;\",this.container)}));\n    (WebIO.importBlock({\"data\":[{\"name\":null,\"type\":\"js\",\"url\":\"/assetserver/dd22ed1bf1896c2748f3fe616ce0b838adc895c1-katex.min.js\"},{\"name\":null,\"type\":\"css\",\"url\":\"/assetserver/46517a424aa5e6cffc1360d7e0848b601c584ee3-katex.min.css\"}],\"type\":\"async_block\"})).then((imports) => handler.apply(this, imports));\n}\n"
              ],
              "observables": {
               "value": {
                "id": "6454891399792183469",
                "sync": false,
                "value": "\\;\\;"
               }
              },
              "systemjs_options": null
             },
             "nodeType": "Scope",
             "props": {},
             "type": "node"
            }
           ],
           "instanceArgs": {
            "namespace": "html",
            "tag": "div"
           },
           "nodeType": "DOM",
           "props": {
            "className": "interact-widget"
           },
           "type": "node"
          },
          {
           "children": [],
           "instanceArgs": {
            "namespace": "html",
            "tag": "div"
           },
           "nodeType": "DOM",
           "props": {
            "style": {
             "display": "flex",
             "flex-direction": "column"
            }
           },
           "type": "node"
          }
         ],
         "instanceArgs": {
          "namespace": "html",
          "tag": "div"
         },
         "nodeType": "DOM",
         "props": {
          "style": {
           "display": "flex",
           "flex-direction": "row"
          }
         },
         "type": "node"
        }
       ],
       "instanceArgs": {
        "namespace": "html",
        "tag": "div"
       },
       "nodeType": "DOM",
       "props": {
        "style": {
         "display": "flex",
         "flex-direction": "column"
        }
       },
       "type": "node"
      },
      "text/html": [
       "<div\n",
       "    class=\"webio-mountpoint\"\n",
       "    data-webio-mountpoint=\"7759840892319195538\"\n",
       ">\n",
       "    <script>\n",
       "    (function(){\n",
       "    // Some integrations (namely, IJulia/Jupyter) use an alternate render pathway than\n",
       "    // just putting the html on the page. If WebIO isn't defined, then it's pretty likely\n",
       "    // that we're in one of those situations and the integration just isn't installed\n",
       "    // correctly.\n",
       "    if (typeof window.WebIO === \"undefined\") {\n",
       "        document\n",
       "            .querySelector('[data-webio-mountpoint=\"7759840892319195538\"]')\n",
       "            .innerHTML = (\n",
       "                '<div style=\"padding: 1em; background-color: #f8d6da; border: 1px solid #f5c6cb; font-weight: bold;\">' +\n",
       "                '<p><strong>WebIO not detected.</strong></p>' +\n",
       "                '<p>Please read ' +\n",
       "                '<a href=\"https://juliagizmos.github.io/WebIO.jl/latest/troubleshooting/not-detected/\" target=\"_blank\">the troubleshooting guide</a> ' +\n",
       "                'for more information on how to resolve this issue.</p>' +\n",
       "                '<p><a href=\"https://juliagizmos.github.io/WebIO.jl/latest/troubleshooting/not-detected/\" target=\"_blank\">https://juliagizmos.github.io/WebIO.jl/latest/troubleshooting/not-detected/</a></p>' +\n",
       "                '</div>'\n",
       "            );\n",
       "        return;\n",
       "    }\n",
       "    WebIO.mount(\n",
       "        document.querySelector('[data-webio-mountpoint=\"7759840892319195538\"]'),\n",
       "        {\"props\":{\"style\":{\"display\":\"flex\",\"flex-direction\":\"column\"}},\"nodeType\":\"DOM\",\"type\":\"node\",\"instanceArgs\":{\"namespace\":\"html\",\"tag\":\"div\"},\"children\":[{\"props\":{\"style\":{\"display\":\"flex\",\"flex-direction\":\"row\"}},\"nodeType\":\"DOM\",\"type\":\"node\",\"instanceArgs\":{\"namespace\":\"html\",\"tag\":\"div\"},\"children\":[{\"props\":{\"style\":{\"display\":\"flex\",\"flex-direction\":\"column\"}},\"nodeType\":\"DOM\",\"type\":\"node\",\"instanceArgs\":{\"namespace\":\"html\",\"tag\":\"div\"},\"children\":[{\"props\":{\"className\":\"field interact-widget\"},\"nodeType\":\"DOM\",\"type\":\"node\",\"instanceArgs\":{\"namespace\":\"html\",\"tag\":\"div\"},\"children\":[{\"props\":{},\"nodeType\":\"Scope\",\"type\":\"node\",\"instanceArgs\":{\"imports\":{\"data\":[{\"name\":\"knockout\",\"type\":\"js\",\"url\":\"\\/assetserver\\/727383f2a47bd31570b7da84eee7b022dd6d7c78-knockout.js\"},{\"name\":\"knockout_punches\",\"type\":\"js\",\"url\":\"\\/assetserver\\/382b41b3b1bd9f26f75861d360bad7f8beea211f-knockout_punches.js\"},{\"name\":null,\"type\":\"js\",\"url\":\"\\/assetserver\\/5ab20f1060420992a9b82a65b735dee4d81ef413-all.js\"},{\"name\":null,\"type\":\"css\",\"url\":\"\\/assetserver\\/1cc0ed62837210b80a182cc3676512f895dab686-style.css\"},{\"name\":null,\"type\":\"css\",\"url\":\"\\/assetserver\\/2eee816f616df3549d7044d45e744fbf8d42bfa1-bulma_confined.min.css\"}],\"type\":\"async_block\"},\"id\":\"10992993969153321285\",\"handlers\":{\"changes\":[\"(function (val){return (val!=this.model[\\\"changes\\\"]()) ? (this.valueFromJulia[\\\"changes\\\"]=true, this.model[\\\"changes\\\"](val)) : undefined})\"],\"index\":[\"(function (val){return (val!=this.model[\\\"index\\\"]()) ? (this.valueFromJulia[\\\"index\\\"]=true, this.model[\\\"index\\\"](val)) : undefined})\"]},\"systemjs_options\":null,\"mount_callbacks\":[\"function () {\\n    var handler = (function (ko, koPunches) {\\n    ko.punches.enableAll();\\n    ko.bindingHandlers.numericValue = {\\n        init: function(element, valueAccessor, allBindings, data, context) {\\n            var stringified = ko.observable(ko.unwrap(valueAccessor()));\\n            stringified.subscribe(function(value) {\\n                var val = parseFloat(value);\\n                if (!isNaN(val)) {\\n                    valueAccessor()(val);\\n                }\\n            });\\n            valueAccessor().subscribe(function(value) {\\n                var str = JSON.stringify(value);\\n                if ((str == \\\"0\\\") && ([\\\"-0\\\", \\\"-0.\\\"].indexOf(stringified()) >= 0))\\n                     return;\\n                 if ([\\\"null\\\", \\\"\\\"].indexOf(str) >= 0)\\n                     return;\\n                stringified(str);\\n            });\\n            ko.applyBindingsToNode(\\n                element,\\n                {\\n                    value: stringified,\\n                    valueUpdate: allBindings.get('valueUpdate'),\\n                },\\n                context,\\n            );\\n        }\\n    };\\n    var json_data = {\\\"formatted_vals\\\":[\\\"1\\\",\\\"2\\\",\\\"3\\\",\\\"4\\\",\\\"5\\\",\\\"6\\\",\\\"7\\\",\\\"8\\\",\\\"9\\\",\\\"10\\\",\\\"11\\\",\\\"12\\\",\\\"13\\\",\\\"14\\\",\\\"15\\\",\\\"16\\\",\\\"17\\\",\\\"18\\\",\\\"19\\\",\\\"20\\\",\\\"21\\\",\\\"22\\\",\\\"23\\\",\\\"24\\\",\\\"25\\\",\\\"26\\\",\\\"27\\\",\\\"28\\\",\\\"29\\\",\\\"30\\\",\\\"31\\\",\\\"32\\\",\\\"33\\\",\\\"34\\\",\\\"35\\\",\\\"36\\\",\\\"37\\\",\\\"38\\\",\\\"39\\\",\\\"40\\\",\\\"41\\\",\\\"42\\\",\\\"43\\\",\\\"44\\\",\\\"45\\\",\\\"46\\\",\\\"47\\\",\\\"48\\\",\\\"49\\\",\\\"50\\\",\\\"51\\\"],\\\"changes\\\":WebIO.getval({\\\"name\\\":\\\"changes\\\",\\\"scope\\\":\\\"10992993969153321285\\\",\\\"id\\\":\\\"16432506797098304269\\\",\\\"type\\\":\\\"observable\\\"}),\\\"index\\\":WebIO.getval({\\\"name\\\":\\\"index\\\",\\\"scope\\\":\\\"10992993969153321285\\\",\\\"id\\\":\\\"13606241154055713592\\\",\\\"type\\\":\\\"observable\\\"})};\\n    var self = this;\\n    function AppViewModel() {\\n        for (var key in json_data) {\\n            var el = json_data[key];\\n            this[key] = Array.isArray(el) ? ko.observableArray(el) : ko.observable(el);\\n        }\\n        \\n        [this[\\\"formatted_val\\\"]=ko.computed(    function(){\\n        return this.formatted_vals()[parseInt(this.index())-(1)];\\n    }\\n,this)]\\n        [this[\\\"changes\\\"].subscribe((function (val){!(this.valueFromJulia[\\\"changes\\\"]) ? (WebIO.setval({\\\"name\\\":\\\"changes\\\",\\\"scope\\\":\\\"10992993969153321285\\\",\\\"id\\\":\\\"16432506797098304269\\\",\\\"type\\\":\\\"observable\\\"},val)) : undefined; return this.valueFromJulia[\\\"changes\\\"]=false}),self),this[\\\"index\\\"].subscribe((function (val){!(this.valueFromJulia[\\\"index\\\"]) ? (WebIO.setval({\\\"name\\\":\\\"index\\\",\\\"scope\\\":\\\"10992993969153321285\\\",\\\"id\\\":\\\"13606241154055713592\\\",\\\"type\\\":\\\"observable\\\"},val)) : undefined; return this.valueFromJulia[\\\"index\\\"]=false}),self)]\\n        \\n    }\\n    self.model = new AppViewModel();\\n    self.valueFromJulia = {};\\n    for (var key in json_data) {\\n        self.valueFromJulia[key] = false;\\n    }\\n    ko.applyBindings(self.model, self.dom);\\n}\\n);\\n    (WebIO.importBlock({\\\"data\\\":[{\\\"name\\\":\\\"knockout\\\",\\\"type\\\":\\\"js\\\",\\\"url\\\":\\\"\\/assetserver\\/727383f2a47bd31570b7da84eee7b022dd6d7c78-knockout.js\\\"},{\\\"name\\\":\\\"knockout_punches\\\",\\\"type\\\":\\\"js\\\",\\\"url\\\":\\\"\\/assetserver\\/382b41b3b1bd9f26f75861d360bad7f8beea211f-knockout_punches.js\\\"}],\\\"type\\\":\\\"async_block\\\"})).then((imports) => handler.apply(this, imports));\\n}\\n\"],\"observables\":{\"changes\":{\"sync\":false,\"id\":\"16432506797098304269\",\"value\":0},\"index\":{\"sync\":true,\"id\":\"13606241154055713592\",\"value\":26}}},\"children\":[{\"props\":{\"className\":\"interact-flex-row interact-widget\"},\"nodeType\":\"DOM\",\"type\":\"node\",\"instanceArgs\":{\"namespace\":\"html\",\"tag\":\"div\"},\"children\":[{\"props\":{\"className\":\"interact-flex-row-left\"},\"nodeType\":\"DOM\",\"type\":\"node\",\"instanceArgs\":{\"namespace\":\"html\",\"tag\":\"div\"},\"children\":[{\"props\":{\"className\":\"interact \",\"style\":{\"padding\":\"5px 10px 0px 10px\"}},\"nodeType\":\"DOM\",\"type\":\"node\",\"instanceArgs\":{\"namespace\":\"html\",\"tag\":\"label\"},\"children\":[\"time\"]}]},{\"props\":{\"className\":\"interact-flex-row-center\"},\"nodeType\":\"DOM\",\"type\":\"node\",\"instanceArgs\":{\"namespace\":\"html\",\"tag\":\"div\"},\"children\":[{\"props\":{\"max\":51,\"min\":1,\"attributes\":{\"type\":\"range\",\"data-bind\":\"numericValue: index, valueUpdate: 'input', event: {change: function (){this.changes(this.changes()+1)}}\",\"orient\":\"horizontal\"},\"step\":1,\"className\":\"slider slider is-fullwidth\",\"style\":{}},\"nodeType\":\"DOM\",\"type\":\"node\",\"instanceArgs\":{\"namespace\":\"html\",\"tag\":\"input\"},\"children\":[]}]},{\"props\":{\"className\":\"interact-flex-row-right\"},\"nodeType\":\"DOM\",\"type\":\"node\",\"instanceArgs\":{\"namespace\":\"html\",\"tag\":\"div\"},\"children\":[{\"props\":{\"attributes\":{\"data-bind\":\"text: formatted_val\"}},\"nodeType\":\"DOM\",\"type\":\"node\",\"instanceArgs\":{\"namespace\":\"html\",\"tag\":\"p\"},\"children\":[]}]}]}]}]},{\"props\":{\"className\":\"field interact-widget\"},\"nodeType\":\"DOM\",\"type\":\"node\",\"instanceArgs\":{\"namespace\":\"html\",\"tag\":\"div\"},\"children\":[{\"props\":{},\"nodeType\":\"Scope\",\"type\":\"node\",\"instanceArgs\":{\"imports\":{\"data\":[{\"name\":\"knockout\",\"type\":\"js\",\"url\":\"\\/assetserver\\/727383f2a47bd31570b7da84eee7b022dd6d7c78-knockout.js\"},{\"name\":\"knockout_punches\",\"type\":\"js\",\"url\":\"\\/assetserver\\/382b41b3b1bd9f26f75861d360bad7f8beea211f-knockout_punches.js\"},{\"name\":null,\"type\":\"js\",\"url\":\"\\/assetserver\\/5ab20f1060420992a9b82a65b735dee4d81ef413-all.js\"},{\"name\":null,\"type\":\"css\",\"url\":\"\\/assetserver\\/1cc0ed62837210b80a182cc3676512f895dab686-style.css\"},{\"name\":null,\"type\":\"css\",\"url\":\"\\/assetserver\\/2eee816f616df3549d7044d45e744fbf8d42bfa1-bulma_confined.min.css\"}],\"type\":\"async_block\"},\"id\":\"11777942319227336264\",\"handlers\":{\"changes\":[\"(function (val){return (val!=this.model[\\\"changes\\\"]()) ? (this.valueFromJulia[\\\"changes\\\"]=true, this.model[\\\"changes\\\"](val)) : undefined})\"],\"index\":[\"(function (val){return (val!=this.model[\\\"index\\\"]()) ? (this.valueFromJulia[\\\"index\\\"]=true, this.model[\\\"index\\\"](val)) : undefined})\"]},\"systemjs_options\":null,\"mount_callbacks\":[\"function () {\\n    var handler = (function (ko, koPunches) {\\n    ko.punches.enableAll();\\n    ko.bindingHandlers.numericValue = {\\n        init: function(element, valueAccessor, allBindings, data, context) {\\n            var stringified = ko.observable(ko.unwrap(valueAccessor()));\\n            stringified.subscribe(function(value) {\\n                var val = parseFloat(value);\\n                if (!isNaN(val)) {\\n                    valueAccessor()(val);\\n                }\\n            });\\n            valueAccessor().subscribe(function(value) {\\n                var str = JSON.stringify(value);\\n                if ((str == \\\"0\\\") && ([\\\"-0\\\", \\\"-0.\\\"].indexOf(stringified()) >= 0))\\n                     return;\\n                 if ([\\\"null\\\", \\\"\\\"].indexOf(str) >= 0)\\n                     return;\\n                stringified(str);\\n            });\\n            ko.applyBindingsToNode(\\n                element,\\n                {\\n                    value: stringified,\\n                    valueUpdate: allBindings.get('valueUpdate'),\\n                },\\n                context,\\n            );\\n        }\\n    };\\n    var json_data = {\\\"formatted_vals\\\":[\\\"0.1\\\",\\\"0.2\\\",\\\"0.3\\\",\\\"0.4\\\",\\\"0.5\\\",\\\"0.6\\\",\\\"0.7\\\",\\\"0.8\\\",\\\"0.9\\\",\\\"1.0\\\",\\\"1.1\\\",\\\"1.2\\\",\\\"1.3\\\",\\\"1.4\\\",\\\"1.5\\\",\\\"1.6\\\",\\\"1.7\\\",\\\"1.8\\\",\\\"1.9\\\",\\\"2.0\\\"],\\\"changes\\\":WebIO.getval({\\\"name\\\":\\\"changes\\\",\\\"scope\\\":\\\"11777942319227336264\\\",\\\"id\\\":\\\"7218851930481723029\\\",\\\"type\\\":\\\"observable\\\"}),\\\"index\\\":WebIO.getval({\\\"name\\\":\\\"index\\\",\\\"scope\\\":\\\"11777942319227336264\\\",\\\"id\\\":\\\"3821553125843947703\\\",\\\"type\\\":\\\"observable\\\"})};\\n    var self = this;\\n    function AppViewModel() {\\n        for (var key in json_data) {\\n            var el = json_data[key];\\n            this[key] = Array.isArray(el) ? ko.observableArray(el) : ko.observable(el);\\n        }\\n        \\n        [this[\\\"formatted_val\\\"]=ko.computed(    function(){\\n        return this.formatted_vals()[parseInt(this.index())-(1)];\\n    }\\n,this)]\\n        [this[\\\"changes\\\"].subscribe((function (val){!(this.valueFromJulia[\\\"changes\\\"]) ? (WebIO.setval({\\\"name\\\":\\\"changes\\\",\\\"scope\\\":\\\"11777942319227336264\\\",\\\"id\\\":\\\"7218851930481723029\\\",\\\"type\\\":\\\"observable\\\"},val)) : undefined; return this.valueFromJulia[\\\"changes\\\"]=false}),self),this[\\\"index\\\"].subscribe((function (val){!(this.valueFromJulia[\\\"index\\\"]) ? (WebIO.setval({\\\"name\\\":\\\"index\\\",\\\"scope\\\":\\\"11777942319227336264\\\",\\\"id\\\":\\\"3821553125843947703\\\",\\\"type\\\":\\\"observable\\\"},val)) : undefined; return this.valueFromJulia[\\\"index\\\"]=false}),self)]\\n        \\n    }\\n    self.model = new AppViewModel();\\n    self.valueFromJulia = {};\\n    for (var key in json_data) {\\n        self.valueFromJulia[key] = false;\\n    }\\n    ko.applyBindings(self.model, self.dom);\\n}\\n);\\n    (WebIO.importBlock({\\\"data\\\":[{\\\"name\\\":\\\"knockout\\\",\\\"type\\\":\\\"js\\\",\\\"url\\\":\\\"\\/assetserver\\/727383f2a47bd31570b7da84eee7b022dd6d7c78-knockout.js\\\"},{\\\"name\\\":\\\"knockout_punches\\\",\\\"type\\\":\\\"js\\\",\\\"url\\\":\\\"\\/assetserver\\/382b41b3b1bd9f26f75861d360bad7f8beea211f-knockout_punches.js\\\"}],\\\"type\\\":\\\"async_block\\\"})).then((imports) => handler.apply(this, imports));\\n}\\n\"],\"observables\":{\"changes\":{\"sync\":false,\"id\":\"7218851930481723029\",\"value\":0},\"index\":{\"sync\":true,\"id\":\"3821553125843947703\",\"value\":10}}},\"children\":[{\"props\":{\"className\":\"interact-flex-row interact-widget\"},\"nodeType\":\"DOM\",\"type\":\"node\",\"instanceArgs\":{\"namespace\":\"html\",\"tag\":\"div\"},\"children\":[{\"props\":{\"className\":\"interact-flex-row-left\"},\"nodeType\":\"DOM\",\"type\":\"node\",\"instanceArgs\":{\"namespace\":\"html\",\"tag\":\"div\"},\"children\":[{\"props\":{\"className\":\"interact \",\"style\":{\"padding\":\"5px 10px 0px 10px\"}},\"nodeType\":\"DOM\",\"type\":\"node\",\"instanceArgs\":{\"namespace\":\"html\",\"tag\":\"label\"},\"children\":[\"scale\"]}]},{\"props\":{\"className\":\"interact-flex-row-center\"},\"nodeType\":\"DOM\",\"type\":\"node\",\"instanceArgs\":{\"namespace\":\"html\",\"tag\":\"div\"},\"children\":[{\"props\":{\"max\":20,\"min\":1,\"attributes\":{\"type\":\"range\",\"data-bind\":\"numericValue: index, valueUpdate: 'input', event: {change: function (){this.changes(this.changes()+1)}}\",\"orient\":\"horizontal\"},\"step\":1,\"className\":\"slider slider is-fullwidth\",\"style\":{}},\"nodeType\":\"DOM\",\"type\":\"node\",\"instanceArgs\":{\"namespace\":\"html\",\"tag\":\"input\"},\"children\":[]}]},{\"props\":{\"className\":\"interact-flex-row-right\"},\"nodeType\":\"DOM\",\"type\":\"node\",\"instanceArgs\":{\"namespace\":\"html\",\"tag\":\"div\"},\"children\":[{\"props\":{\"attributes\":{\"data-bind\":\"text: formatted_val\"}},\"nodeType\":\"DOM\",\"type\":\"node\",\"instanceArgs\":{\"namespace\":\"html\",\"tag\":\"p\"},\"children\":[]}]}]}]}]},{\"props\":{\"style\":{\"display\":\"flex\",\"flex-direction\":\"row\"}},\"nodeType\":\"DOM\",\"type\":\"node\",\"instanceArgs\":{\"namespace\":\"html\",\"tag\":\"div\"},\"children\":[{\"props\":{\"className\":\"interact-widget\"},\"nodeType\":\"DOM\",\"type\":\"node\",\"instanceArgs\":{\"namespace\":\"html\",\"tag\":\"div\"},\"children\":[{\"props\":{},\"nodeType\":\"Scope\",\"type\":\"node\",\"instanceArgs\":{\"imports\":{\"data\":[{\"name\":null,\"type\":\"js\",\"url\":\"\\/assetserver\\/dd22ed1bf1896c2748f3fe616ce0b838adc895c1-katex.min.js\"},{\"name\":null,\"type\":\"css\",\"url\":\"\\/assetserver\\/46517a424aa5e6cffc1360d7e0848b601c584ee3-katex.min.css\"}],\"type\":\"async_block\"},\"id\":\"7792945355892055185\",\"handlers\":{\"value\":[\"(function (txt){return this.k.render(txt,this.container)})\"]},\"systemjs_options\":null,\"mount_callbacks\":[\"function () {\\n    var handler = ((function (k){this.k=k; this.container=this.dom.querySelector(\\\"#container\\\"); return k.render(\\\"\\\\\\\\;\\\\\\\\;\\\",this.container)}));\\n    (WebIO.importBlock({\\\"data\\\":[{\\\"name\\\":null,\\\"type\\\":\\\"js\\\",\\\"url\\\":\\\"\\/assetserver\\/dd22ed1bf1896c2748f3fe616ce0b838adc895c1-katex.min.js\\\"},{\\\"name\\\":null,\\\"type\\\":\\\"css\\\",\\\"url\\\":\\\"\\/assetserver\\/46517a424aa5e6cffc1360d7e0848b601c584ee3-katex.min.css\\\"}],\\\"type\\\":\\\"async_block\\\"})).then((imports) => handler.apply(this, imports));\\n}\\n\"],\"observables\":{\"value\":{\"sync\":false,\"id\":\"6454891399792183469\",\"value\":\"\\\\;\\\\;\"}}},\"children\":[{\"props\":{\"id\":\"container\"},\"nodeType\":\"DOM\",\"type\":\"node\",\"instanceArgs\":{\"namespace\":\"html\",\"tag\":\"div\"},\"children\":[]}]}]},{\"props\":{\"className\":\"field interact-widget\"},\"nodeType\":\"DOM\",\"type\":\"node\",\"instanceArgs\":{\"namespace\":\"html\",\"tag\":\"div\"},\"children\":[{\"props\":{},\"nodeType\":\"Scope\",\"type\":\"node\",\"instanceArgs\":{\"imports\":{\"data\":[{\"name\":\"knockout\",\"type\":\"js\",\"url\":\"\\/assetserver\\/727383f2a47bd31570b7da84eee7b022dd6d7c78-knockout.js\"},{\"name\":\"knockout_punches\",\"type\":\"js\",\"url\":\"\\/assetserver\\/382b41b3b1bd9f26f75861d360bad7f8beea211f-knockout_punches.js\"},{\"name\":null,\"type\":\"js\",\"url\":\"\\/assetserver\\/5ab20f1060420992a9b82a65b735dee4d81ef413-all.js\"},{\"name\":null,\"type\":\"css\",\"url\":\"\\/assetserver\\/1cc0ed62837210b80a182cc3676512f895dab686-style.css\"},{\"name\":null,\"type\":\"css\",\"url\":\"\\/assetserver\\/2eee816f616df3549d7044d45e744fbf8d42bfa1-bulma_confined.min.css\"}],\"type\":\"async_block\"},\"id\":\"2127810002939595321\",\"handlers\":{\"loading\":[\"(function (val){return (val!=this.model[\\\"loading\\\"]()) ? (this.valueFromJulia[\\\"loading\\\"]=true, this.model[\\\"loading\\\"](val)) : undefined})\"],\"clicks\":[\"(function (val){return (val!=this.model[\\\"clicks\\\"]()) ? (this.valueFromJulia[\\\"clicks\\\"]=true, this.model[\\\"clicks\\\"](val)) : undefined})\"]},\"systemjs_options\":null,\"mount_callbacks\":[\"function () {\\n    var handler = (function (ko, koPunches) {\\n    ko.punches.enableAll();\\n    ko.bindingHandlers.numericValue = {\\n        init: function(element, valueAccessor, allBindings, data, context) {\\n            var stringified = ko.observable(ko.unwrap(valueAccessor()));\\n            stringified.subscribe(function(value) {\\n                var val = parseFloat(value);\\n                if (!isNaN(val)) {\\n                    valueAccessor()(val);\\n                }\\n            });\\n            valueAccessor().subscribe(function(value) {\\n                var str = JSON.stringify(value);\\n                if ((str == \\\"0\\\") && ([\\\"-0\\\", \\\"-0.\\\"].indexOf(stringified()) >= 0))\\n                     return;\\n                 if ([\\\"null\\\", \\\"\\\"].indexOf(str) >= 0)\\n                     return;\\n                stringified(str);\\n            });\\n            ko.applyBindingsToNode(\\n                element,\\n                {\\n                    value: stringified,\\n                    valueUpdate: allBindings.get('valueUpdate'),\\n                },\\n                context,\\n            );\\n        }\\n    };\\n    var json_data = {\\\"loading\\\":WebIO.getval({\\\"name\\\":\\\"loading\\\",\\\"scope\\\":\\\"2127810002939595321\\\",\\\"id\\\":\\\"14714944425063834103\\\",\\\"type\\\":\\\"observable\\\"}),\\\"clicks\\\":WebIO.getval({\\\"name\\\":\\\"clicks\\\",\\\"scope\\\":\\\"2127810002939595321\\\",\\\"id\\\":\\\"714626887577067928\\\",\\\"type\\\":\\\"observable\\\"})};\\n    var self = this;\\n    function AppViewModel() {\\n        for (var key in json_data) {\\n            var el = json_data[key];\\n            this[key] = Array.isArray(el) ? ko.observableArray(el) : ko.observable(el);\\n        }\\n        \\n        \\n        [this[\\\"loading\\\"].subscribe((function (val){!(this.valueFromJulia[\\\"loading\\\"]) ? (WebIO.setval({\\\"name\\\":\\\"loading\\\",\\\"scope\\\":\\\"2127810002939595321\\\",\\\"id\\\":\\\"14714944425063834103\\\",\\\"type\\\":\\\"observable\\\"},val)) : undefined; return this.valueFromJulia[\\\"loading\\\"]=false}),self),this[\\\"clicks\\\"].subscribe((function (val){!(this.valueFromJulia[\\\"clicks\\\"]) ? (WebIO.setval({\\\"name\\\":\\\"clicks\\\",\\\"scope\\\":\\\"2127810002939595321\\\",\\\"id\\\":\\\"714626887577067928\\\",\\\"type\\\":\\\"observable\\\"},val)) : undefined; return this.valueFromJulia[\\\"clicks\\\"]=false}),self)]\\n        \\n    }\\n    self.model = new AppViewModel();\\n    self.valueFromJulia = {};\\n    for (var key in json_data) {\\n        self.valueFromJulia[key] = false;\\n    }\\n    ko.applyBindings(self.model, self.dom);\\n}\\n);\\n    (WebIO.importBlock({\\\"data\\\":[{\\\"name\\\":\\\"knockout\\\",\\\"type\\\":\\\"js\\\",\\\"url\\\":\\\"\\/assetserver\\/727383f2a47bd31570b7da84eee7b022dd6d7c78-knockout.js\\\"},{\\\"name\\\":\\\"knockout_punches\\\",\\\"type\\\":\\\"js\\\",\\\"url\\\":\\\"\\/assetserver\\/382b41b3b1bd9f26f75861d360bad7f8beea211f-knockout_punches.js\\\"}],\\\"type\\\":\\\"async_block\\\"})).then((imports) => handler.apply(this, imports));\\n}\\n\"],\"observables\":{\"loading\":{\"sync\":false,\"id\":\"14714944425063834103\",\"value\":false},\"clicks\":{\"sync\":true,\"id\":\"714626887577067928\",\"value\":0}}},\"children\":[{\"props\":{\"attributes\":{\"data-bind\":\"click: function (){this.clicks(this.clicks()+1)}, css: {'is-loading' : loading}\"},\"className\":\"is-medium button is-primary\",\"style\":{}},\"nodeType\":\"DOM\",\"type\":\"node\",\"instanceArgs\":{\"namespace\":\"html\",\"tag\":\"button\"},\"children\":[\"run\"]}]}]},{\"props\":{\"className\":\"interact-widget\"},\"nodeType\":\"DOM\",\"type\":\"node\",\"instanceArgs\":{\"namespace\":\"html\",\"tag\":\"div\"},\"children\":[{\"props\":{},\"nodeType\":\"Scope\",\"type\":\"node\",\"instanceArgs\":{\"imports\":{\"data\":[{\"name\":null,\"type\":\"js\",\"url\":\"\\/assetserver\\/dd22ed1bf1896c2748f3fe616ce0b838adc895c1-katex.min.js\"},{\"name\":null,\"type\":\"css\",\"url\":\"\\/assetserver\\/46517a424aa5e6cffc1360d7e0848b601c584ee3-katex.min.css\"}],\"type\":\"async_block\"},\"id\":\"7792945355892055185\",\"handlers\":{\"value\":[\"(function (txt){return this.k.render(txt,this.container)})\"]},\"systemjs_options\":null,\"mount_callbacks\":[\"function () {\\n    var handler = ((function (k){this.k=k; this.container=this.dom.querySelector(\\\"#container\\\"); return k.render(\\\"\\\\\\\\;\\\\\\\\;\\\",this.container)}));\\n    (WebIO.importBlock({\\\"data\\\":[{\\\"name\\\":null,\\\"type\\\":\\\"js\\\",\\\"url\\\":\\\"\\/assetserver\\/dd22ed1bf1896c2748f3fe616ce0b838adc895c1-katex.min.js\\\"},{\\\"name\\\":null,\\\"type\\\":\\\"css\\\",\\\"url\\\":\\\"\\/assetserver\\/46517a424aa5e6cffc1360d7e0848b601c584ee3-katex.min.css\\\"}],\\\"type\\\":\\\"async_block\\\"})).then((imports) => handler.apply(this, imports));\\n}\\n\"],\"observables\":{\"value\":{\"sync\":false,\"id\":\"6454891399792183469\",\"value\":\"\\\\;\\\\;\"}}},\"children\":[{\"props\":{\"id\":\"container\"},\"nodeType\":\"DOM\",\"type\":\"node\",\"instanceArgs\":{\"namespace\":\"html\",\"tag\":\"div\"},\"children\":[]}]}]},{\"props\":{\"className\":\"field interact-widget\"},\"nodeType\":\"DOM\",\"type\":\"node\",\"instanceArgs\":{\"namespace\":\"html\",\"tag\":\"div\"},\"children\":[{\"props\":{},\"nodeType\":\"Scope\",\"type\":\"node\",\"instanceArgs\":{\"imports\":{\"data\":[{\"name\":\"knockout\",\"type\":\"js\",\"url\":\"\\/assetserver\\/727383f2a47bd31570b7da84eee7b022dd6d7c78-knockout.js\"},{\"name\":\"knockout_punches\",\"type\":\"js\",\"url\":\"\\/assetserver\\/382b41b3b1bd9f26f75861d360bad7f8beea211f-knockout_punches.js\"},{\"name\":null,\"type\":\"js\",\"url\":\"\\/assetserver\\/5ab20f1060420992a9b82a65b735dee4d81ef413-all.js\"},{\"name\":null,\"type\":\"css\",\"url\":\"\\/assetserver\\/1cc0ed62837210b80a182cc3676512f895dab686-style.css\"},{\"name\":null,\"type\":\"css\",\"url\":\"\\/assetserver\\/2eee816f616df3549d7044d45e744fbf8d42bfa1-bulma_confined.min.css\"}],\"type\":\"async_block\"},\"id\":\"7537180072623523046\",\"handlers\":{\"loading\":[\"(function (val){return (val!=this.model[\\\"loading\\\"]()) ? (this.valueFromJulia[\\\"loading\\\"]=true, this.model[\\\"loading\\\"](val)) : undefined})\"],\"clicks\":[\"(function (val){return (val!=this.model[\\\"clicks\\\"]()) ? (this.valueFromJulia[\\\"clicks\\\"]=true, this.model[\\\"clicks\\\"](val)) : undefined})\"]},\"systemjs_options\":null,\"mount_callbacks\":[\"function () {\\n    var handler = (function (ko, koPunches) {\\n    ko.punches.enableAll();\\n    ko.bindingHandlers.numericValue = {\\n        init: function(element, valueAccessor, allBindings, data, context) {\\n            var stringified = ko.observable(ko.unwrap(valueAccessor()));\\n            stringified.subscribe(function(value) {\\n                var val = parseFloat(value);\\n                if (!isNaN(val)) {\\n                    valueAccessor()(val);\\n                }\\n            });\\n            valueAccessor().subscribe(function(value) {\\n                var str = JSON.stringify(value);\\n                if ((str == \\\"0\\\") && ([\\\"-0\\\", \\\"-0.\\\"].indexOf(stringified()) >= 0))\\n                     return;\\n                 if ([\\\"null\\\", \\\"\\\"].indexOf(str) >= 0)\\n                     return;\\n                stringified(str);\\n            });\\n            ko.applyBindingsToNode(\\n                element,\\n                {\\n                    value: stringified,\\n                    valueUpdate: allBindings.get('valueUpdate'),\\n                },\\n                context,\\n            );\\n        }\\n    };\\n    var json_data = {\\\"loading\\\":WebIO.getval({\\\"name\\\":\\\"loading\\\",\\\"scope\\\":\\\"7537180072623523046\\\",\\\"id\\\":\\\"4702395546183446821\\\",\\\"type\\\":\\\"observable\\\"}),\\\"clicks\\\":WebIO.getval({\\\"name\\\":\\\"clicks\\\",\\\"scope\\\":\\\"7537180072623523046\\\",\\\"id\\\":\\\"5127992342195234122\\\",\\\"type\\\":\\\"observable\\\"})};\\n    var self = this;\\n    function AppViewModel() {\\n        for (var key in json_data) {\\n            var el = json_data[key];\\n            this[key] = Array.isArray(el) ? ko.observableArray(el) : ko.observable(el);\\n        }\\n        \\n        \\n        [this[\\\"loading\\\"].subscribe((function (val){!(this.valueFromJulia[\\\"loading\\\"]) ? (WebIO.setval({\\\"name\\\":\\\"loading\\\",\\\"scope\\\":\\\"7537180072623523046\\\",\\\"id\\\":\\\"4702395546183446821\\\",\\\"type\\\":\\\"observable\\\"},val)) : undefined; return this.valueFromJulia[\\\"loading\\\"]=false}),self),this[\\\"clicks\\\"].subscribe((function (val){!(this.valueFromJulia[\\\"clicks\\\"]) ? (WebIO.setval({\\\"name\\\":\\\"clicks\\\",\\\"scope\\\":\\\"7537180072623523046\\\",\\\"id\\\":\\\"5127992342195234122\\\",\\\"type\\\":\\\"observable\\\"},val)) : undefined; return this.valueFromJulia[\\\"clicks\\\"]=false}),self)]\\n        \\n    }\\n    self.model = new AppViewModel();\\n    self.valueFromJulia = {};\\n    for (var key in json_data) {\\n        self.valueFromJulia[key] = false;\\n    }\\n    ko.applyBindings(self.model, self.dom);\\n}\\n);\\n    (WebIO.importBlock({\\\"data\\\":[{\\\"name\\\":\\\"knockout\\\",\\\"type\\\":\\\"js\\\",\\\"url\\\":\\\"\\/assetserver\\/727383f2a47bd31570b7da84eee7b022dd6d7c78-knockout.js\\\"},{\\\"name\\\":\\\"knockout_punches\\\",\\\"type\\\":\\\"js\\\",\\\"url\\\":\\\"\\/assetserver\\/382b41b3b1bd9f26f75861d360bad7f8beea211f-knockout_punches.js\\\"}],\\\"type\\\":\\\"async_block\\\"})).then((imports) => handler.apply(this, imports));\\n}\\n\"],\"observables\":{\"loading\":{\"sync\":false,\"id\":\"4702395546183446821\",\"value\":false},\"clicks\":{\"sync\":true,\"id\":\"5127992342195234122\",\"value\":0}}},\"children\":[{\"props\":{\"attributes\":{\"data-bind\":\"click: function (){this.clicks(this.clicks()+1)}, css: {'is-loading' : loading}\"},\"className\":\"is-medium button is-primary\",\"style\":{}},\"nodeType\":\"DOM\",\"type\":\"node\",\"instanceArgs\":{\"namespace\":\"html\",\"tag\":\"button\"},\"children\":[\"stop\"]}]}]},{\"props\":{\"className\":\"interact-widget\"},\"nodeType\":\"DOM\",\"type\":\"node\",\"instanceArgs\":{\"namespace\":\"html\",\"tag\":\"div\"},\"children\":[{\"props\":{},\"nodeType\":\"Scope\",\"type\":\"node\",\"instanceArgs\":{\"imports\":{\"data\":[{\"name\":null,\"type\":\"js\",\"url\":\"\\/assetserver\\/dd22ed1bf1896c2748f3fe616ce0b838adc895c1-katex.min.js\"},{\"name\":null,\"type\":\"css\",\"url\":\"\\/assetserver\\/46517a424aa5e6cffc1360d7e0848b601c584ee3-katex.min.css\"}],\"type\":\"async_block\"},\"id\":\"7792945355892055185\",\"handlers\":{\"value\":[\"(function (txt){return this.k.render(txt,this.container)})\"]},\"systemjs_options\":null,\"mount_callbacks\":[\"function () {\\n    var handler = ((function (k){this.k=k; this.container=this.dom.querySelector(\\\"#container\\\"); return k.render(\\\"\\\\\\\\;\\\\\\\\;\\\",this.container)}));\\n    (WebIO.importBlock({\\\"data\\\":[{\\\"name\\\":null,\\\"type\\\":\\\"js\\\",\\\"url\\\":\\\"\\/assetserver\\/dd22ed1bf1896c2748f3fe616ce0b838adc895c1-katex.min.js\\\"},{\\\"name\\\":null,\\\"type\\\":\\\"css\\\",\\\"url\\\":\\\"\\/assetserver\\/46517a424aa5e6cffc1360d7e0848b601c584ee3-katex.min.css\\\"}],\\\"type\\\":\\\"async_block\\\"})).then((imports) => handler.apply(this, imports));\\n}\\n\"],\"observables\":{\"value\":{\"sync\":false,\"id\":\"6454891399792183469\",\"value\":\"\\\\;\\\\;\"}}},\"children\":[{\"props\":{\"id\":\"container\"},\"nodeType\":\"DOM\",\"type\":\"node\",\"instanceArgs\":{\"namespace\":\"html\",\"tag\":\"div\"},\"children\":[]}]}]},{\"props\":{\"className\":\"field interact-widget\"},\"nodeType\":\"DOM\",\"type\":\"node\",\"instanceArgs\":{\"namespace\":\"html\",\"tag\":\"div\"},\"children\":[{\"props\":{},\"nodeType\":\"Scope\",\"type\":\"node\",\"instanceArgs\":{\"imports\":{\"data\":[{\"name\":\"knockout\",\"type\":\"js\",\"url\":\"\\/assetserver\\/727383f2a47bd31570b7da84eee7b022dd6d7c78-knockout.js\"},{\"name\":\"knockout_punches\",\"type\":\"js\",\"url\":\"\\/assetserver\\/382b41b3b1bd9f26f75861d360bad7f8beea211f-knockout_punches.js\"},{\"name\":null,\"type\":\"js\",\"url\":\"\\/assetserver\\/5ab20f1060420992a9b82a65b735dee4d81ef413-all.js\"},{\"name\":null,\"type\":\"css\",\"url\":\"\\/assetserver\\/1cc0ed62837210b80a182cc3676512f895dab686-style.css\"},{\"name\":null,\"type\":\"css\",\"url\":\"\\/assetserver\\/2eee816f616df3549d7044d45e744fbf8d42bfa1-bulma_confined.min.css\"}],\"type\":\"async_block\"},\"id\":\"4110232458040132665\",\"handlers\":{\"loading\":[\"(function (val){return (val!=this.model[\\\"loading\\\"]()) ? (this.valueFromJulia[\\\"loading\\\"]=true, this.model[\\\"loading\\\"](val)) : undefined})\"],\"clicks\":[\"(function (val){return (val!=this.model[\\\"clicks\\\"]()) ? (this.valueFromJulia[\\\"clicks\\\"]=true, this.model[\\\"clicks\\\"](val)) : undefined})\"]},\"systemjs_options\":null,\"mount_callbacks\":[\"function () {\\n    var handler = (function (ko, koPunches) {\\n    ko.punches.enableAll();\\n    ko.bindingHandlers.numericValue = {\\n        init: function(element, valueAccessor, allBindings, data, context) {\\n            var stringified = ko.observable(ko.unwrap(valueAccessor()));\\n            stringified.subscribe(function(value) {\\n                var val = parseFloat(value);\\n                if (!isNaN(val)) {\\n                    valueAccessor()(val);\\n                }\\n            });\\n            valueAccessor().subscribe(function(value) {\\n                var str = JSON.stringify(value);\\n                if ((str == \\\"0\\\") && ([\\\"-0\\\", \\\"-0.\\\"].indexOf(stringified()) >= 0))\\n                     return;\\n                 if ([\\\"null\\\", \\\"\\\"].indexOf(str) >= 0)\\n                     return;\\n                stringified(str);\\n            });\\n            ko.applyBindingsToNode(\\n                element,\\n                {\\n                    value: stringified,\\n                    valueUpdate: allBindings.get('valueUpdate'),\\n                },\\n                context,\\n            );\\n        }\\n    };\\n    var json_data = {\\\"loading\\\":WebIO.getval({\\\"name\\\":\\\"loading\\\",\\\"scope\\\":\\\"4110232458040132665\\\",\\\"id\\\":\\\"9557390605193288301\\\",\\\"type\\\":\\\"observable\\\"}),\\\"clicks\\\":WebIO.getval({\\\"name\\\":\\\"clicks\\\",\\\"scope\\\":\\\"4110232458040132665\\\",\\\"id\\\":\\\"14088177091642773521\\\",\\\"type\\\":\\\"observable\\\"})};\\n    var self = this;\\n    function AppViewModel() {\\n        for (var key in json_data) {\\n            var el = json_data[key];\\n            this[key] = Array.isArray(el) ? ko.observableArray(el) : ko.observable(el);\\n        }\\n        \\n        \\n        [this[\\\"loading\\\"].subscribe((function (val){!(this.valueFromJulia[\\\"loading\\\"]) ? (WebIO.setval({\\\"name\\\":\\\"loading\\\",\\\"scope\\\":\\\"4110232458040132665\\\",\\\"id\\\":\\\"9557390605193288301\\\",\\\"type\\\":\\\"observable\\\"},val)) : undefined; return this.valueFromJulia[\\\"loading\\\"]=false}),self),this[\\\"clicks\\\"].subscribe((function (val){!(this.valueFromJulia[\\\"clicks\\\"]) ? (WebIO.setval({\\\"name\\\":\\\"clicks\\\",\\\"scope\\\":\\\"4110232458040132665\\\",\\\"id\\\":\\\"14088177091642773521\\\",\\\"type\\\":\\\"observable\\\"},val)) : undefined; return this.valueFromJulia[\\\"clicks\\\"]=false}),self)]\\n        \\n    }\\n    self.model = new AppViewModel();\\n    self.valueFromJulia = {};\\n    for (var key in json_data) {\\n        self.valueFromJulia[key] = false;\\n    }\\n    ko.applyBindings(self.model, self.dom);\\n}\\n);\\n    (WebIO.importBlock({\\\"data\\\":[{\\\"name\\\":\\\"knockout\\\",\\\"type\\\":\\\"js\\\",\\\"url\\\":\\\"\\/assetserver\\/727383f2a47bd31570b7da84eee7b022dd6d7c78-knockout.js\\\"},{\\\"name\\\":\\\"knockout_punches\\\",\\\"type\\\":\\\"js\\\",\\\"url\\\":\\\"\\/assetserver\\/382b41b3b1bd9f26f75861d360bad7f8beea211f-knockout_punches.js\\\"}],\\\"type\\\":\\\"async_block\\\"})).then((imports) => handler.apply(this, imports));\\n}\\n\"],\"observables\":{\"loading\":{\"sync\":false,\"id\":\"9557390605193288301\",\"value\":false},\"clicks\":{\"sync\":true,\"id\":\"14088177091642773521\",\"value\":0}}},\"children\":[{\"props\":{\"attributes\":{\"data-bind\":\"click: function (){this.clicks(this.clicks()+1)}, css: {'is-loading' : loading}\"},\"className\":\"is-medium button is-primary\",\"style\":{}},\"nodeType\":\"DOM\",\"type\":\"node\",\"instanceArgs\":{\"namespace\":\"html\",\"tag\":\"button\"},\"children\":[\"save\"]}]}]}]}]},{\"props\":{\"className\":\"interact-widget\"},\"nodeType\":\"DOM\",\"type\":\"node\",\"instanceArgs\":{\"namespace\":\"html\",\"tag\":\"div\"},\"children\":[{\"props\":{},\"nodeType\":\"Scope\",\"type\":\"node\",\"instanceArgs\":{\"imports\":{\"data\":[{\"name\":null,\"type\":\"js\",\"url\":\"\\/assetserver\\/dd22ed1bf1896c2748f3fe616ce0b838adc895c1-katex.min.js\"},{\"name\":null,\"type\":\"css\",\"url\":\"\\/assetserver\\/46517a424aa5e6cffc1360d7e0848b601c584ee3-katex.min.css\"}],\"type\":\"async_block\"},\"id\":\"7792945355892055185\",\"handlers\":{\"value\":[\"(function (txt){return this.k.render(txt,this.container)})\"]},\"systemjs_options\":null,\"mount_callbacks\":[\"function () {\\n    var handler = ((function (k){this.k=k; this.container=this.dom.querySelector(\\\"#container\\\"); return k.render(\\\"\\\\\\\\;\\\\\\\\;\\\",this.container)}));\\n    (WebIO.importBlock({\\\"data\\\":[{\\\"name\\\":null,\\\"type\\\":\\\"js\\\",\\\"url\\\":\\\"\\/assetserver\\/dd22ed1bf1896c2748f3fe616ce0b838adc895c1-katex.min.js\\\"},{\\\"name\\\":null,\\\"type\\\":\\\"css\\\",\\\"url\\\":\\\"\\/assetserver\\/46517a424aa5e6cffc1360d7e0848b601c584ee3-katex.min.css\\\"}],\\\"type\\\":\\\"async_block\\\"})).then((imports) => handler.apply(this, imports));\\n}\\n\"],\"observables\":{\"value\":{\"sync\":false,\"id\":\"6454891399792183469\",\"value\":\"\\\\;\\\\;\"}}},\"children\":[{\"props\":{\"id\":\"container\"},\"nodeType\":\"DOM\",\"type\":\"node\",\"instanceArgs\":{\"namespace\":\"html\",\"tag\":\"div\"},\"children\":[]}]}]},{\"props\":{},\"nodeType\":\"Scope\",\"type\":\"node\",\"instanceArgs\":{\"imports\":{\"data\":[],\"type\":\"async_block\"},\"id\":\"18418402270961246060\",\"handlers\":{\"obs-output\":[\"function (value, scope) {\\n    scope.setInnerHTML(value);\\n}\\n\"]},\"systemjs_options\":null,\"mount_callbacks\":[],\"observables\":{\"obs-output\":{\"sync\":false,\"id\":\"17559204333564573550\",\"value\":\"<img src='data:image\\/png;base64,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'><\\/img>\"}}},\"children\":[{\"props\":{\"className\":\"webio-observable\",\"setInnerHtml\":\"<img src='data:image\\/png;base64,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'><\\/img>\"},\"nodeType\":\"DOM\",\"type\":\"node\",\"instanceArgs\":{\"namespace\":\"html\",\"tag\":\"div\"},\"children\":[]}]},{\"props\":{\"className\":\"interact-widget\"},\"nodeType\":\"DOM\",\"type\":\"node\",\"instanceArgs\":{\"namespace\":\"html\",\"tag\":\"div\"},\"children\":[{\"props\":{},\"nodeType\":\"Scope\",\"type\":\"node\",\"instanceArgs\":{\"imports\":{\"data\":[{\"name\":null,\"type\":\"js\",\"url\":\"\\/assetserver\\/dd22ed1bf1896c2748f3fe616ce0b838adc895c1-katex.min.js\"},{\"name\":null,\"type\":\"css\",\"url\":\"\\/assetserver\\/46517a424aa5e6cffc1360d7e0848b601c584ee3-katex.min.css\"}],\"type\":\"async_block\"},\"id\":\"7792945355892055185\",\"handlers\":{\"value\":[\"(function (txt){return this.k.render(txt,this.container)})\"]},\"systemjs_options\":null,\"mount_callbacks\":[\"function () {\\n    var handler = ((function (k){this.k=k; this.container=this.dom.querySelector(\\\"#container\\\"); return k.render(\\\"\\\\\\\\;\\\\\\\\;\\\",this.container)}));\\n    (WebIO.importBlock({\\\"data\\\":[{\\\"name\\\":null,\\\"type\\\":\\\"js\\\",\\\"url\\\":\\\"\\/assetserver\\/dd22ed1bf1896c2748f3fe616ce0b838adc895c1-katex.min.js\\\"},{\\\"name\\\":null,\\\"type\\\":\\\"css\\\",\\\"url\\\":\\\"\\/assetserver\\/46517a424aa5e6cffc1360d7e0848b601c584ee3-katex.min.css\\\"}],\\\"type\\\":\\\"async_block\\\"})).then((imports) => handler.apply(this, imports));\\n}\\n\"],\"observables\":{\"value\":{\"sync\":false,\"id\":\"6454891399792183469\",\"value\":\"\\\\;\\\\;\"}}},\"children\":[{\"props\":{\"id\":\"container\"},\"nodeType\":\"DOM\",\"type\":\"node\",\"instanceArgs\":{\"namespace\":\"html\",\"tag\":\"div\"},\"children\":[]}]}]},{\"props\":{\"style\":{\"display\":\"flex\",\"flex-direction\":\"column\"}},\"nodeType\":\"DOM\",\"type\":\"node\",\"instanceArgs\":{\"namespace\":\"html\",\"tag\":\"div\"},\"children\":[]}]}]},\n",
       "        window,\n",
       "    );\n",
       "    })()\n",
       "    </script>\n",
       "</div>\n"
      ],
      "text/plain": [
       "WebIO.Node{WebIO.DOM}(WebIO.DOM(:html, :div), Any[WebIO.Node{WebIO.DOM}(WebIO.DOM(:html, :div), Any[WebIO.Node{WebIO.DOM}(WebIO.DOM(:html, :div), Any[WebIO.Node{WebIO.DOM}(WebIO.DOM(:html, :div), Any[WebIO.Scope(WebIO.Node{WebIO.DOM}(WebIO.DOM(:html, :div), Any[WebIO.Node{WebIO.DOM}(WebIO.DOM(:html, :div), Any[WebIO.Node{WebIO.DOM}(WebIO.DOM(:html, :label), Any[\"time\"], Dict{Symbol, Any}(:className => \"interact \", :style => Dict{Any, Any}(:padding => \"5px 10px 0px 10px\")))], Dict{Symbol, Any}(:className => \"interact-flex-row-left\")), WebIO.Node{WebIO.DOM}(WebIO.DOM(:html, :div), Any[WebIO.Node{WebIO.DOM}(WebIO.DOM(:html, :input), Any[], Dict{Symbol, Any}(:max => 51, :min => 1, :attributes => Dict{Any, Any}(:type => \"range\", Symbol(\"data-bind\") => \"numericValue: index, valueUpdate: 'input', event: {change: function (){this.changes(this.changes()+1)}}\", \"orient\" => \"horizontal\"), :step => 1, :className => \"slider slider is-fullwidth\", :style => Dict{Any, Any}()))], Dict{Symbol, Any}(:className => \"interact-flex-row-center\")), WebIO.Node{WebIO.DOM}(WebIO.DOM(:html, :div), Any[WebIO.Node{WebIO.DOM}(WebIO.DOM(:html, :p), Any[], Dict{Symbol, Any}(:attributes => Dict(\"data-bind\" => \"text: formatted_val\")))], Dict{Symbol, Any}(:className => \"interact-flex-row-right\"))], Dict{Symbol, Any}(:className => \"interact-flex-row interact-widget\")), Dict{String, Tuple{Observables.AbstractObservable, Union{Nothing, Bool}}}(\"changes\" => (Observable(0), nothing), \"index\" => (Observable(26), nothing)), Set{String}(), nothing, WebIO.Asset[WebIO.Asset(\"js\", \"knockout\", \"/home/dushya/.julia/packages/Knockout/HReiN/src/../assets/knockout.js\"), WebIO.Asset(\"js\", \"knockout_punches\", \"/home/dushya/.julia/packages/Knockout/HReiN/src/../assets/knockout_punches.js\"), WebIO.Asset(\"js\", nothing, \"/home/dushya/.julia/packages/InteractBase/LJXv3/src/../assets/all.js\"), WebIO.Asset(\"css\", nothing, \"/home/dushya/.julia/packages/InteractBase/LJXv3/src/../assets/style.css\"), WebIO.Asset(\"css\", nothing, \"/home/dushya/.julia/packages/Interact/PENUy/src/../assets/bulma_confined.min.css\")], Dict{Any, Any}(\"changes\" => Any[WebIO.JSString(\"(function (val){return (val!=this.model[\\\"changes\\\"]()) ? (this.valueFromJulia[\\\"changes\\\"]=true, this.model[\\\"changes\\\"](val)) : undefined})\")], \"index\" => Any[WebIO.JSString(\"(function (val){return (val!=this.model[\\\"index\\\"]()) ? (this.valueFromJulia[\\\"index\\\"]=true, this.model[\\\"index\\\"](val)) : undefined})\")]), WebIO.ConnectionPool(Channel{Any}(32), Set{WebIO.AbstractConnection}(), Base.GenericCondition{ReentrantLock}(Base.IntrusiveLinkedList{Task}(Task (runnable) @0x00007f4cd60ce270, Task (runnable) @0x00007f4cd60ce270), ReentrantLock(nothing, 0x00000000, 0x00, Base.GenericCondition{Base.Threads.SpinLock}(Base.IntrusiveLinkedList{Task}(nothing, nothing), Base.Threads.SpinLock(0)), (8, 482922754160, 3)))), WebIO.JSString[WebIO.JSString(\"function () {\\n    var handler = (function (ko, koPunches) {\\n    ko.punches.enableAll();\\n    ko.bindingHandlers.numericValue = {\\n        init: function(element, valueAccessor, allBindings, data, context) {\\n            var stringified = ko.observable(ko.unwrap(valueAccessor()));\\n            stringified.subscribe(function(value) {\\n                var val = parseFloat(value);\\n                if (!isNaN(val)) {\\n                    valueAccessor()(val);\\n                }\\n            });\\n            valueAccessor().subscribe(function(value) {\\n                var str = JSON.stringify(value);\\n                if ((str == \\\"0\\\") && ([\\\"-0\\\", \\\"-0.\\\"].indexOf(stringified()) >= 0))\\n                     return;\\n                 if ([\\\"null\\\", \\\"\\\"].indexOf(str) >= 0)\\n                     return;\\n                stringified(str);\\n            });\\n            ko.applyBindingsToNode(\\n                element,\\n                {\\n                    value: stringified,\\n                    valueUpdate: allBindings.get('valueUpdate'),\\n                },\\n                context,\\n            );\\n        }\\n    };\\n    var json_data = {\\\"formatted_vals\\\":[\\\"1\\\",\\\"2\\\",\\\"3\\\",\\\"4\\\",\\\"5\\\",\\\"6\\\",\\\"7\\\",\\\"8\\\",\\\"9\\\",\\\"10\\\",\\\"11\\\",\\\"12\\\",\\\"13\\\",\\\"14\\\",\\\"15\\\",\\\"16\\\",\\\"17\\\",\\\"18\\\",\\\"19\\\",\\\"20\\\",\\\"21\\\",\\\"22\\\",\\\"23\\\",\\\"24\\\",\\\"25\\\",\\\"26\\\",\\\"27\\\",\\\"28\\\",\\\"29\\\",\\\"30\\\",\\\"31\\\",\\\"32\\\",\\\"33\\\",\\\"34\\\",\\\"35\\\",\\\"36\\\",\\\"37\\\",\\\"38\\\",\\\"39\\\",\\\"40\\\",\\\"41\\\",\\\"42\\\",\\\"43\\\",\\\"44\\\",\\\"45\\\",\\\"46\\\",\\\"47\\\",\\\"48\\\",\\\"49\\\",\\\"50\\\",\\\"51\\\"],\\\"changes\\\":WebIO.getval({\\\"name\\\":\\\"changes\\\",\\\"scope\\\":\\\"10992993969153321285\\\",\\\"id\\\":\\\"16432506797098304269\\\",\\\"type\\\":\\\"observable\\\"}),\\\"index\\\":WebIO.getval({\\\"name\\\":\\\"index\\\",\\\"scope\\\":\\\"10992993969153321285\\\",\\\"id\\\":\\\"13606241154055713592\\\",\\\"type\\\":\\\"observable\\\"})};\\n    var self = this;\\n    function AppViewModel() {\\n        for (var key in json_data) {\\n            var el = json_data[key];\\n            this[key] = Array.isArray(el) ? ko.observableArray(el) : ko.observable(el);\\n        }\\n        \\n        [this[\\\"formatted_val\\\"]=ko.computed(    function(){\\n        return this.formatted_vals()[parseInt(this.index())-(1)];\\n    }\\n,this)]\\n        [this[\\\"changes\\\"].subscribe((function (val){!(this.valueFromJulia[\\\"changes\\\"]) ? (WebIO.setval({\\\"name\\\":\\\"changes\\\",\\\"scope\\\":\\\"10992993969153321285\\\",\\\"id\\\":\\\"16432506797098304269\\\",\\\"type\\\":\\\"observable\\\"},val)) : undefined; return this.valueFromJulia[\\\"changes\\\"]=false}),self),this[\\\"index\\\"].subscribe((function (val){!(this.valueFromJulia[\\\"index\\\"]) ? (WebIO.setval({\\\"name\\\":\\\"index\\\",\\\"scope\\\":\\\"10992993969153321285\\\",\\\"id\\\":\\\"13606241154055713592\\\",\\\"type\\\":\\\"observable\\\"},val)) : undefined; return this.valueFromJulia[\\\"index\\\"]=false}),self)]\\n        \\n    }\\n    self.model = new AppViewModel();\\n    self.valueFromJulia = {};\\n    for (var key in json_data) {\\n        self.valueFromJulia[key] = false;\\n    }\\n    ko.applyBindings(self.model, self.dom);\\n}\\n);\\n    (WebIO.importBlock({\\\"data\\\":[{\\\"name\\\":\\\"knockout\\\",\\\"type\\\":\\\"js\\\",\\\"url\\\":\\\"/assetserver/727383f2a47bd31570b7da84eee7b022dd6d7c78-knockout.js\\\"},{\\\"name\\\":\\\"knockout_punches\\\",\\\"type\\\":\\\"js\\\",\\\"url\\\":\\\"/assetserver/382b41b3b1bd9f26f75861d360bad7f8beea211f-knockout_punches.js\\\"}],\\\"type\\\":\\\"async_block\\\"})).then((imports) => handler.apply(this, imports));\\n}\\n\")])], Dict{Symbol, Any}(:className => \"field interact-widget\")), WebIO.Node{WebIO.DOM}(WebIO.DOM(:html, :div), Any[WebIO.Scope(WebIO.Node{WebIO.DOM}(WebIO.DOM(:html, :div), Any[WebIO.Node{WebIO.DOM}(WebIO.DOM(:html, :div), Any[WebIO.Node{WebIO.DOM}(WebIO.DOM(:html, :label), Any[\"scale\"], Dict{Symbol, Any}(:className => \"interact \", :style => Dict{Any, Any}(:padding => \"5px 10px 0px 10px\")))], Dict{Symbol, Any}(:className => \"interact-flex-row-left\")), WebIO.Node{WebIO.DOM}(WebIO.DOM(:html, :div), Any[WebIO.Node{WebIO.DOM}(WebIO.DOM(:html, :input), Any[], Dict{Symbol, Any}(:max => 20, :min => 1, :attributes => Dict{Any, Any}(:type => \"range\", Symbol(\"data-bind\") => \"numericValue: index, valueUpdate: 'input', event: {change: function (){this.changes(this.changes()+1)}}\", \"orient\" => \"horizontal\"), :step => 1, :className => \"slider slider is-fullwidth\", :style => Dict{Any, Any}()))], Dict{Symbol, Any}(:className => \"interact-flex-row-center\")), WebIO.Node{WebIO.DOM}(WebIO.DOM(:html, :div), Any[WebIO.Node{WebIO.DOM}(WebIO.DOM(:html, :p), Any[], Dict{Symbol, Any}(:attributes => Dict(\"data-bind\" => \"text: formatted_val\")))], Dict{Symbol, Any}(:className => \"interact-flex-row-right\"))], Dict{Symbol, Any}(:className => \"interact-flex-row interact-widget\")), Dict{String, Tuple{Observables.AbstractObservable, Union{Nothing, Bool}}}(\"changes\" => (Observable(0), nothing), \"index\" => (Observable{Any}(10), nothing)), Set{String}(), nothing, WebIO.Asset[WebIO.Asset(\"js\", \"knockout\", \"/home/dushya/.julia/packages/Knockout/HReiN/src/../assets/knockout.js\"), WebIO.Asset(\"js\", \"knockout_punches\", \"/home/dushya/.julia/packages/Knockout/HReiN/src/../assets/knockout_punches.js\"), WebIO.Asset(\"js\", nothing, \"/home/dushya/.julia/packages/InteractBase/LJXv3/src/../assets/all.js\"), WebIO.Asset(\"css\", nothing, \"/home/dushya/.julia/packages/InteractBase/LJXv3/src/../assets/style.css\"), WebIO.Asset(\"css\", nothing, \"/home/dushya/.julia/packages/Interact/PENUy/src/../assets/bulma_confined.min.css\")], Dict{Any, Any}(\"changes\" => Any[WebIO.JSString(\"(function (val){return (val!=this.model[\\\"changes\\\"]()) ? (this.valueFromJulia[\\\"changes\\\"]=true, this.model[\\\"changes\\\"](val)) : undefined})\")], \"index\" => Any[WebIO.JSString(\"(function (val){return (val!=this.model[\\\"index\\\"]()) ? (this.valueFromJulia[\\\"index\\\"]=true, this.model[\\\"index\\\"](val)) : undefined})\")]), WebIO.ConnectionPool(Channel{Any}(32), Set{WebIO.AbstractConnection}(), Base.GenericCondition{ReentrantLock}(Base.IntrusiveLinkedList{Task}(Task (runnable) @0x00007f4cd62fcc90, Task (runnable) @0x00007f4cd62fcc90), ReentrantLock(nothing, 0x00000000, 0x00, Base.GenericCondition{Base.Threads.SpinLock}(Base.IntrusiveLinkedList{Task}(nothing, nothing), Base.Threads.SpinLock(0)), (139967688387296, 139968763958064, 139779710648421)))), WebIO.JSString[WebIO.JSString(\"function () {\\n    var handler = (function (ko, koPunches) {\\n    ko.punches.enableAll();\\n    ko.bindingHandlers.numericValue = {\\n        init: function(element, valueAccessor, allBindings, data, context) {\\n            var stringified = ko.observable(ko.unwrap(valueAccessor()));\\n            stringified.subscribe(function(value) {\\n                var val = parseFloat(value);\\n                if (!isNaN(val)) {\\n                    valueAccessor()(val);\\n                }\\n            });\\n            valueAccessor().subscribe(function(value) {\\n                var str = JSON.stringify(value);\\n                if ((str == \\\"0\\\") && ([\\\"-0\\\", \\\"-0.\\\"].indexOf(stringified()) >= 0))\\n                     return;\\n                 if ([\\\"null\\\", \\\"\\\"].indexOf(str) >= 0)\\n                     return;\\n                stringified(str);\\n            });\\n            ko.applyBindingsToNode(\\n                element,\\n                {\\n                    value: stringified,\\n                    valueUpdate: allBindings.get('valueUpdate'),\\n                },\\n                context,\\n            );\\n        }\\n    };\\n    var json_data = {\\\"formatted_vals\\\":[\\\"0.1\\\",\\\"0.2\\\",\\\"0.3\\\",\\\"0.4\\\",\\\"0.5\\\",\\\"0.6\\\",\\\"0.7\\\",\\\"0.8\\\",\\\"0.9\\\",\\\"1.0\\\",\\\"1.1\\\",\\\"1.2\\\",\\\"1.3\\\",\\\"1.4\\\",\\\"1.5\\\",\\\"1.6\\\",\\\"1.7\\\",\\\"1.8\\\",\\\"1.9\\\",\\\"2.0\\\"],\\\"changes\\\":WebIO.getval({\\\"name\\\":\\\"changes\\\",\\\"scope\\\":\\\"11777942319227336264\\\",\\\"id\\\":\\\"7218851930481723029\\\",\\\"type\\\":\\\"observable\\\"}),\\\"index\\\":WebIO.getval({\\\"name\\\":\\\"index\\\",\\\"scope\\\":\\\"11777942319227336264\\\",\\\"id\\\":\\\"3821553125843947703\\\",\\\"type\\\":\\\"observable\\\"})};\\n    var self = this;\\n    function AppViewModel() {\\n        for (var key in json_data) {\\n            var el = json_data[key];\\n            this[key] = Array.isArray(el) ? ko.observableArray(el) : ko.observable(el);\\n        }\\n        \\n        [this[\\\"formatted_val\\\"]=ko.computed(    function(){\\n        return this.formatted_vals()[parseInt(this.index())-(1)];\\n    }\\n,this)]\\n        [this[\\\"changes\\\"].subscribe((function (val){!(this.valueFromJulia[\\\"changes\\\"]) ? (WebIO.setval({\\\"name\\\":\\\"changes\\\",\\\"scope\\\":\\\"11777942319227336264\\\",\\\"id\\\":\\\"7218851930481723029\\\",\\\"type\\\":\\\"observable\\\"},val)) : undefined; return this.valueFromJulia[\\\"changes\\\"]=false}),self),this[\\\"index\\\"].subscribe((function (val){!(this.valueFromJulia[\\\"index\\\"]) ? (WebIO.setval({\\\"name\\\":\\\"index\\\",\\\"scope\\\":\\\"11777942319227336264\\\",\\\"id\\\":\\\"3821553125843947703\\\",\\\"type\\\":\\\"observable\\\"},val)) : undefined; return this.valueFromJulia[\\\"index\\\"]=false}),self)]\\n        \\n    }\\n    self.model = new AppViewModel();\\n    self.valueFromJulia = {};\\n    for (var key in json_data) {\\n        self.valueFromJulia[key] = false;\\n    }\\n    ko.applyBindings(self.model, self.dom);\\n}\\n);\\n    (WebIO.importBlock({\\\"data\\\":[{\\\"name\\\":\\\"knockout\\\",\\\"type\\\":\\\"js\\\",\\\"url\\\":\\\"/assetserver/727383f2a47bd31570b7da84eee7b022dd6d7c78-knockout.js\\\"},{\\\"name\\\":\\\"knockout_punches\\\",\\\"type\\\":\\\"js\\\",\\\"url\\\":\\\"/assetserver/382b41b3b1bd9f26f75861d360bad7f8beea211f-knockout_punches.js\\\"}],\\\"type\\\":\\\"async_block\\\"})).then((imports) => handler.apply(this, imports));\\n}\\n\")])], Dict{Symbol, Any}(:className => \"field interact-widget\")), WebIO.Node{WebIO.DOM}(WebIO.DOM(:html, :div), Any[WebIO.Node{WebIO.DOM}(WebIO.DOM(:html, :div), Any[WebIO.Scope(WebIO.Node{WebIO.DOM}(WebIO.DOM(:html, :div), Any[], Dict{Symbol, Any}(:id => \"container\")), Dict{String, Tuple{Observables.AbstractObservable, Union{Nothing, Bool}}}(\"value\" => (Observable(\"\\\\;\\\\;\"), nothing)), Set{String}(), nothing, WebIO.Asset[WebIO.Asset(\"js\", nothing, \"/home/dushya/.julia/packages/InteractBase/LJXv3/src/../assets/katex.min.js\"), WebIO.Asset(\"css\", nothing, \"/home/dushya/.julia/packages/InteractBase/LJXv3/src/../assets/katex.min.css\")], Dict{Any, Any}(\"value\" => Any[WebIO.JSString(\"(function (txt){return this.k.render(txt,this.container)})\")]), WebIO.ConnectionPool(Channel{Any}(32), Set{WebIO.AbstractConnection}(), Base.GenericCondition{ReentrantLock}(Base.IntrusiveLinkedList{Task}(Task (runnable) @0x00007f4d0410e270, Task (runnable) @0x00007f4d0410e270), ReentrantLock(nothing, 0x00000000, 0x00, Base.GenericCondition{Base.Threads.SpinLock}(Base.IntrusiveLinkedList{Task}(nothing, nothing), Base.Threads.SpinLock(0)), (89, 139967978765648, 4294967297)))), WebIO.JSString[WebIO.JSString(\"function () {\\n    var handler = ((function (k){this.k=k; this.container=this.dom.querySelector(\\\"#container\\\"); return k.render(\\\"\\\\\\\\;\\\\\\\\;\\\",this.container)}));\\n    (WebIO.importBlock({\\\"data\\\":[{\\\"name\\\":null,\\\"type\\\":\\\"js\\\",\\\"url\\\":\\\"/assetserver/dd22ed1bf1896c2748f3fe616ce0b838adc895c1-katex.min.js\\\"},{\\\"name\\\":null,\\\"type\\\":\\\"css\\\",\\\"url\\\":\\\"/assetserver/46517a424aa5e6cffc1360d7e0848b601c584ee3-katex.min.css\\\"}],\\\"type\\\":\\\"async_block\\\"})).then((imports) => handler.apply(this, imports));\\n}\\n\")])], Dict{Symbol, Any}(:className => \"interact-widget\")), WebIO.Node{WebIO.DOM}(WebIO.DOM(:html, :div), Any[WebIO.Scope(WebIO.Node{WebIO.DOM}(WebIO.DOM(:html, :button), Any[\"run\"], Dict{Symbol, Any}(:attributes => Dict{Any, Any}(\"data-bind\" => \"click: function (){this.clicks(this.clicks()+1)}, css: {'is-loading' : loading}\"), :className => \"is-medium button is-primary\", :style => Dict{String, Any}())), Dict{String, Tuple{Observables.AbstractObservable, Union{Nothing, Bool}}}(\"loading\" => (Observable(false), nothing), \"clicks\" => (Observable(0), nothing)), Set{String}(), nothing, WebIO.Asset[WebIO.Asset(\"js\", \"knockout\", \"/home/dushya/.julia/packages/Knockout/HReiN/src/../assets/knockout.js\"), WebIO.Asset(\"js\", \"knockout_punches\", \"/home/dushya/.julia/packages/Knockout/HReiN/src/../assets/knockout_punches.js\"), WebIO.Asset(\"js\", nothing, \"/home/dushya/.julia/packages/InteractBase/LJXv3/src/../assets/all.js\"), WebIO.Asset(\"css\", nothing, \"/home/dushya/.julia/packages/InteractBase/LJXv3/src/../assets/style.css\"), WebIO.Asset(\"css\", nothing, \"/home/dushya/.julia/packages/Interact/PENUy/src/../assets/bulma_confined.min.css\")], Dict{Any, Any}(\"loading\" => Any[WebIO.JSString(\"(function (val){return (val!=this.model[\\\"loading\\\"]()) ? (this.valueFromJulia[\\\"loading\\\"]=true, this.model[\\\"loading\\\"](val)) : undefined})\")], \"clicks\" => Any[WebIO.JSString(\"(function (val){return (val!=this.model[\\\"clicks\\\"]()) ? (this.valueFromJulia[\\\"clicks\\\"]=true, this.model[\\\"clicks\\\"](val)) : undefined})\")]), WebIO.ConnectionPool(Channel{Any}(32), Set{WebIO.AbstractConnection}(), Base.GenericCondition{ReentrantLock}(Base.IntrusiveLinkedList{Task}(Task (runnable) @0x00007f4d040b9dc0, Task (runnable) @0x00007f4d040b9dc0), ReentrantLock(nothing, 0x00000000, 0x00, Base.GenericCondition{Base.Threads.SpinLock}(Base.IntrusiveLinkedList{Task}(nothing, nothing), Base.Threads.SpinLock(0)), (3774347686392116269, 3631648841191471460, 139969728151650)))), WebIO.JSString[WebIO.JSString(\"function () {\\n    var handler = (function (ko, koPunches) {\\n    ko.punches.enableAll();\\n    ko.bindingHandlers.numericValue = {\\n        init: function(element, valueAccessor, allBindings, data, context) {\\n            var stringified = ko.observable(ko.unwrap(valueAccessor()));\\n            stringified.subscribe(function(value) {\\n                var val = parseFloat(value);\\n                if (!isNaN(val)) {\\n                    valueAccessor()(val);\\n                }\\n            });\\n            valueAccessor().subscribe(function(value) {\\n                var str = JSON.stringify(value);\\n                if ((str == \\\"0\\\") && ([\\\"-0\\\", \\\"-0.\\\"].indexOf(stringified()) >= 0))\\n                     return;\\n                 if ([\\\"null\\\", \\\"\\\"].indexOf(str) >= 0)\\n                     return;\\n                stringified(str);\\n            });\\n            ko.applyBindingsToNode(\\n                element,\\n                {\\n                    value: stringified,\\n                    valueUpdate: allBindings.get('valueUpdate'),\\n                },\\n                context,\\n            );\\n        }\\n    };\\n    var json_data = {\\\"loading\\\":WebIO.getval({\\\"name\\\":\\\"loading\\\",\\\"scope\\\":\\\"2127810002939595321\\\",\\\"id\\\":\\\"14714944425063834103\\\",\\\"type\\\":\\\"observable\\\"}),\\\"clicks\\\":WebIO.getval({\\\"name\\\":\\\"clicks\\\",\\\"scope\\\":\\\"2127810002939595321\\\",\\\"id\\\":\\\"714626887577067928\\\",\\\"type\\\":\\\"observable\\\"})};\\n    var self = this;\\n    function AppViewModel() {\\n        for (var key in json_data) {\\n            var el = json_data[key];\\n            this[key] = Array.isArray(el) ? ko.observableArray(el) : ko.observable(el);\\n        }\\n        \\n        \\n        [this[\\\"loading\\\"].subscribe((function (val){!(this.valueFromJulia[\\\"loading\\\"]) ? (WebIO.setval({\\\"name\\\":\\\"loading\\\",\\\"scope\\\":\\\"2127810002939595321\\\",\\\"id\\\":\\\"14714944425063834103\\\",\\\"type\\\":\\\"observable\\\"},val)) : undefined; return this.valueFromJulia[\\\"loading\\\"]=false}),self),this[\\\"clicks\\\"].subscribe((function (val){!(this.valueFromJulia[\\\"clicks\\\"]) ? (WebIO.setval({\\\"name\\\":\\\"clicks\\\",\\\"scope\\\":\\\"2127810002939595321\\\",\\\"id\\\":\\\"714626887577067928\\\",\\\"type\\\":\\\"observable\\\"},val)) : undefined; return this.valueFromJulia[\\\"clicks\\\"]=false}),self)]\\n        \\n    }\\n    self.model = new AppViewModel();\\n    self.valueFromJulia = {};\\n    for (var key in json_data) {\\n        self.valueFromJulia[key] = false;\\n    }\\n    ko.applyBindings(self.model, self.dom);\\n}\\n);\\n    (WebIO.importBlock({\\\"data\\\":[{\\\"name\\\":\\\"knockout\\\",\\\"type\\\":\\\"js\\\",\\\"url\\\":\\\"/assetserver/727383f2a47bd31570b7da84eee7b022dd6d7c78-knockout.js\\\"},{\\\"name\\\":\\\"knockout_punches\\\",\\\"type\\\":\\\"js\\\",\\\"url\\\":\\\"/assetserver/382b41b3b1bd9f26f75861d360bad7f8beea211f-knockout_punches.js\\\"}],\\\"type\\\":\\\"async_block\\\"})).then((imports) => handler.apply(this, imports));\\n}\\n\")])], Dict{Symbol, Any}(:className => \"field interact-widget\")), WebIO.Node{WebIO.DOM}(WebIO.DOM(:html, :div), Any[WebIO.Scope(WebIO.Node{WebIO.DOM}(WebIO.DOM(:html, :div), Any[], Dict{Symbol, Any}(:id => \"container\")), Dict{String, Tuple{Observables.AbstractObservable, Union{Nothing, Bool}}}(\"value\" => (Observable(\"\\\\;\\\\;\"), nothing)), Set{String}(), nothing, WebIO.Asset[WebIO.Asset(\"js\", nothing, \"/home/dushya/.julia/packages/InteractBase/LJXv3/src/../assets/katex.min.js\"), WebIO.Asset(\"css\", nothing, \"/home/dushya/.julia/packages/InteractBase/LJXv3/src/../assets/katex.min.css\")], Dict{Any, Any}(\"value\" => Any[WebIO.JSString(\"(function (txt){return this.k.render(txt,this.container)})\")]), WebIO.ConnectionPool(Channel{Any}(32), Set{WebIO.AbstractConnection}(), Base.GenericCondition{ReentrantLock}(Base.IntrusiveLinkedList{Task}(Task (runnable) @0x00007f4d0410e270, Task (runnable) @0x00007f4d0410e270), ReentrantLock(nothing, 0x00000000, 0x00, Base.GenericCondition{Base.Threads.SpinLock}(Base.IntrusiveLinkedList{Task}(nothing, nothing), Base.Threads.SpinLock(0)), (89, 139967978765648, 4294967297)))), WebIO.JSString[WebIO.JSString(\"function () {\\n    var handler = ((function (k){this.k=k; this.container=this.dom.querySelector(\\\"#container\\\"); return k.render(\\\"\\\\\\\\;\\\\\\\\;\\\",this.container)}));\\n    (WebIO.importBlock({\\\"data\\\":[{\\\"name\\\":null,\\\"type\\\":\\\"js\\\",\\\"url\\\":\\\"/assetserver/dd22ed1bf1896c2748f3fe616ce0b838adc895c1-katex.min.js\\\"},{\\\"name\\\":null,\\\"type\\\":\\\"css\\\",\\\"url\\\":\\\"/assetserver/46517a424aa5e6cffc1360d7e0848b601c584ee3-katex.min.css\\\"}],\\\"type\\\":\\\"async_block\\\"})).then((imports) => handler.apply(this, imports));\\n}\\n\")])], Dict{Symbol, Any}(:className => \"interact-widget\")), WebIO.Node{WebIO.DOM}(WebIO.DOM(:html, :div), Any[WebIO.Scope(WebIO.Node{WebIO.DOM}(WebIO.DOM(:html, :button), Any[\"stop\"], Dict{Symbol, Any}(:attributes => Dict{Any, Any}(\"data-bind\" => \"click: function (){this.clicks(this.clicks()+1)}, css: {'is-loading' : loading}\"), :className => \"is-medium button is-primary\", :style => Dict{String, Any}())), Dict{String, Tuple{Observables.AbstractObservable, Union{Nothing, Bool}}}(\"loading\" => (Observable(false), nothing), \"clicks\" => (Observable(0), nothing)), Set{String}(), nothing, WebIO.Asset[WebIO.Asset(\"js\", \"knockout\", \"/home/dushya/.julia/packages/Knockout/HReiN/src/../assets/knockout.js\"), WebIO.Asset(\"js\", \"knockout_punches\", \"/home/dushya/.julia/packages/Knockout/HReiN/src/../assets/knockout_punches.js\"), WebIO.Asset(\"js\", nothing, \"/home/dushya/.julia/packages/InteractBase/LJXv3/src/../assets/all.js\"), WebIO.Asset(\"css\", nothing, \"/home/dushya/.julia/packages/InteractBase/LJXv3/src/../assets/style.css\"), WebIO.Asset(\"css\", nothing, \"/home/dushya/.julia/packages/Interact/PENUy/src/../assets/bulma_confined.min.css\")], Dict{Any, Any}(\"loading\" => Any[WebIO.JSString(\"(function (val){return (val!=this.model[\\\"loading\\\"]()) ? (this.valueFromJulia[\\\"loading\\\"]=true, this.model[\\\"loading\\\"](val)) : undefined})\")], \"clicks\" => Any[WebIO.JSString(\"(function (val){return (val!=this.model[\\\"clicks\\\"]()) ? (this.valueFromJulia[\\\"clicks\\\"]=true, this.model[\\\"clicks\\\"](val)) : undefined})\")]), WebIO.ConnectionPool(Channel{Any}(32), Set{WebIO.AbstractConnection}(), Base.GenericCondition{ReentrantLock}(Base.IntrusiveLinkedList{Task}(Task (runnable) @0x00007f4d040f4fb0, Task (runnable) @0x00007f4d040f4fb0), ReentrantLock(nothing, 0x00000000, 0x00, Base.GenericCondition{Base.Threads.SpinLock}(Base.IntrusiveLinkedList{Task}(nothing, nothing), Base.Threads.SpinLock(0)), (54, 139967978763216, 0)))), WebIO.JSString[WebIO.JSString(\"function () {\\n    var handler = (function (ko, koPunches) {\\n    ko.punches.enableAll();\\n    ko.bindingHandlers.numericValue = {\\n        init: function(element, valueAccessor, allBindings, data, context) {\\n            var stringified = ko.observable(ko.unwrap(valueAccessor()));\\n            stringified.subscribe(function(value) {\\n                var val = parseFloat(value);\\n                if (!isNaN(val)) {\\n                    valueAccessor()(val);\\n                }\\n            });\\n            valueAccessor().subscribe(function(value) {\\n                var str = JSON.stringify(value);\\n                if ((str == \\\"0\\\") && ([\\\"-0\\\", \\\"-0.\\\"].indexOf(stringified()) >= 0))\\n                     return;\\n                 if ([\\\"null\\\", \\\"\\\"].indexOf(str) >= 0)\\n                     return;\\n                stringified(str);\\n            });\\n            ko.applyBindingsToNode(\\n                element,\\n                {\\n                    value: stringified,\\n                    valueUpdate: allBindings.get('valueUpdate'),\\n                },\\n                context,\\n            );\\n        }\\n    };\\n    var json_data = {\\\"loading\\\":WebIO.getval({\\\"name\\\":\\\"loading\\\",\\\"scope\\\":\\\"7537180072623523046\\\",\\\"id\\\":\\\"4702395546183446821\\\",\\\"type\\\":\\\"observable\\\"}),\\\"clicks\\\":WebIO.getval({\\\"name\\\":\\\"clicks\\\",\\\"scope\\\":\\\"7537180072623523046\\\",\\\"id\\\":\\\"5127992342195234122\\\",\\\"type\\\":\\\"observable\\\"})};\\n    var self = this;\\n    function AppViewModel() {\\n        for (var key in json_data) {\\n            var el = json_data[key];\\n            this[key] = Array.isArray(el) ? ko.observableArray(el) : ko.observable(el);\\n        }\\n        \\n        \\n        [this[\\\"loading\\\"].subscribe((function (val){!(this.valueFromJulia[\\\"loading\\\"]) ? (WebIO.setval({\\\"name\\\":\\\"loading\\\",\\\"scope\\\":\\\"7537180072623523046\\\",\\\"id\\\":\\\"4702395546183446821\\\",\\\"type\\\":\\\"observable\\\"},val)) : undefined; return this.valueFromJulia[\\\"loading\\\"]=false}),self),this[\\\"clicks\\\"].subscribe((function (val){!(this.valueFromJulia[\\\"clicks\\\"]) ? (WebIO.setval({\\\"name\\\":\\\"clicks\\\",\\\"scope\\\":\\\"7537180072623523046\\\",\\\"id\\\":\\\"5127992342195234122\\\",\\\"type\\\":\\\"observable\\\"},val)) : undefined; return this.valueFromJulia[\\\"clicks\\\"]=false}),self)]\\n        \\n    }\\n    self.model = new AppViewModel();\\n    self.valueFromJulia = {};\\n    for (var key in json_data) {\\n        self.valueFromJulia[key] = false;\\n    }\\n    ko.applyBindings(self.model, self.dom);\\n}\\n);\\n    (WebIO.importBlock({\\\"data\\\":[{\\\"name\\\":\\\"knockout\\\",\\\"type\\\":\\\"js\\\",\\\"url\\\":\\\"/assetserver/727383f2a47bd31570b7da84eee7b022dd6d7c78-knockout.js\\\"},{\\\"name\\\":\\\"knockout_punches\\\",\\\"type\\\":\\\"js\\\",\\\"url\\\":\\\"/assetserver/382b41b3b1bd9f26f75861d360bad7f8beea211f-knockout_punches.js\\\"}],\\\"type\\\":\\\"async_block\\\"})).then((imports) => handler.apply(this, imports));\\n}\\n\")])], Dict{Symbol, Any}(:className => \"field interact-widget\")), WebIO.Node{WebIO.DOM}(WebIO.DOM(:html, :div), Any[WebIO.Scope(WebIO.Node{WebIO.DOM}(WebIO.DOM(:html, :div), Any[], Dict{Symbol, Any}(:id => \"container\")), Dict{String, Tuple{Observables.AbstractObservable, Union{Nothing, Bool}}}(\"value\" => (Observable(\"\\\\;\\\\;\"), nothing)), Set{String}(), nothing, WebIO.Asset[WebIO.Asset(\"js\", nothing, \"/home/dushya/.julia/packages/InteractBase/LJXv3/src/../assets/katex.min.js\"), WebIO.Asset(\"css\", nothing, \"/home/dushya/.julia/packages/InteractBase/LJXv3/src/../assets/katex.min.css\")], Dict{Any, Any}(\"value\" => Any[WebIO.JSString(\"(function (txt){return this.k.render(txt,this.container)})\")]), WebIO.ConnectionPool(Channel{Any}(32), Set{WebIO.AbstractConnection}(), Base.GenericCondition{ReentrantLock}(Base.IntrusiveLinkedList{Task}(Task (runnable) @0x00007f4d0410e270, Task (runnable) @0x00007f4d0410e270), ReentrantLock(nothing, 0x00000000, 0x00, Base.GenericCondition{Base.Threads.SpinLock}(Base.IntrusiveLinkedList{Task}(nothing, nothing), Base.Threads.SpinLock(0)), (89, 139967978765648, 4294967297)))), WebIO.JSString[WebIO.JSString(\"function () {\\n    var handler = ((function (k){this.k=k; this.container=this.dom.querySelector(\\\"#container\\\"); return k.render(\\\"\\\\\\\\;\\\\\\\\;\\\",this.container)}));\\n    (WebIO.importBlock({\\\"data\\\":[{\\\"name\\\":null,\\\"type\\\":\\\"js\\\",\\\"url\\\":\\\"/assetserver/dd22ed1bf1896c2748f3fe616ce0b838adc895c1-katex.min.js\\\"},{\\\"name\\\":null,\\\"type\\\":\\\"css\\\",\\\"url\\\":\\\"/assetserver/46517a424aa5e6cffc1360d7e0848b601c584ee3-katex.min.css\\\"}],\\\"type\\\":\\\"async_block\\\"})).then((imports) => handler.apply(this, imports));\\n}\\n\")])], Dict{Symbol, Any}(:className => \"interact-widget\")), WebIO.Node{WebIO.DOM}(WebIO.DOM(:html, :div), Any[WebIO.Scope(WebIO.Node{WebIO.DOM}(WebIO.DOM(:html, :button), Any[\"save\"], Dict{Symbol, Any}(:attributes => Dict{Any, Any}(\"data-bind\" => \"click: function (){this.clicks(this.clicks()+1)}, css: {'is-loading' : loading}\"), :className => \"is-medium button is-primary\", :style => Dict{String, Any}())), Dict{String, Tuple{Observables.AbstractObservable, Union{Nothing, Bool}}}(\"loading\" => (Observable(false), nothing), \"clicks\" => (Observable(0), nothing)), Set{String}(), nothing, WebIO.Asset[WebIO.Asset(\"js\", \"knockout\", \"/home/dushya/.julia/packages/Knockout/HReiN/src/../assets/knockout.js\"), WebIO.Asset(\"js\", \"knockout_punches\", \"/home/dushya/.julia/packages/Knockout/HReiN/src/../assets/knockout_punches.js\"), WebIO.Asset(\"js\", nothing, \"/home/dushya/.julia/packages/InteractBase/LJXv3/src/../assets/all.js\"), WebIO.Asset(\"css\", nothing, \"/home/dushya/.julia/packages/InteractBase/LJXv3/src/../assets/style.css\"), WebIO.Asset(\"css\", nothing, \"/home/dushya/.julia/packages/Interact/PENUy/src/../assets/bulma_confined.min.css\")], Dict{Any, Any}(\"loading\" => Any[WebIO.JSString(\"(function (val){return (val!=this.model[\\\"loading\\\"]()) ? (this.valueFromJulia[\\\"loading\\\"]=true, this.model[\\\"loading\\\"](val)) : undefined})\")], \"clicks\" => Any[WebIO.JSString(\"(function (val){return (val!=this.model[\\\"clicks\\\"]()) ? (this.valueFromJulia[\\\"clicks\\\"]=true, this.model[\\\"clicks\\\"](val)) : undefined})\")]), WebIO.ConnectionPool(Channel{Any}(32), Set{WebIO.AbstractConnection}(), Base.GenericCondition{ReentrantLock}(Base.IntrusiveLinkedList{Task}(Task (runnable) @0x00007f4d040f7850, Task (runnable) @0x00007f4d040f7850), ReentrantLock(nothing, 0x00000000, 0x00, Base.GenericCondition{Base.Threads.SpinLock}(Base.IntrusiveLinkedList{Task}(nothing, nothing), Base.Threads.SpinLock(0)), (3, -1, 139969747293248)))), WebIO.JSString[WebIO.JSString(\"function () {\\n    var handler = (function (ko, koPunches) {\\n    ko.punches.enableAll();\\n    ko.bindingHandlers.numericValue = {\\n        init: function(element, valueAccessor, allBindings, data, context) {\\n            var stringified = ko.observable(ko.unwrap(valueAccessor()));\\n            stringified.subscribe(function(value) {\\n                var val = parseFloat(value);\\n                if (!isNaN(val)) {\\n                    valueAccessor()(val);\\n                }\\n            });\\n            valueAccessor().subscribe(function(value) {\\n                var str = JSON.stringify(value);\\n                if ((str == \\\"0\\\") && ([\\\"-0\\\", \\\"-0.\\\"].indexOf(stringified()) >= 0))\\n                     return;\\n                 if ([\\\"null\\\", \\\"\\\"].indexOf(str) >= 0)\\n                     return;\\n                stringified(str);\\n            });\\n            ko.applyBindingsToNode(\\n                element,\\n                {\\n                    value: stringified,\\n                    valueUpdate: allBindings.get('valueUpdate'),\\n                },\\n                context,\\n            );\\n        }\\n    };\\n    var json_data = {\\\"loading\\\":WebIO.getval({\\\"name\\\":\\\"loading\\\",\\\"scope\\\":\\\"4110232458040132665\\\",\\\"id\\\":\\\"9557390605193288301\\\",\\\"type\\\":\\\"observable\\\"}),\\\"clicks\\\":WebIO.getval({\\\"name\\\":\\\"clicks\\\",\\\"scope\\\":\\\"4110232458040132665\\\",\\\"id\\\":\\\"14088177091642773521\\\",\\\"type\\\":\\\"observable\\\"})};\\n    var self = this;\\n    function AppViewModel() {\\n        for (var key in json_data) {\\n            var el = json_data[key];\\n            this[key] = Array.isArray(el) ? ko.observableArray(el) : ko.observable(el);\\n        }\\n        \\n        \\n        [this[\\\"loading\\\"].subscribe((function (val){!(this.valueFromJulia[\\\"loading\\\"]) ? (WebIO.setval({\\\"name\\\":\\\"loading\\\",\\\"scope\\\":\\\"4110232458040132665\\\",\\\"id\\\":\\\"9557390605193288301\\\",\\\"type\\\":\\\"observable\\\"},val)) : undefined; return this.valueFromJulia[\\\"loading\\\"]=false}),self),this[\\\"clicks\\\"].subscribe((function (val){!(this.valueFromJulia[\\\"clicks\\\"]) ? (WebIO.setval({\\\"name\\\":\\\"clicks\\\",\\\"scope\\\":\\\"4110232458040132665\\\",\\\"id\\\":\\\"14088177091642773521\\\",\\\"type\\\":\\\"observable\\\"},val)) : undefined; return this.valueFromJulia[\\\"clicks\\\"]=false}),self)]\\n        \\n    }\\n    self.model = new AppViewModel();\\n    self.valueFromJulia = {};\\n    for (var key in json_data) {\\n        self.valueFromJulia[key] = false;\\n    }\\n    ko.applyBindings(self.model, self.dom);\\n}\\n);\\n    (WebIO.importBlock({\\\"data\\\":[{\\\"name\\\":\\\"knockout\\\",\\\"type\\\":\\\"js\\\",\\\"url\\\":\\\"/assetserver/727383f2a47bd31570b7da84eee7b022dd6d7c78-knockout.js\\\"},{\\\"name\\\":\\\"knockout_punches\\\",\\\"type\\\":\\\"js\\\",\\\"url\\\":\\\"/assetserver/382b41b3b1bd9f26f75861d360bad7f8beea211f-knockout_punches.js\\\"}],\\\"type\\\":\\\"async_block\\\"})).then((imports) => handler.apply(this, imports));\\n}\\n\")])], Dict{Symbol, Any}(:className => \"field interact-widget\"))], Dict{Symbol, Any}(:style => Dict(\"display\" => \"flex\", \"flex-direction\" => \"row\")))], Dict{Symbol, Any}(:style => Dict(\"display\" => \"flex\", \"flex-direction\" => \"column\"))), WebIO.Node{WebIO.DOM}(WebIO.DOM(:html, :div), Any[WebIO.Scope(WebIO.Node{WebIO.DOM}(WebIO.DOM(:html, :div), Any[], Dict{Symbol, Any}(:id => \"container\")), Dict{String, Tuple{Observables.AbstractObservable, Union{Nothing, Bool}}}(\"value\" => (Observable(\"\\\\;\\\\;\"), nothing)), Set{String}(), nothing, WebIO.Asset[WebIO.Asset(\"js\", nothing, \"/home/dushya/.julia/packages/InteractBase/LJXv3/src/../assets/katex.min.js\"), WebIO.Asset(\"css\", nothing, \"/home/dushya/.julia/packages/InteractBase/LJXv3/src/../assets/katex.min.css\")], Dict{Any, Any}(\"value\" => Any[WebIO.JSString(\"(function (txt){return this.k.render(txt,this.container)})\")]), WebIO.ConnectionPool(Channel{Any}(32), Set{WebIO.AbstractConnection}(), Base.GenericCondition{ReentrantLock}(Base.IntrusiveLinkedList{Task}(Task (runnable) @0x00007f4d0410e270, Task (runnable) @0x00007f4d0410e270), ReentrantLock(nothing, 0x00000000, 0x00, Base.GenericCondition{Base.Threads.SpinLock}(Base.IntrusiveLinkedList{Task}(nothing, nothing), Base.Threads.SpinLock(0)), (89, 139967978765648, 4294967297)))), WebIO.JSString[WebIO.JSString(\"function () {\\n    var handler = ((function (k){this.k=k; this.container=this.dom.querySelector(\\\"#container\\\"); return k.render(\\\"\\\\\\\\;\\\\\\\\;\\\",this.container)}));\\n    (WebIO.importBlock({\\\"data\\\":[{\\\"name\\\":null,\\\"type\\\":\\\"js\\\",\\\"url\\\":\\\"/assetserver/dd22ed1bf1896c2748f3fe616ce0b838adc895c1-katex.min.js\\\"},{\\\"name\\\":null,\\\"type\\\":\\\"css\\\",\\\"url\\\":\\\"/assetserver/46517a424aa5e6cffc1360d7e0848b601c584ee3-katex.min.css\\\"}],\\\"type\\\":\\\"async_block\\\"})).then((imports) => handler.apply(this, imports));\\n}\\n\")])], Dict{Symbol, Any}(:className => \"interact-widget\")), Observable(Luxor.Drawing(430.0, 430.0, \"\", Cairo.CairoSurfaceBase{UInt32}(Ptr{Nothing} @0x0000000000000000, 430.0, 430.0), Cairo.CairoContext(Ptr{Nothing} @0x0000000006961c90, Cairo.CairoSurfaceBase{UInt32}(Ptr{Nothing} @0x0000000000000000, 430.0, 430.0), Ptr{Nothing} @0x00000000076a0320), :png, 0.0, 0.0, 0.0, 1.0, IOBuffer(data=UInt8[...], readable=true, writable=true, seekable=true, append=false, size=6360, maxsize=Inf, ptr=6361, mark=-1), UInt8[0x89, 0x50, 0x4e, 0x47, 0x0d, 0x0a, 0x1a, 0x0a, 0x00, 0x00  …  0x00, 0x00, 0x49, 0x45, 0x4e, 0x44, 0xae, 0x42, 0x60, 0x82], false)), WebIO.Node{WebIO.DOM}(WebIO.DOM(:html, :div), Any[WebIO.Scope(WebIO.Node{WebIO.DOM}(WebIO.DOM(:html, :div), Any[], Dict{Symbol, Any}(:id => \"container\")), Dict{String, Tuple{Observables.AbstractObservable, Union{Nothing, Bool}}}(\"value\" => (Observable(\"\\\\;\\\\;\"), nothing)), Set{String}(), nothing, WebIO.Asset[WebIO.Asset(\"js\", nothing, \"/home/dushya/.julia/packages/InteractBase/LJXv3/src/../assets/katex.min.js\"), WebIO.Asset(\"css\", nothing, \"/home/dushya/.julia/packages/InteractBase/LJXv3/src/../assets/katex.min.css\")], Dict{Any, Any}(\"value\" => Any[WebIO.JSString(\"(function (txt){return this.k.render(txt,this.container)})\")]), WebIO.ConnectionPool(Channel{Any}(32), Set{WebIO.AbstractConnection}(), Base.GenericCondition{ReentrantLock}(Base.IntrusiveLinkedList{Task}(Task (runnable) @0x00007f4d0410e270, Task (runnable) @0x00007f4d0410e270), ReentrantLock(nothing, 0x00000000, 0x00, Base.GenericCondition{Base.Threads.SpinLock}(Base.IntrusiveLinkedList{Task}(nothing, nothing), Base.Threads.SpinLock(0)), (89, 139967978765648, 4294967297)))), WebIO.JSString[WebIO.JSString(\"function () {\\n    var handler = ((function (k){this.k=k; this.container=this.dom.querySelector(\\\"#container\\\"); return k.render(\\\"\\\\\\\\;\\\\\\\\;\\\",this.container)}));\\n    (WebIO.importBlock({\\\"data\\\":[{\\\"name\\\":null,\\\"type\\\":\\\"js\\\",\\\"url\\\":\\\"/assetserver/dd22ed1bf1896c2748f3fe616ce0b838adc895c1-katex.min.js\\\"},{\\\"name\\\":null,\\\"type\\\":\\\"css\\\",\\\"url\\\":\\\"/assetserver/46517a424aa5e6cffc1360d7e0848b601c584ee3-katex.min.css\\\"}],\\\"type\\\":\\\"async_block\\\"})).then((imports) => handler.apply(this, imports));\\n}\\n\")])], Dict{Symbol, Any}(:className => \"interact-widget\")), WebIO.Node{WebIO.DOM}(WebIO.DOM(:html, :div), Any[], Dict{Symbol, Any}(:style => Dict(\"display\" => \"flex\", \"flex-direction\" => \"column\")))], Dict{Symbol, Any}(:style => Dict(\"display\" => \"flex\", \"flex-direction\" => \"row\")))], Dict{Symbol, Any}(:style => Dict(\"display\" => \"flex\", \"flex-direction\" => \"column\")))"
      ]
     },
     "execution_count": 44,
     "metadata": {
      "application/vnd.webio.node+json": {
       "kernelId": "3e9e0322-4756-454e-b65f-3a92007e480b"
      }
     },
     "output_type": "execute_result"
    }
   ],
   "source": [
    "animate_sim(model)"
   ]
  },
  {
   "cell_type": "code",
   "execution_count": 19,
   "metadata": {},
   "outputs": [
    {
     "data": {
      "text/plain": [
       "false"
      ]
     },
     "execution_count": 19,
     "metadata": {},
     "output_type": "execute_result"
    }
   ],
   "source": [
    "model.properties.percolated"
   ]
  },
  {
   "cell_type": "code",
   "execution_count": 12,
   "metadata": {},
   "outputs": [
    {
     "data": {
      "text/plain": [
       "Col(1.0N0f8,0.0N0f8,0.0N0f8,1.0N0f8)\n"
      ]
     },
     "execution_count": 12,
     "metadata": {},
     "output_type": "execute_result"
    }
   ],
   "source": [
    "model1.graph.nodesprops[190].color"
   ]
  },
  {
   "cell_type": "code",
   "execution_count": 75,
   "metadata": {},
   "outputs": [
    {
     "data": {
      "text/plain": [
       "calculate_percolation_probability (generic function with 1 method)"
      ]
     },
     "execution_count": 75,
     "metadata": {},
     "output_type": "execute_result"
    }
   ],
   "source": [
    "function calculate_percolation_probability(;grid_size=20, attempts=10)\n",
    "    n=grid_size\n",
    "    frames=Int(ceil(n^2/10)) # every step 10 random nodes are inverted\n",
    "    percolation_probs = Float64[]\n",
    "    for _ in 1:attempts\n",
    "        graph = square_grid_graph(n,n)\n",
    "        model = create_graph_model(graph, open_nodes=Int[], percolated=false, graphics=false, prob=0.0) \n",
    "        init_model!(model, initialiser= initialiser!)\n",
    "        run_model!(model, steps=frames, step_rule = step_rule! )\n",
    "        if model.properties.percolated\n",
    "            push!(percolation_probs, model.properties.prob)\n",
    "        end\n",
    "    end\n",
    "    percolation_probs\n",
    "end"
   ]
  },
  {
   "cell_type": "code",
   "execution_count": 91,
   "metadata": {},
   "outputs": [],
   "source": [
    "probs=calculate_percolation_probability(grid_size=20, attempts=80);"
   ]
  },
  {
   "cell_type": "code",
   "execution_count": 92,
   "metadata": {},
   "outputs": [
    {
     "data": {
      "text/plain": [
       "0.5919687499999999"
      ]
     },
     "execution_count": 92,
     "metadata": {},
     "output_type": "execute_result"
    }
   ],
   "source": [
    "sum(probs)/length(probs)"
   ]
  },
  {
   "cell_type": "code",
   "execution_count": null,
   "metadata": {},
   "outputs": [],
   "source": []
  }
 ],
 "metadata": {
  "@webio": {
   "lastCommId": "15dc524d28764de0891c26188bdb2856",
   "lastKernelId": "3e9e0322-4756-454e-b65f-3a92007e480b"
  },
  "kernelspec": {
   "display_name": "Julia 1.9.2",
   "language": "julia",
   "name": "julia-1.9"
  },
  "language_info": {
   "file_extension": ".jl",
   "mimetype": "application/julia",
   "name": "julia",
   "version": "1.9.2"
  }
 },
 "nbformat": 4,
 "nbformat_minor": 4
}
