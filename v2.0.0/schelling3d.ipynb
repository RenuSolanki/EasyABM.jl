{
 "cells": [
  {
   "cell_type": "markdown",
   "metadata": {},
   "source": [
    "# Schelling segregation model 3D"
   ]
  },
  {
   "cell_type": "code",
   "execution_count": 1,
   "metadata": {},
   "outputs": [
    {
     "name": "stderr",
     "output_type": "stream",
     "text": [
      "\u001b[32m\u001b[1m  Activating\u001b[22m\u001b[39m project at `~/Documents/EasyABM`\n"
     ]
    },
    {
     "data": {
      "application/vnd.webio.node+json": {
       "children": [],
       "instanceArgs": {
        "namespace": "html",
        "tag": "div"
       },
       "nodeType": "DOM",
       "props": {},
       "type": "node"
      },
      "text/html": [
       "<div style=\"padding: 1em; background-color: #f8d6da; border: 1px solid #f5c6cb; font-weight: bold;\">\n",
       "<p>The WebIO Jupyter extension was not detected. See the\n",
       "<a href=\"https://juliagizmos.github.io/WebIO.jl/latest/providers/ijulia/\" target=\"_blank\">\n",
       "    WebIO Jupyter integration documentation\n",
       "</a>\n",
       "for more information.\n",
       "</div>\n"
      ],
      "text/plain": [
       "WebIO._IJuliaInit()"
      ]
     },
     "metadata": {
      "application/vnd.webio.node+json": {
       "kernelId": "522a93ae-8adc-477b-b043-8985b2df0da1"
      }
     },
     "output_type": "display_data"
    }
   ],
   "source": [
    "using Pkg, Revise\n",
    "Pkg.activate(joinpath(@__DIR__, \"../..\"))\n",
    "using EasyABM"
   ]
  },
  {
   "cell_type": "markdown",
   "metadata": {},
   "source": [
    "## Step 1: Create Agents and Model\n",
    "\n",
    "Lets create 200 agents with properties `pos`, `mood` and `color`. The `keeps_record_of` argument is list of properties that the agent will record during time evolution. The `min_alike` property of the model which specifies the minimum number of alike neighbors for an agent to be happy, is set to be 8. "
   ]
  },
  {
   "cell_type": "code",
   "execution_count": 2,
   "metadata": {},
   "outputs": [],
   "source": [
    "@enum agentsfeeling happy sad"
   ]
  },
  {
   "cell_type": "code",
   "execution_count": 3,
   "metadata": {
    "scrolled": true
   },
   "outputs": [
    {
     "data": {
      "text/plain": [
       "EasyABM SpaceModel3D{EasyABM.StaticType, Int64, EasyABM.NPeriodicType}: In a EasyABM.StaticType model number of agents is fixed.\n"
      ]
     },
     "execution_count": 3,
     "metadata": {},
     "output_type": "execute_result"
    }
   ],
   "source": [
    "@enum agentsfeeling happy sad\n",
    "agents = grid_3d_agents(200, pos = Vect(1,1,1), \n",
    "    color = cl\"red\", mood = happy, keeps_record_of=Set([:pos, :mood]))\n",
    "model = create_3d_model(agents, agents_type = Static, \n",
    "    space_type = NPeriodic, size = (7,7,7), min_alike = 8)"
   ]
  },
  {
   "cell_type": "markdown",
   "metadata": {},
   "source": [
    "\n",
    "## Step 2: Initialise the model\n",
    "\n",
    "In the second step we initialise the agents by defining `initialiser!` function and then sending it as an argument to `init_model!`. In the `initialiser!` function we randomly set agents color to be either `cl\"red\"` or `cl\"green\"` and set their positions randomly such that there is not more than one agent on each patch. Then we set the `mood` property of each agent to be `happy` or `sad` depending upon the number of alike agents in neighborhood. "
   ]
  },
  {
   "cell_type": "code",
   "execution_count": 4,
   "metadata": {},
   "outputs": [],
   "source": [
    "function initialiser!(model)\n",
    "    for agent in model.agents\n",
    "        agent.color = [cl\"red\", cl\"green\"][rand(1:2)]\n",
    "        x,y,z = random_empty_patch(model) \n",
    "        agent.pos = Vect(x, y, z)     \n",
    "    end    \n",
    "    for agent in model.agents\n",
    "        nbrs = neighbors_moore(agent, model, 1)\n",
    "        num_same = 0\n",
    "        for nbr in nbrs\n",
    "            if nbr.color == agent.color\n",
    "                num_same += 1\n",
    "            end\n",
    "        end\n",
    "        if num_same < model.properties.min_alike\n",
    "            agent.mood = sad\n",
    "        end\n",
    "    end\n",
    "end\n",
    "init_model!(model, initialiser = initialiser!)"
   ]
  },
  {
   "cell_type": "markdown",
   "metadata": {},
   "source": [
    "\n",
    "## Step 3: Defining the step_rule! and running the model\n",
    "\n",
    "In this step we implement the step logic of the Schellings model in the `step_rule!` function and run the model for 100 steps. "
   ]
  },
  {
   "cell_type": "code",
   "execution_count": 5,
   "metadata": {},
   "outputs": [
    {
     "data": {
      "text/plain": [
       "step_rule! (generic function with 1 method)"
      ]
     },
     "execution_count": 5,
     "metadata": {},
     "output_type": "execute_result"
    }
   ],
   "source": [
    "function step_rule!(model)\n",
    "    min_alike = model.properties.min_alike\n",
    "    for agent in model.agents\n",
    "        num_alike = 0\n",
    "        for nbr in neighbors_moore(agent, model,1)\n",
    "            if agent.color == nbr.color\n",
    "                num_alike += 1\n",
    "            end\n",
    "        end\n",
    "        if num_alike ≥ min_alike\n",
    "            agent.mood = happy\n",
    "        else\n",
    "            agent.mood = sad\n",
    "            x,y,z = random_empty_patch(model) \n",
    "            agent.pos = Vect(x, y, z)\n",
    "        end\n",
    "    end\n",
    "    return\n",
    "end"
   ]
  },
  {
   "cell_type": "code",
   "execution_count": 6,
   "metadata": {
    "scrolled": true
   },
   "outputs": [],
   "source": [
    "run_model!(model, steps=100, step_rule = step_rule!)"
   ]
  },
  {
   "cell_type": "markdown",
   "metadata": {},
   "source": [
    "## Step 4: Visualisation"
   ]
  },
  {
   "cell_type": "markdown",
   "metadata": {},
   "source": [
    "The following code will draw the state of the model at frame number 4. "
   ]
  },
  {
   "cell_type": "code",
   "execution_count": 7,
   "metadata": {},
   "outputs": [
    {
     "name": "stderr",
     "output_type": "stream",
     "text": [
      "\u001b[36m\u001b[1m[ \u001b[22m\u001b[39m\u001b[36m\u001b[1mInfo: \u001b[22m\u001b[39mListening on: 127.0.0.1:8700, thread id: 1\n",
      "\u001b[36m\u001b[1m┌ \u001b[22m\u001b[39m\u001b[36m\u001b[1mInfo: \u001b[22m\u001b[39mMeshCat server started. You can open the visualizer by visiting the following URL in your browser:\n",
      "\u001b[36m\u001b[1m└ \u001b[22m\u001b[39mhttp://127.0.0.1:8700\n"
     ]
    },
    {
     "data": {
      "text/html": [
       "    <div style=\"height: 500px; width: 100%; overflow-x: auto; overflow-y: hidden; resize: both\">\n",
       "    <iframe src=\"http://127.0.0.1:8700\" style=\"width: 100%; height: 100%; border: none\"></iframe>\n",
       "    </div>\n"
      ],
      "text/plain": [
       "MeshCat.DisplayedVisualizer(MeshCat.CoreVisualizer(MeshCat.SceneTrees.SceneNode(nothing, nothing, Dict{String, Vector{UInt8}}(), nothing, Dict{String, MeshCat.SceneTrees.SceneNode}(\"meshcat\" => MeshCat.SceneTrees.SceneNode(nothing, UInt8[0x83, 0xa6, 0x6d, 0x61, 0x74, 0x72, 0x69, 0x78, 0xc7, 0x40  …  0x68, 0xa8, 0x2f, 0x6d, 0x65, 0x73, 0x68, 0x63, 0x61, 0x74], Dict{String, Vector{UInt8}}(), nothing, Dict{String, MeshCat.SceneTrees.SceneNode}(\"agents\" => MeshCat.SceneTrees.SceneNode(nothing, nothing, Dict{String, Vector{UInt8}}(), nothing, Dict{String, MeshCat.SceneTrees.SceneNode}(\"1\" => MeshCat.SceneTrees.SceneNode(UInt8[0x83, 0xa6, 0x6f, 0x62, 0x6a, 0x65, 0x63, 0x74, 0x84, 0xaa  …  0x74, 0x2f, 0x61, 0x67, 0x65, 0x6e, 0x74, 0x73, 0x2f, 0x31], UInt8[0x83, 0xa6, 0x6d, 0x61, 0x74, 0x72, 0x69, 0x78, 0xc7, 0x40  …  0x74, 0x2f, 0x61, 0x67, 0x65, 0x6e, 0x74, 0x73, 0x2f, 0x31], Dict{String, Vector{UInt8}}(\"position\" => [0x84, 0xa8, 0x70, 0x72, 0x6f, 0x70, 0x65, 0x72, 0x74, 0x79  …  0x74, 0x2f, 0x61, 0x67, 0x65, 0x6e, 0x74, 0x73, 0x2f, 0x31]), nothing, Dict{String, MeshCat.SceneTrees.SceneNode}()), \"54\" => MeshCat.SceneTrees.SceneNode(UInt8[0x83, 0xa6, 0x6f, 0x62, 0x6a, 0x65, 0x63, 0x74, 0x84, 0xaa  …  0x2f, 0x61, 0x67, 0x65, 0x6e, 0x74, 0x73, 0x2f, 0x35, 0x34], UInt8[0x83, 0xa6, 0x6d, 0x61, 0x74, 0x72, 0x69, 0x78, 0xc7, 0x40  …  0x2f, 0x61, 0x67, 0x65, 0x6e, 0x74, 0x73, 0x2f, 0x35, 0x34], Dict{String, Vector{UInt8}}(\"position\" => [0x84, 0xa8, 0x70, 0x72, 0x6f, 0x70, 0x65, 0x72, 0x74, 0x79  …  0x2f, 0x61, 0x67, 0x65, 0x6e, 0x74, 0x73, 0x2f, 0x35, 0x34]), nothing, Dict{String, MeshCat.SceneTrees.SceneNode}()), \"101\" => MeshCat.SceneTrees.SceneNode(UInt8[0x83, 0xa6, 0x6f, 0x62, 0x6a, 0x65, 0x63, 0x74, 0x84, 0xaa  …  0x61, 0x67, 0x65, 0x6e, 0x74, 0x73, 0x2f, 0x31, 0x30, 0x31], UInt8[0x83, 0xa6, 0x6d, 0x61, 0x74, 0x72, 0x69, 0x78, 0xc7, 0x40  …  0x61, 0x67, 0x65, 0x6e, 0x74, 0x73, 0x2f, 0x31, 0x30, 0x31], Dict{String, Vector{UInt8}}(\"position\" => [0x84, 0xa8, 0x70, 0x72, 0x6f, 0x70, 0x65, 0x72, 0x74, 0x79  …  0x61, 0x67, 0x65, 0x6e, 0x74, 0x73, 0x2f, 0x31, 0x30, 0x31]), nothing, Dict{String, MeshCat.SceneTrees.SceneNode}()), \"41\" => MeshCat.SceneTrees.SceneNode(UInt8[0x83, 0xa6, 0x6f, 0x62, 0x6a, 0x65, 0x63, 0x74, 0x84, 0xaa  …  0x2f, 0x61, 0x67, 0x65, 0x6e, 0x74, 0x73, 0x2f, 0x34, 0x31], UInt8[0x83, 0xa6, 0x6d, 0x61, 0x74, 0x72, 0x69, 0x78, 0xc7, 0x40  …  0x2f, 0x61, 0x67, 0x65, 0x6e, 0x74, 0x73, 0x2f, 0x34, 0x31], Dict{String, Vector{UInt8}}(\"position\" => [0x84, 0xa8, 0x70, 0x72, 0x6f, 0x70, 0x65, 0x72, 0x74, 0x79  …  0x2f, 0x61, 0x67, 0x65, 0x6e, 0x74, 0x73, 0x2f, 0x34, 0x31]), nothing, Dict{String, MeshCat.SceneTrees.SceneNode}()), \"65\" => MeshCat.SceneTrees.SceneNode(UInt8[0x83, 0xa6, 0x6f, 0x62, 0x6a, 0x65, 0x63, 0x74, 0x84, 0xaa  …  0x2f, 0x61, 0x67, 0x65, 0x6e, 0x74, 0x73, 0x2f, 0x36, 0x35], UInt8[0x83, 0xa6, 0x6d, 0x61, 0x74, 0x72, 0x69, 0x78, 0xc7, 0x40  …  0x2f, 0x61, 0x67, 0x65, 0x6e, 0x74, 0x73, 0x2f, 0x36, 0x35], Dict{String, Vector{UInt8}}(\"position\" => [0x84, 0xa8, 0x70, 0x72, 0x6f, 0x70, 0x65, 0x72, 0x74, 0x79  …  0x2f, 0x61, 0x67, 0x65, 0x6e, 0x74, 0x73, 0x2f, 0x36, 0x35]), nothing, Dict{String, MeshCat.SceneTrees.SceneNode}()), \"168\" => MeshCat.SceneTrees.SceneNode(UInt8[0x83, 0xa6, 0x6f, 0x62, 0x6a, 0x65, 0x63, 0x74, 0x84, 0xaa  …  0x61, 0x67, 0x65, 0x6e, 0x74, 0x73, 0x2f, 0x31, 0x36, 0x38], UInt8[0x83, 0xa6, 0x6d, 0x61, 0x74, 0x72, 0x69, 0x78, 0xc7, 0x40  …  0x61, 0x67, 0x65, 0x6e, 0x74, 0x73, 0x2f, 0x31, 0x36, 0x38], Dict{String, Vector{UInt8}}(\"position\" => [0x84, 0xa8, 0x70, 0x72, 0x6f, 0x70, 0x65, 0x72, 0x74, 0x79  …  0x61, 0x67, 0x65, 0x6e, 0x74, 0x73, 0x2f, 0x31, 0x36, 0x38]), nothing, Dict{String, MeshCat.SceneTrees.SceneNode}()), \"159\" => MeshCat.SceneTrees.SceneNode(UInt8[0x83, 0xa6, 0x6f, 0x62, 0x6a, 0x65, 0x63, 0x74, 0x84, 0xaa  …  0x61, 0x67, 0x65, 0x6e, 0x74, 0x73, 0x2f, 0x31, 0x35, 0x39], UInt8[0x83, 0xa6, 0x6d, 0x61, 0x74, 0x72, 0x69, 0x78, 0xc7, 0x40  …  0x61, 0x67, 0x65, 0x6e, 0x74, 0x73, 0x2f, 0x31, 0x35, 0x39], Dict{String, Vector{UInt8}}(\"position\" => [0x84, 0xa8, 0x70, 0x72, 0x6f, 0x70, 0x65, 0x72, 0x74, 0x79  …  0x61, 0x67, 0x65, 0x6e, 0x74, 0x73, 0x2f, 0x31, 0x35, 0x39]), nothing, Dict{String, MeshCat.SceneTrees.SceneNode}()), \"190\" => MeshCat.SceneTrees.SceneNode(UInt8[0x83, 0xa6, 0x6f, 0x62, 0x6a, 0x65, 0x63, 0x74, 0x84, 0xaa  …  0x61, 0x67, 0x65, 0x6e, 0x74, 0x73, 0x2f, 0x31, 0x39, 0x30], UInt8[0x83, 0xa6, 0x6d, 0x61, 0x74, 0x72, 0x69, 0x78, 0xc7, 0x40  …  0x61, 0x67, 0x65, 0x6e, 0x74, 0x73, 0x2f, 0x31, 0x39, 0x30], Dict{String, Vector{UInt8}}(\"position\" => [0x84, 0xa8, 0x70, 0x72, 0x6f, 0x70, 0x65, 0x72, 0x74, 0x79  …  0x61, 0x67, 0x65, 0x6e, 0x74, 0x73, 0x2f, 0x31, 0x39, 0x30]), nothing, Dict{String, MeshCat.SceneTrees.SceneNode}()), \"88\" => MeshCat.SceneTrees.SceneNode(UInt8[0x83, 0xa6, 0x6f, 0x62, 0x6a, 0x65, 0x63, 0x74, 0x84, 0xaa  …  0x2f, 0x61, 0x67, 0x65, 0x6e, 0x74, 0x73, 0x2f, 0x38, 0x38], UInt8[0x83, 0xa6, 0x6d, 0x61, 0x74, 0x72, 0x69, 0x78, 0xc7, 0x40  …  0x2f, 0x61, 0x67, 0x65, 0x6e, 0x74, 0x73, 0x2f, 0x38, 0x38], Dict{String, Vector{UInt8}}(\"position\" => [0x84, 0xa8, 0x70, 0x72, 0x6f, 0x70, 0x65, 0x72, 0x74, 0x79  …  0x2f, 0x61, 0x67, 0x65, 0x6e, 0x74, 0x73, 0x2f, 0x38, 0x38]), nothing, Dict{String, MeshCat.SceneTrees.SceneNode}()), \"26\" => MeshCat.SceneTrees.SceneNode(UInt8[0x83, 0xa6, 0x6f, 0x62, 0x6a, 0x65, 0x63, 0x74, 0x84, 0xaa  …  0x2f, 0x61, 0x67, 0x65, 0x6e, 0x74, 0x73, 0x2f, 0x32, 0x36], UInt8[0x83, 0xa6, 0x6d, 0x61, 0x74, 0x72, 0x69, 0x78, 0xc7, 0x40  …  0x2f, 0x61, 0x67, 0x65, 0x6e, 0x74, 0x73, 0x2f, 0x32, 0x36], Dict{String, Vector{UInt8}}(\"position\" => [0x84, 0xa8, 0x70, 0x72, 0x6f, 0x70, 0x65, 0x72, 0x74, 0x79  …  0x2f, 0x61, 0x67, 0x65, 0x6e, 0x74, 0x73, 0x2f, 0x32, 0x36]), nothing, Dict{String, MeshCat.SceneTrees.SceneNode}())…)), \"bbox_line_segments\" => MeshCat.SceneTrees.SceneNode(nothing, nothing, Dict{String, Vector{UInt8}}(), nothing, Dict{String, MeshCat.SceneTrees.SceneNode}(\"4\" => MeshCat.SceneTrees.SceneNode(UInt8[0x83, 0xa6, 0x6f, 0x62, 0x6a, 0x65, 0x63, 0x74, 0x84, 0xaa  …  0x73, 0x65, 0x67, 0x6d, 0x65, 0x6e, 0x74, 0x73, 0x2f, 0x34], nothing, Dict{String, Vector{UInt8}}(), nothing, Dict{String, MeshCat.SceneTrees.SceneNode}()), \"1\" => MeshCat.SceneTrees.SceneNode(UInt8[0x83, 0xa6, 0x6f, 0x62, 0x6a, 0x65, 0x63, 0x74, 0x84, 0xaa  …  0x73, 0x65, 0x67, 0x6d, 0x65, 0x6e, 0x74, 0x73, 0x2f, 0x31], nothing, Dict{String, Vector{UInt8}}(), nothing, Dict{String, MeshCat.SceneTrees.SceneNode}()), \"12\" => MeshCat.SceneTrees.SceneNode(UInt8[0x83, 0xa6, 0x6f, 0x62, 0x6a, 0x65, 0x63, 0x74, 0x84, 0xaa  …  0x65, 0x67, 0x6d, 0x65, 0x6e, 0x74, 0x73, 0x2f, 0x31, 0x32], nothing, Dict{String, Vector{UInt8}}(), nothing, Dict{String, MeshCat.SceneTrees.SceneNode}()), \"2\" => MeshCat.SceneTrees.SceneNode(UInt8[0x83, 0xa6, 0x6f, 0x62, 0x6a, 0x65, 0x63, 0x74, 0x84, 0xaa  …  0x73, 0x65, 0x67, 0x6d, 0x65, 0x6e, 0x74, 0x73, 0x2f, 0x32], nothing, Dict{String, Vector{UInt8}}(), nothing, Dict{String, MeshCat.SceneTrees.SceneNode}()), \"6\" => MeshCat.SceneTrees.SceneNode(UInt8[0x83, 0xa6, 0x6f, 0x62, 0x6a, 0x65, 0x63, 0x74, 0x84, 0xaa  …  0x73, 0x65, 0x67, 0x6d, 0x65, 0x6e, 0x74, 0x73, 0x2f, 0x36], nothing, Dict{String, Vector{UInt8}}(), nothing, Dict{String, MeshCat.SceneTrees.SceneNode}()), \"11\" => MeshCat.SceneTrees.SceneNode(UInt8[0x83, 0xa6, 0x6f, 0x62, 0x6a, 0x65, 0x63, 0x74, 0x84, 0xaa  …  0x65, 0x67, 0x6d, 0x65, 0x6e, 0x74, 0x73, 0x2f, 0x31, 0x31], nothing, Dict{String, Vector{UInt8}}(), nothing, Dict{String, MeshCat.SceneTrees.SceneNode}()), \"5\" => MeshCat.SceneTrees.SceneNode(UInt8[0x83, 0xa6, 0x6f, 0x62, 0x6a, 0x65, 0x63, 0x74, 0x84, 0xaa  …  0x73, 0x65, 0x67, 0x6d, 0x65, 0x6e, 0x74, 0x73, 0x2f, 0x35], nothing, Dict{String, Vector{UInt8}}(), nothing, Dict{String, MeshCat.SceneTrees.SceneNode}()), \"7\" => MeshCat.SceneTrees.SceneNode(UInt8[0x83, 0xa6, 0x6f, 0x62, 0x6a, 0x65, 0x63, 0x74, 0x84, 0xaa  …  0x73, 0x65, 0x67, 0x6d, 0x65, 0x6e, 0x74, 0x73, 0x2f, 0x37], nothing, Dict{String, Vector{UInt8}}(), nothing, Dict{String, MeshCat.SceneTrees.SceneNode}()), \"8\" => MeshCat.SceneTrees.SceneNode(UInt8[0x83, 0xa6, 0x6f, 0x62, 0x6a, 0x65, 0x63, 0x74, 0x84, 0xaa  …  0x73, 0x65, 0x67, 0x6d, 0x65, 0x6e, 0x74, 0x73, 0x2f, 0x38], nothing, Dict{String, Vector{UInt8}}(), nothing, Dict{String, MeshCat.SceneTrees.SceneNode}()), \"10\" => MeshCat.SceneTrees.SceneNode(UInt8[0x83, 0xa6, 0x6f, 0x62, 0x6a, 0x65, 0x63, 0x74, 0x84, 0xaa  …  0x65, 0x67, 0x6d, 0x65, 0x6e, 0x74, 0x73, 0x2f, 0x31, 0x30], nothing, Dict{String, Vector{UInt8}}(), nothing, Dict{String, MeshCat.SceneTrees.SceneNode}())…)))), \"Axes\" => MeshCat.SceneTrees.SceneNode(nothing, nothing, Dict{String, Vector{UInt8}}(), nothing, Dict{String, MeshCat.SceneTrees.SceneNode}(\"<object>\" => MeshCat.SceneTrees.SceneNode(UInt8[0x83, 0xa6, 0x6f, 0x62, 0x6a, 0x65, 0x63, 0x74, 0x84, 0xaa  …  0x73, 0x2f, 0x3c, 0x6f, 0x62, 0x6a, 0x65, 0x63, 0x74, 0x3e], UInt8[0x83, 0xa6, 0x6d, 0x61, 0x74, 0x72, 0x69, 0x78, 0xc7, 0x40  …  0x73, 0x2f, 0x3c, 0x6f, 0x62, 0x6a, 0x65, 0x63, 0x74, 0x3e], Dict{String, Vector{UInt8}}(), nothing, Dict{String, MeshCat.SceneTrees.SceneNode}()))))), Set{HTTP.WebSockets.WebSocket}(), ip\"127.0.0.1\", 8700))"
      ]
     },
     "execution_count": 7,
     "metadata": {},
     "output_type": "execute_result"
    }
   ],
   "source": [
    "draw_frame(model, frame=4)"
   ]
  },
  {
   "cell_type": "markdown",
   "metadata": {},
   "source": [
    "If one wants to see the animation of the model run, it can be done as "
   ]
  },
  {
   "cell_type": "code",
   "execution_count": 13,
   "metadata": {},
   "outputs": [
    {
     "name": "stderr",
     "output_type": "stream",
     "text": [
      "\u001b[36m\u001b[1m[ \u001b[22m\u001b[39m\u001b[36m\u001b[1mInfo: \u001b[22m\u001b[39mListening on: 127.0.0.1:8704, thread id: 1\n",
      "\u001b[36m\u001b[1m┌ \u001b[22m\u001b[39m\u001b[36m\u001b[1mInfo: \u001b[22m\u001b[39mMeshCat server started. You can open the visualizer by visiting the following URL in your browser:\n",
      "\u001b[36m\u001b[1m└ \u001b[22m\u001b[39mhttp://127.0.0.1:8704\n"
     ]
    },
    {
     "data": {
      "application/vnd.webio.node+json": {
       "children": [
        {
         "children": [
          {
           "children": [
            {
             "children": [
              {
               "children": [
                {
                 "children": [
                  {
                   "children": [
                    {
                     "children": [
                      "time"
                     ],
                     "instanceArgs": {
                      "namespace": "html",
                      "tag": "label"
                     },
                     "nodeType": "DOM",
                     "props": {
                      "className": "interact ",
                      "style": {
                       "padding": "5px 10px 0px 10px"
                      }
                     },
                     "type": "node"
                    }
                   ],
                   "instanceArgs": {
                    "namespace": "html",
                    "tag": "div"
                   },
                   "nodeType": "DOM",
                   "props": {
                    "className": "interact-flex-row-left"
                   },
                   "type": "node"
                  },
                  {
                   "children": [
                    {
                     "children": [],
                     "instanceArgs": {
                      "namespace": "html",
                      "tag": "input"
                     },
                     "nodeType": "DOM",
                     "props": {
                      "attributes": {
                       "data-bind": "numericValue: index, valueUpdate: 'input', event: {change: function (){this.changes(this.changes()+1)}}",
                       "orient": "horizontal",
                       "type": "range"
                      },
                      "className": "slider slider is-fullwidth",
                      "max": 90,
                      "min": 1,
                      "step": 1,
                      "style": {}
                     },
                     "type": "node"
                    }
                   ],
                   "instanceArgs": {
                    "namespace": "html",
                    "tag": "div"
                   },
                   "nodeType": "DOM",
                   "props": {
                    "className": "interact-flex-row-center"
                   },
                   "type": "node"
                  },
                  {
                   "children": [
                    {
                     "children": [],
                     "instanceArgs": {
                      "namespace": "html",
                      "tag": "p"
                     },
                     "nodeType": "DOM",
                     "props": {
                      "attributes": {
                       "data-bind": "text: formatted_val"
                      }
                     },
                     "type": "node"
                    }
                   ],
                   "instanceArgs": {
                    "namespace": "html",
                    "tag": "div"
                   },
                   "nodeType": "DOM",
                   "props": {
                    "className": "interact-flex-row-right"
                   },
                   "type": "node"
                  }
                 ],
                 "instanceArgs": {
                  "namespace": "html",
                  "tag": "div"
                 },
                 "nodeType": "DOM",
                 "props": {
                  "className": "interact-flex-row interact-widget"
                 },
                 "type": "node"
                }
               ],
               "instanceArgs": {
                "handlers": {
                 "changes": [
                  "(function (val){return (val!=this.model[\"changes\"]()) ? (this.valueFromJulia[\"changes\"]=true, this.model[\"changes\"](val)) : undefined})"
                 ],
                 "index": [
                  "(function (val){return (val!=this.model[\"index\"]()) ? (this.valueFromJulia[\"index\"]=true, this.model[\"index\"](val)) : undefined})"
                 ]
                },
                "id": "10839053479107613554",
                "imports": {
                 "data": [
                  {
                   "name": "knockout",
                   "type": "js",
                   "url": "/assetserver/727383f2a47bd31570b7da84eee7b022dd6d7c78-knockout.js"
                  },
                  {
                   "name": "knockout_punches",
                   "type": "js",
                   "url": "/assetserver/382b41b3b1bd9f26f75861d360bad7f8beea211f-knockout_punches.js"
                  },
                  {
                   "name": null,
                   "type": "js",
                   "url": "/assetserver/5ab20f1060420992a9b82a65b735dee4d81ef413-all.js"
                  },
                  {
                   "name": null,
                   "type": "css",
                   "url": "/assetserver/1cc0ed62837210b80a182cc3676512f895dab686-style.css"
                  },
                  {
                   "name": null,
                   "type": "css",
                   "url": "/assetserver/2eee816f616df3549d7044d45e744fbf8d42bfa1-bulma_confined.min.css"
                  }
                 ],
                 "type": "async_block"
                },
                "mount_callbacks": [
                 "function () {\n    var handler = (function (ko, koPunches) {\n    ko.punches.enableAll();\n    ko.bindingHandlers.numericValue = {\n        init: function(element, valueAccessor, allBindings, data, context) {\n            var stringified = ko.observable(ko.unwrap(valueAccessor()));\n            stringified.subscribe(function(value) {\n                var val = parseFloat(value);\n                if (!isNaN(val)) {\n                    valueAccessor()(val);\n                }\n            });\n            valueAccessor().subscribe(function(value) {\n                var str = JSON.stringify(value);\n                if ((str == \"0\") && ([\"-0\", \"-0.\"].indexOf(stringified()) >= 0))\n                     return;\n                 if ([\"null\", \"\"].indexOf(str) >= 0)\n                     return;\n                stringified(str);\n            });\n            ko.applyBindingsToNode(\n                element,\n                {\n                    value: stringified,\n                    valueUpdate: allBindings.get('valueUpdate'),\n                },\n                context,\n            );\n        }\n    };\n    var json_data = {\"formatted_vals\":[\"1\",\"2\",\"3\",\"4\",\"5\",\"6\",\"7\",\"8\",\"9\",\"10\",\"11\",\"12\",\"13\",\"14\",\"15\",\"16\",\"17\",\"18\",\"19\",\"20\",\"21\",\"22\",\"23\",\"24\",\"25\",\"26\",\"27\",\"28\",\"29\",\"30\",\"31\",\"32\",\"33\",\"34\",\"35\",\"36\",\"37\",\"38\",\"39\",\"40\",\"41\",\"42\",\"43\",\"44\",\"45\",\"46\",\"47\",\"48\",\"49\",\"50\",\"51\",\"52\",\"53\",\"54\",\"55\",\"56\",\"57\",\"58\",\"59\",\"60\",\"61\",\"62\",\"63\",\"64\",\"65\",\"66\",\"67\",\"68\",\"69\",\"70\",\"71\",\"72\",\"73\",\"74\",\"75\",\"76\",\"77\",\"78\",\"79\",\"80\",\"81\",\"82\",\"83\",\"84\",\"85\",\"86\",\"87\",\"88\",\"89\",\"90\"],\"changes\":WebIO.getval({\"name\":\"changes\",\"scope\":\"10839053479107613554\",\"id\":\"1204213979841075776\",\"type\":\"observable\"}),\"index\":WebIO.getval({\"name\":\"index\",\"scope\":\"10839053479107613554\",\"id\":\"18287221480198680028\",\"type\":\"observable\"})};\n    var self = this;\n    function AppViewModel() {\n        for (var key in json_data) {\n            var el = json_data[key];\n            this[key] = Array.isArray(el) ? ko.observableArray(el) : ko.observable(el);\n        }\n        \n        [this[\"formatted_val\"]=ko.computed(    function(){\n        return this.formatted_vals()[parseInt(this.index())-(1)];\n    }\n,this)]\n        [this[\"changes\"].subscribe((function (val){!(this.valueFromJulia[\"changes\"]) ? (WebIO.setval({\"name\":\"changes\",\"scope\":\"10839053479107613554\",\"id\":\"1204213979841075776\",\"type\":\"observable\"},val)) : undefined; return this.valueFromJulia[\"changes\"]=false}),self),this[\"index\"].subscribe((function (val){!(this.valueFromJulia[\"index\"]) ? (WebIO.setval({\"name\":\"index\",\"scope\":\"10839053479107613554\",\"id\":\"18287221480198680028\",\"type\":\"observable\"},val)) : undefined; return this.valueFromJulia[\"index\"]=false}),self)]\n        \n    }\n    self.model = new AppViewModel();\n    self.valueFromJulia = {};\n    for (var key in json_data) {\n        self.valueFromJulia[key] = false;\n    }\n    ko.applyBindings(self.model, self.dom);\n}\n);\n    (WebIO.importBlock({\"data\":[{\"name\":\"knockout\",\"type\":\"js\",\"url\":\"/assetserver/727383f2a47bd31570b7da84eee7b022dd6d7c78-knockout.js\"},{\"name\":\"knockout_punches\",\"type\":\"js\",\"url\":\"/assetserver/382b41b3b1bd9f26f75861d360bad7f8beea211f-knockout_punches.js\"}],\"type\":\"async_block\"})).then((imports) => handler.apply(this, imports));\n}\n"
                ],
                "observables": {
                 "changes": {
                  "id": "1204213979841075776",
                  "sync": false,
                  "value": 0
                 },
                 "index": {
                  "id": "18287221480198680028",
                  "sync": true,
                  "value": 45
                 }
                },
                "systemjs_options": null
               },
               "nodeType": "Scope",
               "props": {},
               "type": "node"
              }
             ],
             "instanceArgs": {
              "namespace": "html",
              "tag": "div"
             },
             "nodeType": "DOM",
             "props": {
              "className": "field interact-widget"
             },
             "type": "node"
            },
            {
             "children": [
              {
               "children": [
                {
                 "children": [
                  {
                   "children": [
                    {
                     "children": [
                      "scale"
                     ],
                     "instanceArgs": {
                      "namespace": "html",
                      "tag": "label"
                     },
                     "nodeType": "DOM",
                     "props": {
                      "className": "interact ",
                      "style": {
                       "padding": "5px 10px 0px 10px"
                      }
                     },
                     "type": "node"
                    }
                   ],
                   "instanceArgs": {
                    "namespace": "html",
                    "tag": "div"
                   },
                   "nodeType": "DOM",
                   "props": {
                    "className": "interact-flex-row-left"
                   },
                   "type": "node"
                  },
                  {
                   "children": [
                    {
                     "children": [],
                     "instanceArgs": {
                      "namespace": "html",
                      "tag": "input"
                     },
                     "nodeType": "DOM",
                     "props": {
                      "attributes": {
                       "data-bind": "numericValue: index, valueUpdate: 'input', event: {change: function (){this.changes(this.changes()+1)}}",
                       "orient": "horizontal",
                       "type": "range"
                      },
                      "className": "slider slider is-fullwidth",
                      "max": 20,
                      "min": 1,
                      "step": 1,
                      "style": {}
                     },
                     "type": "node"
                    }
                   ],
                   "instanceArgs": {
                    "namespace": "html",
                    "tag": "div"
                   },
                   "nodeType": "DOM",
                   "props": {
                    "className": "interact-flex-row-center"
                   },
                   "type": "node"
                  },
                  {
                   "children": [
                    {
                     "children": [],
                     "instanceArgs": {
                      "namespace": "html",
                      "tag": "p"
                     },
                     "nodeType": "DOM",
                     "props": {
                      "attributes": {
                       "data-bind": "text: formatted_val"
                      }
                     },
                     "type": "node"
                    }
                   ],
                   "instanceArgs": {
                    "namespace": "html",
                    "tag": "div"
                   },
                   "nodeType": "DOM",
                   "props": {
                    "className": "interact-flex-row-right"
                   },
                   "type": "node"
                  }
                 ],
                 "instanceArgs": {
                  "namespace": "html",
                  "tag": "div"
                 },
                 "nodeType": "DOM",
                 "props": {
                  "className": "interact-flex-row interact-widget"
                 },
                 "type": "node"
                }
               ],
               "instanceArgs": {
                "handlers": {
                 "changes": [
                  "(function (val){return (val!=this.model[\"changes\"]()) ? (this.valueFromJulia[\"changes\"]=true, this.model[\"changes\"](val)) : undefined})"
                 ],
                 "index": [
                  "(function (val){return (val!=this.model[\"index\"]()) ? (this.valueFromJulia[\"index\"]=true, this.model[\"index\"](val)) : undefined})"
                 ]
                },
                "id": "9398971158352197059",
                "imports": {
                 "data": [
                  {
                   "name": "knockout",
                   "type": "js",
                   "url": "/assetserver/727383f2a47bd31570b7da84eee7b022dd6d7c78-knockout.js"
                  },
                  {
                   "name": "knockout_punches",
                   "type": "js",
                   "url": "/assetserver/382b41b3b1bd9f26f75861d360bad7f8beea211f-knockout_punches.js"
                  },
                  {
                   "name": null,
                   "type": "js",
                   "url": "/assetserver/5ab20f1060420992a9b82a65b735dee4d81ef413-all.js"
                  },
                  {
                   "name": null,
                   "type": "css",
                   "url": "/assetserver/1cc0ed62837210b80a182cc3676512f895dab686-style.css"
                  },
                  {
                   "name": null,
                   "type": "css",
                   "url": "/assetserver/2eee816f616df3549d7044d45e744fbf8d42bfa1-bulma_confined.min.css"
                  }
                 ],
                 "type": "async_block"
                },
                "mount_callbacks": [
                 "function () {\n    var handler = (function (ko, koPunches) {\n    ko.punches.enableAll();\n    ko.bindingHandlers.numericValue = {\n        init: function(element, valueAccessor, allBindings, data, context) {\n            var stringified = ko.observable(ko.unwrap(valueAccessor()));\n            stringified.subscribe(function(value) {\n                var val = parseFloat(value);\n                if (!isNaN(val)) {\n                    valueAccessor()(val);\n                }\n            });\n            valueAccessor().subscribe(function(value) {\n                var str = JSON.stringify(value);\n                if ((str == \"0\") && ([\"-0\", \"-0.\"].indexOf(stringified()) >= 0))\n                     return;\n                 if ([\"null\", \"\"].indexOf(str) >= 0)\n                     return;\n                stringified(str);\n            });\n            ko.applyBindingsToNode(\n                element,\n                {\n                    value: stringified,\n                    valueUpdate: allBindings.get('valueUpdate'),\n                },\n                context,\n            );\n        }\n    };\n    var json_data = {\"formatted_vals\":[\"0.1\",\"0.2\",\"0.3\",\"0.4\",\"0.5\",\"0.6\",\"0.7\",\"0.8\",\"0.9\",\"1.0\",\"1.1\",\"1.2\",\"1.3\",\"1.4\",\"1.5\",\"1.6\",\"1.7\",\"1.8\",\"1.9\",\"2.0\"],\"changes\":WebIO.getval({\"name\":\"changes\",\"scope\":\"9398971158352197059\",\"id\":\"16651796564896651693\",\"type\":\"observable\"}),\"index\":WebIO.getval({\"name\":\"index\",\"scope\":\"9398971158352197059\",\"id\":\"15070718849376184909\",\"type\":\"observable\"})};\n    var self = this;\n    function AppViewModel() {\n        for (var key in json_data) {\n            var el = json_data[key];\n            this[key] = Array.isArray(el) ? ko.observableArray(el) : ko.observable(el);\n        }\n        \n        [this[\"formatted_val\"]=ko.computed(    function(){\n        return this.formatted_vals()[parseInt(this.index())-(1)];\n    }\n,this)]\n        [this[\"changes\"].subscribe((function (val){!(this.valueFromJulia[\"changes\"]) ? (WebIO.setval({\"name\":\"changes\",\"scope\":\"9398971158352197059\",\"id\":\"16651796564896651693\",\"type\":\"observable\"},val)) : undefined; return this.valueFromJulia[\"changes\"]=false}),self),this[\"index\"].subscribe((function (val){!(this.valueFromJulia[\"index\"]) ? (WebIO.setval({\"name\":\"index\",\"scope\":\"9398971158352197059\",\"id\":\"15070718849376184909\",\"type\":\"observable\"},val)) : undefined; return this.valueFromJulia[\"index\"]=false}),self)]\n        \n    }\n    self.model = new AppViewModel();\n    self.valueFromJulia = {};\n    for (var key in json_data) {\n        self.valueFromJulia[key] = false;\n    }\n    ko.applyBindings(self.model, self.dom);\n}\n);\n    (WebIO.importBlock({\"data\":[{\"name\":\"knockout\",\"type\":\"js\",\"url\":\"/assetserver/727383f2a47bd31570b7da84eee7b022dd6d7c78-knockout.js\"},{\"name\":\"knockout_punches\",\"type\":\"js\",\"url\":\"/assetserver/382b41b3b1bd9f26f75861d360bad7f8beea211f-knockout_punches.js\"}],\"type\":\"async_block\"})).then((imports) => handler.apply(this, imports));\n}\n"
                ],
                "observables": {
                 "changes": {
                  "id": "16651796564896651693",
                  "sync": false,
                  "value": 0
                 },
                 "index": {
                  "id": "15070718849376184909",
                  "sync": true,
                  "value": 10
                 }
                },
                "systemjs_options": null
               },
               "nodeType": "Scope",
               "props": {},
               "type": "node"
              }
             ],
             "instanceArgs": {
              "namespace": "html",
              "tag": "div"
             },
             "nodeType": "DOM",
             "props": {
              "className": "field interact-widget"
             },
             "type": "node"
            },
            {
             "children": [
              {
               "children": [
                {
                 "children": [
                  {
                   "children": [],
                   "instanceArgs": {
                    "namespace": "html",
                    "tag": "div"
                   },
                   "nodeType": "DOM",
                   "props": {
                    "id": "container"
                   },
                   "type": "node"
                  }
                 ],
                 "instanceArgs": {
                  "handlers": {
                   "value": [
                    "(function (txt){return this.k.render(txt,this.container)})"
                   ]
                  },
                  "id": "10458075285476516034",
                  "imports": {
                   "data": [
                    {
                     "name": null,
                     "type": "js",
                     "url": "/assetserver/dd22ed1bf1896c2748f3fe616ce0b838adc895c1-katex.min.js"
                    },
                    {
                     "name": null,
                     "type": "css",
                     "url": "/assetserver/46517a424aa5e6cffc1360d7e0848b601c584ee3-katex.min.css"
                    }
                   ],
                   "type": "async_block"
                  },
                  "mount_callbacks": [
                   "function () {\n    var handler = ((function (k){this.k=k; this.container=this.dom.querySelector(\"#container\"); return k.render(\"\\\\;\\\\;\",this.container)}));\n    (WebIO.importBlock({\"data\":[{\"name\":null,\"type\":\"js\",\"url\":\"/assetserver/dd22ed1bf1896c2748f3fe616ce0b838adc895c1-katex.min.js\"},{\"name\":null,\"type\":\"css\",\"url\":\"/assetserver/46517a424aa5e6cffc1360d7e0848b601c584ee3-katex.min.css\"}],\"type\":\"async_block\"})).then((imports) => handler.apply(this, imports));\n}\n"
                  ],
                  "observables": {
                   "value": {
                    "id": "15938430177308403391",
                    "sync": false,
                    "value": "\\;\\;"
                   }
                  },
                  "systemjs_options": null
                 },
                 "nodeType": "Scope",
                 "props": {},
                 "type": "node"
                }
               ],
               "instanceArgs": {
                "namespace": "html",
                "tag": "div"
               },
               "nodeType": "DOM",
               "props": {
                "className": "interact-widget"
               },
               "type": "node"
              },
              {
               "children": [
                {
                 "children": [
                  {
                   "children": [
                    "run"
                   ],
                   "instanceArgs": {
                    "namespace": "html",
                    "tag": "button"
                   },
                   "nodeType": "DOM",
                   "props": {
                    "attributes": {
                     "data-bind": "click: function (){this.clicks(this.clicks()+1)}, css: {'is-loading' : loading}"
                    },
                    "className": "is-medium button is-primary",
                    "style": {}
                   },
                   "type": "node"
                  }
                 ],
                 "instanceArgs": {
                  "handlers": {
                   "clicks": [
                    "(function (val){return (val!=this.model[\"clicks\"]()) ? (this.valueFromJulia[\"clicks\"]=true, this.model[\"clicks\"](val)) : undefined})"
                   ],
                   "loading": [
                    "(function (val){return (val!=this.model[\"loading\"]()) ? (this.valueFromJulia[\"loading\"]=true, this.model[\"loading\"](val)) : undefined})"
                   ]
                  },
                  "id": "2622321394928731236",
                  "imports": {
                   "data": [
                    {
                     "name": "knockout",
                     "type": "js",
                     "url": "/assetserver/727383f2a47bd31570b7da84eee7b022dd6d7c78-knockout.js"
                    },
                    {
                     "name": "knockout_punches",
                     "type": "js",
                     "url": "/assetserver/382b41b3b1bd9f26f75861d360bad7f8beea211f-knockout_punches.js"
                    },
                    {
                     "name": null,
                     "type": "js",
                     "url": "/assetserver/5ab20f1060420992a9b82a65b735dee4d81ef413-all.js"
                    },
                    {
                     "name": null,
                     "type": "css",
                     "url": "/assetserver/1cc0ed62837210b80a182cc3676512f895dab686-style.css"
                    },
                    {
                     "name": null,
                     "type": "css",
                     "url": "/assetserver/2eee816f616df3549d7044d45e744fbf8d42bfa1-bulma_confined.min.css"
                    }
                   ],
                   "type": "async_block"
                  },
                  "mount_callbacks": [
                   "function () {\n    var handler = (function (ko, koPunches) {\n    ko.punches.enableAll();\n    ko.bindingHandlers.numericValue = {\n        init: function(element, valueAccessor, allBindings, data, context) {\n            var stringified = ko.observable(ko.unwrap(valueAccessor()));\n            stringified.subscribe(function(value) {\n                var val = parseFloat(value);\n                if (!isNaN(val)) {\n                    valueAccessor()(val);\n                }\n            });\n            valueAccessor().subscribe(function(value) {\n                var str = JSON.stringify(value);\n                if ((str == \"0\") && ([\"-0\", \"-0.\"].indexOf(stringified()) >= 0))\n                     return;\n                 if ([\"null\", \"\"].indexOf(str) >= 0)\n                     return;\n                stringified(str);\n            });\n            ko.applyBindingsToNode(\n                element,\n                {\n                    value: stringified,\n                    valueUpdate: allBindings.get('valueUpdate'),\n                },\n                context,\n            );\n        }\n    };\n    var json_data = {\"loading\":WebIO.getval({\"name\":\"loading\",\"scope\":\"2622321394928731236\",\"id\":\"7800332222887076564\",\"type\":\"observable\"}),\"clicks\":WebIO.getval({\"name\":\"clicks\",\"scope\":\"2622321394928731236\",\"id\":\"14601536911652936284\",\"type\":\"observable\"})};\n    var self = this;\n    function AppViewModel() {\n        for (var key in json_data) {\n            var el = json_data[key];\n            this[key] = Array.isArray(el) ? ko.observableArray(el) : ko.observable(el);\n        }\n        \n        \n        [this[\"loading\"].subscribe((function (val){!(this.valueFromJulia[\"loading\"]) ? (WebIO.setval({\"name\":\"loading\",\"scope\":\"2622321394928731236\",\"id\":\"7800332222887076564\",\"type\":\"observable\"},val)) : undefined; return this.valueFromJulia[\"loading\"]=false}),self),this[\"clicks\"].subscribe((function (val){!(this.valueFromJulia[\"clicks\"]) ? (WebIO.setval({\"name\":\"clicks\",\"scope\":\"2622321394928731236\",\"id\":\"14601536911652936284\",\"type\":\"observable\"},val)) : undefined; return this.valueFromJulia[\"clicks\"]=false}),self)]\n        \n    }\n    self.model = new AppViewModel();\n    self.valueFromJulia = {};\n    for (var key in json_data) {\n        self.valueFromJulia[key] = false;\n    }\n    ko.applyBindings(self.model, self.dom);\n}\n);\n    (WebIO.importBlock({\"data\":[{\"name\":\"knockout\",\"type\":\"js\",\"url\":\"/assetserver/727383f2a47bd31570b7da84eee7b022dd6d7c78-knockout.js\"},{\"name\":\"knockout_punches\",\"type\":\"js\",\"url\":\"/assetserver/382b41b3b1bd9f26f75861d360bad7f8beea211f-knockout_punches.js\"}],\"type\":\"async_block\"})).then((imports) => handler.apply(this, imports));\n}\n"
                  ],
                  "observables": {
                   "clicks": {
                    "id": "14601536911652936284",
                    "sync": true,
                    "value": 0
                   },
                   "loading": {
                    "id": "7800332222887076564",
                    "sync": false,
                    "value": false
                   }
                  },
                  "systemjs_options": null
                 },
                 "nodeType": "Scope",
                 "props": {},
                 "type": "node"
                }
               ],
               "instanceArgs": {
                "namespace": "html",
                "tag": "div"
               },
               "nodeType": "DOM",
               "props": {
                "className": "field interact-widget"
               },
               "type": "node"
              },
              {
               "children": [
                {
                 "children": [
                  {
                   "children": [],
                   "instanceArgs": {
                    "namespace": "html",
                    "tag": "div"
                   },
                   "nodeType": "DOM",
                   "props": {
                    "id": "container"
                   },
                   "type": "node"
                  }
                 ],
                 "instanceArgs": {
                  "handlers": {
                   "value": [
                    "(function (txt){return this.k.render(txt,this.container)})"
                   ]
                  },
                  "id": "10458075285476516034",
                  "imports": {
                   "data": [
                    {
                     "name": null,
                     "type": "js",
                     "url": "/assetserver/dd22ed1bf1896c2748f3fe616ce0b838adc895c1-katex.min.js"
                    },
                    {
                     "name": null,
                     "type": "css",
                     "url": "/assetserver/46517a424aa5e6cffc1360d7e0848b601c584ee3-katex.min.css"
                    }
                   ],
                   "type": "async_block"
                  },
                  "mount_callbacks": [
                   "function () {\n    var handler = ((function (k){this.k=k; this.container=this.dom.querySelector(\"#container\"); return k.render(\"\\\\;\\\\;\",this.container)}));\n    (WebIO.importBlock({\"data\":[{\"name\":null,\"type\":\"js\",\"url\":\"/assetserver/dd22ed1bf1896c2748f3fe616ce0b838adc895c1-katex.min.js\"},{\"name\":null,\"type\":\"css\",\"url\":\"/assetserver/46517a424aa5e6cffc1360d7e0848b601c584ee3-katex.min.css\"}],\"type\":\"async_block\"})).then((imports) => handler.apply(this, imports));\n}\n"
                  ],
                  "observables": {
                   "value": {
                    "id": "15938430177308403391",
                    "sync": false,
                    "value": "\\;\\;"
                   }
                  },
                  "systemjs_options": null
                 },
                 "nodeType": "Scope",
                 "props": {},
                 "type": "node"
                }
               ],
               "instanceArgs": {
                "namespace": "html",
                "tag": "div"
               },
               "nodeType": "DOM",
               "props": {
                "className": "interact-widget"
               },
               "type": "node"
              },
              {
               "children": [
                {
                 "children": [
                  {
                   "children": [
                    "stop"
                   ],
                   "instanceArgs": {
                    "namespace": "html",
                    "tag": "button"
                   },
                   "nodeType": "DOM",
                   "props": {
                    "attributes": {
                     "data-bind": "click: function (){this.clicks(this.clicks()+1)}, css: {'is-loading' : loading}"
                    },
                    "className": "is-medium button is-primary",
                    "style": {}
                   },
                   "type": "node"
                  }
                 ],
                 "instanceArgs": {
                  "handlers": {
                   "clicks": [
                    "(function (val){return (val!=this.model[\"clicks\"]()) ? (this.valueFromJulia[\"clicks\"]=true, this.model[\"clicks\"](val)) : undefined})"
                   ],
                   "loading": [
                    "(function (val){return (val!=this.model[\"loading\"]()) ? (this.valueFromJulia[\"loading\"]=true, this.model[\"loading\"](val)) : undefined})"
                   ]
                  },
                  "id": "2955051059805834124",
                  "imports": {
                   "data": [
                    {
                     "name": "knockout",
                     "type": "js",
                     "url": "/assetserver/727383f2a47bd31570b7da84eee7b022dd6d7c78-knockout.js"
                    },
                    {
                     "name": "knockout_punches",
                     "type": "js",
                     "url": "/assetserver/382b41b3b1bd9f26f75861d360bad7f8beea211f-knockout_punches.js"
                    },
                    {
                     "name": null,
                     "type": "js",
                     "url": "/assetserver/5ab20f1060420992a9b82a65b735dee4d81ef413-all.js"
                    },
                    {
                     "name": null,
                     "type": "css",
                     "url": "/assetserver/1cc0ed62837210b80a182cc3676512f895dab686-style.css"
                    },
                    {
                     "name": null,
                     "type": "css",
                     "url": "/assetserver/2eee816f616df3549d7044d45e744fbf8d42bfa1-bulma_confined.min.css"
                    }
                   ],
                   "type": "async_block"
                  },
                  "mount_callbacks": [
                   "function () {\n    var handler = (function (ko, koPunches) {\n    ko.punches.enableAll();\n    ko.bindingHandlers.numericValue = {\n        init: function(element, valueAccessor, allBindings, data, context) {\n            var stringified = ko.observable(ko.unwrap(valueAccessor()));\n            stringified.subscribe(function(value) {\n                var val = parseFloat(value);\n                if (!isNaN(val)) {\n                    valueAccessor()(val);\n                }\n            });\n            valueAccessor().subscribe(function(value) {\n                var str = JSON.stringify(value);\n                if ((str == \"0\") && ([\"-0\", \"-0.\"].indexOf(stringified()) >= 0))\n                     return;\n                 if ([\"null\", \"\"].indexOf(str) >= 0)\n                     return;\n                stringified(str);\n            });\n            ko.applyBindingsToNode(\n                element,\n                {\n                    value: stringified,\n                    valueUpdate: allBindings.get('valueUpdate'),\n                },\n                context,\n            );\n        }\n    };\n    var json_data = {\"loading\":WebIO.getval({\"name\":\"loading\",\"scope\":\"2955051059805834124\",\"id\":\"4530677131926339682\",\"type\":\"observable\"}),\"clicks\":WebIO.getval({\"name\":\"clicks\",\"scope\":\"2955051059805834124\",\"id\":\"9673801962214078705\",\"type\":\"observable\"})};\n    var self = this;\n    function AppViewModel() {\n        for (var key in json_data) {\n            var el = json_data[key];\n            this[key] = Array.isArray(el) ? ko.observableArray(el) : ko.observable(el);\n        }\n        \n        \n        [this[\"loading\"].subscribe((function (val){!(this.valueFromJulia[\"loading\"]) ? (WebIO.setval({\"name\":\"loading\",\"scope\":\"2955051059805834124\",\"id\":\"4530677131926339682\",\"type\":\"observable\"},val)) : undefined; return this.valueFromJulia[\"loading\"]=false}),self),this[\"clicks\"].subscribe((function (val){!(this.valueFromJulia[\"clicks\"]) ? (WebIO.setval({\"name\":\"clicks\",\"scope\":\"2955051059805834124\",\"id\":\"9673801962214078705\",\"type\":\"observable\"},val)) : undefined; return this.valueFromJulia[\"clicks\"]=false}),self)]\n        \n    }\n    self.model = new AppViewModel();\n    self.valueFromJulia = {};\n    for (var key in json_data) {\n        self.valueFromJulia[key] = false;\n    }\n    ko.applyBindings(self.model, self.dom);\n}\n);\n    (WebIO.importBlock({\"data\":[{\"name\":\"knockout\",\"type\":\"js\",\"url\":\"/assetserver/727383f2a47bd31570b7da84eee7b022dd6d7c78-knockout.js\"},{\"name\":\"knockout_punches\",\"type\":\"js\",\"url\":\"/assetserver/382b41b3b1bd9f26f75861d360bad7f8beea211f-knockout_punches.js\"}],\"type\":\"async_block\"})).then((imports) => handler.apply(this, imports));\n}\n"
                  ],
                  "observables": {
                   "clicks": {
                    "id": "9673801962214078705",
                    "sync": true,
                    "value": 0
                   },
                   "loading": {
                    "id": "4530677131926339682",
                    "sync": false,
                    "value": false
                   }
                  },
                  "systemjs_options": null
                 },
                 "nodeType": "Scope",
                 "props": {},
                 "type": "node"
                }
               ],
               "instanceArgs": {
                "namespace": "html",
                "tag": "div"
               },
               "nodeType": "DOM",
               "props": {
                "className": "field interact-widget"
               },
               "type": "node"
              }
             ],
             "instanceArgs": {
              "namespace": "html",
              "tag": "div"
             },
             "nodeType": "DOM",
             "props": {
              "style": {
               "display": "flex",
               "flex-direction": "row"
              }
             },
             "type": "node"
            }
           ],
           "instanceArgs": {
            "namespace": "html",
            "tag": "div"
           },
           "nodeType": "DOM",
           "props": {
            "style": {
             "display": "flex",
             "flex-direction": "column"
            }
           },
           "type": "node"
          },
          {
           "children": [
            {
             "children": [],
             "instanceArgs": {
              "namespace": "html",
              "tag": "div"
             },
             "nodeType": "DOM",
             "props": {
              "className": "webio-observable",
              "setInnerHtml": "    <div style=\"height: 500px; width: 100%; overflow-x: auto; overflow-y: hidden; resize: both\">\n    <iframe src=\"http://127.0.0.1:8704\" style=\"width: 100%; height: 100%; border: none\"></iframe>\n    </div>\n"
             },
             "type": "node"
            }
           ],
           "instanceArgs": {
            "handlers": {
             "obs-output": [
              "function (value, scope) {\n    scope.setInnerHTML(value);\n}\n"
             ]
            },
            "id": "1467781342088500881",
            "imports": {
             "data": [],
             "type": "async_block"
            },
            "mount_callbacks": [],
            "observables": {
             "obs-output": {
              "id": "4994398179593385985",
              "sync": false,
              "value": "    <div style=\"height: 500px; width: 100%; overflow-x: auto; overflow-y: hidden; resize: both\">\n    <iframe src=\"http://127.0.0.1:8704\" style=\"width: 100%; height: 100%; border: none\"></iframe>\n    </div>\n"
             }
            },
            "systemjs_options": null
           },
           "nodeType": "Scope",
           "props": {},
           "type": "node"
          },
          {
           "children": [
            {
             "children": [
              {
               "children": [],
               "instanceArgs": {
                "namespace": "html",
                "tag": "div"
               },
               "nodeType": "DOM",
               "props": {
                "id": "container"
               },
               "type": "node"
              }
             ],
             "instanceArgs": {
              "handlers": {
               "value": [
                "(function (txt){return this.k.render(txt,this.container)})"
               ]
              },
              "id": "10458075285476516034",
              "imports": {
               "data": [
                {
                 "name": null,
                 "type": "js",
                 "url": "/assetserver/dd22ed1bf1896c2748f3fe616ce0b838adc895c1-katex.min.js"
                },
                {
                 "name": null,
                 "type": "css",
                 "url": "/assetserver/46517a424aa5e6cffc1360d7e0848b601c584ee3-katex.min.css"
                }
               ],
               "type": "async_block"
              },
              "mount_callbacks": [
               "function () {\n    var handler = ((function (k){this.k=k; this.container=this.dom.querySelector(\"#container\"); return k.render(\"\\\\;\\\\;\",this.container)}));\n    (WebIO.importBlock({\"data\":[{\"name\":null,\"type\":\"js\",\"url\":\"/assetserver/dd22ed1bf1896c2748f3fe616ce0b838adc895c1-katex.min.js\"},{\"name\":null,\"type\":\"css\",\"url\":\"/assetserver/46517a424aa5e6cffc1360d7e0848b601c584ee3-katex.min.css\"}],\"type\":\"async_block\"})).then((imports) => handler.apply(this, imports));\n}\n"
              ],
              "observables": {
               "value": {
                "id": "15938430177308403391",
                "sync": false,
                "value": "\\;\\;"
               }
              },
              "systemjs_options": null
             },
             "nodeType": "Scope",
             "props": {},
             "type": "node"
            }
           ],
           "instanceArgs": {
            "namespace": "html",
            "tag": "div"
           },
           "nodeType": "DOM",
           "props": {
            "className": "interact-widget"
           },
           "type": "node"
          },
          {
           "children": [],
           "instanceArgs": {
            "namespace": "html",
            "tag": "div"
           },
           "nodeType": "DOM",
           "props": {
            "style": {
             "display": "flex",
             "flex-direction": "column"
            }
           },
           "type": "node"
          }
         ],
         "instanceArgs": {
          "namespace": "html",
          "tag": "div"
         },
         "nodeType": "DOM",
         "props": {
          "style": {
           "display": "flex",
           "flex-direction": "row"
          }
         },
         "type": "node"
        }
       ],
       "instanceArgs": {
        "namespace": "html",
        "tag": "div"
       },
       "nodeType": "DOM",
       "props": {
        "style": {
         "display": "flex",
         "flex-direction": "column"
        }
       },
       "type": "node"
      },
      "text/html": [
       "<div\n",
       "    class=\"webio-mountpoint\"\n",
       "    data-webio-mountpoint=\"4494665255848037903\"\n",
       ">\n",
       "    <script>\n",
       "    (function(){\n",
       "    // Some integrations (namely, IJulia/Jupyter) use an alternate render pathway than\n",
       "    // just putting the html on the page. If WebIO isn't defined, then it's pretty likely\n",
       "    // that we're in one of those situations and the integration just isn't installed\n",
       "    // correctly.\n",
       "    if (typeof window.WebIO === \"undefined\") {\n",
       "        document\n",
       "            .querySelector('[data-webio-mountpoint=\"4494665255848037903\"]')\n",
       "            .innerHTML = (\n",
       "                '<div style=\"padding: 1em; background-color: #f8d6da; border: 1px solid #f5c6cb; font-weight: bold;\">' +\n",
       "                '<p><strong>WebIO not detected.</strong></p>' +\n",
       "                '<p>Please read ' +\n",
       "                '<a href=\"https://juliagizmos.github.io/WebIO.jl/latest/troubleshooting/not-detected/\" target=\"_blank\">the troubleshooting guide</a> ' +\n",
       "                'for more information on how to resolve this issue.</p>' +\n",
       "                '<p><a href=\"https://juliagizmos.github.io/WebIO.jl/latest/troubleshooting/not-detected/\" target=\"_blank\">https://juliagizmos.github.io/WebIO.jl/latest/troubleshooting/not-detected/</a></p>' +\n",
       "                '</div>'\n",
       "            );\n",
       "        return;\n",
       "    }\n",
       "    WebIO.mount(\n",
       "        document.querySelector('[data-webio-mountpoint=\"4494665255848037903\"]'),\n",
       "        {\"props\":{\"style\":{\"display\":\"flex\",\"flex-direction\":\"column\"}},\"nodeType\":\"DOM\",\"type\":\"node\",\"instanceArgs\":{\"namespace\":\"html\",\"tag\":\"div\"},\"children\":[{\"props\":{\"style\":{\"display\":\"flex\",\"flex-direction\":\"row\"}},\"nodeType\":\"DOM\",\"type\":\"node\",\"instanceArgs\":{\"namespace\":\"html\",\"tag\":\"div\"},\"children\":[{\"props\":{\"style\":{\"display\":\"flex\",\"flex-direction\":\"column\"}},\"nodeType\":\"DOM\",\"type\":\"node\",\"instanceArgs\":{\"namespace\":\"html\",\"tag\":\"div\"},\"children\":[{\"props\":{\"className\":\"field interact-widget\"},\"nodeType\":\"DOM\",\"type\":\"node\",\"instanceArgs\":{\"namespace\":\"html\",\"tag\":\"div\"},\"children\":[{\"props\":{},\"nodeType\":\"Scope\",\"type\":\"node\",\"instanceArgs\":{\"imports\":{\"data\":[{\"name\":\"knockout\",\"type\":\"js\",\"url\":\"\\/assetserver\\/727383f2a47bd31570b7da84eee7b022dd6d7c78-knockout.js\"},{\"name\":\"knockout_punches\",\"type\":\"js\",\"url\":\"\\/assetserver\\/382b41b3b1bd9f26f75861d360bad7f8beea211f-knockout_punches.js\"},{\"name\":null,\"type\":\"js\",\"url\":\"\\/assetserver\\/5ab20f1060420992a9b82a65b735dee4d81ef413-all.js\"},{\"name\":null,\"type\":\"css\",\"url\":\"\\/assetserver\\/1cc0ed62837210b80a182cc3676512f895dab686-style.css\"},{\"name\":null,\"type\":\"css\",\"url\":\"\\/assetserver\\/2eee816f616df3549d7044d45e744fbf8d42bfa1-bulma_confined.min.css\"}],\"type\":\"async_block\"},\"id\":\"10839053479107613554\",\"handlers\":{\"changes\":[\"(function (val){return (val!=this.model[\\\"changes\\\"]()) ? (this.valueFromJulia[\\\"changes\\\"]=true, this.model[\\\"changes\\\"](val)) : undefined})\"],\"index\":[\"(function (val){return (val!=this.model[\\\"index\\\"]()) ? (this.valueFromJulia[\\\"index\\\"]=true, this.model[\\\"index\\\"](val)) : undefined})\"]},\"systemjs_options\":null,\"mount_callbacks\":[\"function () {\\n    var handler = (function (ko, koPunches) {\\n    ko.punches.enableAll();\\n    ko.bindingHandlers.numericValue = {\\n        init: function(element, valueAccessor, allBindings, data, context) {\\n            var stringified = ko.observable(ko.unwrap(valueAccessor()));\\n            stringified.subscribe(function(value) {\\n                var val = parseFloat(value);\\n                if (!isNaN(val)) {\\n                    valueAccessor()(val);\\n                }\\n            });\\n            valueAccessor().subscribe(function(value) {\\n                var str = JSON.stringify(value);\\n                if ((str == \\\"0\\\") && ([\\\"-0\\\", \\\"-0.\\\"].indexOf(stringified()) >= 0))\\n                     return;\\n                 if ([\\\"null\\\", \\\"\\\"].indexOf(str) >= 0)\\n                     return;\\n                stringified(str);\\n            });\\n            ko.applyBindingsToNode(\\n                element,\\n                {\\n                    value: stringified,\\n                    valueUpdate: allBindings.get('valueUpdate'),\\n                },\\n                context,\\n            );\\n        }\\n    };\\n    var json_data = {\\\"formatted_vals\\\":[\\\"1\\\",\\\"2\\\",\\\"3\\\",\\\"4\\\",\\\"5\\\",\\\"6\\\",\\\"7\\\",\\\"8\\\",\\\"9\\\",\\\"10\\\",\\\"11\\\",\\\"12\\\",\\\"13\\\",\\\"14\\\",\\\"15\\\",\\\"16\\\",\\\"17\\\",\\\"18\\\",\\\"19\\\",\\\"20\\\",\\\"21\\\",\\\"22\\\",\\\"23\\\",\\\"24\\\",\\\"25\\\",\\\"26\\\",\\\"27\\\",\\\"28\\\",\\\"29\\\",\\\"30\\\",\\\"31\\\",\\\"32\\\",\\\"33\\\",\\\"34\\\",\\\"35\\\",\\\"36\\\",\\\"37\\\",\\\"38\\\",\\\"39\\\",\\\"40\\\",\\\"41\\\",\\\"42\\\",\\\"43\\\",\\\"44\\\",\\\"45\\\",\\\"46\\\",\\\"47\\\",\\\"48\\\",\\\"49\\\",\\\"50\\\",\\\"51\\\",\\\"52\\\",\\\"53\\\",\\\"54\\\",\\\"55\\\",\\\"56\\\",\\\"57\\\",\\\"58\\\",\\\"59\\\",\\\"60\\\",\\\"61\\\",\\\"62\\\",\\\"63\\\",\\\"64\\\",\\\"65\\\",\\\"66\\\",\\\"67\\\",\\\"68\\\",\\\"69\\\",\\\"70\\\",\\\"71\\\",\\\"72\\\",\\\"73\\\",\\\"74\\\",\\\"75\\\",\\\"76\\\",\\\"77\\\",\\\"78\\\",\\\"79\\\",\\\"80\\\",\\\"81\\\",\\\"82\\\",\\\"83\\\",\\\"84\\\",\\\"85\\\",\\\"86\\\",\\\"87\\\",\\\"88\\\",\\\"89\\\",\\\"90\\\"],\\\"changes\\\":WebIO.getval({\\\"name\\\":\\\"changes\\\",\\\"scope\\\":\\\"10839053479107613554\\\",\\\"id\\\":\\\"1204213979841075776\\\",\\\"type\\\":\\\"observable\\\"}),\\\"index\\\":WebIO.getval({\\\"name\\\":\\\"index\\\",\\\"scope\\\":\\\"10839053479107613554\\\",\\\"id\\\":\\\"18287221480198680028\\\",\\\"type\\\":\\\"observable\\\"})};\\n    var self = this;\\n    function AppViewModel() {\\n        for (var key in json_data) {\\n            var el = json_data[key];\\n            this[key] = Array.isArray(el) ? ko.observableArray(el) : ko.observable(el);\\n        }\\n        \\n        [this[\\\"formatted_val\\\"]=ko.computed(    function(){\\n        return this.formatted_vals()[parseInt(this.index())-(1)];\\n    }\\n,this)]\\n        [this[\\\"changes\\\"].subscribe((function (val){!(this.valueFromJulia[\\\"changes\\\"]) ? (WebIO.setval({\\\"name\\\":\\\"changes\\\",\\\"scope\\\":\\\"10839053479107613554\\\",\\\"id\\\":\\\"1204213979841075776\\\",\\\"type\\\":\\\"observable\\\"},val)) : undefined; return this.valueFromJulia[\\\"changes\\\"]=false}),self),this[\\\"index\\\"].subscribe((function (val){!(this.valueFromJulia[\\\"index\\\"]) ? (WebIO.setval({\\\"name\\\":\\\"index\\\",\\\"scope\\\":\\\"10839053479107613554\\\",\\\"id\\\":\\\"18287221480198680028\\\",\\\"type\\\":\\\"observable\\\"},val)) : undefined; return this.valueFromJulia[\\\"index\\\"]=false}),self)]\\n        \\n    }\\n    self.model = new AppViewModel();\\n    self.valueFromJulia = {};\\n    for (var key in json_data) {\\n        self.valueFromJulia[key] = false;\\n    }\\n    ko.applyBindings(self.model, self.dom);\\n}\\n);\\n    (WebIO.importBlock({\\\"data\\\":[{\\\"name\\\":\\\"knockout\\\",\\\"type\\\":\\\"js\\\",\\\"url\\\":\\\"\\/assetserver\\/727383f2a47bd31570b7da84eee7b022dd6d7c78-knockout.js\\\"},{\\\"name\\\":\\\"knockout_punches\\\",\\\"type\\\":\\\"js\\\",\\\"url\\\":\\\"\\/assetserver\\/382b41b3b1bd9f26f75861d360bad7f8beea211f-knockout_punches.js\\\"}],\\\"type\\\":\\\"async_block\\\"})).then((imports) => handler.apply(this, imports));\\n}\\n\"],\"observables\":{\"changes\":{\"sync\":false,\"id\":\"1204213979841075776\",\"value\":0},\"index\":{\"sync\":true,\"id\":\"18287221480198680028\",\"value\":45}}},\"children\":[{\"props\":{\"className\":\"interact-flex-row interact-widget\"},\"nodeType\":\"DOM\",\"type\":\"node\",\"instanceArgs\":{\"namespace\":\"html\",\"tag\":\"div\"},\"children\":[{\"props\":{\"className\":\"interact-flex-row-left\"},\"nodeType\":\"DOM\",\"type\":\"node\",\"instanceArgs\":{\"namespace\":\"html\",\"tag\":\"div\"},\"children\":[{\"props\":{\"className\":\"interact \",\"style\":{\"padding\":\"5px 10px 0px 10px\"}},\"nodeType\":\"DOM\",\"type\":\"node\",\"instanceArgs\":{\"namespace\":\"html\",\"tag\":\"label\"},\"children\":[\"time\"]}]},{\"props\":{\"className\":\"interact-flex-row-center\"},\"nodeType\":\"DOM\",\"type\":\"node\",\"instanceArgs\":{\"namespace\":\"html\",\"tag\":\"div\"},\"children\":[{\"props\":{\"max\":90,\"min\":1,\"attributes\":{\"type\":\"range\",\"data-bind\":\"numericValue: index, valueUpdate: 'input', event: {change: function (){this.changes(this.changes()+1)}}\",\"orient\":\"horizontal\"},\"step\":1,\"className\":\"slider slider is-fullwidth\",\"style\":{}},\"nodeType\":\"DOM\",\"type\":\"node\",\"instanceArgs\":{\"namespace\":\"html\",\"tag\":\"input\"},\"children\":[]}]},{\"props\":{\"className\":\"interact-flex-row-right\"},\"nodeType\":\"DOM\",\"type\":\"node\",\"instanceArgs\":{\"namespace\":\"html\",\"tag\":\"div\"},\"children\":[{\"props\":{\"attributes\":{\"data-bind\":\"text: formatted_val\"}},\"nodeType\":\"DOM\",\"type\":\"node\",\"instanceArgs\":{\"namespace\":\"html\",\"tag\":\"p\"},\"children\":[]}]}]}]}]},{\"props\":{\"className\":\"field interact-widget\"},\"nodeType\":\"DOM\",\"type\":\"node\",\"instanceArgs\":{\"namespace\":\"html\",\"tag\":\"div\"},\"children\":[{\"props\":{},\"nodeType\":\"Scope\",\"type\":\"node\",\"instanceArgs\":{\"imports\":{\"data\":[{\"name\":\"knockout\",\"type\":\"js\",\"url\":\"\\/assetserver\\/727383f2a47bd31570b7da84eee7b022dd6d7c78-knockout.js\"},{\"name\":\"knockout_punches\",\"type\":\"js\",\"url\":\"\\/assetserver\\/382b41b3b1bd9f26f75861d360bad7f8beea211f-knockout_punches.js\"},{\"name\":null,\"type\":\"js\",\"url\":\"\\/assetserver\\/5ab20f1060420992a9b82a65b735dee4d81ef413-all.js\"},{\"name\":null,\"type\":\"css\",\"url\":\"\\/assetserver\\/1cc0ed62837210b80a182cc3676512f895dab686-style.css\"},{\"name\":null,\"type\":\"css\",\"url\":\"\\/assetserver\\/2eee816f616df3549d7044d45e744fbf8d42bfa1-bulma_confined.min.css\"}],\"type\":\"async_block\"},\"id\":\"9398971158352197059\",\"handlers\":{\"changes\":[\"(function (val){return (val!=this.model[\\\"changes\\\"]()) ? (this.valueFromJulia[\\\"changes\\\"]=true, this.model[\\\"changes\\\"](val)) : undefined})\"],\"index\":[\"(function (val){return (val!=this.model[\\\"index\\\"]()) ? (this.valueFromJulia[\\\"index\\\"]=true, this.model[\\\"index\\\"](val)) : undefined})\"]},\"systemjs_options\":null,\"mount_callbacks\":[\"function () {\\n    var handler = (function (ko, koPunches) {\\n    ko.punches.enableAll();\\n    ko.bindingHandlers.numericValue = {\\n        init: function(element, valueAccessor, allBindings, data, context) {\\n            var stringified = ko.observable(ko.unwrap(valueAccessor()));\\n            stringified.subscribe(function(value) {\\n                var val = parseFloat(value);\\n                if (!isNaN(val)) {\\n                    valueAccessor()(val);\\n                }\\n            });\\n            valueAccessor().subscribe(function(value) {\\n                var str = JSON.stringify(value);\\n                if ((str == \\\"0\\\") && ([\\\"-0\\\", \\\"-0.\\\"].indexOf(stringified()) >= 0))\\n                     return;\\n                 if ([\\\"null\\\", \\\"\\\"].indexOf(str) >= 0)\\n                     return;\\n                stringified(str);\\n            });\\n            ko.applyBindingsToNode(\\n                element,\\n                {\\n                    value: stringified,\\n                    valueUpdate: allBindings.get('valueUpdate'),\\n                },\\n                context,\\n            );\\n        }\\n    };\\n    var json_data = {\\\"formatted_vals\\\":[\\\"0.1\\\",\\\"0.2\\\",\\\"0.3\\\",\\\"0.4\\\",\\\"0.5\\\",\\\"0.6\\\",\\\"0.7\\\",\\\"0.8\\\",\\\"0.9\\\",\\\"1.0\\\",\\\"1.1\\\",\\\"1.2\\\",\\\"1.3\\\",\\\"1.4\\\",\\\"1.5\\\",\\\"1.6\\\",\\\"1.7\\\",\\\"1.8\\\",\\\"1.9\\\",\\\"2.0\\\"],\\\"changes\\\":WebIO.getval({\\\"name\\\":\\\"changes\\\",\\\"scope\\\":\\\"9398971158352197059\\\",\\\"id\\\":\\\"16651796564896651693\\\",\\\"type\\\":\\\"observable\\\"}),\\\"index\\\":WebIO.getval({\\\"name\\\":\\\"index\\\",\\\"scope\\\":\\\"9398971158352197059\\\",\\\"id\\\":\\\"15070718849376184909\\\",\\\"type\\\":\\\"observable\\\"})};\\n    var self = this;\\n    function AppViewModel() {\\n        for (var key in json_data) {\\n            var el = json_data[key];\\n            this[key] = Array.isArray(el) ? ko.observableArray(el) : ko.observable(el);\\n        }\\n        \\n        [this[\\\"formatted_val\\\"]=ko.computed(    function(){\\n        return this.formatted_vals()[parseInt(this.index())-(1)];\\n    }\\n,this)]\\n        [this[\\\"changes\\\"].subscribe((function (val){!(this.valueFromJulia[\\\"changes\\\"]) ? (WebIO.setval({\\\"name\\\":\\\"changes\\\",\\\"scope\\\":\\\"9398971158352197059\\\",\\\"id\\\":\\\"16651796564896651693\\\",\\\"type\\\":\\\"observable\\\"},val)) : undefined; return this.valueFromJulia[\\\"changes\\\"]=false}),self),this[\\\"index\\\"].subscribe((function (val){!(this.valueFromJulia[\\\"index\\\"]) ? (WebIO.setval({\\\"name\\\":\\\"index\\\",\\\"scope\\\":\\\"9398971158352197059\\\",\\\"id\\\":\\\"15070718849376184909\\\",\\\"type\\\":\\\"observable\\\"},val)) : undefined; return this.valueFromJulia[\\\"index\\\"]=false}),self)]\\n        \\n    }\\n    self.model = new AppViewModel();\\n    self.valueFromJulia = {};\\n    for (var key in json_data) {\\n        self.valueFromJulia[key] = false;\\n    }\\n    ko.applyBindings(self.model, self.dom);\\n}\\n);\\n    (WebIO.importBlock({\\\"data\\\":[{\\\"name\\\":\\\"knockout\\\",\\\"type\\\":\\\"js\\\",\\\"url\\\":\\\"\\/assetserver\\/727383f2a47bd31570b7da84eee7b022dd6d7c78-knockout.js\\\"},{\\\"name\\\":\\\"knockout_punches\\\",\\\"type\\\":\\\"js\\\",\\\"url\\\":\\\"\\/assetserver\\/382b41b3b1bd9f26f75861d360bad7f8beea211f-knockout_punches.js\\\"}],\\\"type\\\":\\\"async_block\\\"})).then((imports) => handler.apply(this, imports));\\n}\\n\"],\"observables\":{\"changes\":{\"sync\":false,\"id\":\"16651796564896651693\",\"value\":0},\"index\":{\"sync\":true,\"id\":\"15070718849376184909\",\"value\":10}}},\"children\":[{\"props\":{\"className\":\"interact-flex-row interact-widget\"},\"nodeType\":\"DOM\",\"type\":\"node\",\"instanceArgs\":{\"namespace\":\"html\",\"tag\":\"div\"},\"children\":[{\"props\":{\"className\":\"interact-flex-row-left\"},\"nodeType\":\"DOM\",\"type\":\"node\",\"instanceArgs\":{\"namespace\":\"html\",\"tag\":\"div\"},\"children\":[{\"props\":{\"className\":\"interact \",\"style\":{\"padding\":\"5px 10px 0px 10px\"}},\"nodeType\":\"DOM\",\"type\":\"node\",\"instanceArgs\":{\"namespace\":\"html\",\"tag\":\"label\"},\"children\":[\"scale\"]}]},{\"props\":{\"className\":\"interact-flex-row-center\"},\"nodeType\":\"DOM\",\"type\":\"node\",\"instanceArgs\":{\"namespace\":\"html\",\"tag\":\"div\"},\"children\":[{\"props\":{\"max\":20,\"min\":1,\"attributes\":{\"type\":\"range\",\"data-bind\":\"numericValue: index, valueUpdate: 'input', event: {change: function (){this.changes(this.changes()+1)}}\",\"orient\":\"horizontal\"},\"step\":1,\"className\":\"slider slider is-fullwidth\",\"style\":{}},\"nodeType\":\"DOM\",\"type\":\"node\",\"instanceArgs\":{\"namespace\":\"html\",\"tag\":\"input\"},\"children\":[]}]},{\"props\":{\"className\":\"interact-flex-row-right\"},\"nodeType\":\"DOM\",\"type\":\"node\",\"instanceArgs\":{\"namespace\":\"html\",\"tag\":\"div\"},\"children\":[{\"props\":{\"attributes\":{\"data-bind\":\"text: formatted_val\"}},\"nodeType\":\"DOM\",\"type\":\"node\",\"instanceArgs\":{\"namespace\":\"html\",\"tag\":\"p\"},\"children\":[]}]}]}]}]},{\"props\":{\"style\":{\"display\":\"flex\",\"flex-direction\":\"row\"}},\"nodeType\":\"DOM\",\"type\":\"node\",\"instanceArgs\":{\"namespace\":\"html\",\"tag\":\"div\"},\"children\":[{\"props\":{\"className\":\"interact-widget\"},\"nodeType\":\"DOM\",\"type\":\"node\",\"instanceArgs\":{\"namespace\":\"html\",\"tag\":\"div\"},\"children\":[{\"props\":{},\"nodeType\":\"Scope\",\"type\":\"node\",\"instanceArgs\":{\"imports\":{\"data\":[{\"name\":null,\"type\":\"js\",\"url\":\"\\/assetserver\\/dd22ed1bf1896c2748f3fe616ce0b838adc895c1-katex.min.js\"},{\"name\":null,\"type\":\"css\",\"url\":\"\\/assetserver\\/46517a424aa5e6cffc1360d7e0848b601c584ee3-katex.min.css\"}],\"type\":\"async_block\"},\"id\":\"10458075285476516034\",\"handlers\":{\"value\":[\"(function (txt){return this.k.render(txt,this.container)})\"]},\"systemjs_options\":null,\"mount_callbacks\":[\"function () {\\n    var handler = ((function (k){this.k=k; this.container=this.dom.querySelector(\\\"#container\\\"); return k.render(\\\"\\\\\\\\;\\\\\\\\;\\\",this.container)}));\\n    (WebIO.importBlock({\\\"data\\\":[{\\\"name\\\":null,\\\"type\\\":\\\"js\\\",\\\"url\\\":\\\"\\/assetserver\\/dd22ed1bf1896c2748f3fe616ce0b838adc895c1-katex.min.js\\\"},{\\\"name\\\":null,\\\"type\\\":\\\"css\\\",\\\"url\\\":\\\"\\/assetserver\\/46517a424aa5e6cffc1360d7e0848b601c584ee3-katex.min.css\\\"}],\\\"type\\\":\\\"async_block\\\"})).then((imports) => handler.apply(this, imports));\\n}\\n\"],\"observables\":{\"value\":{\"sync\":false,\"id\":\"15938430177308403391\",\"value\":\"\\\\;\\\\;\"}}},\"children\":[{\"props\":{\"id\":\"container\"},\"nodeType\":\"DOM\",\"type\":\"node\",\"instanceArgs\":{\"namespace\":\"html\",\"tag\":\"div\"},\"children\":[]}]}]},{\"props\":{\"className\":\"field interact-widget\"},\"nodeType\":\"DOM\",\"type\":\"node\",\"instanceArgs\":{\"namespace\":\"html\",\"tag\":\"div\"},\"children\":[{\"props\":{},\"nodeType\":\"Scope\",\"type\":\"node\",\"instanceArgs\":{\"imports\":{\"data\":[{\"name\":\"knockout\",\"type\":\"js\",\"url\":\"\\/assetserver\\/727383f2a47bd31570b7da84eee7b022dd6d7c78-knockout.js\"},{\"name\":\"knockout_punches\",\"type\":\"js\",\"url\":\"\\/assetserver\\/382b41b3b1bd9f26f75861d360bad7f8beea211f-knockout_punches.js\"},{\"name\":null,\"type\":\"js\",\"url\":\"\\/assetserver\\/5ab20f1060420992a9b82a65b735dee4d81ef413-all.js\"},{\"name\":null,\"type\":\"css\",\"url\":\"\\/assetserver\\/1cc0ed62837210b80a182cc3676512f895dab686-style.css\"},{\"name\":null,\"type\":\"css\",\"url\":\"\\/assetserver\\/2eee816f616df3549d7044d45e744fbf8d42bfa1-bulma_confined.min.css\"}],\"type\":\"async_block\"},\"id\":\"2622321394928731236\",\"handlers\":{\"loading\":[\"(function (val){return (val!=this.model[\\\"loading\\\"]()) ? (this.valueFromJulia[\\\"loading\\\"]=true, this.model[\\\"loading\\\"](val)) : undefined})\"],\"clicks\":[\"(function (val){return (val!=this.model[\\\"clicks\\\"]()) ? (this.valueFromJulia[\\\"clicks\\\"]=true, this.model[\\\"clicks\\\"](val)) : undefined})\"]},\"systemjs_options\":null,\"mount_callbacks\":[\"function () {\\n    var handler = (function (ko, koPunches) {\\n    ko.punches.enableAll();\\n    ko.bindingHandlers.numericValue = {\\n        init: function(element, valueAccessor, allBindings, data, context) {\\n            var stringified = ko.observable(ko.unwrap(valueAccessor()));\\n            stringified.subscribe(function(value) {\\n                var val = parseFloat(value);\\n                if (!isNaN(val)) {\\n                    valueAccessor()(val);\\n                }\\n            });\\n            valueAccessor().subscribe(function(value) {\\n                var str = JSON.stringify(value);\\n                if ((str == \\\"0\\\") && ([\\\"-0\\\", \\\"-0.\\\"].indexOf(stringified()) >= 0))\\n                     return;\\n                 if ([\\\"null\\\", \\\"\\\"].indexOf(str) >= 0)\\n                     return;\\n                stringified(str);\\n            });\\n            ko.applyBindingsToNode(\\n                element,\\n                {\\n                    value: stringified,\\n                    valueUpdate: allBindings.get('valueUpdate'),\\n                },\\n                context,\\n            );\\n        }\\n    };\\n    var json_data = {\\\"loading\\\":WebIO.getval({\\\"name\\\":\\\"loading\\\",\\\"scope\\\":\\\"2622321394928731236\\\",\\\"id\\\":\\\"7800332222887076564\\\",\\\"type\\\":\\\"observable\\\"}),\\\"clicks\\\":WebIO.getval({\\\"name\\\":\\\"clicks\\\",\\\"scope\\\":\\\"2622321394928731236\\\",\\\"id\\\":\\\"14601536911652936284\\\",\\\"type\\\":\\\"observable\\\"})};\\n    var self = this;\\n    function AppViewModel() {\\n        for (var key in json_data) {\\n            var el = json_data[key];\\n            this[key] = Array.isArray(el) ? ko.observableArray(el) : ko.observable(el);\\n        }\\n        \\n        \\n        [this[\\\"loading\\\"].subscribe((function (val){!(this.valueFromJulia[\\\"loading\\\"]) ? (WebIO.setval({\\\"name\\\":\\\"loading\\\",\\\"scope\\\":\\\"2622321394928731236\\\",\\\"id\\\":\\\"7800332222887076564\\\",\\\"type\\\":\\\"observable\\\"},val)) : undefined; return this.valueFromJulia[\\\"loading\\\"]=false}),self),this[\\\"clicks\\\"].subscribe((function (val){!(this.valueFromJulia[\\\"clicks\\\"]) ? (WebIO.setval({\\\"name\\\":\\\"clicks\\\",\\\"scope\\\":\\\"2622321394928731236\\\",\\\"id\\\":\\\"14601536911652936284\\\",\\\"type\\\":\\\"observable\\\"},val)) : undefined; return this.valueFromJulia[\\\"clicks\\\"]=false}),self)]\\n        \\n    }\\n    self.model = new AppViewModel();\\n    self.valueFromJulia = {};\\n    for (var key in json_data) {\\n        self.valueFromJulia[key] = false;\\n    }\\n    ko.applyBindings(self.model, self.dom);\\n}\\n);\\n    (WebIO.importBlock({\\\"data\\\":[{\\\"name\\\":\\\"knockout\\\",\\\"type\\\":\\\"js\\\",\\\"url\\\":\\\"\\/assetserver\\/727383f2a47bd31570b7da84eee7b022dd6d7c78-knockout.js\\\"},{\\\"name\\\":\\\"knockout_punches\\\",\\\"type\\\":\\\"js\\\",\\\"url\\\":\\\"\\/assetserver\\/382b41b3b1bd9f26f75861d360bad7f8beea211f-knockout_punches.js\\\"}],\\\"type\\\":\\\"async_block\\\"})).then((imports) => handler.apply(this, imports));\\n}\\n\"],\"observables\":{\"loading\":{\"sync\":false,\"id\":\"7800332222887076564\",\"value\":false},\"clicks\":{\"sync\":true,\"id\":\"14601536911652936284\",\"value\":0}}},\"children\":[{\"props\":{\"attributes\":{\"data-bind\":\"click: function (){this.clicks(this.clicks()+1)}, css: {'is-loading' : loading}\"},\"className\":\"is-medium button is-primary\",\"style\":{}},\"nodeType\":\"DOM\",\"type\":\"node\",\"instanceArgs\":{\"namespace\":\"html\",\"tag\":\"button\"},\"children\":[\"run\"]}]}]},{\"props\":{\"className\":\"interact-widget\"},\"nodeType\":\"DOM\",\"type\":\"node\",\"instanceArgs\":{\"namespace\":\"html\",\"tag\":\"div\"},\"children\":[{\"props\":{},\"nodeType\":\"Scope\",\"type\":\"node\",\"instanceArgs\":{\"imports\":{\"data\":[{\"name\":null,\"type\":\"js\",\"url\":\"\\/assetserver\\/dd22ed1bf1896c2748f3fe616ce0b838adc895c1-katex.min.js\"},{\"name\":null,\"type\":\"css\",\"url\":\"\\/assetserver\\/46517a424aa5e6cffc1360d7e0848b601c584ee3-katex.min.css\"}],\"type\":\"async_block\"},\"id\":\"10458075285476516034\",\"handlers\":{\"value\":[\"(function (txt){return this.k.render(txt,this.container)})\"]},\"systemjs_options\":null,\"mount_callbacks\":[\"function () {\\n    var handler = ((function (k){this.k=k; this.container=this.dom.querySelector(\\\"#container\\\"); return k.render(\\\"\\\\\\\\;\\\\\\\\;\\\",this.container)}));\\n    (WebIO.importBlock({\\\"data\\\":[{\\\"name\\\":null,\\\"type\\\":\\\"js\\\",\\\"url\\\":\\\"\\/assetserver\\/dd22ed1bf1896c2748f3fe616ce0b838adc895c1-katex.min.js\\\"},{\\\"name\\\":null,\\\"type\\\":\\\"css\\\",\\\"url\\\":\\\"\\/assetserver\\/46517a424aa5e6cffc1360d7e0848b601c584ee3-katex.min.css\\\"}],\\\"type\\\":\\\"async_block\\\"})).then((imports) => handler.apply(this, imports));\\n}\\n\"],\"observables\":{\"value\":{\"sync\":false,\"id\":\"15938430177308403391\",\"value\":\"\\\\;\\\\;\"}}},\"children\":[{\"props\":{\"id\":\"container\"},\"nodeType\":\"DOM\",\"type\":\"node\",\"instanceArgs\":{\"namespace\":\"html\",\"tag\":\"div\"},\"children\":[]}]}]},{\"props\":{\"className\":\"field interact-widget\"},\"nodeType\":\"DOM\",\"type\":\"node\",\"instanceArgs\":{\"namespace\":\"html\",\"tag\":\"div\"},\"children\":[{\"props\":{},\"nodeType\":\"Scope\",\"type\":\"node\",\"instanceArgs\":{\"imports\":{\"data\":[{\"name\":\"knockout\",\"type\":\"js\",\"url\":\"\\/assetserver\\/727383f2a47bd31570b7da84eee7b022dd6d7c78-knockout.js\"},{\"name\":\"knockout_punches\",\"type\":\"js\",\"url\":\"\\/assetserver\\/382b41b3b1bd9f26f75861d360bad7f8beea211f-knockout_punches.js\"},{\"name\":null,\"type\":\"js\",\"url\":\"\\/assetserver\\/5ab20f1060420992a9b82a65b735dee4d81ef413-all.js\"},{\"name\":null,\"type\":\"css\",\"url\":\"\\/assetserver\\/1cc0ed62837210b80a182cc3676512f895dab686-style.css\"},{\"name\":null,\"type\":\"css\",\"url\":\"\\/assetserver\\/2eee816f616df3549d7044d45e744fbf8d42bfa1-bulma_confined.min.css\"}],\"type\":\"async_block\"},\"id\":\"2955051059805834124\",\"handlers\":{\"loading\":[\"(function (val){return (val!=this.model[\\\"loading\\\"]()) ? (this.valueFromJulia[\\\"loading\\\"]=true, this.model[\\\"loading\\\"](val)) : undefined})\"],\"clicks\":[\"(function (val){return (val!=this.model[\\\"clicks\\\"]()) ? (this.valueFromJulia[\\\"clicks\\\"]=true, this.model[\\\"clicks\\\"](val)) : undefined})\"]},\"systemjs_options\":null,\"mount_callbacks\":[\"function () {\\n    var handler = (function (ko, koPunches) {\\n    ko.punches.enableAll();\\n    ko.bindingHandlers.numericValue = {\\n        init: function(element, valueAccessor, allBindings, data, context) {\\n            var stringified = ko.observable(ko.unwrap(valueAccessor()));\\n            stringified.subscribe(function(value) {\\n                var val = parseFloat(value);\\n                if (!isNaN(val)) {\\n                    valueAccessor()(val);\\n                }\\n            });\\n            valueAccessor().subscribe(function(value) {\\n                var str = JSON.stringify(value);\\n                if ((str == \\\"0\\\") && ([\\\"-0\\\", \\\"-0.\\\"].indexOf(stringified()) >= 0))\\n                     return;\\n                 if ([\\\"null\\\", \\\"\\\"].indexOf(str) >= 0)\\n                     return;\\n                stringified(str);\\n            });\\n            ko.applyBindingsToNode(\\n                element,\\n                {\\n                    value: stringified,\\n                    valueUpdate: allBindings.get('valueUpdate'),\\n                },\\n                context,\\n            );\\n        }\\n    };\\n    var json_data = {\\\"loading\\\":WebIO.getval({\\\"name\\\":\\\"loading\\\",\\\"scope\\\":\\\"2955051059805834124\\\",\\\"id\\\":\\\"4530677131926339682\\\",\\\"type\\\":\\\"observable\\\"}),\\\"clicks\\\":WebIO.getval({\\\"name\\\":\\\"clicks\\\",\\\"scope\\\":\\\"2955051059805834124\\\",\\\"id\\\":\\\"9673801962214078705\\\",\\\"type\\\":\\\"observable\\\"})};\\n    var self = this;\\n    function AppViewModel() {\\n        for (var key in json_data) {\\n            var el = json_data[key];\\n            this[key] = Array.isArray(el) ? ko.observableArray(el) : ko.observable(el);\\n        }\\n        \\n        \\n        [this[\\\"loading\\\"].subscribe((function (val){!(this.valueFromJulia[\\\"loading\\\"]) ? (WebIO.setval({\\\"name\\\":\\\"loading\\\",\\\"scope\\\":\\\"2955051059805834124\\\",\\\"id\\\":\\\"4530677131926339682\\\",\\\"type\\\":\\\"observable\\\"},val)) : undefined; return this.valueFromJulia[\\\"loading\\\"]=false}),self),this[\\\"clicks\\\"].subscribe((function (val){!(this.valueFromJulia[\\\"clicks\\\"]) ? (WebIO.setval({\\\"name\\\":\\\"clicks\\\",\\\"scope\\\":\\\"2955051059805834124\\\",\\\"id\\\":\\\"9673801962214078705\\\",\\\"type\\\":\\\"observable\\\"},val)) : undefined; return this.valueFromJulia[\\\"clicks\\\"]=false}),self)]\\n        \\n    }\\n    self.model = new AppViewModel();\\n    self.valueFromJulia = {};\\n    for (var key in json_data) {\\n        self.valueFromJulia[key] = false;\\n    }\\n    ko.applyBindings(self.model, self.dom);\\n}\\n);\\n    (WebIO.importBlock({\\\"data\\\":[{\\\"name\\\":\\\"knockout\\\",\\\"type\\\":\\\"js\\\",\\\"url\\\":\\\"\\/assetserver\\/727383f2a47bd31570b7da84eee7b022dd6d7c78-knockout.js\\\"},{\\\"name\\\":\\\"knockout_punches\\\",\\\"type\\\":\\\"js\\\",\\\"url\\\":\\\"\\/assetserver\\/382b41b3b1bd9f26f75861d360bad7f8beea211f-knockout_punches.js\\\"}],\\\"type\\\":\\\"async_block\\\"})).then((imports) => handler.apply(this, imports));\\n}\\n\"],\"observables\":{\"loading\":{\"sync\":false,\"id\":\"4530677131926339682\",\"value\":false},\"clicks\":{\"sync\":true,\"id\":\"9673801962214078705\",\"value\":0}}},\"children\":[{\"props\":{\"attributes\":{\"data-bind\":\"click: function (){this.clicks(this.clicks()+1)}, css: {'is-loading' : loading}\"},\"className\":\"is-medium button is-primary\",\"style\":{}},\"nodeType\":\"DOM\",\"type\":\"node\",\"instanceArgs\":{\"namespace\":\"html\",\"tag\":\"button\"},\"children\":[\"stop\"]}]}]}]}]},{\"props\":{},\"nodeType\":\"Scope\",\"type\":\"node\",\"instanceArgs\":{\"imports\":{\"data\":[],\"type\":\"async_block\"},\"id\":\"5228538168029585321\",\"handlers\":{\"obs-output\":[\"function (value, scope) {\\n    scope.setInnerHTML(value);\\n}\\n\"]},\"systemjs_options\":null,\"mount_callbacks\":[],\"observables\":{\"obs-output\":{\"sync\":false,\"id\":\"3913070057727908728\",\"value\":\"    <div style=\\\"height: 500px; width: 100%; overflow-x: auto; overflow-y: hidden; resize: both\\\">\\n    <iframe src=\\\"http:\\/\\/127.0.0.1:8704\\\" style=\\\"width: 100%; height: 100%; border: none\\\"><\\/iframe>\\n    <\\/div>\\n\"}}},\"children\":[{\"props\":{\"className\":\"webio-observable\",\"setInnerHtml\":\"    <div style=\\\"height: 500px; width: 100%; overflow-x: auto; overflow-y: hidden; resize: both\\\">\\n    <iframe src=\\\"http:\\/\\/127.0.0.1:8704\\\" style=\\\"width: 100%; height: 100%; border: none\\\"><\\/iframe>\\n    <\\/div>\\n\"},\"nodeType\":\"DOM\",\"type\":\"node\",\"instanceArgs\":{\"namespace\":\"html\",\"tag\":\"div\"},\"children\":[]}]},{\"props\":{\"className\":\"interact-widget\"},\"nodeType\":\"DOM\",\"type\":\"node\",\"instanceArgs\":{\"namespace\":\"html\",\"tag\":\"div\"},\"children\":[{\"props\":{},\"nodeType\":\"Scope\",\"type\":\"node\",\"instanceArgs\":{\"imports\":{\"data\":[{\"name\":null,\"type\":\"js\",\"url\":\"\\/assetserver\\/dd22ed1bf1896c2748f3fe616ce0b838adc895c1-katex.min.js\"},{\"name\":null,\"type\":\"css\",\"url\":\"\\/assetserver\\/46517a424aa5e6cffc1360d7e0848b601c584ee3-katex.min.css\"}],\"type\":\"async_block\"},\"id\":\"10458075285476516034\",\"handlers\":{\"value\":[\"(function (txt){return this.k.render(txt,this.container)})\"]},\"systemjs_options\":null,\"mount_callbacks\":[\"function () {\\n    var handler = ((function (k){this.k=k; this.container=this.dom.querySelector(\\\"#container\\\"); return k.render(\\\"\\\\\\\\;\\\\\\\\;\\\",this.container)}));\\n    (WebIO.importBlock({\\\"data\\\":[{\\\"name\\\":null,\\\"type\\\":\\\"js\\\",\\\"url\\\":\\\"\\/assetserver\\/dd22ed1bf1896c2748f3fe616ce0b838adc895c1-katex.min.js\\\"},{\\\"name\\\":null,\\\"type\\\":\\\"css\\\",\\\"url\\\":\\\"\\/assetserver\\/46517a424aa5e6cffc1360d7e0848b601c584ee3-katex.min.css\\\"}],\\\"type\\\":\\\"async_block\\\"})).then((imports) => handler.apply(this, imports));\\n}\\n\"],\"observables\":{\"value\":{\"sync\":false,\"id\":\"15938430177308403391\",\"value\":\"\\\\;\\\\;\"}}},\"children\":[{\"props\":{\"id\":\"container\"},\"nodeType\":\"DOM\",\"type\":\"node\",\"instanceArgs\":{\"namespace\":\"html\",\"tag\":\"div\"},\"children\":[]}]}]},{\"props\":{\"style\":{\"display\":\"flex\",\"flex-direction\":\"column\"}},\"nodeType\":\"DOM\",\"type\":\"node\",\"instanceArgs\":{\"namespace\":\"html\",\"tag\":\"div\"},\"children\":[]}]}]},\n",
       "        window,\n",
       "    );\n",
       "    })()\n",
       "    </script>\n",
       "</div>\n"
      ],
      "text/plain": [
       "WebIO.Node{WebIO.DOM}(WebIO.DOM(:html, :div), Any[WebIO.Node{WebIO.DOM}(WebIO.DOM(:html, :div), Any[WebIO.Node{WebIO.DOM}(WebIO.DOM(:html, :div), Any[WebIO.Node{WebIO.DOM}(WebIO.DOM(:html, :div), Any[WebIO.Scope(WebIO.Node{WebIO.DOM}(WebIO.DOM(:html, :div), Any[WebIO.Node{WebIO.DOM}(WebIO.DOM(:html, :div), Any[WebIO.Node{WebIO.DOM}(WebIO.DOM(:html, :label), Any[\"time\"], Dict{Symbol, Any}(:className => \"interact \", :style => Dict{Any, Any}(:padding => \"5px 10px 0px 10px\")))], Dict{Symbol, Any}(:className => \"interact-flex-row-left\")), WebIO.Node{WebIO.DOM}(WebIO.DOM(:html, :div), Any[WebIO.Node{WebIO.DOM}(WebIO.DOM(:html, :input), Any[], Dict{Symbol, Any}(:max => 90, :min => 1, :attributes => Dict{Any, Any}(:type => \"range\", Symbol(\"data-bind\") => \"numericValue: index, valueUpdate: 'input', event: {change: function (){this.changes(this.changes()+1)}}\", \"orient\" => \"horizontal\"), :step => 1, :className => \"slider slider is-fullwidth\", :style => Dict{Any, Any}()))], Dict{Symbol, Any}(:className => \"interact-flex-row-center\")), WebIO.Node{WebIO.DOM}(WebIO.DOM(:html, :div), Any[WebIO.Node{WebIO.DOM}(WebIO.DOM(:html, :p), Any[], Dict{Symbol, Any}(:attributes => Dict(\"data-bind\" => \"text: formatted_val\")))], Dict{Symbol, Any}(:className => \"interact-flex-row-right\"))], Dict{Symbol, Any}(:className => \"interact-flex-row interact-widget\")), Dict{String, Tuple{Observables.AbstractObservable, Union{Nothing, Bool}}}(\"changes\" => (Observable(0), nothing), \"index\" => (Observable(45), nothing)), Set{String}(), nothing, WebIO.Asset[WebIO.Asset(\"js\", \"knockout\", \"/home/dushya/.julia/packages/Knockout/HReiN/src/../assets/knockout.js\"), WebIO.Asset(\"js\", \"knockout_punches\", \"/home/dushya/.julia/packages/Knockout/HReiN/src/../assets/knockout_punches.js\"), WebIO.Asset(\"js\", nothing, \"/home/dushya/.julia/packages/InteractBase/LJXv3/src/../assets/all.js\"), WebIO.Asset(\"css\", nothing, \"/home/dushya/.julia/packages/InteractBase/LJXv3/src/../assets/style.css\"), WebIO.Asset(\"css\", nothing, \"/home/dushya/.julia/packages/Interact/PENUy/src/../assets/bulma_confined.min.css\")], Dict{Any, Any}(\"changes\" => Any[WebIO.JSString(\"(function (val){return (val!=this.model[\\\"changes\\\"]()) ? (this.valueFromJulia[\\\"changes\\\"]=true, this.model[\\\"changes\\\"](val)) : undefined})\")], \"index\" => Any[WebIO.JSString(\"(function (val){return (val!=this.model[\\\"index\\\"]()) ? (this.valueFromJulia[\\\"index\\\"]=true, this.model[\\\"index\\\"](val)) : undefined})\")]), WebIO.ConnectionPool(Channel{Any}(32), Set{WebIO.AbstractConnection}(), Base.GenericCondition{ReentrantLock}(Base.IntrusiveLinkedList{Task}(Task (runnable) @0x00007ff9661301a0, Task (runnable) @0x00007ff9661301a0), ReentrantLock(nothing, 0x00000000, 0x00, Base.GenericCondition{Base.Threads.SpinLock}(Base.IntrusiveLinkedList{Task}(nothing, nothing), Base.Threads.SpinLock(0)), (0, 140709293873040, 4)))), WebIO.JSString[WebIO.JSString(\"function () {\\n    var handler = (function (ko, koPunches) {\\n    ko.punches.enableAll();\\n    ko.bindingHandlers.numericValue = {\\n        init: function(element, valueAccessor, allBindings, data, context) {\\n            var stringified = ko.observable(ko.unwrap(valueAccessor()));\\n            stringified.subscribe(function(value) {\\n                var val = parseFloat(value);\\n                if (!isNaN(val)) {\\n                    valueAccessor()(val);\\n                }\\n            });\\n            valueAccessor().subscribe(function(value) {\\n                var str = JSON.stringify(value);\\n                if ((str == \\\"0\\\") && ([\\\"-0\\\", \\\"-0.\\\"].indexOf(stringified()) >= 0))\\n                     return;\\n                 if ([\\\"null\\\", \\\"\\\"].indexOf(str) >= 0)\\n                     return;\\n                stringified(str);\\n            });\\n            ko.applyBindingsToNode(\\n                element,\\n                {\\n                    value: stringified,\\n                    valueUpdate: allBindings.get('valueUpdate'),\\n                },\\n                context,\\n            );\\n        }\\n    };\\n    var json_data = {\\\"formatted_vals\\\":[\\\"1\\\",\\\"2\\\",\\\"3\\\",\\\"4\\\",\\\"5\\\",\\\"6\\\",\\\"7\\\",\\\"8\\\",\\\"9\\\",\\\"10\\\",\\\"11\\\",\\\"12\\\",\\\"13\\\",\\\"14\\\",\\\"15\\\",\\\"16\\\",\\\"17\\\",\\\"18\\\",\\\"19\\\",\\\"20\\\",\\\"21\\\",\\\"22\\\",\\\"23\\\",\\\"24\\\",\\\"25\\\",\\\"26\\\",\\\"27\\\",\\\"28\\\",\\\"29\\\",\\\"30\\\",\\\"31\\\",\\\"32\\\",\\\"33\\\",\\\"34\\\",\\\"35\\\",\\\"36\\\",\\\"37\\\",\\\"38\\\",\\\"39\\\",\\\"40\\\",\\\"41\\\",\\\"42\\\",\\\"43\\\",\\\"44\\\",\\\"45\\\",\\\"46\\\",\\\"47\\\",\\\"48\\\",\\\"49\\\",\\\"50\\\",\\\"51\\\",\\\"52\\\",\\\"53\\\",\\\"54\\\",\\\"55\\\",\\\"56\\\",\\\"57\\\",\\\"58\\\",\\\"59\\\",\\\"60\\\",\\\"61\\\",\\\"62\\\",\\\"63\\\",\\\"64\\\",\\\"65\\\",\\\"66\\\",\\\"67\\\",\\\"68\\\",\\\"69\\\",\\\"70\\\",\\\"71\\\",\\\"72\\\",\\\"73\\\",\\\"74\\\",\\\"75\\\",\\\"76\\\",\\\"77\\\",\\\"78\\\",\\\"79\\\",\\\"80\\\",\\\"81\\\",\\\"82\\\",\\\"83\\\",\\\"84\\\",\\\"85\\\",\\\"86\\\",\\\"87\\\",\\\"88\\\",\\\"89\\\",\\\"90\\\"],\\\"changes\\\":WebIO.getval({\\\"name\\\":\\\"changes\\\",\\\"scope\\\":\\\"10839053479107613554\\\",\\\"id\\\":\\\"1204213979841075776\\\",\\\"type\\\":\\\"observable\\\"}),\\\"index\\\":WebIO.getval({\\\"name\\\":\\\"index\\\",\\\"scope\\\":\\\"10839053479107613554\\\",\\\"id\\\":\\\"18287221480198680028\\\",\\\"type\\\":\\\"observable\\\"})};\\n    var self = this;\\n    function AppViewModel() {\\n        for (var key in json_data) {\\n            var el = json_data[key];\\n            this[key] = Array.isArray(el) ? ko.observableArray(el) : ko.observable(el);\\n        }\\n        \\n        [this[\\\"formatted_val\\\"]=ko.computed(    function(){\\n        return this.formatted_vals()[parseInt(this.index())-(1)];\\n    }\\n,this)]\\n        [this[\\\"changes\\\"].subscribe((function (val){!(this.valueFromJulia[\\\"changes\\\"]) ? (WebIO.setval({\\\"name\\\":\\\"changes\\\",\\\"scope\\\":\\\"10839053479107613554\\\",\\\"id\\\":\\\"1204213979841075776\\\",\\\"type\\\":\\\"observable\\\"},val)) : undefined; return this.valueFromJulia[\\\"changes\\\"]=false}),self),this[\\\"index\\\"].subscribe((function (val){!(this.valueFromJulia[\\\"index\\\"]) ? (WebIO.setval({\\\"name\\\":\\\"index\\\",\\\"scope\\\":\\\"10839053479107613554\\\",\\\"id\\\":\\\"18287221480198680028\\\",\\\"type\\\":\\\"observable\\\"},val)) : undefined; return this.valueFromJulia[\\\"index\\\"]=false}),self)]\\n        \\n    }\\n    self.model = new AppViewModel();\\n    self.valueFromJulia = {};\\n    for (var key in json_data) {\\n        self.valueFromJulia[key] = false;\\n    }\\n    ko.applyBindings(self.model, self.dom);\\n}\\n);\\n    (WebIO.importBlock({\\\"data\\\":[{\\\"name\\\":\\\"knockout\\\",\\\"type\\\":\\\"js\\\",\\\"url\\\":\\\"/assetserver/727383f2a47bd31570b7da84eee7b022dd6d7c78-knockout.js\\\"},{\\\"name\\\":\\\"knockout_punches\\\",\\\"type\\\":\\\"js\\\",\\\"url\\\":\\\"/assetserver/382b41b3b1bd9f26f75861d360bad7f8beea211f-knockout_punches.js\\\"}],\\\"type\\\":\\\"async_block\\\"})).then((imports) => handler.apply(this, imports));\\n}\\n\")])], Dict{Symbol, Any}(:className => \"field interact-widget\")), WebIO.Node{WebIO.DOM}(WebIO.DOM(:html, :div), Any[WebIO.Scope(WebIO.Node{WebIO.DOM}(WebIO.DOM(:html, :div), Any[WebIO.Node{WebIO.DOM}(WebIO.DOM(:html, :div), Any[WebIO.Node{WebIO.DOM}(WebIO.DOM(:html, :label), Any[\"scale\"], Dict{Symbol, Any}(:className => \"interact \", :style => Dict{Any, Any}(:padding => \"5px 10px 0px 10px\")))], Dict{Symbol, Any}(:className => \"interact-flex-row-left\")), WebIO.Node{WebIO.DOM}(WebIO.DOM(:html, :div), Any[WebIO.Node{WebIO.DOM}(WebIO.DOM(:html, :input), Any[], Dict{Symbol, Any}(:max => 20, :min => 1, :attributes => Dict{Any, Any}(:type => \"range\", Symbol(\"data-bind\") => \"numericValue: index, valueUpdate: 'input', event: {change: function (){this.changes(this.changes()+1)}}\", \"orient\" => \"horizontal\"), :step => 1, :className => \"slider slider is-fullwidth\", :style => Dict{Any, Any}()))], Dict{Symbol, Any}(:className => \"interact-flex-row-center\")), WebIO.Node{WebIO.DOM}(WebIO.DOM(:html, :div), Any[WebIO.Node{WebIO.DOM}(WebIO.DOM(:html, :p), Any[], Dict{Symbol, Any}(:attributes => Dict(\"data-bind\" => \"text: formatted_val\")))], Dict{Symbol, Any}(:className => \"interact-flex-row-right\"))], Dict{Symbol, Any}(:className => \"interact-flex-row interact-widget\")), Dict{String, Tuple{Observables.AbstractObservable, Union{Nothing, Bool}}}(\"changes\" => (Observable(0), nothing), \"index\" => (Observable{Any}(10), nothing)), Set{String}(), nothing, WebIO.Asset[WebIO.Asset(\"js\", \"knockout\", \"/home/dushya/.julia/packages/Knockout/HReiN/src/../assets/knockout.js\"), WebIO.Asset(\"js\", \"knockout_punches\", \"/home/dushya/.julia/packages/Knockout/HReiN/src/../assets/knockout_punches.js\"), WebIO.Asset(\"js\", nothing, \"/home/dushya/.julia/packages/InteractBase/LJXv3/src/../assets/all.js\"), WebIO.Asset(\"css\", nothing, \"/home/dushya/.julia/packages/InteractBase/LJXv3/src/../assets/style.css\"), WebIO.Asset(\"css\", nothing, \"/home/dushya/.julia/packages/Interact/PENUy/src/../assets/bulma_confined.min.css\")], Dict{Any, Any}(\"changes\" => Any[WebIO.JSString(\"(function (val){return (val!=this.model[\\\"changes\\\"]()) ? (this.valueFromJulia[\\\"changes\\\"]=true, this.model[\\\"changes\\\"](val)) : undefined})\")], \"index\" => Any[WebIO.JSString(\"(function (val){return (val!=this.model[\\\"index\\\"]()) ? (this.valueFromJulia[\\\"index\\\"]=true, this.model[\\\"index\\\"](val)) : undefined})\")]), WebIO.ConnectionPool(Channel{Any}(32), Set{WebIO.AbstractConnection}(), Base.GenericCondition{ReentrantLock}(Base.IntrusiveLinkedList{Task}(Task (runnable) @0x00007ff966132bd0, Task (runnable) @0x00007ff966132bd0), ReentrantLock(nothing, 0x00000000, 0x00, Base.GenericCondition{Base.Threads.SpinLock}(Base.IntrusiveLinkedList{Task}(nothing, nothing), Base.Threads.SpinLock(0)), (4617878467915022336, 4617878467915022336, 4615063718147915776)))), WebIO.JSString[WebIO.JSString(\"function () {\\n    var handler = (function (ko, koPunches) {\\n    ko.punches.enableAll();\\n    ko.bindingHandlers.numericValue = {\\n        init: function(element, valueAccessor, allBindings, data, context) {\\n            var stringified = ko.observable(ko.unwrap(valueAccessor()));\\n            stringified.subscribe(function(value) {\\n                var val = parseFloat(value);\\n                if (!isNaN(val)) {\\n                    valueAccessor()(val);\\n                }\\n            });\\n            valueAccessor().subscribe(function(value) {\\n                var str = JSON.stringify(value);\\n                if ((str == \\\"0\\\") && ([\\\"-0\\\", \\\"-0.\\\"].indexOf(stringified()) >= 0))\\n                     return;\\n                 if ([\\\"null\\\", \\\"\\\"].indexOf(str) >= 0)\\n                     return;\\n                stringified(str);\\n            });\\n            ko.applyBindingsToNode(\\n                element,\\n                {\\n                    value: stringified,\\n                    valueUpdate: allBindings.get('valueUpdate'),\\n                },\\n                context,\\n            );\\n        }\\n    };\\n    var json_data = {\\\"formatted_vals\\\":[\\\"0.1\\\",\\\"0.2\\\",\\\"0.3\\\",\\\"0.4\\\",\\\"0.5\\\",\\\"0.6\\\",\\\"0.7\\\",\\\"0.8\\\",\\\"0.9\\\",\\\"1.0\\\",\\\"1.1\\\",\\\"1.2\\\",\\\"1.3\\\",\\\"1.4\\\",\\\"1.5\\\",\\\"1.6\\\",\\\"1.7\\\",\\\"1.8\\\",\\\"1.9\\\",\\\"2.0\\\"],\\\"changes\\\":WebIO.getval({\\\"name\\\":\\\"changes\\\",\\\"scope\\\":\\\"9398971158352197059\\\",\\\"id\\\":\\\"16651796564896651693\\\",\\\"type\\\":\\\"observable\\\"}),\\\"index\\\":WebIO.getval({\\\"name\\\":\\\"index\\\",\\\"scope\\\":\\\"9398971158352197059\\\",\\\"id\\\":\\\"15070718849376184909\\\",\\\"type\\\":\\\"observable\\\"})};\\n    var self = this;\\n    function AppViewModel() {\\n        for (var key in json_data) {\\n            var el = json_data[key];\\n            this[key] = Array.isArray(el) ? ko.observableArray(el) : ko.observable(el);\\n        }\\n        \\n        [this[\\\"formatted_val\\\"]=ko.computed(    function(){\\n        return this.formatted_vals()[parseInt(this.index())-(1)];\\n    }\\n,this)]\\n        [this[\\\"changes\\\"].subscribe((function (val){!(this.valueFromJulia[\\\"changes\\\"]) ? (WebIO.setval({\\\"name\\\":\\\"changes\\\",\\\"scope\\\":\\\"9398971158352197059\\\",\\\"id\\\":\\\"16651796564896651693\\\",\\\"type\\\":\\\"observable\\\"},val)) : undefined; return this.valueFromJulia[\\\"changes\\\"]=false}),self),this[\\\"index\\\"].subscribe((function (val){!(this.valueFromJulia[\\\"index\\\"]) ? (WebIO.setval({\\\"name\\\":\\\"index\\\",\\\"scope\\\":\\\"9398971158352197059\\\",\\\"id\\\":\\\"15070718849376184909\\\",\\\"type\\\":\\\"observable\\\"},val)) : undefined; return this.valueFromJulia[\\\"index\\\"]=false}),self)]\\n        \\n    }\\n    self.model = new AppViewModel();\\n    self.valueFromJulia = {};\\n    for (var key in json_data) {\\n        self.valueFromJulia[key] = false;\\n    }\\n    ko.applyBindings(self.model, self.dom);\\n}\\n);\\n    (WebIO.importBlock({\\\"data\\\":[{\\\"name\\\":\\\"knockout\\\",\\\"type\\\":\\\"js\\\",\\\"url\\\":\\\"/assetserver/727383f2a47bd31570b7da84eee7b022dd6d7c78-knockout.js\\\"},{\\\"name\\\":\\\"knockout_punches\\\",\\\"type\\\":\\\"js\\\",\\\"url\\\":\\\"/assetserver/382b41b3b1bd9f26f75861d360bad7f8beea211f-knockout_punches.js\\\"}],\\\"type\\\":\\\"async_block\\\"})).then((imports) => handler.apply(this, imports));\\n}\\n\")])], Dict{Symbol, Any}(:className => \"field interact-widget\")), WebIO.Node{WebIO.DOM}(WebIO.DOM(:html, :div), Any[WebIO.Node{WebIO.DOM}(WebIO.DOM(:html, :div), Any[WebIO.Scope(WebIO.Node{WebIO.DOM}(WebIO.DOM(:html, :div), Any[], Dict{Symbol, Any}(:id => \"container\")), Dict{String, Tuple{Observables.AbstractObservable, Union{Nothing, Bool}}}(\"value\" => (Observable(\"\\\\;\\\\;\"), nothing)), Set{String}(), nothing, WebIO.Asset[WebIO.Asset(\"js\", nothing, \"/home/dushya/.julia/packages/InteractBase/LJXv3/src/../assets/katex.min.js\"), WebIO.Asset(\"css\", nothing, \"/home/dushya/.julia/packages/InteractBase/LJXv3/src/../assets/katex.min.css\")], Dict{Any, Any}(\"value\" => Any[WebIO.JSString(\"(function (txt){return this.k.render(txt,this.container)})\")]), WebIO.ConnectionPool(Channel{Any}(32), Set{WebIO.AbstractConnection}(), Base.GenericCondition{ReentrantLock}(Base.IntrusiveLinkedList{Task}(Task (runnable) @0x00007ff96e2d20e0, Task (runnable) @0x00007ff96e2d20e0), ReentrantLock(nothing, 0x00000000, 0x00, Base.GenericCondition{Base.Threads.SpinLock}(Base.IntrusiveLinkedList{Task}(nothing, nothing), Base.Threads.SpinLock(0)), (0, 140709284935160, 140710057623728)))), WebIO.JSString[WebIO.JSString(\"function () {\\n    var handler = ((function (k){this.k=k; this.container=this.dom.querySelector(\\\"#container\\\"); return k.render(\\\"\\\\\\\\;\\\\\\\\;\\\",this.container)}));\\n    (WebIO.importBlock({\\\"data\\\":[{\\\"name\\\":null,\\\"type\\\":\\\"js\\\",\\\"url\\\":\\\"/assetserver/dd22ed1bf1896c2748f3fe616ce0b838adc895c1-katex.min.js\\\"},{\\\"name\\\":null,\\\"type\\\":\\\"css\\\",\\\"url\\\":\\\"/assetserver/46517a424aa5e6cffc1360d7e0848b601c584ee3-katex.min.css\\\"}],\\\"type\\\":\\\"async_block\\\"})).then((imports) => handler.apply(this, imports));\\n}\\n\")])], Dict{Symbol, Any}(:className => \"interact-widget\")), WebIO.Node{WebIO.DOM}(WebIO.DOM(:html, :div), Any[WebIO.Scope(WebIO.Node{WebIO.DOM}(WebIO.DOM(:html, :button), Any[\"run\"], Dict{Symbol, Any}(:attributes => Dict{Any, Any}(\"data-bind\" => \"click: function (){this.clicks(this.clicks()+1)}, css: {'is-loading' : loading}\"), :className => \"is-medium button is-primary\", :style => Dict{String, Any}())), Dict{String, Tuple{Observables.AbstractObservable, Union{Nothing, Bool}}}(\"loading\" => (Observable(false), nothing), \"clicks\" => (Observable(0), nothing)), Set{String}(), nothing, WebIO.Asset[WebIO.Asset(\"js\", \"knockout\", \"/home/dushya/.julia/packages/Knockout/HReiN/src/../assets/knockout.js\"), WebIO.Asset(\"js\", \"knockout_punches\", \"/home/dushya/.julia/packages/Knockout/HReiN/src/../assets/knockout_punches.js\"), WebIO.Asset(\"js\", nothing, \"/home/dushya/.julia/packages/InteractBase/LJXv3/src/../assets/all.js\"), WebIO.Asset(\"css\", nothing, \"/home/dushya/.julia/packages/InteractBase/LJXv3/src/../assets/style.css\"), WebIO.Asset(\"css\", nothing, \"/home/dushya/.julia/packages/Interact/PENUy/src/../assets/bulma_confined.min.css\")], Dict{Any, Any}(\"loading\" => Any[WebIO.JSString(\"(function (val){return (val!=this.model[\\\"loading\\\"]()) ? (this.valueFromJulia[\\\"loading\\\"]=true, this.model[\\\"loading\\\"](val)) : undefined})\")], \"clicks\" => Any[WebIO.JSString(\"(function (val){return (val!=this.model[\\\"clicks\\\"]()) ? (this.valueFromJulia[\\\"clicks\\\"]=true, this.model[\\\"clicks\\\"](val)) : undefined})\")]), WebIO.ConnectionPool(Channel{Any}(32), Set{WebIO.AbstractConnection}(), Base.GenericCondition{ReentrantLock}(Base.IntrusiveLinkedList{Task}(Task (runnable) @0x00007ff96e250b00, Task (runnable) @0x00007ff96e250b00), ReentrantLock(nothing, 0x00000000, 0x00, Base.GenericCondition{Base.Threads.SpinLock}(Base.IntrusiveLinkedList{Task}(nothing, nothing), Base.Threads.SpinLock(0)), (0, 140709276779544, 0)))), WebIO.JSString[WebIO.JSString(\"function () {\\n    var handler = (function (ko, koPunches) {\\n    ko.punches.enableAll();\\n    ko.bindingHandlers.numericValue = {\\n        init: function(element, valueAccessor, allBindings, data, context) {\\n            var stringified = ko.observable(ko.unwrap(valueAccessor()));\\n            stringified.subscribe(function(value) {\\n                var val = parseFloat(value);\\n                if (!isNaN(val)) {\\n                    valueAccessor()(val);\\n                }\\n            });\\n            valueAccessor().subscribe(function(value) {\\n                var str = JSON.stringify(value);\\n                if ((str == \\\"0\\\") && ([\\\"-0\\\", \\\"-0.\\\"].indexOf(stringified()) >= 0))\\n                     return;\\n                 if ([\\\"null\\\", \\\"\\\"].indexOf(str) >= 0)\\n                     return;\\n                stringified(str);\\n            });\\n            ko.applyBindingsToNode(\\n                element,\\n                {\\n                    value: stringified,\\n                    valueUpdate: allBindings.get('valueUpdate'),\\n                },\\n                context,\\n            );\\n        }\\n    };\\n    var json_data = {\\\"loading\\\":WebIO.getval({\\\"name\\\":\\\"loading\\\",\\\"scope\\\":\\\"2622321394928731236\\\",\\\"id\\\":\\\"7800332222887076564\\\",\\\"type\\\":\\\"observable\\\"}),\\\"clicks\\\":WebIO.getval({\\\"name\\\":\\\"clicks\\\",\\\"scope\\\":\\\"2622321394928731236\\\",\\\"id\\\":\\\"14601536911652936284\\\",\\\"type\\\":\\\"observable\\\"})};\\n    var self = this;\\n    function AppViewModel() {\\n        for (var key in json_data) {\\n            var el = json_data[key];\\n            this[key] = Array.isArray(el) ? ko.observableArray(el) : ko.observable(el);\\n        }\\n        \\n        \\n        [this[\\\"loading\\\"].subscribe((function (val){!(this.valueFromJulia[\\\"loading\\\"]) ? (WebIO.setval({\\\"name\\\":\\\"loading\\\",\\\"scope\\\":\\\"2622321394928731236\\\",\\\"id\\\":\\\"7800332222887076564\\\",\\\"type\\\":\\\"observable\\\"},val)) : undefined; return this.valueFromJulia[\\\"loading\\\"]=false}),self),this[\\\"clicks\\\"].subscribe((function (val){!(this.valueFromJulia[\\\"clicks\\\"]) ? (WebIO.setval({\\\"name\\\":\\\"clicks\\\",\\\"scope\\\":\\\"2622321394928731236\\\",\\\"id\\\":\\\"14601536911652936284\\\",\\\"type\\\":\\\"observable\\\"},val)) : undefined; return this.valueFromJulia[\\\"clicks\\\"]=false}),self)]\\n        \\n    }\\n    self.model = new AppViewModel();\\n    self.valueFromJulia = {};\\n    for (var key in json_data) {\\n        self.valueFromJulia[key] = false;\\n    }\\n    ko.applyBindings(self.model, self.dom);\\n}\\n);\\n    (WebIO.importBlock({\\\"data\\\":[{\\\"name\\\":\\\"knockout\\\",\\\"type\\\":\\\"js\\\",\\\"url\\\":\\\"/assetserver/727383f2a47bd31570b7da84eee7b022dd6d7c78-knockout.js\\\"},{\\\"name\\\":\\\"knockout_punches\\\",\\\"type\\\":\\\"js\\\",\\\"url\\\":\\\"/assetserver/382b41b3b1bd9f26f75861d360bad7f8beea211f-knockout_punches.js\\\"}],\\\"type\\\":\\\"async_block\\\"})).then((imports) => handler.apply(this, imports));\\n}\\n\")])], Dict{Symbol, Any}(:className => \"field interact-widget\")), WebIO.Node{WebIO.DOM}(WebIO.DOM(:html, :div), Any[WebIO.Scope(WebIO.Node{WebIO.DOM}(WebIO.DOM(:html, :div), Any[], Dict{Symbol, Any}(:id => \"container\")), Dict{String, Tuple{Observables.AbstractObservable, Union{Nothing, Bool}}}(\"value\" => (Observable(\"\\\\;\\\\;\"), nothing)), Set{String}(), nothing, WebIO.Asset[WebIO.Asset(\"js\", nothing, \"/home/dushya/.julia/packages/InteractBase/LJXv3/src/../assets/katex.min.js\"), WebIO.Asset(\"css\", nothing, \"/home/dushya/.julia/packages/InteractBase/LJXv3/src/../assets/katex.min.css\")], Dict{Any, Any}(\"value\" => Any[WebIO.JSString(\"(function (txt){return this.k.render(txt,this.container)})\")]), WebIO.ConnectionPool(Channel{Any}(32), Set{WebIO.AbstractConnection}(), Base.GenericCondition{ReentrantLock}(Base.IntrusiveLinkedList{Task}(Task (runnable) @0x00007ff96e2d20e0, Task (runnable) @0x00007ff96e2d20e0), ReentrantLock(nothing, 0x00000000, 0x00, Base.GenericCondition{Base.Threads.SpinLock}(Base.IntrusiveLinkedList{Task}(nothing, nothing), Base.Threads.SpinLock(0)), (0, 140709284935160, 140710057623728)))), WebIO.JSString[WebIO.JSString(\"function () {\\n    var handler = ((function (k){this.k=k; this.container=this.dom.querySelector(\\\"#container\\\"); return k.render(\\\"\\\\\\\\;\\\\\\\\;\\\",this.container)}));\\n    (WebIO.importBlock({\\\"data\\\":[{\\\"name\\\":null,\\\"type\\\":\\\"js\\\",\\\"url\\\":\\\"/assetserver/dd22ed1bf1896c2748f3fe616ce0b838adc895c1-katex.min.js\\\"},{\\\"name\\\":null,\\\"type\\\":\\\"css\\\",\\\"url\\\":\\\"/assetserver/46517a424aa5e6cffc1360d7e0848b601c584ee3-katex.min.css\\\"}],\\\"type\\\":\\\"async_block\\\"})).then((imports) => handler.apply(this, imports));\\n}\\n\")])], Dict{Symbol, Any}(:className => \"interact-widget\")), WebIO.Node{WebIO.DOM}(WebIO.DOM(:html, :div), Any[WebIO.Scope(WebIO.Node{WebIO.DOM}(WebIO.DOM(:html, :button), Any[\"stop\"], Dict{Symbol, Any}(:attributes => Dict{Any, Any}(\"data-bind\" => \"click: function (){this.clicks(this.clicks()+1)}, css: {'is-loading' : loading}\"), :className => \"is-medium button is-primary\", :style => Dict{String, Any}())), Dict{String, Tuple{Observables.AbstractObservable, Union{Nothing, Bool}}}(\"loading\" => (Observable(false), nothing), \"clicks\" => (Observable(0), nothing)), Set{String}(), nothing, WebIO.Asset[WebIO.Asset(\"js\", \"knockout\", \"/home/dushya/.julia/packages/Knockout/HReiN/src/../assets/knockout.js\"), WebIO.Asset(\"js\", \"knockout_punches\", \"/home/dushya/.julia/packages/Knockout/HReiN/src/../assets/knockout_punches.js\"), WebIO.Asset(\"js\", nothing, \"/home/dushya/.julia/packages/InteractBase/LJXv3/src/../assets/all.js\"), WebIO.Asset(\"css\", nothing, \"/home/dushya/.julia/packages/InteractBase/LJXv3/src/../assets/style.css\"), WebIO.Asset(\"css\", nothing, \"/home/dushya/.julia/packages/Interact/PENUy/src/../assets/bulma_confined.min.css\")], Dict{Any, Any}(\"loading\" => Any[WebIO.JSString(\"(function (val){return (val!=this.model[\\\"loading\\\"]()) ? (this.valueFromJulia[\\\"loading\\\"]=true, this.model[\\\"loading\\\"](val)) : undefined})\")], \"clicks\" => Any[WebIO.JSString(\"(function (val){return (val!=this.model[\\\"clicks\\\"]()) ? (this.valueFromJulia[\\\"clicks\\\"]=true, this.model[\\\"clicks\\\"](val)) : undefined})\")]), WebIO.ConnectionPool(Channel{Any}(32), Set{WebIO.AbstractConnection}(), Base.GenericCondition{ReentrantLock}(Base.IntrusiveLinkedList{Task}(Task (runnable) @0x00007ff96e2539e0, Task (runnable) @0x00007ff96e2539e0), ReentrantLock(nothing, 0x00000000, 0x00, Base.GenericCondition{Base.Threads.SpinLock}(Base.IntrusiveLinkedList{Task}(nothing, nothing), Base.Threads.SpinLock(0)), (174, -65536, 140068943080203)))), WebIO.JSString[WebIO.JSString(\"function () {\\n    var handler = (function (ko, koPunches) {\\n    ko.punches.enableAll();\\n    ko.bindingHandlers.numericValue = {\\n        init: function(element, valueAccessor, allBindings, data, context) {\\n            var stringified = ko.observable(ko.unwrap(valueAccessor()));\\n            stringified.subscribe(function(value) {\\n                var val = parseFloat(value);\\n                if (!isNaN(val)) {\\n                    valueAccessor()(val);\\n                }\\n            });\\n            valueAccessor().subscribe(function(value) {\\n                var str = JSON.stringify(value);\\n                if ((str == \\\"0\\\") && ([\\\"-0\\\", \\\"-0.\\\"].indexOf(stringified()) >= 0))\\n                     return;\\n                 if ([\\\"null\\\", \\\"\\\"].indexOf(str) >= 0)\\n                     return;\\n                stringified(str);\\n            });\\n            ko.applyBindingsToNode(\\n                element,\\n                {\\n                    value: stringified,\\n                    valueUpdate: allBindings.get('valueUpdate'),\\n                },\\n                context,\\n            );\\n        }\\n    };\\n    var json_data = {\\\"loading\\\":WebIO.getval({\\\"name\\\":\\\"loading\\\",\\\"scope\\\":\\\"2955051059805834124\\\",\\\"id\\\":\\\"4530677131926339682\\\",\\\"type\\\":\\\"observable\\\"}),\\\"clicks\\\":WebIO.getval({\\\"name\\\":\\\"clicks\\\",\\\"scope\\\":\\\"2955051059805834124\\\",\\\"id\\\":\\\"9673801962214078705\\\",\\\"type\\\":\\\"observable\\\"})};\\n    var self = this;\\n    function AppViewModel() {\\n        for (var key in json_data) {\\n            var el = json_data[key];\\n            this[key] = Array.isArray(el) ? ko.observableArray(el) : ko.observable(el);\\n        }\\n        \\n        \\n        [this[\\\"loading\\\"].subscribe((function (val){!(this.valueFromJulia[\\\"loading\\\"]) ? (WebIO.setval({\\\"name\\\":\\\"loading\\\",\\\"scope\\\":\\\"2955051059805834124\\\",\\\"id\\\":\\\"4530677131926339682\\\",\\\"type\\\":\\\"observable\\\"},val)) : undefined; return this.valueFromJulia[\\\"loading\\\"]=false}),self),this[\\\"clicks\\\"].subscribe((function (val){!(this.valueFromJulia[\\\"clicks\\\"]) ? (WebIO.setval({\\\"name\\\":\\\"clicks\\\",\\\"scope\\\":\\\"2955051059805834124\\\",\\\"id\\\":\\\"9673801962214078705\\\",\\\"type\\\":\\\"observable\\\"},val)) : undefined; return this.valueFromJulia[\\\"clicks\\\"]=false}),self)]\\n        \\n    }\\n    self.model = new AppViewModel();\\n    self.valueFromJulia = {};\\n    for (var key in json_data) {\\n        self.valueFromJulia[key] = false;\\n    }\\n    ko.applyBindings(self.model, self.dom);\\n}\\n);\\n    (WebIO.importBlock({\\\"data\\\":[{\\\"name\\\":\\\"knockout\\\",\\\"type\\\":\\\"js\\\",\\\"url\\\":\\\"/assetserver/727383f2a47bd31570b7da84eee7b022dd6d7c78-knockout.js\\\"},{\\\"name\\\":\\\"knockout_punches\\\",\\\"type\\\":\\\"js\\\",\\\"url\\\":\\\"/assetserver/382b41b3b1bd9f26f75861d360bad7f8beea211f-knockout_punches.js\\\"}],\\\"type\\\":\\\"async_block\\\"})).then((imports) => handler.apply(this, imports));\\n}\\n\")])], Dict{Symbol, Any}(:className => \"field interact-widget\"))], Dict{Symbol, Any}(:style => Dict(\"display\" => \"flex\", \"flex-direction\" => \"row\")))], Dict{Symbol, Any}(:style => Dict(\"display\" => \"flex\", \"flex-direction\" => \"column\"))), Observable(MeshCat.DisplayedVisualizer(MeshCat.CoreVisualizer(MeshCat.SceneTrees.SceneNode(nothing, nothing, Dict{String, Vector{UInt8}}(), nothing, Dict{String, MeshCat.SceneTrees.SceneNode}(\"meshcat\" => MeshCat.SceneTrees.SceneNode(nothing, UInt8[0x83, 0xa6, 0x6d, 0x61, 0x74, 0x72, 0x69, 0x78, 0xc7, 0x40  …  0x68, 0xa8, 0x2f, 0x6d, 0x65, 0x73, 0x68, 0x63, 0x61, 0x74], Dict{String, Vector{UInt8}}(), nothing, Dict{String, MeshCat.SceneTrees.SceneNode}(\"agents\" => MeshCat.SceneTrees.SceneNode(nothing, nothing, Dict{String, Vector{UInt8}}(), nothing, Dict{String, MeshCat.SceneTrees.SceneNode}(\"131sphere\" => MeshCat.SceneTrees.SceneNode(nothing, UInt8[0x83, 0xa6, 0x6d, 0x61, 0x74, 0x72, 0x69, 0x78, 0xc7, 0x40  …  0x2f, 0x31, 0x33, 0x31, 0x73, 0x70, 0x68, 0x65, 0x72, 0x65], Dict{String, Vector{UInt8}}(\"scale\" => [0x84, 0xa8, 0x70, 0x72, 0x6f, 0x70, 0x65, 0x72, 0x74, 0x79  …  0x2f, 0x31, 0x33, 0x31, 0x73, 0x70, 0x68, 0x65, 0x72, 0x65]), nothing, Dict{String, MeshCat.SceneTrees.SceneNode}(\"(1.0N0f8, 0.0N0f8, 0.0N0f8, 1.0N0f8)\" => MeshCat.SceneTrees.SceneNode(UInt8[0x83, 0xa6, 0x6f, 0x62, 0x6a, 0x65, 0x63, 0x74, 0x84, 0xaa  …  0x2c, 0x20, 0x31, 0x2e, 0x30, 0x4e, 0x30, 0x66, 0x38, 0x29], nothing, Dict{String, Vector{UInt8}}(\"visible\" => [0x84, 0xa8, 0x70, 0x72, 0x6f, 0x70, 0x65, 0x72, 0x74, 0x79  …  0x2c, 0x20, 0x31, 0x2e, 0x30, 0x4e, 0x30, 0x66, 0x38, 0x29]), nothing, Dict{String, MeshCat.SceneTrees.SceneNode}()))), \"183sphere\" => MeshCat.SceneTrees.SceneNode(nothing, UInt8[0x83, 0xa6, 0x6d, 0x61, 0x74, 0x72, 0x69, 0x78, 0xc7, 0x40  …  0x2f, 0x31, 0x38, 0x33, 0x73, 0x70, 0x68, 0x65, 0x72, 0x65], Dict{String, Vector{UInt8}}(\"scale\" => [0x84, 0xa8, 0x70, 0x72, 0x6f, 0x70, 0x65, 0x72, 0x74, 0x79  …  0x2f, 0x31, 0x38, 0x33, 0x73, 0x70, 0x68, 0x65, 0x72, 0x65]), nothing, Dict{String, MeshCat.SceneTrees.SceneNode}(\"(0.0N0f8, 1.0N0f8, 0.0N0f8, 1.0N0f8)\" => MeshCat.SceneTrees.SceneNode(UInt8[0x83, 0xa6, 0x6f, 0x62, 0x6a, 0x65, 0x63, 0x74, 0x84, 0xaa  …  0x2c, 0x20, 0x31, 0x2e, 0x30, 0x4e, 0x30, 0x66, 0x38, 0x29], nothing, Dict{String, Vector{UInt8}}(\"visible\" => [0x84, 0xa8, 0x70, 0x72, 0x6f, 0x70, 0x65, 0x72, 0x74, 0x79  …  0x2c, 0x20, 0x31, 0x2e, 0x30, 0x4e, 0x30, 0x66, 0x38, 0x29]), nothing, Dict{String, MeshCat.SceneTrees.SceneNode}()))), \"186sphere\" => MeshCat.SceneTrees.SceneNode(nothing, UInt8[0x83, 0xa6, 0x6d, 0x61, 0x74, 0x72, 0x69, 0x78, 0xc7, 0x40  …  0x2f, 0x31, 0x38, 0x36, 0x73, 0x70, 0x68, 0x65, 0x72, 0x65], Dict{String, Vector{UInt8}}(\"scale\" => [0x84, 0xa8, 0x70, 0x72, 0x6f, 0x70, 0x65, 0x72, 0x74, 0x79  …  0x2f, 0x31, 0x38, 0x36, 0x73, 0x70, 0x68, 0x65, 0x72, 0x65]), nothing, Dict{String, MeshCat.SceneTrees.SceneNode}(\"(0.0N0f8, 1.0N0f8, 0.0N0f8, 1.0N0f8)\" => MeshCat.SceneTrees.SceneNode(UInt8[0x83, 0xa6, 0x6f, 0x62, 0x6a, 0x65, 0x63, 0x74, 0x84, 0xaa  …  0x2c, 0x20, 0x31, 0x2e, 0x30, 0x4e, 0x30, 0x66, 0x38, 0x29], nothing, Dict{String, Vector{UInt8}}(\"visible\" => [0x84, 0xa8, 0x70, 0x72, 0x6f, 0x70, 0x65, 0x72, 0x74, 0x79  …  0x2c, 0x20, 0x31, 0x2e, 0x30, 0x4e, 0x30, 0x66, 0x38, 0x29]), nothing, Dict{String, MeshCat.SceneTrees.SceneNode}()))), \"87sphere\" => MeshCat.SceneTrees.SceneNode(nothing, UInt8[0x83, 0xa6, 0x6d, 0x61, 0x74, 0x72, 0x69, 0x78, 0xc7, 0x40  …  0x73, 0x2f, 0x38, 0x37, 0x73, 0x70, 0x68, 0x65, 0x72, 0x65], Dict{String, Vector{UInt8}}(\"scale\" => [0x84, 0xa8, 0x70, 0x72, 0x6f, 0x70, 0x65, 0x72, 0x74, 0x79  …  0x73, 0x2f, 0x38, 0x37, 0x73, 0x70, 0x68, 0x65, 0x72, 0x65]), nothing, Dict{String, MeshCat.SceneTrees.SceneNode}(\"(1.0N0f8, 0.0N0f8, 0.0N0f8, 1.0N0f8)\" => MeshCat.SceneTrees.SceneNode(UInt8[0x83, 0xa6, 0x6f, 0x62, 0x6a, 0x65, 0x63, 0x74, 0x84, 0xaa  …  0x2c, 0x20, 0x31, 0x2e, 0x30, 0x4e, 0x30, 0x66, 0x38, 0x29], nothing, Dict{String, Vector{UInt8}}(\"visible\" => [0x84, 0xa8, 0x70, 0x72, 0x6f, 0x70, 0x65, 0x72, 0x74, 0x79  …  0x2c, 0x20, 0x31, 0x2e, 0x30, 0x4e, 0x30, 0x66, 0x38, 0x29]), nothing, Dict{String, MeshCat.SceneTrees.SceneNode}()))), \"130sphere\" => MeshCat.SceneTrees.SceneNode(nothing, UInt8[0x83, 0xa6, 0x6d, 0x61, 0x74, 0x72, 0x69, 0x78, 0xc7, 0x40  …  0x2f, 0x31, 0x33, 0x30, 0x73, 0x70, 0x68, 0x65, 0x72, 0x65], Dict{String, Vector{UInt8}}(\"scale\" => [0x84, 0xa8, 0x70, 0x72, 0x6f, 0x70, 0x65, 0x72, 0x74, 0x79  …  0x2f, 0x31, 0x33, 0x30, 0x73, 0x70, 0x68, 0x65, 0x72, 0x65]), nothing, Dict{String, MeshCat.SceneTrees.SceneNode}(\"(1.0N0f8, 0.0N0f8, 0.0N0f8, 1.0N0f8)\" => MeshCat.SceneTrees.SceneNode(UInt8[0x83, 0xa6, 0x6f, 0x62, 0x6a, 0x65, 0x63, 0x74, 0x84, 0xaa  …  0x2c, 0x20, 0x31, 0x2e, 0x30, 0x4e, 0x30, 0x66, 0x38, 0x29], nothing, Dict{String, Vector{UInt8}}(\"visible\" => [0x84, 0xa8, 0x70, 0x72, 0x6f, 0x70, 0x65, 0x72, 0x74, 0x79  …  0x2c, 0x20, 0x31, 0x2e, 0x30, 0x4e, 0x30, 0x66, 0x38, 0x29]), nothing, Dict{String, MeshCat.SceneTrees.SceneNode}()))), \"51sphere\" => MeshCat.SceneTrees.SceneNode(nothing, UInt8[0x83, 0xa6, 0x6d, 0x61, 0x74, 0x72, 0x69, 0x78, 0xc7, 0x40  …  0x73, 0x2f, 0x35, 0x31, 0x73, 0x70, 0x68, 0x65, 0x72, 0x65], Dict{String, Vector{UInt8}}(\"scale\" => [0x84, 0xa8, 0x70, 0x72, 0x6f, 0x70, 0x65, 0x72, 0x74, 0x79  …  0x73, 0x2f, 0x35, 0x31, 0x73, 0x70, 0x68, 0x65, 0x72, 0x65]), nothing, Dict{String, MeshCat.SceneTrees.SceneNode}(\"(1.0N0f8, 0.0N0f8, 0.0N0f8, 1.0N0f8)\" => MeshCat.SceneTrees.SceneNode(UInt8[0x83, 0xa6, 0x6f, 0x62, 0x6a, 0x65, 0x63, 0x74, 0x84, 0xaa  …  0x2c, 0x20, 0x31, 0x2e, 0x30, 0x4e, 0x30, 0x66, 0x38, 0x29], nothing, Dict{String, Vector{UInt8}}(\"visible\" => [0x84, 0xa8, 0x70, 0x72, 0x6f, 0x70, 0x65, 0x72, 0x74, 0x79  …  0x2c, 0x20, 0x31, 0x2e, 0x30, 0x4e, 0x30, 0x66, 0x38, 0x29]), nothing, Dict{String, MeshCat.SceneTrees.SceneNode}()))), \"9sphere\" => MeshCat.SceneTrees.SceneNode(nothing, UInt8[0x83, 0xa6, 0x6d, 0x61, 0x74, 0x72, 0x69, 0x78, 0xc7, 0x40  …  0x74, 0x73, 0x2f, 0x39, 0x73, 0x70, 0x68, 0x65, 0x72, 0x65], Dict{String, Vector{UInt8}}(\"scale\" => [0x84, 0xa8, 0x70, 0x72, 0x6f, 0x70, 0x65, 0x72, 0x74, 0x79  …  0x74, 0x73, 0x2f, 0x39, 0x73, 0x70, 0x68, 0x65, 0x72, 0x65]), nothing, Dict{String, MeshCat.SceneTrees.SceneNode}(\"(0.0N0f8, 1.0N0f8, 0.0N0f8, 1.0N0f8)\" => MeshCat.SceneTrees.SceneNode(UInt8[0x83, 0xa6, 0x6f, 0x62, 0x6a, 0x65, 0x63, 0x74, 0x84, 0xaa  …  0x2c, 0x20, 0x31, 0x2e, 0x30, 0x4e, 0x30, 0x66, 0x38, 0x29], nothing, Dict{String, Vector{UInt8}}(\"visible\" => [0x84, 0xa8, 0x70, 0x72, 0x6f, 0x70, 0x65, 0x72, 0x74, 0x79  …  0x2c, 0x20, 0x31, 0x2e, 0x30, 0x4e, 0x30, 0x66, 0x38, 0x29]), nothing, Dict{String, MeshCat.SceneTrees.SceneNode}()))), \"154sphere\" => MeshCat.SceneTrees.SceneNode(nothing, UInt8[0x83, 0xa6, 0x6d, 0x61, 0x74, 0x72, 0x69, 0x78, 0xc7, 0x40  …  0x2f, 0x31, 0x35, 0x34, 0x73, 0x70, 0x68, 0x65, 0x72, 0x65], Dict{String, Vector{UInt8}}(\"scale\" => [0x84, 0xa8, 0x70, 0x72, 0x6f, 0x70, 0x65, 0x72, 0x74, 0x79  …  0x2f, 0x31, 0x35, 0x34, 0x73, 0x70, 0x68, 0x65, 0x72, 0x65]), nothing, Dict{String, MeshCat.SceneTrees.SceneNode}(\"(0.0N0f8, 1.0N0f8, 0.0N0f8, 1.0N0f8)\" => MeshCat.SceneTrees.SceneNode(UInt8[0x83, 0xa6, 0x6f, 0x62, 0x6a, 0x65, 0x63, 0x74, 0x84, 0xaa  …  0x2c, 0x20, 0x31, 0x2e, 0x30, 0x4e, 0x30, 0x66, 0x38, 0x29], nothing, Dict{String, Vector{UInt8}}(\"visible\" => [0x84, 0xa8, 0x70, 0x72, 0x6f, 0x70, 0x65, 0x72, 0x74, 0x79  …  0x2c, 0x20, 0x31, 0x2e, 0x30, 0x4e, 0x30, 0x66, 0x38, 0x29]), nothing, Dict{String, MeshCat.SceneTrees.SceneNode}()))), \"102sphere\" => MeshCat.SceneTrees.SceneNode(nothing, UInt8[0x83, 0xa6, 0x6d, 0x61, 0x74, 0x72, 0x69, 0x78, 0xc7, 0x40  …  0x2f, 0x31, 0x30, 0x32, 0x73, 0x70, 0x68, 0x65, 0x72, 0x65], Dict{String, Vector{UInt8}}(\"scale\" => [0x84, 0xa8, 0x70, 0x72, 0x6f, 0x70, 0x65, 0x72, 0x74, 0x79  …  0x2f, 0x31, 0x30, 0x32, 0x73, 0x70, 0x68, 0x65, 0x72, 0x65]), nothing, Dict{String, MeshCat.SceneTrees.SceneNode}(\"(0.0N0f8, 1.0N0f8, 0.0N0f8, 1.0N0f8)\" => MeshCat.SceneTrees.SceneNode(UInt8[0x83, 0xa6, 0x6f, 0x62, 0x6a, 0x65, 0x63, 0x74, 0x84, 0xaa  …  0x2c, 0x20, 0x31, 0x2e, 0x30, 0x4e, 0x30, 0x66, 0x38, 0x29], nothing, Dict{String, Vector{UInt8}}(\"visible\" => [0x84, 0xa8, 0x70, 0x72, 0x6f, 0x70, 0x65, 0x72, 0x74, 0x79  …  0x2c, 0x20, 0x31, 0x2e, 0x30, 0x4e, 0x30, 0x66, 0x38, 0x29]), nothing, Dict{String, MeshCat.SceneTrees.SceneNode}()))), \"64sphere\" => MeshCat.SceneTrees.SceneNode(nothing, UInt8[0x83, 0xa6, 0x6d, 0x61, 0x74, 0x72, 0x69, 0x78, 0xc7, 0x40  …  0x73, 0x2f, 0x36, 0x34, 0x73, 0x70, 0x68, 0x65, 0x72, 0x65], Dict{String, Vector{UInt8}}(\"scale\" => [0x84, 0xa8, 0x70, 0x72, 0x6f, 0x70, 0x65, 0x72, 0x74, 0x79  …  0x73, 0x2f, 0x36, 0x34, 0x73, 0x70, 0x68, 0x65, 0x72, 0x65]), nothing, Dict{String, MeshCat.SceneTrees.SceneNode}(\"(1.0N0f8, 0.0N0f8, 0.0N0f8, 1.0N0f8)\" => MeshCat.SceneTrees.SceneNode(UInt8[0x83, 0xa6, 0x6f, 0x62, 0x6a, 0x65, 0x63, 0x74, 0x84, 0xaa  …  0x2c, 0x20, 0x31, 0x2e, 0x30, 0x4e, 0x30, 0x66, 0x38, 0x29], nothing, Dict{String, Vector{UInt8}}(\"visible\" => [0x84, 0xa8, 0x70, 0x72, 0x6f, 0x70, 0x65, 0x72, 0x74, 0x79  …  0x2c, 0x20, 0x31, 0x2e, 0x30, 0x4e, 0x30, 0x66, 0x38, 0x29]), nothing, Dict{String, MeshCat.SceneTrees.SceneNode}())))…)), \"bbox_line_segments\" => MeshCat.SceneTrees.SceneNode(nothing, nothing, Dict{String, Vector{UInt8}}(), nothing, Dict{String, MeshCat.SceneTrees.SceneNode}(\"4\" => MeshCat.SceneTrees.SceneNode(UInt8[0x83, 0xa6, 0x6f, 0x62, 0x6a, 0x65, 0x63, 0x74, 0x84, 0xaa  …  0x73, 0x65, 0x67, 0x6d, 0x65, 0x6e, 0x74, 0x73, 0x2f, 0x34], nothing, Dict{String, Vector{UInt8}}(), nothing, Dict{String, MeshCat.SceneTrees.SceneNode}()), \"1\" => MeshCat.SceneTrees.SceneNode(UInt8[0x83, 0xa6, 0x6f, 0x62, 0x6a, 0x65, 0x63, 0x74, 0x84, 0xaa  …  0x73, 0x65, 0x67, 0x6d, 0x65, 0x6e, 0x74, 0x73, 0x2f, 0x31], nothing, Dict{String, Vector{UInt8}}(), nothing, Dict{String, MeshCat.SceneTrees.SceneNode}()), \"12\" => MeshCat.SceneTrees.SceneNode(UInt8[0x83, 0xa6, 0x6f, 0x62, 0x6a, 0x65, 0x63, 0x74, 0x84, 0xaa  …  0x65, 0x67, 0x6d, 0x65, 0x6e, 0x74, 0x73, 0x2f, 0x31, 0x32], nothing, Dict{String, Vector{UInt8}}(), nothing, Dict{String, MeshCat.SceneTrees.SceneNode}()), \"2\" => MeshCat.SceneTrees.SceneNode(UInt8[0x83, 0xa6, 0x6f, 0x62, 0x6a, 0x65, 0x63, 0x74, 0x84, 0xaa  …  0x73, 0x65, 0x67, 0x6d, 0x65, 0x6e, 0x74, 0x73, 0x2f, 0x32], nothing, Dict{String, Vector{UInt8}}(), nothing, Dict{String, MeshCat.SceneTrees.SceneNode}()), \"6\" => MeshCat.SceneTrees.SceneNode(UInt8[0x83, 0xa6, 0x6f, 0x62, 0x6a, 0x65, 0x63, 0x74, 0x84, 0xaa  …  0x73, 0x65, 0x67, 0x6d, 0x65, 0x6e, 0x74, 0x73, 0x2f, 0x36], nothing, Dict{String, Vector{UInt8}}(), nothing, Dict{String, MeshCat.SceneTrees.SceneNode}()), \"11\" => MeshCat.SceneTrees.SceneNode(UInt8[0x83, 0xa6, 0x6f, 0x62, 0x6a, 0x65, 0x63, 0x74, 0x84, 0xaa  …  0x65, 0x67, 0x6d, 0x65, 0x6e, 0x74, 0x73, 0x2f, 0x31, 0x31], nothing, Dict{String, Vector{UInt8}}(), nothing, Dict{String, MeshCat.SceneTrees.SceneNode}()), \"5\" => MeshCat.SceneTrees.SceneNode(UInt8[0x83, 0xa6, 0x6f, 0x62, 0x6a, 0x65, 0x63, 0x74, 0x84, 0xaa  …  0x73, 0x65, 0x67, 0x6d, 0x65, 0x6e, 0x74, 0x73, 0x2f, 0x35], nothing, Dict{String, Vector{UInt8}}(), nothing, Dict{String, MeshCat.SceneTrees.SceneNode}()), \"7\" => MeshCat.SceneTrees.SceneNode(UInt8[0x83, 0xa6, 0x6f, 0x62, 0x6a, 0x65, 0x63, 0x74, 0x84, 0xaa  …  0x73, 0x65, 0x67, 0x6d, 0x65, 0x6e, 0x74, 0x73, 0x2f, 0x37], nothing, Dict{String, Vector{UInt8}}(), nothing, Dict{String, MeshCat.SceneTrees.SceneNode}()), \"8\" => MeshCat.SceneTrees.SceneNode(UInt8[0x83, 0xa6, 0x6f, 0x62, 0x6a, 0x65, 0x63, 0x74, 0x84, 0xaa  …  0x73, 0x65, 0x67, 0x6d, 0x65, 0x6e, 0x74, 0x73, 0x2f, 0x38], nothing, Dict{String, Vector{UInt8}}(), nothing, Dict{String, MeshCat.SceneTrees.SceneNode}()), \"10\" => MeshCat.SceneTrees.SceneNode(UInt8[0x83, 0xa6, 0x6f, 0x62, 0x6a, 0x65, 0x63, 0x74, 0x84, 0xaa  …  0x65, 0x67, 0x6d, 0x65, 0x6e, 0x74, 0x73, 0x2f, 0x31, 0x30], nothing, Dict{String, Vector{UInt8}}(), nothing, Dict{String, MeshCat.SceneTrees.SceneNode}())…)))), \"Axes\" => MeshCat.SceneTrees.SceneNode(nothing, nothing, Dict{String, Vector{UInt8}}(), nothing, Dict{String, MeshCat.SceneTrees.SceneNode}(\"<object>\" => MeshCat.SceneTrees.SceneNode(UInt8[0x83, 0xa6, 0x6f, 0x62, 0x6a, 0x65, 0x63, 0x74, 0x84, 0xaa  …  0x73, 0x2f, 0x3c, 0x6f, 0x62, 0x6a, 0x65, 0x63, 0x74, 0x3e], UInt8[0x83, 0xa6, 0x6d, 0x61, 0x74, 0x72, 0x69, 0x78, 0xc7, 0x40  …  0x73, 0x2f, 0x3c, 0x6f, 0x62, 0x6a, 0x65, 0x63, 0x74, 0x3e], Dict{String, Vector{UInt8}}(), nothing, Dict{String, MeshCat.SceneTrees.SceneNode}()))))), Set{HTTP.WebSockets.WebSocket}(), ip\"127.0.0.1\", 8704))), WebIO.Node{WebIO.DOM}(WebIO.DOM(:html, :div), Any[WebIO.Scope(WebIO.Node{WebIO.DOM}(WebIO.DOM(:html, :div), Any[], Dict{Symbol, Any}(:id => \"container\")), Dict{String, Tuple{Observables.AbstractObservable, Union{Nothing, Bool}}}(\"value\" => (Observable(\"\\\\;\\\\;\"), nothing)), Set{String}(), nothing, WebIO.Asset[WebIO.Asset(\"js\", nothing, \"/home/dushya/.julia/packages/InteractBase/LJXv3/src/../assets/katex.min.js\"), WebIO.Asset(\"css\", nothing, \"/home/dushya/.julia/packages/InteractBase/LJXv3/src/../assets/katex.min.css\")], Dict{Any, Any}(\"value\" => Any[WebIO.JSString(\"(function (txt){return this.k.render(txt,this.container)})\")]), WebIO.ConnectionPool(Channel{Any}(32), Set{WebIO.AbstractConnection}(), Base.GenericCondition{ReentrantLock}(Base.IntrusiveLinkedList{Task}(Task (runnable) @0x00007ff96e2d20e0, Task (runnable) @0x00007ff96e2d20e0), ReentrantLock(nothing, 0x00000000, 0x00, Base.GenericCondition{Base.Threads.SpinLock}(Base.IntrusiveLinkedList{Task}(nothing, nothing), Base.Threads.SpinLock(0)), (0, 140709284935160, 140710057623728)))), WebIO.JSString[WebIO.JSString(\"function () {\\n    var handler = ((function (k){this.k=k; this.container=this.dom.querySelector(\\\"#container\\\"); return k.render(\\\"\\\\\\\\;\\\\\\\\;\\\",this.container)}));\\n    (WebIO.importBlock({\\\"data\\\":[{\\\"name\\\":null,\\\"type\\\":\\\"js\\\",\\\"url\\\":\\\"/assetserver/dd22ed1bf1896c2748f3fe616ce0b838adc895c1-katex.min.js\\\"},{\\\"name\\\":null,\\\"type\\\":\\\"css\\\",\\\"url\\\":\\\"/assetserver/46517a424aa5e6cffc1360d7e0848b601c584ee3-katex.min.css\\\"}],\\\"type\\\":\\\"async_block\\\"})).then((imports) => handler.apply(this, imports));\\n}\\n\")])], Dict{Symbol, Any}(:className => \"interact-widget\")), WebIO.Node{WebIO.DOM}(WebIO.DOM(:html, :div), Any[], Dict{Symbol, Any}(:style => Dict(\"display\" => \"flex\", \"flex-direction\" => \"column\")))], Dict{Symbol, Any}(:style => Dict(\"display\" => \"flex\", \"flex-direction\" => \"row\")))], Dict{Symbol, Any}(:style => Dict(\"display\" => \"flex\", \"flex-direction\" => \"column\")))"
      ]
     },
     "execution_count": 13,
     "metadata": {
      "application/vnd.webio.node+json": {
       "kernelId": "522a93ae-8adc-477b-b043-8985b2df0da1"
      }
     },
     "output_type": "execute_result"
    }
   ],
   "source": [
    "animate_sim(model, 90)"
   ]
  },
  {
   "cell_type": "markdown",
   "metadata": {},
   "source": [
    "After defining the `step_rule!` function we can also choose to create an interactive application (which currently works in Jupyter with WebIO installation) as "
   ]
  },
  {
   "cell_type": "code",
   "execution_count": 9,
   "metadata": {},
   "outputs": [
    {
     "name": "stderr",
     "output_type": "stream",
     "text": [
      "\u001b[36m\u001b[1m[ \u001b[22m\u001b[39m\u001b[36m\u001b[1mInfo: \u001b[22m\u001b[39mListening on: 127.0.0.1:8702, thread id: 1\n",
      "\u001b[36m\u001b[1m┌ \u001b[22m\u001b[39m\u001b[36m\u001b[1mInfo: \u001b[22m\u001b[39mMeshCat server started. You can open the visualizer by visiting the following URL in your browser:\n",
      "\u001b[36m\u001b[1m└ \u001b[22m\u001b[39mhttp://127.0.0.1:8702\n"
     ]
    },
    {
     "data": {
      "application/vnd.webio.node+json": {
       "children": [
        {
         "children": [
          {
           "children": [
            {
             "children": [
              {
               "children": [
                {
                 "children": [
                  {
                   "children": [
                    {
                     "children": [
                      "time"
                     ],
                     "instanceArgs": {
                      "namespace": "html",
                      "tag": "label"
                     },
                     "nodeType": "DOM",
                     "props": {
                      "className": "interact ",
                      "style": {
                       "padding": "5px 10px 0px 10px"
                      }
                     },
                     "type": "node"
                    }
                   ],
                   "instanceArgs": {
                    "namespace": "html",
                    "tag": "div"
                   },
                   "nodeType": "DOM",
                   "props": {
                    "className": "interact-flex-row-left"
                   },
                   "type": "node"
                  },
                  {
                   "children": [
                    {
                     "children": [],
                     "instanceArgs": {
                      "namespace": "html",
                      "tag": "input"
                     },
                     "nodeType": "DOM",
                     "props": {
                      "attributes": {
                       "data-bind": "numericValue: index, valueUpdate: 'input', event: {change: function (){this.changes(this.changes()+1)}}",
                       "orient": "horizontal",
                       "type": "range"
                      },
                      "className": "slider slider is-fullwidth",
                      "max": 200,
                      "min": 1,
                      "step": 1,
                      "style": {}
                     },
                     "type": "node"
                    }
                   ],
                   "instanceArgs": {
                    "namespace": "html",
                    "tag": "div"
                   },
                   "nodeType": "DOM",
                   "props": {
                    "className": "interact-flex-row-center"
                   },
                   "type": "node"
                  },
                  {
                   "children": [
                    {
                     "children": [],
                     "instanceArgs": {
                      "namespace": "html",
                      "tag": "p"
                     },
                     "nodeType": "DOM",
                     "props": {
                      "attributes": {
                       "data-bind": "text: formatted_val"
                      }
                     },
                     "type": "node"
                    }
                   ],
                   "instanceArgs": {
                    "namespace": "html",
                    "tag": "div"
                   },
                   "nodeType": "DOM",
                   "props": {
                    "className": "interact-flex-row-right"
                   },
                   "type": "node"
                  }
                 ],
                 "instanceArgs": {
                  "namespace": "html",
                  "tag": "div"
                 },
                 "nodeType": "DOM",
                 "props": {
                  "className": "interact-flex-row interact-widget"
                 },
                 "type": "node"
                }
               ],
               "instanceArgs": {
                "handlers": {
                 "changes": [
                  "(function (val){return (val!=this.model[\"changes\"]()) ? (this.valueFromJulia[\"changes\"]=true, this.model[\"changes\"](val)) : undefined})"
                 ],
                 "index": [
                  "(function (val){return (val!=this.model[\"index\"]()) ? (this.valueFromJulia[\"index\"]=true, this.model[\"index\"](val)) : undefined})"
                 ]
                },
                "id": "16166339740074932991",
                "imports": {
                 "data": [
                  {
                   "name": "knockout",
                   "type": "js",
                   "url": "/assetserver/727383f2a47bd31570b7da84eee7b022dd6d7c78-knockout.js"
                  },
                  {
                   "name": "knockout_punches",
                   "type": "js",
                   "url": "/assetserver/382b41b3b1bd9f26f75861d360bad7f8beea211f-knockout_punches.js"
                  },
                  {
                   "name": null,
                   "type": "js",
                   "url": "/assetserver/5ab20f1060420992a9b82a65b735dee4d81ef413-all.js"
                  },
                  {
                   "name": null,
                   "type": "css",
                   "url": "/assetserver/1cc0ed62837210b80a182cc3676512f895dab686-style.css"
                  },
                  {
                   "name": null,
                   "type": "css",
                   "url": "/assetserver/2eee816f616df3549d7044d45e744fbf8d42bfa1-bulma_confined.min.css"
                  }
                 ],
                 "type": "async_block"
                },
                "mount_callbacks": [
                 "function () {\n    var handler = (function (ko, koPunches) {\n    ko.punches.enableAll();\n    ko.bindingHandlers.numericValue = {\n        init: function(element, valueAccessor, allBindings, data, context) {\n            var stringified = ko.observable(ko.unwrap(valueAccessor()));\n            stringified.subscribe(function(value) {\n                var val = parseFloat(value);\n                if (!isNaN(val)) {\n                    valueAccessor()(val);\n                }\n            });\n            valueAccessor().subscribe(function(value) {\n                var str = JSON.stringify(value);\n                if ((str == \"0\") && ([\"-0\", \"-0.\"].indexOf(stringified()) >= 0))\n                     return;\n                 if ([\"null\", \"\"].indexOf(str) >= 0)\n                     return;\n                stringified(str);\n            });\n            ko.applyBindingsToNode(\n                element,\n                {\n                    value: stringified,\n                    valueUpdate: allBindings.get('valueUpdate'),\n                },\n                context,\n            );\n        }\n    };\n    var json_data = {\"formatted_vals\":[\"1\",\"2\",\"3\",\"4\",\"5\",\"6\",\"7\",\"8\",\"9\",\"10\",\"11\",\"12\",\"13\",\"14\",\"15\",\"16\",\"17\",\"18\",\"19\",\"20\",\"21\",\"22\",\"23\",\"24\",\"25\",\"26\",\"27\",\"28\",\"29\",\"30\",\"31\",\"32\",\"33\",\"34\",\"35\",\"36\",\"37\",\"38\",\"39\",\"40\",\"41\",\"42\",\"43\",\"44\",\"45\",\"46\",\"47\",\"48\",\"49\",\"50\",\"51\",\"52\",\"53\",\"54\",\"55\",\"56\",\"57\",\"58\",\"59\",\"60\",\"61\",\"62\",\"63\",\"64\",\"65\",\"66\",\"67\",\"68\",\"69\",\"70\",\"71\",\"72\",\"73\",\"74\",\"75\",\"76\",\"77\",\"78\",\"79\",\"80\",\"81\",\"82\",\"83\",\"84\",\"85\",\"86\",\"87\",\"88\",\"89\",\"90\",\"91\",\"92\",\"93\",\"94\",\"95\",\"96\",\"97\",\"98\",\"99\",\"100\",\"101\",\"102\",\"103\",\"104\",\"105\",\"106\",\"107\",\"108\",\"109\",\"110\",\"111\",\"112\",\"113\",\"114\",\"115\",\"116\",\"117\",\"118\",\"119\",\"120\",\"121\",\"122\",\"123\",\"124\",\"125\",\"126\",\"127\",\"128\",\"129\",\"130\",\"131\",\"132\",\"133\",\"134\",\"135\",\"136\",\"137\",\"138\",\"139\",\"140\",\"141\",\"142\",\"143\",\"144\",\"145\",\"146\",\"147\",\"148\",\"149\",\"150\",\"151\",\"152\",\"153\",\"154\",\"155\",\"156\",\"157\",\"158\",\"159\",\"160\",\"161\",\"162\",\"163\",\"164\",\"165\",\"166\",\"167\",\"168\",\"169\",\"170\",\"171\",\"172\",\"173\",\"174\",\"175\",\"176\",\"177\",\"178\",\"179\",\"180\",\"181\",\"182\",\"183\",\"184\",\"185\",\"186\",\"187\",\"188\",\"189\",\"190\",\"191\",\"192\",\"193\",\"194\",\"195\",\"196\",\"197\",\"198\",\"199\",\"200\"],\"changes\":WebIO.getval({\"name\":\"changes\",\"scope\":\"16166339740074932991\",\"id\":\"16337152099165292262\",\"type\":\"observable\"}),\"index\":WebIO.getval({\"name\":\"index\",\"scope\":\"16166339740074932991\",\"id\":\"13430711573573977894\",\"type\":\"observable\"})};\n    var self = this;\n    function AppViewModel() {\n        for (var key in json_data) {\n            var el = json_data[key];\n            this[key] = Array.isArray(el) ? ko.observableArray(el) : ko.observable(el);\n        }\n        \n        [this[\"formatted_val\"]=ko.computed(    function(){\n        return this.formatted_vals()[parseInt(this.index())-(1)];\n    }\n,this)]\n        [this[\"changes\"].subscribe((function (val){!(this.valueFromJulia[\"changes\"]) ? (WebIO.setval({\"name\":\"changes\",\"scope\":\"16166339740074932991\",\"id\":\"16337152099165292262\",\"type\":\"observable\"},val)) : undefined; return this.valueFromJulia[\"changes\"]=false}),self),this[\"index\"].subscribe((function (val){!(this.valueFromJulia[\"index\"]) ? (WebIO.setval({\"name\":\"index\",\"scope\":\"16166339740074932991\",\"id\":\"13430711573573977894\",\"type\":\"observable\"},val)) : undefined; return this.valueFromJulia[\"index\"]=false}),self)]\n        \n    }\n    self.model = new AppViewModel();\n    self.valueFromJulia = {};\n    for (var key in json_data) {\n        self.valueFromJulia[key] = false;\n    }\n    ko.applyBindings(self.model, self.dom);\n}\n);\n    (WebIO.importBlock({\"data\":[{\"name\":\"knockout\",\"type\":\"js\",\"url\":\"/assetserver/727383f2a47bd31570b7da84eee7b022dd6d7c78-knockout.js\"},{\"name\":\"knockout_punches\",\"type\":\"js\",\"url\":\"/assetserver/382b41b3b1bd9f26f75861d360bad7f8beea211f-knockout_punches.js\"}],\"type\":\"async_block\"})).then((imports) => handler.apply(this, imports));\n}\n"
                ],
                "observables": {
                 "changes": {
                  "id": "16337152099165292262",
                  "sync": false,
                  "value": 0
                 },
                 "index": {
                  "id": "13430711573573977894",
                  "sync": true,
                  "value": 1
                 }
                },
                "systemjs_options": null
               },
               "nodeType": "Scope",
               "props": {},
               "type": "node"
              }
             ],
             "instanceArgs": {
              "namespace": "html",
              "tag": "div"
             },
             "nodeType": "DOM",
             "props": {
              "className": "field interact-widget"
             },
             "type": "node"
            },
            {
             "children": [
              {
               "children": [
                {
                 "children": [
                  {
                   "children": [
                    {
                     "children": [
                      "scale"
                     ],
                     "instanceArgs": {
                      "namespace": "html",
                      "tag": "label"
                     },
                     "nodeType": "DOM",
                     "props": {
                      "className": "interact ",
                      "style": {
                       "padding": "5px 10px 0px 10px"
                      }
                     },
                     "type": "node"
                    }
                   ],
                   "instanceArgs": {
                    "namespace": "html",
                    "tag": "div"
                   },
                   "nodeType": "DOM",
                   "props": {
                    "className": "interact-flex-row-left"
                   },
                   "type": "node"
                  },
                  {
                   "children": [
                    {
                     "children": [],
                     "instanceArgs": {
                      "namespace": "html",
                      "tag": "input"
                     },
                     "nodeType": "DOM",
                     "props": {
                      "attributes": {
                       "data-bind": "numericValue: index, valueUpdate: 'input', event: {change: function (){this.changes(this.changes()+1)}}",
                       "orient": "horizontal",
                       "type": "range"
                      },
                      "className": "slider slider is-fullwidth",
                      "max": 20,
                      "min": 1,
                      "step": 1,
                      "style": {}
                     },
                     "type": "node"
                    }
                   ],
                   "instanceArgs": {
                    "namespace": "html",
                    "tag": "div"
                   },
                   "nodeType": "DOM",
                   "props": {
                    "className": "interact-flex-row-center"
                   },
                   "type": "node"
                  },
                  {
                   "children": [
                    {
                     "children": [],
                     "instanceArgs": {
                      "namespace": "html",
                      "tag": "p"
                     },
                     "nodeType": "DOM",
                     "props": {
                      "attributes": {
                       "data-bind": "text: formatted_val"
                      }
                     },
                     "type": "node"
                    }
                   ],
                   "instanceArgs": {
                    "namespace": "html",
                    "tag": "div"
                   },
                   "nodeType": "DOM",
                   "props": {
                    "className": "interact-flex-row-right"
                   },
                   "type": "node"
                  }
                 ],
                 "instanceArgs": {
                  "namespace": "html",
                  "tag": "div"
                 },
                 "nodeType": "DOM",
                 "props": {
                  "className": "interact-flex-row interact-widget"
                 },
                 "type": "node"
                }
               ],
               "instanceArgs": {
                "handlers": {
                 "changes": [
                  "(function (val){return (val!=this.model[\"changes\"]()) ? (this.valueFromJulia[\"changes\"]=true, this.model[\"changes\"](val)) : undefined})"
                 ],
                 "index": [
                  "(function (val){return (val!=this.model[\"index\"]()) ? (this.valueFromJulia[\"index\"]=true, this.model[\"index\"](val)) : undefined})"
                 ]
                },
                "id": "2248586910575621627",
                "imports": {
                 "data": [
                  {
                   "name": "knockout",
                   "type": "js",
                   "url": "/assetserver/727383f2a47bd31570b7da84eee7b022dd6d7c78-knockout.js"
                  },
                  {
                   "name": "knockout_punches",
                   "type": "js",
                   "url": "/assetserver/382b41b3b1bd9f26f75861d360bad7f8beea211f-knockout_punches.js"
                  },
                  {
                   "name": null,
                   "type": "js",
                   "url": "/assetserver/5ab20f1060420992a9b82a65b735dee4d81ef413-all.js"
                  },
                  {
                   "name": null,
                   "type": "css",
                   "url": "/assetserver/1cc0ed62837210b80a182cc3676512f895dab686-style.css"
                  },
                  {
                   "name": null,
                   "type": "css",
                   "url": "/assetserver/2eee816f616df3549d7044d45e744fbf8d42bfa1-bulma_confined.min.css"
                  }
                 ],
                 "type": "async_block"
                },
                "mount_callbacks": [
                 "function () {\n    var handler = (function (ko, koPunches) {\n    ko.punches.enableAll();\n    ko.bindingHandlers.numericValue = {\n        init: function(element, valueAccessor, allBindings, data, context) {\n            var stringified = ko.observable(ko.unwrap(valueAccessor()));\n            stringified.subscribe(function(value) {\n                var val = parseFloat(value);\n                if (!isNaN(val)) {\n                    valueAccessor()(val);\n                }\n            });\n            valueAccessor().subscribe(function(value) {\n                var str = JSON.stringify(value);\n                if ((str == \"0\") && ([\"-0\", \"-0.\"].indexOf(stringified()) >= 0))\n                     return;\n                 if ([\"null\", \"\"].indexOf(str) >= 0)\n                     return;\n                stringified(str);\n            });\n            ko.applyBindingsToNode(\n                element,\n                {\n                    value: stringified,\n                    valueUpdate: allBindings.get('valueUpdate'),\n                },\n                context,\n            );\n        }\n    };\n    var json_data = {\"formatted_vals\":[\"0.1\",\"0.2\",\"0.3\",\"0.4\",\"0.5\",\"0.6\",\"0.7\",\"0.8\",\"0.9\",\"1.0\",\"1.1\",\"1.2\",\"1.3\",\"1.4\",\"1.5\",\"1.6\",\"1.7\",\"1.8\",\"1.9\",\"2.0\"],\"changes\":WebIO.getval({\"name\":\"changes\",\"scope\":\"2248586910575621627\",\"id\":\"10324408408380471348\",\"type\":\"observable\"}),\"index\":WebIO.getval({\"name\":\"index\",\"scope\":\"2248586910575621627\",\"id\":\"15328897977523241246\",\"type\":\"observable\"})};\n    var self = this;\n    function AppViewModel() {\n        for (var key in json_data) {\n            var el = json_data[key];\n            this[key] = Array.isArray(el) ? ko.observableArray(el) : ko.observable(el);\n        }\n        \n        [this[\"formatted_val\"]=ko.computed(    function(){\n        return this.formatted_vals()[parseInt(this.index())-(1)];\n    }\n,this)]\n        [this[\"changes\"].subscribe((function (val){!(this.valueFromJulia[\"changes\"]) ? (WebIO.setval({\"name\":\"changes\",\"scope\":\"2248586910575621627\",\"id\":\"10324408408380471348\",\"type\":\"observable\"},val)) : undefined; return this.valueFromJulia[\"changes\"]=false}),self),this[\"index\"].subscribe((function (val){!(this.valueFromJulia[\"index\"]) ? (WebIO.setval({\"name\":\"index\",\"scope\":\"2248586910575621627\",\"id\":\"15328897977523241246\",\"type\":\"observable\"},val)) : undefined; return this.valueFromJulia[\"index\"]=false}),self)]\n        \n    }\n    self.model = new AppViewModel();\n    self.valueFromJulia = {};\n    for (var key in json_data) {\n        self.valueFromJulia[key] = false;\n    }\n    ko.applyBindings(self.model, self.dom);\n}\n);\n    (WebIO.importBlock({\"data\":[{\"name\":\"knockout\",\"type\":\"js\",\"url\":\"/assetserver/727383f2a47bd31570b7da84eee7b022dd6d7c78-knockout.js\"},{\"name\":\"knockout_punches\",\"type\":\"js\",\"url\":\"/assetserver/382b41b3b1bd9f26f75861d360bad7f8beea211f-knockout_punches.js\"}],\"type\":\"async_block\"})).then((imports) => handler.apply(this, imports));\n}\n"
                ],
                "observables": {
                 "changes": {
                  "id": "10324408408380471348",
                  "sync": false,
                  "value": 0
                 },
                 "index": {
                  "id": "15328897977523241246",
                  "sync": true,
                  "value": 10
                 }
                },
                "systemjs_options": null
               },
               "nodeType": "Scope",
               "props": {},
               "type": "node"
              }
             ],
             "instanceArgs": {
              "namespace": "html",
              "tag": "div"
             },
             "nodeType": "DOM",
             "props": {
              "className": "field interact-widget"
             },
             "type": "node"
            },
            {
             "children": [],
             "instanceArgs": {
              "namespace": "html",
              "tag": "div"
             },
             "nodeType": "DOM",
             "props": {
              "style": {
               "display": "flex",
               "flex-direction": "column"
              }
             },
             "type": "node"
            },
            {
             "children": [
              {
               "children": [
                {
                 "children": [
                  {
                   "children": [
                    {
                     "children": [
                      {
                       "children": [
                        "min_alike"
                       ],
                       "instanceArgs": {
                        "namespace": "html",
                        "tag": "label"
                       },
                       "nodeType": "DOM",
                       "props": {
                        "className": "interact ",
                        "style": {
                         "padding": "5px 10px 0px 10px"
                        }
                       },
                       "type": "node"
                      }
                     ],
                     "instanceArgs": {
                      "namespace": "html",
                      "tag": "div"
                     },
                     "nodeType": "DOM",
                     "props": {
                      "className": "interact-flex-row-left"
                     },
                     "type": "node"
                    },
                    {
                     "children": [
                      {
                       "children": [],
                       "instanceArgs": {
                        "namespace": "html",
                        "tag": "input"
                       },
                       "nodeType": "DOM",
                       "props": {
                        "attributes": {
                         "data-bind": "numericValue: index, valueUpdate: 'input', event: {change: function (){this.changes(this.changes()+1)}}",
                         "orient": "horizontal",
                         "type": "range"
                        },
                        "className": "slider slider is-fullwidth",
                        "max": 12,
                        "min": 1,
                        "step": 1,
                        "style": {}
                       },
                       "type": "node"
                      }
                     ],
                     "instanceArgs": {
                      "namespace": "html",
                      "tag": "div"
                     },
                     "nodeType": "DOM",
                     "props": {
                      "className": "interact-flex-row-center"
                     },
                     "type": "node"
                    },
                    {
                     "children": [
                      {
                       "children": [],
                       "instanceArgs": {
                        "namespace": "html",
                        "tag": "p"
                       },
                       "nodeType": "DOM",
                       "props": {
                        "attributes": {
                         "data-bind": "text: formatted_val"
                        }
                       },
                       "type": "node"
                      }
                     ],
                     "instanceArgs": {
                      "namespace": "html",
                      "tag": "div"
                     },
                     "nodeType": "DOM",
                     "props": {
                      "className": "interact-flex-row-right"
                     },
                     "type": "node"
                    }
                   ],
                   "instanceArgs": {
                    "namespace": "html",
                    "tag": "div"
                   },
                   "nodeType": "DOM",
                   "props": {
                    "className": "interact-flex-row interact-widget"
                   },
                   "type": "node"
                  }
                 ],
                 "instanceArgs": {
                  "handlers": {
                   "changes": [
                    "(function (val){return (val!=this.model[\"changes\"]()) ? (this.valueFromJulia[\"changes\"]=true, this.model[\"changes\"](val)) : undefined})"
                   ],
                   "index": [
                    "(function (val){return (val!=this.model[\"index\"]()) ? (this.valueFromJulia[\"index\"]=true, this.model[\"index\"](val)) : undefined})"
                   ]
                  },
                  "id": "60431291352799681",
                  "imports": {
                   "data": [
                    {
                     "name": "knockout",
                     "type": "js",
                     "url": "/assetserver/727383f2a47bd31570b7da84eee7b022dd6d7c78-knockout.js"
                    },
                    {
                     "name": "knockout_punches",
                     "type": "js",
                     "url": "/assetserver/382b41b3b1bd9f26f75861d360bad7f8beea211f-knockout_punches.js"
                    },
                    {
                     "name": null,
                     "type": "js",
                     "url": "/assetserver/5ab20f1060420992a9b82a65b735dee4d81ef413-all.js"
                    },
                    {
                     "name": null,
                     "type": "css",
                     "url": "/assetserver/1cc0ed62837210b80a182cc3676512f895dab686-style.css"
                    },
                    {
                     "name": null,
                     "type": "css",
                     "url": "/assetserver/2eee816f616df3549d7044d45e744fbf8d42bfa1-bulma_confined.min.css"
                    }
                   ],
                   "type": "async_block"
                  },
                  "mount_callbacks": [
                   "function () {\n    var handler = (function (ko, koPunches) {\n    ko.punches.enableAll();\n    ko.bindingHandlers.numericValue = {\n        init: function(element, valueAccessor, allBindings, data, context) {\n            var stringified = ko.observable(ko.unwrap(valueAccessor()));\n            stringified.subscribe(function(value) {\n                var val = parseFloat(value);\n                if (!isNaN(val)) {\n                    valueAccessor()(val);\n                }\n            });\n            valueAccessor().subscribe(function(value) {\n                var str = JSON.stringify(value);\n                if ((str == \"0\") && ([\"-0\", \"-0.\"].indexOf(stringified()) >= 0))\n                     return;\n                 if ([\"null\", \"\"].indexOf(str) >= 0)\n                     return;\n                stringified(str);\n            });\n            ko.applyBindingsToNode(\n                element,\n                {\n                    value: stringified,\n                    valueUpdate: allBindings.get('valueUpdate'),\n                },\n                context,\n            );\n        }\n    };\n    var json_data = {\"formatted_vals\":[\"1\",\"2\",\"3\",\"4\",\"5\",\"6\",\"7\",\"8\",\"9\",\"10\",\"11\",\"12\"],\"changes\":WebIO.getval({\"name\":\"changes\",\"scope\":\"60431291352799681\",\"id\":\"2769323857593717228\",\"type\":\"observable\"}),\"index\":WebIO.getval({\"name\":\"index\",\"scope\":\"60431291352799681\",\"id\":\"12183528605827942004\",\"type\":\"observable\"})};\n    var self = this;\n    function AppViewModel() {\n        for (var key in json_data) {\n            var el = json_data[key];\n            this[key] = Array.isArray(el) ? ko.observableArray(el) : ko.observable(el);\n        }\n        \n        [this[\"formatted_val\"]=ko.computed(    function(){\n        return this.formatted_vals()[parseInt(this.index())-(1)];\n    }\n,this)]\n        [this[\"changes\"].subscribe((function (val){!(this.valueFromJulia[\"changes\"]) ? (WebIO.setval({\"name\":\"changes\",\"scope\":\"60431291352799681\",\"id\":\"2769323857593717228\",\"type\":\"observable\"},val)) : undefined; return this.valueFromJulia[\"changes\"]=false}),self),this[\"index\"].subscribe((function (val){!(this.valueFromJulia[\"index\"]) ? (WebIO.setval({\"name\":\"index\",\"scope\":\"60431291352799681\",\"id\":\"12183528605827942004\",\"type\":\"observable\"},val)) : undefined; return this.valueFromJulia[\"index\"]=false}),self)]\n        \n    }\n    self.model = new AppViewModel();\n    self.valueFromJulia = {};\n    for (var key in json_data) {\n        self.valueFromJulia[key] = false;\n    }\n    ko.applyBindings(self.model, self.dom);\n}\n);\n    (WebIO.importBlock({\"data\":[{\"name\":\"knockout\",\"type\":\"js\",\"url\":\"/assetserver/727383f2a47bd31570b7da84eee7b022dd6d7c78-knockout.js\"},{\"name\":\"knockout_punches\",\"type\":\"js\",\"url\":\"/assetserver/382b41b3b1bd9f26f75861d360bad7f8beea211f-knockout_punches.js\"}],\"type\":\"async_block\"})).then((imports) => handler.apply(this, imports));\n}\n"
                  ],
                  "observables": {
                   "changes": {
                    "id": "2769323857593717228",
                    "sync": false,
                    "value": 0
                   },
                   "index": {
                    "id": "12183528605827942004",
                    "sync": true,
                    "value": 6
                   }
                  },
                  "systemjs_options": null
                 },
                 "nodeType": "Scope",
                 "props": {},
                 "type": "node"
                }
               ],
               "instanceArgs": {
                "namespace": "html",
                "tag": "div"
               },
               "nodeType": "DOM",
               "props": {
                "className": "field interact-widget"
               },
               "type": "node"
              }
             ],
             "instanceArgs": {
              "namespace": "html",
              "tag": "div"
             },
             "nodeType": "DOM",
             "props": {
              "style": {
               "display": "flex",
               "flex-direction": "column"
              }
             },
             "type": "node"
            },
            {
             "children": [
              {
               "children": [
                {
                 "children": [
                  {
                   "children": [],
                   "instanceArgs": {
                    "namespace": "html",
                    "tag": "div"
                   },
                   "nodeType": "DOM",
                   "props": {
                    "id": "container"
                   },
                   "type": "node"
                  }
                 ],
                 "instanceArgs": {
                  "handlers": {
                   "value": [
                    "(function (txt){return this.k.render(txt,this.container)})"
                   ]
                  },
                  "id": "3315668971664882649",
                  "imports": {
                   "data": [
                    {
                     "name": null,
                     "type": "js",
                     "url": "/assetserver/dd22ed1bf1896c2748f3fe616ce0b838adc895c1-katex.min.js"
                    },
                    {
                     "name": null,
                     "type": "css",
                     "url": "/assetserver/46517a424aa5e6cffc1360d7e0848b601c584ee3-katex.min.css"
                    }
                   ],
                   "type": "async_block"
                  },
                  "mount_callbacks": [
                   "function () {\n    var handler = ((function (k){this.k=k; this.container=this.dom.querySelector(\"#container\"); return k.render(\"\\\\;\\\\;\",this.container)}));\n    (WebIO.importBlock({\"data\":[{\"name\":null,\"type\":\"js\",\"url\":\"/assetserver/dd22ed1bf1896c2748f3fe616ce0b838adc895c1-katex.min.js\"},{\"name\":null,\"type\":\"css\",\"url\":\"/assetserver/46517a424aa5e6cffc1360d7e0848b601c584ee3-katex.min.css\"}],\"type\":\"async_block\"})).then((imports) => handler.apply(this, imports));\n}\n"
                  ],
                  "observables": {
                   "value": {
                    "id": "5633736052952889304",
                    "sync": false,
                    "value": "\\;\\;"
                   }
                  },
                  "systemjs_options": null
                 },
                 "nodeType": "Scope",
                 "props": {},
                 "type": "node"
                }
               ],
               "instanceArgs": {
                "namespace": "html",
                "tag": "div"
               },
               "nodeType": "DOM",
               "props": {
                "className": "interact-widget"
               },
               "type": "node"
              },
              {
               "children": [
                {
                 "children": [
                  {
                   "children": [
                    "run"
                   ],
                   "instanceArgs": {
                    "namespace": "html",
                    "tag": "button"
                   },
                   "nodeType": "DOM",
                   "props": {
                    "attributes": {
                     "data-bind": "click: function (){this.clicks(this.clicks()+1)}, css: {'is-loading' : loading}"
                    },
                    "className": "is-medium button is-primary",
                    "style": {}
                   },
                   "type": "node"
                  }
                 ],
                 "instanceArgs": {
                  "handlers": {
                   "clicks": [
                    "(function (val){return (val!=this.model[\"clicks\"]()) ? (this.valueFromJulia[\"clicks\"]=true, this.model[\"clicks\"](val)) : undefined})"
                   ],
                   "loading": [
                    "(function (val){return (val!=this.model[\"loading\"]()) ? (this.valueFromJulia[\"loading\"]=true, this.model[\"loading\"](val)) : undefined})"
                   ]
                  },
                  "id": "9109289950667264735",
                  "imports": {
                   "data": [
                    {
                     "name": "knockout",
                     "type": "js",
                     "url": "/assetserver/727383f2a47bd31570b7da84eee7b022dd6d7c78-knockout.js"
                    },
                    {
                     "name": "knockout_punches",
                     "type": "js",
                     "url": "/assetserver/382b41b3b1bd9f26f75861d360bad7f8beea211f-knockout_punches.js"
                    },
                    {
                     "name": null,
                     "type": "js",
                     "url": "/assetserver/5ab20f1060420992a9b82a65b735dee4d81ef413-all.js"
                    },
                    {
                     "name": null,
                     "type": "css",
                     "url": "/assetserver/1cc0ed62837210b80a182cc3676512f895dab686-style.css"
                    },
                    {
                     "name": null,
                     "type": "css",
                     "url": "/assetserver/2eee816f616df3549d7044d45e744fbf8d42bfa1-bulma_confined.min.css"
                    }
                   ],
                   "type": "async_block"
                  },
                  "mount_callbacks": [
                   "function () {\n    var handler = (function (ko, koPunches) {\n    ko.punches.enableAll();\n    ko.bindingHandlers.numericValue = {\n        init: function(element, valueAccessor, allBindings, data, context) {\n            var stringified = ko.observable(ko.unwrap(valueAccessor()));\n            stringified.subscribe(function(value) {\n                var val = parseFloat(value);\n                if (!isNaN(val)) {\n                    valueAccessor()(val);\n                }\n            });\n            valueAccessor().subscribe(function(value) {\n                var str = JSON.stringify(value);\n                if ((str == \"0\") && ([\"-0\", \"-0.\"].indexOf(stringified()) >= 0))\n                     return;\n                 if ([\"null\", \"\"].indexOf(str) >= 0)\n                     return;\n                stringified(str);\n            });\n            ko.applyBindingsToNode(\n                element,\n                {\n                    value: stringified,\n                    valueUpdate: allBindings.get('valueUpdate'),\n                },\n                context,\n            );\n        }\n    };\n    var json_data = {\"loading\":WebIO.getval({\"name\":\"loading\",\"scope\":\"9109289950667264735\",\"id\":\"15077338480789473099\",\"type\":\"observable\"}),\"clicks\":WebIO.getval({\"name\":\"clicks\",\"scope\":\"9109289950667264735\",\"id\":\"18147391033279160406\",\"type\":\"observable\"})};\n    var self = this;\n    function AppViewModel() {\n        for (var key in json_data) {\n            var el = json_data[key];\n            this[key] = Array.isArray(el) ? ko.observableArray(el) : ko.observable(el);\n        }\n        \n        \n        [this[\"loading\"].subscribe((function (val){!(this.valueFromJulia[\"loading\"]) ? (WebIO.setval({\"name\":\"loading\",\"scope\":\"9109289950667264735\",\"id\":\"15077338480789473099\",\"type\":\"observable\"},val)) : undefined; return this.valueFromJulia[\"loading\"]=false}),self),this[\"clicks\"].subscribe((function (val){!(this.valueFromJulia[\"clicks\"]) ? (WebIO.setval({\"name\":\"clicks\",\"scope\":\"9109289950667264735\",\"id\":\"18147391033279160406\",\"type\":\"observable\"},val)) : undefined; return this.valueFromJulia[\"clicks\"]=false}),self)]\n        \n    }\n    self.model = new AppViewModel();\n    self.valueFromJulia = {};\n    for (var key in json_data) {\n        self.valueFromJulia[key] = false;\n    }\n    ko.applyBindings(self.model, self.dom);\n}\n);\n    (WebIO.importBlock({\"data\":[{\"name\":\"knockout\",\"type\":\"js\",\"url\":\"/assetserver/727383f2a47bd31570b7da84eee7b022dd6d7c78-knockout.js\"},{\"name\":\"knockout_punches\",\"type\":\"js\",\"url\":\"/assetserver/382b41b3b1bd9f26f75861d360bad7f8beea211f-knockout_punches.js\"}],\"type\":\"async_block\"})).then((imports) => handler.apply(this, imports));\n}\n"
                  ],
                  "observables": {
                   "clicks": {
                    "id": "18147391033279160406",
                    "sync": true,
                    "value": 0
                   },
                   "loading": {
                    "id": "15077338480789473099",
                    "sync": false,
                    "value": false
                   }
                  },
                  "systemjs_options": null
                 },
                 "nodeType": "Scope",
                 "props": {},
                 "type": "node"
                }
               ],
               "instanceArgs": {
                "namespace": "html",
                "tag": "div"
               },
               "nodeType": "DOM",
               "props": {
                "className": "field interact-widget"
               },
               "type": "node"
              },
              {
               "children": [
                {
                 "children": [
                  {
                   "children": [],
                   "instanceArgs": {
                    "namespace": "html",
                    "tag": "div"
                   },
                   "nodeType": "DOM",
                   "props": {
                    "id": "container"
                   },
                   "type": "node"
                  }
                 ],
                 "instanceArgs": {
                  "handlers": {
                   "value": [
                    "(function (txt){return this.k.render(txt,this.container)})"
                   ]
                  },
                  "id": "3315668971664882649",
                  "imports": {
                   "data": [
                    {
                     "name": null,
                     "type": "js",
                     "url": "/assetserver/dd22ed1bf1896c2748f3fe616ce0b838adc895c1-katex.min.js"
                    },
                    {
                     "name": null,
                     "type": "css",
                     "url": "/assetserver/46517a424aa5e6cffc1360d7e0848b601c584ee3-katex.min.css"
                    }
                   ],
                   "type": "async_block"
                  },
                  "mount_callbacks": [
                   "function () {\n    var handler = ((function (k){this.k=k; this.container=this.dom.querySelector(\"#container\"); return k.render(\"\\\\;\\\\;\",this.container)}));\n    (WebIO.importBlock({\"data\":[{\"name\":null,\"type\":\"js\",\"url\":\"/assetserver/dd22ed1bf1896c2748f3fe616ce0b838adc895c1-katex.min.js\"},{\"name\":null,\"type\":\"css\",\"url\":\"/assetserver/46517a424aa5e6cffc1360d7e0848b601c584ee3-katex.min.css\"}],\"type\":\"async_block\"})).then((imports) => handler.apply(this, imports));\n}\n"
                  ],
                  "observables": {
                   "value": {
                    "id": "5633736052952889304",
                    "sync": false,
                    "value": "\\;\\;"
                   }
                  },
                  "systemjs_options": null
                 },
                 "nodeType": "Scope",
                 "props": {},
                 "type": "node"
                }
               ],
               "instanceArgs": {
                "namespace": "html",
                "tag": "div"
               },
               "nodeType": "DOM",
               "props": {
                "className": "interact-widget"
               },
               "type": "node"
              },
              {
               "children": [
                {
                 "children": [
                  {
                   "children": [
                    "stop"
                   ],
                   "instanceArgs": {
                    "namespace": "html",
                    "tag": "button"
                   },
                   "nodeType": "DOM",
                   "props": {
                    "attributes": {
                     "data-bind": "click: function (){this.clicks(this.clicks()+1)}, css: {'is-loading' : loading}"
                    },
                    "className": "is-medium button is-primary",
                    "style": {}
                   },
                   "type": "node"
                  }
                 ],
                 "instanceArgs": {
                  "handlers": {
                   "clicks": [
                    "(function (val){return (val!=this.model[\"clicks\"]()) ? (this.valueFromJulia[\"clicks\"]=true, this.model[\"clicks\"](val)) : undefined})"
                   ],
                   "loading": [
                    "(function (val){return (val!=this.model[\"loading\"]()) ? (this.valueFromJulia[\"loading\"]=true, this.model[\"loading\"](val)) : undefined})"
                   ]
                  },
                  "id": "6211480728796692627",
                  "imports": {
                   "data": [
                    {
                     "name": "knockout",
                     "type": "js",
                     "url": "/assetserver/727383f2a47bd31570b7da84eee7b022dd6d7c78-knockout.js"
                    },
                    {
                     "name": "knockout_punches",
                     "type": "js",
                     "url": "/assetserver/382b41b3b1bd9f26f75861d360bad7f8beea211f-knockout_punches.js"
                    },
                    {
                     "name": null,
                     "type": "js",
                     "url": "/assetserver/5ab20f1060420992a9b82a65b735dee4d81ef413-all.js"
                    },
                    {
                     "name": null,
                     "type": "css",
                     "url": "/assetserver/1cc0ed62837210b80a182cc3676512f895dab686-style.css"
                    },
                    {
                     "name": null,
                     "type": "css",
                     "url": "/assetserver/2eee816f616df3549d7044d45e744fbf8d42bfa1-bulma_confined.min.css"
                    }
                   ],
                   "type": "async_block"
                  },
                  "mount_callbacks": [
                   "function () {\n    var handler = (function (ko, koPunches) {\n    ko.punches.enableAll();\n    ko.bindingHandlers.numericValue = {\n        init: function(element, valueAccessor, allBindings, data, context) {\n            var stringified = ko.observable(ko.unwrap(valueAccessor()));\n            stringified.subscribe(function(value) {\n                var val = parseFloat(value);\n                if (!isNaN(val)) {\n                    valueAccessor()(val);\n                }\n            });\n            valueAccessor().subscribe(function(value) {\n                var str = JSON.stringify(value);\n                if ((str == \"0\") && ([\"-0\", \"-0.\"].indexOf(stringified()) >= 0))\n                     return;\n                 if ([\"null\", \"\"].indexOf(str) >= 0)\n                     return;\n                stringified(str);\n            });\n            ko.applyBindingsToNode(\n                element,\n                {\n                    value: stringified,\n                    valueUpdate: allBindings.get('valueUpdate'),\n                },\n                context,\n            );\n        }\n    };\n    var json_data = {\"loading\":WebIO.getval({\"name\":\"loading\",\"scope\":\"6211480728796692627\",\"id\":\"17163120745549206413\",\"type\":\"observable\"}),\"clicks\":WebIO.getval({\"name\":\"clicks\",\"scope\":\"6211480728796692627\",\"id\":\"17735863115208585602\",\"type\":\"observable\"})};\n    var self = this;\n    function AppViewModel() {\n        for (var key in json_data) {\n            var el = json_data[key];\n            this[key] = Array.isArray(el) ? ko.observableArray(el) : ko.observable(el);\n        }\n        \n        \n        [this[\"loading\"].subscribe((function (val){!(this.valueFromJulia[\"loading\"]) ? (WebIO.setval({\"name\":\"loading\",\"scope\":\"6211480728796692627\",\"id\":\"17163120745549206413\",\"type\":\"observable\"},val)) : undefined; return this.valueFromJulia[\"loading\"]=false}),self),this[\"clicks\"].subscribe((function (val){!(this.valueFromJulia[\"clicks\"]) ? (WebIO.setval({\"name\":\"clicks\",\"scope\":\"6211480728796692627\",\"id\":\"17735863115208585602\",\"type\":\"observable\"},val)) : undefined; return this.valueFromJulia[\"clicks\"]=false}),self)]\n        \n    }\n    self.model = new AppViewModel();\n    self.valueFromJulia = {};\n    for (var key in json_data) {\n        self.valueFromJulia[key] = false;\n    }\n    ko.applyBindings(self.model, self.dom);\n}\n);\n    (WebIO.importBlock({\"data\":[{\"name\":\"knockout\",\"type\":\"js\",\"url\":\"/assetserver/727383f2a47bd31570b7da84eee7b022dd6d7c78-knockout.js\"},{\"name\":\"knockout_punches\",\"type\":\"js\",\"url\":\"/assetserver/382b41b3b1bd9f26f75861d360bad7f8beea211f-knockout_punches.js\"}],\"type\":\"async_block\"})).then((imports) => handler.apply(this, imports));\n}\n"
                  ],
                  "observables": {
                   "clicks": {
                    "id": "17735863115208585602",
                    "sync": true,
                    "value": 0
                   },
                   "loading": {
                    "id": "17163120745549206413",
                    "sync": false,
                    "value": false
                   }
                  },
                  "systemjs_options": null
                 },
                 "nodeType": "Scope",
                 "props": {},
                 "type": "node"
                }
               ],
               "instanceArgs": {
                "namespace": "html",
                "tag": "div"
               },
               "nodeType": "DOM",
               "props": {
                "className": "field interact-widget"
               },
               "type": "node"
              },
              {
               "children": [
                {
                 "children": [
                  {
                   "children": [],
                   "instanceArgs": {
                    "namespace": "html",
                    "tag": "div"
                   },
                   "nodeType": "DOM",
                   "props": {
                    "id": "container"
                   },
                   "type": "node"
                  }
                 ],
                 "instanceArgs": {
                  "handlers": {
                   "value": [
                    "(function (txt){return this.k.render(txt,this.container)})"
                   ]
                  },
                  "id": "3315668971664882649",
                  "imports": {
                   "data": [
                    {
                     "name": null,
                     "type": "js",
                     "url": "/assetserver/dd22ed1bf1896c2748f3fe616ce0b838adc895c1-katex.min.js"
                    },
                    {
                     "name": null,
                     "type": "css",
                     "url": "/assetserver/46517a424aa5e6cffc1360d7e0848b601c584ee3-katex.min.css"
                    }
                   ],
                   "type": "async_block"
                  },
                  "mount_callbacks": [
                   "function () {\n    var handler = ((function (k){this.k=k; this.container=this.dom.querySelector(\"#container\"); return k.render(\"\\\\;\\\\;\",this.container)}));\n    (WebIO.importBlock({\"data\":[{\"name\":null,\"type\":\"js\",\"url\":\"/assetserver/dd22ed1bf1896c2748f3fe616ce0b838adc895c1-katex.min.js\"},{\"name\":null,\"type\":\"css\",\"url\":\"/assetserver/46517a424aa5e6cffc1360d7e0848b601c584ee3-katex.min.css\"}],\"type\":\"async_block\"})).then((imports) => handler.apply(this, imports));\n}\n"
                  ],
                  "observables": {
                   "value": {
                    "id": "5633736052952889304",
                    "sync": false,
                    "value": "\\;\\;"
                   }
                  },
                  "systemjs_options": null
                 },
                 "nodeType": "Scope",
                 "props": {},
                 "type": "node"
                }
               ],
               "instanceArgs": {
                "namespace": "html",
                "tag": "div"
               },
               "nodeType": "DOM",
               "props": {
                "className": "interact-widget"
               },
               "type": "node"
              },
              {
               "children": [
                {
                 "children": [
                  {
                   "children": [
                    "reset"
                   ],
                   "instanceArgs": {
                    "namespace": "html",
                    "tag": "button"
                   },
                   "nodeType": "DOM",
                   "props": {
                    "attributes": {
                     "data-bind": "click: function (){this.clicks(this.clicks()+1)}, css: {'is-loading' : loading}"
                    },
                    "className": "is-medium button is-primary",
                    "style": {}
                   },
                   "type": "node"
                  }
                 ],
                 "instanceArgs": {
                  "handlers": {
                   "clicks": [
                    "(function (val){return (val!=this.model[\"clicks\"]()) ? (this.valueFromJulia[\"clicks\"]=true, this.model[\"clicks\"](val)) : undefined})"
                   ],
                   "loading": [
                    "(function (val){return (val!=this.model[\"loading\"]()) ? (this.valueFromJulia[\"loading\"]=true, this.model[\"loading\"](val)) : undefined})"
                   ]
                  },
                  "id": "7309696116626796514",
                  "imports": {
                   "data": [
                    {
                     "name": "knockout",
                     "type": "js",
                     "url": "/assetserver/727383f2a47bd31570b7da84eee7b022dd6d7c78-knockout.js"
                    },
                    {
                     "name": "knockout_punches",
                     "type": "js",
                     "url": "/assetserver/382b41b3b1bd9f26f75861d360bad7f8beea211f-knockout_punches.js"
                    },
                    {
                     "name": null,
                     "type": "js",
                     "url": "/assetserver/5ab20f1060420992a9b82a65b735dee4d81ef413-all.js"
                    },
                    {
                     "name": null,
                     "type": "css",
                     "url": "/assetserver/1cc0ed62837210b80a182cc3676512f895dab686-style.css"
                    },
                    {
                     "name": null,
                     "type": "css",
                     "url": "/assetserver/2eee816f616df3549d7044d45e744fbf8d42bfa1-bulma_confined.min.css"
                    }
                   ],
                   "type": "async_block"
                  },
                  "mount_callbacks": [
                   "function () {\n    var handler = (function (ko, koPunches) {\n    ko.punches.enableAll();\n    ko.bindingHandlers.numericValue = {\n        init: function(element, valueAccessor, allBindings, data, context) {\n            var stringified = ko.observable(ko.unwrap(valueAccessor()));\n            stringified.subscribe(function(value) {\n                var val = parseFloat(value);\n                if (!isNaN(val)) {\n                    valueAccessor()(val);\n                }\n            });\n            valueAccessor().subscribe(function(value) {\n                var str = JSON.stringify(value);\n                if ((str == \"0\") && ([\"-0\", \"-0.\"].indexOf(stringified()) >= 0))\n                     return;\n                 if ([\"null\", \"\"].indexOf(str) >= 0)\n                     return;\n                stringified(str);\n            });\n            ko.applyBindingsToNode(\n                element,\n                {\n                    value: stringified,\n                    valueUpdate: allBindings.get('valueUpdate'),\n                },\n                context,\n            );\n        }\n    };\n    var json_data = {\"loading\":WebIO.getval({\"name\":\"loading\",\"scope\":\"7309696116626796514\",\"id\":\"14414698809953710861\",\"type\":\"observable\"}),\"clicks\":WebIO.getval({\"name\":\"clicks\",\"scope\":\"7309696116626796514\",\"id\":\"14984995724013877632\",\"type\":\"observable\"})};\n    var self = this;\n    function AppViewModel() {\n        for (var key in json_data) {\n            var el = json_data[key];\n            this[key] = Array.isArray(el) ? ko.observableArray(el) : ko.observable(el);\n        }\n        \n        \n        [this[\"loading\"].subscribe((function (val){!(this.valueFromJulia[\"loading\"]) ? (WebIO.setval({\"name\":\"loading\",\"scope\":\"7309696116626796514\",\"id\":\"14414698809953710861\",\"type\":\"observable\"},val)) : undefined; return this.valueFromJulia[\"loading\"]=false}),self),this[\"clicks\"].subscribe((function (val){!(this.valueFromJulia[\"clicks\"]) ? (WebIO.setval({\"name\":\"clicks\",\"scope\":\"7309696116626796514\",\"id\":\"14984995724013877632\",\"type\":\"observable\"},val)) : undefined; return this.valueFromJulia[\"clicks\"]=false}),self)]\n        \n    }\n    self.model = new AppViewModel();\n    self.valueFromJulia = {};\n    for (var key in json_data) {\n        self.valueFromJulia[key] = false;\n    }\n    ko.applyBindings(self.model, self.dom);\n}\n);\n    (WebIO.importBlock({\"data\":[{\"name\":\"knockout\",\"type\":\"js\",\"url\":\"/assetserver/727383f2a47bd31570b7da84eee7b022dd6d7c78-knockout.js\"},{\"name\":\"knockout_punches\",\"type\":\"js\",\"url\":\"/assetserver/382b41b3b1bd9f26f75861d360bad7f8beea211f-knockout_punches.js\"}],\"type\":\"async_block\"})).then((imports) => handler.apply(this, imports));\n}\n"
                  ],
                  "observables": {
                   "clicks": {
                    "id": "14984995724013877632",
                    "sync": true,
                    "value": 0
                   },
                   "loading": {
                    "id": "14414698809953710861",
                    "sync": false,
                    "value": false
                   }
                  },
                  "systemjs_options": null
                 },
                 "nodeType": "Scope",
                 "props": {},
                 "type": "node"
                }
               ],
               "instanceArgs": {
                "namespace": "html",
                "tag": "div"
               },
               "nodeType": "DOM",
               "props": {
                "className": "field interact-widget"
               },
               "type": "node"
              }
             ],
             "instanceArgs": {
              "namespace": "html",
              "tag": "div"
             },
             "nodeType": "DOM",
             "props": {
              "style": {
               "display": "flex",
               "flex-direction": "row"
              }
             },
             "type": "node"
            }
           ],
           "instanceArgs": {
            "namespace": "html",
            "tag": "div"
           },
           "nodeType": "DOM",
           "props": {
            "style": {
             "display": "flex",
             "flex-direction": "column"
            }
           },
           "type": "node"
          },
          {
           "children": [
            {
             "children": [],
             "instanceArgs": {
              "namespace": "html",
              "tag": "div"
             },
             "nodeType": "DOM",
             "props": {
              "className": "webio-observable",
              "setInnerHtml": "    <div style=\"height: 500px; width: 100%; overflow-x: auto; overflow-y: hidden; resize: both\">\n    <iframe src=\"http://127.0.0.1:8702\" style=\"width: 100%; height: 100%; border: none\"></iframe>\n    </div>\n"
             },
             "type": "node"
            }
           ],
           "instanceArgs": {
            "handlers": {
             "obs-output": [
              "function (value, scope) {\n    scope.setInnerHTML(value);\n}\n"
             ]
            },
            "id": "3747534905696663960",
            "imports": {
             "data": [],
             "type": "async_block"
            },
            "mount_callbacks": [],
            "observables": {
             "obs-output": {
              "id": "5781170417440053584",
              "sync": false,
              "value": "    <div style=\"height: 500px; width: 100%; overflow-x: auto; overflow-y: hidden; resize: both\">\n    <iframe src=\"http://127.0.0.1:8702\" style=\"width: 100%; height: 100%; border: none\"></iframe>\n    </div>\n"
             }
            },
            "systemjs_options": null
           },
           "nodeType": "Scope",
           "props": {},
           "type": "node"
          },
          {
           "children": [
            {
             "children": [
              {
               "children": [],
               "instanceArgs": {
                "namespace": "html",
                "tag": "div"
               },
               "nodeType": "DOM",
               "props": {
                "id": "container"
               },
               "type": "node"
              }
             ],
             "instanceArgs": {
              "handlers": {
               "value": [
                "(function (txt){return this.k.render(txt,this.container)})"
               ]
              },
              "id": "3315668971664882649",
              "imports": {
               "data": [
                {
                 "name": null,
                 "type": "js",
                 "url": "/assetserver/dd22ed1bf1896c2748f3fe616ce0b838adc895c1-katex.min.js"
                },
                {
                 "name": null,
                 "type": "css",
                 "url": "/assetserver/46517a424aa5e6cffc1360d7e0848b601c584ee3-katex.min.css"
                }
               ],
               "type": "async_block"
              },
              "mount_callbacks": [
               "function () {\n    var handler = ((function (k){this.k=k; this.container=this.dom.querySelector(\"#container\"); return k.render(\"\\\\;\\\\;\",this.container)}));\n    (WebIO.importBlock({\"data\":[{\"name\":null,\"type\":\"js\",\"url\":\"/assetserver/dd22ed1bf1896c2748f3fe616ce0b838adc895c1-katex.min.js\"},{\"name\":null,\"type\":\"css\",\"url\":\"/assetserver/46517a424aa5e6cffc1360d7e0848b601c584ee3-katex.min.css\"}],\"type\":\"async_block\"})).then((imports) => handler.apply(this, imports));\n}\n"
              ],
              "observables": {
               "value": {
                "id": "5633736052952889304",
                "sync": false,
                "value": "\\;\\;"
               }
              },
              "systemjs_options": null
             },
             "nodeType": "Scope",
             "props": {},
             "type": "node"
            }
           ],
           "instanceArgs": {
            "namespace": "html",
            "tag": "div"
           },
           "nodeType": "DOM",
           "props": {
            "className": "interact-widget"
           },
           "type": "node"
          },
          {
           "children": [
            {
             "children": [
              {
               "children": [],
               "instanceArgs": {
                "namespace": "html",
                "tag": "div"
               },
               "nodeType": "DOM",
               "props": {
                "className": "webio-observable",
                "setInnerHtml": "<img src=\"data:image/png;base64,iVBORw0KGgoAAAANSUhEUgAAASwAAACWCAIAAADrOSKFAAAABmJLR0QA/wD/AP+gvaeTAAAgAElEQVR4nO2deVxTR/f/JyFAQlhMFAiLgCBENlGIgKiPiIILdcE9oBZFLYLVIopWrVWLbQW3xwe1Lt9WLS5gBfdWFiuPCKggq0rZZN+EhCUJgSz398c8va/8grbGQgIy77/uPZybMxP4MHPvnXOGgGEYQCAQqoOo6gYgEEMdJEIEQsUgESIQKgaJEIFQMUiECISKQSJEIFQMEiECoWKQCBEIFYNEiECoGCRCBELFDFARVlZWHj9+HD+VSqUSiUT5zcAwTCwWKz8uAEBVcUUi0ZCKOxAYoCIsLS29c+cOfiqRSFTyRymVSlXyx4FhmFAoVH5cAMBQizsQGKAiRCCGDiRVNwCBeF+4XG5qaurgyvsZO3Ysk8n8ax8kQsSgIT4+Pjo62tnZWdUNeV/q6uoMDQ0TEhL+2g2JEDFokEqlPj4+J0+eVHVD3pcbN25cuHDhb93QPSECoWKQCBEIFaPwdLSxsbGlpcXW1lZNTa33T9va2vD7Zg0NDSqViv+oqqpKKBTa2NgQCAS5q7hcLoVCIZPJijYGgfgIUGwk3LJly9ixY1euXMlkMktLS3s7mJubjxo1ysrKysrKasuWLdAoEokWLlw4efLkBQsWuLm5cTgc2Uvi4+PpdPrBgwc/uA8IxKBGARE+efIkNja2sLAwNzd34cKFX3755Vvd8vLyOBwOh8M5ffo0tFy5cqWsrKykpOTly5fGxsaHDh3CnVtbW/ft2+fp6fkPuoBADG4UEGFcXNz8+fMNDQ0BAOvWrbt582ZXV1dvN4FA0NbWJnfhypUrKRQKgUBYt27d1atX8R9t2rRp586dBgYGH9p+BGLQo4AIq6qqLC0t4bGlpaVUKq2rq+vtNmPGDAsLC1tb28ePH+MXWllZ4RfW1NTAhaB3797lcDgBAQG9P0QikXR0dOTk5OTk5OTn5yvUJQTiXRw+fLi6ulrVrZBHgQczPB4Pf3aipqamrq7O4/HkfPLz8y0sLKRSaVRU1MKFCysqKqhUKp/Pxy+kUChisbi7u1skEoWHh9+7d++tsZqaml69erV27VoAAJVKjYuL09TU7OnpUbh//wyJRNLT06P8ZasYhgkEApUsDen9O1VJXC0trbc++fuHnD171sPDw8zMrM8/+Z+ggAgZDAaXy4XHfD6/u7ubwWDI+VhYWAAAiETi9u3bDxw4UFRU5ObmZmhoiF/I4XB0dXW1tLS+/vprU1PTlJQUAEB5eXlXV9fdu3d9fX2hm7GxsZubW1JSEjwViURSqVRTU/PDO/pBQBFSKBQlx8UwjEgkamtrKzkuREdH5+OOy+Px2traTExM8Af1Uqm0oaFBQ0NDX19fzvnNmzckEolGo8kaxWJxXV2dqalpn/ynUGA66uzsnJGRAY8zMjJMTU3/4l6ura1NKBTq6en1vhAuO2KxWCwWq6KioqKigs/nc7ncxsbGD+8HAvF+xMXFubq6enp6Ojs7t7e3AwBevHhhbW29aNGiKVOmuLu7NzU1AQBaW1uJROKmTZtmz57t4OAQFBQklUoBAFu3bl24cOGECROWLFliZmYG77kiIiI2bdqEh/Dw8Lhy5cr7N0mBkXDlypX79++Pjo5msVjh4eGff/45kUgEAKxatcrFxWXz5s0ZGRn//e9/nZ2dBQLBoUOHpkyZYmNjAwDYsGHD5MmT3d3d6XT6gQMHTp06BQCYO3fu3Llz4Se/fv3azs4uKCjo/RuDGMpkt2CvOxWYq2uTCLNH/m/Qa2lpKSoqAgD4+PhcunQpJCTEzMysoKAAvtP+4osvoqOj4QN8DMMMDAyys7N5PJ67u3tcXBybzQYApKenFxYWGhoaXr58OTAwsLi4ODg4mMViff/991paWoWFhaWlpX5+fu/fPAVESKfTf//996ioqAcPHgQFBX3++efQzmKx4HMXBoNRW1ublpZGJpPnzp27ceNGqFJHR8fExMSTJ092d3cfPXp0wYIFcp88ffp0Y2Pj928JYojz3wYsq1kBEY4gY7NH/m/e+Omnn8I/y0mTJpWVlQEAdHR0kpKSUlJS2tvbKysr4YgHWb9+PQBAW1vb398/KSkJihB/R8Bms4ODgysqKqytrV1dXePj4wMDA8+ePRsYGKjQyhPFVsyMHTs2NjZWzogPxJaWljExMW+90MvLy8vL610fC7uKQLwnWxw/fLklfqetrq4OM7bPnz9/9OjRr776ytjYOCMjIzExEXfW1dWFB3p6eh0dHXJGAoGgo6MD57QbNmyIiopatmzZpUuXMjMzFWoSWjuKGOrcv38/ODh48eLFHh4ecq+4c3Nz4cHz58/xtEDcWF9f39raCqeBn3zySV1d3c6dO8eNGwfvwt4flMqEGOqMGzfu3LlzI0eOLC4uvnr1KpxqQnbt2hUaGlpWVnbr1q2cnBxofPXq1fbt2z08PI4cORIUFAQfnKqpqQUFBe3Zs0d2Lcp7gkSIGEKEh4ebm5vDYy8vLz6fD43a2to3btxgMpk3b97EBzoCgXDq1KkffvhBTU3t0aNH+NvF1atXW1pa3rlzh81my95JTZs2zcDAQKFHMhAkQsQQYt26dfixh4cHPCCRSKGhobjd3t4eP2YymUePHpX7ECKRuHbtWriSBEckEh05ciQ4OFhDQ0PRVqF7QgTiLRAIBLkX9JC35tyVlpZaWFjw+fytW7d+QCw0EiIQb4FOp7e2tva2f/PNN72N1tbWb11H/Z6gkRCB+BsuXbr09OnT/vt8JEIE4m+4ceNGv6byIBEihhZ8Pr+oqOj169f4yhiJRFJeXl5eXi631QKPx3v58qUS9l9QTIQtLS2zZs3S1tY2NDQ8f/58b4eLFy9ayQCXBQEASkpKXF1dtbS0LC0tYeYEAODMmTP29vZkMnn48OFffPGFqnZfQAwd4HuI8PDwgIAAuHyyoaHBxsYmMDDQ39/f1tb2jz/+gJ4XLlywsLAIDQ2dNGkSXNLdfyj2YCYiImL48OFcLrewsNDT0/Nf//oXnuYLaW9vd3R0PHLkCDw1NTWFB2vWrJk9e3ZWVtbt27eXLl1aW1urpaVFIBB++umn8ePH19XV+fj4jBw5Mjw8vE96hfi46S4vFDfVvL8/kapLcZoMADh+/PiJEyfmz58P/tz9gk6n46u3jx079vXXX1+9erW5uXnTpk3p6emOjo7FxcWwrlL/dAUAhUTY1dV19erVJ0+eqKurOzs7z5w58+LFi3v37pVz09bWllNmSUlJdnb2r7/+SiQS58+fb2ZmdvPmTTabjb+0sbCwmDdvHsqgR7wn4sbqnrry9/cnapChCO3s7Pbu3VtfXz979myY+6qpqfno0aPbt283NTW1tLQ0NDQAALKysuzs7BwdHQEAY8aMcXd375du/IkCIqyrqxMKhba2tvDU3t4en23KcvfuXX19fRMTk7Vr14aGhhIIhNLSUjMzMzxl087OTq5Sm0gkSk5ODgkJkTWKxWKYCkyhUPojyRoxeKFO8qX+vddbOHbs2LVr127duhUREeHv73/69Onbt29v3br1+++/hwlN8A0Ej8eTrdbZ39nGCoiQy+WSyWQS6X+X6Orq9n6R4uXl5enpaWxsnJOTs2rVKgqFEhQU1NbWJtslXV1duaqHW7Zs0dXVlV2CUFtbm56eDkdUMpmcnZ1NJpOVv0sZzKxX/taIsLyFkoNC+Hx+78Kwyo+rpaUFE476FhKJxGaz2Wx2U1MTg8GIjo5+8ODB8uXL4Vqz9PR06DZmzJjCwsLu7m5NTU2RSJSXl9c7/64vW/X+rvr6+l1dXT09PXBhDpfL7Z1Zjy/58fHxCQsLu379elBQ0IgRI/A0EHjh2LFj8dNdu3alp6c/ePBAdrgzNTX19PQcyuUtCASCSspbYBj2Ecdds2aNs7OziYnJo0ePnJycdHV1XV1dd+7cyWQyGxoa8GeNzs7OLBZr2bJly5cvv379en//V1Lgn42RkZGurm5BQQE8zc/PHzNmzF/4w78kAACTyaypqcFHv/z8fHxOu2/fvoSEhN9+++2tS4QQiL5lxYoVb968SU1NNTMz+/333wEAy5cvP3jwYGZmJoFAuHnzZkREBPRMSEjw8vLKzMz87LPPYmJiXF1d+7FZmCJs3Lhxzpw5zc3Nd+7c0dHRqa2txTCstLTU19dXIpFgGPbzzz8XFBRAB319/R9//BFe6OPjs2HDBi6Xe+rUKSMjo+7ubgzDoqOjaTTavXv3srOzs7OzS0pK8EBJSUne3t74aU9Pj1AoVKipfYJYLIZVz5SMVCrt7OxUflwMwzo6OgZs3JMnT27YsEEJjekrEhMTFyxY8Lduir2i+O677zZv3uzk5MRgMK5evWpiYgIAkEgk+BYUxcXF3377LYfDMTc3j4yMXL16Nbzwp59+CgkJsbW1HT169O3bt+GEtqGhwcXFBX+f4ezsjIrhI4YgiolQW1v7//7v/+SMTCYTv6ONjIyMjIzsfaGxsfGNGzfkjIcPH1YoOgLxUYKWrSEQKgaJEIFQMUiECISKQSJEIFQMyqxHDCZevnx55swZVbfifcnLy3sfNyRCxKBhypQpeXl5eOnBQcGKFSv+1geJEDFocHBwwLd//phA94QIhIpBIkQgVIxiIiwoKJgzZ469vf1nn30mmxiBs379eu8/CQsLw+3JycnTpk1zdHTctWsXXsZCKBRu3brV3t7e29sbX3ODQAw1FLgnFAqFs2bNCg8Pnz9//vbt2zdu3Hjx4kU5n6ysrMDAQJipNGzYMGisrq5etGjRuXPnHB0dAwMDKRTK7t27AQBfffVVTk5OQkJCVlbWJ598UlZWNmLEiD7qFwIxeHj/JeFXrlxxcHCAx5WVlZqami0tLXI+jo6ODx8+lDPu3bt34cKF8DgpKcnY2FgqlXZ3d9NotKysLGj39vY+evQofgnKokBZFEMHBaajRUVFLBYLHpubm+vp6eGlqWTZvXv3zJkzt23b9ubNm94XslgsuKFUbW1tW1ubi4sLtE+YMKGwsPDD/5cgEIMWBaajzc3N+AwTAECj0Zqbm+V8QkJCYE2KU6dOTZkyJTc3l0KhyF44bNgwAoHQ3Nzc2dlJpVLxYhnDhg3D04XBn+UtRo0aBQDQ0NB48OABKm+hHD7u8hYDEwVEqKenBzclhXR2dvZOhw8ODoYH06ZNMzMze/jw4ezZs/X09Hg8HrTzeDwMw2g0GpFI7Orqkkql8Lvm8Xiyn2Zqauri4nLhwgUAAJVKpdPpqLyF0kIPqbgDAQX+2YwaNQqff7a1tb158waOVG9FXV2dTqd3dnYCACwtLfHyaiUlJVQq1cDAwNTUlEgklpeX43ZYgg6HQqFYWlpaWlrKbtqIQHx8KCDCJUuW5OTkwJ0xYmJiJk6cCLdNTEhIuH79OgCgpaXlxYsX0Pn8+fNVVVUTJ04EAAQEBCQkJFRXV2MY9u9//5vNZqupqWlra/v5+R07dgwAUFpaeu/evYCAgD7vHgIx8FGs2trp06dnz55NJpP19PSg8AAAaWlpEolk0aJFXC7Xx8cHzjwZDEZcXNzIkSMBABMmTAgLCxs7dqympiaTyfzll1/ghYcOHVq0aJGRkZFQKPzmm2/wPcERiCEFAcMwhS4QiUSdnZ10Ov1dDp2dnW+9n+nu7u7q6pJ9tAPhcrlUKlVuf9Pk5OTo6OihXPKQz+er5B6ps7Ozv2vdDqi4AwGFF3DDm72/cHjXV6mpqflWFaFih4ghzlB5CoxADFiQCBEIFYNEiECoGCRCBELFIBEiECoGiRCBUDFIhAiEikEiRCBUjGIv61taWg4dOlRZWTlx4sTQ0FA8EUmOzs7O7777buLEiXPnzoWWzMzMixcv8ni8JUuWzJs3DxoFAsGpU6dyc3N1dHRWrFgxadKkf9ITBGKQosBIiGGYj49PQ0PD8uXLr169um3btnd5bt++/dy5cw8ePICnv//+u6+vL4vFmjdv3ubNm+Pi4qB91apV9+7d8/f3d3Jymjlz5pMnT/5JTxCIQYoCI+GDBw+ampqePXumpqZma2vr4uKyb98+XV1dObe0tLRXr17Nnz8ft5w8eTIkJCQoKAgAIJFIDh48uGzZMgBAUlJSUlKSu7s7PE5JSXFzc+uDPiEQgwoFRsInT55MnjwZ7izPZDK1tbV7F6QQCAShoaGnTp2STYtubW1lMBjw2MjIKDc3t6urCwAwceLE+/fvYxjW2NiYm5sL854QiKGGAiNhY2Oj7NLtESNGNDQ0yPns3r17xYoVcnvZT5gw4datW8HBwSQSCSZANTQ0WFpanjt3zsvLKyoqqru7e9euXV5eXvglTU1Nz58/hxYtLa0zZ85oamqi8hZKAJW3UD4KiJBCofD5fPxUKBRqaWnJOmRlZaWlpfW+tduxY4efn5+NjY2Ojo69vT0AQE9PTyKRzJ8/n81mb9u2rbq6euHChTY2NnheL51Ot7Cw+PLLLwEAJBKJTqdjGKaSVCYSiaSSVCYMw+S+XuUgkUgGQtyho0CgkAhNTU3xvTh6enoaGxtNTU1lHX777bfKykqYm9vS0kIgECorKxMTE2k02sOHDxsbG9XV1YuKipKTk4cPH/7HH3/k5eVlZGSQyWR7e/uVK1f+8ssvuAhhwpS3tzc8hfmEyv/FYBhGJBKHTlwAwFCLOxBQoNsLFizIzMysqKgAAFy/ft3U1NTR0REA8OzZs4yMDADA9u3by8rKsrOzs7Oz/fz82Gw2rA7c09ODYRiDwaBQKPv374dPaBgMhpqaGr53VE5ODkzDRyCGGgqMhCNHjtyxY8fEiRPHjx+fk5MTGxsLJ/Hnz59vb2/38PCgUCj4zE1TU5NMJsME32fPnvn7+1taWr569Wry5Ml79+4FAOjp6UVHR8+ZM2fKlCk1NTVCoTAmJqbv+4dADHgULm9RXV1dUVHh5OSEZ8S3tbXBKoaybnA6Onz4cHhaWVlZUVFhbm5uZWUl51ZcXKynp2dnZwefu0JQeQtU3mLooHB5CzMzM1hkDad32RgAgNyuEhYWFnIVDXG3yZMnK9oGBOJjYojeCiMQAwckQgRCxSARIhAqBokQgVAxSIQIhIpBIkQgVAwSIQKhYpAIEQgVo9jLeqFQeOXKlfr6+qlTp/7FS3ahUHj79m17e3s7OztoqaysvHPnjlAo9PPzk10009bWdu3atebmZktLywULFih/bQoCoXIUK28xc+bM2NhYiUSybNmyH3/88V2ee/fu/fTTT69duwZPnz59ymKxqqurORyOu7t7bm4utJeVldnb29+/f7+npychIaG2tvaf9ASBGKQoVt6ivLy8vLxcU1OTxWKFhoYGBgb2Tj/Jzc199OjRnDlzcMuBAwdCQkL2798PANDV1T1w4ADcojAkJCQwMPDAgQN90REEYrCiwEiYkpIyY8YMuIra29u7vr4e3wQbp6enJygoKCYmRnY1dlVVla2tLTy2s7ODy7J5PF5KSsqKFSuuX79+7dq1tra2f9oVBGJwosBIWF9fb2RkBI/V1dWHDx9eX18vt73ugQMHfH19x48fL2scM2ZMZmYmm80GAGRkZHR2dnZ2dlZVVampqQUGBrq5udXX12/ZsiUrK8vExARe0tbWVlpaCgu6aWhobNmyRV1d/Z/088OAWRQqSert7u5WSZe7u7vlNmxVSVwNDQ2VVNlQCQqIUE1NTSqV4qcSiUR2uAMAFBQUXL9+PTs7W+7CPXv2eHt719TUkEikuro6AoFAIpGkUqlYLN64cePKlSsBAIsWLTp69OihQ4f+1ywSSV1dHaZHaWpqqqurD6kMd5RZP6RQQIRGRkbV1dXwuLu7m8vl4gMj5Keffuru7oYFfwsLC7OzswUCwcGDB+3s7F6+fPnkyRNtbW0ejxcUFEShUIyNjQEA+Jjp4uLy9OlT/KO0tbUtLCx27twJT2E+ofJHBiKRiGGY8uPCoCoZCYda3IGAAiKcPXv24sWLBQKBlpbWvXv3LCwsRo8eDQCorq5WU1MzMTEJDg729fWFzpGRkebm5rC+KABAT0/Px8dHIpH4+fktWbIEADBixAg3N7f8/HwHBwcAQG5urrW1dR93DoEYDCggwsmTJ7NYrGnTpk2aNOnSpUvHjx+Hs/Yvv/ySRqPFxMQwmUz8FvHs2bOWlpbOzs4AgOTk5JiYGAsLi8ePH6urq8fGxkKfyMhIf3//58+f19XVPXv27Pjx433dOwRiEKDYy/obN27cvXu3trY2JSUFVnkCAGzfvr33RGL37t1UKhUee3h48Hi8+vp6b2/vWbNm4TtYzJgxIysrKykpyc3N7ezZs0O2ugFiiKNwjRnlgGrMoBozQ4ch+jwKgRg4DA4R3rlz59KlS8qPm56erpJCjEVFRSpZSFRTU7Njxw7lx21vbw8JCVF+3AGCwtXWVEJxcXFra6vy45aXl/fe9EYJVFdX4ytslUljY2NWVpby47a1taWlpSk/7gBhcIyECMRHDBIhAqFiBu50VCwWc7lceNzV1SUUCvFTpSEQCHp6epQfl8fjiUQi5cft7OyUSCTKj9ve3i6VSmXjUqlUlSxhVQkD9BVFYmIim83G98qCW8oo/xWFSCQSi8XKf0UhFot7enqUv0WZVCoVCATKfzWCYRiPx5N9RbF27dqoqCglN0NVDFARIhBDB3RPiECoGCRCBELFDBoRisXisrKy9vZ2OXtLS0tFRUX/Tap5PF55eblQKOynz1eUjo6OsrIykUik6oYohkAgKC8vFwgEf+HT2tpaUVEhm7MKAJBKpeXl5RwOp58bqFIwVcPhcGbOnAm3Unv9+vVbfZ4/f25mZmZvb0+j0Y4fP47bt2zZMnz4cBsbGwcHh+rqakVDr169Gm7zFhcX91YHb29vKpVqY2Ojra399ddfQ2NLS4vsF7h7925F47LZbLjT+O3bt9/qsHz5cvzzaTQabv/hhx9oNJq9vb2JicmTJ08Ujbt//34mk0kkEvG+yDF16lTZrk2dOhXaGQwGbvTz81M07rx587S0tODXGBER8VafiIgIOp3OZDLt7OwqKyuhsayszMbGZsyYMTQa7QO+58GC6kXY0dFx5coVuDDlXSKcNGnSwYMHMQx7+fIllUqtra3FMCw9Pd3Q0LCxsRHDsODg4FWrVikaOi4uLi8vz87O7l0ijI2NFQqFGIYVFxdTqdT09HQMw+D+p4rGkuXy5csFBQWjRo36CxGeOHFCztjU1KSlpZWXl4dh2H/+8x8XFxdF4967dy8zM9PPz+9dIpRl/PjxJ0+ehMcMBuPFixeKhsO5fPlyV1cXhmHl5eXDhg1LSkqSc8jKytLX16+vr8cwbOPGjf7+/tC+aNGisLAwDMNqa2vpdHpubu4Ht2Ego3oRQrq6ut4lwsrKShKJxOVy4enMmTOPHDmCYVhoaOiGDRugMT8/n0wmi0SiDwjt6Oj4LhHK4uDgEBsbi/0pQoFA0N3d/QHhcKysrP5ChDExMR0dHbLGkydP/utf/4LHfD6fTCYXFxd/QFw2m/23IszPz6dQKBwOB54yGIzc3FyBQPAB4eRwdXU9c+aMnHHz5s3r1q2Dx0VFRZqamkKhkMfjkUikkpISaA8MDNy2bds/b8AAZBDcE1ZVVY0YMQLfD3j06NFVVVUAgMrKSryOsLW1tVAobGxs7Kc2PHv2rKqqCp+tYRhmamqqp6c3derU3iXn+oSIiAhjY2MGg3HmzBloqayshKUMAABaWlpGRkaVlZX9ERoAcObMmUWLFsluge7p6Umn08eOHZuenv7BH1tQUPDq1avp06fL2eV+ld3d3Q0NDXV1dVKp1NLSEtrx3/vHxyAQYWdnp+zrci0trY6ODgAAj8fD7WQymUgkdnZ29kcD6uvrly1bdvjwYXgjp6OjU1FR0drayuVybWxsli5d2ucRv/nmm46Ojs7OzsuXL4eFhT169AgAwOPxyGQy7qOlpdVP/RUKhZcvX16zZg1uefjwYVtbG5/PX7FihZ+f34fVp2xubl6yZElkZCSuKxzZX6WGhgaJRIIl+TQ0NPBiYvjv/eNjEIjQ0NBQdkETh8MxNDQEABgYGOB/DW1tbVKpFNr7lubm5unTp69fv37dunXQoqGhMWrUKAAAmUyOjIzMy8trbm7u26CjR4+Gf3xeXl6+vr4pKSng/+8vkPke+pyEhIRhw4bJPqSBVUuIRGJERASBQPiADA8Oh+Pt7b18+fJNmzb1/qls1zo6OsRisaGhoaGhoVAohPcpoD/7q3IGgQhtbGx6enqKi4vhaVZWFqzRNm7cODzvJjMz09zcnE6n923olpaWGTNmsNnsd2XZtbS0EInEfl1f1tLSAteRyfa3qqqKw+HgW330LT/++OOaNWveWoBQIBB8wLq29vb2WbNmzZgxY9++fW91kO1aVlaWqampvr4+g8FgMBhPnjzB7XL1bD8eVH1TimEYlpiYCHN2T5w4ER8fLxaLMQzbs2fPzp07oUNwcPD06dOfPn26d+/ekSNHwici9fX1enp6P/zww+PHjx0cHKKjoxWNm5aWFh8fb2ZmFhYWFh8f39zcjGFYfHz83LlzMQwTi8VOTk6urq7xfwIfhNy5c+f06dPp6emJiYlOTk4BAQGKxk1NTY2Pjzc0NNyxY0d8fDx8/nHx4sWlS5diGCYSicLDw3/77bdHjx598cUXurq68JG9SCSytLTcsWPHs2fP5syZExgYqGjc3Nzc+Pj4SZMmLV68OD4+vqysDBrHjBmD+7x+/ZpEIlVVVcleFRUVlZaWdv/+/ZkzZ7JYLEUfgLm6uo4bNw7/GouKijAM4/P5TCYTPndpamrS09M7ceJERkaGk5PTd999By/ct2+fi4tLRkbG8ePHaTRaa2urol0eFAyILIqHDx92dXWtX78+Pz8fALBgwQI1NbVRo0bh722PHDkSGRm5ZcsWc3Pz1NRUuL7eyMjo/v37UVFRly9fDgwMDAsLUzTu8+fPX716NWvWLD6fn5KS4uTkpK+vb5DeoX8AAARhSURBVGBgMHbsWAAAhmFubm4AADgbBADo6uoymUx9ff0rV678/PPPw4YNW716dXBwsKJxs7Ozy8vL58+fz+FwUlJSXF1daTQag8GA1R/hEHTkyBGhUGhnZ/f06VNzc3MAAIlESk5O3rt3b1hYmIeHx549exSNW1JSkpqaam9vDztlYGBgZWWlra3t7u6O+1RUVOzfvx++PoXQaLTS0tK7d+9qamq6ubmFhYXhpbreE2dnZ6lUin+NZDLZ3t5eTU3N3d0dTiIMDAySk5MPHjx49erVgICA8PBw6Llz5051dfXt27czGIzU1NQ+n+kMENACbgRCxQyCe0IE4uMGiRCBUDFIhAiEikEiRCBUDBKhaigrK5PdhepdwMe2fb4YADGgQCJUBteuXcMXG0COHDnyPuvdampqvL29Hz9+3G9NQ6geJEJlsHTp0sTERFnLpEmT8H3jEEOcAfGyfggSEBAQEBCg6lYgBgRoJOxf2tvbWSwWAODEiRMsFovFYp07dw4AcPjw4cWLF+NuYrE4KirKwcGBSqUaGRnNmTOnqKio96eJxeJNmzZNnTr1jz/+AAAUFhbOmzfPyMiISqWOGjXK399fIpEoq2eIPgONhP2Lpqbm+vXrP/vsM1dX11mzZgEA4Map5eXl2dnZ0AfDMDabnZCQEBwcvH///p6enrS0tIqKCriKDYfP5y9btiw7O/vOnTtMJlMgEPj4+FhZWR0/flxPT6+uru7WrVto/dOgRLVLV4cIAIBvv/1W1rJhwwZzc3N4/OuvvwIAoqKiel/46tUrAEBCQkJDQ4OLi4uVlRWeaf7s2TMAQGZmZj+3HdHvoOmo6rl79y6JRPr888/f5VBeXj5lyhQSiZSZmWltbQ2NpqamGhoau3fvvnfvXk9Pj7Iai+h7kAhVT0NDg5GRkWzWvBy7d++uqam5fPmyvr4+bmQwGLGxsSUlJb6+vjQabd68eRkZGUppL6KPQSJUPVQq9a/3YDl27Ji1tfWMGTNev34ta1+yZElVVVVeXl5kZGRZWZmnp2dBQUE/NxbR9yARKgMKhfIXM0Y3NzcejwcLybwVQ0PD1NRUXV1dT0/PsrIy2R8RCAQnJ6ewsLDU1FSRSJSamtqX7UYoBSRCZTB69OiUlJSysjIul9u7mPeKFStMTU2DgoJycnKgJScn58WLF7I+BgYGDx8+NDY2njJlCnx7kZOTc+HCBR6PBx2g/PA7RsQgAolQGRw8eLCkpMTa2ppOp0dHR8v9VFdX99dffyWRSCwWi06na2tru7m5VVRUyLkNGzYsOTnZ1tZ2+vTp+fn5HA5n3bp1Ojo6xsbGI0aMWL169aZNm3x9fZXVJ0SfgTLrlUdTUxOfz6fRaDQa7c2bNwKBANatgEgkEljdVEdHx9nZGVaeF4lENTU1hoaGVCoVugmFwvr6eiqVamhoyOfzc3NzGxoaqFSqk5OTiYmJajqG+GcgESIQKgZNRxEIFYNEiECoGCRCBELF/D8ZlKm3Ak4NPAAAAABJRU5ErkJggg==\" />"
               },
               "type": "node"
              }
             ],
             "instanceArgs": {
              "handlers": {
               "obs-output": [
                "function (value, scope) {\n    scope.setInnerHTML(value);\n}\n"
               ]
              },
              "id": "18442349410785036892",
              "imports": {
               "data": [],
               "type": "async_block"
              },
              "mount_callbacks": [],
              "observables": {
               "obs-output": {
                "id": "17293605884184170289",
                "sync": false,
                "value": "<img src=\"data:image/png;base64,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\" />"
               }
              },
              "systemjs_options": null
             },
             "nodeType": "Scope",
             "props": {},
             "type": "node"
            }
           ],
           "instanceArgs": {
            "namespace": "html",
            "tag": "div"
           },
           "nodeType": "DOM",
           "props": {
            "style": {
             "display": "flex",
             "flex-direction": "column"
            }
           },
           "type": "node"
          }
         ],
         "instanceArgs": {
          "namespace": "html",
          "tag": "div"
         },
         "nodeType": "DOM",
         "props": {
          "style": {
           "display": "flex",
           "flex-direction": "row"
          }
         },
         "type": "node"
        }
       ],
       "instanceArgs": {
        "namespace": "html",
        "tag": "div"
       },
       "nodeType": "DOM",
       "props": {
        "style": {
         "display": "flex",
         "flex-direction": "column"
        }
       },
       "type": "node"
      },
      "text/html": [
       "<div\n",
       "    class=\"webio-mountpoint\"\n",
       "    data-webio-mountpoint=\"112401804440483696\"\n",
       ">\n",
       "    <script>\n",
       "    (function(){\n",
       "    // Some integrations (namely, IJulia/Jupyter) use an alternate render pathway than\n",
       "    // just putting the html on the page. If WebIO isn't defined, then it's pretty likely\n",
       "    // that we're in one of those situations and the integration just isn't installed\n",
       "    // correctly.\n",
       "    if (typeof window.WebIO === \"undefined\") {\n",
       "        document\n",
       "            .querySelector('[data-webio-mountpoint=\"112401804440483696\"]')\n",
       "            .innerHTML = (\n",
       "                '<div style=\"padding: 1em; background-color: #f8d6da; border: 1px solid #f5c6cb; font-weight: bold;\">' +\n",
       "                '<p><strong>WebIO not detected.</strong></p>' +\n",
       "                '<p>Please read ' +\n",
       "                '<a href=\"https://juliagizmos.github.io/WebIO.jl/latest/troubleshooting/not-detected/\" target=\"_blank\">the troubleshooting guide</a> ' +\n",
       "                'for more information on how to resolve this issue.</p>' +\n",
       "                '<p><a href=\"https://juliagizmos.github.io/WebIO.jl/latest/troubleshooting/not-detected/\" target=\"_blank\">https://juliagizmos.github.io/WebIO.jl/latest/troubleshooting/not-detected/</a></p>' +\n",
       "                '</div>'\n",
       "            );\n",
       "        return;\n",
       "    }\n",
       "    WebIO.mount(\n",
       "        document.querySelector('[data-webio-mountpoint=\"112401804440483696\"]'),\n",
       "        {\"props\":{\"style\":{\"display\":\"flex\",\"flex-direction\":\"column\"}},\"nodeType\":\"DOM\",\"type\":\"node\",\"instanceArgs\":{\"namespace\":\"html\",\"tag\":\"div\"},\"children\":[{\"props\":{\"style\":{\"display\":\"flex\",\"flex-direction\":\"row\"}},\"nodeType\":\"DOM\",\"type\":\"node\",\"instanceArgs\":{\"namespace\":\"html\",\"tag\":\"div\"},\"children\":[{\"props\":{\"style\":{\"display\":\"flex\",\"flex-direction\":\"column\"}},\"nodeType\":\"DOM\",\"type\":\"node\",\"instanceArgs\":{\"namespace\":\"html\",\"tag\":\"div\"},\"children\":[{\"props\":{\"className\":\"field interact-widget\"},\"nodeType\":\"DOM\",\"type\":\"node\",\"instanceArgs\":{\"namespace\":\"html\",\"tag\":\"div\"},\"children\":[{\"props\":{},\"nodeType\":\"Scope\",\"type\":\"node\",\"instanceArgs\":{\"imports\":{\"data\":[{\"name\":\"knockout\",\"type\":\"js\",\"url\":\"\\/assetserver\\/727383f2a47bd31570b7da84eee7b022dd6d7c78-knockout.js\"},{\"name\":\"knockout_punches\",\"type\":\"js\",\"url\":\"\\/assetserver\\/382b41b3b1bd9f26f75861d360bad7f8beea211f-knockout_punches.js\"},{\"name\":null,\"type\":\"js\",\"url\":\"\\/assetserver\\/5ab20f1060420992a9b82a65b735dee4d81ef413-all.js\"},{\"name\":null,\"type\":\"css\",\"url\":\"\\/assetserver\\/1cc0ed62837210b80a182cc3676512f895dab686-style.css\"},{\"name\":null,\"type\":\"css\",\"url\":\"\\/assetserver\\/2eee816f616df3549d7044d45e744fbf8d42bfa1-bulma_confined.min.css\"}],\"type\":\"async_block\"},\"id\":\"16166339740074932991\",\"handlers\":{\"changes\":[\"(function (val){return (val!=this.model[\\\"changes\\\"]()) ? (this.valueFromJulia[\\\"changes\\\"]=true, this.model[\\\"changes\\\"](val)) : undefined})\"],\"index\":[\"(function (val){return (val!=this.model[\\\"index\\\"]()) ? (this.valueFromJulia[\\\"index\\\"]=true, this.model[\\\"index\\\"](val)) : undefined})\"]},\"systemjs_options\":null,\"mount_callbacks\":[\"function () {\\n    var handler = (function (ko, koPunches) {\\n    ko.punches.enableAll();\\n    ko.bindingHandlers.numericValue = {\\n        init: function(element, valueAccessor, allBindings, data, context) {\\n            var stringified = ko.observable(ko.unwrap(valueAccessor()));\\n            stringified.subscribe(function(value) {\\n                var val = parseFloat(value);\\n                if (!isNaN(val)) {\\n                    valueAccessor()(val);\\n                }\\n            });\\n            valueAccessor().subscribe(function(value) {\\n                var str = JSON.stringify(value);\\n                if ((str == \\\"0\\\") && ([\\\"-0\\\", \\\"-0.\\\"].indexOf(stringified()) >= 0))\\n                     return;\\n                 if ([\\\"null\\\", \\\"\\\"].indexOf(str) >= 0)\\n                     return;\\n                stringified(str);\\n            });\\n            ko.applyBindingsToNode(\\n                element,\\n                {\\n                    value: stringified,\\n                    valueUpdate: allBindings.get('valueUpdate'),\\n                },\\n                context,\\n            );\\n        }\\n    };\\n    var json_data = {\\\"formatted_vals\\\":[\\\"1\\\",\\\"2\\\",\\\"3\\\",\\\"4\\\",\\\"5\\\",\\\"6\\\",\\\"7\\\",\\\"8\\\",\\\"9\\\",\\\"10\\\",\\\"11\\\",\\\"12\\\",\\\"13\\\",\\\"14\\\",\\\"15\\\",\\\"16\\\",\\\"17\\\",\\\"18\\\",\\\"19\\\",\\\"20\\\",\\\"21\\\",\\\"22\\\",\\\"23\\\",\\\"24\\\",\\\"25\\\",\\\"26\\\",\\\"27\\\",\\\"28\\\",\\\"29\\\",\\\"30\\\",\\\"31\\\",\\\"32\\\",\\\"33\\\",\\\"34\\\",\\\"35\\\",\\\"36\\\",\\\"37\\\",\\\"38\\\",\\\"39\\\",\\\"40\\\",\\\"41\\\",\\\"42\\\",\\\"43\\\",\\\"44\\\",\\\"45\\\",\\\"46\\\",\\\"47\\\",\\\"48\\\",\\\"49\\\",\\\"50\\\",\\\"51\\\",\\\"52\\\",\\\"53\\\",\\\"54\\\",\\\"55\\\",\\\"56\\\",\\\"57\\\",\\\"58\\\",\\\"59\\\",\\\"60\\\",\\\"61\\\",\\\"62\\\",\\\"63\\\",\\\"64\\\",\\\"65\\\",\\\"66\\\",\\\"67\\\",\\\"68\\\",\\\"69\\\",\\\"70\\\",\\\"71\\\",\\\"72\\\",\\\"73\\\",\\\"74\\\",\\\"75\\\",\\\"76\\\",\\\"77\\\",\\\"78\\\",\\\"79\\\",\\\"80\\\",\\\"81\\\",\\\"82\\\",\\\"83\\\",\\\"84\\\",\\\"85\\\",\\\"86\\\",\\\"87\\\",\\\"88\\\",\\\"89\\\",\\\"90\\\",\\\"91\\\",\\\"92\\\",\\\"93\\\",\\\"94\\\",\\\"95\\\",\\\"96\\\",\\\"97\\\",\\\"98\\\",\\\"99\\\",\\\"100\\\",\\\"101\\\",\\\"102\\\",\\\"103\\\",\\\"104\\\",\\\"105\\\",\\\"106\\\",\\\"107\\\",\\\"108\\\",\\\"109\\\",\\\"110\\\",\\\"111\\\",\\\"112\\\",\\\"113\\\",\\\"114\\\",\\\"115\\\",\\\"116\\\",\\\"117\\\",\\\"118\\\",\\\"119\\\",\\\"120\\\",\\\"121\\\",\\\"122\\\",\\\"123\\\",\\\"124\\\",\\\"125\\\",\\\"126\\\",\\\"127\\\",\\\"128\\\",\\\"129\\\",\\\"130\\\",\\\"131\\\",\\\"132\\\",\\\"133\\\",\\\"134\\\",\\\"135\\\",\\\"136\\\",\\\"137\\\",\\\"138\\\",\\\"139\\\",\\\"140\\\",\\\"141\\\",\\\"142\\\",\\\"143\\\",\\\"144\\\",\\\"145\\\",\\\"146\\\",\\\"147\\\",\\\"148\\\",\\\"149\\\",\\\"150\\\",\\\"151\\\",\\\"152\\\",\\\"153\\\",\\\"154\\\",\\\"155\\\",\\\"156\\\",\\\"157\\\",\\\"158\\\",\\\"159\\\",\\\"160\\\",\\\"161\\\",\\\"162\\\",\\\"163\\\",\\\"164\\\",\\\"165\\\",\\\"166\\\",\\\"167\\\",\\\"168\\\",\\\"169\\\",\\\"170\\\",\\\"171\\\",\\\"172\\\",\\\"173\\\",\\\"174\\\",\\\"175\\\",\\\"176\\\",\\\"177\\\",\\\"178\\\",\\\"179\\\",\\\"180\\\",\\\"181\\\",\\\"182\\\",\\\"183\\\",\\\"184\\\",\\\"185\\\",\\\"186\\\",\\\"187\\\",\\\"188\\\",\\\"189\\\",\\\"190\\\",\\\"191\\\",\\\"192\\\",\\\"193\\\",\\\"194\\\",\\\"195\\\",\\\"196\\\",\\\"197\\\",\\\"198\\\",\\\"199\\\",\\\"200\\\"],\\\"changes\\\":WebIO.getval({\\\"name\\\":\\\"changes\\\",\\\"scope\\\":\\\"16166339740074932991\\\",\\\"id\\\":\\\"16337152099165292262\\\",\\\"type\\\":\\\"observable\\\"}),\\\"index\\\":WebIO.getval({\\\"name\\\":\\\"index\\\",\\\"scope\\\":\\\"16166339740074932991\\\",\\\"id\\\":\\\"13430711573573977894\\\",\\\"type\\\":\\\"observable\\\"})};\\n    var self = this;\\n    function AppViewModel() {\\n        for (var key in json_data) {\\n            var el = json_data[key];\\n            this[key] = Array.isArray(el) ? ko.observableArray(el) : ko.observable(el);\\n        }\\n        \\n        [this[\\\"formatted_val\\\"]=ko.computed(    function(){\\n        return this.formatted_vals()[parseInt(this.index())-(1)];\\n    }\\n,this)]\\n        [this[\\\"changes\\\"].subscribe((function (val){!(this.valueFromJulia[\\\"changes\\\"]) ? (WebIO.setval({\\\"name\\\":\\\"changes\\\",\\\"scope\\\":\\\"16166339740074932991\\\",\\\"id\\\":\\\"16337152099165292262\\\",\\\"type\\\":\\\"observable\\\"},val)) : undefined; return this.valueFromJulia[\\\"changes\\\"]=false}),self),this[\\\"index\\\"].subscribe((function (val){!(this.valueFromJulia[\\\"index\\\"]) ? (WebIO.setval({\\\"name\\\":\\\"index\\\",\\\"scope\\\":\\\"16166339740074932991\\\",\\\"id\\\":\\\"13430711573573977894\\\",\\\"type\\\":\\\"observable\\\"},val)) : undefined; return this.valueFromJulia[\\\"index\\\"]=false}),self)]\\n        \\n    }\\n    self.model = new AppViewModel();\\n    self.valueFromJulia = {};\\n    for (var key in json_data) {\\n        self.valueFromJulia[key] = false;\\n    }\\n    ko.applyBindings(self.model, self.dom);\\n}\\n);\\n    (WebIO.importBlock({\\\"data\\\":[{\\\"name\\\":\\\"knockout\\\",\\\"type\\\":\\\"js\\\",\\\"url\\\":\\\"\\/assetserver\\/727383f2a47bd31570b7da84eee7b022dd6d7c78-knockout.js\\\"},{\\\"name\\\":\\\"knockout_punches\\\",\\\"type\\\":\\\"js\\\",\\\"url\\\":\\\"\\/assetserver\\/382b41b3b1bd9f26f75861d360bad7f8beea211f-knockout_punches.js\\\"}],\\\"type\\\":\\\"async_block\\\"})).then((imports) => handler.apply(this, imports));\\n}\\n\"],\"observables\":{\"changes\":{\"sync\":false,\"id\":\"16337152099165292262\",\"value\":0},\"index\":{\"sync\":true,\"id\":\"13430711573573977894\",\"value\":1}}},\"children\":[{\"props\":{\"className\":\"interact-flex-row interact-widget\"},\"nodeType\":\"DOM\",\"type\":\"node\",\"instanceArgs\":{\"namespace\":\"html\",\"tag\":\"div\"},\"children\":[{\"props\":{\"className\":\"interact-flex-row-left\"},\"nodeType\":\"DOM\",\"type\":\"node\",\"instanceArgs\":{\"namespace\":\"html\",\"tag\":\"div\"},\"children\":[{\"props\":{\"className\":\"interact \",\"style\":{\"padding\":\"5px 10px 0px 10px\"}},\"nodeType\":\"DOM\",\"type\":\"node\",\"instanceArgs\":{\"namespace\":\"html\",\"tag\":\"label\"},\"children\":[\"time\"]}]},{\"props\":{\"className\":\"interact-flex-row-center\"},\"nodeType\":\"DOM\",\"type\":\"node\",\"instanceArgs\":{\"namespace\":\"html\",\"tag\":\"div\"},\"children\":[{\"props\":{\"max\":200,\"min\":1,\"attributes\":{\"type\":\"range\",\"data-bind\":\"numericValue: index, valueUpdate: 'input', event: {change: function (){this.changes(this.changes()+1)}}\",\"orient\":\"horizontal\"},\"step\":1,\"className\":\"slider slider is-fullwidth\",\"style\":{}},\"nodeType\":\"DOM\",\"type\":\"node\",\"instanceArgs\":{\"namespace\":\"html\",\"tag\":\"input\"},\"children\":[]}]},{\"props\":{\"className\":\"interact-flex-row-right\"},\"nodeType\":\"DOM\",\"type\":\"node\",\"instanceArgs\":{\"namespace\":\"html\",\"tag\":\"div\"},\"children\":[{\"props\":{\"attributes\":{\"data-bind\":\"text: formatted_val\"}},\"nodeType\":\"DOM\",\"type\":\"node\",\"instanceArgs\":{\"namespace\":\"html\",\"tag\":\"p\"},\"children\":[]}]}]}]}]},{\"props\":{\"className\":\"field interact-widget\"},\"nodeType\":\"DOM\",\"type\":\"node\",\"instanceArgs\":{\"namespace\":\"html\",\"tag\":\"div\"},\"children\":[{\"props\":{},\"nodeType\":\"Scope\",\"type\":\"node\",\"instanceArgs\":{\"imports\":{\"data\":[{\"name\":\"knockout\",\"type\":\"js\",\"url\":\"\\/assetserver\\/727383f2a47bd31570b7da84eee7b022dd6d7c78-knockout.js\"},{\"name\":\"knockout_punches\",\"type\":\"js\",\"url\":\"\\/assetserver\\/382b41b3b1bd9f26f75861d360bad7f8beea211f-knockout_punches.js\"},{\"name\":null,\"type\":\"js\",\"url\":\"\\/assetserver\\/5ab20f1060420992a9b82a65b735dee4d81ef413-all.js\"},{\"name\":null,\"type\":\"css\",\"url\":\"\\/assetserver\\/1cc0ed62837210b80a182cc3676512f895dab686-style.css\"},{\"name\":null,\"type\":\"css\",\"url\":\"\\/assetserver\\/2eee816f616df3549d7044d45e744fbf8d42bfa1-bulma_confined.min.css\"}],\"type\":\"async_block\"},\"id\":\"2248586910575621627\",\"handlers\":{\"changes\":[\"(function (val){return (val!=this.model[\\\"changes\\\"]()) ? (this.valueFromJulia[\\\"changes\\\"]=true, this.model[\\\"changes\\\"](val)) : undefined})\"],\"index\":[\"(function (val){return (val!=this.model[\\\"index\\\"]()) ? (this.valueFromJulia[\\\"index\\\"]=true, this.model[\\\"index\\\"](val)) : undefined})\"]},\"systemjs_options\":null,\"mount_callbacks\":[\"function () {\\n    var handler = (function (ko, koPunches) {\\n    ko.punches.enableAll();\\n    ko.bindingHandlers.numericValue = {\\n        init: function(element, valueAccessor, allBindings, data, context) {\\n            var stringified = ko.observable(ko.unwrap(valueAccessor()));\\n            stringified.subscribe(function(value) {\\n                var val = parseFloat(value);\\n                if (!isNaN(val)) {\\n                    valueAccessor()(val);\\n                }\\n            });\\n            valueAccessor().subscribe(function(value) {\\n                var str = JSON.stringify(value);\\n                if ((str == \\\"0\\\") && ([\\\"-0\\\", \\\"-0.\\\"].indexOf(stringified()) >= 0))\\n                     return;\\n                 if ([\\\"null\\\", \\\"\\\"].indexOf(str) >= 0)\\n                     return;\\n                stringified(str);\\n            });\\n            ko.applyBindingsToNode(\\n                element,\\n                {\\n                    value: stringified,\\n                    valueUpdate: allBindings.get('valueUpdate'),\\n                },\\n                context,\\n            );\\n        }\\n    };\\n    var json_data = {\\\"formatted_vals\\\":[\\\"0.1\\\",\\\"0.2\\\",\\\"0.3\\\",\\\"0.4\\\",\\\"0.5\\\",\\\"0.6\\\",\\\"0.7\\\",\\\"0.8\\\",\\\"0.9\\\",\\\"1.0\\\",\\\"1.1\\\",\\\"1.2\\\",\\\"1.3\\\",\\\"1.4\\\",\\\"1.5\\\",\\\"1.6\\\",\\\"1.7\\\",\\\"1.8\\\",\\\"1.9\\\",\\\"2.0\\\"],\\\"changes\\\":WebIO.getval({\\\"name\\\":\\\"changes\\\",\\\"scope\\\":\\\"2248586910575621627\\\",\\\"id\\\":\\\"10324408408380471348\\\",\\\"type\\\":\\\"observable\\\"}),\\\"index\\\":WebIO.getval({\\\"name\\\":\\\"index\\\",\\\"scope\\\":\\\"2248586910575621627\\\",\\\"id\\\":\\\"15328897977523241246\\\",\\\"type\\\":\\\"observable\\\"})};\\n    var self = this;\\n    function AppViewModel() {\\n        for (var key in json_data) {\\n            var el = json_data[key];\\n            this[key] = Array.isArray(el) ? ko.observableArray(el) : ko.observable(el);\\n        }\\n        \\n        [this[\\\"formatted_val\\\"]=ko.computed(    function(){\\n        return this.formatted_vals()[parseInt(this.index())-(1)];\\n    }\\n,this)]\\n        [this[\\\"changes\\\"].subscribe((function (val){!(this.valueFromJulia[\\\"changes\\\"]) ? (WebIO.setval({\\\"name\\\":\\\"changes\\\",\\\"scope\\\":\\\"2248586910575621627\\\",\\\"id\\\":\\\"10324408408380471348\\\",\\\"type\\\":\\\"observable\\\"},val)) : undefined; return this.valueFromJulia[\\\"changes\\\"]=false}),self),this[\\\"index\\\"].subscribe((function (val){!(this.valueFromJulia[\\\"index\\\"]) ? (WebIO.setval({\\\"name\\\":\\\"index\\\",\\\"scope\\\":\\\"2248586910575621627\\\",\\\"id\\\":\\\"15328897977523241246\\\",\\\"type\\\":\\\"observable\\\"},val)) : undefined; return this.valueFromJulia[\\\"index\\\"]=false}),self)]\\n        \\n    }\\n    self.model = new AppViewModel();\\n    self.valueFromJulia = {};\\n    for (var key in json_data) {\\n        self.valueFromJulia[key] = false;\\n    }\\n    ko.applyBindings(self.model, self.dom);\\n}\\n);\\n    (WebIO.importBlock({\\\"data\\\":[{\\\"name\\\":\\\"knockout\\\",\\\"type\\\":\\\"js\\\",\\\"url\\\":\\\"\\/assetserver\\/727383f2a47bd31570b7da84eee7b022dd6d7c78-knockout.js\\\"},{\\\"name\\\":\\\"knockout_punches\\\",\\\"type\\\":\\\"js\\\",\\\"url\\\":\\\"\\/assetserver\\/382b41b3b1bd9f26f75861d360bad7f8beea211f-knockout_punches.js\\\"}],\\\"type\\\":\\\"async_block\\\"})).then((imports) => handler.apply(this, imports));\\n}\\n\"],\"observables\":{\"changes\":{\"sync\":false,\"id\":\"10324408408380471348\",\"value\":0},\"index\":{\"sync\":true,\"id\":\"15328897977523241246\",\"value\":10}}},\"children\":[{\"props\":{\"className\":\"interact-flex-row interact-widget\"},\"nodeType\":\"DOM\",\"type\":\"node\",\"instanceArgs\":{\"namespace\":\"html\",\"tag\":\"div\"},\"children\":[{\"props\":{\"className\":\"interact-flex-row-left\"},\"nodeType\":\"DOM\",\"type\":\"node\",\"instanceArgs\":{\"namespace\":\"html\",\"tag\":\"div\"},\"children\":[{\"props\":{\"className\":\"interact \",\"style\":{\"padding\":\"5px 10px 0px 10px\"}},\"nodeType\":\"DOM\",\"type\":\"node\",\"instanceArgs\":{\"namespace\":\"html\",\"tag\":\"label\"},\"children\":[\"scale\"]}]},{\"props\":{\"className\":\"interact-flex-row-center\"},\"nodeType\":\"DOM\",\"type\":\"node\",\"instanceArgs\":{\"namespace\":\"html\",\"tag\":\"div\"},\"children\":[{\"props\":{\"max\":20,\"min\":1,\"attributes\":{\"type\":\"range\",\"data-bind\":\"numericValue: index, valueUpdate: 'input', event: {change: function (){this.changes(this.changes()+1)}}\",\"orient\":\"horizontal\"},\"step\":1,\"className\":\"slider slider is-fullwidth\",\"style\":{}},\"nodeType\":\"DOM\",\"type\":\"node\",\"instanceArgs\":{\"namespace\":\"html\",\"tag\":\"input\"},\"children\":[]}]},{\"props\":{\"className\":\"interact-flex-row-right\"},\"nodeType\":\"DOM\",\"type\":\"node\",\"instanceArgs\":{\"namespace\":\"html\",\"tag\":\"div\"},\"children\":[{\"props\":{\"attributes\":{\"data-bind\":\"text: formatted_val\"}},\"nodeType\":\"DOM\",\"type\":\"node\",\"instanceArgs\":{\"namespace\":\"html\",\"tag\":\"p\"},\"children\":[]}]}]}]}]},{\"props\":{\"style\":{\"display\":\"flex\",\"flex-direction\":\"column\"}},\"nodeType\":\"DOM\",\"type\":\"node\",\"instanceArgs\":{\"namespace\":\"html\",\"tag\":\"div\"},\"children\":[]},{\"props\":{\"style\":{\"display\":\"flex\",\"flex-direction\":\"column\"}},\"nodeType\":\"DOM\",\"type\":\"node\",\"instanceArgs\":{\"namespace\":\"html\",\"tag\":\"div\"},\"children\":[{\"props\":{\"className\":\"field interact-widget\"},\"nodeType\":\"DOM\",\"type\":\"node\",\"instanceArgs\":{\"namespace\":\"html\",\"tag\":\"div\"},\"children\":[{\"props\":{},\"nodeType\":\"Scope\",\"type\":\"node\",\"instanceArgs\":{\"imports\":{\"data\":[{\"name\":\"knockout\",\"type\":\"js\",\"url\":\"\\/assetserver\\/727383f2a47bd31570b7da84eee7b022dd6d7c78-knockout.js\"},{\"name\":\"knockout_punches\",\"type\":\"js\",\"url\":\"\\/assetserver\\/382b41b3b1bd9f26f75861d360bad7f8beea211f-knockout_punches.js\"},{\"name\":null,\"type\":\"js\",\"url\":\"\\/assetserver\\/5ab20f1060420992a9b82a65b735dee4d81ef413-all.js\"},{\"name\":null,\"type\":\"css\",\"url\":\"\\/assetserver\\/1cc0ed62837210b80a182cc3676512f895dab686-style.css\"},{\"name\":null,\"type\":\"css\",\"url\":\"\\/assetserver\\/2eee816f616df3549d7044d45e744fbf8d42bfa1-bulma_confined.min.css\"}],\"type\":\"async_block\"},\"id\":\"60431291352799681\",\"handlers\":{\"changes\":[\"(function (val){return (val!=this.model[\\\"changes\\\"]()) ? (this.valueFromJulia[\\\"changes\\\"]=true, this.model[\\\"changes\\\"](val)) : undefined})\"],\"index\":[\"(function (val){return (val!=this.model[\\\"index\\\"]()) ? (this.valueFromJulia[\\\"index\\\"]=true, this.model[\\\"index\\\"](val)) : undefined})\"]},\"systemjs_options\":null,\"mount_callbacks\":[\"function () {\\n    var handler = (function (ko, koPunches) {\\n    ko.punches.enableAll();\\n    ko.bindingHandlers.numericValue = {\\n        init: function(element, valueAccessor, allBindings, data, context) {\\n            var stringified = ko.observable(ko.unwrap(valueAccessor()));\\n            stringified.subscribe(function(value) {\\n                var val = parseFloat(value);\\n                if (!isNaN(val)) {\\n                    valueAccessor()(val);\\n                }\\n            });\\n            valueAccessor().subscribe(function(value) {\\n                var str = JSON.stringify(value);\\n                if ((str == \\\"0\\\") && ([\\\"-0\\\", \\\"-0.\\\"].indexOf(stringified()) >= 0))\\n                     return;\\n                 if ([\\\"null\\\", \\\"\\\"].indexOf(str) >= 0)\\n                     return;\\n                stringified(str);\\n            });\\n            ko.applyBindingsToNode(\\n                element,\\n                {\\n                    value: stringified,\\n                    valueUpdate: allBindings.get('valueUpdate'),\\n                },\\n                context,\\n            );\\n        }\\n    };\\n    var json_data = {\\\"formatted_vals\\\":[\\\"1\\\",\\\"2\\\",\\\"3\\\",\\\"4\\\",\\\"5\\\",\\\"6\\\",\\\"7\\\",\\\"8\\\",\\\"9\\\",\\\"10\\\",\\\"11\\\",\\\"12\\\"],\\\"changes\\\":WebIO.getval({\\\"name\\\":\\\"changes\\\",\\\"scope\\\":\\\"60431291352799681\\\",\\\"id\\\":\\\"2769323857593717228\\\",\\\"type\\\":\\\"observable\\\"}),\\\"index\\\":WebIO.getval({\\\"name\\\":\\\"index\\\",\\\"scope\\\":\\\"60431291352799681\\\",\\\"id\\\":\\\"12183528605827942004\\\",\\\"type\\\":\\\"observable\\\"})};\\n    var self = this;\\n    function AppViewModel() {\\n        for (var key in json_data) {\\n            var el = json_data[key];\\n            this[key] = Array.isArray(el) ? ko.observableArray(el) : ko.observable(el);\\n        }\\n        \\n        [this[\\\"formatted_val\\\"]=ko.computed(    function(){\\n        return this.formatted_vals()[parseInt(this.index())-(1)];\\n    }\\n,this)]\\n        [this[\\\"changes\\\"].subscribe((function (val){!(this.valueFromJulia[\\\"changes\\\"]) ? (WebIO.setval({\\\"name\\\":\\\"changes\\\",\\\"scope\\\":\\\"60431291352799681\\\",\\\"id\\\":\\\"2769323857593717228\\\",\\\"type\\\":\\\"observable\\\"},val)) : undefined; return this.valueFromJulia[\\\"changes\\\"]=false}),self),this[\\\"index\\\"].subscribe((function (val){!(this.valueFromJulia[\\\"index\\\"]) ? (WebIO.setval({\\\"name\\\":\\\"index\\\",\\\"scope\\\":\\\"60431291352799681\\\",\\\"id\\\":\\\"12183528605827942004\\\",\\\"type\\\":\\\"observable\\\"},val)) : undefined; return this.valueFromJulia[\\\"index\\\"]=false}),self)]\\n        \\n    }\\n    self.model = new AppViewModel();\\n    self.valueFromJulia = {};\\n    for (var key in json_data) {\\n        self.valueFromJulia[key] = false;\\n    }\\n    ko.applyBindings(self.model, self.dom);\\n}\\n);\\n    (WebIO.importBlock({\\\"data\\\":[{\\\"name\\\":\\\"knockout\\\",\\\"type\\\":\\\"js\\\",\\\"url\\\":\\\"\\/assetserver\\/727383f2a47bd31570b7da84eee7b022dd6d7c78-knockout.js\\\"},{\\\"name\\\":\\\"knockout_punches\\\",\\\"type\\\":\\\"js\\\",\\\"url\\\":\\\"\\/assetserver\\/382b41b3b1bd9f26f75861d360bad7f8beea211f-knockout_punches.js\\\"}],\\\"type\\\":\\\"async_block\\\"})).then((imports) => handler.apply(this, imports));\\n}\\n\"],\"observables\":{\"changes\":{\"sync\":false,\"id\":\"2769323857593717228\",\"value\":0},\"index\":{\"sync\":true,\"id\":\"12183528605827942004\",\"value\":6}}},\"children\":[{\"props\":{\"className\":\"interact-flex-row interact-widget\"},\"nodeType\":\"DOM\",\"type\":\"node\",\"instanceArgs\":{\"namespace\":\"html\",\"tag\":\"div\"},\"children\":[{\"props\":{\"className\":\"interact-flex-row-left\"},\"nodeType\":\"DOM\",\"type\":\"node\",\"instanceArgs\":{\"namespace\":\"html\",\"tag\":\"div\"},\"children\":[{\"props\":{\"className\":\"interact \",\"style\":{\"padding\":\"5px 10px 0px 10px\"}},\"nodeType\":\"DOM\",\"type\":\"node\",\"instanceArgs\":{\"namespace\":\"html\",\"tag\":\"label\"},\"children\":[\"min_alike\"]}]},{\"props\":{\"className\":\"interact-flex-row-center\"},\"nodeType\":\"DOM\",\"type\":\"node\",\"instanceArgs\":{\"namespace\":\"html\",\"tag\":\"div\"},\"children\":[{\"props\":{\"max\":12,\"min\":1,\"attributes\":{\"type\":\"range\",\"data-bind\":\"numericValue: index, valueUpdate: 'input', event: {change: function (){this.changes(this.changes()+1)}}\",\"orient\":\"horizontal\"},\"step\":1,\"className\":\"slider slider is-fullwidth\",\"style\":{}},\"nodeType\":\"DOM\",\"type\":\"node\",\"instanceArgs\":{\"namespace\":\"html\",\"tag\":\"input\"},\"children\":[]}]},{\"props\":{\"className\":\"interact-flex-row-right\"},\"nodeType\":\"DOM\",\"type\":\"node\",\"instanceArgs\":{\"namespace\":\"html\",\"tag\":\"div\"},\"children\":[{\"props\":{\"attributes\":{\"data-bind\":\"text: formatted_val\"}},\"nodeType\":\"DOM\",\"type\":\"node\",\"instanceArgs\":{\"namespace\":\"html\",\"tag\":\"p\"},\"children\":[]}]}]}]}]}]},{\"props\":{\"style\":{\"display\":\"flex\",\"flex-direction\":\"row\"}},\"nodeType\":\"DOM\",\"type\":\"node\",\"instanceArgs\":{\"namespace\":\"html\",\"tag\":\"div\"},\"children\":[{\"props\":{\"className\":\"interact-widget\"},\"nodeType\":\"DOM\",\"type\":\"node\",\"instanceArgs\":{\"namespace\":\"html\",\"tag\":\"div\"},\"children\":[{\"props\":{},\"nodeType\":\"Scope\",\"type\":\"node\",\"instanceArgs\":{\"imports\":{\"data\":[{\"name\":null,\"type\":\"js\",\"url\":\"\\/assetserver\\/dd22ed1bf1896c2748f3fe616ce0b838adc895c1-katex.min.js\"},{\"name\":null,\"type\":\"css\",\"url\":\"\\/assetserver\\/46517a424aa5e6cffc1360d7e0848b601c584ee3-katex.min.css\"}],\"type\":\"async_block\"},\"id\":\"3315668971664882649\",\"handlers\":{\"value\":[\"(function (txt){return this.k.render(txt,this.container)})\"]},\"systemjs_options\":null,\"mount_callbacks\":[\"function () {\\n    var handler = ((function (k){this.k=k; this.container=this.dom.querySelector(\\\"#container\\\"); return k.render(\\\"\\\\\\\\;\\\\\\\\;\\\",this.container)}));\\n    (WebIO.importBlock({\\\"data\\\":[{\\\"name\\\":null,\\\"type\\\":\\\"js\\\",\\\"url\\\":\\\"\\/assetserver\\/dd22ed1bf1896c2748f3fe616ce0b838adc895c1-katex.min.js\\\"},{\\\"name\\\":null,\\\"type\\\":\\\"css\\\",\\\"url\\\":\\\"\\/assetserver\\/46517a424aa5e6cffc1360d7e0848b601c584ee3-katex.min.css\\\"}],\\\"type\\\":\\\"async_block\\\"})).then((imports) => handler.apply(this, imports));\\n}\\n\"],\"observables\":{\"value\":{\"sync\":false,\"id\":\"5633736052952889304\",\"value\":\"\\\\;\\\\;\"}}},\"children\":[{\"props\":{\"id\":\"container\"},\"nodeType\":\"DOM\",\"type\":\"node\",\"instanceArgs\":{\"namespace\":\"html\",\"tag\":\"div\"},\"children\":[]}]}]},{\"props\":{\"className\":\"field interact-widget\"},\"nodeType\":\"DOM\",\"type\":\"node\",\"instanceArgs\":{\"namespace\":\"html\",\"tag\":\"div\"},\"children\":[{\"props\":{},\"nodeType\":\"Scope\",\"type\":\"node\",\"instanceArgs\":{\"imports\":{\"data\":[{\"name\":\"knockout\",\"type\":\"js\",\"url\":\"\\/assetserver\\/727383f2a47bd31570b7da84eee7b022dd6d7c78-knockout.js\"},{\"name\":\"knockout_punches\",\"type\":\"js\",\"url\":\"\\/assetserver\\/382b41b3b1bd9f26f75861d360bad7f8beea211f-knockout_punches.js\"},{\"name\":null,\"type\":\"js\",\"url\":\"\\/assetserver\\/5ab20f1060420992a9b82a65b735dee4d81ef413-all.js\"},{\"name\":null,\"type\":\"css\",\"url\":\"\\/assetserver\\/1cc0ed62837210b80a182cc3676512f895dab686-style.css\"},{\"name\":null,\"type\":\"css\",\"url\":\"\\/assetserver\\/2eee816f616df3549d7044d45e744fbf8d42bfa1-bulma_confined.min.css\"}],\"type\":\"async_block\"},\"id\":\"9109289950667264735\",\"handlers\":{\"loading\":[\"(function (val){return (val!=this.model[\\\"loading\\\"]()) ? (this.valueFromJulia[\\\"loading\\\"]=true, this.model[\\\"loading\\\"](val)) : undefined})\"],\"clicks\":[\"(function (val){return (val!=this.model[\\\"clicks\\\"]()) ? (this.valueFromJulia[\\\"clicks\\\"]=true, this.model[\\\"clicks\\\"](val)) : undefined})\"]},\"systemjs_options\":null,\"mount_callbacks\":[\"function () {\\n    var handler = (function (ko, koPunches) {\\n    ko.punches.enableAll();\\n    ko.bindingHandlers.numericValue = {\\n        init: function(element, valueAccessor, allBindings, data, context) {\\n            var stringified = ko.observable(ko.unwrap(valueAccessor()));\\n            stringified.subscribe(function(value) {\\n                var val = parseFloat(value);\\n                if (!isNaN(val)) {\\n                    valueAccessor()(val);\\n                }\\n            });\\n            valueAccessor().subscribe(function(value) {\\n                var str = JSON.stringify(value);\\n                if ((str == \\\"0\\\") && ([\\\"-0\\\", \\\"-0.\\\"].indexOf(stringified()) >= 0))\\n                     return;\\n                 if ([\\\"null\\\", \\\"\\\"].indexOf(str) >= 0)\\n                     return;\\n                stringified(str);\\n            });\\n            ko.applyBindingsToNode(\\n                element,\\n                {\\n                    value: stringified,\\n                    valueUpdate: allBindings.get('valueUpdate'),\\n                },\\n                context,\\n            );\\n        }\\n    };\\n    var json_data = {\\\"loading\\\":WebIO.getval({\\\"name\\\":\\\"loading\\\",\\\"scope\\\":\\\"9109289950667264735\\\",\\\"id\\\":\\\"15077338480789473099\\\",\\\"type\\\":\\\"observable\\\"}),\\\"clicks\\\":WebIO.getval({\\\"name\\\":\\\"clicks\\\",\\\"scope\\\":\\\"9109289950667264735\\\",\\\"id\\\":\\\"18147391033279160406\\\",\\\"type\\\":\\\"observable\\\"})};\\n    var self = this;\\n    function AppViewModel() {\\n        for (var key in json_data) {\\n            var el = json_data[key];\\n            this[key] = Array.isArray(el) ? ko.observableArray(el) : ko.observable(el);\\n        }\\n        \\n        \\n        [this[\\\"loading\\\"].subscribe((function (val){!(this.valueFromJulia[\\\"loading\\\"]) ? (WebIO.setval({\\\"name\\\":\\\"loading\\\",\\\"scope\\\":\\\"9109289950667264735\\\",\\\"id\\\":\\\"15077338480789473099\\\",\\\"type\\\":\\\"observable\\\"},val)) : undefined; return this.valueFromJulia[\\\"loading\\\"]=false}),self),this[\\\"clicks\\\"].subscribe((function (val){!(this.valueFromJulia[\\\"clicks\\\"]) ? (WebIO.setval({\\\"name\\\":\\\"clicks\\\",\\\"scope\\\":\\\"9109289950667264735\\\",\\\"id\\\":\\\"18147391033279160406\\\",\\\"type\\\":\\\"observable\\\"},val)) : undefined; return this.valueFromJulia[\\\"clicks\\\"]=false}),self)]\\n        \\n    }\\n    self.model = new AppViewModel();\\n    self.valueFromJulia = {};\\n    for (var key in json_data) {\\n        self.valueFromJulia[key] = false;\\n    }\\n    ko.applyBindings(self.model, self.dom);\\n}\\n);\\n    (WebIO.importBlock({\\\"data\\\":[{\\\"name\\\":\\\"knockout\\\",\\\"type\\\":\\\"js\\\",\\\"url\\\":\\\"\\/assetserver\\/727383f2a47bd31570b7da84eee7b022dd6d7c78-knockout.js\\\"},{\\\"name\\\":\\\"knockout_punches\\\",\\\"type\\\":\\\"js\\\",\\\"url\\\":\\\"\\/assetserver\\/382b41b3b1bd9f26f75861d360bad7f8beea211f-knockout_punches.js\\\"}],\\\"type\\\":\\\"async_block\\\"})).then((imports) => handler.apply(this, imports));\\n}\\n\"],\"observables\":{\"loading\":{\"sync\":false,\"id\":\"15077338480789473099\",\"value\":false},\"clicks\":{\"sync\":true,\"id\":\"18147391033279160406\",\"value\":0}}},\"children\":[{\"props\":{\"attributes\":{\"data-bind\":\"click: function (){this.clicks(this.clicks()+1)}, css: {'is-loading' : loading}\"},\"className\":\"is-medium button is-primary\",\"style\":{}},\"nodeType\":\"DOM\",\"type\":\"node\",\"instanceArgs\":{\"namespace\":\"html\",\"tag\":\"button\"},\"children\":[\"run\"]}]}]},{\"props\":{\"className\":\"interact-widget\"},\"nodeType\":\"DOM\",\"type\":\"node\",\"instanceArgs\":{\"namespace\":\"html\",\"tag\":\"div\"},\"children\":[{\"props\":{},\"nodeType\":\"Scope\",\"type\":\"node\",\"instanceArgs\":{\"imports\":{\"data\":[{\"name\":null,\"type\":\"js\",\"url\":\"\\/assetserver\\/dd22ed1bf1896c2748f3fe616ce0b838adc895c1-katex.min.js\"},{\"name\":null,\"type\":\"css\",\"url\":\"\\/assetserver\\/46517a424aa5e6cffc1360d7e0848b601c584ee3-katex.min.css\"}],\"type\":\"async_block\"},\"id\":\"3315668971664882649\",\"handlers\":{\"value\":[\"(function (txt){return this.k.render(txt,this.container)})\"]},\"systemjs_options\":null,\"mount_callbacks\":[\"function () {\\n    var handler = ((function (k){this.k=k; this.container=this.dom.querySelector(\\\"#container\\\"); return k.render(\\\"\\\\\\\\;\\\\\\\\;\\\",this.container)}));\\n    (WebIO.importBlock({\\\"data\\\":[{\\\"name\\\":null,\\\"type\\\":\\\"js\\\",\\\"url\\\":\\\"\\/assetserver\\/dd22ed1bf1896c2748f3fe616ce0b838adc895c1-katex.min.js\\\"},{\\\"name\\\":null,\\\"type\\\":\\\"css\\\",\\\"url\\\":\\\"\\/assetserver\\/46517a424aa5e6cffc1360d7e0848b601c584ee3-katex.min.css\\\"}],\\\"type\\\":\\\"async_block\\\"})).then((imports) => handler.apply(this, imports));\\n}\\n\"],\"observables\":{\"value\":{\"sync\":false,\"id\":\"5633736052952889304\",\"value\":\"\\\\;\\\\;\"}}},\"children\":[{\"props\":{\"id\":\"container\"},\"nodeType\":\"DOM\",\"type\":\"node\",\"instanceArgs\":{\"namespace\":\"html\",\"tag\":\"div\"},\"children\":[]}]}]},{\"props\":{\"className\":\"field interact-widget\"},\"nodeType\":\"DOM\",\"type\":\"node\",\"instanceArgs\":{\"namespace\":\"html\",\"tag\":\"div\"},\"children\":[{\"props\":{},\"nodeType\":\"Scope\",\"type\":\"node\",\"instanceArgs\":{\"imports\":{\"data\":[{\"name\":\"knockout\",\"type\":\"js\",\"url\":\"\\/assetserver\\/727383f2a47bd31570b7da84eee7b022dd6d7c78-knockout.js\"},{\"name\":\"knockout_punches\",\"type\":\"js\",\"url\":\"\\/assetserver\\/382b41b3b1bd9f26f75861d360bad7f8beea211f-knockout_punches.js\"},{\"name\":null,\"type\":\"js\",\"url\":\"\\/assetserver\\/5ab20f1060420992a9b82a65b735dee4d81ef413-all.js\"},{\"name\":null,\"type\":\"css\",\"url\":\"\\/assetserver\\/1cc0ed62837210b80a182cc3676512f895dab686-style.css\"},{\"name\":null,\"type\":\"css\",\"url\":\"\\/assetserver\\/2eee816f616df3549d7044d45e744fbf8d42bfa1-bulma_confined.min.css\"}],\"type\":\"async_block\"},\"id\":\"6211480728796692627\",\"handlers\":{\"loading\":[\"(function (val){return (val!=this.model[\\\"loading\\\"]()) ? (this.valueFromJulia[\\\"loading\\\"]=true, this.model[\\\"loading\\\"](val)) : undefined})\"],\"clicks\":[\"(function (val){return (val!=this.model[\\\"clicks\\\"]()) ? (this.valueFromJulia[\\\"clicks\\\"]=true, this.model[\\\"clicks\\\"](val)) : undefined})\"]},\"systemjs_options\":null,\"mount_callbacks\":[\"function () {\\n    var handler = (function (ko, koPunches) {\\n    ko.punches.enableAll();\\n    ko.bindingHandlers.numericValue = {\\n        init: function(element, valueAccessor, allBindings, data, context) {\\n            var stringified = ko.observable(ko.unwrap(valueAccessor()));\\n            stringified.subscribe(function(value) {\\n                var val = parseFloat(value);\\n                if (!isNaN(val)) {\\n                    valueAccessor()(val);\\n                }\\n            });\\n            valueAccessor().subscribe(function(value) {\\n                var str = JSON.stringify(value);\\n                if ((str == \\\"0\\\") && ([\\\"-0\\\", \\\"-0.\\\"].indexOf(stringified()) >= 0))\\n                     return;\\n                 if ([\\\"null\\\", \\\"\\\"].indexOf(str) >= 0)\\n                     return;\\n                stringified(str);\\n            });\\n            ko.applyBindingsToNode(\\n                element,\\n                {\\n                    value: stringified,\\n                    valueUpdate: allBindings.get('valueUpdate'),\\n                },\\n                context,\\n            );\\n        }\\n    };\\n    var json_data = {\\\"loading\\\":WebIO.getval({\\\"name\\\":\\\"loading\\\",\\\"scope\\\":\\\"6211480728796692627\\\",\\\"id\\\":\\\"17163120745549206413\\\",\\\"type\\\":\\\"observable\\\"}),\\\"clicks\\\":WebIO.getval({\\\"name\\\":\\\"clicks\\\",\\\"scope\\\":\\\"6211480728796692627\\\",\\\"id\\\":\\\"17735863115208585602\\\",\\\"type\\\":\\\"observable\\\"})};\\n    var self = this;\\n    function AppViewModel() {\\n        for (var key in json_data) {\\n            var el = json_data[key];\\n            this[key] = Array.isArray(el) ? ko.observableArray(el) : ko.observable(el);\\n        }\\n        \\n        \\n        [this[\\\"loading\\\"].subscribe((function (val){!(this.valueFromJulia[\\\"loading\\\"]) ? (WebIO.setval({\\\"name\\\":\\\"loading\\\",\\\"scope\\\":\\\"6211480728796692627\\\",\\\"id\\\":\\\"17163120745549206413\\\",\\\"type\\\":\\\"observable\\\"},val)) : undefined; return this.valueFromJulia[\\\"loading\\\"]=false}),self),this[\\\"clicks\\\"].subscribe((function (val){!(this.valueFromJulia[\\\"clicks\\\"]) ? (WebIO.setval({\\\"name\\\":\\\"clicks\\\",\\\"scope\\\":\\\"6211480728796692627\\\",\\\"id\\\":\\\"17735863115208585602\\\",\\\"type\\\":\\\"observable\\\"},val)) : undefined; return this.valueFromJulia[\\\"clicks\\\"]=false}),self)]\\n        \\n    }\\n    self.model = new AppViewModel();\\n    self.valueFromJulia = {};\\n    for (var key in json_data) {\\n        self.valueFromJulia[key] = false;\\n    }\\n    ko.applyBindings(self.model, self.dom);\\n}\\n);\\n    (WebIO.importBlock({\\\"data\\\":[{\\\"name\\\":\\\"knockout\\\",\\\"type\\\":\\\"js\\\",\\\"url\\\":\\\"\\/assetserver\\/727383f2a47bd31570b7da84eee7b022dd6d7c78-knockout.js\\\"},{\\\"name\\\":\\\"knockout_punches\\\",\\\"type\\\":\\\"js\\\",\\\"url\\\":\\\"\\/assetserver\\/382b41b3b1bd9f26f75861d360bad7f8beea211f-knockout_punches.js\\\"}],\\\"type\\\":\\\"async_block\\\"})).then((imports) => handler.apply(this, imports));\\n}\\n\"],\"observables\":{\"loading\":{\"sync\":false,\"id\":\"17163120745549206413\",\"value\":false},\"clicks\":{\"sync\":true,\"id\":\"17735863115208585602\",\"value\":0}}},\"children\":[{\"props\":{\"attributes\":{\"data-bind\":\"click: function (){this.clicks(this.clicks()+1)}, css: {'is-loading' : loading}\"},\"className\":\"is-medium button is-primary\",\"style\":{}},\"nodeType\":\"DOM\",\"type\":\"node\",\"instanceArgs\":{\"namespace\":\"html\",\"tag\":\"button\"},\"children\":[\"stop\"]}]}]},{\"props\":{\"className\":\"interact-widget\"},\"nodeType\":\"DOM\",\"type\":\"node\",\"instanceArgs\":{\"namespace\":\"html\",\"tag\":\"div\"},\"children\":[{\"props\":{},\"nodeType\":\"Scope\",\"type\":\"node\",\"instanceArgs\":{\"imports\":{\"data\":[{\"name\":null,\"type\":\"js\",\"url\":\"\\/assetserver\\/dd22ed1bf1896c2748f3fe616ce0b838adc895c1-katex.min.js\"},{\"name\":null,\"type\":\"css\",\"url\":\"\\/assetserver\\/46517a424aa5e6cffc1360d7e0848b601c584ee3-katex.min.css\"}],\"type\":\"async_block\"},\"id\":\"3315668971664882649\",\"handlers\":{\"value\":[\"(function (txt){return this.k.render(txt,this.container)})\"]},\"systemjs_options\":null,\"mount_callbacks\":[\"function () {\\n    var handler = ((function (k){this.k=k; this.container=this.dom.querySelector(\\\"#container\\\"); return k.render(\\\"\\\\\\\\;\\\\\\\\;\\\",this.container)}));\\n    (WebIO.importBlock({\\\"data\\\":[{\\\"name\\\":null,\\\"type\\\":\\\"js\\\",\\\"url\\\":\\\"\\/assetserver\\/dd22ed1bf1896c2748f3fe616ce0b838adc895c1-katex.min.js\\\"},{\\\"name\\\":null,\\\"type\\\":\\\"css\\\",\\\"url\\\":\\\"\\/assetserver\\/46517a424aa5e6cffc1360d7e0848b601c584ee3-katex.min.css\\\"}],\\\"type\\\":\\\"async_block\\\"})).then((imports) => handler.apply(this, imports));\\n}\\n\"],\"observables\":{\"value\":{\"sync\":false,\"id\":\"5633736052952889304\",\"value\":\"\\\\;\\\\;\"}}},\"children\":[{\"props\":{\"id\":\"container\"},\"nodeType\":\"DOM\",\"type\":\"node\",\"instanceArgs\":{\"namespace\":\"html\",\"tag\":\"div\"},\"children\":[]}]}]},{\"props\":{\"className\":\"field interact-widget\"},\"nodeType\":\"DOM\",\"type\":\"node\",\"instanceArgs\":{\"namespace\":\"html\",\"tag\":\"div\"},\"children\":[{\"props\":{},\"nodeType\":\"Scope\",\"type\":\"node\",\"instanceArgs\":{\"imports\":{\"data\":[{\"name\":\"knockout\",\"type\":\"js\",\"url\":\"\\/assetserver\\/727383f2a47bd31570b7da84eee7b022dd6d7c78-knockout.js\"},{\"name\":\"knockout_punches\",\"type\":\"js\",\"url\":\"\\/assetserver\\/382b41b3b1bd9f26f75861d360bad7f8beea211f-knockout_punches.js\"},{\"name\":null,\"type\":\"js\",\"url\":\"\\/assetserver\\/5ab20f1060420992a9b82a65b735dee4d81ef413-all.js\"},{\"name\":null,\"type\":\"css\",\"url\":\"\\/assetserver\\/1cc0ed62837210b80a182cc3676512f895dab686-style.css\"},{\"name\":null,\"type\":\"css\",\"url\":\"\\/assetserver\\/2eee816f616df3549d7044d45e744fbf8d42bfa1-bulma_confined.min.css\"}],\"type\":\"async_block\"},\"id\":\"7309696116626796514\",\"handlers\":{\"loading\":[\"(function (val){return (val!=this.model[\\\"loading\\\"]()) ? (this.valueFromJulia[\\\"loading\\\"]=true, this.model[\\\"loading\\\"](val)) : undefined})\"],\"clicks\":[\"(function (val){return (val!=this.model[\\\"clicks\\\"]()) ? (this.valueFromJulia[\\\"clicks\\\"]=true, this.model[\\\"clicks\\\"](val)) : undefined})\"]},\"systemjs_options\":null,\"mount_callbacks\":[\"function () {\\n    var handler = (function (ko, koPunches) {\\n    ko.punches.enableAll();\\n    ko.bindingHandlers.numericValue = {\\n        init: function(element, valueAccessor, allBindings, data, context) {\\n            var stringified = ko.observable(ko.unwrap(valueAccessor()));\\n            stringified.subscribe(function(value) {\\n                var val = parseFloat(value);\\n                if (!isNaN(val)) {\\n                    valueAccessor()(val);\\n                }\\n            });\\n            valueAccessor().subscribe(function(value) {\\n                var str = JSON.stringify(value);\\n                if ((str == \\\"0\\\") && ([\\\"-0\\\", \\\"-0.\\\"].indexOf(stringified()) >= 0))\\n                     return;\\n                 if ([\\\"null\\\", \\\"\\\"].indexOf(str) >= 0)\\n                     return;\\n                stringified(str);\\n            });\\n            ko.applyBindingsToNode(\\n                element,\\n                {\\n                    value: stringified,\\n                    valueUpdate: allBindings.get('valueUpdate'),\\n                },\\n                context,\\n            );\\n        }\\n    };\\n    var json_data = {\\\"loading\\\":WebIO.getval({\\\"name\\\":\\\"loading\\\",\\\"scope\\\":\\\"7309696116626796514\\\",\\\"id\\\":\\\"14414698809953710861\\\",\\\"type\\\":\\\"observable\\\"}),\\\"clicks\\\":WebIO.getval({\\\"name\\\":\\\"clicks\\\",\\\"scope\\\":\\\"7309696116626796514\\\",\\\"id\\\":\\\"14984995724013877632\\\",\\\"type\\\":\\\"observable\\\"})};\\n    var self = this;\\n    function AppViewModel() {\\n        for (var key in json_data) {\\n            var el = json_data[key];\\n            this[key] = Array.isArray(el) ? ko.observableArray(el) : ko.observable(el);\\n        }\\n        \\n        \\n        [this[\\\"loading\\\"].subscribe((function (val){!(this.valueFromJulia[\\\"loading\\\"]) ? (WebIO.setval({\\\"name\\\":\\\"loading\\\",\\\"scope\\\":\\\"7309696116626796514\\\",\\\"id\\\":\\\"14414698809953710861\\\",\\\"type\\\":\\\"observable\\\"},val)) : undefined; return this.valueFromJulia[\\\"loading\\\"]=false}),self),this[\\\"clicks\\\"].subscribe((function (val){!(this.valueFromJulia[\\\"clicks\\\"]) ? (WebIO.setval({\\\"name\\\":\\\"clicks\\\",\\\"scope\\\":\\\"7309696116626796514\\\",\\\"id\\\":\\\"14984995724013877632\\\",\\\"type\\\":\\\"observable\\\"},val)) : undefined; return this.valueFromJulia[\\\"clicks\\\"]=false}),self)]\\n        \\n    }\\n    self.model = new AppViewModel();\\n    self.valueFromJulia = {};\\n    for (var key in json_data) {\\n        self.valueFromJulia[key] = false;\\n    }\\n    ko.applyBindings(self.model, self.dom);\\n}\\n);\\n    (WebIO.importBlock({\\\"data\\\":[{\\\"name\\\":\\\"knockout\\\",\\\"type\\\":\\\"js\\\",\\\"url\\\":\\\"\\/assetserver\\/727383f2a47bd31570b7da84eee7b022dd6d7c78-knockout.js\\\"},{\\\"name\\\":\\\"knockout_punches\\\",\\\"type\\\":\\\"js\\\",\\\"url\\\":\\\"\\/assetserver\\/382b41b3b1bd9f26f75861d360bad7f8beea211f-knockout_punches.js\\\"}],\\\"type\\\":\\\"async_block\\\"})).then((imports) => handler.apply(this, imports));\\n}\\n\"],\"observables\":{\"loading\":{\"sync\":false,\"id\":\"14414698809953710861\",\"value\":false},\"clicks\":{\"sync\":true,\"id\":\"14984995724013877632\",\"value\":0}}},\"children\":[{\"props\":{\"attributes\":{\"data-bind\":\"click: function (){this.clicks(this.clicks()+1)}, css: {'is-loading' : loading}\"},\"className\":\"is-medium button is-primary\",\"style\":{}},\"nodeType\":\"DOM\",\"type\":\"node\",\"instanceArgs\":{\"namespace\":\"html\",\"tag\":\"button\"},\"children\":[\"reset\"]}]}]}]}]},{\"props\":{},\"nodeType\":\"Scope\",\"type\":\"node\",\"instanceArgs\":{\"imports\":{\"data\":[],\"type\":\"async_block\"},\"id\":\"938040068425981538\",\"handlers\":{\"obs-output\":[\"function (value, scope) {\\n    scope.setInnerHTML(value);\\n}\\n\"]},\"systemjs_options\":null,\"mount_callbacks\":[],\"observables\":{\"obs-output\":{\"sync\":false,\"id\":\"9469659966890369343\",\"value\":\"    <div style=\\\"height: 500px; width: 100%; overflow-x: auto; overflow-y: hidden; resize: both\\\">\\n    <iframe src=\\\"http:\\/\\/127.0.0.1:8702\\\" style=\\\"width: 100%; height: 100%; border: none\\\"><\\/iframe>\\n    <\\/div>\\n\"}}},\"children\":[{\"props\":{\"className\":\"webio-observable\",\"setInnerHtml\":\"    <div style=\\\"height: 500px; width: 100%; overflow-x: auto; overflow-y: hidden; resize: both\\\">\\n    <iframe src=\\\"http:\\/\\/127.0.0.1:8702\\\" style=\\\"width: 100%; height: 100%; border: none\\\"><\\/iframe>\\n    <\\/div>\\n\"},\"nodeType\":\"DOM\",\"type\":\"node\",\"instanceArgs\":{\"namespace\":\"html\",\"tag\":\"div\"},\"children\":[]}]},{\"props\":{\"className\":\"interact-widget\"},\"nodeType\":\"DOM\",\"type\":\"node\",\"instanceArgs\":{\"namespace\":\"html\",\"tag\":\"div\"},\"children\":[{\"props\":{},\"nodeType\":\"Scope\",\"type\":\"node\",\"instanceArgs\":{\"imports\":{\"data\":[{\"name\":null,\"type\":\"js\",\"url\":\"\\/assetserver\\/dd22ed1bf1896c2748f3fe616ce0b838adc895c1-katex.min.js\"},{\"name\":null,\"type\":\"css\",\"url\":\"\\/assetserver\\/46517a424aa5e6cffc1360d7e0848b601c584ee3-katex.min.css\"}],\"type\":\"async_block\"},\"id\":\"3315668971664882649\",\"handlers\":{\"value\":[\"(function (txt){return this.k.render(txt,this.container)})\"]},\"systemjs_options\":null,\"mount_callbacks\":[\"function () {\\n    var handler = ((function (k){this.k=k; this.container=this.dom.querySelector(\\\"#container\\\"); return k.render(\\\"\\\\\\\\;\\\\\\\\;\\\",this.container)}));\\n    (WebIO.importBlock({\\\"data\\\":[{\\\"name\\\":null,\\\"type\\\":\\\"js\\\",\\\"url\\\":\\\"\\/assetserver\\/dd22ed1bf1896c2748f3fe616ce0b838adc895c1-katex.min.js\\\"},{\\\"name\\\":null,\\\"type\\\":\\\"css\\\",\\\"url\\\":\\\"\\/assetserver\\/46517a424aa5e6cffc1360d7e0848b601c584ee3-katex.min.css\\\"}],\\\"type\\\":\\\"async_block\\\"})).then((imports) => handler.apply(this, imports));\\n}\\n\"],\"observables\":{\"value\":{\"sync\":false,\"id\":\"5633736052952889304\",\"value\":\"\\\\;\\\\;\"}}},\"children\":[{\"props\":{\"id\":\"container\"},\"nodeType\":\"DOM\",\"type\":\"node\",\"instanceArgs\":{\"namespace\":\"html\",\"tag\":\"div\"},\"children\":[]}]}]},{\"props\":{\"style\":{\"display\":\"flex\",\"flex-direction\":\"column\"}},\"nodeType\":\"DOM\",\"type\":\"node\",\"instanceArgs\":{\"namespace\":\"html\",\"tag\":\"div\"},\"children\":[{\"props\":{},\"nodeType\":\"Scope\",\"type\":\"node\",\"instanceArgs\":{\"imports\":{\"data\":[],\"type\":\"async_block\"},\"id\":\"12796752849769279679\",\"handlers\":{\"obs-output\":[\"function (value, scope) {\\n    scope.setInnerHTML(value);\\n}\\n\"]},\"systemjs_options\":null,\"mount_callbacks\":[],\"observables\":{\"obs-output\":{\"sync\":false,\"id\":\"3409454922481307494\",\"value\":\"<img src=\\\"data:image\\/png;base64,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\\\" \\/>\"}}},\"children\":[{\"props\":{\"className\":\"webio-observable\",\"setInnerHtml\":\"<img src=\\\"data:image\\/png;base64,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\\\" \\/>\"},\"nodeType\":\"DOM\",\"type\":\"node\",\"instanceArgs\":{\"namespace\":\"html\",\"tag\":\"div\"},\"children\":[]}]}]}]}]},\n",
       "        window,\n",
       "    );\n",
       "    })()\n",
       "    </script>\n",
       "</div>\n"
      ],
      "text/plain": [
       "WebIO.Node{WebIO.DOM}(WebIO.DOM(:html, :div), Any[WebIO.Node{WebIO.DOM}(WebIO.DOM(:html, :div), Any[WebIO.Node{WebIO.DOM}(WebIO.DOM(:html, :div), Any[WebIO.Node{WebIO.DOM}(WebIO.DOM(:html, :div), Any[WebIO.Scope(WebIO.Node{WebIO.DOM}(WebIO.DOM(:html, :div), Any[WebIO.Node{WebIO.DOM}(WebIO.DOM(:html, :div), Any[WebIO.Node{WebIO.DOM}(WebIO.DOM(:html, :label), Any[\"time\"], Dict{Symbol, Any}(:className => \"interact \", :style => Dict{Any, Any}(:padding => \"5px 10px 0px 10px\")))], Dict{Symbol, Any}(:className => \"interact-flex-row-left\")), WebIO.Node{WebIO.DOM}(WebIO.DOM(:html, :div), Any[WebIO.Node{WebIO.DOM}(WebIO.DOM(:html, :input), Any[], Dict{Symbol, Any}(:max => 200, :min => 1, :attributes => Dict{Any, Any}(:type => \"range\", Symbol(\"data-bind\") => \"numericValue: index, valueUpdate: 'input', event: {change: function (){this.changes(this.changes()+1)}}\", \"orient\" => \"horizontal\"), :step => 1, :className => \"slider slider is-fullwidth\", :style => Dict{Any, Any}()))], Dict{Symbol, Any}(:className => \"interact-flex-row-center\")), WebIO.Node{WebIO.DOM}(WebIO.DOM(:html, :div), Any[WebIO.Node{WebIO.DOM}(WebIO.DOM(:html, :p), Any[], Dict{Symbol, Any}(:attributes => Dict(\"data-bind\" => \"text: formatted_val\")))], Dict{Symbol, Any}(:className => \"interact-flex-row-right\"))], Dict{Symbol, Any}(:className => \"interact-flex-row interact-widget\")), Dict{String, Tuple{Observables.AbstractObservable, Union{Nothing, Bool}}}(\"changes\" => (Observable(0), nothing), \"index\" => (Observable(1), nothing)), Set{String}(), nothing, WebIO.Asset[WebIO.Asset(\"js\", \"knockout\", \"/home/dushya/.julia/packages/Knockout/HReiN/src/../assets/knockout.js\"), WebIO.Asset(\"js\", \"knockout_punches\", \"/home/dushya/.julia/packages/Knockout/HReiN/src/../assets/knockout_punches.js\"), WebIO.Asset(\"js\", nothing, \"/home/dushya/.julia/packages/InteractBase/LJXv3/src/../assets/all.js\"), WebIO.Asset(\"css\", nothing, \"/home/dushya/.julia/packages/InteractBase/LJXv3/src/../assets/style.css\"), WebIO.Asset(\"css\", nothing, \"/home/dushya/.julia/packages/Interact/PENUy/src/../assets/bulma_confined.min.css\")], Dict{Any, Any}(\"changes\" => Any[WebIO.JSString(\"(function (val){return (val!=this.model[\\\"changes\\\"]()) ? (this.valueFromJulia[\\\"changes\\\"]=true, this.model[\\\"changes\\\"](val)) : undefined})\")], \"index\" => Any[WebIO.JSString(\"(function (val){return (val!=this.model[\\\"index\\\"]()) ? (this.valueFromJulia[\\\"index\\\"]=true, this.model[\\\"index\\\"](val)) : undefined})\")]), WebIO.ConnectionPool(Channel{Any}(32), Set{WebIO.AbstractConnection}(), Base.GenericCondition{ReentrantLock}(Base.IntrusiveLinkedList{Task}(Task (runnable) @0x00007ff96f61b6c0, Task (runnable) @0x00007ff96f61b6c0), ReentrantLock(nothing, 0x00000000, 0x00, Base.GenericCondition{Base.Threads.SpinLock}(Base.IntrusiveLinkedList{Task}(nothing, nothing), Base.Threads.SpinLock(0)), (0, 140711225731760, 140711225732016)))), WebIO.JSString[WebIO.JSString(\"function () {\\n    var handler = (function (ko, koPunches) {\\n    ko.punches.enableAll();\\n    ko.bindingHandlers.numericValue = {\\n        init: function(element, valueAccessor, allBindings, data, context) {\\n            var stringified = ko.observable(ko.unwrap(valueAccessor()));\\n            stringified.subscribe(function(value) {\\n                var val = parseFloat(value);\\n                if (!isNaN(val)) {\\n                    valueAccessor()(val);\\n                }\\n            });\\n            valueAccessor().subscribe(function(value) {\\n                var str = JSON.stringify(value);\\n                if ((str == \\\"0\\\") && ([\\\"-0\\\", \\\"-0.\\\"].indexOf(stringified()) >= 0))\\n                     return;\\n                 if ([\\\"null\\\", \\\"\\\"].indexOf(str) >= 0)\\n                     return;\\n                stringified(str);\\n            });\\n            ko.applyBindingsToNode(\\n                element,\\n                {\\n                    value: stringified,\\n                    valueUpdate: allBindings.get('valueUpdate'),\\n                },\\n                context,\\n            );\\n        }\\n    };\\n    var json_data = {\\\"formatted_vals\\\":[\\\"1\\\",\\\"2\\\",\\\"3\\\",\\\"4\\\",\\\"5\\\",\\\"6\\\",\\\"7\\\",\\\"8\\\",\\\"9\\\",\\\"10\\\",\\\"11\\\",\\\"12\\\",\\\"13\\\",\\\"14\\\",\\\"15\\\",\\\"16\\\",\\\"17\\\",\\\"18\\\",\\\"19\\\",\\\"20\\\",\\\"21\\\",\\\"22\\\",\\\"23\\\",\\\"24\\\",\\\"25\\\",\\\"26\\\",\\\"27\\\",\\\"28\\\",\\\"29\\\",\\\"30\\\",\\\"31\\\",\\\"32\\\",\\\"33\\\",\\\"34\\\",\\\"35\\\",\\\"36\\\",\\\"37\\\",\\\"38\\\",\\\"39\\\",\\\"40\\\",\\\"41\\\",\\\"42\\\",\\\"43\\\",\\\"44\\\",\\\"45\\\",\\\"46\\\",\\\"47\\\",\\\"48\\\",\\\"49\\\",\\\"50\\\",\\\"51\\\",\\\"52\\\",\\\"53\\\",\\\"54\\\",\\\"55\\\",\\\"56\\\",\\\"57\\\",\\\"58\\\",\\\"59\\\",\\\"60\\\",\\\"61\\\",\\\"62\\\",\\\"63\\\",\\\"64\\\",\\\"65\\\",\\\"66\\\",\\\"67\\\",\\\"68\\\",\\\"69\\\",\\\"70\\\",\\\"71\\\",\\\"72\\\",\\\"73\\\",\\\"74\\\",\\\"75\\\",\\\"76\\\",\\\"77\\\",\\\"78\\\",\\\"79\\\",\\\"80\\\",\\\"81\\\",\\\"82\\\",\\\"83\\\",\\\"84\\\",\\\"85\\\",\\\"86\\\",\\\"87\\\",\\\"88\\\",\\\"89\\\",\\\"90\\\",\\\"91\\\",\\\"92\\\",\\\"93\\\",\\\"94\\\",\\\"95\\\",\\\"96\\\",\\\"97\\\",\\\"98\\\",\\\"99\\\",\\\"100\\\",\\\"101\\\",\\\"102\\\",\\\"103\\\",\\\"104\\\",\\\"105\\\",\\\"106\\\",\\\"107\\\",\\\"108\\\",\\\"109\\\",\\\"110\\\",\\\"111\\\",\\\"112\\\",\\\"113\\\",\\\"114\\\",\\\"115\\\",\\\"116\\\",\\\"117\\\",\\\"118\\\",\\\"119\\\",\\\"120\\\",\\\"121\\\",\\\"122\\\",\\\"123\\\",\\\"124\\\",\\\"125\\\",\\\"126\\\",\\\"127\\\",\\\"128\\\",\\\"129\\\",\\\"130\\\",\\\"131\\\",\\\"132\\\",\\\"133\\\",\\\"134\\\",\\\"135\\\",\\\"136\\\",\\\"137\\\",\\\"138\\\",\\\"139\\\",\\\"140\\\",\\\"141\\\",\\\"142\\\",\\\"143\\\",\\\"144\\\",\\\"145\\\",\\\"146\\\",\\\"147\\\",\\\"148\\\",\\\"149\\\",\\\"150\\\",\\\"151\\\",\\\"152\\\",\\\"153\\\",\\\"154\\\",\\\"155\\\",\\\"156\\\",\\\"157\\\",\\\"158\\\",\\\"159\\\",\\\"160\\\",\\\"161\\\",\\\"162\\\",\\\"163\\\",\\\"164\\\",\\\"165\\\",\\\"166\\\",\\\"167\\\",\\\"168\\\",\\\"169\\\",\\\"170\\\",\\\"171\\\",\\\"172\\\",\\\"173\\\",\\\"174\\\",\\\"175\\\",\\\"176\\\",\\\"177\\\",\\\"178\\\",\\\"179\\\",\\\"180\\\",\\\"181\\\",\\\"182\\\",\\\"183\\\",\\\"184\\\",\\\"185\\\",\\\"186\\\",\\\"187\\\",\\\"188\\\",\\\"189\\\",\\\"190\\\",\\\"191\\\",\\\"192\\\",\\\"193\\\",\\\"194\\\",\\\"195\\\",\\\"196\\\",\\\"197\\\",\\\"198\\\",\\\"199\\\",\\\"200\\\"],\\\"changes\\\":WebIO.getval({\\\"name\\\":\\\"changes\\\",\\\"scope\\\":\\\"16166339740074932991\\\",\\\"id\\\":\\\"16337152099165292262\\\",\\\"type\\\":\\\"observable\\\"}),\\\"index\\\":WebIO.getval({\\\"name\\\":\\\"index\\\",\\\"scope\\\":\\\"16166339740074932991\\\",\\\"id\\\":\\\"13430711573573977894\\\",\\\"type\\\":\\\"observable\\\"})};\\n    var self = this;\\n    function AppViewModel() {\\n        for (var key in json_data) {\\n            var el = json_data[key];\\n            this[key] = Array.isArray(el) ? ko.observableArray(el) : ko.observable(el);\\n        }\\n        \\n        [this[\\\"formatted_val\\\"]=ko.computed(    function(){\\n        return this.formatted_vals()[parseInt(this.index())-(1)];\\n    }\\n,this)]\\n        [this[\\\"changes\\\"].subscribe((function (val){!(this.valueFromJulia[\\\"changes\\\"]) ? (WebIO.setval({\\\"name\\\":\\\"changes\\\",\\\"scope\\\":\\\"16166339740074932991\\\",\\\"id\\\":\\\"16337152099165292262\\\",\\\"type\\\":\\\"observable\\\"},val)) : undefined; return this.valueFromJulia[\\\"changes\\\"]=false}),self),this[\\\"index\\\"].subscribe((function (val){!(this.valueFromJulia[\\\"index\\\"]) ? (WebIO.setval({\\\"name\\\":\\\"index\\\",\\\"scope\\\":\\\"16166339740074932991\\\",\\\"id\\\":\\\"13430711573573977894\\\",\\\"type\\\":\\\"observable\\\"},val)) : undefined; return this.valueFromJulia[\\\"index\\\"]=false}),self)]\\n        \\n    }\\n    self.model = new AppViewModel();\\n    self.valueFromJulia = {};\\n    for (var key in json_data) {\\n        self.valueFromJulia[key] = false;\\n    }\\n    ko.applyBindings(self.model, self.dom);\\n}\\n);\\n    (WebIO.importBlock({\\\"data\\\":[{\\\"name\\\":\\\"knockout\\\",\\\"type\\\":\\\"js\\\",\\\"url\\\":\\\"/assetserver/727383f2a47bd31570b7da84eee7b022dd6d7c78-knockout.js\\\"},{\\\"name\\\":\\\"knockout_punches\\\",\\\"type\\\":\\\"js\\\",\\\"url\\\":\\\"/assetserver/382b41b3b1bd9f26f75861d360bad7f8beea211f-knockout_punches.js\\\"}],\\\"type\\\":\\\"async_block\\\"})).then((imports) => handler.apply(this, imports));\\n}\\n\")])], Dict{Symbol, Any}(:className => \"field interact-widget\")), WebIO.Node{WebIO.DOM}(WebIO.DOM(:html, :div), Any[WebIO.Scope(WebIO.Node{WebIO.DOM}(WebIO.DOM(:html, :div), Any[WebIO.Node{WebIO.DOM}(WebIO.DOM(:html, :div), Any[WebIO.Node{WebIO.DOM}(WebIO.DOM(:html, :label), Any[\"scale\"], Dict{Symbol, Any}(:className => \"interact \", :style => Dict{Any, Any}(:padding => \"5px 10px 0px 10px\")))], Dict{Symbol, Any}(:className => \"interact-flex-row-left\")), WebIO.Node{WebIO.DOM}(WebIO.DOM(:html, :div), Any[WebIO.Node{WebIO.DOM}(WebIO.DOM(:html, :input), Any[], Dict{Symbol, Any}(:max => 20, :min => 1, :attributes => Dict{Any, Any}(:type => \"range\", Symbol(\"data-bind\") => \"numericValue: index, valueUpdate: 'input', event: {change: function (){this.changes(this.changes()+1)}}\", \"orient\" => \"horizontal\"), :step => 1, :className => \"slider slider is-fullwidth\", :style => Dict{Any, Any}()))], Dict{Symbol, Any}(:className => \"interact-flex-row-center\")), WebIO.Node{WebIO.DOM}(WebIO.DOM(:html, :div), Any[WebIO.Node{WebIO.DOM}(WebIO.DOM(:html, :p), Any[], Dict{Symbol, Any}(:attributes => Dict(\"data-bind\" => \"text: formatted_val\")))], Dict{Symbol, Any}(:className => \"interact-flex-row-right\"))], Dict{Symbol, Any}(:className => \"interact-flex-row interact-widget\")), Dict{String, Tuple{Observables.AbstractObservable, Union{Nothing, Bool}}}(\"changes\" => (Observable(0), nothing), \"index\" => (Observable{Any}(10), nothing)), Set{String}(), nothing, WebIO.Asset[WebIO.Asset(\"js\", \"knockout\", \"/home/dushya/.julia/packages/Knockout/HReiN/src/../assets/knockout.js\"), WebIO.Asset(\"js\", \"knockout_punches\", \"/home/dushya/.julia/packages/Knockout/HReiN/src/../assets/knockout_punches.js\"), WebIO.Asset(\"js\", nothing, \"/home/dushya/.julia/packages/InteractBase/LJXv3/src/../assets/all.js\"), WebIO.Asset(\"css\", nothing, \"/home/dushya/.julia/packages/InteractBase/LJXv3/src/../assets/style.css\"), WebIO.Asset(\"css\", nothing, \"/home/dushya/.julia/packages/Interact/PENUy/src/../assets/bulma_confined.min.css\")], Dict{Any, Any}(\"changes\" => Any[WebIO.JSString(\"(function (val){return (val!=this.model[\\\"changes\\\"]()) ? (this.valueFromJulia[\\\"changes\\\"]=true, this.model[\\\"changes\\\"](val)) : undefined})\")], \"index\" => Any[WebIO.JSString(\"(function (val){return (val!=this.model[\\\"index\\\"]()) ? (this.valueFromJulia[\\\"index\\\"]=true, this.model[\\\"index\\\"](val)) : undefined})\")]), WebIO.ConnectionPool(Channel{Any}(32), Set{WebIO.AbstractConnection}(), Base.GenericCondition{ReentrantLock}(Base.IntrusiveLinkedList{Task}(Task (runnable) @0x00007ff96f63a720, Task (runnable) @0x00007ff96f63a720), ReentrantLock(nothing, 0x00000000, 0x00, Base.GenericCondition{Base.Threads.SpinLock}(Base.IntrusiveLinkedList{Task}(nothing, nothing), Base.Threads.SpinLock(0)), (1, 0, 0)))), WebIO.JSString[WebIO.JSString(\"function () {\\n    var handler = (function (ko, koPunches) {\\n    ko.punches.enableAll();\\n    ko.bindingHandlers.numericValue = {\\n        init: function(element, valueAccessor, allBindings, data, context) {\\n            var stringified = ko.observable(ko.unwrap(valueAccessor()));\\n            stringified.subscribe(function(value) {\\n                var val = parseFloat(value);\\n                if (!isNaN(val)) {\\n                    valueAccessor()(val);\\n                }\\n            });\\n            valueAccessor().subscribe(function(value) {\\n                var str = JSON.stringify(value);\\n                if ((str == \\\"0\\\") && ([\\\"-0\\\", \\\"-0.\\\"].indexOf(stringified()) >= 0))\\n                     return;\\n                 if ([\\\"null\\\", \\\"\\\"].indexOf(str) >= 0)\\n                     return;\\n                stringified(str);\\n            });\\n            ko.applyBindingsToNode(\\n                element,\\n                {\\n                    value: stringified,\\n                    valueUpdate: allBindings.get('valueUpdate'),\\n                },\\n                context,\\n            );\\n        }\\n    };\\n    var json_data = {\\\"formatted_vals\\\":[\\\"0.1\\\",\\\"0.2\\\",\\\"0.3\\\",\\\"0.4\\\",\\\"0.5\\\",\\\"0.6\\\",\\\"0.7\\\",\\\"0.8\\\",\\\"0.9\\\",\\\"1.0\\\",\\\"1.1\\\",\\\"1.2\\\",\\\"1.3\\\",\\\"1.4\\\",\\\"1.5\\\",\\\"1.6\\\",\\\"1.7\\\",\\\"1.8\\\",\\\"1.9\\\",\\\"2.0\\\"],\\\"changes\\\":WebIO.getval({\\\"name\\\":\\\"changes\\\",\\\"scope\\\":\\\"2248586910575621627\\\",\\\"id\\\":\\\"10324408408380471348\\\",\\\"type\\\":\\\"observable\\\"}),\\\"index\\\":WebIO.getval({\\\"name\\\":\\\"index\\\",\\\"scope\\\":\\\"2248586910575621627\\\",\\\"id\\\":\\\"15328897977523241246\\\",\\\"type\\\":\\\"observable\\\"})};\\n    var self = this;\\n    function AppViewModel() {\\n        for (var key in json_data) {\\n            var el = json_data[key];\\n            this[key] = Array.isArray(el) ? ko.observableArray(el) : ko.observable(el);\\n        }\\n        \\n        [this[\\\"formatted_val\\\"]=ko.computed(    function(){\\n        return this.formatted_vals()[parseInt(this.index())-(1)];\\n    }\\n,this)]\\n        [this[\\\"changes\\\"].subscribe((function (val){!(this.valueFromJulia[\\\"changes\\\"]) ? (WebIO.setval({\\\"name\\\":\\\"changes\\\",\\\"scope\\\":\\\"2248586910575621627\\\",\\\"id\\\":\\\"10324408408380471348\\\",\\\"type\\\":\\\"observable\\\"},val)) : undefined; return this.valueFromJulia[\\\"changes\\\"]=false}),self),this[\\\"index\\\"].subscribe((function (val){!(this.valueFromJulia[\\\"index\\\"]) ? (WebIO.setval({\\\"name\\\":\\\"index\\\",\\\"scope\\\":\\\"2248586910575621627\\\",\\\"id\\\":\\\"15328897977523241246\\\",\\\"type\\\":\\\"observable\\\"},val)) : undefined; return this.valueFromJulia[\\\"index\\\"]=false}),self)]\\n        \\n    }\\n    self.model = new AppViewModel();\\n    self.valueFromJulia = {};\\n    for (var key in json_data) {\\n        self.valueFromJulia[key] = false;\\n    }\\n    ko.applyBindings(self.model, self.dom);\\n}\\n);\\n    (WebIO.importBlock({\\\"data\\\":[{\\\"name\\\":\\\"knockout\\\",\\\"type\\\":\\\"js\\\",\\\"url\\\":\\\"/assetserver/727383f2a47bd31570b7da84eee7b022dd6d7c78-knockout.js\\\"},{\\\"name\\\":\\\"knockout_punches\\\",\\\"type\\\":\\\"js\\\",\\\"url\\\":\\\"/assetserver/382b41b3b1bd9f26f75861d360bad7f8beea211f-knockout_punches.js\\\"}],\\\"type\\\":\\\"async_block\\\"})).then((imports) => handler.apply(this, imports));\\n}\\n\")])], Dict{Symbol, Any}(:className => \"field interact-widget\")), WebIO.Node{WebIO.DOM}(WebIO.DOM(:html, :div), Any[], Dict{Symbol, Any}(:style => Dict(\"display\" => \"flex\", \"flex-direction\" => \"column\"))), WebIO.Node{WebIO.DOM}(WebIO.DOM(:html, :div), Any[WebIO.Node{WebIO.DOM}(WebIO.DOM(:html, :div), Any[WebIO.Scope(WebIO.Node{WebIO.DOM}(WebIO.DOM(:html, :div), Any[WebIO.Node{WebIO.DOM}(WebIO.DOM(:html, :div), Any[WebIO.Node{WebIO.DOM}(WebIO.DOM(:html, :label), Any[\"min_alike\"], Dict{Symbol, Any}(:className => \"interact \", :style => Dict{Any, Any}(:padding => \"5px 10px 0px 10px\")))], Dict{Symbol, Any}(:className => \"interact-flex-row-left\")), WebIO.Node{WebIO.DOM}(WebIO.DOM(:html, :div), Any[WebIO.Node{WebIO.DOM}(WebIO.DOM(:html, :input), Any[], Dict{Symbol, Any}(:max => 12, :min => 1, :attributes => Dict{Any, Any}(:type => \"range\", Symbol(\"data-bind\") => \"numericValue: index, valueUpdate: 'input', event: {change: function (){this.changes(this.changes()+1)}}\", \"orient\" => \"horizontal\"), :step => 1, :className => \"slider slider is-fullwidth\", :style => Dict{Any, Any}()))], Dict{Symbol, Any}(:className => \"interact-flex-row-center\")), WebIO.Node{WebIO.DOM}(WebIO.DOM(:html, :div), Any[WebIO.Node{WebIO.DOM}(WebIO.DOM(:html, :p), Any[], Dict{Symbol, Any}(:attributes => Dict(\"data-bind\" => \"text: formatted_val\")))], Dict{Symbol, Any}(:className => \"interact-flex-row-right\"))], Dict{Symbol, Any}(:className => \"interact-flex-row interact-widget\")), Dict{String, Tuple{Observables.AbstractObservable, Union{Nothing, Bool}}}(\"changes\" => (Observable(0), nothing), \"index\" => (Observable(6), nothing)), Set{String}(), nothing, WebIO.Asset[WebIO.Asset(\"js\", \"knockout\", \"/home/dushya/.julia/packages/Knockout/HReiN/src/../assets/knockout.js\"), WebIO.Asset(\"js\", \"knockout_punches\", \"/home/dushya/.julia/packages/Knockout/HReiN/src/../assets/knockout_punches.js\"), WebIO.Asset(\"js\", nothing, \"/home/dushya/.julia/packages/InteractBase/LJXv3/src/../assets/all.js\"), WebIO.Asset(\"css\", nothing, \"/home/dushya/.julia/packages/InteractBase/LJXv3/src/../assets/style.css\"), WebIO.Asset(\"css\", nothing, \"/home/dushya/.julia/packages/Interact/PENUy/src/../assets/bulma_confined.min.css\")], Dict{Any, Any}(\"changes\" => Any[WebIO.JSString(\"(function (val){return (val!=this.model[\\\"changes\\\"]()) ? (this.valueFromJulia[\\\"changes\\\"]=true, this.model[\\\"changes\\\"](val)) : undefined})\")], \"index\" => Any[WebIO.JSString(\"(function (val){return (val!=this.model[\\\"index\\\"]()) ? (this.valueFromJulia[\\\"index\\\"]=true, this.model[\\\"index\\\"](val)) : undefined})\")]), WebIO.ConnectionPool(Channel{Any}(32), Set{WebIO.AbstractConnection}(), Base.GenericCondition{ReentrantLock}(Base.IntrusiveLinkedList{Task}(Task (runnable) @0x00007ff96f6dc330, Task (runnable) @0x00007ff96f6dc330), ReentrantLock(nothing, 0x00000000, 0x00, Base.GenericCondition{Base.Threads.SpinLock}(Base.IntrusiveLinkedList{Task}(nothing, nothing), Base.Threads.SpinLock(0)), (1, 140709145165056, 140711225738800)))), WebIO.JSString[WebIO.JSString(\"function () {\\n    var handler = (function (ko, koPunches) {\\n    ko.punches.enableAll();\\n    ko.bindingHandlers.numericValue = {\\n        init: function(element, valueAccessor, allBindings, data, context) {\\n            var stringified = ko.observable(ko.unwrap(valueAccessor()));\\n            stringified.subscribe(function(value) {\\n                var val = parseFloat(value);\\n                if (!isNaN(val)) {\\n                    valueAccessor()(val);\\n                }\\n            });\\n            valueAccessor().subscribe(function(value) {\\n                var str = JSON.stringify(value);\\n                if ((str == \\\"0\\\") && ([\\\"-0\\\", \\\"-0.\\\"].indexOf(stringified()) >= 0))\\n                     return;\\n                 if ([\\\"null\\\", \\\"\\\"].indexOf(str) >= 0)\\n                     return;\\n                stringified(str);\\n            });\\n            ko.applyBindingsToNode(\\n                element,\\n                {\\n                    value: stringified,\\n                    valueUpdate: allBindings.get('valueUpdate'),\\n                },\\n                context,\\n            );\\n        }\\n    };\\n    var json_data = {\\\"formatted_vals\\\":[\\\"1\\\",\\\"2\\\",\\\"3\\\",\\\"4\\\",\\\"5\\\",\\\"6\\\",\\\"7\\\",\\\"8\\\",\\\"9\\\",\\\"10\\\",\\\"11\\\",\\\"12\\\"],\\\"changes\\\":WebIO.getval({\\\"name\\\":\\\"changes\\\",\\\"scope\\\":\\\"60431291352799681\\\",\\\"id\\\":\\\"2769323857593717228\\\",\\\"type\\\":\\\"observable\\\"}),\\\"index\\\":WebIO.getval({\\\"name\\\":\\\"index\\\",\\\"scope\\\":\\\"60431291352799681\\\",\\\"id\\\":\\\"12183528605827942004\\\",\\\"type\\\":\\\"observable\\\"})};\\n    var self = this;\\n    function AppViewModel() {\\n        for (var key in json_data) {\\n            var el = json_data[key];\\n            this[key] = Array.isArray(el) ? ko.observableArray(el) : ko.observable(el);\\n        }\\n        \\n        [this[\\\"formatted_val\\\"]=ko.computed(    function(){\\n        return this.formatted_vals()[parseInt(this.index())-(1)];\\n    }\\n,this)]\\n        [this[\\\"changes\\\"].subscribe((function (val){!(this.valueFromJulia[\\\"changes\\\"]) ? (WebIO.setval({\\\"name\\\":\\\"changes\\\",\\\"scope\\\":\\\"60431291352799681\\\",\\\"id\\\":\\\"2769323857593717228\\\",\\\"type\\\":\\\"observable\\\"},val)) : undefined; return this.valueFromJulia[\\\"changes\\\"]=false}),self),this[\\\"index\\\"].subscribe((function (val){!(this.valueFromJulia[\\\"index\\\"]) ? (WebIO.setval({\\\"name\\\":\\\"index\\\",\\\"scope\\\":\\\"60431291352799681\\\",\\\"id\\\":\\\"12183528605827942004\\\",\\\"type\\\":\\\"observable\\\"},val)) : undefined; return this.valueFromJulia[\\\"index\\\"]=false}),self)]\\n        \\n    }\\n    self.model = new AppViewModel();\\n    self.valueFromJulia = {};\\n    for (var key in json_data) {\\n        self.valueFromJulia[key] = false;\\n    }\\n    ko.applyBindings(self.model, self.dom);\\n}\\n);\\n    (WebIO.importBlock({\\\"data\\\":[{\\\"name\\\":\\\"knockout\\\",\\\"type\\\":\\\"js\\\",\\\"url\\\":\\\"/assetserver/727383f2a47bd31570b7da84eee7b022dd6d7c78-knockout.js\\\"},{\\\"name\\\":\\\"knockout_punches\\\",\\\"type\\\":\\\"js\\\",\\\"url\\\":\\\"/assetserver/382b41b3b1bd9f26f75861d360bad7f8beea211f-knockout_punches.js\\\"}],\\\"type\\\":\\\"async_block\\\"})).then((imports) => handler.apply(this, imports));\\n}\\n\")])], Dict{Symbol, Any}(:className => \"field interact-widget\"))], Dict{Symbol, Any}(:style => Dict(\"display\" => \"flex\", \"flex-direction\" => \"column\"))), WebIO.Node{WebIO.DOM}(WebIO.DOM(:html, :div), Any[WebIO.Node{WebIO.DOM}(WebIO.DOM(:html, :div), Any[WebIO.Scope(WebIO.Node{WebIO.DOM}(WebIO.DOM(:html, :div), Any[], Dict{Symbol, Any}(:id => \"container\")), Dict{String, Tuple{Observables.AbstractObservable, Union{Nothing, Bool}}}(\"value\" => (Observable(\"\\\\;\\\\;\"), nothing)), Set{String}(), nothing, WebIO.Asset[WebIO.Asset(\"js\", nothing, \"/home/dushya/.julia/packages/InteractBase/LJXv3/src/../assets/katex.min.js\"), WebIO.Asset(\"css\", nothing, \"/home/dushya/.julia/packages/InteractBase/LJXv3/src/../assets/katex.min.css\")], Dict{Any, Any}(\"value\" => Any[WebIO.JSString(\"(function (txt){return this.k.render(txt,this.container)})\")]), WebIO.ConnectionPool(Channel{Any}(32), Set{WebIO.AbstractConnection}(), Base.GenericCondition{ReentrantLock}(Base.IntrusiveLinkedList{Task}(Task (runnable) @0x00007ff96f9295f0, Task (runnable) @0x00007ff96f9295f0), ReentrantLock(nothing, 0x00000000, 0x00, Base.GenericCondition{Base.Threads.SpinLock}(Base.IntrusiveLinkedList{Task}(nothing, nothing), Base.Threads.SpinLock(0)), (140711055719184, 140711082136640, 0)))), WebIO.JSString[WebIO.JSString(\"function () {\\n    var handler = ((function (k){this.k=k; this.container=this.dom.querySelector(\\\"#container\\\"); return k.render(\\\"\\\\\\\\;\\\\\\\\;\\\",this.container)}));\\n    (WebIO.importBlock({\\\"data\\\":[{\\\"name\\\":null,\\\"type\\\":\\\"js\\\",\\\"url\\\":\\\"/assetserver/dd22ed1bf1896c2748f3fe616ce0b838adc895c1-katex.min.js\\\"},{\\\"name\\\":null,\\\"type\\\":\\\"css\\\",\\\"url\\\":\\\"/assetserver/46517a424aa5e6cffc1360d7e0848b601c584ee3-katex.min.css\\\"}],\\\"type\\\":\\\"async_block\\\"})).then((imports) => handler.apply(this, imports));\\n}\\n\")])], Dict{Symbol, Any}(:className => \"interact-widget\")), WebIO.Node{WebIO.DOM}(WebIO.DOM(:html, :div), Any[WebIO.Scope(WebIO.Node{WebIO.DOM}(WebIO.DOM(:html, :button), Any[\"run\"], Dict{Symbol, Any}(:attributes => Dict{Any, Any}(\"data-bind\" => \"click: function (){this.clicks(this.clicks()+1)}, css: {'is-loading' : loading}\"), :className => \"is-medium button is-primary\", :style => Dict{String, Any}())), Dict{String, Tuple{Observables.AbstractObservable, Union{Nothing, Bool}}}(\"loading\" => (Observable(false), nothing), \"clicks\" => (Observable(0), nothing)), Set{String}(), nothing, WebIO.Asset[WebIO.Asset(\"js\", \"knockout\", \"/home/dushya/.julia/packages/Knockout/HReiN/src/../assets/knockout.js\"), WebIO.Asset(\"js\", \"knockout_punches\", \"/home/dushya/.julia/packages/Knockout/HReiN/src/../assets/knockout_punches.js\"), WebIO.Asset(\"js\", nothing, \"/home/dushya/.julia/packages/InteractBase/LJXv3/src/../assets/all.js\"), WebIO.Asset(\"css\", nothing, \"/home/dushya/.julia/packages/InteractBase/LJXv3/src/../assets/style.css\"), WebIO.Asset(\"css\", nothing, \"/home/dushya/.julia/packages/Interact/PENUy/src/../assets/bulma_confined.min.css\")], Dict{Any, Any}(\"loading\" => Any[WebIO.JSString(\"(function (val){return (val!=this.model[\\\"loading\\\"]()) ? (this.valueFromJulia[\\\"loading\\\"]=true, this.model[\\\"loading\\\"](val)) : undefined})\")], \"clicks\" => Any[WebIO.JSString(\"(function (val){return (val!=this.model[\\\"clicks\\\"]()) ? (this.valueFromJulia[\\\"clicks\\\"]=true, this.model[\\\"clicks\\\"](val)) : undefined})\")]), WebIO.ConnectionPool(Channel{Any}(32), Set{WebIO.AbstractConnection}(), Base.GenericCondition{ReentrantLock}(Base.IntrusiveLinkedList{Task}(Task (runnable) @0x00007ff96f708650, Task (runnable) @0x00007ff96f708650), ReentrantLock(nothing, 0x00000000, 0x00, Base.GenericCondition{Base.Threads.SpinLock}(Base.IntrusiveLinkedList{Task}(nothing, nothing), Base.Threads.SpinLock(0)), (0, 140709320139984, 1)))), WebIO.JSString[WebIO.JSString(\"function () {\\n    var handler = (function (ko, koPunches) {\\n    ko.punches.enableAll();\\n    ko.bindingHandlers.numericValue = {\\n        init: function(element, valueAccessor, allBindings, data, context) {\\n            var stringified = ko.observable(ko.unwrap(valueAccessor()));\\n            stringified.subscribe(function(value) {\\n                var val = parseFloat(value);\\n                if (!isNaN(val)) {\\n                    valueAccessor()(val);\\n                }\\n            });\\n            valueAccessor().subscribe(function(value) {\\n                var str = JSON.stringify(value);\\n                if ((str == \\\"0\\\") && ([\\\"-0\\\", \\\"-0.\\\"].indexOf(stringified()) >= 0))\\n                     return;\\n                 if ([\\\"null\\\", \\\"\\\"].indexOf(str) >= 0)\\n                     return;\\n                stringified(str);\\n            });\\n            ko.applyBindingsToNode(\\n                element,\\n                {\\n                    value: stringified,\\n                    valueUpdate: allBindings.get('valueUpdate'),\\n                },\\n                context,\\n            );\\n        }\\n    };\\n    var json_data = {\\\"loading\\\":WebIO.getval({\\\"name\\\":\\\"loading\\\",\\\"scope\\\":\\\"9109289950667264735\\\",\\\"id\\\":\\\"15077338480789473099\\\",\\\"type\\\":\\\"observable\\\"}),\\\"clicks\\\":WebIO.getval({\\\"name\\\":\\\"clicks\\\",\\\"scope\\\":\\\"9109289950667264735\\\",\\\"id\\\":\\\"18147391033279160406\\\",\\\"type\\\":\\\"observable\\\"})};\\n    var self = this;\\n    function AppViewModel() {\\n        for (var key in json_data) {\\n            var el = json_data[key];\\n            this[key] = Array.isArray(el) ? ko.observableArray(el) : ko.observable(el);\\n        }\\n        \\n        \\n        [this[\\\"loading\\\"].subscribe((function (val){!(this.valueFromJulia[\\\"loading\\\"]) ? (WebIO.setval({\\\"name\\\":\\\"loading\\\",\\\"scope\\\":\\\"9109289950667264735\\\",\\\"id\\\":\\\"15077338480789473099\\\",\\\"type\\\":\\\"observable\\\"},val)) : undefined; return this.valueFromJulia[\\\"loading\\\"]=false}),self),this[\\\"clicks\\\"].subscribe((function (val){!(this.valueFromJulia[\\\"clicks\\\"]) ? (WebIO.setval({\\\"name\\\":\\\"clicks\\\",\\\"scope\\\":\\\"9109289950667264735\\\",\\\"id\\\":\\\"18147391033279160406\\\",\\\"type\\\":\\\"observable\\\"},val)) : undefined; return this.valueFromJulia[\\\"clicks\\\"]=false}),self)]\\n        \\n    }\\n    self.model = new AppViewModel();\\n    self.valueFromJulia = {};\\n    for (var key in json_data) {\\n        self.valueFromJulia[key] = false;\\n    }\\n    ko.applyBindings(self.model, self.dom);\\n}\\n);\\n    (WebIO.importBlock({\\\"data\\\":[{\\\"name\\\":\\\"knockout\\\",\\\"type\\\":\\\"js\\\",\\\"url\\\":\\\"/assetserver/727383f2a47bd31570b7da84eee7b022dd6d7c78-knockout.js\\\"},{\\\"name\\\":\\\"knockout_punches\\\",\\\"type\\\":\\\"js\\\",\\\"url\\\":\\\"/assetserver/382b41b3b1bd9f26f75861d360bad7f8beea211f-knockout_punches.js\\\"}],\\\"type\\\":\\\"async_block\\\"})).then((imports) => handler.apply(this, imports));\\n}\\n\")])], Dict{Symbol, Any}(:className => \"field interact-widget\")), WebIO.Node{WebIO.DOM}(WebIO.DOM(:html, :div), Any[WebIO.Scope(WebIO.Node{WebIO.DOM}(WebIO.DOM(:html, :div), Any[], Dict{Symbol, Any}(:id => \"container\")), Dict{String, Tuple{Observables.AbstractObservable, Union{Nothing, Bool}}}(\"value\" => (Observable(\"\\\\;\\\\;\"), nothing)), Set{String}(), nothing, WebIO.Asset[WebIO.Asset(\"js\", nothing, \"/home/dushya/.julia/packages/InteractBase/LJXv3/src/../assets/katex.min.js\"), WebIO.Asset(\"css\", nothing, \"/home/dushya/.julia/packages/InteractBase/LJXv3/src/../assets/katex.min.css\")], Dict{Any, Any}(\"value\" => Any[WebIO.JSString(\"(function (txt){return this.k.render(txt,this.container)})\")]), WebIO.ConnectionPool(Channel{Any}(32), Set{WebIO.AbstractConnection}(), Base.GenericCondition{ReentrantLock}(Base.IntrusiveLinkedList{Task}(Task (runnable) @0x00007ff96f9295f0, Task (runnable) @0x00007ff96f9295f0), ReentrantLock(nothing, 0x00000000, 0x00, Base.GenericCondition{Base.Threads.SpinLock}(Base.IntrusiveLinkedList{Task}(nothing, nothing), Base.Threads.SpinLock(0)), (140711055719184, 140711082136640, 0)))), WebIO.JSString[WebIO.JSString(\"function () {\\n    var handler = ((function (k){this.k=k; this.container=this.dom.querySelector(\\\"#container\\\"); return k.render(\\\"\\\\\\\\;\\\\\\\\;\\\",this.container)}));\\n    (WebIO.importBlock({\\\"data\\\":[{\\\"name\\\":null,\\\"type\\\":\\\"js\\\",\\\"url\\\":\\\"/assetserver/dd22ed1bf1896c2748f3fe616ce0b838adc895c1-katex.min.js\\\"},{\\\"name\\\":null,\\\"type\\\":\\\"css\\\",\\\"url\\\":\\\"/assetserver/46517a424aa5e6cffc1360d7e0848b601c584ee3-katex.min.css\\\"}],\\\"type\\\":\\\"async_block\\\"})).then((imports) => handler.apply(this, imports));\\n}\\n\")])], Dict{Symbol, Any}(:className => \"interact-widget\")), WebIO.Node{WebIO.DOM}(WebIO.DOM(:html, :div), Any[WebIO.Scope(WebIO.Node{WebIO.DOM}(WebIO.DOM(:html, :button), Any[\"stop\"], Dict{Symbol, Any}(:attributes => Dict{Any, Any}(\"data-bind\" => \"click: function (){this.clicks(this.clicks()+1)}, css: {'is-loading' : loading}\"), :className => \"is-medium button is-primary\", :style => Dict{String, Any}())), Dict{String, Tuple{Observables.AbstractObservable, Union{Nothing, Bool}}}(\"loading\" => (Observable(false), nothing), \"clicks\" => (Observable(0), nothing)), Set{String}(), nothing, WebIO.Asset[WebIO.Asset(\"js\", \"knockout\", \"/home/dushya/.julia/packages/Knockout/HReiN/src/../assets/knockout.js\"), WebIO.Asset(\"js\", \"knockout_punches\", \"/home/dushya/.julia/packages/Knockout/HReiN/src/../assets/knockout_punches.js\"), WebIO.Asset(\"js\", nothing, \"/home/dushya/.julia/packages/InteractBase/LJXv3/src/../assets/all.js\"), WebIO.Asset(\"css\", nothing, \"/home/dushya/.julia/packages/InteractBase/LJXv3/src/../assets/style.css\"), WebIO.Asset(\"css\", nothing, \"/home/dushya/.julia/packages/Interact/PENUy/src/../assets/bulma_confined.min.css\")], Dict{Any, Any}(\"loading\" => Any[WebIO.JSString(\"(function (val){return (val!=this.model[\\\"loading\\\"]()) ? (this.valueFromJulia[\\\"loading\\\"]=true, this.model[\\\"loading\\\"](val)) : undefined})\")], \"clicks\" => Any[WebIO.JSString(\"(function (val){return (val!=this.model[\\\"clicks\\\"]()) ? (this.valueFromJulia[\\\"clicks\\\"]=true, this.model[\\\"clicks\\\"](val)) : undefined})\")]), WebIO.ConnectionPool(Channel{Any}(32), Set{WebIO.AbstractConnection}(), Base.GenericCondition{ReentrantLock}(Base.IntrusiveLinkedList{Task}(Task (runnable) @0x00007ff96f70b3a0, Task (runnable) @0x00007ff96f70b3a0), ReentrantLock(nothing, 0x00000000, 0x00, Base.GenericCondition{Base.Threads.SpinLock}(Base.IntrusiveLinkedList{Task}(nothing, nothing), Base.Threads.SpinLock(0)), (0, 0, 141733920768)))), WebIO.JSString[WebIO.JSString(\"function () {\\n    var handler = (function (ko, koPunches) {\\n    ko.punches.enableAll();\\n    ko.bindingHandlers.numericValue = {\\n        init: function(element, valueAccessor, allBindings, data, context) {\\n            var stringified = ko.observable(ko.unwrap(valueAccessor()));\\n            stringified.subscribe(function(value) {\\n                var val = parseFloat(value);\\n                if (!isNaN(val)) {\\n                    valueAccessor()(val);\\n                }\\n            });\\n            valueAccessor().subscribe(function(value) {\\n                var str = JSON.stringify(value);\\n                if ((str == \\\"0\\\") && ([\\\"-0\\\", \\\"-0.\\\"].indexOf(stringified()) >= 0))\\n                     return;\\n                 if ([\\\"null\\\", \\\"\\\"].indexOf(str) >= 0)\\n                     return;\\n                stringified(str);\\n            });\\n            ko.applyBindingsToNode(\\n                element,\\n                {\\n                    value: stringified,\\n                    valueUpdate: allBindings.get('valueUpdate'),\\n                },\\n                context,\\n            );\\n        }\\n    };\\n    var json_data = {\\\"loading\\\":WebIO.getval({\\\"name\\\":\\\"loading\\\",\\\"scope\\\":\\\"6211480728796692627\\\",\\\"id\\\":\\\"17163120745549206413\\\",\\\"type\\\":\\\"observable\\\"}),\\\"clicks\\\":WebIO.getval({\\\"name\\\":\\\"clicks\\\",\\\"scope\\\":\\\"6211480728796692627\\\",\\\"id\\\":\\\"17735863115208585602\\\",\\\"type\\\":\\\"observable\\\"})};\\n    var self = this;\\n    function AppViewModel() {\\n        for (var key in json_data) {\\n            var el = json_data[key];\\n            this[key] = Array.isArray(el) ? ko.observableArray(el) : ko.observable(el);\\n        }\\n        \\n        \\n        [this[\\\"loading\\\"].subscribe((function (val){!(this.valueFromJulia[\\\"loading\\\"]) ? (WebIO.setval({\\\"name\\\":\\\"loading\\\",\\\"scope\\\":\\\"6211480728796692627\\\",\\\"id\\\":\\\"17163120745549206413\\\",\\\"type\\\":\\\"observable\\\"},val)) : undefined; return this.valueFromJulia[\\\"loading\\\"]=false}),self),this[\\\"clicks\\\"].subscribe((function (val){!(this.valueFromJulia[\\\"clicks\\\"]) ? (WebIO.setval({\\\"name\\\":\\\"clicks\\\",\\\"scope\\\":\\\"6211480728796692627\\\",\\\"id\\\":\\\"17735863115208585602\\\",\\\"type\\\":\\\"observable\\\"},val)) : undefined; return this.valueFromJulia[\\\"clicks\\\"]=false}),self)]\\n        \\n    }\\n    self.model = new AppViewModel();\\n    self.valueFromJulia = {};\\n    for (var key in json_data) {\\n        self.valueFromJulia[key] = false;\\n    }\\n    ko.applyBindings(self.model, self.dom);\\n}\\n);\\n    (WebIO.importBlock({\\\"data\\\":[{\\\"name\\\":\\\"knockout\\\",\\\"type\\\":\\\"js\\\",\\\"url\\\":\\\"/assetserver/727383f2a47bd31570b7da84eee7b022dd6d7c78-knockout.js\\\"},{\\\"name\\\":\\\"knockout_punches\\\",\\\"type\\\":\\\"js\\\",\\\"url\\\":\\\"/assetserver/382b41b3b1bd9f26f75861d360bad7f8beea211f-knockout_punches.js\\\"}],\\\"type\\\":\\\"async_block\\\"})).then((imports) => handler.apply(this, imports));\\n}\\n\")])], Dict{Symbol, Any}(:className => \"field interact-widget\")), WebIO.Node{WebIO.DOM}(WebIO.DOM(:html, :div), Any[WebIO.Scope(WebIO.Node{WebIO.DOM}(WebIO.DOM(:html, :div), Any[], Dict{Symbol, Any}(:id => \"container\")), Dict{String, Tuple{Observables.AbstractObservable, Union{Nothing, Bool}}}(\"value\" => (Observable(\"\\\\;\\\\;\"), nothing)), Set{String}(), nothing, WebIO.Asset[WebIO.Asset(\"js\", nothing, \"/home/dushya/.julia/packages/InteractBase/LJXv3/src/../assets/katex.min.js\"), WebIO.Asset(\"css\", nothing, \"/home/dushya/.julia/packages/InteractBase/LJXv3/src/../assets/katex.min.css\")], Dict{Any, Any}(\"value\" => Any[WebIO.JSString(\"(function (txt){return this.k.render(txt,this.container)})\")]), WebIO.ConnectionPool(Channel{Any}(32), Set{WebIO.AbstractConnection}(), Base.GenericCondition{ReentrantLock}(Base.IntrusiveLinkedList{Task}(Task (runnable) @0x00007ff96f9295f0, Task (runnable) @0x00007ff96f9295f0), ReentrantLock(nothing, 0x00000000, 0x00, Base.GenericCondition{Base.Threads.SpinLock}(Base.IntrusiveLinkedList{Task}(nothing, nothing), Base.Threads.SpinLock(0)), (140711055719184, 140711082136640, 0)))), WebIO.JSString[WebIO.JSString(\"function () {\\n    var handler = ((function (k){this.k=k; this.container=this.dom.querySelector(\\\"#container\\\"); return k.render(\\\"\\\\\\\\;\\\\\\\\;\\\",this.container)}));\\n    (WebIO.importBlock({\\\"data\\\":[{\\\"name\\\":null,\\\"type\\\":\\\"js\\\",\\\"url\\\":\\\"/assetserver/dd22ed1bf1896c2748f3fe616ce0b838adc895c1-katex.min.js\\\"},{\\\"name\\\":null,\\\"type\\\":\\\"css\\\",\\\"url\\\":\\\"/assetserver/46517a424aa5e6cffc1360d7e0848b601c584ee3-katex.min.css\\\"}],\\\"type\\\":\\\"async_block\\\"})).then((imports) => handler.apply(this, imports));\\n}\\n\")])], Dict{Symbol, Any}(:className => \"interact-widget\")), WebIO.Node{WebIO.DOM}(WebIO.DOM(:html, :div), Any[WebIO.Scope(WebIO.Node{WebIO.DOM}(WebIO.DOM(:html, :button), Any[\"reset\"], Dict{Symbol, Any}(:attributes => Dict{Any, Any}(\"data-bind\" => \"click: function (){this.clicks(this.clicks()+1)}, css: {'is-loading' : loading}\"), :className => \"is-medium button is-primary\", :style => Dict{String, Any}())), Dict{String, Tuple{Observables.AbstractObservable, Union{Nothing, Bool}}}(\"loading\" => (Observable(false), nothing), \"clicks\" => (Observable(0), nothing)), Set{String}(), nothing, WebIO.Asset[WebIO.Asset(\"js\", \"knockout\", \"/home/dushya/.julia/packages/Knockout/HReiN/src/../assets/knockout.js\"), WebIO.Asset(\"js\", \"knockout_punches\", \"/home/dushya/.julia/packages/Knockout/HReiN/src/../assets/knockout_punches.js\"), WebIO.Asset(\"js\", nothing, \"/home/dushya/.julia/packages/InteractBase/LJXv3/src/../assets/all.js\"), WebIO.Asset(\"css\", nothing, \"/home/dushya/.julia/packages/InteractBase/LJXv3/src/../assets/style.css\"), WebIO.Asset(\"css\", nothing, \"/home/dushya/.julia/packages/Interact/PENUy/src/../assets/bulma_confined.min.css\")], Dict{Any, Any}(\"loading\" => Any[WebIO.JSString(\"(function (val){return (val!=this.model[\\\"loading\\\"]()) ? (this.valueFromJulia[\\\"loading\\\"]=true, this.model[\\\"loading\\\"](val)) : undefined})\")], \"clicks\" => Any[WebIO.JSString(\"(function (val){return (val!=this.model[\\\"clicks\\\"]()) ? (this.valueFromJulia[\\\"clicks\\\"]=true, this.model[\\\"clicks\\\"](val)) : undefined})\")]), WebIO.ConnectionPool(Channel{Any}(32), Set{WebIO.AbstractConnection}(), Base.GenericCondition{ReentrantLock}(Base.IntrusiveLinkedList{Task}(Task (runnable) @0x00007ff96f73df50, Task (runnable) @0x00007ff96f73df50), ReentrantLock(nothing, 0x00000000, 0x00, Base.GenericCondition{Base.Threads.SpinLock}(Base.IntrusiveLinkedList{Task}(nothing, nothing), Base.Threads.SpinLock(0)), (2, 140711225717232, 140711225717616)))), WebIO.JSString[WebIO.JSString(\"function () {\\n    var handler = (function (ko, koPunches) {\\n    ko.punches.enableAll();\\n    ko.bindingHandlers.numericValue = {\\n        init: function(element, valueAccessor, allBindings, data, context) {\\n            var stringified = ko.observable(ko.unwrap(valueAccessor()));\\n            stringified.subscribe(function(value) {\\n                var val = parseFloat(value);\\n                if (!isNaN(val)) {\\n                    valueAccessor()(val);\\n                }\\n            });\\n            valueAccessor().subscribe(function(value) {\\n                var str = JSON.stringify(value);\\n                if ((str == \\\"0\\\") && ([\\\"-0\\\", \\\"-0.\\\"].indexOf(stringified()) >= 0))\\n                     return;\\n                 if ([\\\"null\\\", \\\"\\\"].indexOf(str) >= 0)\\n                     return;\\n                stringified(str);\\n            });\\n            ko.applyBindingsToNode(\\n                element,\\n                {\\n                    value: stringified,\\n                    valueUpdate: allBindings.get('valueUpdate'),\\n                },\\n                context,\\n            );\\n        }\\n    };\\n    var json_data = {\\\"loading\\\":WebIO.getval({\\\"name\\\":\\\"loading\\\",\\\"scope\\\":\\\"7309696116626796514\\\",\\\"id\\\":\\\"14414698809953710861\\\",\\\"type\\\":\\\"observable\\\"}),\\\"clicks\\\":WebIO.getval({\\\"name\\\":\\\"clicks\\\",\\\"scope\\\":\\\"7309696116626796514\\\",\\\"id\\\":\\\"14984995724013877632\\\",\\\"type\\\":\\\"observable\\\"})};\\n    var self = this;\\n    function AppViewModel() {\\n        for (var key in json_data) {\\n            var el = json_data[key];\\n            this[key] = Array.isArray(el) ? ko.observableArray(el) : ko.observable(el);\\n        }\\n        \\n        \\n        [this[\\\"loading\\\"].subscribe((function (val){!(this.valueFromJulia[\\\"loading\\\"]) ? (WebIO.setval({\\\"name\\\":\\\"loading\\\",\\\"scope\\\":\\\"7309696116626796514\\\",\\\"id\\\":\\\"14414698809953710861\\\",\\\"type\\\":\\\"observable\\\"},val)) : undefined; return this.valueFromJulia[\\\"loading\\\"]=false}),self),this[\\\"clicks\\\"].subscribe((function (val){!(this.valueFromJulia[\\\"clicks\\\"]) ? (WebIO.setval({\\\"name\\\":\\\"clicks\\\",\\\"scope\\\":\\\"7309696116626796514\\\",\\\"id\\\":\\\"14984995724013877632\\\",\\\"type\\\":\\\"observable\\\"},val)) : undefined; return this.valueFromJulia[\\\"clicks\\\"]=false}),self)]\\n        \\n    }\\n    self.model = new AppViewModel();\\n    self.valueFromJulia = {};\\n    for (var key in json_data) {\\n        self.valueFromJulia[key] = false;\\n    }\\n    ko.applyBindings(self.model, self.dom);\\n}\\n);\\n    (WebIO.importBlock({\\\"data\\\":[{\\\"name\\\":\\\"knockout\\\",\\\"type\\\":\\\"js\\\",\\\"url\\\":\\\"/assetserver/727383f2a47bd31570b7da84eee7b022dd6d7c78-knockout.js\\\"},{\\\"name\\\":\\\"knockout_punches\\\",\\\"type\\\":\\\"js\\\",\\\"url\\\":\\\"/assetserver/382b41b3b1bd9f26f75861d360bad7f8beea211f-knockout_punches.js\\\"}],\\\"type\\\":\\\"async_block\\\"})).then((imports) => handler.apply(this, imports));\\n}\\n\")])], Dict{Symbol, Any}(:className => \"field interact-widget\"))], Dict{Symbol, Any}(:style => Dict(\"display\" => \"flex\", \"flex-direction\" => \"row\")))], Dict{Symbol, Any}(:style => Dict(\"display\" => \"flex\", \"flex-direction\" => \"column\"))), Observable(MeshCat.DisplayedVisualizer(MeshCat.CoreVisualizer(MeshCat.SceneTrees.SceneNode(nothing, nothing, Dict{String, Vector{UInt8}}(), nothing, Dict{String, MeshCat.SceneTrees.SceneNode}(\"meshcat\" => MeshCat.SceneTrees.SceneNode(nothing, UInt8[0x83, 0xa6, 0x6d, 0x61, 0x74, 0x72, 0x69, 0x78, 0xc7, 0x40  …  0x68, 0xa8, 0x2f, 0x6d, 0x65, 0x73, 0x68, 0x63, 0x61, 0x74], Dict{String, Vector{UInt8}}(), nothing, Dict{String, MeshCat.SceneTrees.SceneNode}(\"agents\" => MeshCat.SceneTrees.SceneNode(nothing, nothing, Dict{String, Vector{UInt8}}(), nothing, Dict{String, MeshCat.SceneTrees.SceneNode}(\"131sphere\" => MeshCat.SceneTrees.SceneNode(nothing, UInt8[0x83, 0xa6, 0x6d, 0x61, 0x74, 0x72, 0x69, 0x78, 0xc7, 0x40  …  0x2f, 0x31, 0x33, 0x31, 0x73, 0x70, 0x68, 0x65, 0x72, 0x65], Dict{String, Vector{UInt8}}(\"scale\" => [0x84, 0xa8, 0x70, 0x72, 0x6f, 0x70, 0x65, 0x72, 0x74, 0x79  …  0x2f, 0x31, 0x33, 0x31, 0x73, 0x70, 0x68, 0x65, 0x72, 0x65]), nothing, Dict{String, MeshCat.SceneTrees.SceneNode}(\"(0.0N0f8, 1.0N0f8, 0.0N0f8, 1.0N0f8)\" => MeshCat.SceneTrees.SceneNode(UInt8[0x83, 0xa6, 0x6f, 0x62, 0x6a, 0x65, 0x63, 0x74, 0x84, 0xaa  …  0x2c, 0x20, 0x31, 0x2e, 0x30, 0x4e, 0x30, 0x66, 0x38, 0x29], nothing, Dict{String, Vector{UInt8}}(\"visible\" => [0x84, 0xa8, 0x70, 0x72, 0x6f, 0x70, 0x65, 0x72, 0x74, 0x79  …  0x2c, 0x20, 0x31, 0x2e, 0x30, 0x4e, 0x30, 0x66, 0x38, 0x29]), nothing, Dict{String, MeshCat.SceneTrees.SceneNode}()))), \"183sphere\" => MeshCat.SceneTrees.SceneNode(nothing, UInt8[0x83, 0xa6, 0x6d, 0x61, 0x74, 0x72, 0x69, 0x78, 0xc7, 0x40  …  0x2f, 0x31, 0x38, 0x33, 0x73, 0x70, 0x68, 0x65, 0x72, 0x65], Dict{String, Vector{UInt8}}(\"scale\" => [0x84, 0xa8, 0x70, 0x72, 0x6f, 0x70, 0x65, 0x72, 0x74, 0x79  …  0x2f, 0x31, 0x38, 0x33, 0x73, 0x70, 0x68, 0x65, 0x72, 0x65]), nothing, Dict{String, MeshCat.SceneTrees.SceneNode}(\"(0.0N0f8, 1.0N0f8, 0.0N0f8, 1.0N0f8)\" => MeshCat.SceneTrees.SceneNode(UInt8[0x83, 0xa6, 0x6f, 0x62, 0x6a, 0x65, 0x63, 0x74, 0x84, 0xaa  …  0x2c, 0x20, 0x31, 0x2e, 0x30, 0x4e, 0x30, 0x66, 0x38, 0x29], nothing, Dict{String, Vector{UInt8}}(\"visible\" => [0x84, 0xa8, 0x70, 0x72, 0x6f, 0x70, 0x65, 0x72, 0x74, 0x79  …  0x2c, 0x20, 0x31, 0x2e, 0x30, 0x4e, 0x30, 0x66, 0x38, 0x29]), nothing, Dict{String, MeshCat.SceneTrees.SceneNode}()))), \"186sphere\" => MeshCat.SceneTrees.SceneNode(nothing, UInt8[0x83, 0xa6, 0x6d, 0x61, 0x74, 0x72, 0x69, 0x78, 0xc7, 0x40  …  0x2f, 0x31, 0x38, 0x36, 0x73, 0x70, 0x68, 0x65, 0x72, 0x65], Dict{String, Vector{UInt8}}(\"scale\" => [0x84, 0xa8, 0x70, 0x72, 0x6f, 0x70, 0x65, 0x72, 0x74, 0x79  …  0x2f, 0x31, 0x38, 0x36, 0x73, 0x70, 0x68, 0x65, 0x72, 0x65]), nothing, Dict{String, MeshCat.SceneTrees.SceneNode}(\"(0.0N0f8, 1.0N0f8, 0.0N0f8, 1.0N0f8)\" => MeshCat.SceneTrees.SceneNode(UInt8[0x83, 0xa6, 0x6f, 0x62, 0x6a, 0x65, 0x63, 0x74, 0x84, 0xaa  …  0x2c, 0x20, 0x31, 0x2e, 0x30, 0x4e, 0x30, 0x66, 0x38, 0x29], nothing, Dict{String, Vector{UInt8}}(\"visible\" => [0x84, 0xa8, 0x70, 0x72, 0x6f, 0x70, 0x65, 0x72, 0x74, 0x79  …  0x2c, 0x20, 0x31, 0x2e, 0x30, 0x4e, 0x30, 0x66, 0x38, 0x29]), nothing, Dict{String, MeshCat.SceneTrees.SceneNode}()))), \"87sphere\" => MeshCat.SceneTrees.SceneNode(nothing, UInt8[0x83, 0xa6, 0x6d, 0x61, 0x74, 0x72, 0x69, 0x78, 0xc7, 0x40  …  0x73, 0x2f, 0x38, 0x37, 0x73, 0x70, 0x68, 0x65, 0x72, 0x65], Dict{String, Vector{UInt8}}(\"scale\" => [0x84, 0xa8, 0x70, 0x72, 0x6f, 0x70, 0x65, 0x72, 0x74, 0x79  …  0x73, 0x2f, 0x38, 0x37, 0x73, 0x70, 0x68, 0x65, 0x72, 0x65]), nothing, Dict{String, MeshCat.SceneTrees.SceneNode}(\"(0.0N0f8, 1.0N0f8, 0.0N0f8, 1.0N0f8)\" => MeshCat.SceneTrees.SceneNode(UInt8[0x83, 0xa6, 0x6f, 0x62, 0x6a, 0x65, 0x63, 0x74, 0x84, 0xaa  …  0x2c, 0x20, 0x31, 0x2e, 0x30, 0x4e, 0x30, 0x66, 0x38, 0x29], nothing, Dict{String, Vector{UInt8}}(\"visible\" => [0x84, 0xa8, 0x70, 0x72, 0x6f, 0x70, 0x65, 0x72, 0x74, 0x79  …  0x2c, 0x20, 0x31, 0x2e, 0x30, 0x4e, 0x30, 0x66, 0x38, 0x29]), nothing, Dict{String, MeshCat.SceneTrees.SceneNode}()))), \"130sphere\" => MeshCat.SceneTrees.SceneNode(nothing, UInt8[0x83, 0xa6, 0x6d, 0x61, 0x74, 0x72, 0x69, 0x78, 0xc7, 0x40  …  0x2f, 0x31, 0x33, 0x30, 0x73, 0x70, 0x68, 0x65, 0x72, 0x65], Dict{String, Vector{UInt8}}(\"scale\" => [0x84, 0xa8, 0x70, 0x72, 0x6f, 0x70, 0x65, 0x72, 0x74, 0x79  …  0x2f, 0x31, 0x33, 0x30, 0x73, 0x70, 0x68, 0x65, 0x72, 0x65]), nothing, Dict{String, MeshCat.SceneTrees.SceneNode}(\"(0.0N0f8, 1.0N0f8, 0.0N0f8, 1.0N0f8)\" => MeshCat.SceneTrees.SceneNode(UInt8[0x83, 0xa6, 0x6f, 0x62, 0x6a, 0x65, 0x63, 0x74, 0x84, 0xaa  …  0x2c, 0x20, 0x31, 0x2e, 0x30, 0x4e, 0x30, 0x66, 0x38, 0x29], nothing, Dict{String, Vector{UInt8}}(\"visible\" => [0x84, 0xa8, 0x70, 0x72, 0x6f, 0x70, 0x65, 0x72, 0x74, 0x79  …  0x2c, 0x20, 0x31, 0x2e, 0x30, 0x4e, 0x30, 0x66, 0x38, 0x29]), nothing, Dict{String, MeshCat.SceneTrees.SceneNode}()))), \"51sphere\" => MeshCat.SceneTrees.SceneNode(nothing, UInt8[0x83, 0xa6, 0x6d, 0x61, 0x74, 0x72, 0x69, 0x78, 0xc7, 0x40  …  0x73, 0x2f, 0x35, 0x31, 0x73, 0x70, 0x68, 0x65, 0x72, 0x65], Dict{String, Vector{UInt8}}(\"scale\" => [0x84, 0xa8, 0x70, 0x72, 0x6f, 0x70, 0x65, 0x72, 0x74, 0x79  …  0x73, 0x2f, 0x35, 0x31, 0x73, 0x70, 0x68, 0x65, 0x72, 0x65]), nothing, Dict{String, MeshCat.SceneTrees.SceneNode}(\"(1.0N0f8, 0.0N0f8, 0.0N0f8, 1.0N0f8)\" => MeshCat.SceneTrees.SceneNode(UInt8[0x83, 0xa6, 0x6f, 0x62, 0x6a, 0x65, 0x63, 0x74, 0x84, 0xaa  …  0x2c, 0x20, 0x31, 0x2e, 0x30, 0x4e, 0x30, 0x66, 0x38, 0x29], nothing, Dict{String, Vector{UInt8}}(\"visible\" => [0x84, 0xa8, 0x70, 0x72, 0x6f, 0x70, 0x65, 0x72, 0x74, 0x79  …  0x2c, 0x20, 0x31, 0x2e, 0x30, 0x4e, 0x30, 0x66, 0x38, 0x29]), nothing, Dict{String, MeshCat.SceneTrees.SceneNode}()))), \"9sphere\" => MeshCat.SceneTrees.SceneNode(nothing, UInt8[0x83, 0xa6, 0x6d, 0x61, 0x74, 0x72, 0x69, 0x78, 0xc7, 0x40  …  0x74, 0x73, 0x2f, 0x39, 0x73, 0x70, 0x68, 0x65, 0x72, 0x65], Dict{String, Vector{UInt8}}(\"scale\" => [0x84, 0xa8, 0x70, 0x72, 0x6f, 0x70, 0x65, 0x72, 0x74, 0x79  …  0x74, 0x73, 0x2f, 0x39, 0x73, 0x70, 0x68, 0x65, 0x72, 0x65]), nothing, Dict{String, MeshCat.SceneTrees.SceneNode}(\"(0.0N0f8, 1.0N0f8, 0.0N0f8, 1.0N0f8)\" => MeshCat.SceneTrees.SceneNode(UInt8[0x83, 0xa6, 0x6f, 0x62, 0x6a, 0x65, 0x63, 0x74, 0x84, 0xaa  …  0x2c, 0x20, 0x31, 0x2e, 0x30, 0x4e, 0x30, 0x66, 0x38, 0x29], nothing, Dict{String, Vector{UInt8}}(\"visible\" => [0x84, 0xa8, 0x70, 0x72, 0x6f, 0x70, 0x65, 0x72, 0x74, 0x79  …  0x2c, 0x20, 0x31, 0x2e, 0x30, 0x4e, 0x30, 0x66, 0x38, 0x29]), nothing, Dict{String, MeshCat.SceneTrees.SceneNode}()))), \"154sphere\" => MeshCat.SceneTrees.SceneNode(nothing, UInt8[0x83, 0xa6, 0x6d, 0x61, 0x74, 0x72, 0x69, 0x78, 0xc7, 0x40  …  0x2f, 0x31, 0x35, 0x34, 0x73, 0x70, 0x68, 0x65, 0x72, 0x65], Dict{String, Vector{UInt8}}(\"scale\" => [0x84, 0xa8, 0x70, 0x72, 0x6f, 0x70, 0x65, 0x72, 0x74, 0x79  …  0x2f, 0x31, 0x35, 0x34, 0x73, 0x70, 0x68, 0x65, 0x72, 0x65]), nothing, Dict{String, MeshCat.SceneTrees.SceneNode}(\"(1.0N0f8, 0.0N0f8, 0.0N0f8, 1.0N0f8)\" => MeshCat.SceneTrees.SceneNode(UInt8[0x83, 0xa6, 0x6f, 0x62, 0x6a, 0x65, 0x63, 0x74, 0x84, 0xaa  …  0x2c, 0x20, 0x31, 0x2e, 0x30, 0x4e, 0x30, 0x66, 0x38, 0x29], nothing, Dict{String, Vector{UInt8}}(\"visible\" => [0x84, 0xa8, 0x70, 0x72, 0x6f, 0x70, 0x65, 0x72, 0x74, 0x79  …  0x2c, 0x20, 0x31, 0x2e, 0x30, 0x4e, 0x30, 0x66, 0x38, 0x29]), nothing, Dict{String, MeshCat.SceneTrees.SceneNode}()))), \"102sphere\" => MeshCat.SceneTrees.SceneNode(nothing, UInt8[0x83, 0xa6, 0x6d, 0x61, 0x74, 0x72, 0x69, 0x78, 0xc7, 0x40  …  0x2f, 0x31, 0x30, 0x32, 0x73, 0x70, 0x68, 0x65, 0x72, 0x65], Dict{String, Vector{UInt8}}(\"scale\" => [0x84, 0xa8, 0x70, 0x72, 0x6f, 0x70, 0x65, 0x72, 0x74, 0x79  …  0x2f, 0x31, 0x30, 0x32, 0x73, 0x70, 0x68, 0x65, 0x72, 0x65]), nothing, Dict{String, MeshCat.SceneTrees.SceneNode}(\"(0.0N0f8, 1.0N0f8, 0.0N0f8, 1.0N0f8)\" => MeshCat.SceneTrees.SceneNode(UInt8[0x83, 0xa6, 0x6f, 0x62, 0x6a, 0x65, 0x63, 0x74, 0x84, 0xaa  …  0x2c, 0x20, 0x31, 0x2e, 0x30, 0x4e, 0x30, 0x66, 0x38, 0x29], nothing, Dict{String, Vector{UInt8}}(\"visible\" => [0x84, 0xa8, 0x70, 0x72, 0x6f, 0x70, 0x65, 0x72, 0x74, 0x79  …  0x2c, 0x20, 0x31, 0x2e, 0x30, 0x4e, 0x30, 0x66, 0x38, 0x29]), nothing, Dict{String, MeshCat.SceneTrees.SceneNode}()))), \"64sphere\" => MeshCat.SceneTrees.SceneNode(nothing, UInt8[0x83, 0xa6, 0x6d, 0x61, 0x74, 0x72, 0x69, 0x78, 0xc7, 0x40  …  0x73, 0x2f, 0x36, 0x34, 0x73, 0x70, 0x68, 0x65, 0x72, 0x65], Dict{String, Vector{UInt8}}(\"scale\" => [0x84, 0xa8, 0x70, 0x72, 0x6f, 0x70, 0x65, 0x72, 0x74, 0x79  …  0x73, 0x2f, 0x36, 0x34, 0x73, 0x70, 0x68, 0x65, 0x72, 0x65]), nothing, Dict{String, MeshCat.SceneTrees.SceneNode}(\"(1.0N0f8, 0.0N0f8, 0.0N0f8, 1.0N0f8)\" => MeshCat.SceneTrees.SceneNode(UInt8[0x83, 0xa6, 0x6f, 0x62, 0x6a, 0x65, 0x63, 0x74, 0x84, 0xaa  …  0x2c, 0x20, 0x31, 0x2e, 0x30, 0x4e, 0x30, 0x66, 0x38, 0x29], nothing, Dict{String, Vector{UInt8}}(\"visible\" => [0x84, 0xa8, 0x70, 0x72, 0x6f, 0x70, 0x65, 0x72, 0x74, 0x79  …  0x2c, 0x20, 0x31, 0x2e, 0x30, 0x4e, 0x30, 0x66, 0x38, 0x29]), nothing, Dict{String, MeshCat.SceneTrees.SceneNode}())))…)), \"bbox_line_segments\" => MeshCat.SceneTrees.SceneNode(nothing, nothing, Dict{String, Vector{UInt8}}(), nothing, Dict{String, MeshCat.SceneTrees.SceneNode}(\"4\" => MeshCat.SceneTrees.SceneNode(UInt8[0x83, 0xa6, 0x6f, 0x62, 0x6a, 0x65, 0x63, 0x74, 0x84, 0xaa  …  0x73, 0x65, 0x67, 0x6d, 0x65, 0x6e, 0x74, 0x73, 0x2f, 0x34], nothing, Dict{String, Vector{UInt8}}(), nothing, Dict{String, MeshCat.SceneTrees.SceneNode}()), \"1\" => MeshCat.SceneTrees.SceneNode(UInt8[0x83, 0xa6, 0x6f, 0x62, 0x6a, 0x65, 0x63, 0x74, 0x84, 0xaa  …  0x73, 0x65, 0x67, 0x6d, 0x65, 0x6e, 0x74, 0x73, 0x2f, 0x31], nothing, Dict{String, Vector{UInt8}}(), nothing, Dict{String, MeshCat.SceneTrees.SceneNode}()), \"12\" => MeshCat.SceneTrees.SceneNode(UInt8[0x83, 0xa6, 0x6f, 0x62, 0x6a, 0x65, 0x63, 0x74, 0x84, 0xaa  …  0x65, 0x67, 0x6d, 0x65, 0x6e, 0x74, 0x73, 0x2f, 0x31, 0x32], nothing, Dict{String, Vector{UInt8}}(), nothing, Dict{String, MeshCat.SceneTrees.SceneNode}()), \"2\" => MeshCat.SceneTrees.SceneNode(UInt8[0x83, 0xa6, 0x6f, 0x62, 0x6a, 0x65, 0x63, 0x74, 0x84, 0xaa  …  0x73, 0x65, 0x67, 0x6d, 0x65, 0x6e, 0x74, 0x73, 0x2f, 0x32], nothing, Dict{String, Vector{UInt8}}(), nothing, Dict{String, MeshCat.SceneTrees.SceneNode}()), \"6\" => MeshCat.SceneTrees.SceneNode(UInt8[0x83, 0xa6, 0x6f, 0x62, 0x6a, 0x65, 0x63, 0x74, 0x84, 0xaa  …  0x73, 0x65, 0x67, 0x6d, 0x65, 0x6e, 0x74, 0x73, 0x2f, 0x36], nothing, Dict{String, Vector{UInt8}}(), nothing, Dict{String, MeshCat.SceneTrees.SceneNode}()), \"11\" => MeshCat.SceneTrees.SceneNode(UInt8[0x83, 0xa6, 0x6f, 0x62, 0x6a, 0x65, 0x63, 0x74, 0x84, 0xaa  …  0x65, 0x67, 0x6d, 0x65, 0x6e, 0x74, 0x73, 0x2f, 0x31, 0x31], nothing, Dict{String, Vector{UInt8}}(), nothing, Dict{String, MeshCat.SceneTrees.SceneNode}()), \"5\" => MeshCat.SceneTrees.SceneNode(UInt8[0x83, 0xa6, 0x6f, 0x62, 0x6a, 0x65, 0x63, 0x74, 0x84, 0xaa  …  0x73, 0x65, 0x67, 0x6d, 0x65, 0x6e, 0x74, 0x73, 0x2f, 0x35], nothing, Dict{String, Vector{UInt8}}(), nothing, Dict{String, MeshCat.SceneTrees.SceneNode}()), \"7\" => MeshCat.SceneTrees.SceneNode(UInt8[0x83, 0xa6, 0x6f, 0x62, 0x6a, 0x65, 0x63, 0x74, 0x84, 0xaa  …  0x73, 0x65, 0x67, 0x6d, 0x65, 0x6e, 0x74, 0x73, 0x2f, 0x37], nothing, Dict{String, Vector{UInt8}}(), nothing, Dict{String, MeshCat.SceneTrees.SceneNode}()), \"8\" => MeshCat.SceneTrees.SceneNode(UInt8[0x83, 0xa6, 0x6f, 0x62, 0x6a, 0x65, 0x63, 0x74, 0x84, 0xaa  …  0x73, 0x65, 0x67, 0x6d, 0x65, 0x6e, 0x74, 0x73, 0x2f, 0x38], nothing, Dict{String, Vector{UInt8}}(), nothing, Dict{String, MeshCat.SceneTrees.SceneNode}()), \"10\" => MeshCat.SceneTrees.SceneNode(UInt8[0x83, 0xa6, 0x6f, 0x62, 0x6a, 0x65, 0x63, 0x74, 0x84, 0xaa  …  0x65, 0x67, 0x6d, 0x65, 0x6e, 0x74, 0x73, 0x2f, 0x31, 0x30], nothing, Dict{String, Vector{UInt8}}(), nothing, Dict{String, MeshCat.SceneTrees.SceneNode}())…)))), \"Axes\" => MeshCat.SceneTrees.SceneNode(nothing, nothing, Dict{String, Vector{UInt8}}(), nothing, Dict{String, MeshCat.SceneTrees.SceneNode}(\"<object>\" => MeshCat.SceneTrees.SceneNode(UInt8[0x83, 0xa6, 0x6f, 0x62, 0x6a, 0x65, 0x63, 0x74, 0x84, 0xaa  …  0x73, 0x2f, 0x3c, 0x6f, 0x62, 0x6a, 0x65, 0x63, 0x74, 0x3e], UInt8[0x83, 0xa6, 0x6d, 0x61, 0x74, 0x72, 0x69, 0x78, 0xc7, 0x40  …  0x73, 0x2f, 0x3c, 0x6f, 0x62, 0x6a, 0x65, 0x63, 0x74, 0x3e], Dict{String, Vector{UInt8}}(), nothing, Dict{String, MeshCat.SceneTrees.SceneNode}()))))), Set{HTTP.WebSockets.WebSocket}(), ip\"127.0.0.1\", 8702))), WebIO.Node{WebIO.DOM}(WebIO.DOM(:html, :div), Any[WebIO.Scope(WebIO.Node{WebIO.DOM}(WebIO.DOM(:html, :div), Any[], Dict{Symbol, Any}(:id => \"container\")), Dict{String, Tuple{Observables.AbstractObservable, Union{Nothing, Bool}}}(\"value\" => (Observable(\"\\\\;\\\\;\"), nothing)), Set{String}(), nothing, WebIO.Asset[WebIO.Asset(\"js\", nothing, \"/home/dushya/.julia/packages/InteractBase/LJXv3/src/../assets/katex.min.js\"), WebIO.Asset(\"css\", nothing, \"/home/dushya/.julia/packages/InteractBase/LJXv3/src/../assets/katex.min.css\")], Dict{Any, Any}(\"value\" => Any[WebIO.JSString(\"(function (txt){return this.k.render(txt,this.container)})\")]), WebIO.ConnectionPool(Channel{Any}(32), Set{WebIO.AbstractConnection}(), Base.GenericCondition{ReentrantLock}(Base.IntrusiveLinkedList{Task}(Task (runnable) @0x00007ff96f9295f0, Task (runnable) @0x00007ff96f9295f0), ReentrantLock(nothing, 0x00000000, 0x00, Base.GenericCondition{Base.Threads.SpinLock}(Base.IntrusiveLinkedList{Task}(nothing, nothing), Base.Threads.SpinLock(0)), (140711055719184, 140711082136640, 0)))), WebIO.JSString[WebIO.JSString(\"function () {\\n    var handler = ((function (k){this.k=k; this.container=this.dom.querySelector(\\\"#container\\\"); return k.render(\\\"\\\\\\\\;\\\\\\\\;\\\",this.container)}));\\n    (WebIO.importBlock({\\\"data\\\":[{\\\"name\\\":null,\\\"type\\\":\\\"js\\\",\\\"url\\\":\\\"/assetserver/dd22ed1bf1896c2748f3fe616ce0b838adc895c1-katex.min.js\\\"},{\\\"name\\\":null,\\\"type\\\":\\\"css\\\",\\\"url\\\":\\\"/assetserver/46517a424aa5e6cffc1360d7e0848b601c584ee3-katex.min.css\\\"}],\\\"type\\\":\\\"async_block\\\"})).then((imports) => handler.apply(this, imports));\\n}\\n\")])], Dict{Symbol, Any}(:className => \"interact-widget\")), WebIO.Node{WebIO.DOM}(WebIO.DOM(:html, :div), Any[Observable(Plot{Plots.GRBackend() n=2})], Dict{Symbol, Any}(:style => Dict(\"display\" => \"flex\", \"flex-direction\" => \"column\")))], Dict{Symbol, Any}(:style => Dict(\"display\" => \"flex\", \"flex-direction\" => \"row\")))], Dict{Symbol, Any}(:style => Dict(\"display\" => \"flex\", \"flex-direction\" => \"column\")))"
      ]
     },
     "execution_count": 9,
     "metadata": {
      "application/vnd.webio.node+json": {
       "kernelId": "522a93ae-8adc-477b-b043-8985b2df0da1"
      }
     },
     "output_type": "execute_result"
    }
   ],
   "source": [
    "create_interactive_app(model, initialiser= initialiser!,\n",
    "    step_rule=step_rule!,\n",
    "    model_controls=[(:min_alike, \"slider\", 1:12)], \n",
    "    agent_plots=Dict(\n",
    "        \"happy\"=> agent-> agent.mood == happy, \n",
    "        \"sad\"=> agent-> agent.mood == sad),\n",
    "    frames=200)   "
   ]
  },
  {
   "cell_type": "markdown",
   "metadata": {},
   "source": [
    "## Step 5: Fetch Data \n",
    "\n",
    "In this step we fetch data of number of happy and sad agents at each time step as a dataframe with following function. "
   ]
  },
  {
   "cell_type": "code",
   "execution_count": 10,
   "metadata": {
    "scrolled": true
   },
   "outputs": [
    {
     "data": {
      "image/png": "[encoded data removed]",
      "image/svg+xml": [
       "<?xml version=\"1.0\" encoding=\"utf-8\"?>\n",
       "<svg xmlns=\"http://www.w3.org/2000/svg\" xmlns:xlink=\"http://www.w3.org/1999/xlink\" width=\"600\" height=\"400\" viewBox=\"0 0 2400 1600\">\n",
       "<defs>\n",
       "  <clipPath id=\"clip540\">\n",
       "    <rect x=\"0\" y=\"0\" width=\"2400\" height=\"1600\"/>\n",
       "  </clipPath>\n",
       "</defs>\n",
       "<path clip-path=\"url(#clip540)\" d=\"M0 1600 L2400 1600 L2400 0 L0 0  Z\" fill=\"#ffffff\" fill-rule=\"evenodd\" fill-opacity=\"1\"/>\n",
       "<defs>\n",
       "  <clipPath id=\"clip541\">\n",
       "    <rect x=\"480\" y=\"0\" width=\"1681\" height=\"1600\"/>\n",
       "  </clipPath>\n",
       "</defs>\n",
       "<path clip-path=\"url(#clip540)\" d=\"M234.125 1423.18 L2352.76 1423.18 L2352.76 47.2441 L234.125 47.2441  Z\" fill=\"#ffffff\" fill-rule=\"evenodd\" fill-opacity=\"1\"/>\n",
       "<defs>\n",
       "  <clipPath id=\"clip542\">\n",
       "    <rect x=\"234\" y=\"47\" width=\"2120\" height=\"1377\"/>\n",
       "  </clipPath>\n",
       "</defs>\n",
       "<polyline clip-path=\"url(#clip542)\" style=\"stroke:#000000; stroke-linecap:round; stroke-linejoin:round; stroke-width:2; stroke-opacity:0.1; fill:none\" points=\"274.1,1423.18 274.1,47.2441 \"/>\n",
       "<polyline clip-path=\"url(#clip542)\" style=\"stroke:#000000; stroke-linecap:round; stroke-linejoin:round; stroke-width:2; stroke-opacity:0.1; fill:none\" points=\"773.777,1423.18 773.777,47.2441 \"/>\n",
       "<polyline clip-path=\"url(#clip542)\" style=\"stroke:#000000; stroke-linecap:round; stroke-linejoin:round; stroke-width:2; stroke-opacity:0.1; fill:none\" points=\"1273.45,1423.18 1273.45,47.2441 \"/>\n",
       "<polyline clip-path=\"url(#clip542)\" style=\"stroke:#000000; stroke-linecap:round; stroke-linejoin:round; stroke-width:2; stroke-opacity:0.1; fill:none\" points=\"1773.13,1423.18 1773.13,47.2441 \"/>\n",
       "<polyline clip-path=\"url(#clip542)\" style=\"stroke:#000000; stroke-linecap:round; stroke-linejoin:round; stroke-width:2; stroke-opacity:0.1; fill:none\" points=\"2272.81,1423.18 2272.81,47.2441 \"/>\n",
       "<polyline clip-path=\"url(#clip540)\" style=\"stroke:#000000; stroke-linecap:round; stroke-linejoin:round; stroke-width:4; stroke-opacity:1; fill:none\" points=\"234.125,1423.18 2352.76,1423.18 \"/>\n",
       "<polyline clip-path=\"url(#clip540)\" style=\"stroke:#000000; stroke-linecap:round; stroke-linejoin:round; stroke-width:4; stroke-opacity:1; fill:none\" points=\"274.1,1423.18 274.1,1404.28 \"/>\n",
       "<polyline clip-path=\"url(#clip540)\" style=\"stroke:#000000; stroke-linecap:round; stroke-linejoin:round; stroke-width:4; stroke-opacity:1; fill:none\" points=\"773.777,1423.18 773.777,1404.28 \"/>\n",
       "<polyline clip-path=\"url(#clip540)\" style=\"stroke:#000000; stroke-linecap:round; stroke-linejoin:round; stroke-width:4; stroke-opacity:1; fill:none\" points=\"1273.45,1423.18 1273.45,1404.28 \"/>\n",
       "<polyline clip-path=\"url(#clip540)\" style=\"stroke:#000000; stroke-linecap:round; stroke-linejoin:round; stroke-width:4; stroke-opacity:1; fill:none\" points=\"1773.13,1423.18 1773.13,1404.28 \"/>\n",
       "<polyline clip-path=\"url(#clip540)\" style=\"stroke:#000000; stroke-linecap:round; stroke-linejoin:round; stroke-width:4; stroke-opacity:1; fill:none\" points=\"2272.81,1423.18 2272.81,1404.28 \"/>\n",
       "<path clip-path=\"url(#clip540)\" d=\"M274.1 1454.1 Q270.489 1454.1 268.66 1457.66 Q266.854 1461.2 266.854 1468.33 Q266.854 1475.44 268.66 1479.01 Q270.489 1482.55 274.1 1482.55 Q277.734 1482.55 279.539 1479.01 Q281.368 1475.44 281.368 1468.33 Q281.368 1461.2 279.539 1457.66 Q277.734 1454.1 274.1 1454.1 M274.1 1450.39 Q279.91 1450.39 282.965 1455 Q286.044 1459.58 286.044 1468.33 Q286.044 1477.06 282.965 1481.67 Q279.91 1486.25 274.1 1486.25 Q268.289 1486.25 265.211 1481.67 Q262.155 1477.06 262.155 1468.33 Q262.155 1459.58 265.211 1455 Q268.289 1450.39 274.1 1450.39 Z\" fill=\"#000000\" fill-rule=\"nonzero\" fill-opacity=\"1\" /><path clip-path=\"url(#clip540)\" d=\"M753.048 1481.64 L769.367 1481.64 L769.367 1485.58 L747.423 1485.58 L747.423 1481.64 Q750.085 1478.89 754.668 1474.26 Q759.274 1469.61 760.455 1468.27 Q762.7 1465.74 763.58 1464.01 Q764.483 1462.25 764.483 1460.56 Q764.483 1457.8 762.538 1456.07 Q760.617 1454.33 757.515 1454.33 Q755.316 1454.33 752.862 1455.09 Q750.432 1455.86 747.654 1457.41 L747.654 1452.69 Q750.478 1451.55 752.932 1450.97 Q755.385 1450.39 757.423 1450.39 Q762.793 1450.39 765.987 1453.08 Q769.182 1455.77 769.182 1460.26 Q769.182 1462.39 768.372 1464.31 Q767.585 1466.2 765.478 1468.8 Q764.899 1469.47 761.798 1472.69 Q758.696 1475.88 753.048 1481.64 Z\" fill=\"#000000\" fill-rule=\"nonzero\" fill-opacity=\"1\" /><path clip-path=\"url(#clip540)\" d=\"M779.228 1451.02 L797.584 1451.02 L797.584 1454.96 L783.51 1454.96 L783.51 1463.43 Q784.529 1463.08 785.547 1462.92 Q786.566 1462.73 787.584 1462.73 Q793.371 1462.73 796.751 1465.9 Q800.131 1469.08 800.131 1474.49 Q800.131 1480.07 796.658 1483.17 Q793.186 1486.25 786.867 1486.25 Q784.691 1486.25 782.422 1485.88 Q780.177 1485.51 777.77 1484.77 L777.77 1480.07 Q779.853 1481.2 782.075 1481.76 Q784.297 1482.32 786.774 1482.32 Q790.779 1482.32 793.117 1480.21 Q795.455 1478.1 795.455 1474.49 Q795.455 1470.88 793.117 1468.77 Q790.779 1466.67 786.774 1466.67 Q784.899 1466.67 783.024 1467.08 Q781.172 1467.5 779.228 1468.38 L779.228 1451.02 Z\" fill=\"#000000\" fill-rule=\"nonzero\" fill-opacity=\"1\" /><path clip-path=\"url(#clip540)\" d=\"M1248.15 1451.02 L1266.51 1451.02 L1266.51 1454.96 L1252.44 1454.96 L1252.44 1463.43 Q1253.45 1463.08 1254.47 1462.92 Q1255.49 1462.73 1256.51 1462.73 Q1262.3 1462.73 1265.68 1465.9 Q1269.06 1469.08 1269.06 1474.49 Q1269.06 1480.07 1265.58 1483.17 Q1262.11 1486.25 1255.79 1486.25 Q1253.62 1486.25 1251.35 1485.88 Q1249.1 1485.51 1246.69 1484.77 L1246.69 1480.07 Q1248.78 1481.2 1251 1481.76 Q1253.22 1482.32 1255.7 1482.32 Q1259.7 1482.32 1262.04 1480.21 Q1264.38 1478.1 1264.38 1474.49 Q1264.38 1470.88 1262.04 1468.77 Q1259.7 1466.67 1255.7 1466.67 Q1253.82 1466.67 1251.95 1467.08 Q1250.1 1467.5 1248.15 1468.38 L1248.15 1451.02 Z\" fill=\"#000000\" fill-rule=\"nonzero\" fill-opacity=\"1\" /><path clip-path=\"url(#clip540)\" d=\"M1288.27 1454.1 Q1284.66 1454.1 1282.83 1457.66 Q1281.02 1461.2 1281.02 1468.33 Q1281.02 1475.44 1282.83 1479.01 Q1284.66 1482.55 1288.27 1482.55 Q1291.9 1482.55 1293.71 1479.01 Q1295.54 1475.44 1295.54 1468.33 Q1295.54 1461.2 1293.71 1457.66 Q1291.9 1454.1 1288.27 1454.1 M1288.27 1450.39 Q1294.08 1450.39 1297.13 1455 Q1300.21 1459.58 1300.21 1468.33 Q1300.21 1477.06 1297.13 1481.67 Q1294.08 1486.25 1288.27 1486.25 Q1282.46 1486.25 1279.38 1481.67 Q1276.32 1477.06 1276.32 1468.33 Q1276.32 1459.58 1279.38 1455 Q1282.46 1450.39 1288.27 1450.39 Z\" fill=\"#000000\" fill-rule=\"nonzero\" fill-opacity=\"1\" /><path clip-path=\"url(#clip540)\" d=\"M1746.98 1451.02 L1769.21 1451.02 L1769.21 1453.01 L1756.66 1485.58 L1751.78 1485.58 L1763.58 1454.96 L1746.98 1454.96 L1746.98 1451.02 Z\" fill=\"#000000\" fill-rule=\"nonzero\" fill-opacity=\"1\" /><path clip-path=\"url(#clip540)\" d=\"M1778.37 1451.02 L1796.73 1451.02 L1796.73 1454.96 L1782.66 1454.96 L1782.66 1463.43 Q1783.67 1463.08 1784.69 1462.92 Q1785.71 1462.73 1786.73 1462.73 Q1792.52 1462.73 1795.9 1465.9 Q1799.28 1469.08 1799.28 1474.49 Q1799.28 1480.07 1795.8 1483.17 Q1792.33 1486.25 1786.01 1486.25 Q1783.84 1486.25 1781.57 1485.88 Q1779.32 1485.51 1776.92 1484.77 L1776.92 1480.07 Q1779 1481.2 1781.22 1481.76 Q1783.44 1482.32 1785.92 1482.32 Q1789.92 1482.32 1792.26 1480.21 Q1794.6 1478.1 1794.6 1474.49 Q1794.6 1470.88 1792.26 1468.77 Q1789.92 1466.67 1785.92 1466.67 Q1784.04 1466.67 1782.17 1467.08 Q1780.32 1467.5 1778.37 1468.38 L1778.37 1451.02 Z\" fill=\"#000000\" fill-rule=\"nonzero\" fill-opacity=\"1\" /><path clip-path=\"url(#clip540)\" d=\"M2232.41 1481.64 L2240.05 1481.64 L2240.05 1455.28 L2231.74 1456.95 L2231.74 1452.69 L2240.01 1451.02 L2244.68 1451.02 L2244.68 1481.64 L2252.32 1481.64 L2252.32 1485.58 L2232.41 1485.58 L2232.41 1481.64 Z\" fill=\"#000000\" fill-rule=\"nonzero\" fill-opacity=\"1\" /><path clip-path=\"url(#clip540)\" d=\"M2271.77 1454.1 Q2268.15 1454.1 2266.33 1457.66 Q2264.52 1461.2 2264.52 1468.33 Q2264.52 1475.44 2266.33 1479.01 Q2268.15 1482.55 2271.77 1482.55 Q2275.4 1482.55 2277.21 1479.01 Q2279.03 1475.44 2279.03 1468.33 Q2279.03 1461.2 2277.21 1457.66 Q2275.4 1454.1 2271.77 1454.1 M2271.77 1450.39 Q2277.58 1450.39 2280.63 1455 Q2283.71 1459.58 2283.71 1468.33 Q2283.71 1477.06 2280.63 1481.67 Q2277.58 1486.25 2271.77 1486.25 Q2265.96 1486.25 2262.88 1481.67 Q2259.82 1477.06 2259.82 1468.33 Q2259.82 1459.58 2262.88 1455 Q2265.96 1450.39 2271.77 1450.39 Z\" fill=\"#000000\" fill-rule=\"nonzero\" fill-opacity=\"1\" /><path clip-path=\"url(#clip540)\" d=\"M2301.93 1454.1 Q2298.32 1454.1 2296.49 1457.66 Q2294.68 1461.2 2294.68 1468.33 Q2294.68 1475.44 2296.49 1479.01 Q2298.32 1482.55 2301.93 1482.55 Q2305.56 1482.55 2307.37 1479.01 Q2309.2 1475.44 2309.2 1468.33 Q2309.2 1461.2 2307.37 1457.66 Q2305.56 1454.1 2301.93 1454.1 M2301.93 1450.39 Q2307.74 1450.39 2310.79 1455 Q2313.87 1459.58 2313.87 1468.33 Q2313.87 1477.06 2310.79 1481.67 Q2307.74 1486.25 2301.93 1486.25 Q2296.12 1486.25 2293.04 1481.67 Q2289.98 1477.06 2289.98 1468.33 Q2289.98 1459.58 2293.04 1455 Q2296.12 1450.39 2301.93 1450.39 Z\" fill=\"#000000\" fill-rule=\"nonzero\" fill-opacity=\"1\" /><path clip-path=\"url(#clip540)\" d=\"M1230.48 1522.27 L1230.48 1532.4 L1242.55 1532.4 L1242.55 1536.95 L1230.48 1536.95 L1230.48 1556.3 Q1230.48 1560.66 1231.66 1561.9 Q1232.87 1563.14 1236.53 1563.14 L1242.55 1563.14 L1242.55 1568.04 L1236.53 1568.04 Q1229.75 1568.04 1227.17 1565.53 Q1224.6 1562.98 1224.6 1556.3 L1224.6 1536.95 L1220.3 1536.95 L1220.3 1532.4 L1224.6 1532.4 L1224.6 1522.27 L1230.48 1522.27 Z\" fill=\"#000000\" fill-rule=\"nonzero\" fill-opacity=\"1\" /><path clip-path=\"url(#clip540)\" d=\"M1250.25 1532.4 L1256.11 1532.4 L1256.11 1568.04 L1250.25 1568.04 L1250.25 1532.4 M1250.25 1518.52 L1256.11 1518.52 L1256.11 1525.93 L1250.25 1525.93 L1250.25 1518.52 Z\" fill=\"#000000\" fill-rule=\"nonzero\" fill-opacity=\"1\" /><path clip-path=\"url(#clip540)\" d=\"M1294.01 1533.76 L1294.01 1539.24 Q1291.53 1537.87 1289.02 1537.2 Q1286.53 1536.5 1283.99 1536.5 Q1278.29 1536.5 1275.14 1540.13 Q1271.99 1543.73 1271.99 1550.25 Q1271.99 1556.78 1275.14 1560.4 Q1278.29 1564 1283.99 1564 Q1286.53 1564 1289.02 1563.33 Q1291.53 1562.63 1294.01 1561.26 L1294.01 1566.68 Q1291.56 1567.82 1288.92 1568.39 Q1286.31 1568.97 1283.35 1568.97 Q1275.3 1568.97 1270.56 1563.91 Q1265.81 1558.85 1265.81 1550.25 Q1265.81 1541.53 1270.59 1536.53 Q1275.39 1531.54 1283.73 1531.54 Q1286.44 1531.54 1289.02 1532.11 Q1291.59 1532.65 1294.01 1533.76 Z\" fill=\"#000000\" fill-rule=\"nonzero\" fill-opacity=\"1\" /><path clip-path=\"url(#clip540)\" d=\"M1303.98 1518.52 L1309.86 1518.52 L1309.86 1547.77 L1327.34 1532.4 L1334.82 1532.4 L1315.91 1549.07 L1335.61 1568.04 L1327.97 1568.04 L1309.86 1550.63 L1309.86 1568.04 L1303.98 1568.04 L1303.98 1518.52 Z\" fill=\"#000000\" fill-rule=\"nonzero\" fill-opacity=\"1\" /><path clip-path=\"url(#clip540)\" d=\"M1364.67 1533.45 L1364.67 1538.98 Q1362.19 1537.71 1359.52 1537.07 Q1356.84 1536.44 1353.98 1536.44 Q1349.62 1536.44 1347.42 1537.77 Q1345.26 1539.11 1345.26 1541.79 Q1345.26 1543.82 1346.82 1545 Q1348.38 1546.15 1353.09 1547.2 L1355.09 1547.64 Q1361.33 1548.98 1363.94 1551.43 Q1366.58 1553.85 1366.58 1558.21 Q1366.58 1563.17 1362.64 1566.07 Q1358.72 1568.97 1351.85 1568.97 Q1348.98 1568.97 1345.86 1568.39 Q1342.77 1567.85 1339.34 1566.74 L1339.34 1560.69 Q1342.58 1562.38 1345.73 1563.24 Q1348.89 1564.07 1351.97 1564.07 Q1356.11 1564.07 1358.34 1562.66 Q1360.57 1561.23 1360.57 1558.65 Q1360.57 1556.27 1358.94 1554.99 Q1357.35 1553.72 1351.91 1552.54 L1349.87 1552.07 Q1344.43 1550.92 1342.01 1548.56 Q1339.59 1546.18 1339.59 1542.04 Q1339.59 1537.01 1343.16 1534.27 Q1346.72 1531.54 1353.28 1531.54 Q1356.52 1531.54 1359.39 1532.01 Q1362.25 1532.49 1364.67 1533.45 Z\" fill=\"#000000\" fill-rule=\"nonzero\" fill-opacity=\"1\" /><polyline clip-path=\"url(#clip542)\" style=\"stroke:#000000; stroke-linecap:round; stroke-linejoin:round; stroke-width:2; stroke-opacity:0.1; fill:none\" points=\"234.125,1390.79 2352.76,1390.79 \"/>\n",
       "<polyline clip-path=\"url(#clip542)\" style=\"stroke:#000000; stroke-linecap:round; stroke-linejoin:round; stroke-width:2; stroke-opacity:0.1; fill:none\" points=\"234.125,1063 2352.76,1063 \"/>\n",
       "<polyline clip-path=\"url(#clip542)\" style=\"stroke:#000000; stroke-linecap:round; stroke-linejoin:round; stroke-width:2; stroke-opacity:0.1; fill:none\" points=\"234.125,735.212 2352.76,735.212 \"/>\n",
       "<polyline clip-path=\"url(#clip542)\" style=\"stroke:#000000; stroke-linecap:round; stroke-linejoin:round; stroke-width:2; stroke-opacity:0.1; fill:none\" points=\"234.125,407.421 2352.76,407.421 \"/>\n",
       "<polyline clip-path=\"url(#clip542)\" style=\"stroke:#000000; stroke-linecap:round; stroke-linejoin:round; stroke-width:2; stroke-opacity:0.1; fill:none\" points=\"234.125,79.6299 2352.76,79.6299 \"/>\n",
       "<polyline clip-path=\"url(#clip540)\" style=\"stroke:#000000; stroke-linecap:round; stroke-linejoin:round; stroke-width:4; stroke-opacity:1; fill:none\" points=\"234.125,1423.18 234.125,47.2441 \"/>\n",
       "<polyline clip-path=\"url(#clip540)\" style=\"stroke:#000000; stroke-linecap:round; stroke-linejoin:round; stroke-width:4; stroke-opacity:1; fill:none\" points=\"234.125,1390.79 253.023,1390.79 \"/>\n",
       "<polyline clip-path=\"url(#clip540)\" style=\"stroke:#000000; stroke-linecap:round; stroke-linejoin:round; stroke-width:4; stroke-opacity:1; fill:none\" points=\"234.125,1063 253.023,1063 \"/>\n",
       "<polyline clip-path=\"url(#clip540)\" style=\"stroke:#000000; stroke-linecap:round; stroke-linejoin:round; stroke-width:4; stroke-opacity:1; fill:none\" points=\"234.125,735.212 253.023,735.212 \"/>\n",
       "<polyline clip-path=\"url(#clip540)\" style=\"stroke:#000000; stroke-linecap:round; stroke-linejoin:round; stroke-width:4; stroke-opacity:1; fill:none\" points=\"234.125,407.421 253.023,407.421 \"/>\n",
       "<polyline clip-path=\"url(#clip540)\" style=\"stroke:#000000; stroke-linecap:round; stroke-linejoin:round; stroke-width:4; stroke-opacity:1; fill:none\" points=\"234.125,79.6299 253.023,79.6299 \"/>\n",
       "<path clip-path=\"url(#clip540)\" d=\"M186.181 1376.59 Q182.57 1376.59 180.741 1380.16 Q178.936 1383.7 178.936 1390.83 Q178.936 1397.94 180.741 1401.5 Q182.57 1405.04 186.181 1405.04 Q189.815 1405.04 191.621 1401.5 Q193.45 1397.94 193.45 1390.83 Q193.45 1383.7 191.621 1380.16 Q189.815 1376.59 186.181 1376.59 M186.181 1372.89 Q191.991 1372.89 195.047 1377.5 Q198.125 1382.08 198.125 1390.83 Q198.125 1399.56 195.047 1404.16 Q191.991 1408.75 186.181 1408.75 Q180.371 1408.75 177.292 1404.16 Q174.237 1399.56 174.237 1390.83 Q174.237 1382.08 177.292 1377.5 Q180.371 1372.89 186.181 1372.89 Z\" fill=\"#000000\" fill-rule=\"nonzero\" fill-opacity=\"1\" /><path clip-path=\"url(#clip540)\" d=\"M146.066 1045.72 L164.422 1045.72 L164.422 1049.66 L150.348 1049.66 L150.348 1058.13 Q151.366 1057.78 152.385 1057.62 Q153.403 1057.44 154.422 1057.44 Q160.209 1057.44 163.589 1060.61 Q166.968 1063.78 166.968 1069.2 Q166.968 1074.77 163.496 1077.88 Q160.024 1080.95 153.704 1080.95 Q151.528 1080.95 149.26 1080.58 Q147.015 1080.21 144.607 1079.47 L144.607 1074.77 Q146.691 1075.91 148.913 1076.46 Q151.135 1077.02 153.612 1077.02 Q157.616 1077.02 159.954 1074.91 Q162.292 1072.81 162.292 1069.2 Q162.292 1065.58 159.954 1063.48 Q157.616 1061.37 153.612 1061.37 Q151.737 1061.37 149.862 1061.79 Q148.01 1062.2 146.066 1063.08 L146.066 1045.72 Z\" fill=\"#000000\" fill-rule=\"nonzero\" fill-opacity=\"1\" /><path clip-path=\"url(#clip540)\" d=\"M186.181 1048.8 Q182.57 1048.8 180.741 1052.37 Q178.936 1055.91 178.936 1063.04 Q178.936 1070.14 180.741 1073.71 Q182.57 1077.25 186.181 1077.25 Q189.815 1077.25 191.621 1073.71 Q193.45 1070.14 193.45 1063.04 Q193.45 1055.91 191.621 1052.37 Q189.815 1048.8 186.181 1048.8 M186.181 1045.1 Q191.991 1045.1 195.047 1049.7 Q198.125 1054.29 198.125 1063.04 Q198.125 1071.76 195.047 1076.37 Q191.991 1080.95 186.181 1080.95 Q180.371 1080.95 177.292 1076.37 Q174.237 1071.76 174.237 1063.04 Q174.237 1054.29 177.292 1049.7 Q180.371 1045.1 186.181 1045.1 Z\" fill=\"#000000\" fill-rule=\"nonzero\" fill-opacity=\"1\" /><path clip-path=\"url(#clip540)\" d=\"M116.668 748.557 L124.306 748.557 L124.306 722.191 L115.996 723.858 L115.996 719.599 L124.26 717.932 L128.936 717.932 L128.936 748.557 L136.575 748.557 L136.575 752.492 L116.668 752.492 L116.668 748.557 Z\" fill=\"#000000\" fill-rule=\"nonzero\" fill-opacity=\"1\" /><path clip-path=\"url(#clip540)\" d=\"M156.019 721.011 Q152.408 721.011 150.579 724.575 Q148.774 728.117 148.774 735.247 Q148.774 742.353 150.579 745.918 Q152.408 749.46 156.019 749.46 Q159.653 749.46 161.459 745.918 Q163.288 742.353 163.288 735.247 Q163.288 728.117 161.459 724.575 Q159.653 721.011 156.019 721.011 M156.019 717.307 Q161.829 717.307 164.885 721.913 Q167.964 726.497 167.964 735.247 Q167.964 743.973 164.885 748.58 Q161.829 753.163 156.019 753.163 Q150.209 753.163 147.13 748.58 Q144.075 743.973 144.075 735.247 Q144.075 726.497 147.13 721.913 Q150.209 717.307 156.019 717.307 Z\" fill=\"#000000\" fill-rule=\"nonzero\" fill-opacity=\"1\" /><path clip-path=\"url(#clip540)\" d=\"M186.181 721.011 Q182.57 721.011 180.741 724.575 Q178.936 728.117 178.936 735.247 Q178.936 742.353 180.741 745.918 Q182.57 749.46 186.181 749.46 Q189.815 749.46 191.621 745.918 Q193.45 742.353 193.45 735.247 Q193.45 728.117 191.621 724.575 Q189.815 721.011 186.181 721.011 M186.181 717.307 Q191.991 717.307 195.047 721.913 Q198.125 726.497 198.125 735.247 Q198.125 743.973 195.047 748.58 Q191.991 753.163 186.181 753.163 Q180.371 753.163 177.292 748.58 Q174.237 743.973 174.237 735.247 Q174.237 726.497 177.292 721.913 Q180.371 717.307 186.181 717.307 Z\" fill=\"#000000\" fill-rule=\"nonzero\" fill-opacity=\"1\" /><path clip-path=\"url(#clip540)\" d=\"M116.668 420.766 L124.306 420.766 L124.306 394.4 L115.996 396.067 L115.996 391.808 L124.26 390.141 L128.936 390.141 L128.936 420.766 L136.575 420.766 L136.575 424.701 L116.668 424.701 L116.668 420.766 Z\" fill=\"#000000\" fill-rule=\"nonzero\" fill-opacity=\"1\" /><path clip-path=\"url(#clip540)\" d=\"M146.066 390.141 L164.422 390.141 L164.422 394.076 L150.348 394.076 L150.348 402.548 Q151.366 402.201 152.385 402.039 Q153.403 401.854 154.422 401.854 Q160.209 401.854 163.589 405.025 Q166.968 408.196 166.968 413.613 Q166.968 419.192 163.496 422.294 Q160.024 425.372 153.704 425.372 Q151.528 425.372 149.26 425.002 Q147.015 424.631 144.607 423.891 L144.607 419.192 Q146.691 420.326 148.913 420.881 Q151.135 421.437 153.612 421.437 Q157.616 421.437 159.954 419.331 Q162.292 417.224 162.292 413.613 Q162.292 410.002 159.954 407.895 Q157.616 405.789 153.612 405.789 Q151.737 405.789 149.862 406.206 Q148.01 406.622 146.066 407.502 L146.066 390.141 Z\" fill=\"#000000\" fill-rule=\"nonzero\" fill-opacity=\"1\" /><path clip-path=\"url(#clip540)\" d=\"M186.181 393.22 Q182.57 393.22 180.741 396.784 Q178.936 400.326 178.936 407.456 Q178.936 414.562 180.741 418.127 Q182.57 421.669 186.181 421.669 Q189.815 421.669 191.621 418.127 Q193.45 414.562 193.45 407.456 Q193.45 400.326 191.621 396.784 Q189.815 393.22 186.181 393.22 M186.181 389.516 Q191.991 389.516 195.047 394.122 Q198.125 398.706 198.125 407.456 Q198.125 416.182 195.047 420.789 Q191.991 425.372 186.181 425.372 Q180.371 425.372 177.292 420.789 Q174.237 416.182 174.237 407.456 Q174.237 398.706 177.292 394.122 Q180.371 389.516 186.181 389.516 Z\" fill=\"#000000\" fill-rule=\"nonzero\" fill-opacity=\"1\" /><path clip-path=\"url(#clip540)\" d=\"M119.885 92.9747 L136.204 92.9747 L136.204 96.9099 L114.26 96.9099 L114.26 92.9747 Q116.922 90.2201 121.505 85.5905 Q126.112 80.9377 127.292 79.5951 Q129.538 77.072 130.417 75.3359 Q131.32 73.5766 131.32 71.8868 Q131.32 69.1322 129.376 67.3961 Q127.455 65.66 124.353 65.66 Q122.154 65.66 119.7 66.4239 Q117.269 67.1878 114.492 68.7387 L114.492 64.0165 Q117.316 62.8823 119.769 62.3036 Q122.223 61.7249 124.26 61.7249 Q129.63 61.7249 132.825 64.41 Q136.019 67.0952 136.019 71.5859 Q136.019 73.7155 135.209 75.6368 Q134.422 77.535 132.316 80.1275 Q131.737 80.7988 128.635 84.0164 Q125.533 87.2108 119.885 92.9747 Z\" fill=\"#000000\" fill-rule=\"nonzero\" fill-opacity=\"1\" /><path clip-path=\"url(#clip540)\" d=\"M156.019 65.4285 Q152.408 65.4285 150.579 68.9933 Q148.774 72.535 148.774 79.6646 Q148.774 86.771 150.579 90.3358 Q152.408 93.8775 156.019 93.8775 Q159.653 93.8775 161.459 90.3358 Q163.288 86.771 163.288 79.6646 Q163.288 72.535 161.459 68.9933 Q159.653 65.4285 156.019 65.4285 M156.019 61.7249 Q161.829 61.7249 164.885 66.3313 Q167.964 70.9146 167.964 79.6646 Q167.964 88.3914 164.885 92.9978 Q161.829 97.5811 156.019 97.5811 Q150.209 97.5811 147.13 92.9978 Q144.075 88.3914 144.075 79.6646 Q144.075 70.9146 147.13 66.3313 Q150.209 61.7249 156.019 61.7249 Z\" fill=\"#000000\" fill-rule=\"nonzero\" fill-opacity=\"1\" /><path clip-path=\"url(#clip540)\" d=\"M186.181 65.4285 Q182.57 65.4285 180.741 68.9933 Q178.936 72.535 178.936 79.6646 Q178.936 86.771 180.741 90.3358 Q182.57 93.8775 186.181 93.8775 Q189.815 93.8775 191.621 90.3358 Q193.45 86.771 193.45 79.6646 Q193.45 72.535 191.621 68.9933 Q189.815 65.4285 186.181 65.4285 M186.181 61.7249 Q191.991 61.7249 195.047 66.3313 Q198.125 70.9146 198.125 79.6646 Q198.125 88.3914 195.047 92.9978 Q191.991 97.5811 186.181 97.5811 Q180.371 97.5811 177.292 92.9978 Q174.237 88.3914 174.237 79.6646 Q174.237 70.9146 177.292 66.3313 Q180.371 61.7249 186.181 61.7249 Z\" fill=\"#000000\" fill-rule=\"nonzero\" fill-opacity=\"1\" /><path clip-path=\"url(#clip540)\" d=\"M42.4881 991.273 L64.0042 991.273 L64.0042 997.129 L42.679 997.129 Q37.6183 997.129 35.1038 999.102 Q32.5894 1001.08 32.5894 1005.02 Q32.5894 1009.76 35.6131 1012.5 Q38.6368 1015.24 43.8567 1015.24 L64.0042 1015.24 L64.0042 1021.13 L28.3562 1021.13 L28.3562 1015.24 L33.8944 1015.24 Q30.6797 1013.14 29.0883 1010.31 Q27.4968 1007.44 27.4968 1003.72 Q27.4968 997.575 31.3163 994.424 Q35.1038 991.273 42.4881 991.273 Z\" fill=\"#000000\" fill-rule=\"nonzero\" fill-opacity=\"1\" /><path clip-path=\"url(#clip540)\" d=\"M49.9359 980.196 L28.3562 980.196 L28.3562 974.34 L49.7131 974.34 Q54.7739 974.34 57.3202 972.366 Q59.8346 970.393 59.8346 966.446 Q59.8346 961.704 56.8109 958.967 Q53.7872 956.197 48.5673 956.197 L28.3562 956.197 L28.3562 950.341 L64.0042 950.341 L64.0042 956.197 L58.5296 956.197 Q61.7762 958.33 63.3676 961.163 Q64.9272 963.964 64.9272 967.688 Q64.9272 973.83 61.1078 977.013 Q57.2883 980.196 49.9359 980.196 M27.4968 965.46 L27.4968 965.46 Z\" fill=\"#000000\" fill-rule=\"nonzero\" fill-opacity=\"1\" /><path clip-path=\"url(#clip540)\" d=\"M35.1993 910.524 Q31.2526 908.327 29.3747 905.272 Q27.4968 902.216 27.4968 898.079 Q27.4968 892.509 31.4117 889.485 Q35.2948 886.461 42.4881 886.461 L64.0042 886.461 L64.0042 892.349 L42.679 892.349 Q37.5546 892.349 35.072 894.164 Q32.5894 895.978 32.5894 899.702 Q32.5894 904.253 35.6131 906.895 Q38.6368 909.537 43.8567 909.537 L64.0042 909.537 L64.0042 915.425 L42.679 915.425 Q37.5228 915.425 35.072 917.239 Q32.5894 919.054 32.5894 922.841 Q32.5894 927.329 35.6449 929.971 Q38.6686 932.613 43.8567 932.613 L64.0042 932.613 L64.0042 938.501 L28.3562 938.501 L28.3562 932.613 L33.8944 932.613 Q30.616 930.607 29.0564 927.806 Q27.4968 925.006 27.4968 921.154 Q27.4968 917.271 29.4702 914.566 Q31.4436 911.828 35.1993 910.524 Z\" fill=\"#000000\" fill-rule=\"nonzero\" fill-opacity=\"1\" /><path clip-path=\"url(#clip540)\" d=\"M46.212 849.19 Q39.7508 849.19 36.0905 851.864 Q32.3984 854.505 32.3984 859.152 Q32.3984 863.799 36.0905 866.473 Q39.7508 869.115 46.212 869.115 Q52.6732 869.115 56.3653 866.473 Q60.0256 863.799 60.0256 859.152 Q60.0256 854.505 56.3653 851.864 Q52.6732 849.19 46.212 849.19 M33.7671 869.115 Q30.5842 867.269 29.0564 864.468 Q27.4968 861.635 27.4968 857.72 Q27.4968 851.227 32.6531 847.185 Q37.8093 843.111 46.212 843.111 Q54.6147 843.111 59.771 847.185 Q64.9272 851.227 64.9272 857.72 Q64.9272 861.635 63.3994 864.468 Q61.8398 867.269 58.657 869.115 L64.0042 869.115 L64.0042 875.003 L14.479 875.003 L14.479 869.115 L33.7671 869.115 Z\" fill=\"#000000\" fill-rule=\"nonzero\" fill-opacity=\"1\" /><path clip-path=\"url(#clip540)\" d=\"M44.7161 802.911 L47.5806 802.911 L47.5806 829.838 Q53.6281 829.456 56.8109 826.21 Q59.9619 822.931 59.9619 817.107 Q59.9619 813.733 59.1344 810.582 Q58.3069 807.399 56.6518 804.28 L62.1899 804.28 Q63.5267 807.431 64.227 810.741 Q64.9272 814.051 64.9272 817.457 Q64.9272 825.987 59.9619 830.984 Q54.9967 835.949 46.5303 835.949 Q37.7774 835.949 32.6531 831.239 Q27.4968 826.496 27.4968 818.475 Q27.4968 811.282 32.1438 807.113 Q36.7589 802.911 44.7161 802.911 M42.9973 808.768 Q38.1912 808.831 35.3266 811.473 Q32.4621 814.083 32.4621 818.412 Q32.4621 823.313 35.2312 826.273 Q38.0002 829.202 43.0292 829.647 L42.9973 808.768 Z\" fill=\"#000000\" fill-rule=\"nonzero\" fill-opacity=\"1\" /><path clip-path=\"url(#clip540)\" d=\"M33.8307 772.642 Q33.2578 773.629 33.0032 774.807 Q32.7167 775.952 32.7167 777.353 Q32.7167 782.318 35.9632 784.992 Q39.1779 787.634 45.2253 787.634 L64.0042 787.634 L64.0042 793.522 L28.3562 793.522 L28.3562 787.634 L33.8944 787.634 Q30.6479 785.788 29.0883 782.827 Q27.4968 779.867 27.4968 775.634 Q27.4968 775.029 27.5923 774.297 Q27.656 773.565 27.8151 772.674 L33.8307 772.642 Z\" fill=\"#000000\" fill-rule=\"nonzero\" fill-opacity=\"1\" /><path clip-path=\"url(#clip540)\" d=\"M32.4621 731.965 Q32.4621 736.676 36.1542 739.413 Q39.8145 742.151 46.212 742.151 Q52.6095 742.151 56.3017 739.445 Q59.9619 736.708 59.9619 731.965 Q59.9619 727.287 56.2698 724.549 Q52.5777 721.812 46.212 721.812 Q39.8781 721.812 36.186 724.549 Q32.4621 727.287 32.4621 731.965 M27.4968 731.965 Q27.4968 724.327 32.4621 719.966 Q37.4273 715.606 46.212 715.606 Q54.9649 715.606 59.9619 719.966 Q64.9272 724.327 64.9272 731.965 Q64.9272 739.636 59.9619 743.997 Q54.9649 748.325 46.212 748.325 Q37.4273 748.325 32.4621 743.997 Q27.4968 739.636 27.4968 731.965 Z\" fill=\"#000000\" fill-rule=\"nonzero\" fill-opacity=\"1\" /><path clip-path=\"url(#clip540)\" d=\"M14.479 687.851 L19.3487 687.851 L19.3487 693.453 Q19.3487 696.604 20.6219 697.845 Q21.895 699.055 25.2052 699.055 L28.3562 699.055 L28.3562 689.411 L32.9077 689.411 L32.9077 699.055 L64.0042 699.055 L64.0042 704.943 L32.9077 704.943 L32.9077 710.545 L28.3562 710.545 L28.3562 704.943 L25.8736 704.943 Q19.9216 704.943 17.2162 702.174 Q14.479 699.405 14.479 693.389 L14.479 687.851 Z\" fill=\"#000000\" fill-rule=\"nonzero\" fill-opacity=\"1\" /><path clip-path=\"url(#clip540)\" d=\"M46.0847 646.028 Q46.0847 653.126 47.7079 655.863 Q49.3312 658.601 53.2461 658.601 Q56.3653 658.601 58.2114 656.564 Q60.0256 654.495 60.0256 650.962 Q60.0256 646.092 56.5881 643.164 Q53.1188 640.204 47.3897 640.204 L46.0847 640.204 L46.0847 646.028 M43.6657 634.347 L64.0042 634.347 L64.0042 640.204 L58.5933 640.204 Q61.8398 642.209 63.3994 645.201 Q64.9272 648.193 64.9272 652.521 Q64.9272 657.996 61.8716 661.242 Q58.7843 664.457 53.6281 664.457 Q47.6125 664.457 44.5569 660.447 Q41.5014 656.405 41.5014 648.416 L41.5014 640.204 L40.9285 640.204 Q36.8862 640.204 34.6901 642.877 Q32.4621 645.519 32.4621 650.325 Q32.4621 653.381 33.1941 656.277 Q33.9262 659.174 35.3903 661.847 L29.9795 661.847 Q28.7381 658.633 28.1334 655.609 Q27.4968 652.585 27.4968 649.721 Q27.4968 641.986 31.5072 638.167 Q35.5176 634.347 43.6657 634.347 Z\" fill=\"#000000\" fill-rule=\"nonzero\" fill-opacity=\"1\" /><path clip-path=\"url(#clip540)\" d=\"M45.7664 598.827 Q39.4007 598.827 35.8996 601.468 Q32.3984 604.078 32.3984 608.821 Q32.3984 613.531 35.8996 616.173 Q39.4007 618.783 45.7664 618.783 Q52.1003 618.783 55.6014 616.173 Q59.1026 613.531 59.1026 608.821 Q59.1026 604.078 55.6014 601.468 Q52.1003 598.827 45.7664 598.827 M59.58 592.97 Q68.683 592.97 73.1071 597.012 Q77.5631 601.055 77.5631 609.394 Q77.5631 612.481 77.0857 615.218 Q76.6401 617.956 75.6852 620.534 L69.9879 620.534 Q71.3884 617.956 72.0568 615.441 Q72.7252 612.927 72.7252 610.317 Q72.7252 604.556 69.7015 601.691 Q66.7096 598.827 60.6303 598.827 L57.7339 598.827 Q60.885 600.641 62.4446 603.474 Q64.0042 606.306 64.0042 610.253 Q64.0042 616.81 59.0071 620.82 Q54.01 624.831 45.7664 624.831 Q37.491 624.831 32.4939 620.82 Q27.4968 616.81 27.4968 610.253 Q27.4968 606.306 29.0564 603.474 Q30.616 600.641 33.7671 598.827 L28.3562 598.827 L28.3562 592.97 L59.58 592.97 Z\" fill=\"#000000\" fill-rule=\"nonzero\" fill-opacity=\"1\" /><path clip-path=\"url(#clip540)\" d=\"M44.7161 550.416 L47.5806 550.416 L47.5806 577.342 Q53.6281 576.961 56.8109 573.714 Q59.9619 570.436 59.9619 564.611 Q59.9619 561.237 59.1344 558.086 Q58.3069 554.903 56.6518 551.784 L62.1899 551.784 Q63.5267 554.935 64.227 558.245 Q64.9272 561.555 64.9272 564.961 Q64.9272 573.491 59.9619 578.488 Q54.9967 583.454 46.5303 583.454 Q37.7774 583.454 32.6531 578.743 Q27.4968 574 27.4968 565.98 Q27.4968 558.786 32.1438 554.617 Q36.7589 550.416 44.7161 550.416 M42.9973 556.272 Q38.1912 556.336 35.3266 558.977 Q32.4621 561.587 32.4621 565.916 Q32.4621 570.818 35.2312 573.778 Q38.0002 576.706 43.0292 577.151 L42.9973 556.272 Z\" fill=\"#000000\" fill-rule=\"nonzero\" fill-opacity=\"1\" /><path clip-path=\"url(#clip540)\" d=\"M42.4881 511.171 L64.0042 511.171 L64.0042 517.027 L42.679 517.027 Q37.6183 517.027 35.1038 519.001 Q32.5894 520.974 32.5894 524.921 Q32.5894 529.663 35.6131 532.401 Q38.6368 535.138 43.8567 535.138 L64.0042 535.138 L64.0042 541.026 L28.3562 541.026 L28.3562 535.138 L33.8944 535.138 Q30.6797 533.037 29.0883 530.204 Q27.4968 527.34 27.4968 523.616 Q27.4968 517.473 31.3163 514.322 Q35.1038 511.171 42.4881 511.171 Z\" fill=\"#000000\" fill-rule=\"nonzero\" fill-opacity=\"1\" /><path clip-path=\"url(#clip540)\" d=\"M18.2347 493.697 L28.3562 493.697 L28.3562 481.634 L32.9077 481.634 L32.9077 493.697 L52.2594 493.697 Q56.6199 493.697 57.8613 492.519 Q59.1026 491.31 59.1026 487.65 L59.1026 481.634 L64.0042 481.634 L64.0042 487.65 Q64.0042 494.429 61.4897 497.007 Q58.9434 499.585 52.2594 499.585 L32.9077 499.585 L32.9077 503.882 L28.3562 503.882 L28.3562 499.585 L18.2347 499.585 L18.2347 493.697 Z\" fill=\"#000000\" fill-rule=\"nonzero\" fill-opacity=\"1\" /><path clip-path=\"url(#clip540)\" d=\"M29.4065 451.206 L34.9447 451.206 Q33.6716 453.689 33.035 456.362 Q32.3984 459.036 32.3984 461.9 Q32.3984 466.261 33.7352 468.457 Q35.072 470.621 37.7456 470.621 Q39.7826 470.621 40.9603 469.062 Q42.1061 467.502 43.1565 462.792 L43.6021 460.786 Q44.9389 454.548 47.3897 451.938 Q49.8086 449.296 54.1691 449.296 Q59.1344 449.296 62.0308 453.243 Q64.9272 457.158 64.9272 464.033 Q64.9272 466.897 64.3543 470.017 Q63.8132 473.104 62.6992 476.541 L56.6518 476.541 Q58.3387 473.295 59.198 470.144 Q60.0256 466.993 60.0256 463.906 Q60.0256 459.768 58.6251 457.54 Q57.1929 455.312 54.6147 455.312 Q52.2276 455.312 50.9545 456.935 Q49.6813 458.527 48.5037 463.969 L48.0262 466.006 Q46.8804 471.449 44.5251 473.868 Q42.138 476.287 38.0002 476.287 Q32.9713 476.287 30.2341 472.722 Q27.4968 469.157 27.4968 462.601 Q27.4968 459.354 27.9743 456.49 Q28.4517 453.625 29.4065 451.206 Z\" fill=\"#000000\" fill-rule=\"nonzero\" fill-opacity=\"1\" /><polyline clip-path=\"url(#clip542)\" style=\"stroke:#009af9; stroke-linecap:round; stroke-linejoin:round; stroke-width:4; stroke-opacity:1; fill:none\" points=\"294.087,1167.9 314.074,1115.45 334.061,840.105 354.048,649.986 374.035,597.54 394.022,499.202 414.009,525.426 433.996,486.091 453.983,440.2 473.97,387.753 493.957,354.974 513.945,289.416 533.932,276.304 553.919,282.86 573.906,282.86 593.893,250.081 613.88,223.858 633.867,210.746 653.854,210.746 673.841,210.746 693.828,184.523 713.815,158.3 733.802,164.856 753.79,145.188 773.777,132.076 793.764,118.965 813.751,112.409 833.738,99.2973 853.725,105.853 873.712,105.853 893.699,105.853 913.686,105.853 933.673,105.853 953.66,105.853 973.647,105.853 993.634,92.7415 1013.62,92.7415 1033.61,92.7415 1053.6,92.7415 1073.58,92.7415 1093.57,92.7415 1113.56,92.7415 1133.54,92.7415 1153.53,92.7415 1173.52,92.7415 1193.51,92.7415 1213.49,92.7415 1233.48,92.7415 1253.47,92.7415 1273.45,92.7415 1293.44,92.7415 1313.43,92.7415 1333.41,92.7415 1353.4,92.7415 1373.39,92.7415 1393.38,92.7415 1413.36,92.7415 1433.35,92.7415 1453.34,92.7415 1473.32,92.7415 1493.31,92.7415 1513.3,92.7415 1533.29,92.7415 1553.27,92.7415 1573.26,92.7415 1593.25,92.7415 1613.23,92.7415 1633.22,92.7415 1653.21,92.7415 1673.2,86.1857 1693.18,86.1857 1713.17,86.1857 1733.16,86.1857 1753.14,86.1857 1773.13,86.1857 1793.12,86.1857 1813.1,86.1857 1833.09,86.1857 1853.08,86.1857 1873.07,86.1857 1893.05,86.1857 1913.04,86.1857 1933.03,86.1857 1953.01,86.1857 1973,86.1857 1992.99,86.1857 2012.98,86.1857 2032.96,86.1857 2052.95,86.1857 2072.94,86.1857 2092.92,86.1857 2112.91,86.1857 2132.9,86.1857 2152.89,86.1857 2172.87,86.1857 2192.86,86.1857 2212.85,86.1857 2232.83,86.1857 2252.82,86.1857 2272.81,86.1857 2292.79,86.1857 \"/>\n",
       "<polyline clip-path=\"url(#clip542)\" style=\"stroke:#e26f46; stroke-linecap:round; stroke-linejoin:round; stroke-width:4; stroke-opacity:1; fill:none\" points=\"294.087,302.528 314.074,354.974 334.061,630.319 354.048,820.438 374.035,872.884 394.022,971.222 414.009,944.998 433.996,984.333 453.983,1030.22 473.97,1082.67 493.957,1115.45 513.945,1181.01 533.932,1194.12 553.919,1187.56 573.906,1187.56 593.893,1220.34 613.88,1246.57 633.867,1259.68 653.854,1259.68 673.841,1259.68 693.828,1285.9 713.815,1312.12 733.802,1305.57 753.79,1325.24 773.777,1338.35 793.764,1351.46 813.751,1358.01 833.738,1371.13 853.725,1364.57 873.712,1364.57 893.699,1364.57 913.686,1364.57 933.673,1364.57 953.66,1364.57 973.647,1364.57 993.634,1377.68 1013.62,1377.68 1033.61,1377.68 1053.6,1377.68 1073.58,1377.68 1093.57,1377.68 1113.56,1377.68 1133.54,1377.68 1153.53,1377.68 1173.52,1377.68 1193.51,1377.68 1213.49,1377.68 1233.48,1377.68 1253.47,1377.68 1273.45,1377.68 1293.44,1377.68 1313.43,1377.68 1333.41,1377.68 1353.4,1377.68 1373.39,1377.68 1393.38,1377.68 1413.36,1377.68 1433.35,1377.68 1453.34,1377.68 1473.32,1377.68 1493.31,1377.68 1513.3,1377.68 1533.29,1377.68 1553.27,1377.68 1573.26,1377.68 1593.25,1377.68 1613.23,1377.68 1633.22,1377.68 1653.21,1377.68 1673.2,1384.24 1693.18,1384.24 1713.17,1384.24 1733.16,1384.24 1753.14,1384.24 1773.13,1384.24 1793.12,1384.24 1813.1,1384.24 1833.09,1384.24 1853.08,1384.24 1873.07,1384.24 1893.05,1384.24 1913.04,1384.24 1933.03,1384.24 1953.01,1384.24 1973,1384.24 1992.99,1384.24 2012.98,1384.24 2032.96,1384.24 2052.95,1384.24 2072.94,1384.24 2092.92,1384.24 2112.91,1384.24 2132.9,1384.24 2152.89,1384.24 2172.87,1384.24 2192.86,1384.24 2212.85,1384.24 2232.83,1384.24 2252.82,1384.24 2272.81,1384.24 2292.79,1384.24 \"/>\n",
       "<path clip-path=\"url(#clip540)\" d=\"M1928.65 248.629 L2282.13 248.629 L2282.13 93.1086 L1928.65 93.1086  Z\" fill=\"#ffffff\" fill-rule=\"evenodd\" fill-opacity=\"1\"/>\n",
       "<polyline clip-path=\"url(#clip540)\" style=\"stroke:#000000; stroke-linecap:round; stroke-linejoin:round; stroke-width:4; stroke-opacity:1; fill:none\" points=\"1928.65,248.629 2282.13,248.629 2282.13,93.1086 1928.65,93.1086 1928.65,248.629 \"/>\n",
       "<polyline clip-path=\"url(#clip540)\" style=\"stroke:#009af9; stroke-linecap:round; stroke-linejoin:round; stroke-width:4; stroke-opacity:1; fill:none\" points=\"1952.19,144.949 2093.43,144.949 \"/>\n",
       "<path clip-path=\"url(#clip540)\" d=\"M2138.69 146.581 L2138.69 162.229 L2134.43 162.229 L2134.43 146.719 Q2134.43 143.039 2132.99 141.21 Q2131.56 139.382 2128.69 139.382 Q2125.24 139.382 2123.25 141.581 Q2121.26 143.78 2121.26 147.576 L2121.26 162.229 L2116.97 162.229 L2116.97 126.21 L2121.26 126.21 L2121.26 140.331 Q2122.79 137.993 2124.85 136.835 Q2126.93 135.678 2129.64 135.678 Q2134.1 135.678 2136.4 138.456 Q2138.69 141.21 2138.69 146.581 Z\" fill=\"#000000\" fill-rule=\"nonzero\" fill-opacity=\"1\" /><path clip-path=\"url(#clip540)\" d=\"M2158.97 149.196 Q2153.8 149.196 2151.81 150.377 Q2149.82 151.557 2149.82 154.405 Q2149.82 156.673 2151.3 158.016 Q2152.81 159.335 2155.38 159.335 Q2158.92 159.335 2161.05 156.835 Q2163.2 154.312 2163.2 150.145 L2163.2 149.196 L2158.97 149.196 M2167.46 147.437 L2167.46 162.229 L2163.2 162.229 L2163.2 158.293 Q2161.74 160.655 2159.57 161.789 Q2157.39 162.9 2154.24 162.9 Q2150.26 162.9 2147.9 160.678 Q2145.56 158.432 2145.56 154.682 Q2145.56 150.307 2148.48 148.085 Q2151.42 145.863 2157.23 145.863 L2163.2 145.863 L2163.2 145.446 Q2163.2 142.507 2161.26 140.909 Q2159.34 139.289 2155.84 139.289 Q2153.62 139.289 2151.51 139.821 Q2149.41 140.354 2147.46 141.419 L2147.46 137.483 Q2149.8 136.581 2152 136.141 Q2154.2 135.678 2156.28 135.678 Q2161.91 135.678 2164.68 138.594 Q2167.46 141.511 2167.46 147.437 Z\" fill=\"#000000\" fill-rule=\"nonzero\" fill-opacity=\"1\" /><path clip-path=\"url(#clip540)\" d=\"M2180.35 158.34 L2180.35 172.09 L2176.07 172.09 L2176.07 136.303 L2180.35 136.303 L2180.35 140.238 Q2181.7 137.923 2183.73 136.812 Q2185.79 135.678 2188.64 135.678 Q2193.36 135.678 2196.3 139.428 Q2199.27 143.178 2199.27 149.289 Q2199.27 155.4 2196.3 159.15 Q2193.36 162.9 2188.64 162.9 Q2185.79 162.9 2183.73 161.789 Q2181.7 160.655 2180.35 158.34 M2194.84 149.289 Q2194.84 144.59 2192.9 141.928 Q2190.98 139.243 2187.6 139.243 Q2184.22 139.243 2182.28 141.928 Q2180.35 144.59 2180.35 149.289 Q2180.35 153.988 2182.28 156.673 Q2184.22 159.335 2187.6 159.335 Q2190.98 159.335 2192.9 156.673 Q2194.84 153.988 2194.84 149.289 Z\" fill=\"#000000\" fill-rule=\"nonzero\" fill-opacity=\"1\" /><path clip-path=\"url(#clip540)\" d=\"M2210.45 158.34 L2210.45 172.09 L2206.16 172.09 L2206.16 136.303 L2210.45 136.303 L2210.45 140.238 Q2211.79 137.923 2213.83 136.812 Q2215.89 135.678 2218.73 135.678 Q2223.46 135.678 2226.4 139.428 Q2229.36 143.178 2229.36 149.289 Q2229.36 155.4 2226.4 159.15 Q2223.46 162.9 2218.73 162.9 Q2215.89 162.9 2213.83 161.789 Q2211.79 160.655 2210.45 158.34 M2224.94 149.289 Q2224.94 144.59 2222.99 141.928 Q2221.07 139.243 2217.69 139.243 Q2214.31 139.243 2212.37 141.928 Q2210.45 144.59 2210.45 149.289 Q2210.45 153.988 2212.37 156.673 Q2214.31 159.335 2217.69 159.335 Q2221.07 159.335 2222.99 156.673 Q2224.94 153.988 2224.94 149.289 Z\" fill=\"#000000\" fill-rule=\"nonzero\" fill-opacity=\"1\" /><path clip-path=\"url(#clip540)\" d=\"M2247.21 164.636 Q2245.4 169.266 2243.69 170.678 Q2241.97 172.09 2239.1 172.09 L2235.7 172.09 L2235.7 168.525 L2238.2 168.525 Q2239.96 168.525 2240.93 167.692 Q2241.9 166.858 2243.09 163.756 L2243.85 161.812 L2233.36 136.303 L2237.88 136.303 L2245.98 156.581 L2254.08 136.303 L2258.59 136.303 L2247.21 164.636 Z\" fill=\"#000000\" fill-rule=\"nonzero\" fill-opacity=\"1\" /><polyline clip-path=\"url(#clip540)\" style=\"stroke:#e26f46; stroke-linecap:round; stroke-linejoin:round; stroke-width:4; stroke-opacity:1; fill:none\" points=\"1952.19,196.789 2093.43,196.789 \"/>\n",
       "<path clip-path=\"url(#clip540)\" d=\"M2135.4 188.907 L2135.4 192.934 Q2133.6 192.009 2131.65 191.546 Q2129.71 191.083 2127.62 191.083 Q2124.45 191.083 2122.85 192.055 Q2121.28 193.027 2121.28 194.971 Q2121.28 196.453 2122.41 197.309 Q2123.55 198.143 2126.97 198.907 L2128.43 199.231 Q2132.97 200.203 2134.87 201.985 Q2136.79 203.745 2136.79 206.916 Q2136.79 210.527 2133.92 212.633 Q2131.07 214.74 2126.07 214.74 Q2123.99 214.74 2121.72 214.323 Q2119.47 213.93 2116.97 213.12 L2116.97 208.721 Q2119.34 209.948 2121.63 210.573 Q2123.92 211.175 2126.16 211.175 Q2129.17 211.175 2130.79 210.157 Q2132.41 209.115 2132.41 207.24 Q2132.41 205.504 2131.23 204.578 Q2130.08 203.652 2126.12 202.796 L2124.64 202.448 Q2120.68 201.615 2118.92 199.902 Q2117.16 198.166 2117.16 195.157 Q2117.16 191.499 2119.75 189.509 Q2122.35 187.518 2127.11 187.518 Q2129.47 187.518 2131.56 187.865 Q2133.64 188.212 2135.4 188.907 Z\" fill=\"#000000\" fill-rule=\"nonzero\" fill-opacity=\"1\" /><path clip-path=\"url(#clip540)\" d=\"M2155.35 201.036 Q2150.19 201.036 2148.2 202.217 Q2146.21 203.397 2146.21 206.245 Q2146.21 208.513 2147.69 209.856 Q2149.2 211.175 2151.77 211.175 Q2155.31 211.175 2157.44 208.675 Q2159.59 206.152 2159.59 201.985 L2159.59 201.036 L2155.35 201.036 M2163.85 199.277 L2163.85 214.069 L2159.59 214.069 L2159.59 210.133 Q2158.13 212.495 2155.96 213.629 Q2153.78 214.74 2150.63 214.74 Q2146.65 214.74 2144.29 212.518 Q2141.95 210.272 2141.95 206.522 Q2141.95 202.147 2144.87 199.925 Q2147.81 197.703 2153.62 197.703 L2159.59 197.703 L2159.59 197.286 Q2159.59 194.347 2157.65 192.749 Q2155.72 191.129 2152.23 191.129 Q2150.01 191.129 2147.9 191.661 Q2145.79 192.194 2143.85 193.259 L2143.85 189.323 Q2146.19 188.421 2148.39 187.981 Q2150.59 187.518 2152.67 187.518 Q2158.29 187.518 2161.07 190.434 Q2163.85 193.351 2163.85 199.277 Z\" fill=\"#000000\" fill-rule=\"nonzero\" fill-opacity=\"1\" /><path clip-path=\"url(#clip540)\" d=\"M2189.68 192.078 L2189.68 178.05 L2193.94 178.05 L2193.94 214.069 L2189.68 214.069 L2189.68 210.18 Q2188.34 212.495 2186.28 213.629 Q2184.24 214.74 2181.37 214.74 Q2176.67 214.74 2173.71 210.99 Q2170.77 207.24 2170.77 201.129 Q2170.77 195.018 2173.71 191.268 Q2176.67 187.518 2181.37 187.518 Q2184.24 187.518 2186.28 188.652 Q2188.34 189.763 2189.68 192.078 M2175.17 201.129 Q2175.17 205.828 2177.09 208.513 Q2179.03 211.175 2182.41 211.175 Q2185.79 211.175 2187.74 208.513 Q2189.68 205.828 2189.68 201.129 Q2189.68 196.43 2187.74 193.768 Q2185.79 191.083 2182.41 191.083 Q2179.03 191.083 2177.09 193.768 Q2175.17 196.43 2175.17 201.129 Z\" fill=\"#000000\" fill-rule=\"nonzero\" fill-opacity=\"1\" /></svg>\n"
      ],
      "text/html": [
       "<img src=\"data:image/png;base64,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\" />"
      ]
     },
     "metadata": {},
     "output_type": "display_data"
    },
    {
     "data": {
      "text/html": [
       "<div><div style = \"float: left;\"><span>101×2 DataFrame</span></div><div style = \"float: right;\"><span style = \"font-style: italic;\">76 rows omitted</span></div><div style = \"clear: both;\"></div></div><div class = \"data-frame\" style = \"overflow-x: scroll;\"><table class = \"data-frame\" style = \"margin-bottom: 6px;\"><thead><tr class = \"header\"><th class = \"rowNumber\" style = \"font-weight: bold; text-align: right;\">Row</th><th style = \"text-align: left;\">happy</th><th style = \"text-align: left;\">sad</th></tr><tr class = \"subheader headerLastRow\"><th class = \"rowNumber\" style = \"font-weight: bold; text-align: right;\"></th><th title = \"Int64\" style = \"text-align: left;\">Int64</th><th title = \"Int64\" style = \"text-align: left;\">Int64</th></tr></thead><tbody><tr><td class = \"rowNumber\" style = \"font-weight: bold; text-align: right;\">1</td><td style = \"text-align: right;\">34</td><td style = \"text-align: right;\">166</td></tr><tr><td class = \"rowNumber\" style = \"font-weight: bold; text-align: right;\">2</td><td style = \"text-align: right;\">42</td><td style = \"text-align: right;\">158</td></tr><tr><td class = \"rowNumber\" style = \"font-weight: bold; text-align: right;\">3</td><td style = \"text-align: right;\">84</td><td style = \"text-align: right;\">116</td></tr><tr><td class = \"rowNumber\" style = \"font-weight: bold; text-align: right;\">4</td><td style = \"text-align: right;\">113</td><td style = \"text-align: right;\">87</td></tr><tr><td class = \"rowNumber\" style = \"font-weight: bold; text-align: right;\">5</td><td style = \"text-align: right;\">121</td><td style = \"text-align: right;\">79</td></tr><tr><td class = \"rowNumber\" style = \"font-weight: bold; text-align: right;\">6</td><td style = \"text-align: right;\">136</td><td style = \"text-align: right;\">64</td></tr><tr><td class = \"rowNumber\" style = \"font-weight: bold; text-align: right;\">7</td><td style = \"text-align: right;\">132</td><td style = \"text-align: right;\">68</td></tr><tr><td class = \"rowNumber\" style = \"font-weight: bold; text-align: right;\">8</td><td style = \"text-align: right;\">138</td><td style = \"text-align: right;\">62</td></tr><tr><td class = \"rowNumber\" style = \"font-weight: bold; text-align: right;\">9</td><td style = \"text-align: right;\">145</td><td style = \"text-align: right;\">55</td></tr><tr><td class = \"rowNumber\" style = \"font-weight: bold; text-align: right;\">10</td><td style = \"text-align: right;\">153</td><td style = \"text-align: right;\">47</td></tr><tr><td class = \"rowNumber\" style = \"font-weight: bold; text-align: right;\">11</td><td style = \"text-align: right;\">158</td><td style = \"text-align: right;\">42</td></tr><tr><td class = \"rowNumber\" style = \"font-weight: bold; text-align: right;\">12</td><td style = \"text-align: right;\">168</td><td style = \"text-align: right;\">32</td></tr><tr><td class = \"rowNumber\" style = \"font-weight: bold; text-align: right;\">13</td><td style = \"text-align: right;\">170</td><td style = \"text-align: right;\">30</td></tr><tr><td style = \"text-align: right;\">&vellip;</td><td style = \"text-align: right;\">&vellip;</td><td style = \"text-align: right;\">&vellip;</td></tr><tr><td class = \"rowNumber\" style = \"font-weight: bold; text-align: right;\">90</td><td style = \"text-align: right;\">199</td><td style = \"text-align: right;\">1</td></tr><tr><td class = \"rowNumber\" style = \"font-weight: bold; text-align: right;\">91</td><td style = \"text-align: right;\">199</td><td style = \"text-align: right;\">1</td></tr><tr><td class = \"rowNumber\" style = \"font-weight: bold; text-align: right;\">92</td><td style = \"text-align: right;\">199</td><td style = \"text-align: right;\">1</td></tr><tr><td class = \"rowNumber\" style = \"font-weight: bold; text-align: right;\">93</td><td style = \"text-align: right;\">199</td><td style = \"text-align: right;\">1</td></tr><tr><td class = \"rowNumber\" style = \"font-weight: bold; text-align: right;\">94</td><td style = \"text-align: right;\">199</td><td style = \"text-align: right;\">1</td></tr><tr><td class = \"rowNumber\" style = \"font-weight: bold; text-align: right;\">95</td><td style = \"text-align: right;\">199</td><td style = \"text-align: right;\">1</td></tr><tr><td class = \"rowNumber\" style = \"font-weight: bold; text-align: right;\">96</td><td style = \"text-align: right;\">199</td><td style = \"text-align: right;\">1</td></tr><tr><td class = \"rowNumber\" style = \"font-weight: bold; text-align: right;\">97</td><td style = \"text-align: right;\">199</td><td style = \"text-align: right;\">1</td></tr><tr><td class = \"rowNumber\" style = \"font-weight: bold; text-align: right;\">98</td><td style = \"text-align: right;\">199</td><td style = \"text-align: right;\">1</td></tr><tr><td class = \"rowNumber\" style = \"font-weight: bold; text-align: right;\">99</td><td style = \"text-align: right;\">199</td><td style = \"text-align: right;\">1</td></tr><tr><td class = \"rowNumber\" style = \"font-weight: bold; text-align: right;\">100</td><td style = \"text-align: right;\">199</td><td style = \"text-align: right;\">1</td></tr><tr><td class = \"rowNumber\" style = \"font-weight: bold; text-align: right;\">101</td><td style = \"text-align: right;\">199</td><td style = \"text-align: right;\">1</td></tr></tbody></table></div>"
      ],
      "text/latex": [
       "\\begin{tabular}{r|cc}\n",
       "\t& happy & sad\\\\\n",
       "\t\\hline\n",
       "\t& Int64 & Int64\\\\\n",
       "\t\\hline\n",
       "\t1 & 34 & 166 \\\\\n",
       "\t2 & 42 & 158 \\\\\n",
       "\t3 & 84 & 116 \\\\\n",
       "\t4 & 113 & 87 \\\\\n",
       "\t5 & 121 & 79 \\\\\n",
       "\t6 & 136 & 64 \\\\\n",
       "\t7 & 132 & 68 \\\\\n",
       "\t8 & 138 & 62 \\\\\n",
       "\t9 & 145 & 55 \\\\\n",
       "\t10 & 153 & 47 \\\\\n",
       "\t11 & 158 & 42 \\\\\n",
       "\t12 & 168 & 32 \\\\\n",
       "\t13 & 170 & 30 \\\\\n",
       "\t14 & 169 & 31 \\\\\n",
       "\t15 & 169 & 31 \\\\\n",
       "\t16 & 174 & 26 \\\\\n",
       "\t17 & 178 & 22 \\\\\n",
       "\t18 & 180 & 20 \\\\\n",
       "\t19 & 180 & 20 \\\\\n",
       "\t20 & 180 & 20 \\\\\n",
       "\t21 & 184 & 16 \\\\\n",
       "\t22 & 188 & 12 \\\\\n",
       "\t23 & 187 & 13 \\\\\n",
       "\t24 & 190 & 10 \\\\\n",
       "\t25 & 192 & 8 \\\\\n",
       "\t26 & 194 & 6 \\\\\n",
       "\t27 & 195 & 5 \\\\\n",
       "\t28 & 197 & 3 \\\\\n",
       "\t29 & 196 & 4 \\\\\n",
       "\t30 & 196 & 4 \\\\\n",
       "\t$\\dots$ & $\\dots$ & $\\dots$ \\\\\n",
       "\\end{tabular}\n"
      ],
      "text/plain": [
       "\u001b[1m101×2 DataFrame\u001b[0m\n",
       "\u001b[1m Row \u001b[0m│\u001b[1m happy \u001b[0m\u001b[1m sad   \u001b[0m\n",
       "     │\u001b[90m Int64 \u001b[0m\u001b[90m Int64 \u001b[0m\n",
       "─────┼──────────────\n",
       "   1 │    34    166\n",
       "   2 │    42    158\n",
       "   3 │    84    116\n",
       "   4 │   113     87\n",
       "   5 │   121     79\n",
       "   6 │   136     64\n",
       "   7 │   132     68\n",
       "   8 │   138     62\n",
       "   9 │   145     55\n",
       "  10 │   153     47\n",
       "  11 │   158     42\n",
       "  ⋮  │   ⋮      ⋮\n",
       "  92 │   199      1\n",
       "  93 │   199      1\n",
       "  94 │   199      1\n",
       "  95 │   199      1\n",
       "  96 │   199      1\n",
       "  97 │   199      1\n",
       "  98 │   199      1\n",
       "  99 │   199      1\n",
       " 100 │   199      1\n",
       " 101 │   199      1\n",
       "\u001b[36m     80 rows omitted\u001b[0m"
      ]
     },
     "execution_count": 10,
     "metadata": {},
     "output_type": "execute_result"
    }
   ],
   "source": [
    "df = get_nums_agents(model, \n",
    "    agent-> agent.mood == happy, \n",
    "    agent-> agent.mood == sad,\n",
    "    labels=[\"happy\",\"sad\"], plot_result=true)"
   ]
  },
  {
   "cell_type": "markdown",
   "metadata": {},
   "source": [
    "Individual agent data recorded during model run can be obtained as "
   ]
  },
  {
   "cell_type": "code",
   "execution_count": 11,
   "metadata": {},
   "outputs": [
    {
     "data": {
      "text/html": [
       "<div><div style = \"float: left;\"><span>101×2 DataFrame</span></div><div style = \"float: right;\"><span style = \"font-style: italic;\">76 rows omitted</span></div><div style = \"clear: both;\"></div></div><div class = \"data-frame\" style = \"overflow-x: scroll;\"><table class = \"data-frame\" style = \"margin-bottom: 6px;\"><thead><tr class = \"header\"><th class = \"rowNumber\" style = \"font-weight: bold; text-align: right;\">Row</th><th style = \"text-align: left;\">mood</th><th style = \"text-align: left;\">pos</th></tr><tr class = \"subheader headerLastRow\"><th class = \"rowNumber\" style = \"font-weight: bold; text-align: right;\"></th><th title = \"agentsfeeling\" style = \"text-align: left;\">agentsfe…</th><th title = \"Vect{3, Int64}\" style = \"text-align: left;\">Vect…</th></tr></thead><tbody><tr><td class = \"rowNumber\" style = \"font-weight: bold; text-align: right;\">1</td><td style = \"text-align: left;\">sad</td><td style = \"text-align: left;\">(6, 3, 1)\\n</td></tr><tr><td class = \"rowNumber\" style = \"font-weight: bold; text-align: right;\">2</td><td style = \"text-align: left;\">sad</td><td style = \"text-align: left;\">(3, 7, 4)\\n</td></tr><tr><td class = \"rowNumber\" style = \"font-weight: bold; text-align: right;\">3</td><td style = \"text-align: left;\">sad</td><td style = \"text-align: left;\">(7, 4, 2)\\n</td></tr><tr><td class = \"rowNumber\" style = \"font-weight: bold; text-align: right;\">4</td><td style = \"text-align: left;\">happy</td><td style = \"text-align: left;\">(7, 4, 2)\\n</td></tr><tr><td class = \"rowNumber\" style = \"font-weight: bold; text-align: right;\">5</td><td style = \"text-align: left;\">happy</td><td style = \"text-align: left;\">(7, 4, 2)\\n</td></tr><tr><td class = \"rowNumber\" style = \"font-weight: bold; text-align: right;\">6</td><td style = \"text-align: left;\">happy</td><td style = \"text-align: left;\">(7, 4, 2)\\n</td></tr><tr><td class = \"rowNumber\" style = \"font-weight: bold; text-align: right;\">7</td><td style = \"text-align: left;\">happy</td><td style = \"text-align: left;\">(7, 4, 2)\\n</td></tr><tr><td class = \"rowNumber\" style = \"font-weight: bold; text-align: right;\">8</td><td style = \"text-align: left;\">happy</td><td style = \"text-align: left;\">(7, 4, 2)\\n</td></tr><tr><td class = \"rowNumber\" style = \"font-weight: bold; text-align: right;\">9</td><td style = \"text-align: left;\">happy</td><td style = \"text-align: left;\">(7, 4, 2)\\n</td></tr><tr><td class = \"rowNumber\" style = \"font-weight: bold; text-align: right;\">10</td><td style = \"text-align: left;\">happy</td><td style = \"text-align: left;\">(7, 4, 2)\\n</td></tr><tr><td class = \"rowNumber\" style = \"font-weight: bold; text-align: right;\">11</td><td style = \"text-align: left;\">happy</td><td style = \"text-align: left;\">(7, 4, 2)\\n</td></tr><tr><td class = \"rowNumber\" style = \"font-weight: bold; text-align: right;\">12</td><td style = \"text-align: left;\">happy</td><td style = \"text-align: left;\">(7, 4, 2)\\n</td></tr><tr><td class = \"rowNumber\" style = \"font-weight: bold; text-align: right;\">13</td><td style = \"text-align: left;\">happy</td><td style = \"text-align: left;\">(7, 4, 2)\\n</td></tr><tr><td style = \"text-align: right;\">&vellip;</td><td style = \"text-align: right;\">&vellip;</td><td style = \"text-align: right;\">&vellip;</td></tr><tr><td class = \"rowNumber\" style = \"font-weight: bold; text-align: right;\">90</td><td style = \"text-align: left;\">happy</td><td style = \"text-align: left;\">(7, 4, 2)\\n</td></tr><tr><td class = \"rowNumber\" style = \"font-weight: bold; text-align: right;\">91</td><td style = \"text-align: left;\">happy</td><td style = \"text-align: left;\">(7, 4, 2)\\n</td></tr><tr><td class = \"rowNumber\" style = \"font-weight: bold; text-align: right;\">92</td><td style = \"text-align: left;\">happy</td><td style = \"text-align: left;\">(7, 4, 2)\\n</td></tr><tr><td class = \"rowNumber\" style = \"font-weight: bold; text-align: right;\">93</td><td style = \"text-align: left;\">happy</td><td style = \"text-align: left;\">(7, 4, 2)\\n</td></tr><tr><td class = \"rowNumber\" style = \"font-weight: bold; text-align: right;\">94</td><td style = \"text-align: left;\">happy</td><td style = \"text-align: left;\">(7, 4, 2)\\n</td></tr><tr><td class = \"rowNumber\" style = \"font-weight: bold; text-align: right;\">95</td><td style = \"text-align: left;\">happy</td><td style = \"text-align: left;\">(7, 4, 2)\\n</td></tr><tr><td class = \"rowNumber\" style = \"font-weight: bold; text-align: right;\">96</td><td style = \"text-align: left;\">happy</td><td style = \"text-align: left;\">(7, 4, 2)\\n</td></tr><tr><td class = \"rowNumber\" style = \"font-weight: bold; text-align: right;\">97</td><td style = \"text-align: left;\">happy</td><td style = \"text-align: left;\">(7, 4, 2)\\n</td></tr><tr><td class = \"rowNumber\" style = \"font-weight: bold; text-align: right;\">98</td><td style = \"text-align: left;\">happy</td><td style = \"text-align: left;\">(7, 4, 2)\\n</td></tr><tr><td class = \"rowNumber\" style = \"font-weight: bold; text-align: right;\">99</td><td style = \"text-align: left;\">happy</td><td style = \"text-align: left;\">(7, 4, 2)\\n</td></tr><tr><td class = \"rowNumber\" style = \"font-weight: bold; text-align: right;\">100</td><td style = \"text-align: left;\">happy</td><td style = \"text-align: left;\">(7, 4, 2)\\n</td></tr><tr><td class = \"rowNumber\" style = \"font-weight: bold; text-align: right;\">101</td><td style = \"text-align: left;\">happy</td><td style = \"text-align: left;\">(7, 4, 2)\\n</td></tr></tbody></table></div>"
      ],
      "text/latex": [
       "\\begin{tabular}{r|cc}\n",
       "\t& mood & pos\\\\\n",
       "\t\\hline\n",
       "\t& agentsfe… & Vect…\\\\\n",
       "\t\\hline\n",
       "\t1 & sad & (6, 3, 1)\\textbackslash{}n \\\\\n",
       "\t2 & sad & (3, 7, 4)\\textbackslash{}n \\\\\n",
       "\t3 & sad & (7, 4, 2)\\textbackslash{}n \\\\\n",
       "\t4 & happy & (7, 4, 2)\\textbackslash{}n \\\\\n",
       "\t5 & happy & (7, 4, 2)\\textbackslash{}n \\\\\n",
       "\t6 & happy & (7, 4, 2)\\textbackslash{}n \\\\\n",
       "\t7 & happy & (7, 4, 2)\\textbackslash{}n \\\\\n",
       "\t8 & happy & (7, 4, 2)\\textbackslash{}n \\\\\n",
       "\t9 & happy & (7, 4, 2)\\textbackslash{}n \\\\\n",
       "\t10 & happy & (7, 4, 2)\\textbackslash{}n \\\\\n",
       "\t11 & happy & (7, 4, 2)\\textbackslash{}n \\\\\n",
       "\t12 & happy & (7, 4, 2)\\textbackslash{}n \\\\\n",
       "\t13 & happy & (7, 4, 2)\\textbackslash{}n \\\\\n",
       "\t14 & happy & (7, 4, 2)\\textbackslash{}n \\\\\n",
       "\t15 & happy & (7, 4, 2)\\textbackslash{}n \\\\\n",
       "\t16 & happy & (7, 4, 2)\\textbackslash{}n \\\\\n",
       "\t17 & happy & (7, 4, 2)\\textbackslash{}n \\\\\n",
       "\t18 & happy & (7, 4, 2)\\textbackslash{}n \\\\\n",
       "\t19 & happy & (7, 4, 2)\\textbackslash{}n \\\\\n",
       "\t20 & happy & (7, 4, 2)\\textbackslash{}n \\\\\n",
       "\t21 & happy & (7, 4, 2)\\textbackslash{}n \\\\\n",
       "\t22 & happy & (7, 4, 2)\\textbackslash{}n \\\\\n",
       "\t23 & happy & (7, 4, 2)\\textbackslash{}n \\\\\n",
       "\t24 & happy & (7, 4, 2)\\textbackslash{}n \\\\\n",
       "\t25 & happy & (7, 4, 2)\\textbackslash{}n \\\\\n",
       "\t26 & happy & (7, 4, 2)\\textbackslash{}n \\\\\n",
       "\t27 & happy & (7, 4, 2)\\textbackslash{}n \\\\\n",
       "\t28 & happy & (7, 4, 2)\\textbackslash{}n \\\\\n",
       "\t29 & happy & (7, 4, 2)\\textbackslash{}n \\\\\n",
       "\t30 & happy & (7, 4, 2)\\textbackslash{}n \\\\\n",
       "\t$\\dots$ & $\\dots$ & $\\dots$ \\\\\n",
       "\\end{tabular}\n"
      ],
      "text/plain": [
       "\u001b[1m101×2 DataFrame\u001b[0m\n",
       "\u001b[1m Row \u001b[0m│\u001b[1m mood      \u001b[0m\u001b[1m pos         \u001b[0m\n",
       "     │\u001b[90m agentsfe… \u001b[0m\u001b[90m Vect…       \u001b[0m\n",
       "─────┼────────────────────────\n",
       "   1 │ sad        (6, 3, 1)\\n\n",
       "   2 │ sad        (3, 7, 4)\\n\n",
       "   3 │ sad        (7, 4, 2)\\n\n",
       "   4 │ happy      (7, 4, 2)\\n\n",
       "   5 │ happy      (7, 4, 2)\\n\n",
       "   6 │ happy      (7, 4, 2)\\n\n",
       "   7 │ happy      (7, 4, 2)\\n\n",
       "   8 │ happy      (7, 4, 2)\\n\n",
       "   9 │ happy      (7, 4, 2)\\n\n",
       "  10 │ happy      (7, 4, 2)\\n\n",
       "  11 │ happy      (7, 4, 2)\\n\n",
       "  ⋮  │     ⋮           ⋮\n",
       "  92 │ happy      (7, 4, 2)\\n\n",
       "  93 │ happy      (7, 4, 2)\\n\n",
       "  94 │ happy      (7, 4, 2)\\n\n",
       "  95 │ happy      (7, 4, 2)\\n\n",
       "  96 │ happy      (7, 4, 2)\\n\n",
       "  97 │ happy      (7, 4, 2)\\n\n",
       "  98 │ happy      (7, 4, 2)\\n\n",
       "  99 │ happy      (7, 4, 2)\\n\n",
       " 100 │ happy      (7, 4, 2)\\n\n",
       " 101 │ happy      (7, 4, 2)\\n\n",
       "\u001b[36m               80 rows omitted\u001b[0m"
      ]
     },
     "execution_count": 11,
     "metadata": {},
     "output_type": "execute_result"
    }
   ],
   "source": [
    "df = get_agent_data(model.agents[1], model).record"
   ]
  },
  {
   "cell_type": "code",
   "execution_count": null,
   "metadata": {},
   "outputs": [],
   "source": []
  }
 ],
 "metadata": {
  "@webio": {
   "lastCommId": "fab320771d544a82b0b7e5eed94b2368",
   "lastKernelId": "522a93ae-8adc-477b-b043-8985b2df0da1"
  },
  "kernelspec": {
   "display_name": "Julia 1.9.2",
   "language": "julia",
   "name": "julia-1.9"
  },
  "language_info": {
   "file_extension": ".jl",
   "mimetype": "application/julia",
   "name": "julia",
   "version": "1.9.2"
  }
 },
 "nbformat": 4,
 "nbformat_minor": 4
}
