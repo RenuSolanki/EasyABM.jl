{
 "cells": [
  {
   "cell_type": "markdown",
   "metadata": {},
   "source": [
    "# Ramdom Walkers\n",
    "\n",
    "A simple example of random walkers in 2D. "
   ]
  },
  {
   "cell_type": "code",
   "execution_count": 1,
   "metadata": {},
   "outputs": [
    {
     "name": "stderr",
     "output_type": "stream",
     "text": [
      "\u001b[32m\u001b[1m  Activating\u001b[22m\u001b[39m project at `~/Documents/EasyABM`\n"
     ]
    },
    {
     "data": {
      "application/vnd.webio.node+json": {
       "children": [],
       "instanceArgs": {
        "namespace": "html",
        "tag": "div"
       },
       "nodeType": "DOM",
       "props": {},
       "type": "node"
      },
      "text/html": [
       "<div style=\"padding: 1em; background-color: #f8d6da; border: 1px solid #f5c6cb; font-weight: bold;\">\n",
       "<p>The WebIO Jupyter extension was not detected. See the\n",
       "<a href=\"https://juliagizmos.github.io/WebIO.jl/latest/providers/ijulia/\" target=\"_blank\">\n",
       "    WebIO Jupyter integration documentation\n",
       "</a>\n",
       "for more information.\n",
       "</div>\n"
      ],
      "text/plain": [
       "WebIO._IJuliaInit()"
      ]
     },
     "metadata": {
      "application/vnd.webio.node+json": {
       "kernelId": "0f186d4e-8e76-40bd-9744-beaa2441b326"
      }
     },
     "output_type": "display_data"
    }
   ],
   "source": [
    "using Pkg, Revise\n",
    "Pkg.activate(joinpath(@__DIR__, \"../..\"))\n",
    "using EasyABM"
   ]
  },
  {
   "cell_type": "code",
   "execution_count": 2,
   "metadata": {},
   "outputs": [
    {
     "data": {
      "text/plain": [
       "Agent2D list with 200 agents.\n"
      ]
     },
     "execution_count": 2,
     "metadata": {},
     "output_type": "execute_result"
    }
   ],
   "source": [
    "agents = con_2d_agents(200, pos = Vect(5.0,5.0), color = cl\"red\", shape=:circle, keeps_record_of=Set([:pos]))"
   ]
  },
  {
   "cell_type": "code",
   "execution_count": 3,
   "metadata": {},
   "outputs": [
    {
     "data": {
      "text/plain": [
       "EasyABM SpaceModel2D{EasyABM.StaticType, Float64, EasyABM.NPeriodicType}: In a EasyABM.StaticType model number of agents is fixed.\n"
      ]
     },
     "execution_count": 3,
     "metadata": {},
     "output_type": "execute_result"
    }
   ],
   "source": [
    "model = create_2d_model(agents, agents_type = Static, space_type=NPeriodic, dt=0.2)"
   ]
  },
  {
   "cell_type": "code",
   "execution_count": 4,
   "metadata": {},
   "outputs": [],
   "source": [
    "function initialiser!(model)\n",
    "    colors =  [cl\"red\", cl\"blue\", cl\"green\", cl\"yellow\", cl\"black\"]\n",
    "    for agent in model.agents\n",
    "        agent.color = colors[rand(1:5)]\n",
    "    end    \n",
    "end\n",
    "init_model!(model, initialiser = initialiser!)"
   ]
  },
  {
   "cell_type": "code",
   "execution_count": 5,
   "metadata": {},
   "outputs": [
    {
     "data": {
      "text/plain": [
       "step_rule! (generic function with 1 method)"
      ]
     },
     "execution_count": 5,
     "metadata": {},
     "output_type": "execute_result"
    }
   ],
   "source": [
    "function step_rule!(model)\n",
    "    for agent in model.agents\n",
    "        agent.pos += Vect(0.5-rand(), 0.5-rand())*model.properties.dt\n",
    "    end\n",
    "end"
   ]
  },
  {
   "cell_type": "code",
   "execution_count": 6,
   "metadata": {},
   "outputs": [],
   "source": [
    "run_model!(model, steps=400, step_rule=step_rule!)"
   ]
  },
  {
   "cell_type": "code",
   "execution_count": 7,
   "metadata": {},
   "outputs": [
    {
     "data": {
      "application/vnd.webio.node+json": {
       "children": [
        {
         "children": [
          {
           "children": [
            {
             "children": [
              {
               "children": [
                {
                 "children": [
                  {
                   "children": [
                    {
                     "children": [
                      "time"
                     ],
                     "instanceArgs": {
                      "namespace": "html",
                      "tag": "label"
                     },
                     "nodeType": "DOM",
                     "props": {
                      "className": "interact ",
                      "style": {
                       "padding": "5px 10px 0px 10px"
                      }
                     },
                     "type": "node"
                    }
                   ],
                   "instanceArgs": {
                    "namespace": "html",
                    "tag": "div"
                   },
                   "nodeType": "DOM",
                   "props": {
                    "className": "interact-flex-row-left"
                   },
                   "type": "node"
                  },
                  {
                   "children": [
                    {
                     "children": [],
                     "instanceArgs": {
                      "namespace": "html",
                      "tag": "input"
                     },
                     "nodeType": "DOM",
                     "props": {
                      "attributes": {
                       "data-bind": "numericValue: index, valueUpdate: 'input', event: {change: function (){this.changes(this.changes()+1)}}",
                       "orient": "horizontal",
                       "type": "range"
                      },
                      "className": "slider slider is-fullwidth",
                      "max": 401,
                      "min": 1,
                      "step": 1,
                      "style": {}
                     },
                     "type": "node"
                    }
                   ],
                   "instanceArgs": {
                    "namespace": "html",
                    "tag": "div"
                   },
                   "nodeType": "DOM",
                   "props": {
                    "className": "interact-flex-row-center"
                   },
                   "type": "node"
                  },
                  {
                   "children": [
                    {
                     "children": [],
                     "instanceArgs": {
                      "namespace": "html",
                      "tag": "p"
                     },
                     "nodeType": "DOM",
                     "props": {
                      "attributes": {
                       "data-bind": "text: formatted_val"
                      }
                     },
                     "type": "node"
                    }
                   ],
                   "instanceArgs": {
                    "namespace": "html",
                    "tag": "div"
                   },
                   "nodeType": "DOM",
                   "props": {
                    "className": "interact-flex-row-right"
                   },
                   "type": "node"
                  }
                 ],
                 "instanceArgs": {
                  "namespace": "html",
                  "tag": "div"
                 },
                 "nodeType": "DOM",
                 "props": {
                  "className": "interact-flex-row interact-widget"
                 },
                 "type": "node"
                }
               ],
               "instanceArgs": {
                "handlers": {
                 "changes": [
                  "(function (val){return (val!=this.model[\"changes\"]()) ? (this.valueFromJulia[\"changes\"]=true, this.model[\"changes\"](val)) : undefined})"
                 ],
                 "index": [
                  "(function (val){return (val!=this.model[\"index\"]()) ? (this.valueFromJulia[\"index\"]=true, this.model[\"index\"](val)) : undefined})"
                 ]
                },
                "id": "14907179793622869506",
                "imports": {
                 "data": [
                  {
                   "name": "knockout",
                   "type": "js",
                   "url": "/assetserver/727383f2a47bd31570b7da84eee7b022dd6d7c78-knockout.js"
                  },
                  {
                   "name": "knockout_punches",
                   "type": "js",
                   "url": "/assetserver/382b41b3b1bd9f26f75861d360bad7f8beea211f-knockout_punches.js"
                  },
                  {
                   "name": null,
                   "type": "js",
                   "url": "/assetserver/5ab20f1060420992a9b82a65b735dee4d81ef413-all.js"
                  },
                  {
                   "name": null,
                   "type": "css",
                   "url": "/assetserver/1cc0ed62837210b80a182cc3676512f895dab686-style.css"
                  },
                  {
                   "name": null,
                   "type": "css",
                   "url": "/assetserver/2eee816f616df3549d7044d45e744fbf8d42bfa1-bulma_confined.min.css"
                  }
                 ],
                 "type": "async_block"
                },
                "mount_callbacks": [
                 "function () {\n    var handler = (function (ko, koPunches) {\n    ko.punches.enableAll();\n    ko.bindingHandlers.numericValue = {\n        init: function(element, valueAccessor, allBindings, data, context) {\n            var stringified = ko.observable(ko.unwrap(valueAccessor()));\n            stringified.subscribe(function(value) {\n                var val = parseFloat(value);\n                if (!isNaN(val)) {\n                    valueAccessor()(val);\n                }\n            });\n            valueAccessor().subscribe(function(value) {\n                var str = JSON.stringify(value);\n                if ((str == \"0\") && ([\"-0\", \"-0.\"].indexOf(stringified()) >= 0))\n                     return;\n                 if ([\"null\", \"\"].indexOf(str) >= 0)\n                     return;\n                stringified(str);\n            });\n            ko.applyBindingsToNode(\n                element,\n                {\n                    value: stringified,\n                    valueUpdate: allBindings.get('valueUpdate'),\n                },\n                context,\n            );\n        }\n    };\n    var json_data = {\"formatted_vals\":[\"1\",\"2\",\"3\",\"4\",\"5\",\"6\",\"7\",\"8\",\"9\",\"10\",\"11\",\"12\",\"13\",\"14\",\"15\",\"16\",\"17\",\"18\",\"19\",\"20\",\"21\",\"22\",\"23\",\"24\",\"25\",\"26\",\"27\",\"28\",\"29\",\"30\",\"31\",\"32\",\"33\",\"34\",\"35\",\"36\",\"37\",\"38\",\"39\",\"40\",\"41\",\"42\",\"43\",\"44\",\"45\",\"46\",\"47\",\"48\",\"49\",\"50\",\"51\",\"52\",\"53\",\"54\",\"55\",\"56\",\"57\",\"58\",\"59\",\"60\",\"61\",\"62\",\"63\",\"64\",\"65\",\"66\",\"67\",\"68\",\"69\",\"70\",\"71\",\"72\",\"73\",\"74\",\"75\",\"76\",\"77\",\"78\",\"79\",\"80\",\"81\",\"82\",\"83\",\"84\",\"85\",\"86\",\"87\",\"88\",\"89\",\"90\",\"91\",\"92\",\"93\",\"94\",\"95\",\"96\",\"97\",\"98\",\"99\",\"100\",\"101\",\"102\",\"103\",\"104\",\"105\",\"106\",\"107\",\"108\",\"109\",\"110\",\"111\",\"112\",\"113\",\"114\",\"115\",\"116\",\"117\",\"118\",\"119\",\"120\",\"121\",\"122\",\"123\",\"124\",\"125\",\"126\",\"127\",\"128\",\"129\",\"130\",\"131\",\"132\",\"133\",\"134\",\"135\",\"136\",\"137\",\"138\",\"139\",\"140\",\"141\",\"142\",\"143\",\"144\",\"145\",\"146\",\"147\",\"148\",\"149\",\"150\",\"151\",\"152\",\"153\",\"154\",\"155\",\"156\",\"157\",\"158\",\"159\",\"160\",\"161\",\"162\",\"163\",\"164\",\"165\",\"166\",\"167\",\"168\",\"169\",\"170\",\"171\",\"172\",\"173\",\"174\",\"175\",\"176\",\"177\",\"178\",\"179\",\"180\",\"181\",\"182\",\"183\",\"184\",\"185\",\"186\",\"187\",\"188\",\"189\",\"190\",\"191\",\"192\",\"193\",\"194\",\"195\",\"196\",\"197\",\"198\",\"199\",\"200\",\"201\",\"202\",\"203\",\"204\",\"205\",\"206\",\"207\",\"208\",\"209\",\"210\",\"211\",\"212\",\"213\",\"214\",\"215\",\"216\",\"217\",\"218\",\"219\",\"220\",\"221\",\"222\",\"223\",\"224\",\"225\",\"226\",\"227\",\"228\",\"229\",\"230\",\"231\",\"232\",\"233\",\"234\",\"235\",\"236\",\"237\",\"238\",\"239\",\"240\",\"241\",\"242\",\"243\",\"244\",\"245\",\"246\",\"247\",\"248\",\"249\",\"250\",\"251\",\"252\",\"253\",\"254\",\"255\",\"256\",\"257\",\"258\",\"259\",\"260\",\"261\",\"262\",\"263\",\"264\",\"265\",\"266\",\"267\",\"268\",\"269\",\"270\",\"271\",\"272\",\"273\",\"274\",\"275\",\"276\",\"277\",\"278\",\"279\",\"280\",\"281\",\"282\",\"283\",\"284\",\"285\",\"286\",\"287\",\"288\",\"289\",\"290\",\"291\",\"292\",\"293\",\"294\",\"295\",\"296\",\"297\",\"298\",\"299\",\"300\",\"301\",\"302\",\"303\",\"304\",\"305\",\"306\",\"307\",\"308\",\"309\",\"310\",\"311\",\"312\",\"313\",\"314\",\"315\",\"316\",\"317\",\"318\",\"319\",\"320\",\"321\",\"322\",\"323\",\"324\",\"325\",\"326\",\"327\",\"328\",\"329\",\"330\",\"331\",\"332\",\"333\",\"334\",\"335\",\"336\",\"337\",\"338\",\"339\",\"340\",\"341\",\"342\",\"343\",\"344\",\"345\",\"346\",\"347\",\"348\",\"349\",\"350\",\"351\",\"352\",\"353\",\"354\",\"355\",\"356\",\"357\",\"358\",\"359\",\"360\",\"361\",\"362\",\"363\",\"364\",\"365\",\"366\",\"367\",\"368\",\"369\",\"370\",\"371\",\"372\",\"373\",\"374\",\"375\",\"376\",\"377\",\"378\",\"379\",\"380\",\"381\",\"382\",\"383\",\"384\",\"385\",\"386\",\"387\",\"388\",\"389\",\"390\",\"391\",\"392\",\"393\",\"394\",\"395\",\"396\",\"397\",\"398\",\"399\",\"400\",\"401\"],\"changes\":WebIO.getval({\"name\":\"changes\",\"scope\":\"14907179793622869506\",\"id\":\"5343431914073817586\",\"type\":\"observable\"}),\"index\":WebIO.getval({\"name\":\"index\",\"scope\":\"14907179793622869506\",\"id\":\"13871682032973635065\",\"type\":\"observable\"})};\n    var self = this;\n    function AppViewModel() {\n        for (var key in json_data) {\n            var el = json_data[key];\n            this[key] = Array.isArray(el) ? ko.observableArray(el) : ko.observable(el);\n        }\n        \n        [this[\"formatted_val\"]=ko.computed(    function(){\n        return this.formatted_vals()[parseInt(this.index())-(1)];\n    }\n,this)]\n        [this[\"changes\"].subscribe((function (val){!(this.valueFromJulia[\"changes\"]) ? (WebIO.setval({\"name\":\"changes\",\"scope\":\"14907179793622869506\",\"id\":\"5343431914073817586\",\"type\":\"observable\"},val)) : undefined; return this.valueFromJulia[\"changes\"]=false}),self),this[\"index\"].subscribe((function (val){!(this.valueFromJulia[\"index\"]) ? (WebIO.setval({\"name\":\"index\",\"scope\":\"14907179793622869506\",\"id\":\"13871682032973635065\",\"type\":\"observable\"},val)) : undefined; return this.valueFromJulia[\"index\"]=false}),self)]\n        \n    }\n    self.model = new AppViewModel();\n    self.valueFromJulia = {};\n    for (var key in json_data) {\n        self.valueFromJulia[key] = false;\n    }\n    ko.applyBindings(self.model, self.dom);\n}\n);\n    (WebIO.importBlock({\"data\":[{\"name\":\"knockout\",\"type\":\"js\",\"url\":\"/assetserver/727383f2a47bd31570b7da84eee7b022dd6d7c78-knockout.js\"},{\"name\":\"knockout_punches\",\"type\":\"js\",\"url\":\"/assetserver/382b41b3b1bd9f26f75861d360bad7f8beea211f-knockout_punches.js\"}],\"type\":\"async_block\"})).then((imports) => handler.apply(this, imports));\n}\n"
                ],
                "observables": {
                 "changes": {
                  "id": "5343431914073817586",
                  "sync": false,
                  "value": 0
                 },
                 "index": {
                  "id": "13871682032973635065",
                  "sync": true,
                  "value": 201
                 }
                },
                "systemjs_options": null
               },
               "nodeType": "Scope",
               "props": {},
               "type": "node"
              }
             ],
             "instanceArgs": {
              "namespace": "html",
              "tag": "div"
             },
             "nodeType": "DOM",
             "props": {
              "className": "field interact-widget"
             },
             "type": "node"
            },
            {
             "children": [
              {
               "children": [
                {
                 "children": [
                  {
                   "children": [
                    {
                     "children": [
                      "scale"
                     ],
                     "instanceArgs": {
                      "namespace": "html",
                      "tag": "label"
                     },
                     "nodeType": "DOM",
                     "props": {
                      "className": "interact ",
                      "style": {
                       "padding": "5px 10px 0px 10px"
                      }
                     },
                     "type": "node"
                    }
                   ],
                   "instanceArgs": {
                    "namespace": "html",
                    "tag": "div"
                   },
                   "nodeType": "DOM",
                   "props": {
                    "className": "interact-flex-row-left"
                   },
                   "type": "node"
                  },
                  {
                   "children": [
                    {
                     "children": [],
                     "instanceArgs": {
                      "namespace": "html",
                      "tag": "input"
                     },
                     "nodeType": "DOM",
                     "props": {
                      "attributes": {
                       "data-bind": "numericValue: index, valueUpdate: 'input', event: {change: function (){this.changes(this.changes()+1)}}",
                       "orient": "horizontal",
                       "type": "range"
                      },
                      "className": "slider slider is-fullwidth",
                      "max": 20,
                      "min": 1,
                      "step": 1,
                      "style": {}
                     },
                     "type": "node"
                    }
                   ],
                   "instanceArgs": {
                    "namespace": "html",
                    "tag": "div"
                   },
                   "nodeType": "DOM",
                   "props": {
                    "className": "interact-flex-row-center"
                   },
                   "type": "node"
                  },
                  {
                   "children": [
                    {
                     "children": [],
                     "instanceArgs": {
                      "namespace": "html",
                      "tag": "p"
                     },
                     "nodeType": "DOM",
                     "props": {
                      "attributes": {
                       "data-bind": "text: formatted_val"
                      }
                     },
                     "type": "node"
                    }
                   ],
                   "instanceArgs": {
                    "namespace": "html",
                    "tag": "div"
                   },
                   "nodeType": "DOM",
                   "props": {
                    "className": "interact-flex-row-right"
                   },
                   "type": "node"
                  }
                 ],
                 "instanceArgs": {
                  "namespace": "html",
                  "tag": "div"
                 },
                 "nodeType": "DOM",
                 "props": {
                  "className": "interact-flex-row interact-widget"
                 },
                 "type": "node"
                }
               ],
               "instanceArgs": {
                "handlers": {
                 "changes": [
                  "(function (val){return (val!=this.model[\"changes\"]()) ? (this.valueFromJulia[\"changes\"]=true, this.model[\"changes\"](val)) : undefined})"
                 ],
                 "index": [
                  "(function (val){return (val!=this.model[\"index\"]()) ? (this.valueFromJulia[\"index\"]=true, this.model[\"index\"](val)) : undefined})"
                 ]
                },
                "id": "7552399890828012444",
                "imports": {
                 "data": [
                  {
                   "name": "knockout",
                   "type": "js",
                   "url": "/assetserver/727383f2a47bd31570b7da84eee7b022dd6d7c78-knockout.js"
                  },
                  {
                   "name": "knockout_punches",
                   "type": "js",
                   "url": "/assetserver/382b41b3b1bd9f26f75861d360bad7f8beea211f-knockout_punches.js"
                  },
                  {
                   "name": null,
                   "type": "js",
                   "url": "/assetserver/5ab20f1060420992a9b82a65b735dee4d81ef413-all.js"
                  },
                  {
                   "name": null,
                   "type": "css",
                   "url": "/assetserver/1cc0ed62837210b80a182cc3676512f895dab686-style.css"
                  },
                  {
                   "name": null,
                   "type": "css",
                   "url": "/assetserver/2eee816f616df3549d7044d45e744fbf8d42bfa1-bulma_confined.min.css"
                  }
                 ],
                 "type": "async_block"
                },
                "mount_callbacks": [
                 "function () {\n    var handler = (function (ko, koPunches) {\n    ko.punches.enableAll();\n    ko.bindingHandlers.numericValue = {\n        init: function(element, valueAccessor, allBindings, data, context) {\n            var stringified = ko.observable(ko.unwrap(valueAccessor()));\n            stringified.subscribe(function(value) {\n                var val = parseFloat(value);\n                if (!isNaN(val)) {\n                    valueAccessor()(val);\n                }\n            });\n            valueAccessor().subscribe(function(value) {\n                var str = JSON.stringify(value);\n                if ((str == \"0\") && ([\"-0\", \"-0.\"].indexOf(stringified()) >= 0))\n                     return;\n                 if ([\"null\", \"\"].indexOf(str) >= 0)\n                     return;\n                stringified(str);\n            });\n            ko.applyBindingsToNode(\n                element,\n                {\n                    value: stringified,\n                    valueUpdate: allBindings.get('valueUpdate'),\n                },\n                context,\n            );\n        }\n    };\n    var json_data = {\"formatted_vals\":[\"0.1\",\"0.2\",\"0.3\",\"0.4\",\"0.5\",\"0.6\",\"0.7\",\"0.8\",\"0.9\",\"1.0\",\"1.1\",\"1.2\",\"1.3\",\"1.4\",\"1.5\",\"1.6\",\"1.7\",\"1.8\",\"1.9\",\"2.0\"],\"changes\":WebIO.getval({\"name\":\"changes\",\"scope\":\"7552399890828012444\",\"id\":\"9571035931364716858\",\"type\":\"observable\"}),\"index\":WebIO.getval({\"name\":\"index\",\"scope\":\"7552399890828012444\",\"id\":\"8093979564504896418\",\"type\":\"observable\"})};\n    var self = this;\n    function AppViewModel() {\n        for (var key in json_data) {\n            var el = json_data[key];\n            this[key] = Array.isArray(el) ? ko.observableArray(el) : ko.observable(el);\n        }\n        \n        [this[\"formatted_val\"]=ko.computed(    function(){\n        return this.formatted_vals()[parseInt(this.index())-(1)];\n    }\n,this)]\n        [this[\"changes\"].subscribe((function (val){!(this.valueFromJulia[\"changes\"]) ? (WebIO.setval({\"name\":\"changes\",\"scope\":\"7552399890828012444\",\"id\":\"9571035931364716858\",\"type\":\"observable\"},val)) : undefined; return this.valueFromJulia[\"changes\"]=false}),self),this[\"index\"].subscribe((function (val){!(this.valueFromJulia[\"index\"]) ? (WebIO.setval({\"name\":\"index\",\"scope\":\"7552399890828012444\",\"id\":\"8093979564504896418\",\"type\":\"observable\"},val)) : undefined; return this.valueFromJulia[\"index\"]=false}),self)]\n        \n    }\n    self.model = new AppViewModel();\n    self.valueFromJulia = {};\n    for (var key in json_data) {\n        self.valueFromJulia[key] = false;\n    }\n    ko.applyBindings(self.model, self.dom);\n}\n);\n    (WebIO.importBlock({\"data\":[{\"name\":\"knockout\",\"type\":\"js\",\"url\":\"/assetserver/727383f2a47bd31570b7da84eee7b022dd6d7c78-knockout.js\"},{\"name\":\"knockout_punches\",\"type\":\"js\",\"url\":\"/assetserver/382b41b3b1bd9f26f75861d360bad7f8beea211f-knockout_punches.js\"}],\"type\":\"async_block\"})).then((imports) => handler.apply(this, imports));\n}\n"
                ],
                "observables": {
                 "changes": {
                  "id": "9571035931364716858",
                  "sync": false,
                  "value": 0
                 },
                 "index": {
                  "id": "8093979564504896418",
                  "sync": true,
                  "value": 10
                 }
                },
                "systemjs_options": null
               },
               "nodeType": "Scope",
               "props": {},
               "type": "node"
              }
             ],
             "instanceArgs": {
              "namespace": "html",
              "tag": "div"
             },
             "nodeType": "DOM",
             "props": {
              "className": "field interact-widget"
             },
             "type": "node"
            },
            {
             "children": [
              {
               "children": [
                {
                 "children": [
                  {
                   "children": [],
                   "instanceArgs": {
                    "namespace": "html",
                    "tag": "div"
                   },
                   "nodeType": "DOM",
                   "props": {
                    "id": "container"
                   },
                   "type": "node"
                  }
                 ],
                 "instanceArgs": {
                  "handlers": {
                   "value": [
                    "(function (txt){return this.k.render(txt,this.container)})"
                   ]
                  },
                  "id": "8026476111211753037",
                  "imports": {
                   "data": [
                    {
                     "name": null,
                     "type": "js",
                     "url": "/assetserver/dd22ed1bf1896c2748f3fe616ce0b838adc895c1-katex.min.js"
                    },
                    {
                     "name": null,
                     "type": "css",
                     "url": "/assetserver/46517a424aa5e6cffc1360d7e0848b601c584ee3-katex.min.css"
                    }
                   ],
                   "type": "async_block"
                  },
                  "mount_callbacks": [
                   "function () {\n    var handler = ((function (k){this.k=k; this.container=this.dom.querySelector(\"#container\"); return k.render(\"\\\\;\\\\;\",this.container)}));\n    (WebIO.importBlock({\"data\":[{\"name\":null,\"type\":\"js\",\"url\":\"/assetserver/dd22ed1bf1896c2748f3fe616ce0b838adc895c1-katex.min.js\"},{\"name\":null,\"type\":\"css\",\"url\":\"/assetserver/46517a424aa5e6cffc1360d7e0848b601c584ee3-katex.min.css\"}],\"type\":\"async_block\"})).then((imports) => handler.apply(this, imports));\n}\n"
                  ],
                  "observables": {
                   "value": {
                    "id": "4790933557392054541",
                    "sync": false,
                    "value": "\\;\\;"
                   }
                  },
                  "systemjs_options": null
                 },
                 "nodeType": "Scope",
                 "props": {},
                 "type": "node"
                }
               ],
               "instanceArgs": {
                "namespace": "html",
                "tag": "div"
               },
               "nodeType": "DOM",
               "props": {
                "className": "interact-widget"
               },
               "type": "node"
              },
              {
               "children": [
                {
                 "children": [
                  {
                   "children": [
                    "run"
                   ],
                   "instanceArgs": {
                    "namespace": "html",
                    "tag": "button"
                   },
                   "nodeType": "DOM",
                   "props": {
                    "attributes": {
                     "data-bind": "click: function (){this.clicks(this.clicks()+1)}, css: {'is-loading' : loading}"
                    },
                    "className": "is-medium button is-primary",
                    "style": {}
                   },
                   "type": "node"
                  }
                 ],
                 "instanceArgs": {
                  "handlers": {
                   "clicks": [
                    "(function (val){return (val!=this.model[\"clicks\"]()) ? (this.valueFromJulia[\"clicks\"]=true, this.model[\"clicks\"](val)) : undefined})"
                   ],
                   "loading": [
                    "(function (val){return (val!=this.model[\"loading\"]()) ? (this.valueFromJulia[\"loading\"]=true, this.model[\"loading\"](val)) : undefined})"
                   ]
                  },
                  "id": "13507149426060814867",
                  "imports": {
                   "data": [
                    {
                     "name": "knockout",
                     "type": "js",
                     "url": "/assetserver/727383f2a47bd31570b7da84eee7b022dd6d7c78-knockout.js"
                    },
                    {
                     "name": "knockout_punches",
                     "type": "js",
                     "url": "/assetserver/382b41b3b1bd9f26f75861d360bad7f8beea211f-knockout_punches.js"
                    },
                    {
                     "name": null,
                     "type": "js",
                     "url": "/assetserver/5ab20f1060420992a9b82a65b735dee4d81ef413-all.js"
                    },
                    {
                     "name": null,
                     "type": "css",
                     "url": "/assetserver/1cc0ed62837210b80a182cc3676512f895dab686-style.css"
                    },
                    {
                     "name": null,
                     "type": "css",
                     "url": "/assetserver/2eee816f616df3549d7044d45e744fbf8d42bfa1-bulma_confined.min.css"
                    }
                   ],
                   "type": "async_block"
                  },
                  "mount_callbacks": [
                   "function () {\n    var handler = (function (ko, koPunches) {\n    ko.punches.enableAll();\n    ko.bindingHandlers.numericValue = {\n        init: function(element, valueAccessor, allBindings, data, context) {\n            var stringified = ko.observable(ko.unwrap(valueAccessor()));\n            stringified.subscribe(function(value) {\n                var val = parseFloat(value);\n                if (!isNaN(val)) {\n                    valueAccessor()(val);\n                }\n            });\n            valueAccessor().subscribe(function(value) {\n                var str = JSON.stringify(value);\n                if ((str == \"0\") && ([\"-0\", \"-0.\"].indexOf(stringified()) >= 0))\n                     return;\n                 if ([\"null\", \"\"].indexOf(str) >= 0)\n                     return;\n                stringified(str);\n            });\n            ko.applyBindingsToNode(\n                element,\n                {\n                    value: stringified,\n                    valueUpdate: allBindings.get('valueUpdate'),\n                },\n                context,\n            );\n        }\n    };\n    var json_data = {\"loading\":WebIO.getval({\"name\":\"loading\",\"scope\":\"13507149426060814867\",\"id\":\"15868095853389519509\",\"type\":\"observable\"}),\"clicks\":WebIO.getval({\"name\":\"clicks\",\"scope\":\"13507149426060814867\",\"id\":\"1644899799612834928\",\"type\":\"observable\"})};\n    var self = this;\n    function AppViewModel() {\n        for (var key in json_data) {\n            var el = json_data[key];\n            this[key] = Array.isArray(el) ? ko.observableArray(el) : ko.observable(el);\n        }\n        \n        \n        [this[\"loading\"].subscribe((function (val){!(this.valueFromJulia[\"loading\"]) ? (WebIO.setval({\"name\":\"loading\",\"scope\":\"13507149426060814867\",\"id\":\"15868095853389519509\",\"type\":\"observable\"},val)) : undefined; return this.valueFromJulia[\"loading\"]=false}),self),this[\"clicks\"].subscribe((function (val){!(this.valueFromJulia[\"clicks\"]) ? (WebIO.setval({\"name\":\"clicks\",\"scope\":\"13507149426060814867\",\"id\":\"1644899799612834928\",\"type\":\"observable\"},val)) : undefined; return this.valueFromJulia[\"clicks\"]=false}),self)]\n        \n    }\n    self.model = new AppViewModel();\n    self.valueFromJulia = {};\n    for (var key in json_data) {\n        self.valueFromJulia[key] = false;\n    }\n    ko.applyBindings(self.model, self.dom);\n}\n);\n    (WebIO.importBlock({\"data\":[{\"name\":\"knockout\",\"type\":\"js\",\"url\":\"/assetserver/727383f2a47bd31570b7da84eee7b022dd6d7c78-knockout.js\"},{\"name\":\"knockout_punches\",\"type\":\"js\",\"url\":\"/assetserver/382b41b3b1bd9f26f75861d360bad7f8beea211f-knockout_punches.js\"}],\"type\":\"async_block\"})).then((imports) => handler.apply(this, imports));\n}\n"
                  ],
                  "observables": {
                   "clicks": {
                    "id": "1644899799612834928",
                    "sync": true,
                    "value": 0
                   },
                   "loading": {
                    "id": "15868095853389519509",
                    "sync": false,
                    "value": false
                   }
                  },
                  "systemjs_options": null
                 },
                 "nodeType": "Scope",
                 "props": {},
                 "type": "node"
                }
               ],
               "instanceArgs": {
                "namespace": "html",
                "tag": "div"
               },
               "nodeType": "DOM",
               "props": {
                "className": "field interact-widget"
               },
               "type": "node"
              },
              {
               "children": [
                {
                 "children": [
                  {
                   "children": [],
                   "instanceArgs": {
                    "namespace": "html",
                    "tag": "div"
                   },
                   "nodeType": "DOM",
                   "props": {
                    "id": "container"
                   },
                   "type": "node"
                  }
                 ],
                 "instanceArgs": {
                  "handlers": {
                   "value": [
                    "(function (txt){return this.k.render(txt,this.container)})"
                   ]
                  },
                  "id": "8026476111211753037",
                  "imports": {
                   "data": [
                    {
                     "name": null,
                     "type": "js",
                     "url": "/assetserver/dd22ed1bf1896c2748f3fe616ce0b838adc895c1-katex.min.js"
                    },
                    {
                     "name": null,
                     "type": "css",
                     "url": "/assetserver/46517a424aa5e6cffc1360d7e0848b601c584ee3-katex.min.css"
                    }
                   ],
                   "type": "async_block"
                  },
                  "mount_callbacks": [
                   "function () {\n    var handler = ((function (k){this.k=k; this.container=this.dom.querySelector(\"#container\"); return k.render(\"\\\\;\\\\;\",this.container)}));\n    (WebIO.importBlock({\"data\":[{\"name\":null,\"type\":\"js\",\"url\":\"/assetserver/dd22ed1bf1896c2748f3fe616ce0b838adc895c1-katex.min.js\"},{\"name\":null,\"type\":\"css\",\"url\":\"/assetserver/46517a424aa5e6cffc1360d7e0848b601c584ee3-katex.min.css\"}],\"type\":\"async_block\"})).then((imports) => handler.apply(this, imports));\n}\n"
                  ],
                  "observables": {
                   "value": {
                    "id": "4790933557392054541",
                    "sync": false,
                    "value": "\\;\\;"
                   }
                  },
                  "systemjs_options": null
                 },
                 "nodeType": "Scope",
                 "props": {},
                 "type": "node"
                }
               ],
               "instanceArgs": {
                "namespace": "html",
                "tag": "div"
               },
               "nodeType": "DOM",
               "props": {
                "className": "interact-widget"
               },
               "type": "node"
              },
              {
               "children": [
                {
                 "children": [
                  {
                   "children": [
                    "stop"
                   ],
                   "instanceArgs": {
                    "namespace": "html",
                    "tag": "button"
                   },
                   "nodeType": "DOM",
                   "props": {
                    "attributes": {
                     "data-bind": "click: function (){this.clicks(this.clicks()+1)}, css: {'is-loading' : loading}"
                    },
                    "className": "is-medium button is-primary",
                    "style": {}
                   },
                   "type": "node"
                  }
                 ],
                 "instanceArgs": {
                  "handlers": {
                   "clicks": [
                    "(function (val){return (val!=this.model[\"clicks\"]()) ? (this.valueFromJulia[\"clicks\"]=true, this.model[\"clicks\"](val)) : undefined})"
                   ],
                   "loading": [
                    "(function (val){return (val!=this.model[\"loading\"]()) ? (this.valueFromJulia[\"loading\"]=true, this.model[\"loading\"](val)) : undefined})"
                   ]
                  },
                  "id": "7413383350628304479",
                  "imports": {
                   "data": [
                    {
                     "name": "knockout",
                     "type": "js",
                     "url": "/assetserver/727383f2a47bd31570b7da84eee7b022dd6d7c78-knockout.js"
                    },
                    {
                     "name": "knockout_punches",
                     "type": "js",
                     "url": "/assetserver/382b41b3b1bd9f26f75861d360bad7f8beea211f-knockout_punches.js"
                    },
                    {
                     "name": null,
                     "type": "js",
                     "url": "/assetserver/5ab20f1060420992a9b82a65b735dee4d81ef413-all.js"
                    },
                    {
                     "name": null,
                     "type": "css",
                     "url": "/assetserver/1cc0ed62837210b80a182cc3676512f895dab686-style.css"
                    },
                    {
                     "name": null,
                     "type": "css",
                     "url": "/assetserver/2eee816f616df3549d7044d45e744fbf8d42bfa1-bulma_confined.min.css"
                    }
                   ],
                   "type": "async_block"
                  },
                  "mount_callbacks": [
                   "function () {\n    var handler = (function (ko, koPunches) {\n    ko.punches.enableAll();\n    ko.bindingHandlers.numericValue = {\n        init: function(element, valueAccessor, allBindings, data, context) {\n            var stringified = ko.observable(ko.unwrap(valueAccessor()));\n            stringified.subscribe(function(value) {\n                var val = parseFloat(value);\n                if (!isNaN(val)) {\n                    valueAccessor()(val);\n                }\n            });\n            valueAccessor().subscribe(function(value) {\n                var str = JSON.stringify(value);\n                if ((str == \"0\") && ([\"-0\", \"-0.\"].indexOf(stringified()) >= 0))\n                     return;\n                 if ([\"null\", \"\"].indexOf(str) >= 0)\n                     return;\n                stringified(str);\n            });\n            ko.applyBindingsToNode(\n                element,\n                {\n                    value: stringified,\n                    valueUpdate: allBindings.get('valueUpdate'),\n                },\n                context,\n            );\n        }\n    };\n    var json_data = {\"loading\":WebIO.getval({\"name\":\"loading\",\"scope\":\"7413383350628304479\",\"id\":\"15538664076992255552\",\"type\":\"observable\"}),\"clicks\":WebIO.getval({\"name\":\"clicks\",\"scope\":\"7413383350628304479\",\"id\":\"17354081770953846814\",\"type\":\"observable\"})};\n    var self = this;\n    function AppViewModel() {\n        for (var key in json_data) {\n            var el = json_data[key];\n            this[key] = Array.isArray(el) ? ko.observableArray(el) : ko.observable(el);\n        }\n        \n        \n        [this[\"loading\"].subscribe((function (val){!(this.valueFromJulia[\"loading\"]) ? (WebIO.setval({\"name\":\"loading\",\"scope\":\"7413383350628304479\",\"id\":\"15538664076992255552\",\"type\":\"observable\"},val)) : undefined; return this.valueFromJulia[\"loading\"]=false}),self),this[\"clicks\"].subscribe((function (val){!(this.valueFromJulia[\"clicks\"]) ? (WebIO.setval({\"name\":\"clicks\",\"scope\":\"7413383350628304479\",\"id\":\"17354081770953846814\",\"type\":\"observable\"},val)) : undefined; return this.valueFromJulia[\"clicks\"]=false}),self)]\n        \n    }\n    self.model = new AppViewModel();\n    self.valueFromJulia = {};\n    for (var key in json_data) {\n        self.valueFromJulia[key] = false;\n    }\n    ko.applyBindings(self.model, self.dom);\n}\n);\n    (WebIO.importBlock({\"data\":[{\"name\":\"knockout\",\"type\":\"js\",\"url\":\"/assetserver/727383f2a47bd31570b7da84eee7b022dd6d7c78-knockout.js\"},{\"name\":\"knockout_punches\",\"type\":\"js\",\"url\":\"/assetserver/382b41b3b1bd9f26f75861d360bad7f8beea211f-knockout_punches.js\"}],\"type\":\"async_block\"})).then((imports) => handler.apply(this, imports));\n}\n"
                  ],
                  "observables": {
                   "clicks": {
                    "id": "17354081770953846814",
                    "sync": true,
                    "value": 0
                   },
                   "loading": {
                    "id": "15538664076992255552",
                    "sync": false,
                    "value": false
                   }
                  },
                  "systemjs_options": null
                 },
                 "nodeType": "Scope",
                 "props": {},
                 "type": "node"
                }
               ],
               "instanceArgs": {
                "namespace": "html",
                "tag": "div"
               },
               "nodeType": "DOM",
               "props": {
                "className": "field interact-widget"
               },
               "type": "node"
              },
              {
               "children": [
                {
                 "children": [
                  {
                   "children": [],
                   "instanceArgs": {
                    "namespace": "html",
                    "tag": "div"
                   },
                   "nodeType": "DOM",
                   "props": {
                    "id": "container"
                   },
                   "type": "node"
                  }
                 ],
                 "instanceArgs": {
                  "handlers": {
                   "value": [
                    "(function (txt){return this.k.render(txt,this.container)})"
                   ]
                  },
                  "id": "8026476111211753037",
                  "imports": {
                   "data": [
                    {
                     "name": null,
                     "type": "js",
                     "url": "/assetserver/dd22ed1bf1896c2748f3fe616ce0b838adc895c1-katex.min.js"
                    },
                    {
                     "name": null,
                     "type": "css",
                     "url": "/assetserver/46517a424aa5e6cffc1360d7e0848b601c584ee3-katex.min.css"
                    }
                   ],
                   "type": "async_block"
                  },
                  "mount_callbacks": [
                   "function () {\n    var handler = ((function (k){this.k=k; this.container=this.dom.querySelector(\"#container\"); return k.render(\"\\\\;\\\\;\",this.container)}));\n    (WebIO.importBlock({\"data\":[{\"name\":null,\"type\":\"js\",\"url\":\"/assetserver/dd22ed1bf1896c2748f3fe616ce0b838adc895c1-katex.min.js\"},{\"name\":null,\"type\":\"css\",\"url\":\"/assetserver/46517a424aa5e6cffc1360d7e0848b601c584ee3-katex.min.css\"}],\"type\":\"async_block\"})).then((imports) => handler.apply(this, imports));\n}\n"
                  ],
                  "observables": {
                   "value": {
                    "id": "4790933557392054541",
                    "sync": false,
                    "value": "\\;\\;"
                   }
                  },
                  "systemjs_options": null
                 },
                 "nodeType": "Scope",
                 "props": {},
                 "type": "node"
                }
               ],
               "instanceArgs": {
                "namespace": "html",
                "tag": "div"
               },
               "nodeType": "DOM",
               "props": {
                "className": "interact-widget"
               },
               "type": "node"
              },
              {
               "children": [
                {
                 "children": [
                  {
                   "children": [
                    "save"
                   ],
                   "instanceArgs": {
                    "namespace": "html",
                    "tag": "button"
                   },
                   "nodeType": "DOM",
                   "props": {
                    "attributes": {
                     "data-bind": "click: function (){this.clicks(this.clicks()+1)}, css: {'is-loading' : loading}"
                    },
                    "className": "is-medium button is-primary",
                    "style": {}
                   },
                   "type": "node"
                  }
                 ],
                 "instanceArgs": {
                  "handlers": {
                   "clicks": [
                    "(function (val){return (val!=this.model[\"clicks\"]()) ? (this.valueFromJulia[\"clicks\"]=true, this.model[\"clicks\"](val)) : undefined})"
                   ],
                   "loading": [
                    "(function (val){return (val!=this.model[\"loading\"]()) ? (this.valueFromJulia[\"loading\"]=true, this.model[\"loading\"](val)) : undefined})"
                   ]
                  },
                  "id": "10735529990011747887",
                  "imports": {
                   "data": [
                    {
                     "name": "knockout",
                     "type": "js",
                     "url": "/assetserver/727383f2a47bd31570b7da84eee7b022dd6d7c78-knockout.js"
                    },
                    {
                     "name": "knockout_punches",
                     "type": "js",
                     "url": "/assetserver/382b41b3b1bd9f26f75861d360bad7f8beea211f-knockout_punches.js"
                    },
                    {
                     "name": null,
                     "type": "js",
                     "url": "/assetserver/5ab20f1060420992a9b82a65b735dee4d81ef413-all.js"
                    },
                    {
                     "name": null,
                     "type": "css",
                     "url": "/assetserver/1cc0ed62837210b80a182cc3676512f895dab686-style.css"
                    },
                    {
                     "name": null,
                     "type": "css",
                     "url": "/assetserver/2eee816f616df3549d7044d45e744fbf8d42bfa1-bulma_confined.min.css"
                    }
                   ],
                   "type": "async_block"
                  },
                  "mount_callbacks": [
                   "function () {\n    var handler = (function (ko, koPunches) {\n    ko.punches.enableAll();\n    ko.bindingHandlers.numericValue = {\n        init: function(element, valueAccessor, allBindings, data, context) {\n            var stringified = ko.observable(ko.unwrap(valueAccessor()));\n            stringified.subscribe(function(value) {\n                var val = parseFloat(value);\n                if (!isNaN(val)) {\n                    valueAccessor()(val);\n                }\n            });\n            valueAccessor().subscribe(function(value) {\n                var str = JSON.stringify(value);\n                if ((str == \"0\") && ([\"-0\", \"-0.\"].indexOf(stringified()) >= 0))\n                     return;\n                 if ([\"null\", \"\"].indexOf(str) >= 0)\n                     return;\n                stringified(str);\n            });\n            ko.applyBindingsToNode(\n                element,\n                {\n                    value: stringified,\n                    valueUpdate: allBindings.get('valueUpdate'),\n                },\n                context,\n            );\n        }\n    };\n    var json_data = {\"loading\":WebIO.getval({\"name\":\"loading\",\"scope\":\"10735529990011747887\",\"id\":\"10727192120633518716\",\"type\":\"observable\"}),\"clicks\":WebIO.getval({\"name\":\"clicks\",\"scope\":\"10735529990011747887\",\"id\":\"18245853765989599361\",\"type\":\"observable\"})};\n    var self = this;\n    function AppViewModel() {\n        for (var key in json_data) {\n            var el = json_data[key];\n            this[key] = Array.isArray(el) ? ko.observableArray(el) : ko.observable(el);\n        }\n        \n        \n        [this[\"loading\"].subscribe((function (val){!(this.valueFromJulia[\"loading\"]) ? (WebIO.setval({\"name\":\"loading\",\"scope\":\"10735529990011747887\",\"id\":\"10727192120633518716\",\"type\":\"observable\"},val)) : undefined; return this.valueFromJulia[\"loading\"]=false}),self),this[\"clicks\"].subscribe((function (val){!(this.valueFromJulia[\"clicks\"]) ? (WebIO.setval({\"name\":\"clicks\",\"scope\":\"10735529990011747887\",\"id\":\"18245853765989599361\",\"type\":\"observable\"},val)) : undefined; return this.valueFromJulia[\"clicks\"]=false}),self)]\n        \n    }\n    self.model = new AppViewModel();\n    self.valueFromJulia = {};\n    for (var key in json_data) {\n        self.valueFromJulia[key] = false;\n    }\n    ko.applyBindings(self.model, self.dom);\n}\n);\n    (WebIO.importBlock({\"data\":[{\"name\":\"knockout\",\"type\":\"js\",\"url\":\"/assetserver/727383f2a47bd31570b7da84eee7b022dd6d7c78-knockout.js\"},{\"name\":\"knockout_punches\",\"type\":\"js\",\"url\":\"/assetserver/382b41b3b1bd9f26f75861d360bad7f8beea211f-knockout_punches.js\"}],\"type\":\"async_block\"})).then((imports) => handler.apply(this, imports));\n}\n"
                  ],
                  "observables": {
                   "clicks": {
                    "id": "18245853765989599361",
                    "sync": true,
                    "value": 0
                   },
                   "loading": {
                    "id": "10727192120633518716",
                    "sync": false,
                    "value": false
                   }
                  },
                  "systemjs_options": null
                 },
                 "nodeType": "Scope",
                 "props": {},
                 "type": "node"
                }
               ],
               "instanceArgs": {
                "namespace": "html",
                "tag": "div"
               },
               "nodeType": "DOM",
               "props": {
                "className": "field interact-widget"
               },
               "type": "node"
              }
             ],
             "instanceArgs": {
              "namespace": "html",
              "tag": "div"
             },
             "nodeType": "DOM",
             "props": {
              "style": {
               "display": "flex",
               "flex-direction": "row"
              }
             },
             "type": "node"
            }
           ],
           "instanceArgs": {
            "namespace": "html",
            "tag": "div"
           },
           "nodeType": "DOM",
           "props": {
            "style": {
             "display": "flex",
             "flex-direction": "column"
            }
           },
           "type": "node"
          },
          {
           "children": [
            {
             "children": [
              {
               "children": [],
               "instanceArgs": {
                "namespace": "html",
                "tag": "div"
               },
               "nodeType": "DOM",
               "props": {
                "id": "container"
               },
               "type": "node"
              }
             ],
             "instanceArgs": {
              "handlers": {
               "value": [
                "(function (txt){return this.k.render(txt,this.container)})"
               ]
              },
              "id": "8026476111211753037",
              "imports": {
               "data": [
                {
                 "name": null,
                 "type": "js",
                 "url": "/assetserver/dd22ed1bf1896c2748f3fe616ce0b838adc895c1-katex.min.js"
                },
                {
                 "name": null,
                 "type": "css",
                 "url": "/assetserver/46517a424aa5e6cffc1360d7e0848b601c584ee3-katex.min.css"
                }
               ],
               "type": "async_block"
              },
              "mount_callbacks": [
               "function () {\n    var handler = ((function (k){this.k=k; this.container=this.dom.querySelector(\"#container\"); return k.render(\"\\\\;\\\\;\",this.container)}));\n    (WebIO.importBlock({\"data\":[{\"name\":null,\"type\":\"js\",\"url\":\"/assetserver/dd22ed1bf1896c2748f3fe616ce0b838adc895c1-katex.min.js\"},{\"name\":null,\"type\":\"css\",\"url\":\"/assetserver/46517a424aa5e6cffc1360d7e0848b601c584ee3-katex.min.css\"}],\"type\":\"async_block\"})).then((imports) => handler.apply(this, imports));\n}\n"
              ],
              "observables": {
               "value": {
                "id": "4790933557392054541",
                "sync": false,
                "value": "\\;\\;"
               }
              },
              "systemjs_options": null
             },
             "nodeType": "Scope",
             "props": {},
             "type": "node"
            }
           ],
           "instanceArgs": {
            "namespace": "html",
            "tag": "div"
           },
           "nodeType": "DOM",
           "props": {
            "className": "interact-widget"
           },
           "type": "node"
          },
          {
           "children": [
            {
             "children": [],
             "instanceArgs": {
              "namespace": "html",
              "tag": "div"
             },
             "nodeType": "DOM",
             "props": {
              "className": "webio-observable",
              "setInnerHtml": "<img src='data:image/png;base64,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'></img>"
             },
             "type": "node"
            }
           ],
           "instanceArgs": {
            "handlers": {
             "obs-output": [
              "function (value, scope) {\n    scope.setInnerHTML(value);\n}\n"
             ]
            },
            "id": "9660374730442509713",
            "imports": {
             "data": [],
             "type": "async_block"
            },
            "mount_callbacks": [],
            "observables": {
             "obs-output": {
              "id": "6960708172341425378",
              "sync": false,
              "value": "<img src='data:image/png;base64,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'></img>"
             }
            },
            "systemjs_options": null
           },
           "nodeType": "Scope",
           "props": {},
           "type": "node"
          },
          {
           "children": [
            {
             "children": [
              {
               "children": [],
               "instanceArgs": {
                "namespace": "html",
                "tag": "div"
               },
               "nodeType": "DOM",
               "props": {
                "id": "container"
               },
               "type": "node"
              }
             ],
             "instanceArgs": {
              "handlers": {
               "value": [
                "(function (txt){return this.k.render(txt,this.container)})"
               ]
              },
              "id": "8026476111211753037",
              "imports": {
               "data": [
                {
                 "name": null,
                 "type": "js",
                 "url": "/assetserver/dd22ed1bf1896c2748f3fe616ce0b838adc895c1-katex.min.js"
                },
                {
                 "name": null,
                 "type": "css",
                 "url": "/assetserver/46517a424aa5e6cffc1360d7e0848b601c584ee3-katex.min.css"
                }
               ],
               "type": "async_block"
              },
              "mount_callbacks": [
               "function () {\n    var handler = ((function (k){this.k=k; this.container=this.dom.querySelector(\"#container\"); return k.render(\"\\\\;\\\\;\",this.container)}));\n    (WebIO.importBlock({\"data\":[{\"name\":null,\"type\":\"js\",\"url\":\"/assetserver/dd22ed1bf1896c2748f3fe616ce0b838adc895c1-katex.min.js\"},{\"name\":null,\"type\":\"css\",\"url\":\"/assetserver/46517a424aa5e6cffc1360d7e0848b601c584ee3-katex.min.css\"}],\"type\":\"async_block\"})).then((imports) => handler.apply(this, imports));\n}\n"
              ],
              "observables": {
               "value": {
                "id": "4790933557392054541",
                "sync": false,
                "value": "\\;\\;"
               }
              },
              "systemjs_options": null
             },
             "nodeType": "Scope",
             "props": {},
             "type": "node"
            }
           ],
           "instanceArgs": {
            "namespace": "html",
            "tag": "div"
           },
           "nodeType": "DOM",
           "props": {
            "className": "interact-widget"
           },
           "type": "node"
          },
          {
           "children": [],
           "instanceArgs": {
            "namespace": "html",
            "tag": "div"
           },
           "nodeType": "DOM",
           "props": {
            "style": {
             "display": "flex",
             "flex-direction": "column"
            }
           },
           "type": "node"
          }
         ],
         "instanceArgs": {
          "namespace": "html",
          "tag": "div"
         },
         "nodeType": "DOM",
         "props": {
          "style": {
           "display": "flex",
           "flex-direction": "row"
          }
         },
         "type": "node"
        }
       ],
       "instanceArgs": {
        "namespace": "html",
        "tag": "div"
       },
       "nodeType": "DOM",
       "props": {
        "style": {
         "display": "flex",
         "flex-direction": "column"
        }
       },
       "type": "node"
      },
      "text/html": [
       "<div\n",
       "    class=\"webio-mountpoint\"\n",
       "    data-webio-mountpoint=\"8919320209854384221\"\n",
       ">\n",
       "    <script>\n",
       "    (function(){\n",
       "    // Some integrations (namely, IJulia/Jupyter) use an alternate render pathway than\n",
       "    // just putting the html on the page. If WebIO isn't defined, then it's pretty likely\n",
       "    // that we're in one of those situations and the integration just isn't installed\n",
       "    // correctly.\n",
       "    if (typeof window.WebIO === \"undefined\") {\n",
       "        document\n",
       "            .querySelector('[data-webio-mountpoint=\"8919320209854384221\"]')\n",
       "            .innerHTML = (\n",
       "                '<div style=\"padding: 1em; background-color: #f8d6da; border: 1px solid #f5c6cb; font-weight: bold;\">' +\n",
       "                '<p><strong>WebIO not detected.</strong></p>' +\n",
       "                '<p>Please read ' +\n",
       "                '<a href=\"https://juliagizmos.github.io/WebIO.jl/latest/troubleshooting/not-detected/\" target=\"_blank\">the troubleshooting guide</a> ' +\n",
       "                'for more information on how to resolve this issue.</p>' +\n",
       "                '<p><a href=\"https://juliagizmos.github.io/WebIO.jl/latest/troubleshooting/not-detected/\" target=\"_blank\">https://juliagizmos.github.io/WebIO.jl/latest/troubleshooting/not-detected/</a></p>' +\n",
       "                '</div>'\n",
       "            );\n",
       "        return;\n",
       "    }\n",
       "    WebIO.mount(\n",
       "        document.querySelector('[data-webio-mountpoint=\"8919320209854384221\"]'),\n",
       "        {\"props\":{\"style\":{\"display\":\"flex\",\"flex-direction\":\"column\"}},\"nodeType\":\"DOM\",\"type\":\"node\",\"instanceArgs\":{\"namespace\":\"html\",\"tag\":\"div\"},\"children\":[{\"props\":{\"style\":{\"display\":\"flex\",\"flex-direction\":\"row\"}},\"nodeType\":\"DOM\",\"type\":\"node\",\"instanceArgs\":{\"namespace\":\"html\",\"tag\":\"div\"},\"children\":[{\"props\":{\"style\":{\"display\":\"flex\",\"flex-direction\":\"column\"}},\"nodeType\":\"DOM\",\"type\":\"node\",\"instanceArgs\":{\"namespace\":\"html\",\"tag\":\"div\"},\"children\":[{\"props\":{\"className\":\"field interact-widget\"},\"nodeType\":\"DOM\",\"type\":\"node\",\"instanceArgs\":{\"namespace\":\"html\",\"tag\":\"div\"},\"children\":[{\"props\":{},\"nodeType\":\"Scope\",\"type\":\"node\",\"instanceArgs\":{\"imports\":{\"data\":[{\"name\":\"knockout\",\"type\":\"js\",\"url\":\"\\/assetserver\\/727383f2a47bd31570b7da84eee7b022dd6d7c78-knockout.js\"},{\"name\":\"knockout_punches\",\"type\":\"js\",\"url\":\"\\/assetserver\\/382b41b3b1bd9f26f75861d360bad7f8beea211f-knockout_punches.js\"},{\"name\":null,\"type\":\"js\",\"url\":\"\\/assetserver\\/5ab20f1060420992a9b82a65b735dee4d81ef413-all.js\"},{\"name\":null,\"type\":\"css\",\"url\":\"\\/assetserver\\/1cc0ed62837210b80a182cc3676512f895dab686-style.css\"},{\"name\":null,\"type\":\"css\",\"url\":\"\\/assetserver\\/2eee816f616df3549d7044d45e744fbf8d42bfa1-bulma_confined.min.css\"}],\"type\":\"async_block\"},\"id\":\"14907179793622869506\",\"handlers\":{\"changes\":[\"(function (val){return (val!=this.model[\\\"changes\\\"]()) ? (this.valueFromJulia[\\\"changes\\\"]=true, this.model[\\\"changes\\\"](val)) : undefined})\"],\"index\":[\"(function (val){return (val!=this.model[\\\"index\\\"]()) ? (this.valueFromJulia[\\\"index\\\"]=true, this.model[\\\"index\\\"](val)) : undefined})\"]},\"systemjs_options\":null,\"mount_callbacks\":[\"function () {\\n    var handler = (function (ko, koPunches) {\\n    ko.punches.enableAll();\\n    ko.bindingHandlers.numericValue = {\\n        init: function(element, valueAccessor, allBindings, data, context) {\\n            var stringified = ko.observable(ko.unwrap(valueAccessor()));\\n            stringified.subscribe(function(value) {\\n                var val = parseFloat(value);\\n                if (!isNaN(val)) {\\n                    valueAccessor()(val);\\n                }\\n            });\\n            valueAccessor().subscribe(function(value) {\\n                var str = JSON.stringify(value);\\n                if ((str == \\\"0\\\") && ([\\\"-0\\\", \\\"-0.\\\"].indexOf(stringified()) >= 0))\\n                     return;\\n                 if ([\\\"null\\\", \\\"\\\"].indexOf(str) >= 0)\\n                     return;\\n                stringified(str);\\n            });\\n            ko.applyBindingsToNode(\\n                element,\\n                {\\n                    value: stringified,\\n                    valueUpdate: allBindings.get('valueUpdate'),\\n                },\\n                context,\\n            );\\n        }\\n    };\\n    var json_data = {\\\"formatted_vals\\\":[\\\"1\\\",\\\"2\\\",\\\"3\\\",\\\"4\\\",\\\"5\\\",\\\"6\\\",\\\"7\\\",\\\"8\\\",\\\"9\\\",\\\"10\\\",\\\"11\\\",\\\"12\\\",\\\"13\\\",\\\"14\\\",\\\"15\\\",\\\"16\\\",\\\"17\\\",\\\"18\\\",\\\"19\\\",\\\"20\\\",\\\"21\\\",\\\"22\\\",\\\"23\\\",\\\"24\\\",\\\"25\\\",\\\"26\\\",\\\"27\\\",\\\"28\\\",\\\"29\\\",\\\"30\\\",\\\"31\\\",\\\"32\\\",\\\"33\\\",\\\"34\\\",\\\"35\\\",\\\"36\\\",\\\"37\\\",\\\"38\\\",\\\"39\\\",\\\"40\\\",\\\"41\\\",\\\"42\\\",\\\"43\\\",\\\"44\\\",\\\"45\\\",\\\"46\\\",\\\"47\\\",\\\"48\\\",\\\"49\\\",\\\"50\\\",\\\"51\\\",\\\"52\\\",\\\"53\\\",\\\"54\\\",\\\"55\\\",\\\"56\\\",\\\"57\\\",\\\"58\\\",\\\"59\\\",\\\"60\\\",\\\"61\\\",\\\"62\\\",\\\"63\\\",\\\"64\\\",\\\"65\\\",\\\"66\\\",\\\"67\\\",\\\"68\\\",\\\"69\\\",\\\"70\\\",\\\"71\\\",\\\"72\\\",\\\"73\\\",\\\"74\\\",\\\"75\\\",\\\"76\\\",\\\"77\\\",\\\"78\\\",\\\"79\\\",\\\"80\\\",\\\"81\\\",\\\"82\\\",\\\"83\\\",\\\"84\\\",\\\"85\\\",\\\"86\\\",\\\"87\\\",\\\"88\\\",\\\"89\\\",\\\"90\\\",\\\"91\\\",\\\"92\\\",\\\"93\\\",\\\"94\\\",\\\"95\\\",\\\"96\\\",\\\"97\\\",\\\"98\\\",\\\"99\\\",\\\"100\\\",\\\"101\\\",\\\"102\\\",\\\"103\\\",\\\"104\\\",\\\"105\\\",\\\"106\\\",\\\"107\\\",\\\"108\\\",\\\"109\\\",\\\"110\\\",\\\"111\\\",\\\"112\\\",\\\"113\\\",\\\"114\\\",\\\"115\\\",\\\"116\\\",\\\"117\\\",\\\"118\\\",\\\"119\\\",\\\"120\\\",\\\"121\\\",\\\"122\\\",\\\"123\\\",\\\"124\\\",\\\"125\\\",\\\"126\\\",\\\"127\\\",\\\"128\\\",\\\"129\\\",\\\"130\\\",\\\"131\\\",\\\"132\\\",\\\"133\\\",\\\"134\\\",\\\"135\\\",\\\"136\\\",\\\"137\\\",\\\"138\\\",\\\"139\\\",\\\"140\\\",\\\"141\\\",\\\"142\\\",\\\"143\\\",\\\"144\\\",\\\"145\\\",\\\"146\\\",\\\"147\\\",\\\"148\\\",\\\"149\\\",\\\"150\\\",\\\"151\\\",\\\"152\\\",\\\"153\\\",\\\"154\\\",\\\"155\\\",\\\"156\\\",\\\"157\\\",\\\"158\\\",\\\"159\\\",\\\"160\\\",\\\"161\\\",\\\"162\\\",\\\"163\\\",\\\"164\\\",\\\"165\\\",\\\"166\\\",\\\"167\\\",\\\"168\\\",\\\"169\\\",\\\"170\\\",\\\"171\\\",\\\"172\\\",\\\"173\\\",\\\"174\\\",\\\"175\\\",\\\"176\\\",\\\"177\\\",\\\"178\\\",\\\"179\\\",\\\"180\\\",\\\"181\\\",\\\"182\\\",\\\"183\\\",\\\"184\\\",\\\"185\\\",\\\"186\\\",\\\"187\\\",\\\"188\\\",\\\"189\\\",\\\"190\\\",\\\"191\\\",\\\"192\\\",\\\"193\\\",\\\"194\\\",\\\"195\\\",\\\"196\\\",\\\"197\\\",\\\"198\\\",\\\"199\\\",\\\"200\\\",\\\"201\\\",\\\"202\\\",\\\"203\\\",\\\"204\\\",\\\"205\\\",\\\"206\\\",\\\"207\\\",\\\"208\\\",\\\"209\\\",\\\"210\\\",\\\"211\\\",\\\"212\\\",\\\"213\\\",\\\"214\\\",\\\"215\\\",\\\"216\\\",\\\"217\\\",\\\"218\\\",\\\"219\\\",\\\"220\\\",\\\"221\\\",\\\"222\\\",\\\"223\\\",\\\"224\\\",\\\"225\\\",\\\"226\\\",\\\"227\\\",\\\"228\\\",\\\"229\\\",\\\"230\\\",\\\"231\\\",\\\"232\\\",\\\"233\\\",\\\"234\\\",\\\"235\\\",\\\"236\\\",\\\"237\\\",\\\"238\\\",\\\"239\\\",\\\"240\\\",\\\"241\\\",\\\"242\\\",\\\"243\\\",\\\"244\\\",\\\"245\\\",\\\"246\\\",\\\"247\\\",\\\"248\\\",\\\"249\\\",\\\"250\\\",\\\"251\\\",\\\"252\\\",\\\"253\\\",\\\"254\\\",\\\"255\\\",\\\"256\\\",\\\"257\\\",\\\"258\\\",\\\"259\\\",\\\"260\\\",\\\"261\\\",\\\"262\\\",\\\"263\\\",\\\"264\\\",\\\"265\\\",\\\"266\\\",\\\"267\\\",\\\"268\\\",\\\"269\\\",\\\"270\\\",\\\"271\\\",\\\"272\\\",\\\"273\\\",\\\"274\\\",\\\"275\\\",\\\"276\\\",\\\"277\\\",\\\"278\\\",\\\"279\\\",\\\"280\\\",\\\"281\\\",\\\"282\\\",\\\"283\\\",\\\"284\\\",\\\"285\\\",\\\"286\\\",\\\"287\\\",\\\"288\\\",\\\"289\\\",\\\"290\\\",\\\"291\\\",\\\"292\\\",\\\"293\\\",\\\"294\\\",\\\"295\\\",\\\"296\\\",\\\"297\\\",\\\"298\\\",\\\"299\\\",\\\"300\\\",\\\"301\\\",\\\"302\\\",\\\"303\\\",\\\"304\\\",\\\"305\\\",\\\"306\\\",\\\"307\\\",\\\"308\\\",\\\"309\\\",\\\"310\\\",\\\"311\\\",\\\"312\\\",\\\"313\\\",\\\"314\\\",\\\"315\\\",\\\"316\\\",\\\"317\\\",\\\"318\\\",\\\"319\\\",\\\"320\\\",\\\"321\\\",\\\"322\\\",\\\"323\\\",\\\"324\\\",\\\"325\\\",\\\"326\\\",\\\"327\\\",\\\"328\\\",\\\"329\\\",\\\"330\\\",\\\"331\\\",\\\"332\\\",\\\"333\\\",\\\"334\\\",\\\"335\\\",\\\"336\\\",\\\"337\\\",\\\"338\\\",\\\"339\\\",\\\"340\\\",\\\"341\\\",\\\"342\\\",\\\"343\\\",\\\"344\\\",\\\"345\\\",\\\"346\\\",\\\"347\\\",\\\"348\\\",\\\"349\\\",\\\"350\\\",\\\"351\\\",\\\"352\\\",\\\"353\\\",\\\"354\\\",\\\"355\\\",\\\"356\\\",\\\"357\\\",\\\"358\\\",\\\"359\\\",\\\"360\\\",\\\"361\\\",\\\"362\\\",\\\"363\\\",\\\"364\\\",\\\"365\\\",\\\"366\\\",\\\"367\\\",\\\"368\\\",\\\"369\\\",\\\"370\\\",\\\"371\\\",\\\"372\\\",\\\"373\\\",\\\"374\\\",\\\"375\\\",\\\"376\\\",\\\"377\\\",\\\"378\\\",\\\"379\\\",\\\"380\\\",\\\"381\\\",\\\"382\\\",\\\"383\\\",\\\"384\\\",\\\"385\\\",\\\"386\\\",\\\"387\\\",\\\"388\\\",\\\"389\\\",\\\"390\\\",\\\"391\\\",\\\"392\\\",\\\"393\\\",\\\"394\\\",\\\"395\\\",\\\"396\\\",\\\"397\\\",\\\"398\\\",\\\"399\\\",\\\"400\\\",\\\"401\\\"],\\\"changes\\\":WebIO.getval({\\\"name\\\":\\\"changes\\\",\\\"scope\\\":\\\"14907179793622869506\\\",\\\"id\\\":\\\"5343431914073817586\\\",\\\"type\\\":\\\"observable\\\"}),\\\"index\\\":WebIO.getval({\\\"name\\\":\\\"index\\\",\\\"scope\\\":\\\"14907179793622869506\\\",\\\"id\\\":\\\"13871682032973635065\\\",\\\"type\\\":\\\"observable\\\"})};\\n    var self = this;\\n    function AppViewModel() {\\n        for (var key in json_data) {\\n            var el = json_data[key];\\n            this[key] = Array.isArray(el) ? ko.observableArray(el) : ko.observable(el);\\n        }\\n        \\n        [this[\\\"formatted_val\\\"]=ko.computed(    function(){\\n        return this.formatted_vals()[parseInt(this.index())-(1)];\\n    }\\n,this)]\\n        [this[\\\"changes\\\"].subscribe((function (val){!(this.valueFromJulia[\\\"changes\\\"]) ? (WebIO.setval({\\\"name\\\":\\\"changes\\\",\\\"scope\\\":\\\"14907179793622869506\\\",\\\"id\\\":\\\"5343431914073817586\\\",\\\"type\\\":\\\"observable\\\"},val)) : undefined; return this.valueFromJulia[\\\"changes\\\"]=false}),self),this[\\\"index\\\"].subscribe((function (val){!(this.valueFromJulia[\\\"index\\\"]) ? (WebIO.setval({\\\"name\\\":\\\"index\\\",\\\"scope\\\":\\\"14907179793622869506\\\",\\\"id\\\":\\\"13871682032973635065\\\",\\\"type\\\":\\\"observable\\\"},val)) : undefined; return this.valueFromJulia[\\\"index\\\"]=false}),self)]\\n        \\n    }\\n    self.model = new AppViewModel();\\n    self.valueFromJulia = {};\\n    for (var key in json_data) {\\n        self.valueFromJulia[key] = false;\\n    }\\n    ko.applyBindings(self.model, self.dom);\\n}\\n);\\n    (WebIO.importBlock({\\\"data\\\":[{\\\"name\\\":\\\"knockout\\\",\\\"type\\\":\\\"js\\\",\\\"url\\\":\\\"\\/assetserver\\/727383f2a47bd31570b7da84eee7b022dd6d7c78-knockout.js\\\"},{\\\"name\\\":\\\"knockout_punches\\\",\\\"type\\\":\\\"js\\\",\\\"url\\\":\\\"\\/assetserver\\/382b41b3b1bd9f26f75861d360bad7f8beea211f-knockout_punches.js\\\"}],\\\"type\\\":\\\"async_block\\\"})).then((imports) => handler.apply(this, imports));\\n}\\n\"],\"observables\":{\"changes\":{\"sync\":false,\"id\":\"5343431914073817586\",\"value\":0},\"index\":{\"sync\":true,\"id\":\"13871682032973635065\",\"value\":201}}},\"children\":[{\"props\":{\"className\":\"interact-flex-row interact-widget\"},\"nodeType\":\"DOM\",\"type\":\"node\",\"instanceArgs\":{\"namespace\":\"html\",\"tag\":\"div\"},\"children\":[{\"props\":{\"className\":\"interact-flex-row-left\"},\"nodeType\":\"DOM\",\"type\":\"node\",\"instanceArgs\":{\"namespace\":\"html\",\"tag\":\"div\"},\"children\":[{\"props\":{\"className\":\"interact \",\"style\":{\"padding\":\"5px 10px 0px 10px\"}},\"nodeType\":\"DOM\",\"type\":\"node\",\"instanceArgs\":{\"namespace\":\"html\",\"tag\":\"label\"},\"children\":[\"time\"]}]},{\"props\":{\"className\":\"interact-flex-row-center\"},\"nodeType\":\"DOM\",\"type\":\"node\",\"instanceArgs\":{\"namespace\":\"html\",\"tag\":\"div\"},\"children\":[{\"props\":{\"max\":401,\"min\":1,\"attributes\":{\"type\":\"range\",\"data-bind\":\"numericValue: index, valueUpdate: 'input', event: {change: function (){this.changes(this.changes()+1)}}\",\"orient\":\"horizontal\"},\"step\":1,\"className\":\"slider slider is-fullwidth\",\"style\":{}},\"nodeType\":\"DOM\",\"type\":\"node\",\"instanceArgs\":{\"namespace\":\"html\",\"tag\":\"input\"},\"children\":[]}]},{\"props\":{\"className\":\"interact-flex-row-right\"},\"nodeType\":\"DOM\",\"type\":\"node\",\"instanceArgs\":{\"namespace\":\"html\",\"tag\":\"div\"},\"children\":[{\"props\":{\"attributes\":{\"data-bind\":\"text: formatted_val\"}},\"nodeType\":\"DOM\",\"type\":\"node\",\"instanceArgs\":{\"namespace\":\"html\",\"tag\":\"p\"},\"children\":[]}]}]}]}]},{\"props\":{\"className\":\"field interact-widget\"},\"nodeType\":\"DOM\",\"type\":\"node\",\"instanceArgs\":{\"namespace\":\"html\",\"tag\":\"div\"},\"children\":[{\"props\":{},\"nodeType\":\"Scope\",\"type\":\"node\",\"instanceArgs\":{\"imports\":{\"data\":[{\"name\":\"knockout\",\"type\":\"js\",\"url\":\"\\/assetserver\\/727383f2a47bd31570b7da84eee7b022dd6d7c78-knockout.js\"},{\"name\":\"knockout_punches\",\"type\":\"js\",\"url\":\"\\/assetserver\\/382b41b3b1bd9f26f75861d360bad7f8beea211f-knockout_punches.js\"},{\"name\":null,\"type\":\"js\",\"url\":\"\\/assetserver\\/5ab20f1060420992a9b82a65b735dee4d81ef413-all.js\"},{\"name\":null,\"type\":\"css\",\"url\":\"\\/assetserver\\/1cc0ed62837210b80a182cc3676512f895dab686-style.css\"},{\"name\":null,\"type\":\"css\",\"url\":\"\\/assetserver\\/2eee816f616df3549d7044d45e744fbf8d42bfa1-bulma_confined.min.css\"}],\"type\":\"async_block\"},\"id\":\"7552399890828012444\",\"handlers\":{\"changes\":[\"(function (val){return (val!=this.model[\\\"changes\\\"]()) ? (this.valueFromJulia[\\\"changes\\\"]=true, this.model[\\\"changes\\\"](val)) : undefined})\"],\"index\":[\"(function (val){return (val!=this.model[\\\"index\\\"]()) ? (this.valueFromJulia[\\\"index\\\"]=true, this.model[\\\"index\\\"](val)) : undefined})\"]},\"systemjs_options\":null,\"mount_callbacks\":[\"function () {\\n    var handler = (function (ko, koPunches) {\\n    ko.punches.enableAll();\\n    ko.bindingHandlers.numericValue = {\\n        init: function(element, valueAccessor, allBindings, data, context) {\\n            var stringified = ko.observable(ko.unwrap(valueAccessor()));\\n            stringified.subscribe(function(value) {\\n                var val = parseFloat(value);\\n                if (!isNaN(val)) {\\n                    valueAccessor()(val);\\n                }\\n            });\\n            valueAccessor().subscribe(function(value) {\\n                var str = JSON.stringify(value);\\n                if ((str == \\\"0\\\") && ([\\\"-0\\\", \\\"-0.\\\"].indexOf(stringified()) >= 0))\\n                     return;\\n                 if ([\\\"null\\\", \\\"\\\"].indexOf(str) >= 0)\\n                     return;\\n                stringified(str);\\n            });\\n            ko.applyBindingsToNode(\\n                element,\\n                {\\n                    value: stringified,\\n                    valueUpdate: allBindings.get('valueUpdate'),\\n                },\\n                context,\\n            );\\n        }\\n    };\\n    var json_data = {\\\"formatted_vals\\\":[\\\"0.1\\\",\\\"0.2\\\",\\\"0.3\\\",\\\"0.4\\\",\\\"0.5\\\",\\\"0.6\\\",\\\"0.7\\\",\\\"0.8\\\",\\\"0.9\\\",\\\"1.0\\\",\\\"1.1\\\",\\\"1.2\\\",\\\"1.3\\\",\\\"1.4\\\",\\\"1.5\\\",\\\"1.6\\\",\\\"1.7\\\",\\\"1.8\\\",\\\"1.9\\\",\\\"2.0\\\"],\\\"changes\\\":WebIO.getval({\\\"name\\\":\\\"changes\\\",\\\"scope\\\":\\\"7552399890828012444\\\",\\\"id\\\":\\\"9571035931364716858\\\",\\\"type\\\":\\\"observable\\\"}),\\\"index\\\":WebIO.getval({\\\"name\\\":\\\"index\\\",\\\"scope\\\":\\\"7552399890828012444\\\",\\\"id\\\":\\\"8093979564504896418\\\",\\\"type\\\":\\\"observable\\\"})};\\n    var self = this;\\n    function AppViewModel() {\\n        for (var key in json_data) {\\n            var el = json_data[key];\\n            this[key] = Array.isArray(el) ? ko.observableArray(el) : ko.observable(el);\\n        }\\n        \\n        [this[\\\"formatted_val\\\"]=ko.computed(    function(){\\n        return this.formatted_vals()[parseInt(this.index())-(1)];\\n    }\\n,this)]\\n        [this[\\\"changes\\\"].subscribe((function (val){!(this.valueFromJulia[\\\"changes\\\"]) ? (WebIO.setval({\\\"name\\\":\\\"changes\\\",\\\"scope\\\":\\\"7552399890828012444\\\",\\\"id\\\":\\\"9571035931364716858\\\",\\\"type\\\":\\\"observable\\\"},val)) : undefined; return this.valueFromJulia[\\\"changes\\\"]=false}),self),this[\\\"index\\\"].subscribe((function (val){!(this.valueFromJulia[\\\"index\\\"]) ? (WebIO.setval({\\\"name\\\":\\\"index\\\",\\\"scope\\\":\\\"7552399890828012444\\\",\\\"id\\\":\\\"8093979564504896418\\\",\\\"type\\\":\\\"observable\\\"},val)) : undefined; return this.valueFromJulia[\\\"index\\\"]=false}),self)]\\n        \\n    }\\n    self.model = new AppViewModel();\\n    self.valueFromJulia = {};\\n    for (var key in json_data) {\\n        self.valueFromJulia[key] = false;\\n    }\\n    ko.applyBindings(self.model, self.dom);\\n}\\n);\\n    (WebIO.importBlock({\\\"data\\\":[{\\\"name\\\":\\\"knockout\\\",\\\"type\\\":\\\"js\\\",\\\"url\\\":\\\"\\/assetserver\\/727383f2a47bd31570b7da84eee7b022dd6d7c78-knockout.js\\\"},{\\\"name\\\":\\\"knockout_punches\\\",\\\"type\\\":\\\"js\\\",\\\"url\\\":\\\"\\/assetserver\\/382b41b3b1bd9f26f75861d360bad7f8beea211f-knockout_punches.js\\\"}],\\\"type\\\":\\\"async_block\\\"})).then((imports) => handler.apply(this, imports));\\n}\\n\"],\"observables\":{\"changes\":{\"sync\":false,\"id\":\"9571035931364716858\",\"value\":0},\"index\":{\"sync\":true,\"id\":\"8093979564504896418\",\"value\":10}}},\"children\":[{\"props\":{\"className\":\"interact-flex-row interact-widget\"},\"nodeType\":\"DOM\",\"type\":\"node\",\"instanceArgs\":{\"namespace\":\"html\",\"tag\":\"div\"},\"children\":[{\"props\":{\"className\":\"interact-flex-row-left\"},\"nodeType\":\"DOM\",\"type\":\"node\",\"instanceArgs\":{\"namespace\":\"html\",\"tag\":\"div\"},\"children\":[{\"props\":{\"className\":\"interact \",\"style\":{\"padding\":\"5px 10px 0px 10px\"}},\"nodeType\":\"DOM\",\"type\":\"node\",\"instanceArgs\":{\"namespace\":\"html\",\"tag\":\"label\"},\"children\":[\"scale\"]}]},{\"props\":{\"className\":\"interact-flex-row-center\"},\"nodeType\":\"DOM\",\"type\":\"node\",\"instanceArgs\":{\"namespace\":\"html\",\"tag\":\"div\"},\"children\":[{\"props\":{\"max\":20,\"min\":1,\"attributes\":{\"type\":\"range\",\"data-bind\":\"numericValue: index, valueUpdate: 'input', event: {change: function (){this.changes(this.changes()+1)}}\",\"orient\":\"horizontal\"},\"step\":1,\"className\":\"slider slider is-fullwidth\",\"style\":{}},\"nodeType\":\"DOM\",\"type\":\"node\",\"instanceArgs\":{\"namespace\":\"html\",\"tag\":\"input\"},\"children\":[]}]},{\"props\":{\"className\":\"interact-flex-row-right\"},\"nodeType\":\"DOM\",\"type\":\"node\",\"instanceArgs\":{\"namespace\":\"html\",\"tag\":\"div\"},\"children\":[{\"props\":{\"attributes\":{\"data-bind\":\"text: formatted_val\"}},\"nodeType\":\"DOM\",\"type\":\"node\",\"instanceArgs\":{\"namespace\":\"html\",\"tag\":\"p\"},\"children\":[]}]}]}]}]},{\"props\":{\"style\":{\"display\":\"flex\",\"flex-direction\":\"row\"}},\"nodeType\":\"DOM\",\"type\":\"node\",\"instanceArgs\":{\"namespace\":\"html\",\"tag\":\"div\"},\"children\":[{\"props\":{\"className\":\"interact-widget\"},\"nodeType\":\"DOM\",\"type\":\"node\",\"instanceArgs\":{\"namespace\":\"html\",\"tag\":\"div\"},\"children\":[{\"props\":{},\"nodeType\":\"Scope\",\"type\":\"node\",\"instanceArgs\":{\"imports\":{\"data\":[{\"name\":null,\"type\":\"js\",\"url\":\"\\/assetserver\\/dd22ed1bf1896c2748f3fe616ce0b838adc895c1-katex.min.js\"},{\"name\":null,\"type\":\"css\",\"url\":\"\\/assetserver\\/46517a424aa5e6cffc1360d7e0848b601c584ee3-katex.min.css\"}],\"type\":\"async_block\"},\"id\":\"8026476111211753037\",\"handlers\":{\"value\":[\"(function (txt){return this.k.render(txt,this.container)})\"]},\"systemjs_options\":null,\"mount_callbacks\":[\"function () {\\n    var handler = ((function (k){this.k=k; this.container=this.dom.querySelector(\\\"#container\\\"); return k.render(\\\"\\\\\\\\;\\\\\\\\;\\\",this.container)}));\\n    (WebIO.importBlock({\\\"data\\\":[{\\\"name\\\":null,\\\"type\\\":\\\"js\\\",\\\"url\\\":\\\"\\/assetserver\\/dd22ed1bf1896c2748f3fe616ce0b838adc895c1-katex.min.js\\\"},{\\\"name\\\":null,\\\"type\\\":\\\"css\\\",\\\"url\\\":\\\"\\/assetserver\\/46517a424aa5e6cffc1360d7e0848b601c584ee3-katex.min.css\\\"}],\\\"type\\\":\\\"async_block\\\"})).then((imports) => handler.apply(this, imports));\\n}\\n\"],\"observables\":{\"value\":{\"sync\":false,\"id\":\"4790933557392054541\",\"value\":\"\\\\;\\\\;\"}}},\"children\":[{\"props\":{\"id\":\"container\"},\"nodeType\":\"DOM\",\"type\":\"node\",\"instanceArgs\":{\"namespace\":\"html\",\"tag\":\"div\"},\"children\":[]}]}]},{\"props\":{\"className\":\"field interact-widget\"},\"nodeType\":\"DOM\",\"type\":\"node\",\"instanceArgs\":{\"namespace\":\"html\",\"tag\":\"div\"},\"children\":[{\"props\":{},\"nodeType\":\"Scope\",\"type\":\"node\",\"instanceArgs\":{\"imports\":{\"data\":[{\"name\":\"knockout\",\"type\":\"js\",\"url\":\"\\/assetserver\\/727383f2a47bd31570b7da84eee7b022dd6d7c78-knockout.js\"},{\"name\":\"knockout_punches\",\"type\":\"js\",\"url\":\"\\/assetserver\\/382b41b3b1bd9f26f75861d360bad7f8beea211f-knockout_punches.js\"},{\"name\":null,\"type\":\"js\",\"url\":\"\\/assetserver\\/5ab20f1060420992a9b82a65b735dee4d81ef413-all.js\"},{\"name\":null,\"type\":\"css\",\"url\":\"\\/assetserver\\/1cc0ed62837210b80a182cc3676512f895dab686-style.css\"},{\"name\":null,\"type\":\"css\",\"url\":\"\\/assetserver\\/2eee816f616df3549d7044d45e744fbf8d42bfa1-bulma_confined.min.css\"}],\"type\":\"async_block\"},\"id\":\"13507149426060814867\",\"handlers\":{\"loading\":[\"(function (val){return (val!=this.model[\\\"loading\\\"]()) ? (this.valueFromJulia[\\\"loading\\\"]=true, this.model[\\\"loading\\\"](val)) : undefined})\"],\"clicks\":[\"(function (val){return (val!=this.model[\\\"clicks\\\"]()) ? (this.valueFromJulia[\\\"clicks\\\"]=true, this.model[\\\"clicks\\\"](val)) : undefined})\"]},\"systemjs_options\":null,\"mount_callbacks\":[\"function () {\\n    var handler = (function (ko, koPunches) {\\n    ko.punches.enableAll();\\n    ko.bindingHandlers.numericValue = {\\n        init: function(element, valueAccessor, allBindings, data, context) {\\n            var stringified = ko.observable(ko.unwrap(valueAccessor()));\\n            stringified.subscribe(function(value) {\\n                var val = parseFloat(value);\\n                if (!isNaN(val)) {\\n                    valueAccessor()(val);\\n                }\\n            });\\n            valueAccessor().subscribe(function(value) {\\n                var str = JSON.stringify(value);\\n                if ((str == \\\"0\\\") && ([\\\"-0\\\", \\\"-0.\\\"].indexOf(stringified()) >= 0))\\n                     return;\\n                 if ([\\\"null\\\", \\\"\\\"].indexOf(str) >= 0)\\n                     return;\\n                stringified(str);\\n            });\\n            ko.applyBindingsToNode(\\n                element,\\n                {\\n                    value: stringified,\\n                    valueUpdate: allBindings.get('valueUpdate'),\\n                },\\n                context,\\n            );\\n        }\\n    };\\n    var json_data = {\\\"loading\\\":WebIO.getval({\\\"name\\\":\\\"loading\\\",\\\"scope\\\":\\\"13507149426060814867\\\",\\\"id\\\":\\\"15868095853389519509\\\",\\\"type\\\":\\\"observable\\\"}),\\\"clicks\\\":WebIO.getval({\\\"name\\\":\\\"clicks\\\",\\\"scope\\\":\\\"13507149426060814867\\\",\\\"id\\\":\\\"1644899799612834928\\\",\\\"type\\\":\\\"observable\\\"})};\\n    var self = this;\\n    function AppViewModel() {\\n        for (var key in json_data) {\\n            var el = json_data[key];\\n            this[key] = Array.isArray(el) ? ko.observableArray(el) : ko.observable(el);\\n        }\\n        \\n        \\n        [this[\\\"loading\\\"].subscribe((function (val){!(this.valueFromJulia[\\\"loading\\\"]) ? (WebIO.setval({\\\"name\\\":\\\"loading\\\",\\\"scope\\\":\\\"13507149426060814867\\\",\\\"id\\\":\\\"15868095853389519509\\\",\\\"type\\\":\\\"observable\\\"},val)) : undefined; return this.valueFromJulia[\\\"loading\\\"]=false}),self),this[\\\"clicks\\\"].subscribe((function (val){!(this.valueFromJulia[\\\"clicks\\\"]) ? (WebIO.setval({\\\"name\\\":\\\"clicks\\\",\\\"scope\\\":\\\"13507149426060814867\\\",\\\"id\\\":\\\"1644899799612834928\\\",\\\"type\\\":\\\"observable\\\"},val)) : undefined; return this.valueFromJulia[\\\"clicks\\\"]=false}),self)]\\n        \\n    }\\n    self.model = new AppViewModel();\\n    self.valueFromJulia = {};\\n    for (var key in json_data) {\\n        self.valueFromJulia[key] = false;\\n    }\\n    ko.applyBindings(self.model, self.dom);\\n}\\n);\\n    (WebIO.importBlock({\\\"data\\\":[{\\\"name\\\":\\\"knockout\\\",\\\"type\\\":\\\"js\\\",\\\"url\\\":\\\"\\/assetserver\\/727383f2a47bd31570b7da84eee7b022dd6d7c78-knockout.js\\\"},{\\\"name\\\":\\\"knockout_punches\\\",\\\"type\\\":\\\"js\\\",\\\"url\\\":\\\"\\/assetserver\\/382b41b3b1bd9f26f75861d360bad7f8beea211f-knockout_punches.js\\\"}],\\\"type\\\":\\\"async_block\\\"})).then((imports) => handler.apply(this, imports));\\n}\\n\"],\"observables\":{\"loading\":{\"sync\":false,\"id\":\"15868095853389519509\",\"value\":false},\"clicks\":{\"sync\":true,\"id\":\"1644899799612834928\",\"value\":0}}},\"children\":[{\"props\":{\"attributes\":{\"data-bind\":\"click: function (){this.clicks(this.clicks()+1)}, css: {'is-loading' : loading}\"},\"className\":\"is-medium button is-primary\",\"style\":{}},\"nodeType\":\"DOM\",\"type\":\"node\",\"instanceArgs\":{\"namespace\":\"html\",\"tag\":\"button\"},\"children\":[\"run\"]}]}]},{\"props\":{\"className\":\"interact-widget\"},\"nodeType\":\"DOM\",\"type\":\"node\",\"instanceArgs\":{\"namespace\":\"html\",\"tag\":\"div\"},\"children\":[{\"props\":{},\"nodeType\":\"Scope\",\"type\":\"node\",\"instanceArgs\":{\"imports\":{\"data\":[{\"name\":null,\"type\":\"js\",\"url\":\"\\/assetserver\\/dd22ed1bf1896c2748f3fe616ce0b838adc895c1-katex.min.js\"},{\"name\":null,\"type\":\"css\",\"url\":\"\\/assetserver\\/46517a424aa5e6cffc1360d7e0848b601c584ee3-katex.min.css\"}],\"type\":\"async_block\"},\"id\":\"8026476111211753037\",\"handlers\":{\"value\":[\"(function (txt){return this.k.render(txt,this.container)})\"]},\"systemjs_options\":null,\"mount_callbacks\":[\"function () {\\n    var handler = ((function (k){this.k=k; this.container=this.dom.querySelector(\\\"#container\\\"); return k.render(\\\"\\\\\\\\;\\\\\\\\;\\\",this.container)}));\\n    (WebIO.importBlock({\\\"data\\\":[{\\\"name\\\":null,\\\"type\\\":\\\"js\\\",\\\"url\\\":\\\"\\/assetserver\\/dd22ed1bf1896c2748f3fe616ce0b838adc895c1-katex.min.js\\\"},{\\\"name\\\":null,\\\"type\\\":\\\"css\\\",\\\"url\\\":\\\"\\/assetserver\\/46517a424aa5e6cffc1360d7e0848b601c584ee3-katex.min.css\\\"}],\\\"type\\\":\\\"async_block\\\"})).then((imports) => handler.apply(this, imports));\\n}\\n\"],\"observables\":{\"value\":{\"sync\":false,\"id\":\"4790933557392054541\",\"value\":\"\\\\;\\\\;\"}}},\"children\":[{\"props\":{\"id\":\"container\"},\"nodeType\":\"DOM\",\"type\":\"node\",\"instanceArgs\":{\"namespace\":\"html\",\"tag\":\"div\"},\"children\":[]}]}]},{\"props\":{\"className\":\"field interact-widget\"},\"nodeType\":\"DOM\",\"type\":\"node\",\"instanceArgs\":{\"namespace\":\"html\",\"tag\":\"div\"},\"children\":[{\"props\":{},\"nodeType\":\"Scope\",\"type\":\"node\",\"instanceArgs\":{\"imports\":{\"data\":[{\"name\":\"knockout\",\"type\":\"js\",\"url\":\"\\/assetserver\\/727383f2a47bd31570b7da84eee7b022dd6d7c78-knockout.js\"},{\"name\":\"knockout_punches\",\"type\":\"js\",\"url\":\"\\/assetserver\\/382b41b3b1bd9f26f75861d360bad7f8beea211f-knockout_punches.js\"},{\"name\":null,\"type\":\"js\",\"url\":\"\\/assetserver\\/5ab20f1060420992a9b82a65b735dee4d81ef413-all.js\"},{\"name\":null,\"type\":\"css\",\"url\":\"\\/assetserver\\/1cc0ed62837210b80a182cc3676512f895dab686-style.css\"},{\"name\":null,\"type\":\"css\",\"url\":\"\\/assetserver\\/2eee816f616df3549d7044d45e744fbf8d42bfa1-bulma_confined.min.css\"}],\"type\":\"async_block\"},\"id\":\"7413383350628304479\",\"handlers\":{\"loading\":[\"(function (val){return (val!=this.model[\\\"loading\\\"]()) ? (this.valueFromJulia[\\\"loading\\\"]=true, this.model[\\\"loading\\\"](val)) : undefined})\"],\"clicks\":[\"(function (val){return (val!=this.model[\\\"clicks\\\"]()) ? (this.valueFromJulia[\\\"clicks\\\"]=true, this.model[\\\"clicks\\\"](val)) : undefined})\"]},\"systemjs_options\":null,\"mount_callbacks\":[\"function () {\\n    var handler = (function (ko, koPunches) {\\n    ko.punches.enableAll();\\n    ko.bindingHandlers.numericValue = {\\n        init: function(element, valueAccessor, allBindings, data, context) {\\n            var stringified = ko.observable(ko.unwrap(valueAccessor()));\\n            stringified.subscribe(function(value) {\\n                var val = parseFloat(value);\\n                if (!isNaN(val)) {\\n                    valueAccessor()(val);\\n                }\\n            });\\n            valueAccessor().subscribe(function(value) {\\n                var str = JSON.stringify(value);\\n                if ((str == \\\"0\\\") && ([\\\"-0\\\", \\\"-0.\\\"].indexOf(stringified()) >= 0))\\n                     return;\\n                 if ([\\\"null\\\", \\\"\\\"].indexOf(str) >= 0)\\n                     return;\\n                stringified(str);\\n            });\\n            ko.applyBindingsToNode(\\n                element,\\n                {\\n                    value: stringified,\\n                    valueUpdate: allBindings.get('valueUpdate'),\\n                },\\n                context,\\n            );\\n        }\\n    };\\n    var json_data = {\\\"loading\\\":WebIO.getval({\\\"name\\\":\\\"loading\\\",\\\"scope\\\":\\\"7413383350628304479\\\",\\\"id\\\":\\\"15538664076992255552\\\",\\\"type\\\":\\\"observable\\\"}),\\\"clicks\\\":WebIO.getval({\\\"name\\\":\\\"clicks\\\",\\\"scope\\\":\\\"7413383350628304479\\\",\\\"id\\\":\\\"17354081770953846814\\\",\\\"type\\\":\\\"observable\\\"})};\\n    var self = this;\\n    function AppViewModel() {\\n        for (var key in json_data) {\\n            var el = json_data[key];\\n            this[key] = Array.isArray(el) ? ko.observableArray(el) : ko.observable(el);\\n        }\\n        \\n        \\n        [this[\\\"loading\\\"].subscribe((function (val){!(this.valueFromJulia[\\\"loading\\\"]) ? (WebIO.setval({\\\"name\\\":\\\"loading\\\",\\\"scope\\\":\\\"7413383350628304479\\\",\\\"id\\\":\\\"15538664076992255552\\\",\\\"type\\\":\\\"observable\\\"},val)) : undefined; return this.valueFromJulia[\\\"loading\\\"]=false}),self),this[\\\"clicks\\\"].subscribe((function (val){!(this.valueFromJulia[\\\"clicks\\\"]) ? (WebIO.setval({\\\"name\\\":\\\"clicks\\\",\\\"scope\\\":\\\"7413383350628304479\\\",\\\"id\\\":\\\"17354081770953846814\\\",\\\"type\\\":\\\"observable\\\"},val)) : undefined; return this.valueFromJulia[\\\"clicks\\\"]=false}),self)]\\n        \\n    }\\n    self.model = new AppViewModel();\\n    self.valueFromJulia = {};\\n    for (var key in json_data) {\\n        self.valueFromJulia[key] = false;\\n    }\\n    ko.applyBindings(self.model, self.dom);\\n}\\n);\\n    (WebIO.importBlock({\\\"data\\\":[{\\\"name\\\":\\\"knockout\\\",\\\"type\\\":\\\"js\\\",\\\"url\\\":\\\"\\/assetserver\\/727383f2a47bd31570b7da84eee7b022dd6d7c78-knockout.js\\\"},{\\\"name\\\":\\\"knockout_punches\\\",\\\"type\\\":\\\"js\\\",\\\"url\\\":\\\"\\/assetserver\\/382b41b3b1bd9f26f75861d360bad7f8beea211f-knockout_punches.js\\\"}],\\\"type\\\":\\\"async_block\\\"})).then((imports) => handler.apply(this, imports));\\n}\\n\"],\"observables\":{\"loading\":{\"sync\":false,\"id\":\"15538664076992255552\",\"value\":false},\"clicks\":{\"sync\":true,\"id\":\"17354081770953846814\",\"value\":0}}},\"children\":[{\"props\":{\"attributes\":{\"data-bind\":\"click: function (){this.clicks(this.clicks()+1)}, css: {'is-loading' : loading}\"},\"className\":\"is-medium button is-primary\",\"style\":{}},\"nodeType\":\"DOM\",\"type\":\"node\",\"instanceArgs\":{\"namespace\":\"html\",\"tag\":\"button\"},\"children\":[\"stop\"]}]}]},{\"props\":{\"className\":\"interact-widget\"},\"nodeType\":\"DOM\",\"type\":\"node\",\"instanceArgs\":{\"namespace\":\"html\",\"tag\":\"div\"},\"children\":[{\"props\":{},\"nodeType\":\"Scope\",\"type\":\"node\",\"instanceArgs\":{\"imports\":{\"data\":[{\"name\":null,\"type\":\"js\",\"url\":\"\\/assetserver\\/dd22ed1bf1896c2748f3fe616ce0b838adc895c1-katex.min.js\"},{\"name\":null,\"type\":\"css\",\"url\":\"\\/assetserver\\/46517a424aa5e6cffc1360d7e0848b601c584ee3-katex.min.css\"}],\"type\":\"async_block\"},\"id\":\"8026476111211753037\",\"handlers\":{\"value\":[\"(function (txt){return this.k.render(txt,this.container)})\"]},\"systemjs_options\":null,\"mount_callbacks\":[\"function () {\\n    var handler = ((function (k){this.k=k; this.container=this.dom.querySelector(\\\"#container\\\"); return k.render(\\\"\\\\\\\\;\\\\\\\\;\\\",this.container)}));\\n    (WebIO.importBlock({\\\"data\\\":[{\\\"name\\\":null,\\\"type\\\":\\\"js\\\",\\\"url\\\":\\\"\\/assetserver\\/dd22ed1bf1896c2748f3fe616ce0b838adc895c1-katex.min.js\\\"},{\\\"name\\\":null,\\\"type\\\":\\\"css\\\",\\\"url\\\":\\\"\\/assetserver\\/46517a424aa5e6cffc1360d7e0848b601c584ee3-katex.min.css\\\"}],\\\"type\\\":\\\"async_block\\\"})).then((imports) => handler.apply(this, imports));\\n}\\n\"],\"observables\":{\"value\":{\"sync\":false,\"id\":\"4790933557392054541\",\"value\":\"\\\\;\\\\;\"}}},\"children\":[{\"props\":{\"id\":\"container\"},\"nodeType\":\"DOM\",\"type\":\"node\",\"instanceArgs\":{\"namespace\":\"html\",\"tag\":\"div\"},\"children\":[]}]}]},{\"props\":{\"className\":\"field interact-widget\"},\"nodeType\":\"DOM\",\"type\":\"node\",\"instanceArgs\":{\"namespace\":\"html\",\"tag\":\"div\"},\"children\":[{\"props\":{},\"nodeType\":\"Scope\",\"type\":\"node\",\"instanceArgs\":{\"imports\":{\"data\":[{\"name\":\"knockout\",\"type\":\"js\",\"url\":\"\\/assetserver\\/727383f2a47bd31570b7da84eee7b022dd6d7c78-knockout.js\"},{\"name\":\"knockout_punches\",\"type\":\"js\",\"url\":\"\\/assetserver\\/382b41b3b1bd9f26f75861d360bad7f8beea211f-knockout_punches.js\"},{\"name\":null,\"type\":\"js\",\"url\":\"\\/assetserver\\/5ab20f1060420992a9b82a65b735dee4d81ef413-all.js\"},{\"name\":null,\"type\":\"css\",\"url\":\"\\/assetserver\\/1cc0ed62837210b80a182cc3676512f895dab686-style.css\"},{\"name\":null,\"type\":\"css\",\"url\":\"\\/assetserver\\/2eee816f616df3549d7044d45e744fbf8d42bfa1-bulma_confined.min.css\"}],\"type\":\"async_block\"},\"id\":\"10735529990011747887\",\"handlers\":{\"loading\":[\"(function (val){return (val!=this.model[\\\"loading\\\"]()) ? (this.valueFromJulia[\\\"loading\\\"]=true, this.model[\\\"loading\\\"](val)) : undefined})\"],\"clicks\":[\"(function (val){return (val!=this.model[\\\"clicks\\\"]()) ? (this.valueFromJulia[\\\"clicks\\\"]=true, this.model[\\\"clicks\\\"](val)) : undefined})\"]},\"systemjs_options\":null,\"mount_callbacks\":[\"function () {\\n    var handler = (function (ko, koPunches) {\\n    ko.punches.enableAll();\\n    ko.bindingHandlers.numericValue = {\\n        init: function(element, valueAccessor, allBindings, data, context) {\\n            var stringified = ko.observable(ko.unwrap(valueAccessor()));\\n            stringified.subscribe(function(value) {\\n                var val = parseFloat(value);\\n                if (!isNaN(val)) {\\n                    valueAccessor()(val);\\n                }\\n            });\\n            valueAccessor().subscribe(function(value) {\\n                var str = JSON.stringify(value);\\n                if ((str == \\\"0\\\") && ([\\\"-0\\\", \\\"-0.\\\"].indexOf(stringified()) >= 0))\\n                     return;\\n                 if ([\\\"null\\\", \\\"\\\"].indexOf(str) >= 0)\\n                     return;\\n                stringified(str);\\n            });\\n            ko.applyBindingsToNode(\\n                element,\\n                {\\n                    value: stringified,\\n                    valueUpdate: allBindings.get('valueUpdate'),\\n                },\\n                context,\\n            );\\n        }\\n    };\\n    var json_data = {\\\"loading\\\":WebIO.getval({\\\"name\\\":\\\"loading\\\",\\\"scope\\\":\\\"10735529990011747887\\\",\\\"id\\\":\\\"10727192120633518716\\\",\\\"type\\\":\\\"observable\\\"}),\\\"clicks\\\":WebIO.getval({\\\"name\\\":\\\"clicks\\\",\\\"scope\\\":\\\"10735529990011747887\\\",\\\"id\\\":\\\"18245853765989599361\\\",\\\"type\\\":\\\"observable\\\"})};\\n    var self = this;\\n    function AppViewModel() {\\n        for (var key in json_data) {\\n            var el = json_data[key];\\n            this[key] = Array.isArray(el) ? ko.observableArray(el) : ko.observable(el);\\n        }\\n        \\n        \\n        [this[\\\"loading\\\"].subscribe((function (val){!(this.valueFromJulia[\\\"loading\\\"]) ? (WebIO.setval({\\\"name\\\":\\\"loading\\\",\\\"scope\\\":\\\"10735529990011747887\\\",\\\"id\\\":\\\"10727192120633518716\\\",\\\"type\\\":\\\"observable\\\"},val)) : undefined; return this.valueFromJulia[\\\"loading\\\"]=false}),self),this[\\\"clicks\\\"].subscribe((function (val){!(this.valueFromJulia[\\\"clicks\\\"]) ? (WebIO.setval({\\\"name\\\":\\\"clicks\\\",\\\"scope\\\":\\\"10735529990011747887\\\",\\\"id\\\":\\\"18245853765989599361\\\",\\\"type\\\":\\\"observable\\\"},val)) : undefined; return this.valueFromJulia[\\\"clicks\\\"]=false}),self)]\\n        \\n    }\\n    self.model = new AppViewModel();\\n    self.valueFromJulia = {};\\n    for (var key in json_data) {\\n        self.valueFromJulia[key] = false;\\n    }\\n    ko.applyBindings(self.model, self.dom);\\n}\\n);\\n    (WebIO.importBlock({\\\"data\\\":[{\\\"name\\\":\\\"knockout\\\",\\\"type\\\":\\\"js\\\",\\\"url\\\":\\\"\\/assetserver\\/727383f2a47bd31570b7da84eee7b022dd6d7c78-knockout.js\\\"},{\\\"name\\\":\\\"knockout_punches\\\",\\\"type\\\":\\\"js\\\",\\\"url\\\":\\\"\\/assetserver\\/382b41b3b1bd9f26f75861d360bad7f8beea211f-knockout_punches.js\\\"}],\\\"type\\\":\\\"async_block\\\"})).then((imports) => handler.apply(this, imports));\\n}\\n\"],\"observables\":{\"loading\":{\"sync\":false,\"id\":\"10727192120633518716\",\"value\":false},\"clicks\":{\"sync\":true,\"id\":\"18245853765989599361\",\"value\":0}}},\"children\":[{\"props\":{\"attributes\":{\"data-bind\":\"click: function (){this.clicks(this.clicks()+1)}, css: {'is-loading' : loading}\"},\"className\":\"is-medium button is-primary\",\"style\":{}},\"nodeType\":\"DOM\",\"type\":\"node\",\"instanceArgs\":{\"namespace\":\"html\",\"tag\":\"button\"},\"children\":[\"save\"]}]}]}]}]},{\"props\":{\"className\":\"interact-widget\"},\"nodeType\":\"DOM\",\"type\":\"node\",\"instanceArgs\":{\"namespace\":\"html\",\"tag\":\"div\"},\"children\":[{\"props\":{},\"nodeType\":\"Scope\",\"type\":\"node\",\"instanceArgs\":{\"imports\":{\"data\":[{\"name\":null,\"type\":\"js\",\"url\":\"\\/assetserver\\/dd22ed1bf1896c2748f3fe616ce0b838adc895c1-katex.min.js\"},{\"name\":null,\"type\":\"css\",\"url\":\"\\/assetserver\\/46517a424aa5e6cffc1360d7e0848b601c584ee3-katex.min.css\"}],\"type\":\"async_block\"},\"id\":\"8026476111211753037\",\"handlers\":{\"value\":[\"(function (txt){return this.k.render(txt,this.container)})\"]},\"systemjs_options\":null,\"mount_callbacks\":[\"function () {\\n    var handler = ((function (k){this.k=k; this.container=this.dom.querySelector(\\\"#container\\\"); return k.render(\\\"\\\\\\\\;\\\\\\\\;\\\",this.container)}));\\n    (WebIO.importBlock({\\\"data\\\":[{\\\"name\\\":null,\\\"type\\\":\\\"js\\\",\\\"url\\\":\\\"\\/assetserver\\/dd22ed1bf1896c2748f3fe616ce0b838adc895c1-katex.min.js\\\"},{\\\"name\\\":null,\\\"type\\\":\\\"css\\\",\\\"url\\\":\\\"\\/assetserver\\/46517a424aa5e6cffc1360d7e0848b601c584ee3-katex.min.css\\\"}],\\\"type\\\":\\\"async_block\\\"})).then((imports) => handler.apply(this, imports));\\n}\\n\"],\"observables\":{\"value\":{\"sync\":false,\"id\":\"4790933557392054541\",\"value\":\"\\\\;\\\\;\"}}},\"children\":[{\"props\":{\"id\":\"container\"},\"nodeType\":\"DOM\",\"type\":\"node\",\"instanceArgs\":{\"namespace\":\"html\",\"tag\":\"div\"},\"children\":[]}]}]},{\"props\":{},\"nodeType\":\"Scope\",\"type\":\"node\",\"instanceArgs\":{\"imports\":{\"data\":[],\"type\":\"async_block\"},\"id\":\"8594862911367936274\",\"handlers\":{\"obs-output\":[\"function (value, scope) {\\n    scope.setInnerHTML(value);\\n}\\n\"]},\"systemjs_options\":null,\"mount_callbacks\":[],\"observables\":{\"obs-output\":{\"sync\":false,\"id\":\"12733159641936646991\",\"value\":\"<img src='data:image\\/png;base64,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'><\\/img>\"}}},\"children\":[{\"props\":{\"className\":\"webio-observable\",\"setInnerHtml\":\"<img src='data:image\\/png;base64,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'><\\/img>\"},\"nodeType\":\"DOM\",\"type\":\"node\",\"instanceArgs\":{\"namespace\":\"html\",\"tag\":\"div\"},\"children\":[]}]},{\"props\":{\"className\":\"interact-widget\"},\"nodeType\":\"DOM\",\"type\":\"node\",\"instanceArgs\":{\"namespace\":\"html\",\"tag\":\"div\"},\"children\":[{\"props\":{},\"nodeType\":\"Scope\",\"type\":\"node\",\"instanceArgs\":{\"imports\":{\"data\":[{\"name\":null,\"type\":\"js\",\"url\":\"\\/assetserver\\/dd22ed1bf1896c2748f3fe616ce0b838adc895c1-katex.min.js\"},{\"name\":null,\"type\":\"css\",\"url\":\"\\/assetserver\\/46517a424aa5e6cffc1360d7e0848b601c584ee3-katex.min.css\"}],\"type\":\"async_block\"},\"id\":\"8026476111211753037\",\"handlers\":{\"value\":[\"(function (txt){return this.k.render(txt,this.container)})\"]},\"systemjs_options\":null,\"mount_callbacks\":[\"function () {\\n    var handler = ((function (k){this.k=k; this.container=this.dom.querySelector(\\\"#container\\\"); return k.render(\\\"\\\\\\\\;\\\\\\\\;\\\",this.container)}));\\n    (WebIO.importBlock({\\\"data\\\":[{\\\"name\\\":null,\\\"type\\\":\\\"js\\\",\\\"url\\\":\\\"\\/assetserver\\/dd22ed1bf1896c2748f3fe616ce0b838adc895c1-katex.min.js\\\"},{\\\"name\\\":null,\\\"type\\\":\\\"css\\\",\\\"url\\\":\\\"\\/assetserver\\/46517a424aa5e6cffc1360d7e0848b601c584ee3-katex.min.css\\\"}],\\\"type\\\":\\\"async_block\\\"})).then((imports) => handler.apply(this, imports));\\n}\\n\"],\"observables\":{\"value\":{\"sync\":false,\"id\":\"4790933557392054541\",\"value\":\"\\\\;\\\\;\"}}},\"children\":[{\"props\":{\"id\":\"container\"},\"nodeType\":\"DOM\",\"type\":\"node\",\"instanceArgs\":{\"namespace\":\"html\",\"tag\":\"div\"},\"children\":[]}]}]},{\"props\":{\"style\":{\"display\":\"flex\",\"flex-direction\":\"column\"}},\"nodeType\":\"DOM\",\"type\":\"node\",\"instanceArgs\":{\"namespace\":\"html\",\"tag\":\"div\"},\"children\":[]}]}]},\n",
       "        window,\n",
       "    );\n",
       "    })()\n",
       "    </script>\n",
       "</div>\n"
      ],
      "text/plain": [
       "WebIO.Node{WebIO.DOM}(WebIO.DOM(:html, :div), Any[WebIO.Node{WebIO.DOM}(WebIO.DOM(:html, :div), Any[WebIO.Node{WebIO.DOM}(WebIO.DOM(:html, :div), Any[WebIO.Node{WebIO.DOM}(WebIO.DOM(:html, :div), Any[WebIO.Scope(WebIO.Node{WebIO.DOM}(WebIO.DOM(:html, :div), Any[WebIO.Node{WebIO.DOM}(WebIO.DOM(:html, :div), Any[WebIO.Node{WebIO.DOM}(WebIO.DOM(:html, :label), Any[\"time\"], Dict{Symbol, Any}(:className => \"interact \", :style => Dict{Any, Any}(:padding => \"5px 10px 0px 10px\")))], Dict{Symbol, Any}(:className => \"interact-flex-row-left\")), WebIO.Node{WebIO.DOM}(WebIO.DOM(:html, :div), Any[WebIO.Node{WebIO.DOM}(WebIO.DOM(:html, :input), Any[], Dict{Symbol, Any}(:max => 401, :min => 1, :attributes => Dict{Any, Any}(:type => \"range\", Symbol(\"data-bind\") => \"numericValue: index, valueUpdate: 'input', event: {change: function (){this.changes(this.changes()+1)}}\", \"orient\" => \"horizontal\"), :step => 1, :className => \"slider slider is-fullwidth\", :style => Dict{Any, Any}()))], Dict{Symbol, Any}(:className => \"interact-flex-row-center\")), WebIO.Node{WebIO.DOM}(WebIO.DOM(:html, :div), Any[WebIO.Node{WebIO.DOM}(WebIO.DOM(:html, :p), Any[], Dict{Symbol, Any}(:attributes => Dict(\"data-bind\" => \"text: formatted_val\")))], Dict{Symbol, Any}(:className => \"interact-flex-row-right\"))], Dict{Symbol, Any}(:className => \"interact-flex-row interact-widget\")), Dict{String, Tuple{Observables.AbstractObservable, Union{Nothing, Bool}}}(\"changes\" => (Observable(0), nothing), \"index\" => (Observable(201), nothing)), Set{String}(), nothing, WebIO.Asset[WebIO.Asset(\"js\", \"knockout\", \"/home/dushya/.julia/packages/Knockout/HReiN/src/../assets/knockout.js\"), WebIO.Asset(\"js\", \"knockout_punches\", \"/home/dushya/.julia/packages/Knockout/HReiN/src/../assets/knockout_punches.js\"), WebIO.Asset(\"js\", nothing, \"/home/dushya/.julia/packages/InteractBase/LJXv3/src/../assets/all.js\"), WebIO.Asset(\"css\", nothing, \"/home/dushya/.julia/packages/InteractBase/LJXv3/src/../assets/style.css\"), WebIO.Asset(\"css\", nothing, \"/home/dushya/.julia/packages/Interact/PENUy/src/../assets/bulma_confined.min.css\")], Dict{Any, Any}(\"changes\" => Any[WebIO.JSString(\"(function (val){return (val!=this.model[\\\"changes\\\"]()) ? (this.valueFromJulia[\\\"changes\\\"]=true, this.model[\\\"changes\\\"](val)) : undefined})\")], \"index\" => Any[WebIO.JSString(\"(function (val){return (val!=this.model[\\\"index\\\"]()) ? (this.valueFromJulia[\\\"index\\\"]=true, this.model[\\\"index\\\"](val)) : undefined})\")]), WebIO.ConnectionPool(Channel{Any}(32), Set{WebIO.AbstractConnection}(), Base.GenericCondition{ReentrantLock}(Base.IntrusiveLinkedList{Task}(Task (runnable) @0x00007f1279821460, Task (runnable) @0x00007f1279821460), ReentrantLock(nothing, 0x00000000, 0x00, Base.GenericCondition{Base.Threads.SpinLock}(Base.IntrusiveLinkedList{Task}(nothing, nothing), Base.Threads.SpinLock(0)), (8, 139718224245488, 141733920768)))), WebIO.JSString[WebIO.JSString(\"function () {\\n    var handler = (function (ko, koPunches) {\\n    ko.punches.enableAll();\\n    ko.bindingHandlers.numericValue = {\\n        init: function(element, valueAccessor, allBindings, data, context) {\\n            var stringified = ko.observable(ko.unwrap(valueAccessor()));\\n            stringified.subscribe(function(value) {\\n                var val = parseFloat(value);\\n                if (!isNaN(val)) {\\n                    valueAccessor()(val);\\n                }\\n            });\\n            valueAccessor().subscribe(function(value) {\\n                var str = JSON.stringify(value);\\n                if ((str == \\\"0\\\") && ([\\\"-0\\\", \\\"-0.\\\"].indexOf(stringified()) >= 0))\\n                     return;\\n                 if ([\\\"null\\\", \\\"\\\"].indexOf(str) >= 0)\\n                     return;\\n                stringified(str);\\n            });\\n            ko.applyBindingsToNode(\\n                element,\\n                {\\n                    value: stringified,\\n                    valueUpdate: allBindings.get('valueUpdate'),\\n                },\\n                context,\\n            );\\n        }\\n    };\\n    var json_data = {\\\"formatted_vals\\\":[\\\"1\\\",\\\"2\\\",\\\"3\\\",\\\"4\\\",\\\"5\\\",\\\"6\\\",\\\"7\\\",\\\"8\\\",\\\"9\\\",\\\"10\\\",\\\"11\\\",\\\"12\\\",\\\"13\\\",\\\"14\\\",\\\"15\\\",\\\"16\\\",\\\"17\\\",\\\"18\\\",\\\"19\\\",\\\"20\\\",\\\"21\\\",\\\"22\\\",\\\"23\\\",\\\"24\\\",\\\"25\\\",\\\"26\\\",\\\"27\\\",\\\"28\\\",\\\"29\\\",\\\"30\\\",\\\"31\\\",\\\"32\\\",\\\"33\\\",\\\"34\\\",\\\"35\\\",\\\"36\\\",\\\"37\\\",\\\"38\\\",\\\"39\\\",\\\"40\\\",\\\"41\\\",\\\"42\\\",\\\"43\\\",\\\"44\\\",\\\"45\\\",\\\"46\\\",\\\"47\\\",\\\"48\\\",\\\"49\\\",\\\"50\\\",\\\"51\\\",\\\"52\\\",\\\"53\\\",\\\"54\\\",\\\"55\\\",\\\"56\\\",\\\"57\\\",\\\"58\\\",\\\"59\\\",\\\"60\\\",\\\"61\\\",\\\"62\\\",\\\"63\\\",\\\"64\\\",\\\"65\\\",\\\"66\\\",\\\"67\\\",\\\"68\\\",\\\"69\\\",\\\"70\\\",\\\"71\\\",\\\"72\\\",\\\"73\\\",\\\"74\\\",\\\"75\\\",\\\"76\\\",\\\"77\\\",\\\"78\\\",\\\"79\\\",\\\"80\\\",\\\"81\\\",\\\"82\\\",\\\"83\\\",\\\"84\\\",\\\"85\\\",\\\"86\\\",\\\"87\\\",\\\"88\\\",\\\"89\\\",\\\"90\\\",\\\"91\\\",\\\"92\\\",\\\"93\\\",\\\"94\\\",\\\"95\\\",\\\"96\\\",\\\"97\\\",\\\"98\\\",\\\"99\\\",\\\"100\\\",\\\"101\\\",\\\"102\\\",\\\"103\\\",\\\"104\\\",\\\"105\\\",\\\"106\\\",\\\"107\\\",\\\"108\\\",\\\"109\\\",\\\"110\\\",\\\"111\\\",\\\"112\\\",\\\"113\\\",\\\"114\\\",\\\"115\\\",\\\"116\\\",\\\"117\\\",\\\"118\\\",\\\"119\\\",\\\"120\\\",\\\"121\\\",\\\"122\\\",\\\"123\\\",\\\"124\\\",\\\"125\\\",\\\"126\\\",\\\"127\\\",\\\"128\\\",\\\"129\\\",\\\"130\\\",\\\"131\\\",\\\"132\\\",\\\"133\\\",\\\"134\\\",\\\"135\\\",\\\"136\\\",\\\"137\\\",\\\"138\\\",\\\"139\\\",\\\"140\\\",\\\"141\\\",\\\"142\\\",\\\"143\\\",\\\"144\\\",\\\"145\\\",\\\"146\\\",\\\"147\\\",\\\"148\\\",\\\"149\\\",\\\"150\\\",\\\"151\\\",\\\"152\\\",\\\"153\\\",\\\"154\\\",\\\"155\\\",\\\"156\\\",\\\"157\\\",\\\"158\\\",\\\"159\\\",\\\"160\\\",\\\"161\\\",\\\"162\\\",\\\"163\\\",\\\"164\\\",\\\"165\\\",\\\"166\\\",\\\"167\\\",\\\"168\\\",\\\"169\\\",\\\"170\\\",\\\"171\\\",\\\"172\\\",\\\"173\\\",\\\"174\\\",\\\"175\\\",\\\"176\\\",\\\"177\\\",\\\"178\\\",\\\"179\\\",\\\"180\\\",\\\"181\\\",\\\"182\\\",\\\"183\\\",\\\"184\\\",\\\"185\\\",\\\"186\\\",\\\"187\\\",\\\"188\\\",\\\"189\\\",\\\"190\\\",\\\"191\\\",\\\"192\\\",\\\"193\\\",\\\"194\\\",\\\"195\\\",\\\"196\\\",\\\"197\\\",\\\"198\\\",\\\"199\\\",\\\"200\\\",\\\"201\\\",\\\"202\\\",\\\"203\\\",\\\"204\\\",\\\"205\\\",\\\"206\\\",\\\"207\\\",\\\"208\\\",\\\"209\\\",\\\"210\\\",\\\"211\\\",\\\"212\\\",\\\"213\\\",\\\"214\\\",\\\"215\\\",\\\"216\\\",\\\"217\\\",\\\"218\\\",\\\"219\\\",\\\"220\\\",\\\"221\\\",\\\"222\\\",\\\"223\\\",\\\"224\\\",\\\"225\\\",\\\"226\\\",\\\"227\\\",\\\"228\\\",\\\"229\\\",\\\"230\\\",\\\"231\\\",\\\"232\\\",\\\"233\\\",\\\"234\\\",\\\"235\\\",\\\"236\\\",\\\"237\\\",\\\"238\\\",\\\"239\\\",\\\"240\\\",\\\"241\\\",\\\"242\\\",\\\"243\\\",\\\"244\\\",\\\"245\\\",\\\"246\\\",\\\"247\\\",\\\"248\\\",\\\"249\\\",\\\"250\\\",\\\"251\\\",\\\"252\\\",\\\"253\\\",\\\"254\\\",\\\"255\\\",\\\"256\\\",\\\"257\\\",\\\"258\\\",\\\"259\\\",\\\"260\\\",\\\"261\\\",\\\"262\\\",\\\"263\\\",\\\"264\\\",\\\"265\\\",\\\"266\\\",\\\"267\\\",\\\"268\\\",\\\"269\\\",\\\"270\\\",\\\"271\\\",\\\"272\\\",\\\"273\\\",\\\"274\\\",\\\"275\\\",\\\"276\\\",\\\"277\\\",\\\"278\\\",\\\"279\\\",\\\"280\\\",\\\"281\\\",\\\"282\\\",\\\"283\\\",\\\"284\\\",\\\"285\\\",\\\"286\\\",\\\"287\\\",\\\"288\\\",\\\"289\\\",\\\"290\\\",\\\"291\\\",\\\"292\\\",\\\"293\\\",\\\"294\\\",\\\"295\\\",\\\"296\\\",\\\"297\\\",\\\"298\\\",\\\"299\\\",\\\"300\\\",\\\"301\\\",\\\"302\\\",\\\"303\\\",\\\"304\\\",\\\"305\\\",\\\"306\\\",\\\"307\\\",\\\"308\\\",\\\"309\\\",\\\"310\\\",\\\"311\\\",\\\"312\\\",\\\"313\\\",\\\"314\\\",\\\"315\\\",\\\"316\\\",\\\"317\\\",\\\"318\\\",\\\"319\\\",\\\"320\\\",\\\"321\\\",\\\"322\\\",\\\"323\\\",\\\"324\\\",\\\"325\\\",\\\"326\\\",\\\"327\\\",\\\"328\\\",\\\"329\\\",\\\"330\\\",\\\"331\\\",\\\"332\\\",\\\"333\\\",\\\"334\\\",\\\"335\\\",\\\"336\\\",\\\"337\\\",\\\"338\\\",\\\"339\\\",\\\"340\\\",\\\"341\\\",\\\"342\\\",\\\"343\\\",\\\"344\\\",\\\"345\\\",\\\"346\\\",\\\"347\\\",\\\"348\\\",\\\"349\\\",\\\"350\\\",\\\"351\\\",\\\"352\\\",\\\"353\\\",\\\"354\\\",\\\"355\\\",\\\"356\\\",\\\"357\\\",\\\"358\\\",\\\"359\\\",\\\"360\\\",\\\"361\\\",\\\"362\\\",\\\"363\\\",\\\"364\\\",\\\"365\\\",\\\"366\\\",\\\"367\\\",\\\"368\\\",\\\"369\\\",\\\"370\\\",\\\"371\\\",\\\"372\\\",\\\"373\\\",\\\"374\\\",\\\"375\\\",\\\"376\\\",\\\"377\\\",\\\"378\\\",\\\"379\\\",\\\"380\\\",\\\"381\\\",\\\"382\\\",\\\"383\\\",\\\"384\\\",\\\"385\\\",\\\"386\\\",\\\"387\\\",\\\"388\\\",\\\"389\\\",\\\"390\\\",\\\"391\\\",\\\"392\\\",\\\"393\\\",\\\"394\\\",\\\"395\\\",\\\"396\\\",\\\"397\\\",\\\"398\\\",\\\"399\\\",\\\"400\\\",\\\"401\\\"],\\\"changes\\\":WebIO.getval({\\\"name\\\":\\\"changes\\\",\\\"scope\\\":\\\"14907179793622869506\\\",\\\"id\\\":\\\"5343431914073817586\\\",\\\"type\\\":\\\"observable\\\"}),\\\"index\\\":WebIO.getval({\\\"name\\\":\\\"index\\\",\\\"scope\\\":\\\"14907179793622869506\\\",\\\"id\\\":\\\"13871682032973635065\\\",\\\"type\\\":\\\"observable\\\"})};\\n    var self = this;\\n    function AppViewModel() {\\n        for (var key in json_data) {\\n            var el = json_data[key];\\n            this[key] = Array.isArray(el) ? ko.observableArray(el) : ko.observable(el);\\n        }\\n        \\n        [this[\\\"formatted_val\\\"]=ko.computed(    function(){\\n        return this.formatted_vals()[parseInt(this.index())-(1)];\\n    }\\n,this)]\\n        [this[\\\"changes\\\"].subscribe((function (val){!(this.valueFromJulia[\\\"changes\\\"]) ? (WebIO.setval({\\\"name\\\":\\\"changes\\\",\\\"scope\\\":\\\"14907179793622869506\\\",\\\"id\\\":\\\"5343431914073817586\\\",\\\"type\\\":\\\"observable\\\"},val)) : undefined; return this.valueFromJulia[\\\"changes\\\"]=false}),self),this[\\\"index\\\"].subscribe((function (val){!(this.valueFromJulia[\\\"index\\\"]) ? (WebIO.setval({\\\"name\\\":\\\"index\\\",\\\"scope\\\":\\\"14907179793622869506\\\",\\\"id\\\":\\\"13871682032973635065\\\",\\\"type\\\":\\\"observable\\\"},val)) : undefined; return this.valueFromJulia[\\\"index\\\"]=false}),self)]\\n        \\n    }\\n    self.model = new AppViewModel();\\n    self.valueFromJulia = {};\\n    for (var key in json_data) {\\n        self.valueFromJulia[key] = false;\\n    }\\n    ko.applyBindings(self.model, self.dom);\\n}\\n);\\n    (WebIO.importBlock({\\\"data\\\":[{\\\"name\\\":\\\"knockout\\\",\\\"type\\\":\\\"js\\\",\\\"url\\\":\\\"/assetserver/727383f2a47bd31570b7da84eee7b022dd6d7c78-knockout.js\\\"},{\\\"name\\\":\\\"knockout_punches\\\",\\\"type\\\":\\\"js\\\",\\\"url\\\":\\\"/assetserver/382b41b3b1bd9f26f75861d360bad7f8beea211f-knockout_punches.js\\\"}],\\\"type\\\":\\\"async_block\\\"})).then((imports) => handler.apply(this, imports));\\n}\\n\")])], Dict{Symbol, Any}(:className => \"field interact-widget\")), WebIO.Node{WebIO.DOM}(WebIO.DOM(:html, :div), Any[WebIO.Scope(WebIO.Node{WebIO.DOM}(WebIO.DOM(:html, :div), Any[WebIO.Node{WebIO.DOM}(WebIO.DOM(:html, :div), Any[WebIO.Node{WebIO.DOM}(WebIO.DOM(:html, :label), Any[\"scale\"], Dict{Symbol, Any}(:className => \"interact \", :style => Dict{Any, Any}(:padding => \"5px 10px 0px 10px\")))], Dict{Symbol, Any}(:className => \"interact-flex-row-left\")), WebIO.Node{WebIO.DOM}(WebIO.DOM(:html, :div), Any[WebIO.Node{WebIO.DOM}(WebIO.DOM(:html, :input), Any[], Dict{Symbol, Any}(:max => 20, :min => 1, :attributes => Dict{Any, Any}(:type => \"range\", Symbol(\"data-bind\") => \"numericValue: index, valueUpdate: 'input', event: {change: function (){this.changes(this.changes()+1)}}\", \"orient\" => \"horizontal\"), :step => 1, :className => \"slider slider is-fullwidth\", :style => Dict{Any, Any}()))], Dict{Symbol, Any}(:className => \"interact-flex-row-center\")), WebIO.Node{WebIO.DOM}(WebIO.DOM(:html, :div), Any[WebIO.Node{WebIO.DOM}(WebIO.DOM(:html, :p), Any[], Dict{Symbol, Any}(:attributes => Dict(\"data-bind\" => \"text: formatted_val\")))], Dict{Symbol, Any}(:className => \"interact-flex-row-right\"))], Dict{Symbol, Any}(:className => \"interact-flex-row interact-widget\")), Dict{String, Tuple{Observables.AbstractObservable, Union{Nothing, Bool}}}(\"changes\" => (Observable(0), nothing), \"index\" => (Observable{Any}(10), nothing)), Set{String}(), nothing, WebIO.Asset[WebIO.Asset(\"js\", \"knockout\", \"/home/dushya/.julia/packages/Knockout/HReiN/src/../assets/knockout.js\"), WebIO.Asset(\"js\", \"knockout_punches\", \"/home/dushya/.julia/packages/Knockout/HReiN/src/../assets/knockout_punches.js\"), WebIO.Asset(\"js\", nothing, \"/home/dushya/.julia/packages/InteractBase/LJXv3/src/../assets/all.js\"), WebIO.Asset(\"css\", nothing, \"/home/dushya/.julia/packages/InteractBase/LJXv3/src/../assets/style.css\"), WebIO.Asset(\"css\", nothing, \"/home/dushya/.julia/packages/Interact/PENUy/src/../assets/bulma_confined.min.css\")], Dict{Any, Any}(\"changes\" => Any[WebIO.JSString(\"(function (val){return (val!=this.model[\\\"changes\\\"]()) ? (this.valueFromJulia[\\\"changes\\\"]=true, this.model[\\\"changes\\\"](val)) : undefined})\")], \"index\" => Any[WebIO.JSString(\"(function (val){return (val!=this.model[\\\"index\\\"]()) ? (this.valueFromJulia[\\\"index\\\"]=true, this.model[\\\"index\\\"](val)) : undefined})\")]), WebIO.ConnectionPool(Channel{Any}(32), Set{WebIO.AbstractConnection}(), Base.GenericCondition{ReentrantLock}(Base.IntrusiveLinkedList{Task}(Task (runnable) @0x00007f12385a2bd0, Task (runnable) @0x00007f12385a2bd0), ReentrantLock(nothing, 0x00000000, 0x00, Base.GenericCondition{Base.Threads.SpinLock}(Base.IntrusiveLinkedList{Task}(nothing, nothing), Base.Threads.SpinLock(0)), (0, 0, 139779710648320)))), WebIO.JSString[WebIO.JSString(\"function () {\\n    var handler = (function (ko, koPunches) {\\n    ko.punches.enableAll();\\n    ko.bindingHandlers.numericValue = {\\n        init: function(element, valueAccessor, allBindings, data, context) {\\n            var stringified = ko.observable(ko.unwrap(valueAccessor()));\\n            stringified.subscribe(function(value) {\\n                var val = parseFloat(value);\\n                if (!isNaN(val)) {\\n                    valueAccessor()(val);\\n                }\\n            });\\n            valueAccessor().subscribe(function(value) {\\n                var str = JSON.stringify(value);\\n                if ((str == \\\"0\\\") && ([\\\"-0\\\", \\\"-0.\\\"].indexOf(stringified()) >= 0))\\n                     return;\\n                 if ([\\\"null\\\", \\\"\\\"].indexOf(str) >= 0)\\n                     return;\\n                stringified(str);\\n            });\\n            ko.applyBindingsToNode(\\n                element,\\n                {\\n                    value: stringified,\\n                    valueUpdate: allBindings.get('valueUpdate'),\\n                },\\n                context,\\n            );\\n        }\\n    };\\n    var json_data = {\\\"formatted_vals\\\":[\\\"0.1\\\",\\\"0.2\\\",\\\"0.3\\\",\\\"0.4\\\",\\\"0.5\\\",\\\"0.6\\\",\\\"0.7\\\",\\\"0.8\\\",\\\"0.9\\\",\\\"1.0\\\",\\\"1.1\\\",\\\"1.2\\\",\\\"1.3\\\",\\\"1.4\\\",\\\"1.5\\\",\\\"1.6\\\",\\\"1.7\\\",\\\"1.8\\\",\\\"1.9\\\",\\\"2.0\\\"],\\\"changes\\\":WebIO.getval({\\\"name\\\":\\\"changes\\\",\\\"scope\\\":\\\"7552399890828012444\\\",\\\"id\\\":\\\"9571035931364716858\\\",\\\"type\\\":\\\"observable\\\"}),\\\"index\\\":WebIO.getval({\\\"name\\\":\\\"index\\\",\\\"scope\\\":\\\"7552399890828012444\\\",\\\"id\\\":\\\"8093979564504896418\\\",\\\"type\\\":\\\"observable\\\"})};\\n    var self = this;\\n    function AppViewModel() {\\n        for (var key in json_data) {\\n            var el = json_data[key];\\n            this[key] = Array.isArray(el) ? ko.observableArray(el) : ko.observable(el);\\n        }\\n        \\n        [this[\\\"formatted_val\\\"]=ko.computed(    function(){\\n        return this.formatted_vals()[parseInt(this.index())-(1)];\\n    }\\n,this)]\\n        [this[\\\"changes\\\"].subscribe((function (val){!(this.valueFromJulia[\\\"changes\\\"]) ? (WebIO.setval({\\\"name\\\":\\\"changes\\\",\\\"scope\\\":\\\"7552399890828012444\\\",\\\"id\\\":\\\"9571035931364716858\\\",\\\"type\\\":\\\"observable\\\"},val)) : undefined; return this.valueFromJulia[\\\"changes\\\"]=false}),self),this[\\\"index\\\"].subscribe((function (val){!(this.valueFromJulia[\\\"index\\\"]) ? (WebIO.setval({\\\"name\\\":\\\"index\\\",\\\"scope\\\":\\\"7552399890828012444\\\",\\\"id\\\":\\\"8093979564504896418\\\",\\\"type\\\":\\\"observable\\\"},val)) : undefined; return this.valueFromJulia[\\\"index\\\"]=false}),self)]\\n        \\n    }\\n    self.model = new AppViewModel();\\n    self.valueFromJulia = {};\\n    for (var key in json_data) {\\n        self.valueFromJulia[key] = false;\\n    }\\n    ko.applyBindings(self.model, self.dom);\\n}\\n);\\n    (WebIO.importBlock({\\\"data\\\":[{\\\"name\\\":\\\"knockout\\\",\\\"type\\\":\\\"js\\\",\\\"url\\\":\\\"/assetserver/727383f2a47bd31570b7da84eee7b022dd6d7c78-knockout.js\\\"},{\\\"name\\\":\\\"knockout_punches\\\",\\\"type\\\":\\\"js\\\",\\\"url\\\":\\\"/assetserver/382b41b3b1bd9f26f75861d360bad7f8beea211f-knockout_punches.js\\\"}],\\\"type\\\":\\\"async_block\\\"})).then((imports) => handler.apply(this, imports));\\n}\\n\")])], Dict{Symbol, Any}(:className => \"field interact-widget\")), WebIO.Node{WebIO.DOM}(WebIO.DOM(:html, :div), Any[WebIO.Node{WebIO.DOM}(WebIO.DOM(:html, :div), Any[WebIO.Scope(WebIO.Node{WebIO.DOM}(WebIO.DOM(:html, :div), Any[], Dict{Symbol, Any}(:id => \"container\")), Dict{String, Tuple{Observables.AbstractObservable, Union{Nothing, Bool}}}(\"value\" => (Observable(\"\\\\;\\\\;\"), nothing)), Set{String}(), nothing, WebIO.Asset[WebIO.Asset(\"js\", nothing, \"/home/dushya/.julia/packages/InteractBase/LJXv3/src/../assets/katex.min.js\"), WebIO.Asset(\"css\", nothing, \"/home/dushya/.julia/packages/InteractBase/LJXv3/src/../assets/katex.min.css\")], Dict{Any, Any}(\"value\" => Any[WebIO.JSString(\"(function (txt){return this.k.render(txt,this.container)})\")]), WebIO.ConnectionPool(Channel{Any}(32), Set{WebIO.AbstractConnection}(), Base.GenericCondition{ReentrantLock}(Base.IntrusiveLinkedList{Task}(Task (runnable) @0x00007f12adc768b0, Task (runnable) @0x00007f12adc768b0), ReentrantLock(nothing, 0x00000000, 0x00, Base.GenericCondition{Base.Threads.SpinLock}(Base.IntrusiveLinkedList{Task}(nothing, nothing), Base.Threads.SpinLock(0)), (0, 0, 141733920768)))), WebIO.JSString[WebIO.JSString(\"function () {\\n    var handler = ((function (k){this.k=k; this.container=this.dom.querySelector(\\\"#container\\\"); return k.render(\\\"\\\\\\\\;\\\\\\\\;\\\",this.container)}));\\n    (WebIO.importBlock({\\\"data\\\":[{\\\"name\\\":null,\\\"type\\\":\\\"js\\\",\\\"url\\\":\\\"/assetserver/dd22ed1bf1896c2748f3fe616ce0b838adc895c1-katex.min.js\\\"},{\\\"name\\\":null,\\\"type\\\":\\\"css\\\",\\\"url\\\":\\\"/assetserver/46517a424aa5e6cffc1360d7e0848b601c584ee3-katex.min.css\\\"}],\\\"type\\\":\\\"async_block\\\"})).then((imports) => handler.apply(this, imports));\\n}\\n\")])], Dict{Symbol, Any}(:className => \"interact-widget\")), WebIO.Node{WebIO.DOM}(WebIO.DOM(:html, :div), Any[WebIO.Scope(WebIO.Node{WebIO.DOM}(WebIO.DOM(:html, :button), Any[\"run\"], Dict{Symbol, Any}(:attributes => Dict{Any, Any}(\"data-bind\" => \"click: function (){this.clicks(this.clicks()+1)}, css: {'is-loading' : loading}\"), :className => \"is-medium button is-primary\", :style => Dict{String, Any}())), Dict{String, Tuple{Observables.AbstractObservable, Union{Nothing, Bool}}}(\"loading\" => (Observable(false), nothing), \"clicks\" => (Observable(0), nothing)), Set{String}(), nothing, WebIO.Asset[WebIO.Asset(\"js\", \"knockout\", \"/home/dushya/.julia/packages/Knockout/HReiN/src/../assets/knockout.js\"), WebIO.Asset(\"js\", \"knockout_punches\", \"/home/dushya/.julia/packages/Knockout/HReiN/src/../assets/knockout_punches.js\"), WebIO.Asset(\"js\", nothing, \"/home/dushya/.julia/packages/InteractBase/LJXv3/src/../assets/all.js\"), WebIO.Asset(\"css\", nothing, \"/home/dushya/.julia/packages/InteractBase/LJXv3/src/../assets/style.css\"), WebIO.Asset(\"css\", nothing, \"/home/dushya/.julia/packages/Interact/PENUy/src/../assets/bulma_confined.min.css\")], Dict{Any, Any}(\"loading\" => Any[WebIO.JSString(\"(function (val){return (val!=this.model[\\\"loading\\\"]()) ? (this.valueFromJulia[\\\"loading\\\"]=true, this.model[\\\"loading\\\"](val)) : undefined})\")], \"clicks\" => Any[WebIO.JSString(\"(function (val){return (val!=this.model[\\\"clicks\\\"]()) ? (this.valueFromJulia[\\\"clicks\\\"]=true, this.model[\\\"clicks\\\"](val)) : undefined})\")]), WebIO.ConnectionPool(Channel{Any}(32), Set{WebIO.AbstractConnection}(), Base.GenericCondition{ReentrantLock}(Base.IntrusiveLinkedList{Task}(Task (runnable) @0x00007f12ad3b81a0, Task (runnable) @0x00007f12ad3b81a0), ReentrantLock(nothing, 0x00000000, 0x00, Base.GenericCondition{Base.Threads.SpinLock}(Base.IntrusiveLinkedList{Task}(nothing, nothing), Base.Threads.SpinLock(0)), (2, 139717329239920, 139717329239936)))), WebIO.JSString[WebIO.JSString(\"function () {\\n    var handler = (function (ko, koPunches) {\\n    ko.punches.enableAll();\\n    ko.bindingHandlers.numericValue = {\\n        init: function(element, valueAccessor, allBindings, data, context) {\\n            var stringified = ko.observable(ko.unwrap(valueAccessor()));\\n            stringified.subscribe(function(value) {\\n                var val = parseFloat(value);\\n                if (!isNaN(val)) {\\n                    valueAccessor()(val);\\n                }\\n            });\\n            valueAccessor().subscribe(function(value) {\\n                var str = JSON.stringify(value);\\n                if ((str == \\\"0\\\") && ([\\\"-0\\\", \\\"-0.\\\"].indexOf(stringified()) >= 0))\\n                     return;\\n                 if ([\\\"null\\\", \\\"\\\"].indexOf(str) >= 0)\\n                     return;\\n                stringified(str);\\n            });\\n            ko.applyBindingsToNode(\\n                element,\\n                {\\n                    value: stringified,\\n                    valueUpdate: allBindings.get('valueUpdate'),\\n                },\\n                context,\\n            );\\n        }\\n    };\\n    var json_data = {\\\"loading\\\":WebIO.getval({\\\"name\\\":\\\"loading\\\",\\\"scope\\\":\\\"13507149426060814867\\\",\\\"id\\\":\\\"15868095853389519509\\\",\\\"type\\\":\\\"observable\\\"}),\\\"clicks\\\":WebIO.getval({\\\"name\\\":\\\"clicks\\\",\\\"scope\\\":\\\"13507149426060814867\\\",\\\"id\\\":\\\"1644899799612834928\\\",\\\"type\\\":\\\"observable\\\"})};\\n    var self = this;\\n    function AppViewModel() {\\n        for (var key in json_data) {\\n            var el = json_data[key];\\n            this[key] = Array.isArray(el) ? ko.observableArray(el) : ko.observable(el);\\n        }\\n        \\n        \\n        [this[\\\"loading\\\"].subscribe((function (val){!(this.valueFromJulia[\\\"loading\\\"]) ? (WebIO.setval({\\\"name\\\":\\\"loading\\\",\\\"scope\\\":\\\"13507149426060814867\\\",\\\"id\\\":\\\"15868095853389519509\\\",\\\"type\\\":\\\"observable\\\"},val)) : undefined; return this.valueFromJulia[\\\"loading\\\"]=false}),self),this[\\\"clicks\\\"].subscribe((function (val){!(this.valueFromJulia[\\\"clicks\\\"]) ? (WebIO.setval({\\\"name\\\":\\\"clicks\\\",\\\"scope\\\":\\\"13507149426060814867\\\",\\\"id\\\":\\\"1644899799612834928\\\",\\\"type\\\":\\\"observable\\\"},val)) : undefined; return this.valueFromJulia[\\\"clicks\\\"]=false}),self)]\\n        \\n    }\\n    self.model = new AppViewModel();\\n    self.valueFromJulia = {};\\n    for (var key in json_data) {\\n        self.valueFromJulia[key] = false;\\n    }\\n    ko.applyBindings(self.model, self.dom);\\n}\\n);\\n    (WebIO.importBlock({\\\"data\\\":[{\\\"name\\\":\\\"knockout\\\",\\\"type\\\":\\\"js\\\",\\\"url\\\":\\\"/assetserver/727383f2a47bd31570b7da84eee7b022dd6d7c78-knockout.js\\\"},{\\\"name\\\":\\\"knockout_punches\\\",\\\"type\\\":\\\"js\\\",\\\"url\\\":\\\"/assetserver/382b41b3b1bd9f26f75861d360bad7f8beea211f-knockout_punches.js\\\"}],\\\"type\\\":\\\"async_block\\\"})).then((imports) => handler.apply(this, imports));\\n}\\n\")])], Dict{Symbol, Any}(:className => \"field interact-widget\")), WebIO.Node{WebIO.DOM}(WebIO.DOM(:html, :div), Any[WebIO.Scope(WebIO.Node{WebIO.DOM}(WebIO.DOM(:html, :div), Any[], Dict{Symbol, Any}(:id => \"container\")), Dict{String, Tuple{Observables.AbstractObservable, Union{Nothing, Bool}}}(\"value\" => (Observable(\"\\\\;\\\\;\"), nothing)), Set{String}(), nothing, WebIO.Asset[WebIO.Asset(\"js\", nothing, \"/home/dushya/.julia/packages/InteractBase/LJXv3/src/../assets/katex.min.js\"), WebIO.Asset(\"css\", nothing, \"/home/dushya/.julia/packages/InteractBase/LJXv3/src/../assets/katex.min.css\")], Dict{Any, Any}(\"value\" => Any[WebIO.JSString(\"(function (txt){return this.k.render(txt,this.container)})\")]), WebIO.ConnectionPool(Channel{Any}(32), Set{WebIO.AbstractConnection}(), Base.GenericCondition{ReentrantLock}(Base.IntrusiveLinkedList{Task}(Task (runnable) @0x00007f12adc768b0, Task (runnable) @0x00007f12adc768b0), ReentrantLock(nothing, 0x00000000, 0x00, Base.GenericCondition{Base.Threads.SpinLock}(Base.IntrusiveLinkedList{Task}(nothing, nothing), Base.Threads.SpinLock(0)), (0, 0, 141733920768)))), WebIO.JSString[WebIO.JSString(\"function () {\\n    var handler = ((function (k){this.k=k; this.container=this.dom.querySelector(\\\"#container\\\"); return k.render(\\\"\\\\\\\\;\\\\\\\\;\\\",this.container)}));\\n    (WebIO.importBlock({\\\"data\\\":[{\\\"name\\\":null,\\\"type\\\":\\\"js\\\",\\\"url\\\":\\\"/assetserver/dd22ed1bf1896c2748f3fe616ce0b838adc895c1-katex.min.js\\\"},{\\\"name\\\":null,\\\"type\\\":\\\"css\\\",\\\"url\\\":\\\"/assetserver/46517a424aa5e6cffc1360d7e0848b601c584ee3-katex.min.css\\\"}],\\\"type\\\":\\\"async_block\\\"})).then((imports) => handler.apply(this, imports));\\n}\\n\")])], Dict{Symbol, Any}(:className => \"interact-widget\")), WebIO.Node{WebIO.DOM}(WebIO.DOM(:html, :div), Any[WebIO.Scope(WebIO.Node{WebIO.DOM}(WebIO.DOM(:html, :button), Any[\"stop\"], Dict{Symbol, Any}(:attributes => Dict{Any, Any}(\"data-bind\" => \"click: function (){this.clicks(this.clicks()+1)}, css: {'is-loading' : loading}\"), :className => \"is-medium button is-primary\", :style => Dict{String, Any}())), Dict{String, Tuple{Observables.AbstractObservable, Union{Nothing, Bool}}}(\"loading\" => (Observable(false), nothing), \"clicks\" => (Observable(0), nothing)), Set{String}(), nothing, WebIO.Asset[WebIO.Asset(\"js\", \"knockout\", \"/home/dushya/.julia/packages/Knockout/HReiN/src/../assets/knockout.js\"), WebIO.Asset(\"js\", \"knockout_punches\", \"/home/dushya/.julia/packages/Knockout/HReiN/src/../assets/knockout_punches.js\"), WebIO.Asset(\"js\", nothing, \"/home/dushya/.julia/packages/InteractBase/LJXv3/src/../assets/all.js\"), WebIO.Asset(\"css\", nothing, \"/home/dushya/.julia/packages/InteractBase/LJXv3/src/../assets/style.css\"), WebIO.Asset(\"css\", nothing, \"/home/dushya/.julia/packages/Interact/PENUy/src/../assets/bulma_confined.min.css\")], Dict{Any, Any}(\"loading\" => Any[WebIO.JSString(\"(function (val){return (val!=this.model[\\\"loading\\\"]()) ? (this.valueFromJulia[\\\"loading\\\"]=true, this.model[\\\"loading\\\"](val)) : undefined})\")], \"clicks\" => Any[WebIO.JSString(\"(function (val){return (val!=this.model[\\\"clicks\\\"]()) ? (this.valueFromJulia[\\\"clicks\\\"]=true, this.model[\\\"clicks\\\"](val)) : undefined})\")]), WebIO.ConnectionPool(Channel{Any}(32), Set{WebIO.AbstractConnection}(), Base.GenericCondition{ReentrantLock}(Base.IntrusiveLinkedList{Task}(Task (runnable) @0x00007f12ae66cb00, Task (runnable) @0x00007f12ae66cb00), ReentrantLock(nothing, 0x00000000, 0x00, Base.GenericCondition{Base.Threads.SpinLock}(Base.IntrusiveLinkedList{Task}(nothing, nothing), Base.Threads.SpinLock(0)), (8, 0, 0)))), WebIO.JSString[WebIO.JSString(\"function () {\\n    var handler = (function (ko, koPunches) {\\n    ko.punches.enableAll();\\n    ko.bindingHandlers.numericValue = {\\n        init: function(element, valueAccessor, allBindings, data, context) {\\n            var stringified = ko.observable(ko.unwrap(valueAccessor()));\\n            stringified.subscribe(function(value) {\\n                var val = parseFloat(value);\\n                if (!isNaN(val)) {\\n                    valueAccessor()(val);\\n                }\\n            });\\n            valueAccessor().subscribe(function(value) {\\n                var str = JSON.stringify(value);\\n                if ((str == \\\"0\\\") && ([\\\"-0\\\", \\\"-0.\\\"].indexOf(stringified()) >= 0))\\n                     return;\\n                 if ([\\\"null\\\", \\\"\\\"].indexOf(str) >= 0)\\n                     return;\\n                stringified(str);\\n            });\\n            ko.applyBindingsToNode(\\n                element,\\n                {\\n                    value: stringified,\\n                    valueUpdate: allBindings.get('valueUpdate'),\\n                },\\n                context,\\n            );\\n        }\\n    };\\n    var json_data = {\\\"loading\\\":WebIO.getval({\\\"name\\\":\\\"loading\\\",\\\"scope\\\":\\\"7413383350628304479\\\",\\\"id\\\":\\\"15538664076992255552\\\",\\\"type\\\":\\\"observable\\\"}),\\\"clicks\\\":WebIO.getval({\\\"name\\\":\\\"clicks\\\",\\\"scope\\\":\\\"7413383350628304479\\\",\\\"id\\\":\\\"17354081770953846814\\\",\\\"type\\\":\\\"observable\\\"})};\\n    var self = this;\\n    function AppViewModel() {\\n        for (var key in json_data) {\\n            var el = json_data[key];\\n            this[key] = Array.isArray(el) ? ko.observableArray(el) : ko.observable(el);\\n        }\\n        \\n        \\n        [this[\\\"loading\\\"].subscribe((function (val){!(this.valueFromJulia[\\\"loading\\\"]) ? (WebIO.setval({\\\"name\\\":\\\"loading\\\",\\\"scope\\\":\\\"7413383350628304479\\\",\\\"id\\\":\\\"15538664076992255552\\\",\\\"type\\\":\\\"observable\\\"},val)) : undefined; return this.valueFromJulia[\\\"loading\\\"]=false}),self),this[\\\"clicks\\\"].subscribe((function (val){!(this.valueFromJulia[\\\"clicks\\\"]) ? (WebIO.setval({\\\"name\\\":\\\"clicks\\\",\\\"scope\\\":\\\"7413383350628304479\\\",\\\"id\\\":\\\"17354081770953846814\\\",\\\"type\\\":\\\"observable\\\"},val)) : undefined; return this.valueFromJulia[\\\"clicks\\\"]=false}),self)]\\n        \\n    }\\n    self.model = new AppViewModel();\\n    self.valueFromJulia = {};\\n    for (var key in json_data) {\\n        self.valueFromJulia[key] = false;\\n    }\\n    ko.applyBindings(self.model, self.dom);\\n}\\n);\\n    (WebIO.importBlock({\\\"data\\\":[{\\\"name\\\":\\\"knockout\\\",\\\"type\\\":\\\"js\\\",\\\"url\\\":\\\"/assetserver/727383f2a47bd31570b7da84eee7b022dd6d7c78-knockout.js\\\"},{\\\"name\\\":\\\"knockout_punches\\\",\\\"type\\\":\\\"js\\\",\\\"url\\\":\\\"/assetserver/382b41b3b1bd9f26f75861d360bad7f8beea211f-knockout_punches.js\\\"}],\\\"type\\\":\\\"async_block\\\"})).then((imports) => handler.apply(this, imports));\\n}\\n\")])], Dict{Symbol, Any}(:className => \"field interact-widget\")), WebIO.Node{WebIO.DOM}(WebIO.DOM(:html, :div), Any[WebIO.Scope(WebIO.Node{WebIO.DOM}(WebIO.DOM(:html, :div), Any[], Dict{Symbol, Any}(:id => \"container\")), Dict{String, Tuple{Observables.AbstractObservable, Union{Nothing, Bool}}}(\"value\" => (Observable(\"\\\\;\\\\;\"), nothing)), Set{String}(), nothing, WebIO.Asset[WebIO.Asset(\"js\", nothing, \"/home/dushya/.julia/packages/InteractBase/LJXv3/src/../assets/katex.min.js\"), WebIO.Asset(\"css\", nothing, \"/home/dushya/.julia/packages/InteractBase/LJXv3/src/../assets/katex.min.css\")], Dict{Any, Any}(\"value\" => Any[WebIO.JSString(\"(function (txt){return this.k.render(txt,this.container)})\")]), WebIO.ConnectionPool(Channel{Any}(32), Set{WebIO.AbstractConnection}(), Base.GenericCondition{ReentrantLock}(Base.IntrusiveLinkedList{Task}(Task (runnable) @0x00007f12adc768b0, Task (runnable) @0x00007f12adc768b0), ReentrantLock(nothing, 0x00000000, 0x00, Base.GenericCondition{Base.Threads.SpinLock}(Base.IntrusiveLinkedList{Task}(nothing, nothing), Base.Threads.SpinLock(0)), (0, 0, 141733920768)))), WebIO.JSString[WebIO.JSString(\"function () {\\n    var handler = ((function (k){this.k=k; this.container=this.dom.querySelector(\\\"#container\\\"); return k.render(\\\"\\\\\\\\;\\\\\\\\;\\\",this.container)}));\\n    (WebIO.importBlock({\\\"data\\\":[{\\\"name\\\":null,\\\"type\\\":\\\"js\\\",\\\"url\\\":\\\"/assetserver/dd22ed1bf1896c2748f3fe616ce0b838adc895c1-katex.min.js\\\"},{\\\"name\\\":null,\\\"type\\\":\\\"css\\\",\\\"url\\\":\\\"/assetserver/46517a424aa5e6cffc1360d7e0848b601c584ee3-katex.min.css\\\"}],\\\"type\\\":\\\"async_block\\\"})).then((imports) => handler.apply(this, imports));\\n}\\n\")])], Dict{Symbol, Any}(:className => \"interact-widget\")), WebIO.Node{WebIO.DOM}(WebIO.DOM(:html, :div), Any[WebIO.Scope(WebIO.Node{WebIO.DOM}(WebIO.DOM(:html, :button), Any[\"save\"], Dict{Symbol, Any}(:attributes => Dict{Any, Any}(\"data-bind\" => \"click: function (){this.clicks(this.clicks()+1)}, css: {'is-loading' : loading}\"), :className => \"is-medium button is-primary\", :style => Dict{String, Any}())), Dict{String, Tuple{Observables.AbstractObservable, Union{Nothing, Bool}}}(\"loading\" => (Observable(false), nothing), \"clicks\" => (Observable(0), nothing)), Set{String}(), nothing, WebIO.Asset[WebIO.Asset(\"js\", \"knockout\", \"/home/dushya/.julia/packages/Knockout/HReiN/src/../assets/knockout.js\"), WebIO.Asset(\"js\", \"knockout_punches\", \"/home/dushya/.julia/packages/Knockout/HReiN/src/../assets/knockout_punches.js\"), WebIO.Asset(\"js\", nothing, \"/home/dushya/.julia/packages/InteractBase/LJXv3/src/../assets/all.js\"), WebIO.Asset(\"css\", nothing, \"/home/dushya/.julia/packages/InteractBase/LJXv3/src/../assets/style.css\"), WebIO.Asset(\"css\", nothing, \"/home/dushya/.julia/packages/Interact/PENUy/src/../assets/bulma_confined.min.css\")], Dict{Any, Any}(\"loading\" => Any[WebIO.JSString(\"(function (val){return (val!=this.model[\\\"loading\\\"]()) ? (this.valueFromJulia[\\\"loading\\\"]=true, this.model[\\\"loading\\\"](val)) : undefined})\")], \"clicks\" => Any[WebIO.JSString(\"(function (val){return (val!=this.model[\\\"clicks\\\"]()) ? (this.valueFromJulia[\\\"clicks\\\"]=true, this.model[\\\"clicks\\\"](val)) : undefined})\")]), WebIO.ConnectionPool(Channel{Any}(32), Set{WebIO.AbstractConnection}(), Base.GenericCondition{ReentrantLock}(Base.IntrusiveLinkedList{Task}(Task (runnable) @0x00007f12ae66f530, Task (runnable) @0x00007f12ae66f530), ReentrantLock(nothing, 0x00000000, 0x00, Base.GenericCondition{Base.Threads.SpinLock}(Base.IntrusiveLinkedList{Task}(nothing, nothing), Base.Threads.SpinLock(0)), (8, 139717364155088, 139717364151152)))), WebIO.JSString[WebIO.JSString(\"function () {\\n    var handler = (function (ko, koPunches) {\\n    ko.punches.enableAll();\\n    ko.bindingHandlers.numericValue = {\\n        init: function(element, valueAccessor, allBindings, data, context) {\\n            var stringified = ko.observable(ko.unwrap(valueAccessor()));\\n            stringified.subscribe(function(value) {\\n                var val = parseFloat(value);\\n                if (!isNaN(val)) {\\n                    valueAccessor()(val);\\n                }\\n            });\\n            valueAccessor().subscribe(function(value) {\\n                var str = JSON.stringify(value);\\n                if ((str == \\\"0\\\") && ([\\\"-0\\\", \\\"-0.\\\"].indexOf(stringified()) >= 0))\\n                     return;\\n                 if ([\\\"null\\\", \\\"\\\"].indexOf(str) >= 0)\\n                     return;\\n                stringified(str);\\n            });\\n            ko.applyBindingsToNode(\\n                element,\\n                {\\n                    value: stringified,\\n                    valueUpdate: allBindings.get('valueUpdate'),\\n                },\\n                context,\\n            );\\n        }\\n    };\\n    var json_data = {\\\"loading\\\":WebIO.getval({\\\"name\\\":\\\"loading\\\",\\\"scope\\\":\\\"10735529990011747887\\\",\\\"id\\\":\\\"10727192120633518716\\\",\\\"type\\\":\\\"observable\\\"}),\\\"clicks\\\":WebIO.getval({\\\"name\\\":\\\"clicks\\\",\\\"scope\\\":\\\"10735529990011747887\\\",\\\"id\\\":\\\"18245853765989599361\\\",\\\"type\\\":\\\"observable\\\"})};\\n    var self = this;\\n    function AppViewModel() {\\n        for (var key in json_data) {\\n            var el = json_data[key];\\n            this[key] = Array.isArray(el) ? ko.observableArray(el) : ko.observable(el);\\n        }\\n        \\n        \\n        [this[\\\"loading\\\"].subscribe((function (val){!(this.valueFromJulia[\\\"loading\\\"]) ? (WebIO.setval({\\\"name\\\":\\\"loading\\\",\\\"scope\\\":\\\"10735529990011747887\\\",\\\"id\\\":\\\"10727192120633518716\\\",\\\"type\\\":\\\"observable\\\"},val)) : undefined; return this.valueFromJulia[\\\"loading\\\"]=false}),self),this[\\\"clicks\\\"].subscribe((function (val){!(this.valueFromJulia[\\\"clicks\\\"]) ? (WebIO.setval({\\\"name\\\":\\\"clicks\\\",\\\"scope\\\":\\\"10735529990011747887\\\",\\\"id\\\":\\\"18245853765989599361\\\",\\\"type\\\":\\\"observable\\\"},val)) : undefined; return this.valueFromJulia[\\\"clicks\\\"]=false}),self)]\\n        \\n    }\\n    self.model = new AppViewModel();\\n    self.valueFromJulia = {};\\n    for (var key in json_data) {\\n        self.valueFromJulia[key] = false;\\n    }\\n    ko.applyBindings(self.model, self.dom);\\n}\\n);\\n    (WebIO.importBlock({\\\"data\\\":[{\\\"name\\\":\\\"knockout\\\",\\\"type\\\":\\\"js\\\",\\\"url\\\":\\\"/assetserver/727383f2a47bd31570b7da84eee7b022dd6d7c78-knockout.js\\\"},{\\\"name\\\":\\\"knockout_punches\\\",\\\"type\\\":\\\"js\\\",\\\"url\\\":\\\"/assetserver/382b41b3b1bd9f26f75861d360bad7f8beea211f-knockout_punches.js\\\"}],\\\"type\\\":\\\"async_block\\\"})).then((imports) => handler.apply(this, imports));\\n}\\n\")])], Dict{Symbol, Any}(:className => \"field interact-widget\"))], Dict{Symbol, Any}(:style => Dict(\"display\" => \"flex\", \"flex-direction\" => \"row\")))], Dict{Symbol, Any}(:style => Dict(\"display\" => \"flex\", \"flex-direction\" => \"column\"))), WebIO.Node{WebIO.DOM}(WebIO.DOM(:html, :div), Any[WebIO.Scope(WebIO.Node{WebIO.DOM}(WebIO.DOM(:html, :div), Any[], Dict{Symbol, Any}(:id => \"container\")), Dict{String, Tuple{Observables.AbstractObservable, Union{Nothing, Bool}}}(\"value\" => (Observable(\"\\\\;\\\\;\"), nothing)), Set{String}(), nothing, WebIO.Asset[WebIO.Asset(\"js\", nothing, \"/home/dushya/.julia/packages/InteractBase/LJXv3/src/../assets/katex.min.js\"), WebIO.Asset(\"css\", nothing, \"/home/dushya/.julia/packages/InteractBase/LJXv3/src/../assets/katex.min.css\")], Dict{Any, Any}(\"value\" => Any[WebIO.JSString(\"(function (txt){return this.k.render(txt,this.container)})\")]), WebIO.ConnectionPool(Channel{Any}(32), Set{WebIO.AbstractConnection}(), Base.GenericCondition{ReentrantLock}(Base.IntrusiveLinkedList{Task}(Task (runnable) @0x00007f12adc768b0, Task (runnable) @0x00007f12adc768b0), ReentrantLock(nothing, 0x00000000, 0x00, Base.GenericCondition{Base.Threads.SpinLock}(Base.IntrusiveLinkedList{Task}(nothing, nothing), Base.Threads.SpinLock(0)), (0, 0, 141733920768)))), WebIO.JSString[WebIO.JSString(\"function () {\\n    var handler = ((function (k){this.k=k; this.container=this.dom.querySelector(\\\"#container\\\"); return k.render(\\\"\\\\\\\\;\\\\\\\\;\\\",this.container)}));\\n    (WebIO.importBlock({\\\"data\\\":[{\\\"name\\\":null,\\\"type\\\":\\\"js\\\",\\\"url\\\":\\\"/assetserver/dd22ed1bf1896c2748f3fe616ce0b838adc895c1-katex.min.js\\\"},{\\\"name\\\":null,\\\"type\\\":\\\"css\\\",\\\"url\\\":\\\"/assetserver/46517a424aa5e6cffc1360d7e0848b601c584ee3-katex.min.css\\\"}],\\\"type\\\":\\\"async_block\\\"})).then((imports) => handler.apply(this, imports));\\n}\\n\")])], Dict{Symbol, Any}(:className => \"interact-widget\")), Observable(Luxor.Drawing(430.0, 430.0, \"\", Cairo.CairoSurfaceBase{UInt32}(Ptr{Nothing} @0x0000000000000000, 430.0, 430.0), Cairo.CairoContext(Ptr{Nothing} @0x00000000040a0ef0, Cairo.CairoSurfaceBase{UInt32}(Ptr{Nothing} @0x0000000000000000, 430.0, 430.0), Ptr{Nothing} @0x000000000305a010), :png, 0.0, 0.0, 0.0, 1.0, IOBuffer(data=UInt8[...], readable=true, writable=true, seekable=true, append=false, size=17245, maxsize=Inf, ptr=17246, mark=-1), UInt8[0x89, 0x50, 0x4e, 0x47, 0x0d, 0x0a, 0x1a, 0x0a, 0x00, 0x00  …  0x00, 0x00, 0x49, 0x45, 0x4e, 0x44, 0xae, 0x42, 0x60, 0x82], false)), WebIO.Node{WebIO.DOM}(WebIO.DOM(:html, :div), Any[WebIO.Scope(WebIO.Node{WebIO.DOM}(WebIO.DOM(:html, :div), Any[], Dict{Symbol, Any}(:id => \"container\")), Dict{String, Tuple{Observables.AbstractObservable, Union{Nothing, Bool}}}(\"value\" => (Observable(\"\\\\;\\\\;\"), nothing)), Set{String}(), nothing, WebIO.Asset[WebIO.Asset(\"js\", nothing, \"/home/dushya/.julia/packages/InteractBase/LJXv3/src/../assets/katex.min.js\"), WebIO.Asset(\"css\", nothing, \"/home/dushya/.julia/packages/InteractBase/LJXv3/src/../assets/katex.min.css\")], Dict{Any, Any}(\"value\" => Any[WebIO.JSString(\"(function (txt){return this.k.render(txt,this.container)})\")]), WebIO.ConnectionPool(Channel{Any}(32), Set{WebIO.AbstractConnection}(), Base.GenericCondition{ReentrantLock}(Base.IntrusiveLinkedList{Task}(Task (runnable) @0x00007f12adc768b0, Task (runnable) @0x00007f12adc768b0), ReentrantLock(nothing, 0x00000000, 0x00, Base.GenericCondition{Base.Threads.SpinLock}(Base.IntrusiveLinkedList{Task}(nothing, nothing), Base.Threads.SpinLock(0)), (0, 0, 141733920768)))), WebIO.JSString[WebIO.JSString(\"function () {\\n    var handler = ((function (k){this.k=k; this.container=this.dom.querySelector(\\\"#container\\\"); return k.render(\\\"\\\\\\\\;\\\\\\\\;\\\",this.container)}));\\n    (WebIO.importBlock({\\\"data\\\":[{\\\"name\\\":null,\\\"type\\\":\\\"js\\\",\\\"url\\\":\\\"/assetserver/dd22ed1bf1896c2748f3fe616ce0b838adc895c1-katex.min.js\\\"},{\\\"name\\\":null,\\\"type\\\":\\\"css\\\",\\\"url\\\":\\\"/assetserver/46517a424aa5e6cffc1360d7e0848b601c584ee3-katex.min.css\\\"}],\\\"type\\\":\\\"async_block\\\"})).then((imports) => handler.apply(this, imports));\\n}\\n\")])], Dict{Symbol, Any}(:className => \"interact-widget\")), WebIO.Node{WebIO.DOM}(WebIO.DOM(:html, :div), Any[], Dict{Symbol, Any}(:style => Dict(\"display\" => \"flex\", \"flex-direction\" => \"column\")))], Dict{Symbol, Any}(:style => Dict(\"display\" => \"flex\", \"flex-direction\" => \"row\")))], Dict{Symbol, Any}(:style => Dict(\"display\" => \"flex\", \"flex-direction\" => \"column\")))"
      ]
     },
     "execution_count": 7,
     "metadata": {
      "application/vnd.webio.node+json": {
       "kernelId": "0f186d4e-8e76-40bd-9744-beaa2441b326"
      }
     },
     "output_type": "execute_result"
    }
   ],
   "source": [
    "animate_sim(model)"
   ]
  },
  {
   "cell_type": "code",
   "execution_count": null,
   "metadata": {},
   "outputs": [],
   "source": []
  }
 ],
 "metadata": {
  "@webio": {
   "lastCommId": "1571cb24acee470990c50c8dac8f5b11",
   "lastKernelId": "0f186d4e-8e76-40bd-9744-beaa2441b326"
  },
  "kernelspec": {
   "display_name": "Julia 1.9.2",
   "language": "julia",
   "name": "julia-1.9"
  },
  "language_info": {
   "file_extension": ".jl",
   "mimetype": "application/julia",
   "name": "julia",
   "version": "1.9.2"
  }
 },
 "nbformat": 4,
 "nbformat_minor": 4
}
