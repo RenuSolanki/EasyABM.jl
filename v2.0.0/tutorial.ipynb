{
 "cells": [
  {
   "cell_type": "markdown",
   "metadata": {},
   "source": [
    "# Tutorial\n",
    "\n",
    "Studying an agents based model in EasyABM is basically a 5-step process. \n",
    "\n",
    "1. Create agents and model. \n",
    "2. Initialise the model, using the `init_model!` function.\n",
    "3. Define a `step_rule` function and run the model. \n",
    "4. Visualisation which can be achieved simply by running `animate_sim(model)`. One can alo explore the model through an interactive app that can be created using the function `create_interactive_app`. \n",
    "5. Fetch and analyse data collected during model run. \n",
    "\n",
    "We explain these steps below through a very simple model of a star-planet system. Though it can be debated if a star-planet system can really qualify as an agent based model, it nevertheless serves as a good example for demonstrating the workings of EasyABM. "
   ]
  },
  {
   "cell_type": "code",
   "execution_count": 1,
   "metadata": {},
   "outputs": [
    {
     "name": "stderr",
     "output_type": "stream",
     "text": [
      "\u001b[32m\u001b[1m  Activating\u001b[22m\u001b[39m project at `~/Documents/EasyABM`\n"
     ]
    },
    {
     "data": {
      "application/vnd.webio.node+json": {
       "children": [],
       "instanceArgs": {
        "namespace": "html",
        "tag": "div"
       },
       "nodeType": "DOM",
       "props": {},
       "type": "node"
      },
      "text/html": [
       "<div style=\"padding: 1em; background-color: #f8d6da; border: 1px solid #f5c6cb; font-weight: bold;\">\n",
       "<p>The WebIO Jupyter extension was not detected. See the\n",
       "<a href=\"https://juliagizmos.github.io/WebIO.jl/latest/providers/ijulia/\" target=\"_blank\">\n",
       "    WebIO Jupyter integration documentation\n",
       "</a>\n",
       "for more information.\n",
       "</div>\n"
      ],
      "text/plain": [
       "WebIO._IJuliaInit()"
      ]
     },
     "metadata": {
      "application/vnd.webio.node+json": {
       "kernelId": "ecf7d646-f686-4884-9f7b-5855efce8b80"
      }
     },
     "output_type": "display_data"
    }
   ],
   "source": [
    "using Pkg, Revise\n",
    "Pkg.activate(joinpath(@__DIR__, \"../..\"))\n",
    "using EasyABM"
   ]
  },
  {
   "cell_type": "markdown",
   "metadata": {},
   "source": [
    "## Step 1: Create the agents and the model.\n",
    "\n",
    "In the first step we create the agents and the model. For the star-planet system, we need one agent for the star and one for the planet. We will assume that the star is stationary and the planet revolves around it. We set the position of the star to be Vect(5.0,5.0) which is the center point of the 2d space, as the default dimensions of 2d space in EasyABM is 10x10. The position `pos` is only accepted as a Vect which is an inbuilt vector type in EasyABM. It is also recommended for both convenience as well as performance to use Vect type for any vectorial properties in the model such as velocity and forces. We set the position of the planet to be Vect(7.0,5.0) and its velocity to be Vect(0.0,1.0). Since, the planet will change its position we require it to record its position and velocity during the model run. We specify this via `keeps_record_of` argument in the function for creating agent(s). We also have user defined model properties `gravity` and `dt` which stand for the force of gravity and small time interval between position and velocity updates respectively. "
   ]
  },
  {
   "cell_type": "code",
   "execution_count": 2,
   "metadata": {},
   "outputs": [
    {
     "data": {
      "text/plain": [
       "EasyABM SpaceModel2D{EasyABM.StaticType, Float64, EasyABM.PeriodicType}: In a EasyABM.StaticType model number of agents is fixed.\n"
      ]
     },
     "execution_count": 2,
     "metadata": {},
     "output_type": "execute_result"
    }
   ],
   "source": [
    "star = con_2d_agent( pos = Vect(5.0,5.0), size = 0.30, color = cl\"yellow\") # by default 2d space is 10x10, so that (5,5) is center.\n",
    "planet = con_2d_agent(pos = Vect(7.0,5.0), vel = Vect(0.0,1.0), \n",
    "    size=0.15, color = cl\"blue\", keeps_record_of = Set([:pos, :vel])) \n",
    "model = create_2d_model([star, planet], gravity = 3.0, dt=0.1)"
   ]
  },
  {
   "cell_type": "markdown",
   "metadata": {},
   "source": [
    "## Step 2: Initialise the model.\n",
    "\n",
    "In this step we define an initialiser function to set the initial properties of the agents. Suppose we want our planet to be at position Vect(5.0,8.0) and velocity Vect(-1.0, 0.0) initially. We can do so by defining an initialiser function and then sending it as an argument to `init_model!` function as follows."
   ]
  },
  {
   "cell_type": "code",
   "execution_count": 3,
   "metadata": {},
   "outputs": [],
   "source": [
    "function initialiser!(model)\n",
    "    planet = model.agents[2]\n",
    "    planet.pos = Vect(5.0, 8.0)\n",
    "    planet.vel = Vect(-1.0,0.0)\n",
    "end\n",
    "\n",
    "init_model!(model, initialiser = initialiser!)"
   ]
  },
  {
   "cell_type": "markdown",
   "metadata": {},
   "source": [
    "## Step 3: Define a `step_rule` and run the model\n",
    "\n",
    "In this step, we define rule for the time evolution and then run the model. We define our `step_rule` to be simply discretisation of Newton's equations for a 2 body system."
   ]
  },
  {
   "cell_type": "code",
   "execution_count": 4,
   "metadata": {
    "scrolled": true
   },
   "outputs": [
    {
     "data": {
      "text/plain": [
       "step_rule! (generic function with 1 method)"
      ]
     },
     "execution_count": 4,
     "metadata": {},
     "output_type": "execute_result"
    }
   ],
   "source": [
    "function step_rule!(model)\n",
    "    gravity = model.properties.gravity\n",
    "    dt = model.properties.dt\n",
    "    star = model.agents[1]\n",
    "    planet = model.agents[2]\n",
    "    distance_vector = (star.pos - planet.pos)\n",
    "    distance = veclength(distance_vector)\n",
    "    force = gravity*distance_vector/distance^3\n",
    "    planet.vel += force*dt\n",
    "    planet.pos += planet.vel*dt\n",
    "end"
   ]
  },
  {
   "cell_type": "code",
   "execution_count": 5,
   "metadata": {},
   "outputs": [],
   "source": [
    "run_model!(model,steps = 500, step_rule=step_rule!)"
   ]
  },
  {
   "cell_type": "markdown",
   "metadata": {},
   "source": [
    "## Step 4: Visualisation\n",
    "\n",
    "In order to draw the model at a specific frame, say 4th, one can use"
   ]
  },
  {
   "cell_type": "code",
   "execution_count": 6,
   "metadata": {},
   "outputs": [
    {
     "data": {
      "image/png": "[encoded data removed]",
      "text/plain": []
     },
     "execution_count": 6,
     "metadata": {},
     "output_type": "execute_result"
    }
   ],
   "source": [
    "draw_frame(model, frame = 4)"
   ]
  },
  {
   "cell_type": "markdown",
   "metadata": {},
   "source": [
    "We can look at the animation of the time evolutio with following line of code\n"
   ]
  },
  {
   "cell_type": "code",
   "execution_count": 7,
   "metadata": {
    "scrolled": true
   },
   "outputs": [
    {
     "data": {
      "application/vnd.webio.node+json": {
       "children": [
        {
         "children": [
          {
           "children": [
            {
             "children": [
              {
               "children": [
                {
                 "children": [
                  {
                   "children": [
                    {
                     "children": [
                      "time"
                     ],
                     "instanceArgs": {
                      "namespace": "html",
                      "tag": "label"
                     },
                     "nodeType": "DOM",
                     "props": {
                      "className": "interact ",
                      "style": {
                       "padding": "5px 10px 0px 10px"
                      }
                     },
                     "type": "node"
                    }
                   ],
                   "instanceArgs": {
                    "namespace": "html",
                    "tag": "div"
                   },
                   "nodeType": "DOM",
                   "props": {
                    "className": "interact-flex-row-left"
                   },
                   "type": "node"
                  },
                  {
                   "children": [
                    {
                     "children": [],
                     "instanceArgs": {
                      "namespace": "html",
                      "tag": "input"
                     },
                     "nodeType": "DOM",
                     "props": {
                      "attributes": {
                       "data-bind": "numericValue: index, valueUpdate: 'input', event: {change: function (){this.changes(this.changes()+1)}}",
                       "orient": "horizontal",
                       "type": "range"
                      },
                      "className": "slider slider is-fullwidth",
                      "max": 501,
                      "min": 1,
                      "step": 1,
                      "style": {}
                     },
                     "type": "node"
                    }
                   ],
                   "instanceArgs": {
                    "namespace": "html",
                    "tag": "div"
                   },
                   "nodeType": "DOM",
                   "props": {
                    "className": "interact-flex-row-center"
                   },
                   "type": "node"
                  },
                  {
                   "children": [
                    {
                     "children": [],
                     "instanceArgs": {
                      "namespace": "html",
                      "tag": "p"
                     },
                     "nodeType": "DOM",
                     "props": {
                      "attributes": {
                       "data-bind": "text: formatted_val"
                      }
                     },
                     "type": "node"
                    }
                   ],
                   "instanceArgs": {
                    "namespace": "html",
                    "tag": "div"
                   },
                   "nodeType": "DOM",
                   "props": {
                    "className": "interact-flex-row-right"
                   },
                   "type": "node"
                  }
                 ],
                 "instanceArgs": {
                  "namespace": "html",
                  "tag": "div"
                 },
                 "nodeType": "DOM",
                 "props": {
                  "className": "interact-flex-row interact-widget"
                 },
                 "type": "node"
                }
               ],
               "instanceArgs": {
                "handlers": {
                 "changes": [
                  "(function (val){return (val!=this.model[\"changes\"]()) ? (this.valueFromJulia[\"changes\"]=true, this.model[\"changes\"](val)) : undefined})"
                 ],
                 "index": [
                  "(function (val){return (val!=this.model[\"index\"]()) ? (this.valueFromJulia[\"index\"]=true, this.model[\"index\"](val)) : undefined})"
                 ]
                },
                "id": "1142503790398093117",
                "imports": {
                 "data": [
                  {
                   "name": "knockout",
                   "type": "js",
                   "url": "/assetserver/727383f2a47bd31570b7da84eee7b022dd6d7c78-knockout.js"
                  },
                  {
                   "name": "knockout_punches",
                   "type": "js",
                   "url": "/assetserver/382b41b3b1bd9f26f75861d360bad7f8beea211f-knockout_punches.js"
                  },
                  {
                   "name": null,
                   "type": "js",
                   "url": "/assetserver/5ab20f1060420992a9b82a65b735dee4d81ef413-all.js"
                  },
                  {
                   "name": null,
                   "type": "css",
                   "url": "/assetserver/1cc0ed62837210b80a182cc3676512f895dab686-style.css"
                  },
                  {
                   "name": null,
                   "type": "css",
                   "url": "/assetserver/2eee816f616df3549d7044d45e744fbf8d42bfa1-bulma_confined.min.css"
                  }
                 ],
                 "type": "async_block"
                },
                "mount_callbacks": [
                 "function () {\n    var handler = (function (ko, koPunches) {\n    ko.punches.enableAll();\n    ko.bindingHandlers.numericValue = {\n        init: function(element, valueAccessor, allBindings, data, context) {\n            var stringified = ko.observable(ko.unwrap(valueAccessor()));\n            stringified.subscribe(function(value) {\n                var val = parseFloat(value);\n                if (!isNaN(val)) {\n                    valueAccessor()(val);\n                }\n            });\n            valueAccessor().subscribe(function(value) {\n                var str = JSON.stringify(value);\n                if ((str == \"0\") && ([\"-0\", \"-0.\"].indexOf(stringified()) >= 0))\n                     return;\n                 if ([\"null\", \"\"].indexOf(str) >= 0)\n                     return;\n                stringified(str);\n            });\n            ko.applyBindingsToNode(\n                element,\n                {\n                    value: stringified,\n                    valueUpdate: allBindings.get('valueUpdate'),\n                },\n                context,\n            );\n        }\n    };\n    var json_data = {\"formatted_vals\":[\"1\",\"2\",\"3\",\"4\",\"5\",\"6\",\"7\",\"8\",\"9\",\"10\",\"11\",\"12\",\"13\",\"14\",\"15\",\"16\",\"17\",\"18\",\"19\",\"20\",\"21\",\"22\",\"23\",\"24\",\"25\",\"26\",\"27\",\"28\",\"29\",\"30\",\"31\",\"32\",\"33\",\"34\",\"35\",\"36\",\"37\",\"38\",\"39\",\"40\",\"41\",\"42\",\"43\",\"44\",\"45\",\"46\",\"47\",\"48\",\"49\",\"50\",\"51\",\"52\",\"53\",\"54\",\"55\",\"56\",\"57\",\"58\",\"59\",\"60\",\"61\",\"62\",\"63\",\"64\",\"65\",\"66\",\"67\",\"68\",\"69\",\"70\",\"71\",\"72\",\"73\",\"74\",\"75\",\"76\",\"77\",\"78\",\"79\",\"80\",\"81\",\"82\",\"83\",\"84\",\"85\",\"86\",\"87\",\"88\",\"89\",\"90\",\"91\",\"92\",\"93\",\"94\",\"95\",\"96\",\"97\",\"98\",\"99\",\"100\",\"101\",\"102\",\"103\",\"104\",\"105\",\"106\",\"107\",\"108\",\"109\",\"110\",\"111\",\"112\",\"113\",\"114\",\"115\",\"116\",\"117\",\"118\",\"119\",\"120\",\"121\",\"122\",\"123\",\"124\",\"125\",\"126\",\"127\",\"128\",\"129\",\"130\",\"131\",\"132\",\"133\",\"134\",\"135\",\"136\",\"137\",\"138\",\"139\",\"140\",\"141\",\"142\",\"143\",\"144\",\"145\",\"146\",\"147\",\"148\",\"149\",\"150\",\"151\",\"152\",\"153\",\"154\",\"155\",\"156\",\"157\",\"158\",\"159\",\"160\",\"161\",\"162\",\"163\",\"164\",\"165\",\"166\",\"167\",\"168\",\"169\",\"170\",\"171\",\"172\",\"173\",\"174\",\"175\",\"176\",\"177\",\"178\",\"179\",\"180\",\"181\",\"182\",\"183\",\"184\",\"185\",\"186\",\"187\",\"188\",\"189\",\"190\",\"191\",\"192\",\"193\",\"194\",\"195\",\"196\",\"197\",\"198\",\"199\",\"200\",\"201\",\"202\",\"203\",\"204\",\"205\",\"206\",\"207\",\"208\",\"209\",\"210\",\"211\",\"212\",\"213\",\"214\",\"215\",\"216\",\"217\",\"218\",\"219\",\"220\",\"221\",\"222\",\"223\",\"224\",\"225\",\"226\",\"227\",\"228\",\"229\",\"230\",\"231\",\"232\",\"233\",\"234\",\"235\",\"236\",\"237\",\"238\",\"239\",\"240\",\"241\",\"242\",\"243\",\"244\",\"245\",\"246\",\"247\",\"248\",\"249\",\"250\",\"251\",\"252\",\"253\",\"254\",\"255\",\"256\",\"257\",\"258\",\"259\",\"260\",\"261\",\"262\",\"263\",\"264\",\"265\",\"266\",\"267\",\"268\",\"269\",\"270\",\"271\",\"272\",\"273\",\"274\",\"275\",\"276\",\"277\",\"278\",\"279\",\"280\",\"281\",\"282\",\"283\",\"284\",\"285\",\"286\",\"287\",\"288\",\"289\",\"290\",\"291\",\"292\",\"293\",\"294\",\"295\",\"296\",\"297\",\"298\",\"299\",\"300\",\"301\",\"302\",\"303\",\"304\",\"305\",\"306\",\"307\",\"308\",\"309\",\"310\",\"311\",\"312\",\"313\",\"314\",\"315\",\"316\",\"317\",\"318\",\"319\",\"320\",\"321\",\"322\",\"323\",\"324\",\"325\",\"326\",\"327\",\"328\",\"329\",\"330\",\"331\",\"332\",\"333\",\"334\",\"335\",\"336\",\"337\",\"338\",\"339\",\"340\",\"341\",\"342\",\"343\",\"344\",\"345\",\"346\",\"347\",\"348\",\"349\",\"350\",\"351\",\"352\",\"353\",\"354\",\"355\",\"356\",\"357\",\"358\",\"359\",\"360\",\"361\",\"362\",\"363\",\"364\",\"365\",\"366\",\"367\",\"368\",\"369\",\"370\",\"371\",\"372\",\"373\",\"374\",\"375\",\"376\",\"377\",\"378\",\"379\",\"380\",\"381\",\"382\",\"383\",\"384\",\"385\",\"386\",\"387\",\"388\",\"389\",\"390\",\"391\",\"392\",\"393\",\"394\",\"395\",\"396\",\"397\",\"398\",\"399\",\"400\",\"401\",\"402\",\"403\",\"404\",\"405\",\"406\",\"407\",\"408\",\"409\",\"410\",\"411\",\"412\",\"413\",\"414\",\"415\",\"416\",\"417\",\"418\",\"419\",\"420\",\"421\",\"422\",\"423\",\"424\",\"425\",\"426\",\"427\",\"428\",\"429\",\"430\",\"431\",\"432\",\"433\",\"434\",\"435\",\"436\",\"437\",\"438\",\"439\",\"440\",\"441\",\"442\",\"443\",\"444\",\"445\",\"446\",\"447\",\"448\",\"449\",\"450\",\"451\",\"452\",\"453\",\"454\",\"455\",\"456\",\"457\",\"458\",\"459\",\"460\",\"461\",\"462\",\"463\",\"464\",\"465\",\"466\",\"467\",\"468\",\"469\",\"470\",\"471\",\"472\",\"473\",\"474\",\"475\",\"476\",\"477\",\"478\",\"479\",\"480\",\"481\",\"482\",\"483\",\"484\",\"485\",\"486\",\"487\",\"488\",\"489\",\"490\",\"491\",\"492\",\"493\",\"494\",\"495\",\"496\",\"497\",\"498\",\"499\",\"500\",\"501\"],\"changes\":WebIO.getval({\"name\":\"changes\",\"scope\":\"1142503790398093117\",\"id\":\"659546997151920019\",\"type\":\"observable\"}),\"index\":WebIO.getval({\"name\":\"index\",\"scope\":\"1142503790398093117\",\"id\":\"13818925096374988258\",\"type\":\"observable\"})};\n    var self = this;\n    function AppViewModel() {\n        for (var key in json_data) {\n            var el = json_data[key];\n            this[key] = Array.isArray(el) ? ko.observableArray(el) : ko.observable(el);\n        }\n        \n        [this[\"formatted_val\"]=ko.computed(    function(){\n        return this.formatted_vals()[parseInt(this.index())-(1)];\n    }\n,this)]\n        [this[\"changes\"].subscribe((function (val){!(this.valueFromJulia[\"changes\"]) ? (WebIO.setval({\"name\":\"changes\",\"scope\":\"1142503790398093117\",\"id\":\"659546997151920019\",\"type\":\"observable\"},val)) : undefined; return this.valueFromJulia[\"changes\"]=false}),self),this[\"index\"].subscribe((function (val){!(this.valueFromJulia[\"index\"]) ? (WebIO.setval({\"name\":\"index\",\"scope\":\"1142503790398093117\",\"id\":\"13818925096374988258\",\"type\":\"observable\"},val)) : undefined; return this.valueFromJulia[\"index\"]=false}),self)]\n        \n    }\n    self.model = new AppViewModel();\n    self.valueFromJulia = {};\n    for (var key in json_data) {\n        self.valueFromJulia[key] = false;\n    }\n    ko.applyBindings(self.model, self.dom);\n}\n);\n    (WebIO.importBlock({\"data\":[{\"name\":\"knockout\",\"type\":\"js\",\"url\":\"/assetserver/727383f2a47bd31570b7da84eee7b022dd6d7c78-knockout.js\"},{\"name\":\"knockout_punches\",\"type\":\"js\",\"url\":\"/assetserver/382b41b3b1bd9f26f75861d360bad7f8beea211f-knockout_punches.js\"}],\"type\":\"async_block\"})).then((imports) => handler.apply(this, imports));\n}\n"
                ],
                "observables": {
                 "changes": {
                  "id": "659546997151920019",
                  "sync": false,
                  "value": 0
                 },
                 "index": {
                  "id": "13818925096374988258",
                  "sync": true,
                  "value": 251
                 }
                },
                "systemjs_options": null
               },
               "nodeType": "Scope",
               "props": {},
               "type": "node"
              }
             ],
             "instanceArgs": {
              "namespace": "html",
              "tag": "div"
             },
             "nodeType": "DOM",
             "props": {
              "className": "field interact-widget"
             },
             "type": "node"
            },
            {
             "children": [
              {
               "children": [
                {
                 "children": [
                  {
                   "children": [
                    {
                     "children": [
                      "scale"
                     ],
                     "instanceArgs": {
                      "namespace": "html",
                      "tag": "label"
                     },
                     "nodeType": "DOM",
                     "props": {
                      "className": "interact ",
                      "style": {
                       "padding": "5px 10px 0px 10px"
                      }
                     },
                     "type": "node"
                    }
                   ],
                   "instanceArgs": {
                    "namespace": "html",
                    "tag": "div"
                   },
                   "nodeType": "DOM",
                   "props": {
                    "className": "interact-flex-row-left"
                   },
                   "type": "node"
                  },
                  {
                   "children": [
                    {
                     "children": [],
                     "instanceArgs": {
                      "namespace": "html",
                      "tag": "input"
                     },
                     "nodeType": "DOM",
                     "props": {
                      "attributes": {
                       "data-bind": "numericValue: index, valueUpdate: 'input', event: {change: function (){this.changes(this.changes()+1)}}",
                       "orient": "horizontal",
                       "type": "range"
                      },
                      "className": "slider slider is-fullwidth",
                      "max": 20,
                      "min": 1,
                      "step": 1,
                      "style": {}
                     },
                     "type": "node"
                    }
                   ],
                   "instanceArgs": {
                    "namespace": "html",
                    "tag": "div"
                   },
                   "nodeType": "DOM",
                   "props": {
                    "className": "interact-flex-row-center"
                   },
                   "type": "node"
                  },
                  {
                   "children": [
                    {
                     "children": [],
                     "instanceArgs": {
                      "namespace": "html",
                      "tag": "p"
                     },
                     "nodeType": "DOM",
                     "props": {
                      "attributes": {
                       "data-bind": "text: formatted_val"
                      }
                     },
                     "type": "node"
                    }
                   ],
                   "instanceArgs": {
                    "namespace": "html",
                    "tag": "div"
                   },
                   "nodeType": "DOM",
                   "props": {
                    "className": "interact-flex-row-right"
                   },
                   "type": "node"
                  }
                 ],
                 "instanceArgs": {
                  "namespace": "html",
                  "tag": "div"
                 },
                 "nodeType": "DOM",
                 "props": {
                  "className": "interact-flex-row interact-widget"
                 },
                 "type": "node"
                }
               ],
               "instanceArgs": {
                "handlers": {
                 "changes": [
                  "(function (val){return (val!=this.model[\"changes\"]()) ? (this.valueFromJulia[\"changes\"]=true, this.model[\"changes\"](val)) : undefined})"
                 ],
                 "index": [
                  "(function (val){return (val!=this.model[\"index\"]()) ? (this.valueFromJulia[\"index\"]=true, this.model[\"index\"](val)) : undefined})"
                 ]
                },
                "id": "3152817737375969049",
                "imports": {
                 "data": [
                  {
                   "name": "knockout",
                   "type": "js",
                   "url": "/assetserver/727383f2a47bd31570b7da84eee7b022dd6d7c78-knockout.js"
                  },
                  {
                   "name": "knockout_punches",
                   "type": "js",
                   "url": "/assetserver/382b41b3b1bd9f26f75861d360bad7f8beea211f-knockout_punches.js"
                  },
                  {
                   "name": null,
                   "type": "js",
                   "url": "/assetserver/5ab20f1060420992a9b82a65b735dee4d81ef413-all.js"
                  },
                  {
                   "name": null,
                   "type": "css",
                   "url": "/assetserver/1cc0ed62837210b80a182cc3676512f895dab686-style.css"
                  },
                  {
                   "name": null,
                   "type": "css",
                   "url": "/assetserver/2eee816f616df3549d7044d45e744fbf8d42bfa1-bulma_confined.min.css"
                  }
                 ],
                 "type": "async_block"
                },
                "mount_callbacks": [
                 "function () {\n    var handler = (function (ko, koPunches) {\n    ko.punches.enableAll();\n    ko.bindingHandlers.numericValue = {\n        init: function(element, valueAccessor, allBindings, data, context) {\n            var stringified = ko.observable(ko.unwrap(valueAccessor()));\n            stringified.subscribe(function(value) {\n                var val = parseFloat(value);\n                if (!isNaN(val)) {\n                    valueAccessor()(val);\n                }\n            });\n            valueAccessor().subscribe(function(value) {\n                var str = JSON.stringify(value);\n                if ((str == \"0\") && ([\"-0\", \"-0.\"].indexOf(stringified()) >= 0))\n                     return;\n                 if ([\"null\", \"\"].indexOf(str) >= 0)\n                     return;\n                stringified(str);\n            });\n            ko.applyBindingsToNode(\n                element,\n                {\n                    value: stringified,\n                    valueUpdate: allBindings.get('valueUpdate'),\n                },\n                context,\n            );\n        }\n    };\n    var json_data = {\"formatted_vals\":[\"0.1\",\"0.2\",\"0.3\",\"0.4\",\"0.5\",\"0.6\",\"0.7\",\"0.8\",\"0.9\",\"1.0\",\"1.1\",\"1.2\",\"1.3\",\"1.4\",\"1.5\",\"1.6\",\"1.7\",\"1.8\",\"1.9\",\"2.0\"],\"changes\":WebIO.getval({\"name\":\"changes\",\"scope\":\"3152817737375969049\",\"id\":\"4367161569963800169\",\"type\":\"observable\"}),\"index\":WebIO.getval({\"name\":\"index\",\"scope\":\"3152817737375969049\",\"id\":\"5664730830180111819\",\"type\":\"observable\"})};\n    var self = this;\n    function AppViewModel() {\n        for (var key in json_data) {\n            var el = json_data[key];\n            this[key] = Array.isArray(el) ? ko.observableArray(el) : ko.observable(el);\n        }\n        \n        [this[\"formatted_val\"]=ko.computed(    function(){\n        return this.formatted_vals()[parseInt(this.index())-(1)];\n    }\n,this)]\n        [this[\"changes\"].subscribe((function (val){!(this.valueFromJulia[\"changes\"]) ? (WebIO.setval({\"name\":\"changes\",\"scope\":\"3152817737375969049\",\"id\":\"4367161569963800169\",\"type\":\"observable\"},val)) : undefined; return this.valueFromJulia[\"changes\"]=false}),self),this[\"index\"].subscribe((function (val){!(this.valueFromJulia[\"index\"]) ? (WebIO.setval({\"name\":\"index\",\"scope\":\"3152817737375969049\",\"id\":\"5664730830180111819\",\"type\":\"observable\"},val)) : undefined; return this.valueFromJulia[\"index\"]=false}),self)]\n        \n    }\n    self.model = new AppViewModel();\n    self.valueFromJulia = {};\n    for (var key in json_data) {\n        self.valueFromJulia[key] = false;\n    }\n    ko.applyBindings(self.model, self.dom);\n}\n);\n    (WebIO.importBlock({\"data\":[{\"name\":\"knockout\",\"type\":\"js\",\"url\":\"/assetserver/727383f2a47bd31570b7da84eee7b022dd6d7c78-knockout.js\"},{\"name\":\"knockout_punches\",\"type\":\"js\",\"url\":\"/assetserver/382b41b3b1bd9f26f75861d360bad7f8beea211f-knockout_punches.js\"}],\"type\":\"async_block\"})).then((imports) => handler.apply(this, imports));\n}\n"
                ],
                "observables": {
                 "changes": {
                  "id": "4367161569963800169",
                  "sync": false,
                  "value": 0
                 },
                 "index": {
                  "id": "5664730830180111819",
                  "sync": true,
                  "value": 10
                 }
                },
                "systemjs_options": null
               },
               "nodeType": "Scope",
               "props": {},
               "type": "node"
              }
             ],
             "instanceArgs": {
              "namespace": "html",
              "tag": "div"
             },
             "nodeType": "DOM",
             "props": {
              "className": "field interact-widget"
             },
             "type": "node"
            },
            {
             "children": [
              {
               "children": [
                {
                 "children": [
                  {
                   "children": [],
                   "instanceArgs": {
                    "namespace": "html",
                    "tag": "div"
                   },
                   "nodeType": "DOM",
                   "props": {
                    "id": "container"
                   },
                   "type": "node"
                  }
                 ],
                 "instanceArgs": {
                  "handlers": {
                   "value": [
                    "(function (txt){return this.k.render(txt,this.container)})"
                   ]
                  },
                  "id": "11008100412563243826",
                  "imports": {
                   "data": [
                    {
                     "name": null,
                     "type": "js",
                     "url": "/assetserver/dd22ed1bf1896c2748f3fe616ce0b838adc895c1-katex.min.js"
                    },
                    {
                     "name": null,
                     "type": "css",
                     "url": "/assetserver/46517a424aa5e6cffc1360d7e0848b601c584ee3-katex.min.css"
                    }
                   ],
                   "type": "async_block"
                  },
                  "mount_callbacks": [
                   "function () {\n    var handler = ((function (k){this.k=k; this.container=this.dom.querySelector(\"#container\"); return k.render(\"\\\\;\\\\;\",this.container)}));\n    (WebIO.importBlock({\"data\":[{\"name\":null,\"type\":\"js\",\"url\":\"/assetserver/dd22ed1bf1896c2748f3fe616ce0b838adc895c1-katex.min.js\"},{\"name\":null,\"type\":\"css\",\"url\":\"/assetserver/46517a424aa5e6cffc1360d7e0848b601c584ee3-katex.min.css\"}],\"type\":\"async_block\"})).then((imports) => handler.apply(this, imports));\n}\n"
                  ],
                  "observables": {
                   "value": {
                    "id": "3105336480798575162",
                    "sync": false,
                    "value": "\\;\\;"
                   }
                  },
                  "systemjs_options": null
                 },
                 "nodeType": "Scope",
                 "props": {},
                 "type": "node"
                }
               ],
               "instanceArgs": {
                "namespace": "html",
                "tag": "div"
               },
               "nodeType": "DOM",
               "props": {
                "className": "interact-widget"
               },
               "type": "node"
              },
              {
               "children": [
                {
                 "children": [
                  {
                   "children": [
                    "run"
                   ],
                   "instanceArgs": {
                    "namespace": "html",
                    "tag": "button"
                   },
                   "nodeType": "DOM",
                   "props": {
                    "attributes": {
                     "data-bind": "click: function (){this.clicks(this.clicks()+1)}, css: {'is-loading' : loading}"
                    },
                    "className": "is-medium button is-primary",
                    "style": {}
                   },
                   "type": "node"
                  }
                 ],
                 "instanceArgs": {
                  "handlers": {
                   "clicks": [
                    "(function (val){return (val!=this.model[\"clicks\"]()) ? (this.valueFromJulia[\"clicks\"]=true, this.model[\"clicks\"](val)) : undefined})"
                   ],
                   "loading": [
                    "(function (val){return (val!=this.model[\"loading\"]()) ? (this.valueFromJulia[\"loading\"]=true, this.model[\"loading\"](val)) : undefined})"
                   ]
                  },
                  "id": "14652925860172356706",
                  "imports": {
                   "data": [
                    {
                     "name": "knockout",
                     "type": "js",
                     "url": "/assetserver/727383f2a47bd31570b7da84eee7b022dd6d7c78-knockout.js"
                    },
                    {
                     "name": "knockout_punches",
                     "type": "js",
                     "url": "/assetserver/382b41b3b1bd9f26f75861d360bad7f8beea211f-knockout_punches.js"
                    },
                    {
                     "name": null,
                     "type": "js",
                     "url": "/assetserver/5ab20f1060420992a9b82a65b735dee4d81ef413-all.js"
                    },
                    {
                     "name": null,
                     "type": "css",
                     "url": "/assetserver/1cc0ed62837210b80a182cc3676512f895dab686-style.css"
                    },
                    {
                     "name": null,
                     "type": "css",
                     "url": "/assetserver/2eee816f616df3549d7044d45e744fbf8d42bfa1-bulma_confined.min.css"
                    }
                   ],
                   "type": "async_block"
                  },
                  "mount_callbacks": [
                   "function () {\n    var handler = (function (ko, koPunches) {\n    ko.punches.enableAll();\n    ko.bindingHandlers.numericValue = {\n        init: function(element, valueAccessor, allBindings, data, context) {\n            var stringified = ko.observable(ko.unwrap(valueAccessor()));\n            stringified.subscribe(function(value) {\n                var val = parseFloat(value);\n                if (!isNaN(val)) {\n                    valueAccessor()(val);\n                }\n            });\n            valueAccessor().subscribe(function(value) {\n                var str = JSON.stringify(value);\n                if ((str == \"0\") && ([\"-0\", \"-0.\"].indexOf(stringified()) >= 0))\n                     return;\n                 if ([\"null\", \"\"].indexOf(str) >= 0)\n                     return;\n                stringified(str);\n            });\n            ko.applyBindingsToNode(\n                element,\n                {\n                    value: stringified,\n                    valueUpdate: allBindings.get('valueUpdate'),\n                },\n                context,\n            );\n        }\n    };\n    var json_data = {\"loading\":WebIO.getval({\"name\":\"loading\",\"scope\":\"14652925860172356706\",\"id\":\"16720800215367875425\",\"type\":\"observable\"}),\"clicks\":WebIO.getval({\"name\":\"clicks\",\"scope\":\"14652925860172356706\",\"id\":\"10511196883715144044\",\"type\":\"observable\"})};\n    var self = this;\n    function AppViewModel() {\n        for (var key in json_data) {\n            var el = json_data[key];\n            this[key] = Array.isArray(el) ? ko.observableArray(el) : ko.observable(el);\n        }\n        \n        \n        [this[\"loading\"].subscribe((function (val){!(this.valueFromJulia[\"loading\"]) ? (WebIO.setval({\"name\":\"loading\",\"scope\":\"14652925860172356706\",\"id\":\"16720800215367875425\",\"type\":\"observable\"},val)) : undefined; return this.valueFromJulia[\"loading\"]=false}),self),this[\"clicks\"].subscribe((function (val){!(this.valueFromJulia[\"clicks\"]) ? (WebIO.setval({\"name\":\"clicks\",\"scope\":\"14652925860172356706\",\"id\":\"10511196883715144044\",\"type\":\"observable\"},val)) : undefined; return this.valueFromJulia[\"clicks\"]=false}),self)]\n        \n    }\n    self.model = new AppViewModel();\n    self.valueFromJulia = {};\n    for (var key in json_data) {\n        self.valueFromJulia[key] = false;\n    }\n    ko.applyBindings(self.model, self.dom);\n}\n);\n    (WebIO.importBlock({\"data\":[{\"name\":\"knockout\",\"type\":\"js\",\"url\":\"/assetserver/727383f2a47bd31570b7da84eee7b022dd6d7c78-knockout.js\"},{\"name\":\"knockout_punches\",\"type\":\"js\",\"url\":\"/assetserver/382b41b3b1bd9f26f75861d360bad7f8beea211f-knockout_punches.js\"}],\"type\":\"async_block\"})).then((imports) => handler.apply(this, imports));\n}\n"
                  ],
                  "observables": {
                   "clicks": {
                    "id": "10511196883715144044",
                    "sync": true,
                    "value": 0
                   },
                   "loading": {
                    "id": "16720800215367875425",
                    "sync": false,
                    "value": false
                   }
                  },
                  "systemjs_options": null
                 },
                 "nodeType": "Scope",
                 "props": {},
                 "type": "node"
                }
               ],
               "instanceArgs": {
                "namespace": "html",
                "tag": "div"
               },
               "nodeType": "DOM",
               "props": {
                "className": "field interact-widget"
               },
               "type": "node"
              },
              {
               "children": [
                {
                 "children": [
                  {
                   "children": [],
                   "instanceArgs": {
                    "namespace": "html",
                    "tag": "div"
                   },
                   "nodeType": "DOM",
                   "props": {
                    "id": "container"
                   },
                   "type": "node"
                  }
                 ],
                 "instanceArgs": {
                  "handlers": {
                   "value": [
                    "(function (txt){return this.k.render(txt,this.container)})"
                   ]
                  },
                  "id": "11008100412563243826",
                  "imports": {
                   "data": [
                    {
                     "name": null,
                     "type": "js",
                     "url": "/assetserver/dd22ed1bf1896c2748f3fe616ce0b838adc895c1-katex.min.js"
                    },
                    {
                     "name": null,
                     "type": "css",
                     "url": "/assetserver/46517a424aa5e6cffc1360d7e0848b601c584ee3-katex.min.css"
                    }
                   ],
                   "type": "async_block"
                  },
                  "mount_callbacks": [
                   "function () {\n    var handler = ((function (k){this.k=k; this.container=this.dom.querySelector(\"#container\"); return k.render(\"\\\\;\\\\;\",this.container)}));\n    (WebIO.importBlock({\"data\":[{\"name\":null,\"type\":\"js\",\"url\":\"/assetserver/dd22ed1bf1896c2748f3fe616ce0b838adc895c1-katex.min.js\"},{\"name\":null,\"type\":\"css\",\"url\":\"/assetserver/46517a424aa5e6cffc1360d7e0848b601c584ee3-katex.min.css\"}],\"type\":\"async_block\"})).then((imports) => handler.apply(this, imports));\n}\n"
                  ],
                  "observables": {
                   "value": {
                    "id": "3105336480798575162",
                    "sync": false,
                    "value": "\\;\\;"
                   }
                  },
                  "systemjs_options": null
                 },
                 "nodeType": "Scope",
                 "props": {},
                 "type": "node"
                }
               ],
               "instanceArgs": {
                "namespace": "html",
                "tag": "div"
               },
               "nodeType": "DOM",
               "props": {
                "className": "interact-widget"
               },
               "type": "node"
              },
              {
               "children": [
                {
                 "children": [
                  {
                   "children": [
                    "stop"
                   ],
                   "instanceArgs": {
                    "namespace": "html",
                    "tag": "button"
                   },
                   "nodeType": "DOM",
                   "props": {
                    "attributes": {
                     "data-bind": "click: function (){this.clicks(this.clicks()+1)}, css: {'is-loading' : loading}"
                    },
                    "className": "is-medium button is-primary",
                    "style": {}
                   },
                   "type": "node"
                  }
                 ],
                 "instanceArgs": {
                  "handlers": {
                   "clicks": [
                    "(function (val){return (val!=this.model[\"clicks\"]()) ? (this.valueFromJulia[\"clicks\"]=true, this.model[\"clicks\"](val)) : undefined})"
                   ],
                   "loading": [
                    "(function (val){return (val!=this.model[\"loading\"]()) ? (this.valueFromJulia[\"loading\"]=true, this.model[\"loading\"](val)) : undefined})"
                   ]
                  },
                  "id": "5121678230066131587",
                  "imports": {
                   "data": [
                    {
                     "name": "knockout",
                     "type": "js",
                     "url": "/assetserver/727383f2a47bd31570b7da84eee7b022dd6d7c78-knockout.js"
                    },
                    {
                     "name": "knockout_punches",
                     "type": "js",
                     "url": "/assetserver/382b41b3b1bd9f26f75861d360bad7f8beea211f-knockout_punches.js"
                    },
                    {
                     "name": null,
                     "type": "js",
                     "url": "/assetserver/5ab20f1060420992a9b82a65b735dee4d81ef413-all.js"
                    },
                    {
                     "name": null,
                     "type": "css",
                     "url": "/assetserver/1cc0ed62837210b80a182cc3676512f895dab686-style.css"
                    },
                    {
                     "name": null,
                     "type": "css",
                     "url": "/assetserver/2eee816f616df3549d7044d45e744fbf8d42bfa1-bulma_confined.min.css"
                    }
                   ],
                   "type": "async_block"
                  },
                  "mount_callbacks": [
                   "function () {\n    var handler = (function (ko, koPunches) {\n    ko.punches.enableAll();\n    ko.bindingHandlers.numericValue = {\n        init: function(element, valueAccessor, allBindings, data, context) {\n            var stringified = ko.observable(ko.unwrap(valueAccessor()));\n            stringified.subscribe(function(value) {\n                var val = parseFloat(value);\n                if (!isNaN(val)) {\n                    valueAccessor()(val);\n                }\n            });\n            valueAccessor().subscribe(function(value) {\n                var str = JSON.stringify(value);\n                if ((str == \"0\") && ([\"-0\", \"-0.\"].indexOf(stringified()) >= 0))\n                     return;\n                 if ([\"null\", \"\"].indexOf(str) >= 0)\n                     return;\n                stringified(str);\n            });\n            ko.applyBindingsToNode(\n                element,\n                {\n                    value: stringified,\n                    valueUpdate: allBindings.get('valueUpdate'),\n                },\n                context,\n            );\n        }\n    };\n    var json_data = {\"loading\":WebIO.getval({\"name\":\"loading\",\"scope\":\"5121678230066131587\",\"id\":\"976052187337376544\",\"type\":\"observable\"}),\"clicks\":WebIO.getval({\"name\":\"clicks\",\"scope\":\"5121678230066131587\",\"id\":\"9343367184056007939\",\"type\":\"observable\"})};\n    var self = this;\n    function AppViewModel() {\n        for (var key in json_data) {\n            var el = json_data[key];\n            this[key] = Array.isArray(el) ? ko.observableArray(el) : ko.observable(el);\n        }\n        \n        \n        [this[\"loading\"].subscribe((function (val){!(this.valueFromJulia[\"loading\"]) ? (WebIO.setval({\"name\":\"loading\",\"scope\":\"5121678230066131587\",\"id\":\"976052187337376544\",\"type\":\"observable\"},val)) : undefined; return this.valueFromJulia[\"loading\"]=false}),self),this[\"clicks\"].subscribe((function (val){!(this.valueFromJulia[\"clicks\"]) ? (WebIO.setval({\"name\":\"clicks\",\"scope\":\"5121678230066131587\",\"id\":\"9343367184056007939\",\"type\":\"observable\"},val)) : undefined; return this.valueFromJulia[\"clicks\"]=false}),self)]\n        \n    }\n    self.model = new AppViewModel();\n    self.valueFromJulia = {};\n    for (var key in json_data) {\n        self.valueFromJulia[key] = false;\n    }\n    ko.applyBindings(self.model, self.dom);\n}\n);\n    (WebIO.importBlock({\"data\":[{\"name\":\"knockout\",\"type\":\"js\",\"url\":\"/assetserver/727383f2a47bd31570b7da84eee7b022dd6d7c78-knockout.js\"},{\"name\":\"knockout_punches\",\"type\":\"js\",\"url\":\"/assetserver/382b41b3b1bd9f26f75861d360bad7f8beea211f-knockout_punches.js\"}],\"type\":\"async_block\"})).then((imports) => handler.apply(this, imports));\n}\n"
                  ],
                  "observables": {
                   "clicks": {
                    "id": "9343367184056007939",
                    "sync": true,
                    "value": 0
                   },
                   "loading": {
                    "id": "976052187337376544",
                    "sync": false,
                    "value": false
                   }
                  },
                  "systemjs_options": null
                 },
                 "nodeType": "Scope",
                 "props": {},
                 "type": "node"
                }
               ],
               "instanceArgs": {
                "namespace": "html",
                "tag": "div"
               },
               "nodeType": "DOM",
               "props": {
                "className": "field interact-widget"
               },
               "type": "node"
              },
              {
               "children": [
                {
                 "children": [
                  {
                   "children": [],
                   "instanceArgs": {
                    "namespace": "html",
                    "tag": "div"
                   },
                   "nodeType": "DOM",
                   "props": {
                    "id": "container"
                   },
                   "type": "node"
                  }
                 ],
                 "instanceArgs": {
                  "handlers": {
                   "value": [
                    "(function (txt){return this.k.render(txt,this.container)})"
                   ]
                  },
                  "id": "11008100412563243826",
                  "imports": {
                   "data": [
                    {
                     "name": null,
                     "type": "js",
                     "url": "/assetserver/dd22ed1bf1896c2748f3fe616ce0b838adc895c1-katex.min.js"
                    },
                    {
                     "name": null,
                     "type": "css",
                     "url": "/assetserver/46517a424aa5e6cffc1360d7e0848b601c584ee3-katex.min.css"
                    }
                   ],
                   "type": "async_block"
                  },
                  "mount_callbacks": [
                   "function () {\n    var handler = ((function (k){this.k=k; this.container=this.dom.querySelector(\"#container\"); return k.render(\"\\\\;\\\\;\",this.container)}));\n    (WebIO.importBlock({\"data\":[{\"name\":null,\"type\":\"js\",\"url\":\"/assetserver/dd22ed1bf1896c2748f3fe616ce0b838adc895c1-katex.min.js\"},{\"name\":null,\"type\":\"css\",\"url\":\"/assetserver/46517a424aa5e6cffc1360d7e0848b601c584ee3-katex.min.css\"}],\"type\":\"async_block\"})).then((imports) => handler.apply(this, imports));\n}\n"
                  ],
                  "observables": {
                   "value": {
                    "id": "3105336480798575162",
                    "sync": false,
                    "value": "\\;\\;"
                   }
                  },
                  "systemjs_options": null
                 },
                 "nodeType": "Scope",
                 "props": {},
                 "type": "node"
                }
               ],
               "instanceArgs": {
                "namespace": "html",
                "tag": "div"
               },
               "nodeType": "DOM",
               "props": {
                "className": "interact-widget"
               },
               "type": "node"
              },
              {
               "children": [
                {
                 "children": [
                  {
                   "children": [
                    "save"
                   ],
                   "instanceArgs": {
                    "namespace": "html",
                    "tag": "button"
                   },
                   "nodeType": "DOM",
                   "props": {
                    "attributes": {
                     "data-bind": "click: function (){this.clicks(this.clicks()+1)}, css: {'is-loading' : loading}"
                    },
                    "className": "is-medium button is-primary",
                    "style": {}
                   },
                   "type": "node"
                  }
                 ],
                 "instanceArgs": {
                  "handlers": {
                   "clicks": [
                    "(function (val){return (val!=this.model[\"clicks\"]()) ? (this.valueFromJulia[\"clicks\"]=true, this.model[\"clicks\"](val)) : undefined})"
                   ],
                   "loading": [
                    "(function (val){return (val!=this.model[\"loading\"]()) ? (this.valueFromJulia[\"loading\"]=true, this.model[\"loading\"](val)) : undefined})"
                   ]
                  },
                  "id": "14045243826337883128",
                  "imports": {
                   "data": [
                    {
                     "name": "knockout",
                     "type": "js",
                     "url": "/assetserver/727383f2a47bd31570b7da84eee7b022dd6d7c78-knockout.js"
                    },
                    {
                     "name": "knockout_punches",
                     "type": "js",
                     "url": "/assetserver/382b41b3b1bd9f26f75861d360bad7f8beea211f-knockout_punches.js"
                    },
                    {
                     "name": null,
                     "type": "js",
                     "url": "/assetserver/5ab20f1060420992a9b82a65b735dee4d81ef413-all.js"
                    },
                    {
                     "name": null,
                     "type": "css",
                     "url": "/assetserver/1cc0ed62837210b80a182cc3676512f895dab686-style.css"
                    },
                    {
                     "name": null,
                     "type": "css",
                     "url": "/assetserver/2eee816f616df3549d7044d45e744fbf8d42bfa1-bulma_confined.min.css"
                    }
                   ],
                   "type": "async_block"
                  },
                  "mount_callbacks": [
                   "function () {\n    var handler = (function (ko, koPunches) {\n    ko.punches.enableAll();\n    ko.bindingHandlers.numericValue = {\n        init: function(element, valueAccessor, allBindings, data, context) {\n            var stringified = ko.observable(ko.unwrap(valueAccessor()));\n            stringified.subscribe(function(value) {\n                var val = parseFloat(value);\n                if (!isNaN(val)) {\n                    valueAccessor()(val);\n                }\n            });\n            valueAccessor().subscribe(function(value) {\n                var str = JSON.stringify(value);\n                if ((str == \"0\") && ([\"-0\", \"-0.\"].indexOf(stringified()) >= 0))\n                     return;\n                 if ([\"null\", \"\"].indexOf(str) >= 0)\n                     return;\n                stringified(str);\n            });\n            ko.applyBindingsToNode(\n                element,\n                {\n                    value: stringified,\n                    valueUpdate: allBindings.get('valueUpdate'),\n                },\n                context,\n            );\n        }\n    };\n    var json_data = {\"loading\":WebIO.getval({\"name\":\"loading\",\"scope\":\"14045243826337883128\",\"id\":\"10250663491145785705\",\"type\":\"observable\"}),\"clicks\":WebIO.getval({\"name\":\"clicks\",\"scope\":\"14045243826337883128\",\"id\":\"8575666290916412605\",\"type\":\"observable\"})};\n    var self = this;\n    function AppViewModel() {\n        for (var key in json_data) {\n            var el = json_data[key];\n            this[key] = Array.isArray(el) ? ko.observableArray(el) : ko.observable(el);\n        }\n        \n        \n        [this[\"loading\"].subscribe((function (val){!(this.valueFromJulia[\"loading\"]) ? (WebIO.setval({\"name\":\"loading\",\"scope\":\"14045243826337883128\",\"id\":\"10250663491145785705\",\"type\":\"observable\"},val)) : undefined; return this.valueFromJulia[\"loading\"]=false}),self),this[\"clicks\"].subscribe((function (val){!(this.valueFromJulia[\"clicks\"]) ? (WebIO.setval({\"name\":\"clicks\",\"scope\":\"14045243826337883128\",\"id\":\"8575666290916412605\",\"type\":\"observable\"},val)) : undefined; return this.valueFromJulia[\"clicks\"]=false}),self)]\n        \n    }\n    self.model = new AppViewModel();\n    self.valueFromJulia = {};\n    for (var key in json_data) {\n        self.valueFromJulia[key] = false;\n    }\n    ko.applyBindings(self.model, self.dom);\n}\n);\n    (WebIO.importBlock({\"data\":[{\"name\":\"knockout\",\"type\":\"js\",\"url\":\"/assetserver/727383f2a47bd31570b7da84eee7b022dd6d7c78-knockout.js\"},{\"name\":\"knockout_punches\",\"type\":\"js\",\"url\":\"/assetserver/382b41b3b1bd9f26f75861d360bad7f8beea211f-knockout_punches.js\"}],\"type\":\"async_block\"})).then((imports) => handler.apply(this, imports));\n}\n"
                  ],
                  "observables": {
                   "clicks": {
                    "id": "8575666290916412605",
                    "sync": true,
                    "value": 0
                   },
                   "loading": {
                    "id": "10250663491145785705",
                    "sync": false,
                    "value": false
                   }
                  },
                  "systemjs_options": null
                 },
                 "nodeType": "Scope",
                 "props": {},
                 "type": "node"
                }
               ],
               "instanceArgs": {
                "namespace": "html",
                "tag": "div"
               },
               "nodeType": "DOM",
               "props": {
                "className": "field interact-widget"
               },
               "type": "node"
              }
             ],
             "instanceArgs": {
              "namespace": "html",
              "tag": "div"
             },
             "nodeType": "DOM",
             "props": {
              "style": {
               "display": "flex",
               "flex-direction": "row"
              }
             },
             "type": "node"
            }
           ],
           "instanceArgs": {
            "namespace": "html",
            "tag": "div"
           },
           "nodeType": "DOM",
           "props": {
            "style": {
             "display": "flex",
             "flex-direction": "column"
            }
           },
           "type": "node"
          },
          {
           "children": [
            {
             "children": [
              {
               "children": [],
               "instanceArgs": {
                "namespace": "html",
                "tag": "div"
               },
               "nodeType": "DOM",
               "props": {
                "id": "container"
               },
               "type": "node"
              }
             ],
             "instanceArgs": {
              "handlers": {
               "value": [
                "(function (txt){return this.k.render(txt,this.container)})"
               ]
              },
              "id": "11008100412563243826",
              "imports": {
               "data": [
                {
                 "name": null,
                 "type": "js",
                 "url": "/assetserver/dd22ed1bf1896c2748f3fe616ce0b838adc895c1-katex.min.js"
                },
                {
                 "name": null,
                 "type": "css",
                 "url": "/assetserver/46517a424aa5e6cffc1360d7e0848b601c584ee3-katex.min.css"
                }
               ],
               "type": "async_block"
              },
              "mount_callbacks": [
               "function () {\n    var handler = ((function (k){this.k=k; this.container=this.dom.querySelector(\"#container\"); return k.render(\"\\\\;\\\\;\",this.container)}));\n    (WebIO.importBlock({\"data\":[{\"name\":null,\"type\":\"js\",\"url\":\"/assetserver/dd22ed1bf1896c2748f3fe616ce0b838adc895c1-katex.min.js\"},{\"name\":null,\"type\":\"css\",\"url\":\"/assetserver/46517a424aa5e6cffc1360d7e0848b601c584ee3-katex.min.css\"}],\"type\":\"async_block\"})).then((imports) => handler.apply(this, imports));\n}\n"
              ],
              "observables": {
               "value": {
                "id": "3105336480798575162",
                "sync": false,
                "value": "\\;\\;"
               }
              },
              "systemjs_options": null
             },
             "nodeType": "Scope",
             "props": {},
             "type": "node"
            }
           ],
           "instanceArgs": {
            "namespace": "html",
            "tag": "div"
           },
           "nodeType": "DOM",
           "props": {
            "className": "interact-widget"
           },
           "type": "node"
          },
          {
           "children": [
            {
             "children": [],
             "instanceArgs": {
              "namespace": "html",
              "tag": "div"
             },
             "nodeType": "DOM",
             "props": {
              "className": "webio-observable",
              "setInnerHtml": "<img src='data:image/png;base64,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'></img>"
             },
             "type": "node"
            }
           ],
           "instanceArgs": {
            "handlers": {
             "obs-output": [
              "function (value, scope) {\n    scope.setInnerHTML(value);\n}\n"
             ]
            },
            "id": "8157704127132497715",
            "imports": {
             "data": [],
             "type": "async_block"
            },
            "mount_callbacks": [],
            "observables": {
             "obs-output": {
              "id": "8768472232069142019",
              "sync": false,
              "value": "<img src='data:image/png;base64,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'></img>"
             }
            },
            "systemjs_options": null
           },
           "nodeType": "Scope",
           "props": {},
           "type": "node"
          },
          {
           "children": [
            {
             "children": [
              {
               "children": [],
               "instanceArgs": {
                "namespace": "html",
                "tag": "div"
               },
               "nodeType": "DOM",
               "props": {
                "id": "container"
               },
               "type": "node"
              }
             ],
             "instanceArgs": {
              "handlers": {
               "value": [
                "(function (txt){return this.k.render(txt,this.container)})"
               ]
              },
              "id": "11008100412563243826",
              "imports": {
               "data": [
                {
                 "name": null,
                 "type": "js",
                 "url": "/assetserver/dd22ed1bf1896c2748f3fe616ce0b838adc895c1-katex.min.js"
                },
                {
                 "name": null,
                 "type": "css",
                 "url": "/assetserver/46517a424aa5e6cffc1360d7e0848b601c584ee3-katex.min.css"
                }
               ],
               "type": "async_block"
              },
              "mount_callbacks": [
               "function () {\n    var handler = ((function (k){this.k=k; this.container=this.dom.querySelector(\"#container\"); return k.render(\"\\\\;\\\\;\",this.container)}));\n    (WebIO.importBlock({\"data\":[{\"name\":null,\"type\":\"js\",\"url\":\"/assetserver/dd22ed1bf1896c2748f3fe616ce0b838adc895c1-katex.min.js\"},{\"name\":null,\"type\":\"css\",\"url\":\"/assetserver/46517a424aa5e6cffc1360d7e0848b601c584ee3-katex.min.css\"}],\"type\":\"async_block\"})).then((imports) => handler.apply(this, imports));\n}\n"
              ],
              "observables": {
               "value": {
                "id": "3105336480798575162",
                "sync": false,
                "value": "\\;\\;"
               }
              },
              "systemjs_options": null
             },
             "nodeType": "Scope",
             "props": {},
             "type": "node"
            }
           ],
           "instanceArgs": {
            "namespace": "html",
            "tag": "div"
           },
           "nodeType": "DOM",
           "props": {
            "className": "interact-widget"
           },
           "type": "node"
          },
          {
           "children": [],
           "instanceArgs": {
            "namespace": "html",
            "tag": "div"
           },
           "nodeType": "DOM",
           "props": {
            "style": {
             "display": "flex",
             "flex-direction": "column"
            }
           },
           "type": "node"
          }
         ],
         "instanceArgs": {
          "namespace": "html",
          "tag": "div"
         },
         "nodeType": "DOM",
         "props": {
          "style": {
           "display": "flex",
           "flex-direction": "row"
          }
         },
         "type": "node"
        }
       ],
       "instanceArgs": {
        "namespace": "html",
        "tag": "div"
       },
       "nodeType": "DOM",
       "props": {
        "style": {
         "display": "flex",
         "flex-direction": "column"
        }
       },
       "type": "node"
      },
      "text/html": [
       "<div\n",
       "    class=\"webio-mountpoint\"\n",
       "    data-webio-mountpoint=\"16142384277048190993\"\n",
       ">\n",
       "    <script>\n",
       "    (function(){\n",
       "    // Some integrations (namely, IJulia/Jupyter) use an alternate render pathway than\n",
       "    // just putting the html on the page. If WebIO isn't defined, then it's pretty likely\n",
       "    // that we're in one of those situations and the integration just isn't installed\n",
       "    // correctly.\n",
       "    if (typeof window.WebIO === \"undefined\") {\n",
       "        document\n",
       "            .querySelector('[data-webio-mountpoint=\"16142384277048190993\"]')\n",
       "            .innerHTML = (\n",
       "                '<div style=\"padding: 1em; background-color: #f8d6da; border: 1px solid #f5c6cb; font-weight: bold;\">' +\n",
       "                '<p><strong>WebIO not detected.</strong></p>' +\n",
       "                '<p>Please read ' +\n",
       "                '<a href=\"https://juliagizmos.github.io/WebIO.jl/latest/troubleshooting/not-detected/\" target=\"_blank\">the troubleshooting guide</a> ' +\n",
       "                'for more information on how to resolve this issue.</p>' +\n",
       "                '<p><a href=\"https://juliagizmos.github.io/WebIO.jl/latest/troubleshooting/not-detected/\" target=\"_blank\">https://juliagizmos.github.io/WebIO.jl/latest/troubleshooting/not-detected/</a></p>' +\n",
       "                '</div>'\n",
       "            );\n",
       "        return;\n",
       "    }\n",
       "    WebIO.mount(\n",
       "        document.querySelector('[data-webio-mountpoint=\"16142384277048190993\"]'),\n",
       "        {\"props\":{\"style\":{\"display\":\"flex\",\"flex-direction\":\"column\"}},\"nodeType\":\"DOM\",\"type\":\"node\",\"instanceArgs\":{\"namespace\":\"html\",\"tag\":\"div\"},\"children\":[{\"props\":{\"style\":{\"display\":\"flex\",\"flex-direction\":\"row\"}},\"nodeType\":\"DOM\",\"type\":\"node\",\"instanceArgs\":{\"namespace\":\"html\",\"tag\":\"div\"},\"children\":[{\"props\":{\"style\":{\"display\":\"flex\",\"flex-direction\":\"column\"}},\"nodeType\":\"DOM\",\"type\":\"node\",\"instanceArgs\":{\"namespace\":\"html\",\"tag\":\"div\"},\"children\":[{\"props\":{\"className\":\"field interact-widget\"},\"nodeType\":\"DOM\",\"type\":\"node\",\"instanceArgs\":{\"namespace\":\"html\",\"tag\":\"div\"},\"children\":[{\"props\":{},\"nodeType\":\"Scope\",\"type\":\"node\",\"instanceArgs\":{\"imports\":{\"data\":[{\"name\":\"knockout\",\"type\":\"js\",\"url\":\"\\/assetserver\\/727383f2a47bd31570b7da84eee7b022dd6d7c78-knockout.js\"},{\"name\":\"knockout_punches\",\"type\":\"js\",\"url\":\"\\/assetserver\\/382b41b3b1bd9f26f75861d360bad7f8beea211f-knockout_punches.js\"},{\"name\":null,\"type\":\"js\",\"url\":\"\\/assetserver\\/5ab20f1060420992a9b82a65b735dee4d81ef413-all.js\"},{\"name\":null,\"type\":\"css\",\"url\":\"\\/assetserver\\/1cc0ed62837210b80a182cc3676512f895dab686-style.css\"},{\"name\":null,\"type\":\"css\",\"url\":\"\\/assetserver\\/2eee816f616df3549d7044d45e744fbf8d42bfa1-bulma_confined.min.css\"}],\"type\":\"async_block\"},\"id\":\"1142503790398093117\",\"handlers\":{\"changes\":[\"(function (val){return (val!=this.model[\\\"changes\\\"]()) ? (this.valueFromJulia[\\\"changes\\\"]=true, this.model[\\\"changes\\\"](val)) : undefined})\"],\"index\":[\"(function (val){return (val!=this.model[\\\"index\\\"]()) ? (this.valueFromJulia[\\\"index\\\"]=true, this.model[\\\"index\\\"](val)) : undefined})\"]},\"systemjs_options\":null,\"mount_callbacks\":[\"function () {\\n    var handler = (function (ko, koPunches) {\\n    ko.punches.enableAll();\\n    ko.bindingHandlers.numericValue = {\\n        init: function(element, valueAccessor, allBindings, data, context) {\\n            var stringified = ko.observable(ko.unwrap(valueAccessor()));\\n            stringified.subscribe(function(value) {\\n                var val = parseFloat(value);\\n                if (!isNaN(val)) {\\n                    valueAccessor()(val);\\n                }\\n            });\\n            valueAccessor().subscribe(function(value) {\\n                var str = JSON.stringify(value);\\n                if ((str == \\\"0\\\") && ([\\\"-0\\\", \\\"-0.\\\"].indexOf(stringified()) >= 0))\\n                     return;\\n                 if ([\\\"null\\\", \\\"\\\"].indexOf(str) >= 0)\\n                     return;\\n                stringified(str);\\n            });\\n            ko.applyBindingsToNode(\\n                element,\\n                {\\n                    value: stringified,\\n                    valueUpdate: allBindings.get('valueUpdate'),\\n                },\\n                context,\\n            );\\n        }\\n    };\\n    var json_data = {\\\"formatted_vals\\\":[\\\"1\\\",\\\"2\\\",\\\"3\\\",\\\"4\\\",\\\"5\\\",\\\"6\\\",\\\"7\\\",\\\"8\\\",\\\"9\\\",\\\"10\\\",\\\"11\\\",\\\"12\\\",\\\"13\\\",\\\"14\\\",\\\"15\\\",\\\"16\\\",\\\"17\\\",\\\"18\\\",\\\"19\\\",\\\"20\\\",\\\"21\\\",\\\"22\\\",\\\"23\\\",\\\"24\\\",\\\"25\\\",\\\"26\\\",\\\"27\\\",\\\"28\\\",\\\"29\\\",\\\"30\\\",\\\"31\\\",\\\"32\\\",\\\"33\\\",\\\"34\\\",\\\"35\\\",\\\"36\\\",\\\"37\\\",\\\"38\\\",\\\"39\\\",\\\"40\\\",\\\"41\\\",\\\"42\\\",\\\"43\\\",\\\"44\\\",\\\"45\\\",\\\"46\\\",\\\"47\\\",\\\"48\\\",\\\"49\\\",\\\"50\\\",\\\"51\\\",\\\"52\\\",\\\"53\\\",\\\"54\\\",\\\"55\\\",\\\"56\\\",\\\"57\\\",\\\"58\\\",\\\"59\\\",\\\"60\\\",\\\"61\\\",\\\"62\\\",\\\"63\\\",\\\"64\\\",\\\"65\\\",\\\"66\\\",\\\"67\\\",\\\"68\\\",\\\"69\\\",\\\"70\\\",\\\"71\\\",\\\"72\\\",\\\"73\\\",\\\"74\\\",\\\"75\\\",\\\"76\\\",\\\"77\\\",\\\"78\\\",\\\"79\\\",\\\"80\\\",\\\"81\\\",\\\"82\\\",\\\"83\\\",\\\"84\\\",\\\"85\\\",\\\"86\\\",\\\"87\\\",\\\"88\\\",\\\"89\\\",\\\"90\\\",\\\"91\\\",\\\"92\\\",\\\"93\\\",\\\"94\\\",\\\"95\\\",\\\"96\\\",\\\"97\\\",\\\"98\\\",\\\"99\\\",\\\"100\\\",\\\"101\\\",\\\"102\\\",\\\"103\\\",\\\"104\\\",\\\"105\\\",\\\"106\\\",\\\"107\\\",\\\"108\\\",\\\"109\\\",\\\"110\\\",\\\"111\\\",\\\"112\\\",\\\"113\\\",\\\"114\\\",\\\"115\\\",\\\"116\\\",\\\"117\\\",\\\"118\\\",\\\"119\\\",\\\"120\\\",\\\"121\\\",\\\"122\\\",\\\"123\\\",\\\"124\\\",\\\"125\\\",\\\"126\\\",\\\"127\\\",\\\"128\\\",\\\"129\\\",\\\"130\\\",\\\"131\\\",\\\"132\\\",\\\"133\\\",\\\"134\\\",\\\"135\\\",\\\"136\\\",\\\"137\\\",\\\"138\\\",\\\"139\\\",\\\"140\\\",\\\"141\\\",\\\"142\\\",\\\"143\\\",\\\"144\\\",\\\"145\\\",\\\"146\\\",\\\"147\\\",\\\"148\\\",\\\"149\\\",\\\"150\\\",\\\"151\\\",\\\"152\\\",\\\"153\\\",\\\"154\\\",\\\"155\\\",\\\"156\\\",\\\"157\\\",\\\"158\\\",\\\"159\\\",\\\"160\\\",\\\"161\\\",\\\"162\\\",\\\"163\\\",\\\"164\\\",\\\"165\\\",\\\"166\\\",\\\"167\\\",\\\"168\\\",\\\"169\\\",\\\"170\\\",\\\"171\\\",\\\"172\\\",\\\"173\\\",\\\"174\\\",\\\"175\\\",\\\"176\\\",\\\"177\\\",\\\"178\\\",\\\"179\\\",\\\"180\\\",\\\"181\\\",\\\"182\\\",\\\"183\\\",\\\"184\\\",\\\"185\\\",\\\"186\\\",\\\"187\\\",\\\"188\\\",\\\"189\\\",\\\"190\\\",\\\"191\\\",\\\"192\\\",\\\"193\\\",\\\"194\\\",\\\"195\\\",\\\"196\\\",\\\"197\\\",\\\"198\\\",\\\"199\\\",\\\"200\\\",\\\"201\\\",\\\"202\\\",\\\"203\\\",\\\"204\\\",\\\"205\\\",\\\"206\\\",\\\"207\\\",\\\"208\\\",\\\"209\\\",\\\"210\\\",\\\"211\\\",\\\"212\\\",\\\"213\\\",\\\"214\\\",\\\"215\\\",\\\"216\\\",\\\"217\\\",\\\"218\\\",\\\"219\\\",\\\"220\\\",\\\"221\\\",\\\"222\\\",\\\"223\\\",\\\"224\\\",\\\"225\\\",\\\"226\\\",\\\"227\\\",\\\"228\\\",\\\"229\\\",\\\"230\\\",\\\"231\\\",\\\"232\\\",\\\"233\\\",\\\"234\\\",\\\"235\\\",\\\"236\\\",\\\"237\\\",\\\"238\\\",\\\"239\\\",\\\"240\\\",\\\"241\\\",\\\"242\\\",\\\"243\\\",\\\"244\\\",\\\"245\\\",\\\"246\\\",\\\"247\\\",\\\"248\\\",\\\"249\\\",\\\"250\\\",\\\"251\\\",\\\"252\\\",\\\"253\\\",\\\"254\\\",\\\"255\\\",\\\"256\\\",\\\"257\\\",\\\"258\\\",\\\"259\\\",\\\"260\\\",\\\"261\\\",\\\"262\\\",\\\"263\\\",\\\"264\\\",\\\"265\\\",\\\"266\\\",\\\"267\\\",\\\"268\\\",\\\"269\\\",\\\"270\\\",\\\"271\\\",\\\"272\\\",\\\"273\\\",\\\"274\\\",\\\"275\\\",\\\"276\\\",\\\"277\\\",\\\"278\\\",\\\"279\\\",\\\"280\\\",\\\"281\\\",\\\"282\\\",\\\"283\\\",\\\"284\\\",\\\"285\\\",\\\"286\\\",\\\"287\\\",\\\"288\\\",\\\"289\\\",\\\"290\\\",\\\"291\\\",\\\"292\\\",\\\"293\\\",\\\"294\\\",\\\"295\\\",\\\"296\\\",\\\"297\\\",\\\"298\\\",\\\"299\\\",\\\"300\\\",\\\"301\\\",\\\"302\\\",\\\"303\\\",\\\"304\\\",\\\"305\\\",\\\"306\\\",\\\"307\\\",\\\"308\\\",\\\"309\\\",\\\"310\\\",\\\"311\\\",\\\"312\\\",\\\"313\\\",\\\"314\\\",\\\"315\\\",\\\"316\\\",\\\"317\\\",\\\"318\\\",\\\"319\\\",\\\"320\\\",\\\"321\\\",\\\"322\\\",\\\"323\\\",\\\"324\\\",\\\"325\\\",\\\"326\\\",\\\"327\\\",\\\"328\\\",\\\"329\\\",\\\"330\\\",\\\"331\\\",\\\"332\\\",\\\"333\\\",\\\"334\\\",\\\"335\\\",\\\"336\\\",\\\"337\\\",\\\"338\\\",\\\"339\\\",\\\"340\\\",\\\"341\\\",\\\"342\\\",\\\"343\\\",\\\"344\\\",\\\"345\\\",\\\"346\\\",\\\"347\\\",\\\"348\\\",\\\"349\\\",\\\"350\\\",\\\"351\\\",\\\"352\\\",\\\"353\\\",\\\"354\\\",\\\"355\\\",\\\"356\\\",\\\"357\\\",\\\"358\\\",\\\"359\\\",\\\"360\\\",\\\"361\\\",\\\"362\\\",\\\"363\\\",\\\"364\\\",\\\"365\\\",\\\"366\\\",\\\"367\\\",\\\"368\\\",\\\"369\\\",\\\"370\\\",\\\"371\\\",\\\"372\\\",\\\"373\\\",\\\"374\\\",\\\"375\\\",\\\"376\\\",\\\"377\\\",\\\"378\\\",\\\"379\\\",\\\"380\\\",\\\"381\\\",\\\"382\\\",\\\"383\\\",\\\"384\\\",\\\"385\\\",\\\"386\\\",\\\"387\\\",\\\"388\\\",\\\"389\\\",\\\"390\\\",\\\"391\\\",\\\"392\\\",\\\"393\\\",\\\"394\\\",\\\"395\\\",\\\"396\\\",\\\"397\\\",\\\"398\\\",\\\"399\\\",\\\"400\\\",\\\"401\\\",\\\"402\\\",\\\"403\\\",\\\"404\\\",\\\"405\\\",\\\"406\\\",\\\"407\\\",\\\"408\\\",\\\"409\\\",\\\"410\\\",\\\"411\\\",\\\"412\\\",\\\"413\\\",\\\"414\\\",\\\"415\\\",\\\"416\\\",\\\"417\\\",\\\"418\\\",\\\"419\\\",\\\"420\\\",\\\"421\\\",\\\"422\\\",\\\"423\\\",\\\"424\\\",\\\"425\\\",\\\"426\\\",\\\"427\\\",\\\"428\\\",\\\"429\\\",\\\"430\\\",\\\"431\\\",\\\"432\\\",\\\"433\\\",\\\"434\\\",\\\"435\\\",\\\"436\\\",\\\"437\\\",\\\"438\\\",\\\"439\\\",\\\"440\\\",\\\"441\\\",\\\"442\\\",\\\"443\\\",\\\"444\\\",\\\"445\\\",\\\"446\\\",\\\"447\\\",\\\"448\\\",\\\"449\\\",\\\"450\\\",\\\"451\\\",\\\"452\\\",\\\"453\\\",\\\"454\\\",\\\"455\\\",\\\"456\\\",\\\"457\\\",\\\"458\\\",\\\"459\\\",\\\"460\\\",\\\"461\\\",\\\"462\\\",\\\"463\\\",\\\"464\\\",\\\"465\\\",\\\"466\\\",\\\"467\\\",\\\"468\\\",\\\"469\\\",\\\"470\\\",\\\"471\\\",\\\"472\\\",\\\"473\\\",\\\"474\\\",\\\"475\\\",\\\"476\\\",\\\"477\\\",\\\"478\\\",\\\"479\\\",\\\"480\\\",\\\"481\\\",\\\"482\\\",\\\"483\\\",\\\"484\\\",\\\"485\\\",\\\"486\\\",\\\"487\\\",\\\"488\\\",\\\"489\\\",\\\"490\\\",\\\"491\\\",\\\"492\\\",\\\"493\\\",\\\"494\\\",\\\"495\\\",\\\"496\\\",\\\"497\\\",\\\"498\\\",\\\"499\\\",\\\"500\\\",\\\"501\\\"],\\\"changes\\\":WebIO.getval({\\\"name\\\":\\\"changes\\\",\\\"scope\\\":\\\"1142503790398093117\\\",\\\"id\\\":\\\"659546997151920019\\\",\\\"type\\\":\\\"observable\\\"}),\\\"index\\\":WebIO.getval({\\\"name\\\":\\\"index\\\",\\\"scope\\\":\\\"1142503790398093117\\\",\\\"id\\\":\\\"13818925096374988258\\\",\\\"type\\\":\\\"observable\\\"})};\\n    var self = this;\\n    function AppViewModel() {\\n        for (var key in json_data) {\\n            var el = json_data[key];\\n            this[key] = Array.isArray(el) ? ko.observableArray(el) : ko.observable(el);\\n        }\\n        \\n        [this[\\\"formatted_val\\\"]=ko.computed(    function(){\\n        return this.formatted_vals()[parseInt(this.index())-(1)];\\n    }\\n,this)]\\n        [this[\\\"changes\\\"].subscribe((function (val){!(this.valueFromJulia[\\\"changes\\\"]) ? (WebIO.setval({\\\"name\\\":\\\"changes\\\",\\\"scope\\\":\\\"1142503790398093117\\\",\\\"id\\\":\\\"659546997151920019\\\",\\\"type\\\":\\\"observable\\\"},val)) : undefined; return this.valueFromJulia[\\\"changes\\\"]=false}),self),this[\\\"index\\\"].subscribe((function (val){!(this.valueFromJulia[\\\"index\\\"]) ? (WebIO.setval({\\\"name\\\":\\\"index\\\",\\\"scope\\\":\\\"1142503790398093117\\\",\\\"id\\\":\\\"13818925096374988258\\\",\\\"type\\\":\\\"observable\\\"},val)) : undefined; return this.valueFromJulia[\\\"index\\\"]=false}),self)]\\n        \\n    }\\n    self.model = new AppViewModel();\\n    self.valueFromJulia = {};\\n    for (var key in json_data) {\\n        self.valueFromJulia[key] = false;\\n    }\\n    ko.applyBindings(self.model, self.dom);\\n}\\n);\\n    (WebIO.importBlock({\\\"data\\\":[{\\\"name\\\":\\\"knockout\\\",\\\"type\\\":\\\"js\\\",\\\"url\\\":\\\"\\/assetserver\\/727383f2a47bd31570b7da84eee7b022dd6d7c78-knockout.js\\\"},{\\\"name\\\":\\\"knockout_punches\\\",\\\"type\\\":\\\"js\\\",\\\"url\\\":\\\"\\/assetserver\\/382b41b3b1bd9f26f75861d360bad7f8beea211f-knockout_punches.js\\\"}],\\\"type\\\":\\\"async_block\\\"})).then((imports) => handler.apply(this, imports));\\n}\\n\"],\"observables\":{\"changes\":{\"sync\":false,\"id\":\"659546997151920019\",\"value\":0},\"index\":{\"sync\":true,\"id\":\"13818925096374988258\",\"value\":251}}},\"children\":[{\"props\":{\"className\":\"interact-flex-row interact-widget\"},\"nodeType\":\"DOM\",\"type\":\"node\",\"instanceArgs\":{\"namespace\":\"html\",\"tag\":\"div\"},\"children\":[{\"props\":{\"className\":\"interact-flex-row-left\"},\"nodeType\":\"DOM\",\"type\":\"node\",\"instanceArgs\":{\"namespace\":\"html\",\"tag\":\"div\"},\"children\":[{\"props\":{\"className\":\"interact \",\"style\":{\"padding\":\"5px 10px 0px 10px\"}},\"nodeType\":\"DOM\",\"type\":\"node\",\"instanceArgs\":{\"namespace\":\"html\",\"tag\":\"label\"},\"children\":[\"time\"]}]},{\"props\":{\"className\":\"interact-flex-row-center\"},\"nodeType\":\"DOM\",\"type\":\"node\",\"instanceArgs\":{\"namespace\":\"html\",\"tag\":\"div\"},\"children\":[{\"props\":{\"max\":501,\"min\":1,\"attributes\":{\"type\":\"range\",\"data-bind\":\"numericValue: index, valueUpdate: 'input', event: {change: function (){this.changes(this.changes()+1)}}\",\"orient\":\"horizontal\"},\"step\":1,\"className\":\"slider slider is-fullwidth\",\"style\":{}},\"nodeType\":\"DOM\",\"type\":\"node\",\"instanceArgs\":{\"namespace\":\"html\",\"tag\":\"input\"},\"children\":[]}]},{\"props\":{\"className\":\"interact-flex-row-right\"},\"nodeType\":\"DOM\",\"type\":\"node\",\"instanceArgs\":{\"namespace\":\"html\",\"tag\":\"div\"},\"children\":[{\"props\":{\"attributes\":{\"data-bind\":\"text: formatted_val\"}},\"nodeType\":\"DOM\",\"type\":\"node\",\"instanceArgs\":{\"namespace\":\"html\",\"tag\":\"p\"},\"children\":[]}]}]}]}]},{\"props\":{\"className\":\"field interact-widget\"},\"nodeType\":\"DOM\",\"type\":\"node\",\"instanceArgs\":{\"namespace\":\"html\",\"tag\":\"div\"},\"children\":[{\"props\":{},\"nodeType\":\"Scope\",\"type\":\"node\",\"instanceArgs\":{\"imports\":{\"data\":[{\"name\":\"knockout\",\"type\":\"js\",\"url\":\"\\/assetserver\\/727383f2a47bd31570b7da84eee7b022dd6d7c78-knockout.js\"},{\"name\":\"knockout_punches\",\"type\":\"js\",\"url\":\"\\/assetserver\\/382b41b3b1bd9f26f75861d360bad7f8beea211f-knockout_punches.js\"},{\"name\":null,\"type\":\"js\",\"url\":\"\\/assetserver\\/5ab20f1060420992a9b82a65b735dee4d81ef413-all.js\"},{\"name\":null,\"type\":\"css\",\"url\":\"\\/assetserver\\/1cc0ed62837210b80a182cc3676512f895dab686-style.css\"},{\"name\":null,\"type\":\"css\",\"url\":\"\\/assetserver\\/2eee816f616df3549d7044d45e744fbf8d42bfa1-bulma_confined.min.css\"}],\"type\":\"async_block\"},\"id\":\"3152817737375969049\",\"handlers\":{\"changes\":[\"(function (val){return (val!=this.model[\\\"changes\\\"]()) ? (this.valueFromJulia[\\\"changes\\\"]=true, this.model[\\\"changes\\\"](val)) : undefined})\"],\"index\":[\"(function (val){return (val!=this.model[\\\"index\\\"]()) ? (this.valueFromJulia[\\\"index\\\"]=true, this.model[\\\"index\\\"](val)) : undefined})\"]},\"systemjs_options\":null,\"mount_callbacks\":[\"function () {\\n    var handler = (function (ko, koPunches) {\\n    ko.punches.enableAll();\\n    ko.bindingHandlers.numericValue = {\\n        init: function(element, valueAccessor, allBindings, data, context) {\\n            var stringified = ko.observable(ko.unwrap(valueAccessor()));\\n            stringified.subscribe(function(value) {\\n                var val = parseFloat(value);\\n                if (!isNaN(val)) {\\n                    valueAccessor()(val);\\n                }\\n            });\\n            valueAccessor().subscribe(function(value) {\\n                var str = JSON.stringify(value);\\n                if ((str == \\\"0\\\") && ([\\\"-0\\\", \\\"-0.\\\"].indexOf(stringified()) >= 0))\\n                     return;\\n                 if ([\\\"null\\\", \\\"\\\"].indexOf(str) >= 0)\\n                     return;\\n                stringified(str);\\n            });\\n            ko.applyBindingsToNode(\\n                element,\\n                {\\n                    value: stringified,\\n                    valueUpdate: allBindings.get('valueUpdate'),\\n                },\\n                context,\\n            );\\n        }\\n    };\\n    var json_data = {\\\"formatted_vals\\\":[\\\"0.1\\\",\\\"0.2\\\",\\\"0.3\\\",\\\"0.4\\\",\\\"0.5\\\",\\\"0.6\\\",\\\"0.7\\\",\\\"0.8\\\",\\\"0.9\\\",\\\"1.0\\\",\\\"1.1\\\",\\\"1.2\\\",\\\"1.3\\\",\\\"1.4\\\",\\\"1.5\\\",\\\"1.6\\\",\\\"1.7\\\",\\\"1.8\\\",\\\"1.9\\\",\\\"2.0\\\"],\\\"changes\\\":WebIO.getval({\\\"name\\\":\\\"changes\\\",\\\"scope\\\":\\\"3152817737375969049\\\",\\\"id\\\":\\\"4367161569963800169\\\",\\\"type\\\":\\\"observable\\\"}),\\\"index\\\":WebIO.getval({\\\"name\\\":\\\"index\\\",\\\"scope\\\":\\\"3152817737375969049\\\",\\\"id\\\":\\\"5664730830180111819\\\",\\\"type\\\":\\\"observable\\\"})};\\n    var self = this;\\n    function AppViewModel() {\\n        for (var key in json_data) {\\n            var el = json_data[key];\\n            this[key] = Array.isArray(el) ? ko.observableArray(el) : ko.observable(el);\\n        }\\n        \\n        [this[\\\"formatted_val\\\"]=ko.computed(    function(){\\n        return this.formatted_vals()[parseInt(this.index())-(1)];\\n    }\\n,this)]\\n        [this[\\\"changes\\\"].subscribe((function (val){!(this.valueFromJulia[\\\"changes\\\"]) ? (WebIO.setval({\\\"name\\\":\\\"changes\\\",\\\"scope\\\":\\\"3152817737375969049\\\",\\\"id\\\":\\\"4367161569963800169\\\",\\\"type\\\":\\\"observable\\\"},val)) : undefined; return this.valueFromJulia[\\\"changes\\\"]=false}),self),this[\\\"index\\\"].subscribe((function (val){!(this.valueFromJulia[\\\"index\\\"]) ? (WebIO.setval({\\\"name\\\":\\\"index\\\",\\\"scope\\\":\\\"3152817737375969049\\\",\\\"id\\\":\\\"5664730830180111819\\\",\\\"type\\\":\\\"observable\\\"},val)) : undefined; return this.valueFromJulia[\\\"index\\\"]=false}),self)]\\n        \\n    }\\n    self.model = new AppViewModel();\\n    self.valueFromJulia = {};\\n    for (var key in json_data) {\\n        self.valueFromJulia[key] = false;\\n    }\\n    ko.applyBindings(self.model, self.dom);\\n}\\n);\\n    (WebIO.importBlock({\\\"data\\\":[{\\\"name\\\":\\\"knockout\\\",\\\"type\\\":\\\"js\\\",\\\"url\\\":\\\"\\/assetserver\\/727383f2a47bd31570b7da84eee7b022dd6d7c78-knockout.js\\\"},{\\\"name\\\":\\\"knockout_punches\\\",\\\"type\\\":\\\"js\\\",\\\"url\\\":\\\"\\/assetserver\\/382b41b3b1bd9f26f75861d360bad7f8beea211f-knockout_punches.js\\\"}],\\\"type\\\":\\\"async_block\\\"})).then((imports) => handler.apply(this, imports));\\n}\\n\"],\"observables\":{\"changes\":{\"sync\":false,\"id\":\"4367161569963800169\",\"value\":0},\"index\":{\"sync\":true,\"id\":\"5664730830180111819\",\"value\":10}}},\"children\":[{\"props\":{\"className\":\"interact-flex-row interact-widget\"},\"nodeType\":\"DOM\",\"type\":\"node\",\"instanceArgs\":{\"namespace\":\"html\",\"tag\":\"div\"},\"children\":[{\"props\":{\"className\":\"interact-flex-row-left\"},\"nodeType\":\"DOM\",\"type\":\"node\",\"instanceArgs\":{\"namespace\":\"html\",\"tag\":\"div\"},\"children\":[{\"props\":{\"className\":\"interact \",\"style\":{\"padding\":\"5px 10px 0px 10px\"}},\"nodeType\":\"DOM\",\"type\":\"node\",\"instanceArgs\":{\"namespace\":\"html\",\"tag\":\"label\"},\"children\":[\"scale\"]}]},{\"props\":{\"className\":\"interact-flex-row-center\"},\"nodeType\":\"DOM\",\"type\":\"node\",\"instanceArgs\":{\"namespace\":\"html\",\"tag\":\"div\"},\"children\":[{\"props\":{\"max\":20,\"min\":1,\"attributes\":{\"type\":\"range\",\"data-bind\":\"numericValue: index, valueUpdate: 'input', event: {change: function (){this.changes(this.changes()+1)}}\",\"orient\":\"horizontal\"},\"step\":1,\"className\":\"slider slider is-fullwidth\",\"style\":{}},\"nodeType\":\"DOM\",\"type\":\"node\",\"instanceArgs\":{\"namespace\":\"html\",\"tag\":\"input\"},\"children\":[]}]},{\"props\":{\"className\":\"interact-flex-row-right\"},\"nodeType\":\"DOM\",\"type\":\"node\",\"instanceArgs\":{\"namespace\":\"html\",\"tag\":\"div\"},\"children\":[{\"props\":{\"attributes\":{\"data-bind\":\"text: formatted_val\"}},\"nodeType\":\"DOM\",\"type\":\"node\",\"instanceArgs\":{\"namespace\":\"html\",\"tag\":\"p\"},\"children\":[]}]}]}]}]},{\"props\":{\"style\":{\"display\":\"flex\",\"flex-direction\":\"row\"}},\"nodeType\":\"DOM\",\"type\":\"node\",\"instanceArgs\":{\"namespace\":\"html\",\"tag\":\"div\"},\"children\":[{\"props\":{\"className\":\"interact-widget\"},\"nodeType\":\"DOM\",\"type\":\"node\",\"instanceArgs\":{\"namespace\":\"html\",\"tag\":\"div\"},\"children\":[{\"props\":{},\"nodeType\":\"Scope\",\"type\":\"node\",\"instanceArgs\":{\"imports\":{\"data\":[{\"name\":null,\"type\":\"js\",\"url\":\"\\/assetserver\\/dd22ed1bf1896c2748f3fe616ce0b838adc895c1-katex.min.js\"},{\"name\":null,\"type\":\"css\",\"url\":\"\\/assetserver\\/46517a424aa5e6cffc1360d7e0848b601c584ee3-katex.min.css\"}],\"type\":\"async_block\"},\"id\":\"11008100412563243826\",\"handlers\":{\"value\":[\"(function (txt){return this.k.render(txt,this.container)})\"]},\"systemjs_options\":null,\"mount_callbacks\":[\"function () {\\n    var handler = ((function (k){this.k=k; this.container=this.dom.querySelector(\\\"#container\\\"); return k.render(\\\"\\\\\\\\;\\\\\\\\;\\\",this.container)}));\\n    (WebIO.importBlock({\\\"data\\\":[{\\\"name\\\":null,\\\"type\\\":\\\"js\\\",\\\"url\\\":\\\"\\/assetserver\\/dd22ed1bf1896c2748f3fe616ce0b838adc895c1-katex.min.js\\\"},{\\\"name\\\":null,\\\"type\\\":\\\"css\\\",\\\"url\\\":\\\"\\/assetserver\\/46517a424aa5e6cffc1360d7e0848b601c584ee3-katex.min.css\\\"}],\\\"type\\\":\\\"async_block\\\"})).then((imports) => handler.apply(this, imports));\\n}\\n\"],\"observables\":{\"value\":{\"sync\":false,\"id\":\"3105336480798575162\",\"value\":\"\\\\;\\\\;\"}}},\"children\":[{\"props\":{\"id\":\"container\"},\"nodeType\":\"DOM\",\"type\":\"node\",\"instanceArgs\":{\"namespace\":\"html\",\"tag\":\"div\"},\"children\":[]}]}]},{\"props\":{\"className\":\"field interact-widget\"},\"nodeType\":\"DOM\",\"type\":\"node\",\"instanceArgs\":{\"namespace\":\"html\",\"tag\":\"div\"},\"children\":[{\"props\":{},\"nodeType\":\"Scope\",\"type\":\"node\",\"instanceArgs\":{\"imports\":{\"data\":[{\"name\":\"knockout\",\"type\":\"js\",\"url\":\"\\/assetserver\\/727383f2a47bd31570b7da84eee7b022dd6d7c78-knockout.js\"},{\"name\":\"knockout_punches\",\"type\":\"js\",\"url\":\"\\/assetserver\\/382b41b3b1bd9f26f75861d360bad7f8beea211f-knockout_punches.js\"},{\"name\":null,\"type\":\"js\",\"url\":\"\\/assetserver\\/5ab20f1060420992a9b82a65b735dee4d81ef413-all.js\"},{\"name\":null,\"type\":\"css\",\"url\":\"\\/assetserver\\/1cc0ed62837210b80a182cc3676512f895dab686-style.css\"},{\"name\":null,\"type\":\"css\",\"url\":\"\\/assetserver\\/2eee816f616df3549d7044d45e744fbf8d42bfa1-bulma_confined.min.css\"}],\"type\":\"async_block\"},\"id\":\"14652925860172356706\",\"handlers\":{\"loading\":[\"(function (val){return (val!=this.model[\\\"loading\\\"]()) ? (this.valueFromJulia[\\\"loading\\\"]=true, this.model[\\\"loading\\\"](val)) : undefined})\"],\"clicks\":[\"(function (val){return (val!=this.model[\\\"clicks\\\"]()) ? (this.valueFromJulia[\\\"clicks\\\"]=true, this.model[\\\"clicks\\\"](val)) : undefined})\"]},\"systemjs_options\":null,\"mount_callbacks\":[\"function () {\\n    var handler = (function (ko, koPunches) {\\n    ko.punches.enableAll();\\n    ko.bindingHandlers.numericValue = {\\n        init: function(element, valueAccessor, allBindings, data, context) {\\n            var stringified = ko.observable(ko.unwrap(valueAccessor()));\\n            stringified.subscribe(function(value) {\\n                var val = parseFloat(value);\\n                if (!isNaN(val)) {\\n                    valueAccessor()(val);\\n                }\\n            });\\n            valueAccessor().subscribe(function(value) {\\n                var str = JSON.stringify(value);\\n                if ((str == \\\"0\\\") && ([\\\"-0\\\", \\\"-0.\\\"].indexOf(stringified()) >= 0))\\n                     return;\\n                 if ([\\\"null\\\", \\\"\\\"].indexOf(str) >= 0)\\n                     return;\\n                stringified(str);\\n            });\\n            ko.applyBindingsToNode(\\n                element,\\n                {\\n                    value: stringified,\\n                    valueUpdate: allBindings.get('valueUpdate'),\\n                },\\n                context,\\n            );\\n        }\\n    };\\n    var json_data = {\\\"loading\\\":WebIO.getval({\\\"name\\\":\\\"loading\\\",\\\"scope\\\":\\\"14652925860172356706\\\",\\\"id\\\":\\\"16720800215367875425\\\",\\\"type\\\":\\\"observable\\\"}),\\\"clicks\\\":WebIO.getval({\\\"name\\\":\\\"clicks\\\",\\\"scope\\\":\\\"14652925860172356706\\\",\\\"id\\\":\\\"10511196883715144044\\\",\\\"type\\\":\\\"observable\\\"})};\\n    var self = this;\\n    function AppViewModel() {\\n        for (var key in json_data) {\\n            var el = json_data[key];\\n            this[key] = Array.isArray(el) ? ko.observableArray(el) : ko.observable(el);\\n        }\\n        \\n        \\n        [this[\\\"loading\\\"].subscribe((function (val){!(this.valueFromJulia[\\\"loading\\\"]) ? (WebIO.setval({\\\"name\\\":\\\"loading\\\",\\\"scope\\\":\\\"14652925860172356706\\\",\\\"id\\\":\\\"16720800215367875425\\\",\\\"type\\\":\\\"observable\\\"},val)) : undefined; return this.valueFromJulia[\\\"loading\\\"]=false}),self),this[\\\"clicks\\\"].subscribe((function (val){!(this.valueFromJulia[\\\"clicks\\\"]) ? (WebIO.setval({\\\"name\\\":\\\"clicks\\\",\\\"scope\\\":\\\"14652925860172356706\\\",\\\"id\\\":\\\"10511196883715144044\\\",\\\"type\\\":\\\"observable\\\"},val)) : undefined; return this.valueFromJulia[\\\"clicks\\\"]=false}),self)]\\n        \\n    }\\n    self.model = new AppViewModel();\\n    self.valueFromJulia = {};\\n    for (var key in json_data) {\\n        self.valueFromJulia[key] = false;\\n    }\\n    ko.applyBindings(self.model, self.dom);\\n}\\n);\\n    (WebIO.importBlock({\\\"data\\\":[{\\\"name\\\":\\\"knockout\\\",\\\"type\\\":\\\"js\\\",\\\"url\\\":\\\"\\/assetserver\\/727383f2a47bd31570b7da84eee7b022dd6d7c78-knockout.js\\\"},{\\\"name\\\":\\\"knockout_punches\\\",\\\"type\\\":\\\"js\\\",\\\"url\\\":\\\"\\/assetserver\\/382b41b3b1bd9f26f75861d360bad7f8beea211f-knockout_punches.js\\\"}],\\\"type\\\":\\\"async_block\\\"})).then((imports) => handler.apply(this, imports));\\n}\\n\"],\"observables\":{\"loading\":{\"sync\":false,\"id\":\"16720800215367875425\",\"value\":false},\"clicks\":{\"sync\":true,\"id\":\"10511196883715144044\",\"value\":0}}},\"children\":[{\"props\":{\"attributes\":{\"data-bind\":\"click: function (){this.clicks(this.clicks()+1)}, css: {'is-loading' : loading}\"},\"className\":\"is-medium button is-primary\",\"style\":{}},\"nodeType\":\"DOM\",\"type\":\"node\",\"instanceArgs\":{\"namespace\":\"html\",\"tag\":\"button\"},\"children\":[\"run\"]}]}]},{\"props\":{\"className\":\"interact-widget\"},\"nodeType\":\"DOM\",\"type\":\"node\",\"instanceArgs\":{\"namespace\":\"html\",\"tag\":\"div\"},\"children\":[{\"props\":{},\"nodeType\":\"Scope\",\"type\":\"node\",\"instanceArgs\":{\"imports\":{\"data\":[{\"name\":null,\"type\":\"js\",\"url\":\"\\/assetserver\\/dd22ed1bf1896c2748f3fe616ce0b838adc895c1-katex.min.js\"},{\"name\":null,\"type\":\"css\",\"url\":\"\\/assetserver\\/46517a424aa5e6cffc1360d7e0848b601c584ee3-katex.min.css\"}],\"type\":\"async_block\"},\"id\":\"11008100412563243826\",\"handlers\":{\"value\":[\"(function (txt){return this.k.render(txt,this.container)})\"]},\"systemjs_options\":null,\"mount_callbacks\":[\"function () {\\n    var handler = ((function (k){this.k=k; this.container=this.dom.querySelector(\\\"#container\\\"); return k.render(\\\"\\\\\\\\;\\\\\\\\;\\\",this.container)}));\\n    (WebIO.importBlock({\\\"data\\\":[{\\\"name\\\":null,\\\"type\\\":\\\"js\\\",\\\"url\\\":\\\"\\/assetserver\\/dd22ed1bf1896c2748f3fe616ce0b838adc895c1-katex.min.js\\\"},{\\\"name\\\":null,\\\"type\\\":\\\"css\\\",\\\"url\\\":\\\"\\/assetserver\\/46517a424aa5e6cffc1360d7e0848b601c584ee3-katex.min.css\\\"}],\\\"type\\\":\\\"async_block\\\"})).then((imports) => handler.apply(this, imports));\\n}\\n\"],\"observables\":{\"value\":{\"sync\":false,\"id\":\"3105336480798575162\",\"value\":\"\\\\;\\\\;\"}}},\"children\":[{\"props\":{\"id\":\"container\"},\"nodeType\":\"DOM\",\"type\":\"node\",\"instanceArgs\":{\"namespace\":\"html\",\"tag\":\"div\"},\"children\":[]}]}]},{\"props\":{\"className\":\"field interact-widget\"},\"nodeType\":\"DOM\",\"type\":\"node\",\"instanceArgs\":{\"namespace\":\"html\",\"tag\":\"div\"},\"children\":[{\"props\":{},\"nodeType\":\"Scope\",\"type\":\"node\",\"instanceArgs\":{\"imports\":{\"data\":[{\"name\":\"knockout\",\"type\":\"js\",\"url\":\"\\/assetserver\\/727383f2a47bd31570b7da84eee7b022dd6d7c78-knockout.js\"},{\"name\":\"knockout_punches\",\"type\":\"js\",\"url\":\"\\/assetserver\\/382b41b3b1bd9f26f75861d360bad7f8beea211f-knockout_punches.js\"},{\"name\":null,\"type\":\"js\",\"url\":\"\\/assetserver\\/5ab20f1060420992a9b82a65b735dee4d81ef413-all.js\"},{\"name\":null,\"type\":\"css\",\"url\":\"\\/assetserver\\/1cc0ed62837210b80a182cc3676512f895dab686-style.css\"},{\"name\":null,\"type\":\"css\",\"url\":\"\\/assetserver\\/2eee816f616df3549d7044d45e744fbf8d42bfa1-bulma_confined.min.css\"}],\"type\":\"async_block\"},\"id\":\"5121678230066131587\",\"handlers\":{\"loading\":[\"(function (val){return (val!=this.model[\\\"loading\\\"]()) ? (this.valueFromJulia[\\\"loading\\\"]=true, this.model[\\\"loading\\\"](val)) : undefined})\"],\"clicks\":[\"(function (val){return (val!=this.model[\\\"clicks\\\"]()) ? (this.valueFromJulia[\\\"clicks\\\"]=true, this.model[\\\"clicks\\\"](val)) : undefined})\"]},\"systemjs_options\":null,\"mount_callbacks\":[\"function () {\\n    var handler = (function (ko, koPunches) {\\n    ko.punches.enableAll();\\n    ko.bindingHandlers.numericValue = {\\n        init: function(element, valueAccessor, allBindings, data, context) {\\n            var stringified = ko.observable(ko.unwrap(valueAccessor()));\\n            stringified.subscribe(function(value) {\\n                var val = parseFloat(value);\\n                if (!isNaN(val)) {\\n                    valueAccessor()(val);\\n                }\\n            });\\n            valueAccessor().subscribe(function(value) {\\n                var str = JSON.stringify(value);\\n                if ((str == \\\"0\\\") && ([\\\"-0\\\", \\\"-0.\\\"].indexOf(stringified()) >= 0))\\n                     return;\\n                 if ([\\\"null\\\", \\\"\\\"].indexOf(str) >= 0)\\n                     return;\\n                stringified(str);\\n            });\\n            ko.applyBindingsToNode(\\n                element,\\n                {\\n                    value: stringified,\\n                    valueUpdate: allBindings.get('valueUpdate'),\\n                },\\n                context,\\n            );\\n        }\\n    };\\n    var json_data = {\\\"loading\\\":WebIO.getval({\\\"name\\\":\\\"loading\\\",\\\"scope\\\":\\\"5121678230066131587\\\",\\\"id\\\":\\\"976052187337376544\\\",\\\"type\\\":\\\"observable\\\"}),\\\"clicks\\\":WebIO.getval({\\\"name\\\":\\\"clicks\\\",\\\"scope\\\":\\\"5121678230066131587\\\",\\\"id\\\":\\\"9343367184056007939\\\",\\\"type\\\":\\\"observable\\\"})};\\n    var self = this;\\n    function AppViewModel() {\\n        for (var key in json_data) {\\n            var el = json_data[key];\\n            this[key] = Array.isArray(el) ? ko.observableArray(el) : ko.observable(el);\\n        }\\n        \\n        \\n        [this[\\\"loading\\\"].subscribe((function (val){!(this.valueFromJulia[\\\"loading\\\"]) ? (WebIO.setval({\\\"name\\\":\\\"loading\\\",\\\"scope\\\":\\\"5121678230066131587\\\",\\\"id\\\":\\\"976052187337376544\\\",\\\"type\\\":\\\"observable\\\"},val)) : undefined; return this.valueFromJulia[\\\"loading\\\"]=false}),self),this[\\\"clicks\\\"].subscribe((function (val){!(this.valueFromJulia[\\\"clicks\\\"]) ? (WebIO.setval({\\\"name\\\":\\\"clicks\\\",\\\"scope\\\":\\\"5121678230066131587\\\",\\\"id\\\":\\\"9343367184056007939\\\",\\\"type\\\":\\\"observable\\\"},val)) : undefined; return this.valueFromJulia[\\\"clicks\\\"]=false}),self)]\\n        \\n    }\\n    self.model = new AppViewModel();\\n    self.valueFromJulia = {};\\n    for (var key in json_data) {\\n        self.valueFromJulia[key] = false;\\n    }\\n    ko.applyBindings(self.model, self.dom);\\n}\\n);\\n    (WebIO.importBlock({\\\"data\\\":[{\\\"name\\\":\\\"knockout\\\",\\\"type\\\":\\\"js\\\",\\\"url\\\":\\\"\\/assetserver\\/727383f2a47bd31570b7da84eee7b022dd6d7c78-knockout.js\\\"},{\\\"name\\\":\\\"knockout_punches\\\",\\\"type\\\":\\\"js\\\",\\\"url\\\":\\\"\\/assetserver\\/382b41b3b1bd9f26f75861d360bad7f8beea211f-knockout_punches.js\\\"}],\\\"type\\\":\\\"async_block\\\"})).then((imports) => handler.apply(this, imports));\\n}\\n\"],\"observables\":{\"loading\":{\"sync\":false,\"id\":\"976052187337376544\",\"value\":false},\"clicks\":{\"sync\":true,\"id\":\"9343367184056007939\",\"value\":0}}},\"children\":[{\"props\":{\"attributes\":{\"data-bind\":\"click: function (){this.clicks(this.clicks()+1)}, css: {'is-loading' : loading}\"},\"className\":\"is-medium button is-primary\",\"style\":{}},\"nodeType\":\"DOM\",\"type\":\"node\",\"instanceArgs\":{\"namespace\":\"html\",\"tag\":\"button\"},\"children\":[\"stop\"]}]}]},{\"props\":{\"className\":\"interact-widget\"},\"nodeType\":\"DOM\",\"type\":\"node\",\"instanceArgs\":{\"namespace\":\"html\",\"tag\":\"div\"},\"children\":[{\"props\":{},\"nodeType\":\"Scope\",\"type\":\"node\",\"instanceArgs\":{\"imports\":{\"data\":[{\"name\":null,\"type\":\"js\",\"url\":\"\\/assetserver\\/dd22ed1bf1896c2748f3fe616ce0b838adc895c1-katex.min.js\"},{\"name\":null,\"type\":\"css\",\"url\":\"\\/assetserver\\/46517a424aa5e6cffc1360d7e0848b601c584ee3-katex.min.css\"}],\"type\":\"async_block\"},\"id\":\"11008100412563243826\",\"handlers\":{\"value\":[\"(function (txt){return this.k.render(txt,this.container)})\"]},\"systemjs_options\":null,\"mount_callbacks\":[\"function () {\\n    var handler = ((function (k){this.k=k; this.container=this.dom.querySelector(\\\"#container\\\"); return k.render(\\\"\\\\\\\\;\\\\\\\\;\\\",this.container)}));\\n    (WebIO.importBlock({\\\"data\\\":[{\\\"name\\\":null,\\\"type\\\":\\\"js\\\",\\\"url\\\":\\\"\\/assetserver\\/dd22ed1bf1896c2748f3fe616ce0b838adc895c1-katex.min.js\\\"},{\\\"name\\\":null,\\\"type\\\":\\\"css\\\",\\\"url\\\":\\\"\\/assetserver\\/46517a424aa5e6cffc1360d7e0848b601c584ee3-katex.min.css\\\"}],\\\"type\\\":\\\"async_block\\\"})).then((imports) => handler.apply(this, imports));\\n}\\n\"],\"observables\":{\"value\":{\"sync\":false,\"id\":\"3105336480798575162\",\"value\":\"\\\\;\\\\;\"}}},\"children\":[{\"props\":{\"id\":\"container\"},\"nodeType\":\"DOM\",\"type\":\"node\",\"instanceArgs\":{\"namespace\":\"html\",\"tag\":\"div\"},\"children\":[]}]}]},{\"props\":{\"className\":\"field interact-widget\"},\"nodeType\":\"DOM\",\"type\":\"node\",\"instanceArgs\":{\"namespace\":\"html\",\"tag\":\"div\"},\"children\":[{\"props\":{},\"nodeType\":\"Scope\",\"type\":\"node\",\"instanceArgs\":{\"imports\":{\"data\":[{\"name\":\"knockout\",\"type\":\"js\",\"url\":\"\\/assetserver\\/727383f2a47bd31570b7da84eee7b022dd6d7c78-knockout.js\"},{\"name\":\"knockout_punches\",\"type\":\"js\",\"url\":\"\\/assetserver\\/382b41b3b1bd9f26f75861d360bad7f8beea211f-knockout_punches.js\"},{\"name\":null,\"type\":\"js\",\"url\":\"\\/assetserver\\/5ab20f1060420992a9b82a65b735dee4d81ef413-all.js\"},{\"name\":null,\"type\":\"css\",\"url\":\"\\/assetserver\\/1cc0ed62837210b80a182cc3676512f895dab686-style.css\"},{\"name\":null,\"type\":\"css\",\"url\":\"\\/assetserver\\/2eee816f616df3549d7044d45e744fbf8d42bfa1-bulma_confined.min.css\"}],\"type\":\"async_block\"},\"id\":\"14045243826337883128\",\"handlers\":{\"loading\":[\"(function (val){return (val!=this.model[\\\"loading\\\"]()) ? (this.valueFromJulia[\\\"loading\\\"]=true, this.model[\\\"loading\\\"](val)) : undefined})\"],\"clicks\":[\"(function (val){return (val!=this.model[\\\"clicks\\\"]()) ? (this.valueFromJulia[\\\"clicks\\\"]=true, this.model[\\\"clicks\\\"](val)) : undefined})\"]},\"systemjs_options\":null,\"mount_callbacks\":[\"function () {\\n    var handler = (function (ko, koPunches) {\\n    ko.punches.enableAll();\\n    ko.bindingHandlers.numericValue = {\\n        init: function(element, valueAccessor, allBindings, data, context) {\\n            var stringified = ko.observable(ko.unwrap(valueAccessor()));\\n            stringified.subscribe(function(value) {\\n                var val = parseFloat(value);\\n                if (!isNaN(val)) {\\n                    valueAccessor()(val);\\n                }\\n            });\\n            valueAccessor().subscribe(function(value) {\\n                var str = JSON.stringify(value);\\n                if ((str == \\\"0\\\") && ([\\\"-0\\\", \\\"-0.\\\"].indexOf(stringified()) >= 0))\\n                     return;\\n                 if ([\\\"null\\\", \\\"\\\"].indexOf(str) >= 0)\\n                     return;\\n                stringified(str);\\n            });\\n            ko.applyBindingsToNode(\\n                element,\\n                {\\n                    value: stringified,\\n                    valueUpdate: allBindings.get('valueUpdate'),\\n                },\\n                context,\\n            );\\n        }\\n    };\\n    var json_data = {\\\"loading\\\":WebIO.getval({\\\"name\\\":\\\"loading\\\",\\\"scope\\\":\\\"14045243826337883128\\\",\\\"id\\\":\\\"10250663491145785705\\\",\\\"type\\\":\\\"observable\\\"}),\\\"clicks\\\":WebIO.getval({\\\"name\\\":\\\"clicks\\\",\\\"scope\\\":\\\"14045243826337883128\\\",\\\"id\\\":\\\"8575666290916412605\\\",\\\"type\\\":\\\"observable\\\"})};\\n    var self = this;\\n    function AppViewModel() {\\n        for (var key in json_data) {\\n            var el = json_data[key];\\n            this[key] = Array.isArray(el) ? ko.observableArray(el) : ko.observable(el);\\n        }\\n        \\n        \\n        [this[\\\"loading\\\"].subscribe((function (val){!(this.valueFromJulia[\\\"loading\\\"]) ? (WebIO.setval({\\\"name\\\":\\\"loading\\\",\\\"scope\\\":\\\"14045243826337883128\\\",\\\"id\\\":\\\"10250663491145785705\\\",\\\"type\\\":\\\"observable\\\"},val)) : undefined; return this.valueFromJulia[\\\"loading\\\"]=false}),self),this[\\\"clicks\\\"].subscribe((function (val){!(this.valueFromJulia[\\\"clicks\\\"]) ? (WebIO.setval({\\\"name\\\":\\\"clicks\\\",\\\"scope\\\":\\\"14045243826337883128\\\",\\\"id\\\":\\\"8575666290916412605\\\",\\\"type\\\":\\\"observable\\\"},val)) : undefined; return this.valueFromJulia[\\\"clicks\\\"]=false}),self)]\\n        \\n    }\\n    self.model = new AppViewModel();\\n    self.valueFromJulia = {};\\n    for (var key in json_data) {\\n        self.valueFromJulia[key] = false;\\n    }\\n    ko.applyBindings(self.model, self.dom);\\n}\\n);\\n    (WebIO.importBlock({\\\"data\\\":[{\\\"name\\\":\\\"knockout\\\",\\\"type\\\":\\\"js\\\",\\\"url\\\":\\\"\\/assetserver\\/727383f2a47bd31570b7da84eee7b022dd6d7c78-knockout.js\\\"},{\\\"name\\\":\\\"knockout_punches\\\",\\\"type\\\":\\\"js\\\",\\\"url\\\":\\\"\\/assetserver\\/382b41b3b1bd9f26f75861d360bad7f8beea211f-knockout_punches.js\\\"}],\\\"type\\\":\\\"async_block\\\"})).then((imports) => handler.apply(this, imports));\\n}\\n\"],\"observables\":{\"loading\":{\"sync\":false,\"id\":\"10250663491145785705\",\"value\":false},\"clicks\":{\"sync\":true,\"id\":\"8575666290916412605\",\"value\":0}}},\"children\":[{\"props\":{\"attributes\":{\"data-bind\":\"click: function (){this.clicks(this.clicks()+1)}, css: {'is-loading' : loading}\"},\"className\":\"is-medium button is-primary\",\"style\":{}},\"nodeType\":\"DOM\",\"type\":\"node\",\"instanceArgs\":{\"namespace\":\"html\",\"tag\":\"button\"},\"children\":[\"save\"]}]}]}]}]},{\"props\":{\"className\":\"interact-widget\"},\"nodeType\":\"DOM\",\"type\":\"node\",\"instanceArgs\":{\"namespace\":\"html\",\"tag\":\"div\"},\"children\":[{\"props\":{},\"nodeType\":\"Scope\",\"type\":\"node\",\"instanceArgs\":{\"imports\":{\"data\":[{\"name\":null,\"type\":\"js\",\"url\":\"\\/assetserver\\/dd22ed1bf1896c2748f3fe616ce0b838adc895c1-katex.min.js\"},{\"name\":null,\"type\":\"css\",\"url\":\"\\/assetserver\\/46517a424aa5e6cffc1360d7e0848b601c584ee3-katex.min.css\"}],\"type\":\"async_block\"},\"id\":\"11008100412563243826\",\"handlers\":{\"value\":[\"(function (txt){return this.k.render(txt,this.container)})\"]},\"systemjs_options\":null,\"mount_callbacks\":[\"function () {\\n    var handler = ((function (k){this.k=k; this.container=this.dom.querySelector(\\\"#container\\\"); return k.render(\\\"\\\\\\\\;\\\\\\\\;\\\",this.container)}));\\n    (WebIO.importBlock({\\\"data\\\":[{\\\"name\\\":null,\\\"type\\\":\\\"js\\\",\\\"url\\\":\\\"\\/assetserver\\/dd22ed1bf1896c2748f3fe616ce0b838adc895c1-katex.min.js\\\"},{\\\"name\\\":null,\\\"type\\\":\\\"css\\\",\\\"url\\\":\\\"\\/assetserver\\/46517a424aa5e6cffc1360d7e0848b601c584ee3-katex.min.css\\\"}],\\\"type\\\":\\\"async_block\\\"})).then((imports) => handler.apply(this, imports));\\n}\\n\"],\"observables\":{\"value\":{\"sync\":false,\"id\":\"3105336480798575162\",\"value\":\"\\\\;\\\\;\"}}},\"children\":[{\"props\":{\"id\":\"container\"},\"nodeType\":\"DOM\",\"type\":\"node\",\"instanceArgs\":{\"namespace\":\"html\",\"tag\":\"div\"},\"children\":[]}]}]},{\"props\":{},\"nodeType\":\"Scope\",\"type\":\"node\",\"instanceArgs\":{\"imports\":{\"data\":[],\"type\":\"async_block\"},\"id\":\"87940595073570125\",\"handlers\":{\"obs-output\":[\"function (value, scope) {\\n    scope.setInnerHTML(value);\\n}\\n\"]},\"systemjs_options\":null,\"mount_callbacks\":[],\"observables\":{\"obs-output\":{\"sync\":false,\"id\":\"13067690802518107568\",\"value\":\"<img src='data:image\\/png;base64,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'><\\/img>\"}}},\"children\":[{\"props\":{\"className\":\"webio-observable\",\"setInnerHtml\":\"<img src='data:image\\/png;base64,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'><\\/img>\"},\"nodeType\":\"DOM\",\"type\":\"node\",\"instanceArgs\":{\"namespace\":\"html\",\"tag\":\"div\"},\"children\":[]}]},{\"props\":{\"className\":\"interact-widget\"},\"nodeType\":\"DOM\",\"type\":\"node\",\"instanceArgs\":{\"namespace\":\"html\",\"tag\":\"div\"},\"children\":[{\"props\":{},\"nodeType\":\"Scope\",\"type\":\"node\",\"instanceArgs\":{\"imports\":{\"data\":[{\"name\":null,\"type\":\"js\",\"url\":\"\\/assetserver\\/dd22ed1bf1896c2748f3fe616ce0b838adc895c1-katex.min.js\"},{\"name\":null,\"type\":\"css\",\"url\":\"\\/assetserver\\/46517a424aa5e6cffc1360d7e0848b601c584ee3-katex.min.css\"}],\"type\":\"async_block\"},\"id\":\"11008100412563243826\",\"handlers\":{\"value\":[\"(function (txt){return this.k.render(txt,this.container)})\"]},\"systemjs_options\":null,\"mount_callbacks\":[\"function () {\\n    var handler = ((function (k){this.k=k; this.container=this.dom.querySelector(\\\"#container\\\"); return k.render(\\\"\\\\\\\\;\\\\\\\\;\\\",this.container)}));\\n    (WebIO.importBlock({\\\"data\\\":[{\\\"name\\\":null,\\\"type\\\":\\\"js\\\",\\\"url\\\":\\\"\\/assetserver\\/dd22ed1bf1896c2748f3fe616ce0b838adc895c1-katex.min.js\\\"},{\\\"name\\\":null,\\\"type\\\":\\\"css\\\",\\\"url\\\":\\\"\\/assetserver\\/46517a424aa5e6cffc1360d7e0848b601c584ee3-katex.min.css\\\"}],\\\"type\\\":\\\"async_block\\\"})).then((imports) => handler.apply(this, imports));\\n}\\n\"],\"observables\":{\"value\":{\"sync\":false,\"id\":\"3105336480798575162\",\"value\":\"\\\\;\\\\;\"}}},\"children\":[{\"props\":{\"id\":\"container\"},\"nodeType\":\"DOM\",\"type\":\"node\",\"instanceArgs\":{\"namespace\":\"html\",\"tag\":\"div\"},\"children\":[]}]}]},{\"props\":{\"style\":{\"display\":\"flex\",\"flex-direction\":\"column\"}},\"nodeType\":\"DOM\",\"type\":\"node\",\"instanceArgs\":{\"namespace\":\"html\",\"tag\":\"div\"},\"children\":[]}]}]},\n",
       "        window,\n",
       "    );\n",
       "    })()\n",
       "    </script>\n",
       "</div>\n"
      ],
      "text/plain": [
       "WebIO.Node{WebIO.DOM}(WebIO.DOM(:html, :div), Any[WebIO.Node{WebIO.DOM}(WebIO.DOM(:html, :div), Any[WebIO.Node{WebIO.DOM}(WebIO.DOM(:html, :div), Any[WebIO.Node{WebIO.DOM}(WebIO.DOM(:html, :div), Any[WebIO.Scope(WebIO.Node{WebIO.DOM}(WebIO.DOM(:html, :div), Any[WebIO.Node{WebIO.DOM}(WebIO.DOM(:html, :div), Any[WebIO.Node{WebIO.DOM}(WebIO.DOM(:html, :label), Any[\"time\"], Dict{Symbol, Any}(:className => \"interact \", :style => Dict{Any, Any}(:padding => \"5px 10px 0px 10px\")))], Dict{Symbol, Any}(:className => \"interact-flex-row-left\")), WebIO.Node{WebIO.DOM}(WebIO.DOM(:html, :div), Any[WebIO.Node{WebIO.DOM}(WebIO.DOM(:html, :input), Any[], Dict{Symbol, Any}(:max => 501, :min => 1, :attributes => Dict{Any, Any}(:type => \"range\", Symbol(\"data-bind\") => \"numericValue: index, valueUpdate: 'input', event: {change: function (){this.changes(this.changes()+1)}}\", \"orient\" => \"horizontal\"), :step => 1, :className => \"slider slider is-fullwidth\", :style => Dict{Any, Any}()))], Dict{Symbol, Any}(:className => \"interact-flex-row-center\")), WebIO.Node{WebIO.DOM}(WebIO.DOM(:html, :div), Any[WebIO.Node{WebIO.DOM}(WebIO.DOM(:html, :p), Any[], Dict{Symbol, Any}(:attributes => Dict(\"data-bind\" => \"text: formatted_val\")))], Dict{Symbol, Any}(:className => \"interact-flex-row-right\"))], Dict{Symbol, Any}(:className => \"interact-flex-row interact-widget\")), Dict{String, Tuple{Observables.AbstractObservable, Union{Nothing, Bool}}}(\"changes\" => (Observable(0), nothing), \"index\" => (Observable(251), nothing)), Set{String}(), nothing, WebIO.Asset[WebIO.Asset(\"js\", \"knockout\", \"/home/dushya/.julia/packages/Knockout/HReiN/src/../assets/knockout.js\"), WebIO.Asset(\"js\", \"knockout_punches\", \"/home/dushya/.julia/packages/Knockout/HReiN/src/../assets/knockout_punches.js\"), WebIO.Asset(\"js\", nothing, \"/home/dushya/.julia/packages/InteractBase/LJXv3/src/../assets/all.js\"), WebIO.Asset(\"css\", nothing, \"/home/dushya/.julia/packages/InteractBase/LJXv3/src/../assets/style.css\"), WebIO.Asset(\"css\", nothing, \"/home/dushya/.julia/packages/Interact/PENUy/src/../assets/bulma_confined.min.css\")], Dict{Any, Any}(\"changes\" => Any[WebIO.JSString(\"(function (val){return (val!=this.model[\\\"changes\\\"]()) ? (this.valueFromJulia[\\\"changes\\\"]=true, this.model[\\\"changes\\\"](val)) : undefined})\")], \"index\" => Any[WebIO.JSString(\"(function (val){return (val!=this.model[\\\"index\\\"]()) ? (this.valueFromJulia[\\\"index\\\"]=true, this.model[\\\"index\\\"](val)) : undefined})\")]), WebIO.ConnectionPool(Channel{Any}(32), Set{WebIO.AbstractConnection}(), Base.GenericCondition{ReentrantLock}(Base.IntrusiveLinkedList{Task}(Task (runnable) @0x00007fc1985a0970, Task (runnable) @0x00007fc1985a0970), ReentrantLock(nothing, 0x00000000, 0x00, Base.GenericCondition{Base.Threads.SpinLock}(Base.IntrusiveLinkedList{Task}(nothing, nothing), Base.Threads.SpinLock(0)), (2, 140470211555856, 140469449492336)))), WebIO.JSString[WebIO.JSString(\"function () {\\n    var handler = (function (ko, koPunches) {\\n    ko.punches.enableAll();\\n    ko.bindingHandlers.numericValue = {\\n        init: function(element, valueAccessor, allBindings, data, context) {\\n            var stringified = ko.observable(ko.unwrap(valueAccessor()));\\n            stringified.subscribe(function(value) {\\n                var val = parseFloat(value);\\n                if (!isNaN(val)) {\\n                    valueAccessor()(val);\\n                }\\n            });\\n            valueAccessor().subscribe(function(value) {\\n                var str = JSON.stringify(value);\\n                if ((str == \\\"0\\\") && ([\\\"-0\\\", \\\"-0.\\\"].indexOf(stringified()) >= 0))\\n                     return;\\n                 if ([\\\"null\\\", \\\"\\\"].indexOf(str) >= 0)\\n                     return;\\n                stringified(str);\\n            });\\n            ko.applyBindingsToNode(\\n                element,\\n                {\\n                    value: stringified,\\n                    valueUpdate: allBindings.get('valueUpdate'),\\n                },\\n                context,\\n            );\\n        }\\n    };\\n    var json_data = {\\\"formatted_vals\\\":[\\\"1\\\",\\\"2\\\",\\\"3\\\",\\\"4\\\",\\\"5\\\",\\\"6\\\",\\\"7\\\",\\\"8\\\",\\\"9\\\",\\\"10\\\",\\\"11\\\",\\\"12\\\",\\\"13\\\",\\\"14\\\",\\\"15\\\",\\\"16\\\",\\\"17\\\",\\\"18\\\",\\\"19\\\",\\\"20\\\",\\\"21\\\",\\\"22\\\",\\\"23\\\",\\\"24\\\",\\\"25\\\",\\\"26\\\",\\\"27\\\",\\\"28\\\",\\\"29\\\",\\\"30\\\",\\\"31\\\",\\\"32\\\",\\\"33\\\",\\\"34\\\",\\\"35\\\",\\\"36\\\",\\\"37\\\",\\\"38\\\",\\\"39\\\",\\\"40\\\",\\\"41\\\",\\\"42\\\",\\\"43\\\",\\\"44\\\",\\\"45\\\",\\\"46\\\",\\\"47\\\",\\\"48\\\",\\\"49\\\",\\\"50\\\",\\\"51\\\",\\\"52\\\",\\\"53\\\",\\\"54\\\",\\\"55\\\",\\\"56\\\",\\\"57\\\",\\\"58\\\",\\\"59\\\",\\\"60\\\",\\\"61\\\",\\\"62\\\",\\\"63\\\",\\\"64\\\",\\\"65\\\",\\\"66\\\",\\\"67\\\",\\\"68\\\",\\\"69\\\",\\\"70\\\",\\\"71\\\",\\\"72\\\",\\\"73\\\",\\\"74\\\",\\\"75\\\",\\\"76\\\",\\\"77\\\",\\\"78\\\",\\\"79\\\",\\\"80\\\",\\\"81\\\",\\\"82\\\",\\\"83\\\",\\\"84\\\",\\\"85\\\",\\\"86\\\",\\\"87\\\",\\\"88\\\",\\\"89\\\",\\\"90\\\",\\\"91\\\",\\\"92\\\",\\\"93\\\",\\\"94\\\",\\\"95\\\",\\\"96\\\",\\\"97\\\",\\\"98\\\",\\\"99\\\",\\\"100\\\",\\\"101\\\",\\\"102\\\",\\\"103\\\",\\\"104\\\",\\\"105\\\",\\\"106\\\",\\\"107\\\",\\\"108\\\",\\\"109\\\",\\\"110\\\",\\\"111\\\",\\\"112\\\",\\\"113\\\",\\\"114\\\",\\\"115\\\",\\\"116\\\",\\\"117\\\",\\\"118\\\",\\\"119\\\",\\\"120\\\",\\\"121\\\",\\\"122\\\",\\\"123\\\",\\\"124\\\",\\\"125\\\",\\\"126\\\",\\\"127\\\",\\\"128\\\",\\\"129\\\",\\\"130\\\",\\\"131\\\",\\\"132\\\",\\\"133\\\",\\\"134\\\",\\\"135\\\",\\\"136\\\",\\\"137\\\",\\\"138\\\",\\\"139\\\",\\\"140\\\",\\\"141\\\",\\\"142\\\",\\\"143\\\",\\\"144\\\",\\\"145\\\",\\\"146\\\",\\\"147\\\",\\\"148\\\",\\\"149\\\",\\\"150\\\",\\\"151\\\",\\\"152\\\",\\\"153\\\",\\\"154\\\",\\\"155\\\",\\\"156\\\",\\\"157\\\",\\\"158\\\",\\\"159\\\",\\\"160\\\",\\\"161\\\",\\\"162\\\",\\\"163\\\",\\\"164\\\",\\\"165\\\",\\\"166\\\",\\\"167\\\",\\\"168\\\",\\\"169\\\",\\\"170\\\",\\\"171\\\",\\\"172\\\",\\\"173\\\",\\\"174\\\",\\\"175\\\",\\\"176\\\",\\\"177\\\",\\\"178\\\",\\\"179\\\",\\\"180\\\",\\\"181\\\",\\\"182\\\",\\\"183\\\",\\\"184\\\",\\\"185\\\",\\\"186\\\",\\\"187\\\",\\\"188\\\",\\\"189\\\",\\\"190\\\",\\\"191\\\",\\\"192\\\",\\\"193\\\",\\\"194\\\",\\\"195\\\",\\\"196\\\",\\\"197\\\",\\\"198\\\",\\\"199\\\",\\\"200\\\",\\\"201\\\",\\\"202\\\",\\\"203\\\",\\\"204\\\",\\\"205\\\",\\\"206\\\",\\\"207\\\",\\\"208\\\",\\\"209\\\",\\\"210\\\",\\\"211\\\",\\\"212\\\",\\\"213\\\",\\\"214\\\",\\\"215\\\",\\\"216\\\",\\\"217\\\",\\\"218\\\",\\\"219\\\",\\\"220\\\",\\\"221\\\",\\\"222\\\",\\\"223\\\",\\\"224\\\",\\\"225\\\",\\\"226\\\",\\\"227\\\",\\\"228\\\",\\\"229\\\",\\\"230\\\",\\\"231\\\",\\\"232\\\",\\\"233\\\",\\\"234\\\",\\\"235\\\",\\\"236\\\",\\\"237\\\",\\\"238\\\",\\\"239\\\",\\\"240\\\",\\\"241\\\",\\\"242\\\",\\\"243\\\",\\\"244\\\",\\\"245\\\",\\\"246\\\",\\\"247\\\",\\\"248\\\",\\\"249\\\",\\\"250\\\",\\\"251\\\",\\\"252\\\",\\\"253\\\",\\\"254\\\",\\\"255\\\",\\\"256\\\",\\\"257\\\",\\\"258\\\",\\\"259\\\",\\\"260\\\",\\\"261\\\",\\\"262\\\",\\\"263\\\",\\\"264\\\",\\\"265\\\",\\\"266\\\",\\\"267\\\",\\\"268\\\",\\\"269\\\",\\\"270\\\",\\\"271\\\",\\\"272\\\",\\\"273\\\",\\\"274\\\",\\\"275\\\",\\\"276\\\",\\\"277\\\",\\\"278\\\",\\\"279\\\",\\\"280\\\",\\\"281\\\",\\\"282\\\",\\\"283\\\",\\\"284\\\",\\\"285\\\",\\\"286\\\",\\\"287\\\",\\\"288\\\",\\\"289\\\",\\\"290\\\",\\\"291\\\",\\\"292\\\",\\\"293\\\",\\\"294\\\",\\\"295\\\",\\\"296\\\",\\\"297\\\",\\\"298\\\",\\\"299\\\",\\\"300\\\",\\\"301\\\",\\\"302\\\",\\\"303\\\",\\\"304\\\",\\\"305\\\",\\\"306\\\",\\\"307\\\",\\\"308\\\",\\\"309\\\",\\\"310\\\",\\\"311\\\",\\\"312\\\",\\\"313\\\",\\\"314\\\",\\\"315\\\",\\\"316\\\",\\\"317\\\",\\\"318\\\",\\\"319\\\",\\\"320\\\",\\\"321\\\",\\\"322\\\",\\\"323\\\",\\\"324\\\",\\\"325\\\",\\\"326\\\",\\\"327\\\",\\\"328\\\",\\\"329\\\",\\\"330\\\",\\\"331\\\",\\\"332\\\",\\\"333\\\",\\\"334\\\",\\\"335\\\",\\\"336\\\",\\\"337\\\",\\\"338\\\",\\\"339\\\",\\\"340\\\",\\\"341\\\",\\\"342\\\",\\\"343\\\",\\\"344\\\",\\\"345\\\",\\\"346\\\",\\\"347\\\",\\\"348\\\",\\\"349\\\",\\\"350\\\",\\\"351\\\",\\\"352\\\",\\\"353\\\",\\\"354\\\",\\\"355\\\",\\\"356\\\",\\\"357\\\",\\\"358\\\",\\\"359\\\",\\\"360\\\",\\\"361\\\",\\\"362\\\",\\\"363\\\",\\\"364\\\",\\\"365\\\",\\\"366\\\",\\\"367\\\",\\\"368\\\",\\\"369\\\",\\\"370\\\",\\\"371\\\",\\\"372\\\",\\\"373\\\",\\\"374\\\",\\\"375\\\",\\\"376\\\",\\\"377\\\",\\\"378\\\",\\\"379\\\",\\\"380\\\",\\\"381\\\",\\\"382\\\",\\\"383\\\",\\\"384\\\",\\\"385\\\",\\\"386\\\",\\\"387\\\",\\\"388\\\",\\\"389\\\",\\\"390\\\",\\\"391\\\",\\\"392\\\",\\\"393\\\",\\\"394\\\",\\\"395\\\",\\\"396\\\",\\\"397\\\",\\\"398\\\",\\\"399\\\",\\\"400\\\",\\\"401\\\",\\\"402\\\",\\\"403\\\",\\\"404\\\",\\\"405\\\",\\\"406\\\",\\\"407\\\",\\\"408\\\",\\\"409\\\",\\\"410\\\",\\\"411\\\",\\\"412\\\",\\\"413\\\",\\\"414\\\",\\\"415\\\",\\\"416\\\",\\\"417\\\",\\\"418\\\",\\\"419\\\",\\\"420\\\",\\\"421\\\",\\\"422\\\",\\\"423\\\",\\\"424\\\",\\\"425\\\",\\\"426\\\",\\\"427\\\",\\\"428\\\",\\\"429\\\",\\\"430\\\",\\\"431\\\",\\\"432\\\",\\\"433\\\",\\\"434\\\",\\\"435\\\",\\\"436\\\",\\\"437\\\",\\\"438\\\",\\\"439\\\",\\\"440\\\",\\\"441\\\",\\\"442\\\",\\\"443\\\",\\\"444\\\",\\\"445\\\",\\\"446\\\",\\\"447\\\",\\\"448\\\",\\\"449\\\",\\\"450\\\",\\\"451\\\",\\\"452\\\",\\\"453\\\",\\\"454\\\",\\\"455\\\",\\\"456\\\",\\\"457\\\",\\\"458\\\",\\\"459\\\",\\\"460\\\",\\\"461\\\",\\\"462\\\",\\\"463\\\",\\\"464\\\",\\\"465\\\",\\\"466\\\",\\\"467\\\",\\\"468\\\",\\\"469\\\",\\\"470\\\",\\\"471\\\",\\\"472\\\",\\\"473\\\",\\\"474\\\",\\\"475\\\",\\\"476\\\",\\\"477\\\",\\\"478\\\",\\\"479\\\",\\\"480\\\",\\\"481\\\",\\\"482\\\",\\\"483\\\",\\\"484\\\",\\\"485\\\",\\\"486\\\",\\\"487\\\",\\\"488\\\",\\\"489\\\",\\\"490\\\",\\\"491\\\",\\\"492\\\",\\\"493\\\",\\\"494\\\",\\\"495\\\",\\\"496\\\",\\\"497\\\",\\\"498\\\",\\\"499\\\",\\\"500\\\",\\\"501\\\"],\\\"changes\\\":WebIO.getval({\\\"name\\\":\\\"changes\\\",\\\"scope\\\":\\\"1142503790398093117\\\",\\\"id\\\":\\\"659546997151920019\\\",\\\"type\\\":\\\"observable\\\"}),\\\"index\\\":WebIO.getval({\\\"name\\\":\\\"index\\\",\\\"scope\\\":\\\"1142503790398093117\\\",\\\"id\\\":\\\"13818925096374988258\\\",\\\"type\\\":\\\"observable\\\"})};\\n    var self = this;\\n    function AppViewModel() {\\n        for (var key in json_data) {\\n            var el = json_data[key];\\n            this[key] = Array.isArray(el) ? ko.observableArray(el) : ko.observable(el);\\n        }\\n        \\n        [this[\\\"formatted_val\\\"]=ko.computed(    function(){\\n        return this.formatted_vals()[parseInt(this.index())-(1)];\\n    }\\n,this)]\\n        [this[\\\"changes\\\"].subscribe((function (val){!(this.valueFromJulia[\\\"changes\\\"]) ? (WebIO.setval({\\\"name\\\":\\\"changes\\\",\\\"scope\\\":\\\"1142503790398093117\\\",\\\"id\\\":\\\"659546997151920019\\\",\\\"type\\\":\\\"observable\\\"},val)) : undefined; return this.valueFromJulia[\\\"changes\\\"]=false}),self),this[\\\"index\\\"].subscribe((function (val){!(this.valueFromJulia[\\\"index\\\"]) ? (WebIO.setval({\\\"name\\\":\\\"index\\\",\\\"scope\\\":\\\"1142503790398093117\\\",\\\"id\\\":\\\"13818925096374988258\\\",\\\"type\\\":\\\"observable\\\"},val)) : undefined; return this.valueFromJulia[\\\"index\\\"]=false}),self)]\\n        \\n    }\\n    self.model = new AppViewModel();\\n    self.valueFromJulia = {};\\n    for (var key in json_data) {\\n        self.valueFromJulia[key] = false;\\n    }\\n    ko.applyBindings(self.model, self.dom);\\n}\\n);\\n    (WebIO.importBlock({\\\"data\\\":[{\\\"name\\\":\\\"knockout\\\",\\\"type\\\":\\\"js\\\",\\\"url\\\":\\\"/assetserver/727383f2a47bd31570b7da84eee7b022dd6d7c78-knockout.js\\\"},{\\\"name\\\":\\\"knockout_punches\\\",\\\"type\\\":\\\"js\\\",\\\"url\\\":\\\"/assetserver/382b41b3b1bd9f26f75861d360bad7f8beea211f-knockout_punches.js\\\"}],\\\"type\\\":\\\"async_block\\\"})).then((imports) => handler.apply(this, imports));\\n}\\n\")])], Dict{Symbol, Any}(:className => \"field interact-widget\")), WebIO.Node{WebIO.DOM}(WebIO.DOM(:html, :div), Any[WebIO.Scope(WebIO.Node{WebIO.DOM}(WebIO.DOM(:html, :div), Any[WebIO.Node{WebIO.DOM}(WebIO.DOM(:html, :div), Any[WebIO.Node{WebIO.DOM}(WebIO.DOM(:html, :label), Any[\"scale\"], Dict{Symbol, Any}(:className => \"interact \", :style => Dict{Any, Any}(:padding => \"5px 10px 0px 10px\")))], Dict{Symbol, Any}(:className => \"interact-flex-row-left\")), WebIO.Node{WebIO.DOM}(WebIO.DOM(:html, :div), Any[WebIO.Node{WebIO.DOM}(WebIO.DOM(:html, :input), Any[], Dict{Symbol, Any}(:max => 20, :min => 1, :attributes => Dict{Any, Any}(:type => \"range\", Symbol(\"data-bind\") => \"numericValue: index, valueUpdate: 'input', event: {change: function (){this.changes(this.changes()+1)}}\", \"orient\" => \"horizontal\"), :step => 1, :className => \"slider slider is-fullwidth\", :style => Dict{Any, Any}()))], Dict{Symbol, Any}(:className => \"interact-flex-row-center\")), WebIO.Node{WebIO.DOM}(WebIO.DOM(:html, :div), Any[WebIO.Node{WebIO.DOM}(WebIO.DOM(:html, :p), Any[], Dict{Symbol, Any}(:attributes => Dict(\"data-bind\" => \"text: formatted_val\")))], Dict{Symbol, Any}(:className => \"interact-flex-row-right\"))], Dict{Symbol, Any}(:className => \"interact-flex-row interact-widget\")), Dict{String, Tuple{Observables.AbstractObservable, Union{Nothing, Bool}}}(\"changes\" => (Observable(0), nothing), \"index\" => (Observable{Any}(10), nothing)), Set{String}(), nothing, WebIO.Asset[WebIO.Asset(\"js\", \"knockout\", \"/home/dushya/.julia/packages/Knockout/HReiN/src/../assets/knockout.js\"), WebIO.Asset(\"js\", \"knockout_punches\", \"/home/dushya/.julia/packages/Knockout/HReiN/src/../assets/knockout_punches.js\"), WebIO.Asset(\"js\", nothing, \"/home/dushya/.julia/packages/InteractBase/LJXv3/src/../assets/all.js\"), WebIO.Asset(\"css\", nothing, \"/home/dushya/.julia/packages/InteractBase/LJXv3/src/../assets/style.css\"), WebIO.Asset(\"css\", nothing, \"/home/dushya/.julia/packages/Interact/PENUy/src/../assets/bulma_confined.min.css\")], Dict{Any, Any}(\"changes\" => Any[WebIO.JSString(\"(function (val){return (val!=this.model[\\\"changes\\\"]()) ? (this.valueFromJulia[\\\"changes\\\"]=true, this.model[\\\"changes\\\"](val)) : undefined})\")], \"index\" => Any[WebIO.JSString(\"(function (val){return (val!=this.model[\\\"index\\\"]()) ? (this.valueFromJulia[\\\"index\\\"]=true, this.model[\\\"index\\\"](val)) : undefined})\")]), WebIO.ConnectionPool(Channel{Any}(32), Set{WebIO.AbstractConnection}(), Base.GenericCondition{ReentrantLock}(Base.IntrusiveLinkedList{Task}(Task (runnable) @0x00007fc1990beef0, Task (runnable) @0x00007fc1990beef0), ReentrantLock(nothing, 0x00000000, 0x00, Base.GenericCondition{Base.Threads.SpinLock}(Base.IntrusiveLinkedList{Task}(nothing, nothing), Base.Threads.SpinLock(0)), (2, 140471138790688, 140469452325280)))), WebIO.JSString[WebIO.JSString(\"function () {\\n    var handler = (function (ko, koPunches) {\\n    ko.punches.enableAll();\\n    ko.bindingHandlers.numericValue = {\\n        init: function(element, valueAccessor, allBindings, data, context) {\\n            var stringified = ko.observable(ko.unwrap(valueAccessor()));\\n            stringified.subscribe(function(value) {\\n                var val = parseFloat(value);\\n                if (!isNaN(val)) {\\n                    valueAccessor()(val);\\n                }\\n            });\\n            valueAccessor().subscribe(function(value) {\\n                var str = JSON.stringify(value);\\n                if ((str == \\\"0\\\") && ([\\\"-0\\\", \\\"-0.\\\"].indexOf(stringified()) >= 0))\\n                     return;\\n                 if ([\\\"null\\\", \\\"\\\"].indexOf(str) >= 0)\\n                     return;\\n                stringified(str);\\n            });\\n            ko.applyBindingsToNode(\\n                element,\\n                {\\n                    value: stringified,\\n                    valueUpdate: allBindings.get('valueUpdate'),\\n                },\\n                context,\\n            );\\n        }\\n    };\\n    var json_data = {\\\"formatted_vals\\\":[\\\"0.1\\\",\\\"0.2\\\",\\\"0.3\\\",\\\"0.4\\\",\\\"0.5\\\",\\\"0.6\\\",\\\"0.7\\\",\\\"0.8\\\",\\\"0.9\\\",\\\"1.0\\\",\\\"1.1\\\",\\\"1.2\\\",\\\"1.3\\\",\\\"1.4\\\",\\\"1.5\\\",\\\"1.6\\\",\\\"1.7\\\",\\\"1.8\\\",\\\"1.9\\\",\\\"2.0\\\"],\\\"changes\\\":WebIO.getval({\\\"name\\\":\\\"changes\\\",\\\"scope\\\":\\\"3152817737375969049\\\",\\\"id\\\":\\\"4367161569963800169\\\",\\\"type\\\":\\\"observable\\\"}),\\\"index\\\":WebIO.getval({\\\"name\\\":\\\"index\\\",\\\"scope\\\":\\\"3152817737375969049\\\",\\\"id\\\":\\\"5664730830180111819\\\",\\\"type\\\":\\\"observable\\\"})};\\n    var self = this;\\n    function AppViewModel() {\\n        for (var key in json_data) {\\n            var el = json_data[key];\\n            this[key] = Array.isArray(el) ? ko.observableArray(el) : ko.observable(el);\\n        }\\n        \\n        [this[\\\"formatted_val\\\"]=ko.computed(    function(){\\n        return this.formatted_vals()[parseInt(this.index())-(1)];\\n    }\\n,this)]\\n        [this[\\\"changes\\\"].subscribe((function (val){!(this.valueFromJulia[\\\"changes\\\"]) ? (WebIO.setval({\\\"name\\\":\\\"changes\\\",\\\"scope\\\":\\\"3152817737375969049\\\",\\\"id\\\":\\\"4367161569963800169\\\",\\\"type\\\":\\\"observable\\\"},val)) : undefined; return this.valueFromJulia[\\\"changes\\\"]=false}),self),this[\\\"index\\\"].subscribe((function (val){!(this.valueFromJulia[\\\"index\\\"]) ? (WebIO.setval({\\\"name\\\":\\\"index\\\",\\\"scope\\\":\\\"3152817737375969049\\\",\\\"id\\\":\\\"5664730830180111819\\\",\\\"type\\\":\\\"observable\\\"},val)) : undefined; return this.valueFromJulia[\\\"index\\\"]=false}),self)]\\n        \\n    }\\n    self.model = new AppViewModel();\\n    self.valueFromJulia = {};\\n    for (var key in json_data) {\\n        self.valueFromJulia[key] = false;\\n    }\\n    ko.applyBindings(self.model, self.dom);\\n}\\n);\\n    (WebIO.importBlock({\\\"data\\\":[{\\\"name\\\":\\\"knockout\\\",\\\"type\\\":\\\"js\\\",\\\"url\\\":\\\"/assetserver/727383f2a47bd31570b7da84eee7b022dd6d7c78-knockout.js\\\"},{\\\"name\\\":\\\"knockout_punches\\\",\\\"type\\\":\\\"js\\\",\\\"url\\\":\\\"/assetserver/382b41b3b1bd9f26f75861d360bad7f8beea211f-knockout_punches.js\\\"}],\\\"type\\\":\\\"async_block\\\"})).then((imports) => handler.apply(this, imports));\\n}\\n\")])], Dict{Symbol, Any}(:className => \"field interact-widget\")), WebIO.Node{WebIO.DOM}(WebIO.DOM(:html, :div), Any[WebIO.Node{WebIO.DOM}(WebIO.DOM(:html, :div), Any[WebIO.Scope(WebIO.Node{WebIO.DOM}(WebIO.DOM(:html, :div), Any[], Dict{Symbol, Any}(:id => \"container\")), Dict{String, Tuple{Observables.AbstractObservable, Union{Nothing, Bool}}}(\"value\" => (Observable(\"\\\\;\\\\;\"), nothing)), Set{String}(), nothing, WebIO.Asset[WebIO.Asset(\"js\", nothing, \"/home/dushya/.julia/packages/InteractBase/LJXv3/src/../assets/katex.min.js\"), WebIO.Asset(\"css\", nothing, \"/home/dushya/.julia/packages/InteractBase/LJXv3/src/../assets/katex.min.css\")], Dict{Any, Any}(\"value\" => Any[WebIO.JSString(\"(function (txt){return this.k.render(txt,this.container)})\")]), WebIO.ConnectionPool(Channel{Any}(32), Set{WebIO.AbstractConnection}(), Base.GenericCondition{ReentrantLock}(Base.IntrusiveLinkedList{Task}(Task (runnable) @0x00007fc206509aa0, Task (runnable) @0x00007fc206509aa0), ReentrantLock(nothing, 0x00000000, 0x00, Base.GenericCondition{Base.Threads.SpinLock}(Base.IntrusiveLinkedList{Task}(nothing, nothing), Base.Threads.SpinLock(0)), (0, 140471137188800, 140471137188800)))), WebIO.JSString[WebIO.JSString(\"function () {\\n    var handler = ((function (k){this.k=k; this.container=this.dom.querySelector(\\\"#container\\\"); return k.render(\\\"\\\\\\\\;\\\\\\\\;\\\",this.container)}));\\n    (WebIO.importBlock({\\\"data\\\":[{\\\"name\\\":null,\\\"type\\\":\\\"js\\\",\\\"url\\\":\\\"/assetserver/dd22ed1bf1896c2748f3fe616ce0b838adc895c1-katex.min.js\\\"},{\\\"name\\\":null,\\\"type\\\":\\\"css\\\",\\\"url\\\":\\\"/assetserver/46517a424aa5e6cffc1360d7e0848b601c584ee3-katex.min.css\\\"}],\\\"type\\\":\\\"async_block\\\"})).then((imports) => handler.apply(this, imports));\\n}\\n\")])], Dict{Symbol, Any}(:className => \"interact-widget\")), WebIO.Node{WebIO.DOM}(WebIO.DOM(:html, :div), Any[WebIO.Scope(WebIO.Node{WebIO.DOM}(WebIO.DOM(:html, :button), Any[\"run\"], Dict{Symbol, Any}(:attributes => Dict{Any, Any}(\"data-bind\" => \"click: function (){this.clicks(this.clicks()+1)}, css: {'is-loading' : loading}\"), :className => \"is-medium button is-primary\", :style => Dict{String, Any}())), Dict{String, Tuple{Observables.AbstractObservable, Union{Nothing, Bool}}}(\"loading\" => (Observable(false), nothing), \"clicks\" => (Observable(0), nothing)), Set{String}(), nothing, WebIO.Asset[WebIO.Asset(\"js\", \"knockout\", \"/home/dushya/.julia/packages/Knockout/HReiN/src/../assets/knockout.js\"), WebIO.Asset(\"js\", \"knockout_punches\", \"/home/dushya/.julia/packages/Knockout/HReiN/src/../assets/knockout_punches.js\"), WebIO.Asset(\"js\", nothing, \"/home/dushya/.julia/packages/InteractBase/LJXv3/src/../assets/all.js\"), WebIO.Asset(\"css\", nothing, \"/home/dushya/.julia/packages/InteractBase/LJXv3/src/../assets/style.css\"), WebIO.Asset(\"css\", nothing, \"/home/dushya/.julia/packages/Interact/PENUy/src/../assets/bulma_confined.min.css\")], Dict{Any, Any}(\"loading\" => Any[WebIO.JSString(\"(function (val){return (val!=this.model[\\\"loading\\\"]()) ? (this.valueFromJulia[\\\"loading\\\"]=true, this.model[\\\"loading\\\"](val)) : undefined})\")], \"clicks\" => Any[WebIO.JSString(\"(function (val){return (val!=this.model[\\\"clicks\\\"]()) ? (this.valueFromJulia[\\\"clicks\\\"]=true, this.model[\\\"clicks\\\"](val)) : undefined})\")]), WebIO.ConnectionPool(Channel{Any}(32), Set{WebIO.AbstractConnection}(), Base.GenericCondition{ReentrantLock}(Base.IntrusiveLinkedList{Task}(Task (runnable) @0x00007fc208679c30, Task (runnable) @0x00007fc208679c30), ReentrantLock(nothing, 0x00000000, 0x00, Base.GenericCondition{Base.Threads.SpinLock}(Base.IntrusiveLinkedList{Task}(nothing, nothing), Base.Threads.SpinLock(0)), (0, 140471330832304, 140471214083024)))), WebIO.JSString[WebIO.JSString(\"function () {\\n    var handler = (function (ko, koPunches) {\\n    ko.punches.enableAll();\\n    ko.bindingHandlers.numericValue = {\\n        init: function(element, valueAccessor, allBindings, data, context) {\\n            var stringified = ko.observable(ko.unwrap(valueAccessor()));\\n            stringified.subscribe(function(value) {\\n                var val = parseFloat(value);\\n                if (!isNaN(val)) {\\n                    valueAccessor()(val);\\n                }\\n            });\\n            valueAccessor().subscribe(function(value) {\\n                var str = JSON.stringify(value);\\n                if ((str == \\\"0\\\") && ([\\\"-0\\\", \\\"-0.\\\"].indexOf(stringified()) >= 0))\\n                     return;\\n                 if ([\\\"null\\\", \\\"\\\"].indexOf(str) >= 0)\\n                     return;\\n                stringified(str);\\n            });\\n            ko.applyBindingsToNode(\\n                element,\\n                {\\n                    value: stringified,\\n                    valueUpdate: allBindings.get('valueUpdate'),\\n                },\\n                context,\\n            );\\n        }\\n    };\\n    var json_data = {\\\"loading\\\":WebIO.getval({\\\"name\\\":\\\"loading\\\",\\\"scope\\\":\\\"14652925860172356706\\\",\\\"id\\\":\\\"16720800215367875425\\\",\\\"type\\\":\\\"observable\\\"}),\\\"clicks\\\":WebIO.getval({\\\"name\\\":\\\"clicks\\\",\\\"scope\\\":\\\"14652925860172356706\\\",\\\"id\\\":\\\"10511196883715144044\\\",\\\"type\\\":\\\"observable\\\"})};\\n    var self = this;\\n    function AppViewModel() {\\n        for (var key in json_data) {\\n            var el = json_data[key];\\n            this[key] = Array.isArray(el) ? ko.observableArray(el) : ko.observable(el);\\n        }\\n        \\n        \\n        [this[\\\"loading\\\"].subscribe((function (val){!(this.valueFromJulia[\\\"loading\\\"]) ? (WebIO.setval({\\\"name\\\":\\\"loading\\\",\\\"scope\\\":\\\"14652925860172356706\\\",\\\"id\\\":\\\"16720800215367875425\\\",\\\"type\\\":\\\"observable\\\"},val)) : undefined; return this.valueFromJulia[\\\"loading\\\"]=false}),self),this[\\\"clicks\\\"].subscribe((function (val){!(this.valueFromJulia[\\\"clicks\\\"]) ? (WebIO.setval({\\\"name\\\":\\\"clicks\\\",\\\"scope\\\":\\\"14652925860172356706\\\",\\\"id\\\":\\\"10511196883715144044\\\",\\\"type\\\":\\\"observable\\\"},val)) : undefined; return this.valueFromJulia[\\\"clicks\\\"]=false}),self)]\\n        \\n    }\\n    self.model = new AppViewModel();\\n    self.valueFromJulia = {};\\n    for (var key in json_data) {\\n        self.valueFromJulia[key] = false;\\n    }\\n    ko.applyBindings(self.model, self.dom);\\n}\\n);\\n    (WebIO.importBlock({\\\"data\\\":[{\\\"name\\\":\\\"knockout\\\",\\\"type\\\":\\\"js\\\",\\\"url\\\":\\\"/assetserver/727383f2a47bd31570b7da84eee7b022dd6d7c78-knockout.js\\\"},{\\\"name\\\":\\\"knockout_punches\\\",\\\"type\\\":\\\"js\\\",\\\"url\\\":\\\"/assetserver/382b41b3b1bd9f26f75861d360bad7f8beea211f-knockout_punches.js\\\"}],\\\"type\\\":\\\"async_block\\\"})).then((imports) => handler.apply(this, imports));\\n}\\n\")])], Dict{Symbol, Any}(:className => \"field interact-widget\")), WebIO.Node{WebIO.DOM}(WebIO.DOM(:html, :div), Any[WebIO.Scope(WebIO.Node{WebIO.DOM}(WebIO.DOM(:html, :div), Any[], Dict{Symbol, Any}(:id => \"container\")), Dict{String, Tuple{Observables.AbstractObservable, Union{Nothing, Bool}}}(\"value\" => (Observable(\"\\\\;\\\\;\"), nothing)), Set{String}(), nothing, WebIO.Asset[WebIO.Asset(\"js\", nothing, \"/home/dushya/.julia/packages/InteractBase/LJXv3/src/../assets/katex.min.js\"), WebIO.Asset(\"css\", nothing, \"/home/dushya/.julia/packages/InteractBase/LJXv3/src/../assets/katex.min.css\")], Dict{Any, Any}(\"value\" => Any[WebIO.JSString(\"(function (txt){return this.k.render(txt,this.container)})\")]), WebIO.ConnectionPool(Channel{Any}(32), Set{WebIO.AbstractConnection}(), Base.GenericCondition{ReentrantLock}(Base.IntrusiveLinkedList{Task}(Task (runnable) @0x00007fc206509aa0, Task (runnable) @0x00007fc206509aa0), ReentrantLock(nothing, 0x00000000, 0x00, Base.GenericCondition{Base.Threads.SpinLock}(Base.IntrusiveLinkedList{Task}(nothing, nothing), Base.Threads.SpinLock(0)), (0, 140471137188800, 140471137188800)))), WebIO.JSString[WebIO.JSString(\"function () {\\n    var handler = ((function (k){this.k=k; this.container=this.dom.querySelector(\\\"#container\\\"); return k.render(\\\"\\\\\\\\;\\\\\\\\;\\\",this.container)}));\\n    (WebIO.importBlock({\\\"data\\\":[{\\\"name\\\":null,\\\"type\\\":\\\"js\\\",\\\"url\\\":\\\"/assetserver/dd22ed1bf1896c2748f3fe616ce0b838adc895c1-katex.min.js\\\"},{\\\"name\\\":null,\\\"type\\\":\\\"css\\\",\\\"url\\\":\\\"/assetserver/46517a424aa5e6cffc1360d7e0848b601c584ee3-katex.min.css\\\"}],\\\"type\\\":\\\"async_block\\\"})).then((imports) => handler.apply(this, imports));\\n}\\n\")])], Dict{Symbol, Any}(:className => \"interact-widget\")), WebIO.Node{WebIO.DOM}(WebIO.DOM(:html, :div), Any[WebIO.Scope(WebIO.Node{WebIO.DOM}(WebIO.DOM(:html, :button), Any[\"stop\"], Dict{Symbol, Any}(:attributes => Dict{Any, Any}(\"data-bind\" => \"click: function (){this.clicks(this.clicks()+1)}, css: {'is-loading' : loading}\"), :className => \"is-medium button is-primary\", :style => Dict{String, Any}())), Dict{String, Tuple{Observables.AbstractObservable, Union{Nothing, Bool}}}(\"loading\" => (Observable(false), nothing), \"clicks\" => (Observable(0), nothing)), Set{String}(), nothing, WebIO.Asset[WebIO.Asset(\"js\", \"knockout\", \"/home/dushya/.julia/packages/Knockout/HReiN/src/../assets/knockout.js\"), WebIO.Asset(\"js\", \"knockout_punches\", \"/home/dushya/.julia/packages/Knockout/HReiN/src/../assets/knockout_punches.js\"), WebIO.Asset(\"js\", nothing, \"/home/dushya/.julia/packages/InteractBase/LJXv3/src/../assets/all.js\"), WebIO.Asset(\"css\", nothing, \"/home/dushya/.julia/packages/InteractBase/LJXv3/src/../assets/style.css\"), WebIO.Asset(\"css\", nothing, \"/home/dushya/.julia/packages/Interact/PENUy/src/../assets/bulma_confined.min.css\")], Dict{Any, Any}(\"loading\" => Any[WebIO.JSString(\"(function (val){return (val!=this.model[\\\"loading\\\"]()) ? (this.valueFromJulia[\\\"loading\\\"]=true, this.model[\\\"loading\\\"](val)) : undefined})\")], \"clicks\" => Any[WebIO.JSString(\"(function (val){return (val!=this.model[\\\"clicks\\\"]()) ? (this.valueFromJulia[\\\"clicks\\\"]=true, this.model[\\\"clicks\\\"](val)) : undefined})\")]), WebIO.ConnectionPool(Channel{Any}(32), Set{WebIO.AbstractConnection}(), Base.GenericCondition{ReentrantLock}(Base.IntrusiveLinkedList{Task}(Task (runnable) @0x00007fc199207d00, Task (runnable) @0x00007fc199207d00), ReentrantLock(nothing, 0x00000000, 0x00, Base.GenericCondition{Base.Threads.SpinLock}(Base.IntrusiveLinkedList{Task}(nothing, nothing), Base.Threads.SpinLock(0)), (1, 0, 0)))), WebIO.JSString[WebIO.JSString(\"function () {\\n    var handler = (function (ko, koPunches) {\\n    ko.punches.enableAll();\\n    ko.bindingHandlers.numericValue = {\\n        init: function(element, valueAccessor, allBindings, data, context) {\\n            var stringified = ko.observable(ko.unwrap(valueAccessor()));\\n            stringified.subscribe(function(value) {\\n                var val = parseFloat(value);\\n                if (!isNaN(val)) {\\n                    valueAccessor()(val);\\n                }\\n            });\\n            valueAccessor().subscribe(function(value) {\\n                var str = JSON.stringify(value);\\n                if ((str == \\\"0\\\") && ([\\\"-0\\\", \\\"-0.\\\"].indexOf(stringified()) >= 0))\\n                     return;\\n                 if ([\\\"null\\\", \\\"\\\"].indexOf(str) >= 0)\\n                     return;\\n                stringified(str);\\n            });\\n            ko.applyBindingsToNode(\\n                element,\\n                {\\n                    value: stringified,\\n                    valueUpdate: allBindings.get('valueUpdate'),\\n                },\\n                context,\\n            );\\n        }\\n    };\\n    var json_data = {\\\"loading\\\":WebIO.getval({\\\"name\\\":\\\"loading\\\",\\\"scope\\\":\\\"5121678230066131587\\\",\\\"id\\\":\\\"976052187337376544\\\",\\\"type\\\":\\\"observable\\\"}),\\\"clicks\\\":WebIO.getval({\\\"name\\\":\\\"clicks\\\",\\\"scope\\\":\\\"5121678230066131587\\\",\\\"id\\\":\\\"9343367184056007939\\\",\\\"type\\\":\\\"observable\\\"})};\\n    var self = this;\\n    function AppViewModel() {\\n        for (var key in json_data) {\\n            var el = json_data[key];\\n            this[key] = Array.isArray(el) ? ko.observableArray(el) : ko.observable(el);\\n        }\\n        \\n        \\n        [this[\\\"loading\\\"].subscribe((function (val){!(this.valueFromJulia[\\\"loading\\\"]) ? (WebIO.setval({\\\"name\\\":\\\"loading\\\",\\\"scope\\\":\\\"5121678230066131587\\\",\\\"id\\\":\\\"976052187337376544\\\",\\\"type\\\":\\\"observable\\\"},val)) : undefined; return this.valueFromJulia[\\\"loading\\\"]=false}),self),this[\\\"clicks\\\"].subscribe((function (val){!(this.valueFromJulia[\\\"clicks\\\"]) ? (WebIO.setval({\\\"name\\\":\\\"clicks\\\",\\\"scope\\\":\\\"5121678230066131587\\\",\\\"id\\\":\\\"9343367184056007939\\\",\\\"type\\\":\\\"observable\\\"},val)) : undefined; return this.valueFromJulia[\\\"clicks\\\"]=false}),self)]\\n        \\n    }\\n    self.model = new AppViewModel();\\n    self.valueFromJulia = {};\\n    for (var key in json_data) {\\n        self.valueFromJulia[key] = false;\\n    }\\n    ko.applyBindings(self.model, self.dom);\\n}\\n);\\n    (WebIO.importBlock({\\\"data\\\":[{\\\"name\\\":\\\"knockout\\\",\\\"type\\\":\\\"js\\\",\\\"url\\\":\\\"/assetserver/727383f2a47bd31570b7da84eee7b022dd6d7c78-knockout.js\\\"},{\\\"name\\\":\\\"knockout_punches\\\",\\\"type\\\":\\\"js\\\",\\\"url\\\":\\\"/assetserver/382b41b3b1bd9f26f75861d360bad7f8beea211f-knockout_punches.js\\\"}],\\\"type\\\":\\\"async_block\\\"})).then((imports) => handler.apply(this, imports));\\n}\\n\")])], Dict{Symbol, Any}(:className => \"field interact-widget\")), WebIO.Node{WebIO.DOM}(WebIO.DOM(:html, :div), Any[WebIO.Scope(WebIO.Node{WebIO.DOM}(WebIO.DOM(:html, :div), Any[], Dict{Symbol, Any}(:id => \"container\")), Dict{String, Tuple{Observables.AbstractObservable, Union{Nothing, Bool}}}(\"value\" => (Observable(\"\\\\;\\\\;\"), nothing)), Set{String}(), nothing, WebIO.Asset[WebIO.Asset(\"js\", nothing, \"/home/dushya/.julia/packages/InteractBase/LJXv3/src/../assets/katex.min.js\"), WebIO.Asset(\"css\", nothing, \"/home/dushya/.julia/packages/InteractBase/LJXv3/src/../assets/katex.min.css\")], Dict{Any, Any}(\"value\" => Any[WebIO.JSString(\"(function (txt){return this.k.render(txt,this.container)})\")]), WebIO.ConnectionPool(Channel{Any}(32), Set{WebIO.AbstractConnection}(), Base.GenericCondition{ReentrantLock}(Base.IntrusiveLinkedList{Task}(Task (runnable) @0x00007fc206509aa0, Task (runnable) @0x00007fc206509aa0), ReentrantLock(nothing, 0x00000000, 0x00, Base.GenericCondition{Base.Threads.SpinLock}(Base.IntrusiveLinkedList{Task}(nothing, nothing), Base.Threads.SpinLock(0)), (0, 140471137188800, 140471137188800)))), WebIO.JSString[WebIO.JSString(\"function () {\\n    var handler = ((function (k){this.k=k; this.container=this.dom.querySelector(\\\"#container\\\"); return k.render(\\\"\\\\\\\\;\\\\\\\\;\\\",this.container)}));\\n    (WebIO.importBlock({\\\"data\\\":[{\\\"name\\\":null,\\\"type\\\":\\\"js\\\",\\\"url\\\":\\\"/assetserver/dd22ed1bf1896c2748f3fe616ce0b838adc895c1-katex.min.js\\\"},{\\\"name\\\":null,\\\"type\\\":\\\"css\\\",\\\"url\\\":\\\"/assetserver/46517a424aa5e6cffc1360d7e0848b601c584ee3-katex.min.css\\\"}],\\\"type\\\":\\\"async_block\\\"})).then((imports) => handler.apply(this, imports));\\n}\\n\")])], Dict{Symbol, Any}(:className => \"interact-widget\")), WebIO.Node{WebIO.DOM}(WebIO.DOM(:html, :div), Any[WebIO.Scope(WebIO.Node{WebIO.DOM}(WebIO.DOM(:html, :button), Any[\"save\"], Dict{Symbol, Any}(:attributes => Dict{Any, Any}(\"data-bind\" => \"click: function (){this.clicks(this.clicks()+1)}, css: {'is-loading' : loading}\"), :className => \"is-medium button is-primary\", :style => Dict{String, Any}())), Dict{String, Tuple{Observables.AbstractObservable, Union{Nothing, Bool}}}(\"loading\" => (Observable(false), nothing), \"clicks\" => (Observable(0), nothing)), Set{String}(), nothing, WebIO.Asset[WebIO.Asset(\"js\", \"knockout\", \"/home/dushya/.julia/packages/Knockout/HReiN/src/../assets/knockout.js\"), WebIO.Asset(\"js\", \"knockout_punches\", \"/home/dushya/.julia/packages/Knockout/HReiN/src/../assets/knockout_punches.js\"), WebIO.Asset(\"js\", nothing, \"/home/dushya/.julia/packages/InteractBase/LJXv3/src/../assets/all.js\"), WebIO.Asset(\"css\", nothing, \"/home/dushya/.julia/packages/InteractBase/LJXv3/src/../assets/style.css\"), WebIO.Asset(\"css\", nothing, \"/home/dushya/.julia/packages/Interact/PENUy/src/../assets/bulma_confined.min.css\")], Dict{Any, Any}(\"loading\" => Any[WebIO.JSString(\"(function (val){return (val!=this.model[\\\"loading\\\"]()) ? (this.valueFromJulia[\\\"loading\\\"]=true, this.model[\\\"loading\\\"](val)) : undefined})\")], \"clicks\" => Any[WebIO.JSString(\"(function (val){return (val!=this.model[\\\"clicks\\\"]()) ? (this.valueFromJulia[\\\"clicks\\\"]=true, this.model[\\\"clicks\\\"](val)) : undefined})\")]), WebIO.ConnectionPool(Channel{Any}(32), Set{WebIO.AbstractConnection}(), Base.GenericCondition{ReentrantLock}(Base.IntrusiveLinkedList{Task}(Task (runnable) @0x00007fc19917a590, Task (runnable) @0x00007fc19917a590), ReentrantLock(nothing, 0x00000000, 0x00, Base.GenericCondition{Base.Threads.SpinLock}(Base.IntrusiveLinkedList{Task}(nothing, nothing), Base.Threads.SpinLock(0)), (2, 140471295917776, 140471319184624)))), WebIO.JSString[WebIO.JSString(\"function () {\\n    var handler = (function (ko, koPunches) {\\n    ko.punches.enableAll();\\n    ko.bindingHandlers.numericValue = {\\n        init: function(element, valueAccessor, allBindings, data, context) {\\n            var stringified = ko.observable(ko.unwrap(valueAccessor()));\\n            stringified.subscribe(function(value) {\\n                var val = parseFloat(value);\\n                if (!isNaN(val)) {\\n                    valueAccessor()(val);\\n                }\\n            });\\n            valueAccessor().subscribe(function(value) {\\n                var str = JSON.stringify(value);\\n                if ((str == \\\"0\\\") && ([\\\"-0\\\", \\\"-0.\\\"].indexOf(stringified()) >= 0))\\n                     return;\\n                 if ([\\\"null\\\", \\\"\\\"].indexOf(str) >= 0)\\n                     return;\\n                stringified(str);\\n            });\\n            ko.applyBindingsToNode(\\n                element,\\n                {\\n                    value: stringified,\\n                    valueUpdate: allBindings.get('valueUpdate'),\\n                },\\n                context,\\n            );\\n        }\\n    };\\n    var json_data = {\\\"loading\\\":WebIO.getval({\\\"name\\\":\\\"loading\\\",\\\"scope\\\":\\\"14045243826337883128\\\",\\\"id\\\":\\\"10250663491145785705\\\",\\\"type\\\":\\\"observable\\\"}),\\\"clicks\\\":WebIO.getval({\\\"name\\\":\\\"clicks\\\",\\\"scope\\\":\\\"14045243826337883128\\\",\\\"id\\\":\\\"8575666290916412605\\\",\\\"type\\\":\\\"observable\\\"})};\\n    var self = this;\\n    function AppViewModel() {\\n        for (var key in json_data) {\\n            var el = json_data[key];\\n            this[key] = Array.isArray(el) ? ko.observableArray(el) : ko.observable(el);\\n        }\\n        \\n        \\n        [this[\\\"loading\\\"].subscribe((function (val){!(this.valueFromJulia[\\\"loading\\\"]) ? (WebIO.setval({\\\"name\\\":\\\"loading\\\",\\\"scope\\\":\\\"14045243826337883128\\\",\\\"id\\\":\\\"10250663491145785705\\\",\\\"type\\\":\\\"observable\\\"},val)) : undefined; return this.valueFromJulia[\\\"loading\\\"]=false}),self),this[\\\"clicks\\\"].subscribe((function (val){!(this.valueFromJulia[\\\"clicks\\\"]) ? (WebIO.setval({\\\"name\\\":\\\"clicks\\\",\\\"scope\\\":\\\"14045243826337883128\\\",\\\"id\\\":\\\"8575666290916412605\\\",\\\"type\\\":\\\"observable\\\"},val)) : undefined; return this.valueFromJulia[\\\"clicks\\\"]=false}),self)]\\n        \\n    }\\n    self.model = new AppViewModel();\\n    self.valueFromJulia = {};\\n    for (var key in json_data) {\\n        self.valueFromJulia[key] = false;\\n    }\\n    ko.applyBindings(self.model, self.dom);\\n}\\n);\\n    (WebIO.importBlock({\\\"data\\\":[{\\\"name\\\":\\\"knockout\\\",\\\"type\\\":\\\"js\\\",\\\"url\\\":\\\"/assetserver/727383f2a47bd31570b7da84eee7b022dd6d7c78-knockout.js\\\"},{\\\"name\\\":\\\"knockout_punches\\\",\\\"type\\\":\\\"js\\\",\\\"url\\\":\\\"/assetserver/382b41b3b1bd9f26f75861d360bad7f8beea211f-knockout_punches.js\\\"}],\\\"type\\\":\\\"async_block\\\"})).then((imports) => handler.apply(this, imports));\\n}\\n\")])], Dict{Symbol, Any}(:className => \"field interact-widget\"))], Dict{Symbol, Any}(:style => Dict(\"display\" => \"flex\", \"flex-direction\" => \"row\")))], Dict{Symbol, Any}(:style => Dict(\"display\" => \"flex\", \"flex-direction\" => \"column\"))), WebIO.Node{WebIO.DOM}(WebIO.DOM(:html, :div), Any[WebIO.Scope(WebIO.Node{WebIO.DOM}(WebIO.DOM(:html, :div), Any[], Dict{Symbol, Any}(:id => \"container\")), Dict{String, Tuple{Observables.AbstractObservable, Union{Nothing, Bool}}}(\"value\" => (Observable(\"\\\\;\\\\;\"), nothing)), Set{String}(), nothing, WebIO.Asset[WebIO.Asset(\"js\", nothing, \"/home/dushya/.julia/packages/InteractBase/LJXv3/src/../assets/katex.min.js\"), WebIO.Asset(\"css\", nothing, \"/home/dushya/.julia/packages/InteractBase/LJXv3/src/../assets/katex.min.css\")], Dict{Any, Any}(\"value\" => Any[WebIO.JSString(\"(function (txt){return this.k.render(txt,this.container)})\")]), WebIO.ConnectionPool(Channel{Any}(32), Set{WebIO.AbstractConnection}(), Base.GenericCondition{ReentrantLock}(Base.IntrusiveLinkedList{Task}(Task (runnable) @0x00007fc206509aa0, Task (runnable) @0x00007fc206509aa0), ReentrantLock(nothing, 0x00000000, 0x00, Base.GenericCondition{Base.Threads.SpinLock}(Base.IntrusiveLinkedList{Task}(nothing, nothing), Base.Threads.SpinLock(0)), (0, 140471137188800, 140471137188800)))), WebIO.JSString[WebIO.JSString(\"function () {\\n    var handler = ((function (k){this.k=k; this.container=this.dom.querySelector(\\\"#container\\\"); return k.render(\\\"\\\\\\\\;\\\\\\\\;\\\",this.container)}));\\n    (WebIO.importBlock({\\\"data\\\":[{\\\"name\\\":null,\\\"type\\\":\\\"js\\\",\\\"url\\\":\\\"/assetserver/dd22ed1bf1896c2748f3fe616ce0b838adc895c1-katex.min.js\\\"},{\\\"name\\\":null,\\\"type\\\":\\\"css\\\",\\\"url\\\":\\\"/assetserver/46517a424aa5e6cffc1360d7e0848b601c584ee3-katex.min.css\\\"}],\\\"type\\\":\\\"async_block\\\"})).then((imports) => handler.apply(this, imports));\\n}\\n\")])], Dict{Symbol, Any}(:className => \"interact-widget\")), Observable(Luxor.Drawing(430.0, 430.0, \"\", Cairo.CairoSurfaceBase{UInt32}(Ptr{Nothing} @0x0000000000000000, 430.0, 430.0), Cairo.CairoContext(Ptr{Nothing} @0x00000000047c11b0, Cairo.CairoSurfaceBase{UInt32}(Ptr{Nothing} @0x0000000000000000, 430.0, 430.0), Ptr{Nothing} @0x0000000004dd5da0), :png, 0.0, 0.0, 0.0, 1.0, IOBuffer(data=UInt8[...], readable=true, writable=true, seekable=true, append=false, size=3476, maxsize=Inf, ptr=3477, mark=-1), UInt8[0x89, 0x50, 0x4e, 0x47, 0x0d, 0x0a, 0x1a, 0x0a, 0x00, 0x00  …  0x00, 0x00, 0x49, 0x45, 0x4e, 0x44, 0xae, 0x42, 0x60, 0x82], false)), WebIO.Node{WebIO.DOM}(WebIO.DOM(:html, :div), Any[WebIO.Scope(WebIO.Node{WebIO.DOM}(WebIO.DOM(:html, :div), Any[], Dict{Symbol, Any}(:id => \"container\")), Dict{String, Tuple{Observables.AbstractObservable, Union{Nothing, Bool}}}(\"value\" => (Observable(\"\\\\;\\\\;\"), nothing)), Set{String}(), nothing, WebIO.Asset[WebIO.Asset(\"js\", nothing, \"/home/dushya/.julia/packages/InteractBase/LJXv3/src/../assets/katex.min.js\"), WebIO.Asset(\"css\", nothing, \"/home/dushya/.julia/packages/InteractBase/LJXv3/src/../assets/katex.min.css\")], Dict{Any, Any}(\"value\" => Any[WebIO.JSString(\"(function (txt){return this.k.render(txt,this.container)})\")]), WebIO.ConnectionPool(Channel{Any}(32), Set{WebIO.AbstractConnection}(), Base.GenericCondition{ReentrantLock}(Base.IntrusiveLinkedList{Task}(Task (runnable) @0x00007fc206509aa0, Task (runnable) @0x00007fc206509aa0), ReentrantLock(nothing, 0x00000000, 0x00, Base.GenericCondition{Base.Threads.SpinLock}(Base.IntrusiveLinkedList{Task}(nothing, nothing), Base.Threads.SpinLock(0)), (0, 140471137188800, 140471137188800)))), WebIO.JSString[WebIO.JSString(\"function () {\\n    var handler = ((function (k){this.k=k; this.container=this.dom.querySelector(\\\"#container\\\"); return k.render(\\\"\\\\\\\\;\\\\\\\\;\\\",this.container)}));\\n    (WebIO.importBlock({\\\"data\\\":[{\\\"name\\\":null,\\\"type\\\":\\\"js\\\",\\\"url\\\":\\\"/assetserver/dd22ed1bf1896c2748f3fe616ce0b838adc895c1-katex.min.js\\\"},{\\\"name\\\":null,\\\"type\\\":\\\"css\\\",\\\"url\\\":\\\"/assetserver/46517a424aa5e6cffc1360d7e0848b601c584ee3-katex.min.css\\\"}],\\\"type\\\":\\\"async_block\\\"})).then((imports) => handler.apply(this, imports));\\n}\\n\")])], Dict{Symbol, Any}(:className => \"interact-widget\")), WebIO.Node{WebIO.DOM}(WebIO.DOM(:html, :div), Any[], Dict{Symbol, Any}(:style => Dict(\"display\" => \"flex\", \"flex-direction\" => \"column\")))], Dict{Symbol, Any}(:style => Dict(\"display\" => \"flex\", \"flex-direction\" => \"row\")))], Dict{Symbol, Any}(:style => Dict(\"display\" => \"flex\", \"flex-direction\" => \"column\")))"
      ]
     },
     "execution_count": 7,
     "metadata": {
      "application/vnd.webio.node+json": {
       "kernelId": "ecf7d646-f686-4884-9f7b-5855efce8b80"
      }
     },
     "output_type": "execute_result"
    }
   ],
   "source": [
    "animate_sim(model,tail = (30, agent -> agent.color == cl\"blue\"))"
   ]
  },
  {
   "cell_type": "code",
   "execution_count": 8,
   "metadata": {},
   "outputs": [
    {
     "name": "stdout",
     "output_type": "stream",
     "text": [
      "Model with name sun_planet_model saved as sun_planet.jld2 in folder .\n"
     ]
    }
   ],
   "source": [
    "save_model(model, model_name = \"sun_planet_model\", save_as = \"sun_planet.jld2\", folder = \".\")"
   ]
  },
  {
   "cell_type": "markdown",
   "metadata": {},
   "source": [
    "A model saved previously as jld2 file, can be fetched as follows "
   ]
  },
  {
   "cell_type": "code",
   "execution_count": 9,
   "metadata": {
    "scrolled": true
   },
   "outputs": [
    {
     "name": "stdout",
     "output_type": "stream",
     "text": [
      "Error opening file: MethodError(PropDict{Symbol, Any}, (), 0x0000000000008397)"
     ]
    }
   ],
   "source": [
    "saved_model = open_model(model_name = \"sun_planet_model\", path = \"sun_planet.jld2\")"
   ]
  },
  {
   "cell_type": "code",
   "execution_count": 10,
   "metadata": {},
   "outputs": [
    {
     "data": {
      "application/vnd.webio.node+json": {
       "children": [
        {
         "children": [
          {
           "children": [
            {
             "children": [
              {
               "children": [
                {
                 "children": [
                  {
                   "children": [
                    {
                     "children": [
                      "time"
                     ],
                     "instanceArgs": {
                      "namespace": "html",
                      "tag": "label"
                     },
                     "nodeType": "DOM",
                     "props": {
                      "className": "interact ",
                      "style": {
                       "padding": "5px 10px 0px 10px"
                      }
                     },
                     "type": "node"
                    }
                   ],
                   "instanceArgs": {
                    "namespace": "html",
                    "tag": "div"
                   },
                   "nodeType": "DOM",
                   "props": {
                    "className": "interact-flex-row-left"
                   },
                   "type": "node"
                  },
                  {
                   "children": [
                    {
                     "children": [],
                     "instanceArgs": {
                      "namespace": "html",
                      "tag": "input"
                     },
                     "nodeType": "DOM",
                     "props": {
                      "attributes": {
                       "data-bind": "numericValue: index, valueUpdate: 'input', event: {change: function (){this.changes(this.changes()+1)}}",
                       "orient": "horizontal",
                       "type": "range"
                      },
                      "className": "slider slider is-fullwidth",
                      "max": 501,
                      "min": 1,
                      "step": 1,
                      "style": {}
                     },
                     "type": "node"
                    }
                   ],
                   "instanceArgs": {
                    "namespace": "html",
                    "tag": "div"
                   },
                   "nodeType": "DOM",
                   "props": {
                    "className": "interact-flex-row-center"
                   },
                   "type": "node"
                  },
                  {
                   "children": [
                    {
                     "children": [],
                     "instanceArgs": {
                      "namespace": "html",
                      "tag": "p"
                     },
                     "nodeType": "DOM",
                     "props": {
                      "attributes": {
                       "data-bind": "text: formatted_val"
                      }
                     },
                     "type": "node"
                    }
                   ],
                   "instanceArgs": {
                    "namespace": "html",
                    "tag": "div"
                   },
                   "nodeType": "DOM",
                   "props": {
                    "className": "interact-flex-row-right"
                   },
                   "type": "node"
                  }
                 ],
                 "instanceArgs": {
                  "namespace": "html",
                  "tag": "div"
                 },
                 "nodeType": "DOM",
                 "props": {
                  "className": "interact-flex-row interact-widget"
                 },
                 "type": "node"
                }
               ],
               "instanceArgs": {
                "handlers": {
                 "changes": [
                  "(function (val){return (val!=this.model[\"changes\"]()) ? (this.valueFromJulia[\"changes\"]=true, this.model[\"changes\"](val)) : undefined})"
                 ],
                 "index": [
                  "(function (val){return (val!=this.model[\"index\"]()) ? (this.valueFromJulia[\"index\"]=true, this.model[\"index\"](val)) : undefined})"
                 ]
                },
                "id": "8387374769674877378",
                "imports": {
                 "data": [
                  {
                   "name": "knockout",
                   "type": "js",
                   "url": "/assetserver/727383f2a47bd31570b7da84eee7b022dd6d7c78-knockout.js"
                  },
                  {
                   "name": "knockout_punches",
                   "type": "js",
                   "url": "/assetserver/382b41b3b1bd9f26f75861d360bad7f8beea211f-knockout_punches.js"
                  },
                  {
                   "name": null,
                   "type": "js",
                   "url": "/assetserver/5ab20f1060420992a9b82a65b735dee4d81ef413-all.js"
                  },
                  {
                   "name": null,
                   "type": "css",
                   "url": "/assetserver/1cc0ed62837210b80a182cc3676512f895dab686-style.css"
                  },
                  {
                   "name": null,
                   "type": "css",
                   "url": "/assetserver/2eee816f616df3549d7044d45e744fbf8d42bfa1-bulma_confined.min.css"
                  }
                 ],
                 "type": "async_block"
                },
                "mount_callbacks": [
                 "function () {\n    var handler = (function (ko, koPunches) {\n    ko.punches.enableAll();\n    ko.bindingHandlers.numericValue = {\n        init: function(element, valueAccessor, allBindings, data, context) {\n            var stringified = ko.observable(ko.unwrap(valueAccessor()));\n            stringified.subscribe(function(value) {\n                var val = parseFloat(value);\n                if (!isNaN(val)) {\n                    valueAccessor()(val);\n                }\n            });\n            valueAccessor().subscribe(function(value) {\n                var str = JSON.stringify(value);\n                if ((str == \"0\") && ([\"-0\", \"-0.\"].indexOf(stringified()) >= 0))\n                     return;\n                 if ([\"null\", \"\"].indexOf(str) >= 0)\n                     return;\n                stringified(str);\n            });\n            ko.applyBindingsToNode(\n                element,\n                {\n                    value: stringified,\n                    valueUpdate: allBindings.get('valueUpdate'),\n                },\n                context,\n            );\n        }\n    };\n    var json_data = {\"formatted_vals\":[\"1\",\"2\",\"3\",\"4\",\"5\",\"6\",\"7\",\"8\",\"9\",\"10\",\"11\",\"12\",\"13\",\"14\",\"15\",\"16\",\"17\",\"18\",\"19\",\"20\",\"21\",\"22\",\"23\",\"24\",\"25\",\"26\",\"27\",\"28\",\"29\",\"30\",\"31\",\"32\",\"33\",\"34\",\"35\",\"36\",\"37\",\"38\",\"39\",\"40\",\"41\",\"42\",\"43\",\"44\",\"45\",\"46\",\"47\",\"48\",\"49\",\"50\",\"51\",\"52\",\"53\",\"54\",\"55\",\"56\",\"57\",\"58\",\"59\",\"60\",\"61\",\"62\",\"63\",\"64\",\"65\",\"66\",\"67\",\"68\",\"69\",\"70\",\"71\",\"72\",\"73\",\"74\",\"75\",\"76\",\"77\",\"78\",\"79\",\"80\",\"81\",\"82\",\"83\",\"84\",\"85\",\"86\",\"87\",\"88\",\"89\",\"90\",\"91\",\"92\",\"93\",\"94\",\"95\",\"96\",\"97\",\"98\",\"99\",\"100\",\"101\",\"102\",\"103\",\"104\",\"105\",\"106\",\"107\",\"108\",\"109\",\"110\",\"111\",\"112\",\"113\",\"114\",\"115\",\"116\",\"117\",\"118\",\"119\",\"120\",\"121\",\"122\",\"123\",\"124\",\"125\",\"126\",\"127\",\"128\",\"129\",\"130\",\"131\",\"132\",\"133\",\"134\",\"135\",\"136\",\"137\",\"138\",\"139\",\"140\",\"141\",\"142\",\"143\",\"144\",\"145\",\"146\",\"147\",\"148\",\"149\",\"150\",\"151\",\"152\",\"153\",\"154\",\"155\",\"156\",\"157\",\"158\",\"159\",\"160\",\"161\",\"162\",\"163\",\"164\",\"165\",\"166\",\"167\",\"168\",\"169\",\"170\",\"171\",\"172\",\"173\",\"174\",\"175\",\"176\",\"177\",\"178\",\"179\",\"180\",\"181\",\"182\",\"183\",\"184\",\"185\",\"186\",\"187\",\"188\",\"189\",\"190\",\"191\",\"192\",\"193\",\"194\",\"195\",\"196\",\"197\",\"198\",\"199\",\"200\",\"201\",\"202\",\"203\",\"204\",\"205\",\"206\",\"207\",\"208\",\"209\",\"210\",\"211\",\"212\",\"213\",\"214\",\"215\",\"216\",\"217\",\"218\",\"219\",\"220\",\"221\",\"222\",\"223\",\"224\",\"225\",\"226\",\"227\",\"228\",\"229\",\"230\",\"231\",\"232\",\"233\",\"234\",\"235\",\"236\",\"237\",\"238\",\"239\",\"240\",\"241\",\"242\",\"243\",\"244\",\"245\",\"246\",\"247\",\"248\",\"249\",\"250\",\"251\",\"252\",\"253\",\"254\",\"255\",\"256\",\"257\",\"258\",\"259\",\"260\",\"261\",\"262\",\"263\",\"264\",\"265\",\"266\",\"267\",\"268\",\"269\",\"270\",\"271\",\"272\",\"273\",\"274\",\"275\",\"276\",\"277\",\"278\",\"279\",\"280\",\"281\",\"282\",\"283\",\"284\",\"285\",\"286\",\"287\",\"288\",\"289\",\"290\",\"291\",\"292\",\"293\",\"294\",\"295\",\"296\",\"297\",\"298\",\"299\",\"300\",\"301\",\"302\",\"303\",\"304\",\"305\",\"306\",\"307\",\"308\",\"309\",\"310\",\"311\",\"312\",\"313\",\"314\",\"315\",\"316\",\"317\",\"318\",\"319\",\"320\",\"321\",\"322\",\"323\",\"324\",\"325\",\"326\",\"327\",\"328\",\"329\",\"330\",\"331\",\"332\",\"333\",\"334\",\"335\",\"336\",\"337\",\"338\",\"339\",\"340\",\"341\",\"342\",\"343\",\"344\",\"345\",\"346\",\"347\",\"348\",\"349\",\"350\",\"351\",\"352\",\"353\",\"354\",\"355\",\"356\",\"357\",\"358\",\"359\",\"360\",\"361\",\"362\",\"363\",\"364\",\"365\",\"366\",\"367\",\"368\",\"369\",\"370\",\"371\",\"372\",\"373\",\"374\",\"375\",\"376\",\"377\",\"378\",\"379\",\"380\",\"381\",\"382\",\"383\",\"384\",\"385\",\"386\",\"387\",\"388\",\"389\",\"390\",\"391\",\"392\",\"393\",\"394\",\"395\",\"396\",\"397\",\"398\",\"399\",\"400\",\"401\",\"402\",\"403\",\"404\",\"405\",\"406\",\"407\",\"408\",\"409\",\"410\",\"411\",\"412\",\"413\",\"414\",\"415\",\"416\",\"417\",\"418\",\"419\",\"420\",\"421\",\"422\",\"423\",\"424\",\"425\",\"426\",\"427\",\"428\",\"429\",\"430\",\"431\",\"432\",\"433\",\"434\",\"435\",\"436\",\"437\",\"438\",\"439\",\"440\",\"441\",\"442\",\"443\",\"444\",\"445\",\"446\",\"447\",\"448\",\"449\",\"450\",\"451\",\"452\",\"453\",\"454\",\"455\",\"456\",\"457\",\"458\",\"459\",\"460\",\"461\",\"462\",\"463\",\"464\",\"465\",\"466\",\"467\",\"468\",\"469\",\"470\",\"471\",\"472\",\"473\",\"474\",\"475\",\"476\",\"477\",\"478\",\"479\",\"480\",\"481\",\"482\",\"483\",\"484\",\"485\",\"486\",\"487\",\"488\",\"489\",\"490\",\"491\",\"492\",\"493\",\"494\",\"495\",\"496\",\"497\",\"498\",\"499\",\"500\",\"501\"],\"changes\":WebIO.getval({\"name\":\"changes\",\"scope\":\"8387374769674877378\",\"id\":\"12618199436969209982\",\"type\":\"observable\"}),\"index\":WebIO.getval({\"name\":\"index\",\"scope\":\"8387374769674877378\",\"id\":\"13004035569327216260\",\"type\":\"observable\"})};\n    var self = this;\n    function AppViewModel() {\n        for (var key in json_data) {\n            var el = json_data[key];\n            this[key] = Array.isArray(el) ? ko.observableArray(el) : ko.observable(el);\n        }\n        \n        [this[\"formatted_val\"]=ko.computed(    function(){\n        return this.formatted_vals()[parseInt(this.index())-(1)];\n    }\n,this)]\n        [this[\"changes\"].subscribe((function (val){!(this.valueFromJulia[\"changes\"]) ? (WebIO.setval({\"name\":\"changes\",\"scope\":\"8387374769674877378\",\"id\":\"12618199436969209982\",\"type\":\"observable\"},val)) : undefined; return this.valueFromJulia[\"changes\"]=false}),self),this[\"index\"].subscribe((function (val){!(this.valueFromJulia[\"index\"]) ? (WebIO.setval({\"name\":\"index\",\"scope\":\"8387374769674877378\",\"id\":\"13004035569327216260\",\"type\":\"observable\"},val)) : undefined; return this.valueFromJulia[\"index\"]=false}),self)]\n        \n    }\n    self.model = new AppViewModel();\n    self.valueFromJulia = {};\n    for (var key in json_data) {\n        self.valueFromJulia[key] = false;\n    }\n    ko.applyBindings(self.model, self.dom);\n}\n);\n    (WebIO.importBlock({\"data\":[{\"name\":\"knockout\",\"type\":\"js\",\"url\":\"/assetserver/727383f2a47bd31570b7da84eee7b022dd6d7c78-knockout.js\"},{\"name\":\"knockout_punches\",\"type\":\"js\",\"url\":\"/assetserver/382b41b3b1bd9f26f75861d360bad7f8beea211f-knockout_punches.js\"}],\"type\":\"async_block\"})).then((imports) => handler.apply(this, imports));\n}\n"
                ],
                "observables": {
                 "changes": {
                  "id": "12618199436969209982",
                  "sync": false,
                  "value": 0
                 },
                 "index": {
                  "id": "13004035569327216260",
                  "sync": true,
                  "value": 251
                 }
                },
                "systemjs_options": null
               },
               "nodeType": "Scope",
               "props": {},
               "type": "node"
              }
             ],
             "instanceArgs": {
              "namespace": "html",
              "tag": "div"
             },
             "nodeType": "DOM",
             "props": {
              "className": "field interact-widget"
             },
             "type": "node"
            },
            {
             "children": [
              {
               "children": [
                {
                 "children": [
                  {
                   "children": [
                    {
                     "children": [
                      "scale"
                     ],
                     "instanceArgs": {
                      "namespace": "html",
                      "tag": "label"
                     },
                     "nodeType": "DOM",
                     "props": {
                      "className": "interact ",
                      "style": {
                       "padding": "5px 10px 0px 10px"
                      }
                     },
                     "type": "node"
                    }
                   ],
                   "instanceArgs": {
                    "namespace": "html",
                    "tag": "div"
                   },
                   "nodeType": "DOM",
                   "props": {
                    "className": "interact-flex-row-left"
                   },
                   "type": "node"
                  },
                  {
                   "children": [
                    {
                     "children": [],
                     "instanceArgs": {
                      "namespace": "html",
                      "tag": "input"
                     },
                     "nodeType": "DOM",
                     "props": {
                      "attributes": {
                       "data-bind": "numericValue: index, valueUpdate: 'input', event: {change: function (){this.changes(this.changes()+1)}}",
                       "orient": "horizontal",
                       "type": "range"
                      },
                      "className": "slider slider is-fullwidth",
                      "max": 20,
                      "min": 1,
                      "step": 1,
                      "style": {}
                     },
                     "type": "node"
                    }
                   ],
                   "instanceArgs": {
                    "namespace": "html",
                    "tag": "div"
                   },
                   "nodeType": "DOM",
                   "props": {
                    "className": "interact-flex-row-center"
                   },
                   "type": "node"
                  },
                  {
                   "children": [
                    {
                     "children": [],
                     "instanceArgs": {
                      "namespace": "html",
                      "tag": "p"
                     },
                     "nodeType": "DOM",
                     "props": {
                      "attributes": {
                       "data-bind": "text: formatted_val"
                      }
                     },
                     "type": "node"
                    }
                   ],
                   "instanceArgs": {
                    "namespace": "html",
                    "tag": "div"
                   },
                   "nodeType": "DOM",
                   "props": {
                    "className": "interact-flex-row-right"
                   },
                   "type": "node"
                  }
                 ],
                 "instanceArgs": {
                  "namespace": "html",
                  "tag": "div"
                 },
                 "nodeType": "DOM",
                 "props": {
                  "className": "interact-flex-row interact-widget"
                 },
                 "type": "node"
                }
               ],
               "instanceArgs": {
                "handlers": {
                 "changes": [
                  "(function (val){return (val!=this.model[\"changes\"]()) ? (this.valueFromJulia[\"changes\"]=true, this.model[\"changes\"](val)) : undefined})"
                 ],
                 "index": [
                  "(function (val){return (val!=this.model[\"index\"]()) ? (this.valueFromJulia[\"index\"]=true, this.model[\"index\"](val)) : undefined})"
                 ]
                },
                "id": "16143291499542511897",
                "imports": {
                 "data": [
                  {
                   "name": "knockout",
                   "type": "js",
                   "url": "/assetserver/727383f2a47bd31570b7da84eee7b022dd6d7c78-knockout.js"
                  },
                  {
                   "name": "knockout_punches",
                   "type": "js",
                   "url": "/assetserver/382b41b3b1bd9f26f75861d360bad7f8beea211f-knockout_punches.js"
                  },
                  {
                   "name": null,
                   "type": "js",
                   "url": "/assetserver/5ab20f1060420992a9b82a65b735dee4d81ef413-all.js"
                  },
                  {
                   "name": null,
                   "type": "css",
                   "url": "/assetserver/1cc0ed62837210b80a182cc3676512f895dab686-style.css"
                  },
                  {
                   "name": null,
                   "type": "css",
                   "url": "/assetserver/2eee816f616df3549d7044d45e744fbf8d42bfa1-bulma_confined.min.css"
                  }
                 ],
                 "type": "async_block"
                },
                "mount_callbacks": [
                 "function () {\n    var handler = (function (ko, koPunches) {\n    ko.punches.enableAll();\n    ko.bindingHandlers.numericValue = {\n        init: function(element, valueAccessor, allBindings, data, context) {\n            var stringified = ko.observable(ko.unwrap(valueAccessor()));\n            stringified.subscribe(function(value) {\n                var val = parseFloat(value);\n                if (!isNaN(val)) {\n                    valueAccessor()(val);\n                }\n            });\n            valueAccessor().subscribe(function(value) {\n                var str = JSON.stringify(value);\n                if ((str == \"0\") && ([\"-0\", \"-0.\"].indexOf(stringified()) >= 0))\n                     return;\n                 if ([\"null\", \"\"].indexOf(str) >= 0)\n                     return;\n                stringified(str);\n            });\n            ko.applyBindingsToNode(\n                element,\n                {\n                    value: stringified,\n                    valueUpdate: allBindings.get('valueUpdate'),\n                },\n                context,\n            );\n        }\n    };\n    var json_data = {\"formatted_vals\":[\"0.1\",\"0.2\",\"0.3\",\"0.4\",\"0.5\",\"0.6\",\"0.7\",\"0.8\",\"0.9\",\"1.0\",\"1.1\",\"1.2\",\"1.3\",\"1.4\",\"1.5\",\"1.6\",\"1.7\",\"1.8\",\"1.9\",\"2.0\"],\"changes\":WebIO.getval({\"name\":\"changes\",\"scope\":\"16143291499542511897\",\"id\":\"4966506382862240494\",\"type\":\"observable\"}),\"index\":WebIO.getval({\"name\":\"index\",\"scope\":\"16143291499542511897\",\"id\":\"13473092038170883251\",\"type\":\"observable\"})};\n    var self = this;\n    function AppViewModel() {\n        for (var key in json_data) {\n            var el = json_data[key];\n            this[key] = Array.isArray(el) ? ko.observableArray(el) : ko.observable(el);\n        }\n        \n        [this[\"formatted_val\"]=ko.computed(    function(){\n        return this.formatted_vals()[parseInt(this.index())-(1)];\n    }\n,this)]\n        [this[\"changes\"].subscribe((function (val){!(this.valueFromJulia[\"changes\"]) ? (WebIO.setval({\"name\":\"changes\",\"scope\":\"16143291499542511897\",\"id\":\"4966506382862240494\",\"type\":\"observable\"},val)) : undefined; return this.valueFromJulia[\"changes\"]=false}),self),this[\"index\"].subscribe((function (val){!(this.valueFromJulia[\"index\"]) ? (WebIO.setval({\"name\":\"index\",\"scope\":\"16143291499542511897\",\"id\":\"13473092038170883251\",\"type\":\"observable\"},val)) : undefined; return this.valueFromJulia[\"index\"]=false}),self)]\n        \n    }\n    self.model = new AppViewModel();\n    self.valueFromJulia = {};\n    for (var key in json_data) {\n        self.valueFromJulia[key] = false;\n    }\n    ko.applyBindings(self.model, self.dom);\n}\n);\n    (WebIO.importBlock({\"data\":[{\"name\":\"knockout\",\"type\":\"js\",\"url\":\"/assetserver/727383f2a47bd31570b7da84eee7b022dd6d7c78-knockout.js\"},{\"name\":\"knockout_punches\",\"type\":\"js\",\"url\":\"/assetserver/382b41b3b1bd9f26f75861d360bad7f8beea211f-knockout_punches.js\"}],\"type\":\"async_block\"})).then((imports) => handler.apply(this, imports));\n}\n"
                ],
                "observables": {
                 "changes": {
                  "id": "4966506382862240494",
                  "sync": false,
                  "value": 0
                 },
                 "index": {
                  "id": "13473092038170883251",
                  "sync": true,
                  "value": 10
                 }
                },
                "systemjs_options": null
               },
               "nodeType": "Scope",
               "props": {},
               "type": "node"
              }
             ],
             "instanceArgs": {
              "namespace": "html",
              "tag": "div"
             },
             "nodeType": "DOM",
             "props": {
              "className": "field interact-widget"
             },
             "type": "node"
            },
            {
             "children": [
              {
               "children": [
                {
                 "children": [
                  {
                   "children": [],
                   "instanceArgs": {
                    "namespace": "html",
                    "tag": "div"
                   },
                   "nodeType": "DOM",
                   "props": {
                    "id": "container"
                   },
                   "type": "node"
                  }
                 ],
                 "instanceArgs": {
                  "handlers": {
                   "value": [
                    "(function (txt){return this.k.render(txt,this.container)})"
                   ]
                  },
                  "id": "3027279783759743180",
                  "imports": {
                   "data": [
                    {
                     "name": null,
                     "type": "js",
                     "url": "/assetserver/dd22ed1bf1896c2748f3fe616ce0b838adc895c1-katex.min.js"
                    },
                    {
                     "name": null,
                     "type": "css",
                     "url": "/assetserver/46517a424aa5e6cffc1360d7e0848b601c584ee3-katex.min.css"
                    }
                   ],
                   "type": "async_block"
                  },
                  "mount_callbacks": [
                   "function () {\n    var handler = ((function (k){this.k=k; this.container=this.dom.querySelector(\"#container\"); return k.render(\"\\\\;\\\\;\",this.container)}));\n    (WebIO.importBlock({\"data\":[{\"name\":null,\"type\":\"js\",\"url\":\"/assetserver/dd22ed1bf1896c2748f3fe616ce0b838adc895c1-katex.min.js\"},{\"name\":null,\"type\":\"css\",\"url\":\"/assetserver/46517a424aa5e6cffc1360d7e0848b601c584ee3-katex.min.css\"}],\"type\":\"async_block\"})).then((imports) => handler.apply(this, imports));\n}\n"
                  ],
                  "observables": {
                   "value": {
                    "id": "9085752627102848630",
                    "sync": false,
                    "value": "\\;\\;"
                   }
                  },
                  "systemjs_options": null
                 },
                 "nodeType": "Scope",
                 "props": {},
                 "type": "node"
                }
               ],
               "instanceArgs": {
                "namespace": "html",
                "tag": "div"
               },
               "nodeType": "DOM",
               "props": {
                "className": "interact-widget"
               },
               "type": "node"
              },
              {
               "children": [
                {
                 "children": [
                  {
                   "children": [
                    "run"
                   ],
                   "instanceArgs": {
                    "namespace": "html",
                    "tag": "button"
                   },
                   "nodeType": "DOM",
                   "props": {
                    "attributes": {
                     "data-bind": "click: function (){this.clicks(this.clicks()+1)}, css: {'is-loading' : loading}"
                    },
                    "className": "is-medium button is-primary",
                    "style": {}
                   },
                   "type": "node"
                  }
                 ],
                 "instanceArgs": {
                  "handlers": {
                   "clicks": [
                    "(function (val){return (val!=this.model[\"clicks\"]()) ? (this.valueFromJulia[\"clicks\"]=true, this.model[\"clicks\"](val)) : undefined})"
                   ],
                   "loading": [
                    "(function (val){return (val!=this.model[\"loading\"]()) ? (this.valueFromJulia[\"loading\"]=true, this.model[\"loading\"](val)) : undefined})"
                   ]
                  },
                  "id": "14588169212001676275",
                  "imports": {
                   "data": [
                    {
                     "name": "knockout",
                     "type": "js",
                     "url": "/assetserver/727383f2a47bd31570b7da84eee7b022dd6d7c78-knockout.js"
                    },
                    {
                     "name": "knockout_punches",
                     "type": "js",
                     "url": "/assetserver/382b41b3b1bd9f26f75861d360bad7f8beea211f-knockout_punches.js"
                    },
                    {
                     "name": null,
                     "type": "js",
                     "url": "/assetserver/5ab20f1060420992a9b82a65b735dee4d81ef413-all.js"
                    },
                    {
                     "name": null,
                     "type": "css",
                     "url": "/assetserver/1cc0ed62837210b80a182cc3676512f895dab686-style.css"
                    },
                    {
                     "name": null,
                     "type": "css",
                     "url": "/assetserver/2eee816f616df3549d7044d45e744fbf8d42bfa1-bulma_confined.min.css"
                    }
                   ],
                   "type": "async_block"
                  },
                  "mount_callbacks": [
                   "function () {\n    var handler = (function (ko, koPunches) {\n    ko.punches.enableAll();\n    ko.bindingHandlers.numericValue = {\n        init: function(element, valueAccessor, allBindings, data, context) {\n            var stringified = ko.observable(ko.unwrap(valueAccessor()));\n            stringified.subscribe(function(value) {\n                var val = parseFloat(value);\n                if (!isNaN(val)) {\n                    valueAccessor()(val);\n                }\n            });\n            valueAccessor().subscribe(function(value) {\n                var str = JSON.stringify(value);\n                if ((str == \"0\") && ([\"-0\", \"-0.\"].indexOf(stringified()) >= 0))\n                     return;\n                 if ([\"null\", \"\"].indexOf(str) >= 0)\n                     return;\n                stringified(str);\n            });\n            ko.applyBindingsToNode(\n                element,\n                {\n                    value: stringified,\n                    valueUpdate: allBindings.get('valueUpdate'),\n                },\n                context,\n            );\n        }\n    };\n    var json_data = {\"loading\":WebIO.getval({\"name\":\"loading\",\"scope\":\"14588169212001676275\",\"id\":\"16772934910110350594\",\"type\":\"observable\"}),\"clicks\":WebIO.getval({\"name\":\"clicks\",\"scope\":\"14588169212001676275\",\"id\":\"7141107516931660809\",\"type\":\"observable\"})};\n    var self = this;\n    function AppViewModel() {\n        for (var key in json_data) {\n            var el = json_data[key];\n            this[key] = Array.isArray(el) ? ko.observableArray(el) : ko.observable(el);\n        }\n        \n        \n        [this[\"loading\"].subscribe((function (val){!(this.valueFromJulia[\"loading\"]) ? (WebIO.setval({\"name\":\"loading\",\"scope\":\"14588169212001676275\",\"id\":\"16772934910110350594\",\"type\":\"observable\"},val)) : undefined; return this.valueFromJulia[\"loading\"]=false}),self),this[\"clicks\"].subscribe((function (val){!(this.valueFromJulia[\"clicks\"]) ? (WebIO.setval({\"name\":\"clicks\",\"scope\":\"14588169212001676275\",\"id\":\"7141107516931660809\",\"type\":\"observable\"},val)) : undefined; return this.valueFromJulia[\"clicks\"]=false}),self)]\n        \n    }\n    self.model = new AppViewModel();\n    self.valueFromJulia = {};\n    for (var key in json_data) {\n        self.valueFromJulia[key] = false;\n    }\n    ko.applyBindings(self.model, self.dom);\n}\n);\n    (WebIO.importBlock({\"data\":[{\"name\":\"knockout\",\"type\":\"js\",\"url\":\"/assetserver/727383f2a47bd31570b7da84eee7b022dd6d7c78-knockout.js\"},{\"name\":\"knockout_punches\",\"type\":\"js\",\"url\":\"/assetserver/382b41b3b1bd9f26f75861d360bad7f8beea211f-knockout_punches.js\"}],\"type\":\"async_block\"})).then((imports) => handler.apply(this, imports));\n}\n"
                  ],
                  "observables": {
                   "clicks": {
                    "id": "7141107516931660809",
                    "sync": true,
                    "value": 0
                   },
                   "loading": {
                    "id": "16772934910110350594",
                    "sync": false,
                    "value": false
                   }
                  },
                  "systemjs_options": null
                 },
                 "nodeType": "Scope",
                 "props": {},
                 "type": "node"
                }
               ],
               "instanceArgs": {
                "namespace": "html",
                "tag": "div"
               },
               "nodeType": "DOM",
               "props": {
                "className": "field interact-widget"
               },
               "type": "node"
              },
              {
               "children": [
                {
                 "children": [
                  {
                   "children": [],
                   "instanceArgs": {
                    "namespace": "html",
                    "tag": "div"
                   },
                   "nodeType": "DOM",
                   "props": {
                    "id": "container"
                   },
                   "type": "node"
                  }
                 ],
                 "instanceArgs": {
                  "handlers": {
                   "value": [
                    "(function (txt){return this.k.render(txt,this.container)})"
                   ]
                  },
                  "id": "3027279783759743180",
                  "imports": {
                   "data": [
                    {
                     "name": null,
                     "type": "js",
                     "url": "/assetserver/dd22ed1bf1896c2748f3fe616ce0b838adc895c1-katex.min.js"
                    },
                    {
                     "name": null,
                     "type": "css",
                     "url": "/assetserver/46517a424aa5e6cffc1360d7e0848b601c584ee3-katex.min.css"
                    }
                   ],
                   "type": "async_block"
                  },
                  "mount_callbacks": [
                   "function () {\n    var handler = ((function (k){this.k=k; this.container=this.dom.querySelector(\"#container\"); return k.render(\"\\\\;\\\\;\",this.container)}));\n    (WebIO.importBlock({\"data\":[{\"name\":null,\"type\":\"js\",\"url\":\"/assetserver/dd22ed1bf1896c2748f3fe616ce0b838adc895c1-katex.min.js\"},{\"name\":null,\"type\":\"css\",\"url\":\"/assetserver/46517a424aa5e6cffc1360d7e0848b601c584ee3-katex.min.css\"}],\"type\":\"async_block\"})).then((imports) => handler.apply(this, imports));\n}\n"
                  ],
                  "observables": {
                   "value": {
                    "id": "9085752627102848630",
                    "sync": false,
                    "value": "\\;\\;"
                   }
                  },
                  "systemjs_options": null
                 },
                 "nodeType": "Scope",
                 "props": {},
                 "type": "node"
                }
               ],
               "instanceArgs": {
                "namespace": "html",
                "tag": "div"
               },
               "nodeType": "DOM",
               "props": {
                "className": "interact-widget"
               },
               "type": "node"
              },
              {
               "children": [
                {
                 "children": [
                  {
                   "children": [
                    "stop"
                   ],
                   "instanceArgs": {
                    "namespace": "html",
                    "tag": "button"
                   },
                   "nodeType": "DOM",
                   "props": {
                    "attributes": {
                     "data-bind": "click: function (){this.clicks(this.clicks()+1)}, css: {'is-loading' : loading}"
                    },
                    "className": "is-medium button is-primary",
                    "style": {}
                   },
                   "type": "node"
                  }
                 ],
                 "instanceArgs": {
                  "handlers": {
                   "clicks": [
                    "(function (val){return (val!=this.model[\"clicks\"]()) ? (this.valueFromJulia[\"clicks\"]=true, this.model[\"clicks\"](val)) : undefined})"
                   ],
                   "loading": [
                    "(function (val){return (val!=this.model[\"loading\"]()) ? (this.valueFromJulia[\"loading\"]=true, this.model[\"loading\"](val)) : undefined})"
                   ]
                  },
                  "id": "12059177776280029268",
                  "imports": {
                   "data": [
                    {
                     "name": "knockout",
                     "type": "js",
                     "url": "/assetserver/727383f2a47bd31570b7da84eee7b022dd6d7c78-knockout.js"
                    },
                    {
                     "name": "knockout_punches",
                     "type": "js",
                     "url": "/assetserver/382b41b3b1bd9f26f75861d360bad7f8beea211f-knockout_punches.js"
                    },
                    {
                     "name": null,
                     "type": "js",
                     "url": "/assetserver/5ab20f1060420992a9b82a65b735dee4d81ef413-all.js"
                    },
                    {
                     "name": null,
                     "type": "css",
                     "url": "/assetserver/1cc0ed62837210b80a182cc3676512f895dab686-style.css"
                    },
                    {
                     "name": null,
                     "type": "css",
                     "url": "/assetserver/2eee816f616df3549d7044d45e744fbf8d42bfa1-bulma_confined.min.css"
                    }
                   ],
                   "type": "async_block"
                  },
                  "mount_callbacks": [
                   "function () {\n    var handler = (function (ko, koPunches) {\n    ko.punches.enableAll();\n    ko.bindingHandlers.numericValue = {\n        init: function(element, valueAccessor, allBindings, data, context) {\n            var stringified = ko.observable(ko.unwrap(valueAccessor()));\n            stringified.subscribe(function(value) {\n                var val = parseFloat(value);\n                if (!isNaN(val)) {\n                    valueAccessor()(val);\n                }\n            });\n            valueAccessor().subscribe(function(value) {\n                var str = JSON.stringify(value);\n                if ((str == \"0\") && ([\"-0\", \"-0.\"].indexOf(stringified()) >= 0))\n                     return;\n                 if ([\"null\", \"\"].indexOf(str) >= 0)\n                     return;\n                stringified(str);\n            });\n            ko.applyBindingsToNode(\n                element,\n                {\n                    value: stringified,\n                    valueUpdate: allBindings.get('valueUpdate'),\n                },\n                context,\n            );\n        }\n    };\n    var json_data = {\"loading\":WebIO.getval({\"name\":\"loading\",\"scope\":\"12059177776280029268\",\"id\":\"17681226139648519561\",\"type\":\"observable\"}),\"clicks\":WebIO.getval({\"name\":\"clicks\",\"scope\":\"12059177776280029268\",\"id\":\"423590706521687981\",\"type\":\"observable\"})};\n    var self = this;\n    function AppViewModel() {\n        for (var key in json_data) {\n            var el = json_data[key];\n            this[key] = Array.isArray(el) ? ko.observableArray(el) : ko.observable(el);\n        }\n        \n        \n        [this[\"loading\"].subscribe((function (val){!(this.valueFromJulia[\"loading\"]) ? (WebIO.setval({\"name\":\"loading\",\"scope\":\"12059177776280029268\",\"id\":\"17681226139648519561\",\"type\":\"observable\"},val)) : undefined; return this.valueFromJulia[\"loading\"]=false}),self),this[\"clicks\"].subscribe((function (val){!(this.valueFromJulia[\"clicks\"]) ? (WebIO.setval({\"name\":\"clicks\",\"scope\":\"12059177776280029268\",\"id\":\"423590706521687981\",\"type\":\"observable\"},val)) : undefined; return this.valueFromJulia[\"clicks\"]=false}),self)]\n        \n    }\n    self.model = new AppViewModel();\n    self.valueFromJulia = {};\n    for (var key in json_data) {\n        self.valueFromJulia[key] = false;\n    }\n    ko.applyBindings(self.model, self.dom);\n}\n);\n    (WebIO.importBlock({\"data\":[{\"name\":\"knockout\",\"type\":\"js\",\"url\":\"/assetserver/727383f2a47bd31570b7da84eee7b022dd6d7c78-knockout.js\"},{\"name\":\"knockout_punches\",\"type\":\"js\",\"url\":\"/assetserver/382b41b3b1bd9f26f75861d360bad7f8beea211f-knockout_punches.js\"}],\"type\":\"async_block\"})).then((imports) => handler.apply(this, imports));\n}\n"
                  ],
                  "observables": {
                   "clicks": {
                    "id": "423590706521687981",
                    "sync": true,
                    "value": 0
                   },
                   "loading": {
                    "id": "17681226139648519561",
                    "sync": false,
                    "value": false
                   }
                  },
                  "systemjs_options": null
                 },
                 "nodeType": "Scope",
                 "props": {},
                 "type": "node"
                }
               ],
               "instanceArgs": {
                "namespace": "html",
                "tag": "div"
               },
               "nodeType": "DOM",
               "props": {
                "className": "field interact-widget"
               },
               "type": "node"
              },
              {
               "children": [
                {
                 "children": [
                  {
                   "children": [],
                   "instanceArgs": {
                    "namespace": "html",
                    "tag": "div"
                   },
                   "nodeType": "DOM",
                   "props": {
                    "id": "container"
                   },
                   "type": "node"
                  }
                 ],
                 "instanceArgs": {
                  "handlers": {
                   "value": [
                    "(function (txt){return this.k.render(txt,this.container)})"
                   ]
                  },
                  "id": "3027279783759743180",
                  "imports": {
                   "data": [
                    {
                     "name": null,
                     "type": "js",
                     "url": "/assetserver/dd22ed1bf1896c2748f3fe616ce0b838adc895c1-katex.min.js"
                    },
                    {
                     "name": null,
                     "type": "css",
                     "url": "/assetserver/46517a424aa5e6cffc1360d7e0848b601c584ee3-katex.min.css"
                    }
                   ],
                   "type": "async_block"
                  },
                  "mount_callbacks": [
                   "function () {\n    var handler = ((function (k){this.k=k; this.container=this.dom.querySelector(\"#container\"); return k.render(\"\\\\;\\\\;\",this.container)}));\n    (WebIO.importBlock({\"data\":[{\"name\":null,\"type\":\"js\",\"url\":\"/assetserver/dd22ed1bf1896c2748f3fe616ce0b838adc895c1-katex.min.js\"},{\"name\":null,\"type\":\"css\",\"url\":\"/assetserver/46517a424aa5e6cffc1360d7e0848b601c584ee3-katex.min.css\"}],\"type\":\"async_block\"})).then((imports) => handler.apply(this, imports));\n}\n"
                  ],
                  "observables": {
                   "value": {
                    "id": "9085752627102848630",
                    "sync": false,
                    "value": "\\;\\;"
                   }
                  },
                  "systemjs_options": null
                 },
                 "nodeType": "Scope",
                 "props": {},
                 "type": "node"
                }
               ],
               "instanceArgs": {
                "namespace": "html",
                "tag": "div"
               },
               "nodeType": "DOM",
               "props": {
                "className": "interact-widget"
               },
               "type": "node"
              },
              {
               "children": [
                {
                 "children": [
                  {
                   "children": [
                    "save"
                   ],
                   "instanceArgs": {
                    "namespace": "html",
                    "tag": "button"
                   },
                   "nodeType": "DOM",
                   "props": {
                    "attributes": {
                     "data-bind": "click: function (){this.clicks(this.clicks()+1)}, css: {'is-loading' : loading}"
                    },
                    "className": "is-medium button is-primary",
                    "style": {}
                   },
                   "type": "node"
                  }
                 ],
                 "instanceArgs": {
                  "handlers": {
                   "clicks": [
                    "(function (val){return (val!=this.model[\"clicks\"]()) ? (this.valueFromJulia[\"clicks\"]=true, this.model[\"clicks\"](val)) : undefined})"
                   ],
                   "loading": [
                    "(function (val){return (val!=this.model[\"loading\"]()) ? (this.valueFromJulia[\"loading\"]=true, this.model[\"loading\"](val)) : undefined})"
                   ]
                  },
                  "id": "1135260246483243779",
                  "imports": {
                   "data": [
                    {
                     "name": "knockout",
                     "type": "js",
                     "url": "/assetserver/727383f2a47bd31570b7da84eee7b022dd6d7c78-knockout.js"
                    },
                    {
                     "name": "knockout_punches",
                     "type": "js",
                     "url": "/assetserver/382b41b3b1bd9f26f75861d360bad7f8beea211f-knockout_punches.js"
                    },
                    {
                     "name": null,
                     "type": "js",
                     "url": "/assetserver/5ab20f1060420992a9b82a65b735dee4d81ef413-all.js"
                    },
                    {
                     "name": null,
                     "type": "css",
                     "url": "/assetserver/1cc0ed62837210b80a182cc3676512f895dab686-style.css"
                    },
                    {
                     "name": null,
                     "type": "css",
                     "url": "/assetserver/2eee816f616df3549d7044d45e744fbf8d42bfa1-bulma_confined.min.css"
                    }
                   ],
                   "type": "async_block"
                  },
                  "mount_callbacks": [
                   "function () {\n    var handler = (function (ko, koPunches) {\n    ko.punches.enableAll();\n    ko.bindingHandlers.numericValue = {\n        init: function(element, valueAccessor, allBindings, data, context) {\n            var stringified = ko.observable(ko.unwrap(valueAccessor()));\n            stringified.subscribe(function(value) {\n                var val = parseFloat(value);\n                if (!isNaN(val)) {\n                    valueAccessor()(val);\n                }\n            });\n            valueAccessor().subscribe(function(value) {\n                var str = JSON.stringify(value);\n                if ((str == \"0\") && ([\"-0\", \"-0.\"].indexOf(stringified()) >= 0))\n                     return;\n                 if ([\"null\", \"\"].indexOf(str) >= 0)\n                     return;\n                stringified(str);\n            });\n            ko.applyBindingsToNode(\n                element,\n                {\n                    value: stringified,\n                    valueUpdate: allBindings.get('valueUpdate'),\n                },\n                context,\n            );\n        }\n    };\n    var json_data = {\"loading\":WebIO.getval({\"name\":\"loading\",\"scope\":\"1135260246483243779\",\"id\":\"10138669370670612116\",\"type\":\"observable\"}),\"clicks\":WebIO.getval({\"name\":\"clicks\",\"scope\":\"1135260246483243779\",\"id\":\"2765553655198277194\",\"type\":\"observable\"})};\n    var self = this;\n    function AppViewModel() {\n        for (var key in json_data) {\n            var el = json_data[key];\n            this[key] = Array.isArray(el) ? ko.observableArray(el) : ko.observable(el);\n        }\n        \n        \n        [this[\"loading\"].subscribe((function (val){!(this.valueFromJulia[\"loading\"]) ? (WebIO.setval({\"name\":\"loading\",\"scope\":\"1135260246483243779\",\"id\":\"10138669370670612116\",\"type\":\"observable\"},val)) : undefined; return this.valueFromJulia[\"loading\"]=false}),self),this[\"clicks\"].subscribe((function (val){!(this.valueFromJulia[\"clicks\"]) ? (WebIO.setval({\"name\":\"clicks\",\"scope\":\"1135260246483243779\",\"id\":\"2765553655198277194\",\"type\":\"observable\"},val)) : undefined; return this.valueFromJulia[\"clicks\"]=false}),self)]\n        \n    }\n    self.model = new AppViewModel();\n    self.valueFromJulia = {};\n    for (var key in json_data) {\n        self.valueFromJulia[key] = false;\n    }\n    ko.applyBindings(self.model, self.dom);\n}\n);\n    (WebIO.importBlock({\"data\":[{\"name\":\"knockout\",\"type\":\"js\",\"url\":\"/assetserver/727383f2a47bd31570b7da84eee7b022dd6d7c78-knockout.js\"},{\"name\":\"knockout_punches\",\"type\":\"js\",\"url\":\"/assetserver/382b41b3b1bd9f26f75861d360bad7f8beea211f-knockout_punches.js\"}],\"type\":\"async_block\"})).then((imports) => handler.apply(this, imports));\n}\n"
                  ],
                  "observables": {
                   "clicks": {
                    "id": "2765553655198277194",
                    "sync": true,
                    "value": 0
                   },
                   "loading": {
                    "id": "10138669370670612116",
                    "sync": false,
                    "value": false
                   }
                  },
                  "systemjs_options": null
                 },
                 "nodeType": "Scope",
                 "props": {},
                 "type": "node"
                }
               ],
               "instanceArgs": {
                "namespace": "html",
                "tag": "div"
               },
               "nodeType": "DOM",
               "props": {
                "className": "field interact-widget"
               },
               "type": "node"
              }
             ],
             "instanceArgs": {
              "namespace": "html",
              "tag": "div"
             },
             "nodeType": "DOM",
             "props": {
              "style": {
               "display": "flex",
               "flex-direction": "row"
              }
             },
             "type": "node"
            }
           ],
           "instanceArgs": {
            "namespace": "html",
            "tag": "div"
           },
           "nodeType": "DOM",
           "props": {
            "style": {
             "display": "flex",
             "flex-direction": "column"
            }
           },
           "type": "node"
          },
          {
           "children": [
            {
             "children": [
              {
               "children": [],
               "instanceArgs": {
                "namespace": "html",
                "tag": "div"
               },
               "nodeType": "DOM",
               "props": {
                "id": "container"
               },
               "type": "node"
              }
             ],
             "instanceArgs": {
              "handlers": {
               "value": [
                "(function (txt){return this.k.render(txt,this.container)})"
               ]
              },
              "id": "3027279783759743180",
              "imports": {
               "data": [
                {
                 "name": null,
                 "type": "js",
                 "url": "/assetserver/dd22ed1bf1896c2748f3fe616ce0b838adc895c1-katex.min.js"
                },
                {
                 "name": null,
                 "type": "css",
                 "url": "/assetserver/46517a424aa5e6cffc1360d7e0848b601c584ee3-katex.min.css"
                }
               ],
               "type": "async_block"
              },
              "mount_callbacks": [
               "function () {\n    var handler = ((function (k){this.k=k; this.container=this.dom.querySelector(\"#container\"); return k.render(\"\\\\;\\\\;\",this.container)}));\n    (WebIO.importBlock({\"data\":[{\"name\":null,\"type\":\"js\",\"url\":\"/assetserver/dd22ed1bf1896c2748f3fe616ce0b838adc895c1-katex.min.js\"},{\"name\":null,\"type\":\"css\",\"url\":\"/assetserver/46517a424aa5e6cffc1360d7e0848b601c584ee3-katex.min.css\"}],\"type\":\"async_block\"})).then((imports) => handler.apply(this, imports));\n}\n"
              ],
              "observables": {
               "value": {
                "id": "9085752627102848630",
                "sync": false,
                "value": "\\;\\;"
               }
              },
              "systemjs_options": null
             },
             "nodeType": "Scope",
             "props": {},
             "type": "node"
            }
           ],
           "instanceArgs": {
            "namespace": "html",
            "tag": "div"
           },
           "nodeType": "DOM",
           "props": {
            "className": "interact-widget"
           },
           "type": "node"
          },
          {
           "children": [
            {
             "children": [],
             "instanceArgs": {
              "namespace": "html",
              "tag": "div"
             },
             "nodeType": "DOM",
             "props": {
              "className": "webio-observable",
              "setInnerHtml": "<img src='data:image/png;base64,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'></img>"
             },
             "type": "node"
            }
           ],
           "instanceArgs": {
            "handlers": {
             "obs-output": [
              "function (value, scope) {\n    scope.setInnerHTML(value);\n}\n"
             ]
            },
            "id": "14649024839700127625",
            "imports": {
             "data": [],
             "type": "async_block"
            },
            "mount_callbacks": [],
            "observables": {
             "obs-output": {
              "id": "4097789589592878962",
              "sync": false,
              "value": "<img src='data:image/png;base64,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'></img>"
             }
            },
            "systemjs_options": null
           },
           "nodeType": "Scope",
           "props": {},
           "type": "node"
          },
          {
           "children": [
            {
             "children": [
              {
               "children": [],
               "instanceArgs": {
                "namespace": "html",
                "tag": "div"
               },
               "nodeType": "DOM",
               "props": {
                "id": "container"
               },
               "type": "node"
              }
             ],
             "instanceArgs": {
              "handlers": {
               "value": [
                "(function (txt){return this.k.render(txt,this.container)})"
               ]
              },
              "id": "3027279783759743180",
              "imports": {
               "data": [
                {
                 "name": null,
                 "type": "js",
                 "url": "/assetserver/dd22ed1bf1896c2748f3fe616ce0b838adc895c1-katex.min.js"
                },
                {
                 "name": null,
                 "type": "css",
                 "url": "/assetserver/46517a424aa5e6cffc1360d7e0848b601c584ee3-katex.min.css"
                }
               ],
               "type": "async_block"
              },
              "mount_callbacks": [
               "function () {\n    var handler = ((function (k){this.k=k; this.container=this.dom.querySelector(\"#container\"); return k.render(\"\\\\;\\\\;\",this.container)}));\n    (WebIO.importBlock({\"data\":[{\"name\":null,\"type\":\"js\",\"url\":\"/assetserver/dd22ed1bf1896c2748f3fe616ce0b838adc895c1-katex.min.js\"},{\"name\":null,\"type\":\"css\",\"url\":\"/assetserver/46517a424aa5e6cffc1360d7e0848b601c584ee3-katex.min.css\"}],\"type\":\"async_block\"})).then((imports) => handler.apply(this, imports));\n}\n"
              ],
              "observables": {
               "value": {
                "id": "9085752627102848630",
                "sync": false,
                "value": "\\;\\;"
               }
              },
              "systemjs_options": null
             },
             "nodeType": "Scope",
             "props": {},
             "type": "node"
            }
           ],
           "instanceArgs": {
            "namespace": "html",
            "tag": "div"
           },
           "nodeType": "DOM",
           "props": {
            "className": "interact-widget"
           },
           "type": "node"
          },
          {
           "children": [],
           "instanceArgs": {
            "namespace": "html",
            "tag": "div"
           },
           "nodeType": "DOM",
           "props": {
            "style": {
             "display": "flex",
             "flex-direction": "column"
            }
           },
           "type": "node"
          }
         ],
         "instanceArgs": {
          "namespace": "html",
          "tag": "div"
         },
         "nodeType": "DOM",
         "props": {
          "style": {
           "display": "flex",
           "flex-direction": "row"
          }
         },
         "type": "node"
        }
       ],
       "instanceArgs": {
        "namespace": "html",
        "tag": "div"
       },
       "nodeType": "DOM",
       "props": {
        "style": {
         "display": "flex",
         "flex-direction": "column"
        }
       },
       "type": "node"
      },
      "text/html": [
       "<div\n",
       "    class=\"webio-mountpoint\"\n",
       "    data-webio-mountpoint=\"8521694816040260687\"\n",
       ">\n",
       "    <script>\n",
       "    (function(){\n",
       "    // Some integrations (namely, IJulia/Jupyter) use an alternate render pathway than\n",
       "    // just putting the html on the page. If WebIO isn't defined, then it's pretty likely\n",
       "    // that we're in one of those situations and the integration just isn't installed\n",
       "    // correctly.\n",
       "    if (typeof window.WebIO === \"undefined\") {\n",
       "        document\n",
       "            .querySelector('[data-webio-mountpoint=\"8521694816040260687\"]')\n",
       "            .innerHTML = (\n",
       "                '<div style=\"padding: 1em; background-color: #f8d6da; border: 1px solid #f5c6cb; font-weight: bold;\">' +\n",
       "                '<p><strong>WebIO not detected.</strong></p>' +\n",
       "                '<p>Please read ' +\n",
       "                '<a href=\"https://juliagizmos.github.io/WebIO.jl/latest/troubleshooting/not-detected/\" target=\"_blank\">the troubleshooting guide</a> ' +\n",
       "                'for more information on how to resolve this issue.</p>' +\n",
       "                '<p><a href=\"https://juliagizmos.github.io/WebIO.jl/latest/troubleshooting/not-detected/\" target=\"_blank\">https://juliagizmos.github.io/WebIO.jl/latest/troubleshooting/not-detected/</a></p>' +\n",
       "                '</div>'\n",
       "            );\n",
       "        return;\n",
       "    }\n",
       "    WebIO.mount(\n",
       "        document.querySelector('[data-webio-mountpoint=\"8521694816040260687\"]'),\n",
       "        {\"props\":{\"style\":{\"display\":\"flex\",\"flex-direction\":\"column\"}},\"nodeType\":\"DOM\",\"type\":\"node\",\"instanceArgs\":{\"namespace\":\"html\",\"tag\":\"div\"},\"children\":[{\"props\":{\"style\":{\"display\":\"flex\",\"flex-direction\":\"row\"}},\"nodeType\":\"DOM\",\"type\":\"node\",\"instanceArgs\":{\"namespace\":\"html\",\"tag\":\"div\"},\"children\":[{\"props\":{\"style\":{\"display\":\"flex\",\"flex-direction\":\"column\"}},\"nodeType\":\"DOM\",\"type\":\"node\",\"instanceArgs\":{\"namespace\":\"html\",\"tag\":\"div\"},\"children\":[{\"props\":{\"className\":\"field interact-widget\"},\"nodeType\":\"DOM\",\"type\":\"node\",\"instanceArgs\":{\"namespace\":\"html\",\"tag\":\"div\"},\"children\":[{\"props\":{},\"nodeType\":\"Scope\",\"type\":\"node\",\"instanceArgs\":{\"imports\":{\"data\":[{\"name\":\"knockout\",\"type\":\"js\",\"url\":\"\\/assetserver\\/727383f2a47bd31570b7da84eee7b022dd6d7c78-knockout.js\"},{\"name\":\"knockout_punches\",\"type\":\"js\",\"url\":\"\\/assetserver\\/382b41b3b1bd9f26f75861d360bad7f8beea211f-knockout_punches.js\"},{\"name\":null,\"type\":\"js\",\"url\":\"\\/assetserver\\/5ab20f1060420992a9b82a65b735dee4d81ef413-all.js\"},{\"name\":null,\"type\":\"css\",\"url\":\"\\/assetserver\\/1cc0ed62837210b80a182cc3676512f895dab686-style.css\"},{\"name\":null,\"type\":\"css\",\"url\":\"\\/assetserver\\/2eee816f616df3549d7044d45e744fbf8d42bfa1-bulma_confined.min.css\"}],\"type\":\"async_block\"},\"id\":\"8387374769674877378\",\"handlers\":{\"changes\":[\"(function (val){return (val!=this.model[\\\"changes\\\"]()) ? (this.valueFromJulia[\\\"changes\\\"]=true, this.model[\\\"changes\\\"](val)) : undefined})\"],\"index\":[\"(function (val){return (val!=this.model[\\\"index\\\"]()) ? (this.valueFromJulia[\\\"index\\\"]=true, this.model[\\\"index\\\"](val)) : undefined})\"]},\"systemjs_options\":null,\"mount_callbacks\":[\"function () {\\n    var handler = (function (ko, koPunches) {\\n    ko.punches.enableAll();\\n    ko.bindingHandlers.numericValue = {\\n        init: function(element, valueAccessor, allBindings, data, context) {\\n            var stringified = ko.observable(ko.unwrap(valueAccessor()));\\n            stringified.subscribe(function(value) {\\n                var val = parseFloat(value);\\n                if (!isNaN(val)) {\\n                    valueAccessor()(val);\\n                }\\n            });\\n            valueAccessor().subscribe(function(value) {\\n                var str = JSON.stringify(value);\\n                if ((str == \\\"0\\\") && ([\\\"-0\\\", \\\"-0.\\\"].indexOf(stringified()) >= 0))\\n                     return;\\n                 if ([\\\"null\\\", \\\"\\\"].indexOf(str) >= 0)\\n                     return;\\n                stringified(str);\\n            });\\n            ko.applyBindingsToNode(\\n                element,\\n                {\\n                    value: stringified,\\n                    valueUpdate: allBindings.get('valueUpdate'),\\n                },\\n                context,\\n            );\\n        }\\n    };\\n    var json_data = {\\\"formatted_vals\\\":[\\\"1\\\",\\\"2\\\",\\\"3\\\",\\\"4\\\",\\\"5\\\",\\\"6\\\",\\\"7\\\",\\\"8\\\",\\\"9\\\",\\\"10\\\",\\\"11\\\",\\\"12\\\",\\\"13\\\",\\\"14\\\",\\\"15\\\",\\\"16\\\",\\\"17\\\",\\\"18\\\",\\\"19\\\",\\\"20\\\",\\\"21\\\",\\\"22\\\",\\\"23\\\",\\\"24\\\",\\\"25\\\",\\\"26\\\",\\\"27\\\",\\\"28\\\",\\\"29\\\",\\\"30\\\",\\\"31\\\",\\\"32\\\",\\\"33\\\",\\\"34\\\",\\\"35\\\",\\\"36\\\",\\\"37\\\",\\\"38\\\",\\\"39\\\",\\\"40\\\",\\\"41\\\",\\\"42\\\",\\\"43\\\",\\\"44\\\",\\\"45\\\",\\\"46\\\",\\\"47\\\",\\\"48\\\",\\\"49\\\",\\\"50\\\",\\\"51\\\",\\\"52\\\",\\\"53\\\",\\\"54\\\",\\\"55\\\",\\\"56\\\",\\\"57\\\",\\\"58\\\",\\\"59\\\",\\\"60\\\",\\\"61\\\",\\\"62\\\",\\\"63\\\",\\\"64\\\",\\\"65\\\",\\\"66\\\",\\\"67\\\",\\\"68\\\",\\\"69\\\",\\\"70\\\",\\\"71\\\",\\\"72\\\",\\\"73\\\",\\\"74\\\",\\\"75\\\",\\\"76\\\",\\\"77\\\",\\\"78\\\",\\\"79\\\",\\\"80\\\",\\\"81\\\",\\\"82\\\",\\\"83\\\",\\\"84\\\",\\\"85\\\",\\\"86\\\",\\\"87\\\",\\\"88\\\",\\\"89\\\",\\\"90\\\",\\\"91\\\",\\\"92\\\",\\\"93\\\",\\\"94\\\",\\\"95\\\",\\\"96\\\",\\\"97\\\",\\\"98\\\",\\\"99\\\",\\\"100\\\",\\\"101\\\",\\\"102\\\",\\\"103\\\",\\\"104\\\",\\\"105\\\",\\\"106\\\",\\\"107\\\",\\\"108\\\",\\\"109\\\",\\\"110\\\",\\\"111\\\",\\\"112\\\",\\\"113\\\",\\\"114\\\",\\\"115\\\",\\\"116\\\",\\\"117\\\",\\\"118\\\",\\\"119\\\",\\\"120\\\",\\\"121\\\",\\\"122\\\",\\\"123\\\",\\\"124\\\",\\\"125\\\",\\\"126\\\",\\\"127\\\",\\\"128\\\",\\\"129\\\",\\\"130\\\",\\\"131\\\",\\\"132\\\",\\\"133\\\",\\\"134\\\",\\\"135\\\",\\\"136\\\",\\\"137\\\",\\\"138\\\",\\\"139\\\",\\\"140\\\",\\\"141\\\",\\\"142\\\",\\\"143\\\",\\\"144\\\",\\\"145\\\",\\\"146\\\",\\\"147\\\",\\\"148\\\",\\\"149\\\",\\\"150\\\",\\\"151\\\",\\\"152\\\",\\\"153\\\",\\\"154\\\",\\\"155\\\",\\\"156\\\",\\\"157\\\",\\\"158\\\",\\\"159\\\",\\\"160\\\",\\\"161\\\",\\\"162\\\",\\\"163\\\",\\\"164\\\",\\\"165\\\",\\\"166\\\",\\\"167\\\",\\\"168\\\",\\\"169\\\",\\\"170\\\",\\\"171\\\",\\\"172\\\",\\\"173\\\",\\\"174\\\",\\\"175\\\",\\\"176\\\",\\\"177\\\",\\\"178\\\",\\\"179\\\",\\\"180\\\",\\\"181\\\",\\\"182\\\",\\\"183\\\",\\\"184\\\",\\\"185\\\",\\\"186\\\",\\\"187\\\",\\\"188\\\",\\\"189\\\",\\\"190\\\",\\\"191\\\",\\\"192\\\",\\\"193\\\",\\\"194\\\",\\\"195\\\",\\\"196\\\",\\\"197\\\",\\\"198\\\",\\\"199\\\",\\\"200\\\",\\\"201\\\",\\\"202\\\",\\\"203\\\",\\\"204\\\",\\\"205\\\",\\\"206\\\",\\\"207\\\",\\\"208\\\",\\\"209\\\",\\\"210\\\",\\\"211\\\",\\\"212\\\",\\\"213\\\",\\\"214\\\",\\\"215\\\",\\\"216\\\",\\\"217\\\",\\\"218\\\",\\\"219\\\",\\\"220\\\",\\\"221\\\",\\\"222\\\",\\\"223\\\",\\\"224\\\",\\\"225\\\",\\\"226\\\",\\\"227\\\",\\\"228\\\",\\\"229\\\",\\\"230\\\",\\\"231\\\",\\\"232\\\",\\\"233\\\",\\\"234\\\",\\\"235\\\",\\\"236\\\",\\\"237\\\",\\\"238\\\",\\\"239\\\",\\\"240\\\",\\\"241\\\",\\\"242\\\",\\\"243\\\",\\\"244\\\",\\\"245\\\",\\\"246\\\",\\\"247\\\",\\\"248\\\",\\\"249\\\",\\\"250\\\",\\\"251\\\",\\\"252\\\",\\\"253\\\",\\\"254\\\",\\\"255\\\",\\\"256\\\",\\\"257\\\",\\\"258\\\",\\\"259\\\",\\\"260\\\",\\\"261\\\",\\\"262\\\",\\\"263\\\",\\\"264\\\",\\\"265\\\",\\\"266\\\",\\\"267\\\",\\\"268\\\",\\\"269\\\",\\\"270\\\",\\\"271\\\",\\\"272\\\",\\\"273\\\",\\\"274\\\",\\\"275\\\",\\\"276\\\",\\\"277\\\",\\\"278\\\",\\\"279\\\",\\\"280\\\",\\\"281\\\",\\\"282\\\",\\\"283\\\",\\\"284\\\",\\\"285\\\",\\\"286\\\",\\\"287\\\",\\\"288\\\",\\\"289\\\",\\\"290\\\",\\\"291\\\",\\\"292\\\",\\\"293\\\",\\\"294\\\",\\\"295\\\",\\\"296\\\",\\\"297\\\",\\\"298\\\",\\\"299\\\",\\\"300\\\",\\\"301\\\",\\\"302\\\",\\\"303\\\",\\\"304\\\",\\\"305\\\",\\\"306\\\",\\\"307\\\",\\\"308\\\",\\\"309\\\",\\\"310\\\",\\\"311\\\",\\\"312\\\",\\\"313\\\",\\\"314\\\",\\\"315\\\",\\\"316\\\",\\\"317\\\",\\\"318\\\",\\\"319\\\",\\\"320\\\",\\\"321\\\",\\\"322\\\",\\\"323\\\",\\\"324\\\",\\\"325\\\",\\\"326\\\",\\\"327\\\",\\\"328\\\",\\\"329\\\",\\\"330\\\",\\\"331\\\",\\\"332\\\",\\\"333\\\",\\\"334\\\",\\\"335\\\",\\\"336\\\",\\\"337\\\",\\\"338\\\",\\\"339\\\",\\\"340\\\",\\\"341\\\",\\\"342\\\",\\\"343\\\",\\\"344\\\",\\\"345\\\",\\\"346\\\",\\\"347\\\",\\\"348\\\",\\\"349\\\",\\\"350\\\",\\\"351\\\",\\\"352\\\",\\\"353\\\",\\\"354\\\",\\\"355\\\",\\\"356\\\",\\\"357\\\",\\\"358\\\",\\\"359\\\",\\\"360\\\",\\\"361\\\",\\\"362\\\",\\\"363\\\",\\\"364\\\",\\\"365\\\",\\\"366\\\",\\\"367\\\",\\\"368\\\",\\\"369\\\",\\\"370\\\",\\\"371\\\",\\\"372\\\",\\\"373\\\",\\\"374\\\",\\\"375\\\",\\\"376\\\",\\\"377\\\",\\\"378\\\",\\\"379\\\",\\\"380\\\",\\\"381\\\",\\\"382\\\",\\\"383\\\",\\\"384\\\",\\\"385\\\",\\\"386\\\",\\\"387\\\",\\\"388\\\",\\\"389\\\",\\\"390\\\",\\\"391\\\",\\\"392\\\",\\\"393\\\",\\\"394\\\",\\\"395\\\",\\\"396\\\",\\\"397\\\",\\\"398\\\",\\\"399\\\",\\\"400\\\",\\\"401\\\",\\\"402\\\",\\\"403\\\",\\\"404\\\",\\\"405\\\",\\\"406\\\",\\\"407\\\",\\\"408\\\",\\\"409\\\",\\\"410\\\",\\\"411\\\",\\\"412\\\",\\\"413\\\",\\\"414\\\",\\\"415\\\",\\\"416\\\",\\\"417\\\",\\\"418\\\",\\\"419\\\",\\\"420\\\",\\\"421\\\",\\\"422\\\",\\\"423\\\",\\\"424\\\",\\\"425\\\",\\\"426\\\",\\\"427\\\",\\\"428\\\",\\\"429\\\",\\\"430\\\",\\\"431\\\",\\\"432\\\",\\\"433\\\",\\\"434\\\",\\\"435\\\",\\\"436\\\",\\\"437\\\",\\\"438\\\",\\\"439\\\",\\\"440\\\",\\\"441\\\",\\\"442\\\",\\\"443\\\",\\\"444\\\",\\\"445\\\",\\\"446\\\",\\\"447\\\",\\\"448\\\",\\\"449\\\",\\\"450\\\",\\\"451\\\",\\\"452\\\",\\\"453\\\",\\\"454\\\",\\\"455\\\",\\\"456\\\",\\\"457\\\",\\\"458\\\",\\\"459\\\",\\\"460\\\",\\\"461\\\",\\\"462\\\",\\\"463\\\",\\\"464\\\",\\\"465\\\",\\\"466\\\",\\\"467\\\",\\\"468\\\",\\\"469\\\",\\\"470\\\",\\\"471\\\",\\\"472\\\",\\\"473\\\",\\\"474\\\",\\\"475\\\",\\\"476\\\",\\\"477\\\",\\\"478\\\",\\\"479\\\",\\\"480\\\",\\\"481\\\",\\\"482\\\",\\\"483\\\",\\\"484\\\",\\\"485\\\",\\\"486\\\",\\\"487\\\",\\\"488\\\",\\\"489\\\",\\\"490\\\",\\\"491\\\",\\\"492\\\",\\\"493\\\",\\\"494\\\",\\\"495\\\",\\\"496\\\",\\\"497\\\",\\\"498\\\",\\\"499\\\",\\\"500\\\",\\\"501\\\"],\\\"changes\\\":WebIO.getval({\\\"name\\\":\\\"changes\\\",\\\"scope\\\":\\\"8387374769674877378\\\",\\\"id\\\":\\\"12618199436969209982\\\",\\\"type\\\":\\\"observable\\\"}),\\\"index\\\":WebIO.getval({\\\"name\\\":\\\"index\\\",\\\"scope\\\":\\\"8387374769674877378\\\",\\\"id\\\":\\\"13004035569327216260\\\",\\\"type\\\":\\\"observable\\\"})};\\n    var self = this;\\n    function AppViewModel() {\\n        for (var key in json_data) {\\n            var el = json_data[key];\\n            this[key] = Array.isArray(el) ? ko.observableArray(el) : ko.observable(el);\\n        }\\n        \\n        [this[\\\"formatted_val\\\"]=ko.computed(    function(){\\n        return this.formatted_vals()[parseInt(this.index())-(1)];\\n    }\\n,this)]\\n        [this[\\\"changes\\\"].subscribe((function (val){!(this.valueFromJulia[\\\"changes\\\"]) ? (WebIO.setval({\\\"name\\\":\\\"changes\\\",\\\"scope\\\":\\\"8387374769674877378\\\",\\\"id\\\":\\\"12618199436969209982\\\",\\\"type\\\":\\\"observable\\\"},val)) : undefined; return this.valueFromJulia[\\\"changes\\\"]=false}),self),this[\\\"index\\\"].subscribe((function (val){!(this.valueFromJulia[\\\"index\\\"]) ? (WebIO.setval({\\\"name\\\":\\\"index\\\",\\\"scope\\\":\\\"8387374769674877378\\\",\\\"id\\\":\\\"13004035569327216260\\\",\\\"type\\\":\\\"observable\\\"},val)) : undefined; return this.valueFromJulia[\\\"index\\\"]=false}),self)]\\n        \\n    }\\n    self.model = new AppViewModel();\\n    self.valueFromJulia = {};\\n    for (var key in json_data) {\\n        self.valueFromJulia[key] = false;\\n    }\\n    ko.applyBindings(self.model, self.dom);\\n}\\n);\\n    (WebIO.importBlock({\\\"data\\\":[{\\\"name\\\":\\\"knockout\\\",\\\"type\\\":\\\"js\\\",\\\"url\\\":\\\"\\/assetserver\\/727383f2a47bd31570b7da84eee7b022dd6d7c78-knockout.js\\\"},{\\\"name\\\":\\\"knockout_punches\\\",\\\"type\\\":\\\"js\\\",\\\"url\\\":\\\"\\/assetserver\\/382b41b3b1bd9f26f75861d360bad7f8beea211f-knockout_punches.js\\\"}],\\\"type\\\":\\\"async_block\\\"})).then((imports) => handler.apply(this, imports));\\n}\\n\"],\"observables\":{\"changes\":{\"sync\":false,\"id\":\"12618199436969209982\",\"value\":0},\"index\":{\"sync\":true,\"id\":\"13004035569327216260\",\"value\":251}}},\"children\":[{\"props\":{\"className\":\"interact-flex-row interact-widget\"},\"nodeType\":\"DOM\",\"type\":\"node\",\"instanceArgs\":{\"namespace\":\"html\",\"tag\":\"div\"},\"children\":[{\"props\":{\"className\":\"interact-flex-row-left\"},\"nodeType\":\"DOM\",\"type\":\"node\",\"instanceArgs\":{\"namespace\":\"html\",\"tag\":\"div\"},\"children\":[{\"props\":{\"className\":\"interact \",\"style\":{\"padding\":\"5px 10px 0px 10px\"}},\"nodeType\":\"DOM\",\"type\":\"node\",\"instanceArgs\":{\"namespace\":\"html\",\"tag\":\"label\"},\"children\":[\"time\"]}]},{\"props\":{\"className\":\"interact-flex-row-center\"},\"nodeType\":\"DOM\",\"type\":\"node\",\"instanceArgs\":{\"namespace\":\"html\",\"tag\":\"div\"},\"children\":[{\"props\":{\"max\":501,\"min\":1,\"attributes\":{\"type\":\"range\",\"data-bind\":\"numericValue: index, valueUpdate: 'input', event: {change: function (){this.changes(this.changes()+1)}}\",\"orient\":\"horizontal\"},\"step\":1,\"className\":\"slider slider is-fullwidth\",\"style\":{}},\"nodeType\":\"DOM\",\"type\":\"node\",\"instanceArgs\":{\"namespace\":\"html\",\"tag\":\"input\"},\"children\":[]}]},{\"props\":{\"className\":\"interact-flex-row-right\"},\"nodeType\":\"DOM\",\"type\":\"node\",\"instanceArgs\":{\"namespace\":\"html\",\"tag\":\"div\"},\"children\":[{\"props\":{\"attributes\":{\"data-bind\":\"text: formatted_val\"}},\"nodeType\":\"DOM\",\"type\":\"node\",\"instanceArgs\":{\"namespace\":\"html\",\"tag\":\"p\"},\"children\":[]}]}]}]}]},{\"props\":{\"className\":\"field interact-widget\"},\"nodeType\":\"DOM\",\"type\":\"node\",\"instanceArgs\":{\"namespace\":\"html\",\"tag\":\"div\"},\"children\":[{\"props\":{},\"nodeType\":\"Scope\",\"type\":\"node\",\"instanceArgs\":{\"imports\":{\"data\":[{\"name\":\"knockout\",\"type\":\"js\",\"url\":\"\\/assetserver\\/727383f2a47bd31570b7da84eee7b022dd6d7c78-knockout.js\"},{\"name\":\"knockout_punches\",\"type\":\"js\",\"url\":\"\\/assetserver\\/382b41b3b1bd9f26f75861d360bad7f8beea211f-knockout_punches.js\"},{\"name\":null,\"type\":\"js\",\"url\":\"\\/assetserver\\/5ab20f1060420992a9b82a65b735dee4d81ef413-all.js\"},{\"name\":null,\"type\":\"css\",\"url\":\"\\/assetserver\\/1cc0ed62837210b80a182cc3676512f895dab686-style.css\"},{\"name\":null,\"type\":\"css\",\"url\":\"\\/assetserver\\/2eee816f616df3549d7044d45e744fbf8d42bfa1-bulma_confined.min.css\"}],\"type\":\"async_block\"},\"id\":\"16143291499542511897\",\"handlers\":{\"changes\":[\"(function (val){return (val!=this.model[\\\"changes\\\"]()) ? (this.valueFromJulia[\\\"changes\\\"]=true, this.model[\\\"changes\\\"](val)) : undefined})\"],\"index\":[\"(function (val){return (val!=this.model[\\\"index\\\"]()) ? (this.valueFromJulia[\\\"index\\\"]=true, this.model[\\\"index\\\"](val)) : undefined})\"]},\"systemjs_options\":null,\"mount_callbacks\":[\"function () {\\n    var handler = (function (ko, koPunches) {\\n    ko.punches.enableAll();\\n    ko.bindingHandlers.numericValue = {\\n        init: function(element, valueAccessor, allBindings, data, context) {\\n            var stringified = ko.observable(ko.unwrap(valueAccessor()));\\n            stringified.subscribe(function(value) {\\n                var val = parseFloat(value);\\n                if (!isNaN(val)) {\\n                    valueAccessor()(val);\\n                }\\n            });\\n            valueAccessor().subscribe(function(value) {\\n                var str = JSON.stringify(value);\\n                if ((str == \\\"0\\\") && ([\\\"-0\\\", \\\"-0.\\\"].indexOf(stringified()) >= 0))\\n                     return;\\n                 if ([\\\"null\\\", \\\"\\\"].indexOf(str) >= 0)\\n                     return;\\n                stringified(str);\\n            });\\n            ko.applyBindingsToNode(\\n                element,\\n                {\\n                    value: stringified,\\n                    valueUpdate: allBindings.get('valueUpdate'),\\n                },\\n                context,\\n            );\\n        }\\n    };\\n    var json_data = {\\\"formatted_vals\\\":[\\\"0.1\\\",\\\"0.2\\\",\\\"0.3\\\",\\\"0.4\\\",\\\"0.5\\\",\\\"0.6\\\",\\\"0.7\\\",\\\"0.8\\\",\\\"0.9\\\",\\\"1.0\\\",\\\"1.1\\\",\\\"1.2\\\",\\\"1.3\\\",\\\"1.4\\\",\\\"1.5\\\",\\\"1.6\\\",\\\"1.7\\\",\\\"1.8\\\",\\\"1.9\\\",\\\"2.0\\\"],\\\"changes\\\":WebIO.getval({\\\"name\\\":\\\"changes\\\",\\\"scope\\\":\\\"16143291499542511897\\\",\\\"id\\\":\\\"4966506382862240494\\\",\\\"type\\\":\\\"observable\\\"}),\\\"index\\\":WebIO.getval({\\\"name\\\":\\\"index\\\",\\\"scope\\\":\\\"16143291499542511897\\\",\\\"id\\\":\\\"13473092038170883251\\\",\\\"type\\\":\\\"observable\\\"})};\\n    var self = this;\\n    function AppViewModel() {\\n        for (var key in json_data) {\\n            var el = json_data[key];\\n            this[key] = Array.isArray(el) ? ko.observableArray(el) : ko.observable(el);\\n        }\\n        \\n        [this[\\\"formatted_val\\\"]=ko.computed(    function(){\\n        return this.formatted_vals()[parseInt(this.index())-(1)];\\n    }\\n,this)]\\n        [this[\\\"changes\\\"].subscribe((function (val){!(this.valueFromJulia[\\\"changes\\\"]) ? (WebIO.setval({\\\"name\\\":\\\"changes\\\",\\\"scope\\\":\\\"16143291499542511897\\\",\\\"id\\\":\\\"4966506382862240494\\\",\\\"type\\\":\\\"observable\\\"},val)) : undefined; return this.valueFromJulia[\\\"changes\\\"]=false}),self),this[\\\"index\\\"].subscribe((function (val){!(this.valueFromJulia[\\\"index\\\"]) ? (WebIO.setval({\\\"name\\\":\\\"index\\\",\\\"scope\\\":\\\"16143291499542511897\\\",\\\"id\\\":\\\"13473092038170883251\\\",\\\"type\\\":\\\"observable\\\"},val)) : undefined; return this.valueFromJulia[\\\"index\\\"]=false}),self)]\\n        \\n    }\\n    self.model = new AppViewModel();\\n    self.valueFromJulia = {};\\n    for (var key in json_data) {\\n        self.valueFromJulia[key] = false;\\n    }\\n    ko.applyBindings(self.model, self.dom);\\n}\\n);\\n    (WebIO.importBlock({\\\"data\\\":[{\\\"name\\\":\\\"knockout\\\",\\\"type\\\":\\\"js\\\",\\\"url\\\":\\\"\\/assetserver\\/727383f2a47bd31570b7da84eee7b022dd6d7c78-knockout.js\\\"},{\\\"name\\\":\\\"knockout_punches\\\",\\\"type\\\":\\\"js\\\",\\\"url\\\":\\\"\\/assetserver\\/382b41b3b1bd9f26f75861d360bad7f8beea211f-knockout_punches.js\\\"}],\\\"type\\\":\\\"async_block\\\"})).then((imports) => handler.apply(this, imports));\\n}\\n\"],\"observables\":{\"changes\":{\"sync\":false,\"id\":\"4966506382862240494\",\"value\":0},\"index\":{\"sync\":true,\"id\":\"13473092038170883251\",\"value\":10}}},\"children\":[{\"props\":{\"className\":\"interact-flex-row interact-widget\"},\"nodeType\":\"DOM\",\"type\":\"node\",\"instanceArgs\":{\"namespace\":\"html\",\"tag\":\"div\"},\"children\":[{\"props\":{\"className\":\"interact-flex-row-left\"},\"nodeType\":\"DOM\",\"type\":\"node\",\"instanceArgs\":{\"namespace\":\"html\",\"tag\":\"div\"},\"children\":[{\"props\":{\"className\":\"interact \",\"style\":{\"padding\":\"5px 10px 0px 10px\"}},\"nodeType\":\"DOM\",\"type\":\"node\",\"instanceArgs\":{\"namespace\":\"html\",\"tag\":\"label\"},\"children\":[\"scale\"]}]},{\"props\":{\"className\":\"interact-flex-row-center\"},\"nodeType\":\"DOM\",\"type\":\"node\",\"instanceArgs\":{\"namespace\":\"html\",\"tag\":\"div\"},\"children\":[{\"props\":{\"max\":20,\"min\":1,\"attributes\":{\"type\":\"range\",\"data-bind\":\"numericValue: index, valueUpdate: 'input', event: {change: function (){this.changes(this.changes()+1)}}\",\"orient\":\"horizontal\"},\"step\":1,\"className\":\"slider slider is-fullwidth\",\"style\":{}},\"nodeType\":\"DOM\",\"type\":\"node\",\"instanceArgs\":{\"namespace\":\"html\",\"tag\":\"input\"},\"children\":[]}]},{\"props\":{\"className\":\"interact-flex-row-right\"},\"nodeType\":\"DOM\",\"type\":\"node\",\"instanceArgs\":{\"namespace\":\"html\",\"tag\":\"div\"},\"children\":[{\"props\":{\"attributes\":{\"data-bind\":\"text: formatted_val\"}},\"nodeType\":\"DOM\",\"type\":\"node\",\"instanceArgs\":{\"namespace\":\"html\",\"tag\":\"p\"},\"children\":[]}]}]}]}]},{\"props\":{\"style\":{\"display\":\"flex\",\"flex-direction\":\"row\"}},\"nodeType\":\"DOM\",\"type\":\"node\",\"instanceArgs\":{\"namespace\":\"html\",\"tag\":\"div\"},\"children\":[{\"props\":{\"className\":\"interact-widget\"},\"nodeType\":\"DOM\",\"type\":\"node\",\"instanceArgs\":{\"namespace\":\"html\",\"tag\":\"div\"},\"children\":[{\"props\":{},\"nodeType\":\"Scope\",\"type\":\"node\",\"instanceArgs\":{\"imports\":{\"data\":[{\"name\":null,\"type\":\"js\",\"url\":\"\\/assetserver\\/dd22ed1bf1896c2748f3fe616ce0b838adc895c1-katex.min.js\"},{\"name\":null,\"type\":\"css\",\"url\":\"\\/assetserver\\/46517a424aa5e6cffc1360d7e0848b601c584ee3-katex.min.css\"}],\"type\":\"async_block\"},\"id\":\"3027279783759743180\",\"handlers\":{\"value\":[\"(function (txt){return this.k.render(txt,this.container)})\"]},\"systemjs_options\":null,\"mount_callbacks\":[\"function () {\\n    var handler = ((function (k){this.k=k; this.container=this.dom.querySelector(\\\"#container\\\"); return k.render(\\\"\\\\\\\\;\\\\\\\\;\\\",this.container)}));\\n    (WebIO.importBlock({\\\"data\\\":[{\\\"name\\\":null,\\\"type\\\":\\\"js\\\",\\\"url\\\":\\\"\\/assetserver\\/dd22ed1bf1896c2748f3fe616ce0b838adc895c1-katex.min.js\\\"},{\\\"name\\\":null,\\\"type\\\":\\\"css\\\",\\\"url\\\":\\\"\\/assetserver\\/46517a424aa5e6cffc1360d7e0848b601c584ee3-katex.min.css\\\"}],\\\"type\\\":\\\"async_block\\\"})).then((imports) => handler.apply(this, imports));\\n}\\n\"],\"observables\":{\"value\":{\"sync\":false,\"id\":\"9085752627102848630\",\"value\":\"\\\\;\\\\;\"}}},\"children\":[{\"props\":{\"id\":\"container\"},\"nodeType\":\"DOM\",\"type\":\"node\",\"instanceArgs\":{\"namespace\":\"html\",\"tag\":\"div\"},\"children\":[]}]}]},{\"props\":{\"className\":\"field interact-widget\"},\"nodeType\":\"DOM\",\"type\":\"node\",\"instanceArgs\":{\"namespace\":\"html\",\"tag\":\"div\"},\"children\":[{\"props\":{},\"nodeType\":\"Scope\",\"type\":\"node\",\"instanceArgs\":{\"imports\":{\"data\":[{\"name\":\"knockout\",\"type\":\"js\",\"url\":\"\\/assetserver\\/727383f2a47bd31570b7da84eee7b022dd6d7c78-knockout.js\"},{\"name\":\"knockout_punches\",\"type\":\"js\",\"url\":\"\\/assetserver\\/382b41b3b1bd9f26f75861d360bad7f8beea211f-knockout_punches.js\"},{\"name\":null,\"type\":\"js\",\"url\":\"\\/assetserver\\/5ab20f1060420992a9b82a65b735dee4d81ef413-all.js\"},{\"name\":null,\"type\":\"css\",\"url\":\"\\/assetserver\\/1cc0ed62837210b80a182cc3676512f895dab686-style.css\"},{\"name\":null,\"type\":\"css\",\"url\":\"\\/assetserver\\/2eee816f616df3549d7044d45e744fbf8d42bfa1-bulma_confined.min.css\"}],\"type\":\"async_block\"},\"id\":\"14588169212001676275\",\"handlers\":{\"loading\":[\"(function (val){return (val!=this.model[\\\"loading\\\"]()) ? (this.valueFromJulia[\\\"loading\\\"]=true, this.model[\\\"loading\\\"](val)) : undefined})\"],\"clicks\":[\"(function (val){return (val!=this.model[\\\"clicks\\\"]()) ? (this.valueFromJulia[\\\"clicks\\\"]=true, this.model[\\\"clicks\\\"](val)) : undefined})\"]},\"systemjs_options\":null,\"mount_callbacks\":[\"function () {\\n    var handler = (function (ko, koPunches) {\\n    ko.punches.enableAll();\\n    ko.bindingHandlers.numericValue = {\\n        init: function(element, valueAccessor, allBindings, data, context) {\\n            var stringified = ko.observable(ko.unwrap(valueAccessor()));\\n            stringified.subscribe(function(value) {\\n                var val = parseFloat(value);\\n                if (!isNaN(val)) {\\n                    valueAccessor()(val);\\n                }\\n            });\\n            valueAccessor().subscribe(function(value) {\\n                var str = JSON.stringify(value);\\n                if ((str == \\\"0\\\") && ([\\\"-0\\\", \\\"-0.\\\"].indexOf(stringified()) >= 0))\\n                     return;\\n                 if ([\\\"null\\\", \\\"\\\"].indexOf(str) >= 0)\\n                     return;\\n                stringified(str);\\n            });\\n            ko.applyBindingsToNode(\\n                element,\\n                {\\n                    value: stringified,\\n                    valueUpdate: allBindings.get('valueUpdate'),\\n                },\\n                context,\\n            );\\n        }\\n    };\\n    var json_data = {\\\"loading\\\":WebIO.getval({\\\"name\\\":\\\"loading\\\",\\\"scope\\\":\\\"14588169212001676275\\\",\\\"id\\\":\\\"16772934910110350594\\\",\\\"type\\\":\\\"observable\\\"}),\\\"clicks\\\":WebIO.getval({\\\"name\\\":\\\"clicks\\\",\\\"scope\\\":\\\"14588169212001676275\\\",\\\"id\\\":\\\"7141107516931660809\\\",\\\"type\\\":\\\"observable\\\"})};\\n    var self = this;\\n    function AppViewModel() {\\n        for (var key in json_data) {\\n            var el = json_data[key];\\n            this[key] = Array.isArray(el) ? ko.observableArray(el) : ko.observable(el);\\n        }\\n        \\n        \\n        [this[\\\"loading\\\"].subscribe((function (val){!(this.valueFromJulia[\\\"loading\\\"]) ? (WebIO.setval({\\\"name\\\":\\\"loading\\\",\\\"scope\\\":\\\"14588169212001676275\\\",\\\"id\\\":\\\"16772934910110350594\\\",\\\"type\\\":\\\"observable\\\"},val)) : undefined; return this.valueFromJulia[\\\"loading\\\"]=false}),self),this[\\\"clicks\\\"].subscribe((function (val){!(this.valueFromJulia[\\\"clicks\\\"]) ? (WebIO.setval({\\\"name\\\":\\\"clicks\\\",\\\"scope\\\":\\\"14588169212001676275\\\",\\\"id\\\":\\\"7141107516931660809\\\",\\\"type\\\":\\\"observable\\\"},val)) : undefined; return this.valueFromJulia[\\\"clicks\\\"]=false}),self)]\\n        \\n    }\\n    self.model = new AppViewModel();\\n    self.valueFromJulia = {};\\n    for (var key in json_data) {\\n        self.valueFromJulia[key] = false;\\n    }\\n    ko.applyBindings(self.model, self.dom);\\n}\\n);\\n    (WebIO.importBlock({\\\"data\\\":[{\\\"name\\\":\\\"knockout\\\",\\\"type\\\":\\\"js\\\",\\\"url\\\":\\\"\\/assetserver\\/727383f2a47bd31570b7da84eee7b022dd6d7c78-knockout.js\\\"},{\\\"name\\\":\\\"knockout_punches\\\",\\\"type\\\":\\\"js\\\",\\\"url\\\":\\\"\\/assetserver\\/382b41b3b1bd9f26f75861d360bad7f8beea211f-knockout_punches.js\\\"}],\\\"type\\\":\\\"async_block\\\"})).then((imports) => handler.apply(this, imports));\\n}\\n\"],\"observables\":{\"loading\":{\"sync\":false,\"id\":\"16772934910110350594\",\"value\":false},\"clicks\":{\"sync\":true,\"id\":\"7141107516931660809\",\"value\":0}}},\"children\":[{\"props\":{\"attributes\":{\"data-bind\":\"click: function (){this.clicks(this.clicks()+1)}, css: {'is-loading' : loading}\"},\"className\":\"is-medium button is-primary\",\"style\":{}},\"nodeType\":\"DOM\",\"type\":\"node\",\"instanceArgs\":{\"namespace\":\"html\",\"tag\":\"button\"},\"children\":[\"run\"]}]}]},{\"props\":{\"className\":\"interact-widget\"},\"nodeType\":\"DOM\",\"type\":\"node\",\"instanceArgs\":{\"namespace\":\"html\",\"tag\":\"div\"},\"children\":[{\"props\":{},\"nodeType\":\"Scope\",\"type\":\"node\",\"instanceArgs\":{\"imports\":{\"data\":[{\"name\":null,\"type\":\"js\",\"url\":\"\\/assetserver\\/dd22ed1bf1896c2748f3fe616ce0b838adc895c1-katex.min.js\"},{\"name\":null,\"type\":\"css\",\"url\":\"\\/assetserver\\/46517a424aa5e6cffc1360d7e0848b601c584ee3-katex.min.css\"}],\"type\":\"async_block\"},\"id\":\"3027279783759743180\",\"handlers\":{\"value\":[\"(function (txt){return this.k.render(txt,this.container)})\"]},\"systemjs_options\":null,\"mount_callbacks\":[\"function () {\\n    var handler = ((function (k){this.k=k; this.container=this.dom.querySelector(\\\"#container\\\"); return k.render(\\\"\\\\\\\\;\\\\\\\\;\\\",this.container)}));\\n    (WebIO.importBlock({\\\"data\\\":[{\\\"name\\\":null,\\\"type\\\":\\\"js\\\",\\\"url\\\":\\\"\\/assetserver\\/dd22ed1bf1896c2748f3fe616ce0b838adc895c1-katex.min.js\\\"},{\\\"name\\\":null,\\\"type\\\":\\\"css\\\",\\\"url\\\":\\\"\\/assetserver\\/46517a424aa5e6cffc1360d7e0848b601c584ee3-katex.min.css\\\"}],\\\"type\\\":\\\"async_block\\\"})).then((imports) => handler.apply(this, imports));\\n}\\n\"],\"observables\":{\"value\":{\"sync\":false,\"id\":\"9085752627102848630\",\"value\":\"\\\\;\\\\;\"}}},\"children\":[{\"props\":{\"id\":\"container\"},\"nodeType\":\"DOM\",\"type\":\"node\",\"instanceArgs\":{\"namespace\":\"html\",\"tag\":\"div\"},\"children\":[]}]}]},{\"props\":{\"className\":\"field interact-widget\"},\"nodeType\":\"DOM\",\"type\":\"node\",\"instanceArgs\":{\"namespace\":\"html\",\"tag\":\"div\"},\"children\":[{\"props\":{},\"nodeType\":\"Scope\",\"type\":\"node\",\"instanceArgs\":{\"imports\":{\"data\":[{\"name\":\"knockout\",\"type\":\"js\",\"url\":\"\\/assetserver\\/727383f2a47bd31570b7da84eee7b022dd6d7c78-knockout.js\"},{\"name\":\"knockout_punches\",\"type\":\"js\",\"url\":\"\\/assetserver\\/382b41b3b1bd9f26f75861d360bad7f8beea211f-knockout_punches.js\"},{\"name\":null,\"type\":\"js\",\"url\":\"\\/assetserver\\/5ab20f1060420992a9b82a65b735dee4d81ef413-all.js\"},{\"name\":null,\"type\":\"css\",\"url\":\"\\/assetserver\\/1cc0ed62837210b80a182cc3676512f895dab686-style.css\"},{\"name\":null,\"type\":\"css\",\"url\":\"\\/assetserver\\/2eee816f616df3549d7044d45e744fbf8d42bfa1-bulma_confined.min.css\"}],\"type\":\"async_block\"},\"id\":\"12059177776280029268\",\"handlers\":{\"loading\":[\"(function (val){return (val!=this.model[\\\"loading\\\"]()) ? (this.valueFromJulia[\\\"loading\\\"]=true, this.model[\\\"loading\\\"](val)) : undefined})\"],\"clicks\":[\"(function (val){return (val!=this.model[\\\"clicks\\\"]()) ? (this.valueFromJulia[\\\"clicks\\\"]=true, this.model[\\\"clicks\\\"](val)) : undefined})\"]},\"systemjs_options\":null,\"mount_callbacks\":[\"function () {\\n    var handler = (function (ko, koPunches) {\\n    ko.punches.enableAll();\\n    ko.bindingHandlers.numericValue = {\\n        init: function(element, valueAccessor, allBindings, data, context) {\\n            var stringified = ko.observable(ko.unwrap(valueAccessor()));\\n            stringified.subscribe(function(value) {\\n                var val = parseFloat(value);\\n                if (!isNaN(val)) {\\n                    valueAccessor()(val);\\n                }\\n            });\\n            valueAccessor().subscribe(function(value) {\\n                var str = JSON.stringify(value);\\n                if ((str == \\\"0\\\") && ([\\\"-0\\\", \\\"-0.\\\"].indexOf(stringified()) >= 0))\\n                     return;\\n                 if ([\\\"null\\\", \\\"\\\"].indexOf(str) >= 0)\\n                     return;\\n                stringified(str);\\n            });\\n            ko.applyBindingsToNode(\\n                element,\\n                {\\n                    value: stringified,\\n                    valueUpdate: allBindings.get('valueUpdate'),\\n                },\\n                context,\\n            );\\n        }\\n    };\\n    var json_data = {\\\"loading\\\":WebIO.getval({\\\"name\\\":\\\"loading\\\",\\\"scope\\\":\\\"12059177776280029268\\\",\\\"id\\\":\\\"17681226139648519561\\\",\\\"type\\\":\\\"observable\\\"}),\\\"clicks\\\":WebIO.getval({\\\"name\\\":\\\"clicks\\\",\\\"scope\\\":\\\"12059177776280029268\\\",\\\"id\\\":\\\"423590706521687981\\\",\\\"type\\\":\\\"observable\\\"})};\\n    var self = this;\\n    function AppViewModel() {\\n        for (var key in json_data) {\\n            var el = json_data[key];\\n            this[key] = Array.isArray(el) ? ko.observableArray(el) : ko.observable(el);\\n        }\\n        \\n        \\n        [this[\\\"loading\\\"].subscribe((function (val){!(this.valueFromJulia[\\\"loading\\\"]) ? (WebIO.setval({\\\"name\\\":\\\"loading\\\",\\\"scope\\\":\\\"12059177776280029268\\\",\\\"id\\\":\\\"17681226139648519561\\\",\\\"type\\\":\\\"observable\\\"},val)) : undefined; return this.valueFromJulia[\\\"loading\\\"]=false}),self),this[\\\"clicks\\\"].subscribe((function (val){!(this.valueFromJulia[\\\"clicks\\\"]) ? (WebIO.setval({\\\"name\\\":\\\"clicks\\\",\\\"scope\\\":\\\"12059177776280029268\\\",\\\"id\\\":\\\"423590706521687981\\\",\\\"type\\\":\\\"observable\\\"},val)) : undefined; return this.valueFromJulia[\\\"clicks\\\"]=false}),self)]\\n        \\n    }\\n    self.model = new AppViewModel();\\n    self.valueFromJulia = {};\\n    for (var key in json_data) {\\n        self.valueFromJulia[key] = false;\\n    }\\n    ko.applyBindings(self.model, self.dom);\\n}\\n);\\n    (WebIO.importBlock({\\\"data\\\":[{\\\"name\\\":\\\"knockout\\\",\\\"type\\\":\\\"js\\\",\\\"url\\\":\\\"\\/assetserver\\/727383f2a47bd31570b7da84eee7b022dd6d7c78-knockout.js\\\"},{\\\"name\\\":\\\"knockout_punches\\\",\\\"type\\\":\\\"js\\\",\\\"url\\\":\\\"\\/assetserver\\/382b41b3b1bd9f26f75861d360bad7f8beea211f-knockout_punches.js\\\"}],\\\"type\\\":\\\"async_block\\\"})).then((imports) => handler.apply(this, imports));\\n}\\n\"],\"observables\":{\"loading\":{\"sync\":false,\"id\":\"17681226139648519561\",\"value\":false},\"clicks\":{\"sync\":true,\"id\":\"423590706521687981\",\"value\":0}}},\"children\":[{\"props\":{\"attributes\":{\"data-bind\":\"click: function (){this.clicks(this.clicks()+1)}, css: {'is-loading' : loading}\"},\"className\":\"is-medium button is-primary\",\"style\":{}},\"nodeType\":\"DOM\",\"type\":\"node\",\"instanceArgs\":{\"namespace\":\"html\",\"tag\":\"button\"},\"children\":[\"stop\"]}]}]},{\"props\":{\"className\":\"interact-widget\"},\"nodeType\":\"DOM\",\"type\":\"node\",\"instanceArgs\":{\"namespace\":\"html\",\"tag\":\"div\"},\"children\":[{\"props\":{},\"nodeType\":\"Scope\",\"type\":\"node\",\"instanceArgs\":{\"imports\":{\"data\":[{\"name\":null,\"type\":\"js\",\"url\":\"\\/assetserver\\/dd22ed1bf1896c2748f3fe616ce0b838adc895c1-katex.min.js\"},{\"name\":null,\"type\":\"css\",\"url\":\"\\/assetserver\\/46517a424aa5e6cffc1360d7e0848b601c584ee3-katex.min.css\"}],\"type\":\"async_block\"},\"id\":\"3027279783759743180\",\"handlers\":{\"value\":[\"(function (txt){return this.k.render(txt,this.container)})\"]},\"systemjs_options\":null,\"mount_callbacks\":[\"function () {\\n    var handler = ((function (k){this.k=k; this.container=this.dom.querySelector(\\\"#container\\\"); return k.render(\\\"\\\\\\\\;\\\\\\\\;\\\",this.container)}));\\n    (WebIO.importBlock({\\\"data\\\":[{\\\"name\\\":null,\\\"type\\\":\\\"js\\\",\\\"url\\\":\\\"\\/assetserver\\/dd22ed1bf1896c2748f3fe616ce0b838adc895c1-katex.min.js\\\"},{\\\"name\\\":null,\\\"type\\\":\\\"css\\\",\\\"url\\\":\\\"\\/assetserver\\/46517a424aa5e6cffc1360d7e0848b601c584ee3-katex.min.css\\\"}],\\\"type\\\":\\\"async_block\\\"})).then((imports) => handler.apply(this, imports));\\n}\\n\"],\"observables\":{\"value\":{\"sync\":false,\"id\":\"9085752627102848630\",\"value\":\"\\\\;\\\\;\"}}},\"children\":[{\"props\":{\"id\":\"container\"},\"nodeType\":\"DOM\",\"type\":\"node\",\"instanceArgs\":{\"namespace\":\"html\",\"tag\":\"div\"},\"children\":[]}]}]},{\"props\":{\"className\":\"field interact-widget\"},\"nodeType\":\"DOM\",\"type\":\"node\",\"instanceArgs\":{\"namespace\":\"html\",\"tag\":\"div\"},\"children\":[{\"props\":{},\"nodeType\":\"Scope\",\"type\":\"node\",\"instanceArgs\":{\"imports\":{\"data\":[{\"name\":\"knockout\",\"type\":\"js\",\"url\":\"\\/assetserver\\/727383f2a47bd31570b7da84eee7b022dd6d7c78-knockout.js\"},{\"name\":\"knockout_punches\",\"type\":\"js\",\"url\":\"\\/assetserver\\/382b41b3b1bd9f26f75861d360bad7f8beea211f-knockout_punches.js\"},{\"name\":null,\"type\":\"js\",\"url\":\"\\/assetserver\\/5ab20f1060420992a9b82a65b735dee4d81ef413-all.js\"},{\"name\":null,\"type\":\"css\",\"url\":\"\\/assetserver\\/1cc0ed62837210b80a182cc3676512f895dab686-style.css\"},{\"name\":null,\"type\":\"css\",\"url\":\"\\/assetserver\\/2eee816f616df3549d7044d45e744fbf8d42bfa1-bulma_confined.min.css\"}],\"type\":\"async_block\"},\"id\":\"1135260246483243779\",\"handlers\":{\"loading\":[\"(function (val){return (val!=this.model[\\\"loading\\\"]()) ? (this.valueFromJulia[\\\"loading\\\"]=true, this.model[\\\"loading\\\"](val)) : undefined})\"],\"clicks\":[\"(function (val){return (val!=this.model[\\\"clicks\\\"]()) ? (this.valueFromJulia[\\\"clicks\\\"]=true, this.model[\\\"clicks\\\"](val)) : undefined})\"]},\"systemjs_options\":null,\"mount_callbacks\":[\"function () {\\n    var handler = (function (ko, koPunches) {\\n    ko.punches.enableAll();\\n    ko.bindingHandlers.numericValue = {\\n        init: function(element, valueAccessor, allBindings, data, context) {\\n            var stringified = ko.observable(ko.unwrap(valueAccessor()));\\n            stringified.subscribe(function(value) {\\n                var val = parseFloat(value);\\n                if (!isNaN(val)) {\\n                    valueAccessor()(val);\\n                }\\n            });\\n            valueAccessor().subscribe(function(value) {\\n                var str = JSON.stringify(value);\\n                if ((str == \\\"0\\\") && ([\\\"-0\\\", \\\"-0.\\\"].indexOf(stringified()) >= 0))\\n                     return;\\n                 if ([\\\"null\\\", \\\"\\\"].indexOf(str) >= 0)\\n                     return;\\n                stringified(str);\\n            });\\n            ko.applyBindingsToNode(\\n                element,\\n                {\\n                    value: stringified,\\n                    valueUpdate: allBindings.get('valueUpdate'),\\n                },\\n                context,\\n            );\\n        }\\n    };\\n    var json_data = {\\\"loading\\\":WebIO.getval({\\\"name\\\":\\\"loading\\\",\\\"scope\\\":\\\"1135260246483243779\\\",\\\"id\\\":\\\"10138669370670612116\\\",\\\"type\\\":\\\"observable\\\"}),\\\"clicks\\\":WebIO.getval({\\\"name\\\":\\\"clicks\\\",\\\"scope\\\":\\\"1135260246483243779\\\",\\\"id\\\":\\\"2765553655198277194\\\",\\\"type\\\":\\\"observable\\\"})};\\n    var self = this;\\n    function AppViewModel() {\\n        for (var key in json_data) {\\n            var el = json_data[key];\\n            this[key] = Array.isArray(el) ? ko.observableArray(el) : ko.observable(el);\\n        }\\n        \\n        \\n        [this[\\\"loading\\\"].subscribe((function (val){!(this.valueFromJulia[\\\"loading\\\"]) ? (WebIO.setval({\\\"name\\\":\\\"loading\\\",\\\"scope\\\":\\\"1135260246483243779\\\",\\\"id\\\":\\\"10138669370670612116\\\",\\\"type\\\":\\\"observable\\\"},val)) : undefined; return this.valueFromJulia[\\\"loading\\\"]=false}),self),this[\\\"clicks\\\"].subscribe((function (val){!(this.valueFromJulia[\\\"clicks\\\"]) ? (WebIO.setval({\\\"name\\\":\\\"clicks\\\",\\\"scope\\\":\\\"1135260246483243779\\\",\\\"id\\\":\\\"2765553655198277194\\\",\\\"type\\\":\\\"observable\\\"},val)) : undefined; return this.valueFromJulia[\\\"clicks\\\"]=false}),self)]\\n        \\n    }\\n    self.model = new AppViewModel();\\n    self.valueFromJulia = {};\\n    for (var key in json_data) {\\n        self.valueFromJulia[key] = false;\\n    }\\n    ko.applyBindings(self.model, self.dom);\\n}\\n);\\n    (WebIO.importBlock({\\\"data\\\":[{\\\"name\\\":\\\"knockout\\\",\\\"type\\\":\\\"js\\\",\\\"url\\\":\\\"\\/assetserver\\/727383f2a47bd31570b7da84eee7b022dd6d7c78-knockout.js\\\"},{\\\"name\\\":\\\"knockout_punches\\\",\\\"type\\\":\\\"js\\\",\\\"url\\\":\\\"\\/assetserver\\/382b41b3b1bd9f26f75861d360bad7f8beea211f-knockout_punches.js\\\"}],\\\"type\\\":\\\"async_block\\\"})).then((imports) => handler.apply(this, imports));\\n}\\n\"],\"observables\":{\"loading\":{\"sync\":false,\"id\":\"10138669370670612116\",\"value\":false},\"clicks\":{\"sync\":true,\"id\":\"2765553655198277194\",\"value\":0}}},\"children\":[{\"props\":{\"attributes\":{\"data-bind\":\"click: function (){this.clicks(this.clicks()+1)}, css: {'is-loading' : loading}\"},\"className\":\"is-medium button is-primary\",\"style\":{}},\"nodeType\":\"DOM\",\"type\":\"node\",\"instanceArgs\":{\"namespace\":\"html\",\"tag\":\"button\"},\"children\":[\"save\"]}]}]}]}]},{\"props\":{\"className\":\"interact-widget\"},\"nodeType\":\"DOM\",\"type\":\"node\",\"instanceArgs\":{\"namespace\":\"html\",\"tag\":\"div\"},\"children\":[{\"props\":{},\"nodeType\":\"Scope\",\"type\":\"node\",\"instanceArgs\":{\"imports\":{\"data\":[{\"name\":null,\"type\":\"js\",\"url\":\"\\/assetserver\\/dd22ed1bf1896c2748f3fe616ce0b838adc895c1-katex.min.js\"},{\"name\":null,\"type\":\"css\",\"url\":\"\\/assetserver\\/46517a424aa5e6cffc1360d7e0848b601c584ee3-katex.min.css\"}],\"type\":\"async_block\"},\"id\":\"3027279783759743180\",\"handlers\":{\"value\":[\"(function (txt){return this.k.render(txt,this.container)})\"]},\"systemjs_options\":null,\"mount_callbacks\":[\"function () {\\n    var handler = ((function (k){this.k=k; this.container=this.dom.querySelector(\\\"#container\\\"); return k.render(\\\"\\\\\\\\;\\\\\\\\;\\\",this.container)}));\\n    (WebIO.importBlock({\\\"data\\\":[{\\\"name\\\":null,\\\"type\\\":\\\"js\\\",\\\"url\\\":\\\"\\/assetserver\\/dd22ed1bf1896c2748f3fe616ce0b838adc895c1-katex.min.js\\\"},{\\\"name\\\":null,\\\"type\\\":\\\"css\\\",\\\"url\\\":\\\"\\/assetserver\\/46517a424aa5e6cffc1360d7e0848b601c584ee3-katex.min.css\\\"}],\\\"type\\\":\\\"async_block\\\"})).then((imports) => handler.apply(this, imports));\\n}\\n\"],\"observables\":{\"value\":{\"sync\":false,\"id\":\"9085752627102848630\",\"value\":\"\\\\;\\\\;\"}}},\"children\":[{\"props\":{\"id\":\"container\"},\"nodeType\":\"DOM\",\"type\":\"node\",\"instanceArgs\":{\"namespace\":\"html\",\"tag\":\"div\"},\"children\":[]}]}]},{\"props\":{},\"nodeType\":\"Scope\",\"type\":\"node\",\"instanceArgs\":{\"imports\":{\"data\":[],\"type\":\"async_block\"},\"id\":\"17128667904344874894\",\"handlers\":{\"obs-output\":[\"function (value, scope) {\\n    scope.setInnerHTML(value);\\n}\\n\"]},\"systemjs_options\":null,\"mount_callbacks\":[],\"observables\":{\"obs-output\":{\"sync\":false,\"id\":\"4282156322212494928\",\"value\":\"<img src='data:image\\/png;base64,iVBORw0KGgoAAAANSUhEUgAAAa4AAAGuCAIAAABHl3XNAAAABmJLR0QA\\/wD\\/AP+gvaeTAAAHT0lEQVR4nO3dvYtcVRyA4TfrKli4goj4EUUDKvkntJAUkpggaRVEwUYIKVOpCDYKohZ2NqJFKqP4BRZbBSxTBEyhRGIi2ggaSZGwjpVgNBN3M\\/feMe7zlDtnDr9i9uXcuRdmx2w2C2B7W1n2AADLJ4UAUggghQBJIUBSCJAUAiSFAEkhQFIIkBQCJIUASSFAUgiQFAIkhQBJIUBSCJAUAiSFAEkhQFIIkBQCJIUASSFAUgiQFAIkhQBJIUBSCJAUAiSFAEkhQFIIkBQCJIUASSFAUgiQFAIkhQBJIUBSCJAUAiSFAEkhQFIIkBQCJIUASSFAUgiQFAIkhQBJIUBSCJAUAiSFAEkhQFIIkBQCJIUASSFAUgiQFAIkhQBJIUBSCJAUAiSFAEkhQFIIkBQCJIUASSFAUgiQFAIkhQBJIUBSCJAUAiSFAEkhQFIIkBQCJIUASSFAUgiQFAIkhQBJIUBSCJAUAiSFAEkhQFIIkBQCJIUASSFAUgiQFAIkhQBJIUBSCJAUAiSFAEkhQFIIkBQCJIUASSFAUgiQFAIkhQBJIUBSCJAUAiSFAEkhQFIIkBQCJIUASSFAUgiQFAIkhQBJIUBSCJAUAiSFAEkhQFIIkBQCJIUASSFAUgiQFAIkhQBJIUBSCJAUAiSFAEkhQFIIkBQCJIUASSFAUgiQFAIkhQBJIUBSCJAUAiSFAEkhQFIIkBQCJIUASSFAUgiQFAIkhQBJIUBSCJAUAiSFAEkhQFIIkBQCJIUASSFAUgiQFAIkhQBJIUBSCJAUAiSFAEkhQFIIkBQCJIUASSFAUgiQFAIkhQBJIUBSCJAUAiSFAEkhQFIIkBQCJIUASSFAUgiQFAIkhQBJIUBSCJAUAiSFAEkhQFIIUK0uewC2pzP1UX1a39XZqnbW\\/bWvDtS9S52N7WjHbDZb9gxsK+fqlXq3NuYsWKmD9VrdP+VYbHNSyJSO1dP12yZW3lLv1\\/7RJ4LKd4VM6K06uLkOVufryXp73IngT06FTONYHazft\\/iulfrQ2ZAJSCETOFu7N30e\\/Jtb6lTdPfBEcDkXyEzgxWvtYHW+XhpyFrgSp0LGdqZ2zb9fvBk31He1c6iB4J+cChnbscU6WG3UR8PMAnNIIWP7fIhNPhtiE5hLChnbN0Ns8u0Qm8BcUsjYfhxik3NDbAJzSSHXBR9UxuUTxtgGeSTQc4WMSwoZ267\\/zCYwlxQytr1DbLJviE1gLo9YM7bv64HFHi1crdMesWZUToWM7d56ZrEdntNBxuZUyATO1e46f03vXatTddfAE8HlnAqZwD11tG7Y+htX6n0dZAJSyDQerze2+HlbqTfribEmgr9wgcyUPq6nNnelvFYfuHHMZJwKmdL++rYOXfWnFlfq6Tqlg0zJqZClOPvnj3+e\\/suPf+6qvbXf\\/WKmJ4UALpABpBAgKQRICgGSQoCkECApBEgKAZJCgKQQICkESAoBkkKApBAgKQRICgGSQoCkECApBEgKAZJCgKQQICkESAoBkkKApBAgKQRICgGSQoCkECApBEgKAZJCgKQQICkESAoBkkKApBAgKQRICgGq1WUP8D\\/xww+9807r6\\/30U3fe2WOP9cIL3XHHsscCNmfHbDZb9gzXvaNHe\\/bZLly47I9ra733XgcOLGkmYCukcFFffNG+fW1sXOGlG2\\/syy979NHJZwK2SAoXculSDz\\/c6dNzF+ze3cmTrfhKFv7b\\/I8uZH39ah2svv66r76aahrgWknhQk6cGGYNsFxSuJBLl\\/59zcWL488BLEYKF\\/Lgg\\/++5qGHxp8DWIzbJgv55Zfuu69ff5274PbbO3Omm2+ecCZg65wKF3Lrrb388tUWvPqqDsJ1QAoXdfhwhw5d+aUjR3r++WmnAa6JC+RhfPJJr7\\/e8eNtbLS62iOPdORIe\\/Yseyxgc6RwSBcv9vPP3XZbN9207FGArZBCAN8VAkghQFIIkBQCJIUASSFAUgiQFAIkhQBJIUBSCJAUAiSFAEkhQFIIkBQCJIUASSFAUgiQFAIkhQBJIUBSCJAUAiSFAEkhQFIIkBQCJIUASSFAUgiQFAIkhQBJIUBSCJAUAiSFAEkhQFIIkBQCJIUASSFAUgiQFAIkhQBJIUBSCJAUAiSFAEkhQFIIkBQCJIUASSFAUgiQFAIkhQBJIUBSCJAUAiSFAEkhQFIIkBQCJIUASSFAUgiQFAIkhQBJIUBSCJAUAiSFAEkhQFIIkBQCJIUASSFAUgiQFAIkhQBJIUBSCJAUAiSFAEkhQFIIkBQCJIUASSFAUgiQFAIkhQBJIUBSCJAUAiSFAEkhQFIIkBQCJIUASSFAUgiQFAIkhQBJIUBSCJAUAiSFAEkhQFIIkBQCJIUASSFAUgiQFAIkhQBJIUBSCJAUAiSFAEkhQFIIkBQCJIUASSFAUgiQFAIkhQBJIUBSCJAUAiSFAEkhQFIIkBQCJIUASSFAUgiQFAIkhQBJIUBSCJAUAiSFAEkhQFIIkBQCVH8AomKzUFWb78wAAAAASUVORK5CYII='><\\/img>\"}}},\"children\":[{\"props\":{\"className\":\"webio-observable\",\"setInnerHtml\":\"<img src='data:image\\/png;base64,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'><\\/img>\"},\"nodeType\":\"DOM\",\"type\":\"node\",\"instanceArgs\":{\"namespace\":\"html\",\"tag\":\"div\"},\"children\":[]}]},{\"props\":{\"className\":\"interact-widget\"},\"nodeType\":\"DOM\",\"type\":\"node\",\"instanceArgs\":{\"namespace\":\"html\",\"tag\":\"div\"},\"children\":[{\"props\":{},\"nodeType\":\"Scope\",\"type\":\"node\",\"instanceArgs\":{\"imports\":{\"data\":[{\"name\":null,\"type\":\"js\",\"url\":\"\\/assetserver\\/dd22ed1bf1896c2748f3fe616ce0b838adc895c1-katex.min.js\"},{\"name\":null,\"type\":\"css\",\"url\":\"\\/assetserver\\/46517a424aa5e6cffc1360d7e0848b601c584ee3-katex.min.css\"}],\"type\":\"async_block\"},\"id\":\"3027279783759743180\",\"handlers\":{\"value\":[\"(function (txt){return this.k.render(txt,this.container)})\"]},\"systemjs_options\":null,\"mount_callbacks\":[\"function () {\\n    var handler = ((function (k){this.k=k; this.container=this.dom.querySelector(\\\"#container\\\"); return k.render(\\\"\\\\\\\\;\\\\\\\\;\\\",this.container)}));\\n    (WebIO.importBlock({\\\"data\\\":[{\\\"name\\\":null,\\\"type\\\":\\\"js\\\",\\\"url\\\":\\\"\\/assetserver\\/dd22ed1bf1896c2748f3fe616ce0b838adc895c1-katex.min.js\\\"},{\\\"name\\\":null,\\\"type\\\":\\\"css\\\",\\\"url\\\":\\\"\\/assetserver\\/46517a424aa5e6cffc1360d7e0848b601c584ee3-katex.min.css\\\"}],\\\"type\\\":\\\"async_block\\\"})).then((imports) => handler.apply(this, imports));\\n}\\n\"],\"observables\":{\"value\":{\"sync\":false,\"id\":\"9085752627102848630\",\"value\":\"\\\\;\\\\;\"}}},\"children\":[{\"props\":{\"id\":\"container\"},\"nodeType\":\"DOM\",\"type\":\"node\",\"instanceArgs\":{\"namespace\":\"html\",\"tag\":\"div\"},\"children\":[]}]}]},{\"props\":{\"style\":{\"display\":\"flex\",\"flex-direction\":\"column\"}},\"nodeType\":\"DOM\",\"type\":\"node\",\"instanceArgs\":{\"namespace\":\"html\",\"tag\":\"div\"},\"children\":[]}]}]},\n",
       "        window,\n",
       "    );\n",
       "    })()\n",
       "    </script>\n",
       "</div>\n"
      ],
      "text/plain": [
       "WebIO.Node{WebIO.DOM}(WebIO.DOM(:html, :div), Any[WebIO.Node{WebIO.DOM}(WebIO.DOM(:html, :div), Any[WebIO.Node{WebIO.DOM}(WebIO.DOM(:html, :div), Any[WebIO.Node{WebIO.DOM}(WebIO.DOM(:html, :div), Any[WebIO.Scope(WebIO.Node{WebIO.DOM}(WebIO.DOM(:html, :div), Any[WebIO.Node{WebIO.DOM}(WebIO.DOM(:html, :div), Any[WebIO.Node{WebIO.DOM}(WebIO.DOM(:html, :label), Any[\"time\"], Dict{Symbol, Any}(:className => \"interact \", :style => Dict{Any, Any}(:padding => \"5px 10px 0px 10px\")))], Dict{Symbol, Any}(:className => \"interact-flex-row-left\")), WebIO.Node{WebIO.DOM}(WebIO.DOM(:html, :div), Any[WebIO.Node{WebIO.DOM}(WebIO.DOM(:html, :input), Any[], Dict{Symbol, Any}(:max => 501, :min => 1, :attributes => Dict{Any, Any}(:type => \"range\", Symbol(\"data-bind\") => \"numericValue: index, valueUpdate: 'input', event: {change: function (){this.changes(this.changes()+1)}}\", \"orient\" => \"horizontal\"), :step => 1, :className => \"slider slider is-fullwidth\", :style => Dict{Any, Any}()))], Dict{Symbol, Any}(:className => \"interact-flex-row-center\")), WebIO.Node{WebIO.DOM}(WebIO.DOM(:html, :div), Any[WebIO.Node{WebIO.DOM}(WebIO.DOM(:html, :p), Any[], Dict{Symbol, Any}(:attributes => Dict(\"data-bind\" => \"text: formatted_val\")))], Dict{Symbol, Any}(:className => \"interact-flex-row-right\"))], Dict{Symbol, Any}(:className => \"interact-flex-row interact-widget\")), Dict{String, Tuple{Observables.AbstractObservable, Union{Nothing, Bool}}}(\"changes\" => (Observable(0), nothing), \"index\" => (Observable(251), nothing)), Set{String}(), nothing, WebIO.Asset[WebIO.Asset(\"js\", \"knockout\", \"/home/dushya/.julia/packages/Knockout/HReiN/src/../assets/knockout.js\"), WebIO.Asset(\"js\", \"knockout_punches\", \"/home/dushya/.julia/packages/Knockout/HReiN/src/../assets/knockout_punches.js\"), WebIO.Asset(\"js\", nothing, \"/home/dushya/.julia/packages/InteractBase/LJXv3/src/../assets/all.js\"), WebIO.Asset(\"css\", nothing, \"/home/dushya/.julia/packages/InteractBase/LJXv3/src/../assets/style.css\"), WebIO.Asset(\"css\", nothing, \"/home/dushya/.julia/packages/Interact/PENUy/src/../assets/bulma_confined.min.css\")], Dict{Any, Any}(\"changes\" => Any[WebIO.JSString(\"(function (val){return (val!=this.model[\\\"changes\\\"]()) ? (this.valueFromJulia[\\\"changes\\\"]=true, this.model[\\\"changes\\\"](val)) : undefined})\")], \"index\" => Any[WebIO.JSString(\"(function (val){return (val!=this.model[\\\"index\\\"]()) ? (this.valueFromJulia[\\\"index\\\"]=true, this.model[\\\"index\\\"](val)) : undefined})\")]), WebIO.ConnectionPool(Channel{Any}(32), Set{WebIO.AbstractConnection}(), Base.GenericCondition{ReentrantLock}(Base.IntrusiveLinkedList{Task}(Task (runnable) @0x00007fc1991e3b70, Task (runnable) @0x00007fc1991e3b70), ReentrantLock(nothing, 0x00000000, 0x00, Base.GenericCondition{Base.Threads.SpinLock}(Base.IntrusiveLinkedList{Task}(nothing, nothing), Base.Threads.SpinLock(0)), (0, 140471206703216, 140471334184384)))), WebIO.JSString[WebIO.JSString(\"function () {\\n    var handler = (function (ko, koPunches) {\\n    ko.punches.enableAll();\\n    ko.bindingHandlers.numericValue = {\\n        init: function(element, valueAccessor, allBindings, data, context) {\\n            var stringified = ko.observable(ko.unwrap(valueAccessor()));\\n            stringified.subscribe(function(value) {\\n                var val = parseFloat(value);\\n                if (!isNaN(val)) {\\n                    valueAccessor()(val);\\n                }\\n            });\\n            valueAccessor().subscribe(function(value) {\\n                var str = JSON.stringify(value);\\n                if ((str == \\\"0\\\") && ([\\\"-0\\\", \\\"-0.\\\"].indexOf(stringified()) >= 0))\\n                     return;\\n                 if ([\\\"null\\\", \\\"\\\"].indexOf(str) >= 0)\\n                     return;\\n                stringified(str);\\n            });\\n            ko.applyBindingsToNode(\\n                element,\\n                {\\n                    value: stringified,\\n                    valueUpdate: allBindings.get('valueUpdate'),\\n                },\\n                context,\\n            );\\n        }\\n    };\\n    var json_data = {\\\"formatted_vals\\\":[\\\"1\\\",\\\"2\\\",\\\"3\\\",\\\"4\\\",\\\"5\\\",\\\"6\\\",\\\"7\\\",\\\"8\\\",\\\"9\\\",\\\"10\\\",\\\"11\\\",\\\"12\\\",\\\"13\\\",\\\"14\\\",\\\"15\\\",\\\"16\\\",\\\"17\\\",\\\"18\\\",\\\"19\\\",\\\"20\\\",\\\"21\\\",\\\"22\\\",\\\"23\\\",\\\"24\\\",\\\"25\\\",\\\"26\\\",\\\"27\\\",\\\"28\\\",\\\"29\\\",\\\"30\\\",\\\"31\\\",\\\"32\\\",\\\"33\\\",\\\"34\\\",\\\"35\\\",\\\"36\\\",\\\"37\\\",\\\"38\\\",\\\"39\\\",\\\"40\\\",\\\"41\\\",\\\"42\\\",\\\"43\\\",\\\"44\\\",\\\"45\\\",\\\"46\\\",\\\"47\\\",\\\"48\\\",\\\"49\\\",\\\"50\\\",\\\"51\\\",\\\"52\\\",\\\"53\\\",\\\"54\\\",\\\"55\\\",\\\"56\\\",\\\"57\\\",\\\"58\\\",\\\"59\\\",\\\"60\\\",\\\"61\\\",\\\"62\\\",\\\"63\\\",\\\"64\\\",\\\"65\\\",\\\"66\\\",\\\"67\\\",\\\"68\\\",\\\"69\\\",\\\"70\\\",\\\"71\\\",\\\"72\\\",\\\"73\\\",\\\"74\\\",\\\"75\\\",\\\"76\\\",\\\"77\\\",\\\"78\\\",\\\"79\\\",\\\"80\\\",\\\"81\\\",\\\"82\\\",\\\"83\\\",\\\"84\\\",\\\"85\\\",\\\"86\\\",\\\"87\\\",\\\"88\\\",\\\"89\\\",\\\"90\\\",\\\"91\\\",\\\"92\\\",\\\"93\\\",\\\"94\\\",\\\"95\\\",\\\"96\\\",\\\"97\\\",\\\"98\\\",\\\"99\\\",\\\"100\\\",\\\"101\\\",\\\"102\\\",\\\"103\\\",\\\"104\\\",\\\"105\\\",\\\"106\\\",\\\"107\\\",\\\"108\\\",\\\"109\\\",\\\"110\\\",\\\"111\\\",\\\"112\\\",\\\"113\\\",\\\"114\\\",\\\"115\\\",\\\"116\\\",\\\"117\\\",\\\"118\\\",\\\"119\\\",\\\"120\\\",\\\"121\\\",\\\"122\\\",\\\"123\\\",\\\"124\\\",\\\"125\\\",\\\"126\\\",\\\"127\\\",\\\"128\\\",\\\"129\\\",\\\"130\\\",\\\"131\\\",\\\"132\\\",\\\"133\\\",\\\"134\\\",\\\"135\\\",\\\"136\\\",\\\"137\\\",\\\"138\\\",\\\"139\\\",\\\"140\\\",\\\"141\\\",\\\"142\\\",\\\"143\\\",\\\"144\\\",\\\"145\\\",\\\"146\\\",\\\"147\\\",\\\"148\\\",\\\"149\\\",\\\"150\\\",\\\"151\\\",\\\"152\\\",\\\"153\\\",\\\"154\\\",\\\"155\\\",\\\"156\\\",\\\"157\\\",\\\"158\\\",\\\"159\\\",\\\"160\\\",\\\"161\\\",\\\"162\\\",\\\"163\\\",\\\"164\\\",\\\"165\\\",\\\"166\\\",\\\"167\\\",\\\"168\\\",\\\"169\\\",\\\"170\\\",\\\"171\\\",\\\"172\\\",\\\"173\\\",\\\"174\\\",\\\"175\\\",\\\"176\\\",\\\"177\\\",\\\"178\\\",\\\"179\\\",\\\"180\\\",\\\"181\\\",\\\"182\\\",\\\"183\\\",\\\"184\\\",\\\"185\\\",\\\"186\\\",\\\"187\\\",\\\"188\\\",\\\"189\\\",\\\"190\\\",\\\"191\\\",\\\"192\\\",\\\"193\\\",\\\"194\\\",\\\"195\\\",\\\"196\\\",\\\"197\\\",\\\"198\\\",\\\"199\\\",\\\"200\\\",\\\"201\\\",\\\"202\\\",\\\"203\\\",\\\"204\\\",\\\"205\\\",\\\"206\\\",\\\"207\\\",\\\"208\\\",\\\"209\\\",\\\"210\\\",\\\"211\\\",\\\"212\\\",\\\"213\\\",\\\"214\\\",\\\"215\\\",\\\"216\\\",\\\"217\\\",\\\"218\\\",\\\"219\\\",\\\"220\\\",\\\"221\\\",\\\"222\\\",\\\"223\\\",\\\"224\\\",\\\"225\\\",\\\"226\\\",\\\"227\\\",\\\"228\\\",\\\"229\\\",\\\"230\\\",\\\"231\\\",\\\"232\\\",\\\"233\\\",\\\"234\\\",\\\"235\\\",\\\"236\\\",\\\"237\\\",\\\"238\\\",\\\"239\\\",\\\"240\\\",\\\"241\\\",\\\"242\\\",\\\"243\\\",\\\"244\\\",\\\"245\\\",\\\"246\\\",\\\"247\\\",\\\"248\\\",\\\"249\\\",\\\"250\\\",\\\"251\\\",\\\"252\\\",\\\"253\\\",\\\"254\\\",\\\"255\\\",\\\"256\\\",\\\"257\\\",\\\"258\\\",\\\"259\\\",\\\"260\\\",\\\"261\\\",\\\"262\\\",\\\"263\\\",\\\"264\\\",\\\"265\\\",\\\"266\\\",\\\"267\\\",\\\"268\\\",\\\"269\\\",\\\"270\\\",\\\"271\\\",\\\"272\\\",\\\"273\\\",\\\"274\\\",\\\"275\\\",\\\"276\\\",\\\"277\\\",\\\"278\\\",\\\"279\\\",\\\"280\\\",\\\"281\\\",\\\"282\\\",\\\"283\\\",\\\"284\\\",\\\"285\\\",\\\"286\\\",\\\"287\\\",\\\"288\\\",\\\"289\\\",\\\"290\\\",\\\"291\\\",\\\"292\\\",\\\"293\\\",\\\"294\\\",\\\"295\\\",\\\"296\\\",\\\"297\\\",\\\"298\\\",\\\"299\\\",\\\"300\\\",\\\"301\\\",\\\"302\\\",\\\"303\\\",\\\"304\\\",\\\"305\\\",\\\"306\\\",\\\"307\\\",\\\"308\\\",\\\"309\\\",\\\"310\\\",\\\"311\\\",\\\"312\\\",\\\"313\\\",\\\"314\\\",\\\"315\\\",\\\"316\\\",\\\"317\\\",\\\"318\\\",\\\"319\\\",\\\"320\\\",\\\"321\\\",\\\"322\\\",\\\"323\\\",\\\"324\\\",\\\"325\\\",\\\"326\\\",\\\"327\\\",\\\"328\\\",\\\"329\\\",\\\"330\\\",\\\"331\\\",\\\"332\\\",\\\"333\\\",\\\"334\\\",\\\"335\\\",\\\"336\\\",\\\"337\\\",\\\"338\\\",\\\"339\\\",\\\"340\\\",\\\"341\\\",\\\"342\\\",\\\"343\\\",\\\"344\\\",\\\"345\\\",\\\"346\\\",\\\"347\\\",\\\"348\\\",\\\"349\\\",\\\"350\\\",\\\"351\\\",\\\"352\\\",\\\"353\\\",\\\"354\\\",\\\"355\\\",\\\"356\\\",\\\"357\\\",\\\"358\\\",\\\"359\\\",\\\"360\\\",\\\"361\\\",\\\"362\\\",\\\"363\\\",\\\"364\\\",\\\"365\\\",\\\"366\\\",\\\"367\\\",\\\"368\\\",\\\"369\\\",\\\"370\\\",\\\"371\\\",\\\"372\\\",\\\"373\\\",\\\"374\\\",\\\"375\\\",\\\"376\\\",\\\"377\\\",\\\"378\\\",\\\"379\\\",\\\"380\\\",\\\"381\\\",\\\"382\\\",\\\"383\\\",\\\"384\\\",\\\"385\\\",\\\"386\\\",\\\"387\\\",\\\"388\\\",\\\"389\\\",\\\"390\\\",\\\"391\\\",\\\"392\\\",\\\"393\\\",\\\"394\\\",\\\"395\\\",\\\"396\\\",\\\"397\\\",\\\"398\\\",\\\"399\\\",\\\"400\\\",\\\"401\\\",\\\"402\\\",\\\"403\\\",\\\"404\\\",\\\"405\\\",\\\"406\\\",\\\"407\\\",\\\"408\\\",\\\"409\\\",\\\"410\\\",\\\"411\\\",\\\"412\\\",\\\"413\\\",\\\"414\\\",\\\"415\\\",\\\"416\\\",\\\"417\\\",\\\"418\\\",\\\"419\\\",\\\"420\\\",\\\"421\\\",\\\"422\\\",\\\"423\\\",\\\"424\\\",\\\"425\\\",\\\"426\\\",\\\"427\\\",\\\"428\\\",\\\"429\\\",\\\"430\\\",\\\"431\\\",\\\"432\\\",\\\"433\\\",\\\"434\\\",\\\"435\\\",\\\"436\\\",\\\"437\\\",\\\"438\\\",\\\"439\\\",\\\"440\\\",\\\"441\\\",\\\"442\\\",\\\"443\\\",\\\"444\\\",\\\"445\\\",\\\"446\\\",\\\"447\\\",\\\"448\\\",\\\"449\\\",\\\"450\\\",\\\"451\\\",\\\"452\\\",\\\"453\\\",\\\"454\\\",\\\"455\\\",\\\"456\\\",\\\"457\\\",\\\"458\\\",\\\"459\\\",\\\"460\\\",\\\"461\\\",\\\"462\\\",\\\"463\\\",\\\"464\\\",\\\"465\\\",\\\"466\\\",\\\"467\\\",\\\"468\\\",\\\"469\\\",\\\"470\\\",\\\"471\\\",\\\"472\\\",\\\"473\\\",\\\"474\\\",\\\"475\\\",\\\"476\\\",\\\"477\\\",\\\"478\\\",\\\"479\\\",\\\"480\\\",\\\"481\\\",\\\"482\\\",\\\"483\\\",\\\"484\\\",\\\"485\\\",\\\"486\\\",\\\"487\\\",\\\"488\\\",\\\"489\\\",\\\"490\\\",\\\"491\\\",\\\"492\\\",\\\"493\\\",\\\"494\\\",\\\"495\\\",\\\"496\\\",\\\"497\\\",\\\"498\\\",\\\"499\\\",\\\"500\\\",\\\"501\\\"],\\\"changes\\\":WebIO.getval({\\\"name\\\":\\\"changes\\\",\\\"scope\\\":\\\"8387374769674877378\\\",\\\"id\\\":\\\"12618199436969209982\\\",\\\"type\\\":\\\"observable\\\"}),\\\"index\\\":WebIO.getval({\\\"name\\\":\\\"index\\\",\\\"scope\\\":\\\"8387374769674877378\\\",\\\"id\\\":\\\"13004035569327216260\\\",\\\"type\\\":\\\"observable\\\"})};\\n    var self = this;\\n    function AppViewModel() {\\n        for (var key in json_data) {\\n            var el = json_data[key];\\n            this[key] = Array.isArray(el) ? ko.observableArray(el) : ko.observable(el);\\n        }\\n        \\n        [this[\\\"formatted_val\\\"]=ko.computed(    function(){\\n        return this.formatted_vals()[parseInt(this.index())-(1)];\\n    }\\n,this)]\\n        [this[\\\"changes\\\"].subscribe((function (val){!(this.valueFromJulia[\\\"changes\\\"]) ? (WebIO.setval({\\\"name\\\":\\\"changes\\\",\\\"scope\\\":\\\"8387374769674877378\\\",\\\"id\\\":\\\"12618199436969209982\\\",\\\"type\\\":\\\"observable\\\"},val)) : undefined; return this.valueFromJulia[\\\"changes\\\"]=false}),self),this[\\\"index\\\"].subscribe((function (val){!(this.valueFromJulia[\\\"index\\\"]) ? (WebIO.setval({\\\"name\\\":\\\"index\\\",\\\"scope\\\":\\\"8387374769674877378\\\",\\\"id\\\":\\\"13004035569327216260\\\",\\\"type\\\":\\\"observable\\\"},val)) : undefined; return this.valueFromJulia[\\\"index\\\"]=false}),self)]\\n        \\n    }\\n    self.model = new AppViewModel();\\n    self.valueFromJulia = {};\\n    for (var key in json_data) {\\n        self.valueFromJulia[key] = false;\\n    }\\n    ko.applyBindings(self.model, self.dom);\\n}\\n);\\n    (WebIO.importBlock({\\\"data\\\":[{\\\"name\\\":\\\"knockout\\\",\\\"type\\\":\\\"js\\\",\\\"url\\\":\\\"/assetserver/727383f2a47bd31570b7da84eee7b022dd6d7c78-knockout.js\\\"},{\\\"name\\\":\\\"knockout_punches\\\",\\\"type\\\":\\\"js\\\",\\\"url\\\":\\\"/assetserver/382b41b3b1bd9f26f75861d360bad7f8beea211f-knockout_punches.js\\\"}],\\\"type\\\":\\\"async_block\\\"})).then((imports) => handler.apply(this, imports));\\n}\\n\")])], Dict{Symbol, Any}(:className => \"field interact-widget\")), WebIO.Node{WebIO.DOM}(WebIO.DOM(:html, :div), Any[WebIO.Scope(WebIO.Node{WebIO.DOM}(WebIO.DOM(:html, :div), Any[WebIO.Node{WebIO.DOM}(WebIO.DOM(:html, :div), Any[WebIO.Node{WebIO.DOM}(WebIO.DOM(:html, :label), Any[\"scale\"], Dict{Symbol, Any}(:className => \"interact \", :style => Dict{Any, Any}(:padding => \"5px 10px 0px 10px\")))], Dict{Symbol, Any}(:className => \"interact-flex-row-left\")), WebIO.Node{WebIO.DOM}(WebIO.DOM(:html, :div), Any[WebIO.Node{WebIO.DOM}(WebIO.DOM(:html, :input), Any[], Dict{Symbol, Any}(:max => 20, :min => 1, :attributes => Dict{Any, Any}(:type => \"range\", Symbol(\"data-bind\") => \"numericValue: index, valueUpdate: 'input', event: {change: function (){this.changes(this.changes()+1)}}\", \"orient\" => \"horizontal\"), :step => 1, :className => \"slider slider is-fullwidth\", :style => Dict{Any, Any}()))], Dict{Symbol, Any}(:className => \"interact-flex-row-center\")), WebIO.Node{WebIO.DOM}(WebIO.DOM(:html, :div), Any[WebIO.Node{WebIO.DOM}(WebIO.DOM(:html, :p), Any[], Dict{Symbol, Any}(:attributes => Dict(\"data-bind\" => \"text: formatted_val\")))], Dict{Symbol, Any}(:className => \"interact-flex-row-right\"))], Dict{Symbol, Any}(:className => \"interact-flex-row interact-widget\")), Dict{String, Tuple{Observables.AbstractObservable, Union{Nothing, Bool}}}(\"changes\" => (Observable(0), nothing), \"index\" => (Observable{Any}(10), nothing)), Set{String}(), nothing, WebIO.Asset[WebIO.Asset(\"js\", \"knockout\", \"/home/dushya/.julia/packages/Knockout/HReiN/src/../assets/knockout.js\"), WebIO.Asset(\"js\", \"knockout_punches\", \"/home/dushya/.julia/packages/Knockout/HReiN/src/../assets/knockout_punches.js\"), WebIO.Asset(\"js\", nothing, \"/home/dushya/.julia/packages/InteractBase/LJXv3/src/../assets/all.js\"), WebIO.Asset(\"css\", nothing, \"/home/dushya/.julia/packages/InteractBase/LJXv3/src/../assets/style.css\"), WebIO.Asset(\"css\", nothing, \"/home/dushya/.julia/packages/Interact/PENUy/src/../assets/bulma_confined.min.css\")], Dict{Any, Any}(\"changes\" => Any[WebIO.JSString(\"(function (val){return (val!=this.model[\\\"changes\\\"]()) ? (this.valueFromJulia[\\\"changes\\\"]=true, this.model[\\\"changes\\\"](val)) : undefined})\")], \"index\" => Any[WebIO.JSString(\"(function (val){return (val!=this.model[\\\"index\\\"]()) ? (this.valueFromJulia[\\\"index\\\"]=true, this.model[\\\"index\\\"](val)) : undefined})\")]), WebIO.ConnectionPool(Channel{Any}(32), Set{WebIO.AbstractConnection}(), Base.GenericCondition{ReentrantLock}(Base.IntrusiveLinkedList{Task}(Task (runnable) @0x00007fc199206590, Task (runnable) @0x00007fc199206590), ReentrantLock(nothing, 0x00000000, 0x00, Base.GenericCondition{Base.Threads.SpinLock}(Base.IntrusiveLinkedList{Task}(nothing, nothing), Base.Threads.SpinLock(0)), (0, 140470210139904, 140469454274048)))), WebIO.JSString[WebIO.JSString(\"function () {\\n    var handler = (function (ko, koPunches) {\\n    ko.punches.enableAll();\\n    ko.bindingHandlers.numericValue = {\\n        init: function(element, valueAccessor, allBindings, data, context) {\\n            var stringified = ko.observable(ko.unwrap(valueAccessor()));\\n            stringified.subscribe(function(value) {\\n                var val = parseFloat(value);\\n                if (!isNaN(val)) {\\n                    valueAccessor()(val);\\n                }\\n            });\\n            valueAccessor().subscribe(function(value) {\\n                var str = JSON.stringify(value);\\n                if ((str == \\\"0\\\") && ([\\\"-0\\\", \\\"-0.\\\"].indexOf(stringified()) >= 0))\\n                     return;\\n                 if ([\\\"null\\\", \\\"\\\"].indexOf(str) >= 0)\\n                     return;\\n                stringified(str);\\n            });\\n            ko.applyBindingsToNode(\\n                element,\\n                {\\n                    value: stringified,\\n                    valueUpdate: allBindings.get('valueUpdate'),\\n                },\\n                context,\\n            );\\n        }\\n    };\\n    var json_data = {\\\"formatted_vals\\\":[\\\"0.1\\\",\\\"0.2\\\",\\\"0.3\\\",\\\"0.4\\\",\\\"0.5\\\",\\\"0.6\\\",\\\"0.7\\\",\\\"0.8\\\",\\\"0.9\\\",\\\"1.0\\\",\\\"1.1\\\",\\\"1.2\\\",\\\"1.3\\\",\\\"1.4\\\",\\\"1.5\\\",\\\"1.6\\\",\\\"1.7\\\",\\\"1.8\\\",\\\"1.9\\\",\\\"2.0\\\"],\\\"changes\\\":WebIO.getval({\\\"name\\\":\\\"changes\\\",\\\"scope\\\":\\\"16143291499542511897\\\",\\\"id\\\":\\\"4966506382862240494\\\",\\\"type\\\":\\\"observable\\\"}),\\\"index\\\":WebIO.getval({\\\"name\\\":\\\"index\\\",\\\"scope\\\":\\\"16143291499542511897\\\",\\\"id\\\":\\\"13473092038170883251\\\",\\\"type\\\":\\\"observable\\\"})};\\n    var self = this;\\n    function AppViewModel() {\\n        for (var key in json_data) {\\n            var el = json_data[key];\\n            this[key] = Array.isArray(el) ? ko.observableArray(el) : ko.observable(el);\\n        }\\n        \\n        [this[\\\"formatted_val\\\"]=ko.computed(    function(){\\n        return this.formatted_vals()[parseInt(this.index())-(1)];\\n    }\\n,this)]\\n        [this[\\\"changes\\\"].subscribe((function (val){!(this.valueFromJulia[\\\"changes\\\"]) ? (WebIO.setval({\\\"name\\\":\\\"changes\\\",\\\"scope\\\":\\\"16143291499542511897\\\",\\\"id\\\":\\\"4966506382862240494\\\",\\\"type\\\":\\\"observable\\\"},val)) : undefined; return this.valueFromJulia[\\\"changes\\\"]=false}),self),this[\\\"index\\\"].subscribe((function (val){!(this.valueFromJulia[\\\"index\\\"]) ? (WebIO.setval({\\\"name\\\":\\\"index\\\",\\\"scope\\\":\\\"16143291499542511897\\\",\\\"id\\\":\\\"13473092038170883251\\\",\\\"type\\\":\\\"observable\\\"},val)) : undefined; return this.valueFromJulia[\\\"index\\\"]=false}),self)]\\n        \\n    }\\n    self.model = new AppViewModel();\\n    self.valueFromJulia = {};\\n    for (var key in json_data) {\\n        self.valueFromJulia[key] = false;\\n    }\\n    ko.applyBindings(self.model, self.dom);\\n}\\n);\\n    (WebIO.importBlock({\\\"data\\\":[{\\\"name\\\":\\\"knockout\\\",\\\"type\\\":\\\"js\\\",\\\"url\\\":\\\"/assetserver/727383f2a47bd31570b7da84eee7b022dd6d7c78-knockout.js\\\"},{\\\"name\\\":\\\"knockout_punches\\\",\\\"type\\\":\\\"js\\\",\\\"url\\\":\\\"/assetserver/382b41b3b1bd9f26f75861d360bad7f8beea211f-knockout_punches.js\\\"}],\\\"type\\\":\\\"async_block\\\"})).then((imports) => handler.apply(this, imports));\\n}\\n\")])], Dict{Symbol, Any}(:className => \"field interact-widget\")), WebIO.Node{WebIO.DOM}(WebIO.DOM(:html, :div), Any[WebIO.Node{WebIO.DOM}(WebIO.DOM(:html, :div), Any[WebIO.Scope(WebIO.Node{WebIO.DOM}(WebIO.DOM(:html, :div), Any[], Dict{Symbol, Any}(:id => \"container\")), Dict{String, Tuple{Observables.AbstractObservable, Union{Nothing, Bool}}}(\"value\" => (Observable(\"\\\\;\\\\;\"), nothing)), Set{String}(), nothing, WebIO.Asset[WebIO.Asset(\"js\", nothing, \"/home/dushya/.julia/packages/InteractBase/LJXv3/src/../assets/katex.min.js\"), WebIO.Asset(\"css\", nothing, \"/home/dushya/.julia/packages/InteractBase/LJXv3/src/../assets/katex.min.css\")], Dict{Any, Any}(\"value\" => Any[WebIO.JSString(\"(function (txt){return this.k.render(txt,this.container)})\")]), WebIO.ConnectionPool(Channel{Any}(32), Set{WebIO.AbstractConnection}(), Base.GenericCondition{ReentrantLock}(Base.IntrusiveLinkedList{Task}(Task (runnable) @0x00007fc2071c5460, Task (runnable) @0x00007fc2071c5460), ReentrantLock(nothing, 0x00000000, 0x00, Base.GenericCondition{Base.Threads.SpinLock}(Base.IntrusiveLinkedList{Task}(nothing, nothing), Base.Threads.SpinLock(0)), (2, 140471292930288, 140471128950592)))), WebIO.JSString[WebIO.JSString(\"function () {\\n    var handler = ((function (k){this.k=k; this.container=this.dom.querySelector(\\\"#container\\\"); return k.render(\\\"\\\\\\\\;\\\\\\\\;\\\",this.container)}));\\n    (WebIO.importBlock({\\\"data\\\":[{\\\"name\\\":null,\\\"type\\\":\\\"js\\\",\\\"url\\\":\\\"/assetserver/dd22ed1bf1896c2748f3fe616ce0b838adc895c1-katex.min.js\\\"},{\\\"name\\\":null,\\\"type\\\":\\\"css\\\",\\\"url\\\":\\\"/assetserver/46517a424aa5e6cffc1360d7e0848b601c584ee3-katex.min.css\\\"}],\\\"type\\\":\\\"async_block\\\"})).then((imports) => handler.apply(this, imports));\\n}\\n\")])], Dict{Symbol, Any}(:className => \"interact-widget\")), WebIO.Node{WebIO.DOM}(WebIO.DOM(:html, :div), Any[WebIO.Scope(WebIO.Node{WebIO.DOM}(WebIO.DOM(:html, :button), Any[\"run\"], Dict{Symbol, Any}(:attributes => Dict{Any, Any}(\"data-bind\" => \"click: function (){this.clicks(this.clicks()+1)}, css: {'is-loading' : loading}\"), :className => \"is-medium button is-primary\", :style => Dict{String, Any}())), Dict{String, Tuple{Observables.AbstractObservable, Union{Nothing, Bool}}}(\"loading\" => (Observable(false), nothing), \"clicks\" => (Observable(0), nothing)), Set{String}(), nothing, WebIO.Asset[WebIO.Asset(\"js\", \"knockout\", \"/home/dushya/.julia/packages/Knockout/HReiN/src/../assets/knockout.js\"), WebIO.Asset(\"js\", \"knockout_punches\", \"/home/dushya/.julia/packages/Knockout/HReiN/src/../assets/knockout_punches.js\"), WebIO.Asset(\"js\", nothing, \"/home/dushya/.julia/packages/InteractBase/LJXv3/src/../assets/all.js\"), WebIO.Asset(\"css\", nothing, \"/home/dushya/.julia/packages/InteractBase/LJXv3/src/../assets/style.css\"), WebIO.Asset(\"css\", nothing, \"/home/dushya/.julia/packages/Interact/PENUy/src/../assets/bulma_confined.min.css\")], Dict{Any, Any}(\"loading\" => Any[WebIO.JSString(\"(function (val){return (val!=this.model[\\\"loading\\\"]()) ? (this.valueFromJulia[\\\"loading\\\"]=true, this.model[\\\"loading\\\"](val)) : undefined})\")], \"clicks\" => Any[WebIO.JSString(\"(function (val){return (val!=this.model[\\\"clicks\\\"]()) ? (this.valueFromJulia[\\\"clicks\\\"]=true, this.model[\\\"clicks\\\"](val)) : undefined})\")]), WebIO.ConnectionPool(Channel{Any}(32), Set{WebIO.AbstractConnection}(), Base.GenericCondition{ReentrantLock}(Base.IntrusiveLinkedList{Task}(Task (runnable) @0x00007fc1992f7d00, Task (runnable) @0x00007fc1992f7d00), ReentrantLock(nothing, 0x00000000, 0x00, Base.GenericCondition{Base.Threads.SpinLock}(Base.IntrusiveLinkedList{Task}(nothing, nothing), Base.Threads.SpinLock(0)), (1, 140471162159984, 140471214085184)))), WebIO.JSString[WebIO.JSString(\"function () {\\n    var handler = (function (ko, koPunches) {\\n    ko.punches.enableAll();\\n    ko.bindingHandlers.numericValue = {\\n        init: function(element, valueAccessor, allBindings, data, context) {\\n            var stringified = ko.observable(ko.unwrap(valueAccessor()));\\n            stringified.subscribe(function(value) {\\n                var val = parseFloat(value);\\n                if (!isNaN(val)) {\\n                    valueAccessor()(val);\\n                }\\n            });\\n            valueAccessor().subscribe(function(value) {\\n                var str = JSON.stringify(value);\\n                if ((str == \\\"0\\\") && ([\\\"-0\\\", \\\"-0.\\\"].indexOf(stringified()) >= 0))\\n                     return;\\n                 if ([\\\"null\\\", \\\"\\\"].indexOf(str) >= 0)\\n                     return;\\n                stringified(str);\\n            });\\n            ko.applyBindingsToNode(\\n                element,\\n                {\\n                    value: stringified,\\n                    valueUpdate: allBindings.get('valueUpdate'),\\n                },\\n                context,\\n            );\\n        }\\n    };\\n    var json_data = {\\\"loading\\\":WebIO.getval({\\\"name\\\":\\\"loading\\\",\\\"scope\\\":\\\"14588169212001676275\\\",\\\"id\\\":\\\"16772934910110350594\\\",\\\"type\\\":\\\"observable\\\"}),\\\"clicks\\\":WebIO.getval({\\\"name\\\":\\\"clicks\\\",\\\"scope\\\":\\\"14588169212001676275\\\",\\\"id\\\":\\\"7141107516931660809\\\",\\\"type\\\":\\\"observable\\\"})};\\n    var self = this;\\n    function AppViewModel() {\\n        for (var key in json_data) {\\n            var el = json_data[key];\\n            this[key] = Array.isArray(el) ? ko.observableArray(el) : ko.observable(el);\\n        }\\n        \\n        \\n        [this[\\\"loading\\\"].subscribe((function (val){!(this.valueFromJulia[\\\"loading\\\"]) ? (WebIO.setval({\\\"name\\\":\\\"loading\\\",\\\"scope\\\":\\\"14588169212001676275\\\",\\\"id\\\":\\\"16772934910110350594\\\",\\\"type\\\":\\\"observable\\\"},val)) : undefined; return this.valueFromJulia[\\\"loading\\\"]=false}),self),this[\\\"clicks\\\"].subscribe((function (val){!(this.valueFromJulia[\\\"clicks\\\"]) ? (WebIO.setval({\\\"name\\\":\\\"clicks\\\",\\\"scope\\\":\\\"14588169212001676275\\\",\\\"id\\\":\\\"7141107516931660809\\\",\\\"type\\\":\\\"observable\\\"},val)) : undefined; return this.valueFromJulia[\\\"clicks\\\"]=false}),self)]\\n        \\n    }\\n    self.model = new AppViewModel();\\n    self.valueFromJulia = {};\\n    for (var key in json_data) {\\n        self.valueFromJulia[key] = false;\\n    }\\n    ko.applyBindings(self.model, self.dom);\\n}\\n);\\n    (WebIO.importBlock({\\\"data\\\":[{\\\"name\\\":\\\"knockout\\\",\\\"type\\\":\\\"js\\\",\\\"url\\\":\\\"/assetserver/727383f2a47bd31570b7da84eee7b022dd6d7c78-knockout.js\\\"},{\\\"name\\\":\\\"knockout_punches\\\",\\\"type\\\":\\\"js\\\",\\\"url\\\":\\\"/assetserver/382b41b3b1bd9f26f75861d360bad7f8beea211f-knockout_punches.js\\\"}],\\\"type\\\":\\\"async_block\\\"})).then((imports) => handler.apply(this, imports));\\n}\\n\")])], Dict{Symbol, Any}(:className => \"field interact-widget\")), WebIO.Node{WebIO.DOM}(WebIO.DOM(:html, :div), Any[WebIO.Scope(WebIO.Node{WebIO.DOM}(WebIO.DOM(:html, :div), Any[], Dict{Symbol, Any}(:id => \"container\")), Dict{String, Tuple{Observables.AbstractObservable, Union{Nothing, Bool}}}(\"value\" => (Observable(\"\\\\;\\\\;\"), nothing)), Set{String}(), nothing, WebIO.Asset[WebIO.Asset(\"js\", nothing, \"/home/dushya/.julia/packages/InteractBase/LJXv3/src/../assets/katex.min.js\"), WebIO.Asset(\"css\", nothing, \"/home/dushya/.julia/packages/InteractBase/LJXv3/src/../assets/katex.min.css\")], Dict{Any, Any}(\"value\" => Any[WebIO.JSString(\"(function (txt){return this.k.render(txt,this.container)})\")]), WebIO.ConnectionPool(Channel{Any}(32), Set{WebIO.AbstractConnection}(), Base.GenericCondition{ReentrantLock}(Base.IntrusiveLinkedList{Task}(Task (runnable) @0x00007fc2071c5460, Task (runnable) @0x00007fc2071c5460), ReentrantLock(nothing, 0x00000000, 0x00, Base.GenericCondition{Base.Threads.SpinLock}(Base.IntrusiveLinkedList{Task}(nothing, nothing), Base.Threads.SpinLock(0)), (2, 140471292930288, 140471128950592)))), WebIO.JSString[WebIO.JSString(\"function () {\\n    var handler = ((function (k){this.k=k; this.container=this.dom.querySelector(\\\"#container\\\"); return k.render(\\\"\\\\\\\\;\\\\\\\\;\\\",this.container)}));\\n    (WebIO.importBlock({\\\"data\\\":[{\\\"name\\\":null,\\\"type\\\":\\\"js\\\",\\\"url\\\":\\\"/assetserver/dd22ed1bf1896c2748f3fe616ce0b838adc895c1-katex.min.js\\\"},{\\\"name\\\":null,\\\"type\\\":\\\"css\\\",\\\"url\\\":\\\"/assetserver/46517a424aa5e6cffc1360d7e0848b601c584ee3-katex.min.css\\\"}],\\\"type\\\":\\\"async_block\\\"})).then((imports) => handler.apply(this, imports));\\n}\\n\")])], Dict{Symbol, Any}(:className => \"interact-widget\")), WebIO.Node{WebIO.DOM}(WebIO.DOM(:html, :div), Any[WebIO.Scope(WebIO.Node{WebIO.DOM}(WebIO.DOM(:html, :button), Any[\"stop\"], Dict{Symbol, Any}(:attributes => Dict{Any, Any}(\"data-bind\" => \"click: function (){this.clicks(this.clicks()+1)}, css: {'is-loading' : loading}\"), :className => \"is-medium button is-primary\", :style => Dict{String, Any}())), Dict{String, Tuple{Observables.AbstractObservable, Union{Nothing, Bool}}}(\"loading\" => (Observable(false), nothing), \"clicks\" => (Observable(0), nothing)), Set{String}(), nothing, WebIO.Asset[WebIO.Asset(\"js\", \"knockout\", \"/home/dushya/.julia/packages/Knockout/HReiN/src/../assets/knockout.js\"), WebIO.Asset(\"js\", \"knockout_punches\", \"/home/dushya/.julia/packages/Knockout/HReiN/src/../assets/knockout_punches.js\"), WebIO.Asset(\"js\", nothing, \"/home/dushya/.julia/packages/InteractBase/LJXv3/src/../assets/all.js\"), WebIO.Asset(\"css\", nothing, \"/home/dushya/.julia/packages/InteractBase/LJXv3/src/../assets/style.css\"), WebIO.Asset(\"css\", nothing, \"/home/dushya/.julia/packages/Interact/PENUy/src/../assets/bulma_confined.min.css\")], Dict{Any, Any}(\"loading\" => Any[WebIO.JSString(\"(function (val){return (val!=this.model[\\\"loading\\\"]()) ? (this.valueFromJulia[\\\"loading\\\"]=true, this.model[\\\"loading\\\"](val)) : undefined})\")], \"clicks\" => Any[WebIO.JSString(\"(function (val){return (val!=this.model[\\\"clicks\\\"]()) ? (this.valueFromJulia[\\\"clicks\\\"]=true, this.model[\\\"clicks\\\"](val)) : undefined})\")]), WebIO.ConnectionPool(Channel{Any}(32), Set{WebIO.AbstractConnection}(), Base.GenericCondition{ReentrantLock}(Base.IntrusiveLinkedList{Task}(Task (runnable) @0x00007fc19934e590, Task (runnable) @0x00007fc19934e590), ReentrantLock(nothing, 0x00000000, 0x00, Base.GenericCondition{Base.Threads.SpinLock}(Base.IntrusiveLinkedList{Task}(nothing, nothing), Base.Threads.SpinLock(0)), (8, 140469403133568, 140469403382048)))), WebIO.JSString[WebIO.JSString(\"function () {\\n    var handler = (function (ko, koPunches) {\\n    ko.punches.enableAll();\\n    ko.bindingHandlers.numericValue = {\\n        init: function(element, valueAccessor, allBindings, data, context) {\\n            var stringified = ko.observable(ko.unwrap(valueAccessor()));\\n            stringified.subscribe(function(value) {\\n                var val = parseFloat(value);\\n                if (!isNaN(val)) {\\n                    valueAccessor()(val);\\n                }\\n            });\\n            valueAccessor().subscribe(function(value) {\\n                var str = JSON.stringify(value);\\n                if ((str == \\\"0\\\") && ([\\\"-0\\\", \\\"-0.\\\"].indexOf(stringified()) >= 0))\\n                     return;\\n                 if ([\\\"null\\\", \\\"\\\"].indexOf(str) >= 0)\\n                     return;\\n                stringified(str);\\n            });\\n            ko.applyBindingsToNode(\\n                element,\\n                {\\n                    value: stringified,\\n                    valueUpdate: allBindings.get('valueUpdate'),\\n                },\\n                context,\\n            );\\n        }\\n    };\\n    var json_data = {\\\"loading\\\":WebIO.getval({\\\"name\\\":\\\"loading\\\",\\\"scope\\\":\\\"12059177776280029268\\\",\\\"id\\\":\\\"17681226139648519561\\\",\\\"type\\\":\\\"observable\\\"}),\\\"clicks\\\":WebIO.getval({\\\"name\\\":\\\"clicks\\\",\\\"scope\\\":\\\"12059177776280029268\\\",\\\"id\\\":\\\"423590706521687981\\\",\\\"type\\\":\\\"observable\\\"})};\\n    var self = this;\\n    function AppViewModel() {\\n        for (var key in json_data) {\\n            var el = json_data[key];\\n            this[key] = Array.isArray(el) ? ko.observableArray(el) : ko.observable(el);\\n        }\\n        \\n        \\n        [this[\\\"loading\\\"].subscribe((function (val){!(this.valueFromJulia[\\\"loading\\\"]) ? (WebIO.setval({\\\"name\\\":\\\"loading\\\",\\\"scope\\\":\\\"12059177776280029268\\\",\\\"id\\\":\\\"17681226139648519561\\\",\\\"type\\\":\\\"observable\\\"},val)) : undefined; return this.valueFromJulia[\\\"loading\\\"]=false}),self),this[\\\"clicks\\\"].subscribe((function (val){!(this.valueFromJulia[\\\"clicks\\\"]) ? (WebIO.setval({\\\"name\\\":\\\"clicks\\\",\\\"scope\\\":\\\"12059177776280029268\\\",\\\"id\\\":\\\"423590706521687981\\\",\\\"type\\\":\\\"observable\\\"},val)) : undefined; return this.valueFromJulia[\\\"clicks\\\"]=false}),self)]\\n        \\n    }\\n    self.model = new AppViewModel();\\n    self.valueFromJulia = {};\\n    for (var key in json_data) {\\n        self.valueFromJulia[key] = false;\\n    }\\n    ko.applyBindings(self.model, self.dom);\\n}\\n);\\n    (WebIO.importBlock({\\\"data\\\":[{\\\"name\\\":\\\"knockout\\\",\\\"type\\\":\\\"js\\\",\\\"url\\\":\\\"/assetserver/727383f2a47bd31570b7da84eee7b022dd6d7c78-knockout.js\\\"},{\\\"name\\\":\\\"knockout_punches\\\",\\\"type\\\":\\\"js\\\",\\\"url\\\":\\\"/assetserver/382b41b3b1bd9f26f75861d360bad7f8beea211f-knockout_punches.js\\\"}],\\\"type\\\":\\\"async_block\\\"})).then((imports) => handler.apply(this, imports));\\n}\\n\")])], Dict{Symbol, Any}(:className => \"field interact-widget\")), WebIO.Node{WebIO.DOM}(WebIO.DOM(:html, :div), Any[WebIO.Scope(WebIO.Node{WebIO.DOM}(WebIO.DOM(:html, :div), Any[], Dict{Symbol, Any}(:id => \"container\")), Dict{String, Tuple{Observables.AbstractObservable, Union{Nothing, Bool}}}(\"value\" => (Observable(\"\\\\;\\\\;\"), nothing)), Set{String}(), nothing, WebIO.Asset[WebIO.Asset(\"js\", nothing, \"/home/dushya/.julia/packages/InteractBase/LJXv3/src/../assets/katex.min.js\"), WebIO.Asset(\"css\", nothing, \"/home/dushya/.julia/packages/InteractBase/LJXv3/src/../assets/katex.min.css\")], Dict{Any, Any}(\"value\" => Any[WebIO.JSString(\"(function (txt){return this.k.render(txt,this.container)})\")]), WebIO.ConnectionPool(Channel{Any}(32), Set{WebIO.AbstractConnection}(), Base.GenericCondition{ReentrantLock}(Base.IntrusiveLinkedList{Task}(Task (runnable) @0x00007fc2071c5460, Task (runnable) @0x00007fc2071c5460), ReentrantLock(nothing, 0x00000000, 0x00, Base.GenericCondition{Base.Threads.SpinLock}(Base.IntrusiveLinkedList{Task}(nothing, nothing), Base.Threads.SpinLock(0)), (2, 140471292930288, 140471128950592)))), WebIO.JSString[WebIO.JSString(\"function () {\\n    var handler = ((function (k){this.k=k; this.container=this.dom.querySelector(\\\"#container\\\"); return k.render(\\\"\\\\\\\\;\\\\\\\\;\\\",this.container)}));\\n    (WebIO.importBlock({\\\"data\\\":[{\\\"name\\\":null,\\\"type\\\":\\\"js\\\",\\\"url\\\":\\\"/assetserver/dd22ed1bf1896c2748f3fe616ce0b838adc895c1-katex.min.js\\\"},{\\\"name\\\":null,\\\"type\\\":\\\"css\\\",\\\"url\\\":\\\"/assetserver/46517a424aa5e6cffc1360d7e0848b601c584ee3-katex.min.css\\\"}],\\\"type\\\":\\\"async_block\\\"})).then((imports) => handler.apply(this, imports));\\n}\\n\")])], Dict{Symbol, Any}(:className => \"interact-widget\")), WebIO.Node{WebIO.DOM}(WebIO.DOM(:html, :div), Any[WebIO.Scope(WebIO.Node{WebIO.DOM}(WebIO.DOM(:html, :button), Any[\"save\"], Dict{Symbol, Any}(:attributes => Dict{Any, Any}(\"data-bind\" => \"click: function (){this.clicks(this.clicks()+1)}, css: {'is-loading' : loading}\"), :className => \"is-medium button is-primary\", :style => Dict{String, Any}())), Dict{String, Tuple{Observables.AbstractObservable, Union{Nothing, Bool}}}(\"loading\" => (Observable(false), nothing), \"clicks\" => (Observable(0), nothing)), Set{String}(), nothing, WebIO.Asset[WebIO.Asset(\"js\", \"knockout\", \"/home/dushya/.julia/packages/Knockout/HReiN/src/../assets/knockout.js\"), WebIO.Asset(\"js\", \"knockout_punches\", \"/home/dushya/.julia/packages/Knockout/HReiN/src/../assets/knockout_punches.js\"), WebIO.Asset(\"js\", nothing, \"/home/dushya/.julia/packages/InteractBase/LJXv3/src/../assets/all.js\"), WebIO.Asset(\"css\", nothing, \"/home/dushya/.julia/packages/InteractBase/LJXv3/src/../assets/style.css\"), WebIO.Asset(\"css\", nothing, \"/home/dushya/.julia/packages/Interact/PENUy/src/../assets/bulma_confined.min.css\")], Dict{Any, Any}(\"loading\" => Any[WebIO.JSString(\"(function (val){return (val!=this.model[\\\"loading\\\"]()) ? (this.valueFromJulia[\\\"loading\\\"]=true, this.model[\\\"loading\\\"](val)) : undefined})\")], \"clicks\" => Any[WebIO.JSString(\"(function (val){return (val!=this.model[\\\"clicks\\\"]()) ? (this.valueFromJulia[\\\"clicks\\\"]=true, this.model[\\\"clicks\\\"](val)) : undefined})\")]), WebIO.ConnectionPool(Channel{Any}(32), Set{WebIO.AbstractConnection}(), Base.GenericCondition{ReentrantLock}(Base.IntrusiveLinkedList{Task}(Task (runnable) @0x00007fc19939cfb0, Task (runnable) @0x00007fc19939cfb0), ReentrantLock(nothing, 0x00000000, 0x00, Base.GenericCondition{Base.Threads.SpinLock}(Base.IntrusiveLinkedList{Task}(nothing, nothing), Base.Threads.SpinLock(0)), (2, 140471301821264, 140471214085184)))), WebIO.JSString[WebIO.JSString(\"function () {\\n    var handler = (function (ko, koPunches) {\\n    ko.punches.enableAll();\\n    ko.bindingHandlers.numericValue = {\\n        init: function(element, valueAccessor, allBindings, data, context) {\\n            var stringified = ko.observable(ko.unwrap(valueAccessor()));\\n            stringified.subscribe(function(value) {\\n                var val = parseFloat(value);\\n                if (!isNaN(val)) {\\n                    valueAccessor()(val);\\n                }\\n            });\\n            valueAccessor().subscribe(function(value) {\\n                var str = JSON.stringify(value);\\n                if ((str == \\\"0\\\") && ([\\\"-0\\\", \\\"-0.\\\"].indexOf(stringified()) >= 0))\\n                     return;\\n                 if ([\\\"null\\\", \\\"\\\"].indexOf(str) >= 0)\\n                     return;\\n                stringified(str);\\n            });\\n            ko.applyBindingsToNode(\\n                element,\\n                {\\n                    value: stringified,\\n                    valueUpdate: allBindings.get('valueUpdate'),\\n                },\\n                context,\\n            );\\n        }\\n    };\\n    var json_data = {\\\"loading\\\":WebIO.getval({\\\"name\\\":\\\"loading\\\",\\\"scope\\\":\\\"1135260246483243779\\\",\\\"id\\\":\\\"10138669370670612116\\\",\\\"type\\\":\\\"observable\\\"}),\\\"clicks\\\":WebIO.getval({\\\"name\\\":\\\"clicks\\\",\\\"scope\\\":\\\"1135260246483243779\\\",\\\"id\\\":\\\"2765553655198277194\\\",\\\"type\\\":\\\"observable\\\"})};\\n    var self = this;\\n    function AppViewModel() {\\n        for (var key in json_data) {\\n            var el = json_data[key];\\n            this[key] = Array.isArray(el) ? ko.observableArray(el) : ko.observable(el);\\n        }\\n        \\n        \\n        [this[\\\"loading\\\"].subscribe((function (val){!(this.valueFromJulia[\\\"loading\\\"]) ? (WebIO.setval({\\\"name\\\":\\\"loading\\\",\\\"scope\\\":\\\"1135260246483243779\\\",\\\"id\\\":\\\"10138669370670612116\\\",\\\"type\\\":\\\"observable\\\"},val)) : undefined; return this.valueFromJulia[\\\"loading\\\"]=false}),self),this[\\\"clicks\\\"].subscribe((function (val){!(this.valueFromJulia[\\\"clicks\\\"]) ? (WebIO.setval({\\\"name\\\":\\\"clicks\\\",\\\"scope\\\":\\\"1135260246483243779\\\",\\\"id\\\":\\\"2765553655198277194\\\",\\\"type\\\":\\\"observable\\\"},val)) : undefined; return this.valueFromJulia[\\\"clicks\\\"]=false}),self)]\\n        \\n    }\\n    self.model = new AppViewModel();\\n    self.valueFromJulia = {};\\n    for (var key in json_data) {\\n        self.valueFromJulia[key] = false;\\n    }\\n    ko.applyBindings(self.model, self.dom);\\n}\\n);\\n    (WebIO.importBlock({\\\"data\\\":[{\\\"name\\\":\\\"knockout\\\",\\\"type\\\":\\\"js\\\",\\\"url\\\":\\\"/assetserver/727383f2a47bd31570b7da84eee7b022dd6d7c78-knockout.js\\\"},{\\\"name\\\":\\\"knockout_punches\\\",\\\"type\\\":\\\"js\\\",\\\"url\\\":\\\"/assetserver/382b41b3b1bd9f26f75861d360bad7f8beea211f-knockout_punches.js\\\"}],\\\"type\\\":\\\"async_block\\\"})).then((imports) => handler.apply(this, imports));\\n}\\n\")])], Dict{Symbol, Any}(:className => \"field interact-widget\"))], Dict{Symbol, Any}(:style => Dict(\"display\" => \"flex\", \"flex-direction\" => \"row\")))], Dict{Symbol, Any}(:style => Dict(\"display\" => \"flex\", \"flex-direction\" => \"column\"))), WebIO.Node{WebIO.DOM}(WebIO.DOM(:html, :div), Any[WebIO.Scope(WebIO.Node{WebIO.DOM}(WebIO.DOM(:html, :div), Any[], Dict{Symbol, Any}(:id => \"container\")), Dict{String, Tuple{Observables.AbstractObservable, Union{Nothing, Bool}}}(\"value\" => (Observable(\"\\\\;\\\\;\"), nothing)), Set{String}(), nothing, WebIO.Asset[WebIO.Asset(\"js\", nothing, \"/home/dushya/.julia/packages/InteractBase/LJXv3/src/../assets/katex.min.js\"), WebIO.Asset(\"css\", nothing, \"/home/dushya/.julia/packages/InteractBase/LJXv3/src/../assets/katex.min.css\")], Dict{Any, Any}(\"value\" => Any[WebIO.JSString(\"(function (txt){return this.k.render(txt,this.container)})\")]), WebIO.ConnectionPool(Channel{Any}(32), Set{WebIO.AbstractConnection}(), Base.GenericCondition{ReentrantLock}(Base.IntrusiveLinkedList{Task}(Task (runnable) @0x00007fc2071c5460, Task (runnable) @0x00007fc2071c5460), ReentrantLock(nothing, 0x00000000, 0x00, Base.GenericCondition{Base.Threads.SpinLock}(Base.IntrusiveLinkedList{Task}(nothing, nothing), Base.Threads.SpinLock(0)), (2, 140471292930288, 140471128950592)))), WebIO.JSString[WebIO.JSString(\"function () {\\n    var handler = ((function (k){this.k=k; this.container=this.dom.querySelector(\\\"#container\\\"); return k.render(\\\"\\\\\\\\;\\\\\\\\;\\\",this.container)}));\\n    (WebIO.importBlock({\\\"data\\\":[{\\\"name\\\":null,\\\"type\\\":\\\"js\\\",\\\"url\\\":\\\"/assetserver/dd22ed1bf1896c2748f3fe616ce0b838adc895c1-katex.min.js\\\"},{\\\"name\\\":null,\\\"type\\\":\\\"css\\\",\\\"url\\\":\\\"/assetserver/46517a424aa5e6cffc1360d7e0848b601c584ee3-katex.min.css\\\"}],\\\"type\\\":\\\"async_block\\\"})).then((imports) => handler.apply(this, imports));\\n}\\n\")])], Dict{Symbol, Any}(:className => \"interact-widget\")), Observable(Luxor.Drawing(430.0, 430.0, \"\", Cairo.CairoSurfaceBase{UInt32}(Ptr{Nothing} @0x0000000000000000, 430.0, 430.0), Cairo.CairoContext(Ptr{Nothing} @0x0000000006bee240, Cairo.CairoSurfaceBase{UInt32}(Ptr{Nothing} @0x0000000000000000, 430.0, 430.0), Ptr{Nothing} @0x00000000057b7cd0), :png, 0.0, 0.0, 0.0, 1.0, IOBuffer(data=UInt8[...], readable=true, writable=true, seekable=true, append=false, size=1946, maxsize=Inf, ptr=1947, mark=-1), UInt8[0x89, 0x50, 0x4e, 0x47, 0x0d, 0x0a, 0x1a, 0x0a, 0x00, 0x00  …  0x00, 0x00, 0x49, 0x45, 0x4e, 0x44, 0xae, 0x42, 0x60, 0x82], false)), WebIO.Node{WebIO.DOM}(WebIO.DOM(:html, :div), Any[WebIO.Scope(WebIO.Node{WebIO.DOM}(WebIO.DOM(:html, :div), Any[], Dict{Symbol, Any}(:id => \"container\")), Dict{String, Tuple{Observables.AbstractObservable, Union{Nothing, Bool}}}(\"value\" => (Observable(\"\\\\;\\\\;\"), nothing)), Set{String}(), nothing, WebIO.Asset[WebIO.Asset(\"js\", nothing, \"/home/dushya/.julia/packages/InteractBase/LJXv3/src/../assets/katex.min.js\"), WebIO.Asset(\"css\", nothing, \"/home/dushya/.julia/packages/InteractBase/LJXv3/src/../assets/katex.min.css\")], Dict{Any, Any}(\"value\" => Any[WebIO.JSString(\"(function (txt){return this.k.render(txt,this.container)})\")]), WebIO.ConnectionPool(Channel{Any}(32), Set{WebIO.AbstractConnection}(), Base.GenericCondition{ReentrantLock}(Base.IntrusiveLinkedList{Task}(Task (runnable) @0x00007fc2071c5460, Task (runnable) @0x00007fc2071c5460), ReentrantLock(nothing, 0x00000000, 0x00, Base.GenericCondition{Base.Threads.SpinLock}(Base.IntrusiveLinkedList{Task}(nothing, nothing), Base.Threads.SpinLock(0)), (2, 140471292930288, 140471128950592)))), WebIO.JSString[WebIO.JSString(\"function () {\\n    var handler = ((function (k){this.k=k; this.container=this.dom.querySelector(\\\"#container\\\"); return k.render(\\\"\\\\\\\\;\\\\\\\\;\\\",this.container)}));\\n    (WebIO.importBlock({\\\"data\\\":[{\\\"name\\\":null,\\\"type\\\":\\\"js\\\",\\\"url\\\":\\\"/assetserver/dd22ed1bf1896c2748f3fe616ce0b838adc895c1-katex.min.js\\\"},{\\\"name\\\":null,\\\"type\\\":\\\"css\\\",\\\"url\\\":\\\"/assetserver/46517a424aa5e6cffc1360d7e0848b601c584ee3-katex.min.css\\\"}],\\\"type\\\":\\\"async_block\\\"})).then((imports) => handler.apply(this, imports));\\n}\\n\")])], Dict{Symbol, Any}(:className => \"interact-widget\")), WebIO.Node{WebIO.DOM}(WebIO.DOM(:html, :div), Any[], Dict{Symbol, Any}(:style => Dict(\"display\" => \"flex\", \"flex-direction\" => \"column\")))], Dict{Symbol, Any}(:style => Dict(\"display\" => \"flex\", \"flex-direction\" => \"row\")))], Dict{Symbol, Any}(:style => Dict(\"display\" => \"flex\", \"flex-direction\" => \"column\")))"
      ]
     },
     "execution_count": 10,
     "metadata": {
      "application/vnd.webio.node+json": {
       "kernelId": "ecf7d646-f686-4884-9f7b-5855efce8b80"
      }
     },
     "output_type": "execute_result"
    }
   ],
   "source": [
    "animate_sim(model)"
   ]
  },
  {
   "cell_type": "markdown",
   "metadata": {},
   "source": [
    "Instead of first running the model, we can create an interactive app in Jupyter notebook to explore the model by setting different values of properties, as shown below. Here, the `model_control` argument asks EasyABM to create a slider with values from 1 to 5 in steps of 0.2 for the model parameter `gravity`. The agent_controls argument creates a slider for the x component of planet's initial velocity. The tail argument attaches a tail of length 30 with the planet by selecting it with its color property which we previously set to `cl\"blue\"`. "
   ]
  },
  {
   "cell_type": "code",
   "execution_count": 11,
   "metadata": {
    "scrolled": true
   },
   "outputs": [
    {
     "data": {
      "application/vnd.webio.node+json": {
       "children": [
        {
         "children": [
          {
           "children": [
            {
             "children": [
              {
               "children": [
                {
                 "children": [
                  {
                   "children": [
                    {
                     "children": [
                      "time"
                     ],
                     "instanceArgs": {
                      "namespace": "html",
                      "tag": "label"
                     },
                     "nodeType": "DOM",
                     "props": {
                      "className": "interact ",
                      "style": {
                       "padding": "5px 10px 0px 10px"
                      }
                     },
                     "type": "node"
                    }
                   ],
                   "instanceArgs": {
                    "namespace": "html",
                    "tag": "div"
                   },
                   "nodeType": "DOM",
                   "props": {
                    "className": "interact-flex-row-left"
                   },
                   "type": "node"
                  },
                  {
                   "children": [
                    {
                     "children": [],
                     "instanceArgs": {
                      "namespace": "html",
                      "tag": "input"
                     },
                     "nodeType": "DOM",
                     "props": {
                      "attributes": {
                       "data-bind": "numericValue: index, valueUpdate: 'input', event: {change: function (){this.changes(this.changes()+1)}}",
                       "orient": "horizontal",
                       "type": "range"
                      },
                      "className": "slider slider is-fullwidth",
                      "max": 200,
                      "min": 1,
                      "step": 1,
                      "style": {}
                     },
                     "type": "node"
                    }
                   ],
                   "instanceArgs": {
                    "namespace": "html",
                    "tag": "div"
                   },
                   "nodeType": "DOM",
                   "props": {
                    "className": "interact-flex-row-center"
                   },
                   "type": "node"
                  },
                  {
                   "children": [
                    {
                     "children": [],
                     "instanceArgs": {
                      "namespace": "html",
                      "tag": "p"
                     },
                     "nodeType": "DOM",
                     "props": {
                      "attributes": {
                       "data-bind": "text: formatted_val"
                      }
                     },
                     "type": "node"
                    }
                   ],
                   "instanceArgs": {
                    "namespace": "html",
                    "tag": "div"
                   },
                   "nodeType": "DOM",
                   "props": {
                    "className": "interact-flex-row-right"
                   },
                   "type": "node"
                  }
                 ],
                 "instanceArgs": {
                  "namespace": "html",
                  "tag": "div"
                 },
                 "nodeType": "DOM",
                 "props": {
                  "className": "interact-flex-row interact-widget"
                 },
                 "type": "node"
                }
               ],
               "instanceArgs": {
                "handlers": {
                 "changes": [
                  "(function (val){return (val!=this.model[\"changes\"]()) ? (this.valueFromJulia[\"changes\"]=true, this.model[\"changes\"](val)) : undefined})"
                 ],
                 "index": [
                  "(function (val){return (val!=this.model[\"index\"]()) ? (this.valueFromJulia[\"index\"]=true, this.model[\"index\"](val)) : undefined})"
                 ]
                },
                "id": "6925622466299397055",
                "imports": {
                 "data": [
                  {
                   "name": "knockout",
                   "type": "js",
                   "url": "/assetserver/727383f2a47bd31570b7da84eee7b022dd6d7c78-knockout.js"
                  },
                  {
                   "name": "knockout_punches",
                   "type": "js",
                   "url": "/assetserver/382b41b3b1bd9f26f75861d360bad7f8beea211f-knockout_punches.js"
                  },
                  {
                   "name": null,
                   "type": "js",
                   "url": "/assetserver/5ab20f1060420992a9b82a65b735dee4d81ef413-all.js"
                  },
                  {
                   "name": null,
                   "type": "css",
                   "url": "/assetserver/1cc0ed62837210b80a182cc3676512f895dab686-style.css"
                  },
                  {
                   "name": null,
                   "type": "css",
                   "url": "/assetserver/2eee816f616df3549d7044d45e744fbf8d42bfa1-bulma_confined.min.css"
                  }
                 ],
                 "type": "async_block"
                },
                "mount_callbacks": [
                 "function () {\n    var handler = (function (ko, koPunches) {\n    ko.punches.enableAll();\n    ko.bindingHandlers.numericValue = {\n        init: function(element, valueAccessor, allBindings, data, context) {\n            var stringified = ko.observable(ko.unwrap(valueAccessor()));\n            stringified.subscribe(function(value) {\n                var val = parseFloat(value);\n                if (!isNaN(val)) {\n                    valueAccessor()(val);\n                }\n            });\n            valueAccessor().subscribe(function(value) {\n                var str = JSON.stringify(value);\n                if ((str == \"0\") && ([\"-0\", \"-0.\"].indexOf(stringified()) >= 0))\n                     return;\n                 if ([\"null\", \"\"].indexOf(str) >= 0)\n                     return;\n                stringified(str);\n            });\n            ko.applyBindingsToNode(\n                element,\n                {\n                    value: stringified,\n                    valueUpdate: allBindings.get('valueUpdate'),\n                },\n                context,\n            );\n        }\n    };\n    var json_data = {\"formatted_vals\":[\"1\",\"2\",\"3\",\"4\",\"5\",\"6\",\"7\",\"8\",\"9\",\"10\",\"11\",\"12\",\"13\",\"14\",\"15\",\"16\",\"17\",\"18\",\"19\",\"20\",\"21\",\"22\",\"23\",\"24\",\"25\",\"26\",\"27\",\"28\",\"29\",\"30\",\"31\",\"32\",\"33\",\"34\",\"35\",\"36\",\"37\",\"38\",\"39\",\"40\",\"41\",\"42\",\"43\",\"44\",\"45\",\"46\",\"47\",\"48\",\"49\",\"50\",\"51\",\"52\",\"53\",\"54\",\"55\",\"56\",\"57\",\"58\",\"59\",\"60\",\"61\",\"62\",\"63\",\"64\",\"65\",\"66\",\"67\",\"68\",\"69\",\"70\",\"71\",\"72\",\"73\",\"74\",\"75\",\"76\",\"77\",\"78\",\"79\",\"80\",\"81\",\"82\",\"83\",\"84\",\"85\",\"86\",\"87\",\"88\",\"89\",\"90\",\"91\",\"92\",\"93\",\"94\",\"95\",\"96\",\"97\",\"98\",\"99\",\"100\",\"101\",\"102\",\"103\",\"104\",\"105\",\"106\",\"107\",\"108\",\"109\",\"110\",\"111\",\"112\",\"113\",\"114\",\"115\",\"116\",\"117\",\"118\",\"119\",\"120\",\"121\",\"122\",\"123\",\"124\",\"125\",\"126\",\"127\",\"128\",\"129\",\"130\",\"131\",\"132\",\"133\",\"134\",\"135\",\"136\",\"137\",\"138\",\"139\",\"140\",\"141\",\"142\",\"143\",\"144\",\"145\",\"146\",\"147\",\"148\",\"149\",\"150\",\"151\",\"152\",\"153\",\"154\",\"155\",\"156\",\"157\",\"158\",\"159\",\"160\",\"161\",\"162\",\"163\",\"164\",\"165\",\"166\",\"167\",\"168\",\"169\",\"170\",\"171\",\"172\",\"173\",\"174\",\"175\",\"176\",\"177\",\"178\",\"179\",\"180\",\"181\",\"182\",\"183\",\"184\",\"185\",\"186\",\"187\",\"188\",\"189\",\"190\",\"191\",\"192\",\"193\",\"194\",\"195\",\"196\",\"197\",\"198\",\"199\",\"200\"],\"changes\":WebIO.getval({\"name\":\"changes\",\"scope\":\"6925622466299397055\",\"id\":\"10899954738393583519\",\"type\":\"observable\"}),\"index\":WebIO.getval({\"name\":\"index\",\"scope\":\"6925622466299397055\",\"id\":\"14540204293178177920\",\"type\":\"observable\"})};\n    var self = this;\n    function AppViewModel() {\n        for (var key in json_data) {\n            var el = json_data[key];\n            this[key] = Array.isArray(el) ? ko.observableArray(el) : ko.observable(el);\n        }\n        \n        [this[\"formatted_val\"]=ko.computed(    function(){\n        return this.formatted_vals()[parseInt(this.index())-(1)];\n    }\n,this)]\n        [this[\"changes\"].subscribe((function (val){!(this.valueFromJulia[\"changes\"]) ? (WebIO.setval({\"name\":\"changes\",\"scope\":\"6925622466299397055\",\"id\":\"10899954738393583519\",\"type\":\"observable\"},val)) : undefined; return this.valueFromJulia[\"changes\"]=false}),self),this[\"index\"].subscribe((function (val){!(this.valueFromJulia[\"index\"]) ? (WebIO.setval({\"name\":\"index\",\"scope\":\"6925622466299397055\",\"id\":\"14540204293178177920\",\"type\":\"observable\"},val)) : undefined; return this.valueFromJulia[\"index\"]=false}),self)]\n        \n    }\n    self.model = new AppViewModel();\n    self.valueFromJulia = {};\n    for (var key in json_data) {\n        self.valueFromJulia[key] = false;\n    }\n    ko.applyBindings(self.model, self.dom);\n}\n);\n    (WebIO.importBlock({\"data\":[{\"name\":\"knockout\",\"type\":\"js\",\"url\":\"/assetserver/727383f2a47bd31570b7da84eee7b022dd6d7c78-knockout.js\"},{\"name\":\"knockout_punches\",\"type\":\"js\",\"url\":\"/assetserver/382b41b3b1bd9f26f75861d360bad7f8beea211f-knockout_punches.js\"}],\"type\":\"async_block\"})).then((imports) => handler.apply(this, imports));\n}\n"
                ],
                "observables": {
                 "changes": {
                  "id": "10899954738393583519",
                  "sync": false,
                  "value": 0
                 },
                 "index": {
                  "id": "14540204293178177920",
                  "sync": true,
                  "value": 1
                 }
                },
                "systemjs_options": null
               },
               "nodeType": "Scope",
               "props": {},
               "type": "node"
              }
             ],
             "instanceArgs": {
              "namespace": "html",
              "tag": "div"
             },
             "nodeType": "DOM",
             "props": {
              "className": "field interact-widget"
             },
             "type": "node"
            },
            {
             "children": [
              {
               "children": [
                {
                 "children": [
                  {
                   "children": [
                    {
                     "children": [
                      "scale"
                     ],
                     "instanceArgs": {
                      "namespace": "html",
                      "tag": "label"
                     },
                     "nodeType": "DOM",
                     "props": {
                      "className": "interact ",
                      "style": {
                       "padding": "5px 10px 0px 10px"
                      }
                     },
                     "type": "node"
                    }
                   ],
                   "instanceArgs": {
                    "namespace": "html",
                    "tag": "div"
                   },
                   "nodeType": "DOM",
                   "props": {
                    "className": "interact-flex-row-left"
                   },
                   "type": "node"
                  },
                  {
                   "children": [
                    {
                     "children": [],
                     "instanceArgs": {
                      "namespace": "html",
                      "tag": "input"
                     },
                     "nodeType": "DOM",
                     "props": {
                      "attributes": {
                       "data-bind": "numericValue: index, valueUpdate: 'input', event: {change: function (){this.changes(this.changes()+1)}}",
                       "orient": "horizontal",
                       "type": "range"
                      },
                      "className": "slider slider is-fullwidth",
                      "max": 20,
                      "min": 1,
                      "step": 1,
                      "style": {}
                     },
                     "type": "node"
                    }
                   ],
                   "instanceArgs": {
                    "namespace": "html",
                    "tag": "div"
                   },
                   "nodeType": "DOM",
                   "props": {
                    "className": "interact-flex-row-center"
                   },
                   "type": "node"
                  },
                  {
                   "children": [
                    {
                     "children": [],
                     "instanceArgs": {
                      "namespace": "html",
                      "tag": "p"
                     },
                     "nodeType": "DOM",
                     "props": {
                      "attributes": {
                       "data-bind": "text: formatted_val"
                      }
                     },
                     "type": "node"
                    }
                   ],
                   "instanceArgs": {
                    "namespace": "html",
                    "tag": "div"
                   },
                   "nodeType": "DOM",
                   "props": {
                    "className": "interact-flex-row-right"
                   },
                   "type": "node"
                  }
                 ],
                 "instanceArgs": {
                  "namespace": "html",
                  "tag": "div"
                 },
                 "nodeType": "DOM",
                 "props": {
                  "className": "interact-flex-row interact-widget"
                 },
                 "type": "node"
                }
               ],
               "instanceArgs": {
                "handlers": {
                 "changes": [
                  "(function (val){return (val!=this.model[\"changes\"]()) ? (this.valueFromJulia[\"changes\"]=true, this.model[\"changes\"](val)) : undefined})"
                 ],
                 "index": [
                  "(function (val){return (val!=this.model[\"index\"]()) ? (this.valueFromJulia[\"index\"]=true, this.model[\"index\"](val)) : undefined})"
                 ]
                },
                "id": "5902792877059709308",
                "imports": {
                 "data": [
                  {
                   "name": "knockout",
                   "type": "js",
                   "url": "/assetserver/727383f2a47bd31570b7da84eee7b022dd6d7c78-knockout.js"
                  },
                  {
                   "name": "knockout_punches",
                   "type": "js",
                   "url": "/assetserver/382b41b3b1bd9f26f75861d360bad7f8beea211f-knockout_punches.js"
                  },
                  {
                   "name": null,
                   "type": "js",
                   "url": "/assetserver/5ab20f1060420992a9b82a65b735dee4d81ef413-all.js"
                  },
                  {
                   "name": null,
                   "type": "css",
                   "url": "/assetserver/1cc0ed62837210b80a182cc3676512f895dab686-style.css"
                  },
                  {
                   "name": null,
                   "type": "css",
                   "url": "/assetserver/2eee816f616df3549d7044d45e744fbf8d42bfa1-bulma_confined.min.css"
                  }
                 ],
                 "type": "async_block"
                },
                "mount_callbacks": [
                 "function () {\n    var handler = (function (ko, koPunches) {\n    ko.punches.enableAll();\n    ko.bindingHandlers.numericValue = {\n        init: function(element, valueAccessor, allBindings, data, context) {\n            var stringified = ko.observable(ko.unwrap(valueAccessor()));\n            stringified.subscribe(function(value) {\n                var val = parseFloat(value);\n                if (!isNaN(val)) {\n                    valueAccessor()(val);\n                }\n            });\n            valueAccessor().subscribe(function(value) {\n                var str = JSON.stringify(value);\n                if ((str == \"0\") && ([\"-0\", \"-0.\"].indexOf(stringified()) >= 0))\n                     return;\n                 if ([\"null\", \"\"].indexOf(str) >= 0)\n                     return;\n                stringified(str);\n            });\n            ko.applyBindingsToNode(\n                element,\n                {\n                    value: stringified,\n                    valueUpdate: allBindings.get('valueUpdate'),\n                },\n                context,\n            );\n        }\n    };\n    var json_data = {\"formatted_vals\":[\"0.1\",\"0.2\",\"0.3\",\"0.4\",\"0.5\",\"0.6\",\"0.7\",\"0.8\",\"0.9\",\"1.0\",\"1.1\",\"1.2\",\"1.3\",\"1.4\",\"1.5\",\"1.6\",\"1.7\",\"1.8\",\"1.9\",\"2.0\"],\"changes\":WebIO.getval({\"name\":\"changes\",\"scope\":\"5902792877059709308\",\"id\":\"14979454616663935583\",\"type\":\"observable\"}),\"index\":WebIO.getval({\"name\":\"index\",\"scope\":\"5902792877059709308\",\"id\":\"13973629200241524893\",\"type\":\"observable\"})};\n    var self = this;\n    function AppViewModel() {\n        for (var key in json_data) {\n            var el = json_data[key];\n            this[key] = Array.isArray(el) ? ko.observableArray(el) : ko.observable(el);\n        }\n        \n        [this[\"formatted_val\"]=ko.computed(    function(){\n        return this.formatted_vals()[parseInt(this.index())-(1)];\n    }\n,this)]\n        [this[\"changes\"].subscribe((function (val){!(this.valueFromJulia[\"changes\"]) ? (WebIO.setval({\"name\":\"changes\",\"scope\":\"5902792877059709308\",\"id\":\"14979454616663935583\",\"type\":\"observable\"},val)) : undefined; return this.valueFromJulia[\"changes\"]=false}),self),this[\"index\"].subscribe((function (val){!(this.valueFromJulia[\"index\"]) ? (WebIO.setval({\"name\":\"index\",\"scope\":\"5902792877059709308\",\"id\":\"13973629200241524893\",\"type\":\"observable\"},val)) : undefined; return this.valueFromJulia[\"index\"]=false}),self)]\n        \n    }\n    self.model = new AppViewModel();\n    self.valueFromJulia = {};\n    for (var key in json_data) {\n        self.valueFromJulia[key] = false;\n    }\n    ko.applyBindings(self.model, self.dom);\n}\n);\n    (WebIO.importBlock({\"data\":[{\"name\":\"knockout\",\"type\":\"js\",\"url\":\"/assetserver/727383f2a47bd31570b7da84eee7b022dd6d7c78-knockout.js\"},{\"name\":\"knockout_punches\",\"type\":\"js\",\"url\":\"/assetserver/382b41b3b1bd9f26f75861d360bad7f8beea211f-knockout_punches.js\"}],\"type\":\"async_block\"})).then((imports) => handler.apply(this, imports));\n}\n"
                ],
                "observables": {
                 "changes": {
                  "id": "14979454616663935583",
                  "sync": false,
                  "value": 0
                 },
                 "index": {
                  "id": "13973629200241524893",
                  "sync": true,
                  "value": 10
                 }
                },
                "systemjs_options": null
               },
               "nodeType": "Scope",
               "props": {},
               "type": "node"
              }
             ],
             "instanceArgs": {
              "namespace": "html",
              "tag": "div"
             },
             "nodeType": "DOM",
             "props": {
              "className": "field interact-widget"
             },
             "type": "node"
            },
            {
             "children": [
              {
               "children": [
                {
                 "children": [
                  {
                   "children": [
                    {
                     "children": [
                      {
                       "children": [
                        "vel"
                       ],
                       "instanceArgs": {
                        "namespace": "html",
                        "tag": "label"
                       },
                       "nodeType": "DOM",
                       "props": {
                        "className": "interact ",
                        "style": {
                         "padding": "5px 10px 0px 10px"
                        }
                       },
                       "type": "node"
                      }
                     ],
                     "instanceArgs": {
                      "namespace": "html",
                      "tag": "div"
                     },
                     "nodeType": "DOM",
                     "props": {
                      "className": "interact-flex-row-left"
                     },
                     "type": "node"
                    },
                    {
                     "children": [
                      {
                       "children": [],
                       "instanceArgs": {
                        "namespace": "html",
                        "tag": "input"
                       },
                       "nodeType": "DOM",
                       "props": {
                        "attributes": {
                         "data-bind": "numericValue: index, valueUpdate: 'input', event: {change: function (){this.changes(this.changes()+1)}}",
                         "orient": "horizontal",
                         "type": "range"
                        },
                        "className": "slider slider is-fullwidth",
                        "max": 151,
                        "min": 1,
                        "step": 1,
                        "style": {}
                       },
                       "type": "node"
                      }
                     ],
                     "instanceArgs": {
                      "namespace": "html",
                      "tag": "div"
                     },
                     "nodeType": "DOM",
                     "props": {
                      "className": "interact-flex-row-center"
                     },
                     "type": "node"
                    },
                    {
                     "children": [
                      {
                       "children": [],
                       "instanceArgs": {
                        "namespace": "html",
                        "tag": "p"
                       },
                       "nodeType": "DOM",
                       "props": {
                        "attributes": {
                         "data-bind": "text: formatted_val"
                        }
                       },
                       "type": "node"
                      }
                     ],
                     "instanceArgs": {
                      "namespace": "html",
                      "tag": "div"
                     },
                     "nodeType": "DOM",
                     "props": {
                      "className": "interact-flex-row-right"
                     },
                     "type": "node"
                    }
                   ],
                   "instanceArgs": {
                    "namespace": "html",
                    "tag": "div"
                   },
                   "nodeType": "DOM",
                   "props": {
                    "className": "interact-flex-row interact-widget"
                   },
                   "type": "node"
                  }
                 ],
                 "instanceArgs": {
                  "handlers": {
                   "changes": [
                    "(function (val){return (val!=this.model[\"changes\"]()) ? (this.valueFromJulia[\"changes\"]=true, this.model[\"changes\"](val)) : undefined})"
                   ],
                   "index": [
                    "(function (val){return (val!=this.model[\"index\"]()) ? (this.valueFromJulia[\"index\"]=true, this.model[\"index\"](val)) : undefined})"
                   ]
                  },
                  "id": "14223027793273956372",
                  "imports": {
                   "data": [
                    {
                     "name": "knockout",
                     "type": "js",
                     "url": "/assetserver/727383f2a47bd31570b7da84eee7b022dd6d7c78-knockout.js"
                    },
                    {
                     "name": "knockout_punches",
                     "type": "js",
                     "url": "/assetserver/382b41b3b1bd9f26f75861d360bad7f8beea211f-knockout_punches.js"
                    },
                    {
                     "name": null,
                     "type": "js",
                     "url": "/assetserver/5ab20f1060420992a9b82a65b735dee4d81ef413-all.js"
                    },
                    {
                     "name": null,
                     "type": "css",
                     "url": "/assetserver/1cc0ed62837210b80a182cc3676512f895dab686-style.css"
                    },
                    {
                     "name": null,
                     "type": "css",
                     "url": "/assetserver/2eee816f616df3549d7044d45e744fbf8d42bfa1-bulma_confined.min.css"
                    }
                   ],
                   "type": "async_block"
                  },
                  "mount_callbacks": [
                   "function () {\n    var handler = (function (ko, koPunches) {\n    ko.punches.enableAll();\n    ko.bindingHandlers.numericValue = {\n        init: function(element, valueAccessor, allBindings, data, context) {\n            var stringified = ko.observable(ko.unwrap(valueAccessor()));\n            stringified.subscribe(function(value) {\n                var val = parseFloat(value);\n                if (!isNaN(val)) {\n                    valueAccessor()(val);\n                }\n            });\n            valueAccessor().subscribe(function(value) {\n                var str = JSON.stringify(value);\n                if ((str == \"0\") && ([\"-0\", \"-0.\"].indexOf(stringified()) >= 0))\n                     return;\n                 if ([\"null\", \"\"].indexOf(str) >= 0)\n                     return;\n                stringified(str);\n            });\n            ko.applyBindingsToNode(\n                element,\n                {\n                    value: stringified,\n                    valueUpdate: allBindings.get('valueUpdate'),\n                },\n                context,\n            );\n        }\n    };\n    var json_data = {\"formatted_vals\":[\"(-10.0, 0.0)\\n\",\"(-9.9, 0.0)\\n\",\"(-9.8, 0.0)\\n\",\"(-9.7, 0.0)\\n\",\"(-9.6, 0.0)\\n\",\"(-9.5, 0.0)\\n\",\"(-9.4, 0.0)\\n\",\"(-9.3, 0.0)\\n\",\"(-9.2, 0.0)\\n\",\"(-9.1, 0.0)\\n\",\"(-9.0, 0.0)\\n\",\"(-8.9, 0.0)\\n\",\"(-8.8, 0.0)\\n\",\"(-8.7, 0.0)\\n\",\"(-8.6, 0.0)\\n\",\"(-8.5, 0.0)\\n\",\"(-8.4, 0.0)\\n\",\"(-8.3, 0.0)\\n\",\"(-8.2, 0.0)\\n\",\"(-8.1, 0.0)\\n\",\"(-8.0, 0.0)\\n\",\"(-7.9, 0.0)\\n\",\"(-7.8, 0.0)\\n\",\"(-7.7, 0.0)\\n\",\"(-7.6, 0.0)\\n\",\"(-7.5, 0.0)\\n\",\"(-7.4, 0.0)\\n\",\"(-7.3, 0.0)\\n\",\"(-7.2, 0.0)\\n\",\"(-7.1, 0.0)\\n\",\"(-7.0, 0.0)\\n\",\"(-6.9, 0.0)\\n\",\"(-6.8, 0.0)\\n\",\"(-6.7, 0.0)\\n\",\"(-6.6, 0.0)\\n\",\"(-6.5, 0.0)\\n\",\"(-6.4, 0.0)\\n\",\"(-6.3, 0.0)\\n\",\"(-6.2, 0.0)\\n\",\"(-6.1, 0.0)\\n\",\"(-6.0, 0.0)\\n\",\"(-5.9, 0.0)\\n\",\"(-5.8, 0.0)\\n\",\"(-5.7, 0.0)\\n\",\"(-5.6, 0.0)\\n\",\"(-5.5, 0.0)\\n\",\"(-5.4, 0.0)\\n\",\"(-5.3, 0.0)\\n\",\"(-5.2, 0.0)\\n\",\"(-5.1, 0.0)\\n\",\"(-5.0, 0.0)\\n\",\"(-4.9, 0.0)\\n\",\"(-4.8, 0.0)\\n\",\"(-4.7, 0.0)\\n\",\"(-4.6, 0.0)\\n\",\"(-4.5, 0.0)\\n\",\"(-4.4, 0.0)\\n\",\"(-4.3, 0.0)\\n\",\"(-4.2, 0.0)\\n\",\"(-4.1, 0.0)\\n\",\"(-4.0, 0.0)\\n\",\"(-3.9, 0.0)\\n\",\"(-3.8, 0.0)\\n\",\"(-3.7, 0.0)\\n\",\"(-3.6, 0.0)\\n\",\"(-3.5, 0.0)\\n\",\"(-3.4, 0.0)\\n\",\"(-3.3, 0.0)\\n\",\"(-3.2, 0.0)\\n\",\"(-3.1, 0.0)\\n\",\"(-3.0, 0.0)\\n\",\"(-2.9, 0.0)\\n\",\"(-2.8, 0.0)\\n\",\"(-2.7, 0.0)\\n\",\"(-2.6, 0.0)\\n\",\"(-2.5, 0.0)\\n\",\"(-2.4, 0.0)\\n\",\"(-2.3, 0.0)\\n\",\"(-2.2, 0.0)\\n\",\"(-2.1, 0.0)\\n\",\"(-2.0, 0.0)\\n\",\"(-1.9, 0.0)\\n\",\"(-1.8, 0.0)\\n\",\"(-1.7, 0.0)\\n\",\"(-1.6, 0.0)\\n\",\"(-1.5, 0.0)\\n\",\"(-1.4, 0.0)\\n\",\"(-1.3, 0.0)\\n\",\"(-1.2, 0.0)\\n\",\"(-1.1, 0.0)\\n\",\"(-1.0, 0.0)\\n\",\"(-0.9, 0.0)\\n\",\"(-0.8, 0.0)\\n\",\"(-0.7, 0.0)\\n\",\"(-0.6, 0.0)\\n\",\"(-0.5, 0.0)\\n\",\"(-0.4, 0.0)\\n\",\"(-0.3, 0.0)\\n\",\"(-0.2, 0.0)\\n\",\"(-0.1, 0.0)\\n\",\"(0.0, 0.0)\\n\",\"(0.1, 0.0)\\n\",\"(0.2, 0.0)\\n\",\"(0.3, 0.0)\\n\",\"(0.4, 0.0)\\n\",\"(0.5, 0.0)\\n\",\"(0.6, 0.0)\\n\",\"(0.7, 0.0)\\n\",\"(0.8, 0.0)\\n\",\"(0.9, 0.0)\\n\",\"(1.0, 0.0)\\n\",\"(1.1, 0.0)\\n\",\"(1.2, 0.0)\\n\",\"(1.3, 0.0)\\n\",\"(1.4, 0.0)\\n\",\"(1.5, 0.0)\\n\",\"(1.6, 0.0)\\n\",\"(1.7, 0.0)\\n\",\"(1.8, 0.0)\\n\",\"(1.9, 0.0)\\n\",\"(2.0, 0.0)\\n\",\"(2.1, 0.0)\\n\",\"(2.2, 0.0)\\n\",\"(2.3, 0.0)\\n\",\"(2.4, 0.0)\\n\",\"(2.5, 0.0)\\n\",\"(2.6, 0.0)\\n\",\"(2.7, 0.0)\\n\",\"(2.8, 0.0)\\n\",\"(2.9, 0.0)\\n\",\"(3.0, 0.0)\\n\",\"(3.1, 0.0)\\n\",\"(3.2, 0.0)\\n\",\"(3.3, 0.0)\\n\",\"(3.4, 0.0)\\n\",\"(3.5, 0.0)\\n\",\"(3.6, 0.0)\\n\",\"(3.7, 0.0)\\n\",\"(3.8, 0.0)\\n\",\"(3.9, 0.0)\\n\",\"(4.0, 0.0)\\n\",\"(4.1, 0.0)\\n\",\"(4.2, 0.0)\\n\",\"(4.3, 0.0)\\n\",\"(4.4, 0.0)\\n\",\"(4.5, 0.0)\\n\",\"(4.6, 0.0)\\n\",\"(4.7, 0.0)\\n\",\"(4.8, 0.0)\\n\",\"(4.9, 0.0)\\n\",\"(5.0, 0.0)\\n\"],\"changes\":WebIO.getval({\"name\":\"changes\",\"scope\":\"14223027793273956372\",\"id\":\"16136699179757268117\",\"type\":\"observable\"}),\"index\":WebIO.getval({\"name\":\"index\",\"scope\":\"14223027793273956372\",\"id\":\"13620126702636508145\",\"type\":\"observable\"})};\n    var self = this;\n    function AppViewModel() {\n        for (var key in json_data) {\n            var el = json_data[key];\n            this[key] = Array.isArray(el) ? ko.observableArray(el) : ko.observable(el);\n        }\n        \n        [this[\"formatted_val\"]=ko.computed(    function(){\n        return this.formatted_vals()[parseInt(this.index())-(1)];\n    }\n,this)]\n        [this[\"changes\"].subscribe((function (val){!(this.valueFromJulia[\"changes\"]) ? (WebIO.setval({\"name\":\"changes\",\"scope\":\"14223027793273956372\",\"id\":\"16136699179757268117\",\"type\":\"observable\"},val)) : undefined; return this.valueFromJulia[\"changes\"]=false}),self),this[\"index\"].subscribe((function (val){!(this.valueFromJulia[\"index\"]) ? (WebIO.setval({\"name\":\"index\",\"scope\":\"14223027793273956372\",\"id\":\"13620126702636508145\",\"type\":\"observable\"},val)) : undefined; return this.valueFromJulia[\"index\"]=false}),self)]\n        \n    }\n    self.model = new AppViewModel();\n    self.valueFromJulia = {};\n    for (var key in json_data) {\n        self.valueFromJulia[key] = false;\n    }\n    ko.applyBindings(self.model, self.dom);\n}\n);\n    (WebIO.importBlock({\"data\":[{\"name\":\"knockout\",\"type\":\"js\",\"url\":\"/assetserver/727383f2a47bd31570b7da84eee7b022dd6d7c78-knockout.js\"},{\"name\":\"knockout_punches\",\"type\":\"js\",\"url\":\"/assetserver/382b41b3b1bd9f26f75861d360bad7f8beea211f-knockout_punches.js\"}],\"type\":\"async_block\"})).then((imports) => handler.apply(this, imports));\n}\n"
                  ],
                  "observables": {
                   "changes": {
                    "id": "16136699179757268117",
                    "sync": false,
                    "value": 0
                   },
                   "index": {
                    "id": "13620126702636508145",
                    "sync": true,
                    "value": 76
                   }
                  },
                  "systemjs_options": null
                 },
                 "nodeType": "Scope",
                 "props": {},
                 "type": "node"
                }
               ],
               "instanceArgs": {
                "namespace": "html",
                "tag": "div"
               },
               "nodeType": "DOM",
               "props": {
                "className": "field interact-widget"
               },
               "type": "node"
              }
             ],
             "instanceArgs": {
              "namespace": "html",
              "tag": "div"
             },
             "nodeType": "DOM",
             "props": {
              "style": {
               "display": "flex",
               "flex-direction": "column"
              }
             },
             "type": "node"
            },
            {
             "children": [
              {
               "children": [
                {
                 "children": [
                  {
                   "children": [
                    {
                     "children": [
                      {
                       "children": [
                        "gravity"
                       ],
                       "instanceArgs": {
                        "namespace": "html",
                        "tag": "label"
                       },
                       "nodeType": "DOM",
                       "props": {
                        "className": "interact ",
                        "style": {
                         "padding": "5px 10px 0px 10px"
                        }
                       },
                       "type": "node"
                      }
                     ],
                     "instanceArgs": {
                      "namespace": "html",
                      "tag": "div"
                     },
                     "nodeType": "DOM",
                     "props": {
                      "className": "interact-flex-row-left"
                     },
                     "type": "node"
                    },
                    {
                     "children": [
                      {
                       "children": [],
                       "instanceArgs": {
                        "namespace": "html",
                        "tag": "input"
                       },
                       "nodeType": "DOM",
                       "props": {
                        "attributes": {
                         "data-bind": "numericValue: index, valueUpdate: 'input', event: {change: function (){this.changes(this.changes()+1)}}",
                         "orient": "horizontal",
                         "type": "range"
                        },
                        "className": "slider slider is-fullwidth",
                        "max": 21,
                        "min": 1,
                        "step": 1,
                        "style": {}
                       },
                       "type": "node"
                      }
                     ],
                     "instanceArgs": {
                      "namespace": "html",
                      "tag": "div"
                     },
                     "nodeType": "DOM",
                     "props": {
                      "className": "interact-flex-row-center"
                     },
                     "type": "node"
                    },
                    {
                     "children": [
                      {
                       "children": [],
                       "instanceArgs": {
                        "namespace": "html",
                        "tag": "p"
                       },
                       "nodeType": "DOM",
                       "props": {
                        "attributes": {
                         "data-bind": "text: formatted_val"
                        }
                       },
                       "type": "node"
                      }
                     ],
                     "instanceArgs": {
                      "namespace": "html",
                      "tag": "div"
                     },
                     "nodeType": "DOM",
                     "props": {
                      "className": "interact-flex-row-right"
                     },
                     "type": "node"
                    }
                   ],
                   "instanceArgs": {
                    "namespace": "html",
                    "tag": "div"
                   },
                   "nodeType": "DOM",
                   "props": {
                    "className": "interact-flex-row interact-widget"
                   },
                   "type": "node"
                  }
                 ],
                 "instanceArgs": {
                  "handlers": {
                   "changes": [
                    "(function (val){return (val!=this.model[\"changes\"]()) ? (this.valueFromJulia[\"changes\"]=true, this.model[\"changes\"](val)) : undefined})"
                   ],
                   "index": [
                    "(function (val){return (val!=this.model[\"index\"]()) ? (this.valueFromJulia[\"index\"]=true, this.model[\"index\"](val)) : undefined})"
                   ]
                  },
                  "id": "5930760403006860369",
                  "imports": {
                   "data": [
                    {
                     "name": "knockout",
                     "type": "js",
                     "url": "/assetserver/727383f2a47bd31570b7da84eee7b022dd6d7c78-knockout.js"
                    },
                    {
                     "name": "knockout_punches",
                     "type": "js",
                     "url": "/assetserver/382b41b3b1bd9f26f75861d360bad7f8beea211f-knockout_punches.js"
                    },
                    {
                     "name": null,
                     "type": "js",
                     "url": "/assetserver/5ab20f1060420992a9b82a65b735dee4d81ef413-all.js"
                    },
                    {
                     "name": null,
                     "type": "css",
                     "url": "/assetserver/1cc0ed62837210b80a182cc3676512f895dab686-style.css"
                    },
                    {
                     "name": null,
                     "type": "css",
                     "url": "/assetserver/2eee816f616df3549d7044d45e744fbf8d42bfa1-bulma_confined.min.css"
                    }
                   ],
                   "type": "async_block"
                  },
                  "mount_callbacks": [
                   "function () {\n    var handler = (function (ko, koPunches) {\n    ko.punches.enableAll();\n    ko.bindingHandlers.numericValue = {\n        init: function(element, valueAccessor, allBindings, data, context) {\n            var stringified = ko.observable(ko.unwrap(valueAccessor()));\n            stringified.subscribe(function(value) {\n                var val = parseFloat(value);\n                if (!isNaN(val)) {\n                    valueAccessor()(val);\n                }\n            });\n            valueAccessor().subscribe(function(value) {\n                var str = JSON.stringify(value);\n                if ((str == \"0\") && ([\"-0\", \"-0.\"].indexOf(stringified()) >= 0))\n                     return;\n                 if ([\"null\", \"\"].indexOf(str) >= 0)\n                     return;\n                stringified(str);\n            });\n            ko.applyBindingsToNode(\n                element,\n                {\n                    value: stringified,\n                    valueUpdate: allBindings.get('valueUpdate'),\n                },\n                context,\n            );\n        }\n    };\n    var json_data = {\"formatted_vals\":[\"1.0\",\"1.2\",\"1.4\",\"1.6\",\"1.8\",\"2.0\",\"2.2\",\"2.4\",\"2.6\",\"2.8\",\"3.0\",\"3.2\",\"3.4\",\"3.6\",\"3.8\",\"4.0\",\"4.2\",\"4.4\",\"4.6\",\"4.8\",\"5.0\"],\"changes\":WebIO.getval({\"name\":\"changes\",\"scope\":\"5930760403006860369\",\"id\":\"16452195674960199409\",\"type\":\"observable\"}),\"index\":WebIO.getval({\"name\":\"index\",\"scope\":\"5930760403006860369\",\"id\":\"1749813147585608706\",\"type\":\"observable\"})};\n    var self = this;\n    function AppViewModel() {\n        for (var key in json_data) {\n            var el = json_data[key];\n            this[key] = Array.isArray(el) ? ko.observableArray(el) : ko.observable(el);\n        }\n        \n        [this[\"formatted_val\"]=ko.computed(    function(){\n        return this.formatted_vals()[parseInt(this.index())-(1)];\n    }\n,this)]\n        [this[\"changes\"].subscribe((function (val){!(this.valueFromJulia[\"changes\"]) ? (WebIO.setval({\"name\":\"changes\",\"scope\":\"5930760403006860369\",\"id\":\"16452195674960199409\",\"type\":\"observable\"},val)) : undefined; return this.valueFromJulia[\"changes\"]=false}),self),this[\"index\"].subscribe((function (val){!(this.valueFromJulia[\"index\"]) ? (WebIO.setval({\"name\":\"index\",\"scope\":\"5930760403006860369\",\"id\":\"1749813147585608706\",\"type\":\"observable\"},val)) : undefined; return this.valueFromJulia[\"index\"]=false}),self)]\n        \n    }\n    self.model = new AppViewModel();\n    self.valueFromJulia = {};\n    for (var key in json_data) {\n        self.valueFromJulia[key] = false;\n    }\n    ko.applyBindings(self.model, self.dom);\n}\n);\n    (WebIO.importBlock({\"data\":[{\"name\":\"knockout\",\"type\":\"js\",\"url\":\"/assetserver/727383f2a47bd31570b7da84eee7b022dd6d7c78-knockout.js\"},{\"name\":\"knockout_punches\",\"type\":\"js\",\"url\":\"/assetserver/382b41b3b1bd9f26f75861d360bad7f8beea211f-knockout_punches.js\"}],\"type\":\"async_block\"})).then((imports) => handler.apply(this, imports));\n}\n"
                  ],
                  "observables": {
                   "changes": {
                    "id": "16452195674960199409",
                    "sync": false,
                    "value": 0
                   },
                   "index": {
                    "id": "1749813147585608706",
                    "sync": true,
                    "value": 11
                   }
                  },
                  "systemjs_options": null
                 },
                 "nodeType": "Scope",
                 "props": {},
                 "type": "node"
                }
               ],
               "instanceArgs": {
                "namespace": "html",
                "tag": "div"
               },
               "nodeType": "DOM",
               "props": {
                "className": "field interact-widget"
               },
               "type": "node"
              }
             ],
             "instanceArgs": {
              "namespace": "html",
              "tag": "div"
             },
             "nodeType": "DOM",
             "props": {
              "style": {
               "display": "flex",
               "flex-direction": "column"
              }
             },
             "type": "node"
            },
            {
             "children": [
              {
               "children": [
                {
                 "children": [
                  {
                   "children": [],
                   "instanceArgs": {
                    "namespace": "html",
                    "tag": "div"
                   },
                   "nodeType": "DOM",
                   "props": {
                    "id": "container"
                   },
                   "type": "node"
                  }
                 ],
                 "instanceArgs": {
                  "handlers": {
                   "value": [
                    "(function (txt){return this.k.render(txt,this.container)})"
                   ]
                  },
                  "id": "9565761660375915725",
                  "imports": {
                   "data": [
                    {
                     "name": null,
                     "type": "js",
                     "url": "/assetserver/dd22ed1bf1896c2748f3fe616ce0b838adc895c1-katex.min.js"
                    },
                    {
                     "name": null,
                     "type": "css",
                     "url": "/assetserver/46517a424aa5e6cffc1360d7e0848b601c584ee3-katex.min.css"
                    }
                   ],
                   "type": "async_block"
                  },
                  "mount_callbacks": [
                   "function () {\n    var handler = ((function (k){this.k=k; this.container=this.dom.querySelector(\"#container\"); return k.render(\"\\\\;\\\\;\",this.container)}));\n    (WebIO.importBlock({\"data\":[{\"name\":null,\"type\":\"js\",\"url\":\"/assetserver/dd22ed1bf1896c2748f3fe616ce0b838adc895c1-katex.min.js\"},{\"name\":null,\"type\":\"css\",\"url\":\"/assetserver/46517a424aa5e6cffc1360d7e0848b601c584ee3-katex.min.css\"}],\"type\":\"async_block\"})).then((imports) => handler.apply(this, imports));\n}\n"
                  ],
                  "observables": {
                   "value": {
                    "id": "6707257292521179330",
                    "sync": false,
                    "value": "\\;\\;"
                   }
                  },
                  "systemjs_options": null
                 },
                 "nodeType": "Scope",
                 "props": {},
                 "type": "node"
                }
               ],
               "instanceArgs": {
                "namespace": "html",
                "tag": "div"
               },
               "nodeType": "DOM",
               "props": {
                "className": "interact-widget"
               },
               "type": "node"
              },
              {
               "children": [
                {
                 "children": [
                  {
                   "children": [
                    "run"
                   ],
                   "instanceArgs": {
                    "namespace": "html",
                    "tag": "button"
                   },
                   "nodeType": "DOM",
                   "props": {
                    "attributes": {
                     "data-bind": "click: function (){this.clicks(this.clicks()+1)}, css: {'is-loading' : loading}"
                    },
                    "className": "is-medium button is-primary",
                    "style": {}
                   },
                   "type": "node"
                  }
                 ],
                 "instanceArgs": {
                  "handlers": {
                   "clicks": [
                    "(function (val){return (val!=this.model[\"clicks\"]()) ? (this.valueFromJulia[\"clicks\"]=true, this.model[\"clicks\"](val)) : undefined})"
                   ],
                   "loading": [
                    "(function (val){return (val!=this.model[\"loading\"]()) ? (this.valueFromJulia[\"loading\"]=true, this.model[\"loading\"](val)) : undefined})"
                   ]
                  },
                  "id": "14910291867008279652",
                  "imports": {
                   "data": [
                    {
                     "name": "knockout",
                     "type": "js",
                     "url": "/assetserver/727383f2a47bd31570b7da84eee7b022dd6d7c78-knockout.js"
                    },
                    {
                     "name": "knockout_punches",
                     "type": "js",
                     "url": "/assetserver/382b41b3b1bd9f26f75861d360bad7f8beea211f-knockout_punches.js"
                    },
                    {
                     "name": null,
                     "type": "js",
                     "url": "/assetserver/5ab20f1060420992a9b82a65b735dee4d81ef413-all.js"
                    },
                    {
                     "name": null,
                     "type": "css",
                     "url": "/assetserver/1cc0ed62837210b80a182cc3676512f895dab686-style.css"
                    },
                    {
                     "name": null,
                     "type": "css",
                     "url": "/assetserver/2eee816f616df3549d7044d45e744fbf8d42bfa1-bulma_confined.min.css"
                    }
                   ],
                   "type": "async_block"
                  },
                  "mount_callbacks": [
                   "function () {\n    var handler = (function (ko, koPunches) {\n    ko.punches.enableAll();\n    ko.bindingHandlers.numericValue = {\n        init: function(element, valueAccessor, allBindings, data, context) {\n            var stringified = ko.observable(ko.unwrap(valueAccessor()));\n            stringified.subscribe(function(value) {\n                var val = parseFloat(value);\n                if (!isNaN(val)) {\n                    valueAccessor()(val);\n                }\n            });\n            valueAccessor().subscribe(function(value) {\n                var str = JSON.stringify(value);\n                if ((str == \"0\") && ([\"-0\", \"-0.\"].indexOf(stringified()) >= 0))\n                     return;\n                 if ([\"null\", \"\"].indexOf(str) >= 0)\n                     return;\n                stringified(str);\n            });\n            ko.applyBindingsToNode(\n                element,\n                {\n                    value: stringified,\n                    valueUpdate: allBindings.get('valueUpdate'),\n                },\n                context,\n            );\n        }\n    };\n    var json_data = {\"loading\":WebIO.getval({\"name\":\"loading\",\"scope\":\"14910291867008279652\",\"id\":\"7305091007263666687\",\"type\":\"observable\"}),\"clicks\":WebIO.getval({\"name\":\"clicks\",\"scope\":\"14910291867008279652\",\"id\":\"10165912732508848411\",\"type\":\"observable\"})};\n    var self = this;\n    function AppViewModel() {\n        for (var key in json_data) {\n            var el = json_data[key];\n            this[key] = Array.isArray(el) ? ko.observableArray(el) : ko.observable(el);\n        }\n        \n        \n        [this[\"loading\"].subscribe((function (val){!(this.valueFromJulia[\"loading\"]) ? (WebIO.setval({\"name\":\"loading\",\"scope\":\"14910291867008279652\",\"id\":\"7305091007263666687\",\"type\":\"observable\"},val)) : undefined; return this.valueFromJulia[\"loading\"]=false}),self),this[\"clicks\"].subscribe((function (val){!(this.valueFromJulia[\"clicks\"]) ? (WebIO.setval({\"name\":\"clicks\",\"scope\":\"14910291867008279652\",\"id\":\"10165912732508848411\",\"type\":\"observable\"},val)) : undefined; return this.valueFromJulia[\"clicks\"]=false}),self)]\n        \n    }\n    self.model = new AppViewModel();\n    self.valueFromJulia = {};\n    for (var key in json_data) {\n        self.valueFromJulia[key] = false;\n    }\n    ko.applyBindings(self.model, self.dom);\n}\n);\n    (WebIO.importBlock({\"data\":[{\"name\":\"knockout\",\"type\":\"js\",\"url\":\"/assetserver/727383f2a47bd31570b7da84eee7b022dd6d7c78-knockout.js\"},{\"name\":\"knockout_punches\",\"type\":\"js\",\"url\":\"/assetserver/382b41b3b1bd9f26f75861d360bad7f8beea211f-knockout_punches.js\"}],\"type\":\"async_block\"})).then((imports) => handler.apply(this, imports));\n}\n"
                  ],
                  "observables": {
                   "clicks": {
                    "id": "10165912732508848411",
                    "sync": true,
                    "value": 0
                   },
                   "loading": {
                    "id": "7305091007263666687",
                    "sync": false,
                    "value": false
                   }
                  },
                  "systemjs_options": null
                 },
                 "nodeType": "Scope",
                 "props": {},
                 "type": "node"
                }
               ],
               "instanceArgs": {
                "namespace": "html",
                "tag": "div"
               },
               "nodeType": "DOM",
               "props": {
                "className": "field interact-widget"
               },
               "type": "node"
              },
              {
               "children": [
                {
                 "children": [
                  {
                   "children": [],
                   "instanceArgs": {
                    "namespace": "html",
                    "tag": "div"
                   },
                   "nodeType": "DOM",
                   "props": {
                    "id": "container"
                   },
                   "type": "node"
                  }
                 ],
                 "instanceArgs": {
                  "handlers": {
                   "value": [
                    "(function (txt){return this.k.render(txt,this.container)})"
                   ]
                  },
                  "id": "9565761660375915725",
                  "imports": {
                   "data": [
                    {
                     "name": null,
                     "type": "js",
                     "url": "/assetserver/dd22ed1bf1896c2748f3fe616ce0b838adc895c1-katex.min.js"
                    },
                    {
                     "name": null,
                     "type": "css",
                     "url": "/assetserver/46517a424aa5e6cffc1360d7e0848b601c584ee3-katex.min.css"
                    }
                   ],
                   "type": "async_block"
                  },
                  "mount_callbacks": [
                   "function () {\n    var handler = ((function (k){this.k=k; this.container=this.dom.querySelector(\"#container\"); return k.render(\"\\\\;\\\\;\",this.container)}));\n    (WebIO.importBlock({\"data\":[{\"name\":null,\"type\":\"js\",\"url\":\"/assetserver/dd22ed1bf1896c2748f3fe616ce0b838adc895c1-katex.min.js\"},{\"name\":null,\"type\":\"css\",\"url\":\"/assetserver/46517a424aa5e6cffc1360d7e0848b601c584ee3-katex.min.css\"}],\"type\":\"async_block\"})).then((imports) => handler.apply(this, imports));\n}\n"
                  ],
                  "observables": {
                   "value": {
                    "id": "6707257292521179330",
                    "sync": false,
                    "value": "\\;\\;"
                   }
                  },
                  "systemjs_options": null
                 },
                 "nodeType": "Scope",
                 "props": {},
                 "type": "node"
                }
               ],
               "instanceArgs": {
                "namespace": "html",
                "tag": "div"
               },
               "nodeType": "DOM",
               "props": {
                "className": "interact-widget"
               },
               "type": "node"
              },
              {
               "children": [
                {
                 "children": [
                  {
                   "children": [
                    "stop"
                   ],
                   "instanceArgs": {
                    "namespace": "html",
                    "tag": "button"
                   },
                   "nodeType": "DOM",
                   "props": {
                    "attributes": {
                     "data-bind": "click: function (){this.clicks(this.clicks()+1)}, css: {'is-loading' : loading}"
                    },
                    "className": "is-medium button is-primary",
                    "style": {}
                   },
                   "type": "node"
                  }
                 ],
                 "instanceArgs": {
                  "handlers": {
                   "clicks": [
                    "(function (val){return (val!=this.model[\"clicks\"]()) ? (this.valueFromJulia[\"clicks\"]=true, this.model[\"clicks\"](val)) : undefined})"
                   ],
                   "loading": [
                    "(function (val){return (val!=this.model[\"loading\"]()) ? (this.valueFromJulia[\"loading\"]=true, this.model[\"loading\"](val)) : undefined})"
                   ]
                  },
                  "id": "3812709668836486266",
                  "imports": {
                   "data": [
                    {
                     "name": "knockout",
                     "type": "js",
                     "url": "/assetserver/727383f2a47bd31570b7da84eee7b022dd6d7c78-knockout.js"
                    },
                    {
                     "name": "knockout_punches",
                     "type": "js",
                     "url": "/assetserver/382b41b3b1bd9f26f75861d360bad7f8beea211f-knockout_punches.js"
                    },
                    {
                     "name": null,
                     "type": "js",
                     "url": "/assetserver/5ab20f1060420992a9b82a65b735dee4d81ef413-all.js"
                    },
                    {
                     "name": null,
                     "type": "css",
                     "url": "/assetserver/1cc0ed62837210b80a182cc3676512f895dab686-style.css"
                    },
                    {
                     "name": null,
                     "type": "css",
                     "url": "/assetserver/2eee816f616df3549d7044d45e744fbf8d42bfa1-bulma_confined.min.css"
                    }
                   ],
                   "type": "async_block"
                  },
                  "mount_callbacks": [
                   "function () {\n    var handler = (function (ko, koPunches) {\n    ko.punches.enableAll();\n    ko.bindingHandlers.numericValue = {\n        init: function(element, valueAccessor, allBindings, data, context) {\n            var stringified = ko.observable(ko.unwrap(valueAccessor()));\n            stringified.subscribe(function(value) {\n                var val = parseFloat(value);\n                if (!isNaN(val)) {\n                    valueAccessor()(val);\n                }\n            });\n            valueAccessor().subscribe(function(value) {\n                var str = JSON.stringify(value);\n                if ((str == \"0\") && ([\"-0\", \"-0.\"].indexOf(stringified()) >= 0))\n                     return;\n                 if ([\"null\", \"\"].indexOf(str) >= 0)\n                     return;\n                stringified(str);\n            });\n            ko.applyBindingsToNode(\n                element,\n                {\n                    value: stringified,\n                    valueUpdate: allBindings.get('valueUpdate'),\n                },\n                context,\n            );\n        }\n    };\n    var json_data = {\"loading\":WebIO.getval({\"name\":\"loading\",\"scope\":\"3812709668836486266\",\"id\":\"13631297882679307911\",\"type\":\"observable\"}),\"clicks\":WebIO.getval({\"name\":\"clicks\",\"scope\":\"3812709668836486266\",\"id\":\"7476060849340724557\",\"type\":\"observable\"})};\n    var self = this;\n    function AppViewModel() {\n        for (var key in json_data) {\n            var el = json_data[key];\n            this[key] = Array.isArray(el) ? ko.observableArray(el) : ko.observable(el);\n        }\n        \n        \n        [this[\"loading\"].subscribe((function (val){!(this.valueFromJulia[\"loading\"]) ? (WebIO.setval({\"name\":\"loading\",\"scope\":\"3812709668836486266\",\"id\":\"13631297882679307911\",\"type\":\"observable\"},val)) : undefined; return this.valueFromJulia[\"loading\"]=false}),self),this[\"clicks\"].subscribe((function (val){!(this.valueFromJulia[\"clicks\"]) ? (WebIO.setval({\"name\":\"clicks\",\"scope\":\"3812709668836486266\",\"id\":\"7476060849340724557\",\"type\":\"observable\"},val)) : undefined; return this.valueFromJulia[\"clicks\"]=false}),self)]\n        \n    }\n    self.model = new AppViewModel();\n    self.valueFromJulia = {};\n    for (var key in json_data) {\n        self.valueFromJulia[key] = false;\n    }\n    ko.applyBindings(self.model, self.dom);\n}\n);\n    (WebIO.importBlock({\"data\":[{\"name\":\"knockout\",\"type\":\"js\",\"url\":\"/assetserver/727383f2a47bd31570b7da84eee7b022dd6d7c78-knockout.js\"},{\"name\":\"knockout_punches\",\"type\":\"js\",\"url\":\"/assetserver/382b41b3b1bd9f26f75861d360bad7f8beea211f-knockout_punches.js\"}],\"type\":\"async_block\"})).then((imports) => handler.apply(this, imports));\n}\n"
                  ],
                  "observables": {
                   "clicks": {
                    "id": "7476060849340724557",
                    "sync": true,
                    "value": 0
                   },
                   "loading": {
                    "id": "13631297882679307911",
                    "sync": false,
                    "value": false
                   }
                  },
                  "systemjs_options": null
                 },
                 "nodeType": "Scope",
                 "props": {},
                 "type": "node"
                }
               ],
               "instanceArgs": {
                "namespace": "html",
                "tag": "div"
               },
               "nodeType": "DOM",
               "props": {
                "className": "field interact-widget"
               },
               "type": "node"
              },
              {
               "children": [
                {
                 "children": [
                  {
                   "children": [],
                   "instanceArgs": {
                    "namespace": "html",
                    "tag": "div"
                   },
                   "nodeType": "DOM",
                   "props": {
                    "id": "container"
                   },
                   "type": "node"
                  }
                 ],
                 "instanceArgs": {
                  "handlers": {
                   "value": [
                    "(function (txt){return this.k.render(txt,this.container)})"
                   ]
                  },
                  "id": "9565761660375915725",
                  "imports": {
                   "data": [
                    {
                     "name": null,
                     "type": "js",
                     "url": "/assetserver/dd22ed1bf1896c2748f3fe616ce0b838adc895c1-katex.min.js"
                    },
                    {
                     "name": null,
                     "type": "css",
                     "url": "/assetserver/46517a424aa5e6cffc1360d7e0848b601c584ee3-katex.min.css"
                    }
                   ],
                   "type": "async_block"
                  },
                  "mount_callbacks": [
                   "function () {\n    var handler = ((function (k){this.k=k; this.container=this.dom.querySelector(\"#container\"); return k.render(\"\\\\;\\\\;\",this.container)}));\n    (WebIO.importBlock({\"data\":[{\"name\":null,\"type\":\"js\",\"url\":\"/assetserver/dd22ed1bf1896c2748f3fe616ce0b838adc895c1-katex.min.js\"},{\"name\":null,\"type\":\"css\",\"url\":\"/assetserver/46517a424aa5e6cffc1360d7e0848b601c584ee3-katex.min.css\"}],\"type\":\"async_block\"})).then((imports) => handler.apply(this, imports));\n}\n"
                  ],
                  "observables": {
                   "value": {
                    "id": "6707257292521179330",
                    "sync": false,
                    "value": "\\;\\;"
                   }
                  },
                  "systemjs_options": null
                 },
                 "nodeType": "Scope",
                 "props": {},
                 "type": "node"
                }
               ],
               "instanceArgs": {
                "namespace": "html",
                "tag": "div"
               },
               "nodeType": "DOM",
               "props": {
                "className": "interact-widget"
               },
               "type": "node"
              },
              {
               "children": [
                {
                 "children": [
                  {
                   "children": [
                    "reset"
                   ],
                   "instanceArgs": {
                    "namespace": "html",
                    "tag": "button"
                   },
                   "nodeType": "DOM",
                   "props": {
                    "attributes": {
                     "data-bind": "click: function (){this.clicks(this.clicks()+1)}, css: {'is-loading' : loading}"
                    },
                    "className": "is-medium button is-primary",
                    "style": {}
                   },
                   "type": "node"
                  }
                 ],
                 "instanceArgs": {
                  "handlers": {
                   "clicks": [
                    "(function (val){return (val!=this.model[\"clicks\"]()) ? (this.valueFromJulia[\"clicks\"]=true, this.model[\"clicks\"](val)) : undefined})"
                   ],
                   "loading": [
                    "(function (val){return (val!=this.model[\"loading\"]()) ? (this.valueFromJulia[\"loading\"]=true, this.model[\"loading\"](val)) : undefined})"
                   ]
                  },
                  "id": "12685153048897053486",
                  "imports": {
                   "data": [
                    {
                     "name": "knockout",
                     "type": "js",
                     "url": "/assetserver/727383f2a47bd31570b7da84eee7b022dd6d7c78-knockout.js"
                    },
                    {
                     "name": "knockout_punches",
                     "type": "js",
                     "url": "/assetserver/382b41b3b1bd9f26f75861d360bad7f8beea211f-knockout_punches.js"
                    },
                    {
                     "name": null,
                     "type": "js",
                     "url": "/assetserver/5ab20f1060420992a9b82a65b735dee4d81ef413-all.js"
                    },
                    {
                     "name": null,
                     "type": "css",
                     "url": "/assetserver/1cc0ed62837210b80a182cc3676512f895dab686-style.css"
                    },
                    {
                     "name": null,
                     "type": "css",
                     "url": "/assetserver/2eee816f616df3549d7044d45e744fbf8d42bfa1-bulma_confined.min.css"
                    }
                   ],
                   "type": "async_block"
                  },
                  "mount_callbacks": [
                   "function () {\n    var handler = (function (ko, koPunches) {\n    ko.punches.enableAll();\n    ko.bindingHandlers.numericValue = {\n        init: function(element, valueAccessor, allBindings, data, context) {\n            var stringified = ko.observable(ko.unwrap(valueAccessor()));\n            stringified.subscribe(function(value) {\n                var val = parseFloat(value);\n                if (!isNaN(val)) {\n                    valueAccessor()(val);\n                }\n            });\n            valueAccessor().subscribe(function(value) {\n                var str = JSON.stringify(value);\n                if ((str == \"0\") && ([\"-0\", \"-0.\"].indexOf(stringified()) >= 0))\n                     return;\n                 if ([\"null\", \"\"].indexOf(str) >= 0)\n                     return;\n                stringified(str);\n            });\n            ko.applyBindingsToNode(\n                element,\n                {\n                    value: stringified,\n                    valueUpdate: allBindings.get('valueUpdate'),\n                },\n                context,\n            );\n        }\n    };\n    var json_data = {\"loading\":WebIO.getval({\"name\":\"loading\",\"scope\":\"12685153048897053486\",\"id\":\"354380450628356907\",\"type\":\"observable\"}),\"clicks\":WebIO.getval({\"name\":\"clicks\",\"scope\":\"12685153048897053486\",\"id\":\"5430486305339466890\",\"type\":\"observable\"})};\n    var self = this;\n    function AppViewModel() {\n        for (var key in json_data) {\n            var el = json_data[key];\n            this[key] = Array.isArray(el) ? ko.observableArray(el) : ko.observable(el);\n        }\n        \n        \n        [this[\"loading\"].subscribe((function (val){!(this.valueFromJulia[\"loading\"]) ? (WebIO.setval({\"name\":\"loading\",\"scope\":\"12685153048897053486\",\"id\":\"354380450628356907\",\"type\":\"observable\"},val)) : undefined; return this.valueFromJulia[\"loading\"]=false}),self),this[\"clicks\"].subscribe((function (val){!(this.valueFromJulia[\"clicks\"]) ? (WebIO.setval({\"name\":\"clicks\",\"scope\":\"12685153048897053486\",\"id\":\"5430486305339466890\",\"type\":\"observable\"},val)) : undefined; return this.valueFromJulia[\"clicks\"]=false}),self)]\n        \n    }\n    self.model = new AppViewModel();\n    self.valueFromJulia = {};\n    for (var key in json_data) {\n        self.valueFromJulia[key] = false;\n    }\n    ko.applyBindings(self.model, self.dom);\n}\n);\n    (WebIO.importBlock({\"data\":[{\"name\":\"knockout\",\"type\":\"js\",\"url\":\"/assetserver/727383f2a47bd31570b7da84eee7b022dd6d7c78-knockout.js\"},{\"name\":\"knockout_punches\",\"type\":\"js\",\"url\":\"/assetserver/382b41b3b1bd9f26f75861d360bad7f8beea211f-knockout_punches.js\"}],\"type\":\"async_block\"})).then((imports) => handler.apply(this, imports));\n}\n"
                  ],
                  "observables": {
                   "clicks": {
                    "id": "5430486305339466890",
                    "sync": true,
                    "value": 0
                   },
                   "loading": {
                    "id": "354380450628356907",
                    "sync": false,
                    "value": false
                   }
                  },
                  "systemjs_options": null
                 },
                 "nodeType": "Scope",
                 "props": {},
                 "type": "node"
                }
               ],
               "instanceArgs": {
                "namespace": "html",
                "tag": "div"
               },
               "nodeType": "DOM",
               "props": {
                "className": "field interact-widget"
               },
               "type": "node"
              },
              {
               "children": [
                {
                 "children": [
                  {
                   "children": [],
                   "instanceArgs": {
                    "namespace": "html",
                    "tag": "div"
                   },
                   "nodeType": "DOM",
                   "props": {
                    "id": "container"
                   },
                   "type": "node"
                  }
                 ],
                 "instanceArgs": {
                  "handlers": {
                   "value": [
                    "(function (txt){return this.k.render(txt,this.container)})"
                   ]
                  },
                  "id": "9565761660375915725",
                  "imports": {
                   "data": [
                    {
                     "name": null,
                     "type": "js",
                     "url": "/assetserver/dd22ed1bf1896c2748f3fe616ce0b838adc895c1-katex.min.js"
                    },
                    {
                     "name": null,
                     "type": "css",
                     "url": "/assetserver/46517a424aa5e6cffc1360d7e0848b601c584ee3-katex.min.css"
                    }
                   ],
                   "type": "async_block"
                  },
                  "mount_callbacks": [
                   "function () {\n    var handler = ((function (k){this.k=k; this.container=this.dom.querySelector(\"#container\"); return k.render(\"\\\\;\\\\;\",this.container)}));\n    (WebIO.importBlock({\"data\":[{\"name\":null,\"type\":\"js\",\"url\":\"/assetserver/dd22ed1bf1896c2748f3fe616ce0b838adc895c1-katex.min.js\"},{\"name\":null,\"type\":\"css\",\"url\":\"/assetserver/46517a424aa5e6cffc1360d7e0848b601c584ee3-katex.min.css\"}],\"type\":\"async_block\"})).then((imports) => handler.apply(this, imports));\n}\n"
                  ],
                  "observables": {
                   "value": {
                    "id": "6707257292521179330",
                    "sync": false,
                    "value": "\\;\\;"
                   }
                  },
                  "systemjs_options": null
                 },
                 "nodeType": "Scope",
                 "props": {},
                 "type": "node"
                }
               ],
               "instanceArgs": {
                "namespace": "html",
                "tag": "div"
               },
               "nodeType": "DOM",
               "props": {
                "className": "interact-widget"
               },
               "type": "node"
              },
              {
               "children": [
                {
                 "children": [
                  {
                   "children": [
                    "save"
                   ],
                   "instanceArgs": {
                    "namespace": "html",
                    "tag": "button"
                   },
                   "nodeType": "DOM",
                   "props": {
                    "attributes": {
                     "data-bind": "click: function (){this.clicks(this.clicks()+1)}, css: {'is-loading' : loading}"
                    },
                    "className": "is-medium button is-primary",
                    "style": {}
                   },
                   "type": "node"
                  }
                 ],
                 "instanceArgs": {
                  "handlers": {
                   "clicks": [
                    "(function (val){return (val!=this.model[\"clicks\"]()) ? (this.valueFromJulia[\"clicks\"]=true, this.model[\"clicks\"](val)) : undefined})"
                   ],
                   "loading": [
                    "(function (val){return (val!=this.model[\"loading\"]()) ? (this.valueFromJulia[\"loading\"]=true, this.model[\"loading\"](val)) : undefined})"
                   ]
                  },
                  "id": "11399965161068256468",
                  "imports": {
                   "data": [
                    {
                     "name": "knockout",
                     "type": "js",
                     "url": "/assetserver/727383f2a47bd31570b7da84eee7b022dd6d7c78-knockout.js"
                    },
                    {
                     "name": "knockout_punches",
                     "type": "js",
                     "url": "/assetserver/382b41b3b1bd9f26f75861d360bad7f8beea211f-knockout_punches.js"
                    },
                    {
                     "name": null,
                     "type": "js",
                     "url": "/assetserver/5ab20f1060420992a9b82a65b735dee4d81ef413-all.js"
                    },
                    {
                     "name": null,
                     "type": "css",
                     "url": "/assetserver/1cc0ed62837210b80a182cc3676512f895dab686-style.css"
                    },
                    {
                     "name": null,
                     "type": "css",
                     "url": "/assetserver/2eee816f616df3549d7044d45e744fbf8d42bfa1-bulma_confined.min.css"
                    }
                   ],
                   "type": "async_block"
                  },
                  "mount_callbacks": [
                   "function () {\n    var handler = (function (ko, koPunches) {\n    ko.punches.enableAll();\n    ko.bindingHandlers.numericValue = {\n        init: function(element, valueAccessor, allBindings, data, context) {\n            var stringified = ko.observable(ko.unwrap(valueAccessor()));\n            stringified.subscribe(function(value) {\n                var val = parseFloat(value);\n                if (!isNaN(val)) {\n                    valueAccessor()(val);\n                }\n            });\n            valueAccessor().subscribe(function(value) {\n                var str = JSON.stringify(value);\n                if ((str == \"0\") && ([\"-0\", \"-0.\"].indexOf(stringified()) >= 0))\n                     return;\n                 if ([\"null\", \"\"].indexOf(str) >= 0)\n                     return;\n                stringified(str);\n            });\n            ko.applyBindingsToNode(\n                element,\n                {\n                    value: stringified,\n                    valueUpdate: allBindings.get('valueUpdate'),\n                },\n                context,\n            );\n        }\n    };\n    var json_data = {\"loading\":WebIO.getval({\"name\":\"loading\",\"scope\":\"11399965161068256468\",\"id\":\"10418103239950567406\",\"type\":\"observable\"}),\"clicks\":WebIO.getval({\"name\":\"clicks\",\"scope\":\"11399965161068256468\",\"id\":\"12357416504220703470\",\"type\":\"observable\"})};\n    var self = this;\n    function AppViewModel() {\n        for (var key in json_data) {\n            var el = json_data[key];\n            this[key] = Array.isArray(el) ? ko.observableArray(el) : ko.observable(el);\n        }\n        \n        \n        [this[\"loading\"].subscribe((function (val){!(this.valueFromJulia[\"loading\"]) ? (WebIO.setval({\"name\":\"loading\",\"scope\":\"11399965161068256468\",\"id\":\"10418103239950567406\",\"type\":\"observable\"},val)) : undefined; return this.valueFromJulia[\"loading\"]=false}),self),this[\"clicks\"].subscribe((function (val){!(this.valueFromJulia[\"clicks\"]) ? (WebIO.setval({\"name\":\"clicks\",\"scope\":\"11399965161068256468\",\"id\":\"12357416504220703470\",\"type\":\"observable\"},val)) : undefined; return this.valueFromJulia[\"clicks\"]=false}),self)]\n        \n    }\n    self.model = new AppViewModel();\n    self.valueFromJulia = {};\n    for (var key in json_data) {\n        self.valueFromJulia[key] = false;\n    }\n    ko.applyBindings(self.model, self.dom);\n}\n);\n    (WebIO.importBlock({\"data\":[{\"name\":\"knockout\",\"type\":\"js\",\"url\":\"/assetserver/727383f2a47bd31570b7da84eee7b022dd6d7c78-knockout.js\"},{\"name\":\"knockout_punches\",\"type\":\"js\",\"url\":\"/assetserver/382b41b3b1bd9f26f75861d360bad7f8beea211f-knockout_punches.js\"}],\"type\":\"async_block\"})).then((imports) => handler.apply(this, imports));\n}\n"
                  ],
                  "observables": {
                   "clicks": {
                    "id": "12357416504220703470",
                    "sync": true,
                    "value": 0
                   },
                   "loading": {
                    "id": "10418103239950567406",
                    "sync": false,
                    "value": false
                   }
                  },
                  "systemjs_options": null
                 },
                 "nodeType": "Scope",
                 "props": {},
                 "type": "node"
                }
               ],
               "instanceArgs": {
                "namespace": "html",
                "tag": "div"
               },
               "nodeType": "DOM",
               "props": {
                "className": "field interact-widget"
               },
               "type": "node"
              }
             ],
             "instanceArgs": {
              "namespace": "html",
              "tag": "div"
             },
             "nodeType": "DOM",
             "props": {
              "style": {
               "display": "flex",
               "flex-direction": "row"
              }
             },
             "type": "node"
            }
           ],
           "instanceArgs": {
            "namespace": "html",
            "tag": "div"
           },
           "nodeType": "DOM",
           "props": {
            "style": {
             "display": "flex",
             "flex-direction": "column"
            }
           },
           "type": "node"
          },
          {
           "children": [
            {
             "children": [
              {
               "children": [],
               "instanceArgs": {
                "namespace": "html",
                "tag": "div"
               },
               "nodeType": "DOM",
               "props": {
                "id": "container"
               },
               "type": "node"
              }
             ],
             "instanceArgs": {
              "handlers": {
               "value": [
                "(function (txt){return this.k.render(txt,this.container)})"
               ]
              },
              "id": "9565761660375915725",
              "imports": {
               "data": [
                {
                 "name": null,
                 "type": "js",
                 "url": "/assetserver/dd22ed1bf1896c2748f3fe616ce0b838adc895c1-katex.min.js"
                },
                {
                 "name": null,
                 "type": "css",
                 "url": "/assetserver/46517a424aa5e6cffc1360d7e0848b601c584ee3-katex.min.css"
                }
               ],
               "type": "async_block"
              },
              "mount_callbacks": [
               "function () {\n    var handler = ((function (k){this.k=k; this.container=this.dom.querySelector(\"#container\"); return k.render(\"\\\\;\\\\;\",this.container)}));\n    (WebIO.importBlock({\"data\":[{\"name\":null,\"type\":\"js\",\"url\":\"/assetserver/dd22ed1bf1896c2748f3fe616ce0b838adc895c1-katex.min.js\"},{\"name\":null,\"type\":\"css\",\"url\":\"/assetserver/46517a424aa5e6cffc1360d7e0848b601c584ee3-katex.min.css\"}],\"type\":\"async_block\"})).then((imports) => handler.apply(this, imports));\n}\n"
              ],
              "observables": {
               "value": {
                "id": "6707257292521179330",
                "sync": false,
                "value": "\\;\\;"
               }
              },
              "systemjs_options": null
             },
             "nodeType": "Scope",
             "props": {},
             "type": "node"
            }
           ],
           "instanceArgs": {
            "namespace": "html",
            "tag": "div"
           },
           "nodeType": "DOM",
           "props": {
            "className": "interact-widget"
           },
           "type": "node"
          },
          {
           "children": [
            {
             "children": [],
             "instanceArgs": {
              "namespace": "html",
              "tag": "div"
             },
             "nodeType": "DOM",
             "props": {
              "className": "webio-observable",
              "setInnerHtml": "<img src='data:image/png;base64,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'></img>"
             },
             "type": "node"
            }
           ],
           "instanceArgs": {
            "handlers": {
             "obs-output": [
              "function (value, scope) {\n    scope.setInnerHTML(value);\n}\n"
             ]
            },
            "id": "13777907950318639845",
            "imports": {
             "data": [],
             "type": "async_block"
            },
            "mount_callbacks": [],
            "observables": {
             "obs-output": {
              "id": "15990902391648995513",
              "sync": false,
              "value": "<img src='data:image/png;base64,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'></img>"
             }
            },
            "systemjs_options": null
           },
           "nodeType": "Scope",
           "props": {},
           "type": "node"
          },
          {
           "children": [
            {
             "children": [
              {
               "children": [],
               "instanceArgs": {
                "namespace": "html",
                "tag": "div"
               },
               "nodeType": "DOM",
               "props": {
                "id": "container"
               },
               "type": "node"
              }
             ],
             "instanceArgs": {
              "handlers": {
               "value": [
                "(function (txt){return this.k.render(txt,this.container)})"
               ]
              },
              "id": "9565761660375915725",
              "imports": {
               "data": [
                {
                 "name": null,
                 "type": "js",
                 "url": "/assetserver/dd22ed1bf1896c2748f3fe616ce0b838adc895c1-katex.min.js"
                },
                {
                 "name": null,
                 "type": "css",
                 "url": "/assetserver/46517a424aa5e6cffc1360d7e0848b601c584ee3-katex.min.css"
                }
               ],
               "type": "async_block"
              },
              "mount_callbacks": [
               "function () {\n    var handler = ((function (k){this.k=k; this.container=this.dom.querySelector(\"#container\"); return k.render(\"\\\\;\\\\;\",this.container)}));\n    (WebIO.importBlock({\"data\":[{\"name\":null,\"type\":\"js\",\"url\":\"/assetserver/dd22ed1bf1896c2748f3fe616ce0b838adc895c1-katex.min.js\"},{\"name\":null,\"type\":\"css\",\"url\":\"/assetserver/46517a424aa5e6cffc1360d7e0848b601c584ee3-katex.min.css\"}],\"type\":\"async_block\"})).then((imports) => handler.apply(this, imports));\n}\n"
              ],
              "observables": {
               "value": {
                "id": "6707257292521179330",
                "sync": false,
                "value": "\\;\\;"
               }
              },
              "systemjs_options": null
             },
             "nodeType": "Scope",
             "props": {},
             "type": "node"
            }
           ],
           "instanceArgs": {
            "namespace": "html",
            "tag": "div"
           },
           "nodeType": "DOM",
           "props": {
            "className": "interact-widget"
           },
           "type": "node"
          },
          {
           "children": [],
           "instanceArgs": {
            "namespace": "html",
            "tag": "div"
           },
           "nodeType": "DOM",
           "props": {
            "style": {
             "display": "flex",
             "flex-direction": "column"
            }
           },
           "type": "node"
          }
         ],
         "instanceArgs": {
          "namespace": "html",
          "tag": "div"
         },
         "nodeType": "DOM",
         "props": {
          "style": {
           "display": "flex",
           "flex-direction": "row"
          }
         },
         "type": "node"
        }
       ],
       "instanceArgs": {
        "namespace": "html",
        "tag": "div"
       },
       "nodeType": "DOM",
       "props": {
        "style": {
         "display": "flex",
         "flex-direction": "column"
        }
       },
       "type": "node"
      },
      "text/html": [
       "<div\n",
       "    class=\"webio-mountpoint\"\n",
       "    data-webio-mountpoint=\"1914221697961862285\"\n",
       ">\n",
       "    <script>\n",
       "    (function(){\n",
       "    // Some integrations (namely, IJulia/Jupyter) use an alternate render pathway than\n",
       "    // just putting the html on the page. If WebIO isn't defined, then it's pretty likely\n",
       "    // that we're in one of those situations and the integration just isn't installed\n",
       "    // correctly.\n",
       "    if (typeof window.WebIO === \"undefined\") {\n",
       "        document\n",
       "            .querySelector('[data-webio-mountpoint=\"1914221697961862285\"]')\n",
       "            .innerHTML = (\n",
       "                '<div style=\"padding: 1em; background-color: #f8d6da; border: 1px solid #f5c6cb; font-weight: bold;\">' +\n",
       "                '<p><strong>WebIO not detected.</strong></p>' +\n",
       "                '<p>Please read ' +\n",
       "                '<a href=\"https://juliagizmos.github.io/WebIO.jl/latest/troubleshooting/not-detected/\" target=\"_blank\">the troubleshooting guide</a> ' +\n",
       "                'for more information on how to resolve this issue.</p>' +\n",
       "                '<p><a href=\"https://juliagizmos.github.io/WebIO.jl/latest/troubleshooting/not-detected/\" target=\"_blank\">https://juliagizmos.github.io/WebIO.jl/latest/troubleshooting/not-detected/</a></p>' +\n",
       "                '</div>'\n",
       "            );\n",
       "        return;\n",
       "    }\n",
       "    WebIO.mount(\n",
       "        document.querySelector('[data-webio-mountpoint=\"1914221697961862285\"]'),\n",
       "        {\"props\":{\"style\":{\"display\":\"flex\",\"flex-direction\":\"column\"}},\"nodeType\":\"DOM\",\"type\":\"node\",\"instanceArgs\":{\"namespace\":\"html\",\"tag\":\"div\"},\"children\":[{\"props\":{\"style\":{\"display\":\"flex\",\"flex-direction\":\"row\"}},\"nodeType\":\"DOM\",\"type\":\"node\",\"instanceArgs\":{\"namespace\":\"html\",\"tag\":\"div\"},\"children\":[{\"props\":{\"style\":{\"display\":\"flex\",\"flex-direction\":\"column\"}},\"nodeType\":\"DOM\",\"type\":\"node\",\"instanceArgs\":{\"namespace\":\"html\",\"tag\":\"div\"},\"children\":[{\"props\":{\"className\":\"field interact-widget\"},\"nodeType\":\"DOM\",\"type\":\"node\",\"instanceArgs\":{\"namespace\":\"html\",\"tag\":\"div\"},\"children\":[{\"props\":{},\"nodeType\":\"Scope\",\"type\":\"node\",\"instanceArgs\":{\"imports\":{\"data\":[{\"name\":\"knockout\",\"type\":\"js\",\"url\":\"\\/assetserver\\/727383f2a47bd31570b7da84eee7b022dd6d7c78-knockout.js\"},{\"name\":\"knockout_punches\",\"type\":\"js\",\"url\":\"\\/assetserver\\/382b41b3b1bd9f26f75861d360bad7f8beea211f-knockout_punches.js\"},{\"name\":null,\"type\":\"js\",\"url\":\"\\/assetserver\\/5ab20f1060420992a9b82a65b735dee4d81ef413-all.js\"},{\"name\":null,\"type\":\"css\",\"url\":\"\\/assetserver\\/1cc0ed62837210b80a182cc3676512f895dab686-style.css\"},{\"name\":null,\"type\":\"css\",\"url\":\"\\/assetserver\\/2eee816f616df3549d7044d45e744fbf8d42bfa1-bulma_confined.min.css\"}],\"type\":\"async_block\"},\"id\":\"6925622466299397055\",\"handlers\":{\"changes\":[\"(function (val){return (val!=this.model[\\\"changes\\\"]()) ? (this.valueFromJulia[\\\"changes\\\"]=true, this.model[\\\"changes\\\"](val)) : undefined})\"],\"index\":[\"(function (val){return (val!=this.model[\\\"index\\\"]()) ? (this.valueFromJulia[\\\"index\\\"]=true, this.model[\\\"index\\\"](val)) : undefined})\"]},\"systemjs_options\":null,\"mount_callbacks\":[\"function () {\\n    var handler = (function (ko, koPunches) {\\n    ko.punches.enableAll();\\n    ko.bindingHandlers.numericValue = {\\n        init: function(element, valueAccessor, allBindings, data, context) {\\n            var stringified = ko.observable(ko.unwrap(valueAccessor()));\\n            stringified.subscribe(function(value) {\\n                var val = parseFloat(value);\\n                if (!isNaN(val)) {\\n                    valueAccessor()(val);\\n                }\\n            });\\n            valueAccessor().subscribe(function(value) {\\n                var str = JSON.stringify(value);\\n                if ((str == \\\"0\\\") && ([\\\"-0\\\", \\\"-0.\\\"].indexOf(stringified()) >= 0))\\n                     return;\\n                 if ([\\\"null\\\", \\\"\\\"].indexOf(str) >= 0)\\n                     return;\\n                stringified(str);\\n            });\\n            ko.applyBindingsToNode(\\n                element,\\n                {\\n                    value: stringified,\\n                    valueUpdate: allBindings.get('valueUpdate'),\\n                },\\n                context,\\n            );\\n        }\\n    };\\n    var json_data = {\\\"formatted_vals\\\":[\\\"1\\\",\\\"2\\\",\\\"3\\\",\\\"4\\\",\\\"5\\\",\\\"6\\\",\\\"7\\\",\\\"8\\\",\\\"9\\\",\\\"10\\\",\\\"11\\\",\\\"12\\\",\\\"13\\\",\\\"14\\\",\\\"15\\\",\\\"16\\\",\\\"17\\\",\\\"18\\\",\\\"19\\\",\\\"20\\\",\\\"21\\\",\\\"22\\\",\\\"23\\\",\\\"24\\\",\\\"25\\\",\\\"26\\\",\\\"27\\\",\\\"28\\\",\\\"29\\\",\\\"30\\\",\\\"31\\\",\\\"32\\\",\\\"33\\\",\\\"34\\\",\\\"35\\\",\\\"36\\\",\\\"37\\\",\\\"38\\\",\\\"39\\\",\\\"40\\\",\\\"41\\\",\\\"42\\\",\\\"43\\\",\\\"44\\\",\\\"45\\\",\\\"46\\\",\\\"47\\\",\\\"48\\\",\\\"49\\\",\\\"50\\\",\\\"51\\\",\\\"52\\\",\\\"53\\\",\\\"54\\\",\\\"55\\\",\\\"56\\\",\\\"57\\\",\\\"58\\\",\\\"59\\\",\\\"60\\\",\\\"61\\\",\\\"62\\\",\\\"63\\\",\\\"64\\\",\\\"65\\\",\\\"66\\\",\\\"67\\\",\\\"68\\\",\\\"69\\\",\\\"70\\\",\\\"71\\\",\\\"72\\\",\\\"73\\\",\\\"74\\\",\\\"75\\\",\\\"76\\\",\\\"77\\\",\\\"78\\\",\\\"79\\\",\\\"80\\\",\\\"81\\\",\\\"82\\\",\\\"83\\\",\\\"84\\\",\\\"85\\\",\\\"86\\\",\\\"87\\\",\\\"88\\\",\\\"89\\\",\\\"90\\\",\\\"91\\\",\\\"92\\\",\\\"93\\\",\\\"94\\\",\\\"95\\\",\\\"96\\\",\\\"97\\\",\\\"98\\\",\\\"99\\\",\\\"100\\\",\\\"101\\\",\\\"102\\\",\\\"103\\\",\\\"104\\\",\\\"105\\\",\\\"106\\\",\\\"107\\\",\\\"108\\\",\\\"109\\\",\\\"110\\\",\\\"111\\\",\\\"112\\\",\\\"113\\\",\\\"114\\\",\\\"115\\\",\\\"116\\\",\\\"117\\\",\\\"118\\\",\\\"119\\\",\\\"120\\\",\\\"121\\\",\\\"122\\\",\\\"123\\\",\\\"124\\\",\\\"125\\\",\\\"126\\\",\\\"127\\\",\\\"128\\\",\\\"129\\\",\\\"130\\\",\\\"131\\\",\\\"132\\\",\\\"133\\\",\\\"134\\\",\\\"135\\\",\\\"136\\\",\\\"137\\\",\\\"138\\\",\\\"139\\\",\\\"140\\\",\\\"141\\\",\\\"142\\\",\\\"143\\\",\\\"144\\\",\\\"145\\\",\\\"146\\\",\\\"147\\\",\\\"148\\\",\\\"149\\\",\\\"150\\\",\\\"151\\\",\\\"152\\\",\\\"153\\\",\\\"154\\\",\\\"155\\\",\\\"156\\\",\\\"157\\\",\\\"158\\\",\\\"159\\\",\\\"160\\\",\\\"161\\\",\\\"162\\\",\\\"163\\\",\\\"164\\\",\\\"165\\\",\\\"166\\\",\\\"167\\\",\\\"168\\\",\\\"169\\\",\\\"170\\\",\\\"171\\\",\\\"172\\\",\\\"173\\\",\\\"174\\\",\\\"175\\\",\\\"176\\\",\\\"177\\\",\\\"178\\\",\\\"179\\\",\\\"180\\\",\\\"181\\\",\\\"182\\\",\\\"183\\\",\\\"184\\\",\\\"185\\\",\\\"186\\\",\\\"187\\\",\\\"188\\\",\\\"189\\\",\\\"190\\\",\\\"191\\\",\\\"192\\\",\\\"193\\\",\\\"194\\\",\\\"195\\\",\\\"196\\\",\\\"197\\\",\\\"198\\\",\\\"199\\\",\\\"200\\\"],\\\"changes\\\":WebIO.getval({\\\"name\\\":\\\"changes\\\",\\\"scope\\\":\\\"6925622466299397055\\\",\\\"id\\\":\\\"10899954738393583519\\\",\\\"type\\\":\\\"observable\\\"}),\\\"index\\\":WebIO.getval({\\\"name\\\":\\\"index\\\",\\\"scope\\\":\\\"6925622466299397055\\\",\\\"id\\\":\\\"14540204293178177920\\\",\\\"type\\\":\\\"observable\\\"})};\\n    var self = this;\\n    function AppViewModel() {\\n        for (var key in json_data) {\\n            var el = json_data[key];\\n            this[key] = Array.isArray(el) ? ko.observableArray(el) : ko.observable(el);\\n        }\\n        \\n        [this[\\\"formatted_val\\\"]=ko.computed(    function(){\\n        return this.formatted_vals()[parseInt(this.index())-(1)];\\n    }\\n,this)]\\n        [this[\\\"changes\\\"].subscribe((function (val){!(this.valueFromJulia[\\\"changes\\\"]) ? (WebIO.setval({\\\"name\\\":\\\"changes\\\",\\\"scope\\\":\\\"6925622466299397055\\\",\\\"id\\\":\\\"10899954738393583519\\\",\\\"type\\\":\\\"observable\\\"},val)) : undefined; return this.valueFromJulia[\\\"changes\\\"]=false}),self),this[\\\"index\\\"].subscribe((function (val){!(this.valueFromJulia[\\\"index\\\"]) ? (WebIO.setval({\\\"name\\\":\\\"index\\\",\\\"scope\\\":\\\"6925622466299397055\\\",\\\"id\\\":\\\"14540204293178177920\\\",\\\"type\\\":\\\"observable\\\"},val)) : undefined; return this.valueFromJulia[\\\"index\\\"]=false}),self)]\\n        \\n    }\\n    self.model = new AppViewModel();\\n    self.valueFromJulia = {};\\n    for (var key in json_data) {\\n        self.valueFromJulia[key] = false;\\n    }\\n    ko.applyBindings(self.model, self.dom);\\n}\\n);\\n    (WebIO.importBlock({\\\"data\\\":[{\\\"name\\\":\\\"knockout\\\",\\\"type\\\":\\\"js\\\",\\\"url\\\":\\\"\\/assetserver\\/727383f2a47bd31570b7da84eee7b022dd6d7c78-knockout.js\\\"},{\\\"name\\\":\\\"knockout_punches\\\",\\\"type\\\":\\\"js\\\",\\\"url\\\":\\\"\\/assetserver\\/382b41b3b1bd9f26f75861d360bad7f8beea211f-knockout_punches.js\\\"}],\\\"type\\\":\\\"async_block\\\"})).then((imports) => handler.apply(this, imports));\\n}\\n\"],\"observables\":{\"changes\":{\"sync\":false,\"id\":\"10899954738393583519\",\"value\":0},\"index\":{\"sync\":true,\"id\":\"14540204293178177920\",\"value\":1}}},\"children\":[{\"props\":{\"className\":\"interact-flex-row interact-widget\"},\"nodeType\":\"DOM\",\"type\":\"node\",\"instanceArgs\":{\"namespace\":\"html\",\"tag\":\"div\"},\"children\":[{\"props\":{\"className\":\"interact-flex-row-left\"},\"nodeType\":\"DOM\",\"type\":\"node\",\"instanceArgs\":{\"namespace\":\"html\",\"tag\":\"div\"},\"children\":[{\"props\":{\"className\":\"interact \",\"style\":{\"padding\":\"5px 10px 0px 10px\"}},\"nodeType\":\"DOM\",\"type\":\"node\",\"instanceArgs\":{\"namespace\":\"html\",\"tag\":\"label\"},\"children\":[\"time\"]}]},{\"props\":{\"className\":\"interact-flex-row-center\"},\"nodeType\":\"DOM\",\"type\":\"node\",\"instanceArgs\":{\"namespace\":\"html\",\"tag\":\"div\"},\"children\":[{\"props\":{\"max\":200,\"min\":1,\"attributes\":{\"type\":\"range\",\"data-bind\":\"numericValue: index, valueUpdate: 'input', event: {change: function (){this.changes(this.changes()+1)}}\",\"orient\":\"horizontal\"},\"step\":1,\"className\":\"slider slider is-fullwidth\",\"style\":{}},\"nodeType\":\"DOM\",\"type\":\"node\",\"instanceArgs\":{\"namespace\":\"html\",\"tag\":\"input\"},\"children\":[]}]},{\"props\":{\"className\":\"interact-flex-row-right\"},\"nodeType\":\"DOM\",\"type\":\"node\",\"instanceArgs\":{\"namespace\":\"html\",\"tag\":\"div\"},\"children\":[{\"props\":{\"attributes\":{\"data-bind\":\"text: formatted_val\"}},\"nodeType\":\"DOM\",\"type\":\"node\",\"instanceArgs\":{\"namespace\":\"html\",\"tag\":\"p\"},\"children\":[]}]}]}]}]},{\"props\":{\"className\":\"field interact-widget\"},\"nodeType\":\"DOM\",\"type\":\"node\",\"instanceArgs\":{\"namespace\":\"html\",\"tag\":\"div\"},\"children\":[{\"props\":{},\"nodeType\":\"Scope\",\"type\":\"node\",\"instanceArgs\":{\"imports\":{\"data\":[{\"name\":\"knockout\",\"type\":\"js\",\"url\":\"\\/assetserver\\/727383f2a47bd31570b7da84eee7b022dd6d7c78-knockout.js\"},{\"name\":\"knockout_punches\",\"type\":\"js\",\"url\":\"\\/assetserver\\/382b41b3b1bd9f26f75861d360bad7f8beea211f-knockout_punches.js\"},{\"name\":null,\"type\":\"js\",\"url\":\"\\/assetserver\\/5ab20f1060420992a9b82a65b735dee4d81ef413-all.js\"},{\"name\":null,\"type\":\"css\",\"url\":\"\\/assetserver\\/1cc0ed62837210b80a182cc3676512f895dab686-style.css\"},{\"name\":null,\"type\":\"css\",\"url\":\"\\/assetserver\\/2eee816f616df3549d7044d45e744fbf8d42bfa1-bulma_confined.min.css\"}],\"type\":\"async_block\"},\"id\":\"5902792877059709308\",\"handlers\":{\"changes\":[\"(function (val){return (val!=this.model[\\\"changes\\\"]()) ? (this.valueFromJulia[\\\"changes\\\"]=true, this.model[\\\"changes\\\"](val)) : undefined})\"],\"index\":[\"(function (val){return (val!=this.model[\\\"index\\\"]()) ? (this.valueFromJulia[\\\"index\\\"]=true, this.model[\\\"index\\\"](val)) : undefined})\"]},\"systemjs_options\":null,\"mount_callbacks\":[\"function () {\\n    var handler = (function (ko, koPunches) {\\n    ko.punches.enableAll();\\n    ko.bindingHandlers.numericValue = {\\n        init: function(element, valueAccessor, allBindings, data, context) {\\n            var stringified = ko.observable(ko.unwrap(valueAccessor()));\\n            stringified.subscribe(function(value) {\\n                var val = parseFloat(value);\\n                if (!isNaN(val)) {\\n                    valueAccessor()(val);\\n                }\\n            });\\n            valueAccessor().subscribe(function(value) {\\n                var str = JSON.stringify(value);\\n                if ((str == \\\"0\\\") && ([\\\"-0\\\", \\\"-0.\\\"].indexOf(stringified()) >= 0))\\n                     return;\\n                 if ([\\\"null\\\", \\\"\\\"].indexOf(str) >= 0)\\n                     return;\\n                stringified(str);\\n            });\\n            ko.applyBindingsToNode(\\n                element,\\n                {\\n                    value: stringified,\\n                    valueUpdate: allBindings.get('valueUpdate'),\\n                },\\n                context,\\n            );\\n        }\\n    };\\n    var json_data = {\\\"formatted_vals\\\":[\\\"0.1\\\",\\\"0.2\\\",\\\"0.3\\\",\\\"0.4\\\",\\\"0.5\\\",\\\"0.6\\\",\\\"0.7\\\",\\\"0.8\\\",\\\"0.9\\\",\\\"1.0\\\",\\\"1.1\\\",\\\"1.2\\\",\\\"1.3\\\",\\\"1.4\\\",\\\"1.5\\\",\\\"1.6\\\",\\\"1.7\\\",\\\"1.8\\\",\\\"1.9\\\",\\\"2.0\\\"],\\\"changes\\\":WebIO.getval({\\\"name\\\":\\\"changes\\\",\\\"scope\\\":\\\"5902792877059709308\\\",\\\"id\\\":\\\"14979454616663935583\\\",\\\"type\\\":\\\"observable\\\"}),\\\"index\\\":WebIO.getval({\\\"name\\\":\\\"index\\\",\\\"scope\\\":\\\"5902792877059709308\\\",\\\"id\\\":\\\"13973629200241524893\\\",\\\"type\\\":\\\"observable\\\"})};\\n    var self = this;\\n    function AppViewModel() {\\n        for (var key in json_data) {\\n            var el = json_data[key];\\n            this[key] = Array.isArray(el) ? ko.observableArray(el) : ko.observable(el);\\n        }\\n        \\n        [this[\\\"formatted_val\\\"]=ko.computed(    function(){\\n        return this.formatted_vals()[parseInt(this.index())-(1)];\\n    }\\n,this)]\\n        [this[\\\"changes\\\"].subscribe((function (val){!(this.valueFromJulia[\\\"changes\\\"]) ? (WebIO.setval({\\\"name\\\":\\\"changes\\\",\\\"scope\\\":\\\"5902792877059709308\\\",\\\"id\\\":\\\"14979454616663935583\\\",\\\"type\\\":\\\"observable\\\"},val)) : undefined; return this.valueFromJulia[\\\"changes\\\"]=false}),self),this[\\\"index\\\"].subscribe((function (val){!(this.valueFromJulia[\\\"index\\\"]) ? (WebIO.setval({\\\"name\\\":\\\"index\\\",\\\"scope\\\":\\\"5902792877059709308\\\",\\\"id\\\":\\\"13973629200241524893\\\",\\\"type\\\":\\\"observable\\\"},val)) : undefined; return this.valueFromJulia[\\\"index\\\"]=false}),self)]\\n        \\n    }\\n    self.model = new AppViewModel();\\n    self.valueFromJulia = {};\\n    for (var key in json_data) {\\n        self.valueFromJulia[key] = false;\\n    }\\n    ko.applyBindings(self.model, self.dom);\\n}\\n);\\n    (WebIO.importBlock({\\\"data\\\":[{\\\"name\\\":\\\"knockout\\\",\\\"type\\\":\\\"js\\\",\\\"url\\\":\\\"\\/assetserver\\/727383f2a47bd31570b7da84eee7b022dd6d7c78-knockout.js\\\"},{\\\"name\\\":\\\"knockout_punches\\\",\\\"type\\\":\\\"js\\\",\\\"url\\\":\\\"\\/assetserver\\/382b41b3b1bd9f26f75861d360bad7f8beea211f-knockout_punches.js\\\"}],\\\"type\\\":\\\"async_block\\\"})).then((imports) => handler.apply(this, imports));\\n}\\n\"],\"observables\":{\"changes\":{\"sync\":false,\"id\":\"14979454616663935583\",\"value\":0},\"index\":{\"sync\":true,\"id\":\"13973629200241524893\",\"value\":10}}},\"children\":[{\"props\":{\"className\":\"interact-flex-row interact-widget\"},\"nodeType\":\"DOM\",\"type\":\"node\",\"instanceArgs\":{\"namespace\":\"html\",\"tag\":\"div\"},\"children\":[{\"props\":{\"className\":\"interact-flex-row-left\"},\"nodeType\":\"DOM\",\"type\":\"node\",\"instanceArgs\":{\"namespace\":\"html\",\"tag\":\"div\"},\"children\":[{\"props\":{\"className\":\"interact \",\"style\":{\"padding\":\"5px 10px 0px 10px\"}},\"nodeType\":\"DOM\",\"type\":\"node\",\"instanceArgs\":{\"namespace\":\"html\",\"tag\":\"label\"},\"children\":[\"scale\"]}]},{\"props\":{\"className\":\"interact-flex-row-center\"},\"nodeType\":\"DOM\",\"type\":\"node\",\"instanceArgs\":{\"namespace\":\"html\",\"tag\":\"div\"},\"children\":[{\"props\":{\"max\":20,\"min\":1,\"attributes\":{\"type\":\"range\",\"data-bind\":\"numericValue: index, valueUpdate: 'input', event: {change: function (){this.changes(this.changes()+1)}}\",\"orient\":\"horizontal\"},\"step\":1,\"className\":\"slider slider is-fullwidth\",\"style\":{}},\"nodeType\":\"DOM\",\"type\":\"node\",\"instanceArgs\":{\"namespace\":\"html\",\"tag\":\"input\"},\"children\":[]}]},{\"props\":{\"className\":\"interact-flex-row-right\"},\"nodeType\":\"DOM\",\"type\":\"node\",\"instanceArgs\":{\"namespace\":\"html\",\"tag\":\"div\"},\"children\":[{\"props\":{\"attributes\":{\"data-bind\":\"text: formatted_val\"}},\"nodeType\":\"DOM\",\"type\":\"node\",\"instanceArgs\":{\"namespace\":\"html\",\"tag\":\"p\"},\"children\":[]}]}]}]}]},{\"props\":{\"style\":{\"display\":\"flex\",\"flex-direction\":\"column\"}},\"nodeType\":\"DOM\",\"type\":\"node\",\"instanceArgs\":{\"namespace\":\"html\",\"tag\":\"div\"},\"children\":[{\"props\":{\"className\":\"field interact-widget\"},\"nodeType\":\"DOM\",\"type\":\"node\",\"instanceArgs\":{\"namespace\":\"html\",\"tag\":\"div\"},\"children\":[{\"props\":{},\"nodeType\":\"Scope\",\"type\":\"node\",\"instanceArgs\":{\"imports\":{\"data\":[{\"name\":\"knockout\",\"type\":\"js\",\"url\":\"\\/assetserver\\/727383f2a47bd31570b7da84eee7b022dd6d7c78-knockout.js\"},{\"name\":\"knockout_punches\",\"type\":\"js\",\"url\":\"\\/assetserver\\/382b41b3b1bd9f26f75861d360bad7f8beea211f-knockout_punches.js\"},{\"name\":null,\"type\":\"js\",\"url\":\"\\/assetserver\\/5ab20f1060420992a9b82a65b735dee4d81ef413-all.js\"},{\"name\":null,\"type\":\"css\",\"url\":\"\\/assetserver\\/1cc0ed62837210b80a182cc3676512f895dab686-style.css\"},{\"name\":null,\"type\":\"css\",\"url\":\"\\/assetserver\\/2eee816f616df3549d7044d45e744fbf8d42bfa1-bulma_confined.min.css\"}],\"type\":\"async_block\"},\"id\":\"14223027793273956372\",\"handlers\":{\"changes\":[\"(function (val){return (val!=this.model[\\\"changes\\\"]()) ? (this.valueFromJulia[\\\"changes\\\"]=true, this.model[\\\"changes\\\"](val)) : undefined})\"],\"index\":[\"(function (val){return (val!=this.model[\\\"index\\\"]()) ? (this.valueFromJulia[\\\"index\\\"]=true, this.model[\\\"index\\\"](val)) : undefined})\"]},\"systemjs_options\":null,\"mount_callbacks\":[\"function () {\\n    var handler = (function (ko, koPunches) {\\n    ko.punches.enableAll();\\n    ko.bindingHandlers.numericValue = {\\n        init: function(element, valueAccessor, allBindings, data, context) {\\n            var stringified = ko.observable(ko.unwrap(valueAccessor()));\\n            stringified.subscribe(function(value) {\\n                var val = parseFloat(value);\\n                if (!isNaN(val)) {\\n                    valueAccessor()(val);\\n                }\\n            });\\n            valueAccessor().subscribe(function(value) {\\n                var str = JSON.stringify(value);\\n                if ((str == \\\"0\\\") && ([\\\"-0\\\", \\\"-0.\\\"].indexOf(stringified()) >= 0))\\n                     return;\\n                 if ([\\\"null\\\", \\\"\\\"].indexOf(str) >= 0)\\n                     return;\\n                stringified(str);\\n            });\\n            ko.applyBindingsToNode(\\n                element,\\n                {\\n                    value: stringified,\\n                    valueUpdate: allBindings.get('valueUpdate'),\\n                },\\n                context,\\n            );\\n        }\\n    };\\n    var json_data = {\\\"formatted_vals\\\":[\\\"(-10.0, 0.0)\\\\n\\\",\\\"(-9.9, 0.0)\\\\n\\\",\\\"(-9.8, 0.0)\\\\n\\\",\\\"(-9.7, 0.0)\\\\n\\\",\\\"(-9.6, 0.0)\\\\n\\\",\\\"(-9.5, 0.0)\\\\n\\\",\\\"(-9.4, 0.0)\\\\n\\\",\\\"(-9.3, 0.0)\\\\n\\\",\\\"(-9.2, 0.0)\\\\n\\\",\\\"(-9.1, 0.0)\\\\n\\\",\\\"(-9.0, 0.0)\\\\n\\\",\\\"(-8.9, 0.0)\\\\n\\\",\\\"(-8.8, 0.0)\\\\n\\\",\\\"(-8.7, 0.0)\\\\n\\\",\\\"(-8.6, 0.0)\\\\n\\\",\\\"(-8.5, 0.0)\\\\n\\\",\\\"(-8.4, 0.0)\\\\n\\\",\\\"(-8.3, 0.0)\\\\n\\\",\\\"(-8.2, 0.0)\\\\n\\\",\\\"(-8.1, 0.0)\\\\n\\\",\\\"(-8.0, 0.0)\\\\n\\\",\\\"(-7.9, 0.0)\\\\n\\\",\\\"(-7.8, 0.0)\\\\n\\\",\\\"(-7.7, 0.0)\\\\n\\\",\\\"(-7.6, 0.0)\\\\n\\\",\\\"(-7.5, 0.0)\\\\n\\\",\\\"(-7.4, 0.0)\\\\n\\\",\\\"(-7.3, 0.0)\\\\n\\\",\\\"(-7.2, 0.0)\\\\n\\\",\\\"(-7.1, 0.0)\\\\n\\\",\\\"(-7.0, 0.0)\\\\n\\\",\\\"(-6.9, 0.0)\\\\n\\\",\\\"(-6.8, 0.0)\\\\n\\\",\\\"(-6.7, 0.0)\\\\n\\\",\\\"(-6.6, 0.0)\\\\n\\\",\\\"(-6.5, 0.0)\\\\n\\\",\\\"(-6.4, 0.0)\\\\n\\\",\\\"(-6.3, 0.0)\\\\n\\\",\\\"(-6.2, 0.0)\\\\n\\\",\\\"(-6.1, 0.0)\\\\n\\\",\\\"(-6.0, 0.0)\\\\n\\\",\\\"(-5.9, 0.0)\\\\n\\\",\\\"(-5.8, 0.0)\\\\n\\\",\\\"(-5.7, 0.0)\\\\n\\\",\\\"(-5.6, 0.0)\\\\n\\\",\\\"(-5.5, 0.0)\\\\n\\\",\\\"(-5.4, 0.0)\\\\n\\\",\\\"(-5.3, 0.0)\\\\n\\\",\\\"(-5.2, 0.0)\\\\n\\\",\\\"(-5.1, 0.0)\\\\n\\\",\\\"(-5.0, 0.0)\\\\n\\\",\\\"(-4.9, 0.0)\\\\n\\\",\\\"(-4.8, 0.0)\\\\n\\\",\\\"(-4.7, 0.0)\\\\n\\\",\\\"(-4.6, 0.0)\\\\n\\\",\\\"(-4.5, 0.0)\\\\n\\\",\\\"(-4.4, 0.0)\\\\n\\\",\\\"(-4.3, 0.0)\\\\n\\\",\\\"(-4.2, 0.0)\\\\n\\\",\\\"(-4.1, 0.0)\\\\n\\\",\\\"(-4.0, 0.0)\\\\n\\\",\\\"(-3.9, 0.0)\\\\n\\\",\\\"(-3.8, 0.0)\\\\n\\\",\\\"(-3.7, 0.0)\\\\n\\\",\\\"(-3.6, 0.0)\\\\n\\\",\\\"(-3.5, 0.0)\\\\n\\\",\\\"(-3.4, 0.0)\\\\n\\\",\\\"(-3.3, 0.0)\\\\n\\\",\\\"(-3.2, 0.0)\\\\n\\\",\\\"(-3.1, 0.0)\\\\n\\\",\\\"(-3.0, 0.0)\\\\n\\\",\\\"(-2.9, 0.0)\\\\n\\\",\\\"(-2.8, 0.0)\\\\n\\\",\\\"(-2.7, 0.0)\\\\n\\\",\\\"(-2.6, 0.0)\\\\n\\\",\\\"(-2.5, 0.0)\\\\n\\\",\\\"(-2.4, 0.0)\\\\n\\\",\\\"(-2.3, 0.0)\\\\n\\\",\\\"(-2.2, 0.0)\\\\n\\\",\\\"(-2.1, 0.0)\\\\n\\\",\\\"(-2.0, 0.0)\\\\n\\\",\\\"(-1.9, 0.0)\\\\n\\\",\\\"(-1.8, 0.0)\\\\n\\\",\\\"(-1.7, 0.0)\\\\n\\\",\\\"(-1.6, 0.0)\\\\n\\\",\\\"(-1.5, 0.0)\\\\n\\\",\\\"(-1.4, 0.0)\\\\n\\\",\\\"(-1.3, 0.0)\\\\n\\\",\\\"(-1.2, 0.0)\\\\n\\\",\\\"(-1.1, 0.0)\\\\n\\\",\\\"(-1.0, 0.0)\\\\n\\\",\\\"(-0.9, 0.0)\\\\n\\\",\\\"(-0.8, 0.0)\\\\n\\\",\\\"(-0.7, 0.0)\\\\n\\\",\\\"(-0.6, 0.0)\\\\n\\\",\\\"(-0.5, 0.0)\\\\n\\\",\\\"(-0.4, 0.0)\\\\n\\\",\\\"(-0.3, 0.0)\\\\n\\\",\\\"(-0.2, 0.0)\\\\n\\\",\\\"(-0.1, 0.0)\\\\n\\\",\\\"(0.0, 0.0)\\\\n\\\",\\\"(0.1, 0.0)\\\\n\\\",\\\"(0.2, 0.0)\\\\n\\\",\\\"(0.3, 0.0)\\\\n\\\",\\\"(0.4, 0.0)\\\\n\\\",\\\"(0.5, 0.0)\\\\n\\\",\\\"(0.6, 0.0)\\\\n\\\",\\\"(0.7, 0.0)\\\\n\\\",\\\"(0.8, 0.0)\\\\n\\\",\\\"(0.9, 0.0)\\\\n\\\",\\\"(1.0, 0.0)\\\\n\\\",\\\"(1.1, 0.0)\\\\n\\\",\\\"(1.2, 0.0)\\\\n\\\",\\\"(1.3, 0.0)\\\\n\\\",\\\"(1.4, 0.0)\\\\n\\\",\\\"(1.5, 0.0)\\\\n\\\",\\\"(1.6, 0.0)\\\\n\\\",\\\"(1.7, 0.0)\\\\n\\\",\\\"(1.8, 0.0)\\\\n\\\",\\\"(1.9, 0.0)\\\\n\\\",\\\"(2.0, 0.0)\\\\n\\\",\\\"(2.1, 0.0)\\\\n\\\",\\\"(2.2, 0.0)\\\\n\\\",\\\"(2.3, 0.0)\\\\n\\\",\\\"(2.4, 0.0)\\\\n\\\",\\\"(2.5, 0.0)\\\\n\\\",\\\"(2.6, 0.0)\\\\n\\\",\\\"(2.7, 0.0)\\\\n\\\",\\\"(2.8, 0.0)\\\\n\\\",\\\"(2.9, 0.0)\\\\n\\\",\\\"(3.0, 0.0)\\\\n\\\",\\\"(3.1, 0.0)\\\\n\\\",\\\"(3.2, 0.0)\\\\n\\\",\\\"(3.3, 0.0)\\\\n\\\",\\\"(3.4, 0.0)\\\\n\\\",\\\"(3.5, 0.0)\\\\n\\\",\\\"(3.6, 0.0)\\\\n\\\",\\\"(3.7, 0.0)\\\\n\\\",\\\"(3.8, 0.0)\\\\n\\\",\\\"(3.9, 0.0)\\\\n\\\",\\\"(4.0, 0.0)\\\\n\\\",\\\"(4.1, 0.0)\\\\n\\\",\\\"(4.2, 0.0)\\\\n\\\",\\\"(4.3, 0.0)\\\\n\\\",\\\"(4.4, 0.0)\\\\n\\\",\\\"(4.5, 0.0)\\\\n\\\",\\\"(4.6, 0.0)\\\\n\\\",\\\"(4.7, 0.0)\\\\n\\\",\\\"(4.8, 0.0)\\\\n\\\",\\\"(4.9, 0.0)\\\\n\\\",\\\"(5.0, 0.0)\\\\n\\\"],\\\"changes\\\":WebIO.getval({\\\"name\\\":\\\"changes\\\",\\\"scope\\\":\\\"14223027793273956372\\\",\\\"id\\\":\\\"16136699179757268117\\\",\\\"type\\\":\\\"observable\\\"}),\\\"index\\\":WebIO.getval({\\\"name\\\":\\\"index\\\",\\\"scope\\\":\\\"14223027793273956372\\\",\\\"id\\\":\\\"13620126702636508145\\\",\\\"type\\\":\\\"observable\\\"})};\\n    var self = this;\\n    function AppViewModel() {\\n        for (var key in json_data) {\\n            var el = json_data[key];\\n            this[key] = Array.isArray(el) ? ko.observableArray(el) : ko.observable(el);\\n        }\\n        \\n        [this[\\\"formatted_val\\\"]=ko.computed(    function(){\\n        return this.formatted_vals()[parseInt(this.index())-(1)];\\n    }\\n,this)]\\n        [this[\\\"changes\\\"].subscribe((function (val){!(this.valueFromJulia[\\\"changes\\\"]) ? (WebIO.setval({\\\"name\\\":\\\"changes\\\",\\\"scope\\\":\\\"14223027793273956372\\\",\\\"id\\\":\\\"16136699179757268117\\\",\\\"type\\\":\\\"observable\\\"},val)) : undefined; return this.valueFromJulia[\\\"changes\\\"]=false}),self),this[\\\"index\\\"].subscribe((function (val){!(this.valueFromJulia[\\\"index\\\"]) ? (WebIO.setval({\\\"name\\\":\\\"index\\\",\\\"scope\\\":\\\"14223027793273956372\\\",\\\"id\\\":\\\"13620126702636508145\\\",\\\"type\\\":\\\"observable\\\"},val)) : undefined; return this.valueFromJulia[\\\"index\\\"]=false}),self)]\\n        \\n    }\\n    self.model = new AppViewModel();\\n    self.valueFromJulia = {};\\n    for (var key in json_data) {\\n        self.valueFromJulia[key] = false;\\n    }\\n    ko.applyBindings(self.model, self.dom);\\n}\\n);\\n    (WebIO.importBlock({\\\"data\\\":[{\\\"name\\\":\\\"knockout\\\",\\\"type\\\":\\\"js\\\",\\\"url\\\":\\\"\\/assetserver\\/727383f2a47bd31570b7da84eee7b022dd6d7c78-knockout.js\\\"},{\\\"name\\\":\\\"knockout_punches\\\",\\\"type\\\":\\\"js\\\",\\\"url\\\":\\\"\\/assetserver\\/382b41b3b1bd9f26f75861d360bad7f8beea211f-knockout_punches.js\\\"}],\\\"type\\\":\\\"async_block\\\"})).then((imports) => handler.apply(this, imports));\\n}\\n\"],\"observables\":{\"changes\":{\"sync\":false,\"id\":\"16136699179757268117\",\"value\":0},\"index\":{\"sync\":true,\"id\":\"13620126702636508145\",\"value\":76}}},\"children\":[{\"props\":{\"className\":\"interact-flex-row interact-widget\"},\"nodeType\":\"DOM\",\"type\":\"node\",\"instanceArgs\":{\"namespace\":\"html\",\"tag\":\"div\"},\"children\":[{\"props\":{\"className\":\"interact-flex-row-left\"},\"nodeType\":\"DOM\",\"type\":\"node\",\"instanceArgs\":{\"namespace\":\"html\",\"tag\":\"div\"},\"children\":[{\"props\":{\"className\":\"interact \",\"style\":{\"padding\":\"5px 10px 0px 10px\"}},\"nodeType\":\"DOM\",\"type\":\"node\",\"instanceArgs\":{\"namespace\":\"html\",\"tag\":\"label\"},\"children\":[\"vel\"]}]},{\"props\":{\"className\":\"interact-flex-row-center\"},\"nodeType\":\"DOM\",\"type\":\"node\",\"instanceArgs\":{\"namespace\":\"html\",\"tag\":\"div\"},\"children\":[{\"props\":{\"max\":151,\"min\":1,\"attributes\":{\"type\":\"range\",\"data-bind\":\"numericValue: index, valueUpdate: 'input', event: {change: function (){this.changes(this.changes()+1)}}\",\"orient\":\"horizontal\"},\"step\":1,\"className\":\"slider slider is-fullwidth\",\"style\":{}},\"nodeType\":\"DOM\",\"type\":\"node\",\"instanceArgs\":{\"namespace\":\"html\",\"tag\":\"input\"},\"children\":[]}]},{\"props\":{\"className\":\"interact-flex-row-right\"},\"nodeType\":\"DOM\",\"type\":\"node\",\"instanceArgs\":{\"namespace\":\"html\",\"tag\":\"div\"},\"children\":[{\"props\":{\"attributes\":{\"data-bind\":\"text: formatted_val\"}},\"nodeType\":\"DOM\",\"type\":\"node\",\"instanceArgs\":{\"namespace\":\"html\",\"tag\":\"p\"},\"children\":[]}]}]}]}]}]},{\"props\":{\"style\":{\"display\":\"flex\",\"flex-direction\":\"column\"}},\"nodeType\":\"DOM\",\"type\":\"node\",\"instanceArgs\":{\"namespace\":\"html\",\"tag\":\"div\"},\"children\":[{\"props\":{\"className\":\"field interact-widget\"},\"nodeType\":\"DOM\",\"type\":\"node\",\"instanceArgs\":{\"namespace\":\"html\",\"tag\":\"div\"},\"children\":[{\"props\":{},\"nodeType\":\"Scope\",\"type\":\"node\",\"instanceArgs\":{\"imports\":{\"data\":[{\"name\":\"knockout\",\"type\":\"js\",\"url\":\"\\/assetserver\\/727383f2a47bd31570b7da84eee7b022dd6d7c78-knockout.js\"},{\"name\":\"knockout_punches\",\"type\":\"js\",\"url\":\"\\/assetserver\\/382b41b3b1bd9f26f75861d360bad7f8beea211f-knockout_punches.js\"},{\"name\":null,\"type\":\"js\",\"url\":\"\\/assetserver\\/5ab20f1060420992a9b82a65b735dee4d81ef413-all.js\"},{\"name\":null,\"type\":\"css\",\"url\":\"\\/assetserver\\/1cc0ed62837210b80a182cc3676512f895dab686-style.css\"},{\"name\":null,\"type\":\"css\",\"url\":\"\\/assetserver\\/2eee816f616df3549d7044d45e744fbf8d42bfa1-bulma_confined.min.css\"}],\"type\":\"async_block\"},\"id\":\"5930760403006860369\",\"handlers\":{\"changes\":[\"(function (val){return (val!=this.model[\\\"changes\\\"]()) ? (this.valueFromJulia[\\\"changes\\\"]=true, this.model[\\\"changes\\\"](val)) : undefined})\"],\"index\":[\"(function (val){return (val!=this.model[\\\"index\\\"]()) ? (this.valueFromJulia[\\\"index\\\"]=true, this.model[\\\"index\\\"](val)) : undefined})\"]},\"systemjs_options\":null,\"mount_callbacks\":[\"function () {\\n    var handler = (function (ko, koPunches) {\\n    ko.punches.enableAll();\\n    ko.bindingHandlers.numericValue = {\\n        init: function(element, valueAccessor, allBindings, data, context) {\\n            var stringified = ko.observable(ko.unwrap(valueAccessor()));\\n            stringified.subscribe(function(value) {\\n                var val = parseFloat(value);\\n                if (!isNaN(val)) {\\n                    valueAccessor()(val);\\n                }\\n            });\\n            valueAccessor().subscribe(function(value) {\\n                var str = JSON.stringify(value);\\n                if ((str == \\\"0\\\") && ([\\\"-0\\\", \\\"-0.\\\"].indexOf(stringified()) >= 0))\\n                     return;\\n                 if ([\\\"null\\\", \\\"\\\"].indexOf(str) >= 0)\\n                     return;\\n                stringified(str);\\n            });\\n            ko.applyBindingsToNode(\\n                element,\\n                {\\n                    value: stringified,\\n                    valueUpdate: allBindings.get('valueUpdate'),\\n                },\\n                context,\\n            );\\n        }\\n    };\\n    var json_data = {\\\"formatted_vals\\\":[\\\"1.0\\\",\\\"1.2\\\",\\\"1.4\\\",\\\"1.6\\\",\\\"1.8\\\",\\\"2.0\\\",\\\"2.2\\\",\\\"2.4\\\",\\\"2.6\\\",\\\"2.8\\\",\\\"3.0\\\",\\\"3.2\\\",\\\"3.4\\\",\\\"3.6\\\",\\\"3.8\\\",\\\"4.0\\\",\\\"4.2\\\",\\\"4.4\\\",\\\"4.6\\\",\\\"4.8\\\",\\\"5.0\\\"],\\\"changes\\\":WebIO.getval({\\\"name\\\":\\\"changes\\\",\\\"scope\\\":\\\"5930760403006860369\\\",\\\"id\\\":\\\"16452195674960199409\\\",\\\"type\\\":\\\"observable\\\"}),\\\"index\\\":WebIO.getval({\\\"name\\\":\\\"index\\\",\\\"scope\\\":\\\"5930760403006860369\\\",\\\"id\\\":\\\"1749813147585608706\\\",\\\"type\\\":\\\"observable\\\"})};\\n    var self = this;\\n    function AppViewModel() {\\n        for (var key in json_data) {\\n            var el = json_data[key];\\n            this[key] = Array.isArray(el) ? ko.observableArray(el) : ko.observable(el);\\n        }\\n        \\n        [this[\\\"formatted_val\\\"]=ko.computed(    function(){\\n        return this.formatted_vals()[parseInt(this.index())-(1)];\\n    }\\n,this)]\\n        [this[\\\"changes\\\"].subscribe((function (val){!(this.valueFromJulia[\\\"changes\\\"]) ? (WebIO.setval({\\\"name\\\":\\\"changes\\\",\\\"scope\\\":\\\"5930760403006860369\\\",\\\"id\\\":\\\"16452195674960199409\\\",\\\"type\\\":\\\"observable\\\"},val)) : undefined; return this.valueFromJulia[\\\"changes\\\"]=false}),self),this[\\\"index\\\"].subscribe((function (val){!(this.valueFromJulia[\\\"index\\\"]) ? (WebIO.setval({\\\"name\\\":\\\"index\\\",\\\"scope\\\":\\\"5930760403006860369\\\",\\\"id\\\":\\\"1749813147585608706\\\",\\\"type\\\":\\\"observable\\\"},val)) : undefined; return this.valueFromJulia[\\\"index\\\"]=false}),self)]\\n        \\n    }\\n    self.model = new AppViewModel();\\n    self.valueFromJulia = {};\\n    for (var key in json_data) {\\n        self.valueFromJulia[key] = false;\\n    }\\n    ko.applyBindings(self.model, self.dom);\\n}\\n);\\n    (WebIO.importBlock({\\\"data\\\":[{\\\"name\\\":\\\"knockout\\\",\\\"type\\\":\\\"js\\\",\\\"url\\\":\\\"\\/assetserver\\/727383f2a47bd31570b7da84eee7b022dd6d7c78-knockout.js\\\"},{\\\"name\\\":\\\"knockout_punches\\\",\\\"type\\\":\\\"js\\\",\\\"url\\\":\\\"\\/assetserver\\/382b41b3b1bd9f26f75861d360bad7f8beea211f-knockout_punches.js\\\"}],\\\"type\\\":\\\"async_block\\\"})).then((imports) => handler.apply(this, imports));\\n}\\n\"],\"observables\":{\"changes\":{\"sync\":false,\"id\":\"16452195674960199409\",\"value\":0},\"index\":{\"sync\":true,\"id\":\"1749813147585608706\",\"value\":11}}},\"children\":[{\"props\":{\"className\":\"interact-flex-row interact-widget\"},\"nodeType\":\"DOM\",\"type\":\"node\",\"instanceArgs\":{\"namespace\":\"html\",\"tag\":\"div\"},\"children\":[{\"props\":{\"className\":\"interact-flex-row-left\"},\"nodeType\":\"DOM\",\"type\":\"node\",\"instanceArgs\":{\"namespace\":\"html\",\"tag\":\"div\"},\"children\":[{\"props\":{\"className\":\"interact \",\"style\":{\"padding\":\"5px 10px 0px 10px\"}},\"nodeType\":\"DOM\",\"type\":\"node\",\"instanceArgs\":{\"namespace\":\"html\",\"tag\":\"label\"},\"children\":[\"gravity\"]}]},{\"props\":{\"className\":\"interact-flex-row-center\"},\"nodeType\":\"DOM\",\"type\":\"node\",\"instanceArgs\":{\"namespace\":\"html\",\"tag\":\"div\"},\"children\":[{\"props\":{\"max\":21,\"min\":1,\"attributes\":{\"type\":\"range\",\"data-bind\":\"numericValue: index, valueUpdate: 'input', event: {change: function (){this.changes(this.changes()+1)}}\",\"orient\":\"horizontal\"},\"step\":1,\"className\":\"slider slider is-fullwidth\",\"style\":{}},\"nodeType\":\"DOM\",\"type\":\"node\",\"instanceArgs\":{\"namespace\":\"html\",\"tag\":\"input\"},\"children\":[]}]},{\"props\":{\"className\":\"interact-flex-row-right\"},\"nodeType\":\"DOM\",\"type\":\"node\",\"instanceArgs\":{\"namespace\":\"html\",\"tag\":\"div\"},\"children\":[{\"props\":{\"attributes\":{\"data-bind\":\"text: formatted_val\"}},\"nodeType\":\"DOM\",\"type\":\"node\",\"instanceArgs\":{\"namespace\":\"html\",\"tag\":\"p\"},\"children\":[]}]}]}]}]}]},{\"props\":{\"style\":{\"display\":\"flex\",\"flex-direction\":\"row\"}},\"nodeType\":\"DOM\",\"type\":\"node\",\"instanceArgs\":{\"namespace\":\"html\",\"tag\":\"div\"},\"children\":[{\"props\":{\"className\":\"interact-widget\"},\"nodeType\":\"DOM\",\"type\":\"node\",\"instanceArgs\":{\"namespace\":\"html\",\"tag\":\"div\"},\"children\":[{\"props\":{},\"nodeType\":\"Scope\",\"type\":\"node\",\"instanceArgs\":{\"imports\":{\"data\":[{\"name\":null,\"type\":\"js\",\"url\":\"\\/assetserver\\/dd22ed1bf1896c2748f3fe616ce0b838adc895c1-katex.min.js\"},{\"name\":null,\"type\":\"css\",\"url\":\"\\/assetserver\\/46517a424aa5e6cffc1360d7e0848b601c584ee3-katex.min.css\"}],\"type\":\"async_block\"},\"id\":\"9565761660375915725\",\"handlers\":{\"value\":[\"(function (txt){return this.k.render(txt,this.container)})\"]},\"systemjs_options\":null,\"mount_callbacks\":[\"function () {\\n    var handler = ((function (k){this.k=k; this.container=this.dom.querySelector(\\\"#container\\\"); return k.render(\\\"\\\\\\\\;\\\\\\\\;\\\",this.container)}));\\n    (WebIO.importBlock({\\\"data\\\":[{\\\"name\\\":null,\\\"type\\\":\\\"js\\\",\\\"url\\\":\\\"\\/assetserver\\/dd22ed1bf1896c2748f3fe616ce0b838adc895c1-katex.min.js\\\"},{\\\"name\\\":null,\\\"type\\\":\\\"css\\\",\\\"url\\\":\\\"\\/assetserver\\/46517a424aa5e6cffc1360d7e0848b601c584ee3-katex.min.css\\\"}],\\\"type\\\":\\\"async_block\\\"})).then((imports) => handler.apply(this, imports));\\n}\\n\"],\"observables\":{\"value\":{\"sync\":false,\"id\":\"6707257292521179330\",\"value\":\"\\\\;\\\\;\"}}},\"children\":[{\"props\":{\"id\":\"container\"},\"nodeType\":\"DOM\",\"type\":\"node\",\"instanceArgs\":{\"namespace\":\"html\",\"tag\":\"div\"},\"children\":[]}]}]},{\"props\":{\"className\":\"field interact-widget\"},\"nodeType\":\"DOM\",\"type\":\"node\",\"instanceArgs\":{\"namespace\":\"html\",\"tag\":\"div\"},\"children\":[{\"props\":{},\"nodeType\":\"Scope\",\"type\":\"node\",\"instanceArgs\":{\"imports\":{\"data\":[{\"name\":\"knockout\",\"type\":\"js\",\"url\":\"\\/assetserver\\/727383f2a47bd31570b7da84eee7b022dd6d7c78-knockout.js\"},{\"name\":\"knockout_punches\",\"type\":\"js\",\"url\":\"\\/assetserver\\/382b41b3b1bd9f26f75861d360bad7f8beea211f-knockout_punches.js\"},{\"name\":null,\"type\":\"js\",\"url\":\"\\/assetserver\\/5ab20f1060420992a9b82a65b735dee4d81ef413-all.js\"},{\"name\":null,\"type\":\"css\",\"url\":\"\\/assetserver\\/1cc0ed62837210b80a182cc3676512f895dab686-style.css\"},{\"name\":null,\"type\":\"css\",\"url\":\"\\/assetserver\\/2eee816f616df3549d7044d45e744fbf8d42bfa1-bulma_confined.min.css\"}],\"type\":\"async_block\"},\"id\":\"14910291867008279652\",\"handlers\":{\"loading\":[\"(function (val){return (val!=this.model[\\\"loading\\\"]()) ? (this.valueFromJulia[\\\"loading\\\"]=true, this.model[\\\"loading\\\"](val)) : undefined})\"],\"clicks\":[\"(function (val){return (val!=this.model[\\\"clicks\\\"]()) ? (this.valueFromJulia[\\\"clicks\\\"]=true, this.model[\\\"clicks\\\"](val)) : undefined})\"]},\"systemjs_options\":null,\"mount_callbacks\":[\"function () {\\n    var handler = (function (ko, koPunches) {\\n    ko.punches.enableAll();\\n    ko.bindingHandlers.numericValue = {\\n        init: function(element, valueAccessor, allBindings, data, context) {\\n            var stringified = ko.observable(ko.unwrap(valueAccessor()));\\n            stringified.subscribe(function(value) {\\n                var val = parseFloat(value);\\n                if (!isNaN(val)) {\\n                    valueAccessor()(val);\\n                }\\n            });\\n            valueAccessor().subscribe(function(value) {\\n                var str = JSON.stringify(value);\\n                if ((str == \\\"0\\\") && ([\\\"-0\\\", \\\"-0.\\\"].indexOf(stringified()) >= 0))\\n                     return;\\n                 if ([\\\"null\\\", \\\"\\\"].indexOf(str) >= 0)\\n                     return;\\n                stringified(str);\\n            });\\n            ko.applyBindingsToNode(\\n                element,\\n                {\\n                    value: stringified,\\n                    valueUpdate: allBindings.get('valueUpdate'),\\n                },\\n                context,\\n            );\\n        }\\n    };\\n    var json_data = {\\\"loading\\\":WebIO.getval({\\\"name\\\":\\\"loading\\\",\\\"scope\\\":\\\"14910291867008279652\\\",\\\"id\\\":\\\"7305091007263666687\\\",\\\"type\\\":\\\"observable\\\"}),\\\"clicks\\\":WebIO.getval({\\\"name\\\":\\\"clicks\\\",\\\"scope\\\":\\\"14910291867008279652\\\",\\\"id\\\":\\\"10165912732508848411\\\",\\\"type\\\":\\\"observable\\\"})};\\n    var self = this;\\n    function AppViewModel() {\\n        for (var key in json_data) {\\n            var el = json_data[key];\\n            this[key] = Array.isArray(el) ? ko.observableArray(el) : ko.observable(el);\\n        }\\n        \\n        \\n        [this[\\\"loading\\\"].subscribe((function (val){!(this.valueFromJulia[\\\"loading\\\"]) ? (WebIO.setval({\\\"name\\\":\\\"loading\\\",\\\"scope\\\":\\\"14910291867008279652\\\",\\\"id\\\":\\\"7305091007263666687\\\",\\\"type\\\":\\\"observable\\\"},val)) : undefined; return this.valueFromJulia[\\\"loading\\\"]=false}),self),this[\\\"clicks\\\"].subscribe((function (val){!(this.valueFromJulia[\\\"clicks\\\"]) ? (WebIO.setval({\\\"name\\\":\\\"clicks\\\",\\\"scope\\\":\\\"14910291867008279652\\\",\\\"id\\\":\\\"10165912732508848411\\\",\\\"type\\\":\\\"observable\\\"},val)) : undefined; return this.valueFromJulia[\\\"clicks\\\"]=false}),self)]\\n        \\n    }\\n    self.model = new AppViewModel();\\n    self.valueFromJulia = {};\\n    for (var key in json_data) {\\n        self.valueFromJulia[key] = false;\\n    }\\n    ko.applyBindings(self.model, self.dom);\\n}\\n);\\n    (WebIO.importBlock({\\\"data\\\":[{\\\"name\\\":\\\"knockout\\\",\\\"type\\\":\\\"js\\\",\\\"url\\\":\\\"\\/assetserver\\/727383f2a47bd31570b7da84eee7b022dd6d7c78-knockout.js\\\"},{\\\"name\\\":\\\"knockout_punches\\\",\\\"type\\\":\\\"js\\\",\\\"url\\\":\\\"\\/assetserver\\/382b41b3b1bd9f26f75861d360bad7f8beea211f-knockout_punches.js\\\"}],\\\"type\\\":\\\"async_block\\\"})).then((imports) => handler.apply(this, imports));\\n}\\n\"],\"observables\":{\"loading\":{\"sync\":false,\"id\":\"7305091007263666687\",\"value\":false},\"clicks\":{\"sync\":true,\"id\":\"10165912732508848411\",\"value\":0}}},\"children\":[{\"props\":{\"attributes\":{\"data-bind\":\"click: function (){this.clicks(this.clicks()+1)}, css: {'is-loading' : loading}\"},\"className\":\"is-medium button is-primary\",\"style\":{}},\"nodeType\":\"DOM\",\"type\":\"node\",\"instanceArgs\":{\"namespace\":\"html\",\"tag\":\"button\"},\"children\":[\"run\"]}]}]},{\"props\":{\"className\":\"interact-widget\"},\"nodeType\":\"DOM\",\"type\":\"node\",\"instanceArgs\":{\"namespace\":\"html\",\"tag\":\"div\"},\"children\":[{\"props\":{},\"nodeType\":\"Scope\",\"type\":\"node\",\"instanceArgs\":{\"imports\":{\"data\":[{\"name\":null,\"type\":\"js\",\"url\":\"\\/assetserver\\/dd22ed1bf1896c2748f3fe616ce0b838adc895c1-katex.min.js\"},{\"name\":null,\"type\":\"css\",\"url\":\"\\/assetserver\\/46517a424aa5e6cffc1360d7e0848b601c584ee3-katex.min.css\"}],\"type\":\"async_block\"},\"id\":\"9565761660375915725\",\"handlers\":{\"value\":[\"(function (txt){return this.k.render(txt,this.container)})\"]},\"systemjs_options\":null,\"mount_callbacks\":[\"function () {\\n    var handler = ((function (k){this.k=k; this.container=this.dom.querySelector(\\\"#container\\\"); return k.render(\\\"\\\\\\\\;\\\\\\\\;\\\",this.container)}));\\n    (WebIO.importBlock({\\\"data\\\":[{\\\"name\\\":null,\\\"type\\\":\\\"js\\\",\\\"url\\\":\\\"\\/assetserver\\/dd22ed1bf1896c2748f3fe616ce0b838adc895c1-katex.min.js\\\"},{\\\"name\\\":null,\\\"type\\\":\\\"css\\\",\\\"url\\\":\\\"\\/assetserver\\/46517a424aa5e6cffc1360d7e0848b601c584ee3-katex.min.css\\\"}],\\\"type\\\":\\\"async_block\\\"})).then((imports) => handler.apply(this, imports));\\n}\\n\"],\"observables\":{\"value\":{\"sync\":false,\"id\":\"6707257292521179330\",\"value\":\"\\\\;\\\\;\"}}},\"children\":[{\"props\":{\"id\":\"container\"},\"nodeType\":\"DOM\",\"type\":\"node\",\"instanceArgs\":{\"namespace\":\"html\",\"tag\":\"div\"},\"children\":[]}]}]},{\"props\":{\"className\":\"field interact-widget\"},\"nodeType\":\"DOM\",\"type\":\"node\",\"instanceArgs\":{\"namespace\":\"html\",\"tag\":\"div\"},\"children\":[{\"props\":{},\"nodeType\":\"Scope\",\"type\":\"node\",\"instanceArgs\":{\"imports\":{\"data\":[{\"name\":\"knockout\",\"type\":\"js\",\"url\":\"\\/assetserver\\/727383f2a47bd31570b7da84eee7b022dd6d7c78-knockout.js\"},{\"name\":\"knockout_punches\",\"type\":\"js\",\"url\":\"\\/assetserver\\/382b41b3b1bd9f26f75861d360bad7f8beea211f-knockout_punches.js\"},{\"name\":null,\"type\":\"js\",\"url\":\"\\/assetserver\\/5ab20f1060420992a9b82a65b735dee4d81ef413-all.js\"},{\"name\":null,\"type\":\"css\",\"url\":\"\\/assetserver\\/1cc0ed62837210b80a182cc3676512f895dab686-style.css\"},{\"name\":null,\"type\":\"css\",\"url\":\"\\/assetserver\\/2eee816f616df3549d7044d45e744fbf8d42bfa1-bulma_confined.min.css\"}],\"type\":\"async_block\"},\"id\":\"3812709668836486266\",\"handlers\":{\"loading\":[\"(function (val){return (val!=this.model[\\\"loading\\\"]()) ? (this.valueFromJulia[\\\"loading\\\"]=true, this.model[\\\"loading\\\"](val)) : undefined})\"],\"clicks\":[\"(function (val){return (val!=this.model[\\\"clicks\\\"]()) ? (this.valueFromJulia[\\\"clicks\\\"]=true, this.model[\\\"clicks\\\"](val)) : undefined})\"]},\"systemjs_options\":null,\"mount_callbacks\":[\"function () {\\n    var handler = (function (ko, koPunches) {\\n    ko.punches.enableAll();\\n    ko.bindingHandlers.numericValue = {\\n        init: function(element, valueAccessor, allBindings, data, context) {\\n            var stringified = ko.observable(ko.unwrap(valueAccessor()));\\n            stringified.subscribe(function(value) {\\n                var val = parseFloat(value);\\n                if (!isNaN(val)) {\\n                    valueAccessor()(val);\\n                }\\n            });\\n            valueAccessor().subscribe(function(value) {\\n                var str = JSON.stringify(value);\\n                if ((str == \\\"0\\\") && ([\\\"-0\\\", \\\"-0.\\\"].indexOf(stringified()) >= 0))\\n                     return;\\n                 if ([\\\"null\\\", \\\"\\\"].indexOf(str) >= 0)\\n                     return;\\n                stringified(str);\\n            });\\n            ko.applyBindingsToNode(\\n                element,\\n                {\\n                    value: stringified,\\n                    valueUpdate: allBindings.get('valueUpdate'),\\n                },\\n                context,\\n            );\\n        }\\n    };\\n    var json_data = {\\\"loading\\\":WebIO.getval({\\\"name\\\":\\\"loading\\\",\\\"scope\\\":\\\"3812709668836486266\\\",\\\"id\\\":\\\"13631297882679307911\\\",\\\"type\\\":\\\"observable\\\"}),\\\"clicks\\\":WebIO.getval({\\\"name\\\":\\\"clicks\\\",\\\"scope\\\":\\\"3812709668836486266\\\",\\\"id\\\":\\\"7476060849340724557\\\",\\\"type\\\":\\\"observable\\\"})};\\n    var self = this;\\n    function AppViewModel() {\\n        for (var key in json_data) {\\n            var el = json_data[key];\\n            this[key] = Array.isArray(el) ? ko.observableArray(el) : ko.observable(el);\\n        }\\n        \\n        \\n        [this[\\\"loading\\\"].subscribe((function (val){!(this.valueFromJulia[\\\"loading\\\"]) ? (WebIO.setval({\\\"name\\\":\\\"loading\\\",\\\"scope\\\":\\\"3812709668836486266\\\",\\\"id\\\":\\\"13631297882679307911\\\",\\\"type\\\":\\\"observable\\\"},val)) : undefined; return this.valueFromJulia[\\\"loading\\\"]=false}),self),this[\\\"clicks\\\"].subscribe((function (val){!(this.valueFromJulia[\\\"clicks\\\"]) ? (WebIO.setval({\\\"name\\\":\\\"clicks\\\",\\\"scope\\\":\\\"3812709668836486266\\\",\\\"id\\\":\\\"7476060849340724557\\\",\\\"type\\\":\\\"observable\\\"},val)) : undefined; return this.valueFromJulia[\\\"clicks\\\"]=false}),self)]\\n        \\n    }\\n    self.model = new AppViewModel();\\n    self.valueFromJulia = {};\\n    for (var key in json_data) {\\n        self.valueFromJulia[key] = false;\\n    }\\n    ko.applyBindings(self.model, self.dom);\\n}\\n);\\n    (WebIO.importBlock({\\\"data\\\":[{\\\"name\\\":\\\"knockout\\\",\\\"type\\\":\\\"js\\\",\\\"url\\\":\\\"\\/assetserver\\/727383f2a47bd31570b7da84eee7b022dd6d7c78-knockout.js\\\"},{\\\"name\\\":\\\"knockout_punches\\\",\\\"type\\\":\\\"js\\\",\\\"url\\\":\\\"\\/assetserver\\/382b41b3b1bd9f26f75861d360bad7f8beea211f-knockout_punches.js\\\"}],\\\"type\\\":\\\"async_block\\\"})).then((imports) => handler.apply(this, imports));\\n}\\n\"],\"observables\":{\"loading\":{\"sync\":false,\"id\":\"13631297882679307911\",\"value\":false},\"clicks\":{\"sync\":true,\"id\":\"7476060849340724557\",\"value\":0}}},\"children\":[{\"props\":{\"attributes\":{\"data-bind\":\"click: function (){this.clicks(this.clicks()+1)}, css: {'is-loading' : loading}\"},\"className\":\"is-medium button is-primary\",\"style\":{}},\"nodeType\":\"DOM\",\"type\":\"node\",\"instanceArgs\":{\"namespace\":\"html\",\"tag\":\"button\"},\"children\":[\"stop\"]}]}]},{\"props\":{\"className\":\"interact-widget\"},\"nodeType\":\"DOM\",\"type\":\"node\",\"instanceArgs\":{\"namespace\":\"html\",\"tag\":\"div\"},\"children\":[{\"props\":{},\"nodeType\":\"Scope\",\"type\":\"node\",\"instanceArgs\":{\"imports\":{\"data\":[{\"name\":null,\"type\":\"js\",\"url\":\"\\/assetserver\\/dd22ed1bf1896c2748f3fe616ce0b838adc895c1-katex.min.js\"},{\"name\":null,\"type\":\"css\",\"url\":\"\\/assetserver\\/46517a424aa5e6cffc1360d7e0848b601c584ee3-katex.min.css\"}],\"type\":\"async_block\"},\"id\":\"9565761660375915725\",\"handlers\":{\"value\":[\"(function (txt){return this.k.render(txt,this.container)})\"]},\"systemjs_options\":null,\"mount_callbacks\":[\"function () {\\n    var handler = ((function (k){this.k=k; this.container=this.dom.querySelector(\\\"#container\\\"); return k.render(\\\"\\\\\\\\;\\\\\\\\;\\\",this.container)}));\\n    (WebIO.importBlock({\\\"data\\\":[{\\\"name\\\":null,\\\"type\\\":\\\"js\\\",\\\"url\\\":\\\"\\/assetserver\\/dd22ed1bf1896c2748f3fe616ce0b838adc895c1-katex.min.js\\\"},{\\\"name\\\":null,\\\"type\\\":\\\"css\\\",\\\"url\\\":\\\"\\/assetserver\\/46517a424aa5e6cffc1360d7e0848b601c584ee3-katex.min.css\\\"}],\\\"type\\\":\\\"async_block\\\"})).then((imports) => handler.apply(this, imports));\\n}\\n\"],\"observables\":{\"value\":{\"sync\":false,\"id\":\"6707257292521179330\",\"value\":\"\\\\;\\\\;\"}}},\"children\":[{\"props\":{\"id\":\"container\"},\"nodeType\":\"DOM\",\"type\":\"node\",\"instanceArgs\":{\"namespace\":\"html\",\"tag\":\"div\"},\"children\":[]}]}]},{\"props\":{\"className\":\"field interact-widget\"},\"nodeType\":\"DOM\",\"type\":\"node\",\"instanceArgs\":{\"namespace\":\"html\",\"tag\":\"div\"},\"children\":[{\"props\":{},\"nodeType\":\"Scope\",\"type\":\"node\",\"instanceArgs\":{\"imports\":{\"data\":[{\"name\":\"knockout\",\"type\":\"js\",\"url\":\"\\/assetserver\\/727383f2a47bd31570b7da84eee7b022dd6d7c78-knockout.js\"},{\"name\":\"knockout_punches\",\"type\":\"js\",\"url\":\"\\/assetserver\\/382b41b3b1bd9f26f75861d360bad7f8beea211f-knockout_punches.js\"},{\"name\":null,\"type\":\"js\",\"url\":\"\\/assetserver\\/5ab20f1060420992a9b82a65b735dee4d81ef413-all.js\"},{\"name\":null,\"type\":\"css\",\"url\":\"\\/assetserver\\/1cc0ed62837210b80a182cc3676512f895dab686-style.css\"},{\"name\":null,\"type\":\"css\",\"url\":\"\\/assetserver\\/2eee816f616df3549d7044d45e744fbf8d42bfa1-bulma_confined.min.css\"}],\"type\":\"async_block\"},\"id\":\"12685153048897053486\",\"handlers\":{\"loading\":[\"(function (val){return (val!=this.model[\\\"loading\\\"]()) ? (this.valueFromJulia[\\\"loading\\\"]=true, this.model[\\\"loading\\\"](val)) : undefined})\"],\"clicks\":[\"(function (val){return (val!=this.model[\\\"clicks\\\"]()) ? (this.valueFromJulia[\\\"clicks\\\"]=true, this.model[\\\"clicks\\\"](val)) : undefined})\"]},\"systemjs_options\":null,\"mount_callbacks\":[\"function () {\\n    var handler = (function (ko, koPunches) {\\n    ko.punches.enableAll();\\n    ko.bindingHandlers.numericValue = {\\n        init: function(element, valueAccessor, allBindings, data, context) {\\n            var stringified = ko.observable(ko.unwrap(valueAccessor()));\\n            stringified.subscribe(function(value) {\\n                var val = parseFloat(value);\\n                if (!isNaN(val)) {\\n                    valueAccessor()(val);\\n                }\\n            });\\n            valueAccessor().subscribe(function(value) {\\n                var str = JSON.stringify(value);\\n                if ((str == \\\"0\\\") && ([\\\"-0\\\", \\\"-0.\\\"].indexOf(stringified()) >= 0))\\n                     return;\\n                 if ([\\\"null\\\", \\\"\\\"].indexOf(str) >= 0)\\n                     return;\\n                stringified(str);\\n            });\\n            ko.applyBindingsToNode(\\n                element,\\n                {\\n                    value: stringified,\\n                    valueUpdate: allBindings.get('valueUpdate'),\\n                },\\n                context,\\n            );\\n        }\\n    };\\n    var json_data = {\\\"loading\\\":WebIO.getval({\\\"name\\\":\\\"loading\\\",\\\"scope\\\":\\\"12685153048897053486\\\",\\\"id\\\":\\\"354380450628356907\\\",\\\"type\\\":\\\"observable\\\"}),\\\"clicks\\\":WebIO.getval({\\\"name\\\":\\\"clicks\\\",\\\"scope\\\":\\\"12685153048897053486\\\",\\\"id\\\":\\\"5430486305339466890\\\",\\\"type\\\":\\\"observable\\\"})};\\n    var self = this;\\n    function AppViewModel() {\\n        for (var key in json_data) {\\n            var el = json_data[key];\\n            this[key] = Array.isArray(el) ? ko.observableArray(el) : ko.observable(el);\\n        }\\n        \\n        \\n        [this[\\\"loading\\\"].subscribe((function (val){!(this.valueFromJulia[\\\"loading\\\"]) ? (WebIO.setval({\\\"name\\\":\\\"loading\\\",\\\"scope\\\":\\\"12685153048897053486\\\",\\\"id\\\":\\\"354380450628356907\\\",\\\"type\\\":\\\"observable\\\"},val)) : undefined; return this.valueFromJulia[\\\"loading\\\"]=false}),self),this[\\\"clicks\\\"].subscribe((function (val){!(this.valueFromJulia[\\\"clicks\\\"]) ? (WebIO.setval({\\\"name\\\":\\\"clicks\\\",\\\"scope\\\":\\\"12685153048897053486\\\",\\\"id\\\":\\\"5430486305339466890\\\",\\\"type\\\":\\\"observable\\\"},val)) : undefined; return this.valueFromJulia[\\\"clicks\\\"]=false}),self)]\\n        \\n    }\\n    self.model = new AppViewModel();\\n    self.valueFromJulia = {};\\n    for (var key in json_data) {\\n        self.valueFromJulia[key] = false;\\n    }\\n    ko.applyBindings(self.model, self.dom);\\n}\\n);\\n    (WebIO.importBlock({\\\"data\\\":[{\\\"name\\\":\\\"knockout\\\",\\\"type\\\":\\\"js\\\",\\\"url\\\":\\\"\\/assetserver\\/727383f2a47bd31570b7da84eee7b022dd6d7c78-knockout.js\\\"},{\\\"name\\\":\\\"knockout_punches\\\",\\\"type\\\":\\\"js\\\",\\\"url\\\":\\\"\\/assetserver\\/382b41b3b1bd9f26f75861d360bad7f8beea211f-knockout_punches.js\\\"}],\\\"type\\\":\\\"async_block\\\"})).then((imports) => handler.apply(this, imports));\\n}\\n\"],\"observables\":{\"loading\":{\"sync\":false,\"id\":\"354380450628356907\",\"value\":false},\"clicks\":{\"sync\":true,\"id\":\"5430486305339466890\",\"value\":0}}},\"children\":[{\"props\":{\"attributes\":{\"data-bind\":\"click: function (){this.clicks(this.clicks()+1)}, css: {'is-loading' : loading}\"},\"className\":\"is-medium button is-primary\",\"style\":{}},\"nodeType\":\"DOM\",\"type\":\"node\",\"instanceArgs\":{\"namespace\":\"html\",\"tag\":\"button\"},\"children\":[\"reset\"]}]}]},{\"props\":{\"className\":\"interact-widget\"},\"nodeType\":\"DOM\",\"type\":\"node\",\"instanceArgs\":{\"namespace\":\"html\",\"tag\":\"div\"},\"children\":[{\"props\":{},\"nodeType\":\"Scope\",\"type\":\"node\",\"instanceArgs\":{\"imports\":{\"data\":[{\"name\":null,\"type\":\"js\",\"url\":\"\\/assetserver\\/dd22ed1bf1896c2748f3fe616ce0b838adc895c1-katex.min.js\"},{\"name\":null,\"type\":\"css\",\"url\":\"\\/assetserver\\/46517a424aa5e6cffc1360d7e0848b601c584ee3-katex.min.css\"}],\"type\":\"async_block\"},\"id\":\"9565761660375915725\",\"handlers\":{\"value\":[\"(function (txt){return this.k.render(txt,this.container)})\"]},\"systemjs_options\":null,\"mount_callbacks\":[\"function () {\\n    var handler = ((function (k){this.k=k; this.container=this.dom.querySelector(\\\"#container\\\"); return k.render(\\\"\\\\\\\\;\\\\\\\\;\\\",this.container)}));\\n    (WebIO.importBlock({\\\"data\\\":[{\\\"name\\\":null,\\\"type\\\":\\\"js\\\",\\\"url\\\":\\\"\\/assetserver\\/dd22ed1bf1896c2748f3fe616ce0b838adc895c1-katex.min.js\\\"},{\\\"name\\\":null,\\\"type\\\":\\\"css\\\",\\\"url\\\":\\\"\\/assetserver\\/46517a424aa5e6cffc1360d7e0848b601c584ee3-katex.min.css\\\"}],\\\"type\\\":\\\"async_block\\\"})).then((imports) => handler.apply(this, imports));\\n}\\n\"],\"observables\":{\"value\":{\"sync\":false,\"id\":\"6707257292521179330\",\"value\":\"\\\\;\\\\;\"}}},\"children\":[{\"props\":{\"id\":\"container\"},\"nodeType\":\"DOM\",\"type\":\"node\",\"instanceArgs\":{\"namespace\":\"html\",\"tag\":\"div\"},\"children\":[]}]}]},{\"props\":{\"className\":\"field interact-widget\"},\"nodeType\":\"DOM\",\"type\":\"node\",\"instanceArgs\":{\"namespace\":\"html\",\"tag\":\"div\"},\"children\":[{\"props\":{},\"nodeType\":\"Scope\",\"type\":\"node\",\"instanceArgs\":{\"imports\":{\"data\":[{\"name\":\"knockout\",\"type\":\"js\",\"url\":\"\\/assetserver\\/727383f2a47bd31570b7da84eee7b022dd6d7c78-knockout.js\"},{\"name\":\"knockout_punches\",\"type\":\"js\",\"url\":\"\\/assetserver\\/382b41b3b1bd9f26f75861d360bad7f8beea211f-knockout_punches.js\"},{\"name\":null,\"type\":\"js\",\"url\":\"\\/assetserver\\/5ab20f1060420992a9b82a65b735dee4d81ef413-all.js\"},{\"name\":null,\"type\":\"css\",\"url\":\"\\/assetserver\\/1cc0ed62837210b80a182cc3676512f895dab686-style.css\"},{\"name\":null,\"type\":\"css\",\"url\":\"\\/assetserver\\/2eee816f616df3549d7044d45e744fbf8d42bfa1-bulma_confined.min.css\"}],\"type\":\"async_block\"},\"id\":\"11399965161068256468\",\"handlers\":{\"loading\":[\"(function (val){return (val!=this.model[\\\"loading\\\"]()) ? (this.valueFromJulia[\\\"loading\\\"]=true, this.model[\\\"loading\\\"](val)) : undefined})\"],\"clicks\":[\"(function (val){return (val!=this.model[\\\"clicks\\\"]()) ? (this.valueFromJulia[\\\"clicks\\\"]=true, this.model[\\\"clicks\\\"](val)) : undefined})\"]},\"systemjs_options\":null,\"mount_callbacks\":[\"function () {\\n    var handler = (function (ko, koPunches) {\\n    ko.punches.enableAll();\\n    ko.bindingHandlers.numericValue = {\\n        init: function(element, valueAccessor, allBindings, data, context) {\\n            var stringified = ko.observable(ko.unwrap(valueAccessor()));\\n            stringified.subscribe(function(value) {\\n                var val = parseFloat(value);\\n                if (!isNaN(val)) {\\n                    valueAccessor()(val);\\n                }\\n            });\\n            valueAccessor().subscribe(function(value) {\\n                var str = JSON.stringify(value);\\n                if ((str == \\\"0\\\") && ([\\\"-0\\\", \\\"-0.\\\"].indexOf(stringified()) >= 0))\\n                     return;\\n                 if ([\\\"null\\\", \\\"\\\"].indexOf(str) >= 0)\\n                     return;\\n                stringified(str);\\n            });\\n            ko.applyBindingsToNode(\\n                element,\\n                {\\n                    value: stringified,\\n                    valueUpdate: allBindings.get('valueUpdate'),\\n                },\\n                context,\\n            );\\n        }\\n    };\\n    var json_data = {\\\"loading\\\":WebIO.getval({\\\"name\\\":\\\"loading\\\",\\\"scope\\\":\\\"11399965161068256468\\\",\\\"id\\\":\\\"10418103239950567406\\\",\\\"type\\\":\\\"observable\\\"}),\\\"clicks\\\":WebIO.getval({\\\"name\\\":\\\"clicks\\\",\\\"scope\\\":\\\"11399965161068256468\\\",\\\"id\\\":\\\"12357416504220703470\\\",\\\"type\\\":\\\"observable\\\"})};\\n    var self = this;\\n    function AppViewModel() {\\n        for (var key in json_data) {\\n            var el = json_data[key];\\n            this[key] = Array.isArray(el) ? ko.observableArray(el) : ko.observable(el);\\n        }\\n        \\n        \\n        [this[\\\"loading\\\"].subscribe((function (val){!(this.valueFromJulia[\\\"loading\\\"]) ? (WebIO.setval({\\\"name\\\":\\\"loading\\\",\\\"scope\\\":\\\"11399965161068256468\\\",\\\"id\\\":\\\"10418103239950567406\\\",\\\"type\\\":\\\"observable\\\"},val)) : undefined; return this.valueFromJulia[\\\"loading\\\"]=false}),self),this[\\\"clicks\\\"].subscribe((function (val){!(this.valueFromJulia[\\\"clicks\\\"]) ? (WebIO.setval({\\\"name\\\":\\\"clicks\\\",\\\"scope\\\":\\\"11399965161068256468\\\",\\\"id\\\":\\\"12357416504220703470\\\",\\\"type\\\":\\\"observable\\\"},val)) : undefined; return this.valueFromJulia[\\\"clicks\\\"]=false}),self)]\\n        \\n    }\\n    self.model = new AppViewModel();\\n    self.valueFromJulia = {};\\n    for (var key in json_data) {\\n        self.valueFromJulia[key] = false;\\n    }\\n    ko.applyBindings(self.model, self.dom);\\n}\\n);\\n    (WebIO.importBlock({\\\"data\\\":[{\\\"name\\\":\\\"knockout\\\",\\\"type\\\":\\\"js\\\",\\\"url\\\":\\\"\\/assetserver\\/727383f2a47bd31570b7da84eee7b022dd6d7c78-knockout.js\\\"},{\\\"name\\\":\\\"knockout_punches\\\",\\\"type\\\":\\\"js\\\",\\\"url\\\":\\\"\\/assetserver\\/382b41b3b1bd9f26f75861d360bad7f8beea211f-knockout_punches.js\\\"}],\\\"type\\\":\\\"async_block\\\"})).then((imports) => handler.apply(this, imports));\\n}\\n\"],\"observables\":{\"loading\":{\"sync\":false,\"id\":\"10418103239950567406\",\"value\":false},\"clicks\":{\"sync\":true,\"id\":\"12357416504220703470\",\"value\":0}}},\"children\":[{\"props\":{\"attributes\":{\"data-bind\":\"click: function (){this.clicks(this.clicks()+1)}, css: {'is-loading' : loading}\"},\"className\":\"is-medium button is-primary\",\"style\":{}},\"nodeType\":\"DOM\",\"type\":\"node\",\"instanceArgs\":{\"namespace\":\"html\",\"tag\":\"button\"},\"children\":[\"save\"]}]}]}]}]},{\"props\":{\"className\":\"interact-widget\"},\"nodeType\":\"DOM\",\"type\":\"node\",\"instanceArgs\":{\"namespace\":\"html\",\"tag\":\"div\"},\"children\":[{\"props\":{},\"nodeType\":\"Scope\",\"type\":\"node\",\"instanceArgs\":{\"imports\":{\"data\":[{\"name\":null,\"type\":\"js\",\"url\":\"\\/assetserver\\/dd22ed1bf1896c2748f3fe616ce0b838adc895c1-katex.min.js\"},{\"name\":null,\"type\":\"css\",\"url\":\"\\/assetserver\\/46517a424aa5e6cffc1360d7e0848b601c584ee3-katex.min.css\"}],\"type\":\"async_block\"},\"id\":\"9565761660375915725\",\"handlers\":{\"value\":[\"(function (txt){return this.k.render(txt,this.container)})\"]},\"systemjs_options\":null,\"mount_callbacks\":[\"function () {\\n    var handler = ((function (k){this.k=k; this.container=this.dom.querySelector(\\\"#container\\\"); return k.render(\\\"\\\\\\\\;\\\\\\\\;\\\",this.container)}));\\n    (WebIO.importBlock({\\\"data\\\":[{\\\"name\\\":null,\\\"type\\\":\\\"js\\\",\\\"url\\\":\\\"\\/assetserver\\/dd22ed1bf1896c2748f3fe616ce0b838adc895c1-katex.min.js\\\"},{\\\"name\\\":null,\\\"type\\\":\\\"css\\\",\\\"url\\\":\\\"\\/assetserver\\/46517a424aa5e6cffc1360d7e0848b601c584ee3-katex.min.css\\\"}],\\\"type\\\":\\\"async_block\\\"})).then((imports) => handler.apply(this, imports));\\n}\\n\"],\"observables\":{\"value\":{\"sync\":false,\"id\":\"6707257292521179330\",\"value\":\"\\\\;\\\\;\"}}},\"children\":[{\"props\":{\"id\":\"container\"},\"nodeType\":\"DOM\",\"type\":\"node\",\"instanceArgs\":{\"namespace\":\"html\",\"tag\":\"div\"},\"children\":[]}]}]},{\"props\":{},\"nodeType\":\"Scope\",\"type\":\"node\",\"instanceArgs\":{\"imports\":{\"data\":[],\"type\":\"async_block\"},\"id\":\"11571917017682737848\",\"handlers\":{\"obs-output\":[\"function (value, scope) {\\n    scope.setInnerHTML(value);\\n}\\n\"]},\"systemjs_options\":null,\"mount_callbacks\":[],\"observables\":{\"obs-output\":{\"sync\":false,\"id\":\"11035265784174981516\",\"value\":\"<img src='data:image\\/png;base64,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'><\\/img>\"}}},\"children\":[{\"props\":{\"className\":\"webio-observable\",\"setInnerHtml\":\"<img src='data:image\\/png;base64,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'><\\/img>\"},\"nodeType\":\"DOM\",\"type\":\"node\",\"instanceArgs\":{\"namespace\":\"html\",\"tag\":\"div\"},\"children\":[]}]},{\"props\":{\"className\":\"interact-widget\"},\"nodeType\":\"DOM\",\"type\":\"node\",\"instanceArgs\":{\"namespace\":\"html\",\"tag\":\"div\"},\"children\":[{\"props\":{},\"nodeType\":\"Scope\",\"type\":\"node\",\"instanceArgs\":{\"imports\":{\"data\":[{\"name\":null,\"type\":\"js\",\"url\":\"\\/assetserver\\/dd22ed1bf1896c2748f3fe616ce0b838adc895c1-katex.min.js\"},{\"name\":null,\"type\":\"css\",\"url\":\"\\/assetserver\\/46517a424aa5e6cffc1360d7e0848b601c584ee3-katex.min.css\"}],\"type\":\"async_block\"},\"id\":\"9565761660375915725\",\"handlers\":{\"value\":[\"(function (txt){return this.k.render(txt,this.container)})\"]},\"systemjs_options\":null,\"mount_callbacks\":[\"function () {\\n    var handler = ((function (k){this.k=k; this.container=this.dom.querySelector(\\\"#container\\\"); return k.render(\\\"\\\\\\\\;\\\\\\\\;\\\",this.container)}));\\n    (WebIO.importBlock({\\\"data\\\":[{\\\"name\\\":null,\\\"type\\\":\\\"js\\\",\\\"url\\\":\\\"\\/assetserver\\/dd22ed1bf1896c2748f3fe616ce0b838adc895c1-katex.min.js\\\"},{\\\"name\\\":null,\\\"type\\\":\\\"css\\\",\\\"url\\\":\\\"\\/assetserver\\/46517a424aa5e6cffc1360d7e0848b601c584ee3-katex.min.css\\\"}],\\\"type\\\":\\\"async_block\\\"})).then((imports) => handler.apply(this, imports));\\n}\\n\"],\"observables\":{\"value\":{\"sync\":false,\"id\":\"6707257292521179330\",\"value\":\"\\\\;\\\\;\"}}},\"children\":[{\"props\":{\"id\":\"container\"},\"nodeType\":\"DOM\",\"type\":\"node\",\"instanceArgs\":{\"namespace\":\"html\",\"tag\":\"div\"},\"children\":[]}]}]},{\"props\":{\"style\":{\"display\":\"flex\",\"flex-direction\":\"column\"}},\"nodeType\":\"DOM\",\"type\":\"node\",\"instanceArgs\":{\"namespace\":\"html\",\"tag\":\"div\"},\"children\":[]}]}]},\n",
       "        window,\n",
       "    );\n",
       "    })()\n",
       "    </script>\n",
       "</div>\n"
      ],
      "text/plain": [
       "WebIO.Node{WebIO.DOM}(WebIO.DOM(:html, :div), Any[WebIO.Node{WebIO.DOM}(WebIO.DOM(:html, :div), Any[WebIO.Node{WebIO.DOM}(WebIO.DOM(:html, :div), Any[WebIO.Node{WebIO.DOM}(WebIO.DOM(:html, :div), Any[WebIO.Scope(WebIO.Node{WebIO.DOM}(WebIO.DOM(:html, :div), Any[WebIO.Node{WebIO.DOM}(WebIO.DOM(:html, :div), Any[WebIO.Node{WebIO.DOM}(WebIO.DOM(:html, :label), Any[\"time\"], Dict{Symbol, Any}(:className => \"interact \", :style => Dict{Any, Any}(:padding => \"5px 10px 0px 10px\")))], Dict{Symbol, Any}(:className => \"interact-flex-row-left\")), WebIO.Node{WebIO.DOM}(WebIO.DOM(:html, :div), Any[WebIO.Node{WebIO.DOM}(WebIO.DOM(:html, :input), Any[], Dict{Symbol, Any}(:max => 200, :min => 1, :attributes => Dict{Any, Any}(:type => \"range\", Symbol(\"data-bind\") => \"numericValue: index, valueUpdate: 'input', event: {change: function (){this.changes(this.changes()+1)}}\", \"orient\" => \"horizontal\"), :step => 1, :className => \"slider slider is-fullwidth\", :style => Dict{Any, Any}()))], Dict{Symbol, Any}(:className => \"interact-flex-row-center\")), WebIO.Node{WebIO.DOM}(WebIO.DOM(:html, :div), Any[WebIO.Node{WebIO.DOM}(WebIO.DOM(:html, :p), Any[], Dict{Symbol, Any}(:attributes => Dict(\"data-bind\" => \"text: formatted_val\")))], Dict{Symbol, Any}(:className => \"interact-flex-row-right\"))], Dict{Symbol, Any}(:className => \"interact-flex-row interact-widget\")), Dict{String, Tuple{Observables.AbstractObservable, Union{Nothing, Bool}}}(\"changes\" => (Observable(0), nothing), \"index\" => (Observable(1), nothing)), Set{String}(), nothing, WebIO.Asset[WebIO.Asset(\"js\", \"knockout\", \"/home/dushya/.julia/packages/Knockout/HReiN/src/../assets/knockout.js\"), WebIO.Asset(\"js\", \"knockout_punches\", \"/home/dushya/.julia/packages/Knockout/HReiN/src/../assets/knockout_punches.js\"), WebIO.Asset(\"js\", nothing, \"/home/dushya/.julia/packages/InteractBase/LJXv3/src/../assets/all.js\"), WebIO.Asset(\"css\", nothing, \"/home/dushya/.julia/packages/InteractBase/LJXv3/src/../assets/style.css\"), WebIO.Asset(\"css\", nothing, \"/home/dushya/.julia/packages/Interact/PENUy/src/../assets/bulma_confined.min.css\")], Dict{Any, Any}(\"changes\" => Any[WebIO.JSString(\"(function (val){return (val!=this.model[\\\"changes\\\"]()) ? (this.valueFromJulia[\\\"changes\\\"]=true, this.model[\\\"changes\\\"](val)) : undefined})\")], \"index\" => Any[WebIO.JSString(\"(function (val){return (val!=this.model[\\\"index\\\"]()) ? (this.valueFromJulia[\\\"index\\\"]=true, this.model[\\\"index\\\"](val)) : undefined})\")]), WebIO.ConnectionPool(Channel{Any}(32), Set{WebIO.AbstractConnection}(), Base.GenericCondition{ReentrantLock}(Base.IntrusiveLinkedList{Task}(Task (runnable) @0x00007fc207345780, Task (runnable) @0x00007fc207345780), ReentrantLock(nothing, 0x00000000, 0x00, Base.GenericCondition{Base.Threads.SpinLock}(Base.IntrusiveLinkedList{Task}(nothing, nothing), Base.Threads.SpinLock(0)), (8, 0, 139779710648320)))), WebIO.JSString[WebIO.JSString(\"function () {\\n    var handler = (function (ko, koPunches) {\\n    ko.punches.enableAll();\\n    ko.bindingHandlers.numericValue = {\\n        init: function(element, valueAccessor, allBindings, data, context) {\\n            var stringified = ko.observable(ko.unwrap(valueAccessor()));\\n            stringified.subscribe(function(value) {\\n                var val = parseFloat(value);\\n                if (!isNaN(val)) {\\n                    valueAccessor()(val);\\n                }\\n            });\\n            valueAccessor().subscribe(function(value) {\\n                var str = JSON.stringify(value);\\n                if ((str == \\\"0\\\") && ([\\\"-0\\\", \\\"-0.\\\"].indexOf(stringified()) >= 0))\\n                     return;\\n                 if ([\\\"null\\\", \\\"\\\"].indexOf(str) >= 0)\\n                     return;\\n                stringified(str);\\n            });\\n            ko.applyBindingsToNode(\\n                element,\\n                {\\n                    value: stringified,\\n                    valueUpdate: allBindings.get('valueUpdate'),\\n                },\\n                context,\\n            );\\n        }\\n    };\\n    var json_data = {\\\"formatted_vals\\\":[\\\"1\\\",\\\"2\\\",\\\"3\\\",\\\"4\\\",\\\"5\\\",\\\"6\\\",\\\"7\\\",\\\"8\\\",\\\"9\\\",\\\"10\\\",\\\"11\\\",\\\"12\\\",\\\"13\\\",\\\"14\\\",\\\"15\\\",\\\"16\\\",\\\"17\\\",\\\"18\\\",\\\"19\\\",\\\"20\\\",\\\"21\\\",\\\"22\\\",\\\"23\\\",\\\"24\\\",\\\"25\\\",\\\"26\\\",\\\"27\\\",\\\"28\\\",\\\"29\\\",\\\"30\\\",\\\"31\\\",\\\"32\\\",\\\"33\\\",\\\"34\\\",\\\"35\\\",\\\"36\\\",\\\"37\\\",\\\"38\\\",\\\"39\\\",\\\"40\\\",\\\"41\\\",\\\"42\\\",\\\"43\\\",\\\"44\\\",\\\"45\\\",\\\"46\\\",\\\"47\\\",\\\"48\\\",\\\"49\\\",\\\"50\\\",\\\"51\\\",\\\"52\\\",\\\"53\\\",\\\"54\\\",\\\"55\\\",\\\"56\\\",\\\"57\\\",\\\"58\\\",\\\"59\\\",\\\"60\\\",\\\"61\\\",\\\"62\\\",\\\"63\\\",\\\"64\\\",\\\"65\\\",\\\"66\\\",\\\"67\\\",\\\"68\\\",\\\"69\\\",\\\"70\\\",\\\"71\\\",\\\"72\\\",\\\"73\\\",\\\"74\\\",\\\"75\\\",\\\"76\\\",\\\"77\\\",\\\"78\\\",\\\"79\\\",\\\"80\\\",\\\"81\\\",\\\"82\\\",\\\"83\\\",\\\"84\\\",\\\"85\\\",\\\"86\\\",\\\"87\\\",\\\"88\\\",\\\"89\\\",\\\"90\\\",\\\"91\\\",\\\"92\\\",\\\"93\\\",\\\"94\\\",\\\"95\\\",\\\"96\\\",\\\"97\\\",\\\"98\\\",\\\"99\\\",\\\"100\\\",\\\"101\\\",\\\"102\\\",\\\"103\\\",\\\"104\\\",\\\"105\\\",\\\"106\\\",\\\"107\\\",\\\"108\\\",\\\"109\\\",\\\"110\\\",\\\"111\\\",\\\"112\\\",\\\"113\\\",\\\"114\\\",\\\"115\\\",\\\"116\\\",\\\"117\\\",\\\"118\\\",\\\"119\\\",\\\"120\\\",\\\"121\\\",\\\"122\\\",\\\"123\\\",\\\"124\\\",\\\"125\\\",\\\"126\\\",\\\"127\\\",\\\"128\\\",\\\"129\\\",\\\"130\\\",\\\"131\\\",\\\"132\\\",\\\"133\\\",\\\"134\\\",\\\"135\\\",\\\"136\\\",\\\"137\\\",\\\"138\\\",\\\"139\\\",\\\"140\\\",\\\"141\\\",\\\"142\\\",\\\"143\\\",\\\"144\\\",\\\"145\\\",\\\"146\\\",\\\"147\\\",\\\"148\\\",\\\"149\\\",\\\"150\\\",\\\"151\\\",\\\"152\\\",\\\"153\\\",\\\"154\\\",\\\"155\\\",\\\"156\\\",\\\"157\\\",\\\"158\\\",\\\"159\\\",\\\"160\\\",\\\"161\\\",\\\"162\\\",\\\"163\\\",\\\"164\\\",\\\"165\\\",\\\"166\\\",\\\"167\\\",\\\"168\\\",\\\"169\\\",\\\"170\\\",\\\"171\\\",\\\"172\\\",\\\"173\\\",\\\"174\\\",\\\"175\\\",\\\"176\\\",\\\"177\\\",\\\"178\\\",\\\"179\\\",\\\"180\\\",\\\"181\\\",\\\"182\\\",\\\"183\\\",\\\"184\\\",\\\"185\\\",\\\"186\\\",\\\"187\\\",\\\"188\\\",\\\"189\\\",\\\"190\\\",\\\"191\\\",\\\"192\\\",\\\"193\\\",\\\"194\\\",\\\"195\\\",\\\"196\\\",\\\"197\\\",\\\"198\\\",\\\"199\\\",\\\"200\\\"],\\\"changes\\\":WebIO.getval({\\\"name\\\":\\\"changes\\\",\\\"scope\\\":\\\"6925622466299397055\\\",\\\"id\\\":\\\"10899954738393583519\\\",\\\"type\\\":\\\"observable\\\"}),\\\"index\\\":WebIO.getval({\\\"name\\\":\\\"index\\\",\\\"scope\\\":\\\"6925622466299397055\\\",\\\"id\\\":\\\"14540204293178177920\\\",\\\"type\\\":\\\"observable\\\"})};\\n    var self = this;\\n    function AppViewModel() {\\n        for (var key in json_data) {\\n            var el = json_data[key];\\n            this[key] = Array.isArray(el) ? ko.observableArray(el) : ko.observable(el);\\n        }\\n        \\n        [this[\\\"formatted_val\\\"]=ko.computed(    function(){\\n        return this.formatted_vals()[parseInt(this.index())-(1)];\\n    }\\n,this)]\\n        [this[\\\"changes\\\"].subscribe((function (val){!(this.valueFromJulia[\\\"changes\\\"]) ? (WebIO.setval({\\\"name\\\":\\\"changes\\\",\\\"scope\\\":\\\"6925622466299397055\\\",\\\"id\\\":\\\"10899954738393583519\\\",\\\"type\\\":\\\"observable\\\"},val)) : undefined; return this.valueFromJulia[\\\"changes\\\"]=false}),self),this[\\\"index\\\"].subscribe((function (val){!(this.valueFromJulia[\\\"index\\\"]) ? (WebIO.setval({\\\"name\\\":\\\"index\\\",\\\"scope\\\":\\\"6925622466299397055\\\",\\\"id\\\":\\\"14540204293178177920\\\",\\\"type\\\":\\\"observable\\\"},val)) : undefined; return this.valueFromJulia[\\\"index\\\"]=false}),self)]\\n        \\n    }\\n    self.model = new AppViewModel();\\n    self.valueFromJulia = {};\\n    for (var key in json_data) {\\n        self.valueFromJulia[key] = false;\\n    }\\n    ko.applyBindings(self.model, self.dom);\\n}\\n);\\n    (WebIO.importBlock({\\\"data\\\":[{\\\"name\\\":\\\"knockout\\\",\\\"type\\\":\\\"js\\\",\\\"url\\\":\\\"/assetserver/727383f2a47bd31570b7da84eee7b022dd6d7c78-knockout.js\\\"},{\\\"name\\\":\\\"knockout_punches\\\",\\\"type\\\":\\\"js\\\",\\\"url\\\":\\\"/assetserver/382b41b3b1bd9f26f75861d360bad7f8beea211f-knockout_punches.js\\\"}],\\\"type\\\":\\\"async_block\\\"})).then((imports) => handler.apply(this, imports));\\n}\\n\")])], Dict{Symbol, Any}(:className => \"field interact-widget\")), WebIO.Node{WebIO.DOM}(WebIO.DOM(:html, :div), Any[WebIO.Scope(WebIO.Node{WebIO.DOM}(WebIO.DOM(:html, :div), Any[WebIO.Node{WebIO.DOM}(WebIO.DOM(:html, :div), Any[WebIO.Node{WebIO.DOM}(WebIO.DOM(:html, :label), Any[\"scale\"], Dict{Symbol, Any}(:className => \"interact \", :style => Dict{Any, Any}(:padding => \"5px 10px 0px 10px\")))], Dict{Symbol, Any}(:className => \"interact-flex-row-left\")), WebIO.Node{WebIO.DOM}(WebIO.DOM(:html, :div), Any[WebIO.Node{WebIO.DOM}(WebIO.DOM(:html, :input), Any[], Dict{Symbol, Any}(:max => 20, :min => 1, :attributes => Dict{Any, Any}(:type => \"range\", Symbol(\"data-bind\") => \"numericValue: index, valueUpdate: 'input', event: {change: function (){this.changes(this.changes()+1)}}\", \"orient\" => \"horizontal\"), :step => 1, :className => \"slider slider is-fullwidth\", :style => Dict{Any, Any}()))], Dict{Symbol, Any}(:className => \"interact-flex-row-center\")), WebIO.Node{WebIO.DOM}(WebIO.DOM(:html, :div), Any[WebIO.Node{WebIO.DOM}(WebIO.DOM(:html, :p), Any[], Dict{Symbol, Any}(:attributes => Dict(\"data-bind\" => \"text: formatted_val\")))], Dict{Symbol, Any}(:className => \"interact-flex-row-right\"))], Dict{Symbol, Any}(:className => \"interact-flex-row interact-widget\")), Dict{String, Tuple{Observables.AbstractObservable, Union{Nothing, Bool}}}(\"changes\" => (Observable(0), nothing), \"index\" => (Observable{Any}(10), nothing)), Set{String}(), nothing, WebIO.Asset[WebIO.Asset(\"js\", \"knockout\", \"/home/dushya/.julia/packages/Knockout/HReiN/src/../assets/knockout.js\"), WebIO.Asset(\"js\", \"knockout_punches\", \"/home/dushya/.julia/packages/Knockout/HReiN/src/../assets/knockout_punches.js\"), WebIO.Asset(\"js\", nothing, \"/home/dushya/.julia/packages/InteractBase/LJXv3/src/../assets/all.js\"), WebIO.Asset(\"css\", nothing, \"/home/dushya/.julia/packages/InteractBase/LJXv3/src/../assets/style.css\"), WebIO.Asset(\"css\", nothing, \"/home/dushya/.julia/packages/Interact/PENUy/src/../assets/bulma_confined.min.css\")], Dict{Any, Any}(\"changes\" => Any[WebIO.JSString(\"(function (val){return (val!=this.model[\\\"changes\\\"]()) ? (this.valueFromJulia[\\\"changes\\\"]=true, this.model[\\\"changes\\\"](val)) : undefined})\")], \"index\" => Any[WebIO.JSString(\"(function (val){return (val!=this.model[\\\"index\\\"]()) ? (this.valueFromJulia[\\\"index\\\"]=true, this.model[\\\"index\\\"](val)) : undefined})\")]), WebIO.ConnectionPool(Channel{Any}(32), Set{WebIO.AbstractConnection}(), Base.GenericCondition{ReentrantLock}(Base.IntrusiveLinkedList{Task}(Task (runnable) @0x00007fc2073c8970, Task (runnable) @0x00007fc2073c8970), ReentrantLock(nothing, 0x00000000, 0x00, Base.GenericCondition{Base.Threads.SpinLock}(Base.IntrusiveLinkedList{Task}(nothing, nothing), Base.Threads.SpinLock(0)), (0, 0, 141733920768)))), WebIO.JSString[WebIO.JSString(\"function () {\\n    var handler = (function (ko, koPunches) {\\n    ko.punches.enableAll();\\n    ko.bindingHandlers.numericValue = {\\n        init: function(element, valueAccessor, allBindings, data, context) {\\n            var stringified = ko.observable(ko.unwrap(valueAccessor()));\\n            stringified.subscribe(function(value) {\\n                var val = parseFloat(value);\\n                if (!isNaN(val)) {\\n                    valueAccessor()(val);\\n                }\\n            });\\n            valueAccessor().subscribe(function(value) {\\n                var str = JSON.stringify(value);\\n                if ((str == \\\"0\\\") && ([\\\"-0\\\", \\\"-0.\\\"].indexOf(stringified()) >= 0))\\n                     return;\\n                 if ([\\\"null\\\", \\\"\\\"].indexOf(str) >= 0)\\n                     return;\\n                stringified(str);\\n            });\\n            ko.applyBindingsToNode(\\n                element,\\n                {\\n                    value: stringified,\\n                    valueUpdate: allBindings.get('valueUpdate'),\\n                },\\n                context,\\n            );\\n        }\\n    };\\n    var json_data = {\\\"formatted_vals\\\":[\\\"0.1\\\",\\\"0.2\\\",\\\"0.3\\\",\\\"0.4\\\",\\\"0.5\\\",\\\"0.6\\\",\\\"0.7\\\",\\\"0.8\\\",\\\"0.9\\\",\\\"1.0\\\",\\\"1.1\\\",\\\"1.2\\\",\\\"1.3\\\",\\\"1.4\\\",\\\"1.5\\\",\\\"1.6\\\",\\\"1.7\\\",\\\"1.8\\\",\\\"1.9\\\",\\\"2.0\\\"],\\\"changes\\\":WebIO.getval({\\\"name\\\":\\\"changes\\\",\\\"scope\\\":\\\"5902792877059709308\\\",\\\"id\\\":\\\"14979454616663935583\\\",\\\"type\\\":\\\"observable\\\"}),\\\"index\\\":WebIO.getval({\\\"name\\\":\\\"index\\\",\\\"scope\\\":\\\"5902792877059709308\\\",\\\"id\\\":\\\"13973629200241524893\\\",\\\"type\\\":\\\"observable\\\"})};\\n    var self = this;\\n    function AppViewModel() {\\n        for (var key in json_data) {\\n            var el = json_data[key];\\n            this[key] = Array.isArray(el) ? ko.observableArray(el) : ko.observable(el);\\n        }\\n        \\n        [this[\\\"formatted_val\\\"]=ko.computed(    function(){\\n        return this.formatted_vals()[parseInt(this.index())-(1)];\\n    }\\n,this)]\\n        [this[\\\"changes\\\"].subscribe((function (val){!(this.valueFromJulia[\\\"changes\\\"]) ? (WebIO.setval({\\\"name\\\":\\\"changes\\\",\\\"scope\\\":\\\"5902792877059709308\\\",\\\"id\\\":\\\"14979454616663935583\\\",\\\"type\\\":\\\"observable\\\"},val)) : undefined; return this.valueFromJulia[\\\"changes\\\"]=false}),self),this[\\\"index\\\"].subscribe((function (val){!(this.valueFromJulia[\\\"index\\\"]) ? (WebIO.setval({\\\"name\\\":\\\"index\\\",\\\"scope\\\":\\\"5902792877059709308\\\",\\\"id\\\":\\\"13973629200241524893\\\",\\\"type\\\":\\\"observable\\\"},val)) : undefined; return this.valueFromJulia[\\\"index\\\"]=false}),self)]\\n        \\n    }\\n    self.model = new AppViewModel();\\n    self.valueFromJulia = {};\\n    for (var key in json_data) {\\n        self.valueFromJulia[key] = false;\\n    }\\n    ko.applyBindings(self.model, self.dom);\\n}\\n);\\n    (WebIO.importBlock({\\\"data\\\":[{\\\"name\\\":\\\"knockout\\\",\\\"type\\\":\\\"js\\\",\\\"url\\\":\\\"/assetserver/727383f2a47bd31570b7da84eee7b022dd6d7c78-knockout.js\\\"},{\\\"name\\\":\\\"knockout_punches\\\",\\\"type\\\":\\\"js\\\",\\\"url\\\":\\\"/assetserver/382b41b3b1bd9f26f75861d360bad7f8beea211f-knockout_punches.js\\\"}],\\\"type\\\":\\\"async_block\\\"})).then((imports) => handler.apply(this, imports));\\n}\\n\")])], Dict{Symbol, Any}(:className => \"field interact-widget\")), WebIO.Node{WebIO.DOM}(WebIO.DOM(:html, :div), Any[WebIO.Node{WebIO.DOM}(WebIO.DOM(:html, :div), Any[WebIO.Scope(WebIO.Node{WebIO.DOM}(WebIO.DOM(:html, :div), Any[WebIO.Node{WebIO.DOM}(WebIO.DOM(:html, :div), Any[WebIO.Node{WebIO.DOM}(WebIO.DOM(:html, :label), Any[\"vel\"], Dict{Symbol, Any}(:className => \"interact \", :style => Dict{Any, Any}(:padding => \"5px 10px 0px 10px\")))], Dict{Symbol, Any}(:className => \"interact-flex-row-left\")), WebIO.Node{WebIO.DOM}(WebIO.DOM(:html, :div), Any[WebIO.Node{WebIO.DOM}(WebIO.DOM(:html, :input), Any[], Dict{Symbol, Any}(:max => 151, :min => 1, :attributes => Dict{Any, Any}(:type => \"range\", Symbol(\"data-bind\") => \"numericValue: index, valueUpdate: 'input', event: {change: function (){this.changes(this.changes()+1)}}\", \"orient\" => \"horizontal\"), :step => 1, :className => \"slider slider is-fullwidth\", :style => Dict{Any, Any}()))], Dict{Symbol, Any}(:className => \"interact-flex-row-center\")), WebIO.Node{WebIO.DOM}(WebIO.DOM(:html, :div), Any[WebIO.Node{WebIO.DOM}(WebIO.DOM(:html, :p), Any[], Dict{Symbol, Any}(:attributes => Dict(\"data-bind\" => \"text: formatted_val\")))], Dict{Symbol, Any}(:className => \"interact-flex-row-right\"))], Dict{Symbol, Any}(:className => \"interact-flex-row interact-widget\")), Dict{String, Tuple{Observables.AbstractObservable, Union{Nothing, Bool}}}(\"changes\" => (Observable(0), nothing), \"index\" => (Observable{Any}(76), nothing)), Set{String}(), nothing, WebIO.Asset[WebIO.Asset(\"js\", \"knockout\", \"/home/dushya/.julia/packages/Knockout/HReiN/src/../assets/knockout.js\"), WebIO.Asset(\"js\", \"knockout_punches\", \"/home/dushya/.julia/packages/Knockout/HReiN/src/../assets/knockout_punches.js\"), WebIO.Asset(\"js\", nothing, \"/home/dushya/.julia/packages/InteractBase/LJXv3/src/../assets/all.js\"), WebIO.Asset(\"css\", nothing, \"/home/dushya/.julia/packages/InteractBase/LJXv3/src/../assets/style.css\"), WebIO.Asset(\"css\", nothing, \"/home/dushya/.julia/packages/Interact/PENUy/src/../assets/bulma_confined.min.css\")], Dict{Any, Any}(\"changes\" => Any[WebIO.JSString(\"(function (val){return (val!=this.model[\\\"changes\\\"]()) ? (this.valueFromJulia[\\\"changes\\\"]=true, this.model[\\\"changes\\\"](val)) : undefined})\")], \"index\" => Any[WebIO.JSString(\"(function (val){return (val!=this.model[\\\"index\\\"]()) ? (this.valueFromJulia[\\\"index\\\"]=true, this.model[\\\"index\\\"](val)) : undefined})\")]), WebIO.ConnectionPool(Channel{Any}(32), Set{WebIO.AbstractConnection}(), Base.GenericCondition{ReentrantLock}(Base.IntrusiveLinkedList{Task}(Task (runnable) @0x00007fc207f6cb00, Task (runnable) @0x00007fc207f6cb00), ReentrantLock(nothing, 0x00000000, 0x00, Base.GenericCondition{Base.Threads.SpinLock}(Base.IntrusiveLinkedList{Task}(nothing, nothing), Base.Threads.SpinLock(0)), (2, 24576, 0)))), WebIO.JSString[WebIO.JSString(\"function () {\\n    var handler = (function (ko, koPunches) {\\n    ko.punches.enableAll();\\n    ko.bindingHandlers.numericValue = {\\n        init: function(element, valueAccessor, allBindings, data, context) {\\n            var stringified = ko.observable(ko.unwrap(valueAccessor()));\\n            stringified.subscribe(function(value) {\\n                var val = parseFloat(value);\\n                if (!isNaN(val)) {\\n                    valueAccessor()(val);\\n                }\\n            });\\n            valueAccessor().subscribe(function(value) {\\n                var str = JSON.stringify(value);\\n                if ((str == \\\"0\\\") && ([\\\"-0\\\", \\\"-0.\\\"].indexOf(stringified()) >= 0))\\n                     return;\\n                 if ([\\\"null\\\", \\\"\\\"].indexOf(str) >= 0)\\n                     return;\\n                stringified(str);\\n            });\\n            ko.applyBindingsToNode(\\n                element,\\n                {\\n                    value: stringified,\\n                    valueUpdate: allBindings.get('valueUpdate'),\\n                },\\n                context,\\n            );\\n        }\\n    };\\n    var json_data = {\\\"formatted_vals\\\":[\\\"(-10.0, 0.0)\\\\n\\\",\\\"(-9.9, 0.0)\\\\n\\\",\\\"(-9.8, 0.0)\\\\n\\\",\\\"(-9.7, 0.0)\\\\n\\\",\\\"(-9.6, 0.0)\\\\n\\\",\\\"(-9.5, 0.0)\\\\n\\\",\\\"(-9.4, 0.0)\\\\n\\\",\\\"(-9.3, 0.0)\\\\n\\\",\\\"(-9.2, 0.0)\\\\n\\\",\\\"(-9.1, 0.0)\\\\n\\\",\\\"(-9.0, 0.0)\\\\n\\\",\\\"(-8.9, 0.0)\\\\n\\\",\\\"(-8.8, 0.0)\\\\n\\\",\\\"(-8.7, 0.0)\\\\n\\\",\\\"(-8.6, 0.0)\\\\n\\\",\\\"(-8.5, 0.0)\\\\n\\\",\\\"(-8.4, 0.0)\\\\n\\\",\\\"(-8.3, 0.0)\\\\n\\\",\\\"(-8.2, 0.0)\\\\n\\\",\\\"(-8.1, 0.0)\\\\n\\\",\\\"(-8.0, 0.0)\\\\n\\\",\\\"(-7.9, 0.0)\\\\n\\\",\\\"(-7.8, 0.0)\\\\n\\\",\\\"(-7.7, 0.0)\\\\n\\\",\\\"(-7.6, 0.0)\\\\n\\\",\\\"(-7.5, 0.0)\\\\n\\\",\\\"(-7.4, 0.0)\\\\n\\\",\\\"(-7.3, 0.0)\\\\n\\\",\\\"(-7.2, 0.0)\\\\n\\\",\\\"(-7.1, 0.0)\\\\n\\\",\\\"(-7.0, 0.0)\\\\n\\\",\\\"(-6.9, 0.0)\\\\n\\\",\\\"(-6.8, 0.0)\\\\n\\\",\\\"(-6.7, 0.0)\\\\n\\\",\\\"(-6.6, 0.0)\\\\n\\\",\\\"(-6.5, 0.0)\\\\n\\\",\\\"(-6.4, 0.0)\\\\n\\\",\\\"(-6.3, 0.0)\\\\n\\\",\\\"(-6.2, 0.0)\\\\n\\\",\\\"(-6.1, 0.0)\\\\n\\\",\\\"(-6.0, 0.0)\\\\n\\\",\\\"(-5.9, 0.0)\\\\n\\\",\\\"(-5.8, 0.0)\\\\n\\\",\\\"(-5.7, 0.0)\\\\n\\\",\\\"(-5.6, 0.0)\\\\n\\\",\\\"(-5.5, 0.0)\\\\n\\\",\\\"(-5.4, 0.0)\\\\n\\\",\\\"(-5.3, 0.0)\\\\n\\\",\\\"(-5.2, 0.0)\\\\n\\\",\\\"(-5.1, 0.0)\\\\n\\\",\\\"(-5.0, 0.0)\\\\n\\\",\\\"(-4.9, 0.0)\\\\n\\\",\\\"(-4.8, 0.0)\\\\n\\\",\\\"(-4.7, 0.0)\\\\n\\\",\\\"(-4.6, 0.0)\\\\n\\\",\\\"(-4.5, 0.0)\\\\n\\\",\\\"(-4.4, 0.0)\\\\n\\\",\\\"(-4.3, 0.0)\\\\n\\\",\\\"(-4.2, 0.0)\\\\n\\\",\\\"(-4.1, 0.0)\\\\n\\\",\\\"(-4.0, 0.0)\\\\n\\\",\\\"(-3.9, 0.0)\\\\n\\\",\\\"(-3.8, 0.0)\\\\n\\\",\\\"(-3.7, 0.0)\\\\n\\\",\\\"(-3.6, 0.0)\\\\n\\\",\\\"(-3.5, 0.0)\\\\n\\\",\\\"(-3.4, 0.0)\\\\n\\\",\\\"(-3.3, 0.0)\\\\n\\\",\\\"(-3.2, 0.0)\\\\n\\\",\\\"(-3.1, 0.0)\\\\n\\\",\\\"(-3.0, 0.0)\\\\n\\\",\\\"(-2.9, 0.0)\\\\n\\\",\\\"(-2.8, 0.0)\\\\n\\\",\\\"(-2.7, 0.0)\\\\n\\\",\\\"(-2.6, 0.0)\\\\n\\\",\\\"(-2.5, 0.0)\\\\n\\\",\\\"(-2.4, 0.0)\\\\n\\\",\\\"(-2.3, 0.0)\\\\n\\\",\\\"(-2.2, 0.0)\\\\n\\\",\\\"(-2.1, 0.0)\\\\n\\\",\\\"(-2.0, 0.0)\\\\n\\\",\\\"(-1.9, 0.0)\\\\n\\\",\\\"(-1.8, 0.0)\\\\n\\\",\\\"(-1.7, 0.0)\\\\n\\\",\\\"(-1.6, 0.0)\\\\n\\\",\\\"(-1.5, 0.0)\\\\n\\\",\\\"(-1.4, 0.0)\\\\n\\\",\\\"(-1.3, 0.0)\\\\n\\\",\\\"(-1.2, 0.0)\\\\n\\\",\\\"(-1.1, 0.0)\\\\n\\\",\\\"(-1.0, 0.0)\\\\n\\\",\\\"(-0.9, 0.0)\\\\n\\\",\\\"(-0.8, 0.0)\\\\n\\\",\\\"(-0.7, 0.0)\\\\n\\\",\\\"(-0.6, 0.0)\\\\n\\\",\\\"(-0.5, 0.0)\\\\n\\\",\\\"(-0.4, 0.0)\\\\n\\\",\\\"(-0.3, 0.0)\\\\n\\\",\\\"(-0.2, 0.0)\\\\n\\\",\\\"(-0.1, 0.0)\\\\n\\\",\\\"(0.0, 0.0)\\\\n\\\",\\\"(0.1, 0.0)\\\\n\\\",\\\"(0.2, 0.0)\\\\n\\\",\\\"(0.3, 0.0)\\\\n\\\",\\\"(0.4, 0.0)\\\\n\\\",\\\"(0.5, 0.0)\\\\n\\\",\\\"(0.6, 0.0)\\\\n\\\",\\\"(0.7, 0.0)\\\\n\\\",\\\"(0.8, 0.0)\\\\n\\\",\\\"(0.9, 0.0)\\\\n\\\",\\\"(1.0, 0.0)\\\\n\\\",\\\"(1.1, 0.0)\\\\n\\\",\\\"(1.2, 0.0)\\\\n\\\",\\\"(1.3, 0.0)\\\\n\\\",\\\"(1.4, 0.0)\\\\n\\\",\\\"(1.5, 0.0)\\\\n\\\",\\\"(1.6, 0.0)\\\\n\\\",\\\"(1.7, 0.0)\\\\n\\\",\\\"(1.8, 0.0)\\\\n\\\",\\\"(1.9, 0.0)\\\\n\\\",\\\"(2.0, 0.0)\\\\n\\\",\\\"(2.1, 0.0)\\\\n\\\",\\\"(2.2, 0.0)\\\\n\\\",\\\"(2.3, 0.0)\\\\n\\\",\\\"(2.4, 0.0)\\\\n\\\",\\\"(2.5, 0.0)\\\\n\\\",\\\"(2.6, 0.0)\\\\n\\\",\\\"(2.7, 0.0)\\\\n\\\",\\\"(2.8, 0.0)\\\\n\\\",\\\"(2.9, 0.0)\\\\n\\\",\\\"(3.0, 0.0)\\\\n\\\",\\\"(3.1, 0.0)\\\\n\\\",\\\"(3.2, 0.0)\\\\n\\\",\\\"(3.3, 0.0)\\\\n\\\",\\\"(3.4, 0.0)\\\\n\\\",\\\"(3.5, 0.0)\\\\n\\\",\\\"(3.6, 0.0)\\\\n\\\",\\\"(3.7, 0.0)\\\\n\\\",\\\"(3.8, 0.0)\\\\n\\\",\\\"(3.9, 0.0)\\\\n\\\",\\\"(4.0, 0.0)\\\\n\\\",\\\"(4.1, 0.0)\\\\n\\\",\\\"(4.2, 0.0)\\\\n\\\",\\\"(4.3, 0.0)\\\\n\\\",\\\"(4.4, 0.0)\\\\n\\\",\\\"(4.5, 0.0)\\\\n\\\",\\\"(4.6, 0.0)\\\\n\\\",\\\"(4.7, 0.0)\\\\n\\\",\\\"(4.8, 0.0)\\\\n\\\",\\\"(4.9, 0.0)\\\\n\\\",\\\"(5.0, 0.0)\\\\n\\\"],\\\"changes\\\":WebIO.getval({\\\"name\\\":\\\"changes\\\",\\\"scope\\\":\\\"14223027793273956372\\\",\\\"id\\\":\\\"16136699179757268117\\\",\\\"type\\\":\\\"observable\\\"}),\\\"index\\\":WebIO.getval({\\\"name\\\":\\\"index\\\",\\\"scope\\\":\\\"14223027793273956372\\\",\\\"id\\\":\\\"13620126702636508145\\\",\\\"type\\\":\\\"observable\\\"})};\\n    var self = this;\\n    function AppViewModel() {\\n        for (var key in json_data) {\\n            var el = json_data[key];\\n            this[key] = Array.isArray(el) ? ko.observableArray(el) : ko.observable(el);\\n        }\\n        \\n        [this[\\\"formatted_val\\\"]=ko.computed(    function(){\\n        return this.formatted_vals()[parseInt(this.index())-(1)];\\n    }\\n,this)]\\n        [this[\\\"changes\\\"].subscribe((function (val){!(this.valueFromJulia[\\\"changes\\\"]) ? (WebIO.setval({\\\"name\\\":\\\"changes\\\",\\\"scope\\\":\\\"14223027793273956372\\\",\\\"id\\\":\\\"16136699179757268117\\\",\\\"type\\\":\\\"observable\\\"},val)) : undefined; return this.valueFromJulia[\\\"changes\\\"]=false}),self),this[\\\"index\\\"].subscribe((function (val){!(this.valueFromJulia[\\\"index\\\"]) ? (WebIO.setval({\\\"name\\\":\\\"index\\\",\\\"scope\\\":\\\"14223027793273956372\\\",\\\"id\\\":\\\"13620126702636508145\\\",\\\"type\\\":\\\"observable\\\"},val)) : undefined; return this.valueFromJulia[\\\"index\\\"]=false}),self)]\\n        \\n    }\\n    self.model = new AppViewModel();\\n    self.valueFromJulia = {};\\n    for (var key in json_data) {\\n        self.valueFromJulia[key] = false;\\n    }\\n    ko.applyBindings(self.model, self.dom);\\n}\\n);\\n    (WebIO.importBlock({\\\"data\\\":[{\\\"name\\\":\\\"knockout\\\",\\\"type\\\":\\\"js\\\",\\\"url\\\":\\\"/assetserver/727383f2a47bd31570b7da84eee7b022dd6d7c78-knockout.js\\\"},{\\\"name\\\":\\\"knockout_punches\\\",\\\"type\\\":\\\"js\\\",\\\"url\\\":\\\"/assetserver/382b41b3b1bd9f26f75861d360bad7f8beea211f-knockout_punches.js\\\"}],\\\"type\\\":\\\"async_block\\\"})).then((imports) => handler.apply(this, imports));\\n}\\n\")])], Dict{Symbol, Any}(:className => \"field interact-widget\"))], Dict{Symbol, Any}(:style => Dict(\"display\" => \"flex\", \"flex-direction\" => \"column\"))), WebIO.Node{WebIO.DOM}(WebIO.DOM(:html, :div), Any[WebIO.Node{WebIO.DOM}(WebIO.DOM(:html, :div), Any[WebIO.Scope(WebIO.Node{WebIO.DOM}(WebIO.DOM(:html, :div), Any[WebIO.Node{WebIO.DOM}(WebIO.DOM(:html, :div), Any[WebIO.Node{WebIO.DOM}(WebIO.DOM(:html, :label), Any[\"gravity\"], Dict{Symbol, Any}(:className => \"interact \", :style => Dict{Any, Any}(:padding => \"5px 10px 0px 10px\")))], Dict{Symbol, Any}(:className => \"interact-flex-row-left\")), WebIO.Node{WebIO.DOM}(WebIO.DOM(:html, :div), Any[WebIO.Node{WebIO.DOM}(WebIO.DOM(:html, :input), Any[], Dict{Symbol, Any}(:max => 21, :min => 1, :attributes => Dict{Any, Any}(:type => \"range\", Symbol(\"data-bind\") => \"numericValue: index, valueUpdate: 'input', event: {change: function (){this.changes(this.changes()+1)}}\", \"orient\" => \"horizontal\"), :step => 1, :className => \"slider slider is-fullwidth\", :style => Dict{Any, Any}()))], Dict{Symbol, Any}(:className => \"interact-flex-row-center\")), WebIO.Node{WebIO.DOM}(WebIO.DOM(:html, :div), Any[WebIO.Node{WebIO.DOM}(WebIO.DOM(:html, :p), Any[], Dict{Symbol, Any}(:attributes => Dict(\"data-bind\" => \"text: formatted_val\")))], Dict{Symbol, Any}(:className => \"interact-flex-row-right\"))], Dict{Symbol, Any}(:className => \"interact-flex-row interact-widget\")), Dict{String, Tuple{Observables.AbstractObservable, Union{Nothing, Bool}}}(\"changes\" => (Observable(0), nothing), \"index\" => (Observable{Any}(11), nothing)), Set{String}(), nothing, WebIO.Asset[WebIO.Asset(\"js\", \"knockout\", \"/home/dushya/.julia/packages/Knockout/HReiN/src/../assets/knockout.js\"), WebIO.Asset(\"js\", \"knockout_punches\", \"/home/dushya/.julia/packages/Knockout/HReiN/src/../assets/knockout_punches.js\"), WebIO.Asset(\"js\", nothing, \"/home/dushya/.julia/packages/InteractBase/LJXv3/src/../assets/all.js\"), WebIO.Asset(\"css\", nothing, \"/home/dushya/.julia/packages/InteractBase/LJXv3/src/../assets/style.css\"), WebIO.Asset(\"css\", nothing, \"/home/dushya/.julia/packages/Interact/PENUy/src/../assets/bulma_confined.min.css\")], Dict{Any, Any}(\"changes\" => Any[WebIO.JSString(\"(function (val){return (val!=this.model[\\\"changes\\\"]()) ? (this.valueFromJulia[\\\"changes\\\"]=true, this.model[\\\"changes\\\"](val)) : undefined})\")], \"index\" => Any[WebIO.JSString(\"(function (val){return (val!=this.model[\\\"index\\\"]()) ? (this.valueFromJulia[\\\"index\\\"]=true, this.model[\\\"index\\\"](val)) : undefined})\")]), WebIO.ConnectionPool(Channel{Any}(32), Set{WebIO.AbstractConnection}(), Base.GenericCondition{ReentrantLock}(Base.IntrusiveLinkedList{Task}(Task (runnable) @0x00007fc208bc7d00, Task (runnable) @0x00007fc208bc7d00), ReentrantLock(nothing, 0x00000000, 0x00, Base.GenericCondition{Base.Threads.SpinLock}(Base.IntrusiveLinkedList{Task}(nothing, nothing), Base.Threads.SpinLock(0)), (8, 0, 141733920768)))), WebIO.JSString[WebIO.JSString(\"function () {\\n    var handler = (function (ko, koPunches) {\\n    ko.punches.enableAll();\\n    ko.bindingHandlers.numericValue = {\\n        init: function(element, valueAccessor, allBindings, data, context) {\\n            var stringified = ko.observable(ko.unwrap(valueAccessor()));\\n            stringified.subscribe(function(value) {\\n                var val = parseFloat(value);\\n                if (!isNaN(val)) {\\n                    valueAccessor()(val);\\n                }\\n            });\\n            valueAccessor().subscribe(function(value) {\\n                var str = JSON.stringify(value);\\n                if ((str == \\\"0\\\") && ([\\\"-0\\\", \\\"-0.\\\"].indexOf(stringified()) >= 0))\\n                     return;\\n                 if ([\\\"null\\\", \\\"\\\"].indexOf(str) >= 0)\\n                     return;\\n                stringified(str);\\n            });\\n            ko.applyBindingsToNode(\\n                element,\\n                {\\n                    value: stringified,\\n                    valueUpdate: allBindings.get('valueUpdate'),\\n                },\\n                context,\\n            );\\n        }\\n    };\\n    var json_data = {\\\"formatted_vals\\\":[\\\"1.0\\\",\\\"1.2\\\",\\\"1.4\\\",\\\"1.6\\\",\\\"1.8\\\",\\\"2.0\\\",\\\"2.2\\\",\\\"2.4\\\",\\\"2.6\\\",\\\"2.8\\\",\\\"3.0\\\",\\\"3.2\\\",\\\"3.4\\\",\\\"3.6\\\",\\\"3.8\\\",\\\"4.0\\\",\\\"4.2\\\",\\\"4.4\\\",\\\"4.6\\\",\\\"4.8\\\",\\\"5.0\\\"],\\\"changes\\\":WebIO.getval({\\\"name\\\":\\\"changes\\\",\\\"scope\\\":\\\"5930760403006860369\\\",\\\"id\\\":\\\"16452195674960199409\\\",\\\"type\\\":\\\"observable\\\"}),\\\"index\\\":WebIO.getval({\\\"name\\\":\\\"index\\\",\\\"scope\\\":\\\"5930760403006860369\\\",\\\"id\\\":\\\"1749813147585608706\\\",\\\"type\\\":\\\"observable\\\"})};\\n    var self = this;\\n    function AppViewModel() {\\n        for (var key in json_data) {\\n            var el = json_data[key];\\n            this[key] = Array.isArray(el) ? ko.observableArray(el) : ko.observable(el);\\n        }\\n        \\n        [this[\\\"formatted_val\\\"]=ko.computed(    function(){\\n        return this.formatted_vals()[parseInt(this.index())-(1)];\\n    }\\n,this)]\\n        [this[\\\"changes\\\"].subscribe((function (val){!(this.valueFromJulia[\\\"changes\\\"]) ? (WebIO.setval({\\\"name\\\":\\\"changes\\\",\\\"scope\\\":\\\"5930760403006860369\\\",\\\"id\\\":\\\"16452195674960199409\\\",\\\"type\\\":\\\"observable\\\"},val)) : undefined; return this.valueFromJulia[\\\"changes\\\"]=false}),self),this[\\\"index\\\"].subscribe((function (val){!(this.valueFromJulia[\\\"index\\\"]) ? (WebIO.setval({\\\"name\\\":\\\"index\\\",\\\"scope\\\":\\\"5930760403006860369\\\",\\\"id\\\":\\\"1749813147585608706\\\",\\\"type\\\":\\\"observable\\\"},val)) : undefined; return this.valueFromJulia[\\\"index\\\"]=false}),self)]\\n        \\n    }\\n    self.model = new AppViewModel();\\n    self.valueFromJulia = {};\\n    for (var key in json_data) {\\n        self.valueFromJulia[key] = false;\\n    }\\n    ko.applyBindings(self.model, self.dom);\\n}\\n);\\n    (WebIO.importBlock({\\\"data\\\":[{\\\"name\\\":\\\"knockout\\\",\\\"type\\\":\\\"js\\\",\\\"url\\\":\\\"/assetserver/727383f2a47bd31570b7da84eee7b022dd6d7c78-knockout.js\\\"},{\\\"name\\\":\\\"knockout_punches\\\",\\\"type\\\":\\\"js\\\",\\\"url\\\":\\\"/assetserver/382b41b3b1bd9f26f75861d360bad7f8beea211f-knockout_punches.js\\\"}],\\\"type\\\":\\\"async_block\\\"})).then((imports) => handler.apply(this, imports));\\n}\\n\")])], Dict{Symbol, Any}(:className => \"field interact-widget\"))], Dict{Symbol, Any}(:style => Dict(\"display\" => \"flex\", \"flex-direction\" => \"column\"))), WebIO.Node{WebIO.DOM}(WebIO.DOM(:html, :div), Any[WebIO.Node{WebIO.DOM}(WebIO.DOM(:html, :div), Any[WebIO.Scope(WebIO.Node{WebIO.DOM}(WebIO.DOM(:html, :div), Any[], Dict{Symbol, Any}(:id => \"container\")), Dict{String, Tuple{Observables.AbstractObservable, Union{Nothing, Bool}}}(\"value\" => (Observable(\"\\\\;\\\\;\"), nothing)), Set{String}(), nothing, WebIO.Asset[WebIO.Asset(\"js\", nothing, \"/home/dushya/.julia/packages/InteractBase/LJXv3/src/../assets/katex.min.js\"), WebIO.Asset(\"css\", nothing, \"/home/dushya/.julia/packages/InteractBase/LJXv3/src/../assets/katex.min.css\")], Dict{Any, Any}(\"value\" => Any[WebIO.JSString(\"(function (txt){return this.k.render(txt,this.container)})\")]), WebIO.ConnectionPool(Channel{Any}(32), Set{WebIO.AbstractConnection}(), Base.GenericCondition{ReentrantLock}(Base.IntrusiveLinkedList{Task}(Task (runnable) @0x00007fc197126bd0, Task (runnable) @0x00007fc197126bd0), ReentrantLock(nothing, 0x00000000, 0x00, Base.GenericCondition{Base.Threads.SpinLock}(Base.IntrusiveLinkedList{Task}(nothing, nothing), Base.Threads.SpinLock(0)), (62, -1, 139779710648320)))), WebIO.JSString[WebIO.JSString(\"function () {\\n    var handler = ((function (k){this.k=k; this.container=this.dom.querySelector(\\\"#container\\\"); return k.render(\\\"\\\\\\\\;\\\\\\\\;\\\",this.container)}));\\n    (WebIO.importBlock({\\\"data\\\":[{\\\"name\\\":null,\\\"type\\\":\\\"js\\\",\\\"url\\\":\\\"/assetserver/dd22ed1bf1896c2748f3fe616ce0b838adc895c1-katex.min.js\\\"},{\\\"name\\\":null,\\\"type\\\":\\\"css\\\",\\\"url\\\":\\\"/assetserver/46517a424aa5e6cffc1360d7e0848b601c584ee3-katex.min.css\\\"}],\\\"type\\\":\\\"async_block\\\"})).then((imports) => handler.apply(this, imports));\\n}\\n\")])], Dict{Symbol, Any}(:className => \"interact-widget\")), WebIO.Node{WebIO.DOM}(WebIO.DOM(:html, :div), Any[WebIO.Scope(WebIO.Node{WebIO.DOM}(WebIO.DOM(:html, :button), Any[\"run\"], Dict{Symbol, Any}(:attributes => Dict{Any, Any}(\"data-bind\" => \"click: function (){this.clicks(this.clicks()+1)}, css: {'is-loading' : loading}\"), :className => \"is-medium button is-primary\", :style => Dict{String, Any}())), Dict{String, Tuple{Observables.AbstractObservable, Union{Nothing, Bool}}}(\"loading\" => (Observable(false), nothing), \"clicks\" => (Observable(0), nothing)), Set{String}(), nothing, WebIO.Asset[WebIO.Asset(\"js\", \"knockout\", \"/home/dushya/.julia/packages/Knockout/HReiN/src/../assets/knockout.js\"), WebIO.Asset(\"js\", \"knockout_punches\", \"/home/dushya/.julia/packages/Knockout/HReiN/src/../assets/knockout_punches.js\"), WebIO.Asset(\"js\", nothing, \"/home/dushya/.julia/packages/InteractBase/LJXv3/src/../assets/all.js\"), WebIO.Asset(\"css\", nothing, \"/home/dushya/.julia/packages/InteractBase/LJXv3/src/../assets/style.css\"), WebIO.Asset(\"css\", nothing, \"/home/dushya/.julia/packages/Interact/PENUy/src/../assets/bulma_confined.min.css\")], Dict{Any, Any}(\"loading\" => Any[WebIO.JSString(\"(function (val){return (val!=this.model[\\\"loading\\\"]()) ? (this.valueFromJulia[\\\"loading\\\"]=true, this.model[\\\"loading\\\"](val)) : undefined})\")], \"clicks\" => Any[WebIO.JSString(\"(function (val){return (val!=this.model[\\\"clicks\\\"]()) ? (this.valueFromJulia[\\\"clicks\\\"]=true, this.model[\\\"clicks\\\"](val)) : undefined})\")]), WebIO.ConnectionPool(Channel{Any}(32), Set{WebIO.AbstractConnection}(), Base.GenericCondition{ReentrantLock}(Base.IntrusiveLinkedList{Task}(Task (runnable) @0x00007fc208d3e720, Task (runnable) @0x00007fc208d3e720), ReentrantLock(nothing, 0x00000000, 0x00, Base.GenericCondition{Base.Threads.SpinLock}(Base.IntrusiveLinkedList{Task}(nothing, nothing), Base.Threads.SpinLock(0)), (8, 0, 141733920768)))), WebIO.JSString[WebIO.JSString(\"function () {\\n    var handler = (function (ko, koPunches) {\\n    ko.punches.enableAll();\\n    ko.bindingHandlers.numericValue = {\\n        init: function(element, valueAccessor, allBindings, data, context) {\\n            var stringified = ko.observable(ko.unwrap(valueAccessor()));\\n            stringified.subscribe(function(value) {\\n                var val = parseFloat(value);\\n                if (!isNaN(val)) {\\n                    valueAccessor()(val);\\n                }\\n            });\\n            valueAccessor().subscribe(function(value) {\\n                var str = JSON.stringify(value);\\n                if ((str == \\\"0\\\") && ([\\\"-0\\\", \\\"-0.\\\"].indexOf(stringified()) >= 0))\\n                     return;\\n                 if ([\\\"null\\\", \\\"\\\"].indexOf(str) >= 0)\\n                     return;\\n                stringified(str);\\n            });\\n            ko.applyBindingsToNode(\\n                element,\\n                {\\n                    value: stringified,\\n                    valueUpdate: allBindings.get('valueUpdate'),\\n                },\\n                context,\\n            );\\n        }\\n    };\\n    var json_data = {\\\"loading\\\":WebIO.getval({\\\"name\\\":\\\"loading\\\",\\\"scope\\\":\\\"14910291867008279652\\\",\\\"id\\\":\\\"7305091007263666687\\\",\\\"type\\\":\\\"observable\\\"}),\\\"clicks\\\":WebIO.getval({\\\"name\\\":\\\"clicks\\\",\\\"scope\\\":\\\"14910291867008279652\\\",\\\"id\\\":\\\"10165912732508848411\\\",\\\"type\\\":\\\"observable\\\"})};\\n    var self = this;\\n    function AppViewModel() {\\n        for (var key in json_data) {\\n            var el = json_data[key];\\n            this[key] = Array.isArray(el) ? ko.observableArray(el) : ko.observable(el);\\n        }\\n        \\n        \\n        [this[\\\"loading\\\"].subscribe((function (val){!(this.valueFromJulia[\\\"loading\\\"]) ? (WebIO.setval({\\\"name\\\":\\\"loading\\\",\\\"scope\\\":\\\"14910291867008279652\\\",\\\"id\\\":\\\"7305091007263666687\\\",\\\"type\\\":\\\"observable\\\"},val)) : undefined; return this.valueFromJulia[\\\"loading\\\"]=false}),self),this[\\\"clicks\\\"].subscribe((function (val){!(this.valueFromJulia[\\\"clicks\\\"]) ? (WebIO.setval({\\\"name\\\":\\\"clicks\\\",\\\"scope\\\":\\\"14910291867008279652\\\",\\\"id\\\":\\\"10165912732508848411\\\",\\\"type\\\":\\\"observable\\\"},val)) : undefined; return this.valueFromJulia[\\\"clicks\\\"]=false}),self)]\\n        \\n    }\\n    self.model = new AppViewModel();\\n    self.valueFromJulia = {};\\n    for (var key in json_data) {\\n        self.valueFromJulia[key] = false;\\n    }\\n    ko.applyBindings(self.model, self.dom);\\n}\\n);\\n    (WebIO.importBlock({\\\"data\\\":[{\\\"name\\\":\\\"knockout\\\",\\\"type\\\":\\\"js\\\",\\\"url\\\":\\\"/assetserver/727383f2a47bd31570b7da84eee7b022dd6d7c78-knockout.js\\\"},{\\\"name\\\":\\\"knockout_punches\\\",\\\"type\\\":\\\"js\\\",\\\"url\\\":\\\"/assetserver/382b41b3b1bd9f26f75861d360bad7f8beea211f-knockout_punches.js\\\"}],\\\"type\\\":\\\"async_block\\\"})).then((imports) => handler.apply(this, imports));\\n}\\n\")])], Dict{Symbol, Any}(:className => \"field interact-widget\")), WebIO.Node{WebIO.DOM}(WebIO.DOM(:html, :div), Any[WebIO.Scope(WebIO.Node{WebIO.DOM}(WebIO.DOM(:html, :div), Any[], Dict{Symbol, Any}(:id => \"container\")), Dict{String, Tuple{Observables.AbstractObservable, Union{Nothing, Bool}}}(\"value\" => (Observable(\"\\\\;\\\\;\"), nothing)), Set{String}(), nothing, WebIO.Asset[WebIO.Asset(\"js\", nothing, \"/home/dushya/.julia/packages/InteractBase/LJXv3/src/../assets/katex.min.js\"), WebIO.Asset(\"css\", nothing, \"/home/dushya/.julia/packages/InteractBase/LJXv3/src/../assets/katex.min.css\")], Dict{Any, Any}(\"value\" => Any[WebIO.JSString(\"(function (txt){return this.k.render(txt,this.container)})\")]), WebIO.ConnectionPool(Channel{Any}(32), Set{WebIO.AbstractConnection}(), Base.GenericCondition{ReentrantLock}(Base.IntrusiveLinkedList{Task}(Task (runnable) @0x00007fc197126bd0, Task (runnable) @0x00007fc197126bd0), ReentrantLock(nothing, 0x00000000, 0x00, Base.GenericCondition{Base.Threads.SpinLock}(Base.IntrusiveLinkedList{Task}(nothing, nothing), Base.Threads.SpinLock(0)), (62, -1, 139779710648320)))), WebIO.JSString[WebIO.JSString(\"function () {\\n    var handler = ((function (k){this.k=k; this.container=this.dom.querySelector(\\\"#container\\\"); return k.render(\\\"\\\\\\\\;\\\\\\\\;\\\",this.container)}));\\n    (WebIO.importBlock({\\\"data\\\":[{\\\"name\\\":null,\\\"type\\\":\\\"js\\\",\\\"url\\\":\\\"/assetserver/dd22ed1bf1896c2748f3fe616ce0b838adc895c1-katex.min.js\\\"},{\\\"name\\\":null,\\\"type\\\":\\\"css\\\",\\\"url\\\":\\\"/assetserver/46517a424aa5e6cffc1360d7e0848b601c584ee3-katex.min.css\\\"}],\\\"type\\\":\\\"async_block\\\"})).then((imports) => handler.apply(this, imports));\\n}\\n\")])], Dict{Symbol, Any}(:className => \"interact-widget\")), WebIO.Node{WebIO.DOM}(WebIO.DOM(:html, :div), Any[WebIO.Scope(WebIO.Node{WebIO.DOM}(WebIO.DOM(:html, :button), Any[\"stop\"], Dict{Symbol, Any}(:attributes => Dict{Any, Any}(\"data-bind\" => \"click: function (){this.clicks(this.clicks()+1)}, css: {'is-loading' : loading}\"), :className => \"is-medium button is-primary\", :style => Dict{String, Any}())), Dict{String, Tuple{Observables.AbstractObservable, Union{Nothing, Bool}}}(\"loading\" => (Observable(false), nothing), \"clicks\" => (Observable(0), nothing)), Set{String}(), nothing, WebIO.Asset[WebIO.Asset(\"js\", \"knockout\", \"/home/dushya/.julia/packages/Knockout/HReiN/src/../assets/knockout.js\"), WebIO.Asset(\"js\", \"knockout_punches\", \"/home/dushya/.julia/packages/Knockout/HReiN/src/../assets/knockout_punches.js\"), WebIO.Asset(\"js\", nothing, \"/home/dushya/.julia/packages/InteractBase/LJXv3/src/../assets/all.js\"), WebIO.Asset(\"css\", nothing, \"/home/dushya/.julia/packages/InteractBase/LJXv3/src/../assets/style.css\"), WebIO.Asset(\"css\", nothing, \"/home/dushya/.julia/packages/Interact/PENUy/src/../assets/bulma_confined.min.css\")], Dict{Any, Any}(\"loading\" => Any[WebIO.JSString(\"(function (val){return (val!=this.model[\\\"loading\\\"]()) ? (this.valueFromJulia[\\\"loading\\\"]=true, this.model[\\\"loading\\\"](val)) : undefined})\")], \"clicks\" => Any[WebIO.JSString(\"(function (val){return (val!=this.model[\\\"clicks\\\"]()) ? (this.valueFromJulia[\\\"clicks\\\"]=true, this.model[\\\"clicks\\\"](val)) : undefined})\")]), WebIO.ConnectionPool(Channel{Any}(32), Set{WebIO.AbstractConnection}(), Base.GenericCondition{ReentrantLock}(Base.IntrusiveLinkedList{Task}(Task (runnable) @0x00007fc197121140, Task (runnable) @0x00007fc197121140), ReentrantLock(nothing, 0x00000000, 0x00, Base.GenericCondition{Base.Threads.SpinLock}(Base.IntrusiveLinkedList{Task}(nothing, nothing), Base.Threads.SpinLock(0)), (2, 140471357665584, 140471335397936)))), WebIO.JSString[WebIO.JSString(\"function () {\\n    var handler = (function (ko, koPunches) {\\n    ko.punches.enableAll();\\n    ko.bindingHandlers.numericValue = {\\n        init: function(element, valueAccessor, allBindings, data, context) {\\n            var stringified = ko.observable(ko.unwrap(valueAccessor()));\\n            stringified.subscribe(function(value) {\\n                var val = parseFloat(value);\\n                if (!isNaN(val)) {\\n                    valueAccessor()(val);\\n                }\\n            });\\n            valueAccessor().subscribe(function(value) {\\n                var str = JSON.stringify(value);\\n                if ((str == \\\"0\\\") && ([\\\"-0\\\", \\\"-0.\\\"].indexOf(stringified()) >= 0))\\n                     return;\\n                 if ([\\\"null\\\", \\\"\\\"].indexOf(str) >= 0)\\n                     return;\\n                stringified(str);\\n            });\\n            ko.applyBindingsToNode(\\n                element,\\n                {\\n                    value: stringified,\\n                    valueUpdate: allBindings.get('valueUpdate'),\\n                },\\n                context,\\n            );\\n        }\\n    };\\n    var json_data = {\\\"loading\\\":WebIO.getval({\\\"name\\\":\\\"loading\\\",\\\"scope\\\":\\\"3812709668836486266\\\",\\\"id\\\":\\\"13631297882679307911\\\",\\\"type\\\":\\\"observable\\\"}),\\\"clicks\\\":WebIO.getval({\\\"name\\\":\\\"clicks\\\",\\\"scope\\\":\\\"3812709668836486266\\\",\\\"id\\\":\\\"7476060849340724557\\\",\\\"type\\\":\\\"observable\\\"})};\\n    var self = this;\\n    function AppViewModel() {\\n        for (var key in json_data) {\\n            var el = json_data[key];\\n            this[key] = Array.isArray(el) ? ko.observableArray(el) : ko.observable(el);\\n        }\\n        \\n        \\n        [this[\\\"loading\\\"].subscribe((function (val){!(this.valueFromJulia[\\\"loading\\\"]) ? (WebIO.setval({\\\"name\\\":\\\"loading\\\",\\\"scope\\\":\\\"3812709668836486266\\\",\\\"id\\\":\\\"13631297882679307911\\\",\\\"type\\\":\\\"observable\\\"},val)) : undefined; return this.valueFromJulia[\\\"loading\\\"]=false}),self),this[\\\"clicks\\\"].subscribe((function (val){!(this.valueFromJulia[\\\"clicks\\\"]) ? (WebIO.setval({\\\"name\\\":\\\"clicks\\\",\\\"scope\\\":\\\"3812709668836486266\\\",\\\"id\\\":\\\"7476060849340724557\\\",\\\"type\\\":\\\"observable\\\"},val)) : undefined; return this.valueFromJulia[\\\"clicks\\\"]=false}),self)]\\n        \\n    }\\n    self.model = new AppViewModel();\\n    self.valueFromJulia = {};\\n    for (var key in json_data) {\\n        self.valueFromJulia[key] = false;\\n    }\\n    ko.applyBindings(self.model, self.dom);\\n}\\n);\\n    (WebIO.importBlock({\\\"data\\\":[{\\\"name\\\":\\\"knockout\\\",\\\"type\\\":\\\"js\\\",\\\"url\\\":\\\"/assetserver/727383f2a47bd31570b7da84eee7b022dd6d7c78-knockout.js\\\"},{\\\"name\\\":\\\"knockout_punches\\\",\\\"type\\\":\\\"js\\\",\\\"url\\\":\\\"/assetserver/382b41b3b1bd9f26f75861d360bad7f8beea211f-knockout_punches.js\\\"}],\\\"type\\\":\\\"async_block\\\"})).then((imports) => handler.apply(this, imports));\\n}\\n\")])], Dict{Symbol, Any}(:className => \"field interact-widget\")), WebIO.Node{WebIO.DOM}(WebIO.DOM(:html, :div), Any[WebIO.Scope(WebIO.Node{WebIO.DOM}(WebIO.DOM(:html, :div), Any[], Dict{Symbol, Any}(:id => \"container\")), Dict{String, Tuple{Observables.AbstractObservable, Union{Nothing, Bool}}}(\"value\" => (Observable(\"\\\\;\\\\;\"), nothing)), Set{String}(), nothing, WebIO.Asset[WebIO.Asset(\"js\", nothing, \"/home/dushya/.julia/packages/InteractBase/LJXv3/src/../assets/katex.min.js\"), WebIO.Asset(\"css\", nothing, \"/home/dushya/.julia/packages/InteractBase/LJXv3/src/../assets/katex.min.css\")], Dict{Any, Any}(\"value\" => Any[WebIO.JSString(\"(function (txt){return this.k.render(txt,this.container)})\")]), WebIO.ConnectionPool(Channel{Any}(32), Set{WebIO.AbstractConnection}(), Base.GenericCondition{ReentrantLock}(Base.IntrusiveLinkedList{Task}(Task (runnable) @0x00007fc197126bd0, Task (runnable) @0x00007fc197126bd0), ReentrantLock(nothing, 0x00000000, 0x00, Base.GenericCondition{Base.Threads.SpinLock}(Base.IntrusiveLinkedList{Task}(nothing, nothing), Base.Threads.SpinLock(0)), (62, -1, 139779710648320)))), WebIO.JSString[WebIO.JSString(\"function () {\\n    var handler = ((function (k){this.k=k; this.container=this.dom.querySelector(\\\"#container\\\"); return k.render(\\\"\\\\\\\\;\\\\\\\\;\\\",this.container)}));\\n    (WebIO.importBlock({\\\"data\\\":[{\\\"name\\\":null,\\\"type\\\":\\\"js\\\",\\\"url\\\":\\\"/assetserver/dd22ed1bf1896c2748f3fe616ce0b838adc895c1-katex.min.js\\\"},{\\\"name\\\":null,\\\"type\\\":\\\"css\\\",\\\"url\\\":\\\"/assetserver/46517a424aa5e6cffc1360d7e0848b601c584ee3-katex.min.css\\\"}],\\\"type\\\":\\\"async_block\\\"})).then((imports) => handler.apply(this, imports));\\n}\\n\")])], Dict{Symbol, Any}(:className => \"interact-widget\")), WebIO.Node{WebIO.DOM}(WebIO.DOM(:html, :div), Any[WebIO.Scope(WebIO.Node{WebIO.DOM}(WebIO.DOM(:html, :button), Any[\"reset\"], Dict{Symbol, Any}(:attributes => Dict{Any, Any}(\"data-bind\" => \"click: function (){this.clicks(this.clicks()+1)}, css: {'is-loading' : loading}\"), :className => \"is-medium button is-primary\", :style => Dict{String, Any}())), Dict{String, Tuple{Observables.AbstractObservable, Union{Nothing, Bool}}}(\"loading\" => (Observable(false), nothing), \"clicks\" => (Observable(0), nothing)), Set{String}(), nothing, WebIO.Asset[WebIO.Asset(\"js\", \"knockout\", \"/home/dushya/.julia/packages/Knockout/HReiN/src/../assets/knockout.js\"), WebIO.Asset(\"js\", \"knockout_punches\", \"/home/dushya/.julia/packages/Knockout/HReiN/src/../assets/knockout_punches.js\"), WebIO.Asset(\"js\", nothing, \"/home/dushya/.julia/packages/InteractBase/LJXv3/src/../assets/all.js\"), WebIO.Asset(\"css\", nothing, \"/home/dushya/.julia/packages/InteractBase/LJXv3/src/../assets/style.css\"), WebIO.Asset(\"css\", nothing, \"/home/dushya/.julia/packages/Interact/PENUy/src/../assets/bulma_confined.min.css\")], Dict{Any, Any}(\"loading\" => Any[WebIO.JSString(\"(function (val){return (val!=this.model[\\\"loading\\\"]()) ? (this.valueFromJulia[\\\"loading\\\"]=true, this.model[\\\"loading\\\"](val)) : undefined})\")], \"clicks\" => Any[WebIO.JSString(\"(function (val){return (val!=this.model[\\\"clicks\\\"]()) ? (this.valueFromJulia[\\\"clicks\\\"]=true, this.model[\\\"clicks\\\"](val)) : undefined})\")]), WebIO.ConnectionPool(Channel{Any}(32), Set{WebIO.AbstractConnection}(), Base.GenericCondition{ReentrantLock}(Base.IntrusiveLinkedList{Task}(Task (runnable) @0x00007fc197123850, Task (runnable) @0x00007fc197123850), ReentrantLock(nothing, 0x00000000, 0x00, Base.GenericCondition{Base.Threads.SpinLock}(Base.IntrusiveLinkedList{Task}(nothing, nothing), Base.Threads.SpinLock(0)), (0, 0, 141733920768)))), WebIO.JSString[WebIO.JSString(\"function () {\\n    var handler = (function (ko, koPunches) {\\n    ko.punches.enableAll();\\n    ko.bindingHandlers.numericValue = {\\n        init: function(element, valueAccessor, allBindings, data, context) {\\n            var stringified = ko.observable(ko.unwrap(valueAccessor()));\\n            stringified.subscribe(function(value) {\\n                var val = parseFloat(value);\\n                if (!isNaN(val)) {\\n                    valueAccessor()(val);\\n                }\\n            });\\n            valueAccessor().subscribe(function(value) {\\n                var str = JSON.stringify(value);\\n                if ((str == \\\"0\\\") && ([\\\"-0\\\", \\\"-0.\\\"].indexOf(stringified()) >= 0))\\n                     return;\\n                 if ([\\\"null\\\", \\\"\\\"].indexOf(str) >= 0)\\n                     return;\\n                stringified(str);\\n            });\\n            ko.applyBindingsToNode(\\n                element,\\n                {\\n                    value: stringified,\\n                    valueUpdate: allBindings.get('valueUpdate'),\\n                },\\n                context,\\n            );\\n        }\\n    };\\n    var json_data = {\\\"loading\\\":WebIO.getval({\\\"name\\\":\\\"loading\\\",\\\"scope\\\":\\\"12685153048897053486\\\",\\\"id\\\":\\\"354380450628356907\\\",\\\"type\\\":\\\"observable\\\"}),\\\"clicks\\\":WebIO.getval({\\\"name\\\":\\\"clicks\\\",\\\"scope\\\":\\\"12685153048897053486\\\",\\\"id\\\":\\\"5430486305339466890\\\",\\\"type\\\":\\\"observable\\\"})};\\n    var self = this;\\n    function AppViewModel() {\\n        for (var key in json_data) {\\n            var el = json_data[key];\\n            this[key] = Array.isArray(el) ? ko.observableArray(el) : ko.observable(el);\\n        }\\n        \\n        \\n        [this[\\\"loading\\\"].subscribe((function (val){!(this.valueFromJulia[\\\"loading\\\"]) ? (WebIO.setval({\\\"name\\\":\\\"loading\\\",\\\"scope\\\":\\\"12685153048897053486\\\",\\\"id\\\":\\\"354380450628356907\\\",\\\"type\\\":\\\"observable\\\"},val)) : undefined; return this.valueFromJulia[\\\"loading\\\"]=false}),self),this[\\\"clicks\\\"].subscribe((function (val){!(this.valueFromJulia[\\\"clicks\\\"]) ? (WebIO.setval({\\\"name\\\":\\\"clicks\\\",\\\"scope\\\":\\\"12685153048897053486\\\",\\\"id\\\":\\\"5430486305339466890\\\",\\\"type\\\":\\\"observable\\\"},val)) : undefined; return this.valueFromJulia[\\\"clicks\\\"]=false}),self)]\\n        \\n    }\\n    self.model = new AppViewModel();\\n    self.valueFromJulia = {};\\n    for (var key in json_data) {\\n        self.valueFromJulia[key] = false;\\n    }\\n    ko.applyBindings(self.model, self.dom);\\n}\\n);\\n    (WebIO.importBlock({\\\"data\\\":[{\\\"name\\\":\\\"knockout\\\",\\\"type\\\":\\\"js\\\",\\\"url\\\":\\\"/assetserver/727383f2a47bd31570b7da84eee7b022dd6d7c78-knockout.js\\\"},{\\\"name\\\":\\\"knockout_punches\\\",\\\"type\\\":\\\"js\\\",\\\"url\\\":\\\"/assetserver/382b41b3b1bd9f26f75861d360bad7f8beea211f-knockout_punches.js\\\"}],\\\"type\\\":\\\"async_block\\\"})).then((imports) => handler.apply(this, imports));\\n}\\n\")])], Dict{Symbol, Any}(:className => \"field interact-widget\")), WebIO.Node{WebIO.DOM}(WebIO.DOM(:html, :div), Any[WebIO.Scope(WebIO.Node{WebIO.DOM}(WebIO.DOM(:html, :div), Any[], Dict{Symbol, Any}(:id => \"container\")), Dict{String, Tuple{Observables.AbstractObservable, Union{Nothing, Bool}}}(\"value\" => (Observable(\"\\\\;\\\\;\"), nothing)), Set{String}(), nothing, WebIO.Asset[WebIO.Asset(\"js\", nothing, \"/home/dushya/.julia/packages/InteractBase/LJXv3/src/../assets/katex.min.js\"), WebIO.Asset(\"css\", nothing, \"/home/dushya/.julia/packages/InteractBase/LJXv3/src/../assets/katex.min.css\")], Dict{Any, Any}(\"value\" => Any[WebIO.JSString(\"(function (txt){return this.k.render(txt,this.container)})\")]), WebIO.ConnectionPool(Channel{Any}(32), Set{WebIO.AbstractConnection}(), Base.GenericCondition{ReentrantLock}(Base.IntrusiveLinkedList{Task}(Task (runnable) @0x00007fc197126bd0, Task (runnable) @0x00007fc197126bd0), ReentrantLock(nothing, 0x00000000, 0x00, Base.GenericCondition{Base.Threads.SpinLock}(Base.IntrusiveLinkedList{Task}(nothing, nothing), Base.Threads.SpinLock(0)), (62, -1, 139779710648320)))), WebIO.JSString[WebIO.JSString(\"function () {\\n    var handler = ((function (k){this.k=k; this.container=this.dom.querySelector(\\\"#container\\\"); return k.render(\\\"\\\\\\\\;\\\\\\\\;\\\",this.container)}));\\n    (WebIO.importBlock({\\\"data\\\":[{\\\"name\\\":null,\\\"type\\\":\\\"js\\\",\\\"url\\\":\\\"/assetserver/dd22ed1bf1896c2748f3fe616ce0b838adc895c1-katex.min.js\\\"},{\\\"name\\\":null,\\\"type\\\":\\\"css\\\",\\\"url\\\":\\\"/assetserver/46517a424aa5e6cffc1360d7e0848b601c584ee3-katex.min.css\\\"}],\\\"type\\\":\\\"async_block\\\"})).then((imports) => handler.apply(this, imports));\\n}\\n\")])], Dict{Symbol, Any}(:className => \"interact-widget\")), WebIO.Node{WebIO.DOM}(WebIO.DOM(:html, :div), Any[WebIO.Scope(WebIO.Node{WebIO.DOM}(WebIO.DOM(:html, :button), Any[\"save\"], Dict{Symbol, Any}(:attributes => Dict{Any, Any}(\"data-bind\" => \"click: function (){this.clicks(this.clicks()+1)}, css: {'is-loading' : loading}\"), :className => \"is-medium button is-primary\", :style => Dict{String, Any}())), Dict{String, Tuple{Observables.AbstractObservable, Union{Nothing, Bool}}}(\"loading\" => (Observable(false), nothing), \"clicks\" => (Observable(0), nothing)), Set{String}(), nothing, WebIO.Asset[WebIO.Asset(\"js\", \"knockout\", \"/home/dushya/.julia/packages/Knockout/HReiN/src/../assets/knockout.js\"), WebIO.Asset(\"js\", \"knockout_punches\", \"/home/dushya/.julia/packages/Knockout/HReiN/src/../assets/knockout_punches.js\"), WebIO.Asset(\"js\", nothing, \"/home/dushya/.julia/packages/InteractBase/LJXv3/src/../assets/all.js\"), WebIO.Asset(\"css\", nothing, \"/home/dushya/.julia/packages/InteractBase/LJXv3/src/../assets/style.css\"), WebIO.Asset(\"css\", nothing, \"/home/dushya/.julia/packages/Interact/PENUy/src/../assets/bulma_confined.min.css\")], Dict{Any, Any}(\"loading\" => Any[WebIO.JSString(\"(function (val){return (val!=this.model[\\\"loading\\\"]()) ? (this.valueFromJulia[\\\"loading\\\"]=true, this.model[\\\"loading\\\"](val)) : undefined})\")], \"clicks\" => Any[WebIO.JSString(\"(function (val){return (val!=this.model[\\\"clicks\\\"]()) ? (this.valueFromJulia[\\\"clicks\\\"]=true, this.model[\\\"clicks\\\"](val)) : undefined})\")]), WebIO.ConnectionPool(Channel{Any}(32), Set{WebIO.AbstractConnection}(), Base.GenericCondition{ReentrantLock}(Base.IntrusiveLinkedList{Task}(Task (runnable) @0x00007fc19962a0e0, Task (runnable) @0x00007fc19962a0e0), ReentrantLock(nothing, 0x00000000, 0x00, Base.GenericCondition{Base.Threads.SpinLock}(Base.IntrusiveLinkedList{Task}(nothing, nothing), Base.Threads.SpinLock(0)), (0, 0, 139779710648320)))), WebIO.JSString[WebIO.JSString(\"function () {\\n    var handler = (function (ko, koPunches) {\\n    ko.punches.enableAll();\\n    ko.bindingHandlers.numericValue = {\\n        init: function(element, valueAccessor, allBindings, data, context) {\\n            var stringified = ko.observable(ko.unwrap(valueAccessor()));\\n            stringified.subscribe(function(value) {\\n                var val = parseFloat(value);\\n                if (!isNaN(val)) {\\n                    valueAccessor()(val);\\n                }\\n            });\\n            valueAccessor().subscribe(function(value) {\\n                var str = JSON.stringify(value);\\n                if ((str == \\\"0\\\") && ([\\\"-0\\\", \\\"-0.\\\"].indexOf(stringified()) >= 0))\\n                     return;\\n                 if ([\\\"null\\\", \\\"\\\"].indexOf(str) >= 0)\\n                     return;\\n                stringified(str);\\n            });\\n            ko.applyBindingsToNode(\\n                element,\\n                {\\n                    value: stringified,\\n                    valueUpdate: allBindings.get('valueUpdate'),\\n                },\\n                context,\\n            );\\n        }\\n    };\\n    var json_data = {\\\"loading\\\":WebIO.getval({\\\"name\\\":\\\"loading\\\",\\\"scope\\\":\\\"11399965161068256468\\\",\\\"id\\\":\\\"10418103239950567406\\\",\\\"type\\\":\\\"observable\\\"}),\\\"clicks\\\":WebIO.getval({\\\"name\\\":\\\"clicks\\\",\\\"scope\\\":\\\"11399965161068256468\\\",\\\"id\\\":\\\"12357416504220703470\\\",\\\"type\\\":\\\"observable\\\"})};\\n    var self = this;\\n    function AppViewModel() {\\n        for (var key in json_data) {\\n            var el = json_data[key];\\n            this[key] = Array.isArray(el) ? ko.observableArray(el) : ko.observable(el);\\n        }\\n        \\n        \\n        [this[\\\"loading\\\"].subscribe((function (val){!(this.valueFromJulia[\\\"loading\\\"]) ? (WebIO.setval({\\\"name\\\":\\\"loading\\\",\\\"scope\\\":\\\"11399965161068256468\\\",\\\"id\\\":\\\"10418103239950567406\\\",\\\"type\\\":\\\"observable\\\"},val)) : undefined; return this.valueFromJulia[\\\"loading\\\"]=false}),self),this[\\\"clicks\\\"].subscribe((function (val){!(this.valueFromJulia[\\\"clicks\\\"]) ? (WebIO.setval({\\\"name\\\":\\\"clicks\\\",\\\"scope\\\":\\\"11399965161068256468\\\",\\\"id\\\":\\\"12357416504220703470\\\",\\\"type\\\":\\\"observable\\\"},val)) : undefined; return this.valueFromJulia[\\\"clicks\\\"]=false}),self)]\\n        \\n    }\\n    self.model = new AppViewModel();\\n    self.valueFromJulia = {};\\n    for (var key in json_data) {\\n        self.valueFromJulia[key] = false;\\n    }\\n    ko.applyBindings(self.model, self.dom);\\n}\\n);\\n    (WebIO.importBlock({\\\"data\\\":[{\\\"name\\\":\\\"knockout\\\",\\\"type\\\":\\\"js\\\",\\\"url\\\":\\\"/assetserver/727383f2a47bd31570b7da84eee7b022dd6d7c78-knockout.js\\\"},{\\\"name\\\":\\\"knockout_punches\\\",\\\"type\\\":\\\"js\\\",\\\"url\\\":\\\"/assetserver/382b41b3b1bd9f26f75861d360bad7f8beea211f-knockout_punches.js\\\"}],\\\"type\\\":\\\"async_block\\\"})).then((imports) => handler.apply(this, imports));\\n}\\n\")])], Dict{Symbol, Any}(:className => \"field interact-widget\"))], Dict{Symbol, Any}(:style => Dict(\"display\" => \"flex\", \"flex-direction\" => \"row\")))], Dict{Symbol, Any}(:style => Dict(\"display\" => \"flex\", \"flex-direction\" => \"column\"))), WebIO.Node{WebIO.DOM}(WebIO.DOM(:html, :div), Any[WebIO.Scope(WebIO.Node{WebIO.DOM}(WebIO.DOM(:html, :div), Any[], Dict{Symbol, Any}(:id => \"container\")), Dict{String, Tuple{Observables.AbstractObservable, Union{Nothing, Bool}}}(\"value\" => (Observable(\"\\\\;\\\\;\"), nothing)), Set{String}(), nothing, WebIO.Asset[WebIO.Asset(\"js\", nothing, \"/home/dushya/.julia/packages/InteractBase/LJXv3/src/../assets/katex.min.js\"), WebIO.Asset(\"css\", nothing, \"/home/dushya/.julia/packages/InteractBase/LJXv3/src/../assets/katex.min.css\")], Dict{Any, Any}(\"value\" => Any[WebIO.JSString(\"(function (txt){return this.k.render(txt,this.container)})\")]), WebIO.ConnectionPool(Channel{Any}(32), Set{WebIO.AbstractConnection}(), Base.GenericCondition{ReentrantLock}(Base.IntrusiveLinkedList{Task}(Task (runnable) @0x00007fc197126bd0, Task (runnable) @0x00007fc197126bd0), ReentrantLock(nothing, 0x00000000, 0x00, Base.GenericCondition{Base.Threads.SpinLock}(Base.IntrusiveLinkedList{Task}(nothing, nothing), Base.Threads.SpinLock(0)), (62, -1, 139779710648320)))), WebIO.JSString[WebIO.JSString(\"function () {\\n    var handler = ((function (k){this.k=k; this.container=this.dom.querySelector(\\\"#container\\\"); return k.render(\\\"\\\\\\\\;\\\\\\\\;\\\",this.container)}));\\n    (WebIO.importBlock({\\\"data\\\":[{\\\"name\\\":null,\\\"type\\\":\\\"js\\\",\\\"url\\\":\\\"/assetserver/dd22ed1bf1896c2748f3fe616ce0b838adc895c1-katex.min.js\\\"},{\\\"name\\\":null,\\\"type\\\":\\\"css\\\",\\\"url\\\":\\\"/assetserver/46517a424aa5e6cffc1360d7e0848b601c584ee3-katex.min.css\\\"}],\\\"type\\\":\\\"async_block\\\"})).then((imports) => handler.apply(this, imports));\\n}\\n\")])], Dict{Symbol, Any}(:className => \"interact-widget\")), Observable(Luxor.Drawing(430.0, 430.0, \"\", Cairo.CairoSurfaceBase{UInt32}(Ptr{Nothing} @0x0000000000000000, 430.0, 430.0), Cairo.CairoContext(Ptr{Nothing} @0x0000000006dca4c0, Cairo.CairoSurfaceBase{UInt32}(Ptr{Nothing} @0x0000000000000000, 430.0, 430.0), Ptr{Nothing} @0x00000000063e06c0), :png, 0.0, 0.0, 0.0, 1.0, IOBuffer(data=UInt8[...], readable=true, writable=true, seekable=true, append=false, size=1888, maxsize=Inf, ptr=1889, mark=-1), UInt8[0x89, 0x50, 0x4e, 0x47, 0x0d, 0x0a, 0x1a, 0x0a, 0x00, 0x00  …  0x00, 0x00, 0x49, 0x45, 0x4e, 0x44, 0xae, 0x42, 0x60, 0x82], false)), WebIO.Node{WebIO.DOM}(WebIO.DOM(:html, :div), Any[WebIO.Scope(WebIO.Node{WebIO.DOM}(WebIO.DOM(:html, :div), Any[], Dict{Symbol, Any}(:id => \"container\")), Dict{String, Tuple{Observables.AbstractObservable, Union{Nothing, Bool}}}(\"value\" => (Observable(\"\\\\;\\\\;\"), nothing)), Set{String}(), nothing, WebIO.Asset[WebIO.Asset(\"js\", nothing, \"/home/dushya/.julia/packages/InteractBase/LJXv3/src/../assets/katex.min.js\"), WebIO.Asset(\"css\", nothing, \"/home/dushya/.julia/packages/InteractBase/LJXv3/src/../assets/katex.min.css\")], Dict{Any, Any}(\"value\" => Any[WebIO.JSString(\"(function (txt){return this.k.render(txt,this.container)})\")]), WebIO.ConnectionPool(Channel{Any}(32), Set{WebIO.AbstractConnection}(), Base.GenericCondition{ReentrantLock}(Base.IntrusiveLinkedList{Task}(Task (runnable) @0x00007fc197126bd0, Task (runnable) @0x00007fc197126bd0), ReentrantLock(nothing, 0x00000000, 0x00, Base.GenericCondition{Base.Threads.SpinLock}(Base.IntrusiveLinkedList{Task}(nothing, nothing), Base.Threads.SpinLock(0)), (62, -1, 139779710648320)))), WebIO.JSString[WebIO.JSString(\"function () {\\n    var handler = ((function (k){this.k=k; this.container=this.dom.querySelector(\\\"#container\\\"); return k.render(\\\"\\\\\\\\;\\\\\\\\;\\\",this.container)}));\\n    (WebIO.importBlock({\\\"data\\\":[{\\\"name\\\":null,\\\"type\\\":\\\"js\\\",\\\"url\\\":\\\"/assetserver/dd22ed1bf1896c2748f3fe616ce0b838adc895c1-katex.min.js\\\"},{\\\"name\\\":null,\\\"type\\\":\\\"css\\\",\\\"url\\\":\\\"/assetserver/46517a424aa5e6cffc1360d7e0848b601c584ee3-katex.min.css\\\"}],\\\"type\\\":\\\"async_block\\\"})).then((imports) => handler.apply(this, imports));\\n}\\n\")])], Dict{Symbol, Any}(:className => \"interact-widget\")), WebIO.Node{WebIO.DOM}(WebIO.DOM(:html, :div), Any[], Dict{Symbol, Any}(:style => Dict(\"display\" => \"flex\", \"flex-direction\" => \"column\")))], Dict{Symbol, Any}(:style => Dict(\"display\" => \"flex\", \"flex-direction\" => \"row\")))], Dict{Symbol, Any}(:style => Dict(\"display\" => \"flex\", \"flex-direction\" => \"column\")))"
      ]
     },
     "execution_count": 11,
     "metadata": {
      "application/vnd.webio.node+json": {
       "kernelId": "ecf7d646-f686-4884-9f7b-5855efce8b80"
      }
     },
     "output_type": "execute_result"
    }
   ],
   "source": [
    "create_interactive_app(model, initialiser= initialiser!,\n",
    "    step_rule= step_rule!,\n",
    "    model_controls=[(:gravity, \"slider\", 1:0.2:5.0)], \n",
    "    agent_controls=[(:vel, \"slider\", [Vect(x, 0.0) for x in -10.0:0.1:5.0])],\n",
    "    frames=200, tail = (30, agent -> agent.color == cl\"blue\"))  "
   ]
  },
  {
   "cell_type": "markdown",
   "metadata": {},
   "source": [
    "## Step 5: Fetch data\n",
    "\n",
    "In this simple model, the only data we have collected is the position and velocity of the planet. We can get this data as follows. "
   ]
  },
  {
   "cell_type": "code",
   "execution_count": 12,
   "metadata": {
    "scrolled": true
   },
   "outputs": [
    {
     "data": {
      "text/html": [
       "<div><div style = \"float: left;\"><span>501×2 DataFrame</span></div><div style = \"float: right;\"><span style = \"font-style: italic;\">476 rows omitted</span></div><div style = \"clear: both;\"></div></div><div class = \"data-frame\" style = \"overflow-x: scroll;\"><table class = \"data-frame\" style = \"margin-bottom: 6px;\"><thead><tr class = \"header\"><th class = \"rowNumber\" style = \"font-weight: bold; text-align: right;\">Row</th><th style = \"text-align: left;\">pos</th><th style = \"text-align: left;\">vel</th></tr><tr class = \"subheader headerLastRow\"><th class = \"rowNumber\" style = \"font-weight: bold; text-align: right;\"></th><th title = \"Vect{2, Float64}\" style = \"text-align: left;\">Vect…</th><th title = \"Vect{2, Float64}\" style = \"text-align: left;\">Vect…</th></tr></thead><tbody><tr><td class = \"rowNumber\" style = \"font-weight: bold; text-align: right;\">1</td><td style = \"text-align: left;\">(5.0, 8.0)\\n</td><td style = \"text-align: left;\">(-1.0, 0.0)\\n</td></tr><tr><td class = \"rowNumber\" style = \"font-weight: bold; text-align: right;\">2</td><td style = \"text-align: left;\">(4.9, 7.99667)\\n</td><td style = \"text-align: left;\">(-1.0, -0.0333333)\\n</td></tr><tr><td class = \"rowNumber\" style = \"font-weight: bold; text-align: right;\">3</td><td style = \"text-align: left;\">(4.80011, 7.99)\\n</td><td style = \"text-align: left;\">(-0.998887, -0.0666851)\\n</td></tr><tr><td class = \"rowNumber\" style = \"font-weight: bold; text-align: right;\">4</td><td style = \"text-align: left;\">(4.70045, 7.98)\\n</td><td style = \"text-align: left;\">(-0.996659, -0.100018)\\n</td></tr><tr><td class = \"rowNumber\" style = \"font-weight: bold; text-align: right;\">5</td><td style = \"text-align: left;\">(4.60111, 7.96667)\\n</td><td style = \"text-align: left;\">(-0.993314, -0.133295)\\n</td></tr><tr><td class = \"rowNumber\" style = \"font-weight: bold; text-align: right;\">6</td><td style = \"text-align: left;\">(4.50223, 7.95002)\\n</td><td style = \"text-align: left;\">(-0.988852, -0.166478)\\n</td></tr><tr><td class = \"rowNumber\" style = \"font-weight: bold; text-align: right;\">7</td><td style = \"text-align: left;\">(4.4039, 7.93007)\\n</td><td style = \"text-align: left;\">(-0.983275, -0.199528)\\n</td></tr><tr><td class = \"rowNumber\" style = \"font-weight: bold; text-align: right;\">8</td><td style = \"text-align: left;\">(4.30624, 7.90683)\\n</td><td style = \"text-align: left;\">(-0.976586, -0.23241)\\n</td></tr><tr><td class = \"rowNumber\" style = \"font-weight: bold; text-align: right;\">9</td><td style = \"text-align: left;\">(4.20936, 7.88032)\\n</td><td style = \"text-align: left;\">(-0.968788, -0.265083)\\n</td></tr><tr><td class = \"rowNumber\" style = \"font-weight: bold; text-align: right;\">10</td><td style = \"text-align: left;\">(4.11338, 7.85057)\\n</td><td style = \"text-align: left;\">(-0.959886, -0.297511)\\n</td></tr><tr><td class = \"rowNumber\" style = \"font-weight: bold; text-align: right;\">11</td><td style = \"text-align: left;\">(4.01839, 7.8176)\\n</td><td style = \"text-align: left;\">(-0.949888, -0.329655)\\n</td></tr><tr><td class = \"rowNumber\" style = \"font-weight: bold; text-align: right;\">12</td><td style = \"text-align: left;\">(3.92451, 7.78145)\\n</td><td style = \"text-align: left;\">(-0.938802, -0.361478)\\n</td></tr><tr><td class = \"rowNumber\" style = \"font-weight: bold; text-align: right;\">13</td><td style = \"text-align: left;\">(3.83184, 7.74216)\\n</td><td style = \"text-align: left;\">(-0.926636, -0.392941)\\n</td></tr><tr><td style = \"text-align: right;\">&vellip;</td><td style = \"text-align: right;\">&vellip;</td><td style = \"text-align: right;\">&vellip;</td></tr><tr><td class = \"rowNumber\" style = \"font-weight: bold; text-align: right;\">490</td><td style = \"text-align: left;\">(6.80825, 2.56646)\\n</td><td style = \"text-align: left;\">(0.811831, 0.566502)\\n</td></tr><tr><td class = \"rowNumber\" style = \"font-weight: bold; text-align: right;\">491</td><td style = \"text-align: left;\">(6.88749, 2.62573)\\n</td><td style = \"text-align: left;\">(0.792365, 0.592699)\\n</td></tr><tr><td class = \"rowNumber\" style = \"font-weight: bold; text-align: right;\">492</td><td style = \"text-align: left;\">(6.9647, 2.68755)\\n</td><td style = \"text-align: left;\">(0.772073, 0.618225)\\n</td></tr><tr><td class = \"rowNumber\" style = \"font-weight: bold; text-align: right;\">493</td><td style = \"text-align: left;\">(7.03979, 2.75186)\\n</td><td style = \"text-align: left;\">(0.750976, 0.643056)\\n</td></tr><tr><td class = \"rowNumber\" style = \"font-weight: bold; text-align: right;\">494</td><td style = \"text-align: left;\">(7.1127, 2.81858)\\n</td><td style = \"text-align: left;\">(0.7291, 0.667166)\\n</td></tr><tr><td class = \"rowNumber\" style = \"font-weight: bold; text-align: right;\">495</td><td style = \"text-align: left;\">(7.18335, 2.88763)\\n</td><td style = \"text-align: left;\">(0.706468, 0.690534)\\n</td></tr><tr><td class = \"rowNumber\" style = \"font-weight: bold; text-align: right;\">496</td><td style = \"text-align: left;\">(7.25166, 2.95894)\\n</td><td style = \"text-align: left;\">(0.683107, 0.713136)\\n</td></tr><tr><td class = \"rowNumber\" style = \"font-weight: bold; text-align: right;\">497</td><td style = \"text-align: left;\">(7.31756, 3.03244)\\n</td><td style = \"text-align: left;\">(0.659041, 0.734951)\\n</td></tr><tr><td class = \"rowNumber\" style = \"font-weight: bold; text-align: right;\">498</td><td style = \"text-align: left;\">(7.38099, 3.10804)\\n</td><td style = \"text-align: left;\">(0.634296, 0.755959)\\n</td></tr><tr><td class = \"rowNumber\" style = \"font-weight: bold; text-align: right;\">499</td><td style = \"text-align: left;\">(7.44188, 3.18565)\\n</td><td style = \"text-align: left;\">(0.608901, 0.776139)\\n</td></tr><tr><td class = \"rowNumber\" style = \"font-weight: bold; text-align: right;\">500</td><td style = \"text-align: left;\">(7.50017, 3.2652)\\n</td><td style = \"text-align: left;\">(0.582881, 0.795472)\\n</td></tr><tr><td class = \"rowNumber\" style = \"font-weight: bold; text-align: right;\">501</td><td style = \"text-align: left;\">(7.5558, 3.34659)\\n</td><td style = \"text-align: left;\">(0.556264, 0.81394)\\n</td></tr></tbody></table></div>"
      ],
      "text/latex": [
       "\\begin{tabular}{r|cc}\n",
       "\t& pos & vel\\\\\n",
       "\t\\hline\n",
       "\t& Vect… & Vect…\\\\\n",
       "\t\\hline\n",
       "\t1 & (5.0, 8.0)\\textbackslash{}n & (-1.0, 0.0)\\textbackslash{}n \\\\\n",
       "\t2 & (4.9, 7.99667)\\textbackslash{}n & (-1.0, -0.0333333)\\textbackslash{}n \\\\\n",
       "\t3 & (4.80011, 7.99)\\textbackslash{}n & (-0.998887, -0.0666851)\\textbackslash{}n \\\\\n",
       "\t4 & (4.70045, 7.98)\\textbackslash{}n & (-0.996659, -0.100018)\\textbackslash{}n \\\\\n",
       "\t5 & (4.60111, 7.96667)\\textbackslash{}n & (-0.993314, -0.133295)\\textbackslash{}n \\\\\n",
       "\t6 & (4.50223, 7.95002)\\textbackslash{}n & (-0.988852, -0.166478)\\textbackslash{}n \\\\\n",
       "\t7 & (4.4039, 7.93007)\\textbackslash{}n & (-0.983275, -0.199528)\\textbackslash{}n \\\\\n",
       "\t8 & (4.30624, 7.90683)\\textbackslash{}n & (-0.976586, -0.23241)\\textbackslash{}n \\\\\n",
       "\t9 & (4.20936, 7.88032)\\textbackslash{}n & (-0.968788, -0.265083)\\textbackslash{}n \\\\\n",
       "\t10 & (4.11338, 7.85057)\\textbackslash{}n & (-0.959886, -0.297511)\\textbackslash{}n \\\\\n",
       "\t11 & (4.01839, 7.8176)\\textbackslash{}n & (-0.949888, -0.329655)\\textbackslash{}n \\\\\n",
       "\t12 & (3.92451, 7.78145)\\textbackslash{}n & (-0.938802, -0.361478)\\textbackslash{}n \\\\\n",
       "\t13 & (3.83184, 7.74216)\\textbackslash{}n & (-0.926636, -0.392941)\\textbackslash{}n \\\\\n",
       "\t14 & (3.7405, 7.69976)\\textbackslash{}n & (-0.913401, -0.424008)\\textbackslash{}n \\\\\n",
       "\t15 & (3.65059, 7.65429)\\textbackslash{}n & (-0.89911, -0.454641)\\textbackslash{}n \\\\\n",
       "\t16 & (3.56221, 7.60581)\\textbackslash{}n & (-0.883776, -0.484804)\\textbackslash{}n \\\\\n",
       "\t17 & (3.47547, 7.55437)\\textbackslash{}n & (-0.867414, -0.514459)\\textbackslash{}n \\\\\n",
       "\t18 & (3.39047, 7.50001)\\textbackslash{}n & (-0.850039, -0.54357)\\textbackslash{}n \\\\\n",
       "\t19 & (3.3073, 7.4428)\\textbackslash{}n & (-0.83167, -0.572103)\\textbackslash{}n \\\\\n",
       "\t20 & (3.22607, 7.3828)\\textbackslash{}n & (-0.812324, -0.600021)\\textbackslash{}n \\\\\n",
       "\t21 & (3.14687, 7.32007)\\textbackslash{}n & (-0.792023, -0.62729)\\textbackslash{}n \\\\\n",
       "\t22 & (3.06979, 7.25468)\\textbackslash{}n & (-0.770788, -0.653876)\\textbackslash{}n \\\\\n",
       "\t23 & (2.99492, 7.18671)\\textbackslash{}n & (-0.748641, -0.679746)\\textbackslash{}n \\\\\n",
       "\t24 & (2.92236, 7.11622)\\textbackslash{}n & (-0.725607, -0.704867)\\textbackslash{}n \\\\\n",
       "\t25 & (2.85219, 7.0433)\\textbackslash{}n & (-0.70171, -0.729207)\\textbackslash{}n \\\\\n",
       "\t26 & (2.78449, 6.96803)\\textbackslash{}n & (-0.676977, -0.752736)\\textbackslash{}n \\\\\n",
       "\t27 & (2.71935, 6.89048)\\textbackslash{}n & (-0.651436, -0.775424)\\textbackslash{}n \\\\\n",
       "\t28 & (2.65684, 6.81076)\\textbackslash{}n & (-0.625116, -0.797242)\\textbackslash{}n \\\\\n",
       "\t29 & (2.59703, 6.72894)\\textbackslash{}n & (-0.598047, -0.81816)\\textbackslash{}n \\\\\n",
       "\t30 & (2.54001, 6.64513)\\textbackslash{}n & (-0.570259, -0.838154)\\textbackslash{}n \\\\\n",
       "\t$\\dots$ & $\\dots$ & $\\dots$ \\\\\n",
       "\\end{tabular}\n"
      ],
      "text/plain": [
       "\u001b[1m501×2 DataFrame\u001b[0m\n",
       "\u001b[1m Row \u001b[0m│\u001b[1m pos                  \u001b[0m\u001b[1m vel                       \u001b[0m\n",
       "     │\u001b[90m Vect…                \u001b[0m\u001b[90m Vect…                     \u001b[0m\n",
       "─────┼─────────────────────────────────────────────────\n",
       "   1 │ (5.0, 8.0)\\n          (-1.0, 0.0)\\n\n",
       "   2 │ (4.9, 7.99667)\\n      (-1.0, -0.0333333)\\n\n",
       "   3 │ (4.80011, 7.99)\\n     (-0.998887, -0.0666851)\\n\n",
       "   4 │ (4.70045, 7.98)\\n     (-0.996659, -0.100018)\\n\n",
       "   5 │ (4.60111, 7.96667)\\n  (-0.993314, -0.133295)\\n\n",
       "   6 │ (4.50223, 7.95002)\\n  (-0.988852, -0.166478)\\n\n",
       "   7 │ (4.4039, 7.93007)\\n   (-0.983275, -0.199528)\\n\n",
       "   8 │ (4.30624, 7.90683)\\n  (-0.976586, -0.23241)\\n\n",
       "   9 │ (4.20936, 7.88032)\\n  (-0.968788, -0.265083)\\n\n",
       "  10 │ (4.11338, 7.85057)\\n  (-0.959886, -0.297511)\\n\n",
       "  11 │ (4.01839, 7.8176)\\n   (-0.949888, -0.329655)\\n\n",
       "  ⋮  │          ⋮                        ⋮\n",
       " 492 │ (6.9647, 2.68755)\\n   (0.772073, 0.618225)\\n\n",
       " 493 │ (7.03979, 2.75186)\\n  (0.750976, 0.643056)\\n\n",
       " 494 │ (7.1127, 2.81858)\\n   (0.7291, 0.667166)\\n\n",
       " 495 │ (7.18335, 2.88763)\\n  (0.706468, 0.690534)\\n\n",
       " 496 │ (7.25166, 2.95894)\\n  (0.683107, 0.713136)\\n\n",
       " 497 │ (7.31756, 3.03244)\\n  (0.659041, 0.734951)\\n\n",
       " 498 │ (7.38099, 3.10804)\\n  (0.634296, 0.755959)\\n\n",
       " 499 │ (7.44188, 3.18565)\\n  (0.608901, 0.776139)\\n\n",
       " 500 │ (7.50017, 3.2652)\\n   (0.582881, 0.795472)\\n\n",
       " 501 │ (7.5558, 3.34659)\\n   (0.556264, 0.81394)\\n\n",
       "\u001b[36m                                       480 rows omitted\u001b[0m"
      ]
     },
     "execution_count": 12,
     "metadata": {},
     "output_type": "execute_result"
    }
   ],
   "source": [
    "df = get_agent_data(model.agents[2], model).record"
   ]
  },
  {
   "cell_type": "markdown",
   "metadata": {},
   "source": [
    "The following line of code returns the data of (half of the) speed of the planet during time evolution."
   ]
  },
  {
   "cell_type": "code",
   "execution_count": 13,
   "metadata": {
    "scrolled": true
   },
   "outputs": [
    {
     "data": {
      "image/png": "[encoded data removed]",
      "image/svg+xml": [
       "<?xml version=\"1.0\" encoding=\"utf-8\"?>\n",
       "<svg xmlns=\"http://www.w3.org/2000/svg\" xmlns:xlink=\"http://www.w3.org/1999/xlink\" width=\"600\" height=\"400\" viewBox=\"0 0 2400 1600\">\n",
       "<defs>\n",
       "  <clipPath id=\"clip290\">\n",
       "    <rect x=\"0\" y=\"0\" width=\"2400\" height=\"1600\"/>\n",
       "  </clipPath>\n",
       "</defs>\n",
       "<path clip-path=\"url(#clip290)\" d=\"M0 1600 L2400 1600 L2400 0 L0 0  Z\" fill=\"#ffffff\" fill-rule=\"evenodd\" fill-opacity=\"1\"/>\n",
       "<defs>\n",
       "  <clipPath id=\"clip291\">\n",
       "    <rect x=\"480\" y=\"0\" width=\"1681\" height=\"1600\"/>\n",
       "  </clipPath>\n",
       "</defs>\n",
       "<path clip-path=\"url(#clip290)\" d=\"M156.274 1423.18 L2352.76 1423.18 L2352.76 47.2441 L156.274 47.2441  Z\" fill=\"#ffffff\" fill-rule=\"evenodd\" fill-opacity=\"1\"/>\n",
       "<defs>\n",
       "  <clipPath id=\"clip292\">\n",
       "    <rect x=\"156\" y=\"47\" width=\"2197\" height=\"1377\"/>\n",
       "  </clipPath>\n",
       "</defs>\n",
       "<polyline clip-path=\"url(#clip292)\" style=\"stroke:#000000; stroke-linecap:round; stroke-linejoin:round; stroke-width:2; stroke-opacity:0.1; fill:none\" points=\"214.294,1423.18 214.294,47.2441 \"/>\n",
       "<polyline clip-path=\"url(#clip292)\" style=\"stroke:#000000; stroke-linecap:round; stroke-linejoin:round; stroke-width:2; stroke-opacity:0.1; fill:none\" points=\"628.725,1423.18 628.725,47.2441 \"/>\n",
       "<polyline clip-path=\"url(#clip292)\" style=\"stroke:#000000; stroke-linecap:round; stroke-linejoin:round; stroke-width:2; stroke-opacity:0.1; fill:none\" points=\"1043.16,1423.18 1043.16,47.2441 \"/>\n",
       "<polyline clip-path=\"url(#clip292)\" style=\"stroke:#000000; stroke-linecap:round; stroke-linejoin:round; stroke-width:2; stroke-opacity:0.1; fill:none\" points=\"1457.59,1423.18 1457.59,47.2441 \"/>\n",
       "<polyline clip-path=\"url(#clip292)\" style=\"stroke:#000000; stroke-linecap:round; stroke-linejoin:round; stroke-width:2; stroke-opacity:0.1; fill:none\" points=\"1872.02,1423.18 1872.02,47.2441 \"/>\n",
       "<polyline clip-path=\"url(#clip292)\" style=\"stroke:#000000; stroke-linecap:round; stroke-linejoin:round; stroke-width:2; stroke-opacity:0.1; fill:none\" points=\"2286.45,1423.18 2286.45,47.2441 \"/>\n",
       "<polyline clip-path=\"url(#clip290)\" style=\"stroke:#000000; stroke-linecap:round; stroke-linejoin:round; stroke-width:4; stroke-opacity:1; fill:none\" points=\"156.274,1423.18 2352.76,1423.18 \"/>\n",
       "<polyline clip-path=\"url(#clip290)\" style=\"stroke:#000000; stroke-linecap:round; stroke-linejoin:round; stroke-width:4; stroke-opacity:1; fill:none\" points=\"214.294,1423.18 214.294,1404.28 \"/>\n",
       "<polyline clip-path=\"url(#clip290)\" style=\"stroke:#000000; stroke-linecap:round; stroke-linejoin:round; stroke-width:4; stroke-opacity:1; fill:none\" points=\"628.725,1423.18 628.725,1404.28 \"/>\n",
       "<polyline clip-path=\"url(#clip290)\" style=\"stroke:#000000; stroke-linecap:round; stroke-linejoin:round; stroke-width:4; stroke-opacity:1; fill:none\" points=\"1043.16,1423.18 1043.16,1404.28 \"/>\n",
       "<polyline clip-path=\"url(#clip290)\" style=\"stroke:#000000; stroke-linecap:round; stroke-linejoin:round; stroke-width:4; stroke-opacity:1; fill:none\" points=\"1457.59,1423.18 1457.59,1404.28 \"/>\n",
       "<polyline clip-path=\"url(#clip290)\" style=\"stroke:#000000; stroke-linecap:round; stroke-linejoin:round; stroke-width:4; stroke-opacity:1; fill:none\" points=\"1872.02,1423.18 1872.02,1404.28 \"/>\n",
       "<polyline clip-path=\"url(#clip290)\" style=\"stroke:#000000; stroke-linecap:round; stroke-linejoin:round; stroke-width:4; stroke-opacity:1; fill:none\" points=\"2286.45,1423.18 2286.45,1404.28 \"/>\n",
       "<path clip-path=\"url(#clip290)\" d=\"M214.294 1454.1 Q210.683 1454.1 208.855 1457.66 Q207.049 1461.2 207.049 1468.33 Q207.049 1475.44 208.855 1479.01 Q210.683 1482.55 214.294 1482.55 Q217.929 1482.55 219.734 1479.01 Q221.563 1475.44 221.563 1468.33 Q221.563 1461.2 219.734 1457.66 Q217.929 1454.1 214.294 1454.1 M214.294 1450.39 Q220.105 1450.39 223.16 1455 Q226.239 1459.58 226.239 1468.33 Q226.239 1477.06 223.16 1481.67 Q220.105 1486.25 214.294 1486.25 Q208.484 1486.25 205.406 1481.67 Q202.35 1477.06 202.35 1468.33 Q202.35 1459.58 205.406 1455 Q208.484 1450.39 214.294 1450.39 Z\" fill=\"#000000\" fill-rule=\"nonzero\" fill-opacity=\"1\" /><path clip-path=\"url(#clip290)\" d=\"M588.332 1481.64 L595.97 1481.64 L595.97 1455.28 L587.66 1456.95 L587.66 1452.69 L595.924 1451.02 L600.6 1451.02 L600.6 1481.64 L608.239 1481.64 L608.239 1485.58 L588.332 1485.58 L588.332 1481.64 Z\" fill=\"#000000\" fill-rule=\"nonzero\" fill-opacity=\"1\" /><path clip-path=\"url(#clip290)\" d=\"M627.683 1454.1 Q624.072 1454.1 622.244 1457.66 Q620.438 1461.2 620.438 1468.33 Q620.438 1475.44 622.244 1479.01 Q624.072 1482.55 627.683 1482.55 Q631.318 1482.55 633.123 1479.01 Q634.952 1475.44 634.952 1468.33 Q634.952 1461.2 633.123 1457.66 Q631.318 1454.1 627.683 1454.1 M627.683 1450.39 Q633.493 1450.39 636.549 1455 Q639.628 1459.58 639.628 1468.33 Q639.628 1477.06 636.549 1481.67 Q633.493 1486.25 627.683 1486.25 Q621.873 1486.25 618.794 1481.67 Q615.739 1477.06 615.739 1468.33 Q615.739 1459.58 618.794 1455 Q621.873 1450.39 627.683 1450.39 Z\" fill=\"#000000\" fill-rule=\"nonzero\" fill-opacity=\"1\" /><path clip-path=\"url(#clip290)\" d=\"M657.845 1454.1 Q654.234 1454.1 652.405 1457.66 Q650.6 1461.2 650.6 1468.33 Q650.6 1475.44 652.405 1479.01 Q654.234 1482.55 657.845 1482.55 Q661.479 1482.55 663.285 1479.01 Q665.114 1475.44 665.114 1468.33 Q665.114 1461.2 663.285 1457.66 Q661.479 1454.1 657.845 1454.1 M657.845 1450.39 Q663.655 1450.39 666.711 1455 Q669.79 1459.58 669.79 1468.33 Q669.79 1477.06 666.711 1481.67 Q663.655 1486.25 657.845 1486.25 Q652.035 1486.25 648.956 1481.67 Q645.901 1477.06 645.901 1468.33 Q645.901 1459.58 648.956 1455 Q652.035 1450.39 657.845 1450.39 Z\" fill=\"#000000\" fill-rule=\"nonzero\" fill-opacity=\"1\" /><path clip-path=\"url(#clip290)\" d=\"M1006.85 1481.64 L1023.17 1481.64 L1023.17 1485.58 L1001.22 1485.58 L1001.22 1481.64 Q1003.88 1478.89 1008.47 1474.26 Q1013.07 1469.61 1014.26 1468.27 Q1016.5 1465.74 1017.38 1464.01 Q1018.28 1462.25 1018.28 1460.56 Q1018.28 1457.8 1016.34 1456.07 Q1014.42 1454.33 1011.32 1454.33 Q1009.12 1454.33 1006.66 1455.09 Q1004.23 1455.86 1001.45 1457.41 L1001.45 1452.69 Q1004.28 1451.55 1006.73 1450.97 Q1009.19 1450.39 1011.22 1450.39 Q1016.59 1450.39 1019.79 1453.08 Q1022.98 1455.77 1022.98 1460.26 Q1022.98 1462.39 1022.17 1464.31 Q1021.38 1466.2 1019.28 1468.8 Q1018.7 1469.47 1015.6 1472.69 Q1012.5 1475.88 1006.85 1481.64 Z\" fill=\"#000000\" fill-rule=\"nonzero\" fill-opacity=\"1\" /><path clip-path=\"url(#clip290)\" d=\"M1042.98 1454.1 Q1039.37 1454.1 1037.54 1457.66 Q1035.74 1461.2 1035.74 1468.33 Q1035.74 1475.44 1037.54 1479.01 Q1039.37 1482.55 1042.98 1482.55 Q1046.62 1482.55 1048.42 1479.01 Q1050.25 1475.44 1050.25 1468.33 Q1050.25 1461.2 1048.42 1457.66 Q1046.62 1454.1 1042.98 1454.1 M1042.98 1450.39 Q1048.79 1450.39 1051.85 1455 Q1054.93 1459.58 1054.93 1468.33 Q1054.93 1477.06 1051.85 1481.67 Q1048.79 1486.25 1042.98 1486.25 Q1037.17 1486.25 1034.09 1481.67 Q1031.04 1477.06 1031.04 1468.33 Q1031.04 1459.58 1034.09 1455 Q1037.17 1450.39 1042.98 1450.39 Z\" fill=\"#000000\" fill-rule=\"nonzero\" fill-opacity=\"1\" /><path clip-path=\"url(#clip290)\" d=\"M1073.14 1454.1 Q1069.53 1454.1 1067.7 1457.66 Q1065.9 1461.2 1065.9 1468.33 Q1065.9 1475.44 1067.7 1479.01 Q1069.53 1482.55 1073.14 1482.55 Q1076.78 1482.55 1078.58 1479.01 Q1080.41 1475.44 1080.41 1468.33 Q1080.41 1461.2 1078.58 1457.66 Q1076.78 1454.1 1073.14 1454.1 M1073.14 1450.39 Q1078.95 1450.39 1082.01 1455 Q1085.09 1459.58 1085.09 1468.33 Q1085.09 1477.06 1082.01 1481.67 Q1078.95 1486.25 1073.14 1486.25 Q1067.33 1486.25 1064.25 1481.67 Q1061.2 1477.06 1061.2 1468.33 Q1061.2 1459.58 1064.25 1455 Q1067.33 1450.39 1073.14 1450.39 Z\" fill=\"#000000\" fill-rule=\"nonzero\" fill-opacity=\"1\" /><path clip-path=\"url(#clip290)\" d=\"M1431.35 1466.95 Q1434.7 1467.66 1436.58 1469.93 Q1438.48 1472.2 1438.48 1475.53 Q1438.48 1480.65 1434.96 1483.45 Q1431.44 1486.25 1424.96 1486.25 Q1422.78 1486.25 1420.47 1485.81 Q1418.18 1485.39 1415.72 1484.54 L1415.72 1480.02 Q1417.67 1481.16 1419.98 1481.74 Q1422.3 1482.32 1424.82 1482.32 Q1429.22 1482.32 1431.51 1480.58 Q1433.82 1478.84 1433.82 1475.53 Q1433.82 1472.48 1431.67 1470.77 Q1429.54 1469.03 1425.72 1469.03 L1421.69 1469.03 L1421.69 1465.19 L1425.91 1465.19 Q1429.36 1465.19 1431.19 1463.82 Q1433.01 1462.43 1433.01 1459.84 Q1433.01 1457.18 1431.12 1455.77 Q1429.24 1454.33 1425.72 1454.33 Q1423.8 1454.33 1421.6 1454.75 Q1419.4 1455.16 1416.76 1456.04 L1416.76 1451.88 Q1419.43 1451.14 1421.74 1450.77 Q1424.08 1450.39 1426.14 1450.39 Q1431.46 1450.39 1434.57 1452.83 Q1437.67 1455.23 1437.67 1459.35 Q1437.67 1462.22 1436.02 1464.21 Q1434.38 1466.18 1431.35 1466.95 Z\" fill=\"#000000\" fill-rule=\"nonzero\" fill-opacity=\"1\" /><path clip-path=\"url(#clip290)\" d=\"M1457.34 1454.1 Q1453.73 1454.1 1451.9 1457.66 Q1450.1 1461.2 1450.1 1468.33 Q1450.1 1475.44 1451.9 1479.01 Q1453.73 1482.55 1457.34 1482.55 Q1460.98 1482.55 1462.78 1479.01 Q1464.61 1475.44 1464.61 1468.33 Q1464.61 1461.2 1462.78 1457.66 Q1460.98 1454.1 1457.34 1454.1 M1457.34 1450.39 Q1463.15 1450.39 1466.21 1455 Q1469.29 1459.58 1469.29 1468.33 Q1469.29 1477.06 1466.21 1481.67 Q1463.15 1486.25 1457.34 1486.25 Q1451.53 1486.25 1448.45 1481.67 Q1445.4 1477.06 1445.4 1468.33 Q1445.4 1459.58 1448.45 1455 Q1451.53 1450.39 1457.34 1450.39 Z\" fill=\"#000000\" fill-rule=\"nonzero\" fill-opacity=\"1\" /><path clip-path=\"url(#clip290)\" d=\"M1487.5 1454.1 Q1483.89 1454.1 1482.07 1457.66 Q1480.26 1461.2 1480.26 1468.33 Q1480.26 1475.44 1482.07 1479.01 Q1483.89 1482.55 1487.5 1482.55 Q1491.14 1482.55 1492.94 1479.01 Q1494.77 1475.44 1494.77 1468.33 Q1494.77 1461.2 1492.94 1457.66 Q1491.14 1454.1 1487.5 1454.1 M1487.5 1450.39 Q1493.31 1450.39 1496.37 1455 Q1499.45 1459.58 1499.45 1468.33 Q1499.45 1477.06 1496.37 1481.67 Q1493.31 1486.25 1487.5 1486.25 Q1481.69 1486.25 1478.62 1481.67 Q1475.56 1477.06 1475.56 1468.33 Q1475.56 1459.58 1478.62 1455 Q1481.69 1450.39 1487.5 1450.39 Z\" fill=\"#000000\" fill-rule=\"nonzero\" fill-opacity=\"1\" /><path clip-path=\"url(#clip290)\" d=\"M1845.11 1455.09 L1833.3 1473.54 L1845.11 1473.54 L1845.11 1455.09 M1843.88 1451.02 L1849.76 1451.02 L1849.76 1473.54 L1854.69 1473.54 L1854.69 1477.43 L1849.76 1477.43 L1849.76 1485.58 L1845.11 1485.58 L1845.11 1477.43 L1829.51 1477.43 L1829.51 1472.92 L1843.88 1451.02 Z\" fill=\"#000000\" fill-rule=\"nonzero\" fill-opacity=\"1\" /><path clip-path=\"url(#clip290)\" d=\"M1872.42 1454.1 Q1868.81 1454.1 1866.98 1457.66 Q1865.18 1461.2 1865.18 1468.33 Q1865.18 1475.44 1866.98 1479.01 Q1868.81 1482.55 1872.42 1482.55 Q1876.06 1482.55 1877.86 1479.01 Q1879.69 1475.44 1879.69 1468.33 Q1879.69 1461.2 1877.86 1457.66 Q1876.06 1454.1 1872.42 1454.1 M1872.42 1450.39 Q1878.23 1450.39 1881.29 1455 Q1884.37 1459.58 1884.37 1468.33 Q1884.37 1477.06 1881.29 1481.67 Q1878.23 1486.25 1872.42 1486.25 Q1866.61 1486.25 1863.53 1481.67 Q1860.48 1477.06 1860.48 1468.33 Q1860.48 1459.58 1863.53 1455 Q1866.61 1450.39 1872.42 1450.39 Z\" fill=\"#000000\" fill-rule=\"nonzero\" fill-opacity=\"1\" /><path clip-path=\"url(#clip290)\" d=\"M1902.58 1454.1 Q1898.97 1454.1 1897.14 1457.66 Q1895.34 1461.2 1895.34 1468.33 Q1895.34 1475.44 1897.14 1479.01 Q1898.97 1482.55 1902.58 1482.55 Q1906.22 1482.55 1908.02 1479.01 Q1909.85 1475.44 1909.85 1468.33 Q1909.85 1461.2 1908.02 1457.66 Q1906.22 1454.1 1902.58 1454.1 M1902.58 1450.39 Q1908.39 1450.39 1911.45 1455 Q1914.53 1459.58 1914.53 1468.33 Q1914.53 1477.06 1911.45 1481.67 Q1908.39 1486.25 1902.58 1486.25 Q1896.77 1486.25 1893.69 1481.67 Q1890.64 1477.06 1890.64 1468.33 Q1890.64 1459.58 1893.69 1455 Q1896.77 1450.39 1902.58 1450.39 Z\" fill=\"#000000\" fill-rule=\"nonzero\" fill-opacity=\"1\" /><path clip-path=\"url(#clip290)\" d=\"M2246.07 1451.02 L2264.42 1451.02 L2264.42 1454.96 L2250.35 1454.96 L2250.35 1463.43 Q2251.37 1463.08 2252.38 1462.92 Q2253.4 1462.73 2254.42 1462.73 Q2260.21 1462.73 2263.59 1465.9 Q2266.97 1469.08 2266.97 1474.49 Q2266.97 1480.07 2263.5 1483.17 Q2260.02 1486.25 2253.7 1486.25 Q2251.53 1486.25 2249.26 1485.88 Q2247.01 1485.51 2244.61 1484.77 L2244.61 1480.07 Q2246.69 1481.2 2248.91 1481.76 Q2251.13 1482.32 2253.61 1482.32 Q2257.62 1482.32 2259.95 1480.21 Q2262.29 1478.1 2262.29 1474.49 Q2262.29 1470.88 2259.95 1468.77 Q2257.62 1466.67 2253.61 1466.67 Q2251.74 1466.67 2249.86 1467.08 Q2248.01 1467.5 2246.07 1468.38 L2246.07 1451.02 Z\" fill=\"#000000\" fill-rule=\"nonzero\" fill-opacity=\"1\" /><path clip-path=\"url(#clip290)\" d=\"M2286.18 1454.1 Q2282.57 1454.1 2280.74 1457.66 Q2278.94 1461.2 2278.94 1468.33 Q2278.94 1475.44 2280.74 1479.01 Q2282.57 1482.55 2286.18 1482.55 Q2289.82 1482.55 2291.62 1479.01 Q2293.45 1475.44 2293.45 1468.33 Q2293.45 1461.2 2291.62 1457.66 Q2289.82 1454.1 2286.18 1454.1 M2286.18 1450.39 Q2291.99 1450.39 2295.05 1455 Q2298.13 1459.58 2298.13 1468.33 Q2298.13 1477.06 2295.05 1481.67 Q2291.99 1486.25 2286.18 1486.25 Q2280.37 1486.25 2277.29 1481.67 Q2274.24 1477.06 2274.24 1468.33 Q2274.24 1459.58 2277.29 1455 Q2280.37 1450.39 2286.18 1450.39 Z\" fill=\"#000000\" fill-rule=\"nonzero\" fill-opacity=\"1\" /><path clip-path=\"url(#clip290)\" d=\"M2316.34 1454.1 Q2312.73 1454.1 2310.9 1457.66 Q2309.1 1461.2 2309.1 1468.33 Q2309.1 1475.44 2310.9 1479.01 Q2312.73 1482.55 2316.34 1482.55 Q2319.98 1482.55 2321.78 1479.01 Q2323.61 1475.44 2323.61 1468.33 Q2323.61 1461.2 2321.78 1457.66 Q2319.98 1454.1 2316.34 1454.1 M2316.34 1450.39 Q2322.15 1450.39 2325.21 1455 Q2328.29 1459.58 2328.29 1468.33 Q2328.29 1477.06 2325.21 1481.67 Q2322.15 1486.25 2316.34 1486.25 Q2310.53 1486.25 2307.45 1481.67 Q2304.4 1477.06 2304.4 1468.33 Q2304.4 1459.58 2307.45 1455 Q2310.53 1450.39 2316.34 1450.39 Z\" fill=\"#000000\" fill-rule=\"nonzero\" fill-opacity=\"1\" /><path clip-path=\"url(#clip290)\" d=\"M1191.56 1522.27 L1191.56 1532.4 L1203.62 1532.4 L1203.62 1536.95 L1191.56 1536.95 L1191.56 1556.3 Q1191.56 1560.66 1192.74 1561.9 Q1193.95 1563.14 1197.61 1563.14 L1203.62 1563.14 L1203.62 1568.04 L1197.61 1568.04 Q1190.83 1568.04 1188.25 1565.53 Q1185.67 1562.98 1185.67 1556.3 L1185.67 1536.95 L1181.37 1536.95 L1181.37 1532.4 L1185.67 1532.4 L1185.67 1522.27 L1191.56 1522.27 Z\" fill=\"#000000\" fill-rule=\"nonzero\" fill-opacity=\"1\" /><path clip-path=\"url(#clip290)\" d=\"M1211.32 1532.4 L1217.18 1532.4 L1217.18 1568.04 L1211.32 1568.04 L1211.32 1532.4 M1211.32 1518.52 L1217.18 1518.52 L1217.18 1525.93 L1211.32 1525.93 L1211.32 1518.52 Z\" fill=\"#000000\" fill-rule=\"nonzero\" fill-opacity=\"1\" /><path clip-path=\"url(#clip290)\" d=\"M1255.09 1533.76 L1255.09 1539.24 Q1252.61 1537.87 1250.09 1537.2 Q1247.61 1536.5 1245.06 1536.5 Q1239.36 1536.5 1236.21 1540.13 Q1233.06 1543.73 1233.06 1550.25 Q1233.06 1556.78 1236.21 1560.4 Q1239.36 1564 1245.06 1564 Q1247.61 1564 1250.09 1563.33 Q1252.61 1562.63 1255.09 1561.26 L1255.09 1566.68 Q1252.64 1567.82 1250 1568.39 Q1247.39 1568.97 1244.43 1568.97 Q1236.37 1568.97 1231.63 1563.91 Q1226.89 1558.85 1226.89 1550.25 Q1226.89 1541.53 1231.66 1536.53 Q1236.47 1531.54 1244.81 1531.54 Q1247.51 1531.54 1250.09 1532.11 Q1252.67 1532.65 1255.09 1533.76 Z\" fill=\"#000000\" fill-rule=\"nonzero\" fill-opacity=\"1\" /><path clip-path=\"url(#clip290)\" d=\"M1265.05 1518.52 L1270.94 1518.52 L1270.94 1547.77 L1288.41 1532.4 L1295.89 1532.4 L1276.99 1549.07 L1296.69 1568.04 L1289.05 1568.04 L1270.94 1550.63 L1270.94 1568.04 L1265.05 1568.04 L1265.05 1518.52 Z\" fill=\"#000000\" fill-rule=\"nonzero\" fill-opacity=\"1\" /><path clip-path=\"url(#clip290)\" d=\"M1325.75 1533.45 L1325.75 1538.98 Q1323.26 1537.71 1320.59 1537.07 Q1317.92 1536.44 1315.05 1536.44 Q1310.69 1536.44 1308.5 1537.77 Q1306.33 1539.11 1306.33 1541.79 Q1306.33 1543.82 1307.89 1545 Q1309.45 1546.15 1314.16 1547.2 L1316.17 1547.64 Q1322.41 1548.98 1325.02 1551.43 Q1327.66 1553.85 1327.66 1558.21 Q1327.66 1563.17 1323.71 1566.07 Q1319.8 1568.97 1312.92 1568.97 Q1310.06 1568.97 1306.94 1568.39 Q1303.85 1567.85 1300.41 1566.74 L1300.41 1560.69 Q1303.66 1562.38 1306.81 1563.24 Q1309.96 1564.07 1313.05 1564.07 Q1317.19 1564.07 1319.41 1562.66 Q1321.64 1561.23 1321.64 1558.65 Q1321.64 1556.27 1320.02 1554.99 Q1318.43 1553.72 1312.98 1552.54 L1310.95 1552.07 Q1305.5 1550.92 1303.09 1548.56 Q1300.67 1546.18 1300.67 1542.04 Q1300.67 1537.01 1304.23 1534.27 Q1307.8 1531.54 1314.35 1531.54 Q1317.6 1531.54 1320.46 1532.01 Q1323.33 1532.49 1325.75 1533.45 Z\" fill=\"#000000\" fill-rule=\"nonzero\" fill-opacity=\"1\" /><polyline clip-path=\"url(#clip292)\" style=\"stroke:#000000; stroke-linecap:round; stroke-linejoin:round; stroke-width:2; stroke-opacity:0.1; fill:none\" points=\"156.274,1384.24 2352.76,1384.24 \"/>\n",
       "<polyline clip-path=\"url(#clip292)\" style=\"stroke:#000000; stroke-linecap:round; stroke-linejoin:round; stroke-width:2; stroke-opacity:0.1; fill:none\" points=\"156.274,1132.92 2352.76,1132.92 \"/>\n",
       "<polyline clip-path=\"url(#clip292)\" style=\"stroke:#000000; stroke-linecap:round; stroke-linejoin:round; stroke-width:2; stroke-opacity:0.1; fill:none\" points=\"156.274,881.61 2352.76,881.61 \"/>\n",
       "<polyline clip-path=\"url(#clip292)\" style=\"stroke:#000000; stroke-linecap:round; stroke-linejoin:round; stroke-width:2; stroke-opacity:0.1; fill:none\" points=\"156.274,630.296 2352.76,630.296 \"/>\n",
       "<polyline clip-path=\"url(#clip292)\" style=\"stroke:#000000; stroke-linecap:round; stroke-linejoin:round; stroke-width:2; stroke-opacity:0.1; fill:none\" points=\"156.274,378.982 2352.76,378.982 \"/>\n",
       "<polyline clip-path=\"url(#clip292)\" style=\"stroke:#000000; stroke-linecap:round; stroke-linejoin:round; stroke-width:2; stroke-opacity:0.1; fill:none\" points=\"156.274,127.668 2352.76,127.668 \"/>\n",
       "<polyline clip-path=\"url(#clip290)\" style=\"stroke:#000000; stroke-linecap:round; stroke-linejoin:round; stroke-width:4; stroke-opacity:1; fill:none\" points=\"156.274,1423.18 156.274,47.2441 \"/>\n",
       "<polyline clip-path=\"url(#clip290)\" style=\"stroke:#000000; stroke-linecap:round; stroke-linejoin:round; stroke-width:4; stroke-opacity:1; fill:none\" points=\"156.274,1384.24 175.172,1384.24 \"/>\n",
       "<polyline clip-path=\"url(#clip290)\" style=\"stroke:#000000; stroke-linecap:round; stroke-linejoin:round; stroke-width:4; stroke-opacity:1; fill:none\" points=\"156.274,1132.92 175.172,1132.92 \"/>\n",
       "<polyline clip-path=\"url(#clip290)\" style=\"stroke:#000000; stroke-linecap:round; stroke-linejoin:round; stroke-width:4; stroke-opacity:1; fill:none\" points=\"156.274,881.61 175.172,881.61 \"/>\n",
       "<polyline clip-path=\"url(#clip290)\" style=\"stroke:#000000; stroke-linecap:round; stroke-linejoin:round; stroke-width:4; stroke-opacity:1; fill:none\" points=\"156.274,630.296 175.172,630.296 \"/>\n",
       "<polyline clip-path=\"url(#clip290)\" style=\"stroke:#000000; stroke-linecap:round; stroke-linejoin:round; stroke-width:4; stroke-opacity:1; fill:none\" points=\"156.274,378.982 175.172,378.982 \"/>\n",
       "<polyline clip-path=\"url(#clip290)\" style=\"stroke:#000000; stroke-linecap:round; stroke-linejoin:round; stroke-width:4; stroke-opacity:1; fill:none\" points=\"156.274,127.668 175.172,127.668 \"/>\n",
       "<path clip-path=\"url(#clip290)\" d=\"M64.0939 1370.04 Q60.4828 1370.04 58.6541 1373.6 Q56.8486 1377.14 56.8486 1384.27 Q56.8486 1391.38 58.6541 1394.94 Q60.4828 1398.49 64.0939 1398.49 Q67.7281 1398.49 69.5337 1394.94 Q71.3624 1391.38 71.3624 1384.27 Q71.3624 1377.14 69.5337 1373.6 Q67.7281 1370.04 64.0939 1370.04 M64.0939 1366.33 Q69.9041 1366.33 72.9596 1370.94 Q76.0383 1375.52 76.0383 1384.27 Q76.0383 1393 72.9596 1397.61 Q69.9041 1402.19 64.0939 1402.19 Q58.2838 1402.19 55.2051 1397.61 Q52.1495 1393 52.1495 1384.27 Q52.1495 1375.52 55.2051 1370.94 Q58.2838 1366.33 64.0939 1366.33 Z\" fill=\"#000000\" fill-rule=\"nonzero\" fill-opacity=\"1\" /><path clip-path=\"url(#clip290)\" d=\"M84.2558 1395.64 L89.1401 1395.64 L89.1401 1401.52 L84.2558 1401.52 L84.2558 1395.64 Z\" fill=\"#000000\" fill-rule=\"nonzero\" fill-opacity=\"1\" /><path clip-path=\"url(#clip290)\" d=\"M99.3715 1366.96 L117.728 1366.96 L117.728 1370.89 L103.654 1370.89 L103.654 1379.37 Q104.672 1379.02 105.691 1378.86 Q106.709 1378.67 107.728 1378.67 Q113.515 1378.67 116.895 1381.84 Q120.274 1385.01 120.274 1390.43 Q120.274 1396.01 116.802 1399.11 Q113.33 1402.19 107.01 1402.19 Q104.834 1402.19 102.566 1401.82 Q100.321 1401.45 97.9132 1400.71 L97.9132 1396.01 Q99.9965 1397.14 102.219 1397.7 Q104.441 1398.25 106.918 1398.25 Q110.922 1398.25 113.26 1396.15 Q115.598 1394.04 115.598 1390.43 Q115.598 1386.82 113.26 1384.71 Q110.922 1382.61 106.918 1382.61 Q105.043 1382.61 103.168 1383.02 Q101.316 1383.44 99.3715 1384.32 L99.3715 1366.96 Z\" fill=\"#000000\" fill-rule=\"nonzero\" fill-opacity=\"1\" /><path clip-path=\"url(#clip290)\" d=\"M62.9365 1118.72 Q59.3254 1118.72 57.4967 1122.29 Q55.6912 1125.83 55.6912 1132.96 Q55.6912 1140.07 57.4967 1143.63 Q59.3254 1147.17 62.9365 1147.17 Q66.5707 1147.17 68.3763 1143.63 Q70.205 1140.07 70.205 1132.96 Q70.205 1125.83 68.3763 1122.29 Q66.5707 1118.72 62.9365 1118.72 M62.9365 1115.02 Q68.7467 1115.02 71.8022 1119.63 Q74.8809 1124.21 74.8809 1132.96 Q74.8809 1141.69 71.8022 1146.29 Q68.7467 1150.88 62.9365 1150.88 Q57.1264 1150.88 54.0477 1146.29 Q50.9921 1141.69 50.9921 1132.96 Q50.9921 1124.21 54.0477 1119.63 Q57.1264 1115.02 62.9365 1115.02 Z\" fill=\"#000000\" fill-rule=\"nonzero\" fill-opacity=\"1\" /><path clip-path=\"url(#clip290)\" d=\"M83.0984 1144.32 L87.9827 1144.32 L87.9827 1150.2 L83.0984 1150.2 L83.0984 1144.32 Z\" fill=\"#000000\" fill-rule=\"nonzero\" fill-opacity=\"1\" /><path clip-path=\"url(#clip290)\" d=\"M108.746 1131.06 Q105.598 1131.06 103.746 1133.21 Q101.918 1135.37 101.918 1139.12 Q101.918 1142.84 103.746 1145.02 Q105.598 1147.17 108.746 1147.17 Q111.895 1147.17 113.723 1145.02 Q115.575 1142.84 115.575 1139.12 Q115.575 1135.37 113.723 1133.21 Q111.895 1131.06 108.746 1131.06 M118.029 1116.41 L118.029 1120.67 Q116.27 1119.83 114.464 1119.39 Q112.682 1118.95 110.922 1118.95 Q106.293 1118.95 103.839 1122.08 Q101.409 1125.2 101.061 1131.52 Q102.427 1129.51 104.487 1128.44 Q106.547 1127.36 109.024 1127.36 Q114.233 1127.36 117.242 1130.53 Q120.274 1133.68 120.274 1139.12 Q120.274 1144.44 117.126 1147.66 Q113.978 1150.88 108.746 1150.88 Q102.751 1150.88 99.5798 1146.29 Q96.4085 1141.69 96.4085 1132.96 Q96.4085 1124.76 100.297 1119.9 Q104.186 1115.02 110.737 1115.02 Q112.496 1115.02 114.279 1115.37 Q116.084 1115.71 118.029 1116.41 Z\" fill=\"#000000\" fill-rule=\"nonzero\" fill-opacity=\"1\" /><path clip-path=\"url(#clip290)\" d=\"M64.0013 867.409 Q60.3902 867.409 58.5615 870.973 Q56.756 874.515 56.756 881.645 Q56.756 888.751 58.5615 892.316 Q60.3902 895.858 64.0013 895.858 Q67.6356 895.858 69.4411 892.316 Q71.2698 888.751 71.2698 881.645 Q71.2698 874.515 69.4411 870.973 Q67.6356 867.409 64.0013 867.409 M64.0013 863.705 Q69.8115 863.705 72.867 868.311 Q75.9457 872.895 75.9457 881.645 Q75.9457 890.371 72.867 894.978 Q69.8115 899.561 64.0013 899.561 Q58.1912 899.561 55.1125 894.978 Q52.0569 890.371 52.0569 881.645 Q52.0569 872.895 55.1125 868.311 Q58.1912 863.705 64.0013 863.705 Z\" fill=\"#000000\" fill-rule=\"nonzero\" fill-opacity=\"1\" /><path clip-path=\"url(#clip290)\" d=\"M84.1632 893.01 L89.0475 893.01 L89.0475 898.89 L84.1632 898.89 L84.1632 893.01 Z\" fill=\"#000000\" fill-rule=\"nonzero\" fill-opacity=\"1\" /><path clip-path=\"url(#clip290)\" d=\"M98.0521 864.33 L120.274 864.33 L120.274 866.321 L107.728 898.89 L102.844 898.89 L114.649 868.265 L98.0521 868.265 L98.0521 864.33 Z\" fill=\"#000000\" fill-rule=\"nonzero\" fill-opacity=\"1\" /><path clip-path=\"url(#clip290)\" d=\"M63.1911 616.095 Q59.58 616.095 57.7513 619.659 Q55.9458 623.201 55.9458 630.331 Q55.9458 637.437 57.7513 641.002 Q59.58 644.543 63.1911 644.543 Q66.8254 644.543 68.6309 641.002 Q70.4596 637.437 70.4596 630.331 Q70.4596 623.201 68.6309 619.659 Q66.8254 616.095 63.1911 616.095 M63.1911 612.391 Q69.0013 612.391 72.0568 616.997 Q75.1355 621.581 75.1355 630.331 Q75.1355 639.057 72.0568 643.664 Q69.0013 648.247 63.1911 648.247 Q57.381 648.247 54.3023 643.664 Q51.2468 639.057 51.2468 630.331 Q51.2468 621.581 54.3023 616.997 Q57.381 612.391 63.1911 612.391 Z\" fill=\"#000000\" fill-rule=\"nonzero\" fill-opacity=\"1\" /><path clip-path=\"url(#clip290)\" d=\"M83.3531 641.696 L88.2373 641.696 L88.2373 647.576 L83.3531 647.576 L83.3531 641.696 Z\" fill=\"#000000\" fill-rule=\"nonzero\" fill-opacity=\"1\" /><path clip-path=\"url(#clip290)\" d=\"M108.422 631.164 Q105.089 631.164 103.168 632.946 Q101.27 634.729 101.27 637.854 Q101.27 640.979 103.168 642.761 Q105.089 644.543 108.422 644.543 Q111.756 644.543 113.677 642.761 Q115.598 640.955 115.598 637.854 Q115.598 634.729 113.677 632.946 Q111.779 631.164 108.422 631.164 M103.746 629.173 Q100.737 628.432 99.0474 626.372 Q97.3808 624.312 97.3808 621.349 Q97.3808 617.206 100.321 614.798 Q103.284 612.391 108.422 612.391 Q113.584 612.391 116.524 614.798 Q119.464 617.206 119.464 621.349 Q119.464 624.312 117.774 626.372 Q116.108 628.432 113.121 629.173 Q116.501 629.96 118.376 632.252 Q120.274 634.543 120.274 637.854 Q120.274 642.877 117.195 645.562 Q114.14 648.247 108.422 648.247 Q102.705 648.247 99.6261 645.562 Q96.5706 642.877 96.5706 637.854 Q96.5706 634.543 98.4687 632.252 Q100.367 629.96 103.746 629.173 M102.034 621.789 Q102.034 624.474 103.7 625.979 Q105.39 627.483 108.422 627.483 Q111.432 627.483 113.121 625.979 Q114.834 624.474 114.834 621.789 Q114.834 619.104 113.121 617.599 Q111.432 616.095 108.422 616.095 Q105.39 616.095 103.7 617.599 Q102.034 619.104 102.034 621.789 Z\" fill=\"#000000\" fill-rule=\"nonzero\" fill-opacity=\"1\" /><path clip-path=\"url(#clip290)\" d=\"M63.2837 364.78 Q59.6726 364.78 57.8439 368.345 Q56.0384 371.887 56.0384 379.016 Q56.0384 386.123 57.8439 389.688 Q59.6726 393.229 63.2837 393.229 Q66.918 393.229 68.7235 389.688 Q70.5522 386.123 70.5522 379.016 Q70.5522 371.887 68.7235 368.345 Q66.918 364.78 63.2837 364.78 M63.2837 361.077 Q69.0939 361.077 72.1494 365.683 Q75.2281 370.266 75.2281 379.016 Q75.2281 387.743 72.1494 392.35 Q69.0939 396.933 63.2837 396.933 Q57.4736 396.933 54.3949 392.35 Q51.3393 387.743 51.3393 379.016 Q51.3393 370.266 54.3949 365.683 Q57.4736 361.077 63.2837 361.077 Z\" fill=\"#000000\" fill-rule=\"nonzero\" fill-opacity=\"1\" /><path clip-path=\"url(#clip290)\" d=\"M83.4457 390.382 L88.3299 390.382 L88.3299 396.262 L83.4457 396.262 L83.4457 390.382 Z\" fill=\"#000000\" fill-rule=\"nonzero\" fill-opacity=\"1\" /><path clip-path=\"url(#clip290)\" d=\"M98.6539 395.544 L98.6539 391.285 Q100.413 392.118 102.219 392.558 Q104.024 392.998 105.76 392.998 Q110.39 392.998 112.82 389.896 Q115.274 386.771 115.621 380.428 Q114.279 382.419 112.219 383.484 Q110.158 384.549 107.658 384.549 Q102.473 384.549 99.4409 381.424 Q96.4317 378.276 96.4317 372.836 Q96.4317 367.512 99.5798 364.294 Q102.728 361.077 107.959 361.077 Q113.955 361.077 117.103 365.683 Q120.274 370.266 120.274 379.016 Q120.274 387.188 116.385 392.072 Q112.52 396.933 105.969 396.933 Q104.209 396.933 102.404 396.586 Q100.598 396.239 98.6539 395.544 M107.959 380.891 Q111.108 380.891 112.936 378.739 Q114.788 376.586 114.788 372.836 Q114.788 369.109 112.936 366.956 Q111.108 364.78 107.959 364.78 Q104.811 364.78 102.959 366.956 Q101.131 369.109 101.131 372.836 Q101.131 376.586 102.959 378.739 Q104.811 380.891 107.959 380.891 Z\" fill=\"#000000\" fill-rule=\"nonzero\" fill-opacity=\"1\" /><path clip-path=\"url(#clip290)\" d=\"M53.9088 141.012 L61.5476 141.012 L61.5476 114.647 L53.2375 116.313 L53.2375 112.054 L61.5013 110.388 L66.1772 110.388 L66.1772 141.012 L73.8161 141.012 L73.8161 144.948 L53.9088 144.948 L53.9088 141.012 Z\" fill=\"#000000\" fill-rule=\"nonzero\" fill-opacity=\"1\" /><path clip-path=\"url(#clip290)\" d=\"M83.2605 139.068 L88.1447 139.068 L88.1447 144.948 L83.2605 144.948 L83.2605 139.068 Z\" fill=\"#000000\" fill-rule=\"nonzero\" fill-opacity=\"1\" /><path clip-path=\"url(#clip290)\" d=\"M108.33 113.466 Q104.719 113.466 102.89 117.031 Q101.084 120.573 101.084 127.702 Q101.084 134.809 102.89 138.373 Q104.719 141.915 108.33 141.915 Q111.964 141.915 113.77 138.373 Q115.598 134.809 115.598 127.702 Q115.598 120.573 113.77 117.031 Q111.964 113.466 108.33 113.466 M108.33 109.763 Q114.14 109.763 117.195 114.369 Q120.274 118.952 120.274 127.702 Q120.274 136.429 117.195 141.036 Q114.14 145.619 108.33 145.619 Q102.52 145.619 99.4409 141.036 Q96.3854 136.429 96.3854 127.702 Q96.3854 118.952 99.4409 114.369 Q102.52 109.763 108.33 109.763 Z\" fill=\"#000000\" fill-rule=\"nonzero\" fill-opacity=\"1\" /><polyline clip-path=\"url(#clip292)\" style=\"stroke:#009af9; stroke-linecap:round; stroke-linejoin:round; stroke-width:4; stroke-opacity:1; fill:none\" points=\"218.439,1384.24 222.583,755.255 226.727,440.066 230.872,281.775 235.016,201.935 239.16,161.323 243.305,140.33 247.449,129.149 251.593,122.88 255.737,119.072 259.882,116.502 264.026,114.559 268.17,112.936 272.315,111.483 276.459,110.125 280.603,108.824 284.748,107.564 288.892,106.335 293.036,105.135 297.181,103.963 301.325,102.818 305.469,101.702 309.613,100.616 313.758,99.5612 317.902,98.5381 322.046,97.5484 326.191,96.5932 330.335,95.6737 334.479,94.7911 338.624,93.9464 342.768,93.1407 346.912,92.375 351.057,91.6502 355.201,90.9673 359.345,90.3272 363.489,89.7306 367.634,89.1783 371.778,88.6709 375.922,88.2093 380.067,87.7938 384.211,87.4251 388.355,87.1037 392.5,86.8299 396.644,86.6041 400.788,86.4266 404.932,86.2976 409.077,86.2172 413.221,86.1857 417.365,86.2029 421.51,86.269 425.654,86.3838 429.798,86.5472 433.943,86.7589 438.087,87.0187 442.231,87.3262 446.376,87.6811 450.52,88.0829 454.664,88.5311 458.808,89.0252 462.953,89.5644 467.097,90.1481 471.241,90.7756 475.386,91.4461 479.53,92.1587 483.674,92.9125 487.819,93.7066 491.963,94.54 496.107,95.4116 500.251,96.3204 504.396,97.2653 508.54,98.245 512.684,99.2583 516.829,100.304 520.973,101.381 525.117,102.488 529.262,103.623 533.406,104.785 537.55,105.973 541.695,107.185 545.839,108.42 549.983,109.677 554.127,110.953 558.272,112.247 562.416,113.559 566.56,114.885 570.705,116.226 574.849,117.579 578.993,118.942 583.138,120.314 587.282,121.694 591.426,123.08 595.571,124.47 599.715,125.863 603.859,127.257 608.003,128.651 612.148,130.043 616.292,131.431 620.436,132.815 624.581,134.192 628.725,135.562 632.869,136.922 637.014,138.271 641.158,139.607 645.302,140.93 649.446,142.238 653.591,143.53 657.735,144.803 661.879,146.057 666.024,147.291 670.168,148.503 674.312,149.692 678.457,150.857 682.601,151.996 686.745,153.108 690.89,154.193 695.034,155.249 699.178,156.275 703.322,157.27 707.467,158.233 711.611,159.164 715.755,160.06 719.9,160.922 724.044,161.748 728.188,162.538 732.333,163.291 736.477,164.006 740.621,164.682 744.765,165.319 748.91,165.916 753.054,166.473 757.198,166.989 761.343,167.463 765.487,167.896 769.631,168.286 773.776,168.633 777.92,168.938 782.064,169.199 786.209,169.417 790.353,169.59 794.497,169.72 798.641,169.806 802.786,169.848 806.93,169.845 811.074,169.798 815.219,169.707 819.363,169.573 823.507,169.394 827.652,169.171 831.796,168.905 835.94,168.596 840.085,168.243 844.229,167.848 848.373,167.411 852.517,166.931 856.662,166.411 860.806,165.849 864.95,165.247 869.095,164.606 873.239,163.925 877.383,163.206 881.528,162.449 885.672,161.655 889.816,160.824 893.96,159.958 898.105,159.058 902.249,158.124 906.393,157.157 910.538,156.158 914.682,155.129 918.826,154.069 922.971,152.981 927.115,151.866 931.259,150.723 935.404,149.556 939.548,148.364 943.692,147.15 947.836,145.914 951.981,144.657 956.125,143.382 960.269,142.088 964.414,140.778 968.558,139.454 972.702,138.116 976.847,136.765 980.991,135.404 985.135,134.034 989.28,132.656 993.424,131.271 997.568,129.882 1001.71,128.49 1005.86,127.096 1010,125.702 1014.15,124.309 1018.29,122.919 1022.43,121.534 1026.58,120.155 1030.72,118.784 1034.87,117.422 1039.01,116.07 1043.16,114.731 1047.3,113.406 1051.44,112.097 1055.59,110.804 1059.73,109.53 1063.88,108.276 1068.02,107.044 1072.17,105.834 1076.31,104.649 1080.45,103.49 1084.6,102.358 1088.74,101.255 1092.89,100.181 1097.03,99.1393 1101.18,98.1298 1105.32,97.154 1109.46,96.2133 1113.61,95.3088 1117.75,94.4415 1121.9,93.6126 1126.04,92.8231 1130.19,92.074 1134.33,91.3662 1138.47,90.7007 1142.62,90.0782 1146.76,89.4996 1150.91,88.9656 1155.05,88.4768 1159.2,88.034 1163.34,87.6376 1167.48,87.2881 1171.63,86.9861 1175.77,86.7319 1179.92,86.5257 1184.06,86.368 1188.21,86.2589 1192.35,86.1984 1196.49,86.1868 1200.64,86.224 1204.78,86.31 1208.93,86.4447 1213.07,86.6278 1217.22,86.8592 1221.36,87.1385 1225.5,87.4655 1229.65,87.8396 1233.79,88.2604 1237.94,88.7274 1242.08,89.24 1246.23,89.7974 1250.37,90.3991 1254.52,91.0443 1258.66,91.7321 1262.8,92.4616 1266.95,93.232 1271.09,94.0423 1275.24,94.8914 1279.38,95.7784 1283.53,96.702 1287.67,97.6612 1291.81,98.6548 1295.96,99.6816 1300.1,100.74 1304.25,101.829 1308.39,102.948 1312.54,104.094 1316.68,105.267 1320.82,106.465 1324.97,107.687 1329.11,108.931 1333.26,110.195 1337.4,111.479 1341.55,112.781 1345.69,114.099 1349.83,115.431 1353.98,116.777 1358.12,118.134 1362.27,119.501 1366.41,120.877 1370.56,122.259 1374.7,123.647 1378.84,125.038 1382.99,126.432 1387.13,127.826 1391.28,129.22 1395.42,130.61 1399.57,131.997 1403.71,133.378 1407.85,134.753 1412,136.118 1416.14,137.474 1420.29,138.818 1424.43,140.15 1428.58,141.467 1432.72,142.768 1436.86,144.052 1441.01,145.318 1445.15,146.564 1449.3,147.789 1453.44,148.991 1457.59,150.171 1461.73,151.325 1465.87,152.453 1470.02,153.555 1474.16,154.628 1478.31,155.672 1482.45,156.685 1486.6,157.667 1490.74,158.617 1494.88,159.534 1499.03,160.416 1503.17,161.264 1507.32,162.075 1511.46,162.85 1515.61,163.587 1519.75,164.286 1523.89,164.947 1528.04,165.568 1532.18,166.148 1536.33,166.689 1540.47,167.188 1544.62,167.645 1548.76,168.06 1552.91,168.433 1557.05,168.763 1561.19,169.05 1565.34,169.293 1569.48,169.493 1573.63,169.649 1577.77,169.761 1581.92,169.828 1586.06,169.852 1590.2,169.831 1594.35,169.767 1598.49,169.658 1602.64,169.505 1606.78,169.308 1610.93,169.068 1615.07,168.784 1619.21,168.457 1623.36,168.087 1627.5,167.674 1631.65,167.22 1635.79,166.724 1639.94,166.186 1644.08,165.608 1648.22,164.99 1652.37,164.332 1656.51,163.636 1660.66,162.901 1664.8,162.129 1668.95,161.32 1673.09,160.475 1677.23,159.595 1681.38,158.681 1685.52,157.733 1689.67,156.753 1693.81,155.741 1697.96,154.7 1702.1,153.628 1706.24,152.529 1710.39,151.402 1714.53,150.25 1718.68,149.072 1722.82,147.871 1726.97,146.648 1731.11,145.403 1735.25,144.138 1739.4,142.855 1743.54,141.555 1747.69,140.239 1751.83,138.909 1755.98,137.565 1760.12,136.21 1764.26,134.845 1768.41,133.472 1772.55,132.091 1776.7,130.704 1780.84,129.314 1784.99,127.921 1789.13,126.526 1793.27,125.133 1797.42,123.741 1801.56,122.353 1805.71,120.97 1809.85,119.594 1814,118.226 1818.14,116.868 1822.28,115.522 1826.43,114.188 1830.57,112.869 1834.72,111.567 1838.86,110.282 1843.01,109.016 1847.15,107.77 1851.29,106.547 1855.44,105.347 1859.58,104.173 1863.73,103.024 1867.87,101.904 1872.02,100.813 1876.16,99.7519 1880.31,98.723 1884.45,97.7271 1888.59,96.7655 1892.74,95.8395 1896.88,94.95 1901.03,94.0983 1905.17,93.2853 1909.32,92.5122 1913.46,91.7799 1917.6,91.0893 1921.75,90.4412 1925.89,89.8366 1930.04,89.2761 1934.18,88.7605 1938.33,88.2904 1942.47,87.8664 1946.61,87.4892 1950.76,87.159 1954.9,86.8765 1959.05,86.6418 1963.19,86.4555 1967.34,86.3175 1971.48,86.2283 1975.62,86.1878 1979.77,86.1961 1983.91,86.2533 1988.06,86.3591 1992.2,86.5136 1996.35,86.7165 2000.49,86.9675 2004.63,87.2663 2008.78,87.6126 2012.92,88.0058 2017.07,88.4456 2021.21,88.9313 2025.36,89.4623 2029.5,90.0379 2033.64,90.6574 2037.79,91.3201 2041.93,92.025 2046.08,92.7714 2050.22,93.5582 2054.37,94.3844 2058.51,95.2491 2062.65,96.1512 2066.8,97.0895 2070.94,98.0629 2075.09,99.0702 2079.23,100.11 2083.38,101.181 2087.52,102.283 2091.66,103.413 2095.81,104.57 2099.95,105.754 2104.1,106.961 2108.24,108.192 2112.39,109.445 2116.53,110.718 2120.67,112.009 2124.82,113.317 2128.96,114.641 2133.11,115.979 2137.25,117.33 2141.4,118.691 2145.54,120.062 2149.68,121.441 2153.83,122.825 2157.97,124.215 2162.12,125.607 2166.26,127.002 2170.41,128.396 2174.55,129.788 2178.7,131.177 2182.84,132.562 2186.98,133.941 2191.13,135.312 2195.27,136.673 2199.42,138.024 2203.56,139.364 2207.71,140.689 2211.85,142 2215.99,143.294 2220.14,144.571 2224.28,145.829 2228.43,147.067 2232.57,148.283 2236.72,149.476 2240.86,150.645 2245,151.789 2249.15,152.907 2253.29,153.996 2257.44,155.058 2261.58,156.089 2265.73,157.09 2269.87,158.059 2274.01,158.996 2278.16,159.898 2282.3,160.767 2286.45,161.599 2290.59,162.396 \"/>\n",
       "<path clip-path=\"url(#clip290)\" d=\"M1710.87 196.789 L2279.54 196.789 L2279.54 93.1086 L1710.87 93.1086  Z\" fill=\"#ffffff\" fill-rule=\"evenodd\" fill-opacity=\"1\"/>\n",
       "<polyline clip-path=\"url(#clip290)\" style=\"stroke:#000000; stroke-linecap:round; stroke-linejoin:round; stroke-width:4; stroke-opacity:1; fill:none\" points=\"1710.87,196.789 2279.54,196.789 2279.54,93.1086 1710.87,93.1086 1710.87,196.789 \"/>\n",
       "<polyline clip-path=\"url(#clip290)\" style=\"stroke:#009af9; stroke-linecap:round; stroke-linejoin:round; stroke-width:4; stroke-opacity:1; fill:none\" points=\"1735.27,144.949 1881.7,144.949 \"/>\n",
       "<path clip-path=\"url(#clip290)\" d=\"M1910.78 131.511 L1910.78 144.497 L1916.66 144.497 Q1919.93 144.497 1921.71 142.807 Q1923.49 141.118 1923.49 137.993 Q1923.49 134.891 1921.71 133.201 Q1919.93 131.511 1916.66 131.511 L1910.78 131.511 M1906.11 127.669 L1916.66 127.669 Q1922.47 127.669 1925.44 130.307 Q1928.42 132.923 1928.42 137.993 Q1928.42 143.108 1925.44 145.724 Q1922.47 148.34 1916.66 148.34 L1910.78 148.34 L1910.78 162.229 L1906.11 162.229 L1906.11 127.669 Z\" fill=\"#000000\" fill-rule=\"nonzero\" fill-opacity=\"1\" /><path clip-path=\"url(#clip290)\" d=\"M1934.51 126.21 L1938.77 126.21 L1938.77 162.229 L1934.51 162.229 L1934.51 126.21 Z\" fill=\"#000000\" fill-rule=\"nonzero\" fill-opacity=\"1\" /><path clip-path=\"url(#clip290)\" d=\"M1959.46 149.196 Q1954.3 149.196 1952.31 150.377 Q1950.32 151.557 1950.32 154.405 Q1950.32 156.673 1951.8 158.016 Q1953.31 159.335 1955.88 159.335 Q1959.42 159.335 1961.55 156.835 Q1963.7 154.312 1963.7 150.145 L1963.7 149.196 L1959.46 149.196 M1967.96 147.437 L1967.96 162.229 L1963.7 162.229 L1963.7 158.293 Q1962.24 160.655 1960.07 161.789 Q1957.89 162.9 1954.74 162.9 Q1950.76 162.9 1948.4 160.678 Q1946.06 158.432 1946.06 154.682 Q1946.06 150.307 1948.98 148.085 Q1951.92 145.863 1957.73 145.863 L1963.7 145.863 L1963.7 145.446 Q1963.7 142.507 1961.76 140.909 Q1959.84 139.289 1956.34 139.289 Q1954.12 139.289 1952.01 139.821 Q1949.9 140.354 1947.96 141.419 L1947.96 137.483 Q1950.3 136.581 1952.5 136.141 Q1954.7 135.678 1956.78 135.678 Q1962.4 135.678 1965.18 138.594 Q1967.96 141.511 1967.96 147.437 Z\" fill=\"#000000\" fill-rule=\"nonzero\" fill-opacity=\"1\" /><path clip-path=\"url(#clip290)\" d=\"M1998.28 146.581 L1998.28 162.229 L1994.02 162.229 L1994.02 146.719 Q1994.02 143.039 1992.59 141.21 Q1991.15 139.382 1988.28 139.382 Q1984.84 139.382 1982.84 141.581 Q1980.85 143.78 1980.85 147.576 L1980.85 162.229 L1976.57 162.229 L1976.57 136.303 L1980.85 136.303 L1980.85 140.331 Q1982.38 137.993 1984.44 136.835 Q1986.52 135.678 1989.23 135.678 Q1993.7 135.678 1995.99 138.456 Q1998.28 141.21 1998.28 146.581 Z\" fill=\"#000000\" fill-rule=\"nonzero\" fill-opacity=\"1\" /><path clip-path=\"url(#clip290)\" d=\"M2028.96 148.201 L2028.96 150.284 L2009.37 150.284 Q2009.65 154.682 2012.01 156.997 Q2014.4 159.289 2018.63 159.289 Q2021.08 159.289 2023.38 158.687 Q2025.69 158.085 2027.96 156.881 L2027.96 160.909 Q2025.67 161.881 2023.26 162.391 Q2020.85 162.9 2018.38 162.9 Q2012.17 162.9 2008.54 159.289 Q2004.93 155.678 2004.93 149.52 Q2004.93 143.155 2008.35 139.428 Q2011.8 135.678 2017.64 135.678 Q2022.87 135.678 2025.9 139.057 Q2028.96 142.414 2028.96 148.201 M2024.7 146.951 Q2024.65 143.456 2022.73 141.372 Q2020.83 139.289 2017.68 139.289 Q2014.12 139.289 2011.96 141.303 Q2009.83 143.317 2009.51 146.974 L2024.7 146.951 Z\" fill=\"#000000\" fill-rule=\"nonzero\" fill-opacity=\"1\" /><path clip-path=\"url(#clip290)\" d=\"M2040.16 128.942 L2040.16 136.303 L2048.93 136.303 L2048.93 139.613 L2040.16 139.613 L2040.16 153.687 Q2040.16 156.858 2041.02 157.761 Q2041.89 158.664 2044.56 158.664 L2048.93 158.664 L2048.93 162.229 L2044.56 162.229 Q2039.63 162.229 2037.75 160.4 Q2035.88 158.548 2035.88 153.687 L2035.88 139.613 L2032.75 139.613 L2032.75 136.303 L2035.88 136.303 L2035.88 128.942 L2040.16 128.942 Z\" fill=\"#000000\" fill-rule=\"nonzero\" fill-opacity=\"1\" /><path clip-path=\"url(#clip290)\" d=\"M2090.51 128.803 L2090.51 133.363 Q2087.84 132.09 2085.48 131.465 Q2083.12 130.84 2080.92 130.84 Q2077.1 130.84 2075.02 132.321 Q2072.96 133.803 2072.96 136.534 Q2072.96 138.826 2074.33 140.007 Q2075.71 141.164 2079.56 141.882 L2082.38 142.46 Q2087.61 143.456 2090.09 145.979 Q2092.59 148.479 2092.59 152.692 Q2092.59 157.715 2089.21 160.307 Q2085.85 162.9 2079.35 162.9 Q2076.89 162.9 2074.12 162.344 Q2071.36 161.789 2068.4 160.701 L2068.4 155.886 Q2071.25 157.483 2073.98 158.293 Q2076.71 159.104 2079.35 159.104 Q2083.35 159.104 2085.53 157.53 Q2087.7 155.956 2087.7 153.039 Q2087.7 150.493 2086.13 149.057 Q2084.58 147.622 2081.02 146.905 L2078.17 146.349 Q2072.94 145.307 2070.6 143.085 Q2068.26 140.863 2068.26 136.905 Q2068.26 132.321 2071.48 129.682 Q2074.72 127.044 2080.39 127.044 Q2082.82 127.044 2085.34 127.483 Q2087.87 127.923 2090.51 128.803 Z\" fill=\"#000000\" fill-rule=\"nonzero\" fill-opacity=\"1\" /><path clip-path=\"url(#clip290)\" d=\"M2103.82 158.34 L2103.82 172.09 L2099.53 172.09 L2099.53 136.303 L2103.82 136.303 L2103.82 140.238 Q2105.16 137.923 2107.2 136.812 Q2109.26 135.678 2112.1 135.678 Q2116.83 135.678 2119.76 139.428 Q2122.73 143.178 2122.73 149.289 Q2122.73 155.4 2119.76 159.15 Q2116.83 162.9 2112.1 162.9 Q2109.26 162.9 2107.2 161.789 Q2105.16 160.655 2103.82 158.34 M2118.31 149.289 Q2118.31 144.59 2116.36 141.928 Q2114.44 139.243 2111.06 139.243 Q2107.68 139.243 2105.74 141.928 Q2103.82 144.59 2103.82 149.289 Q2103.82 153.988 2105.74 156.673 Q2107.68 159.335 2111.06 159.335 Q2114.44 159.335 2116.36 156.673 Q2118.31 153.988 2118.31 149.289 Z\" fill=\"#000000\" fill-rule=\"nonzero\" fill-opacity=\"1\" /><path clip-path=\"url(#clip290)\" d=\"M2151.96 148.201 L2151.96 150.284 L2132.38 150.284 Q2132.66 154.682 2135.02 156.997 Q2137.4 159.289 2141.64 159.289 Q2144.09 159.289 2146.39 158.687 Q2148.7 158.085 2150.97 156.881 L2150.97 160.909 Q2148.68 161.881 2146.27 162.391 Q2143.86 162.9 2141.39 162.9 Q2135.18 162.9 2131.55 159.289 Q2127.94 155.678 2127.94 149.52 Q2127.94 143.155 2131.36 139.428 Q2134.81 135.678 2140.64 135.678 Q2145.88 135.678 2148.91 139.057 Q2151.96 142.414 2151.96 148.201 M2147.7 146.951 Q2147.66 143.456 2145.74 141.372 Q2143.84 139.289 2140.69 139.289 Q2137.13 139.289 2134.97 141.303 Q2132.84 143.317 2132.52 146.974 L2147.7 146.951 Z\" fill=\"#000000\" fill-rule=\"nonzero\" fill-opacity=\"1\" /><path clip-path=\"url(#clip290)\" d=\"M2181.13 148.201 L2181.13 150.284 L2161.55 150.284 Q2161.82 154.682 2164.19 156.997 Q2166.57 159.289 2170.81 159.289 Q2173.26 159.289 2175.55 158.687 Q2177.87 158.085 2180.13 156.881 L2180.13 160.909 Q2177.84 161.881 2175.44 162.391 Q2173.03 162.9 2170.55 162.9 Q2164.35 162.9 2160.71 159.289 Q2157.1 155.678 2157.1 149.52 Q2157.1 143.155 2160.53 139.428 Q2163.98 135.678 2169.81 135.678 Q2175.04 135.678 2178.07 139.057 Q2181.13 142.414 2181.13 148.201 M2176.87 146.951 Q2176.82 143.456 2174.9 141.372 Q2173.01 139.289 2169.86 139.289 Q2166.29 139.289 2164.14 141.303 Q2162.01 143.317 2161.69 146.974 L2176.87 146.951 Z\" fill=\"#000000\" fill-rule=\"nonzero\" fill-opacity=\"1\" /><path clip-path=\"url(#clip290)\" d=\"M2205.18 140.238 L2205.18 126.21 L2209.44 126.21 L2209.44 162.229 L2205.18 162.229 L2205.18 158.34 Q2203.84 160.655 2201.78 161.789 Q2199.74 162.9 2196.87 162.9 Q2192.17 162.9 2189.21 159.15 Q2186.27 155.4 2186.27 149.289 Q2186.27 143.178 2189.21 139.428 Q2192.17 135.678 2196.87 135.678 Q2199.74 135.678 2201.78 136.812 Q2203.84 137.923 2205.18 140.238 M2190.67 149.289 Q2190.67 153.988 2192.59 156.673 Q2194.53 159.335 2197.91 159.335 Q2201.29 159.335 2203.24 156.673 Q2205.18 153.988 2205.18 149.289 Q2205.18 144.59 2203.24 141.928 Q2201.29 139.243 2197.91 139.243 Q2194.53 139.243 2192.59 141.928 Q2190.67 144.59 2190.67 149.289 Z\" fill=\"#000000\" fill-rule=\"nonzero\" fill-opacity=\"1\" /><path clip-path=\"url(#clip290)\" d=\"M2225.78 127.669 L2229.72 127.669 L2217.68 166.627 L2213.75 166.627 L2225.78 127.669 Z\" fill=\"#000000\" fill-rule=\"nonzero\" fill-opacity=\"1\" /><path clip-path=\"url(#clip290)\" d=\"M2238.82 158.293 L2255.13 158.293 L2255.13 162.229 L2233.19 162.229 L2233.19 158.293 Q2235.85 155.539 2240.44 150.909 Q2245.04 146.256 2246.22 144.914 Q2248.47 142.391 2249.35 140.655 Q2250.25 138.895 2250.25 137.206 Q2250.25 134.451 2248.31 132.715 Q2246.38 130.979 2243.28 130.979 Q2241.08 130.979 2238.63 131.743 Q2236.2 132.507 2233.42 134.057 L2233.42 129.335 Q2236.25 128.201 2238.7 127.622 Q2241.15 127.044 2243.19 127.044 Q2248.56 127.044 2251.75 129.729 Q2254.95 132.414 2254.95 136.905 Q2254.95 139.034 2254.14 140.956 Q2253.35 142.854 2251.25 145.446 Q2250.67 146.118 2247.57 149.335 Q2244.46 152.53 2238.82 158.293 Z\" fill=\"#000000\" fill-rule=\"nonzero\" fill-opacity=\"1\" /></svg>\n"
      ],
      "text/html": [
       "<img src=\"data:image/png;base64,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\" />"
      ]
     },
     "metadata": {},
     "output_type": "display_data"
    },
    {
     "data": {
      "text/html": [
       "<div><div style = \"float: left;\"><span>501×1 DataFrame</span></div><div style = \"float: right;\"><span style = \"font-style: italic;\">476 rows omitted</span></div><div style = \"clear: both;\"></div></div><div class = \"data-frame\" style = \"overflow-x: scroll;\"><table class = \"data-frame\" style = \"margin-bottom: 6px;\"><thead><tr class = \"header\"><th class = \"rowNumber\" style = \"font-weight: bold; text-align: right;\">Row</th><th style = \"text-align: left;\">Planet Speed/2</th></tr><tr class = \"subheader headerLastRow\"><th class = \"rowNumber\" style = \"font-weight: bold; text-align: right;\"></th><th title = \"Float64\" style = \"text-align: left;\">Float64</th></tr></thead><tbody><tr><td class = \"rowNumber\" style = \"font-weight: bold; text-align: right;\">1</td><td style = \"text-align: right;\">0.5</td></tr><tr><td class = \"rowNumber\" style = \"font-weight: bold; text-align: right;\">2</td><td style = \"text-align: right;\">0.750278</td></tr><tr><td class = \"rowNumber\" style = \"font-weight: bold; text-align: right;\">3</td><td style = \"text-align: right;\">0.875694</td></tr><tr><td class = \"rowNumber\" style = \"font-weight: bold; text-align: right;\">4</td><td style = \"text-align: right;\">0.938679</td></tr><tr><td class = \"rowNumber\" style = \"font-weight: bold; text-align: right;\">5</td><td style = \"text-align: right;\">0.970448</td></tr><tr><td class = \"rowNumber\" style = \"font-weight: bold; text-align: right;\">6</td><td style = \"text-align: right;\">0.986608</td></tr><tr><td class = \"rowNumber\" style = \"font-weight: bold; text-align: right;\">7</td><td style = \"text-align: right;\">0.994962</td></tr><tr><td class = \"rowNumber\" style = \"font-weight: bold; text-align: right;\">8</td><td style = \"text-align: right;\">0.999411</td></tr><tr><td class = \"rowNumber\" style = \"font-weight: bold; text-align: right;\">9</td><td style = \"text-align: right;\">1.00191</td></tr><tr><td class = \"rowNumber\" style = \"font-weight: bold; text-align: right;\">10</td><td style = \"text-align: right;\">1.00342</td></tr><tr><td class = \"rowNumber\" style = \"font-weight: bold; text-align: right;\">11</td><td style = \"text-align: right;\">1.00444</td></tr><tr><td class = \"rowNumber\" style = \"font-weight: bold; text-align: right;\">12</td><td style = \"text-align: right;\">1.00522</td></tr><tr><td class = \"rowNumber\" style = \"font-weight: bold; text-align: right;\">13</td><td style = \"text-align: right;\">1.00586</td></tr><tr><td style = \"text-align: right;\">&vellip;</td><td style = \"text-align: right;\">&vellip;</td></tr><tr><td class = \"rowNumber\" style = \"font-weight: bold; text-align: right;\">490</td><td style = \"text-align: right;\">0.990402</td></tr><tr><td class = \"rowNumber\" style = \"font-weight: bold; text-align: right;\">491</td><td style = \"text-align: right;\">0.989957</td></tr><tr><td class = \"rowNumber\" style = \"font-weight: bold; text-align: right;\">492</td><td style = \"text-align: right;\">0.989523</td></tr><tr><td class = \"rowNumber\" style = \"font-weight: bold; text-align: right;\">493</td><td style = \"text-align: right;\">0.989101</td></tr><tr><td class = \"rowNumber\" style = \"font-weight: bold; text-align: right;\">494</td><td style = \"text-align: right;\">0.988691</td></tr><tr><td class = \"rowNumber\" style = \"font-weight: bold; text-align: right;\">495</td><td style = \"text-align: right;\">0.988292</td></tr><tr><td class = \"rowNumber\" style = \"font-weight: bold; text-align: right;\">496</td><td style = \"text-align: right;\">0.987907</td></tr><tr><td class = \"rowNumber\" style = \"font-weight: bold; text-align: right;\">497</td><td style = \"text-align: right;\">0.987534</td></tr><tr><td class = \"rowNumber\" style = \"font-weight: bold; text-align: right;\">498</td><td style = \"text-align: right;\">0.987175</td></tr><tr><td class = \"rowNumber\" style = \"font-weight: bold; text-align: right;\">499</td><td style = \"text-align: right;\">0.98683</td></tr><tr><td class = \"rowNumber\" style = \"font-weight: bold; text-align: right;\">500</td><td style = \"text-align: right;\">0.986498</td></tr><tr><td class = \"rowNumber\" style = \"font-weight: bold; text-align: right;\">501</td><td style = \"text-align: right;\">0.986181</td></tr></tbody></table></div>"
      ],
      "text/latex": [
       "\\begin{tabular}{r|c}\n",
       "\t& Planet Speed/2\\\\\n",
       "\t\\hline\n",
       "\t& Float64\\\\\n",
       "\t\\hline\n",
       "\t1 & 0.5 \\\\\n",
       "\t2 & 0.750278 \\\\\n",
       "\t3 & 0.875694 \\\\\n",
       "\t4 & 0.938679 \\\\\n",
       "\t5 & 0.970448 \\\\\n",
       "\t6 & 0.986608 \\\\\n",
       "\t7 & 0.994962 \\\\\n",
       "\t8 & 0.999411 \\\\\n",
       "\t9 & 1.00191 \\\\\n",
       "\t10 & 1.00342 \\\\\n",
       "\t11 & 1.00444 \\\\\n",
       "\t12 & 1.00522 \\\\\n",
       "\t13 & 1.00586 \\\\\n",
       "\t14 & 1.00644 \\\\\n",
       "\t15 & 1.00698 \\\\\n",
       "\t16 & 1.0075 \\\\\n",
       "\t17 & 1.008 \\\\\n",
       "\t18 & 1.00849 \\\\\n",
       "\t19 & 1.00897 \\\\\n",
       "\t20 & 1.00943 \\\\\n",
       "\t21 & 1.00989 \\\\\n",
       "\t22 & 1.01033 \\\\\n",
       "\t23 & 1.01076 \\\\\n",
       "\t24 & 1.01118 \\\\\n",
       "\t25 & 1.01159 \\\\\n",
       "\t26 & 1.01198 \\\\\n",
       "\t27 & 1.01236 \\\\\n",
       "\t28 & 1.01273 \\\\\n",
       "\t29 & 1.01308 \\\\\n",
       "\t30 & 1.01342 \\\\\n",
       "\t$\\dots$ & $\\dots$ \\\\\n",
       "\\end{tabular}\n"
      ],
      "text/plain": [
       "\u001b[1m501×1 DataFrame\u001b[0m\n",
       "\u001b[1m Row \u001b[0m│\u001b[1m Planet Speed/2 \u001b[0m\n",
       "     │\u001b[90m Float64        \u001b[0m\n",
       "─────┼────────────────\n",
       "   1 │       0.5\n",
       "   2 │       0.750278\n",
       "   3 │       0.875694\n",
       "   4 │       0.938679\n",
       "   5 │       0.970448\n",
       "   6 │       0.986608\n",
       "   7 │       0.994962\n",
       "   8 │       0.999411\n",
       "   9 │       1.00191\n",
       "  10 │       1.00342\n",
       "  11 │       1.00444\n",
       "  ⋮  │       ⋮\n",
       " 492 │       0.989523\n",
       " 493 │       0.989101\n",
       " 494 │       0.988691\n",
       " 495 │       0.988292\n",
       " 496 │       0.987907\n",
       " 497 │       0.987534\n",
       " 498 │       0.987175\n",
       " 499 │       0.98683\n",
       " 500 │       0.986498\n",
       " 501 │       0.986181\n",
       "\u001b[36m      480 rows omitted\u001b[0m"
      ]
     },
     "execution_count": 13,
     "metadata": {},
     "output_type": "execute_result"
    }
   ],
   "source": [
    "df1 = get_agents_avg_props(model, \n",
    "    agent -> agent.color == cl\"blue\" ? veclength(agent.vel) : 0.0, \n",
    "    labels = [\"Planet Speed/2\"], plot_result = true)   "
   ]
  },
  {
   "cell_type": "code",
   "execution_count": 14,
   "metadata": {},
   "outputs": [],
   "source": [
    "using Plots"
   ]
  },
  {
   "cell_type": "code",
   "execution_count": 15,
   "metadata": {},
   "outputs": [
    {
     "data": {
      "text/plain": [
       "501-element Vector{Float64}:\n",
       " 1.0\n",
       " 1.0005554013202422\n",
       " 1.0011104931397656\n",
       " 1.0016646547386603\n",
       " 1.002217263340788\n",
       " 1.0027676948225217\n",
       " 1.0033153244370459\n",
       " 1.0038595275534492\n",
       " 1.004399680409748\n",
       " 1.0049351608788977\n",
       " 1.0054653492467696\n",
       " 1.0059896290009787\n",
       " 1.0065073876293702\n",
       " ⋮\n",
       " 0.9899466783348525\n",
       " 0.9895125242561936\n",
       " 0.9890897819767744\n",
       " 0.9886788771370012\n",
       " 0.988280221873525\n",
       " 0.9878942145476016\n",
       " 0.9875212394883408\n",
       " 0.9871616667504136\n",
       " 0.9868158518857825\n",
       " 0.9864841357290174\n",
       " 0.9861668441957684\n",
       " 0.985864288093968"
      ]
     },
     "execution_count": 15,
     "metadata": {},
     "output_type": "execute_result"
    }
   ],
   "source": [
    "vels = df[!,\"vel\"]\n",
    "vels1=[veclength(v) for v in vels]"
   ]
  },
  {
   "cell_type": "code",
   "execution_count": 16,
   "metadata": {},
   "outputs": [
    {
     "data": {
      "image/png": "[encoded data removed]",
      "image/svg+xml": [
       "<?xml version=\"1.0\" encoding=\"utf-8\"?>\n",
       "<svg xmlns=\"http://www.w3.org/2000/svg\" xmlns:xlink=\"http://www.w3.org/1999/xlink\" width=\"600\" height=\"400\" viewBox=\"0 0 2400 1600\">\n",
       "<defs>\n",
       "  <clipPath id=\"clip350\">\n",
       "    <rect x=\"0\" y=\"0\" width=\"2400\" height=\"1600\"/>\n",
       "  </clipPath>\n",
       "</defs>\n",
       "<path clip-path=\"url(#clip350)\" d=\"M0 1600 L2400 1600 L2400 0 L0 0  Z\" fill=\"#ffffff\" fill-rule=\"evenodd\" fill-opacity=\"1\"/>\n",
       "<defs>\n",
       "  <clipPath id=\"clip351\">\n",
       "    <rect x=\"480\" y=\"0\" width=\"1681\" height=\"1600\"/>\n",
       "  </clipPath>\n",
       "</defs>\n",
       "<path clip-path=\"url(#clip350)\" d=\"M216.436 1486.45 L2352.76 1486.45 L2352.76 47.2441 L216.436 47.2441  Z\" fill=\"#ffffff\" fill-rule=\"evenodd\" fill-opacity=\"1\"/>\n",
       "<defs>\n",
       "  <clipPath id=\"clip352\">\n",
       "    <rect x=\"216\" y=\"47\" width=\"2137\" height=\"1440\"/>\n",
       "  </clipPath>\n",
       "</defs>\n",
       "<polyline clip-path=\"url(#clip352)\" style=\"stroke:#000000; stroke-linecap:round; stroke-linejoin:round; stroke-width:2; stroke-opacity:0.1; fill:none\" points=\"272.867,1486.45 272.867,47.2441 \"/>\n",
       "<polyline clip-path=\"url(#clip352)\" style=\"stroke:#000000; stroke-linecap:round; stroke-linejoin:round; stroke-width:2; stroke-opacity:0.1; fill:none\" points=\"675.946,1486.45 675.946,47.2441 \"/>\n",
       "<polyline clip-path=\"url(#clip352)\" style=\"stroke:#000000; stroke-linecap:round; stroke-linejoin:round; stroke-width:2; stroke-opacity:0.1; fill:none\" points=\"1079.03,1486.45 1079.03,47.2441 \"/>\n",
       "<polyline clip-path=\"url(#clip352)\" style=\"stroke:#000000; stroke-linecap:round; stroke-linejoin:round; stroke-width:2; stroke-opacity:0.1; fill:none\" points=\"1482.1,1486.45 1482.1,47.2441 \"/>\n",
       "<polyline clip-path=\"url(#clip352)\" style=\"stroke:#000000; stroke-linecap:round; stroke-linejoin:round; stroke-width:2; stroke-opacity:0.1; fill:none\" points=\"1885.18,1486.45 1885.18,47.2441 \"/>\n",
       "<polyline clip-path=\"url(#clip352)\" style=\"stroke:#000000; stroke-linecap:round; stroke-linejoin:round; stroke-width:2; stroke-opacity:0.1; fill:none\" points=\"2288.26,1486.45 2288.26,47.2441 \"/>\n",
       "<polyline clip-path=\"url(#clip350)\" style=\"stroke:#000000; stroke-linecap:round; stroke-linejoin:round; stroke-width:4; stroke-opacity:1; fill:none\" points=\"216.436,1486.45 2352.76,1486.45 \"/>\n",
       "<polyline clip-path=\"url(#clip350)\" style=\"stroke:#000000; stroke-linecap:round; stroke-linejoin:round; stroke-width:4; stroke-opacity:1; fill:none\" points=\"272.867,1486.45 272.867,1467.55 \"/>\n",
       "<polyline clip-path=\"url(#clip350)\" style=\"stroke:#000000; stroke-linecap:round; stroke-linejoin:round; stroke-width:4; stroke-opacity:1; fill:none\" points=\"675.946,1486.45 675.946,1467.55 \"/>\n",
       "<polyline clip-path=\"url(#clip350)\" style=\"stroke:#000000; stroke-linecap:round; stroke-linejoin:round; stroke-width:4; stroke-opacity:1; fill:none\" points=\"1079.03,1486.45 1079.03,1467.55 \"/>\n",
       "<polyline clip-path=\"url(#clip350)\" style=\"stroke:#000000; stroke-linecap:round; stroke-linejoin:round; stroke-width:4; stroke-opacity:1; fill:none\" points=\"1482.1,1486.45 1482.1,1467.55 \"/>\n",
       "<polyline clip-path=\"url(#clip350)\" style=\"stroke:#000000; stroke-linecap:round; stroke-linejoin:round; stroke-width:4; stroke-opacity:1; fill:none\" points=\"1885.18,1486.45 1885.18,1467.55 \"/>\n",
       "<polyline clip-path=\"url(#clip350)\" style=\"stroke:#000000; stroke-linecap:round; stroke-linejoin:round; stroke-width:4; stroke-opacity:1; fill:none\" points=\"2288.26,1486.45 2288.26,1467.55 \"/>\n",
       "<path clip-path=\"url(#clip350)\" d=\"M272.867 1517.37 Q269.256 1517.37 267.427 1520.93 Q265.622 1524.47 265.622 1531.6 Q265.622 1538.71 267.427 1542.27 Q269.256 1545.82 272.867 1545.82 Q276.501 1545.82 278.307 1542.27 Q280.135 1538.71 280.135 1531.6 Q280.135 1524.47 278.307 1520.93 Q276.501 1517.37 272.867 1517.37 M272.867 1513.66 Q278.677 1513.66 281.733 1518.27 Q284.811 1522.85 284.811 1531.6 Q284.811 1540.33 281.733 1544.94 Q278.677 1549.52 272.867 1549.52 Q267.057 1549.52 263.978 1544.94 Q260.923 1540.33 260.923 1531.6 Q260.923 1522.85 263.978 1518.27 Q267.057 1513.66 272.867 1513.66 Z\" fill=\"#000000\" fill-rule=\"nonzero\" fill-opacity=\"1\" /><path clip-path=\"url(#clip350)\" d=\"M635.553 1544.91 L643.192 1544.91 L643.192 1518.55 L634.882 1520.21 L634.882 1515.95 L643.145 1514.29 L647.821 1514.29 L647.821 1544.91 L655.46 1544.91 L655.46 1548.85 L635.553 1548.85 L635.553 1544.91 Z\" fill=\"#000000\" fill-rule=\"nonzero\" fill-opacity=\"1\" /><path clip-path=\"url(#clip350)\" d=\"M674.905 1517.37 Q671.293 1517.37 669.465 1520.93 Q667.659 1524.47 667.659 1531.6 Q667.659 1538.71 669.465 1542.27 Q671.293 1545.82 674.905 1545.82 Q678.539 1545.82 680.344 1542.27 Q682.173 1538.71 682.173 1531.6 Q682.173 1524.47 680.344 1520.93 Q678.539 1517.37 674.905 1517.37 M674.905 1513.66 Q680.715 1513.66 683.77 1518.27 Q686.849 1522.85 686.849 1531.6 Q686.849 1540.33 683.77 1544.94 Q680.715 1549.52 674.905 1549.52 Q669.094 1549.52 666.016 1544.94 Q662.96 1540.33 662.96 1531.6 Q662.96 1522.85 666.016 1518.27 Q669.094 1513.66 674.905 1513.66 Z\" fill=\"#000000\" fill-rule=\"nonzero\" fill-opacity=\"1\" /><path clip-path=\"url(#clip350)\" d=\"M705.066 1517.37 Q701.455 1517.37 699.627 1520.93 Q697.821 1524.47 697.821 1531.6 Q697.821 1538.71 699.627 1542.27 Q701.455 1545.82 705.066 1545.82 Q708.701 1545.82 710.506 1542.27 Q712.335 1538.71 712.335 1531.6 Q712.335 1524.47 710.506 1520.93 Q708.701 1517.37 705.066 1517.37 M705.066 1513.66 Q710.877 1513.66 713.932 1518.27 Q717.011 1522.85 717.011 1531.6 Q717.011 1540.33 713.932 1544.94 Q710.877 1549.52 705.066 1549.52 Q699.256 1549.52 696.178 1544.94 Q693.122 1540.33 693.122 1531.6 Q693.122 1522.85 696.178 1518.27 Q699.256 1513.66 705.066 1513.66 Z\" fill=\"#000000\" fill-rule=\"nonzero\" fill-opacity=\"1\" /><path clip-path=\"url(#clip350)\" d=\"M1042.72 1544.91 L1059.04 1544.91 L1059.04 1548.85 L1037.09 1548.85 L1037.09 1544.91 Q1039.75 1542.16 1044.34 1537.53 Q1048.94 1532.88 1050.13 1531.53 Q1052.37 1529.01 1053.25 1527.27 Q1054.15 1525.51 1054.15 1523.82 Q1054.15 1521.07 1052.21 1519.33 Q1050.29 1517.6 1047.19 1517.6 Q1044.99 1517.6 1042.53 1518.36 Q1040.1 1519.13 1037.32 1520.68 L1037.32 1515.95 Q1040.15 1514.82 1042.6 1514.24 Q1045.06 1513.66 1047.09 1513.66 Q1052.46 1513.66 1055.66 1516.35 Q1058.85 1519.03 1058.85 1523.52 Q1058.85 1525.65 1058.04 1527.57 Q1057.25 1529.47 1055.15 1532.07 Q1054.57 1532.74 1051.47 1535.95 Q1048.37 1539.15 1042.72 1544.91 Z\" fill=\"#000000\" fill-rule=\"nonzero\" fill-opacity=\"1\" /><path clip-path=\"url(#clip350)\" d=\"M1078.85 1517.37 Q1075.24 1517.37 1073.41 1520.93 Q1071.61 1524.47 1071.61 1531.6 Q1071.61 1538.71 1073.41 1542.27 Q1075.24 1545.82 1078.85 1545.82 Q1082.49 1545.82 1084.29 1542.27 Q1086.12 1538.71 1086.12 1531.6 Q1086.12 1524.47 1084.29 1520.93 Q1082.49 1517.37 1078.85 1517.37 M1078.85 1513.66 Q1084.66 1513.66 1087.72 1518.27 Q1090.8 1522.85 1090.8 1531.6 Q1090.8 1540.33 1087.72 1544.94 Q1084.66 1549.52 1078.85 1549.52 Q1073.04 1549.52 1069.96 1544.94 Q1066.91 1540.33 1066.91 1531.6 Q1066.91 1522.85 1069.96 1518.27 Q1073.04 1513.66 1078.85 1513.66 Z\" fill=\"#000000\" fill-rule=\"nonzero\" fill-opacity=\"1\" /><path clip-path=\"url(#clip350)\" d=\"M1109.01 1517.37 Q1105.4 1517.37 1103.57 1520.93 Q1101.77 1524.47 1101.77 1531.6 Q1101.77 1538.71 1103.57 1542.27 Q1105.4 1545.82 1109.01 1545.82 Q1112.65 1545.82 1114.45 1542.27 Q1116.28 1538.71 1116.28 1531.6 Q1116.28 1524.47 1114.45 1520.93 Q1112.65 1517.37 1109.01 1517.37 M1109.01 1513.66 Q1114.82 1513.66 1117.88 1518.27 Q1120.96 1522.85 1120.96 1531.6 Q1120.96 1540.33 1117.88 1544.94 Q1114.82 1549.52 1109.01 1549.52 Q1103.2 1549.52 1100.12 1544.94 Q1097.07 1540.33 1097.07 1531.6 Q1097.07 1522.85 1100.12 1518.27 Q1103.2 1513.66 1109.01 1513.66 Z\" fill=\"#000000\" fill-rule=\"nonzero\" fill-opacity=\"1\" /><path clip-path=\"url(#clip350)\" d=\"M1455.87 1530.21 Q1459.22 1530.93 1461.1 1533.2 Q1463 1535.47 1463 1538.8 Q1463 1543.92 1459.48 1546.72 Q1455.96 1549.52 1449.48 1549.52 Q1447.3 1549.52 1444.99 1549.08 Q1442.7 1548.66 1440.24 1547.81 L1440.24 1543.29 Q1442.19 1544.43 1444.5 1545.01 Q1446.82 1545.58 1449.34 1545.58 Q1453.74 1545.58 1456.03 1543.85 Q1458.34 1542.11 1458.34 1538.8 Q1458.34 1535.75 1456.19 1534.03 Q1454.06 1532.3 1450.24 1532.3 L1446.21 1532.3 L1446.21 1528.45 L1450.43 1528.45 Q1453.88 1528.45 1455.7 1527.09 Q1457.53 1525.7 1457.53 1523.11 Q1457.53 1520.45 1455.63 1519.03 Q1453.76 1517.6 1450.24 1517.6 Q1448.32 1517.6 1446.12 1518.01 Q1443.92 1518.43 1441.28 1519.31 L1441.28 1515.14 Q1443.95 1514.4 1446.26 1514.03 Q1448.6 1513.66 1450.66 1513.66 Q1455.98 1513.66 1459.08 1516.09 Q1462.19 1518.5 1462.19 1522.62 Q1462.19 1525.49 1460.54 1527.48 Q1458.9 1529.45 1455.87 1530.21 Z\" fill=\"#000000\" fill-rule=\"nonzero\" fill-opacity=\"1\" /><path clip-path=\"url(#clip350)\" d=\"M1481.86 1517.37 Q1478.25 1517.37 1476.42 1520.93 Q1474.62 1524.47 1474.62 1531.6 Q1474.62 1538.71 1476.42 1542.27 Q1478.25 1545.82 1481.86 1545.82 Q1485.5 1545.82 1487.3 1542.27 Q1489.13 1538.71 1489.13 1531.6 Q1489.13 1524.47 1487.3 1520.93 Q1485.5 1517.37 1481.86 1517.37 M1481.86 1513.66 Q1487.67 1513.66 1490.73 1518.27 Q1493.81 1522.85 1493.81 1531.6 Q1493.81 1540.33 1490.73 1544.94 Q1487.67 1549.52 1481.86 1549.52 Q1476.05 1549.52 1472.97 1544.94 Q1469.92 1540.33 1469.92 1531.6 Q1469.92 1522.85 1472.97 1518.27 Q1476.05 1513.66 1481.86 1513.66 Z\" fill=\"#000000\" fill-rule=\"nonzero\" fill-opacity=\"1\" /><path clip-path=\"url(#clip350)\" d=\"M1512.02 1517.37 Q1508.41 1517.37 1506.58 1520.93 Q1504.78 1524.47 1504.78 1531.6 Q1504.78 1538.71 1506.58 1542.27 Q1508.41 1545.82 1512.02 1545.82 Q1515.66 1545.82 1517.46 1542.27 Q1519.29 1538.71 1519.29 1531.6 Q1519.29 1524.47 1517.46 1520.93 Q1515.66 1517.37 1512.02 1517.37 M1512.02 1513.66 Q1517.83 1513.66 1520.89 1518.27 Q1523.97 1522.85 1523.97 1531.6 Q1523.97 1540.33 1520.89 1544.94 Q1517.83 1549.52 1512.02 1549.52 Q1506.21 1549.52 1503.13 1544.94 Q1500.08 1540.33 1500.08 1531.6 Q1500.08 1522.85 1503.13 1518.27 Q1506.21 1513.66 1512.02 1513.66 Z\" fill=\"#000000\" fill-rule=\"nonzero\" fill-opacity=\"1\" /><path clip-path=\"url(#clip350)\" d=\"M1858.27 1518.36 L1846.47 1536.81 L1858.27 1536.81 L1858.27 1518.36 M1857.05 1514.29 L1862.93 1514.29 L1862.93 1536.81 L1867.86 1536.81 L1867.86 1540.7 L1862.93 1540.7 L1862.93 1548.85 L1858.27 1548.85 L1858.27 1540.7 L1842.67 1540.7 L1842.67 1536.19 L1857.05 1514.29 Z\" fill=\"#000000\" fill-rule=\"nonzero\" fill-opacity=\"1\" /><path clip-path=\"url(#clip350)\" d=\"M1885.59 1517.37 Q1881.98 1517.37 1880.15 1520.93 Q1878.34 1524.47 1878.34 1531.6 Q1878.34 1538.71 1880.15 1542.27 Q1881.98 1545.82 1885.59 1545.82 Q1889.22 1545.82 1891.03 1542.27 Q1892.86 1538.71 1892.86 1531.6 Q1892.86 1524.47 1891.03 1520.93 Q1889.22 1517.37 1885.59 1517.37 M1885.59 1513.66 Q1891.4 1513.66 1894.45 1518.27 Q1897.53 1522.85 1897.53 1531.6 Q1897.53 1540.33 1894.45 1544.94 Q1891.4 1549.52 1885.59 1549.52 Q1879.78 1549.52 1876.7 1544.94 Q1873.64 1540.33 1873.64 1531.6 Q1873.64 1522.85 1876.7 1518.27 Q1879.78 1513.66 1885.59 1513.66 Z\" fill=\"#000000\" fill-rule=\"nonzero\" fill-opacity=\"1\" /><path clip-path=\"url(#clip350)\" d=\"M1915.75 1517.37 Q1912.14 1517.37 1910.31 1520.93 Q1908.51 1524.47 1908.51 1531.6 Q1908.51 1538.71 1910.31 1542.27 Q1912.14 1545.82 1915.75 1545.82 Q1919.39 1545.82 1921.19 1542.27 Q1923.02 1538.71 1923.02 1531.6 Q1923.02 1524.47 1921.19 1520.93 Q1919.39 1517.37 1915.75 1517.37 M1915.75 1513.66 Q1921.56 1513.66 1924.62 1518.27 Q1927.7 1522.85 1927.7 1531.6 Q1927.7 1540.33 1924.62 1544.94 Q1921.56 1549.52 1915.75 1549.52 Q1909.94 1549.52 1906.86 1544.94 Q1903.81 1540.33 1903.81 1531.6 Q1903.81 1522.85 1906.86 1518.27 Q1909.94 1513.66 1915.75 1513.66 Z\" fill=\"#000000\" fill-rule=\"nonzero\" fill-opacity=\"1\" /><path clip-path=\"url(#clip350)\" d=\"M2247.88 1514.29 L2266.24 1514.29 L2266.24 1518.22 L2252.16 1518.22 L2252.16 1526.7 Q2253.18 1526.35 2254.2 1526.19 Q2255.22 1526 2256.24 1526 Q2262.02 1526 2265.4 1529.17 Q2268.78 1532.34 2268.78 1537.76 Q2268.78 1543.34 2265.31 1546.44 Q2261.84 1549.52 2255.52 1549.52 Q2253.34 1549.52 2251.08 1549.15 Q2248.83 1548.78 2246.42 1548.04 L2246.42 1543.34 Q2248.51 1544.47 2250.73 1545.03 Q2252.95 1545.58 2255.43 1545.58 Q2259.43 1545.58 2261.77 1543.48 Q2264.11 1541.37 2264.11 1537.76 Q2264.11 1534.15 2261.77 1532.04 Q2259.43 1529.94 2255.43 1529.94 Q2253.55 1529.94 2251.68 1530.35 Q2249.83 1530.77 2247.88 1531.65 L2247.88 1514.29 Z\" fill=\"#000000\" fill-rule=\"nonzero\" fill-opacity=\"1\" /><path clip-path=\"url(#clip350)\" d=\"M2288 1517.37 Q2284.39 1517.37 2282.56 1520.93 Q2280.75 1524.47 2280.75 1531.6 Q2280.75 1538.71 2282.56 1542.27 Q2284.39 1545.82 2288 1545.82 Q2291.63 1545.82 2293.44 1542.27 Q2295.27 1538.71 2295.27 1531.6 Q2295.27 1524.47 2293.44 1520.93 Q2291.63 1517.37 2288 1517.37 M2288 1513.66 Q2293.81 1513.66 2296.86 1518.27 Q2299.94 1522.85 2299.94 1531.6 Q2299.94 1540.33 2296.86 1544.94 Q2293.81 1549.52 2288 1549.52 Q2282.19 1549.52 2279.11 1544.94 Q2276.05 1540.33 2276.05 1531.6 Q2276.05 1522.85 2279.11 1518.27 Q2282.19 1513.66 2288 1513.66 Z\" fill=\"#000000\" fill-rule=\"nonzero\" fill-opacity=\"1\" /><path clip-path=\"url(#clip350)\" d=\"M2318.16 1517.37 Q2314.55 1517.37 2312.72 1520.93 Q2310.91 1524.47 2310.91 1531.6 Q2310.91 1538.71 2312.72 1542.27 Q2314.55 1545.82 2318.16 1545.82 Q2321.79 1545.82 2323.6 1542.27 Q2325.43 1538.71 2325.43 1531.6 Q2325.43 1524.47 2323.6 1520.93 Q2321.79 1517.37 2318.16 1517.37 M2318.16 1513.66 Q2323.97 1513.66 2327.02 1518.27 Q2330.1 1522.85 2330.1 1531.6 Q2330.1 1540.33 2327.02 1544.94 Q2323.97 1549.52 2318.16 1549.52 Q2312.35 1549.52 2309.27 1544.94 Q2306.21 1540.33 2306.21 1531.6 Q2306.21 1522.85 2309.27 1518.27 Q2312.35 1513.66 2318.16 1513.66 Z\" fill=\"#000000\" fill-rule=\"nonzero\" fill-opacity=\"1\" /><polyline clip-path=\"url(#clip352)\" style=\"stroke:#000000; stroke-linecap:round; stroke-linejoin:round; stroke-width:2; stroke-opacity:0.1; fill:none\" points=\"216.436,1372.26 2352.76,1372.26 \"/>\n",
       "<polyline clip-path=\"url(#clip352)\" style=\"stroke:#000000; stroke-linecap:round; stroke-linejoin:round; stroke-width:2; stroke-opacity:0.1; fill:none\" points=\"216.436,1168.57 2352.76,1168.57 \"/>\n",
       "<polyline clip-path=\"url(#clip352)\" style=\"stroke:#000000; stroke-linecap:round; stroke-linejoin:round; stroke-width:2; stroke-opacity:0.1; fill:none\" points=\"216.436,964.88 2352.76,964.88 \"/>\n",
       "<polyline clip-path=\"url(#clip352)\" style=\"stroke:#000000; stroke-linecap:round; stroke-linejoin:round; stroke-width:2; stroke-opacity:0.1; fill:none\" points=\"216.436,761.189 2352.76,761.189 \"/>\n",
       "<polyline clip-path=\"url(#clip352)\" style=\"stroke:#000000; stroke-linecap:round; stroke-linejoin:round; stroke-width:2; stroke-opacity:0.1; fill:none\" points=\"216.436,557.499 2352.76,557.499 \"/>\n",
       "<polyline clip-path=\"url(#clip352)\" style=\"stroke:#000000; stroke-linecap:round; stroke-linejoin:round; stroke-width:2; stroke-opacity:0.1; fill:none\" points=\"216.436,353.808 2352.76,353.808 \"/>\n",
       "<polyline clip-path=\"url(#clip352)\" style=\"stroke:#000000; stroke-linecap:round; stroke-linejoin:round; stroke-width:2; stroke-opacity:0.1; fill:none\" points=\"216.436,150.118 2352.76,150.118 \"/>\n",
       "<polyline clip-path=\"url(#clip350)\" style=\"stroke:#000000; stroke-linecap:round; stroke-linejoin:round; stroke-width:4; stroke-opacity:1; fill:none\" points=\"216.436,1486.45 216.436,47.2441 \"/>\n",
       "<polyline clip-path=\"url(#clip350)\" style=\"stroke:#000000; stroke-linecap:round; stroke-linejoin:round; stroke-width:4; stroke-opacity:1; fill:none\" points=\"216.436,1372.26 235.334,1372.26 \"/>\n",
       "<polyline clip-path=\"url(#clip350)\" style=\"stroke:#000000; stroke-linecap:round; stroke-linejoin:round; stroke-width:4; stroke-opacity:1; fill:none\" points=\"216.436,1168.57 235.334,1168.57 \"/>\n",
       "<polyline clip-path=\"url(#clip350)\" style=\"stroke:#000000; stroke-linecap:round; stroke-linejoin:round; stroke-width:4; stroke-opacity:1; fill:none\" points=\"216.436,964.88 235.334,964.88 \"/>\n",
       "<polyline clip-path=\"url(#clip350)\" style=\"stroke:#000000; stroke-linecap:round; stroke-linejoin:round; stroke-width:4; stroke-opacity:1; fill:none\" points=\"216.436,761.189 235.334,761.189 \"/>\n",
       "<polyline clip-path=\"url(#clip350)\" style=\"stroke:#000000; stroke-linecap:round; stroke-linejoin:round; stroke-width:4; stroke-opacity:1; fill:none\" points=\"216.436,557.499 235.334,557.499 \"/>\n",
       "<polyline clip-path=\"url(#clip350)\" style=\"stroke:#000000; stroke-linecap:round; stroke-linejoin:round; stroke-width:4; stroke-opacity:1; fill:none\" points=\"216.436,353.808 235.334,353.808 \"/>\n",
       "<polyline clip-path=\"url(#clip350)\" style=\"stroke:#000000; stroke-linecap:round; stroke-linejoin:round; stroke-width:4; stroke-opacity:1; fill:none\" points=\"216.436,150.118 235.334,150.118 \"/>\n",
       "<path clip-path=\"url(#clip350)\" d=\"M63.9319 1358.06 Q60.3208 1358.06 58.4921 1361.62 Q56.6865 1365.17 56.6865 1372.3 Q56.6865 1379.4 58.4921 1382.97 Q60.3208 1386.51 63.9319 1386.51 Q67.5661 1386.51 69.3717 1382.97 Q71.2004 1379.4 71.2004 1372.3 Q71.2004 1365.17 69.3717 1361.62 Q67.5661 1358.06 63.9319 1358.06 M63.9319 1354.36 Q69.742 1354.36 72.7976 1358.96 Q75.8763 1363.55 75.8763 1372.3 Q75.8763 1381.02 72.7976 1385.63 Q69.742 1390.21 63.9319 1390.21 Q58.1217 1390.21 55.043 1385.63 Q51.9875 1381.02 51.9875 1372.3 Q51.9875 1363.55 55.043 1358.96 Q58.1217 1354.36 63.9319 1354.36 Z\" fill=\"#000000\" fill-rule=\"nonzero\" fill-opacity=\"1\" /><path clip-path=\"url(#clip350)\" d=\"M84.0938 1383.66 L88.978 1383.66 L88.978 1389.54 L84.0938 1389.54 L84.0938 1383.66 Z\" fill=\"#000000\" fill-rule=\"nonzero\" fill-opacity=\"1\" /><path clip-path=\"url(#clip350)\" d=\"M99.3021 1388.82 L99.3021 1384.56 Q101.061 1385.4 102.867 1385.84 Q104.672 1386.28 106.408 1386.28 Q111.038 1386.28 113.469 1383.18 Q115.922 1380.05 116.27 1373.71 Q114.927 1375.7 112.867 1376.76 Q110.807 1377.83 108.307 1377.83 Q103.121 1377.83 100.089 1374.7 Q97.0798 1371.55 97.0798 1366.11 Q97.0798 1360.79 100.228 1357.57 Q103.376 1354.36 108.608 1354.36 Q114.603 1354.36 117.751 1358.96 Q120.922 1363.55 120.922 1372.3 Q120.922 1380.47 117.033 1385.35 Q113.168 1390.21 106.617 1390.21 Q104.858 1390.21 103.052 1389.86 Q101.246 1389.52 99.3021 1388.82 M108.608 1374.17 Q111.756 1374.17 113.584 1372.02 Q115.436 1369.86 115.436 1366.11 Q115.436 1362.39 113.584 1360.24 Q111.756 1358.06 108.608 1358.06 Q105.459 1358.06 103.608 1360.24 Q101.779 1362.39 101.779 1366.11 Q101.779 1369.86 103.608 1372.02 Q105.459 1374.17 108.608 1374.17 Z\" fill=\"#000000\" fill-rule=\"nonzero\" fill-opacity=\"1\" /><path clip-path=\"url(#clip350)\" d=\"M139.325 1373.13 Q135.992 1373.13 134.07 1374.91 Q132.172 1376.69 132.172 1379.82 Q132.172 1382.94 134.07 1384.73 Q135.992 1386.51 139.325 1386.51 Q142.658 1386.51 144.58 1384.73 Q146.501 1382.92 146.501 1379.82 Q146.501 1376.69 144.58 1374.91 Q142.681 1373.13 139.325 1373.13 M134.649 1371.14 Q131.64 1370.4 129.95 1368.34 Q128.283 1366.28 128.283 1363.31 Q128.283 1359.17 131.223 1356.76 Q134.186 1354.36 139.325 1354.36 Q144.487 1354.36 147.427 1356.76 Q150.367 1359.17 150.367 1363.31 Q150.367 1366.28 148.677 1368.34 Q147.01 1370.4 144.024 1371.14 Q147.404 1371.93 149.279 1374.22 Q151.177 1376.51 151.177 1379.82 Q151.177 1384.84 148.098 1387.53 Q145.043 1390.21 139.325 1390.21 Q133.607 1390.21 130.529 1387.53 Q127.473 1384.84 127.473 1379.82 Q127.473 1376.51 129.371 1374.22 Q131.269 1371.93 134.649 1371.14 M132.936 1363.75 Q132.936 1366.44 134.603 1367.94 Q136.293 1369.45 139.325 1369.45 Q142.334 1369.45 144.024 1367.94 Q145.737 1366.44 145.737 1363.75 Q145.737 1361.07 144.024 1359.56 Q142.334 1358.06 139.325 1358.06 Q136.293 1358.06 134.603 1359.56 Q132.936 1361.07 132.936 1363.75 Z\" fill=\"#000000\" fill-rule=\"nonzero\" fill-opacity=\"1\" /><path clip-path=\"url(#clip350)\" d=\"M159.533 1354.98 L177.89 1354.98 L177.89 1358.92 L163.816 1358.92 L163.816 1367.39 Q164.834 1367.04 165.853 1366.88 Q166.871 1366.69 167.89 1366.69 Q173.677 1366.69 177.056 1369.86 Q180.436 1373.04 180.436 1378.45 Q180.436 1384.03 176.964 1387.13 Q173.491 1390.21 167.172 1390.21 Q164.996 1390.21 162.728 1389.84 Q160.482 1389.47 158.075 1388.73 L158.075 1384.03 Q160.158 1385.17 162.38 1385.72 Q164.603 1386.28 167.079 1386.28 Q171.084 1386.28 173.422 1384.17 Q175.76 1382.06 175.76 1378.45 Q175.76 1374.84 173.422 1372.74 Q171.084 1370.63 167.079 1370.63 Q165.204 1370.63 163.329 1371.05 Q161.478 1371.46 159.533 1372.34 L159.533 1354.98 Z\" fill=\"#000000\" fill-rule=\"nonzero\" fill-opacity=\"1\" /><path clip-path=\"url(#clip350)\" d=\"M62.9365 1154.37 Q59.3254 1154.37 57.4967 1157.93 Q55.6912 1161.48 55.6912 1168.6 Q55.6912 1175.71 57.4967 1179.28 Q59.3254 1182.82 62.9365 1182.82 Q66.5707 1182.82 68.3763 1179.28 Q70.205 1175.71 70.205 1168.6 Q70.205 1161.48 68.3763 1157.93 Q66.5707 1154.37 62.9365 1154.37 M62.9365 1150.67 Q68.7467 1150.67 71.8022 1155.27 Q74.8809 1159.86 74.8809 1168.6 Q74.8809 1177.33 71.8022 1181.94 Q68.7467 1186.52 62.9365 1186.52 Q57.1264 1186.52 54.0477 1181.94 Q50.9921 1177.33 50.9921 1168.6 Q50.9921 1159.86 54.0477 1155.27 Q57.1264 1150.67 62.9365 1150.67 Z\" fill=\"#000000\" fill-rule=\"nonzero\" fill-opacity=\"1\" /><path clip-path=\"url(#clip350)\" d=\"M83.0984 1179.97 L87.9827 1179.97 L87.9827 1185.85 L83.0984 1185.85 L83.0984 1179.97 Z\" fill=\"#000000\" fill-rule=\"nonzero\" fill-opacity=\"1\" /><path clip-path=\"url(#clip350)\" d=\"M98.3067 1185.13 L98.3067 1180.87 Q100.066 1181.71 101.871 1182.15 Q103.677 1182.59 105.413 1182.59 Q110.043 1182.59 112.473 1179.48 Q114.927 1176.36 115.274 1170.02 Q113.932 1172.01 111.871 1173.07 Q109.811 1174.14 107.311 1174.14 Q102.126 1174.14 99.0937 1171.01 Q96.0845 1167.86 96.0845 1162.42 Q96.0845 1157.1 99.2326 1153.88 Q102.381 1150.67 107.612 1150.67 Q113.608 1150.67 116.756 1155.27 Q119.927 1159.86 119.927 1168.6 Q119.927 1176.78 116.038 1181.66 Q112.172 1186.52 105.621 1186.52 Q103.862 1186.52 102.057 1186.17 Q100.251 1185.83 98.3067 1185.13 M107.612 1170.48 Q110.76 1170.48 112.589 1168.33 Q114.441 1166.17 114.441 1162.42 Q114.441 1158.7 112.589 1156.54 Q110.76 1154.37 107.612 1154.37 Q104.464 1154.37 102.612 1156.54 Q100.784 1158.7 100.784 1162.42 Q100.784 1166.17 102.612 1168.33 Q104.464 1170.48 107.612 1170.48 Z\" fill=\"#000000\" fill-rule=\"nonzero\" fill-opacity=\"1\" /><path clip-path=\"url(#clip350)\" d=\"M128.469 1185.13 L128.469 1180.87 Q130.228 1181.71 132.033 1182.15 Q133.839 1182.59 135.575 1182.59 Q140.205 1182.59 142.635 1179.48 Q145.089 1176.36 145.436 1170.02 Q144.093 1172.01 142.033 1173.07 Q139.973 1174.14 137.473 1174.14 Q132.288 1174.14 129.256 1171.01 Q126.246 1167.86 126.246 1162.42 Q126.246 1157.1 129.394 1153.88 Q132.543 1150.67 137.774 1150.67 Q143.769 1150.67 146.918 1155.27 Q150.089 1159.86 150.089 1168.6 Q150.089 1176.78 146.2 1181.66 Q142.334 1186.52 135.783 1186.52 Q134.024 1186.52 132.219 1186.17 Q130.413 1185.83 128.469 1185.13 M137.774 1170.48 Q140.922 1170.48 142.751 1168.33 Q144.603 1166.17 144.603 1162.42 Q144.603 1158.7 142.751 1156.54 Q140.922 1154.37 137.774 1154.37 Q134.626 1154.37 132.774 1156.54 Q130.945 1158.7 130.945 1162.42 Q130.945 1166.17 132.774 1168.33 Q134.626 1170.48 137.774 1170.48 Z\" fill=\"#000000\" fill-rule=\"nonzero\" fill-opacity=\"1\" /><path clip-path=\"url(#clip350)\" d=\"M168.491 1154.37 Q164.88 1154.37 163.052 1157.93 Q161.246 1161.48 161.246 1168.6 Q161.246 1175.71 163.052 1179.28 Q164.88 1182.82 168.491 1182.82 Q172.126 1182.82 173.931 1179.28 Q175.76 1175.71 175.76 1168.6 Q175.76 1161.48 173.931 1157.93 Q172.126 1154.37 168.491 1154.37 M168.491 1150.67 Q174.302 1150.67 177.357 1155.27 Q180.436 1159.86 180.436 1168.6 Q180.436 1177.33 177.357 1181.94 Q174.302 1186.52 168.491 1186.52 Q162.681 1186.52 159.603 1181.94 Q156.547 1177.33 156.547 1168.6 Q156.547 1159.86 159.603 1155.27 Q162.681 1150.67 168.491 1150.67 Z\" fill=\"#000000\" fill-rule=\"nonzero\" fill-opacity=\"1\" /><path clip-path=\"url(#clip350)\" d=\"M63.9319 950.678 Q60.3208 950.678 58.4921 954.243 Q56.6865 957.785 56.6865 964.914 Q56.6865 972.021 58.4921 975.586 Q60.3208 979.127 63.9319 979.127 Q67.5661 979.127 69.3717 975.586 Q71.2004 972.021 71.2004 964.914 Q71.2004 957.785 69.3717 954.243 Q67.5661 950.678 63.9319 950.678 M63.9319 946.975 Q69.742 946.975 72.7976 951.581 Q75.8763 956.164 75.8763 964.914 Q75.8763 973.641 72.7976 978.248 Q69.742 982.831 63.9319 982.831 Q58.1217 982.831 55.043 978.248 Q51.9875 973.641 51.9875 964.914 Q51.9875 956.164 55.043 951.581 Q58.1217 946.975 63.9319 946.975 Z\" fill=\"#000000\" fill-rule=\"nonzero\" fill-opacity=\"1\" /><path clip-path=\"url(#clip350)\" d=\"M84.0938 976.28 L88.978 976.28 L88.978 982.16 L84.0938 982.16 L84.0938 976.28 Z\" fill=\"#000000\" fill-rule=\"nonzero\" fill-opacity=\"1\" /><path clip-path=\"url(#clip350)\" d=\"M99.3021 981.442 L99.3021 977.183 Q101.061 978.016 102.867 978.456 Q104.672 978.896 106.408 978.896 Q111.038 978.896 113.469 975.794 Q115.922 972.669 116.27 966.326 Q114.927 968.317 112.867 969.382 Q110.807 970.447 108.307 970.447 Q103.121 970.447 100.089 967.322 Q97.0798 964.174 97.0798 958.734 Q97.0798 953.41 100.228 950.192 Q103.376 946.975 108.608 946.975 Q114.603 946.975 117.751 951.581 Q120.922 956.164 120.922 964.914 Q120.922 973.086 117.033 977.97 Q113.168 982.831 106.617 982.831 Q104.858 982.831 103.052 982.484 Q101.246 982.137 99.3021 981.442 M108.608 966.789 Q111.756 966.789 113.584 964.637 Q115.436 962.484 115.436 958.734 Q115.436 955.007 113.584 952.854 Q111.756 950.678 108.608 950.678 Q105.459 950.678 103.608 952.854 Q101.779 955.007 101.779 958.734 Q101.779 962.484 103.608 964.637 Q105.459 966.789 108.608 966.789 Z\" fill=\"#000000\" fill-rule=\"nonzero\" fill-opacity=\"1\" /><path clip-path=\"url(#clip350)\" d=\"M129.464 981.442 L129.464 977.183 Q131.223 978.016 133.029 978.456 Q134.834 978.896 136.57 978.896 Q141.2 978.896 143.631 975.794 Q146.084 972.669 146.431 966.326 Q145.089 968.317 143.029 969.382 Q140.968 970.447 138.469 970.447 Q133.283 970.447 130.251 967.322 Q127.242 964.174 127.242 958.734 Q127.242 953.41 130.39 950.192 Q133.538 946.975 138.769 946.975 Q144.765 946.975 147.913 951.581 Q151.084 956.164 151.084 964.914 Q151.084 973.086 147.195 977.97 Q143.33 982.831 136.779 982.831 Q135.019 982.831 133.214 982.484 Q131.408 982.137 129.464 981.442 M138.769 966.789 Q141.918 966.789 143.746 964.637 Q145.598 962.484 145.598 958.734 Q145.598 955.007 143.746 952.854 Q141.918 950.678 138.769 950.678 Q135.621 950.678 133.769 952.854 Q131.941 955.007 131.941 958.734 Q131.941 962.484 133.769 964.637 Q135.621 966.789 138.769 966.789 Z\" fill=\"#000000\" fill-rule=\"nonzero\" fill-opacity=\"1\" /><path clip-path=\"url(#clip350)\" d=\"M159.533 947.6 L177.89 947.6 L177.89 951.535 L163.816 951.535 L163.816 960.007 Q164.834 959.66 165.853 959.498 Q166.871 959.313 167.89 959.313 Q173.677 959.313 177.056 962.484 Q180.436 965.655 180.436 971.072 Q180.436 976.65 176.964 979.752 Q173.491 982.831 167.172 982.831 Q164.996 982.831 162.728 982.461 Q160.482 982.09 158.075 981.35 L158.075 976.65 Q160.158 977.785 162.38 978.34 Q164.603 978.896 167.079 978.896 Q171.084 978.896 173.422 976.789 Q175.76 974.683 175.76 971.072 Q175.76 967.461 173.422 965.354 Q171.084 963.248 167.079 963.248 Q165.204 963.248 163.329 963.664 Q161.478 964.081 159.533 964.961 L159.533 947.6 Z\" fill=\"#000000\" fill-rule=\"nonzero\" fill-opacity=\"1\" /><path clip-path=\"url(#clip350)\" d=\"M53.7467 774.534 L61.3856 774.534 L61.3856 748.168 L53.0754 749.835 L53.0754 745.576 L61.3393 743.909 L66.0152 743.909 L66.0152 774.534 L73.654 774.534 L73.654 778.469 L53.7467 778.469 L53.7467 774.534 Z\" fill=\"#000000\" fill-rule=\"nonzero\" fill-opacity=\"1\" /><path clip-path=\"url(#clip350)\" d=\"M83.0984 772.59 L87.9827 772.59 L87.9827 778.469 L83.0984 778.469 L83.0984 772.59 Z\" fill=\"#000000\" fill-rule=\"nonzero\" fill-opacity=\"1\" /><path clip-path=\"url(#clip350)\" d=\"M108.168 746.988 Q104.557 746.988 102.728 750.553 Q100.922 754.094 100.922 761.224 Q100.922 768.33 102.728 771.895 Q104.557 775.437 108.168 775.437 Q111.802 775.437 113.608 771.895 Q115.436 768.33 115.436 761.224 Q115.436 754.094 113.608 750.553 Q111.802 746.988 108.168 746.988 M108.168 743.284 Q113.978 743.284 117.033 747.891 Q120.112 752.474 120.112 761.224 Q120.112 769.951 117.033 774.557 Q113.978 779.14 108.168 779.14 Q102.358 779.14 99.2789 774.557 Q96.2234 769.951 96.2234 761.224 Q96.2234 752.474 99.2789 747.891 Q102.358 743.284 108.168 743.284 Z\" fill=\"#000000\" fill-rule=\"nonzero\" fill-opacity=\"1\" /><path clip-path=\"url(#clip350)\" d=\"M138.33 746.988 Q134.719 746.988 132.89 750.553 Q131.084 754.094 131.084 761.224 Q131.084 768.33 132.89 771.895 Q134.719 775.437 138.33 775.437 Q141.964 775.437 143.769 771.895 Q145.598 768.33 145.598 761.224 Q145.598 754.094 143.769 750.553 Q141.964 746.988 138.33 746.988 M138.33 743.284 Q144.14 743.284 147.195 747.891 Q150.274 752.474 150.274 761.224 Q150.274 769.951 147.195 774.557 Q144.14 779.14 138.33 779.14 Q132.519 779.14 129.441 774.557 Q126.385 769.951 126.385 761.224 Q126.385 752.474 129.441 747.891 Q132.519 743.284 138.33 743.284 Z\" fill=\"#000000\" fill-rule=\"nonzero\" fill-opacity=\"1\" /><path clip-path=\"url(#clip350)\" d=\"M168.491 746.988 Q164.88 746.988 163.052 750.553 Q161.246 754.094 161.246 761.224 Q161.246 768.33 163.052 771.895 Q164.88 775.437 168.491 775.437 Q172.126 775.437 173.931 771.895 Q175.76 768.33 175.76 761.224 Q175.76 754.094 173.931 750.553 Q172.126 746.988 168.491 746.988 M168.491 743.284 Q174.302 743.284 177.357 747.891 Q180.436 752.474 180.436 761.224 Q180.436 769.951 177.357 774.557 Q174.302 779.14 168.491 779.14 Q162.681 779.14 159.603 774.557 Q156.547 769.951 156.547 761.224 Q156.547 752.474 159.603 747.891 Q162.681 743.284 168.491 743.284 Z\" fill=\"#000000\" fill-rule=\"nonzero\" fill-opacity=\"1\" /><path clip-path=\"url(#clip350)\" d=\"M54.7421 570.843 L62.381 570.843 L62.381 544.478 L54.0708 546.145 L54.0708 541.885 L62.3347 540.219 L67.0106 540.219 L67.0106 570.843 L74.6494 570.843 L74.6494 574.779 L54.7421 574.779 L54.7421 570.843 Z\" fill=\"#000000\" fill-rule=\"nonzero\" fill-opacity=\"1\" /><path clip-path=\"url(#clip350)\" d=\"M84.0938 568.899 L88.978 568.899 L88.978 574.779 L84.0938 574.779 L84.0938 568.899 Z\" fill=\"#000000\" fill-rule=\"nonzero\" fill-opacity=\"1\" /><path clip-path=\"url(#clip350)\" d=\"M109.163 543.297 Q105.552 543.297 103.723 546.862 Q101.918 550.404 101.918 557.533 Q101.918 564.64 103.723 568.205 Q105.552 571.746 109.163 571.746 Q112.797 571.746 114.603 568.205 Q116.432 564.64 116.432 557.533 Q116.432 550.404 114.603 546.862 Q112.797 543.297 109.163 543.297 M109.163 539.594 Q114.973 539.594 118.029 544.2 Q121.107 548.783 121.107 557.533 Q121.107 566.26 118.029 570.867 Q114.973 575.45 109.163 575.45 Q103.353 575.45 100.274 570.867 Q97.2187 566.26 97.2187 557.533 Q97.2187 548.783 100.274 544.2 Q103.353 539.594 109.163 539.594 Z\" fill=\"#000000\" fill-rule=\"nonzero\" fill-opacity=\"1\" /><path clip-path=\"url(#clip350)\" d=\"M139.325 543.297 Q135.714 543.297 133.885 546.862 Q132.08 550.404 132.08 557.533 Q132.08 564.64 133.885 568.205 Q135.714 571.746 139.325 571.746 Q142.959 571.746 144.765 568.205 Q146.593 564.64 146.593 557.533 Q146.593 550.404 144.765 546.862 Q142.959 543.297 139.325 543.297 M139.325 539.594 Q145.135 539.594 148.191 544.2 Q151.269 548.783 151.269 557.533 Q151.269 566.26 148.191 570.867 Q145.135 575.45 139.325 575.45 Q133.515 575.45 130.436 570.867 Q127.381 566.26 127.381 557.533 Q127.381 548.783 130.436 544.2 Q133.515 539.594 139.325 539.594 Z\" fill=\"#000000\" fill-rule=\"nonzero\" fill-opacity=\"1\" /><path clip-path=\"url(#clip350)\" d=\"M159.533 540.219 L177.89 540.219 L177.89 544.154 L163.816 544.154 L163.816 552.626 Q164.834 552.279 165.853 552.117 Q166.871 551.932 167.89 551.932 Q173.677 551.932 177.056 555.103 Q180.436 558.274 180.436 563.691 Q180.436 569.269 176.964 572.371 Q173.491 575.45 167.172 575.45 Q164.996 575.45 162.728 575.08 Q160.482 574.709 158.075 573.968 L158.075 569.269 Q160.158 570.404 162.38 570.959 Q164.603 571.515 167.079 571.515 Q171.084 571.515 173.422 569.408 Q175.76 567.302 175.76 563.691 Q175.76 560.08 173.422 557.973 Q171.084 555.867 167.079 555.867 Q165.204 555.867 163.329 556.283 Q161.478 556.7 159.533 557.58 L159.533 540.219 Z\" fill=\"#000000\" fill-rule=\"nonzero\" fill-opacity=\"1\" /><path clip-path=\"url(#clip350)\" d=\"M53.7467 367.153 L61.3856 367.153 L61.3856 340.787 L53.0754 342.454 L53.0754 338.195 L61.3393 336.528 L66.0152 336.528 L66.0152 367.153 L73.654 367.153 L73.654 371.088 L53.7467 371.088 L53.7467 367.153 Z\" fill=\"#000000\" fill-rule=\"nonzero\" fill-opacity=\"1\" /><path clip-path=\"url(#clip350)\" d=\"M83.0984 365.209 L87.9827 365.209 L87.9827 371.088 L83.0984 371.088 L83.0984 365.209 Z\" fill=\"#000000\" fill-rule=\"nonzero\" fill-opacity=\"1\" /><path clip-path=\"url(#clip350)\" d=\"M108.168 339.607 Q104.557 339.607 102.728 343.172 Q100.922 346.713 100.922 353.843 Q100.922 360.949 102.728 364.514 Q104.557 368.056 108.168 368.056 Q111.802 368.056 113.608 364.514 Q115.436 360.949 115.436 353.843 Q115.436 346.713 113.608 343.172 Q111.802 339.607 108.168 339.607 M108.168 335.903 Q113.978 335.903 117.033 340.51 Q120.112 345.093 120.112 353.843 Q120.112 362.57 117.033 367.176 Q113.978 371.759 108.168 371.759 Q102.358 371.759 99.2789 367.176 Q96.2234 362.57 96.2234 353.843 Q96.2234 345.093 99.2789 340.51 Q102.358 335.903 108.168 335.903 Z\" fill=\"#000000\" fill-rule=\"nonzero\" fill-opacity=\"1\" /><path clip-path=\"url(#clip350)\" d=\"M129.14 367.153 L136.779 367.153 L136.779 340.787 L128.469 342.454 L128.469 338.195 L136.732 336.528 L141.408 336.528 L141.408 367.153 L149.047 367.153 L149.047 371.088 L129.14 371.088 L129.14 367.153 Z\" fill=\"#000000\" fill-rule=\"nonzero\" fill-opacity=\"1\" /><path clip-path=\"url(#clip350)\" d=\"M168.491 339.607 Q164.88 339.607 163.052 343.172 Q161.246 346.713 161.246 353.843 Q161.246 360.949 163.052 364.514 Q164.88 368.056 168.491 368.056 Q172.126 368.056 173.931 364.514 Q175.76 360.949 175.76 353.843 Q175.76 346.713 173.931 343.172 Q172.126 339.607 168.491 339.607 M168.491 335.903 Q174.302 335.903 177.357 340.51 Q180.436 345.093 180.436 353.843 Q180.436 362.57 177.357 367.176 Q174.302 371.759 168.491 371.759 Q162.681 371.759 159.603 367.176 Q156.547 362.57 156.547 353.843 Q156.547 345.093 159.603 340.51 Q162.681 335.903 168.491 335.903 Z\" fill=\"#000000\" fill-rule=\"nonzero\" fill-opacity=\"1\" /><path clip-path=\"url(#clip350)\" d=\"M54.7421 163.462 L62.381 163.462 L62.381 137.097 L54.0708 138.764 L54.0708 134.504 L62.3347 132.838 L67.0106 132.838 L67.0106 163.462 L74.6494 163.462 L74.6494 167.398 L54.7421 167.398 L54.7421 163.462 Z\" fill=\"#000000\" fill-rule=\"nonzero\" fill-opacity=\"1\" /><path clip-path=\"url(#clip350)\" d=\"M84.0938 161.518 L88.978 161.518 L88.978 167.398 L84.0938 167.398 L84.0938 161.518 Z\" fill=\"#000000\" fill-rule=\"nonzero\" fill-opacity=\"1\" /><path clip-path=\"url(#clip350)\" d=\"M109.163 135.916 Q105.552 135.916 103.723 139.481 Q101.918 143.023 101.918 150.152 Q101.918 157.259 103.723 160.824 Q105.552 164.365 109.163 164.365 Q112.797 164.365 114.603 160.824 Q116.432 157.259 116.432 150.152 Q116.432 143.023 114.603 139.481 Q112.797 135.916 109.163 135.916 M109.163 132.213 Q114.973 132.213 118.029 136.819 Q121.107 141.402 121.107 150.152 Q121.107 158.879 118.029 163.486 Q114.973 168.069 109.163 168.069 Q103.353 168.069 100.274 163.486 Q97.2187 158.879 97.2187 150.152 Q97.2187 141.402 100.274 136.819 Q103.353 132.213 109.163 132.213 Z\" fill=\"#000000\" fill-rule=\"nonzero\" fill-opacity=\"1\" /><path clip-path=\"url(#clip350)\" d=\"M130.135 163.462 L137.774 163.462 L137.774 137.097 L129.464 138.764 L129.464 134.504 L137.728 132.838 L142.404 132.838 L142.404 163.462 L150.043 163.462 L150.043 167.398 L130.135 167.398 L130.135 163.462 Z\" fill=\"#000000\" fill-rule=\"nonzero\" fill-opacity=\"1\" /><path clip-path=\"url(#clip350)\" d=\"M159.533 132.838 L177.89 132.838 L177.89 136.773 L163.816 136.773 L163.816 145.245 Q164.834 144.898 165.853 144.736 Q166.871 144.551 167.89 144.551 Q173.677 144.551 177.056 147.722 Q180.436 150.893 180.436 156.31 Q180.436 161.888 176.964 164.99 Q173.491 168.069 167.172 168.069 Q164.996 168.069 162.728 167.699 Q160.482 167.328 158.075 166.587 L158.075 161.888 Q160.158 163.023 162.38 163.578 Q164.603 164.134 167.079 164.134 Q171.084 164.134 173.422 162.027 Q175.76 159.921 175.76 156.31 Q175.76 152.699 173.422 150.592 Q171.084 148.486 167.079 148.486 Q165.204 148.486 163.329 148.902 Q161.478 149.319 159.533 150.199 L159.533 132.838 Z\" fill=\"#000000\" fill-rule=\"nonzero\" fill-opacity=\"1\" /><polyline clip-path=\"url(#clip352)\" style=\"stroke:#009af9; stroke-linecap:round; stroke-linejoin:round; stroke-width:4; stroke-opacity:1; fill:none\" points=\"276.898,761.189 280.929,738.563 284.959,715.95 288.99,693.374 293.021,670.862 297.052,648.439 301.083,626.129 305.113,603.959 309.144,581.955 313.175,560.14 317.206,538.541 321.236,517.183 325.267,496.091 329.298,475.288 333.329,454.801 337.36,434.653 341.39,414.869 345.421,395.471 349.452,376.483 353.483,357.928 357.514,339.828 361.544,322.206 365.575,305.083 369.606,288.48 373.637,272.417 377.668,256.914 381.698,241.99 385.729,227.664 389.76,213.954 393.791,200.876 397.822,188.448 401.852,176.684 405.883,165.599 409.914,155.208 413.945,145.524 417.976,136.559 422.006,128.324 426.037,120.83 430.068,114.086 434.099,108.101 438.129,102.882 442.16,98.4375 446.191,94.7715 450.222,91.8892 454.253,89.7942 458.283,88.4894 462.314,87.9763 466.345,88.2556 470.376,89.327 474.407,91.189 478.437,93.8393 482.468,97.2746 486.499,101.49 490.53,106.481 494.561,112.241 498.591,118.761 502.622,126.035 506.653,134.053 510.684,142.804 514.715,152.277 518.745,162.461 522.776,173.342 526.807,184.907 530.838,197.141 534.868,210.029 538.899,223.554 542.93,237.7 546.961,252.45 550.992,267.784 555.022,283.683 559.053,300.129 563.084,317.101 567.115,334.578 571.146,352.539 575.176,370.962 579.207,389.824 583.238,409.104 587.269,428.777 591.3,448.82 595.33,469.21 599.361,489.921 603.392,510.931 607.423,532.213 611.454,553.744 615.484,575.497 619.515,597.448 623.546,619.572 627.577,641.843 631.608,664.235 635.638,686.724 639.669,709.284 643.7,731.889 647.731,754.513 651.761,777.133 655.792,799.723 659.823,822.257 663.854,844.712 667.885,867.062 671.915,889.283 675.946,911.352 679.977,933.244 684.008,954.936 688.039,976.405 692.069,997.628 696.1,1018.58 700.131,1039.25 704.162,1059.6 708.193,1079.62 712.223,1099.29 716.254,1118.58 720.285,1137.48 724.316,1155.96 728.347,1174.02 732.377,1191.62 736.408,1208.75 740.439,1225.4 744.47,1241.55 748.5,1257.18 752.531,1272.27 756.562,1286.82 760.593,1300.81 764.624,1314.21 768.654,1327.03 772.685,1339.24 776.716,1350.84 780.747,1361.82 784.778,1372.15 788.808,1381.85 792.839,1390.88 796.87,1399.25 800.901,1406.95 804.932,1413.97 808.962,1420.3 812.993,1425.94 817.024,1430.88 821.055,1435.12 825.086,1438.65 829.116,1441.47 833.147,1443.58 837.178,1444.97 841.209,1445.65 845.24,1445.61 849.27,1444.85 853.301,1443.37 857.332,1441.19 861.363,1438.28 865.393,1434.67 869.424,1430.36 873.455,1425.34 877.486,1419.62 881.517,1413.21 885.547,1406.11 889.578,1398.34 893.609,1389.89 897.64,1380.78 901.671,1371.02 905.701,1360.6 909.732,1349.56 913.763,1337.89 917.794,1325.61 921.825,1312.72 925.855,1299.25 929.886,1285.2 933.917,1270.59 937.948,1255.43 941.979,1239.75 946.009,1223.54 950.04,1206.84 954.071,1189.65 958.102,1171.99 962.132,1153.89 966.163,1135.36 970.194,1116.41 974.225,1097.08 978.256,1077.37 982.286,1057.31 986.317,1036.92 990.348,1016.22 994.379,995.236 998.41,973.984 1002.44,952.488 1006.47,930.772 1010.5,908.859 1014.53,886.771 1018.56,864.534 1022.59,842.171 1026.63,819.706 1030.66,797.165 1034.69,774.57 1038.72,751.949 1042.75,729.325 1046.78,706.724 1050.81,684.171 1054.84,661.692 1058.87,639.312 1062.9,617.057 1066.93,594.951 1070.96,573.021 1074.99,551.292 1079.03,529.788 1083.06,508.535 1087.09,487.558 1091.12,466.882 1095.15,446.53 1099.18,426.528 1103.21,406.898 1107.24,387.665 1111.27,368.851 1115.3,350.48 1119.33,332.573 1123.36,315.152 1127.39,298.238 1131.43,281.853 1135.46,266.017 1139.49,250.748 1143.52,236.066 1147.55,221.99 1151.58,208.535 1155.61,195.721 1159.64,183.562 1163.67,172.074 1167.7,161.271 1171.73,151.167 1175.76,141.775 1179.8,133.107 1183.83,125.173 1187.86,117.984 1191.89,111.549 1195.92,105.877 1199.95,100.973 1203.98,96.8459 1208.01,93.4994 1212.04,90.9383 1216.07,89.1658 1220.1,88.1841 1224.13,87.9946 1228.16,88.5975 1232.2,89.992 1236.23,92.1764 1240.26,95.1477 1244.29,98.9023 1248.32,103.435 1252.35,108.741 1256.38,114.812 1260.41,121.641 1264.44,129.22 1268.47,137.538 1272.5,146.586 1276.53,156.351 1280.57,166.821 1284.6,177.983 1288.63,189.823 1292.66,202.326 1296.69,215.476 1300.72,229.257 1304.75,243.652 1308.78,258.642 1312.81,274.21 1316.84,290.335 1320.87,306.998 1324.9,324.179 1328.93,341.856 1332.97,360.009 1337,378.614 1341.03,397.649 1345.06,417.092 1349.09,436.919 1353.12,457.107 1357.15,477.631 1361.18,498.467 1365.21,519.591 1369.24,540.978 1373.27,562.602 1377.3,584.44 1381.33,606.464 1385.37,628.651 1389.4,650.975 1393.43,673.41 1397.46,695.93 1401.49,718.512 1405.52,741.128 1409.55,763.753 1413.58,786.364 1417.61,808.934 1421.64,831.439 1425.67,853.853 1429.7,876.154 1433.74,898.316 1437.77,920.315 1441.8,942.128 1445.83,963.732 1449.86,985.104 1453.89,1006.22 1457.92,1027.06 1461.95,1047.6 1465.98,1067.82 1470.01,1087.7 1474.04,1107.21 1478.07,1126.35 1482.1,1145.08 1486.14,1163.39 1490.17,1181.26 1494.2,1198.67 1498.23,1215.61 1502.26,1232.06 1506.29,1248 1510.32,1263.41 1514.35,1278.28 1518.38,1292.6 1522.41,1306.35 1526.44,1319.52 1530.47,1332.09 1534.51,1344.06 1538.54,1355.4 1542.57,1366.12 1546.6,1376.19 1550.63,1385.62 1554.66,1394.38 1558.69,1402.48 1562.72,1409.9 1566.75,1416.64 1570.78,1422.69 1574.81,1428.04 1578.84,1432.7 1582.87,1436.65 1586.91,1439.89 1590.94,1442.42 1594.97,1444.23 1599,1445.33 1603.03,1445.72 1607.06,1445.38 1611.09,1444.33 1615.12,1442.57 1619.15,1440.09 1623.18,1436.89 1627.21,1432.99 1631.24,1428.39 1635.27,1423.08 1639.31,1417.08 1643.34,1410.39 1647.37,1403.02 1651.4,1394.97 1655.43,1386.25 1659.46,1376.87 1663.49,1366.84 1667.52,1356.17 1671.55,1344.87 1675.58,1332.95 1679.61,1320.42 1683.64,1307.29 1687.68,1293.58 1691.71,1279.3 1695.74,1264.47 1699.77,1249.09 1703.8,1233.19 1707.83,1216.78 1711.86,1199.87 1715.89,1182.49 1719.92,1164.65 1723.95,1146.37 1727.98,1127.67 1732.01,1108.56 1736.04,1089.07 1740.08,1069.22 1744.11,1049.02 1748.14,1028.5 1752.17,1007.69 1756.2,986.587 1760.23,965.233 1764.26,943.644 1768.29,921.845 1772.32,899.858 1776.35,877.706 1780.38,855.415 1784.41,833.007 1788.44,810.508 1792.48,787.942 1796.51,765.333 1800.54,742.708 1804.57,720.09 1808.6,697.506 1812.63,674.98 1816.66,652.539 1820.69,630.206 1824.72,608.009 1828.75,585.972 1832.78,564.121 1836.81,542.481 1840.85,521.077 1844.88,499.934 1848.91,479.076 1852.94,458.53 1856.97,438.318 1861,418.465 1865.03,398.994 1869.06,379.93 1873.09,361.294 1877.12,343.109 1881.15,325.398 1885.18,308.182 1889.21,291.482 1893.25,275.318 1897.28,259.711 1901.31,244.68 1905.34,230.243 1909.37,216.419 1913.4,203.224 1917.43,190.675 1921.46,178.788 1925.49,167.578 1929.52,157.059 1933.55,147.245 1937.58,138.147 1941.62,129.777 1945.65,122.147 1949.68,115.265 1953.71,109.14 1957.74,103.781 1961.77,99.1937 1965.8,95.3846 1969.83,92.3584 1973.86,90.119 1977.89,88.6692 1981.92,88.011 1985.95,88.1451 1989.98,89.0715 1994.02,90.7888 1998.05,93.295 2002.08,96.5867 2006.11,100.66 2010.14,105.509 2014.17,111.128 2018.2,117.51 2022.23,124.647 2026.26,132.529 2030.29,141.146 2034.32,150.488 2038.35,160.542 2042.38,171.297 2046.42,182.738 2050.45,194.85 2054.48,207.619 2058.51,221.029 2062.54,235.063 2066.57,249.703 2070.6,264.932 2074.63,280.729 2078.66,297.077 2082.69,313.954 2086.72,331.34 2090.75,349.214 2094.79,367.554 2098.82,386.337 2102.85,405.542 2106.88,425.145 2110.91,445.122 2114.94,465.45 2118.97,486.104 2123,507.061 2127.03,528.295 2131.06,549.782 2135.09,571.496 2139.12,593.413 2143.15,615.507 2147.19,637.753 2151.22,660.125 2155.25,682.598 2159.28,705.147 2163.31,727.745 2167.34,750.368 2171.37,772.991 2175.4,795.588 2179.43,818.134 2183.46,840.605 2187.49,862.976 2191.52,885.223 2195.55,907.321 2199.59,929.247 2203.62,950.978 2207.65,972.49 2211.68,993.76 2215.71,1014.77 2219.74,1035.49 2223.77,1055.9 2227.8,1075.98 2231.83,1095.71 2235.86,1115.07 2239.89,1134.05 2243.92,1152.61 2247.96,1170.74 2251.99,1188.43 2256.02,1205.65 2260.05,1222.39 2264.08,1238.63 2268.11,1254.36 2272.14,1269.55 2276.17,1284.2 2280.2,1298.29 2284.23,1311.8 2288.26,1324.73 2292.29,1337.05 \"/>\n",
       "<path clip-path=\"url(#clip350)\" d=\"M287.647 1438.47 L553.709 1438.47 L553.709 1334.79 L287.647 1334.79  Z\" fill=\"#ffffff\" fill-rule=\"evenodd\" fill-opacity=\"1\"/>\n",
       "<polyline clip-path=\"url(#clip350)\" style=\"stroke:#000000; stroke-linecap:round; stroke-linejoin:round; stroke-width:4; stroke-opacity:1; fill:none\" points=\"287.647,1438.47 553.709,1438.47 553.709,1334.79 287.647,1334.79 287.647,1438.47 \"/>\n",
       "<polyline clip-path=\"url(#clip350)\" style=\"stroke:#009af9; stroke-linecap:round; stroke-linejoin:round; stroke-width:4; stroke-opacity:1; fill:none\" points=\"311.383,1386.63 453.805,1386.63 \"/>\n",
       "<path clip-path=\"url(#clip350)\" d=\"M491.384 1406.32 Q489.579 1410.95 487.866 1412.36 Q486.153 1413.78 483.282 1413.78 L479.88 1413.78 L479.88 1410.21 L482.38 1410.21 Q484.139 1410.21 485.111 1409.38 Q486.083 1408.54 487.264 1405.44 L488.028 1403.5 L477.542 1377.99 L482.056 1377.99 L490.157 1398.27 L498.259 1377.99 L502.773 1377.99 L491.384 1406.32 Z\" fill=\"#000000\" fill-rule=\"nonzero\" fill-opacity=\"1\" /><path clip-path=\"url(#clip350)\" d=\"M510.065 1399.98 L517.703 1399.98 L517.703 1373.61 L509.393 1375.28 L509.393 1371.02 L517.657 1369.35 L522.333 1369.35 L522.333 1399.98 L529.972 1399.98 L529.972 1403.91 L510.065 1403.91 L510.065 1399.98 Z\" fill=\"#000000\" fill-rule=\"nonzero\" fill-opacity=\"1\" /></svg>\n"
      ],
      "text/html": [
       "<img src=\"data:image/png;base64,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\" />"
      ]
     },
     "execution_count": 16,
     "metadata": {},
     "output_type": "execute_result"
    }
   ],
   "source": [
    "plot(vels1)"
   ]
  },
  {
   "cell_type": "code",
   "execution_count": null,
   "metadata": {},
   "outputs": [],
   "source": []
  }
 ],
 "metadata": {
  "@webio": {
   "lastCommId": "872947dd88954d328df4dc7aeb1ac8f0",
   "lastKernelId": "ecf7d646-f686-4884-9f7b-5855efce8b80"
  },
  "kernelspec": {
   "display_name": "Julia 1.9.2",
   "language": "julia",
   "name": "julia-1.9"
  },
  "language_info": {
   "file_extension": ".jl",
   "mimetype": "application/julia",
   "name": "julia",
   "version": "1.9.2"
  }
 },
 "nbformat": 4,
 "nbformat_minor": 4
}
