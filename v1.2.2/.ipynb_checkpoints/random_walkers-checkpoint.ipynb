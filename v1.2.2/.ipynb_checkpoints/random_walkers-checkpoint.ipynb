{
 "cells": [
  {
   "cell_type": "markdown",
   "metadata": {},
   "source": [
    "# Ramdom Walkers\n",
    "\n",
    "A simple example of random walkers in 2D. "
   ]
  },
  {
   "cell_type": "code",
   "execution_count": 2,
   "metadata": {},
   "outputs": [
    {
     "name": "stderr",
     "output_type": "stream",
     "text": [
      "\u001b[32m\u001b[1m  Activating\u001b[22m\u001b[39m project at `~/.julia/dev/EasyABM`\n",
      "┌ Info: Precompiling EasyABM [2ab8e4d3-e1e9-4248-86a3-8419d2d242e9]\n",
      "└ @ Base loading.jl:1423\n"
     ]
    },
    {
     "data": {
      "application/vnd.webio.node+json": {
       "children": [],
       "instanceArgs": {
        "namespace": "html",
        "tag": "div"
       },
       "nodeType": "DOM",
       "props": {},
       "type": "node"
      },
      "text/html": [
       "<div style=\"padding: 1em; background-color: #f8d6da; border: 1px solid #f5c6cb; font-weight: bold;\">\n",
       "<p>The WebIO Jupyter extension was not detected. See the\n",
       "<a href=\"https://juliagizmos.github.io/WebIO.jl/latest/providers/ijulia/\" target=\"_blank\">\n",
       "    WebIO Jupyter integration documentation\n",
       "</a>\n",
       "for more information.\n",
       "</div>\n"
      ],
      "text/plain": [
       "WebIO._IJuliaInit()"
      ]
     },
     "metadata": {
      "application/vnd.webio.node+json": {
       "kernelId": "3400797b-3ab4-40d9-94d1-e32b2d735956"
      }
     },
     "output_type": "display_data"
    }
   ],
   "source": [
    "using Pkg, Revise\n",
    "Pkg.activate(joinpath(@__DIR__, \"../..\"))\n",
    "using EasyABM"
   ]
  },
  {
   "cell_type": "code",
   "execution_count": 35,
   "metadata": {},
   "outputs": [
    {
     "data": {
      "text/plain": [
       "Agent2D list with 200 agents.\n"
      ]
     },
     "execution_count": 35,
     "metadata": {},
     "output_type": "execute_result"
    }
   ],
   "source": [
    "agents = con_2d_agents(200, pos = Vect(5.0,5.0), color = :red, shape=:circle, keeps_record_of=[:pos])"
   ]
  },
  {
   "cell_type": "code",
   "execution_count": 36,
   "metadata": {},
   "outputs": [
    {
     "data": {
      "text/plain": [
       "EasyABM SpaceModel2D{Static, Float64,NPeriodic}: In a Static model number of agents is fixed.\n"
      ]
     },
     "execution_count": 36,
     "metadata": {},
     "output_type": "execute_result"
    }
   ],
   "source": [
    "model = create_2d_model(agents, agents_type = Static, space_type=NPeriodic, dt=0.2)"
   ]
  },
  {
   "cell_type": "code",
   "execution_count": 37,
   "metadata": {},
   "outputs": [],
   "source": [
    "function initialiser!(model)\n",
    "    colors = [:red, :blue, :green, :yellow, :black]\n",
    "    for agent in model.agents\n",
    "        agent.color = colors[rand(1:5)]\n",
    "    end    \n",
    "end\n",
    "init_model!(model, initialiser = initialiser!)"
   ]
  },
  {
   "cell_type": "code",
   "execution_count": 38,
   "metadata": {},
   "outputs": [
    {
     "data": {
      "text/plain": [
       "step_rule! (generic function with 1 method)"
      ]
     },
     "execution_count": 38,
     "metadata": {},
     "output_type": "execute_result"
    }
   ],
   "source": [
    "function step_rule!(model)\n",
    "    for agent in model.agents\n",
    "        agent.pos += Vect(0.5-rand(), 0.5-rand())*model.parameters.dt\n",
    "    end\n",
    "end"
   ]
  },
  {
   "cell_type": "code",
   "execution_count": 39,
   "metadata": {},
   "outputs": [],
   "source": [
    "run_model!(model, steps=400, step_rule=step_rule!)"
   ]
  },
  {
   "cell_type": "code",
   "execution_count": 40,
   "metadata": {},
   "outputs": [
    {
     "data": {
      "application/vnd.webio.node+json": {
       "children": [
        {
         "children": [
          {
           "children": [
            {
             "children": [
              {
               "children": [
                {
                 "children": [
                  {
                   "children": [
                    {
                     "children": [
                      "time"
                     ],
                     "instanceArgs": {
                      "namespace": "html",
                      "tag": "label"
                     },
                     "nodeType": "DOM",
                     "props": {
                      "className": "interact ",
                      "style": {
                       "padding": "5px 10px 0px 10px"
                      }
                     },
                     "type": "node"
                    }
                   ],
                   "instanceArgs": {
                    "namespace": "html",
                    "tag": "div"
                   },
                   "nodeType": "DOM",
                   "props": {
                    "className": "interact-flex-row-left"
                   },
                   "type": "node"
                  },
                  {
                   "children": [
                    {
                     "children": [],
                     "instanceArgs": {
                      "namespace": "html",
                      "tag": "input"
                     },
                     "nodeType": "DOM",
                     "props": {
                      "attributes": {
                       "data-bind": "numericValue: index, valueUpdate: 'input', event: {change: function (){this.changes(this.changes()+1)}}",
                       "orient": "horizontal",
                       "type": "range"
                      },
                      "className": "slider slider is-fullwidth",
                      "max": 401,
                      "min": 1,
                      "step": 1,
                      "style": {}
                     },
                     "type": "node"
                    }
                   ],
                   "instanceArgs": {
                    "namespace": "html",
                    "tag": "div"
                   },
                   "nodeType": "DOM",
                   "props": {
                    "className": "interact-flex-row-center"
                   },
                   "type": "node"
                  },
                  {
                   "children": [
                    {
                     "children": [],
                     "instanceArgs": {
                      "namespace": "html",
                      "tag": "p"
                     },
                     "nodeType": "DOM",
                     "props": {
                      "attributes": {
                       "data-bind": "text: formatted_val"
                      }
                     },
                     "type": "node"
                    }
                   ],
                   "instanceArgs": {
                    "namespace": "html",
                    "tag": "div"
                   },
                   "nodeType": "DOM",
                   "props": {
                    "className": "interact-flex-row-right"
                   },
                   "type": "node"
                  }
                 ],
                 "instanceArgs": {
                  "namespace": "html",
                  "tag": "div"
                 },
                 "nodeType": "DOM",
                 "props": {
                  "className": "interact-flex-row interact-widget"
                 },
                 "type": "node"
                }
               ],
               "instanceArgs": {
                "handlers": {
                 "changes": [
                  "(function (val){return (val!=this.model[\"changes\"]()) ? (this.valueFromJulia[\"changes\"]=true, this.model[\"changes\"](val)) : undefined})"
                 ],
                 "index": [
                  "(function (val){return (val!=this.model[\"index\"]()) ? (this.valueFromJulia[\"index\"]=true, this.model[\"index\"](val)) : undefined})"
                 ]
                },
                "id": "9921776781502583542",
                "imports": {
                 "data": [
                  {
                   "name": "knockout",
                   "type": "js",
                   "url": "/assetserver/c1499ba55a1bc421a61388a1d89a415fc6dcc13c-knockout.js"
                  },
                  {
                   "name": "knockout_punches",
                   "type": "js",
                   "url": "/assetserver/f9c6b7aff92992a2d2baddb2c82a79fb8b3956c2-knockout_punches.js"
                  },
                  {
                   "name": null,
                   "type": "js",
                   "url": "/assetserver/d98610aa326aee8a709cc7d91aea3aadf7cb1517-all.js"
                  },
                  {
                   "name": null,
                   "type": "css",
                   "url": "/assetserver/457be80a26ff437349c55b6aa8871c7065926fae-style.css"
                  },
                  {
                   "name": null,
                   "type": "css",
                   "url": "/assetserver/3cd1ef316d208db1ffc36b6f265c6ac56f9847a0-bulma_confined.min.css"
                  }
                 ],
                 "type": "async_block"
                },
                "mount_callbacks": [
                 "function () {\n    var handler = (function (ko, koPunches) {\n    ko.punches.enableAll();\n    ko.bindingHandlers.numericValue = {\n        init: function(element, valueAccessor, allBindings, data, context) {\n            var stringified = ko.observable(ko.unwrap(valueAccessor()));\n            stringified.subscribe(function(value) {\n                var val = parseFloat(value);\n                if (!isNaN(val)) {\n                    valueAccessor()(val);\n                }\n            });\n            valueAccessor().subscribe(function(value) {\n                var str = JSON.stringify(value);\n                if ((str == \"0\") && ([\"-0\", \"-0.\"].indexOf(stringified()) >= 0))\n                     return;\n                 if ([\"null\", \"\"].indexOf(str) >= 0)\n                     return;\n                stringified(str);\n            });\n            ko.applyBindingsToNode(\n                element,\n                {\n                    value: stringified,\n                    valueUpdate: allBindings.get('valueUpdate'),\n                },\n                context,\n            );\n        }\n    };\n    var json_data = {\"formatted_vals\":[\"1\",\"2\",\"3\",\"4\",\"5\",\"6\",\"7\",\"8\",\"9\",\"10\",\"11\",\"12\",\"13\",\"14\",\"15\",\"16\",\"17\",\"18\",\"19\",\"20\",\"21\",\"22\",\"23\",\"24\",\"25\",\"26\",\"27\",\"28\",\"29\",\"30\",\"31\",\"32\",\"33\",\"34\",\"35\",\"36\",\"37\",\"38\",\"39\",\"40\",\"41\",\"42\",\"43\",\"44\",\"45\",\"46\",\"47\",\"48\",\"49\",\"50\",\"51\",\"52\",\"53\",\"54\",\"55\",\"56\",\"57\",\"58\",\"59\",\"60\",\"61\",\"62\",\"63\",\"64\",\"65\",\"66\",\"67\",\"68\",\"69\",\"70\",\"71\",\"72\",\"73\",\"74\",\"75\",\"76\",\"77\",\"78\",\"79\",\"80\",\"81\",\"82\",\"83\",\"84\",\"85\",\"86\",\"87\",\"88\",\"89\",\"90\",\"91\",\"92\",\"93\",\"94\",\"95\",\"96\",\"97\",\"98\",\"99\",\"100\",\"101\",\"102\",\"103\",\"104\",\"105\",\"106\",\"107\",\"108\",\"109\",\"110\",\"111\",\"112\",\"113\",\"114\",\"115\",\"116\",\"117\",\"118\",\"119\",\"120\",\"121\",\"122\",\"123\",\"124\",\"125\",\"126\",\"127\",\"128\",\"129\",\"130\",\"131\",\"132\",\"133\",\"134\",\"135\",\"136\",\"137\",\"138\",\"139\",\"140\",\"141\",\"142\",\"143\",\"144\",\"145\",\"146\",\"147\",\"148\",\"149\",\"150\",\"151\",\"152\",\"153\",\"154\",\"155\",\"156\",\"157\",\"158\",\"159\",\"160\",\"161\",\"162\",\"163\",\"164\",\"165\",\"166\",\"167\",\"168\",\"169\",\"170\",\"171\",\"172\",\"173\",\"174\",\"175\",\"176\",\"177\",\"178\",\"179\",\"180\",\"181\",\"182\",\"183\",\"184\",\"185\",\"186\",\"187\",\"188\",\"189\",\"190\",\"191\",\"192\",\"193\",\"194\",\"195\",\"196\",\"197\",\"198\",\"199\",\"200\",\"201\",\"202\",\"203\",\"204\",\"205\",\"206\",\"207\",\"208\",\"209\",\"210\",\"211\",\"212\",\"213\",\"214\",\"215\",\"216\",\"217\",\"218\",\"219\",\"220\",\"221\",\"222\",\"223\",\"224\",\"225\",\"226\",\"227\",\"228\",\"229\",\"230\",\"231\",\"232\",\"233\",\"234\",\"235\",\"236\",\"237\",\"238\",\"239\",\"240\",\"241\",\"242\",\"243\",\"244\",\"245\",\"246\",\"247\",\"248\",\"249\",\"250\",\"251\",\"252\",\"253\",\"254\",\"255\",\"256\",\"257\",\"258\",\"259\",\"260\",\"261\",\"262\",\"263\",\"264\",\"265\",\"266\",\"267\",\"268\",\"269\",\"270\",\"271\",\"272\",\"273\",\"274\",\"275\",\"276\",\"277\",\"278\",\"279\",\"280\",\"281\",\"282\",\"283\",\"284\",\"285\",\"286\",\"287\",\"288\",\"289\",\"290\",\"291\",\"292\",\"293\",\"294\",\"295\",\"296\",\"297\",\"298\",\"299\",\"300\",\"301\",\"302\",\"303\",\"304\",\"305\",\"306\",\"307\",\"308\",\"309\",\"310\",\"311\",\"312\",\"313\",\"314\",\"315\",\"316\",\"317\",\"318\",\"319\",\"320\",\"321\",\"322\",\"323\",\"324\",\"325\",\"326\",\"327\",\"328\",\"329\",\"330\",\"331\",\"332\",\"333\",\"334\",\"335\",\"336\",\"337\",\"338\",\"339\",\"340\",\"341\",\"342\",\"343\",\"344\",\"345\",\"346\",\"347\",\"348\",\"349\",\"350\",\"351\",\"352\",\"353\",\"354\",\"355\",\"356\",\"357\",\"358\",\"359\",\"360\",\"361\",\"362\",\"363\",\"364\",\"365\",\"366\",\"367\",\"368\",\"369\",\"370\",\"371\",\"372\",\"373\",\"374\",\"375\",\"376\",\"377\",\"378\",\"379\",\"380\",\"381\",\"382\",\"383\",\"384\",\"385\",\"386\",\"387\",\"388\",\"389\",\"390\",\"391\",\"392\",\"393\",\"394\",\"395\",\"396\",\"397\",\"398\",\"399\",\"400\",\"401\"],\"changes\":WebIO.getval({\"name\":\"changes\",\"scope\":\"9921776781502583542\",\"id\":\"14188553866119204093\",\"type\":\"observable\"}),\"index\":WebIO.getval({\"name\":\"index\",\"scope\":\"9921776781502583542\",\"id\":\"1280384691156925769\",\"type\":\"observable\"})};\n    var self = this;\n    function AppViewModel() {\n        for (var key in json_data) {\n            var el = json_data[key];\n            this[key] = Array.isArray(el) ? ko.observableArray(el) : ko.observable(el);\n        }\n        \n        [this[\"formatted_val\"]=ko.computed(    function(){\n        return this.formatted_vals()[parseInt(this.index())-(1)];\n    }\n,this)]\n        [this[\"changes\"].subscribe((function (val){!(this.valueFromJulia[\"changes\"]) ? (WebIO.setval({\"name\":\"changes\",\"scope\":\"9921776781502583542\",\"id\":\"14188553866119204093\",\"type\":\"observable\"},val)) : undefined; return this.valueFromJulia[\"changes\"]=false}),self),this[\"index\"].subscribe((function (val){!(this.valueFromJulia[\"index\"]) ? (WebIO.setval({\"name\":\"index\",\"scope\":\"9921776781502583542\",\"id\":\"1280384691156925769\",\"type\":\"observable\"},val)) : undefined; return this.valueFromJulia[\"index\"]=false}),self)]\n        \n    }\n    self.model = new AppViewModel();\n    self.valueFromJulia = {};\n    for (var key in json_data) {\n        self.valueFromJulia[key] = false;\n    }\n    ko.applyBindings(self.model, self.dom);\n}\n);\n    (WebIO.importBlock({\"data\":[{\"name\":\"knockout\",\"type\":\"js\",\"url\":\"/assetserver/c1499ba55a1bc421a61388a1d89a415fc6dcc13c-knockout.js\"},{\"name\":\"knockout_punches\",\"type\":\"js\",\"url\":\"/assetserver/f9c6b7aff92992a2d2baddb2c82a79fb8b3956c2-knockout_punches.js\"}],\"type\":\"async_block\"})).then((imports) => handler.apply(this, imports));\n}\n"
                ],
                "observables": {
                 "changes": {
                  "id": "14188553866119204093",
                  "sync": false,
                  "value": 0
                 },
                 "index": {
                  "id": "1280384691156925769",
                  "sync": true,
                  "value": 201
                 }
                },
                "systemjs_options": null
               },
               "nodeType": "Scope",
               "props": {},
               "type": "node"
              }
             ],
             "instanceArgs": {
              "namespace": "html",
              "tag": "div"
             },
             "nodeType": "DOM",
             "props": {
              "className": "field interact-widget"
             },
             "type": "node"
            },
            {
             "children": [
              {
               "children": [
                {
                 "children": [
                  {
                   "children": [
                    {
                     "children": [
                      "scale"
                     ],
                     "instanceArgs": {
                      "namespace": "html",
                      "tag": "label"
                     },
                     "nodeType": "DOM",
                     "props": {
                      "className": "interact ",
                      "style": {
                       "padding": "5px 10px 0px 10px"
                      }
                     },
                     "type": "node"
                    }
                   ],
                   "instanceArgs": {
                    "namespace": "html",
                    "tag": "div"
                   },
                   "nodeType": "DOM",
                   "props": {
                    "className": "interact-flex-row-left"
                   },
                   "type": "node"
                  },
                  {
                   "children": [
                    {
                     "children": [],
                     "instanceArgs": {
                      "namespace": "html",
                      "tag": "input"
                     },
                     "nodeType": "DOM",
                     "props": {
                      "attributes": {
                       "data-bind": "numericValue: index, valueUpdate: 'input', event: {change: function (){this.changes(this.changes()+1)}}",
                       "orient": "horizontal",
                       "type": "range"
                      },
                      "className": "slider slider is-fullwidth",
                      "max": 20,
                      "min": 1,
                      "step": 1,
                      "style": {}
                     },
                     "type": "node"
                    }
                   ],
                   "instanceArgs": {
                    "namespace": "html",
                    "tag": "div"
                   },
                   "nodeType": "DOM",
                   "props": {
                    "className": "interact-flex-row-center"
                   },
                   "type": "node"
                  },
                  {
                   "children": [
                    {
                     "children": [],
                     "instanceArgs": {
                      "namespace": "html",
                      "tag": "p"
                     },
                     "nodeType": "DOM",
                     "props": {
                      "attributes": {
                       "data-bind": "text: formatted_val"
                      }
                     },
                     "type": "node"
                    }
                   ],
                   "instanceArgs": {
                    "namespace": "html",
                    "tag": "div"
                   },
                   "nodeType": "DOM",
                   "props": {
                    "className": "interact-flex-row-right"
                   },
                   "type": "node"
                  }
                 ],
                 "instanceArgs": {
                  "namespace": "html",
                  "tag": "div"
                 },
                 "nodeType": "DOM",
                 "props": {
                  "className": "interact-flex-row interact-widget"
                 },
                 "type": "node"
                }
               ],
               "instanceArgs": {
                "handlers": {
                 "changes": [
                  "(function (val){return (val!=this.model[\"changes\"]()) ? (this.valueFromJulia[\"changes\"]=true, this.model[\"changes\"](val)) : undefined})"
                 ],
                 "index": [
                  "(function (val){return (val!=this.model[\"index\"]()) ? (this.valueFromJulia[\"index\"]=true, this.model[\"index\"](val)) : undefined})"
                 ]
                },
                "id": "5102104753318874578",
                "imports": {
                 "data": [
                  {
                   "name": "knockout",
                   "type": "js",
                   "url": "/assetserver/c1499ba55a1bc421a61388a1d89a415fc6dcc13c-knockout.js"
                  },
                  {
                   "name": "knockout_punches",
                   "type": "js",
                   "url": "/assetserver/f9c6b7aff92992a2d2baddb2c82a79fb8b3956c2-knockout_punches.js"
                  },
                  {
                   "name": null,
                   "type": "js",
                   "url": "/assetserver/d98610aa326aee8a709cc7d91aea3aadf7cb1517-all.js"
                  },
                  {
                   "name": null,
                   "type": "css",
                   "url": "/assetserver/457be80a26ff437349c55b6aa8871c7065926fae-style.css"
                  },
                  {
                   "name": null,
                   "type": "css",
                   "url": "/assetserver/3cd1ef316d208db1ffc36b6f265c6ac56f9847a0-bulma_confined.min.css"
                  }
                 ],
                 "type": "async_block"
                },
                "mount_callbacks": [
                 "function () {\n    var handler = (function (ko, koPunches) {\n    ko.punches.enableAll();\n    ko.bindingHandlers.numericValue = {\n        init: function(element, valueAccessor, allBindings, data, context) {\n            var stringified = ko.observable(ko.unwrap(valueAccessor()));\n            stringified.subscribe(function(value) {\n                var val = parseFloat(value);\n                if (!isNaN(val)) {\n                    valueAccessor()(val);\n                }\n            });\n            valueAccessor().subscribe(function(value) {\n                var str = JSON.stringify(value);\n                if ((str == \"0\") && ([\"-0\", \"-0.\"].indexOf(stringified()) >= 0))\n                     return;\n                 if ([\"null\", \"\"].indexOf(str) >= 0)\n                     return;\n                stringified(str);\n            });\n            ko.applyBindingsToNode(\n                element,\n                {\n                    value: stringified,\n                    valueUpdate: allBindings.get('valueUpdate'),\n                },\n                context,\n            );\n        }\n    };\n    var json_data = {\"formatted_vals\":[\"0.1\",\"0.2\",\"0.3\",\"0.4\",\"0.5\",\"0.6\",\"0.7\",\"0.8\",\"0.9\",\"1.0\",\"1.1\",\"1.2\",\"1.3\",\"1.4\",\"1.5\",\"1.6\",\"1.7\",\"1.8\",\"1.9\",\"2.0\"],\"changes\":WebIO.getval({\"name\":\"changes\",\"scope\":\"5102104753318874578\",\"id\":\"1967488895157235893\",\"type\":\"observable\"}),\"index\":WebIO.getval({\"name\":\"index\",\"scope\":\"5102104753318874578\",\"id\":\"17895971362182939400\",\"type\":\"observable\"})};\n    var self = this;\n    function AppViewModel() {\n        for (var key in json_data) {\n            var el = json_data[key];\n            this[key] = Array.isArray(el) ? ko.observableArray(el) : ko.observable(el);\n        }\n        \n        [this[\"formatted_val\"]=ko.computed(    function(){\n        return this.formatted_vals()[parseInt(this.index())-(1)];\n    }\n,this)]\n        [this[\"changes\"].subscribe((function (val){!(this.valueFromJulia[\"changes\"]) ? (WebIO.setval({\"name\":\"changes\",\"scope\":\"5102104753318874578\",\"id\":\"1967488895157235893\",\"type\":\"observable\"},val)) : undefined; return this.valueFromJulia[\"changes\"]=false}),self),this[\"index\"].subscribe((function (val){!(this.valueFromJulia[\"index\"]) ? (WebIO.setval({\"name\":\"index\",\"scope\":\"5102104753318874578\",\"id\":\"17895971362182939400\",\"type\":\"observable\"},val)) : undefined; return this.valueFromJulia[\"index\"]=false}),self)]\n        \n    }\n    self.model = new AppViewModel();\n    self.valueFromJulia = {};\n    for (var key in json_data) {\n        self.valueFromJulia[key] = false;\n    }\n    ko.applyBindings(self.model, self.dom);\n}\n);\n    (WebIO.importBlock({\"data\":[{\"name\":\"knockout\",\"type\":\"js\",\"url\":\"/assetserver/c1499ba55a1bc421a61388a1d89a415fc6dcc13c-knockout.js\"},{\"name\":\"knockout_punches\",\"type\":\"js\",\"url\":\"/assetserver/f9c6b7aff92992a2d2baddb2c82a79fb8b3956c2-knockout_punches.js\"}],\"type\":\"async_block\"})).then((imports) => handler.apply(this, imports));\n}\n"
                ],
                "observables": {
                 "changes": {
                  "id": "1967488895157235893",
                  "sync": false,
                  "value": 0
                 },
                 "index": {
                  "id": "17895971362182939400",
                  "sync": true,
                  "value": 10
                 }
                },
                "systemjs_options": null
               },
               "nodeType": "Scope",
               "props": {},
               "type": "node"
              }
             ],
             "instanceArgs": {
              "namespace": "html",
              "tag": "div"
             },
             "nodeType": "DOM",
             "props": {
              "className": "field interact-widget"
             },
             "type": "node"
            },
            {
             "children": [
              {
               "children": [
                {
                 "children": [
                  {
                   "children": [],
                   "instanceArgs": {
                    "namespace": "html",
                    "tag": "div"
                   },
                   "nodeType": "DOM",
                   "props": {
                    "id": "container"
                   },
                   "type": "node"
                  }
                 ],
                 "instanceArgs": {
                  "handlers": {
                   "value": [
                    "(function (txt){return this.k.render(txt,this.container)})"
                   ]
                  },
                  "id": "14761318876729057191",
                  "imports": {
                   "data": [
                    {
                     "name": null,
                     "type": "js",
                     "url": "/assetserver/19a5359bdf5fe26635c6a9c98bbe8dc477c9d18e-katex.min.js"
                    },
                    {
                     "name": null,
                     "type": "css",
                     "url": "/assetserver/510a04dfddb84bc394dc07fffef4a63cac393c2d-katex.min.css"
                    }
                   ],
                   "type": "async_block"
                  },
                  "mount_callbacks": [
                   "function () {\n    var handler = ((function (k){this.k=k; this.container=this.dom.querySelector(\"#container\"); return k.render(\"\\\\;\\\\;\",this.container)}));\n    (WebIO.importBlock({\"data\":[{\"name\":null,\"type\":\"js\",\"url\":\"/assetserver/19a5359bdf5fe26635c6a9c98bbe8dc477c9d18e-katex.min.js\"},{\"name\":null,\"type\":\"css\",\"url\":\"/assetserver/510a04dfddb84bc394dc07fffef4a63cac393c2d-katex.min.css\"}],\"type\":\"async_block\"})).then((imports) => handler.apply(this, imports));\n}\n"
                  ],
                  "observables": {
                   "value": {
                    "id": "14746278747264876987",
                    "sync": false,
                    "value": "\\;\\;"
                   }
                  },
                  "systemjs_options": null
                 },
                 "nodeType": "Scope",
                 "props": {},
                 "type": "node"
                }
               ],
               "instanceArgs": {
                "namespace": "html",
                "tag": "div"
               },
               "nodeType": "DOM",
               "props": {
                "className": "interact-widget"
               },
               "type": "node"
              },
              {
               "children": [
                {
                 "children": [
                  {
                   "children": [
                    "run"
                   ],
                   "instanceArgs": {
                    "namespace": "html",
                    "tag": "button"
                   },
                   "nodeType": "DOM",
                   "props": {
                    "attributes": {
                     "data-bind": "click: function (){this.clicks(this.clicks()+1)}, css: {'is-loading' : loading}"
                    },
                    "className": "is-medium button is-primary",
                    "style": {}
                   },
                   "type": "node"
                  }
                 ],
                 "instanceArgs": {
                  "handlers": {
                   "clicks": [
                    "(function (val){return (val!=this.model[\"clicks\"]()) ? (this.valueFromJulia[\"clicks\"]=true, this.model[\"clicks\"](val)) : undefined})"
                   ],
                   "loading": [
                    "(function (val){return (val!=this.model[\"loading\"]()) ? (this.valueFromJulia[\"loading\"]=true, this.model[\"loading\"](val)) : undefined})"
                   ]
                  },
                  "id": "2055337222202791500",
                  "imports": {
                   "data": [
                    {
                     "name": "knockout",
                     "type": "js",
                     "url": "/assetserver/c1499ba55a1bc421a61388a1d89a415fc6dcc13c-knockout.js"
                    },
                    {
                     "name": "knockout_punches",
                     "type": "js",
                     "url": "/assetserver/f9c6b7aff92992a2d2baddb2c82a79fb8b3956c2-knockout_punches.js"
                    },
                    {
                     "name": null,
                     "type": "js",
                     "url": "/assetserver/d98610aa326aee8a709cc7d91aea3aadf7cb1517-all.js"
                    },
                    {
                     "name": null,
                     "type": "css",
                     "url": "/assetserver/457be80a26ff437349c55b6aa8871c7065926fae-style.css"
                    },
                    {
                     "name": null,
                     "type": "css",
                     "url": "/assetserver/3cd1ef316d208db1ffc36b6f265c6ac56f9847a0-bulma_confined.min.css"
                    }
                   ],
                   "type": "async_block"
                  },
                  "mount_callbacks": [
                   "function () {\n    var handler = (function (ko, koPunches) {\n    ko.punches.enableAll();\n    ko.bindingHandlers.numericValue = {\n        init: function(element, valueAccessor, allBindings, data, context) {\n            var stringified = ko.observable(ko.unwrap(valueAccessor()));\n            stringified.subscribe(function(value) {\n                var val = parseFloat(value);\n                if (!isNaN(val)) {\n                    valueAccessor()(val);\n                }\n            });\n            valueAccessor().subscribe(function(value) {\n                var str = JSON.stringify(value);\n                if ((str == \"0\") && ([\"-0\", \"-0.\"].indexOf(stringified()) >= 0))\n                     return;\n                 if ([\"null\", \"\"].indexOf(str) >= 0)\n                     return;\n                stringified(str);\n            });\n            ko.applyBindingsToNode(\n                element,\n                {\n                    value: stringified,\n                    valueUpdate: allBindings.get('valueUpdate'),\n                },\n                context,\n            );\n        }\n    };\n    var json_data = {\"loading\":WebIO.getval({\"name\":\"loading\",\"scope\":\"2055337222202791500\",\"id\":\"5189185786411892866\",\"type\":\"observable\"}),\"clicks\":WebIO.getval({\"name\":\"clicks\",\"scope\":\"2055337222202791500\",\"id\":\"14124968144432450532\",\"type\":\"observable\"})};\n    var self = this;\n    function AppViewModel() {\n        for (var key in json_data) {\n            var el = json_data[key];\n            this[key] = Array.isArray(el) ? ko.observableArray(el) : ko.observable(el);\n        }\n        \n        \n        [this[\"loading\"].subscribe((function (val){!(this.valueFromJulia[\"loading\"]) ? (WebIO.setval({\"name\":\"loading\",\"scope\":\"2055337222202791500\",\"id\":\"5189185786411892866\",\"type\":\"observable\"},val)) : undefined; return this.valueFromJulia[\"loading\"]=false}),self),this[\"clicks\"].subscribe((function (val){!(this.valueFromJulia[\"clicks\"]) ? (WebIO.setval({\"name\":\"clicks\",\"scope\":\"2055337222202791500\",\"id\":\"14124968144432450532\",\"type\":\"observable\"},val)) : undefined; return this.valueFromJulia[\"clicks\"]=false}),self)]\n        \n    }\n    self.model = new AppViewModel();\n    self.valueFromJulia = {};\n    for (var key in json_data) {\n        self.valueFromJulia[key] = false;\n    }\n    ko.applyBindings(self.model, self.dom);\n}\n);\n    (WebIO.importBlock({\"data\":[{\"name\":\"knockout\",\"type\":\"js\",\"url\":\"/assetserver/c1499ba55a1bc421a61388a1d89a415fc6dcc13c-knockout.js\"},{\"name\":\"knockout_punches\",\"type\":\"js\",\"url\":\"/assetserver/f9c6b7aff92992a2d2baddb2c82a79fb8b3956c2-knockout_punches.js\"}],\"type\":\"async_block\"})).then((imports) => handler.apply(this, imports));\n}\n"
                  ],
                  "observables": {
                   "clicks": {
                    "id": "14124968144432450532",
                    "sync": true,
                    "value": 0
                   },
                   "loading": {
                    "id": "5189185786411892866",
                    "sync": false,
                    "value": false
                   }
                  },
                  "systemjs_options": null
                 },
                 "nodeType": "Scope",
                 "props": {},
                 "type": "node"
                }
               ],
               "instanceArgs": {
                "namespace": "html",
                "tag": "div"
               },
               "nodeType": "DOM",
               "props": {
                "className": "field interact-widget"
               },
               "type": "node"
              },
              {
               "children": [
                {
                 "children": [
                  {
                   "children": [],
                   "instanceArgs": {
                    "namespace": "html",
                    "tag": "div"
                   },
                   "nodeType": "DOM",
                   "props": {
                    "id": "container"
                   },
                   "type": "node"
                  }
                 ],
                 "instanceArgs": {
                  "handlers": {
                   "value": [
                    "(function (txt){return this.k.render(txt,this.container)})"
                   ]
                  },
                  "id": "14761318876729057191",
                  "imports": {
                   "data": [
                    {
                     "name": null,
                     "type": "js",
                     "url": "/assetserver/19a5359bdf5fe26635c6a9c98bbe8dc477c9d18e-katex.min.js"
                    },
                    {
                     "name": null,
                     "type": "css",
                     "url": "/assetserver/510a04dfddb84bc394dc07fffef4a63cac393c2d-katex.min.css"
                    }
                   ],
                   "type": "async_block"
                  },
                  "mount_callbacks": [
                   "function () {\n    var handler = ((function (k){this.k=k; this.container=this.dom.querySelector(\"#container\"); return k.render(\"\\\\;\\\\;\",this.container)}));\n    (WebIO.importBlock({\"data\":[{\"name\":null,\"type\":\"js\",\"url\":\"/assetserver/19a5359bdf5fe26635c6a9c98bbe8dc477c9d18e-katex.min.js\"},{\"name\":null,\"type\":\"css\",\"url\":\"/assetserver/510a04dfddb84bc394dc07fffef4a63cac393c2d-katex.min.css\"}],\"type\":\"async_block\"})).then((imports) => handler.apply(this, imports));\n}\n"
                  ],
                  "observables": {
                   "value": {
                    "id": "14746278747264876987",
                    "sync": false,
                    "value": "\\;\\;"
                   }
                  },
                  "systemjs_options": null
                 },
                 "nodeType": "Scope",
                 "props": {},
                 "type": "node"
                }
               ],
               "instanceArgs": {
                "namespace": "html",
                "tag": "div"
               },
               "nodeType": "DOM",
               "props": {
                "className": "interact-widget"
               },
               "type": "node"
              },
              {
               "children": [
                {
                 "children": [
                  {
                   "children": [
                    "stop"
                   ],
                   "instanceArgs": {
                    "namespace": "html",
                    "tag": "button"
                   },
                   "nodeType": "DOM",
                   "props": {
                    "attributes": {
                     "data-bind": "click: function (){this.clicks(this.clicks()+1)}, css: {'is-loading' : loading}"
                    },
                    "className": "is-medium button is-primary",
                    "style": {}
                   },
                   "type": "node"
                  }
                 ],
                 "instanceArgs": {
                  "handlers": {
                   "clicks": [
                    "(function (val){return (val!=this.model[\"clicks\"]()) ? (this.valueFromJulia[\"clicks\"]=true, this.model[\"clicks\"](val)) : undefined})"
                   ],
                   "loading": [
                    "(function (val){return (val!=this.model[\"loading\"]()) ? (this.valueFromJulia[\"loading\"]=true, this.model[\"loading\"](val)) : undefined})"
                   ]
                  },
                  "id": "9498922321694591842",
                  "imports": {
                   "data": [
                    {
                     "name": "knockout",
                     "type": "js",
                     "url": "/assetserver/c1499ba55a1bc421a61388a1d89a415fc6dcc13c-knockout.js"
                    },
                    {
                     "name": "knockout_punches",
                     "type": "js",
                     "url": "/assetserver/f9c6b7aff92992a2d2baddb2c82a79fb8b3956c2-knockout_punches.js"
                    },
                    {
                     "name": null,
                     "type": "js",
                     "url": "/assetserver/d98610aa326aee8a709cc7d91aea3aadf7cb1517-all.js"
                    },
                    {
                     "name": null,
                     "type": "css",
                     "url": "/assetserver/457be80a26ff437349c55b6aa8871c7065926fae-style.css"
                    },
                    {
                     "name": null,
                     "type": "css",
                     "url": "/assetserver/3cd1ef316d208db1ffc36b6f265c6ac56f9847a0-bulma_confined.min.css"
                    }
                   ],
                   "type": "async_block"
                  },
                  "mount_callbacks": [
                   "function () {\n    var handler = (function (ko, koPunches) {\n    ko.punches.enableAll();\n    ko.bindingHandlers.numericValue = {\n        init: function(element, valueAccessor, allBindings, data, context) {\n            var stringified = ko.observable(ko.unwrap(valueAccessor()));\n            stringified.subscribe(function(value) {\n                var val = parseFloat(value);\n                if (!isNaN(val)) {\n                    valueAccessor()(val);\n                }\n            });\n            valueAccessor().subscribe(function(value) {\n                var str = JSON.stringify(value);\n                if ((str == \"0\") && ([\"-0\", \"-0.\"].indexOf(stringified()) >= 0))\n                     return;\n                 if ([\"null\", \"\"].indexOf(str) >= 0)\n                     return;\n                stringified(str);\n            });\n            ko.applyBindingsToNode(\n                element,\n                {\n                    value: stringified,\n                    valueUpdate: allBindings.get('valueUpdate'),\n                },\n                context,\n            );\n        }\n    };\n    var json_data = {\"loading\":WebIO.getval({\"name\":\"loading\",\"scope\":\"9498922321694591842\",\"id\":\"13831241691768943334\",\"type\":\"observable\"}),\"clicks\":WebIO.getval({\"name\":\"clicks\",\"scope\":\"9498922321694591842\",\"id\":\"14819567203806148380\",\"type\":\"observable\"})};\n    var self = this;\n    function AppViewModel() {\n        for (var key in json_data) {\n            var el = json_data[key];\n            this[key] = Array.isArray(el) ? ko.observableArray(el) : ko.observable(el);\n        }\n        \n        \n        [this[\"loading\"].subscribe((function (val){!(this.valueFromJulia[\"loading\"]) ? (WebIO.setval({\"name\":\"loading\",\"scope\":\"9498922321694591842\",\"id\":\"13831241691768943334\",\"type\":\"observable\"},val)) : undefined; return this.valueFromJulia[\"loading\"]=false}),self),this[\"clicks\"].subscribe((function (val){!(this.valueFromJulia[\"clicks\"]) ? (WebIO.setval({\"name\":\"clicks\",\"scope\":\"9498922321694591842\",\"id\":\"14819567203806148380\",\"type\":\"observable\"},val)) : undefined; return this.valueFromJulia[\"clicks\"]=false}),self)]\n        \n    }\n    self.model = new AppViewModel();\n    self.valueFromJulia = {};\n    for (var key in json_data) {\n        self.valueFromJulia[key] = false;\n    }\n    ko.applyBindings(self.model, self.dom);\n}\n);\n    (WebIO.importBlock({\"data\":[{\"name\":\"knockout\",\"type\":\"js\",\"url\":\"/assetserver/c1499ba55a1bc421a61388a1d89a415fc6dcc13c-knockout.js\"},{\"name\":\"knockout_punches\",\"type\":\"js\",\"url\":\"/assetserver/f9c6b7aff92992a2d2baddb2c82a79fb8b3956c2-knockout_punches.js\"}],\"type\":\"async_block\"})).then((imports) => handler.apply(this, imports));\n}\n"
                  ],
                  "observables": {
                   "clicks": {
                    "id": "14819567203806148380",
                    "sync": true,
                    "value": 0
                   },
                   "loading": {
                    "id": "13831241691768943334",
                    "sync": false,
                    "value": false
                   }
                  },
                  "systemjs_options": null
                 },
                 "nodeType": "Scope",
                 "props": {},
                 "type": "node"
                }
               ],
               "instanceArgs": {
                "namespace": "html",
                "tag": "div"
               },
               "nodeType": "DOM",
               "props": {
                "className": "field interact-widget"
               },
               "type": "node"
              },
              {
               "children": [
                {
                 "children": [
                  {
                   "children": [],
                   "instanceArgs": {
                    "namespace": "html",
                    "tag": "div"
                   },
                   "nodeType": "DOM",
                   "props": {
                    "id": "container"
                   },
                   "type": "node"
                  }
                 ],
                 "instanceArgs": {
                  "handlers": {
                   "value": [
                    "(function (txt){return this.k.render(txt,this.container)})"
                   ]
                  },
                  "id": "14761318876729057191",
                  "imports": {
                   "data": [
                    {
                     "name": null,
                     "type": "js",
                     "url": "/assetserver/19a5359bdf5fe26635c6a9c98bbe8dc477c9d18e-katex.min.js"
                    },
                    {
                     "name": null,
                     "type": "css",
                     "url": "/assetserver/510a04dfddb84bc394dc07fffef4a63cac393c2d-katex.min.css"
                    }
                   ],
                   "type": "async_block"
                  },
                  "mount_callbacks": [
                   "function () {\n    var handler = ((function (k){this.k=k; this.container=this.dom.querySelector(\"#container\"); return k.render(\"\\\\;\\\\;\",this.container)}));\n    (WebIO.importBlock({\"data\":[{\"name\":null,\"type\":\"js\",\"url\":\"/assetserver/19a5359bdf5fe26635c6a9c98bbe8dc477c9d18e-katex.min.js\"},{\"name\":null,\"type\":\"css\",\"url\":\"/assetserver/510a04dfddb84bc394dc07fffef4a63cac393c2d-katex.min.css\"}],\"type\":\"async_block\"})).then((imports) => handler.apply(this, imports));\n}\n"
                  ],
                  "observables": {
                   "value": {
                    "id": "14746278747264876987",
                    "sync": false,
                    "value": "\\;\\;"
                   }
                  },
                  "systemjs_options": null
                 },
                 "nodeType": "Scope",
                 "props": {},
                 "type": "node"
                }
               ],
               "instanceArgs": {
                "namespace": "html",
                "tag": "div"
               },
               "nodeType": "DOM",
               "props": {
                "className": "interact-widget"
               },
               "type": "node"
              },
              {
               "children": [
                {
                 "children": [
                  {
                   "children": [
                    "save"
                   ],
                   "instanceArgs": {
                    "namespace": "html",
                    "tag": "button"
                   },
                   "nodeType": "DOM",
                   "props": {
                    "attributes": {
                     "data-bind": "click: function (){this.clicks(this.clicks()+1)}, css: {'is-loading' : loading}"
                    },
                    "className": "is-medium button is-primary",
                    "style": {}
                   },
                   "type": "node"
                  }
                 ],
                 "instanceArgs": {
                  "handlers": {
                   "clicks": [
                    "(function (val){return (val!=this.model[\"clicks\"]()) ? (this.valueFromJulia[\"clicks\"]=true, this.model[\"clicks\"](val)) : undefined})"
                   ],
                   "loading": [
                    "(function (val){return (val!=this.model[\"loading\"]()) ? (this.valueFromJulia[\"loading\"]=true, this.model[\"loading\"](val)) : undefined})"
                   ]
                  },
                  "id": "5003532142112440537",
                  "imports": {
                   "data": [
                    {
                     "name": "knockout",
                     "type": "js",
                     "url": "/assetserver/c1499ba55a1bc421a61388a1d89a415fc6dcc13c-knockout.js"
                    },
                    {
                     "name": "knockout_punches",
                     "type": "js",
                     "url": "/assetserver/f9c6b7aff92992a2d2baddb2c82a79fb8b3956c2-knockout_punches.js"
                    },
                    {
                     "name": null,
                     "type": "js",
                     "url": "/assetserver/d98610aa326aee8a709cc7d91aea3aadf7cb1517-all.js"
                    },
                    {
                     "name": null,
                     "type": "css",
                     "url": "/assetserver/457be80a26ff437349c55b6aa8871c7065926fae-style.css"
                    },
                    {
                     "name": null,
                     "type": "css",
                     "url": "/assetserver/3cd1ef316d208db1ffc36b6f265c6ac56f9847a0-bulma_confined.min.css"
                    }
                   ],
                   "type": "async_block"
                  },
                  "mount_callbacks": [
                   "function () {\n    var handler = (function (ko, koPunches) {\n    ko.punches.enableAll();\n    ko.bindingHandlers.numericValue = {\n        init: function(element, valueAccessor, allBindings, data, context) {\n            var stringified = ko.observable(ko.unwrap(valueAccessor()));\n            stringified.subscribe(function(value) {\n                var val = parseFloat(value);\n                if (!isNaN(val)) {\n                    valueAccessor()(val);\n                }\n            });\n            valueAccessor().subscribe(function(value) {\n                var str = JSON.stringify(value);\n                if ((str == \"0\") && ([\"-0\", \"-0.\"].indexOf(stringified()) >= 0))\n                     return;\n                 if ([\"null\", \"\"].indexOf(str) >= 0)\n                     return;\n                stringified(str);\n            });\n            ko.applyBindingsToNode(\n                element,\n                {\n                    value: stringified,\n                    valueUpdate: allBindings.get('valueUpdate'),\n                },\n                context,\n            );\n        }\n    };\n    var json_data = {\"loading\":WebIO.getval({\"name\":\"loading\",\"scope\":\"5003532142112440537\",\"id\":\"8218770428970883678\",\"type\":\"observable\"}),\"clicks\":WebIO.getval({\"name\":\"clicks\",\"scope\":\"5003532142112440537\",\"id\":\"9378668951723895161\",\"type\":\"observable\"})};\n    var self = this;\n    function AppViewModel() {\n        for (var key in json_data) {\n            var el = json_data[key];\n            this[key] = Array.isArray(el) ? ko.observableArray(el) : ko.observable(el);\n        }\n        \n        \n        [this[\"loading\"].subscribe((function (val){!(this.valueFromJulia[\"loading\"]) ? (WebIO.setval({\"name\":\"loading\",\"scope\":\"5003532142112440537\",\"id\":\"8218770428970883678\",\"type\":\"observable\"},val)) : undefined; return this.valueFromJulia[\"loading\"]=false}),self),this[\"clicks\"].subscribe((function (val){!(this.valueFromJulia[\"clicks\"]) ? (WebIO.setval({\"name\":\"clicks\",\"scope\":\"5003532142112440537\",\"id\":\"9378668951723895161\",\"type\":\"observable\"},val)) : undefined; return this.valueFromJulia[\"clicks\"]=false}),self)]\n        \n    }\n    self.model = new AppViewModel();\n    self.valueFromJulia = {};\n    for (var key in json_data) {\n        self.valueFromJulia[key] = false;\n    }\n    ko.applyBindings(self.model, self.dom);\n}\n);\n    (WebIO.importBlock({\"data\":[{\"name\":\"knockout\",\"type\":\"js\",\"url\":\"/assetserver/c1499ba55a1bc421a61388a1d89a415fc6dcc13c-knockout.js\"},{\"name\":\"knockout_punches\",\"type\":\"js\",\"url\":\"/assetserver/f9c6b7aff92992a2d2baddb2c82a79fb8b3956c2-knockout_punches.js\"}],\"type\":\"async_block\"})).then((imports) => handler.apply(this, imports));\n}\n"
                  ],
                  "observables": {
                   "clicks": {
                    "id": "9378668951723895161",
                    "sync": true,
                    "value": 0
                   },
                   "loading": {
                    "id": "8218770428970883678",
                    "sync": false,
                    "value": false
                   }
                  },
                  "systemjs_options": null
                 },
                 "nodeType": "Scope",
                 "props": {},
                 "type": "node"
                }
               ],
               "instanceArgs": {
                "namespace": "html",
                "tag": "div"
               },
               "nodeType": "DOM",
               "props": {
                "className": "field interact-widget"
               },
               "type": "node"
              }
             ],
             "instanceArgs": {
              "namespace": "html",
              "tag": "div"
             },
             "nodeType": "DOM",
             "props": {
              "style": {
               "display": "flex",
               "flex-direction": "row"
              }
             },
             "type": "node"
            }
           ],
           "instanceArgs": {
            "namespace": "html",
            "tag": "div"
           },
           "nodeType": "DOM",
           "props": {
            "style": {
             "display": "flex",
             "flex-direction": "column"
            }
           },
           "type": "node"
          },
          {
           "children": [
            {
             "children": [
              {
               "children": [],
               "instanceArgs": {
                "namespace": "html",
                "tag": "div"
               },
               "nodeType": "DOM",
               "props": {
                "id": "container"
               },
               "type": "node"
              }
             ],
             "instanceArgs": {
              "handlers": {
               "value": [
                "(function (txt){return this.k.render(txt,this.container)})"
               ]
              },
              "id": "14761318876729057191",
              "imports": {
               "data": [
                {
                 "name": null,
                 "type": "js",
                 "url": "/assetserver/19a5359bdf5fe26635c6a9c98bbe8dc477c9d18e-katex.min.js"
                },
                {
                 "name": null,
                 "type": "css",
                 "url": "/assetserver/510a04dfddb84bc394dc07fffef4a63cac393c2d-katex.min.css"
                }
               ],
               "type": "async_block"
              },
              "mount_callbacks": [
               "function () {\n    var handler = ((function (k){this.k=k; this.container=this.dom.querySelector(\"#container\"); return k.render(\"\\\\;\\\\;\",this.container)}));\n    (WebIO.importBlock({\"data\":[{\"name\":null,\"type\":\"js\",\"url\":\"/assetserver/19a5359bdf5fe26635c6a9c98bbe8dc477c9d18e-katex.min.js\"},{\"name\":null,\"type\":\"css\",\"url\":\"/assetserver/510a04dfddb84bc394dc07fffef4a63cac393c2d-katex.min.css\"}],\"type\":\"async_block\"})).then((imports) => handler.apply(this, imports));\n}\n"
              ],
              "observables": {
               "value": {
                "id": "14746278747264876987",
                "sync": false,
                "value": "\\;\\;"
               }
              },
              "systemjs_options": null
             },
             "nodeType": "Scope",
             "props": {},
             "type": "node"
            }
           ],
           "instanceArgs": {
            "namespace": "html",
            "tag": "div"
           },
           "nodeType": "DOM",
           "props": {
            "className": "interact-widget"
           },
           "type": "node"
          },
          {
           "children": [
            {
             "children": [],
             "instanceArgs": {
              "namespace": "html",
              "tag": "div"
             },
             "nodeType": "DOM",
             "props": {
              "className": "webio-observable",
              "setInnerHtml": "<img src='data:image/png;base64,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'></img>"
             },
             "type": "node"
            }
           ],
           "instanceArgs": {
            "handlers": {
             "obs-output": [
              "function (value, scope) {\n    scope.setInnerHTML(value);\n}\n"
             ]
            },
            "id": "13079379757633177476",
            "imports": {
             "data": [],
             "type": "async_block"
            },
            "mount_callbacks": [],
            "observables": {
             "obs-output": {
              "id": "16009247478560275620",
              "sync": false,
              "value": "<img src='data:image/png;base64,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'></img>"
             }
            },
            "systemjs_options": null
           },
           "nodeType": "Scope",
           "props": {},
           "type": "node"
          },
          {
           "children": [
            {
             "children": [
              {
               "children": [],
               "instanceArgs": {
                "namespace": "html",
                "tag": "div"
               },
               "nodeType": "DOM",
               "props": {
                "id": "container"
               },
               "type": "node"
              }
             ],
             "instanceArgs": {
              "handlers": {
               "value": [
                "(function (txt){return this.k.render(txt,this.container)})"
               ]
              },
              "id": "14761318876729057191",
              "imports": {
               "data": [
                {
                 "name": null,
                 "type": "js",
                 "url": "/assetserver/19a5359bdf5fe26635c6a9c98bbe8dc477c9d18e-katex.min.js"
                },
                {
                 "name": null,
                 "type": "css",
                 "url": "/assetserver/510a04dfddb84bc394dc07fffef4a63cac393c2d-katex.min.css"
                }
               ],
               "type": "async_block"
              },
              "mount_callbacks": [
               "function () {\n    var handler = ((function (k){this.k=k; this.container=this.dom.querySelector(\"#container\"); return k.render(\"\\\\;\\\\;\",this.container)}));\n    (WebIO.importBlock({\"data\":[{\"name\":null,\"type\":\"js\",\"url\":\"/assetserver/19a5359bdf5fe26635c6a9c98bbe8dc477c9d18e-katex.min.js\"},{\"name\":null,\"type\":\"css\",\"url\":\"/assetserver/510a04dfddb84bc394dc07fffef4a63cac393c2d-katex.min.css\"}],\"type\":\"async_block\"})).then((imports) => handler.apply(this, imports));\n}\n"
              ],
              "observables": {
               "value": {
                "id": "14746278747264876987",
                "sync": false,
                "value": "\\;\\;"
               }
              },
              "systemjs_options": null
             },
             "nodeType": "Scope",
             "props": {},
             "type": "node"
            }
           ],
           "instanceArgs": {
            "namespace": "html",
            "tag": "div"
           },
           "nodeType": "DOM",
           "props": {
            "className": "interact-widget"
           },
           "type": "node"
          },
          {
           "children": [],
           "instanceArgs": {
            "namespace": "html",
            "tag": "div"
           },
           "nodeType": "DOM",
           "props": {
            "style": {
             "display": "flex",
             "flex-direction": "column"
            }
           },
           "type": "node"
          }
         ],
         "instanceArgs": {
          "namespace": "html",
          "tag": "div"
         },
         "nodeType": "DOM",
         "props": {
          "style": {
           "display": "flex",
           "flex-direction": "row"
          }
         },
         "type": "node"
        }
       ],
       "instanceArgs": {
        "namespace": "html",
        "tag": "div"
       },
       "nodeType": "DOM",
       "props": {
        "style": {
         "display": "flex",
         "flex-direction": "column"
        }
       },
       "type": "node"
      },
      "text/html": [
       "<div\n",
       "    class=\"webio-mountpoint\"\n",
       "    data-webio-mountpoint=\"9029774477747133693\"\n",
       ">\n",
       "    <script>\n",
       "    (function(){\n",
       "    // Some integrations (namely, IJulia/Jupyter) use an alternate render pathway than\n",
       "    // just putting the html on the page. If WebIO isn't defined, then it's pretty likely\n",
       "    // that we're in one of those situations and the integration just isn't installed\n",
       "    // correctly.\n",
       "    if (typeof window.WebIO === \"undefined\") {\n",
       "        document\n",
       "            .querySelector('[data-webio-mountpoint=\"9029774477747133693\"]')\n",
       "            .innerHTML = (\n",
       "                '<div style=\"padding: 1em; background-color: #f8d6da; border: 1px solid #f5c6cb; font-weight: bold;\">' +\n",
       "                '<p><strong>WebIO not detected.</strong></p>' +\n",
       "                '<p>Please read ' +\n",
       "                '<a href=\"https://juliagizmos.github.io/WebIO.jl/latest/troubleshooting/not-detected/\" target=\"_blank\">the troubleshooting guide</a> ' +\n",
       "                'for more information on how to resolve this issue.</p>' +\n",
       "                '<p><a href=\"https://juliagizmos.github.io/WebIO.jl/latest/troubleshooting/not-detected/\" target=\"_blank\">https://juliagizmos.github.io/WebIO.jl/latest/troubleshooting/not-detected/</a></p>' +\n",
       "                '</div>'\n",
       "            );\n",
       "        return;\n",
       "    }\n",
       "    WebIO.mount(\n",
       "        document.querySelector('[data-webio-mountpoint=\"9029774477747133693\"]'),\n",
       "        {\"props\":{\"style\":{\"display\":\"flex\",\"flex-direction\":\"column\"}},\"nodeType\":\"DOM\",\"type\":\"node\",\"instanceArgs\":{\"namespace\":\"html\",\"tag\":\"div\"},\"children\":[{\"props\":{\"style\":{\"display\":\"flex\",\"flex-direction\":\"row\"}},\"nodeType\":\"DOM\",\"type\":\"node\",\"instanceArgs\":{\"namespace\":\"html\",\"tag\":\"div\"},\"children\":[{\"props\":{\"style\":{\"display\":\"flex\",\"flex-direction\":\"column\"}},\"nodeType\":\"DOM\",\"type\":\"node\",\"instanceArgs\":{\"namespace\":\"html\",\"tag\":\"div\"},\"children\":[{\"props\":{\"className\":\"field interact-widget\"},\"nodeType\":\"DOM\",\"type\":\"node\",\"instanceArgs\":{\"namespace\":\"html\",\"tag\":\"div\"},\"children\":[{\"props\":{},\"nodeType\":\"Scope\",\"type\":\"node\",\"instanceArgs\":{\"imports\":{\"data\":[{\"name\":\"knockout\",\"type\":\"js\",\"url\":\"\\/assetserver\\/c1499ba55a1bc421a61388a1d89a415fc6dcc13c-knockout.js\"},{\"name\":\"knockout_punches\",\"type\":\"js\",\"url\":\"\\/assetserver\\/f9c6b7aff92992a2d2baddb2c82a79fb8b3956c2-knockout_punches.js\"},{\"name\":null,\"type\":\"js\",\"url\":\"\\/assetserver\\/d98610aa326aee8a709cc7d91aea3aadf7cb1517-all.js\"},{\"name\":null,\"type\":\"css\",\"url\":\"\\/assetserver\\/457be80a26ff437349c55b6aa8871c7065926fae-style.css\"},{\"name\":null,\"type\":\"css\",\"url\":\"\\/assetserver\\/3cd1ef316d208db1ffc36b6f265c6ac56f9847a0-bulma_confined.min.css\"}],\"type\":\"async_block\"},\"id\":\"9921776781502583542\",\"handlers\":{\"changes\":[\"(function (val){return (val!=this.model[\\\"changes\\\"]()) ? (this.valueFromJulia[\\\"changes\\\"]=true, this.model[\\\"changes\\\"](val)) : undefined})\"],\"index\":[\"(function (val){return (val!=this.model[\\\"index\\\"]()) ? (this.valueFromJulia[\\\"index\\\"]=true, this.model[\\\"index\\\"](val)) : undefined})\"]},\"systemjs_options\":null,\"mount_callbacks\":[\"function () {\\n    var handler = (function (ko, koPunches) {\\n    ko.punches.enableAll();\\n    ko.bindingHandlers.numericValue = {\\n        init: function(element, valueAccessor, allBindings, data, context) {\\n            var stringified = ko.observable(ko.unwrap(valueAccessor()));\\n            stringified.subscribe(function(value) {\\n                var val = parseFloat(value);\\n                if (!isNaN(val)) {\\n                    valueAccessor()(val);\\n                }\\n            });\\n            valueAccessor().subscribe(function(value) {\\n                var str = JSON.stringify(value);\\n                if ((str == \\\"0\\\") && ([\\\"-0\\\", \\\"-0.\\\"].indexOf(stringified()) >= 0))\\n                     return;\\n                 if ([\\\"null\\\", \\\"\\\"].indexOf(str) >= 0)\\n                     return;\\n                stringified(str);\\n            });\\n            ko.applyBindingsToNode(\\n                element,\\n                {\\n                    value: stringified,\\n                    valueUpdate: allBindings.get('valueUpdate'),\\n                },\\n                context,\\n            );\\n        }\\n    };\\n    var json_data = {\\\"formatted_vals\\\":[\\\"1\\\",\\\"2\\\",\\\"3\\\",\\\"4\\\",\\\"5\\\",\\\"6\\\",\\\"7\\\",\\\"8\\\",\\\"9\\\",\\\"10\\\",\\\"11\\\",\\\"12\\\",\\\"13\\\",\\\"14\\\",\\\"15\\\",\\\"16\\\",\\\"17\\\",\\\"18\\\",\\\"19\\\",\\\"20\\\",\\\"21\\\",\\\"22\\\",\\\"23\\\",\\\"24\\\",\\\"25\\\",\\\"26\\\",\\\"27\\\",\\\"28\\\",\\\"29\\\",\\\"30\\\",\\\"31\\\",\\\"32\\\",\\\"33\\\",\\\"34\\\",\\\"35\\\",\\\"36\\\",\\\"37\\\",\\\"38\\\",\\\"39\\\",\\\"40\\\",\\\"41\\\",\\\"42\\\",\\\"43\\\",\\\"44\\\",\\\"45\\\",\\\"46\\\",\\\"47\\\",\\\"48\\\",\\\"49\\\",\\\"50\\\",\\\"51\\\",\\\"52\\\",\\\"53\\\",\\\"54\\\",\\\"55\\\",\\\"56\\\",\\\"57\\\",\\\"58\\\",\\\"59\\\",\\\"60\\\",\\\"61\\\",\\\"62\\\",\\\"63\\\",\\\"64\\\",\\\"65\\\",\\\"66\\\",\\\"67\\\",\\\"68\\\",\\\"69\\\",\\\"70\\\",\\\"71\\\",\\\"72\\\",\\\"73\\\",\\\"74\\\",\\\"75\\\",\\\"76\\\",\\\"77\\\",\\\"78\\\",\\\"79\\\",\\\"80\\\",\\\"81\\\",\\\"82\\\",\\\"83\\\",\\\"84\\\",\\\"85\\\",\\\"86\\\",\\\"87\\\",\\\"88\\\",\\\"89\\\",\\\"90\\\",\\\"91\\\",\\\"92\\\",\\\"93\\\",\\\"94\\\",\\\"95\\\",\\\"96\\\",\\\"97\\\",\\\"98\\\",\\\"99\\\",\\\"100\\\",\\\"101\\\",\\\"102\\\",\\\"103\\\",\\\"104\\\",\\\"105\\\",\\\"106\\\",\\\"107\\\",\\\"108\\\",\\\"109\\\",\\\"110\\\",\\\"111\\\",\\\"112\\\",\\\"113\\\",\\\"114\\\",\\\"115\\\",\\\"116\\\",\\\"117\\\",\\\"118\\\",\\\"119\\\",\\\"120\\\",\\\"121\\\",\\\"122\\\",\\\"123\\\",\\\"124\\\",\\\"125\\\",\\\"126\\\",\\\"127\\\",\\\"128\\\",\\\"129\\\",\\\"130\\\",\\\"131\\\",\\\"132\\\",\\\"133\\\",\\\"134\\\",\\\"135\\\",\\\"136\\\",\\\"137\\\",\\\"138\\\",\\\"139\\\",\\\"140\\\",\\\"141\\\",\\\"142\\\",\\\"143\\\",\\\"144\\\",\\\"145\\\",\\\"146\\\",\\\"147\\\",\\\"148\\\",\\\"149\\\",\\\"150\\\",\\\"151\\\",\\\"152\\\",\\\"153\\\",\\\"154\\\",\\\"155\\\",\\\"156\\\",\\\"157\\\",\\\"158\\\",\\\"159\\\",\\\"160\\\",\\\"161\\\",\\\"162\\\",\\\"163\\\",\\\"164\\\",\\\"165\\\",\\\"166\\\",\\\"167\\\",\\\"168\\\",\\\"169\\\",\\\"170\\\",\\\"171\\\",\\\"172\\\",\\\"173\\\",\\\"174\\\",\\\"175\\\",\\\"176\\\",\\\"177\\\",\\\"178\\\",\\\"179\\\",\\\"180\\\",\\\"181\\\",\\\"182\\\",\\\"183\\\",\\\"184\\\",\\\"185\\\",\\\"186\\\",\\\"187\\\",\\\"188\\\",\\\"189\\\",\\\"190\\\",\\\"191\\\",\\\"192\\\",\\\"193\\\",\\\"194\\\",\\\"195\\\",\\\"196\\\",\\\"197\\\",\\\"198\\\",\\\"199\\\",\\\"200\\\",\\\"201\\\",\\\"202\\\",\\\"203\\\",\\\"204\\\",\\\"205\\\",\\\"206\\\",\\\"207\\\",\\\"208\\\",\\\"209\\\",\\\"210\\\",\\\"211\\\",\\\"212\\\",\\\"213\\\",\\\"214\\\",\\\"215\\\",\\\"216\\\",\\\"217\\\",\\\"218\\\",\\\"219\\\",\\\"220\\\",\\\"221\\\",\\\"222\\\",\\\"223\\\",\\\"224\\\",\\\"225\\\",\\\"226\\\",\\\"227\\\",\\\"228\\\",\\\"229\\\",\\\"230\\\",\\\"231\\\",\\\"232\\\",\\\"233\\\",\\\"234\\\",\\\"235\\\",\\\"236\\\",\\\"237\\\",\\\"238\\\",\\\"239\\\",\\\"240\\\",\\\"241\\\",\\\"242\\\",\\\"243\\\",\\\"244\\\",\\\"245\\\",\\\"246\\\",\\\"247\\\",\\\"248\\\",\\\"249\\\",\\\"250\\\",\\\"251\\\",\\\"252\\\",\\\"253\\\",\\\"254\\\",\\\"255\\\",\\\"256\\\",\\\"257\\\",\\\"258\\\",\\\"259\\\",\\\"260\\\",\\\"261\\\",\\\"262\\\",\\\"263\\\",\\\"264\\\",\\\"265\\\",\\\"266\\\",\\\"267\\\",\\\"268\\\",\\\"269\\\",\\\"270\\\",\\\"271\\\",\\\"272\\\",\\\"273\\\",\\\"274\\\",\\\"275\\\",\\\"276\\\",\\\"277\\\",\\\"278\\\",\\\"279\\\",\\\"280\\\",\\\"281\\\",\\\"282\\\",\\\"283\\\",\\\"284\\\",\\\"285\\\",\\\"286\\\",\\\"287\\\",\\\"288\\\",\\\"289\\\",\\\"290\\\",\\\"291\\\",\\\"292\\\",\\\"293\\\",\\\"294\\\",\\\"295\\\",\\\"296\\\",\\\"297\\\",\\\"298\\\",\\\"299\\\",\\\"300\\\",\\\"301\\\",\\\"302\\\",\\\"303\\\",\\\"304\\\",\\\"305\\\",\\\"306\\\",\\\"307\\\",\\\"308\\\",\\\"309\\\",\\\"310\\\",\\\"311\\\",\\\"312\\\",\\\"313\\\",\\\"314\\\",\\\"315\\\",\\\"316\\\",\\\"317\\\",\\\"318\\\",\\\"319\\\",\\\"320\\\",\\\"321\\\",\\\"322\\\",\\\"323\\\",\\\"324\\\",\\\"325\\\",\\\"326\\\",\\\"327\\\",\\\"328\\\",\\\"329\\\",\\\"330\\\",\\\"331\\\",\\\"332\\\",\\\"333\\\",\\\"334\\\",\\\"335\\\",\\\"336\\\",\\\"337\\\",\\\"338\\\",\\\"339\\\",\\\"340\\\",\\\"341\\\",\\\"342\\\",\\\"343\\\",\\\"344\\\",\\\"345\\\",\\\"346\\\",\\\"347\\\",\\\"348\\\",\\\"349\\\",\\\"350\\\",\\\"351\\\",\\\"352\\\",\\\"353\\\",\\\"354\\\",\\\"355\\\",\\\"356\\\",\\\"357\\\",\\\"358\\\",\\\"359\\\",\\\"360\\\",\\\"361\\\",\\\"362\\\",\\\"363\\\",\\\"364\\\",\\\"365\\\",\\\"366\\\",\\\"367\\\",\\\"368\\\",\\\"369\\\",\\\"370\\\",\\\"371\\\",\\\"372\\\",\\\"373\\\",\\\"374\\\",\\\"375\\\",\\\"376\\\",\\\"377\\\",\\\"378\\\",\\\"379\\\",\\\"380\\\",\\\"381\\\",\\\"382\\\",\\\"383\\\",\\\"384\\\",\\\"385\\\",\\\"386\\\",\\\"387\\\",\\\"388\\\",\\\"389\\\",\\\"390\\\",\\\"391\\\",\\\"392\\\",\\\"393\\\",\\\"394\\\",\\\"395\\\",\\\"396\\\",\\\"397\\\",\\\"398\\\",\\\"399\\\",\\\"400\\\",\\\"401\\\"],\\\"changes\\\":WebIO.getval({\\\"name\\\":\\\"changes\\\",\\\"scope\\\":\\\"9921776781502583542\\\",\\\"id\\\":\\\"14188553866119204093\\\",\\\"type\\\":\\\"observable\\\"}),\\\"index\\\":WebIO.getval({\\\"name\\\":\\\"index\\\",\\\"scope\\\":\\\"9921776781502583542\\\",\\\"id\\\":\\\"1280384691156925769\\\",\\\"type\\\":\\\"observable\\\"})};\\n    var self = this;\\n    function AppViewModel() {\\n        for (var key in json_data) {\\n            var el = json_data[key];\\n            this[key] = Array.isArray(el) ? ko.observableArray(el) : ko.observable(el);\\n        }\\n        \\n        [this[\\\"formatted_val\\\"]=ko.computed(    function(){\\n        return this.formatted_vals()[parseInt(this.index())-(1)];\\n    }\\n,this)]\\n        [this[\\\"changes\\\"].subscribe((function (val){!(this.valueFromJulia[\\\"changes\\\"]) ? (WebIO.setval({\\\"name\\\":\\\"changes\\\",\\\"scope\\\":\\\"9921776781502583542\\\",\\\"id\\\":\\\"14188553866119204093\\\",\\\"type\\\":\\\"observable\\\"},val)) : undefined; return this.valueFromJulia[\\\"changes\\\"]=false}),self),this[\\\"index\\\"].subscribe((function (val){!(this.valueFromJulia[\\\"index\\\"]) ? (WebIO.setval({\\\"name\\\":\\\"index\\\",\\\"scope\\\":\\\"9921776781502583542\\\",\\\"id\\\":\\\"1280384691156925769\\\",\\\"type\\\":\\\"observable\\\"},val)) : undefined; return this.valueFromJulia[\\\"index\\\"]=false}),self)]\\n        \\n    }\\n    self.model = new AppViewModel();\\n    self.valueFromJulia = {};\\n    for (var key in json_data) {\\n        self.valueFromJulia[key] = false;\\n    }\\n    ko.applyBindings(self.model, self.dom);\\n}\\n);\\n    (WebIO.importBlock({\\\"data\\\":[{\\\"name\\\":\\\"knockout\\\",\\\"type\\\":\\\"js\\\",\\\"url\\\":\\\"\\/assetserver\\/c1499ba55a1bc421a61388a1d89a415fc6dcc13c-knockout.js\\\"},{\\\"name\\\":\\\"knockout_punches\\\",\\\"type\\\":\\\"js\\\",\\\"url\\\":\\\"\\/assetserver\\/f9c6b7aff92992a2d2baddb2c82a79fb8b3956c2-knockout_punches.js\\\"}],\\\"type\\\":\\\"async_block\\\"})).then((imports) => handler.apply(this, imports));\\n}\\n\"],\"observables\":{\"changes\":{\"sync\":false,\"id\":\"14188553866119204093\",\"value\":0},\"index\":{\"sync\":true,\"id\":\"1280384691156925769\",\"value\":201}}},\"children\":[{\"props\":{\"className\":\"interact-flex-row interact-widget\"},\"nodeType\":\"DOM\",\"type\":\"node\",\"instanceArgs\":{\"namespace\":\"html\",\"tag\":\"div\"},\"children\":[{\"props\":{\"className\":\"interact-flex-row-left\"},\"nodeType\":\"DOM\",\"type\":\"node\",\"instanceArgs\":{\"namespace\":\"html\",\"tag\":\"div\"},\"children\":[{\"props\":{\"className\":\"interact \",\"style\":{\"padding\":\"5px 10px 0px 10px\"}},\"nodeType\":\"DOM\",\"type\":\"node\",\"instanceArgs\":{\"namespace\":\"html\",\"tag\":\"label\"},\"children\":[\"time\"]}]},{\"props\":{\"className\":\"interact-flex-row-center\"},\"nodeType\":\"DOM\",\"type\":\"node\",\"instanceArgs\":{\"namespace\":\"html\",\"tag\":\"div\"},\"children\":[{\"props\":{\"max\":401,\"min\":1,\"attributes\":{\"type\":\"range\",\"data-bind\":\"numericValue: index, valueUpdate: 'input', event: {change: function (){this.changes(this.changes()+1)}}\",\"orient\":\"horizontal\"},\"step\":1,\"className\":\"slider slider is-fullwidth\",\"style\":{}},\"nodeType\":\"DOM\",\"type\":\"node\",\"instanceArgs\":{\"namespace\":\"html\",\"tag\":\"input\"},\"children\":[]}]},{\"props\":{\"className\":\"interact-flex-row-right\"},\"nodeType\":\"DOM\",\"type\":\"node\",\"instanceArgs\":{\"namespace\":\"html\",\"tag\":\"div\"},\"children\":[{\"props\":{\"attributes\":{\"data-bind\":\"text: formatted_val\"}},\"nodeType\":\"DOM\",\"type\":\"node\",\"instanceArgs\":{\"namespace\":\"html\",\"tag\":\"p\"},\"children\":[]}]}]}]}]},{\"props\":{\"className\":\"field interact-widget\"},\"nodeType\":\"DOM\",\"type\":\"node\",\"instanceArgs\":{\"namespace\":\"html\",\"tag\":\"div\"},\"children\":[{\"props\":{},\"nodeType\":\"Scope\",\"type\":\"node\",\"instanceArgs\":{\"imports\":{\"data\":[{\"name\":\"knockout\",\"type\":\"js\",\"url\":\"\\/assetserver\\/c1499ba55a1bc421a61388a1d89a415fc6dcc13c-knockout.js\"},{\"name\":\"knockout_punches\",\"type\":\"js\",\"url\":\"\\/assetserver\\/f9c6b7aff92992a2d2baddb2c82a79fb8b3956c2-knockout_punches.js\"},{\"name\":null,\"type\":\"js\",\"url\":\"\\/assetserver\\/d98610aa326aee8a709cc7d91aea3aadf7cb1517-all.js\"},{\"name\":null,\"type\":\"css\",\"url\":\"\\/assetserver\\/457be80a26ff437349c55b6aa8871c7065926fae-style.css\"},{\"name\":null,\"type\":\"css\",\"url\":\"\\/assetserver\\/3cd1ef316d208db1ffc36b6f265c6ac56f9847a0-bulma_confined.min.css\"}],\"type\":\"async_block\"},\"id\":\"5102104753318874578\",\"handlers\":{\"changes\":[\"(function (val){return (val!=this.model[\\\"changes\\\"]()) ? (this.valueFromJulia[\\\"changes\\\"]=true, this.model[\\\"changes\\\"](val)) : undefined})\"],\"index\":[\"(function (val){return (val!=this.model[\\\"index\\\"]()) ? (this.valueFromJulia[\\\"index\\\"]=true, this.model[\\\"index\\\"](val)) : undefined})\"]},\"systemjs_options\":null,\"mount_callbacks\":[\"function () {\\n    var handler = (function (ko, koPunches) {\\n    ko.punches.enableAll();\\n    ko.bindingHandlers.numericValue = {\\n        init: function(element, valueAccessor, allBindings, data, context) {\\n            var stringified = ko.observable(ko.unwrap(valueAccessor()));\\n            stringified.subscribe(function(value) {\\n                var val = parseFloat(value);\\n                if (!isNaN(val)) {\\n                    valueAccessor()(val);\\n                }\\n            });\\n            valueAccessor().subscribe(function(value) {\\n                var str = JSON.stringify(value);\\n                if ((str == \\\"0\\\") && ([\\\"-0\\\", \\\"-0.\\\"].indexOf(stringified()) >= 0))\\n                     return;\\n                 if ([\\\"null\\\", \\\"\\\"].indexOf(str) >= 0)\\n                     return;\\n                stringified(str);\\n            });\\n            ko.applyBindingsToNode(\\n                element,\\n                {\\n                    value: stringified,\\n                    valueUpdate: allBindings.get('valueUpdate'),\\n                },\\n                context,\\n            );\\n        }\\n    };\\n    var json_data = {\\\"formatted_vals\\\":[\\\"0.1\\\",\\\"0.2\\\",\\\"0.3\\\",\\\"0.4\\\",\\\"0.5\\\",\\\"0.6\\\",\\\"0.7\\\",\\\"0.8\\\",\\\"0.9\\\",\\\"1.0\\\",\\\"1.1\\\",\\\"1.2\\\",\\\"1.3\\\",\\\"1.4\\\",\\\"1.5\\\",\\\"1.6\\\",\\\"1.7\\\",\\\"1.8\\\",\\\"1.9\\\",\\\"2.0\\\"],\\\"changes\\\":WebIO.getval({\\\"name\\\":\\\"changes\\\",\\\"scope\\\":\\\"5102104753318874578\\\",\\\"id\\\":\\\"1967488895157235893\\\",\\\"type\\\":\\\"observable\\\"}),\\\"index\\\":WebIO.getval({\\\"name\\\":\\\"index\\\",\\\"scope\\\":\\\"5102104753318874578\\\",\\\"id\\\":\\\"17895971362182939400\\\",\\\"type\\\":\\\"observable\\\"})};\\n    var self = this;\\n    function AppViewModel() {\\n        for (var key in json_data) {\\n            var el = json_data[key];\\n            this[key] = Array.isArray(el) ? ko.observableArray(el) : ko.observable(el);\\n        }\\n        \\n        [this[\\\"formatted_val\\\"]=ko.computed(    function(){\\n        return this.formatted_vals()[parseInt(this.index())-(1)];\\n    }\\n,this)]\\n        [this[\\\"changes\\\"].subscribe((function (val){!(this.valueFromJulia[\\\"changes\\\"]) ? (WebIO.setval({\\\"name\\\":\\\"changes\\\",\\\"scope\\\":\\\"5102104753318874578\\\",\\\"id\\\":\\\"1967488895157235893\\\",\\\"type\\\":\\\"observable\\\"},val)) : undefined; return this.valueFromJulia[\\\"changes\\\"]=false}),self),this[\\\"index\\\"].subscribe((function (val){!(this.valueFromJulia[\\\"index\\\"]) ? (WebIO.setval({\\\"name\\\":\\\"index\\\",\\\"scope\\\":\\\"5102104753318874578\\\",\\\"id\\\":\\\"17895971362182939400\\\",\\\"type\\\":\\\"observable\\\"},val)) : undefined; return this.valueFromJulia[\\\"index\\\"]=false}),self)]\\n        \\n    }\\n    self.model = new AppViewModel();\\n    self.valueFromJulia = {};\\n    for (var key in json_data) {\\n        self.valueFromJulia[key] = false;\\n    }\\n    ko.applyBindings(self.model, self.dom);\\n}\\n);\\n    (WebIO.importBlock({\\\"data\\\":[{\\\"name\\\":\\\"knockout\\\",\\\"type\\\":\\\"js\\\",\\\"url\\\":\\\"\\/assetserver\\/c1499ba55a1bc421a61388a1d89a415fc6dcc13c-knockout.js\\\"},{\\\"name\\\":\\\"knockout_punches\\\",\\\"type\\\":\\\"js\\\",\\\"url\\\":\\\"\\/assetserver\\/f9c6b7aff92992a2d2baddb2c82a79fb8b3956c2-knockout_punches.js\\\"}],\\\"type\\\":\\\"async_block\\\"})).then((imports) => handler.apply(this, imports));\\n}\\n\"],\"observables\":{\"changes\":{\"sync\":false,\"id\":\"1967488895157235893\",\"value\":0},\"index\":{\"sync\":true,\"id\":\"17895971362182939400\",\"value\":10}}},\"children\":[{\"props\":{\"className\":\"interact-flex-row interact-widget\"},\"nodeType\":\"DOM\",\"type\":\"node\",\"instanceArgs\":{\"namespace\":\"html\",\"tag\":\"div\"},\"children\":[{\"props\":{\"className\":\"interact-flex-row-left\"},\"nodeType\":\"DOM\",\"type\":\"node\",\"instanceArgs\":{\"namespace\":\"html\",\"tag\":\"div\"},\"children\":[{\"props\":{\"className\":\"interact \",\"style\":{\"padding\":\"5px 10px 0px 10px\"}},\"nodeType\":\"DOM\",\"type\":\"node\",\"instanceArgs\":{\"namespace\":\"html\",\"tag\":\"label\"},\"children\":[\"scale\"]}]},{\"props\":{\"className\":\"interact-flex-row-center\"},\"nodeType\":\"DOM\",\"type\":\"node\",\"instanceArgs\":{\"namespace\":\"html\",\"tag\":\"div\"},\"children\":[{\"props\":{\"max\":20,\"min\":1,\"attributes\":{\"type\":\"range\",\"data-bind\":\"numericValue: index, valueUpdate: 'input', event: {change: function (){this.changes(this.changes()+1)}}\",\"orient\":\"horizontal\"},\"step\":1,\"className\":\"slider slider is-fullwidth\",\"style\":{}},\"nodeType\":\"DOM\",\"type\":\"node\",\"instanceArgs\":{\"namespace\":\"html\",\"tag\":\"input\"},\"children\":[]}]},{\"props\":{\"className\":\"interact-flex-row-right\"},\"nodeType\":\"DOM\",\"type\":\"node\",\"instanceArgs\":{\"namespace\":\"html\",\"tag\":\"div\"},\"children\":[{\"props\":{\"attributes\":{\"data-bind\":\"text: formatted_val\"}},\"nodeType\":\"DOM\",\"type\":\"node\",\"instanceArgs\":{\"namespace\":\"html\",\"tag\":\"p\"},\"children\":[]}]}]}]}]},{\"props\":{\"style\":{\"display\":\"flex\",\"flex-direction\":\"row\"}},\"nodeType\":\"DOM\",\"type\":\"node\",\"instanceArgs\":{\"namespace\":\"html\",\"tag\":\"div\"},\"children\":[{\"props\":{\"className\":\"interact-widget\"},\"nodeType\":\"DOM\",\"type\":\"node\",\"instanceArgs\":{\"namespace\":\"html\",\"tag\":\"div\"},\"children\":[{\"props\":{},\"nodeType\":\"Scope\",\"type\":\"node\",\"instanceArgs\":{\"imports\":{\"data\":[{\"name\":null,\"type\":\"js\",\"url\":\"\\/assetserver\\/19a5359bdf5fe26635c6a9c98bbe8dc477c9d18e-katex.min.js\"},{\"name\":null,\"type\":\"css\",\"url\":\"\\/assetserver\\/510a04dfddb84bc394dc07fffef4a63cac393c2d-katex.min.css\"}],\"type\":\"async_block\"},\"id\":\"14761318876729057191\",\"handlers\":{\"value\":[\"(function (txt){return this.k.render(txt,this.container)})\"]},\"systemjs_options\":null,\"mount_callbacks\":[\"function () {\\n    var handler = ((function (k){this.k=k; this.container=this.dom.querySelector(\\\"#container\\\"); return k.render(\\\"\\\\\\\\;\\\\\\\\;\\\",this.container)}));\\n    (WebIO.importBlock({\\\"data\\\":[{\\\"name\\\":null,\\\"type\\\":\\\"js\\\",\\\"url\\\":\\\"\\/assetserver\\/19a5359bdf5fe26635c6a9c98bbe8dc477c9d18e-katex.min.js\\\"},{\\\"name\\\":null,\\\"type\\\":\\\"css\\\",\\\"url\\\":\\\"\\/assetserver\\/510a04dfddb84bc394dc07fffef4a63cac393c2d-katex.min.css\\\"}],\\\"type\\\":\\\"async_block\\\"})).then((imports) => handler.apply(this, imports));\\n}\\n\"],\"observables\":{\"value\":{\"sync\":false,\"id\":\"14746278747264876987\",\"value\":\"\\\\;\\\\;\"}}},\"children\":[{\"props\":{\"id\":\"container\"},\"nodeType\":\"DOM\",\"type\":\"node\",\"instanceArgs\":{\"namespace\":\"html\",\"tag\":\"div\"},\"children\":[]}]}]},{\"props\":{\"className\":\"field interact-widget\"},\"nodeType\":\"DOM\",\"type\":\"node\",\"instanceArgs\":{\"namespace\":\"html\",\"tag\":\"div\"},\"children\":[{\"props\":{},\"nodeType\":\"Scope\",\"type\":\"node\",\"instanceArgs\":{\"imports\":{\"data\":[{\"name\":\"knockout\",\"type\":\"js\",\"url\":\"\\/assetserver\\/c1499ba55a1bc421a61388a1d89a415fc6dcc13c-knockout.js\"},{\"name\":\"knockout_punches\",\"type\":\"js\",\"url\":\"\\/assetserver\\/f9c6b7aff92992a2d2baddb2c82a79fb8b3956c2-knockout_punches.js\"},{\"name\":null,\"type\":\"js\",\"url\":\"\\/assetserver\\/d98610aa326aee8a709cc7d91aea3aadf7cb1517-all.js\"},{\"name\":null,\"type\":\"css\",\"url\":\"\\/assetserver\\/457be80a26ff437349c55b6aa8871c7065926fae-style.css\"},{\"name\":null,\"type\":\"css\",\"url\":\"\\/assetserver\\/3cd1ef316d208db1ffc36b6f265c6ac56f9847a0-bulma_confined.min.css\"}],\"type\":\"async_block\"},\"id\":\"2055337222202791500\",\"handlers\":{\"loading\":[\"(function (val){return (val!=this.model[\\\"loading\\\"]()) ? (this.valueFromJulia[\\\"loading\\\"]=true, this.model[\\\"loading\\\"](val)) : undefined})\"],\"clicks\":[\"(function (val){return (val!=this.model[\\\"clicks\\\"]()) ? (this.valueFromJulia[\\\"clicks\\\"]=true, this.model[\\\"clicks\\\"](val)) : undefined})\"]},\"systemjs_options\":null,\"mount_callbacks\":[\"function () {\\n    var handler = (function (ko, koPunches) {\\n    ko.punches.enableAll();\\n    ko.bindingHandlers.numericValue = {\\n        init: function(element, valueAccessor, allBindings, data, context) {\\n            var stringified = ko.observable(ko.unwrap(valueAccessor()));\\n            stringified.subscribe(function(value) {\\n                var val = parseFloat(value);\\n                if (!isNaN(val)) {\\n                    valueAccessor()(val);\\n                }\\n            });\\n            valueAccessor().subscribe(function(value) {\\n                var str = JSON.stringify(value);\\n                if ((str == \\\"0\\\") && ([\\\"-0\\\", \\\"-0.\\\"].indexOf(stringified()) >= 0))\\n                     return;\\n                 if ([\\\"null\\\", \\\"\\\"].indexOf(str) >= 0)\\n                     return;\\n                stringified(str);\\n            });\\n            ko.applyBindingsToNode(\\n                element,\\n                {\\n                    value: stringified,\\n                    valueUpdate: allBindings.get('valueUpdate'),\\n                },\\n                context,\\n            );\\n        }\\n    };\\n    var json_data = {\\\"loading\\\":WebIO.getval({\\\"name\\\":\\\"loading\\\",\\\"scope\\\":\\\"2055337222202791500\\\",\\\"id\\\":\\\"5189185786411892866\\\",\\\"type\\\":\\\"observable\\\"}),\\\"clicks\\\":WebIO.getval({\\\"name\\\":\\\"clicks\\\",\\\"scope\\\":\\\"2055337222202791500\\\",\\\"id\\\":\\\"14124968144432450532\\\",\\\"type\\\":\\\"observable\\\"})};\\n    var self = this;\\n    function AppViewModel() {\\n        for (var key in json_data) {\\n            var el = json_data[key];\\n            this[key] = Array.isArray(el) ? ko.observableArray(el) : ko.observable(el);\\n        }\\n        \\n        \\n        [this[\\\"loading\\\"].subscribe((function (val){!(this.valueFromJulia[\\\"loading\\\"]) ? (WebIO.setval({\\\"name\\\":\\\"loading\\\",\\\"scope\\\":\\\"2055337222202791500\\\",\\\"id\\\":\\\"5189185786411892866\\\",\\\"type\\\":\\\"observable\\\"},val)) : undefined; return this.valueFromJulia[\\\"loading\\\"]=false}),self),this[\\\"clicks\\\"].subscribe((function (val){!(this.valueFromJulia[\\\"clicks\\\"]) ? (WebIO.setval({\\\"name\\\":\\\"clicks\\\",\\\"scope\\\":\\\"2055337222202791500\\\",\\\"id\\\":\\\"14124968144432450532\\\",\\\"type\\\":\\\"observable\\\"},val)) : undefined; return this.valueFromJulia[\\\"clicks\\\"]=false}),self)]\\n        \\n    }\\n    self.model = new AppViewModel();\\n    self.valueFromJulia = {};\\n    for (var key in json_data) {\\n        self.valueFromJulia[key] = false;\\n    }\\n    ko.applyBindings(self.model, self.dom);\\n}\\n);\\n    (WebIO.importBlock({\\\"data\\\":[{\\\"name\\\":\\\"knockout\\\",\\\"type\\\":\\\"js\\\",\\\"url\\\":\\\"\\/assetserver\\/c1499ba55a1bc421a61388a1d89a415fc6dcc13c-knockout.js\\\"},{\\\"name\\\":\\\"knockout_punches\\\",\\\"type\\\":\\\"js\\\",\\\"url\\\":\\\"\\/assetserver\\/f9c6b7aff92992a2d2baddb2c82a79fb8b3956c2-knockout_punches.js\\\"}],\\\"type\\\":\\\"async_block\\\"})).then((imports) => handler.apply(this, imports));\\n}\\n\"],\"observables\":{\"loading\":{\"sync\":false,\"id\":\"5189185786411892866\",\"value\":false},\"clicks\":{\"sync\":true,\"id\":\"14124968144432450532\",\"value\":0}}},\"children\":[{\"props\":{\"attributes\":{\"data-bind\":\"click: function (){this.clicks(this.clicks()+1)}, css: {'is-loading' : loading}\"},\"className\":\"is-medium button is-primary\",\"style\":{}},\"nodeType\":\"DOM\",\"type\":\"node\",\"instanceArgs\":{\"namespace\":\"html\",\"tag\":\"button\"},\"children\":[\"run\"]}]}]},{\"props\":{\"className\":\"interact-widget\"},\"nodeType\":\"DOM\",\"type\":\"node\",\"instanceArgs\":{\"namespace\":\"html\",\"tag\":\"div\"},\"children\":[{\"props\":{},\"nodeType\":\"Scope\",\"type\":\"node\",\"instanceArgs\":{\"imports\":{\"data\":[{\"name\":null,\"type\":\"js\",\"url\":\"\\/assetserver\\/19a5359bdf5fe26635c6a9c98bbe8dc477c9d18e-katex.min.js\"},{\"name\":null,\"type\":\"css\",\"url\":\"\\/assetserver\\/510a04dfddb84bc394dc07fffef4a63cac393c2d-katex.min.css\"}],\"type\":\"async_block\"},\"id\":\"14761318876729057191\",\"handlers\":{\"value\":[\"(function (txt){return this.k.render(txt,this.container)})\"]},\"systemjs_options\":null,\"mount_callbacks\":[\"function () {\\n    var handler = ((function (k){this.k=k; this.container=this.dom.querySelector(\\\"#container\\\"); return k.render(\\\"\\\\\\\\;\\\\\\\\;\\\",this.container)}));\\n    (WebIO.importBlock({\\\"data\\\":[{\\\"name\\\":null,\\\"type\\\":\\\"js\\\",\\\"url\\\":\\\"\\/assetserver\\/19a5359bdf5fe26635c6a9c98bbe8dc477c9d18e-katex.min.js\\\"},{\\\"name\\\":null,\\\"type\\\":\\\"css\\\",\\\"url\\\":\\\"\\/assetserver\\/510a04dfddb84bc394dc07fffef4a63cac393c2d-katex.min.css\\\"}],\\\"type\\\":\\\"async_block\\\"})).then((imports) => handler.apply(this, imports));\\n}\\n\"],\"observables\":{\"value\":{\"sync\":false,\"id\":\"14746278747264876987\",\"value\":\"\\\\;\\\\;\"}}},\"children\":[{\"props\":{\"id\":\"container\"},\"nodeType\":\"DOM\",\"type\":\"node\",\"instanceArgs\":{\"namespace\":\"html\",\"tag\":\"div\"},\"children\":[]}]}]},{\"props\":{\"className\":\"field interact-widget\"},\"nodeType\":\"DOM\",\"type\":\"node\",\"instanceArgs\":{\"namespace\":\"html\",\"tag\":\"div\"},\"children\":[{\"props\":{},\"nodeType\":\"Scope\",\"type\":\"node\",\"instanceArgs\":{\"imports\":{\"data\":[{\"name\":\"knockout\",\"type\":\"js\",\"url\":\"\\/assetserver\\/c1499ba55a1bc421a61388a1d89a415fc6dcc13c-knockout.js\"},{\"name\":\"knockout_punches\",\"type\":\"js\",\"url\":\"\\/assetserver\\/f9c6b7aff92992a2d2baddb2c82a79fb8b3956c2-knockout_punches.js\"},{\"name\":null,\"type\":\"js\",\"url\":\"\\/assetserver\\/d98610aa326aee8a709cc7d91aea3aadf7cb1517-all.js\"},{\"name\":null,\"type\":\"css\",\"url\":\"\\/assetserver\\/457be80a26ff437349c55b6aa8871c7065926fae-style.css\"},{\"name\":null,\"type\":\"css\",\"url\":\"\\/assetserver\\/3cd1ef316d208db1ffc36b6f265c6ac56f9847a0-bulma_confined.min.css\"}],\"type\":\"async_block\"},\"id\":\"9498922321694591842\",\"handlers\":{\"loading\":[\"(function (val){return (val!=this.model[\\\"loading\\\"]()) ? (this.valueFromJulia[\\\"loading\\\"]=true, this.model[\\\"loading\\\"](val)) : undefined})\"],\"clicks\":[\"(function (val){return (val!=this.model[\\\"clicks\\\"]()) ? (this.valueFromJulia[\\\"clicks\\\"]=true, this.model[\\\"clicks\\\"](val)) : undefined})\"]},\"systemjs_options\":null,\"mount_callbacks\":[\"function () {\\n    var handler = (function (ko, koPunches) {\\n    ko.punches.enableAll();\\n    ko.bindingHandlers.numericValue = {\\n        init: function(element, valueAccessor, allBindings, data, context) {\\n            var stringified = ko.observable(ko.unwrap(valueAccessor()));\\n            stringified.subscribe(function(value) {\\n                var val = parseFloat(value);\\n                if (!isNaN(val)) {\\n                    valueAccessor()(val);\\n                }\\n            });\\n            valueAccessor().subscribe(function(value) {\\n                var str = JSON.stringify(value);\\n                if ((str == \\\"0\\\") && ([\\\"-0\\\", \\\"-0.\\\"].indexOf(stringified()) >= 0))\\n                     return;\\n                 if ([\\\"null\\\", \\\"\\\"].indexOf(str) >= 0)\\n                     return;\\n                stringified(str);\\n            });\\n            ko.applyBindingsToNode(\\n                element,\\n                {\\n                    value: stringified,\\n                    valueUpdate: allBindings.get('valueUpdate'),\\n                },\\n                context,\\n            );\\n        }\\n    };\\n    var json_data = {\\\"loading\\\":WebIO.getval({\\\"name\\\":\\\"loading\\\",\\\"scope\\\":\\\"9498922321694591842\\\",\\\"id\\\":\\\"13831241691768943334\\\",\\\"type\\\":\\\"observable\\\"}),\\\"clicks\\\":WebIO.getval({\\\"name\\\":\\\"clicks\\\",\\\"scope\\\":\\\"9498922321694591842\\\",\\\"id\\\":\\\"14819567203806148380\\\",\\\"type\\\":\\\"observable\\\"})};\\n    var self = this;\\n    function AppViewModel() {\\n        for (var key in json_data) {\\n            var el = json_data[key];\\n            this[key] = Array.isArray(el) ? ko.observableArray(el) : ko.observable(el);\\n        }\\n        \\n        \\n        [this[\\\"loading\\\"].subscribe((function (val){!(this.valueFromJulia[\\\"loading\\\"]) ? (WebIO.setval({\\\"name\\\":\\\"loading\\\",\\\"scope\\\":\\\"9498922321694591842\\\",\\\"id\\\":\\\"13831241691768943334\\\",\\\"type\\\":\\\"observable\\\"},val)) : undefined; return this.valueFromJulia[\\\"loading\\\"]=false}),self),this[\\\"clicks\\\"].subscribe((function (val){!(this.valueFromJulia[\\\"clicks\\\"]) ? (WebIO.setval({\\\"name\\\":\\\"clicks\\\",\\\"scope\\\":\\\"9498922321694591842\\\",\\\"id\\\":\\\"14819567203806148380\\\",\\\"type\\\":\\\"observable\\\"},val)) : undefined; return this.valueFromJulia[\\\"clicks\\\"]=false}),self)]\\n        \\n    }\\n    self.model = new AppViewModel();\\n    self.valueFromJulia = {};\\n    for (var key in json_data) {\\n        self.valueFromJulia[key] = false;\\n    }\\n    ko.applyBindings(self.model, self.dom);\\n}\\n);\\n    (WebIO.importBlock({\\\"data\\\":[{\\\"name\\\":\\\"knockout\\\",\\\"type\\\":\\\"js\\\",\\\"url\\\":\\\"\\/assetserver\\/c1499ba55a1bc421a61388a1d89a415fc6dcc13c-knockout.js\\\"},{\\\"name\\\":\\\"knockout_punches\\\",\\\"type\\\":\\\"js\\\",\\\"url\\\":\\\"\\/assetserver\\/f9c6b7aff92992a2d2baddb2c82a79fb8b3956c2-knockout_punches.js\\\"}],\\\"type\\\":\\\"async_block\\\"})).then((imports) => handler.apply(this, imports));\\n}\\n\"],\"observables\":{\"loading\":{\"sync\":false,\"id\":\"13831241691768943334\",\"value\":false},\"clicks\":{\"sync\":true,\"id\":\"14819567203806148380\",\"value\":0}}},\"children\":[{\"props\":{\"attributes\":{\"data-bind\":\"click: function (){this.clicks(this.clicks()+1)}, css: {'is-loading' : loading}\"},\"className\":\"is-medium button is-primary\",\"style\":{}},\"nodeType\":\"DOM\",\"type\":\"node\",\"instanceArgs\":{\"namespace\":\"html\",\"tag\":\"button\"},\"children\":[\"stop\"]}]}]},{\"props\":{\"className\":\"interact-widget\"},\"nodeType\":\"DOM\",\"type\":\"node\",\"instanceArgs\":{\"namespace\":\"html\",\"tag\":\"div\"},\"children\":[{\"props\":{},\"nodeType\":\"Scope\",\"type\":\"node\",\"instanceArgs\":{\"imports\":{\"data\":[{\"name\":null,\"type\":\"js\",\"url\":\"\\/assetserver\\/19a5359bdf5fe26635c6a9c98bbe8dc477c9d18e-katex.min.js\"},{\"name\":null,\"type\":\"css\",\"url\":\"\\/assetserver\\/510a04dfddb84bc394dc07fffef4a63cac393c2d-katex.min.css\"}],\"type\":\"async_block\"},\"id\":\"14761318876729057191\",\"handlers\":{\"value\":[\"(function (txt){return this.k.render(txt,this.container)})\"]},\"systemjs_options\":null,\"mount_callbacks\":[\"function () {\\n    var handler = ((function (k){this.k=k; this.container=this.dom.querySelector(\\\"#container\\\"); return k.render(\\\"\\\\\\\\;\\\\\\\\;\\\",this.container)}));\\n    (WebIO.importBlock({\\\"data\\\":[{\\\"name\\\":null,\\\"type\\\":\\\"js\\\",\\\"url\\\":\\\"\\/assetserver\\/19a5359bdf5fe26635c6a9c98bbe8dc477c9d18e-katex.min.js\\\"},{\\\"name\\\":null,\\\"type\\\":\\\"css\\\",\\\"url\\\":\\\"\\/assetserver\\/510a04dfddb84bc394dc07fffef4a63cac393c2d-katex.min.css\\\"}],\\\"type\\\":\\\"async_block\\\"})).then((imports) => handler.apply(this, imports));\\n}\\n\"],\"observables\":{\"value\":{\"sync\":false,\"id\":\"14746278747264876987\",\"value\":\"\\\\;\\\\;\"}}},\"children\":[{\"props\":{\"id\":\"container\"},\"nodeType\":\"DOM\",\"type\":\"node\",\"instanceArgs\":{\"namespace\":\"html\",\"tag\":\"div\"},\"children\":[]}]}]},{\"props\":{\"className\":\"field interact-widget\"},\"nodeType\":\"DOM\",\"type\":\"node\",\"instanceArgs\":{\"namespace\":\"html\",\"tag\":\"div\"},\"children\":[{\"props\":{},\"nodeType\":\"Scope\",\"type\":\"node\",\"instanceArgs\":{\"imports\":{\"data\":[{\"name\":\"knockout\",\"type\":\"js\",\"url\":\"\\/assetserver\\/c1499ba55a1bc421a61388a1d89a415fc6dcc13c-knockout.js\"},{\"name\":\"knockout_punches\",\"type\":\"js\",\"url\":\"\\/assetserver\\/f9c6b7aff92992a2d2baddb2c82a79fb8b3956c2-knockout_punches.js\"},{\"name\":null,\"type\":\"js\",\"url\":\"\\/assetserver\\/d98610aa326aee8a709cc7d91aea3aadf7cb1517-all.js\"},{\"name\":null,\"type\":\"css\",\"url\":\"\\/assetserver\\/457be80a26ff437349c55b6aa8871c7065926fae-style.css\"},{\"name\":null,\"type\":\"css\",\"url\":\"\\/assetserver\\/3cd1ef316d208db1ffc36b6f265c6ac56f9847a0-bulma_confined.min.css\"}],\"type\":\"async_block\"},\"id\":\"5003532142112440537\",\"handlers\":{\"loading\":[\"(function (val){return (val!=this.model[\\\"loading\\\"]()) ? (this.valueFromJulia[\\\"loading\\\"]=true, this.model[\\\"loading\\\"](val)) : undefined})\"],\"clicks\":[\"(function (val){return (val!=this.model[\\\"clicks\\\"]()) ? (this.valueFromJulia[\\\"clicks\\\"]=true, this.model[\\\"clicks\\\"](val)) : undefined})\"]},\"systemjs_options\":null,\"mount_callbacks\":[\"function () {\\n    var handler = (function (ko, koPunches) {\\n    ko.punches.enableAll();\\n    ko.bindingHandlers.numericValue = {\\n        init: function(element, valueAccessor, allBindings, data, context) {\\n            var stringified = ko.observable(ko.unwrap(valueAccessor()));\\n            stringified.subscribe(function(value) {\\n                var val = parseFloat(value);\\n                if (!isNaN(val)) {\\n                    valueAccessor()(val);\\n                }\\n            });\\n            valueAccessor().subscribe(function(value) {\\n                var str = JSON.stringify(value);\\n                if ((str == \\\"0\\\") && ([\\\"-0\\\", \\\"-0.\\\"].indexOf(stringified()) >= 0))\\n                     return;\\n                 if ([\\\"null\\\", \\\"\\\"].indexOf(str) >= 0)\\n                     return;\\n                stringified(str);\\n            });\\n            ko.applyBindingsToNode(\\n                element,\\n                {\\n                    value: stringified,\\n                    valueUpdate: allBindings.get('valueUpdate'),\\n                },\\n                context,\\n            );\\n        }\\n    };\\n    var json_data = {\\\"loading\\\":WebIO.getval({\\\"name\\\":\\\"loading\\\",\\\"scope\\\":\\\"5003532142112440537\\\",\\\"id\\\":\\\"8218770428970883678\\\",\\\"type\\\":\\\"observable\\\"}),\\\"clicks\\\":WebIO.getval({\\\"name\\\":\\\"clicks\\\",\\\"scope\\\":\\\"5003532142112440537\\\",\\\"id\\\":\\\"9378668951723895161\\\",\\\"type\\\":\\\"observable\\\"})};\\n    var self = this;\\n    function AppViewModel() {\\n        for (var key in json_data) {\\n            var el = json_data[key];\\n            this[key] = Array.isArray(el) ? ko.observableArray(el) : ko.observable(el);\\n        }\\n        \\n        \\n        [this[\\\"loading\\\"].subscribe((function (val){!(this.valueFromJulia[\\\"loading\\\"]) ? (WebIO.setval({\\\"name\\\":\\\"loading\\\",\\\"scope\\\":\\\"5003532142112440537\\\",\\\"id\\\":\\\"8218770428970883678\\\",\\\"type\\\":\\\"observable\\\"},val)) : undefined; return this.valueFromJulia[\\\"loading\\\"]=false}),self),this[\\\"clicks\\\"].subscribe((function (val){!(this.valueFromJulia[\\\"clicks\\\"]) ? (WebIO.setval({\\\"name\\\":\\\"clicks\\\",\\\"scope\\\":\\\"5003532142112440537\\\",\\\"id\\\":\\\"9378668951723895161\\\",\\\"type\\\":\\\"observable\\\"},val)) : undefined; return this.valueFromJulia[\\\"clicks\\\"]=false}),self)]\\n        \\n    }\\n    self.model = new AppViewModel();\\n    self.valueFromJulia = {};\\n    for (var key in json_data) {\\n        self.valueFromJulia[key] = false;\\n    }\\n    ko.applyBindings(self.model, self.dom);\\n}\\n);\\n    (WebIO.importBlock({\\\"data\\\":[{\\\"name\\\":\\\"knockout\\\",\\\"type\\\":\\\"js\\\",\\\"url\\\":\\\"\\/assetserver\\/c1499ba55a1bc421a61388a1d89a415fc6dcc13c-knockout.js\\\"},{\\\"name\\\":\\\"knockout_punches\\\",\\\"type\\\":\\\"js\\\",\\\"url\\\":\\\"\\/assetserver\\/f9c6b7aff92992a2d2baddb2c82a79fb8b3956c2-knockout_punches.js\\\"}],\\\"type\\\":\\\"async_block\\\"})).then((imports) => handler.apply(this, imports));\\n}\\n\"],\"observables\":{\"loading\":{\"sync\":false,\"id\":\"8218770428970883678\",\"value\":false},\"clicks\":{\"sync\":true,\"id\":\"9378668951723895161\",\"value\":0}}},\"children\":[{\"props\":{\"attributes\":{\"data-bind\":\"click: function (){this.clicks(this.clicks()+1)}, css: {'is-loading' : loading}\"},\"className\":\"is-medium button is-primary\",\"style\":{}},\"nodeType\":\"DOM\",\"type\":\"node\",\"instanceArgs\":{\"namespace\":\"html\",\"tag\":\"button\"},\"children\":[\"save\"]}]}]}]}]},{\"props\":{\"className\":\"interact-widget\"},\"nodeType\":\"DOM\",\"type\":\"node\",\"instanceArgs\":{\"namespace\":\"html\",\"tag\":\"div\"},\"children\":[{\"props\":{},\"nodeType\":\"Scope\",\"type\":\"node\",\"instanceArgs\":{\"imports\":{\"data\":[{\"name\":null,\"type\":\"js\",\"url\":\"\\/assetserver\\/19a5359bdf5fe26635c6a9c98bbe8dc477c9d18e-katex.min.js\"},{\"name\":null,\"type\":\"css\",\"url\":\"\\/assetserver\\/510a04dfddb84bc394dc07fffef4a63cac393c2d-katex.min.css\"}],\"type\":\"async_block\"},\"id\":\"14761318876729057191\",\"handlers\":{\"value\":[\"(function (txt){return this.k.render(txt,this.container)})\"]},\"systemjs_options\":null,\"mount_callbacks\":[\"function () {\\n    var handler = ((function (k){this.k=k; this.container=this.dom.querySelector(\\\"#container\\\"); return k.render(\\\"\\\\\\\\;\\\\\\\\;\\\",this.container)}));\\n    (WebIO.importBlock({\\\"data\\\":[{\\\"name\\\":null,\\\"type\\\":\\\"js\\\",\\\"url\\\":\\\"\\/assetserver\\/19a5359bdf5fe26635c6a9c98bbe8dc477c9d18e-katex.min.js\\\"},{\\\"name\\\":null,\\\"type\\\":\\\"css\\\",\\\"url\\\":\\\"\\/assetserver\\/510a04dfddb84bc394dc07fffef4a63cac393c2d-katex.min.css\\\"}],\\\"type\\\":\\\"async_block\\\"})).then((imports) => handler.apply(this, imports));\\n}\\n\"],\"observables\":{\"value\":{\"sync\":false,\"id\":\"14746278747264876987\",\"value\":\"\\\\;\\\\;\"}}},\"children\":[{\"props\":{\"id\":\"container\"},\"nodeType\":\"DOM\",\"type\":\"node\",\"instanceArgs\":{\"namespace\":\"html\",\"tag\":\"div\"},\"children\":[]}]}]},{\"props\":{},\"nodeType\":\"Scope\",\"type\":\"node\",\"instanceArgs\":{\"imports\":{\"data\":[],\"type\":\"async_block\"},\"id\":\"13929458791434899281\",\"handlers\":{\"obs-output\":[\"function (value, scope) {\\n    scope.setInnerHTML(value);\\n}\\n\"]},\"systemjs_options\":null,\"mount_callbacks\":[],\"observables\":{\"obs-output\":{\"sync\":false,\"id\":\"18358561433440508804\",\"value\":\"<img src='data:image\\/png;base64,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'><\\/img>\"}}},\"children\":[{\"props\":{\"className\":\"webio-observable\",\"setInnerHtml\":\"<img src='data:image\\/png;base64,iVBORw0KGgoAAAANSUhEUgAAAZoAAAGaCAIAAAC5ZBI0AAAABmJLR0QA\\/wD\\/AP+gvaeTAAAgAElEQVR4nOydd1QUVxuHn116B1FBsaFYsPeuscZClFhjiRo1JtF8RhNT1MQWS5olGpMYNRqNvYu9xI4Fe8WCilgAC4JIh53vD+ruzu7OJmpgc5\\/DOe7ceefOXdn9ce+dt6gkSUIgEAgKPup\\/ewACgUDwYhByJhAILAQhZwKBwEIQciYQCCwEIWcCgcBCEHImEAgsBCFnAoHAQhByJhAILAQhZwKBwEIQciYQCCwEIWcCgcBCEHImEAgsBCFnAoHAQhByJhAILAQhZwKBwEIQciYQCCwEIWcCgcBCEHImEAgsBCFnAoHAQhByJhAILAQhZwKBwEIQciYQCCwEIWcCgcBCEHImEAgsBCFnAoHAQhByJhAILAQhZwKBwEIQciYQCCwEIWcCgcBCEHImEAgsBCFnAoHAQhByJhAILAQhZwKBwEIQciYQCCwEIWcCgcBCEHImEAgsBCFnAoHAQhByJhAILAQhZwKBwEIQciYQCCwEIWcCgcBCEHImEAgsBCFnAoHAQhByJhAILAQhZwKBwEIQciYQCCwEIWcCgcBCEHImEAgsBCFnAoHAQhByJhAILAQhZwKBwEIQciYQCCwEIWcCgcBCEHImEAgsBCFnAoHAQhByJhAILAQhZwKBwEIQciYQCCwEIWcCgcBCEHImEAgsBCFnAoHAQhByJhAILAQhZwKBwEIQciYQCCwEIWcCgcBCEHImEAgsBCFnAoHAQhByJhAILAQhZwKBwEIQciYQCCwEIWcCgcBCEHImEAgsBCFnAoHAQhByJhAILAQhZwKBwEIQciYQCCwEIWcCgcBCEHImEAgsBCFnAoHAQhByJhAILAQhZwKBwEIQciYQCCwEIWcCgcBCEHImEAgsBCFnAoHAQhByJhAILAQhZwKBwEIQciYQCCwEIWcCgcBCEHImEAgsBCFnAoHAQhByJhAILAQhZwKBwEIQciYQCCwEIWcCgcBCEHImEAgsBCFnAoHAQhByJhAILAQhZwKBwEIQciYQCCwEIWcCgcBCEHImEAgsBCFnAoHAQhByJhAILAQhZwKBwEIQciYQCCwEIWcCgcBCEHImEAgsBOt\\/ewACQR6eP+fsWaKjcXSkUiXKlv23ByQoSAg5E+QPQkOZMIEtW0hOzm2sXJnPPqN\\/f9RiGSEwjUqSpH97DIL\\/PL\\/\\/zrBhpKbKn23bltWr8fB4tWMSFDyEnAn+bZYuZcAAEzaNGrF\\/P3Z2r2RAgoKKkDPBi+fes3vbb2wPjw1PTEv0cfVpUaZF3WJ1VSqVjOnt2\\/j7k5JiutMxY5g27YUPVWBJCDkTvEhux97+fM\\/n66+sl9D6XFUuUvmHtj90LN9R94JBg1i8WFHXDg7cuUORIi9opAILRMiZ4IVxIPxAtzXdYpJiZM+qUH3Z\\/MvJLSfnNqWlUbQosbFKb7BwIYMH\\/+NhCiwW8cBI8GK4\\/Ohy4KpAQ1oGSEhTDk2ZdXxWbtO1a2ZoGRAS8g8GKLB8hJwJXgzvbXnvWcozk2aj944OiwnLOnj0yLx7REebPy7BfwghZ4IXwL7b+47eParEMjUjdfrR6VkHbm7m3Ub4agiMIuRM8ALYdHWTcuPN1zZn7dj6+WFjY8ZtKlUyc1yC\\/xZCzgQvgMuPLis3jnoe9STpCYCrKy1bKr1MpSIw0PyhCf5DCDkTvABik83Z0YenyU+zXn35pdJruncXszOBcYScCV4ARZ2KmmXv7eyd9ap5cz74QMEF3sycaf64BP8thJwJXgB1itVRbuxXyM\\/F1iX3eM4cevc2dkHx4mzdSokSf3d0gv8KQs4EL4AeVXqokIthkuOtKm9pHdvYsHw58+fj7a1rqlbTrx+nTlHHDLkU\\/GcRUQGCF0PPtT3XXllr0qyQQ6Gwj8I87OVcLlJSOLKZq\\/t5EEtqEcpXpWNHMSkTKEfImeDF8CTpSYMFDW4+vWnERq1Sb+61+Y0Kb+idSYA5sAyuZLc4QBv4BFq8hMEKLBMhZ4IXxu3Y24ErAy8+vCh71snG6Y83\\/+heubvemZPQFe4Z6HUAzAP7FzhOgaUi5EzwIklKT5p9fPbsE7OjnkflNNpb23fz7\\/Z1y6\\/Leugnyw6BlpBotNd2sA2sXvhoBRaGkDPBi0cjac5Gnb0ZczM5Pbm4S\\/FGJRs52TjJGT6HSnBfQZeTYPwLHuVLIRZ2wVWIh6LQAJoKIX5lCDkT\\/ItMha+UWTrBLTDPu+3VEgsTYR7opKIsAV\\/DwH9lTP81hJwJ\\/gGpqaxdy5YtXL9OQgJeXjRuTK9e1Kyp7PpKcE3xzX4FBQ63\\/w5hEADXDRv0hcVgToCqwHyEnAlySUxMDA8PT0hIKFasWAmTHhK7d\\/P++4SH67arVPTqxa+\\/mkqY8cjM2VYfWG6O\\/SvjCTSEMFNm78Fvr2I4\\/2GEG60AYN++fR06dPDw8KhSpUr9+vVLlixZunTp0aNHx8QYSMe4aBEdO8poGSBJrFxJw4am0pNFmjnGB2bavzLGKNAyYD7seelj+W8jZmf\\/dVJSUt57772lS5fKnvX09Fy1alWbNm20Wg8fpnVr0tJMdN2kCQcPYmVoI\\/wGVDBnpB1hmzn2r4YHUBrSlRk3h4Mvdzj\\/bcTs7D9NRkZGt27dDGkZ8OTJkw4dOuzZk2daodEwYoRpLQOCgzHcM5QAswrN+Zlj\\/MrYqljLgCNgZgJegTkIOftP8\\/3332\\/bZmLKk56e3qtXr8ePH2cdHz7M2bNKb\\/DTT4bPOUArpf0A6FWByhdcMsdYA6EvayACIWcFl4S0hD239iw5v2T5xeXH7h1L1yifI2Tx9OnTb7\\/9VollTExMruXOnbI2cSCzbXHuHFFReq3P4CgEQQfFg60ObRUbv0rMS\\/QGBkvDCP451v\\/2AARmEx4bPn7\\/+LVX1ianJ+c0FnIoNLTu0M+bfO5q56qwn6CgoGfPTBcryWTZsmUTJ36\\/d6\\/ab8vtqtmNSTAf1sAZSAYb8Ic3YTgUzrSQJMLD86TKOAWTYDekZreoZGVQG1v4Nb\\/+6TW37qfXSxmFABByVuAIuhbUd0Pf56nPddpjkmKmHp666tKqoN5BlYtUVtLV0aOKipVkEh0dXbz4rfh4v3WkZ8rZEeitHWmZBhfgAsyGX6BPZmtqpnJJ8D2MBY12x0q0bBE0zm0IDmb1ak6dIjoaV1cqVyYwkK5dsf5XPsxmZS6yg6qmrQR\\/FyFnBYlDdw71WNsjNSPVkMHNpzdbL20dMiSkpGtJk71FySwDjREfHwl+9\\/EBdkJgnimWDnHwNjyB4ZCd4Wc8TDHrdgBUg1+hSdZRZCSDBumuds+dY8UKKlbk999p0kS\\/i5dMR3CCBGXG7cHFtJXg75I\\/J\\/ACGeJT43uu7WlEyzKJeh41eLOiUuFOTrJxlEZwBvbT8i70MqxlmUjwMQR7e1O2LByAqcpu0QiaQHsYBtvhXK6WhYVRv76hnTuuXaNVK9avV\\/pWXhju8IkySyuY9HLH8p9HyFmB4eeQn6MTFNXN3XNrz6E7h0yalStXzpz7W4EvsIt2n+MYp+CCDBiVtQD8SsGiMpOHcBh2wM\\/QIffzmZhI587cM5RECIDUVPr358IFZTd6gYyD1xSYfQM1XvpY\\/tsIOSswrLm8RrmxksSwb7yhn0bRCE3BHUhCWqfY0+rEvXuXLu0B5Zt0NyFEpnnWLEIVuDgkJvLRRzptkZGREydOrFevXuHChR0dHcuVKzdo0KB9+\\/YpHpJJbGAjtDFsoIap8NmLu6NAHiFnBYN0TfqFaDPmHacfnE5O5soVDh\\/myhVSUmRsGjRo0FJ5mcvcb+PxdBMLTS327VupeGqWyQndBkli3jylVx88mFf4Zs2aVb58+UmTJp06derJkydJSUm3bt1avHhx69atAwICcp3p\\/ikesBPmg05CNzW0hqMw9gXdSGAM8SigYPA0+WmGlKHc\\/uKth0WK8Dz7+aeLC2+8wVdfUVn7meePP\\/7YuHHjhASTO9ndISD7tdEVnx63b4dv20ZYGPHxeHvTuLHuGPTQe0Bx8aKJZaYOO3bg7w+MGDFizpw5hqy2b9\\/esGHDI0eOeOuXXPk7WMEQGAIX4SrEgRfUF54ZrxIxOysYuNu7q1Vm\\/LKePyr0XMuXIz4oKKF6dX74QcusevXqq1evdnJ0NNpZS\\/gjz6F5fwJ\\/\\/vnQG28wciTjxjFkCFWqUKsWu3YZucJdt0E20N0I4eHA77\\/\\/bkTLMrl582b37t01Go1xMzOpBj3gXegktOwVI+SsYGCjtvErZE7Q4qMqQMeO29ev7xYX5\\/bsmevl+86fbHFcIBX2mFLYe7p3nfl1vtj7Rejj0ICAgOCxYxvL9WGHFYyDXZD3GWhps0aelqY7qTx3jvbtGTMGA9kPKuo2pJsZ8JCaGh8fP3asovVdcHDwqlWrzOtfkF8Ri80CQ5dKXb4L\\/k6hsfPdtmt3dGjffiegkZhwgO+OkJKRBEkACUQnRJ+JPDPj6IyhtYbMiEgLhiOwDa5CInhDE2hA0VpMknQLaDYAT3jyD9\\/Ot9\\/i5MRXusloHWX21H18zOu6ZMmNGzc+fPhQoflvv\\/3Wp08f824hyJeIBEEFhocJD\\/3m+MWnxpu0tHpU9fywjCqVQwGNRO\\/1rLlszL5FODuXYSc3B2pC8FH0p25jQFGwp3HUak6dolatvG1jZTzU0tLw8uLpU6X9HjvW\\/5df\\/vzzT4XmVlZWz549czSx4hYUAMRis8BQ1Kno7A6zTdulOs1o5pmpZcDXB01oGXCgDMMNBINPZpxc8xdQxvRITKHRMG1a3oYqMFrGzsaGvn2Vdlq5MvXr37lzR\\/kwMjIy7t9XUn5FkN8RclaQGFhz4Pdtvzdmkexe89r4EW9l5QiMiOO7YEU9L6zN6eIy7a3Y9zn6d3SHIPOjr2XYvp2kpMyXlWCrwRigr77C09N0dyoVM2agVqtUKtPGWteZZy\\/Inwg5K2AYqPAGEoR2Zf6pUW\\/mVu1dfI5kZdvokorfDARTf8OYMXyjIhnC4VL2rlk1CIHm5oxdhsREwsKs4UM4Hh\\/vGRoaGhoaKuM44uXF2rXYmyoePHEi7dsDpUqVUj4GKyur4sXltFxQ0BByVsCYfnS6\\/IlzA1m9nphyLVvuz2nbc9OMnncbCHk6guYKY21xAl+oBoWhCkyDInXrzpg0qdG771KzJj4+VK1Kr17UMSvHBDx6VGXRoqqNGrV3d3evXLly5cqV3dzcmjVrtnz5ci0XipYt2b8fQzrl6Mi8eYzPqsXZtq0ZydGaNm0qNs4sA\\/EooCBx6eGlar9Wkz8X1p5lO6ysMlJS7KyssnwjSszkvuknB1lYaUiegnUeAUmBobDYgH2xYlabNmXUr6\\/bPmgQiw1dI0eVKlw2sLvXtGnTdevWeXnl8d5KTua337ISBKWloVJRvjyBgYwcSZ4ZVnx8vJ+fn8KHm8uXLxdPNi0DIWcFifWh67uv6S5\\/Lt2e7x+p0pySkhzs7LJimsySM7VE8hRssr3EMqAzbDd6iYMD+\\/fToIFW4+zZjByp9KYqlSHvsyzKly9\\/\\/PjxQoUK6Z6QJGJicHGJTnsqSZKXk5fO\\/teiRYsGDzadWaRp06YHDx5Uq1\\/RMuXmzZs7duy4detWWlpa8eLFW7Ro0aBBg1d2d4tH+J0VJBJSDUcjWSfT4Cfp8JiIiFLly9\\/IbCvhaoacFYvP1TLgG1NaBiQl0a0bV6\\/i7Jzb+OabjBpFhrKILH0tKwe+YA8P4ALcuHFj0KBBmzZt0jHbemPb\\/NPz997am5SeBNhb2zf2bt2\\/ynv96nfOFIdBgwadP3\\/eeGBAuXLl1q5d+2rU5OrVq6NGjdq+Xfc\\/tVKlStOnTw8ICJC9SmAW4s9CQcLL2WjQTNNvKXx15872OQ1tyhqx1qXtrdzXj0Ghw+79+zRr1nXDhq4ZGVkF6EqXZuBAM+6biQ0Mg2sQBntgC5yGaJgDxzZvPnLkSI7l0+SnHZd37LSy05brWzK1DEhOT953b9s7uwJtB7\\/+Rs8n+\\/cDzJ49e9asWYbSur3xxhsnTpx4QQGbJtixY0f9+vX1tQy4evVqp06dxmfv+gn+CWKxWZCITY4t+kPRNI3honAxfhWP\\/XrpaAdr63TgRgxVfiZNWUji4UU0jch6vQDeM2Ncfg4OF8aNm\\/zhhz+7uj4DJIkzZ\\/jtN1aswHR4OxSDTaC3C5dFDCwNCBi5dSvwLOVZk0VNLj00Wj\\/pkT+\\/H+3dxX3hQhwdiYyM\\/O2337Zt23br1q3ExMTixYu\\/9tpr\\/fr1MyebyD\\/i9OnTzZo1S8p2SDHE7NmzP9LLbiQwCyFnBYxOKzttvb7VmEWi5\\/Sq9Ub1y8raOmo3M4+Z7rbXJVauyz0cAEYKZOpz5kyxWrWyqpqHhPDdd+zcSWKiQXuVChcXMuuuuMIxMJ5lI12lst63jxYteq7tqSSVG6FdWL2heXP27MHWVvn7ePFoNJq6deueVVDKz9bWNjQ0tGxZc2bUAm3EYrOAMaXVFGu10R1Pxyejw3duupi1wvq2Da+bSjpbO5IFQVotD8wclUYTCWRk8MknNGzIhg3GtKxxYw4cyDX41ZSWAdaSRJ8+J6\\/tV6RlgP9GSh86dIgxYxSZvzy2b9+uRMuA1NTUH3\\/88WWPx7IRclbAqOFVY2a7mcZt0jVsDe8JE8DORs2W3vyvPmoDfu+9L3JwMc7aCRnN9cLK3J4aPJhZs4w9qVSp+PlngoNp3jzLJbYq9FZ4j8jI+9+YI041lwBz53L7thkXvXD0H2K8KGOBPkLOCh7D6w+f98Y8WyuDi6iRDUfOC5gPEzNzLtpa8VMHzn3AsHqU88DWCms1pdIYdJbg31mxXlfLgLLmVEWxtaVkSX7\\/nSVLTFhKEp99lpW+rFw5XGAhuvk6jOC\\/95zyUVHmAJCaysqVZlz0wrly5Ypy47t378bHK34ULdBD7J0VVG7E3Jh8cPKmq5tycmzYWtm28m01rvm4xiVzcmD4QrjOhZKEBqyAufA16OSXVql4q9vewIS2vXcoHMnrrxMURNmyPFC2Rh0wgK5jGL+EqBRinHBKo8IT3rjOB6coYuq5geOXJNkoG1a6HVOSQPX668azRb5cqlSpYpaiRURElCxpuqigQBYhZwWblIyUG09uRD2P8nDwqOBZwcVWJ4TbHuTKBOSQCHvgGDwAdxvKz6BTPcq8p9FcrFePM2cUjWHXLjIy6NhR2YjdUPdEI5fBzCWFGbsZctrY1b4jCdfLViuLs426dciGzZsDK1c2GHXwCmjZsuWBAwcUGqtUqqSkJDs7u5c5IktGLDYLAHFxcamp8tVG7Kzsqhat2qZsmzrF6uhpGeBgomtHCIRvYSnMcWf4YMp8CBfVan76SdEzwbfe4vXXCVaWt4NCMERey4B4O97rxASj7hOxpoLQcyhXSLNxY5cRI2Y7mPo\\/eKnUq1dPuXGNGjWElv0ThJzlU9LT0xctWtSmTRsHBwd3d3c7O7uyZcsOHz785k1zwsp1CwsZpxzMgKwpWePGLF5sQtFatGDRIgBF9dStoXdm6WFjTG7OBn\\/5U08crZXLWcfyqFTSzJmfdO1qoNLwK6Fnz54vyVigj5Cz\\/EhoaGiNGjUGDx78119\\/JScnZzbevn177ty5\\/v7+U6ZMUbxFYFboTHuYlfe4Tx\\/27aOafMy7g69v7927yUxFoSghRV1FGdIkFaPakWolc2pDejqGPYjzYmvFu7UB1GrN8OEfmirZ\\/hKpW7fum2++qcTS29t7+PDhL3s8lo2Qs3zHxYsXGzVqZGj\\/OC0tbdy4ccOGDVPW2QfaVUuM4AyVQTeBdZMmnDvH9u1Ur94U2kET6A5zICwq6vfU1KzO\\/ZRUZVGcOCjcXSZbURr8kAoHFfXwVXPKemS9dnG5Bf\\/eswBYuHChSedYGxubFStWODubmrsKjCLkLH+RmJgYGBgYFxdn3GzevHmLFWXhKQ5fK7vztyCfTketpkMH9uy57um5HI7AWhgOxZOSHJYsGZBpYzqA2sW85LV79b7+E+EGcCRnNWyQ\\/jX4qplOm9KntC8DT0\\/PvXv3Vq1a1ZCBm5vb5s2bX1nQlQUj5Cx\\/MWfOnNt5\\/T5toSp0hr7QB94A\\/6w0KGPHjk004nqfyydgcgkzCj6E50YsihZ9uHZtj5zUQ5lMmjQhKsobKFcOEysqNwUjzUOEtv1s+CbnIAh2QLLMVa52zGzHH4Ho5cr+V11pwdfXNyQk5Ntvv\\/XRrkrl7Ow8ZMiQy5cvd+hgoFiDwByEo0b+omLFitevX886qAWt5fbOY2EXhLJ27dru3Q2kP9NlEYyRm395w\\/fQD4DFMMh4Lzdvlmvd+q87d3JLbTZseHznzvZubnG3blGvHjExBq4sAe8qGykAXUNZvzrr9TD4Vd\\/CEapQ7nVcSiJJlHanbVneqkoR+V28VvCXGbd\\/aUiSdOHChfDw8MTExFKlStWpU8feZMZwgWKEnOUj7t27l+tC2dFwiglAggMMrTz0l19+Udx9PGyCPZBZ5cgX2kJgHr0MVRA9iUajXrBgyMKF7546XRtJDfjX3\\/fnknfqVLp76BCBgcTGyl3mAqMUjxRGHmfWToBgW5qWgAR4Anp1DypU4No1Jf0N0C7kLrBMhJzlI06cONGwYUOAJqAg2X2t8FpnFitzdVVKTTivxO5ytFXVn9UkFsE+FptEFXSuSI8qeCTw3VgO7Ze7ZhgUVTqOHctoH4YELd\\/hYBkAUuEqHNIKY7C2JjkZK7nHoNosgf5K7y0osIhstPkIa2trAFdoocj+csnLMUkxhRz0Ek\\/\\/faYp9O1IfuqDVQQuWWFNEmy+xubMidJr4OPBiTI8VJOcQYobuJYufbdd7XPz7ykahF8MrW8DTGuerWWALVSHKrATTma1paeTkmLSTaQQdM5+HQ074TYkQXFoBrUVjUlQEBBylo8oXbq0SqWS6ksoC0tMtUr949wfnzT65CWPS4Y6lSJapXbaZ7tF94TGmoPjODaK1FwHkebND23c2MXFnRPzOR9tomeVxKyd2GTw3JZWt\\/nqEL\\/XIjIn3sEKAsAKjgPY2SlxeZsI7nAPxsAK0MlmWRW+hxe5E\\/8w4WFYTFhKRoq3s3dFz4pqlXjg9ooQ\\/9H5iMKFC9etW5cKZlyy7ca2FzqEP5Wbvu1XmN3TScsjJ2kOLNvBwfF5taxixWubNwcWKhRjo2ZTL3wM1AXOYeo+3rgO4JxKo7tM3seNn\\/hYJwPl61AMICWFfftMDBP+B8egDizT0zLgEgQgX+zdPCRJWnlpZf0F9b2nezdZ1KTVklaVf65cbEaxj3d9\\/Cjx0T\\/vX2ASsXeWv1i6dOmA6wMUzs6Akq4lIz6OMG2nlNKgtLcbN8pXqHAdlwfUmU\\/5P\\/C4w9aVXOmlY7Z3b5vWrbOfKj4gciv97vGX3G5XoVRmb+XtC\\/K3+7k+\\/8sb5X4dVgC89prdgQOyYfbW8BlMgZvQQN9DWI8Z8PfnubHJsW+te2v3zd2yZz3sPVb3WN22rBnVPwV\\/AyFn+YvU9FS7KXbKc4B5Ong+\\/jzP3vidOwQHExWFszN+fjRrho1iaQSwUx4PlJDg5Oyc46o2Fs7qe6vWrx9y4kQDgAcwGpZnTY92l2NFNYJL8cAVVzvK+9CpIu8+wKOHsTu+34n5OaEFGpgOidjYEBLi+\\/y5T\\/36Iba2mYMvBm\\/AyOwHta3BxBQOABu4DOWVvHcdktKTXlv82skHJ43Y2Khtdr69s5Vvq7\\/Rv0AhYu8sf2FrbVvEscijJKVrk2IuxbJeHT7M2LHkqXgE4O7OiBF89hlK0zE6KJez5Oe5DlMODg5JSTJTm8DAzQCnoRNE5ra\\/fpPX84bSD4T+kAL28v6x6Vg\\/pOjHezPWVInOikJXQ3EIIy2NtLTbnp723bs\\/DApKBhftZLrByrQMSIPvYYEyYy1G7x1tXMuANE1ar3W9rg+\\/7m6vLMORwHzE3lm+o3mZ5mYYl24OMG0aLVroahkQG8ukSTRsqDjDtJLYyyw8ebKg9hAVUsuWjBtXQfZxrL9\\/KHego5aWybAYPgNHKKXVrEH9J\\/1a85cDST7c90+KSpgez5p1hLcAyN6Ge\\/oUf\\/\\/QOXO+AC+9xOAbgXQNJx+w+RrbbnDF2F+KzXKbayaIiIuYd2qeEstHiY9mHjORGF3wTxCLzXzHxqsbu67uqtA4eFBw47XHGWXKRdXXl5AQChc21d9EmKTw1gAaEvZUdWp3+siRhGbNPHCLoMgV7OJ57kV0DZLd9uxp2+anvQSZ7gkgGD6GkKyjCEp1Y\\/0p6sobV1tJ6rtcSwTOn6d6dcAabkCZvFYPE1pNPbz\\/z\\/M8zTPpK+XG\\/+ozvD72MouTSDCv8uaMYzM+3f2pQuNyHuXCPgozq3+BcoSc5TskSWq6uOnRu0dNWnap1GVDjWlUq0a6nr+8PgMHZiUnM8ZD8APz0tXfuVhizqmRM0OW4Z0nl3+GLWHtF1R5+u5Xh5V21AnOZz2KuEvJhhx\\/QHFj9jZHSGvj7Jzy6BHZkULT8wYfBN8N7rq65cME+aRCVYsS1Btf3ZXfZSWhEXnpsbbHuivrTNtlE\\/1pdFEnxf7EAnMQi818h0qlWtV9VTHnYsbN\\/Ar5Ley8kKlTFWkZsHQpt26ZMioKUxX1lofS1e55+n2qpWWAVSoVg+7s01v\\/6vEUjxX0+ZTpg7Yv+iRi5hIGPKRod9aZ0DIgrSl8HxhInqjHUzmvTkeefv3P1w1pGXDpIU0X8UBXuo3WmZcj+rkpVzptop4ryXUp+DuIRwH5kZKuJYMHB7+56s0L0fJuC01LNV3bY20hK2eCFC7kICODjRtNL0sZDndghhnDhU8a8dtpIvTSGvk\\/Mjb3T8JhMuNmMyIxc8MrI6vdmvR0pZ\\/Moe+88xPkLN+yYuyT0pO6ru6amGYi48iDeN7fypbc0nilwVPZfXNxsTPlSqeNm72Z2UUEihGzs3yKr7vvqfdO\\/RLwS+1iuVE4apW6YYmGS7ssPfjOQfVjLIoAACAASURBVG9nb27dyqokrpBzMoXdUlNT7969e+\\/evZxyBEuXTv+u\\/xizSgfbW9NHLmmtm+G6K48o0oID3zAmUa+qp2ItA2yCg\\/vmHCQlFdq6lY8+ov7Q+RFxEUTBUdgBO+AoyM2Ktl7nWG7olVE\\/EQNU8DTD79nZ1rm4i6lZp+DvImZn+Rcbtc3QukOH1h36JOnJ\\/Wf31Sp1CdcSWo\\/5DabjMcCjzKd6GXBYko6sWXNkwYKrBw\\/eTU\\/XAI62toNr1qxevv+Hq4f2SK\\/CeogBxYU4Wvnyrd7K8qEB\\/5BUbLuwMcRYzhClHDjQYsKESUBQUOcRI37NLOJJpwXsgPt61iWgPZTQalt9iUYlAFf4PLstGfbCAYgEaygLHaCebFHQThU6\\/XhcafXy9n7tbdRmeQIKzEDIWQHA08HT00FuEVTIzODzIkVgOXwZHX2nRw8OZ+\\/Re8JYeCc11SPkZOOQ2amoE3HE3gwtA0q6yjSeLM7AszLtc\\/lfME3MG7wB7t\\/3Ab75ZsyXX06VJBWA6je2XZb3uLgHiyFAK\\/D8xH1ABQuyE+YugS\\/1tHAiNIQ5oFuZqWWZlo1KNDp2TycOSwYVqlGNzEmTJDATsdgsyPj64mLOxk21G\\/D248d3mjTJ1bKGcAk+gUJwggbHaQjcpJx+cjHjpMnJx+ZKpGj\\/xUy2ZkFt9VgHpZ4NJomO9mra9MjYsdOytIxNSMOMeY9lwBbIkyUt+rkKlkJPkGAYvCM3rwOOQzNYpdOqUql+DvjZ0cZ0KPxHDT5qWKKhSTPB30bIWYEhODh4+PDhDRo08PX1rVatWs+ePf9cs0ajPCmzWkWXE0D\\/\\/uQUt6sMO\\/P4We2iXeaLi1SLeFYKc9ay4XJZGx+48Gsev7FdflQYznu166ckmXhuq5xnz1yDg3Mmes\\/hA9OusBIE5dZTdrf3h7cB+Fo28W0eUmAA6Lqe1PKutbr7aicbY6EXvar2mv76dBMDE\\/wzhJwVAKKiogICApo2bTp37tyQkJDw8PBLly6tXbu2f\\/\\/+La8fSFf4O+wrUZ6\\/\\/mJHdmClNazTTuJ\\/G9\\/MFxKqmXxiVv2jHTfk28e2JsQH4M8aBPThrhs8MlBH8wWwEJS5TSRA9nMR\\/yI1AbgOUxRcmQpD9BPjvlHhjWPvHmtRpoX+BYUdC\\/\\/c8ecVXVdYq8XezstF\\/P\\/md27fvt2iRYuICLlEF\\/YcavtwvCfTTOXBf+Zt6zojFViyJLexD+joSt5Hir8ydMjsBVV6XVYSD\\/80mdWX5U8l2RDQlyn7+KgDGWp4CpevQDO4B1ZQCtrBAHN98Q2wyQzbq9AAILBiIAAzZLJ3y3MNNkM3ndZqRavtH7D\\/dOTp7Te233hyIyk9qbhL8WalmnUo38H4xE3wohBylq9JTk7u3LmzvJYBTcCJb5vilMbYQwZl57onfd9O2+uKG7lbZkBHPUufPHtGqdi2PbHnyrLK7v1kk\\/9r8fkeYpIMnn3syNC2SCrYDScg40SekzdhP0yGCfCp7KNDc5AvTirPI4CKnhW7+meGlOmlojRGkL6cZVKnWJ06xRSXFBW8UMRiM18zd+7cS5cuGTxdHUBS8VUr2vXjjN5+VKIN3zeh3nuccpa2XAO4lye9dS9whjchJwNkK+3kE5EUq\\/j+tduHTHiWzjrOQr2KBbZWtPbl\\/Tp83JDeVSnpCcvhaK6vrDYJ8DkMgn8YcmeOF14ytla2vwf+bq22hmemouR1UFRwRfCKETGb+ZqyZcveNpQMwx1G6rb5P6LJXXyeEWdPWCH2+ZKY7eQ0oBJPlrF1q3xnHWA5OGFbkWvh2lHctraps34o\\/96wCGu9qfzTWEbvZn6oVqOLLZ83YXgD3LT9PA4dYswYjpoIRf0uj\\/NXJpLyKZta7aPRKHX\\/Vbmr1h5d280\\/c5J1X9cbzQSVwcDqWvDvIeQs\\/3L9+vWKFSsaPF0SBivuKwWX5cQbTTRbxZ3gRex61vOtd1brnXxSvnztt9+OaNmSkiVJSeH2bXbu5M8\\/ibGCPuCRZVfOgy198DeQuUOjYfRofvjByCic4Dpa0ZrvgzO0hPJg+H8DSpS45+\\/vv2ePseLHeWn7RtvdW3KSx6aBvTnZgXILd0oSf\\/1FUBA3b\\/LsGcWK0bgx3btTwix5FLwIhJzlX3bt2tW+fXuDp73hA8V9rQPDa9YcunVj3To+++yH6dP1\\/cIeQFc4IXOZI7SGWng6cfxd\\/Ez59n74IUarg06Fsdmv\\/4CB2a9rgpxLLgD29slHjza+fv1sL93k3gZZs2ZNjx55o5rq51aIMs1XMBk4eZIPPuCM\\/lrblv\\/9j2nTsDPHFVnwDxF7Z\\/mXjAz5faYsYhVPJu4p0jJg\\/XqOHOGHHz6bPv1Te3udtLDFIRh+t1NX0b0sEfU2devzrff3rW5Sy4BZsyhXzsj5nZn\\/qFTzixV7r3JlvLKSXBjzwBg+\\/Kdatc726EGNGqYHADg5OUmSpP23vLdBa13U0BPYuJHmzWW0DEhNZeZMWrY0L6ZW8A8RcpZ\\/KWF8uZIMd5V1JBN4bpA\\/\\/gAYNWrG1auVRo78sVy5LI9bW6u05gT\\/wqlnmhsP4Sj8BNNhtpfXuilTIiMj9276pZqPItW0teXLL42cD3dwPPDZZy0fPnz\\/wYO0y5eJiiIigpkzI62s5LcRVSppxIjZgFrN6tW4m0perVKRkJDw1ltvBQQExMXlpAH5AEorGT\\/0hWpnztC3L8lyqcBzOHaMt99GrH9eGWKxmX\\/RaDQ+Pj5RUYbTY1UCJWurn7OcEpRQtmxuzEAmqam28fEunk+fUBlks4fZ2rJsGT1uwhiFd4mJwctLPlGbjZM64alGtmDLZ59NnT59rH57rVpnz5zJDcI8d47AQAw5t\\/j4UKdObl6lBg0aHDhwwD4rZdpJeA0Mu5wA+MMxcGvSxORjjSzWr6er0uzCgn+EmJ3lX9Rqdb9+\\/YxZXFXgMCCZ571w\\/77ubMLWNtXT8wl+8BpABlZHaDqRiYNYNIQFkxkXklpT6j+Ap\\/uV36VQIUqVkj9VzV9ey4CxY6cXLvxYv93PTytddc2anD\\/P55\\/jqe1hUrgwo0dz6RIN88RNnjhxYvTo0dlH9WCv0QyOTWA\\/uB07plTLgJmiPMCrQshZvmb06NGurnKpKnLYYGrJqQK5opaGsLVFZcgvojU7aV+dC804PIkJixm4kHfH83VLx\\/2\\/fjJQ42wqNEGbIkXk29u\\/bvASD4+nq1e\\/ZWOjO0XU2+bD3Z3vviM6mpAQ1q1j3TpCQoiK4ptvcHfXLWv166+\\/3rlzJ\\/uoMYTCF1l1iXOpBgvhYKbYbTOnWPOxY2ZnchL8PYSc5WsKFSoUEBBgzCIFlhh0T\\/Vx8QEwpxCar6\\/BU1dKVu7I9ivaqfTLlbt58mS9YVN\\/UdsYfXChxyO59a+1Nf37G7uqVat927YFODtryUNkpHxAu5UV9erRrRvdulGvHlbZsn7\\/fn8YiL093lCGVNfUNevW5LnOA76Fe3AF9sAhuAsXYHDOXwad9bhxNBoFWc0FLwIR5JTf8fLyAqysaNaMmjXx8uLRI65cYf9+UjJzQqRnBw9VhlKUr1W+rE\\/ZwsmNNGf7HV\\/vyJ10Ur+HnxTerqN+6FM2IWn1JW2P1sKFH+\\/e\\/XrZsreA5GR7\\/VmSIWJjuSs3qRw2DCOedpm0bbsnLKyir+8YW9thcXH2wPHjDc26+8GDw6ABdhNp8x5+u4CvYr+6ve32l82\\/zPoDAKAGf72o1iySjG+v6ZFoIsu34AUhCfI3M2dOHzqUBw+QJK2fmBhGj5Zxa9q\\/P3jECMnaWoKcn3t61SflsbUlLEz3Rjk\\/x441VKk0ebqVdvzRXvqG9KZWoc6V2vnv1GhUhq7V+Vm6VObur71GSoqiyyWJQYOKJiQkXbiQUqxYb2iwerWtwguvXaugVmdkvQV1OoEDmUjmj\\/M053VX1in5pXzwQd7\\/XtM\\/YWEv+2MikCRJEnKWz3keF\\/eakS\\/nkSNaxTPd3Iq2bJkh941SVJ9p0iQTWjBmzLScPmeW\\/FhyRoJk7GpzGqTVq3sqEZS0NPy1Jz0qGFyXpCSlWiZJnDs3TJKkOXPmZPZQsaLSywMDN2n9z1ilMrhRjqKpJqrWXl5r8reyYoUZWubjI2k0L\\/2DIpCEnOVvNJJkWiCCg3PnaFWqBBv4UmngnUwbHxgDB+AWhMMhmAC+0LcvGRkmlcja3\\/8KSL8wNKfr6YzKfOnlFRURUdL01OwTchS4OAyEEJDWmKFlkoQk\\/SlJUr16uamu334bjcbEVdOnj5L5z\\/EJYYIqR9GcpjpFxEUY\\/8XExUkeHkrl7IsvXsmHRSDkLH\\/zh8LvdqanQaFCbVUq+W9Uixb7f\\/990PVrRVLHqzT2MhbpVkijkdKM3eXoUcaMoXbtMqXw7w+\\/QiRoUJUkIqenSpVCb9zwM9SDRqOKneCWaRqnJinzGiukeeZqGZJ0NCUlRa3WepbVvTvPnhkU4i+\\/nKKzWM79ebdBjpwxkXeD3jX2a4mJkdLTZ85UpGVFikgxMa\\/q8\\/KfR8hZfqa8wu\\/206d4eDgGBETqf50KF360bVtHSULKQOpt6ssXgJQq0\\/+FCzRrJrM4dYBBFIWUvH24uz+dPn1UYqKDTicnT9Zt2XLfb7yne9OZf0PLCktSumwaOC8vZs7k7l3rHOOYGI+lS\\/tlTioN\\/rSYkFfO3L5xS0lP0fpVJCRIM2dKDRpItrYSSFZWUpUq6yp9WZRoI93a2koHDvxLn53\\/JELO8i0XzfqGh4XNLVlS9+vk7R0ZFlYuy2aisqXRSN2ed+3C2dn4nlszeKbTjaNjQufOmz\\/+eOaECRMHD15YseLVzPbP+F7Lrunf0DIkaYokSU+ePDE0IJWqdbFiD2rWPFuyZIS1dZrp911zcV45YyJnI8\\/m\\/ioOHpSKF5e9MsnGpb9qqWyf3t7SoUP\\/2qfnv4mQs3zLcrO+4RkZ36vVWl8ntTrjyJEmWQZ3kOTWmDI\\/VkiXcru9fFlhrajOYGAdp\\/3zP37SOt75N7SsqiQlSJKk0Wg8PQ2llnxdyWByf6r\\/qSNn229sz\\/o9bN+eNSMz\\/LO4+kxHx9yG8uWliROluLh\\/89Pz30S40eZbTKe0zoskPZEkrZbevVc2aRKcdfA7KPTKyoDfco8++oj4eCWXBcFGJXbF81ZXd4dWykaVS1nYnOl3olKpDPsY3zPQbgA3XS84VztXgLt36d2b7Prwhnjn8mexQYdu3eL8eR4+5Pp1JkzAeDSH4GUg5CzfYiAFogGsrIoWLarV8v77eWRpN2aQlaGHs2f5y4zIpekUvkrFLVRfTtm\\/sI+TNXqNg7kHlcC8iuB+EAJlc467dh2lUsl+hkPNU7Sye\\/MeqVD5FfIDmDCBOPk3okVGhs3oUb6+VK9uMHhL8AoQUQH5lPA4jzJups3yUKt1a1asyDpwckpo3DhPkPRtMzqSwlFJoDKYiVsXNdSEJsfwzONOlmHDjY7sn0x0tZy28txoyPFcG3OirwCoBVmry7g4Rozgzz+rS9LHMEP\\/TcDSPGkgjVIojFJapTPr+9T3cvIiMZHV+ol5DXDqFBcuUL26UnvBS0DMzvIpqy6ePmc4M5AODxPUGVLjwXlybfv43LeyyhNEqTxrNEgZWfZhYaZMAQfoB51zdCYbqzQqbeb92tTLzTz7rfqztVU13Xvi9xEeoylTnc4rWXyOVKXhnlm5LiIjadSIJUvQaIDvDGRe\\/N5AMXMdJF7\\/FCutsPYvmn4BcPy4edFJ+\\/aZthG8TISc5VPORJ6ZcECp8cQDmvvPolu1IjAwq0WStNNimJO3\\/kF2Eg7T32Vr6AuGo9ZRpxPwIXXnAf28PpvwweZe3VlfmZuFiLXnjiNbrjNoM\\/4\\/c8RoHYNsagJpaXTpQmhuvRUrWA6zQScTbiqsNS3kzadSaXPehi6VunSp1AXgvhI1zMM9MzfsBC8aIWf5lMeJj4Ou8dtp05Y7w5h\\/mocJD4E\\/\\/qBKFYAHD4pnZORJDGTOjvvujKz9Im+TlXxbKBPKDiN6VuuycfD0S0Xlz996SuulBJnI3WYPnYD58zmhW7FABR\\/BLfgTBkMHGAl3YKSxT7hNIgEf0mpc3raWZVou7ZIdUKpfuso4hvK0CV4VQs7yKYUcCgHDtzPfqKLdOMjkn8iQKOxYGHB358gRAgOxt0+Oj8\\/jYfGOGVnPFkFsLEDTpkbtnLKqiJvGKjUocNNzW2MmqRn03cA1g55kwP+gKJAdpqmPG7wNC2E9fAtG9+Q9bzC8Yt6FsJON08QWE3f12+Vsm+1lV6aMsR70Mdde8KIRybXzKRMPTJx0cFLm684V+bolNXSSpIbB17AMSWJ9TdvA\\/Q9s3HO2r2ISExs7OmrPdj7Q8sAwxGrorSIxEXt74uMpXZqnTw2Y1obO5rwlBQRWZJN8uvBacAQcb9ygQgXjfSTBM6MZZbNo+94+r\\/aLY5NjizkXa1SyUeeKnT0dtPf\\/MjLw9uaxTP5beW7dMpYuTvDyEXKWTzkffb7mvJo5h6OPMO0OqjpQGGLhPFzUvqBKFQ4ezM4nHQDbdXtMhjYQrNusdVMqNSMjo+SNbrPxcCD6OXuX82STAes3oK6Z78oUKoj4mBK6HluNYUOmQu3ahZFafQBshC5K7uXqyq1bugm4dfnyS6ZNU9IbnTuzebNpM8HLRCw28yk1vGp0rpg1+XnzKtP2oroBq2AuLNPTMuDyZd56C0mCPTJaBtjDHhhgsKb4Oro350Q8xxNLlP\\/zAnNOsPoyT2oYymCoMIWaeUjwVx6fkvT0Ijdv\\/u\\/IkckREZmZKk1UToJLaCfLNcKzZ2wypNQ5fPEFZcuaMgIXF+PFkAWvBiFn+ZdfA371cfGxS2fWTkMSpM1ff7F2LSw2aOAAf8BReCe30Hg0Xivo05L9PVj7DFcoRNh6NNk7bSroDnXkelOa\\/NU8wmORJOddu9oFBnrb2T3y85vbrFnr0qVLV65cee7cuUWLylV\\/ymWV8UrpOhw8aMrC1ZWgoJxKn\\/LY27Nypck1sOAVIOQs\\/1LcpfjWPlsH3CtcRnm8088\\/wwHZM8+euYaHl0lNtY3zdzv9vzpfvz\\/et9htB5K8ierL8gO0yDV9VI3zA3IPraATDITy2s8TFBe7MxeV6nls7K6goChNHi+L0NDQ4cOHDxvW2NXVkO\\/FGthl1o0UeWJUqUJICC1bGjx76BDG6zkIXhVi7+yVcj\\/+\\/rmoczFJMR72HtW8qpV2K23ykqTB\\/R0W\\/an0BlZWxEo4y3zhJ0yY9PXX4xV2U7zw\\/gf\\/k3PuCIY92a8LwXCDS9e\\/zWh\\/OpfE15eGDcmtr5QHF5fl8fF99Jq\\/gS+hIoTKXGOAgABp61bFb2DfPtas4fRpHj3CzY1q1XjzTbp0yS2pIvi3EUFOr4jdN3dPOjjp2N1jErl\\/P+oWrzv+tfGdKnQycqHDvWgzbpORwV1r\\/GXk7PBhuYxlBnj0uIljqjrRVq+fM3lex8BlqGrG6JTw7ft8GwtoJQ3PS3z8Z9bWb6an5926WwNfggR3IU15IKiSbbFcWrWildkR84JXiVhsvnTSNekf7fio3bJ2R+8ezatlwKkHpzqv7Dxo86DUDMM5GzTmBCgB6fLOr4aqt8mShm2Ly3p+W09Bxy9sl6KaxOU9FM9fwnIziRh2kHiQnt7DyirnfzKJrOzeQAKY3A\\/LJSDgRc8tBf8qQs5eOiN2jvgpxFhduMXnFg8OGmzwtI+PwVP6qFSUaCd7xtHRvOJorz3Qs9d3QIuH5WA05cTb1WkV9QnJCsLN05Rn\\/tgeEDA3e\\/q2Vjt5xo8Ku\\/D0fNCmjUJbQcFAyNnLJeha0C8nfzFptuzCsuUXl8ufa93ajPvVro3HKNk9BFdXBfOobLyILpuQm+fMMY2A6wTK7kpFw3w4IxMc6ZjOokCWBKqD\\/viYtWtItzd2Sw1shodKR3jv3h9hYYwfr7G319GvbbBBQQdpM2emiF0vC0Psnb1cxu0fZ9oIgPH7x\\/ep2kel0lv+BAbi6YnhRNJaDBoE\\/vAhzNY58\\/ixGQnUGnEsyQagcCLjDjLkDA5pXAZ5P9EECIJ9UB48wQ6ew12G92JgTa5cqRQZWQyK8ccBuvXBQ64geDxsAqOlxbtCL\\/CBDAiHkNu37TVPL14cnJx8Vs92AHhBE8Odpbdvv6F\\/\\/7eM3U9QABFy9hIJfRx6IfqCQuNbT2+dfHCyvk993ROurnz9NR9+aLqLqlUZMgSA6XATctOVxce7XL+e6xhVpMijgIBt1atfcHOLe\\/LE88yZ2jt2dIiLy82v5k3ULQ9qRLFlJSWz15KVwcdIzp3noC0sbVsB3L+fvVi+14C5odRcQuW1eJ\\/D6RFJ1kSncxVOQ5pufzqUgR7Zr5tBv6dPY0uUsJNP+vEcWsNUGA76kaJXq1Ydu2WLD0RBAPiZuLGg4CDk7CVy6sEpc+1l5AwYNozTp1m0yNjFRYuyaRM2NvGp8Xfj7krS1HKFKtlbz830dr11q2xqqi3g5hY3efK499\\/\\/zdZW6+FDQoLTjBmjpk0bm5JiB8Th9uDytF3HJnulJOXYqKA\\/fKPsvZRT0bwsgNaNMmw5PYTTQ7KPHcG4W2wuR\\/Va3BMTV8JpuCFjngKfwhzoCc3AG5LhGmyHrW+\\/nZ6dLGMkdIKZQtQsAyFnL5HHiYqjlwGykvzIs3AhpUoxdSppctOYevWk1atXJRz\\/dfHAo3ePZkhZ6RA7lK86rnnZhj7P4+OLAaVL39mxo4O\\/v8wemJNTwvjxX7dps7dTpy0xMYXuUHrio8VeJOmYfQ5LyJvt3yDTJWw+hXWUKRNuwCQOvf6NEGmg\\/V34wuBFETAdpuu0RkVZQU7GyC1wGNaBOXuUgnyJeBTwEnG3Ny97tIeDh8FzKhUTJnDlCh99RLlyZJbLdXUlIICVKx\\/v29ry4MA+6\\/scjjico2XAjhuXGv8eVH3ewxT7aS4u8du2BchqWQ6NGx9du7aHtXX6c5za5vrL5nlHsBGcTL2RMfAmsAE+o3SpOwZu6mjWx89QPaleBv8mq8AbKkMxnRsdOPC6tmUsdIHLygcjyJ8IOXuJVC6iNBxaqb2fH7NnExZGSgrx8cTFsXVrXJcOzZe0OHjHoL\\/VpYeX+uxvMGXqlCpVTH9jW7XaN2TIguHMNWRQH4KhvIGzDjAHcnNQzIBAhveR9VOxgTImx5ODoZDIUtBft80H5sBdiITL8AAiYV5O2tzz5985fbqc9iXx8C6ICJmCjQhyeoloJE2pWaXuxyvK0exh7xH1aZStldEkh3L0Wtdr9WUTFTqcbHg0ys7BLkVJh3fvlrIL8Ct60Vjm+zRYBKvgeFYouhq1vbtT4kw7usXjqn2fNDubRk7Bp2Pq6XUzUv8JrCEWwzuGB+MM2Vt0\\/WEeOMgZpsIo+B2iGzWafvTo13oGB6G5wvEI8iFidvYSUavUY5qNUWj8eZPP\\/4aWnXpwas3lNSbN2pZDoZYBJUtGFK1qQoJt4H3YD0kQC+X6F2N8YuwoBv0Pjy+oNYB1FQBS4CJ8l5J2J2aBXDcjwU7JkEqAEa8KG\\/gy6+VQWGJAywBb+Ak2gktISAu5h6IiYVnBRsjZy+X9Ou+38jUd6NewRMORDUf+jf6XXVgmKVgi+ZtXtBOqy4c97oOPoA3UhQAYBxfBDR4Xz5U\\/jZpzvvTog01P7G2pDuPgMbXk+isDk0yOxQrmG5aoTAaghmHK5nrtgIyMEvv3658yI3xdkA8RTzZfLtZq63U917256s1Ddw4ZsqlXvN6mXpvsrY06zRsg+K7R9LLZuCqaA+WhghdcyttwGYbAMW2r7TAVAmyIk4srTa8MjvBn5lPErIjRceMmJyfbHzvWKDray8UlvlKlEjExFXbuvG5oINbwM3QwNd4ogNnmfJ5Tbsp47ZpXeV6Q3xBy9tLxsPfY02\\/P9KPTvwv+7lmKVqSRk43TJ40+Gdts7N\\/TMiAy3pADgxbRCWb2W6UV5BZAPwCdIV7OUIKtabAABsiVAS4DLTJ7SgSsrdNHfjKjkLtukOeyZYweLZN9rHphfnqsaDdrK0XM\\/DA\\/kktsa7J0lSBfIx4FvDoS0xJ339x9Lurcw4SHRZyKVCtarZ1fOxdbQx4IiqjwU4UbMXJupNo0LknwIOW9quAOr7\\/Dnn3ALagrF36uixe8K5Obp8Z9ui+hRmrFIngkOTm0HL6fbjJFBpKT2bWL\\/fuJiMDWljJlaN+e5ndR6z221EcDvnSPYK2yd5fJ8mXL3u7bV6fxGxhtTieC\\/IWQs4JNx+Udd4TtMGmmVnFrBKXdTBpmUg\\/qcmcx9ZN5SDdlId0AbbUCJYvF88s23rwqZ9kR5kFJE\\/3FHsL9NdO3XQSDGQ4GK9bpU4Jvj58f41M9b5sVXBXhAQUa8SigYBNQQVFaZ43EOGN+F3lRQRj8SulkdhFRnI3KR3M813Or0mNCFhjQMmA71IfzJvo76MIDU0kvzsBHYG1tKuZTm+E89akNbfKmRxsktKygI+SsYDOgxgAvJ9M1JYHVl22fpfQwbYdt7sqyJjs+Mce1ND5rT949mS0rKGE8I1EUdAajYWAnn9LIFSN1k7dAK0iAdu3MU6Jy3DydwWd\\/0awFFT2oV9e+b9\\/YNWvWpMnGkAkKCELOCjbOts6z2s9SYjn+tfGuditguGETFXiBlnvaLcUJyLJ4CjDmMH4xCowjjPlpSBIbzxERRwMYBEfyhFmmwE54Azpn547MyDjkpnQpjS2pS9lbF6bDEbgey6nTyStWrH3rrbeqVq166JDBZ9CCfI6QswJP76q9p7WepjJag2RI7SFjm44Fa5gDu6Gp9q\\/eGjrAd6BblyAlU9xcoSH0gEHQFzpAOQNFT9KxS2eo8kwiCww8MYV1oVzZBxoyYDE0AxcoD2XAFTrAtjzGNjaSkhRKmTiwMMhACt3r16+3adNm1apVit+AIB8hHDUsgTFNx1QuUnnkzpHhseE6p4o4FpnSasp7CMtXdwAAEeFJREFUdd7L09YW2kI0XIHH4A1VwQN0n\\/MBRYvD61Bf75PSACJhq17+MxeaReCiNAABUuCvzIB1LR7EM3IL5M6TSkONJLzCeASX9XMClSpV6osvWLeO6wY92LKw5W4cE40YpKWlDRw4sHz58nXqyJYXFeRfhJxZCIEVA9v7td9+Y\\/uusF134u6kZaSVcivVyrdVYKVAA74gXqCz6XZGxyI+ldV20NjALYvBQNgAV7JbbMAHP6UJK7MJ022IiKPzSuyDMyduHWAi6KSBuwiTYV3Oo4d27dq5urJlC23bEhFh8FYuRMcTaLJEaHJy8ocffnjs2DGZ5MCCfIxw1BDkUFTnex64iqBrpi5Kh0XZKdCqQ1dGHmfWTnNu+zXkyUAuSdRfyOdNeHrE+v33Z8Mww1euhEGQ7OtbJDT0rp2dHRAdzYcfsmED+p\\/rjmy\\/ytBbGFY7bU6dOiUmaAULMTsT5FAor5xtvKpAywBrCIAFYAstAR6Y6xdcXOtIpWLX2xRyYOhPc2Co0St7g51K1X3mzHKZWgZ4ebFuHRcusG4dZzeGP7z0sAiPqnGxKxs8OVnOaHc67NixQ8hZwULImSCHapArYD8eV3ydD5SGBuABcKQUklnF0fXKGRdyICio87x5xrUsk66BgQPffFMnlpTq1aleHcofpn9uVMFfmMft27fNvELwLyPkTJBDV1iX+So2mWClazKAesNcq1V6FhmPvTUVPIk9gccRZVc2lEnM+OwZEyaYzrSRyenTEzMymsqXmKtUKe+RuR5lqamGazkL8iVCzgQ59IQpmRv7t2PJMGdPtYzvs9875zl2h0YKqpqo4QeZ5nEz\\/M6dq6nw1nfvljx+vG0T2Sp0depQvDgPsmobmFN+GaBEiRJmXiH4lxF+ZxZKejp\\/\\/cU33\\/Dxx0ycyKpVxJrMfmMFf4IjkKy0vlIWiTozn7rKipF\\/A01lmvc90s9ba4xTpzrKn1Cr+fzznKMqZmbMaG1WwWZBPkDMziwOSWLBAiZOJFI7d5CtLcOGMWEC7kYKstSGddCrmLMZJdOB4i5IEifus\\/smt2PRSJSqTJ\\/p+I8zUK3JDn6ED2TOPIgn9I552SYfPpSr5pfJ0KGsW8eRI4Aa3tYv62QAX1\\/f115TEP4uyE8IObMsUlLo3581cum2U1P58Ue2b2fbNvyMRDh2gDNl3L8o474+XHE2Q28X6i7gjLZ+ToHmY1lyjTL78hSz84IuMBpKy3f11T4y7E2nI8qLp6fhVaGtLRs2EBDAyZPAGFgKSgK3vv\\/+exsb+ZS8gnyLWGxaFu+\\/L69lOVy\\/TseOPDWuF+VgXe+qHym8p6MN3xzW1bJMDmVQ1o\\/JKyASLsADeAC\\/GtSyZRdYfA6KmFcjrkoVo6eLFOHgQb74AgeHQrDBVJ5u4NNPP+3evbtZYxDkB4QbrQWxdSudOimyHDqUX34xbhKbHFt9kpd7XOpTB6KdSDOcqEelkvFZ1WFBJ96tnfnS2tAzgp9D+HgXaRqQVMy+RWwZE50C4O5OVBR2SrKHP3nC1q2cPXsqNLTH8ePhz2QW1HZ2dlOnTh01apSSWwvyG0LOLIjGjTmm64Elj40Nd+\\/iZSCz0OPH\\/PCDtGa1KvxOZkOsPdvL821TLupdoVahUfAJcrblxnC8nYFdsBw2QZaapKXZ7N\\/fcuqfLQ75jc294My7BMkWf9Llm28YbX4G2eTk5Pnz569cufLkyZMZGRlA6dKlO3fu\\/Mknn5QpU8bs7gT5AyFnlkJkJD4+pqdJOSxcyODBMu1bttCvH3EyCSc0KqY1Y3xLpEwfWfOcZRnXnK9bVoWLwL17Kb16XXdwiI6Lc7t+vUJcnBu1FhOYJ\\/+3xoqVW7hhouZJo0bs34+drcSZM1y+zJMnFC5M7dqm1p+5ZGRkPHr0yM3NzcHB5BpUkN8RjwIshStXzNAy4LLc\\/tT69fTsiUauLhOoJb46RKEkPszMgJujZcmgoHLL3BDGNPvSwRrgq6\\/sgoOrQbXc00ke2jfLoHsv1qzjZltDHTZsyKYNGrtli5kyhfBwrXP+\\/kyaRA\\/T6SqtrKy8vUXFEwtBPAqwFOTmU8aI0cuvGB7OgAGGtCyHYSfpfRFSIRgWwGT4FibDPDhowC0DgKfJBCybn6ZJi49HJp\\/Yw2q6LXbP6NuRdqNwfKJ3Kr73R6H7tzwvOiSQd9\\/V1TIgNJSePXnnHf7f3p0HV1WecRz\\/hZvckBWILEmEKJtBCghhsxGIgEsKHbgsU5GqGOJo7eDQWJVFahxBVLpMHes4A7aIFSgZBGVgsC5FCCgBwlKgDIuIoIQQlrDIFhL6ByEk5N6cc2cMkCffzz\\/ce86Te98ZZn5zzn3f87ys7K9PuNm0IjdX\\/dxs4XbFhAl6\\/fUqRzIy9N57bv70uyi1D1HJaX\\/nIqQh0p0B\\/\\/a51OfSzv\\/R\\/4zF03ephb\\/uQhfDta+\\/ClJ0pqkaHlf8lugOaw9N2BM1crSWLnUY62OPac4chxpYQZxZceKEmjcP4mIkJ6fKvdj582rWTKcCdIatZqBU01YqQ+V\\/13PJ6\\/G+GLsze\\/ztlQ\\/GxJxKT\\/+kQaecBZcWuvn27LTsl7c11TM1NAqvZOFCjRjhqhJ1HDebVjRqpAcecFscE6P09CpH8vPdZ5nktJXvUinAdsYXSi\\/kX5hf8TYy8syrr7546FB8Ts6v5v9h4a+r3XFWl5KQ8kLvZzVtmtuxZme7rUQdR5wZ8vLLauDuP\\/SFFxRTtS1Zgavd1Csk1ny6VPos4MkDni8vv0hIKMjN7Tt58vTIyDOSQkI0a4hGdqzpg3vd2mvZ6GWReRtVeO22BgFt364dO9wWoy4jzgzp3l1TpzqX9elT+cHsckEuUzjjWLG3ys7p0d6rr8+F\\/RAeroiIs0uWDElJqdLROyJUOSP17hC1jL3282LDY6f2n7ry8ZXx0fHatCmo0Wrz5uDqUTexUMOWSZNUVqbs7IATlOnpmj9fXu+1x9sG1ahV37gp2lfe0DHGq2d6a3pu+eFIb8OHHlLr1jN69PCz41NIiDK76fGu+uqA8g+q8EfFRQz\\/WbPMAa0HNAy9sh7kaLW5zpoVOWwOABuIM1tCQjRliu67T1OmaMWKKqHWvr0mTdKYMf5vSJOT1a6d9lTbhiSAZc4l5cv+kxrpo1EqrDQN2rpJ62nTzjVqVNP2oJ4Q9U1S36TL7zZIC6us2Y2LcznOck2Da9GBOoo4s+juu\\/X55zp8WOvWqbBQTZooOdl5oXxWltztVblI2uuiLDZC4\\/vp+XsU41Vupd62g9oPatVqhQLsdOnPfmmjVKltf2cXUwaVBVuPuomFGriipERpaY5PfR6TerqLs7lzNXp0+et\\/bdPDH0pSfHT87KGzj5\\/7Z7R3Xrs43en2smmOdLXrvy5cUGKi21vO9u2dd9+ECVyd4YqwMC1apPvv17ZtgUpOhoSMuHTJTZZ5PFXWjawqf5hdR88c\\/cXcq09itm2i5+9RZjeFOkxKVe1o5PVqwgQ\\/Exp+sVCj3mBmE5XEx+urr\\/TEE\\/K7lUi\\/fm8+\\/PCX7j5p1KirP1idKdG8reWvS8qq9OH+5rh+s1QD31eRw1xplccqdx3d9ZfeZTs6u3jWcvjwq5eIsI6bTfizZ48WLlRengoLFRen5GT5fOrbt6ioqGvXrgcPHqz5r+PitGmTksp\\/yNeIHC1yWvjVNV6rxyoqYP\\/XXVJ7Sd+f\\/D7r31kf\\/u\\/DS7oUd1aLFihtX+AP9fk0d64iIx2+G1YQZwjO+vXrH3zwweOB+9lGR+vjjzVgQPnbT\\/c2\\/eW8EyWlztvCje+tv6b7PdNd2iBp86HNg+YOKjh9dcVvWKmeWadJuWp6zcVdy5bKzlZmpkKC6WGEOo44Q9B27do1ZsyYtWv9bCzctavmzFGXLhUHHnlqqXdm\\/j\\/cfKzXo73jdaufTdSXS+kFpwt6zuz5w6kfqp8OLVPaPnU6rFvOKi4p+eknZzVIvcftAxIwhKkABKG0tHTBggU5OTn79+\\/3eDxhYWEejyc0NLRly\\/CUlHPDhp0cOvRyjIRLA6Tfl166d9EOt93ELpRq8Q6Nu3ZXpt9J6ZImfj7Rb5ZJuthAX7TRF20uv9sZEbV7bINqW6ujHiDO4Nb27dtHjRq1rdK85+W21JK83mbDh8\\/x+VKlAqmhdNvljo57j+8+cuaI+6\\/YcO2Pcs9KMyQVnC744L8fuPyQGWtmjO021rkO5nBBDlfWr1+fmpq6LcAajqKiohEjRsyc+ZF0l5Rc0Z226Mfgni4q\\/PHyvyFSH+k\\/0p8lj6Rlu5aVXXLoK1lh59Gdu46y0Kw+Is7g7NixYz6f76S\\/rY8qlJWVjRs37uuqq3AbN6xhi2I\\/mjS8W1oqfS\\/lSv0rjgcbTzuP7gyqHjYQZ3D22muvOS7OkFRSUpKVlVX5yO2Nb48IDaJXx53NBkmDq\\/cfOn3Bb+vbgE6dD6J3G8wgzuCgtLR09uzZLovz8vK2bNlS8TYyLPKBtq6bSkq+Dj6\\/x1tEB9hDL4CEmISg6mEDcQYH+fn5R4NpyPPZZ1U6N07uOznE3QZ2vg6+zs39Pyue2irV\\/QDCPeHdE7o718Ec4gwO9u\\/f71wUuL7Xrb2yfp4VqLhC86jmb6a\\/Gehs2m1pCdFuL7gG3zE4Nrxa+0fUA8QZHIQEubC+ev2M+2dkdvO3RfEVCdEJy0YvS2qUFKjA6\\/G+0v8VN98e1iBsan8XLXlhEXEGB0lJAVPGZb0nxPPukHffH\\/Z+q9hW15xqENLg0S6PbnhyQ4\\/EHjV\\/bGa3zNGdnR8mf2vQWx2b1bjdAOziISc4KC0tjY+PP3LE7WrYrVu3durUye+pi2UXV323as2BNYdOH4oMi0y+JXlQ+0GJMQ77qFQoKSsZv3z8Oxve8Xs23BP+9uC3a74MhG3EGZxNnDjxjTfecFOZmpq6Zs2aWh3Myu9WTs+dvuLbFRW9hmLDY4d1GPZS2kttmrSp1a\\/GTY44g7Pi4uIuXbocOHCg5jKv17t69eqePXtehyGdPH9y97HdxeeKW0S1uOOWO7yeapu5oP4hzuDKxo0bBw4cWFxcHKjA4\\/HMmjUrIyPjeo4KqIypALiSkpKSl5eXkpLi92xiYuKSJUvIMtxYXJ0hCGVlZYsXL16wYMG6desOHz7cuHHjjh07+ny+jIyMqKioGz061HfEGQAjuNkEYARxBsAI4gyAETTXrj+OS3Ol5dI+6aKUIN0rPSK1u9EDA34aTAXUE7OkCdfuJS5JYdJvpRkSy1BR5xFn9cHz0p9qLOgnfSIF0TYWuAnx25l5f3fKMkmrpKeux1iA2sTVmW0npLaSy16yuVKf2h0OUJu4OrNtnussk\\/R2LQ4EqH3EmW2fBlP8SW2NArguiDPbvg2muNjf1CdQZxBntl0Msr6kVkYBXBfEmW0tgyluKDWrrYEAtY84s61\\/kMXBbdoE3FSIM9tGSw1dF9N8EXUbcWZbK+lZd5V9pZG1OxaglrGM1ryL0hBpeY01t0lfS263GQduTlydmRcqfSQ9Hfj\\/Ok1aS5bBAK7O6o+N0t+k5dIhSVKMdK+UIfmYAYANxFk9dFYqkWJv9DCAnxhxBsAIfjsDYARxBsAI4gyAEcQZACOIMwBGEGcAjCDOABhBnAEwgjgDYARxBsAI4gyAEcQZACOIMwBGEGcAjCDOABhBnAEwgjgDYARxBsAI4gyAEcQZACOIMwBGEGcAjCDOABhBnAEwgjgDYARxBsAI4gyAEcQZACOIMwBGEGcAjCDOABhBnAEwgjgDYARxBsAI4gyAEcQZACOIMwBGEGcAjCDOABhBnAEwgjgDYARxBsAI4gyAEcQZACOIMwBGEGcAjCDOABhBnAEwgjgDYARxBsAI4gyAEcQZACOIMwBGEGcAjCDOABhBnAEwgjgDYARxBsAI4gyAEcQZACOIMwBGEGcAjCDOABhBnAEwgjgDYARxBsAI4gyAEcQZACOIMwBGEGcAjCDOABhBnAEwgjgDYARxBsAI4gyAEcQZACOIMwBGEGcAjCDOABhBnAEwgjgDYARxBsAI4gyAEcQZACOIMwBGEGcAjCDOABhBnAEwgjgDYARxBsAI4gyAEcQZACOIMwBGEGcAjCDOABhBnAEwgjgDYMT\\/AWARcrNYDNzYAAAAAElFTkSuQmCC'><\\/img>\"},\"nodeType\":\"DOM\",\"type\":\"node\",\"instanceArgs\":{\"namespace\":\"html\",\"tag\":\"div\"},\"children\":[]}]},{\"props\":{\"className\":\"interact-widget\"},\"nodeType\":\"DOM\",\"type\":\"node\",\"instanceArgs\":{\"namespace\":\"html\",\"tag\":\"div\"},\"children\":[{\"props\":{},\"nodeType\":\"Scope\",\"type\":\"node\",\"instanceArgs\":{\"imports\":{\"data\":[{\"name\":null,\"type\":\"js\",\"url\":\"\\/assetserver\\/19a5359bdf5fe26635c6a9c98bbe8dc477c9d18e-katex.min.js\"},{\"name\":null,\"type\":\"css\",\"url\":\"\\/assetserver\\/510a04dfddb84bc394dc07fffef4a63cac393c2d-katex.min.css\"}],\"type\":\"async_block\"},\"id\":\"14761318876729057191\",\"handlers\":{\"value\":[\"(function (txt){return this.k.render(txt,this.container)})\"]},\"systemjs_options\":null,\"mount_callbacks\":[\"function () {\\n    var handler = ((function (k){this.k=k; this.container=this.dom.querySelector(\\\"#container\\\"); return k.render(\\\"\\\\\\\\;\\\\\\\\;\\\",this.container)}));\\n    (WebIO.importBlock({\\\"data\\\":[{\\\"name\\\":null,\\\"type\\\":\\\"js\\\",\\\"url\\\":\\\"\\/assetserver\\/19a5359bdf5fe26635c6a9c98bbe8dc477c9d18e-katex.min.js\\\"},{\\\"name\\\":null,\\\"type\\\":\\\"css\\\",\\\"url\\\":\\\"\\/assetserver\\/510a04dfddb84bc394dc07fffef4a63cac393c2d-katex.min.css\\\"}],\\\"type\\\":\\\"async_block\\\"})).then((imports) => handler.apply(this, imports));\\n}\\n\"],\"observables\":{\"value\":{\"sync\":false,\"id\":\"14746278747264876987\",\"value\":\"\\\\;\\\\;\"}}},\"children\":[{\"props\":{\"id\":\"container\"},\"nodeType\":\"DOM\",\"type\":\"node\",\"instanceArgs\":{\"namespace\":\"html\",\"tag\":\"div\"},\"children\":[]}]}]},{\"props\":{\"style\":{\"display\":\"flex\",\"flex-direction\":\"column\"}},\"nodeType\":\"DOM\",\"type\":\"node\",\"instanceArgs\":{\"namespace\":\"html\",\"tag\":\"div\"},\"children\":[]}]}]},\n",
       "        window,\n",
       "    );\n",
       "    })()\n",
       "    </script>\n",
       "</div>\n"
      ],
      "text/plain": [
       "WebIO.Node{WebIO.DOM}(WebIO.DOM(:html, :div), Any[WebIO.Node{WebIO.DOM}(WebIO.DOM(:html, :div), Any[WebIO.Node{WebIO.DOM}(WebIO.DOM(:html, :div), Any[WebIO.Node{WebIO.DOM}(WebIO.DOM(:html, :div), Any[WebIO.Scope(WebIO.Node{WebIO.DOM}(WebIO.DOM(:html, :div), Any[WebIO.Node{WebIO.DOM}(WebIO.DOM(:html, :div), Any[WebIO.Node{WebIO.DOM}(WebIO.DOM(:html, :label), Any[\"time\"], Dict{Symbol, Any}(:className => \"interact \", :style => Dict{Any, Any}(:padding => \"5px 10px 0px 10px\")))], Dict{Symbol, Any}(:className => \"interact-flex-row-left\")), WebIO.Node{WebIO.DOM}(WebIO.DOM(:html, :div), Any[WebIO.Node{WebIO.DOM}(WebIO.DOM(:html, :input), Any[], Dict{Symbol, Any}(:max => 401, :min => 1, :attributes => Dict{Any, Any}(:type => \"range\", Symbol(\"data-bind\") => \"numericValue: index, valueUpdate: 'input', event: {change: function (){this.changes(this.changes()+1)}}\", \"orient\" => \"horizontal\"), :step => 1, :className => \"slider slider is-fullwidth\", :style => Dict{Any, Any}()))], Dict{Symbol, Any}(:className => \"interact-flex-row-center\")), WebIO.Node{WebIO.DOM}(WebIO.DOM(:html, :div), Any[WebIO.Node{WebIO.DOM}(WebIO.DOM(:html, :p), Any[], Dict{Symbol, Any}(:attributes => Dict(\"data-bind\" => \"text: formatted_val\")))], Dict{Symbol, Any}(:className => \"interact-flex-row-right\"))], Dict{Symbol, Any}(:className => \"interact-flex-row interact-widget\")), Dict{String, Tuple{Observables.AbstractObservable, Union{Nothing, Bool}}}(\"changes\" => (Observable{Int64} with 1 listeners. Value:\n",
       "0, nothing), \"index\" => (Observable{Int64} with 2 listeners. Value:\n",
       "201, nothing)), Set{String}(), nothing, WebIO.Asset[WebIO.Asset(\"js\", \"knockout\", \"/home/dushya/.julia/packages/Knockout/3gjS1/src/../assets/knockout.js\"), WebIO.Asset(\"js\", \"knockout_punches\", \"/home/dushya/.julia/packages/Knockout/3gjS1/src/../assets/knockout_punches.js\"), WebIO.Asset(\"js\", nothing, \"/home/dushya/.julia/packages/InteractBase/h8Fwe/src/../assets/all.js\"), WebIO.Asset(\"css\", nothing, \"/home/dushya/.julia/packages/InteractBase/h8Fwe/src/../assets/style.css\"), WebIO.Asset(\"css\", nothing, \"/home/dushya/.julia/packages/Interact/pVyN2/src/../assets/bulma_confined.min.css\")], Dict{Any, Any}(\"changes\" => Any[WebIO.JSString(\"(function (val){return (val!=this.model[\\\"changes\\\"]()) ? (this.valueFromJulia[\\\"changes\\\"]=true, this.model[\\\"changes\\\"](val)) : undefined})\")], \"index\" => Any[WebIO.JSString(\"(function (val){return (val!=this.model[\\\"index\\\"]()) ? (this.valueFromJulia[\\\"index\\\"]=true, this.model[\\\"index\\\"](val)) : undefined})\")]), WebIO.ConnectionPool(Channel{Any}(32), Set{WebIO.AbstractConnection}(), Condition(Base.InvasiveLinkedList{Task}(Task (runnable) @0x00007ff550f8db60, Task (runnable) @0x00007ff550f8db60), Base.AlwaysLockedST(1))), WebIO.JSString[WebIO.JSString(\"function () {\\n    var handler = (function (ko, koPunches) {\\n    ko.punches.enableAll();\\n    ko.bindingHandlers.numericValue = {\\n        init: function(element, valueAccessor, allBindings, data, context) {\\n            var stringified = ko.observable(ko.unwrap(valueAccessor()));\\n            stringified.subscribe(function(value) {\\n                var val = parseFloat(value);\\n                if (!isNaN(val)) {\\n                    valueAccessor()(val);\\n                }\\n            });\\n            valueAccessor().subscribe(function(value) {\\n                var str = JSON.stringify(value);\\n                if ((str == \\\"0\\\") && ([\\\"-0\\\", \\\"-0.\\\"].indexOf(stringified()) >= 0))\\n                     return;\\n                 if ([\\\"null\\\", \\\"\\\"].indexOf(str) >= 0)\\n                     return;\\n                stringified(str);\\n            });\\n            ko.applyBindingsToNode(\\n                element,\\n                {\\n                    value: stringified,\\n                    valueUpdate: allBindings.get('valueUpdate'),\\n                },\\n                context,\\n            );\\n        }\\n    };\\n    var json_data = {\\\"formatted_vals\\\":[\\\"1\\\",\\\"2\\\",\\\"3\\\",\\\"4\\\",\\\"5\\\",\\\"6\\\",\\\"7\\\",\\\"8\\\",\\\"9\\\",\\\"10\\\",\\\"11\\\",\\\"12\\\",\\\"13\\\",\\\"14\\\",\\\"15\\\",\\\"16\\\",\\\"17\\\",\\\"18\\\",\\\"19\\\",\\\"20\\\",\\\"21\\\",\\\"22\\\",\\\"23\\\",\\\"24\\\",\\\"25\\\",\\\"26\\\",\\\"27\\\",\\\"28\\\",\\\"29\\\",\\\"30\\\",\\\"31\\\",\\\"32\\\",\\\"33\\\",\\\"34\\\",\\\"35\\\",\\\"36\\\",\\\"37\\\",\\\"38\\\",\\\"39\\\",\\\"40\\\",\\\"41\\\",\\\"42\\\",\\\"43\\\",\\\"44\\\",\\\"45\\\",\\\"46\\\",\\\"47\\\",\\\"48\\\",\\\"49\\\",\\\"50\\\",\\\"51\\\",\\\"52\\\",\\\"53\\\",\\\"54\\\",\\\"55\\\",\\\"56\\\",\\\"57\\\",\\\"58\\\",\\\"59\\\",\\\"60\\\",\\\"61\\\",\\\"62\\\",\\\"63\\\",\\\"64\\\",\\\"65\\\",\\\"66\\\",\\\"67\\\",\\\"68\\\",\\\"69\\\",\\\"70\\\",\\\"71\\\",\\\"72\\\",\\\"73\\\",\\\"74\\\",\\\"75\\\",\\\"76\\\",\\\"77\\\",\\\"78\\\",\\\"79\\\",\\\"80\\\",\\\"81\\\",\\\"82\\\",\\\"83\\\",\\\"84\\\",\\\"85\\\",\\\"86\\\",\\\"87\\\",\\\"88\\\",\\\"89\\\",\\\"90\\\",\\\"91\\\",\\\"92\\\",\\\"93\\\",\\\"94\\\",\\\"95\\\",\\\"96\\\",\\\"97\\\",\\\"98\\\",\\\"99\\\",\\\"100\\\",\\\"101\\\",\\\"102\\\",\\\"103\\\",\\\"104\\\",\\\"105\\\",\\\"106\\\",\\\"107\\\",\\\"108\\\",\\\"109\\\",\\\"110\\\",\\\"111\\\",\\\"112\\\",\\\"113\\\",\\\"114\\\",\\\"115\\\",\\\"116\\\",\\\"117\\\",\\\"118\\\",\\\"119\\\",\\\"120\\\",\\\"121\\\",\\\"122\\\",\\\"123\\\",\\\"124\\\",\\\"125\\\",\\\"126\\\",\\\"127\\\",\\\"128\\\",\\\"129\\\",\\\"130\\\",\\\"131\\\",\\\"132\\\",\\\"133\\\",\\\"134\\\",\\\"135\\\",\\\"136\\\",\\\"137\\\",\\\"138\\\",\\\"139\\\",\\\"140\\\",\\\"141\\\",\\\"142\\\",\\\"143\\\",\\\"144\\\",\\\"145\\\",\\\"146\\\",\\\"147\\\",\\\"148\\\",\\\"149\\\",\\\"150\\\",\\\"151\\\",\\\"152\\\",\\\"153\\\",\\\"154\\\",\\\"155\\\",\\\"156\\\",\\\"157\\\",\\\"158\\\",\\\"159\\\",\\\"160\\\",\\\"161\\\",\\\"162\\\",\\\"163\\\",\\\"164\\\",\\\"165\\\",\\\"166\\\",\\\"167\\\",\\\"168\\\",\\\"169\\\",\\\"170\\\",\\\"171\\\",\\\"172\\\",\\\"173\\\",\\\"174\\\",\\\"175\\\",\\\"176\\\",\\\"177\\\",\\\"178\\\",\\\"179\\\",\\\"180\\\",\\\"181\\\",\\\"182\\\",\\\"183\\\",\\\"184\\\",\\\"185\\\",\\\"186\\\",\\\"187\\\",\\\"188\\\",\\\"189\\\",\\\"190\\\",\\\"191\\\",\\\"192\\\",\\\"193\\\",\\\"194\\\",\\\"195\\\",\\\"196\\\",\\\"197\\\",\\\"198\\\",\\\"199\\\",\\\"200\\\",\\\"201\\\",\\\"202\\\",\\\"203\\\",\\\"204\\\",\\\"205\\\",\\\"206\\\",\\\"207\\\",\\\"208\\\",\\\"209\\\",\\\"210\\\",\\\"211\\\",\\\"212\\\",\\\"213\\\",\\\"214\\\",\\\"215\\\",\\\"216\\\",\\\"217\\\",\\\"218\\\",\\\"219\\\",\\\"220\\\",\\\"221\\\",\\\"222\\\",\\\"223\\\",\\\"224\\\",\\\"225\\\",\\\"226\\\",\\\"227\\\",\\\"228\\\",\\\"229\\\",\\\"230\\\",\\\"231\\\",\\\"232\\\",\\\"233\\\",\\\"234\\\",\\\"235\\\",\\\"236\\\",\\\"237\\\",\\\"238\\\",\\\"239\\\",\\\"240\\\",\\\"241\\\",\\\"242\\\",\\\"243\\\",\\\"244\\\",\\\"245\\\",\\\"246\\\",\\\"247\\\",\\\"248\\\",\\\"249\\\",\\\"250\\\",\\\"251\\\",\\\"252\\\",\\\"253\\\",\\\"254\\\",\\\"255\\\",\\\"256\\\",\\\"257\\\",\\\"258\\\",\\\"259\\\",\\\"260\\\",\\\"261\\\",\\\"262\\\",\\\"263\\\",\\\"264\\\",\\\"265\\\",\\\"266\\\",\\\"267\\\",\\\"268\\\",\\\"269\\\",\\\"270\\\",\\\"271\\\",\\\"272\\\",\\\"273\\\",\\\"274\\\",\\\"275\\\",\\\"276\\\",\\\"277\\\",\\\"278\\\",\\\"279\\\",\\\"280\\\",\\\"281\\\",\\\"282\\\",\\\"283\\\",\\\"284\\\",\\\"285\\\",\\\"286\\\",\\\"287\\\",\\\"288\\\",\\\"289\\\",\\\"290\\\",\\\"291\\\",\\\"292\\\",\\\"293\\\",\\\"294\\\",\\\"295\\\",\\\"296\\\",\\\"297\\\",\\\"298\\\",\\\"299\\\",\\\"300\\\",\\\"301\\\",\\\"302\\\",\\\"303\\\",\\\"304\\\",\\\"305\\\",\\\"306\\\",\\\"307\\\",\\\"308\\\",\\\"309\\\",\\\"310\\\",\\\"311\\\",\\\"312\\\",\\\"313\\\",\\\"314\\\",\\\"315\\\",\\\"316\\\",\\\"317\\\",\\\"318\\\",\\\"319\\\",\\\"320\\\",\\\"321\\\",\\\"322\\\",\\\"323\\\",\\\"324\\\",\\\"325\\\",\\\"326\\\",\\\"327\\\",\\\"328\\\",\\\"329\\\",\\\"330\\\",\\\"331\\\",\\\"332\\\",\\\"333\\\",\\\"334\\\",\\\"335\\\",\\\"336\\\",\\\"337\\\",\\\"338\\\",\\\"339\\\",\\\"340\\\",\\\"341\\\",\\\"342\\\",\\\"343\\\",\\\"344\\\",\\\"345\\\",\\\"346\\\",\\\"347\\\",\\\"348\\\",\\\"349\\\",\\\"350\\\",\\\"351\\\",\\\"352\\\",\\\"353\\\",\\\"354\\\",\\\"355\\\",\\\"356\\\",\\\"357\\\",\\\"358\\\",\\\"359\\\",\\\"360\\\",\\\"361\\\",\\\"362\\\",\\\"363\\\",\\\"364\\\",\\\"365\\\",\\\"366\\\",\\\"367\\\",\\\"368\\\",\\\"369\\\",\\\"370\\\",\\\"371\\\",\\\"372\\\",\\\"373\\\",\\\"374\\\",\\\"375\\\",\\\"376\\\",\\\"377\\\",\\\"378\\\",\\\"379\\\",\\\"380\\\",\\\"381\\\",\\\"382\\\",\\\"383\\\",\\\"384\\\",\\\"385\\\",\\\"386\\\",\\\"387\\\",\\\"388\\\",\\\"389\\\",\\\"390\\\",\\\"391\\\",\\\"392\\\",\\\"393\\\",\\\"394\\\",\\\"395\\\",\\\"396\\\",\\\"397\\\",\\\"398\\\",\\\"399\\\",\\\"400\\\",\\\"401\\\"],\\\"changes\\\":WebIO.getval({\\\"name\\\":\\\"changes\\\",\\\"scope\\\":\\\"9921776781502583542\\\",\\\"id\\\":\\\"14188553866119204093\\\",\\\"type\\\":\\\"observable\\\"}),\\\"index\\\":WebIO.getval({\\\"name\\\":\\\"index\\\",\\\"scope\\\":\\\"9921776781502583542\\\",\\\"id\\\":\\\"1280384691156925769\\\",\\\"type\\\":\\\"observable\\\"})};\\n    var self = this;\\n    function AppViewModel() {\\n        for (var key in json_data) {\\n            var el = json_data[key];\\n            this[key] = Array.isArray(el) ? ko.observableArray(el) : ko.observable(el);\\n        }\\n        \\n        [this[\\\"formatted_val\\\"]=ko.computed(    function(){\\n        return this.formatted_vals()[parseInt(this.index())-(1)];\\n    }\\n,this)]\\n        [this[\\\"changes\\\"].subscribe((function (val){!(this.valueFromJulia[\\\"changes\\\"]) ? (WebIO.setval({\\\"name\\\":\\\"changes\\\",\\\"scope\\\":\\\"9921776781502583542\\\",\\\"id\\\":\\\"14188553866119204093\\\",\\\"type\\\":\\\"observable\\\"},val)) : undefined; return this.valueFromJulia[\\\"changes\\\"]=false}),self),this[\\\"index\\\"].subscribe((function (val){!(this.valueFromJulia[\\\"index\\\"]) ? (WebIO.setval({\\\"name\\\":\\\"index\\\",\\\"scope\\\":\\\"9921776781502583542\\\",\\\"id\\\":\\\"1280384691156925769\\\",\\\"type\\\":\\\"observable\\\"},val)) : undefined; return this.valueFromJulia[\\\"index\\\"]=false}),self)]\\n        \\n    }\\n    self.model = new AppViewModel();\\n    self.valueFromJulia = {};\\n    for (var key in json_data) {\\n        self.valueFromJulia[key] = false;\\n    }\\n    ko.applyBindings(self.model, self.dom);\\n}\\n);\\n    (WebIO.importBlock({\\\"data\\\":[{\\\"name\\\":\\\"knockout\\\",\\\"type\\\":\\\"js\\\",\\\"url\\\":\\\"/assetserver/c1499ba55a1bc421a61388a1d89a415fc6dcc13c-knockout.js\\\"},{\\\"name\\\":\\\"knockout_punches\\\",\\\"type\\\":\\\"js\\\",\\\"url\\\":\\\"/assetserver/f9c6b7aff92992a2d2baddb2c82a79fb8b3956c2-knockout_punches.js\\\"}],\\\"type\\\":\\\"async_block\\\"})).then((imports) => handler.apply(this, imports));\\n}\\n\")])], Dict{Symbol, Any}(:className => \"field interact-widget\")), WebIO.Node{WebIO.DOM}(WebIO.DOM(:html, :div), Any[WebIO.Scope(WebIO.Node{WebIO.DOM}(WebIO.DOM(:html, :div), Any[WebIO.Node{WebIO.DOM}(WebIO.DOM(:html, :div), Any[WebIO.Node{WebIO.DOM}(WebIO.DOM(:html, :label), Any[\"scale\"], Dict{Symbol, Any}(:className => \"interact \", :style => Dict{Any, Any}(:padding => \"5px 10px 0px 10px\")))], Dict{Symbol, Any}(:className => \"interact-flex-row-left\")), WebIO.Node{WebIO.DOM}(WebIO.DOM(:html, :div), Any[WebIO.Node{WebIO.DOM}(WebIO.DOM(:html, :input), Any[], Dict{Symbol, Any}(:max => 20, :min => 1, :attributes => Dict{Any, Any}(:type => \"range\", Symbol(\"data-bind\") => \"numericValue: index, valueUpdate: 'input', event: {change: function (){this.changes(this.changes()+1)}}\", \"orient\" => \"horizontal\"), :step => 1, :className => \"slider slider is-fullwidth\", :style => Dict{Any, Any}()))], Dict{Symbol, Any}(:className => \"interact-flex-row-center\")), WebIO.Node{WebIO.DOM}(WebIO.DOM(:html, :div), Any[WebIO.Node{WebIO.DOM}(WebIO.DOM(:html, :p), Any[], Dict{Symbol, Any}(:attributes => Dict(\"data-bind\" => \"text: formatted_val\")))], Dict{Symbol, Any}(:className => \"interact-flex-row-right\"))], Dict{Symbol, Any}(:className => \"interact-flex-row interact-widget\")), Dict{String, Tuple{Observables.AbstractObservable, Union{Nothing, Bool}}}(\"changes\" => (Observable{Int64} with 1 listeners. Value:\n",
       "0, nothing), \"index\" => (Observable{Any} with 2 listeners. Value:\n",
       "10, nothing)), Set{String}(), nothing, WebIO.Asset[WebIO.Asset(\"js\", \"knockout\", \"/home/dushya/.julia/packages/Knockout/3gjS1/src/../assets/knockout.js\"), WebIO.Asset(\"js\", \"knockout_punches\", \"/home/dushya/.julia/packages/Knockout/3gjS1/src/../assets/knockout_punches.js\"), WebIO.Asset(\"js\", nothing, \"/home/dushya/.julia/packages/InteractBase/h8Fwe/src/../assets/all.js\"), WebIO.Asset(\"css\", nothing, \"/home/dushya/.julia/packages/InteractBase/h8Fwe/src/../assets/style.css\"), WebIO.Asset(\"css\", nothing, \"/home/dushya/.julia/packages/Interact/pVyN2/src/../assets/bulma_confined.min.css\")], Dict{Any, Any}(\"changes\" => Any[WebIO.JSString(\"(function (val){return (val!=this.model[\\\"changes\\\"]()) ? (this.valueFromJulia[\\\"changes\\\"]=true, this.model[\\\"changes\\\"](val)) : undefined})\")], \"index\" => Any[WebIO.JSString(\"(function (val){return (val!=this.model[\\\"index\\\"]()) ? (this.valueFromJulia[\\\"index\\\"]=true, this.model[\\\"index\\\"](val)) : undefined})\")]), WebIO.ConnectionPool(Channel{Any}(32), Set{WebIO.AbstractConnection}(), Condition(Base.InvasiveLinkedList{Task}(Task (runnable) @0x00007ff550f8fc70, Task (runnable) @0x00007ff550f8fc70), Base.AlwaysLockedST(1))), WebIO.JSString[WebIO.JSString(\"function () {\\n    var handler = (function (ko, koPunches) {\\n    ko.punches.enableAll();\\n    ko.bindingHandlers.numericValue = {\\n        init: function(element, valueAccessor, allBindings, data, context) {\\n            var stringified = ko.observable(ko.unwrap(valueAccessor()));\\n            stringified.subscribe(function(value) {\\n                var val = parseFloat(value);\\n                if (!isNaN(val)) {\\n                    valueAccessor()(val);\\n                }\\n            });\\n            valueAccessor().subscribe(function(value) {\\n                var str = JSON.stringify(value);\\n                if ((str == \\\"0\\\") && ([\\\"-0\\\", \\\"-0.\\\"].indexOf(stringified()) >= 0))\\n                     return;\\n                 if ([\\\"null\\\", \\\"\\\"].indexOf(str) >= 0)\\n                     return;\\n                stringified(str);\\n            });\\n            ko.applyBindingsToNode(\\n                element,\\n                {\\n                    value: stringified,\\n                    valueUpdate: allBindings.get('valueUpdate'),\\n                },\\n                context,\\n            );\\n        }\\n    };\\n    var json_data = {\\\"formatted_vals\\\":[\\\"0.1\\\",\\\"0.2\\\",\\\"0.3\\\",\\\"0.4\\\",\\\"0.5\\\",\\\"0.6\\\",\\\"0.7\\\",\\\"0.8\\\",\\\"0.9\\\",\\\"1.0\\\",\\\"1.1\\\",\\\"1.2\\\",\\\"1.3\\\",\\\"1.4\\\",\\\"1.5\\\",\\\"1.6\\\",\\\"1.7\\\",\\\"1.8\\\",\\\"1.9\\\",\\\"2.0\\\"],\\\"changes\\\":WebIO.getval({\\\"name\\\":\\\"changes\\\",\\\"scope\\\":\\\"5102104753318874578\\\",\\\"id\\\":\\\"1967488895157235893\\\",\\\"type\\\":\\\"observable\\\"}),\\\"index\\\":WebIO.getval({\\\"name\\\":\\\"index\\\",\\\"scope\\\":\\\"5102104753318874578\\\",\\\"id\\\":\\\"17895971362182939400\\\",\\\"type\\\":\\\"observable\\\"})};\\n    var self = this;\\n    function AppViewModel() {\\n        for (var key in json_data) {\\n            var el = json_data[key];\\n            this[key] = Array.isArray(el) ? ko.observableArray(el) : ko.observable(el);\\n        }\\n        \\n        [this[\\\"formatted_val\\\"]=ko.computed(    function(){\\n        return this.formatted_vals()[parseInt(this.index())-(1)];\\n    }\\n,this)]\\n        [this[\\\"changes\\\"].subscribe((function (val){!(this.valueFromJulia[\\\"changes\\\"]) ? (WebIO.setval({\\\"name\\\":\\\"changes\\\",\\\"scope\\\":\\\"5102104753318874578\\\",\\\"id\\\":\\\"1967488895157235893\\\",\\\"type\\\":\\\"observable\\\"},val)) : undefined; return this.valueFromJulia[\\\"changes\\\"]=false}),self),this[\\\"index\\\"].subscribe((function (val){!(this.valueFromJulia[\\\"index\\\"]) ? (WebIO.setval({\\\"name\\\":\\\"index\\\",\\\"scope\\\":\\\"5102104753318874578\\\",\\\"id\\\":\\\"17895971362182939400\\\",\\\"type\\\":\\\"observable\\\"},val)) : undefined; return this.valueFromJulia[\\\"index\\\"]=false}),self)]\\n        \\n    }\\n    self.model = new AppViewModel();\\n    self.valueFromJulia = {};\\n    for (var key in json_data) {\\n        self.valueFromJulia[key] = false;\\n    }\\n    ko.applyBindings(self.model, self.dom);\\n}\\n);\\n    (WebIO.importBlock({\\\"data\\\":[{\\\"name\\\":\\\"knockout\\\",\\\"type\\\":\\\"js\\\",\\\"url\\\":\\\"/assetserver/c1499ba55a1bc421a61388a1d89a415fc6dcc13c-knockout.js\\\"},{\\\"name\\\":\\\"knockout_punches\\\",\\\"type\\\":\\\"js\\\",\\\"url\\\":\\\"/assetserver/f9c6b7aff92992a2d2baddb2c82a79fb8b3956c2-knockout_punches.js\\\"}],\\\"type\\\":\\\"async_block\\\"})).then((imports) => handler.apply(this, imports));\\n}\\n\")])], Dict{Symbol, Any}(:className => \"field interact-widget\")), WebIO.Node{WebIO.DOM}(WebIO.DOM(:html, :div), Any[WebIO.Node{WebIO.DOM}(WebIO.DOM(:html, :div), Any[WebIO.Scope(WebIO.Node{WebIO.DOM}(WebIO.DOM(:html, :div), Any[], Dict{Symbol, Any}(:id => \"container\")), Dict{String, Tuple{Observables.AbstractObservable, Union{Nothing, Bool}}}(\"value\" => (Observable{String} with 1 listeners. Value:\n",
       "\"\\\\;\\\\;\", nothing)), Set{String}(), nothing, WebIO.Asset[WebIO.Asset(\"js\", nothing, \"/home/dushya/.julia/packages/InteractBase/h8Fwe/src/../assets/katex.min.js\"), WebIO.Asset(\"css\", nothing, \"/home/dushya/.julia/packages/InteractBase/h8Fwe/src/../assets/katex.min.css\")], Dict{Any, Any}(\"value\" => Any[WebIO.JSString(\"(function (txt){return this.k.render(txt,this.container)})\")]), WebIO.ConnectionPool(Channel{Any}(32), Set{WebIO.AbstractConnection}(), Condition(Base.InvasiveLinkedList{Task}(Task (runnable) @0x00007ff553278fe0, Task (runnable) @0x00007ff553278fe0), Base.AlwaysLockedST(1))), WebIO.JSString[WebIO.JSString(\"function () {\\n    var handler = ((function (k){this.k=k; this.container=this.dom.querySelector(\\\"#container\\\"); return k.render(\\\"\\\\\\\\;\\\\\\\\;\\\",this.container)}));\\n    (WebIO.importBlock({\\\"data\\\":[{\\\"name\\\":null,\\\"type\\\":\\\"js\\\",\\\"url\\\":\\\"/assetserver/19a5359bdf5fe26635c6a9c98bbe8dc477c9d18e-katex.min.js\\\"},{\\\"name\\\":null,\\\"type\\\":\\\"css\\\",\\\"url\\\":\\\"/assetserver/510a04dfddb84bc394dc07fffef4a63cac393c2d-katex.min.css\\\"}],\\\"type\\\":\\\"async_block\\\"})).then((imports) => handler.apply(this, imports));\\n}\\n\")])], Dict{Symbol, Any}(:className => \"interact-widget\")), WebIO.Node{WebIO.DOM}(WebIO.DOM(:html, :div), Any[WebIO.Scope(WebIO.Node{WebIO.DOM}(WebIO.DOM(:html, :button), Any[\"run\"], Dict{Symbol, Any}(:attributes => Dict{Any, Any}(\"data-bind\" => \"click: function (){this.clicks(this.clicks()+1)}, css: {'is-loading' : loading}\"), :className => \"is-medium button is-primary\", :style => Dict{String, Any}())), Dict{String, Tuple{Observables.AbstractObservable, Union{Nothing, Bool}}}(\"loading\" => (Observable{Bool} with 1 listeners. Value:\n",
       "false, nothing), \"clicks\" => (Observable{Int64} with 2 listeners. Value:\n",
       "0, nothing)), Set{String}(), nothing, WebIO.Asset[WebIO.Asset(\"js\", \"knockout\", \"/home/dushya/.julia/packages/Knockout/3gjS1/src/../assets/knockout.js\"), WebIO.Asset(\"js\", \"knockout_punches\", \"/home/dushya/.julia/packages/Knockout/3gjS1/src/../assets/knockout_punches.js\"), WebIO.Asset(\"js\", nothing, \"/home/dushya/.julia/packages/InteractBase/h8Fwe/src/../assets/all.js\"), WebIO.Asset(\"css\", nothing, \"/home/dushya/.julia/packages/InteractBase/h8Fwe/src/../assets/style.css\"), WebIO.Asset(\"css\", nothing, \"/home/dushya/.julia/packages/Interact/pVyN2/src/../assets/bulma_confined.min.css\")], Dict{Any, Any}(\"loading\" => Any[WebIO.JSString(\"(function (val){return (val!=this.model[\\\"loading\\\"]()) ? (this.valueFromJulia[\\\"loading\\\"]=true, this.model[\\\"loading\\\"](val)) : undefined})\")], \"clicks\" => Any[WebIO.JSString(\"(function (val){return (val!=this.model[\\\"clicks\\\"]()) ? (this.valueFromJulia[\\\"clicks\\\"]=true, this.model[\\\"clicks\\\"](val)) : undefined})\")]), WebIO.ConnectionPool(Channel{Any}(32), Set{WebIO.AbstractConnection}(), Condition(Base.InvasiveLinkedList{Task}(Task (runnable) @0x00007ff55169c010, Task (runnable) @0x00007ff55169c010), Base.AlwaysLockedST(1))), WebIO.JSString[WebIO.JSString(\"function () {\\n    var handler = (function (ko, koPunches) {\\n    ko.punches.enableAll();\\n    ko.bindingHandlers.numericValue = {\\n        init: function(element, valueAccessor, allBindings, data, context) {\\n            var stringified = ko.observable(ko.unwrap(valueAccessor()));\\n            stringified.subscribe(function(value) {\\n                var val = parseFloat(value);\\n                if (!isNaN(val)) {\\n                    valueAccessor()(val);\\n                }\\n            });\\n            valueAccessor().subscribe(function(value) {\\n                var str = JSON.stringify(value);\\n                if ((str == \\\"0\\\") && ([\\\"-0\\\", \\\"-0.\\\"].indexOf(stringified()) >= 0))\\n                     return;\\n                 if ([\\\"null\\\", \\\"\\\"].indexOf(str) >= 0)\\n                     return;\\n                stringified(str);\\n            });\\n            ko.applyBindingsToNode(\\n                element,\\n                {\\n                    value: stringified,\\n                    valueUpdate: allBindings.get('valueUpdate'),\\n                },\\n                context,\\n            );\\n        }\\n    };\\n    var json_data = {\\\"loading\\\":WebIO.getval({\\\"name\\\":\\\"loading\\\",\\\"scope\\\":\\\"2055337222202791500\\\",\\\"id\\\":\\\"5189185786411892866\\\",\\\"type\\\":\\\"observable\\\"}),\\\"clicks\\\":WebIO.getval({\\\"name\\\":\\\"clicks\\\",\\\"scope\\\":\\\"2055337222202791500\\\",\\\"id\\\":\\\"14124968144432450532\\\",\\\"type\\\":\\\"observable\\\"})};\\n    var self = this;\\n    function AppViewModel() {\\n        for (var key in json_data) {\\n            var el = json_data[key];\\n            this[key] = Array.isArray(el) ? ko.observableArray(el) : ko.observable(el);\\n        }\\n        \\n        \\n        [this[\\\"loading\\\"].subscribe((function (val){!(this.valueFromJulia[\\\"loading\\\"]) ? (WebIO.setval({\\\"name\\\":\\\"loading\\\",\\\"scope\\\":\\\"2055337222202791500\\\",\\\"id\\\":\\\"5189185786411892866\\\",\\\"type\\\":\\\"observable\\\"},val)) : undefined; return this.valueFromJulia[\\\"loading\\\"]=false}),self),this[\\\"clicks\\\"].subscribe((function (val){!(this.valueFromJulia[\\\"clicks\\\"]) ? (WebIO.setval({\\\"name\\\":\\\"clicks\\\",\\\"scope\\\":\\\"2055337222202791500\\\",\\\"id\\\":\\\"14124968144432450532\\\",\\\"type\\\":\\\"observable\\\"},val)) : undefined; return this.valueFromJulia[\\\"clicks\\\"]=false}),self)]\\n        \\n    }\\n    self.model = new AppViewModel();\\n    self.valueFromJulia = {};\\n    for (var key in json_data) {\\n        self.valueFromJulia[key] = false;\\n    }\\n    ko.applyBindings(self.model, self.dom);\\n}\\n);\\n    (WebIO.importBlock({\\\"data\\\":[{\\\"name\\\":\\\"knockout\\\",\\\"type\\\":\\\"js\\\",\\\"url\\\":\\\"/assetserver/c1499ba55a1bc421a61388a1d89a415fc6dcc13c-knockout.js\\\"},{\\\"name\\\":\\\"knockout_punches\\\",\\\"type\\\":\\\"js\\\",\\\"url\\\":\\\"/assetserver/f9c6b7aff92992a2d2baddb2c82a79fb8b3956c2-knockout_punches.js\\\"}],\\\"type\\\":\\\"async_block\\\"})).then((imports) => handler.apply(this, imports));\\n}\\n\")])], Dict{Symbol, Any}(:className => \"field interact-widget\")), WebIO.Node{WebIO.DOM}(WebIO.DOM(:html, :div), Any[WebIO.Scope(WebIO.Node{WebIO.DOM}(WebIO.DOM(:html, :div), Any[], Dict{Symbol, Any}(:id => \"container\")), Dict{String, Tuple{Observables.AbstractObservable, Union{Nothing, Bool}}}(\"value\" => (Observable{String} with 1 listeners. Value:\n",
       "\"\\\\;\\\\;\", nothing)), Set{String}(), nothing, WebIO.Asset[WebIO.Asset(\"js\", nothing, \"/home/dushya/.julia/packages/InteractBase/h8Fwe/src/../assets/katex.min.js\"), WebIO.Asset(\"css\", nothing, \"/home/dushya/.julia/packages/InteractBase/h8Fwe/src/../assets/katex.min.css\")], Dict{Any, Any}(\"value\" => Any[WebIO.JSString(\"(function (txt){return this.k.render(txt,this.container)})\")]), WebIO.ConnectionPool(Channel{Any}(32), Set{WebIO.AbstractConnection}(), Condition(Base.InvasiveLinkedList{Task}(Task (runnable) @0x00007ff553278fe0, Task (runnable) @0x00007ff553278fe0), Base.AlwaysLockedST(1))), WebIO.JSString[WebIO.JSString(\"function () {\\n    var handler = ((function (k){this.k=k; this.container=this.dom.querySelector(\\\"#container\\\"); return k.render(\\\"\\\\\\\\;\\\\\\\\;\\\",this.container)}));\\n    (WebIO.importBlock({\\\"data\\\":[{\\\"name\\\":null,\\\"type\\\":\\\"js\\\",\\\"url\\\":\\\"/assetserver/19a5359bdf5fe26635c6a9c98bbe8dc477c9d18e-katex.min.js\\\"},{\\\"name\\\":null,\\\"type\\\":\\\"css\\\",\\\"url\\\":\\\"/assetserver/510a04dfddb84bc394dc07fffef4a63cac393c2d-katex.min.css\\\"}],\\\"type\\\":\\\"async_block\\\"})).then((imports) => handler.apply(this, imports));\\n}\\n\")])], Dict{Symbol, Any}(:className => \"interact-widget\")), WebIO.Node{WebIO.DOM}(WebIO.DOM(:html, :div), Any[WebIO.Scope(WebIO.Node{WebIO.DOM}(WebIO.DOM(:html, :button), Any[\"stop\"], Dict{Symbol, Any}(:attributes => Dict{Any, Any}(\"data-bind\" => \"click: function (){this.clicks(this.clicks()+1)}, css: {'is-loading' : loading}\"), :className => \"is-medium button is-primary\", :style => Dict{String, Any}())), Dict{String, Tuple{Observables.AbstractObservable, Union{Nothing, Bool}}}(\"loading\" => (Observable{Bool} with 1 listeners. Value:\n",
       "false, nothing), \"clicks\" => (Observable{Int64} with 2 listeners. Value:\n",
       "0, nothing)), Set{String}(), nothing, WebIO.Asset[WebIO.Asset(\"js\", \"knockout\", \"/home/dushya/.julia/packages/Knockout/3gjS1/src/../assets/knockout.js\"), WebIO.Asset(\"js\", \"knockout_punches\", \"/home/dushya/.julia/packages/Knockout/3gjS1/src/../assets/knockout_punches.js\"), WebIO.Asset(\"js\", nothing, \"/home/dushya/.julia/packages/InteractBase/h8Fwe/src/../assets/all.js\"), WebIO.Asset(\"css\", nothing, \"/home/dushya/.julia/packages/InteractBase/h8Fwe/src/../assets/style.css\"), WebIO.Asset(\"css\", nothing, \"/home/dushya/.julia/packages/Interact/pVyN2/src/../assets/bulma_confined.min.css\")], Dict{Any, Any}(\"loading\" => Any[WebIO.JSString(\"(function (val){return (val!=this.model[\\\"loading\\\"]()) ? (this.valueFromJulia[\\\"loading\\\"]=true, this.model[\\\"loading\\\"](val)) : undefined})\")], \"clicks\" => Any[WebIO.JSString(\"(function (val){return (val!=this.model[\\\"clicks\\\"]()) ? (this.valueFromJulia[\\\"clicks\\\"]=true, this.model[\\\"clicks\\\"](val)) : undefined})\")]), WebIO.ConnectionPool(Channel{Any}(32), Set{WebIO.AbstractConnection}(), Condition(Base.InvasiveLinkedList{Task}(Task (runnable) @0x00007ff55169c2f0, Task (runnable) @0x00007ff55169c2f0), Base.AlwaysLockedST(1))), WebIO.JSString[WebIO.JSString(\"function () {\\n    var handler = (function (ko, koPunches) {\\n    ko.punches.enableAll();\\n    ko.bindingHandlers.numericValue = {\\n        init: function(element, valueAccessor, allBindings, data, context) {\\n            var stringified = ko.observable(ko.unwrap(valueAccessor()));\\n            stringified.subscribe(function(value) {\\n                var val = parseFloat(value);\\n                if (!isNaN(val)) {\\n                    valueAccessor()(val);\\n                }\\n            });\\n            valueAccessor().subscribe(function(value) {\\n                var str = JSON.stringify(value);\\n                if ((str == \\\"0\\\") && ([\\\"-0\\\", \\\"-0.\\\"].indexOf(stringified()) >= 0))\\n                     return;\\n                 if ([\\\"null\\\", \\\"\\\"].indexOf(str) >= 0)\\n                     return;\\n                stringified(str);\\n            });\\n            ko.applyBindingsToNode(\\n                element,\\n                {\\n                    value: stringified,\\n                    valueUpdate: allBindings.get('valueUpdate'),\\n                },\\n                context,\\n            );\\n        }\\n    };\\n    var json_data = {\\\"loading\\\":WebIO.getval({\\\"name\\\":\\\"loading\\\",\\\"scope\\\":\\\"9498922321694591842\\\",\\\"id\\\":\\\"13831241691768943334\\\",\\\"type\\\":\\\"observable\\\"}),\\\"clicks\\\":WebIO.getval({\\\"name\\\":\\\"clicks\\\",\\\"scope\\\":\\\"9498922321694591842\\\",\\\"id\\\":\\\"14819567203806148380\\\",\\\"type\\\":\\\"observable\\\"})};\\n    var self = this;\\n    function AppViewModel() {\\n        for (var key in json_data) {\\n            var el = json_data[key];\\n            this[key] = Array.isArray(el) ? ko.observableArray(el) : ko.observable(el);\\n        }\\n        \\n        \\n        [this[\\\"loading\\\"].subscribe((function (val){!(this.valueFromJulia[\\\"loading\\\"]) ? (WebIO.setval({\\\"name\\\":\\\"loading\\\",\\\"scope\\\":\\\"9498922321694591842\\\",\\\"id\\\":\\\"13831241691768943334\\\",\\\"type\\\":\\\"observable\\\"},val)) : undefined; return this.valueFromJulia[\\\"loading\\\"]=false}),self),this[\\\"clicks\\\"].subscribe((function (val){!(this.valueFromJulia[\\\"clicks\\\"]) ? (WebIO.setval({\\\"name\\\":\\\"clicks\\\",\\\"scope\\\":\\\"9498922321694591842\\\",\\\"id\\\":\\\"14819567203806148380\\\",\\\"type\\\":\\\"observable\\\"},val)) : undefined; return this.valueFromJulia[\\\"clicks\\\"]=false}),self)]\\n        \\n    }\\n    self.model = new AppViewModel();\\n    self.valueFromJulia = {};\\n    for (var key in json_data) {\\n        self.valueFromJulia[key] = false;\\n    }\\n    ko.applyBindings(self.model, self.dom);\\n}\\n);\\n    (WebIO.importBlock({\\\"data\\\":[{\\\"name\\\":\\\"knockout\\\",\\\"type\\\":\\\"js\\\",\\\"url\\\":\\\"/assetserver/c1499ba55a1bc421a61388a1d89a415fc6dcc13c-knockout.js\\\"},{\\\"name\\\":\\\"knockout_punches\\\",\\\"type\\\":\\\"js\\\",\\\"url\\\":\\\"/assetserver/f9c6b7aff92992a2d2baddb2c82a79fb8b3956c2-knockout_punches.js\\\"}],\\\"type\\\":\\\"async_block\\\"})).then((imports) => handler.apply(this, imports));\\n}\\n\")])], Dict{Symbol, Any}(:className => \"field interact-widget\")), WebIO.Node{WebIO.DOM}(WebIO.DOM(:html, :div), Any[WebIO.Scope(WebIO.Node{WebIO.DOM}(WebIO.DOM(:html, :div), Any[], Dict{Symbol, Any}(:id => \"container\")), Dict{String, Tuple{Observables.AbstractObservable, Union{Nothing, Bool}}}(\"value\" => (Observable{String} with 1 listeners. Value:\n",
       "\"\\\\;\\\\;\", nothing)), Set{String}(), nothing, WebIO.Asset[WebIO.Asset(\"js\", nothing, \"/home/dushya/.julia/packages/InteractBase/h8Fwe/src/../assets/katex.min.js\"), WebIO.Asset(\"css\", nothing, \"/home/dushya/.julia/packages/InteractBase/h8Fwe/src/../assets/katex.min.css\")], Dict{Any, Any}(\"value\" => Any[WebIO.JSString(\"(function (txt){return this.k.render(txt,this.container)})\")]), WebIO.ConnectionPool(Channel{Any}(32), Set{WebIO.AbstractConnection}(), Condition(Base.InvasiveLinkedList{Task}(Task (runnable) @0x00007ff553278fe0, Task (runnable) @0x00007ff553278fe0), Base.AlwaysLockedST(1))), WebIO.JSString[WebIO.JSString(\"function () {\\n    var handler = ((function (k){this.k=k; this.container=this.dom.querySelector(\\\"#container\\\"); return k.render(\\\"\\\\\\\\;\\\\\\\\;\\\",this.container)}));\\n    (WebIO.importBlock({\\\"data\\\":[{\\\"name\\\":null,\\\"type\\\":\\\"js\\\",\\\"url\\\":\\\"/assetserver/19a5359bdf5fe26635c6a9c98bbe8dc477c9d18e-katex.min.js\\\"},{\\\"name\\\":null,\\\"type\\\":\\\"css\\\",\\\"url\\\":\\\"/assetserver/510a04dfddb84bc394dc07fffef4a63cac393c2d-katex.min.css\\\"}],\\\"type\\\":\\\"async_block\\\"})).then((imports) => handler.apply(this, imports));\\n}\\n\")])], Dict{Symbol, Any}(:className => \"interact-widget\")), WebIO.Node{WebIO.DOM}(WebIO.DOM(:html, :div), Any[WebIO.Scope(WebIO.Node{WebIO.DOM}(WebIO.DOM(:html, :button), Any[\"save\"], Dict{Symbol, Any}(:attributes => Dict{Any, Any}(\"data-bind\" => \"click: function (){this.clicks(this.clicks()+1)}, css: {'is-loading' : loading}\"), :className => \"is-medium button is-primary\", :style => Dict{String, Any}())), Dict{String, Tuple{Observables.AbstractObservable, Union{Nothing, Bool}}}(\"loading\" => (Observable{Bool} with 1 listeners. Value:\n",
       "false, nothing), \"clicks\" => (Observable{Int64} with 2 listeners. Value:\n",
       "0, nothing)), Set{String}(), nothing, WebIO.Asset[WebIO.Asset(\"js\", \"knockout\", \"/home/dushya/.julia/packages/Knockout/3gjS1/src/../assets/knockout.js\"), WebIO.Asset(\"js\", \"knockout_punches\", \"/home/dushya/.julia/packages/Knockout/3gjS1/src/../assets/knockout_punches.js\"), WebIO.Asset(\"js\", nothing, \"/home/dushya/.julia/packages/InteractBase/h8Fwe/src/../assets/all.js\"), WebIO.Asset(\"css\", nothing, \"/home/dushya/.julia/packages/InteractBase/h8Fwe/src/../assets/style.css\"), WebIO.Asset(\"css\", nothing, \"/home/dushya/.julia/packages/Interact/pVyN2/src/../assets/bulma_confined.min.css\")], Dict{Any, Any}(\"loading\" => Any[WebIO.JSString(\"(function (val){return (val!=this.model[\\\"loading\\\"]()) ? (this.valueFromJulia[\\\"loading\\\"]=true, this.model[\\\"loading\\\"](val)) : undefined})\")], \"clicks\" => Any[WebIO.JSString(\"(function (val){return (val!=this.model[\\\"clicks\\\"]()) ? (this.valueFromJulia[\\\"clicks\\\"]=true, this.model[\\\"clicks\\\"](val)) : undefined})\")]), WebIO.ConnectionPool(Channel{Any}(32), Set{WebIO.AbstractConnection}(), Condition(Base.InvasiveLinkedList{Task}(Task (runnable) @0x00007ff55169c740, Task (runnable) @0x00007ff55169c740), Base.AlwaysLockedST(1))), WebIO.JSString[WebIO.JSString(\"function () {\\n    var handler = (function (ko, koPunches) {\\n    ko.punches.enableAll();\\n    ko.bindingHandlers.numericValue = {\\n        init: function(element, valueAccessor, allBindings, data, context) {\\n            var stringified = ko.observable(ko.unwrap(valueAccessor()));\\n            stringified.subscribe(function(value) {\\n                var val = parseFloat(value);\\n                if (!isNaN(val)) {\\n                    valueAccessor()(val);\\n                }\\n            });\\n            valueAccessor().subscribe(function(value) {\\n                var str = JSON.stringify(value);\\n                if ((str == \\\"0\\\") && ([\\\"-0\\\", \\\"-0.\\\"].indexOf(stringified()) >= 0))\\n                     return;\\n                 if ([\\\"null\\\", \\\"\\\"].indexOf(str) >= 0)\\n                     return;\\n                stringified(str);\\n            });\\n            ko.applyBindingsToNode(\\n                element,\\n                {\\n                    value: stringified,\\n                    valueUpdate: allBindings.get('valueUpdate'),\\n                },\\n                context,\\n            );\\n        }\\n    };\\n    var json_data = {\\\"loading\\\":WebIO.getval({\\\"name\\\":\\\"loading\\\",\\\"scope\\\":\\\"5003532142112440537\\\",\\\"id\\\":\\\"8218770428970883678\\\",\\\"type\\\":\\\"observable\\\"}),\\\"clicks\\\":WebIO.getval({\\\"name\\\":\\\"clicks\\\",\\\"scope\\\":\\\"5003532142112440537\\\",\\\"id\\\":\\\"9378668951723895161\\\",\\\"type\\\":\\\"observable\\\"})};\\n    var self = this;\\n    function AppViewModel() {\\n        for (var key in json_data) {\\n            var el = json_data[key];\\n            this[key] = Array.isArray(el) ? ko.observableArray(el) : ko.observable(el);\\n        }\\n        \\n        \\n        [this[\\\"loading\\\"].subscribe((function (val){!(this.valueFromJulia[\\\"loading\\\"]) ? (WebIO.setval({\\\"name\\\":\\\"loading\\\",\\\"scope\\\":\\\"5003532142112440537\\\",\\\"id\\\":\\\"8218770428970883678\\\",\\\"type\\\":\\\"observable\\\"},val)) : undefined; return this.valueFromJulia[\\\"loading\\\"]=false}),self),this[\\\"clicks\\\"].subscribe((function (val){!(this.valueFromJulia[\\\"clicks\\\"]) ? (WebIO.setval({\\\"name\\\":\\\"clicks\\\",\\\"scope\\\":\\\"5003532142112440537\\\",\\\"id\\\":\\\"9378668951723895161\\\",\\\"type\\\":\\\"observable\\\"},val)) : undefined; return this.valueFromJulia[\\\"clicks\\\"]=false}),self)]\\n        \\n    }\\n    self.model = new AppViewModel();\\n    self.valueFromJulia = {};\\n    for (var key in json_data) {\\n        self.valueFromJulia[key] = false;\\n    }\\n    ko.applyBindings(self.model, self.dom);\\n}\\n);\\n    (WebIO.importBlock({\\\"data\\\":[{\\\"name\\\":\\\"knockout\\\",\\\"type\\\":\\\"js\\\",\\\"url\\\":\\\"/assetserver/c1499ba55a1bc421a61388a1d89a415fc6dcc13c-knockout.js\\\"},{\\\"name\\\":\\\"knockout_punches\\\",\\\"type\\\":\\\"js\\\",\\\"url\\\":\\\"/assetserver/f9c6b7aff92992a2d2baddb2c82a79fb8b3956c2-knockout_punches.js\\\"}],\\\"type\\\":\\\"async_block\\\"})).then((imports) => handler.apply(this, imports));\\n}\\n\")])], Dict{Symbol, Any}(:className => \"field interact-widget\"))], Dict{Symbol, Any}(:style => Dict(\"display\" => \"flex\", \"flex-direction\" => \"row\")))], Dict{Symbol, Any}(:style => Dict(\"display\" => \"flex\", \"flex-direction\" => \"column\"))), WebIO.Node{WebIO.DOM}(WebIO.DOM(:html, :div), Any[WebIO.Scope(WebIO.Node{WebIO.DOM}(WebIO.DOM(:html, :div), Any[], Dict{Symbol, Any}(:id => \"container\")), Dict{String, Tuple{Observables.AbstractObservable, Union{Nothing, Bool}}}(\"value\" => (Observable{String} with 1 listeners. Value:\n",
       "\"\\\\;\\\\;\", nothing)), Set{String}(), nothing, WebIO.Asset[WebIO.Asset(\"js\", nothing, \"/home/dushya/.julia/packages/InteractBase/h8Fwe/src/../assets/katex.min.js\"), WebIO.Asset(\"css\", nothing, \"/home/dushya/.julia/packages/InteractBase/h8Fwe/src/../assets/katex.min.css\")], Dict{Any, Any}(\"value\" => Any[WebIO.JSString(\"(function (txt){return this.k.render(txt,this.container)})\")]), WebIO.ConnectionPool(Channel{Any}(32), Set{WebIO.AbstractConnection}(), Condition(Base.InvasiveLinkedList{Task}(Task (runnable) @0x00007ff553278fe0, Task (runnable) @0x00007ff553278fe0), Base.AlwaysLockedST(1))), WebIO.JSString[WebIO.JSString(\"function () {\\n    var handler = ((function (k){this.k=k; this.container=this.dom.querySelector(\\\"#container\\\"); return k.render(\\\"\\\\\\\\;\\\\\\\\;\\\",this.container)}));\\n    (WebIO.importBlock({\\\"data\\\":[{\\\"name\\\":null,\\\"type\\\":\\\"js\\\",\\\"url\\\":\\\"/assetserver/19a5359bdf5fe26635c6a9c98bbe8dc477c9d18e-katex.min.js\\\"},{\\\"name\\\":null,\\\"type\\\":\\\"css\\\",\\\"url\\\":\\\"/assetserver/510a04dfddb84bc394dc07fffef4a63cac393c2d-katex.min.css\\\"}],\\\"type\\\":\\\"async_block\\\"})).then((imports) => handler.apply(this, imports));\\n}\\n\")])], Dict{Symbol, Any}(:className => \"interact-widget\")), Observable{Luxor.Drawing} with 0 listeners. Value:\n",
       "Luxor.Drawing(410.0, 410.0, \"\", Cairo.CairoSurfaceBase{UInt32}(Ptr{Nothing} @0x0000000000000000, 410.0, 410.0), Cairo.CairoContext(Ptr{Nothing} @0x000000000f0cc910, Cairo.CairoSurfaceBase{UInt32}(Ptr{Nothing} @0x0000000000000000, 410.0, 410.0), Ptr{Nothing} @0x000000000f1b4320), :png, 0.0, 0.0, 0.0, 1.0, IOBuffer(data=UInt8[...], readable=true, writable=true, seekable=true, append=false, size=21060, maxsize=Inf, ptr=21061, mark=-1), UInt8[0x89, 0x50, 0x4e, 0x47, 0x0d, 0x0a, 0x1a, 0x0a, 0x00, 0x00  …  0x00, 0x00, 0x49, 0x45, 0x4e, 0x44, 0xae, 0x42, 0x60, 0x82], false), WebIO.Node{WebIO.DOM}(WebIO.DOM(:html, :div), Any[WebIO.Scope(WebIO.Node{WebIO.DOM}(WebIO.DOM(:html, :div), Any[], Dict{Symbol, Any}(:id => \"container\")), Dict{String, Tuple{Observables.AbstractObservable, Union{Nothing, Bool}}}(\"value\" => (Observable{String} with 1 listeners. Value:\n",
       "\"\\\\;\\\\;\", nothing)), Set{String}(), nothing, WebIO.Asset[WebIO.Asset(\"js\", nothing, \"/home/dushya/.julia/packages/InteractBase/h8Fwe/src/../assets/katex.min.js\"), WebIO.Asset(\"css\", nothing, \"/home/dushya/.julia/packages/InteractBase/h8Fwe/src/../assets/katex.min.css\")], Dict{Any, Any}(\"value\" => Any[WebIO.JSString(\"(function (txt){return this.k.render(txt,this.container)})\")]), WebIO.ConnectionPool(Channel{Any}(32), Set{WebIO.AbstractConnection}(), Condition(Base.InvasiveLinkedList{Task}(Task (runnable) @0x00007ff553278fe0, Task (runnable) @0x00007ff553278fe0), Base.AlwaysLockedST(1))), WebIO.JSString[WebIO.JSString(\"function () {\\n    var handler = ((function (k){this.k=k; this.container=this.dom.querySelector(\\\"#container\\\"); return k.render(\\\"\\\\\\\\;\\\\\\\\;\\\",this.container)}));\\n    (WebIO.importBlock({\\\"data\\\":[{\\\"name\\\":null,\\\"type\\\":\\\"js\\\",\\\"url\\\":\\\"/assetserver/19a5359bdf5fe26635c6a9c98bbe8dc477c9d18e-katex.min.js\\\"},{\\\"name\\\":null,\\\"type\\\":\\\"css\\\",\\\"url\\\":\\\"/assetserver/510a04dfddb84bc394dc07fffef4a63cac393c2d-katex.min.css\\\"}],\\\"type\\\":\\\"async_block\\\"})).then((imports) => handler.apply(this, imports));\\n}\\n\")])], Dict{Symbol, Any}(:className => \"interact-widget\")), WebIO.Node{WebIO.DOM}(WebIO.DOM(:html, :div), Any[], Dict{Symbol, Any}(:style => Dict(\"display\" => \"flex\", \"flex-direction\" => \"column\")))], Dict{Symbol, Any}(:style => Dict(\"display\" => \"flex\", \"flex-direction\" => \"row\")))], Dict{Symbol, Any}(:style => Dict(\"display\" => \"flex\", \"flex-direction\" => \"column\")))"
      ]
     },
     "execution_count": 40,
     "metadata": {
      "application/vnd.webio.node+json": {
       "kernelId": "3400797b-3ab4-40d9-94d1-e32b2d735956"
      }
     },
     "output_type": "execute_result"
    }
   ],
   "source": [
    "animate_sim(model)"
   ]
  },
  {
   "cell_type": "code",
   "execution_count": null,
   "metadata": {},
   "outputs": [],
   "source": []
  }
 ],
 "metadata": {
  "@webio": {
   "lastCommId": "c7dfdebd7d2c4baa80af0e538fa4ab47",
   "lastKernelId": "3400797b-3ab4-40d9-94d1-e32b2d735956"
  },
  "kernelspec": {
   "display_name": "Julia 1.7.2",
   "language": "julia",
   "name": "julia-1.7"
  },
  "language_info": {
   "file_extension": ".jl",
   "mimetype": "application/julia",
   "name": "julia",
   "version": "1.7.2"
  }
 },
 "nbformat": 4,
 "nbformat_minor": 4
}
