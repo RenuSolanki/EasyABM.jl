{
 "cells": [
  {
   "cell_type": "markdown",
   "metadata": {},
   "source": [
    "# Ising model on a nearest neighbor random graph\n",
    "This is another example including Ising model where the underlying graph is a random nearest neighbor graph on plane. "
   ]
  },
  {
   "cell_type": "code",
   "execution_count": null,
   "metadata": {
    "scrolled": true
   },
   "outputs": [],
   "source": [
    "using Pkg, Revise\n",
    "Pkg.activate(joinpath(@__DIR__, \"../..\"))\n",
    "using EasyABM"
   ]
  },
  {
   "cell_type": "markdown",
   "metadata": {},
   "source": [
    "## Step 1: Create Model\n",
    "\n",
    "In this model we will work solely with the graph and won't reuire agents. We initially create an empty graph and then create our model as follows. "
   ]
  },
  {
   "cell_type": "code",
   "execution_count": null,
   "metadata": {},
   "outputs": [],
   "source": [
    "graph = dynamic_simple_graph(0)"
   ]
  },
  {
   "cell_type": "code",
   "execution_count": null,
   "metadata": {
    "scrolled": true
   },
   "outputs": [],
   "source": [
    "model = create_graph_model(graph, temp = 0.1, coupl = 1.0, nns = 5)"
   ]
  },
  {
   "cell_type": "markdown",
   "metadata": {},
   "source": [
    "## Step 2: Initialise the model\n",
    "\n",
    " In the `initialiser!` function we create a list of n = 500 random points in the plane and fill our graph with n nodes and set the position of ith node to the ith random point. We then link each node to its `nns` number of nearest neighbors and randomly set each node's color to either `:black` or `:white` and set spin value to +1 for `:black` nodes and -1 for `:white` nodes. In the `init_model!` function the argument `props_to_record` specifies the nodes properties which we want to record during model run. "
   ]
  },
  {
   "cell_type": "code",
   "execution_count": null,
   "metadata": {},
   "outputs": [],
   "source": [
    "using NearestNeighbors"
   ]
  },
  {
   "cell_type": "code",
   "execution_count": null,
   "metadata": {},
   "outputs": [],
   "source": [
    "const n=500;"
   ]
  },
  {
   "cell_type": "code",
   "execution_count": null,
   "metadata": {},
   "outputs": [],
   "source": [
    "function initialiser!(model)\n",
    "    vecs = rand(2, n)\n",
    "    kdtree = KDTree(vecs,leafsize=4)\n",
    "    flush_graph!(model)\n",
    "    add_nodes!(n, model, color = :black, spin =1)\n",
    "    for i in 1:n \n",
    "        model.graph.nodesprops[i].pos = (vecs[1,i], vecs[2,i]) # set position of nodes\n",
    "        indices, _ = knn(kdtree, vecs[:,i], model.parameters.nns, true)\n",
    "        for j in indices\n",
    "            if j!=i\n",
    "                create_edge!(i,j, model)\n",
    "            end\n",
    "        end\n",
    "        if rand()<0.5\n",
    "            model.graph.nodesprops[i].spin = 1\n",
    "            model.graph.nodesprops[i].color = :black\n",
    "        else\n",
    "            model.graph.nodesprops[i].spin = -1\n",
    "            model.graph.nodesprops[i].color = :white\n",
    "        end\n",
    "    end\n",
    "end"
   ]
  },
  {
   "cell_type": "code",
   "execution_count": null,
   "metadata": {},
   "outputs": [],
   "source": [
    "init_model!(model, initialiser= initialiser!, props_to_record = Dict(\"nodes\"=>[:color, :spin]))"
   ]
  },
  {
   "cell_type": "code",
   "execution_count": null,
   "metadata": {},
   "outputs": [],
   "source": [
    "draw_graph(model.graph)"
   ]
  },
  {
   "cell_type": "code",
   "execution_count": null,
   "metadata": {},
   "outputs": [],
   "source": [
    "function step_rule!(model)\n",
    "    for i in 1:100\n",
    "        random_node = rand(1:n)\n",
    "        spin = model.graph.nodesprops[random_node].spin\n",
    "        nbr_nodes = neighbor_nodes(random_node, model)\n",
    "        de = 0.0\n",
    "        for node in nbr_nodes\n",
    "            nbr_spin = model.graph.nodesprops[node].spin\n",
    "            de += spin*nbr_spin\n",
    "        end\n",
    "        de = 2*model.parameters.coupl * de\n",
    "        if (de < 0) || (rand() < exp(-de/model.parameters.temp))\n",
    "            model.graph.nodesprops[random_node].spin = - spin\n",
    "            model.graph.nodesprops[random_node].color = spin == -1 ? :black : :white\n",
    "        end\n",
    "    end\n",
    "end"
   ]
  },
  {
   "cell_type": "markdown",
   "metadata": {},
   "source": [
    "## Step 3: Run the model\n",
    "\n",
    "In this step we implement the step logic of the Ising model in the `step_rule!` function and run the model for 100 steps. At each step of the simulation we take \n",
    "100 Monte Carlo steps, where in each Monte Carlo step a node is selected at random and its spin and color values are flipped is the Ising energy condition is satisfied. "
   ]
  },
  {
   "cell_type": "code",
   "execution_count": null,
   "metadata": {},
   "outputs": [],
   "source": [
    "run_model!(model, steps = 100, step_rule = step_rule!)"
   ]
  },
  {
   "cell_type": "code",
   "execution_count": null,
   "metadata": {},
   "outputs": [],
   "source": [
    "animate_sim(model)"
   ]
  },
  {
   "cell_type": "markdown",
   "metadata": {},
   "source": [
    "![png](assets/NNSIsing/NNSIsingAnim1.png)"
   ]
  },
  {
   "cell_type": "markdown",
   "metadata": {},
   "source": [
    "After defining the `step_rule!` function we can also choose to create an interactive application (which currently works in Jupyter with WebIO installation) as "
   ]
  },
  {
   "cell_type": "code",
   "execution_count": null,
   "metadata": {},
   "outputs": [],
   "source": [
    "create_interactive_app(model, initialiser= initialiser!,\n",
    "    props_to_record = Dict(\"nodes\"=>[:color, :spin]),\n",
    "    step_rule= step_rule!,\n",
    "    model_controls=[(:temp, :s, 0.05:0.05:5.0), \n",
    "        (:coupl, :s, 0.01:0.1:5.0),\n",
    "        (:nns, :s, 2:10)],\n",
    "    node_plots = Dict(\"magnetisation\"=> x -> x.spin),\n",
    "    frames=100) "
   ]
  },
  {
   "cell_type": "markdown",
   "metadata": {},
   "source": [
    "![png](assets/NNSIsing/NNSIsingIntApp.png)"
   ]
  },
  {
   "cell_type": "markdown",
   "metadata": {},
   "source": [
    "## Step 4: Fetch Data \n",
    "\n",
    "In this step we fetch the data of average spin of nodes (also called magnetisation) and plot the result as follows."
   ]
  },
  {
   "cell_type": "code",
   "execution_count": null,
   "metadata": {},
   "outputs": [],
   "source": [
    "df = get_nodes_avg_props(model, node -> node.spin, labels=[\"magnetisation\"], plot_result = true)"
   ]
  },
  {
   "cell_type": "markdown",
   "metadata": {},
   "source": [
    "![png](assets/NNSIsing/NNSIsingPlot1.png)"
   ]
  },
  {
   "cell_type": "code",
   "execution_count": null,
   "metadata": {},
   "outputs": [],
   "source": []
  }
 ],
 "metadata": {
  "@webio": {
   "lastCommId": "2164883bde30491a8cd0325d77943ee1",
   "lastKernelId": "5b0f1b58-436c-47eb-9e21-d53556f0a0a5"
  },
  "kernelspec": {
   "display_name": "Julia 1.7.2",
   "language": "julia",
   "name": "julia-1.7"
  },
  "language_info": {
   "file_extension": ".jl",
   "mimetype": "application/julia",
   "name": "julia",
   "version": "1.7.2"
  }
 },
 "nbformat": 4,
 "nbformat_minor": 4
}
